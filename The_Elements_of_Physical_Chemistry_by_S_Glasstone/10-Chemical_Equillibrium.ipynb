{
"cells": [
 {
		   "cell_type": "markdown",
	   "metadata": {},
	   "source": [
       "# Chapter 10: Chemical Equillibrium"
	   ]
	},
{
		   "cell_type": "markdown",
		   "metadata": {},
		   "source": [
			"## Example 10.10: ex_10.sce"
		   ]
		  },
  {
"cell_type": "code",
	   "execution_count": null,
	   "metadata": {
	    "collapsed": true
	   },
	   "outputs": [],
"source": [
"clc\n",
"//Intitalisation of variables\n",
"clear\n",
"p1= 141 //mm\n",
"p2= 387 //mm\n",
"n1= 2 //moles\n",
"n2= 1 //moles\n",
"T1= 653 //K\n",
"T2= 693 //K\n",
"x1= 159.6 //mm\n",
"//CALCULATIONS\n",
"Phg= 2*p1/3\n",
"Po2= 0.5*Phg\n",
"Phg1= 2*p2/3\n",
"Po21= 0.5*Phg1\n",
"Kp1= Phg^2*Po2\n",
"Kp2= Phg1^2*Po21\n",
"dH= log10(Kp2/Kp1)*4.576*T1*T2/(T2-T1)\n",
"Kp3= (x1*2)^2*x1\n",
"T3= 1/((log10(Kp1/Kp3)*4.576/(dH+9))+(1/T1))\n",
"T4= T3-273\n",
"//RESULTS\n",
"printf ('PHg = %.f mm',Phg)\n",
"printf ('\n PO2 = %.f mm',Po2)\n",
"printf ('\n PHg = %.f mm',Phg1)\n",
"printf ('\n PO2 = %.f mm',Po21)\n",
"printf ('\n Kp1 = %.2e',Kp1)\n",
"printf ('\n Kp2 = %.2e',Kp2)\n",
"printf ('\n dH = %.f cal',dH+9)\n",
"printf ('\n T3 = %.f K',T3)\n",
"printf ('\n T4 = %.f C',T4)"
   ]
   }
,
{
		   "cell_type": "markdown",
		   "metadata": {},
		   "source": [
			"## Example 10.1: ex_1.sce"
		   ]
		  },
  {
"cell_type": "code",
	   "execution_count": null,
	   "metadata": {
	    "collapsed": true
	   },
	   "outputs": [],
"source": [
"clc\n",
"//Intitalisation of variables\n",
"clear\n",
"Kp= 1.44*10^-5 //atm\n",
"R= 0.082 //lit-atm mole^-1 deg^-1\n",
"T= 500 //C\n",
"//CALCULATIONS\n",
"Kc= Kp/((273+T)*R)^-2\n",
"//RESULTS\n",
"printf ('Kc = %.2e moles per litre ',Kc)"
   ]
   }
,
{
		   "cell_type": "markdown",
		   "metadata": {},
		   "source": [
			"## Example 10.2: ex_2.sce"
		   ]
		  },
  {
"cell_type": "code",
	   "execution_count": null,
	   "metadata": {
	    "collapsed": true
	   },
	   "outputs": [],
"source": [
"clc\n",
"//Intitalisation of variables\n",
"clear\n",
"n1= 2.16*10^-2 //mole\n",
"n2= 2.46*10^-2 //mole\n",
"//CALCULATIONS\n",
"y= (n1+n2)/2\n",
"//RESULTS\n",
"printf ('moles of HI present = %.2e mole ',y)"
   ]
   }
,
{
		   "cell_type": "markdown",
		   "metadata": {},
		   "source": [
			"## Example 10.3: ex_3.sce"
		   ]
		  },
  {
"cell_type": "code",
	   "execution_count": null,
	   "metadata": {
	    "collapsed": true
	   },
	   "outputs": [],
"source": [
"clc\n",
"//Intitalisation of variables\n",
"clear\n",
"kc= 0.719\n",
"T= 1000 //K\n",
"n= 1 //mole\n",
"//CALCULATIONS\n",
"r= sqrt(kc)\n",
"p= r*100/(2*r+2*n)\n",
"p1= 50-p\n",
"//RESULTS\n",
"printf ('CO precentage = %.2f per cent ',p)\n",
"printf ('\n H2O precentage = %.2f per cent ',p)\n",
"printf ('\n CO2 precentage = %.2f per cent ',p1)\n",
"printf ('\n HH2 precentage = %.2f per cent ',p1)"
   ]
   }
,
{
		   "cell_type": "markdown",
		   "metadata": {},
		   "source": [
			"## Example 10.4: ex_4.sce"
		   ]
		  },
  {
"cell_type": "code",
	   "execution_count": null,
	   "metadata": {
	    "collapsed": true
	   },
	   "outputs": [],
"source": [
"clc\n",
"//Intitalisation of variables\n",
"clear\n",
"Kp =0.315 \n",
"P= 10 //atm\n",
"//CALCULATIONS\n",
"a= sqrt(Kp/(4*P+Kp))\n",
"//RESULTS\n",
"printf ('Fraction of dissociation = %.4f  ',a)"
   ]
   }
,
{
		   "cell_type": "markdown",
		   "metadata": {},
		   "source": [
			"## Example 10.5: ex_5.sce"
		   ]
		  },
  {
"cell_type": "code",
	   "execution_count": null,
	   "metadata": {
	    "collapsed": true
	   },
	   "outputs": [],
"source": [
"clc\n",
"//Intitalisation of variables\n",
"clear\n",
"p= 10 //atm\n",
"x1= 0.012\n",
"x2= 0.104\n",
"//CALCULATIONS\n",
"kp1= 256*x1^2/(27*(1-x1)^4*p^2)\n",
"p1= sqrt(256*x2^2/(kp1*27*(1-x2)^4))\n",
"//RESULTS\n",
"printf ('Kp = %.2e  ',kp1)\n",
"printf ('\n Pressure at equillibrium = %.f atm  ',p1)"
   ]
   }
,
{
		   "cell_type": "markdown",
		   "metadata": {},
		   "source": [
			"## Example 10.6: ex_6.sce"
		   ]
		  },
  {
"cell_type": "code",
	   "execution_count": null,
	   "metadata": {
	    "collapsed": true
	   },
	   "outputs": [],
"source": [
"clc\n",
"//Intitalisation of variables\n",
"clear\n",
"Kp= 1.78 //atm\n",
"n= 0.04 //mole\n",
"p= 2 //atm\n",
"x= 0.041\n",
"v= 4 //lit\n",
"x1= 0.0692\n",
"//CALCULATIONS\n",
"y= x/p\n",
"a= y/n\n",
"y1= x1/v\n",
"a1= y1/x\n",
"//RESULTS\n",
"printf ('Number of moles = %.4f moles',y)\n",
"printf ('\n Fraction of dissociation = %.3f ',a)\n",
"printf ('\n Number of moles = %.4f moles',y1)\n",
"printf ('\n Fraction of dissociation = %.3f ',a1+0.01)"
   ]
   }
,
{
		   "cell_type": "markdown",
		   "metadata": {},
		   "source": [
			"## Example 10.7: ex_7.sce"
		   ]
		  },
  {
"cell_type": "code",
	   "execution_count": null,
	   "metadata": {
	    "collapsed": true
	   },
	   "outputs": [],
"source": [
"clc\n",
"//Intitalisation of variables\n",
"clear\n",
"Kx= 4\n",
"y1= 7.8 //per cent\n",
"//CALCULATIONS\n",
"y= ((2*(Kx+1)-sqrt(4*(Kx+1)^2-4*(Kx-1)*Kx))*100/(2*(Kx-1)))+y1\n",
"//RESULTS\n",
"printf ('per cent of acid that is esterified = %.1f per cent ',y)"
   ]
   }
,
{
		   "cell_type": "markdown",
		   "metadata": {},
		   "source": [
			"## Example 10.8: ex_8.sce"
		   ]
		  },
  {
"cell_type": "code",
	   "execution_count": null,
	   "metadata": {
	    "collapsed": true
	   },
	   "outputs": [],
"source": [
"clc\n",
"//Intitalisation of variables\n",
"clear\n",
"Kc= 1.08*10^-5 \n",
"n= 2 //moles\n",
"v= 0.45 //lit\n",
"n1= 0.5 //mole\n",
"//CALCULATIONS\n",
"y= (-Kc*v+sqrt(Kc^2*v^2+4*Kc*v*n1*n^2))/(2*n^2)\n",
"c= 2*y/v\n",
"//RESULTS\n",
"printf ('y = %.2e mole',y)\n",
"printf ('\n concentration of NO2 = %.2e mole per liter',c)"
   ]
   }
,
{
		   "cell_type": "markdown",
		   "metadata": {},
		   "source": [
			"## Example 10.9: ex_9.sce"
		   ]
		  },
  {
"cell_type": "code",
	   "execution_count": null,
	   "metadata": {
	    "collapsed": true
	   },
	   "outputs": [],
"source": [
"clc\n",
"//Intitalisation of variables\n",
"clear\n",
"T1= 500 //C\n",
"T2= 400 //C\n",
"kp1= 1.64*10^-4\n",
"kp2= 0.144*10^-4\n",
"R= 4.576 //cal\n",
"//CALCULATIONS\n",
"dH= (log10(kp2)-log10(kp1))*R*(273+T1)*0.5*(273+T2)/(T1-T2)\n",
"//RESULTS\n",
"printf ('Heat of formation of one mole of Nh3 = %.f cal ',dH+5)"
   ]
   }
],
"metadata": {
		  "kernelspec": {
		   "display_name": "Scilab",
		   "language": "scilab",
		   "name": "scilab"
		  },
		  "language_info": {
		   "file_extension": ".sce",
		   "help_links": [
			{
			 "text": "MetaKernel Magics",
			 "url": "https://github.com/calysto/metakernel/blob/master/metakernel/magics/README.md"
			}
		   ],
		   "mimetype": "text/x-octave",
		   "name": "scilab",
		   "version": "0.7.1"
		  }
		 },
		 "nbformat": 4,
		 "nbformat_minor": 0
}
