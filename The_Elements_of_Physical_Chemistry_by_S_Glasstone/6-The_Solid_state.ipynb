{
"cells": [
 {
		   "cell_type": "markdown",
	   "metadata": {},
	   "source": [
       "# Chapter 6: The Solid state"
	   ]
	},
{
		   "cell_type": "markdown",
		   "metadata": {},
		   "source": [
			"## Example 6.1: ex_1.sce"
		   ]
		  },
  {
"cell_type": "code",
	   "execution_count": null,
	   "metadata": {
	    "collapsed": true
	   },
	   "outputs": [],
"source": [
"clc\n",
"//Intitalisation of variables\n",
"clear\n",
"d1= 5.9 //deg\n",
"d2= 5.3 //deg\n",
"//CALCULATIONS\n",
"r= sind(d1)/sind(d2)\n",
"vr= r^3\n",
"//RESULTS\n",
"printf ('Ratio of inter planar distance = %.2f ',r)\n",
"printf ('\n Ratio of volumes = %.2f ',vr)"
   ]
   }
,
{
		   "cell_type": "markdown",
		   "metadata": {},
		   "source": [
			"## Example 6.2: ex_2.sce"
		   ]
		  },
  {
"cell_type": "code",
	   "execution_count": null,
	   "metadata": {
	    "collapsed": true
	   },
	   "outputs": [],
"source": [
"clc\n",
"//Intitalisation of variables\n",
"clear\n",
"svl= 1.0001 //cc/gram\n",
"svi= 1.0907 //cc/gram\n",
"T= 0//C\n",
"Hf= 79.8 //cal/gram\n",
"p= 76 //mm\n",
"sp= 13.595\n",
"g= 980.7 //cm/sec^2\n",
"//CALCULATIONS\n",
"r= -(273.2+T)*(svl-svi)*p*sp*g/(Hf*4.184*10^7)\n",
"//RESULTS\n",
"printf ('Decrease in melting point = %.4f per atm',r)"
   ]
   }
],
"metadata": {
		  "kernelspec": {
		   "display_name": "Scilab",
		   "language": "scilab",
		   "name": "scilab"
		  },
		  "language_info": {
		   "file_extension": ".sce",
		   "help_links": [
			{
			 "text": "MetaKernel Magics",
			 "url": "https://github.com/calysto/metakernel/blob/master/metakernel/magics/README.md"
			}
		   ],
		   "mimetype": "text/x-octave",
		   "name": "scilab",
		   "version": "0.7.1"
		  }
		 },
		 "nbformat": 4,
		 "nbformat_minor": 0
}
