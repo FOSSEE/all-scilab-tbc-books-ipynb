{
"cells": [
 {
		   "cell_type": "markdown",
	   "metadata": {},
	   "source": [
       "# Chapter 19: PhotoChemistry"
	   ]
	},
{
		   "cell_type": "markdown",
		   "metadata": {},
		   "source": [
			"## Example 19.1: ex_1.sce"
		   ]
		  },
  {
"cell_type": "code",
	   "execution_count": null,
	   "metadata": {
	    "collapsed": true
	   },
	   "outputs": [],
"source": [
"clc\n",
"//Intitalisation of variables\n",
"clear\n",
"t= 5 //cm\n",
"c= 0.01 //M\n",
"ir= 0.245\n",
"//CALCULATIONS\n",
"e= -log10(ir)/(t*c)\n",
"//RESULTS\n",
"printf ('Extinction coefficient = %.2f ',e)"
   ]
   }
,
{
		   "cell_type": "markdown",
		   "metadata": {},
		   "source": [
			"## Example 19.2: ex_2.sce"
		   ]
		  },
  {
"cell_type": "code",
	   "execution_count": null,
	   "metadata": {
	    "collapsed": true
	   },
	   "outputs": [],
"source": [
"clc\n",
"//Intitalisation of variables\n",
"clear\n",
"w= 2540 //A\n",
"v= 10 //ml\n",
"c= 0.0495 //M\n",
"a= 8.81*10^8 //ergs\n",
"c1= 0.0383 //M\n",
"n= 1.12*10^-4 //moles\n",
"n1= 2.859 //moles\n",
"//CALCULATIONS\n",
"qy= n*n1*4.184*10^15/(a*w)\n",
"//RESULTS\n",
"printf ('Quantum yield = %.3f ',qy)"
   ]
   }
],
"metadata": {
		  "kernelspec": {
		   "display_name": "Scilab",
		   "language": "scilab",
		   "name": "scilab"
		  },
		  "language_info": {
		   "file_extension": ".sce",
		   "help_links": [
			{
			 "text": "MetaKernel Magics",
			 "url": "https://github.com/calysto/metakernel/blob/master/metakernel/magics/README.md"
			}
		   ],
		   "mimetype": "text/x-octave",
		   "name": "scilab",
		   "version": "0.7.1"
		  }
		 },
		 "nbformat": 4,
		 "nbformat_minor": 0
}
