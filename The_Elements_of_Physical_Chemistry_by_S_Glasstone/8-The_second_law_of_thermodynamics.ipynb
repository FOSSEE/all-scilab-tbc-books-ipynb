{
"cells": [
 {
		   "cell_type": "markdown",
	   "metadata": {},
	   "source": [
       "# Chapter 8: The second law of thermodynamics"
	   ]
	},
{
		   "cell_type": "markdown",
		   "metadata": {},
		   "source": [
			"## Example 8.1: ex_1.sce"
		   ]
		  },
  {
"cell_type": "code",
	   "execution_count": null,
	   "metadata": {
	    "collapsed": true
	   },
	   "outputs": [],
"source": [
"clc\n",
"//Intitalisation of variables\n",
"clear\n",
"k1= 8.04 //cal deg^-1 mole^-1\n",
"k2= 7*10^-4 //cal deg^-2 mole^-1\n",
"k3= 5.1*10^-6 //cal deg^-3 mole^-1 \n",
"T1= 125 //C\n",
"T2= 25 //C\n",
"cv= 8.92 //cal deg^-1 mole^-1\n",
"//CALCULATIONS\n",
"dSp= k1*log((273+T1)/(273+T2))+k2*(T1-T2)+k3*0.5*((273+T1)^2-(273+T2)^2)\n",
"dSp1=  cv*log((273+T1)/(273+T2))\n",
"//RESULTS\n",
"printf ('Increase in entropy = %.2f cal deg^-1 mole^-1',dSp)\n",
"printf ('\n Increase in entropy = %.2f cal deg^-1 mole^-1',dSp1)"
   ]
   }
,
{
		   "cell_type": "markdown",
		   "metadata": {},
		   "source": [
			"## Example 8.2: ex_2.sce"
		   ]
		  },
  {
"cell_type": "code",
	   "execution_count": null,
	   "metadata": {
	    "collapsed": true
	   },
	   "outputs": [],
"source": [
"clc\n",
"//Intitalisation of variables\n",
"clear\n",
"m= 18 //gm\n",
"T= 100 //C\n",
"T1= 0 //C\n",
"hv= 9720 //cal\n",
"s= 0.36 //cal deg^-1 mole^-1\n",
"//CALCULATIONS\n",
"dS= m*log((273+T)/(273+T1))\n",
"dS1= 2*dS+(hv/(273+T))-s\n",
"//RESULTS\n",
"printf ('Increase in entropy = %.2f cal deg^-1 mole^-1',dS)\n",
"printf ('\n Total increase in entropy = %.2f cal deg^-1 mole^-1',dS1)"
   ]
   }
,
{
		   "cell_type": "markdown",
		   "metadata": {},
		   "source": [
			"## Example 8.3: ex_3.sce"
		   ]
		  },
  {
"cell_type": "code",
	   "execution_count": null,
	   "metadata": {
	    "collapsed": true
	   },
	   "outputs": [],
"source": [
"clc\n",
"//Intitalisation of variables\n",
"clear\n",
"T2= 100 //C\n",
"T1= 0 //C\n",
"T3= 357 //C\n",
"T4= 25 //C\n",
"//CALCULATIONS\n",
"e1= (T2-T4)/(273+T2)\n",
"e2= (T3-T4)/(273+T3)\n",
"//RESULTS\n",
"printf ('Efficiency = %.3f ',e1)\n",
"printf ('\n Efficiency = %.3f ',e2)"
   ]
   }
,
{
		   "cell_type": "markdown",
		   "metadata": {},
		   "source": [
			"## Example 8.4: ex_4.sce"
		   ]
		  },
  {
"cell_type": "code",
	   "execution_count": null,
	   "metadata": {
	    "collapsed": true
	   },
	   "outputs": [],
"source": [
"clc\n",
"//Intitalisation of variables\n",
"clear\n",
"R= 1.987 //cal\n",
"T= 25 //C\n",
"p= 23.76 //mm\n",
"//CALCULATIONS\n",
"dF= R*(273.2+T)*log(760/p)\n",
"//RESULTS\n",
"printf ('Free energy change = %.f cal mole^-1',dF+1)"
   ]
   }
],
"metadata": {
		  "kernelspec": {
		   "display_name": "Scilab",
		   "language": "scilab",
		   "name": "scilab"
		  },
		  "language_info": {
		   "file_extension": ".sce",
		   "help_links": [
			{
			 "text": "MetaKernel Magics",
			 "url": "https://github.com/calysto/metakernel/blob/master/metakernel/magics/README.md"
			}
		   ],
		   "mimetype": "text/x-octave",
		   "name": "scilab",
		   "version": "0.7.1"
		  }
		 },
		 "nbformat": 4,
		 "nbformat_minor": 0
}
