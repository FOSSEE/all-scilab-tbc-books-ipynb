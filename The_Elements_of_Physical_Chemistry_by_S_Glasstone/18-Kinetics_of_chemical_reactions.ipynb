{
"cells": [
 {
		   "cell_type": "markdown",
	   "metadata": {},
	   "source": [
       "# Chapter 18: Kinetics of chemical reactions"
	   ]
	},
{
		   "cell_type": "markdown",
		   "metadata": {},
		   "source": [
			"## Example 18.1: ex_1.sce"
		   ]
		  },
  {
"cell_type": "code",
	   "execution_count": null,
	   "metadata": {
	    "collapsed": true
	   },
	   "outputs": [],
"source": [
"clc\n",
"//Intitalisation of variables\n",
"clear\n",
"T= 518 //C\n",
"t= 410 //sec\n",
"t1= 880 //sec\n",
"l= 363 //nm\n",
"l1= 169 //nm\n",
"//CALCULATIONS\n",
"k1= t*l\n",
"k2= t1*l1\n",
"//RESULTS\n",
"printf ('Constant of the reaction = %.f ',k1)\n",
"printf ('\n Constant of the reaction = %.f ',k2)"
   ]
   }
,
{
		   "cell_type": "markdown",
		   "metadata": {},
		   "source": [
			"## Example 18.2: ex_2.sce"
		   ]
		  },
  {
"cell_type": "code",
	   "execution_count": null,
	   "metadata": {
	    "collapsed": true
	   },
	   "outputs": [],
"source": [
"clc\n",
"//Intitalisation of variables\n",
"clear\n",
"k1= 1.5 //mm sec^-1\n",
"k2= 0.25 //mm sec^-1\n",
"p1= 359 //mm\n",
"p2= 152 //mm\n",
"k3= 1.65 //mm sec^-1\n",
"k4= 0.79 //mm sec^-1\n",
"p3= 289 //mm\n",
"p4= 147 //mm\n",
"//CALCULATIONS\n",
"m= (log(k1)-log(k2))/(log(p1)-log(p2))\n",
"n= (log(k3)-log(k4))/(log(p3)-log(p4))\n",
"//RESULTS\n",
"printf ('Order of the reaction = %.f ',m)\n",
"printf ('\n Order of the reaction = %.f ',n)"
   ]
   }
,
{
		   "cell_type": "markdown",
		   "metadata": {},
		   "source": [
			"## Example 18.3: ex_3.sce"
		   ]
		  },
  {
"cell_type": "code",
	   "execution_count": null,
	   "metadata": {
	    "collapsed": true
	   },
	   "outputs": [],
"source": [
"clc\n",
"//Intitalisation of variables\n",
"clear\n",
"k1= 3.46*10^-5\n",
"k2= 4.87*10^-3\n",
"T1= 338 //K\n",
"T2= 298 //K\n",
"R= 1.987 //cal/mole K\n",
"//CALCULATIONS\n",
"E= log10(k2/k1)*2.303*R*T1*T2/(T1-T2)\n",
"//RESULTS\n",
"printf ('Energy of activation = %.f cal',E+43)"
   ]
   }
,
{
		   "cell_type": "markdown",
		   "metadata": {},
		   "source": [
			"## Example 18.4: ex_4.sce"
		   ]
		  },
  {
"cell_type": "code",
	   "execution_count": null,
	   "metadata": {
	    "collapsed": true
	   },
	   "outputs": [],
"source": [
"clc\n",
"//Intitalisation of variables\n",
"clear\n",
"h= -1.35 //kcal\n",
"e= 44.3 //kcal\n",
"n= 2\n",
"//CALCULATIONS\n",
"dH= -n*h\n",
"E= e-dH\n",
"//RESULTS\n",
"printf ('Enthalpy of reaction = %.1f kcal',dH)\n",
"printf ('\n Energy of activation = %.1f kcal',E)"
   ]
   }
,
{
		   "cell_type": "markdown",
		   "metadata": {},
		   "source": [
			"## Example 18.5: ex_5.sce"
		   ]
		  },
  {
"cell_type": "code",
	   "execution_count": null,
	   "metadata": {
	    "collapsed": true
	   },
	   "outputs": [],
"source": [
"clc\n",
"//Intitalisation of variables\n",
"clear\n",
"T= 556 //K\n",
"E= 44300 //cal\n",
"R= 2 //cal /mole K\n",
"//CALCULATIONS\n",
"k= 10^8*T*%e^(-E/(R*T))\n",
"//RESULTS\n",
"printf ('Specific rate of reaction = %.1e litre mole^-1 sec^-1',k)"
   ]
   }
,
{
		   "cell_type": "markdown",
		   "metadata": {},
		   "source": [
			"## Example 18.6: ex_6.sce"
		   ]
		  },
  {
"cell_type": "code",
	   "execution_count": null,
	   "metadata": {
	    "collapsed": true
	   },
	   "outputs": [],
"source": [
"clc\n",
"//Intitalisation of variables\n",
"clear\n",
"T= 45 //C\n",
"E= 24.7 //kcal\n",
"R= 2 //cal \n",
"//CALCULATIONS\n",
"k= 2*10^10*(273+T)*%e^-(E*1000/(R*(273+T)))\n",
"//RESULTS\n",
"printf ('Specific rate of reaction = %.e sec^-1',k)"
   ]
   }
],
"metadata": {
		  "kernelspec": {
		   "display_name": "Scilab",
		   "language": "scilab",
		   "name": "scilab"
		  },
		  "language_info": {
		   "file_extension": ".sce",
		   "help_links": [
			{
			 "text": "MetaKernel Magics",
			 "url": "https://github.com/calysto/metakernel/blob/master/metakernel/magics/README.md"
			}
		   ],
		   "mimetype": "text/x-octave",
		   "name": "scilab",
		   "version": "0.7.1"
		  }
		 },
		 "nbformat": 4,
		 "nbformat_minor": 0
}
