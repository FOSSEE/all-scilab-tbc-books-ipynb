{
"cells": [
 {
		   "cell_type": "markdown",
	   "metadata": {},
	   "source": [
       "# Chapter 17: Surface chemistry and colloids"
	   ]
	},
{
		   "cell_type": "markdown",
		   "metadata": {},
		   "source": [
			"## Example 17.1: ex_1.sce"
		   ]
		  },
  {
"cell_type": "code",
	   "execution_count": null,
	   "metadata": {
	    "collapsed": true
	   },
	   "outputs": [],
"source": [
"clc\n",
"//Intitalisation of variables\n",
"clear\n",
"a= 265 //cm^2\n",
"mw= 256 //gm\n",
"N= 6.02*10^23 //molecules\n",
"m= 5.19*10^-5 //gms\n",
"//CALCULATIONS\n",
"asm= (a*mw)/(N*m)\n",
"//RESULTS\n",
"printf ('Area per single molecule = %.1e cm^2',asm)"
   ]
   }
,
{
		   "cell_type": "markdown",
		   "metadata": {},
		   "source": [
			"## Example 17.2: ex_2.sce"
		   ]
		  },
  {
"cell_type": "code",
	   "execution_count": null,
	   "metadata": {
	    "collapsed": true
	   },
	   "outputs": [],
"source": [
"clc\n",
"//Intitalisation of variables\n",
"clear\n",
"c1= 0.01 //M\n",
"c2= 0.01 //M\n",
"c3= 1 //M\n",
"//CALCULATIONS\n",
"r1= (c1+c2)/c2\n",
"r2= (c3+c2)/c3\n",
"//RESULTS\n",
"printf ('Ratio = %.f ',r1)\n",
"printf ('\n Ratio = %.f ',r2)"
   ]
   }
],
"metadata": {
		  "kernelspec": {
		   "display_name": "Scilab",
		   "language": "scilab",
		   "name": "scilab"
		  },
		  "language_info": {
		   "file_extension": ".sce",
		   "help_links": [
			{
			 "text": "MetaKernel Magics",
			 "url": "https://github.com/calysto/metakernel/blob/master/metakernel/magics/README.md"
			}
		   ],
		   "mimetype": "text/x-octave",
		   "name": "scilab",
		   "version": "0.7.1"
		  }
		 },
		 "nbformat": 4,
		 "nbformat_minor": 0
}
