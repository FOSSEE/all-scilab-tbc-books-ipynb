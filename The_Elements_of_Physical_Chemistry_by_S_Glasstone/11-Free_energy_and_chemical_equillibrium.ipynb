{
"cells": [
 {
		   "cell_type": "markdown",
	   "metadata": {},
	   "source": [
       "# Chapter 11: Free energy and chemical equillibrium"
	   ]
	},
{
		   "cell_type": "markdown",
		   "metadata": {},
		   "source": [
			"## Example 11.1: ex_1.sce"
		   ]
		  },
  {
"cell_type": "code",
	   "execution_count": null,
	   "metadata": {
	    "collapsed": true
	   },
	   "outputs": [],
"source": [
"clc\n",
"//Intitalisation of variables\n",
"clear\n",
"p1= 1 //atm\n",
"p2= 0.1 //atm\n",
"p3= 0.1 //atm\n",
"R= 1.987 //cal mole^-1 K^-1\n",
"T= 2000 //K\n",
"Kp= 1.55*10^7\n",
"//CALCULATIONS\n",
"Qp= p1/(p2^2*p3)\n",
"dF= 2.303*R*T*log10(Qp/Kp)/1000\n",
"dF1= -2.303*R*T*log10(Kp)/1000\n",
"//RESULTS\n",
"printf ('free energy change = %.2f kcal ',dF)\n",
"printf ('\n free energy change = %.2f kcal ',dF1)"
   ]
   }
,
{
		   "cell_type": "markdown",
		   "metadata": {},
		   "source": [
			"## Example 11.2: ex_2.sce"
		   ]
		  },
  {
"cell_type": "code",
	   "execution_count": null,
	   "metadata": {
	    "collapsed": true
	   },
	   "outputs": [],
"source": [
"clc\n",
"//Intitalisation of variables\n",
"clear\n",
"T= 500 //C\n",
"Kp= 1.43*10^-5 //atm\n",
"R= 1.987 //cal\n",
"//CALCULATIONS\n",
"dF= -2.303*R*(273+T)*log10(Kp)\n",
"//RESULTS\n",
"printf ('dF = %.f cal ',dF+3)"
   ]
   }
,
{
		   "cell_type": "markdown",
		   "metadata": {},
		   "source": [
			"## Example 11.3: ex_3.sce"
		   ]
		  },
  {
"cell_type": "code",
	   "execution_count": null,
	   "metadata": {
	    "collapsed": true
	   },
	   "outputs": [],
"source": [
"clc\n",
"//Intitalisation of variables\n",
"clear\n",
"n1= 2 //moles\n",
"n2= 2 //moles\n",
"n3= 1 //mole\n",
"h1= 54.6 //cal\n",
"h2= 7.8 //cal\n",
"h3= -69.6 //cal\n",
"R= 1.987 //cal\n",
"T= 25 //C\n",
"//CALCULATIONS\n",
"dF= -n1*h1-(-n2*h2+n3*h3)\n",
"Kp= 10^(-dF*1000/(2.303*R*(273.2+T)))\n",
"//RESULTS\n",
"printf ('dF = %.f kcal ',dF)\n",
"printf ('\n equillibrium constant = %.1e  ',Kp)"
   ]
   }
,
{
		   "cell_type": "markdown",
		   "metadata": {},
		   "source": [
			"## Example 11.4: ex_4.sce"
		   ]
		  },
  {
"cell_type": "code",
	   "execution_count": null,
	   "metadata": {
	    "collapsed": true
	   },
	   "outputs": [],
"source": [
"clc\n",
"//Intitalisation of variables\n",
"clear\n",
"dH= 12300 //cal\n",
"T= 25 //C\n",
"dS= -60.1 //cal deg^-1 mole^-1\n",
"//CALCULATIONS\n",
"dF= dH-dS*(273+T)\n",
"//RESULTS\n",
"printf ('Standard free energy of formation = %.f cal mole^-1 ',dF-10)"
   ]
   }
],
"metadata": {
		  "kernelspec": {
		   "display_name": "Scilab",
		   "language": "scilab",
		   "name": "scilab"
		  },
		  "language_info": {
		   "file_extension": ".sce",
		   "help_links": [
			{
			 "text": "MetaKernel Magics",
			 "url": "https://github.com/calysto/metakernel/blob/master/metakernel/magics/README.md"
			}
		   ],
		   "mimetype": "text/x-octave",
		   "name": "scilab",
		   "version": "0.7.1"
		  }
		 },
		 "nbformat": 4,
		 "nbformat_minor": 0
}
