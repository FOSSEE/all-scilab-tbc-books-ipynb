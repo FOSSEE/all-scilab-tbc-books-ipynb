{
"cells": [
 {
		   "cell_type": "markdown",
	   "metadata": {},
	   "source": [
       "# Chapter 14: Electromotive Force"
	   ]
	},
{
		   "cell_type": "markdown",
		   "metadata": {},
		   "source": [
			"## Example 14.1: ex_1.sce"
		   ]
		  },
  {
"cell_type": "code",
	   "execution_count": null,
	   "metadata": {
	    "collapsed": true
	   },
	   "outputs": [],
"source": [
"clc\n",
"//Intitalisation of variables\n",
"clear\n",
"T= 25 //C\n",
"E= 0.0455 //volt\n",
"r= 3.38*10^-4 //volt degree^-1\n",
"F= 96500\n",
"r1= 0.2390\n",
"//CALCULATIONS\n",
"dH= -F*r1*(E-(273+T)*r)\n",
"//RESULTS\n",
"printf ('Enthalpy = %.f calories ',dH) "
   ]
   }
,
{
		   "cell_type": "markdown",
		   "metadata": {},
		   "source": [
			"## Example 14.2: ex_2.sce"
		   ]
		  },
  {
"cell_type": "code",
	   "execution_count": null,
	   "metadata": {
	    "collapsed": true
	   },
	   "outputs": [],
"source": [
"clc\n",
"//Intitalisation of variables\n",
"clear\n",
"emf= 1.094 //volt\n",
"e1= 0.334 //volt\n",
"//CALCULATIONS\n",
"Ezn= (emf-e1)\n",
"//RESULTS\n",
"printf ('Ezn = %.3f volt ',Ezn) "
   ]
   }
,
{
		   "cell_type": "markdown",
		   "metadata": {},
		   "source": [
			"## Example 14.3: ex_3.sce"
		   ]
		  },
  {
"cell_type": "code",
	   "execution_count": null,
	   "metadata": {
	    "collapsed": true
	   },
	   "outputs": [],
"source": [
"clc\n",
"//Intitalisation of variables\n",
"clear\n",
"emf= 0.0455 //volt\n",
"T= 25 //C\n",
"c= 0.1 //N\n",
"emf1= 0.334 //volt\n",
"emf2= 0.799 //volt\n",
"k= 0.05915\n",
"//CALCULATIONS\n",
"ag= 10^((-emf2+(emf1-emf))/k)\n",
"//RESULTS\n",
"printf ('aAg+ = %.2e g ion per 1000 grams per litre ',ag) "
   ]
   }
,
{
		   "cell_type": "markdown",
		   "metadata": {},
		   "source": [
			"## Example 14.4: ex_4.sce"
		   ]
		  },
  {
"cell_type": "code",
	   "execution_count": null,
	   "metadata": {
	    "collapsed": true
	   },
	   "outputs": [],
"source": [
"clc\n",
"//Intitalisation of variables\n",
"clear\n",
"k= 0.059\n",
"e= -0.401 //volt\n",
"c1= 10^-14 // g ion per litre\n",
"c2= 10^-7 // g ion per litre\n",
"//CALCULATIONS\n",
"E1= e+k*log10(c1)\n",
"E2= e+k*log10(c2)\n",
"//RESULTS\n",
"printf ('oxidation potential = %.2f volt ',E1) \n",
"printf ('\n oxidation potential = %.2f volt ',E2) "
   ]
   }
,
{
		   "cell_type": "markdown",
		   "metadata": {},
		   "source": [
			"## Example 14.5: ex_5.sce"
		   ]
		  },
  {
"cell_type": "code",
	   "execution_count": null,
	   "metadata": {
	    "collapsed": true
	   },
	   "outputs": [],
"source": [
"clc\n",
"//Intitalisation of variables\n",
"clear\n",
"e= 0.761 //volt\n",
"e1= -0.34 //volt\n",
"k= 0.02958 //volt\n",
"//CALCULATIONS\n",
"r= 10^((e-e1)/k)\n",
"//RESULTS\n",
"printf ('K for the reaction = %.1e  ',r) "
   ]
   }
,
{
		   "cell_type": "markdown",
		   "metadata": {},
		   "source": [
			"## Example 14.6: ex_6.sce"
		   ]
		  },
  {
"cell_type": "code",
	   "execution_count": null,
	   "metadata": {
	    "collapsed": true
	   },
	   "outputs": [],
"source": [
"clc\n",
"//Intitalisation of variables\n",
"clear\n",
"c1= 0.1 //M\n",
"c2= 0.01 //M\n",
"k= 0.05915 //volt\n",
"t1= 0.172\n",
"t2= 0.828 \n",
"//CALCULATIONS\n",
"El= (t1-t2)*k*log10(c2/c1)\n",
"//RESULTS\n",
"printf ('Liquid junction potential = %.3f  ',El) "
   ]
   }
,
{
		   "cell_type": "markdown",
		   "metadata": {},
		   "source": [
			"## Example 14.7: ex_7.sce"
		   ]
		  },
  {
"cell_type": "code",
	   "execution_count": null,
	   "metadata": {
	    "collapsed": true
	   },
	   "outputs": [],
"source": [
"clc\n",
"//Intitalisation of variables\n",
"clear\n",
"k= 0.05915 //volt\n",
"n= 2 //moles\n",
"c= 0.1 //M\n",
"c1= 1 //M\n",
"//CALCULATIONS\n",
"r= k*log10(c/c1)/n\n",
"//RESULTS\n",
"printf ('EMF = %.5f volt ',r) "
   ]
   }
,
{
		   "cell_type": "markdown",
		   "metadata": {},
		   "source": [
			"## Example 14.8: ex_8.sce"
		   ]
		  },
  {
"cell_type": "code",
	   "execution_count": null,
	   "metadata": {
	    "collapsed": true
	   },
	   "outputs": [],
"source": [
"clc\n",
"//Intitalisation of variables\n",
"clear\n",
"e1= 0.31 //volt\n",
"e2= 0.78 //volt\n",
"//CALCULATIONS\n",
"e= e1+e2\n",
"//RESULTS\n",
"printf ('Decomposition voltage = %.2f  ',e) "
   ]
   }
,
{
		   "cell_type": "markdown",
		   "metadata": {},
		   "source": [
			"## Example 14.9: ex_9.sce"
		   ]
		  },
  {
"cell_type": "code",
	   "execution_count": null,
	   "metadata": {
	    "collapsed": true
	   },
	   "outputs": [],
"source": [
"clc\n",
"//Intitalisation of variables\n",
"clear\n",
"k= 0.059 //volt\n",
"c= 10^-7 //M\n",
"e= 2.71 //volt\n",
"c1= 6 //M\n",
"e1= -0.4 //volt\n",
"e2= -1.36 //volt\n",
"e3= 0.6 //volt\n",
"//CALCULATIONS\n",
"E1= -log10(c)*k\n",
"E2= e-k*log10(c1)\n",
"E3= e1+k*log10(c)\n",
"E4= e2+k*log10(c1)\n",
"E5= E3-e3\n",
"//RESULTS\n",
"printf ('EH = %.2f volt ',E1) \n",
"printf ('\n ENa = %.2f volt ',E2) \n",
"printf ('\n EO = %.2f volt ',E3) \n",
"printf ('\n ECl = %.2f volt ',E4) \n",
"printf ('\n Oxygen evolution potential = %.2f volt ',E5) "
   ]
   }
],
"metadata": {
		  "kernelspec": {
		   "display_name": "Scilab",
		   "language": "scilab",
		   "name": "scilab"
		  },
		  "language_info": {
		   "file_extension": ".sce",
		   "help_links": [
			{
			 "text": "MetaKernel Magics",
			 "url": "https://github.com/calysto/metakernel/blob/master/metakernel/magics/README.md"
			}
		   ],
		   "mimetype": "text/x-octave",
		   "name": "scilab",
		   "version": "0.7.1"
		  }
		 },
		 "nbformat": 4,
		 "nbformat_minor": 0
}
