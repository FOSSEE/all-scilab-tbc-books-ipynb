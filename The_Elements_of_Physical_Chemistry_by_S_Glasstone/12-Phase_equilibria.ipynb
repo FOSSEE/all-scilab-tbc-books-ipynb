{
"cells": [
 {
		   "cell_type": "markdown",
	   "metadata": {},
	   "source": [
       "# Chapter 12: Phase equilibria"
	   ]
	},
{
		   "cell_type": "markdown",
		   "metadata": {},
		   "source": [
			"## Example 12.1: ex_1.sce"
		   ]
		  },
  {
"cell_type": "code",
	   "execution_count": null,
	   "metadata": {
	    "collapsed": true
	   },
	   "outputs": [],
"source": [
"clc\n",
"//Intitalisation of variables\n",
"clear\n",
"k1= 0.015\n",
"k2= 0.028\n",
"p1= 0.7806 //atm\n",
"p2= 0.21 //atm\n",
"//CALCULATIONS\n",
"P1= k1*p1*100/(k1*p1+k2*p2)\n",
"P2= 100-P1\n",
"//RESULTS\n",
"printf ('moles of Nitrogen = %.1f moles',P1)\n",
"printf ('\n moles of Oxygen = %.1f moles',P2)"
   ]
   }
,
{
		   "cell_type": "markdown",
		   "metadata": {},
		   "source": [
			"## Example 12.2: ex_2.sce"
		   ]
		  },
  {
"cell_type": "code",
	   "execution_count": null,
	   "metadata": {
	    "collapsed": true
	   },
	   "outputs": [],
"source": [
"clc\n",
"//Intitalisation of variables\n",
"clear\n",
"Ma= 153.8 //gms\n",
"Mb= 169.9 //gms\n",
"pa= 114.9 //mm\n",
"pb= 238.3 //mm\n",
"//CALCULATIONS\n",
"xa= (1/Ma)/((1/Ma)+(1/Mb))\n",
"xb= 1-xa\n",
"Pa= pa*xa\n",
"Pb= pb*xb\n",
"Pt= Pa+Pb\n",
"//RESULTS\n",
"printf ('PA = %.1f mm',Pa)\n",
"printf ('\n PB = %.1f mm',Pb)\n",
"printf ('\n Total vapour pressure = %.1f mm',Pt)"
   ]
   }
,
{
		   "cell_type": "markdown",
		   "metadata": {},
		   "source": [
			"## Example 12.3: ex_3.sce"
		   ]
		  },
  {
"cell_type": "code",
	   "execution_count": null,
	   "metadata": {
	    "collapsed": true
	   },
	   "outputs": [],
"source": [
"clc\n",
"//Intitalisation of variables\n",
"clear\n",
"pa= 114.9 //mm\n",
"pb= 238.3 //mm\n",
"xa= 0.525\n",
"xb= 0.475\n",
"//CALCULATIONS\n",
"xa1= xa*pa/((xa*pa)+(xb*pb))\n",
"xb1= 1-xa1\n",
"//RESULTS\n",
"printf ('Mole fraction CCl4 = %.3f ',xa1)\n",
"printf ('\n Mole fraction of SiCl4 = %.3f ',xb1)"
   ]
   }
,
{
		   "cell_type": "markdown",
		   "metadata": {},
		   "source": [
			"## Example 12.4: ex_4.sce"
		   ]
		  },
  {
"cell_type": "code",
	   "execution_count": null,
	   "metadata": {
	    "collapsed": true
	   },
	   "outputs": [],
"source": [
"clc\n",
"//Intitalisation of variables\n",
"clear\n",
"p1= 55 //per cent\n",
"P1= 744 //mm\n",
"P2= 634 //mm\n",
"MB= 18 //gms\n",
"//CALCULATIONS\n",
"MA= p1*P2*MB/((P1-P2)*(100-p1))\n",
"//RESULTS\n",
"printf ('Molecular weight of terpinene = %.f gms',MA) "
   ]
   }
,
{
		   "cell_type": "markdown",
		   "metadata": {},
		   "source": [
			"## Example 12.5: ex_5.sce"
		   ]
		  },
  {
"cell_type": "code",
	   "execution_count": null,
	   "metadata": {
	    "collapsed": true
	   },
	   "outputs": [],
"source": [
"clc\n",
"//Intitalisation of variables\n",
"clear\n",
"ci= 0.1896 //mole per liter\n",
"cKI= 0.02832 //mole per liter\n",
"r= 625\n",
"//CALCULATIONS\n",
"CI2= ci/r\n",
"dc= cKI-CI2\n",
"//RESULTS\n",
"printf ('Conc of I2 in KI layer = %.6f mole per litre',CI2) \n",
"printf ('\n Conc of I3- ions = %.5f mole per litre',dc) "
   ]
   }
],
"metadata": {
		  "kernelspec": {
		   "display_name": "Scilab",
		   "language": "scilab",
		   "name": "scilab"
		  },
		  "language_info": {
		   "file_extension": ".sce",
		   "help_links": [
			{
			 "text": "MetaKernel Magics",
			 "url": "https://github.com/calysto/metakernel/blob/master/metakernel/magics/README.md"
			}
		   ],
		   "mimetype": "text/x-octave",
		   "name": "scilab",
		   "version": "0.7.1"
		  }
		 },
		 "nbformat": 4,
		 "nbformat_minor": 0
}
