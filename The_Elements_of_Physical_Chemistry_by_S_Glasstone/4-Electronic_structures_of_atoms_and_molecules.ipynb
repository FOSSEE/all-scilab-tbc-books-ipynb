{
"cells": [
 {
		   "cell_type": "markdown",
	   "metadata": {},
	   "source": [
       "# Chapter 4: Electronic structures of atoms and molecules"
	   ]
	},
{
		   "cell_type": "markdown",
		   "metadata": {},
		   "source": [
			"## Example 4.10: ex_10.sce"
		   ]
		  },
  {
"cell_type": "code",
	   "execution_count": null,
	   "metadata": {
	    "collapsed": true
	   },
	   "outputs": [],
"source": [
"clc\n",
"//Intitalisation of variables\n",
"clear\n",
"n= 8.41*10^-5 //poise\n",
"p= 1 //atm\n",
"v= 22414 //ml\n",
"m= 2 //gms\n",
"T= 0 //C\n",
"R= 8.31*10^7 //ergs deg^-1 mole^-1\n",
"//CALCULATIONS\n",
"d= m/v\n",
"c= sqrt(8*R*(273+T)/(%pi*m))\n",
"l= 3*n/(d*c)\n",
"//RESULTS\n",
"printf ('Density of hydrogen gas = %.1e gram cc^-1',d)\n",
"printf ('\n Mean velocity = %.2e cm sec^-1',c)\n",
"printf ('\n Mean free path of the molecules = %.2e cm',l)"
   ]
   }
,
{
		   "cell_type": "markdown",
		   "metadata": {},
		   "source": [
			"## Example 4.11: ex_11.sce"
		   ]
		  },
  {
"cell_type": "code",
	   "execution_count": null,
	   "metadata": {
	    "collapsed": true
	   },
	   "outputs": [],
"source": [
"clc\n",
"//Intitalisation of variables\n",
"clear\n",
"t= 1 //sec\n",
"v= 1 //cc\n",
"T= 0 //C\n",
"p= 1 //atm\n",
"d= 8.9*10^-5 //g cc^-1\n",
"n= 8.41*10^-5 //poise\n",
"R= 8.31*10^7 //ergs deg^-1 mole^-1\n",
"M= 4 //gms\n",
"N= 6*10^23 //molecules\n",
"n1= 2 //moles\n",
"//CALCULATIONS\n",
"Z= M*(N/(v*22414))*d*R*(273+T)/(3*%pi*n1*n)\n",
"//RESULTS\n",
"printf ('Number of collisions = %.2e molecular collisions sec^-1 cc^-1',Z)"
   ]
   }
,
{
		   "cell_type": "markdown",
		   "metadata": {},
		   "source": [
			"## Example 4.12: ex_12.sce"
		   ]
		  },
  {
"cell_type": "code",
	   "execution_count": null,
	   "metadata": {
	    "collapsed": true
	   },
	   "outputs": [],
"source": [
"clc\n",
"//Intitalisation of variables\n",
"clear\n",
"d= 8.9*10^-5 //g cc^-1\n",
"R= 8.31*10^7 //ergs deg^-1 mole^-1\n",
"N= 2.7*10^19 //molecules\n",
"n= 8.41*10^-5 //poise\n",
"T= 0 //C\n",
"n1= 2 //moles\n",
"//CALCULATIONS\n",
"s= sqrt(n1*d*sqrt(R*(273+T)/(%pi*n1))/(3*%pi*n*N))\n",
"//RESULTS\n",
"printf ('Collision diamter of hydrogen = %.2e cm',s)"
   ]
   }
,
{
		   "cell_type": "markdown",
		   "metadata": {},
		   "source": [
			"## Example 4.13: ex_13.sce"
		   ]
		  },
  {
"cell_type": "code",
	   "execution_count": null,
	   "metadata": {
	    "collapsed": true
	   },
	   "outputs": [],
"source": [
"clc\n",
"//Intitalisation of variables\n",
"clear\n",
"n= 4\n",
"n1= 1\n",
"n2= 1.5\n",
"R= 2 //cal deg^-1 mole^-1\n",
"m=3\n",
"//CALCULATIONS\n",
"Cv= ((3*n-5)+n1+n2)*R\n",
"Cv1= ((3*n-6)+2*m*(n2-n1))*R\n",
"//RESULTS\n",
"printf ('Molar heat capacity of acetylene = %.f cal deg^-1 mole^-1',Cv)\n",
"printf ('\n Molar heat capacity of ammonia = %.f cal deg^-1 mole^-1',Cv1)"
   ]
   }
,
{
		   "cell_type": "markdown",
		   "metadata": {},
		   "source": [
			"## Example 4.14: ex_14.sce"
		   ]
		  },
  {
"cell_type": "code",
	   "execution_count": null,
	   "metadata": {
	    "collapsed": true
	   },
	   "outputs": [],
"source": [
"clc\n",
"//Intitalisation of variables\n",
"clear\n",
"v= 1.32 //lit\n",
"T= 48 //C\n",
"p= 18.4 //atm\n",
"R= 0.082 //lit-atm deg^-1 mole^-1\n",
"a= 3.6\n",
"b= 4.28*10^-2\n",
"//CALCULATIONS\n",
"P1= R*(273+T)/v\n",
"P2= (R*(273+T)/(v-b))-(a/v^2)\n",
"//RESULTS\n",
"printf ('Pressure by ideal gas equation = %.1f atm',P1)\n",
"printf ('\n Pressure by vander Waals equation = %.1f atm',P2)"
   ]
   }
,
{
		   "cell_type": "markdown",
		   "metadata": {},
		   "source": [
			"## Example 4.15: ex_15.sce"
		   ]
		  },
  {
"cell_type": "code",
	   "execution_count": null,
	   "metadata": {
	    "collapsed": true
	   },
	   "outputs": [],
"source": [
"clc\n",
"//Intitalisation of variables\n",
"clear\n",
"wa= 52.3 //gms\n",
"wv= 52.96 //gms\n",
"wb= 302 //gms\n",
"T= 100 //C\n",
"p= 752 //mm\n",
"d= 1.29 //g per litre\n",
"wa1= 0.32 //gms\n",
"R= 0.082 //lit-atm K^-1 mole^-1\n",
"v= 0.25 //lit\n",
"//CALCULATIONS\n",
"W= wb-wa\n",
"Wv= wv-(wa-wa1)\n",
"M= Wv*R*(273+T)/((p/760)*v)\n",
"//RESULTS\n",
"printf ('Molecular weight of choloform = %.f gms',M)"
   ]
   }
,
{
		   "cell_type": "markdown",
		   "metadata": {},
		   "source": [
			"## Example 4.16: ex_16.sce"
		   ]
		  },
  {
"cell_type": "code",
	   "execution_count": null,
	   "metadata": {
	    "collapsed": true
	   },
	   "outputs": [],
"source": [
"clc\n",
"//Intitalisation of variables\n",
"clear\n",
"w= 0.241 //gms\n",
"R= 0.082 //lit-atm mole^-1 K^-1\n",
"T= 23 //C\n",
"p= 764 //mm \n",
"v= 47.9 //ml of air\n",
"//CALCULATIONS\n",
"M= w*R*(273+T)/((p/760)*(v/1000))\n",
"//RESULTS\n",
"printf ('Molecular weight of choloform = %.f gms',M)"
   ]
   }
,
{
		   "cell_type": "markdown",
		   "metadata": {},
		   "source": [
			"## Example 4.17: ex_17.sce"
		   ]
		  },
  {
"cell_type": "code",
	   "execution_count": null,
	   "metadata": {
	    "collapsed": true
	   },
	   "outputs": [],
"source": [
"clc\n",
"//Intitalisation of variables\n",
"clear\n",
"p= 795 //mm\n",
"v= 0.501 //lit\n",
"w= 1.35 //gms\n",
"m= 92 //gms\n",
"R= 0.082 //lit-atm mole^-1 K^-1\n",
"T= 45 //C\n",
"//CALCULATIONS\n",
"a= ((p/760)*v/((w/m)*R*(273+T)))-1\n",
"//RESULTS\n",
"printf ('Fraction of N2O4 dissociated into NO2 = %.3f',a)"
   ]
   }
,
{
		   "cell_type": "markdown",
		   "metadata": {},
		   "source": [
			"## Example 4.1: ex_1.sce"
		   ]
		  },
  {
"cell_type": "code",
	   "execution_count": null,
	   "metadata": {
	    "collapsed": true
	   },
	   "outputs": [],
"source": [
"clc\n",
"//Intitalisation of variables\n",
"clear\n",
"v= 240 //ml\n",
"p= 1.25 //atm\n",
"p1= 0.75 //atm\n",
"n= 2\n",
"//CALCULATIONS\n",
"v1= v*p/p1\n",
"dv= v1-v\n",
"V= n*v1\n",
"//RESULTS\n",
"printf ('Increase in volume = %.f ml',dv)\n",
"printf ('\n Final volume = %.f ml',V)"
   ]
   }
,
{
		   "cell_type": "markdown",
		   "metadata": {},
		   "source": [
			"## Example 4.2: ex_2.sce"
		   ]
		  },
  {
"cell_type": "code",
	   "execution_count": null,
	   "metadata": {
	    "collapsed": true
	   },
	   "outputs": [],
"source": [
"clc\n",
"//Intitalisation of variables\n",
"clear\n",
"v1= 360 //ml\n",
"T1= 15 //C\n",
"v2= 480 //ml\n",
"//CALCULATIONS\n",
"T2= v2*(273+T1)/v1\n",
"Tc= T2-273\n",
"//RESULTS\n",
"printf ('Centigrade temperature = %.f C',Tc)"
   ]
   }
,
{
		   "cell_type": "markdown",
		   "metadata": {},
		   "source": [
			"## Example 4.3: ex_3.sce"
		   ]
		  },
  {
"cell_type": "code",
	   "execution_count": null,
	   "metadata": {
	    "collapsed": true
	   },
	   "outputs": [],
"source": [
"clc\n",
"//Intitalisation of variables\n",
"clear\n",
"p1= 1.4 //atm\n",
"v1= 250 //ml\n",
"t1= 21 //c\n",
"v2= 300 //ml\n",
"t2= 49 //c\n",
"//CALCULATIONS\n",
"p2= p1*v1*(273+t2)/(v2*(273+t1))\n",
"//RESULTS\n",
"printf ('Final pressure = %.2f atm',p2)"
   ]
   }
,
{
		   "cell_type": "markdown",
		   "metadata": {},
		   "source": [
			"## Example 4.4: ex_4.sce"
		   ]
		  },
  {
"cell_type": "code",
	   "execution_count": null,
	   "metadata": {
	    "collapsed": true
	   },
	   "outputs": [],
"source": [
"clc\n",
"//Intitalisation of variables\n",
"clear\n",
"v= 10 //lit\n",
"p= 75 //cm of hg\n",
"T= 27 //C\n",
"R= 0.082 //lit-atm/mole K\n",
"//CALCULATIONS\n",
"n= (p/76)*v/((273+T)*R)\n",
"//RESULTS\n",
"printf ('Moles of oxygen contained = %.3f moles',n)"
   ]
   }
,
{
		   "cell_type": "markdown",
		   "metadata": {},
		   "source": [
			"## Example 4.5: ex_5.sce"
		   ]
		  },
  {
"cell_type": "code",
	   "execution_count": null,
	   "metadata": {
	    "collapsed": true
	   },
	   "outputs": [],
"source": [
"clc\n",
"//Intitalisation of variables\n",
"clear\n",
"T= 25 //C\n",
"v= 190 //ml\n",
"pt= 740 //mm of hg\n",
"p1= 23.8 //mm of hg\n",
"p2= 760 //mm of hg\n",
"//CALCULATIONS\n",
"p= pt-p1\n",
"v= v*p/p2\n",
"//RESULTS\n",
"printf ('Partial pressure of dry gas = %.1f mm',p)\n",
"printf ('\n volume of the dry gas = %.f ml',v)"
   ]
   }
,
{
		   "cell_type": "markdown",
		   "metadata": {},
		   "source": [
			"## Example 4.6: ex_6.sce"
		   ]
		  },
  {
"cell_type": "code",
	   "execution_count": null,
	   "metadata": {
	    "collapsed": true
	   },
	   "outputs": [],
"source": [
"clc\n",
"//Intitalisation of variables\n",
"clear\n",
"ma= 0.495 //gm\n",
"Ma= 66 //gms\n",
"mb= 0.182 //gms\n",
"Mb= 45.5 //gms\n",
"p= 76.2 //cm of hg\n",
"//CALCULATIONS\n",
"na= ma/Ma\n",
"nb= mb/Mb\n",
"nt= na+nb\n",
"pa= p*na/nt\n",
"pb= p*nb/nt\n",
"//RESULTS\n",
"printf ('Number of moles of given gas A = %.4f ',na)\n",
"printf ('\n Number of moles of given gas B = %.4f ',nb)\n",
"printf ('\n Total number of moles  = %.4f ',nt)\n",
"printf ('\n Partial pressure of A  = %.1f cm of mercury',pa)\n",
"printf ('\n Partial pressure of B  = %.1f cm of mercury',pb)"
   ]
   }
,
{
		   "cell_type": "markdown",
		   "metadata": {},
		   "source": [
			"## Example 4.7: ex_7.sce"
		   ]
		  },
  {
"cell_type": "code",
	   "execution_count": null,
	   "metadata": {
	    "collapsed": true
	   },
	   "outputs": [],
"source": [
"clc\n",
"//Intitalisation of variables\n",
"clear\n",
"v1= 125 //ml\n",
"p1= 0.6 //atm\n",
"v2= 150 //ml\n",
"p2= 0.8 //atm\n",
"V= 500 //ml\n",
"//CALCULATIONS\n",
"pa= p1*v1/V\n",
"pb= p2*v2/V\n",
"pt= pa+pb\n",
"//RESULTS\n",
"printf ('Partial pressure of A = %.2f atm',pa)\n",
"printf ('\n Partial pressure of B = %.2f atm',pb)\n",
"printf ('\n Total pressure of A = %.2f atm',pt)"
   ]
   }
,
{
		   "cell_type": "markdown",
		   "metadata": {},
		   "source": [
			"## Example 4.8: ex_8.sce"
		   ]
		  },
  {
"cell_type": "code",
	   "execution_count": null,
	   "metadata": {
	    "collapsed": true
	   },
	   "outputs": [],
"source": [
"clc\n",
"//Intitalisation of variables\n",
"clear\n",
"t1= 1.44 //min\n",
"t2= 1.8 //min\n",
"mo= 32 //gms\n",
"mh= 2 //gms\n",
"//CALCULATIONS\n",
"d2= (t1/t2)^2*(mo/mh)\n",
"//RESULTS\n",
"printf ('Approximate density of gas relative to hydrogen = %.1f ',d2)"
   ]
   }
,
{
		   "cell_type": "markdown",
		   "metadata": {},
		   "source": [
			"## Example 4.9: ex_9.sce"
		   ]
		  },
  {
"cell_type": "code",
	   "execution_count": null,
	   "metadata": {
	    "collapsed": true
	   },
	   "outputs": [],
"source": [
"clc\n",
"//Intitalisation of variables\n",
"clear\n",
"T= 25 //C\n",
"R= 8.31*10^7 //ergs deg^-1 mole^-1\n",
"M= 32 //gms\n",
"//CALCULATIONS\n",
"c= sqrt(3*R*(273+T)/M)\n",
"//RESULTS\n",
"printf ('Mean velocity of oxygen molecules = %.2e cm sec^-1',c)"
   ]
   }
],
"metadata": {
		  "kernelspec": {
		   "display_name": "Scilab",
		   "language": "scilab",
		   "name": "scilab"
		  },
		  "language_info": {
		   "file_extension": ".sce",
		   "help_links": [
			{
			 "text": "MetaKernel Magics",
			 "url": "https://github.com/calysto/metakernel/blob/master/metakernel/magics/README.md"
			}
		   ],
		   "mimetype": "text/x-octave",
		   "name": "scilab",
		   "version": "0.7.1"
		  }
		 },
		 "nbformat": 4,
		 "nbformat_minor": 0
}
