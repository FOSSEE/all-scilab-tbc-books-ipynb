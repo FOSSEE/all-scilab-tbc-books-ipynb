{
"cells": [
 {
		   "cell_type": "markdown",
	   "metadata": {},
	   "source": [
       "# Chapter 16: Hydrolysis and Neutralization"
	   ]
	},
{
		   "cell_type": "markdown",
		   "metadata": {},
		   "source": [
			"## Example 16.1: ex_1.sce"
		   ]
		  },
  {
"cell_type": "code",
	   "execution_count": null,
	   "metadata": {
	    "collapsed": true
	   },
	   "outputs": [],
"source": [
"clc\n",
"//Intitalisation of variables\n",
"clear\n",
"c= 0.01 //M\n",
"T= 25 //C\n",
"kw= 1.01*10^-14 \n",
"ka= 1.75*10^-5\n",
"//CALCULATIONS\n",
"x= sqrt(kw/(ka*c))\n",
"//RESULTS\n",
"printf ('Degree of hydrolysis = %.1e ',x)"
   ]
   }
,
{
		   "cell_type": "markdown",
		   "metadata": {},
		   "source": [
			"## Example 16.2: ex_2.sce"
		   ]
		  },
  {
"cell_type": "code",
	   "execution_count": null,
	   "metadata": {
	    "collapsed": true
	   },
	   "outputs": [],
"source": [
"clc\n",
"//Intitalisation of variables\n",
"clear\n",
"c= 0.01 //M\n",
"ka= 1.75*10^-5\n",
"pkw= 14\n",
"ka1= 1.79\n",
"//CALCULATIONS\n",
"pH= 0.5*pkw-0.5*log(ka)+0.5*log(c)-ka1\n",
"//RESULTS\n",
"printf ('pH of solution = %.2f ',pH)"
   ]
   }
,
{
		   "cell_type": "markdown",
		   "metadata": {},
		   "source": [
			"## Example 16.3: ex_3.sce"
		   ]
		  },
  {
"cell_type": "code",
	   "execution_count": null,
	   "metadata": {
	    "collapsed": true
	   },
	   "outputs": [],
"source": [
"clc\n",
"//Intitalisation of variables\n",
"clear\n",
"k1= 10^-14\n",
"c= 0.1 //M\n",
"pH= 8.88\n",
"cH= 1.32*10^-9 //gms\n",
"//CALCULATIONS\n",
"x= k1/(c*cH)\n",
"kh= c*x^2\n",
"//RESULTS\n",
"printf ('x = %.2e ',x)\n",
"printf ('\n Hydrolysis constant = %.2e ',kh)"
   ]
   }
,
{
		   "cell_type": "markdown",
		   "metadata": {},
		   "source": [
			"## Example 16.4: ex_4.sce"
		   ]
		  },
  {
"cell_type": "code",
	   "execution_count": null,
	   "metadata": {
	    "collapsed": true
	   },
	   "outputs": [],
"source": [
"clc\n",
"//Intitalisation of variables\n",
"clear\n",
"c= 0.0156 //M\n",
"ec= 111.5 //ohm^-1 cm^2\n",
"ac= 99.9 //ohm^-1 cm^2\n",
"ac1= 426 //ohm^-1 cm^2\n",
"kw= 10^-14 \n",
"//CALCULATIONS\n",
"x= (ec-ac)/(ac1-ac)\n",
"kh= c*x^2/(1-x)\n",
"kb= kw/kh\n",
"//RESULTS\n",
"printf ('x = %.4f ',x)\n",
"printf ('\n Hydrolysis constant = %.2e ',kh)\n",
"printf ('\n Dissociation constant = %.1e ',kb)"
   ]
   }
,
{
		   "cell_type": "markdown",
		   "metadata": {},
		   "source": [
			"## Example 16.5: ex_5.sce"
		   ]
		  },
  {
"cell_type": "code",
	   "execution_count": null,
	   "metadata": {
	    "collapsed": true
	   },
	   "outputs": [],
"source": [
"clc\n",
"//Intitalisation of variables\n",
"clear\n",
"pH= 7\n",
"c1=1 //M\n",
"c2= 0.155 //M\n",
"c3= 0.25 //m\n",
"c4= 0.05 //M\n",
"c5= 0.62 //M\n",
"pka= 7.21\n",
"//CALCULATIONS\n",
"ph1= pka+log10((c5+c4)/(c1-c4))\n",
"ph2= pka+log10((c2+c4)/(c3-c4))\n",
"//RESULTS\n",
"printf ('final pH = %.2f ',ph1)\n",
"printf ('\n final pH = %.2f ',ph2)"
   ]
   }
,
{
		   "cell_type": "markdown",
		   "metadata": {},
		   "source": [
			"## Example 16.6: ex_6.sce"
		   ]
		  },
  {
"cell_type": "code",
	   "execution_count": null,
	   "metadata": {
	    "collapsed": true
	   },
	   "outputs": [],
"source": [
"clc\n",
"//Intitalisation of variables\n",
"clear\n",
"v1= -0.1252 //volt\n",
"v2= 0.3636//volt\n",
"v3= 0.05915//volt\n",
"//CALCULATIONS\n",
"ph= (v1+v2)/v3\n",
"//RESULTS\n",
"printf ('final pH = %.2f ',ph)"
   ]
   }
,
{
		   "cell_type": "markdown",
		   "metadata": {},
		   "source": [
			"## Example 16.7: ex_7.sce"
		   ]
		  },
  {
"cell_type": "code",
	   "execution_count": null,
	   "metadata": {
	    "collapsed": true
	   },
	   "outputs": [],
"source": [
"clc\n",
"//Intitalisation of variables\n",
"clear\n",
"pki= 3.98\n",
"t1= 0.85 //mm\n",
"t2= 0.15 //mm\n",
"//CALCULATIONS\n",
"pH= pki+log10(t1/t2)\n",
"//RESULTS\n",
"printf ('pH of the solution = %.2f ',pH)"
   ]
   }
,
{
		   "cell_type": "markdown",
		   "metadata": {},
		   "source": [
			"## Example 16.8: ex_8.sce"
		   ]
		  },
  {
"cell_type": "code",
	   "execution_count": null,
	   "metadata": {
	    "collapsed": true
	   },
	   "outputs": [],
"source": [
"clc\n",
"//Intitalisation of variables\n",
"clear\n",
"pki= 7\n",
"t1= 3 //drops\n",
"t2= 7 //drops\n",
"//CALCULATIONS\n",
"pH= pki+log10(t1/t2)\n",
"//RESULTS\n",
"printf ('pH of the solution = %.2f ',pH)"
   ]
   }
,
{
		   "cell_type": "markdown",
		   "metadata": {},
		   "source": [
			"## Example 16.9: ex_9.sce"
		   ]
		  },
  {
"cell_type": "code",
	   "execution_count": null,
	   "metadata": {
	    "collapsed": true
	   },
	   "outputs": [],
"source": [
"clc\n",
"//Intitalisation of variables\n",
"clear\n",
"c= 0.1 //N\n",
"ka= 5.75*10^-10 \n",
"//CALCULATIONS\n",
"cH= sqrt(c*ka)\n",
"pH= -log10(cH)\n",
"//RESULTS\n",
"printf ('cH = %.2e ',cH)\n",
"printf ('\n pH of the solution = %.2f ',pH)"
   ]
   }
],
"metadata": {
		  "kernelspec": {
		   "display_name": "Scilab",
		   "language": "scilab",
		   "name": "scilab"
		  },
		  "language_info": {
		   "file_extension": ".sce",
		   "help_links": [
			{
			 "text": "MetaKernel Magics",
			 "url": "https://github.com/calysto/metakernel/blob/master/metakernel/magics/README.md"
			}
		   ],
		   "mimetype": "text/x-octave",
		   "name": "scilab",
		   "version": "0.7.1"
		  }
		 },
		 "nbformat": 4,
		 "nbformat_minor": 0
}
