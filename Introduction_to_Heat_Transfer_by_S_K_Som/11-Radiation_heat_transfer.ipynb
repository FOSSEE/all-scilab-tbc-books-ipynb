{
"cells": [
 {
		   "cell_type": "markdown",
	   "metadata": {},
	   "source": [
       "# Chapter 11: Radiation heat transfer"
	   ]
	},
{
		   "cell_type": "markdown",
		   "metadata": {},
		   "source": [
			"## Example 11.10: Configuration_of_a_furnace_as_an_equilateral_triangle.sce"
		   ]
		  },
  {
"cell_type": "code",
	   "execution_count": null,
	   "metadata": {
	    "collapsed": true
	   },
	   "outputs": [],
"source": [
"// Display mode\n",
"mode(0);\n",
"// Display warning for floating point exception\n",
"ieee(1);\n",
"clear;\n",
"clc;\n",
"disp('Introduction to heat transfer by S.K.Som, Chapter 11, Example 10')\n",
"//Given a furnace which can be approximated as an equuilateral triangle duct\n",
"//The hot wall is maintained at temprature (T1)=1000K and has emmisivity(emi1)=0.75\n",
"//The cold wall is at temprature(T2)=350K and has emmisivity(emi2)=0.7\n",
"T1=1000;\n",
"T2=350;\n",
"emi1=0.75;\n",
"emi2=0.7;\n",
"//Stefan-Boltzman constant(sigma)=5.67*10^-8 W/(m^2*K^4)\n",
"sigma=5.67*10^-8;\n",
"//The third wall is reradiating zone having Q3=0\n",
"//The radiation flux leaving the hot wall is Q/A=[sigma*(T1^4-T2^4)]/(A*R)\n",
"//By summation rule F33+F31+F32=1\n",
"//F33=0(in consideration of surface to be plane)\n",
"//From symmetry F31=F32\n",
"F31=0.5;//View factors\n",
"F32=F31;//View factors\n",
"F33=0;//View factors\n",
"//From reciprocity theorem F13=F31 and F23=F32=0.5 (since A1=A2=A3=A)\n",
"F13=F31;//View factors\n",
"F23=F32;//View factors\n",
"//Again F11+F12+F13=1 from summation rule\n",
"F11=0;//View factors\n",
"F12=1-F13-F11;//View factors\n",
"//R1,R2,R12,R13,R23 are the resistances\n",
"//R is equivalent resistance of thermal network is given by R1+[(1/R12)+(1/(R13+R23))]^-1+R2\n",
"R1=(1-emi1)/(emi1);\n",
"R2=(1-emi2)/(emi2);\n",
"R12=1/(F12);\n",
"R13=1/(F13);\n",
"R23=1/(F23);\n",
"//R is equivalent resistance of thermal network \n",
"disp('Equivalent resistance of thermal network (R) is given by R1+[(1/R12)+(1/(R13+R23))]^-1+R2')\n",
"R=R1+[(1/R12)+(1/(R13+R23))]^-1+R2\n",
"//The radiation flux leaving the hot wall is Q/A.\n",
"disp('The radiation flux leaving the hot wall is Q/A=[sigma*(T1^4-T2^4)]/(A*R) in W/m^2')\n",
"//Since A gets cancelled in the factor (A*R)\n",
"//So Q/A=[sigma*(T1^4-T2^4)]/(R)\n",
"//Let Q/A=H\n",
"H=[sigma*(T1^4-T2^4)]/(R)\n",
"\n",
"\n",
"\n",
"\n",
"\n",
"\n",
"\n",
"\n",
"\n",
"\n",
"\n",
"\n",
"\n",
""
   ]
   }
,
{
		   "cell_type": "markdown",
		   "metadata": {},
		   "source": [
			"## Example 11.3: To_determine_the_view_factors_F13_and_F31.sce"
		   ]
		  },
  {
"cell_type": "code",
	   "execution_count": null,
	   "metadata": {
	    "collapsed": true
	   },
	   "outputs": [],
"source": [
"// Display mode\n",
"mode(0);\n",
"// Display warning for floating point exception\n",
"ieee(1);\n",
"clear;\n",
"clc;\n",
"disp('Introduction to heat transfer by S.K.Som, Chapter 11, Example 3')\n",
"disp('The view factors F13 and F31 between the surfaces 1 and 3 are ')\n",
"//Determine the view factors F13 and F31 between the surfaces 1 and 3.\n",
"//F1-2,3=F12+F13\n",
"//So F13=F1-2,3-F12\n",
"//Let F1-2,3=F123\n",
"//From Radiation Shape factor b/w two perpendicular rectangles with a commom edge table we get F12=.027,F1-2,3=0.31\n",
"F123=0.31;//View factor\n",
"F12=.27;//View factor\n",
"F13=F123-F12//View factor\n",
"//A1,A2 and A3 are the emitting surface areas\n",
"//From reciprocity relation F31=(A1/A3)/F13\n",
"A1=2;\n",
"A3=2.5;\n",
"F31=(A1/A3)*F13"
   ]
   }
,
{
		   "cell_type": "markdown",
		   "metadata": {},
		   "source": [
			"## Example 11.4: Determine_the_view_factor_F14_for_the_composite_surface.sce"
		   ]
		  },
  {
"cell_type": "code",
	   "execution_count": null,
	   "metadata": {
	    "collapsed": true
	   },
	   "outputs": [],
"source": [
"// Display mode\n",
"mode(0);\n",
"// Display warning for floating point exception\n",
"ieee(1);\n",
"clear;\n",
"clc;\n",
"disp('Introduction to heat transfer by S.K.Som, Chapter 11, Example 4')\n",
"//Determine the view factors F14 for the composite surface .\n",
"//From the table of radiation shape factor b/w two perpendicular surfaces F1,2-3,4=0.14 and F1,2-3=0.1\n",
"//By subdivision of the recieving surfaces we get F1,2-4=F1,2-3,4-F1,2-3\n",
"//Let F1,2-4=F124 , F1,2-3,4=F1234 , F1,2-3=F123\n",
"F1234=0.14;//View factor\n",
"F123=0.1;//View factor\n",
"F124=F1234-F123;//View factor\n",
"//Again from the table of radiation shape factor b/w two perpendicular surfaces F2-3,4=0.24 , F23=0.18\n",
"//Let F2-3,4=F234\n",
"F234=0.24;//View factor\n",
"F23=0.18;//View factor\n",
"//By subdivision of the recieving surfaces we get F24=F2-3,4-F23\n",
"F24=F234-F23;//view factor\n",
"//A1 and A2 are the emitting surface areas.\n",
"A1=12;\n",
"A2=12;\n",
"//Now by subdivision of emitting surfaces F1,2-4=(1/(A1+A2))*(A1*F14+A2*F24)\n",
"//This implies F14=((F1,2-4*(A1+A2)))-A2*F24)/A2\n",
"disp('The view factor F14=((F1,2-4*(A1+A2)))-A2*F24)/A2')\n",
"F14=((F124*(A1+A2))-(A2*F24))/A2\n",
"\n",
"\n",
"\n",
" "
   ]
   }
,
{
		   "cell_type": "markdown",
		   "metadata": {},
		   "source": [
			"## Example 11.5: Determine_the_view_factor_of_the_cylindrical_surface.sce"
		   ]
		  },
  {
"cell_type": "code",
	   "execution_count": null,
	   "metadata": {
	    "collapsed": true
	   },
	   "outputs": [],
"source": [
"// Display mode\n",
"mode(0);\n",
"// Display warning for floating point exception\n",
"ieee(1);\n",
"clear;\n",
"clc;\n",
"disp('Introduction to heat transfer by S.K.Som, Chapter 11, Example 5')\n",
"//Consider a cylinder having length,L=2r determine the view factor of cylindrical surface with respect to the base.\n",
"//From the graph of radiation shape factor b/w parallel coaxial disks of equal diameter F12=0.16\n",
"F12=0.16;//View factor\n",
"//By the summation rule of an enclosure F11+F12+F13=1\n",
"//But F11=0(since the base surface is flat)\n",
"F11=0;//View factor\n",
"disp ('The view factors of cylindrical surface with respect to the base are')\n",
"F13=1-F12-F11//view factor\n",
"//By making use of reciprocity theorem we have F31=(A1/A2)*F13\n",
"//A1 and A2 are emitting surface areas\n",
"//A1/A2=(pi*r^2)/(2*pi*r*2*r)=1/4\n",
"//Let A1/A2=A\n",
"A=1/4;\n",
"F31=(A)*F13"
   ]
   }
,
{
		   "cell_type": "markdown",
		   "metadata": {},
		   "source": [
			"## Example 11.6: Two_blackbody_rectangles.sce"
		   ]
		  },
  {
"cell_type": "code",
	   "execution_count": null,
	   "metadata": {
	    "collapsed": true
	   },
	   "outputs": [],
"source": [
"// Display mode\n",
"mode(0);\n",
"// Display warning for floating point exception\n",
"ieee(1);\n",
"clear;\n",
"clc;\n",
"disp('Introduction to heat transfer by S.K.Som, Chapter 11, Example 6')\n",
"//Two rectangles length,L=1.5m by breadth,B=3.0m are parallel and directly opposed.\n",
"L=1.5;\n",
"B=3;\n",
"//They are 3m apart\n",
"//Temprature(T1) of surface 1 is 127°C or 400K and temprature(T2) of surface 2 is 327°C or 600K \n",
"T1=400;\n",
"T2=600;\n",
"//Area (A) is the product of L and B\n",
"A1=L*B;\n",
"//Stefan -Boltzman constant(sigma)=5.67*10^-8 W/(m^2*K^4)\n",
"sigma=5.67*10^-8;\n",
"//From the graph of radiation shape factor b/w parallel rectangles F12=0.11\n",
"F12=0.11;//View factor\n",
"//The rate of heat transfer is given by Q=A1*F12*sigma*(T1^4-T2^4)\n",
"disp('The rate of heat transfer is given by Q=A1*F12*sigma*(T1^4-T2^4) in W')\n",
"Q=A1*F12*sigma*(T1^4-T2^4)\n",
"disp('Here minus sign indicates that the net heat transfer is from surface2 to surface1')\n",
"//Surface1 recieves energy only from surface 2,since the surrounding is at 0K.\n",
"//Therefore Q1=A1*Eb1-A2*F21*Eb2\n",
"//This implies Q1 can also be written as A1*sigma*(T1^4-F12*T2^4)\n",
"//From reciprocity theorem F21=F12 (since A1=A2)\n",
"F21=F12;//view factor\n",
"disp('The net rate of energy loss from the surface at 127°C if the surrounding other than the two surfaces act as black body at 0K in W' )\n",
"Q1=A1*sigma*(T1^4-F12*T2^4)\n",
"//In the case when surrounding is at temprature, Ts=300K ,the energy recieved from the surrounding by the surface 1 has to be considered.\n",
"Ts=300;\n",
"//Applying summation rule of view factors F11+F12+F1s=1\n",
"F11=0;//view factor\n",
"disp('The view factor of surface 1 with respect to surrounding is')\n",
"F1s=1-F11-F12\n",
"//subscript s denotes the surroundings\n",
"//Q1=A1*Eb1-A2*F21*Eb2-As*Fs1*Ebs\n",
"//With the help of reciprocity theorem A2*F21=A1*F12 , As*Fs1=A1*F1s\n",
"//Therefore we can write Q1=A1*sigma*(T1^4-F12*T2^4-F1s*Ts^4)\n",
"disp('The net rate of energy loss from the surface at 127°C if the surrounding other than the two surfaces act as black body at 300K in W ')\n",
"Q1=A1*sigma*(T1^4-F12*T2^4-F1s*Ts^4)\n",
"\n",
"\n",
"\n",
"\n",
"\n",
"\n",
"\n",
"\n",
"\n",
"\n",
"\n",
"\n",
"\n",
"\n",
"\n",
"\n",
"\n",
"\n",
"\n",
""
   ]
   }
,
{
		   "cell_type": "markdown",
		   "metadata": {},
		   "source": [
			"## Example 11.7: Two_parallel_infinite_planes.sce"
		   ]
		  },
  {
"cell_type": "code",
	   "execution_count": null,
	   "metadata": {
	    "collapsed": true
	   },
	   "outputs": [],
"source": [
"// Display mode\n",
"mode(0);\n",
"// Display warning for floating point exception\n",
"ieee(1);\n",
"clear;\n",
"clc;\n",
"disp('Introduction to heat transfer by S.K.Som, Chapter 11, Example 7')\n",
"//Two parallel infinite surafces are maintained at tempratures T2=200°C or 473.15K and T1=300°C or 573.15K\n",
"T1=573.15;\n",
"T2=473.15;\n",
"//The emissivity(emi) is 0.7 for both the surfaces which are gray.\n",
"emi1=0.7;\n",
"emi2=0.7;\n",
"//stefan=boltzman constant(sigma)=5.67*10^-8W/(m^2*K^4)\n",
"sigma=5.67*10^-8;\n",
"//The net rate of heat transfer per unit area is given Q/A=(sigma*(T1^4-T2^4))/[(1/Ɛ1)+(1/Ɛ2)-1]\n",
"//Let Q/A=H\n",
"disp('The net rate of heat transfer per unit area is given Q/A=(sigma*(T1^4-T2^4))/[(1/Ɛ1)+(1/Ɛ2)-1] in W')\n",
"H=(sigma*(T1^4-T2^4))/[(1/emi1)+(1/emi2)-1]\n",
"//When the two surfaces are black\n",
"//This implies emiisivity(emi)=1 for both surfaces\n",
"//So,The net rate of heat transfer when the two surfaces are black is Q/A=sigma*(T1^4-T2^4)\n",
"disp('The net rate of heat transfer when the two surfaces are black is Q/A=sigma*(T1^4-T2^4) in W')\n",
"H=sigma*(T1^4-T2^4)\n",
"\n",
"\n",
"\n",
"\n",
"\n",
"\n",
"\n",
"\n",
"\n",
""
   ]
   }
,
{
		   "cell_type": "markdown",
		   "metadata": {},
		   "source": [
			"## Example 11.8: Two_concentric_spheres_are_separated_in_air_space.sce"
		   ]
		  },
  {
"cell_type": "code",
	   "execution_count": null,
	   "metadata": {
	    "collapsed": true
	   },
	   "outputs": [],
"source": [
"// Display mode\n",
"mode(0);\n",
"// Display warning for floating point exception\n",
"ieee(1);\n",
"clear;\n",
"clc;\n",
"disp('Introduction to heat transfer by S.K.Som, Chapter 11, Example 8')\n",
"//Two concentric spheres of diameters D1=0.5m and D2=1m are separated by an air space.\n",
"//The surface tempratures are T1=400K and T2=300K\n",
"T1=400;\n",
"T2=300;\n",
"D1=0.5;\n",
"D2=1;\n",
"//A1 and A2 are the areas in m^2 of surface 1 and surface 2 respectively\n",
"A1=(%pi*D1^2);\n",
"A2=(%pi*D2^2);\n",
"//Stefan-Boltzman constant(sigma)=5.67*10^-8 W/(m^2*K^4)\n",
"sigma=5.67*10^-8;\n",
"//The emissivity is represented by emi \n",
"//The radiation heat exchange in case of two concentric sphere is given by Q=[A1*sigma*(T1^4-T2^4)]/[(1/emi1)+(A1/A2)*(1/emi2-1)] \n",
"//When the spheres are black emi1=emi2=1\n",
"emi1=1;\n",
"emi2=1;\n",
"//Hence Q=A1*sigma*(T1^4-T2^4)\n",
"disp('The net rate of heat exchange between the spheres when the surfaces are black is Q=A1*sigma*(T1^4-T2^4) in W ')\n",
"Q=A1*sigma*(T1^4-T2^4)\n",
"//The net rate of radiation exchange when one surface is gray and other is diffuse having emi1=0.5 and emi2=0.5  \n",
"emi1=0.5;\n",
"emi2=0.5;\n",
"disp('The net rate of radiation exchange when one surface is gray and other is diffuse is given by Q1=[A1*sigma*(T1^4-T2^4)]/[(1/emi1)+(A1/A2)*(1/emi2-1)] in W')  \n",
"Q1=[A1*sigma*(T1^4-T2^4)]/[(1/emi1)+(A1/A2)*(1/emi2-1)]\n",
"//The net rate of radiation exchange when outer surface is assumed to be black body i;e(emi2=1)\n",
"emi2=1;//emissivity of outer surface\n",
"disp('The net rate of radiation exchange when outer surface is assumed to be black body i;e(emi2=1) in W')\n",
"Q2=[A1*sigma*(T1^4-T2^4)]/[(1/emi1)+(A1/A2)*(1/emi2-1)]\n",
"disp('Error(E) is given By [(Q2-Q1)/Q1]*100 in percentage')\n",
"E=[(Q2-Q1)/Q1]*100\n",
"\n",
"\n",
"\n",
"\n",
"\n",
"\n",
"\n",
"\n",
"\n",
"\n",
"\n",
"\n",
"\n",
""
   ]
   }
],
"metadata": {
		  "kernelspec": {
		   "display_name": "Scilab",
		   "language": "scilab",
		   "name": "scilab"
		  },
		  "language_info": {
		   "file_extension": ".sce",
		   "help_links": [
			{
			 "text": "MetaKernel Magics",
			 "url": "https://github.com/calysto/metakernel/blob/master/metakernel/magics/README.md"
			}
		   ],
		   "mimetype": "text/x-octave",
		   "name": "scilab",
		   "version": "0.7.1"
		  }
		 },
		 "nbformat": 4,
		 "nbformat_minor": 0
}
