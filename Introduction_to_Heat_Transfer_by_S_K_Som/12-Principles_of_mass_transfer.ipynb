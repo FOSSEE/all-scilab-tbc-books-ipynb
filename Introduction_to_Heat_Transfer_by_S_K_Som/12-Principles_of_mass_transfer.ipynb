{
"cells": [
 {
		   "cell_type": "markdown",
	   "metadata": {},
	   "source": [
       "# Chapter 12: Principles of mass transfer"
	   ]
	},
{
		   "cell_type": "markdown",
		   "metadata": {},
		   "source": [
			"## Example 12.1: Pipeline_that_transports_helium_gas.sce"
		   ]
		  },
  {
"cell_type": "code",
	   "execution_count": null,
	   "metadata": {
	    "collapsed": true
	   },
	   "outputs": [],
"source": [
"// Display mode\n",
"mode(0);\n",
"// Display warning for floating point exception\n",
"ieee(1);\n",
"clear;\n",
"clc;\n",
"disp('Introduction to heat transfer by S.K.Som, Chapter 12, Example 1')\n",
"//The pressure in the pipeline that transports helium gas at a rate of 4kg/s is maintained at pressure(p)=1 atm or 101*10^3 pascal.\n",
"//The internal daimeter of tube is (di)=6mm or .006m\n",
"//The temprature of both air and helium is (T)=25°C or 298 K.\n",
"//The diffusion coefficient of helium in air at normal atmosphere is(Dab)=7.20*10^-5 m^2/s\n",
"//The venting tube extends to a length(L)=20m in the atmosphere.\n",
"di=.006;\n",
"disp('The flow area is given by A=(pi*di^2)/4 in m^2')\n",
"A=(%pi*di^2)/4\n",
"p=101*10^3;;\n",
"R=8.31*10^3;//gas constant\n",
"T=298;\n",
"Dab=7.20*10^-5;\n",
"L=20;\n",
"//c is the molar concentration\n",
"disp('The molar concentration of mixture which is constant throughout is given by c=p/(R*T)')\n",
"c=p/(R*T)\n",
"//helium has been considered as species A so (helium mole fraction at the bottom of the tube)is Yao=1 and (helium mole fraction at the bottom of the tube)is Yal=0\n",
"Yal=0;\n",
"Yao=1;\n",
"//Nhe and Nair are molar rate of helium and air respectively\n",
"disp('Nhe=Nair=(A*c*Db*(Yao-yal))/L in kmol/sec')\n",
"Nair=(A*c*Dab*(Yao-Yal))/L\n",
"Nhe=Nair;\n",
"//Molecular weights of air and helium are 29kg/kmol and 4 kg/kmol respectively.\n",
"Mhe=4;\n",
"Mair=29;\n",
"//mass flow rate of helium is mhe\n",
"disp('mass flow rate of helium is given by m=Mhe*Nhe in kg/sec ')\n",
"mhe=Mhe*Nhe\n",
"//mass flow rate of air is mair\n",
"disp('mass flow rate of air is given by m=Mair*Nair in kg/sec ')\n",
"mair=Mair*Nair"
   ]
   }
,
{
		   "cell_type": "markdown",
		   "metadata": {},
		   "source": [
			"## Example 12.2: Wet_bulb_thermometer.sce"
		   ]
		  },
  {
"cell_type": "code",
	   "execution_count": null,
	   "metadata": {
	    "collapsed": true
	   },
	   "outputs": [],
"source": [
"// Display mode\n",
"mode(0);\n",
"// Display warning for floating point exception\n",
"ieee(1);\n",
"clear;\n",
"clc;\n",
"disp('Introduction to heat transfer by S.K.Som, Chapter 12, Example 2')\n",
"//The temprature of atmospheric air (T)=40°C which flows over a wet bulb thermometer.\n",
"//The reading of wet bulb thermometer which is called the wet bulb temprature is (Tw)=20°C\n",
"T=40;\n",
"Tw=20;\n",
"//Tf is the film temprature\n",
"disp('The film temprature is given by Tf=(T+Tw)/2 in °C ')\n",
"Tf=(T+Tw)/2\n",
"Tinf=T;//surrounding temprature\n",
"//The properties of air at film temprature are density(rho=1.13kg/m^3),specific heat(cp=1.007kJ/(kg*K)),Thermal diffusivity(alpha=0.241*10^-4m^2/s)\n",
"//The diffusivity Dab=0.26*10^-4 m^2/s\n",
"//The enthalpy of vaporisation of water at 20°C is hfg=2407kJ/kg or 2407*10^3 J/kg\n",
"//The partial pressure of water vapour is the saturation pressure corresponding to 20°C so from steam table Ps=2.34kPa or 2.34*10^3 Pa.\n",
"rho=1.13;\n",
"cp=1.007*10^3;\n",
"alpha=0.241*10^-4;\n",
"Dab=0.26*10^-4;\n",
"hfg=2407*10^3;\n",
"Ps=2.34*10^3;\n",
"//The temprature at bulb surface Ts=20°C or 293K\n",
"Ts=Tw+273;//in kelvin\n",
"R=8.31*10^3;//gas constant\n",
"//The molecular weight of water is M=18\n",
"M=18;\n",
"//The density of water at bulb surface is rhos\n",
"disp('The density of water at bulb surface is given by rhos=(Ps*M)/(R*Ts) in kg/m^3') \n",
"rhos=(Ps*M)/(R*Ts)\n",
"//Let X=hheat/hmass=rho*cp*(alpha/Dab)^(2/3).\n",
"X=rho*cp*(alpha/Dab)^(2/3);\n",
"//At steady atate (Rate of heat transfer from air to wet cover of thermometer bulb)=(Heat removed by evaporation of water from the wet cover of thermometer bulb)\n",
"//hheat*(Tinf-Ts)=hmass*(rhos-rhoinf)*hfg\n",
"//Rearranging above we get rhoinf=rhos-(hheat/hmass)*((Tinf-Ts)/hfg)\n",
"//The concentration of water vapour at free stream is rhoinf\n",
"disp('The concentration of water vapour at free stream is rhoinf=rhos-(hheat/hmass)*((Tinf-Ts)/hfg) in kg/m^3')\n",
"rhoinf=rhos-((X)*((Tinf-Tw)/hfg))\n",
"//The mass concentration of saturated water vapour(rhosteam) at 40°C(as found from steam table) is .051 kg/m^3\n",
"rhosteam=.051;\n",
"//The relative humidity is (rehu)\n",
"disp('The relative humidity is given by rehu=(rhoinf/rhosteam)*100 in percentage')\n",
"rehu=(rhoinf/rhosteam)*100\n",
"\n",
"\n",
"\n",
"\n",
"\n",
"\n",
""
   ]
   }
,
{
		   "cell_type": "markdown",
		   "metadata": {},
		   "source": [
			"## Example 12.3: Measurement_of_binary_diffusion_coefficient.sce"
		   ]
		  },
  {
"cell_type": "code",
	   "execution_count": null,
	   "metadata": {
	    "collapsed": true
	   },
	   "outputs": [],
"source": [
"// Display mode\n",
"mode(0);\n",
"// Display warning for floating point exception\n",
"ieee(1);\n",
"clear;\n",
"clc;\n",
"disp('Introduction to heat transfer by S.K.Som, Chapter 12, Example 3')\n",
"//The diameter of tube is (di)=35mm which measures binary diffusion coefficient of water vapour in air at temprature,T=20°C or 293 K.\n",
"//The measurement is done at height of 1500 m where the atmospheric pressure is (p)=80kPa.\n",
"p=80;\n",
"T=293;\n",
"//The distance from the water surface to the open end of the tube is L=500 mm or 0.5m.\n",
"L=.5;\n",
"//After t=12 days of continuous operation at constant pressure and temprature the amount of water evaporated was measured to be m= 1.2*10^-3kg.\n",
"m= 1.2*10^-3;\n",
"//From the steam table pvapour=3.17kPa\n",
"pvapour=3.17;//partial pressure of vapour\n",
"//Yao is the mole fraction of water vapour at the interface\n",
"disp('The mole fraction of water vapour at the interface is given by Yao=pvapour/p')\n",
"Yao=pvapour/p\n",
"//The mole fraction of water vapour at the top end of the tube is Yal=0\n",
"Yal=0;\n",
"R=8.31*10^3;//gas constant\n",
"//The total molecular concentration is (c)\n",
"disp('The total molecular concentration (c) through the tube remains constant is given by c=p/(R*T) in kmol/m^3')\n",
"c=(p*10^3)/(R*T)\n",
"di=35;\n",
"//A is the cross sectional area of the tube\n",
"disp('The cross sectional area of the tube is given by A=(pi*(di*10^-3)^2)/4 in m^2')\n",
"A=(%pi*(di*10^-3)^2)/4\n",
"//The molecular weight of wate is M=18\n",
"M=18;\n",
"//The mass flow rate is given by mdot=(m/(12*24*3600))\n",
"mdot=(m/(12*24*3600));\n",
"//N is the molar flow rate of water vapour\n",
"disp('The molar flow rate of water vapour is given by N=mdot/M in kmol/s')\n",
"N=mdot/M\n",
"//The molar flow rate of water vapour can also be written as N=(c*Dab*A*ln[(1-Yal)/(1-Yao)])/L\n",
"//The diffusion coefficient of water vapour is Dab=(N*L)/(c*A*ln[(1-Yal)/(1-Yao)])\n",
"//let us take X=log10((1-Yal)/(1-Yao)) and Y=log10(2.7182)\n",
"X=log10((1-Yal)/(1-Yao));\n",
"Y=log10(2.7182);\n",
"//ln[(1-Yal)/(1-Yao)] is given by\n",
"ln=X/Y;\n",
"disp('The diffusion coefficient of water vapour is Dab=(N*L)/(c*A*ln[(1-Yal)/(1-Yao)]) in m/s')\n",
"Dab=(N*L)/(c*A*ln)\n",
"\n",
"\n",
"\n",
"\n",
"\n",
"\n",
"\n",
"\n",
"\n",
"\n",
"\n",
"\n",
"\n",
"\n",
"\n",
"\n",
"\n",
"\n",
""
   ]
   }
],
"metadata": {
		  "kernelspec": {
		   "display_name": "Scilab",
		   "language": "scilab",
		   "name": "scilab"
		  },
		  "language_info": {
		   "file_extension": ".sce",
		   "help_links": [
			{
			 "text": "MetaKernel Magics",
			 "url": "https://github.com/calysto/metakernel/blob/master/metakernel/magics/README.md"
			}
		   ],
		   "mimetype": "text/x-octave",
		   "name": "scilab",
		   "version": "0.7.1"
		  }
		 },
		 "nbformat": 4,
		 "nbformat_minor": 0
}
