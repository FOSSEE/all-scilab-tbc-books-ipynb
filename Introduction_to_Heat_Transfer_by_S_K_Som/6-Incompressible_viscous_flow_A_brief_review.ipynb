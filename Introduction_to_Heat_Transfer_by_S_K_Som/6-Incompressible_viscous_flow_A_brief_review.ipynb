{
"cells": [
 {
		   "cell_type": "markdown",
	   "metadata": {},
	   "source": [
       "# Chapter 6: Incompressible viscous flow A brief review"
	   ]
	},
{
		   "cell_type": "markdown",
		   "metadata": {},
		   "source": [
			"## Example 6.10: Wind_bows_over_a_flat_plate.sce"
		   ]
		  },
  {
"cell_type": "code",
	   "execution_count": null,
	   "metadata": {
	    "collapsed": true
	   },
	   "outputs": [],
"source": [
"// Display mode\n",
"mode(0);\n",
"// Display warning for floating point exception\n",
"ieee(1);\n",
"clear;\n",
"clc;\n",
"disp('Introduction to heat transfer by S.K.Som, Chapter 6, Example 10')\n",
"//Wind at a speed of U=36km/hr blows over a flat plate of length,L=6m .If the density and kinematic viscosity of air are rho=1.2kg/m^3 and mu=1.5*10^-5m^2/s respectively.\n",
"U=36;\n",
"L=6;\n",
"rho=1.2;\n",
"mu=1.5*10^-5;\n",
"//Wind velocity in m/s is Uinf\n",
"disp('Wind velocity(Uinf)in m/s is')\n",
"Uinf=U*1000/3600\n",
"//Reynolds number is given by ReL=L*Uinf/mu\n",
"disp('Reynolds number is')\n",
"ReL=L*Uinf/mu\n",
"//We consider that transition of boundary layer takes place from laminar to turbulent takes place at ReL=5*10^5.\n",
"//Therfore the corresponding friction coefficient is given by  CbarfL=(0.074-ReL^(1/5))-(1742/ReL)\n",
"disp('Friction coefficient is')\n",
"CbarfL=(0.074/ReL^(1/5))-(1742/ReL)\n",
"//Drag force on one side of the plate per unit metre width is given by FD=CbarfL*rho*Uinf^2*L/2\n",
"disp('Drag force on one side of the plate per unit metre width in Newton is ')\n",
"FD=CbarfL*rho*Uinf^2*L/2\n",
"//The turbulent boundary layer thickness at the trailing edge is given by delta=L*(0.379/ReL^(1/5))\n",
"disp('The turbulent boundary layer thickness at the trailing edge in metre is ')\n",
"delta=L*(0.379/ReL^(1/5))\n",
"\n",
"\n",
"\n",
"\n",
"\n",
"\n",
"\n",
"\n",
"\n",
"\n",
"\n",
"\n",
"\n",
"\n",
""
   ]
   }
,
{
		   "cell_type": "markdown",
		   "metadata": {},
		   "source": [
			"## Example 6.1: Oil_flows_between_two_fixed_plates.sce"
		   ]
		  },
  {
"cell_type": "code",
	   "execution_count": null,
	   "metadata": {
	    "collapsed": true
	   },
	   "outputs": [],
"source": [
"// Display mode\n",
"mode(0);\n",
"// Display warning for floating point exception\n",
"ieee(1);\n",
"clear;\n",
"clc;\n",
"disp('Introduction to heat transfer by S.K.Som, Chapter 6, Example 1')\n",
"//Oil of specific gravity 0.90 and dynamic viscosity (mu=0.1Pa*s) flows between two fixed plates kept 2*b=10mm apart,So b=5mm.\n",
"//The average velocity is Uav=1.60m/s\n",
"Uav=1.60;\n",
"mu=0.1;\n",
"b=0.005;// in metre\n",
"//Umax is maximum velocity\n",
"//Umax=(3/2)*Uav\n",
"disp('Umax in m/s is')\n",
"Umax=(3/2)*Uav\n",
"//The shear stress at the plate is given by T=2*µ*(Umax/b)\n",
"disp('The shear stress T in N/m^2')\n",
"T=2*mu*(Umax/b) \n",
"//The shear sress at a distance from plate is given by t=y*(dp/dx)\n",
"//(dp/dx)=X=-3*mu*(Uav/b^2)\n",
"disp('(dp/dx) in N/m^3 is')\n",
"X=-3*mu*(Uav/b^2)\n",
"//Taking modulus of X by multipying it with negative sign. \n",
"disp('The Shear stress at a distance of 0.002m from the lower plate in N/m^2')\n",
"y=b-0.002;\n",
"t=y*(X)//NOTE:Answer given in the book is incorrect (Calculation mistake)\n",
"disp('The shear stress at a distance of 0.002m from the upper plate in N/m^2')\n",
"t=-y*(X)//NOTE:Answer given in the book is incorrect (Calculation mistake)\n",
"disp('The opposite signs in t represents the opposite directions.The plus sign is in the direction of flow and the minus sign is in the direction opposite to the flow ')\n",
"//deltaP is the pressure drop\n",
"disp('The pressure drop over a distance of 2m in N/m^2 is')\n",
"//Since pressure drop is considered at a distance of 2m so L=2m\n",
"L=2;\n",
"deltaP=(-X)*L\n",
"\n",
"\n",
"\n",
"\n",
"\n",
"\n",
"\n",
"\n",
"\n",
"\n",
"\n",
"\n",
"\n",
"\n",
"\n",
"\n",
"\n",
"\n",
"\n",
"\n",
"\n",
"\n",
"\n",
""
   ]
   }
,
{
		   "cell_type": "markdown",
		   "metadata": {},
		   "source": [
			"## Example 6.3: Oil_is_discharged_under_a_pressure.sce"
		   ]
		  },
  {
"cell_type": "code",
	   "execution_count": null,
	   "metadata": {
	    "collapsed": true
	   },
	   "outputs": [],
"source": [
"// Display mode\n",
"mode(0);\n",
"// Display warning for floating point exception\n",
"ieee(1);\n",
"clear;\n",
"clc;\n",
"disp('Introduction to heat transfer by S.K.Som, Chapter 6, Example 3')\n",
"//Oil of specific gravity (sg)=0.90 is discharged at a rate(mdot)=3kg/s under a pressure difference dp=10KN/m^2 over a length dz=5m of a pipe having a diameter(D) of 50mm.\n",
"dp=10*10^3;//in N/m^2\n",
"dz=5;\n",
"D=0.05;//in metre\n",
"mdot=3;\n",
"sg=0.90;\n",
"//X=dp/dz is the rate of change of pressure\n",
"disp('The rate of change of pressure with respect to length in N/m^3')\n",
"X=dp/dz\n",
"//Flow rate is Q\n",
"disp('Flow rate(Q) in m^3/s is)')\n",
"Q=mdot/(sg*10^3)\n",
"//The viscosity of oil is mu=(pi*D^4*X)/(128*Q*dz)\n",
"disp('The viscosity of oil(mu)in kg/(m*s)')\n",
"mu=(%pi*D^4*X)/(128*Q)\n",
"\n",
"\n",
"\n",
"\n",
"\n",
"\n",
"\n",
"\n",
"\n",
"\n",
"\n",
"\n",
"\n",
"\n",
"\n",
"\n",
"\n",
"\n",
"\n",
"\n",
""
   ]
   }
,
{
		   "cell_type": "markdown",
		   "metadata": {},
		   "source": [
			"## Example 6.7: A_flat_plate_is_kept_parallel_to_a_uniform_stream.sce"
		   ]
		  },
  {
"cell_type": "code",
	   "execution_count": null,
	   "metadata": {
	    "collapsed": true
	   },
	   "outputs": [],
"source": [
"// Display mode\n",
"mode(0);\n",
"// Display warning for floating point exception\n",
"ieee(1);\n",
"clear;\n",
"clc;\n",
"disp('Introduction to heat transfer by S.K.Som, Chapter 6, Example 7')\n",
"//A flat plate B=1.2m wide and of length L is kept parallel to a uniform stream of air of velocity Uinf=3m/s in a wind tunnel.\n",
"Uinf=3;\n",
"B=1.2;\n",
"//If it is desired to have a laminar boundary layer only on the plate \n",
"//Assume that the laminar flow exists up to a reynold number(ReL)=5*10^5.Take density of air as rhoair=1.2kg/m^3 and viscosity of air as nuair=1.5*10^-5 m^2/s.\n",
"nuair=1.5*10^-5;\n",
"rhoair=1.2;\n",
"ReL=5*10^5;\n",
"//For maximum length of the plate reynolds number is ReL=Uinf*L/nuair\n",
"//so L=ReL*nuair/Uinf\n",
"disp('The maximum length of plate in m is ')\n",
"L=ReL*nuair/Uinf\n",
"//The average skin friction coefficient is cfL=1.328/(ReL)^(1/2)\n",
"disp('The average skin friction coefficient is')\n",
"cfL=1.328/(ReL)^(1/2)\n",
"//Fd is drag force\n",
"disp('Drag force on one side of plate in N is')\n",
"Fd=cfL*(rhoair*Uinf^2/2)*B*L\n",
"\n",
"\n",
"\n",
"\n",
"\n",
"\n",
"\n",
"\n",
"\n",
"\n",
"\n",
"\n",
"\n",
"\n",
"\n",
"\n",
"\n",
"\n",
"\n",
""
   ]
   }
],
"metadata": {
		  "kernelspec": {
		   "display_name": "Scilab",
		   "language": "scilab",
		   "name": "scilab"
		  },
		  "language_info": {
		   "file_extension": ".sce",
		   "help_links": [
			{
			 "text": "MetaKernel Magics",
			 "url": "https://github.com/calysto/metakernel/blob/master/metakernel/magics/README.md"
			}
		   ],
		   "mimetype": "text/x-octave",
		   "name": "scilab",
		   "version": "0.7.1"
		  }
		 },
		 "nbformat": 4,
		 "nbformat_minor": 0
}
