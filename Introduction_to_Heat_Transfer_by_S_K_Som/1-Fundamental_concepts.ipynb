{
"cells": [
 {
		   "cell_type": "markdown",
	   "metadata": {},
	   "source": [
       "# Chapter 1: Fundamental concepts"
	   ]
	},
{
		   "cell_type": "markdown",
		   "metadata": {},
		   "source": [
			"## Example 1.10: A_flat_panel_on_spacecraft.sce"
		   ]
		  },
  {
"cell_type": "code",
	   "execution_count": null,
	   "metadata": {
	    "collapsed": true
	   },
	   "outputs": [],
"source": [
"// Display mode\n",
"mode(0);\n",
"// Display warning for floating point exception\n",
"ieee(1);\n",
"clear;\n",
"clc;\n",
"disp('Introduction to heat transfer by S.K.Som, Chapter 1, Example 10')\n",
"//The spacecraft panel has thickness(L)=.01 m\n",
"//The spacecraft has inner temprature (Ti)=298 K\n",
"//The spacecraft has outer temprature(T2)\n",
"//The panel is exposed to deep space where temprature(To)= 0K\n",
"//The material has Thermal conductivity(k)= 5.0 W/(m*K)\n",
"//The emissivity(emi)=0.8\n",
"//The inner surface of the panel is exposed to airflow resulting in an average heat transfer coefficient(hbri)=70 W/(m^2*K)\n",
"L=.01;\n",
"Ti=298;\n",
"To=0;\n",
"k=5;\n",
"emi=0.8;\n",
"hbri=70;\n",
"//The stefan Boltzman constant(sigma)= 5.67*10^-8 W/(m^2/K^4)\n",
"sigma=5.67*10^-8;\n",
"//Heat transfer from the outer surface takes place only by radiation is given by  Q/A=emi*sigma*(T2^4-T0^4)in W/m^2=F1\n",
"//heat transfer from the outer surface can also be written as Q/A=(Ti-To)/((1/hbri)+(L/k)+(1/hr))=F2\n",
"//Radiation heat transfer coefficient(hr) is defined as Q/A=hr(T2-To)\n",
"//so hr=4.536*10^-8*T2^3\n",
"disp('Heat transfer from the outer surface takes place only by radiation is given by Q/A=F1=emi*sigma*(T2^4-T0^4)in W/m^2 for different values of tempratures in K')\n",
"disp('heat transfer from the outer surface can also be written as Q/A=F2=(Ti-To)/((1/hbri)+(L/k)+(1/hr)) in W/m^2 at different tempratures in K' )\n",
"disp('The values of temprature that are considered are <298 K')\n",
"for (i=285:292)\n",
"    T2=i,hr=4.536*10^-8*T2^3; F1=emi*sigma*(T2^4-To^4),F2=(Ti-To)/((1/hbri)+(L/k)+(1/hr))\n",
"end\n",
"if F1==F2 then T2=i\n",
"    else T2=292.5,hr=4.536*10^-8*T2^3; F1=emi*sigma*(T2^4-To^4),F2=(Ti-To)/((1/hbri)+(L/k)+(1/hr))\n",
"end\n",
"disp('Satisfactory solutions for Temprature in K is')\n",
"disp(Temprature = T2)\n",
"disp('Approximate Rate of Heat Transfer in W/m^2 is')\n",
"disp(332)\n",
"\n",
"\n",
"\n",
"\n",
"\n",
"\n",
"\n",
"\n",
"\n",
""
   ]
   }
,
{
		   "cell_type": "markdown",
		   "metadata": {},
		   "source": [
			"## Example 1.11: A_horizontal_steel_pipe.sce"
		   ]
		  },
  {
"cell_type": "code",
	   "execution_count": null,
	   "metadata": {
	    "collapsed": true
	   },
	   "outputs": [],
"source": [
"// Display mode\n",
"mode(0);\n",
"// Display warning for floating point exception\n",
"ieee(1);\n",
"clear;\n",
"clc;\n",
"disp('Introduction to heat transfer by S.K.Som, Chapter 1, Example 11')\n",
"//The horizontal steel pipe has outer diameter(D)=80 mm or.08 m\n",
"//The pipe is maintained at a temprature(T1)=60°C where the air and wall temprature(T2)=20 °C \n",
"//The average free convective heat transfer coefficient(hbr)=6.5 W/(m^2/K) b/w the outer surface of the pipe and air\n",
"D=.08;\n",
"T1=60;\n",
"T2=20;\n",
"hbr=6.5;\n",
"//Length(L=1) since per unit length is considered\n",
"L=1;\n",
"//The surface area of pipe is given by A=(%pi*D*L)\n",
"A=(%pi*D*L);\n",
"//The surface emissivity(emi) of steel = 0.8\n",
"//The stefan -Boltzman constant(sigma)= 5.7*10^-8 W/(m^2*K^4)\n",
"sigma=5.67*10^-8;\n",
"emi=.8;\n",
"//The total heat loss by The pipe per unit length is given by Q/L=hbr*A*(T1-T2)+sigma*emi*A*(T1^4-T2^4)\n",
"disp('The total heat loss by The pipe per unit length is given by Q/L=hbr*A*(T1-T2)+sigma*emi*A*(T1^4-T2^4) in W/m')\n",
"//Let Q/L=F\n",
"F=hbr*A*((T1+273.15)-(T2+273.15))+sigma*emi*A*((T1+273.15)^4-(T2+273.15)^4)\n",
""
   ]
   }
,
{
		   "cell_type": "markdown",
		   "metadata": {},
		   "source": [
			"## Example 1.1: Thick_homogeneous_slab.sce"
		   ]
		  },
  {
"cell_type": "code",
	   "execution_count": null,
	   "metadata": {
	    "collapsed": true
	   },
	   "outputs": [],
"source": [
"// Display mode\n",
"mode(0);\n",
"// Display warning for floating point exception\n",
"ieee(1);\n",
"clear;\n",
"clc;\n",
"disp('Introduction to heat transfer by S.K.Som, Chapter 1, Example 1')\n",
"//The temprature of two faces of the slabs are T1=40°C & T2=20°C \n",
"//The thickness of the slab(L) is 80mm or .08m\n",
"//The thermal conductivity(k)of the material is .20 W/(m*K)\n",
"T1=40;\n",
"T2=20;\n",
"L=.08;\n",
"k=.20;\n",
"//The steady state heat transfer rate per unit area through the thick slab is given by q=k(T1-T2)/L\n",
"disp ('The steady state heat transfer rate per unit area through the thick slab is given by q=k(T1-T2)/L in W/m^2 ')\n",
"q=k*(T1-T2)/L"
   ]
   }
,
{
		   "cell_type": "markdown",
		   "metadata": {},
		   "source": [
			"## Example 1.2: Thickness_required_of_a_masonry_wall.sce"
		   ]
		  },
  {
"cell_type": "code",
	   "execution_count": null,
	   "metadata": {
	    "collapsed": true
	   },
	   "outputs": [],
"source": [
"// Display mode\n",
"mode(0);\n",
"// Display warning for floating point exception\n",
"ieee(1);\n",
"clear;\n",
"clc;\n",
"disp('Introduction to heat transfer by S.K.Som, Chapter 1, Example 2')\n",
"//The thermal conductivity(km)of masonry wall is .8 W/(mK)\n",
"//The thermal conductivity(kc)of composite wall is .2 W/(mK)\n",
"//The thickness of composite wall(Lc) is 100 mm or .1 m\n",
"km=.8;\n",
"kc=.2;\n",
"Lc=.1;\n",
"//The thickness of masonry wall(Lm) is to be found. \n",
"//The steady state heat flow(qm)through masonry wall is km(T1-T2)/L\n",
"// The steady state heat flow(qc)through composite wall is kc(T1-T2)/L\n",
"//As the steady rate of heat flow through masonry wall is 80% that through composite wall and both the wall have same surface area and same temp. difference so qm/qc=0.8=(km/kc)*(Lc/Lm)\n",
"//The thickness of masonry wall is Lm.\n",
"disp ('The thickness of masonry wall is Lm in m')\n",
"Lm=(km/kc)*(Lc/(0.8))"
   ]
   }
,
{
		   "cell_type": "markdown",
		   "metadata": {},
		   "source": [
			"## Example 1.4: Average_forced_convective_heat_transfer_coefficient.sce"
		   ]
		  },
  {
"cell_type": "code",
	   "execution_count": null,
	   "metadata": {
	    "collapsed": true
	   },
	   "outputs": [],
"source": [
"// Display mode\n",
"mode(0);\n",
"// Display warning for floating point exception\n",
"ieee(1);\n",
"clear;\n",
"clc;\n",
"disp('Introduction to heat transfer by S.K.Som, Chapter 1, Example 4')\n",
"//The average forced convective heat transfer coefficient(hbr) is 200 W/( m^2 °C)\n",
"//The fluid temprature(Tinf) upstream of the cold surface is 100°C\n",
"//The surface temprature(Ts) is 20°C\n",
"hbr=200;\n",
"Tinf=100;\n",
"Ts=20;\n",
"//The rate of heat transfer per unit area is q\n",
"disp ('The rate of heat transfer per unit area q=hbr*(Tinf-Ts) in W/m^2')\n",
"q=hbr*(Tinf-Ts)"
   ]
   }
,
{
		   "cell_type": "markdown",
		   "metadata": {},
		   "source": [
			"## Example 1.5: Forced_air_flows_over_a_convective_heat_exchanger.sce"
		   ]
		  },
  {
"cell_type": "code",
	   "execution_count": null,
	   "metadata": {
	    "collapsed": true
	   },
	   "outputs": [],
"source": [
"// Display mode\n",
"mode(0);\n",
"// Display warning for floating point exception\n",
"ieee(1);\n",
"clear;\n",
"clc;\n",
"disp('Introduction to heat transfer by S.K.Som, Chapter 1, Example 5')\n",
"//The average heat transfer coefficient(hbr) is 800 W/(m^2°C)\n",
"//The surface temprature of heat exchanger is 75°C and air temprature is 25°C so deltaT=(75-25)\n",
"//The amount of heat exchanged(Q) is 20 MJ/h\n",
"//The heat exchanger surface area(A) is given by A=Q/(hbr*∆T)\n",
"hbr=800;\n",
"deltaT=(75-25);\n",
"Q=20;\n",
"disp('The heat exchanger surface area(A)in m^2 required for 20 MJ/h of heating is ')\n",
"A = (Q*10^6)/(3600*hbr*deltaT)"
   ]
   }
,
{
		   "cell_type": "markdown",
		   "metadata": {},
		   "source": [
			"## Example 1.6: Thin_hot_vertical_plate.sce"
		   ]
		  },
  {
"cell_type": "code",
	   "execution_count": null,
	   "metadata": {
	    "collapsed": true
	   },
	   "outputs": [],
"source": [
"// Display mode\n",
"mode(0);\n",
"// Display warning for floating point exception\n",
"ieee(1);\n",
"clear;\n",
"clc;\n",
"disp('Introduction to heat transfer by S.K.Som, Chapter 1, Example 6')\n",
"//The temprature of the plate(Ts) is 225°C\n",
"//The ambient temprature (Tinf) is 25°C\n",
"//The change in plate temprature with time is dT/dt=-.02K/s\n",
"//The plate area (A)=.1m^2 , mass(m)= 4Kg and specific heat(cp)=2.8KJ/(Kg*K)\n",
"//The average free convective heat coefficient(hbr) is to be found\n",
"Ts=225;\n",
"Tinf=25;\n",
"//|dT/dt|=0.2,because it is modulus function and it converts negative values to positive value.\n",
"//Let |dT/dt|=X\n",
"X=0.02;\n",
"A=.1;\n",
"m=4;\n",
"cp=2.8;\n",
"disp('The rate of heat transfer from the plate is given by Q=hbr*A*(Ts-Tinf)')\n",
"disp('The rate of heat transfer can also be written in the form of Q=m*cp*|dT/dt| from an energy balance.')\n",
"disp('Equating the above two equations we get hbr=(m*cp*|dT/dt|)/(A*(Ts-Tinf)) in W/(m^2°C)')\n",
"hbr=(m*cp*10^3*X)/(A*(Ts-Tinf))\n",
"\n",
"\n",
"\n",
"\n",
"\n",
"\n",
"\n",
"\n",
"\n",
"\n",
"\n",
"\n",
"\n",
"\n",
""
   ]
   }
,
{
		   "cell_type": "markdown",
		   "metadata": {},
		   "source": [
			"## Example 1.7: After_sunset_radiant_energy.sce"
		   ]
		  },
  {
"cell_type": "code",
	   "execution_count": null,
	   "metadata": {
	    "collapsed": true
	   },
	   "outputs": [],
"source": [
"// Display mode\n",
"mode(0);\n",
"// Display warning for floating point exception\n",
"ieee(1);\n",
"clear;\n",
"clc;\n",
"disp('Introduction to heat transfer by S.K.Som, Chapter 1, Example 7')\n",
"//The temprature(T) of brick wall after sunset is 50°C\n",
"//The emissity value(emi)=0.9\n",
"//The radiant heat flux per square meter =E/A Where E is radiant heat energy and A is area of brick wall.\n",
"//The stefan-Boltzman constant(sigma)=5.6697*10^-8 W/(m^2*K^4).\n",
"T=50;\n",
"emi=.9;\n",
"sigma=5.6697*10^-8;\n",
"disp('The heat flux per square meter is given by E/A=emi*sigma*T^4 in W/m^2')\n",
"//Let E/A=F\n",
"F=emi*sigma*(T+273.15)^4"
   ]
   }
,
{
		   "cell_type": "markdown",
		   "metadata": {},
		   "source": [
			"## Example 1.8: Asphalt_pavements_on_hot_summer.sce"
		   ]
		  },
  {
"cell_type": "code",
	   "execution_count": null,
	   "metadata": {
	    "collapsed": true
	   },
	   "outputs": [],
"source": [
"// Display mode\n",
"mode(0);\n",
"// Display warning for floating point exception\n",
"ieee(1);\n",
"clear;\n",
"clc;\n",
"disp('Introduction to heat transfer by S.K.Som, Chapter 1, Example 8')\n",
"//The temprature(T) of asphalt pavement = 50°C\n",
"//The stefan-Boltzman constant(sigma)=5.6697*10^-8 W/(m^2*K^4).\n",
"T=50;\n",
"sigma=5.6697*10^-8;\n",
"//The emitted radiant energy per unit surface area is given by (Eb/A)=sigma*T^4\n",
"disp ('The emitted radiant energy per unit surface area is given by Eb/A=sigma*T^4 in W/m^2')\n",
"//Let Eb/A=F\n",
"F=sigma*(50+273.15)^4"
   ]
   }
,
{
		   "cell_type": "markdown",
		   "metadata": {},
		   "source": [
			"## Example 1.9: Concrete_wall_is_exposed_to_air.sce"
		   ]
		  },
  {
"cell_type": "code",
	   "execution_count": null,
	   "metadata": {
	    "collapsed": true
	   },
	   "outputs": [],
"source": [
"// Display mode\n",
"mode(0);\n",
"// Display warning for floating point exception\n",
"ieee(1);\n",
"clear;\n",
"clc;\n",
"disp('Introduction to heat transfer by S.K.Som, Chapter 1, Example 9')\n",
"//The Thickness(L) of wall= 150 mm or 0.15 m.\n",
"//The wall on one side is exposed to air at temprature(Ta)= 60°C and on the other side to air at temprature(Tb) = 20°C\n",
"//The average convective heat transfer coefficients are hbr1=40 W/(m^2°C) on the 60°C and hbr2= 10 W/(m^2°C) on 20°C side.\n",
"//The thermal conductivity(k)=.8 W/(m°C)\n",
"L=0.15;\n",
"Ta=60;\n",
"Tb=20;\n",
"hbr1=40;\n",
"hbr2=10;\n",
"k=0.8;\n",
"//Area(A=1 m^2 )since unit surface area is required.\n",
"A=1;\n",
"//The rate of heat transfer per unit surface area of wall is given by (Q/A)=(Ta-Tb)/((1/hbr1*A)+(L/(k*A))+(1/hbr2*A))\n",
"disp('The rate of heat transfer per unit surface area of wall is given by Q/A=(Ta-Tb)/((1/hbr1*A)+(L/(k*A))+(1/hbr2*A))in W/m^2')\n",
"//Let Q/A=F\n",
"F=(Ta-Tb)/((1/hbr1*A)+(L/(k*A))+(1/hbr2*A))\n",
"//The surface tempratures of wall on 60°C side is T1 and on 20°C side is T2\n",
"disp('The surface tempratures of wall on 60°C side is T1 =Ta-(Q/(A*hbr1)) in °C')\n",
"T1 =Ta-(F/hbr1)\n",
"disp('The surface tempratures of wall on 20°C side is T2 =Tb+(Q/(A*hbr2)) in °C')\n",
"T2 =Tb+(F/hbr2)\n",
""
   ]
   }
],
"metadata": {
		  "kernelspec": {
		   "display_name": "Scilab",
		   "language": "scilab",
		   "name": "scilab"
		  },
		  "language_info": {
		   "file_extension": ".sce",
		   "help_links": [
			{
			 "text": "MetaKernel Magics",
			 "url": "https://github.com/calysto/metakernel/blob/master/metakernel/magics/README.md"
			}
		   ],
		   "mimetype": "text/x-octave",
		   "name": "scilab",
		   "version": "0.7.1"
		  }
		 },
		 "nbformat": 4,
		 "nbformat_minor": 0
}
