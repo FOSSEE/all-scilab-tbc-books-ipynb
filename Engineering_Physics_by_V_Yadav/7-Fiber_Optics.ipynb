{
"cells": [
 {
		   "cell_type": "markdown",
	   "metadata": {},
	   "source": [
       "# Chapter 7: Fiber Optics"
	   ]
	},
{
		   "cell_type": "markdown",
		   "metadata": {},
		   "source": [
			"## Example 7.10: Radius_of_core_for_single_mode_operation_in_step_index_fibre.sce"
		   ]
		  },
  {
"cell_type": "code",
	   "execution_count": null,
	   "metadata": {
	    "collapsed": true
	   },
	   "outputs": [],
"source": [
"// Scilab Code Ex7.10:: Page-7.14 (2009)\n",
"clc; clear;\n",
"n1 = 1.480;     // Refractive index of core material\n",
"n2 = 1.47;     // Refractive index of cladding material\n",
"lambda = 850e-006;  // Wavelength of light used, m\n",
"NA = sqrt(n1^2-n2^2);      // Numerical aperture of the step index fibre\n",
"theta0 = asind(NA);     // Maximum acceptance angle for the fibre, degrees\n",
"M_N = 1;    // Number of modes in step index cable\n",
"// As number of modes, M_N = 1/2*V^2, solving for V\n",
"V = sqrt(2*M_N);    // V-number for the fibre\n",
"// As V = 2*%pi*a/lambda*NA, solving for a\n",
"a = V*lambda/(2*%pi*NA);    // Radius of core for single mode operation in step index fibre, m\n",
"printf('\nThe radius of core for single mode operation in step index fibre = %3.1e', a);\n",
"// Result \n",
"// The radius of core for single mode operation in step index fibre = 1.1e-03 \n",
"// The ansswer is quoted wrong in the textbook"
   ]
   }
,
{
		   "cell_type": "markdown",
		   "metadata": {},
		   "source": [
			"## Example 7.11: Signal_attenuation_in_optical_fibre.sce"
		   ]
		  },
  {
"cell_type": "code",
	   "execution_count": null,
	   "metadata": {
	    "collapsed": true
	   },
	   "outputs": [],
"source": [
"// Scilab Code Ex7.11: : Page-7.16 (2009)\n",
"clc; clear;\n",
"Pi = 1.5;  // Input power to the optical fibre, mW\n",
"Po = 0.5;  // Output power to the optical fibre, mW\n",
"L = 0.12;   // Length of the optical fibre, km\n",
"alpha_dB = 10/L*log10(Pi/Po); // Signal attenuation in optical fibre, dB/km\n",
"\n",
"printf('\nThe signal attenuation in optical fibre = %4.1f dB/km', alpha_dB);\n",
"\n",
"// Result \n",
"// The signal attenuation in optical fibre = 39.8 dB/km "
   ]
   }
,
{
		   "cell_type": "markdown",
		   "metadata": {},
		   "source": [
			"## Example 7.1: Critical_angle_and_acceptance_angle_in_an_optical_fibre.sce"
		   ]
		  },
  {
"cell_type": "code",
	   "execution_count": null,
	   "metadata": {
	    "collapsed": true
	   },
	   "outputs": [],
"source": [
"// Scilab Code Ex7.1:: Page-7.7 (2009)\n",
"clc; clear;\n",
"n1 = 1.6;       // Refractive index of core material of fibre\n",
"n2 = 1.3;       // Refractive index of cladding material of fibre\n",
"phi_C = asind(n2/n1);   // Critical angle of optical fibre, degrees\n",
"theta_Q = asind(sqrt(n1^2-n2^2));   // Acceptance angle of optical fibre, degrees\n",
"\n",
"printf('\nThe critical angle of optical fibre = %4.1f degrees', phi_C);\n",
"printf('\nThe angle of acceptance cone = %5.1f degrees', 2*theta_Q);\n",
"\n",
"// Result \n",
"// The critical angle of optical fibre = 54.3 degrees\n",
"// The angle of acceptance cone = 137.7 degrees "
   ]
   }
,
{
		   "cell_type": "markdown",
		   "metadata": {},
		   "source": [
			"## Example 7.2: Critical_angle_acceptance_angle_and_numerical_aperture_in_an_optical_fibre.sce"
		   ]
		  },
  {
"cell_type": "code",
	   "execution_count": null,
	   "metadata": {
	    "collapsed": true
	   },
	   "outputs": [],
"source": [
"// Scilab Code Ex7.2:: Page-7.8 (2009)\n",
"clc; clear;\n",
"n1 = 1.50;       // Refractive index of core material of fibre\n",
"n2 = 1.47;       // Refractive index of cladding material of fibre\n",
"phi_C = asind(n2/n1);   // Critical angle of optical fibre, degrees\n",
"NA = sqrt(n1^2-n2^2);   // Numerical aperture for the fibre \n",
"theta_Q = asind(sqrt(n1^2-n2^2));   // Acceptance angle of optical fibre, degrees\n",
"\n",
"printf('\nThe critical angle of optical fibre = %4.1f degrees', phi_C);\n",
"printf('\nThe numerical aperture for the fibre  = %5.3f', NA);\n",
"printf('\nThe angle of acceptance cone  = %5.1f degrees', theta_Q);\n",
"\n",
"// Result \n",
"// The critical angle of optical fibre = 78.5 degrees\n",
"// The numerical aperture for the fibre  = 0.298\n",
"// The angle of acceptance cone  =  17.4 degrees "
   ]
   }
,
{
		   "cell_type": "markdown",
		   "metadata": {},
		   "source": [
			"## Example 7.3: Parameters_of_an_optical_fibre_using_relative_refractive_index_difference.sce"
		   ]
		  },
  {
"cell_type": "code",
	   "execution_count": null,
	   "metadata": {
	    "collapsed": true
	   },
	   "outputs": [],
"source": [
"// Scilab Code Ex7.3:: Page-7.8 (2009)\n",
"clc; clear;\n",
"n1 = 1.46;     // Refractive index of the core material\n",
"delta = 0.01;   // Relative refractive index difference\n",
"NA = n1*sqrt(2*delta);   // Numerical aperture for the fibre \n",
"theta_Q = %pi*NA^2;   // Solid acceptance angle of optical fibre for small angles, radians\n",
"// As relative refractive index, delta = 1-n2/n1, solving for n2\n",
"n2 = n1*(1-delta);   // Refractive index of cladding\n",
"phi_C = asind(n2/n1);   // Critical angle of optical fibre, degrees\n",
"\n",
"printf('\nThe numerical aperture for the fibre  = %4.2f', NA);\n",
"printf('\nThe solid acceptance angle of the optical fibre  = %4.2f radians', theta_Q);\n",
"printf('\nThe critical angle of optical fibre = %4.1f degrees', phi_C);\n",
"\n",
"// Result \n",
"// The numerical aperture for the fibre  = 0.21\n",
"// The solid acceptance angle of the optical fibre  = 0.13 radians\n",
"// The critical angle of optical fibre = 81.9 degrees "
   ]
   }
,
{
		   "cell_type": "markdown",
		   "metadata": {},
		   "source": [
			"## Example 7.4: Refractive_index_of_cladding.sce"
		   ]
		  },
  {
"cell_type": "code",
	   "execution_count": null,
	   "metadata": {
	    "collapsed": true
	   },
	   "outputs": [],
"source": [
"// Scilab Code Ex7.4:: Page-7.9 (2009)\n",
"clc; clear;\n",
"n1 = 1.54;     // Refractive index of the core material\n",
"NA = 0.45;   // Numerical aperture for the fibre \n",
"n2 = sqrt(n1^2-NA^2);   // Refractive index of cladding\n",
"\n",
"printf('\nThe refractive index of cladding = %4.2f', n2);\n",
"\n",
"// Result \n",
"// The refractive index of cladding = 1.47 "
   ]
   }
,
{
		   "cell_type": "markdown",
		   "metadata": {},
		   "source": [
			"## Example 7.5: Numerical_aperture_for_an_optical_fibre.sce"
		   ]
		  },
  {
"cell_type": "code",
	   "execution_count": null,
	   "metadata": {
	    "collapsed": true
	   },
	   "outputs": [],
"source": [
"// Scilab Code Ex7.5:: Page-7.9 (2009)\n",
"clc; clear;\n",
"n1 = 1.544;     // Refractive index of the core material\n",
"n2 = 1.412;   // Refractive index of cladding\n",
"NA = sqrt(n1^2-n2^2);   // Numerical aperture for the fibre \n",
"\n",
"printf('\nThe numerical aperture for an optical fibre = %4.2f', NA);\n",
"\n",
"// Result \n",
"// The numerical aperture for an optical fibre = 0.62 "
   ]
   }
,
{
		   "cell_type": "markdown",
		   "metadata": {},
		   "source": [
			"## Example 7.6: Refractive_index_of_the_cladding.sce"
		   ]
		  },
  {
"cell_type": "code",
	   "execution_count": null,
	   "metadata": {
	    "collapsed": true
	   },
	   "outputs": [],
"source": [
"// Scilab Code Ex7.6:: Page-7.9 (2009)\n",
"clc; clear;\n",
"n1 = 1.544;     // Refractive index of the core material\n",
"theta0 = 35;    // Acceptance angel for an optical fibre, degrees\n",
"// As theta0 = asind(sqrt(n1^2-n2^2)), solving for n2\n",
"n2 = sqrt(n1^2-sind(theta0)^2);     // Refractive index of cladding\n",
"\n",
"printf('\nThe refractive index of the cladding = %4.2f', n2);\n",
"\n",
"// Result \n",
"// The refractive index of the cladding = 1.43 "
   ]
   }
,
{
		   "cell_type": "markdown",
		   "metadata": {},
		   "source": [
			"## Example 7.7: EX7_7.sce"
		   ]
		  },
  {
"cell_type": "code",
	   "execution_count": null,
	   "metadata": {
	    "collapsed": true
	   },
	   "outputs": [],
"source": [
"// Scilab Code Ex7.7:: Page-7.10 (2009)\n",
"clc; clear;\n",
"NA = 0.4;      // Numerical aperture of the optical fibre\n",
"n0 = 1;         // Refractive index of fibre in air\n",
"theta_a = asind(NA/n0);  // Acceptance angle for meridional rays, degrees\n",
"theta = 100;    // Direction through which the skew rays are bent at each reflection, degrees\n",
"r = theta/2;    // Angle of reflection, degrees\n",
"theta_as = asind(NA/(cosd(r)*n0));  // Acceptance angle for skew rays, degrees\n",
"\n",
"printf('\nAcceptance angle for meridional rays = %4.1f degrees', theta_a);\n",
"printf('\nAcceptance angle for skew rays = %4.1f degrees', theta_as);\n",
"\n",
"// Result \n",
"// Acceptance angle for meridional rays = 23.6 degrees\n",
"// Acceptance angle for skew rays = 38.5 degrees "
   ]
   }
,
{
		   "cell_type": "markdown",
		   "metadata": {},
		   "source": [
			"## Example 7.8: Normalized_frequency_for_V_number_for_the_fibre.sce"
		   ]
		  },
  {
"cell_type": "code",
	   "execution_count": null,
	   "metadata": {
	    "collapsed": true
	   },
	   "outputs": [],
"source": [
"// Scilab Code Ex7.8: : Page-7.13 (2009)\n",
"clc; clear;\n",
"NA = 0.16;      // Numerical aperture of the step index fibre\n",
"n1 = 1.50;      // Refractive index of the core material\n",
"d = 65e-006;    // Diameter of the core, m\n",
"lambda = 0.9e-006;  // Wavelength of transmitted light, m\n",
"V = %pi*d/lambda*NA;  // V-number for the optical fibre\n",
"\n",
"printf('\nThe V-number for the optical fibre = %5.2f', V);\n",
"\n",
"// Result \n",
"// The V-number for the optical fibre = 36.30 "
   ]
   }
,
{
		   "cell_type": "markdown",
		   "metadata": {},
		   "source": [
			"## Example 7.9: Number_of_modes_in_the_step_index_fibre.sce"
		   ]
		  },
  {
"cell_type": "code",
	   "execution_count": null,
	   "metadata": {
	    "collapsed": true
	   },
	   "outputs": [],
"source": [
"// Scilab Code Ex7.9:: Page-7.13 (2009)\n",
"clc; clear;\n",
"NA = 0.28;      // Numerical aperture of the step index fibre\n",
"d = 55e-006;    // Diameter of the core, m\n",
"lambda = 0.9e-006;  // Wavelength of transmitted light, m\n",
"M_N = (2.22*d*(NA)/lambda)^2;   // Number of modes in the step index fibre\n",
"\n",
"printf('\nThe number of modes in the step index fibre = %4d degrees', M_N);\n",
"\n",
"// Result \n",
"// The number of modes in the step index fibre = 1442 degrees "
   ]
   }
],
"metadata": {
		  "kernelspec": {
		   "display_name": "Scilab",
		   "language": "scilab",
		   "name": "scilab"
		  },
		  "language_info": {
		   "file_extension": ".sce",
		   "help_links": [
			{
			 "text": "MetaKernel Magics",
			 "url": "https://github.com/calysto/metakernel/blob/master/metakernel/magics/README.md"
			}
		   ],
		   "mimetype": "text/x-octave",
		   "name": "scilab",
		   "version": "0.7.1"
		  }
		 },
		 "nbformat": 4,
		 "nbformat_minor": 0
}
