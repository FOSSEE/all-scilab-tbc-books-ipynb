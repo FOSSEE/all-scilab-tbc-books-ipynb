{
"cells": [
 {
		   "cell_type": "markdown",
	   "metadata": {},
	   "source": [
       "# Chapter 4: Polarization"
	   ]
	},
{
		   "cell_type": "markdown",
		   "metadata": {},
		   "source": [
			"## Example 4.10: Thickness_of_quarter_wave_plate.sce"
		   ]
		  },
  {
"cell_type": "code",
	   "execution_count": null,
	   "metadata": {
	    "collapsed": true
	   },
	   "outputs": [],
"source": [
"// Scilab Code Ex4.10:: Page-4.23 (2009)\n",
"clc; clear;\n",
"mu_o = 1.658;   // Refractive index of ordinary wave\n",
"mu_e = 1.486;   // Refractive index of extraordinary wave\n",
"lambda = 5893e-008; // Wavelength of light used, m\n",
"// As (mu_o - mu_e)*t = lambda/4, solving for t\n",
"t = lambda/(4*(mu_o - mu_e));   // Thickness of quarter-wave plate, cm\n",
"\n",
"printf('\nThe thickness of quarter-wave plate = %3.1e cm', t);\n",
"\n",
"// Result \n",
"// The thickness of quarter-wave plate = 8.6e-005 cm \n",
"\n",
" "
   ]
   }
,
{
		   "cell_type": "markdown",
		   "metadata": {},
		   "source": [
			"## Example 4.11: Least_thickness_of_plate_for_which_emergent_beam_is_plane_polarised.sce"
		   ]
		  },
  {
"cell_type": "code",
	   "execution_count": null,
	   "metadata": {
	    "collapsed": true
	   },
	   "outputs": [],
"source": [
"// Scilab Code Ex4.11:: Page-4.23 (2009)\n",
"clc; clear;\n",
"mu_o = 1.5442;   // Refractive index of ordinary wave\n",
"mu_e = 1.5533;   // Refractive index of extraordinary wave\n",
"lambda = 5000e-008; // Wavelength of light used, m\n",
"// As (mu_o - mu_e)*t = lambda/4, solving for t\n",
"t = lambda/(4*(mu_e - mu_o));   // Least thickness of plate for which emergent beam is plane polarised, cm\n",
"\n",
"printf('\nThe least thickness of plate for which emergent beam is plane polarised = %4.2e cm', t);\n",
"\n",
"// Result \n",
"// The least thickness of plate for which emergent beam is plane polarised = 1.37e-003 cm \n",
"\n",
" "
   ]
   }
,
{
		   "cell_type": "markdown",
		   "metadata": {},
		   "source": [
			"## Example 4.12: Difference_in_refractive_indices_of_rays.sce"
		   ]
		  },
  {
"cell_type": "code",
	   "execution_count": null,
	   "metadata": {
	    "collapsed": true
	   },
	   "outputs": [],
"source": [
"// Scilab Code Ex4.12:: Page-4.23 (2009)\n",
"clc; clear;\n",
"lambda = 5893e-008; // Wavelength of light used, m\n",
"t = 0.005;   // Thickness of the crystal, cm\n",
"// As for quarter wave plate, mu_diff*t = (mu_o - mu_e)*t = lambda/4, solving for mu_diff\n",
"mu_diff = lambda/(4*t);     // The difference in refractive indices of rays, cm\n",
"printf('\nThe least thickness of plate for which emergent beam is plane polarised = %4.2e cm', mu_diff);\n",
"\n",
"// Result \n",
"// The least thickness of plate for which emergent beam is plane polarised = 2.95e-003 cm \n",
"\n",
" "
   ]
   }
,
{
		   "cell_type": "markdown",
		   "metadata": {},
		   "source": [
			"## Example 4.13: The_thickness_of_a_half_wave_plate.sce"
		   ]
		  },
  {
"cell_type": "code",
	   "execution_count": null,
	   "metadata": {
	    "collapsed": true
	   },
	   "outputs": [],
"source": [
"// Scilab Code Ex4.13:: Page-4.24 (2009)\n",
"clc; clear;\n",
"mu_o = 1.54;   // Refractive index of ordinary wave\n",
"mu_e = 1.45;   // Refractive index of extraordinary wave\n",
"lambda = 5500e-008; // Wavelength of light used, m\n",
"// As for a half wave plate, (mu_o - mu_e)*t = lambda/4, solving for t\n",
"t = lambda/(2*(mu_o - mu_e));   // The thickness of a half wave plate for wavelength, cm\n",
"\n",
"printf('\nThe thickness of a half wave plate for wavelength = %4.2e cm', t);\n",
"\n",
"// Result \n",
"// The thickness of a half wave plate for wavelength = 3.06e-004 cm \n",
"\n",
" "
   ]
   }
,
{
		   "cell_type": "markdown",
		   "metadata": {},
		   "source": [
			"## Example 4.14: The_thickness_of_a_quarter_wave_plate.sce"
		   ]
		  },
  {
"cell_type": "code",
	   "execution_count": null,
	   "metadata": {
	    "collapsed": true
	   },
	   "outputs": [],
"source": [
"// Scilab Code Ex4.14:: Page-4.24 (2009)\n",
"clc; clear;\n",
"mu_o = 1.55;   // Refractive index of ordinary wave\n",
"mu_e = 1.52;   // Refractive index of extraordinary wave\n",
"lambda = 5500e-008; // Wavelength of light used, m\n",
"// As for a half wave plate, (mu_o - mu_e)*t = lambda/4, solving for t\n",
"t = lambda/(4*(mu_o - mu_e));   // The thickness of a quarter wave plate for wavelength, cm\n",
"\n",
"printf('\nThe thickness of a quarter wave plate for wavelength = %4.2e cm', t);\n",
"\n",
"// Result \n",
"// The thickness of a quarter wave plate for wavelength = 4.58e-004 cm \n",
"\n",
" "
   ]
   }
,
{
		   "cell_type": "markdown",
		   "metadata": {},
		   "source": [
			"## Example 4.15: The_thickness_of_a_half_wave_plate_quartz.sce"
		   ]
		  },
  {
"cell_type": "code",
	   "execution_count": null,
	   "metadata": {
	    "collapsed": true
	   },
	   "outputs": [],
"source": [
"// Scilab Code Ex4.15:: Page-4.24 (2009)\n",
"clc; clear;\n",
"mu_o = 1.51;   // Refractive index of ordinary wave\n",
"mu_e = 1.55;   // Refractive index of extraordinary wave\n",
"lambda = 6000e-008; // Wavelength of light used, m\n",
"// As for a half wave plate, (mu_o - mu_e)*t = lambda/4, solving for t\n",
"t = lambda/(2*(mu_e - mu_o));   // The thickness of a quarter wave plate for wavelength, cm\n",
"\n",
"printf('\nThe thickness of a half wave plate quartz = %4.2e cm', t);\n",
"\n",
"// Result \n",
"// The thickness of a half wave plate quartz = 7.50e-004 cm \n",
"\n",
" "
   ]
   }
,
{
		   "cell_type": "markdown",
		   "metadata": {},
		   "source": [
			"## Example 4.16: Difference_between_refractive_indices.sce"
		   ]
		  },
  {
"cell_type": "code",
	   "execution_count": null,
	   "metadata": {
	    "collapsed": true
	   },
	   "outputs": [],
"source": [
"// Scilab Code Ex4.16:: Page-4.24 (2009)\n",
"clc; clear;\n",
"lambda = 5890e-008; // Wavelength of light used, m\n",
"t = 7.5e-004;   // Thickness of the crystal, cm\n",
"// As for quarter wave plate, mu_diff*t = (mu_e - mu_o)*t = lambda/4, solving for mu_diff\n",
"mu_diff = lambda/(4*t);     // The difference in refractive indices of rays, cm\n",
"printf('\nThe difference between refractive indices = %6.4f cm', mu_diff);\n",
"\n",
"// Result \n",
"// The difference between refractive indices = 0.0196 cm \n",
"\n",
" "
   ]
   }
,
{
		   "cell_type": "markdown",
		   "metadata": {},
		   "source": [
			"## Example 4.17: Specific_rotation_of_superposition.sce"
		   ]
		  },
  {
"cell_type": "code",
	   "execution_count": null,
	   "metadata": {
	    "collapsed": true
	   },
	   "outputs": [],
"source": [
"// Scilab Code Ex4.17:: Page-4.34 (2009)\n",
"clc; clear;\n",
"theta = 15.2;   // Angle through which plane of polarization is rotated, degrees\n",
"c = 0.2;    // Concentration of sugar, g/cc\n",
"l = 25;     // Length of sugar, cm\n",
"S = 10*theta/(l*c);     // Specific rotation of superposition, degrees\n",
"\n",
"printf('\nThe specific rotation of superposition = %4.1f cm', S);\n",
"\n",
"// Result \n",
"// The specific rotation of superposition = 30.4 cm \n",
"\n",
" "
   ]
   }
,
{
		   "cell_type": "markdown",
		   "metadata": {},
		   "source": [
			"## Example 4.18: Strength_of_sugar_solution.sce"
		   ]
		  },
  {
"cell_type": "code",
	   "execution_count": null,
	   "metadata": {
	    "collapsed": true
	   },
	   "outputs": [],
"source": [
"// Scilab Code Ex4.18: : Page-4.34 (2009)\n",
"clc; clear;\n",
"theta = 15.2;   // Angle through which plane of polarization is rotated, degrees\n",
"S = 65;     // Specific rotation of sugar solution, degrees\n",
"l = 15;     // Length of sugar, cm\n",
"// As S = 10*theta/(l*c), solving for c\n",
"c = 10*theta/(l*S);     // Concentration of sugar, g/cc\n",
"\n",
"printf('\nThe strength of sugar solution = %4.2f g/cc', c);\n",
"\n",
"// Result \n",
"// The strength of sugar solution = 0.16 g/cc \n",
"\n",
" "
   ]
   }
,
{
		   "cell_type": "markdown",
		   "metadata": {},
		   "source": [
			"## Example 4.19: Quantity_of_sugar_contained_in_the_tube_in_the_form_of_solution.sce"
		   ]
		  },
  {
"cell_type": "code",
	   "execution_count": null,
	   "metadata": {
	    "collapsed": true
	   },
	   "outputs": [],
"source": [
"// Scilab Code Ex4.19:: Page-4.34 (2009)\n",
"clc; clear;\n",
"theta = 15;   // Angle through which plane of polarization is rotated, degrees\n",
"S = 69;     // Specific rotation of sugar solution, degrees\n",
"l = 10;     // Length of sugar, cm\n",
"V = 50;     // Volume of the tube, cc\n",
"// As S = 10*theta/(l*c), solving for c\n",
"c = 10*theta/(l*S);     // Concentration of sugar, g/cc\n",
"M = c*V;    // Mass of sugar in solution, g\n",
"\n",
"printf('\nThe quantity of sugar contained in the tube in the form of solution = %5.2f g', M);\n",
"\n",
"// Result \n",
"// The quantity of sugar contained in the tube in the form of solution = 10.87 g \n",
"\n",
" "
   ]
   }
,
{
		   "cell_type": "markdown",
		   "metadata": {},
		   "source": [
			"## Example 4.1: Refractive_index_of_the_material.sce"
		   ]
		  },
  {
"cell_type": "code",
	   "execution_count": null,
	   "metadata": {
	    "collapsed": true
	   },
	   "outputs": [],
"source": [
"// Scilab Code Ex4.1:: Page-4.5 (2009)\n",
"clc; clear;\n",
"ip = 60;    // Polarizing angle, degrees\n",
"mu = tand(ip);  // Refractive index of the material from Brewster's law \n",
"printf('\nThe refractive index of the material = %5.3f', mu);\n",
"\n",
"// Result \n",
"// The refractive index of the material = 1.732 "
   ]
   }
,
{
		   "cell_type": "markdown",
		   "metadata": {},
		   "source": [
			"## Example 4.20: Specific_rotation_of_sugar_solution_from_the_given_data.sce"
		   ]
		  },
  {
"cell_type": "code",
	   "execution_count": null,
	   "metadata": {
	    "collapsed": true
	   },
	   "outputs": [],
"source": [
"// Scilab Code Ex4.20:: Page-4.35 (2009)\n",
"clc; clear;\n",
"theta = 8;   // Angle through which plane of polarization is rotated, degrees\n",
"M = 10;     // Amount of sugar, g\n",
"l = 14;     // Length of the tube, cm\n",
"V = 44;     // Volume of sugar solution, cc\n",
"c = M/V;     // Concentration of sugar, g/cc\n",
"S = 10*theta/(l*c); // Specific rotation of sugar solution from the given data, degrees\n",
"\n",
"printf('\nThe specific rotation of sugar solution from the given data = %4.1f degrees', S);\n",
"\n",
"// Result \n",
"// The specific rotation of sugar solution from the given data = 25.1 degrees \n",
"\n",
" "
   ]
   }
,
{
		   "cell_type": "markdown",
		   "metadata": {},
		   "source": [
			"## Example 4.21: Angle_of_rotation_of_the_plane_of_polarization.sce"
		   ]
		  },
  {
"cell_type": "code",
	   "execution_count": null,
	   "metadata": {
	    "collapsed": true
	   },
	   "outputs": [],
"source": [
"// Scilab Code Ex4.21:: Page-4.35 (2009)\n",
"clc; clear;\n",
"m = 15;     // Amount of sugar, g\n",
"S = 66; // Specific rotation of sugar solution from the given data, degrees\n",
"l = 20;     // Length of the tube, cm\n",
"V = 100;     // Volume of sugar solution, cc\n",
"c = m/V;     // Concentration of sugar, g/cc\n",
"// As S = 10*theta/(l*c), solving for theta\n",
"theta = S*l*c/10;       // Angle of rotation of the plane of polarization, degrees\n",
"\n",
"printf('\nThe angle of rotation of the plane of polarization = %4.1f degrees', theta);\n",
"\n",
"// Result \n",
"// The angle of rotation of the plane of polarization = 19.8 degrees \n",
"\n",
" "
   ]
   }
,
{
		   "cell_type": "markdown",
		   "metadata": {},
		   "source": [
			"## Example 4.22: Angle_of_rotation_of_the_optically_active_solution.sce"
		   ]
		  },
  {
"cell_type": "code",
	   "execution_count": null,
	   "metadata": {
	    "collapsed": true
	   },
	   "outputs": [],
"source": [
"// Scilab Code Ex4.22: : Page-4.35 (2009)\n",
"clc; clear;\n",
"l = 5;     // Length of the tube, dm\n",
"m = 50;     // Amount of sugar, g\n",
"S = 50; // Specific rotation of sugar solution, degrees\n",
"V = 150;     // Volume of sugar solution, cc\n",
"c = m/V;     // Concentration of sugar, g/cc\n",
"// As S = theta/(l*c), solving for theta\n",
"theta = S*l*c;       // Angle of rotation of the optically active solution\n",
"\n",
"printf('\nThe angle of rotation of the optically active solution = %4.1f degrees', theta);\n",
"\n",
"// Result \n",
"// The angle of rotation of the optically active solution = 83.3 degrees \n",
"\n",
" "
   ]
   }
,
{
		   "cell_type": "markdown",
		   "metadata": {},
		   "source": [
			"## Example 4.23: Angle_of_rotation_in_a_tube_of_new_length.sce"
		   ]
		  },
  {
"cell_type": "code",
	   "execution_count": null,
	   "metadata": {
	    "collapsed": true
	   },
	   "outputs": [],
"source": [
"// Scilab Code Ex4.23:: Page-4.35 (2009)\n",
"clc; clear;\n",
"l = 3;     // Length of the tube, dm\n",
"theta = 17.0;       // Angle of rotation of the plane of polarization, degrees\n",
"c = 1.0;      // For simplicity assume concentration of solution to be unity, g/cc\n",
"l_prime = 2.5;   // New length of the tube, dm\n",
"c_prime = 1.25*c;  // Concentration of solution with 25 cm length of tube, g/cc\n",
"theta_prime = theta*l_prime*c_prime/(l*c);  // Angle of rotation in a tube of new length\n",
"\n",
"\n",
"printf('\nThe angle of rotation in a tube of new length of %3.1f cm = %4.1f degrees', l_prime, theta_prime);\n",
"\n",
"// Result \n",
"// The angle of rotation in a tube of new length of 2.5 cm = 17.7 degrees \n",
"\n",
" "
   ]
   }
,
{
		   "cell_type": "markdown",
		   "metadata": {},
		   "source": [
			"## Example 4.24: Mass_of_sugar_in_the_solution_contained_in_the_tube.sce"
		   ]
		  },
  {
"cell_type": "code",
	   "execution_count": null,
	   "metadata": {
	    "collapsed": true
	   },
	   "outputs": [],
"source": [
"// Scilab Code Ex4.24:: Page-4.36 (2009)\n",
"clc; clear;\n",
"l = 17;     // Length of the tube, cm\n",
"V = 37;     // Volume of sugar solution, cc\n",
"theta = 15;       // Angle of rotation of the plane of polarization, degrees\n",
"S = 68;         // Specific rotation of sugar solution, degrees\n",
"// As S = 10*theta/(l*c), solving for c\n",
"c = 10*theta/(l*S);     // Concentration of sugar solution, g/cc\n",
"m = c*V;        // Mass of sugar in the solution contained in the tube, g\n",
"\n",
"printf('\nThe mass of sugar in the solution contained in the tube = %3.1f g', m);\n",
"\n",
"// Result \n",
"// The mass of sugar in the solution contained in the tube = 4.8 g \n",
"\n",
" "
   ]
   }
,
{
		   "cell_type": "markdown",
		   "metadata": {},
		   "source": [
			"## Example 4.25: Percentage_purity_of_the_sugar_sample.sce"
		   ]
		  },
  {
"cell_type": "code",
	   "execution_count": null,
	   "metadata": {
	    "collapsed": true
	   },
	   "outputs": [],
"source": [
"// Scilab Code Ex4.25:: Page-4.36 (2009)\n",
"clc; clear;\n",
"m = 80;        // Mass of sugar in the solution, g\n",
"theta = 9.9;       // Angle of rotation of the plane of polarization, degrees\n",
"l = 20;     // Length of the tube, cm\n",
"S_pure = 66;         // Specific rotation of pure sugar solution, degrees per dm per (g/cc)\n",
"c = 0.08;     // Concentration of sugar solution, g/cc\n",
"S = 10*theta/(l*c);  // calculated specific rotation of sugar solution, degrees per dm per (g/cc)\n",
"percent_purity = S/S_pure*100;      // Percentage purity of sugar sample, percent\n",
"\n",
"printf('\nThe percentage purity of the sugar sample = %5.2f percent', percent_purity);\n",
"\n",
"// Result \n",
"// The percentage purity of the sugar sample = 93.75 percent \n",
"\n",
" "
   ]
   }
,
{
		   "cell_type": "markdown",
		   "metadata": {},
		   "source": [
			"## Example 4.26: Angle_of_rotation_produced_by_the_polarimeter_plate.sce"
		   ]
		  },
  {
"cell_type": "code",
	   "execution_count": null,
	   "metadata": {
	    "collapsed": true
	   },
	   "outputs": [],
"source": [
"// Scilab Code Ex4.26:: Page-4.42 (2009)\n",
"clc; clear;\n",
"lambda = 6600e-010;     // Wavelength of circularly polarized light, cm\n",
"mu_R = 1.53914;         // Refractive index of right-handed circularly polarized light\n",
"mu_L = 1.53920;         // Refractive index of left-handed circularly polarized light\n",
"t = 0.0005;   // Thickness of polarimeter plate, m\n",
"theta = %pi/lambda*(mu_L-mu_R)*t;   // Angle of rotation produced by the polarimeter plate, radian\n",
"\n",
"printf('\nThe angle of rotation produced by the polarimeter plate = %4.2f degrees', theta*180/%pi);\n",
"\n",
"// Result \n",
"// The angle of rotation produced by the polarimeter plate = 8.18 degrees \n",
"\n",
" "
   ]
   }
,
{
		   "cell_type": "markdown",
		   "metadata": {},
		   "source": [
			"## Example 4.2: Polarization_by_reflection.sce"
		   ]
		  },
  {
"cell_type": "code",
	   "execution_count": null,
	   "metadata": {
	    "collapsed": true
	   },
	   "outputs": [],
"source": [
"// Scilab Code Ex4.2:: Page-4.6 (2009)\n",
"clc; clear;\n",
"ip = 57;    // Polarizing angle, degrees\n",
"mu = tand(ip);  // Refractive index of the material from Brewster's law \n",
"printf('\nThe refractive index of the material = %4.2f', mu);\n",
"\n",
"// Result \n",
"// The refractive index of the material = 1.54 "
   ]
   }
,
{
		   "cell_type": "markdown",
		   "metadata": {},
		   "source": [
			"## Example 4.3: Angle_of_refraction_of_the_ray.sce"
		   ]
		  },
  {
"cell_type": "code",
	   "execution_count": null,
	   "metadata": {
	    "collapsed": true
	   },
	   "outputs": [],
"source": [
"// Scilab Code Ex4.3:: Page-4.6 (2009)\n",
"clc; clear;\n",
"mu = 1.53;  // Refractive index of the material from Brewster's law \n",
"// As mu = tand(ip), solving for ip\n",
"ip = atand(mu);     // Polarizing angle, degrees\n",
"// But mu = sind(ip)/sind(r), solving for r\n",
"r = asind(sind(ip)/mu);     // Angle of refraction, degrees\n",
"\n",
"printf('\nThe angle of refraction of the ray = %4.1f degrees', r);\n",
"\n",
"// Result \n",
"// The angle of refraction of the ray = 33.2 degrees "
   ]
   }
,
{
		   "cell_type": "markdown",
		   "metadata": {},
		   "source": [
			"## Example 4.4: Angle_of_minimum_deviation_for_green_light.sce"
		   ]
		  },
  {
"cell_type": "code",
	   "execution_count": null,
	   "metadata": {
	    "collapsed": true
	   },
	   "outputs": [],
"source": [
"// Scilab Code Ex4.4:: Page-4.6 (2009)\n",
"clc; clear;\n",
"ip = 60;     // Polarizing angle, degrees\n",
"A = 60;     // Angle of equilateral prism, degrees\n",
"mu = tand(ip);  // Refractive index of the material from Brewster's law \n",
"// For angle of minimum deviation in prism, delta_m, refractive index\n",
"// mu = sind((A+delta_m)/2)/sind(A/2), solving for delta_m\n",
"delta_m = 2*asind(mu*sind(A/2))-A;      // Angle of minimum deviation, degrees\n",
"\n",
"printf('\nThe angle of minimum deviation for green light = %2d degrees', ceil(delta_m));\n",
"\n",
"// Result \n",
"// The angle of minimum deviation for green light = 60 degrees "
   ]
   }
,
{
		   "cell_type": "markdown",
		   "metadata": {},
		   "source": [
			"## Example 4.5: Polarizing_angles_of_the_materials_for_given_refractive_indices.sce"
		   ]
		  },
  {
"cell_type": "code",
	   "execution_count": null,
	   "metadata": {
	    "collapsed": true
	   },
	   "outputs": [],
"source": [
"// Scilab Code Ex4.5:: Page-4.7 (2009)\n",
"clc; clear;\n",
"mu = [1.33 1.65 1.55];      // Refractive indices of the material\n",
"// As mu = tand(ip), solving for ip\n",
"ip = atand(mu);     // Brewster's law gives polarizing angle, degrees\n",
"for i =1:1:3    \n",
"printf('\nmu = %4.2f, ip = %4.1f degrees', mu(i), ip(i));\n",
"end\n",
"\n",
"// Result \n",
"// mu = 1.33, ip = 53.1 degrees\n",
"// mu = 1.65, ip = 58.8 degrees\n",
"// mu = 1.55, ip = 57.2 degrees  "
   ]
   }
,
{
		   "cell_type": "markdown",
		   "metadata": {},
		   "source": [
			"## Example 4.6: Angle_of_rotation_of_analyser.sce"
		   ]
		  },
  {
"cell_type": "code",
	   "execution_count": null,
	   "metadata": {
	    "collapsed": true
	   },
	   "outputs": [],
"source": [
"// Scilab Code Ex4.6:: Page-4.8 (2009)\n",
"clc; clear;\n",
"E0 = 1;     // For simplicity assume maximum intensity through polarizer and analyser to be unity, unit\n",
"E = 1/6*E0; // One-sixth of the maximum intensity, unit\n",
"// From Malus law, E = E0*cosd(theta)^2, solving for theta\n",
"theta = acosd(sqrt(E));   // Angle through which analyser should be rotated, degrees\n",
"printf('\nThe angle of rotation of analyser = %4.1f degrees', theta);\n",
"\n",
"// Result \n",
"// The angle of rotation of analyser = 65.9 "
   ]
   }
,
{
		   "cell_type": "markdown",
		   "metadata": {},
		   "source": [
			"## Example 4.7: Angles_of_rotation_of_analyser_for_given_transmitted_light_intensities.sce"
		   ]
		  },
  {
"cell_type": "code",
	   "execution_count": null,
	   "metadata": {
	    "collapsed": true
	   },
	   "outputs": [],
"source": [
"// Scilab Code Ex4.7:: Page-4.8 (2009)\n",
"clc; clear;\n",
"E0 = 1;     // For simplicity assume maximum intensity through polarizer and analyser to be unity, unit\n",
"light_fraction = [0.25 0.45 0.65 0.75 0.0];\n",
"for i = 1:1:5\n",
"E = light_fraction(i)*E0; // Light fraction of the maximum intensity, unit\n",
"// From Malus law, E = E0*cosd(theta)^2, solving for theta\n",
"theta = acosd(sqrt(E));   // Angle through which analyser should be rotated, degrees\n",
"printf('\nE = %4.2fE0, theta = %4.1f degrees', light_fraction(i), theta);\n",
"end\n",
"\n",
"// Result \n",
"// E = 0.25E0, theta = 60.0 degrees\n",
"// E = 0.45E0, theta = 47.9 degrees\n",
"// E = 0.65E0, theta = 36.3 degrees\n",
"// E = 0.75E0, theta = 30.0 degrees\n",
"// E = 0.00E0, theta = 90.0 degrees "
   ]
   }
,
{
		   "cell_type": "markdown",
		   "metadata": {},
		   "source": [
			"## Example 4.8: Angle_of_minimum_deviation_for_green_light.sce"
		   ]
		  },
  {
"cell_type": "code",
	   "execution_count": null,
	   "metadata": {
	    "collapsed": true
	   },
	   "outputs": [],
"source": [
"// Scilab Code Ex4.8:: Page-4.9 (2009)\n",
"clc; clear;\n",
"ip = 60;        // Polarizing angle, degrees\n",
"mu = tand(ip);  // Brewster's law giving refractive index\n",
"A = 60;     // Angle of prism, degrees\n",
"d = (mu - 1)*A; // Angle of minimum deviation for green light, degrees\n",
"\n",
"printf('\nThe angle of minimum deviation for green light = %5.2f degrees', d);\n",
"\n",
"// Result \n",
"// The angle of minimum deviation for green light = 43.92 degrees \n",
" "
   ]
   }
,
{
		   "cell_type": "markdown",
		   "metadata": {},
		   "source": [
			"## Example 4.9: Ratio_of_ordinary_to_extraordinary_ray_intensities.sce"
		   ]
		  },
  {
"cell_type": "code",
	   "execution_count": null,
	   "metadata": {
	    "collapsed": true
	   },
	   "outputs": [],
"source": [
"// Scilab Code Ex4.9:: Page-4.9 (2009)\n",
"clc; clear;\n",
"theta = 30;     // Angle which the plane of vibration makes with the incident beam, degrees\n",
"// As intensity of ordinary and extraordinary ray are\n",
"// E_E = A^2*cosd(theta)^2 and E_O = A^2*sind(theta)^2, solving for E_E/E_O\n",
"EE_ratio_EO = cotd(30)^2;    // Ratio of ordinary and extraordinary ray intensities \n",
"\n",
"printf('\nThe ratio of ordinary to extraordinary ray intensities = %d', EE_ratio_EO);\n",
"\n",
"// Result \n",
"// The ratio of ordinary to extraordinary ray intensities = 3 \n",
" "
   ]
   }
],
"metadata": {
		  "kernelspec": {
		   "display_name": "Scilab",
		   "language": "scilab",
		   "name": "scilab"
		  },
		  "language_info": {
		   "file_extension": ".sce",
		   "help_links": [
			{
			 "text": "MetaKernel Magics",
			 "url": "https://github.com/calysto/metakernel/blob/master/metakernel/magics/README.md"
			}
		   ],
		   "mimetype": "text/x-octave",
		   "name": "scilab",
		   "version": "0.7.1"
		  }
		 },
		 "nbformat": 4,
		 "nbformat_minor": 0
}
