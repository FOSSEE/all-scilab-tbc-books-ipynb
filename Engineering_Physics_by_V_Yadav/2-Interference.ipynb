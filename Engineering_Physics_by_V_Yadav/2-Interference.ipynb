{
"cells": [
 {
		   "cell_type": "markdown",
	   "metadata": {},
	   "source": [
       "# Chapter 2: Interference"
	   ]
	},
{
		   "cell_type": "markdown",
		   "metadata": {},
		   "source": [
			"## Example 2.10: Wavelength_of_light_in_a_biprism_experiment.sce"
		   ]
		  },
  {
"cell_type": "code",
	   "execution_count": null,
	   "metadata": {
	    "collapsed": true
	   },
	   "outputs": [],
"source": [
"// Scilab Code Ex2.10:: Page-2.12 (2009)\n",
"clc; clear;\n",
"D = 100;    // Distance between slits and the screen, cm\n",
"d = 0.08;  // Separation between the slits, cm\n",
"b = 2.121/25;  // Fringe width of the interfernce pattern due to biprism, cm\n",
"lambda = b*d/D;     // Wavelength of light in a biprism experiment, cm\n",
"printf('\nThe wavelength of light in a biprism experiment = %5.0f angstrom', lambda/1e-008);\n",
"// Result\n",
"// The wavelength of light in a biprism experiment =  6787 angstrom "
   ]
   }
,
{
		   "cell_type": "markdown",
		   "metadata": {},
		   "source": [
			"## Example 2.11: Fringe_width_at_a_certain_distance_from_biprism.sce"
		   ]
		  },
  {
"cell_type": "code",
	   "execution_count": null,
	   "metadata": {
	    "collapsed": true
	   },
	   "outputs": [],
"source": [
"// Scilab Code Ex2.11:: Page-2.13 (2009)\n",
"clc; clear;\n",
"alpha = %pi/180;    // Acute angle of biprism, radian\n",
"mu = 1.5;   // Refractive index of biprism\n",
"lambda = 5900e-008;    // Wavelength of light used, cm\n",
"y1 = 10;    // Distance of biprism from the source, cm\n",
"y2 = 100;    // Distance of biprism from the screen, cm\n",
"D = y1 + y2;    // Distance between slits and the screen, cm\n",
"d = 2*(mu-1)*alpha*y1;  // Separation between the slits, cm\n",
"b = lambda*D/d;  // Fringe width of the interfernce pattern due to biprism, cm\n",
"printf('\nThe fringe width at a distance of %d cm from biprism = %4.2e cm', y2, b);\n",
"// Result\n",
"// The fringe width at a distance of 100 cm from biprism = 3.72e-02 cm  "
   ]
   }
,
{
		   "cell_type": "markdown",
		   "metadata": {},
		   "source": [
			"## Example 2.12: Distance_between_coherent_sources_in_biprism_experiment.sce"
		   ]
		  },
  {
"cell_type": "code",
	   "execution_count": null,
	   "metadata": {
	    "collapsed": true
	   },
	   "outputs": [],
"source": [
"// Scilab Code Ex2.12:: Page-2.13 (2009)\n",
"clc; clear;\n",
"lambda = 5893e-008;    // Wavelength of light used, cm\n",
"y1 = 10;    // Distance of biprism from the source, cm\n",
"y2 = 100;    // Distance of biprism from the screen, cm\n",
"D = y1 + y2;    // Distance between slits and the screen, cm\n",
"b = 3.5e-02;  // Fringe width of the interfernce pattern due to biprism, cm\n",
"d = lambda*D/b;  // Distance between coherent sources, cm\n",
"printf('\nThe distance between coherent sources = %5.3f cm', d);\n",
"// Result\n",
"// The distance between coherent sources = 0.185 cm   "
   ]
   }
,
{
		   "cell_type": "markdown",
		   "metadata": {},
		   "source": [
			"## Example 2.13: Effect_of_slit_separation_on_fringe_width.sce"
		   ]
		  },
  {
"cell_type": "code",
	   "execution_count": null,
	   "metadata": {
	    "collapsed": true
	   },
	   "outputs": [],
"source": [
"// Scilab Code Ex2.13:: Page-2.13 (2009)\n",
"clc; clear;\n",
"b = 0.125;  // Fringe width of the interfernce pattern due to biprism, cm\n",
"d = 1;  // For simplicity assume distance between sources to be unity, cm\n",
"d_prime = 3/4*d;    // New distance between sources, cm \n",
"// As b is proportional to 1/d, so\n",
"b_prime = b*d/d_prime;  // New fringe width of the interfernce pattern due to biprism, cm\n",
"printf('\nThe new value of fringe width due to reduced slit separation = %5.3f cm', b_prime);\n",
"// Result\n",
"// The new value of fringe width due to reduced slit separation = 0.167 cm"
   ]
   }
,
{
		   "cell_type": "markdown",
		   "metadata": {},
		   "source": [
			"## Example 2.14: Effect_of_slit_biprism_separation_on_fringe_width.sce"
		   ]
		  },
  {
"cell_type": "code",
	   "execution_count": null,
	   "metadata": {
	    "collapsed": true
	   },
	   "outputs": [],
"source": [
"// Scilab Code Ex2.14:: Page-2.13 (2009)\n",
"clc; clear;\n",
"b = 0.187;  // Fringe width of the interfernce pattern due to biprism, cm\n",
"y1 = 1;  // For simplicity assume distance between slit and biprism to be unity, cm\n",
"y1_prime = 1.25*y1;    // New distance between slit and biprism, cm\n",
"// As d is directly proportional to y1 and b is directly proportional to d, so\n",
"// b is inversely proportional to y1\n",
"b_prime = b*y1/y1_prime;  // New fringe width of the interfernce pattern due to biprism, cm\n",
"printf('\nThe new value of fringe width due to increased slit-biprism separation = %5.3f cm', b_prime);\n",
"// Result\n",
"// The new value of fringe width due to increased slit-biprism separation = 0.150 cm "
   ]
   }
,
{
		   "cell_type": "markdown",
		   "metadata": {},
		   "source": [
			"## Example 2.15: Distance_between_interference_bands.sce"
		   ]
		  },
  {
"cell_type": "code",
	   "execution_count": null,
	   "metadata": {
	    "collapsed": true
	   },
	   "outputs": [],
"source": [
"// Scilab Code Ex2.15:: Page-2.14 (2009)\n",
"clc; clear;\n",
"d1 = 5e-01; // First distance between images of the slit, cm\n",
"d2 = 2.25e-01; // Second distance between images of the slit, cm\n",
"lambda = 5896e-008; // Wavelength of the light used, cm\n",
"D = 120;    // Distance between screen and the slits, cm\n",
"d = sqrt(d1*d2);    // Geometric mean of distance between the two slits, cm\n",
"b = lambda*D/d;     // Distance between interference bands, cm\n",
"printf('\nThe distance between interference bands = %5.3e cm', b);\n",
"// Result\n",
"// The distance between interference bands = 2.109e-02 cm "
   ]
   }
,
{
		   "cell_type": "markdown",
		   "metadata": {},
		   "source": [
			"## Example 2.16: Angle_of_vertex_of_Fresnel_biprism.sce"
		   ]
		  },
  {
"cell_type": "code",
	   "execution_count": null,
	   "metadata": {
	    "collapsed": true
	   },
	   "outputs": [],
"source": [
"// Scilab Code Ex2.16:: Page-2.14 (2009)\n",
"clc; clear;\n",
"mu = 1.5;   // Refractive index of biprism\n",
"lambda = 5500e-008;    // Wavelength of light used, cm\n",
"y1 = 25;    // Distance of biprism from the source, cm\n",
"y2 = 150;    // Distance of biprism from the screen, cm\n",
"D = y1 + y2;    // Distance between slits and the screen, cm\n",
"b = 0.05;  // Fringe width of the interfernce pattern due to biprism, cm\n",
"// As d = 2*(mu-1)*alpha*y1, solving for alpha\n",
"alpha = lambda*D/(b*2*(mu-1)*y1)    // Angle of vertex of the biprism, radian\n",
"printf('\nThe angle of vertex of the biprism = %6.4f rad', alpha);\n",
"// Result\n",
"// The angle of vertex of the biprism = 0.0077 rad "
   ]
   }
,
{
		   "cell_type": "markdown",
		   "metadata": {},
		   "source": [
			"## Example 2.17: Wavelength_of_light_used_in_biprism_experiment_to_illuminate_slits.sce"
		   ]
		  },
  {
"cell_type": "code",
	   "execution_count": null,
	   "metadata": {
	    "collapsed": true
	   },
	   "outputs": [],
"source": [
"// Scilab Code Ex2.17:: Page-2.15 (2009)\n",
"clc; clear;\n",
"theta = 178;    // Vertex angle of biprism, degrees\n",
"alpha = (180-theta)/2*%pi/180;    // Acute angle of biprism, radian\n",
"mu = 1.5;   // Refractive index of biprism\n",
"y1 = 20;    // Distance of biprism from the source, cm\n",
"y2 = 125;    // Distance of biprism from the screen, cm\n",
"D = y1 + y2;    // Distance between slits and the screen, cm\n",
"d = 2*(mu-1)*alpha*y1;  // Separation between the slits, cm\n",
"b = 0.025;  // Fringe width of the interfernce pattern due to biprism, cm\n",
"lambda = b*d/D;    // Wavelength of light used, cm\n",
"printf('\nThe wavelength of light used to illuminate slits = %4d angstrom', lambda/1e-08);\n",
"// Result\n",
"// The wavelength of light used to illuminate slits = 6018 angstrom "
   ]
   }
,
{
		   "cell_type": "markdown",
		   "metadata": {},
		   "source": [
			"## Example 2.18: Vertex_angle_of_Fresnel_biprism.sce"
		   ]
		  },
  {
"cell_type": "code",
	   "execution_count": null,
	   "metadata": {
	    "collapsed": true
	   },
	   "outputs": [],
"source": [
"// Scilab Code Ex2.18:: Page-2.15 (2009)\n",
"clc; clear;\n",
"mu = 1.5;   // Refractive index of biprism\n",
"lambda = 6600e-008;    // Wavelength of light used, cm\n",
"y1 = 40;    // Distance of biprism from the source, cm\n",
"y2 = 175;    // Distance of biprism from the screen, cm\n",
"D = y1 + y2;    // Distance between slits and the screen, cm\n",
"b = 0.04;  // Fringe width of the interfernce pattern due to biprism, cm\n",
"// As d = 2*(mu-1)*alpha*y1, solving for alpha\n",
"alpha = lambda*D/(b*2*(mu-1)*y1)    // Acute angle of the biprism, radian\n",
"theta = (%pi-2*alpha);  // Vertex angle of the biprism, radian\n",
"printf('\nThe vertex angle of the biprism = %6.2f degrees', theta*180/%pi);\n",
"// Result\n",
"// The vertex angle of the biprism = 178.98 degrees "
   ]
   }
,
{
		   "cell_type": "markdown",
		   "metadata": {},
		   "source": [
			"## Example 2.19: Order_of_visible_fringe_for_changed_wavelength_of_light.sce"
		   ]
		  },
  {
"cell_type": "code",
	   "execution_count": null,
	   "metadata": {
	    "collapsed": true
	   },
	   "outputs": [],
"source": [
"// Scilab Code Ex2.19: : Page-2.16 (2009)\n",
"clc; clear;\n",
"lambda1 = 7000e-008;    // Original wavelength of light, cm\n",
"lambda2 = 5000e-008;    // New wavelength of light, cm\n",
"n1 = 10;    // Order of the fringes with original wavelength\n",
"// As x = n*lambda*D/d, so n*lambda = constant\n",
"// n1*lambda1 = n2*lambda2, solving for n2\n",
"n2 = n1*lambda1/lambda2;    // Order of visible fringe for changed wavelength of light\n",
" \n",
"printf('\nThe order of visible fringe for changed wavelength of light = %2d', ceil(n2));\n",
"// Result\n",
"// The order of visible fringe for changed wavelength of light = 14 "
   ]
   }
,
{
		   "cell_type": "markdown",
		   "metadata": {},
		   "source": [
			"## Example 2.1: Slit_separation_in_Double_Slit_experiment.sce"
		   ]
		  },
  {
"cell_type": "code",
	   "execution_count": null,
	   "metadata": {
	    "collapsed": true
	   },
	   "outputs": [],
"source": [
"// Scilab Code Ex2.1:: Page-2.9 (2009)\n",
"clc; clear;\n",
"lambda = 5893e-008;  // Wavelength of light used, m\n",
"D = 200;    // Distance of the source from the screen, m\n",
"b = 0.2;    // Fringe separation, cm\n",
"d = lambda*D/b; // Separation between the slits, cm\n",
"\n",
"printf('\nThe separation between the slits = %3.1e cm', d);\n",
"\n",
"// Result \n",
"// The separation between the slits = 5.9e-002 cm"
   ]
   }
,
{
		   "cell_type": "markdown",
		   "metadata": {},
		   "source": [
			"## Example 2.20: Angle_of_vertex_of_biprism.sce"
		   ]
		  },
  {
"cell_type": "code",
	   "execution_count": null,
	   "metadata": {
	    "collapsed": true
	   },
	   "outputs": [],
"source": [
"// Scilab Code Ex1.20:: Page-2.16 (2009)\n",
"clc; clear;\n",
"y1 = 40;    // Distance between biprism from the slit, cm\n",
"D = 160;    // Distance between slit and the screen, cm\n",
"mu = 1.52;  // Refractive index of material of the prism\n",
"lambda = 5893e-008; // Wavelength of light used, cm\n",
"b = 0.01;   // Fringe width, cm\n",
"// As b = lambda*D/d, solving for d\n",
"d = lambda*D/b;     // Distance between virtual sources, cm\n",
"// But d = 2*y1*(mu-1)*alpha, solving for alpha\n",
"alpha = d/(2*y1*(mu-1))*180/%pi;    // Angle of biprism, degrees\n",
"theta = 180-2*alpha;    // Angle of vertex of biprism, degrees\n",
"printf('\nThe angle of vertex of biprism = %5.1f degree', theta);\n",
"// Result \n",
"// The angle of vertex of biprism = 177.4 degree "
   ]
   }
,
{
		   "cell_type": "markdown",
		   "metadata": {},
		   "source": [
			"## Example 2.21: Separation_between_two_coherent_sources.sce"
		   ]
		  },
  {
"cell_type": "code",
	   "execution_count": null,
	   "metadata": {
	    "collapsed": true
	   },
	   "outputs": [],
"source": [
"// Scilab Code Ex2.21: : Page-2.16 (2009)\n",
"clc; clear;\n",
"lambda = 6000e-008;    // Wavelength of light used, cm\n",
"D = 100;    // Distance between slits and the screen, cm\n",
"b = 0.05;  // Fringe width of the interfernce pattern due to biprism, cm\n",
"d = lambda*D/b;  // Distance between coherent sources, cm\n",
"printf('\nThe distance between coherent sources = %3.1f mm', d/1e-01);\n",
"// Result\n",
"// The distance between coherent sources = 1.2 mm "
   ]
   }
,
{
		   "cell_type": "markdown",
		   "metadata": {},
		   "source": [
			"## Example 2.22: Refractive_index_of_the_glass_sheet.sce"
		   ]
		  },
  {
"cell_type": "code",
	   "execution_count": null,
	   "metadata": {
	    "collapsed": true
	   },
	   "outputs": [],
"source": [
"// Scilab Code Ex2.22:: Page-2.19 (2009)\n",
"clc; clear;\n",
"t = 3.2e-04;    // Thickness of the glass sheet, cm\n",
"lambda = 5500e-008;     // Wavelength of light used, cm\n",
"n = 5;      // Order of interference fringes\n",
"// As path difference (mu - 1)*t = n*lambda\n",
"mu = n*lambda/t + 1;    // Refractive indexof the glass sheet\n",
"\n",
"printf('\nThe refractive index of the glass sheet= %4.2f', mu);\n",
"\n",
"// Result \n",
"// The refractive indexof the glass sheet= 1.86 "
   ]
   }
,
{
		   "cell_type": "markdown",
		   "metadata": {},
		   "source": [
			"## Example 2.23: Refractive_index_of_material_of_sheet.sce"
		   ]
		  },
  {
"cell_type": "code",
	   "execution_count": null,
	   "metadata": {
	    "collapsed": true
	   },
	   "outputs": [],
"source": [
"// Scilab Code Ex2.23:: Page-2.19 (2009)\n",
"clc; clear;\n",
"t = 2.1e-03;    // Thickness of the glass sheet, cm\n",
"lambda = 5400e-008;     // Wavelength of light used, cm\n",
"n = 11;      // Order of interference fringes\n",
"// As path difference, (mu - 1)*t = n*lambda\n",
"mu = n*lambda/t + 1;    // Refractive index of the glass sheet\n",
"\n",
"printf('\nThe refractive index of the glass sheet = %4.2f', mu);\n",
"\n",
"// Result \n",
"// The refractive index of the glass sheet= 1.28 "
   ]
   }
,
{
		   "cell_type": "markdown",
		   "metadata": {},
		   "source": [
			"## Example 2.24: Wavelength_of_light_used_in_biprism_arrangement.sce"
		   ]
		  },
  {
"cell_type": "code",
	   "execution_count": null,
	   "metadata": {
	    "collapsed": true
	   },
	   "outputs": [],
"source": [
"// Scilab Code Ex2.24:: Page-2.19 (2009)\n",
"clc; clear;\n",
"t = 9.21e-05;    // Thickness of the mica sheet, cm\n",
"mu = 1.5;   // Refractive index of material of sheet\n",
"n = 1;      // Order of interference fringes\n",
"// As path difference, (mu - 1)*t = n*lambda, solving for lambda\n",
"lambda = (mu - 1)*t/n;    // Wavelength of light used, cm\n",
"\n",
"printf('\nThe wavelength of light used = %5.3e cm', lambda);\n",
"\n",
"// Result \n",
"// The wavelength of light used = 4.605e-005 cm "
   ]
   }
,
{
		   "cell_type": "markdown",
		   "metadata": {},
		   "source": [
			"## Example 2.25: Thickness_of_the_transparent_sheet.sce"
		   ]
		  },
  {
"cell_type": "code",
	   "execution_count": null,
	   "metadata": {
	    "collapsed": true
	   },
	   "outputs": [],
"source": [
"// Scilab Code Ex2.25:: Page-2.19 (2009)\n",
"clc; clear;\n",
"lambda = 5890e-008;     // Wavelength of light used, cm\n",
"mu = 1.5;   // Refractive index of material sheet\n",
"// As shift = 9*lambda*D/d = D/d*(mu - 1)*t, solving for t\n",
"t = 9*lambda/(mu - 1);    // Thickness of the glass sheet, cm\n",
"printf('\nThe thickness of the glass sheet = %4.2e cm', t);\n",
"\n",
"// Result \n",
"// The thickness of the glass sheet = 1.06e-003 cm "
   ]
   }
,
{
		   "cell_type": "markdown",
		   "metadata": {},
		   "source": [
			"## Example 2.26: Thickness_of_the_transparent_sheet_from_fringe_shift.sce"
		   ]
		  },
  {
"cell_type": "code",
	   "execution_count": null,
	   "metadata": {
	    "collapsed": true
	   },
	   "outputs": [],
"source": [
"// Scilab Code Ex2.26:: Page-2.20 (2009)\n",
"clc; clear;\n",
"lambda = 5400e-008;     // Wavelength of light used, cm\n",
"mu = 1.7;   // Refractive index of material sheet convering the first slit\n",
"mu_prime = 1.5;     // Refractive index of material sheet convering the seecond slit\n",
"// As shift, S = D/d*(mu - mu_prime)*t = b/lambda*(mu - mu_prime)*t, solving for t\n",
"t = 8*lambda/(mu-mu_prime)    // Thickness of the glass sheet, cm\n",
"\n",
"printf('\nThe thickness of the glass sheet = %4.2e cm', t);\n",
"\n",
"// Result \n",
"// The thickness of the glass sheet = 2.16e-003 cm "
   ]
   }
,
{
		   "cell_type": "markdown",
		   "metadata": {},
		   "source": [
			"## Example 2.27: Refractive_index_of_thin_mica_sheet.sce"
		   ]
		  },
  {
"cell_type": "code",
	   "execution_count": null,
	   "metadata": {
	    "collapsed": true
	   },
	   "outputs": [],
"source": [
"// Scilab Code Ex2.27:: Page-2.20 (2009)\n",
"clc; clear;\n",
"t = 21.5e-05;    // Thickness of the glass sheet, cm\n",
"lambda = 5890e-008;     // Wavelength of light used, cm\n",
"n = 1;      // Order of interference fringes\n",
"// As path difference, (mu - 1)*t = n*lambda\n",
"mu = n*lambda/t + 1;    // Refractive indexof the glass sheet\n",
"\n",
"printf('\nThe refractive index of the glass sheet = %5.3f', mu);\n",
"\n",
"// Result \n",
"// The refractive index of the glass sheet = 1.274 "
   ]
   }
,
{
		   "cell_type": "markdown",
		   "metadata": {},
		   "source": [
			"## Example 2.28: Wavelength_of_light_used_in_double_slit_experiment.sce"
		   ]
		  },
  {
"cell_type": "code",
	   "execution_count": null,
	   "metadata": {
	    "collapsed": true
	   },
	   "outputs": [],
"source": [
"// Scilab Code Ex2.28:: Page-2.20 (2009)\n",
"clc; clear;\n",
"D = 1;   // For simplicity assume distance between source and slits to be unity, unit\n",
"d = 1;   // For simplicity assume slit separation to be unity, unit\n",
"t = 2.964e-06;    // Thickness of the mica sheet, cm\n",
"mu = 1.5;   // Refractive index of material of shee\n",
"L = poly(0, 'L');\n",
"// As b = b_prime or 2.25*D*L/d = D/d*(mu-1)*t, or we may write\n",
"L = roots(2.25*D*L/d-D/d*(mu-1)*t);     // Wavelength of the light used, m\n",
"\n",
"printf('\nThe wavelength of the light used = %4.0f angstrom', L/1e-010);\n",
"\n",
"// Result \n",
"// The wavelength of the light used = 6587 angstrom "
   ]
   }
,
{
		   "cell_type": "markdown",
		   "metadata": {},
		   "source": [
			"## Example 2.29: Thickness_of_mica_sheet_from_central_fringe_shift.sce"
		   ]
		  },
  {
"cell_type": "code",
	   "execution_count": null,
	   "metadata": {
	    "collapsed": true
	   },
	   "outputs": [],
"source": [
"// Scilab Code Ex2.29:: Page-2.21 (2009)\n",
"clc; clear;\n",
"lambda = 5890e-008;     // Wavelength of light used, cm\n",
"n = 5;      // Order of interference fringes\n",
"mu = 1.5;   // Refractive index of the mica sheet\n",
"// As path difference, (mu - 1)*t = n*lambda, solving for t\n",
"t = n*lambda/(mu-1);    // Thickness of the mica sheet, cm\n",
"\n",
"printf('\nThe thickness of the mica sheet = %4.2e cm', t);\n",
"\n",
"// Result \n",
"// The thickness of the mica sheet = 5.89e-004 cm "
   ]
   }
,
{
		   "cell_type": "markdown",
		   "metadata": {},
		   "source": [
			"## Example 2.2: Wavelength_of_light_in_Young_Double_Slit_experiment.sce"
		   ]
		  },
  {
"cell_type": "code",
	   "execution_count": null,
	   "metadata": {
	    "collapsed": true
	   },
	   "outputs": [],
"source": [
"// Scilab Code Ex2.2:: Page-2.10 (2009)\n",
"clc; clear;\n",
"d = 0.2; // Separation between the slits, cm\n",
"D = 100;    // Distance of the source from the screen, m\n",
"b = 0.35e-01;    // Fringe separation, cm\n",
"lambda = b*d/D;  // Wavelength of light used, m\n",
"printf('\nThe wavelength of the light = %3.1e cm', lambda);\n",
"\n",
"// Result \n",
"// The wavelength of the light = 7.0e-005 cm "
   ]
   }
,
{
		   "cell_type": "markdown",
		   "metadata": {},
		   "source": [
			"## Example 2.30: Refractive_index_of_material_from_shifting_fringe_pattern.sce"
		   ]
		  },
  {
"cell_type": "code",
	   "execution_count": null,
	   "metadata": {
	    "collapsed": true
	   },
	   "outputs": [],
"source": [
"// Scilab Code Ex2.30:: Page-2.21 (2009)\n",
"clc; clear;\n",
"b = 1;      // For simplicity assume fringe width to be unity, cm\n",
"S = 30*b;   // Fringe shift, cm\n",
"lambda = 6600e-008;     // Wavelength of light used, cm\n",
"t = 4.9e-003;       // Thickness of the film, cm\n",
"// As S = b/lambda*(mu-1)*t, solving for mu\n",
"mu = S*lambda/t + 1;       // Refractive index of material from shifting fringe pattern\n",
"\n",
"printf('\nThe refractive index of material from shifting fringe pattern = %3.1f', mu);\n",
"\n",
"// Result \n",
"// The refractive index of material from shifting fringe pattern = 1.4 "
   ]
   }
,
{
		   "cell_type": "markdown",
		   "metadata": {},
		   "source": [
			"## Example 2.31: EX2_31.sce"
		   ]
		  },
  {
"cell_type": "code",
	   "execution_count": null,
	   "metadata": {
	    "collapsed": true
	   },
	   "outputs": [],
"source": [
"// Scilab Code Ex2.31:: Page-2.22 (2009)\n",
"clc; clear;\n",
"mu1 = 1.55;     // Refractive index of mica\n",
"mu2 = 1.52;     // Refractive index of glass\n",
"t = 0.75e-003;  // Thickness of the sheets, m\n",
"d = 0.25e-02;   // Separation between the slits, m\n",
"lambda = 5896e-010; // Wavelength of light used, m\n",
"D = 1.5;    // Distance between the source ans the slits, m\n",
"// Fringe width\n",
"b = lambda*D/d;     // Fringe width, m\n",
"// Optical path difference\n",
"delta_x = (mu1-1)*t-(mu2-1)*t;  // Optical path change, m\n",
"\n",
"printf('\nThe fringe width = %3.1e m', b);\n",
"printf('\nThe optical path change = %5.3e m', delta_x);\n",
"\n",
"// Result \n",
"// The fringe width = 3.5e-004 m\n",
"// The optical path change = 2.250e-005 m "
   ]
   }
,
{
		   "cell_type": "markdown",
		   "metadata": {},
		   "source": [
			"## Example 2.32: Thickness_of_mica_sheet_from_Fresnel_biprism_experiment.sce"
		   ]
		  },
  {
"cell_type": "code",
	   "execution_count": null,
	   "metadata": {
	    "collapsed": true
	   },
	   "outputs": [],
"source": [
"// Scilab Code Ex2.32:: Page-2.22 (2009)\n",
"clc; clear;\n",
"b = 1;      // For simplicity assume fringe width to be unity, cm\n",
"S = 3*b;   // Fringe shift, cm\n",
"lambda = 5890e-008;     // Wavelength of light used, cm\n",
"mu = 1.6;   // Refractive index of the mica sheet\n",
"// As S = b/lambda*(mu-1)*t, solving for t\n",
"t = S*lambda/(mu-1);       // Thickness of the mica sheet, cm\n",
"\n",
"printf('\nThe thickness of the mica sheet = %3.1e m', t/1e+02);\n",
"\n",
"// Result \n",
"// The thickness of the mica sheet = 2.9e-006 m "
   ]
   }
,
{
		   "cell_type": "markdown",
		   "metadata": {},
		   "source": [
			"## Example 2.33: Smallest_thickness_of_glass_plate_for_a_fringe_of_minimum_intensity.sce"
		   ]
		  },
  {
"cell_type": "code",
	   "execution_count": null,
	   "metadata": {
	    "collapsed": true
	   },
	   "outputs": [],
"source": [
"// Scilab Code Ex2.33: : Page-2.26 (2009)\n",
"clc; clear;\n",
"mu = 1.5;       // Refractive index of glass\n",
"lambda = 5100e-008; // Wavelength of light used, cm\n",
"i = 30;     // Angle of incidence, degrees\n",
"n = 1;  // Order of interference fringes\n",
"// From Snell's law, mu = sind(i)/sind(r), solving for r\n",
"r = asind(sind(i)/mu);  // Angle of refraction, degrees\n",
"// For a dark fringe in reflection, 2*mu*t*cosd(r) = n*lambda, solving for t\n",
"t = n*lambda/(2*mu*cosd(r));       // Smallest thickness of glass plate for a fringe of minimum intensity, cm\n",
"printf('\nThe smallest thickness of glass plate for a fringe of minimum intensity = %4.2e cm', t);\n",
"\n",
"// Result \n",
"// The smallest thickness of glass plate for a fringe of minimum intensity = 1.80e-005 cm "
   ]
   }
,
{
		   "cell_type": "markdown",
		   "metadata": {},
		   "source": [
			"## Example 2.34: The_wavelength_reflected_strongly_from_the_soap_film.sce"
		   ]
		  },
  {
"cell_type": "code",
	   "execution_count": null,
	   "metadata": {
	    "collapsed": true
	   },
	   "outputs": [],
"source": [
"// Scilab Code Ex2.34:: Page-2.26 (2009)\n",
"clc; clear;\n",
"t = 3.1e-05;    // Thickness of the soap film, cm\n",
"mu = 1.33;      // Refractive index of the soap film\n",
"r = 0;      // Angle of refraction of the light ray on the soap film, degrees\n",
"// For bright fringe in reflected pattern,\n",
"// 2*mu*t*cosd(r) = (2*n+1)*lambda/2\n",
"lambda = zeros(3);  \n",
"for n = 1:1:3\n",
"    lambda(n) = 4*mu*t*cosd(r)/(2*(n-1)+1);     // Wavelengths for n = 1, 2 and 3\n",
"    if lambda(n) > 4000e-008 & lambda(n) < 7500e-008 then\n",
"        lambda_reflected = lambda(n);\n",
"    end\n",
"end\n",
"printf('\nThe wavelength reflected strongly from the soap film = %5.3e cm', lambda_reflected);\n",
"// Result\n",
"// The wavelength reflected strongly from the soap film = 5.497e-05 cm "
   ]
   }
,
{
		   "cell_type": "markdown",
		   "metadata": {},
		   "source": [
			"## Example 2.35: Order_of_interference_of_the_dark_band.sce"
		   ]
		  },
  {
"cell_type": "code",
	   "execution_count": null,
	   "metadata": {
	    "collapsed": true
	   },
	   "outputs": [],
"source": [
"// Scilab Code Ex2.35:: Page-2.27 (2009)\n",
"clc; clear;\n",
"t = 3.8e-05;    // Thickness of the transparent film, cm\n",
"mu = 1.5;      // Refractive index of the transparent film\n",
"i = 45;     // Angle of incidence of the light ray on the transparent film, degrees\n",
"lambda = 5700e-008;     // Wavelength of light, cm\n",
"// As mu = sind(i)/sind(r), solving for r\n",
"r = asind(sind(i)/mu);\n",
"// For dark fringe in reflected pattern,\n",
"// 2*mu*t*cosd(r) = 2*n*lambda, solving for n\n",
"n = 2*mu*t*cosd(r)/lambda;      // Order of interference of dark band\n",
"printf('\nThe order of interference of dark band = %d', ceil(n));\n",
"// Result\n",
"// The order of interference of dark band = 2velength reflected strongly from the soap film = 5.497e-05 cm "
   ]
   }
,
{
		   "cell_type": "markdown",
		   "metadata": {},
		   "source": [
			"## Example 2.36: Absent_wavelength_of_reflected_light_in_the_visible_spectrum.sce"
		   ]
		  },
  {
"cell_type": "code",
	   "execution_count": null,
	   "metadata": {
	    "collapsed": true
	   },
	   "outputs": [],
"source": [
"// Scilab Code Ex2.36:: Page-2.27 (2009)\n",
"clc; clear;\n",
"t = 4.5e-05;    // Thickness of the soap film, cm\n",
"mu = 1.33;      // Refractive index of the soap film\n",
"i = 45;     // Angle of incidence of the light ray on the soap film, degrees\n",
"// As mu = sind(i)/sind(r), solving for r\n",
"r = asind(sind(i)/mu);\n",
"// For dark fringe in reflected pattern,\n",
"// 2*mu*t*cosd(r) = n*lambda, solving for lambda for different n's\n",
"lambda = zeros(4);  \n",
"for n = 1:1:4\n",
"    lambda(n) = 2*mu*t*cosd(r)/n;     // Wavelengths for n = 1, 2, 3 and 4\n",
"    if lambda(n) > 4000e-008 & lambda(n) < 7500e-008 then\n",
"        lambda_absent = lambda(n);\n",
"    end\n",
"end\n",
"printf('\nThe absent wavelength of reflected light in the visible spectrum = %4.2e', lambda_absent);\n",
"// Result\n",
"// The absent wavelength of reflected light in the visible spectrum = 5.07e-05 "
   ]
   }
,
{
		   "cell_type": "markdown",
		   "metadata": {},
		   "source": [
			"## Example 2.37: Minimum_thickness_of_the_plate_that_will_appear_dark_in_the_reflection_pattern.sce"
		   ]
		  },
  {
"cell_type": "code",
	   "execution_count": null,
	   "metadata": {
	    "collapsed": true
	   },
	   "outputs": [],
"source": [
"// Scilab Code Ex2.37:: Page-2.28 (2009)\n",
"clc; clear;\n",
"mu = 1.6;      // Refractive index of the mica plate\n",
"r = 60;     // Angle of refraction of the light ray on the mica plate, degrees\n",
"lambda = 5500e-008;     // Wavelength of light used, cm\n",
"n = 1;  // Order of interference for minimum thickness\n",
"// For dark fringe in reflected pattern,\n",
"// 2*mu*t*cosd(r) = 2*n*lambda, solving for t\n",
"t = n*lambda/(2*mu*cosd(r));    // Minimum thickness of the plate that will appear dark in the reflection pattern\n",
"printf('\nThe minimum thickness of the plate that will appear dark in the reflection pattern = %4.2e cm', t);\n",
"// Result\n",
"// The minimum thickness of the plate that will appear dark in the reflection pattern = 3.44e-05 cm "
   ]
   }
,
{
		   "cell_type": "markdown",
		   "metadata": {},
		   "source": [
			"## Example 2.38: Thickness_of_the_thin_soap_film.sce"
		   ]
		  },
  {
"cell_type": "code",
	   "execution_count": null,
	   "metadata": {
	    "collapsed": true
	   },
	   "outputs": [],
"source": [
"// Scilab Code Ex2.38:: Page-2.28 (2009)\n",
"clc; clear;\n",
"mu = 1.33;      // Refractive index of the thin soap film\n",
"lambda1 = 5500e-008;    // Wavelength of the first dark fringe, cm\n",
"lambda2 = 5400e-008;    // Wavelength of the consecutive dark fringe, cm\n",
"i = 30;     // Angle of incidence of the light ray on the soap film, degrees\n",
"// For overlapping fringes, \n",
"// n*lambda1 = (n+1)*lambda2, solving for n\n",
"n = lambda2/(lambda1-lambda2);  // Order of interference fringes\n",
"// As mu = sind(i)/sind(r), solving for r\n",
"r = asind(sind(i)/mu);\n",
"// For dark fringe in reflected pattern,\n",
"// 2*mu*t*cosd(r) = 2*n*lambda1, solving for t\n",
"t = n*lambda1/(2*mu*cosd(r));    // Thickness of the thin soap film\n",
"printf('\nThe thickness of the thin soap film = %5.3e cm', t);\n",
"// Result\n",
"// The thickness of the thin soap film = 1.205e-03 cm "
   ]
   }
,
{
		   "cell_type": "markdown",
		   "metadata": {},
		   "source": [
			"## Example 2.39: Order_of_interference_for_which_light_is_strongly_reflected.sce"
		   ]
		  },
  {
"cell_type": "code",
	   "execution_count": null,
	   "metadata": {
	    "collapsed": true
	   },
	   "outputs": [],
"source": [
"// Scilab Code Ex2.39:: Page-2.29 (2009)\n",
"clc; clear;\n",
"t = 0.75e-06;   // Thickness of the glass plate, m\n",
"mu = 1.5;      // Refractive index of the glass plate\n",
"lambda1 = 4000e-010;    // First wavelength of visible range, cm\n",
"lambda2 = 7000e-010;    // Last wavelength of visible range, cm\n",
"r = 0;     // Angle of refraction for normal incidence, degrees\n",
"n = zeros(2);\n",
"// For bright fringe in reflected pattern,\n",
"// 2*mu*t*cosd(r) = (2*n+1)*lambda/2, solving for n\n",
"// For lambda1\n",
"n(1) = (4*mu*t*cosd(r)/lambda1-1)/2;\n",
"// For lambda2\n",
"n(2) = (4*mu*t*cosd(r)/lambda2-1)/2;\n",
"printf('\nFor n = %d and n = %d the light is strongly reflected.', n(1), ceil(n(2)));\n",
"// Result\n",
"// For n = 5 and n = 3 the light is strongly reflected. "
   ]
   }
,
{
		   "cell_type": "markdown",
		   "metadata": {},
		   "source": [
			"## Example 2.3: Ratio_of_maximum_intensity_to_minimum_intensity_of_interference_fringes.sce"
		   ]
		  },
  {
"cell_type": "code",
	   "execution_count": null,
	   "metadata": {
	    "collapsed": true
	   },
	   "outputs": [],
"source": [
"// Scilab Code Ex2.3:: Page-2.10 (2009)\n",
"clc; clear;\n",
"I2 = 1;     // For simplicity assume intensity from slit 2 to be unity, W/sq-m\n",
"I1 = I2*25; // Intensity from slit 1, W/sq-m\n",
"I_ratio = I1/I2;    // Intensity ratio\n",
"a_ratio = sqrt(I_ratio);    // Amplitude ratio\n",
"a2 = 1;     // For simplicity assume amplitude from slit 2 to be unity, m\n",
"a1 = a_ratio*a2;    // Amplitude from slit 1, m\n",
"I_max = (a1 + a2)^2;   // Maximum intensity of wave during interference, W/sq-m\n",
"I_min = (a1 - a2)^2;   // Minimum intensity of wave during interference, W/sq-m\n",
"cf = 4; // Common factor\n",
"printf('\nThe ratio of maximum intentisy to minimum intensity of interference fringes = %d/%d', I_max/cf, I_min/cf); \n",
"\n",
"// Result \n",
"// The ratio of maximum intentisy to minimum intensity of interference fringes = 9/4 "
   ]
   }
,
{
		   "cell_type": "markdown",
		   "metadata": {},
		   "source": [
			"## Example 2.40: Minimum_thickness_of_the_film_for_which_light_is_strongly_reflected.sce"
		   ]
		  },
  {
"cell_type": "code",
	   "execution_count": null,
	   "metadata": {
	    "collapsed": true
	   },
	   "outputs": [],
"source": [
"// Scilab Code Ex2.40:: Page-2.30 (2009)\n",
"clc; clear;\n",
"mu = 1.45;      // Refractive index of the film\n",
"lambda = 5500e-010;    // First wavelength of visible range, cm\n",
"r = 0;     // Angle of refraction for normal incidence, degrees\n",
"n = 0;      // Order of interference is zero for minimum thickness\n",
"// For bright fringe in reflected pattern,\n",
"// 2*mu*t*cosd(r) = (2*n+1)*lambda/2, solving for t\n",
"t = (2*n+1)*lambda/(4*mu*cosd(r));    // Minimum thickness of the film for which light is strongly reflected\n",
"printf('\nThe minimum thickness of the film for which light is strongly reflected = %4.2e cm', t);\n",
"// Result\n",
"// The minimum thickness of the film for which light is strongly reflected = 9.48e-08 cm "
   ]
   }
,
{
		   "cell_type": "markdown",
		   "metadata": {},
		   "source": [
			"## Example 2.41: Thickness_of_the_soap_film_for_dark_fringe_in_reflected_pattern.sce"
		   ]
		  },
  {
"cell_type": "code",
	   "execution_count": null,
	   "metadata": {
	    "collapsed": true
	   },
	   "outputs": [],
"source": [
"// Scilab Code Ex2.41:: Page-2.30 (2009)\n",
"clc; clear;\n",
"mu = 5/4;      // Refractive index of the film\n",
"lambda = 5890e-010;    // Wavelength of visible light, cm\n",
"i = 45;     // Angle of incidence, degrees\n",
"n = 1;      // Order of interference is unity for minimum thickness in dark reflected pattern\n",
"// As mu = sind(i)/sind(r), solving for r\n",
"r = asind(sind(i)/mu);\n",
"// For dark fringe in reflected pattern,\n",
"// 2*mu*t*cosd(r) = n*lambda, solving for t\n",
"t = n*lambda/(2*mu*cosd(r));    // Thickness of the soap film for dark fringe in reflected pattern\n",
"printf('\nThe thickness of the soap film for dark fringe in reflected pattern = %5.3e cm', t);\n",
"// Result\n",
"// The thickness of the soap film for dark fringe in reflected pattern = 2.857e-07 cm "
   ]
   }
,
{
		   "cell_type": "markdown",
		   "metadata": {},
		   "source": [
			"## Example 2.42: Wavelength_in_the_visible_range_which_is_intensified_in_the_reflected_beam.sce"
		   ]
		  },
  {
"cell_type": "code",
	   "execution_count": null,
	   "metadata": {
	    "collapsed": true
	   },
	   "outputs": [],
"source": [
"// Scilab Code Ex2.42:: Page-2.30 (2009)\n",
"clc; clear;\n",
"mu = 1.5;      // Refractive index of the plate\n",
"t = 0.5e-006;   // Thickness of the plate, m\n",
"r = 0;      // Angle of refraction for normal incidence, degrees\n",
"// For bright fringe in reflected pattern,\n",
"// 2*mu*t*cosd(r) = (2*n+1)*lambda/2, solving for lambda for different n's\n",
"lambda = zeros(4);  \n",
"for n = 0:1:3\n",
"    lambda(n+1) = 4*mu*t*cosd(r)/(2*n+1);     // Wavelengths for n = 0, 1, 2 and 3\n",
"    lambda_strong = lambda(n+1);\n",
"    if lambda(n+1) >= 4000e-010 & lambda(n+1) <= 7500e-010 then\n",
"          if lambda_strong > lambda(n+1)  then  // Search for the stronger wavelength\n",
"              lambda_strong = lambda(n+1);\n",
"          end\n",
"    end\n",
"end\n",
"printf('\nFor n = %d, %4.0f angstrom will be reflected strongly', n, lambda_strong/1e-010);\n",
"// Result\n",
"// For n = 3, 4286 angstrom will be reflected strongly "
   ]
   }
,
{
		   "cell_type": "markdown",
		   "metadata": {},
		   "source": [
			"## Example 2.43: Thickness_of_the_film_with_incident_white_light.sce"
		   ]
		  },
  {
"cell_type": "code",
	   "execution_count": null,
	   "metadata": {
	    "collapsed": true
	   },
	   "outputs": [],
"source": [
"// Scilab Code Ex2.43:: Page-2.31(2009)\n",
"clc; clear;\n",
"mu = 1.33;      // Refractive index of the film\n",
"i = asind(0.8);      // Angle of refraction for normal incidence, degrees\n",
"// As mu = sind(i)/sind(r), solving for r\n",
"r = asind(sind(i)/mu);\n",
"lambda1 = 6100e-010;    // First wavelength of dark band, m\n",
"lambda2 = 6000e-010;    // Second wavelength of dark band, m\n",
"// For consecutive overlapping wavelenghts\n",
"// n*lambda1 = (n+1)*lambda2, solving for n\n",
"n = lambda2/(lambda1-lambda2);\n",
"// For dark fringe in reflected pattern,\n",
"// 2*mu*t*cosd(r) = n*lambda1, solving for t\n",
"t = n*lambda1/(2*mu*cosd(r));   // Thickness of the film with incident white light. m\n",
"printf('\nThickness of the film with incident white light = %3.1e m', t);\n",
"// Result\n",
"// Thickness of the film with incident white light = 1.7e-05 m "
   ]
   }
,
{
		   "cell_type": "markdown",
		   "metadata": {},
		   "source": [
			"## Example 2.44: Thickness_of_the_film_with_parallel_beam_of_yellow_light.sce"
		   ]
		  },
  {
"cell_type": "code",
	   "execution_count": null,
	   "metadata": {
	    "collapsed": true
	   },
	   "outputs": [],
"source": [
"// Scilab Code Ex2.44:: Page-2.31(2009)\n",
"clc; clear;\n",
"mu = 1.5;      // Refractive index of the film\n",
"i = 45;      // Angle of incidence, degrees\n",
"// As mu = sind(i)/sind(r), solving for r\n",
"r = asind(sind(i)/mu);\n",
"lambda = 5500e-010;    // Wavelength of parallel beam of light, m\n",
"n = 15;     // Order of dark band\n",
"// For dark fringe in reflected pattern,\n",
"// 2*mu*t*cosd(r) = n*lambda, solving for t\n",
"t = n*lambda/(2*mu*cosd(r));   // Thickness of the film with incident parallel beam of light. m\n",
"printf('\nThe thickness of the film with paralle beam of yellow light = %4.2e m', t);\n",
"// Result\n",
"// The thickness of the film with paralle beam of yellow light = 3.12e-06 m"
   ]
   }
,
{
		   "cell_type": "markdown",
		   "metadata": {},
		   "source": [
			"## Example 2.46: Refractive_index_of_oil.sce"
		   ]
		  },
  {
"cell_type": "code",
	   "execution_count": null,
	   "metadata": {
	    "collapsed": true
	   },
	   "outputs": [],
"source": [
"// Scilab Code Ex2.46:: Page-2.33(2009)\n",
"clc; clear;\n",
"V = 0.58e-006;   // Volume of oil, metre cube\n",
"A = 2.5;        // Area of water surface, metre square\n",
"t = V/A;    // Thickness of film, m\n",
"r = 0;      // Angle of refraction for normal incidence, degrees\n",
"n = 1;      // Order of interference for minimum thickness\n",
"lambda = 4700e-010;     // Wavelength of light used, m\n",
"// For dark fringe in reflected pattern,\n",
"// 2*mu*t*cosd(r) = n*lambda, solving for mu\n",
"mu = n*lambda/(2*t*cosd(r));    // Refractive index of oil\n",
"printf('\nThe refractive index of oil = %5.3f', mu);\n",
"// Result\n",
"// The refractive index of oil = 1.013 "
   ]
   }
,
{
		   "cell_type": "markdown",
		   "metadata": {},
		   "source": [
			"## Example 2.47: EX2_47.sce"
		   ]
		  },
  {
"cell_type": "code",
	   "execution_count": null,
	   "metadata": {
	    "collapsed": true
	   },
	   "outputs": [],
"source": [
"// Scilab Code Ex2.47:: Page-2.33(2009)\n",
"clc; clear;\n",
"mu = 1.46;      // Refractive index of the soap film\n",
"lambda = 6000e-010;     // Wavelength of light used, m\n",
"r = 0;      // Angle of refraction for normal incidence, degrees\n",
"n = 0;      // Order of interference for minimum thickness\n",
"// For bright fringe in reflected pattern,\n",
"// 2*mu*t*cosd(r) = (2*n+1)*lambda/2, solving for mu\n",
"t = (2*n+1)*lambda/(4*mu*cosd(r));  // Thickness of soap film, m\n",
"printf('\nThe thickness of soap film = %5.3e m', t);\n",
"// Result\n",
"// The thickness of soap film = 1.027e-07 m "
   ]
   }
,
{
		   "cell_type": "markdown",
		   "metadata": {},
		   "source": [
			"## Example 2.48: Wavelength_of_light_falling_on_wedge_shaped_film.sce"
		   ]
		  },
  {
"cell_type": "code",
	   "execution_count": null,
	   "metadata": {
	    "collapsed": true
	   },
	   "outputs": [],
"source": [
"// Scilab Code Ex2.48: : Page-2.35(2009)\n",
"clc; clear;\n",
"mu = 1.4;      // Refractive index of the film\n",
"alpha = 1.07e-004;  // Acute angle of the wedge, radian\n",
"b = 0.2;    // Fringe width, cm\n",
"// As b = lambda/(2*mu*alpha), solving for lambda\n",
"lambda = 2*mu*alpha*b;  // Wavelength of light falling on wedge shaped film, m\n",
"printf('\nThe wavelength of light falling on wedge shaped film = %4d ansgtrom', lambda/1e-008);\n",
"// Result\n",
"// The wavelength of light falling on wedge shaped film = 5991 ansgtrom "
   ]
   }
,
{
		   "cell_type": "markdown",
		   "metadata": {},
		   "source": [
			"## Example 2.49: Difference_between_the_thicknesses_of_the_films.sce"
		   ]
		  },
  {
"cell_type": "code",
	   "execution_count": null,
	   "metadata": {
	    "collapsed": true
	   },
	   "outputs": [],
"source": [
"// Scilab Code Ex2.49:: Page-2.35(2009)\n",
"clc; clear;\n",
"mu = 1.4;      // Refractive index of the film\n",
"lambda = 5500e-008; // Wavelength of the light, cm\n",
"// As alpha = (delta_t)/x and x = 10*b; b = lambda/(2*mu*alpha), solving for dt\n",
"delta_t = 10*lambda/(2*mu);     // Difference between the thicknesses of the films, cm\n",
"printf('\nDifference between the thicknesses of the films = %4.2e cm', delta_t);\n",
"// Result\n",
"// Difference between the thicknesses of the films = 1.96e-04 cm "
   ]
   }
,
{
		   "cell_type": "markdown",
		   "metadata": {},
		   "source": [
			"## Example 2.4: Wavelength_of_light_from_monochromatic_coherent_sources.sce"
		   ]
		  },
  {
"cell_type": "code",
	   "execution_count": null,
	   "metadata": {
	    "collapsed": true
	   },
	   "outputs": [],
"source": [
"// Scilab Code Ex2.4:: Page-2.10 (2009)\n",
"clc; clear;\n",
"d = 0.02; // Separation between the slits, cm\n",
"D = 100;    // Distance of the source from the screen, m\n",
"n = 6;  // No. of bright fringe from the centre\n",
"x = 1.22;   // Position of 6th bright fringe, cm\n",
"lambda = x*d/(n*D);  // Wavelength of light used, m\n",
"printf('\nThe wavelength of the light from coherent sources = %5.3e cm', lambda);\n",
"\n",
"// Result \n",
"// The wavelength of the light from coherent sources = 4.067e-005 cm "
   ]
   }
,
{
		   "cell_type": "markdown",
		   "metadata": {},
		   "source": [
			"## Example 2.50: Angle_of_thin_wedge_shaped_film.sce"
		   ]
		  },
  {
"cell_type": "code",
	   "execution_count": null,
	   "metadata": {
	    "collapsed": true
	   },
	   "outputs": [],
"source": [
"// Scilab Code Ex2.50:: Page-2.36(2009)\n",
"clc; clear;\n",
"mu = 1.6;      // Refractive index of the film\n",
"lambda = 5500e-008; // Wavelength of the light, cm\n",
"b = 0.1;       // Fringe width, cm\n",
"// As b = lambda/(2*mu*alpha), solving for alpha\n",
"alpha = lambda/(2*mu*b);    // Angle of thin wedge shaped film, radian\n",
"printf('\nAngle of thin wedge shaped film = %3.1e radian', alpha);\n",
"// Result\n",
"// Angle of thin wedge shaped film = 1.7e-04 radian "
   ]
   }
,
{
		   "cell_type": "markdown",
		   "metadata": {},
		   "source": [
			"## Example 2.51: Wavelength_of_light_used_to_illuminate_a_wedge_shaped_film.sce"
		   ]
		  },
  {
"cell_type": "code",
	   "execution_count": null,
	   "metadata": {
	    "collapsed": true
	   },
	   "outputs": [],
"source": [
"// Scilab Code Ex2.51:: Page-2.36(2009)\n",
"clc; clear;\n",
"mu = 1.5;      // Refractive index of the film\n",
"b = 0.20;       // Fringe width, cm\n",
"theta = 25/(60*60)*%pi/180;     // Angle of the wedge, radian\n",
"// As b = lambda/(2*mu*theta), solving for lambda\n",
"lambda = 2*mu*b*theta;    // Wavelength of light used to illuminate a wedge shaped film, cm\n",
"printf('\nThe wavelength of light used to illuminate a wedge shaped film = %4d angstrom', lambda/1e-008);\n",
"// Result\n",
"// The wavelength of light used to illuminate a wedge shaped film = 7272 angstrom\n",
"// The answer is given wrong in the textbook"
   ]
   }
,
{
		   "cell_type": "markdown",
		   "metadata": {},
		   "source": [
			"## Example 2.52: Thickness_of_the_wire_separating_two_glass_surfaces.sce"
		   ]
		  },
  {
"cell_type": "code",
	   "execution_count": null,
	   "metadata": {
	    "collapsed": true
	   },
	   "outputs": [],
"source": [
"// Scilab Code Ex2.52:: Page-2.36(2009)\n",
"clc; clear;\n",
"lambda = 5893e-010;     // Wavelength of light used, m\n",
"mu = 1;      // Refractive index of the glass\n",
"b = 1;       // Assume fringe width to be unity, cm\n",
"// As b = l/20, solving for l\n",
"l = b*20;       // Length of the film, m\n",
"// As b = lambda/(2*mu*theta) and theta = t/l, solving for t\n",
"t = lambda*l/(2*mu);    // Thickness of the wire separating two glass surfaces, m\n",
"printf('\nThe thickness of the wire separating two glass surfaces = %4.2e m', t);\n",
"// Result\n",
"// The thickness of the wire separating two glass surfaces = 5.89e-06 m "
   ]
   }
,
{
		   "cell_type": "markdown",
		   "metadata": {},
		   "source": [
			"## Example 2.53: Angle_of_the_wedge_shaped_air_film.sce"
		   ]
		  },
  {
"cell_type": "code",
	   "execution_count": null,
	   "metadata": {
	    "collapsed": true
	   },
	   "outputs": [],
"source": [
"// Scilab Code Ex2.53:: Page-2.37(2009)\n",
"clc; clear;\n",
"mu = 1;      // Refractive index of the air film\n",
"b = 1.5/25;       // Fringe width, cm\n",
"lambda = 5893e-008;    // Wavelength of light used to illuminate a wedge shaped film, cm\n",
"// As b = lambda/(2*mu*theta), solving for theta\n",
"theta = lambda/(2*mu*b);    // Angle of the wedge, radian\n",
"printf('\nThe angle of the wedge shaped air film = %5.3f degrees', theta*180/%pi);\n",
"// Result\n",
"// The angle of the wedge shaped air film = 0.028 degrees "
   ]
   }
,
{
		   "cell_type": "markdown",
		   "metadata": {},
		   "source": [
			"## Example 2.54: Acute_angle_of_the_wedge_shaped_film.sce"
		   ]
		  },
  {
"cell_type": "code",
	   "execution_count": null,
	   "metadata": {
	    "collapsed": true
	   },
	   "outputs": [],
"source": [
"// Scilab Code Ex2.54:: Page-2.37(2009)\n",
"clc; clear;\n",
"mu = 1.45;      // Refractive index of the film\n",
"b = 1/10;       // Fringe width, cm\n",
"lambda = 6600e-008;    // Wavelength of light used to illuminate a wedge shaped film, cm\n",
"// As b = lambda/(2*mu*theta), solving for theta\n",
"theta = lambda/(2*mu*b);    // Angle of the wedge, radian\n",
"printf('\nThe acute angle of the wedge shaped film = %6.4f degrees', theta*180/%pi);\n",
"// Result\n",
"// The acute angle of the wedge shaped film = 0.0130 degrees"
   ]
   }
,
{
		   "cell_type": "markdown",
		   "metadata": {},
		   "source": [
			"## Example 2.55: Diameter_of_nth_dark_ring_due_to_first_wavelength.sce"
		   ]
		  },
  {
"cell_type": "code",
	   "execution_count": null,
	   "metadata": {
	    "collapsed": true
	   },
	   "outputs": [],
"source": [
"// Scilab Code Ex2.55:: Page-2.46(2009)\n",
"clc; clear;\n",
"lambda1 = 6000e-008;    // First visible wavelength, cm\n",
"lambda2 = 4500e-008;    // Second visible wavelength, cm\n",
"R = 100;        // Radius of curvature of the lens, cm\n",
"// As diameter of nth dark ring due to lambda1 is\n",
"// D_n^2 = 4*n*R*lambda1 and D_nplus1^ = 4*(n+1)*R*lambda2, so that D_n^2 = D_nplus1^2 gives\n",
"n = lambda2/(lambda1-lambda2);      // Order of interference for dark fringes\n",
"D_n = sqrt(4*n*R*lambda1);      // Diameter of nth dark ring due to lambda1 \n",
"printf('\nThe diameter of nth dark ring due to wavelength of %4d angstrom = %4.2f cm', lambda1/1e-008, D_n);\n",
"// Result\n",
"// The diameter of nth dark ring due to wavelength of 6000 angstrom = 0.27 cm "
   ]
   }
,
{
		   "cell_type": "markdown",
		   "metadata": {},
		   "source": [
			"## Example 2.56: Diameter_of_fifteenth_dark_ring.sce"
		   ]
		  },
  {
"cell_type": "code",
	   "execution_count": null,
	   "metadata": {
	    "collapsed": true
	   },
	   "outputs": [],
"source": [
"// Scilab Code Ex2.56:: Page-2.46(2009)\n",
"clc; clear;\n",
"R = 1;      // For simplicity assume radius of curvature of the lens to be unity, cm\n",
"D_n = 0.251;     // Diameter of 3rd dark ring, cm\n",
"D_nplusp = 0.548;     // Diameter of 9th dark ring, cm\n",
"n = 3;      // Order of 3rd Newton ring\n",
"p = 9 - n;    // Order of 6th Newton ring from 3rd ring\n",
"// As D_nplusp^2 - D_n^2 = 4*p*R*lambda, solving for lambda\n",
"lambda = (D_nplusp^2 - D_n^2)/(4*p*R);      // Wavelength of light used\n",
"D_15 = sqrt(D_n^2+4*(15-n)*lambda*R);       // Diameter of 15th dark ring, cm\n",
"printf('\nThe diameter of 15th dark ring = %5.3f cm', D_15);\n",
"// Result\n",
"// The diameter of 15th dark ring = 0.733 cm "
   ]
   }
,
{
		   "cell_type": "markdown",
		   "metadata": {},
		   "source": [
			"## Example 2.57: Order_of_a_dark_ring_having_thrice_the_diameter_of_the_thirtieth_ring.sce"
		   ]
		  },
  {
"cell_type": "code",
	   "execution_count": null,
	   "metadata": {
	    "collapsed": true
	   },
	   "outputs": [],
"source": [
"// Scilab Code Ex2.57: : Page-2.47(2009)\n",
"clc; clear;\n",
"R = 1;      // For simplicity assume radius of curvature of the lens to be unity, cm\n",
"n = 30;      // Order of 3rd Newton ring\n",
"D_30 = 1;   // Assume diameter of thirtieth ring to be unity, cm\n",
"// As D_30^2 = 4*n*R*lambda, solving for lambda\n",
"lambda = D_30^2/(4*n*R);    // Wavelength of light used, cm\n",
"D_n = 3*D_30;       // Diameter of nth dark ring having thrice the diameter of the thirtieth ring, cm\n",
"n = D_n^2/(4*R*lambda);     // Order of a dark ring having thrice the diameter of the thirtieth ring\n",
"printf('\nThe order of the dark ring having thrice the diameter of the thirtieth ring = %3d', n);\n",
"// Result\n",
"// The order of the dark ring having thrice the diameter of the thirtieth ring = 270 "
   ]
   }
,
{
		   "cell_type": "markdown",
		   "metadata": {},
		   "source": [
			"## Example 2.58: Radius_of_curvature_of_lens_and_thickness_of_air_film.sce"
		   ]
		  },
  {
"cell_type": "code",
	   "execution_count": null,
	   "metadata": {
	    "collapsed": true
	   },
	   "outputs": [],
"source": [
"// Scilab Code Ex2.58:: Page-2.47(2009)\n",
"clc; clear;\n",
"n = 15;      // Order of 15rd Newton ring\n",
"D_15 = 0.75;   // Diameter of fifteenth dark ring, cm\n",
"lambda = 5890e-008;     // Wavelength of light used, cm\n",
"// As D_15^2 = 4*15*R*lambda, solving for R\n",
"R = D_15^2/(4*15*lambda);    // Radius of curvature of lens, cm\n",
"// For dark ring, 2*t = n*lambda, solving for t\n",
"t = n*lambda/2;     // Thickness of air film, cm\n",
"printf('\nThe radius of curvature of lens = %5.1f cm', R);\n",
"printf('\nThe thickness of air film = %3.1e cm', t);\n",
"// Result\n",
"// The radius of curvature of lens = 159.2 cm\n",
"// The thickness of air film = 4.4e-004 cm "
   ]
   }
,
{
		   "cell_type": "markdown",
		   "metadata": {},
		   "source": [
			"## Example 2.59: Refractive_index_of_the_liquid.sce"
		   ]
		  },
  {
"cell_type": "code",
	   "execution_count": null,
	   "metadata": {
	    "collapsed": true
	   },
	   "outputs": [],
"source": [
"// Scilab Code Ex2.59:: Page-2.47(2009)\n",
"clc; clear;\n",
"D_15 = 1.62;        // Diameter of 15th dark ring with air film, cm\n",
"D_15_prime = 1.47;        // Diameter of 15th dark ring with liquid, cm\n",
"R = 1;      // For simplicity assume radius of curvature to be unity, cm\n",
"n = 15;      // Order of 15rd Newton ring\n",
"// As for ring with air film, D_15^2 = 4*15*R*lambda, solving for lambda\n",
"lambda = D_15^2/(4*15*R);    // Wavelength of light used, cm\n",
"// As for ring with liquid, D_15_prime^2 = 4*15*R*lambda/mu, solving for mu\n",
"mu = 4*15*R*lambda/D_15_prime^2;        // Refractive index of the liquid\n",
"printf('\nThe refractive index of the liquid = %4.2f', mu)\n",
"// Result\n",
"// The refractive index of the liquid = 1.21 "
   ]
   }
,
{
		   "cell_type": "markdown",
		   "metadata": {},
		   "source": [
			"## Example 2.5: Separation_between_fourth_order_dark_fringes.sce"
		   ]
		  },
  {
"cell_type": "code",
	   "execution_count": null,
	   "metadata": {
	    "collapsed": true
	   },
	   "outputs": [],
"source": [
"// Scilab Code Ex2.5:: Page-2.10 (2009)\n",
"clc; clear;\n",
"lambda1 = 5890e-008;    // Wavelength of D1 line of sodium, cm\n",
"lambda2 = 5896e-008;    // Wavelength of D2 line of sodium, cm\n",
"D = 120;    // Distance between source and the screen, cm\n",
"d = 0.025;  // Separation between the slits, cm\n",
"n = 4;  // Order of dark fringe\n",
"x1 = (2*n+1)*lambda1*D/(2*d);   // Position of 4th dark fringe due to D1 line, cm\n",
"x2 = (2*n+1)*lambda2*D/(2*d);   // Position of 4th dark fringe due to D2 line, cm\n",
"delta_x = x2-x1;    // Fringe separation, cm\n",
"printf('\nThe separation between fourth order dark fringes = %4.2e cm', x2-x1);\n",
"// Result\n",
"// The separation between fourth order dark fringes = 1.30e-03 cm "
   ]
   }
,
{
		   "cell_type": "markdown",
		   "metadata": {},
		   "source": [
			"## Example 2.60: Wavelength_of_light_used_in_Newton_rings_experiment.sce"
		   ]
		  },
  {
"cell_type": "code",
	   "execution_count": null,
	   "metadata": {
	    "collapsed": true
	   },
	   "outputs": [],
"source": [
"// Scilab Code Ex2.60:: Page-2.48(2009)\n",
"clc; clear;\n",
"D_10 = 0.48;        // Diameter of 10th dark ring with air film, cm\n",
"D_3 = 0.291;        // Diameter of 3rd dark ring with air film, cm\n",
"p = 7;      // Order of the 10th ring next to the 3rd ring\n",
"R = 90;     // Radius of curvature of the lens, cm\n",
"lambda = (D_10^2-D_3^2)/(4*p*R);      // Wavelength of light used in Newton rings experiment\n",
"printf('\nThe wavelength of light used in Newton rings experiment = %4d angstrom', lambda/1e-008);\n",
"// Result\n",
"// The wavelength of light used in Newton rings experiment = 5782 angstrom "
   ]
   }
,
{
		   "cell_type": "markdown",
		   "metadata": {},
		   "source": [
			"## Example 2.61: Diameter_of_fifteenth_bright_ring.sce"
		   ]
		  },
  {
"cell_type": "code",
	   "execution_count": null,
	   "metadata": {
	    "collapsed": true
	   },
	   "outputs": [],
"source": [
"// Scilab Code Ex2.61:: Page-2.48(2009)\n",
"clc; clear;\n",
"R1 = 200;       // Radius of curvature of the convex surface, cm\n",
"R2 = 250;       // Radius of curvature of the concave surface, cm\n",
"lambda = 5500e-008; // Wavelength of light used, cm\n",
"n = 15;     // Order of interfernce Newton ring\n",
"// As r_n^2*(1/R1-1/R2) = (2*n-1)*lambda/2, solving for r_n\n",
"r_n = sqrt((2*n-1)*lambda/(2*(1/R1-1/R2)));     // Radius of nth ring, cm\n",
"D_15 = 2*r_n;       // Daimeter of 15th bright ring, cm\n",
"printf('\nThe daimeter of 15th bright ring = %4.2f cm', D_15);\n",
"// Result\n",
"// The daimeter of 15th bright ring = 1.79 cm "
   ]
   }
,
{
		   "cell_type": "markdown",
		   "metadata": {},
		   "source": [
			"## Example 2.62: Wavelength_of_light_used_in_Newton_rings_experiment.sce"
		   ]
		  },
  {
"cell_type": "code",
	   "execution_count": null,
	   "metadata": {
	    "collapsed": true
	   },
	   "outputs": [],
"source": [
"// Scilab Code Ex2.62:: Page-2.49(2009)\n",
"clc; clear;\n",
"R = 80;       // Radius of curvature of the convex surface, cm\n",
"D5 = 0.192;    // Diameter of 5th dark ring, cm\n",
"D25 = 0.555;    // Diameter of 25th dark ring, cm\n",
"n = 5;     // Order of interfernce Newton ring\n",
"P = 25 - n;\n",
"lambda = (D25^2 - D5^2)/(4*P*R);    // Wavelength of light used, cm\n",
"printf('\nThe wavelength of light used = %5.3e cm', lambda);\n",
"// Result\n",
"// The wavelength of light used = 4.237e-005 cm \n",
"// The expression for lambda is given wrong in the textbook but solved correctly"
   ]
   }
,
{
		   "cell_type": "markdown",
		   "metadata": {},
		   "source": [
			"## Example 2.63: Diameter_of_fifteenth_dark_Newton_ring.sce"
		   ]
		  },
  {
"cell_type": "code",
	   "execution_count": null,
	   "metadata": {
	    "collapsed": true
	   },
	   "outputs": [],
"source": [
"// Scilab Code Ex2.63:: Page-2.49(2009)\n",
"clc; clear;\n",
"R1 = 4;       // Radius of curvature of the convex surface, m\n",
"R2 = 5;       // Radius of curvature of the concave surface, m\n",
"lambda = 6600e-010; // Wavelength of light used, cm\n",
"n = 15;     // Order of Newton ring\n",
"// As D_n^2*(1/R1-1/R2) = 4*n*lambda, solving for D_n\n",
"D_15 = sqrt(4*n*lambda/(1/R1-1/R2));     // Diameter of 15th dark ring, cm\n",
"printf('\nThe diameter of %dth dark ring = %4.2e m', n, D_15);\n",
"// Result\n",
"// The diameter of 15th dark ring = 2.81e-002 m \n",
"// The answer is given wrong in the textbook (the square root is not solved)"
   ]
   }
,
{
		   "cell_type": "markdown",
		   "metadata": {},
		   "source": [
			"## Example 2.64: Diameter_of_fifteenth_dark_ring_due_to_first_wavelength.sce"
		   ]
		  },
  {
"cell_type": "code",
	   "execution_count": null,
	   "metadata": {
	    "collapsed": true
	   },
	   "outputs": [],
"source": [
"// Scilab Code Ex2.64:: Page-2.49(2009)\n",
"clc; clear;\n",
"lambda1 = 6000e-008;    // First visible wavelength, cm\n",
"lambda2 = 4500e-008;    // Second visible wavelength, cm\n",
"R = 120;        // Radius of curvature of the lens, cm\n",
"// As diameter of nth dark ring due to lambda1 is\n",
"// D_n^2 = 4*n*R*lambda1 and D_nplus1^ = 4*(n+1)*R*lambda2, so that D_n^2 = D_nplus1^2 gives\n",
"n = lambda2/(lambda1-lambda2);      // Order of interference for dark fringes\n",
"printf('\nThe value of n = %d', n);\n",
"n = 15;     // Order of interference fringe\n",
"D_n = sqrt(4*n*R*lambda1);      // Diameter of nth dark ring due to lambda1 \n",
"printf('\nThe diameter of 15th dark ring due to wavelength of %4d angstrom = %4.2f cm', lambda1/1e-008, D_n);\n",
"// Result\n",
"// The value of n = 3\n",
"// The diameter of 15th dark ring due to wavelength of 6000 angstrom = 0.66 cm "
   ]
   }
,
{
		   "cell_type": "markdown",
		   "metadata": {},
		   "source": [
			"## Example 2.65: Refractive_index_of_the_liquid_filled_into_container.sce"
		   ]
		  },
  {
"cell_type": "code",
	   "execution_count": null,
	   "metadata": {
	    "collapsed": true
	   },
	   "outputs": [],
"source": [
"// Scilab Code Ex2.65:: Page-2.49(2009)\n",
"clc; clear;\n",
"lambda = 5896e-008;    // Wavelength of light used, cm\n",
"R = 100;        // Radius of curvature of the lens, cm\n",
"D10 = 0.4;      // Diametre of 10th dark ring, cm\n",
"n = 10;     // Order of Newton ring\n",
"// As for a dark ring, 2*mu*t = n*lambda and 2*t = (D10/2)^2/R, solving for mu\n",
"mu = 4*n*lambda*R/D10^2;    // Refractive index of the liquid filled into container\n",
"printf('\nThe refractive index of the liquid filled into container = %4.2f', mu);\n",
"// Result\n",
"// The refractive index of the liquid filled into container = 1.47 "
   ]
   }
,
{
		   "cell_type": "markdown",
		   "metadata": {},
		   "source": [
			"## Example 2.67: Refractive_index_of_the_liquid.sce"
		   ]
		  },
  {
"cell_type": "code",
	   "execution_count": null,
	   "metadata": {
	    "collapsed": true
	   },
	   "outputs": [],
"source": [
"// Scilab Code Ex2.67:: Page-2.50(2009)\n",
"clc; clear;\n",
"Dn = 1.8;       // Diameter of 15th dark ring, cm\n",
"Dn_prime = 1.67;    // Diameter of 15th dark ring with liquid, cm\n",
"mu = (Dn/Dn_prime)^2;   // Refractive index of the liquid\n",
"printf('\nThe refractive index of the liquid = %4.2f', mu);\n",
"// Result\n",
"// The refractive index of the liquid = 1.16 "
   ]
   }
,
{
		   "cell_type": "markdown",
		   "metadata": {},
		   "source": [
			"## Example 2.68: Diameter_of_eighteenth_dark_ring.sce"
		   ]
		  },
  {
"cell_type": "code",
	   "execution_count": null,
	   "metadata": {
	    "collapsed": true
	   },
	   "outputs": [],
"source": [
"// Scilab Code Ex2.68:: Page-2.51(2009)\n",
"clc; clear;\n",
"R = 1;      // For simplicity assume radius of curvature to be unity, cm\n",
"D8 = 0.45;       // Diameter of 8th dark ring, cm\n",
"D15 = 0.81;     // Diameter of 15th dark ring, cm\n",
"n = 8;          // Order of 8th Newton ring\n",
"p = 7;          // Order of 7th Newton ring after 8th ring\n",
"lambda = (D15^2-D8^2)/(4*p*R);      // Wavelength of light used, cm\n",
"// As D18^2-D15^2 = 4*p*lambda*R\n",
"p = 3;      // For 18th and 15th rings\n",
"D18 = sqrt(D15^2+4*p*lambda*R);     // Diameter of 18th ring, cm\n",
"printf('\nThe diameter of 18th dark ring = %6.4f cm', D18);\n",
"// Result\n",
"// The diameter of 18th dark ring = 0.9222 cm "
   ]
   }
,
{
		   "cell_type": "markdown",
		   "metadata": {},
		   "source": [
			"## Example 2.69: EX2_69.sce"
		   ]
		  },
  {
"cell_type": "code",
	   "execution_count": null,
	   "metadata": {
	    "collapsed": true
	   },
	   "outputs": [],
"source": [
"// Scilab Code Ex2.69:: Page-2.51(2009)\n",
"clc; clear;\n",
"R = 100;      // Radius of curvature of plano-convex lens, cm\n",
"D15 = 0.590;     // Diameter of 15th dark ring, cm\n",
"D5 = 0.336;     // Diameter of 5th dark ring, cm\n",
"p = 10;          // Order of 10th Newton ring after 5th ring\n",
"lambda = (D15^2-D5^2)/(4*p*R);      // Wavelength of light used, cm\n",
"printf('\nThe wavelength of light used = %4.0f ansgtrom', lambda/1e-008);\n",
"// Result\n",
"// The wavelength of light used = 5880 ansgtrom "
   ]
   }
,
{
		   "cell_type": "markdown",
		   "metadata": {},
		   "source": [
			"## Example 2.6: Distance_between_two_coherent_sources.sce"
		   ]
		  },
  {
"cell_type": "code",
	   "execution_count": null,
	   "metadata": {
	    "collapsed": true
	   },
	   "outputs": [],
"source": [
"// Scilab Code Ex2.6:: Page-2.11 (2009)\n",
"clc; clear;\n",
"lambda = 5500e-008;    // Wavelength of light used, cm\n",
"Y1 = 10;    // Distance of biprism from the source, cm\n",
"Y2 = 90;    // Distance of biprism from the screen, cm\n",
"D = Y1 + Y2;    // Distance between slits and the screen, cm\n",
"b = 8.526e-02;  // Fringe width, cm\n",
"d = lambda*D/b;  // Separation between the slits, cm\n",
"printf('\nThe distance between two coherent sources = %4.2e cm', d);\n",
"// Result\n",
"// The distance between two coherent sources = 6.45e-02 cm "
   ]
   }
,
{
		   "cell_type": "markdown",
		   "metadata": {},
		   "source": [
			"## Example 2.70: Wavelength_of_monochromatic_light_used_in_Michelson_Interferometer.sce"
		   ]
		  },
  {
"cell_type": "code",
	   "execution_count": null,
	   "metadata": {
	    "collapsed": true
	   },
	   "outputs": [],
"source": [
"// Scilab Code Ex2.70:: Page-2.57(2009)\n",
"clc; clear;\n",
"N = 250;        // Number of fringes crossing the field of view\n",
"delta_x = 0.0595e-01;   // Displacement in movable mirror, cm\n",
"// As N*lambda/2 = delta_x, solving for lambda\n",
"lambda = 2*delta_x/N;      // Wavelength of light used, cm\n",
"printf('\nThe wavelength of monochromatic light used = %4.0f ansgtrom', lambda/1e-008);\n",
"// Result\n",
"// The wavelength of monochromatic light used = 4760 ansgtrom \n",
"// Answer is given wrong in the textbook"
   ]
   }
,
{
		   "cell_type": "markdown",
		   "metadata": {},
		   "source": [
			"## Example 2.71: Number_of_fringes_that_passes_across_the_cross_wire_of_telescope.sce"
		   ]
		  },
  {
"cell_type": "code",
	   "execution_count": null,
	   "metadata": {
	    "collapsed": true
	   },
	   "outputs": [],
"source": [
"// Scilab Code Ex2.71:: Page-2.58(2009)\n",
"clc; clear;\n",
"delta_x = 0.02559e-01;   // Displacement in movable mirror, cm\n",
"lambda = 5890e-008;      // Wavelength of light used, cm\n",
"// As N*lambda/2 = delta_x, solving for N\n",
"N = 2*delta_x/lambda;       // Number of fringes crossing the field of view\n",
"printf('\nThe number of fringes that passes across the cross wire of telescope = %2d', ceil(N));\n",
"// Result\n",
"// The number of fringes that passes across the cross wire of telescope = 87 "
   ]
   }
,
{
		   "cell_type": "markdown",
		   "metadata": {},
		   "source": [
			"## Example 2.72: Distance_between_two_successive_positions_of_movable_mirror.sce"
		   ]
		  },
  {
"cell_type": "code",
	   "execution_count": null,
	   "metadata": {
	    "collapsed": true
	   },
	   "outputs": [],
"source": [
"// Scilab Code Ex2.72:: Page-2.58(2009)\n",
"clc; clear;\n",
"lambda1 = 5890e-008;    // Wavelength corresponding to the D1 line, cm\n",
"lambda2 = 5896e-008;    // Wavelength corresponding to the D2 line, cm\n",
"delta_lambda = lambda2 - lambda1;   // Difference in the wavelengths, cm\n",
"// As delta_lambda = lambda1*lambda2/(2*x), solving for x\n",
"x = lambda1*lambda2/(2*(lambda2-lambda1));  // Distance between two successive positions of movable mirror\n",
"printf('\nThe distance between two successive positions of movable mirror = %3.1e cm', x);\n",
"// Result\n",
"// The distance between two successive positions of movable mirror = 2.9e-002  "
   ]
   }
,
{
		   "cell_type": "markdown",
		   "metadata": {},
		   "source": [
			"## Example 2.73: Thickness_of_the_transparent_glass_film.sce"
		   ]
		  },
  {
"cell_type": "code",
	   "execution_count": null,
	   "metadata": {
	    "collapsed": true
	   },
	   "outputs": [],
"source": [
"// Scilab Code Ex2.73:: Page-2.58(2009)\n",
"clc; clear;\n",
"N = 550;        // Number of fringes crossing the field of view\n",
"lambda = 5500e-008;    // Wavelength of light used, cm\n",
"mu = 1.5;       // Refractive index of the glass slab\n",
"// As 2*(mu-1)*t = N*lambda, solving for t\n",
"t = N*lambda/(2*(mu-1));       // Thickness of the transparent glass film\n",
"printf('\nThe distance between two successive positions of movable mirror = %3.1e cm', t);\n",
"// Result\n",
"// The distance between two successive positions of movable mirror = 3.0e-002 cm "
   ]
   }
,
{
		   "cell_type": "markdown",
		   "metadata": {},
		   "source": [
			"## Example 2.7: Fringe_width_of_the_interference_pattern_due_to_biprism.sce"
		   ]
		  },
  {
"cell_type": "code",
	   "execution_count": null,
	   "metadata": {
	    "collapsed": true
	   },
	   "outputs": [],
"source": [
"// Scilab Code Ex2.7:: Page-2.11 (2009)\n",
"clc; clear;\n",
"alpha = %pi/180;    // Acute angle of biprism, radian\n",
"mu = 1.5;   // Refractive index of biprism\n",
"lambda = 5500e-008;    // Wavelength of light used, cm\n",
"y1 = 5;    // Distance of biprism from the source, cm\n",
"y2 = 75;    // Distance of biprism from the screen, cm\n",
"D = y1 + y2;    // Distance between slits and the screen, cm\n",
"d = 2*(mu-1)*alpha*y1;  // Separation between the slits, cm\n",
"b = lambda*D/d;  // Fringe width of the interfernce pattern due to biprism, cm\n",
"printf('\nThe fringe width of the interfernce pattern due to biprism = %4.2e cm', b);\n",
"// Result\n",
"// The fringe width of the interfernce pattern due to biprism = 5.04e-02 cm "
   ]
   }
,
{
		   "cell_type": "markdown",
		   "metadata": {},
		   "source": [
			"## Example 2.8: Angle_of_vertex_of_the_biprism.sce"
		   ]
		  },
  {
"cell_type": "code",
	   "execution_count": null,
	   "metadata": {
	    "collapsed": true
	   },
	   "outputs": [],
"source": [
"// Scilab Code Ex2.8:: Page-2.11 (2009)\n",
"clc; clear;\n",
"mu = 1.5;   // Refractive index of biprism\n",
"lambda = 5500e-008;    // Wavelength of light used, cm\n",
"y1 = 5;    // Distance of biprism from the source, cm\n",
"y2 = 95;    // Distance of biprism from the screen, cm\n",
"D = y1 + y2;    // Distance between slits and the screen, cm\n",
"b = 0.025;  // Fringe width of the interfernce pattern due to biprism, cm\n",
"// As d = 2*(mu-1)*alpha*y1, solving for alpha\n",
"alpha = lambda*D/(b*2*(mu-1)*y1)    // Angle of vertex of the biprism, radian\n",
"printf('\nThe angle of vertex of the biprism = %3.1e rad', alpha);\n",
"// Result\n",
"// The angle of vertex of the biprism = 4.4e-02 rad "
   ]
   }
,
{
		   "cell_type": "markdown",
		   "metadata": {},
		   "source": [
			"## Example 2.9: Number_of_interference_fringes_for_changed_wavelength.sce"
		   ]
		  },
  {
"cell_type": "code",
	   "execution_count": null,
	   "metadata": {
	    "collapsed": true
	   },
	   "outputs": [],
"source": [
"// Scilab Code Ex2.9:: Page-2.12 (2009)\n",
"clc; clear;\n",
"n1 = 69;    // Number of interference fringes obtained with yellow wavelength\n",
"lambda1 = 5893e-008;    // Wavelength of yellow light used, cm\n",
"lambda2 = 5461e-008;    // Wavelength of green light used, cm\n",
"// As n*lambda = l*d/D = constant, therefore\n",
"n2 = n1*lambda1/lambda2;    // Number of interference fringes for green wavelength\n",
"printf('\nThe number of interference fringes for changed wavelength = %2d', ceil(n2));\n",
"// Result\n",
"// The number of interference fringes for changed wavelength = 75 "
   ]
   }
],
"metadata": {
		  "kernelspec": {
		   "display_name": "Scilab",
		   "language": "scilab",
		   "name": "scilab"
		  },
		  "language_info": {
		   "file_extension": ".sce",
		   "help_links": [
			{
			 "text": "MetaKernel Magics",
			 "url": "https://github.com/calysto/metakernel/blob/master/metakernel/magics/README.md"
			}
		   ],
		   "mimetype": "text/x-octave",
		   "name": "scilab",
		   "version": "0.7.1"
		  }
		 },
		 "nbformat": 4,
		 "nbformat_minor": 0
}
