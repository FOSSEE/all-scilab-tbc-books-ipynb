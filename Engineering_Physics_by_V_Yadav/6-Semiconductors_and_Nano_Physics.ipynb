{
"cells": [
 {
		   "cell_type": "markdown",
	   "metadata": {},
	   "source": [
       "# Chapter 6: Semiconductors and Nano Physics"
	   ]
	},
{
		   "cell_type": "markdown",
		   "metadata": {},
		   "source": [
			"## Example 6.1: Resistivity_of_intrinsic_semiconductor_at_300_K.sce"
		   ]
		  },
  {
"cell_type": "code",
	   "execution_count": null,
	   "metadata": {
	    "collapsed": true
	   },
	   "outputs": [],
"source": [
"// Scilab Code Ex6.1:: Page-6.19 (2009)\n",
"clc; clear;\n",
"T = 300;    // Temperature of pure semiconductor, K\n",
"n_i = 2.5e+019; // Intrinsic carrier density, per metre square\n",
"e = 1.6e-019;   // Charge on an electron, C\n",
"mu_e = 0.39;    // Mobility of electrons, Sq.m/V/s\n",
"mu_h = 0.19;    // Mobility of holes, Sq.m/V/s\n",
"sigma_i = e*n_i*(mu_e+mu_h);    // Conductivity of intrinsic semiconductor at 300 K, mho/m\n",
"rho_i = 1/sigma_i;  // Resistivity of intrinsic semiconductor at 300 K, ohm-m\n",
"\n",
"printf('\nThe resistivity of intrinsic semiconductor at 300 K = %4.2f ohm-m', rho_i);\n",
"\n",
"// Result \n",
"// The resistivity of intrinsic semiconductor at 300 K = 0.43 ohm-m "
   ]
   }
,
{
		   "cell_type": "markdown",
		   "metadata": {},
		   "source": [
			"## Example 6.2: Velocity_of_electron_at_Fermi_level.sce"
		   ]
		  },
  {
"cell_type": "code",
	   "execution_count": null,
	   "metadata": {
	    "collapsed": true
	   },
	   "outputs": [],
"source": [
"// Scilab Code Ex6.2: : Page-6.19 (2009)\n",
"clc; clear;\n",
"e = 1.6e-019;   // Energy equivalent of 1 eV, J/eV\n",
"E_F = 2.0*e;    // Fermi level of Po, J\n",
"m = 9.1e-031;   // Mass of an electron, kg\n",
"// As E_F = 1/2*m*v^2, solving for v\n",
"v = sqrt(2*E_F/m);    // Velocity of electron at Fermi level, m/s    \n",
"printf('\nThe Velocity of electron at Fermi level = %4.2e m/s', v);\n",
"\n",
"// Result \n",
"// The Velocity of electron at Fermi level = 8.39e+05 m/s "
   ]
   }
],
"metadata": {
		  "kernelspec": {
		   "display_name": "Scilab",
		   "language": "scilab",
		   "name": "scilab"
		  },
		  "language_info": {
		   "file_extension": ".sce",
		   "help_links": [
			{
			 "text": "MetaKernel Magics",
			 "url": "https://github.com/calysto/metakernel/blob/master/metakernel/magics/README.md"
			}
		   ],
		   "mimetype": "text/x-octave",
		   "name": "scilab",
		   "version": "0.7.1"
		  }
		 },
		 "nbformat": 4,
		 "nbformat_minor": 0
}
