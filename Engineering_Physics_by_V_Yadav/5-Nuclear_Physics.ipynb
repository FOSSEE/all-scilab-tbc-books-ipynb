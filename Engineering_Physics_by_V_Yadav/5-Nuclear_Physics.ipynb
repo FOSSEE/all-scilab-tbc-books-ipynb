{
"cells": [
 {
		   "cell_type": "markdown",
	   "metadata": {},
	   "source": [
       "# Chapter 5: Nuclear Physics"
	   ]
	},
{
		   "cell_type": "markdown",
		   "metadata": {},
		   "source": [
			"## Example 5.1: Mass_defect_of_He.sce"
		   ]
		  },
  {
"cell_type": "code",
	   "execution_count": null,
	   "metadata": {
	    "collapsed": true
	   },
	   "outputs": [],
"source": [
"// Scilab Code Ex5.1 :: Page-5.2 (2009)\n",
"clc;clear;\n",
"m_p = 1.007826;     // Mass of a proton, amu\n",
"m_n = 1.008665;     // Mass of a neutron, amu\n",
"M_He = 4.002604;    // Measured mass of He nucleuc, amu\n",
"delta_m = 2*m_p+2*m_n - M_He;   // Mass defect of He, amu\n",
"printf('\nThe mass defect of He = %f amu', delta_m);\n",
"\n",
"// Result\n",
"//  The mass defect of He = 0.030378 amu "
   ]
   }
,
{
		   "cell_type": "markdown",
		   "metadata": {},
		   "source": [
			"## Example 5.3: Maximum_energy_of_proton_in_a_cyclotron.sce"
		   ]
		  },
  {
"cell_type": "code",
	   "execution_count": null,
	   "metadata": {
	    "collapsed": true
	   },
	   "outputs": [],
"source": [
"// Scilab Code Ex5.3 :: Page-5.16 (2009)\n",
"clc;clear;\n",
"B = 0.70;       // Magnetic field of cyclotron, weber/metre square\n",
"q = 1.6e-019;   // Charge of the proton, C\n",
"R = 3;      // Radius of Dee's, m\n",
"m = 1.67e-027;   // Mass of the proton, kg\n",
"E_max = B^2*q^2*R^2/(2*m);  // Maximum energy of the proton in the cyclotron, joule\n",
"printf('\nThe maximum energy of the proton in the cyclotron = %4.2e MeV', E_max/1.6e-013);\n",
"\n",
"// Result\n",
"// The maximum energy of the proton in the cyclotron = 2.11e+02 MeV \n",
"// The unit has been given wrong in the textbook. It should be MeV instead of eV"
   ]
   }
,
{
		   "cell_type": "markdown",
		   "metadata": {},
		   "source": [
			"## Example 5.4: Energy_of_an_electron_in_a_betatron.sce"
		   ]
		  },
  {
"cell_type": "code",
	   "execution_count": null,
	   "metadata": {
	    "collapsed": true
	   },
	   "outputs": [],
"source": [
"// Scilab Code Ex5.4 :: Page-5.20 (2009)\n",
"clc;clear;\n",
"f = 1e+06;      // Frequency of revolution of electron, Hz\n",
"rate_phi_B = 25;    // Rate of change of magnetic flux, wb/s\n",
"E = f*rate_phi_B;   // Energy of 'f' revolutios, eV\n",
"printf('\nThe energy of the electron in Betatron after %g revolutions = %3.1e eV', f, E);\n",
"\n",
"// Result\n",
"// The energy of the electron in Betatron after 1e+06 revolutions = 2.5e+07 eV "
   ]
   }
,
{
		   "cell_type": "markdown",
		   "metadata": {},
		   "source": [
			"## Example 5.5: Final_energy_gained_by_electrons_in_a_betatron.sce"
		   ]
		  },
  {
"cell_type": "code",
	   "execution_count": null,
	   "metadata": {
	    "collapsed": true
	   },
	   "outputs": [],
"source": [
"// Scilab Code Ex5.5 :: Page-5.20 (2009)\n",
"clc;clear;\n",
"e = 1.6e-019;  // Charge on an electron, C\n",
"D = 2.0;    // Diameter of the stable orbit in betatron, m\n",
"R = D/2;    // Radius of the stable orbit in betatron, m\n",
"B = 0.5;    // Magnetic field of betatron, wb/metre square\n",
"c = 3e+08;  // final speed of electron in betatron, m/s\n",
"E = B*e*R*c;    // Final energy gained by electrons in a betatron, eV\n",
"printf('\nThe final energy gained by electrons in the betatron = %3.1e eV', E/e);\n",
"\n",
"// Result\n",
"// The final energy gained by electrons in the betatron = 1.5e+08 eV "
   ]
   }
,
{
		   "cell_type": "markdown",
		   "metadata": {},
		   "source": [
			"## Example 5.6: Energy_produced_in_fission_of_U235.sce"
		   ]
		  },
  {
"cell_type": "code",
	   "execution_count": null,
	   "metadata": {
	    "collapsed": true
	   },
	   "outputs": [],
"source": [
"// Scilab Code Ex5.6 :: Page-5.27 (2009)\n",
"clc;clear;\n",
"e = 1.6e-019;   // Energy equivalent of 1 eV, J/eV\n",
"A = 235;    // Atomic weight of uranium, gm/mol\n",
"N_A = 6.023e+026;   // No. of atoms present in 235 kg of uranium\n",
"N = N_A/(A*1000); // No. of nuceli of uranium per gram\n",
"E = N*200;  // Energy produced by 1 g of U-235, MeV\n",
"printf('\nThe energy produced by 1 g of U-235 = %3.1e joule', E*e*1e+06);\n",
"\n",
"// Result\n",
"// The energy produced by 1 g of U-235 = 8.2e+10 joule "
   ]
   }
,
{
		   "cell_type": "markdown",
		   "metadata": {},
		   "source": [
			"## Example 5.7: Power_output_of_nuclear_reactor.sce"
		   ]
		  },
  {
"cell_type": "code",
	   "execution_count": null,
	   "metadata": {
	    "collapsed": true
	   },
	   "outputs": [],
"source": [
"// Scilab Code Ex5.7 :: Page-5.32 (2009)\n",
"clc;clear;\n",
"A = 235;    // Atomic weight of uranium, gm/mol\n",
"N_A = 6.023e+026;   // No. of atoms present in 235 kg of uranium-235\n",
"N = N_A*5/A; // No. of nuceli of uranium in 5 kg of U-235\n",
"E = N*200;  // Energy released in the fission of 5 kg of U-235, MeV\n",
"t = 24*3600;    // Time taken to consume 5 kg of U-235, sec\n",
"P = E/t;    // Total power output of the nuclear reactor, MeV per second\n",
"printf('\nThe total power output of the nuclear reactor = %4.2e MeV per second', P);\n",
"\n",
"// Result\n",
"// The total power output of the nuclear reactor = 2.97e+22 MeV per second "
   ]
   }
,
{
		   "cell_type": "markdown",
		   "metadata": {},
		   "source": [
			"## Example 5.8: Average_current_in_the_GM_counter_circuit.sce"
		   ]
		  },
  {
"cell_type": "code",
	   "execution_count": null,
	   "metadata": {
	    "collapsed": true
	   },
	   "outputs": [],
"source": [
"// Scilab Code Ex5.8 :: Page-5.34 (2009)\n",
"clc;clear;\n",
"e = 1.6e-019;   // Electronic charge, C\n",
"f = 450;    // Count rate of GM counter, counts/min\n",
"N = f*1e+08;    // Total number of electrons collected per min\n",
"Q = N*e;    // Charge collected per min, C\n",
"I = Q/60;   // Averge current in the GM counter, A\n",
"printf('\nThe averge current in the GM counter= %3.1e A', I);\n",
"\n",
"// Result\n",
"// The averge current in the GM counter= 1.2e-10 A "
   ]
   }
,
{
		   "cell_type": "markdown",
		   "metadata": {},
		   "source": [
			"## Example 5.9: Energy_needed_to_remove_a_neutron_from_Ca_nucleus.sce"
		   ]
		  },
  {
"cell_type": "code",
	   "execution_count": null,
	   "metadata": {
	    "collapsed": true
	   },
	   "outputs": [],
"source": [
"// Scilab Code Ex5.9 :: Page-5.39 (2009)\n",
"clc;clear;\n",
"m_Ca_41 = 40.962278;   // Mass of one Ca-41 nuclei, amu\n",
"m_Ca_42 = 41.958618;   // Mass of one Ca-41 nuclei, amu\n",
"m_n = 1.008665;     // Mass of a neutron, amu\n",
"delta_m = m_Ca_42 - (m_Ca_41 + m_n);    // Difference in the mass of Ca-42 and Ca_41 nuclei, amu\n",
"E = delta_m*(931.49);   // Binding energy of the missing neutron, MeV\n",
"printf('\nThe energy needed to remove a neutron from Ca-42 nucleus = %5.2f MeV', abs(E));\n",
"\n",
"// Result\n",
"// The energy needed to remove a neutron from Ca-42 nucleus = 11.48 MeV "
   ]
   }
],
"metadata": {
		  "kernelspec": {
		   "display_name": "Scilab",
		   "language": "scilab",
		   "name": "scilab"
		  },
		  "language_info": {
		   "file_extension": ".sce",
		   "help_links": [
			{
			 "text": "MetaKernel Magics",
			 "url": "https://github.com/calysto/metakernel/blob/master/metakernel/magics/README.md"
			}
		   ],
		   "mimetype": "text/x-octave",
		   "name": "scilab",
		   "version": "0.7.1"
		  }
		 },
		 "nbformat": 4,
		 "nbformat_minor": 0
}
