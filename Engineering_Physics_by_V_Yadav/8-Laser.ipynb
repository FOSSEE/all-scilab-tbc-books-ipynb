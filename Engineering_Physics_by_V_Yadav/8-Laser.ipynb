{
"cells": [
 {
		   "cell_type": "markdown",
	   "metadata": {},
	   "source": [
       "# Chapter 8: Laser"
	   ]
	},
{
		   "cell_type": "markdown",
		   "metadata": {},
		   "source": [
			"## Example 8.1: EX8_1.sce"
		   ]
		  },
  {
"cell_type": "code",
	   "execution_count": null,
	   "metadata": {
	    "collapsed": true
	   },
	   "outputs": [],
"source": [
"// Scilab Code Ex8.1:: Page-8.8 (2009)\n",
"clc; clear;\n",
"lambda = 31235;   // Wavelength of prominent emission of laser, aangstrom\n",
"E = 12400/lambda;   // Energy difference between the two levels, eV\n",
"\n",
"printf('\nThe difference between upper and lower energy levels for the most prominent wavelength  = %5.3f eV', E);\n",
"\n",
"// Result \n",
"// The difference between upper and lower energy levels for the most prominent wavelength  = 0.397 eV "
   ]
   }
,
{
		   "cell_type": "markdown",
		   "metadata": {},
		   "source": [
			"## Example 8.2: Frequency_and_wavelength_of_carbon_dioxide_laser.sce"
		   ]
		  },
  {
"cell_type": "code",
	   "execution_count": null,
	   "metadata": {
	    "collapsed": true
	   },
	   "outputs": [],
"source": [
"// Scilab Code Ex8.2:: Page-8.8 (2009)\n",
"clc; clear;\n",
"E = 0.121;   // Energy difference between the two levels, eV\n",
"lambda = 12400/E;   // Wavelength of the radiation, angstrom\n",
"f = 3e+08/(lambda*1e-010);  // Frequency of the radiation, Hz\n",
"\n",
"printf('\nThe wavelength of the radiation = %8.1f angstrom', lambda);\n",
"printf('\nThe frequency of the radiation = %4.2e Hz', f);\n",
"\n",
"// Result \n",
"// The wavelength of the radiation = 102479.3 angstrom\n",
"// The frequency of the radiation = 2.93e+13 Hz "
   ]
   }
,
{
		   "cell_type": "markdown",
		   "metadata": {},
		   "source": [
			"## Example 8.3: Energy_of_one_emitted_photon_and_total_energy_available_per_laser_pulse.sce"
		   ]
		  },
  {
"cell_type": "code",
	   "execution_count": null,
	   "metadata": {
	    "collapsed": true
	   },
	   "outputs": [],
"source": [
"// Scilab Code Ex8.3:: Page-8.8 (2009)\n",
"clc; clear;\n",
"lambda = 7000;  // Wavelength of the Ruby laser, angstrom\n",
"e = 1.6e-019;   // Energy equivalent of 1 eV, J/eV\n",
"N = 2.8e+019;   // Total number of photons\n",
"E = 12400/lambda;   // Energy of one emitted photon, eV\n",
"E_p = E*e*N;    // Total energy available per laser pulse, joule\n",
"\n",
"printf('\nThe energy of one emitted photon = %4.2e J', E*e);\n",
"printf('\nThe total energy available per laser pulse = %4.2f joule', E_p);\n",
"\n",
"// Result \n",
"// The energy of one emitted photon = 2.83e-19 J\n",
"// The total energy available per laser pulse = 7.94 joule "
   ]
   }
,
{
		   "cell_type": "markdown",
		   "metadata": {},
		   "source": [
			"## Example 8.4: Relative_population_of_levels_in_Ruby_laser.sce"
		   ]
		  },
  {
"cell_type": "code",
	   "execution_count": null,
	   "metadata": {
	    "collapsed": true
	   },
	   "outputs": [],
"source": [
"// Scilab Code Ex8.4:: Page-8.9 (2009)\n",
"clc; clear;\n",
"lambda = 7000;  // Wavelength of the emitted light, angstrom\n",
"k = 8.6e-005;   // Boltzmann constant, eV/K\n",
"dE = 12400/lambda;  // Energy difference of the levels, eV\n",
"T = [300 500];   // Temperatures of first and second states, K\n",
"for i = 1:1:2\n",
"    N2_ratio_N1 = exp(-(dE/(k*T(i))));  // Relative population\n",
"    printf('\nThe relative population at %d K = %3.1e', T(i), N2_ratio_N1);\n",
"end\n",
"\n",
"// Result \n",
"// The relative population at 300 K = 1.5e-30\n",
"// The relative population at 500 K = 1.3e-18 \n",
"// The answer is given wrong in the textbook for first part."
   ]
   }
,
{
		   "cell_type": "markdown",
		   "metadata": {},
		   "source": [
			"## Example 8.5: Population_of_two_states_in_He_Ne_laser.sce"
		   ]
		  },
  {
"cell_type": "code",
	   "execution_count": null,
	   "metadata": {
	    "collapsed": true
	   },
	   "outputs": [],
"source": [
"// Scilab Code Ex8.5:: Page-8.9 (2009)\n",
"clc; clear;\n",
"lambda = 7000;  // Wavelength of the emitted light, angstrom\n",
"k = 8.6e-005;   // Boltzmann constant, eV/K\n",
"dE = 12400/lambda;  // Energy difference of the levels, eV\n",
"T = 27+273;   // Temperatures of the state, K\n",
"N2_ratio_N1 = exp(-(dE/(k*T)));  // Relative population\n",
"printf('\nThe relative population of two states in He-Ne laser at %d K = %3.1e', T, N2_ratio_N1);\n",
"\n",
"\n",
"// Result \n",
"// The relative population of two states in He-Ne laser at 300 K = 1.5e-30 \n",
"// The answer is given wrong in the textbook"
   ]
   }
],
"metadata": {
		  "kernelspec": {
		   "display_name": "Scilab",
		   "language": "scilab",
		   "name": "scilab"
		  },
		  "language_info": {
		   "file_extension": ".sce",
		   "help_links": [
			{
			 "text": "MetaKernel Magics",
			 "url": "https://github.com/calysto/metakernel/blob/master/metakernel/magics/README.md"
			}
		   ],
		   "mimetype": "text/x-octave",
		   "name": "scilab",
		   "version": "0.7.1"
		  }
		 },
		 "nbformat": 4,
		 "nbformat_minor": 0
}
