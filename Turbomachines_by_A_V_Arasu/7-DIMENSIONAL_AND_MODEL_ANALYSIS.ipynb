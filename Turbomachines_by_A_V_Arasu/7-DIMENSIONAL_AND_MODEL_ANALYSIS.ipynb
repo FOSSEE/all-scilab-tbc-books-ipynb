{
"cells": [
 {
		   "cell_type": "markdown",
	   "metadata": {},
	   "source": [
       "# Chapter 7: DIMENSIONAL AND MODEL ANALYSIS"
	   ]
	},
{
		   "cell_type": "markdown",
		   "metadata": {},
		   "source": [
			"## Example 7.10: SPEED_DISCHARGE_AND_POWER.sce"
		   ]
		  },
  {
"cell_type": "code",
	   "execution_count": null,
	   "metadata": {
	    "collapsed": true
	   },
	   "outputs": [],
"source": [
"clc\n",
"clear\n",
"//input data\n",
"DmDp=1/10//The model ratio to prototype\n",
"Hm=5//The head developed by the model in m\n",
"Hp=8.5//The head developed by the prototype in m\n",
"Pp=8000*10^3//The power developed by the prototype in W\n",
"Np=120//The speed of running of the prototype in rpm\n",
"d=1000//density of the water in kg/m^3\n",
"g=9.81//Acceleration due to gravity in m/s^2\n",
"n0=0.85//Overall efficiency of the prototype\n",
"\n",
"//calculations\n",
"Nm=((Hm/Hp)^(1/2))*(1/DmDp)*(Np)//Speed of the mpdel in rpm\n",
"Qp=Pp/(d*g*n0*Hp)//Discharge from the prototype in m^3/s\n",
"Qm=((DmDp)^(3))*(Nm/Np)*(Qp)//Discharge from the model in m^3/s\n",
"Pm=((DmDp)^(5))*((Nm/Np)^(3))*(Pp)*10^-3//Power of the model in kW\n",
"\n",
"//output\n",
"printf('(a)Speed of the model is %3.1f rpm\n(b)Discharge from the model is %3.3f m^3/s\n(c)Power of the model is %3.1f kW',Nm,Qm,Pm)"
   ]
   }
,
{
		   "cell_type": "markdown",
		   "metadata": {},
		   "source": [
			"## Example 7.11: SPEED_AND_POWER_DEVELOPED.sce"
		   ]
		  },
  {
"cell_type": "code",
	   "execution_count": null,
	   "metadata": {
	    "collapsed": true
	   },
	   "outputs": [],
"source": [
"clc\n",
"clear\n",
"//input data\n",
"P1=6600//Initial power developed by the turbine in kW\n",
"N1=100//Initial speed of the turbine in rpm\n",
"H1=30//Initial head of the turbine in m\n",
"H2=18//Final head of the turbine in m\n",
"\n",
"//calculations\n",
"N2=N1*((H2/H1)^(1/2))//The final speed of the turbine in rpm\n",
"P2=P1*((H2/H1)^(3/2))//The final power developed by the turbine in kW\n",
"\n",
"//output\n",
"printf('(1)The final speed of the turbine is %3.2f rpm\n(2)The final power developed by the turbine is %3i kW',N2,P2)"
   ]
   }
,
{
		   "cell_type": "markdown",
		   "metadata": {},
		   "source": [
			"## Example 7.12: PERFORMANCE_OF_TURBINE.sce"
		   ]
		  },
  {
"cell_type": "code",
	   "execution_count": null,
	   "metadata": {
	    "collapsed": true
	   },
	   "outputs": [],
"source": [
"clc\n",
"clear\n",
"//input data\n",
"H1=25//The initial head on the turbine in m\n",
"N1=200//The initial speed of the turbine in rpm \n",
"Q1=9//The initial discharge of the turbine in m^3/s\n",
"n0=0.9//Overall efficiency of the turbine \n",
"H2=20//The final head on the turbine in m\n",
"d=1000//density of the water in kg/m^3\n",
"g=9.81//Acceleration due to gravity in m/s^2\n",
"\n",
"//calculations\n",
"N2=N1*((H2/H1)^(1/2))//The final speed of the turbine in rpm\n",
"Q2=Q1*((H2/H1)^(1/2))//The final discharge of the  turbine in m^3/s\n",
"P1=n0*d*g*Q1*H1*10^-3//Power produced by the turbine initially in kW\n",
"P2=P1*((H2/H1)^(3/2))//Power produced by the turbine finally in kW\n",
"\n",
"//output\n",
"printf('(a)The final speed of the turbine is %3.2f rpm\n(b)The final discharge of the  turbine is %3.2f m^3/s\n(c)Power produced by the turbine initially is %3.3f kW\n(d)Power produced by the turbine finally is %3.2f kW',N2,Q2,P1,P2)"
   ]
   }
,
{
		   "cell_type": "markdown",
		   "metadata": {},
		   "source": [
			"## Example 7.13: SPECIFIC_SPEED.sce"
		   ]
		  },
  {
"cell_type": "code",
	   "execution_count": null,
	   "metadata": {
	    "collapsed": true
	   },
	   "outputs": [],
"source": [
"clc\n",
"clear\n",
"//input data\n",
"P1=5000*10^3//The initial power produced in W\n",
"H1=250//The initial head produced in m\n",
"N1=210//The initial speed of turbine in rpm\n",
"n0=0.85//Overall efficiency of the turbine \n",
"H2=160//The final head produced in m\n",
"d=1000//density of the water in kg/m^3\n",
"g=9.81//Acceleration due to gravity in m/s^2\n",
"\n",
"\n",
"//calculations\n",
"Nu=N1/((H1)^(1/2))//The unit speed of the turbine \n",
"Pu=P1/((H1)^(3/2))*10^-3//The unit power of the turbine \n",
"Q1=P1/(d*g*n0*H1)//The initial discharge of the turbine in m^3/s\n",
"Qu=Q1/((H1)^(1/2))//The unit discharge of the turbine \n",
"Q2=Qu*((H2)^(1/2))//The final discharge of the turbine in  m^3/s\n",
"N2=Nu*((H2)^(1/2))//The final speed of the turbine in rpm\n",
"P2=Pu*((H2)^(3/2))//The final power of the turbine in kW\n",
"Ns=(N2*((P2)^(1/2)))/((H2)^(5/4))//The specific speed of the turbine\n",
"\n",
"//output\n",
"printf('(a)The unit speed of the turbine is %3.2f\n(b)The unit power of the turbine is %3.3f\n(c)The unit discharge of the turbine is %3.3f\n(d)The final discharge of the turbine is %3.2f m^3/s\n(e)The final speed of the turbine is %3.2f rpm\n(f)The final power of the turbine is %3.1f kW\n(g)The specific speed of the turbine is %3.2f',Nu,Pu,Qu,Q2,N2,P2,Ns)"
   ]
   }
,
{
		   "cell_type": "markdown",
		   "metadata": {},
		   "source": [
			"## Example 7.5: SPEED_OF_PROTOTYPE.sce"
		   ]
		  },
  {
"cell_type": "code",
	   "execution_count": null,
	   "metadata": {
	    "collapsed": true
	   },
	   "outputs": [],
"source": [
"clc\n",
"clear\n",
"//input data\n",
"Nm=1000//Speed of the model in rpm\n",
"Hm=8//Head of the model in m\n",
"Pm=30//Power of the model in kW\n",
"Hp=25//Head of the prototype in m\n",
"DmDp=1/5//The scale of the model to original\n",
"\n",
"//calculations\n",
"Np=((Hp/Hm)^(1/2))*(DmDp)*(Nm)//Speed of the prototype in rpm\n",
"Pp=(Pm)*((1/DmDp)^(5))*(Np/Nm)^(3)//Power developed by the prototype in kW\n",
"QpQm=((1/DmDp)^(3))*(Np/Nm)//Ratio of the flow rates of two pump(model and prototype)\n",
"\n",
"//output\n",
"printf('(1)Speed of prototype pump is %3.1f rpm\n(2)Power developed by the prototype pump is %3i kW\n(3)Ratio of the flow rates of two pumps is %3.4f',Np,Pp,QpQm)"
   ]
   }
,
{
		   "cell_type": "markdown",
		   "metadata": {},
		   "source": [
			"## Example 7.6: HEAD_SPEED_AND_SCALE_RATIO.sce"
		   ]
		  },
  {
"cell_type": "code",
	   "execution_count": null,
	   "metadata": {
	    "collapsed": true
	   },
	   "outputs": [],
"source": [
"clc\n",
"clear\n",
"//input data\n",
"Hp=85//Head of the prototype in m\n",
"Qp=(20000/3600)//Flow rate of the prototype in m^3/s\n",
"Np=1490//Speed of the prototype in rpm\n",
"Dp=1.2//Diameter of the prototype in m\n",
"dp=714//Density of the prototype fluid in kg/m^3\n",
"Pp=4//Power of the prototype in MW\n",
"Pm=500*10^-3//Power of the model in MW\n",
"Qm=0.5//Flow rate of the prototype in m^3/s\n",
"dm=1000//Density of the model fluid (water) in kg/m^3\n",
"\n",
"//calculations\n",
"NpNm=(Qp/Qm)//Ratio of the speeds of the prototype and the model in terms of (Dm/Dp)^(3)\n",
"DmDp=1/(((NpNm)^(3))*(dp/dm)*(Pm/Pp))^(1/4)//The ratio of the diameters of model and the prototype or the scale ratio \n",
"NmNp=1/(NpNm*((DmDp)^(3)))//The speed ratio or the ratio of speeds of the model and the prototype\n",
"HmHp=((1/NmNp)^(2))*((1/DmDp)^(2))//The head ratio or the ratio of heads of the model and the prototype \n",
"\n",
"//output\n",
"printf('(1)The head ratio of the model is %3.1f\n(2)The speed ratio of the model is %3.1f\n(3)The scale ratio of the model is %3.1f',HmHp,NmNp,DmDp)"
   ]
   }
,
{
		   "cell_type": "markdown",
		   "metadata": {},
		   "source": [
			"## Example 7.7: SPEED_AND_DISCHARGE_OF_THE_MODEL.sce"
		   ]
		  },
  {
"cell_type": "code",
	   "execution_count": null,
	   "metadata": {
	    "collapsed": true
	   },
	   "outputs": [],
"source": [
"clc\n",
"clear\n",
"//input data\n",
"Np=400//The speed of the prototype in rpm\n",
"Qp=1.7//The discharge of the prototype in m^3/s\n",
"Hp=36.5//The head of the prototype in m\n",
"Pp=720//The power input of the prototype in kW\n",
"Hm=9//The head of the model in m\n",
"DmDp=1/6//The scale of model to prototype \n",
"\n",
"//calculations\n",
"Nm=((Hm/Hp)^(1/2))*(1/DmDp)*Np//Speed of the model in rpm\n",
"Qm=((DmDp)^(3))*(Nm/Np)*(Qp)//Discharge of the model in m^3/s\n",
"Pm=((DmDp)^(5))*((Nm/Np)^(3))*Pp//Power required by the model in kW\n",
"\n",
"//output\n",
"printf('(a)Speed of the model is %3.2f rpm\n(b)Discharge of the model is %3.4f m^3/s\n(c)Power required by the model is %3.2f kW',Nm,Qm,Pm)"
   ]
   }
,
{
		   "cell_type": "markdown",
		   "metadata": {},
		   "source": [
			"## Example 7.8: IMPELLER_DIAMETER_OF_PUMP2.sce"
		   ]
		  },
  {
"cell_type": "code",
	   "execution_count": null,
	   "metadata": {
	    "collapsed": true
	   },
	   "outputs": [],
"source": [
"clc\n",
"clear\n",
"//input data\n",
"N1=1000//The running speed of the pump-1 in rpm\n",
"D1=0.3//The impeller diameter of pump-1 in m\n",
"Q1=0.02//The discharge of pump-1 in m^3/s\n",
"H1=15//The head developed by the pump-1 in m\n",
"N2=1000//The running speed of the pump-2 in rpm\n",
"Q2=0.01//The discharge of pump-2 in m^3/s\n",
"\n",
"//calculations\n",
"D2=(((Q2/Q1)*(N1/N2))^(1/3))*(D1)//Impeller diameter of the pump-2 in m\n",
"H2=(((D2/D1)*(N2/N1))^(2))*(H1)//Head developed by the pump-2 in m\n",
"\n",
"//output\n",
"printf('(a)Impeller diameter of the pump-2 is %3.3f m\n(b)Head developed by the pump-2 is %3.2f m',D2,H2)"
   ]
   }
,
{
		   "cell_type": "markdown",
		   "metadata": {},
		   "source": [
			"## Example 7.9: SPECIFIC_SPEEDS.sce"
		   ]
		  },
  {
"cell_type": "code",
	   "execution_count": null,
	   "metadata": {
	    "collapsed": true
	   },
	   "outputs": [],
"source": [
"clc\n",
"clear\n",
"//input data\n",
"DmDp=1/10//The model ratio to prototype \n",
"Pm=1.84//Power developed by the model in kW\n",
"Hm=5//Head developed by the model in m\n",
"Nm=480//Speed of the model in rpm\n",
"Hp=40//Head developed by the prototype in m\n",
"\n",
"//calculations\n",
"Np=((Hp/Hm)^(1/2))*(DmDp)*(Nm)//Speed of the prototype in rpm\n",
"Pp=((1/DmDp)^(5))*((Np/Nm)^(3))*Pm//Power developed by the prototype in kW\n",
"Nsp=((Np*((Pp)^(1/2)))/((Hp)^(5/4)))//Specific speed of the prototype\n",
"Nsm=((Nm*((Pm)^(1/2)))/((Hm)^(5/4)))//Specific speed of the prototype\n",
"\n",
"//output\n",
"printf('(a)Power developed by the prototype is %3i kW\n(b)Speed of the prototype is %3.2f rpm\n(c)Specific speed of the prototype is %3.1f\n(d)Specific speed of the model is %3.1f\n Thus the specific speed of the model is equal to the prototype and thus it is verified',Pp,Np,Nsp,Nsm)"
   ]
   }
],
"metadata": {
		  "kernelspec": {
		   "display_name": "Scilab",
		   "language": "scilab",
		   "name": "scilab"
		  },
		  "language_info": {
		   "file_extension": ".sce",
		   "help_links": [
			{
			 "text": "MetaKernel Magics",
			 "url": "https://github.com/calysto/metakernel/blob/master/metakernel/magics/README.md"
			}
		   ],
		   "mimetype": "text/x-octave",
		   "name": "scilab",
		   "version": "0.7.1"
		  }
		 },
		 "nbformat": 4,
		 "nbformat_minor": 0
}
