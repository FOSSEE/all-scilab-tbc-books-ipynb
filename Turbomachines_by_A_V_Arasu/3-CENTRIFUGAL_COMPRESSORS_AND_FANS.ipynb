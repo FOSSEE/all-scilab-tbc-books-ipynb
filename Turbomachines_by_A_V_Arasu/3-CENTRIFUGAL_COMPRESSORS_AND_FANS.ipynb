{
"cells": [
 {
		   "cell_type": "markdown",
	   "metadata": {},
	   "source": [
       "# Chapter 3: CENTRIFUGAL COMPRESSORS AND FANS"
	   ]
	},
{
		   "cell_type": "markdown",
		   "metadata": {},
		   "source": [
			"## Example 3.10: FAN_EFFICIENCY.sce"
		   ]
		  },
  {
"cell_type": "code",
	   "execution_count": null,
	   "metadata": {
	    "collapsed": true
	   },
	   "outputs": [],
"source": [
"clc\n",
"clear\n",
"//input data\n",
"H=0.075//Pressure developed by a fan in m W.G\n",
"D2=0.89//The impeller diameter in m\n",
"N=720//The running speed of the fan in rpm\n",
"b22=39//The blade air angle at the tip in degree\n",
"b2=0.1//The width of the impeller in m\n",
"Cr=9.15//The constant radial velocity in m/s\n",
"d=1.2//Density of air in kg/m^3\n",
"r=1.4//The ratio of specific heats of air\n",
"R=287//The universal gas constant in J/kg.K\n",
"Cp=1005//The specific heat of air at constant pressure in J/kg.K\n",
"g=9.81//Acceleration due to gravity in m/s^2\n",
"dw=1000//Density of water in kg/m^3\n",
"\n",
"//calculations\n",
"IW=(dw*g*H)/d//Ideal work done in J/kg\n",
"U2=(3.1415*D2*N)/60//The impeller tip speed in m/s\n",
"Wx2=Cr/tand(b22)//Relative whirl component of velocity at outlet in m/s\n",
"Cx2=U2-(Wx2)//Outlet absolute velocity of air in tangential direction in m/s\n",
"Wm=U2*Cx2//Actual work done per unit mass flow rate in J/kg\n",
"nf=IW/Wm//Fan efficiency\n",
"Q=3.1415*D2*b2*Cr//The discharge of the air by fan in m^3/s\n",
"m=d*Q//Mass flow rate of the air by the fan in kg/s\n",
"W=m*Wm*10^-3//Power required to drive the fan in kW\n",
"R=1-(Cx2/(2*U2))//Stage reaction of the fan\n",
"sp=2*Cx2/U2//The pressure coefficient\n",
"\n",
"//output\n",
"printf('(a)The fan efficiency is %3.3f\n(b)The Discharge of air by the fan is %3.3f m^3/s\n(c)The power required to drive the fan is %3.4f kW\n(d)The stage reaction of the fan is %3.4f\n(e)The pressure coefficient of the fan is %3.3f',nf,Q,W,R,sp)"
   ]
   }
,
{
		   "cell_type": "markdown",
		   "metadata": {},
		   "source": [
			"## Example 3.11: FAN_EFFICIENCY_AND_PRESSURE_COEFFICIENT.sce"
		   ]
		  },
  {
"cell_type": "code",
	   "execution_count": null,
	   "metadata": {
	    "collapsed": true
	   },
	   "outputs": [],
"source": [
"clc\n",
"clear\n",
"//input data\n",
"\n",
"b22=30//The blade air angle at the tip in degrees\n",
"D2=0.466//The impeller diameter in m\n",
"Q=3.82//The discharge of the air by fan in m^3/s\n",
"m=4.29//Mass flow rate of the air by the fan in kg/s\n",
"H=0.063//Pressure developed by a fan in m W.G\n",
"pi2=0.25//Flow coefficient at impeller exit\n",
"W=3//Power supplied to the impeller in kW\n",
"r=1.4//The ratio of specific heats of air\n",
"R=287//The universal gas constant in J/kg.K\n",
"Cp=1005//The specific heat of air at constant pressure in J/kg.K\n",
"g=9.81//Acceleration due to gravity in m/s^2\n",
"dw=10^3//Density of water in kg/m^3\n",
"\n",
"//calculations\n",
"IW=Q*dw*g*H*(10^-3)//Ideal work done in kW\n",
"nf=IW/W//Fan efficiency\n",
"U2=(((W*10^3)/m)/(1-(pi2/tand(b22))))^(1/2)//The impeller tip speed in m/s\n",
"Cr2=pi2*U2//The radial velocity at exit in m/s\n",
"Cx2=U2-(Cr2/tand(b22))//Outlet absolute velocity of air in tangential direction in m/s\n",
"sp=2*Cx2/U2//Presuure coefficient of the fan\n",
"R=1-(Cx2/(2*U2))//Degree of reaction of the fan\n",
"N=(U2*60)/(3.141592*D2)//Rotational speed of the fan in rpm\n",
"b2=Q/(3.14*D2*Cr2)//Impeller width at the exit in m\n",
"\n",
"//output\n",
"printf('(a)The fan efficiency is %3.3f\n(b)The pressure coefficient is %3.3f\n(c)The degree of reaction of the fan is %3.3f\n(d)The rotational speed of the fan is %3.1f rpm\n(e)The impeller width at exit is %3.3f m',nf,sp,R,N,b2)"
   ]
   }
,
{
		   "cell_type": "markdown",
		   "metadata": {},
		   "source": [
			"## Example 3.12: POWER_INPUT_AND_ANGLES.sce"
		   ]
		  },
  {
"cell_type": "code",
	   "execution_count": null,
	   "metadata": {
	    "collapsed": true
	   },
	   "outputs": [],
"source": [
"clc\n",
"clear\n",
"//input data\n",
"N=3000//The running speed of the blower in rpm\n",
"D2=0.75//The impeller diameter in m\n",
"Cr2=57//The radial velocity at exit in m/s\n",
"Cx1=0//Inlet absolute velocity of air in tangential direction in m/s\n",
"DR=0.58//Degree of reaction of the blower\n",
"nc=0.75//Total-to-total efficiency\n",
"r=1.4//The ratio of specific heats of air\n",
"R=287//The universal gas constant in J/kg.K\n",
"Cp=1.005//The specific heat of air at constant pressure in J/kg.K\n",
"T01=298//The inlet stagnation temperature in K\n",
"P01=1*101.325//The inlet stagnation pressure in kPa\n",
"\n",
"//calculations\n",
"U2=(3.1415*D2*N)/60//The impeller tip speed in m/s\n",
"Cx2=2*(1-DR)*U2//Outlet absolute velocity of air in tangential direction in m/s\n",
"Wx2=U2-Cx2//Relative whirl component of velocity at outlet in m/s\n",
"b22=atand(Cr2/Wx2)//The blade air angle at the tip in degree\n",
"Wm=U2*Cx2*10^-3//Actual work done per unit mass flow rate when Cx1=0 in kW/(kg/s)\n",
"T=Wm/Cp//Total change in temperature in blower in K\n",
"P=(1+(nc*(T/T01)))^(r/(r-1))//Total pressure ratio in the blower\n",
"P02=P*P01//The outlet stagnation pressure from blower in kPa\n",
"\n",
"//output\n",
"printf('(a)The exit blade angle is %3.1f degree\n(b)The power input to the blower is %3.3f kW/(kg/s)\n(c)The exit stagnation pressure is %3.2f kPa',b22,Wm,P02)"
   ]
   }
,
{
		   "cell_type": "markdown",
		   "metadata": {},
		   "source": [
			"## Example 3.13: STAGE_PRESSURE_RISE.sce"
		   ]
		  },
  {
"cell_type": "code",
	   "execution_count": null,
	   "metadata": {
	    "collapsed": true
	   },
	   "outputs": [],
"source": [
"clc\n",
"clear\n",
"//input data\n",
"D1=0.18//The impeller inner diameter in m\n",
"D2=0.2//The impeller outer diameter in m\n",
"C1=21//The absolute velocity at the entry in m/s\n",
"C2=25//The absolute velocity at the exit in m/s\n",
"W1=20//The relative velocity at the entry in m/s\n",
"W2=17//The relative velocity at the exit in m/s\n",
"N=1450//The running speed of the fan in rpm\n",
"m=0.5//The mass flow rate of the air in fan in kg/s\n",
"nm=0.78//The motor efficiency of the fan \n",
"d=1.25//The density of the air in kg/m^3\n",
"r=1.4//The ratio of specific heats of air\n",
"R=287//The universal gas constant in J/kg.K\n",
"Cp=1.005//The specific heat of air at constant pressure in J/kg.K\n",
"\n",
"//calculations\n",
"U1=(3.14*D1*N)/60//Peripheral velocity of impeller at inlet in m/s\n",
"U2=(3.14*D2*N)/60//The impeller tip speed in m/s\n",
"dH=(((U2^2)-(U1^2))/2)+(((W1^2)-(W2^2))/2)//The actual total rise in enthalpy in kJ/kg\n",
"dH0=dH+(((C2^2)-(C1^2))/2)//The stage total isentropic rise in enthalpy in kJ/kg\n",
"dP0=d*dH0//The stage total pressure rise in N/m^2\n",
"dP=d*dH//The actual total rise in pressure in N/m^2\n",
"R=dP/dP0//The degree of reaction of the  fan\n",
"W=m*(dH0)//The work done by the fan per second in W\n",
"P=W/nm//The power input to the fan in W\n",
"\n",
"//output\n",
"printf('(a)The stage total pressure rise is %3.1f N/m^2\n(b)The degree of reaction of the fan is %3.3f\n(c)The power input to the fan is %3.1f W',dP0,R,P)"
   ]
   }
,
{
		   "cell_type": "markdown",
		   "metadata": {},
		   "source": [
			"## Example 3.14: VOLUME_FLOW_RATE.sce"
		   ]
		  },
  {
"cell_type": "code",
	   "execution_count": null,
	   "metadata": {
	    "collapsed": true
	   },
	   "outputs": [],
"source": [
"clc\n",
"clear\n",
"//input data\n",
"dH=0.14//Rise in static pressure of the air by fan in m of water\n",
"N=650//The running speed of the fan in rpm\n",
"P=85*0.735//Power consumed by the fan in kW\n",
"H1=0.75//The static pressure of the air at the fan in m of Hg\n",
"T1=298//The static pressure at the fan of air in K\n",
"m=260//Mass flow rate of air in kg/min\n",
"dHg=13590//Density of mercury in kg/m^3\n",
"dw=1000//Density of water in kg/m^3\n",
"g=9.81//Acceleration due to gravity in m/s^2\n",
"R=287//The universal gas constant in J/kg.K\n",
"\n",
"//calculations\n",
"P1=dHg*g*H1*10^-3//The inlet static pressure in kPa\n",
"dP=dw*g*dH*10^-3//The total change in static pressures at inlet and outlet in kPa\n",
"P2=P1+dP//The exit static pressure in kPa\n",
"d1=(P1*10^3)/(R*T1)//The inlet density of the air in kg/m^3\n",
"Q=m/d1//The volume flow rate of air in fan in m^3/min\n",
"\n",
"//output\n",
"printf('(a)The exit static pressure of air in the fan is %3.2f kPa\n(b)The volume flow rate of the air is %3.1f m^3/min',P2,Q)"
   ]
   }
,
{
		   "cell_type": "markdown",
		   "metadata": {},
		   "source": [
			"## Example 3.1: RISE_IN_TOTAL_TEMPERATURE.sce"
		   ]
		  },
  {
"cell_type": "code",
	   "execution_count": null,
	   "metadata": {
	    "collapsed": true
	   },
	   "outputs": [],
"source": [
"clc\n",
"clear\n",
"//input data\n",
"m=10//The mass flow rate of air into compressor in kg/s\n",
"P1=1//The ambient air pressure in compressor in bar\n",
"T1=293//The ambient air temperature in compressor in K\n",
"N=20000//The running speed of the compressor in rpm\n",
"nc=0.8//The isentropic efficiency of the compressor\n",
"P02=4.5//The total exit pressure from the compressor in bar\n",
"C1=150//The air entry velocity into the impeller eye in m/s\n",
"Cx1=0//The pre whirl speed in m/s\n",
"WS=0.95//The ratio of whirl speed to tip speed\n",
"Cp=1005//The specific heat of air at constant pressure in J/kg.K \n",
"R=287//The universal gas constant in J/kg.K\n",
"Dh=0.15//The eye internal diamater in m\n",
"r=1.4//Ratio of specific heats of air \n",
"d=1.189//The density of the air in kg/m^3\n",
"\n",
"//calculations\n",
"T01=T1+((C1^2)/(2*Cp))//The stagnation temperature at inlet in K\n",
"P01=P1*(T01/T1)^(r/(r-1))//The stagnation pressure at inlet in bar\n",
"T02s=(T01)*(P02/P01)^((r-1)/r)//The temperature after isentropic compression from P01 to P02 in K\n",
"T=(T02s-T01)/nc//The actual rise in total temperature in K\n",
"W=Cp*(10^-3)*(T)//The work done per unit mass in kJ/kg\n",
"U2=((W*(10^3))/(WS))^(1/2)//The impeller tip speed in m/s\n",
"Dt=(U2*60)/(3.1415*N)//The impeller tip diameter in m\n",
"P=m*W//Power required to drive the compressor in kW\n",
"d1=((P1*10^5)/(R*T1))//The density of the air entry in kg/m^3\n",
"De=(((4*m)/(d*C1*3.14))+(Dh^2))^(1/2)//The eye external diameter in m\n",
"\n",
"//output\n",
"printf('(a)The actual rise in total temperature of the compressor is %3.1f K\n(b)\n      (1)The impeller tip speed is %3.2f m/s\n      (2)The impeller tip diameter is %3.2f m\n(c)The power required to drive the compressor is %3.1f kW\n(d)The eye external diameter is %3.3f m',T,U2,Dt,P,De)"
   ]
   }
,
{
		   "cell_type": "markdown",
		   "metadata": {},
		   "source": [
			"## Example 3.2: BLADE_ANGLES_AND_DIMENSIONS.sce"
		   ]
		  },
  {
"cell_type": "code",
	   "execution_count": null,
	   "metadata": {
	    "collapsed": true
	   },
	   "outputs": [],
"source": [
"clc\n",
"clear\n",
"//input data\n",
"Q1=20//Discharge of air to the centrifugal compressor in m^3/s\n",
"V1=Q1//Volume of rate is equal to the discharge in m^3/s\n",
"P1=1//Initial pressure of the air to the centrifugal compressor in bar\n",
"T1=288//Initial temperature of the air to the centrifugal compressor in K\n",
"P=1.5//The pressure ratio of compression in centrifugal compressor\n",
"C1=60//The velocity of flow of air at inlet in m/s\n",
"Cr2=C1//The radial velocity of flow of air at outlet in m/s\n",
"Dh=0.6//The inlet impeller diameter in m\n",
"Dt=1.2//The outlet impeller diameter in m\n",
"N=5000//The speed of rotation of centrifugal compressor in rpm\n",
"n=1.5//polytropic index constant in the given law PV^n\n",
"Cp=1005//The specific heat of air at constant pressure in J/kg.K \n",
"\n",
"//calculations\n",
"U1=(3.14*Dh*N)/60//Peripheral velocity of impeller at inlet in m/s\n",
"b11=atand(C1/U1)//The blade angle at impeller inlet in degree\n",
"U2=(3.14*Dt*N)/60//Peripheral velocity of impeller top at outlet in m/s\n",
"T2=T1*(P)^((n-1)/n)//Final temperature of the air to the centrifugal compressor in K\n",
"Cx2=((Cp*(T2-T1))/U2)//The whirl component of absolute velocity in m/s\n",
"Wx2=U2-Cx2//The exit relative velocity in m/s\n",
"a2=atand(Cr2/Cx2)//The blade angle at inlet to casing in degree\n",
"b22=atand(Cr2/Wx2)//The blade angle at impeller outlet in degree\n",
"b1=Q1/(2*3.14*(Dh/2)*C1)//The breadth of impeller blade at inlet in m \n",
"V2=(P1*V1*T2)/(T1*P*P1)//Volume flow rate of air at exit in m^3/s\n",
"Q2=V2//Volume flow rate is equal to discharge in m^3/s\n",
"b2=Q2/(2*3.14*(Dt/2)*Cr2)//The breadth of impeller blade at outlet in m\n",
"\n",
"//output\n",
"printf('(a)The blade and flow angles\n   (1)The blade angle at impeller inlet is %3.1f degree\n   (2)The blade angle at inlet to casing is %3.1f degree\n   (3)The blade angle at impeller outlet is %3.2f degree\n(b)Breadth of the impeller blade at inlet and outlet\n   (1)The breadth of impeller blade at inlet is %3.3f m\n   (2)The Volume flow rate of air at exit is %3.2f m^3/s\n   (3)The breadth of impeller blade at outlet is %3.4f m',b11,a2,b22,b1,V2,b2)\n",
"\n",
"\n",
"//comments\n",
"//error in the first review is not printing the value of V2 which is corrected"
   ]
   }
,
{
		   "cell_type": "markdown",
		   "metadata": {},
		   "source": [
			"## Example 3.3: OVERALL_DIAMETER.sce"
		   ]
		  },
  {
"cell_type": "code",
	   "execution_count": null,
	   "metadata": {
	    "collapsed": true
	   },
	   "outputs": [],
"source": [
"clc\n",
"clear\n",
"//input data\n",
"m=14//The mass flow rate of air delivered to centrifugal compressor in kg/s\n",
"P01=1//The inlet stagnation pressure in bar\n",
"T01=288//The inlet stagnation temperature in K\n",
"P=4//The stagnation pressure ratio\n",
"N=200//The speed of centrifygal compressor in rps\n",
"ss=0.9//The slip factor\n",
"ps=1.04//The power input factor\n",
"ntt=0.8//The overall isentropic efficiency\n",
"r=1.4//The ratio of specific heats of air\n",
"Cp=1005//The specific heat of air at constant pressure in J/kg.K\n",
"\n",
"//calculations\n",
"pp=ss*ps*ntt//The pressure coefficient\n",
"U2=((Cp*T01*((P^((r-1)/r))-1))/pp)^(1/2)//Peripheral velocity of impeller top at outlet in m/s\n",
"D2=U2/(3.14*N)//The overall diameter of the impeller in m\n",
"\n",
"//output\n",
"printf('The overall diameter of the impeller is %3.2f m',D2)"
   ]
   }
,
{
		   "cell_type": "markdown",
		   "metadata": {},
		   "source": [
			"## Example 3.4: INLET_RELATIVE_MACH_NUMBER.sce"
		   ]
		  },
  {
"cell_type": "code",
	   "execution_count": null,
	   "metadata": {
	    "collapsed": true
	   },
	   "outputs": [],
"source": [
"clc\n",
"clear\n",
"//input data\n",
"D1=0.457//Impeller diameter at inlet in m\n",
"D2=0.762//Impeller diameter at exit in m\n",
"Cr2=53.4//Radial component of velocity at impeller exit in m/s\n",
"ss=0.9//Slip factor\n",
"N=11000//Impeller speed in rpm\n",
"P2=2.23//Static pressure at impeller exit in bar\n",
"T01=288//The inlet stagnation temperature in K\n",
"P01=1.013//The inlet stagnation pressure in bar\n",
"C1=91.5//Velocity of air leaving the guide vanes in m/s\n",
"a11=70//The angle at which air leaves the guide vanes in degrees\n",
"r=1.4//The ratio of specific heats of air\n",
"R=287//The universal gas constant in J/kg.K\n",
"Cp=1005//The specific heat of air at constant pressure in J/kg.K\n",
"\n",
"//calculations\n",
"Cx1=C1*cosd(a11)//Inlet absolute velocity of air in tangential direction in m/s\n",
"Ca1=Cx1*tand(a11)//Radial component of absolute velocity at inlet in m/s\n",
"U1=(3.14*D1*N)/(60)//Peripheral velocity of impeller at inlet in m/s\n",
"Wx1=U1-Cx1//Relative whirl component of velocity at inlet in m/s\n",
"W1=((Wx1^2)+(Ca1^2))^(1/2)//Relative velocity at inlet in m/s\n",
"T1=T01-((C1^2)/(2*Cp))//The inlet air temperature in K\n",
"a1=(r*R*T1)^(1/2)//The velocity of air in m/s\n",
"M1r=W1/a1//Initial relative mach number\n",
"U2=(3.14*D2*N)/60//Peripheral velocity of impeller top at exit in m/s\n",
"W=(ss*U2^2)-(U1*Cx1)//Work done by the compressor in kJ/kg\n",
"T02=(W/Cp)+T01//The outlet stagnation temperature in K\n",
"Cx21=ss*U2//Absolute whirl component of velocity with slip consideration in m/s\n",
"C2=((Cx21^2)+(Cr2^2))^(1/2)//The absolute velocity of air at exit in m/s\n",
"T2=T02-((C2^2)/(2*Cp))//The exit temperature of air in K\n",
"P02=P2*(T02/T2)^(r/(r-1))//The exit stagnation pressure of compressor in bar\n",
"nc=(T01/(T02-T01))*(((P02/P01)^((r-1)/r))-1)//Total head isentropic efficiency\n",
"\n",
"//output\n",
"printf('(1)The inlet relative mach number is %3.3f\n(2)The impeller total head efficiency is %3.3f',M1r,nc)"
   ]
   }
,
{
		   "cell_type": "markdown",
		   "metadata": {},
		   "source": [
			"## Example 3.5: DIMENSIONS_OF_IMPELLER.sce"
		   ]
		  },
  {
"cell_type": "code",
	   "execution_count": null,
	   "metadata": {
	    "collapsed": true
	   },
	   "outputs": [],
"source": [
"clc\n",
"clear\n",
"//input data\n",
"N=16500//The running speed ofradial blade of a centrifugal compressor in rpm\n",
"P=4//The total pressure ratio\n",
"P01=1//The atmospheric pressure in bar\n",
"T01=298//THe atmospheric temperature in K\n",
"Dh=0.16//The hub diameter at impeller eye in m\n",
"Ca=120//The axial velocity at inlet in m/s\n",
"C1=Ca//The absolute velocity at inlet in m/s\n",
"sp=0.7//The pressure coefficient\n",
"C3=120//The absolute velocity at diffuser exit in m/s\n",
"m=8.3//The mass flow rate in kg/s\n",
"nc=0.78//The adiabatic total-to-total efficiency\n",
"r=1.4//The ratio of specific heats of air\n",
"R=287//The universal gas constant in J/kg.K\n",
"Cp=1005//The specific heat of air at constant pressure in J/kg.K\n",
"\n",
"//calculations\n",
"T1=T01-((C1^2)/(2*Cp))//The inlet temperature in K\n",
"P1=P01*(T1/T01)^(r/(r-1))//The inlet pressure in bar\n",
"d1=(P1*10^5)/(R*T1)//The inlet density of air in kg/m^3\n",
"Dt=(((4*m)/(3.14*d1*Ca))+(0.16^2))^(1/2)//The eye tip diameter in m\n",
"T=((T01)*((P^((r-1)/r))-1))/nc//The overall change in temperature in K\n",
"ssps=sp/nc//The product of slip factor and power factor\n",
"U2=(T*Cp/ssps)^(1/2)//Peripheral velocity of impeller top at exit in m/s\n",
"D2=(U2*60)/(3.14*N)//The impeller tip diameter in m\n",
"Uh=(3.14*Dh*N)/60//Peripheral velocity of eye hub in m/s\n",
"bh=atand(C1/Uh)//Blade angle at eye hub in degree\n",
"Ut=(3.14*Dt*N)/60//Peripheral velocity of eye tip in m/s\n",
"bt=atand(C1/Ut)//Blade angle at eye tip in degree\n",
"T03=T01+T//Temperature at the exit in K\n",
"T3=T03-((C3^2)/(2*Cp))//Exit static temperature in K\n",
"P3=(P*P01)*(T3/T03)^(r/(r-1))//Exit static pressure in bar\n",
"W=m*Cp*(T03-T01)*10^-6//Power required to drive the compressor in mW\n",
"//output\n",
"printf('(a)The main dimensions of the impeller are\n    (1)Eye tip diameter is %3.3f m\n    (2)Impeller tip diameter is %3.3f m\n    (3)Blade angle at the eye hub is %3.2f degree\n       Blade angle at the eye tip is %3.2f degree\n(b)    (1)The static exit temperature is %3.1f K\n    (2)The static exit pressure is %3.3f bar\n(c)The power required is %3.3f MW',Dt,D2,bh,bt,T3,P3,W)"
   ]
   }
,
{
		   "cell_type": "markdown",
		   "metadata": {},
		   "source": [
			"## Example 3.6: AIR_ANGLES.sce"
		   ]
		  },
  {
"cell_type": "code",
	   "execution_count": null,
	   "metadata": {
	    "collapsed": true
	   },
	   "outputs": [],
"source": [
"clc\n",
"clear\n",
"//input data\n",
"Dt=0.25//Tip diameter of the eye in m\n",
"Dh=0.1//Hub diameter of the eye in m\n",
"N=120//Speed of the compressor in rps\n",
"m=5//Mass of the air handled in kg/s\n",
"P01=102//Inlet stagnation pressure in kPa\n",
"T01=335//Inlet total temperature in K\n",
"r=1.4//The ratio of specific heats of air\n",
"R=287//The universal gas constant in J/kg.K\n",
"Cp=1005//The specific heat of air at constant pressure in J/kg.K\n",
"\n",
"//calculations\n",
"d1=(P01*10^3)/(R*T01)//Density at the inlet of inducer in kg/m^3\n",
"Dm=(Dh+Dt)/2//Mean impeller diameter in m\n",
"b=(Dt-Dh)/2//Impeller blade height in m\n",
"C1=m/(d1*3.14*Dm*b)//Axial velocity component at the inlet in m/s\n",
"T11=T01-((C1^2)/(2*Cp))//Inlet temperature in K\n",
"P11=P01*(T11/T01)^(r/(r-1))//Inlet pressure in kPa\n",
"d11=(P11*10^3)/(R*T11)//Inlet density with mean impeller diameter an blade height in kg/m^3\n",
"C11=m/(d11*3.14*Dm*b)//Axial velocity component at inlet using mean blade values in m/s\n",
"T12=T01-((C1^2)/(2*Cp))//Initial temperature using modified axial velocity in K\n",
"P12=P01*(T12/T01)^(r/(r-1))//Initial pressure at inlet usin modified axial velocity in kPa\n",
"d12=(P12*10^3)/(R*T12)//Inlet density with modified axial velocity in kg/m^3\n",
"C12=m/(d12*3.14*Dm*b)//Axial velocity component at inlet using modified axial velocity in m/s\n",
"U1=3.14*Dm*N//Peripheral velocity of impeller at inlet in m/s\n",
"b1=atand(C12/U1)//The blade angle at impeller inlet in degree\n",
"W11=C12/sind(b1)//Relative velocity at inlet in m/s\n",
"Mr11=W11/(r*R*T12)^(1/2)//Initial relative mach number\n",
"Ca=C12//Axial velocity at IGV in m/s\n",
"W12=Ca//Relative velocity at inlet usin IGV in m/s\n",
"a1=atand(Ca/U1)//Air angle at IGV exit in degree\n",
"C13=Ca/sind(a1)//The velocity of flow of air at inlet in m/s\n",
"T13=T01-((C13^2)/(2*Cp))//Initial temperature using IGV in K\n",
"Mr12=W12/(r*R*T13)^(1/2)//Initial relative mach number using IGV \n",
"\n",
"//output5\n",
"printf('(1)Without using IGV\n    (a)The air angle at inlet of inducer blade is %3.2f degree\n    (b)The inlet relative mach number is %3.3f\n(2)With using IGV\n    (a))The air angle at inlet of inducer blade is %3.2f degree\n    (b)The inlet relative mach number is %3.3f',b1,Mr11,a1,Mr12)"
   ]
   }
,
{
		   "cell_type": "markdown",
		   "metadata": {},
		   "source": [
			"## Example 3.7: ABSOLUTE_MACH_NUMBER.sce"
		   ]
		  },
  {
"cell_type": "code",
	   "execution_count": null,
	   "metadata": {
	    "collapsed": true
	   },
	   "outputs": [],
"source": [
"clc\n",
"clear\n",
"//input data\n",
"Cr2=28//Radial component of velocity at impeller exit in m/s\n",
"ss=0.9//The slip factor\n",
"U2=350//The impeller tip speed in m/s\n",
"A=0.08//The impeller area in m^2\n",
"nc=0.9//Total head isentropic efficiency\n",
"T01=288//The ambient air temperature in K\n",
"P01=1//The ambient air pressure in bar\n",
"r=1.4//The ratio of specific heats of air\n",
"R=287//The universal gas constant in J/kg.K\n",
"Cp=1005//The specific heat of air at constant pressure in J/kg.K\n",
"\n",
"//calculations\n",
"Cx2=ss*U2//outlet absolute velocity of air in tangential direction in m/s\n",
"C2=((Cx2^2)+(Cr2^2))^(1/2)//Axial velocity component at the outlet in m/s\n",
"T=(ss*(U2^2))/Cp//Total change in temperature in K\n",
"T02=T+T01//The final ambient air temperature in K\n",
"T2=T02-((C2^2)/(2*Cp))//The actual final air temperature in K\n",
"M2=(C2)/(r*R*T2)^(1/2)//Exit absolute mach number\n",
"P=((1+(ss*T/T01))^(r/(r-1)))//The overall pressure ratio\n",
"P02=P*P01//The final ambient pressure in bar\n",
"P2=P02*(T2/T02)^(r/(r-1))//The absolute final pressure in bar\n",
"d2=(P2*10^5)/(R*T2)//The final density of air at exit in kg/m^3\n",
"m=d2*A*Cr2//The mass flow rate in kg/s\n",
"\n",
"//output\n",
"printf('(a)The exit absolute mach number is %3.4f\n(b)The mass flow rate is %3.4f kg/s',M2,m)"
   ]
   }
,
{
		   "cell_type": "markdown",
		   "metadata": {},
		   "source": [
			"## Example 3.8: MAXIMUM_MACH_NUMBER.sce"
		   ]
		  },
  {
"cell_type": "code",
	   "execution_count": null,
	   "metadata": {
	    "collapsed": true
	   },
	   "outputs": [],
"source": [
"clc\n",
"clear\n",
"//input data\n",
"Dh=0.175//Hub diameter of the eye in m\n",
"Dt=0.3125//Tip diameter of the eye in m\n",
"m=20//Mass of the air handled in kg/s\n",
"N=16000//Speed of the compressor in rpm\n",
"T01=288//The ambient air temperature in K\n",
"P01=100//The ambient air pressure in kPa\n",
"Ca=152//The axial component of inlet velocity of eye in m/s\n",
"r=1.4//The ratio of specific heats of air\n",
"R=287//The universal gas constant in J/kg.K\n",
"Cp=1005//The specific heat of air at constant pressure in J/kg.K\n",
"\n",
"\n",
"//calculations\n",
"A=(3.14/4)*((Dt^2)-(Dh^2))//Annulus area of flow at the impeller eye in m^2\n",
"Ut=(3.1415*Dt*N)/60//Impeller eye tip speed in m/s\n",
"Uh=(3.1415*Dh*N)/60//Impeller eye hub speed in m/s\n",
"a1=90-20//Blade angle at inlet in degree \n",
"C1=Ca/sind(a1)//The air entry velocity into the impeller eye in m/s\n",
"T1=T01-((C1^2)/(2*Cp))//The actual inlet air temperature in K\n",
"P1=P01*(T1/T01)^(r/(r-1))//The actual inlet air pressure in kPa\n",
"d1=P1/(R*T1)//The initial density of air at entry in kg/m^3\n",
"b1h=atand(Ca/(Uh-(Ca/tand(a1))))//Impeller angle at the hub in degree\n",
"b1t=atand(Ca/(Ut-(Ca/tand(a1))))//Impeller angle at the tip of eye in degree\n",
"Cx1=Ca/tand(a1)//Inlet absolute velocity of air in tangential direction in m/s\n",
"Wx1=Ut-Cx1//Relative whirl component of velocity at inlet in m/s\n",
"W1=((Wx1^2)+(Ca^2))^(1/2)//Relative velocity at inlet in m/s\n",
"Mr1=W1/(r*R*T1)^(1/2)//Maximum mach number at the eye\n",
"\n",
"//output\n",
"printf('(a)\n    (1)The impeller eye tip speed is %3.2f m/s\n    (2)The impeller eye hub speed is %3.2f m/s\n    (3)The impeller angle at the hub is %i degree\n    (4)Impeller angle at the tip of eye is %3.2f degree\n(b)The maximum mach number at the eye is %3.2f',Ut,Uh,b1h,b1t,Mr1)"
   ]
   }
,
{
		   "cell_type": "markdown",
		   "metadata": {},
		   "source": [
			"## Example 3.9: MASS_AND_VOLUME_RATE.sce"
		   ]
		  },
  {
"cell_type": "code",
	   "execution_count": null,
	   "metadata": {
	    "collapsed": true
	   },
	   "outputs": [],
"source": [
"clc\n",
"clear\n",
"//input data\n",
"P1=100//The air in take pressure in kPa\n",
"T1=309//The air in take temperature in K\n",
"H=0.750//Pressure head developed in mm W.G\n",
"P=33//Input power to blower in kW\n",
"nb=0.79//Blower efficiency\n",
"nm=0.83//Mechanical efficiency\n",
"r=1.4//The ratio of specific heats of air\n",
"R=287//The universal gas constant in J/kg.K\n",
"Cp=1005//The specific heat of air at constant pressure in J/kg.K\n",
"g=9.81//Acceleration due to gravity in m/s^2\n",
"dw=1000//Density of water in kg/m^3\n",
"\n",
"//calculations\n",
"d=(P1*10^3)/(R*T1)//Density of air flow at inlet in kg/m^3\n",
"dP=dw*g*H//Total change in pressure in N/m^2\n",
"IW=dP/d//Ideal work done in J/kg\n",
"Wm=IW/nb//Actual work done per unit mass flow rate in J/kg\n",
"W=P*nm//Actual power input in kW\n",
"m=(W*10^3)/Wm//Mass flow rate in kg/s\n",
"Q=m/d//Volume flow rate in m^3/s\n",
"P2=P1+(dP/10^3)//The exit pressure of air in kPa\n",
"T2=T1+(Wm/(Cp))//The exit temperature of air in K\n",
"\n",
"//output\n",
"printf('(a)The mass flow rate of air is %3.3f kg/s\n(b)The volume flow rate of air is %3.2f m^3/s\n(c)\n    (1)The exit pressure of air is %3.2f kPa\n    (2)The exit temperature of air is %3.2f K',m,Q,P2,T2)"
   ]
   }
],
"metadata": {
		  "kernelspec": {
		   "display_name": "Scilab",
		   "language": "scilab",
		   "name": "scilab"
		  },
		  "language_info": {
		   "file_extension": ".sce",
		   "help_links": [
			{
			 "text": "MetaKernel Magics",
			 "url": "https://github.com/calysto/metakernel/blob/master/metakernel/magics/README.md"
			}
		   ],
		   "mimetype": "text/x-octave",
		   "name": "scilab",
		   "version": "0.7.1"
		  }
		 },
		 "nbformat": 4,
		 "nbformat_minor": 0
}
