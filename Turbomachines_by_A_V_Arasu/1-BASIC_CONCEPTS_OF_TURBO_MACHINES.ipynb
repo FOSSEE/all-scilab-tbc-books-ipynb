{
"cells": [
 {
		   "cell_type": "markdown",
	   "metadata": {},
	   "source": [
       "# Chapter 1: BASIC CONCEPTS OF TURBO MACHINES"
	   ]
	},
{
		   "cell_type": "markdown",
		   "metadata": {},
		   "source": [
			"## Example 1.10: PRESSURE_RATIO_AND_EFFICIENCY.sce"
		   ]
		  },
  {
"cell_type": "code",
	   "execution_count": null,
	   "metadata": {
	    "collapsed": true
	   },
	   "outputs": [],
"source": [
"clc\n",
"clear\n",
"//input data\n",
"P=11//Overall pressure ratio in three stages of a gas turbine\n",
"nt=0.88//Overall efficiency in three stages of a gas turbine\n",
"T1=1500//Temperature at inlet of a gas turbine in K\n",
"r=1.4//ratio of specific heats for air\n",
"\n",
"//calculations\n",
"T0=nt*T1*(1-(1/P)^((r-1)/r))//Overall change in temperature in all stages in K\n",
"TN1=T1-T0//Temperature at final stage of a gas turbine in K\n",
"np=((r/(r-1))*log10(T1/TN1))/(log10(P))//Overall polytropic efficiency of the gas turbine\n",
"Ts=T0/3//Individual stage change in temperature in K\n",
"T2=T1-Ts//Exit temperature at the end of first stage in K\n",
"P1=(T1/T2)^(r/(np*(r-1)))//Pressure ratio at first stage of gas turbine \n",
"ns1=((1-(1/P1)^((np*(r-1))/r))/(1-(1/P1)^((r-1)/r)))//Stage efficiency of first stage \n",
"T3=T2-Ts//Exit temperature at the end of second stage in K\n",
"P2=(T2/T3)^(r/(np*(r-1)))//Pressure ratio at second stage of gas turbine\n",
"ns2=((1-(1/P2)^((np*(r-1))/r))/(1-(1/P2)^((r-1)/r)))//Stage efficiency of second stage\n",
"T4=T3-Ts//Exit temperature at the end of third stage in K\n",
"P3=(T3/T4)^(r/(np*(r-1)))//Pressure ratio at the third stage of gas turbine\n",
"ns3=((1-(1/P3)^((np*(r-1))/r))/(1-(1/P3)^((r-1)/r)))//Stage efficiency of third stage\n",
"\n",
"//output\n",
"printf('(a)The values for first stage are\n    (1)Pressure ratio is %3.2f\n    (2)stage efficiency is %3.4f\n(b)The values of second stage are\n    (1)Pressure ratio is %3.3f\n    (2)Stage efficiency is %3.3f\n(c)The values of third stage are\n    (1)Pressure ratio is %3.2f\n    (2)Stage efficiency is %3.4f\n',P1,ns1,P2,ns2,P3,ns3)"
   ]
   }
,
{
		   "cell_type": "markdown",
		   "metadata": {},
		   "source": [
			"## Example 1.11: POWER_REQUIRED.sce"
		   ]
		  },
  {
"cell_type": "code",
	   "execution_count": null,
	   "metadata": {
	    "collapsed": true
	   },
	   "outputs": [],
"source": [
"clc\n",
"clear\n",
"//input data\n",
"N=4//Number of stages in compressor\n",
"m=45//mass flow rate of air delivered by compressor in kg/s\n",
"P1=1.2//Pressure ratio at first stage\n",
"ns=0.65//Stage efficiency of first stage\n",
"r=1.4//ratio of specific heats for air\n",
"Cp=1.005//specific at heat at constant pressure in kJ/kg.K\n",
"T1=293//Temperature of air at inlet in K\n",
"\n",
"//calculations\n",
"P=(P1)^N//Overall pressure in all 4 stages\n",
"np=((r-1)/r)*((log10(P1))/(log10((((P1^((r-1)/r))-1)/ns)+1)))//Polytropic efficiency of the cycle\n",
"nc=(((P1^(N*((r-1)/r)))-1)/((P1^(N*((r-1)/(r*np))))-1))//Overall efficiency of the cycle\n",
"TN1=T1*((P1^(N))^((r-1)/(r*np)))//Final temperature at the exit of the compressor at final stage in K\n",
"W=m*Cp*(TN1-T1)//Power required to drive the compressor in kW\n",
"\n",
"//output\n",
"\n",
"printf('(a)The overall pressure ratio of the process is %3.1f\n(b)The overall efficiency of the process is %3.4f\n(c)The power required to drive the compressor is %3.2f kW',P,nc,W)"
   ]
   }
,
{
		   "cell_type": "markdown",
		   "metadata": {},
		   "source": [
			"## Example 1.12: EXIT_CONDITIONS.sce"
		   ]
		  },
  {
"cell_type": "code",
	   "execution_count": null,
	   "metadata": {
	    "collapsed": true
	   },
	   "outputs": [],
"source": [
"clc\n",
"clear\n",
"//input data\n",
"P0=0.2*9.81*(10^3)*(10^-5)//Total increase in pressure in bar\n",
"P01=1.04//Total inlet pressure of air in bar\n",
"T01=291//Total inlet temperature of air in K\n",
"ntt=0.72//Total-to-total efficiency of the process\n",
"r=1.4//ratio of specific heats for air\n",
"Cp=1.005//specific at heat at constant pressure in kJ/kg.K\n",
"\n",
"//calculations\n",
"P2=P0+P01//The total exit pressure in bar\n",
"T02=((((P2/P01)^((r-1)/r)-1)*T01)/ntt)+T01//Total temperature at the outlet in K\n",
"h0=Cp*(T02-T01)//Actual change in total enthalpy in kJ/kg\n",
"h0s=h0*ntt//Isentropic change in total enthalpy in kJ/kg\n",
"\n",
"//output\n",
"printf('(a)The total exit pressure is %3.4f bar\n and the total exit temperature is %3.2f K\n(b)The actual change in total enthalpy is %3.3f kJ/kg\n and the isentropic change in total enthalpy is %3.3f kJ/kg',P2,T02,h0,h0s)"
   ]
   }
,
{
		   "cell_type": "markdown",
		   "metadata": {},
		   "source": [
			"## Example 1.13: STATES_OF_AIR_AND_EFFICIENCIES.sce"
		   ]
		  },
  {
"cell_type": "code",
	   "execution_count": null,
	   "metadata": {
	    "collapsed": true
	   },
	   "outputs": [],
"source": [
"clc\n",
"clear\n",
"//input data\n",
"P=5//Pressure ratio in the process\n",
"ntt=0.8//Total-to-total efficiency of the process\n",
"m=5//Air flow rate through turbine in kg/s\n",
"W=500//Total power output from the turbine in kW\n",
"r=1.4//ratio of specific heats for air\n",
"Cp=1.005*10^3//specific at heat at constant pressure in J/kg.K\n",
"C2=100//Flow velocity of air in m/s\n",
"\n",
"//calculations\n",
"T=(W*10^3)/(m*Cp)//Total change in temperature in the process in K\n",
"T02s=(1/P)^((r-1)/r)//Isentropic temperature at the outlet from turvine in (K*T01)\n",
"T01=(T/ntt)*(1/(1-0.631))//Inlet total temperature in K\n",
"T02=T01-T//Actual exit total temperature in K\n",
"T2=T02-((C2^2)/(2*Cp))//Actual exit static temperature in K\n",
"T02s1=T02s*T01//Isentropic temperature at the outlet from turbine in K\n",
"T2s=T02s1-((C2^2)/(2*Cp))//Actual isentropic temperature in K\n",
"nts=(T/(T01-T2s))//Total-to-static efficiency\n",
"\n",
"//output\n",
"printf('(a)The inlet total temperature is %i K\n(b)The actual exit total temperature is %3.1f K\n(c)The actual exit static temperature is %3.1f K\n(d)The total-to-static efficiency is %3.4f',T01,T02,T2,nts)"
   ]
   }
,
{
		   "cell_type": "markdown",
		   "metadata": {},
		   "source": [
			"## Example 1.14: REHEAT_FACTOR.sce"
		   ]
		  },
  {
"cell_type": "code",
	   "execution_count": null,
	   "metadata": {
	    "collapsed": true
	   },
	   "outputs": [],
"source": [
"\n",
"clc\n",
"clear\n",
"//input data\n",
"N=3//Number of stages in turbine\n",
"P=2//Pressure ratio of each stage\n",
"ns=0.75//Stage efficiency of each stage\n",
"T1=873//Initial temperature of air in K\n",
"m=25//Flow rate of air in kg/s\n",
"r=1.4//ratio of specific heats for air\n",
"Cp=1.005//specific at heat at constant pressure in J/kg.K\n",
"\n",
"//calculations\n",
"np=(r/(r-1))*((log(1-(ns*(1-(1/P)^((r-1)/r)))))/(log(1/P)))//Polytropic efficiency of the process\n",
"nt=((1-(1/P)^(N*np*((r-1)/r)))/(1-(1/P)^(N*((r-1)/r))))//Overall efficiency of the turbine\n",
"W=m*Cp*T1*(1-(1/P)^(N*np*((r-1)/r)))//Power developed by the turbine in kW\n",
"RF=nt/ns//Reheat factor of the process\n",
"\n",
"//output\n",
"printf('(a)The overall efficiency of the turbine is %3.4f\n(b)The power developed by the turbine is %i kW\n(c)The reheat factor of the process is %3.2f',nt,W,RF)\n",
"\n",
"//comments\n",
"// the answer which i have got in scilab is correct  it is showing error because the intermediate values have been approximated in textbook where as in the software it is not. if the answer is calculated in the calculator then it is same as that of obtained from the software."
   ]
   }
,
{
		   "cell_type": "markdown",
		   "metadata": {},
		   "source": [
			"## Example 1.1: COMPRESSION_WORK.sce"
		   ]
		  },
  {
"cell_type": "code",
	   "execution_count": null,
	   "metadata": {
	    "collapsed": true
	   },
	   "outputs": [],
"source": [
"clc\n",
"clear\n",
"//input data\n",
"P01=1//initial pressure of a fluid in bar\n",
"P02=10//final pressure of a fliud in bar\n",
"T01=283//initial total temperature in K\n",
"ntt=0.75//total-to-total efficiency\n",
"d=1000//density of water in kg/m^3\n",
"r=1.4//ratio of specific heats for air\n",
"Cp=1.005//specific at heat at constant pressure in kJ/kg.K\n",
"\n",
"//calculations\n",
"h0s1=(1/d)*(P02-P01)*10^2//enthalpy in kJ/kg\n",
"h01=(h0s1/ntt)//enthalpy in kJ/kg\n",
"T02s=T01*(P02/P01)^((r-1)/r)//temperature in K\n",
"h0s2=(Cp*(T02s-T01))//enthalpy in kJ/kg\n",
"h02=(h0s2/ntt)//enthalpy in kJ/kg\n",
"\n",
"//output\n",
"printf('The work of compression for adiabatic steady flow per kg of fliud if \n(a)The fliud is liquid water is %3.1f kJ/kg\n(b)The fliud is air as a perfect gas is %3.2f kJ/kg',h01,h02)\n",
""
   ]
   }
,
{
		   "cell_type": "markdown",
		   "metadata": {},
		   "source": [
			"## Example 1.2: EFFICIENCY.sce"
		   ]
		  },
  {
"cell_type": "code",
	   "execution_count": null,
	   "metadata": {
	    "collapsed": true
	   },
	   "outputs": [],
"source": [
"clc\n",
"clear\n",
"//input data\n",
"P01=7//Total initial pressure of gases at entry in bar\n",
"T01=1100//Total initial temperature in K\n",
"P02=1.5//Total final pressure of gases at exit in bar\n",
"T02=830//Total final temperature in K\n",
"C2=250//Exit velocity in m/s\n",
"r=1.3//Ratio of specific heats of gases\n",
"M=28.7//Molecular weight of gases\n",
"R1=8.314//Gas constant of air in kJ/kg.K\n",
"\n",
"//calculations\n",
"T02s=T01*(P02/P01)^((r-1)/r)//Final temperature in K\n",
"ntt=((T01-T02)/(T01-T02s))//Total-to-total efficiency\n",
"R=(R1/M)//Gas constant of given gas in kJ/kg.K\n",
"Cp=((r*R)/(r-1))//Specific heat of given gas at constant pressure in kJ/kg.K\n",
"T2s=(T02s-((C2^2)/(2*Cp*1000)))//Temperature in isentropic process at exit in K\n",
"nts=((T01-T02)/(T01-T2s))//Total-to-static efficiency\n",
"\n",
"//output\n",
"printf('The total-to-total efficiency of gases is %3.3f\nThe total-to-static efficiency of gases is %3.3f',ntt,nts)\n",
""
   ]
   }
,
{
		   "cell_type": "markdown",
		   "metadata": {},
		   "source": [
			"## Example 1.3: PRESSURE_RATIO.sce"
		   ]
		  },
  {
"cell_type": "code",
	   "execution_count": null,
	   "metadata": {
	    "collapsed": true
	   },
	   "outputs": [],
"source": [
"clc\n",
"clear\n",
"//input data\n",
"h0=6//Change in total enthalpy in kJ/kg\n",
"T01=303//Total inlet temperature of fluid in K\n",
"P01=1//Total inlet pressure of fliud in bar\n",
"Cp=1.005//specific at heat at constant pressure in kJ/kg.K\n",
"ntt=0.75//Adiabatic total-to-total efficiency\n",
"r=1.4//ratio of specific heats for air\n",
"\n",
"//calculations\n",
"T02=T01+(h0/Cp)//Exit total termperature of fliud in K\n",
"P1=(1+((ntt*h0)/(Cp*T01)))^(r/(r-1))//Total pressure ratio of fluid \n",
"h0s=ntt*h0//Change in enthalpy of process in kJ/kg\n",
"P0=((h0s*1000)/100)//Change in pressure in bar\n",
"P02=P0+P01//Total outlet pressure of fliud in bar\n",
"P2=(P02/P01)//Total pressure ratio of fliud\n",
"\n",
"//output\n",
"printf('(a)The exit total temperature of fliud is %3.2f K\n(b)The total pressure ratio if:\n(1)The fliud is air is %3.3f\n(2)The fliud is liquid water is %3.0i',T02,P1,P2)\n",
""
   ]
   }
,
{
		   "cell_type": "markdown",
		   "metadata": {},
		   "source": [
			"## Example 1.4: TOTAL_PRESSURE.sce"
		   ]
		  },
  {
"cell_type": "code",
	   "execution_count": null,
	   "metadata": {
	    "collapsed": true
	   },
	   "outputs": [],
"source": [
"clc\n",
"clear\n",
"//input data\n",
"W=100//Output power developed in kW\n",
"Q=0.1//Flow through device in m^3/s\n",
"d=800//Density of oil in kg/m^3\n",
"ntt=0.75//Total-to-total efficiency\n",
"C1=3//inlet flow velocity of oil in m/s\n",
"C2=10//outlet flow velocity of oil in m/s\n",
"\n",
"//calculations\n",
"m=d*Q//Mass flow rate of oil in kg/s\n",
"h0=-(W/m)//Change in total enthalpy in kJ/kg\n",
"h0s=(h0/ntt)//Isentropic change in total enthalpy in kJ/kg\n",
"P0=((d*h0s)*(1/100))//Change in total pressure of oil in bar\n",
"P=P0-((d/(2000*100))*(C2^2-C1^2))//Change in static pressure in bar\n",
"\n",
"//output\n",
"printf('The change in total pressure of oil is %3.1f bar\nThe change in static presure is %3.1f bar',P0,P)\n",
""
   ]
   }
,
{
		   "cell_type": "markdown",
		   "metadata": {},
		   "source": [
			"## Example 1.5: OVERALL_EFFICIENCY.sce"
		   ]
		  },
  {
"cell_type": "code",
	   "execution_count": null,
	   "metadata": {
	    "collapsed": true
	   },
	   "outputs": [],
"source": [
"clc\n",
"clear\n",
"//input data\n",
"N=4//Number of stages in turbine handling\n",
"P=0.4//Stagnation presure ratio between exit and inlet of each stage\n",
"ns1=0.86//Stage efficiency of first and second stages\n",
"ns2=0.84//Stage efficiency of third and fourth stages\n",
"r=1.4//ratio of specific heats for air\n",
"\n",
"//calculations\n",
"u=1-(P)^((r-1)/r)//constant\n",
"T03=(1-(u*ns1))^2//Temperature after the end of first two stages in (K*Cp*T01) where Cp is specific at heat at constant pressure in kJ/kg.K and T01 is initial temperature at entry of stage 1 in K\n",
"W12=u*(1+(1-(u*ns1)))*ns1//Actual work output from first two stages in (kW*Cp*T01)\n",
"W34=T03*u*(1+(1-(u*ns2)))*ns2//Actual work output from last two stages in (kW*Cp*T01)\n",
"W=(W12+W34)//Total actual work output from turbine in (kW*Cp*T01)\n",
"Ws=1-(1-u)^N//Total isentropic work due to single stage compressor in (kW*Cp*T01)\n",
"n=(W/Ws)//Overall turbine efficiency\n",
"\n",
"//output\n",
"printf('the overall efficiency of the turbine is %3.3f',n)\n",
""
   ]
   }
,
{
		   "cell_type": "markdown",
		   "metadata": {},
		   "source": [
			"## Example 1.6: COMPRESSOR_EFFICIENCY.sce"
		   ]
		  },
  {
"cell_type": "code",
	   "execution_count": null,
	   "metadata": {
	    "collapsed": true
	   },
	   "outputs": [],
"source": [
"clc\n",
"clear\n",
"//input data\n",
"P=1400//Pressure developed by compressor in mm W.G\n",
"P1=1.01//Initial pressure of air in bar\n",
"T1=305//Initial temperature of air in K\n",
"T2=320//Final temperature of air in K\n",
"P=1400*9.81*10^-5//Pressure developed by compressor in bar\n",
"r=1.4//ratio of specific heats for air\n",
"\n",
"//calculations\n",
"P2=P1+P//Final pressure of air in bar\n",
"T2s=T1*(P2/P1)^((r-1)/r)//Isentropic temperature at exit in K\n",
"nc=((T2s-T1)/(T2-T1))//compressor efficiency\n",
"np=((r-1)/r)*((log10(P2/P1))/(log10(T2/T1)))//Infinitesimal stage efficiency\n",
"\n",
"//output\n",
"printf('(a)The compressor efficiency is %3.4f\n(b)The infinitesimal stage efficiency is %3.4f',nc,np)"
   ]
   }
,
{
		   "cell_type": "markdown",
		   "metadata": {},
		   "source": [
			"## Example 1.7: INFINITESIMAL_EFFICIENCY.sce"
		   ]
		  },
  {
"cell_type": "code",
	   "execution_count": null,
	   "metadata": {
	    "collapsed": true
	   },
	   "outputs": [],
"source": [
"clc\n",
"clear\n",
"//input data\n",
"P1=1.01//Input pressure to compressor in bar\n",
"T1=305//Input temperature to compressor in K\n",
"P2=3//Output pressure from compressor in bar\n",
"r=1.4//ratio of specific heats for air\n",
"nc=0.75//compressor efficiency\n",
"\n",
"//calculations\n",
"T2s=T1*(P2/P1)^((r-1)/r)//Isentropic output temperature from compressor in K\n",
"T2=T1+((T2s-T1)/nc)//Actual output temperature from compressor in K\n",
"np=((r-1)/r)*((log10(P2/P1))/(log10(T2/T1)))//Infinitesimal efficiency of compressor\n",
"\n",
"//output\n",
"printf('The infinitesimal efficiency of the compressor is %3.3f',np)"
   ]
   }
,
{
		   "cell_type": "markdown",
		   "metadata": {},
		   "source": [
			"## Example 1.8: POLYTROPIC_EFFICIENCY.sce"
		   ]
		  },
  {
"cell_type": "code",
	   "execution_count": null,
	   "metadata": {
	    "collapsed": true
	   },
	   "outputs": [],
"source": [
"clc\n",
"clear\n",
"//input data\n",
"P=2.2//Pressure ratio across a gas turbine\n",
"n=0.88//Efficiency of a gas turbine\n",
"T1=1500//Inlet temperature of the gas in K\n",
"r=1.4//ratio of specific heats for air\n",
"\n",
"//calculations\n",
"T2s=T1*(1/P)^((r-1)/r)//Isentropic output temperature from gas turbine in K\n",
"T2=T1-(n*(T1-T2s))//actual output temperature from gas turbine in K\n",
"np=(r/(r-1))*((log10(T1/T2))/(log10(P)))//Polytropic efficiency of the turbine\n",
"\n",
"//output\n",
"printf('The polytropic efficiency of the turbine is %3.3f',np)\n",
""
   ]
   }
,
{
		   "cell_type": "markdown",
		   "metadata": {},
		   "source": [
			"## Example 1.9: STATES_AND_EFFICIENCIES.sce"
		   ]
		  },
  {
"cell_type": "code",
	   "execution_count": null,
	   "metadata": {
	    "collapsed": true
	   },
	   "outputs": [],
"source": [
"clc\n",
"clear\n",
"// input data\n",
"P=1.3//Pressure ratio of stages\n",
"N=8//Number of stages\n",
"m =45//The flow rate through compressor in kg/s\n",
"nc=0.8//Overall efficiency of the compressor\n",
"P1=1//Initial pressure of the air at entry in bar\n",
"T1=308//Initial temperature of the air at entry in K\n",
"r=1.4//ratio of specific heats for air\n",
"\n",
"//calculations\n",
"PN=(P)^8//Overall pressure ratio of all 8 stages\n",
"TN=PN^((r-1)/r)//Overall temperature ratio of all 8 stages\n",
"TN1s=TN*T1//Ideal exit temperature in K\n",
"TN1=((TN1s-T1)/nc)+T1//Actual exit temperature in K\n",
"PN1=PN*P1//Actual exit pressure in bar\n",
"np=((r-1)/r)*((log10(PN1/P1))/(log10(TN1/T1)))//Polytropic efficiency of the cycle\n",
"ns=((((P)^((r-1)/r))-1)/(((P)^((r-1)/(r*np)))-1))//The stage efficiency of the cycle\n",
"\n",
"//output\n",
"printf('(a)The state of air at compressor exit are\n    (1)actual temperature is %3.1f K\n    (2)actual pressure is %3.2f bar\n(b)The polytropic efficiency of the cycle is %3.2f\n(c)The stage efficiency of the cycle is %3.4f',TN1,PN1,np,ns)"
   ]
   }
],
"metadata": {
		  "kernelspec": {
		   "display_name": "Scilab",
		   "language": "scilab",
		   "name": "scilab"
		  },
		  "language_info": {
		   "file_extension": ".sce",
		   "help_links": [
			{
			 "text": "MetaKernel Magics",
			 "url": "https://github.com/calysto/metakernel/blob/master/metakernel/magics/README.md"
			}
		   ],
		   "mimetype": "text/x-octave",
		   "name": "scilab",
		   "version": "0.7.1"
		  }
		 },
		 "nbformat": 4,
		 "nbformat_minor": 0
}
