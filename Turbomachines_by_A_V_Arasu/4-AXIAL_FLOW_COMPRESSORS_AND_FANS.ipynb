{
"cells": [
 {
		   "cell_type": "markdown",
	   "metadata": {},
	   "source": [
       "# Chapter 4: AXIAL FLOW COMPRESSORS AND FANS"
	   ]
	},
{
		   "cell_type": "markdown",
		   "metadata": {},
		   "source": [
			"## Example 4.10: AIR_AND_BLADE_ANGLES.sce"
		   ]
		  },
  {
"cell_type": "code",
	   "execution_count": null,
	   "metadata": {
	    "collapsed": true
	   },
	   "outputs": [],
"source": [
"clc\n",
"clear\n",
"//input data\n",
"Uh=150//The blade root velocity in m/s\n",
"Um=200//The mean velocity in m/s\n",
"Ut=250//The tip velocity in m/s\n",
"dT0=20//The total change in temperature in K\n",
"Ca1m=150//The axial velocity in m/s\n",
"l=0.93//The work done factor \n",
"Rm=0.5//Reaction at mean radius\n",
"N=9000//Rotational speed in rpm\n",
"R=287//The universal gas constant in J/kg.K\n",
"Cp=1005//The specific heat of air at constant pressure in J/kg.K\n",
"r=1.4//The ratio of specific heats of air\n",
"\n",
"//calculations\n",
"dtb1tb2=((Cp*dT0)/(l*Um*Ca1m))//The difference between the tangent angles of blade angles at mean\n",
"atb1tb2=((2*Rm*Um)/(Ca1m))//The sum of the tangent angles of blade angles at mean\n",
"b1m=atand((atb1tb2+dtb1tb2)/2)//The inlet blade angle in degree at mean\n",
"a2m=b1m//The exit air angle in degree as the Reaction at mean radius is 0.5\n",
"b2m=atand(tand(b1m)-dtb1tb2)//The exit blade angle in degree at mean\n",
"a1m=b2m//The inlet air angle in degree as the reaction at mean radius is 0.5\n",
"Dh=(Uh*60)/(3.141*N)//Hub diameter in m\n",
"Dm=(Um*60)/(3.141*N)//Mean diameter in m\n",
"Cx1m=Ca1m*tand(a1m)//The whirl velocity at inlet at mean in m/s\n",
"Cx2m=Ca1m*tand(a2m)//The whirl velocity at exit at mean in m/s\n",
"Cx1h=(Cx1m*(Dh/2)/(Dm/2))//The whirl velocity at inlet at hub in m/s\n",
"Cx2h=(Cx2m*(Dh/2)/(Dm/2))//The whirl velocity at exit at hub in m/s\n",
"K1=(Ca1m^2)+(2*(Cx1m^2))//Sectional velocity in m/s\n",
"Ca1h=((K1)-(2*(Cx1h^2)))^(1/2)//The axial velocity at hub inlet in (m/s)^2\n",
"w=(2*3.141*N)/60//Angular velocity of blade in rad/s\n",
"K2=(Ca1m^2)+(2*(Cx2m^2))-(2*((Cx2h/(Dh/2))-(Cx1m/(Dm/2))))*(w*(Dm/2)^(2))//Sectional velocity in (m/s)^2\n",
"Ca2h=(K2-(2*Cx2h^2)+(2*((Cx2h/(Dh/2))-(Cx1h/(Dh/2))))*(w*(Dh/2)^(2)))^(1/2)//Axial velocity at hub outlet in m/s\n",
"a1h=atand(Cx1h/Ca1h)//Air angle at inlet in hub in degree\n",
"b1h=atand((Uh-Cx1h)/Ca1h)//Blade angle at inlet in hub in degree\n",
"a2h=atand(Cx2h/Ca2h)//Air angle at exit in hub in degree\n",
"b2h=atand((Uh-Cx2h)/Ca2h)//Blade angle at exit in hub in degree\n",
"W1=Ca1h/cosd(b1h)//Relative velocity at entry in hub in m/s\n",
"W2=Ca2h/cosd(b2h)//Relative velocity at exit in hub in m/s\n",
"Rh=((W1^2)-(W2^2))/(2*Uh*(Cx2h-Cx1h))//The degree of reaction at hub\n",
"Dt=(Ut*60)/(3.141*N)//Tip diameter in m\n",
"Cx1t=(Cx1m*(Dt/2)/(Dm/2))//The whirl velocity at inlet at tip in m/s\n",
"Cx2t=(Cx2m*(Dt/2)/(Dm/2))//The whirl velocity at exit at tip in m/s\n",
"Ca1t=(K1-(2*Cx1t^2))^(1/2)//Axial velocity at tip inlet in m/s\n",
"Ca2t=(K2-(2*Cx2t^2)+(2*((Cx2t/(Dt/2))-(Cx1t/(Dt/2))))*(w*(Dt/2)^(2)))^(1/2)//Axial velocity at tip outlet in m/s\n",
"a1t=atand(Cx1t/Ca1t)//Air angle at inlet in tip in degree\n",
"b1t=atand((Ut-Cx1t)/Ca1t)//Blade angle at inlet in tip in degree\n",
"a2t=atand(Cx2t/Ca2t)//Air angle at exit in tip in degree\n",
"b2t=atand((Ut-Cx2t)/Ca2t)//Blade angle at exit in tip in degree\n",
"W1=Ca1t/cosd(b1t)//Relative velocity at entry in tip in m/s\n",
"W2=Ca2t/cosd(b2t)//Relative velocity at exit in tip in m/s\n",
"Rt=((W1^2)-(W2^2))/(2*Ut*(Cx2t-Cx1t))//The degree of reaction at tip\n",
"\n",
"//output\n",
"printf('(a)At the mean\n    (1)The inlet blade angle is %3.2f degree\n    (2)The inlet air angle is %3.2f degree\n    (3)The outlet blade angle is %3.2f degree\n    (4)The outlet air angle is %3.2f degree\n    (5)Degree of reaction is %3.1f \n(b)At the root\n    (1)The inlet blade angle is %3.2f degree\n    (2)The inlet air angle is %3.1f degree\n    (3)The outlet blade angle is %3.1f degree\n    (4)The outlet air angle is %3.1f degree\n    (5)Degree of reaction is %3.1f\n(c)At the tip\n    (1)The inlet blade angle is %3.2f degree\n    (2)The inlet air angle is %3.2f degree\n    (3)The outlet blade angle is %3.2f degree\n    (4)The outlet air angle is %3.2f degree\n    (5)Degree of reaction is %3.1f\n',b1m,a1m,b2m,a2m,Rm,b1h,a1h,b2h,a2h,Rh,b1t,a1t,b2t,a2t,Rt)\n",
""
   ]
   }
,
{
		   "cell_type": "markdown",
		   "metadata": {},
		   "source": [
			"## Example 4.11: TOTAL_PRESSURE_OF_AIR.sce"
		   ]
		  },
  {
"cell_type": "code",
	   "execution_count": null,
	   "metadata": {
	    "collapsed": true
	   },
	   "outputs": [],
"source": [
"clc\n",
"clear\n",
"//input data\n",
"N=3600//Running speed of blower in rpm\n",
"Dt=0.2//The rotor  tip diameter in m\n",
"Dh=0.125//The rotor hub diameter in m\n",
"P1=1.013//The atmospheric pressure in bar\n",
"T1=298//The atmospheric temperature in K\n",
"m=0.5//Mass flow rate of air in kg/s\n",
"db=20//The turning angle of the rotor in degree\n",
"b1=55//The inlet blade angle in degree \n",
"R=287//The universal gas constant in J/kg.K\n",
"nc=0.9//Total-to-total efficiency\n",
"P=0.25//Total pressure drop across the intake in cm of water\n",
"Cp=1005//The specific heat of air at constant pressure in J/kg.K\n",
"r=1.4//The ratio of specific heats of air\n",
"g=9.81//Acceleration due to gravity in m/s^2\n",
"ns=0.75//The stator efficiency\n",
"dw=1000//Density of water in kg/m^3\n",
"\n",
"//calculations\n",
"d1=(P1*10^5)/(R*T1)//The density of air at inlet in kg/m^3\n",
"A=(3.141/4)*((Dt^2)-(Dh^2))//The area of flow in m^2\n",
"Ca=m/(d1*A)//The axial velocity of air in m/s\n",
"U=((3.141*(Dt+Dh)*N)/(2*60))//Mean rotor blade velocity in m/s\n",
"b2=b1-db//The outlet blade angle in degree\n",
"Cx2=U-(Ca*tand(b2))//The whirl velocity at exit in m/s \n",
"Cx1=0//The whirl velocity at entry in m/s as flow at inlet is axial \n",
"dh0r=U*(Cx2-Cx1)//The actual total enthalpy rise across the rotor in J/kg\n",
"dh0sr=nc*dh0r//The isentropic total enthalpy rise across the rotor in J/kg\n",
"dP0r=(d1*dh0sr)*((10^-1)/(g))//The total pressure rise across the rotor in cm of water\n",
"P0=dP0r-P//Stagnation pressure at the rotor exit in cm of water\n",
"C2=((Ca^2)+(Cx2^2))^(1/2)//The absolute velocity at the exit in m/s\n",
"dPr=dP0r-((d1*((C2^2)-(Ca^2)))/2)*((10^-1)/g)//The static pressure across the rotor in cm of water\n",
"dhs=((C2^2)-(Ca^2))/2//The actual enthalpy change across the stator in J/kg\n",
"dhss=ns*dhs//The theoretical enthalpy change across the stator in J/kg\n",
"dPs=(d1*dhss)*((10^-1)/g)//The static pressure rise across the stator in cm of water\n",
"dP0s=-((dPs/((10^-1)/g))+((d1/2)*(Ca^2-C2^2)))*(10^-1/g)//The change in total pressure across the stator in cm of water\n",
"P03=P0-dP0s//Total pressure at stator inlet in cm of water\n",
"dh0ss=((dw*g*(P03/100))/d1)//Theoretical total enthalpy change across the stage in J/kg\n",
"ntt=dh0ss/dh0r//The overall total-to-total efiiciency\n",
"DR=dPr/(dPr+dPs)//The degree of reaction for the stage\n",
"\n",
"//output\n",
"printf('(a)Total pressure of air exit of rotor is %3.2f cm of water\n(b)The static pressure rise across the rotor is %3.2f cm of water\n(c)The static pressure rise across the stator os %3.2f cm of water\n(d)The change in total pressure across the stator is %3.2f cm of water\n(e)The overall total-to-total efficiency is %3.3f\n(f)The degree of reaction for the stage is %3.3f',P0,dPr,dPs,dP0s,ntt,DR)"
   ]
   }
,
{
		   "cell_type": "markdown",
		   "metadata": {},
		   "source": [
			"## Example 4.12: POWER_REQUIRED_TO_DRIVE_THE_FAN.sce"
		   ]
		  },
  {
"cell_type": "code",
	   "execution_count": null,
	   "metadata": {
	    "collapsed": true
	   },
	   "outputs": [],
"source": [
"clc\n",
"clear\n",
"//input data\n",
"Q=2.5//The amount of air which fan takes in m^3/s\n",
"P1=1.02//The inlet pressure of air in bar\n",
"T1=315//The inlet temperature of air in K\n",
"dH=0.75//The pressure head delivered by axial flow fan in m W.G\n",
"T2=325//The delivery temperature of air in K\n",
"R=287//The universal gas constant in J/kg.K\n",
"Cp=1.005//The specific heat of air at constant pressure in kJ/kg.K\n",
"r=1.4//The ratio of specific heats of air\n",
"g=9.81//Acceleration due to gravity in m/s^2\n",
"\n",
"//calculations\n",
"d=(P1*10^5)/(R*T1)//The density of air in kg/m^3\n",
"m=d*Q//The mass flow rate of air in kg/s\n",
"W=m*Cp*(T2-T1)//Power required to drive the fan in kW\n",
"dP=((10^3)*g*dH)/(10^5)//The overall pressure difference in bar\n",
"P2=P1+(dP)//The exit pressure in bar\n",
"nf=((T1*(((P2/P1)^((r-1)/r))-1))/(T2-T1))//Static fan efficiency\n",
"\n",
"//output\n",
"printf('(a)Mass flow rate through the fan is %3.2f kg/s\n(b)Power required to drive the fan is %3.2f kW\n(c)Static fan efficiency is %3.4f',m,W,nf)"
   ]
   }
,
{
		   "cell_type": "markdown",
		   "metadata": {},
		   "source": [
			"## Example 4.13: FLOW_RATE.sce"
		   ]
		  },
  {
"cell_type": "code",
	   "execution_count": null,
	   "metadata": {
	    "collapsed": true
	   },
	   "outputs": [],
"source": [
"clc\n",
"clear\n",
"//input data\n",
"b2=10//Rotor blade air angle at exit in degree\n",
"Dt=0.6//The tip diameter in m\n",
"Dh=0.3//The hub diameter in m\n",
"N=960//The speed of the fan in rpm\n",
"P=1//Power required by the fan in kW\n",
"pi=0.245//The flow coefficient\n",
"P1=1.02//The inlet pressure in bar\n",
"T1=316//The inlet temperature in K\n",
"R=287//The universal gas constant in J/kg.K\n",
"Cp=1.005//The specific heat of air at constant pressure in kJ/kg.K\n",
"r=1.4//The ratio of specific heats of air\n",
"g=9.81//Acceleration due to gravity in m/s^2\n",
"\n",
"//calculations\n",
"A=(3.141/4)*((Dt^2)-(Dh^2))//Area of the fan at inlet in m^2\n",
"Dm=(Dt+Dh)/2//The mean rotor diameter in m\n",
"U=(3.141*Dm*N)/60//The mean blade speed in m/s\n",
"Ca=pi*U//The axial velocity in m/s\n",
"Q=A*Ca//The flow rate of air in m^3/s\n",
"d=(P1*10^5)/(R*T1)//Density of air in kg/m^3\n",
"dPst=((d*(U^2)*(1-((pi*tand(b2))^2)))/2)*((10^5)/(g*(10^3)))*10^-5//Static pressure across the stage in m W.G\n",
"Wm=U*(U-(Ca*tand(b2)))//Work done per unit mass in J/kg\n",
"m=d*Q//Mass flow rate in kg/s\n",
"W=m*Wm//Work done in W\n",
"no=W/(P*10^3)//Overall efficiency \n",
"\n",
"//output\n",
"printf('(a)THe flow rate is %3.3f m^3/s\n(b)Static pressure rise across the stage is %3.3f m W.G\n(c)The overall efficiency is %3.4f',Q,dPst,no)"
   ]
   }
,
{
		   "cell_type": "markdown",
		   "metadata": {},
		   "source": [
			"## Example 4.14: ROTOR_BLADE_ANGLE.sce"
		   ]
		  },
  {
"cell_type": "code",
	   "execution_count": null,
	   "metadata": {
	    "collapsed": true
	   },
	   "outputs": [],
"source": [
"clc\n",
"clear\n",
"//input data\n",
"b2=10//Rotor blade air angle at exit in degree\n",
"Dt=0.6//The tip diameter in m\n",
"Dh=0.3//The hub diameter in m\n",
"N=960//The speed of the fan in rpm\n",
"P=1//Power required by the fan in kW\n",
"pi=0.245//The flow coefficient\n",
"P1=1.02//The inlet pressure in bar\n",
"T1=316//The inlet temperature in K\n",
"R=287//The universal gas constant in J/kg.K\n",
"Cp=1.005//The specific heat of air at constant pressure in kJ/kg.K\n",
"r=1.4//The ratio of specific heats of air\n",
"g=9.81//Acceleration due to gravity in m/s^2\n",
"\n",
"//calculations\n",
"A=(3.141/4)*((Dt^2)-(Dh^2))//Area of the fan at inlet in m^2\n",
"Dm=(Dt+Dh)/2//The mean rotor diameter in m\n",
"U=(3.141*Dm*N)/60//The mean blade speed in m/s\n",
"Ca=pi*U//The axial velocity in m/s\n",
"Q=A*Ca//The flow rate of air in m^3/s\n",
"d=(P1*10^5)/(R*T1)//Density of air in kg/m^3\n",
"b1=atand(U/Ca)//Rotor blade angle at entry in degree\n",
"dPst=((d*(U^2)*(1-((pi*tand(b2))^2)))/2)//Static pressure rise across the stage in N/m^2\n",
"dPr=dPst//Static pressure rise across the rotor in N/m^2\n",
"Wm=U*(U-(Ca*tand(b2)))//Work done per unit mass in J/kg\n",
"dP0st=d*Wm//Stagnation pressure of the stage in N/m^2\n",
"DR1=dPr/dP0st//Degree of reaction\n",
"DR2=(Ca/(2*U))*(tand(b1)+tand(b2))//Degree of reaction\n",
"\n",
"//output\n",
"printf('(a)Rotor blade angle at entry is %3.2f degree\n(b)Degree of reaction is %3.3f',b1,DR1)"
   ]
   }
,
{
		   "cell_type": "markdown",
		   "metadata": {},
		   "source": [
			"## Example 4.15: OVERALL_EFFICIENCY.sce"
		   ]
		  },
  {
"cell_type": "code",
	   "execution_count": null,
	   "metadata": {
	    "collapsed": true
	   },
	   "outputs": [],
"source": [
"clc\n",
"clear\n",
"//input data\n",
"m=3//Mass flow rate of air in kg/s\n",
"P1=100*10^3//The atmospheric pressure in Pa\n",
"T1=310//The atmospheric temperature in K\n",
"nb=0.8//The efficiency of the blower\n",
"nm=0.85//The mechanical efficiency\n",
"P=30//The power input in kW\n",
"R=287//The universal gas constant in J/kg.K\n",
"g=9.81//Acceleration due to gravity in m/s^2\n",
"dw=1000//Density of water in kg/m^3\n",
"\n",
"//calculations\n",
"no=nb*nm//Overall efficiency of the blower\n",
"d=(P1)/(R*T1)//The density of the air in kg/m^3\n",
"dP=((no*P*10^3)/m)*d//The pressure developed in N/m^2\n",
"dH=((dP)/(g*dw))*(10^3)//The pressure developed in mm W.G\n",
"\n",
"//output\n",
"printf('(a)Overall efficiency of the blower is %3.2f\n(b)The pressure developed is %3.2f mm W.G',no,dH)"
   ]
   }
,
{
		   "cell_type": "markdown",
		   "metadata": {},
		   "source": [
			"## Example 4.16: OVERALL_EFFICIENCY_AND_POWER.sce"
		   ]
		  },
  {
"cell_type": "code",
	   "execution_count": null,
	   "metadata": {
	    "collapsed": true
	   },
	   "outputs": [],
"source": [
"clc\n",
"clear\n",
"//input data\n",
"psi=0.4//Pressure coefficient \n",
"m=3.5//Mass flow rate of air in kg/s\n",
"N=750//The speed of fan in rpm\n",
"T1=308//The static temperature at the entry in K\n",
"Dh=0.26//The hub diameter in m\n",
"DhDt=1/3//The hub to tip ratio\n",
"P1=98.4*10^3//The static pressure at entry in Pa\n",
"nm=0.9//The mechanical efficiency\n",
"nf=0.79//Static fan efficiency\n",
"R=287//The universal gas constant in J/kg.K\n",
"Cp=1.005//The specific heat of air at constant pressure in kJ/kg.K\n",
"r=1.4//The ratio of specific heats of air\n",
"g=9.81//Acceleration due to gravity in m/s^2\n",
"dw=1000//Density of water in kg/m^3\n",
"\n",
"//calculations\n",
"no=nm*nf//Overall efficiency\n",
"Dt=Dh/DhDt//The tip diameter in m\n",
"Dm=(Dt+Dh)/2//Mean rotor diameter in m\n",
"U=(3.141*Dm*N)/60//The mean blade speed in m/s\n",
"dPd=((U^2)/2)*psi//The ratio of change in pressure to density in J/kg\n",
"Wi=dPd*m//The ideal work in W\n",
"P=Wi/nm//The power required by the fan in W\n",
"d=P1/(R*T1)//The density of the air in kg/m^3\n",
"A=(3.141/4)*((Dt^2)-(Dh^2))//Area of cross section of the fan in m^2\n",
"Ca=m/(d*A)//The axial velocity of air in m/s\n",
"pi=Ca/U//The flow coefficient\n",
"tb1tb2=psi/(2*pi)//The difference between tangent angles of rotor inlet and exit angles\n",
"b2=atand((1-(dPd/U^2))/pi)//The exit rotor angle in degree\n",
"b1=atand((tand(b2))+(tb1tb2))//The inlet rotor angle in degree\n",
"dP=d*dPd//The pressure developed in N/m^2\n",
"dH=(dP/(dw*g))*10^3//Pressure developed in mm of W.G\n",
"\n",
"//output\n",
"printf('(a)The overall efficiency is %3.3f\n,(b)The power required by the fan is %3.2f W\n(c)The flow coefficient is %3.2f\n(d)\n    (1)The rotor inlet angle is %3.2f degree\n    (2)The rotor exit angle is %3.2f degree\n(e)The pressure developed is %3.2f mm of W.G',no,P,pi,b1,b2,dH)"
   ]
   }
,
{
		   "cell_type": "markdown",
		   "metadata": {},
		   "source": [
			"## Example 4.1: PRESSURE_RISE.sce"
		   ]
		  },
  {
"cell_type": "code",
	   "execution_count": null,
	   "metadata": {
	    "collapsed": true
	   },
	   "outputs": [],
"source": [
"clc\n",
"clear\n",
"//input data\n",
"b1=60//The angle made by the relative velocity vector at exit in degree\n",
"db=30//The turning angle in degree\n",
"dCx=100//The change in the tangential velocities in m/s\n",
"DR=0.5//Degree of reaction\n",
"N=36000//The speed of the compressor in rpm\n",
"D=0.14//Mean blade diameter in m\n",
"P1=2//Inlet pressure in bar\n",
"T1=330//Inlet temperature in K\n",
"b=0.02//Blade height in m\n",
"R=287//The universal gas constant in J/kg.K\n",
"Cp=1.005//The specific heat of air at constant pressure in kJ/kg.K\n",
"r=1.4//The ratio of specific heats of air\n",
"\n",
"//calculations\n",
"b2=b1-db//The angle made by the relative velocity vector at entry in degree\n",
"a1=b2//Air flow angle at exit in degree as DR=0.5\n",
"U=(3.1415*D*N)/60//The blade mean speed in m/s\n",
"T2=((U*dCx)/(Cp*1000))+T1//The exit air temperature in K\n",
"P2=P1*(T2/T1)^(r/(r-1))//The exit air pressure in bar\n",
"dP=P2-P1//The pressure rise in bar\n",
"Ca=(2*U*DR)/(tand(b2)+tand(b1))//The axial velocity in m/s\n",
"A1=3.1415*D*b//The inlet flow area in m^2\n",
"d1=(P1*10^5)/(R*T1)//The inlet air density in kg/m^3\n",
"m=d1*A1*Ca//The amount of air handled in kg/s\n",
"W=m*Cp*(T2-T1)//The power developed in kW\n",
"\n",
"//output\n",
"printf('(a)Air flow angle at exit is %3i degree\n(b)The pressure rise is %3.2f bar\n(c)The amount of air handled is %3.2f kg/s\n(d)The power developed is %3.1f kW',a1,dP,m,W)"
   ]
   }
,
{
		   "cell_type": "markdown",
		   "metadata": {},
		   "source": [
			"## Example 4.2: TOTAL_HEAD_ISENTROPIC_EFFICIENCY.sce"
		   ]
		  },
  {
"cell_type": "code",
	   "execution_count": null,
	   "metadata": {
	    "collapsed": true
	   },
	   "outputs": [],
"source": [
"clc\n",
"clear\n",
"//input data\n",
"P01=1//Atmospheric pressure at inlet in bar\n",
"T01=291//Atmospheric temperature at inlet in K\n",
"T02=438//Total head temperature in delivery pipe in K \n",
"P02=3.5//Total head pressure in delivery pipe in bar\n",
"P2=3//Staic pressure in delivery pipe in bar\n",
"R=287//The universal gas constant in J/kg.K\n",
"Cp=1005//The specific heat of air at constant pressure in J/kg.K\n",
"r=1.4//The ratio of specific heats of air\n",
"\n",
"//calculations \n",
"T02s=T01*(P02/P01)^((r-1)/r)//Total isentropic head temperature in delivery pipe in K \n",
"nc=(T02s-T01)/(T02-T01)//Total head isentropic efficiency\n",
"np=((log10(P02/P01))/((r/(r-1))*(log10(T02/T01))))//Polytropic efficiency\n",
"T2=T02*(P2/P02)^((r-1)/r)//Static temperature in delivery pipe in K\n",
"C2=(2*Cp*(T02-T2))^(1/2)//The air velocity in delivery pipe in m/s\n",
"\n",
"//output\n",
"printf('(a)Total head isentropic efficiency is %3.3f\n(b)Polytropic efficiency %3.3f\n(c)The air velocity in delivery pipe is %3.2f m/s',nc,np,C2)"
   ]
   }
,
{
		   "cell_type": "markdown",
		   "metadata": {},
		   "source": [
			"## Example 4.3: POWER_REQUIRED.sce"
		   ]
		  },
  {
"cell_type": "code",
	   "execution_count": null,
	   "metadata": {
	    "collapsed": true
	   },
	   "outputs": [],
"source": [
"clc\n",
"clear\n",
"//input data\n",
"N=8//Number of stages\n",
"Po=6//Overall pressure ratio \n",
"T01=293//Temperature of air at inlet in K\n",
"nc=0.9//Overall isentropic efficiency\n",
"DR=0.5//Degree of reaction \n",
"U=188//Mean blade speed in m/s\n",
"Ca=100//Constant axial velocity in m/s\n",
"R=287//The universal gas constant in J/kg.K\n",
"Cp=1005//The specific heat of air at constant pressure in J/kg.K\n",
"r=1.4//The ratio of specific heats of air\n",
"\n",
"//calculations\n",
"T0n1s=T01*(Po)^((r-1)/r)//The isentropic temperature of air leaving compressor stage in K\n",
"T0n1=((T0n1s-T01)/nc)+T01//The temperature of air leaving compressor stage in K\n",
"dta2ta1=(Cp*(T0n1-T01))/(N*U*Ca)//The difference between tan angles of air exit and inlet\n",
"sta1tb1=U/Ca//The sum of tan of angles of air inlet and the angle made by the relative velocity \n",
"b1=atand((dta2ta1+sta1tb1)/2)//The angle made by the relative velocity vector at exit in degree as the DR=1 then a2=b1\n",
"a1=atand(tand(b1)-dta2ta1)//Air flow angle at exit in degree\n",
"W=Cp*(T0n1-T01)*10^-3//Power required per kg of air/s in kW\n",
"\n",
"//output\n",
"printf('(a)Power required is %3.2f kW\n(b)\n    (1)Air flow angle at exit is %3i degree \n    (2)The angle made by the relative velocity vector at exit is %3i degree',W,a1,b1)"
   ]
   }
,
{
		   "cell_type": "markdown",
		   "metadata": {},
		   "source": [
			"## Example 4.4: PRESSURE_AT_OUTLET.sce"
		   ]
		  },
  {
"cell_type": "code",
	   "execution_count": null,
	   "metadata": {
	    "collapsed": true
	   },
	   "outputs": [],
"source": [
"clc\n",
"clear\n",
"//input data\n",
"W=4.5//Power absorbed by the compressor in MW\n",
"m=20//Amount of air delivered in kg/s\n",
"P01=1//Stagnation pressure of air at inlet in bar\n",
"T01=288//Stagnation temperature of air at inlet in K\n",
"np=0.9//Polytropic efficiency of compressor\n",
"dT0=20//Temperature rise in first stage in K\n",
"R=287//The universal gas constant in J/kg.K\n",
"Cp=1.005//The specific heat of air at constant pressure in kJ/kg.K\n",
"r=1.4//The ratio of specific heats of air\n",
"\n",
"\n",
"//calculations\n",
"T02=T01+dT0//Stagnation temperature of air at outlet in K\n",
"T0n1=((W*10^3)/(m*Cp))+T01//The temperature of air leaving compressor stage in K\n",
"P0n1=P01*(T0n1/T01)^((np*r)/(r-1))//Pressure at compressor outlet in bar\n",
"P1=(T02/T01)^((np*r)/(r-1))//The pressure ratio at the first stage \n",
"N=((log10(P0n1/P01)/log10(P1)))//Number of stages \n",
"T0n1T01=(P0n1/P01)^((r-1)/(np*r))//The temperature ratio at the first stage\n",
"T0n1sT01=(P0n1/P01)^((r-1)/r)//The isentropic temperature ratio at the first stage\n",
"nc=((T0n1sT01-1)/(T0n1T01-1))//The overall isentropic efficiency\n",
"\n",
"//output\n",
"printf('(a)Pressure at compressor outlet is %3.2f bar\n(b)Number of stages is %3.f\n(c)The overall isentropic efficiency is %3.3f',P0n1,N,nc)"
   ]
   }
,
{
		   "cell_type": "markdown",
		   "metadata": {},
		   "source": [
			"## Example 4.5: NUMBER_OF_STAGES.sce"
		   ]
		  },
  {
"cell_type": "code",
	   "execution_count": null,
	   "metadata": {
	    "collapsed": true
	   },
	   "outputs": [],
"source": [
"clc\n",
"clear\n",
"//input data\n",
"DR=0.5//Degree of reaction\n",
"b1=44//Blade inlet angle in degree\n",
"b2=13//Blade outlet angle in degree\n",
"Po=5//The pressure ratio produced by the compressor\n",
"nc=0.87//The overall isentropic efficiency\n",
"T01=290//Inlet temperature in K\n",
"U=180//Mean blade speed in m/s\n",
"l=0.85//Work input factor\n",
"R=0.287//The universal gas constant in kJ/kg.K\n",
"Cp=1005//The specific heat of air at constant pressure in J/kg.K\n",
"r=1.4//The ratio of specific heats of air\n",
"\n",
"//calculations\n",
"a2=b1//Air flow angle at entry in degree as DR=0.5\n",
"a1=b2//Air flow angle at exit in degree as DR=0.5\n",
"T0n1s=T01*(Po)^((r-1)/r)//The isentropic temperature of air leaving compressor stage in K\n",
"T0n1=((T0n1s-T01)/nc)+T01//The temperature of air leaving compressor stage in K\n",
"Ca=U/(tand(b2)+tand(b1))//The axial velocity in m/s\n",
"N=((Cp*(T0n1-T01))/(l*U*Ca*(tand(a2)-tand(a1))))//The number of stages \n",
"ds=(Cp*(10^-3)*log(T0n1/T01))-(R*log(Po))//Change in entropy in kJ/kg.K\n",
"\n",
"//output\n",
"printf('(a)The number of stages are %3.f\n(b)The change in entropy is %3.3f kJ/kg-K',N,ds)"
   ]
   }
,
{
		   "cell_type": "markdown",
		   "metadata": {},
		   "source": [
			"## Example 4.6: DEGREE_OF_REACTION.sce"
		   ]
		  },
  {
"cell_type": "code",
	   "execution_count": null,
	   "metadata": {
	    "collapsed": true
	   },
	   "outputs": [],
"source": [
"clc\n",
"clear\n",
"//input data\n",
"D=0.6//Mean diameter of compressor in m\n",
"N=15000//Running speed of the compressor in rpm\n",
"dT=30//Actual overall temperature raise in K\n",
"PR=1.3//Pressure ratio of all stages\n",
"m=57//Mass flow rate of air in kg/s\n",
"nm=0.86//Mechanical efficiency\n",
"T1=308//Initial temperature in K\n",
"T2=328//Temperature at rotor exit in K\n",
"r=1.4//The ratio of specific heats of air\n",
"Cp=1.005//The specific heat of air at constant pressure in kJ/kg.K\n",
"\n",
"//calculations\n",
"W=m*Cp*dT//Work done in kW\n",
"P=W/nm//Power required in kW\n",
"ns=((T1*((PR^((r-1)/r))-1))/(dT))//Stage efficiency\n",
"R=(T2-T1)/(dT)//Reaction ratio\n",
"\n",
"//output\n",
"printf('(a)Power required to drive the compressor is %3.3f kW\n(b)The stage efficiency is %3.4f\n(c)The degree of reaction is %3.2f',P,ns,R)"
   ]
   }
,
{
		   "cell_type": "markdown",
		   "metadata": {},
		   "source": [
			"## Example 4.7: COMPRESSOR_SPEED.sce"
		   ]
		  },
  {
"cell_type": "code",
	   "execution_count": null,
	   "metadata": {
	    "collapsed": true
	   },
	   "outputs": [],
"source": [
"clc\n",
"clear\n",
"//input data\n",
"Pr=2//The pressure ratio of first stage\n",
"P1=1.01//The inlet pressure in bar\n",
"T1=303//The inlet temperature in K\n",
"nc=0.83//Overall efficency of the compressor\n",
"pi=0.47//The flow coefficient\n",
"dCxCa=0.5//Ratio of change of whirl velocity to axial velocity\n",
"D=0.5//Mean diameter in m\n",
"r=1.4//The ratio of specific heats of air\n",
"Cp=1005//The specific heat of air at constant pressure in J/kg.K\n",
"\n",
"//calculations\n",
"dT=T1*((Pr^((r-1)/r))-1)/nc//The Actual overall temperature raise in K\n",
"dCx=dCxCa*pi//The change of whirl velocity in m/s\n",
"U=(dT*Cp/dCx)^(1/2)//The mean blade speed in m/s\n",
"N=(U*60)/(3.1415*D)//Speed at which compressor runs in rpm\n",
"Cx2=(U+(dCx*U))/2//The whirl velocity at exit in m/s\n",
"Cx1=U-Cx2//The whirl velocity at entry in m/s\n",
"Ca=pi*U//The axial velocity in m/s\n",
"C1=((Ca^2)+(Cx1^2))^(1/2)//The inlet absolute velocity of air in m/s\n",
"\n",
"//output\n",
"printf('(a)The compressor speed is %3i rpm\n(b)The absolute velocity of air is %3.2f m/s',N,C1)"
   ]
   }
,
{
		   "cell_type": "markdown",
		   "metadata": {},
		   "source": [
			"## Example 4.8: TIP_RADIUS_AND_ANGLES.sce"
		   ]
		  },
  {
"cell_type": "code",
	   "execution_count": null,
	   "metadata": {
	    "collapsed": true
	   },
	   "outputs": [],
"source": [
"clc\n",
"clear\n",
"//input data\n",
"N=9000//The rotational speed in rpm\n",
"dT0=20//The stagnation temperature rise in K\n",
"DhDt=0.6//The hub to tip ratio\n",
"l=0.94//The work donee factor\n",
"ns=0.9//The isentropic efficiency of the stage\n",
"C1=150//Inlet velocity in m/s\n",
"P01=1//The ambient pressure in bar\n",
"T01=300//The ambient temperature in K\n",
"Mr1=0.92//Mach number relative to tip \n",
"R=287//The universal gas constant in J/kg.K\n",
"Cp=1005//The specific heat of air at constant pressure in kJ/kg.K\n",
"r=1.4//The ratio of specific heats of air\n",
"g=9.81//Acceleration due to gravity in m/s^2\n",
"\n",
"//calculations\n",
"T1=T01-((C1^2)/(2*Cp))//The inlet temperature in K\n",
"W1=Mr1*(r*R*T1)^(1/2)//The relative velocity at entry in m/s\n",
"b11=acosd((C1)/(W1))//The inlet rotor angle at tip in degree\n",
"Ut=W1*sind(b11)//Tip speed in m/s\n",
"rt=(Ut*60)/(2*3.1415*N)//The tip radius in m\n",
"b12=atand((tand(b11))-((Cp*dT0)/(l*Ut*C1)))//The outlet rotor angle at tip in degree\n",
"P1=P01*(T1/T01)^(r/(r-1))//The inlet pressure in bar\n",
"d1=(P1*10^5)/(R*T1)//The density of air at the entry in kg/m^3\n",
"Dt=2*rt//The tip diameter in m\n",
"Dh=DhDt*(Dt)//The hub diameter in m\n",
"A1=(3.141/4)*((Dt^2)-(Dh^2))//The area of cross section at the entry in m^2\n",
"rm=((Dt/2)+(Dh/2))/2//The mean radius in m\n",
"h=((Dt/2)-(Dh/2))//The height of the blade in m\n",
"A=2*3.1415*rm*h//The area of the cross section in m^2\n",
"m=d1*A*C1//The mass flow rate in kg/s\n",
"P03P01=(1+((ns*dT0)/T01))^(r/(r-1))//The stagnation pressure ratio \n",
"P=m*Cp*dT0*10^-3//The power required in kW\n",
"Uh=(3.1415*Dh*N)/60//The hub speed in m/s\n",
"b21=atand(Uh/C1)//The rotor air angle at entry in degree\n",
"b22=atand(tand(b21)-((Cp*dT0)/(l*Uh*C1)))//The rotor air angle at exit in degree\n",
"\n",
"//output\n",
"printf('(a)\n    (1)The tip radius is %3.3f m\n    (2)The rotor entry angle at tip section is %3.1f degree\n    (3)The rotor exit angle at tip section is %3.2f degree\n(b)Mass flow entering the stage is %3.3f kg/s\n(c)\n    (1)The stagnation pressure ratio is %3.3f\n    (2)The power required is %3.2f kW\n(d)\n    (1)The rotor air angle at entry is %3.2f degree\n    (2)The rotor air angle at exit is %3.2f degree',rt,b11,b12,m,P03P01,P,b21,b22)\n",
""
   ]
   }
,
{
		   "cell_type": "markdown",
		   "metadata": {},
		   "source": [
			"## Example 4.9: STAGE_AIR_AND_BLADE_ANGLES.sce"
		   ]
		  },
  {
"cell_type": "code",
	   "execution_count": null,
	   "metadata": {
	    "collapsed": true
	   },
	   "outputs": [],
"source": [
"clc\n",
"clear\n",
"//input data\n",
"Ur=150//The blade root velocity in m/s\n",
"Um=200//The mean velocity in m/s\n",
"Ut=250//The tip velocity in m/s\n",
"dT0=20//The total change in temperature in K\n",
"Ca=150//The axial velocity in m/s\n",
"l=0.93//The work done factor \n",
"Rm=0.5//Reaction at mean radius\n",
"R=287//The universal gas constant in J/kg.K\n",
"Cp=1005//The specific heat of air at constant pressure in J/kg.K\n",
"r=1.4//The ratio of specific heats of air\n",
"\n",
"//calculations\n",
"dtb1tb2=((Cp*dT0)/(l*Um*Ca))//The difference between the tangent angles of blade angles at mean\n",
"atb1tb2=((2*Rm*Um)/(Ca))//The sum of the tangent angles of blade angles at mean\n",
"b1m=atand((atb1tb2+dtb1tb2)/2)//The inlet blade angle in degree at mean\n",
"a2m=b1m//The exit air angle in degree as the Reaction at mean radius is 0.5\n",
"b2m=atand(tand(b1m)-dtb1tb2)//The exit blade angle in degree at mean\n",
"a1m=b2m//The inlet air angle in degree as the reaction at mean radius is 0.5\n",
"rmrh=Um/Ur//The ratio of radii of mean and root velocities at hub\n",
"a1h=atand(tand(a1m)*(rmrh))//The inlet air angle in degree at hub\n",
"b1h=atand((Ur/Ca)-(tand(a1h)))//The inlet blade angle in degree at hub\n",
"a2h=atand(tand(a2m)*(rmrh))//The outlet air angle in degree at hub\n",
"b2h=atand((Ur/Ca)-(tand(a2h)))//The outlet blade angle in degree at hub\n",
"Rh=((Ca*(tand(b1h)+tand(b2h)))/(2*Ur))//The degree of reaction at the hub\n",
"rmrt=Um/Ut//The ratio of radii of mean and tip velocities at tip\n",
"a1t=atand(tand(a1m)*(rmrt))//The inlet air angle in degree at tip\n",
"b1t=atand((Ut/Ca)-(tand(a1t)))//The inlet blade angle in degree at tip\n",
"a2t=atand(tand(a2m)*(rmrt))//The outlet air angle in degree at tip\n",
"b2t=atand((Ut/Ca)-(tand(a2t)))//The outlet blade angle in degree at tip\n",
"Rt=((Ca*(tand(b1t)+tand(b2t)))/(2*Ut))//The degree of reaction at tip\n",
"\n",
"//output\n",
"printf('(a)At the mean\n    (1)The inlet blade angle is %3.2f degree\n    (2)The inlet air angle is %3.2f degree\n    (3)The outlet blade angle is %3.2f degree\n    (4)The outlet air angle is %3.2f degree\n    (5)Degree of reaction is %3.1f \n(b)At the root\n    (1)The inlet blade angle is %3.2f degree\n    (2)The inlet air angle is %3.2f degree\n    (3)The outlet blade angle is %3.2f degree\n    (4)The outlet air angle is %3.2f degree\n    (5)Degree of reaction is %3.3f\n(c)At the tip\n    (1)The inlet blade angle is %3.2f degree\n    (2)The inlet air angle is %3.2f degree\n    (3)The outlet blade angle is %3.2f degree\n    (4)The outlet air angle is %3.2f degree\n    (5)Degree of reaction is %3.3f\n',b1m,a1m,b2m,a2m,Rm,b1h,a1h,b2h,a2h,Rh,b1t,a1t,b2t,a2t,Rt)"
   ]
   }
],
"metadata": {
		  "kernelspec": {
		   "display_name": "Scilab",
		   "language": "scilab",
		   "name": "scilab"
		  },
		  "language_info": {
		   "file_extension": ".sce",
		   "help_links": [
			{
			 "text": "MetaKernel Magics",
			 "url": "https://github.com/calysto/metakernel/blob/master/metakernel/magics/README.md"
			}
		   ],
		   "mimetype": "text/x-octave",
		   "name": "scilab",
		   "version": "0.7.1"
		  }
		 },
		 "nbformat": 4,
		 "nbformat_minor": 0
}
