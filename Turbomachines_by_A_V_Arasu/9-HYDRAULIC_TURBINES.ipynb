{
"cells": [
 {
		   "cell_type": "markdown",
	   "metadata": {},
	   "source": [
       "# Chapter 9: HYDRAULIC TURBINES"
	   ]
	},
{
		   "cell_type": "markdown",
		   "metadata": {},
		   "source": [
			"## Example 9.10: ABSOLUTE_VELOCITY_OF_WATER_AT_ENTRY.sce"
		   ]
		  },
  {
"cell_type": "code",
	   "execution_count": null,
	   "metadata": {
	    "collapsed": true
	   },
	   "outputs": [],
"source": [
"clc\n",
"clear\n",
"//input data\n",
"D=1.4//Diameter of the turbine in m\n",
"N=430//Speed of the turbine in rpm\n",
"Cr1=9.5//Flow velocity without shock at runner in m/s\n",
"C2=7//Absolute velocity at the exit without whirl in /s\n",
"dSPH=62//Difference between the sum of static and potential heads at entrance to runner and at exit from runner in m\n",
"W=12250//Power given to runner in kW\n",
"Q=12//Flow rate of water from the turbine in m^3/s\n",
"H=115//Net head from the turbine in m\n",
"g=9.81//Acceleration due to gravity in m/s^2\n",
"dw=1000//Density of water in kg/m^3\n",
"\n",
"//calculations\n",
"U1=(3.1415*D*N)/60//Runner tip speed in m/s\n",
"Cx1=(W*10^3)/(dw*Q*U1)//Absolute inlet velocity in m/s    as flow is radial at outlet Cx2=0  in m/s as Cx2=0 as zero whirl at outlet\n",
"a1=atand(Cr1/Cx1)//Guide vane angle in degree\n",
"C1=(Cr1^2+Cx1^2)^(1/2)//Inlet velocity in  m/s\n",
"b1=atand(Cr1/(Cx1-U1))//Runner blade entry angle in degree\n",
"dHr=dSPH+(((C1^2)-(C2^2))/(2*g))-(U1*Cx1/g)//Loss of head in the runner in m\n",
"\n",
"//output\n",
"printf('(a)\n    (1)Guide vane angle at inlet is %3.1f degree\n    (2)Inlet absolute velocity of water at entry to runner is %3.1f m/s\n(b)Runner blade entry angle is %3.1f degree\n(c)Total Loss of head in the runner is %3.2f m',a1,C1,b1,dHr)"
   ]
   }
,
{
		   "cell_type": "markdown",
		   "metadata": {},
		   "source": [
			"## Example 9.11: RUNNER_BLADE_ANGLES.sce"
		   ]
		  },
  {
"cell_type": "code",
	   "execution_count": null,
	   "metadata": {
	    "collapsed": true
	   },
	   "outputs": [],
"source": [
"clc\n",
"clear\n",
"//input data\n",
"D1=0.9//External diameter of the turbine in m\n",
"D2=0.45//Internal diameter of the turbine in m\n",
"N=200//Speed of turbine running in rpm\n",
"b1=0.2//Width of turbine at inlet in m\n",
"Cr1=1.8//Velocity of flow through runner at inlet in m/s\n",
"Cr2=Cr1//Velocity of flow through runner at outlet in m/s\n",
"a11=10//Guide blade angle to the tangent of the wheel in degree\n",
"a22=90//Discharge angle at outlet of turbine in degree\n",
"g=9.81//Acceleration due to gravity in m/s^2\n",
"dw=1000//Density of water in kg/m^3\n",
"\n",
"//calculations\n",
"C1=Cr1/sind(a11)//Absolute velocity of water at inlet of runner in m/s\n",
"Cx1=Cr1/tand(a11)//Velocity of whirl at inlet in m/s\n",
"U1=(3.1415*D1*N)/60//Runner tip speed at inlet in m/s\n",
"Wx1=Cx1-U1//Inlet whirl velocity component in m/s\n",
"W1=(Wx1^2+Cr1^2)^(1/2)//Relative velocity at inlet in m/s\n",
"b11=atand(Cr1/Wx1)//Runner blade entry angle in degree\n",
"U2=(3.1415*D2*N)/60//Runner tip speed at exit in m/s\n",
"b22=atand(Cr2/U2)//Runner blade exit angle in degree\n",
"b2=D1*b1/D2//Width of runner at outlet in m\n",
"Q=3.1415*D1*b1*Cr1//Discharge of water in turbine in m^3/s\n",
"m=dw*Q//Mass of water flowing through runner per second in kg/s\n",
"V2=Cr2//Velocity of water at exit in m/s \n",
"H=(U1*Cx1/g)+(V2^2/(2*g))//Head at the turbine inlet in m\n",
"W=m*U1*Cx1*10^-3//Power developed in kW\n",
"nH=(U1*Cx1/(g*H))//Hydraulic efficiency\n",
"\n",
"//output\n",
"printf('(a)Absolute velocity of water at inlet of runner is %3.3f m/s\n(b)Velocity of whirl at inlet is %3.3f m/s\n(c)Relative velocity at inlet is %3.3f m/s\n(d)\n    Runner blade entry angle is %3.2f degree\n    Runner blade exit angle is %3.2f degree\n(e)Width of runner at outlet is %3.1f m\n(f)Mass of water flowing through runner per second is %3.f kg/s\n(g)Head at the turbine inlet is %3.3f m\n(h)Power developed is %3.3f kW\n(i)Hydraulic efficiency is %3.4f',C1,Cx1,W1,b11,b22,b2,m,H,W,nH)"
   ]
   }
,
{
		   "cell_type": "markdown",
		   "metadata": {},
		   "source": [
			"## Example 9.12: DESIGN_OF_INWARD_FLOW_FRANCIS_TURBINE.sce"
		   ]
		  },
  {
"cell_type": "code",
	   "execution_count": null,
	   "metadata": {
	    "collapsed": true
	   },
	   "outputs": [],
"source": [
"clc\n",
"clear\n",
"//input data\n",
"P=330//Power output from the turbine is kW\n",
"H=70//Head of operating turbine in m\n",
"N=750//Speed of the turbine in rpm\n",
"nH=0.94//Hydraulic efficiency\n",
"n0=0.85//Overall efficiency\n",
"FR=0.15//Flow ratio \n",
"BR=0.1//Breadth ratio\n",
"D1D2=2//Ratio inner and outer diameter of runner\n",
"g=9.81//Acceleration due to gravity in m/s^2\n",
"dw=1000//Density of water in kg/m^3\n",
"\n",
"//calculations\n",
"Cr1=FR*(2*g*H)^(1/2)//Flow velocity at inlet in m/s\n",
"Q=(P*10^3)/(dw*g*H*n0)//Discharge at outlet in m^3/s\n",
"D1=(Q/(nH*3.1415*BR*Cr1))^(1/2)//Runner inlet diameter in m\n",
"b1=BR*D1//Height of the runner vanes at inlet in m\n",
"U1=(3.1415*D1*N)/60//Runner tip speed at inlet in m/s\n",
"Cx1=(nH*g*H)/(U1)//Velocity of whirl at inlet in m/s\n",
"a11=atand(Cr1/Cx1)//Guide blade angle in degree\n",
"b11=atand(Cr1/(Cx1-U1))//Runner vane angle at inlet in degree\n",
"D2=D1/D1D2//Runner outlet diameter in m\n",
"U2=(3.1415*D2*N)/60//Runner tip speed at outlet in m/s\n",
"Cr2=Cr1//Flow velocity at outlet in m/s\n",
"b22=atand(Cr2/U2)//Runner vane angle at outlet in degree\n",
"b2=D1*b1/D2//Width at outlet in m\n",
"\n",
"//output\n",
"printf('(a)Flow velocity at inlet is %3.2f m/s\n(b)Discharge at outlet is %3.3f m^3/s\n(c)Runner inlet diameter is %3.3f m\n(d)Height of the runner vanes at inlet is %3.4f m\n(e)Guide blade angle is %3.2f degree\n(f)    Runner vane angle at inlet is %3.2f degree\n       Runner vane angle at outlet is %3.2f degree\n(g)Runner outlet diameter is %3.4f m\n(h)Width at outlet is %3.4f m\n(i)Runner tip speed at inlet is %3.2f m/s\n(j)Velocity of whirl at inlet is %3.f m/s',Cr1,Q,D1,b1,a11,b11,b22,D2,b2,U1,Cx1)"
   ]
   }
,
{
		   "cell_type": "markdown",
		   "metadata": {},
		   "source": [
			"## Example 9.13: SPEED_OF_THE_WHEEL.sce"
		   ]
		  },
  {
"cell_type": "code",
	   "execution_count": null,
	   "metadata": {
	    "collapsed": true
	   },
	   "outputs": [],
"source": [
"clc\n",
"clear\n",
"//input data\n",
"H=30//Working head of the turbine in m\n",
"D1=1.2//Inlet wheel diameter in m\n",
"D2=0.6//Outlet wheel diameter in m\n",
"b11=90//Vane angle at entrance in degree\n",
"a11=15//Guide blade angle in degree\n",
"Cx2=0//Velocity of whirl at inlet in m/s\n",
"g=9.81//Acceleration due to gravity in m/s^2\n",
"dw=1000//Density of water in kg/m^3\n",
"\n",
"//calculations\n",
"U11=1/tand(a11)//Runner tip speed at inlet in m/s in terms of Cr1\n",
"Cr1=(H/((U11^2/g)+(1/(2*g))))^(1/2)//Flow velocity at inlet in m/s\n",
"Cr2=Cr1//Flow velocity at outlet in m/s\n",
"U1=Cr1*U11//Runner tip speed at inlet in m/s  \n",
"N=(60*U1)/(3.1415*D1)//Speed of the wheel in rpm\n",
"U2=(3.1415*D2*N)/60//Runner tip speed at inlet in m/s \n",
"b22=atand(Cr2/U2)//Vane angle at exit in degree\n",
"\n",
"//output\n",
"printf('(a)Speed of the wheel is %3.2f rpm\n(b)Vane angle at exit is %3.2f degree',N,b22)"
   ]
   }
,
{
		   "cell_type": "markdown",
		   "metadata": {},
		   "source": [
			"## Example 9.14: HYDRAULIC_EFFICIENCY.sce"
		   ]
		  },
  {
"cell_type": "code",
	   "execution_count": null,
	   "metadata": {
	    "collapsed": true
	   },
	   "outputs": [],
"source": [
"clc\n",
"clear\n",
"//input data\n",
"D1=0.6//Internal runner diameter in m\n",
"D2=1.2//External runner diameter in m\n",
"a11=15//Guide blade angle in degree\n",
"Cr1=4//Flow velocity at inlet in m/s\n",
"Cr2=Cr1//Flow velocity at outlet in m/s\n",
"N=200//Speed of the turbine in rpm\n",
"H=10//Head of the turbine in m\n",
"a22=90//Discharge angle at outlet in degree\n",
"g=9.81//Acceleration due to gravity in m/s^2\n",
"dw=1000//Density of water in kg/m^3\n",
"\n",
"//calculations\n",
"U1=(3.1415*D1*N)/60//Runner tip speed at inlet in m/s \n",
"U2=(3.1415*D2*N)/60//Runner tip speed at outlet in m/s \n",
"Cx1=Cr1/tand(a11)//Velocity of whirl at inlet in m/s\n",
"Wx1=Cx1-U1//Inlet whirl velocity component in m/s\n",
"b11=atand(Cr1/Wx1)//Vane angle at entrance in degree\n",
"b22=atand(Cr2/U2)//Vane angle at exit in degree\n",
"Wm=U1*Cx1//Work one per unit mass flow rate in W/(kg/s)     as Cx2=0 in m/s\n",
"nH=(U1*Cx1/(g*H))//Hydraulic efficiency \n",
"\n",
"//output\n",
"printf('(a)\n    Inlet vane angle is %3.2f degree\n    Outlet vane angle is %3.2f degree\n(b)Work done by the water on the runner per kg of water is %3.2f W/(kg/s)\n(c)Hydraulic efficiency is %3.4f',b11,b22,Wm,nH)"
   ]
   }
,
{
		   "cell_type": "markdown",
		   "metadata": {},
		   "source": [
			"## Example 9.15: INLET_AND_OUTLET_BLADE_ANGLES.sce"
		   ]
		  },
  {
"cell_type": "code",
	   "execution_count": null,
	   "metadata": {
	    "collapsed": true
	   },
	   "outputs": [],
"source": [
"clc\n",
"clear\n",
"//input data\n",
"H=23//Net head across the turbine in m\n",
"N=150//Speed of the turbine in rpm\n",
"P=23//Power developed by the turbine in MW\n",
"D=4.75//Blade tip diameter in m\n",
"d=2//Blade hub diameter in m\n",
"nH=0.93//Hydraulic efficiency\n",
"n0=0.85//Overall efficiency\n",
"g=9.81//Acceleration due to gravity in m/s^2\n",
"dw=1000//Density of water in kg/m^3\n",
"\n",
"//calculations\n",
"dm=(D+d)/2//Mean diameter of the turbine in m\n",
"Pa=(P*10^6)/n0//Power available in MW\n",
"Q=(Pa/(dw*g*H))//Flow rate in the turbine in m^3/s\n",
"Um=(3.1415*dm*N)/60//Rotor speed at mean diameter in m/s\n",
"Pr=Pa*nH*10^-6//Power given to runner in MW\n",
"Cx1=Pr*10^6/(dw*Q*Um)//Velocity of whirl at inlet in m/s    as Cx2=0 in m/s\n",
"Ca=Q/((3.1415/4)*(D^2-d^2))//Axial velocity in m/s\n",
"b11=180-(atand(Ca/(Um-Cx1)))//Inlet blade angle in degree\n",
"Wx2=Um//Outlet whirl velocity component in m/s\n",
"b22=atand(Ca/Wx2)//Outlet blade angle in degree\n",
"\n",
"//output\n",
"printf('(a)The inlet blade angle at mean radius is %3.1f degree\n(b)The outlet blade angle at mean radius is %3.1f degree',b11,b22)"
   ]
   }
,
{
		   "cell_type": "markdown",
		   "metadata": {},
		   "source": [
			"## Example 9.16: DIAMETER_OF_RUNNER_AND_SPECIFIC_SPEED_OF_TURBINE.sce"
		   ]
		  },
  {
"cell_type": "code",
	   "execution_count": null,
	   "metadata": {
	    "collapsed": true
	   },
	   "outputs": [],
"source": [
"clc\n",
"clear\n",
"//input data\n",
"P=9100//Power developed by the turbine in kW\n",
"H=5.6//Net head available at the turbine in m\n",
"SR=2.09//Speed ratio\n",
"FR=0.68//Flow ratio\n",
"n0=0.86//Overall effiiciency of the turbine\n",
"g=9.81//Acceleration due to gravity in m/s^2\n",
"dw=1000//Density of water in kg/m^3\n",
"DbD=1/3//Ratio of diameter of the boss to diameter of the runner\n",
"\n",
"//calculations\n",
"U1=SR*(2*g*H)^(1/2)//Runner tip speed at inlet in m/s\n",
"Cr1=FR*(2*g*H)^(1/2)//Flow velocity at inlet in m/s\n",
"Q=(P*10^3)/(n0*dw*g*H)//Discharge through the turbine in m^3/s\n",
"D=(Q*4/(3.1415*Cr1*((1^2)-(DbD^2))))^(1/2)//Diameter of the runner in m\n",
"N=(U1*60)/(3.1415*D)//Speed of the the turbine in rpm\n",
"Ns=(N*(P)^(1/2))/(H)^(5/4)//Specific speed \n",
"disp(Q)\n",
"//output\n",
"printf('(a)Diameter of the runner of the turbine is %3.2f m\n(b)Speed of the turbine is %3.1f rpm\n(c)The specific speed is %3.2f',D,N,Ns)"
   ]
   }
,
{
		   "cell_type": "markdown",
		   "metadata": {},
		   "source": [
			"## Example 9.17: RUNNER_INLET_AND_OUTLET_VANE_ANGLES.sce"
		   ]
		  },
  {
"cell_type": "code",
	   "execution_count": null,
	   "metadata": {
	    "collapsed": true
	   },
	   "outputs": [],
"source": [
"clc\n",
"clear\n",
"//input data\n",
"H=20//Head developed over the turbine in m\n",
"P=11800//Power developed by turbine in kW\n",
"D=3.5//Outer diameter of the runner in m\n",
"Db=1.75//Hub diameter in m\n",
"a11=35//Guide blade angle in degree \n",
"nH=0.88//Hydraulic efficiency \n",
"n0=0.84//Overall efficiency\n",
"Cx2=0//Velocity of whirl at outlet in m/s\n",
"g=9.81//Acceleration due to gravity in m/s^2\n",
"dw=1000//Density of water in kg/m^3\n",
"\n",
"//calculations\n",
"Q=(P*10^3)/(n0*g*H*dw)//Discharge of turbine in m^3/s\n",
"Cr1=Q/((3.1415/4)*(D^2-Db^2))//Flow velocity at inlet in m/s\n",
"Cx1=Cr1/tand(a11)//Velocity of whirl at inlet in m/s\n",
"U1=(nH*H*g)/(Cx1)//Runner tip speed at inlet in m/s\n",
"Wx1=U1-Cx1//Inlet whirl velocity component in m/s\n",
"b11=180-(atand(Cr1/-Wx1))//Runner inlet angle in degree\n",
"Cr2=Cr1//Flow velocity at outlet in m/s      for a kaplan turbine\n",
"U2=U1//Runner tip speed at outlet in m/s     for a kaplan turbine\n",
"b22=atand(Cr2/U2)//Runner outlet angle in degree \n",
"N=(U1*60)/(3.1415*D)//The speed of the turbine in rpm\n",
"\n",
"//output\n",
"printf('(1)\n    (a)The runner inlet angle is %3.2f degree\n    (b)The runner outlet angle is %3.1f degree\n(2)The speed of the turbine is %3.2f rpm',b11,b22,N)"
   ]
   }
,
{
		   "cell_type": "markdown",
		   "metadata": {},
		   "source": [
			"## Example 9.18: DISCHARGE_POWER_AND_HYDRAULIC_EFFICIENCY.sce"
		   ]
		  },
  {
"cell_type": "code",
	   "execution_count": null,
	   "metadata": {
	    "collapsed": true
	   },
	   "outputs": [],
"source": [
"clc\n",
"clear\n",
"//input data\n",
"N=50//Speed of the turbine in rpm\n",
"d=6//Runner diameter of the turbine in m\n",
"Ae=20//Effective area of flow in m^2\n",
"b11=150//The angle of the runner blades at inlet in degree\n",
"b22=20//The angle of the runner blade at outlet in degree\n",
"g=9.81//Acceleration due to gravity in m/s^2\n",
"dw=1000//Density of water in kg/m^3\n",
"\n",
"//calculations\n",
"U1=(3.141*d*N)/60//Runner tip speed at inlet in m/s\n",
"U2=U1//Runner tip speed at outlet in m/s\n",
"Cr2=U2*tand(b22)//Flow velocity at outlet in m/s\n",
"Cr1=Cr2//Flow velocity at inlet in m/s\n",
"Q=Ae*Cr1//Discharge by the  turbine in m^3/s\n",
"Cx1=U1-(Cr1/(tand(180-b11)))//Velocity of whirl at inlet in m/s\n",
"P=dw*g*Q*(U1*Cx1/g)*10^-3//Theoretical Power developed in kW\n",
"C2=Cr2//Absolute outlet velocity in m/s\n",
"H=(U1*Cx1/g)+(C2^2/(2*g))//Net head across the turbine in m\n",
"nH=(U1*Cx1/g)/(H)//Hydraulic efficiency\n",
"\n",
"//output\n",
"printf('(a)Discharge of the turbine is %3.1f m^3/s\n(b)Theoretical Power developed is %3.2f kW\n(c)Hydraulic efficiency is %3.4f',Q,P,nH)"
   ]
   }
,
{
		   "cell_type": "markdown",
		   "metadata": {},
		   "source": [
			"## Example 9.19: BLADE_ANGLES_AND_EFFICIENCIES.sce"
		   ]
		  },
  {
"cell_type": "code",
	   "execution_count": null,
	   "metadata": {
	    "collapsed": true
	   },
	   "outputs": [],
"source": [
"clc\n",
"clear\n",
"//input data\n",
"D=8//Outer diameter of the turbine in m\n",
"Db=3//Inner diameter of the turbine in m\n",
"P=30000//Power developed by the turbine in kW\n",
"nH=0.95//Hydraulic efficiency\n",
"N=80//Speed of the turbine in rpm\n",
"H=12//Head operated by the turbine in m\n",
"Q=300//Discharge through the runner in m^3/s\n",
"g=9.81//Acceleration due to gravity in m/s^2\n",
"dw=1000//Density of water in kg/m^3\n",
"\n",
"//calculations\n",
"U1=(3.1415*D*N)/60//Runner tip speed at inlet in m/s\n",
"U2=U1//Runner tip speed at outlet in m/s     as flow is axial\n",
"Cr1=Q/((3.1415/4)*(D^2-Db^2))//Flow velocity at inlet in m/s\n",
"Cr2=Cr1//Flow velocity at outlet in m/s      as flow is axial\n",
"b22=atand(Cr2/U2)//The angle of the runner blade at outlet in degree\n",
"Cx1=(nH*g*H)/U1//Velocity of whirl at inlet in m/s\n",
"b11=180-(atand(Cr1/(U1-Cx1)))//The angle of the runner blade at inlet in degree\n",
"nM=(P*10^3)/(dw*g*Q*(Cx1*U1/g))//Mechanical efficiency\n",
"n0=nM*nH//Overall efficiency\n",
"\n",
"//output\n",
"printf('(a)Blade angle at\n    inlet is %3.2f degree\n    outlet is %3.2f degree\n(b)Mechanical efficiency is %3.3f\n(c)Overall efficiency is %3.3f',b11,b22,nM,n0)"
   ]
   }
,
{
		   "cell_type": "markdown",
		   "metadata": {},
		   "source": [
			"## Example 9.1: DIMENSIONLESS_POWER_SPECIFIC_SPEED.sce"
		   ]
		  },
  {
"cell_type": "code",
	   "execution_count": null,
	   "metadata": {
	    "collapsed": true
	   },
	   "outputs": [],
"source": [
"clc\n",
"clear\n",
"//input data\n",
"H=91.5//Head of the pelton wheel at inlet in m\n",
"Q=0.04//Discharge of the pelton wheel in m^3/s\n",
"N=720//Rotating speed of the wheel in rpm\n",
"Cv=0.98//Velocity coefficient of the nozzle \n",
"n0=0.8//Efficiency of the wheel\n",
"UC1=0.46//Ratio of bucket speed to jet speed\n",
"g=9.81//Acceleration due to gravity in m/s^2\n",
"dw=1000//Density of water in kg/m^3\n",
"\n",
"//calculations\n",
"P=dw*g*H*Q*n0*10^-3//Power developed in kw\n",
"C1=Cv*(2*g*H)^(1/2)//Jet speed in m/s\n",
"U=UC1*C1//Wheel speed in m/s\n",
"w=(2*3.1415*N)/60//Angular velocity of the wheel in rad/s\n",
"D=(2*U)/w//Diameter of the wheel in m\n",
"A=Q/C1//Jet area in m^2\n",
"d=((4*A)/3.1415)^(1/2)//Jet diameter in m\n",
"Dd=D/d//Wheel to jet diameter ratio at centre line of the buckets\n",
"Nsp=((1/(g*H))^(5/4))*(((P*10^3)/dw)^(1/2))*(N/60)*2*3.1415//Dimensionless power specific speed in rad\n",
"\n",
"//output\n",
"printf('(a)Wheel-to-jet diameter ratio at the centre line of the buckets is %3.1f \n(b)\n    The jet speed of the wheel is %3.2f m/s\n    Wheel speed is %3.1f m/s\n(c)Dimensionless power specific speed is %3.3f rad',Dd,C1,U,Nsp)"
   ]
   }
,
{
		   "cell_type": "markdown",
		   "metadata": {},
		   "source": [
			"## Example 9.20: RUNNER_DIAMETER_AND_SPEED.sce"
		   ]
		  },
  {
"cell_type": "code",
	   "execution_count": null,
	   "metadata": {
	    "collapsed": true
	   },
	   "outputs": [],
"source": [
"clc\n",
"clear\n",
"//input data\n",
"P=11500//Rated power of the turbine in kW\n",
"H=4.3//Average head of the turbine in m\n",
"n0=0.91//Overall efficiency of the turbine \n",
"DbD=0.3//Ratio of Diameters of runner boss and runner\n",
"SR=2//Speed ratio\n",
"FR=0.65//Flow ratio\n",
"g=9.81//Acceleration due to gravity in m/s^2\n",
"dw=1000//Density of water in kg/m^3\n",
"\n",
"//calculations\n",
"U=SR*(2*g*H)^(1/2)//Runner tip speed in m/s\n",
"Cr=FR*(2*g*H)^(1/2)//Flow velocity in m/s\n",
"Q=(P*10^3)/(n0*dw*g*H)//Discharge of the turbine in m^3/s\n",
"D=((4*Q)/(Cr*3.1415*(1^2-DbD^2)))^(1/2)//Runner diameter in \n",
"N=(60*U)/(3.1415*D)//Speed of the turbine in rpm \n",
"\n",
"//output\n",
"printf('(a)Runner diameter of the turbine is %3.2f m\n(b)Operating speed of the turbine is %3.1f rpm',D,N)"
   ]
   }
,
{
		   "cell_type": "markdown",
		   "metadata": {},
		   "source": [
			"## Example 9.2: DISCHARGE_OF_TURBINE.sce"
		   ]
		  },
  {
"cell_type": "code",
	   "execution_count": null,
	   "metadata": {
	    "collapsed": true
	   },
	   "outputs": [],
"source": [
"clc\n",
"clear\n",
"//input data\n",
"H=500//Head over which pelton wheel works in m\n",
"P=13000//Power which pelton wheel produces in kW\n",
"N=430//Speed of operation of pelton wheel in rpm\n",
"n0=0.85//Efficiency of the wheel \n",
"g=9.81//Acceleration due to gravity in m/s^2\n",
"dw=1000//Density of water in kg/m^3\n",
"Cv=0.98//Veloity coefficient\n",
"UC=0.46//Speed ratio\n",
"\n",
"//calculations\n",
"Q=(P*10^3)/(dw*g*H*n0)//Discharge of the turbine in m^3/s\n",
"C=Cv*(2*g*H)^(1/2)//Jet speed in m/s\n",
"U=UC*C//Wheel speed in m/s\n",
"D=(U*60)/(3.1415*N)//Wheel diameter in m\n",
"d=((Q/C)*(4/3.1415))^(1/2)//Diameter of the nozzle in m\n",
"\n",
"//output\n",
"printf('(a)Discharge of the turbine is %3.2f m^3/s\n(b)Diameter of the wheel is %3.2f m\n(c)Diameter of the nozzle is %3.3f m',Q,D,d)"
   ]
   }
,
{
		   "cell_type": "markdown",
		   "metadata": {},
		   "source": [
			"## Example 9.3: POWER_AVAILABLE_AT_THE_NOZZLE.sce"
		   ]
		  },
  {
"cell_type": "code",
	   "execution_count": null,
	   "metadata": {
	    "collapsed": true
	   },
	   "outputs": [],
"source": [
"clc\n",
"clear\n",
"//input data\n",
"D=0.8//Mean diameter of the bucket in m\n",
"N=1000//Running speed of the wheel in rpm\n",
"H=400//Net head on the pelton wheel in m\n",
"Q=0.150//Discharge through the nozzle in m^3/s\n",
"g=9.81//Acceleration due to gravity in m/s^2\n",
"UC1=0.46//Ratio of bucket speed to jet speed\n",
"dw=1000//Density of water in kg/m^3\n",
"a=15//Side clearance angle in degree\n",
"\n",
"//calculations\n",
"m=dw*Q//Mass flow rate through the nozzle in kg/s\n",
"U=(3.1415*D*N)/60//Wheel speed in m/s\n",
"C1=U/UC1//Jet speed in m/s\n",
"P=(1/2)*m*C1^2*(10^-3)//Power available at the nozzle in kW\n",
"W1=C1-U//Relative inlet fluid velocity in m/s\n",
"W2=W1//Relative exit fluid velocity in m/s assuming no loss of relative velocity\n",
"Wx2=W2*cosd(a)//Exit whirl velocity component in m/s\n",
"Cx2=Wx2-U//Absolute exit whirl velocity in m/s\n",
"Cx1=C1//Absolute inlet whirl velocity in m/s\n",
"Wm=U*(Cx1+Cx2)//Work done per unit mass flow rate in W/(kg/s)\n",
"nH=(Wm/g)/((C1^2/2)/g)//Hydrualic effciency \n",
"\n",
"//output\n",
"printf('(a)Power available at the nozzle is %3.3f kW\n(b)Hydraulic efficiency is %3.3f',P,nH)"
   ]
   }
,
{
		   "cell_type": "markdown",
		   "metadata": {},
		   "source": [
			"## Example 9.4: OVERALL_EFFICIENCY.sce"
		   ]
		  },
  {
"cell_type": "code",
	   "execution_count": null,
	   "metadata": {
	    "collapsed": true
	   },
	   "outputs": [],
"source": [
"clc\n",
"clear\n",
"//input data\n",
"n=2//Number of jets \n",
"SP=20000*0.736//Shaft power of the wheel in kW\n",
"D=0.15//Diameter of each jet in m\n",
"H=500//Net head on the turbine in m\n",
"Cv=1.0//Velocity coefficient\n",
"g=9.81//Acceleration due to gravity in m/s^2\n",
"d=1000//Density of water in kg/m^3\n",
"\n",
"//calculations\n",
"C1=Cv*(2*g*H)^(1/2)//Velocity of each jet in m/s\n",
"A=(3.1415/4)*D^2//Area of each jet in m^2\n",
"Qj=A*C1//Discharge of each jet in m^3/s\n",
"Q=2*Qj//Total discharge in m^3/s\n",
"P=d*g*Q*H*10^-3//Power at turbine inlet in kW\n",
"no=SP/P//Overall efficiency\n",
"\n",
"//output\n",
"printf('The overall efficiency of the turbine is %3.3f',no)"
   ]
   }
,
{
		   "cell_type": "markdown",
		   "metadata": {},
		   "source": [
			"## Example 9.5: THEORETICAL_HYDRAULIC_EFFICIENCY.sce"
		   ]
		  },
  {
"cell_type": "code",
	   "execution_count": null,
	   "metadata": {
	    "collapsed": true
	   },
	   "outputs": [],
"source": [
"clc\n",
"clear\n",
"//input data\n",
"a=170//Jet deflection angle in degree\n",
"K=1-0.12//Percentage of effective relative velocity after considering friction\n",
"UC1=0.47//Ratio of bucket speed to jet speed\n",
"GH=600//Gross head on the wheel in m\n",
"P=1250//Actual power developed by the wheel in kW\n",
"Hl=48//Head loss in nozzle due to pipe friction in m\n",
"D=0.9//Bucket circle diameter of the wheel in m\n",
"ATnH=0.9//The ratio between actual and calculated hydraulic efficiency\n",
"g=9.81//Acceleration due to gravity in m/s^2\n",
"dw=1000//Density of water in kg/m^3\n",
"Cv=0.98//Velocity coefficient\n",
"\n",
"//calculations\n",
"H=GH-Hl//Net head after loses at entry to nozzle in m\n",
"C1=Cv*(2*g*H)^(1/2)//Jet speed in m/s\n",
"U=UC1*C1//Wheel bucket speed in m/s\n",
"N=(U*60)/(3.1415*D)//Wheel rotational speed in rpm\n",
"Wm=U*((C1-U)*(1-(K*cosd(a))))//Work done per unit mass flow rate in W/(kg/s)\n",
"Tnh=Wm/(C1^2/2)//Theoretical hydraulic efficiency \n",
"Anh=ATnH*Tnh//Actual hydrualic effficiency\n",
"m2=(P*10^3)/(Anh*(1/2)*C1^2)//Mass flow rate for both the nozzles in kg/s\n",
"m=m2/2//Mass flow rate of each nozzle in kg/s\n",
"d=((4*m)/(dw*C1*3.1415))^(1/2)//Nozzle diameter in m\n",
"\n",
"//output\n",
"printf('(a)theoretical hydraulic efficiency is %3.2f \n(b)Wheel rotational speed is %3.f rpm\n(c)diameter of the nozzle is %3.4f m',Tnh,N,d)"
   ]
   }
,
{
		   "cell_type": "markdown",
		   "metadata": {},
		   "source": [
			"## Example 9.6: DIAMETER_OF_THE_WHEEL.sce"
		   ]
		  },
  {
"cell_type": "code",
	   "execution_count": null,
	   "metadata": {
	    "collapsed": true
	   },
	   "outputs": [],
"source": [
"clc\n",
"clear\n",
"//input data\n",
"H=60//Head on the pelton wheel in m\n",
"N=200//Speed of the pelton wheel in rpm\n",
"P=100//Power developed by the pelton wheel in kW\n",
"Cv=0.98//Velocity coefficient\n",
"UC1=0.45//Speed ratio \n",
"n0=0.85//Overall efficiency of the wheel\n",
"g=9.81//Acceleration due to gravity in m/s^2\n",
"dw=1000//Density of water in kg/m^3\n",
"\n",
"//calculations\n",
"C1=Cv*(2*g*H)^(1/2)//Velocity of the jet in m/s\n",
"U=UC1*(2*g*H)^(1/2)//Velocity of the buckets in m/s\n",
"D=(60*U)/(3.1415*N)//Diameter of the wheel in m\n",
"Q=(P*10^3)/(dw*g*H*n0)//Discharge of the wheel in m^3/s\n",
"d=((4*Q)/(3.1415*C1))^(1/2)//Diameter of the jet in m\n",
"Z=15+(D/(2*d))+1//Number of buckets rounding off to nearest decimal as the final answer has a decimal value less than 0.5\n",
"w=5*d//Width of the buckets in m\n",
"de=1.2*d//Depth of the buckets in m\n",
"\n",
"//output\n",
"printf('(a)Diameter of the wheel is %3.2f m\n(b)Diameter of the jet is %3.3f m\n(c)Number of buckets is %3.f\n(d)Size of the buckets is \n    width of the bucket is %3.3f m\n    Depth of the bucket is %3.3f m',D,d,Z,w,de)"
   ]
   }
,
{
		   "cell_type": "markdown",
		   "metadata": {},
		   "source": [
			"## Example 9.7: DIAMETER_OF_WHEEL_AND_POWER_DEVELOPED.sce"
		   ]
		  },
  {
"cell_type": "code",
	   "execution_count": null,
	   "metadata": {
	    "collapsed": true
	   },
	   "outputs": [],
"source": [
"clc\n",
"clear\n",
"//input data\n",
"N=300//Running speed of the wheel in rpm\n",
"H=150//OPerating head of the wheel in m\n",
"dD=1/12//Ratio of nozzle diameter to wheel diameter\n",
"Cv=0.98//Velocity coefficient\n",
"UC1=0.46//Speed ratio\n",
"g=9.81//Acceleration due to gravity in m/s^2\n",
"dw=1000//Density of water in kg/m^3\n",
"n0=0.84//Overall efficiency\n",
"\n",
"//calculations\n",
"C1=Cv*(2*g*H)^(1/2)//Velocity of jet in m/s\n",
"U=UC1*(2*g*H)^(1/2)//Velocity of the wheel in m/s\n",
"D=(60*U)/(3.14*N)//Diameter of the wheel in m\n",
"d=D*dD//Diameter of the jet in m\n",
"Q=(3.1415/4)*(d^2)*C1//Quantity of water required in m^3/s\n",
"Pa=dw*g*Q*H//Power available at the nozzle in kW\n",
"P=n0*Pa*10^-3//Power developed in kW\n",
"disp(U)\n",
"//output\n",
"printf('(a)Diameter of the wheel is %3.2f m\n(b)Diameter of the jet is %3.3f m\n(c)Quantity of water required is %3.3f m^3/s\n(d)Power developed is %3.1f kW',D,d,Q,P)"
   ]
   }
,
{
		   "cell_type": "markdown",
		   "metadata": {},
		   "source": [
			"## Example 9.8: HYDRAULIC_EFFICIENCY.sce"
		   ]
		  },
  {
"cell_type": "code",
	   "execution_count": null,
	   "metadata": {
	    "collapsed": true
	   },
	   "outputs": [],
"source": [
"clc\n",
"clear\n",
"//input data\n",
"N=1260//Rotational speed of the francis turbine in rpm\n",
"H=124//The net head in m\n",
"Q=0.5//Volume flow rate of the turbine in m^3/s\n",
"r1=0.6//Radius of the runner in m\n",
"b1=0.03//Height of the runner vanes at inlet in m\n",
"b11=72//Angle of inlet guide vanes in radial direction in degree\n",
"g=9.81//Acceleration due to gravity in m/s^2\n",
"dw=1000//Density of water in kg/m^3\n",
"Cx2=0//Absolute exit whirl velocity in m/s as flow is radial at outlet\n",
"\n",
"//calculations\n",
"m=dw*Q//Mass flow rate in kg/s\n",
"T1=-m*r1//Torque by the turbine in Nm in terms of Cx1\n",
"A=2*3.1415*r1*b1//Area at inlet in m^2\n",
"Cr1=Q/A//Inlet flow velocity in m/s\n",
"Cx1=Cr1*tand(b11)//Absolute inlet whirl velocity in m/s\n",
"T=-T1*Cx1//Torque by water on the runner in Nm\n",
"w=(2*3.1415*N)/60//Angular velocity of the turbine in rad/s\n",
"W=T*w*10^-3//Power exerted in kW\n",
"nH=W*10^3/(dw*g*Q*H)//Hydraulic efficiency \n",
"\n",
"//output\n",
"printf('(a)Torque by water on the runner is %3.f Nm\n(b)Power exerted is %3i kW\n(c)Hydraulic efficiency is %3.3f',T,W,nH)"
   ]
   }
,
{
		   "cell_type": "markdown",
		   "metadata": {},
		   "source": [
			"## Example 9.9: INLET_GUIDE_VANE_ANGLE.sce"
		   ]
		  },
  {
"cell_type": "code",
	   "execution_count": null,
	   "metadata": {
	    "collapsed": true
	   },
	   "outputs": [],
"source": [
"clc\n",
"clear\n",
"//input data\n",
"n0=0.74//Overall efficiency\n",
"H=5.5//Net head across the turbine in m\n",
"P=125//Required Power output in kW\n",
"N=230//Speed of the runner in rpm\n",
"nH=(1-0.18)//Hydraulic efficiency\n",
"g=9.81//Acceleration due to gravity in m/s^2\n",
"dw=1000//Density of water in kg/m^3\n",
"U1=0.97*(2*g*H)^(1/2)//Runner tangential velocity in m/s\n",
"Cr1=0.4*(2*g*H)^(1/2)//Flow velocity in m/s\n",
"\n",
"//calculations\n",
"Cx1=(nH*g*H)/U1//Absolute inlet whirl velocity in m/s    as flow is radial at outlet Cx2=0  in m/s\n",
"a11=atand(Cr1/Cx1)//Inlet guide vane angle in degree\n",
"b11=180+atand(Cr1/(Cx1-U1))//Angle of inlet guide vanes in radial direction in degree\n",
"D1=(U1*60)/(3.1415*N)//Runner inlet diameter in m\n",
"Q=(P*10^3)/(n0*dw*g*H)//Flow rate in m^3/s\n",
"b1=Q/(3.1415*D1*Cr1)//Height of runner in m\n",
"\n",
"//output\n",
"printf('(a)Inlet guide vane angle is %3.1f degree\n(b)Angle of inlet guide vanes in radial direction is %3.1f degree\n(c)Runner inlet diameter is %3.3f m\n(d)Height of runner is %3.3f m',a11,b11,D1,b1)"
   ]
   }
],
"metadata": {
		  "kernelspec": {
		   "display_name": "Scilab",
		   "language": "scilab",
		   "name": "scilab"
		  },
		  "language_info": {
		   "file_extension": ".sce",
		   "help_links": [
			{
			 "text": "MetaKernel Magics",
			 "url": "https://github.com/calysto/metakernel/blob/master/metakernel/magics/README.md"
			}
		   ],
		   "mimetype": "text/x-octave",
		   "name": "scilab",
		   "version": "0.7.1"
		  }
		 },
		 "nbformat": 4,
		 "nbformat_minor": 0
}
