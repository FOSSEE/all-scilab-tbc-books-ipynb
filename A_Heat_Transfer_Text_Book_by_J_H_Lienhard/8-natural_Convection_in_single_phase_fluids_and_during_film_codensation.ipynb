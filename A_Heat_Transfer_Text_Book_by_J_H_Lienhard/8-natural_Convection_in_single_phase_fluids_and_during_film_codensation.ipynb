{
"cells": [
 {
		   "cell_type": "markdown",
	   "metadata": {},
	   "source": [
       "# Chapter 8: natural Convection in single phase fluids and during film codensation"
	   ]
	},
{
		   "cell_type": "markdown",
		   "metadata": {},
		   "source": [
			"## Example 8.1: heat_transfer_coefficient_and_heat_flux_calculation.sce"
		   ]
		  },
  {
"cell_type": "code",
	   "execution_count": null,
	   "metadata": {
	    "collapsed": true
	   },
	   "outputs": [],
"source": [
"\n",
"clear;\n",
"clc;\n",
"\n",
"printf('\t Example 8.1\n');\n",
"\n",
"T1=313;     //fluid temp.,K\n",
"T2=287;     //air temp.,K\n",
"H=0.4;      //height of sides,m\n",
"Pr=0.711;   //prandtl no.\n",
"\n",
"\n",
" b=1/T2;    // b=1/v*d(R*T/p)/dt=1/To   characterisation constant of thermal expansion of solid, K^-1\n",
" RaL=9.8*b*(T1-T2)*H^3/((1.566*10^-5)*(2.203*10^-5));    //Rayleigh no.\n",
" \n",
" Nu=0.678*RaL^(0.25)*(Pr/(0.952+Pr))^(1/4);        // nusselt no.\n",
" h=Nu*0.02614/H     // average heat transfer coefficient, W/m^2/K\n",
" \n",
" q=h*(T1-T2)        // average heat transfer,W/m^2\n",
" c=3.936*((0.952+Pr)/Pr^2)^(1/4)*(1/(RaL/Pr)^0.25);   //boundary layer thickness.,m\n",
" printf('\t  average heat transfer coefficient is : %.2f W/m^2/K\n',h);\n",
" printf('\t average heat transfer is : %.1f W/m^2\n',q);\n",
" printf('\t boundary layer thickness is : %.3f m\n',c);\n",
" \n",
" printf('\t thus the BL thickness at the end of the plate is only 4 percent of the height, or 1.72 cm thick.this is thicker thsan typical forced convection BL but it is still reasonably thin.')\n",
"  \n",
"  //end"
   ]
   }
,
{
		   "cell_type": "markdown",
		   "metadata": {},
		   "source": [
			"## Example 8.3: heat_transfer_coefficient_varification.sce"
		   ]
		  },
  {
"cell_type": "code",
	   "execution_count": null,
	   "metadata": {
	    "collapsed": true
	   },
	   "outputs": [],
"source": [
"\n",
"clear;\n",
"clc;\n",
"\n",
"printf('\t Example 8.3\n');\n",
"\n",
"T1=323;     //wall temp.,K\n",
"T2=293;     //air temp.,K\n",
"H=0.3;      //height of wall, m\n",
"v1=16.45*10^-6;   // molecular diffusivity, m^2/s\n",
"b=1/T2;    // b=1/v*d(R*T/p)/dt=1/To   characterisation constant of thermal expansion of solid, K^-1\n",
"v2=2.318*10^-5;    //molecular diffusivity, m^2/s\n",
"Pr=0.71;   //prandtl no.\n",
"\n",
" Ral=9.8*b*(T1-T2)*H^3/((1.566*10^-5)*(2.203*10^-5));    // Rayleigh no.\n",
" Nu=0.678*Ral^(0.25)*(Pr/(0.952+Pr))^(1/4);        // nusselt no.\n",
" h=Nu*0.0267/H     // average heat transfer coefficient, W/m^2/K\n",
" \n",
" Nu1=0.68+0.67*((Ral)^(1/4)/(1+(0.492/Pr)^(9/16))^(4/9));    //churchill correlation \n",
" \n",
" h1=Nu1*(0.0267/0.3)-.11;     //average heat transfer coefficient, W/m^2/K\n",
" \n",
" \n",
"printf('\t correlation average heat transfer coefficient is :%.2f W/m^2/K\n',h1)\n",
"printf('\t the prediction is therefore within 5 percent of corelation .we should use the latter result in preference to the theoritical one, although the difference is slight.')\n",
"  //end"
   ]
   }
,
{
		   "cell_type": "markdown",
		   "metadata": {},
		   "source": [
			"## Example 8.4: Heat_flux_variatio.sce"
		   ]
		  },
  {
"cell_type": "code",
	   "execution_count": null,
	   "metadata": {
	    "collapsed": true
	   },
	   "outputs": [],
"source": [
"clear;\n",
"clc;\n",
"printf('\t Example 8.4\n');\n",
"T1=400;     //hot oil temp.,K\n",
"D=0.005;          //diameter of line carrying oil, m\n",
"T2=300;    //temp. of air around the tube,K\n",
"Tav=350;    //average BI temp.,K\n",
"//we evaluate properties at this temp. and write g as ge*(g-level), where ge is g at the earth surface and the g-level is the fraction of ge in the space vehicle.\n",
"b=1/T2;    // b=1/v*d(R*T/p)/dt=1/To   characterisation constant of thermal expansion of solid, K^-1\n",
"v1=2.062*10^-5;   // molecular diffusivity, m^2/s\n",
"v2=2.92*10^-5;    //molecular diffusivity, m^2/s\n",
"Pr=0.706;   //prandtl no.\n",
"g=[10^-6 10^-5 10^-4 10^-2];\n",
"i=1;\n",
"while(i<5)\n",
"Ral=(9.8*b*((T1-T2))*(D^(3))/(v1*v2))*g(i);    // Rayleigh no.\n",
"Nu(i)=(0.6+0.387*(Ral/(1+(0.559/Pr)^(9/16))^(16/9))^(1/6))^2;\n",
"//Nu(i)=(0.6+0.387*((Ral)/(1+(0.559/Pr)^(9/16))^(16/9))^1/6)^2;    //churchill correlation. \n",
"printf('\t Nusselt no. are : %.3f\n',Nu(i)); \n",
"h(i)=Nu(i)*0.0297/D;    // convective heat transfer coefficient,W/(m^2*K)\n",
"printf('\t convective heat transfer coefficient are : %.2fW/(m^2*K)\n',h(i));\n",
"Q(i)=%pi*D*h(i)*(T1-T2);    //heat transfer,W/m\n",
"printf('\t heat transfer is :%.2fW/m of tube\n',Q(i));\n",
"i=i+1;\n",
"end \n",
"//end"
   ]
   }
,
{
		   "cell_type": "markdown",
		   "metadata": {},
		   "source": [
			"## Example 8.5: Average_surface_temperature_calculatio.sce"
		   ]
		  },
  {
"cell_type": "code",
	   "execution_count": null,
	   "metadata": {
	    "collapsed": true
	   },
	   "outputs": [],
"source": [
"\n",
"clear ;\n",
"clc;\n",
"\n",
"printf('\t Example 8.5\n');\n",
"\n",
"T2=300;     //air temp.,K\n",
"P=15;       //delivered power,W\n",
"D=0.17;       //diameter of heater,m\n",
"v1=1.566*10^-5;   // molecular diffusivity, m^2/s\n",
"b=1/T2;    // b=1/v*d(R*T/p)/dt=1/To   characterisation constant of thermal expansion of solid, K^-1\n",
"Pr=0.71;   //prandtl no.\n",
"v2=2.203*10^-5;    //molecular diffusivity, m^2/s\n",
"v3=3.231*10^-5;    //molecular diffusivity at a b except at 365 K., m^2/s\n",
"v4=2.277*10^-5;    //molecular diffusivity at a b except at 365 K., m^2/s\n",
"k1=0.02614;        //thermal conductivity\n",
"k2=0.0314;        //thermal conductivity\n",
"\n",
"//we have no formula for this situation, so the problem calls for some guesswork.following the lead of churchill and chau, we replace RaD with RaD1/NuD in eq.   \n",
"//(NuD)^(6/5)=0.82*(RaD1)^(1/5)*Pr^0.034\n",
"\n",
"delT=1.18*P/(3.14*D^(2)/4)*(D/k1)/((9.8*b*661*D^(4)/(0.02164*v1*v2))^(1/6)*Pr^(0.028));\n",
"\n",
"//in the preceding computation, all the properties were evaluated at T2.mow we must return the calculation,reevaluating all properties except b at 365 K.\n",
"\n",
"delTc=1.18*661*(D/k2)/((9.8*b*661*D^(4)/(k2*v3*v4))^(1/6)*(0.99));\n",
"\n",
"TS=T2+delTc;\n",
"TS1=TS-271.54\n",
"\n",
"printf('\t average surface temp. is :%.0f K\n',TS1);\n",
"\n",
"printf('\t that is rather hot.obviously, the cooling process is quite ineffective in this case.')\n",
"//end"
   ]
   }
,
{
		   "cell_type": "markdown",
		   "metadata": {},
		   "source": [
			"## Example 8.6: heat_transfer_calculation.sce"
		   ]
		  },
  {
"cell_type": "code",
	   "execution_count": null,
	   "metadata": {
	    "collapsed": true
	   },
	   "outputs": [],
"source": [
"\n",
"clear;\n",
"clc;\n",
"\n",
"printf('\t Example 8.6\n');\n",
"\n",
"T2=363;       // temp. of strip,K\n",
"T1=373;       //saturated temp.,K\n",
"H=0.3;        // height of strip,m\n",
"Pr=1.86;   //prandtl no.\n",
"Hfg=2257;    //latent heat. kj/kg\n",
"ja=4.211*10/Hfg;   //jakob no.\n",
"a1=961.9;       //density of water,kg/m^3\n",
"a2=0.6;         //density of air,kg/m^3\n",
"k=0.677;        //thermal conductivity,W/(m*K)\n",
"\n",
"Hfg1=Hfg*(1+(0.683-0.228/Pr)*ja);    //corrected latent heat,kj/kg\n",
"\n",
"delta=(4*k*(T1-T2)*(2.99*10^(-4))*0.3/(a1*(a1-a2)*9.806*Hfg1*1000))^(0.25)*1000;\n",
"\n",
"Nul=4/3*H/delta;    //average nusselt no.\n",
"q=Nul*k*(T1-T2)/H;   // heat flow on an area about half the size of a desktop,W/m^2\n",
"Q=q*H;   //overall heat transfer per meter,kW/m\n",
"\n",
"m=Q/(Hfg1);     //mass rate of condensation per meter,kg/(m*s)\n",
"\n",
"printf('\t overall heat transfer per meter is :%.1f kW/m^2\n',Q);\n",
"printf('\t  film thickness at the bottom is :%.3f mm\n',delta);\n",
"printf('\t mass rate of condensation per meter. is : %.4f kg/(m*s)\n',m);\n",
"\n",
"//end"
   ]
   }
],
"metadata": {
		  "kernelspec": {
		   "display_name": "Scilab",
		   "language": "scilab",
		   "name": "scilab"
		  },
		  "language_info": {
		   "file_extension": ".sce",
		   "help_links": [
			{
			 "text": "MetaKernel Magics",
			 "url": "https://github.com/calysto/metakernel/blob/master/metakernel/magics/README.md"
			}
		   ],
		   "mimetype": "text/x-octave",
		   "name": "scilab",
		   "version": "0.7.1"
		  }
		 },
		 "nbformat": 4,
		 "nbformat_minor": 0
}
