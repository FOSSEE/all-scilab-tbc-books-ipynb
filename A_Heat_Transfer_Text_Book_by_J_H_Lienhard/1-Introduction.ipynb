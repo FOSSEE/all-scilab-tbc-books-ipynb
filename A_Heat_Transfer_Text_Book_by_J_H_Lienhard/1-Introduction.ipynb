{
"cells": [
 {
		   "cell_type": "markdown",
	   "metadata": {},
	   "source": [
       "# Chapter 1: Introduction"
	   ]
	},
{
		   "cell_type": "markdown",
		   "metadata": {},
		   "source": [
			"## Example 1.1: heat_flux_and_heat_transfer_rate.sci"
		   ]
		  },
  {
"cell_type": "code",
	   "execution_count": null,
	   "metadata": {
	    "collapsed": true
	   },
	   "outputs": [],
"source": [
"\n",
"clear;\n",
"clc;\n",
"\n",
"printf('\t Example 1.1\n');\n",
"\n",
"k=35; //Thermal Conductivity, W/m*K\n",
"T1=110;// Temperature of front\n",
"T2=50; // Temperature of back,C\n",
"A=0.4;//area of slab,m^2\n",
"x=0.03; //Thickness of slab,m\n",
"\n",
"q=-k*(T2-T1)/(1000*x); //formula for heat flux\n",
"printf('\t heat flux is: %.0f KW/m^2\n',q);\n",
"\n",
"Q=q*A; //formula for heat transfer rate\n",
"printf('\t heat transfer rate is: %.0f KW\n',Q);\n",
"\n",
"//End"
   ]
   }
,
{
		   "cell_type": "markdown",
		   "metadata": {},
		   "source": [
			"## Example 1.2: Temperature_Distributio.sci"
		   ]
		  },
  {
"cell_type": "code",
	   "execution_count": null,
	   "metadata": {
	    "collapsed": true
	   },
	   "outputs": [],
"source": [
"\n",
"clear;\n",
"clc;\n",
"printf('\tExample 1.2\n');\n",
"x=poly([0],'x');\n",
"k1=372; // Thermal Conductivity of slab,W/m*K\n",
"x1=0.003; // Thickness of slab,m\n",
"x2=0.002;// Thickness of steel,m\n",
"k2=17; // Thermal Conductivity of steel,W/m*K\n",
"T1=400; // Temperature on one side,C\n",
"T2=100;//Temperature on other side,C\n",
"\n",
"Tcu=roots(x+2*x*(k1/x1)*(x2/k2)-(400-100));\n",
"\n",
"//q=k1*(Tcu/x1)=k2*(Tss/x2);\n",
"\n",
"Tss = Tcu*(k1/x1)*(x2/k2); // formula for temperature gradient in steel  side\n",
"\n",
"Tcul=T1-Tss;\n",
"Tcur=T2+Tss;\n",
"printf('\t temperature on left copper side is : %.0f C\n',Tcul);\n",
"printf('\t Temperature on right copper  side is : %.0f C\n',Tcur);\n",
"q=k2*Tss/(1000*x2); // formula for heat conducted\n",
"printf('\t heat conducted through the wall is : %.0f W\n',q);\n",
"printf('\t our initial approximation was accurate within a few percent.');\n",
"//End"
   ]
   }
,
{
		   "cell_type": "markdown",
		   "metadata": {},
		   "source": [
			"## Example 1.3: heat_transfer_coefficient_calculation.sci"
		   ]
		  },
  {
"cell_type": "code",
	   "execution_count": null,
	   "metadata": {
	    "collapsed": true
	   },
	   "outputs": [],
"source": [
"\n",
"clear;\n",
"clc;\n",
"printf('\t example 1.3\n');\n",
"q1=6000; //Heat flux, W*m^-2\n",
"T1=120; // Heater Temperature, C\n",
"T2=70; //final Temperature of Heater\n",
"q2=2000; // final heat flux\n",
"h=q1/(T1-T2);// formula for average heat transfer cofficient\n",
"printf('\t Average Heat transfer coefficient is:%.0f W/(m^2*K)\n',h);\n",
"\n",
"Tnew=T2 + q2/h; //formula for new Heater temperature\n",
"printf('\t new Heater Temperature is:%.2f C\n',Tnew);\n",
"//End"
   ]
   }
,
{
		   "cell_type": "markdown",
		   "metadata": {},
		   "source": [
			"## Example 1.4: response_of_thermocouple.sci"
		   ]
		  },
  {
"cell_type": "code",
	   "execution_count": null,
	   "metadata": {
	    "collapsed": true
	   },
	   "outputs": [],
"source": [
"\n",
"clear;\n",
"clc;\n",
"printf('\t Example 1.4\n');\n",
"h=250; //Heat Transfer Coefficient, W/(m^2*K)\n",
"k=45; // Thermal Conductivity, W/(m*K)\n",
"c=0.18; //Heat Capacity, kJ/(kg*K)\n",
"a=9300; //density, kg/m^3\n",
"T1=200; //temperature, C\n",
"D=0.001; //diameter of bead, \n",
"t1 =0:0.1:5;\n",
"T=200-180*exp(-t1/((a*c*D*1e3)/(6*h))); \n",
"plot(t1,T);\n",
"xtitle('Thermocouple response to a hot gas flow','time,t1 sec','temperature,T C');\n",
"Bi = h*(0.001/2)/45; //biot no.\n",
"printf('The value of Biot no for this thermocouple is %f',Bi);\n",
"printf('\n Bi is <0.1 and hence the thermocouple could be considered as a lumped heat capacity system and the assumption taken is valid.\n');\n",
"//End\n",
"\n",
"\n",
"\n",
"\n",
"\n",
"\n",
"\n",
"\n",
"\n",
""
   ]
   }
,
{
		   "cell_type": "markdown",
		   "metadata": {},
		   "source": [
			"## Example 1.5: Temperature_of_thermocouple.sci"
		   ]
		  },
  {
"cell_type": "code",
	   "execution_count": null,
	   "metadata": {
	    "collapsed": true
	   },
	   "outputs": [],
"source": [
"\n",
"clear;\n",
"clc;\n",
"\n",
"printf('\t Example 1.5\n');\n",
"x=poly([0],'x');\n",
"T1=293; //Temperature of air around thermocouple, K\n",
"T2=373; //Wall temperature, K\n",
"h=75; // Average Heat Transfer Coefficient, W/(m^2*K)\n",
"s=5.67*10^-8; // stefan Boltzman constant, W/(m^2*K^4)\n",
"x=roots(h*(x-T1)+s*(x^4-T2^4));\n",
"y=x(4)-273;\n",
"printf('\t thermocouple Temperature is : %.1f C\n',y);\n",
"//end"
   ]
   }
,
{
		   "cell_type": "markdown",
		   "metadata": {},
		   "source": [
			"## Example 1.6: Temperature_of_thermocouple.sci"
		   ]
		  },
  {
"cell_type": "code",
	   "execution_count": null,
	   "metadata": {
	    "collapsed": true
	   },
	   "outputs": [],
"source": [
"\n",
"clear;\n",
"clc;\n",
"\n",
"printf('\t example 1.6\n');\n",
"x=poly([0],'x');\n",
"e=0.4; //emissivity\n",
"T1=293; //Temperature of air around Thermocouple, K\n",
"T2=373; // wall Temperature, K\n",
"h=75; // Average Heat Transfer Coefficient, W/(m^2*K)\n",
"s=5.67*10^-8; // stefan Boltzman constant, W/(m^2*K^4)\n",
"x=roots((x-T1)*h+e*s*(x^4-T2^4));\n",
"y=x(4)-273;\n",
"printf('\t Thermocouple Temperature is : %.1f C\n',y);\n",
"//End"
   ]
   }
],
"metadata": {
		  "kernelspec": {
		   "display_name": "Scilab",
		   "language": "scilab",
		   "name": "scilab"
		  },
		  "language_info": {
		   "file_extension": ".sce",
		   "help_links": [
			{
			 "text": "MetaKernel Magics",
			 "url": "https://github.com/calysto/metakernel/blob/master/metakernel/magics/README.md"
			}
		   ],
		   "mimetype": "text/x-octave",
		   "name": "scilab",
		   "version": "0.7.1"
		  }
		 },
		 "nbformat": 4,
		 "nbformat_minor": 0
}
