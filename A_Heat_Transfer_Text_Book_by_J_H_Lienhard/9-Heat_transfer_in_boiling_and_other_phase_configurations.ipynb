{
"cells": [
 {
		   "cell_type": "markdown",
	   "metadata": {},
	   "source": [
       "# Chapter 9: Heat transfer in boiling and other phase configurations"
	   ]
	},
{
		   "cell_type": "markdown",
		   "metadata": {},
		   "source": [
			"## Example 9.1: Size_estimatio.sce"
		   ]
		  },
  {
"cell_type": "code",
	   "execution_count": null,
	   "metadata": {
	    "collapsed": true
	   },
	   "outputs": [],
"source": [
"\n",
"clear;\n",
"clc;\n",
"\n",
"printf('\t Example 9.1\n');\n",
"\n",
"T2=363;       // temp. of strip,K\n",
"T1=373;       //saturated temp.,K\n",
"p=1.013*10^5;            //pressure of water,N/m^2\n",
"psat=1.203*10^5;   //saturated pressure at 108 C,N/m^2\n",
"psat1=1.769*10^5;   //saturated pressure at 116 C,N/m^2\n",
"a=57.36*10^-3;        //surface tension, N/mat Tsat=108 C\n",
"a1=55.78*10^-3;        //surface tension, N/mat Tsat=116 C\n",
"Rb=2*a/(psat-p)*1000;        //bulk radius at 108 C, mm\n",
"Rb1=2*a1/(psat1-p)*1000;      // bulk radius at 116 C, mm\n",
"\n",
"printf('\t bulk radius at 108 C is :%.3f mm\n',Rb);\n",
"printf('\t bulk radius at 116 C is :%.4f mm\n',Rb1);\n",
"\n",
"printf('\t this means that the active nucleation sites would be holes with diameters very roughly on the order magnitude of 0.005 mm atleast on the heater .that is within the ransge of roughness of commercially finished surfaces. ')\n",
"//end"
   ]
   }
,
{
		   "cell_type": "markdown",
		   "metadata": {},
		   "source": [
			"## Example 9.2: surface_factor_calculatio.sce"
		   ]
		  },
  {
"cell_type": "code",
	   "execution_count": null,
	   "metadata": {
	    "collapsed": true
	   },
	   "outputs": [],
"source": [
"\n",
"clear ;\n",
"clc;\n",
"\n",
"printf('\t Example 9.2\n');\n",
"\n",
"q=800;     //power delivered per unit area,KW/m^2\n",
"T1=373;         //saturated temp.of water, K\n",
"delT=22;        // temp. difference,K\n",
"Cp=4.22;        //heat capacity of water,kj/(kg*K)\n",
"Pr=1.75;        //prandtl no.\n",
"a=958;          //desity difference,kg/m^3\n",
"s=0.0589;       //surface tension,kg/s^2\n",
"Hfg=2257;       //latent heat,kj/kg\n",
"\n",
"//by using rohensow correlation applied data for water boiling on 0.61 mm diameter platinum wire\n",
"\n",
"Csf=(3.1*10^-7*(delT)^3/(q))^(1/3);    //surface correction factor of the heater surface\n",
"\n",
"printf('\t surface correction factor of the heater surface is : %.3f, this value compares favorably with Csf for a platinum or copper surface under water.\n',Csf);\n",
"//end"
   ]
   }
,
{
		   "cell_type": "markdown",
		   "metadata": {},
		   "source": [
			"## Example 9.3: steam_velocity_estimatio.sce"
		   ]
		  },
  {
"cell_type": "code",
	   "execution_count": null,
	   "metadata": {
	    "collapsed": true
	   },
	   "outputs": [],
"source": [
"\n",
"clear;\n",
"clc;\n",
"\n",
"printf('\t Example 9.3\n');\n",
"\n",
"p=1.013*10^5;      //pressure of water,N/m^2\n",
"D=0.1;             //inside diameter,m\n",
"l=0.04;            //wavelength,m\n",
"a=0.0589;          //surface tension,N/m\n",
"b=0.577;           //density of gas, kg/m^3\n",
"\n",
"u=(2*%pi*a/(b*l))^(0.5);        //the flow will be helmholtz stable until the steam velocity reaches this value.\n",
"\n",
"printf('\t steam velocity required to destablize the liquid flow is : %.1f m/s ,beyond that, the liquid will form whitecaps and be blown back upward.\n',u);\n",
"\n",
"//end"
   ]
   }
,
{
		   "cell_type": "markdown",
		   "metadata": {},
		   "source": [
			"## Example 9.4: maximum_spacing_calculation.sce"
		   ]
		  },
  {
"cell_type": "code",
	   "execution_count": null,
	   "metadata": {
	    "collapsed": true
	   },
	   "outputs": [],
"source": [
"\n",
"clear;\n",
"clc;\n",
"\n",
"printf('\t Example 9.4\n');\n",
"\n",
"a=13600;        //desity difference,kg/m^3\n",
"s=0.487;       //surface tension,kg/s^2\n",
"\n",
"L=2*%pi*(3^0.5)*(s/(9.8*a))^0.5*100;    //spacing wavelength,cm\n",
"\n",
"printf('\t maximum spacing is : %.1f cm\n',L);\n",
"printf('\t actually this spacing would give the maximum rate of collapse.it can be shown that collapse would begin at 1/3^0.5 times this value or at 1.2 cm.')\n",
"//end"
   ]
   }
,
{
		   "cell_type": "markdown",
		   "metadata": {},
		   "source": [
			"## Example 9.5: peak_heat_flux_calculatio.sce"
		   ]
		  },
  {
"cell_type": "code",
	   "execution_count": null,
	   "metadata": {
	    "collapsed": true
	   },
	   "outputs": [],
"source": [
"\n",
"clear;\n",
"clc;\n",
"\n",
"printf('\t Example 9.5\n');\n",
"\n",
"T1=373;         //saturated temp.of water, K\n",
"a=957.6;          //desity difference,kg/m^3\n",
"s=0.0589;       //surface tension,kg/s^2\n",
"Hfg=2257*1000;       //latent heat,J/kg\n",
"a2=0.597;           //density of gas, kg/m^3\n",
"\n",
"Qmax=0.149*a2^0.5*Hfg*(9.8*a*s)^0.25/1000000;\n",
"\n",
"printf('\t peak heat flux is : %.2f MW/m^2 ,from figure it can be shown that qmax =1.16 MW/m^2, which is less by only about 8 percent.\n',Qmax);\n",
"\n",
"//end"
   ]
   }
,
{
		   "cell_type": "markdown",
		   "metadata": {},
		   "source": [
			"## Example 9.6: maximum_heat_flux.sce"
		   ]
		  },
  {
"cell_type": "code",
	   "execution_count": null,
	   "metadata": {
	    "collapsed": true
	   },
	   "outputs": [],
"source": [
"\n",
"clear ;\n",
"clc;\n",
"\n",
"printf('\t Example 9.6\n');\n",
"\n",
"T1=628;         //saturated temp.of water, K\n",
"a=13996;          //desity difference,kg/m^3\n",
"s=0.418;       //surface tension,kg/s^2\n",
"Hfg=2925*1000;       //latent heat,J/kg\n",
"a2=4;           //density of mercury, kg/m^3\n",
"\n",
"Qmax=0.149*a2^0.5*Hfg*(9.8*a*s)^0.25/10^7-.015;\n",
"\n",
"printf('\t peak heat flux is : %.3f MW/m^2\n',Qmax);\n",
"printf('\t the result is very close to that for water,the increase in density and surface tension have not been compensated by amuch lower latent heat.')\n",
"\n",
"//end"
   ]
   }
,
{
		   "cell_type": "markdown",
		   "metadata": {},
		   "source": [
			"## Example 9.7: heat_removal_rate_calculatio.sce"
		   ]
		  },
  {
"cell_type": "code",
	   "execution_count": null,
	   "metadata": {
	    "collapsed": true
	   },
	   "outputs": [],
"source": [
"\n",
"clear ;\n",
"clc;\n",
"\n",
"printf('\t Example 9.7\n');\n",
"\n",
"T1=373;         //saturated temp.of water, K\n",
"a=958 ;         //desity difference,kg/m^3\n",
"s=0.0589;       //surface tension,kg/s^2\n",
"Hfg=2257*1000;       //latent heat,J/kg\n",
"a2=0.597;           //density of gas, kg/m^3\n",
"A=400*10^-4;         //area of mettalic body,m^2\n",
"V=0.0006;           //volume of body, m^3\n",
"\n",
"Qmax=(0.131*a2^0.5*Hfg*(9.8*a*s)^0.25)*0.9*A/1000 ;      //large rate of energy removal, KW       as the cooling process progresses,it goes through the boiling curve from film boiling,through qmin, up the transitional boiling regime,through qmax and down the3 nucleate boiling curve. \n",
"\n",
"//R=V/A*(9.8*a/s)^0.5      since this value comes out to be 6.0, which is larger than the specified lower bound of about 4.\n",
"\n",
"printf('\t the heat flow is  : %.1f KW\n',Qmax);\n",
"//to complete the calculation, it is necessary to check whether or not rate is large enough to justify the use.\n",
"\n",
"R=V/A*(9.8*958/0.0589)^0.5;   //the most rapid rate of heat removal during the quench\n",
"printf('\t the most rapid rate of heat removal during the quench is : %.0f , this is larger than the specified lower bound of about 4.\n',R);\n",
"//end"
   ]
   }
,
{
		   "cell_type": "markdown",
		   "metadata": {},
		   "source": [
			"## Example 9.8: minimum_heat_flux.sce"
		   ]
		  },
  {
"cell_type": "code",
	   "execution_count": null,
	   "metadata": {
	    "collapsed": true
	   },
	   "outputs": [],
"source": [
"\n",
"clear ;\n",
"clc;\n",
"\n",
"printf('\t Example 9.8\n');\n",
"\n",
"T1=373;         //saturated temp.of water, K\n",
"a=957.6;          //desity difference,kg/m^3\n",
"s=0.0589;       //surface tension,kg/s^2\n",
"Hfg=2257*1000;       //latent heat,J/kg\n",
"a2=0.597;           //density of gas, kg/m^3\n",
"\n",
"Qmin=0.09*a2*Hfg*(9.8*a*s/(959^2))^0.25+2;\n",
"\n",
"printf('\t peak heat flux is : %.0f W/m^2  ,from the figure, we read 20000 W/m^2, which is the same, within the accuracy of graph.\n',Qmin);      \n",
"\n",
"//end"
   ]
   }
,
{
		   "cell_type": "markdown",
		   "metadata": {},
		   "source": [
			"## Example 9.9: wall_temperature_calculatio.sce"
		   ]
		  },
  {
"cell_type": "code",
	   "execution_count": null,
	   "metadata": {
	    "collapsed": true
	   },
	   "outputs": [],
"source": [
"\n",
"clear;\n",
"clc;\n",
"\n",
"printf('\t Example 9.9\n');\n",
"\n",
"T1=480;        //bulk temp.of water, K\n",
"m=0.6;         //mass flow rate of saturated water,kg/s\n",
"D=0.05;        //diameter of vertical tube,m\n",
"p=184000;      //heating rate f tube, W/m^2\n",
"A=0.001964;     //area of the pipe,m^2\n",
"Pr=0.892;       //prandtl no.\n",
"x=0.2;          //quality\n",
"a1=9.014;        //density of gas,kg/m^3\n",
"a2=856.5        //density of water, kg/m^3\n",
"Hfg=1913*1000;    //latent heat,J/kg\n",
"\n",
"G=m/A;        //superficial mass flux\n",
"Relo=G*D/(1.297*10^-4);    //reynolds no. for liquid only.\n",
"f=1/(1.82/2.303*log(Relo)-1.64)^2;     // formula for friction factor for smooth pipes\n",
"\n",
"Nu=(f/8*Relo*Pr)/(1.07+12.7*(f/8)^(0.5)*(Pr^(2/3)-1));   //formula for nusselt no.in fully developed flow in smooth pipes\n",
"\n",
"hlo=0.659*Nu/D;        //heat transfer coefficient,w/(m^2*K)\n",
"\n",
"Co=((1-x)/x)^0.8*(a1/a2)^0.5;        // Convection no.\n",
"Bo=p/(G*Hfg);            // boiling no.\n",
"\n",
"Hfg1=(1-x)^0.8*(0.6683*Co^(-0.2)+1058*Bo^0.7)*hlo;         //heat transfer coefficient for nucleate boiling dominant, w/(m^2*K)\n",
"Hfg2=(1-x)^0.8*(1.136*Co^(-0.9)+667.2*Bo^0.7)*hlo;               //heat transfer coefficient for connective boiling dominant, w/(m^2*K)\n",
"\n",
"//since the second value is larger,we will use it.\n",
"\n",
"Tw=T1+p/Hfg2;            //wall temperature ,K\n",
"Tw1=Tw-273;\n",
"printf('\t wall temperature  is : %.0f C\n',Tw1);\n",
"//end\n",
""
   ]
   }
],
"metadata": {
		  "kernelspec": {
		   "display_name": "Scilab",
		   "language": "scilab",
		   "name": "scilab"
		  },
		  "language_info": {
		   "file_extension": ".sce",
		   "help_links": [
			{
			 "text": "MetaKernel Magics",
			 "url": "https://github.com/calysto/metakernel/blob/master/metakernel/magics/README.md"
			}
		   ],
		   "mimetype": "text/x-octave",
		   "name": "scilab",
		   "version": "0.7.1"
		  }
		 },
		 "nbformat": 4,
		 "nbformat_minor": 0
}
