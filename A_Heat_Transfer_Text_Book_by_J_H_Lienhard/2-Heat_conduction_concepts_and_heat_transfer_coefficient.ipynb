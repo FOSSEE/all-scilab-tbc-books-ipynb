{
"cells": [
 {
		   "cell_type": "markdown",
	   "metadata": {},
	   "source": [
       "# Chapter 2: Heat conduction concepts and heat transfer coefficient"
	   ]
	},
{
		   "cell_type": "markdown",
		   "metadata": {},
		   "source": [
			"## Example 2.10: heat_transfer_coefficient_calculation.sci"
		   ]
		  },
  {
"cell_type": "code",
	   "execution_count": null,
	   "metadata": {
	    "collapsed": true
	   },
	   "outputs": [],
"source": [
"\n",
"clear;\n",
"clc;\n",
"\n",
"printf('\t Example 2.10\n');\n",
"\n",
"h1=200; // convective heat transfer coefficient, W/(m^2*K)\n",
"a=1/60000; // 1/a=l/Kal, l=0.001m, Kal=160 W/(m*K)\n",
"h2=5000; //convective heat transfer coefficient during boiling,W/(m^2*K)\n",
"\n",
"U=1/(1/h1+a+1/h2)+0.40;\n",
"printf('\t overall heat transfer coefficient is : %.1f W/(m^2*K)\n',U);\n",
"//end"
   ]
   }
,
{
		   "cell_type": "markdown",
		   "metadata": {},
		   "source": [
			"## Example 2.12: redesign_of_siding.sci"
		   ]
		  },
  {
"cell_type": "code",
	   "execution_count": null,
	   "metadata": {
	    "collapsed": true
	   },
	   "outputs": [],
"source": [
" clear;\n",
"clc;\n",
"\n",
"printf('\t Example 2.12\n');\n",
"Rf=0.0005;   //fouling ressistance,m^2*K/W\n",
"U=5;   //heat transfer coefficient,W/(m^2*K)\n",
"Ucor=(U*Rf+1)/(U);\n",
"printf('\t corrected heat transfer coefficient is : %.2f W/(m^2*K)\n therefore the fouling is entirely irrelevant to domestic heat holds.', Ucor);\n",
"//end"
   ]
   }
,
{
		   "cell_type": "markdown",
		   "metadata": {},
		   "source": [
			"## Example 2.13: fouling_calculation.sce"
		   ]
		  },
  {
"cell_type": "code",
	   "execution_count": null,
	   "metadata": {
	    "collapsed": true
	   },
	   "outputs": [],
"source": [
" \n",
"clear;\n",
"clc;\n",
"\n",
"printf('\t Example 2.13\n');\n",
"U1=4000; //overall heat transfer coefficient of water cooled steam condenser, W/(m^2*K)\n",
"Rf1=0.0006; // lower limit of fouling ressistance of water side, m^2*K/W\n",
"Rf2=0.0020; // upper limit of fouling ressistance of water side, m^2*K/W\n",
"U2=U1/(U1*Rf1+1);\n",
"U3=U1/(U1*Rf2+1);\n",
"printf('\t upper  limit of the corrected overall heat transfer coefficient is : %.0f W/(m^2*K)\n',U2);\n",
"printf('\t lower limit of corrected overall heattransfer coefficient is : %.0f W/m^2/K, U is reduced from 4000 to between 444 and 1176 W/(m^2*K),fouling is crucial in this case and engineering was in serious error.\n',U3);  \n",
"//end"
   ]
   }
,
{
		   "cell_type": "markdown",
		   "metadata": {},
		   "source": [
			"## Example 2.3: steady_flux.sci"
		   ]
		  },
  {
"cell_type": "code",
	   "execution_count": null,
	   "metadata": {
	    "collapsed": true
	   },
	   "outputs": [],
"source": [
"\n",
"clear;\n",
"clc;\n",
"\n",
"printf('\t Example 2.3\n');\n",
"\n",
"l=1; // tube length, m\n",
"m=0.01; // mass fraction\n",
"D12=2.84*10^-5; // diffusivity, m^2/s\n",
"a=1.18; // density, kg/m^3\n",
"\n",
"J=a*D12*m/l;\n",
"//steady state flux of water from one side to the other,kg/(m^2*s) \n",
"printf('\t steady flux of water is %.2e kg/(m^2*s)',J);\n",
"//end"
   ]
   }
,
{
		   "cell_type": "markdown",
		   "metadata": {},
		   "source": [
			"## Example 2.4: thickness_calculation.sce"
		   ]
		  },
  {
"cell_type": "code",
	   "execution_count": null,
	   "metadata": {
	    "collapsed": true
	   },
	   "outputs": [],
"source": [
"\n",
"clear;\n",
"clc;\n",
"\n",
"printf('\t Example 2.4\n');\n",
"\n",
"k=18; // thermal conductivity of ressistor, W/(m*K)\n",
"A=1;     //area of slab surface, m^2\n",
"hc=3000;    //convective heat transfer coefficient,W/(m^2*K)\n",
"//Req=1/A*(2L/k+1/hc), for contact ressistances to be neglected 2L/18 must be very greater than the 1/3000\n",
"printf('thickness of slabs for contact ressistances to be nelected is very greater than 0.003 m. if length is 3 cm, the error is about 10 percent.');\n",
"//end"
   ]
   }
,
{
		   "cell_type": "markdown",
		   "metadata": {},
		   "source": [
			"## Example 2.7: Critical_radius_of_insulation.sce"
		   ]
		  },
  {
"cell_type": "code",
	   "execution_count": null,
	   "metadata": {
	    "collapsed": true
	   },
	   "outputs": [],
"source": [
"\n",
"clear;\n",
"clc;\n",
"\n",
"printf('\t example 2.7\n');\n",
"\n",
"h=20; //convective heat transfer coefficient, W/(m^2*K)\n",
"k=0.074; //thermal conductivity, J/(m*K)\n",
"Ro=k/h; // formula for critical thickness of insulation\n",
"printf('\t critical thickness of insulation is : %.4f m\n',Ro);\n",
"printf('\t insulation will not even start to do any good until ratio of outer radius and inner radius is 2.32 or outer radius is  0.0058 m.')\n",
"//End"
   ]
   }
,
{
		   "cell_type": "markdown",
		   "metadata": {},
		   "source": [
			"## Example 2.8: Ressistor_temperature_calculatio.sci"
		   ]
		  },
  {
"cell_type": "code",
	   "execution_count": null,
	   "metadata": {
	    "collapsed": true
	   },
	   "outputs": [],
"source": [
"\n",
"clear;\n",
"clc;\n",
"\n",
"printf('\t Example 2.8\n');\n",
"\n",
"P=0.1; //dissipating power,W\n",
"D=0.0036; //outer diameter of cylinder, m\n",
"l=0.01; //length of cylinder, m\n",
"T=308; // temperature of air in the cabinet,K\n",
"h=13; // convection coefficient, W/(m^2*K)\n",
"e=0.9;\n",
"A=1.33*10^-4; //area of ressistor's surface, m^2\n",
"\n",
"Tm=(T+323)/2; // ressistor's temperature at 50 K\n",
"Hr=4*5.67*10^-8*Tm^3*e; // radiative heat transfer coefficient,W/(m^2*K)\n",
"\n",
"\n",
"Rteq=1/(A*(Hr+h));\n",
"Tres=T+P*Rteq;\n",
"//we guessed a ressistor's temperature of 323K in finding Hr,recomputing with this higher temperature,we have Tm=327K and Hr=7.17W/(m^2*K). if we repeat the rest of calculations, we get a new value Tres=345.3K, since the use of hr is an approximation, we should check its applicability: 1/4*((345.3-308)/327)^2=0.00325<<1, in this case, the approximation is a very good one\n",
"Tr=Tres-273.06;\n",
"printf('\t temperature of ressistor is : %.2f K\n',Tr);\n",
"printf('\t  since 1/4*(temperature diffference/mean temperature)= 1/4*((72.3-35)/327)^2=0.00325<<1, in this case, the approximation is a very good one.');\n",
"//End"
   ]
   }
,
{
		   "cell_type": "markdown",
		   "metadata": {},
		   "source": [
			"## Example 2.9: time_of_cooling_of_ressistor.sci"
		   ]
		  },
  {
"cell_type": "code",
	   "execution_count": null,
	   "metadata": {
	    "collapsed": true
	   },
	   "outputs": [],
"source": [
"\n",
"clear;\n",
"clc;\n",
"\n",
"printf('\t Example 2.9\n');\n",
"\n",
"k=10; // thermal conductivity of ressistor, W/(m*K)\n",
"a=2000; //density of ressistor, kg/m^3\n",
"l=0.01; //length of cylinder, m\n",
"A=1.33*10^-4; //area of ressistor's surface, m^2\n",
"T1=308; // temperature of air in the cabinet,K\n",
"Cp=700; //heat capacity of ressistor, J/kg/K\n",
"Heff=18.44; // the effective heat  transfer coefficient of parallel convection and radiation process,  W/(m^2*K)\n",
"Bi=Heff*(0.0036/2)/k;\n",
"T=a*Cp*3.14*l*(0.0036)^2/(4*Heff*A); //since from previous example,To=72.3C, we have Tres=T1+(To-T)*exp(-t/T),Tres=308+(37.3)*exp(-t/T). 95% of the temperature drop has occured when t=T*3=174s.\n",
"t=3*T;\n",
"printf('\t time for 95 percent cooling of ressistor is : %.0f s\n',t);\n",
"//End"
   ]
   }
],
"metadata": {
		  "kernelspec": {
		   "display_name": "Scilab",
		   "language": "scilab",
		   "name": "scilab"
		  },
		  "language_info": {
		   "file_extension": ".sce",
		   "help_links": [
			{
			 "text": "MetaKernel Magics",
			 "url": "https://github.com/calysto/metakernel/blob/master/metakernel/magics/README.md"
			}
		   ],
		   "mimetype": "text/x-octave",
		   "name": "scilab",
		   "version": "0.7.1"
		  }
		 },
		 "nbformat": 4,
		 "nbformat_minor": 0
}
