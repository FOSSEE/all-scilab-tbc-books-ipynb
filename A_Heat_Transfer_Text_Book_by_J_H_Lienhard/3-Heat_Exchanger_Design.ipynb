{
"cells": [
 {
		   "cell_type": "markdown",
	   "metadata": {},
	   "source": [
       "# Chapter 3: Heat Exchanger Design"
	   ]
	},
{
		   "cell_type": "markdown",
		   "metadata": {},
		   "source": [
			"## Example 3.3: heat_transfer_coefficient_calculation.sci"
		   ]
		  },
  {
"cell_type": "code",
	   "execution_count": null,
	   "metadata": {
	    "collapsed": true
	   },
	   "outputs": [],
"source": [
"\n",
"clear;\n",
"clc;\n",
"\n",
"printf('\t Example 3.3\n');\n",
"\n",
"T1=293; // Entering Temperature of Water, K\n",
"T2=313; //Exit Temperature of water, K\n",
"m=25/60;//Condensation rate of steam, kg/s\n",
"T3=333; // Condensation Temperature,K\n",
"A=12; //area of exchanger, m^2\n",
"h=2358.7*10^3; //latent heat, J/kg\n",
"\n",
"U=(m*h)/(A*((T2-T1)/log((T3-T1)/(T3-T2))))+0.6;\n",
"printf('\t Overall heat transfer coefficient is : %.0f W/(m^2*K)\n',U);\n",
"\n",
"Mh=(m*h)/(4174*(T2-T1));\n",
"printf('\t required flow of water is : %.2f kg/s\n',Mh);\n",
"//End"
   ]
   }
,
{
		   "cell_type": "markdown",
		   "metadata": {},
		   "source": [
			"## Example 3.4: heat_exchanger_area.sci"
		   ]
		  },
  {
"cell_type": "code",
	   "execution_count": null,
	   "metadata": {
	    "collapsed": true
	   },
	   "outputs": [],
"source": [
"\n",
"clear;\n",
"clc;\n",
"\n",
"printf('\t Example 3.4\n');\n",
"\n",
"m=5.795; //flow rate of oil, kg/s\n",
"T1=454; //Entering Temperature of oil, K\n",
"T2=311; //Exit Temperature of oil, K\n",
"T3=305; // Entering Temperature of water, K\n",
"T4=322; //Exit Temperature of water, K\n",
"c=2282; //heat capacity, J/(kg*K)\n",
"U=416; //overall heat transfer coefficient , J/(m^2*K*s)\n",
"F=0.92; // Correction factor for 2 shell and 4 tube-pass exchanger,         since R=(T1-T2)/(T4-T3)=8.412 >1, P=(T4-T3)/(T1-T2)=0.114,we can get this value of F by using value of P =R*0.114\n",
"\n",
"A=(m*c*(T1-T2))/(U*F*((T1-T4-T2+T3)/log((T1-T4)/(T2-T3))));\n",
"printf('\t area for heat exchanger is : %.1f m^2\n', A);\n",
"//End"
   ]
   }
,
{
		   "cell_type": "markdown",
		   "metadata": {},
		   "source": [
			"## Example 3.5: heat_transfer_temperature.sci"
		   ]
		  },
  {
"cell_type": "code",
	   "execution_count": null,
	   "metadata": {
	    "collapsed": true
	   },
	   "outputs": [],
"source": [
"\n",
"clear;\n",
"clc;\n",
"\n",
"printf('\t Example 3.5\n');\n",
"\n",
"T1=313; //entering temperature of cold water, K\n",
"T2=423; //Entering temperature of hot water, K\n",
"Cc=20000; //heat capacity of cold water, W/K\n",
"Ch=10000; //heat capacity of hot water, W/K\n",
"A=30; //area, m^2\n",
"U=500; //overall heat transfer coefficient, w/(m^2*K)\n",
"e=0.596; // no. of transfer units(NTU)=(U*A)/Ch=1.5, the effectiveness of heat exchanger e can be found by using this value of NTU\n",
"\n",
"Q=e*Ch*(T2-T1);\n",
"Q1=Q/1000\n",
"printf('\t heat transfer is :%.1f KW\n',Q1);\n",
"\n",
"Texh=T2-Q/Ch;\n",
"Tn1=Texh-273;\n",
"printf('\t the exit hot water temperature is:%.2f C\n',Tn1);\n",
"\n",
"Texc=T1+Q/Cc\n",
"Tn2=Texc-273;\n",
"printf('\t the exit cold water temperature is : %.2f C\n',Tn2);\n",
"\n",
"//End"
   ]
   }
,
{
		   "cell_type": "markdown",
		   "metadata": {},
		   "source": [
			"## Example 3.6: area_calculatio.sci"
		   ]
		  },
  {
"cell_type": "code",
	   "execution_count": null,
	   "metadata": {
	    "collapsed": true
	   },
	   "outputs": [],
"source": [
"\n",
"clear;\n",
"clc;\n",
"\n",
"printf('\t Example 3.6\n');\n",
"\n",
"T1=313; //entering temperature of cold water, K\n",
"T2=423; //Entering temperature of hot water, K\n",
"T3=363; //Exit temperature of hot water, K\n",
"Cc=20000; //heat capacity of cold water, W/K\n",
"Ch=10000; //heat capacity of hot water, W/K\n",
"U=500; //overall heat transfer coefficient, w/(m^2*K)\n",
"T4=T1+(Ch/Cc)*(T2-T3);\n",
"e=(T2-T3)/(T2-T1);\n",
"\n",
"NTU=1.15;\n",
"A1=Ch*(NTU)/U;  // since NTU=1.15=U*A/Ch, A can be found by using this formula\n",
"printf('\t area is : %.2f m^2\n',A1);\n",
"\n",
"//another way to calculate the area is by using log mean diameter method\n",
"LMD=(T2-T1-T3+T4)/log(110/20);\n",
"A2=Ch*(T2-T3)/(U*LMD);\n",
"printf('\t area is : %.2f m^2\n',A2);\n",
"printf('\t there is difference of 1 percent in answers which reflects graph reading inaccuracy.');\n",
"// we can see that area calulated is same in above 2 methods.\n",
"//End"
   ]
   }
],
"metadata": {
		  "kernelspec": {
		   "display_name": "Scilab",
		   "language": "scilab",
		   "name": "scilab"
		  },
		  "language_info": {
		   "file_extension": ".sce",
		   "help_links": [
			{
			 "text": "MetaKernel Magics",
			 "url": "https://github.com/calysto/metakernel/blob/master/metakernel/magics/README.md"
			}
		   ],
		   "mimetype": "text/x-octave",
		   "name": "scilab",
		   "version": "0.7.1"
		  }
		 },
		 "nbformat": 4,
		 "nbformat_minor": 0
}
