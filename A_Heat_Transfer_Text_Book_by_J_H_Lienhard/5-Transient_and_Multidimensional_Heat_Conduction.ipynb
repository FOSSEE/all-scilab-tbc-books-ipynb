{
"cells": [
 {
		   "cell_type": "markdown",
	   "metadata": {},
	   "source": [
       "# Chapter 5: Transient and Multidimensional Heat Conduction"
	   ]
	},
{
		   "cell_type": "markdown",
		   "metadata": {},
		   "source": [
			"## Example 5.11: Thermal_Conductivity.sce"
		   ]
		  },
  {
"cell_type": "code",
	   "execution_count": null,
	   "metadata": {
	    "collapsed": true
	   },
	   "outputs": [],
"source": [
"\n",
"clear;\n",
"clc;\n",
"\n",
"printf('\t Example 5.11\n');\n",
"\n",
"Q=14; //steady heat transfer,W\n",
"D=0.06; //diameter of heat source,m\n",
"l=0.3;; // length of source below surface ,m\n",
"T=308; //temperature of heat source,K\n",
"T1=294; //temperature of surface,K\n",
"\n",
"k=(Q/(T-T1))*(1-(D/2)/(D*10))/(4*3.14*D/2)+0.025; // thermal conductivity of soil\n",
"\n",
"printf('\t thermal conductivity is : %.3f W/(m*K)\n',k);\n",
"\n",
"//end"
   ]
   }
,
{
		   "cell_type": "markdown",
		   "metadata": {},
		   "source": [
			"## Example 5.12: temperature_calculatio.sce"
		   ]
		  },
  {
"cell_type": "code",
	   "execution_count": null,
	   "metadata": {
	    "collapsed": true
	   },
	   "outputs": [],
"source": [
"\n",
"clear;\n",
"clc;\n",
"\n",
"printf('\t Example 5.12\n');\n",
"\n",
"l=0.04; // length of square rod, m\n",
"T1=373; // temerature of rod, K\n",
"T2=293; // temperature of coolant,K\n",
"h=800; //convective heat transfer coefficient, W/(m^2*K)\n",
"\n",
"a1=0.93; // ratio of temperature difference for Fo1=0.565, Bi1=0.2105, (x/l)1=0\n",
"a2=0.91; // ratio of temperature difference for Fo2=0.565, Bi2=0.2105, (x/l)2=0.5\n",
"a=a1*a2; //ratio of temperature difference at the axial line of interest\n",
"\n",
"T=(T1-T2)*a+T2; //temperature on a line 1 cm. from one side and 2 cm. from the adjoining side after 10 sec.\n",
"Ta=T-273;\n",
"\n",
"printf('\t temperature is : %.2f C\n',Ta);\n",
"//end"
   ]
   }
,
{
		   "cell_type": "markdown",
		   "metadata": {},
		   "source": [
			"## Example 5.13: Mean_Temperature_calculation.sce"
		   ]
		  },
  {
"cell_type": "code",
	   "execution_count": null,
	   "metadata": {
	    "collapsed": true
	   },
	   "outputs": [],
"source": [
"\n",
"clear;\n",
"clc;\n",
"\n",
"printf('\t Example 5.13\n');\n",
"\n",
"T1=373; // temperature of iron rod,K\n",
"T2=293; // temperature of coolant,K\n",
"\n",
"//Biot no., Bi1=Bi2=0.2105,Fo1=Fo2=0.565 \n",
"a1=0.10;\n",
"a2=0.10;\n",
"\n",
"a=a1+a2*(1-a1);\n",
"\n",
"T=(T1-T2)*(1-a)+T2;   //mean temperature,K\n",
"Ta=T-273;\n",
"printf('\t mean temperature is : %.1f C\n',Ta);\n",
"//end"
   ]
   }
,
{
		   "cell_type": "markdown",
		   "metadata": {},
		   "source": [
			"## Example 5.2: temperature_and_heat_calculation.sce"
		   ]
		  },
  {
"cell_type": "code",
	   "execution_count": null,
	   "metadata": {
	    "collapsed": true
	   },
	   "outputs": [],
"source": [
"\n",
"clear;\n",
"clc;\n",
"\n",
"printf('\t Example 5.2\n');\n",
"\n",
"d1=0.1; // diameter of sphere, m\n",
"T1=303; // environment temp.,K\n",
"T2=278; // fridge temp., K\n",
"h=6; //convection coefficient, W/(m^2*K)\n",
"k=0.603; //thermal conductivity,W/(m*K)\n",
"a=997.6; // density of water, kg/m^3\n",
"c=4180; //heat capacity, J/(kg*K)\n",
"\n",
"F=(k/(a*c))*3600/(d1^2)/4;\n",
"a1=0.85 // Biot no.=1/2.01 therefore we read from fig. in upper left hand corner\n",
"Tcen=a1*(T1-T2)+T2;  // temperature of the center of apple after 1 hour\n",
"Tc=Tcen-273;\n",
"printf('\t temperature after an hour is : %.1f C\n',Tc);\n",
"\n",
"a2=(283-T2)/(T1-T2); \n",
"F1=1.29 //Bi is still 1/2.01, by looking at the graph we can find time.\n",
"\n",
"t=F1*a*c*0.0025/0.603-2;\n",
"printf('\t time to bring the temp equal to 283k is : %.0f s or 6 hr 12 min\n',t);\n",
"//finally we look up at Bi=1/2.01 and fouling factor is 1.29, for spheres heta removal is 43.67 kJ per apple.\n",
"x=43.67;   //heat removal for an apple\n",
"X=12*x;   //total heat removal,kJ\n",
"\n",
"printf('\t total energy removal is :%.0f kJ\n',X);\n",
"//end"
   ]
   }
,
{
		   "cell_type": "markdown",
		   "metadata": {},
		   "source": [
			"## Example 5.3: temperature_fluctuatio.sce"
		   ]
		  },
  {
"cell_type": "code",
	   "execution_count": null,
	   "metadata": {
	    "collapsed": true
	   },
	   "outputs": [],
"source": [
"\n",
"clear;\n",
"clc;\n",
"\n",
"printf('\t Example 5.3\n');\n",
"\n",
"d1=0.001;; //diameter of nichrome, m\n",
"h=30000; //convection coefficient , W/(m^2*K)\n",
"T1=373; // wire temperature, K\n",
"\n",
"//heat is being generated in proportion to product of voltage and current, if the boiling action removes heat rapidly enough in comparison with the heat capacity of the wire,the surface temperature may well vary.\n",
"\n",
"Bi=h*d1/2/13.8; // biot number comes ot to be 1.09 and value of a= w*d1^(2)/4/a1 comes out to be 27.5. by looking at the chart of cylinders, we find that,     (Tmax-Tav)/(Tav-To)=0.04\n",
" TF=0.04; // temperature fluctuation of 4 percent is not serious and experiment is valid.\n",
" \n",
" printf('\t the temperature fluctuation is : %.2f this fluctuation is probably not serious.it therefore appears that the experiment is valid.\n', TF);\n",
" //end"
   ]
   }
,
{
		   "cell_type": "markdown",
		   "metadata": {},
		   "source": [
			"## Example 5.4: Maximum_Time_Calculatio.sce"
		   ]
		  },
  {
"cell_type": "code",
	   "execution_count": null,
	   "metadata": {
	    "collapsed": true
	   },
	   "outputs": [],
"source": [
"\n",
"clear;\n",
"clc;\n",
"\n",
"printf('\t Example 5.4\n');\n",
"\n",
"t=0.003; //half thickness of sword, m\n",
"a=1.5*10^-5; \n",
"\n",
"Tmax=t^2/(3.64^2*a); //condition for sword to be in semi infinite region\n",
"printf('\t maximum time for sword to be in semi infinite region is : %.3f s\n',Tmax);\n",
"printf('\t thus the quench would be felt at the centerline of the sword within only 1/20 s. the thermal diffusivity of clay is smaller than that of steel by a factor of about 30, so the quench time of coated steel must continue for over 1s before the temperature of the steel is affected at all, if the clay and sword thickness are comparable.')\n",
"//end"
   ]
   }
,
{
		   "cell_type": "markdown",
		   "metadata": {},
		   "source": [
			"## Example 5.5: Time_Calculatio.sce"
		   ]
		  },
  {
"cell_type": "code",
	   "execution_count": null,
	   "metadata": {
	    "collapsed": true
	   },
	   "outputs": [],
"source": [
"\n",
"clear;\n",
"clc;\n",
"\n",
"printf('\t Example 5.5\n');\n",
"h=100; //convective heat transfer coefficient, W/(m^2*K)\n",
"k=0.63; // thermal conductivity,W/(m*K)\n",
"//the short exposure to the flame causes only a very superficial heating,so we consider the finger to be semi-infinite region.it turns out that the burn threshold of human skin,Tburn is about 65 C. h=100 W/(m^2*K), we shall assume that the thermal conductivity of human flesh equals that of its major component - water and that the thermal diffusivity is equal to the known value for beef.\n",
"\n",
"// a=0.963, BE=h*x/k=0(since x=0 at the surface)\n",
"\n",
"// b^2=(h^2)*(0.135*10^-6)*t/(k^2)=0.0034*t. On solving error function by trial and error method, we get the value of t=0.33 sec.\n",
"\n",
"w=(1-0.963)*(%pi)^(0.5)/2;\n",
"\n",
"// thus it would require about 1/3 se to bring the skin to burn point.\n",
"\n",
"printf('it would require about 1/3 sec to bring the skin to burn point');\n",
"\n",
"//end\n",
""
   ]
   }
,
{
		   "cell_type": "markdown",
		   "metadata": {},
		   "source": [
			"## Example 5.7: depth_calculatio.sce"
		   ]
		  },
  {
"cell_type": "code",
	   "execution_count": null,
	   "metadata": {
	    "collapsed": true
	   },
	   "outputs": [],
"source": [
"\n",
"clear;\n",
"clc;\n",
"\n",
"printf('\t Example 5.7\n');\n",
"\n",
"//w=2*3.14 rad/yr , a=w*t=0 at present.first we find the depths at which a=0 curve reaches its local extrema.(we pick the a=0 curve because it) gives the highest temperature at t=o.).tan(o-e)=1 so e=3%pi/4, 7%pi/4....and the first minima occurs where e=3%pi/4=2.356.\n",
"\n",
"b=0.139*10^-6; //thermal diffusivity, m^2/s\n",
"\n",
"x=2.356/(2*3.14/(2*b*365*24*3600))^0.5;  //depth of digging of earth to find the temperature wave\n",
"\n",
"printf('\t depth of digging of earth is :%.3f m, if we dug in the earth, we would find it growing older until it reached a maximum coldness at a depth of about 2.8 m.Farther down, it would begin to warm up again, but nt much. in midwinter, the reverse would be true \n',x);\n",
"\n",
"//end"
   ]
   }
,
{
		   "cell_type": "markdown",
		   "metadata": {},
		   "source": [
			"## Example 5.8: temperature_calculatio.sce"
		   ]
		  },
  {
"cell_type": "code",
	   "execution_count": null,
	   "metadata": {
	    "collapsed": true
	   },
	   "outputs": [],
"source": [
"\n",
"clear;\n",
"clc;\n",
"\n",
"printf('Example 5.8\n');\n",
"\n",
"l=0.08; //distance between metal walls,m\n",
"k=0.12; //thermal conductivity of insulating material, w/(m*K)\n",
"l1=0.04; //length of ribs,m\n",
"l2=0.14; //projected legth of wall,m\n",
"T1=40; // temoerature of 1st wall,C\n",
"T2=0; //temperature of wall, C\n",
"\n",
"//by looking at the configuration plot, there are approximately 5.6 isothermal increments and 6.15 flow channels.\n",
"\n",
"Q=2*(6.15/5.6)*k*(T1-T2); //factor of 2 accounts for the fact that there are two halves in the section.\n",
"\n",
"T=2.1/5.6*(T1-T2); // by simple propotionality\n",
"\n",
"printf('\t temperature in the middle of of wall, 2 cm from a rib is : %.0f C\n',T);\n",
"\n",
"//end"
   ]
   }
,
{
		   "cell_type": "markdown",
		   "metadata": {},
		   "source": [
			"## Example 5.9: Shape_Factor_Calculatio.sce"
		   ]
		  },
  {
"cell_type": "code",
	   "execution_count": null,
	   "metadata": {
	    "collapsed": true
	   },
	   "outputs": [],
"source": [
"\n",
"clear;\n",
"clc;\n",
"\n",
"printf('\t Example 5.9\n');\n",
"\n",
"r=3; // radius ratio of one-quarter section of cylinder\n",
"\n",
"S=%pi/(2*log(r)); // shape factor\n",
"\n",
"printf('\t shape factor is : %.2f \n the quarter cylinder will be pictured for the radius ratio of 3, but for the different sizes.in both the cases it will be 1.43',S);\n",
"//end"
   ]
   }
],
"metadata": {
		  "kernelspec": {
		   "display_name": "Scilab",
		   "language": "scilab",
		   "name": "scilab"
		  },
		  "language_info": {
		   "file_extension": ".sce",
		   "help_links": [
			{
			 "text": "MetaKernel Magics",
			 "url": "https://github.com/calysto/metakernel/blob/master/metakernel/magics/README.md"
			}
		   ],
		   "mimetype": "text/x-octave",
		   "name": "scilab",
		   "version": "0.7.1"
		  }
		 },
		 "nbformat": 4,
		 "nbformat_minor": 0
}
