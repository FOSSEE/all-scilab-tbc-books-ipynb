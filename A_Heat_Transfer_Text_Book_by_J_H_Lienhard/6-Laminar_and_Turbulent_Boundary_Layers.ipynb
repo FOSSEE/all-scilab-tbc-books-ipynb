{
"cells": [
 {
		   "cell_type": "markdown",
	   "metadata": {},
	   "source": [
       "# Chapter 6: Laminar and Turbulent Boundary Layers"
	   ]
	},
{
		   "cell_type": "markdown",
		   "metadata": {},
		   "source": [
			"## Example 6.10: Average_temperature_calculatio.sce"
		   ]
		  },
  {
"cell_type": "code",
	   "execution_count": null,
	   "metadata": {
	    "collapsed": true
	   },
	   "outputs": [],
"source": [
"\n",
"clear;\n",
"clc;\n",
"\n",
"printf('\t Example 6.3\n');\n",
"\n",
"l=2; // length of plate,m\n",
"p=1000; // power density,W/m^2\n",
"u=10; // air velocity,m/s\n",
"T1=290; // wind tunnel temp.,K\n",
"p2=1; // pressure,atm\n",
"Re = 400000; // reynolds no.\n",
"\n",
"v=1.578*10^-5; // kinematic viscosity, m^2/s\n",
"k=0.02623; // thermal conductivity,W/(m*K)\n",
"Pr=0.713; // prandtl no.\n",
"Rel=u*l/v; //reynolds no. at 10 m/s\n",
"\n",
"Nul=1845; // nusselt no.\n",
"\n",
"h=Nul*k/l; //convection coefficient,W/(m^2*K)\n",
"\n",
"Tavg=T1+p/h;\n",
"\n",
"printf('\t average temperature of plate is : %.0f K\n',Tavg);\n",
"//to take better account of the transition region, we can use churchill eqn.\n",
"x=Rel*Pr^(2/3)/(1+(0.0468/Pr)^2/3)^0.5;  \n",
"x1=1.875*x*Re;\n",
"Nul1=0.45+0.6774*x^(0.5)*(1+((x/12500)^3/5/(1+(x1/x)^3.5)^0.4)^0.5);\n",
"\n",
"H=Nul1*k/l;   //convection coefficient,W/(m^2*K)\n",
"Tw=290+1000/H-77.14;   //average temperature of plate,K\n",
"printf('\t average temperature of plate is :%.0f K , thus in this case, the average heat transfer coefficient is 33 percent higher when the transition regime is included.\n',Tw);\n",
"//end"
   ]
   }
,
{
		   "cell_type": "markdown",
		   "metadata": {},
		   "source": [
			"## Example 6.2: boundary_layer_thickness_calculation.sce"
		   ]
		  },
  {
"cell_type": "code",
	   "execution_count": null,
	   "metadata": {
	    "collapsed": true
	   },
	   "outputs": [],
"source": [
"\n",
"clear;\n",
"clc;\n",
"\n",
"printf('\t example 6.2\n');\n",
"\n",
"T1=300; //air temperature,K\n",
"v=1.5; //air velocity, m/s\n",
"t=0.5; //thickness, m\n",
"u=1.853*10^-5; //dynamic viscosity,kg/(m*s)\n",
"v1=1.566*10^-5; // kinematic viscosity, m^2/s\n",
"\n",
"Rex=v*t/v1; //reynolds no. is low enough to permit the use of laminar flow analysis.\n",
"\n",
"b=4.92*t/(Rex^0.5)*100; // bl thickness, cm\n",
"\n",
"//in this case b/x=1.124/50=0.0225 so laminar flow is valid.\n",
"\n",
"v2=0.8604*(v1*v/t)^(0.5);\n",
"//since v2 grows larger as x grows smaller, the condition v2<u is not satisfied very near the leading edge.\n",
"\n",
"printf('\t boundary layer thickness is : %.3f cm\n',b);\n",
"//in this case del/thickness is 0.0225.\n",
"x=0.8604*(v1*v/t)^0.5;  //velocity,m/s\n",
"y=x/t;\n",
"printf('\t since velocity grows larger as thickness grows smaller, the condition x<<u is not satisfied very near the leading edge. therefore the BI approximation themselves breakdown.')\n",
"//end"
   ]
   }
,
{
		   "cell_type": "markdown",
		   "metadata": {},
		   "source": [
			"## Example 6.3: shear_Stress_and_friction_coefficient.sce"
		   ]
		  },
  {
"cell_type": "code",
	   "execution_count": null,
	   "metadata": {
	    "collapsed": true
	   },
	   "outputs": [],
"source": [
"\n",
"clear;\n",
"clc;\n",
"\n",
"printf('\t Example 6.3\n');\n",
"\n",
"l=0.5; //total length of surface,m\n",
"Cf=0.00607; //overall friction coefficient\n",
"tw=1.183*(2.25)*Cf/2; // wall shear, kg/(m*s^2)\n",
"\n",
"a=0.5; //ratio of wall shear  at x=l and average wall shear\n",
"\n",
"//tw(x)=twavg where 0.664/(x^0.5)=1.328/(47,)893, x=1/8 m thus the wall shear stress plummets to twavg one fourth of the way from the leading edge and drops only to one half   of twavg in the remaining 75 percent plate.x<600*1.566*10^(-5)/1.5=0.0063 m.\n",
"\n",
"// preceding analysis should be good over almost 99 percent of the 0.5 m length of the surface.\n",
"\n",
"printf('\t overall friction coefficient is : %f\n',Cf);\n",
"printf('\t wall shear is :%f  kg/(m*s^2)\n',tw);\n",
"printf('\t the preceding analysis should be good over almost 99 percent of the 0.5m length of the surface.')\n",
"//end"
   ]
   }
,
{
		   "cell_type": "markdown",
		   "metadata": {},
		   "source": [
			"## Example 6.4: Average_Heat_Flux.sce"
		   ]
		  },
  {
"cell_type": "code",
	   "execution_count": null,
	   "metadata": {
	    "collapsed": true
	   },
	   "outputs": [],
"source": [
"\n",
"clear;\n",
"clc;\n",
"\n",
"printf('\t Example 6.4\n');\n",
"\n",
"l=0.06; //length of heater, m\n",
"p=15; // pressure of heater, atm\n",
"T1=440; //temperature of heater, K\n",
"v=2; //free stream velocity,m/s\n",
"T2=460; // constant temperature of heater, K\n",
"\n",
"T3=450; //mean temperature of heater, K\n",
"\n",
"q=2*(0.332)*(0.674/l)*(v*l/(1.72*10^-7))^(0.5)*(T2-T1)/1000; // formula for heat flux is q=2*(0.664)*k/l*(Rel^0.5)*(T2-T1)\n",
"\n",
"printf('\t heat flux is : %.0f kW/m^2\n',q);\n",
"//end"
   ]
   }
,
{
		   "cell_type": "markdown",
		   "metadata": {},
		   "source": [
			"## Example 6.5: Average_Heat_Transfer_coefficient.sce"
		   ]
		  },
  {
"cell_type": "code",
	   "execution_count": null,
	   "metadata": {
	    "collapsed": true
	   },
	   "outputs": [],
"source": [
"\n",
"clear;\n",
"clc;\n",
"\n",
"printf('\t Example 6.5\n');\n",
"\n",
"T1=293; //air temperature,K\n",
"v=15; //air velocity,m/s\n",
"T2=383; // temperature of plate,K\n",
"l=0.5; // length of plate,m\n",
"w=0.5; //width of plate,m\n",
"\n",
"Pr=0.707; // prandtl no.\n",
"Rel=v*l/(0.0000194); //reynplds no.\n",
"Nul=0.664*(Rel)^0.5*Pr^(1/3); // nusset no.\n",
"\n",
"h1=367.8*(0.02885)/l; // average convection coefficient, W/(m^2*K)\n",
"Q=h1*l^(2)*(T2-T1); // heat transferred,W\n",
"\n",
"h2=h1/2 // convection coefficient at trailing , W/(m^2*K)\n",
"a1=4.92*l/(Rel)^0.5*1000 // hydrodynamic boundary layer,m\n",
"\n",
"a2=a1/(Pr)^(1/3); //thermal boundary layer,mm\n",
"\n",
"printf('\t average heat trensfer coefficient is : %.1f W/m^2/K\n',h1);\n",
"printf('\t total heat transferred is  %.0f W\n',Q);\n",
"printf('\t convection coefficient at trailing is : %.1fW/(m^2*K)\n',h2);\n",
"printf('\t hydrodynamic boundary layer is : %.2f m\n',a1);\n",
"printf('\t thermal boundary layer is : %.2f mm\n',a2);\n",
"\n",
"// end"
   ]
   }
,
{
		   "cell_type": "markdown",
		   "metadata": {},
		   "source": [
			"## Example 6.6: Average_temperature_calculatio.sce"
		   ]
		  },
  {
"cell_type": "code",
	   "execution_count": null,
	   "metadata": {
	    "collapsed": true
	   },
	   "outputs": [],
"source": [
"\n",
"clear;\n",
"clc;\n",
"\n",
"printf('\t Example 6.6\n');\n",
"\n",
"T1=288; // air temperature,K\n",
"v=1.8; // air velocity,m/s\n",
"l=0.6; // length of panel, m\n",
"Q=420; // power per unit area, m^2\n",
"T2=378; // maximum temperature of surface, K\n",
"\n",
"T3=Q*l/(0.0278)/(0.453*(l*v/(1.794*10^-5))^(0.50)*(0.709)^(1/3)); //maximum temperature difference \n",
"\n",
"Twmax=T1+T3;  //Twmax comes out to be 106.5 C, this is very close to 105 C,if 105 is at all conservative, Q = 420 should be safe.\n",
"\n",
"T4=0.453/0.6795*T3; //average temperature difference,K\n",
"\n",
"Twavg=T1+T4; //average wall temperature,K\n",
"Twa=Twavg-273;\n",
"\n",
"printf('\t average wall temperature is : %.0f C\n',Twa);\n",
"//end"
   ]
   }
,
{
		   "cell_type": "markdown",
		   "metadata": {},
		   "source": [
			"## Example 6.8: Drag_Force_calculatio.sce"
		   ]
		  },
  {
"cell_type": "code",
	   "execution_count": null,
	   "metadata": {
	    "collapsed": true
	   },
	   "outputs": [],
"source": [
"\n",
"clear;\n",
"clc;\n",
"\n",
"printf('\t Example 6.3\n');\n",
"\n",
"v=15; //air velocity,m/s\n",
"T2=383; // temperature of plate,K\n",
"l=0.5; // length of plate,m\n",
"w=0.5; //width of plate,m\n",
"\n",
"Pr=0.707; // prandtl no.\n",
"Rel=v*l/(0.0000194); //reynplds no.\n",
"Nul=0.664*(Rel)^0.5*Pr^(1/3); // nusset no.\n",
"\n",
"Cf=2*Nul/(Rel*Pr^(1/3)); //friction coefficient\n",
"\n",
"s=Cf*0.5*1.05*225; //drag shear, kg/(m*s^2)\n",
"f=s*0.5^2-0.000024;  //drag force, kg/(m*s^2)\n",
"\n",
"printf('\t drag force on heat transfer surface is :%f N or 0.23 oz.\n',f);\n",
"\n",
"//end"
   ]
   }
,
{
		   "cell_type": "markdown",
		   "metadata": {},
		   "source": [
			"## Example 6.9: heat_transfer_coefficient_calculation.sce"
		   ]
		  },
  {
"cell_type": "code",
	   "execution_count": null,
	   "metadata": {
	    "collapsed": true
	   },
	   "outputs": [],
"source": [
"\n",
"clear;\n",
"clc;\n",
"\n",
"printf('\t Example 6.3\n');\n",
"\n",
"T1=297; // river water temp.,K\n",
"T2=283; // ocean water temp., K\n",
"n=5; // no. of knots\n",
"k=0.5927; // thermal conductivity,W/(m*K)\n",
"a=998.8; //density of water, kg/m^3\n",
"Cp=4187; // heat capacity, J/kg/K\n",
"Pr=7.66;\n",
"x=1; //distance from forward edge,m\n",
"\n",
"T3=(T1+T2)/2; // avg. temp.,K\n",
"v=1.085*10^-6; // kinematic viscosity, m^2/s\n",
"\n",
"u=2.572; //velocity of knot,m/s\n",
"\n",
"Rex=u/v //reynolds no.\n",
"Cf(x)=0.455/(log(0.06*Rex))^2 // friction coefficient\n",
"\n",
"h=k/x*0.032*(Rex)^(0.8)*Pr^(0.43); // heat transfer coefficient,W/(m^2*K)\n",
"printf('\t friction coefficient is : %f\n',Cf);\n",
"printf('\t convective heat transfer coefficient at a distance of 1 m fom the forward edge is :%.0f W/(m^2*K)\n',h);\n",
"h1=a*Cp*u*Cf/2/(1+12.8*(7.66^0.68-1)*(Cf/2)^0.5);  //heat transfer coefficient,W/(m^2*K)\n",
"printf('\t heat transfer coefficient by another method is :%.0f W/(m^2*K)\n',h1);\n",
"printf('\t the two values of h differ by about 18 percent, which is within the uncertainity.');\n",
"\n",
"//end"
   ]
   }
],
"metadata": {
		  "kernelspec": {
		   "display_name": "Scilab",
		   "language": "scilab",
		   "name": "scilab"
		  },
		  "language_info": {
		   "file_extension": ".sce",
		   "help_links": [
			{
			 "text": "MetaKernel Magics",
			 "url": "https://github.com/calysto/metakernel/blob/master/metakernel/magics/README.md"
			}
		   ],
		   "mimetype": "text/x-octave",
		   "name": "scilab",
		   "version": "0.7.1"
		  }
		 },
		 "nbformat": 4,
		 "nbformat_minor": 0
}
