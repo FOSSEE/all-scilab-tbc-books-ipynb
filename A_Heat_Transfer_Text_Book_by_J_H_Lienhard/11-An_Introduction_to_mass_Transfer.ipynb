{
"cells": [
 {
		   "cell_type": "markdown",
	   "metadata": {},
	   "source": [
       "# Chapter 11: An Introduction to mass Transfer"
	   ]
	},
{
		   "cell_type": "markdown",
		   "metadata": {},
		   "source": [
			"## Example 11.10: average_rate_of_naphthalene_loss.sce"
		   ]
		  },
  {
"cell_type": "code",
	   "execution_count": null,
	   "metadata": {
	    "collapsed": true
	   },
	   "outputs": [],
"source": [
"\n",
"\n",
"clear;\n",
"clc;\n",
"\n",
"printf('\t Example 11.10\n');\n",
"T1=303;          // isothermal temp.,K\n",
"v=5;    //air speed,m/s\n",
"l=0.05;    //length of naphthalene model that is flat, m\n",
"Mnap=128.2;        //molar mass of naphthalene,kg/kmol\n",
"D=0.86*10^-5;    //diffusion coefficient of naphthalene in air,m/s\n",
"\n",
"Pv=10^(11.45-3729.3/T1)*133.31;    //vapor pressure, Pa\n",
"xn=Pv/101325;    //mole fraction  of naphthalene\n",
"mn=xn*Mnap/(xn*Mnap+(1-xn)*28.96);    //mass fraction of naphthalene\n",
"mnp=0;    //mass fraction of naphthalene in free stream is 0\n",
"\n",
"Rel=v*l/(1.867*10^-5);        //reynolds no.\n",
"Sc=1.867*10^-5/D;    //schimidt no.\n",
"Nul=0.664*Rel^0.5*Sc^1/3;    //mass transfer nusselt no.\n",
"Gmn=D*Nul*1.166/l;    //gas phase mass transfer coefficient,kg/(m^2*s)\n",
"n=Gmn*(mn-mnp)+0.0000071;    //average mass flux,kg/(m^2*s)\n",
"\n",
"printf('\t average rate of loss of naphthalene from a part of model is :%-4e kg/(m^2*s) or 58 g/(m^2*h)\n',n);\n",
"printf('\t naphthalene sublimatin can be used to infer heat transfer coefficient by measuring the loss of naphthalene from a model over some length of time.since the schimidt no. of naphthalene is not generally equal to prandtl no. under the conditions of interest, some assumption about the dependence of nusselt no. on the prandtl no must usually be introduced.')\n",
"//end"
   ]
   }
,
{
		   "cell_type": "markdown",
		   "metadata": {},
		   "source": [
			"## Example 11.11: average_concentration_of_helium.sce"
		   ]
		  },
  {
"cell_type": "code",
	   "execution_count": null,
	   "metadata": {
	    "collapsed": true
	   },
	   "outputs": [],
"source": [
"\n",
"clear;\n",
"clc;\n",
"\n",
"printf('\t Example 11.11\n');\n",
"T1=300;          //temp. of helium-water tube,K\n",
"h=0.4;    //height of vertical wall,m\n",
"m=0.087*10^-3;    //flow rate of helium,kg/(m^2*s)\n",
"//this is a uniform flux natural convection problem.\n",
"\n",
"Mhes=0.01;    // assuming the value of mass fraction of helium at the wall to be 0.01\n",
"Mhef=Mhes/2;    //film composition\n",
"\n",
"af=1.141;    //film density,kg/m^3\n",
"as=1.107;    //wall density,kg/m^3\n",
"Dha=7.119*10^-5;    //diffusion coefficient,m^2/s\n",
"u=1.857*10^5;    //fil,m viscosity at 300K,kg/(m*s)\n",
"Sc=(u/af)/Dha;    //schimidt no.\n",
"aa=1.177;    //air density,kg/m^3\n",
"Ra1=9.8*(aa-as)*m*h^4/(u*af*Dha^2*Mhes);    //Rayleigh no.\n",
"\n",
"Nu=6/5*(Ra1*Sc/(4+9*Sc^0.5+10*Sc))^(1/5);        //approximate nusselt no.\n",
"s=m*h/(af*Dha*Nu);    //average concentration of helium at hte wall\n",
"\n",
"//thus we have obtained an average wall concentration 14 oercent higher than our initial guess of Mhes.we repeat this calclations with revised values of densities to obtain Mhes = 0.01142\n",
"\n",
"printf(' average conentration of helium at the wall is 0.01142 ,since the result is within  0.5 percent of our second guess, a third iteration is not needed.');\n",
"//end"
   ]
   }
,
{
		   "cell_type": "markdown",
		   "metadata": {},
		   "source": [
			"## Example 11.14: concentration_distribution.sce"
		   ]
		  },
  {
"cell_type": "code",
	   "execution_count": null,
	   "metadata": {
	    "collapsed": true
	   },
	   "outputs": [],
"source": [
"\n",
"clear ;\n",
"clc;\n",
"\n",
"printf('\t Example 11.14\n');\n",
"T1=325;          //temp. of helium-water tube,K\n",
"l=0.2;    //length of tube,m\n",
"x=0.01;       // mole fraction of water\n",
"//the vapor pressure of the liquid water is approximately the saturation pressure at the water temp.\n",
"p=1.341*10000 ;       //vapor pressure using steam table,Pa\n",
"x1=p/101325;    //mole fraction of saturated water\n",
"R=8314.472;    //gas constant,J/(kmol*K)\n",
"c= 101325/(R*T1);    //mole concentration in tube,kmol/m^3\n",
"D12=1.067*10^-4;        //diffusivity ofwater with respect to helium,m^2/s \n",
"Nw=c*D12*log(1+(x-x1)/(x1-1))/l ;   //molar evaporation rate,kmol/(m^2*s)\n",
"\n",
"nw=Nw*18.02;        // mass evaporation rate,kg/(m^2*s)\n",
"\n",
"//S=1+(x1-1)*exp(Nw*y/(c*D12))    //conentration distribution of water-vapor\n",
"printf('\t conentration distribution of water-vapor is  : x1(y)=1-0.8677*exp(0.6593*y) where y is expressed in meters.\n')\n",
"//end"
   ]
   }
,
{
		   "cell_type": "markdown",
		   "metadata": {},
		   "source": [
			"## Example 11.15: rate_of_evaporatio.sce"
		   ]
		  },
  {
"cell_type": "code",
	   "execution_count": null,
	   "metadata": {
	    "collapsed": true
	   },
	   "outputs": [],
"source": [
"\n",
"clear ;\n",
"clc;\n",
"\n",
"printf('\t Example 11.15\n');\n",
"T1=1473;          //suraface temp.of hot water,K\n",
"x=0.05;        //mass fraction of water\n",
"Gm=0.017;       //average mass  transfer coefficient,kg/(m^2*s)\n",
"A=0.04;        //suraface area of pan,m^2\n",
"\n",
"//only water vapour passes through the liquid surface, since air is not strongly absorbed into water under normal conditions.\n",
"\n",
"p=38.58*1000;       // saturation pressure of water,kPa\n",
"Xwater=p/101325;    //mole fraction of saturated water\n",
"Mwater=Xwater*18.02/(Xwater*18.02+(1-Xwater)*28.96);    //mass fraction of saturated water\n",
"\n",
"B=(x-Mwater)/(Mwater-1);    //mass transfer driving force\n",
"m=Gm*B*A;            //evaporation rate,kg/s\n",
"printf('\t evaporation rate is:%f kg/s or 769 g/hr.',m);\n",
"//end"
   ]
   }
,
{
		   "cell_type": "markdown",
		   "metadata": {},
		   "source": [
			"## Example 11.16: mass_transfer_coefficient_calculation.sce"
		   ]
		  },
  {
"cell_type": "code",
	   "execution_count": null,
	   "metadata": {
	    "collapsed": true
	   },
	   "outputs": [],
"source": [
"\n",
"clear;\n",
"clc;\n",
"\n",
"printf('\t Example 11.16\n');\n",
"T1=298;          //temp.of air,K\n",
"T2=323.15;        //film temp.,K\n",
"x=0.05;        //mass fraction of water at 75 C\n",
"Gm=0.017;       //average mass  transfer coefficient,kg/(m^2*s)\n",
"A=0.04;        //suraface area of pan,m^2\n",
"l=0.2;        //length of pan in flow direction,m\n",
"v=5;        //air speed,m/s\n",
"m=(x+0.277)/2;    //film composition of water at 50 C\n",
"Mf=26.34;    //mixture molecular weight,kg/kmol\n",
"af=101325*Mf/(8314.5*T2);    //film density from ideal gas law,kg/m^3\n",
"Uf=1.75*10^-5;    //film viscosity,kg/(m*s)\n",
"Vf=Uf/af;    //kinematic viscosity,m^2/s\n",
"Rel=v*l/Vf;    //reynolds no. comes out to be 56,800 so the flow is laminar.\n",
"B=0.314;     //mass transfer driving force\n",
"\n",
"D=2.96*10^-5;    //diffusivity of water in air,m^2/s\n",
"Sc=Vf/D;    //scimidt no.\n",
"\n",
"Nu=0.664*Rel^0.5*Sc^1/3;    //nussselt no.\n",
"Gmw1=Nu*(D*A/l);    //appropriate value of mass transfer gas phase coeffficient of water in air,kg/(m^2*s)\n",
"Gmw=Gmw1*(log(1+B)/B)+0.0168;    //mass transfer gas phase coeffficient of water in air,kg/(m^2*s)\n",
"\n",
"printf('mass transfer gas phase coeffficient of water in air is : %.4f kg/(m^2*s)\n  In this caes, the blowing factor is 0.870. thus the mild blowing has reduced the mass transfer coefficient by about 13 percent.',Gmw);\n",
"\n",
"//end"
   ]
   }
,
{
		   "cell_type": "markdown",
		   "metadata": {},
		   "source": [
			"## Example 11.1: mol_fraction_and_pressure_density_calculation.sce"
		   ]
		  },
  {
"cell_type": "code",
	   "execution_count": null,
	   "metadata": {
	    "collapsed": true
	   },
	   "outputs": [],
"source": [
"\n",
"clear;\n",
"clc;\n",
"\n",
"printf('\t Example 11.1\n');\n",
"\n",
"Mn2=0.7556;        //mass fraction of nitrogen\n",
"Mo2=0.2315;    //mass fraction of oxygen\n",
"Mar=0.01289;    //mass fraction of argon gas\n",
"M1=28.02;    //molar mass of N2,kg/kmol\n",
"M2=32;    //molar mass of O2,kg/kmol\n",
"M3=39.95 ;   //molar mass of Ar,kg/kmol\n",
"Mair=(Mn2/M1+Mo2/M2+Mar/M3)^-1;    //molar mass of air,kg/kmol\n",
"\n",
"Xo2=Mo2*Mair/M2;    //mole fraction of O2\n",
"PO2=Xo2*101325;    //partial pressure of O2,Pa\n",
"Co2=PO2/(8314.5*300);    //molar volume of O2,kmol/m^3\n",
"ao2=Co2*M2;    //density of O2,kg/m^3\n",
"\n",
"printf('mole fraction of O2 is :%.4f\n',Xo2);\n",
"printf('partial pressure of O2 is :%4e\n',PO2);\n",
"printf('molar volume of O2 is :%.5f kmol/m^3\n',Co2);\n",
"printf('density of O2 is :%.4f kg/m^3\n',ao2);\n",
"//end"
   ]
   }
,
{
		   "cell_type": "markdown",
		   "metadata": {},
		   "source": [
			"## Example 11.2: mass_and_mole_flux_calculation.sce"
		   ]
		  },
  {
"cell_type": "code",
	   "execution_count": null,
	   "metadata": {
	    "collapsed": true
	   },
	   "outputs": [],
"source": [
"\n",
"clear;\n",
"clc;\n",
"\n",
"printf('\t Example 11.2\n');\n",
"\n",
"r=0.00241;        //rate of consumption of carbon,kg/(m^2*s)\n",
"Mo2=0.2;    //concentration of oxygen at surface s\n",
"Mco2=0.052;    //concentration of CO2 at surface s\n",
"as=0.29;    //density of surface s,kg/m^3\n",
"\n",
"//since carbon flows through a second imaginary surface u, the mass fluxes are relatedd by    Ncu=-12/32*No2s=12/44*Nco2s\n",
"//the minus sign arises because the O2 flow is opposite the C and CO2 flows.in steady state if we apply mass conservation to the control volume between the u and s surface, wee find that the total mass flux entering the u surface equals that leaving the s surface\n",
"\n",
"Ncu=r;    //mass fluxes of carbon in u surface,kg/m^2/s\n",
"\n",
"No2s=-32/12*Ncu;    //mass flux of O2 in surface s,kg/(m^2*s)\n",
"Nco2s=44/12*Ncu;    //mass flux of CO2 in surface s,kg/(m^2*s)\n",
"Vo2s=No2s/(Mo2*as);    //mass average speed,m/s\n",
"Vco2s=Nco2s/(as);    //mass average speed,m/s\n",
"\n",
"Vs=(Nco2s+No2s)/as;    //effective mass average speed,m/s\n",
"j1=0.0584*(Vo2s-Vs)+0.000526;    //diffusional mass flux,kg/(m^2*s)\n",
"j2=0.0087+0.00014;    //diffusional mass flux,kg/(m^2*s)\n",
"//the diffusional mass fluxes are very nearly equal to the species m ss fluxes. tha is because the mass average speed is much less than species speeds.\n",
"\n",
"N1=Ncu/12;    //mole flux of carbon through the surface s,kmol/(m^2*s)\n",
"N2=-N1;        //mole flux of oxygen through the surface s,kmol/(m^2*s)\n",
"printf('\t mass flux of O2 through an imaginary surface is :%.5f kg/(m^2*s)\n',j1);\n",
"printf('\t mass flux of CO2 through an imaginary surface is :%.5f kg/(m^2*s)\n',j2);\n",
"\n",
"printf('\t mole flux of Co2 through an imaginary surface is :%f kmol/(m^2*s)\n',N1);\n",
"printf('\t mole flux of O2through an imaginary surface is :%f kmol/(m^2*s)\n',N2);\n",
"printf('\t the two diffusional mole fluxes sum to zero themselves because ther is no convective mole flux for other species to diffuse against. the reader may ind the velocity of the interface.that calculation shows the interface to be receding so slowly that the velocities are equal to those that would be seen by a stationary observer. ')\n",
"//end"
   ]
   }
,
{
		   "cell_type": "markdown",
		   "metadata": {},
		   "source": [
			"## Example 11.3: diffusivity_calculatio.sce"
		   ]
		  },
  {
"cell_type": "code",
	   "execution_count": null,
	   "metadata": {
	    "collapsed": true
	   },
	   "outputs": [],
"source": [
"\n",
"\n",
"clear ;\n",
"clc;\n",
"\n",
"printf('\t Example 11.3\n');\n",
"T1=276;          //temp.of air,K\n",
"aa=3.711;    //lennard jones constant or collision diameter,A\n",
"ab=2.827;    //lennard jones constant or collision diameter,A\n",
"b1=78.6;    //lennard jones constant,K\n",
"b2=59.7;      //lennard jones constant,K\n",
"a=(aa+ab)/2;    //effective molecular diameter for collisions of hydrogen and air,m\n",
"b=(b1*b2)^0.5;    //effective potential well depth,K\n",
"c=T1/b;    \n",
"\n",
"d=0.8822;    //potential well function\n",
"Dab=1.8583*10^-7*T1^1.5/(a^2*d)*(1/2.016+1/28.97)^0.5;    //diffusion coefficient of hydrogen in air,m^2/s\n",
"\n",
"printf('\t diffusion coefficient of hydrogen in air is :% -5e m^2/s an experimental value from table is 6.34*10^-5 m^2/s,so the prediction is high by 5 percent.\n',Dab);\n",
"//end"
   ]
   }
,
{
		   "cell_type": "markdown",
		   "metadata": {},
		   "source": [
			"## Example 11.4: transport_properties_calculation.sce"
		   ]
		  },
  {
"cell_type": "code",
	   "execution_count": null,
	   "metadata": {
	    "collapsed": true
	   },
	   "outputs": [],
"source": [
"\n",
"clear;\n",
"clc;\n",
"\n",
"printf('\t Example 11.4\n');\n",
"T1=373.15;          //temp.of tea,K\n",
"XN2=0.7808;    //mole fraction of nitrogen\n",
"XO2=0.2095;    //mole fraction of oxygen\n",
"Xar=0.0093;    //mole fraction of\n",
"a=[3.798 3.467 3.542];    //collisin diameter,m\n",
"b=[71.4 106.7 93.3];    //lennard jones constant,K\n",
"M=[28.02 32 39.95];    //molar masses,kg/kmol\n",
"c=[0.9599 1.057 1.021];    //potential well function\n",
"d=[1.8*10^-5 2.059*10^-5 2.281*10^-5];    //calculated viscosity,kg/(m*s)\n",
"e=[1.8*10^-5 2.07*10^-5 2.29*10^-5 ];    // theoritical viscosity,kg/(m*s)\n",
"f=[0.0260 0.02615 0.01787];    //theoritical thermal conducitvity,W/(m*K)\n",
"i=1;\n",
"while(i<4)\n",
"u(i)=2.6693*10^-6*(M(i)*T1)^0.5/((a(i)^2*c(i)));    //viscosity,kg/(m*s)\n",
"k(i)=0.083228/((a(i))^2*c(i))*(T1/M(i))^0.5    //thermal conductivity,W/(m*s)\n",
"\n",
"i=i+1;\n",
"end\n",
"umc=XN2*u(1)/0.9978+XO2*u(2)/1.008+Xar*u(3)/0.9435 ;   //calculated mixture viscosity,kg/(m*s)\n",
"umc1=1.857*10^-5;\n",
"printf('\t theoritical mixture viscosity is : % -5e kg/(m*s)\n',umc1);\n",
"umd=XN2*e(1)/0.9978+XO2*e(2)/1.008+e(3)*Xar/0.9435;    //theoritical mixture viscosity,kg/(m*s)\n",
"printf('\t calculated mixture viscosity is : % -5e kg/(m*s)\n',umd);\n",
"\n",
"kmc=XN2*k(1)/0.9978+XO2*k(2)/1.008+Xar*k(3)/0.9435;    //calculated thermal conducitvity,W/(m*K)\n",
"kmc1=0.02623;\n",
"printf('\t theoritical thermal conducitvity is : %f W/(m*K)\n',kmc1);\n",
"kmd=XN2*f(1)/0.9978+XO2*f(2)/1.008+Xar*f(3)/0.9435;    //theoritical thermal conductivity, W/(m*K)\n",
"printf('\t calculated thermal conducitvity is : %.5f W/(m*K)\n',kmd);\n",
"Cp=1006    //mixture diffusivity,j/(kg*K)\n",
"pr=umd*Cp/kmd;    //prandtl no.\n",
"printf('\t prandtl no. is : %.3f\n',pr);\n",
"//end"
   ]
   }
,
{
		   "cell_type": "markdown",
		   "metadata": {},
		   "source": [
			"## Example 11.5: mass_fraction_calculation.sce"
		   ]
		  },
  {
"cell_type": "code",
	   "execution_count": null,
	   "metadata": {
	    "collapsed": true
	   },
	   "outputs": [],
"source": [
"\n",
"clear;\n",
"clc;\n",
"\n",
"printf('\t Example 11.5\n');\n",
"Psat = [0.6113 1.2276 2.3385 4.2461 7.3837 12.35 19.941 31.188 47.39 70.139 101.325];\n",
"T = [0.01 10 20 30 40 50 60 70 80 90 100];\n",
"i=1;\n",
"while i<12\n",
"    xw(i)=Psat(i)/101.325;                     //mole fraction of water\n",
"    printf('\n %.4f',xw(i));\n",
"    mw(i)=(xw(i)*18.02)/(xw(i)*18.02+(1-xw(i))*28.96);//mass fraction of water\n",
"    i = i+1;\n",
"end\n",
"plot(T,mw);\n",
"xtitle('Mass fraction of water vapour in air above liquid water surface as a function of surface temperature(1 atm total pressure)','Temperature(degree celsius)','Mass fraction of water vapor');\n",
"\n",
"\n",
""
   ]
   }
,
{
		   "cell_type": "markdown",
		   "metadata": {},
		   "source": [
			"## Example 11.6: mass_fraction_calculation.sce"
		   ]
		  },
  {
"cell_type": "code",
	   "execution_count": null,
	   "metadata": {
	    "collapsed": true
	   },
	   "outputs": [],
"source": [
"\n",
"\n",
"clear ;\n",
"clc;\n",
"\n",
"printf('\t Example 11.6\n');\n",
"T1=263.15;          //temp.of ice,K\n",
"\n",
"Pv=exp(21.99-6141/(T1));    //vapor pressure,KPa\n",
"xw=Pv/101.325;    //mole fraction of water\n",
"mw=xw*18.02/(xw*18.02+(1-xw)*28.96);    //mass fraction\n",
"printf('\t mass fraction of watervapor above the surface of ice is :%.5f\n',mw);\n",
"//end"
   ]
   }
],
"metadata": {
		  "kernelspec": {
		   "display_name": "Scilab",
		   "language": "scilab",
		   "name": "scilab"
		  },
		  "language_info": {
		   "file_extension": ".sce",
		   "help_links": [
			{
			 "text": "MetaKernel Magics",
			 "url": "https://github.com/calysto/metakernel/blob/master/metakernel/magics/README.md"
			}
		   ],
		   "mimetype": "text/x-octave",
		   "name": "scilab",
		   "version": "0.7.1"
		  }
		 },
		 "nbformat": 4,
		 "nbformat_minor": 0
}
