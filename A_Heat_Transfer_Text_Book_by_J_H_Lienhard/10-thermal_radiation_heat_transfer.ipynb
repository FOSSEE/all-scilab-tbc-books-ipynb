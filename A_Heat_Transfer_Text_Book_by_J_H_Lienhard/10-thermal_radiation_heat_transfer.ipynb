{
"cells": [
 {
		   "cell_type": "markdown",
	   "metadata": {},
	   "source": [
       "# Chapter 10: thermal radiation heat transfer"
	   ]
	},
{
		   "cell_type": "markdown",
		   "metadata": {},
		   "source": [
			"## Example 10.10: heat_transfer_rate_calculation.sce"
		   ]
		  },
  {
"cell_type": "code",
	   "execution_count": null,
	   "metadata": {
	    "collapsed": true
	   },
	   "outputs": [],
"source": [
"\n",
"clear ;\n",
"clc;\n",
"\n",
"printf('\t Example 10.10\n');\n",
"T1=773;          //temp.of two sides of duct,K\n",
"T2=373;          //temperature of the third side,K\n",
"e1=0.5;        //emissivity of stainless steel\n",
"e2=0.15;        //emissivity of copper\n",
"a=5.67*10^-8;    //stefan constant\n",
"f12=0.4;        //view factor of 1 occupied by 2.\n",
"f21=0.67;       //view factor of  2 occupied by 1\n",
"f13=0.6;        // view factor of 1 occupied by 3\n",
"f31=0.75;        //view factor of 3 occupied by 1\n",
"f23=0.33;        //view factor of 2 occupied by 3\n",
"f32=0.25;        //view factor of 2 occupied by 3\n",
"\n",
"A=[1 (-1+e2)*f12 (e2-1)*f13;(-1*e1*f21) 1 (e1*-1*f23);(e1*-1*f31) (e1*-1*f32) 1];    //matrix method to solve three equations to find radiosity\n",
"\n",
"B=[e2*a*T2^4;e1*a*T1^4;e1*a*T1^4];    //matrix method to solve three equations to find radiosity\n",
"\n",
"X=inv(A)*B;    //solution of above matrix method\n",
"\n",
"Qn1=0.5*e2/(1-e2)*(a*T2^4-X(1));    //net heat transfer to the copper base per meter of the length of the duct,W/m\n",
"Qn2=Qn1+2.6;\n",
"printf('net heat transfer to the copper base per meter of length of the duct is : %.1f W/m ,the -ve sign indicates that the copper base is gaining heat.\n',Qn2);\n",
"//end)"
   ]
   }
,
{
		   "cell_type": "markdown",
		   "metadata": {},
		   "source": [
			"## Example 10.11: net_heat_radiation.sce"
		   ]
		  },
  {
"cell_type": "code",
	   "execution_count": null,
	   "metadata": {
	    "collapsed": true
	   },
	   "outputs": [],
"source": [
"\n",
"\n",
"clear;\n",
"clc;\n",
"\n",
"printf('\t Example 10.11\n');\n",
"T1=1473 ;         //temp.of gas,K   \n",
"T2=573 ;      //temp of walls,K\n",
"D1=0.4;        //diameter of combustor, m\n",
"a=5.67*10^-8;    //stefan boltzman coefficient,W/(m^2*K^4)\n",
"//we have Lo=D1=0.4m, a total pressure of 1 atm., pco2=0.2 atm. , using figure, we get eg=0.098.\n",
"eg=0.098;    //total emittance\n",
"\n",
"ag=(T1/T2)^0.5*(0.074);    //total absorptance\n",
"//now we can calculate Qnetgas to wall. for these problems with one wall surrounding one gas, the use of the mean beam length in finding eg and ag accounts for all geometric effects and no view factor is required. \n",
"\n",
"Qngw=%pi*D1*a*(eg*T1^4-ag*T2^4)/1000;    //net heat radiated to the walls,kW/m\n",
"printf('\t net heat radiated to the walls is : %.1f KW/m\n',Qngw);\n",
"//end"
   ]
   }
,
{
		   "cell_type": "markdown",
		   "metadata": {},
		   "source": [
			"## Example 10.12: root_temperature_calculculatio.sce"
		   ]
		  },
  {
"cell_type": "code",
	   "execution_count": null,
	   "metadata": {
	    "collapsed": true
	   },
	   "outputs": [],
"source": [
"\n",
"clear ;\n",
"clc;\n",
"\n",
"printf('\t Example 10.12\n');\n",
"T1=291;          //temp.of sky,K   \n",
"T2=308;        //temp of air,K\n",
"e1=0.9;            //emissivity 0f black paint\n",
"h=8;            //heat transfer coefficient,W/(m^2*K)\n",
"P=600 ;         //heat flux,W/m^2\n",
"\n",
"//heat loss from the roof to the inside of the barn will lower the roof temp., since we dont have enough information to evaluate the loss, we can make an upper bound on roof temp. by assuming that no heat is transferred to the interior.\n",
"\n",
"x=poly([0],'x');\n",
"x=roots(8*(e1*5.67*10^-8*(x^4-T1^4)+(x-T2)-e1*P));\n",
"\n",
"//for white acrylic paint, by using table, e=0.9 and absorptivity is 0.26,Troof \n",
"\n",
"\n",
"T=poly([0],'T');\n",
"T=roots(8*(e1*5.67*10^-8*(T^4-T1^4)+(T-T2)-0.26*P));\n",
"Tn=T(2)+0.6\n",
"\n",
"printf('\t temp. of the root is :%.1f C or 312 K ,the white painted roof is only a few degrees warmer than the air.\n',Tn);\n",
"//end\n",
"\n",
""
   ]
   }
,
{
		   "cell_type": "markdown",
		   "metadata": {},
		   "source": [
			"## Example 10.1: net_heat_transfer_calculation.sce"
		   ]
		  },
  {
"cell_type": "code",
	   "execution_count": null,
	   "metadata": {
	    "collapsed": true
	   },
	   "outputs": [],
"source": [
"\n",
"\n",
"clear;\n",
"clc;\n",
"\n",
"printf('\t Example 10.1\n');\n",
"\n",
"T1=2273;        //temp. of liquid air,K\n",
"T2=303;         //temp. of room,K\n",
"T3=973;        //temp. of shield,K\n",
"D1=0.003;        //diameter of crucible,m\n",
"D2=0.05;        //diameter of shield,m\n",
"theta1=330;     //surrounding angle of jet,degree\n",
"theta2=30        // angle of slit,degree\n",
"Fjr=theta2/360;       //fraction of energy of view of jet occupied by room\n",
"Fjs=theta1/360 ;       //fraction of energy of view of jet occupied by shield\n",
"\n",
"Qnjr=%pi*D1*Fjr*5.67*10^-8*(T1^4-T2^4);    //net heat transfer from jet to room,W/m\n",
"\n",
"Qnjs=%pi*D1*Fjs*5.67*10^-8*(T1^4-T3^4);    //net heat transfer from jet to shield,W/m\n",
"\n",
"//to find the radiation from the inside of the shield to the room, we need Fshield-room.since any radiation passing out of the slit goes to the room,we can find this view factor equating view factors to the room with view factors to the slit.\n",
"\n",
"Fsj=%pi*D1/0.01309*Fjr;    //fraction of energy of view of slit occupied by jet\n",
"Fss=1-Fsj;        //fraction of energy of view of slit  occupied by shield.\n",
"Fsr=0.01309*Fss/(%pi*D2*Fjs);    //fraction of energy of view of shield occupied by room\n",
"\n",
"Qnsr=%pi*D2*Fjs*5.67*10^-8*Fsr*(T3^4-T2^4);    //net heat transfer from shield to room, W/m\n",
"\n",
"printf('\t  heat transfer from jet to room through the slit is :%.0f W/m\n',Qnjr);\n",
"\n",
"printf('\t  heat transfer from the jet to shield is :%.0f W/m\n',Qnjs);\n",
"\n",
"printf('\t  heat transfer from inside of shield to the room is :%.0f W/m\n',Qnsr);\n",
"\n",
"printf('\t both the jet and the inside of the shield have relatively small view factors to the room, so that comparatively little heat is lost through the silt.');\n",
"//end"
   ]
   }
,
{
		   "cell_type": "markdown",
		   "metadata": {},
		   "source": [
			"## Example 10.2: net_heat_transfer_calculation.sce"
		   ]
		  },
  {
"cell_type": "code",
	   "execution_count": null,
	   "metadata": {
	    "collapsed": true
	   },
	   "outputs": [],
"source": [
"\n",
"clear ;\n",
"clc;\n",
"\n",
"printf('\t Example 10.2\n');\n",
"T1=373;        //temp. of shield,K   \n",
"T2=1473;        //temp of heater,K\n",
"h=0.2 ;       //height of disc heater,m\n",
"r1=0.05;      //smaller radius of heater,m\n",
"r2=0.1;        //larger radius of heater,m \n",
"R1=r1/h ;       //factors necessary for finding view factor\n",
"R2=r2/h ;       //factors necessary for finding view factor\n",
"X=1+(1+R2^2)/R1^2;    //factors necessary for finding view factor\n",
"\n",
"Fht=0.5*(X-(X^2-4*(R2^2/R1^2))^0.5);        //view factor\n",
"Fhs=1-Fht;    //view factor of heater  occupied by shield\n",
"Qnhs=%pi*r2^2*Fhs*5.67*10^-8*(T2^4-T1^4)/4+1;\n",
"\n",
"printf('\t net heat transfer from the heater to shield is : %.0f W\n',Qnhs);\n",
"//end"
   ]
   }
,
{
		   "cell_type": "markdown",
		   "metadata": {},
		   "source": [
			"## Example 10.3: view_factor_calculatio.sce"
		   ]
		  },
  {
"cell_type": "code",
	   "execution_count": null,
	   "metadata": {
	    "collapsed": true
	   },
	   "outputs": [],
"source": [
"\n",
"clear;\n",
"clc;\n",
"\n",
"printf('\t Example 10.3\n');\n",
"h=0.2 ;       //height of disc heater,m\n",
"r1=0.05;      //smaller radius of heater,m\n",
"r2=0.1;        //larger radius of heater,m\n",
"Fhs=0.808;        //view factor of heater occupied by shield\n",
"\n",
"As=%pi*(r1+r2)*(h^2+(r2-r1)^2)^0.5;   //area of frustrum shaped shield,m^2\n",
"Ah=%pi/4*r2^2;           //heater area,m^2\n",
"\n",
"Fsh=Ah/As*Fhs;        //view factor of shield occupied by heater\n",
"\n",
"printf('view factor of shield occupied by heater is :%.4f\n',Fsh);\n",
"//end"
   ]
   }
,
{
		   "cell_type": "markdown",
		   "metadata": {},
		   "source": [
			"## Example 10.4: view_factor_calculatio.sce"
		   ]
		  },
  {
"cell_type": "code",
	   "execution_count": null,
	   "metadata": {
	    "collapsed": true
	   },
	   "outputs": [],
"source": [
"\n",
"clear;\n",
"clc;\n",
"\n",
"printf('\t Example 10.4\n');\n",
"\n",
"F1342=0.245;        //view factor of 1and 3 occupied by 2 and 4\n",
"F14=0.2;            //view factor of 1 occupied by 4\n",
"\n",
"F12=F1342-F14;        //view factor of 1 occupied by 2 \n",
"printf('\t view factor of 1 occupied by 2  is :%.3f\n',F12);\n",
"//end"
   ]
   }
,
{
		   "cell_type": "markdown",
		   "metadata": {},
		   "source": [
			"## Example 10.8: heat_gain_rate_and_temperature_of_the_shield.sce"
		   ]
		  },
  {
"cell_type": "code",
	   "execution_count": null,
	   "metadata": {
	    "collapsed": true
	   },
	   "outputs": [],
"source": [
"\n",
"clear;\n",
"clc;\n",
"\n",
"printf('\t Example 10.8\n');\n",
"T1=80;        //temp.of liquid nitrgen,K   \n",
"T2=230;        //temp of chamber walls,K\n",
"D1=0.00635;      //outer diameter of steel, m\n",
"D2=0.0127;        //diameter of 2nd steel tube, m\n",
"e1=0.2 ;           //emissivity 0f steel\n",
"x=poly([0],'x');\n",
"\n",
"//the nitrogen coolant will hold the surface of the line at essentially 80 K, since the thermal ressistance of tube wall and int. convection or boiling process are small.\n",
"\n",
"Qgain=%pi*D1*e1*5.67*10^-8*(T2^4-T1^4);   // net heat gain of line per unit length,W/m\n",
" //with the shield , assuming that the chamber area is large compared to the shielded line.\n",
" \n",
" Qgain1=%pi*D1*5.67*10^-8*(T2^4-T1^4)/(((1-e1)/e1+1)+D1/D2*(2*(1-e1)/e1+1));       //net heat gain with shield,W/m\n",
" \n",
" s=(Qgain-Qgain1)/Qgain*100;    //rate of heat gain reducton in percentage\n",
" \n",
" x=roots(%pi*D2*e1*5.67*10^-8*(T2^4-x^4)-Qgain1);\n",
" \n",
" \n",
" printf('\t net heat gain of line per unit length is :%.3f W/m\n',Qgain);\n",
" printf('\t rate of heat gain reducton is :%.0f percent \n',s);\n",
" printf('\t temp. of the shield is : %.0f C\n',x(4));\n",
" \n",
" //end\n",
" "
   ]
   }
,
{
		   "cell_type": "markdown",
		   "metadata": {},
		   "source": [
			"## Example 10.9: net_heat_transfer_calculation.sce"
		   ]
		  },
  {
"cell_type": "code",
	   "execution_count": null,
	   "metadata": {
	    "collapsed": true
	   },
	   "outputs": [],
"source": [
"\n",
"clear;\n",
"clc;\n",
"\n",
"printf('\t Example 10.9\n');\n",
"T1=250 ;         //temp.of surrounding,K   \n",
"l1=1;        //width of strips, m\n",
"l2=2.4;        //distance between strips,m\n",
"F12=0.2;    //view factor of 1 occupied by 2.\n",
"\n",
"A=[1 -0.14;-1 10] ;   //matrix representation for solving the linear equations, for black surroundings\n",
"B=[559.6;3182.5];        //matrix representation for solving the linear equations.\n",
"\n",
"X=inv(A)*B;\n",
"A=[1 -0.14;-1 10];    //matrix representation for solving the linear equations, for black surroundings\n",
"B=[559.6;3182.5];        //matrix representation for solving the linear equations.\n",
"\n",
"X=inv(A)*B;\n",
"\n",
"Qn12=(X(1)-X(2))/(1/(0.9975*F12));        //net heat flow from 1 to 2 for  black surroundings.\n",
"//since each strip loses heat to the surrounding,Qnet1, Qnet2 and Qnet1-2 are different.\n",
"// three equations will be   \n",
"//(1451-B1)/2.33 = (B1-B2)/(1/0.2)+(B1-B3)/(1/0.8)......(1)\n",
"//(459.B2) = (B2-B1)/(1/0.2)+(B2-B3)/(1/0.8)............(2)\n",
"//0=(B3-B1)/(1/0.8)+(B3-B2)/(1/0.8).....................(3)\n",
"//solving these equations, we get  the values of B1,B2 and B3.\n",
"B1=987.7        //heat flux by surface 1.\n",
"B2=657.4        //heat flux by surface 2.\n",
"B3=822.6        //heat flux by surface 3.\n",
"qn12=(B1-B2)/(1/F12)+(B1-B3)/(1/(1-F12));        // net heat transfer between 1 and 2 if they are connected by an insulated diffuse reflector between the edges on both sides.\n",
"\n",
"printf('net heat transfer between 1 and 2 if the surroundings are black is :%.2f W/m^2\n',Qn12);\n",
"\n",
"printf('net heat transfer between 1 and 2 if they are connected by an insulated diffuse reflector between the edges on both sides is : %.0f W/m^2\n',qn12);\n",
"\n",
"x=poly([0],'x');\n",
" x=roots(5.67*10^-8*(x^4)-822.6);\n",
" printf('\t temperature of the reflector is : %.0f K\n',x(4));\n",
"//end\n",
""
   ]
   }
],
"metadata": {
		  "kernelspec": {
		   "display_name": "Scilab",
		   "language": "scilab",
		   "name": "scilab"
		  },
		  "language_info": {
		   "file_extension": ".sce",
		   "help_links": [
			{
			 "text": "MetaKernel Magics",
			 "url": "https://github.com/calysto/metakernel/blob/master/metakernel/magics/README.md"
			}
		   ],
		   "mimetype": "text/x-octave",
		   "name": "scilab",
		   "version": "0.7.1"
		  }
		 },
		 "nbformat": 4,
		 "nbformat_minor": 0
}
