{
"cells": [
 {
		   "cell_type": "markdown",
	   "metadata": {},
	   "source": [
       "# Chapter 7: Forced Convection in Configuration Systems"
	   ]
	},
{
		   "cell_type": "markdown",
		   "metadata": {},
		   "source": [
			"## Example 7.1: depth_calculatio.sce"
		   ]
		  },
  {
"cell_type": "code",
	   "execution_count": null,
	   "metadata": {
	    "collapsed": true
	   },
	   "outputs": [],
"source": [
"\n",
"clear ;\n",
"clc;\n",
"\n",
"printf('\t Example 7.1\n');\n",
"D=0.001;    //diameter of tube,m\n",
"T1=293;      // temperature of cold water, K\n",
"T2=347;     // temperature of hot water, K\n",
"T3=320;     //operating temperature of hot water, K\n",
"Q=6000;    //heat flux,W/m^2\n",
"v=0.2 ;   //speed of water,m/s\n",
"k=0.6367;    //thermal conductivity,W/(m*K)\n",
"v1=1.541*10^-7;   // molecular diffusivity, m^2/s\n",
"v2=0.556*10^-6;    //molecular diffusivity, m^2/s\n",
"\n",
"Re=D*v/v2;    //reynolds no.\n",
"\n",
"L=D*(54-11/48*Q*D/k)*v*k/(4*Q*v1);    //length that is down the tube for water reach to 74 C at its hottest point,m\n",
"printf('length that is down the tube for water reach to 74 C at its hottest point is : %.3f m ,while we did not evaluate the thermal entry length here, it may be shown to be much, much less than 1785 diametres.\n',L);\n",
"//end"
   ]
   }
,
{
		   "cell_type": "markdown",
		   "metadata": {},
		   "source": [
			"## Example 7.2: power_input_and_wall_temperature.sce"
		   ]
		  },
  {
"cell_type": "code",
	   "execution_count": null,
	   "metadata": {
	    "collapsed": true
	   },
	   "outputs": [],
"source": [
"\n",
"clear;\n",
"clc;\n",
"\n",
"printf('\t Example 7.2\n');\n",
"\n",
"T1 = 300; // air temp.,K\n",
"T2=313; // final air temp.,K\n",
"v=2; // air velocity,m/s\n",
"D=0.01; // inner diameter of pipe,m\n",
"l=0.2; // length surrounded by heater\n",
"Red=v*D/(16.4*10^-6); // reynolds no.\n",
"Pr=0.711; // prandtl no.\n",
"G=Red*Pr*D/l; // graetz no.\n",
"\n",
"Q=1.159*1004*v*(T2-T1)*(1/80); // power input, W/m^2\n",
"printf('\t power input is : %.0f  W/m^2\n',Q);\n",
"\n",
"Tex=T2+Q*D/(5.05*0.0266) // wall temp. at the exit,K\n",
"Tex1=Tex-273.1;\n",
"\n",
"printf('\t wall temp. at the exit is: %.1f C\n',Tex1);\n",
"\n",
"//end"
   ]
   }
,
{
		   "cell_type": "markdown",
		   "metadata": {},
		   "source": [
			"## Example 7.3: friction_factor_calculation.sce"
		   ]
		  },
  {
"cell_type": "code",
	   "execution_count": null,
	   "metadata": {
	    "collapsed": true
	   },
	   "outputs": [],
"source": [
"\n",
"clear;\n",
"clc;\n",
"\n",
"printf('\t Example 7.3\n');\n",
"\n",
"m=21.5;  //mass flow rate, kg/s\n",
"\n",
"D=0.12;   //diameter of pipe, m\n",
"T1=363;   //pipe temperature,K\n",
"T2=323;   //bulk temp. of fluid,K\n",
"a=977;  //density, kg/m^3\n",
"u=m/(a*3.14*(D/2)^2);; //average velocity,m/s\n",
"Re=u*D/(4.07*10^-7);  //reynolds no.\n",
"Uw=3.1*10^-4;        // wall side viscosity,N*s/m^2\n",
"Ub=5.38*10^-4;   //bulk viscosity, N*s/m^2\n",
"\n",
"Pr=2.47;  //prandtl no.\n",
"f=1/(1.82/2.303*log(Re)-1.64)^2;     // formula for friction factor for smooth pipes\n",
"\n",
"Nu=(f/8*Re*Pr)/(1.07+12.7*(f/8)^(0.5)*(Pr^(2/3)-1));   //formula for nusselt no.in fully developed flow in smooth pipes\n",
"\n",
"h=Nu*0.661/D    // convective heat transfer coefficient,W/(m^2)/K\n",
"h1=8907;   //convective heat transfer coefficient,W/(m^2)/K\n",
"\n",
"//corrected friction factor = friction factor at bulk temp.*K where K=(7-u1/u2)/6 for wall temp.>bulk temp.\n",
"\n",
"f1=f*((7-Ub/Uw)/6);    // corrected friction factor\n",
"F=0.0122;  //corrected friction factor\n",
"\n",
"printf('\t correlation friction factor. is : %.4f\n',F);\n",
"printf('\t convection heat transfer coefficient is :%.0f W/(m^2)/K \n',h1);\n",
"\n",
"// end"
   ]
   }
,
{
		   "cell_type": "markdown",
		   "metadata": {},
		   "source": [
			"## Example 7.4: friction_factor_calculation.sce"
		   ]
		  },
  {
"cell_type": "code",
	   "execution_count": null,
	   "metadata": {
	    "collapsed": true
	   },
	   "outputs": [],
"source": [
"\n",
"clear;\n",
"clc;\n",
"\n",
"printf('\t Example 7.3\n');\n",
"\n",
"m=21.5;  //mass flow rate, kg/s\n",
"e=260*10^-6;   //wall roughness,m\n",
"\n",
"D=0.12;   //diameter of pipe, m\n",
"T1=363;   //pipe temperature,K\n",
"T2=323;   //bulk temp. of fluid,K\n",
"a=977;  //density, kg/m^3\n",
"u=m/(a*3.14*(D/2)^2); //average velocity,m/s\n",
"Re=u*D/(4.07*10^-7);  //reynolds no.\n",
"Uw=3.1*10^-4;       // wall side viscosity,N*s/m^2\n",
"Ub=5.38*10^-4;   //bulk viscosity, N*s/m^2\n",
"\n",
"Pr=2.47;  //prandtl no.\n",
"\n",
"f=1/(1.8/2.303*log(6.9/Re+(e/D/3.7)^1.11))^2;    //friction factor from haaland equation.\n",
"Re1=Re*e/D*(f/8)^0.5;    //roughness reynols no.\n",
"\n",
"Nu=(f/8)*Re*Pr/(1+(f/8)^0.5*(4.5*Re1^(0.2)*Pr^(0.5)-8.48));    //correlation for local nusselt no.\n",
"\n",
"h=Nu*0.661/D/1000;   //convection heat transfer coefficient, kW/(m^2*K)\n",
"printf('\t correlation friction factor is :%.5f\n',f);\n",
"printf('\t convection heat transfer coefficient is :%.1f kw/(m^2*K)\n',h);\n",
"\n",
"printf('\t in this case wall roughness causes a factor of 1.8 increase in h and a factor of 2 increase in f and the pumping power.we have omitted the variable properties hre as they were developed for smooth walled pipes.')\n",
"//end"
   ]
   }
,
{
		   "cell_type": "markdown",
		   "metadata": {},
		   "source": [
			"## Example 7.5: temperature_calculatio.sce"
		   ]
		  },
  {
"cell_type": "code",
	   "execution_count": null,
	   "metadata": {
	    "collapsed": true
	   },
	   "outputs": [],
"source": [
"\n",
"clear;\n",
"clc;\n",
"\n",
"printf('\t Example 7.5\n');\n",
"\n",
"T1 = 293; // air temp.,K\n",
"D=0.01; // inner diameter of pipe,m\n",
"v=0.7;// air velocity,m/s\n",
"T2=333; //pipe wall temp.,K\n",
"t=0.25; // distance down the stream\n",
"Re=v*D/(1.66*10^-5); // reynolds no.\n",
"\n",
"// the flow is therefore laminar, to account for the thermal entry region, we compute the graetz no.\n",
"\n",
"Gz=Re*(0.709)*D/t;  // graetz no.\n",
"Nu=4.32 // nusselt no., Nu=3.657+(0.0668*Gz^(1/3)/(0.04+Gz^(-2/3)))\n",
"\n",
"h=3.657*(0.0268)/D; // average  convective heat transfer coefficient. W/(m^2*K)\n",
"\n",
"a=1-exp((-h/(1.14*1007*v))*(4*t)/D);   // (Tb-T1)/(T2-T1)=a (suppose)\n",
"\n",
"Tb=a*(T2-T1)+T1;    // temperature 0.25 m farther down stream.\n",
"Tb1=Tb-270.6;\n",
"\n",
"printf('\t temperature 0.25 m farther down stream is :%.1f C\n',Tb1)\n",
"//end"
   ]
   }
,
{
		   "cell_type": "markdown",
		   "metadata": {},
		   "source": [
			"## Example 7.6: change_in_bulk_temperature.sce"
		   ]
		  },
  {
"cell_type": "code",
	   "execution_count": null,
	   "metadata": {
	    "collapsed": true
	   },
	   "outputs": [],
"source": [
"\n",
"clear;\n",
"clc;\n",
"\n",
"printf('\t Example 7.6\n');\n",
"\n",
"Tbin=290;     //inlet bulk temp.,K\n",
"v=1;          //speed of air, m/s\n",
"a=0.09;       //area of steel,m^2\n",
"l=15;         //length of duct running outdoors through awarm air,m\n",
"To=310;       //temp. of warm air,K\n",
"h=5;          //heat transfer coefficient due to natural convection and thermal radiation.\n",
"Dh=0.3;       //hydraulic diameter,m\n",
"Re=v*Dh/(1.578*10^-5);   //reynolds no.at Tbin\n",
"Pr=0.713;   //prandtl no.\n",
"\n",
"f=1/(1.82/2.303*log(Re)-1.64)^2;     // formula for friction factor for smooth pipes\n",
"\n",
"Nu=(f/8*Re*Pr)/(1.07+12.7*(f/8)^(0.5)*(Pr^(2/3)-1));   //formula for nusselt no.in fully developed flow in smooth pipes\n",
"\n",
"\n",
"h=Nu*0.02623/Dh;    // convective heat transfer coefficient,W/(m^2)/K\n",
"//the remaining problem is to find the bulk temperature change.the thin metal duct wall offers little thermal ressistance, but convection ressistance outside the duct must be considered.\n",
"\n",
"U=(1/4.371+1/5)^-1;    //U=1/Ain*(1/(h*A)in+1/(h*A)out)^-1\n",
"\n",
"\n",
"Tbout=(To-Tbin)*(1-exp(-U*4*l/(1.217*v*1007*Dh)))+Tbin;    //outlet bulk temp., K\n",
"Tbt1=Tbout-273;\n",
"\n",
"printf('\t outside bulk temp. change is : %.1f C\n',Tbt1);\n",
"//end"
   ]
   }
,
{
		   "cell_type": "markdown",
		   "metadata": {},
		   "source": [
			"## Example 7.7: Air_speed_calculatio.sce"
		   ]
		  },
  {
"cell_type": "code",
	   "execution_count": null,
	   "metadata": {
	    "collapsed": true
	   },
	   "outputs": [],
"source": [
"\n",
"clear;\n",
"clc;\n",
"\n",
"printf('\t Example 7.7\n');\n",
"\n",
"D=0.0001; //  diameter of heater, m\n",
"T1 = 293; // air temp.,K\n",
"T2=313; //heater temp.,K\n",
"p=17.8;  //dissipating heat, W/m\n",
"\n",
"h=p/(3.14*D*(T2-T1)); // average  convective heat transfer coefficient. W/(m^2*K)\n",
"Nu=h*D/0.0264;  //nusselt no., Nu=h*D/thermal conductivity\n",
"\n",
"Pr=0.71; //prandtl  no.\n",
"\n",
"Re=((Nu-0.3)*(1+(0.4/Pr)^(2/3))^0.25/(0.62*Pr^(1/3)))^2; //reynolds no.\n",
"\n",
"u=1.596*10^(-5)/(D)*Re+0.2;  //air velocity, m/s\n",
"\n",
"printf('\t air velocity is : %.1f m/s\n',u);\n",
"printf('\t the data scatter in Red is quite small less than 10 percent, it would appear. therefore, this method can be used to measure local velocities with good accuracy.if the device is calliberated, its accuracy is improved further, such an air speed indicator is called a hot wire anemometer.')\n",
"\n",
"//end"
   ]
   }
],
"metadata": {
		  "kernelspec": {
		   "display_name": "Scilab",
		   "language": "scilab",
		   "name": "scilab"
		  },
		  "language_info": {
		   "file_extension": ".sce",
		   "help_links": [
			{
			 "text": "MetaKernel Magics",
			 "url": "https://github.com/calysto/metakernel/blob/master/metakernel/magics/README.md"
			}
		   ],
		   "mimetype": "text/x-octave",
		   "name": "scilab",
		   "version": "0.7.1"
		  }
		 },
		 "nbformat": 4,
		 "nbformat_minor": 0
}
