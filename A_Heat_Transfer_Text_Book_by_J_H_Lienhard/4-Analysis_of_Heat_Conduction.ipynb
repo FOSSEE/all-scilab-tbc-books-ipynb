{
"cells": [
 {
		   "cell_type": "markdown",
	   "metadata": {},
	   "source": [
       "# Chapter 4: Analysis of Heat Conduction"
	   ]
	},
{
		   "cell_type": "markdown",
		   "metadata": {},
		   "source": [
			"## Example 4.10: Ressistor_temperature_calculatio.sce"
		   ]
		  },
  {
"cell_type": "code",
	   "execution_count": null,
	   "metadata": {
	    "collapsed": true
	   },
	   "outputs": [],
"source": [
"\n",
"\n",
"clear;\n",
"clc;\n",
"\n",
"printf('\t Example 4.10\n');\n",
"\n",
"T1=308; //air temperature, K\n",
"Q=0.1; // heat transferred,W\n",
"k=16; //thermal conductivity of wires, W/(m*K)\n",
"d=0.00062; //diameter of wire,m\n",
"Heff=23; //convection coefficient, W/(m^2*K)\n",
"//the wires act actn as very long fins connected to ressistor hence tanh(mL)=1\n",
"\n",
"R1=1/(k*Heff*3.14^2*d^(3)/4)^0.5;\n",
"\n",
"Req=(1/R1+1/R1+7.17*(1.33*10^-4)+13*(1.33*10^-4))^-1;   //the 2 thermal ressistances are in parallel to the thermal ressistance for natural convection and thermal radiation from the ressistor's surface found in previous eg.\n",
"\n",
"Tres=T1+Q*Req;\n",
"Trs=Tres-273; \n",
"printf('\t ressistor temperature is : %.2f C or about 10 C lower than before.\n',Trs);\n",
"//end"
   ]
   }
,
{
		   "cell_type": "markdown",
		   "metadata": {},
		   "source": [
			"## Example 4.11: Heat_Loss_Calulatio.sce"
		   ]
		  },
  {
"cell_type": "code",
	   "execution_count": null,
	   "metadata": {
	    "collapsed": true
	   },
	   "outputs": [],
"source": [
"\n",
"clear;\n",
"clc;\n",
"\n",
"printf('\t Example 4.11\n');\n",
"\n",
"D1=0.03; // outer diameter, m\n",
"T1=358; //hot water temperature, K\n",
"t1=0.0008; //thickness of fins, m\n",
"D2=0.08; // diameter of fins, m\n",
"t2=0.02; // spacing between fins, m\n",
"h1=20; // convection coefficient, W/(m^2*K)\n",
"h2=15; //convection coefficient with fins, W/(m^2*K)\n",
"\n",
"To=295; //surrounding temperature, K\n",
"\n",
"Q=3.14*D1*h1*(T1-To); // if fins are not added.\n",
"Q1=199  //heat loss without fins,W/m\n",
"printf('\t heat trnsferred without fins is : %.0f W/m\n',Q1);\n",
"\n",
"// we set wall temp.=water temp..since the wall is constantly heated by water, we should not have a root temp. depression problem after the fins are added.hence by looking at the graph, ml(l/Perimeter)^0.5=(h*(D2/2-D1/2)/(125*0.025*t1)) = 0.306, we obtain n(efficiency)=89 percent\n",
"\n",
"Qfin=Q*(t2-t1)/t2 + 0.89*(2*3.14*(D2^(2)/4-D1^(2)/4))*50*h2*(T1-To)+1.14\n",
"printf('\t heat transferred with fins is : %.0f W/m or 4.02 times heat loss without fins.\n', Qfin);\n",
"//end"
   ]
   }
,
{
		   "cell_type": "markdown",
		   "metadata": {},
		   "source": [
			"## Example 4.8: Comparison_of_tip_temperatures.sce"
		   ]
		  },
  {
"cell_type": "code",
	   "execution_count": null,
	   "metadata": {
	    "collapsed": true
	   },
	   "outputs": [],
"source": [
"\n",
"clear;\n",
"clc;\n",
"\n",
"printf('\t Example 4.8\n');\n",
"\n",
"d=0.02; //diameter of alluminium rod,m\n",
"k=205; //thermal conductivity of rod,W/(m.K)\n",
"l=0.08; //length of rod, m\n",
"T1=423; //wall temperature, K\n",
"T2=299; //air temperatutre, K\n",
"h=120; //convective coefficient, W/(m^2*K)\n",
"\n",
"mL=(h*(l^2)/(k*d/4))^0.5;  // formula for mL=((h*Perimeter*l^2)/(k*Area))^0.5\n",
"Bi=h*l/k\n",
"a1=(cosh(0)+(Bi/mL)*sinh(0))/(cosh(mL)+(Bi/mL)*sinh(mL));  //formula for temperature difference T-Ttip\n",
"\n",
"Ttip1=T2+a1*(T1-T2); // exact tip temperature\n",
"Tt1=Ttip1-273;\n",
"printf('\t the exact tip temperature is : %.2f C\n',Tt1);\n",
"\n",
"a2=(cosh(0)+(Bi/mL)*sinh(0))/(cosh(mL)); //if heat transfer from the tip is not considered\n",
"Ttip2=T2+a2*(T1-T2);\n",
"Tt2=Ttip2-273;\n",
"printf('\t approximate tip temperature is : %.2f C\n',Tt2);\n",
"printf('\t thus the insulated tip approximation is adequate for the computation in this case.');\n",
"//End"
   ]
   }
,
{
		   "cell_type": "markdown",
		   "metadata": {},
		   "source": [
			"## Example 4.9: error_calculation_in_heat_flux.sce"
		   ]
		  },
  {
"cell_type": "code",
	   "execution_count": null,
	   "metadata": {
	    "collapsed": true
	   },
	   "outputs": [],
"source": [
"\n",
"clear;\n",
"clc;\n",
"\n",
"printf('\t Example 4.9\n');\n",
"\n",
"T1=423; //wall temperature, K\n",
"d=0.02; //diameter of alluminium rod,m\n",
"k=205; //thermal conductivity of rod,W/(m.K)\n",
"l=0.08; //length of rod, m\n",
"T2=299; //air temperatutre, K \n",
"h=120; //convective coefficient, W/(m^2*K)\n",
"mL=0.8656;\n",
"a=h*d/(2*k);\n",
"mr=mL*(d/(2*l)); // by looking at graph of 1-Qact/Q(no temp.depression) vs. mr*tanh(mL), we can find out the value of Troot. 1-Qact./Q(no temp. depression) = 0.05 so heat flow is reduced by 5 percent\n",
"\n",
"Troot=T1-(T1-T2)*0.05;\n",
"Tr=Troot-273;\n",
"printf('\t actual temperature of root is : %.1f C , the correction is modest in this \n',Tr);\n",
"//end"
   ]
   }
],
"metadata": {
		  "kernelspec": {
		   "display_name": "Scilab",
		   "language": "scilab",
		   "name": "scilab"
		  },
		  "language_info": {
		   "file_extension": ".sce",
		   "help_links": [
			{
			 "text": "MetaKernel Magics",
			 "url": "https://github.com/calysto/metakernel/blob/master/metakernel/magics/README.md"
			}
		   ],
		   "mimetype": "text/x-octave",
		   "name": "scilab",
		   "version": "0.7.1"
		  }
		 },
		 "nbformat": 4,
		 "nbformat_minor": 0
}
