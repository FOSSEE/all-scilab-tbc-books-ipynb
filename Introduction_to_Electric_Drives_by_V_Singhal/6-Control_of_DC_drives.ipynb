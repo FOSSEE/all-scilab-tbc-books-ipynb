{
"cells": [
 {
		   "cell_type": "markdown",
	   "metadata": {},
	   "source": [
       "# Chapter 6: Control of DC drives"
	   ]
	},
{
		   "cell_type": "markdown",
		   "metadata": {},
		   "source": [
			"## Example 6.1: Proper_size_of_motor.sce"
		   ]
		  },
  {
"cell_type": "code",
	   "execution_count": null,
	   "metadata": {
	    "collapsed": true
	   },
	   "outputs": [],
"source": [
"//Example 6_1\n",
"clc;\n",
"clear;close;\n",
"\n",
"//Given data: \n",
"hp=[50 100 150 120 0];//hp\n",
"t=[20 20 10 20 15];//seconds\n",
"\n",
"//Solution :\n",
"hp_rms_t=0;//initializing\n",
"for i=1:5\n",
"    hp_rms_t=hp_rms_t+(hp(i)^2*t(i));//hp\n",
"end\n",
"hp_rms=sqrt(hp_rms_t/sum(t));//hp\n",
"disp(hp_rms,'Required hp(rms)');\n",
"disp('Motor size should be 100 hp');"
   ]
   }
,
{
		   "cell_type": "markdown",
		   "metadata": {},
		   "source": [
			"## Example 6.2: Thermal_time_constant_and_temperature_rise.sce"
		   ]
		  },
  {
"cell_type": "code",
	   "execution_count": null,
	   "metadata": {
	    "collapsed": true
	   },
	   "outputs": [],
"source": [
"//Example 6_2\n",
"clc;\n",
"clear;close;\n",
"\n",
"//Given data: \n",
"P=30;//kW\n",
"theta1=30;//degree C\n",
"t1=40;//minutes\n",
"theta2=45;//degree C\n",
"t2=80;//minutes\n",
"t2=2*t1;//minutes\n",
"Loss_fl=2;//kW\n",
"Loss_Cu=2.5;//kW\n",
"\n",
"//Solution :\n",
"//theta1=theta_f*(1-exp(-t1/T));\n",
"//let exp(-t1/T)=a\n",
"a=poly(0,'a');\n",
"polynomial=(1-a^2)*(theta1/theta2)-1+a;\n",
"a=roots(polynomial)\n",
"a=a(2);\n",
"T=-t1/log(a);//s\n",
"disp(T,'Thermal time constant(minutes)');\n",
"theta_f=theta1/(1-exp(-t1/T));\n",
"disp(theta_f,'Final temperature rise(degree C)');\n",
"alfa=Loss_fl/Loss_Cu;\n",
"t=20;//minutes\n",
"rating=P*sqrt((1+alfa)/(1-exp(-t/T))-alfa);//kW\n",
"disp(rating,'20 minute rating of motor(kW)');"
   ]
   }
,
{
		   "cell_type": "markdown",
		   "metadata": {},
		   "source": [
			"## Example 6.3: Field_current.sce"
		   ]
		  },
  {
"cell_type": "code",
	   "execution_count": null,
	   "metadata": {
	    "collapsed": true
	   },
	   "outputs": [],
"source": [
"//Example 6_3\n",
"clc;\n",
"clear;close;\n",
"\n",
"//Given data: \n",
"V=230;//V\n",
"f=50;//Hz\n",
"alfa=0;//degree\n",
"Rf=200;//ohm\n",
"Ra=0.3;//ohm\n",
"T=50;//N-m\n",
"N=900;//rpm\n",
"Kv=0.8;//V/A-rad/s\n",
"Kt=0.8;//N-m/A^2\n",
"\n",
"//Solution :\n",
"Vm=V*sqrt(2);//V\n",
"Vf=2*Vm/%pi;//V\n",
"If=Vf/Rf;//A\n",
"disp(If,'Field current(A)');\n",
"Ia=T/(Kt*If);//A\n",
"omega=(2*%pi/60)*N;//radian/s\n",
"Eb=Kv*omega*If;//V\n",
"Va=Eb+Ia*Ra;//V\n",
"alfa_a=acosd(Va/(Vm/%pi)-1);//degree\n",
"disp(alfa_a,'Firing angle of armture circuit(degree)');\n",
"Pout=Va*Ia;//W\n",
"I_in=sqrt(2/(2*%pi)*integrate('Ia^2','t',alfa_a*%pi/180,%pi));//A\n",
"VA_in=V*I_in;//VA\n",
"pf_in=Pout/VA_in;//lagging\n",
"disp(pf_in,'Input power factor(lagging)');"
   ]
   }
],
"metadata": {
		  "kernelspec": {
		   "display_name": "Scilab",
		   "language": "scilab",
		   "name": "scilab"
		  },
		  "language_info": {
		   "file_extension": ".sce",
		   "help_links": [
			{
			 "text": "MetaKernel Magics",
			 "url": "https://github.com/calysto/metakernel/blob/master/metakernel/magics/README.md"
			}
		   ],
		   "mimetype": "text/x-octave",
		   "name": "scilab",
		   "version": "0.7.1"
		  }
		 },
		 "nbformat": 4,
		 "nbformat_minor": 0
}
