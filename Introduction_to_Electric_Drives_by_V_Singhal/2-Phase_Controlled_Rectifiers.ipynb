{
"cells": [
 {
		   "cell_type": "markdown",
	   "metadata": {},
	   "source": [
       "# Chapter 2: Phase Controlled Rectifiers"
	   ]
	},
{
		   "cell_type": "markdown",
		   "metadata": {},
		   "source": [
			"## Example 2.10: Average_load_current.sce"
		   ]
		  },
  {
"cell_type": "code",
	   "execution_count": null,
	   "metadata": {
	    "collapsed": true
	   },
	   "outputs": [],
"source": [
"//Example 2_10\n",
"clc;\n",
"clear;close;\n",
"\n",
"//Given data: \n",
"Vs=230;//V\n",
"f=50;//Hz\n",
"Vdc=100;//V\n",
"Ip=15;//A\n",
"alfa=30;//degree\n",
"\n",
"//Solution :\n",
"//Vdc=2*Vm*cosd(alfa)/%pi-2*1.7//(Full converter bridge)\n",
"Vm=(Vdc+2*1.7)/2/cosd(alfa)*%pi;//V\n",
"Vrms=Vm/sqrt(2);//V\n",
"TurnRatio=Vs/Vrms;\n",
"disp(TurnRatio,'(a) Turn ratio of transformer');\n",
"Irms=sqrt(Ip^2/2);//A\n",
"Rating=Vrms*Ip;//VA\n",
"disp(Rating,'(b) Transformer rating in VA');\n",
"PIV=Vm;//V\n",
"disp(PIV,'(c) PIV in V');\n",
"disp(Irms,'(d) RMS value of thyristor current in A');"
   ]
   }
,
{
		   "cell_type": "markdown",
		   "metadata": {},
		   "source": [
			"## Example 2.11: Vrms_Vdc_Form_factor.sce"
		   ]
		  },
  {
"cell_type": "code",
	   "execution_count": null,
	   "metadata": {
	    "collapsed": true
	   },
	   "outputs": [],
"source": [
"//Example 2_11\n",
"clc;\n",
"clear;close;\n",
"\n",
"//Given data: \n",
"Vs=230;//V\n",
"f=50;//Hz\n",
"alfa=90;//degree\n",
"\n",
"//Solution :\n",
"Vm=Vs*sqrt(2);//V\n",
"Vdc=Vm/%pi*(1+cosd(alfa))//V\n",
"disp(Vdc,'Vdc in V');\n",
"Vrms=Vm/sqrt(2)*sqrt(1/%pi*[%pi-%pi/2+sin(%pi)/2]);//V\n",
"disp(Vrms,'Vrms in V');\n",
"FormFactor=Vrms/Vdc;\n",
"disp(FormFactor,'Form factor');"
   ]
   }
,
{
		   "cell_type": "markdown",
		   "metadata": {},
		   "source": [
			"## Example 2.12: Vrms_Vdc_form_factor_power_factor.sce"
		   ]
		  },
  {
"cell_type": "code",
	   "execution_count": null,
	   "metadata": {
	    "collapsed": true
	   },
	   "outputs": [],
"source": [
"//Example 2_12\n",
"clc;\n",
"clear;close;\n",
"\n",
"//Given data: \n",
"Vs=230;//V\n",
"f=50;//Hz\n",
"alfa=90;//degree\n",
"\n",
"//Solution :\n",
"Vm=Vs*sqrt(2);//V\n",
"Vdc=Vm/%pi*(1+cosd(alfa))//V\n",
"disp(Vdc,'Vdc in V');\n",
"Vrms=Vm/sqrt(2)*sqrt(1/%pi*[%pi-%pi/2+sin(%pi)/2]);//V\n",
"disp(Vrms,'Vrms in V');\n",
"Is_by_I=sqrt(1-%pi/2/%pi);\n",
"Is1_by_I=2*sqrt(2)/%pi*cos(%pi/4);\n",
"HF=sqrt((Is_by_I/Is1_by_I)^2-1);//unitless\n",
"disp(HF,'Harmonic factor');\n",
"theta1=-alfa/2*%pi/180;//radian\n",
"DF=cos(theta1);//unitless\n",
"disp(DF,'Displacement factor');\n",
"PF=(Is1_by_I/Is_by_I)*DF;//lagging\n",
"disp(PF,'Power factor(lagging)');"
   ]
   }
,
{
		   "cell_type": "markdown",
		   "metadata": {},
		   "source": [
			"## Example 2.13: Vrms_Vdc_form_factor_power_factor.sce"
		   ]
		  },
  {
"cell_type": "code",
	   "execution_count": null,
	   "metadata": {
	    "collapsed": true
	   },
	   "outputs": [],
"source": [
"//Example 2_13\n",
"clc;\n",
"clear;close;\n",
"\n",
"//Given data: \n",
"Vs=230;//V\n",
"f=50;//Hz\n",
"alfa=%pi/3;//radian\n",
"\n",
"//Solution :\n",
"Vm=Vs*sqrt(2);//V\n",
"Vdc=2*Vm/%pi*cos(alfa)//V\n",
"disp(Vdc,'Vdc in V');\n",
"Vrms=Vs;//V\n",
"disp(Vrms,'Vrms in V');\n",
"Is_by_I=sqrt(1-%pi/2/%pi);\n",
"Is1_by_I=2*sqrt(2)/%pi*cos(%pi/4);\n",
"HF=sqrt((Is_by_I/Is1_by_I)^2-1);//unitless\n",
"disp(HF,'Harmonic factor');\n",
"fi1=-alfa;//radian\n",
"DF=cos(fi1);//unitless\n",
"disp(DF,'Displacement factor');\n",
"PF=(Is1_by_I/Is_by_I)*DF;//lagging\n",
"disp(PF,'Power factor(lagging)');"
   ]
   }
,
{
		   "cell_type": "markdown",
		   "metadata": {},
		   "source": [
			"## Example 2.14: Find_output_volage_and_current.sce"
		   ]
		  },
  {
"cell_type": "code",
	   "execution_count": null,
	   "metadata": {
	    "collapsed": true
	   },
	   "outputs": [],
"source": [
"//Example 2_14\n",
"clc;\n",
"clear;close;\n",
"\n",
"//Given data: \n",
"Vs=230;//V\n",
"f=50;//Hz\n",
"alfa=30*%pi/180;//radian\n",
"I=4;//A\n",
"\n",
"//Solution :\n",
"disp('part (a)');\n",
"Vm=Vs*sqrt(2);//V\n",
"Vdc=2*Vm/%pi*cos(alfa)//V\n",
"RL=Vdc/I;//ohm\n",
"IL=I*2*sqrt(2)/%pi;//A\n",
"Pin_active=Vs*IL*cos(alfa);//W\n",
"Pin_reactive=Vs*IL*sin(alfa);//vars\n",
"Pin_appearent=Vs*IL;//VA\n",
"disp(Vdc,'dc output voltage(V)');\n",
"disp(Pin_active,'Active power input(W)');\n",
"disp(Pin_reactive,'Reactive power input(vars)');\n",
"disp(Pin_appearent,'Appearent power input(VA)');\n",
"disp('part (b)');\n",
"Vdc=Vm/%pi*(1+cos(alfa))//V\n",
"IL=Vdc/RL;//A\n",
"I_fund=2*sqrt(2)/%pi*IL*cos(alfa/2);//A\n",
"Pin_active=Vs*I_fund*cos(alfa/2);//W\n",
"Pin_reactive=Vs*I_fund*sin(alfa/2);//vars\n",
"Pin_appearent=Vs*I_fund;//VA\n",
"disp(Vdc,'dc output voltage(V)');\n",
"disp(Pin_active,'Active power input(W)');\n",
"disp(Pin_reactive,'Reactive power input(vars)');\n",
"disp(Pin_appearent,'Appearent power input(VA)');\n",
"disp('part (c)');\n",
"Vdc=Vs/sqrt(2)/%pi*(1+cos(alfa))//V\n",
"Idc=Vdc/RL;//A\n",
"disp(Vdc,'dc output voltage(V)');\n",
"disp(Idc,'dc output current(A)');"
   ]
   }
,
{
		   "cell_type": "markdown",
		   "metadata": {},
		   "source": [
			"## Example 2.15: Voltage_current_and_various_factors.sce"
		   ]
		  },
  {
"cell_type": "code",
	   "execution_count": null,
	   "metadata": {
	    "collapsed": true
	   },
	   "outputs": [],
"source": [
"//Example 2_15\n",
"clc;\n",
"clear;close;\n",
"\n",
"//Given data: \n",
"Vs=230;//V\n",
"f=50;//Hz\n",
"alfa=30;//degree\n",
"IL=10;//A\n",
"\n",
"//Solution :\n",
"Vm=Vs*sqrt(2);//V\n",
"Vdc=2*Vm/%pi*cosd(alfa)//V\n",
"disp(Vdc,'(a) dc output voltage(V)');\n",
"Irms=IL;//A\n",
"disp(Irms,'(b) Irms in A');\n",
"Is1=2*sqrt(2)/%pi*IL;//A\n",
"disp(Is1,'(c) Fundamental component of input current in A');\n",
"DF=cosd(-alfa);//unitless\n",
"disp(DF,'(d) Displacement fator');\n",
"pf_in=Is1/IL*DF;//lagging\n",
"disp(pf_in,'(e) Input power fator(lagging)');\n",
"HF=sqrt((IL/Is1)^2-1);//unitless\n",
"disp(HF,'(f) Harmonic factor');\n",
"Vrms=Vs;//V\n",
"FF=Vrms/Vdc;//form fator\n",
"RF=sqrt(FF^2-1);//ripple fator\n",
"disp(RF,'(g) Ripple factor');"
   ]
   }
,
{
		   "cell_type": "markdown",
		   "metadata": {},
		   "source": [
			"## Example 2.16: Voltage_current_power_factor_and_power_disipated.sce"
		   ]
		  },
  {
"cell_type": "code",
	   "execution_count": null,
	   "metadata": {
	    "collapsed": true
	   },
	   "outputs": [],
"source": [
"//Example 2_16\n",
"clc;\n",
"clear;close;\n",
"\n",
"//Given data: \n",
"Vs=240;//V\n",
"f=50;//Hz\n",
"alfa=60;//degree\n",
"RL=10;//ohm\n",
"\n",
"//Solution :\n",
"Vm=Vs*sqrt(2);//V\n",
"Vdc=Vm/%pi*(1+cosd(alfa))//V\n",
"disp(Vdc,'(a) average load voltage(V)');\n",
"I=Vdc/RL;//A\n",
"Is=I*sqrt(1-alfa/180);//A\n",
"Irms=Is;//A\n",
"disp(Irms,'(b) rms input current(A)');\n",
"Is1=2*sqrt(2)/%pi*I*cosd(alfa/2);//A\n",
"fi1=-alfa/2;//degree\n",
"DF=cosd(fi1);//unitless\n",
"pf_in=Is1/Is*DF;//lagging\n",
"disp(pf_in,'(c) Input power fator(lagging)');\n",
"Pavg=I^2*RL;//W\n",
"disp(Pavg,'(d) Average power dissipated(W)');"
   ]
   }
,
{
		   "cell_type": "markdown",
		   "metadata": {},
		   "source": [
			"## Example 2.17: Firing_angle_Power_and_variation_in_firing_angle.sce"
		   ]
		  },
  {
"cell_type": "code",
	   "execution_count": null,
	   "metadata": {
	    "collapsed": true
	   },
	   "outputs": [],
"source": [
"//Example 2_17\n",
"clc;\n",
"clear;close;\n",
"\n",
"//Given data: \n",
"IL=200;//A\n",
"VL=400;//V\n",
"Vdc=360;//V\n",
"variation=10;//%\n",
"\n",
"//Solution :\n",
"Vm=VL*sqrt(2)/sqrt(3);//V\n",
"//Vdc=3*sqrt(3)/%pi*Vm*cosd(alfa)//V\n",
"alfa=acosd(Vdc/(3*sqrt(3)/%pi*Vm))//degree\n",
"disp(alfa,'Firing angle in degree');\n",
"S=sqrt(3)*VL*IL;//VA\n",
"disp(S,'Apparent power(VA)');\n",
"P=S*cosd(alfa);//W\n",
"disp(P,'Active power(W)');\n",
"Q=sqrt(S^2-P^2);//vars\n",
"disp(Q,'Rective power(vars)');\n",
"Vac1=(1+variation/100)*VL;//V\n",
"alfa1=acosd(Vdc/(3*Vac1*sqrt(2)/%pi));//degree\n",
"Vac2=(1-variation/100)*VL;//V\n",
"alfa2=acosd(Vdc/(3*Vac2*sqrt(2)/%pi));//degree\n",
"disp(alfa1,'When variation is +10%, firing angle(degree)');\n",
"disp(alfa2,'When variation is -10%, firing angle(degree)');\n",
"//Answer in the book is wrong for some part."
   ]
   }
,
{
		   "cell_type": "markdown",
		   "metadata": {},
		   "source": [
			"## Example 2.18: Pdc_Current_and_PIV.sce"
		   ]
		  },
  {
"cell_type": "code",
	   "execution_count": null,
	   "metadata": {
	    "collapsed": true
	   },
	   "outputs": [],
"source": [
"//Example 2_18\n",
"clc;\n",
"clear;close;\n",
"\n",
"//Given data: \n",
"Vs=400;//V\n",
"f=50;//Hz\n",
"Idc=150;//A\n",
"alfa=60;//degree\n",
"\n",
"//Solution :\n",
"Vm=Vs*sqrt(2)/sqrt(3);//V\n",
"Vdc=3*sqrt(3)/%pi*Vm*cosd(alfa)//V\n",
"Pdc=Vdc*Idc;//W\n",
"disp(Pdc,'Output power, Pdc(W)');\n",
"Iavg=Idc/3;//A\n",
"disp(Iavg,'Average thyristor current(A)');\n",
"Irms=Idc/sqrt(3);//A\n",
"disp(Irms,'RMS value of thyristor current(A)');\n",
"Ipeak=Idc;//A\n",
"disp(Ipeak,'Peak current through thyristor(A)');\n",
"PIV=sqrt(2)*Vs;//V\n",
"disp(PIV,'Peak inverse voltage(V)');\n",
"//Answer of first part in the book is wrong."
   ]
   }
,
{
		   "cell_type": "markdown",
		   "metadata": {},
		   "source": [
			"## Example 2.19: Firing_angle_Power_and_current.sce"
		   ]
		  },
  {
"cell_type": "code",
	   "execution_count": null,
	   "metadata": {
	    "collapsed": true
	   },
	   "outputs": [],
"source": [
"//Example 2_19\n",
"clc;\n",
"clear;close;\n",
"\n",
"//Given data: \n",
"V=415;//V\n",
"Vdc=460;//V\n",
"I=200;//A\n",
"f=50;//Hz\n",
"\n",
"//Solution :\n",
"Vm=V*sqrt(2)/sqrt(3);//V\n",
"alfa=acosd(Vdc/(3*sqrt(3)/%pi*Vm));//degree\n",
"disp(alfa,'Converter firing angle(degree)');\n",
"Pdc=Vdc*I;//W\n",
"disp(Pdc/1000,'dc power(kW)');\n",
"IL=I*sqrt(120/180);//A\n",
"disp(IL,'AC line current(A)');\n",
"Ipeak=I;//A\n",
"Irms=Ipeak*sqrt(120/360);//A\n",
"disp(Irms,'RMS value of thyristor current(A)');\n",
"Iavg=Ipeak/3;//A\n",
"disp(Iavg,'Average thyristor current(A)');"
   ]
   }
,
{
		   "cell_type": "markdown",
		   "metadata": {},
		   "source": [
			"## Example 2.1: Average_Load_and_rms_load_voltage_and_current.sce"
		   ]
		  },
  {
"cell_type": "code",
	   "execution_count": null,
	   "metadata": {
	    "collapsed": true
	   },
	   "outputs": [],
"source": [
"//Example 2_1\n",
"clc;\n",
"clear;close;\n",
"\n",
"//Given data: \n",
"Vin=400;//V\n",
"alfa=30;//degree\n",
"R=50;//ohm\n",
"\n",
"//Solution :\n",
"Vdc=Vin/%pi/2*(1+cosd(alfa));//V\n",
"disp(Vdc,'Average load voltage(V) : ');\n",
"I=Vdc/R;//A\n",
"disp(I,'Average load current(A) : ');\n",
"Vrms=Vin*sqrt((180-alfa)/4/180+sind(2*alfa)/8/%pi);//V\n",
"disp(Vrms,'rms load voltage(V) : ');\n",
"Irms=Vrms/R;//A\n",
"disp(Irms,'rms load current(A) : ');"
   ]
   }
,
{
		   "cell_type": "markdown",
		   "metadata": {},
		   "source": [
			"## Example 2.20: Firing_angle_and_power_factor.sce"
		   ]
		  },
  {
"cell_type": "code",
	   "execution_count": null,
	   "metadata": {
	    "collapsed": true
	   },
	   "outputs": [],
"source": [
"//Example 2_20\n",
"clc;\n",
"clear;close;\n",
"\n",
"//Given data: \n",
"Vs=230;//V\n",
"f=50;//Hz\n",
"emf=200;//V\n",
"Rint=0.5;//ohm\n",
"I=20;//A\n",
"\n",
"//Solution :\n",
"Vm=Vs*sqrt(2)/sqrt(3);//V\n",
"Vdc=emf+Rint*I;//V\n",
"alfa=acosd(Vdc/(3*sqrt(3)/%pi*Vm));//degree\n",
"disp(alfa,'Firing angle(degree)');\n",
"Pout=emf*I+I^2*Rint;//W\n",
"Is=sqrt(I^2*120/180);//A\n",
"cos_theta=Pout/(sqrt(3)*Vs*Is);//power factor\n",
"disp(cos_theta,'Input power factor(lagging)');"
   ]
   }
,
{
		   "cell_type": "markdown",
		   "metadata": {},
		   "source": [
			"## Example 2.21: Firing_angle_current_and_power_factor.sce"
		   ]
		  },
  {
"cell_type": "code",
	   "execution_count": null,
	   "metadata": {
	    "collapsed": true
	   },
	   "outputs": [],
"source": [
"//Example 2_21\n",
"clc;\n",
"clear;close;\n",
"\n",
"//Given data: \n",
"Vs=400;//V\n",
"R=10;//ohm\n",
"f=50;//Hz\n",
"\n",
"//Solution :\n",
"Vm=Vs*sqrt(2)/sqrt(3);//V\n",
"Vdc_max=3*sqrt(3)*Vm/2/%pi*(1+cosd(0));//V\n",
"//Vdc should be Vdc_max/2\n",
"Vdc=Vdc_max*50/100;//V\n",
"alfa=acosd(1-Vdc/(3*sqrt(3)*Vm/2/%pi));//degree\n",
"disp(alfa,'Firing angle(degree)');\n",
"Idc=Vdc/R;//A\n",
"disp(Idc,'Average output current(A)');\n",
"Vrms=sqrt(3)*Vm*sqrt(3/4/%pi*(%pi-%pi/2+sin(%pi)/2));//V\n",
"Irms=Vrms/R;//A\n",
"disp(Vrms,'RMS output voltage(V)');\n",
"disp(Irms,'RMS output current(A)');\n",
"Iavg_thy=Idc/3;//A\n",
"disp(Iavg_thy,'Average thyristor current(A)');\n",
"Irms_thy=Irms/sqrt(3);//A\n",
"disp(Irms_thy,'RMS thyristor current(A)');\n",
"Eff=Vdc*Idc/(Vrms*Irms)*100;//%\n",
"disp(Eff,'Rectification Efficiency(%)');\n",
"Iline_rms=Irms*sqrt(120/180);//A\n",
"VA_in=3*Vs*Iline_rms/sqrt(3);//VA\n",
"TUF=Vdc*Idc/VA_in;\n",
"disp(TUF,'Transformer utilisation factor');\n",
"Pin_active=Irms^2*R;//W\n",
"pf_in=Pin_active/VA_in;//lagging\n",
"disp(pf_in,'Input power factor(lagging)');\n",
"//Answer in the book is wrong for some part."
   ]
   }
,
{
		   "cell_type": "markdown",
		   "metadata": {},
		   "source": [
			"## Example 2.22: Firing_angle_current_and_power_factor.sce"
		   ]
		  },
  {
"cell_type": "code",
	   "execution_count": null,
	   "metadata": {
	    "collapsed": true
	   },
	   "outputs": [],
"source": [
"//Example 2_22\n",
"clc;\n",
"clear;close;\n",
"\n",
"//Given data: \n",
"Vs=400;//V\n",
"R=10;//ohm\n",
"f=50;//Hz\n",
"\n",
"//Solution :\n",
"Vm=Vs*sqrt(2)/sqrt(3);//V\n",
"alfa=60;//degree(For 50% output voltage)\n",
"Vdc=3*sqrt(3)*Vm/%pi*cosd(alfa);//V\n",
"alfa=acosd(Vdc/3/sqrt(3)/Vm*%pi);//V\n",
"disp(alfa,'Firing angle in degree');\n",
"Idc=Vdc/R;//A\n",
"disp(Idc,'Average output current(A)');\n",
"Vrms=sqrt(3)*Vm*sqrt(0.5+3*sqrt(3)/4/%pi*cosd(2*alfa));//V\n",
"Irms=Vrms/R;//A\n",
"disp(Vrms,'RMS output voltage(V)');\n",
"disp(Irms,'RMS output current(A)');\n",
"Iavg_thy=Idc/3;//A\n",
"disp(Iavg_thy,'Average thyristor current(A)');\n",
"Irms_thy=Irms/sqrt(3);//A\n",
"disp(Irms_thy,'RMS thyristor current(A)');\n",
"Eff=Vdc*Idc/(Vrms*Irms)*100;//%\n",
"disp(Eff,'Rectification Efficiency(%)');\n",
"Iline_rms=Irms*sqrt(120/180);//A\n",
"VA_in=3*Vs*Iline_rms/sqrt(3);//VA\n",
"TUF=Vdc*Idc/VA_in;\n",
"disp(TUF,'Transformer utilisation factor');\n",
"Pin_active=Irms^2*R;//W\n",
"pf_in=Pin_active/VA_in;//lagging\n",
"disp(pf_in,'Input power factor(lagging)');\n",
"//Answer in the book is wrong for some part."
   ]
   }
,
{
		   "cell_type": "markdown",
		   "metadata": {},
		   "source": [
			"## Example 2.25: Firing_angle_of_converter.sce"
		   ]
		  },
  {
"cell_type": "code",
	   "execution_count": null,
	   "metadata": {
	    "collapsed": true
	   },
	   "outputs": [],
"source": [
"//Example 2_25\n",
"clc;\n",
"clear;close;\n",
"\n",
"//Given data: \n",
"Vs=400;//V\n",
"f=50;//Hz\n",
"Eb=300;//V\n",
"\n",
"//Solution :\n",
"Vdc=Eb;//V\n",
"Vm=Vs*sqrt(2);//V\n",
"//Vdc=3*sqrt(3)/2/%pi*Vm*cosd(alfa);//V\n",
"alfa=acosd(Vdc/(3*sqrt(3)/2/%pi*Vm));//degree\n",
"disp(alfa,'Firing angle(degree)');"
   ]
   }
,
{
		   "cell_type": "markdown",
		   "metadata": {},
		   "source": [
			"## Example 2.2: Find_average_curren.sce"
		   ]
		  },
  {
"cell_type": "code",
	   "execution_count": null,
	   "metadata": {
	    "collapsed": true
	   },
	   "outputs": [],
"source": [
"//Example 2_2\n",
"clc;\n",
"clear;close;\n",
"\n",
"//Given data: \n",
"Vo=50;//V\n",
"R=10;//ohm\n",
"//Vin=100*sin(omega*t);//V\n",
"Vm=100;//V\n",
"\n",
"//Solution :\n",
"omega_t=asin(Vo/Vm);//radian\n",
"Iavg=1/2/%pi*integrate('(Vm*sin(omega_t)-Vo)/R','omega_t',omega_t,omega_t+2*%pi/3);//A\n",
"disp(Iavg,'Average current in the circuit(A) : ');"
   ]
   }
,
{
		   "cell_type": "markdown",
		   "metadata": {},
		   "source": [
			"## Example 2.3: Find_average_current.sce"
		   ]
		  },
  {
"cell_type": "code",
	   "execution_count": null,
	   "metadata": {
	    "collapsed": true
	   },
	   "outputs": [],
"source": [
"//Example 2_3\n",
"clc;\n",
"clear;close;\n",
"\n",
"//Given data: \n",
"Eb=55.5;//V\n",
"R=10;//ohm\n",
"//Vin=110*sin(omega*t);//V\n",
"Vm=110*sqrt(2);//V\n",
"\n",
"//Solution :\n",
"omega_t=asind(Eb/Vm);//degree\n",
"Iavg=1/2/180*integrate('(Vm*sind(omega_t)-Eb)/R','omega_t',omega_t,180-omega_t);//A\n",
"disp(Iavg,'Average current in the circuit(A) : ');"
   ]
   }
,
{
		   "cell_type": "markdown",
		   "metadata": {},
		   "source": [
			"## Example 2.4: Vdc_Idc_Vrms_Irms.sce"
		   ]
		  },
  {
"cell_type": "code",
	   "execution_count": null,
	   "metadata": {
	    "collapsed": true
	   },
	   "outputs": [],
"source": [
"//Example 2_4\n",
"clc;\n",
"clear;close;\n",
"\n",
"//Given data: \n",
"Vs=230;//V\n",
"R=15;//ohm\n",
"alfa=%pi/2;//radian\n",
"\n",
"//Solution :\n",
"Vm=sqrt(2)*Vs;//V\n",
"Vdc=Vm/2/%pi*(1+cos(alfa));//V\n",
"disp(Vdc,'Vdc(V) : ');\n",
"Idc=Vdc/R;//A\n",
"disp(Idc,'Idc(A) : ');\n",
"Vrms=Vm*sqrt((%pi-alfa)/4/%pi+sin(%pi)/8/%pi);//V\n",
"disp(Vrms,'Vrms(V) : ');\n",
"Irms=Vrms/R;//A\n",
"disp(Irms,'Irms(A) : ');\n",
"Pdc=Vdc*Idc;//W\n",
"disp(Pdc,'Pdc(W) : ');\n",
"Pac=Vrms*Irms;//W\n",
"disp(Pac,'Pac(W) : ');\n",
"R_eff=Pdc/Pac;//rectification efficiency\n",
"disp(R_eff,'Rectification efficiency(unitless) : ');\n",
"Kf=Vrms/Vdc;//Form factor\n",
"disp(Kf,'Form factor(unitless) : ');\n",
"Kr=sqrt(Kf^2-1);//Ripple factor\n",
"disp(Kr,'Ripple factor(unitless) : ');\n",
"VA_rating=Vs*Irms;//VA\n",
"disp(VA_rating,'VoltAmpere rating(VA) : ');\n",
"TUF=Pdc/VA_rating;//Transformer utilization factor\n",
"disp(TUF,'Transformer utilization factor(unitless) : ');\n",
"PIV=Vm;//V\n",
"disp(PIV,'Peak Inverse Voltage across thyristor(V) : ');\n",
"//Ans in the book is wrong for some part."
   ]
   }
,
{
		   "cell_type": "markdown",
		   "metadata": {},
		   "source": [
			"## Example 2.5: Vdc_Vrms_Irms.sce"
		   ]
		  },
  {
"cell_type": "code",
	   "execution_count": null,
	   "metadata": {
	    "collapsed": true
	   },
	   "outputs": [],
"source": [
"//Example 2_5\n",
"clc;\n",
"clear;close;\n",
"\n",
"//Given data: \n",
"Vo=150;//V\n",
"R=30;//ohm\n",
"alfa=45;//degree\n",
"\n",
"//Solution :\n",
"Vdc=sqrt(2)*Vo/%pi*(1+cosd(alfa));//V\n",
"disp(Vdc,'Average dc Voltage(V) : ');\n",
"Iavg=Vdc/R;//A\n",
"disp(Iavg,'Average load current(A) : ');\n",
"Vrms=sqrt(2)*Vo*sqrt((180-alfa)/2/180+sind(90)/4/%pi   );//V\n",
"disp(Vrms,'rms load Voltage(V) : ');\n",
"Irms=Vrms/R;//A\n",
"disp(Irms,'rms load current(A) : ');"
   ]
   }
,
{
		   "cell_type": "markdown",
		   "metadata": {},
		   "source": [
			"## Example 2.6: Turn_ratio_VA_rating_PIV.sce"
		   ]
		  },
  {
"cell_type": "code",
	   "execution_count": null,
	   "metadata": {
	    "collapsed": true
	   },
	   "outputs": [],
"source": [
"//Example 2_6\n",
"clc;\n",
"clear;close;\n",
"\n",
"//Given data: \n",
"Vs=230;//V\n",
"f=50;//Hz\n",
"Vdc=100;//V\n",
"Ip=15;//A\n",
"alfa=30;//degree\n",
"\n",
"//Solution :\n",
"Vm=Vdc*%pi/(2*cosd(alfa))+1.7;//V\n",
"Vrms_2nd=Vm/sqrt(2);//V\n",
"TurnRatio=Vs/Vrms_2nd;\n",
"disp(TurnRatio,'(a) Turn ratio of transformer');\n",
"Irms_2nd=sqrt(Ip^2/2);//A\n",
"Rating=2*Vrms_2nd*Irms_2nd;//VA\n",
"disp(Rating,'(b) Transformer rating in VA');\n",
"PIV=2*Vm;//V\n",
"disp(PIV,'(c) PIV in V');\n",
"disp(Irms_2nd,'(d) RMS value of thyristor current in A');\n",
"///Answer in the book is wrong for some part."
   ]
   }
,
{
		   "cell_type": "markdown",
		   "metadata": {},
		   "source": [
			"## Example 2.7: Rated_voltage_of_thyristor.sce"
		   ]
		  },
  {
"cell_type": "code",
	   "execution_count": null,
	   "metadata": {
	    "collapsed": true
	   },
	   "outputs": [],
"source": [
"//Example 2_7\n",
"clc;\n",
"clear;close;\n",
"\n",
"//Given data: \n",
"P=10;//kW\n",
"Idc=50;//A\n",
"SF=2;//safety factor\n",
"\n",
"//Solution :\n",
"Vdc=P*1000/Idc;//V\n",
"alfa=0;//degree\n",
"Vm=Vdc*%pi/(2*cosd(alfa))+1.7;//V\n",
"PIV=2*Vm;//V\n",
"Vthy=SF*PIV;//V\n",
"disp(Vthy,'(a) Voltage rating of thristor in V');\n",
"PIV=Vm;//V//for bridge rectifier\n",
"Vthy=SF*PIV;//V\n",
"disp(Vthy,'(b) Voltage rating of thristor in V');\n",
"///Answer in the book is wrong."
   ]
   }
,
{
		   "cell_type": "markdown",
		   "metadata": {},
		   "source": [
			"## Example 2.8: Firing_angle_and_power_factor.sce"
		   ]
		  },
  {
"cell_type": "code",
	   "execution_count": null,
	   "metadata": {
	    "collapsed": true
	   },
	   "outputs": [],
"source": [
"//Example 2_8\n",
"clc;\n",
"clear;close;\n",
"\n",
"//Given data: \n",
"Vs=230;//V\n",
"f=50;//Hz\n",
"Io=15;//A\n",
"R=0.5;//ohm\n",
"L=0.3;//H\n",
"E1=100;//V\n",
"E2=-100;//V\n",
"\n",
"//Solution :\n",
"///part (a)\n",
"Vm=sqrt(2)*Vs;//V\n",
"//2*Vm/%pi*cosd(alfa)=E1+Io*R\n",
"alfa1=acosd((E1+Io*R)/(2*Vm/%pi));//degree\n",
"disp(alfa1,'(a) Firing angle in degree');\n",
"///part (b)\n",
"alfa2=acosd((E2+Io*R)/(2*Vm/%pi));//degree\n",
"disp(alfa2,'(b) Firing angle in degree');\n",
"disp('Part(c)');\n",
"//Pin=Vs*Io*cosd(theta)\n",
"Pout=E1*Io+Io^2*R;//W\n",
"//Pin=Pout\n",
"cos_theta=(Pout/Vs/Io);//laging\n",
"disp(cos_theta,'When E=100, input power factor(lagging)');\n",
"Pout=-E2*Io-Io^2*R;//W\n",
"//Pin=Pout\n",
"cos_theta=(Pout/Vs/Io);//laging\n",
"disp(cos_theta,'When E=-100, input power factor(lagging)');"
   ]
   }
,
{
		   "cell_type": "markdown",
		   "metadata": {},
		   "source": [
			"## Example 2.9: Average_load_current.sce"
		   ]
		  },
  {
"cell_type": "code",
	   "execution_count": null,
	   "metadata": {
	    "collapsed": true
	   },
	   "outputs": [],
"source": [
"//Example 2_9\n",
"clc;\n",
"clear;close;\n",
"\n",
"//Given data: \n",
"V=230;//V\n",
"f=50;//Hz\n",
"R=5;//ohm\n",
"L=8*10^-3;//H\n",
"E=50;//V\n",
"alfa=40;//degree\n",
"\n",
"//Solution :\n",
"//Vdc=2*sqrt(2)*V*cosd(alfa)/%pi=E+Io*R\n",
"Io=(2*sqrt(2)*V*cosd(alfa)/%pi-E)/R;//A\n",
"disp(Io,'Average value of load current in A');"
   ]
   }
],
"metadata": {
		  "kernelspec": {
		   "display_name": "Scilab",
		   "language": "scilab",
		   "name": "scilab"
		  },
		  "language_info": {
		   "file_extension": ".sce",
		   "help_links": [
			{
			 "text": "MetaKernel Magics",
			 "url": "https://github.com/calysto/metakernel/blob/master/metakernel/magics/README.md"
			}
		   ],
		   "mimetype": "text/x-octave",
		   "name": "scilab",
		   "version": "0.7.1"
		  }
		 },
		 "nbformat": 4,
		 "nbformat_minor": 0
}
