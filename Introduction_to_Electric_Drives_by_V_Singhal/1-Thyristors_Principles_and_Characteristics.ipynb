{
"cells": [
 {
		   "cell_type": "markdown",
	   "metadata": {},
	   "source": [
       "# Chapter 1: Thyristors Principles and Characteristics"
	   ]
	},
{
		   "cell_type": "markdown",
		   "metadata": {},
		   "source": [
			"## Example 1.12: RMS_current_and_form_factor.sce"
		   ]
		  },
  {
"cell_type": "code",
	   "execution_count": null,
	   "metadata": {
	    "collapsed": true
	   },
	   "outputs": [],
"source": [
"//Example 1_12\n",
"clc;\n",
"clear;close;\n",
"\n",
"//Given data: \n",
"I=120;//A\n",
"Gamma=180;//degree\n",
"RMS_current=I*sqrt(Gamma/360);//A\n",
"AVG_current=I*(Gamma/360);//A\n",
"FormFactor=RMS_current/AVG_current;//no unit\n",
"disp(RMS_current,'rms current (in A) : ');\n",
"disp(FormFactor,'Form Factor : ');"
   ]
   }
,
{
		   "cell_type": "markdown",
		   "metadata": {},
		   "source": [
			"## Example 1.13: Power_supplied.sce"
		   ]
		  },
  {
"cell_type": "code",
	   "execution_count": null,
	   "metadata": {
	    "collapsed": true
	   },
	   "outputs": [],
"source": [
"//Example 1_13\n",
"clc;\n",
"clear;close;\n",
"\n",
"//Given data: \n",
"V=130;//V\n",
"R=100;//ohm\n",
"theta1=60;//degree\n",
"theta2=45;//degree\n",
"v=sqrt(2)*V;//\n",
"Irms=sqrt(1/2/%pi*integrate('(3.25*sin(omega_t))^2','omega_t',theta1*%pi/180,%pi));//A\n",
"P=Irms^2*R;//W\n",
"disp(P,'(a) Power supplied to load (in W) : ');\n",
"Irms=sqrt(1/2/%pi*integrate('(3.25*sin(omega_t))^2','omega_t',theta2*%pi/180,%pi));//A\n",
"P=Irms^2*R;//W\n",
"disp(P,'(a) Power supplied to load (in W) : ');"
   ]
   }
,
{
		   "cell_type": "markdown",
		   "metadata": {},
		   "source": [
			"## Example 1.14: Average_power_loss.sce"
		   ]
		  },
  {
"cell_type": "code",
	   "execution_count": null,
	   "metadata": {
	    "collapsed": true
	   },
	   "outputs": [],
"source": [
"//Example 1_14\n",
"clc;\n",
"clear;close;\n",
"\n",
"//Given data: \n",
"Iavg=200;//A\n",
"period1=2*%pi;\n",
"period2=%pi;\n",
"Vth1=1.8;//V\n",
"I1=200;//A\n",
"Vth2=1.9;//V\n",
"I2=400;//A\n",
"//part (a)\n",
"Ploss1=I1*Vth1*period1/2/%pi;//W\n",
"disp(Ploss1,'(a) Average power loss (in W) : ');\n",
"Ploss2=I2*Vth2*period2/2/%pi;//W\n",
"disp(Ploss2,'(b) Average power loss (in W) : ');"
   ]
   }
,
{
		   "cell_type": "markdown",
		   "metadata": {},
		   "source": [
			"## Example 1.15: Average_on_state_current.sce"
		   ]
		  },
  {
"cell_type": "code",
	   "execution_count": null,
	   "metadata": {
	    "collapsed": true
	   },
	   "outputs": [],
"source": [
"//Example 1_15\n",
"clc;\n",
"clear;close;\n",
"\n",
"//Given data: \n",
"Irms=40;//A\n",
"f=50;//Hz\n",
"period1=170;//degree\n",
"period2=100;//degree\n",
"period3=40;//degree\n",
"//part (a)\n",
"alfa1=%pi-period1*%pi/180;//degree\n",
"Irms_by_Im=sqrt(1/2/%pi*((%pi-alfa1)/2+sin(2*alfa1)/4));\n",
"Im=Irms/Irms_by_Im;//A\n",
"Iav1=Im/2/%pi*(1+cos(alfa1));//A\n",
"disp(Iav1,'(a) Average current (in A) : ');\n",
"//part (b)\n",
"alfa2=%pi-period2*%pi/180;//degree\n",
"Irms_by_Im=sqrt(1/2/%pi*((%pi-alfa2)/2+sin(2*alfa2)/4));\n",
"Im=Irms/Irms_by_Im;//A\n",
"Iav2=Im/2/%pi*(1+cos(alfa2));//A\n",
"disp(Iav2,'(b) Average current (in A) : ');\n",
"//part (c)\n",
"alfa3=%pi-period3*%pi/180;//radian\n",
"Irms_by_Im=sqrt(1/2/%pi*((%pi-alfa3)/2+sin(2*alfa3)/4));\n",
"Im=Irms/Irms_by_Im;//A\n",
"Iav3=Im/2/%pi*(1+cos(alfa3));//A\n",
"disp(Iav3,'(c) Average current (in A) : ');"
   ]
   }
,
{
		   "cell_type": "markdown",
		   "metadata": {},
		   "source": [
			"## Example 1.16: Mean_power_dissipation.sce"
		   ]
		  },
  {
"cell_type": "code",
	   "execution_count": null,
	   "metadata": {
	    "collapsed": true
	   },
	   "outputs": [],
"source": [
"//Example 1_16\n",
"clc;\n",
"clear;close;\n",
"\n",
"//Given data: \n",
"//VT=0.9+0.02*IT;//V\n",
"//part (a)\n",
"IT=20;//A\n",
"VT=0.9+0.02*IT;//V\n",
"Pdiss=VT*IT;//W\n",
"disp(Pdiss,'(a) Mean power dissipation (in W) : ');\n",
"//part (b)\n",
"IT_mean=20;//A\n",
"IT_peak=20*%pi;//A\n",
"Pdiss=1/2/%pi*integrate('(0.9+0.02*IT_peak*sin(theta))*(IT_peak*sin(theta))','theta',0,%pi);//W\n",
"disp(Pdiss,'(b) Mean power dissipation (in W) : ');\n",
"//part (c)\n",
"IT=20;//A//for half cycle\n",
"VT=0.9+0.02*IT;//V\n",
"Pdiss=VT*IT/2;//W\n",
"disp(Pdiss,'(c) Power dissipation occur only during half cycle. Mean power dissipation (W)');\n",
"//part (d)\n",
"IT=20;//A//for half cycle\n",
"VT=0.9+0.02*IT;//V\n",
"Pdiss=VT*IT/3;//W\n",
"disp(Pdiss,'(d) Power dissipation occur only during 1/3rd period in a cycle. Mean power dissipation (W)');"
   ]
   }
,
{
		   "cell_type": "markdown",
		   "metadata": {},
		   "source": [
			"## Example 1.17: Current_rating_and_I2t_rating.sce"
		   ]
		  },
  {
"cell_type": "code",
	   "execution_count": null,
	   "metadata": {
	    "collapsed": true
	   },
	   "outputs": [],
"source": [
"//Example 1_17\n",
"clc;\n",
"clear;close;\n",
"\n",
"//Given data\n",
"Isub=2000;//A\n",
"f=50;//Hz\n",
"t=10*10^-3;//s\n",
"T=2*t;//s//duration of half cycle\n",
"I=sqrt(Isub^2*t/T);//A\n",
"I2t=I^2*t;//A^2 seconds\n",
"disp(I2t,'I^2*t rating in A^2-seconds ');"
   ]
   }
,
{
		   "cell_type": "markdown",
		   "metadata": {},
		   "source": [
			"## Example 1.18: Series_resistance_and_average_gate_power_loss.sce"
		   ]
		  },
  {
"cell_type": "code",
	   "execution_count": null,
	   "metadata": {
	    "collapsed": true
	   },
	   "outputs": [],
"source": [
"//Example 1_18\n",
"clc;\n",
"clear;close;\n",
"\n",
"//Given data\n",
"Vgate=12;//V\n",
"t=60*10^-6;//s\n",
"cycle=0.3;\n",
"P_peak=6;//W\n",
"//part (a)\n",
"//P_peak=Vg*Ig leads to 9*Ig^2+Ig-P_peak=0\n",
"X=[9 1 -6];//polynomial\n",
"Ig=roots(X);//A\n",
"Ig=Ig(2);//A(taking +ve value)\n",
"Vg=1+9*Ig\n",
"Rg=(Vgate-Vg)/Ig;//ohm\n",
"disp(Rg,'Series resistance Rg in ohm');\n",
"PavgLoss=P_peak*cycle;//W\n",
"disp(PavgLoss,'Average power loss in W ');"
   ]
   }
,
{
		   "cell_type": "markdown",
		   "metadata": {},
		   "source": [
			"## Example 1.19: Source_Resistance_Trigger_Current_and_voltage.sce"
		   ]
		  },
  {
"cell_type": "code",
	   "execution_count": null,
	   "metadata": {
	    "collapsed": true
	   },
	   "outputs": [],
"source": [
"//Example 1_19\n",
"clc;\n",
"clear;close;\n",
"\n",
"//Given data\n",
"Vs=12;//V\n",
"P=0.3;//W\n",
"Rs=100;//ohm//as slope is -100V/A\n",
"//Vs=Vg+Ig*Rg leads to Rs*Ig^2-Vs*Ig+P=0\n",
"X=[Rs -Vs P];//polynomial\n",
"Ig=roots(X);//A\n",
"Ig=Ig(2);//A(taking one value)\n",
"disp(Rs,'Source resistance, Rs in ohm ');\n",
"disp(Ig*1000,'Trigger current in mA ');\n",
"Vg=P/Ig;//V\n",
"disp(Vg,'Voltage Vg in V ');"
   ]
   }
,
{
		   "cell_type": "markdown",
		   "metadata": {},
		   "source": [
			"## Example 1.1: Anode_Current.sce"
		   ]
		  },
  {
"cell_type": "code",
	   "execution_count": null,
	   "metadata": {
	    "collapsed": true
	   },
	   "outputs": [],
"source": [
"//Example 1_1\n",
"clc;\n",
"clear;close;\n",
"\n",
"//Given data\n",
"alfa1=0.35;\n",
"alfa2=0.4;\n",
"IG=40*10^-3;//A\n",
"\n",
"//Solution :\n",
"IA=alfa2*IG/(1-(alfa1+alfa2));//A\n",
"disp(IA,'Anode current in A : ');"
   ]
   }
,
{
		   "cell_type": "markdown",
		   "metadata": {},
		   "source": [
			"## Example 1.20: Find_Rs_R1_and_R2.sce"
		   ]
		  },
  {
"cell_type": "code",
	   "execution_count": null,
	   "metadata": {
	    "collapsed": true
	   },
	   "outputs": [],
"source": [
"//Example 1_20\n",
"clc;\n",
"clear;close;\n",
"\n",
"//Given data\n",
"V=800;//V\n",
"I=110;//A\n",
"Es=12;//V\n",
"Im=250;//mA\n",
"Ish=600;//mA\n",
"VG=2.4;//V\n",
"IG=50;//mA\n",
"IGm=100;//mA\n",
"VGm=3;//V\n",
"Rs=Es/(Ish*10^-3);//ohm\n",
"disp(Rs,'Value of Rs in ohm ');\n",
"R1=Es/(Im*10^-3)-Rs;//ohm(Assumed R2 is not connected)\n",
"//Rs_plus_R1>=Es/(IGm*10^-3);//ohm\n",
"Rs_plus_R1=Es/(IGm*10^-3);//ohm\n",
"R1_Lower=Rs_plus_R1-Rs;//ohm\n",
"//Rs_plus_R1<=(Es-VG)/(IGm*10^-3);//ohm\n",
"Rs_plus_R1=(Es-VG)/(IG*10^-3);//ohm\n",
"R1_Upper=Rs_plus_R1-Rs;//ohm\n",
"disp('R1 must be more than '+string(R1_Lower)+' ohm and less than '+string(R1_Upper)+' ohm.')\n",
"disp('Let R1 is 125 ohm.');\n",
"R1=125;//ohm\n",
"//R2*Es/(R1+R2+Rs)<=VGm\n",
"R2=(VGm*R1+VGm*Rs)/(Es-VGm);//ohm\n",
"disp('R2<='+string(R2)+' ohm ')\n",
"disp('Let R2 is 48 ohm.');"
   ]
   }
,
{
		   "cell_type": "markdown",
		   "metadata": {},
		   "source": [
			"## Example 1.21: Finf_thermal_resistance.sce"
		   ]
		  },
  {
"cell_type": "code",
	   "execution_count": null,
	   "metadata": {
	    "collapsed": true
	   },
	   "outputs": [],
"source": [
"//Example 1_21\n",
"clc;\n",
"clear;close;\n",
"\n",
"//Given data: \n",
"l=0.2;//m\n",
"w=0.01;//m\n",
"d=0.01;//m\n",
"P=3;//W\n",
"Tc=220;//W/m/degreeC\n",
"T1=30;//degreeC\n",
"theta=l/Tc/w/d;//degreeC/W\n",
"T2=P*theta+T1;//degreeC\n",
"disp(T2,'Temperature of the surface in degree C ');"
   ]
   }
,
{
		   "cell_type": "markdown",
		   "metadata": {},
		   "source": [
			"## Example 1.22: Find_maximum_losses.sce"
		   ]
		  },
  {
"cell_type": "code",
	   "execution_count": null,
	   "metadata": {
	    "collapsed": true
	   },
	   "outputs": [],
"source": [
"//Example 1_22\n",
"clc;\n",
"clear;close;\n",
"\n",
"//Given data: \n",
"l=2/1000;//m\n",
"A=12/10000;//m^2\n",
"T21=4;//degreeC(T2-T1)\n",
"Tc=220;//W/m/degreeC\n",
"theta=l/Tc/A;//degreeC/W\n",
"Losses=T21/theta;//W\n",
"disp(Losses,'Maximum losses in W ');"
   ]
   }
,
{
		   "cell_type": "markdown",
		   "metadata": {},
		   "source": [
			"## Example 1.23: Thermal_resistance_of_heat_sink.sce"
		   ]
		  },
  {
"cell_type": "code",
	   "execution_count": null,
	   "metadata": {
	    "collapsed": true
	   },
	   "outputs": [],
"source": [
"//Example 1_23\n",
"clc;\n",
"clear;close;\n",
"\n",
"//Given data: \n",
"P=30;//W\n",
"T1=125;//degreeC\n",
"T2=50;//degreeC\n",
"theta=1;//degree C/W\n",
"theta_mica=0.3;//degree C/W\n",
"Rth_total=(T1-T2)/P;//degree C/W\n",
"Rth_heat_sink=Rth_total-theta-theta_mica;//degree C/W\n",
"disp(Rth_heat_sink,'Thermal resistance of heat sink in degree C/W ');"
   ]
   }
,
{
		   "cell_type": "markdown",
		   "metadata": {},
		   "source": [
			"## Example 1.24: Find_Junction_temperature.sce"
		   ]
		  },
  {
"cell_type": "code",
	   "execution_count": null,
	   "metadata": {
	    "collapsed": true
	   },
	   "outputs": [],
"source": [
"//Example 1_25\n",
"clc;\n",
"clear;close;\n",
"\n",
"//Given data: \n",
"T1=120;//degreeC(Junction Temperature)\n",
"T2=35;//degreeC(Ambient Temperature)\n",
"P=40;//W\n",
"theta_dash=0.8;//degree C/W(junction to heat sink)\n",
"theta=(T1-T2)/P;//degree C/W\n",
"disp(theta-theta_dash,'Resistance of heat sink in degree C/W');"
   ]
   }
,
{
		   "cell_type": "markdown",
		   "metadata": {},
		   "source": [
			"## Example 1.25: Maximum_thermal_resiatance.sce"
		   ]
		  },
  {
"cell_type": "code",
	   "execution_count": null,
	   "metadata": {
	    "collapsed": true
	   },
	   "outputs": [],
"source": [
"//Example 1_25\n",
"clc;\n",
"clear;close;\n",
"\n",
"//Given data: \n",
"T1=120;//degreeC(Junction Temperature)\n",
"T2=35;//degreeC(Ambient Temperature)\n",
"P=40;//W\n",
"theta_dash=0.8;//degree C/W(junction to heat sink)\n",
"theta=(T1-T2)/P;//degree C/W\n",
"disp(theta-theta_dash,'Resistance of heat sink in degree C/W');"
   ]
   }
,
{
		   "cell_type": "markdown",
		   "metadata": {},
		   "source": [
			"## Example 1.26: Average_power_loss_and_increase_in_rating.sce"
		   ]
		  },
  {
"cell_type": "code",
	   "execution_count": null,
	   "metadata": {
	    "collapsed": true
	   },
	   "outputs": [],
"source": [
"//Example 1_26\n",
"clc;\n",
"clear;close;\n",
"\n",
"//Given data: \n",
"Tj=125;//degreeC\n",
"Ts=80;//degreeC\n",
"theta_jc=0.7;//degree C/W\n",
"theta_cs=0.4;//degree C/W\n",
"//part (a)\n",
"Pav1=(Tj-Ts)/(theta_jc+theta_cs);//W\n",
"disp(Pav1,'(a) Average power loss in W')\n",
"//part (b)\n",
"Ts=50;//degreeC\n",
"Pav2=(Tj-Ts)/(theta_jc+theta_cs);//W\n",
"disp(Pav2,'(b) Permisible average power loss in W')\n",
"rating_increase=(sqrt(Pav2)-sqrt(Pav1))/sqrt(Pav1)*100;//%\n",
"disp(rating_increase,'Percentage increase in rating')"
   ]
   }
,
{
		   "cell_type": "markdown",
		   "metadata": {},
		   "source": [
			"## Example 1.27: Minimum_and_maximum_firing_angle.sce"
		   ]
		  },
  {
"cell_type": "code",
	   "execution_count": null,
	   "metadata": {
	    "collapsed": true
	   },
	   "outputs": [],
"source": [
"//Example 1_27\n",
"clc;\n",
"clear;close;\n",
"\n",
"//Given data: \n",
"Vs=230;//V\n",
"f=50;//Hz\n",
"vc=25;//V\n",
"C=0.6*10^-6;//F\n",
"R=2000:20000;//ohm\n",
"Xc=1/(2*%pi*f*C);//ohm\n",
"//When R=2000 ohm\n",
"Z=min(R)-%i*Xc;//ohm\n",
"I=Vs/Z;//A\n",
"Vc=-%i*I*Xc;//V\n",
"//vc=sqrt(2)*abs(Vc)*sind(omega_t+atand(imag(Vc),real(Vc)))\n",
"omega_t=asind(vc/sqrt(2)/abs(Vc))-atand(imag(Vc),real(Vc));//degree\n",
"alfa1=omega_t;//degree\n",
"\n",
"//When R=20000 ohm\n",
"Z=max(R)-%i*Xc;//ohm\n",
"I=Vs/Z;//A\n",
"Vc=-%i*I*Xc;//V\n",
"//vc=sqrt(2)*abs(Vc)*sind(omega_t+atand(imag(Vc),real(Vc)))\n",
"omega_t=asind(vc/sqrt(2)/abs(Vc))-atand(imag(Vc),real(Vc));//degree\n",
"alfa2=omega_t;//degree\n",
"disp(alfa1,'Minimum firing angle in degree')\n",
"disp(alfa2,'Maximum firing angle in degree')"
   ]
   }
,
{
		   "cell_type": "markdown",
		   "metadata": {},
		   "source": [
			"## Example 1.28: Design_a_UJTcircuit.sce"
		   ]
		  },
  {
"cell_type": "code",
	   "execution_count": null,
	   "metadata": {
	    "collapsed": true
	   },
	   "outputs": [],
"source": [
"//Example 1_28\n",
"clc;\n",
"clear;close;\n",
"\n",
"//Given data: \n",
"V=32;//V\n",
"Eta=0.63;\n",
"Ip=10*10^-6;//A\n",
"Vv=3.5;//V\n",
"Iv=10*10^-3;//A\n",
"Vf=0.5;//V\n",
"f=50;//Hz\n",
"tau=50*10^-3;//s\n",
"T=1/f//s\n",
"Vp=Eta*V+Vf;//V\n",
"C=0.4*10^-6;//F//assumed\n",
"disp(C*10^6,'Suitable value of C in micro F ')\n",
"//V-Ip*R>Vp\n",
"R_upper=(V-Vp)/Ip;//ohm\n",
"//V-Iv*R<Vv\n",
"R_lower=(V-Vv)/Iv;//ohm\n",
"disp('Value of R should be lie between '+string(R_lower)+' ohm to '+string(R_upper)+' ohm')\n",
"R=T/C/log(1/(1-Eta));//ohm\n",
"disp(R,'Suitale value of R in ohm ');\n",
"R4=tau/C;//ohm\n",
"disp(R4,'Suitale value of R4 in ohm ');\n",
"R3=10^4/Eta/V;//ohm\n",
"disp(R3,'Suitale value of R3 in ohm ');\n",
"//Answer for R4 is wrong in the book"
   ]
   }
,
{
		   "cell_type": "markdown",
		   "metadata": {},
		   "source": [
			"## Example 1.29: Various_component_of_circuit.sce"
		   ]
		  },
  {
"cell_type": "code",
	   "execution_count": null,
	   "metadata": {
	    "collapsed": true
	   },
	   "outputs": [],
"source": [
"//Example 1_29\n",
"clc;\n",
"clear;close;\n",
"\n",
"//Given data: \n",
"f=2*1000;//Hz\n",
"Vdc=10;//V\n",
"Eta=0.6;\n",
"Ip=5*10^-3;//A\n",
"Vf=0.5;//V//assumed\n",
"Vp=Eta*Vdc+Vf;//V\n",
"//Vdc-Ip*R>Vp\n",
"R_upper=(Vdc-Vp)/Ip;//ohm\n",
"disp('Value of R should be less than '+string(R_upper)+' ohm')\n",
"C=0.5*10^-6;//F//assumed\n",
"disp(C*10^6,'Let value of C in micro F ')\n",
"T=1/f//s\n",
"R=T/C/log(1/(1-Eta));//ohm\n",
"disp('For C=0.5 micro F, calculated value of R '+string(R)+' ohm. But it is not suitable');\n",
"C=1*10^-6;//F//assumed\n",
"disp(C*10^6,'Let value of C in micro F ')\n",
"R=T/C/log(1/(1-Eta));//ohm\n",
"disp('For C=1 micro F, calculated value of R '+string(R)+' ohm. It is suitable');"
   ]
   }
,
{
		   "cell_type": "markdown",
		   "metadata": {},
		   "source": [
			"## Example 1.2: Equivalent_capacitance.sce"
		   ]
		  },
  {
"cell_type": "code",
	   "execution_count": null,
	   "metadata": {
	    "collapsed": true
	   },
	   "outputs": [],
"source": [
"//Example 1_2\n",
"clc;\n",
"clear;close;\n",
"\n",
"//Given data\n",
"dv_dt=190;//V/µs\n",
"IC=8*10^-3;//A\n",
"\n",
"//Solution :\n",
"C=IC/(dv_dt/10^-6);//F\n",
"disp(C,'Capacitance of depletion layer in F : ');"
   ]
   }
,
{
		   "cell_type": "markdown",
		   "metadata": {},
		   "source": [
			"## Example 1.30: Range_of_firing_angle.sce"
		   ]
		  },
  {
"cell_type": "code",
	   "execution_count": null,
	   "metadata": {
	    "collapsed": true
	   },
	   "outputs": [],
"source": [
"//Example 1_30\n",
"clc;\n",
"clear;close;\n",
"\n",
"//Given data: \n",
"Vs=230;//V\n",
"R=1000:22000;//ohm\n",
"Vg=2;//V\n",
"C=0.47*10^-6;//F\n",
"f=50;//Hz\n",
"Xc=1/(2*%pi*f*C);//ohm\n",
"//When R=1000 ohm\n",
"theta=atand(min(R)/Xc);//degree\n",
"Z=min(R)-%i*Xc;//ohm\n",
"I=Vs/Z;//A\n",
"Vc=-%i*I*Xc;//V\n",
"//vc=sqrt(2)*abs(Vc)*sind(omega_t+atand(imag(Vc),real(Vc)))\n",
"omega_t=asind(Vg/sqrt(2)/abs(Vc))-atand(imag(Vc),real(Vc));//degree\n",
"alfa1=omega_t;//degree\n",
"//When R=22000 ohm\n",
"Z=max(R)-%i*Xc;//ohm\n",
"I=Vs/Z;//A\n",
"Vc=-%i*I*Xc;//V\n",
"//vc=sqrt(2)*abs(Vc)*sind(omega_t+atand(imag(Vc),real(Vc)))\n",
"omega_t=asind(Vg/sqrt(2)/abs(Vc))-atand(imag(Vc),real(Vc));//degree\n",
"alfa2=omega_t;//degree\n",
"disp(alfa1,'Minimum firing angle in degree')\n",
"disp(alfa2,'Maximum firing angle in degree')"
   ]
   }
,
{
		   "cell_type": "markdown",
		   "metadata": {},
		   "source": [
			"## Example 1.31: Time_of_conduction.sce"
		   ]
		  },
  {
"cell_type": "code",
	   "execution_count": null,
	   "metadata": {
	    "collapsed": true
	   },
	   "outputs": [],
"source": [
"//Example 1_31\n",
"clc;\n",
"clear;close;\n",
"\n",
"//Given data: \n",
"R=0.8;//ohm\n",
"L=10*10^-6;//H\n",
"C=50*10^-6;//F\n",
"//R<sqrt(4*L/C)\n",
"Rupper=sqrt(4*L/C);//ohm\n",
"disp('Maximum value of R should be '+string(Rupper)+' ohm')\n",
"disp('Given value of R is '+string(R)+' ohm. The circuit is underdamped.')\n",
"t0=%pi/sqrt(1/L/C-R^2/4/L^2);//s\n",
"disp(t0,'Time of conduction of thyristor in seconds')"
   ]
   }
,
{
		   "cell_type": "markdown",
		   "metadata": {},
		   "source": [
			"## Example 1.32: Find_value_of_L_and_C.sce"
		   ]
		  },
  {
"cell_type": "code",
	   "execution_count": null,
	   "metadata": {
	    "collapsed": true
	   },
	   "outputs": [],
"source": [
"//Example 1_32\n",
"clc;\n",
"clear;close;\n",
"\n",
"//Given data: \n",
"V=90;//V\n",
"Iload=8;//A\n",
"t_off=40*10^-6;//s\n",
"//Ipeak=2*Iload;//assumed\n",
"//V*sqrt(C/L)=2*Iload\n",
"C_by_L=(2*Iload/V)^2;\n",
"//t_off=%pi/2*sqrt(L*C)\n",
"L_into_C=(t_off/%pi*2)^2;\n",
"C=sqrt(L_into_C*C_by_L);//F\n",
"L=L_into_C/C;//H\n",
"disp(L,'Value of L(H)');\n",
"disp(C,'Value of C(F)');"
   ]
   }
,
{
		   "cell_type": "markdown",
		   "metadata": {},
		   "source": [
			"## Example 1.33: Find_value_of_C.sce"
		   ]
		  },
  {
"cell_type": "code",
	   "execution_count": null,
	   "metadata": {
	    "collapsed": true
	   },
	   "outputs": [],
"source": [
"//Example 1_33\n",
"clc;\n",
"clear;close;\n",
"\n",
"//Given data: \n",
"RL=10;//ohm\n",
"V=100;//V\n",
"t_off=50*10^-6;//s\n",
"C=t_off/RL/log(2);//F\n",
"disp(C,'Value of C(F)');"
   ]
   }
,
{
		   "cell_type": "markdown",
		   "metadata": {},
		   "source": [
			"## Example 1.34: Find_value_of_L_and_C.sce"
		   ]
		  },
  {
"cell_type": "code",
	   "execution_count": null,
	   "metadata": {
	    "collapsed": true
	   },
	   "outputs": [],
"source": [
"//Example 1_34\n",
"clc;\n",
"clear;close;\n",
"\n",
"//Given data: \n",
"IL=40;//A\n",
"VC=100;//V\n",
"t_off=60*10^-6;//s\n",
"C=t_off*IL/VC;//F\n",
"disp(C,'Value of C(F)');\n",
"//L>VC^2*C/IL\n",
"L_lower=VC^2*C/IL^2;//H\n",
"Ip=VC*sqrt(C/L_lower);//A\n",
"disp('Value of L should be greater than '+string(L_lower)+' H. For this value of L, Peak capacitor current is '+string(Ip)+' A. But it should be less than maximum load current.')\n",
"//Let Ip=34.6 A\n",
"Ip=34.6;//A\n",
"L=C/(Ip/VC)^2;//H\n",
"disp(L,'Value of L(H)');"
   ]
   }
,
{
		   "cell_type": "markdown",
		   "metadata": {},
		   "source": [
			"## Example 1.35: Current_rating_of_thyristor.sce"
		   ]
		  },
  {
"cell_type": "code",
	   "execution_count": null,
	   "metadata": {
	    "collapsed": true
	   },
	   "outputs": [],
"source": [
"//Example 1_35\n",
"clc;\n",
"clear;close;\n",
"\n",
"//Given data: \n",
"Vdc=100;//V\n",
"L=0.1*10^-3;//H\n",
"C=10*10^-6;//F\n",
"Vc=100;//V\n",
"t_off_thyristor=25*10^-6;//s\n",
"IL=10;//A\n",
"t_off=Vc*C/IL;//s\n",
"disp('T_off is '+string(t_off)+' seconds. It is greater than thristor turn off time, so it is sufficient for communication.')\n",
"Ip=Vdc*sqrt(C/L);//A\n",
"disp(Ip,'Current rating(A)');"
   ]
   }
,
{
		   "cell_type": "markdown",
		   "metadata": {},
		   "source": [
			"## Example 1.36: Find_value_of_R_and_C.sce"
		   ]
		  },
  {
"cell_type": "code",
	   "execution_count": null,
	   "metadata": {
	    "collapsed": true
	   },
	   "outputs": [],
"source": [
"//Example 1_36\n",
"clc;\n",
"clear;close;\n",
"\n",
"//Given data: \n",
"dv_by_dt=25/10^-6;//V/s\n",
"L=0.2*10^-3;//H\n",
"Vrms=230;//V\n",
"damping=0.65;//damping factor\n",
"Vm=sqrt(2)*Vrms;//V\n",
"C=1/(2*L)*[0.564*Vm/dv_by_dt]^2;//F\n",
"R=2*damping*sqrt(L/C);//ohm\n",
"disp(C,'Value of C(F)');\n",
"disp(R,'Value of R(ohm)');"
   ]
   }
,
{
		   "cell_type": "markdown",
		   "metadata": {},
		   "source": [
			"## Example 1.37: Value_of_R_and_C_Power_loss_and_rating.sce"
		   ]
		  },
  {
"cell_type": "code",
	   "execution_count": null,
	   "metadata": {
	    "collapsed": true
	   },
	   "outputs": [],
"source": [
"//Example 1_37\n",
"clc;\n",
"clear;close;\n",
"\n",
"//Given data: \n",
"V=300;//V\n",
"RL=10;//ohm\n",
"L=0;//H\n",
"Ith=100;//A\n",
"f=2000;//Hz\n",
"dv_by_dt=100*10^6;//V/s\n",
"//dv/dt=(vth(tau)-vth(0))/tau\n",
"//dv/dt=RL*(1-0.368)*V/(R+RL)/((R+RL)*C)\n",
"R=V/Ith;//ohm\n",
"C=RL*(1-0.368)*V/(R+RL)/(R+RL)/dv_by_dt\n",
"disp(R,'Value of R(ohm)');\n",
"disp(C,'Value of C(F)');\n",
"Ploss=1/2*C*V^2*f;//W\n",
"disp(Ploss,'Power loss in snubber circuit(W)')\n",
"disp('Power rating of resitance is '+string(Ploss)+' W as all energy will be disspated in the resistance.')"
   ]
   }
,
{
		   "cell_type": "markdown",
		   "metadata": {},
		   "source": [
			"## Example 1.38: Value_of_dvbydt_and_dibydt.sce"
		   ]
		  },
  {
"cell_type": "code",
	   "execution_count": null,
	   "metadata": {
	    "collapsed": true
	   },
	   "outputs": [],
"source": [
"//Example 1_38\n",
"clc;\n",
"clear;close;\n",
"\n",
"//Given data: \n",
"R=4;//ohm\n",
"L=6*10^-6;//H\n",
"C=6*10^-6;//F\n",
"V=300;//V\n",
"di_by_dt_max=V/L;//A/s\n",
"Isc=V/R;//A\n",
"dvc_by_dt=R*di_by_dt_max+Isc/C;//V/s\n",
"disp(di_by_dt_max,'Maximum permissible value of di/dt(A/s)');\n",
"disp(dvc_by_dt,'Maximum permissible value of dv/dt(V/s)');\n",
""
   ]
   }
,
{
		   "cell_type": "markdown",
		   "metadata": {},
		   "source": [
			"## Example 1.39: Design_a_snubber_circuit.sce"
		   ]
		  },
  {
"cell_type": "code",
	   "execution_count": null,
	   "metadata": {
	    "collapsed": true
	   },
	   "outputs": [],
"source": [
"//Example 1_39\n",
"clc;\n",
"clear;close;\n",
"\n",
"//Given data: \n",
"RL=8;//ohm\n",
"V=230;//V\n",
"Ip=100;//A\n",
"SF=2;//safety factor\n",
"di_by_dt_max=40/10^-6/2;//A/s\n",
"dv_by_dt_max=150/10^-6/2;//V/s\n",
"\n",
" L=sqrt(2)*V/di_by_dt_max;//H\n",
"disp(L,'Value of L(H)');\n",
"R=L/(sqrt(2)*V)*dv_by_dt_max;//ohm\n",
"disp(R,'Value of R(ohm)');\n",
"IL_peak=(sqrt(2)*V)/RL;//A\n",
"Ic_peak=(sqrt(2)*V)/R;//A\n",
"Itotal=IL_peak+Ic_peak;//A\n",
"disp(Itotal,'Total current through capacitor for these values(A)');\n",
"disp('Itotal>Ip, therefore value of R should be increased.');\n",
"Ic_max=Ip-IL_peak;//A\n",
"R=(sqrt(2)*V)/Ic_max;//ohm\n",
"R=ceil(R);//ohm\n",
"disp(R,'New Value of R(ohm)');\n",
"damping=0.65;\n",
"C=4*damping^2*L/R^2;//F\n",
"disp(C*10^6,'Value of C(micro F)');\n",
"disp(L*10^6,'Value of L(micro H)');\n",
"//Ic_switching=C*dv/dt\n",
"dv_by_dt=sqrt(2)*V/(R+RL)/C;//V/s\n",
"disp('Value of dv/dt is '+string(dv_by_dt)+' V/s. It is within the limit for the calculated value of R, L & C. Design is safe.')\n",
""
   ]
   }
,
{
		   "cell_type": "markdown",
		   "metadata": {},
		   "source": [
			"## Example 1.3: Find_various_voltages.sce"
		   ]
		  },
  {
"cell_type": "code",
	   "execution_count": null,
	   "metadata": {
	    "collapsed": true
	   },
	   "outputs": [],
"source": [
"//Example 1_3\n",
"clc;\n",
"clear;close;\n",
"\n",
"//Given data\n",
"RG=2000;//ohm\n",
"VCC=20;//V\n",
"VT=0.75;//V\n",
"Vthy=0.7;//V(Voltage across thyristor)\n",
"R=200;//ohm\n",
"IT=7*10^-3;//A\n",
"Ih=5*10^-3;//A\n",
"\n",
"\n",
"//Solution :\n",
"//part (a)\n",
"Vo=VCC;//V////thyristor not conducting\n",
"disp(Vo,'(a) When thyristor is in off state, Output voltage in V')\n",
"//part (b)\n",
"Vs=VT+IT*RG;//V\n",
"disp(Vs,'(b) Voltage necessary to turn on the thyristor in V')\n",
"//part (c)\n",
"VR1=Ih*R;//V\n",
"disp('(c) Current through thyristor should be less than holding current. Voltage should be reduced to less than '+string(VR1)+' V')\n",
"//part (d)\n",
"VR2=VR1+Vthy;//V\n",
"disp('(d) VCC should be reduced to less than '+string(VR2)+' V')"
   ]
   }
,
{
		   "cell_type": "markdown",
		   "metadata": {},
		   "source": [
			"## Example 1.40: Fault_clearing_time.sce"
		   ]
		  },
  {
"cell_type": "code",
	   "execution_count": null,
	   "metadata": {
	    "collapsed": true
	   },
	   "outputs": [],
"source": [
"//Example 1_40\n",
"clc;\n",
"clear;close;\n",
"\n",
"//Given data: \n",
"V=230;//V\n",
"R1=2;//ohm\n",
"R2=5;//ohm\n",
"R3=1;//ohm\n",
"R4=6;//ohm\n",
"R5=5;//ohm\n",
"Isqr_t=30;//A^2-s\n",
"R=R1+R2*R3/(R2+R3);//ohm(X grounded)\n",
"Ifault=sqrt(2)*V/R;//A\n",
"tc=Isqr_t/Ifault^2;//s\n",
"disp(tc,'Fault clearing time in seconds');\n",
""
   ]
   }
,
{
		   "cell_type": "markdown",
		   "metadata": {},
		   "source": [
			"## Example 1.4: Find_VG_IG_and_RG.sce"
		   ]
		  },
  {
"cell_type": "code",
	   "execution_count": null,
	   "metadata": {
	    "collapsed": true
	   },
	   "outputs": [],
"source": [
"//Example 1_4\n",
"clc;\n",
"clear;close;\n",
"\n",
"//Given data\n",
"IG=poly(0,'IG');//A\n",
"VG=1+9*IG;//V\n",
"Vgate=25;//V\n",
"t=%pi;//radian(duration)\n",
"Pavg=0.6;//W\n",
"\n",
"//Solution :\n",
"Ploss=Pavg*2*%pi/t;//W\n",
"//Ploss=VG*IG\n",
"X=VG*IG-Ploss;\n",
"IG=roots(X);//A\n",
"IG=IG(2);//A(taking +ve value only)\n",
"VG=1+9*IG;//V\n",
"//Vgate=RG*IG+VG\n",
"RG=(Vgate-VG)/IG;//ohm\n",
"disp(VG,'VG in V');\n",
"disp(IG,'IG in A');\n",
"disp(RG,'RG in ohm');"
   ]
   }
,
{
		   "cell_type": "markdown",
		   "metadata": {},
		   "source": [
			"## Example 1.5: Minimum_width_of_gate_pulse.sce"
		   ]
		  },
  {
"cell_type": "code",
	   "execution_count": null,
	   "metadata": {
	    "collapsed": true
	   },
	   "outputs": [],
"source": [
"//Example 1_5\n",
"clc;\n",
"clear;close;\n",
"\n",
"//Given data\n",
"Vdc=100;//V\n",
"L=10;//H\n",
"i=80*10^-3;//A\n",
"\n",
"//Solution :\n",
"t=i*L/Vdc;//s\n",
"disp('Width of pulse should be more than '+string(t*1000)+' milli-seconds.');"
   ]
   }
,
{
		   "cell_type": "markdown",
		   "metadata": {},
		   "source": [
			"## Example 1.6: Minimum_width_of_gate_pulse.sce"
		   ]
		  },
  {
"cell_type": "code",
	   "execution_count": null,
	   "metadata": {
	    "collapsed": true
	   },
	   "outputs": [],
"source": [
"//Example 1_6\n",
"clc;\n",
"clear;close;\n",
"\n",
"//Given data\n",
"Vdc=100;//V\n",
"R=10;//ohm\n",
"L=5;//H\n",
"i=50*10^-3;//A\n",
"\n",
"//Solution :\n",
"//i=Vdc/R*(1-exp(-R*t/L))\n",
"t=-log(1-i/Vdc*R)/R*L;//s\n",
"disp('Minimum width of gate pulse is '+string(t*1000)+' milli-seconds.');"
   ]
   }
,
{
		   "cell_type": "markdown",
		   "metadata": {},
		   "source": [
			"## Example 1.7: Maximum_value_of_R.sce"
		   ]
		  },
  {
"cell_type": "code",
	   "execution_count": null,
	   "metadata": {
	    "collapsed": true
	   },
	   "outputs": [],
"source": [
"//Example 1_7\n",
"clc;\n",
"clear;close;\n",
"\n",
"//Given data\n",
"i_latch=40*10^-3;//A\n",
"t=40*10^-6;//s\n",
"Vdc=90;//V\n",
"R=25;//ohm\n",
"L=0.5;//H\n",
"\n",
"//Solution :\n",
"i=Vdc/R*(1-exp(-R*t/L));//A\n",
"disp('Current in the circuit is '+string(i)+' A, it is less than latchig current, the thyristor will not turn on.');\n",
"R=Vdc/(i_latch-i);//ohm\n",
"disp('Maximum value of R is '+string(R)+' ohm.');"
   ]
   }
,
{
		   "cell_type": "markdown",
		   "metadata": {},
		   "source": [
			"## Example 1.8: Maximum_value_of_R.sce"
		   ]
		  },
  {
"cell_type": "code",
	   "execution_count": null,
	   "metadata": {
	    "collapsed": true
	   },
	   "outputs": [],
"source": [
"//Example 1_8\n",
"clc;\n",
"clear;close;\n",
"\n",
"//Given data\n",
"i_h=50*10^-3;//A\n",
"t=50*10^-6;//s\n",
"Vdc=100;//V\n",
"R=20;//ohm\n",
"L=0.5;//H\n",
"\n",
"//Solution :\n",
"i=Vdc/R*(1-exp(-R*t/L));//A\n",
"//i<i_h;;;so thyristor will return to off state\n",
"iR=i_h-i;//A//current through R\n",
"R=Vdc/iR;//ohm\n",
"disp('Maximum value of R is '+string(R)+' ohm.');"
   ]
   }
,
{
		   "cell_type": "markdown",
		   "metadata": {},
		   "source": [
			"## Example 1.9: Find_Triggering_angle.sce"
		   ]
		  },
  {
"cell_type": "code",
	   "execution_count": null,
	   "metadata": {
	    "collapsed": true
	   },
	   "outputs": [],
"source": [
"//Example 1_9\n",
"clc;\n",
"clear;close;\n",
"\n",
"//Given data: \n",
"V=240;//Volt\n",
"f=50;//Hz\n",
"R=5;//ohm\n",
"L=0.05;//H\n",
"theta=atand(2*%pi*f*L/R);//degree\n",
"Vm=V*sqrt(2);//Volt\n",
"//sind(fi-theta)=0;//for no current transient\n",
"fi=theta+asind(0);//degree\n",
"disp(fi,'For no current transient, triggering angle in degree');\n",
"//sind(fi-theta)=1;//for worst current transient\n",
"fi=theta+asind(1);//degree\n",
"disp(fi,'For worst current transient, triggering angle in degree');"
   ]
   }
],
"metadata": {
		  "kernelspec": {
		   "display_name": "Scilab",
		   "language": "scilab",
		   "name": "scilab"
		  },
		  "language_info": {
		   "file_extension": ".sce",
		   "help_links": [
			{
			 "text": "MetaKernel Magics",
			 "url": "https://github.com/calysto/metakernel/blob/master/metakernel/magics/README.md"
			}
		   ],
		   "mimetype": "text/x-octave",
		   "name": "scilab",
		   "version": "0.7.1"
		  }
		 },
		 "nbformat": 4,
		 "nbformat_minor": 0
}
