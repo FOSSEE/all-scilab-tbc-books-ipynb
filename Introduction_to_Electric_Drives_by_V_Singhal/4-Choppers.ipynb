{
"cells": [
 {
		   "cell_type": "markdown",
	   "metadata": {},
	   "source": [
       "# Chapter 4: Choppers"
	   ]
	},
{
		   "cell_type": "markdown",
		   "metadata": {},
		   "source": [
			"## Example 4.10: Average_load_voltage.sce"
		   ]
		  },
  {
"cell_type": "code",
	   "execution_count": null,
	   "metadata": {
	    "collapsed": true
	   },
	   "outputs": [],
"source": [
"//Example 4_10\n",
"clc;\n",
"clear;close;\n",
"\n",
"//Given data: \n",
"V=230;//V\n",
"Ton=25/1000;//s\n",
"Toff=10/1000;//s\n",
"\n",
"//Solution :\n",
"Vavg=V*Ton/(Ton+Toff);//V\n",
"disp(Vavg,'Average load voltage(V)');"
   ]
   }
,
{
		   "cell_type": "markdown",
		   "metadata": {},
		   "source": [
			"## Example 4.11: Find_curent_and_voltage.sce"
		   ]
		  },
  {
"cell_type": "code",
	   "execution_count": null,
	   "metadata": {
	    "collapsed": true
	   },
	   "outputs": [],
"source": [
"//Example 4_11\n",
"clc;\n",
"clear;close;\n",
"\n",
"//Given data: \n",
"V=100;//V\n",
"R=0.5;//ohm\n",
"L=1/1000;//H\n",
"Ton=1/1000;//s\n",
"T=3/1000;//s\n",
"\n",
"//Solution :\n",
"Toff=T-Ton;//s\n",
"alfa=Ton/T;//duty cycle\n",
"E=0;//V\n",
"Imax=V/R*[(1-exp(-alfa*T*R/L))/(1-exp(-T*R/L))]-E/R;//A\n",
"Imin=V/R*[(exp(alfa*T*R/L)-1)/(exp(T*R/L)-1)]-E/R;//A\n",
"disp(Imax,'Maximum current(A)');\n",
"disp(Imin,'Minimum current(A)');\n",
"Iavg=(Imax+Imin)/2;//A\n",
"disp(Iavg,'Average load current(A)');\n",
"Vavg=alfa*V;//V\n",
"disp(Vavg,'Average load voltage(V)');"
   ]
   }
,
{
		   "cell_type": "markdown",
		   "metadata": {},
		   "source": [
			"## Example 4.12: Output_current_and_voltage.sce"
		   ]
		  },
  {
"cell_type": "code",
	   "execution_count": null,
	   "metadata": {
	    "collapsed": true
	   },
	   "outputs": [],
"source": [
"//Example 4_12\n",
"clc;\n",
"clear;close;\n",
"\n",
"//Given data: \n",
"V=100;//V\n",
"E=12;//V\n",
"L=0.8/1000;//H\n",
"R=0.2;//ohm\n",
"T=2.4/1000;//s\n",
"Ton=1/1000;//s\n",
"\n",
"//Solution :\n",
"alfa=Ton/T;//duty cycle\n",
"Imax=V/R*[(1-exp(-alfa*T*R/L))/(1-exp(-T*R/L))];//A\n",
"Imin=V/R*[(exp(alfa*T*R/L)-1)/(exp(T*R/L)-1)];//A\n",
"disp(Imax,'Maximum current(A)');\n",
"disp(Imin,'Minimum current(A)');\n",
"Vavg=alfa*V;//V\n",
"disp(Vavg,'Average load voltage(V)');"
   ]
   }
,
{
		   "cell_type": "markdown",
		   "metadata": {},
		   "source": [
			"## Example 4.13: Find_series_inductance.sce"
		   ]
		  },
  {
"cell_type": "code",
	   "execution_count": null,
	   "metadata": {
	    "collapsed": true
	   },
	   "outputs": [],
"source": [
"//Example 4_13\n",
"clc;\n",
"clear;close;\n",
"\n",
"//Given data: \n",
"V=500;//V\n",
"I=10;//A\n",
"f=400;//Hz\n",
"\n",
"//Solution :\n",
"alfa=0.5;//for maximum swing\n",
"//I=V/(4*f*L);//A\n",
"L=V/(4*f*I);//H\n",
"disp(L,'Series inductance(H)');"
   ]
   }
,
{
		   "cell_type": "markdown",
		   "metadata": {},
		   "source": [
			"## Example 4.14: Motor_speed_and_current_swing.sce"
		   ]
		  },
  {
"cell_type": "code",
	   "execution_count": null,
	   "metadata": {
	    "collapsed": true
	   },
	   "outputs": [],
"source": [
"////Example 4_14\n",
"clc;\n",
"clear;close;\n",
"\n",
"//Given data: \n",
"V=800;//V\n",
"P=300;//HP\n",
"Eff=0.9;//Efficiency\n",
"R=0.1;//ohm\n",
"L=100/1000;//H\n",
"alfa=0.2;//duty cycle\n",
"N=900;//rpm\n",
"f=400;//Hz\n",
"\n",
"//Solution :\n",
"Pout=P*735.5/1000;//kW\n",
"Pin=Pout/Eff;//kW\n",
"I=Pin*1000/V;//A\n",
"E=V-I*R;//V(at rated voltage)\n",
"Edash=V*alfa-I*R;//V(at 0.2 duty cycle)\n",
"Ndash=N*Edash/E;//rpm\n",
"disp(Ndash,'Motor speed(rpm)');\n",
"T=1/f;//s\n",
"d_ia=(V-alfa*V)/L*alfa*T;//A\n",
"disp(d_ia,'Current swing(A)');"
   ]
   }
,
{
		   "cell_type": "markdown",
		   "metadata": {},
		   "source": [
			"## Example 4.17: Find_the_current.sce"
		   ]
		  },
  {
"cell_type": "code",
	   "execution_count": null,
	   "metadata": {
	    "collapsed": true
	   },
	   "outputs": [],
"source": [
"////Example 4_17\n",
"clc;\n",
"clear;close;\n",
"\n",
"//Given data: \n",
"V=200;//V\n",
"R=2;//ohm\n",
"L=10/1000;//H\n",
"E=20;//V\n",
"T=1000/10^6;//s\n",
"Ton=300/10^6;//s\n",
"\n",
"//Solution :\n",
"f=1/T;//Hz\n",
"alfa_min=1/(R*T/L)*log(1+E/V*(exp(R*T/L)-1));//duty cycle\n",
"alfa=Ton/T;//duty cycle\n",
"disp(alfa_min,'Minimum value required of alfa');\n",
"disp(alfa,'Actual value of alfa');\n",
"disp('Load current is continuous as alfa_actual>alfa_min')\n",
"Imax=V/R*[(1-exp(-alfa*T*R/L))/(1-exp(-T*R/L))]-E/R;//A\n",
"Imin=V/R*[(exp(alfa*T*R/L)-1)/(exp(T*R/L)-1)]-E/R;//A\n",
"disp(Imax,'Maximum current(A)');\n",
"disp(Imin,'Minimum current(A)');\n",
"Iavg=(alfa*V-E)/R;//A\n",
"disp(Iavg,'Average load current(A)');\n",
"Iavg_in=alfa*(V-E)/R-L/R/T*(Imax-Imin);//A\n",
"disp(Iavg_in,'Average input current(A)');"
   ]
   }
,
{
		   "cell_type": "markdown",
		   "metadata": {},
		   "source": [
			"## Example 4.18: RMS_value_of_load_current.sce"
		   ]
		  },
  {
"cell_type": "code",
	   "execution_count": null,
	   "metadata": {
	    "collapsed": true
	   },
	   "outputs": [],
"source": [
"////Example 4_18\n",
"clc;\n",
"clear;close;\n",
"\n",
"//Given data: \n",
"V=200;//V\n",
"T=1000/10^6;//s\n",
"Ton=300/10^6;//s\n",
"R=4;//ohm\n",
"L=10/1000;//H\n",
"\n",
"//Solution :\n",
"f=1/T;//Hz\n",
"Vrms1=sqrt((200/%pi*sin(2*%pi*0.3))^2+(200/%pi*((1-cos(2*%pi*0.3))))^2)/sqrt(2);//V\n",
"Vrms2=sqrt((200/2/%pi*sin(2*%pi*2*0.3))^2+(200/2/%pi*((1-cos(2*%pi*2*0.3))))^2)/sqrt(2);//V\n",
"Vrms3=sqrt((200/3/%pi*sin(2*%pi*3*0.3))^2+(200/3/%pi*((1-cos(2*%pi*3*0.3))))^2)/sqrt(2);//V\n",
"Z1=R+%i*(2*%pi*f*L);//ohm\n",
"I1=Vrms1/abs(Z1);//A\n",
"disp(I1,'RMS value of 1st harmonic of load current(A)');\n",
"Z2=R+%i*(2*2*%pi*f*L);//ohm\n",
"I2=Vrms2/abs(Z2);//A\n",
"disp(I2,'RMS value of 2nd harmonic of load current(A)');\n",
"Z3=R+%i*(3*2*%pi*f*L);//ohm\n",
"I3=Vrms3/abs(Z3);//A\n",
"disp(I3,'RMS value of 3rd harmonic of load current(A)');\n",
"Iavg=V/R*Ton/T;//A\n",
"Irms=sqrt(Iavg^2+I1^2+I2^2+I3^2);//A\n",
"disp(Irms,'RMS value of load current(A)');"
   ]
   }
,
{
		   "cell_type": "markdown",
		   "metadata": {},
		   "source": [
			"## Example 4.19: Period_of_conduction.sce"
		   ]
		  },
  {
"cell_type": "code",
	   "execution_count": null,
	   "metadata": {
	    "collapsed": true
	   },
	   "outputs": [],
"source": [
"//Example 4_19\n",
"clc;\n",
"clear;close;\n",
"\n",
"//Given data: \n",
"V=200;//V\n",
"Vav=250;//V\n",
"Toff=0.6*10^-3;//s\n",
"\n",
"//Solution :\n",
"T=Vav/V*Toff;//s\n",
"Ton=T-Toff;//s\n",
"disp(Ton,'Period of conduction(seconds)');"
   ]
   }
,
{
		   "cell_type": "markdown",
		   "metadata": {},
		   "source": [
			"## Example 4.1: Period_of_conduction_and_blocking.sce"
		   ]
		  },
  {
"cell_type": "code",
	   "execution_count": null,
	   "metadata": {
	    "collapsed": true
	   },
	   "outputs": [],
"source": [
"//Example 4_1\n",
"clc;\n",
"clear;close;\n",
"\n",
"//Given data: \n",
"V=230;//V\n",
"Vav=150;//V\n",
"f=1*1000;//Hz\n",
"\n",
"//Solution :\n",
"T=1/f;//s\n",
"Ton=Vav*T/V;//s\n",
"Toff=T-Ton;//s\n",
"disp(Toff,Ton,'Periods of conduction & blocking(seconds)');"
   ]
   }
,
{
		   "cell_type": "markdown",
		   "metadata": {},
		   "source": [
			"## Example 4.20: Period_of_conduction.sce"
		   ]
		  },
  {
"cell_type": "code",
	   "execution_count": null,
	   "metadata": {
	    "collapsed": true
	   },
	   "outputs": [],
"source": [
"//Example 4_20\n",
"clc;\n",
"clear;close;\n",
"\n",
"//Given data: \n",
"V=150;//V\n",
"Vav=250;//V\n",
"Toff=1*10^-3;//s\n",
"\n",
"//Solution :\n",
"T=Vav/V*Toff;//s\n",
"Ton=T-Toff;//s\n",
"disp(Ton,'Period of conduction(seconds)');"
   ]
   }
,
{
		   "cell_type": "markdown",
		   "metadata": {},
		   "source": [
			"## Example 4.2: Periods_of_conduction_and_blocking.sce"
		   ]
		  },
  {
"cell_type": "code",
	   "execution_count": null,
	   "metadata": {
	    "collapsed": true
	   },
	   "outputs": [],
"source": [
"//Example 4_2\n",
"clc;\n",
"clear;close;\n",
"\n",
"//Given data: \n",
"Ra=0.06;//ohm\n",
"Rf=0.03;//ohm\n",
"Iav=15;//A\n",
"f=500;//Hz\n",
"Eb=100;//V\n",
"V=200;//V\n",
"\n",
"//Solution :\n",
"Vav=Iav*(Ra+Rf)+Eb;//V\n",
"T=1/f;//s\n",
"Ton=Vav*T/V;//s\n",
"Toff=T-Ton;//s\n",
"disp(Toff,Ton,'Periods of conduction & blocking(seconds)');"
   ]
   }
,
{
		   "cell_type": "markdown",
		   "metadata": {},
		   "source": [
			"## Example 4.3: Find_duty_cycle.sce"
		   ]
		  },
  {
"cell_type": "code",
	   "execution_count": null,
	   "metadata": {
	    "collapsed": true
	   },
	   "outputs": [],
"source": [
"//Example 4_3\n",
"clc;\n",
"clear;close;\n",
"\n",
"//Given data: \n",
"N=800;//rpm\n",
"I=20;//A\n",
"Ra=0.5;//ohm\n",
"Vs=240;//V\n",
"Ndash=600;//rpm\n",
"\n",
"//Solution :\n",
"Eb_800=Vs-I*Ra;//V\n",
"Eb_600=Eb_800*Ndash/N;//V\n",
"Vav=I*Ra+Eb_600;//V\n",
"alfa=Vav/Vs;//duty cycle\n",
"disp(alfa,'(a) Duty cycle');\n",
"//Torque reduced to half will reduce I to half\n",
"I=I/2;//A\n",
"Vav=I*Ra+Eb_600;//V\n",
"alfa=Vav/Vs;//duty cycle\n",
"disp(alfa,'(b) Duty cycle');"
   ]
   }
,
{
		   "cell_type": "markdown",
		   "metadata": {},
		   "source": [
			"## Example 4.4: Voltage_Efficiency_and_resistance.sce"
		   ]
		  },
  {
"cell_type": "code",
	   "execution_count": null,
	   "metadata": {
	    "collapsed": true
	   },
	   "outputs": [],
"source": [
"//Example 4_4\n",
"clc;\n",
"clear;close;\n",
"\n",
"//Given data: \n",
"V=200;//V\n",
"RL=8;//ohm\n",
"Vthy=2;//V\n",
"f=800;//Hz\n",
"alfa=0.4;//duty cycle\n",
"\n",
"//Solution :\n",
"Vav=alfa*(V-Vthy);//V\n",
"disp(Vav,'(a) Average output voltage(V)');\n",
"VL=sqrt(alfa)*(V-Vthy);//V\n",
"disp(VL,'(b) RMS output voltage(V)');\n",
"Pout=VL^2/RL;//W\n",
"Pin=alfa*V*(V-Vthy)/RL;//W\n",
"Eff=Pout/Pin*100;//%\n",
"disp(Eff,'(c) Chopper efficiency(%)');\n",
"Rin=RL/alfa;//ohm\n",
"disp(Rin,'(d) Input resistance(ohm)');\n",
"V1=(V-Vthy)*sqrt(2)/%pi;//V\n",
"disp(V1,'(e) RMS value of fundamental component(V)');"
   ]
   }
,
{
		   "cell_type": "markdown",
		   "metadata": {},
		   "source": [
			"## Example 4.5: Chopping_frequency.sce"
		   ]
		  },
  {
"cell_type": "code",
	   "execution_count": null,
	   "metadata": {
	    "collapsed": true
	   },
	   "outputs": [],
"source": [
"//Example 4_5\n",
"clc;\n",
"clear;close;\n",
"\n",
"//Given data: \n",
"V=400;//V\n",
"R=0;//ohm\n",
"L=0.05;//H\n",
"alfa=0.25;//duty cycle\n",
"delta_i=10;//A\n",
"\n",
"//Solution :\n",
"Vav=alfa*V;//V\n",
"delta_T=L*delta_i/(V-Vav);//s\n",
"Ton=delta_T;///s\n",
"T=Ton/alfa;//s\n",
"f=1/T;//pulses/s\n",
"disp(f,'Chopping frequency(pulses/s)');"
   ]
   }
,
{
		   "cell_type": "markdown",
		   "metadata": {},
		   "source": [
			"## Example 4.6: Find_the_current.sce"
		   ]
		  },
  {
"cell_type": "code",
	   "execution_count": null,
	   "metadata": {
	    "collapsed": true
	   },
	   "outputs": [],
"source": [
"//Example 4_6\n",
"clc;\n",
"clear;close;\n",
"\n",
"//Given data: \n",
"R=4;//ohm\n",
"L=6/1000;//H\n",
"V=200;//V\n",
"alfa=0.5;//duty cycle\n",
"f=1000;//Hz\n",
"\n",
"//Solution :\n",
"T=1/f;//s\n",
"E=0;//V\n",
"Imax=V/R*[(1-exp(-alfa*T*R/L))/(1-exp(-T*R/L))]-E/R;//A\n",
"Imin=V/R*[(exp(alfa*T*R/L)-1)/(exp(T*R/L)-1)]-E/R;//A\n",
"disp(Imax,'Maximum current(A)');\n",
"disp(Imin,'Minimum current(A)');\n",
"Iavg=(Imax+Imin)/2;//A\n",
"disp(Iavg,'Average load current(A)');\n",
"IL=sqrt(1/alfa/T*integrate('(Imin+(Imax-Imin)*t/alfa/T)^2','t',0,alfa*T));//A\n",
"disp(IL,'RMS load current(A)');\n",
"Iavg_in=alfa*Iavg;//A\n",
"disp(Iavg_in,'Average input current(A)');\n",
"Irms_in=sqrt(1/T*integrate('(Imin+(Imax-Imin)*t/alfa/T)^2','t',0,alfa*T));//A\n",
"disp(Irms_in,'RMS input current(A)');"
   ]
   }
,
{
		   "cell_type": "markdown",
		   "metadata": {},
		   "source": [
			"## Example 4.7: Find_load_inductance.sce"
		   ]
		  },
  {
"cell_type": "code",
	   "execution_count": null,
	   "metadata": {
	    "collapsed": true
	   },
	   "outputs": [],
"source": [
"//Example 4_7\n",
"clc;\n",
"clear;close;\n",
"\n",
"//Given data: \n",
"V=300;//V\n",
"R=4;//ohm\n",
"f=250;//Hz\n",
"ripple=20;//%\n",
"Iavg=30;//A\n",
"\n",
"//Solution :\n",
"T=1/f;//s\n",
"E=0;//V\n",
"Imax_sub_Imin=ripple/100*Iavg;//A\n",
"L=V/Imax_sub_Imin/R/f;//H\n",
"disp(L,'Load Inductance(H)');"
   ]
   }
,
{
		   "cell_type": "markdown",
		   "metadata": {},
		   "source": [
			"## Example 4.8: Find_the_current.sce"
		   ]
		  },
  {
"cell_type": "code",
	   "execution_count": null,
	   "metadata": {
	    "collapsed": true
	   },
	   "outputs": [],
"source": [
"//Example 4_8\n",
"clc;\n",
"clear;close;\n",
"\n",
"//Given data: \n",
"Ra=0.5;//ohm\n",
"L=16/1000;//H\n",
"V=200;//V\n",
"E=100;//V\n",
"Imin=10;//A\n",
"t_off=2/1000;//s\n",
"\n",
"//Solution :\n",
"i=(V-E)/Ra*[1-exp(-Ra*t_off/L)]+Imin*exp(-Ra*t_off/L);//A\n",
"disp(i,'Current at instant of turn off(A)');\n",
"t=5/1000;//s\n",
"i_dash=i*exp(-Ra*t/L);//A\n",
"disp(i_dash,'Current 5 ms after turn off(A)');\n",
"//Answer is wrong in the book."
   ]
   }
,
{
		   "cell_type": "markdown",
		   "metadata": {},
		   "source": [
			"## Example 4.9: Speed_of_motor.sce"
		   ]
		  },
  {
"cell_type": "code",
	   "execution_count": null,
	   "metadata": {
	    "collapsed": true
	   },
	   "outputs": [],
"source": [
"//Example 4_9\n",
"clc;\n",
"clear;close;\n",
"\n",
"//Given data: \n",
"V=220;//V\n",
"N_NoLoad=1000;//rpm\n",
"alfa=0.6;//duty cycle\n",
"I=20;//A\n",
"Ra=1;//ohm\n",
"\n",
"//Solution :\n",
"Eb1=V;//V////at no load\n",
"Vin=alfa*V;//V\n",
"Eb2=Vin-I*Ra;//V\n",
"N=N_NoLoad*Eb2/Eb1;//rpm\n",
"disp(N,'Speed of the motor(rpm)');"
   ]
   }
],
"metadata": {
		  "kernelspec": {
		   "display_name": "Scilab",
		   "language": "scilab",
		   "name": "scilab"
		  },
		  "language_info": {
		   "file_extension": ".sce",
		   "help_links": [
			{
			 "text": "MetaKernel Magics",
			 "url": "https://github.com/calysto/metakernel/blob/master/metakernel/magics/README.md"
			}
		   ],
		   "mimetype": "text/x-octave",
		   "name": "scilab",
		   "version": "0.7.1"
		  }
		 },
		 "nbformat": 4,
		 "nbformat_minor": 0
}
