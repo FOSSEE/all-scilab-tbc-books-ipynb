{
"cells": [
 {
		   "cell_type": "markdown",
	   "metadata": {},
	   "source": [
       "# Chapter 3: Inverters"
	   ]
	},
{
		   "cell_type": "markdown",
		   "metadata": {},
		   "source": [
			"## Example 3.1: Maximum_output_frequency.sce"
		   ]
		  },
  {
"cell_type": "code",
	   "execution_count": null,
	   "metadata": {
	    "collapsed": true
	   },
	   "outputs": [],
"source": [
"//Example 3_1\n",
"clc;\n",
"clear;close;\n",
"\n",
"//Given data: \n",
"R=80;//ohm\n",
"L=8;///mH\n",
"C=1.2;// micro F\n",
"\n",
"//Solution :\n",
"if R^2<4*(L*10^-3)/(C*10^-6) then\n",
"    disp('As R^2<4*L/C, Circuit will work as a series inverter.');\n",
"else\n",
"    disp('As R^2>4*L/C, Circuit will not work as a series inverter.');\n",
"end\n",
"omega_m=sqrt(1/(L*10^-3*C*10^-6)-R^2/4/(L*10^-3)^2);//rad/s\n",
"fm=omega_m/2/%pi;//Hz\n",
"disp(fm,'Maximum frequency in Hz : ');"
   ]
   }
,
{
		   "cell_type": "markdown",
		   "metadata": {},
		   "source": [
			"## Example 3.2: Frequency_of_output.sce"
		   ]
		  },
  {
"cell_type": "code",
	   "execution_count": null,
	   "metadata": {
	    "collapsed": true
	   },
	   "outputs": [],
"source": [
"//Example 3_2\n",
"clc;\n",
"clear;close;\n",
"\n",
"//Given data: \n",
"R=80;//ohm\n",
"L=8;///mH\n",
"C=1.2;// micro F\n",
"Toff=14;//micro sec\n",
"\n",
"//Solution :\n",
"omega_m=sqrt(1/(L*10^-3*C*10^-6)-R^2/4/(L*10^-3)^2);//rad/s\n",
"fm=omega_m/2/%pi;//Hz\n",
"T=1/fm;//sec\n",
"f=1/(T+2*Toff*10^-6);//Hz\n",
"disp(f,'Frequency of output in Hz : ');"
   ]
   }
,
{
		   "cell_type": "markdown",
		   "metadata": {},
		   "source": [
			"## Example 3.3: Voltage_power_and_current.sce"
		   ]
		  },
  {
"cell_type": "code",
	   "execution_count": null,
	   "metadata": {
	    "collapsed": true
	   },
	   "outputs": [],
"source": [
"//Example 3_3\n",
"clc;\n",
"clear;close;\n",
"\n",
"//Given data: \n",
"RL=3;//in ohm\n",
"V=30;//in V\n",
"\n",
"//Solution :\n",
"Vpeak=2*V/%pi;//V\n",
"Vrms=Vpeak/sqrt(2);//V\n",
"disp(Vrms,'(a) RMS value of output voltage(V) : ');\n",
"//VL=sqrt(2/T*integrate('(V/2)^2','t',0,T/2));//V\n",
"VL=V/2;//V\n",
"Pout=VL^2/RL;//W\n",
"disp(Pout,'(b) Output power(W) : ');\n",
"Ipeak=VL/RL;//A\n",
"disp(Ipeak,'(c) Peak current in thyristor(A) : ');\n",
"Iavg=Ipeak*50/100;//A\n",
"disp(Iavg,'(d) Average current of each thyristor(A) : ');\n",
"Vprb=2*VL;//V\n",
"disp(Vprb,'(e) Peak reverse braking voltage(V) : ');"
   ]
   }
,
{
		   "cell_type": "markdown",
		   "metadata": {},
		   "source": [
			"## Example 3.4: Voltage_power_and_current.sce"
		   ]
		  },
  {
"cell_type": "code",
	   "execution_count": null,
	   "metadata": {
	    "collapsed": true
	   },
	   "outputs": [],
"source": [
"//Example 3_4\n",
"clc;\n",
"clear;close;\n",
"\n",
"//Given data: \n",
"RL=3;//in ohm\n",
"V=30;//in V\n",
"\n",
"//Solution :\n",
"Vpeak=4*V/%pi;//V\n",
"Vrms=Vpeak/sqrt(2);//V\n",
"disp(Vrms,'(a) RMS value of output voltage in volt : ');\n",
"//VL=sqrt(2/T*integrate('V^2','t',0,T/2));//V\n",
"VL=V;//V\n",
"Pout=VL^2/RL;//W\n",
"disp(Pout,'(b) Output power(W) : ');\n",
"Ipeak=VL/RL;//A\n",
"disp(Ipeak,'(c) Peak current in thyristor(A) : ');\n",
"Iavg=Ipeak*50/100;//A\n",
"disp(Iavg,'(d) Average current of each thyristor(A) : ');\n",
"Vprb=VL;//V\n",
"disp(Vprb,'(e) Peak reverse braking voltage(V) : ');"
   ]
   }
,
{
		   "cell_type": "markdown",
		   "metadata": {},
		   "source": [
			"## Example 3.5: Current_Distortion_and_power.sce"
		   ]
		  },
  {
"cell_type": "code",
	   "execution_count": null,
	   "metadata": {
	    "collapsed": true
	   },
	   "outputs": [],
"source": [
"//Example 3_5\n",
"clc;\n",
"clear;close;\n",
"\n",
"//Given data: \n",
"V=200;//V\n",
"R=10;//in ohm\n",
"L=20;//mH\n",
"C=100;//pF\n",
"f=50;//Hz\n",
"\n",
"//Solution :\n",
"Z1=R+%i*(2*%pi*f*L*10^-3-1/(2*%pi*f*C*10^-6));//ohm\n",
"Z3=R+%i*(3*2*%pi*f*L*10^-3-1/(3*2*%pi*f*C*10^-6));//ohm\n",
"Z5=R+%i*(5*2*%pi*f*L*10^-3-1/(5*2*%pi*f*C*10^-6));//ohm\n",
"Z7=R+%i*(7*2*%pi*f*L*10^-3-1/(7*2*%pi*f*C*10^-6));//ohm\n",
"Z9=R+%i*(9*2*%pi*f*L*10^-3-1/(9*2*%pi*f*C*10^-6));//ohm\n",
"I=4*V/%pi/abs(Z1);//A\n",
"Irms=I/sqrt(2);//A\n",
"disp(Irms,'RMS load current(A)');\n",
"Ip=sqrt((4*V/%pi/abs(Z1))^2+(4*V/3/%pi/abs(Z3))^2+(4*V/5/%pi/abs(Z5))^2+(4*V/7/%pi/abs(Z7))^2+(4*V/9/%pi/abs(Z9))^2);//A\n",
"disp(Ip,'Peak value of load current(A)');\n",
"Ih=sqrt(Ip^2-I^2)/sqrt(2);//A\n",
"disp(Ih,'RMS harmonic current(A)');\n",
"hd=sqrt(Ip^2-I^2)/I;//harmonic distortion\n",
"disp(hd*100,'Harmonic distortion(%)');\n",
"Irms_load=Ip/sqrt(2);//A\n",
"Pout=Irms_load^2*R;//W\n",
"disp(Pout,'Total output power(W)');\n",
"Pout_com=Irms^2*R;//W(fundamental component)\n",
"disp(Pout_com,'Fundamental component of power(W)');\n",
"Iavg_in=Pout/V;//A\n",
"disp(Iavg_in,'Average input current(A)');\n",
"Ip_thy=Ip;//A\n",
"disp(Ip_thy,'Peak thyristor current(A)');"
   ]
   }
,
{
		   "cell_type": "markdown",
		   "metadata": {},
		   "source": [
			"## Example 3.6: Find_value_of_C.sce"
		   ]
		  },
  {
"cell_type": "code",
	   "execution_count": null,
	   "metadata": {
	    "collapsed": true
	   },
	   "outputs": [],
"source": [
"//Example 3_6\n",
"clc;\n",
"clear;close;\n",
"\n",
"//Given data: \n",
"R=2;//in ohm\n",
"XL=10;//ohm\n",
"f=4;//kHz\n",
"Toff=12;//micro sec\n",
"\n",
"//Solution :\n",
"Toff_time=Toff*1.5;//micro sec\n",
"theta=2*%pi*f*10^3*Toff_time*10^-6;//radians\n",
"Xc=tan(theta)*R+XL;//ohm\n",
"C=1/(2*%pi*f*1000*Xc);//F\n",
"disp(C,'Value of Capacitance in F : ');"
   ]
   }
,
{
		   "cell_type": "markdown",
		   "metadata": {},
		   "source": [
			"## Example 3.7: Current_and_power.sce"
		   ]
		  },
  {
"cell_type": "code",
	   "execution_count": null,
	   "metadata": {
	    "collapsed": true
	   },
	   "outputs": [],
"source": [
"//Example 3_7\n",
"clc;\n",
"clear;close;\n",
"\n",
"//Given data: \n",
"V=400;//V\n",
"R=10;//in ohm/phase\n",
"\n",
"//Solution :\n",
"Ipeak=V/2/R;//A\n",
"Irms=sqrt(Ipeak^2*2/3);//A\n",
"disp(Irms,'RMS load current in A : ');\n",
"Pout=Irms^2*R*3;//W\n",
"disp(Pout,'Power output(W) : ');\n",
"Iavg=Ipeak/3;//A\n",
"disp(Iavg,'Average thyristor current(A) : ');\n",
"Irms_thyristor=sqrt(Ipeak^2/3);//A\n",
"disp(Irms_thyristor,'RMS value of thyristor current(A) : ');"
   ]
   }
,
{
		   "cell_type": "markdown",
		   "metadata": {},
		   "source": [
			"## Example 3.8: Current_and_power.sce"
		   ]
		  },
  {
"cell_type": "code",
	   "execution_count": null,
	   "metadata": {
	    "collapsed": true
	   },
	   "outputs": [],
"source": [
"//Example 3_8\n",
"clc;\n",
"clear;close;\n",
"\n",
"//Given data: \n",
"V=400;//V\n",
"R=10;//in ohm/phase\n",
"\n",
"//Solution :\n",
"RL=R+R/2;//ohm\n",
"i1=V/RL;//A\n",
"i2=V/RL;//A\n",
"i3=V/RL;//A\n",
"Irms_load=sqrt(1/2/%pi*(integrate('i1^2','theta',0,2*%pi/3)+integrate('(i1/2)^2','theta',2*%pi/3,2*%pi)));//A\n",
"disp(Irms_load,'RMS load current in A : ');\n",
"Pout=Irms_load^2*R*3;//W\n",
"disp(Pout,'Power output(W): ');\n",
"Ipeak=i1;//A\n",
"Iavg=1/2/%pi*[Ipeak*%pi/3+Ipeak/2*2*%pi/3];//A\n",
"disp(Iavg,'Average thyristor current(A) : ');\n",
"Irms_thyristor=sqrt(1/2/%pi*[Ipeak^2*%pi/3+(Ipeak/2)^2*2*%pi/3]);//A\n",
"disp(Irms_thyristor,'RMS value of thyristor current(A) : ');"
   ]
   }
],
"metadata": {
		  "kernelspec": {
		   "display_name": "Scilab",
		   "language": "scilab",
		   "name": "scilab"
		  },
		  "language_info": {
		   "file_extension": ".sce",
		   "help_links": [
			{
			 "text": "MetaKernel Magics",
			 "url": "https://github.com/calysto/metakernel/blob/master/metakernel/magics/README.md"
			}
		   ],
		   "mimetype": "text/x-octave",
		   "name": "scilab",
		   "version": "0.7.1"
		  }
		 },
		 "nbformat": 4,
		 "nbformat_minor": 0
}
