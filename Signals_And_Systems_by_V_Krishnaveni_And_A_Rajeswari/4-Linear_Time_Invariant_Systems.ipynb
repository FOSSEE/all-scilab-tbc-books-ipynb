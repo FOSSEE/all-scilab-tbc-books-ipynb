{
"cells": [
 {
		   "cell_type": "markdown",
	   "metadata": {},
	   "source": [
       "# Chapter 4: Linear Time Invariant Systems"
	   ]
	},
{
		   "cell_type": "markdown",
		   "metadata": {},
		   "source": [
			"## Example 4.10: Convolution.sce"
		   ]
		  },
  {
"cell_type": "code",
	   "execution_count": null,
	   "metadata": {
	    "collapsed": true
	   },
	   "outputs": [],
"source": [
"//Example 4.10\n",
"//Convolution sum of x[n] and h[n]\n",
"clc\n",
"clear\n",
"n=0:2;\n",
"n1=0:4;\n",
"x=[0.5 0.5 0.5];\n",
"h=[3 2 1];\n",
"A=[x 0 0;0 x 0; 0 0 x];\n",
"y=A'*h'\n",
"disp('Convolution of x[n] and h[n] is...')\n",
"disp(y)\n",
"subplot(3,1,1)\n",
"xtitle('input signal x(n)','....................n','x[n]');\n",
"plot(n,x,'.');\n",
"subplot(3,1,2)\n",
"xtitle('system response h(n)','....................n','h[n]');\n",
"plot(n,h,'.');\n",
"subplot(3,1,3)\n",
"xtitle('output signal y(n)','.............................n','y[n]');\n",
"plot(n1,y,'.');"
   ]
   }
,
{
		   "cell_type": "markdown",
		   "metadata": {},
		   "source": [
			"## Example 4.11: Convolution.sce"
		   ]
		  },
  {
"cell_type": "code",
	   "execution_count": null,
	   "metadata": {
	    "collapsed": true
	   },
	   "outputs": [],
"source": [
"//Example 4.11\n",
"//Convolution sum of x[n] and h[n]\n",
"clc\n",
"clear\n",
"n=-1:1;\n",
"n1=-2:2;\n",
"x=[0.5 0.5 0.5];\n",
"h=[3 2 1];\n",
"A=[x 0 0;0 x 0; 0 0 x];\n",
"y=A'*h'\n",
"disp('Convolution of x[n] and h[n] is...')\n",
"disp(y)\n",
"subplot(3,1,1)\n",
"xtitle('input signal x(n)','....................n','x[n]');\n",
"plot2d3('gnn',n,x,5);\n",
"subplot(3,1,2)\n",
"xtitle('system response h(n)','....................n','h[n]');\n",
"plot2d3('gnn',n,h,5);\n",
"subplot(3,1,3)\n",
"xtitle('output signal y(n)','.............................n','y[n]');\n",
"plot2d3('gnn',n1,y,5);"
   ]
   }
,
{
		   "cell_type": "markdown",
		   "metadata": {},
		   "source": [
			"## Example 4.13: Convolution.sce"
		   ]
		  },
  {
"cell_type": "code",
	   "execution_count": null,
	   "metadata": {
	    "collapsed": true
	   },
	   "outputs": [],
"source": [
"//Example 4.13\n",
"//Convolution sum of x[n] and h[n]\n",
"clc\n",
"clear\n",
"n=0:100;\n",
"n1=0:200;\n",
"for i=1:length(n)\n",
"    x(i)=n(i);\n",
"    h(i)=1;\n",
"end\n",
"y=convol(x,h);\n",
"disp(y)\n",
"subplot(3,1,1)\n",
"xtitle('input signal x(n)','....................n','x[n]');\n",
"plot(n,x,'.');\n",
"subplot(3,1,2)\n",
"xtitle('system response h(n)','....................n','h[n]');\n",
"plot(n,h,'.');\n",
"subplot(3,1,3)\n",
"xtitle('output signal y(n)','.............................n','y[n]');\n",
"plot(n1,y,'.');"
   ]
   }
,
{
		   "cell_type": "markdown",
		   "metadata": {},
		   "source": [
			"## Example 4.14: Convolution.sce"
		   ]
		  },
  {
"cell_type": "code",
	   "execution_count": null,
	   "metadata": {
	    "collapsed": true
	   },
	   "outputs": [],
"source": [
"//Example 4.14\n",
"//Convolution sum of x[n] and h[n]\n",
"clc\n",
"clear\n",
"n=0:100;\n",
"n1=0:200;\n",
"a=0.7//assume the constant a=0.7\n",
"for i=1:length(n)\n",
"    x(i)=a^n(i);\n",
"    h(i)=1;\n",
"end\n",
"y=convol(x,h);\n",
"subplot(3,1,1)\n",
"xtitle('input signal x(n)','....................n','x[n]');\n",
"plot(n,x,'.');\n",
"subplot(3,1,2)\n",
"xtitle('system response h(n)','....................n','h[n]');\n",
"plot(n,h,'.');\n",
"subplot(3,1,3)\n",
"xtitle('output signal y(n)','.............................n','y[n]');\n",
"plot(n1,y,'.');"
   ]
   }
,
{
		   "cell_type": "markdown",
		   "metadata": {},
		   "source": [
			"## Example 4.15: Convolution.sce"
		   ]
		  },
  {
"cell_type": "code",
	   "execution_count": null,
	   "metadata": {
	    "collapsed": true
	   },
	   "outputs": [],
"source": [
"//Example 4.15\n",
"//Convolution sum of x[n] and h[n]\n",
"clc\n",
"clear\n",
"n1=-100:1:0;\n",
"n2=0:100;\n",
"n3=-100:100;\n",
"a=0.5//assume the constant a=0.5\n",
"for i=1:length(n1)\n",
"    x(i)=a^-n1(i);\n",
"    h(i)=a^n1(i);\n",
"end\n",
"y=convol(x,h);\n",
"subplot(3,1,1)\n",
"xtitle('input signal x(n)','....................n','x[n]');\n",
"plot(n1,x,'.');\n",
"subplot(3,1,2)\n",
"xtitle('system response h(n)','....................n','h[n]');\n",
"plot(n2,h,'.');\n",
"subplot(3,1,3)\n",
"xtitle('output signal y(n)','.............................n','y[n]');\n",
"plot(n3,y,'.');"
   ]
   }
,
{
		   "cell_type": "markdown",
		   "metadata": {},
		   "source": [
			"## Example 4.16: convolution.sce"
		   ]
		  },
  {
"cell_type": "code",
	   "execution_count": null,
	   "metadata": {
	    "collapsed": true
	   },
	   "outputs": [],
"source": [
"//Example 4.16\n",
"//Convolution sum of x[n] and h[n]\n",
"clc\n",
"clear\n",
"n1=-100:-2;\n",
"n2=2:100;\n",
"n3=-98:98;\n",
"a=1/2//assume the constant a=1/2\n",
"for i=1:length(n1)\n",
"    x(i)=a^-n1(i);\n",
"    h(i)=1;\n",
"end\n",
"y=convol(x,h);\n",
"subplot(3,1,1)\n",
"xtitle('input signal x(n)','....................n','x[n]');\n",
"plot(n1,x,'.');\n",
"subplot(3,1,2)\n",
"xtitle('system response h(n)','....................n','h[n]');\n",
"plot(n2,h,'.');\n",
"subplot(3,1,3)\n",
"xtitle('output signal y(n)','.............................n','y[n]');\n",
"plot(n3,y,'.');"
   ]
   }
,
{
		   "cell_type": "markdown",
		   "metadata": {},
		   "source": [
			"## Example 4.17: Convolution.sce"
		   ]
		  },
  {
"cell_type": "code",
	   "execution_count": null,
	   "metadata": {
	    "collapsed": true
	   },
	   "outputs": [],
"source": [
"//Example 4.17\n",
"//Convolution sum of x[n] and h[n]\n",
"clc\n",
"clear\n",
"n1=2:12;\n",
"n2=4:14;\n",
"n3=6:26;\n",
"a=1/3//assume the constant a=1/3\n",
"for i=1:length(n1)\n",
"    x(i)=a^-n1(i);\n",
"    h(i)=1;\n",
"end\n",
"y=convol(x,h);\n",
"subplot(3,1,1)\n",
"xtitle('input signal x(n)','....................n','x[n]');\n",
"plot(n1,x,'.');\n",
"subplot(3,1,2)\n",
"xtitle('system response h(n)','....................n','h[n]');\n",
"plot(n2,h,'.');\n",
"subplot(3,1,3)\n",
"xtitle('output signal y(n)','.............................n','y[n]');\n",
"plot(n3,y,'.');"
   ]
   }
,
{
		   "cell_type": "markdown",
		   "metadata": {},
		   "source": [
			"## Example 4.18: Convolution.sce"
		   ]
		  },
  {
"cell_type": "code",
	   "execution_count": null,
	   "metadata": {
	    "collapsed": true
	   },
	   "outputs": [],
"source": [
"//Example 4.18\n",
"//Convolution sum of x[n] and h[n]\n",
"clc\n",
"clear\n",
"n1=-100:0;\n",
"n2=0:100;\n",
"n3=-100:100;\n",
"b=0.8//assume the constant b=0.4\n",
"a=0.8//assume the constant a=0.8\n",
"for i=1:length(n1)\n",
"    x(i)=a^n1(i);\n",
"    h(i)=b^n1(i);\n",
"end\n",
"y=convol(x,h);\n",
"subplot(3,1,1)\n",
"xtitle('input signal x(n)','....................n','x[n]');\n",
"plot(n1,x,'.');\n",
"subplot(3,1,2)\n",
"xtitle('system response h(n)','....................n','h[n]');\n",
"plot(n2,h,'.');\n",
"subplot(3,1,3)\n",
"xtitle('output signal y(n)','.............................n','y[n]');\n",
"plot(n3,y,'.');"
   ]
   }
,
{
		   "cell_type": "markdown",
		   "metadata": {},
		   "source": [
			"## Example 4.19: Convolution.sce"
		   ]
		  },
  {
"cell_type": "code",
	   "execution_count": null,
	   "metadata": {
	    "collapsed": true
	   },
	   "outputs": [],
"source": [
"//Example 4.19\n",
"//Convolution sum of x[n] and h[n]\n",
"clc\n",
"clear\n",
"n1=0:9;\n",
"n2=0:100;\n",
"n3=0:109;\n",
"b=0.8//assume the constant b=0.4\n",
"a=0.8//assume the constant a=0.8\n",
"for i=1:length(n1)\n",
"    x(i)=a^n1(i);\n",
"end\n",
"for j=1:length(n2)\n",
" h(j)=b^n2(j);\n",
"end\n",
"y=convol(x,h);\n",
"subplot(3,1,1)\n",
"xtitle('input signal x(n)','....................n','x[n]');\n",
"plot(n1,x,'.');\n",
"subplot(3,1,2)\n",
"xtitle('system response h(n)','....................n','h[n]');\n",
"plot(n2,h,'.');\n",
"subplot(3,1,3)\n",
"xtitle('output signal y(n)','.............................n','y[n]');\n",
"plot(n3,y,'.');"
   ]
   }
,
{
		   "cell_type": "markdown",
		   "metadata": {},
		   "source": [
			"## Example 4.1: Convolution.sce"
		   ]
		  },
  {
"cell_type": "code",
	   "execution_count": null,
	   "metadata": {
	    "collapsed": true
	   },
	   "outputs": [],
"source": [
"//Example 4.1\n",
"//Convolution sum of x[n] and h[n]\n",
"clc\n",
"clear\n",
"n=[0 1 2];\n",
"n1=0:4;\n",
"x=[0.5 0.5 0.5];\n",
"h=[3 2 1];\n",
"y=convol(h,x)\n",
"disp('Convolution of x[n] and h[n] is...')\n",
"disp(y)\n",
"subplot(3,1,1)\n",
"xtitle('','....................n','x[n]');\n",
"plot2d3('gnn',n,x,5);\n",
"subplot(3,1,2)\n",
"xtitle('','....................n','h[n]');\n",
"plot2d3('gnn',n,h,5);\n",
"subplot(3,1,3)\n",
"xtitle('','.............................n','y[n]');\n",
"plot2d3('gnn',n1,y,5);"
   ]
   }
,
{
		   "cell_type": "markdown",
		   "metadata": {},
		   "source": [
			"## Example 4.20: Convolution.sce"
		   ]
		  },
  {
"cell_type": "code",
	   "execution_count": null,
	   "metadata": {
	    "collapsed": true
	   },
	   "outputs": [],
"source": [
"//Example 4.20\n",
"//Convolution sum of x[n] and h[n]\n",
"clc\n",
"clear\n",
"n1=0:5;\n",
"n2=0:7;\n",
"n3=0:12;\n",
"a=0.8//assume the constant a=0.8\n",
"for i=1:length(n1)\n",
"    x(i)=1;\n",
"end\n",
"for j=1:length(n2)\n",
" h(j)=a^n2(j);\n",
"end\n",
"y=convol(x,h);\n",
"subplot(3,1,1)\n",
"xtitle('input signal x(n)','....................n','x[n]');\n",
"plot(n1,x,'.');\n",
"subplot(3,1,2)\n",
"xtitle('system response h(n)','....................n','h[n]');\n",
"plot(n2,h,'.');\n",
"subplot(3,1,3)\n",
"xtitle('output signal y(n)','.............................n','y[n]');\n",
"plot(n3,y,'.');"
   ]
   }
,
{
		   "cell_type": "markdown",
		   "metadata": {},
		   "source": [
			"## Example 4.21: Convolution.sce"
		   ]
		  },
  {
"cell_type": "code",
	   "execution_count": null,
	   "metadata": {
	    "collapsed": true
	   },
	   "outputs": [],
"source": [
"//Example 4.21\n",
"//Convolution of x(t) and h(t)\n",
"clc\n",
"clear\n",
"t1=0:0.01:5;\n",
"t2=0:0.01:2;\n",
"t3=0:0.01:7;\n",
"for i=1:length(t1)\n",
"    x(i)=1;\n",
"end\n",
"for j=1:length(t2)\n",
" h(j)=1;\n",
"end\n",
"y=convol(x,h);\n",
"subplot(3,1,1)\n",
"xtitle('input signal x(t)','....................t','x[t]');\n",
"plot(t1,x);\n",
"subplot(3,1,2)\n",
"xtitle('system response h(t)','....................t','h[t]');\n",
"plot(t2,h);\n",
"subplot(3,1,3)\n",
"xtitle('output signal y(t)','.............................t','y[t]');\n",
"plot(t3,y);"
   ]
   }
,
{
		   "cell_type": "markdown",
		   "metadata": {},
		   "source": [
			"## Example 4.23: Convolution.sce"
		   ]
		  },
  {
"cell_type": "code",
	   "execution_count": null,
	   "metadata": {
	    "collapsed": true
	   },
	   "outputs": [],
"source": [
"//Example 4.23\n",
"//Convolution of x(t) and h(t)\n",
"clc\n",
"clear\n",
"t1=0:0.01:20;\n",
"t2=0:0.01:20;\n",
"t3=0:0.01:40;\n",
"a1=0.5;//constants a and b are equal\n",
"b1=0.5;\n",
"a2=0.8;// constants a and b are unequal\n",
"b2=0.3;\n",
"for i=1:length(t1)\n",
"    x1(i)=exp(-a1*t1(i));\n",
"    x2(i)=exp(-a2*t1(i));\n",
"end\n",
"for j=1:length(t2)\n",
"     h1(j)=exp(-b1*t2(j));\n",
"    h2(j)=exp(-b2*t2(j));\n",
"end\n",
"//case 1: a & b are equal\n",
"y1=convol(x1,h1);\n",
"subplot(3,1,1)\n",
"xtitle('input signal x(t)','....................t','x[t]');\n",
"plot(t1,x1);\n",
"subplot(3,1,2)\n",
"xtitle('system response h(t)','....................t','h[t]');\n",
"plot(t2,h1);\n",
"subplot(3,1,3)\n",
"xtitle('output signal y(t)','.............................t','y[t]');\n",
"plot(t3,y1);\n",
"//case 2: a& b are unequal\n",
"figure(1)\n",
"y2=convol(x2,h2);\n",
"subplot(3,1,1)\n",
"xtitle('input signal x(t)','....................t','x[t]');\n",
"plot(t1,x2);\n",
"subplot(3,1,2)\n",
"xtitle('system response h(t)','....................t','h[t]');\n",
"plot(t2,h2);\n",
"subplot(3,1,3)\n",
"xtitle('output signal y(t)','.............................t','y[t]');\n",
"plot(t3,y2);"
   ]
   }
,
{
		   "cell_type": "markdown",
		   "metadata": {},
		   "source": [
			"## Example 4.24: Convolution.sce"
		   ]
		  },
  {
"cell_type": "code",
	   "execution_count": null,
	   "metadata": {
	    "collapsed": true
	   },
	   "outputs": [],
"source": [
"//Example 4.24\n",
"//Convolution of x(t) and h(t)\n",
"clc\n",
"clear\n",
"t1=-3:0.01:10;\n",
"t2=1:0.01:10;\n",
"t3=-2:0.01:20;\n",
"a=0.5//assume a=0.5\n",
"for i=1:length(t1)\n",
"    x(i)=exp(-a*t1(i));\n",
"end\n",
"for j=1:length(t2)\n",
" h(j)=exp(-a*t2(j));\n",
"end\n",
"y=convol(x,h);\n",
"subplot(3,1,1)\n",
"xtitle('input signal x(t)','....................t','x[t]');\n",
"plot(t1,x);\n",
"subplot(3,1,2)\n",
"xtitle('system response h(t)','....................t','h[t]');\n",
"plot(t2,h);\n",
"subplot(3,1,3)\n",
"xtitle('output signal y(t)','.............................t','y[t]');\n",
"plot(t3,y);"
   ]
   }
,
{
		   "cell_type": "markdown",
		   "metadata": {},
		   "source": [
			"## Example 4.26: Convolution.sce"
		   ]
		  },
  {
"cell_type": "code",
	   "execution_count": null,
	   "metadata": {
	    "collapsed": true
	   },
	   "outputs": [],
"source": [
"//Interconnectiuion of LTI systems\n",
"n=-10:10;\n",
"for i=1:length(n)\n",
"    if(n(i)==0)\n",
"        h1(i)=2;\n",
"    else\n",
"        h1(i)=1;\n",
"    end\n",
"end\n",
"for i=1:length(n)\n",
"    if(n(i)==2)\n",
"        h2(i)=1;\n",
"    else\n",
"        h2(i)=0;\n",
"    end\n",
"end\n",
"for i=1:length(n)\n",
"    if(n(i)>=1)\n",
"        h3(i)=1;\n",
"    else\n",
"        h3(i)=0;\n",
"end\n",
"end\n",
"for i=1:length(n)\n",
"    if(n(i)>= -1)\n",
"        h4(i)=1;\n",
"    else\n",
"        h4(i)=0;\n",
"    end\n",
"end\n",
"for i=1:length(n)\n",
"    h5(i)=n(i);\n",
"    h6(i)=1;\n",
"end\n",
"h23=h2.*h3;\n",
"h234=h4+h23;\n",
"h1234=h1.*h234;\n",
"h56=h5.*h6;\n",
"h=h56+h1234;\n",
"x=[1 -0.5];\n",
"n1=[0 1];\n",
"y=convol(x,h);\n",
"n2=-10:11;\n",
"subplot(3,1,1)\n",
"xtitle('input signal x(n)','....................n','x[n]');\n",
"plot(n1,x,'.');\n",
"subplot(3,1,2)\n",
"xtitle('system response h(n)','....................n','h[n]');\n",
"plot(n,h,'.');\n",
"subplot(3,1,3)\n",
"xtitle('output signal y(n)','.............................n','y[n]');\n",
"plot(n2,y,'.');"
   ]
   }
,
{
		   "cell_type": "markdown",
		   "metadata": {},
		   "source": [
			"## Example 4.27: Convolution.sce"
		   ]
		  },
  {
"cell_type": "code",
	   "execution_count": null,
	   "metadata": {
	    "collapsed": true
	   },
	   "outputs": [],
"source": [
"//Example 4.27\n",
"//Interconnectiuion of LTI systems\n",
"n2=0:18;\n",
"h1=[1 5 10 11 8 4 1];\n",
"h2=[1 1 zeros(1,5)];\n",
"h3=[1 1 zeros(1,5)];\n",
"a=convol(h1,h2);\n",
"h=convol(a,h3);\n",
"x=[1 -1];\n",
"n1=[0 1];\n",
"n3=0:19;\n",
"y=convol(x,h);\n",
"subplot(3,1,1)\n",
"xtitle('input signal x(n)','....................n','x[n]');\n",
"plot(n1,x,'.');\n",
"subplot(3,1,2)\n",
"xtitle('system response h(n)','....................n','h[n]');\n",
"plot(n2,h,'.');\n",
"subplot(3,1,3)\n",
"xtitle('output signal y(n)','.............................n','y[n]');\n",
"plot(n3,y,'.');"
   ]
   }
,
{
		   "cell_type": "markdown",
		   "metadata": {},
		   "source": [
			"## Example 4.2: Convolution.sce"
		   ]
		  },
  {
"cell_type": "code",
	   "execution_count": null,
	   "metadata": {
	    "collapsed": true
	   },
	   "outputs": [],
"source": [
"//Example 4.2\n",
"//Convolution sum of x[n] and h[n]\n",
"clc\n",
"clear\n",
"n=-1:1;\n",
"n1=-2:2;\n",
"x=[0.5 0.5 0.5];\n",
"h=[3 2 1];\n",
"y=coeff(poly(h,'z','c')*poly(x,'z','c'))\n",
"disp('Convolution of x[n] and h[n] is...')\n",
"disp(y)"
   ]
   }
,
{
		   "cell_type": "markdown",
		   "metadata": {},
		   "source": [
			"## Example 4.30: Convolution.sce"
		   ]
		  },
  {
"cell_type": "code",
	   "execution_count": null,
	   "metadata": {
	    "collapsed": true
	   },
	   "outputs": [],
"source": [
"//Example 4.30\n",
"//Cascade connection of systems\n",
"clc\n",
"clear\n",
"n=0:10;\n",
"h11=[1 -0.5];\n",
"for i=1:length(n)\n",
"    h2(i)=0.5^n(i);\n",
"    if (n(i)==0) then\n",
"        h1(i)=1;\n",
"    elseif n(i)==1 then\n",
"            h1(i)=-0.5\n",
"    else\n",
"        h1(i)=0;\n",
"    end\n",
"end\n",
"h=convol(h11,h2);\n",
"n2=0:11;\n",
"//assume x[n]=[1 1 1]\n",
"n1=0:2;\n",
"x=[1 1 1];\n",
"n3=0:13;\n",
"y=convol(x,h);\n",
"subplot(3,1,1);\n",
"plot(n1,x,'.');\n",
"xtitle('Input Signal x[n]','n','x[n]')\n",
"subplot(3,1,2);\n",
"plot(n2,h,'.');\n",
"xtitle('Impulse Response h[n]','n','h[n]')\n",
"subplot(3,1,3);\n",
"plot(n3,y,'.');\n",
"xtitle('Output Signal y[n]','n','y[n]')\n",
"disp('the given system is an invertible system');"
   ]
   }
,
{
		   "cell_type": "markdown",
		   "metadata": {},
		   "source": [
			"## Example 4.5: Convolution.sce"
		   ]
		  },
  {
"cell_type": "code",
	   "execution_count": null,
	   "metadata": {
	    "collapsed": true
	   },
	   "outputs": [],
"source": [
"//Example 4.5\n",
"//Convolution sum of x[n] and h[n]\n",
"clc\n",
"clear\n",
"n=0:2;\n",
"n1=0:4;\n",
"x=[0.5 0.5 0.5];\n",
"h=[3 2 1];\n",
"y=coeff(poly(h,'z','c')*poly(x,'z','c'))\n",
"disp('Convolution of x[n] and h[n] is...')\n",
"disp(y)\n",
"subplot(3,1,1)\n",
"xtitle('input signal x(n)','....................n','x[n]');\n",
"plot(n,x,'.');\n",
"subplot(3,1,2)\n",
"xtitle('system response h(n)','....................n','h[n]');\n",
"plot(n,h,'.');\n",
"subplot(3,1,3)\n",
"xtitle('output signal y(n)','.............................n','y[n]');\n",
"plot(n1,y,'.');"
   ]
   }
,
{
		   "cell_type": "markdown",
		   "metadata": {},
		   "source": [
			"## Example 4.6: convolution.sce"
		   ]
		  },
  {
"cell_type": "code",
	   "execution_count": null,
	   "metadata": {
	    "collapsed": true
	   },
	   "outputs": [],
"source": [
"//Example 4.6\n",
"//Convolution sum of x[n] and h[n]\n",
"clc\n",
"clear\n",
"n=-1:1;\n",
"n1=-2:2;\n",
"x=[0.5 0.5 0.5];\n",
"h=[3 2 1];\n",
"y=coeff(poly(h,'z','c')*poly(x,'z','c'))\n",
"disp('Convolution of x[n] and h[n] is...')\n",
"disp(y)\n",
"subplot(3,1,1)\n",
"xtitle('input signal x(n)','....................n','x[n]');\n",
"plot(n,x,'.');\n",
"subplot(3,1,2)\n",
"xtitle('system response h(n)','....................n','h[n]');\n",
"plot(n,h,'.');\n",
"subplot(3,1,3)\n",
"xtitle('output signal y(n)','.............................n','y[n]');\n",
"plot(n1,y,'.');"
   ]
   }
],
"metadata": {
		  "kernelspec": {
		   "display_name": "Scilab",
		   "language": "scilab",
		   "name": "scilab"
		  },
		  "language_info": {
		   "file_extension": ".sce",
		   "help_links": [
			{
			 "text": "MetaKernel Magics",
			 "url": "https://github.com/calysto/metakernel/blob/master/metakernel/magics/README.md"
			}
		   ],
		   "mimetype": "text/x-octave",
		   "name": "scilab",
		   "version": "0.7.1"
		  }
		 },
		 "nbformat": 4,
		 "nbformat_minor": 0
}
