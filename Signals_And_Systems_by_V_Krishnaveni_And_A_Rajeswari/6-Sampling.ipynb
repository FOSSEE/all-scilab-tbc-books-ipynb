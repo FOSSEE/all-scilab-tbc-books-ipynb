{
"cells": [
 {
		   "cell_type": "markdown",
	   "metadata": {},
	   "source": [
       "# Chapter 6: Sampling"
	   ]
	},
{
		   "cell_type": "markdown",
		   "metadata": {},
		   "source": [
			"## Example 6.1: Sampling.sce"
		   ]
		  },
  {
"cell_type": "code",
	   "execution_count": null,
	   "metadata": {
	    "collapsed": true
	   },
	   "outputs": [],
"source": [
"//Sampling the CT signals\n",
"clc\n",
"clear\n",
"close\n",
"t=-0.3:0.0001:0.3;\n",
"x1=2*cos(2*%pi*20*t);//F1=20Hz\n",
"x2=2*cos(2*%pi*80*t);//F2=80Hz\n",
"figure(1)\n",
"subplot(2,1,1)\n",
"plot(t,x1);\n",
"xtitle('CT Signal X1(t)','t','x1(t)');\n",
"subplot(2,1,2)\n",
"plot(t,x2)\n",
"xtitle('CT Signal X2(t)','t','x2(t)');\n",
"//Given Sampling frequency Fs=60Hz\n",
"Fs=60;\n",
"n=-10:1:10;\n",
"Ts=1/60;//Sampling interval Ts=1/Fs\n",
"x1_n=2*cos(2*%pi*20*n*Ts);\n",
"x2_n=2*cos(2*%pi*80*n*Ts);\n",
"figure(2)\n",
"subplot(2,1,1)\n",
"plot2d3('gnn',n,x1_n,3);\n",
"xtitle('Sampled signal x1[n]','n','x1[n]')\n",
"subplot(2,1,2)\n",
"plot2d3('gnn',n,x2_n,3);\n",
"xtitle('Sampled signal x2[n]','n','x2[n]')"
   ]
   }
,
{
		   "cell_type": "markdown",
		   "metadata": {},
		   "source": [
			"## Example 6.2: Sampling.sce"
		   ]
		  },
  {
"cell_type": "code",
	   "execution_count": null,
	   "metadata": {
	    "collapsed": true
	   },
	   "outputs": [],
"source": [
"//Sampling the CT signals\n",
"clc\n",
"clear\n",
"close\n",
"t=-10:0.01:10;\n",
"x=sin(%pi*t);\n",
"figure(1)\n",
"subplot(2,1,1)\n",
"plot(t,x);\n",
"xtitle('CT Signal sin(pi*t)','t','x(t)');\n",
"Wb=%pi;//Given Sampling frequency is Pi radians\n",
"Ws=2*Wb;\n",
"Fs=Ws/(2*%pi);\n",
"n=-100:1:100;\n",
"Ts=1/Fs;//Sampling interval Ts=1/Fs\n",
"x_n=sin(%pi*n*Ts);\n",
"subplot(2,1,2)\n",
"plot2d(n,x_n,rect=[-100 -2 100 2]);\n",
"xtitle('Sampled signal x[n]','n','x[n]')"
   ]
   }
,
{
		   "cell_type": "markdown",
		   "metadata": {},
		   "source": [
			"## Example 6.3: Sampling.sce"
		   ]
		  },
  {
"cell_type": "code",
	   "execution_count": null,
	   "metadata": {
	    "collapsed": true
	   },
	   "outputs": [],
"source": [
"//Sampling the CT signals\n",
"clc\n",
"clear\n",
"close\n",
"t=-0.3:0.0001:0.3;\n",
"x=5*sin(10*%pi*t);\n",
"figure(1)\n",
"plot(t,x);\n",
"xtitle('CT Signal x(t)','t','x(t)');\n",
"//Given Sampling frequency (a) Fs=15Hz (b) Fs=6Hz\n",
"Fs1=15;\n",
"Fs2=6;\n",
"n=-10:1:10;\n",
"Ts1=1/Fs1;//Sampling interval Ts=1/Fs\n",
"Ts2=1/Fs2;\n",
"x1=5*sin(%pi*10*n*Ts1);\n",
"x2=5*sin(%pi*10*n*Ts2);\n",
"figure(2)\n",
"subplot(2,1,1)\n",
"plot2d3('gnn',n,x1);\n",
"xtitle('Sampled signal Fs=15Hz','n','x1[n]')\n",
"subplot(2,1,2)\n",
"plot2d3('gnn',n,x2);\n",
"xtitle('Sampled signal Fs=6Hz','n','x2[n]')"
   ]
   }
,
{
		   "cell_type": "markdown",
		   "metadata": {},
		   "source": [
			"## Example 6.4: Sampling.sce"
		   ]
		  },
  {
"cell_type": "code",
	   "execution_count": null,
	   "metadata": {
	    "collapsed": true
	   },
	   "outputs": [],
"source": [
"// Continuous Time Fourier Transforms of \n",
"// Sinusoidal waveforms 3cos(2*pi*t)\n",
"clear;\n",
"clc;\n",
"close;\n",
"// CTFT\n",
"t=-10:0.01:10;\n",
"x=3*cos(2*%pi*t);\n",
"subplot(2,1,1)\n",
"plot(t,x);\n",
"xtitle('CT signal x(t)','t','x(t)');\n",
"T1 = 2;\n",
"T = 4*T1;\n",
"Wo = 6*%pi/T;\n",
"W = [-Wo,0,Wo];\n",
"ak = (2*%pi*Wo*T1/%pi);\n",
"XW =[ak,0,ak];\n",
"subplot(2,1,2)\n",
"plot2d3('gnn',W,real(XW));\n",
"xlabel('                        W');\n",
"xtitle('CTFT of cos(Wot)','W','X(jW)')\n",
"n=-10:10;\n",
"W1=4*%pi;\n",
"W2=8*%pi;\n",
"W3=3*%pi;\n",
"T1=(2*%pi)/W1;\n",
"T2=(2*%pi)/W2;\n",
"T3=(2*%pi)/W3;\n",
"x1=3*cos(2*%pi*n*T1);\n",
"x2=3*cos(2*%pi*n*T2);\n",
"x3=3*cos(2*%pi*n*T3);\n",
"figure(1)\n",
"subplot(3,1,1)\n",
"plot2d3('gnn',n,x1);\n",
"xtitle('X(t) sampled at Ws=4*pi','n','x1[n]');\n",
"subplot(3,1,2)\n",
"plot2d3('gnn',n,x2);\n",
"xtitle('X(t) sampled at Ws=8*pi','n','x2[n]');\n",
"subplot(3,1,3)\n",
"plot2d3('gnn',n,x3);\n",
"xtitle('X(t) sampled at Ws=3*pi','n','x3[n]');"
   ]
   }
,
{
		   "cell_type": "markdown",
		   "metadata": {},
		   "source": [
			"## Example 6.6: Sampling.sce"
		   ]
		  },
  {
"cell_type": "code",
	   "execution_count": null,
	   "metadata": {
	    "collapsed": true
	   },
	   "outputs": [],
"source": [
"//Sampling the signal at nyquist rate\n",
"clear;\n",
"clc;\n",
"close;\n",
"t=-1:0.01:1;\n",
"x=2*cos(200*%pi*t)+3*sin(100*%pi*t)-4*sin(500*%pi*t);\n",
"f1=100;\n",
"f2=50;\n",
"f3=250;\n",
"fb=max(f1,f2,f3);\n",
"Fs=2*fb;\n",
"Ts=1/Fs;\n",
"n=-10:10;\n",
"x_n=2*cos(200*%pi*n*Ts)+3*sin(100*%pi*n*Ts)-4*sin(500*%pi*n*Ts);\n",
"plot2d3('gnn',n,x_n)\n",
"xtitle('DT Signal x(n) sampled at nyquist rate','n','x[n]');"
   ]
   }
,
{
		   "cell_type": "markdown",
		   "metadata": {},
		   "source": [
			"## Example 6.7: Sampling.sce"
		   ]
		  },
  {
"cell_type": "code",
	   "execution_count": null,
	   "metadata": {
	    "collapsed": true
	   },
	   "outputs": [],
"source": [
"//Determining nyquist rate for the signals\n",
"clc\n",
"clear\n",
"close\n",
"Wb1=4*%pi;\n",
"Wb2=10*%pi;\n",
"Wbs=max(Wb1,Wb2);\n",
"Ws=2*Wbs;\n",
"//Bandlimited frequency doesnt change by Amplitude scaling\n",
"//(a) 2*x1(t)\n",
"Wa=2*Wb1\n",
"disp('Wa=')\n",
"disp(Wa)\n",
"//Timing shifting doesnt affect the magnitude spectrum\n",
"//(b) x1(t-1)\n",
"Wb=2*Wb1\n",
"disp('Wb=')\n",
"disp(Wb)\n",
"//Adding two band-limited spectrums will not sampling frequency\n",
"//(c) 2*x1(t)+x1(t-1)\n",
"Wc=2*Wb1\n",
"disp('Wc=')\n",
"disp(Wc)\n",
"//Compressing time axis expands frequency axis by the same factor\n",
"//(d) x2(2t)\n",
"Wd=2*2*Wb2\n",
"disp('Wd=')\n",
"disp(Wd)\n",
"//Expanding the time axis compresses the frequency axis by same factor\n",
"//(e) x2(t/2)\n",
"We=1/2*2*Wb2\n",
"disp('We=')\n",
"disp(We)\n",
"//(f) x2(2t)+x2(t/2)\n",
"Wf=max(Wd,We)\n",
"disp('Wf=')\n",
"disp(Wf)\n",
"//x1(t)x2(t)\n",
"Wg=2*(Wb1+Wb2)\n",
"disp('Wg=')\n",
"disp(Wg)\n",
"//x1(t)*x2(t)\n",
"Wh=2*min(Wb1,Wb2)\n",
"disp('Wh=')\n",
"disp(Wh)\n",
"//x1(t)*cos(2*%pi*t)\n",
"Wi=2*(Wb1+2*%pi)\n",
"disp('Wi=')\n",
"disp(Wi)\n",
"//x1'(t)\n",
"Wj=2*Wb1\n",
"disp('Wj=')\n",
"disp(Wj)"
   ]
   }
],
"metadata": {
		  "kernelspec": {
		   "display_name": "Scilab",
		   "language": "scilab",
		   "name": "scilab"
		  },
		  "language_info": {
		   "file_extension": ".sce",
		   "help_links": [
			{
			 "text": "MetaKernel Magics",
			 "url": "https://github.com/calysto/metakernel/blob/master/metakernel/magics/README.md"
			}
		   ],
		   "mimetype": "text/x-octave",
		   "name": "scilab",
		   "version": "0.7.1"
		  }
		 },
		 "nbformat": 4,
		 "nbformat_minor": 0
}
