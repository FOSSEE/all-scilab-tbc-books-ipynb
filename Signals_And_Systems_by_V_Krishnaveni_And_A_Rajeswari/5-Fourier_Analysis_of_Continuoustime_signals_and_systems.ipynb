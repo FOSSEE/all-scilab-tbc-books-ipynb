{
"cells": [
 {
		   "cell_type": "markdown",
	   "metadata": {},
	   "source": [
       "# Chapter 5: Fourier Analysis of Continuoustime signals and systems"
	   ]
	},
{
		   "cell_type": "markdown",
		   "metadata": {},
		   "source": [
			"## Example 5.14: Continuoustime_Fourier_Transform.sce"
		   ]
		  },
  {
"cell_type": "code",
	   "execution_count": null,
	   "metadata": {
	    "collapsed": true
	   },
	   "outputs": [],
"source": [
"//Continuous Time Signal x(t)= exp(-B*t)u(t), t>0\n",
"clear;\n",
"clc;\n",
"close;\n",
"B =1;   \n",
"Dt = 0.005;\n",
"t = 0:Dt:10;\n",
"xt = exp(-B*t);\n",
"Wmax = 2*%pi*1;       \n",
"K = 4;\n",
"k = 0:(K/1000):K;\n",
"W = k*Wmax/K;\n",
"XW = xt* exp(-sqrt(-1)*t'*W) * Dt;\n",
"XW_Mag = abs(XW);\n",
"W = [-mtlb_fliplr(W), W(2:1001)];\n",
"XW_Mag = [mtlb_fliplr(XW_Mag), XW_Mag(2:1001)];\n",
"[XW_Phase,db] = phasemag(XW);\n",
"XW_Phase = [-mtlb_fliplr(XW_Phase),XW_Phase(2:1001)];\n",
"//Plotting Continuous Time Signal\n",
"figure(1)\n",
"plot(t,xt);\n",
"xlabel('t in sec.');\n",
"ylabel('x(t)')\n",
"title('Continuous Time Signal')\n",
"figure(2)\n",
"//Plotting Magnitude Response of CTS\n",
"subplot(2,1,1);\n",
"plot(W,XW_Mag);\n",
"xlabel('Frequency in Radians/Seconds---> W');\n",
"ylabel('abs(X(jW))')\n",
"title('Magnitude Response (CTFT)')\n",
"//Plotting Phase Reponse of CTS\n",
"subplot(2,1,2);\n",
"plot(W,XW_Phase*%pi/180);\n",
"xlabel('                         Frequency in Radians/Seconds---> W');\n",
"ylabel('                                                <X(jW)')\n",
"title('Phase Response(CTFT) in Radians')"
   ]
   }
,
{
		   "cell_type": "markdown",
		   "metadata": {},
		   "source": [
			"## Example 5.15: Continuoustime_Fourier_Transform.sce"
		   ]
		  },
  {
"cell_type": "code",
	   "execution_count": null,
	   "metadata": {
	    "collapsed": true
	   },
	   "outputs": [],
"source": [
"//Continuous Time Signal x(t)= exp(B*t)u(-t), t>0\n",
"clear;\n",
"clc;\n",
"close;\n",
"B =1;  \n",
"Dt = 0.005;\n",
"t = -10:Dt:0;\n",
"xt = exp(B*t);\n",
"Wmax = 2*%pi*1;        \n",
"K = 4;\n",
"k = 0:(K/1000):K;\n",
"W = k*Wmax/K;\n",
"XW = xt* exp(-sqrt(-1)*t'*W) * Dt;\n",
"XW_Mag = abs(XW);\n",
"W = [-mtlb_fliplr(W), W(2:1001)]; \n",
"XW_Mag = [mtlb_fliplr(XW_Mag), XW_Mag(2:1001)];\n",
"[XW_Phase,db] = phasemag(XW);\n",
"XW_Phase = [-mtlb_fliplr(XW_Phase),XW_Phase(2:1001)];\n",
"//Plotting Continuous Time Signal\n",
"figure(1)\n",
"plot(t,xt);\n",
"xlabel('t in sec.');\n",
"ylabel('x(t)')\n",
"title('Continuous Time Signal')\n",
"figure(2)\n",
"//Plotting Magnitude Response of CTS\n",
"subplot(2,1,1);\n",
"plot(W,XW_Mag);\n",
"xlabel('Frequency in Radians/Seconds---> W');\n",
"ylabel('abs(X(jW))')\n",
"title('Magnitude Response (CTFT)')\n",
"//Plotting Phase Reponse of CTS\n",
"subplot(2,1,2);\n",
"plot(W,XW_Phase*%pi/180);\n",
"xlabel('                         Frequency in Radians/Seconds---> W');\n",
"ylabel('                                                <X(jW)')\n",
"title('Phase Response(CTFT) in Radians')"
   ]
   }
,
{
		   "cell_type": "markdown",
		   "metadata": {},
		   "source": [
			"## Example 5.16: Continuoustime_Fourier_Transform.sce"
		   ]
		  },
  {
"cell_type": "code",
	   "execution_count": null,
	   "metadata": {
	    "collapsed": true
	   },
	   "outputs": [],
"source": [
"//Continuous Time Signal x(t)= exp(-B*abs(t))\n",
"clear;\n",
"clc;\n",
"close;\n",
"B =1;   \n",
"Dt = 0.005;\n",
"t = -4.5:Dt:4.5;\n",
"xt = exp(-B*abs(t));\n",
"Wmax = 2*%pi*1;        \n",
"K = 4;\n",
"k = 0:(K/1000):K;\n",
"W = k*Wmax/K;\n",
"XW = xt* exp(-sqrt(-1)*t'*W) * Dt;\n",
"XW = real(XW);\n",
"W = [-mtlb_fliplr(W), W(2:1001)]; \n",
"XW = [mtlb_fliplr(XW), XW(2:1001)];\n",
"disp('The given signal is even and it has no phase spectrum')\n",
"subplot(2,1,1);\n",
"plot(t,xt);\n",
"xlabel('t in sec.');\n",
"ylabel('x(t)')\n",
"title('Continuous Time Signal')\n",
"subplot(2,1,2);\n",
"plot(W,XW);\n",
"xlabel('Frequency in Radians/Seconds W');\n",
"ylabel('X(jW)')\n",
"title('Continuous-time Fourier Transform')"
   ]
   }
,
{
		   "cell_type": "markdown",
		   "metadata": {},
		   "source": [
			"## Example 5.17: Continuoustime_Fourier_Transform.sce"
		   ]
		  },
  {
"cell_type": "code",
	   "execution_count": null,
	   "metadata": {
	    "collapsed": true
	   },
	   "outputs": [],
"source": [
"//Frequency Response of a Rectangular Waveform\n",
"// x(t)= A, from -T1 to T1\n",
"clear;\n",
"clc;\n",
"close;\n",
"A =1;   \n",
"Dt = 0.005;\n",
"T1 = 4; \n",
"t = -T1/2:Dt:T1/2;\n",
"for i = 1:length(t)\n",
"  xt(i) = A;\n",
"end\n",
"Wmax = 2*%pi*1;       \n",
"K = 4;\n",
"k = 0:(K/1000):K;\n",
"W = k*Wmax/K;\n",
"xt = xt';\n",
"XW = xt* exp(-sqrt(-1)*t'*W) * Dt;\n",
"XW_Mag = real(XW);\n",
"W = [-mtlb_fliplr(W), W(2:1001)]; \n",
"XW_Mag = [mtlb_fliplr(XW_Mag), XW_Mag(2:1001)];\n",
"subplot(2,1,1);\n",
"plot(t,xt);\n",
"xlabel('t in sec.');\n",
"title('Contiuous Time Signal x(t)')\n",
"subplot(2,1,2);\n",
"plot(W,XW_Mag);\n",
"xlabel('Frequency in Radians/Seconds');\n",
"title('Continuous-time Fourier Transform  X(jW)')"
   ]
   }
,
{
		   "cell_type": "markdown",
		   "metadata": {},
		   "source": [
			"## Example 5.18: Inverse_Fourier_transform.sce"
		   ]
		  },
  {
"cell_type": "code",
	   "execution_count": null,
	   "metadata": {
	    "collapsed": true
	   },
	   "outputs": [],
"source": [
"// Inverse Continuous Time Fourier Transform\n",
"// X(jW)= 1, from -T1 to T1\n",
"clear;\n",
"clc;\n",
"close;\n",
"// CTFT\n",
"A =1;    \n",
"Dw = 0.005;\n",
"W1 = 4;  \n",
"w = -W1/2:Dw:W1/2;\n",
"for i = 1:length(w)\n",
"  XW(i) = A;\n",
"end\n",
"XW = XW';\n",
"//Inverse Continuous-time Fourier Transform\n",
"t = -3*%pi:%pi/length(w):3*%pi;\n",
"xt =(1/(2*%pi))*XW *exp(sqrt(-1)*w'*t)*Dw;\n",
"xt = real(xt);\n",
"figure\n",
"plot(t,xt);\n",
"xlabel('            t Sec');\n",
"title('Time domain signal x(t)')"
   ]
   }
,
{
		   "cell_type": "markdown",
		   "metadata": {},
		   "source": [
			"## Example 5.19: Continuoustime_Fourier_Transform.sce"
		   ]
		  },
  {
"cell_type": "code",
	   "execution_count": null,
	   "metadata": {
	    "collapsed": true
	   },
	   "outputs": [],
"source": [
"//frequency response of impulse signal\n",
"clear;\n",
"clc;\n",
"close;\n",
"A =1;    \n",
"Dt = 0.005;\n",
"T1 = 4; \n",
"Wo=2//Assume Wo=2\n",
"t = -T1/2:Dt:T1/2;\n",
"for i = 1:length(t)\n",
"    xt(i)=sin(Wo*t(i));\n",
"end\n",
"Wmax = 2*%pi*1;        \n",
"K = 4;\n",
"k = 0:(K/1000):K;\n",
"W = k*Wmax/K;\n",
"xt = xt';\n",
"XW = xt* exp(-sqrt(-1)*t'*W) * Dt;\n",
"XW_Mag = real(XW);\n",
"W = [-mtlb_fliplr(W), W(2:1001)]; \n",
"XW_Mag = [mtlb_fliplr(XW_Mag), XW_Mag(2:1001)];\n",
"subplot(2,1,1);\n",
"plot(t,xt);\n",
"xlabel('t in sec.');\n",
"title('Contiuous Time Signal x(t)')\n",
"subplot(2,1,2);\n",
"plot(W,XW_Mag);\n",
"xlabel('Frequency in Radians/Seconds');\n",
"title('Continuous-time Fourier Transform  X(jW)')"
   ]
   }
,
{
		   "cell_type": "markdown",
		   "metadata": {},
		   "source": [
			"## Example 5.1: Fourier_Series_representation.sce"
		   ]
		  },
  {
"cell_type": "code",
	   "execution_count": null,
	   "metadata": {
	    "collapsed": true
	   },
	   "outputs": [],
"source": [
"\n",
"\n",
"\n",
"\n",
"\n",
"//Continuous Time Fourier Series Coefficients of \n",
"//a periodic signal x(t) = sin(2*Wot)\n",
"clear;\n",
"close;\n",
"clc;\n",
"t = 0:0.01:1;\n",
"T = 1;\n",
"Wo = 2*%pi/T;\n",
"xt = sin(2*Wo*t);\n",
"for k =0:4\n",
"  C(k+1,:) = exp(-sqrt(-1)*Wo*t.*k);\n",
"  a(k+1) = xt*C(k+1,:)'/length(t);\n",
"  if(abs(a(k+1))<=0.01) \n",
"    a(k+1)=0;\n",
"  end\n",
"end\n",
"a =a';\n",
"ak = [-a,a(2:$)]\n",
"for i=1:length(ak)\n",
"    if real(ak(i))== 0 then\n",
"        phase(i)=0;\n",
"    else\n",
"         if i<length(ak)/2 then\n",
"            phase(i)= atan(imag(ak(i))/real(ak(i))); \n",
"         else\n",
"            phase(i)= -atan(imag(ak(i))/real(ak(i)));\n",
"         end \n",
"    end\n",
"end\n",
"disp('The fourier series coefficients are...')\n",
"disp(ak)\n",
"disp('magnitude of Fourier series coefficient')\n",
"disp(abs(ak))\n",
"disp('Phase of Fourier series coefficient in radians')\n",
"disp(phase)\n",
"n=-4:4;\n",
"subplot(2,1,1)\n",
"plot(n,abs(ak),'.');\n",
"xtitle('|ak|','k','|ak|');\n",
"subplot(2,1,2)\n",
"for i=1:length(n)\n",
"    if n(i)== -2 then\n",
"    phase(i)=3.14/2;\n",
"    elseif n(i)== 2 then\n",
"    phase(i)= -3.14/2;\n",
"    else\n",
"    phase(i)=0;\n",
"end\n",
"end\n",
"plot(n,phase,'.');\n",
"xtitle('/_ak','k','/_ak');"
   ]
   }
,
{
		   "cell_type": "markdown",
		   "metadata": {},
		   "source": [
			"## Example 5.20: Inverse_Fourier_transform.sce"
		   ]
		  },
  {
"cell_type": "code",
	   "execution_count": null,
	   "metadata": {
	    "collapsed": true
	   },
	   "outputs": [],
"source": [
"// Inverse Continuous Time Fourier Transform\n",
"// X(jW)= 2*pi, at W=0\n",
"clear;\n",
"clc;\n",
"close;\n",
"// CTFT\n",
"A =1;    \n",
"Dw = 0.005;\n",
"W1 = 4;  \n",
"w = -W1/2:Dw:W1/2;\n",
"for i = 1:length(w)\n",
"    if w(i)==0 then\n",
"  XW(i) = 2*%pi;\n",
"else\n",
"    XW(i)=0;\n",
"end\n",
"end\n",
"XW = XW';\n",
"subplot(2,1,1)\n",
"plot(w,XW)\n",
"//Inverse Continuous-time Fourier Transform\n",
"t = -3*%pi:%pi/length(w):3*%pi;\n",
"xt =(1/(2*%pi))*XW *exp(sqrt(-1)*w'*t)*Dw;\n",
"xt = real(1+xt);\n",
"subplot(2,1,2)\n",
"plot(t,xt);\n",
"xlabel('            t Sec');\n",
"title('Time domain signal x(t)')"
   ]
   }
,
{
		   "cell_type": "markdown",
		   "metadata": {},
		   "source": [
			"## Example 5.21: Inverse_Fourier_Transform.sce"
		   ]
		  },
  {
"cell_type": "code",
	   "execution_count": null,
	   "metadata": {
	    "collapsed": true
	   },
	   "outputs": [],
"source": [
"// Inverse Continuous Time Fourier Transform\n",
"// X(jW)= 2*pi, at W=Wo\n",
"clear;\n",
"clc;\n",
"close;\n",
"// CTFT\n",
"A =1;    \n",
"Dw = 0.005;\n",
"W1 = 4;  \n",
"Wo=2//Assume Wo=2\n",
"w = -W1/2:Dw:W1/2;\n",
"for i = 1:length(w)\n",
"    if w(i)==Wo then\n",
"  XW(i) = 2*%pi;\n",
"else\n",
"    XW(i)=0;\n",
"end\n",
"end\n",
"XW = XW';\n",
"//Inverse Continuous-time Fourier Transform\n",
"t = -3*%pi:%pi/length(w):3*%pi;\n",
"xt =(1/(2*%pi))*XW *exp(sqrt(-1)*w'*t)*Dw;\n",
"xt = real(1+xt);\n",
"plot(t,xt);\n",
"xlabel('            t Sec');\n",
"title('Time domain signal x(t)')"
   ]
   }
,
{
		   "cell_type": "markdown",
		   "metadata": {},
		   "source": [
			"## Example 5.22: Inverse_fourier_transform.sce"
		   ]
		  },
  {
"cell_type": "code",
	   "execution_count": null,
	   "metadata": {
	    "collapsed": true
	   },
	   "outputs": [],
"source": [
"// Inverse Continuous Time Fourier Transform\n",
"// X(jW)= 2*pi, at W=-Wo\n",
"clear;\n",
"clc;\n",
"close;\n",
"// CTFT\n",
"A =1;    \n",
"Dw = 0.005;\n",
"W1 = 4;  \n",
"Wo=2//Assume Wo=2\n",
"w = -W1/2:Dw:W1/2;\n",
"for i = 1:length(w)\n",
"    if w(i)==-Wo then\n",
"  XW(i) = 2*%pi;\n",
"else\n",
"    XW(i)=0;\n",
"end\n",
"end\n",
"XW = XW';\n",
"//Inverse Continuous-time Fourier Transform\n",
"t = -3*%pi:%pi/length(w):3*%pi;\n",
"xt =(1/(2*%pi))*XW *exp(sqrt(-1)*w'*t)*Dw;\n",
"xt = real(1+xt);\n",
"plot(t,xt);\n",
"xlabel('            t Sec');\n",
"title('Time domain signal x(t)')"
   ]
   }
,
{
		   "cell_type": "markdown",
		   "metadata": {},
		   "source": [
			"## Example 5.24: Fourier_Transform_of_periodic_sinusoid.sce"
		   ]
		  },
  {
"cell_type": "code",
	   "execution_count": null,
	   "metadata": {
	    "collapsed": true
	   },
	   "outputs": [],
"source": [
"// Continuous Time Fourier Transforms of \n",
"// Sinusoidal waveforms sin(Wot) \n",
"clear\n",
"clc;\n",
"close;\n",
"T1 = 2;\n",
"T = 4*T1;\n",
"Wo = 2*%pi/T;\n",
"W = [-Wo,0,Wo];\n",
"ak = (2*%pi*Wo*T1/%pi)/sqrt(-1);\n",
"XW = [-ak,0,ak];\n",
"plot(W,-imag(XW),'.');\n",
"xlabel('                                                      W');\n",
"xtitle('CTFT of sin(Wot)','W','X(jW)')"
   ]
   }
,
{
		   "cell_type": "markdown",
		   "metadata": {},
		   "source": [
			"## Example 5.25: Fourier_Transform_of_periodic_signal.sce"
		   ]
		  },
  {
"cell_type": "code",
	   "execution_count": null,
	   "metadata": {
	    "collapsed": true
	   },
	   "outputs": [],
"source": [
"// Continuous Time Fourier Transforms of \n",
"// Sinusoidal waveforms cos(Wot)\n",
"clear;\n",
"clc;\n",
"close;\n",
"// CTFT\n",
"T1 = 2;\n",
"T = 4*T1;\n",
"Wo = 2*%pi/T;\n",
"W = [-Wo,0,Wo];\n",
"ak = (2*%pi*Wo*T1/%pi);\n",
"XW =[ak,0,ak];\n",
"plot(W,abs(XW),'.');\n",
"xlabel('                        W');\n",
"xtitle('CTFT of cos(Wot)','W','X(jW)')\n",
""
   ]
   }
,
{
		   "cell_type": "markdown",
		   "metadata": {},
		   "source": [
			"## Example 5.2: Fourier_Series_representation.sce"
		   ]
		  },
  {
"cell_type": "code",
	   "execution_count": null,
	   "metadata": {
	    "collapsed": true
	   },
	   "outputs": [],
"source": [
"//Continuous Time Fourier Series Coefficients of \n",
"//a periodic signal x(t) = cos(Wot)\n",
"clear;\n",
"close;\n",
"clc;\n",
"t = 0:0.01:1;\n",
"T = 1;\n",
"Wo = 2*%pi/T;\n",
"xt = cos(Wo*t);\n",
"x1t=cos(Wo*-t);\n",
"for k =0:2\n",
"  C(k+1,:) = exp(-sqrt(-1)*Wo*t.*k);\n",
"  a(k+1) = xt*C(k+1,:)'/length(t);\n",
"  if(abs(a(k+1))<=0.01) \n",
"    a(k+1)=0;\n",
"  end\n",
"end\n",
"a =a';\n",
"ak = [-a,a(2:$)]\n",
"disp('The fourier series coefficients are...')\n",
"disp(ak)\n",
"disp('magnitude of Fourier series coefficient')\n",
"disp(abs(ak))\n",
"n=-2:2;\n",
"subplot(2,1,1)\n",
"plot(n,abs(ak),'.');\n",
"xtitle('Magnitude Spectrum','k','|ak|');\n",
"if xt== x1t then\n",
"    disp('The Given signal is even. It has no phase spectrum');\n",
"else\n",
"for i=1:length(ak)\n",
"    if real(ak(i))== 0 then\n",
"        phase(i)=0;\n",
"    else\n",
"        phase(i)=atan(imag(ak(i))/real(ak(i)));\n",
"    end\n",
"end\n",
"disp('Phase of Fourier series coefficient in radians')\n",
"disp(phase)\n",
"subplot(2,1,2)\n",
"plot(n,phase,'.');\n",
"xtitle('Phase Spectrum','k','ak in radians');\n",
"end"
   ]
   }
,
{
		   "cell_type": "markdown",
		   "metadata": {},
		   "source": [
			"## Example 5.32: Fourier_transform_of_impulse_train.sce"
		   ]
		  },
  {
"cell_type": "code",
	   "execution_count": null,
	   "metadata": {
	    "collapsed": true
	   },
	   "outputs": [],
"source": [
"//CTFT of Periodic Impulse Train\n",
"clear;\n",
"clc;\n",
"close;\n",
"// CTFT\n",
"T = -4:4;;\n",
"T1 = 1; \n",
"xt = ones(1,length(T));\n",
"ak = 1/T1;\n",
"XW = 2*%pi*ak*ones(1,length(T));\n",
"Wo = 2*%pi/T1;\n",
"W = Wo*T;\n",
"figure\n",
"subplot(2,1,1)\n",
"plot2d3('gnn',T,xt); \n",
"xlabel('                    t');\n",
"title('Periodic Impulse Train')\n",
"subplot(2,1,2)\n",
"plot2d3('gnn',W,XW);\n",
"xlabel('                   t');\n",
"title('CTFT of Periodic Impulse Train')"
   ]
   }
,
{
		   "cell_type": "markdown",
		   "metadata": {},
		   "source": [
			"## Example 5.37: Frequency_response_of_the_system.sce"
		   ]
		  },
  {
"cell_type": "code",
	   "execution_count": null,
	   "metadata": {
	    "collapsed": true
	   },
	   "outputs": [],
"source": [
"//Continuous Time Signal x(t)= 0.5*exp(-B*t*0.5)u(t), t>0\n",
"clear;\n",
"clc;\n",
"close;\n",
"B =1;   \n",
"Dt = 0.005;\n",
"t = 0:Dt:10;\n",
"h = 0.5*exp(-B*t*0.5);\n",
"Wmax = 2*%pi*1;       \n",
"K = 4;\n",
"k = 0:(K/1000):K;\n",
"W = k*Wmax/K;\n",
"XW = h* exp(-sqrt(-1)*t'*W) * Dt;\n",
"XW_Mag = abs(XW);\n",
"W = [-mtlb_fliplr(W), W(2:1001)];\n",
"XW_Mag = [mtlb_fliplr(XW_Mag), XW_Mag(2:1001)];\n",
"[XW_Phase,db] = phasemag(XW);\n",
"XW_Phase = [-mtlb_fliplr(XW_Phase),XW_Phase(2:1001)];\n",
"//Plotting Continuous Time Signal\n",
"figure(1)\n",
"plot(t,h);\n",
"xlabel('t in sec.');\n",
"ylabel('x(t)')\n",
"title('Continuous Time Signal')\n",
"figure(2)\n",
"//Plotting Magnitude Response of CTS\n",
"subplot(2,1,1);\n",
"plot(W,XW_Mag);\n",
"xlabel('Frequency in Radians/Seconds---> W');\n",
"ylabel('abs(X(jW))')\n",
"title('Magnitude Response (CTFT)')\n",
"//Plotting Phase Reponse of CTS\n",
"subplot(2,1,2);\n",
"plot(W,XW_Phase*%pi/180);\n",
"xlabel('                         Frequency in Radians/Seconds---> W');\n",
"ylabel('                                                <X(jW)')\n",
"title('Phase Response(CTFT) in Radians')"
   ]
   }
,
{
		   "cell_type": "markdown",
		   "metadata": {},
		   "source": [
			"## Example 5.3: Fourier_series_representation.sce"
		   ]
		  },
  {
"cell_type": "code",
	   "execution_count": null,
	   "metadata": {
	    "collapsed": true
	   },
	   "outputs": [],
"source": [
"//Continuous Time Fourier Series Coefficients of \n",
"//a periodic signal x(t) = 5*cos((%pi/2*t)+(%pi/6))\n",
"clear;\n",
"close;\n",
"clc;\n",
"t = 0:0.01:1;\n",
"T = 1;\n",
"Wo = 2*%pi/T;\n",
"xt = cos((%pi/2*t)+(%pi/6))\n",
"x1t=cos((%pi/2*-t)+(%pi/6))\n",
"//x(t) is expanded according to Euler's theorem\n",
"x=5/2*(exp(%i*(%pi/2*t+%pi/6))+exp(-%i*(%pi/2*t+%pi/6)));\n",
"a1=5/2*exp(%i*%pi/6);\n",
"a_1=5/2*exp(-%i*%pi/6);\n",
"ak=[zeros(1,5) a_1 0 a1 zeros(1,5)];\n",
"k=-6:6;\n",
"disp('The fourier series coefficients are...')\n",
"disp(ak)\n",
"disp('magnitude of Fourier series coefficient')\n",
"disp(abs(ak))\n",
"subplot(2,1,1)\n",
"plot(k,abs(ak),'.');\n",
"xtitle('Magnitude Spectrum','k','|ak|');\n",
"if xt== x1t then\n",
"    disp('The Given signal is even. It has no phase spectrum');\n",
"else\n",
"    phase=[zeros(1,5) atan(imag(a_1)/real(a_1)) 0 atan(imag(a1)/real(a1))  zeros(1,5)];\n",
"    disp('Phase of Fourier series coefficient in radians')\n",
"    disp(phase)\n",
"    subplot(2,1,2)\n",
"    plot(k,phase,'.');\n",
"    xtitle('Phase Spectrum','k','ak in radians');\n",
"end"
   ]
   }
,
{
		   "cell_type": "markdown",
		   "metadata": {},
		   "source": [
			"## Example 5.4: Fourier_series_representation.sce"
		   ]
		  },
  {
"cell_type": "code",
	   "execution_count": null,
	   "metadata": {
	    "collapsed": true
	   },
	   "outputs": [],
"source": [
"//Continuous Time Fourier Series Coefficients of \n",
"//a periodic signal x(t) = 1+sin(6t)+cos(4t)\n",
"clear;\n",
"close;\n",
"clc;\n",
"t = 0:0.01:1;\n",
"xt = 1+sin(6*t)+cos(4*t);\n",
"x_t = 1+sin(6*-t)+cos(4*-t);\n",
"\n",
"//x(t) is expanded according to Euler's theorem\n",
"x=1+(1/2)*exp(%i*4*t)+(1/2)*exp(-%i*4*t)+(1/(2*%i))*exp(%i*6*t)-(1/(2*%i))*exp(-%i*6*t);\n",
"a0=1;\n",
"a2=(1/2)\n",
"a_2=(1/2)\n",
"a3=(1/(2*%i));\n",
"a_3=-(1/(2*%i));\n",
"ak=[zeros(1,5) a_3 a_2 0 a2 a3 zeros(1,5)];\n",
"k=-7:7;\n",
"disp('The fourier series coefficients are...')\n",
"disp(ak)\n",
"disp('magnitude of Fourier series coefficient')\n",
"disp(abs(ak))\n",
"subplot(2,1,1)\n",
"plot(k,abs(ak),'.');\n",
"xtitle('Magnitude Spectrum','k','|ak|');\n",
"if xt== x_t then\n",
"    disp('The Given signal is even. It has no phase spectrum');\n",
"else\n",
"    phase=[zeros(1,6) %pi/2 0 -%pi/2  zeros(1,6)];\n",
"    disp('Phase of Fourier series coefficient in radians')\n",
"    disp(phase)\n",
"    subplot(2,1,2)\n",
"    plot(k,phase,'.');\n",
"    xtitle('Phase Spectrum','k','ak in radians');\n",
"end"
   ]
   }
,
{
		   "cell_type": "markdown",
		   "metadata": {},
		   "source": [
			"## Example 5.5: Fourier_Series_Coefficients.sce"
		   ]
		  },
  {
"cell_type": "code",
	   "execution_count": null,
	   "metadata": {
	    "collapsed": true
	   },
	   "outputs": [],
"source": [
"//Fourier Series coefficients of the signal x(t)\n",
"//Assume the period of the signal T=10\n",
"clc\n",
"clear\n",
"close\n",
"T=1;\n",
"To=1/4;\n",
"//Assume the magnitude of the signal A=1\n",
"A=1;\n",
"t=-10:0.01:10;\n",
"for i=1:length(t)\n",
"    if t>To & t<-To then\n",
"        x(i)=0;\n",
"    else\n",
"        x(i)=A;\n",
"    end\n",
"end\n",
"\n",
"Wo=2*%pi;\n",
"\n",
"k=-5:5\n",
"for i=1:length(k)\n",
"    if k(i)==0 then\n",
"        ak(i)=1.5;\n",
"    else\n",
"        ak(i)=(sin(k(i)*%pi/2))/(k(i)*%pi);\n",
"    end\n",
"end\n",
"\n",
"disp('The fourier series coefficients are...')\n",
"disp(ak)\n",
"disp('magnitude of Fourier series coefficient')\n",
"disp(abs(ak))\n",
"disp('the givem signal is even and so it has no phase spectrum')\n",
"//PLotting frequency spectrum \n",
"subplot(2,1,2)\n",
"plot(k,abs(ak),'.');\n",
"xtitle('Magnitude Spectrum','k','|ak|');\n",
"subplot(2,1,1)\n",
"plot(k,ak,'.');\n",
"xtitle('Ak','k','ak');"
   ]
   }
,
{
		   "cell_type": "markdown",
		   "metadata": {},
		   "source": [
			"## Example 5.6: Fourier_series_Coefficients.sce"
		   ]
		  },
  {
"cell_type": "code",
	   "execution_count": null,
	   "metadata": {
	    "collapsed": true
	   },
	   "outputs": [],
"source": [
"//Fourier Series coefficients for Impulse train\n",
"clc\n",
"clear\n",
"close\n",
"//Assume period of the impulse train T=2\n",
"T=2;\n",
"t=-5*T:T:5*T;\n",
"for i=1:length(t)\n",
"    x(i)=1;\n",
"end\n",
"//Using sifting property of the impulse signal \n",
"k=-10:10\n",
"for i=1:length(k)\n",
"    ak(i)=1/T;\n",
"end\n",
"subplot(2,1,1)\n",
"plot(t,x,'.')\n",
"xtitle('Impulse train','t','x(t)')\n",
"subplot(2,1,2)\n",
"plot(k,ak,'.')\n",
"xtitle('Fourier coefficients of impulse train','k','ak')"
   ]
   }
,
{
		   "cell_type": "markdown",
		   "metadata": {},
		   "source": [
			"## Example 5.7: Fourier_series_coefficients_of_halfwave_rectified_signal.sce"
		   ]
		  },
  {
"cell_type": "code",
	   "execution_count": null,
	   "metadata": {
	    "collapsed": true
	   },
	   "outputs": [],
"source": [
"//Fourier Series coefficients of half-wave rectifier output\n",
"//Assume the period of the signal T=1\n",
"t=-0.5:0.01:1;\n",
"for i=1:length(t)\n",
"    if t(i)<T/2 then\n",
"        x(i)=sin(2*%pi*t(i));\n",
"    else\n",
"        x(i)=0;\n",
"    end\n",
"end\n",
"k=-10:10;\n",
"for i=1:length(k)\n",
"    if k(i)==1 then\n",
"        ak(i)=1/(4*%i);\n",
"    elseif k(i)==-1\n",
"        ak(i)=-1/(4*%i);\n",
"    else\n",
"        ak(i)=(cos(k(i)*%pi/2)*exp(-k(i)*%pi/2*-%i))/(%pi-(%pi*k(i)*k(i)));\n",
"    end\n",
"end\n",
"\n",
"\n",
"disp('The fourier series coefficients are...')\n",
"disp(ak)\n",
"disp('magnitude of Fourier series coefficient')\n",
"disp(abs(ak))\n",
"//PLotting frequency spectrum \n",
"subplot(2,1,1)\n",
"plot(k,abs(ak),'.');\n",
"xtitle('Magnitude Spectrum','k','|ak|');\n",
"for i=1:length(k)\n",
"    if k(i)==0 | k(i)==3 | k(i)==-3 | k(i)==-5 |k(i)==5 then\n",
"        phase(i)=0;\n",
"    elseif k(i)==-1 then\n",
"            phase(i)=%pi/2;\n",
"    elseif k(i)==1  then\n",
"             phase(i)=-%pi/2;\n",
"    elseif k(i)==-2 | k(i)==-4\n",
"          phase(i)=%pi;\n",
"    elseif k(i)==2 | k(i)==4\n",
"            phase(i)=-%pi;\n",
"        \n",
"end\n",
"end\n",
"subplot(2,1,2)\n",
"plot(k,phase,'.');\n",
"xtitle('Phase Spectrum','k','angle(ak)');\n",
"disp(phase)"
   ]
   }
,
{
		   "cell_type": "markdown",
		   "metadata": {},
		   "source": [
			"## Example 5.8: Fourier_series_coefficients.sce"
		   ]
		  },
  {
"cell_type": "code",
	   "execution_count": null,
	   "metadata": {
	    "collapsed": true
	   },
	   "outputs": [],
"source": [
"//Fourier Series coefficients of half-wave rectifier output\n",
"//Assume the period of the signal T=1\n",
"t=-0.5:0.01:0.5;\n",
"for i=1:length(t)\n",
"    if t(i)<-0.25 & t(i)>0.25 then\n",
"        x(i)=-1;\n",
"    else\n",
"        x(i)=1;\n",
"    end\n",
"end\n",
"k=-10:10;\n",
"for i=1:length(k)\n",
"    if k(i)==0 then\n",
"        ak(i)=0;\n",
"    else\n",
"        ak(i)=(%i*((2-(-1)^k(i))*exp(-%i*k(i)*%pi/2)-exp(%i*k(i)*%pi/2)))/(k(i)*2*%pi);\n",
"    end\n",
"end\n",
"\n",
"disp('The fourier series coefficients are...')\n",
"disp(ak)\n",
"plot(k,ak,'.')\n",
"xtitle('Fourier Coefficients','k','ak')"
   ]
   }
],
"metadata": {
		  "kernelspec": {
		   "display_name": "Scilab",
		   "language": "scilab",
		   "name": "scilab"
		  },
		  "language_info": {
		   "file_extension": ".sce",
		   "help_links": [
			{
			 "text": "MetaKernel Magics",
			 "url": "https://github.com/calysto/metakernel/blob/master/metakernel/magics/README.md"
			}
		   ],
		   "mimetype": "text/x-octave",
		   "name": "scilab",
		   "version": "0.7.1"
		  }
		 },
		 "nbformat": 4,
		 "nbformat_minor": 0
}
