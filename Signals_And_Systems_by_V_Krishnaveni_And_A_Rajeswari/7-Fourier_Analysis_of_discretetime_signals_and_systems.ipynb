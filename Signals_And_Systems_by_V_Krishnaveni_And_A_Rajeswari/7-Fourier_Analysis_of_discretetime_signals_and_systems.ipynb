{
"cells": [
 {
		   "cell_type": "markdown",
	   "metadata": {},
	   "source": [
       "# Chapter 7: Fourier Analysis of discretetime signals and systems"
	   ]
	},
{
		   "cell_type": "markdown",
		   "metadata": {},
		   "source": [
			"## Example 7.10: DTFSrepresentation.sce"
		   ]
		  },
  {
"cell_type": "code",
	   "execution_count": null,
	   "metadata": {
	    "collapsed": true
	   },
	   "outputs": [],
"source": [
"//x[n] = 0.5+0.5*cos(2*%pi/N)n\n",
"clear;\n",
"close;\n",
"clc;\n",
"N = 8;\n",
"n = 0:0.01:N;\n",
"Wo = 2*%pi/N;\n",
"xn =0.5*ones(1,length(n))+0.5*cos(Wo*n);\n",
"for k =0:N-2\n",
"  C(k+1,:) = exp(-sqrt(-1)*Wo*n.*k);\n",
"  a(k+1) = xn*C(k+1,:)'/length(n);\n",
"  if(abs(a(k+1))<=0.1) \n",
"    a(k+1)=0;\n",
"  end\n",
"end\n",
"a =a';\n",
"a_conj =conj(a);\n",
"ak = [a_conj($:-1:1),a(2:$)];\n",
"Mag_ak = abs(ak);\n",
"k = -(N-2):(N-2);\n",
"plot2d3('gnn',k,Mag_ak,5)\n",
"xtitle('abs(ak)','k','ak')"
   ]
   }
,
{
		   "cell_type": "markdown",
		   "metadata": {},
		   "source": [
			"## Example 7.16: Discretetime_fourier_transform.sce"
		   ]
		  },
  {
"cell_type": "code",
	   "execution_count": null,
	   "metadata": {
	    "collapsed": true
	   },
	   "outputs": [],
"source": [
"//Discrete Time Fourier Transform of discrete sequence\n",
"//x[n]= (a^n).u[n], |a|<1\n",
"clear;\n",
"clc;\n",
"close;\n",
"a1 = 0.5;\n",
"max_limit = 10;\n",
"for n = 0:max_limit-1\n",
"  x1(n+1) = (a1^n);\n",
"end\n",
"n = 0:max_limit-1;\n",
"Wmax = 2*%pi;       \n",
"K = 4;\n",
"k = 0:(K/1000):K;\n",
"W = k*Wmax/K;\n",
"x1 = x1';\n",
"XW1 = x1* exp(-sqrt(-1)*n'*W);\n",
"XW1_Mag = abs(XW1);\n",
"W = [-mtlb_fliplr(W), W(2:1001)]; // Omega from -Wmax to Wmax\n",
"XW1_Mag = 2.5*[mtlb_fliplr(XW1_Mag), XW1_Mag(2:1001)];\n",
"[XW1_Phase,db] = phasemag(XW1);\n",
"XW1_Phase = (1/30)*[-mtlb_fliplr(XW1_Phase),XW1_Phase(2:1001)];\n",
"subplot(3,1,1);\n",
"plot2d3('gnn',n,x1);\n",
"xtitle('Discrete Time Sequence x[n]')\n",
"subplot(3,1,2);\n",
"plot2d(W,XW1_Mag);\n",
"title('Magnitude Response abs(X(jW))')\n",
"subplot(3,1,3);\n",
"plot2d(W,XW1_Phase);\n",
"title('Phase Response <(X(jW))')\n",
""
   ]
   }
,
{
		   "cell_type": "markdown",
		   "metadata": {},
		   "source": [
			"## Example 7.17: Discretetime_fourier_transform.sce"
		   ]
		  },
  {
"cell_type": "code",
	   "execution_count": null,
	   "metadata": {
	    "collapsed": true
	   },
	   "outputs": [],
"source": [
"//Discrete Time Fourier Transform of discrete sequence\n",
"//x[n]= (a^n).u[-n], |a|>1\n",
"clear;\n",
"clc;\n",
"close;\n",
"a1 = 3;\n",
"min_limit = -20;\n",
"n = min_limit:0\n",
"for i=1:length(n)\n",
"  x1(i) = (a1^n(i));\n",
"end\n",
"Wmax = 2*%pi;       \n",
"K = 4;\n",
"k = 0:(K/1000):K;\n",
"W = k*Wmax/K;\n",
"x1 = x1';\n",
"XW1 = x1* exp(-sqrt(-1)*n'*W);\n",
"XW1_Mag = abs(XW1);\n",
"W = [-mtlb_fliplr(W), W(2:1001)]; // Omega from -Wmax to Wmax\n",
"XW1_Mag = [mtlb_fliplr(XW1_Mag), XW1_Mag(2:1001)];\n",
"[XW1_Phase,db] = phasemag(XW1);\n",
"XW1_Phase = [-mtlb_fliplr(XW1_Phase),XW1_Phase(2:1001)];\n",
"subplot(3,1,1);\n",
"plot2d3('gnn',n,x1);\n",
"xtitle('Discrete Time Sequence x[n]','n','x[n]')\n",
"subplot(3,1,2);\n",
"plot2d(W,XW1_Mag);\n",
"xtitle('Magnitude Response abs(X(jW))','w','|X(jW)|')\n",
"subplot(3,1,3);\n",
"plot2d(W,XW1_Phase);\n",
"xtitle('Phase Response <(X(jW))','w','<(X(jW))')\n",
""
   ]
   }
,
{
		   "cell_type": "markdown",
		   "metadata": {},
		   "source": [
			"## Example 7.18: Discretetime_fourier_transform.sce"
		   ]
		  },
  {
"cell_type": "code",
	   "execution_count": null,
	   "metadata": {
	    "collapsed": true
	   },
	   "outputs": [],
"source": [
"//Discrete Time Fourier Transform of\n",
"//x[n]= (a^abs(n)) |a|<1\n",
"clear;\n",
"clc;\n",
"close;\n",
"// DTS Signal\n",
"a = 0.5;\n",
"max_limit = 10;\n",
"n = -max_limit+1:max_limit-1;\n",
"x = a^abs(n);\n",
"// Discrete-time Fourier Transform\n",
"Wmax = 2*%pi;      \n",
"K = 4;\n",
"k = 0:(K/1000):K;\n",
"W = k*Wmax/K;\n",
"XW = x* exp(-sqrt(-1)*n'*W);\n",
"XW_Mag = real(XW);\n",
"W = [-mtlb_fliplr(W), W(2:1001)]; // Omega from -Wmax to Wmax\n",
"XW_Mag = [mtlb_fliplr(XW_Mag), XW_Mag(2:1001)];\n",
"//plot for abs(a)<1\n",
"figure\n",
"subplot(2,1,1);\n",
"plot2d3('gnn',n,x);\n",
"xtitle('Discrete Time Sequence x[n] for a>0','n','x[n]')\n",
"subplot(2,1,2);\n",
"plot2d(W,XW_Mag);\n",
"xtitle('Discrete Time Fourier Transform X(exp(jW))','w','|X(exp(jW))|')"
   ]
   }
,
{
		   "cell_type": "markdown",
		   "metadata": {},
		   "source": [
			"## Example 7.19: Discretetime_fourier_transform.sce"
		   ]
		  },
  {
"cell_type": "code",
	   "execution_count": null,
	   "metadata": {
	    "collapsed": true
	   },
	   "outputs": [],
"source": [
"//Discrete Time Fourier Transform of\n",
"//x[n]= 1 , abs(n)<=M1\n",
"clear;\n",
"clc;\n",
"close;\n",
"// DTS Signal\n",
"M1 = 2;\n",
"n = -M1:M1;\n",
"x = ones(1,length(n));\n",
"Wmax = 2*%pi;       \n",
"K = 4;\n",
"k = 0:(K/1000):K;\n",
"W = k*Wmax/K;\n",
"XW = x* exp(-sqrt(-1)*n'*W);\n",
"XW_Mag = real(XW);\n",
"W = [-mtlb_fliplr(W), W(2:1001)]; // Omega from -Wmax to Wmax\n",
"XW_Mag = [mtlb_fliplr(XW_Mag), XW_Mag(2:1001)];\n",
"//plot for abs(a)<1\n",
"figure\n",
"subplot(2,1,1);\n",
"plot2d3('gnn',n,x,2);\n",
"xtitle('Discrete Time Sequence x[n]','n','x[n]')\n",
"subplot(2,1,2);\n",
"plot2d(W,XW_Mag);\n",
"xtitle('Discrete Time Fourier Transform X(exp(jW))','w','|X(exp(jW))|)"
   ]
   }
,
{
		   "cell_type": "markdown",
		   "metadata": {},
		   "source": [
			"## Example 7.24: Fourier_transform.sce"
		   ]
		  },
  {
"cell_type": "code",
	   "execution_count": null,
	   "metadata": {
	    "collapsed": true
	   },
	   "outputs": [],
"source": [
"//Discrete Time Fourier Transform of \n",
"// Periodic Impulse Train\n",
"clear;\n",
"clc;\n",
"close;\n",
"N = 5;\n",
"N1 = -3*N:3*N;\n",
"xn = [zeros(1,N-1),1];\n",
"x = [1 xn xn xn xn xn xn];\n",
"ak = 1/N;\n",
"XW = 2*%pi*ak*ones(1,2*N);\n",
"Wo = 2*%pi/N;\n",
"n  = -N:N-1;\n",
"W = Wo*n;\n",
"figure\n",
"subplot(2,1,1)\n",
"plot2d3('gnn',N1,x,2);\n",
"xtitle('Periodic Impulse Train','n','x[n]')\n",
"subplot(2,1,2)\n",
"plot2d3('gnn',W,XW,2);\n",
"xtitle('DTFT of Periodic Impulse Train','w','|X(exp(jw))|')\n",
"disp(Wo)"
   ]
   }
,
{
		   "cell_type": "markdown",
		   "metadata": {},
		   "source": [
			"## Example 7.26: Discretetime_fourier_transform.sce"
		   ]
		  },
  {
"cell_type": "code",
	   "execution_count": null,
	   "metadata": {
	    "collapsed": true
	   },
	   "outputs": [],
"source": [
"//Discrete Time Fourier Transform of discrete sequence\n",
"//x[n]= 1, n=2\n",
"clear;\n",
"clc;\n",
"close;\n",
"a1 = 1/8;\n",
"max_limit = 10;\n",
"for n = 0:max_limit-1\n",
"    if n==2 then\n",
"    x1(n+1) = 1;\n",
"else\n",
"    x1(n+1) = 0;\n",
"end  \n",
"end\n",
"n = 0:max_limit-1;\n",
"Wmax = 2*%pi;       \n",
"K = 4;\n",
"k = 0:(K/1000):K;\n",
"W = k*Wmax/K;\n",
"x1 = x1';\n",
"XW1 = x1* exp(-sqrt(-1)*n'*W);\n",
"XW1_Mag = abs(XW1);\n",
"W = [-mtlb_fliplr(W), W(2:1001)]; // Omega from -Wmax to Wmax\n",
"XW1_Mag = [mtlb_fliplr(XW1_Mag), XW1_Mag(2:1001)];\n",
"[XW1_Phase,db] = phasemag(XW1);\n",
"XW1_Phase = [-mtlb_fliplr(XW1_Phase),XW1_Phase(2:1001)];\n",
"subplot(3,1,1);\n",
"plot2d3('gnn',n,x1);\n",
"xtitle('Discrete Time Sequence x[n]')\n",
"subplot(3,1,2);\n",
"plot2d(W,XW1_Mag);\n",
"title('Magnitude Response abs(X(jW))')\n",
"subplot(3,1,3);\n",
"plot2d(W,XW1_Phase);\n",
"title('Phase Response <(X(jW))')\n",
""
   ]
   }
,
{
		   "cell_type": "markdown",
		   "metadata": {},
		   "source": [
			"## Example 7.3: Fourier_series_representation_of_DT_signal.sce"
		   ]
		  },
  {
"cell_type": "code",
	   "execution_count": null,
	   "metadata": {
	    "collapsed": true
	   },
	   "outputs": [],
"source": [
"//DTFS of x[n] =2cos((pi/3)*n+(pi/6))\n",
"clear;\n",
"close;\n",
"clc;\n",
"n = -3:3;\n",
"N = 6;\n",
"Wo = 2*%pi/N;\n",
"xn = 2*cos((%pi/3)*n+(%pi/6));\n",
"//By euler's theorem X[n] can be represented \n",
"x_n=exp(%i*(%pi*n/3)+%pi/6)+exp(-%i*(%pi*n/3)+%pi/6)\n",
"for i=1:length(n)\n",
"    if n(i)==1 \n",
"        a(i)=exp(%i*%pi/6);\n",
"    elseif n(i)==-1\n",
"        a(i)=exp(-%i*%pi/6);\n",
"    else\n",
"        a(i)=0;\n",
"    end\n",
"end\n",
"for i=1:length(a)\n",
"    if real(a(i))==0 then\n",
"        phase(i)=0;\n",
"    else\n",
"    phase(i)=atan(imag(a(i))/real(a(i)));\n",
"end\n",
"end\n",
"subplot(2,1,1)\n",
"plot2d3('gnn',n,abs(a))\n",
"xtitle('MAgnitude spectrum','k','|ak|')\n",
"subplot(2,1,2)\n",
"plot2d3('gnn',n,phase)\n",
"xtitle('Phase spectrum','k','angle(ak)')"
   ]
   }
,
{
		   "cell_type": "markdown",
		   "metadata": {},
		   "source": [
			"## Example 7.4: Fourier_series_representation_of_DT_signal.sce"
		   ]
		  },
  {
"cell_type": "code",
	   "execution_count": null,
	   "metadata": {
	    "collapsed": true
	   },
	   "outputs": [],
"source": [
"//Fouries series representation of combinarion of signals\n",
"//x[n]=1+sin(pi*n/2)+cos(%pi*n/4)\n",
"clc\n",
"clear\n",
"close\n",
"n=-3:3;\n",
"x=1+sin(%pi*n/2)+cos(%pi*n/4);\n",
"w1=%pi/2;\n",
"w2=%pi/4;\n",
"N1=2*%pi/w1;\n",
"N2=2*%pi/w2;\n",
"N=max(N1,N2);\n",
"wo=2*%pi/N;\n",
"//Expanding x[n] by Euler's theorem\n",
"xn=1+0.5*exp(%i*wo*n)+0.5*exp(-%i*wo*n)-0.5*%i*exp(%i*2*wo*n)-0.5*%i*exp(-%i*2*wo*n);\n",
"a0=1;\n",
"a1=0.5;\n",
"a_1=0.5;\n",
"a2=1/2*%i;\n",
"a_2=-1/2*%i;\n",
"a=[a_2 a_1 a0 a1 a2];\n",
"a1=[0 a 0];\n",
"phase=[%pi/2 0 0 0 -%pi/2]\n",
"phase=[0 phase 0]\n",
"subplot(2,1,1)\n",
"plot(n,abs(a1),'.')\n",
"xtitle('magnitude spectrum','k','ak')\n",
"subplot(2,1,2)\n",
"plot(n,phase,'.')\n",
"xtitle('Phase spectrum','k','ak')"
   ]
   }
,
{
		   "cell_type": "markdown",
		   "metadata": {},
		   "source": [
			"## Example 7.5: Fourier_series_representation_of_DT_signal.sce"
		   ]
		  },
  {
"cell_type": "code",
	   "execution_count": null,
	   "metadata": {
	    "collapsed": true
	   },
	   "outputs": [],
"source": [
"//DTFS coefficients of periodic square wave\n",
"clear;\n",
"close;\n",
"clc;\n",
"N = 10;\n",
"N1 = 2;\n",
"Wo = 2*%pi/N;\n",
"xn = ones(1,length(N));\n",
"n = -(2*N1+1):(2*N1+1);\n",
"a(1) = (2*N1+1)/N;\n",
"for k =1:2*N1\n",
"  a(k+1) = sin((2*%pi*k*(N1+0.5))/N)/sin(%pi*k/N);\n",
"  a(k+1) = a(k+1)/N;\n",
"  if(abs(a(k+1))<=0.1)\n",
"    a(k+1) =0;\n",
"  end\n",
"end\n",
"a =a';\n",
"a_conj =conj(a);\n",
"ak = [a_conj($:-1:1),a(2:$)];\n",
"k = -2*N1:2*N1;\n",
"plot2d3('gnn',k,abs(ak))\n",
"xtitle('Magnitude spectrum','k','|ak|')"
   ]
   }
,
{
		   "cell_type": "markdown",
		   "metadata": {},
		   "source": [
			"## Example 7.6: Fourier_series_representation_of_DT_signal.sce"
		   ]
		  },
  {
"cell_type": "code",
	   "execution_count": null,
	   "metadata": {
	    "collapsed": true
	   },
	   "outputs": [],
"source": [
"//DTFS of a periodic sequence\n",
"clc\n",
"clear\n",
"close\n",
"n=-4:3;\n",
"x=[0 1 2 3 0 1 2 3];\n",
"N=4;\n",
"k=0:3;;\n",
"wo=2*%pi/N;\n",
"a0=1.5;\n",
"a1=-0.5+0.5*%i;\n",
"a2=-0.5;\n",
"a3=-0.5-0.5*%i;\n",
"a=[a0,a1,a2,a3]\n",
"for i=1:length(a)\n",
"    phase(i)=atan(imag(a(i))/real(a(i)));    \n",
"end\n",
"subplot(2,1,1)\n",
"plot(k,abs(a),'.');\n",
"xtitle('magnitude spectrum','k','ak');\n",
"subplot(2,1,2)\n",
"plot(k,phase,'.');\n",
"xtitle('phase spectrum','k','ak');"
   ]
   }
,
{
		   "cell_type": "markdown",
		   "metadata": {},
		   "source": [
			"## Example 7.7: Fourier_series_representation_of_DT_signal.sce"
		   ]
		  },
  {
"cell_type": "code",
	   "execution_count": null,
	   "metadata": {
	    "collapsed": true
	   },
	   "outputs": [],
"source": [
"//DTFS of discrete periodic signal\n",
"clc\n",
"clear\n",
"close\n",
"N=2//asume N=2\n",
"n=-2*N:2*N\n",
"for i=1:length(n)\n",
"    if modulo(n(i),N)==0 then\n",
"    x(i)=1;\n",
"else\n",
"    x(i)=0;\n",
"end\n",
"end\n",
"subplot(2,1,1)\n",
"plot(n,x,'.')\n",
"xtitle('Input signal x[n]','n','x[n]');\n",
"k=-5:5;\n",
"for i=1:length(k)\n",
"    ak(i)=1/N;\n",
"end\n",
"subplot(2,1,2)\n",
"plot(k,ak,'.')\n",
"xtitle('Frequency spectrum','k','ak')"
   ]
   }
,
{
		   "cell_type": "markdown",
		   "metadata": {},
		   "source": [
			"## Example 7.8: Fourier_series_representation_of_DT_signal.sce"
		   ]
		  },
  {
"cell_type": "code",
	   "execution_count": null,
	   "metadata": {
	    "collapsed": true
	   },
	   "outputs": [],
"source": [
"//x[n] = 1+sin(2*%pi/N)n+3cos(2*%pi/N)n+cos[(4*%pi/N)n+%pi/4]\n",
"clear;\n",
"close;\n",
"clc;\n",
"N = 10;\n",
"n = 0:0.01:N;\n",
"Wo = 2*%pi/N;\n",
"xn =ones(1,length(n))+sin(Wo*n)+3*cos(Wo*n)+cos(2*Wo*n+%pi/4);\n",
"for k =0:N-2\n",
"  C(k+1,:) = exp(-sqrt(-1)*Wo*n.*k);\n",
"  a(k+1) = xn*C(k+1,:)'/length(n);\n",
"  if(abs(a(k+1))<=0.1) \n",
"    a(k+1)=0;\n",
"  end\n",
"end\n",
"a =a';\n",
"a_conj =conj(a);\n",
"ak = [a_conj($:-1:1),a(2:$)];\n",
"Mag_ak = abs(ak);\n",
"for i = 1:length(a)\n",
"  Phase_ak(i) = atan(imag(ak(i))/(real(ak(i))+0.0001));\n",
"end\n",
"Phase_ak = Phase_ak'\n",
"Phase_ak = [Phase_ak(1:$-1) -Phase_ak($:-1:1)];\n",
"k = -(N-2):(N-2);\n",
"subplot(2,1,1)\n",
"plot2d3('gnn',k,Mag_ak,5)\n",
"xtitle('abs(ak)','k','ak')\n",
"subplot(2,1,2)\n",
"plot2d3('gnn',k,Phase_ak,5) \n",
"xtitle('phase(ak)','k','ak')"
   ]
   }
,
{
		   "cell_type": "markdown",
		   "metadata": {},
		   "source": [
			"## Example 7.9: Fourier_series_representation_of_DT_signal.sce"
		   ]
		  },
  {
"cell_type": "code",
	   "execution_count": null,
	   "metadata": {
	    "collapsed": true
	   },
	   "outputs": [],
"source": [
"//x[n] = 1+sin(4*%pi/N)n+cos(10*%pi/N)n\n",
"clear;\n",
"close;\n",
"clc;\n",
"N = 21;\n",
"n = 0:0.01:N;\n",
"Wo = 2*%pi/N;\n",
"xn =ones(1,length(n))+sin(2*Wo*n)+cos(5*Wo*n);\n",
"for k =0:N-2\n",
"  C(k+1,:) = exp(-sqrt(-1)*Wo*n.*k);\n",
"  a(k+1) = xn*C(k+1,:)'/length(n);\n",
"  if(abs(a(k+1))<=0.1) \n",
"    a(k+1)=0;\n",
"  end\n",
"end\n",
"a =a';\n",
"a_conj =conj(a);\n",
"ak = [a_conj($:-1:1),a(2:$)];\n",
"Mag_ak = abs(ak);\n",
"for i = 1:length(a)\n",
"  Phase_ak(i) = atan(imag(ak(i))/(real(ak(i))+0.0001));\n",
"end\n",
"Phase_ak = Phase_ak'\n",
"Phase_ak = [Phase_ak(1:$-1) -Phase_ak($:-1:1)];\n",
"k = -(N-2):(N-2);\n",
"subplot(2,1,1)\n",
"plot2d3('gnn',k,Mag_ak,5)\n",
"xtitle('abs(ak)','k','ak')\n",
"subplot(2,1,2)\n",
"plot2d3('gnn',k,Phase_ak,5) \n",
"xtitle('phase(ak)','k','ak')"
   ]
   }
],
"metadata": {
		  "kernelspec": {
		   "display_name": "Scilab",
		   "language": "scilab",
		   "name": "scilab"
		  },
		  "language_info": {
		   "file_extension": ".sce",
		   "help_links": [
			{
			 "text": "MetaKernel Magics",
			 "url": "https://github.com/calysto/metakernel/blob/master/metakernel/magics/README.md"
			}
		   ],
		   "mimetype": "text/x-octave",
		   "name": "scilab",
		   "version": "0.7.1"
		  }
		 },
		 "nbformat": 4,
		 "nbformat_minor": 0
}
