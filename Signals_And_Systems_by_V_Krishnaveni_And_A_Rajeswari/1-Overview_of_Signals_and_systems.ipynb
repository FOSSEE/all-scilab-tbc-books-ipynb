{
"cells": [
 {
		   "cell_type": "markdown",
	   "metadata": {},
	   "source": [
       "# Chapter 1: Overview of Signals and systems"
	   ]
	},
{
		   "cell_type": "markdown",
		   "metadata": {},
		   "source": [
			"## Example 1.10: Plotting_basic_signals.sce"
		   ]
		  },
  {
"cell_type": "code",
	   "execution_count": null,
	   "metadata": {
	    "collapsed": true
	   },
	   "outputs": [],
"source": [
"clear\n",
"clf\n",
"clc\n",
"n=-20:1:20;\n",
"for i=1:length(n)\n",
"        x(i)=0.5;\n",
"end\n",
"subplot(2,1,1)\n",
"plot(n,x,'.');\n",
"xtitle('x(n)=0.5 for all n','number of samples','amplitude');\n",
"xgrid(5)\n",
"y=0.5*x;\n",
"subplot(2,1,2)\n",
"plot(n,y,'.');\n",
"xtitle('y(n)=0.5*x(n) for all n','number of samples','amplitude');\n",
"xgrid(5)"
   ]
   }
,
{
		   "cell_type": "markdown",
		   "metadata": {},
		   "source": [
			"## Example 1.1: Plotting_a_dc_signal.sce"
		   ]
		  },
  {
"cell_type": "code",
	   "execution_count": null,
	   "metadata": {
	    "collapsed": true
	   },
	   "outputs": [],
"source": [
"clf\n",
"clc\n",
"clear\n",
"t=[-20:0.01:20];\n",
"for i=1:length(t)\n",
"    x(i)=2;\n",
"end\n",
"plot(t,x);\n",
"xtitle('x(t)=2 for all t','time','amplitude');\n",
"xgrid(5)"
   ]
   }
,
{
		   "cell_type": "markdown",
		   "metadata": {},
		   "source": [
			"## Example 1.2: plotting_basic_signals.sce"
		   ]
		  },
  {
"cell_type": "code",
	   "execution_count": null,
	   "metadata": {
	    "collapsed": true
	   },
	   "outputs": [],
"source": [
"clf\n",
"clear\n",
"clc\n",
"t=[-20:0.01:20];\n",
"for i=1:length(t)\n",
"    x=2*t;\n",
"end\n",
"plot(t,x);\n",
"xtitle('x(t)=2*t for all t','time','amplitude');\n",
"xgrid(5)"
   ]
   }
,
{
		   "cell_type": "markdown",
		   "metadata": {},
		   "source": [
			"## Example 1.3: Plotting_Basic_signals.sce"
		   ]
		  },
  {
"cell_type": "code",
	   "execution_count": null,
	   "metadata": {
	    "collapsed": true
	   },
	   "outputs": [],
"source": [
"clc\n",
"clear\n",
"clf\n",
"interval=input('enter the value of time interval T between two samples');\n",
"t=(-20*interval):interval:(20*interval);\n",
"for i=1:length(t)\n",
"    if t(i)<0 then\n",
"        x(i)=-1;\n",
"    elseif t(i)>0 then\n",
"        x(i)=1;\n",
"    else\n",
"        x(i)=0;\n",
"    end\n",
"end\n",
"plot(t,x,'.');\n",
"xtitle('x(t)=1 for positive values of t..., x(t)=0 for t=0...., x(t)=-1 for negative values of t','time','amplitude');\n",
"xgrid(5)"
   ]
   }
,
{
		   "cell_type": "markdown",
		   "metadata": {},
		   "source": [
			"## Example 1.4: Plotting_basic_signals.sce"
		   ]
		  },
  {
"cell_type": "code",
	   "execution_count": null,
	   "metadata": {
	    "collapsed": true
	   },
	   "outputs": [],
"source": [
"clear\n",
"clf\n",
"clc\n",
"t=-20:0.01:20;\n",
"for i=1:length(t)\n",
"    if t(i)>0 then\n",
"        x1(i)=0.5;\n",
"    else\n",
"        x1(i)=-0.5;\n",
"    end\n",
"end\n",
"subplot(3,1,1)\n",
"plot(t,x1);\n",
"xtitle('x1(t)=-0.5 for t<0 and x1(t)=0.5 for t>0','time','amplitude');\n",
"xgrid(5);\n",
"subplot(3,1,2)\n",
"for i=1:length(t)\n",
"    x2(i)=-t(i);\n",
"end\n",
"plot(t,x2);\n",
"xtitle('x2(t)=-t for all t','time','amplitude');\n",
"xgrid(5);\n",
"subplot(3,1,3)\n",
"for i=1:length(t)\n",
"    x3(i)=t(i).^2;\n",
"end\n",
"plot(t,x3);\n",
"xtitle('x3(t)=t^2 for all t','time','amplitude');\n",
"xgrid(5);"
   ]
   }
,
{
		   "cell_type": "markdown",
		   "metadata": {},
		   "source": [
			"## Example 1.5: Plotting_basic_signals.sce"
		   ]
		  },
  {
"cell_type": "code",
	   "execution_count": null,
	   "metadata": {
	    "collapsed": true
	   },
	   "outputs": [],
"source": [
"clear\n",
"clf\n",
"clc\n",
"n=-20:1:20;\n",
"for i=1:length(n)\n",
"    if n(i)>=0 then\n",
"        x(i)=2;\n",
"    else\n",
"        x(i)=0;\n",
"    end\n",
"end\n",
"plot(n,x,'.');\n",
"xtitle('x(n)=0 for n<0 and x(n)=2 for n>=0','number of samples','amplitude');\n",
"xgrid(5)"
   ]
   }
,
{
		   "cell_type": "markdown",
		   "metadata": {},
		   "source": [
			"## Example 1.6: Plotting_basic_signals.sce"
		   ]
		  },
  {
"cell_type": "code",
	   "execution_count": null,
	   "metadata": {
	    "collapsed": true
	   },
	   "outputs": [],
"source": [
"clc\n",
"clear\n",
"clf\n",
"n1=-2:1:2;\n",
"x1=-2:1:2;\n",
"subplot(3,1,1)\n",
"plot(n1,x1,'.');\n",
"xtitle('x1(n)','n','x1(n)');\n",
"xgrid(5)\n",
"n=-5:1:5;\n",
"for i=1:length(n)\n",
"   x2(i)=n(i);\n",
"   x3(i)=2-n(i);\n",
"end\n",
"subplot(3,1,2);\n",
"plot(n,x2,'.');\n",
"xtitle('x2(n)','n','x2(n)');\n",
"xgrid(5);\n",
"subplot(3,1,3);\n",
"plot(n,x3,'.');\n",
"xtitle('x3(n)','n','x3(n)');\n",
"xgrid(5);"
   ]
   }
,
{
		   "cell_type": "markdown",
		   "metadata": {},
		   "source": [
			"## Example 1.7: Plotting_basic_signals.sce"
		   ]
		  },
  {
"cell_type": "code",
	   "execution_count": null,
	   "metadata": {
	    "collapsed": true
	   },
	   "outputs": [],
"source": [
"clear \n",
"clf\n",
"clc\n",
"interval=input('enter the sampling interval');\n",
"n=[-20:1:20];\n",
"t=n*interval\n",
"for i=1:length(t)\n",
"    x(i)=2*t(i);\n",
"end\n",
"plot(t,x,'.');\n",
"xtitle('sampled function of x(t)=2*t for all t','number of samples','amplitude');"
   ]
   }
,
{
		   "cell_type": "markdown",
		   "metadata": {},
		   "source": [
			"## Example 1.8: Plotting_basic_signals.sce"
		   ]
		  },
  {
"cell_type": "code",
	   "execution_count": null,
	   "metadata": {
	    "collapsed": true
	   },
	   "outputs": [],
"source": [
"x=poly([-4 2 1],'t','c')\n",
"a=horner(x,0)\n",
"b=horner(x,-2)\n",
"disp(a)\n",
"disp(b)"
   ]
   }
],
"metadata": {
		  "kernelspec": {
		   "display_name": "Scilab",
		   "language": "scilab",
		   "name": "scilab"
		  },
		  "language_info": {
		   "file_extension": ".sce",
		   "help_links": [
			{
			 "text": "MetaKernel Magics",
			 "url": "https://github.com/calysto/metakernel/blob/master/metakernel/magics/README.md"
			}
		   ],
		   "mimetype": "text/x-octave",
		   "name": "scilab",
		   "version": "0.7.1"
		  }
		 },
		 "nbformat": 4,
		 "nbformat_minor": 0
}
