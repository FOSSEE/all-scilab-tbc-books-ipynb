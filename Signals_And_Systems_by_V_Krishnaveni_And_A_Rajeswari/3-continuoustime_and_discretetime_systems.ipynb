{
"cells": [
 {
		   "cell_type": "markdown",
	   "metadata": {},
	   "source": [
       "# Chapter 3: continuoustime and discretetime systems"
	   ]
	},
{
		   "cell_type": "markdown",
		   "metadata": {},
		   "source": [
			"## Example 3.10: properties_of_a_system.sce"
		   ]
		  },
  {
"cell_type": "code",
	   "execution_count": null,
	   "metadata": {
	    "collapsed": true
	   },
	   "outputs": [],
"source": [
"//Example 3.10\n",
"clc\n",
"clear all\n",
"t=0:0.01:20;\n",
"function y=signal(x)\n",
"    y=x\n",
"endfunction\n",
"//Assume v(t) as ramp signal\n",
"v1=t;\n",
"v2=t+2;\n",
"//Assume R=1\n",
"i1=signal(v1)\n",
"i2=signal(v2)\n",
"a=2;\n",
"b=2;\n",
"subplot(4,2,1)\n",
"plot(t,a*v1)\n",
"xtitle('a*v1(t)','t in sec','a*v1(t)');\n",
"subplot(4,2,2)\n",
"plot(t,signal(a*v1))\n",
"xtitle('a*i1(t)','t in sec','a*i1(t)');\n",
"subplot(4,2,3)\n",
"plot(t,b*v2)\n",
"xtitle('b*v2(t)','t in sec','b*v2(t)');\n",
"subplot(4,2,4)\n",
"plot(t,signal(b*v2))\n",
"xtitle('b*i2(t)','t in sec','b*i2(t)');\n",
"c=(a*v1)+(b*v2);\n",
"subplot(4,2,5)\n",
"plot(t,c)\n",
"xtitle('v3(t)','t in sec','v3(t)');\n",
"subplot(4,2,6)\n",
"plot(t,signal(c))\n",
"xtitle('i3(t)','t in sec','i3(t)');\n",
"subplot(4,2,8)\n",
"plot(t,signal(a*v1)+signal(b*v2))\n",
"xtitle('LINEAR SYSTEM','t in sec','a*i1(t)+b*i2(t)');"
   ]
   }
,
{
		   "cell_type": "markdown",
		   "metadata": {},
		   "source": [
			"## Example 3.11: properties_of_a_system.sce"
		   ]
		  },
  {
"cell_type": "code",
	   "execution_count": null,
	   "metadata": {
	    "collapsed": true
	   },
	   "outputs": [],
"source": [
"//Example 3.11\n",
"clc\n",
"clear all\n",
"t=0:0.001:0.5;\n",
"function i=signal(v)\n",
"    i=exp(v);\n",
"endfunction\n",
"//Assume v(t) as ramp signal\n",
"x1=2*ones(1,length(t));\n",
"x2=t+2;\n",
"//Assume R=1\n",
"y1=signal(x1)\n",
"y2=signal(x2)\n",
"a=2;\n",
"b=2;\n",
"subplot(4,2,1)\n",
"plot(t,a*x1)\n",
"xtitle('a*x1(t)','t in sec','a*x1(t)');\n",
"subplot(4,2,2)\n",
"plot(t,signal(a*x1))\n",
"xtitle('a*y1(t)','t in sec','a*y1(t)');\n",
"subplot(4,2,3)\n",
"plot(t,b*x2)\n",
"xtitle('b*x2(t)','t in sec','b*x2(t)');\n",
"subplot(4,2,4)\n",
"plot(t,signal(b*x2))\n",
"xtitle('b*y2(t)','t in sec','b*y2(t)');\n",
"c=(a*x1)+(b*x2);\n",
"subplot(4,2,5)\n",
"plot(t,c)\n",
"xtitle('x3(t)','t in sec','x3(t)');\n",
"subplot(4,2,6)\n",
"plot(t,signal(c))\n",
"xtitle('y3(t)','t in sec','y3(t)');\n",
"subplot(4,2,8)\n",
"plot(t,signal(a*x1)+signal(b*x2))\n",
"xtitle('NON-LINEAR SYSTEM','t in sec','a*y1(t)+b*y2(t)');"
   ]
   }
,
{
		   "cell_type": "markdown",
		   "metadata": {},
		   "source": [
			"## Example 3.13: properties_of_a_system.sce"
		   ]
		  },
  {
"cell_type": "code",
	   "execution_count": null,
	   "metadata": {
	    "collapsed": true
	   },
	   "outputs": [],
"source": [
"//Example 3.13\n",
"clear;\n",
"clc;\n",
"x1 = [1,1,1,1];\n",
"x2 = [2,2,2,2];\n",
"a = 1;\n",
"b = 1;\n",
"for n = 1:length(x1)\n",
"  x3(n) = a*x1(n)+b*x2(n);\n",
"end\n",
"for n = 1:length(x1)\n",
"  y1(n) = x1(n)^2;\n",
"  y2(n) = x2(n)^2;\n",
"  y3(n) = x3(n)^2;\n",
"end\n",
"for n = 1:length(y1)\n",
"  z(n) = a*y1(n)+b*y2(n);\n",
"end\n",
"count = 0;\n",
"for n =1:length(y1)\n",
"  if(y3(n)== z(n))\n",
"    count = count+1;\n",
"  end\n",
"end\n",
"if(count == length(y3))\n",
"   disp('Since It satisifies the superposition principle')\n",
"   disp('The given system is a Linear system')\n",
"   y3\n",
"   z\n",
"  else\n",
"    disp('Since It does not satisify the superposition principle')\n",
"    disp('The given system is a Non-Linear system')\n",
"end"
   ]
   }
,
{
		   "cell_type": "markdown",
		   "metadata": {},
		   "source": [
			"## Example 3.14: properties_of_a_system.sce"
		   ]
		  },
  {
"cell_type": "code",
	   "execution_count": null,
	   "metadata": {
	    "collapsed": true
	   },
	   "outputs": [],
"source": [
"//Example 3.14\n",
"clear;\n",
"clc;\n",
"to = 2; //Assume the amount of time shift  =2\n",
"T=10;\n",
"t=0:0.1:T;\n",
"for i=1:length(t)\n",
"    if (t(i)>=0 & t(i)<1) \n",
"       x1(i) = t(i);\n",
"       x2(i)=0;\n",
"    elseif (t(i)>=1 & t(i)<2) then\n",
"        x1(i)=1;\n",
"        x2(i)=t(i)-1;\n",
"    elseif (t(i)>=2 & t(i)<3) then\n",
"        x1(i)=2;\n",
"        x2(i)=1;\n",
"    elseif (t(i)>=3 & t(i)<4)\n",
"        x1(i)=0;\n",
"        x2(i)=2;\n",
"    else\n",
"        x1(i)=0;\n",
"        x2(i)=0;\n",
"    end\n",
"y1(i) = 2*(x1(i));\n",
"y2(i)=2*x2(i);\n",
"end\n",
"figure(0);\n",
"subplot(2,1,1);\n",
"plot(t,x1);\n",
"xtitle('x1(t)','t','x1(t)');\n",
"subplot(2,1,2);\n",
"plot(t,y1);\n",
"xtitle('y1(t)=2*x1(t)','t','y1(t)');\n",
"figure(1);\n",
"subplot(2,1,1);\n",
"plot(t,x2);\n",
"xtitle('x2(t)','t','x2(t)');\n",
"subplot(2,1,2);\n",
"plot(t,y2);\n",
"xtitle('y2(t)=2*x2(t)=2*x1(t-1)=y1(t-1)','t','y2(t)');\n",
"//First shift the input signal only\n",
"Input_shift = 2*(x1(T-to));\n",
"Output_shift = y1(T-to);\n",
"if(Input_shift == Output_shift)\n",
"  disp('The given system is a Time In-variant system');\n",
"else\n",
"  disp('The given system is a Time Variant system');\n",
"end"
   ]
   }
,
{
		   "cell_type": "markdown",
		   "metadata": {},
		   "source": [
			"## Example 3.15: properties_of_a_system.sce"
		   ]
		  },
  {
"cell_type": "code",
	   "execution_count": null,
	   "metadata": {
	    "collapsed": true
	   },
	   "outputs": [],
"source": [
"//Example 3.15\n",
"clear;\n",
"clc;\n",
"to = 2; //Assume the amount of time shift  =2\n",
"T=10;\n",
"for t = 1:0.01:T\n",
"  x(t) = sin(t);\n",
"  y(t) = sin(2*t);\n",
"end\n",
"//First shift the input signal only\n",
"Input_shift = x(T-to);\n",
"Output_shift = y(T-to);\n",
"if(Input_shift == Output_shift)\n",
"  disp('The given system is a Time In-variant system');\n",
"else\n",
"  disp('The given system is a Time Variant system');\n",
"end"
   ]
   }
,
{
		   "cell_type": "markdown",
		   "metadata": {},
		   "source": [
			"## Example 3.16: properties_of_a_system.sce"
		   ]
		  },
  {
"cell_type": "code",
	   "execution_count": null,
	   "metadata": {
	    "collapsed": true
	   },
	   "outputs": [],
"source": [
"//Example 3.16\n",
"clear;\n",
"clc;\n",
"no = 2; //Assume the amount of time shift  =2\n",
"L = 10; //Length of given  signal\n",
"for n = 1:L\n",
"    x(n)=sin(n);\n",
"  end\n",
"  n=2;\n",
"  for i=1:L\n",
"      y(i)=x(n-1);\n",
"      n=n+1;\n",
"  end\n",
"//First shift the input signal only\n",
"Input_shift = x(L-no);\n",
"Output_shift = y(L-no);\n",
"if(Input_shift == Output_shift)\n",
"  disp('The given discrete system is a Time In-variant system');\n",
"else\n",
"  disp('The given discrete system is a Time Variant system');\n",
"end"
   ]
   }
,
{
		   "cell_type": "markdown",
		   "metadata": {},
		   "source": [
			"## Example 3.17: properties_of_a_system.sce"
		   ]
		  },
  {
"cell_type": "code",
	   "execution_count": null,
	   "metadata": {
	    "collapsed": true
	   },
	   "outputs": [],
"source": [
"//Example 3.17\n",
"clear;\n",
"clc;\n",
"no = 2; //Assume the amount of time shift  =2\n",
"L = 10; //Length of given  signal\n",
"for n = 1:L\n",
"    x(n)=sin(n);\n",
"    y(n)=-sin(n);\n",
"  end\n",
" \n",
"//First shift the input signal only\n",
"Input_shift = x(L-no);\n",
"Output_shift = y(L-no);\n",
"if(Input_shift == Output_shift)\n",
"  disp('The given discrete system is a Time In-variant system');\n",
"else\n",
"  disp('The given discrete system is a Time Variant system');\n",
"end"
   ]
   }
,
{
		   "cell_type": "markdown",
		   "metadata": {},
		   "source": [
			"## Example 3.18: properties_of_a_system.sce"
		   ]
		  },
  {
"cell_type": "code",
	   "execution_count": null,
	   "metadata": {
	    "collapsed": true
	   },
	   "outputs": [],
"source": [
"//Example 3.18\n",
"clc\n",
"clear\n",
"t=0:0.01:10;\n",
"for i=1:length(t)\n",
"    x(i)=sin(i);\n",
"    y(i)=2*x(i);\n",
"    z(i)=0.5*y(i);\n",
"end\n",
"if (x==z) then\n",
"    disp('The given system is invertible');\n",
"else\n",
"    disp('the Given system is non-invertible');\n",
"end"
   ]
   }
],
"metadata": {
		  "kernelspec": {
		   "display_name": "Scilab",
		   "language": "scilab",
		   "name": "scilab"
		  },
		  "language_info": {
		   "file_extension": ".sce",
		   "help_links": [
			{
			 "text": "MetaKernel Magics",
			 "url": "https://github.com/calysto/metakernel/blob/master/metakernel/magics/README.md"
			}
		   ],
		   "mimetype": "text/x-octave",
		   "name": "scilab",
		   "version": "0.7.1"
		  }
		 },
		 "nbformat": 4,
		 "nbformat_minor": 0
}
