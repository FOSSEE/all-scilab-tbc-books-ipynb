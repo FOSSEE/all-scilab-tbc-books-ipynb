{
"cells": [
 {
		   "cell_type": "markdown",
	   "metadata": {},
	   "source": [
       "# Chapter 2: Continuoustime and discretetime signals"
	   ]
	},
{
		   "cell_type": "markdown",
		   "metadata": {},
		   "source": [
			"## Example 2.1: Signal_Operations.sce"
		   ]
		  },
  {
"cell_type": "code",
	   "execution_count": null,
	   "metadata": {
	    "collapsed": true
	   },
	   "outputs": [],
"source": [
"//Example 2.1\n",
"clf\n",
"clear\n",
"clc\n",
"t=[-10:0.01:10];\n",
"for i=1:length(t)\n",
"    if t(i)>= -0.5 & t(i)<= 0.5 then\n",
"        x(i)=t(i)+0.5;\n",
"    elseif t(i)>0.5 & t(i)<=1.5 then\n",
"            x(i)=1.5-t(i);\n",
"        else\n",
"            x(i)=0;\n",
"        end\n",
"end\n",
"subplot(3,1,1);\n",
"plot2d(t,x,rect=[-4 0 4 2]);\n",
"xtitle('x(t) vs t','t in sec','x(t)');\n",
"subplot(3,1,2);\n",
"plot2d(t-1,x,rect=[-4 0 4 2]);\n",
"xtitle('x(t+1) vs t','t in sec','x(t+1)');\n",
"subplot(3,1,3);\n",
"plot2d(t+2,x,rect=[-4 0 4 2]);\n",
"xtitle('x(t-2) vs t','t in sec','x(t-2)');\n",
"xset('window',1);\n",
"subplot(3,1,1);\n",
"plot2d(-t,x,rect=[-4 0 4 2]);\n",
"xtitle('x(-t) vs t','t in sec','x(-t)');\n",
"subplot(3,1,2);\n",
"plot2d(t/2,x,rect=[-4 0 4 2]);\n",
"xtitle('x(2t) vs t','t in sec','x(2t)');\n",
"subplot(3,1,3);\n",
"plot2d(t*2,x,rect=[-4 0 4 2]);\n",
"xtitle('x(t/2) vs t','t in sec','x(t/2)');\n",
"xset('window',2);\n",
"subplot(3,1,1);\n",
"plot2d(-t-1,x,rect=[-4 0 4 2]);\n",
"xtitle('x(-t+1) vs t','t in sec','x(-t+1)');\n",
"subplot(3,1,2);\n",
"plot2d(-t+2,x,rect=[-4 0 4 2]);\n",
"xtitle('x(-t-2) vs t','t in sec','x(-t-2)');\n",
"subplot(3,1,3);\n",
"plot2d(-t/2,x,rect=[-4 0 4 2]);\n",
"xtitle('x(-2t) vs t','t in sec','x(-2t)');\n",
"xset('window',3);\n",
"subplot(3,1,1);\n",
"plot2d(-t*2,x,rect=[-4 0 4 2]);\n",
"xtitle('x(-t/2) vs t','t in sec','x(-t/2)');\n",
"subplot(3,1,2);\n",
"plot2d(-(t-1)/2,x,rect=[-4 0 4 2]);\n",
"xtitle('x(-2t+1) vs t','t in sec','x(-2t+1)');\n",
"subplot(3,1,3);\n",
"plot2d(-(t+2)/2,x,rect=[-4 0 4 2]);\n",
"xtitle('x(-2t-2) vs t','t in sec','x(-2t-2)');"
   ]
   }
,
{
		   "cell_type": "markdown",
		   "metadata": {},
		   "source": [
			"## Example 2.2: Signal_operations.sce"
		   ]
		  },
  {
"cell_type": "code",
	   "execution_count": null,
	   "metadata": {
	    "collapsed": true
	   },
	   "outputs": [],
"source": [
"//Example 2.2\n",
"clf\n",
"clear\n",
"clc\n",
"t=[-10:0.01:10];\n",
"for i=1:length(t)\n",
"    if t(i)>= -2 & t(i)<=4 then\n",
"        x(i)=(t(i)+2)/6;\n",
"        else\n",
"            x(i)=0;\n",
"        end\n",
"end\n",
"subplot(3,1,1);\n",
"plot2d(t,x,rect=[-10 0 10 2]);\n",
"xtitle('x(t) vs t','t in sec','x(t)');\n",
"subplot(3,1,2);\n",
"plot2d(t-1,x,rect=[-10 0 10 2]);\n",
"xtitle('x(t+1) vs t','t in sec','x(t+1)');\n",
"subplot(3,1,3);\n",
"plot2d(t+1,x,rect=[-10 0 10 2]);\n",
"xtitle('x(t-1) vs t','t in sec','x(t-1)');\n",
"xset('window',1);\n",
"subplot(3,1,1);\n",
"plot2d(t/2,x,rect=[-10 0 10 2]);\n",
"xtitle('x(2t) vs t','t in sec','x(2t)');\n",
"subplot(3,1,2);\n",
"plot2d(2*t,x,rect=[-10 0 10 2]);\n",
"xtitle('x(t/2) vs t','t in sec','x(t/2)');\n",
"subplot(3,1,3);\n",
"plot2d(-t/3,x,rect=[-10 0 10 2]);\n",
"xtitle('x(-3t) vs t','t in sec','x(-3t)');\n",
"xset('window',2);\n",
"subplot(3,1,1);\n",
"plot2d(-(t-3),x,rect=[-10 0 10 2]);\n",
"xtitle('x(3-t) vs t','t in sec','x(3-t)');\n",
"subplot(3,1,2);\n",
"plot2d(-(t-2)/2,x,rect=[-10 0 10 2]);\n",
"xtitle('x(-2t+2) vs t','t in sec','x(-2t+2)');"
   ]
   }
,
{
		   "cell_type": "markdown",
		   "metadata": {},
		   "source": [
			"## Example 2.3: Signal_operations.sce"
		   ]
		  },
  {
"cell_type": "code",
	   "execution_count": null,
	   "metadata": {
	    "collapsed": true
	   },
	   "outputs": [],
"source": [
"//Example 2.3\n",
"clear\n",
"clc\n",
"clf\n",
"n=-20:1:20;\n",
"x=[zeros(1,19),1,1,2,3,4,0.5, zeros(1,16)];\n",
"subplot(3,1,1);\n",
"plot(n,x,'.');\n",
"xtitle('x(n) vs n','n','x(n)');\n",
"subplot(3,1,2);\n",
"plot(n+3,x,'.');\n",
"xtitle('x(n-3) vs n','n','x(n-3)');\n",
"subplot(3,1,3);\n",
"plot(n-2,x,'.');\n",
"xtitle('x(n+2) vs n','n','x(n+2)');\n",
"figure(1)\n",
"subplot(3,1,1);\n",
"plot(-n,x,'.');\n",
"xtitle('x(-n) vs n','n','x(-n)');\n",
"subplot(3,1,2);\n",
"plot(-n+2,x,'.');\n",
"xtitle('x(-n+2) vs n','n','x(-n+2)');\n",
"subplot(3,1,3)\n",
"plot(-n-3,x,'.')\n",
"xtitle('x(-n-3) vs n','n','x(-n-3)');"
   ]
   }
],
"metadata": {
		  "kernelspec": {
		   "display_name": "Scilab",
		   "language": "scilab",
		   "name": "scilab"
		  },
		  "language_info": {
		   "file_extension": ".sce",
		   "help_links": [
			{
			 "text": "MetaKernel Magics",
			 "url": "https://github.com/calysto/metakernel/blob/master/metakernel/magics/README.md"
			}
		   ],
		   "mimetype": "text/x-octave",
		   "name": "scilab",
		   "version": "0.7.1"
		  }
		 },
		 "nbformat": 4,
		 "nbformat_minor": 0
}
