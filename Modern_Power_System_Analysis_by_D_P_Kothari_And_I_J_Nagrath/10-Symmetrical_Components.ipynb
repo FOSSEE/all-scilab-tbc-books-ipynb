{
"cells": [
 {
		   "cell_type": "markdown",
	   "metadata": {},
	   "source": [
       "# Chapter 10: Symmetrical Components"
	   ]
	},
{
		   "cell_type": "markdown",
		   "metadata": {},
		   "source": [
			"## Example 10.1: Symmetrical_components_of_line_currents_Calculation.sce"
		   ]
		  },
  {
"cell_type": "code",
	   "execution_count": null,
	   "metadata": {
	    "collapsed": true
	   },
	   "outputs": [],
"source": [
"//Chapter 10\n",
"//Example 10.1\n",
"//page 374\n",
"//To calculate symmetrical components of line currents\n",
"clear;clc;\n",
"Ia=10*(cosd(30)+%i*sind(30));\n",
"Ib=15*(cosd(-60)+%i*sind(-60));\n",
"// from KCL Ia+Ib+Ic=0\n",
"Ic=-(Ia+Ib);\n",
"//defining alpha(a)\n",
"a=cosd(120)+(%i*sind(120));\n",
"Ip=[Ia;Ib;Ic];\n",
"A=[1 1 1;a^2 a 1;a a^2 1];\n",
"IA=inv(A)*Ip;\n",
"IB=diag([a^2,a,1])*IA;\n",
"IC=diag([a,a^2,1])*IA;\n",
"function [r,theta]=phasorform(x)\n",
"    r=abs(x);\n",
"    theta=atand(imag(x),real(x));\n",
"endfunction\n",
"[IAr,IAth]=phasorform(IA);\n",
"[IBr,IBth]=phasorform(IB);\n",
"[ICr,ICth]=phasorform(IC);\n",
"//to display the results of symettrical components of line currents\n",
"printf('\n\nIA1=%0.2f @ %d deg A',IAr(1,1),IAth(1,1));\n",
"printf('\nIA2=%0.2f @ %d deg A',IAr(2,1),IAth(2,1));\n",
"printf('\nIA0=%0.2f A',IAr(3,1));\n",
"printf('\n\nIB1=%0.2f @ %d deg A',IBr(1,1),IBth(1,1));\n",
"printf('\nIB2=%0.2f @ %d deg A',IBr(2,1),IBth(2,1));\n",
"printf('\nIB0=%0.2f A',IBr(3,1));\n",
"printf('\n\nIC1=%0.2f @ %d deg A',ICr(1,1),ICth(1,1));\n",
"printf('\nIC2=%0.2f @ %d deg A',ICr(2,1),ICth(2,1));\n",
"printf('\nIC0=%0.2f A',ICr(3,1));\n",
"//to calculate Delta currents\n",
"IAB=(Ia-Ib)/3;\n",
"IBC=(Ib-Ic)/3;\n",
"ICA=(Ic-Ia)/3;\n",
"//to get the results in phasor notation\n",
"[IABr,IABth]=phasorform(IAB);\n",
"[IBCr,IBCth]=phasorform(IBC);\n",
"[ICAr,ICAth]=phasorform(ICA);\n",
"printf('\n\nIAB=%0.2f @ %d deg A',IABr,IABth);\n",
"printf('\nIBC=%0.2f @ %d deg A',IBCr,IBCth);\n",
"printf('\nICA=%0.2f @ %d deg A',ICAr,ICAth);\n",
"//to calculte the symmetrical components of delta currents by reusing the variable Ip\n",
"Ip=[IAB;IBC;ICA];\n",
"IAB=inv(A)*Ip;\n",
"IBC=diag([a^2,a,1])*IAB;\n",
"ICA=diag([a,a^2,1])*IAB;\n",
"[IABr,IABth]=phasorform(IAB);\n",
"[IBCr,IBCth]=phasorform(IBC);\n",
"[ICAr,ICAth]=phasorform(ICA);\n",
"//to display the results of symmetrical components of Delta currents\n",
"printf('\n\nIAB1=%0.2f @ %d deg A',IABr(1,1),IABth(1,1));\n",
"printf('\nIAB2=%0.2f @ %d deg A',IABr(2,1),IABth(2,1));\n",
"printf('\nIAB0=%0.2f A',IABr(3,1));\n",
"printf('\n\nIBC1=%0.2f @ %d deg A',IBCr(1,1),IBCth(1,1));\n",
"printf('\nIBC2=%0.2f @ %d deg A',IBCr(2,1),IBCth(2,1));\n",
"printf('\nIBC0=%0.2f A',IBCr(3,1));\n",
"printf('\n\nICA1=%0.2f @ %d deg A',ICAr(1,1),ICAth(1,1));\n",
"printf('\nICA2=%0.2f @ %d deg A',ICAr(2,1),ICAth(2,1));\n",
"printf('\nICA0=%0.2f A\n\n',ICAr(3,1));"
   ]
   }
,
{
		   "cell_type": "markdown",
		   "metadata": {},
		   "source": [
			"## Example 10.2: Sequence_Network_of_the_System.sce"
		   ]
		  },
  {
"cell_type": "code",
	   "execution_count": null,
	   "metadata": {
	    "collapsed": true
	   },
	   "outputs": [],
"source": [
"//Chapter 10\n",
"//Example 10.2\n",
"//page no 390\n",
"//To draw sequence networks of the system\n",
"clear;clc;\n",
"//selecting generator rating as base in generator circuit\n",
"mvab=25;\n",
"kvGb=11;  //base voltage for generator\n",
"kvTLb=kvGb*(121/10.8); //base voltage for TL\n",
"kvMb=kvTLb*(10.8/121); //base voltage for motors\n",
"xG=%i*0.2;\n",
"xT=%i*0.1;\n",
"xTL=100;\n",
"xM=%i*0.25;\n",
"mvaG=25;\n",
"mvaT=30;\n",
"mvaM1=15;\n",
"mvaM2=7.5;\n",
"kvM=10;\n",
"//converting all the reactances to PUs\n",
"xT=xT*(mvab/mvaT)*(10.8/kvGb)^2;\n",
"xTL=xTL*(mvab/(kvTLb)^2);\n",
"xM1=xM*(mvab/mvaM1)*(kvM/kvMb)^2;\n",
"xM2=xM*(mvab/mvaM2)*(kvM/kvMb)^2;\n",
"//displaying the results\n",
"printf('\n\nTransmission line voltage base = %0.1f kV',kvTLb);\n",
"printf('\n\Motor voltage base = %d kV',kvMb);\n",
"printf('\n\nTransformer reactance = %0.4f pu',abs(imag(xT)));\n",
"printf('\nLine reactance = %0.3f pu',abs(xTL));\n",
"printf('\nReactance of motor 1 = %0.3f pu',abs(imag(xM1)));\n",
"printf('\nReactance of motor 2 = %0.3f pu\n\n',abs(imag(xM2)));\n",
"disp('Positive and Negative sequence diagram has been drawn using XCOS,simulation has not been done as it is not being asked in the problem');"
   ]
   }
,
{
		   "cell_type": "markdown",
		   "metadata": {},
		   "source": [
			"## Example 10.3: Zero_sequence_Network.sce"
		   ]
		  },
  {
"cell_type": "code",
	   "execution_count": null,
	   "metadata": {
	    "collapsed": true
	   },
	   "outputs": [],
"source": [
"//Chapter 10\n",
"//Example 10.3\n",
"//page no 392\n",
"//To draw the zero sequence networks of the system\n",
"clear;clc;\n",
"disp('Zero sequence diagram has been drawn using XCOS,simulation has not been done as it is not being asked in the problem');"
   ]
   }
,
{
		   "cell_type": "markdown",
		   "metadata": {},
		   "source": [
			"## Example 10.4: Zero_Sequence_Network.sce"
		   ]
		  },
  {
"cell_type": "code",
	   "execution_count": null,
	   "metadata": {
	    "collapsed": true
	   },
	   "outputs": [],
"source": [
"//Chapter 10\n",
"//Example 10.4\n",
"//page no 392\n",
"//To draw the zero sequence networks of the system given in example 10.2\n",
"clear;clc;\n",
"//selecting generator rating as base in generator circuit\n",
"mvab=25;\n",
"kvGb=11;  //base voltage for generator\n",
"kvTLb=kvGb*(121/10.8); //base voltage for TL\n",
"kvMb=kvTLb*(10.8/121); //base voltage for motors\n",
"//Calculation of zero sequence reactance\n",
"xT0=0.0805; //zero sequence reactance of transformer\n",
"xG0=0.06; //zero sequence reactance of generator\n",
"//zero sequence reactanc eof motors\n",
"xM1_0=0.06*(mvab/15)*(10/kvMb)^2; \n",
"xM2_0=0.06*(mvab/7.5)*(10/kvMb)^2;\n",
"x_clr_0=3*2.5*(mvab/kvGb^2); // Reactance of current limiting reactors to be icluded in the zero sequence network\n",
"x_TL_0=300*(mvab/kvTLb^2); //Zero sequence reactance of TL\n",
"printf('\n\nTransformer zero sequence reactance = %0.4f pu',xT0);\n",
"printf('\nGenerator zero sequence reactances = %0.2f pu',xG0);\n",
"printf('\nZero sequence reactance of motor 1 = %0.3f pu',xM1_0);\n",
"printf('\nZero sequence reactance of motor 2 = %0.3f pu',xM2_0);\n",
"printf('\nReactance of current limiting reactors = %0.3f pu',x_clr_0);\n",
"printf('\nZero sequence reactance of transmission line = %0.3f pu\n\n',x_TL_0);\n",
"disp('Zero sequence diagram has been drawn using XCOS,simulation has not been done as it is not being asked in the problem');"
   ]
   }
],
"metadata": {
		  "kernelspec": {
		   "display_name": "Scilab",
		   "language": "scilab",
		   "name": "scilab"
		  },
		  "language_info": {
		   "file_extension": ".sce",
		   "help_links": [
			{
			 "text": "MetaKernel Magics",
			 "url": "https://github.com/calysto/metakernel/blob/master/metakernel/magics/README.md"
			}
		   ],
		   "mimetype": "text/x-octave",
		   "name": "scilab",
		   "version": "0.7.1"
		  }
		 },
		 "nbformat": 4,
		 "nbformat_minor": 0
}
