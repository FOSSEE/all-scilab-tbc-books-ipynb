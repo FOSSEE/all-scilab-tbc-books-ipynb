{
"cells": [
 {
		   "cell_type": "markdown",
	   "metadata": {},
	   "source": [
       "# Chapter 5: Characteristics and Performance of Power Transmission Lines"
	   ]
	},
{
		   "cell_type": "markdown",
		   "metadata": {},
		   "source": [
			"## Example 5.10: MVA_rating_of_the_shunt_reactor.sce"
		   ]
		  },
  {
"cell_type": "code",
	   "execution_count": null,
	   "metadata": {
	    "collapsed": true
	   },
	   "outputs": [],
"source": [
"//Chapter 5\n",
"//Example 5.10\n",
"//page 170\n",
"//To determine the MVA rating of the shunt reactor\n",
"clear;clc;\n",
"v=275;\n",
"l=400;\n",
"R=0.035*l;\n",
"X=2*%pi*50*1.1*l*10^-3;\n",
"Z=R+%i*X;\n",
"Y=2*%pi*50*0.012*10^-6*l*%i;\n",
"A=1+(Y*Z/2);\n",
"B=Z;\n",
"Vs=275;\n",
"Vr=275;\n",
"r=(Vs*Vr)/abs(B);\n",
"Ce=abs(A/B)*Vr^2;\n",
"printf('Radius of the receiving-end circle=%0.1f MVA\n\n',r);\n",
"printf('Location of the center of receiving-end circle= %0.1f MVA\n\n',Ce);\n",
"printf('From the graph, 55 MVA shunt reactor is required\n\n');\n",
"theta=180+82.5;\n",
"x=-75:0.01:450;\n",
"a=Ce*cosd(theta); //to draw the circle\n",
"b=Ce*sind(theta); \n",
"y=sqrt(r^2-(x-a)^2)+b;\n",
"x1=a:0.001:0;\n",
"y1=tand(theta)*x1;\n",
"plot(x,y,x1,y1);\n",
"title('Circle diagram for example 5.10');\n",
"xlabel('MW');\n",
"ylabel('MVAR');\n",
"plot(a,b,'markersize',150);\n",
"xgrid(2)\n",
"set(gca(),'grid',[0,0])\n",
"get('current_axes');\n",
"xstring (-75,25,'55 MVAR');\n",
"xstring(-75,-25,'83.5 deg');\n",
"xstring(-20,-300,'487.6 MVA');\n",
"xstring(300,-100,'544.3 MVA');"
   ]
   }
,
{
		   "cell_type": "markdown",
		   "metadata": {},
		   "source": [
			"## Example 5.11: SendingEnd_voltage_and_maximum_power_delivered.sce"
		   ]
		  },
  {
"cell_type": "code",
	   "execution_count": null,
	   "metadata": {
	    "collapsed": true
	   },
	   "outputs": [],
"source": [
"//Chapter 5\n",
"//Example 5.11\n",
"//page 172\n",
"//To determine sending-end voltage.maximum power delivered\n",
"clear;clc;\n",
"A=0.93*(cosd(1.5)+%i*sind(1.5));\n",
"B=115*(cosd(77)+%i*sind(77));\n",
"Vr=275;\n",
"Ce=abs(A/B)*Vr^2;\n",
"printf('Centre of the receiving end circle is = %0.1f MVA\n\n',Ce);\n",
"CrP=850;Vs=CrP*abs(B)/Vr;\n",
"printf('(a) From the diagram,\n\tCrP=%d \n \tSending end voltage|Vs|= %0.1f kV\n\n',CrP,Vs);\n",
"Vs=295; //given\n",
"r=(Vs*Vr)/abs(B);\n",
"Pr_m=556; //from the diagram\n",
"printf('(b) Radius of the circle diagram = %0.1f MVA\n\t PR_max=%d MW\n\n',r,Pr_m);\n",
"Ps=295; //from the diagram;\n",
"printf('(c) Additional MVA to be drawn from the line is = P''S=%d MVAR\n\n',Ps);"
   ]
   }
,
{
		   "cell_type": "markdown",
		   "metadata": {},
		   "source": [
			"## Example 5.1: SendingEnd_voltage_and_voltage_regulation.sce"
		   ]
		  },
  {
"cell_type": "code",
	   "execution_count": null,
	   "metadata": {
	    "collapsed": true
	   },
	   "outputs": [],
"source": [
"//Chapter 5\n",
"//Example 5.1\n",
"//page 132\n",
"//To find sending-end voltage and voltage regulation\n",
"clc;clear;\n",
"load1=5000; //kW\n",
"pf=0.707;\n",
"Vr=10000; //receiving end voltage\n",
"R=0.0195*20;\n",
"X=2*%pi*50*0.63*10^-3*20;\n",
"//to find sending end voltage and voltage regulation\n",
"I=load1*1000/(Vr*pf);\n",
"Vs=Vr+I*(R*pf+X*sin(acos(pf)));\n",
"voltage_regulation=(Vs-Vr)*100/Vr;\n",
"printf('\n\nReceiving current =I=%d A\n',I);\n",
"printf('Sending end voltage =Vs=%d V\n',Vs);\n",
"printf('Voltage Regulation=%0.2f %%',voltage_regulation);\n",
"//to find the value of the capacitor to be connected in parallel to the load\n",
"voltage_regulation_desi=voltage_regulation/2;\n",
"Vs=(voltage_regulation_desi/100)*Vr+Vr;\n",
"//by solving the equations (i) and (ii)\n",
"pf=0.911;\n",
"Ir=549;\n",
"Ic=(Ir*(pf-%i*sin(acos(pf))))-(707*(0.707-%i*0.707));\n",
"Xc=(Vr/imag(Ic));\n",
"c=(2*%pi*50*Xc)^-1;\n",
"printf('\n\nCapacitance to be connected across the load so as to reduce voltage regulation by half of the above voltage regulation is given by :\n C = %d uF\n',c*10^6);\n",
"//to find efficiency in both the cases\n",
"//case(i)\n",
"losses=I*I*R*10^-3;\n",
"n=(load1/(load1+losses))*100;\n",
"printf('\n Efficiency in : \nCase(i) \t n=%0.1f%%',n);\n",
"//caase(ii)\n",
"losses=Ir*Ir*R*10^-3;\n",
"n=(load1/(load1+losses))*100;\n",
"printf('\nCase(ii) \t n=%0.1f%%',n);"
   ]
   }
,
{
		   "cell_type": "markdown",
		   "metadata": {},
		   "source": [
			"## Example 5.2: Voltage_at_the_power_station_end.sce"
		   ]
		  },
  {
"cell_type": "code",
	   "execution_count": null,
	   "metadata": {
	    "collapsed": true
	   },
	   "outputs": [],
"source": [
"//Chapter 5\n",
"//Example 5.2\n",
"//page 134\n",
"//To find voltage at the bus at the power station end\n",
"clc;clear;\n",
"base_MVA=5;\n",
"base_kV=33;\n",
"pf=0.85;\n",
"cable_impedance=(8+%i*2.5);\n",
"cable_impedance=cable_impedance*base_MVA/(base_kV^2);\n",
"transf_imp_star=(0.06+%i*0.36)/3; //equivalent star impedance of winding of the transformer\n",
"Zt=(transf_imp_star*5/(6.6^2))+((0.5+%i*3.75)*5/(33^2));\n",
"total=cable_impedance+2*Zt;\n",
"load_MVA=1;\n",
"load_voltage=6/6.6;\n",
"load_current=1/load_voltage;\n",
"Vs=load_voltage+load_current*(real(total)*pf+imag(total)*sin(acos(pf)));\n",
"Vs=Vs*6.6;\n",
"printf('\n\nCable impedance= (%0.3f+j%0.4f) pu\n',real(cable_impedance),imag(cable_impedance));\n",
"printf('\nEquivalent star impedance of 6.6kV winding of the transformer =(%0.2f+j%0.2f) pu\n',real(transf_imp_star),imag(transf_imp_star));\n",
"printf('\nPer unit transformer impedance,Zt=(%0.4f+j%0.3f) pu\n',real(Zt),imag(Zt));\n",
"printf('\nTotal series impedance=(%0.3f+j%0.3f) pu\n',real(total),imag(total));\n",
"printf('\nSending end Voltage =|Vs|=%0.2fkV (line-to-line)',Vs);"
   ]
   }
,
{
		   "cell_type": "markdown",
		   "metadata": {},
		   "source": [
			"## Example 5.3: Problem_with_mixed_end_condition.sce"
		   ]
		  },
  {
"cell_type": "code",
	   "execution_count": null,
	   "metadata": {
	    "collapsed": true
	   },
	   "outputs": [],
"source": [
"//Chapter 5\n",
"//Example 5.3\n",
"//page 135\n",
"//problem with mixed end condition\n",
"clc;clear;\n",
"Vr=3000; //receiving end voltage\n",
"pfs=0.8; //sending end power factor\n",
"Ps=2000*10^3; //sending end active power\n",
"z=0.4+%i*0.4; //series impedance\n",
"Ss=Ps/pfs; //sending end VA \n",
"Qs=Ss*sqrt(1-pfs^2); //sending end reacive power\n",
"//by substituting all the values to the equation (iii)\n",
"deff('[y]=fx(I)','y=(Vr^2)*(I^2)+2*Vr*(I^2)*(real(z)*((Ps-real(z)*(I^2))/Vr)+imag(z)*((Qs-imag(z)*(I^2))/Vr))+(abs(z))^2*(I^4)-(Ss^2)');\n",
"I=fsolve(100,fx);\n",
"pfR=(Ps-real(z)*(I^2))/(Vr*I); //Cos(phi_r)\n",
"Pr=Vr*I*pfR;\n",
"Vs=(Ps/(I*pfs));\n",
"printf('\nLoad Current |I|= %0.2f A',I);\n",
"printf('\nLoad Pr=%d W',Pr);\n",
"printf('\nReceiving end power factor=%0.2f',pfR);\n",
"printf('\nSupply Voltage=%0.2fV',Vs);"
   ]
   }
,
{
		   "cell_type": "markdown",
		   "metadata": {},
		   "source": [
			"## Example 5.4: Medium_Transmission_line_system.sce"
		   ]
		  },
  {
"cell_type": "code",
	   "execution_count": null,
	   "metadata": {
	    "collapsed": true
	   },
	   "outputs": [],
"source": [
"//Chapter 5\n",
"//Example 5.4\n",
"//page 138\n",
"//to find sending end voltage and voltage regulation of a medium transmission line system\n",
"clear;clc;\n",
"D=300;\n",
"r=0.8;\n",
"L=0.461*log10(D/(0.7788*r));\n",
"C=0.0242/(log10(D/r));\n",
"R=0.11*250;\n",
"X=2*%pi*50*L*0.001*250;\n",
"Z=R+%i*X;\n",
"Y=%i*2*%pi*50*C*0.000001*250;\n",
"Ir=((25*1000)/(132*sqrt(3)))*(cosd(-36.9)+%i*sind(-36.9));\n",
"Vr=(132/sqrt(3));\n",
"A=(1+(Y*Z/2));\n",
"Vs=A*Vr+Z*Ir*10^(-3);\n",
"printf('\n\nVs(per phase)=(%0.2f+%0.2f)kV',real(Vs),imag(Vs));\n",
"Vs=abs(Vs)*sqrt(3);\n",
"printf('\n\n|Vs|(line)=%d kV',Vs);\n",
"Vr0=Vs/abs(A);\n",
"printf('\n\n|Vr0|(line no load)=%0.1fkV',Vr0);\n",
"Vol_regu=(Vr0-132)/132;\n",
"printf('\n\nVoltage Regulation=%0.1f%%\n\n',Vol_regu*100);"
   ]
   }
,
{
		   "cell_type": "markdown",
		   "metadata": {},
		   "source": [
			"## Example 5.5: Maximum_permissible_length_and_and_Frequency.sce"
		   ]
		  },
  {
"cell_type": "code",
	   "execution_count": null,
	   "metadata": {
	    "collapsed": true
	   },
	   "outputs": [],
"source": [
"//Chapter 5\n",
"//Example 5.5\n",
"//page 147\n",
"//to find maximum permissible length and and frequency\n",
"clc;clear;\n",
"R=0.125*400;\n",
"X=0.4*400;\n",
"Y=2.8*(10^-6)*400*%i;\n",
"Z=R+X*%i;\n",
"//(i) At no-load\n",
"A=1+(Y*Z/2);\n",
"C=Y*(1+Y*Z/6);\n",
"VR_line=220000/abs(A);\n",
"Is=abs(C)*VR_line/sqrt(3);\n",
"printf('\n\n |VR|line = %d kV',VR_line/1000);\n",
"printf('\n |Is| = %d A',Is);\n",
"//(ii) to find maximum permissible length\n",
"//By solving the equations shown in the book,we get\n",
"l=sqrt((1-0.936)/(0.56*10^(-6)));\n",
"printf('\n\n Maximum permissible length of the line = %d km',l);\n",
"//(iii) to find maximum permissible frequency for the case(i)\n",
"//By solving the equations shown in the book,we get\n",
"f=sqrt(((1-0.88)*50*50)/(0.5*1.12*10^-3*160));\n",
"printf('\n\n Maximum permissible frequency = %0.1f Hz\n\n',f);"
   ]
   }
,
{
		   "cell_type": "markdown",
		   "metadata": {},
		   "source": [
			"## Example 5.6: Incident_and_Reflected_voltages.sce"
		   ]
		  },
  {
"cell_type": "code",
	   "execution_count": null,
	   "metadata": {
	    "collapsed": true
	   },
	   "outputs": [],
"source": [
"//Chapter 5\n",
"//Example 5.6\n",
"//page 149\n",
"//to find incident and reflected voltages\n",
"clear;clc;\n",
"R=0.125;\n",
"X=0.4;\n",
"y=%i*2.8*10^(-6);\n",
"z=R+%i*X;\n",
"r=sqrt(y*z); //propogation constant\n",
"a=real(r); //attenuation constant\n",
"b=imag(r); //phase constant\n",
"//(a) At the receiving-end;\n",
"Vr=220000;\n",
"Inci_vol=Vr/(sqrt(3)*2);\n",
"Refl_vol=Vr/(sqrt(3)*2);\n",
"printf('\n\nIncident Vvoltage=%0.2f kV',Inci_vol/1000);\n",
"printf('\nReflected Vvoltage=%0.2f kV',Refl_vol/1000);\n",
"//(b) At 200km from the receiving-end\n",
"x=200;\n",
"Inci_vol=Inci_vol*exp(a*x)*exp(%i*b*x);\n",
"Refl_vol=Refl_vol*exp(-a*x)*exp(-%i*b*x);\n",
"printf('\n\nIncident voltage=%0.2f @ %0.1f deg kV',abs(Inci_vol)/1000,atand(imag(Inci_vol)/real(Inci_vol)));\n",
"printf('\nReflected voltage=%0.2f @ %0.1f deg kV',abs(Refl_vol)/1000,atand(imag(Refl_vol)/real(Refl_vol)));\n",
"//(c) Resultant voltage at 200km from the receiving-end\n",
"res=Inci_vol+Refl_vol;\n",
"printf('\n\nResultant line-to-line voltage at 200km =%0.2f kV',abs(res)*sqrt(3)/1000);"
   ]
   }
,
{
		   "cell_type": "markdown",
		   "metadata": {},
		   "source": [
			"## Example 5.7: Tabulate_characteristics_using_different_methods.sce"
		   ]
		  },
  {
"cell_type": "code",
	   "execution_count": null,
	   "metadata": {
	    "collapsed": true
	   },
	   "outputs": [],
"source": [
"//Chapter 5\n",
"//Example 5.7\n",
"//page 138\n",
"//to tabulate characteristics of a system using different methods\n",
"clear;clc;\n",
"Z=40+125*%i;\n",
"Y=%i*10^(-3);\n",
"Ir=((50*10^6)/(220000*0.8*sqrt(3)))*(cosd(-36.9)+%i*sind(-36.9));\n",
"Vr=220000/sqrt(3);\n",
"//(a) Short line approximation\n",
"Vs=Vr+Ir*Z;\n",
"Vs_line1=Vs*sqrt(3);\n",
"Is1=Ir;\n",
"pfs1=cos(atan(imag(Vs)/real(Vs))+acos(0.8));\n",
"Ps1=sqrt(3)*abs(Vs_line1)*abs(Is1)*pfs1;\n",
"//(b) Nominal pi method\n",
"A=1+Y*Z/2;\n",
"D=A;\n",
"B=Z;\n",
"C=Y*(1+Y*Z/4);\n",
"Vs=A*Vr+B*Ir;\n",
"Is2=C*Vr+D*Ir;\n",
"Vs_line2=sqrt(3)*Vs;\n",
"pfs2=cos(atan(imag(Is2)/real(Is2))-atan(imag(Vs)/real(Vs)));\n",
"Ps2=sqrt(3)*abs(Vs_line2)*abs(Is2)*pfs2;\n",
"//(c) Exact transmission line equations\n",
"rl=sqrt(Z*Y); //propogation constant\n",
"Zc=sqrt(Z/Y); //characteristic impedance\n",
"A=cosh(rl);\n",
"B=Zc*sinh(rl);\n",
"C=sinh(rl)/Zc;\n",
"D=cosh(rl);\n",
"Vs=A*Vr+B*Ir;\n",
"Is3=C*Vr+D*Ir;\n",
"Vs_line3=sqrt(3)*Vs;\n",
"pfs3=cos(atan(imag(Is3)/real(Is3))-atan(imag(Vs)/real(Vs)));\n",
"Ps3=sqrt(3)*abs(Vs_line3)*abs(Is3)*pfs3;\n",
"//(d) Approximation\n",
"A=(1+Y*Z/2);\n",
"B=Z*(1+Y*Z/6);\n",
"C=Y*(1+Y*Z/6);\n",
"D=A;\n",
"Vs=A*Vr+B*Ir;\n",
"Is4=C*Vr+D*Ir;\n",
"Vs_line4=sqrt(3)*Vs;\n",
"pfs4=cos(atan(imag(Is4)/real(Is4))-atan(imag(Vs)/real(Vs)));\n",
"Ps4=sqrt(3)*abs(Vs_line4)*abs(Is4)*pfs4;\n",
"//converting all the values to their standard form before writing it to table\n",
"//voltage to kV\n",
"Vs_line1=abs(Vs_line1)/1000;\n",
"Vs_line2=abs(Vs_line2)/1000;\n",
"Vs_line3=abs(Vs_line3)/1000;\n",
"Vs_line4=abs(Vs_line4)/1000;\n",
"//Current to kA\n",
"Is1=Is1/1000;\n",
"Is2=Is2/1000;\n",
"Is3=Is3/1000;\n",
"Is4=Is4/1000;\n",
"//power to MW5\n",
"Ps1=Ps1/1000000;\n",
"Ps2=Ps2/1000000;\n",
"Ps3=Ps3/1000000;\n",
"Ps4=Ps4/1000000;\n",
"//preparinf table\n",
"printf('\n\n_______________________________________________________________________________________________________________________');\n",
"printf('\n        \t\tShort line \t\t       Nominal Pi \t\t Exact     \t\t Approximation');\n",
"printf('\n_______________________________________________________________________________________________________________________');\n",
"printf('\n|Vs|line\t\t%0.2fkV        \t\t %0.2fkV\t\t %0.2fkV \t\t %0.2fkV',Vs_line1,Vs_line2,Vs_line3,Vs_line4);\n",
"printf('\nIs      \t\t%0.3f@%0.1fdeg kA \t\t%0.2f@%0.1fdeg kA\t\t%0.4f@%0.1fdeg kA\t%0.2f@%0.1fdeg kA',abs(Is1),tand(imag(Is1)/real(Is1)),abs(Is2),tand(imag(Is2)/real(Is2)),abs(Is3),tand(imag(Is3)/real(Is3)),abs(Is4),tand(imag(Is4)/real(Is4)));\n",
"printf('\npfs     \t\t%0.3f lagging       \t\t%0.3f leading \t\t%0.3f leading \t\t%0.3f leading',pfs1,pfs2,pfs3,pfs4);\n",
"printf('\nPs      \t\t%0.2f MW          \t\t%0.2f MW \t\t%0.2f MW \t\t%0.2f MW',Ps1,Ps2,Ps3,Ps4);\n",
"printf('\n_______________________________________________________________________________________________________________________\n\n\n');"
   ]
   }
,
{
		   "cell_type": "markdown",
		   "metadata": {},
		   "source": [
			"## Example 5.8: Torque_angle_and_Station_powerfactor.sce"
		   ]
		  },
  {
"cell_type": "code",
	   "execution_count": null,
	   "metadata": {
	    "collapsed": true
	   },
	   "outputs": [],
"source": [
"//Chapter 5\n",
"//Example 5.8\n",
"//page 162\n",
"//to estimate the torque angle and station powerfactor\n",
"clear;clc;\n",
"Sd1=15+%i*5;\n",
"Sd2=25+%i*15;\n",
"//case(a) cable impedance=j0.05pu\n",
"r=0;\n",
"x=%i*0.05;\n",
"PG1=20;\n",
"PG2=20;\n",
"Ps=5;Pr=5;\n",
"V1=1;\n",
"V2=1;\n",
"d1=asind(Ps*abs(x)/(V1*V2)); //delta1\n",
"V1=V1*(cosd(d1)+%i*sind(d1));\n",
"Qs=((abs(V1)^2)/abs(x))-((abs(V1)*abs(V2))*cosd(d1)/(abs(x)));\n",
"Qr=(((abs(V1)*abs(V2))*cosd(d1)/(abs(x)))-(abs(V1)^2)/abs(x));\n",
"Ql=Qs-Qr;\n",
"Ss=Ps+%i*Qs;\n",
"Sr=Pr+%i*Qr;\n",
"Sg1=Sd1+Ss;\n",
"Sg2=Sd2-Sr;\n",
"pf1=cos(atan(imag(Sg1)/real(Sg1)));\n",
"pf2=cos(atan(imag(Sg2)/real(Sg2)));\n",
"printf('\n\nCase(a)\nTotal load on station1=%d+j%0.3f pu',real(Sg1),imag(Sg1));\n",
"printf('\nPower factor of station1=%0.3f pu lagging',pf1);\n",
"printf('\n\Total load on station2=%d+j%0.3f pu',real(Sg2),imag(Sg2));\n",
"printf('\nPower factor of station2=%0.3f pu lagging',pf2);\n",
"//case(b) cable impedance=0.005+j0.05;\n",
"r=0.005;\n",
"PG1=20;\n",
"V1=1;V2=1;\n",
"Ps=5;\n",
"//from the eq(i) in the textbook,we can calculate d1\n",
"z=r+x;\n",
"theta=atand(imag(z)/real(z));\n",
"z=abs(z);\n",
"d1=acosd(z*(V1^2*cosd(theta)/z-Ps)/(V1*V2))-theta;\n",
"Qs=(V1^2*sind(theta)/z)-(V1*V2*sind(theta+d1)/z);\n",
"Qg1=5+Qs;\n",
"Pr=(V1*V2*cosd(theta-d1)/z)-(V1^2*cosd(theta)/z);\n",
"Pg2=25-Pr;\n",
"Qr=(V1*V2*sind(theta-d1)/z)-(V1^2*sind(theta)/z);\n",
"Qg2=15-Qr;\n",
"Ss=Ps+%i*Qs;\n",
"Sr=Pr+%i*Qr;\n",
"Sg1=Sd1+Ss;\n",
"Sg2=Sd2-Sr;\n",
"pf1=cos(atan(imag(Sg1)/real(Sg1)));\n",
"pf2=cos(atan(imag(Sg2)/real(Sg2)));\n",
"printf('\n\nCase(b)\nTotal load on station1=%d+j%0.3f pu',real(Sg1),imag(Sg1));\n",
"printf('\nPower factor of station1=%0.3f pu lagging',pf1);\n",
"printf('\n\Total load on station2=%d+j%0.3f pu',real(Sg2),imag(Sg2));\n",
"printf('\nPower factor of station2=%0.3f pu lagging\n\n',pf2);"
   ]
   }
,
{
		   "cell_type": "markdown",
		   "metadata": {},
		   "source": [
			"## Example 5.9: Power_Voltage_and_Compensating_equipment_rating.sce"
		   ]
		  },
  {
"cell_type": "code",
	   "execution_count": null,
	   "metadata": {
	    "collapsed": true
	   },
	   "outputs": [],
"source": [
"//Chapter 5\n",
"//Example 5.9\n",
"//page 165\n",
"//to determine power,voltage,compensating equipment rating\n",
"clear;clc;\n",
"A=0.85;\n",
"B=200;\n",
"//case(a)\n",
"Vs=275000;\n",
"Vr=275000;\n",
"a=5;b=75; //alpha and beta\n",
"Qr=0;\n",
"//from equation 5.62\n",
"d=b-asind((B/(Vs*Vr))*(Qr+(A*Vr^2*sind(b-a)/B))); //delta\n",
"Pr=(Vs*Vr*cosd(b-d)/B)-(A*Vr^2*cosd(b-a)/B);\n",
"printf('\n\ncase(a)\nPower at unity powerfactor that can be received =%0.1f MW',Pr/10^6);\n",
"//case(b)\n",
"Pr=150*10^6;\n",
"d=b-acosd((B/(Vs*Vr))*(Pr+(A*Vr^2*cosd(b-a)/B))); //delta\n",
"Qr=(Vs*Vr*sind(b-d)/B)-(A*Vr^2*sind(b-a)/B);\n",
"Qc=-Qr;\n",
"printf('\n\ncase(b)\nRating of the compensating equipment = %0.2f MVAR',Qc/10^6);\n",
"printf('\ni.e the compensating equipment must feed positive VARs into the line');\n",
"//case(c)\n",
"Pr=150*10^6;\n",
"Vs=275000;\n",
"//by solving the two conditions given as (i) and (ii), we get\n",
"Vr=244.9*10^3;\n",
"printf('\n\ncase(c)\nReceiving end voltage = %0.1f kV',Vr/1000);"
   ]
   }
],
"metadata": {
		  "kernelspec": {
		   "display_name": "Scilab",
		   "language": "scilab",
		   "name": "scilab"
		  },
		  "language_info": {
		   "file_extension": ".sce",
		   "help_links": [
			{
			 "text": "MetaKernel Magics",
			 "url": "https://github.com/calysto/metakernel/blob/master/metakernel/magics/README.md"
			}
		   ],
		   "mimetype": "text/x-octave",
		   "name": "scilab",
		   "version": "0.7.1"
		  }
		 },
		 "nbformat": 4,
		 "nbformat_minor": 0
}
