{
"cells": [
 {
		   "cell_type": "markdown",
	   "metadata": {},
	   "source": [
       "# Chapter 8: Automatic Generation and Voltage Control"
	   ]
	},
{
		   "cell_type": "markdown",
		   "metadata": {},
		   "source": [
			"## Example 8.1: Frequency_change_Calculation.sce"
		   ]
		  },
  {
"cell_type": "code",
	   "execution_count": null,
	   "metadata": {
	    "collapsed": true
	   },
	   "outputs": [],
"source": [
"//Chapter 8\n",
"//Example 8.1\n",
"//page 300\n",
"//To determine the change in the frequency\n",
"clear;clc;\n",
"f=50;\n",
"H=5e3;\n",
"KE=H*100*1000; //K.E stored in the generator\n",
"PI=50e6; //power input to generator before the stem valve is closed\n",
"EE=PI*0.4 ; //Excess energy input to the rotating parts\n",
"fnew=f*((KE+EE)/KE)^0.5; //frequency at the end of the 0.4sec\n",
"printf('\nKinetic Energy stored in the rotating parts of generator and turbine = %d kW-sec',KE/1000);\n",
"printf('\nExcess power input to generator before the stem valve begins to close=%d MW',PI/1000000);\n",
"printf('\nExcess energy input to rotating parts in 0.4sec=%d kW-sec',EE/1000);\n",
"printf('\nFrequency at the end of 0.4sec=%0.2f Hz\n\n',fnew);"
   ]
   }
,
{
		   "cell_type": "markdown",
		   "metadata": {},
		   "source": [
			"## Example 8.2: Load_sharing_and_System_Frequency.sce"
		   ]
		  },
  {
"cell_type": "code",
	   "execution_count": null,
	   "metadata": {
	    "collapsed": true
	   },
	   "outputs": [],
"source": [
"//Chapter 8\n",
"//Example 8.2\n",
"//page 301\n",
"//To determine determine load sharing and system frequency\n",
"clear;clc;\n",
"f=50; // system frequency\n",
"x=200; //load on first generator(value is assumed first)\n",
"delta_f=0.01*x; //from the first equation given in the book\n",
"x=(3.75)/(0.01+0.00625); //by substituting (i) in (ii)\n",
"delta_f=0.01*x; //recalculating the value\n",
"x2=600-x;\n",
"printf('\nLoad shared by the generator:\n\t Generator1=%0.2f MW\n\tGenerator2=%0.2f MW\n',x,x2);\n",
"printf('\nSystem Frequency=%0.2f Hz\n\n',f-delta_f);"
   ]
   }
],
"metadata": {
		  "kernelspec": {
		   "display_name": "Scilab",
		   "language": "scilab",
		   "name": "scilab"
		  },
		  "language_info": {
		   "file_extension": ".sce",
		   "help_links": [
			{
			 "text": "MetaKernel Magics",
			 "url": "https://github.com/calysto/metakernel/blob/master/metakernel/magics/README.md"
			}
		   ],
		   "mimetype": "text/x-octave",
		   "name": "scilab",
		   "version": "0.7.1"
		  }
		 },
		 "nbformat": 4,
		 "nbformat_minor": 0
}
