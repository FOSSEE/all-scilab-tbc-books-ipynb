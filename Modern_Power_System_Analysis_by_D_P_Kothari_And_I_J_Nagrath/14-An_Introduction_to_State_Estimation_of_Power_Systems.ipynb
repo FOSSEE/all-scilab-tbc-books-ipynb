{
"cells": [
 {
		   "cell_type": "markdown",
	   "metadata": {},
	   "source": [
       "# Chapter 14: An Introduction to State Estimation of Power Systems"
	   ]
	},
{
		   "cell_type": "markdown",
		   "metadata": {},
		   "source": [
			"## Example 14.1: Estimation_of_random_variables.sce"
		   ]
		  },
  {
"cell_type": "code",
	   "execution_count": null,
	   "metadata": {
	    "collapsed": true
	   },
	   "outputs": [],
"source": [
"//Chapter 14\n",
"//Example 14.1\n",
"//page 533\n",
"//To estimate the values of the random variables x1 and x2\n",
"clear;clc;\n",
"H=[1 0;0 1;1 1];  //given matrix\n",
"k=inv(H'*H)*H'; // from eq 14.9\n",
"y=['y1';'y2';'y3'];\n",
"k=string(k);\n",
"x=[k(1,1)+y(1,1)+k(1,2)+y(2,1)+'+'+k(1,3)+y(3,1) ;k(2,1)+y(1,1)+'+'+k(2,2)+y(2,1)+'+'+k(2,3)+y(3,1)];\n",
"printf('Estimate of x =\n');\n",
"disp(x);"
   ]
   }
,
{
		   "cell_type": "markdown",
		   "metadata": {},
		   "source": [
			"## Example 14.2: Estimation_of_random_variables_using_WLSE.sce"
		   ]
		  },
  {
"cell_type": "code",
	   "execution_count": null,
	   "metadata": {
	    "collapsed": true
	   },
	   "outputs": [],
"source": [
"//Chapter 14\n",
"//Example 14.2\n",
"//page 534\n",
"//To estimate the values of the random variables x1 and x2 using WLSE\n",
"clear;clc;\n",
"w=diag([0.1;1;0.1]); //assumed matrix\n",
"H=[1 0;0 1;1 1];  //given matrix\n",
"k=inv(H'*w*H)*H'*w; // from eq 14.12b\n",
"y=['y1';'y2';'y3'];\n",
"Px=k*k';\n",
"k=string(k);\n",
"x=[k(1,1)+y(1,1)+k(1,2)+y(2,1)+'+'+k(1,3)+y(3,1) ;k(2,1)+y(1,1)+'+'+k(2,2)+y(2,1)+'+'+k(2,3)+y(3,1)];\n",
"printf('The weighted least square s estimate of the vector x =\n');\n",
"disp(x);\n",
"printf('\n\nThe matrix k is in this case found to be \n');\n",
"disp(k);\n",
"//covariance of measurement is assumed is assumed to be unit matrix\n",
"printf('\n\nThe covariance of the estimation error is obtained as Px=\n');\n",
"disp(Px);\n",
"printf('\n\n\n Now choosing W=1\n');\n",
"w=diag([1;1;1]); //assumed matrix\n",
"H=[1 0;0 1;1 1];  //given matrix\n",
"k=inv(H'*w*H)*H'*w; // from eq 14.12b\n",
"Px=k*k';\n",
"printf('\n\nThe matrix k is in this case found to be \n');\n",
"disp(k);\n",
"printf('\n\nThe covariance of the estimation error is obtained as Px=\n');\n",
"disp(Px);"
   ]
   }
,
{
		   "cell_type": "markdown",
		   "metadata": {},
		   "source": [
			"## Example 14.3: Estimation_of_random_variables_using_WLSE_2.sce"
		   ]
		  },
  {
"cell_type": "code",
	   "execution_count": null,
	   "metadata": {
	    "collapsed": true
	   },
	   "outputs": [],
"source": [
"//Chapter 14\n",
"//Example 14.3\n",
"//page 538\n",
"//To estimate the values of the random variables x1 and x2 using WLSE\n",
"clear;clc;\n",
"i=0; x=1;y=8.5\n",
"printf('---------------------------------------\n');\n",
"printf('iteration\t\tx(l)\n');\n",
"printf('---------------------------------------\n');\n",
"printf('\t%d\t\t%0.3f\n',i,x);\n",
"for i=1:1:10\n",
"    k=(1/3)*x^-2      //expression for the value of k has been printed wrongly in the textbook\n",
"    x=x+(k)*(y-x^3);\n",
"    printf('\t%d\t\t%0.3f\n',i,x);\n",
"end"
   ]
   }
],
"metadata": {
		  "kernelspec": {
		   "display_name": "Scilab",
		   "language": "scilab",
		   "name": "scilab"
		  },
		  "language_info": {
		   "file_extension": ".sce",
		   "help_links": [
			{
			 "text": "MetaKernel Magics",
			 "url": "https://github.com/calysto/metakernel/blob/master/metakernel/magics/README.md"
			}
		   ],
		   "mimetype": "text/x-octave",
		   "name": "scilab",
		   "version": "0.7.1"
		  }
		 },
		 "nbformat": 4,
		 "nbformat_minor": 0
}
