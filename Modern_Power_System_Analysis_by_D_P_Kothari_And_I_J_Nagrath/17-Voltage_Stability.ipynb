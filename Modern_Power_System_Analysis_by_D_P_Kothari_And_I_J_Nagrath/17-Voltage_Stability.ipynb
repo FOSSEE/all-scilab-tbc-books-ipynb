{
"cells": [
 {
		   "cell_type": "markdown",
	   "metadata": {},
	   "source": [
       "# Chapter 17: Voltage Stability"
	   ]
	},
{
		   "cell_type": "markdown",
		   "metadata": {},
		   "source": [
			"## Example 17.1: Reactive_power_sensitivity.sce"
		   ]
		  },
  {
"cell_type": "code",
	   "execution_count": null,
	   "metadata": {
	    "collapsed": true
	   },
	   "outputs": [],
"source": [
"//Chapter 17\n",
"//Example 17.1\n",
"//page 602\n",
"//To find reactive power sensitivity at the bus \n",
"clear;clc;\n",
"Q_nom=1; //given\n",
"Ksh=0.8; V=1.0; //assumed\n",
"Qnet=(V^2-Ksh*V^2)*Q_nom;\n",
"//senstivity=dQnet/dV\n",
"s=2*V-2*V*Ksh;\n",
"printf('Reactive power Sensitivity at the bus is = %0.2f pu',s);"
   ]
   }
,
{
		   "cell_type": "markdown",
		   "metadata": {},
		   "source": [
			"## Example 17.2: Capacity_of_static_VAR_compensator.sce"
		   ]
		  },
  {
"cell_type": "code",
	   "execution_count": null,
	   "metadata": {
	    "collapsed": true
	   },
	   "outputs": [],
"source": [
"//Chapter 17\n",
"//Example 17.2\n",
"//page 602\n",
"//To find capacity of static VAR compensator \n",
"clear;clc;\n",
"delta_V=5/100; //allowable voltage fluctuation\n",
"S_sc=5000; //system short circuit capacity in MVA\n",
"delta_Q=delta_V*S_sc; //size of the compensator\n",
"printf('The capacity of the static VAR compensator is +%d MVAR',delta_Q);"
   ]
   }
],
"metadata": {
		  "kernelspec": {
		   "display_name": "Scilab",
		   "language": "scilab",
		   "name": "scilab"
		  },
		  "language_info": {
		   "file_extension": ".sce",
		   "help_links": [
			{
			 "text": "MetaKernel Magics",
			 "url": "https://github.com/calysto/metakernel/blob/master/metakernel/magics/README.md"
			}
		   ],
		   "mimetype": "text/x-octave",
		   "name": "scilab",
		   "version": "0.7.1"
		  }
		 },
		 "nbformat": 4,
		 "nbformat_minor": 0
}
