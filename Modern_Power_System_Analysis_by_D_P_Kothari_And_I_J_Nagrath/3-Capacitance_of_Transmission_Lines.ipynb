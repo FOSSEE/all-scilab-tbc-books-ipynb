{
"cells": [
 {
		   "cell_type": "markdown",
	   "metadata": {},
	   "source": [
       "# Chapter 3: Capacitance of Transmission Lines"
	   ]
	},
{
		   "cell_type": "markdown",
		   "metadata": {},
		   "source": [
			"## Example 3.1: Capacitance_of_a_single_phase_line.sce"
		   ]
		  },
  {
"cell_type": "code",
	   "execution_count": null,
	   "metadata": {
	    "collapsed": true
	   },
	   "outputs": [],
"source": [
"//Chapter 3\n",
"//Example 3.1\n",
"//page 87\n",
"//To calculate the capacitance to neutral of a single phase line\n",
"clear;clc;\n",
"r=0.328; //radius of the conductors\n",
"D=300; //distance between the conductors\n",
"h=750; //height of the conductors\n",
"//calculating capacitance neglecting the presence of ground\n",
"//using Eq (3.6)\n",
"Cn=(0.0242/(log10(D/r)));\n",
"printf('\nCapacitance to neutral /km of the given single phase line neglecting presence of the earth (using Eq 3.6) is = %0.5f uF/km\n\n',Cn);\n",
"//using Eq (3.7)\n",
"Cn=(0.0242)/log10((D/(2*r))+((D^2)/(4*r^2)-1)^0.5);\n",
"printf('Capacitance to neutral /km of the given single phase line neglecting presence of the earth (using Eq 3.7) is = %0.5f uF/km\n\n',Cn);\n",
"//Consudering the effect of earth and neglecting the non uniformity of the charge\n",
"Cn=(0.0242)/log10(D/(r*(1+((D^2)/(4*h^2)))^0.5));\n",
"printf('Capacitance to neutral /km of the given single phase line considering the presence of the earth and neglecting non uniformity of charge distribution (using Eq 3.26b) is = %0.5f uF/km\n\n',Cn);"
   ]
   }
,
{
		   "cell_type": "markdown",
		   "metadata": {},
		   "source": [
			"## Example 3.2: Charging_current_of_a_threephase_line.sce"
		   ]
		  },
  {
"cell_type": "code",
	   "execution_count": null,
	   "metadata": {
	    "collapsed": true
	   },
	   "outputs": [],
"source": [
"//Chapter 3\n",
"//Example 3.2\n",
"//page 88\n",
"//To claculate the capacitance to neutral and charging current of a three phase transmission line\n",
"clear;clc;\n",
"d=350;    //distance between adjacent lines\n",
"r=1.05/2;     //radius of the conductor\n",
"v=110e3;    //line voltage;\n",
"f=50;\n",
"Deq=(d*d*2*d)^(1/3);   //GMD or equivalent\n",
"Cn=(0.0242/log10(Deq/r));\n",
"Xn=1/(2*%pi*f*Cn*10^(-6));   // Cn is in uF hence we add 10^6 while printing\n",
"Ic=(v/sqrt(3))/Xn;\n",
"printf('\nCapacitance to neutral is = %f uF/km\n\n',Cn);\n",
"printf('Capacitive rectance of the line is = %f ohm/km to neutral\n\n',Xn);\n",
"printf('Charging Current = %0.2f A/km\n\n',Ic);"
   ]
   }
,
{
		   "cell_type": "markdown",
		   "metadata": {},
		   "source": [
			"## Example 3.3: Double_circuit_three_phase_transmission_line.sce"
		   ]
		  },
  {
"cell_type": "code",
	   "execution_count": null,
	   "metadata": {
	    "collapsed": true
	   },
	   "outputs": [],
"source": [
"//Chapter 3\n",
"//Example 3.3\n",
"//page 88\n",
"//To claculate the capacitance to neutral and charging current of a double circuit three phase transmission line\n",
"clear;clc;\n",
"//After deriving the equation for Cn from the textbook and starting calculation from Eq 3.36 onwards\n",
"r=0.865*10^(-2); frequency=50; v=110e3;\n",
"h=6; d=8; j=8; //Referring to fig given in the textbook\n",
"i=((j/2)^2+((d-h)/2)^2)^(1/2);\n",
"f=(j^2+h^2)^(1/2);\n",
"g=(7^2+4^2)^(1/2);\n",
"Cn=4*%pi*8.85*10^(-12)/(log((((i^2)*(g^2)*j*h)/((r^3)*(f^2*d)))^(1/3)));\n",
"Cn=Cn*1000 ; //Cn is in per m.to convert it to per km,we multiply by 1000\n",
"WCn=2*%pi*frequency*Cn;\n",
"Icp=(v/sqrt(3))*WCn;\n",
"Icc=Icp/2;\n",
"printf('\nTotal capacitance to neutral for two conductors in parallel = %0.6f uF/km \n\n',Cn*10^(6));\n",
"printf('Charging current/phase = %0.3f A/km \n\n',Icp);\n",
"printf('Charging current/conductor = %0.4f A/km \n\n',Icc);"
   ]
   }
],
"metadata": {
		  "kernelspec": {
		   "display_name": "Scilab",
		   "language": "scilab",
		   "name": "scilab"
		  },
		  "language_info": {
		   "file_extension": ".sce",
		   "help_links": [
			{
			 "text": "MetaKernel Magics",
			 "url": "https://github.com/calysto/metakernel/blob/master/metakernel/magics/README.md"
			}
		   ],
		   "mimetype": "text/x-octave",
		   "name": "scilab",
		   "version": "0.7.1"
		  }
		 },
		 "nbformat": 4,
		 "nbformat_minor": 0
}
