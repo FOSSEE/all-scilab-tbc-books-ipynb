{
"cells": [
 {
		   "cell_type": "markdown",
	   "metadata": {},
	   "source": [
       "# Chapter 2: Inductance and Resistance of Transmission Lines"
	   ]
	},
{
		   "cell_type": "markdown",
		   "metadata": {},
		   "source": [
			"## Example 2.1: self_GMD_Calculatio.sce"
		   ]
		  },
  {
"cell_type": "code",
	   "execution_count": null,
	   "metadata": {
	    "collapsed": true
	   },
	   "outputs": [],
"source": [
"//Chapter 2\n",
"//Example 2.1\n",
"//page 56\n",
"//To find GMD of the conductor\n",
"//From the given the text book,leaving out the factor of 'r',we have the seven possible distances\n",
"clear;clc;\n",
"D1=0.7788*2*2*(2*sqrt(3))*4*(2*sqrt(3))*2;\n",
"//since there are 7 identical conductors,the above products remains same dor all D's\n",
"D2=D1;\n",
"D3=D1;\n",
"D4=D1;\n",
"D5=D1;\n",
"D6=D1;\n",
"D7=D1;\n",
"Ds=(D1*D2*D3*D4*D5*D6*D7)^(1/(7*7));\n",
"printf('\n GMD of the conductor is %0.4fr',Ds);"
   ]
   }
,
{
		   "cell_type": "markdown",
		   "metadata": {},
		   "source": [
			"## Example 2.2: Reactance_Of_ACSR_conductors.sce"
		   ]
		  },
  {
"cell_type": "code",
	   "execution_count": null,
	   "metadata": {
	    "collapsed": true
	   },
	   "outputs": [],
"source": [
"//Chapter 2\n",
"//Example 2.2\n",
"//page 57\n",
"//To find reactance of the conductor\n",
"clear;clc;\n",
"f=50; //frequency\n",
"D=5.04; //diameter of the entire ACSR\n",
"d=1.68; //diameter of each conductor\n",
"Dsteel=D-2*d; //diameter of steel strand\n",
"//As shown in fig\n",
"D12=d;\n",
"D13=(sqrt(3)*d);\n",
"D14=2*d;\n",
"D15=D13;\n",
"D16=D12;\n",
"//neglecting the central sttel conductor,we have the 6 possibilities\n",
"D1=(0.7788*d)*D12*D13*D14*D15*D16;\n",
"//we have total of 6 conductors,hence\n",
"D2=D1;\n",
"D3=D1;\n",
"D4=D1;\n",
"D5=D1;\n",
"D6=D1;\n",
"Ds=(D1*D2*D3*D4*D5*D6)^(1/(6*6));//GMR;\n",
"//since the spacing between lines is 1m=100cm\n",
"l=100;\n",
"L=0.461*log10(l/Ds); //Inductance of each conductor\n",
"Ll=2*L; // loop inductance\n",
"Xl=2*%pi*f*Ll*10^(-3);//reactance of the line\n",
"printf('\n\nInductance of each conductor=%0.4f mH/km\n\n',L);\n",
"printf('Loop Inductance=%0.4f mH/km\n\n',Ll);\n",
"printf('Loop Reactance=%f ohms/km\n\n',Xl);"
   ]
   }
,
{
		   "cell_type": "markdown",
		   "metadata": {},
		   "source": [
			"## Example 2.3: Inductance_Of_Composite_Conductor_Lines.sce"
		   ]
		  },
  {
"cell_type": "code",
	   "execution_count": null,
	   "metadata": {
	    "collapsed": true
	   },
	   "outputs": [],
"source": [
"//Chapter 2\n",
"//Example 2.3\n",
"//page 58\n",
"//To find inductance of each side of the line and that of the complete line\n",
"clear;clc;\n",
"//to find mutual GMD\n",
"D14=sqrt(8*8+2*2);\n",
"D15=sqrt(8*8+6*6);\n",
"D24=sqrt(8*8+2*2);\n",
"D25=sqrt(8*8+2*2);\n",
"D34=sqrt(8*8+6*6);\n",
"D35=sqrt(8*8+2*2);\n",
"//sixth root of six mutual distances\n",
"Dm=(D14*D15*D24*D25*D34*D35)^(1/6);//mutual GMD between lines\n",
"//to find GMR of Side A conductors\n",
"D11=0.7788*2.5*10^(-3);\n",
"D22=D11;\n",
"D33=D11;\n",
"D12=4;\n",
"D21=D12;\n",
"D13=8;\n",
"D31=8;\n",
"D23=4;\n",
"D32=D23;\n",
"//ninth root nine distances in Side A\n",
"Da=(D11*D12*D13*D21*D22*D23*D31*D32*D33)^(1/9);\n",
"//to find GMR of Side A conductors\n",
"D44=0.7788*5*10^(-3);\n",
"D45=4;\n",
"D54=D45;\n",
"D55=D44;\n",
"//fourth root of four distances in Side B\n",
"Db=(D44*D45*D54*D55)^(1/4);\n",
"La=0.461*log10(Dm/Da);//inductance line A\n",
"Lb=0.461*log10(Dm/Db);//inductance line B\n",
"L=La+Lb; //loop inductance \n",
"printf('\n\nMutual GMD between lines = %0.4f m\n\n',Dm);\n",
"printf('GMR of Side A conductors = %0.4f m\n\n',Da);\n",
"printf('GMR of Side B conductors = %0.4f m\n\n',Db);\n",
"printf('Inductance of line A = %0.4f mH/km\n\n',La);\n",
"printf('Inductance of line B = %0.4f mH/km\n\n',Lb);\n",
"printf('Loop Inductance of the lines = %0.4f mH/km\n\n',L);"
   ]
   }
,
{
		   "cell_type": "markdown",
		   "metadata": {},
		   "source": [
			"## Example 2.5: VoltageDrop_and_FluxLinkage_Calculations.sce"
		   ]
		  },
  {
"cell_type": "code",
	   "execution_count": null,
	   "metadata": {
	    "collapsed": true
	   },
	   "outputs": [],
"source": [
"//Chapter 2\n",
"//Example 2.5\n",
"//page 63\n",
"//To find flux linkages with neutral and voltage induced in neutral\n",
"//To find voltage drop in each of three-phase wires\n",
"clear;clc;\n",
"Ia=-30+%i*50;\n",
"Ib=-25+%i*55;\n",
"Ic=-(Ia+Ib);\n",
"//(a) to find flux linkages with neutral and voltage induce in it\n",
"Dan=4.5;\n",
"Dbn=3;  //from figure\n",
"Dcn=1.5;\n",
"Phi_n=2*10^(-7)*(Ia*log(1/Dan)+Ib*log(1/Dbn)+Ic*log(1/Dcn));\n",
"Vn=%i*2*%pi*50*Phi_n*15000; //voltage induced for 15km long TL\n",
"Vn=abs(Vn) ;\n",
"printf('\nFlux linkages of the neutral wire = %f Wb-T/m\n\n',Phi_n);\n",
"printf('Voltage induced in the neutral = %d\n\n',Vn);\n",
"//(b) to find voltage drop in each phase\n",
"Phi_a=2*10^(-7)*(Ia*log(1/(0.7788*0.005))+Ib*log(1/1.5)+Ic*log(1/3));\n",
"Phi_b=2*10^(-7)*(Ib*log(1/(0.7788*0.005))+Ia*log(1/1.5)+Ic*log(1/1.5));\n",
"Phi_c=2*10^(-7)*(Ic*log(1/(0.7788*0.005))+Ib*log(1/1.5)+Ia*log(1/3));\n",
"delta_Va=%i*2*%pi*50*Phi_a*15000; //like we did for neutral voltage\n",
"delta_Vb=%i*2*%pi*50*Phi_b*15000;\n",
"delta_Vc=%i*2*%pi*50*Phi_c*15000;\n",
"printf('The Voltage drop of phase a(in volts) =');disp(delta_Va);\n",
"printf('\n\nThe Voltage drop of phase b(in volts) =');disp(delta_Vb);\n",
"printf('\n\nThe Voltage drop of phase c(in volts) =');disp(delta_Vc);"
   ]
   }
,
{
		   "cell_type": "markdown",
		   "metadata": {},
		   "source": [
			"## Example 2.6: Mutual_Inductance_Calculation.sce"
		   ]
		  },
  {
"cell_type": "code",
	   "execution_count": null,
	   "metadata": {
	    "collapsed": true
	   },
	   "outputs": [],
"source": [
"//Chapter 2\n",
"//Example 2.6\n",
"//page 65\n",
"//To find mutual inductance between power line and telephone line and voltage induced in telephone line\n",
"clear;clc;\n",
"D1=sqrt(1.1*1.1+2*2); //from figure 2.14\n",
"D2=sqrt(1.9*1.9+2*2);  //from figure 2.14\n",
"Mpt=0.921*log10(D2/D1);  //mutual inductance\n",
"Vt=abs(%i*2*%pi*50*Mpt*10^(-3)*100);//when 100A is flowing in the power lines\n",
"printf('\n\nMutual inductance between power line and telephone line = %f mH/km\n\n',Mpt);\n",
"printf('\n\nVoltage induced in the telephone circuit = %.3f V/km\n\n',Vt);"
   ]
   }
,
{
		   "cell_type": "markdown",
		   "metadata": {},
		   "source": [
			"## Example 2.7: Bundled_Conductor_Three_Phase_Line.sce"
		   ]
		  },
  {
"cell_type": "code",
	   "execution_count": null,
	   "metadata": {
	    "collapsed": true
	   },
	   "outputs": [],
"source": [
"//Chapter 2\n",
"//Example 2.7\n",
"//page 69\n",
"//To find inductive reactance of for the three phase bundled conductors\n",
"clear;clc;\n",
"r=0.01725; //radius of each conductor\n",
"//from the figure we can declare the distances\n",
"d=7;\n",
"s=0.4;\n",
"//Mutual GMD between bundles of phases a and b\n",
"Dab=(d*(d+s)*(d-s)*d)^(1/4);\n",
"//Mutual GMD between bundles of phases b and c\n",
"Dbc=Dab ; //by symmetry\n",
"//Mutual GMD between bundles of phases c and a\n",
"Dca=(2*d*(2*d+s)*(2*d-s)*2*d)^(1/4);\n",
"//Equivalent GMD is calculated as\n",
"Deq=(Dab*Dbc*Dca)^(1/3);\n",
"//self GMD is given by\n",
"Ds=(0.7788*1.725*10^(-2)*0.4*0.7788*1.725*10^(-2)*0.4)^(1/4);\n",
"//Inductive reactance per phase is given by\n",
"Xl=2*%pi*50*10^(-3)*0.461*log10(Deq/Ds); //10^(-3) because per km is asked\n",
"printf('\n\nMutual GMD between bundles of phases a and b = %0.3fm\n\n',Dab);\n",
"printf('Mutual GMD between bundles of phases b and c = %0.3fm\n\n',Dbc);\n",
"printf('Mutual GMD between bundles of phases c and a = %0.3fm\n\n',Dca);\n",
"printf('Equivalent GMD = %0.3fm\n\n',Deq);\n",
"printf('Self GMD of the bundles = %0.3fm\n\n',Ds);\n",
"printf('Inductive reactance per phase = %0.3f ohms/km\n\n',Xl);\n",
"//now let us compute reactance when center to centerr distances are used\n",
"Deq1=(d*d*2*d)^(1/3);\n",
"Xl1=2*%pi*50*0.461*10^(-3)*log10(Deq1/Ds);\n",
"printf('\n When radius of conductors are neglected and only distance between conductors are used, we get below results:\n\n');\n",
"printf('Equivalent mean distance is = %f\n\n',Deq1);\n",
"printf('Inductive reactance per phase = %0.3f ohms/km\n\n',Xl1);\n",
"//when bundle of conductors are replaced by an equivalent single conductor \n",
"cond_dia=sqrt(2)*1.725*10^(-3); //conductor diameter for same cross-sectional area\n",
"Xl2=2*%pi*50*0.461*10^(-3)*log10(Deq1/cond_dia);\n",
"printf('\nWhen bundle of conductors are replaced by an equivalent single conductor:\n\n');\n",
"printf('Inductive reactance per phase = %0.3f ohms/km\n\n',Xl2) ;\n",
"percentage_increase=((Xl2-Xl1)/Xl1)*100;\n",
"printf('This is %0.2f higher than corresponding value for a bundled conductor line.',percentage_increase);"
   ]
   }
],
"metadata": {
		  "kernelspec": {
		   "display_name": "Scilab",
		   "language": "scilab",
		   "name": "scilab"
		  },
		  "language_info": {
		   "file_extension": ".sce",
		   "help_links": [
			{
			 "text": "MetaKernel Magics",
			 "url": "https://github.com/calysto/metakernel/blob/master/metakernel/magics/README.md"
			}
		   ],
		   "mimetype": "text/x-octave",
		   "name": "scilab",
		   "version": "0.7.1"
		  }
		 },
		 "nbformat": 4,
		 "nbformat_minor": 0
}
