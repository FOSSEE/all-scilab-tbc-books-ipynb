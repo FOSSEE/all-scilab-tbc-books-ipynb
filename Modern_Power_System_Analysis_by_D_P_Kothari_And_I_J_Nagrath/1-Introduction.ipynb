{
"cells": [
 {
		   "cell_type": "markdown",
	   "metadata": {},
	   "source": [
       "# Chapter 1: Introduction"
	   ]
	},
{
		   "cell_type": "markdown",
		   "metadata": {},
		   "source": [
			"## Example 1.1: Example_1.sce"
		   ]
		  },
  {
"cell_type": "code",
	   "execution_count": null,
	   "metadata": {
	    "collapsed": true
	   },
	   "outputs": [],
"source": [
"//Chapter 1\n",
"//Example 1.1\n",
"//page 5\n",
"clear;clc;\n",
"fl=760e3;\n",
"pf=0.8;\n",
"lsg=0.05;\n",
"csg=60;\n",
"depre=0.12;\n",
"hpw=48;\n",
"lv=32;\n",
"hv=30;\n",
"pkwhr=0.10;\n",
"md=fl/pf;\n",
"printf('Maximum Demand= %.1f kVA \n\n',md/1000);\n",
"//calculation for tariff (b)\n",
"printf('Loss in switchgear=%.2f %% \n\n',lsg*100);\n",
"input_demand=md/(1-lsg);\n",
"input_demand=input_demand/1000;\n",
"cost_sw_ge=input_demand*60;\n",
"depreciation=depre*cost_sw_ge;\n",
"fixed_charges=hv*input_demand;\n",
"running_cost=input_demand*pf*hpw*52*pkwhr;//52 weeks per year\n",
"total_b=depreciation + fixed_charges + running_cost;\n",
"printf('Input Demand= %.1f kVA \n\n',input_demand);\n",
"printf('Cost of switchgear=Rs %d\n\n',cost_sw_ge);\n",
"printf('Annual charges on depreciation=Rs %d \n\n',depreciation);\n",
"printf('Annual fixed charges due to maximum demand corresponding to triff(b)=Rs %d \n\n',fixed_charges);\n",
"printf('Annual running cost due to kWh consumed=Rs %d \n\n',running_cost);\n",
"printf('Total charges/annum for tariff(b) = Rs %d\n\n',total_b)\n",
"//calculation for tariff (a)\n",
"input_demand=md;\n",
"input_demand=input_demand/1000;\n",
"fixed_charges=lv*input_demand;\n",
"running_cost=input_demand*pf*hpw*52*pkwhr;\n",
"total_a=fixed_charges + running_cost;\n",
"printf('maximum demand corresponding to tariff(a) = %.f kVA \n\n',input_demand);\n",
"printf('Annual fixed charges=Rs %d \n\n',fixed_charges);\n",
"printf('Annual running charges for kWh consumed = Rs %d \n\n',running_cost);\n",
"printf('Total charges/annum for tariff(a) = Rs %d \n\n',total_a);\n",
"if(total_a > total_b)\n",
"    printf('Therefore, tariff(b) is economical\n\n\n');\n",
"else\n",
"    printf('Therefore, tariff(a) is economical\n\n\n');\n",
"    "
   ]
   }
,
{
		   "cell_type": "markdown",
		   "metadata": {},
		   "source": [
			"## Example 1.3: Example_3.sce"
		   ]
		  },
  {
"cell_type": "code",
	   "execution_count": null,
	   "metadata": {
	    "collapsed": true
	   },
	   "outputs": [],
"source": [
"//Chapter 1\n",
"//Example 1.3\n",
"//page 7\n",
"clear;clc;\n",
"md=25;\n",
"lf=0.6;\n",
"pcf=0.5;\n",
"puf=0.72;\n",
"avg_demand=lf*md;\n",
"installed_capacity=avg_demand/pcf;\n",
"reserve=installed_capacity-md;\n",
"daily_ener=avg_demand*24;\n",
"ener_inst_capa=installed_capacity*24;\n",
"max_energy=daily_ener/puf;\n",
"printf('Average Demand= %.2f MW \n\n',avg_demand);\n",
"printf('Installed capacity= %.2f MW \n\n\',installed_capacity);\n",
"printf('Reserve capacity of the plant= %.2f MW \n\n',reserve);\n",
"printf('Daily energy produced= %d MWh \n\n',daily_ener);\n",
"printf('Energy corresponding to installed capacity per day= %d MWh \n\n',ener_inst_capa);\n",
"printf('Maximum energy that could be produced = %d MWh/day \n\n',max_energy);"
   ]
   }
,
{
		   "cell_type": "markdown",
		   "metadata": {},
		   "source": [
			"## Example 1.4: Example_4.sce"
		   ]
		  },
  {
"cell_type": "code",
	   "execution_count": null,
	   "metadata": {
	    "collapsed": true
	   },
	   "outputs": [],
"source": [
"//Chapter 1\n",
"//Example 1.2\n",
"//page 6\n",
"clear;clc;\n",
"md=20e3;\n",
"unit_1=14e3;\n",
"unit_2=10e3;\n",
"ener_1=1e8;\n",
"ener_2=7.5e6;\n",
"unit1_time=1;\n",
"unit2_time=0.45;\n",
"annual_lf_unit1=ener_1/(unit_1*24*365);\n",
"md_unit_2=md-unit_1;\n",
"annual_lf_unit2=ener_2/(md_unit_2*24*365);\n",
"lf_unit_2=ener_2/(md_unit_2*unit2_time*24*365);\n",
"unit1_cf=annual_lf_unit1;\n",
"unit1_puf=unit1_cf;\n",
"unit2_cf=ener_2/(unit_2*24*365);\n",
"unit2_puf=unit2_cf/unit2_time;\n",
"annual_lf=(ener_1+ener_2)/(md*24*365);\n",
"printf('Annual load factor for Unit 1 = %.2f %% \n\n',annual_lf_unit1*100);\n",
"printf('The maximum demand on Unit 2 is %d MW \n\n',md_unit_2/1000);\n",
"printf('Annual load factor for Unit 2 = %.2f %% \n\n',annual_lf_unit2*100);\n",
"printf('Load factor of Unit 2 for the time it takes the load= %.2f %% \n\n',lf_unit_2*100);\n",
"printf('Plant capacity factor of unit 1 = %.2f %% \n\n',unit1_cf*100);\n",
"printf('Plant use factor of unit 1 = %.2f %% \n\n',unit1_puf*100);\n",
"printf('Annual plant capacity factor of unit 2 = %.2f %% \n\n',unit2_cf*100);\n",
"printf('Plant use factor of unit 2 = %.2f %% \n\n',unit2_puf*100);\n",
"printf('The annual load factor of the total plant = %.2f %% \n\n',annual_lf*100);"
   ]
   }
,
{
		   "cell_type": "markdown",
		   "metadata": {},
		   "source": [
			"## Example 1.5: Example_5.sce"
		   ]
		  },
  {
"cell_type": "code",
	   "execution_count": null,
	   "metadata": {
	    "collapsed": true
	   },
	   "outputs": [],
"source": [
"//Chapter 1\n",
"//Example 1.2\n",
"//page 6\n",
"clear;clc;\n",
"c1_md_6pm=5;     c1_d_7pm=3;    c1_lf=0.2;\n",
"c2_md_11am=5;    c2_d_7pm=2;    c2_avg_load=1.2;\n",
"c3_md_7pm=3;                    c3_avg_load=1;\n",
"md_system=c1_d_7pm + c2_d_7pm + c3_md_7pm;\n",
"sum_mds=c1_md_6pm + c2_md_11am + c3_md_7pm;\n",
"df=sum_mds/md_system;\n",
"printf('Maximum demand of the system is %d kW at 7p.m \n',md_system);\n",
"printf('Sum of the individual maximum demands = %d kW \n',sum_mds);\n",
"printf('Diversity factor= %.3f \n\n',df);\n",
"c1_avg_load=c1_md_6pm*c1_lf;\n",
"c2_lf=c2_avg_load/c2_md_11am;\n",
"c3_lf=c3_avg_load/c3_md_7pm;\n",
"printf('Consumer1 -->\t Avg_load= %.2f kW \t LF= %.1f %% \n',c1_avg_load,c1_lf*100);\n",
"printf('Consumer2 -->\t Avg_load= %.2f kW \t LF= %.1f %% \n',c2_avg_load,c2_lf*100);\n",
"printf('Consumer3 -->\t Avg_load= %.2f kW \t LF= %.1f %% \n\n',c3_avg_load,c3_lf*100);\n",
"avg_load=c1_avg_load + c2_avg_load + c3_avg_load;\n",
"lf=avg_load/md_system;\n",
"printf('Combined average load = %.1f kW \n',avg_load);\n",
"printf('Combined load factor= %.1f %% \n\n',lf*100);"
   ]
   }
],
"metadata": {
		  "kernelspec": {
		   "display_name": "Scilab",
		   "language": "scilab",
		   "name": "scilab"
		  },
		  "language_info": {
		   "file_extension": ".sce",
		   "help_links": [
			{
			 "text": "MetaKernel Magics",
			 "url": "https://github.com/calysto/metakernel/blob/master/metakernel/magics/README.md"
			}
		   ],
		   "mimetype": "text/x-octave",
		   "name": "scilab",
		   "version": "0.7.1"
		  }
		 },
		 "nbformat": 4,
		 "nbformat_minor": 0
}
