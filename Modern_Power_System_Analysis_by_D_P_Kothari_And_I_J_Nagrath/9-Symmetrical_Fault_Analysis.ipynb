{
"cells": [
 {
		   "cell_type": "markdown",
	   "metadata": {},
	   "source": [
       "# Chapter 9: Symmetrical Fault Analysis"
	   ]
	},
{
		   "cell_type": "markdown",
		   "metadata": {},
		   "source": [
			"## Example 9.1: Fault_Current_Calculation.sce"
		   ]
		  },
  {
"cell_type": "code",
	   "execution_count": null,
	   "metadata": {
	    "collapsed": true
	   },
	   "outputs": [],
"source": [
"//Chapter 9\n",
"//Example 9.1\n",
"//page 335\n",
"//To calculate fault current \n",
"clear;clc;\n",
"//selecting base KVA and MVA\n",
"mvab=100;\n",
"Gmva=10;\n",
"T1mva=10; T2mva=5;\n",
"Gkvb=11; //generator kV base\n",
"OHLkvb=33; //overhead line kV base\n",
"Ckvb=6.6;// cable kB base\n",
"xg1=%i*0.15; xg2=%i*0.125; xt1=%i*0.10; xt2=%i*0.08;\n",
"xOHL=0.27+%i*0.36 ; xcab= 0.135+%i*0.08;\n",
"//clculating PU impedances\n",
"xg1=(xg1*mvab)/Gmva;\n",
"xg2=(xg2*mvab)/Gmva;\n",
"xt1=(xt1*mvab)/T1mva;\n",
"xt2=(xt2*mvab)/T2mva;\n",
"xOHL=(30*xOHL*mvab)/(OHLkvb^2);\n",
"xcab=(3*xcab*mvab)/(Ckvb^2);\n",
"//displaying results\n",
"printf('\n Reactance of G1= j%0.1f pu \n',abs(imag(xg1)));\n",
"printf(' Reactance of G2= j%0.1f pu\n',abs(imag(xg2)));\n",
"printf(' Reactance of T1= j%0.1f pu\n',abs(imag(xt1)));\n",
"printf(' Reactance of T2= j%0.1f pu\n',abs(imag(xt2)));\n",
"printf(' Overhead line impedance=(%0.3f + j%0.3f) pu\n',real(xOHL),abs(imag(xOHL)));\n",
"printf(' Cable impedance= (%0.3f + j%0.3f) pu\n',real(xcab),abs(imag(xcab)));\n",
"// Impedance diagram is as shown in the figure9.7 in the textbook\n",
"// A XCOS simulation for this proble is done to explain the subtransient,transient and steady state periods of a symmetrical short circuit\n",
"xtotal=((xg1*xg2)/(xg1+xg2)+xt1+xt2+xOHL+xcab);\n",
"Isc_pu=(1/xtotal);\n",
"Ibase=(mvab/(sqrt(3)*Ckvb))*1000;\n",
"Isc=Isc_pu*Ibase;\n",
"x_F_to_bus=(xt1+xt2+xOHL+xcab);\n",
"v_11b=x_F_to_bus*Isc_pu*11;\n",
"//displaying results\n",
"printf('\nTotal impedance= %0.1f < %0.2f deg pu \n',abs(xtotal),atand(imag(xtotal)/real(xtotal)));\n",
"printf('Short circuit current= %d A\n',abs(Isc));\n",
"printf('Voltage at 11kV bus=%0.2f kV\n',abs(v_11b));"
   ]
   }
,
{
		   "cell_type": "markdown",
		   "metadata": {},
		   "source": [
			"## Example 9.2: Subtransient_and_Momentary_current_Calculation.sce"
		   ]
		  },
  {
"cell_type": "code",
	   "execution_count": null,
	   "metadata": {
	    "collapsed": true
	   },
	   "outputs": [],
"source": [
"//Chapter 9\n",
"//Example 9.2\n",
"//page 337\n",
"//To calculate subtransient and momentary current \n",
"clear;clc;\n",
"mvab=25;\n",
"Gmva=25;\n",
"T1mva=25; T2mva=25;\n",
"Gkvb=11; //generator kV base\n",
"OHLkvb=66; //overhead line kV base\n",
"Mkvb=6.6; //motor kV base\n",
"Mmva=5; //motor mva\n",
"XdG=%i*0.2; //Generator's subtransient reactance\n",
"XdM=%i*0.25; //Motor's subtransient reactance\n",
"XdM2=%i*0.3; //Motor's transient reactance\n",
"Xt1=%i*0.1; // step up transformer's reactance\n",
"Xt2=%i*0.1;//step down transformer's reactance\n",
"Xtl=%i*0.15 ;//trnasmission line's reactance\n",
"//per unit calculation\n",
"XdM=(XdM*mvab)/Mmva ;//perunit impedance of each motor\n",
"printf('\nSubtransient reactance of each motor = j%0.2f pu\n',abs(XdM));\n",
"//(a)subtransient current in the fault\n",
"Isc=(3*(1/XdM))+(1/(XdG+Xt1+Xt2+Xtl));\n",
"Ibase=(mvab*1000)/(sqrt(3)*Mkvb);\n",
"Isc=Isc*Ibase;\n",
"printf('\nSubtransient current in the fault =%0.1fA\n',abs(Isc));\n",
"//(b)subtransient current in the breaker B\n",
"IscB=(2*(1/XdM))+(1/(XdG+Xt1+Xt2+Xtl));\n",
"IscB=IscB*Ibase;\n",
"printf('\nSubtransient current in breaker B=%0.1fA\n',abs(IscB));\n",
"//(c) to find the momentary current through breaker B\n",
"ImomB=1.6*IscB;\n",
"printf('\nMomentary current through the breaker B=%dA\n',abs(ImomB));\n",
"//(d) to compute current to be interrupted by breaker in 5 cycles\n",
"XdM2=(XdM2*mvab)/Mmva ;//perunit transient impedance of each motor\n",
"IscB=(2*(1/XdM2))+(1/(XdG+Xt1+Xt2+Xtl));\n",
"IscB=IscB*Ibase;\n",
"ImomB=1.1*IscB;\n",
"printf('\nCurrent to be interrupted by breaker B in five cycles=%dA\n',abs(ImomB));"
   ]
   }
,
{
		   "cell_type": "markdown",
		   "metadata": {},
		   "source": [
			"## Example 9.3: Subtransient_Current_Calculation.sce"
		   ]
		  },
  {
"cell_type": "code",
	   "execution_count": null,
	   "metadata": {
	    "collapsed": true
	   },
	   "outputs": [],
"source": [
"//Chapter 9\n",
"//Example 9.3\n",
"//page 340\n",
"//To calculate subtransient current in Generator,Motor and fault \n",
"clear;clc;\n",
"mvab=25;\n",
"kvb=11;\n",
"Vo=10.6/kvb; //PU Prefault voltage\n",
"printf('\nPrefault Voltage = %0.4fpu\n',Vo);\n",
"Load=15/mvab; //load PU with 0.8pf leading\n",
"Io=(Load/(Vo*0.8))*(cosd(36.9)+%i*sind(36.9)); //Prefault current\n",
"printf('\nPrefault current = %0.4f at %0.1f deg  PU',abs(Io),atand(imag(Io)/real(Io)));\n",
"Eg=Vo+(%i*0.45*Io); //voltage behind subtransient reactance(generator)\n",
"printf('\n\nVoltage behind subtransient reactance(Generator) = %0.4f+j%0.2f pu\n''',real(Eg),imag(Eg));\n",
"Em=Vo-(%i*0.15*Io); //voltage behind subtransient reactance(motor)\n",
"printf('\nVoltage behind subtransient reactance(Motor) = %0.4f-j%0.4f pu',real(Em),abs(imag(Em)));\n",
"Ig=Eg/(%i*0.45); //under fault condition\n",
"Im=Em/(%i*0.15); //under fault condition\n",
"printf('\n\nUnder Faulted condition \n Ig''=%0.4f-j%0.4f pu',real(Ig),abs(imag(Ig)));\n",
"printf('\n Im''=%0.4f-j%0.4f pu',real(Im),abs(imag(Im)));\n",
"If=Ig+Im; //Current in fault\n",
"printf('\n\nCurrent in fault= -j%0.4f pu',abs(imag(If)));\n",
"Ib=(mvab*1000/(sqrt(3)*11)); //Base current\n",
"//Actual Currents\n",
"printf('\n\nNow');\n",
"Ig=Ig*Ib\n",
"Im=Im*Ib\n",
"If=If*Ib\n",
"printf('\nIg''= %0.1f-j%0.1f A',real(Ig),abs(imag(Ig)));\n",
"printf('\nIm''= %0.1f-j%0.1f A',real(Im),abs(imag(Im)));\n",
"printf('\nIf= -j%d A',abs(imag(If)));"
   ]
   }
,
{
		   "cell_type": "markdown",
		   "metadata": {},
		   "source": [
			"## Example 9.4: Maximum_MVA_Calculatio.sce"
		   ]
		  },
  {
"cell_type": "code",
	   "execution_count": null,
	   "metadata": {
	    "collapsed": true
	   },
	   "outputs": [],
"source": [
"//Chapter 9\n",
"//Example 9.4\n",
"//page 345\n",
"//To calculate maximum MVA \n",
"clear;clc;\n",
"mvab=50;\n",
"kvb=6.6;\n",
"mvaA=40;\n",
"mvaB=50;\n",
"mvaC=25;\n",
"feeder_impedance=((0.06+%i*0.12)*mvab)/(kvb^2)\n",
"Gen_A_reactance=(%i*0.1*mvab/mvaA);\n",
"Gen_B_reactance=(%i*0.1*mvab/mvaB);\n",
"Gen_C_reactance=(%i*0.1*mvab/mvaC);\n",
"printf('\nGenerator A reactance = j%0.3f pu',abs(Gen_A_reactance));\n",
"printf('\nGenerator B reactance = j%0.3f pu',abs(Gen_B_reactance));\n",
"printf('\nGenerator C reactance = j%0.3f pu',abs(Gen_C_reactance));\n",
"Reactor_A_reactance=(%i*0.12*mvab/mvaA);\n",
"Reactor_B_reactance=(%i*0.12*mvab/mvaB);\n",
"Reactor_C_reactance=(%i*0.12*mvab/mvaC);\n",
"printf('\nReactor A reactance = j%0.3f pu',abs(Reactor_A_reactance));\n",
"printf('\nReactor B reactance = j%0.3f pu',abs(Reactor_B_reactance));\n",
"printf('\nReactor C reactance = j%0.3f pu',abs(Reactor_C_reactance));\n",
"function resistance=parallel(r1,r2)\n",
"resistance=(r1*r2/(r1+r2));\n",
"endfunction\n",
"Z=(feeder_impedance)+parallel(%i*0.125,(%i*0.15 + parallel(%i*0.22,%i*0.44)));\n",
"scmva=(1/abs(Z))*mvab;\n",
"printf('\n\nSC MVA = %d MVA',scmva);"
   ]
   }
,
{
		   "cell_type": "markdown",
		   "metadata": {},
		   "source": [
			"## Example 9.5: Short_Circuit_Solutio.sce"
		   ]
		  },
  {
"cell_type": "code",
	   "execution_count": null,
	   "metadata": {
	    "collapsed": true
	   },
	   "outputs": [],
"source": [
"//Chapter 9\n",
"//Example 9.5\n",
"//page 347\n",
"//To calculate short circuit solution \n",
"clear;clc;\n",
"//referring to figures 9.19 in the text book,we get directly the fault current\n",
"V4o=1.0;\n",
"Zf=%i*0.13560;\n",
"If=V4o/Zf;\n",
"printf('\nIf= -j%0.5f pu\n\n',abs(If));\n",
"//From Fig9.19d\n",
"I1=If*((%i*0.19583)/(%i*0.37638));\n",
"I2=If*((%i*0.18055)/(%i*0.37638));\n",
"printf('I1 = -j%0.5f pu \n\nI2 = -j%0.5f pu\n\n',abs(I1),abs(I2));\n",
"//voltage changes for bus 1,2 and 3\n",
"deltaV1=0-(%i*0.15)*I1;\n",
"deltaV2=0-(%i*0.15)*I2;\n",
"printf('DeltaV1=%0.5f pu\n\nDeltaV2=%0.5f pu\n\n',deltaV1,deltaV2);\n",
"//reffering to book\n",
"V1f=1+deltaV1;\n",
"V2f=1+deltaV2;\n",
"printf('V1f= %0.5f pu\n\nV2f=%0.5f pu\n\n',V1f,V2f);\n",
"I13=(V1f-V2f)/(%i*0.15+%i*0.1);\n",
"printf('I13=j%0.5f pu\n\n',abs(I13));\n",
"deltaV3=0-((%i*0.15)*(I1)+(%i*0.15)*(I13));\n",
"Vf3=1+deltaV3;\n",
"printf('DeltaV3=%0.5f pu\n\n',deltaV3);\n",
"printf('Vf3=%0.5f pu\n\n',Vf3);\n",
"Vf4=0;\n",
"printf('Vf4=%d\n\n',Vf4);\n",
"//short circuit MVA at bus 4\n",
"SC_MVA_4=abs(If)*100;\n",
"printf('Short circuit MVA at bus4 =%0.3f MVA',SC_MVA_4);"
   ]
   }
,
{
		   "cell_type": "markdown",
		   "metadata": {},
		   "source": [
			"## Example 9.6: Short_Circuit_Solution_using_Algorithm.sce"
		   ]
		  },
  {
"cell_type": "code",
	   "execution_count": null,
	   "metadata": {
	    "collapsed": true
	   },
	   "outputs": [],
"source": [
"//Chapter 9\n",
"//Example 9.6\n",
"//page 352\n",
"//To calculate short circuit solution using algorithm for short circuit studies\n",
"clear;clc;\n",
"Y11=1/(0.15*%i)+1/(0.15*%i)+1/(0.1*%i)+1/(0.2*%i);\n",
"Y12=-1/(0.2*%i);\n",
"Y21=Y12;\n",
"Y13=-1/(0.15*%i);\n",
"Y31=Y13;\n",
"Y14=-1/(0.1*%i);\n",
"Y41=Y14;\n",
"Y22=1/(0.15*%i)+1/(0.15*%i)+1/(0.1*%i)+1/(0.2*%i);\n",
"Y23=-1/(0.1*%i);\n",
"Y32=Y23;\n",
"Y24=-1/(0.15*%i);\n",
"Y42=Y24;\n",
"Y33=1/(0.15*%i)+1/(0.1*%i);\n",
"Y34=0;\n",
"Y43=Y34;\n",
"Y44=1/(0.15*%i)+1/(0.1*%i);\n",
"//Ybus matrix can be written as\n",
"Ybus=[Y11 Y12 Y13 Y14;Y21 Y22 Y23 Y24;Y31 Y32 Y33 Y34;Y41 Y42 Y43 Y44];\n",
"Zbus=inv(Ybus);\n",
"//preault voltages\n",
"V10=1;V20=1;V30=1;V40=1;\n",
"//post fault voltages\n",
"V1f=V10-(Zbus(1,4)/Zbus(4,4))*V40;\n",
"V2f=V20-(Zbus(2,4)/Zbus(4,4))*V40;\n",
"V3f=V30-(Zbus(3,4)/Zbus(4,4))*V40;\n",
"V4f=V40-(Zbus(4,4)/Zbus(4,4))*V40;\n",
"//to calculate fault current through Zf=0\n",
"If=V40/(Zbus(4,4)+0);\n",
"//short circuit current in lines 1-3,1-2,1-4,2-4 and 2-3\n",
"I13f=(V1f-V3f)/(0.15*%i);\n",
"I12f=(V1f-V2f)/(0.2*%i);\n",
"I14f=(V1f-V4f)/(0.1*%i);\n",
"I24f=(V2f-V4f)/(0.15*%i);\n",
"I23f=(V2f-V3f)/(0.1*%i);\n",
"//If at all fault occurs on bus1 or bus2\n",
"If12=1/Zbus(1,1);\n",
"//displaying the results\n",
"printf('\n Ybus=');\n",
"disp(Ybus);\n",
"printf('\n Zbus=');\n",
"disp(Zbus);\n",
"printf('\nV1f= %0.4f pu',V1f);\n",
"printf('\nV2f= %0.4f pu',V2f);\n",
"printf('\nV3f= %0.4f pu',V3f);\n",
"printf('\nV4f= %0.1f pu\n',V4f);\n",
"printf('\nFault current=-j%0.5f pu\n',abs(If));\n",
"printf('\nI13f=j%0.3f pu',abs(I13f));\n",
"printf('\nI12f=j%0.3f pu',abs(I12f));\n",
"printf('\nI14f=-j%0.3f pu',abs(I14f));\n",
"printf('\nI24f=-j%0.3f pu',abs(I24f));\n",
"printf('\nI23f=-j%0.3f pu\n',abs(I23f));\n",
"printf('\n Fault current for a fault on bus 1 (or bus 2)\n If=-j%0.6f pu\n\n',abs(If12));"
   ]
   }
,
{
		   "cell_type": "markdown",
		   "metadata": {},
		   "source": [
			"## Example 9.7: Current_Injection_Method.sce"
		   ]
		  },
  {
"cell_type": "code",
	   "execution_count": null,
	   "metadata": {
	    "collapsed": true
	   },
	   "outputs": [],
"source": [
"//Chapter 9\n",
"//Example 9.7\n",
"//page 355\n",
"//To evaluate Zbus using Current Injection method \n",
"clear;clc;\n",
"disp('We can approach this problem using XCOS simulation')\n",
"disp('In this simulation');\n",
"disp('1)For injecting unit current at bus1 keeping bus2 open circuit,we use a current source of 1 unit which is switched on from t=0 to t=2. During this period we can observe the voltage waveforms of V1 and V2 and compare with the results given in the textbook');\n",
"disp('2)For injecting unit current at bus2 keeping bus1 open circuit,we use a current source of 1 unit which is switched on from t=4 to t=6. During this period we can observe the voltage waveforms of V1 and V2 and compare with the results given in the textbook');\n",
"Z11=7;\n",
"Z21=4;\n",
"Z12=Z21;\n",
"Z22=6;\n",
"Zbus=[Z11 Z12;Z21 Z22]"
   ]
   }
,
{
		   "cell_type": "markdown",
		   "metadata": {},
		   "source": [
			"## Example 9.8: Zbus_matrix_building_using_Algorithm.sce"
		   ]
		  },
  {
"cell_type": "code",
	   "execution_count": null,
	   "metadata": {
	    "collapsed": true
	   },
	   "outputs": [],
"source": [
"//Chapter 9\n",
"//Example 9.8\n",
"//page 360\n",
"//To build Zbus matrix using Zbus building algorithm\n",
"clear;clc;\n",
"disp('Let us go on modifying Zbus by including nodes and the elements connected to it one by one as given in the textbook')\n",
"//step-1 type1 modification\n",
"Zbus=[0.25];\n",
"printf('\nstep-1 type1 modification\nZbus=');disp(Zbus);\n",
"//step-2 type2 modification\n",
"Zbus=[Zbus,0.25;0.25,0.25+0.1];\n",
"printf('\nstep-2 type2 modification\nZbus=');disp(Zbus);\n",
"//step-3 type2 modification\n",
"Zbus=[Zbus [0.25;0.25]; 0.25 0.25 0.35];\n",
"printf('\nstep-3 type2 modification\nZbus=');disp(Zbus);\n",
"//step-4 type3 modification\n",
"Zbus=Zbus-(1/(Zbus(3,3)+0.25))*[Zbus(1:3,2:2)]*[Zbus(2:2,1:3)];\n",
"printf('\nstep-4 type3 modification\nZbus=');disp(Zbus);\n",
"printf('This is the final Zbus matrix after including all the elements\n');\n",
"//step-5 type4 modification\n",
"Zbus=Zbus-(1/(0.1+Zbus(2,2)+Zbus(3,3)-2*Zbus(2,3)))*[Zbus(1:3,2:2)-Zbus(1:3,3:3)]*[Zbus(2:2,1:3)-Zbus(3:3,1:3)];\n",
"printf('\nstep-5 type4 modification\nZbus=');disp(Zbus);\n",
"disp('opening a line between 2-3 is equivalent to connecting (-0.1) between bus3 bus2')\n",
"Zbus=Zbus-(1/(-0.1+Zbus(2,2)+Zbus(3,3)-2*Zbus(2,3)))*[Zbus(1:3,2:2)-Zbus(1:3,3:3)]*[Zbus(2:2,1:3)-Zbus(3:3,1:3)];\n",
"printf('Zbus=');disp(Zbus);printf('(same as in step 4)');"
   ]
   }
,
{
		   "cell_type": "markdown",
		   "metadata": {},
		   "source": [
			"## Example 9.9: PostFault_Currents_and_Voltages_Calculation.sce"
		   ]
		  },
  {
"cell_type": "code",
	   "execution_count": null,
	   "metadata": {
	    "collapsed": true
	   },
	   "outputs": [],
"source": [
"//Chapter 9\n",
"//Example 9.9\n",
"//page 362\n",
"//To find postfault currents and voltages\n",
"clear;clc;\n",
"disp('The Thevenin passive network for this system is drawn in Example_9_8 (or fig 9.28 in the textbook)');\n",
"disp('Using the Zbus matrix from the results of example_9_8,we can calculate post fault currents and voltages');\n",
"Zbus=%i*[0.1397059 0.1102941 0.125;0.1102941 0.1397059 0.125;0.125 0.125 0.175]\n",
"//to find fault current\n",
"V30=1;V10=1;V20=1;\n",
"If=(V30/(Zbus(3,3)+0));\n",
"printf('\nIf=-j%0.2f pu\n',abs(If));\n",
"//to find postfault voltages\n",
"V1f=V10-(Zbus(1,3)/Zbus(3,3));\n",
"V2f=V20-(Zbus(2,3)/Zbus(3,3));\n",
"printf('\nV1f=%0.3f',V1f);\n",
"printf('\nV2f=%0.3f',V2f);\n",
"//to find fault currents in the TL\n",
"I12f=(V1f-V2f)/(%i*0.1);\n",
"I13f=(V1f-0)/(%i*0.1);\n",
"I23f=(V2f-0)/(%i*0.1);\n",
"printf('\n\nI12f=%d',I12f);\n",
"printf('\nI13f=-j%0.2f',abs(I13f));\n",
"printf('\nI23f=-j%0.2f',abs(I23f));\n",
"//to find generator currents during faults\n",
"Eg1=1;Eg2=1;\n",
"Ig1f=(Eg1-V1f)/(0.2*%i+0.05*%i);\n",
"Ig2f=(Eg2-V2f)/(0.2*%i+0.05*%i);\n",
"printf('\n\nIg1f=-j%0.2f',abs(Ig1f));\n",
"printf('\nIg2f=-j%0.2f\n\n',abs(Ig2f));"
   ]
   }
],
"metadata": {
		  "kernelspec": {
		   "display_name": "Scilab",
		   "language": "scilab",
		   "name": "scilab"
		  },
		  "language_info": {
		   "file_extension": ".sce",
		   "help_links": [
			{
			 "text": "MetaKernel Magics",
			 "url": "https://github.com/calysto/metakernel/blob/master/metakernel/magics/README.md"
			}
		   ],
		   "mimetype": "text/x-octave",
		   "name": "scilab",
		   "version": "0.7.1"
		  }
		 },
		 "nbformat": 4,
		 "nbformat_minor": 0
}
