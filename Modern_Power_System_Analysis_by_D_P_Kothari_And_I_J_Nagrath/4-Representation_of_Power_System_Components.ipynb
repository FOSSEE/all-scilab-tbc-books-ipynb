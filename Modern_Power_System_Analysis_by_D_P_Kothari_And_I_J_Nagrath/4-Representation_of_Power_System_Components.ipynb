{
"cells": [
 {
		   "cell_type": "markdown",
	   "metadata": {},
	   "source": [
       "# Chapter 4: Representation of Power System Components"
	   ]
	},
{
		   "cell_type": "markdown",
		   "metadata": {},
		   "source": [
			"## Example 4.1: Per_Unit_Reactance_Diagram.sce"
		   ]
		  },
  {
"cell_type": "code",
	   "execution_count": null,
	   "metadata": {
	    "collapsed": true
	   },
	   "outputs": [],
"source": [
"//Chapter 4\n",
"//Example 4.1\n",
"//page 103\n",
"// to draw the per unit reactance diagram\n",
"clear;clc;\n",
"mvab=30; kvb=33; //MVA base and KVA base are selected\n",
"gen1_mva=30; gen1_kv=10.5; gen1_x=1.6;  //Generator No.1 details\n",
"gen2_mva=15; gen2_kv=6.6; gen2_x=1.2;  //Generator No.2 details\n",
"gen3_mva=25; gen3_kv=6.6; gen3_x=0.56;  //Generator No.3 details\n",
"t1_mva=15; t1_hv=33; t1_lv=11; t1_x=15.2; //Transformer T1 details\n",
"t2_mva=15; t2_hv=33; t2_lv=6.2; t2_x=16; //Transformer T1 details\n",
"tl_x=20.5; //Transmission line recatance\n",
"//Loads are neglected as said in the problem\n",
"tl_pu=(tl_x*mvab)/kvb^2;\n",
"t1_pu=(t1_x*mvab)/kvb^2;\n",
"t2_pu=(t2_x*mvab)/kvb^2;\n",
"gen1_kv_base=t1_lv;\n",
"gen1_pu=(gen1_x*mvab)/gen1_kv_base^2;\n",
"gen2_kv_base=t2_lv;\n",
"gen2_pu=(gen2_x*mvab)/gen2_kv_base^2;\n",
"gen3_pu=(gen3_x*mvab)/gen2_kv_base^2;\n",
"//diplaying the results on console\n",
"printf('Per unit impedance of the components of the given power system are as follows :\n\n');\n",
"printf('Transmission line: %0.3f \n\n',tl_pu);\n",
"printf('Transformer T1: %0.3f \n\n',t1_pu);\n",
"printf('Transformer T2: %0.3f \n\n',t2_pu);\n",
"printf('Generator 1: %0.3f \n\n',gen1_pu);\n",
"printf('Generator 2: %0.3f \n\n',gen2_pu);\n",
"printf('Generator 3: %0.3f \n\n',gen3_pu);"
   ]
   }
,
{
		   "cell_type": "markdown",
		   "metadata": {},
		   "source": [
			"## Example 4.2: Per_Unit_Calculation.sce"
		   ]
		  },
  {
"cell_type": "code",
	   "execution_count": null,
	   "metadata": {
	    "collapsed": true
	   },
	   "outputs": [],
"source": [
"//Chapter 4\n",
"//Example 4.2\n",
"//page 104\n",
"// To draw the per unit reactance diagram when pu values are specified based on euipment rating\n",
"clear;clc;\n",
"mvab=30; kvb=11; //MVA base and KVA base are selected in the circuit of generator 1\n",
"gen1_mva=30; gen1_kv=10.5; gen1_x=0.435;  //Generator No.1 details\n",
"gen2_mva=15; gen2_kv=6.6; gen2_x=0.413;  //Generator No.2 details\n",
"gen3_mva=25; gen3_kv=6.6; gen3_x=0.3214;  //Generator No.3 details\n",
"t1_mva=15; t1_hv=33; t1_lv=11; t1_x=0.209; //Transformer T1 details\n",
"t2_mva=15; t2_hv=33; t2_lv=6.2; t2_x=0.220; //Transformer T1 details\n",
"tl_x=20.5; //Transmission line recatance\n",
"//Loads are neglected as said in the problem\n",
"tl_pu=(tl_x*mvab)/t1_hv^2;\n",
"t1_pu=t1_x*(mvab/t1_mva);\n",
"t2_pu=t2_x*(mvab/t2_mva);\n",
"gen1_pu=gen1_x*(mvab/gen1_mva)*(gen1_kv/kvb)^2;\n",
"gen2_kv_base=t2_lv;\n",
"gen2_pu=gen2_x*(mvab/gen2_mva)*(gen2_kv/gen2_kv_base)^2;\n",
"gen3_kv_base=t2_lv;\n",
"gen3_pu=gen3_x*(mvab/gen3_mva)*(gen3_kv/gen3_kv_base)^2;\n",
"//diplaying the results on console\n",
"printf('Per unit impedance of the components of the given power system are as follows :\n\n');\n",
"printf('Transmission line: %0.3f \n\n',tl_pu);\n",
"printf('Transformer T1: %0.3f \n\n',t1_pu);\n",
"printf('Transformer T2: %0.3f \n\n',t2_pu);\n",
"printf('Generator 1: %0.3f \n\n',gen1_pu);\n",
"printf('Generator 2: %0.3f \n\n',gen2_pu);\n",
"printf('Generator 3: %0.3f \n\n',gen3_pu);"
   ]
   }
,
{
		   "cell_type": "markdown",
		   "metadata": {},
		   "source": [
			"## Example 4.3: Excitation_EMF_and_Reactive_Power_Calculation.sce"
		   ]
		  },
  {
"cell_type": "code",
	   "execution_count": null,
	   "metadata": {
	    "collapsed": true
	   },
	   "outputs": [],
"source": [
"//Taking Base value MVA and KVA\n",
"clear;clc;\n",
"mvab=645; //Base MVA in 3-phase\n",
"kvb=24; //Base KV,line-to-line\n",
"vl=24/kvb; //Load voltage\n",
"xs=1.2;\n",
"xs=(xs*mvab)/kvb^2; // xs converted to its pu\n",
"//since the generator is operating at full load & 0.9pf\n",
"pf_angle=acos(0.9);\n",
"Ia=1*(cos(pf_angle)-%i*sin(pf_angle)); //load current\n",
"//to find excitation emf\n",
"ef=vl+%i*xs*Ia;\n",
"delta=atand(imag(ef)/real(ef));//positive for leading\n",
"ef=abs(ef)*kvb; //pu to actual unit conversion\n",
"  if(delta>0) then lead_lag='leading';\n",
"   else lead_lag='lagging';\n",
"  end\n",
"printf('Excitation emf= %0.2f kV at an angle %0.3f (%s) \n\n',ef,delta,lead_lag);\n",
"//to find reactive power drawn by load\n",
"Q=vl*abs(imag(Ia));\n",
"Q=Q*mvab; //pu to actual unit conversion\n",
"printf('Reactive power drawn by laod= %d MVAR',Q);"
   ]
   }
,
{
		   "cell_type": "markdown",
		   "metadata": {},
		   "source": [
			"## Example 4.4: Power_Factor_And_Load_Angle_Calculation.sce"
		   ]
		  },
  {
"cell_type": "code",
	   "execution_count": null,
	   "metadata": {
	    "collapsed": true
	   },
	   "outputs": [],
"source": [
"//Taking Base value MVA and KVA\n",
"clear;clc;\n",
"global mvab\n",
"mvab=645; //Base MVA in 3-phase\n",
"kvb=24; //Base KV,line-to-line\n",
"vt=24/kvb; //Terminal voltage\n",
"xs=1.2;\n",
"xs=(xs*mvab)/kvb^2; // xs converted to its pu\n",
"//since the generator is operating at full load & 0.9pf\n",
"pf_angle=acos(0.9);\n",
"Ia=1*(cos(pf_angle)-%i*sin(pf_angle)); //load current\n",
"//to find excitation emf\n",
"ef=vt+%i*xs*Ia;\n",
"ef=abs(ef);\n",
"P=1*0.9; //at Full load\n",
"/////// writing an inline function /////////////////\n",
"function [pf,lead_lag,Q]=excitation_change(P,ef,vt,xs)\n",
"sin_delta=(P*xs)/(ef*vt);\n",
"delta=asind(sin_delta);\n",
"ef0=ef*(cosd(delta)+(%i*sind(delta)));\n",
"Ia=(ef0-vt)/(%i*xs);\n",
"Ia_mag=abs(Ia);Ia_ang=atand(imag(Ia)/real(Ia)); // Magnitude and angle of Ia\n",
"pf=cosd(abs(Ia_ang));\n",
"if(Ia_ang>0) then lead_lag='leading';\n",
"  elseif (Ia_ang==0) then lead_lag='unity pf' \n",
"    else lead_lag='lagging';\n",
"  end\n",
"Q=vt*Ia_mag*sind(abs(Ia_ang));\n",
"Q=abs(Q)*mvab;\n",
"endfunction\n",
"////////////////////////////////////////////////////////\n",
"// First Case when Ef is increased by 20% at same real load now\n",
" ef1=ef*1.2;\n",
"[pf1,lead_lag1,Q1]=excitation_change(P,ef1,vt,xs);\n",
"disp('Case (i): When Ef is increased by 20% ');\n",
"printf('\n\tPower factor pf= %0.2f %s \n',pf1,lead_lag1);\n",
"printf('\tReactive power drawn by the load = %0.1f MVAR \n',Q1);\n",
"//Second Case when Ef is decreased by 20% at same real load now\n",
" ef2=ef*0.8;\n",
"[pf2,lead_lag2,Q2]=excitation_change(P,ef2,vt,xs);\n",
"disp('Case (ii): When Ef is decreased by 20% ');\n",
"printf('\n\tPower factor pf= %0.2f %s \n',pf2,lead_lag2);\n",
"printf('\tReactive power drawn by the load = %0.1f MVAR \n',Q2);\n",
"disp('The answers given here are exact values.Textbook answers has an approximation of upto 2 decimal places on Xs,Ia,pf. ');"
   ]
   }
],
"metadata": {
		  "kernelspec": {
		   "display_name": "Scilab",
		   "language": "scilab",
		   "name": "scilab"
		  },
		  "language_info": {
		   "file_extension": ".sce",
		   "help_links": [
			{
			 "text": "MetaKernel Magics",
			 "url": "https://github.com/calysto/metakernel/blob/master/metakernel/magics/README.md"
			}
		   ],
		   "mimetype": "text/x-octave",
		   "name": "scilab",
		   "version": "0.7.1"
		  }
		 },
		 "nbformat": 4,
		 "nbformat_minor": 0
}
