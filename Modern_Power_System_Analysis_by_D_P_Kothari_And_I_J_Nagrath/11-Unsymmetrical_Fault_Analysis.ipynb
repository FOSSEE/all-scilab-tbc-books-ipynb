{
"cells": [
 {
		   "cell_type": "markdown",
	   "metadata": {},
	   "source": [
       "# Chapter 11: Unsymmetrical Fault Analysis"
	   ]
	},
{
		   "cell_type": "markdown",
		   "metadata": {},
		   "source": [
			"## Example 11.1: LG_and_3Phase_faults_Comparision.sce"
		   ]
		  },
  {
"cell_type": "code",
	   "execution_count": null,
	   "metadata": {
	    "collapsed": true
	   },
	   "outputs": [],
"source": [
"//Chapter 11\n",
"//Example 11.1\n",
"//page 406\n",
"//To draw sequence networks of generator and to compare LG fault current will be greater than three-phase fault current when neutral is solidly grounded\n",
"clear;clc;\n",
"disp('Sequence networks of synchronous generator grounded through neutral impedance has been drawn using XCOS ');\n",
"disp('Since the derivation can not be done here, let us do this problem by taking a suitable values for the sequence reactances of the generator');\n",
"disp('X1=j0.18, X2=j0.15, X0=j0.10 pu and Ea=1');\n",
"disp('From the figs 11.13 and 11.14 in the textbook,we can find Ilg and I3L');\n",
"Ea=1;X1=0.18*%i;X2=0.15*%i;X0=0.10*%i;\n",
"IaLG=3*Ea/(2*X1+X0)\n",
"Ia3L=3*Ea/(3*X1)\n",
"disp('Same values of sequence impedance have been used in XCOS simulation also to varify the result');"
   ]
   }
,
{
		   "cell_type": "markdown",
		   "metadata": {},
		   "source": [
			"## Example 11.2: Grounding_Resistor_voltage_and_Fault_Current.sce"
		   ]
		  },
  {
"cell_type": "code",
	   "execution_count": null,
	   "metadata": {
	    "collapsed": true
	   },
	   "outputs": [],
"source": [
"//Chapter 11\n",
"//Example 11.2\n",
"//page 408\n",
"//To find fault current and voltage across the grounding resistor\n",
"clear;clc;\n",
"X1eq=(%i*0.18)/2;\n",
"X2eq=(%i*0.15)/2;\n",
"Z0eq=(%i*0.10)+3*(2*20/(11^2));\n",
"Ea=1;\n",
"//calculation of fault current\n",
"printf('\nFault current is given by ');\n",
"If=(3*Ea)/(X1eq+X2eq+Z0eq)\n",
"//current in grounding resistor\n",
"Ifg=abs(If)*(20/(11*sqrt(3)));\n",
"printf('\n\nCurrent through grounding resistor Ifg=%0.2fkA',Ifg);\n",
"//voltage across grounding resistor\n",
"Vgr=abs(If*(2*20/(11^2))*(11/sqrt(3)));\n",
"printf('\n\nVoltage across grounding resistor Vgr=%0.2fkV\n\n',Vgr);"
   ]
   }
,
{
		   "cell_type": "markdown",
		   "metadata": {},
		   "source": [
			"## Example 11.3: Fault_and_subtransient_currents_of_the_system.sce"
		   ]
		  },
  {
"cell_type": "code",
	   "execution_count": null,
	   "metadata": {
	    "collapsed": true
	   },
	   "outputs": [],
"source": [
"//Chapter 11\n",
"//Example 11.3\n",
"//page 409\n",
"//To find fault current and subtransient current in all parts of the system\n",
"clear;clc;\n",
"a=-0.5+(sqrt(3)/2)*%i;\n",
"//neglecting prefault currents\n",
"Vf0=10/11;\n",
"Eg=Vf0; Em1=Vf0 ;Em2=Vf0;\n",
"//positive sequence network when it is replaced by its thevenin's equvivalent as shown in fig11.18\n",
"printf('\nsequence impedances are given by \n');\n",
"Z1=(%i*0.525*%i*0.23)/(%i*0.755);\n",
"Z2=Z1;\n",
"Z0=%i*1.712;\n",
"printf('Z1=j%0.4f \nZ2=j%0.4f \nZ0=j%0.4f',abs(imag(Z1)),abs(imag(Z2)),abs(imag(Z0)));\n",
"//to find sequence current\n",
"Ia1=Vf0/(Z1+Z2+Z0);\n",
"Ia2=Ia1;\n",
"Ia0=Ia1;\n",
"//to find fault current\n",
"If=3*Ia0;\n",
"printf('\n\nFault Current= -j%0.4f',abs(imag(If)));\n",
"//component current flowing from generator and motor\n",
"printf('\n\nComponents currents flowing from Generator and motor are \n')\n",
"Ig1=Ia1*(0.23/0.755) ;\n",
"Ig2=Ig1;\n",
"Ig0=0;\n",
"printf('Ig1= -j%0.4f \nIg2= -j%0.4f \nIg0=%d',abs(Ig1),abs(Ig2),abs(Ig0));\n",
"printf('\n');\n",
"Im1=Ia1*(0.525/0.755);\n",
"Im2=Im1;\n",
"Im0=Ia0;\n",
"printf('\nIm1= -j%0.4f \nIm2= -j%0.4f \nIm0= -j%0.4f',abs(Im1),abs(Im2),abs(Im0));\n",
"//fault currents from the generator and motor towards g are\n",
"printf('\n\nFault current from the generator towards g are ');\n",
"Ig=[1 1 1;a^2 a 1;a a^2 1]*[Ig1;Ig2;Ig0];\n",
"disp(Ig);\n",
"printf('and to g from motors are');\n",
"Im=[1 1 1;a^2 a 1;a a^2 1]*[Im1;Im2;Im0];\n",
"disp(Im);\n",
"printf('\nPositive sequence current =%0.3f pu',(-%i*Ig1));\n",
"printf('\nNegative sequence current =%0.3f pu',(%i*Ig2));\n",
"printf('\nZero sequence current=%d\n',Ig0);\n",
"//under loaded condition,PU motor currents are\n",
"Im1o=(15/(25*0.909*0.8))*(0.800103636+%i*0.5998617938);\n",
"Im2o=(7.5/(25*0.909*0.8))*(0.800103636+%i*0.5998617938);\n",
"printf('\nThe per unit motor currents are:\n');\n",
"printf('Motor1:%0.2f +j%0.3f pu',real(Im1o),imag(Im1o));\n",
"printf('\nMotor2:%0.2f +j%0.3f pu',real(Im2o),imag(Im2o));\n",
"//the voltages behind subtransient reactances are calculated below\n",
"printf('\n\nVoltage behind subtransient reactances:\n');\n",
"printf('Motor1:');\n",
"Em1=Em1-(%i*0.345*Im1o);\n",
"printf('Em1= %0.4f-j%0.4f',real(Em1),abs(imag(Em1)));\n",
"printf('\nMotor2:');\n",
"Em2=Em2-(%i*0.69*Im2o);\n",
"printf('Em2= %0.4f-j%0.4f',real(Em2),abs(imag(Em2)));\n",
"printf('\nGenerator:');\n",
"Eg=Eg+(%i*0.525*(Im2o+Im1o));\n",
"printf('Eg= %0.4fj+%0.4f',real(Eg),abs(imag(Eg)));\n",
"//actual value of positive sequence current from generator and motor\n",
"printf('\n\nThe actual value of positive sequence current from the generator towards fault is = %0.2f+j%0.3f',real(Im1o+Im2o+Ig1),imag(Im1o+Im2o+Ig1));\n",
"printf('\nThe actual value of positive sequence current from the motors towards fault is = %0.2f-j%0.3f',real(-Im1o-Im2o+Im1),abs(imag(-Im1o-Im2o+Im1)));"
   ]
   }
,
{
		   "cell_type": "markdown",
		   "metadata": {},
		   "source": [
			"## Example 11.4: LL_Fault_Current.sce"
		   ]
		  },
  {
"cell_type": "code",
	   "execution_count": null,
	   "metadata": {
	    "collapsed": true
	   },
	   "outputs": [],
"source": [
"//Chapter 11\n",
"//Example 11.4\n",
"//page 412\n",
"//To find L-L fault current and voltage of healthy phase\n",
"clc;clear;\n",
"X1eq=0.09*%i;\n",
"X2eq=0.075*%i;\n",
"Z0=0.99+(%i*0.1);\n",
"Ea=1;Ia0=0;\n",
"//to calculate Ia1\n",
"Ia1=Ea/(X1eq+X2eq);\n",
"//to calculate fault current\n",
"If=(-%i*sqrt(3))*(-%i*6.06);\n",
"Va1=Ea-(Ia1*X1eq);\n",
"Va0=(-Ia0*Z0);\n",
"Va2=Va1;\n",
"//voltage in healthy phase\n",
"Va=Va1+Va2+Va0;\n",
"//displaying the result\n",
"printf('\nIa1=-j%0.2f',abs(Ia1));\n",
"printf('\nIf=%0.3f',If);\n",
"printf('\nVa1=Va2=%0.3f',Va1);\n",
"printf('\nVa0=%d',Va0);\n",
"printf('\nVa=Va1+Va2+Va0=%0.2f\n\n',Va);"
   ]
   }
,
{
		   "cell_type": "markdown",
		   "metadata": {},
		   "source": [
			"## Example 11.5: Double_line_to_ground_Fault.sce"
		   ]
		  },
  {
"cell_type": "code",
	   "execution_count": null,
	   "metadata": {
	    "collapsed": true
	   },
	   "outputs": [],
"source": [
"//Chapter 11\n",
"//Example 11.5\n",
"//page 413\n",
"//To find Double line to ground fault current and voltage of healthy phase\n",
"clc;clear;\n",
"Z1eq=0.09*%i;\n",
"Z2eq=0.075*%i;\n",
"Z0=(%i*0.1);\n",
"Ea=1;\n",
"a=(-0.5+%i*sqrt(3)/2);\n",
"//to find the sequence components of healthy phase\n",
"Ia1=Ea/(Z1eq+(Z2eq*Z0/(Z2eq+Z0)));\n",
"Va1=Ea-(Ia1*Z1eq);\n",
"Va2=Va1;\n",
"Va0=Va1;\n",
"Ia2=-(Va2/Z2eq);\n",
"Ia0=-(Va0/Z0);\n",
"I=[1 1 1;a^2 a 1;a a^2 1]*[Ia1; Ia2; Ia0];\n",
"//voltage of the healthy phase\n",
"Va=3*Va1;\n",
"//displaying the results\n",
"printf('Ia1=-j%0.3f\n',abs(Ia1));\n",
"printf(' Ia2=j%0.3f\n',abs(Ia2));\n",
"printf(' Ia0=j%0.3f\n\n',abs(Ia0));\n",
"printf(' Ia=%0.3f + j%0.3f\n',real(I(1,1)),imag(I(1,1)));\n",
"printf(' Ib=%0.3f + j%0.3f\n',real(I(2,1)),imag(I(2,1)));\n",
"printf(' Ic=%0.3f + j%0.3f\n\n',real(I(3,1)),imag(I(3,1)));\n",
"printf(' Voltage of the healthy phase Va=3Va1=%0.3f',Va);"
   ]
   }
,
{
		   "cell_type": "markdown",
		   "metadata": {},
		   "source": [
			"## Example 11.6: Bus_Voltages_and_Currents_Calculations.sce"
		   ]
		  },
  {
"cell_type": "code",
	   "execution_count": null,
	   "metadata": {
	    "collapsed": true
	   },
	   "outputs": [],
"source": [
"//Chapter 11\n",
"//Example 11.6\n",
"//page 420\n",
"//To find bus voltages and currents\n",
"clc;clear;\n",
"v_pf=1; //prefault voltage\n",
"//according to the fig.11.26\n",
"Y1dd=((%i*0.2)^-1)+((%i*0.0805)^-1);\n",
"Y1fg=-(%i*0.0805)^-1;\n",
"Y1de=Y1fg;\n",
"Y1ff=((%i*0.0805)^-1)+((%i*0.164)^-1);\n",
"Y1ee=Y1ff;\n",
"Y1ef=-(%i*0.164)^-1;\n",
"Y1gg=((%i*0.0805)^-1)+((%i*0.345)^-1)+((%i*0.69)^-1);\n",
"Y1df=0;\n",
"Y1dg=0;\n",
"Y1ed=Y1de;\n",
"Y1eg=0;\n",
"Y1fd=0;\n",
"Y1fe=Y1ef;\n",
"Y1gd=0;\n",
"Y1ge=0;\n",
"Y1gf=Y1fg;\n",
"printf('\nY-Bus and Z-Bus matrix can be written as:\n')\n",
"Y1_bus=[Y1dd Y1de Y1df Y1dg;Y1ed Y1ee Y1ef Y1eg;Y1fd Y1fe Y1ff Y1fg;Y1gd Y1ge Y1gf Y1gg];\n",
"Y2_bus=Y1_bus;\n",
"printf('\nY1_bus=');disp(Y1_bus);\n",
"printf('\nY2_bus=');disp(Y2_bus);\n",
"Y0dd=(%i*1.608)^-1;Y0de=0;Y0df=0;Y0dg=0;\n",
"Y0ed=0;Y0ee=((%i*0.0805)^-1)+((%i*0.494)^-1);Y0ef=-(%i*0.494)^-1;Y0eg=0;\n",
"Y0fd=0;Y0fe=Y0ef;Y0ff=Y0ee;Y0fg=0;\n",
"Y0gd=0;Y0de=0;Y0gf=0;Y0gg=(%i*1.712)^-1;\n",
"Y0_bus=[Y0dd Y0de Y0df Y0dg;Y0ed Y0ee Y0ef Y0eg;Y0fd Y0fe Y0ff Y0fg;Y0gd Y0de Y0gf Y0gg];\n",
"printf('\nY0_bus=');disp(Y0_bus);\n",
"//finding Z-bus matrix\n",
"Z1_bus=inv(Y1_bus);\n",
"Z2_bus=inv(Y2_bus);\n",
"Z0_bus=inv(Y0_bus);\n",
"printf('\n\nZ1bus=');disp(Z1_bus);\n",
"printf('\nZ2_bus=');disp(Z2_bus);\n",
"printf('\nZ0_bus=');disp(Z0_bus);\n",
"//to find fault current with LG fault on bus e ---case(i)\n",
"If_e=(3*v_pf)/(Z1_bus(2,2)+Z2_bus(2,2)+Z0_bus(2,2));\n",
"printf('\n\n\nFault current with LG fault on bus e is If_e= -j%0.5f\n',abs(imag(If_e)));\n",
"//to find fault current with LG fault on bus f ---case(ii)\n",
"If_f=(3*v_pf)/(Z1_bus(3,3)+Z2_bus(3,3)+Z0_bus(3,3));\n",
"printf('Fault current with LG fault on bus f is If_f= -j%0.5f\n',abs(imag(If_f)));\n",
"//to find bus voltages and line currents in case(i)\n",
"printf('\n\n\nBus voltages and currents are given below:\n\n');\n",
"Vf1_d=1-(Z1_bus(1,2)*If_e/3);\n",
"Vf1_e=1-(Z1_bus(2,2)*If_e/3);\n",
"Vf1_f=1-(Z1_bus(3,2)*If_e/3);\n",
"Vf1_g=1-(Z1_bus(4,2)*If_e/3);\n",
"disp('Vf1_d=');disp(Vf1_d);\n",
"disp('Vf1_e=');disp(Vf1_e);\n",
"disp('Vf1_f=');disp(Vf1_f);\n",
"disp('Vf1_g=');disp(Vf1_g);\n",
"printf('\n\n\n');\n",
"Vf2_d=-(Z2_bus(1,2)*If_e/3);\n",
"Vf2_e=-(Z2_bus(2,2)*If_e/3);\n",
"Vf2_f=-(Z2_bus(3,2)*If_e/3);\n",
"Vf2_g=-(Z2_bus(4,2)*If_e/3);\n",
"disp('Vf2_d=');disp(Vf2_d);\n",
"disp('Vf2_e=');disp(Vf2_e);\n",
"disp('Vf2_f=');disp(Vf2_f);\n",
"disp('Vf2_g=');disp(Vf2_g);\n",
"printf('\n\n\n');\n",
"Vf0_d=-(Z0_bus(1,2)*If_e/3);\n",
"Vf0_e=-(Z0_bus(2,2)*If_e/3);\n",
"Vf0_f=-(Z0_bus(3,2)*If_e/3);\n",
"Vf0_g=-(Z0_bus(4,2)*If_e/3);\n",
"disp('Vf0_d=');disp(Vf0_d);\n",
"disp('Vf0_e=');disp(Vf0_e);\n",
"disp('Vf0_f=');disp(Vf0_f);\n",
"disp('Vf0_g=');disp(Vf0_g);\n",
"printf('\n\n\n');\n",
"If1_fe=-Y1fe*(Vf1_f-Vf1_e);disp('If1_fe=');disp(If1_fe);\n",
"If1_de=-Y1de*(Vf1_d-Vf1_e);disp('If1_de=');disp(If1_de);\n",
"Ia1=If1_fe+If1_de;disp('Ia1=');disp(Ia1);\n",
"printf('\n\n\n');\n",
"If1_gf=-Y1gf*(Vf2_g-Vf2_f);disp('If1_gf=');disp(If1_gf);\n",
"printf('\n\n\n');\n",
"If2_fe=-Y1fe*(Vf2_f-Vf2_e);disp('If2_fe=');disp(If2_fe); //Y2fe=Y1fe\n",
"If0_fe=-Y0fe*(Vf2_f-Vf2_e);disp('If0_fe=');disp(If0_fe);\n",
"If_fe=If1_fe+If2_fe+If0_fe;disp('If_fe=');disp(If_fe);"
   ]
   }
,
{
		   "cell_type": "markdown",
		   "metadata": {},
		   "source": [
			"## Example 11.7: Short_Circuit_Current_Calculations.sce"
		   ]
		  },
  {
"cell_type": "code",
	   "execution_count": null,
	   "metadata": {
	    "collapsed": true
	   },
	   "outputs": [],
"source": [
"//Chapter 11\n",
"//Example 11.7\n",
"//page 423\n",
"//To find short circuit currents\n",
"clc;clear;\n",
"v_pf=1; //prefault voltage\n",
"a=0.5+0.8660254*%i;\n",
"//according to the fig.11.28 we can write Z-bus matrix for positive and negative phase sequence\n",
"printf('\nstep by step for finding Z1_bus\n')\n",
"//Bus1 to referance bus\n",
"Z1_bus=[0.15];\n",
"printf('Bus1 to reference\nZ1_bus=');disp(Z1_bus);\n",
"//Bus2 to Bus1\n",
"Z1_bus=[Z1_bus 0.15;0.15 0.15+0.2];\n",
"printf('\nBus2 to Bus1\nZ1_bus=');disp(Z1_bus);\n",
"//Bus2 to reference bus\n",
"Z1_bus=Z1_bus-(1/(Z1_bus(2,2)+0.15))*[Z1_bus(1:2,2:2)]*[Z1_bus(2:2,1:2)];\n",
"Z1_bus=(%i*Z1_bus);\n",
"Z2_bus=Z1_bus;\n",
"printf('\nBus2 to Reference\nZ1_bus=');disp(Z1_bus);printf('\nZ2_bus=');disp(Z2_bus);\n",
"//according to the fig.11.29 we can write Z-bus matrix for zero phase sequence\n",
"printf('\nstep by step for finding Z0_bus\n')\n",
"//Bus1 to referance bus\n",
"Z0_bus=[0.05];\n",
"printf('\nBus1 to reference \nZ0_bus=');disp(Z0_bus);\n",
"//Bus2 to Bus1\n",
"Z0_bus=[Z0_bus 0.05;0.05 0.05+0.4];\n",
"printf('\nBus1 to Bus1 \nZ0_bus=');disp(Z0_bus);\n",
"//Bus2 to reference bus\n",
"Z0_bus=Z0_bus-(1/(Z0_bus(2,2)+0.05))*[Z0_bus(1:2,2:2)]*[Z0_bus(2:2,1:2)];\n",
"Z0_bus=(%i*Z0_bus);\n",
"printf('\nBus2 to reference \nZ0_bus=');disp(Z0_bus);\n",
"//to find positive sequence of fault current\n",
"printf('\n\n\nFault current calculation\n')\n",
"If1_1=v_pf/(Z1_bus(1,1)+Z2_bus(1,1)+Z0_bus(1,1)); printf('If1_1 = -j%0.5f',abs(imag(If1_1)));\n",
"printf('\nFault current=If1=3If1_1=-j%0.1f\n\n',abs(imag(3*If1_1)));\n",
"Vf1_1=1-Z1_bus(1,1)*If1_1;\n",
"Vf1_2=1-Z1_bus(2,1)*If1_1;\n",
"Vf2_1=-Z2_bus(1,1)*If1_1;\n",
"Vf2_2=-Z2_bus(2,1)*If1_1;\n",
"Vf0_1=-Z0_bus(1,1)*If1_1;\n",
"Vf0_2=-Z0_bus(2,1)*If1_1;\n",
"If1_12=((%i*0.2)^-1)*(Vf1_1-Vf1_2);\n",
"If2_12=((%i*0.2)^-1)*(Vf2_1-Vf2_2);\n",
"If0_12=((%i*0.4)^-1)*(Vf0_1-Vf0_2);\n",
"If=[1 1 1;a^2 a 1;a a^2 1]*[If1_12;If2_12;If0_12];\n",
"printf('\n\n\nShort circuit current on the transmission line in all the three phases\n')\n",
"printf('\nIf_a_12=');\n",
"disp(If(1,1));\n",
"printf('\nIf_b_12=');\n",
"disp(If(2,1));\n",
"printf('\nIf_b_12=');\n",
"disp(If(3,1));\n",
"//short circuit current phase(a) of the generator\n",
"If1_G=((0.15*%i)^-1)*(1-Vf1_1)*(cosd(-30)+%i*sind(-30));\n",
"If2_G=((0.15*%i)^-1)*(0-Vf2_1)*(cosd(30)+%i*sind(30));\n",
"If0_G=0;\n",
"printf('\n\n\nshort circuit current phase(a) of the generator\n')\n",
"Ifa_G=If1_G+If2_G+If0_G; printf('Ifa_G = -j%0.5f',abs(imag(Ifa_G)));\n",
"//Voltage of the healthy phases of the bus 1.\n",
"printf('\n\n\nVoltage of the healthy phases of the bus 1\n')\n",
"Vf_b_1=Vf1_1*(cosd(240)+%i*sind(240))+Vf2_1*(cosd(120)+%i*sind(120))+Vf0_1; printf('Vf_b_1=%0.4f - j%0.5f',real(Vf_b_1),abs(imag(Vf_b_1)));\n",
"Vf_c_1=Vf1_1*(cosd(120)+%i*sind(120))+Vf2_1*(cosd(240)+%i*sind(240))+Vf0_1; printf('\nVf_c_1=%0.4f + j%0.5f',real(Vf_c_1),abs(imag(Vf_c_1)));"
   ]
   }
],
"metadata": {
		  "kernelspec": {
		   "display_name": "Scilab",
		   "language": "scilab",
		   "name": "scilab"
		  },
		  "language_info": {
		   "file_extension": ".sce",
		   "help_links": [
			{
			 "text": "MetaKernel Magics",
			 "url": "https://github.com/calysto/metakernel/blob/master/metakernel/magics/README.md"
			}
		   ],
		   "mimetype": "text/x-octave",
		   "name": "scilab",
		   "version": "0.7.1"
		  }
		 },
		 "nbformat": 4,
		 "nbformat_minor": 0
}
