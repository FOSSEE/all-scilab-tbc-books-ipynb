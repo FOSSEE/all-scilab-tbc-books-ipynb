{
"cells": [
 {
		   "cell_type": "markdown",
	   "metadata": {},
	   "source": [
       "# Chapter 4: ELECTRICAL CHARACTERISTICS MODELLING AND PERFORMANCE OF AERIAL TRANSMISSION LINES"
	   ]
	},
{
		   "cell_type": "markdown",
		   "metadata": {},
		   "source": [
			"## Example 4.10: Example.sce"
		   ]
		  },
  {
"cell_type": "code",
	   "execution_count": null,
	   "metadata": {
	    "collapsed": true
	   },
	   "outputs": [],
"source": [
"// calculation of GMD , Dm\n",
"// Dab = (da1b1 * da1b2 * da2b1 * da2b2)*(1/4) = (gkkg)^(1/2) = sqrt(gk)\n",
"// Inductance/phase  = 2 * 10^-7 log ( Dm / Ds)\n",
"printf('Inductance/phase = 2 * 10^-7 / 3 * log(g^2*k^2*h*d/(r^3*f^2*m)) H/m')\n",
"// Capacitance/phase = 2*%pi*%e/( log(Dm/Ds))\n",
"disp('Capacitance/phase = 6*%pi*%e / (log(g^2*k^2*h*d/(r^3*f^2*m))) F/m')"
   ]
   }
,
{
		   "cell_type": "markdown",
		   "metadata": {},
		   "source": [
			"## Example 4.11: Example.sce"
		   ]
		  },
  {
"cell_type": "code",
	   "execution_count": null,
	   "metadata": {
	    "collapsed": true
	   },
	   "outputs": [],
"source": [
"// Variable Declaration\n",
"h = 5        //Height of conductor above ground(m)\n",
"d = 1.5      //Conductor spacing(m)\n",
"r = 0.006    //Radius of conductor(m)\n",
"// Calculation Section\n",
"C_AB = %pi * 8.854*10**-9/log(d/(r*(1+((d*d)/(4*h*h)))**0.5))  //Capacitance with effect of earth(F/km)\n",
"C_AB1 = %pi * 8.854*10**-9/log(d/r)                            //Capacitance ignoring effect of earth(F/km)\n",
"ch = (C_AB - C_AB1)/C_AB * 100                                          //Change in capacitance with effect of earth(%)\n",
"// Result Section\n",
"printf('Line capacitance with effect of earth , C_AB = %.3e F/km' ,C_AB)\n",
"printf('Line capacitance ignoring effect of earth , C_AB = %.3e F/km' ,C_AB1)\n",
"printf('With effect of earth slight increase in capacitance = %.1f percent' ,ch)"
   ]
   }
,
{
		   "cell_type": "markdown",
		   "metadata": {},
		   "source": [
			"## Example 4.12: Example.sce"
		   ]
		  },
  {
"cell_type": "code",
	   "execution_count": null,
	   "metadata": {
	    "collapsed": true
	   },
	   "outputs": [],
"source": [
"// Variable Declaration\n",
"R = 0.16             //Resistance(ohm)\n",
"L = 1.26*10**(-3)    //Inductance(H)\n",
"C = 8.77*10**(-9)    //Capacitance(F)\n",
"l = 200.0            //Length of line(km)\n",
"P = 50.0             //Power(MVA)\n",
"pf = 0.8             //Lagging power factor\n",
"V_r = 132000.0       //Receiving end voltage(V)\n",
"f = 50.0             //Frequency(Hz)\n",
"// Calculation Section\n",
"w = 2 * %pi * f\n",
"z = complex(R, w*L)        //Series impedance per phase per km(ohm)\n",
"y = complex(0, w*C)        //Shunt admittance per phase per km(mho)\n",
"g = (y*z)**(0.5)           //propagation constant(/km)\n",
"gl = g * l\n",
"Z_c = (z/y)**(0.5)         //Surge impedance(ohm)\n",
"cosh_gl = cosh(gl)\n",
"sinh_gl = sinh(gl)\n",
"A = cosh_gl\n",
"B = Z_c * sinh_gl\n",
"C = (sinh_gl/Z_c)\n",
"D = cosh_gl\n",
"fi = acos(pf)                                           //Power factor angle(radians)\n",
"V_R = V_r/(3**0.5)                                           //Receiving end voltage(V)\n",
"I_R = (P*10**6/((3**0.5)*V_r))*(pf - complex(0,sin(fi)))//Receiving end current(A)\n",
"V_S = (A*V_R + B*I_R)                                        //Sending end voltage(V/phase)\n",
"V_S_L = V_S * (3**0.5)*10**-3                                //Sending end line voltage(kV)\n",
"I_S = C*V_R + D*I_R                                          //Sending end current(A)\n",
"pf_S = cos((phasemag(I_S)*%pi/180) - (phasemag(V_S)*%pi/180))         //Sending end power factor\n",
"P_S = abs(V_S*I_S)*pf_S*10**-6                               //Sending end power/phase(MW)\n",
"P_R = (P/3)*pf                                               //Receiving end power/phase(MW)\n",
"P_L = 3*(P_S - P_R)                                          //Total line loss(MW)\n",
"// Result Section\n",
"printf('Sending end voltage , V_S = %.2f∠%.2f° kV/phase' ,abs(V_S*10**-3),phasemag(V_S))\n",
"printf('Sending end line voltage = %.2f kV' ,abs(V_S_L))\n",
"printf('Sending end current , I_S = %.2f∠%.2f° A' ,abs(I_S),phasemag(I_S))\n",
"printf('Sending end power factor = %.2f lagging' ,pf_S)\n",
"printf('Total transmission line loss = %.3f MW' ,P_L)\n",
"printf('NOTE : Answers are slightly different because of rounding error.')"
   ]
   }
,
{
		   "cell_type": "markdown",
		   "metadata": {},
		   "source": [
			"## Example 4.13: Example.sce"
		   ]
		  },
  {
"cell_type": "code",
	   "execution_count": null,
	   "metadata": {
	    "collapsed": true
	   },
	   "outputs": [],
"source": [
"// Variable Declaration\n",
"R = 0.1      //Resistance/phase/km(ohm)\n",
"D_m = 800.0  //Spacing b/w conductors(cm)\n",
"d = 1.5      //Diameter of each conductor(cm)\n",
"l = 300.0    //Length of transmission line(km)\n",
"f = 50.0     //Frequency(Hz)\n",
"// Calculation Section\n",
"L = 2*10**(-4)*log(D_m*2/d)                //Inductance/phase/km(H)\n",
"C = 2*%pi*8.854*10**(-9)/log(D_m*2/d)  //Capacitance/phase/km(F)\n",
"w = 2 * %pi * f\n",
"z = complex(R, w*L)                             //Series impedance per phase per km(ohm/km)\n",
"y = complex(0, w*C)                             //Shunt admittance per phase per km(mho/km)\n",
"g = (y*z)**(0.5)                                //propagation constant(/km)\n",
"gl = g * l\n",
"Z_c = (z/y)**(0.5)                              //Surge impedance(ohm)\n",
"sinh_gl = sinh(gl)\n",
"tanh_gl = tanh(gl/2)\n",
"Z_S = Z_c * sinh_gl                             //Series impedance(ohm)\n",
"Y_P = (1/Z_c)*tanh(gl/2)                  //Pillar admittance(mho)\n",
"// Result Section\n",
"printf('Values of equivalent-pi network are :')\n",
"printf('Series impedance , Z_S = (%.2f + j%.2f) ohm' ,real(Z_S),imag(Z_S))\n",
"printf('Pillar admittance , Y_P = %.2e∠%.2f° mho = j%.2e mho' ,abs(Y_P),phasemag(Y_P),imag(Y_P))\n",
"printf('NOTE : Answers are slightly different because of rounding error.')"
   ]
   }
,
{
		   "cell_type": "markdown",
		   "metadata": {},
		   "source": [
			"## Example 4.14: Example.sce"
		   ]
		  },
  {
"cell_type": "code",
	   "execution_count": null,
	   "metadata": {
	    "collapsed": true
	   },
	   "outputs": [],
"source": [
"// Variable Declaration\n",
"V_r = 220000.0   //Voltage(V)\n",
"P = 100.0        //Power(MW)\n",
"r = 0.08         //Series resistance(ohm)\n",
"x = 0.8          //Series reactance(ohm)\n",
"s = 6.0*10**(-6) //Shunt susceptance(mho)\n",
"pf = 0.8         //Power factor lagging\n",
"l_1 = 60.0       //Transmission length(km) for case(i)\n",
"l_2 = 200.0      //Transmission length(km) for case(ii)\n",
"l_3 = 300.0      //Transmission length(km) for case(iii)\n",
"l_4 = 500.0      //Transmission length(km) for case(iv)\n",
"// Calculation Section\n",
"z = complex(r,x)                                                   //Series impedance/km(ohm)\n",
"y = complex(0,s)                                                   //Shunt admittance/km(mho)\n",
"theta_R = acos(pf)\n",
"P_R = P/3                                                          //Active power at receiving end/phase(MW)\n",
"Q_R = (P/3)*tan(theta_R)                                      //Reactive power at receiving end/phase(MVAR)\n",
"V_R = V_r/(3**0.5)                                                 //Receiving end voltage/phase(V)\n",
"I_R = P*10**6/((3**0.5)*V_r*pf)*(pf - complex(0,sin(theta_R)))//Receiving end current(A)\n",
"Z_c = (z/y)**(0.5)                                                 //Surge impedance(ohm)\n",
"A_1 = 1                                                 //Constant A\n",
"B_1 = z*l_1                                             //Constant B(ohm)\n",
"C_1 = 0                                                 //Constant C(mho)\n",
"D_1 = A_1                                               //Constant D\n",
"V_S_1 = A_1*V_R + B_1*I_R                               //Sending end voltage(V/phase)\n",
"I_S_1 = I_R                                             //Sending end current(A)\n",
"theta_S_1 = (phasemag(I_S_1)*%pi/180) - (phasemag(V_S_1)*%pi/180)     //Sending end power factor\n",
"P_S_1 = abs(V_S_1*I_S_1)*cos(theta_S_1)*10**-6     //Sending end power(MW)\n",
"n_1 = (P_R/P_S_1)*100                                   //Transmission efficiency(%)\n",
"reg_1 = (abs(V_S_1/A_1) - V_R)/V_R*100                  //Regulation(%)\n",
"Q_S_1 = V_S_1 * conj(I_S_1)*10**-6                //Sending end reactive power(MVAR)\n",
"Q_line_1 = imag(Q_S_1) - Q_R                             //Reactive power absorbed by line(MVAR)\n",
"Z_S_2 = z*l_2\n",
"Y_P_2 = y*l_2/2\n",
"A_2 = 1 + Y_P_2*Z_S_2\n",
"B_2 = Z_S_2\n",
"C_2 = Y_P_2*(2 + Y_P_2*Z_S_2)\n",
"D_2 = A_2\n",
"V_S_2 = A_2*V_R + B_2*I_R              //Sending end voltage(V/phase) \n",
"I_S_2 = C_2*V_R + D_2*I_R              //Sending end current(A)\n",
"S_S_2 = V_S_2*conj(I_S_2)*10**-6 //Sending end complex power(MVA)\n",
"P_S_2 = real(S_S_2)                     //Power at sending end(MW)\n",
"n_2 = (P_R/P_S_2)*100                  //Transmission efficiency(%)\n",
"reg_2 = (abs(V_S_2/A_2) - V_R)/V_R*100 //Regulation(%)\n",
"Q_line_2 = imag(S_S_2) - Q_R            //Reactive power absorbed by line(MVAR)\n",
"g_3 = (y*z)**(0.5)                     //propagation constant(/km)\n",
"gl_3 = g_3 * l_3\n",
"cosh_gl_3 = cosh(gl_3)\n",
"sinh_gl_3 = sinh(gl_3)\n",
"A_3 = cosh_gl_3\n",
"B_3 = Z_c * sinh_gl_3\n",
"C_3 = sinh_gl_3/Z_c\n",
"D_3 = cosh_gl_3\n",
"V_S_3 = A_3*V_R + B_3*I_R              //Sending end voltage(V/phase) \n",
"I_S_3 = C_3*V_R + D_3*I_R              //Sending end current(A)\n",
"S_S_3 = V_S_3*conj(I_S_3)*10**-6 //Sending end complex power(MVA)\n",
"P_S_3 = real(S_S_3)                     //Power at sending end(MW)\n",
"n_3 = (P_R/P_S_3)*100                  //Transmission efficiency(%)\n",
"reg_3 = (abs(V_S_3/A_3) - V_R)/V_R*100 //Regulation(%)\n",
"Q_line_3 = imag(S_S_3) - Q_R            //Reactive power absorbed by line(MVAR)\n",
"g_4 = (y*z)**(0.5)                     //propagation constant(/km)\n",
"gl_4 = g_4 * l_4\n",
"cosh_gl_4 = cosh(gl_4)\n",
"sinh_gl_4 = sinh(gl_4)\n",
"A_4 = cosh_gl_4\n",
"B_4 = Z_c * sinh_gl_4\n",
"C_4 = sinh_gl_4/Z_c\n",
"D_4 = cosh_gl_4\n",
"V_S_4 = A_4*V_R + B_4*I_R              //Sending end voltage(V/phase) \n",
"I_S_4 = C_4*V_R + D_4*I_R              //Sending end current(A)\n",
"S_S_4 = V_S_4*conj(I_S_4)*10**-6 //Sending end complex power(MVA)\n",
"P_S_4 = real(S_S_4)                     //Power at sending end(MW)\n",
"n_4 = (P_R/P_S_4)*100                  //Transmission efficiency(%)\n",
"reg_4 = (abs(V_S_4/A_4) - V_R)/V_R*100 //Regulation(%)\n",
"Q_line_4 = imag(S_S_4) - Q_R            //Reactive power absorbed by line(MVAR)\n",
"// Result Section\n",
"printf('Case(i) : For Length = 60 km')\n",
"printf('Efficiency , n = %.2f percent' ,n_1)\n",
"printf('Regulation = %.3f percent' ,reg_1)\n",
"printf('Reactive power at sending end , Q_S = %.2f MVAR' ,imag(Q_S_1))\n",
"printf('Reactive power absorbed by line , Q_line = %.2f MVAR' ,Q_line_1)\n",
"printf('\nCase(ii) : For Length = 200 km')\n",
"printf('Efficiency , n = %.2f percent' ,n_2)\n",
"printf('Regulation = %.2f percent' ,reg_2)\n",
"printf('Reactive power at sending end , Q_S = %.2f MVAR' ,imag(S_S_2))\n",
"printf('Reactive power absorbed by line , Q_line = %.2f MVAR' ,Q_line_2)\n",
"printf('\nCase(iii) : For Length = 300 km')\n",
"printf('Efficiency , n = %.2f percent' ,n_3)\n",
"printf('Regulation = %.2f percent' ,reg_3)\n",
"printf('Reactive power at sending end , Q_S = %.2f MVAR' ,imag(S_S_3))\n",
"printf('Reactive power absorbed by line , Q_line = %.2f MVAR' ,Q_line_3)\n",
"printf('\nCase(iv) : For Length = 500 km')\n",
"printf('Efficiency , n = %.2f percent' ,n_4)\n",
"printf('Regulation = %.2f percent' ,reg_4)\n",
"printf('Reactive power at sending end , Q_S = %.2f MVAR' ,imag(S_S_4))\n",
"printf('Reactive power absorbed by line , Q_line = %.2f MVAR' ,Q_line_4)\n",
"printf('\nNOTE : ERROR : Calculation mistake in case(iv) efficiency in textbook')"
   ]
   }
,
{
		   "cell_type": "markdown",
		   "metadata": {},
		   "source": [
			"## Example 4.16: Example.sce"
		   ]
		  },
  {
"cell_type": "code",
	   "execution_count": null,
	   "metadata": {
	    "collapsed": true
	   },
	   "outputs": [],
"source": [
"// Variable Declaration\n",
"A = 0.8*exp(%i*1.4*%pi/180)     //Line constant\n",
"B = 326.0*exp(%i*84.8*%pi/180)  //Line constant(ohm)\n",
"V_R = 220.0                               //Receiving end voltage(kV)\n",
"V_S = 220.0                               //Sending end voltage(kV)\n",
"P = 75.0                                  //Power(MVA) for case(a)\n",
"pf = 0.8                                  //Power factor lagging\n",
"a = phasemag(A)*%pi/180                        //Phase angle of A(radian)\n",
"b = phasemag(B)*%pi/180                        //Phase angle of B(radian)\n",
"// Calculation Section\n",
"P_R = P * pf                                                                        //Active power demanded by load(MW)\n",
"P_React = P *(1-pf**2)**0.5                                                         //Reactive power demanded by load(MVAR)\n",
"cos_b_delta_1 = P_R*abs(B)/(V_R*V_S) + abs(A)*cos(b-a)                         //cos(b-delta)[in radians]\n",
"delta_1 = b - acos(cos_b_delta_1)                                              //delta(radians)\n",
"Q_R_1 = (V_R*V_S/abs(B))*sin(b-delta_1) - (abs(A)*V_R**2/abs(B))*sin(b-a) //Reactive power at sending end(MVAR)\n",
"Reactive_power_1 = P_React - Q_R_1                                                  //Reactive power to be supplied by compensating equipment(MVAR)\n",
"cos_b_delta_2 = (abs(A)*V_R/V_S)*cos(b-a)                                      //cos(b-delta)[in radians]\n",
"delta_2 = b - acos(cos_b_delta_2)                                              //delta(radians)\n",
"Q_R_2 = (V_R*V_S/abs(B))*sin(b-delta_2) - (abs(A)*V_R**2/abs(B))*sin(b-a) //Reactive power at sending end(MVAR)\n",
"Reactive_power_2 = Q_R_2                                                            //Reactive power to be absorbed by compensating equipment(MVAR)\n",
"// Result Section\n",
"printf('(a) Reactive VARs to be supplied by compensating equipment = %.2f MVAR' ,Reactive_power_1)\n",
"printf('(b) Reactive VARs to be absorbed by compensating equipment = %.2f MVAR' ,Reactive_power_2)"
   ]
   }
,
{
		   "cell_type": "markdown",
		   "metadata": {},
		   "source": [
			"## Example 4.17: Example.sce"
		   ]
		  },
  {
"cell_type": "code",
	   "execution_count": null,
	   "metadata": {
	    "collapsed": true
	   },
	   "outputs": [],
"source": [
"// Variable Declaration\n",
"r = 25.0       //Resistance/phase(ohm)\n",
"x = 90.0       //Reactance/phase(ohm)\n",
"V_S = 145.0    //Sending end voltage(kV)\n",
"V_R = 132.0    //Receiving end voltage(kV)\n",
"P_R_1 = 0      //Power(MW)\n",
"P_R_2 = 50.0   //Power(MW)\n",
"// Calculation Section\n",
"A = 1.0*exp(%i*0*%pi/180)       //Line constant\n",
"B = complex(r,x)                          //Line constant(ohm)\n",
"a = phasemag(A)*%pi/180                        //Phase angle of A(radian)\n",
"b = phasemag(B)*%pi/180                        //Phase angle of B(radian)\n",
"cos_b_delta_1 = (V_R/V_S)*cos(b-a)\n",
"delta_1 = b - acos(cos_b_delta_1)\n",
"Q_R_1 = (V_R*V_S/abs(B))*sin(b-delta_1) - (abs(A)*V_R**2/abs(B))*sin(b-a)\n",
"cos_b_delta_2 = (P_R_2*abs(B)/(V_R*V_S))+(abs(A)*V_R/V_S)*cos(b-a)\n",
"delta_2 = (b - acos(cos_b_delta_2))\n",
"Q_R_2 = (V_R*V_S/abs(B))*sin(b-delta_2)-(abs(A)*V_R**2/abs(B))*sin(b-a) //Reactive power available at receiving end(MVAR)\n",
"Q_S_2 = Q_R_1 + Q_R_2                                                             //Reactive power to be supplied by equipment(MVAR)\n",
"pf = cos(atan(Q_S_2/P_R_2))                                             //Power factor\n",
"// Result Section\n",
"printf('Rating of device = %.2f MVAR' ,Q_R_1)\n",
"printf('Power factor = %.2f lagging' ,pf)"
   ]
   }
,
{
		   "cell_type": "markdown",
		   "metadata": {},
		   "source": [
			"## Example 4.18: Example.sce"
		   ]
		  },
  {
"cell_type": "code",
	   "execution_count": null,
	   "metadata": {
	    "collapsed": true
	   },
	   "outputs": [],
"source": [
"// Variable Declaration\n",
"A = 0.9*exp(%i*1.0*%pi/180)     //Line constant\n",
"B = 143.0*exp(%i*84.5*%pi/180)  //Line constant(ohm)\n",
"V_R = 220.0                               //Receiving end voltage(kV)\n",
"V_S = 240.0                               //Sending end voltage(kV)\n",
"P = 100.0                                 //Power(MVA)\n",
"pf = 0.8                                  //Power factor lagging\n",
"a = phasemag(A)*%pi/180                        //Phase angle of A(radian)\n",
"b = phasemag(B)*%pi/180                        //Phase angle of B(radian)\n",
"// Calculation Section\n",
"P_R = P * pf                                                                    //Active power at receiving end(MW)\n",
"cos_b_delta = (P_R*abs(B)/(V_R*V_S))+(abs(A)*V_R/V_S)*cos(b-a)             //cos(b-delta)[in radians]\n",
"delta_1 = (b - acos(cos_b_delta))\n",
"Q_R = (V_R*V_S/abs(B))*sin(b-delta_1)-(abs(A)*V_R**2/abs(B))*sin(b-a) //Reactive power at receiving end(MVAR)\n",
"P_Re = P *(1-pf**2)**0.5                                                        //Reactive power(MVAR)\n",
"rating = P_Re - Q_R                                                             //Rating of phase modifier(MVAR)\n",
"delta_2 = b                                                                     //Maximum power is received when delta = b\n",
"P_Rmax = (V_R*V_S/abs(B))-(abs(A)*V_R**2/abs(B))*cos(b-a)                  //Maximum power at receiving end(MW)\n",
"Q_R = -(abs(A/B)*V_R**2)*sin(b-a)                                          //Reactive power at receive end(MVAR)\n",
"P_S = (V_S**2*abs(A/B))*cos(b-a)-(V_S*V_R/abs(B))*cos(b+delta_2)      //Sending end power(MW)\n",
"n_line = (P_Rmax/P_S)*100                                                       //Line efficiency(%)\n",
"// Result Section\n",
"printf('Case(a) :')\n",
"printf('Rating of phase modifier = %.3f MVAR' ,rating)\n",
"printf('Power angle , delta = %.2f°' ,(delta_1*180/%pi))\n",
"printf('\nCase(b) :')\n",
"printf('Maximum power at receive end , P_Rmax = %.2f MW' ,P_Rmax)\n",
"printf('Reactive power available , Q_R = %.2f MVAR' ,Q_R)\n",
"printf('Line efficiency = %.2f percent' ,n_line)"
   ]
   }
,
{
		   "cell_type": "markdown",
		   "metadata": {},
		   "source": [
			"## Example 4.19: Example.sce"
		   ]
		  },
  {
"cell_type": "code",
	   "execution_count": null,
	   "metadata": {
	    "collapsed": true
	   },
	   "outputs": [],
"source": [
"// Variable Declaration\n",
"A = 0.96*exp(%i*1.0*%pi/180)    //Line constant\n",
"B = 100.0*exp(%i*83.0*%pi/180)  //Line constant(ohm)\n",
"V_R = 110.0                               //Receiving end voltage(kV)\n",
"V_S = 110.0                               //Sending end voltage(kV)\n",
"pf = 0.8                                  //Power factor lagging\n",
"delta = 15*%pi/180                    //Power angle(radians)\n",
"// Calculation Section\n",
"a = phasemag(A)*%pi/180                        //Phase angle of A(radian)\n",
"b = phasemag(B)*%pi/180                        //Phase angle of B(radian)\n",
"P_R = (V_R*V_S/abs(B))*cos(b-delta) - (abs(A/B)*V_R**2)*cos(b-a) //Active power at receiving end(MW)\n",
"Q_RL = P_R*tan(acos(pf))                                         //Reactive power demanded by load(MVAR)\n",
"Q_R = (V_R*V_S/abs(B))*sin(b-delta) - (abs(A/B)*V_R**2)*sin(b-a) //Reactive power(MVAR)\n",
"rating = Q_RL - Q_R                                                        //Rating of device(MVAR)\n",
"P_S = (V_S**2*abs(A/B))*cos(b-a) - (V_R*V_S/abs(B))*cos(b+delta) //Sending end active power(MW)\n",
"n_line = (P_R/P_S)*100                                                     //Efficiency of line(%)\n",
"Q_S = (V_S**2*abs(A/B))*sin(b-a) - (V_R*V_S/abs(B))*sin(b+delta) //Sending end reactive power(MVAR)\n",
"// Result Section\n",
"printf('(i)  Active power demanded by load , P_R = %.2f MW' ,P_R)\n",
"printf('     Reactive power demanded by load , Q_RL = %.2f MVAR' ,Q_RL)\n",
"printf('(ii) Rating of the device , Q_R = %.2f MVAR' ,rating)\n",
"printf('(iii)Efficiency of line = %.2f percent' ,n_line)\n",
"printf('(iv) Reactive power supplied by source and line , Q_S = %.2f MVAR' ,Q_S)"
   ]
   }
,
{
		   "cell_type": "markdown",
		   "metadata": {},
		   "source": [
			"## Example 4.1: Example.sce"
		   ]
		  },
  {
"cell_type": "code",
	   "execution_count": null,
	   "metadata": {
	    "collapsed": true
	   },
	   "outputs": [],
"source": [
"// Variable Declaration\n",
"l = 10.0       //Length of 1-phase line(km)\n",
"d = 100.0      //Spacing b/w conductors(cm)\n",
"r = 0.3        //Radius(cm)\n",
"u_r_1 = 1.0    //Relative permeability of copper\n",
"u_r_2 = 100.0  //Relative permeability of steel\n",
"// Calculation Section\n",
"r_1 = 0.7788*r                                  //Radius of hypothetical conductor(cm)\n",
"L_1 = 4 * 10**(-7) * log(d/r_1)            //Loop inductance(H/m)\n",
"L_T1 = L_1 * l * 10**6                          //Total loop inductance(mH)\n",
"L_2 = 4 * 10**(-7) * (log(d/r) + (u_r_2/4))//Loop inductance(H/m)\n",
"L_T2 = L_2 * l * 10**6                          //Total loop inductance(mH)\n",
"// Result Section\n",
"printf('(i) Total loop inductance of copper conductor = %.2f mH' ,L_T1)\n",
"printf('(ii)Total loop inductance of steel conductor = %.2f mH' ,L_T2)"
   ]
   }
,
{
		   "cell_type": "markdown",
		   "metadata": {},
		   "source": [
			"## Example 4.2: Example.sce"
		   ]
		  },
  {
"cell_type": "code",
	   "execution_count": null,
	   "metadata": {
	    "collapsed": true
	   },
	   "outputs": [],
"source": [
"// Variable Declaration\n",
"r = 0.4    //Radius of conductor(cm)\n",
"h = 1000   //Height of line(cm)\n",
"// Calculation Section\n",
"d = 2*h                                              //Spacing between conductors(cm)\n",
"L = 2 * 10**(-4) * log(2*h/(0.7788*r)) * 1000   //Inductance of conductor(mH/km)\n",
"// Result Section\n",
"printf('Inductance of the conductor = %.3f mH/km' ,L)"
   ]
   }
,
{
		   "cell_type": "markdown",
		   "metadata": {},
		   "source": [
			"## Example 4.3: Example.sce"
		   ]
		  },
  {
"cell_type": "code",
	   "execution_count": null,
	   "metadata": {
	    "collapsed": true
	   },
	   "outputs": [],
"source": [
"// Variable Declaration\n",
"d_ab = 4    //Distance b/w conductor a & b(m)\n",
"d_bc = 9    //Distance b/w conductor b & c(m)\n",
"d_ca = 6    //Distance b/w conductor c & a(m)\n",
"r = 1.0     //Radius of each conductor(cm)\n",
"// Calculation Section\n",
"D_m = (d_ab * d_bc * d_ca)**(1.0/3)             //Geometric mean separation(m)\n",
"r_1 = 0.7788 * (r/100)                          //Radius of hypothetical conductor(m)\n",
"L = 2 * 10**(-7) * log(D_m/r_1) * 10**6    //Line inductance(mH/phase/km)\n",
"// Result Section\n",
"printf('Line inductance , L = %.2f mH/phase/km' ,L)"
   ]
   }
,
{
		   "cell_type": "markdown",
		   "metadata": {},
		   "source": [
			"## Example 4.4: Example.sce"
		   ]
		  },
  {
"cell_type": "code",
	   "execution_count": null,
	   "metadata": {
	    "collapsed": true
	   },
	   "outputs": [],
"source": [
"// Variable Declaration\n",
"r = 1.0       //Radius of each conductor(cm)\n",
"d_11 = 30     //Distance b/w conductor 1 & 1'(cm)\n",
"d_22 = 30     //Distance b/w conductor 2 & 2'(cm)\n",
"d_12 = 130    //Distance b/w conductor 1 & 2(cm)\n",
"d_122 = 160   //Distance b/w conductor 1 & 2'(cm)\n",
"d_112 = 100   //Distance b/w conductor 1' & 2(cm)\n",
"d_1122 = 130  //Distance b/w conductor 1' & 2'(cm)\n",
"// Calculation Section\n",
"r_1 = 0.7788 * r                               //Radius of hypothetical conductor(cm)\n",
"D_s = (d_11 * r_1 * d_22 * r_1)**(1.0/4)       //Geometric mean radius(cm)\n",
"D_m = (d_12 * d_122 * d_112 * d_1122)**(1.0/4) //Geometric mean separation(cm)\n",
"L = 4 * 10**(-7) * log(D_m/D_s) * 10**6   //Loop inductance(mH/km)\n",
"R = 2**0.5                                     //Radius of single conductor(cm)\n",
"d = 130.0                                      //Conductor position(cm)\n",
"L_1 = 4*10**(-7)*log(d/(0.7788*R))*10**6  //Loop inductance(mH/km)\n",
"L_diff = (L_1 - L)/L*100                       //Change in inductance(%)\n",
"r_diff = D_s - R                               //Effective radius difference\n",
"// Result Section\n",
"printf('Loop inductance , L = %.3f mH/km' ,L)\n",
"printf('Loop inductance having two conductors only , L = %.3f mH/km'  ,L_1)\n",
"printf('There is an Increase of %.f percent in inductance value ' ,L_diff)\n",
"printf('Effective radius of bundled conductors is about %.1f times that of unbundled system reducing field stress almost by that ratio' ,r_diff)"
   ]
   }
,
{
		   "cell_type": "markdown",
		   "metadata": {},
		   "source": [
			"## Example 4.5: Example.sce"
		   ]
		  },
  {
"cell_type": "code",
	   "execution_count": null,
	   "metadata": {
	    "collapsed": true
	   },
	   "outputs": [],
"source": [
"// Variable Declaration\n",
"r = 1.5        //Radius of each conductor(cm)\n",
"D_a1a2 = 0.3   //Distance b/w conductor a1 & a2(m)\n",
"D_a2a1 = 0.3   //Distance b/w conductor a2 & a1(m)\n",
"D_a1b1 = 15.3  //Distance b/w conductor a1 & b1(m)\n",
"D_a1b2 = 15.6  //Distance b/w conductor a1 & b2(m)\n",
"D_a2b1 = 15.0  //Distance b/w conductor a2 & b1(m)\n",
"D_a2b2 = 15.3  //Distance b/w conductor a2 & b2(m)\n",
"D_b1c1 = 15.3  //Distance b/w conductor b1 & c1(m)\n",
"D_b1c2 = 15.6  //Distance b/w conductor b1 & c2(m)\n",
"D_b2c1 = 15.0  //Distance b/w conductor b2 & c1(m)\n",
"D_b2c2 = 15.3  //Distance b/w conductor b2 & c2(m)\n",
"D_a1c1 = 30.6  //Distance b/w conductor a1 & c1(m)\n",
"D_a1c2 = 30.9  //Distance b/w conductor a1 & c2(m)\n",
"D_a2c1 = 30.3  //Distance b/w conductor a2 & c1(m)\n",
"D_a2c2 = 30.6  //Distance b/w conductor a2 & c2(m)\n",
"// Calculation Section\n",
"r_1 = 0.7788 * (r/100)                              //Radius of hypothetical conductor(m)\n",
"D_s = (D_a1a2 * r_1 * D_a2a1 * r_1)**(1.0/4)        //Geometric mean radius(m)\n",
"D_ab = (D_a1b1 * D_a1b2 * D_a2b1 * D_a2b2)**(1.0/4) //Mutual GMD b/w conductor a & b(m)\n",
"D_bc = (D_b1c1 * D_b1c2 * D_b2c1 * D_b2c2)**(1.0/4) //Mutual GMD b/w conductor b & c(m)\n",
"D_ca = (D_a1c1 * D_a1c2 * D_a2c1 * D_a2c2)**(1.0/4) //Mutual GMD b/w conductor c & a(m)\n",
"D_m = (D_ab * D_bc * D_ca)**(1.0/3)                 //Geometric mean separation(m)\n",
"L = 2 * 10**(-4) * log(D_m/D_s) * 1000         //Inductance(mH/km)\n",
"// Result Section\n",
"printf('Inductance/phase/km = %.3f mH/km' ,L)"
   ]
   }
,
{
		   "cell_type": "markdown",
		   "metadata": {},
		   "source": [
			"## Example 4.6: Example.sce"
		   ]
		  },
  {
"cell_type": "code",
	   "execution_count": null,
	   "metadata": {
	    "collapsed": true
	   },
	   "outputs": [],
"source": [
"// part - I\n",
"// Dsa = GMR of phase a in section - I\n",
"// (r'Da1a2)(Da1a2r')^(1/4) = sqrt(r'Da1a2)\n",
"// Da1a2 = sqrt(D^2 +  4d^2)\n",
"printf(' Dsa = sqrt(r * sqrt(D^2 + 4*d^2))')\n",
"// Dsb = GMR of phase b in section - II\n",
"// Dsb = sqrt(r * Db1b2)\n",
"// Db1b2 = D\n",
"printf(' Dsb = sqrt(rD) ')\n",
"// Dsc = GMR of phase c in section - I\n",
"//  = sqrt(r'Dc1c2)\n",
"// Dc1c2 = sqrt(D^2 + rd^2)\n",
"printf(' Dsc = sqrt(r * sqrt(D^2 + 4*d^2))')\n",
"// part - II\n",
"// Dab = Mutual GMD between phase a and b in section I of the trasportation cycle.\n",
"printf(' Dab = sqrt(d * sqrt(d^2 + D^2))')\n",
"printf(' Dbc = sqrt(d * sqrt(d^2 + D^2))')\n",
"printf(' Dca = sqrt(2d * D)')\n",
"// part - III\n",
"// GMD for fictitious equilateral spacing\n",
"printf ( ' Ds = (r)^(1/2) * (D^2 * 4d^2)^(1/6)*D^(1/6)')\n",
"// so the inductance per phase is,\n",
"printf(' L = 2 * 10^-4 * log((2^(1/6)*(D^2+d^2)^(1/6) * d^(1/2))/(r^(1/2) * (D^2 + 4d^2)^(1/6))) H/km' )"
   ]
   }
,
{
		   "cell_type": "markdown",
		   "metadata": {},
		   "source": [
			"## Example 4.7: Example.sce"
		   ]
		  },
  {
"cell_type": "code",
	   "execution_count": null,
	   "metadata": {
	    "collapsed": true
	   },
	   "outputs": [],
"source": [
"// Variable Declaration\n",
"r = 0.6       //Radius of each conductor(cm)\n",
"d = 150       //Separation distance(cm)\n",
"L = 40*10**3  //Length of overhead line(m)\n",
"f = 50        //Frequency(Hertz)\n",
"v = 50*10**3  //System voltage(V)\n",
"// Calculation Section\n",
"C_ab = (%pi * 8.854 * 10**(-12))/(log(d/r)) * L   //Capacitance b/w conductors(F)\n",
"I = complex(0,v * 2 * %pi * f * C_ab)                  //Charging current leads voltage by 90°(A)\n",
"// Result Section\n",
"printf('Capacitance between two conductors , C_ab = %.3e F' ,C_ab)\n",
"printf('Charging current , I = j%.3f A' ,imag(I))"
   ]
   }
,
{
		   "cell_type": "markdown",
		   "metadata": {},
		   "source": [
			"## Example 4.8: Example.sce"
		   ]
		  },
  {
"cell_type": "code",
	   "execution_count": null,
	   "metadata": {
	    "collapsed": true
	   },
	   "outputs": [],
"source": [
"// Variable Declaration\n",
"r = 0.015      //Radius of each conductor(m)\n",
"D_a1a2 = 0.3   //Distance b/w conductor a1 & a2(m)\n",
"D_a2a1 = 0.3   //Distance b/w conductor a2 & a1(m)\n",
"D_a1b1 = 15.3  //Distance b/w conductor a1 & b1(m)\n",
"D_a1b2 = 15.6  //Distance b/w conductor a1 & b2(m)\n",
"D_a2b1 = 15.0  //Distance b/w conductor a2 & b1(m)\n",
"D_a2b2 = 15.3  //Distance b/w conductor a2 & b2(m)\n",
"D_b1c1 = 15.3  //Distance b/w conductor b1 & c1(m)\n",
"D_b1c2 = 15.6  //Distance b/w conductor b1 & c2(m)\n",
"D_b2c1 = 15.0  //Distance b/w conductor b2 & c1(m)\n",
"D_b2c2 = 15.3  //Distance b/w conductor b2 & c2(m)\n",
"D_a1c1 = 30.6  //Distance b/w conductor a1 & c1(m)\n",
"D_a1c2 = 30.9  //Distance b/w conductor a1 & c2(m)\n",
"D_a2c1 = 30.3  //Distance b/w conductor a2 & c1(m)\n",
"D_a2c2 = 30.6  //Distance b/w conductor a2 & c2(m)\n",
"// Calculation Section\n",
"D_s = (D_a1a2 * r * D_a2a1 * r)**(1.0/4)                  //Geometric mean radius(m)\n",
"D_ab = (D_a1b1 * D_a1b2 * D_a2b1 * D_a2b2)**(1.0/4)       //Mutual GMD b/w conductor a & b(m)\n",
"D_bc = (D_b1c1 * D_b1c2 * D_b2c1 * D_b2c2)**(1.0/4)       //Mutual GMD b/w conductor b & c(m)\n",
"D_ca = (D_a1c1 * D_a1c2 * D_a2c1 * D_a2c2)**(1.0/4)       //Mutual GMD b/w conductor c & a(m)\n",
"D_m = (D_ab * D_bc * D_ca)**(1.0/3)                       //Geometric mean separation(m)\n",
"C_n = 2 * %pi * 8.854 * 10**(-9) /(log(D_m/D_s)) //Capacitance per phase(F/km)\n",
"// Result Section\n",
"printf('Capacitance per phase , C_n = %.3e F/km' ,C_n)"
   ]
   }
,
{
		   "cell_type": "markdown",
		   "metadata": {},
		   "source": [
			"## Example 4.9: Example.sce"
		   ]
		  },
  {
"cell_type": "code",
	   "execution_count": null,
	   "metadata": {
	    "collapsed": true
	   },
	   "outputs": [],
"source": [
"// Variable Declaration\n",
"r = 0.015    //Radius of each conductor(m)\n",
"D_ab = 15    //Horizontal distance b/w conductor a & b(m)\n",
"D_bc = 15    //Horizontal distance b/w conductor b & c(m)\n",
"D_ac = 30    //Horizontal distance b/w conductor a & c(m)\n",
"// Calculation Section\n",
"D_m = (D_ab * D_bc * D_ac)**(1.0/3)                       //Geometric mean separation(m)\n",
"D_s = 2**(1.0/2) * r                                      //Geometric mean radius(m)\n",
"C_n = 2 * %pi * 8.854 * 10**(-9) /(log(D_m/D_s)) //Capacitance/phase/km(F/km)\n",
"// Result Section\n",
"printf('Capacitance per phase , C_n = %.3e F/km' ,C_n)"
   ]
   }
],
"metadata": {
		  "kernelspec": {
		   "display_name": "Scilab",
		   "language": "scilab",
		   "name": "scilab"
		  },
		  "language_info": {
		   "file_extension": ".sce",
		   "help_links": [
			{
			 "text": "MetaKernel Magics",
			 "url": "https://github.com/calysto/metakernel/blob/master/metakernel/magics/README.md"
			}
		   ],
		   "mimetype": "text/x-octave",
		   "name": "scilab",
		   "version": "0.7.1"
		  }
		 },
		 "nbformat": 4,
		 "nbformat_minor": 0
}
