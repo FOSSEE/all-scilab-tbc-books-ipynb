{
"cells": [
 {
		   "cell_type": "markdown",
	   "metadata": {},
	   "source": [
       "# Chapter 12: OVER VOLTAGE TRANSIENTS IN POWER SYSTEMS AND PROTECTION"
	   ]
	},
{
		   "cell_type": "markdown",
		   "metadata": {},
		   "source": [
			"## Example 12.1: Example.sce"
		   ]
		  },
  {
"cell_type": "code",
	   "execution_count": null,
	   "metadata": {
	    "collapsed": true
	   },
	   "outputs": [],
"source": [
"// Variable Declaration\n",
"V_i = 100.0         //Incident voltage(kV)\n",
"Z_1 = 400.0         //Surge impedance(ohm)\n",
"Z_2 = 350.0         //Surge impedance(ohm)\n",
"// Calculation Section\n",
"beta = 2*Z_2/(Z_1+Z_2)      //Refraction coeffeicient of voltage\n",
"alpha = (Z_2-Z_1)/(Z_1+Z_2) //Reflection coeffeicient of voltage\n",
"V_t = beta*V_i              //Refracted voltage(kV)\n",
"V_r = alpha*V_i             //Reflected voltage(kV)\n",
"I_t = V_t/Z_2*1000          //Refracted current(A)\n",
"I_r = -(V_r/Z_1)*1000       //Reflected current(A)\n",
"// Result Section\n",
"printf('Reflected voltage , V_r = %.1f kV' ,V_r)\n",
"printf('Refracted voltage , V_t = %.1f kV' ,V_t)\n",
"printf('Reflected current , I_r = %.1f A' ,I_r)\n",
"printf('Refracted current , I_t = %.1f A' ,I_t)"
   ]
   }
,
{
		   "cell_type": "markdown",
		   "metadata": {},
		   "source": [
			"## Example 12.2: Example.sce"
		   ]
		  },
  {
"cell_type": "code",
	   "execution_count": null,
	   "metadata": {
	    "collapsed": true
	   },
	   "outputs": [],
"source": [
"// Variable Declaration\n",
"V_i = 100.0         //Incident voltage(kV)\n",
"Z_1 = 400.0         //Surge impedance(ohm)\n",
"Z_21 = 350.0        //Surge impedance of line connected at T(ohm)\n",
"Z_22 = 50.0         //Surge impedance of cable connected at T(ohm)\n",
"// Calculation Section\n",
"Z_2 = Z_21*Z_22/(Z_21+Z_22)     //Surge impedance(ohm)\n",
"V_t = 2*Z_2*V_i/(Z_1+Z_2)       //Refracted voltage(kV)\n",
"V_r = (Z_2-Z_1)*V_i/(Z_1+Z_2)   //Reflected voltage(kV)\n",
"I_t1 = V_t/Z_21*1000            //Refracted current in Z_21(A)\n",
"I_t2 = V_t/Z_22*1000            //Refracted current in Z_22(A)\n",
"I_r = -(V_r/Z_1)*1000           //Reflected current in Z_1(A)\n",
"// Result Section\n",
"printf('Refracted voltage , V_t = %.2f kV' ,V_t)\n",
"printf('Refracted current in overhead line , I_t1 = %.2f A',I_t1)\n",
"printf('Refracted current in underground cable , I_t2 = %.2f A' ,I_t2)"
   ]
   }
,
{
		   "cell_type": "markdown",
		   "metadata": {},
		   "source": [
			"## Example 12.3: Example.sce"
		   ]
		  },
  {
"cell_type": "code",
	   "execution_count": null,
	   "metadata": {
	    "collapsed": true
	   },
	   "outputs": [],
"source": [
"// Variable Declaration\n",
"V_i = 100.0         //Incident voltage(kV)\n",
"Z_1 = 400.0         //Surge impedance of overhead line(ohm)\n",
"Z_2 = 50.0          //Surge impedance of underground cable(ohm)\n",
"// Calculation Section\n",
"beta = 2*Z_2/(Z_1+Z_2)      //Refraction coeffeicient of voltage\n",
"alpha = (Z_2-Z_1)/(Z_1+Z_2) //Reflection coeffeicient of voltage\n",
"V_t = beta*V_i              //Refracted voltage(kV)\n",
"V_r = alpha*V_i             //Reflected voltage(kV)\n",
"I_t = V_t/Z_2*1000          //Refracted current(A)\n",
"I_r = -(V_r/Z_1)*1000       //Reflected current(A)\n",
"// Result Section\n",
"printf('Reflected voltage , V_r = %.1f kV' ,V_r)\n",
"printf('Refracted voltage , V_t = %.1f kV' ,V_t)\n",
"printf('Reflected current , I_r = %.1f A' ,I_r)\n",
"printf('Refracted current , I_t = %.1f A' ,I_t)"
   ]
   }
,
{
		   "cell_type": "markdown",
		   "metadata": {},
		   "source": [
			"## Example 12.5: Example.sce"
		   ]
		  },
  {
"cell_type": "code",
	   "execution_count": null,
	   "metadata": {
	    "collapsed": true
	   },
	   "outputs": [],
"source": [
"// Variable Declaration\n",
"R = 74.0*10**-6         //Resistance of overhead line(ohm/meter)\n",
"L = 1.212*10**-6        //Inductance of overhead line(H/meter)\n",
"C = 9.577*10**-12       //Capacitance of overhead line(F/meter)\n",
"// Calculation Section\n",
"Z_0 = (L/C)**0.5        //Surge impedance of line(ohm)\n",
"a = R/(2*Z_0)\n",
"x_1 = log(2)/a     //Distance to be travelled(m)\n",
"// Result Section\n",
"printf('The distance the surge must travel to attenuate to half value = %.2e meter = %.2e km' ,x_1,x_1*10**-3)"
   ]
   }
,
{
		   "cell_type": "markdown",
		   "metadata": {},
		   "source": [
			"## Example 12.7: Example.sce"
		   ]
		  },
  {
"cell_type": "code",
	   "execution_count": null,
	   "metadata": {
	    "collapsed": true
	   },
	   "outputs": [],
"source": [
"// Variable Declaration\n",
"V_i = 2000.0        //Incident voltage(kV)\n",
"Z = 300.0           //Surge impedance(ohm)\n",
"V_p = 1200.0        //Arrester protection level(kV)\n",
"// Calculation Section\n",
"I_surge = V_i/Z         //Surge current(kA)\n",
"V_oc = 2*V_i            //Open-circuit voltage(kV)\n",
"I_A = (V_oc-V_p)/Z      //Current through the arrestor(kA)\n",
"I_r = I_A - I_surge     //Reflected current in line(kA)\n",
"V_r = -I_r*Z            //Reflected voltage of line(kV)\n",
"V_t = V_p               //Refracted voltage into arrestor(kV)\n",
"V_r_coeff = V_r/V_i     //Reflected coefficient of voltage\n",
"V_t_coeff = V_t/V_i     //Refracted coefficient of voltage\n",
"R_a = V_p/I_A           //Arrestor resistance(ohm)\n",
"// Result Section\n",
"printf('Case(a) :')\n",
"printf('Current flowing in line before the surge voltage reaches the arrestor terminal = %.2f kA' ,I_surge)\n",
"printf('\nCase(b) :')\n",
"printf('Current through the arrestor , I_A = %.2f kA' ,I_A)\n",
"printf('\nCase(c) :')\n",
"printf('Refraction coefficient of voltage at arrestor terminals = %.1f ' ,V_t_coeff)\n",
"printf('Reflection coefficient of voltage at arrestor terminals = %.1f ' ,V_r_coeff)\n",
"printf('\nCase(d) :')\n",
"printf('Value of arrestor resistance = %.1f ohm' ,R_a)"
   ]
   }
],
"metadata": {
		  "kernelspec": {
		   "display_name": "Scilab",
		   "language": "scilab",
		   "name": "scilab"
		  },
		  "language_info": {
		   "file_extension": ".sce",
		   "help_links": [
			{
			 "text": "MetaKernel Magics",
			 "url": "https://github.com/calysto/metakernel/blob/master/metakernel/magics/README.md"
			}
		   ],
		   "mimetype": "text/x-octave",
		   "name": "scilab",
		   "version": "0.7.1"
		  }
		 },
		 "nbformat": 4,
		 "nbformat_minor": 0
}
