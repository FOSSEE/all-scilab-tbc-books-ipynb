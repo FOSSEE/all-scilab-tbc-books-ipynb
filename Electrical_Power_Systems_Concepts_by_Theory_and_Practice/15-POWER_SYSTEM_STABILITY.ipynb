{
"cells": [
 {
		   "cell_type": "markdown",
	   "metadata": {},
	   "source": [
       "# Chapter 15: POWER SYSTEM STABILITY"
	   ]
	},
{
		   "cell_type": "markdown",
		   "metadata": {},
		   "source": [
			"## Example 15.1: Example.sce"
		   ]
		  },
  {
"cell_type": "code",
	   "execution_count": null,
	   "metadata": {
	    "collapsed": true
	   },
	   "outputs": [],
"source": [
"// Variable Declaration\n",
"G = 50.0            //Rating of machine(MVA)\n",
"f = 50.0            //Frequency of turbo generator(Hz)\n",
"V = 11.0            //Voltage rating of machine(kV)\n",
"H = 9.0             //Cycle corresponding to 180 ms\n",
"P_0 = 40.0          //Pre-fault output power(MW)\n",
"delta_0 = 20.0      //Rotor angle at instant of fault(degree)\n",
"funcprot(0)\n",
"// Calculation Section\n",
"P_0_close = 0                              //Output power at instant of reclosing(MW)\n",
"P_a = P_0 - P_0_close                      //Net accelerating power(MW)\n",
"delta_sqr = P_a*180*f/(G*H)                //double derivative(elect.degrees/sec^2)\n",
"function ans =  integrand1(t)                         //intgs the double derivative to 800*t\n",
"    ans = delta_sqr\n",
"endfunction    \n",
"a = intg(0, 180*10**-3,integrand1)   //Rotor velocity(electrical degrees/sec)\n",
"function ans = integrand2(t)                         //intgs the double derivative to 400*t^2\n",
"    ans = delta_sqr*t\n",
"endfunction    \n",
"b = intg(0, 180*10**-3,integrand2)\n",
"delta = delta_0 + b                        //Rotor angle(electrical degrees)\n",
"// Result Section\n",
"printf('Rotor angle at the instant of reclosure = %.2f electrical degrees' ,delta)\n",
"printf('Rotor velocity at the instant of reclosure = %.1f electrical degrees/sec' ,a)"
   ]
   }
,
{
		   "cell_type": "markdown",
		   "metadata": {},
		   "source": [
			"## Example 15.2: Example.sce"
		   ]
		  },
  {
"cell_type": "code",
	   "execution_count": null,
	   "metadata": {
	    "collapsed": true
	   },
	   "outputs": [],
"source": [
"// Variable Declaration\n",
"V = 1.0         //Infinite bus voltage(p.u)\n",
"E = 1.0         //e.m.f of finite generator behind transient reactance(p.u)\n",
"X_T = 0.8       //Transfer reactance(p.u)\n",
"P_i = 0.5       //Input power(p.u)\n",
"P_i_d = 0.8     //p.u\n",
"P_0 = 0.5       //Output power(p.u)\n",
"P = 0.5         //Power(p.u)\n",
"// Calculation Section\n",
"P_m = E*V/X_T                       //Amplitude of power angle curve(p.u)\n",
"delta_0 = asin(P_i/P_m)        //Radians\n",
"delta = asin(P_i_d/P_m)        //Radians\n",
"delta_m = %pi-delta             //Radians\n",
"A_acc = P_i_d*(delta-delta_0)-P_m*(cos(delta_0)-cos(delta))   //Possible area of a// Result Sectioneleration\n",
"A_dec = P_m*(cos(delta)-cos(delta_m))-P_i_d*(delta_m-delta)   //Possible area of deceleration\n",
"// Result Section\n",
"if (A_acc < A_dec) then\n",
"    printf('System is stable')\n",
"    stability = A_dec/A_acc\n",
"    printf('Margin of stability = %.2f' ,stability)\n",
"else\n",
"    printf('System is not stable')\n",
"end"
   ]
   }
,
{
		   "cell_type": "markdown",
		   "metadata": {},
		   "source": [
			"## Example 15.3: Example.sce"
		   ]
		  },
  {
"cell_type": "code",
	   "execution_count": null,
	   "metadata": {
	    "collapsed": true
	   },
	   "outputs": [],
"source": [
"// Variable Declaration\n",
"x = 0.25        //Transient reactance(p.u)\n",
"E = 1.0         //e.m.f of finite generator behind transient reactance(p.u)\n",
"x_T = 0.1       //Reactance of transformer(p.u)\n",
"x_L = 0.4       //Reactance of one line(p.u)\n",
"P_i = 0.25      //Pre-fault power(p.u)\n",
"// Calculation Section\n",
"X_T = x+x_T+(x_L/2)                 //Transfer reactance at pre-fault state(p.u)\n",
"P_m = E**2/X_T                      //Amplitude of power angle curve at pre-fault state(p.u)\n",
"X_T1 = 1.45                         //Transfer reactance b/w finite generator & infinite bus at faulty state(p.u).Refer texbook problem for figure\n",
"P_m1 = E**2/X_T1                    //Amplitude of power angle curve at faulty state(p.u)\n",
"r1 = X_T/X_T1\n",
"delta_0 = asin(P_i/P_m)        //Radians\n",
"delta_1 = asin(P_i/(r1*P_m))   //Radians\n",
"delta_m = %pi - delta_1         //Radians\n",
"function ans = integrand1(delta)\n",
"    ans = r1*P_m*sin(delta)\n",
"endfunction\n",
"a = intg(delta_0, delta_1,integrand1)\n",
"A_acc = P_i*(delta_1-delta_0) - a \n",
"function ans = integrand2(delta)\n",
"    ans = r1*P_m*sin(delta)\n",
"endfunction    \n",
"b = intg( delta_1, delta_m,integrand2)\n",
"A_dec = b - P_i*(delta_m-delta_1)\n",
"limit = 0.5648                      //Obtained by iterations.Refer textbook.Here assigned directly.\n",
"// Result Section\n",
"if(A_acc < A_dec) then\n",
"    printf('System is Stable')\n",
"    stability = A_dec/A_acc\n",
"    printf('Margin of stability = %.2f' ,stability)\n",
"else\n",
"    printf('System is not stable')\n",
"end    \n",
"printf('Transient stability limit = %.4f p.u' ,limit)\n",
"printf('\nNOTE : ERROR : angle delta_0 = 7.9° = 0.13788 radian not 0.014 radian as in textbook')"
   ]
   }
,
{
		   "cell_type": "markdown",
		   "metadata": {},
		   "source": [
			"## Example 15.4: Example.sce"
		   ]
		  },
  {
"cell_type": "code",
	   "execution_count": null,
	   "metadata": {
	    "collapsed": true
	   },
	   "outputs": [],
"source": [
"// Variable Declaration\n",
"x = 0.25        //Transient reactance(p.u)\n",
"E = 1.0         //e.m.f of finite generator behind transient reactance(p.u)\n",
"x_T = 0.1       //Reactance of transformer(p.u)\n",
"x_L = 0.4       //Reactance of one line(p.u)\n",
"P_i = 0.7       //Pre-fault power(p.u)\n",
"// Calculation Section\n",
"X_T = x+x_T+(x_L/2)                 //Transfer reactance at pre-fault state(p.u)\n",
"P_m = E**2/X_T                      //Amplitude of power angle curve at pre-fault state(p.u)\n",
"X_T1 = 1.45                         //Transfer reactance b/w finite generator & infinite bus at faulty state(p.u).Refer texbook problem for figure\n",
"P_m1 = E**2/X_T1                    //Amplitude of power angle curve at faulty state(p.u)\n",
"r1 = X_T/X_T1\n",
"X_T2 = x+x_T+x_L                    //Transfer reactance for post fault state(p.u)\n",
"r2 = X_T/X_T2\n",
"P_m2 = r2*P_m\n",
"delta_0 = asin(P_i/P_m)        //Radians\n",
"delta_1 = asin(P_i/(r2*P_m))   //Radians\n",
"delta_m = %pi - delta_1         //Radians\n",
"delta_c = 0.7                       //Specified value(radians)\n",
"function ans = integrand1(delta)\n",
"    ans = r1*P_m*sin(delta)\n",
"endfunction    \n",
"a = intg(delta_0, delta_c,integrand1)\n",
"A_acc = P_i*(delta_c-delta_0) - a \n",
"function ans = integrand2(delta)\n",
"    ans = r2*P_m*sin(delta)\n",
"endfunction\n",
"    \n",
"b = intg(delta_c, delta_m,integrand2)\n",
"A_dec = b - P_i*(delta_m-delta_c)\n",
"cos_delta_cr = ((delta_m-delta_0)*sin(delta_0)-r1*cos(delta_0)+r2*cos(delta_m))/(r2-r1)\n",
"delta_cr = acos(cos_delta_cr)*180/%pi\n",
"// Result Section\n",
"if(A_acc < A_dec) then\n",
"    printf('System is Stable')\n",
"    stability = A_dec/A_acc\n",
"    printf('Margin of stability , K = %.2f' ,stability)\n",
"else\n",
"    printf('System is not stable')\n",
"end    \n",
"printf('Critical clearing angle for a certain pre-fault power = %.2f°' ,delta_cr)\n",
"printf('Critical clearing time will be known from circuit-breaker specifications')"
   ]
   }
,
{
		   "cell_type": "markdown",
		   "metadata": {},
		   "source": [
			"## Example 15.5: Example.sce"
		   ]
		  },
  {
"cell_type": "code",
	   "execution_count": null,
	   "metadata": {
	    "collapsed": true
	   },
	   "outputs": [],
"source": [
"// Variable Declaration\n",
"P_i = 0.75      //Pre-fault power(p.u)\n",
"f = 50.0        //Frequency(Hz)\n",
"H = 6.0         //Value of H for finite machine(sec)\n",
"x_G = 0.2       //Reactance of machine(p.u)\n",
"x_T = 0.1       //Reactance of transformer(p.u)\n",
"x_L = 0.4       //Reactance of line(p.u)\n",
"V = 1.0         //Voltage of infinite bus(p.u)\n",
"E = 1.0         //e.m.f of finite generator behind transient reactance(p.u)\n",
"// Calculation Section\n",
"X_T = x_G+x_T+(x_L)                           //Transfer reactance at pre-fault state(p.u)\n",
"P_m = E**2/X_T                                //Amplitude of power angle curve at pre-fault state(p.u)\n",
"delta_0 = asin(P_i/P_m)                  //Radians\n",
"delta_0a = delta_0*180/%pi\n",
"delta_cr = acos((%pi-2*delta_0)*sin(delta_0)-cos(delta_0))\n",
"delta_cra = delta_cr*180/%pi\n",
"t_cr = ((delta_cra-delta_0a)*2*H/(180*f*P_i))**0.5\n",
"// Result Section\n",
"printf('Critical clearing angle for circuit breaker at bus 1 = %.2f°' ,delta_cra)\n",
"printf('Time for circuit breaker at bus 1 ,t_cr = %.3f sec' ,t_cr)"
   ]
   }
],
"metadata": {
		  "kernelspec": {
		   "display_name": "Scilab",
		   "language": "scilab",
		   "name": "scilab"
		  },
		  "language_info": {
		   "file_extension": ".sce",
		   "help_links": [
			{
			 "text": "MetaKernel Magics",
			 "url": "https://github.com/calysto/metakernel/blob/master/metakernel/magics/README.md"
			}
		   ],
		   "mimetype": "text/x-octave",
		   "name": "scilab",
		   "version": "0.7.1"
		  }
		 },
		 "nbformat": 4,
		 "nbformat_minor": 0
}
