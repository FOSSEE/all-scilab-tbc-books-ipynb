{
"cells": [
 {
		   "cell_type": "markdown",
	   "metadata": {},
	   "source": [
       "# Chapter 6: UNDERGROUND CABLES"
	   ]
	},
{
		   "cell_type": "markdown",
		   "metadata": {},
		   "source": [
			"## Example 6.1: Example.sce"
		   ]
		  },
  {
"cell_type": "code",
	   "execution_count": null,
	   "metadata": {
	    "collapsed": true
	   },
	   "outputs": [],
"source": [
"// Variable Declaration\n",
"C_m = 0.28      //Capacitance b/w ant 2 cores(micro-F/km)\n",
"f = 50.0        //Frequency(Hz)\n",
"V_L = 11.0      //Line voltage(kV)\n",
"// Calculation Section\n",
"C = 2*C_m                           //Capacitance b/w any conductor & shield(micro-F/km)\n",
"w = 2*%pi*f                     //Angular frequency\n",
"I_c = V_L*10**3*w*C*10**-6/3**0.5   //Charging current/phase/km(A)\n",
"Total = 3**0.5*I_c*V_L              //Total charging kVAR/km\n",
"// Result Section\n",
"printf('Charging current/phase/km , I_c = %.3f A' ,I_c)\n",
"printf('Total charging kVAR/km = %.2f ' ,Total)"
   ]
   }
,
{
		   "cell_type": "markdown",
		   "metadata": {},
		   "source": [
			"## Example 6.2: Example.sce"
		   ]
		  },
  {
"cell_type": "code",
	   "execution_count": null,
	   "metadata": {
	    "collapsed": true
	   },
	   "outputs": [],
"source": [
"// Variable Declaration\n",
"E_c = 100.0     //Safe working stress(kV/cm) rms\n",
"V = 130.0       //Operating voltage(kV) rms\n",
"d = 1.5         //Diameter of conductor(cm)\n",
"// Calculation Section\n",
"ln_D = 2*V/(E_c*d)+log(d)\n",
"D = exp(ln_D)\n",
"thick_1 = (D-d)/2               //Insulation thickness(cm)\n",
"d_2 = 2*V/E_c\n",
"D_2 = 2.718*d_2                 //Sheath diameter(cm)\n",
"thick_2 = (D_2-d_2)/2           //Insulation thickness(cm)\n",
"// Result Section\n",
"printf('(i)  Internal sheath radius = %.2f cm' ,thick_1)\n",
"printf('(ii) Internal sheath radius = %.2f cm' ,thick_2)"
   ]
   }
,
{
		   "cell_type": "markdown",
		   "metadata": {},
		   "source": [
			"## Example 6.3: Example.sce"
		   ]
		  },
  {
"cell_type": "code",
	   "execution_count": null,
	   "metadata": {
	    "collapsed": true
	   },
	   "outputs": [],
"source": [
"// Variable Declaration\n",
"d = 3.0         //Diameter of conductor(cm)\n",
"D = 8.5         //Sheath diameter(cm)\n",
"e_r1 = 5.0      //Permittivity of inner dielectric\n",
"e_r2 = 3.0      //Permittivity of outer dielectric\n",
"E_c = 30.0      //Safe working stress(kV/cm) rms\n",
"// Calculation Section\n",
"E_i = E_c\n",
"D_1 = e_r1/e_r2*d\n",
"thick_1 = (D_1-d)/2     //Thickness of first layer(cm)\n",
"thick_2 = (D-D_1)/2     //Thickness of second layer(cm)\n",
"V_1 = E_c*d*log(D_1/d)/2       //Voltage across first layer(kV)\n",
"V_2 = E_i*D_1*log(D/D_1)/2     //Voltage across second layer(kV)\n",
"V = V_1 + V_2                       //Permissible conductor voltage(kV)\n",
"V_3 = E_c*d*log(D/d)/2         //Permissible conductor voltage(kV) for homogeneous permittivity of 5\n",
"// Result Section\n",
"printf('Case(i) :')\n",
"printf('Thickness of first layer = %.2f cm' ,thick_1)\n",
"printf('Thickness of second layer = %.2f cm' ,thick_2)\n",
"printf('\nCase(ii) :')\n",
"printf('Permissible conductor voltage = %.2f kV' ,V)\n",
"printf('\nCase(iii) :')\n",
"printf('Permissible conductor voltage if a homogeneous insulation of permittivity 5 is used , V = %.2f kV' ,V_3)\n",
"printf('\nNOTE : ERROR : Relative permittivity of outer dielectric is 3 & not 9 as given in textbook')"
   ]
   }
,
{
		   "cell_type": "markdown",
		   "metadata": {},
		   "source": [
			"## Example 6.4: Example.sce"
		   ]
		  },
  {
"cell_type": "code",
	   "execution_count": null,
	   "metadata": {
	    "collapsed": true
	   },
	   "outputs": [],
"source": [
"// Variable Declaration\n",
"E = 40.0        //Safe working stress(kV/cm) rms\n",
"d = 1.5         //Conductor diameter(cm)\n",
"D = 6.7         //Sheath diameter(cm)\n",
"t = 0.1         //Thickness of lead tube(cm)\n",
"// Calculation Section\n",
"r = d/2                     //Conductor radius(cm)\n",
"R = D/2                     //Sheath radius(cm)\n",
"r_i = r+((R-r)/2)-t/2       //Internal radius of intersheath(cm)\n",
"r_e = r_i + t               //External radius of intersheath(cm)\n",
"V_1 = E*r*log(r_i/r)   //Voltage across conductor & intersheath(kV)\n",
"V_2 = E*r_e*log(R/r_e) //Voltage across intersheath & earthed sheath(kV)\n",
"V = V_1 + V_2               //Safe working voltage with intersheath(kV)\n",
"V_no = E*r*log(R/r)    //Safe working voltage without intersheath(kV)\n",
"// Result Section\n",
"printf('Safe working voltage with intersheath , V = %.2f kV' ,V)\n",
"printf('Safe working voltage without intersheath , V = %.2f kV' ,V_no)"
   ]
   }
],
"metadata": {
		  "kernelspec": {
		   "display_name": "Scilab",
		   "language": "scilab",
		   "name": "scilab"
		  },
		  "language_info": {
		   "file_extension": ".sce",
		   "help_links": [
			{
			 "text": "MetaKernel Magics",
			 "url": "https://github.com/calysto/metakernel/blob/master/metakernel/magics/README.md"
			}
		   ],
		   "mimetype": "text/x-octave",
		   "name": "scilab",
		   "version": "0.7.1"
		  }
		 },
		 "nbformat": 4,
		 "nbformat_minor": 0
}
