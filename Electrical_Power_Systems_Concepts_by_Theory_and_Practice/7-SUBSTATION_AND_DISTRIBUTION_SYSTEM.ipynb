{
"cells": [
 {
		   "cell_type": "markdown",
	   "metadata": {},
	   "source": [
       "# Chapter 7: SUBSTATION AND DISTRIBUTION SYSTEM"
	   ]
	},
{
		   "cell_type": "markdown",
		   "metadata": {},
		   "source": [
			"## Example 7.1: Example.sce"
		   ]
		  },
  {
"cell_type": "code",
	   "execution_count": null,
	   "metadata": {
	    "collapsed": true
	   },
	   "outputs": [],
"source": [
"// Variable Declaration\n",
"V = 400.0       //Voltage supplied(V)\n",
"f = 50.0        //Frequency(Hz)\n",
"P_1 = 75.0      //Power of induction motor at middle of distributor(kVA)\n",
"pf_1 = 0.8      //Power factor of induction motor at middle of distributor\n",
"P_2 = 50.0      //Power of induction motor at far end(kVA)\n",
"pf_2 = 0.85     //Power factor of induction motor at far end\n",
"demand_f = 1.0  //Demand factor\n",
"diver_f = 1.2   //Diversity factor\n",
"L = 150.0       //Length of line(m)\n",
"// Calculation Section\n",
"theta_1 = acos(pf_1)                                       //Power factor angle for 75 kVA(radians)\n",
"theta_2 = acos(pf_2)                                       //Power factor angle for 50 kVA(radians)\n",
"load = P_1*exp(%i*theta_1)+P_2*exp(%i*theta_2)      //Total connected load(kVA)\n",
"pf_r = cos(phasemag(load)*%pi/180)                              //Resultant power factor\n",
"I_max = abs(load)*1000/(3**0.5*V*diver_f)                       //Maximum distributor current per phase(A)\n",
"L_1 = L/2\n",
"V_per = 0.06*V/3**0.5                                           //Permissible voltage drop(V)\n",
"R_f = 0.734*10**-3                                              //Resistance(ohm/m)\n",
"X_f = 0.336*10**-3                                              //Reactance(ohm/m)\n",
"I_2f = P_2*10**3/(3**0.5*V)\n",
"I_1f = P_1*10**3/(3**0.5*V)\n",
"V_f = I_1f*L_1*(R_f*pf_1+X_f*sin(theta_1))+I_2f*L*(R_f*pf_2+X_f*sin(theta_2))\n",
"d_f = 9.0                                                       //Overall conductor diameter(mm)\n",
"area_f = %pi*d_f**2/4                                       //Area of ferret conductor(mm^2)\n",
"R_R = 0.587*10**-3                                              //Resistance(ohm/m)\n",
"X_R = 0.333*10**-3                                              //Reactance(ohm/m)\n",
"I_2R = P_2*10**3/(3**0.5*V)\n",
"I_1R = P_1*10**3/(3**0.5*V)\n",
"V_R = I_1R*L_1*(R_R*pf_1+X_R*sin(theta_1))+I_2R*L*(R_R*pf_2+X_R*sin(theta_2))\n",
"d_R = 10.0                                                      //Overall conductor diameter(mm)\n",
"area_R = %pi*d_R**2/4                                       //Area of rabbit conductor(mm^2)\n",
"// Result Section\n",
"if(V_f > V_per) then\n",
"    printf('Overall cross-sectional area of the 7/3.35 mm Rabbit ACSR conductors having overall conductor diameter of 10.0 mm = %.2f mm^2' ,area_R)\n",
"else\n",
"    printf('Overall cross-sectional area of the 7/3.00 mm Ferret ACSR conductors having overall conductor diameter of 9.0 mm = %.2f mm^2' ,area_f)\n",
"end"
   ]
   }
,
{
		   "cell_type": "markdown",
		   "metadata": {},
		   "source": [
			"## Example 7.2: Example.sce"
		   ]
		  },
  {
"cell_type": "code",
	   "execution_count": null,
	   "metadata": {
	    "collapsed": true
	   },
	   "outputs": [],
"source": [
"// Variable Declaration\n",
"V = 400.0       //Voltage supplied(V)\n",
"i = 0.5         //Current per meter(A)\n",
"demand_f = 1.0  //Demand factor\n",
"diver_f = 1.0   //Diversity factor\n",
"L = 275.0       //Length of line(m)\n",
"pf = 0.9        //Power factor lagging\n",
"// Calculation Section\n",
"I = i*L                                                 //Current in distributor/phase(A)\n",
"theta = acos(pf)                                   //Power factor angle\n",
"V_per = 0.06*V/3**0.5                                   //Permissible voltage drop(V)\n",
"r_w = 0.985                                             //Resistance(ohm/km)\n",
"x_w = 0.341                                             //Reactance(ohm/km)\n",
"V_w = 0.5*i*(r_w*pf+x_w*sin(theta))*L**2*10**-3    //Voltage drop for Weasel(V)\n",
"d_w = 7.77                                              //Diameter of weasel conductor(mm)\n",
"area_w = %pi*d_w**2/4                               //Area of weasel conductor(mm^2)\n",
"r_f = 0.734                                             //Resistance(ohm/km)\n",
"x_f = 0.336                                             //Reactance(ohm/km)\n",
"V_f = 0.5*i*(r_f*pf+x_f*sin(theta))*L**2*10**-3    //Voltage drop for Ferret(V)\n",
"d_f = 9.00                                              //Diameter of Ferret conductor(mm)\n",
"area_f = %pi*d_f**2/4                               //Area of Ferret conductor(mm^2)\n",
"r_r = 0.587                                             //Resistance(ohm/km)\n",
"x_r = 0.333                                             //Reactance(ohm/km)\n",
"V_r = 0.5*i*(r_r*pf+x_r*sin(theta))*L**2*10**-3    //Voltage drop for Rabbit(V)\n",
"d_r = 10.0                                              //Diameter of Rabbit conductor(mm)\n",
"area_r = %pi*d_r**2/4                               //Area of Rabbit conductor(mm^2)\n",
"// Result Section\n",
"if(V_w < V_per) then\n",
"    printf('Overall cross-sectional area of the 7/2.59 mm Weasel ACSR conductors having overall conductor diameter of 7.77 mm = %.2f mm^2' ,area_w)\n",
"else if(V_f < V_per) then\n",
"    printf('Overall cross-sectional area of the 7/3.00 mm Ferret ACSR conductors having overall conductor diameter of 9.0 mm = %.2f mm^2' ,area_f)\n",
"else\n",
"    printf('Overall cross-sectional area of the 7/3.35 mm Rabbit ACSR conductors having overall conductor diameter of 10.0 mm = %.2f mm^2' ,area_r)\n",
"end\n",
"end"
   ]
   }
,
{
		   "cell_type": "markdown",
		   "metadata": {},
		   "source": [
			"## Example 7.3: Example.sce"
		   ]
		  },
  {
"cell_type": "code",
	   "execution_count": null,
	   "metadata": {
	    "collapsed": true
	   },
	   "outputs": [],
"source": [
"// Variable Declaration\n",
"V = 400.0       //Voltage supplied(V)\n",
"f = 50.0        //Frequency(Hz)\n",
"L = 300.0       //Length of line(m)\n",
"I_1 = 50.0      //Current at 100 m from feeding point(A)\n",
"pf_1 = 0.8      //Power factor at 100 m from feeding point\n",
"L_1 = 100.0     //Length of line upto feeding point(m)\n",
"I_2 = 25.0      //Current at 100 m from feeding point(A)\n",
"pf_2 = 0.78     //Power factor at 100 m from feeding point\n",
"L_2 = 200.0     //Length of line from feeding point to far end(m)\n",
"i = 0.2         //Distributed load current(A/metre)\n",
"v_drop = 15.0   //Permissible voltage drop\n",
"// Calculation Section\n",
"theta_1 = acos(pf_1)               //Power factor angle for 50 A(radians)\n",
"theta_2 = acos(pf_2)               //Power factor angle for 25 A(radians)\n",
"r_f = 0.734*10**-3                      //Resistance(ohm/m)\n",
"x_f = 0.336*10**-3                      //Reactance(ohm/m)\n",
"V_con_f = I_1*L_1*(r_f*pf_1+x_f*sin(theta_1))+I_2*L*(r_f*pf_2+x_f*sin(theta_2)) //Voltage drop at B due to concentrated loading(V)\n",
"V_dis_f = 0.5*i*r_f*(L_1+L_2)**2        //Voltage drop at B due to distributed loading(V)\n",
"V_f = V_con_f+V_dis_f                   //Total voltage drop(V)\n",
"r_r = 0.587*10**-3                      //Resistance(ohm/m)\n",
"x_r = 0.333*10**-3                      //Reactance(ohm/m)\n",
"V_con_r = I_1*L_1*(r_r*pf_1+x_r*sin(theta_1))+I_2*L*(r_r*pf_2+x_r*sin(theta_2)) //Voltage drop at B due to concentrated loading(V)\n",
"V_dis_r = 0.5*i*r_r*(L_1+L_2)**2        //Voltage drop at B due to distributed loading(V)\n",
"V_r = V_con_r+V_dis_r                   //Total voltage drop(V)\n",
"// Result Section\n",
"if(V_f < v_drop) then\n",
"    printf('Ferret ACSR conductors of size 7/3.00 mm having an overall conductor diameter of 9.0 mm is to be used')\n",
"    printf('Total voltage drop = %.2f V, which is within limit' ,V_f)\n",
"else\n",
"    printf('Rabbit ACSR conductors of size 7/3.35 mm having an overall conductor diameter of 10.0 mm is to be used')\n",
"    printf('Total voltage drop = %.2f V, which is within limit' ,V_r)\n",
"end\n",
"printf('\nNOTE : ERROR : In distributed load : current is 0.2 A/meter and not 0.25 A/meter as given in problem statement')"
   ]
   }
,
{
		   "cell_type": "markdown",
		   "metadata": {},
		   "source": [
			"## Example 7.4: Example.sce"
		   ]
		  },
  {
"cell_type": "code",
	   "execution_count": null,
	   "metadata": {
	    "collapsed": true
	   },
	   "outputs": [],
"source": [
"// Variable Declaration\n",
"P = 5.0         //Power of substation(MVA)\n",
"V_hv = 33.0     //High voltage(kV)\n",
"V_lv = 11.0     //Low voltage(kV)\n",
"f = 50.0        //Frequency(Hz)\n",
"P_1 = 0.5       //Minimum load(MW)\n",
"pf_1 = 0.85     //Lagging power factor of minimum load\n",
"P_2 = 2.8       //Maximum load(MW)\n",
"pf_2 = 0.78     //Lagging power factor of maximum load\n",
"pf_i = 0.9      //Lagging power factor of incoming current\n",
"// Calculation Section\n",
"theta_1 = acos(pf_1)\n",
"theta_2 = acos(pf_2)\n",
"theta_i = acos(pf_i)\n",
"load_react = P_1*tan(theta_1)*1000                      //Load reactive power(kVAR)\n",
"line_react = P_1*tan(theta_i)*1000                      //Reactive power supplied by line(kVAR)\n",
"rating_fix = load_react - line_react                         //kVAR rating of fixed capacitor bank(kVAR)\n",
"bank_react = P_2*(tan(theta_2)-tan(theta_i))*1000  //Reactive power to be supplied by capacitor banks(kVAR)\n",
"rating_swi = bank_react - rating_fix                         //Reactive power rating of switched unit(kVAR)\n",
"C_fix = rating_fix*10**-3/(3**0.5*V_lv**2*2*%pi*f)       //Capacitance for fixed bank\n",
"C_swi = rating_swi*10**-3/(3**0.5*V_lv**2*2*%pi*f)       //Capacitance for switched bank\n",
"// Result Section\n",
"printf('kVAR rating of fixed capacitors = %.1f kVAR' ,rating_fix)\n",
"printf('kVAR rating of switched capacitors = %.1f kVAR' ,rating_swi)\n",
"printf('Capacitance of fixed bank , C = %.2e F/phase' ,C_fix)\n",
"printf('Capacitance of switched bank , C = %.2e F/phase' ,C_swi)"
   ]
   }
,
{
		   "cell_type": "markdown",
		   "metadata": {},
		   "source": [
			"## Example 7.5: Example.sce"
		   ]
		  },
  {
"cell_type": "code",
	   "execution_count": null,
	   "metadata": {
	    "collapsed": true
	   },
	   "outputs": [],
"source": [
"// Variable Declaration\n",
"V = 400.0       //Voltage of induction motor(V)\n",
"f = 50.0        //Frequency(Hz)\n",
"I = 40.0        //Line current(A)\n",
"pf_1 = 0.78     //Lagging power factor of motor\n",
"pf_2 = 0.95     //Raised lagging power factor\n",
"// Calculation Section\n",
"theta_1 = acos(pf_1)                                           //Motor power factor angle(radians)\n",
"P_act_m = 3**0.5*V*I*pf_1*10**-3                                    //Active power demand of motor(kW)\n",
"P_rea_m = P_act_m*tan(theta_1)                                 //Reactive power demand of motor(kVAR)\n",
"theta_2 = acos(pf_2)                                           //Improved power factor angle(radians)\n",
"P_act_l = 3**0.5*V*I*pf_1*10**-3                                    //Active power supplied by line(kW)\n",
"P_rea_l = P_act_m*tan(theta_2)                                 //Reactive power supplied by line to motor(kVAR)\n",
"rating = P_rea_m - P_rea_l                                          //kVAR rating of capacitor bank(kVAR per phase)\n",
"I_C = rating*1000/(3**0.5*V)                                        //Current drawn by capacitor bank(A)\n",
"I_L = I*exp(%i*-theta_1)+I_C*exp(%i*90*%pi/180)     //Line current(A)\n",
"I_phase = I_C/3**0.5                                                //Phase current of delta connected capacitor bank(A)\n",
"C = I_phase/(V*2*%pi*f)                                         //Per phase capacitance of bank(micro-F/phase)\n",
"// Result Section\n",
"printf('kVAR rating of the bank = %.2f kVAR per phase' ,rating)\n",
"printf('Line current = %.2f∠%.2f° A' ,abs(I_L),phasemag(I_L))\n",
"printf('Per phase capacitance of the bank , C = %.2e F/phase',C)"
   ]
   }
,
{
		   "cell_type": "markdown",
		   "metadata": {},
		   "source": [
			"## Example 7.6: Example.sce"
		   ]
		  },
  {
"cell_type": "code",
	   "execution_count": null,
	   "metadata": {
	    "collapsed": true
	   },
	   "outputs": [],
"source": [
"// Variable Declaration\n",
"P_1 = 250.0     //Load at unity power factor(kW)\n",
"pf_1 = 1        //Power factor\n",
"P_2 = 1500.0    //Load at 0.9 power factor(kW)\n",
"pf_2 = 0.9      //Lagging power factor\n",
"P_3 = 1000.0    //Load at 0.8 power factor(kW)\n",
"pf_3 = 0.8      //Lagging power factor\n",
"P_4 = 700.0     //Load at 0.78 power factor(kW)\n",
"pf_4 = 0.76     //Lagging power factor\n",
"// Calculation Section\n",
"theta_1 = acos(pf_1)\n",
"theta_2 = acos(pf_2)\n",
"theta_3 = acos(pf_3)\n",
"theta_4 = acos(pf_4)\n",
"kW_T = P_1+P_2+P_3+P_4                   //Total kW carried by feeder(kW)\n",
"kVAR_T = P_1*tan(theta_1)+P_2*tan(theta_2)+P_3*tan(theta_3)+P_4*tan(theta_4)\n",
"pf_feed = cos(atan(kVAR_T/kW_T))\n",
"feeder_KVA = (kW_T**2+kVAR_T**2)**0.5    //Feeder kVA\n",
"feeder_kW = feeder_KVA                   //Load at unity pf(kW)\n",
"// Result Section\n",
"printf('Feeder power factor = %.3f lagging' ,pf_feed)\n",
"printf('Load at unity power factor = %.f kW' ,feeder_kW)\n",
"printf('\nNOTE : ERROR : The load data should be 700 kW at 0.76 pf lagging instead of 700 kW at 0.78 lagging')"
   ]
   }
,
{
		   "cell_type": "markdown",
		   "metadata": {},
		   "source": [
			"## Example 7.8: Example.sce"
		   ]
		  },
  {
"cell_type": "code",
	   "execution_count": null,
	   "metadata": {
	    "collapsed": true
	   },
	   "outputs": [],
"source": [
"// Variable Declaration\n",
"V = 400.0       //Voltage(V)\n",
"f = 50.0        //Frequency(Hz)\n",
"HP_1 = 75.0     //Power(H.P)\n",
"HP_2 = 25.0     //Power(H.P)\n",
"HP_3 = 10.0     //Power(H.P)\n",
"pf_1 = 0.75     //Power factor at 3/4 load\n",
"pf_2 = 0.78     //Power factor at 4/5 load\n",
"pf_3 = 0.8      //Power factor at full load\n",
"pf_4 = 0.9      //Lagging power factor improved\n",
"pf_5 = 0.74     //Power factor of 2nd motor at 2/3 of full load\n",
"pf_6 = 0.8      //Power factor of 3rd motor at full load\n",
"// Calculation Section\n",
"theta_1 = acos(pf_1)\n",
"theta_2 = acos(pf_2)\n",
"theta_3 = acos(pf_3)\n",
"S_1P = (0.75*HP_1*746*10**-3/pf_1)*exp(%i*theta_1)    //kVA demanded by first motor(kVA)\n",
"S_2P = (0.8*HP_2*746*10**-3/pf_2)*exp(%i*theta_2)     //kVA demanded by second motor(kVA)\n",
"S_3P = (HP_3*746*10**-3/pf_3)*exp(%i*theta_3)         //kVA demanded by third motor(kVA)\n",
"S_TP = S_1P + S_2P + S_3P                                   //Total kVA demanded by all loads(kVA)\n",
"pf_l_wc = cos(phasemag(S_TP)*%pi/180)                       //Line power factor without capacitive correction\n",
"kW_T = real(S_TP)                                            //Total kW demanded by load(kW)\n",
"kVAR_T = imag(S_TP)                                          //Total lagging kVAR demanded by loads(kVAR)\n",
"theta_4 = acos(pf_4)\n",
"P_react = kW_T*tan(theta_4)                            //Reactive power supplied by line for 0.9 pf(kVAR)\n",
"power = kVAR_T - P_react                                    //Reactive power supplied by capacitor bank(kVAR)\n",
"theta_5 = acos(pf_5)\n",
"theta_6 = acos(pf_6)\n",
"S_2L = (2*HP_2*746*10**-3/(3*pf_5))*exp(%i*theta_5)   //kVA demanded by second motor(kVA)\n",
"S_3L = (HP_3*746*10**-3/pf_3)*exp(%i*theta_3)         //kVA demanded by third motor(kVA)\n",
"S_TL = S_2L + S_3L                                          //Total kVA demanded during lean period(kVA)\n",
"S_line = real(S_TL) - complex(0,power-imag(S_TL))           //kVA supplied by line(kVA)\n",
"pf_line = cos(phasemag(S_line)*%pi/180)                     //Line power factor\n",
"// Result Section\n",
"printf('Line power factor with capacitor bank connected during lean period = %.2f leading' ,pf_line)"
   ]
   }
],
"metadata": {
		  "kernelspec": {
		   "display_name": "Scilab",
		   "language": "scilab",
		   "name": "scilab"
		  },
		  "language_info": {
		   "file_extension": ".sce",
		   "help_links": [
			{
			 "text": "MetaKernel Magics",
			 "url": "https://github.com/calysto/metakernel/blob/master/metakernel/magics/README.md"
			}
		   ],
		   "mimetype": "text/x-octave",
		   "name": "scilab",
		   "version": "0.7.1"
		  }
		 },
		 "nbformat": 4,
		 "nbformat_minor": 0
}
