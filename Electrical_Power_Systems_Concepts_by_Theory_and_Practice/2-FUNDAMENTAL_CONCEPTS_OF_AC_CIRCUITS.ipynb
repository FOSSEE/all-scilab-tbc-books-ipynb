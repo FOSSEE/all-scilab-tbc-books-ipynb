{
"cells": [
 {
		   "cell_type": "markdown",
	   "metadata": {},
	   "source": [
       "# Chapter 2: FUNDAMENTAL CONCEPTS OF AC CIRCUITS"
	   ]
	},
{
		   "cell_type": "markdown",
		   "metadata": {},
		   "source": [
			"## Example 2.1: Example.sce"
		   ]
		  },
  {
"cell_type": "code",
	   "execution_count": null,
	   "metadata": {
	    "collapsed": true
	   },
	   "outputs": [],
"source": [
"// Variable Declaration\n",
"MVA_base = 10.0  //Three-phase base MVA\n",
"kV_base = 13.8   //Line-line base kV\n",
"P = 7.0          //Power delivered(MW)\n",
"PF = 0.8         //Power factor lagging\n",
"Z = 5.7          //Impedance(ohm)\n",
"// Calculation Section\n",
"I_base = (MVA_base) * (10**3)/((3**(0.5)) * kV_base)   //Base current(A)\n",
"I_actual = P * (10**3)/((3**(0.5)) * kV_base*PF)       //Actual current delivered by machine(A)\n",
"I_pu = I_actual/I_base                                 //p.u current(p.u)\n",
"Z_pu = Z * (MVA_base/( (kV_base)**2 ))                 //p.u impedance(p.u)\n",
"P_act_pu = P/MVA_base                                  //p.u active power(p.u)\n",
"x = acos(PF)\n",
"y = sin(x)\n",
"P_react = (P * y)/PF                                   //Actual reactive power(MVAR)\n",
"P_react_pu = P_react/MVA_base                          //Actual p.u reactive power(p.u)\n",
"// Result Section\n",
"printf('p.u current = %.3f p.u' ,I_pu)\n",
"printf('p.u impedance = %.1f p.u' ,Z_pu)\n",
"printf('p.u active power = %.1f p.u' ,P_act_pu)\n",
"printf('p.u reactive power = %.3f p.u' ,P_react_pu)"
   ]
   }
,
{
		   "cell_type": "markdown",
		   "metadata": {},
		   "source": [
			"## Example 2.2: Example.sce"
		   ]
		  },
  {
"cell_type": "code",
	   "execution_count": null,
	   "metadata": {
	    "collapsed": true
	   },
	   "outputs": [],
"source": [
"// Variable Declaration\n",
"MVA_base = 5.0   //Base MVA on both sides\n",
"hv_base = 11.0   //Line to line base voltages in kV on h.v side\n",
"lv_base = 0.4    //Line to line base voltages in kV on l.v side\n",
"Z = 5.0/100      //Impedance of 5%\n",
"// Calculation Section\n",
"Z_base_hv = (hv_base)**2/MVA_base    //Base impedance on h.v side(ohm)\n",
"Z_base_lv = (lv_base)**2/MVA_base    //Base impedance on l.v side(ohm)\n",
"Z_act_hv = Z * Z_base_hv             //Actual impedance viewed from h.v side(ohm)\n",
"Z_act_lv = Z * Z_base_lv             //Actual impedance viewed from l.v side(ohm)\n",
"// Result Section\n",
"printf('Base impedance on h.v side = %.1f ohm' ,Z_base_hv)\n",
"printf('Base impedance on l.v side = %.3f ohm' ,Z_base_lv)\n",
"printf('Actual impedance viewed from h.v side = %.2f ohm' ,Z_act_hv)\n",
"printf('Actual impedance viewed from l.v side = %.4f ohm' ,Z_act_lv)"
   ]
   }
],
"metadata": {
		  "kernelspec": {
		   "display_name": "Scilab",
		   "language": "scilab",
		   "name": "scilab"
		  },
		  "language_info": {
		   "file_extension": ".sce",
		   "help_links": [
			{
			 "text": "MetaKernel Magics",
			 "url": "https://github.com/calysto/metakernel/blob/master/metakernel/magics/README.md"
			}
		   ],
		   "mimetype": "text/x-octave",
		   "name": "scilab",
		   "version": "0.7.1"
		  }
		 },
		 "nbformat": 4,
		 "nbformat_minor": 0
}
