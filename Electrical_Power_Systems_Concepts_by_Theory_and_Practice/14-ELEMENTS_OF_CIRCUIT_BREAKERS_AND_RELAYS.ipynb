{
"cells": [
 {
		   "cell_type": "markdown",
	   "metadata": {},
	   "source": [
       "# Chapter 14: ELEMENTS OF CIRCUIT BREAKERS AND RELAYS"
	   ]
	},
{
		   "cell_type": "markdown",
		   "metadata": {},
		   "source": [
			"## Example 14.1: Example.sce"
		   ]
		  },
  {
"cell_type": "code",
	   "execution_count": null,
	   "metadata": {
	    "collapsed": true
	   },
	   "outputs": [],
"source": [
"// Variable Declaration\n",
"TMS = 0.5       //Time multiplier setting\n",
"I_f = 5000.0    //Fault current(A)\n",
"CT = 500.0/5    //CT ratio\n",
"set_plug = 1.0  //Relay plug set\n",
"I_relay = 5.0   //Rated relay current(A)\n",
"// Calculation Section\n",
"PSM = I_f/(CT*set_plug*I_relay)     //Plug setting multiplier\n",
"T1 = 1.0                            //Time of operation for obtained PSM & TMS of 1 from graph.Refer Fig 14.22\n",
"T2 = TMS*3/T1                       //Time of operation(sec)\n",
"// Result Section\n",
"printf('Operating time of the relay = %.1f sec' ,T2)"
   ]
   }
,
{
		   "cell_type": "markdown",
		   "metadata": {},
		   "source": [
			"## Example 14.2: Example.sce"
		   ]
		  },
  {
"cell_type": "code",
	   "execution_count": null,
	   "metadata": {
	    "collapsed": true
	   },
	   "outputs": [],
"source": [
"// Variable Declaration\n",
"I_f_A = 6000.0      //3-phase fault current of substation A(A)\n",
"I_f_B = 5000.0      //3-phase fault current of substation B(A)\n",
"I_f_C = 3000.0      //3-phase fault current of substation C(A)\n",
"I_f_D = 2000.0      //3-phase fault current of substation D(A)\n",
"I_L_max = 100.0     //Maximum load cuurent(A)\n",
"T = 0.5             //Operating time of breakers(sec)\n",
" \n",
"I_set = 1.0                         //Setting current(A)\n",
"// Calculation Section\n",
"I_L_maxD = I_L_max                  //Maximum load current at D(A)\n",
"CT_D = I_L_max/1                    //CT ratio\n",
"PSM_D = I_f_D/(CT_D*I_set)          //Plug setting multiplier\n",
"TMS_D = 0.1                         //Time multiplier setting\n",
"T_D = 0.14*TMS_D/(PSM_D**0.02-1)    //Time of operation(sec)\n",
"I_L_maxC = I_L_max+I_L_maxD         //Maximum load current at C(A)\n",
"CT_C = I_L_maxC/1                   //CT ratio\n",
"PSM_C = I_f_C/(CT_C*I_set)          //Plug setting multiplier\n",
"T_C = T_D+T                         //Minimum time of operation(sec)\n",
"TMS_C = T_C*(PSM_C**0.02-1)/0.14    //Time multiplier setting\n",
"I_L_maxB = I_L_max+I_L_maxC         //Maximum load current at B(A)\n",
"CT_B = I_L_maxB/1                   //CT ratio\n",
"PSM_B = I_f_B/(CT_B*I_set)          //Plug setting multiplier\n",
"T_B = T_C+T                         //Minimum time of operation(sec)\n",
"TMS_B = T_B*(PSM_B**0.02-1)/0.14    //Time multiplier setting\n",
"I_L_maxA = I_L_max+I_L_maxB         //Maximum load current at A(A)\n",
"CT_A = I_L_maxA/1                   //CT ratio\n",
"PSM_A = I_f_A/(CT_A*I_set)          //Plug setting multiplier\n",
"T_A = T_B+T                         //Minimum time of operation(sec)\n",
"TMS_A = T_A*(PSM_A**0.02-1)/0.14    //Time multiplier setting\n",
"// Result Section\n",
"printf('Relay A :')\n",
"printf('CT ratio = %.f/1' ,CT_A)\n",
"printf('PSM of R_A = %.1f' ,PSM_A)\n",
"printf('TMS of R_A = %.1f sec' ,TMS_A)\n",
"printf('\nRelay B :')\n",
"printf('CT ratio = %.f/1' ,CT_B)\n",
"printf('PSM of R_B = %.2f' ,PSM_B)\n",
"printf('TMS of R_B = %.1f sec' ,TMS_B)\n",
"printf('\nRelay C :')\n",
"printf('CT ratio = %.f/1' ,CT_C)\n",
"printf('PSM of R_C = %.1f' ,PSM_C)\n",
"printf('TMS of R_C = %.1f sec' ,TMS_C)\n",
"printf('\nRelay D :')\n",
"printf('CT ratio = %.f/1' ,CT_D)\n",
"printf('PSM of R_D = %.1f' ,PSM_D)\n",
"printf('TMS of R_D = %.2f sec' ,TMS_D)"
   ]
   }
,
{
		   "cell_type": "markdown",
		   "metadata": {},
		   "source": [
			"## Example 14.3: Example.sce"
		   ]
		  },
  {
"cell_type": "code",
	   "execution_count": null,
	   "metadata": {
	    "collapsed": true
	   },
	   "outputs": [],
"source": [
"// Variable Declaration\n",
"kv_hv = 66.0                            //Voltage rating of HV side of transformer(kV)\n",
"kv_lv = 11.0                            //Voltage rating of LV side of transformer(kV)\n",
"CT = 300.0/5                            //CT ratio on low tension side\n",
"// Calculation Section\n",
"I = 300.0                               //Assumed current flowing at low tension side(A)\n",
"I_HT = kv_lv/kv_hv*I                    //Line current on HT side(A)\n",
"I_LT_CT = I/CT                          //Pilot wire current from LT side(A)\n",
"CT_ratio_HT = I_HT*3**0.5/I_LT_CT       //Ratio of CT on HT side\n",
"// Result Section\n",
"printf('Ratio of CT on high tension side = %.f√3/%.f' ,I_HT,I_LT_CT)"
   ]
   }
,
{
		   "cell_type": "markdown",
		   "metadata": {},
		   "source": [
			"## Example 14.4: Example.sce"
		   ]
		  },
  {
"cell_type": "code",
	   "execution_count": null,
	   "metadata": {
	    "collapsed": true
	   },
	   "outputs": [],
"source": [
"// Variable Declaration\n",
"kv = 11.0       //Voltage rating(kV)\n",
"MVA = 5.0       //MVA rating\n",
"R = 10.0        //Resistance(ohm)\n",
"per_a = 0.15    //Armature winding reactance\n",
"per_trip = 0.3  //Relay trip for out-of-balance\n",
"// Calculation Section\n",
"x_p = per_a*kv**2/MVA                           //Winding Reactance(ohm)\n",
"V = kv/3**0.5*1000                              //Phase voltage(V)\n",
"I = per_trip*MVA*1000/(3**0.5*kv)               //Out of balance current(A)\n",
"p = (((R*I)**2/(V**2-(x_p*I)**2))**0.5)*100     //Percentage of winding remains unsupported\n",
"// Result Section\n",
"printf('Percentage of winding that remains unprotected , p = %.1f percentage' ,p)"
   ]
   }
],
"metadata": {
		  "kernelspec": {
		   "display_name": "Scilab",
		   "language": "scilab",
		   "name": "scilab"
		  },
		  "language_info": {
		   "file_extension": ".sce",
		   "help_links": [
			{
			 "text": "MetaKernel Magics",
			 "url": "https://github.com/calysto/metakernel/blob/master/metakernel/magics/README.md"
			}
		   ],
		   "mimetype": "text/x-octave",
		   "name": "scilab",
		   "version": "0.7.1"
		  }
		 },
		 "nbformat": 4,
		 "nbformat_minor": 0
}
