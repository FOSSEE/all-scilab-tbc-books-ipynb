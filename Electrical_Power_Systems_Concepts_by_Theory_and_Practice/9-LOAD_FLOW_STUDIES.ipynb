{
"cells": [
 {
		   "cell_type": "markdown",
	   "metadata": {},
	   "source": [
       "# Chapter 9: LOAD FLOW STUDIES"
	   ]
	},
{
		   "cell_type": "markdown",
		   "metadata": {},
		   "source": [
			"## Example 9.1: Example.sce"
		   ]
		  },
  {
"cell_type": "code",
	   "execution_count": null,
	   "metadata": {
	    "collapsed": true
	   },
	   "outputs": [],
"source": [
"// Variable Declaration\n",
"Y_s12 = complex(2.96,-20.16)     //Line admittance b/w buses 1 & 2(*10^-3 mho)\n",
"Y_p12 = complex(0,0.152)         //Line admittance b/w buses 1 & 2(*10^-3 mho)\n",
"Y_s15 = complex(2.72,-18.32)     //Line admittance b/w buses 1 & 5(*10^-3 mho)\n",
"Y_p15 = complex(0,0.185)         //Line admittance b/w buses 1 & 5(*10^-3 mho)\n",
"Y_s23 = complex(3.0,-22.8)       //Line admittance b/w buses 2 & 3(*10^-3 mho)\n",
"Y_p23 = complex(0,0.110)         //Line admittance b/w buses 2 & 3(*10^-3 mho)\n",
"Y_s25 = complex(1.48,-10.30)     //Line admittance b/w buses 2 & 5(*10^-3 mho)\n",
"Y_p25 = complex(0,0.312)         //Line admittance b/w buses 2 & 5(*10^-3 mho)\n",
"Y_s34 = complex(2.96,-20.16)     //Line admittance b/w buses 3 & 4(*10^-3 mho)\n",
"Y_p34 = complex(0,0.152)         //Line admittance b/w buses 3 & 4(*10^-3 mho)\n",
"Y_s45 = complex(3.0,-22.8)       //Line admittance b/w buses 4 & 5(*10^-3 mho)\n",
"Y_p45 = complex(0,0.110)         //Line admittance b/w buses 4 & 5(*10^-3 mho)\n",
"// Calculation Section\n",
"Y_s13 = complex(0,0)             //Line admittance b/w buses 1 & 3(*10^-3 mho)\n",
"Y_p13 = complex(0,0)             //Line admittance b/w buses 1 & 3(*10^-3 mho)\n",
"Y_s14 = complex(0,0)             //Line admittance b/w buses 1 & 4(*10^-3 mho)\n",
"Y_p14 = complex(0,0)             //Line admittance b/w buses 1 & 4(*10^-3 mho)\n",
"Y_11 = (Y_s12+Y_s13+Y_s14+Y_s15)+(Y_p12+Y_p13+Y_p14+Y_p15)\n",
"Y_12 = -Y_s12\n",
"Y_13 = -Y_s13\n",
"Y_14 = -Y_s14\n",
"Y_15 = -Y_s15\n",
"Y_s21 = Y_s12\n",
"Y_p21 = Y_p12\n",
"Y_s24 = complex(0,0)             //Line admittance b/w buses 2 & 4(*10^-3 mho)\n",
"Y_p24 = complex(0,0)             //Line admittance b/w buses 2 & 4(*10^-3 mho)\n",
"Y_21 = Y_12\n",
"Y_22 = (Y_s21+Y_s23+Y_s24+Y_s25)+(Y_p21+Y_p23+Y_p24+Y_p25)\n",
"Y_23 = -Y_s23\n",
"Y_24 = -Y_s24\n",
"Y_25 = -Y_s25\n",
"Y_s31 = Y_s13\n",
"Y_p31 = Y_p13\n",
"Y_s32 = Y_s23\n",
"Y_p32 = Y_p23\n",
"Y_s35 = complex(0,0)             //Line admittance b/w buses 2 & 4(*10^-3 mho)\n",
"Y_p35 = complex(0,0)             //Line admittance b/w buses 2 & 4(*10^-3 mho)\n",
"Y_33 = (Y_s31+Y_s32+Y_s34+Y_s35)+(Y_p31+Y_p32+Y_p34+Y_p35)\n",
"Y_34 = -Y_s34\n",
"Y_35 = -Y_s35\n",
"Y_31 = Y_13\n",
"Y_32 = Y_23\n",
"Y_33 = (Y_s31+Y_s32+Y_s34+Y_s35)+(Y_p31+Y_p32+Y_p34+Y_p35)\n",
"Y_34 = -Y_s34\n",
"Y_35 = -Y_s35\n",
"Y_s41 = Y_s14\n",
"Y_p41 = Y_p14\n",
"Y_s42 = Y_s24\n",
"Y_p42 = Y_p24\n",
"Y_s43 = Y_s34\n",
"Y_p43 = Y_p34\n",
"Y_41 = Y_14\n",
"Y_42 = Y_24\n",
"Y_43 = Y_34\n",
"Y_44 = (Y_s41+Y_s42+Y_s43+Y_s45)+(Y_p41+Y_p42+Y_p43+Y_p45)\n",
"Y_45 = -Y_s45\n",
"Y_s51 = Y_s15\n",
"Y_p51 = Y_p15\n",
"Y_s52 = Y_s25\n",
"Y_p52 = Y_p25\n",
"Y_s53 = Y_s35\n",
"Y_p53 = Y_p35\n",
"Y_s54 = Y_s45\n",
"Y_p54 = Y_p45\n",
"Y_51 = Y_15\n",
"Y_52 = Y_25\n",
"Y_53 = Y_35\n",
"Y_54 = Y_45\n",
"Y_55 = (Y_s51+Y_s52+Y_s53+Y_s54)+(Y_p51+Y_p52+Y_p53+Y_p54)\n",
"Y_bus = [[Y_11, Y_12, Y_13, Y_14, Y_15],\n",
"         [Y_21, Y_22, Y_23, Y_24, Y_25],\n",
"         [Y_31, Y_32, Y_33, Y_34, Y_35],\n",
"         [Y_41, Y_42, Y_43, Y_44, Y_45],\n",
"         [Y_51, Y_52, Y_53, Y_54, Y_55]]\n",
"// Result Section\n",
"printf('The Y bus matrix for the five-bus system is :\n')\n",
"disp(Y_bus)"
   ]
   }
,
{
		   "cell_type": "markdown",
		   "metadata": {},
		   "source": [
			"## Example 9.2: Example.sce"
		   ]
		  },
  {
"cell_type": "code",
	   "execution_count": null,
	   "metadata": {
	    "collapsed": true
	   },
	   "outputs": [],
"source": [
"// Variable Declaration\n",
"V_1 = complex(1.04,0)           //Voltage at bus 1(p.u)\n",
"S_D1 = complex(0.55,0.15)       //Power at bus 1(p.u)\n",
"S_D2 = complex(1.0,0.3)         //Power at bus 2(p.u)\n",
"Y_11 = complex(0.988,-9.734)    //Admittance at bus 1(p.u)\n",
"Y_22 = Y_11                     //Admittance at bus 2(p.u)\n",
"Y_12 = complex(-0.988,9.9)      //Admittance b/w bus 1 & 2(p.u)\n",
"Y_21 = Y_12                     //Admittance b/w bus 2 & 1(p.u)\n",
"// Calculation Section\n",
"V_2_0 = complex(1,0)                                            //Initial value of V_2 \n",
"S_2 = complex(-1,0.3)                                           //P_2+j*Q_2\n",
"V_2_1 =  (1/Y_22)*(S_2/conj(V_2_0)-Y_21*V_1)\n",
"V_2_2 =  (1/Y_22)*(S_2/conj(V_2_1)-Y_21*V_1)\n",
"V_2_3 =  (1/Y_22)*(S_2/conj(V_2_2)-Y_21*V_1)\n",
"V_2_4 =  (1/Y_22)*(S_2/conj(V_2_3)-Y_21*V_1)\n",
"V_2_5 =  (1/Y_22)*(S_2/conj(V_2_4)-Y_21*V_1)\n",
"V_2 = V_2_5                                                     //Voltage 2(p.u)\n",
"S_1_con = conj(V_1)*Y_11*V_1 + conj(V_1)*Y_12*V_2   //Conjugate of slack bus net power\n",
"S_1 = conj(S_1_con)\n",
"S_G1 = S_1 + S_D1                                               //Generated power at bus 1(p.u)\n",
"P_L = real(S_G1) - (real(S_D1) + real(S_D2))                       //Real power loss(p.u)\n",
"Q_L = imag(S_G1) - (imag(S_D1) + imag(S_D2))                       //Reactive power loss(p.u)\n",
"// Result Section\n",
"printf('Voltage at bus 2 , V_2 = %.4f∠%.2f° p.u' ,abs(V_2),phasemag(V_2))\n",
"printf('Generated power at bus 1 , S_G1 = (%.2f + j%.3f) p.u' ,real(S_G1),imag(S_G1))\n",
"printf('Real power loss in the system = %.2f p.u' ,P_L)\n",
"printf('Reactive power loss in the system = %.3f p.u' ,Q_L)"
   ]
   }
],
"metadata": {
		  "kernelspec": {
		   "display_name": "Scilab",
		   "language": "scilab",
		   "name": "scilab"
		  },
		  "language_info": {
		   "file_extension": ".sce",
		   "help_links": [
			{
			 "text": "MetaKernel Magics",
			 "url": "https://github.com/calysto/metakernel/blob/master/metakernel/magics/README.md"
			}
		   ],
		   "mimetype": "text/x-octave",
		   "name": "scilab",
		   "version": "0.7.1"
		  }
		 },
		 "nbformat": 4,
		 "nbformat_minor": 0
}
