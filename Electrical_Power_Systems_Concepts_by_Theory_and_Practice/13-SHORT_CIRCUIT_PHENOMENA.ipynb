{
"cells": [
 {
		   "cell_type": "markdown",
	   "metadata": {},
	   "source": [
       "# Chapter 13: SHORT CIRCUIT PHENOMENA"
	   ]
	},
{
		   "cell_type": "markdown",
		   "metadata": {},
		   "source": [
			"## Example 13.10: Example.sce"
		   ]
		  },
  {
"cell_type": "code",
	   "execution_count": null,
	   "metadata": {
	    "collapsed": true
	   },
	   "outputs": [],
"source": [
"// Variable Declaration\n",
"x1_G1 = complex(0,0.17)     //Positive sequence reactance of G1(p.u)\n",
"x2_G1 = complex(0,0.14)     //Negative sequence reactance of G1(p.u)\n",
"x0_G1 = complex(0,0.05)     //Zero sequence reactance of G1(p.u)\n",
"x1_G2 = complex(0,0.17)     //Positive sequence reactance of G2(p.u)\n",
"x2_G2 = complex(0,0.14)     //Negative sequence reactance of G2(p.u)\n",
"x0_G2 = complex(0,0.05)     //Zero sequence reactance of G2(p.u)\n",
"x1_T1 = complex(0,0.11)     //Positive sequence reactance of T1(p.u)\n",
"x2_T1 = complex(0,0.11)     //Negative sequence reactance of T1(p.u)\n",
"x0_T1 = complex(0,0.11)     //Zero sequence reactance of T1(p.u)\n",
"x1_T2 = complex(0,0.11)     //Positive sequence reactance of T2(p.u)\n",
"x2_T2 = complex(0,0.11)     //Negative sequence reactance of T2(p.u)\n",
"x0_T2 = complex(0,0.11)     //Zero sequence reactance of T2(p.u)\n",
"x1_L = complex(0,0.22)      //Positive sequence reactance of line(p.u)\n",
"x2_L = complex(0,0.22)      //Negative sequence reactance of line(p.u)\n",
"x0_L = complex(0,0.60)      //Zero sequence reactance of line(p.u)\n",
"// Calculation Section\n",
"a = 1.0*exp(%i*120*%pi/180)                                  //Operator\n",
"Z_1T = (x1_G1+x1_T1)*(x1_G2+x1_T2+x1_L)/(x1_G1+x1_T1+x1_G2+x1_T2+x1_L)  //Thevenin reactance of positive sequence(p.u)\n",
"Z_2T = (x2_G1+x2_T1)*(x2_G2+x2_T2+x2_L)/(x2_G1+x2_T1+x2_G2+x2_T2+x2_L)  //Thevenin reactance of negative sequence(p.u)\n",
"Z_0T = (x0_G1+x0_T1)*(x0_T2+x0_L)/(x0_G1+x0_T1+x0_T2+x0_L)              //Thevenin reactance of zero sequence(p.u)\n",
"V_f = 1.0                                                               //Pre-fault terminal voltage(p.u)\n",
"I_a1 = V_f/(Z_1T+Z_2T+Z_0T)                                             //Positive sequence current(p.u)\n",
"I_a2 = I_a1                                                             //Negative sequence current(p.u)\n",
"I_a0 = I_a1                                                             //Zero sequence current(p.u)\n",
"I_a = 3*I_a1                                                            //Fault current(p.u)\n",
"I_a1_G1 = I_a1*(x1_L+x1_T2+x1_G2)/(x1_L+x1_T1+x1_G1+x1_T2+x1_G2)        //Positive sequence current shared by G1(p.u)\n",
"I_a2_G1 = I_a2*(x2_L+x2_T2+x2_G2)/(x2_L+x2_T1+x2_G1+x2_T2+x2_G2)        //Negative sequence current shared by G1(p.u)\n",
"I_a0_G1 = I_a0*(x0_L+x0_T2)/(x0_L+x0_T1+x0_G1+x0_T2)                    //Zero sequence current shared by G1(p.u)\n",
"I_a_G1 = I_a0_G1+I_a1_G1+I_a2_G1                                        //Phase current through G1(p.u)\n",
"I_b_G1 = I_a0_G1+a**2*I_a1_G1+a*I_a2_G1                                 //Phase current through G1(p.u)\n",
"I_c_G1 = I_a0_G1+a*I_a1_G1+a**2*I_a2_G1                                 //Phase current through G1(p.u)\n",
"I_a1_G2 = I_a1*(x1_T1+x1_G1)/(x1_L+x1_T1+x1_G1+x1_T2+x1_G2)*exp(%i*30*%pi/180)   //Positive sequence current shared by G1(p.u)\n",
"I_a2_G2 = I_a2*(x2_T1+x2_G1)/(x2_L+x2_T1+x2_G1+x2_T2+x2_G2)*exp(%i*-30*%pi/180)  //Negative sequence current shared by G1(p.u)\n",
"I_a0_G2 = 0                                                                                 //Zero sequence current shared by G1(p.u)\n",
"I_a_G2 = I_a0_G2+I_a1_G2+I_a2_G2                                                            //Phase current through G2(p.u)\n",
"I_b_G2 = I_a0_G2+a**2*I_a1_G2+a*I_a2_G2                                                     //Phase current through G2(p.u)\n",
"I_c_G2 = I_a0_G2+a*I_a1_G2+a**2*I_a2_G2                                                     //Phase current through G2(p.u)\n",
"// Result Section\n",
"printf('Fault current for a L-G fault at bus 1 , I_a = %.3fj p.u' ,imag(I_a))\n",
"printf('\nPhase currents contributed by G1 :')\n",
"printf('I_a = %.3f∠%.1f° p.u' ,abs(I_a_G1),phasemag(I_a_G1))\n",
"printf('I_b = %.3f∠%.1f° p.u' ,abs(I_b_G1),phasemag(I_b_G1))\n",
"printf('I_c = %.3f∠%.1f° p.u' ,abs(I_c_G1),phasemag(I_c_G1))\n",
"printf('\nPhase currents contributed by G2 :')\n",
"printf('I_a = %.3f∠%.1f° p.u' ,abs(I_a_G2),phasemag(I_a_G2))\n",
"printf('I_b = %.3f∠%.1f° p.u' ,abs(I_b_G2),phasemag(I_b_G2))\n",
"printf('I_c = %.3f∠%.1f° p.u' ,abs(I_c_G2),phasemag(I_c_G2))\n",
"printf('\nNOTE : ERROR : Calculation mistakes in Generator G2 part')"
   ]
   }
,
{
		   "cell_type": "markdown",
		   "metadata": {},
		   "source": [
			"## Example 13.11: Example.sce"
		   ]
		  },
  {
"cell_type": "code",
	   "execution_count": null,
	   "metadata": {
	    "collapsed": true
	   },
	   "outputs": [],
"source": [
"// Variable Declaration\n",
"kv_G1 = 13.2        //Voltage rating of G1(kV)\n",
"MVA_G1 = 40.0       //MVA rating of G1\n",
"x1_G1 = 0.2         //Positive sequence reactance of G1(p.u)\n",
"x2_G1 = 0.2         //Negative sequence reactance of G1(p.u)\n",
"x0_G1 = 0.08        //Zero sequence reactance of G1(p.u)\n",
"MVA_T1 = 40.0       //MVA rating of T1\n",
"x_T1 = 0.05         //Reactance(p.u)\n",
"kv_lv_T1 = 13.2     //L.V side rating of T1(kV)\n",
"kv_hv_T1 = 132.0    //H.V side rating of T1(kV)\n",
"kv_L = 132.0        //Voltage rating of line(kV)\n",
"x1_L = 40.0         //Positive sequence resistance of line(ohm)\n",
"x2_L = 40.0         //Negative sequence resistance of line(ohm)\n",
"x0_L = 100.0        //Zero sequence resistance of line(ohm)\n",
"MVA_T2 = 40.0       //MVA rating of T1\n",
"x_T2 = 1.0          //Resistance through which neutral is earthed(ohm)\n",
"xp_T2 = 0.05        //Primary reactance of T2(p.u)\n",
"xs_T2 = 0.045       //Secondary reactance of T2(p.u)\n",
"xt_T2 = 0.06        //Tertiary reactance of T2(p.u)\n",
"// Calculation Section\n",
"MVA_base = 40.0                                                                 //Base MVA\n",
"kv_base_G1 = 13.2                                                               //Voltage base on generator side(kV)\n",
"kv_base_L = 132.0                                                               //Voltage base on Line side(kV)\n",
"kv_base_T2t = 3.3                                                               //Voltage base on tertiary side of T2(kV)\n",
"kv_base_T2s = 66                                                                //Voltage base on secondary side of T2(kV)\n",
"R_ng = 2*MVA_base/kv_base_G1**2                                                 //Neutral resistance of generator(p.u)\n",
"x1_L_new = x1_L*MVA_base/kv_base_L**2                                           //New Line reactance(p.u)\n",
"x2_L_new = x2_L*MVA_base/kv_base_L**2                                           //New Line reactance(p.u)\n",
"x0_L_new = x0_L*MVA_base/kv_base_L**2                                           //New Line reactance(p.u)\n",
"R_nT = x_T2*MVA_base/kv_base_T2s**2                                             //Neutral resistance of T2(p.u)\n",
"V_f = 1.0                                                                       //Pre-fault voltage at fault point(p.u)\n",
"Z1 = complex(0,x1_G1+x_T1+(x1_L_new/2)+xp_T2+xs_T2)                             //Thevenin impedance of positive sequence(p.u)\n",
"Z2 = complex(0,x2_G1+x_T1+(x2_L_new/2)+xp_T2+xs_T2)                             //Thevenin impedance of negative sequence(p.u)\n",
"Z0 = complex(0.0024,0.0593)                                                     //Thevenin impedance of zero sequence(p.u).Refer diagram\n",
"I_f = 3*V_f/(Z1+Z2+Z0)                                                          //Fault current(p.u)\n",
"I_f1 = abs(I_f)*MVA_base*1000/(3**0.5*kv_base_T2s)                              //Fault current(A)\n",
"MVA_fault = abs(I_f)*MVA_base                                                   //Fault MVA\n",
"// Result Section\n",
"printf('Fault current , I_f = %.2f A' ,I_f1)\n",
"printf('Fault MVA for L-G fault = %.2f MVA' ,MVA_fault)"
   ]
   }
,
{
		   "cell_type": "markdown",
		   "metadata": {},
		   "source": [
			"## Example 13.1: Example.sce"
		   ]
		  },
  {
"cell_type": "code",
	   "execution_count": null,
	   "metadata": {
	    "collapsed": true
	   },
	   "outputs": [],
"source": [
"// Variable Declaration\n",
"kv_gA = 11.0        //Voltage rating of generator A(kV)\n",
"MVA_gA = 40.0       //MVA rating of generator A\n",
"x_gA = 0.12         //Reactance of generator A(p.u)\n",
"kv_gB = 11.0        //Voltage rating of generator B(kV)\n",
"MVA_gB = 20.0       //MVA rating of generator B\n",
"x_gB = 0.08         //Reactance of generator B(p.u)\n",
"kv_Tlv = 11.0       //Low-voltage winding of transformer(kV)\n",
"kv_Thv = 66.0       //High-voltage winding of transformer(kV)\n",
"x_T = 0.10          //Reactance of Transformer(p.u)\n",
"kv_f = 66.0         //Feeder voltage(kV)\n",
"x_f = 30.0          //Reactance of feeder(ohm)\n",
"// Calculation Section\n",
"MVA_base = 75.0                                     //Base MVA\n",
"kv_base_lv = 11.0                                   //Base voltage on LT side(kV)\n",
"kv_base_hv = 66.0                                   //Base voltage on HT side(kV)\n",
"x_gA_new = x_gA*(MVA_base/MVA_gA)                   //New Reactance of generator A(p.u)\n",
"x_gB_new = x_gB*(MVA_base/MVA_gB)                   //New Reactance of generator B(p.u)\n",
"x_f_new = x_f*(MVA_base/kv_base_hv**2)              //New reactance of feeder(p.u)\n",
"x_eq = x_T+(x_gA_new*x_gB_new/(x_gA_new+x_gB_new))  //Equivalent reactance(p.u)\n",
"V_f = kv_Thv/kv_base_hv                             //Fault voltage by applying Thevenin's Theorem at FF(p.u)\n",
"I_f = V_f/complex(0,x_eq)                           //Fault current(A)\n",
"I_f_ht = I_f*(MVA_base*1000/(3**0.5*kv_base_hv))    //Fault current on HT side(A)\n",
"I_f_lt = I_f_ht*kv_base_hv/kv_base_lv               //Fault current on LT side(A)\n",
"MVA_fault = V_f*MVA_base/x_eq                       //Fault MVA\n",
"I_A = I_f*x_gB_new/(x_gA_new+x_gB_new)              //Current in generator A(p.u)\n",
"I_A1 = I_A*MVA_base*1000/(3**0.5*kv_base_lv)        //Current in generator A(A)\n",
"I_B = I_f*x_gA_new/(x_gA_new+x_gB_new)              //Current in generator B(p.u)\n",
"I_B1 = I_B*MVA_base*1000/(3**0.5*kv_base_lv)        //Current in generator B(A)\n",
"x_eq2 = x_f_new+x_T+(x_gA_new*x_gB_new/(x_gA_new+x_gB_new))     //Equivalent reactance(p.u)\n",
"I_f2 = V_f/complex(0,x_eq2)                                     //Fault current(p.u)\n",
"I_f_ht2 = I_f2*(MVA_base*1000/(3**0.5*kv_base_hv))              //Fault current on HT side(A)\n",
"MVA_fault2 = V_f*MVA_base/x_eq2                                 //Fault MVA\n",
"I_A_pu = I_f2*x_gB_new/(x_gA_new+x_gB_new)                      //Current in generator A(p.u)\n",
"I_A2 = I_A_pu*MVA_base*1000/(3**0.5*kv_base_lv)                 //Current in generator A(A)\n",
"I_B_pu = I_f2*x_gA_new/(x_gA_new+x_gB_new)                      //Current in generator B(p.u)\n",
"I_B2 = I_B_pu*MVA_base*1000/(3**0.5*kv_base_lv)                 //Current in generator B(A)\n",
"// Result Section\n",
"printf('Case(a) :')\n",
"printf('Fault MVA for symmetric fault at the high voltage terminals of transformer = %.2f MVA' ,MVA_fault)\n",
"printf('Fault current shared by generator A , I_A = %.2fj A' ,imag(I_A1))\n",
"printf('Fault current shared by generator B , I_B = %.2fj A' ,imag(I_B1))\n",
"printf('\nCase(b) :')\n",
"printf('Fault MVA for symmetric fault at the load end of the feeder = %.2f MVA' ,MVA_fault2)\n",
"printf('Fault current shared by generator A , I_A = %.2fj A' ,imag(I_A2))\n",
"printf('Fault current shared by generator B , I_B = %.2fj A' ,imag(I_B2))"
   ]
   }
,
{
		   "cell_type": "markdown",
		   "metadata": {},
		   "source": [
			"## Example 13.2: Example.sce"
		   ]
		  },
  {
"cell_type": "code",
	   "execution_count": null,
	   "metadata": {
	    "collapsed": true
	   },
	   "outputs": [],
"source": [
"// Variable Declaration\n",
"MVA_base = 100.0    //Base MVA\n",
"x1 = 0.15           //Reactance b/w F & B(p.u) . (Refer textbook diagram for marking)\n",
"x2 = 0.1            //Reactance b/w F & B(p.u)\n",
"x3 = 0.18           //Reactance b/w B & C(p.u)\n",
"x4 = 0.1            //Reactance b/w B & F(p.u)\n",
"x5 = 0.05           //Reactance b/w F & C(p.u)\n",
"x6 = 0.05           //Reactance b/w F & C(p.u)\n",
"x7 = 0.1            //Reactance b/w C & F(p.u)\n",
"x8 = 0.12           //Reactance b/w C & F(p.u)\n",
"// Calculation Section\n",
"V_f = 1.0           //Fault voltage by applying Thevenin's Theorem at FF(p.u)\n",
"x1_eq = x1+x2\n",
"x2_eq = x7+x8\n",
"x3_eq = x5*x6/(x5+x6)\n",
"x4_eq = x3*x4/(x3+x4+x3_eq)\n",
"x5_eq = x4*x3_eq/(x3+x4+x3_eq)\n",
"x6_eq = x3*x3_eq/(x3+x4+x3_eq)\n",
"x7_eq = (x1_eq+x4_eq)*(x2_eq+x6_eq)/(x1_eq+x4_eq+x2_eq+x6_eq)\n",
"X_eq = x7_eq+x5_eq              //Equivalent reactance\n",
"MVA_SC = V_f*MVA_base/X_eq      //Short circuit MVA at A\n",
"// Result Section\n",
"printf('Rating of the circuit breaker at the location A = %.1f MVA' ,MVA_SC)\n",
"printf('\nNOTE : ERROR : Delta to star reactance conversion mistake in textbook')"
   ]
   }
,
{
		   "cell_type": "markdown",
		   "metadata": {},
		   "source": [
			"## Example 13.3: Example.sce"
		   ]
		  },
  {
"cell_type": "code",
	   "execution_count": null,
	   "metadata": {
	    "collapsed": true
	   },
	   "outputs": [],
"source": [
"// Variable Declaration\n",
"x = 1.2                 //Reactance of interconnector(ohm per phase)\n",
"kv = 33.0               //Voltage of bus-bars(kV)\n",
"SC_MVA1 = 3000.0        //Short-circuit MVA at bus-bar of first station(MVA)\n",
"SC_MVA2 = 2000.0        //Short-circuit MVA at bus-bar of second station(MVA)\n",
"// Calculation Section\n",
"MVA_base = 3000.0                   //Base MVA\n",
"kv_base = 33.0                      //Base kV\n",
"x_c = x*(MVA_base/kv_base**2)       //Cable reactance(p.u)\n",
"x1 = MVA_base/SC_MVA1               //Reactance b/w e.m.f source & bus-bars for station 1(p.u)\n",
"x2 = MVA_base/SC_MVA2               //Reactance b/w e.m.f source & bus-bars for station 2(p.u)\n",
"V_f = 1.0                           //Fault voltage by applying Thevenin's Theorem at FF(p.u)\n",
"X_eq1 = x1*(x_c+x2)/(x1+x_c+x2)     //Thevenin reactance for short-circuit at bus bars at station 1(p.u)\n",
"SC_MVA1_poss = V_f*MVA_base/X_eq1   //Possible short-circuit at station 1(MVA)\n",
"X_eq2 = x2*(x_c+x1)/(x1+x_c+x2)     //Thevenin reactance for short-circuit at bus bars at station 2(p.u)\n",
"SC_MVA2_poss = V_f*MVA_base/X_eq2   //Possible short-circuit at station 2(MVA)\n",
"// Result Section\n",
"printf('Possible short-circuit MVA at station 1 = %.2f MVA' ,SC_MVA1_poss)\n",
"printf('Possible short-circuit MVA at station 2 = %.2f MVA' ,SC_MVA2_poss)"
   ]
   }
,
{
		   "cell_type": "markdown",
		   "metadata": {},
		   "source": [
			"## Example 13.4: Example.sce"
		   ]
		  },
  {
"cell_type": "code",
	   "execution_count": null,
	   "metadata": {
	    "collapsed": true
	   },
	   "outputs": [],
"source": [
"// Variable Declaration\n",
"MVA_G1 = 20.0       //MVA rating of generator 1(MVA)\n",
"kv_G1 = 13.2        //Voltage rating of generator 1(kV)\n",
"x_G1 = 0.14         //Reactance of generator 1(p.u)\n",
"MVA_T1 = 20.0       //MVA rating of transformer 1(MVA)\n",
"kv_T1_lv = 13.2     //L.V voltage rating of transformer 1(kV)\n",
"kv_T1_hv = 132.0    //H.V voltage rating of transformer 1(kV)\n",
"x_T1 = 0.08         //Reactance of transformer 1(p.u)\n",
"MVA_G2 = 30.0       //MVA rating of generator 2(MVA)\n",
"kv_G2 = 13.2        //Voltage rating of generator 2(kV)\n",
"x_G2 = 0.16         //Reactance of generator 2(p.u)\n",
"MVA_T2 = 30.0       //MVA rating of transformer 2(MVA)\n",
"kv_T2_lv = 13.2     //L.V voltage rating of transformer 2(kV)\n",
"kv_T2_hv = 132.0    //H.V voltage rating of transformer 2(kV)\n",
"x_T2 = 0.12         //Reactance of transformer 2(p.u)\n",
"x_L = 75.0          //Line reactance(ohm)\n",
"// Calculation Section\n",
"MVA_base = 45.0                                 //Base MVA\n",
"kv_lv_base = 13.2                               //L.T base voltage(kV)\n",
"kv_hv_base = 132.0                              //H.T base voltage(kV)\n",
"I_lt_base = MVA_base*1000/(3**0.5*kv_lv_base)   //Base current on LT side(A)\n",
"x_G1_new = x_G1*(MVA_base/MVA_G1)               //New reactance of generator 1(p.u)\n",
"x_G2_new = x_G2*(MVA_base/MVA_G2)               //New reactance of generator 2(p.u)\n",
"x_T1_new = x_T1*(MVA_base/MVA_T1)               //New reactance of transformer 1(p.u)\n",
"x_T2_new = x_T2*(MVA_base/MVA_T2)               //New reactance of transformer 2(p.u)\n",
"x_L_new = x_L*(MVA_base/kv_hv_base**2)          //New line reactance(p.u)\n",
"V_f = 1.0                                       //Pre-fault voltage at fault point FF(p.u)\n",
"x_T = (x_L_new/2)+((x_G1_new+x_T1_new)*(x_G2_new+x_T2_new)/(x_G1_new+x_T1_new+x_G2_new+x_T2_new)) //Thevenin reactance(p.u)\n",
"I_f = V_f/complex(0,x_T)                                                //Fault current(A)\n",
"I_G1 = I_f*(x_G2_new+x_T2_new)/(x_G1_new+x_T1_new+x_G2_new+x_T2_new)    //Fault current shared by generator 1(p.u)\n",
"I_f_G1 = I_G1*I_lt_base                                                 //Fault current shared by generator 1(A)\n",
"I_G2 = I_f*(x_G1_new+x_T1_new)/(x_G1_new+x_T1_new+x_G2_new+x_T2_new)    //Fault current shared by generator 2(p.u)\n",
"I_f_G2 = I_G2*I_lt_base                                                 //Fault current shared by generator 2(A)\n",
"// Result Section\n",
"printf('Fault current fed by generator 1 = %.1fj A' ,imag(I_f_G1))\n",
"printf('Fault current fed by generator 2 = %.1fj A' ,imag(I_f_G2))\n",
"printf('\nNOTE : ERROR : MVA ratings of G2 & T2 are 30 MVA , not 25 MVA as in textbook question')"
   ]
   }
,
{
		   "cell_type": "markdown",
		   "metadata": {},
		   "source": [
			"## Example 13.5: Example.sce"
		   ]
		  },
  {
"cell_type": "code",
	   "execution_count": null,
	   "metadata": {
	    "collapsed": true
	   },
	   "outputs": [],
"source": [
"// Variable Declaration\n",
"MVA_base = 20.0     //Base MVA\n",
"V_f = 1.0                       //Pre-fault voltage at bus 1(p.u).(Refer textbook diagram for marking.After circuit simplification)\n",
"x1 = 0.049                      //Reactance(p.u)\n",
"x2 = 0.064                      //Reactance(p.u)\n",
"x3 = 0.04                       //Reactance(p.u)\n",
"// Calculation Section\n",
"x_eq = (x1+x2)*x3/(x1+x2+x3)    //Equivalent reactance(p.u)\n",
"MVA_fault = V_f*MVA_base/x_eq   //Fault MVA\n",
"// Result Section\n",
"printf('SCC of bus 1 = %.f MVA' ,MVA_fault)\n",
"printf('\nNOTE : Changes in answer is due to more decimal places')"
   ]
   }
,
{
		   "cell_type": "markdown",
		   "metadata": {},
		   "source": [
			"## Example 13.6: Example.sce"
		   ]
		  },
  {
"cell_type": "code",
	   "execution_count": null,
	   "metadata": {
	    "collapsed": true
	   },
	   "outputs": [],
"source": [
"// Variable Declaration\n",
"x_G1 = 0.15                 //Sub-transient reactance of generator 1(p.u)\n",
"x_G2 = 0.15                 //Sub-transient reactance of generator 2(p.u)\n",
"x_T1 = 0.12                 //Leakage reactance of transformer 1(p.u)\n",
"x_T2 = 0.12                 //Leakage reactance of transformer 2(p.u)\n",
"x_s = 0.2                   //Reactance of tie line(p.u)\n",
"load = complex(1.5,0.5)     //Load(p.u)\n",
"S_12 = complex(0.75,0.25)   //Load at tie line(p.u)\n",
"V1 = 1.0                    //Pre-fault voltage at bus 1(p.u)\n",
"// Calculation Section\n",
"V_f = 1.0                                       //Voltage at FF(p.u)\n",
"Y_s = 1/complex(0,x_s)                          //Series admittance of line(p.u)\n",
"V2 = conj(1-(S_12/conj(Y_s)))     //Voltage at bus 2(p.u)\n",
"Z_L = conj(abs(V2)**2/load)             //Load at bus 2(p.u)\n",
"I_s = (V1-V2)*Y_s                               //Current through tie line(p.u)\n",
"I1 = I_s                                        //Current through G1 & T1(p.u)\n",
"I_L = V2/Z_L                                    //Load current(p.u)\n",
"I2 = I_L - I_s                                  //Pre-fault current from generator 2(p.u)\n",
"x_eq = (x_G1+x_T1)*(x_G2+x_T2+x_s)/(x_G1+x_T1+x_G2+x_T2+x_s)            //Equivalent reactance of n/w(p.u)\n",
"I_f = 1/complex(0,x_eq)                                                 //Fault current(p.u)\n",
"I_f1 = I_f*(x_G2+x_T2+x_s)/(x_G1+x_T1+x_G2+x_T2+x_s)                    //Fault current through G1,T1 towards F(p.u)\n",
"I_f2 = I_f*(x_G1+x_T1)/(x_G1+x_T1+x_G2+x_T2+x_s)                        //Fault current through G2,T2 & tie-line towards F(p.u)\n",
"V_1f = 0                                                                //Post-fault voltage at bus 1(p.u)\n",
"V_2f = V_1f+(I_f2-I_s)*complex(0,x_s)                                   //Post-fault voltage at bus 2(p.u)\n",
"SCC = V_f/x_eq                                                          //Fault MVA or SCC\n",
"// Result Section\n",
"disp('Case(a) :')\n",
"printf('SCC of bus 1 = %.2f p.u',SCC)\n",
"disp('Case(b) :')\n",
"printf('Total post-fault ac current shared by generator 1 , I_f1 = %.2fj p.u' ,imag(I_f1))\n",
"printf('Total post-fault ac current shared by generator 2 , I_f2 = %.2fj p.u' ,imag(I_f2))\n",
"disp('Case(c) :')\n",
"printf('Post-fault voltage of bus 2 , V_2f = %.3f∠%.2f° p.u' ,abs(V_2f),phasemag(V_2f))"
   ]
   }
,
{
		   "cell_type": "markdown",
		   "metadata": {},
		   "source": [
			"## Example 13.7: Example.sce"
		   ]
		  },
  {
"cell_type": "code",
	   "execution_count": null,
	   "metadata": {
	    "collapsed": true
	   },
	   "outputs": [],
"source": [
"// Variable Declaration\n",
"I_a = 10.0*exp(%i*90*%pi/180)    //Line current(A)\n",
"I_b = 10.0*exp(%i*-90*%pi/180)   //Line current(A)\n",
"I_c = 10.0*exp(%i*0*%pi/180)     //Line current(A)\n",
"// Calculation Section\n",
"a = 1.0*exp(%i*120*%pi/180)      //Operator\n",
"I_a0 = 1.0/3*(I_a+I_b+I_c)                  //Zero-sequence component(A)\n",
"I_a1 = 1.0/3*(I_a+a*I_b+a**2*I_c)           //Positive-sequence component(A)\n",
"I_a2 = 1.0/3*(I_a+a**2*I_b+a*I_c)           //Negative-sequence component(A)\n",
"// Result Section\n",
"printf('Zero-sequence component , I_a0 = %.2f∠%.f° A' ,abs(I_a0),phasemag(I_a0))\n",
"printf('Positive-sequence component , I_a1 = %.3f∠%.f° A' ,abs(I_a1),phasemag(I_a1))\n",
"printf('Negative-sequence component , I_a2 = %.1f∠%.f° A' ,abs(I_a2),phasemag(I_a2))"
   ]
   }
,
{
		   "cell_type": "markdown",
		   "metadata": {},
		   "source": [
			"## Example 13.8: Example.sce"
		   ]
		  },
  {
"cell_type": "code",
	   "execution_count": null,
	   "metadata": {
	    "collapsed": true
	   },
	   "outputs": [],
"source": [
"// Variable Declaration\n",
"kv = 13.2       //Voltage rating of generator(kV)\n",
"MVA = 25.0      //MVA rating of generator\n",
"MVA_sc = 170.0  //Short circuit MVA\n",
"x0 = 0.05       //Zero sequence reactance(p.u)\n",
"x2 = 0.13       //Negative sequence reactance(p.u)\n",
"MVA_base = 25.0                                 //Base MVA\n",
"kv_base = 13.2                                  //Line-to-line Base voltage(kV)\n",
"I_base = MVA_base*1000/(3**0.5*kv_base)         //Base current(A)\n",
"x1 = MVA_base/MVA_sc                            //Positive sequence reactance(p.u)\n",
"V_f = 1.0                                       //Pre-fault terminal voltage(p.u)\n",
"Z_f = 0                                         //Fault impedance\n",
"a = 1.0*exp(%i*120*%pi/180)          //Operator\n",
"// Calculation Section\n",
"I_a1 = V_f/complex(0,(x0+x1+x2))                //Positive sequence current(p.u)\n",
"I_a2 = I_a1                                     //Negative sequence current(p.u)\n",
"I_a0 = I_a1                                     //Zero sequence current(p.u)\n",
"I_a = 3*I_a1*I_base                             //Fault current at phase a(A)\n",
"I_b = 0                                         //Fault current at phase b(A)\n",
"I_c = 0                                         //Fault current at phase c(A)\n",
"V_a1 = V_f - I_a1*complex(0,x1)                 //Terminal voltage(p.u)\n",
"V_a2 = -I_a2*complex(0,x2)                      //Terminal voltage(p.u)\n",
"V_a0 = -I_a0*complex(0,x0)                      //Terminal voltage(p.u)\n",
"V_a = (V_a0+V_a1+V_a2)*kv_base/3**0.5           //Line-to-neutral voltage at terminal(kV)\n",
"V_b = (V_a0+a**2*V_a1+a*V_a2)*kv_base/3**0.5    //Line-to-neutral voltage at terminal(kV)\n",
"V_c = (V_a0+a*V_a1+a**2*V_a2)*kv_base/3**0.5    //Line-to-neutral voltage at terminal(kV)\n",
"V_ab = (V_a-V_b)                                //Line voltages at terminal(kV)\n",
"V_bc = (V_b-V_c)                                //Line voltages at terminal(kV)\n",
"V_ca = (V_c-V_a)                                //Line voltages at terminal(kV)\n",
"I_a12 = V_f/complex(0,(x1+x2))                    //Positive sequence current(p.u)\n",
"I_a22 = -I_a12                                    //Negative sequence current(p.u)\n",
"I_a02 = 0                                         //Zero sequence current(p.u)\n",
"I_a_2 = (I_a12+I_a22+I_a02)*I_base                //Fault current at phase a(A)\n",
"I_b_2 = (a**2*I_a12+a*I_a22+I_a02)*I_base         //Fault current at phase b(A)\n",
"I_c_2 = -I_b_2                                    //Fault current at phase c(A)\n",
"V_a12 = V_f - I_a12*complex(0,x1)                 //Terminal voltage(p.u)\n",
"V_a22 = V_a12                                     //Terminal voltage(p.u)\n",
"V_a02 = 0                                         //Terminal voltage(p.u)\n",
"V_a_2 = (V_a02+V_a12+V_a22)*kv_base/3**0.5        //Line-to-neutral voltage at terminal(kV)\n",
"V_b_2 = (V_a02+a**2*V_a12+a*V_a22)*kv_base/3**0.5 //Line-to-neutral voltage at terminal(kV)\n",
"V_c_2 = (V_a02+a*V_a12+a**2*V_a22)*kv_base/3**0.5 //Line-to-neutral voltage at terminal(kV)\n",
"V_ab2 = (V_a_2-V_b_2)                             //Line voltages at terminal(kV)\n",
"V_bc2 = (V_b_2-V_c_2)                             //Line voltages at terminal(kV)\n",
"V_ca2 = (V_c_2-V_a_2)                             //Line voltages at terminal(kV)\n",
"I_a13 = V_f/complex(0,(x1+(x0*x2/(x0+x2))))       //Positive sequence current(p.u)\n",
"I_a23 = -I_a13*x0/(x0+x2)                         //Negative sequence current(p.u)\n",
"I_a03 = -I_a13*x2/(x0+x2)                         //Zero sequence current(p.u)\n",
"I_a_3 = (I_a13+I_a23+I_a03)*I_base                //Fault current at phase a(A)\n",
"I_b_3 = (I_a03+a**2*I_a13+a*I_a23)*I_base         //Fault current at phase b(A)\n",
"I_c_3 = (I_a03+a*I_a13+a**2*I_a23)*I_base         //Fault current at phase c(A)\n",
"V_a13 = V_f-I_a13*complex(0,x1)                   //Terminal voltage(p.u)\n",
"V_a23 = V_a13                                     //Terminal voltage(p.u)\n",
"V_a03 = V_a13                                     //Terminal voltage(p.u)\n",
"V_a3 = (V_a03+V_a13+V_a23)*kv_base/3**0.5         //Line-to-neutral voltage at terminal(kV)\n",
"V_b3 = (V_a03+a**2*V_a13+a*V_a23)*kv_base/3**0.5  //Line-to-neutral voltage at terminal(kV)\n",
"V_c3 = (V_a03+a*V_a13+a**2*V_a23)*kv_base/3**0.5  //Line-to-neutral voltage at terminal(kV)\n",
"V_ab3 = (V_a3-V_b3)                               //Line voltages at terminal(kV)\n",
"V_bc3 = (V_b3-V_c3)                               //Line voltages at terminal(kV)\n",
"V_ca3 = (V_c3-V_a3)                               //Line voltages at terminal(kV)\n",
"// Result Section\n",
"printf('Case(i) : L-G fault :')\n",
"printf('Short circuit current , I_a  = %.1fj A = %.1f∠%.f° A' ,imag(I_a),abs(I_a),phasemag(I_a))\n",
"printf('Short circuit current , I_b  = %.f∠%.f° A' ,abs(I_b),phasemag(I_b))\n",
"printf('Short circuit current , I_c  = %.f∠%.f° A' ,abs(I_c),phasemag(I_c))\n",
"printf('Terminal line voltage , V_ab = %.2f∠%.2f° kV' ,abs(V_ab),phasemag(V_ab))\n",
"printf('Terminal line voltage , V_bc = %.2f∠%.2f° kV' ,abs(V_bc),phasemag(V_bc))\n",
"printf('Terminal line voltage , V_ca = %.2f∠%.2f° kV' ,abs(V_ca),phasemag(V_ca))\n",
"printf('\nCase(ii) : L-L fault :')\n",
"printf('Short circuit current , I_a  = %.f∠%.f° A' ,abs(I_a_2),phasemag(I_a_2))\n",
"printf('Short circuit current , I_b  = %.2f∠%.1f° A' ,abs(I_b_2),phasemag(I_b_2))\n",
"printf('Short circuit current , I_c  = %.2f∠%.1f° A' ,abs(I_c_2),phasemag(I_c_2))\n",
"printf('Terminal line voltage , V_ab = %.3f∠%.1f° kV' ,abs(V_ab2),phasemag(V_ab2))\n",
"printf('Terminal line voltage , V_bc = %.f∠%.1f° kV' ,abs(V_bc2),phasemag(V_bc2))\n",
"printf('Terminal line voltage , V_ca = %.3f∠%.1f° kV' ,abs(V_ca2),phasemag(V_ca2))\n",
"printf('\nCase(iii) : L-L-G fault :')\n",
"printf('Short circuit current , I_a  = %.f∠%.f° A' ,abs(I_a_3),phasemag(I_a_3))\n",
"printf('Short circuit current , I_b  = %.2f∠%.1f° A' ,abs(I_b_3),phasemag(I_b_3))\n",
"printf('Short circuit current , I_c  = %.2f∠%.1f° A' ,abs(I_c_3),phasemag(I_c_3))\n",
"printf('Terminal line voltage , V_ab = %.3f∠%.f° kV' ,abs(V_ab3),phasemag(V_ab3))\n",
"printf('Terminal line voltage , V_bc = %.f∠%.f° kV' ,abs(V_bc3),phasemag(V_bc3))\n",
"printf('Terminal line voltage , V_ca = %.3f∠%.f° kV' ,abs(V_ca3),phasemag(V_ca3))\n",
"printf('\nNOTE : Changes in answer is due to more decimal places')"
   ]
   }
,
{
		   "cell_type": "markdown",
		   "metadata": {},
		   "source": [
			"## Example 13.9: Example.sce"
		   ]
		  },
  {
"cell_type": "code",
	   "execution_count": null,
	   "metadata": {
	    "collapsed": true
	   },
	   "outputs": [],
"source": [
"// Variable Declaration\n",
"x0 = 0.05       //Zero sequence reactance(p.u)\n",
"x2 = 0.13       //Negative sequence reactance(p.u)\n",
"r = 1.0         //Resistance through which generator neutral is earthed(ohm)\n",
"MVA_sc = 170.0  //Short circuit MVA\n",
"// Calculation Section\n",
"MVA_base = 25.0                         //Base MVA\n",
"kv_base = 13.2                          //Line-to-line Base voltage(kV)\n",
"I_base = MVA_base*1000/(3**0.5*kv_base) //Base current(A)\n",
"kv_base1 = 11.0                         //Base kV\n",
"Z_n = r*MVA_base/kv_base1**2            //Neutral impedance(p.u)\n",
"V_f = 1.0                               //Pre-fault terminal voltage(p.u)\n",
"x1 = MVA_base/MVA_sc                    //Positive sequence reactance(p.u)\n",
"I_a1 = V_f/complex(3*Z_n,(x1+x2+x0))    //Positive sequence current(p.u)\n",
"I_a0 = I_a1                             //Zero sequence current(p.u)\n",
"I_a2 = I_a1                             //Negative sequence current(p.u)\n",
"I_a = 3*I_a1*I_base                     //Fault current(A)\n",
"V_n = 3*I_a0*Z_n*I_base                 //Potential of neutral(V)\n",
"// Result Section\n",
"printf('Fault current for a L-G short-circuit at its terminals , I_a = %.2f∠%.2f° A' ,abs(I_a),phasemag(I_a))\n",
"printf('Neutral potential = %.3f∠%.2f° V' ,abs(V_n),phasemag(V_n))\n",
"printf('\nNOTE : ERROR : For calculating neutral potential in textbook Z_n = 1 is taken instead of Z_n = 0.206611570248')"
   ]
   }
],
"metadata": {
		  "kernelspec": {
		   "display_name": "Scilab",
		   "language": "scilab",
		   "name": "scilab"
		  },
		  "language_info": {
		   "file_extension": ".sce",
		   "help_links": [
			{
			 "text": "MetaKernel Magics",
			 "url": "https://github.com/calysto/metakernel/blob/master/metakernel/magics/README.md"
			}
		   ],
		   "mimetype": "text/x-octave",
		   "name": "scilab",
		   "version": "0.7.1"
		  }
		 },
		 "nbformat": 4,
		 "nbformat_minor": 0
}
