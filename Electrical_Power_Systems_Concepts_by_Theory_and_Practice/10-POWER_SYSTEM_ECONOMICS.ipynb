{
"cells": [
 {
		   "cell_type": "markdown",
	   "metadata": {},
	   "source": [
       "# Chapter 10: POWER SYSTEM ECONOMICS"
	   ]
	},
{
		   "cell_type": "markdown",
		   "metadata": {},
		   "source": [
			"## Example 10.1: Example.sce"
		   ]
		  },
  {
"cell_type": "code",
	   "execution_count": null,
	   "metadata": {
	    "collapsed": true
	   },
	   "outputs": [],
"source": [
"// Variable Declaration\n",
"max_dm_kW = 150.0       //Maximum demand(kW)\n",
"pf = 0.85               //Average power factor\n",
"rate = 90.0             //Cost of maximum demand(Rs/kVA)\n",
"E_rate = 0.3            //Cost of energy consumed(Rs)\n",
"lf = 0.65               //Annual load factor            \n",
"// Calculation Section\n",
"max_dm_kVA = max_dm_kW/pf                //Maximum demand(kVA)\n",
"annual_chg_kVA = rate*max_dm_kVA         //Annual fixed charges based on max demand(Rs)\n",
"E_kWh = lf*365*24*max_dm_kW              //Energy consumed per annum(kWh)\n",
"annual_E_chg = E_kWh*E_rate              //Annual energy charges(Rs)\n",
"annual_elect_charge = annual_chg_kVA + annual_E_chg     //Annual electricity charge to be paid(Rs)\n",
"// Result Section\n",
"printf('Annual electricity charges to be paid by consumer = Rs %.2f' ,annual_elect_charge)"
   ]
   }
,
{
		   "cell_type": "markdown",
		   "metadata": {},
		   "source": [
			"## Example 10.2: Example.sce"
		   ]
		  },
  {
"cell_type": "code",
	   "execution_count": null,
	   "metadata": {
	    "collapsed": true
	   },
	   "outputs": [],
"source": [
"// Variable Declaration\n",
"P = 75.0                //Power(kW)\n",
"cost_plant = 3000.0     //Cost of plant(Rs/kW)\n",
"cost_td = 30.0*10**5    //Cost of transmission & distribution(Rs)\n",
"interest = 0.15         //Interest,insurance charges(/annum)\n",
"depreciation = 0.05     //Depreciation(/annum)\n",
"cost_fix_mt = 4.0*10**5 //Fixed maintainance(Rs)\n",
"cost_var_mt = 6.0*10**5 //Variable maintainance(Rs)\n",
"cost_fuel = 10.0*10**6  //Fuel cost(Rs/annum)\n",
"cost_opr = 3.0*10**6    //Operation cost(Rs/annum)\n",
"max_demand = 70.0       //Maximum demand(MW)\n",
"df = 1.6                //Diversity factor b/w consumers\n",
"lf = 0.6                //Annual load factor\n",
"dividend = 10**6        //Dividend to shareholders(Rs/annum)\n",
"per_L = 0.10            //Total energy loss(% of generated energy)\n",
"// Calculation Section\n",
"cost = cost_plant*P*1000                                        //Cost of plant(Rs)\n",
"per_value = interest+depreciation                               //Total interest & depreciation(/annum)\n",
"cost_fix_ann = (cost+cost_opr)*per_value+cost_fix_mt+dividend   //Total fixed cost(Rs)\n",
"cost_var_ann = cost_fuel+cost_opr+cost_var_mt                   //Total running cost(Rs)\n",
"E_gen_ann = max_demand*1000*24*365*lf                           //Energy generated per annum(kWh)\n",
"E_loss = per_L*E_gen_ann                                        //Energy losses(kWh)\n",
"E_sold = E_gen_ann - E_loss                                     //Energy sold(kWh)\n",
"sum_max_demand = df*max_demand*1000                             //Sum of maximum demand of consumers(kW)\n",
"charge_max_demand = cost_fix_ann/sum_max_demand                 //Charge to consumers per kW of max demand per year(Rs)\n",
"charge_energy = cost_var_ann/E_sold*100                         //Charge for energy(paise per kWh)\n",
"// Result Section\n",
"printf('Two-part tariff is :')\n",
"printf('Rs %.2f per kW of maximum demand per year + %.1f paise per kWh consumed' ,charge_max_demand,charge_energy)"
   ]
   }
,
{
		   "cell_type": "markdown",
		   "metadata": {},
		   "source": [
			"## Example 10.3: Example.sce"
		   ]
		  },
  {
"cell_type": "code",
	   "execution_count": null,
	   "metadata": {
	    "collapsed": true
	   },
	   "outputs": [],
"source": [
"// Variable Declaration\n",
"P_D = 500.0     //Total load(MW)\n",
"b_1 = 15.0      //Beta value of controllable thermal plant C1\n",
"g_1 = 0.012     //Gamma value of controllable thermal plant C1\n",
"b_2 = 16.0      //Beta value of controllable thermal plant C2\n",
"g_2 = 0.018     //Gamma value of controllable thermal plant C2\n",
"b_3 = 19.0      //Beta value of controllable thermal plant C3\n",
"g_3 = 0.020     //Gamma value of controllable thermal plant C3\n",
"// Calculation Section\n",
"l = (P_D+((b_1/(2*g_1))+(b_2/(2*g_2))+(b_3/(2*g_3))))/((1/(2*g_1))+(1/(2*g_2))+(1/(2*g_3))) //Lambda value which is a Lagrange multiplier\n",
"P_G1 = (l - b_1)/(2*g_1)                //(MW)\n",
"P_G2 = (l - b_2)/(2*g_2)                //(MW)\n",
"P_G3 = (l - b_3)/(2*g_3)                //(MW)\n",
"C1 = 1500.0 + b_1*P_G1 + g_1*P_G1**2    //Fuel cost of plant C1(Rs/hr)\n",
"C2 = 2000.0 + b_2*P_G2 + g_2*P_G2**2    //Fuel cost of plant C2(Rs/hr)\n",
"C3 = 1000.0 + b_3*P_G3 + g_3*P_G3**2    //Fuel cost of plant C3(Rs/hr)\n",
"C = C1 + C2 + C3                        //Total fuel cost(Rs/hr)\n",
"// Result Section\n",
"printf('Value of λ from equation(10.14) = %.3f' ,l)\n",
"printf('Optimal scheduling of thermal plant C1 = %.2f MW' ,P_G1)\n",
"printf('Optimal scheduling of thermal plant C2 = %.2f MW' ,P_G2)\n",
"printf('Optimal scheduling of thermal plant C3 = %.2f MW' ,P_G3)\n",
"printf('Total cost , C = Rs %.2f/hr' ,C)"
   ]
   }
],
"metadata": {
		  "kernelspec": {
		   "display_name": "Scilab",
		   "language": "scilab",
		   "name": "scilab"
		  },
		  "language_info": {
		   "file_extension": ".sce",
		   "help_links": [
			{
			 "text": "MetaKernel Magics",
			 "url": "https://github.com/calysto/metakernel/blob/master/metakernel/magics/README.md"
			}
		   ],
		   "mimetype": "text/x-octave",
		   "name": "scilab",
		   "version": "0.7.1"
		  }
		 },
		 "nbformat": 4,
		 "nbformat_minor": 0
}
