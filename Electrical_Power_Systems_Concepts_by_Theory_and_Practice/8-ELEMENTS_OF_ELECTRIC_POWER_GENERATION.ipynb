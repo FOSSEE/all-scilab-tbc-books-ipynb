{
"cells": [
 {
		   "cell_type": "markdown",
	   "metadata": {},
	   "source": [
       "# Chapter 8: ELEMENTS OF ELECTRIC POWER GENERATION"
	   ]
	},
{
		   "cell_type": "markdown",
		   "metadata": {},
		   "source": [
			"## Example 8.1: Example.sce"
		   ]
		  },
  {
"cell_type": "code",
	   "execution_count": null,
	   "metadata": {
	    "collapsed": true
	   },
	   "outputs": [],
"source": [
"// Variable Declaration\n",
"w = 0.8     //Coal to be burnt for every kWh of electric energy(kg)\n",
"C = 5000    //Calorific value of coal(kilo-calories/kg)\n",
"// Calculation Section\n",
"heat_energy = C*w/860       //Heat energy of combustion of given coal(kWh)\n",
"efficiency = 1/heat_energy  //Overall efficiency\n",
"// Result Section\n",
"printf('Overall efficiency of the plant = %.3f' ,efficiency)"
   ]
   }
,
{
		   "cell_type": "markdown",
		   "metadata": {},
		   "source": [
			"## Example 8.2: Example.sce"
		   ]
		  },
  {
"cell_type": "code",
	   "execution_count": null,
	   "metadata": {
	    "collapsed": true
	   },
	   "outputs": [],
"source": [
"// Variable Declaration\n",
"P = 250.0       //Power(MW)\n",
"C = 6100.0      //Calorific value(kcal/kg)\n",
"n_1 = 0.9       //Plant runs at full load\n",
"h_1 = 20.0      //Time for full load(hour)\n",
"n_2 = 0.75      //Plant runs at full load\n",
"h_2 = 4.0       //Time for full load(hour)\n",
"n_t = 0.3       //Thermal efficiency\n",
"n_g = 0.93      //Generator efficiency\n",
"// Calculation Section\n",
"E_T = (P*n_1*h_1+P*n_2*h_2)*1000    //Total electric energy produced by plant in a day(kWh)\n",
"efficiency = n_t * n_g              //Overall efficiency of the plant\n",
"heat_energy = E_T*860/efficiency    //Heat energy of combustion of coal(kcal)\n",
"coal_requ = heat_energy/C           //Daily coal requirement(kg)\n",
"coal_requ_ton = coal_requ*10**-3    //Daily coal requirement(tonnes)\n",
"// Result Section\n",
"printf('Daily coal requirement = %.2e kg = %.f tonnes' ,coal_requ,coal_requ_ton)"
   ]
   }
,
{
		   "cell_type": "markdown",
		   "metadata": {},
		   "source": [
			"## Example 8.3: Example.sce"
		   ]
		  },
  {
"cell_type": "code",
	   "execution_count": null,
	   "metadata": {
	    "collapsed": true
	   },
	   "outputs": [],
"source": [
"// Variable Declaration\n",
"Q = 1.0         //Water discharge(m^3/sec)\n",
"h = 200.0       //Height(m)\n",
"n_h = 0.85      //Hydraulic efficiency\n",
"n_e = 0.95      //Electric efficiency\n",
"// Calculation Section\n",
"n = n_h*n_e             //Overall efficiency\n",
"P = (736.0/75)*Q*h*n    //Electrical power available(kW)\n",
"E = P*1.0               //Energy available in an hour(kWh)\n",
"// Result Section\n",
"printf('Electrical power available = %.2f kW' ,P)\n",
"printf('Energy available in an hour = %.2f kWh' ,E)"
   ]
   }
,
{
		   "cell_type": "markdown",
		   "metadata": {},
		   "source": [
			"## Example 8.4: Example.sce"
		   ]
		  },
  {
"cell_type": "code",
	   "execution_count": null,
	   "metadata": {
	    "collapsed": true
	   },
	   "outputs": [],
"source": [
"// Variable Declaration\n",
"Ad = 6.0*10**6      //Reservoir capacity(m^3)\n",
"h = 150.0           //Head(m)\n",
"n = 0.78            //Overall efficiency\n",
"P = 25.0*10**6      //Power(Watt)\n",
"t = 4.0             //Supply time(hour)\n",
"// Calculation Section\n",
"AX = P*75*3600*t/(736*h*n*1000)   //unit(m^3)\n",
"X_d = AX/Ad*100                   //Fall in reservoir level(%)\n",
"// Result Section\n",
"printf('Percentage fall in reservoir level = %.2f percent' ,X_d)"
   ]
   }
,
{
		   "cell_type": "markdown",
		   "metadata": {},
		   "source": [
			"## Example 8.5: Example.sce"
		   ]
		  },
  {
"cell_type": "code",
	   "execution_count": null,
	   "metadata": {
	    "collapsed": true
	   },
	   "outputs": [],
"source": [
"// Variable Declaration\n",
"X_s = 1.0       //Synchronous reactance of generator(p.u)\n",
"V_b = 1.0       //Terminal voltage of generator=voltage of infinite bus(p.u)\n",
"P_G = 0.5       //Real power output at unity pf(p.u)\n",
"// Calculation Section\n",
"I = P_G/V_b                         //Generator current(p.u)\n",
"E = complex(V_b,I*X_s)              //Excitation emf of finite machine(p.u)\n",
"delta = phasemag(E)               //Power angle = angle b/w E & V_b(degree)\n",
"P_Gn = P_G/2                        //Real power o/p when steam i/p is halved(p.u)\n",
"sin_delta_n = P_Gn*X_s/(abs(E)*V_b)\n",
"delta_n = asin(sin_delta_n)    //New power angle(radian)\n",
"E_n = abs(E)*exp(%i*delta_n)  //Excitation emf of finite machine with new angle(p.u)\n",
"I_n = (E_n-V_b)/complex(0,X_s)      //Current when steam i/p is halved(p.u)\n",
"pf_n = cos(phasemag(I_n)*%pi/180)   //Power factor when steam i/p is halved\n",
"P_po = abs(E)*V_b/X_s               //Pull out power(p.u)\n",
"stiff_a = abs(E)*V_b/X_s*cos(phasemag(E)*%pi/180)     //Electrical stiffness in case(a) (p.u/radian)\n",
"stiff_b = abs(E)*V_b/X_s*cos(phasemag(I_n)*%pi/180)   //Electrical stiffness in case(b) (p.u/radian)\n",
"// Result Section\n",
"printf('Case(a) :')\n",
"printf('Excitation voltage of finite machine , E = %.2f∠%.2f° p.u' ,abs(E),delta)\n",
"printf('Power angle = %.2f°' ,delta)\n",
"printf('\nCase(b) :')\n",
"printf('Current if steam input is reduced to half , I_n = %.3f∠%.2f° p.u' ,abs(I_n),phasemag(I_n))\n",
"printf('Power factor if steam input is reduced to half = %.2f lagging' ,pf_n)\n",
"printf('Power angle if steam input is reduced to half = %.2f°' ,delta_n*180/%pi)\n",
"printf('\nCase(c) :')\n",
"printf('Pull out power = %.2f p.u' ,P_po)\n",
"printf('\nCase(d) :')\n",
"printf('Electrical stiffness for case(a) = %.1f p.u/radian' ,stiff_a)\n",
"printf('Electrical stiffness for case(b) = %.3f p.u/radian' ,stiff_b)"
   ]
   }
,
{
		   "cell_type": "markdown",
		   "metadata": {},
		   "source": [
			"## Example 8.6: Example.sce"
		   ]
		  },
  {
"cell_type": "code",
	   "execution_count": null,
	   "metadata": {
	    "collapsed": true
	   },
	   "outputs": [],
"source": [
"// Variable Declaration\n",
"X_s = 1.1       //Synchronous reactance of generator(p.u)\n",
"V_b = 1.0       //Terminal voltage of generator=voltage of infinite bus(p.u)\n",
"E = 1.25        //Excitation emf of finite machine(p.u)\n",
"P_G = 0.3       //Active power output(p.u)\n",
"dec = 0.25      //Excitation is decreased\n",
"// Calculation Section\n",
"sin_delta = P_G*X_s/(E*V_b)\n",
"delta = asin(sin_delta)                //Power angle(radian)\n",
"Q_G = V_b/X_s*(E*cos(delta)-V_b)       //Reactive power output(p.u)\n",
"E_n = (1-dec)*E                             //New excitation emf of finite machine(p.u)\n",
"P_Gn = P_G                                  //New active power output(p.u)\n",
"sin_delta_n = P_G*X_s/(E_n*V_b)\n",
"delta_n = asin(sin_delta_n)            //New power angle(radian)\n",
"Q_Gn = V_b/X_s*(E_n*cos(delta_n)-V_b)  //New reactive power output(p.u)\n",
"// Result Section\n",
"printf('Case(a) :')\n",
"printf('Power angle = %.2f°' ,delta*180/%pi)\n",
"printf('Reactive power output , Q_G = %.3f p.u' ,Q_G)\n",
"printf('\nCase(b) :')\n",
"printf('Active power if excitation is decreased , P_Gn = %.1f p.u' ,P_Gn)\n",
"printf('Reactive power if excitation is decreased , Q_Gn = %.3f p.u' ,Q_Gn)\n",
"printf('Power angle if excitation is decreased = %.2f°' ,delta_n*180/%pi)"
   ]
   }
,
{
		   "cell_type": "markdown",
		   "metadata": {},
		   "source": [
			"## Example 8.7: Example.sce"
		   ]
		  },
  {
"cell_type": "code",
	   "execution_count": null,
	   "metadata": {
	    "collapsed": true
	   },
	   "outputs": [],
"source": [
"// Variable Declaration\n",
"X_s = 1.05      //Synchronous reactance of generator(p.u)\n",
"V_b = 0.95      //Terminal voltage of generator=voltage of infinite bus(p.u)\n",
"X_L = 0.1       //Reactance of link(p.u)\n",
"E = 1.2         //Excitation emf of finite machine(p.u)\n",
"P_G = 0.15      //Active power output(p.u)\n",
"inc = 1         //Turbine torque increased\n",
"// Calculation Section\n",
"sin_delta = P_G*(X_s+X_L)/(E*V_b)\n",
"delta = asin(sin_delta)                    //Power angle(radian)\n",
"Q_G = V_b/(X_s+X_L)*(E*cos(delta)-V_b)     //Reactive power output(p.u)\n",
"P_Gn = (1+inc)*P_G                              //New active power output(p.u)\n",
"sin_delta_n = P_Gn*(X_s+X_L)/(E*V_b)\n",
"delta_n = asin(sin_delta_n)                //Power angle(radian)\n",
"Q_Gn = V_b/(X_s+X_L)*(E*cos(delta_n)-V_b)  //Reactive power output(p.u)\n",
"P_change = (P_Gn-P_G)/P_G*100                   //Change in active power output(%)\n",
"Q_change = (Q_Gn-Q_G)/Q_G*100                   //Change in reactive power output(%)\n",
"// Result Section\n",
"printf('Change in active power supplied by generator = %.f percent' ,P_change)\n",
"printf('Change in reactive power supplied by generator = %.2f percent' ,Q_change)"
   ]
   }
,
{
		   "cell_type": "markdown",
		   "metadata": {},
		   "source": [
			"## Example 8.8: Example.sce"
		   ]
		  },
  {
"cell_type": "code",
	   "execution_count": null,
	   "metadata": {
	    "collapsed": true
	   },
	   "outputs": [],
"source": [
"// Variable Declaration\n",
"X_s = 6.0       //Synchronous reactance of alternator(ohms/phase)\n",
"pf = 0.8        //Lagging power factor\n",
"P_G = 5.0       //Power delivered(MW)\n",
"V = 11.0        //Voltage of infinite bus(kV)\n",
"// Calculation Section\n",
"delta = acos(pf)\n",
"I = P_G*1000/(3**0.5*V*pf)*(pf - complex(0,sin(delta)))      //Alternator current(A)\n",
"V_b = V*10**3/3**0.5                                              //Voltage of infinite bus(V/phase)\n",
"E = complex(7531.79669352,1574.59164324)                           //Initial excitation voltage(V)\n",
"pf_n = 1.0                                                        //New power factor\n",
"P_Gn = P_G                                                        //New power delivered(MW)\n",
"I_n = P_Gn*1000/(3**0.5*V*pf_n)                                   //Alternator current(A)\n",
"E_n = complex(V_b,I_n*X_s)                                        //New excitation voltage(V)\n",
"excitation_change = (abs(E)-abs(E_n))/abs(E)*100                  //Percentage change in excitation(%)\n",
"// Result Section\n",
"printf('Percentage change in excitation = %.2f percent' ,excitation_change)"
   ]
   }
],
"metadata": {
		  "kernelspec": {
		   "display_name": "Scilab",
		   "language": "scilab",
		   "name": "scilab"
		  },
		  "language_info": {
		   "file_extension": ".sce",
		   "help_links": [
			{
			 "text": "MetaKernel Magics",
			 "url": "https://github.com/calysto/metakernel/blob/master/metakernel/magics/README.md"
			}
		   ],
		   "mimetype": "text/x-octave",
		   "name": "scilab",
		   "version": "0.7.1"
		  }
		 },
		 "nbformat": 4,
		 "nbformat_minor": 0
}
