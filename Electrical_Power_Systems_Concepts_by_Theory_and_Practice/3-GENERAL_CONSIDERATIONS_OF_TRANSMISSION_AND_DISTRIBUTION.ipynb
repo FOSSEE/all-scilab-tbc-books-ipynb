{
"cells": [
 {
		   "cell_type": "markdown",
	   "metadata": {},
	   "source": [
       "# Chapter 3: GENERAL CONSIDERATIONS OF TRANSMISSION AND DISTRIBUTION"
	   ]
	},
{
		   "cell_type": "markdown",
		   "metadata": {},
		   "source": [
			"## Example 3.1: Example.sce"
		   ]
		  },
  {
"cell_type": "code",
	   "execution_count": null,
	   "metadata": {
	    "collapsed": true
	   },
	   "outputs": [],
"source": [
"// Variable Declaration\n",
"P = 5.0             //Power(MW)\n",
"pf = 0.8            //lagging power factor\n",
"d = 15.0            //Distance of line(km)\n",
"J = 4.0             //Current density(amp per mm^2)\n",
"r = 1.78*10**(-8)   //Resistivity(ohm-m)\n",
"kV_1 = 11.0         //Permissible voltage level(kV)\n",
"kV_2 = 22.0         //Permissible voltage level(kV)\n",
"// Calculation Section\n",
"I_1 = (P*10**3)/((3)**(0.5) * (kV_1) * pf)   //Load current(A)\n",
"area_1 = I_1/J                               //Cross-sectional area of the phase conductor(mm^2)\n",
"volume_1 = 3 * (area_1/10**6) * (d*10**3)    //Volume of conductors material(m^3)\n",
"R_1 = r * (d*10**3)/(area_1 * (10**-6))      //Resistance per phase(ohm)\n",
"PL_1 = 3 * (I_1**2) * (R_1*10**(-3))         //Power loss(kW)\n",
"I_2 = (P*10**3)/((3)**(0.5) * (kV_2) * pf)   //Load current(A)\n",
"area_2 = I_2/J                               //Cross-sectional area of the phase conductor(mm^2)\n",
"volume_2 = 3 * (area_2/10**6) * (d*10**3)    //Volume of conductors material(m^3)\n",
"R_2 = r * (d*10**3)/(area_2 * (10**-6))      //Resistance per phase(ohm)\n",
"PL_2 = 3 * (I_2**2) * (R_2*10**(-3))         //Power loss(kW)\n",
"area_ch = (area_1-area_2)/area_1*100         //Change in area of 22kV level from 11 kV level(%)\n",
"vol_ch = (volume_1-volume_2)/volume_1*100    //Change in volume of 22kV level from 11 kV level(%)\n",
"loss_ch = (PL_1-PL_2)/PL_1*100               //Change in losses of 22kV level from 11 kV level(%)\n",
"// Result Section\n",
"printf('For 11 kV level :')\n",
"printf('Cross-sectional area of the phase conductor = %d mm^2' ,area_1)\n",
"printf('Volume of conductors material = %.2f m^3' ,volume_1)\n",
"printf('Power loss = %.2f kW' ,PL_1)\n",
"printf('\nFor 22 kV level :')\n",
"printf('Cross-sectional area of the phase conductor = %d mm^2' ,area_2)\n",
"printf('Volume of conductors material = %.2f m^3' ,volume_2)\n",
"printf('Power loss = %.2f kW' ,PL_2)\n",
"printf('\nConductor size has decreased by %.f percent in 22 kV level' ,area_ch)\n",
"printf('Conductor volume has decreased by %.f percent in 22 kV level' ,vol_ch)\n",
"printf('Conductor losses has decreased by %.f percent in 22 kV level' ,loss_ch)"
   ]
   }
],
"metadata": {
		  "kernelspec": {
		   "display_name": "Scilab",
		   "language": "scilab",
		   "name": "scilab"
		  },
		  "language_info": {
		   "file_extension": ".sce",
		   "help_links": [
			{
			 "text": "MetaKernel Magics",
			 "url": "https://github.com/calysto/metakernel/blob/master/metakernel/magics/README.md"
			}
		   ],
		   "mimetype": "text/x-octave",
		   "name": "scilab",
		   "version": "0.7.1"
		  }
		 },
		 "nbformat": 4,
		 "nbformat_minor": 0
}
