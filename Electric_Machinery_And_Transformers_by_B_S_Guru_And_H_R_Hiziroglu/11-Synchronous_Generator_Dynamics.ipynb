{
"cells": [
 {
		   "cell_type": "markdown",
	   "metadata": {},
	   "source": [
       "# Chapter 11: Synchronous Generator Dynamics"
	   ]
	},
{
		   "cell_type": "markdown",
		   "metadata": {},
		   "source": [
			"## Example 11.7: Find_the_rms_value_of_symmetric_subtransient_and_transient_currents.sce"
		   ]
		  },
  {
"cell_type": "code",
	   "execution_count": null,
	   "metadata": {
	    "collapsed": true
	   },
	   "outputs": [],
"source": [
"//Caption:Find the rms value of symmetric subtransient and transient currents\n",
"//Exa:11.7\n",
"clc;\n",
"clear;\n",
"close;\n",
"KVA=71500;//Kilo Volt-Ampere\n",
"V_r=13800;//in Volts\n",
"X_af=0.57;//in per unit\n",
"X_la=0.125;//in per unit\n",
"X_lf=0.239;//in per unit\n",
"X_ld=0.172;//in per unit\n",
"X_ds=X_la+((X_af*X_lf*X_ld)/(X_lf*X_ld+X_af*X_ld+X_af*X_lf));//subtransient reactance(in per unit)\n",
"E_phy=1;//generated voltage (in per unit)\n",
"I_ds=E_phy/X_ds;//short circuit current (in per unit)\n",
"X_d=X_la+((X_af*X_lf)/(X_af+X_lf));//transient reactance (in per unit)\n",
"I_d=E_phy/X_d;//transient current (in per unit)\n",
"I_rated=KVA*1000/(sqrt(3)*V_r);//in Amperes\n",
"I_dsa=I_ds*I_rated;//sub transient current (in Amperes)\n",
"disp(I_dsa,'sub-transient current (in Amperes)=');\n",
"I_da=I_d*I_rated;//transient current (in Amperes)\n",
"disp(I_da,'transient current (in Amperes)=');"
   ]
   }
,
{
		   "cell_type": "markdown",
		   "metadata": {},
		   "source": [
			"## Example 11.8: Find_per_unit_power_and_critical_fault_clearing_time.sce"
		   ]
		  },
  {
"cell_type": "code",
	   "execution_count": null,
	   "metadata": {
	    "collapsed": true
	   },
	   "outputs": [],
"source": [
"//Caption:Find (a)per unit power (b)critical fault clearing time\n",
"//Exa:11.8\n",
"clc;\n",
"clear;\n",
"close;\n",
"f=60;//in Hertzs\n",
"P=4;//no. of poles\n",
"P_m=0.9;\n",
"H=10;//in Joule/Volt-Amperee\n",
"N_s=f*120/P;//synchronous speed in (rpm)\n",
"w_s=2*%pi*N_s/f;//(in rad/sec)\n",
"P_dm=P_m/sind(18);\n",
"t_c=P/f;//fault clearing time (in sec)\n",
"delta_o=18*2*%pi/360;//in rad\n",
"delta_m=delta_o+((w_s/(P*H))*P_m*t_c^2);\n",
"P_d=P_dm*sin(delta_m);\n",
"disp(P_d,'(a) power generated (in per unit)=');\n",
"delta_2=%pi-delta_o;\n",
"delta_c=acos(((P_m/P_dm)*(delta_2-delta_o))+cos(delta_2));\n",
"t_cn=sqrt((delta_c-delta_o)*4*H/(w_s*P_m));\n",
"disp(t_cn,'(b) critical fault clearing time (in sec)=');"
   ]
   }
],
"metadata": {
		  "kernelspec": {
		   "display_name": "Scilab",
		   "language": "scilab",
		   "name": "scilab"
		  },
		  "language_info": {
		   "file_extension": ".sce",
		   "help_links": [
			{
			 "text": "MetaKernel Magics",
			 "url": "https://github.com/calysto/metakernel/blob/master/metakernel/magics/README.md"
			}
		   ],
		   "mimetype": "text/x-octave",
		   "name": "scilab",
		   "version": "0.7.1"
		  }
		 },
		 "nbformat": 4,
		 "nbformat_minor": 0
}
