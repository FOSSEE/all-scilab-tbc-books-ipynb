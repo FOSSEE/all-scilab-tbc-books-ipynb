{
"cells": [
 {
		   "cell_type": "markdown",
	   "metadata": {},
	   "source": [
       "# Chapter 12: Permanent magnet motors"
	   ]
	},
{
		   "cell_type": "markdown",
		   "metadata": {},
		   "source": [
			"## Example 12.1: Find_the_speed_of_motor_and_torque_under_blocked_rotor_condition.sce"
		   ]
		  },
  {
"cell_type": "code",
	   "execution_count": null,
	   "metadata": {
	    "collapsed": true
	   },
	   "outputs": [],
"source": [
"//Caption:Find the speed of motor and torque under blocked rotor condition\n",
"//Exa:12.1\n",
"clc;\n",
"clear;\n",
"close;\n",
"flux=0.004;//(in Weber)\n",
"R_a=0.8;//armature resistance (in ohm)\n",
"V_s=40;//applied voltage (in Volts)\n",
"T_d=1.2;//in Newton-meter\n",
"K_a=95;//motor constant\n",
"w_m=(V_s/(K_a*flux))-((R_a*T_d)/(K_a*flux)^2);\n",
"N_m=w_m*60/(2*%pi);\n",
"disp(ceil (N_m),'speed of motor (in rpm)=');\n",
"w_mb=0;//for blocked rotor condition\n",
"T_db=(V_s*K_a*flux)/R_a;\n",
"disp(T_db,'torque developed under blocked rotor condition (in Newton-meter)=');"
   ]
   }
,
{
		   "cell_type": "markdown",
		   "metadata": {},
		   "source": [
			"## Example 12.2: Find_the_magnetic_flux.sci"
		   ]
		  },
  {
"cell_type": "code",
	   "execution_count": null,
	   "metadata": {
	    "collapsed": true
	   },
	   "outputs": [],
"source": [
"//Caption:Find the magnetic flux\n",
"//Exa:12.2\n",
"clc;\n",
"clear;\n",
"close;\n",
"N_m=1500;//speed of motor (in rpm)\n",
"R_a=2;//armature resistance (in ohms)\n",
"V_s=100;\n",
"P_o=200;//rated power \n",
"K_a=85;//machine constant\n",
"P_rot=15;//rotational loss\n",
"w_m=(2*%pi*N_m)/60;\n",
"P_d=P_o+P_rot;//power developed\n",
"T_d=P_d/w_m;//torque developed\n",
"function y=root (a,b,c);\n",
"    y=((-b)+sqrt((b^2)-(4*a*c)))/(2*a);\n",
"endfunction;\n",
"disp(root(1,-0.0075,(2.41*10^-6)),'magnetic flux (in Weber)=');"
   ]
   }
,
{
		   "cell_type": "markdown",
		   "metadata": {},
		   "source": [
			"## Example 12.3: Find_the_developed_power_and_copper_loss_in_the_secondary_side.sce"
		   ]
		  },
  {
"cell_type": "code",
	   "execution_count": null,
	   "metadata": {
	    "collapsed": true
	   },
	   "outputs": [],
"source": [
"//Caption:Find the developed power and copper loss in the secondary side \n",
"//Exa:12.3\n",
"clc;\n",
"clear;\n",
"close;\n",
"f=60;//frequency (in Hertzs)\n",
"P_pi=0.5;//pole pitch\n",
"F_d=100000;//developed thrust (in Newton)\n",
"V_m=200000/3600;//speed of motor (in meter/sec)\n",
"P_d=F_d*V_m;\n",
"disp(int(P_d/1000),'developed power (in Kilo-Watts)');\n",
"V_s=2*P_pi*f;//synchronous speed of the motor (in meter/sec)\n",
"s=(V_s-V_m)/V_s;//slip\n",
"P_cu=F_d*s*V_s;\n",
"disp(int(P_cu/1000),'Copper loss (in Kilo-Watts)=');"
   ]
   }
],
"metadata": {
		  "kernelspec": {
		   "display_name": "Scilab",
		   "language": "scilab",
		   "name": "scilab"
		  },
		  "language_info": {
		   "file_extension": ".sce",
		   "help_links": [
			{
			 "text": "MetaKernel Magics",
			 "url": "https://github.com/calysto/metakernel/blob/master/metakernel/magics/README.md"
			}
		   ],
		   "mimetype": "text/x-octave",
		   "name": "scilab",
		   "version": "0.7.1"
		  }
		 },
		 "nbformat": 4,
		 "nbformat_minor": 0
}
