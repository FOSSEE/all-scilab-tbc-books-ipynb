{
"cells": [
 {
		   "cell_type": "markdown",
	   "metadata": {},
	   "source": [
       "# Chapter 6: Direct Current Motors"
	   ]
	},
{
		   "cell_type": "markdown",
		   "metadata": {},
		   "source": [
			"## Example 6.1: EX6_1.sce"
		   ]
		  },
  {
"cell_type": "code",
	   "execution_count": null,
	   "metadata": {
	    "collapsed": true
	   },
	   "outputs": [],
"source": [
"//Caption:Find (a)armature current at rated load (b)efficiency at full load (c)no. of turns per pole (d) new speed of motor and driving torque when armature current reduces to 16.67A\n",
"//Exa:6.1\n",
"clc;\n",
"clear;\n",
"close;\n",
"P_o=10*746;//output power (in Watts)\n",
"V_s=220;\n",
"P_rot=1040;//rotational loss (in Watts)\n",
"R_a=0.75;//armature resistance (in ohms)\n",
"R_s=0.25;//series winding resistance (in ohms)\n",
"N_m= 1200;//(in rpm)\n",
"P_d=P_o+P_rot;\n",
"function y=root (a,b,c);\n",
"    y=((-b)-sqrt((b^2)-(4*a*c)))/(2*a);\n",
"endfunction;\n",
"I_a=root(1,-220,8500);\n",
"disp(I_a,'(a) armature current at rated load (in Amperes)=');\n",
"P_in=V_s*I_a;\n",
"disp((P_o/P_in)*100,'(b) Efficiency at full load (%)=');\n",
"N_s=150/I_a;\n",
"disp(N_s,'(c) no. of turns per pole=');\n",
"I_an=16.67;\n",
"E_an=V_s-(I_an*(R_a+R_s));\n",
"N_mn=(E_an*N_m)/90;\n",
"disp(int (N_mn),'(d) new speed of motor (in rpm)=');\n",
"T_dn=(E_an*I_an)/283.9;\n",
"disp(T_dn,'driving torque (in Newton-meter)=');"
   ]
   }
,
{
		   "cell_type": "markdown",
		   "metadata": {},
		   "source": [
			"## Example 6.3: EX6_3.sce"
		   ]
		  },
  {
"cell_type": "code",
	   "execution_count": null,
	   "metadata": {
	    "collapsed": true
	   },
	   "outputs": [],
"source": [
"//Caption:Find power developed and speed for (a)cumulative compound motor (b)differential compound motor \n",
"//Exa:6.3\n",
"clc;\n",
"clear;\n",
"close;\n",
"disp('(a) For Cumulative compound motor');\n",
"V=240;//in volts(Refer to exa:6.2)\n",
"R_a=0.4;//armature resistance (Refer to exa:6.2)\n",
"T=20.68;//torque (Refer to exa:6.2)\n",
"R_x=0.1;//in ohms\n",
"I_a=22.5;//armature current of shunt motor (Refer to exa:6.2)\n",
"I_ac=I_a/(1+0.125);//armature current of cummulative compound motor\n",
"E_ac=V-(I_ac*(R_a+R_x));\n",
"P_dc=E_ac*I_ac;\n",
"disp(P_dc,'Power developed (in Watts)=');\n",
"N_mc=(P_dc*60)/(T*2*%pi);\n",
"disp(int(N_mc),'speed (in rpm)=');\n",
"disp('(b) For differential compound motor');\n",
"I_ad=I_a/(1-0.125);//armature current of cummulative compound motor\n",
"E_ad=V-(I_ad*(R_a+R_x));\n",
"P_dd=E_ad*I_ad;\n",
"disp(P_dd,'Power developed (in Watts)=');\n",
"N_md=(P_dd*60)/(T*2*%pi);\n",
"disp(int(N_md),'speed (in rpm)=');"
   ]
   }
,
{
		   "cell_type": "markdown",
		   "metadata": {},
		   "source": [
			"## Example 6.4: Find_the_motor_speed_power_loss_in_external_resistance_efficiency.sce"
		   ]
		  },
  {
"cell_type": "code",
	   "execution_count": null,
	   "metadata": {
	    "collapsed": true
	   },
	   "outputs": [],
"source": [
"//Caption:Find the  (a) motor speed (b) power loss in external resistance (c) efficiency\n",
"//Exa:6.4\n",
"clc;\n",
"clear;\n",
"close;\n",
"V=120\n",
"N_mfL=2400;//full load speed of motor\n",
"R_a=0.4;//armature resistance (in ohms)\n",
"R_sh=160;//shunt field winding resistance\n",
"I_fL=14.75;//current drawn at full load (in Amperes)\n",
"I_nL=2;//current drawn at no load (in Amperes)\n",
"R_x=3.6;//external resistance\n",
"I_f=V/R_sh;//feild current\n",
"I_anL=I_nL-I_f;//armature current at no load\n",
"E_anL=V-(I_anL*R_a);//no load back emf\n",
"P_dnL=E_anL*I_anL;//power developed at no load\n",
"I_afL=I_fL-I_f;//armature current at full load\n",
"E_afL=V-(I_afL*R_a);//full load back emf\n",
"P_dfL=E_afL*I_afL;//power developed at full load\n",
"N_mnL=(E_anL/E_afL)*N_mfL;//no load speed\n",
"P_in_fL=V*I_fL;//power input at full load\n",
"E_a_n=V-(I_afL*(R_a+R_x));//new back emf\n",
"P_d_n=E_a_n*I_afL;//new power developed \n",
"N_m_n=ceil((E_a_n/E_afL)*N_mfL);\n",
"disp('After insertion of external resistance in the armature ckt');\n",
"disp(N_m_n,'(a) motor speed (in rpm)=');\n",
"P_rot_n=(N_m_n/N_mnL)*P_dnL;\n",
"P_o_n=P_d_n-P_rot_n;\n",
"P_x=(I_afL^2)*R_x;\n",
"disp(P_x,'(b) power loss in external resistance (in Watts)=');\n",
"Eff=P_o_n/P_in_fL;\n",
"disp(Eff*100,'(c) efficiency (%)=');"
   ]
   }
,
{
		   "cell_type": "markdown",
		   "metadata": {},
		   "source": [
			"## Example 6.5: Find_the_new_motor_speed_power_loss_in_external_resistance_efficiency.sce"
		   ]
		  },
  {
"cell_type": "code",
	   "execution_count": null,
	   "metadata": {
	    "collapsed": true
	   },
	   "outputs": [],
"source": [
"//Caption:Find the new (a) motor speed (b) power loss in external resistance (c) efficiency\n",
"//Exa:6.5\n",
"clc;\n",
"clear;\n",
"close;\n",
"R_x=80;//external resistance\n",
"//Refer to Exa 6.4\n",
"R_sh=160;//shunt resistance\n",
"V=120;//in volts\n",
"E_a=114.4;//back emf at full load\n",
"N_m=2400;//speed of motor\n",
"P_rot=143;//rotational losses\n",
"I_fn=V/(R_x+R_sh);//new field-winding current\n",
"I_f=0.75;//field current at full load\n",
"c=sqrt(I_f/I_fn);//ratio of new flux to old flux\n",
"R_a=0.4;//armature resistance\n",
"I_a=14;//armature resistance\n",
"I_an=I_a*c;\n",
"E_an=V-(I_an*R_a);\n",
"N_mn=c*(E_an/E_a)*N_m;\n",
"disp(int(N_mn),'(a) new motor speed (in rpm)=');\n",
"P_x=(I_fn^2)*R_x;\n",
"disp(P_x,'(b) Power loss in external resistance (in Watts)=');\n",
"P_in=V*(I_fn+I_an);\n",
"P_dn=E_an*I_an;\n",
"P_o=P_dn-P_rot;\n",
"Eff=P_o/P_in;\n",
"disp(Eff*100,'(c) Efficiency (%)=');"
   ]
   }
,
{
		   "cell_type": "markdown",
		   "metadata": {},
		   "source": [
			"## Example 6.6: EX6_6.sce"
		   ]
		  },
  {
"cell_type": "code",
	   "execution_count": null,
	   "metadata": {
	    "collapsed": true
	   },
	   "outputs": [],
"source": [
"//Caption:Find the value of external resistance when motor develops (a) torque of 30 N-m at 2000rpm (b) torque of 30N-m at 715 rpm\n",
"//Exa:6.6\n",
"clc;\n",
"clear;\n",
"close;\n",
"V_s=120;//in Volts\n",
"R_fe=30;//resistance of feild winding\n",
"I_a=50;//armature current (in Amperes)\n",
"R_ag=0.2;//armature resistance of generator (in ohms)\n",
"R_am=0.3;//armature resistance of motor (in ohms)\n",
"N_m1=2000;\n",
"N_m2=715;\n",
"T=30;//torque (in Newton-meter)\n",
"w_m=(N_m1*2*%pi)/60;\n",
"P_d=T*w_m;//power developed\n",
"E_am=P_d/I_a;//back emf of motor\n",
"E_amn=E_am*N_m2/N_m1;//new back emf\n",
"V_t=E_am+(I_a*R_am);\n",
"V_tn=E_amn+(I_a*R_am);\n",
"E_ag=V_t+(I_a*R_ag);//induced emf of generator\n",
"E_agn=V_tn+(I_a*R_ag);//new induced emf of generator\n",
"I_f=1.75;//Refer to magnetization curve\n",
"I_fn=0.4;//Refer to magnetization curve\n",
"R_f=V_s/I_f;\n",
"R_fn=V_s/I_fn;\n",
"R_x=R_f-R_fe;\n",
"R_xn=R_fn-R_fe;\n",
"disp(R_x,'(a)   external resistance (in ohms)= ');\n",
"disp(R_xn,'(b)   external resistance (in ohms)= ');"
   ]
   }
,
{
		   "cell_type": "markdown",
		   "metadata": {},
		   "source": [
			"## Example 6.7: Find_the_torque_and_efficiency_of_the_motor.sce"
		   ]
		  },
  {
"cell_type": "code",
	   "execution_count": null,
	   "metadata": {
	    "collapsed": true
	   },
	   "outputs": [],
"source": [
"//Caption:Find the torque and efficiency of the motor\n",
"//Exa:6.7\n",
"clc;\n",
"clear;\n",
"close;\n",
"V_s=120;//in volts\n",
"N_m=2400;//speed of motor (in rpm)\n",
"I_in=7;//input current (in Amperes)\n",
"L=0.5;//arm length (in meter)\n",
"F_d=4.57;//deflection force (in Newton)\n",
"W=0.03;//weight (in Newton)\n",
"F=F_d-W;\n",
"T_s=F*L;\n",
"disp(T_s,'shaft torque of motor (in Newton-meter)=');\n",
"w_m=(2*%pi*N_m)/60;\n",
"P_o=T_s*w_m;\n",
"P_in=V_s*I_in;\n",
"Eff=P_o/P_in;\n",
"disp(Eff*100,'Efficiency of motor (%)=');"
   ]
   }
,
{
		   "cell_type": "markdown",
		   "metadata": {},
		   "source": [
			"## Example 6.8: Find_the_reading_on_the_scale.sce"
		   ]
		  },
  {
"cell_type": "code",
	   "execution_count": null,
	   "metadata": {
	    "collapsed": true
	   },
	   "outputs": [],
"source": [
"//Caption:Find the reading on the scale\n",
"//Exa:6.8\n",
"clc;\n",
"clear;\n",
"close;\n",
"P_o=5*746;//power output (in Watts)\n",
"N_m=1200;//speed of motor (in rpm)\n",
"L=0.4;//arm length (in meter)\n",
"w_m=(2*%pi*N_m)/60;\n",
"T_s=P_o/w_m;\n",
"F=T_s/L;//force reading on the scale (in Newton)\n",
"disp(F/9.81,'Reading on the scale (in Kg)=');"
   ]
   }
,
{
		   "cell_type": "markdown",
		   "metadata": {},
		   "source": [
			"## Example 6.9: EX6_9.sce"
		   ]
		  },
  {
"cell_type": "code",
	   "execution_count": null,
	   "metadata": {
	    "collapsed": true
	   },
	   "outputs": [],
"source": [
"//Caption:Find the (1)external resistance (2)breaking torque (a) at the instant of plugging (b)when the speed of motor approaches zero\n",
"//Exa:6.9\n",
"clc;\n",
"clear;\n",
"close;\n",
"V_s=400;//voltage applied\n",
"R_f=200;//resistance of field winding\n",
"I_L=30;//in Amperes\n",
"w_m=100;//(rad/sec)\n",
"I_f=V_s/R_f;\n",
"R_a=1;//armature resistance (in ohms)\n",
"I_a=I_L-I_f;\n",
"E_a=V_s-(I_a*R_a);//back emf (in Volts)\n",
"V_t=E_a+V_s;//total voltage in armature ckt \n",
"I_t=1.5*I_a;\n",
"R=(V_t/I_t)-R_a;\n",
"disp(R,'(1) external resistance (in ohms)=');\n",
"K_3=(E_a*V_s)/((R+R_a)*w_m);\n",
"K_4=((E_a/w_m)^2)/(R+R_a);\n",
"T_b=K_3+(w_m*K_4);\n",
"disp(T_b,'(2a) breaking torque at the instant of plugging (in Newton-meter)=');\n",
"disp(K_3,'(2b) breaking torque when speed of motor approaches zero (in Newton-meter)=');"
   ]
   }
],
"metadata": {
		  "kernelspec": {
		   "display_name": "Scilab",
		   "language": "scilab",
		   "name": "scilab"
		  },
		  "language_info": {
		   "file_extension": ".sce",
		   "help_links": [
			{
			 "text": "MetaKernel Magics",
			 "url": "https://github.com/calysto/metakernel/blob/master/metakernel/magics/README.md"
			}
		   ],
		   "mimetype": "text/x-octave",
		   "name": "scilab",
		   "version": "0.7.1"
		  }
		 },
		 "nbformat": 4,
		 "nbformat_minor": 0
}
