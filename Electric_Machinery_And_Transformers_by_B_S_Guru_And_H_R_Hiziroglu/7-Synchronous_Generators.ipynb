{
"cells": [
 {
		   "cell_type": "markdown",
	   "metadata": {},
	   "source": [
       "# Chapter 7: Synchronous Generators"
	   ]
	},
{
		   "cell_type": "markdown",
		   "metadata": {},
		   "source": [
			"## Example 7.10: EX7_10.sce"
		   ]
		  },
  {
"cell_type": "code",
	   "execution_count": null,
	   "metadata": {
	    "collapsed": true
	   },
	   "outputs": [],
"source": [
"//Caption:Find (a)per phase terminal voltage (b)armature current (c)power supplied (d)total power output\n",
"//Exa:7.10\n",
"clc;\n",
"clear;\n",
"close;\n",
"Z_s1=(%i)*5;//ohm/phase\n",
"Z_s2=(%i)*8;//ohm/phase\n",
"Z_L=4+((%i)*3);//load impedance (in ohm/phase)\n",
"function y=phasor(theta);\n",
"    y=cosd(theta)+((%i)*sind(theta));\n",
"endfunction;\n",
"function z=angle(x,y);\n",
"    z=atand(y/x);\n",
"endfunction;\n",
"E_a1=120*phasor(10);\n",
"E_a2=120*phasor(20);\n",
"V_a=(((E_a1*Z_s2)+(E_a2*Z_s1))/((Z_L*(Z_s1+Z_s2))+(Z_s1*Z_s2)))*Z_L;\n",
"disp(polar(V_a),' (a) magnitude of phase voltage (in Volts)=');\n",
"a1=angle(real(V_a),imag(V_a));\n",
"disp(a1,'phase angle of voltage (in Degree)=');\n",
"I_a1=(E_a1-V_a)/Z_s1;\n",
"disp(polar(I_a1),'(b) magnitude of armature current of generator 1 (in Amperes)=');\n",
"a2=angle(real(I_a1),imag(I_a1));\n",
"disp(a2,'phase angle of armature current of generator 1 (in Degree)=');\n",
"I_a2=(E_a2-V_a)/Z_s2;\n",
"disp(polar(I_a2),'magnitude of armature current of generator 2 (in Amperes)=');\n",
"a3=angle(real(I_a2),imag(I_a2));\n",
"disp(a3,'phase angle of armature current of generator 2 (in Degree)=');\n",
"P_o1=3*real(V_a*conj(I_a1));\n",
"P_o2=3*real(V_a*conj(I_a2));\n",
"disp(polar(P_o1),' (c) Power developed of generator 1 (in Watts)=');\n",
"disp(polar(P_o2),' Power developed of generator 2 (in Watts)=');\n",
"P_o=P_o1+P_o2;\n",
"disp(P_o,'(d) total power output (in Watts)=');"
   ]
   }
,
{
		   "cell_type": "markdown",
		   "metadata": {},
		   "source": [
			"## Example 7.2: Find_the_pitch_factor.sce"
		   ]
		  },
  {
"cell_type": "code",
	   "execution_count": null,
	   "metadata": {
	    "collapsed": true
	   },
	   "outputs": [],
"source": [
"//Caption:Find the pitch factor\n",
"///Exa:7.2\n",
"clc;\n",
"clear;\n",
"close;\n",
"P=4;//no. of poles\n",
"S=48;//no. of slots\n",
"S_p=S/P;//slots per pole\n",
"S_span=180/S_p;//slot span\n",
"n=S/(3*P);//no. of coils in phase group\n",
"C_span=9*S_span;//coil span\n",
"K_p=sind(C_span/2);\n",
"disp(K_p,'pitch factor =');"
   ]
   }
,
{
		   "cell_type": "markdown",
		   "metadata": {},
		   "source": [
			"## Example 7.3: Find_the_distribution_factor.sce"
		   ]
		  },
  {
"cell_type": "code",
	   "execution_count": null,
	   "metadata": {
	    "collapsed": true
	   },
	   "outputs": [],
"source": [
"///Caption:Find the distribution factor\n",
"//Exa:7.3\n",
"clc;\n",
"clear;\n",
"close;\n",
"P=12;//no. of poles\n",
"S=108;//no. of slots\n",
"n=S/(3*P);//no. of coils in a phase group\n",
"S_p=S/P;\n",
"Y=180/S_p;//slot span (in electrical degree)\n",
"K_d=(sind(3*(Y/2)))/(3*sind(Y/2));\n",
"disp(K_d,'distribution factor=');"
   ]
   }
,
{
		   "cell_type": "markdown",
		   "metadata": {},
		   "source": [
			"## Example 7.5: Find_the_frequency_of_induced_voltage_phase_voltage_line_voltage.sce"
		   ]
		  },
  {
"cell_type": "code",
	   "execution_count": null,
	   "metadata": {
	    "collapsed": true
	   },
	   "outputs": [],
"source": [
"//Caption:Find the (a)frequency of induced voltage (b)phase voltage (c)line voltage\n",
"//Exa:7.5\n",
"clc;\n",
"clear;\n",
"close;\n",
"N_m=375;//speed of motor (in rpm)\n",
"N=10;//no of turns\n",
"P=16;//no. of poles\n",
"S=144;//no. of slots\n",
"Phy=0.025;//flux (in Weber)\n",
"S_p=S/P;//slots per pole\n",
"Y=180/S_p;//slot span\n",
"C_p=Y*7;//coil pitch\n",
"K_p=sind(C_p/2);//pitch factor\n",
"K_d=(sind(3*(Y/2)))/(3*sind(Y/2));//distribution factor\n",
"K_w=K_p*K_d;//winding factor\n",
"N_e=P*3*N*K_w/2;//effective no. of turns\n",
"f=N_m*P/120;\n",
"disp(f,'(a) frequency of induced voltage (in Hertz)=');\n",
"E_a=4.44*f*N_e*Phy;\n",
"disp(E_a,'(b) Rms value of Phase voltage (in Volts)=');\n",
"E_L=E_a*sqrt(3);\n",
"disp(E_L,'(c) line voltage (in Volts)=');"
   ]
   }
,
{
		   "cell_type": "markdown",
		   "metadata": {},
		   "source": [
			"## Example 7.6: Find_the_voltage_regulation.sce"
		   ]
		  },
  {
"cell_type": "code",
	   "execution_count": null,
	   "metadata": {
	    "collapsed": true
	   },
	   "outputs": [],
"source": [
"//Caption:Find the voltage regulation when power factor of load is (a)80% lagging (b) unity (c) 80%leading\n",
"//Exa:7.6\n",
"clc;\n",
"clear;\n",
"close;\n",
"V=208;//in volts\n",
"P_o=9000;\n",
"R=0.1+(%i*5.6);\n",
"V_a=int(V/sqrt(3));//rms value of per phase voltage\n",
"I_a=P_o/(3*V_a);//rms value of per phase current\n",
"disp('(a)  For 80% lagging power factor of load');\n",
"theta=(-1)*acosd(0.8);\n",
"I_a_L=(I_a)*(cosd(theta)+((%i)*sind(theta)));\n",
"E_a=V_a+I_a_L*R;//in volts\n",
"VR=((abs(E_a)-V_a)/V_a)*100;\n",
"disp(VR,'voltage regulation (%)=');\n",
"disp('(b)  For Unity power factor of load');\n",
"theta=acosd(1);\n",
"I_a_L=(I_a)*(cosd(theta)+((%i)*sind(theta)));\n",
"E_a=V_a+I_a_L*R;//in volts\n",
"VR=((abs(E_a)-V_a)/V_a)*100;\n",
"disp(VR,'voltage regulation (%)=');\n",
"disp('(c)  For 80% leading power factor of load');\n",
"theta=acosd(0.8);\n",
"I_a_L=(I_a)*(cosd(theta)+((%i)*sind(theta)));\n",
"E_a=V_a+I_a_L*R;//in volts\n",
"VR=((abs(E_a)-V_a)/V_a)*100;\n",
"disp(VR,'voltage regulation (%)=');"
   ]
   }
,
{
		   "cell_type": "markdown",
		   "metadata": {},
		   "source": [
			"## Example 7.7: Find_the_voltage_regulation_efficiency_torque_developed.sce"
		   ]
		  },
  {
"cell_type": "code",
	   "execution_count": null,
	   "metadata": {
	    "collapsed": true
	   },
	   "outputs": [],
"source": [
"//Caption:Find the (a) voltage regulation (b)efficiency (c)torque developed\n",
"//Exa:7.7\n",
"clc;\n",
"clear;\n",
"close;\n",
"V=208;//in volts\n",
"N_m=1200;//speed of generator (in rpm)\n",
"P_r=9000;//rated power in (Volt-Amperes)\n",
"Z_a=0.3+(%i*5);//armature impedance (ohm/phase)\n",
"R_f=4.5;//feild winding resistance\n",
"P_rot=500;//rotational loss (in Watts)\n",
"I_f=5;//feild winding current\n",
"pf=0.8;//lagging\n",
"V_a=int (V/sqrt(3));\n",
"theta=(-1)*acosd(pf);\n",
"I_a_o=P_r/(3*V_a);//per phase armature current (magnitude)\n",
"I_a=I_a_o*(cosd(theta)+(%i*sind(theta)));\n",
"E_a=V_a+(I_a*Z_a);//per phase generated voltage\n",
"VR=((abs(E_a)-V_a)/V_a)*100;\n",
"disp(VR,' (a) Voltage Regulation (%)=');\n",
"P_o=3*V_a*abs(I_a)*pf;//power output \n",
"P_cu=3*((abs(I_a))^2)*0.3;//copper loss\n",
"P_d=P_o+P_cu;//power developed\n",
"P_c=P_rot+(I_f^2)*R_f;//constant loss\n",
"P_in=P_d+P_c;//power input\n",
"Eff=(P_o/P_in)*100;\n",
"disp(ceil(Eff),'(b) Efficiency (%)=');\n",
"w_s=2*%pi*N_m/60;\n",
"T=(P_d+P_rot)/w_s;\n",
"disp(T,'(c) Torque developed (in Newton-meter)=');"
   ]
   }
,
{
		   "cell_type": "markdown",
		   "metadata": {},
		   "source": [
			"## Example 7.8: Find_synchronous_reactance_per_phase_and_voltage_regulation.sce"
		   ]
		  },
  {
"cell_type": "code",
	   "execution_count": null,
	   "metadata": {
	    "collapsed": true
	   },
	   "outputs": [],
"source": [
"//Caption:Find synchronous reactance per phase and voltage regulation\n",
"//Exa:7.8\n",
"clc;\n",
"clear;\n",
"close;\n",
"V_r=2300;//rated voltage (in Volts)\n",
"P_r=500*10^3;//rated power (in Volt-Amperes)\n",
"pf=0.8;//lagging\n",
"theta=-1*(acosd(0.8));\n",
"I_sc=150;//short circuit current (in Amperes)\n",
"V_anL=V_r/sqrt(3);//open-circuit phase voltage\n",
"Z_sc=V_anL/I_sc;//(in ohms)\n",
"X_s=sqrt((Z_sc^2)-0.5^2);\n",
"disp(X_s,'synchronous reactance per phase (in ohms)=');\n",
"I_ao=P_r/(3*V_anL);//full load current (magnitude)\n",
"I_a=I_ao*(cosd(theta)+(%i*sind(theta)));\n",
"V_b=V_anL;//base value of voltage\n",
"I_b=I_ao;//base value of current\n",
"Z_b=V_b/I_b;//base value of impedance\n",
"I_apu=I_a/I_b;//per unit armature current\n",
"V_pu=V_anL/V_b;//per unit voltage\n",
"Z_spu=(0.5+(%i*X_s))/Z_b;//per unit impedance\n",
"E_apu=V_pu+(I_apu*Z_spu);\n",
"VR=(abs(E_apu)-1)*100;\n",
"disp(VR,'voltage regulation (%)=');"
   ]
   }
,
{
		   "cell_type": "markdown",
		   "metadata": {},
		   "source": [
			"## Example 7.9: Find_the_voltage_regulation_and_power_developed_by_the_generator.sce"
		   ]
		  },
  {
"cell_type": "code",
	   "execution_count": null,
	   "metadata": {
	    "collapsed": true
	   },
	   "outputs": [],
"source": [
"//Caption:Find the voltage regulation and power developed by the generator\n",
"//Exa:7.9\n",
"clc;\n",
"close;\n",
"clear;\n",
"V_r=13.8*10^3;//in volts\n",
"R_a=0;\n",
"X_d=1.83;//in ohms\n",
"X_q=1.21;//in ohms\n",
"P_r=70*10^6;//in Volt-Ampere\n",
"pf=0.8;//lagging\n",
"theta=(-1)*acosd(pf);\n",
"V_a=V_r/(sqrt(3));//rms value of per phase voltage\n",
"I_ao=P_r/(3*V_a);\n",
"tan_delta=((I_ao*X_q*cosd(theta))-(I_ao*R_a*sind(theta)))/(V_a+(I_ao*((R_a*cosd(theta))-(X_q*sind(theta)))));\n",
"delta=atand(tan_delta);\n",
"alpha=delta+acosd(pf);\n",
"I_d=I_ao*sind(alpha)*((cosd(delta-90))+(%i*(sind(delta-90))));\n",
"I_q=I_ao*cosd(alpha)*((cosd(delta))+(%i*(sind(delta))));\n",
"E_a=abs(V_a+(I_q*(%i)*X_q)+(I_d*(%i)*X_d));\n",
"VR=((E_a-V_a)/V_a)*100;\n",
"disp(VR,'voltage regulation (%)=');\n",
"P_d=3*V_a*I_ao*pf;\n",
"disp(P_d/(10^6),'Power developed (in Mega-Watts)=')"
   ]
   }
],
"metadata": {
		  "kernelspec": {
		   "display_name": "Scilab",
		   "language": "scilab",
		   "name": "scilab"
		  },
		  "language_info": {
		   "file_extension": ".sce",
		   "help_links": [
			{
			 "text": "MetaKernel Magics",
			 "url": "https://github.com/calysto/metakernel/blob/master/metakernel/magics/README.md"
			}
		   ],
		   "mimetype": "text/x-octave",
		   "name": "scilab",
		   "version": "0.7.1"
		  }
		 },
		 "nbformat": 4,
		 "nbformat_minor": 0
}
