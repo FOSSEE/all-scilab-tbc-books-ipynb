{
"cells": [
 {
		   "cell_type": "markdown",
	   "metadata": {},
	   "source": [
       "# Chapter 4: Transformers"
	   ]
	},
{
		   "cell_type": "markdown",
		   "metadata": {},
		   "source": [
			"## Example 4.10: EX4_10.sce"
		   ]
		  },
  {
"cell_type": "code",
	   "execution_count": null,
	   "metadata": {
	    "collapsed": true
	   },
	   "outputs": [],
"source": [
"//Caption:Find (a) primary winding voltage (b) secondary winding voltage (c) ratio of transformation (d) nominal rating of transformer\n",
"//Exa:4.10\n",
"clc;\n",
"clear;\n",
"close;\n",
"V_1=2400;//in Volts\n",
"V_2=240;//in Volts\n",
"S_o=24*1000;//Volt-Ampere\n",
"I_1=10;//in Amperes\n",
"I_2=100;//in Amperes\n",
"//Refer to fig:4.31 (a)\n",
"V_1a=V_1+V_2;\n",
"V_2a=V_2;\n",
"a_T1=V_1a/V_2a;\n",
"a_T2=V_2a/V_1a;\n",
"a_T3=V_1a/V_1;\n",
"a_T4=V_1/V_1a;\n",
"S_oa_1=V_1a*I_1;\n",
"S_oa_2=V_1a*I_1;\n",
"S_oa_3=V_1a*I_2;\n",
"S_oa_4=V_1a*I_2;\n",
"disp('Refer to fig:4.31a');\n",
"disp(V_1a,'(a) primary winding voltage (in Volts)=');\n",
"disp(V_2a,'(b) secondary winding voltage (in Volts)=');\n",
"disp(a_T1,'(c) ratio of transformation=');\n",
"disp(S_oa_1/1000,'(d) nominal rating of transformer (KVA)=');\n",
"disp('Refer to fig:4.31b');\n",
"disp(V_2a,'(a) primary winding voltage (in Volts)=');\n",
"disp(V_1a,'(b) secondary winding voltage (in Volts)=');\n",
"disp(a_T2,'(c) ratio of transformation=');\n",
"disp(S_oa_2/1000,'(d) nominal rating of transformer (KVA)=');\n",
"disp('Refer to fig:4.31c');\n",
"disp(V_1a,'(a) primary winding voltage (in Volts)=');\n",
"disp(V_1,'(b) secondary winding voltage (in Volts)=');\n",
"disp(a_T3,'(c) ratio of transformation=');\n",
"disp(S_oa_3/1000,'(d) nominal rating of transformer (KVA)=');\n",
"disp('Refer to fig:4.31d');\n",
"disp(V_1,'(a) primary winding voltage (in Volts)=');\n",
"disp(V_1a,'(b) secondary winding voltage (in Volts)=');\n",
"disp(a_T4,'(c) ratio of transformation=');\n",
"disp(S_oa_4/1000,'(d) nominal rating of transformer (KVA)=');"
   ]
   }
,
{
		   "cell_type": "markdown",
		   "metadata": {},
		   "source": [
			"## Example 4.11: Find_the_efficiency_and_voltage_regulation.sce"
		   ]
		  },
  {
"cell_type": "code",
	   "execution_count": null,
	   "metadata": {
	    "collapsed": true
	   },
	   "outputs": [],
"source": [
"//Caption:Find the efficiency and voltage regulation\n",
"//Exa:4.11\n",
"clc;\n",
"clear;\n",
"close;\n",
"V_2a=480;//in volts\n",
"pf=0.707;//leading\n",
"theta=acosd(pf);\n",
"a_T=120/480;//ratio of transformation of step-up transformer\n",
"a=360/120;//ratio of transformation of two-winding transformer\n",
"R_cH=8.64*1000;//in ohms\n",
"R_H=18.9;//in ohms\n",
"X_H=21.6;//in ohms\n",
"X_L=2.4;//in ohms\n",
"R_L=2.1;//in ohms\n",
"X_mH=6.84*1000;//in ohms\n",
"R_cL=R_cH/a^2;//equivalent core loss resistance in ohms\n",
"X_mL=X_mH/a^2;//magnetizing reactance\n",
"I_2a=(720/360)*(cosd(theta)+%i*sind(theta));\n",
"I_H=I_2a;\n",
"I_pa=I_2a/a_T;\n",
"I_com=I_pa-I_2a;//current through common winding (in Amperes)\n",
"//on applying KVL to the output loop\n",
"E_L=(I_2a*(R_H+%i*X_H)+V_2a-I_com*(R_L+%i*X_L))/4;\n",
"V_1a=E_L+I_com*(R_L+%i*X_L);\n",
"I_ca=V_1a/R_cL;//core loss current in Amperes\n",
"I_ma=-%i*V_1a/X_mL;//magnetizing current in Amperes\n",
"I_phy_a=I_ca+I_ma;//excitation current \n",
"I_1a=I_pa+I_phy_a;\n",
"P_o=real(V_2a*conj(I_2a));\n",
"P_in=real(V_1a*conj(I_1a));\n",
"Eff=P_o/P_in;\n",
"disp(Eff*100,'Efficiency (%)=');\n",
"V_2anL=V_1a/a_T;//no load voltage \n",
"VR=(abs(V_2anL)-V_2a)/V_2a;\n",
"disp(VR*100,'Voltage regulation (%)=');"
   ]
   }
,
{
		   "cell_type": "markdown",
		   "metadata": {},
		   "source": [
			"## Example 4.13: Find_the_line_voltages_and_line_currents_and_efficiency_of_the_transformer.sce"
		   ]
		  },
  {
"cell_type": "code",
	   "execution_count": null,
	   "metadata": {
	    "collapsed": true
	   },
	   "outputs": [],
"source": [
"//Caption:Find the line voltages,the line currents and efficiency of the transformer\n",
"//Exa:4.13\n",
"clc;\n",
"clear;\n",
"close;\n",
"R_H=133.5*10^-3;//in ohms\n",
"X_H=201*10^-3;//in ohms\n",
"R_L=39.5*10^-3;//in ohms\n",
"X_L=61.5*10^-3;//in ohms\n",
"R_cL=240;//in ohms\n",
"X_mL=290;//in ohms\n",
"pf=0.8;//lagging\n",
"theta=-acosd(pf);\n",
"V_2n=138.564*(cosd(0)+%i*sind(0));//rated load voltage for Y/Y connection\n",
"I_2A=86.6*(cosd(theta)+%i*sind(theta));//load current\n",
"a=120/138.564;//transformation ratio\n",
"I_pA=(I_2A/a)*(cosd(30)+%i*sind(30));//per phase current in primary winding\n",
"E_2n=V_2n+I_2A*(0.0445+%i*0.067);//voltage induced in secondary winding\n",
"E_2L=sqrt(3)*E_2n*(cosd(30)+%i*sind(30));\n",
"E_1n=a*E_2n*(cosd(30)+%i*sind(30));//voltage induced in primary winding\n",
"I_1A=I_pA+E_1n*((1/240)-%i*(1/290));\n",
"disp(abs(I_2A),'Line current in secondary side (in Amperes)=');\n",
"disp(atand(imag(I_2A)/real(I_2A)),'phase angle of induced line current in secondary (in Degree)=');\n",
"disp(abs(I_1A),'Line current in primary side (in Amperes)=');\n",
"disp(atand(imag(I_1A)/real(I_1A)),'phase angle of induced line current in primary (in Degree) =');\n",
"disp(abs(E_2L),'Line voltage induced  in secondary side (in Volts)=');\n",
"disp(atand(imag(E_2L)/real(E_2L)),'phase angle of induced line voltage in secondary (in Degree)=');\n",
"V_1n=E_1n+I_1A*(R_L+%i*X_L);\n",
"V_1L=sqrt(3)*V_1n*(cosd(30)+%i*sind(30));\n",
"disp(abs(V_1L),'Line voltage induced  in primary side (in Volts)=');\n",
"disp(atand(imag(V_1L)/real(V_1L)),'phase angle of induced line voltage  in primary (in Degree)=');\n",
"P_o=3*real(138.564*conj(I_2A));\n",
"P_in=3*real(V_1n*conj(I_1A));\n",
"Eff=P_o/P_in;\n",
"disp(Eff*100,'Efficiency (%)=');"
   ]
   }
,
{
		   "cell_type": "markdown",
		   "metadata": {},
		   "source": [
			"## Example 4.14: Find_the_line_current_line_voltage_and_power.sce"
		   ]
		  },
  {
"cell_type": "code",
	   "execution_count": null,
	   "metadata": {
	    "collapsed": true
	   },
	   "outputs": [],
"source": [
"//Caption:Find the line current,line voltage and power \n",
"//Exa:4.14\n",
"clc;\n",
"clear;\n",
"close;\n",
"I_L=4*80/5;\n",
"disp(I_L,'Line current (in Amperes)=');\n",
"V_L=110*100/1;\n",
"disp(V_L,'Line voltage (in Volts)=');\n",
"P=(100/1)*(80/5)*352;\n",
"disp(P,'Power on the transmission line (in Watts)=');"
   ]
   }
,
{
		   "cell_type": "markdown",
		   "metadata": {},
		   "source": [
			"## Example 4.2: EX4_2.sce"
		   ]
		  },
  {
"cell_type": "code",
	   "execution_count": null,
	   "metadata": {
	    "collapsed": true
	   },
	   "outputs": [],
"source": [
"//Caption:Find the (a) a-ratio (b) current in primary (c) the power supplied to load (d) and the flux in the core\n",
"//Exa:4.2\n",
"clc;\n",
"clear;\n",
"close;\n",
"N_p=150;//no. of turns in primary winding\n",
"N_s=750;//no. of turns in secondary winding\n",
"f=50;//frequency in Hz\n",
"I_2=4;//load current (in Amperes)\n",
"V_1=240;//voltage on primary side (in Volts)\n",
"pf=0.8;//power factor\n",
"a=N_p/N_s;\n",
"disp(a,'(a) a-ratio=');\n",
"I_1=I_2/a;\n",
"disp(I_1,'(b) current in primary (in Amperes)=');\n",
"V_2=V_1/a;\n",
"disp(V_2,'(c) voltage on secondary side (in Volts)=');\n",
"P_L=V_2*I_2*pf;\n",
"disp(P_L,'(d) power supplied to the load (in Watts)=');\n",
"flux=V_1/(4.44*f*N_p);\n",
"disp(flux*10^3,'(e) flux in the core (in mili-Weber)=');"
   ]
   }
,
{
		   "cell_type": "markdown",
		   "metadata": {},
		   "source": [
			"## Example 4.3: Find_the_efficiency_of_transformer.sce"
		   ]
		  },
  {
"cell_type": "code",
	   "execution_count": null,
	   "metadata": {
	    "collapsed": true
	   },
	   "outputs": [],
"source": [
"//Caption:Find the efficiency of transformer\n",
"//Exa:4.3\n",
"clc;\n",
"clear;\n",
"close;\n",
"R_1=4;//in ohms\n",
"R_2=0.04;//in ohms\n",
"X_1=12;//in ohms\n",
"X_2=0.12;//in ohms\n",
"pf=0.866;//power factor\n",
"V_p=2300;//primary voltage in volts\n",
"V_s=230;//Secondary voltage in volts\n",
"S=23000;//VA \n",
"theta=acosd(pf);\n",
"I_2=(S*0.75/V_s)*(cosd(theta)+%i*sind(theta));//secondary current (in Amperes)\n",
"Z_2=R_2+%i*X_2;//secondary winding impedance (in ohms)\n",
"E_2=V_s+I_2*Z_2;//induced emf in secondary winding (in Volts)\n",
"a=V_p/V_s;//transformation ratio\n",
"E_1=a*E_2;//induced emf in primary winding (in Volts)\n",
"I_1=I_2/a;//current in primary winding\n",
"Z_1=R_1+%i*X_1;//primary winding impedance (in ohms)\n",
"V_1=E_1+I_1*Z_1;//source voltage\n",
"P_o=real(V_s*conj(I_2));//output power(in Watts)\n",
"P_in=real(V_1*conj(I_1));//input power\n",
"Eff=P_o/P_in;\n",
"disp(Eff*100,'Efficiency (%)=');"
   ]
   }
,
{
		   "cell_type": "markdown",
		   "metadata": {},
		   "source": [
			"## Example 4.4: Find_the_efficiency_of_transformer.sce"
		   ]
		  },
  {
"cell_type": "code",
	   "execution_count": null,
	   "metadata": {
	    "collapsed": true
	   },
	   "outputs": [],
"source": [
"//Caption:Find the efficiency \n",
"//Exa:4.4\n",
"clc;\n",
"clear;\n",
"close;\n",
"//From Exa:4.3\n",
"V_2=230;//in Volts\n",
"Z_1=4+%i*12;\n",
"I_s=75*(cosd(30)+%i*sind(30));//in Amperes\n",
"a=10;//transformation ratio\n",
"E_1=2282.87*(cosd(2.33)+%i*sind(2.33));//in Volts\n",
"E_2=228.287*(cosd(2.33)+%i*sind(2.33));//in Volts\n",
"I_p=7.5*(cosd(30)+%i*sind(30));//in Amperes\n",
"P_o=14938.94;//in Watts\n",
"R_c1=20000;//core loss resistance on primary side\n",
"X_m1=15000;//magnetizing reactance on primary side\n",
"I_c=E_1/R_c1;//in Amperes\n",
"I_m=E_1/(%i*X_m1);//in Amperes\n",
"I_phy=I_c+I_m;//in Amperes\n",
"I_1=I_p+I_phy;//in Amperes\n",
"V_1=E_1+Z_1*I_1;//in Volts\n",
"P_in=real(V_1*conj(I_1));//in Watts\n",
"Eff=P_o/P_in;\n",
"disp(Eff*100,'Efficiency (%)=')"
   ]
   }
,
{
		   "cell_type": "markdown",
		   "metadata": {},
		   "source": [
			"## Example 4.6: Find_efficiency_and_voltage_regulation_of_transformer.sce"
		   ]
		  },
  {
"cell_type": "code",
	   "execution_count": null,
	   "metadata": {
	    "collapsed": true
	   },
	   "outputs": [],
"source": [
"//Caption:Find efficiency and voltage regulation of transformer\n",
"//Exa:4.6\n",
"clc;\n",
"clear;\n",
"close;\n",
"S=2200;//Volt-Ampere\n",
"V_s=220;//secondary side voltage (in Volts)\n",
"V_2=V_s;\n",
"V_p=440;//primary side voltage (in Volts)\n",
"R_e1=3;//in ohms\n",
"X_e1=4;//in ohms\n",
"R_c1=2.5*1000;//in ohms\n",
"X_m1=2000;//in ohms\n",
"a=V_p/V_2;//transformation ratio\n",
"pf=0.707;//lagging power factor\n",
"theta=-acosd(pf);\n",
"I_2=(S/V_2)*(cosd(theta)+%i*sind(theta));//(in Amperes)\n",
"//Refer to equivalent circuit (fig:4.16)\n",
"I_p=I_2/a;//in Amperes\n",
"V_2p=a*V_2;\n",
"V_1=V_2p+I_p*(R_e1+%i*X_e1);\n",
"I_c=V_1/R_c1;//core loss current (in Amperes)\n",
"I_m=V_1/(%i*X_m1);\n",
"I_1=I_p+I_c+I_m;//current supplied by source (in Amperes)\n",
"P_o=real(V_p*conj(I_p));//output power (in Watts)\n",
"P_in=real(V_1*conj(I_1));//input power (in Watts)\n",
"Eff=P_o/P_in;//Efficiency\n",
"disp(Eff*100,'Efficiency (%)=');\n",
"VR=(abs(V_1)-abs(V_p))/V_p;\n",
"disp(VR*100,'voltage regulation (%)=')"
   ]
   }
,
{
		   "cell_type": "markdown",
		   "metadata": {},
		   "source": [
			"## Example 4.7: Find_the_KVA_rating_at_max_efficiency.sce"
		   ]
		  },
  {
"cell_type": "code",
	   "execution_count": null,
	   "metadata": {
	    "collapsed": true
	   },
	   "outputs": [],
"source": [
"//Caption:Find (a)KVA rating at max efficiency (b)max efficiency (c) Efficiency at full load and 0.8pf lagging (d)equivalent core resistance\n",
"//Exa:4.7\n",
"clc;\n",
"clear;\n",
"close;\n",
"S=120000;//Volt-Ampere\n",
"V_p=2400;//in volts\n",
"V_s=240;//in volts\n",
"R_1=0.75;//in ohms\n",
"R_2=0.01;//in ohms\n",
"X_1=0.8;//in ohms\n",
"X_2=0.02;//in ohms\n",
"pf=0.8;//lagging\n",
"theta=-acosd(pf);\n",
"a=V_p/V_s;//transformation ratio\n",
"I_p=S/V_p;//rated load current (in Amperes)\n",
"I_p_eta=0.7*I_p;//load current at max efficiency\n",
"KVA=I_p_eta*V_p/1000;\n",
"disp(KVA,'(a) KVA rating at max efficiency =');\n",
"P_cu_eta=I_p_eta^2*(R_1+a^2*R_2);//copper loss (in Watts)\n",
"P_m=P_cu_eta;//core loss\n",
"P_o=V_p*I_p_eta*pf;//power output at max efficiency\n",
"P_in=P_o+P_m+P_cu_eta;//power input at max efficiency\n",
"eta=P_o/P_in;\n",
"disp(eta*100,'(b) max efficiency (%)=');\n",
"P_o_FL=V_p*I_p*pf;//power output at full load\n",
"P_cu_FL=I_p^2*(R_1+a^2*R_2);//copper loss at full load\n",
"P_in_FL=P_cu_FL+P_o_FL+P_m;\n",
"Eff=P_o_FL/P_in_FL;\n",
"disp(Eff*100,'(c) Efficiency at full load (%)=');\n",
"R_c1=V_p^2/P_cu_eta;\n",
"disp(R_c1,'(d) equivalent core resistance (in ohms)=');"
   ]
   }
,
{
		   "cell_type": "markdown",
		   "metadata": {},
		   "source": [
			"## Example 4.9: Find_the_generator_voltage_generator_current_and_efficiency.sce"
		   ]
		  },
  {
"cell_type": "code",
	   "execution_count": null,
	   "metadata": {
	    "collapsed": true
	   },
	   "outputs": [],
"source": [
"//Caption:Find the (a) generator voltage (b) generator current (c) efficiency\n",
"//Exa:4.9\n",
"clc;\n",
"clear;\n",
"close;\n",
"//Refer to fig:4.29\n",
"//For region A\n",
"V_bA=230;//in Volts\n",
"S_bA=.46000;//Volt-Ampere\n",
"I_bA=S_bA/V_bA;//in Amperes\n",
"Z_bA=V_bA/I_bA;//in ohms\n",
"Z_g_pu=(0.023+%i*0.092)/Z_bA;\n",
"R_L_pu=0.023/Z_bA;\n",
"X_L_pu=0.069/Z_bA;\n",
"//For region B\n",
"//Per unit parameters on high-voltage side of the step-up transformer\n",
"V_bB=2300;//in Volts\n",
"S_bB=46000;//Volt-Ampere\n",
"I_bB=S_bB/V_bB;//in Amperes\n",
"Z_bB=V_bB/I_bB;//in ohms\n",
"R_H_pu=2.3/Z_bB;\n",
"X_H_pu=6.9/Z_bB;\n",
"R_cH_pu1=13800/Z_bB;\n",
"X_mH_pu1=6900/Z_bB;\n",
"Z_l_pu=(2.07+%i*4.14)/Z_bB;//Per-unit impedance of transmission line\n",
"//Per unit parameters on high-voltage side of the step-down transformer\n",
"X_mH_pu2=9200/Z_bB;\n",
"R_cH_pu2=11500/Z_bB;\n",
"//For region C\n",
"V_bC=115;//in Volts\n",
"S_bC=46000;//Volt-Ampere\n",
"I_bC=S_bC/V_bC;//in Amperes\n",
"Z_bC=V_bC/I_bC;//in ohms\n",
"R_L_pu=0.00575/Z_bC;\n",
"X_L_pu=0.01725/Z_bC;\n",
"V_L_pu=1*(cosd(0)+%i*sind(0));\n",
"I_L_pu=1*(cosd(-30)+%i*sind(-30));\n",
"E_l_pu=V_L_pu+(R_L_pu+%i*X_L_pu)*I_L_pu;\n",
"I_l_pu=I_L_pu+E_l_pu*(0.01-%i*(1/80));\n",
"E_g_pu=E_l_pu+I_l_pu*(0.02+%i*0.06+0.018+%i*0.036+0.02+%i*0.06);\n",
"I_g_pu=I_l_pu+E_g_pu*((1/120)-%i*(1/60));\n",
"V_g_pu=E_g_pu+I_g_pu*(0.02+0.02+%i*0.08+%i*0.06);\n",
"V_g=V_bA*V_g_pu;\n",
"disp(abs(V_g),'(a) Generator Voltage (in Volts)=');\n",
"disp(atand(imag(V_g)/real(V_g)),'Phase of generated voltage (in degree)=');\n",
"I_g=I_bA*I_g_pu;\n",
"disp(abs(I_g),'(b) Generator current (in Amperes)=');\n",
"disp(atand(imag(I_g)/real(I_g)),'Phase of generator current (in degree)=');\n",
"P_o_pu=0.866;//rated power output at pf=0.866 lagging\n",
"P_in_pu=real(V_g_pu*conj(I_g_pu));\n",
"Eff=P_o_pu/P_in_pu;\n",
"disp(Eff*100,'(c) Efficiency (%)=');"
   ]
   }
],
"metadata": {
		  "kernelspec": {
		   "display_name": "Scilab",
		   "language": "scilab",
		   "name": "scilab"
		  },
		  "language_info": {
		   "file_extension": ".sce",
		   "help_links": [
			{
			 "text": "MetaKernel Magics",
			 "url": "https://github.com/calysto/metakernel/blob/master/metakernel/magics/README.md"
			}
		   ],
		   "mimetype": "text/x-octave",
		   "name": "scilab",
		   "version": "0.7.1"
		  }
		 },
		 "nbformat": 4,
		 "nbformat_minor": 0
}
