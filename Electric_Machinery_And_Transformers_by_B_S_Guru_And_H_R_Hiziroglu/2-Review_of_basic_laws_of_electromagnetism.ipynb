{
"cells": [
 {
		   "cell_type": "markdown",
	   "metadata": {},
	   "source": [
       "# Chapter 2: Review of basic laws of electromagnetism"
	   ]
	},
{
		   "cell_type": "markdown",
		   "metadata": {},
		   "source": [
			"## Example 2.10: Find_the_percentage_of_flux_setup_by_coil_1_links_coil_2.sce"
		   ]
		  },
  {
"cell_type": "code",
	   "execution_count": null,
	   "metadata": {
	    "collapsed": true
	   },
	   "outputs": [],
"source": [
"//Caption:Find the percentage of flux setup by coil-1 links coil-2\n",
"//Exa:2.10\n",
"clc;\n",
"clear;\n",
"close;\n",
"//Refer to eqn 2.26\n",
"e_21=20;//voltage induced in coil-2 (in volts)\n",
"I1=2000;//rate of change of current in coil-1 (in Amperes/second)\n",
"M=e_21/I1;// in henry\n",
"L1=25*10^-3;//in henry\n",
"L2=25*10^-3;//in henry\n",
"//Refer to eqn 2.32\n",
"k=(M/L1)*100;//coefficient of coupling\n",
"disp(k,'percentage (%)=')"
   ]
   }
,
{
		   "cell_type": "markdown",
		   "metadata": {},
		   "source": [
			"## Example 2.11: Find_the_Inductance_of_each_coil_mutual_inductance_and_coefficient_of_coupling.sce"
		   ]
		  },
  {
"cell_type": "code",
	   "execution_count": null,
	   "metadata": {
	    "collapsed": true
	   },
	   "outputs": [],
"source": [
"//Caption:Find (a)Inductance of each coil (b)mutual inductance (c)coefficient of coupling\n",
"//Exa:2.11\n",
"clc;\n",
"clear;\n",
"close;\n",
"//L1,L2=inductances of coil 1&2\n",
"//M=mutual inductance b/w coil 1&2\n",
"L_aid=2.38;//effective inductance when connected in sereis aiding\n",
"L_opp=1.02;//effective inductance when connected in sereis opposing\n",
"//L1+L2+2M=L_aid\n",
"//L1+L2-2M=L_opp\n",
"M=(L_aid-L_opp)/4;//in henry\n",
"disp(M,'mutual inductance (in henry)=')\n",
"//L1=16*L2\n",
"L1=(L_aid-2*M)/17;//in henry\n",
"disp(L1,'inductance of coil-1 (in henry)=')\n",
"L2=L_aid-(2*M)-L1;//in henry\n",
"disp(L2,'inductance of coil-2 (in henry)=')\n",
"k=M/(sqrt(L1*L2));\n",
"disp(k,'coefficient of coupling=')"
   ]
   }
,
{
		   "cell_type": "markdown",
		   "metadata": {},
		   "source": [
			"## Example 2.12: EX2_12.sce"
		   ]
		  },
  {
"cell_type": "code",
	   "execution_count": null,
	   "metadata": {
	    "collapsed": true
	   },
	   "outputs": [],
"source": [
"//Caption:Find effective inductance when connected in (a)parallel aiding (b) parallel opposing\n",
"//Exa: 2.12\n",
"clc;\n",
"clear;\n",
"close;\n",
"L1=1.6;//self inductance of coil 1 (in Henry)\n",
"L2=0.1;//self inductance of coil 2 (in Henry)\n",
"M=0.34;//mutual inductance (in Henry)\n",
"//Refer to eqn-2.45\n",
"L_aid=((L1*L2)-M^2)*10^3/(L1+L2-(2*M));//in mili-Henry\n",
"disp(L_aid,'effective inductance in parallel aiding  (in mili-Henry)=')\n",
"//Refer to eqn-2.46\n",
"L_opp=((L1*L2)-M^2)*10^3/(L1+L2+(2*M));//in mili-henry\n",
"disp(L_opp,'effective inductance in parallel opposing  (in mini-Henry)=')"
   ]
   }
,
{
		   "cell_type": "markdown",
		   "metadata": {},
		   "source": [
			"## Example 2.13: Find_hysteresis_loss_and_eddy_current_loss.sce"
		   ]
		  },
  {
"cell_type": "code",
	   "execution_count": null,
	   "metadata": {
	    "collapsed": true
	   },
	   "outputs": [],
"source": [
"//Caption:Find hysteresis loss and eddy-current loss\n",
"//Exa:2.13\n",
"clc;\n",
"clear;\n",
"close;\n",
"//refer to eqn-2.50\n",
"//eqn:-2.51,2.52 & 2.53 are obtained\n",
"f=[25 25 60];//in hertz\n",
"disp(f,'frequency (in hertz)=');\n",
"B_m=[1.1 1.5 1.1];\n",
"P_m=[0.4 0.8 1.2];\n",
"//On solving eqn:-2.51 & eqn:-2.53\n",
"k_e=(0.016-0.02)/(30.25-72.6);\n",
"//on solving eqn:-2.51 & eqn:-2.52\n",
"n=(log((0.016-(30.25*k_e))/(0.032-(56.25*k_e))))/(log(1.1/1.5));\n",
"k_h=(0.016-(30.25*k_e))/1.1^n;\n",
"P_h=k_h*f.*B_m^n//hysteresis loss\n",
"disp(P_h,'Hysteresis loss (in Watts)=');\n",
"P_eddy=k_e*(f^2).*B_m^2//eddy current loss\n",
"disp(P_eddy,'eddy current loss (in Watts)=');"
   ]
   }
,
{
		   "cell_type": "markdown",
		   "metadata": {},
		   "source": [
			"## Example 2.14: Find_the_minimum_length_of_magnet_for_maintaining_max_energy_in_air_gap.sce"
		   ]
		  },
  {
"cell_type": "code",
	   "execution_count": null,
	   "metadata": {
	    "collapsed": true
	   },
	   "outputs": [],
"source": [
"//Caption:Find the minimum length of magnet for maintaining max energy in air gap\n",
"//Exa:2.14\n",
"clc;\n",
"clear;\n",
"close;\n",
"u_o=4*%pi*10^-7;//permeablity of air\n",
"u_r=500;//permeablity of steel\n",
"l_g=1*10^-2;//length of air gap section (in meter)\n",
"A_g=10*10^-4;//cross-sectional area of air gap section (in meter^2)\n",
"A_m=10*10^-4;//cross-sectional area of magnet section (in meter^2)\n",
"A_s=10*10^-4;//cross-sectional area of steel sections (in meter^2)\n",
"l_s=50*10^-2;//length of steel section (in meter)\n",
"//Refer to fig:-2.29 (Demagnetization and energy-product curves of a magnet)\n",
"H_m=-144*10^3;//(in Ampere/meter)\n",
"B_m=0.23;//Magnetic flux density (in Tesla)\n",
"//refer to eqn:-2.55\n",
"l_m=(-1*100)*(((l_g*A_m)/(u_o*A_g))+((2*l_s*A_m)/(u_o*u_r*A_s)))*(B_m/H_m);// (in centimeter)\n",
"disp(l_m,'minimum length of magnet (in centimeter)=')"
   ]
   }
,
{
		   "cell_type": "markdown",
		   "metadata": {},
		   "source": [
			"## Example 2.1: Find_the_induced_emf_in_coil.sce"
		   ]
		  },
  {
"cell_type": "code",
	   "execution_count": null,
	   "metadata": {
	    "collapsed": true
	   },
	   "outputs": [],
"source": [
"//Caption:Find the induced emf in coil\n",
"//Exa:2.1\n",
"clc;\n",
"clear;\n",
"close ;\n",
"N=1000;//Number of turns\n",
"phy_1=100*10^-3;//initial magnetic flux (in webers)\n",
"phy_2=20*10^-3;//final magnetic flux (in webers)\n",
"phy=phy_2-phy_1;//change in magnetic flux\n",
"t=5;//(in seconds)\n",
"e=(-1)*N*(phy/t);//induced emf (in volts)\n",
"disp(e,'Induced emf (in volts)=')"
   ]
   }
,
{
		   "cell_type": "markdown",
		   "metadata": {},
		   "source": [
			"## Example 2.6: Find_the_magnetic_flux_density.sce"
		   ]
		  },
  {
"cell_type": "code",
	   "execution_count": null,
	   "metadata": {
	    "collapsed": true
	   },
	   "outputs": [],
"source": [
"//Caption:Find the magnetic flux density\n",
"//Exa:2.6\n",
"clc;\n",
"clear;\n",
"close;\n",
"u_o=4*%pi*10^-7;//permeablity of air\n",
"u_r=1200;//permeablity of magnetic material\n",
"N=1500;//No. of turns\n",
"I=4;//current in the coil (in Amperes)\n",
"r_i=10*10^-2;//inner radii of magnetic core (in meters)\n",
"r_o=12*10^-2;//outer radii of magnetic core (in meters)\n",
"r_m=(r_i+r_o)/2;//mean radii of magnetic core (in meters)\n",
"l_g=1*10^-2;//length of air gap (in meters)\n",
"l_m=2*%pi*(r_m-l_g);//in meters\n",
"//Refer to fig:-2.14\n",
"A_m=(r_o-r_i)^2;//cross-sectional  area of magnetic path (in meter^2)\n",
"R_m=l_m/(u_o*u_r*A_m);//reluctance of magnetic material\n",
"R_g=l_g/(u_o*A_m);//reluctance of air gap\n",
"//R_m and R_g in sereis\n",
"R=R_m+R_g;\n",
"B_m=N*I/(R*A_m);//magnetic flux density (in Tesla)\n",
"disp(B_m,'magnetic flux density (in Tesla)=')"
   ]
   }
],
"metadata": {
		  "kernelspec": {
		   "display_name": "Scilab",
		   "language": "scilab",
		   "name": "scilab"
		  },
		  "language_info": {
		   "file_extension": ".sce",
		   "help_links": [
			{
			 "text": "MetaKernel Magics",
			 "url": "https://github.com/calysto/metakernel/blob/master/metakernel/magics/README.md"
			}
		   ],
		   "mimetype": "text/x-octave",
		   "name": "scilab",
		   "version": "0.7.1"
		  }
		 },
		 "nbformat": 4,
		 "nbformat_minor": 0
}
