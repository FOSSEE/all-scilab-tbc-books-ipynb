{
"cells": [
 {
		   "cell_type": "markdown",
	   "metadata": {},
	   "source": [
       "# Chapter 5: Direct Current Generators"
	   ]
	},
{
		   "cell_type": "markdown",
		   "metadata": {},
		   "source": [
			"## Example 5.1: Find_the_coil_pitch_for_2_pole_winding_and_4_pole_winding.sce"
		   ]
		  },
  {
"cell_type": "code",
	   "execution_count": null,
	   "metadata": {
	    "collapsed": true
	   },
	   "outputs": [],
"source": [
"//Caption:Find the coil pitch for (a)2-pole winding (b)4-pole winding\n",
"//Exa:5.1\n",
"clc;\n",
"clear;\n",
"close;\n",
"P1=2;\n",
"P2=4;\n",
"S=10;//no. of slots\n",
"S_p1=S/P1;//slots per pole\n",
"y1=int(S_p1);//coil pitch in slots\n",
"S_s1=180/S_p1;//slot span\n",
"C_p1=S_s1*y1;//coil pitch(electrical)\n",
"disp(C_p1,'coil pitch for 2-pole winding (electrical)=');\n",
"S_p2=S/P2;//slots per pole\n",
"S_s2=180/S_p2;//slot span\n",
"y2=int(S_p2);//coil pitch in slots\n",
"C_p2=S_s2*y2;//coil pitch(electrical)\n",
"disp(C_p2,'coil pitch for 4-pole winding(electrical)=');"
   ]
   }
,
{
		   "cell_type": "markdown",
		   "metadata": {},
		   "source": [
			"## Example 5.3: EX5_3.sce"
		   ]
		  },
  {
"cell_type": "code",
	   "execution_count": null,
	   "metadata": {
	    "collapsed": true
	   },
	   "outputs": [],
"source": [
"//Caption:Find the (a)induced emf in the armature winding (b)induced emf per coil (c)induced emf per turn (d)induced emf per conductor\n",
"//Ex:5.3\n",
"clc;\n",
"clear;\n",
"close;\n",
"C=24;//no. of coils\n",
"N_c=18;//no. of turns per coil\n",
"P=2;//no. of pole\n",
"W_m=183.2;//angular velocity(in rad/sec)\n",
"Z=2*C*N_c;//total armature conductors\n",
"a=2;//no. of parallel paths\n",
"L=0.2;//effective length of machine(in meter)\n",
"r=0.1;//radius of armature(in meter)\n",
"A_p=(2*%pi*r*L)/P;//actual pole area\n",
"A_e=A_p*0.8;//effective pole area\n",
"B=1;//flux density per pole(in Tesla)\n",
"Phy=B*A_e;//effective flux per pole\n",
"K_a=(Z*P)/(2*%pi*a);//machine constant\n",
"E_a=K_a*Phy*W_m;\n",
"disp(E_a,'(a) induced emf in armature winding  (in Volts)=');\n",
"E_coil=E_a/(C/a);\n",
"disp(E_coil,'(b) induced emf per coil  (in Volts)=');\n",
"E_turn=E_coil/N_c;\n",
"disp(E_turn,'(c) induced emf per turn  (in Volts)=');\n",
"E_cond=E_turn/2;\n",
"disp(E_cond,'(d) induced emf per conductor  (in Volts)=');"
   ]
   }
,
{
		   "cell_type": "markdown",
		   "metadata": {},
		   "source": [
			"## Example 5.4: Find_the_current_in_each_conductor_the_torque_developed_the_power_developed.sce"
		   ]
		  },
  {
"cell_type": "code",
	   "execution_count": null,
	   "metadata": {
	    "collapsed": true
	   },
	   "outputs": [],
"source": [
"//Caption:Find the (a) current in each conductor (b) the torque developed (c)the power developed\n",
"//Exa:5.4\n",
"clc;\n",
"clear;\n",
"close;\n",
"K_a=137.51;//Refer to exa:5.3\n",
"Phy=0.05;//flux per pole (Refer to exa:5.3)\n",
"E_a=1259.6;//induced emf (Refer to exa:5.3)\n",
"I=25;//current in the machine (in Amperes)\n",
"a=2;//no. of parallel paths\n",
"I_cond=I/a;\n",
"disp(I_cond,'(a) current in each conductor (in Amperes)=');\n",
"T_d=K_a*Phy*I;\n",
"disp(T_d,'(b) torque developed by machine (in Newton-meter)=');\n",
"P_d=E_a*I;\n",
"disp(P_d,'(c) Power developed (in Watts)=');"
   ]
   }
,
{
		   "cell_type": "markdown",
		   "metadata": {},
		   "source": [
			"## Example 5.5: EX5_5.sce"
		   ]
		  },
  {
"cell_type": "code",
	   "execution_count": null,
	   "metadata": {
	    "collapsed": true
	   },
	   "outputs": [],
"source": [
"//Caption:Find (a)induced emf at full load (b)power developed (c)torque developed (d)applied torque (e)efficiency (f)external resistance in feild winding (g)voltage regulation \n",
"//Exa:5.5\n",
"clc;\n",
"clear;\n",
"close;\n",
"N_m=600;//speed of rotor (in rpm)\n",
"R_a=0.01;//armature resistance (in ohms)\n",
"R_fw=30;//feild winding resistance(in ohms)\n",
"V_f=120;// voltage of external source (in volts)\n",
"N_f=500;//no. of turns per pole\n",
"P_r=10000;//in watts\n",
"V_t=240;//terminal voltage (in volts)\n",
"P_o=240*10^3;//rated power (in watts)\n",
"I_L=P_o/V_t;//load current\n",
"I_a=I_L;//armature current\n",
"E_afl=V_t+(I_a*R_a);//refer to eqn:5.27\n",
"disp(E_afl,'(a) induced emf at full load (in Volts)=');\n",
"P_d=E_afl*I_a;\n",
"disp(P_d,'(b) power developed (in watts)=');\n",
"W_m=(2*%pi*N_m)/60;//angular velocity (Refer to Eqn:5.5&5.6)\n",
"T_d=P_d/W_m;\n",
"disp(T_d,'(c) torque developed (in Newton-meter)=');\n",
"P_inm=P_d+P_r;//mechanical power input\n",
"T_s=P_inm/W_m;\n",
"disp(T_s,'(d) Applied torque (in Newton-meter)=');\n",
"//Refer fig:5.21 (magnetization curve)\n",
"I_f=2.5;//effective feild current\n",
"mmf=(2.5*N_f)+(0.25*I_a);//total  mmf\n",
"I_fa=mmf/N_f;//actual feild current\n",
"P_in=P_inm+(V_f*I_fa);//total power input\n",
"Eff=(P_o/P_in)*100;\n",
"disp(Eff,'(e) efficiency (%)=');\n",
"R_f=V_f/I_fa;\n",
"R_fx=R_f-R_fw;\n",
"disp(R_fx,'(f) external resistance in feild winding (in ohms)=');\n",
"VR=((266-V_t)/V_t)*100;//Refer to fig:5.21\n",
"disp(VR,'(g) voltage regulation (%)=');"
   ]
   }
,
{
		   "cell_type": "markdown",
		   "metadata": {},
		   "source": [
			"## Example 5.6: Find_Rfx_and_terminal_voltage_voltage_regulation_Efficiency.sce"
		   ]
		  },
  {
"cell_type": "code",
	   "execution_count": null,
	   "metadata": {
	    "collapsed": true
	   },
	   "outputs": [],
"source": [
"//Caption:Find R_fx and (a)terminal voltage (b) voltage regulation (c) Efficiency\n",
"//Exa:5.6\n",
"clc;\n",
"clear;\n",
"close;\n",
"R_fw=30;//in ohms\n",
"R_a=0.2;//in ohms\n",
"N_f=200;//turns/pole\n",
"P_r=1200;//in Watts\n",
"I_L=100;\n",
"D_mmf=0.5*I_L;//demagnetizing mmf\n",
"V_nL=170;//no load voltage (in Volts)\n",
"//Refer to fig:5.26 (magnetization curve)\n",
"I_f=3.5;//field current in Amperes\n",
"R_f=V_nL/I_f;\n",
"R_fx=R_f-R_fw;\n",
"disp(R_fx,'R_fx (in ohms)=');\n",
"//First iteration:\n",
"//Assume \n",
"E_a=170;\n",
"V_t1=E_a-103.5*R_a;\n",
"//Second iteration:\n",
"I_f2=V_t1/R_f;//actual field current\n",
"I_fe2=(N_f*I_f2-D_mmf)/N_f;\n",
"//Refer to fig:5.26\n",
"E_a2=165;\n",
"V_t2=E_a2-103.07*R_a;\n",
"//third iteration\n",
"I_f3=V_t2/R_f;//actual field current\n",
"I_fe=(N_f*I_f-D_mmf)/N_f;\n",
"//Refer to fig:\n",
"E_a3=163;\n",
"V_t3=E_a3-102.97*R_a;\n",
"V_t=V_t3;\n",
"disp(V_t,'(a) Terminal voltage (in Volts)=');\n",
"I_f=V_t/R_f;\n",
"E_a=E_a3;\n",
"VR=(V_nL-V_t)*100/V_t;\n",
"disp(VR,'(b) Voltage Regulation (%)=');\n",
"P_o=V_t*I_L;//power output\n",
"P_cu=R_a*(I_L+I_f)^2+R_f*I_f^2;//copper loss\n",
"P_d=P_o+P_cu;//power developed\n",
"P_in=P_d+P_r;//power input\n",
"Eff=P_o*100/P_in;\n",
"disp(Eff,'(c) Efficiency (%)=');"
   ]
   }
,
{
		   "cell_type": "markdown",
		   "metadata": {},
		   "source": [
			"## Example 5.7: Find_the_voltage_between_far_end_of_feeder_and_bus_bar.sce"
		   ]
		  },
  {
"cell_type": "code",
	   "execution_count": null,
	   "metadata": {
	    "collapsed": true
	   },
	   "outputs": [],
"source": [
"//Caption:Find the voltage between far end of feeder and bus bar\n",
"//Exa:5.7\n",
"clc;\n",
"clear;\n",
"close;\n",
"V_o=240;//bus bar voltage (in Volts)\n",
"I_d=0;\n",
"I_s=300;//current in series winding (in Amperes)\n",
"R_s=0.03;//resistance of series feild winding(in ohms)\n",
"R_a=0.02;//resistance of armature winding(in ohms)\n",
"R_fe=0.25;//resistance of feeder (in ohms)\n",
"//Refer to eqn:5.33\n",
"I_a=I_s;\n",
"E_a=0.4*I_s;//induced emf\n",
"V_d=I_s*(R_s+R_a+R_fe);//voltage drop (in Volts)\n",
"V_t=V_o+E_a-V_d;\n",
"disp(V_t,' voltage between far end of feeder and bus bar  (in Volts)=')"
   ]
   }
,
{
		   "cell_type": "markdown",
		   "metadata": {},
		   "source": [
			"## Example 5.9: Find_maximum_efficiency_of_generator.sce"
		   ]
		  },
  {
"cell_type": "code",
	   "execution_count": null,
	   "metadata": {
	    "collapsed": true
	   },
	   "outputs": [],
"source": [
"//Caption:Find maximum efficiency of generator\n",
"//Exa:5.9\n",
"clc;\n",
"clear;\n",
"close;\n",
"R_a=50*10^-3;//armature resistance (in ohms)\n",
"R_s=20*10^-3;//series field resistance\n",
"R_sh=40;//shunt field resistance\n",
"P_rot=2000;//rotational loss (in watts)\n",
"V=120;//voltage (in vollts)\n",
"I_f=V/R_sh;//shunt field current\n",
"//Refer toeqn 5.49\n",
"I_Lm=sqrt((P_rot+(R_a+R_s+R_sh)*(I_f^2))/(R_a+R_s));\n",
"P_o=I_Lm*V;//power output at max efficiency\n",
"P_cu=(((I_Lm^2)*(R_a+R_s))+((I_f^2)*R_sh));//total copper loss\n",
"P_d=P_o+P_cu;//Power developed at max efficiency\n",
"P_in=P_d+P_rot;\n",
"Eff=(P_o/P_in)*100;\n",
"disp(Eff,'Max efficiency of generator  (%)=');"
   ]
   }
],
"metadata": {
		  "kernelspec": {
		   "display_name": "Scilab",
		   "language": "scilab",
		   "name": "scilab"
		  },
		  "language_info": {
		   "file_extension": ".sce",
		   "help_links": [
			{
			 "text": "MetaKernel Magics",
			 "url": "https://github.com/calysto/metakernel/blob/master/metakernel/magics/README.md"
			}
		   ],
		   "mimetype": "text/x-octave",
		   "name": "scilab",
		   "version": "0.7.1"
		  }
		 },
		 "nbformat": 4,
		 "nbformat_minor": 0
}
