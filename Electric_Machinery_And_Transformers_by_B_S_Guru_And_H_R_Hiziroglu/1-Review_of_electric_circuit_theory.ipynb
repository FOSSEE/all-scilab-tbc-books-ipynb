{
"cells": [
 {
		   "cell_type": "markdown",
	   "metadata": {},
	   "source": [
       "# Chapter 1: Review of electric circuit theory"
	   ]
	},
{
		   "cell_type": "markdown",
		   "metadata": {},
		   "source": [
			"## Example 1.1: finding_the_max_power_delivered.sce"
		   ]
		  },
  {
"cell_type": "code",
	   "execution_count": null,
	   "metadata": {
	    "collapsed": true
	   },
	   "outputs": [],
"source": [
"// Caption:finding the max power delivered\n",
"//Exa:1.1\n",
"close;\n",
"clc;\n",
"clear;\n",
"//on applying KVL we get \n",
"i=75/50;//in Amperes\n",
"v_th=(30*i)+25;//Equivalent Thevenin voltage (in Volts)\n",
"r_th=(20*30)/(20+30);//Equivalent thevenin resistance (in Ohms)\n",
"R_load=r_th;//Load resistance=thevenin resistance (in Ohms)\n",
"disp(R_load,'load resistance (in ohms)=') //in ohms\n",
"i_load=v_th/(r_th+R_load);//in Amperes\n",
"p_max=(i_load^2)*r_th;//in Watts\n",
"disp(p_max,'max power (in watts)=')//maximum power dissipiated "
   ]
   }
,
{
		   "cell_type": "markdown",
		   "metadata": {},
		   "source": [
			"## Example 1.2: Finding_the_current_in_the_circuit_and_plot_V_vs_T_and_I_vs_T_curve.sce"
		   ]
		  },
  {
"cell_type": "code",
	   "execution_count": null,
	   "metadata": {
	    "collapsed": true
	   },
	   "outputs": [],
"source": [
"//Caption:Finding the current in the circuit and plot V vs T and I vs T curve\n",
"//Exa:1.2\n",
"clc;\n",
"clear;\n",
"close;\n",
"//Refer to figure 1.5a\n",
"L=1*10^-3;//henery\n",
"R=3;//ohms\n",
"C=200*10^-6;//faraday\n",
"disp('v(t)=14.142cos1000t')\n",
"V_m=14.142;//Peak value of applied voltage (in Volts)\n",
"V=V_m/sqrt(2);//RMS value of applied voltage (in Volts)\n",
"//On comparing with standard equation v(t)=acoswt\n",
"w=1000;//in radian/second\n",
"//Inductive impedance=jwL\n",
"Z_L=%i*w*L;//in ohms\n",
"//capacitive impedance=-j/wC\n",
"Z_c=-%i/(w*C);//in ohms\n",
"//Impedance of the circuit is given by\n",
"Z=Z_L+Z_c+R;//in ohms\n",
"I=V/Z//Current in the circuit//in Amperes\n",
"r=real(I);\n",
"i=imag(I);\n",
"magn_I=sqrt((r^2)+(i^2));//magnitude of current (in Amperes)\n",
"phase_I=atand(i/r);//phase of current (in degree)\n",
"disp(magn_I,'magnitude of current (in Amperes)');\n",
"disp(phase_I,'phase of current (in Degrees)');\n",
"xset('window',1);\n",
"xtitle('current -time plot','time (in Seconds)','current (in Amperes)');\n",
"z=linspace(0,20,10);\n",
"x=linspace(0,%pi,100);\n",
"z=2.828*cos((1000*x)+(atan(i/r)));\n",
"plot(x,z);\n",
"xset('window',2);\n",
"xtitle('voltage-time plot','time (in Seconds)','voltage (in Volts)');\n",
"x=linspace(0,%pi,100);\n",
"y=linspace(0,20,10);\n",
"y=14.142*cos(1000*x);\n",
"plot(x,y);"
   ]
   }
,
{
		   "cell_type": "markdown",
		   "metadata": {},
		   "source": [
			"## Example 1.3: Finding_the_value_of_capacitor.sce"
		   ]
		  },
  {
"cell_type": "code",
	   "execution_count": null,
	   "metadata": {
	    "collapsed": true
	   },
	   "outputs": [],
"source": [
"//Caption:Finding the value of capacitor\n",
"//Ex no.1.3\n",
"clc;\n",
"clear;\n",
"close;\n",
"I=10;//Current drawn by the load (in Amperes)\n",
"pf1=0.5;//lagging power factor\n",
"pf2=0.8;\n",
"Q1=acosd(pf1);\n",
"Q2=acosd(pf2);\n",
"I_L=10*(cosd(-Q1)+%i *sind(-Q1));//in Amperes\n",
"V=120;//source voltage (in Volts)\n",
"f=60;//frequency of source (in Hertz)\n",
"//Refer to fig 1.6(b)\n",
"//I_Lc=I_L+I_c\n",
"S=V*conj (I_L);//complex power absorbed by load (in Watts)\n",
"//On connecting capacitor across load current (I) have 0.8pf lagging\n",
"I_Lco=real (S)/(V*pf2);// current supplied by load after connecting capacitor (in Amperes)\n",
"I_Lc=I_Lco*(cosd(-Q2)+%i*(sind(-Q2)));// in Amperes\n",
"I_c=I_Lc-I_L;//in Amperes\n",
"Z_c=V/I_c;//capacitive impedance (in Ohms)\n",
"//Z_c=-jX_c\n",
"X_c=Z_c/(-%i);//Capacitive reactance\n",
"C=1/(2*%pi*f*X_c);\n",
"disp(real (C),'Value of capacitance (in Farad) is=')"
   ]
   }
,
{
		   "cell_type": "markdown",
		   "metadata": {},
		   "source": [
			"## Example 1.4: EX1_4.sce"
		   ]
		  },
  {
"cell_type": "code",
	   "execution_count": null,
	   "metadata": {
	    "collapsed": true
	   },
	   "outputs": [],
"source": [
"//Caption:Determine the line current and phase currents,power absorbed by the load and power dessipated by transmission line\n",
"//Ex no:1.4\n",
"clc;\n",
"clear;\n",
"close;\n",
"//Make delta -star conversion of load\n",
"Z_L=1+%i*2;//Impedance of each wire (in Ohms)\n",
"Z_p=(177-%i*246);//per-phase impedance (in Ohms)\n",
"Z_pY=(177-%i*246)/3;//per-phase impedance in Y-connection (in Ohms)\n",
"Z=Z_L+Z_pY;//Total per phase impedance (in Ohms)\n",
"V=866/sqrt(3);//Per-phase voltage (in Volts)\n",
"V_phase=0;\n",
"I=V/Z;//Current in the circuit (in Ampere)\n",
"r=real(I);\n",
"i=imag(I);\n",
"I_mag=sqrt((r^2)+(i^2));//magnitude of current (in Amperes)\n",
"I_phase=atand(i/r);//phase of current (in Degrees)\n",
"pf=cosd(I_phase);//power factor\n",
"//Refer to fig:1.13(b)\n",
"//Source are connected in star,so phase currents = line currents\n",
"I_na_mag=I_mag;//Magnitude of Source current through n-a (in Amperes)\n",
"I_nb_mag=I_mag;//Magnitude of Source current through n-b (in Amperes)\n",
"I_nc_mag=I_mag;//Magnitude of Source current through n-c (in Amperes)\n",
"I_na_phase=I_phase+(0);//phase angle of current through n-a (in Degree)\n",
"I_nb_phase=I_phase+(-120);//phase angle of current through n-b (in Degree)\n",
"I_nc_phase=I_phase+(120);//phase angle of current through n-c (in Degree)\n",
"disp(I_na_mag,'I_na_mag (in Amperes)=');\n",
"disp(I_na_phase,'I_na_phase (in Degrees)=');\n",
"disp(I_nb_mag,'I_nb_mag (in Amperes)=');\n",
"disp(I_nb_phase,'I_nb_phase (in Degrees)=');\n",
"disp(I_nc_mag,'I_nc_mag (in Amperes)=');\n",
"disp(I_nc_phase,'I_nc_phase (in Degrees)=');\n",
"//Load is connected in delta network\n",
"I_AB_mag=I_mag/sqrt(3);//magnitude of current through AB (in Amperes)\n",
"I_BC_mag=I_mag/sqrt(3);//magnitude of current through BC (in Amperes)\n",
"I_CA_mag=I_mag/sqrt(3);//magnitude of current through CA (in Amperes)\n",
"I_AB_phase=I_na_phase+30;//phase angle of current through AB (in Degrees)\n",
"I_BC_phase=I_nb_phase+30;//phase angle of current through BC (in Degrees)\n",
"I_CA_phase=I_nb_phase-90;//phase angle of current through CA (in Degrees)\n",
"disp(I_AB_mag,'I_AB_mag (in Amperes)=');\n",
"disp(I_AB_phase,'I_AB_phase (in Degrees)=');\n",
"disp(I_BC_mag,'I_BC_mag (in Amperes)=');\n",
"disp(I_BC_phase,'I_BC_phase (in Degrees)=');\n",
"disp(I_CA_mag,'I_CA_mag (in Amperes)=');\n",
"disp(I_CA_phase,'I_CA_phase (in Degrees)=');\n",
"I_AB=I_AB_mag*(cosd(I_AB_phase)+%i*sind(I_AB_phase));//(in Amperes)\n",
"P_load=3*I_AB_mag^2*real(Z_p);//in watts\n",
"disp(real (P_load),'Power dissipated (in Watts)=');\n",
"P_line=3*I_mag^2*real(Z_L);//in watts\n",
"disp(P_line,'Power dissipated by transmission line (in Watts)=')"
   ]
   }
,
{
		   "cell_type": "markdown",
		   "metadata": {},
		   "source": [
			"## Example 1.6: Determine_load_current_load_voltage_load_power_and_power_factor.sce"
		   ]
		  },
  {
"cell_type": "code",
	   "execution_count": null,
	   "metadata": {
	    "collapsed": true
	   },
	   "outputs": [],
"source": [
"//Caption:Determine load current,load voltage,load power and power factor \n",
"//Exa:1.6\n",
"clc;\n",
"clear;\n",
"close;\n",
"//Refer to the fig:1.16\n",
"R=40;//in ohms\n",
"L=%i*30;//in ohms\n",
"V=117*((cosd(0)+%i*sind(0)));//in Volts\n",
"//Equivalent load impedance is obtained by parallel combination of Resistance R and Inductance L\n",
"Z_L=(R*L)/(R+L);//load impedance (in Ohms)\n",
"Z1=0.6+%i*16.8;// in Ohms\n",
"Z=Z_L+Z1;//Equivalent impedance of circuit (in Ohms) \n",
"I=V/Z;//current through load (in Amperes)\n",
"r1=real(I);\n",
"i1=imag(I);\n",
"I_mag=sqrt(r1^2+i1^2);//magnitude of current flowing through load (in Amperes)\n",
"disp(I_mag,'Reading of ammeter (in Amperes)=');\n",
"V_L=I*Z_L;//voltage across load (in Volts)\n",
"r2=real(V_L);\n",
"i2=imag(V_L);\n",
"V_L_mag=sqrt(r2^2+i2^2);//magnitude of voltage across load (in Volts)\n",
"disp(V_L_mag,'Reading of voltmeter (in Volts)=');\n",
"P=real (V_L*conj(I));//Power developed (in Watts)\n",
"disp(P,'Reading of wattmeter (in Watts)=');\n",
"pf=P/(V_L_mag*I_mag);//Power factor\n",
"disp(pf,'power factor=')"
   ]
   }
,
{
		   "cell_type": "markdown",
		   "metadata": {},
		   "source": [
			"## Example 1.7: Determine_the_reading_of_two_wattmeters_total_power_and_power_factor.sce"
		   ]
		  },
  {
"cell_type": "code",
	   "execution_count": null,
	   "metadata": {
	    "collapsed": true
	   },
	   "outputs": [],
"source": [
"//Caption:Determine the reading of two wattmeters,total power and power factor\n",
"//Exa:1.7\n",
"clc;\n",
"clear;\n",
"close;\n",
"//transforming delta connected source into an equivalent Star-connected source\n",
"V_s=1351;//source voltage (in Volts)\n",
"V=1351/sqrt(3);//in volts\n",
"V_phase=0;\n",
"Z=360+%i*150;//per-phase impedance(in ohms)\n",
"I=V/Z;//current in the circuit (in Amperes)\n",
"r=real(I);\n",
"i=imag(I);\n",
"I_mag=sqrt(r^2+i^2);//in ampere\n",
"I_phase=atand(i/r);//degree\n",
"//Refer to fig 1.19(a)\n",
"V_ab=1351*(cosd(-30)+%i*sind(-30));//in Volts\n",
"I_aA=2*(cosd(I_phase)+%i*sind(I_phase));//in Amperes\n",
"V_cb=1351*(cosd(-90)+%i*sind(-90));//in Volts\n",
"I_cC=2*(cosd(I_phase-120)+%i*sind(I_phase-120));//in Amperes\n",
"P1=real(V_ab*conj(I_aA));//reading of wattmeter 1 (in Watts)\n",
"disp(P1,'Reading of wattmeter W1 (in Watts) =');\n",
"P2=real(V_cb*conj(I_cC));//reading of wattmeter 2 (in Watts)\n",
"disp(P2,'Reading of wattmeter W2 (in Watts)=');\n",
"P=P1+P2;//total power developed (in Watts)\n",
"disp(P,'Total power developed (in Watts)=' );\n",
"pf=cosd(I_phase);//power factor\n",
"disp(pf,'power factor=')"
   ]
   }
],
"metadata": {
		  "kernelspec": {
		   "display_name": "Scilab",
		   "language": "scilab",
		   "name": "scilab"
		  },
		  "language_info": {
		   "file_extension": ".sce",
		   "help_links": [
			{
			 "text": "MetaKernel Magics",
			 "url": "https://github.com/calysto/metakernel/blob/master/metakernel/magics/README.md"
			}
		   ],
		   "mimetype": "text/x-octave",
		   "name": "scilab",
		   "version": "0.7.1"
		  }
		 },
		 "nbformat": 4,
		 "nbformat_minor": 0
}
