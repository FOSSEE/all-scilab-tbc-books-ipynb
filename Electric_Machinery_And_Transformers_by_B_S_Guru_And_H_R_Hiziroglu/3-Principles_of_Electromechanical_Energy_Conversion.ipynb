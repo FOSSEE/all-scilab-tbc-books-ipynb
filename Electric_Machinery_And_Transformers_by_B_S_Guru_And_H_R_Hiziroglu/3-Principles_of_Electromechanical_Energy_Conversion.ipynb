{
"cells": [
 {
		   "cell_type": "markdown",
	   "metadata": {},
	   "source": [
       "# Chapter 3: Principles of Electromechanical Energy Conversion"
	   ]
	},
{
		   "cell_type": "markdown",
		   "metadata": {},
		   "source": [
			"## Example 3.1: Find_the_mass_of_object_and_energy_stored_in_the_feild.sce"
		   ]
		  },
  {
"cell_type": "code",
	   "execution_count": null,
	   "metadata": {
	    "collapsed": true
	   },
	   "outputs": [],
"source": [
"//Caption:Find the mass of object and energy stored in the feild\n",
"//Exa:3.1\n",
"clc;\n",
"clear;\n",
"close;\n",
"A=20*10^-4;//surface area of each  capacitor's plate \n",
"d=5*10^-3;//separation between the plates\n",
"e=(10^-9)/(36*%pi);//permetivity of air\n",
"V=10*10^3;//potential diff. between the plates\n",
"F_e=(e*A*V^2)/(2*d^2);//electric force\n",
"g=9.81;//acceleration due to gravity (in meter/second^2)\n",
"//For condt of balancing electric force=weight of object\n",
"//F_e=m*g\n",
"m=F_e/g;\n",
"disp(m*1000,'mass of object (in grams)=');\n",
"W_f=(e*A*V^2)/(2*d);\n",
"disp(W_f*1000000,'energy stored in the feild (in micro-joules)=')"
   ]
   }
,
{
		   "cell_type": "markdown",
		   "metadata": {},
		   "source": [
			"## Example 3.3: Find_the_energy_stored_in_the_magnetic_feild.sce"
		   ]
		  },
  {
"cell_type": "code",
	   "execution_count": null,
	   "metadata": {
	    "collapsed": true
	   },
	   "outputs": [],
"source": [
"//Caption:Find the energy stored in the magnetic feild\n",
"//Exa:3.3\n",
"clc;\n",
"clear;\n",
"close;\n",
"//i=current in the ckt (in Amperes)\n",
"//x=total flux linkage\n",
"function i=f(x),i=x/(6-(2*x)),endfunction;\n",
"//Refer to eqn:3.18\n",
"W_m=intg(0,2,f);//Energy stored in magnetic feild\n",
"disp(W_m,'Energy stored in magnetic feild (in Joules)=')"
   ]
   }
,
{
		   "cell_type": "markdown",
		   "metadata": {},
		   "source": [
			"## Example 3.4: Find_the_current_in_the_coil_and_energy_stored_in_the_system.sce"
		   ]
		  },
  {
"cell_type": "code",
	   "execution_count": null,
	   "metadata": {
	    "collapsed": true
	   },
	   "outputs": [],
"source": [
"//Caption:Find the current in the coil and energy stored in the system\n",
"//Exa:3.4\n",
"clc;\n",
"clear;\n",
"close;\n",
"N=100;//no. of turns of coil\n",
"A=10^-4;//area \n",
"x=1*10^-2;//length of air gap\n",
"u_o=4*%pi*10^-7;//permeablity of air\n",
"u_r=2000;//permeablity of magnetic material\n",
"D=7.85*10^3;//density of material (in kg/m^3)\n",
"V=11*10^-6;//volume of material\n",
"m=D*V;//mass of material\n",
"g=9.81;//acceleration due to gravity\n",
"//Refer to fig:3.7\n",
"R_o=(15.5*10^-2)/(u_o*u_r*A);//reluctance of outer legs\n",
"R_c=(5.5*10^-2)/(u_o*u_r*A);//reluctance of central leg\n",
"function y = L ( x );//inductance\n",
"y = (N^2)/ R ( x );\n",
"endfunction;\n",
"function y = R ( x );//total reluctance \n",
"y = R_c+R_g(x)+(0.5*(R_o+R_g(x)));\n",
"endfunction;\n",
"function y = R_g ( x );//reluctance of air gap\n",
"y = x/(u_o*A);\n",
"endfunction;\n",
"x = [0.01 ]';     // Points of interest\n",
"t=[diag(derivative(L,x))];//t=dL/dx (at x=0.01m)\n",
"//since t<o,i.e,F_m is acting in opp direction that of weight  \n",
"//for equilibrium F_m=m*g\n",
"I=sqrt((m*g)/(0.5*t*(-1)));//Refer to eqn3.23\n",
"disp(I,'current in the coil (in Amperes)=');\n",
"L_o=L(.01);\n",
"W_f=0.5*L_o*I^2;\n",
"disp(W_f*10^3,'energy stored in the magnetic feild  (in mili-Joules)=')"
   ]
   }
,
{
		   "cell_type": "markdown",
		   "metadata": {},
		   "source": [
			"## Example 3.5: Find_the_current_in_the_coil.sce"
		   ]
		  },
  {
"cell_type": "code",
	   "execution_count": null,
	   "metadata": {
	    "collapsed": true
	   },
	   "outputs": [],
"source": [
"//Caption:Find the current in the coil\n",
"//Exa:3.5\n",
"clc;\n",
"clear;\n",
"T=20;//torque exerted by spring (in Newton-meter)\n",
"r=0.2;//radius of spring (in meter)\n",
"F_s=T/r;//force exerted by spring on magnetic plate\n",
"N=1000;//no. of turns in coil\n",
"u_o=4*%pi*10^-7;//permablityof air\n",
"A=9*10^-4;//area (in meter^2)\n",
"function y = L ( x );//inductance\n",
"y = (N^2)/ R ( x );\n",
"endfunction;\n",
"function y = R ( x );//reluctance of air gap\n",
"y = (2*x)/(u_o*A);\n",
"endfunction;\n",
"x = [0.001 ]';     // Points of interest\n",
"t=[diag(derivative(L,x))];//t=dL/dx (at x=0.001m)\n",
"//since t<o i.e,F_m is acting in opp direction that of weight  \n",
"//for equilibrium F_m=F_s\n",
"I=sqrt((2*F_s)/(t*(-1)));//Refer to eqn3.23\n",
"disp(I,'current in the coil (in Amperes)=')"
   ]
   }
,
{
		   "cell_type": "markdown",
		   "metadata": {},
		   "source": [
			"## Example 3.6: EX3_6.sce"
		   ]
		  },
  {
"cell_type": "code",
	   "execution_count": null,
	   "metadata": {
	    "collapsed": true
	   },
	   "outputs": [],
"source": [
"//Caption:Find the (a) frequency of induced emf (b)max value of induced emf  (c)rms value of induced emf  (d)average value of induced emf\n",
"//Exa:3.6\n",
"clc;\n",
"clear;\n",
"close;\n",
"N=100;//no. of turns in coil\n",
"P=4;//number of poles\n",
"N_m=1800;//rotor speed (in rpm)\n",
"flux_p=4.5*10^-3;//flux per pole (in Wb)\n",
"f=(P*N_m)/120;//Refer to eqn:3.30a\n",
"disp(f,'(a) frequency of induced emf (in Hertz)=');\n",
"//refer to eqn:3.31\n",
"E_m=(2*%pi*P*flux_p*N_m)/120;//max value of induced emf per turn\n",
"E_mc=N*E_m;\n",
"disp(E_mc,'(b) max value of induced emf in coil (in Volts)=');\n",
"E_rms=E_mc/sqrt(2);\n",
"disp(E_rms,'(c) rms value of induced emf (in Volts)=');\n",
"E_avg=(2*E_mc)/%pi;\n",
"disp(E_avg,'(d) average value of induced emf (in Volts)=')"
   ]
   }
,
{
		   "cell_type": "markdown",
		   "metadata": {},
		   "source": [
			"## Example 3.7: Find_the_synchronous_speed_and_percent_slip_of_the_motor.sce"
		   ]
		  },
  {
"cell_type": "code",
	   "execution_count": null,
	   "metadata": {
	    "collapsed": true
	   },
	   "outputs": [],
"source": [
"//Caption:Find the synchronous speed and percent slip of the motor\n",
"//Exa:3.7\n",
"clc;\n",
"clear;\n",
"close;\n",
"P=4;//no. of pole\n",
"f=50;//frequency (in Hz)\n",
"N_r=1200;//speed of rotor(in rpm)\n",
"N_s=(120*f)/P;\n",
"disp(N_s,'synchronous speed (in rpm)=');\n",
"s=(N_s-N_r)/N_s;//slip\n",
"s_p=s*100;\n",
"disp(s_p,'percent slip of the motor(%)=')"
   ]
   }
,
{
		   "cell_type": "markdown",
		   "metadata": {},
		   "source": [
			"## Example 3.8: Find_the_rotor_speed_and_average_torque_developed_by_motor.sce"
		   ]
		  },
  {
"cell_type": "code",
	   "execution_count": null,
	   "metadata": {
	    "collapsed": true
	   },
	   "outputs": [],
"source": [
"//Caption:Find the rotor speed and average torque developed by motor\n",
"//Exa:3.8\n",
"clc;\n",
"clear;\n",
"close;\n",
"N=2;//no. of poles\n",
"f=60;//frequency in Hz\n",
"I_rms=10;//current intake\n",
"L_q=1;//min inductance (in H)\n",
"L_d=2;//max inductance(inH)\n",
"w=2*%pi*f;\n",
"disp(w,'rotor speed(in rad/sec)=');\n",
"//Refer to eqn:3.52\n",
"T_avg=(-1)*0.125*(L_d-L_q)*((I_rms*sqrt(2))^2)*sind(2*45);\n",
"if ( T_avg <0 ) then;\n",
"disp ((T_avg*(-1)), 'average torque developed by motor (in Newton-meter)=');\n",
"else;\n",
"disp (T_avg,'average torque developed by motor (in Newton-meter)=');\n",
"end"
   ]
   }
,
{
		   "cell_type": "markdown",
		   "metadata": {},
		   "source": [
			"## Example 3.9: Find_the_restraining_force_of_the_spring.sce"
		   ]
		  },
  {
"cell_type": "code",
	   "execution_count": null,
	   "metadata": {
	    "collapsed": true
	   },
	   "outputs": [],
"source": [
"//Caption:Find the restraining force of the spring\n",
"//Exa:3.9\n",
"clc;\n",
"clear;\n",
"close;\n",
"N=500;//no. of turns\n",
"u_o=4*%pi*10^-7;//Permeablity of air\n",
"I=4.2;//main winding current(in A)\n",
"A=2.25*10^-4;//area of air gap(in m^2)\n",
"x=0.002;//length of air gap(in m)\n",
"i=I*1.50;//min current needed for activating relay\n",
"F_m=u_o*A*0.5*((N*i)/x)^2;//Refer to eqn 3.53\n",
"disp(F_m,'restraining force of the spring(in Newton)=')"
   ]
   }
],
"metadata": {
		  "kernelspec": {
		   "display_name": "Scilab",
		   "language": "scilab",
		   "name": "scilab"
		  },
		  "language_info": {
		   "file_extension": ".sce",
		   "help_links": [
			{
			 "text": "MetaKernel Magics",
			 "url": "https://github.com/calysto/metakernel/blob/master/metakernel/magics/README.md"
			}
		   ],
		   "mimetype": "text/x-octave",
		   "name": "scilab",
		   "version": "0.7.1"
		  }
		 },
		 "nbformat": 4,
		 "nbformat_minor": 0
}
