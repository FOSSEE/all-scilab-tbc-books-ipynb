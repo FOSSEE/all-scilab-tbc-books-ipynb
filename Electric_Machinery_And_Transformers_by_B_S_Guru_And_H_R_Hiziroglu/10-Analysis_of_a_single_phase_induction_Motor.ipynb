{
"cells": [
 {
		   "cell_type": "markdown",
	   "metadata": {},
	   "source": [
       "# Chapter 10: Analysis of a single phase induction Motor"
	   ]
	},
{
		   "cell_type": "markdown",
		   "metadata": {},
		   "source": [
			"## Example 10.1: EX10_1.sce"
		   ]
		  },
  {
"cell_type": "code",
	   "execution_count": null,
	   "metadata": {
	    "collapsed": true
	   },
	   "outputs": [],
"source": [
"//Caption:Find the per-unit slip (a) in the direction of rotation (b) in opposite direction and effective rotor resistance in each branch\n",
"//Exa:10.1\n",
"clc;\n",
"clear;\n",
"close;\n",
"P=4;//no. of poles\n",
"f=60;//frequency in Hertzs\n",
"R2=12.5;//rotor resistance (in ohms)\n",
"N_s=120*f/P;//synchronous speed of motor(in rpm)\n",
"N_m=1710;//speed of motor in clockwise direction (in rpm)\n",
"s=(N_s-N_m)/N_s;\n",
"disp(s,'(a) slip in forward direction=');\n",
"s_b=2-s;\n",
"disp(s_b,'(b) slip in backward direction=');\n",
"//effective rotor resistance\n",
"R_f=0.5*R2/s;//(in forward branch)\n",
"disp(R_f,'effective rotor resistance in forward branch (in ohms)=');\n",
"R_b=0.5*R2/s_b;//(in backward direction)\n",
"disp(R_b,'effective rotor resistance in backward branch (in ohms)=');"
   ]
   }
,
{
		   "cell_type": "markdown",
		   "metadata": {},
		   "source": [
			"## Example 10.2: Find_the_shaft_torque_and_the_efficiency_of_the_motor.sce"
		   ]
		  },
  {
"cell_type": "code",
	   "execution_count": null,
	   "metadata": {
	    "collapsed": true
	   },
	   "outputs": [],
"source": [
"//Caption:Find the shaft torque and the efficiency of the motor\n",
"//Exa:10.2\n",
"clc;\n",
"clear;\n",
"close;\n",
"V=120;//in volts\n",
"f=60;//frequency in Hertzs\n",
"P=4;//no. of poles\n",
"R1=2.5;//in ohms\n",
"X1=(%i)*1.25;\n",
"R2=3.75;\n",
"X2=(%i)*1.25;\n",
"X_m=(%i)*65;\n",
"N_m=1710;//speed of motor (in rpm)\n",
"P_c=25;//core lossv(in Watts)\n",
"P_fw=2;//friction and windage loss (in Watts)\n",
"N_s=120*f/P;//synchronous speed of motor\n",
"s=(N_s-N_m)/N_s;//slip\n",
"Z_f=(X_m*((R2/s)+X2)*0.5)/((R2/s)+(X2+X_m));//forward impedance\n",
"Z_b=(X_m*((R2/(2-s))+X2)*0.5)/((R2/(2-s))+(X2+X_m));//backward impedance\n",
"Z_in=R1+X1+Z_f+Z_b;\n",
"I_1=V/Z_in;\n",
"P_in=real(V*conj(I_1));\n",
"I_2f=X_m*I_1/((R2/s)+(X1+X_m));//forward current\n",
"I_2b=X_m*I_1/((R2/(2-s))+(X1+X_m));//backward current\n",
"P_agf=0.5*(R2/s)*(abs(I_2f))^2;//air gap power in forward path\n",
"P_agb=0.5*(R2/(2-s))*(abs(I_2b))^2;//air gap power in backward path\n",
"P_ag=P_agf-P_agb;//net air gap power\n",
"P_d=(1-s)*P_ag;//gross power developed\n",
"P_o=P_d-P_c-P_fw;//net power output\n",
"w_m=2*(%pi)*N_m/60;\n",
"T_s=P_o/w_m;\n",
"disp(T_s,'shaft torque (in Newton-meter)=');\n",
"Eff=P_o/P_in;\n",
"disp(Eff*100,'Efficiency of motor (%)=');"
   ]
   }
,
{
		   "cell_type": "markdown",
		   "metadata": {},
		   "source": [
			"## Example 10.3: Find_the_line_current.sce"
		   ]
		  },
  {
"cell_type": "code",
	   "execution_count": null,
	   "metadata": {
	    "collapsed": true
	   },
	   "outputs": [],
"source": [
"//Caption:Find the (a)line current (b)power input (c)efficiency (d)shaft torque (e)voltage drop across capacitor (f)starting torque\n",
"//Exa:10.3\n",
"clc;\n",
"clear;\n",
"close;\n",
"V1=230;//in volts\n",
"f=50;//frequency in Hz\n",
"P=6;//no. of poles\n",
"R1=34.14;//in ohms\n",
"X1=(%i)*35.9;\n",
"R_a=149.78;\n",
"X2=(%i)*29.32;\n",
"X_m=(%i)*248.59;\n",
"R2=23.25;\n",
"a=1.73;\n",
"C=4*10^-6;//in Farad\n",
"P_c=19.88;//core loss\n",
"P_fw=1.9;//friction and windage loss\n",
"N_m=940;//speed of motor in rpm\n",
"N_s=120*f/P;//synchronous speed of motor\n",
"s=(N_s-N_m)/N_s;//slip\n",
"w_m=2*%pi*N_m/60;//in rad/sec\n",
"X_c=-%i/(2*%pi*f*C);//reactance of capacitance\n",
"Z_f=(X_m*((R2/s)+X2)*0.5)/((R2/s)+(X2+X_m));//forward impedance\n",
"Z_b=(X_m*((R2/(2-s))+X2)*0.5)/((R2/(2-s))+(X2+X_m));//backward impedance\n",
"Z_11=R1+X1+Z_f+Z_b;//in ohms\n",
"Z_12=-%i*a*(Z_f-Z_b);//in ohms\n",
"Z_21=-Z_12;//in ohms\n",
"Z_22=a*a*(Z_f+Z_b+X1)+R_a+X_c;//in ohms\n",
"I_1=V1*(Z_22-Z_12)/(Z_11*Z_22-Z_12*Z_21);//current in main winding\n",
"I_2=V1*(Z_11-Z_21)/(Z_11*Z_22-Z_12*Z_21);//current in auxilary winding\n",
"I_L=I_1+I_2;\n",
"disp(abs(I_L),'(a) magnitude of line current (in Amperes)=');\n",
"disp(atand(imag(I_L)/real(I_L)),'  phase of line current (in Degree)');\n",
"P_in=real(V1*conj(I_L));\n",
"disp(P_in,'(b) power input (in Watts)=');\n",
"P_agf=real((I_1*Z_f-%i*I_2*a*Z_f)*conj(I_1)+(I_2*a*a*Z_f+%i*I_1*a*Z_f)*conj(I_2));//air gap power developed by forward field\n",
"P_agb=real((I_1*Z_b+%i*I_2*a*Z_b)*conj(I_1)+(I_2*a*a*Z_b-%i*I_1*a*Z_b)*conj(I_2));//air gap power developed by backward field\n",
"P_ag=P_agf-P_agb;\n",
"P_d=(1-s)*P_ag;//power developed\n",
"P_o=P_d-P_c-P_fw;//output power\n",
"disp(P_o*100/P_in,'(c) Efficiency of motor (%)=');\n",
"T_s=P_o/w_m;\n",
"disp(T_s,'(d) shaft torque (in Newton-meter)=');\n",
"V_c=I_2*X_c;\n",
"disp(abs(V_c),'(e) magnitude of voltage across capacitor (in Volts)=');\n",
"disp(atand(imag(V_c)/real(V_c)),'    phase of voltage across capacitor (in Degree)=');\n",
"//for starting torque\n",
"s=1;\n",
"s_b=1;\n",
"w_s=2*%pi*N_s/60;\n",
"Z_f=(X_m*((R2/s)+X2)*0.5)/((R2/s)+(X2+X_m));//forward impedance\n",
"Z_b=(X_m*((R2/(2-s))+X2)*0.5)/((R2/(2-s))+(X2+X_m));//backward impedance\n",
"Z_11=R1+X1+Z_f+Z_b;//in ohms\n",
"Z_12=-%i*a*(Z_f-Z_b);//in ohms\n",
"Z_21=-Z_12;//in ohms\n",
"Z_22=a*a*(Z_f+Z_b+X1)+R_a+X_c;//in ohms\n",
"I_1s=V1*(Z_22-Z_12)/(Z_11*Z_22-Z_12*Z_21);//current in main winding\n",
"I_2s=V1*(Z_11-Z_21)/(Z_11*Z_22-Z_12*Z_21);//current in auxilary winding\n",
"I_Ls=I_1s+I_2s;\n",
"P_in=real(V1*conj(I_Ls));\n",
"P_agf=real((I_1s*Z_f-%i*I_2s*a*Z_f)*conj(I_1s)+(I_2s*a*a*Z_f+%i*I_1s*a*Z_f)*conj(I_2s));//air gap power developed by forward field\n",
"P_agb=real((I_1s*Z_b+%i*I_2s*a*Z_b)*conj(I_1s)+(I_2s*a*a*Z_b-%i*I_1s*a*Z_b)*conj(I_2s));//air gap power developed by backward field\n",
"P_ag=P_agf-P_agb;\n",
"T_s=P_ag/w_s;\n",
"disp(T_s,'(f) starting torque (in Newton-meter)=');"
   ]
   }
,
{
		   "cell_type": "markdown",
		   "metadata": {},
		   "source": [
			"## Example 10.4: Find_the_equivalent_circuit_parameters.sce"
		   ]
		  },
  {
"cell_type": "code",
	   "execution_count": null,
	   "metadata": {
	    "collapsed": true
	   },
	   "outputs": [],
"source": [
"//Caption:Find the equivalent circuit parameters\n",
"//Exa:10.4\n",
"clc;\n",
"clear;\n",
"close;\n",
"R_m=2.5;//main winding resistance\n",
"R_a=100;//auxilary winding resistance\n",
"//blocked-rotor test\n",
"V_bm=25;//voltage (in Volts)\n",
"I_bm=3.72;//current (in Amperes)\n",
"P_bm=86.23;//power (in Watts)\n",
"//with auxilary winding open no load test\n",
"V_nL=115;//voltage (in Volts)\n",
"I_nL=3.2;//current (in Amperes)\n",
"P_nL=55.17;//power (in Watts)\n",
"//with main winding open blocked rotor test\n",
"V_ba=121;//voltage (in Volts)\n",
"I_ba=1.2;//current (in Amperes)\n",
"P_ba=145.35;//power (in Watts)\n",
"Z_bm=V_bm/I_bm;\n",
"R_bm=P_bm/I_bm^2;\n",
"X_bm=sqrt(Z_bm^2-R_bm^2);\n",
"X1=0.5*X_bm;\n",
"X2=X1;\n",
"R2=R_bm-R_m;\n",
"disp(X1,'X1 (in ohms)=');\n",
"disp(X2,'X2 (in ohms)=');\n",
"disp(R2,'R2 (in ohms)=');\n",
"Z_nL=V_nL/I_nL;\n",
"R_nL=P_nL/I_nL^2;\n",
"X_nL=sqrt(Z_nL^2-R_nL^2);\n",
"X_m=2*X_nL-0.75*X_bm;\n",
"P_r=P_nL-I_nL^2*(R_m+0.25*R2);\n",
"disp(int(P_r),'P_r (in Watts)=');\n",
"disp(X_m,'X_m (in ohms)=');\n",
"Z_ba=V_ba/I_ba;\n",
"R_ba=P_ba/I_ba^2;\n",
"R_2a=R_ba-R_a;\n",
"alpha=sqrt(R_2a/R2);\n",
"disp(alpha,'alpha=');"
   ]
   }
,
{
		   "cell_type": "markdown",
		   "metadata": {},
		   "source": [
			"## Example 10.5: Find_the_induced_emf_in_the_armature.sce"
		   ]
		  },
  {
"cell_type": "code",
	   "execution_count": null,
	   "metadata": {
	    "collapsed": true
	   },
	   "outputs": [],
"source": [
"//Find the (a) induced emf in the armature (b) power output (c) shaft torque (d) efficiency\n",
"//Exa:10.5\n",
"clc;\n",
"clear;\n",
"close;\n",
"V_s=120;//in Volts\n",
"P_rot=80;//rotational loss (in Watts)\n",
"N_m=8000;//speed of motor (in rpm)\n",
"pf=0.912;//lagging\n",
"theta=-acosd(pf);\n",
"I_a=17.58*(cosd(theta)+(%i*sind(theta)));//in Amperes\n",
"Z_s=0.65+%i*1.2;//series field winding impedance (in ohms)\n",
"Z_a=1.36+%i*1.6;//armature winding impedance (in ohms)\n",
"E_a=V_s-I_a*(Z_s+Z_a);//induced emf (in Volts)\n",
"disp(abs(E_a),'(a) induced emf in the armature (in Volts)=');\n",
"disp(atand(imag(E_a)/real(E_a)),'phase of induced emf in the armature (in Degree)=');\n",
"P_d=real(E_a*conj(I_a));\n",
"P_o=P_d-P_rot;\n",
"disp(P_o,'(b) power output (in Watts)=');\n",
"w_m=2*%pi*N_m/60;//rated speed of motor (in rad/sec)\n",
"T_s=P_o/w_m;\n",
"disp(T_s,'(c) shaft torque (in Newton-meter)=');\n",
"P_in=V_s*abs(I_a)*pf;\n",
"Eff=P_o*100/P_in;\n",
"disp(Eff,'(d) Efficiency (%)=');"
   ]
   }
],
"metadata": {
		  "kernelspec": {
		   "display_name": "Scilab",
		   "language": "scilab",
		   "name": "scilab"
		  },
		  "language_info": {
		   "file_extension": ".sce",
		   "help_links": [
			{
			 "text": "MetaKernel Magics",
			 "url": "https://github.com/calysto/metakernel/blob/master/metakernel/magics/README.md"
			}
		   ],
		   "mimetype": "text/x-octave",
		   "name": "scilab",
		   "version": "0.7.1"
		  }
		 },
		 "nbformat": 4,
		 "nbformat_minor": 0
}
