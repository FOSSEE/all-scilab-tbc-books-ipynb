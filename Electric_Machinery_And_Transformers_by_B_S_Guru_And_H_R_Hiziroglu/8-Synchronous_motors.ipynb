{
"cells": [
 {
		   "cell_type": "markdown",
	   "metadata": {},
	   "source": [
       "# Chapter 8: Synchronous motors"
	   ]
	},
{
		   "cell_type": "markdown",
		   "metadata": {},
		   "source": [
			"## Example 8.1: Find_the_generated_voltage_and_efficiency_of_motor.sce"
		   ]
		  },
  {
"cell_type": "code",
	   "execution_count": null,
	   "metadata": {
	    "collapsed": true
	   },
	   "outputs": [],
"source": [
"//Caption:Find the generated voltage and efficiency of motor\n",
"//Exa:8.1\n",
"clc;\n",
"clear;\n",
"close;\n",
"R_s=(%i)*5;//synchronous reactance of motor\n",
"P_o=10*746;//power output (in Watts)\n",
"P_rot=230;//rotational loss (in Watts)\n",
"P_d=P_o+P_rot;//power developed (in Watts)\n",
"V=230;//in volts\n",
"V_a=V/sqrt(3);//rms value of per phase voltage\n",
"P_fw=70;//feild winding loss\n",
"pf=0.707;//power factor (leading)\n",
"theta=acosd(pf);\n",
"I_ao=P_d/(pf*V*sqrt(3));\n",
"P_in=P_d+P_fw;\n",
"Eff=(P_o/P_in)*100;\n",
"disp(Eff,'efficiency (%)=');\n",
"I_a=I_ao*(cosd(theta)+(%i)*sind(theta));\n",
"E_a=V_a-(I_a*R_s);\n",
"disp(abs(E_a),'magnitude of generated voltage (in Volts)=');\n",
"disp(atand(imag(E_a)/real(E_a)),'Phase angle of generated voltage (in Degree)=');"
   ]
   }
,
{
		   "cell_type": "markdown",
		   "metadata": {},
		   "source": [
			"## Example 8.2: Find_the_excitation_voltage_and_power_developed.sce"
		   ]
		  },
  {
"cell_type": "code",
	   "execution_count": null,
	   "metadata": {
	    "collapsed": true
	   },
	   "outputs": [],
"source": [
"//Caption:Find the excitation voltage and power developed \n",
"//Exa:8.2\n",
"clc;\n",
"clear;\n",
"close;\n",
"V=480;//in volts\n",
"V_a=V/sqrt(3);//per phase applied voltage\n",
"I_a=50;//in Amperes\n",
"R_a=0.5;//armature winding resistance\n",
"X_d=(%i)*3.5;//d-axis reactance\n",
"X_q=(%i)*2.5;//q-axis reactance\n",
"E_ao=V_a-(I_a*R_a)-(I_a*X_q);\n",
"delta=atand(imag(E_ao)/real(E_ao));\n",
"I_d=I_a* sind(abs(delta))*(cosd(90+delta)+(%i)*sind(90+delta));//d-axis current\n",
"E_a=E_ao-(I_d*(X_d-X_q));\n",
"E_L=E_a*sqrt(3);\n",
"disp(abs(E_L),'rms value of excitation voltage (in Volts)=');\n",
"P_d=3*real(E_ao*conj(I_a));\n",
"disp(P_d/1000,'power developed by motor (in Kilo-Watts)=');"
   ]
   }
,
{
		   "cell_type": "markdown",
		   "metadata": {},
		   "source": [
			"## Example 8.3: Find_power_factor_power_angle_line_to_line_excitation_voltage_torque_developed.sce"
		   ]
		  },
  {
"cell_type": "code",
	   "execution_count": null,
	   "metadata": {
	    "collapsed": true
	   },
	   "outputs": [],
"source": [
"//Caption:Find (a) power factor (b) power angle (c) line to line excitation voltage (d) torque developed\n",
"//Exa:8.3\n",
"clc;\n",
"clear;\n",
"close;\n",
"V=440;//in volts\n",
"V_a=V/sqrt(3);//per phase voltage\n",
"w_m=188.5;//rad/sec\n",
"X_s=(%i)*(36/3);//per phase reactance\n",
"E_ao=560/sqrt(3);//per-phase excitation voltage\n",
"P_d=9000;//power developed (in Watts)\n",
"delta=asind(-P_d*12/(3*V_a*E_ao));\n",
"E_a=E_ao*(cosd(delta)+(%i)*sind(delta));\n",
"I_a=(V_a-E_a)/X_s;\n",
"alpha=atand(imag(I_a)/real(I_a));\n",
"disp(cosd(alpha),'(a) Power factor=');\n",
"disp(delta,'(b) power angle (in Degree)=');\n",
"E_L=(sqrt(3))*E_a*(cosd(30)+((%i)*sind(30)));\n",
"disp(abs(E_L),'(c) line to line excitation voltage (in Volts)=');\n",
"disp(atand(imag(E_L)/real(E_L)),'phase angle of line to line excitation voltage (in Degree)');\n",
"T_d=P_d/w_m;\n",
"disp(T_d,'(d) Torque developed (in Newton-meter)=');"
   ]
   }
,
{
		   "cell_type": "markdown",
		   "metadata": {},
		   "source": [
			"## Example 8.4: Find_the_excitation_voltage_and_other_parameters.sce"
		   ]
		  },
  {
"cell_type": "code",
	   "execution_count": null,
	   "metadata": {
	    "collapsed": true
	   },
	   "outputs": [],
"source": [
"//Caption:Find (a)excitation voltage (b)power developed due to feild excitation (c)power developed due to saliency of motor (d)total power developed (e)efficiency (f)max power\n",
"//Exa:8.4\n",
"clc;\n",
"clear;\n",
"close;\n",
"pf=0.8;//lagging\n",
"theta=-acosd(pf);\n",
"V_a=120;//in V\n",
"X_d=2.7;//d-axis reactance (in ohms/phase)\n",
"X_q=1.7;//q-axis reactances (in ohms/phase)\n",
"I_a=40*(cosd(-36.87)+%i*sind(-36.87));//in Amperes\n",
"E_a_dash=V_a-%i*(I_a*X_q);//in Volts\n",
"delta=atand(imag(E_a_dash)/real(E_a_dash));//in degree\n",
"alpha=polar(theta-delta);//in degree\n",
"I_d=abs(I_a)*sind(alpha)*(cosd(-34.48-90)+%i*sind(-34.48-90));\n",
"E_a=E_a_dash-%i*I_d*(X_d-X_q);\n",
"disp(abs(E_a),'(a) per-phase excitation voltage(in Volts)=');\n",
"disp(atand(imag(E_a)/real(E_a)),'phase angle of excitation voltage (in degree)=');\n",
"P_df=(3*V_a*abs(E_a)*sind(34.48))/X_d;\n",
"disp(P_df,'(b) power developed due to feild excitation(in Watts)=');\n",
"P_ds=((X_d-X_q)*sind(2*34.48)*3*V_a^2)/(2*X_d*X_q);\n",
"disp(P_ds,'(c) power developed due to saliency of motor (in Watts)=');\n",
"P_d=P_df+P_ds;\n",
"disp(P_d,'(d) total power developed (in Watts)=');\n",
"P_r=0.05*P_d;//rotational loss (in Watts)\n",
"P_in=3*real(V_a*conj(I_a));//power input (in Watts)\n",
"P_o=P_in-P_r;//power output (in Watts)\n",
"Eff=(P_o/P_in)*100;\n",
"disp(Eff,'(e) Efficiency (in %)=');\n",
"//refer to eqn 8.24\n",
"A=(3*120*abs(E_a))/X_d;\n",
"B=3*(X_d-X_q)*120^2/(2*X_d*X_q);\n",
"P_dm=A*sind(63.4)+B*sind(2*63.4);\n",
"disp(P_dm,'(f) maximum power developed (in Watts)=');"
   ]
   }
,
{
		   "cell_type": "markdown",
		   "metadata": {},
		   "source": [
			"## Example 8.6: Find_the_new_armature_current_and_new_power_factor.sce"
		   ]
		  },
  {
"cell_type": "code",
	   "execution_count": null,
	   "metadata": {
	    "collapsed": true
	   },
	   "outputs": [],
"source": [
"//Caption:Find the (a) new armature current (b) new power factor\n",
"//Exa:8.6\n",
"clc;\n",
"clear;\n",
"close;\n",
"V=208;//in Volts\n",
"V_a=V/sqrt(3);//in volts\n",
"P=7200;//in Watts\n",
"X_a=4;//synchronous reactance\n",
"pf=0.8;//lagging\n",
"theta=-acosd(pf);\n",
"I_a=(P/(3*V_a*pf))*(cosd(theta)+%i*sind(theta));//Armature current (in Amperes)\n",
"E_a=V_a-(I_a*%i*X_a);//in Volts\n",
"E_an=1.5*abs(E_a);//new excitation voltage (in Volts)\n",
"delta_n=-asind(P*X_a/(3*E_an*V_a));//new torque angle\n",
"I_an=(V_a-E_an*(cosd(delta_n)+%i*sind(delta_n)))/(%i*4);\n",
"disp(abs(I_an),'(a) New armature current (in Ampere)=');\n",
"disp(atand(imag(I_an)/real(I_an)),'Phase angle of new armature current (in Degree)=');\n",
"pf_n=cosd(atand(imag(I_an)/real(I_an)));\n",
"disp(pf_n,'(b) New Power factor=');"
   ]
   }
,
{
		   "cell_type": "markdown",
		   "metadata": {},
		   "source": [
			"## Example 8.7: EX8_7.sce"
		   ]
		  },
  {
"cell_type": "code",
	   "execution_count": null,
	   "metadata": {
	    "collapsed": true
	   },
	   "outputs": [],
"source": [
"//Caption:Find the overall power factor and power factor of motor to improve overall power factor\n",
"//Exa:8.7\n",
"clc;\n",
"clear;\n",
"close;\n",
"//for load:\n",
"theta_L=acosd(0.6);//lag (in degree)\n",
"S_L=100*(cosd(53.13)+%i*sind(53.13));//in KVA\n",
"//for synchronous motor:\n",
"theta_m=acosd(0.5);//lead (in degree)\n",
"S_m=(10/0.5)*conj(cosd(theta_m)+%i*sind(theta_m));//in Watts\n",
"S_t=S_L+S_m;//overall power (in Watts)\n",
"pf=cosd(atand(imag(S_t)/real(S_t)));\n",
"disp(pf,'overall power factor=');\n",
"//for power factor=0.9\n",
"theta_t=25.84;\n",
"S_tn=(real(S_t)/0.9)*(cosd(theta_t)+%i*sind(theta_t));//in KVA\n",
"S_mn=S_tn-S_L;//in KVA\n",
"pf_n=cosd(atand(imag(S_mn)/real(S_mn)));\n",
"disp(pf_n,'power factor of motor to improve overall power factor to 0.9=');"
   ]
   }
],
"metadata": {
		  "kernelspec": {
		   "display_name": "Scilab",
		   "language": "scilab",
		   "name": "scilab"
		  },
		  "language_info": {
		   "file_extension": ".sce",
		   "help_links": [
			{
			 "text": "MetaKernel Magics",
			 "url": "https://github.com/calysto/metakernel/blob/master/metakernel/magics/README.md"
			}
		   ],
		   "mimetype": "text/x-octave",
		   "name": "scilab",
		   "version": "0.7.1"
		  }
		 },
		 "nbformat": 4,
		 "nbformat_minor": 0
}
