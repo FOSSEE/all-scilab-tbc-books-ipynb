{
"cells": [
 {
		   "cell_type": "markdown",
	   "metadata": {},
	   "source": [
       "# Chapter 9: Polyphase Induction Motor"
	   ]
	},
{
		   "cell_type": "markdown",
		   "metadata": {},
		   "source": [
			"## Example 9.10: Find_the_equivalent_rotor_impedance_as_reffered_to_stator.sce"
		   ]
		  },
  {
"cell_type": "code",
	   "execution_count": null,
	   "metadata": {
	    "collapsed": true
	   },
	   "outputs": [],
"source": [
"//Caption:Find the equivalent rotor impedance as reffered to stator\n",
"//Exa:9.10\n",
"clc;\n",
"clear;\n",
"close;\n",
"R=20*10^-6;//in ohms\n",
"X=2*10^-3;//in ohms\n",
"P=4;//no. of poles\n",
"Q=48;//no. of bars\n",
"S=36;//no. of slots\n",
"//For Stator:\n",
"m_1=3;//no. of phases\n",
"n=3*(S/(P*3));//coils per pole per phase \n",
"S_p=S/P;//pole span\n",
"S_s=180/S_p;//slot span (in electrical degree)\n",
"k_p1=sind(140/2);//pitch factor\n",
"k_d1=sind(3*S_s/2)/(3*sind(S_s/2));//distribution factor\n",
"k_w1=k_p1*k_d1;//winding factor\n",
"N_1=10*S/3;//turns per phase\n",
"//For Rotor:\n",
"k_w2=1;\n",
"m_2=Q/P;//no. of phases\n",
"N_2=P/2;//turns per phase\n",
"a=int((k_w1*N_1/(k_w2*N_2))*sqrt(m_1/m_2));\n",
"R_2=a^2*R;\n",
"disp('Rotor Parameters as reffered to stator:');\n",
"disp(R_2*1000,'R_2 (in mili ohms)=');\n",
"X_2=a^2*X;\n",
"disp(X_2,'X_2 (in ohms)=');"
   ]
   }
,
{
		   "cell_type": "markdown",
		   "metadata": {},
		   "source": [
			"## Example 9.1: Find_the_synchronous_speed_and_slip_and_rotor_frequency.sce"
		   ]
		  },
  {
"cell_type": "code",
	   "execution_count": null,
	   "metadata": {
	    "collapsed": true
	   },
	   "outputs": [],
"source": [
"//Caption:Find the (a) synchronous speed (b) slip and (c) rotor frequency\n",
"//Exa:9.1\n",
"clc;\n",
"clear;\n",
"close;\n",
"f=60;//in Hertzs\n",
"P=4;//no. of poles\n",
"N_fL=1755;//in rpm\n",
"N_s=120*f/P;\n",
"disp(N_s,'(a) synchronous speed of induction motor (in rpm)=');\n",
"s=(N_s-N_fL)/N_s;\n",
"disp(s,'(b) Slip at full load =');\n",
"f_r=s*f;\n",
"disp(f_r,'(c) rotor frequency at full load (in Hertzs)=');"
   ]
   }
,
{
		   "cell_type": "markdown",
		   "metadata": {},
		   "source": [
			"## Example 9.2: Find_the_efficiency.sce"
		   ]
		  },
  {
"cell_type": "code",
	   "execution_count": null,
	   "metadata": {
	    "collapsed": true
	   },
	   "outputs": [],
"source": [
"//Caption:Find the efficiency\n",
"//Exa:9.2\n",
"clc;\n",
"clear;\n",
"close;\n",
"V=230;//in volts\n",
"f=60;//in Hertz\n",
"P=6;//no. of poles\n",
"N_s=120*f/P;//synchronous speed (in rpm)\n",
"V_1=V/sqrt(3);//per phase voltage (in Volts)\n",
"R_2=0.25;//in ohms\n",
"R_1=0.5;//in ohms\n",
"X_1=0.75;//in ohms\n",
"X_2=0.5;//in ohms\n",
"X_m=100;//in ohms\n",
"R_c=500;//in ohms\n",
"s=0.025;//slip\n",
"Z_1=R_1+%i*X_1;//in ohms\n",
"Z_2=(R_2/s)+%i*X_2;//in ohms\n",
"Z=(0.002-(%i*.01)+(0.10025-%i*0.0050125));\n",
"Z_e=(1/Z);//equivalent impedance (in ohms)\n",
"Z_in=Z_1+Z_e;//input impedance (in ohms)\n",
"I_1=V_1/Z_in;//in Amperes\n",
"theta=atand(imag(I_1)/real(I_1));\n",
"P_in=3*V_1*real(I_1);\n",
"P_scl=3*(abs(I_1))^2*R_1;\n",
"E_1=V_1-I_1*Z_1;\n",
"I_c=E_1/R_c;//core loss current\n",
"I_m=-%i*E_1/X_m;\n",
"I_phy=I_c+I_m;//excitation current (in Amperes)\n",
"I_2=I_1-I_phy;//rotor current (in Amperes)\n",
"P_m=3*abs(I_c)*abs(I_c)*R_c;//core loss (in Watts)\n",
"P_ag=P_in-P_scl-P_m;//air gap power (in Watts)\n",
"P_rcl=3*abs(I_2)*abs(I_2)*R_2;//rotor copper loss (in Watts)\n",
"P_d=P_ag-P_rcl;//power developed (in Watts)\n",
"P_o=P_d-150;//output power (in Watts)\n",
"Eff=P_o/P_in;\n",
"disp(Eff*100,'Efficiency (%)=');"
   ]
   }
,
{
		   "cell_type": "markdown",
		   "metadata": {},
		   "source": [
			"## Example 9.3: Find_the_efficiency_of_the_motor.sce"
		   ]
		  },
  {
"cell_type": "code",
	   "execution_count": null,
	   "metadata": {
	    "collapsed": true
	   },
	   "outputs": [],
"source": [
"//Caption:Find the efficiency of the motor\n",
"//Exa:9.3\n",
"clc;\n",
"clear;\n",
"close;\n",
"//Refer to data of Exa:9.2\n",
"R_1=0.5;//in ohms\n",
"R_2=0.25;//in ohms\n",
"X_1=0.75;//in ohms\n",
"X_2=0.5;//in ohms\n",
"R_c=500;//in ohms\n",
"s=0.025;//slip\n",
"I_c=132.791/500;//Core-loss currrent (in Amperes)\n",
"I_m=-%i*132.791/100;//Magnetization current (in Amperes)\n",
"Z_e=R_1+(R_2/s)+%i*(X_1+X_2);//in ohms\n",
"I_2=132.791/Z_e;//rotor current (in Amperes)\n",
"I_1=I_2+I_c+I_m;//in Amperes\n",
"P_in=3*real(132.791*conj(I_1));//power input (in Watts)\n",
"P_scl=3*(abs(I_2))^2*R_1;//stator copper loss (in Watts)\n",
"P_rcl=3*(abs(I_2))^2*R_2;//rotor copper loss (in Watts)\n",
"P_m=3*(abs(I_c))^2*R_c;// core loss (in Watts)\n",
"P_o=P_in-P_scl-P_rcl-P_m-150;//power output (in Watts)\n",
"Eff=P_o/P_in;\n",
"disp(Eff*100,'Efficiency (%)=');"
   ]
   }
,
{
		   "cell_type": "markdown",
		   "metadata": {},
		   "source": [
			"## Example 9.4: Find_the_max_power_developed_and_slip_and_the_torque_developed.sce"
		   ]
		  },
  {
"cell_type": "code",
	   "execution_count": null,
	   "metadata": {
	    "collapsed": true
	   },
	   "outputs": [],
"source": [
"//Caption:Find the max power developed and slip and the torque developed\n",
"//Exa:9.4\n",
"clc;\n",
"clear;\n",
"close;\n",
"V=120;//in volts\n",
"f=60;//in Hertzs\n",
"R_1=0.1;//in ohms\n",
"X_1=0.15;//in ohms\n",
"R_2=0.2;//in ohms\n",
"X_2=0.25;//in ohms\n",
"Z_e=R_1+R_2+%i*(X_1+X_2);//Eqv impedance in ohms\n",
"s_p=R_2/(R_2+polar(Z_e));\n",
"disp(s_p,'Slip=');\n",
"P_dm=(3*V^2)/(2*(R_1+R_2+abs(Z_e)));\n",
"disp(P_dm/1000,'max power developed (in Kilo-Watts)=');\n",
"N_s=120*f/6;//synchronous speed (in rpm)\n",
"w_s=(N_s*2*%pi)/60;//in rad/sec\n",
"w_m=(1-s_p)*w_s;\n",
"T_d=P_dm/w_m;\n",
"disp(T_d,'Torque developed (in Newton-meter)=');"
   ]
   }
,
{
		   "cell_type": "markdown",
		   "metadata": {},
		   "source": [
			"## Example 9.5: EX9_5.sce"
		   ]
		  },
  {
"cell_type": "code",
	   "execution_count": null,
	   "metadata": {
	    "collapsed": true
	   },
	   "outputs": [],
"source": [
"//Caption:Find (a) the breakdown slip (b) the breakdown torque (c) power developed by the motor\n",
"//Exa:9.5\n",
"clc;\n",
"clear;\n",
"close;\n",
"//Refer to data of Exa9.4\n",
"R_1=0.1;// in ohms\n",
"R_2=0.2;// in ohms\n",
"X_1=0.15;// in ohms\n",
"X_2=0.25;// in ohms\n",
"w_s=125.66;//rad/sec\n",
"V_1=120;//in Volts\n",
"s_b=R_2/sqrt(R_1^2+(X_1+X_2)^2);\n",
"disp(s_b,'(a) Breakdown slip=');\n",
"T_dm=(3*V_1^2)/(2*w_s*(R_1+sqrt(R_1^2+(X_1+X_2)^2)));\n",
"disp(T_dm,'(b) Breakdown Torque (in Newton-meter)=');\n",
"P_d=T_dm*(1-s_b)*w_s;\n",
"disp(P_d/1000,'(c)  power developed by the motor (in Kilo-Watts)=');"
   ]
   }
,
{
		   "cell_type": "markdown",
		   "metadata": {},
		   "source": [
			"## Example 9.6: EX9_6.sce"
		   ]
		  },
  {
"cell_type": "code",
	   "execution_count": null,
	   "metadata": {
	    "collapsed": true
	   },
	   "outputs": [],
"source": [
"//Caption:Find (a) the breakdown slip and the breakdown torque (b) starting torque and the value of external resistance\n",
"//Exa:9.6\n",
"clc;\n",
"clear;\n",
"close;\n",
"f=60;//in Hertzs\n",
"P=8;//no. of poles\n",
"R_2=0.02;//in ohms\n",
"X_2=0.08;//in ohms\n",
"s_b=R_2/X_2;//breakdown slip \n",
"disp(s_b,'(a) breakdown slip=');\n",
"N_s=120*f/P;//synchronous speed (in rpm)\n",
"w_s=N_s*2*%pi/60;\n",
"N_m=(1-s_b)*N_s;//motor speed (in rpm)\n",
"V_1=120;//in V\n",
"T_dm=(3*V_1^2)*s_b/(2*w_s)*R_2;\n",
"disp(T_dm,'Breakdown torque (in Newton-meter)=');\n",
"T_s=2*1*s_b*T_dm/(1+s_b^2);\n",
"disp(T_s,'(b) Starting Torque (in Newton-meter)=');\n",
"disp(T_s/T_dm,'Starting torque is =');\n",
"disp('times the max torque');\n",
"s_bn=(-(-2.5)-sqrt((-2.5)^2-4*1*1))/2;//new breakdown slip\n",
"R_2n=s_bn*X_2;\n",
"disp(R_2n,'rotor resistance (in ohms)=');"
   ]
   }
,
{
		   "cell_type": "markdown",
		   "metadata": {},
		   "source": [
			"## Example 9.7: Find_the_torque_range_and_current_range.sce"
		   ]
		  },
  {
"cell_type": "code",
	   "execution_count": null,
	   "metadata": {
	    "collapsed": true
	   },
	   "outputs": [],
"source": [
"//Caption:Find (a) the torque range (b) current range\n",
"//Exa:9.7\n",
"clc;\n",
"clear;\n",
"close;\n",
"f=60;//in Hertzs\n",
"P=4;//no. of poles\n",
"V_1=230;//in volts\n",
"I_2=4.5;//rotor current (in Amperes)\n",
"P_d=2*746;//in watts\n",
"N_m=1710;//speed of motor in (rpm)\n",
"N_s=120*f/P;//Synchronous speed (in rpm)\n",
"s=(N_s-N_m)/N_s;//slip\n",
"w_m=2*%pi*N_m/60;//in rad/sec\n",
"T_d=P_d/w_m;//torque developed (in Newton-meter)\n",
"T_dL=T_d*(0.9*230/230)^2;//in Newton-meter\n",
"I_2L=I_2*(0.9*230/230);//in Amperes\n",
"T_dH=8.33*1.1^2;//in Newton-meter\n",
"I_2H=I_2*1.1;//in Amperes\n",
"disp('(a) Torque range (in Newton-meter) is :-');\n",
"disp(T_dL,'minimum value=');\n",
"disp(T_dH,'maximum value=');\n",
"disp('(b) Current range (in Amperes) is :-');\n",
"disp(I_2L,'minimum value=');\n",
"disp(I_2H,'maximum value=');"
   ]
   }
,
{
		   "cell_type": "markdown",
		   "metadata": {},
		   "source": [
			"## Example 9.8: Find_Eqv_circuit_parameters.sce"
		   ]
		  },
  {
"cell_type": "code",
	   "execution_count": null,
	   "metadata": {
	    "collapsed": true
	   },
	   "outputs": [],
"source": [
"//Caption:Find Eqv circuit parameters\n",
"//Exa:9.8\n",
"clc;\n",
"clear;\n",
"close;\n",
"V_1=208;//in Volts\n",
"f=60;//in Hertzs\n",
"P=4;//no. of poles\n",
"N_m=1710;//in rpm\n",
"R_1=2.4/2;//in ohms\n",
"disp(R_1,'R_1 (in ohms)=');\n",
"W_oc=450/3;//in Watts\n",
"P_fw_phy=18/3;//in Watts\n",
"P_oc=W_oc-P_fw_phy;//in Watts\n",
"V_oc=V_1/sqrt(3);//in Volts\n",
"I_oc=1.562;//in Amperes\n",
"R_c=V_oc^2/P_oc;\n",
"disp(R_c,'R_c=core loss resistance (in ohms)=');\n",
"S_oc=V_oc*I_oc;//in Volt-Ampere\n",
"theta_oc=acosd(W_oc/S_oc);\n",
"I_m=I_oc*sind(theta_oc);\n",
"X_m=V_oc/I_m;\n",
"disp(X_m,'X_m=Magnetization reactance (in ohms)=');\n",
"V_br=27/sqrt(3);//in Volts\n",
"P_br=59.4/3;//in Watts\n",
"I_br=2.77;//In Amperes\n",
"R_e=P_br/I_br^2;\n",
"R_2=R_e-R_1;\n",
"disp(R_2,'R_2 (in ohms)=');\n",
"Z_e=V_br/I_br;\n",
"X_e=sqrt(Z_e^2-R_e^2);\n",
"X_1=X_e/2;\n",
"X_2=X_1;\n",
"disp(X_1,'X_1 (in ohms)=');\n",
"disp(X_2,'X_2 (in ohms)=');"
   ]
   }
],
"metadata": {
		  "kernelspec": {
		   "display_name": "Scilab",
		   "language": "scilab",
		   "name": "scilab"
		  },
		  "language_info": {
		   "file_extension": ".sce",
		   "help_links": [
			{
			 "text": "MetaKernel Magics",
			 "url": "https://github.com/calysto/metakernel/blob/master/metakernel/magics/README.md"
			}
		   ],
		   "mimetype": "text/x-octave",
		   "name": "scilab",
		   "version": "0.7.1"
		  }
		 },
		 "nbformat": 4,
		 "nbformat_minor": 0
}
