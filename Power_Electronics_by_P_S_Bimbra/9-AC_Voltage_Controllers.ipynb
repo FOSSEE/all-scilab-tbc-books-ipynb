{
"cells": [
 {
		   "cell_type": "markdown",
	   "metadata": {},
	   "source": [
       "# Chapter 9: AC Voltage Controllers"
	   ]
	},
{
		   "cell_type": "markdown",
		   "metadata": {},
		   "source": [
			"## Example 9.1: EX9_1.sce"
		   ]
		  },
  {
"cell_type": "code",
	   "execution_count": null,
	   "metadata": {
	    "collapsed": true
	   },
	   "outputs": [],
"source": [
"clear;\n",
"clc;\n",
"V_s=230;\n",
"V_m=sqrt(2)*V_s;\n",
"a=45;\n",
"V_or=(V_m/2)*sqrt(1/%pi*((2*%pi-a*%pi/180)+sind(2*a)/2));    printf('rms value of o/p voltage=%.3f V',V_or);\n",
"R=20;\n",
"I_or=V_or/R;\n",
"P_o=I_or^2*R;    printf('\nload power=%.1f W',P_o);\n",
"I_s=I_or;\n",
"VA=V_s*I_s;\n",
"pf=P_o/VA;    printf('\ni/p pf=%.4f',pf);\n",
"\n",
"V_o=sqrt(2)*V_s/(2*%pi)*(cosd(a)-1);\n",
"I_ON=V_o/R;    printf('\navg i/p current=%.4f A',I_ON);"
   ]
   }
,
{
		   "cell_type": "markdown",
		   "metadata": {},
		   "source": [
			"## Example 9.2: EX9_2.sce"
		   ]
		  },
  {
"cell_type": "code",
	   "execution_count": null,
	   "metadata": {
	    "collapsed": true
	   },
	   "outputs": [],
"source": [
"clear;\n",
"clc;\n",
"V_s=230;\n",
"V_m=sqrt(2)*V_s;\n",
"a=45;\n",
"V_or=(V_s)*sqrt(1/%pi*((%pi-a*%pi/180)+sind(2*a)/2));    printf('rms value of o/p voltage=%.3f V',V_or);\n",
"R=20;\n",
"I_or=V_or/R;\n",
"P_o=I_or^2*R;    printf('\nload power=%.2f W',P_o);\n",
"I_s=I_or;\n",
"VA=V_s*I_s;\n",
"pf=P_o/VA;    printf('\ni/p pf=%.4f',pf);\n",
"\n",
"I_TA=sqrt(2)*V_s/(2*%pi*R)*(cosd(a)+1);    printf('\navg thyristor current=%.3f A',I_TA);\n",
"I_Tr=sqrt(2)*V_s/(2*R)*sqrt(1/%pi*((%pi-a*%pi/180)+sind(2*a)/2));    printf('\nrms value of thyristor current=%.4f A',I_Tr);"
   ]
   }
,
{
		   "cell_type": "markdown",
		   "metadata": {},
		   "source": [
			"## Example 9.3: to_determine_1_rms_output_voltage_2_input_pf_3_avg_and_rms_thyristor_currents.sce"
		   ]
		  },
  {
"cell_type": "code",
	   "execution_count": null,
	   "metadata": {
	    "collapsed": true
	   },
	   "outputs": [],
"source": [
"clear;\n",
"clc;\n",
"V_s=230;\n",
"n=6;//on cycles\n",
"m=4;//off cycles\n",
"k=n/(n+m);\n",
"V_or=V_s*sqrt(k);    printf('rms value of o/ voltage=%.3f V',V_or);\n",
"pf=sqrt(k);    printf('\ni/p pf=%.4f',pf);\n",
"R=15;\n",
"I_m=V_s*sqrt(2)/R;\n",
"I_TA=k*I_m/%pi;    printf('\navg thyristor current=%.4f A',I_TA);\n",
"I_TR=I_m*sqrt(k)/2;    printf('\nrms value of thyristor current=%.3f A',I_TR);"
   ]
   }
,
{
		   "cell_type": "markdown",
		   "metadata": {},
		   "source": [
			"## Example 9.4: EX9_4.sce"
		   ]
		  },
  {
"cell_type": "code",
	   "execution_count": null,
	   "metadata": {
	    "collapsed": true
	   },
	   "outputs": [],
"source": [
"clear;\n",
"clc;\n",
"V_s=230;\n",
"V_m=sqrt(2)*V_s;\n",
"R=3;\n",
"I_TAM=2*V_m/(2*%pi*R);    printf('max value of avg thyristor current=%.3f A',I_TAM);\n",
"I_TRM=V_m/(2*R);    printf('\nmax value of avg thyristor current=%.3f A',I_TRM);\n",
"\n",
"f=50;\n",
"w=2*%pi*f;\n",
"t_c=%pi/w;    printf('\nckt turn off time=%.0f ms',t_c*1000);"
   ]
   }
,
{
		   "cell_type": "markdown",
		   "metadata": {},
		   "source": [
			"## Example 9.5: EX9_5.sce"
		   ]
		  },
  {
"cell_type": "code",
	   "execution_count": null,
	   "metadata": {
	    "collapsed": true
	   },
	   "outputs": [],
"source": [
"clear;\n",
"clc;\n",
"R=3;\n",
"X_L=4;\n",
"phi=atand(X_L/R);    printf('min firing angle=%.2f deg',phi);\n",
"printf('\nmax firing angle=%.0f deg',180);\n",
"V_s=230;\n",
"Z=sqrt(R^2+X_L^2);\n",
"I_or=V_s/Z;    printf('\nmax value of rms load current=%.0f A',I_or);\n",
"P=I_or^2*R;    printf('\nmax power=%.0f W',P);\n",
"I_s=I_or;\n",
"pf=P/(V_s*I_s);    printf('\ni/p pf=%.1f',pf);\n",
"\n",
"I_TAM=sqrt(2)*V_s/(%pi*Z);    printf('\nmax value of avg thyristor current=%.3f A',I_TAM);\n",
"I_Tm=sqrt(2)*V_s/(2*Z);    printf('\nmax value of rms thyristor current=%.3f A',I_Tm);\n",
"\n",
"f=50;\n",
"w=2*%pi*f;\n",
"di=sqrt(2)*V_s*w/Z;    printf('\ndi/dt=%.0f A/s',di);"
   ]
   }
,
{
		   "cell_type": "markdown",
		   "metadata": {},
		   "source": [
			"## Example 9.6: to_calculate_extinction_angle_and_rms_value_of_output_voltage.sce"
		   ]
		  },
  {
"cell_type": "code",
	   "execution_count": null,
	   "metadata": {
	    "collapsed": true
	   },
	   "outputs": [],
"source": [
"clc\n",
"clear\n",
"V=230;\n",
"R=3;//ohm\n",
"X_L=5;//ohm\n",
"a=120;//firing angle delay\n",
"phi=atand(X_L/R);\n",
"b=0;\n",
"i=1;\n",
"while i>0;\n",
"    LHS=sind(b-a);\n",
"    RHS=sind(a-phi)*exp(-(R/X_L)*(b-a)*%pi/180);\n",
"    if abs(LHS-RHS)<=.01;\n",
"        B=b;\n",
"        i=2;\n",
"        break;\n",
"    end\n",
"    b=b+.1   \n",
"end\n",
"printf('extinction angle=%.1f deg',B);//answer in the book is wrong as formulae for RHS is wrongly employed\n",
"V_or=sqrt(2)*V*sqrt((1/(2*%pi))*((B-a)*%pi/180+(sind(2*a)-sind(2*B))/2));\n",
"printf('\nrms value of output voltage=%.2f V',V_or);//answer do not match due to wrong B in book"
   ]
   }
,
{
		   "cell_type": "markdown",
		   "metadata": {},
		   "source": [
			"## Example 9.8: EX9_8.sce"
		   ]
		  },
  {
"cell_type": "code",
	   "execution_count": null,
	   "metadata": {
	    "collapsed": true
	   },
	   "outputs": [],
"source": [
"clear;\n",
"clc;\n",
"V_s=230;\n",
"V_m=sqrt(2)*V_s;\n",
"a=60;\n",
"R=20;\n",
"V_or=sqrt((V_m^2/(2*%pi))*(a*%pi/180-sind(2*a)/2)+(2*V_m^2/(%pi))*(%pi-a*%pi/180+sind(2*a)/2));    printf('rms value of o/p voltage=%.2f V',V_or);\n",
"I_T1r=(V_m/R)*sqrt(1/%pi*((%pi-a*%pi/180)+sind(2*a)/2));    printf('\nrms value of current for upper thyristors=%.3f A',I_T1r);\n",
"I_T3r=(V_m/(2*R))*sqrt(1/%pi*((a*%pi/180)-sind(2*a)/2));    printf('\nrms value of current for lower thyristors=%.3f A',I_T3r);\n",
"I1=sqrt(2)*I_T1r;\n",
"I3=sqrt((sqrt(2)*I_T1r)^2+(sqrt(2)*I_T3r)^2);\n",
"r=V_s*(I1+I3);    printf('\nt/f VA rating=%.2f VA',r);\n",
"P_o=V_or^2/R;\n",
"pf=P_o/r;    printf('\ni/p pf=%.4f',pf);"
   ]
   }
],
"metadata": {
		  "kernelspec": {
		   "display_name": "Scilab",
		   "language": "scilab",
		   "name": "scilab"
		  },
		  "language_info": {
		   "file_extension": ".sce",
		   "help_links": [
			{
			 "text": "MetaKernel Magics",
			 "url": "https://github.com/calysto/metakernel/blob/master/metakernel/magics/README.md"
			}
		   ],
		   "mimetype": "text/x-octave",
		   "name": "scilab",
		   "version": "0.7.1"
		  }
		 },
		 "nbformat": 4,
		 "nbformat_minor": 0
}
