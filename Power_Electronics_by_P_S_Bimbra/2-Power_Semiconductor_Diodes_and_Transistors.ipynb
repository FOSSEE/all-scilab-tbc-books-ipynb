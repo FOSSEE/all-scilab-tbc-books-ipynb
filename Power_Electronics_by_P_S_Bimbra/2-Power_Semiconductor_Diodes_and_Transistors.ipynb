{
"cells": [
 {
		   "cell_type": "markdown",
	   "metadata": {},
	   "source": [
       "# Chapter 2: Power Semiconductor Diodes and Transistors"
	   ]
	},
{
		   "cell_type": "markdown",
		   "metadata": {},
		   "source": [
			"## Example 2.1: to_find_switching_freq_of_the_transistor.sce"
		   ]
		  },
  {
"cell_type": "code",
	   "execution_count": null,
	   "metadata": {
	    "collapsed": true
	   },
	   "outputs": [],
"source": [
"clear;\n",
"clc;\n",
"B=40;\n",
"R_c=10;//ohm\n",
"V_cc=130;//V\n",
"V_B=10;//V\n",
"V_CES=1.0;//V\n",
"V_BES=1.5;//V\n",
"I_CS=(V_cc-V_CES)/R_c;//A\n",
"I_BS=I_CS/B;//A\n",
"R_B=(V_B-V_BES)/I_BS;    printf('value of R_B in saturated state= %.3f ohm',R_B);\n",
"P_T=V_BES*I_BS+V_CES*I_CS;    printf('\n power loss in transistor=%.3f W',P_T);\n",
"\n",
"ODF=5;\n",
"I_B=ODF*I_BS;\n",
"R_B=(V_B-V_BES)/I_B;    printf('\nvalue of R_B for an overdrive factor 5 =%.2f ohm',R_B);\n",
"P_T=V_BES*I_B+V_CES*I_CS;    printf('\npower loss in transistor=%.2f W',P_T)\n",
"\n",
"B_f=I_CS/I_B;    printf('\nforced current gain=%.0f',B_f);\n",
""
   ]
   }
,
{
		   "cell_type": "markdown",
		   "metadata": {},
		   "source": [
			"## Example 2.2: EX2_2.sce"
		   ]
		  },
  {
"cell_type": "code",
	   "execution_count": null,
	   "metadata": {
	    "collapsed": true
	   },
	   "outputs": [],
"source": [
"clear;\n",
"clc;\n",
"\n",
"I_CEO=2*10^-3;//A\n",
"V_CC=220;//V\n",
"P_dt=I_CEO*V_CC;//instant. power loss during delay time\n",
"\n",
"t_d=.4*10^-6;//s\n",
"f=5000;\n",
"P_d=f*I_CEO*V_CC*t_d;//avg power loss during delay time\n",
"\n",
"V_CES=2;//V\n",
"t_r=1*10^-6;//s\n",
"I_CS=80;//A\n",
"P_r=f*I_CS*t_r*(V_CC/2-(V_CC-V_CES)/3);//avg power loss during rise time\n",
"\n",
"t_m=V_CC*t_r/(2*(V_CC-V_CES));\n",
"P_rm=I_CS*V_CC^2/(4*(V_CC-V_CES));//instant. power loss during rise time\n",
"\n",
"P_on=P_d+P_r;   printf('avg power loss during turn on=%.4f W',P_on);\n",
"P_nt=I_CS*V_CES;    printf('\ninstantaneous power loss during turn on=%.0f W',P_nt);\n",
"t_n=50*10^-6;\n",
"P_n=f*I_CS*V_CES*t_n;    printf('\navg power loss during conduction period=%.0f W',P_n);"
   ]
   }
,
{
		   "cell_type": "markdown",
		   "metadata": {},
		   "source": [
			"## Example 2.3: EX2_3.sce"
		   ]
		  },
  {
"cell_type": "code",
	   "execution_count": null,
	   "metadata": {
	    "collapsed": true
	   },
	   "outputs": [],
"source": [
"clear\n",
"clc;\n",
"I_CEO=2*10^-3;//A\n",
"V_CC=220;//V\n",
"t_d=.4*10^-6;//s\n",
"f=5000;\n",
"V_CES=2;//V\n",
"t_r=1*10^-6;//s\n",
"I_CS=80;//A\n",
"t_n=50*10^-6;//s\n",
"t_0=40*10^-6;//s\n",
"t_f=3*10^-6;//s\n",
"P_st=I_CS*V_CES;// instant. power loss during t_s\n",
"P_s=f*I_CS*V_CES*t_f;//avg power loss during t_s\n",
"P_f=f*t_f*(I_CS/6)*(V_CC-V_CES);//avg power loss during fall time\n",
"P_fm=(I_CS/4)*(V_CC-V_CES);//peak instant power dissipation\n",
"\n",
"P_off=P_s+P_f;    printf('total avg power loss during turn off=%.0f W',P_off);\n",
"P_0t=I_CEO*V_CC;    printf('\ninstantaneous power loss during t_0=%.2f W',P_0t);\n",
"P_0=f*I_CEO*V_CC*t_0;//avg power loss during t_s\n",
"P_on=14.9339;//W    from previous eg\n",
"P_n=40;//W    from previous eg\n",
"P_T=P_on+P_n+P_off+P_0;    printf('\ntotal power loss=%.3f W',P_T);"
   ]
   }
,
{
		   "cell_type": "markdown",
		   "metadata": {},
		   "source": [
			"## Example 2.4: to_find_switching_freq_of_the_transistor.sce"
		   ]
		  },
  {
"cell_type": "code",
	   "execution_count": null,
	   "metadata": {
	    "collapsed": true
	   },
	   "outputs": [],
"source": [
"clear\n",
"clc;\n",
"I_CS=100;\n",
"V_CC=200;\n",
"t_on=40*10^-6;\n",
"P_on=(I_CS/50)*10^6*t_on*(V_CC*t_on/2-(V_CC*10^6*t_on^2/(40*3)));//energy during turn on\n",
"t_off=60*10^-6;\n",
"P_off=(I_CS*t_off/2-(I_CS/60)*10^6*(t_off^2)/3)*((V_CC/75)*10^6*t_off);//energy during turn off\n",
"P_t=P_on+P_off;//total energy\n",
"P_avg=300;\n",
"f=P_avg/P_t;    printf('allowable switching frequency=%.1f Hz',f);\n",
"//in book ans is: f=1123.6 Hz. The difference in results due to difference in rounding of of digits"
   ]
   }
],
"metadata": {
		  "kernelspec": {
		   "display_name": "Scilab",
		   "language": "scilab",
		   "name": "scilab"
		  },
		  "language_info": {
		   "file_extension": ".sce",
		   "help_links": [
			{
			 "text": "MetaKernel Magics",
			 "url": "https://github.com/calysto/metakernel/blob/master/metakernel/magics/README.md"
			}
		   ],
		   "mimetype": "text/x-octave",
		   "name": "scilab",
		   "version": "0.7.1"
		  }
		 },
		 "nbformat": 4,
		 "nbformat_minor": 0
}
