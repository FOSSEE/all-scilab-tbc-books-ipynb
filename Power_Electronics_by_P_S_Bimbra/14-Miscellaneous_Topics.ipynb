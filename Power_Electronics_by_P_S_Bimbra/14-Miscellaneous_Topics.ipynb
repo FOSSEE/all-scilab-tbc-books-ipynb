{
"cells": [
 {
		   "cell_type": "markdown",
	   "metadata": {},
	   "source": [
       "# Chapter 14: Miscellaneous Topics"
	   ]
	},
{
		   "cell_type": "markdown",
		   "metadata": {},
		   "source": [
			"## Example 14.1: to_calculate_dc_output_voltage_rms_value_of_output_voltage_DF_PF_and_HF.sce"
		   ]
		  },
  {
"cell_type": "code",
	   "execution_count": null,
	   "metadata": {
	    "collapsed": true
	   },
	   "outputs": [],
"source": [
"clear;\n",
"clc;\n",
"V_s=230;\n",
"V_m=sqrt(2)*V_s;\n",
"a1=0;\n",
"a2=45;\n",
"printf('for two single phase series semiconvertors');\n",
"V_0=V_m/%pi*(2+cosd(a1)+cosd(a2));    printf('\navg o/p voltage=%.2f V',V_0);\n",
"V_or=V_s*sqrt((1/%pi)*(4*%pi-3*a2*%pi/180+(3/2)*sind(2*a2)));    printf('\nrms value of o/p voltage=%.2f V',V_or);\n",
"DF=(3+cosd(a2))/(sqrt(2)*sqrt(5+3*cosd(a2)));    printf('\nDF=%.4f',DF);\n",
"PF=sqrt(2/%pi)*(3+cosd(a2))/sqrt(4*%pi-3*a2*%pi/180);    printf('\nPF=%.5f',PF);\n",
"HF=sqrt((%pi*(%pi-(3/4)*a2*%pi/180)/(5+3*cosd(a2)))-1);    printf('\nHF=%.5f',HF);\n",
"\n",
"printf('\n\nfor two single phase series full convertors');\n",
"a=45;\n",
"V_0=2*V_m/%pi*(1+cosd(a));    printf('\navg o/p voltage=%.2f V',V_0);\n",
"V_or=2*V_s*sqrt((1/%pi)*(%pi-a2*%pi/180+(1/2)*sind(2*a2)));    printf('\nrms value of o/p voltage=%.2f V',V_or);\n",
"DF=cosd(a2/2);    printf('\nDF=%.4f',DF);\n",
"PF=sqrt(2/(%pi*(%pi-a2*%pi/180)))*(1+cosd(a2));    printf('\nPF=%.4f',PF);\n",
"HF=sqrt((%pi*(%pi-a2*%pi/180)/(4+4*cosd(a2)))-1);    printf('\nHF=%.2f',HF);"
   ]
   }
],
"metadata": {
		  "kernelspec": {
		   "display_name": "Scilab",
		   "language": "scilab",
		   "name": "scilab"
		  },
		  "language_info": {
		   "file_extension": ".sce",
		   "help_links": [
			{
			 "text": "MetaKernel Magics",
			 "url": "https://github.com/calysto/metakernel/blob/master/metakernel/magics/README.md"
			}
		   ],
		   "mimetype": "text/x-octave",
		   "name": "scilab",
		   "version": "0.7.1"
		  }
		 },
		 "nbformat": 4,
		 "nbformat_minor": 0
}
