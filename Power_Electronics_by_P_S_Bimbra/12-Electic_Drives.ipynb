{
"cells": [
 {
		   "cell_type": "markdown",
	   "metadata": {},
	   "source": [
       "# Chapter 12: Electic Drives"
	   ]
	},
{
		   "cell_type": "markdown",
		   "metadata": {},
		   "source": [
			"## Example 12.10: To_find_1_no_load_speed_2_firing_angle_and_supply_pf_3_speed_regulation.sce"
		   ]
		  },
  {
"cell_type": "code",
	   "execution_count": null,
	   "metadata": {
	    "collapsed": true
	   },
	   "outputs": [],
"source": [
"clear;\n",
"clc;\n",
"V_s=400;\n",
"V_m=sqrt(2)*V_s;\n",
"a=30;\n",
"V_t=3*V_m*cosd(a)/%pi;\n",
"I_a=21;\n",
"r_a=.1;\n",
"V_d=2;\n",
"K_m=1.6;\n",
"w_m=(V_t-I_a*r_a-V_d)/K_m;\n",
"N=w_m*60/(2*%pi);    printf('speed of motor=%.1f rpm',N);\n",
"\n",
"N=2000;\n",
"w_m=2*%pi*N/60;\n",
"I_a=210;\n",
"V_t=K_m*w_m+I_a*r_a+V_d;\n",
"a=acosd(V_t*%pi/(3*V_m));    printf('\nfiring angle=%.2f deg',a);\n",
"I_sr=I_a*sqrt(2/3);\n",
"pf=V_t*I_a/(sqrt(3)*V_s*I_sr);    printf('\nsupply power factor=%.3f',pf);\n",
"\n",
"I_a=21;\n",
"w_m=(V_t-I_a*r_a-V_d)/K_m;\n",
"n=w_m*60/(2*%pi);\n",
"reg=(n-N)/N*100;    printf('\nspeed regulation(percent)=%.2f',reg);"
   ]
   }
,
{
		   "cell_type": "markdown",
		   "metadata": {},
		   "source": [
			"## Example 12.11: to_calculate_1_transformer_phase_turn_ratio_2_firing_angle_delay.sce"
		   ]
		  },
  {
"cell_type": "code",
	   "execution_count": null,
	   "metadata": {
	    "collapsed": true
	   },
	   "outputs": [],
"source": [
"clear;\n",
"clc;\n",
"V_t=230;\n",
"V_l=V_t*%pi/(3*sqrt(2));\n",
"V_ph=V_l/sqrt(3);\n",
"V_in=400;    //per phase voltage input\n",
"printf('transformer phase turns ratio=%.3f',V_in/V_ph);\n",
"\n",
"N=1500;\n",
"I_a=20;\n",
"r_a=.6;\n",
"disp('for motor running at 1000rpm at rated torque');\n",
"E_a1=V_t-I_a*r_a;\n",
"n=1000;\n",
"E_a=E_a1/1500*1000;\n",
"V_t=E_a+I_a*r_a;\n",
"a=acosd(V_t*%pi/(3*sqrt(2)*V_l));    printf('firing angle delay=%.2f deg',a);\n",
"\n",
"disp('for motor running at -900rpm at half of rated torque');\n",
"I_a=.5*I_a;\n",
"n=-900;\n",
"V_t=n*E_a1/N+I_a*r_a;\n",
"a=acosd(V_t*%pi/(3*sqrt(2)*V_l));    printf('firing angle delay=%.3f deg',a);"
   ]
   }
,
{
		   "cell_type": "markdown",
		   "metadata": {},
		   "source": [
			"## Example 12.12: to_calculate_firing_angle_for_different_given_conditions.sce"
		   ]
		  },
  {
"cell_type": "code",
	   "execution_count": null,
	   "metadata": {
	    "collapsed": true
	   },
	   "outputs": [],
"source": [
"clear;\n",
"clc;\n",
"V_s=400;\n",
"V_ml=sqrt(2)*V_s;\n",
"V_f=3*V_ml/%pi;\n",
"R_f=300;\n",
"I_f=V_f/R_f;\n",
"T_e=60;\n",
"k=1.1;\n",
"I_a=T_e/(k*I_f);\n",
"N=1000;\n",
"w_m=2*%pi*N/60;\n",
"r_a=.3;\n",
"V_t=k*I_f*w_m+I_a*r_a;\n",
"a=acosd(V_t*%pi/(3*V_ml));    printf('firing angle=%.3f deg',a);\n",
"\n",
"N=3000;\n",
"w_m=2*%pi*N/60;\n",
"a=0;\n",
"V_t=3*V_ml*cosd(a)/%pi;\n",
"I_f=(V_t-I_a*r_a)/(w_m*k);\n",
"V_f=I_f*R_f;\n",
"a=acosd(V_f*%pi/(3*V_ml));    printf('\nfiring angle=%.3f deg',a);"
   ]
   }
,
{
		   "cell_type": "markdown",
		   "metadata": {},
		   "source": [
			"## Example 12.13: to_evaluate_the_time_taken_for_the_speed_to_reach_1000rpm.sce"
		   ]
		  },
  {
"cell_type": "code",
	   "execution_count": null,
	   "metadata": {
	    "collapsed": true
	   },
	   "outputs": [],
"source": [
"clear;\n",
"clc;\n",
"//after calculating\n",
"//t=w_m/6000-%pi/360\n",
"\n",
"N=1000;\n",
"w_m=2*%pi*N/60;\n",
"t=w_m/6000-%pi/360;    printf('time reqd=%.5f s',t);\n",
"//printing mistake in the answer in book"
   ]
   }
,
{
		   "cell_type": "markdown",
		   "metadata": {},
		   "source": [
			"## Example 12.14: to_determine_the_3rd_and_5th_harmonic_components_of_line_current.sce"
		   ]
		  },
  {
"cell_type": "code",
	   "execution_count": null,
	   "metadata": {
	    "collapsed": true
	   },
	   "outputs": [],
"source": [
"clear;\n",
"clc;\n",
"I_a=1;//supposition\n",
"a=60;\n",
"I_s1=2*sqrt(2)/%pi*I_a*sind(a);\n",
"I_s3=2*sqrt(2)/(3*%pi)*I_a*sind(3*a);\n",
"I_s5=2*sqrt(2)/(5*%pi)*I_a*sind(5*a);\n",
"per3=I_s3/I_s1*100;    printf('percent of 3rd harmonic current in fundamental=%.0f',per3);\n",
"per5=I_s5/I_s1*100;    printf('\npercent of 5th harmonic current in fundamental=%.0f',per5);"
   ]
   }
,
{
		   "cell_type": "markdown",
		   "metadata": {},
		   "source": [
			"## Example 12.15: EX12_15.sce"
		   ]
		  },
  {
"cell_type": "code",
	   "execution_count": null,
	   "metadata": {
	    "collapsed": true
	   },
	   "outputs": [],
"source": [
"clear;\n",
"clear;\n",
"clc;\n",
"I_a=60;\n",
"I_TA=I_a/3;    printf('avg thyristor current=%.0f A',I_TA);\n",
"I_Tr=I_a/sqrt(3);    printf('\nrms thyristor current=%.3f A',I_Tr);\n",
"\n",
"V_s=400;\n",
"V_m=sqrt(2)*V_s;\n",
"I_sr=I_a*sqrt(2/3);\n",
"a=150;\n",
"V_t=3*V_m*cosd(a)/%pi;\n",
"pf=V_t*I_a/(sqrt(3)*V_s*I_sr);    printf('\npower factor of ac source=%.3f',pf);\n",
"\n",
"r_a=0.5;\n",
"K_m=2.4;\n",
"w_m=(V_t-I_a*r_a)/K_m;\n",
"N=w_m*60/(2*%pi);    printf('\nspeed of motor=%.2f rpm',N);\n",
"//Answers have small variations from that in the book due to difference in the rounding off of digits."
   ]
   }
,
{
		   "cell_type": "markdown",
		   "metadata": {},
		   "source": [
			"## Example 12.16: EX12_16.sce"
		   ]
		  },
  {
"cell_type": "code",
	   "execution_count": null,
	   "metadata": {
	    "collapsed": true
	   },
	   "outputs": [],
"source": [
"clear;\n",
"clc;\n",
"I_a=300;\n",
"V_s=600;\n",
"a=.6;\n",
"V_t=a*V_s;\n",
"P=V_t*I_a;    printf('input power from source=%.0f kW',P/1000);\n",
"R_eq=V_s/(a*I_a);    printf('\nequivalent input resistance=%.3f ohm',R_eq);\n",
"k=.004;\n",
"R=.04+.06;\n",
"w_m=(a*V_s-I_a*R)/(k*I_a);\n",
"N=w_m*60/(2*%pi);    printf('\nmotor speed=%.1f rpm',N);\n",
"T_e=k*I_a^2;    printf('\nmotor torque=%.0f Nm',T_e);"
   ]
   }
,
{
		   "cell_type": "markdown",
		   "metadata": {},
		   "source": [
			"## Example 12.17: to_calculate_avg_load_current.sce"
		   ]
		  },
  {
"cell_type": "code",
	   "execution_count": null,
	   "metadata": {
	    "collapsed": true
	   },
	   "outputs": [],
"source": [
"clear;\n",
"clc;\n",
"T_on=10;\n",
"T_off=15;\n",
"a=T_on/(T_on+T_off);\n",
"V_s=230;\n",
"V_t=a*V_s;\n",
"r_a=3;\n",
"K_m=.5;\n",
"N=1500;\n",
"w_m=2*%pi*N/60;\n",
"I_a=(V_t-K_m*w_m)/r_a;    printf('motor load current=%.3f A',I_a);"
   ]
   }
,
{
		   "cell_type": "markdown",
		   "metadata": {},
		   "source": [
			"## Example 12.18: to_determine_1_range_of_speed_control_2_range_of_duty_cycle.sce"
		   ]
		  },
  {
"cell_type": "code",
	   "execution_count": null,
	   "metadata": {
	    "collapsed": true
	   },
	   "outputs": [],
"source": [
"clear;\n",
"clc;\n",
"w_m=0;    printf('lower limit of speed control=%.0f rpm',w_m);\n",
"I_a=25;\n",
"r_a=.2;\n",
"V_s=220;\n",
"K_m=0.08;\n",
"a=(K_m*w_m+I_a*r_a)/V_s;    printf('\nlower limit of duty cycle=%.3f',a);\n",
"\n",
"a=1;    printf('\nupper limit of duty cycle=%.0f',a);\n",
"w_m=(a*V_s-I_a*r_a)/K_m;    printf('\nupper limit of speed control=%.1f rpm',w_m);"
   ]
   }
,
{
		   "cell_type": "markdown",
		   "metadata": {},
		   "source": [
			"## Example 12.19: EX12_19.sce"
		   ]
		  },
  {
"cell_type": "code",
	   "execution_count": null,
	   "metadata": {
	    "collapsed": true
	   },
	   "outputs": [],
"source": [
"clear;\n",
"clc;\n",
"clear\n",
"T_e=30;\n",
"K_m=1.5;\n",
"I_a=T_e/K_m;\n",
"N=1000;\n",
"w_m=2*%pi*N/60;\n",
"E_a=K_m*w_m;\n",
"r_a=0;\n",
"V_t=E_a+I_a*r_a;\n",
"V_s=220;\n",
"a=V_t/V_s;\n",
"f=400;\n",
"T=1/f;\n",
"T_on=a*T;\n",
"T_off=T-T_on;\n",
"L=0.02;\n",
"di=(V_s-E_a)/L;    //di=di_a/dt, during on period\n",
"dii=(-E_a)/L;    //di=di_a/dt, during off period\n",
"//I_mx=I_mn+di*T_on;\n",
"//I_a=(I_mx+I_mn)/2;\n",
"//after solving\n",
"I_mx=22.808;    printf('maximum armature current=%.3f A',I_mx);\n",
"I_mn=2*I_a-I_mx;    printf('\nminimum armature current=%.3f A',I_mn);\n",
"printf('\narmature current extrusion=%.3f A',I_mx-I_mn);\n",
"t=poly(0,'t');\n",
"i_a=addf('I_mn',mulf('t','di'));\n",
"printf('\narmature current expression during turn-on');\n",
"disp(eval(i_a));\n",
"i_a=addf('I_mx',mulf('t','dii'));\n",
"printf('\narmature current expression during turn-off');\n",
"disp(eval(i_a));"
   ]
   }
,
{
		   "cell_type": "markdown",
		   "metadata": {},
		   "source": [
			"## Example 12.1: EX12_1.sce"
		   ]
		  },
  {
"cell_type": "code",
	   "execution_count": null,
	   "metadata": {
	    "collapsed": true
	   },
	   "outputs": [],
"source": [
"clear;\n",
"clc;\n",
"T_e=15;//Nm\n",
"K_m=.5;//V-s/rad\n",
"I_a=T_e/K_m;\n",
"n_m=1000;\n",
"w_m=2*%pi*n_m/60;\n",
"E_a=K_m*w_m;\n",
"r_a=.7;\n",
"V_t=E_a+I_a*r_a;\n",
"V_s=230;\n",
"V_m=sqrt(2)*V_s;\n",
"a=acosd(2*%pi*V_t/V_m-1);    printf('firing angle delay=%.3f deg',a);\n",
"I_Tr=I_a*sqrt((180-a)/360);    printf('\nrms value of thyristor current=%.3f A',I_Tr);\n",
"I_fdr=I_a*sqrt((180+a)/360);    printf('\nrms value of freewheeling diode current=%.3f A',I_fdr);\n",
"pf=V_t*I_a/(V_s*I_Tr);    printf('\ninput power factor=%.4f',pf);"
   ]
   }
,
{
		   "cell_type": "markdown",
		   "metadata": {},
		   "source": [
			"## Example 12.21: EX12_21.sce"
		   ]
		  },
  {
"cell_type": "code",
	   "execution_count": null,
	   "metadata": {
	    "collapsed": true
	   },
	   "outputs": [],
"source": [
"clear;\n",
"clc;\n",
"a=.6;\n",
"V_s=400;\n",
"V_t=(1-a)*V_s;\n",
"I_a=300;\n",
"P=V_t*I_a;    printf('power returned=%.0f kW',P/1000);\n",
"\n",
"r_a=.2;\n",
"K_m=1.2;\n",
"R_eq=(1-a)*V_s/I_a+r_a;    printf('\nequivalent load resistance=%.4f ohm',R_eq);\n",
"\n",
"w_mn=I_a*r_a/K_m;\n",
"N=w_mn*60/(2*%pi);    printf('\nmin braking speed=%.2f rpm',N);\n",
"w_mx=(V_s+I_a*r_a)/K_m;\n",
"N=w_mx*60/(2*%pi);    printf('\nmax braking speed=%.1f rpm',N);\n",
"\n",
"w_m=(V_t+I_a*r_a)/K_m;\n",
"N=w_m*60/(2*%pi);    printf('\nmax braking speed=%.1f rpm',N);"
   ]
   }
,
{
		   "cell_type": "markdown",
		   "metadata": {},
		   "source": [
			"## Example 12.22: to_determine_max_current_in_terms_of_rated_currents_at_given_speeds.sce"
		   ]
		  },
  {
"cell_type": "code",
	   "execution_count": null,
	   "metadata": {
	    "collapsed": true
	   },
	   "outputs": [],
"source": [
"clear;\n",
"clc;\n",
"N=1500;\n",
"disp('when speed=1455rpm');\n",
"n=1455;\n",
"s1=(N-n)/N;\n",
"r=sqrt(1/3)*(2/3)/(sqrt(s1)*(1-s1));    printf('I_2mx/I_2r=%.3f',r);\n",
"\n",
"disp('when speed=1350rpm');\n",
"n=1350;\n",
"s1=(N-n)/N;\n",
"r=sqrt(1/3)*(2/3)/(sqrt(s1)*(1-s1));    printf('I_2mx/I_2r=%.3f',r);"
   ]
   }
,
{
		   "cell_type": "markdown",
		   "metadata": {},
		   "source": [
			"## Example 12.23: EX12_23.sce"
		   ]
		  },
  {
"cell_type": "code",
	   "execution_count": null,
	   "metadata": {
	    "collapsed": true
	   },
	   "outputs": [],
"source": [
"clear;\n",
"clc;\n",
"Po=20000;\n",
"N=1440;\n",
"w_m=2*%pi*N/60;\n",
"T_e=Po/w_m;\n",
"f1=120;\n",
"P=4;\n",
"w_s=4*%pi*f1/P;\n",
"r2=.4;\n",
"x2=1.6;\n",
"f2=50;\n",
"Z1=r2+%i*x2*f1/f2;\n",
"Z=abs(Z1);\n",
"ph=3;\n",
"V_s=400;\n",
"s=(ph/w_s)*(V_s/(Z*sqrt(3)))^2*(r2/T_e);\n",
"N=w_s*f1/(4*%pi)*(1-s);    printf('motor speed at rated laod=%.2f rpm',N);\n",
"s_m=r2/imag(Z1);    printf('\nslip at which max torque occurs=%.4f',s_m);\n",
"T_em=(3/w_s)*(V_s/sqrt(3))^2/(2*imag(Z1));    printf('\nmax torque=%.3f Nm',T_em);"
   ]
   }
,
{
		   "cell_type": "markdown",
		   "metadata": {},
		   "source": [
			"## Example 12.24: EX12_24.sce"
		   ]
		  },
  {
"cell_type": "code",
	   "execution_count": null,
	   "metadata": {
	    "collapsed": true
	   },
	   "outputs": [],
"source": [
"clear;\n",
"clc;\n",
"V1=400;\n",
"r1=.6;\n",
"r2=.4;\n",
"s=1;\n",
"x1=1.6;\n",
"x2=1.6;\n",
"disp('at starting in normal conditions');\n",
"I_n=V1/sqrt((r1+r2/s)^2+(x1+x2)^2);    printf('current=%.2f A',I_n);\n",
"pf=(r1+r2)/sqrt((r1+r2/s)^2+(x1+x2)^2);    printf('\npf=%.4f',pf);\n",
"f1=50;\n",
"w_s=4*%pi*f1/4;\n",
"T_en=(3/w_s)*I_n^2*(r2/s);    printf('\nTorque developed=%.2f Nm',T_en);\n",
"disp('motor is operated with DOL starting');\n",
"I_d=V1/2/sqrt((r1+r2/s)^2+((x1+x2)/2)^2);    printf('current=%.0f A',I_d);\n",
"pf=(r1+r2)/sqrt((r1+r2/s)^2+((x1+x2)/2)^2);    printf('\npf=%.2f',pf);\n",
"f1=25;\n",
"w_s=4*%pi*f1/4;\n",
"T_ed=(3/w_s)*I_d^2*(r2/s);    printf('\nTorque developed=%.3f Nm',T_ed);\n",
"\n",
"disp('at max torque conditions');\n",
"s_mn=r2/sqrt((r1)^2+((x1+x2))^2);\n",
"I_n=V1/sqrt((r1+r2/s_mn)^2+(x1+x2)^2);    printf('current=%.3f A',I_n);\n",
"pf=(r1+r2/s_mn)/sqrt((r1+r2/s_mn)^2+(x1+x2)^2);    printf('\npf=%.4f',pf);\n",
"f1=50;\n",
"w_s=4*%pi*f1/4;\n",
"T_en=(3/w_s)*I_n^2*(r2/s_mn);    printf('\nTorque developed=%.2f Nm',T_en);\n",
"disp('motor is operated with DOL starting');\n",
"s_mn=r2/sqrt((r1)^2+((x1+x2)/2)^2);\n",
"I_d=V1/2/sqrt((r1+r2/s_mn)^2+((x1+x2)/2)^2);    printf('current=%.3f A',I_d);\n",
"pf=(r1+r2/s_mn)/sqrt((r1+r2/s_mn)^2+((x1+x2)/2)^2);    printf('\npf=%.3f',pf);\n",
"f1=25;\n",
"w_s=4*%pi*f1/4;\n",
"T_en=(3/w_s)*I_d^2*(r2/s_mn);    printf('\nTorque developed=%.3f Nm',T_en);"
   ]
   }
,
{
		   "cell_type": "markdown",
		   "metadata": {},
		   "source": [
			"## Example 12.25: calculate_1_slip_for_max_torque_2_starting_and_max_torques_3_supply_voltage_reqd.sce"
		   ]
		  },
  {
"cell_type": "code",
	   "execution_count": null,
	   "metadata": {
	    "collapsed": true
	   },
	   "outputs": [],
"source": [
"clear;\n",
"clc;\n",
"x1=1;\n",
"X_m=50;\n",
"X_e=x1*X_m/(x1+X_m);\n",
"V=231;\n",
"V_e=V*X_m/(x1+X_m);\n",
"x2=1;\n",
"r2=.4;\n",
"r1=0;\n",
"s_m=r2/(x2+X_e);    printf('slip at max torque=%.2f',s_m);\n",
"s_mT=r2/(x2+X_m);    printf('\nslip at max torque=%.5f',s_mT);\n",
"f1=50;\n",
"w_s=4*%pi*f1/4;\n",
"disp('for constant voltage input');\n",
"T_est=(3/w_s)*(V_e/sqrt(r2^2+(x2+X_e)^2))^2*(r2);    printf('starting torque=%.3f Nm',T_est);\n",
"T_em=(3/w_s)*V_e^2/(2*(x2+X_e));    printf('\nmaximum torque developed=%.2f Nm',T_em);\n",
"disp('for constant current input');\n",
"I1=28;\n",
"T_est=(3/w_s)*(I1*X_m)^2/(r2^2+(x2+X_m)^2)*r2;    printf('starting torque=%.3f Nm',T_est);\n",
"T_em=(3/w_s)*(I1*X_m)^2/(2*(x2+X_m));    printf('\nmaximum torque developed=%.3f Nm',T_em);\n",
"s=s_mT;\n",
"I_m=I1*(r2/s+%i*x2)/(r2/s+%i*(x2+X_m));\n",
"I_m=abs(I_m);\n",
"V1=sqrt(3)*I_m*X_m;    printf('\nsupply voltage reqd=%.1f V',V1);"
   ]
   }
,
{
		   "cell_type": "markdown",
		   "metadata": {},
		   "source": [
			"## Example 12.27: EX12_27.sce"
		   ]
		  },
  {
"cell_type": "code",
	   "execution_count": null,
	   "metadata": {
	    "collapsed": true
	   },
	   "outputs": [],
"source": [
"clear;\n",
"clc;\n",
"V=420;\n",
"V1=V/sqrt(3);\n",
"T_e=450;\n",
"N=1440;\n",
"n=1000;\n",
"T_L=T_e*(n/N)^2;\n",
"n1=1500;\n",
"w_s=2*%pi*n1/60;\n",
"w_m=2*%pi*n/60;\n",
"a=.8;\n",
"I_d=T_L*w_s/(2.339*a*V1);\n",
"k=0;\n",
"R=(1-w_m/w_s)*(2.339*a*V1)/(I_d*(1-k));    printf('value of chopper resistance=%.4f ohm',R);\n",
"\n",
"n=1320;\n",
"T_L=T_e*(n/N)^2;\n",
"I_d=T_L*w_s/(2.339*a*V1);    printf('\ninductor current=%.3f A',I_d);\n",
"\n",
"w_m=2*%pi*n/60;\n",
"k=1-((1-w_m/w_s)*(2.339*a*V1)/(I_d*R));    printf('\nvalue of duty cycle=%.4f',k);\n",
"\n",
"s=(n1-n)/n1;\n",
"V_d=2.339*s*a*V1;    printf('\nrectifed o/p voltage=%.3f V',V_d);\n",
"\n",
"P=V_d*I_d;\n",
"I2=sqrt(2/3)*I_d;\n",
"r2=0.02;\n",
"Pr=3*I2^2*r2;\n",
"I1=a*I2;\n",
"r1=0.015;\n",
"Ps=3*I1^2*r1;\n",
"Po=T_L*w_m;\n",
"Pi=Po+Ps+Pr+P;\n",
"eff=Po/Pi*100;    printf('\nefficiency(in percent)=%.2f',eff);"
   ]
   }
,
{
		   "cell_type": "markdown",
		   "metadata": {},
		   "source": [
			"## Example 12.28: EX12_28.sce"
		   ]
		  },
  {
"cell_type": "code",
	   "execution_count": null,
	   "metadata": {
	    "collapsed": true
	   },
	   "outputs": [],
"source": [
"clear;\n",
"clc;\n",
"V=400;\n",
"V_ph=V/sqrt(3);\n",
"N_s=1000;\n",
"N=800;\n",
"a=.7;\n",
"I_d=110;\n",
"R=2;\n",
"k=1-((1-N/N_s)*(2.339*a*V_ph)/(I_d*R));    printf('value of duty cycle=%.3f',k);\n",
"P=I_d^2*R*(1-k);\n",
"I1=a*I_d*sqrt(2/3);\n",
"r1=.1;\n",
"r2=.08;\n",
"Pr=3*I1^2*(r1+r2);\n",
"P_o=20000;\n",
"P_i=P_o+Pr+P;\n",
"eff=P_o/P_i*100;    printf('\nefficiency=%.2f',eff);\n",
"\n",
"I11=sqrt(6)/%pi*a*I_d\n",
"th=43;\n",
"P_ip=sqrt(3)*V*I11*cosd(th);\n",
"pf=P_ip/(sqrt(3)*V*I11);    printf('\ninput power factor=%.4f',pf);"
   ]
   }
,
{
		   "cell_type": "markdown",
		   "metadata": {},
		   "source": [
			"## Example 12.29: EX12_29.sce"
		   ]
		  },
  {
"cell_type": "code",
	   "execution_count": null,
	   "metadata": {
	    "collapsed": true
	   },
	   "outputs": [],
"source": [
"clear;\n",
"clc;\n",
"V=420;\n",
"V1=V/sqrt(3);\n",
"N=1000;\n",
"w_m=2*%pi*N/60;\n",
"N_s=1500;\n",
"s=(N_s-N)/N_s;\n",
"a=.8;\n",
"V_d=2.339*a*s*V1;    printf('rectified voltage=%.2f V',V_d);\n",
"T=450;\n",
"N1=1200;\n",
"T_L=T*(N/N1)^2;\n",
"f1=50;\n",
"w_s=4*%pi*f1/4;\n",
"I_d=w_s*T_L/(2.339*a*V1);    printf('\ninductor current=%.2f A',I_d);\n",
"a_T=-.4;\n",
"a1=acosd(s*a/a_T);    printf('\ndelay angle of inverter=%.2f deg',a1);\n",
"\n",
"P_s=V_d*I_d;\n",
"P_o=T_L*w_m;\n",
"R_d=0.01;\n",
"P_i=I_d^2*R_d;\n",
"I2=sqrt(2/3)*I_d;\n",
"r2=0.02;\n",
"r1=0.015;\n",
"P_rol=3*I2^2*r2;\n",
"I1=a*I2;\n",
"P_sol=3*I1^2*r1;\n",
"P_i=P_o+P_rol+P_sol+P_i;\n",
"eff=P_o/P_i*100;    printf('\nefficiency=%.2f',eff);\n",
"w_m=w_s*(1+(-a_T/a)*cosd(a1)-w_s*R_d*T_L/(2.339*a*V1)^2);\n",
"N=w_m*60/(2*%pi);    printf('\nmotor speed=%.1f rpm',N);\n",
"//Answers have small variations from that in the book due to difference in the rounding off of digits."
   ]
   }
,
{
		   "cell_type": "markdown",
		   "metadata": {},
		   "source": [
			"## Example 12.2: calculate_the_avg_armature_current_and_the_motor_torque.sce"
		   ]
		  },
  {
"cell_type": "code",
	   "execution_count": null,
	   "metadata": {
	    "collapsed": true
	   },
	   "outputs": [],
"source": [
"clear;\n",
"clc;\n",
"V_m=330;\n",
"E_a=80;\n",
"r_a=4;\n",
"a=30;\n",
"I_a=((V_m/%pi*(1+cosd(a)))-E_a)/r_a;    printf('avg armature current=%.3f A',I_a);\n",
"n_s=1400;\n",
"w_m=2*%pi*n_s/60;\n",
"K_m=E_a/w_m;\n",
"T_e=K_m*I_a;    printf('\nmotor torque=%.3f Nm',T_e);"
   ]
   }
,
{
		   "cell_type": "markdown",
		   "metadata": {},
		   "source": [
			"## Example 12.30: to_find_firing_angle_advance_of_inveter.sce"
		   ]
		  },
  {
"cell_type": "code",
	   "execution_count": null,
	   "metadata": {
	    "collapsed": true
	   },
	   "outputs": [],
"source": [
"clear;\n",
"clc;\n",
"V=700;\n",
"E2=V/sqrt(3);\n",
"N_s=1500;\n",
"N=1200;\n",
"s=(N_s-N)/N_s;\n",
"V_dd=.7;\n",
"V_dt=1.5;\n",
"V_d=3*sqrt(6)*s*E2/%pi-2*V_dd;\n",
"V1=415;\n",
"a=acosd((3*sqrt(2)*E2/%pi)^-1*(-V_d+2*V_dt));\n",
"printf('firing angle advance=%.2f deg',180-a);"
   ]
   }
,
{
		   "cell_type": "markdown",
		   "metadata": {},
		   "source": [
			"## Example 12.31: to_find_firing_angle_advance_of_inveter.sce"
		   ]
		  },
  {
"cell_type": "code",
	   "execution_count": null,
	   "metadata": {
	    "collapsed": true
	   },
	   "outputs": [],
"source": [
"clear;\n",
"clc;\n",
"V=700;\n",
"E2=V/sqrt(3);\n",
"N_s=1500;\n",
"N=1200;\n",
"s=(N_s-N)/N_s;\n",
"V_dd=.7;\n",
"V_dt=1.5;\n",
"a=0;\n",
"u=18;//overlap angle in case of rectifier\n",
"V_d=3*sqrt(6)*s*E2*(cosd(a)+cosd(a+u))/(2*%pi)-2*V_dd;\n",
"\n",
"V1=415;\n",
"V_ml=sqrt(2)*V1;\n",
"u=4;//overlap anglein the inverter\n",
"//V_dc=-(3*V_ml*(cosd(a)+cosd(a+u))/(2*%pi)-2*V_dt);\n",
"//V_dc=V_d;\n",
"//after solving,  (1+cosd(u))*cosd(a)-sind(u)*sind(a)=-.6425\n",
"a=acosd(-.6425/(sqrt((1+cosd(u))^2+sind(u)^2)))-atand(sind(u)/(1+cosd(u)));\n",
"printf('firing angle advance=%.2f deg',180-a);"
   ]
   }
,
{
		   "cell_type": "markdown",
		   "metadata": {},
		   "source": [
			"## Example 12.32: to_find_the_voltage_ratio_of_the_transformer.sce"
		   ]
		  },
  {
"cell_type": "code",
	   "execution_count": null,
	   "metadata": {
	    "collapsed": true
	   },
	   "outputs": [],
"source": [
"clear;\n",
"clc;\n",
"V=700;\n",
"E2=V;\n",
"N_s=1500;\n",
"N=1200;\n",
"s=(N_s-N)/N_s;\n",
"V1=415;\n",
"a_T=s*E2/V1;    printf('voltage ratio of the transformer=%.4f',a_T);"
   ]
   }
,
{
		   "cell_type": "markdown",
		   "metadata": {},
		   "source": [
			"## Example 12.33: EX12_33.sce"
		   ]
		  },
  {
"cell_type": "code",
	   "execution_count": null,
	   "metadata": {
	    "collapsed": true
	   },
	   "outputs": [],
"source": [
"clear;\n",
"clc;\n",
"P=6;\n",
"N_s=600;\n",
"f1=P*N_s/120;\n",
"V=400;\n",
"f=50;\n",
"V_t=f1*V/f;    printf('supply freq=%.0f Hz',V_t);\n",
"T=340;\n",
"N=1000;\n",
"T_L=T*(N_s/N)^2;\n",
"w_s=2*%pi*N_s/60;\n",
"P=T_L*w_s;\n",
"I_a=P/(sqrt(3)*V_t);    printf('\narmature current=%.2f A',I_a);\n",
"Z_s=%i*2;\n",
"X_s=f1/f*abs(Z_s);\n",
"V_t=V_t/sqrt(3);\n",
"Ef=sqrt(V_t^2+(I_a*X_s)^2);\n",
"printf('\nexcitation voltage=%.2f V',sqrt(3)*Ef);\n",
"dl=atand(I_a*X_s/V_t);    printf('\nload angle=%.2f deg',dl);\n",
"T_em=(3/w_s)*(Ef*V_t/X_s);    printf('\npull out torque=%.2f Nm',T_em);"
   ]
   }
,
{
		   "cell_type": "markdown",
		   "metadata": {},
		   "source": [
			"## Example 12.34: to_calculate_1_load_angle_2_line_current_3_input_pf.sce"
		   ]
		  },
  {
"cell_type": "code",
	   "execution_count": null,
	   "metadata": {
	    "collapsed": true
	   },
	   "outputs": [],
"source": [
"clear;\n",
"clc;\n",
"P=4;\n",
"f=50;\n",
"w_s=4*%pi*f/P;\n",
"X_d=8;\n",
"X_q=2;\n",
"T_e=80;\n",
"V=400;\n",
"V_t=V/sqrt(3);\n",
"dl=(1/2)*asind(T_e*w_s/((3/2)*(V_t)^2*(1/X_q-1/X_d)));    printf('load angle=%.3f deg',dl);\n",
"I_d=V_t*cosd(dl)/X_d;\n",
"I_q=V_t*sind(dl)/X_q;\n",
"I_a=sqrt(I_d^2+I_q^2);    printf('\narmature current=%.2f A',I_a);\n",
"pf=T_e*w_s/(sqrt(3)*V*I_a);    printf('\ninput power factor=%.4f',pf);"
   ]
   }
,
{
		   "cell_type": "markdown",
		   "metadata": {},
		   "source": [
			"## Example 12.35: To_calculate_motor_speed.sce"
		   ]
		  },
  {
"cell_type": "code",
	   "execution_count": null,
	   "metadata": {
	    "collapsed": true
	   },
	   "outputs": [],
"source": [
"clear;\n",
"clc;\n",
"T_e=3;\n",
"K_m=1.2;\n",
"I_a=T_e/K_m;\n",
"r_a=2;\n",
"V=230;\n",
"E_a=(.263*sqrt(2)*V-I_a*r_a)/(1-55/180);\n",
"w_m=E_a/K_m;\n",
"N=w_m*60/(2*%pi);    printf('motor speed=%.2f rpm',N);"
   ]
   }
,
{
		   "cell_type": "markdown",
		   "metadata": {},
		   "source": [
			"## Example 12.36: to_calculate_avg_motor_torque.sce"
		   ]
		  },
  {
"cell_type": "code",
	   "execution_count": null,
	   "metadata": {
	    "collapsed": true
	   },
	   "outputs": [],
"source": [
"clear;\n",
"clc;\n",
"K_m=1;\n",
"N=1360;\n",
"w_m=2*%pi*N/60;\n",
"E_a=K_m*w_m;\n",
"//after calculations V_t, calculated\n",
"V_t=163.45;\n",
"r_a=4;\n",
"I_a=(V_t-E_a)/r_a;\n",
"T_e=K_m*I_a;    printf('motor torque=%.4f Nm',T_e);"
   ]
   }
,
{
		   "cell_type": "markdown",
		   "metadata": {},
		   "source": [
			"## Example 12.37: to_calculate_avg_motor_torque.sce"
		   ]
		  },
  {
"cell_type": "code",
	   "execution_count": null,
	   "metadata": {
	    "collapsed": true
	   },
	   "outputs": [],
"source": [
"clear;\n",
"clc;\n",
"K_m=1;\n",
"N=2100;\n",
"w_m=2*%pi*N/60;\n",
"E_a=K_m*w_m;\n",
"//after calculations V_t, calculated\n",
"V_t=227.66;\n",
"r_a=4;\n",
"I_a=(V_t-E_a)/r_a;\n",
"T_e=K_m*I_a;    printf('motor torque=%.4f Nm',T_e);"
   ]
   }
,
{
		   "cell_type": "markdown",
		   "metadata": {},
		   "source": [
			"## Example 12.38: to_calculate_avg_motor_torque.sce"
		   ]
		  },
  {
"cell_type": "code",
	   "execution_count": null,
	   "metadata": {
	    "collapsed": true
	   },
	   "outputs": [],
"source": [
"clear;\n",
"clc;\n",
"K_m=1;\n",
"N=840;\n",
"w_m=2*%pi*N/60;\n",
"E_a=K_m*w_m;\n",
"V=230;\n",
"a=75;\n",
"V_t=sqrt(2)*V/%pi*(1+cosd(a));\n",
"r_a=4;\n",
"I_a=(V_t-E_a)/r_a;\n",
"T_e=K_m*I_a;    printf('motor torque=%.4f Nm',T_e);\n",
"//Answers have small variations from that in the book due to difference in the rounding off of digits."
   ]
   }
,
{
		   "cell_type": "markdown",
		   "metadata": {},
		   "source": [
			"## Example 12.39: to_calculate_avg_motor_torque.sce"
		   ]
		  },
  {
"cell_type": "code",
	   "execution_count": null,
	   "metadata": {
	    "collapsed": true
	   },
	   "outputs": [],
"source": [
"clear;\n",
"clc;\n",
"K_m=1;\n",
"N=1400;\n",
"w_m=2*%pi*N/60;\n",
"E_a=K_m*w_m;\n",
"V=230;\n",
"a=60;\n",
"a1=212;\n",
"V_t=sqrt(2)*V/%pi*(cosd(a)-cosd(a1))+E_a*(180+a-a1)/180;\n",
"r_a=3;\n",
"I_a=(V_t-E_a)/r_a;\n",
"T_e=K_m*I_a;    printf('motor torque=%.3f Nm',T_e);"
   ]
   }
,
{
		   "cell_type": "markdown",
		   "metadata": {},
		   "source": [
			"## Example 12.3: to_determine_1_motor_current_2_motor_torque_3_input_pf.sce"
		   ]
		  },
  {
"cell_type": "code",
	   "execution_count": null,
	   "metadata": {
	    "collapsed": true
	   },
	   "outputs": [],
"source": [
"clear;\n",
"clc;\n",
"V_s=250;\n",
"V_m=sqrt(2)*V_s;\n",
"a=30;\n",
"k=0.03;//Nm/A^2\n",
"n_m=1000;\n",
"w_m=2*%pi*n_m/60;\n",
"r=.2;//r_a+r_s\n",
"V_t=V_m/%pi*(1+cosd(a));\n",
"I_a=V_t/(k*w_m+r);    printf('motor armature current=%.2f A',I_a);\n",
"T_e=k*I_a^2;    printf('\nmotor torque=%.3f Nm',T_e);\n",
"I_sr=I_a*sqrt((180-a)/180);\n",
"pf=(V_t*I_a)/(V_s*I_sr);    printf('\ninput power factor=%.4f',pf);"
   ]
   }
,
{
		   "cell_type": "markdown",
		   "metadata": {},
		   "source": [
			"## Example 12.40: to_calculate_avg_motor_torque.sce"
		   ]
		  },
  {
"cell_type": "code",
	   "execution_count": null,
	   "metadata": {
	    "collapsed": true
	   },
	   "outputs": [],
"source": [
"clear;\n",
"clc;\n",
"K_m=1;\n",
"N=600;\n",
"w_m=2*%pi*N/60;\n",
"E_a=K_m*w_m;\n",
"V=230;\n",
"a=60;\n",
"V_t=2*sqrt(2)*V/%pi*(cosd(a));\n",
"r_a=3;\n",
"I_a=(V_t-E_a)/r_a;\n",
"T_e=K_m*I_a;    printf('motor torque=%.3f Nm',T_e);"
   ]
   }
,
{
		   "cell_type": "markdown",
		   "metadata": {},
		   "source": [
			"## Example 12.41: to_calculate_the_value_of_load_current_and_source_current.sce"
		   ]
		  },
  {
"cell_type": "code",
	   "execution_count": null,
	   "metadata": {
	    "collapsed": true
	   },
	   "outputs": [],
"source": [
"clear;\n",
"clc;\n",
"r1=.6;\n",
"r2=.4;\n",
"s=0.04;\n",
"x1=1.6;\n",
"x2=1.6;\n",
"Z=(r1+r2/s)+%i*(x1+x2);\n",
"V=400;\n",
"I1=V/Z;    printf('source current=%.3f A and with %.1f deg phase',atand(imag(I1)/real(I1)),abs(I1));\n",
"I2=V/Z;\n",
"N=1500;\n",
"w_s=2*%pi*N/60;\n",
"T_e=(3/w_s)*abs(I2)^2*r2/s;    printf('\nmotor torque=%.2f Nm',T_e);\n",
"N_r=N*(1-s);\n",
"\n",
"f=45;\n",
"N_s1=120*f/4;\n",
"w_s=2*%pi*N_s1/60;\n",
"s1=(N_s1-N_r)/N_s1;\n",
"Z=(r1+r2/s1)+%i*(x1+x2)*f/50;\n",
"V=360;\n",
"I1=V/Z;    printf('\nsource current=%.3f A and with %.1f deg phase',atand(imag(I1)/real(I1)),abs(I1));\n",
"I2=V/Z;\n",
"T_e=(3/w_s)*abs(I2)^2*r2/s1;    printf('\nmotor torque=%.2f Nm',T_e);"
   ]
   }
,
{
		   "cell_type": "markdown",
		   "metadata": {},
		   "source": [
			"## Example 12.4: EX12_4.sce"
		   ]
		  },
  {
"cell_type": "code",
	   "execution_count": null,
	   "metadata": {
	    "collapsed": true
	   },
	   "outputs": [],
"source": [
"clear;\n",
"clc;\n",
"V_s=400;\n",
"V_m=sqrt(2)*V_s;\n",
"V_f=2*V_m/%pi;\n",
"r_f=200;\n",
"I_f=V_f/r_f;\n",
"T_e=85;\n",
"K_a=.8;\n",
"I_a=T_e/(I_f*K_a);    printf('rated armature current=%.2f A',I_a);\n",
"n_m=1200;\n",
"w_m=2*%pi*n_m/60;\n",
"r_a=.2;\n",
"V_t=K_a*I_f*w_m+I_a*r_a;\n",
"a=acosd(V_t*%pi/(2*V_m));    printf('\nfiring angle delay=%.2f deg',a);\n",
"E_a=V_t;\n",
"w_mo=E_a/(K_a*I_f);\n",
"N=60*w_mo/(2*%pi);\n",
"reg=((N-n_m)/n_m)*100;    printf('\nspeed regulation at full load=%.2f',reg);\n",
"I_ar=I_a;\n",
"pf=(V_t*I_a)/(V_s*I_ar);    printf('\ninput power factor of armature convertor=%.4f',pf);\n",
"I_fr=I_f;\n",
"I_sr=sqrt(I_fr^2+I_ar^2);\n",
"VA=I_sr*V_s;\n",
"P=V_t*I_a+V_f*I_f;\n",
"printf('\ninput power factor of drive=%.4f',P/VA);\n",
"//Answers have small variations from that in the book due to difference in the rounding off of digits."
   ]
   }
,
{
		   "cell_type": "markdown",
		   "metadata": {},
		   "source": [
			"## Example 12.5: EX12_5.sce"
		   ]
		  },
  {
"cell_type": "code",
	   "execution_count": null,
	   "metadata": {
	    "collapsed": true
	   },
	   "outputs": [],
"source": [
"clear;\n",
"clc;\n",
"V_s=400;\n",
"V_m=sqrt(2)*V_s;\n",
"V_f=2*V_m/%pi;\n",
"a1=acosd(-V_f*%pi/(2*V_m));    printf('delay angle of field converter=%.0f deg',a1);\n",
"r_f=200;\n",
"I_f=V_f/r_f;\n",
"T_e=85;\n",
"K_a=.8;\n",
"I_a=T_e/(I_f*K_a);\n",
"n_m=1200;\n",
"w_m=2*%pi*n_m/60;\n",
"r_a=.1;\n",
"I_a=50;\n",
"V_t=-K_a*I_f*w_m+I_a*r_a;\n",
"a=acosd(V_t*%pi/(2*V_m));    printf('\nfiring angle delay of armature converter=%.3f deg',a);\n",
"printf('\npower fed back to ac supply=%.0f W',-V_t*I_a);"
   ]
   }
,
{
		   "cell_type": "markdown",
		   "metadata": {},
		   "source": [
			"## Example 12.6: To_compute_1_motor_speed_2_torque_developed.sce"
		   ]
		  },
  {
"cell_type": "code",
	   "execution_count": null,
	   "metadata": {
	    "collapsed": true
	   },
	   "outputs": [],
"source": [
"clear;\n",
"clc;\n",
"V_t=220;\n",
"n_m=1500;\n",
"w_m=2*%pi*n_m/60;\n",
"I_a=10;\n",
"r_a=1;\n",
"K_m=(V_t-I_a*r_a)/(w_m);\n",
"T=5;\n",
"I_a=T/K_m;\n",
"V_s=230;\n",
"V_m=sqrt(2)*V_s;\n",
"a=30;\n",
"V_t=2*V_m*cosd(a)/%pi;\n",
"w_m=(V_t-I_a*r_a)/K_m;\n",
"N=w_m*60/(2*%pi);    printf('motor speed=%.2f rpm',N);\n",
"a=45;\n",
"n_m=1000;\n",
"w_m=2*%pi*n_m/60;\n",
"V_t=2*V_m*cosd(a)/%pi;\n",
"I_a=(V_t-K_m*w_m)/r_a;\n",
"T_e=K_m*I_a;    printf('\ntorque developed=%.3f Nm',T_e);\n",
"//Answers have small variations from that in the book due to difference in the rounding off of digits."
   ]
   }
,
{
		   "cell_type": "markdown",
		   "metadata": {},
		   "source": [
			"## Example 12.7: to_compute_firing_angle_and_motor_speed.sce"
		   ]
		  },
  {
"cell_type": "code",
	   "execution_count": null,
	   "metadata": {
	    "collapsed": true
	   },
	   "outputs": [],
"source": [
"clear;\n",
"clc;\n",
"V_t=220;\n",
"n_m=1000;\n",
"w_m=2*%pi*n_m/60;\n",
"I_a=60;\n",
"r_a=.1;\n",
"K_m=(V_t-I_a*r_a)/(w_m);\n",
"V_s=230;\n",
"V_m=sqrt(2)*V_s;\n",
"disp('for 600rpm speed');\n",
"n_m=600;\n",
"w_m=2*%pi*n_m/60;\n",
"a=acosd((K_m*w_m+I_a*r_a)*%pi/(2*V_m));    printf('firing angle=%.3f deg',a);\n",
"\n",
"disp('for -500rpm speed');\n",
"n_m=-500;\n",
"w_m=2*%pi*n_m/60;\n",
"a=acosd((K_m*w_m+I_a*r_a)*%pi/(2*V_m));    printf('firing angle=%.3f deg',a);\n",
"\n",
"I_a=I_a/2;\n",
"a=150;\n",
"V_t=2*V_m*cosd(a)/%pi;\n",
"w_m=(V_t-I_a*r_a)/K_m;\n",
"N=w_m*60/(2*%pi);    printf('\nmotor speed=%.3f rpm',N);"
   ]
   }
,
{
		   "cell_type": "markdown",
		   "metadata": {},
		   "source": [
			"## Example 12.8: to_calculate_the_speed_of_the_motor.sce"
		   ]
		  },
  {
"cell_type": "code",
	   "execution_count": null,
	   "metadata": {
	    "collapsed": true
	   },
	   "outputs": [],
"source": [
"clear;\n",
"clc;\n",
"K_m=1.5;\n",
"T_e=50;\n",
"I_a=T_e/K_m;\n",
"r_a=0.9;\n",
"a=45;\n",
"V_s=415;\n",
"V_ml=sqrt(2)*V_s;\n",
"w_m=((3*V_ml*(1+cosd(a))/(2*%pi))-I_a*r_a)/K_m;\n",
"N=w_m*60/(2*%pi);    printf('motor speed=%.2f rpm',N);"
   ]
   }
,
{
		   "cell_type": "markdown",
		   "metadata": {},
		   "source": [
			"## Example 12.9: EX12_9.sce"
		   ]
		  },
  {
"cell_type": "code",
	   "execution_count": null,
	   "metadata": {
	    "collapsed": true
	   },
	   "outputs": [],
"source": [
"clear;\n",
"clc;\n",
"V_t=600;\n",
"n_m=1500;\n",
"w_m=2*%pi*n_m/60;\n",
"I_a=80;\n",
"r_a=1;\n",
"K_m=(V_t-I_a*r_a)/(w_m);\n",
"V_s=400;\n",
"V_m=sqrt(2)*V_s;\n",
"disp('for firing angle=45deg and speed=1200rpm');\n",
"a=45;\n",
"n_m=1200;\n",
"w_m=2*%pi*n_m/60;\n",
"I_a=(3*V_m*(1+cosd(a))/(2*%pi)-K_m*w_m)/r_a;\n",
"I_sr=I_a*sqrt(2/3);    printf('rms value of source current=%.3f A',I_sr);\n",
"printf('\nrms value of thyristor current=%.3f A',I_a*sqrt(1/3));\n",
"printf('\navg value of thyristor current=%.2f A',I_a*(1/3));\n",
"pf=(3/(2*%pi)*(1+cosd(a)));    printf('\ninput power factor=%.3f',pf);\n",
"\n",
"disp('for firing angle=90deg and speed=700rpm');\n",
"a=90;\n",
"n_m=700;\n",
"w_m=2*%pi*n_m/60;\n",
"I_a=(3*V_m*(1+cosd(a))/(2*%pi)-K_m*w_m)/r_a;\n",
"I_sr=I_a*sqrt(90/180);    printf('rms value of source current=%.3f A',I_sr);\n",
"printf('\nrms value of thyristor current=%.3f A',I_a*sqrt(90/360));\n",
"printf('\navg value of thyristor current=%.3f A',I_a*(1/3));\n",
"pf=(sqrt(6)/(2*%pi)*(1+cosd(a)))*sqrt(180/(180-a));    printf('\ninput power factor=%.4f',pf);"
   ]
   }
],
"metadata": {
		  "kernelspec": {
		   "display_name": "Scilab",
		   "language": "scilab",
		   "name": "scilab"
		  },
		  "language_info": {
		   "file_extension": ".sce",
		   "help_links": [
			{
			 "text": "MetaKernel Magics",
			 "url": "https://github.com/calysto/metakernel/blob/master/metakernel/magics/README.md"
			}
		   ],
		   "mimetype": "text/x-octave",
		   "name": "scilab",
		   "version": "0.7.1"
		  }
		 },
		 "nbformat": 4,
		 "nbformat_minor": 0
}
