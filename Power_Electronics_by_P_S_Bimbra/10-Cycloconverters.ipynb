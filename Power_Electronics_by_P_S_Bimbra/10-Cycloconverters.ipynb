{
"cells": [
 {
		   "cell_type": "markdown",
	   "metadata": {},
	   "source": [
       "# Chapter 10: Cycloconverters"
	   ]
	},
{
		   "cell_type": "markdown",
		   "metadata": {},
		   "source": [
			"## Example 10.2: EX10_2.sce"
		   ]
		  },
  {
"cell_type": "code",
	   "execution_count": null,
	   "metadata": {
	    "collapsed": true
	   },
	   "outputs": [],
"source": [
"clear;\n",
"clc;\n",
"V_s=230;\n",
"V_m=sqrt(2)*V_s;\n",
"R=10;\n",
"a=30;\n",
"V_or=(V_m/sqrt(2))*sqrt((1/%pi)*(%pi-a*%pi/180+sind(2*a)/2));\n",
"I_or=V_or/R;    printf('rms value of o/p current=%.2f A',I_or);\n",
"printf('\nrms value of o/p current for each convertor=%.2f A',I_or/sqrt(2));\n",
"printf('\nrms value of o/p current for each thyristor=%.3f A',I_or/2);\n",
"I_s=I_or;\n",
"pf=(I_or^2*R)/(V_s*I_s);    printf('\ni/p pf=%.4f',pf);"
   ]
   }
,
{
		   "cell_type": "markdown",
		   "metadata": {},
		   "source": [
			"## Example 10.4: EX10_4.sce"
		   ]
		  },
  {
"cell_type": "code",
	   "execution_count": null,
	   "metadata": {
	    "collapsed": true
	   },
	   "outputs": [],
"source": [
"clear;\n",
"clc;\n",
"V_s=400;\n",
"V_ph=V_s/2;\n",
"a=160;\n",
"r=cosd(180-a);\n",
"m=3;\n",
"V_or=r*(V_ph*(m/%pi)*sin(%pi/m));    printf('rms o/p voltage=%.3f V',V_or);\n",
"R=2;\n",
"X_L=1.5;\n",
"th=atand(X_L/R);\n",
"Z=sqrt(R^2+X_L^2);\n",
"I_or=V_or/Z;    printf('\nrms o/p current=%.2f A',I_or);\n",
"printf('\nphase angle of o/p current=%.2f deg',-th)\n",
"P=I_or^2*R;    printf('\no/p power=%.2f W',P);"
   ]
   }
,
{
		   "cell_type": "markdown",
		   "metadata": {},
		   "source": [
			"## Example 10.5: EX10_5.sce"
		   ]
		  },
  {
"cell_type": "code",
	   "execution_count": null,
	   "metadata": {
	    "collapsed": true
	   },
	   "outputs": [],
"source": [
"clear;\n",
"clc;\n",
"V_s=400;\n",
"V_ph=V_s/2;\n",
"V_l=V_ph*sqrt(3);\n",
"a=160;\n",
"r=cosd(180-a);\n",
"m=6;\n",
"V_or=r*(V_l*(m/%pi)*sin(%pi/m));    printf('rms o/p voltage=%.2f V',V_or);\n",
"R=2;\n",
"X_L=1.5;\n",
"th=atand(X_L/R);\n",
"Z=sqrt(R^2+X_L^2);\n",
"I_or=V_or/Z;    printf('\nrms o/p current=%.2f A',I_or);\n",
"printf('\nphase angle of o/p current=%.2f deg',-th)\n",
"P=I_or^2*R;    printf('\no/p power=%.2f W',P);"
   ]
   }
,
{
		   "cell_type": "markdown",
		   "metadata": {},
		   "source": [
			"## Example 10.7: to_calculata_rms_value_of_load_voltage_for_various_firing_angle_delays.sce"
		   ]
		  },
  {
"cell_type": "code",
	   "execution_count": null,
	   "metadata": {
	    "collapsed": true
	   },
	   "outputs": [],
"source": [
"clear;\n",
"clc;\n",
"V_l=400;\n",
"V_ml=sqrt(2)*V_l;\n",
"m=6;\n",
"f=50;\n",
"w=2*%pi*f;\n",
"L=.0012;\n",
"I=40;\n",
"disp('for firing angle=0deg');\n",
"a=0;\n",
"V_or=(V_ml*(m/%pi)*sin(%pi/m))*cosd(a);\n",
"V_omx=V_or-3*w*L*I/%pi;\n",
"V_rms=V_omx/sqrt(2);    printf('rms value of load voltage=%.2f V',V_rms);\n",
"\n",
"disp('for firing angle=30deg');\n",
"a=30;\n",
"V_or=(V_ml*(m/%pi)*sin(%pi/m))*cosd(a);\n",
"V_omx=V_or-3*w*L*I/%pi;\n",
"V_rms=V_omx/sqrt(2);    printf('rms value of load voltage=%.2f V',V_rms);"
   ]
   }
],
"metadata": {
		  "kernelspec": {
		   "display_name": "Scilab",
		   "language": "scilab",
		   "name": "scilab"
		  },
		  "language_info": {
		   "file_extension": ".sce",
		   "help_links": [
			{
			 "text": "MetaKernel Magics",
			 "url": "https://github.com/calysto/metakernel/blob/master/metakernel/magics/README.md"
			}
		   ],
		   "mimetype": "text/x-octave",
		   "name": "scilab",
		   "version": "0.7.1"
		  }
		 },
		 "nbformat": 4,
		 "nbformat_minor": 0
}
