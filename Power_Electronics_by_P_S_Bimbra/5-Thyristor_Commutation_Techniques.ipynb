{
"cells": [
 {
		   "cell_type": "markdown",
	   "metadata": {},
	   "source": [
       "# Chapter 5: Thyristor Commutation Techniques"
	   ]
	},
{
		   "cell_type": "markdown",
		   "metadata": {},
		   "source": [
			"## Example 5.11: to_find_current_in_R_and_L.sce"
		   ]
		  },
  {
"cell_type": "code",
	   "execution_count": null,
	   "metadata": {
	    "collapsed": true
	   },
	   "outputs": [],
"source": [
"clear;\n",
"clc;\n",
"L=1;\n",
"R=50;\n",
"V_s=200;\n",
"tau=L/R;\n",
"t=.01;\n",
"i=(V_s/R)*(1-exp(-t/tau));\n",
"Vd=.7;\n",
"t=8*10^-3;\n",
"i1=i-t*Vd;    printf('current through L=%.4f A',i1);\n",
"i_R=0;    //current in R at t=.008s\n",
"printf('\ncurrent through R=%.0f A',i_R);"
   ]
   }
,
{
		   "cell_type": "markdown",
		   "metadata": {},
		   "source": [
			"## Example 5.12: To_find_the_current_in_R_and_L_and_voltage_across_C.sce"
		   ]
		  },
  {
"cell_type": "code",
	   "execution_count": null,
	   "metadata": {
	    "collapsed": true
	   },
	   "outputs": [],
"source": [
"clc\n",
"clear\n",
"L=1;//H\n",
"R=50;//ohm\n",
"V_s=200;//V\n",
"tau=L/R;\n",
"t=.01;//s\n",
"i=(V_s/R)*(1-exp(-t/tau));    printf('current in R,L=%.3f A',i);\n",
"C=1*10^-6;//F\n",
"V_c=sqrt(L/C)*i;\n",
"printf('\nvoltage across C=%.3f kV',V_c/1000);"
   ]
   }
,
{
		   "cell_type": "markdown",
		   "metadata": {},
		   "source": [
			"## Example 5.1: to_determine_1_conduction_time_and_2_voltage_across_thyristor.sce"
		   ]
		  },
  {
"cell_type": "code",
	   "execution_count": null,
	   "metadata": {
	    "collapsed": true
	   },
	   "outputs": [],
"source": [
"clear;\n",
"clc;\n",
"L=5*10^-3;\n",
"C=20*10^-6;\n",
"V_s=200;\n",
"w_o=sqrt(1/(L*C));\n",
"t_o=%pi/w_o;    printf('conduction time of thyristor=%.5f ms',t_o*1000);\n",
"printf('\nvoltage across thyristor=%.0f V',-V_s);"
   ]
   }
,
{
		   "cell_type": "markdown",
		   "metadata": {},
		   "source": [
			"## Example 5.2: EX5_2.sce"
		   ]
		  },
  {
"cell_type": "code",
	   "execution_count": null,
	   "metadata": {
	    "collapsed": true
	   },
	   "outputs": [],
"source": [
"clear;\n",
"clc;\n",
"C=20*10^-6;\n",
"L=5*10^-6;\n",
"V_s=230;\n",
"I_p=V_s*sqrt(C/L);\n",
"w_o=sqrt(1/(L*C));\n",
"t_o=%pi/w_o;    printf('conduction time of auxillery thyristor=%.3f us',t_o*10^6);\n",
"I_o=300;\n",
"//a=w_o*(t3-t2)=asind(I_o/(2*V_s));\n",
"a=asind(I_o/(2*V_s));\n",
"V_ab=V_s*cosd(a);    printf('\nvoltage across main thyristor=%.3f V',V_ab);\n",
"t_c=C*V_ab/I_o;    printf('\nckt turn off time=%.3f us',t_c*10^6);"
   ]
   }
,
{
		   "cell_type": "markdown",
		   "metadata": {},
		   "source": [
			"## Example 5.3: to_determine_1_peak_value_of_current_2_value_of_capacitor_C.sce"
		   ]
		  },
  {
"cell_type": "code",
	   "execution_count": null,
	   "metadata": {
	    "collapsed": true
	   },
	   "outputs": [],
"source": [
"clear;\n",
"clc;\n",
"V_s=200;\n",
"R1=10;\n",
"R2=100;\n",
"I1=V_s*(1/R1+2/R2);    printf('peak value of current through SCR1=%.0f A',I1);    \n",
"I2=V_s*(2/R1+1/R2);    printf('\npeak value of current through SCR2=%.0f A',I2);\n",
"t_c1=40*10^-6;\n",
"fos=2;    //factor of safety\n",
"C1=t_c1*fos/(R1*log(2));\n",
"C2=t_c1*fos/(R2*log(2));\n",
"if(C1>C2)\n",
"    printf('\nvalue of capacitor=%.4f uF',C1*10^6);\n",
"else\n",
"    printf('\nvalue of capacitor=%.4f uF',C2*10^6);\n",
"end\n",
"    "
   ]
   }
,
{
		   "cell_type": "markdown",
		   "metadata": {},
		   "source": [
			"## Example 5.4: EX5_4.sce"
		   ]
		  },
  {
"cell_type": "code",
	   "execution_count": null,
	   "metadata": {
	    "collapsed": true
	   },
	   "outputs": [],
"source": [
"clear;\n",
"clc;\n",
"V_s=230;\n",
"L=20*10^-6;\n",
"C=40*10^-6;\n",
"I_o=120;\n",
"I_p=V_s*sqrt(C/L);\n",
"printf('current through main thyristor=%.2f A',I_o+I_p);\n",
"printf('\ncurrent through auxillery thyristor=%.0f A',I_o);\n",
"\n",
"t_c=C*V_s/I_o;    printf('\ncircuit turn off time for main thyristor=%.2f us',t_c*10^6);\n",
"w_o=sqrt(1/(L*C));\n",
"t_c1=%pi/(2*w_o);    printf('\ncircuit turn off time for auxillery thyristor=%.2f us',t_c1*10^6);\n",
"   "
   ]
   }
,
{
		   "cell_type": "markdown",
		   "metadata": {},
		   "source": [
			"## Example 5.5: to_compute_min_value_of_C.sce"
		   ]
		  },
  {
"cell_type": "code",
	   "execution_count": null,
	   "metadata": {
	    "collapsed": true
	   },
	   "outputs": [],
"source": [
"clear;\n",
"clc;\n",
"C_j=25*10^-12;\n",
"I_c=5*10^-3;    //charging current\n",
"V_s=200;\n",
"R=50;\n",
"C=(C_j*V_s)/(I_c*R);    printf('Value of C=%.2f uF',C*10^6);"
   ]
   }
,
{
		   "cell_type": "markdown",
		   "metadata": {},
		   "source": [
			"## Example 5.6: to_find_circuit_turn_off_time.sce"
		   ]
		  },
  {
"cell_type": "code",
	   "execution_count": null,
	   "metadata": {
	    "collapsed": true
	   },
	   "outputs": [],
"source": [
"clear;\n",
"clc;\n",
"V_s=200;\n",
"R=5;\n",
"C=10*10^-6;\n",
"//for turn off V_s*(1-2*exp(-t/(R*C)))=0,    so after solving\n",
"t_c=R*C*log(2);    printf('circuit turn off time=%.4f us',t_c*10^6);"
   ]
   }
,
{
		   "cell_type": "markdown",
		   "metadata": {},
		   "source": [
			"## Example 5.7: to_find_conduction_time_of_thyristor.sce"
		   ]
		  },
  {
"cell_type": "code",
	   "execution_count": null,
	   "metadata": {
	    "collapsed": true
	   },
	   "outputs": [],
"source": [
"clear;\n",
"clc;\n",
"R=1;\n",
"L=20*10^-6;\n",
"C=40*10^-6;\n",
"w_r=sqrt((1/(L*C))-(R/(2*L))^2);\n",
"t_1=%pi/w_r;    printf('conduction time of thyristor=%.3f us',t_1*10^6);"
   ]
   }
,
{
		   "cell_type": "markdown",
		   "metadata": {},
		   "source": [
			"## Example 5.8: 1_to_calculate_value_of_Capacitor_2_determine_value_of_Resistance.sce"
		   ]
		  },
  {
"cell_type": "code",
	   "execution_count": null,
	   "metadata": {
	    "collapsed": true
	   },
	   "outputs": [],
"source": [
"clear;\n",
"clc;\n",
"dv=400*10^-6;    //dv=dv_T/dt(V/s)\n",
"V_s=200;\n",
"R=20;\n",
"C=V_s/(R*dv);\n",
"C_j=.025*10^-12;\n",
"C_s=C-C_j;    printf('C_s=%.3f uF',C_s/10^6);\n",
"\n",
"I_T=40;\n",
"R_s=1/((I_T/V_s)-(1/R));    printf('\nR_s=%.3f ohm',R_s);\n",
"//value of R_s in book is wrongly calculated"
   ]
   }
,
{
		   "cell_type": "markdown",
		   "metadata": {},
		   "source": [
			"## Example 5.9: EX5_9.sce"
		   ]
		  },
  {
"cell_type": "code",
	   "execution_count": null,
	   "metadata": {
	    "collapsed": true
	   },
	   "outputs": [],
"source": [
"clear;\n",
"clc;\n",
"V_s=200;\n",
"C=20*10^-6;\n",
"L=.2*10^-3;\n",
"i_c=10;\n",
"i=V_s*sqrt(C/L);\n",
"w_o=1/sqrt(L*C);\n",
"t_1=(1/w_o)*asin(i_c/i);    printf('reqd time=%.0f us',t_1*10^6);\n",
"\n",
"t_o=%pi/w_o;\n",
"t_c=t_o-2*t_1;    printf('\nckt turn off time=%.1f us',t_c*10^6);\n",
"//solution in book wrong, as wrong values are selected while filling the formuleas"
   ]
   }
],
"metadata": {
		  "kernelspec": {
		   "display_name": "Scilab",
		   "language": "scilab",
		   "name": "scilab"
		  },
		  "language_info": {
		   "file_extension": ".sce",
		   "help_links": [
			{
			 "text": "MetaKernel Magics",
			 "url": "https://github.com/calysto/metakernel/blob/master/metakernel/magics/README.md"
			}
		   ],
		   "mimetype": "text/x-octave",
		   "name": "scilab",
		   "version": "0.7.1"
		  }
		 },
		 "nbformat": 4,
		 "nbformat_minor": 0
}
