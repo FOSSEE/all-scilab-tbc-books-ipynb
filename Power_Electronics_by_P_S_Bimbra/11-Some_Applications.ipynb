{
"cells": [
 {
		   "cell_type": "markdown",
	   "metadata": {},
	   "source": [
       "# Chapter 11: Some Applications"
	   ]
	},
{
		   "cell_type": "markdown",
		   "metadata": {},
		   "source": [
			"## Example 11.1: to_calculate_1_firing_angle_of_the_rectifier_2_output_voltage_3_dc_link_voltage.sce"
		   ]
		  },
  {
"cell_type": "code",
	   "execution_count": null,
	   "metadata": {
	    "collapsed": true
	   },
	   "outputs": [],
"source": [
"clear;\n",
"clc;\n",
"V_s=11000;\n",
"V_ml=sqrt(2)*V_s;\n",
"f=50;\n",
"w=2*%pi*f;\n",
"I_d=300;\n",
"R_d=1;\n",
"g=20;//g=gamma\n",
"a=acosd(cosd(g)+%pi/(3*V_ml)*I_d*R_d);    printf('firing angle=%.3f deg',a);\n",
"L_s=.01;\n",
"V_d=(3/%pi)*((V_ml*cosd(a))-w*L_s*I_d);    printf('\nrectifier o/p voltage=%.1f V',V_d);\n",
"printf('\ndc link voltage=%.3f V',2*V_d/1000);"
   ]
   }
,
{
		   "cell_type": "markdown",
		   "metadata": {},
		   "source": [
			"## Example 11.2: EX11_2.sce"
		   ]
		  },
  {
"cell_type": "code",
	   "execution_count": null,
	   "metadata": {
	    "collapsed": true
	   },
	   "outputs": [],
"source": [
"clear;\n",
"clc;\n",
"V_d=(200+200)*10^3;\n",
"P=1000*10^6;\n",
"I_d=P/V_d;\n",
"//each thristor conducts for 120deg for a periodicity of 360deg\n",
"printf('rms current rating of thyristor=%.2f A',I_d*sqrt(120/360));\n",
"a=0;\n",
"V_d=200*10^3;\n",
"V_ml=V_d*%pi/(3*cosd(a));\n",
"printf('\npeak reverse voltage across each thyristor=%.2f kV',V_ml/2/1000);"
   ]
   }
,
{
		   "cell_type": "markdown",
		   "metadata": {},
		   "source": [
			"## Example 11.3: EX11_3.sce"
		   ]
		  },
  {
"cell_type": "code",
	   "execution_count": null,
	   "metadata": {
	    "collapsed": true
	   },
	   "outputs": [],
"source": [
"clear;\n",
"clc;\n",
"V_m=230;\n",
"V_s=230/sqrt(2);\n",
"pf=.8;\n",
"P=2000;\n",
"I_m=P/(V_s*pf);\n",
"I_Tr=I_m/sqrt(2);\n",
"I_TA=2*I_m/%pi;\n",
"fos=2;//factor of safety\n",
"printf('rms value of thyristor current=%.2f A',fos*I_Tr);\n",
"printf('\navg value of thyristor current=%.3f A',fos*I_TA);\n",
"PIV=V_m*sqrt(2);\n",
"printf('\nvoltage rating of thyristor=%.2f V',PIV);\n",
"\n",
"I_Tr=I_m/(2);\n",
"I_TA=I_m/%pi;\n",
"printf('\nrms value of diode current=%.3f A',fos*I_Tr);\n",
"printf('\navg value of diode current=%.3f A',fos*I_TA);\n",
"printf('\nvoltage rating of diode=%.2f V',PIV);"
   ]
   }
,
{
		   "cell_type": "markdown",
		   "metadata": {},
		   "source": [
			"## Example 11.4: to_find_the_value_of_parameters_of_R2_C_and_load_resistance.sce"
		   ]
		  },
  {
"cell_type": "code",
	   "execution_count": null,
	   "metadata": {
	    "collapsed": true
	   },
	   "outputs": [],
"source": [
"clear;\n",
"clc;\n",
"V=200;\n",
"I=10;\n",
"R_L=V/I;    printf('value of load resistance=%.0f ohm',R_L);\n",
"I_h=.005;    //holding current\n",
"R2=V/I_h;    printf('\nvalue of R2=%.0f kilo-ohm',R2/1000);\n",
"t_c=20*10^-6;\n",
"fos=2;//factor of safety\n",
"C=t_c*fos/(R_L*log(2));    printf('\nvalue of C=%.3f uF',C*10^6);"
   ]
   }
,
{
		   "cell_type": "markdown",
		   "metadata": {},
		   "source": [
			"## Example 11.5: EX11_5.sce"
		   ]
		  },
  {
"cell_type": "code",
	   "execution_count": null,
	   "metadata": {
	    "collapsed": true
	   },
	   "outputs": [],
"source": [
"clear;\n",
"clc;\n",
"u_r=10;\n",
"f=10000;//Hz\n",
"p=4*10^-8;//ohm-m\n",
"dl=(1/(2*%pi))*sqrt(p*10^7/(u_r*f));    printf('depth of heat of penetration=%.5f mm',dl*1000);\n",
"l=.12;//length of cylinder\n",
"t=20;//no of turns\n",
"I=100;\n",
"H=t*I/l;\n",
"P_s=2*%pi*H^2*sqrt(u_r*f*p*10^-7);    printf('\nheat generated per unit cylinder surface area=%.3f W/m^2',P_s);\n",
"d=.02;//diameter\n",
"P_v=4*H^2*p/(d*dl);    printf('\nheat generated per unit cylinder volume=%.0f W/m^3',P_v);\n",
"//answer of P_v varies as given in book as value of d is not taken as in formulae. "
   ]
   }
,
{
		   "cell_type": "markdown",
		   "metadata": {},
		   "source": [
			"## Example 11.6: to_calculate_reqd_capacitor_size.sce"
		   ]
		  },
  {
"cell_type": "code",
	   "execution_count": null,
	   "metadata": {
	    "collapsed": true
	   },
	   "outputs": [],
"source": [
"clear;\n",
"clc;\n",
"f=3000;\n",
"t_qmin=30*10^-6;\n",
"f_r=f/(1-2*t_qmin*f);\n",
"R=.06;\n",
"L=20*10^-6;\n",
"C=1/(L*((2*%pi*f_r)^2+(R/(2*L))^2));    printf('required capacitor size=%.4f F',C*10^6);\n",
"//Answers have small variations from that in the book due to difference in the rounding off of digits."
   ]
   }
],
"metadata": {
		  "kernelspec": {
		   "display_name": "Scilab",
		   "language": "scilab",
		   "name": "scilab"
		  },
		  "language_info": {
		   "file_extension": ".sce",
		   "help_links": [
			{
			 "text": "MetaKernel Magics",
			 "url": "https://github.com/calysto/metakernel/blob/master/metakernel/magics/README.md"
			}
		   ],
		   "mimetype": "text/x-octave",
		   "name": "scilab",
		   "version": "0.7.1"
		  }
		 },
		 "nbformat": 4,
		 "nbformat_minor": 0
}
