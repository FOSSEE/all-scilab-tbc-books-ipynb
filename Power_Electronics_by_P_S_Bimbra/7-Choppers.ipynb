{
"cells": [
 {
		   "cell_type": "markdown",
	   "metadata": {},
	   "source": [
       "# Chapter 7: Choppers"
	   ]
	},
{
		   "cell_type": "markdown",
		   "metadata": {},
		   "source": [
			"## Example 7.11: EX7_11.sce"
		   ]
		  },
  {
"cell_type": "code",
	   "execution_count": null,
	   "metadata": {
	    "collapsed": true
	   },
	   "outputs": [],
"source": [
"clear;\n",
"clc;\n",
"R=1;\n",
"L=.005;\n",
"T_a=L/R;\n",
"T=2000*10^-6;\n",
"E=24;\n",
"V_s=220;\n",
"T_on=600*10^-6;\n",
"a=T_on/T;\n",
"a1=(T_a/T)*log(1+(E/V_s)*((exp(T/T_a))-1));\n",
"if(a1<a)\n",
"    disp('load current in continuous');\n",
"else\n",
"    disp('load current in discont.');\n",
"end\n",
"I_o=(a*V_s-E)/R;    printf('avg o/p current=%.0f A',I_o);\n",
"I_mx=(V_s/R)*((1-exp(-T_on/T_a))/(1-exp(-T/T_a)))-E/R;    printf('\nmax value of steady current=%.2f A',I_mx);\n",
"I_mn=(V_s/R)*((exp(T_on/T_a)-1)/(exp(T/T_a)-1))-E/R;    printf('\nmin value of steady current=%.3f A',I_mn);\n",
"\n",
"f=1/T;\n",
"w=2*%pi*f;\n",
"I1=(2*V_s/(sqrt(2)*%pi)*sind(180*a))/(sqrt(R^2+(w*L)^2));    printf('\nfirst harmonic current=%.4f A',I1);\n",
"I2=(2*V_s/(2*sqrt(2)*%pi)*sind(2*180*a))/(sqrt(R^2+(w*L*2)^2));    printf('\nsecond harmonic current=%.4f A',I2);\n",
"I3=(2*V_s/(3*sqrt(2)*%pi)*sind(3*180*a))/(sqrt(R^2+(w*L*3)^2));    printf('\nthird harmonic current=%.5f A',I3);\n",
"\n",
"I_TAV=a*(V_s-E)/R-L*(I_mx-I_mn)/(R*T);    printf('\navg supply current=%.4f A',I_TAV);\n",
"\n",
"P1=I_TAV*V_s;\n",
"printf('\ni/p power=%.2f W',P1);\n",
"P2=E*I_o;\n",
"printf('\npower absorbed by load emf=%.0f W',P2);\n",
"printf('\npower loss in resistor=%.2f W',P1-P2);\n",
"I_or=sqrt(I_o^2+I1^2+I2^2+I3^2);\n",
"printf('\nrms value of load current=%.3f A',I_or);"
   ]
   }
,
{
		   "cell_type": "markdown",
		   "metadata": {},
		   "source": [
			"## Example 7.12: EX7_12.sce"
		   ]
		  },
  {
"cell_type": "code",
	   "execution_count": null,
	   "metadata": {
	    "collapsed": true
	   },
	   "outputs": [],
"source": [
"clear;\n",
"clc;\n",
"R=1;\n",
"L=.001;\n",
"V_s=220;\n",
"E=72;\n",
"f=500;\n",
"T_on=800*10^-6;\n",
"T_a=L/R;\n",
"T=1/f;\n",
"m=E/V_s;\n",
"a=T_on/T;\n",
"a1=(T_a/T)*log(1+m*(exp(-T/T_a)-1));\n",
"if(a1>a)\n",
"    disp('load current is continuous');\n",
"else\n",
"    disp('load current is discontinuous');\n",
"end\n",
"t_x=T_on+L*log(1+((V_s-E)/272)*(1-exp(-T_on/T_a)));\n",
"//Value of t_x wrongly calculated in the book so ans of V_o and I_o varies\n",
"V_o=a*V_s+(1-t_x/T)*E;    printf('avg o/p voltage=%.2f V',V_o);\n",
"I_o=(V_o-E)/R;    printf('\navg o/p current=%.2f A',I_o);\n",
"printf('\nmin value of load current=%.0f A',0);\n",
"I_mx=(V_s-E)/R*(1-exp(-T_on/T_a));    printf('\nmax value of load current=%.1f A',I_mx);"
   ]
   }
,
{
		   "cell_type": "markdown",
		   "metadata": {},
		   "source": [
			"## Example 7.13: to_find_the_chopping_freq.sce"
		   ]
		  },
  {
"cell_type": "code",
	   "execution_count": null,
	   "metadata": {
	    "collapsed": true
	   },
	   "outputs": [],
"source": [
"clear;\n",
"clc;\n",
"a=.2;\n",
"V_s=500;\n",
"E=a*V_s;\n",
"L=0.06;\n",
"I=10;\n",
"T_on=(L*I)/(V_s-E);\n",
"f=a/T_on;    printf('chopping freq=%.2f Hz',f);"
   ]
   }
,
{
		   "cell_type": "markdown",
		   "metadata": {},
		   "source": [
			"## Example 7.14: to_find_the_value_of_external_inductance_to_be_added_in_series.sce"
		   ]
		  },
  {
"cell_type": "code",
	   "execution_count": null,
	   "metadata": {
	    "collapsed": true
	   },
	   "outputs": [],
"source": [
"clear;\n",
"clc;\n",
"a=.5;\n",
"pu=.1;//pu ripple\n",
"//x=T/T_a\n",
"//y=exp(-a*x)\n",
"y=(1-pu)/(1+pu);\n",
"//after solving\n",
"x=log(1/y)/a;\n",
"f=1000;\n",
"T=1/f;\n",
"T_a=T/x;\n",
"R=2;\n",
"L=R*T_a;\n",
"Li=.002;\n",
"Le=L-Li;    printf('external inductance=%.3f mH',Le*1000);"
   ]
   }
,
{
		   "cell_type": "markdown",
		   "metadata": {},
		   "source": [
			"## Example 7.15: EX7_15.sce"
		   ]
		  },
  {
"cell_type": "code",
	   "execution_count": null,
	   "metadata": {
	    "collapsed": true
	   },
	   "outputs": [],
"source": [
"clear;\n",
"clc;\n",
"R=10;\n",
"L=.015;\n",
"T_a=L/R;\n",
"f=1250;\n",
"T=1/f;\n",
"a=.5;\n",
"T_on=a*T;\n",
"V_s=220;\n",
"I_mx=(V_s/R)*((1-exp(-T_on/T_a))/(1-exp(-T/T_a)));    printf('max value of load current=%.3f A',I_mx);\n",
"I_mn=(V_s/R)*((exp(T_on/T_a)-1)/(exp(T/T_a)-1));    printf('\nmin value of load current=%.2f A',I_mn);\n",
"dI=I_mx-I_mn;    printf('\nmax value of ripple current=%.3f A',dI);\n",
"V_o=a*V_s;\n",
"I_o=V_o/R;    printf('\navg value of load current=%.2f A',I_o);\n",
"I_or=sqrt(I_mx^2+dI^2/3+I_mx*dI);    printf('\nrms value of load current=%.3f A',I_or);\n",
"I_chr=sqrt(a)*I_or;    printf('\nrms value of chopper current=%.3f A',I_chr);\n",
"//Answers have small variations from that in the book due to difference in the rounding off of digits."
   ]
   }
,
{
		   "cell_type": "markdown",
		   "metadata": {},
		   "source": [
			"## Example 7.17: to_find_thetime_for_which_current_flows.sce"
		   ]
		  },
  {
"cell_type": "code",
	   "execution_count": null,
	   "metadata": {
	    "collapsed": true
	   },
	   "outputs": [],
"source": [
"clear;\n",
"clc;\n",
"L=0.0016;\n",
"C=4*10^-6;\n",
"w=1/sqrt(L*C);\n",
"t=%pi/w;    printf('time for which current flows=%.2f us',t*10^6);"
   ]
   }
,
{
		   "cell_type": "markdown",
		   "metadata": {},
		   "source": [
			"## Example 7.18: to_calculate_values_of_commutating_capacitor_and_commutating_inductor.sce"
		   ]
		  },
  {
"cell_type": "code",
	   "execution_count": null,
	   "metadata": {
	    "collapsed": true
	   },
	   "outputs": [],
"source": [
"clear;\n",
"clc;\n",
"t_q=20*10^-6;\n",
"dt=20*10^-6;\n",
"t_c=t_q+dt;\n",
"I_0=60;\n",
"V_s=60;\n",
"C=t_c*I_0/V_s;    printf('value of commutating capacitor=%.0f uF',C*10^6);\n",
"L1=(V_s/I_0)^2*C;\n",
"L2=(2*t_c/%pi)^2/C;\n",
"if(L1>L2)\n",
"    printf('\nvalue of commutating inductor=%.0f uH',L1*10^6);\n",
"else\n",
"    printf('\nvalue of commutating inductor=%.0f uH',L2*10^6);\n",
"end"
   ]
   }
,
{
		   "cell_type": "markdown",
		   "metadata": {},
		   "source": [
			"## Example 7.19: to_calculate_the_value_of_comutating_component_C_and_comutating_component_L.sce"
		   ]
		  },
  {
"cell_type": "code",
	   "execution_count": null,
	   "metadata": {
	    "collapsed": true
	   },
	   "outputs": [],
"source": [
"clear;\n",
"clc;\n",
"t=100*10^-6;\n",
"R=10;\n",
"//V_s*(1-2*exp(-t/(R*C)))=0\n",
"C=-t/(R*log(1/2));    printf('Value of comutating component C=%.3f uF',C*10^6);\n",
"disp('max permissible current through SCR is 2.5 times load current');\n",
"L=(4/9)*C*R^2;    printf('value of comutating component L=%.1f uH',L*10^6);\n",
"disp('max permissible current through SCR is 1.5 times peak diode current');\n",
"L=(1/4)*C*R^2;    printf('value of comutating component L=%.2f uH',L*10^6);"
   ]
   }
,
{
		   "cell_type": "markdown",
		   "metadata": {},
		   "source": [
			"## Example 7.20: EX7_20.sce"
		   ]
		  },
  {
"cell_type": "code",
	   "execution_count": null,
	   "metadata": {
	    "collapsed": true
	   },
	   "outputs": [],
"source": [
"clear;\n",
"clc;\n",
"T_on=800*10^-6;\n",
"V_s=220;\n",
"I_o=80;\n",
"C=50*10^-6;\n",
"T=T_on+2*V_s*C/I_o;    printf('effective on period=%.0f us',T*10^6);\n",
"\n",
"L=20*10^-6;\n",
"C=50*10^-6;\n",
"i_T1=I_o+V_s*sqrt(C/L);    printf('\npeak current through main thyristor=%.2f A',i_T1);\n",
"i_TA=I_o;    printf('\npeak current through auxillery thyristor=%.0f A',i_TA);\n",
"\n",
"t_c=C*V_s/I_o;    printf('\nturn off time for main thyristor=%.1f us',t_c*10^6);\n",
"t_c1=(%pi/2)*sqrt(L*C);    printf('\nturn off time for auxillery thyristor=%.3f us',t_c1*10^6);\n",
"\n",
"printf('\ntotal commutation interval=%.0f us',2*t_c*10^6);\n",
"\n",
"t=150*10^-6;\n",
"v_c=I_o*t/C-V_s;    printf('\ncapacitor voltage=%.0f V',v_c);\n",
"\n",
"printf('\ntime nedded to recharge the capacitor=%.0f us',2*V_s*C/I_o*10^6);"
   ]
   }
,
{
		   "cell_type": "markdown",
		   "metadata": {},
		   "source": [
			"## Example 7.21: EX7_21.sce"
		   ]
		  },
  {
"cell_type": "code",
	   "execution_count": null,
	   "metadata": {
	    "collapsed": true
	   },
	   "outputs": [],
"source": [
"clear;\n",
"clc;\n",
"I_o=260;\n",
"V_s=220;\n",
"fos=2;//factor of safety\n",
"t_off=18*10^-6;\n",
"t_c=2*t_off;\n",
"C=t_c*I_o/V_s;    printf('Value of C=%.3f uF',C*10^6);\n",
"L=(V_s/(.8*I_o))^2*C;    printf('\nvalue of L=%.3f uH',L*10^6);\n",
"\n",
"f=400;\n",
"a_mn=%pi*f*sqrt(L*C);\n",
"V_omn=V_s*(a_mn+2*f*t_c);    printf('\nmin value of o/p voltage=%.3f V',V_omn);\n",
"V_omx=V_s;    printf('\nmax value of o/p voltage=%.0f V',V_omx);"
   ]
   }
,
{
		   "cell_type": "markdown",
		   "metadata": {},
		   "source": [
			"## Example 7.22: EX7_22.sce"
		   ]
		  },
  {
"cell_type": "code",
	   "execution_count": null,
	   "metadata": {
	    "collapsed": true
	   },
	   "outputs": [],
"source": [
"clear;\n",
"clc;\n",
"x=2;\n",
"t_q=30*10^-6;\n",
"dt=30*10^-6;\n",
"t_c=t_q+dt;\n",
"V_s=230;\n",
"I_o=200;\n",
"L=V_s*t_c/(x*I_o*(%pi-2*asin(1/x)));    printf('value of commutating inductor=%.3f uH',L*10^6);\n",
"C=x*I_o*t_c/(V_s*(%pi-2*asin(1/x)));    printf('\nvalue of commutating capacitor=%.3f uF',C*10^6);\n",
"V_cp=V_s+I_o*sqrt(L/C);    printf('\npeak capacitor voltage=%.0f V',V_cp);\n",
"I_cp=x*I_o;    printf('\npeak commutataing current=%.0f A',I_cp);\n",
"\n",
"x=3;\n",
"L=V_s*t_c/(x*I_o*(%pi-2*asin(1/x)));    printf('\nvalue of commutating inductor=%.3f uH',L*10^6);\n",
"C=x*I_o*t_c/(V_s*(%pi-2*asin(1/x)));    printf('\nvalue of commutating capacitor=%.3f uF',C*10^6);\n",
"V_cp=V_s+I_o*sqrt(L/C);    printf('\npeak capacitor voltage=%.2f V',V_cp);\n",
"I_cp=x*I_o;    printf('\npeak commutataing current=%.0f A',I_cp);"
   ]
   }
,
{
		   "cell_type": "markdown",
		   "metadata": {},
		   "source": [
			"## Example 7.23: EX7_23.sce"
		   ]
		  },
  {
"cell_type": "code",
	   "execution_count": null,
	   "metadata": {
	    "collapsed": true
	   },
	   "outputs": [],
"source": [
"clear;\n",
"clc;\n",
"V_s=230;\n",
"C=50*10^-6;\n",
"L=20*10^-6;\n",
"I_cp=V_s*sqrt(C/L);\n",
"I_o=200;\n",
"x=I_cp/I_o;\n",
"t_c=(%pi-2*asin(1/x))*sqrt(C*L);    printf('turn off time of main thyristor=%.2f us',t_c*10^6);\n",
"th1=asind(1/x);\n",
"t=(5*%pi/2-th1*%pi/180)*sqrt(L*C)+C*V_s*(1-cosd(th1))/I_o;    printf('\ntotal commutation interval=%.3f us',t*10^6);\n",
"t=(%pi-th1*%pi/180)*sqrt(L*C);    printf('\nturn off time of auxillery thyristor=%.3f us',t*10^6);"
   ]
   }
,
{
		   "cell_type": "markdown",
		   "metadata": {},
		   "source": [
			"## Example 7.24: to_calculate_min_and_max_value_of_load_current.sce"
		   ]
		  },
  {
"cell_type": "code",
	   "execution_count": null,
	   "metadata": {
	    "collapsed": true
	   },
	   "outputs": [],
"source": [
"clear;\n",
"clc;\n",
"tc=.006;\n",
"R=10;\n",
"L=R*tc;\n",
"f=2000;\n",
"T=1/f;\n",
"V_o=50;\n",
"V_s=100;\n",
"a=V_o/V_s;\n",
"T_on=a*T;\n",
"T_off=T-T_on;\n",
"dI=V_o*T_off/L;\n",
"I_o=V_o/R;\n",
"I2=I_o+dI/2;    printf('max value of load current=%.3f A',I2);\n",
"I1=I_o-dI/2;    printf('\nmin value of load current=%.3f A',I1);"
   ]
   }
,
{
		   "cell_type": "markdown",
		   "metadata": {},
		   "source": [
			"## Example 7.27: calculate_1_range_of_speed_control_2_range_of_duty_cycle.sce"
		   ]
		  },
  {
"cell_type": "code",
	   "execution_count": null,
	   "metadata": {
	    "collapsed": true
	   },
	   "outputs": [],
"source": [
"clear;\n",
"clc;\n",
"I_a=30;\n",
"r_a=.5;\n",
"V_s=220;\n",
"a=I_a*r_a/V_s;    printf('min value of duty cycle=%.3f',a);\n",
"printf('\nmin Value of speed control=%.0f rpm',0);\n",
"a=1;\n",
"printf('\nmax value of duty cycle=%.0f',a);\n",
"k=.1;//V/rpm\n",
"N=(a*V_s-I_a*r_a)/k;    printf('\nmax value of speed control=%.0f rpm',N);"
   ]
   }
,
{
		   "cell_type": "markdown",
		   "metadata": {},
		   "source": [
			"## Example 7.28: determine_chopping_freq_and_duty_cycle.sce"
		   ]
		  },
  {
"cell_type": "code",
	   "execution_count": null,
	   "metadata": {
	    "collapsed": true
	   },
	   "outputs": [],
"source": [
"clear;\n",
"clc;\n",
"V_t=72;\n",
"I_a=200;\n",
"r_a=0.045;\n",
"N=2500;\n",
"k=(V_t-I_a*r_a)/N;\n",
"E_a=k*1000;\n",
"L=.007;\n",
"Rm=.045;\n",
"Rb=0.065;\n",
"R=Rm+Rb;\n",
"T_a=L/R;\n",
"I_mx=230;\n",
"I_mn=180;\n",
"T_on=-T_a*log(-((V_t-E_a)/R-I_mx)/((I_mn)-(V_t-E_a)/R));\n",
"R=Rm;\n",
"T_a=L/R;\n",
"T_off=-T_a*log(-((-E_a)/R-I_mn)/((I_mx)-(-E_a)/R));\n",
"T=T_on+T_off;\n",
"f=1/T;    printf('chopping freq=%.1f Hz',f);\n",
"a=T_on/T;    printf('\nduty cycle ratio=%.3f',a);"
   ]
   }
,
{
		   "cell_type": "markdown",
		   "metadata": {},
		   "source": [
			"## Example 7.29: EX7_29.sce"
		   ]
		  },
  {
"cell_type": "code",
	   "execution_count": null,
	   "metadata": {
	    "collapsed": true
	   },
	   "outputs": [],
"source": [
"clear;\n",
"clc;\n",
"I_mx=425;\n",
"I_lt=180;    //lower limit of current pulsation\n",
"I_mn=I_mx-I_lt;\n",
"T_on=.014;\n",
"T_off=.011;\n",
"T=T_on+T_off;\n",
"T_a=.0635;\n",
"a=T_on/T;\n",
"V=(I_mx-I_mn*exp(-T_on/T_a))/(1-exp(-T_on/T_a));\n",
"a=.5;\n",
"I_mn=(I_mx-V*(1-exp(-T_on/T_a)))/(exp(-T_on/T_a));\n",
"T=I_mx-I_mn;    printf('higher limit of current pulsation=%.0f A',T);\n",
"T=T_on/a;\n",
"f=1/T;    printf('\nchopping freq=%.3f Hz',f);\n",
"printf('\nduty cycle ratio=%.2f',a);\n",
"//Answers have small variations from that in the book due to difference in the rounding off of digits."
   ]
   }
,
{
		   "cell_type": "markdown",
		   "metadata": {},
		   "source": [
			"## Example 7.2: to_calculate_1_avg_and_rms_values_of_output_voltage_2_chopper_efficiency.sce"
		   ]
		  },
  {
"cell_type": "code",
	   "execution_count": null,
	   "metadata": {
	    "collapsed": true
	   },
	   "outputs": [],
"source": [
"clear;\n",
"clc;\n",
"a=.4;    //duty cycle,a=T_on/T\n",
"V_s=230;\n",
"R=10;\n",
"V=a*(V_s-2);    printf('avg o/p voltage=%.1f V',V);\n",
"V_or=sqrt(a*(V_s-2)^2);    printf('\nrms value of o/p voltage=%.1f V',V_or);\n",
"P_o=V_or^2/R;\n",
"P_i=V_s*V/R;\n",
"n=P_o*100/P_i;    printf('\nchopper efficiency in percentage=%.2f',n);"
   ]
   }
,
{
		   "cell_type": "markdown",
		   "metadata": {},
		   "source": [
			"## Example 7.3: to_compute_pulse_width_of_output_voltage_and_avg_value_of_new_output_voltage.sce"
		   ]
		  },
  {
"cell_type": "code",
	   "execution_count": null,
	   "metadata": {
	    "collapsed": true
	   },
	   "outputs": [],
"source": [
"clear;\n",
"clc;\n",
"V_i=220;\n",
"V_o=660;\n",
"a=1-V_i/V_o;\n",
"T_on=100;    //microsecond\n",
"T=T_on/a;\n",
"T_off=T-T_on;    printf('pulse width of o/p voltage=%.0f us',T_off);\n",
"\n",
"T_off=T_off/2;\n",
"T_on=T-T_off;\n",
"a=T_on/T;\n",
"V_o=V_i/(1-a);    printf('\nnew o/p voltage=%.0f V',V_o);\n",
""
   ]
   }
,
{
		   "cell_type": "markdown",
		   "metadata": {},
		   "source": [
			"## Example 7.4: to_find_time_ratio_for_chopper.sce"
		   ]
		  },
  {
"cell_type": "code",
	   "execution_count": null,
	   "metadata": {
	    "collapsed": true
	   },
	   "outputs": [],
"source": [
"clear;\n",
"clc;\n",
"I_1=12;\n",
"I_2=16;\n",
"I_0=(I_1+I_2)/2;\n",
"R=10;\n",
"V_0=I_0*R;\n",
"V_s=200;\n",
"a=V_0/V_s;\n",
"r=a/(1-a);    printf('time ratio(T_on/T_off)=%.3f',r);"
   ]
   }
,
{
		   "cell_type": "markdown",
		   "metadata": {},
		   "source": [
			"## Example 7.5: to_compute_pulse_width_of_output_voltage_and_avg_value_of_new_output_voltage.sce"
		   ]
		  },
  {
"cell_type": "code",
	   "execution_count": null,
	   "metadata": {
	    "collapsed": true
	   },
	   "outputs": [],
"source": [
"clear;\n",
"clc;\n",
"V_o=660;\n",
"V_s=220;\n",
"a=(V_o/V_s)/(1+(V_o/V_s));\n",
"T_on=120;\n",
"T=T_on/a;\n",
"T_off=T-T_on;    printf('pulse width o/p voltage=%.0f us',T_off);\n",
"\n",
"T_off=3*T_off;\n",
"T_on=T-T_off;\n",
"a=T_on/(T_on+T_off);\n",
"V_o=V_s*(a/(1-a));    printf('\nnew o/p voltage=%.2f V',V_o);"
   ]
   }
],
"metadata": {
		  "kernelspec": {
		   "display_name": "Scilab",
		   "language": "scilab",
		   "name": "scilab"
		  },
		  "language_info": {
		   "file_extension": ".sce",
		   "help_links": [
			{
			 "text": "MetaKernel Magics",
			 "url": "https://github.com/calysto/metakernel/blob/master/metakernel/magics/README.md"
			}
		   ],
		   "mimetype": "text/x-octave",
		   "name": "scilab",
		   "version": "0.7.1"
		  }
		 },
		 "nbformat": 4,
		 "nbformat_minor": 0
}
