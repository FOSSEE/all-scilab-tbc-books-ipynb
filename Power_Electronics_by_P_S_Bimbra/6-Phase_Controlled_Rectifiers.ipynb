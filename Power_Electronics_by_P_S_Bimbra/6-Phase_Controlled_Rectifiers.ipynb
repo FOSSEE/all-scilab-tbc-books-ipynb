{
"cells": [
 {
		   "cell_type": "markdown",
	   "metadata": {},
	   "source": [
       "# Chapter 6: Phase Controlled Rectifiers"
	   ]
	},
{
		   "cell_type": "markdown",
		   "metadata": {},
		   "source": [
			"## Example 6.10: to_find_avg_value_of_load_current_and_new_value_under_given_changed_conditions.sce"
		   ]
		  },
  {
"cell_type": "code",
	   "execution_count": null,
	   "metadata": {
	    "collapsed": true
	   },
	   "outputs": [],
"source": [
"clear;\n",
"clc;\n",
"V_s=230;\n",
"f=50;\n",
"a=50;\n",
"R=6;\n",
"E=60;\n",
"V_o=((sqrt(2)*2*V_s)/(%pi))*(cosd(a));\n",
"I_o=(V_o-E)/R;    printf('avg o/p current=%.3f A',I_o);\n",
"\n",
"//ATQ after applying the conditions\n",
"V_o=((sqrt(2)*V_s)/(%pi))*(cosd(a));\n",
"I_o=(V_o-E)/R;    printf('\navg o/p current after change=%.4f A',I_o);"
   ]
   }
,
{
		   "cell_type": "markdown",
		   "metadata": {},
		   "source": [
			"## Example 6.11: to_calculate_the_input_and_output_performance_parameters_for_full_conductor.sce"
		   ]
		  },
  {
"cell_type": "code",
	   "execution_count": null,
	   "metadata": {
	    "collapsed": true
	   },
	   "outputs": [],
"source": [
"clear;\n",
"clc;\n",
"V_s=230;\n",
"V_m=sqrt(2)*V_s;\n",
"a=45;\n",
"R=10;\n",
"V_o=(2*V_m/%pi)*cosd(a);\n",
"I_o=V_o/R;\n",
"V_or=V_m/sqrt(2);\n",
"I_or=I_o;\n",
"P_dc=V_o*I_o;\n",
"P_ac=V_or*I_or;\n",
"RE=P_dc/P_ac;    printf('rectification efficiency=%.4f',RE);\n",
"FF=V_or/V_o;    printf('\nform factor=%.4f',FF);\n",
"VRF=sqrt(FF^2-1);    printf('\nvoltage ripple factor=%.4f',VRF);\n",
"I_s1=2*sqrt(2)*I_o/%pi;\n",
"DF=cosd(a);\n",
"CDF=.90032;\n",
"pf=CDF*DF;    printf('\npf=%.5f',pf);\n",
"HF=sqrt((1/CDF^2)-1);    printf('\nHF=%.5f',HF);\n",
"printf('\nactive power=%.2f W',P_dc);\n",
"Q=2*V_m*I_o*sind(a)/%pi;    printf('\nreactive power=%.3f Var',Q);"
   ]
   }
,
{
		   "cell_type": "markdown",
		   "metadata": {},
		   "source": [
			"## Example 6.12: EX6_12.sce"
		   ]
		  },
  {
"cell_type": "code",
	   "execution_count": null,
	   "metadata": {
	    "collapsed": true
	   },
	   "outputs": [],
"source": [
"clear;\n",
"clc;\n",
"V_s=230;\n",
"V_m=sqrt(2)*V_s;\n",
"a=45;\n",
"R=10;\n",
"V_o=(V_m/%pi)*(1+cosd(a));\n",
"I_o=V_o/R;\n",
"V_or=V_s*sqrt((1/%pi)*((%pi-a*%pi/180)+sind(2*a)/2));\n",
"I_or=I_o;\n",
"P_dc=V_o*I_o;\n",
"P_ac=V_or*I_or;\n",
"RE=P_dc/P_ac;    printf('rectification efficiency=%.4f',RE);\n",
"FF=V_or/V_o;    printf('\nform factor=%.3f',FF);\n",
"VRF=sqrt(FF^2-1);    printf('\nvoltage ripple factor=%.3f',VRF);\n",
"I_s1=2*sqrt(2)*I_o*cosd(a/2)/%pi;\n",
"DF=cosd(a/2);    printf('\nDF=%.4f',DF);\n",
"CDF=2*sqrt(2)*cosd(a/2)/sqrt(%pi*(%pi-a*%pi/180));    printf('\nCDF=%.4f',CDF);\n",
"pf=CDF*DF;    printf('\npf=%.4f',pf);\n",
"HF=sqrt((1/CDF^2)-1);    printf('\nHF=%.4f',HF);\n",
"printf('\nactive power=%.3f W',P_dc);\n",
"Q=V_m*I_o*sind(a)/%pi;    printf('\nreactive power=%.2f Var',Q);\n",
"//Answers have small variations from that in the book due to difference in the rounding off of digits."
   ]
   }
,
{
		   "cell_type": "markdown",
		   "metadata": {},
		   "source": [
			"## Example 6.13: EX6_13.sce"
		   ]
		  },
  {
"cell_type": "code",
	   "execution_count": null,
	   "metadata": {
	    "collapsed": true
	   },
	   "outputs": [],
"source": [
"clear;\n",
"clc;\n",
"V_s=230;\n",
"R=10;\n",
"V_ml=sqrt(2)*V_s;\n",
"V_om=3*V_ml/(2*%pi);\n",
"V_o=V_om/2;\n",
"th=30;\n",
"a=acosd((2*%pi*sqrt(3)*V_o/(3*V_ml)-1))-th;    printf('delay angle=%.1f deg',a);\n",
"I_o=V_o/R;    printf('\navg load current=%.3f A',I_o);\n",
"V_or=V_ml/(2*sqrt(%pi))*sqrt((5*%pi/6-a*%pi/180)+.5*sind(2*a+2*th));\n",
"I_or=V_or/R;    printf('\nrms load current=%.3f A',I_or);\n",
"RE=V_o*I_o/(V_or*I_or);    printf('\nrectification efficiency=%.4f',RE);"
   ]
   }
,
{
		   "cell_type": "markdown",
		   "metadata": {},
		   "source": [
			"## Example 6.15: EX6_15.sce"
		   ]
		  },
  {
"cell_type": "code",
	   "execution_count": null,
	   "metadata": {
	    "collapsed": true
	   },
	   "outputs": [],
"source": [
"clear;\n",
"clc;\n",
"V=400;\n",
"V_ml=sqrt(2)*V;\n",
"v_T=1.4;\n",
"disp('for firing angle = 30deg');\n",
"a=30;\n",
"V_o=3*V_ml/(2*%pi)*cosd(a)-v_T;    printf('avg output voltage=%.3f V',V_o);\n",
"disp('for firing angle = 60deg');\n",
"a=60;\n",
"V_o=3*V_ml/(2*%pi)*cosd(a)-v_T;    printf('avg output voltage=%.2f V',V_o);\n",
"\n",
"I_o=36;\n",
"I_TA=I_o/3;    printf('\navg current rating=%.0f A',I_TA);\n",
"I_Tr=I_o/sqrt(3);    printf('\nrms current rating=%.3f A',I_Tr);\n",
"printf('\nPIV of SCR=%.1f V',V_ml);\n",
"\n",
"P=I_TA*v_T;    printf('\npower dissipated=%.1f W',P);"
   ]
   }
,
{
		   "cell_type": "markdown",
		   "metadata": {},
		   "source": [
			"## Example 6.17: to_compute_firing_angle_delay_and_supply_pf.sce"
		   ]
		  },
  {
"cell_type": "code",
	   "execution_count": null,
	   "metadata": {
	    "collapsed": true
	   },
	   "outputs": [],
"source": [
"clear;\n",
"clc;\n",
"E=200;\n",
"I_o=20;\n",
"R=.5;\n",
"V_o=E+I_o*R;\n",
"V_s=230;\n",
"V_ml=sqrt(2)*V_s;\n",
"a=acosd(V_o*%pi/(3*V_ml));    printf('firing angle delay=%.3f deg',a);\n",
"th=120;\n",
"I_s=sqrt((1/%pi)*I_o^2*th*%pi/180);\n",
"P=E*I_o+I_o^2*R;\n",
"pf=P/(sqrt(3)*V_s*I_s);    printf('\npf=%.3f',pf);\n",
"\n",
"V_o=E-I_o*R;\n",
"a=acosd(-V_o*%pi/(3*V_ml));    printf('\nfiring angle delay=%.2f deg',a);"
   ]
   }
,
{
		   "cell_type": "markdown",
		   "metadata": {},
		   "source": [
			"## Example 6.18: to_find_commutation_time_and_reverse_voltage_across_SCR.sce"
		   ]
		  },
  {
"cell_type": "code",
	   "execution_count": null,
	   "metadata": {
	    "collapsed": true
	   },
	   "outputs": [],
"source": [
"clear;\n",
"clc;\n",
"V=230;\n",
"f=50;\n",
"w=2*%pi*f;\n",
"disp('for firing angle delay=0deg');\n",
"a=0;\n",
"t_c=(4*%pi/3-a*%pi/180)/w;    printf('commutation time=%.2f ms',t_c*1000);\n",
"printf('\npeak reverse voltage=%.2f V',sqrt(2)*V);\n",
"\n",
"disp('for firing angle delay=30deg');\n",
"a=30;\n",
"t_c=(4*%pi/3-a*%pi/180)/w;    printf('commutation time=%.2f ms',t_c*1000);\n",
"printf('\npeak reverse voltage=%.2f V',sqrt(2)*V);"
   ]
   }
,
{
		   "cell_type": "markdown",
		   "metadata": {},
		   "source": [
			"## Example 6.19: to_find_the_magnitude_of_per_phase_input_supply_voltage.sce"
		   ]
		  },
  {
"cell_type": "code",
	   "execution_count": null,
	   "metadata": {
	    "collapsed": true
	   },
	   "outputs": [],
"source": [
"clear;\n",
"clc;\n",
"a=30;\n",
"R=10;\n",
"P=5000;\n",
"V_s=sqrt(P*R*2*%pi/(2*3)/(%pi/3+sqrt(3)*cosd(2*a)/2));\n",
"V_ph=V_s/sqrt(3);    printf('per phase voltage, V_ph=%.3f V',V_ph);\n",
"I_or=sqrt(P*R);\n",
"V_s=I_or*%pi/(sqrt(2)*3*cosd(a));\n",
"V_ph=V_s/sqrt(3);    \n",
"printf('\nfor constant load current');\n",
"printf('\nV_ph=%.2f V',V_ph);"
   ]
   }
,
{
		   "cell_type": "markdown",
		   "metadata": {},
		   "source": [
			"## Example 6.1: to_calculate_the_power_absorbed_in_the_heater_element.sce"
		   ]
		  },
  {
"cell_type": "code",
	   "execution_count": null,
	   "metadata": {
	    "collapsed": true
	   },
	   "outputs": [],
"source": [
"clear;\n",
"clc;\n",
"V=230;\n",
"P=1000;\n",
"R=V^2/P;\n",
"disp('when firing angle delay is of 45deg');\n",
"a=%pi/4;\n",
"V_or=(sqrt(2)*V/(2*sqrt(%pi)))*sqrt((%pi-a)+.5*sin(2*a));\n",
"P=V_or^2/R;    printf('power absorbed=%.2f W',P);\n",
"\n",
"disp('when firing angle delay is of 90deg');\n",
"a=%pi/2;\n",
"V_or=(sqrt(2)*V/(2*sqrt(%pi)))*sqrt((%pi-a)+.5*sin(2*a));\n",
"P=V_or^2/R;    printf('power absorbed=%.2f W',P);"
   ]
   }
,
{
		   "cell_type": "markdown",
		   "metadata": {},
		   "source": [
			"## Example 6.20: to_find_magnitude_of_input_per_phase_supply_voltage.sce"
		   ]
		  },
  {
"cell_type": "code",
	   "execution_count": null,
	   "metadata": {
	    "collapsed": true
	   },
	   "outputs": [],
"source": [
"clear;\n",
"clc;\n",
"a=30;\n",
"R=10;\n",
"P=5000;\n",
"V_s=sqrt(P*R*4*%pi/(2*3)/(2*%pi/3+sqrt(3)*(1+cosd(2*a))/2));\n",
"V_ph=V_s/sqrt(3);    printf('per phase voltage, V_ph=%.3f V',V_ph);\n",
"I_or=sqrt(P*R);\n",
"V_s=I_or*2*%pi/(sqrt(2)*3*(1+cosd(a)));\n",
"V_ph=V_s/sqrt(3);    \n",
"printf('\nfor constant load current');\n",
"printf('\nV_ph=%.2f V',V_ph);"
   ]
   }
,
{
		   "cell_type": "markdown",
		   "metadata": {},
		   "source": [
			"## Example 6.21: to_find_magnitude_of_input_per_phase_supply_voltage.sce"
		   ]
		  },
  {
"cell_type": "code",
	   "execution_count": null,
	   "metadata": {
	    "collapsed": true
	   },
	   "outputs": [],
"source": [
"clear;\n",
"clc;\n",
"a=90;\n",
"R=10;\n",
"P=5000;\n",
"V_s=sqrt(P*R*4*%pi/(2*3)/((%pi-%pi/2)+(sind(2*a))/2));\n",
"V_ph=V_s/sqrt(3);    printf('per phase voltage, V_ph=%.2f V',V_ph);\n",
"I_or=sqrt(P*R);\n",
"V_s=I_or*2*%pi/(sqrt(2)*3*(1+cosd(a)));\n",
"V_ph=V_s/sqrt(3);    \n",
"printf('\nfor constant load current');\n",
"printf('\nV_ph=%.1f V',V_ph);"
   ]
   }
,
{
		   "cell_type": "markdown",
		   "metadata": {},
		   "source": [
			"## Example 6.22: to_compute_firing_angle_delay_and_supply_pf.sce"
		   ]
		  },
  {
"cell_type": "code",
	   "execution_count": null,
	   "metadata": {
	    "collapsed": true
	   },
	   "outputs": [],
"source": [
"clear;\n",
"clc;\n",
"E=200;\n",
"I_o=20;\n",
"R=.5;\n",
"V_o=E+I_o*R;\n",
"V_s=230;\n",
"V_ml=sqrt(2)*V_s;\n",
"a=acosd(V_o*2*%pi/(3*V_ml)-1);    printf('firing angle delay=%.2f deg',a);\n",
"a1=180-a;\n",
"I_sr=sqrt((1/%pi)*I_o^2*(a1*%pi/180));\n",
"P=V_o*I_o;\n",
"pf=P/(sqrt(3)*V_s*I_sr);    printf('\npf=%.4f',pf);"
   ]
   }
,
{
		   "cell_type": "markdown",
		   "metadata": {},
		   "source": [
			"## Example 6.23: to_calculate_rectification_efficiency_TUF_and_input_power_factor.sce"
		   ]
		  },
  {
"cell_type": "code",
	   "execution_count": null,
	   "metadata": {
	    "collapsed": true
	   },
	   "outputs": [],
"source": [
"clear;\n",
"clc;\n",
"V_s=400;\n",
"f=50;\n",
"I_o=15;\n",
"a=45;\n",
"I_TA=I_o*120/360;\n",
"I_Tr=sqrt(I_o^2*120/360);\n",
"I_sr=sqrt(I_o^2*120/180);\n",
"V_ml=sqrt(2)*V_s;\n",
"V_o=3*V_ml*cosd(a)/%pi;\n",
"V_or=V_ml*sqrt((3/(2*%pi))*(%pi/3+sqrt(3/2)*cosd(2*a)));\n",
"I_or=I_o;\n",
"P_dc=V_o*I_o;\n",
"P_ac=V_or*I_or;\n",
"RE=P_dc/P_ac;    printf('rectification efficiency=%.5f',RE);\n",
"VA=3*V_s/sqrt(3)*I_sr;\n",
"TUF=P_dc/VA;    printf('\nTUF=%.4f',TUF);\n",
"pf=P_ac/VA;    printf('\ninput pf=%.3f',pf);"
   ]
   }
,
{
		   "cell_type": "markdown",
		   "metadata": {},
		   "source": [
			"## Example 6.24: to_find_DF_CDF_THD_and_pf_and_to_calculate_the_active_and_reative_input_powers.sce"
		   ]
		  },
  {
"cell_type": "code",
	   "execution_count": null,
	   "metadata": {
	    "collapsed": true
	   },
	   "outputs": [],
"source": [
"clear;\n",
"clc;\n",
"I=10;\n",
"a=45;\n",
"V=400;\n",
"f=50;\n",
"DF=cosd(a);\n",
"printf('DF=%.3f',DF);\n",
"I_o=10;\n",
"I_s1=4*I_o/(sqrt(2)*%pi)*sin(%pi/3);\n",
"I_sr=I_o*sqrt(2/3);\n",
"I_o=1;    //suppose\n",
"CDF=I_s1/I_sr;    printf('\nCDF=%.3f',CDF);\n",
"THD=sqrt(1/CDF^2-1);    printf('\nTHD=%.5f',THD);\n",
"pf=CDF*DF;    printf('\nPF=%.4f',pf);\n",
"P=(3*sqrt(2)*V*cosd(a)/%pi)*I;    printf('\nactive power=%.2f W',P);\n",
"Q=(3*sqrt(2)*V*sind(a)/%pi)*I;    printf('\nreactive power=%.2f Var',Q);"
   ]
   }
,
{
		   "cell_type": "markdown",
		   "metadata": {},
		   "source": [
			"## Example 6.25: calculate_the_power_delivered_to_load_and_input_pf.sce"
		   ]
		  },
  {
"cell_type": "code",
	   "execution_count": null,
	   "metadata": {
	    "collapsed": true
	   },
	   "outputs": [],
"source": [
"//calculate the power delivered to load and i/p pf\n",
"\n",
"clc;\n",
"disp('for firing angle=30deg');\n",
"a=30;\n",
"V=400;\n",
"V_ml=sqrt(2)*V;\n",
"V_o=3*V_ml*cosd(a)/%pi;\n",
"E=350;\n",
"R=10;\n",
"I_o=(V_o-E)/R;\n",
"I_or=I_o;\n",
"P=V_o*I_o;    printf('power delivered to load=%.2f W',P);\n",
"I_sr=I_o*sqrt(2/3);\n",
"VA=3*V/sqrt(3)*I_sr;\n",
"pf=P/VA;    printf('\npf=%.4f',pf);\n",
"\n",
"disp('for firing advance angle=60deg');\n",
"a=180-60;\n",
"V=400;\n",
"V_ml=sqrt(2)*V;\n",
"V_o=3*V_ml*cosd(a)/%pi;\n",
"E=-350;\n",
"R=10;\n",
"I_o=(V_o-E)/R;\n",
"I_or=I_o;\n",
"P=-V_o*I_o;    printf('power delivered to load=%.2f W',P);\n",
"I_sr=I_o*sqrt(2/3);\n",
"VA=3*V/sqrt(3)*I_sr;\n",
"pf=P/VA;    printf('\npf=%.4f',pf);\n",
"//Answers have small variations from that in the book due to difference in the rounding off of digits."
   ]
   }
,
{
		   "cell_type": "markdown",
		   "metadata": {},
		   "source": [
			"## Example 6.26: calculate_overlap_angle_for_different_firing_angles.sce"
		   ]
		  },
  {
"cell_type": "code",
	   "execution_count": null,
	   "metadata": {
	    "collapsed": true
	   },
	   "outputs": [],
"source": [
"clear;\n",
"clc;\n",
"a=0;\n",
"u=15;\n",
"i=cosd(a)-cosd(a+u);\n",
"disp('for firing angle=30deg');\n",
"a=30;\n",
"u=acosd(cosd(a)-i)-a;    printf('overlap angle=%.1f deg',u);\n",
"disp('for firing angle=45deg');\n",
"a=45;\n",
"u=acosd(cosd(a)-i)-a;    printf('overlap angle=%.1f deg',u);\n",
"disp('for firing angle=60deg');\n",
"a=60;\n",
"u=acosd(cosd(a)-i)-a;    printf('overlap angle=%.2f deg',u);"
   ]
   }
,
{
		   "cell_type": "markdown",
		   "metadata": {},
		   "source": [
			"## Example 6.28: to_calculate_firing_angle_delay_and_overlap_angle.sce"
		   ]
		  },
  {
"cell_type": "code",
	   "execution_count": null,
	   "metadata": {
	    "collapsed": true
	   },
	   "outputs": [],
"source": [
"clear;\n",
"clc;\n",
"E=400;\n",
"I_o=20;\n",
"R=1;\n",
"V_o=E+I_o*R;\n",
"f=50;\n",
"w=2*%pi*f\n",
"L=.004;\n",
"V=230;//per phase voltage\n",
"V_ml=sqrt(6)*V;\n",
"a=acosd(%pi/(3*V_ml)*(V_o+3*w*L*I_o/%pi));    printf('firing angle delay=%.3f deg',a);\n",
"u=acosd(%pi/(3*V_ml)*(V_o-3*w*L*I_o/%pi))-a;    printf('\noverlap angle=%.2f deg',u);\n",
"//Answers have small variations from that in the book due to difference in the rounding off of digits."
   ]
   }
,
{
		   "cell_type": "markdown",
		   "metadata": {},
		   "source": [
			"## Example 6.29: to_calculate_firing_angle_firing_angle_delay_and_overlap_angle.sce"
		   ]
		  },
  {
"cell_type": "code",
	   "execution_count": null,
	   "metadata": {
	    "collapsed": true
	   },
	   "outputs": [],
"source": [
"clear;\n",
"clc;\n",
"V=400;\n",
"f=50;\n",
"w=2*%pi*f;\n",
"R=1;\n",
"E=230;\n",
"I=15;\n",
"V_o=-E+I*R;\n",
"V_ml=sqrt(2)*V;\n",
"a=acosd(V_o*2*%pi/(3*V_ml));    printf('firing angle=%.3f deg',a);\n",
"L=0.004;\n",
"a=acosd((2*%pi)/(3*V_ml)*(V_o+3*w*L*I/(2*%pi)));    printf('\nfiring angle delay=%.3f deg',a);\n",
"u=acosd(cosd(a)-3*f*L*I/V_ml)-a;    printf('\noverlap angle=%.3f deg',u);\n",
"//Answers have small variations from that in the book due to difference in the rounding off of digits."
   ]
   }
,
{
		   "cell_type": "markdown",
		   "metadata": {},
		   "source": [
			"## Example 6.2: EX6_2.sce"
		   ]
		  },
  {
"cell_type": "code",
	   "execution_count": null,
	   "metadata": {
	    "collapsed": true
	   },
	   "outputs": [],
"source": [
"clear;\n",
"clc;\n",
"V=230;\n",
"E=150;\n",
"R=8;\n",
"th1=asind(E/(sqrt(2)*V));\n",
"I_o=(1/(2*%pi*R))*(2*sqrt(2)*230*cosd(th1)-E*(%pi-2*th1*%pi/180));    \n",
"printf('avg charging curent=%.4f A',I_o);\n",
"\n",
"P=E*I_o;    printf('\npower supplied to the battery=%.2f W',P);\n",
"I_or=sqrt((1/(2*%pi*R^2))*((V^2+E^2)*(%pi-2*th1*%pi/180)+V^2*sind(2*th1)-4*sqrt(2)*V*E*cosd(th1)));\n",
"P_r=I_or^2*R;    printf('\npower dissipated by the resistor=%.3f W',P_r);\n",
"\n",
"pf=(P+P_r)/(V*I_or);    printf('\nsupply pf=%.3f',pf);"
   ]
   }
,
{
		   "cell_type": "markdown",
		   "metadata": {},
		   "source": [
			"## Example 6.31: calculate_the_peak_value_of_circulating_current.sce"
		   ]
		  },
  {
"cell_type": "code",
	   "execution_count": null,
	   "metadata": {
	    "collapsed": true
	   },
	   "outputs": [],
"source": [
"clear;\n",
"clc;\n",
"V=230;//per phase\n",
"V_ml=sqrt(3)*sqrt(2)*V;\n",
"f=50;\n",
"w=2*%pi*f;\n",
"a1=60;\n",
"L=0.015;\n",
"i_cp=(sqrt(3)*V_ml/(w*L))*(1-sind(a1));    printf('circulating current=%.4f A',i_cp);"
   ]
   }
,
{
		   "cell_type": "markdown",
		   "metadata": {},
		   "source": [
			"## Example 6.32: EX6_32.sce"
		   ]
		  },
  {
"cell_type": "code",
	   "execution_count": null,
	   "metadata": {
	    "collapsed": true
	   },
	   "outputs": [],
"source": [
"clear;\n",
"clc;\n",
"V=230;\n",
"V_m=sqrt(2)*V;\n",
"a=30;\n",
"V_o=2*V_m*cosd(a)/%pi;    printf('avg o/p voltage=%.3f V',V_o);\n",
"R=10;\n",
"I_o=V_o/R;    printf('\navg o/p current=%.2f A',I_o);\n",
"I_TA=I_o*%pi/(2*%pi);    printf('\navg value of thyristor current=%.3f A',I_TA);\n",
"I_Tr=sqrt(I_o^2*%pi/(2*%pi));    printf('\nrms value of thyristor current=%.2f A',I_Tr);\n",
"I_s=sqrt(I_o^2*%pi/(%pi)); \n",
"I_o=I_s;\n",
"pf=(V_o*I_o/(V*I_s));    printf('\npf=%.4f',pf);\n",
"//Answers have small variations from that in the book due to difference in the rounding off of digits."
   ]
   }
,
{
		   "cell_type": "markdown",
		   "metadata": {},
		   "source": [
			"## Example 6.33: to_determine_1_avg_output_voltage_2_angle_of_overlap_3_pf.sce"
		   ]
		  },
  {
"cell_type": "code",
	   "execution_count": null,
	   "metadata": {
	    "collapsed": true
	   },
	   "outputs": [],
"source": [
"clear;\n",
"clc;\n",
"V=230;\n",
"V_m=sqrt(2)*V;\n",
"a=30;\n",
"L=.0015;\n",
"V_o=2*V_m*cosd(a)/%pi;  \n",
"R=10;\n",
"I_o=V_o/R;  \n",
"f=50;\n",
"w=2*%pi*f;\n",
"V_ox=2*V_m*cosd(a)/%pi-w*L*I_o/%pi;    printf('avg o/p voltage=%.3f V',V_ox);\n",
"u=acosd(cosd(a)-I_o*w*L/V_m)-a;    printf('\nangle of overlap=%.3f deg',u);\n",
"I=I_o;\n",
"pf=V_o*I_o/(V*I);    printf('\npf=%.4f',pf);\n",
"//Answers have small variations from that in the book due to difference in the rounding off of digits."
   ]
   }
,
{
		   "cell_type": "markdown",
		   "metadata": {},
		   "source": [
			"## Example 6.34: calculate_the_generator_mean_voltage.sce"
		   ]
		  },
  {
"cell_type": "code",
	   "execution_count": null,
	   "metadata": {
	    "collapsed": true
	   },
	   "outputs": [],
"source": [
"clear;\n",
"clc;\n",
"V=415;\n",
"V_ml=sqrt(2)*V;\n",
"a1=35;//firing angle advance\n",
"a=180-a1;\n",
"I_o=80;\n",
"r_s=0.04;\n",
"v_T=1.5;\n",
"X_l=.25;//reactance=w*L\n",
"E=-3*V_ml*cosd(a)/%pi+2*I_o*r_s+2*v_T+3*X_l*I_o/%pi;    printf('mean generator voltage=%.3f V',E);"
   ]
   }
,
{
		   "cell_type": "markdown",
		   "metadata": {},
		   "source": [
			"## Example 6.35: find_the_mean_value_of_E.sce"
		   ]
		  },
  {
"cell_type": "code",
	   "execution_count": null,
	   "metadata": {
	    "collapsed": true
	   },
	   "outputs": [],
"source": [
"clear;\n",
"clc;\n",
"V=415;\n",
"V_ml=sqrt(2)*V;\n",
"R=.2;\n",
"I_o=80;\n",
"r_s=0.04;\n",
"v_T=1.5;\n",
"X_l=.25;//reactance=w*L\n",
"\n",
"disp('when firing angle=35deg');\n",
"a=35;\n",
"E=-(-3*V_ml*cosd(a)/%pi+I_o*R+2*I_o*r_s+2*v_T+3*X_l*I_o/%pi);    printf('mean generator voltage=%.3f V',E);\n",
"disp('when firing angle advance=35deg');\n",
"a1=35;\n",
"a=180-a1;\n",
"E=(-3*V_ml*cosd(a)/%pi+I_o*R+2*I_o*r_s+2*v_T+3*X_l*I_o/%pi);    printf('mean generator voltage=%.3f V',E);"
   ]
   }
,
{
		   "cell_type": "markdown",
		   "metadata": {},
		   "source": [
			"## Example 6.36: to_find_avg_current_through_battery.sce"
		   ]
		  },
  {
"cell_type": "code",
	   "execution_count": null,
	   "metadata": {
	    "collapsed": true
	   },
	   "outputs": [],
"source": [
"clear;\n",
"clc;\n",
"R=5;\n",
"V=230;\n",
"V_mp=sqrt(2)*V;\n",
"a=30;\n",
"E=150;\n",
"B=180-asind(E/V_mp);\n",
"I_o=(3/(2*%pi*R))*(V_mp*(cosd(a+30)-cosd(B))-E*((B-a-30)*%pi/180));\n",
"printf('avg current flowing=%.2f A',I_o);"
   ]
   }
,
{
		   "cell_type": "markdown",
		   "metadata": {},
		   "source": [
			"## Example 6.37: EX6_37.sce"
		   ]
		  },
  {
"cell_type": "code",
	   "execution_count": null,
	   "metadata": {
	    "collapsed": true
	   },
	   "outputs": [],
"source": [
"clear;\n",
"clc;\n",
"a=30;\n",
"V=230;\n",
"V_m=sqrt(2)*V;\n",
"V_o=V_m*(1+cosd(a))/%pi;    printf('avg o/p voltage=%.3f V',V_o);\n",
"E=100;\n",
"R=10;\n",
"I_o=(V_o-E)/R;    printf('\navg o/p current=%.2f A',I_o);\n",
"I_TA=I_o*%pi/(2*%pi);    printf('\navg value of thyristor current=%.2f A',I_TA);\n",
"I_Tr=sqrt(I_o^2*%pi/(2*%pi));    printf('\nrms value of thyristor current=%.3f A',I_Tr);\n",
"printf('\navg value of diode current=%.2f A',I_TA);\n",
"printf('\nrms value of diode current=%.3f A',I_Tr);\n",
"I_s=sqrt(I_o^2*(1-a/180)*%pi/(%pi));\n",
"I_or=I_o;\n",
"P=E*I_o+I_or^2*R;\n",
"pf=(P/(V*I_s));    printf('\npf=%.4f',pf);\n",
"f=50;\n",
"w=2*%pi*f;\n",
"t_c=(1-a/180)*%pi/w;    printf('\ncircuit turn off time=%.2f ms',t_c*1000);"
   ]
   }
,
{
		   "cell_type": "markdown",
		   "metadata": {},
		   "source": [
			"## Example 6.38: to_calculate_peak_value_of_circulating_currents_and_of_both_convertors.sce"
		   ]
		  },
  {
"cell_type": "code",
	   "execution_count": null,
	   "metadata": {
	    "collapsed": true
	   },
	   "outputs": [],
"source": [
"clear;\n",
"clc;\n",
"V=230;\n",
"V_m=sqrt(2)*V;\n",
"L=0.05;\n",
"f=50;\n",
"w=2*%pi*f;\n",
"a=30;\n",
"i_cp=2*V_m*(1-cosd(a))/(w*L);    printf('peak value of circulating current=%.3f A',i_cp);\n",
"R=30;\n",
"i_l=V_m/R;\n",
"i1=i_cp+i_l;    printf('\npeak value of current in convertor 1=%.3f A',i1);\n",
"i2=i_cp;    printf('\npeak value of current in convertor 2=%.3f A',i2);"
   ]
   }
,
{
		   "cell_type": "markdown",
		   "metadata": {},
		   "source": [
			"## Example 6.39: to_estimate_triggering_angle_for_no_current_transients_and_for_worst_transients.sce"
		   ]
		  },
  {
"cell_type": "code",
	   "execution_count": null,
	   "metadata": {
	    "collapsed": true
	   },
	   "outputs": [],
"source": [
"clear;\n",
"clc;\n",
"f=50;\n",
"w=2*%pi*f;\n",
"R=5;\n",
"L=0.05;\n",
"disp('for no current transients');\n",
"phi=atand(w*L/R);    printf('triggering angle=%.2f deg',phi);\n",
"disp('for worst transients');\n",
"phi=90+atand(w*L/R);    printf('triggering angle=%.2f deg',phi);"
   ]
   }
,
{
		   "cell_type": "markdown",
		   "metadata": {},
		   "source": [
			"## Example 6.3: EX6_3.sce"
		   ]
		  },
  {
"cell_type": "code",
	   "execution_count": null,
	   "metadata": {
	    "collapsed": true
	   },
	   "outputs": [],
"source": [
"clear;\n",
"clc;\n",
"V=230;\n",
"E=150;\n",
"R=8;\n",
"a=35;\n",
"th1=asind(E/(sqrt(2)*V));\n",
"th2=180-th1;\n",
"I_o=(1/(2*%pi*R))*(sqrt(2)*230*(cosd(a)-cosd(th2))-E*((th2-a)*%pi/180));    \n",
"printf('avg charging curent=%.4f A',I_o);\n",
"\n",
"P=E*I_o;    printf('\npower supplied to the battery=%.2f W',P);\n",
"I_or=sqrt((1/(2*%pi*R^2))*((V^2+E^2)*((th2-a)*%pi/180)-(V^2/2)*(sind(2*th2)-sind(2*a))-2*sqrt(2)*V*E*(cosd(a)-cosd(th2))));\n",
"P_r=I_or^2*R;    printf('\npower dissipated by the resistor=%.2f W',P_r);\n",
"\n",
"pf=(P+P_r)/(V*I_or);    printf('\nsupply pf=%.4f',pf);\n",
"//Answers have small variations from that in the book due to difference in the rounding off of digits."
   ]
   }
,
{
		   "cell_type": "markdown",
		   "metadata": {},
		   "source": [
			"## Example 6.4: to_find_ckt_turn_off_time_avg_output_voltage_and_avg_load_current.sce"
		   ]
		  },
  {
"cell_type": "code",
	   "execution_count": null,
	   "metadata": {
	    "collapsed": true
	   },
	   "outputs": [],
"source": [
"clear;\n",
"clc;\n",
"B=210;\n",
"f=50;    //Hz\n",
"w=2*%pi*f;\n",
"a=40;    //firing angle\n",
"V=230;\n",
"disp('for R=5ohm and L=2mH');\n",
"R=5;\n",
"L=2*10^-3;\n",
"t_c=(360-B)*%pi/(180*w);    printf('ckt turn off time=%.3f msec',t_c*1000);\n",
"V_o=(sqrt(2)*230/(2*%pi))*(cosd(a)-cosd(B));    printf('\navg output voltage=%.3f V',V_o);\n",
"I_o=V_o/R;    printf('\navg output current=%.4f A',I_o);\n",
"\n",
"disp('for R=5ohm, L=2mH and E=110V');\n",
"E=110;\n",
"R=5;\n",
"L=2*10^-3;\n",
"th1=asind(E/(sqrt(2)*V));\n",
"t_c=(360-B+th1)*%pi/(180*w);    printf('ckt turn off time=%.3f msec',t_c*1000);\n",
"V_o=(sqrt(2)*230/(2*%pi))*(cosd(a)-cosd(B));    printf('\navg output voltage=%.3f V',V_o);    \n",
"I_o=(1/(2*%pi*R))*(sqrt(2)*230*(cosd(a)-cosd(B))-E*((B-a)*%pi/180));    printf('\navg output current=%.4f A',I_o);\n",
"V_o=R*I_o+E;    printf('\navg output voltage=%.3f V',V_o);\n",
"\n",
"    "
   ]
   }
,
{
		   "cell_type": "markdown",
		   "metadata": {},
		   "source": [
			"## Example 6.5: EX6_5.sce"
		   ]
		  },
  {
"cell_type": "code",
	   "execution_count": null,
	   "metadata": {
	    "collapsed": true
	   },
	   "outputs": [],
"source": [
"clear;\n",
"clc;\n",
"V_s=230;\n",
"f=50;\n",
"R=10;\n",
"a=60;\n",
"V_m=(sqrt(2)*V_s);\n",
"V_o=V_m/(2*%pi)*(1+cosd(a));\n",
"I_o=V_o/R;\n",
"V_or=(V_m/(2*sqrt(%pi)))*sqrt((%pi-a*%pi/180)+.5*sind(2*a));\n",
"I_or=V_or/R;\n",
"P_dc=V_o*I_o;\n",
"P_ac=V_or*I_or;\n",
"RE=P_dc/P_ac;    printf('rectification efficiency=%.4f',RE);\n",
"FF=V_or/V_o;    printf('\nform factor=%.3f',FF);\n",
"VRF=sqrt(FF^2-1);    printf('\nvoltage ripple factor=%.4f',VRF);\n",
"TUF=P_dc/(V_s*I_or);    printf('\nt/f utilisation factor=%.4f',TUF);\n",
"PIV=V_m;    printf('\nPIV of thyristor=%.2f V',PIV);"
   ]
   }
,
{
		   "cell_type": "markdown",
		   "metadata": {},
		   "source": [
			"## Example 6.6: to_find_power_handled_by_mid_pt_convertor_and_single_phase_bridge_convertor.sce"
		   ]
		  },
  {
"cell_type": "code",
	   "execution_count": null,
	   "metadata": {
	    "collapsed": true
	   },
	   "outputs": [],
"source": [
"clear;\n",
"clc;\n",
"V=1000;\n",
"fos=2.5;    //factor of safety\n",
"I_TAV=40;\n",
"disp('for mid pt convertor');\n",
"V_m=V/(2*fos);\n",
"P=(2*V_m/%pi)*I_TAV;    printf('power handled=%.3f kW',P/1000);\n",
"disp('for bridge convertor');\n",
"V_m=V/(fos);\n",
"P=(2*V_m/%pi)*I_TAV;    printf('power handled=%.3f kW',P/1000);"
   ]
   }
,
{
		   "cell_type": "markdown",
		   "metadata": {},
		   "source": [
			"## Example 6.7: compute_firing_angle_delay_and_pf.sce"
		   ]
		  },
  {
"cell_type": "code",
	   "execution_count": null,
	   "metadata": {
	    "collapsed": true
	   },
	   "outputs": [],
"source": [
"clear;\n",
"clc;\n",
"V_s=230;\n",
"V_m=sqrt(2)*V_s;\n",
"R=.4;\n",
"I_o=10;\n",
"I_or=I_o;\n",
"E=120;\n",
"a=acosd((E+I_o*R)*%pi/(2*V_m));    printf('firing angle delay=%.2f deg',a);\n",
"pf=(E*I_o+I_or^2*R)/(V_s*I_or);    printf('\npf=%.4f',pf);\n",
"\n",
"E=-120;\n",
"a=acosd((E+I_o*R)*%pi/(2*V_m));    printf('\nfiring angle delay=%.2f deg',a);\n",
"pf=(-E*I_o-I_or^2*R)/(V_s*I_or);   printf('\npf=%.4f',pf);"
   ]
   }
,
{
		   "cell_type": "markdown",
		   "metadata": {},
		   "source": [
			"## Example 6.9: to_find_avg_output_current_and_power_delivered.sce"
		   ]
		  },
  {
"cell_type": "code",
	   "execution_count": null,
	   "metadata": {
	    "collapsed": true
	   },
	   "outputs": [],
"source": [
"clear;\n",
"clc;\n",
"V_s=230;\n",
"f=50;\n",
"a=45;\n",
"R=5;\n",
"E=100;\n",
"V_o=((sqrt(2)*V_s)/(2*%pi))*(3+cosd(a));\n",
"I_o=(V_o-E)/R;    printf('avg o/p current=%.3f A',I_o);\n",
"P=E*I_o;    printf('\npower delivered to battery=%.4f kW',P/1000);"
   ]
   }
],
"metadata": {
		  "kernelspec": {
		   "display_name": "Scilab",
		   "language": "scilab",
		   "name": "scilab"
		  },
		  "language_info": {
		   "file_extension": ".sce",
		   "help_links": [
			{
			 "text": "MetaKernel Magics",
			 "url": "https://github.com/calysto/metakernel/blob/master/metakernel/magics/README.md"
			}
		   ],
		   "mimetype": "text/x-octave",
		   "name": "scilab",
		   "version": "0.7.1"
		  }
		 },
		 "nbformat": 4,
		 "nbformat_minor": 0
}
