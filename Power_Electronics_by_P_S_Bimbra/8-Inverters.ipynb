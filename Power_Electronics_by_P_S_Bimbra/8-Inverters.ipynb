{
"cells": [
 {
		   "cell_type": "markdown",
	   "metadata": {},
	   "source": [
       "# Chapter 8: Inverters"
	   ]
	},
{
		   "cell_type": "markdown",
		   "metadata": {},
		   "source": [
			"## Example 8.10: EX8_10.sce"
		   ]
		  },
  {
"cell_type": "code",
	   "execution_count": null,
	   "metadata": {
	    "collapsed": true
	   },
	   "outputs": [],
"source": [
"clear;\n",
"clc;\n",
"V_s=220;\n",
"R=6;\n",
"f=50;\n",
"w=2*%pi*f;\n",
"L=0.03;\n",
"C=180*10^-6;\n",
"X_L=w*L;\n",
"X_C=1/(w*C);\n",
"\n",
"V_or=sqrt(V_s^2*%pi/%pi);\n",
"V_01=4*V_s/(sqrt(2)*%pi);\n",
"V_oh=sqrt(V_or^2-V_01^2);\n",
"THD=V_oh/V_01;    printf('THD of voltage=%.4f',THD);\n",
"DF=V_01/V_or;    printf('\nDF=%.1f',DF);\n",
"\n",
"Z1=sqrt(R^2+(X_L-X_C)^2);\n",
"phi1=-atand((X_L-X_C)/R);\n",
"Z3=sqrt(R^2+(X_L*3-X_C/3)^2);\n",
"phi3=atand((X_L*3-X_C/3)/R);\n",
"Z5=sqrt(R^2+(X_L*5-X_C/5)^2);\n",
"phi5=atand((X_L*5-X_C/5)/R);\n",
"Z7=sqrt(R^2+(X_L*7-X_C/7)^2);\n",
"phi7=atand((X_L*7-X_C/7)/R);\n",
"\n",
"I_01=19.403;\n",
"I_m1=4*V_s/(Z1*%pi);\n",
"I_m3=4*V_s/(3*Z3*%pi);\n",
"I_m5=4*V_s/(5*Z5*%pi);\n",
"I_m7=4*V_s/(7*Z7*%pi);\n",
"I_m=sqrt(I_m1^2+I_m3^2+I_m5^2+I_m7^2);\n",
"I_or=I_m/sqrt(2);\n",
"I_oh=sqrt((I_m^2-I_m1^2)/2);\n",
"THD=I_oh/I_01;    printf('\nTHD of current=%.4f',THD);\n",
"DF=I_01/I_or;    printf('\nDF=%.3f',DF);\n",
"\n",
"P_o=I_or^2*R;    printf('\nload power=%.1f W',P_o);\n",
"I_avg=P_o/V_s;    printf('\navg value of load current=%.2f A',I_avg);\n",
"\n",
"t1=(180-phi1)*%pi/(180*w);    printf('\nconduction time for thyristor=%.0f ms',t1*1000);\n",
"t1=1/(2*f)-t1;    printf('\nconduction time for diodes=%.0f ms',t1*1000);\n",
"\n",
"I_p=I_m1;    printf('\npeak transistor current=%.2f A',I_p);\n",
"I_t1=.46135*I_p;    printf('\nrms transistor current=%.2f A',I_t1);"
   ]
   }
,
{
		   "cell_type": "markdown",
		   "metadata": {},
		   "source": [
			"## Example 8.11: EX8_11.sce"
		   ]
		  },
  {
"cell_type": "code",
	   "execution_count": null,
	   "metadata": {
	    "collapsed": true
	   },
	   "outputs": [],
"source": [
"clear;\n",
"clc;\n",
"V_s=450;\n",
"R=10;\n",
"disp('for 180deg mode');\n",
"I_or=sqrt((V_s/(3*R))^2*2/3+(2*V_s/(3*R))^2*1/3);    printf('rms value of load current=%.3f A',I_or);\n",
"I_T1=sqrt((1/(2*%pi))*((V_s/(3*R))^2*2*%pi/3+(2*V_s/(3*R))^2*%pi/3));    printf('\nrms value of load current=%.0f A',I_T1);\n",
"P=3*I_or^2*R;    printf('\npower delivered to load=%.1f kW',P/1000);\n",
"\n",
"disp('for 120deg mode');\n",
"I_or=sqrt((1/(%pi))*((V_s/(2*R))^2*2*%pi/3));    printf('rms value of load current=%.3f A',I_or);\n",
"I_T1=sqrt((1/(2*%pi))*((V_s/(2*R))^2*2*%pi/3));    printf('\nrms value of load current=%.2f A',I_T1);\n",
"P=3*I_or^2*R;    printf('\npower delivered to load=%.3f kW',P/1000);"
   ]
   }
,
{
		   "cell_type": "markdown",
		   "metadata": {},
		   "source": [
			"## Example 8.12: EX8_12.sce"
		   ]
		  },
  {
"cell_type": "code",
	   "execution_count": null,
	   "metadata": {
	    "collapsed": true
	   },
	   "outputs": [],
"source": [
"clear;\n",
"clc;\n",
"V_s=230;\n",
"R=10;\n",
"f=50;\n",
"w=2*%pi*f;\n",
"L=0.03;\n",
"X_L=w*L;\n",
"\n",
"V_or=sqrt(V_s^2*%pi/%pi);\n",
"V_01=4*V_s/(sqrt(2)*%pi);\n",
"\n",
"Z1=sqrt(R^2+(X_L)^2);\n",
"phi1=-atand((X_L)/R);\n",
"Z3=sqrt(R^2+(X_L*3)^2);\n",
"phi3=atand((X_L*3)/R);\n",
"Z5=sqrt(R^2+(X_L*5)^2);\n",
"phi5=atand((X_L*5)/R);\n",
"Z7=sqrt(R^2+(X_L*7)^2);\n",
"phi7=atand((X_L*7)/R);\n",
"\n",
"disp('using square wave o/p');\n",
"I_m1=4*V_s/(sqrt(2)*Z1*%pi);\n",
"I_m3=4*V_s/(sqrt(2)*3*Z3*%pi);\n",
"I_m5=4*V_s/(sqrt(2)*5*Z5*%pi);\n",
"I_m7=4*V_s/(sqrt(2)*7*Z7*%pi);\n",
"I_m=sqrt(I_m1^2+I_m3^2+I_m5^2+I_m7^2);\n",
"P=I_m^2*R;    printf('power delivered=%.2f W',P);\n",
"\n",
"disp('using quasi-square wave o/p');\n",
"I_01=I_m1*sind(45);\n",
"I_03=I_m3*sind(3*45);\n",
"I_05=I_m5*sind(5*45);\n",
"I_07=I_m7*sind(7*45);\n",
"I_0=(I_01^2+I_03^2+I_05^2+I_07^2);\n",
"P=I_0*R;    printf('power delivered=%.2f W',P);\n",
"\n",
"disp('using two symmitrical spaced pulses');\n",
"g=(180-90)/3+45/2;\n",
"I_01=2*I_m1*sind(g)*sind(45/2);\n",
"I_03=2*I_m3*sind(g*3)*sind(3*45/2);\n",
"I_05=2*I_m5*sind(g*5)*sind(5*45/2);\n",
"I_07=2*I_m7*sind(g*7)*sind(7*45/2);\n",
"I_0=(I_01^2+I_03^2+I_05^2+I_07^2);\n",
"P=I_0*R;    printf('power delivered=%.2f W',P);"
   ]
   }
,
{
		   "cell_type": "markdown",
		   "metadata": {},
		   "source": [
			"## Example 8.14: EX8_14.sce"
		   ]
		  },
  {
"cell_type": "code",
	   "execution_count": null,
	   "metadata": {
	    "collapsed": true
	   },
	   "outputs": [],
"source": [
"clear;\n",
"clc;\n",
"f=50;\n",
"T=1/f;\n",
"I=.5;\n",
"di=I/T;    //di=di/dt\n",
"V_s=220;\n",
"L=V_s/di;    printf('source inductance=%.1f H',L);\n",
"\n",
"t=20*10^-6;\n",
"fos=2;    //factor of safety\n",
"t_c=t*fos;\n",
"R=10;\n",
"C=t_c/(R*log(2));    printf('\ncommutating capacitor=%.2f uF',C*10^6);"
   ]
   }
,
{
		   "cell_type": "markdown",
		   "metadata": {},
		   "source": [
			"## Example 8.15: EX8_15.sce"
		   ]
		  },
  {
"cell_type": "code",
	   "execution_count": null,
	   "metadata": {
	    "collapsed": true
	   },
	   "outputs": [],
"source": [
"clear;\n",
"clc;\n",
"R=10;\n",
"L=.01;\n",
"C=10*10^-6;\n",
"if(R^2<4*L/C)\n",
"    disp('ckt will commutate on its own');\n",
"else\n",
"    disp('ckt will not commutate on its own');\n",
"end   \n",
"\n",
"xie=R/(2*L);\n",
"w_o=1/sqrt(L*C);\n",
"w_r=sqrt(w_o^2-xie^2);\n",
"phi=atand(xie/w_r);\n",
"t=%pi/w_r;\n",
"V_s=1;\n",
"v_L=V_s*(w_o/w_r)*exp(-xie*t)*cosd(180+phi);    printf('voltage across inductor(*V_s)=%.5f V',v_L);\n",
"v_c=V_s*(1-(w_o/w_r)*exp(-xie*t)*cosd(180-phi));    printf('\nvoltage across capacitor(*V_s)=%.5f V',v_c);\n",
"di=V_s/L;    printf('\ndi/dt*V_s (for t=0)=%.0f A/s',di);"
   ]
   }
,
{
		   "cell_type": "markdown",
		   "metadata": {},
		   "source": [
			"## Example 8.16: to_calculate_output_freq.sce"
		   ]
		  },
  {
"cell_type": "code",
	   "execution_count": null,
	   "metadata": {
	    "collapsed": true
	   },
	   "outputs": [],
"source": [
"clear;\n",
"clc;\n",
"L=.006;\n",
"C=1.2*10^-6;\n",
"R=100;\n",
"T=%pi/sqrt(1/(L*C)-(R/(2*L))^2);\n",
"T_off=.2*10^-3;\n",
"f=1/(2*(T+T_off));    printf('o/p freq=%.2f Hz',f);\n",
"\n",
"disp('for R=40ohm');\n",
"R=40;\n",
"T=%pi/sqrt(1/(L*C)-(R/(2*L))^2);\n",
"T_off=.2*10^-3;\n",
"f=1/(2*(T+T_off));    printf('upper limit o/p freq=%.1f Hz',f);\n",
"\n",
"disp('for R=140ohm');\n",
"R=140;\n",
"T=%pi/sqrt(1/(L*C)-(R/(2*L))^2);\n",
"T_off=.2*10^-3;\n",
"f=1/(2*(T+T_off));    printf('lower limit o/p freq=%.1f Hz',f);"
   ]
   }
,
{
		   "cell_type": "markdown",
		   "metadata": {},
		   "source": [
			"## Example 8.17: To_determine_1_ckt_turn_off_time_2_max_possible_operating_freq.sce"
		   ]
		  },
  {
"cell_type": "code",
	   "execution_count": null,
	   "metadata": {
	    "collapsed": true
	   },
	   "outputs": [],
"source": [
"clear;\n",
"clc;\n",
"f=5000;\n",
"w=2*%pi*f;\n",
"R=3;\n",
"L=60*10^-6;\n",
"xie=R/(2*L);\n",
"C=7.5*10^-6;\n",
"w_o=1/sqrt(L*C);\n",
"w_r=sqrt(w_o^2-xie^2);\n",
"t_c=%pi*(1/w-1/w_r);    printf('ckt turn off time=%.2f us',t_c*10^6);\n",
"\n",
"fos=1.5;\n",
"t_q=10*10^-6;\n",
"f_max=1/(2*%pi*(t_q*fos/%pi+1/w_r));    printf('\nmax possible operating freq=%.1f Hz',f_max);\n",
"//Answers have small variations from that in the book due to difference in the rounding off of digits."
   ]
   }
,
{
		   "cell_type": "markdown",
		   "metadata": {},
		   "source": [
			"## Example 8.18: EX8_18.sce"
		   ]
		  },
  {
"cell_type": "code",
	   "execution_count": null,
	   "metadata": {
	    "collapsed": true
	   },
	   "outputs": [],
"source": [
"clear;\n",
"clc;\n",
"f=5000;\n",
"w=2*%pi*f;\n",
"R=3;\n",
"L=60*10^-6;\n",
"xie=R/(2*L);\n",
"C=7.5*10^-6;\n",
"w_o=1/sqrt(L*C);\n",
"w_r=sqrt(w_o^2-xie^2);\n",
"t1=%pi/(2*w_r);\n",
"V_s=220;\n",
"V_co=80;\n",
"I_omx=(V_s+V_co)*exp(-xie*t1)/(w_r*L);\n",
"I_rms=I_omx/sqrt(2);\n",
"P=I_rms^2*R;    printf('load power=%.2f W',P);\n",
"printf('\nrms value of thyristor current=%.3f A',I_omx/2);\n",
"I_SA=P/V_s;\n",
"printf('\navg thyristor current=%.3f A',I_SA/2);\n",
"//error in the book. wrong values are placed in the I_omx formulae. so all answer varies"
   ]
   }
,
{
		   "cell_type": "markdown",
		   "metadata": {},
		   "source": [
			"## Example 8.19: to_find_the_value_of_capacitor_C_for_given_conditions.sce"
		   ]
		  },
  {
"cell_type": "code",
	   "execution_count": null,
	   "metadata": {
	    "collapsed": true
	   },
	   "outputs": [],
"source": [
"clear;\n",
"clc;\n",
"t=20;\n",
"fos=2;    //factor of safety\n",
"t_c=t*fos;\n",
"n=1/3;\n",
"R=20;\n",
"C=n^2*t_c/(4*R*log(2));    printf('value of capacitor=%.5f uF',C);\n",
"//printing mistake in the answer in book."
   ]
   }
,
{
		   "cell_type": "markdown",
		   "metadata": {},
		   "source": [
			"## Example 8.20: EX8_20.sce"
		   ]
		  },
  {
"cell_type": "code",
	   "execution_count": null,
	   "metadata": {
	    "collapsed": true
	   },
	   "outputs": [],
"source": [
"clear;\n",
"clc;\n",
"V_s=220;\n",
"V_p=sqrt(2)*V_s/3;    printf('rms value of phasor voltages=%.2f V',V_p);\n",
"V_L=sqrt(3)*V_p;    printf('\nrms value of line voltages=%.2f V',V_L);\n",
"\n",
"V_p1=sqrt(2)*V_s/%pi;    printf('\nfundamental component of phase voltage=%.3f V',V_p1);\n",
"V_L1=sqrt(3)*V_p1;    printf('\nfundamental component of line voltages=%.3f V',V_L1);\n",
"\n",
"V_oh=sqrt(V_L^2-V_L1^2);\n",
"THD=V_oh/V_L1;    printf('\nTHD=%.7f',THD);\n",
"\n",
"V_a1=2*V_s/%pi;\n",
"V_a5=2*V_s/(5*%pi);\n",
"V_a7=2*V_s/(7*%pi);\n",
"V_a11=2*V_s/(11*%pi);\n",
"R=4;\n",
"L=0.02;\n",
"f=50;\n",
"w=2*%pi*f;\n",
"Z1=sqrt(R^2+(w*L)^2);\n",
"Z5=sqrt(R^2+(5*w*L)^2);\n",
"Z7=sqrt(R^2+(7*w*L)^2);\n",
"Z11=sqrt(R^2+(11*w*L)^2);\n",
"I_a1=V_a1/Z1;\n",
"I_a5=V_a5/Z5;\n",
"I_a7=V_a7/Z7;\n",
"I_a11=V_a11/Z11;\n",
"I_or=sqrt((I_a1^2+I_a5^2+I_a7^2+I_a11^2)/2);\n",
"P=3*I_or^2*R;    printf('\nload power=%.1f W',P);\n",
"I_s=P/V_s;    printf('\navg value of source current=%.3f A',I_s);\n",
"I_TA=I_s/3;    printf('\navg value of thyristor current=%.3f A',I_TA);"
   ]
   }
,
{
		   "cell_type": "markdown",
		   "metadata": {},
		   "source": [
			"## Example 8.3: to_find_the_value_of_C_for_having_load_commutation.sce"
		   ]
		  },
  {
"cell_type": "code",
	   "execution_count": null,
	   "metadata": {
	    "collapsed": true
	   },
	   "outputs": [],
"source": [
"clear;\n",
"clc;\n",
"T=.1*10^-3;\n",
"f=1/T;\n",
"k=15*10^-6;//k=th/w;\n",
"th=2*%pi*f*k;\n",
"X_l=10;\n",
"R=2;\n",
"X_c=R*tan(th)+X_l;\n",
"C=1/(2*%pi*f*X_c);    printf('value of C=%.3f uF',C*10^6);"
   ]
   }
,
{
		   "cell_type": "markdown",
		   "metadata": {},
		   "source": [
			"## Example 8.4: to_find_the_power_delivered.sce"
		   ]
		  },
  {
"cell_type": "code",
	   "execution_count": null,
	   "metadata": {
	    "collapsed": true
	   },
	   "outputs": [],
"source": [
"clear;\n",
"clc;\n",
"V_s=230;\n",
"V_01=2*V_s/(sqrt(2)*%pi);\n",
"R=2;\n",
"I_01=V_01/R;\n",
"P_d=I_01^2*R;    printf('power delivered to load=%.1f W',P_d);\n",
"V=V_s/2;\n",
"I_s=sqrt(2)*I_01/%pi;\n",
"P_s=V*I_s;\n",
"printf('\npower delivered by both sources=%.1f W',2*P_s);"
   ]
   }
,
{
		   "cell_type": "markdown",
		   "metadata": {},
		   "source": [
			"## Example 8.5: to_find_the_power_delivered_to_the_load.sce"
		   ]
		  },
  {
"cell_type": "code",
	   "execution_count": null,
	   "metadata": {
	    "collapsed": true
	   },
	   "outputs": [],
"source": [
"clear;\n",
"clc;\n",
"V_s=230;\n",
"V_01=4*V_s/(%pi*sqrt(2));\n",
"R=1;\n",
"X_L=6;\n",
"X_c=7;\n",
"I_01=V_01/sqrt(R^2+(X_L-X_c)^2);\n",
"P=I_01^2*R;    printf('power delivered to the source=%.3f kW',P/1000);\n",
"I_s=sqrt(2)*I_01*(2*cosd(45))/%pi;\n",
"P_s=V_s*I_s;    printf('\npower from the source=%.3f kW',P_s/1000);"
   ]
   }
,
{
		   "cell_type": "markdown",
		   "metadata": {},
		   "source": [
			"## Example 8.6: to_find_rms_value_of_thyristor_and_diode_currents.sce"
		   ]
		  },
  {
"cell_type": "code",
	   "execution_count": null,
	   "metadata": {
	    "collapsed": true
	   },
	   "outputs": [],
"source": [
"clear;\n",
"clc;\n",
"disp('when load R=2 ohm');\n",
"V_01=230;\n",
"R=2;\n",
"I_01=V_01/R;\n",
"I_m=I_01*sqrt(2);\n",
"I_T1=I_m/2;    printf('rms value of thyristor current=%.2f A',I_T1);\n",
"I_D1=0;    printf('\nrms value of diode current=%.0f A',I_D1);\n",
"\n",
"disp('when load R=2ohm, X_L=8ohm and X_C=6ohm');\n",
"X_L=8;\n",
"X_C=6;\n",
"I_01=V_01/sqrt(R^2+(X_L-X_C)^2);\n",
"phi1=atand((X_L-X_C)/R);\n",
"I_T1=I_T1*sqrt(2)*.47675;    printf('rms value of thyristor current=%.3f A',I_T1);\n",
"I_D1=.1507025*I_m/sqrt(2);    printf('\nrms value of diode current=%.3f A',I_D1);"
   ]
   }
,
{
		   "cell_type": "markdown",
		   "metadata": {},
		   "source": [
			"## Example 8.7: EX8_7.sce"
		   ]
		  },
  {
"cell_type": "code",
	   "execution_count": null,
	   "metadata": {
	    "collapsed": true
	   },
	   "outputs": [],
"source": [
"clear;\n",
"clc;\n",
"//v_o=4*V_s/%pi*(sind(wt)+sind(3*wt)/3+sind(5*wt)/5)\n",
"V_s=230;\n",
"R=4;\n",
"f=50;\n",
"w=2*%pi*f;\n",
"L=0.035;\n",
"C=155*10^-6;\n",
"X_L=w*L;\n",
"X_C=1/(w*C);\n",
"Z1=sqrt(R^2+(X_L-X_C)^2);\n",
"phi1=-atand((X_L-X_C)/R);\n",
"Z3=sqrt(R^2+(X_L*3-X_C/3)^2);\n",
"phi3=atand((X_L*3-X_C/3)/R);\n",
"Z5=sqrt(R^2+(X_L*5-X_C/5)^2);\n",
"phi5=atand((X_L*5-X_C/5)/R);\n",
"\n",
"I_m1=4*V_s/(Z1*%pi);\n",
"I_01=I_m1/sqrt(2);    printf('rms value of fundamental load current=%.2f A',I_01);\n",
"I_m3=4*V_s/(3*Z3*%pi);\n",
"I_m5=4*V_s/(5*Z5*%pi);\n",
"I_m=sqrt(I_m1^2+I_m3^2+I_m5^2);\n",
"I_0=I_m/sqrt(2);\n",
"P_0=(I_0)^2*R;    printf('\nload power=%.1f W',P_0);\n",
"P_01=(I_01)^2*R;    printf('\nfundamental load power=%.1f W',P_01);\n",
"printf('\nrms value of thyristor current=%.3f A',I_m/2);\n",
"\n",
"t1=(180-phi1)*%pi/(180*w);    printf('\nconduction time for thyristor=%.3f ms',t1*1000);\n",
"t1=(phi1)*%pi/(180*w);    printf('\nconduction time for diodes=%.3f ms',t1*1000);"
   ]
   }
,
{
		   "cell_type": "markdown",
		   "metadata": {},
		   "source": [
			"## Example 8.8: EX8_8.sce"
		   ]
		  },
  {
"cell_type": "code",
	   "execution_count": null,
	   "metadata": {
	    "collapsed": true
	   },
	   "outputs": [],
"source": [
"clear;\n",
"clc;\n",
"V_s=230;\n",
"V_01=2*V_s/(sqrt(2)*%pi);    printf('fundamental rms o/p voltage=%.3f V',V_01);\n",
"R=10;\n",
"I_01=V_01/R;\n",
"P=I_01^2*R;    printf('\nfundamental power to load=%.1f W',P);\n",
"V_or=sqrt((V_s/2)^2);\n",
"P=V_or^2/R;    printf('\ntotal o/p power to load=%.1f W',P);\n",
"\n",
"I_TP=V_s/(2*R);\n",
"printf('\navg SCR current=%.2f A',I_TP*180/360);\n",
"\n",
"I_or=I_TP;\n",
"pf=I_01^2*R/(V_or*I_or);    printf('\ni/p pf=%.3f',pf);\n",
"\n",
"DF=V_01/V_or;    printf('\ndistortion factor=%.1f',DF);\n",
"\n",
"V_oh=sqrt(V_or^2-V_01^2);\n",
"THD=V_oh/V_01;    printf('\nTHD=%.3f',THD);\n",
"\n",
"V_03=V_01/3;\n",
"HF=V_03/V_01;    printf('\nharmonic factor=%.4f',HF);"
   ]
   }
,
{
		   "cell_type": "markdown",
		   "metadata": {},
		   "source": [
			"## Example 8.9: EX8_9.sce"
		   ]
		  },
  {
"cell_type": "code",
	   "execution_count": null,
	   "metadata": {
	    "collapsed": true
	   },
	   "outputs": [],
"source": [
"clear;\n",
"clc;\n",
"V_s=60;\n",
"R=3;\n",
"V_or=sqrt(V_s^2*%pi/%pi);    printf('rms value of o/p voltage=%.0f V',V_or);\n",
"V_01=4*V_s/(sqrt(2)*%pi);    printf('\nfundamental component of rms voltage=%.2f V',V_01);\n",
"P_o=V_or^2/R;    printf('\no/p power=%.0f W',P_o);\n",
"P_01=V_01^2/R;    printf('\nfundamental freq o/p power=%.2f W',P_01);\n",
"\n",
"I_s=V_s/R;    printf('\npeak current=%.0f A',I_s);\n",
"I_avg=I_s*%pi/(2*%pi);    printf('\navg current of each transistor=%.0f A',I_avg);\n",
"\n",
"printf('\npeak reverse blocking voltage=%.0f V',V_s);\n",
"\n",
"V_03=V_01/3;\n",
"HF=V_03/V_01;    printf('\nharmonic factor=%.4f',HF);\n",
"\n",
"V_oh=sqrt(V_or^2-V_01^2);\n",
"THD=V_oh/V_01;    printf('\nTHD=%.4f',THD);"
   ]
   }
],
"metadata": {
		  "kernelspec": {
		   "display_name": "Scilab",
		   "language": "scilab",
		   "name": "scilab"
		  },
		  "language_info": {
		   "file_extension": ".sce",
		   "help_links": [
			{
			 "text": "MetaKernel Magics",
			 "url": "https://github.com/calysto/metakernel/blob/master/metakernel/magics/README.md"
			}
		   ],
		   "mimetype": "text/x-octave",
		   "name": "scilab",
		   "version": "0.7.1"
		  }
		 },
		 "nbformat": 4,
		 "nbformat_minor": 0
}
