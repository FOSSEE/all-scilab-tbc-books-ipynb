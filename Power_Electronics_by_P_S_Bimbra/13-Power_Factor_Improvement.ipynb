{
"cells": [
 {
		   "cell_type": "markdown",
	   "metadata": {},
	   "source": [
       "# Chapter 13: Power Factor Improvement"
	   ]
	},
{
		   "cell_type": "markdown",
		   "metadata": {},
		   "source": [
			"## Example 13.1: EX13_1.sce"
		   ]
		  },
  {
"cell_type": "code",
	   "execution_count": null,
	   "metadata": {
	    "collapsed": true
	   },
	   "outputs": [],
"source": [
"clear;\n",
"clc;\n",
"V_s=250;\n",
"R_l=5;\n",
"I_l=20;\n",
"disp('for pf=1');\n",
"V_l=sqrt(V_s^2-(R_l*I_l)^2);    printf('load voltage=%.2f V',V_l);\n",
"reg=(V_s-V_l)/V_s*100;    printf('\nvoltage regulation=%.2f',reg);\n",
"pf=1;\n",
"P_l=V_l*I_l*pf;    //load power\n",
"P_r=V_s*I_l*pf;    //max powwible system rating\n",
"utf=P_l*100/P_r;    printf('\nsystem utilisation factor=%.3f',utf);\n",
"printf('\nenergy consumed(in units)=%.1f',P_l/1000);\n",
"disp('for pf=.5');\n",
"pf=.5;\n",
"//(.5*V_l)^2+(.866*V_l+R_l*I_l)^2=V_s^2\n",
"//after solving\n",
"V_l=158.35;    printf('load voltage=%.2f V',V_l);\n",
"reg=(V_s-V_l)/V_s*100;    printf('\nvoltage regulation=%.2f',reg);\n",
"P_l=V_l*I_l*pf;    //load power\n",
"P_r=V_s*I_l;    //max powwible system rating\n",
"utf=P_l*100/P_r;    printf('\nsystem utilisation factor=%.3f',utf);\n",
"printf('\nenergy consumed(in units)=%.2f',P_l/1000);"
   ]
   }
,
{
		   "cell_type": "markdown",
		   "metadata": {},
		   "source": [
			"## Example 13.2: to_calculate_the_capacitance_reqd.sce"
		   ]
		  },
  {
"cell_type": "code",
	   "execution_count": null,
	   "metadata": {
	    "collapsed": true
	   },
	   "outputs": [],
"source": [
"clear;\n",
"clc;\n",
"f=50;\n",
"V_s=230;\n",
"disp('at no load');\n",
"I_m=2;\n",
"pf=.3;\n",
"I_c=I_m*sind(acosd(pf));\n",
"C=I_c/(2*%pi*f*V_s);    printf('value of capacitance=%.3f uF',C*10^6);\n",
"disp('at half full load');\n",
"I_m=5;\n",
"pf=.5;\n",
"I_c=I_m*sind(acosd(pf));\n",
"C=I_c/(2*%pi*f*V_s);    printf('value of capacitance=%.3f uF',C*10^6);\n",
"disp('at full load');\n",
"I_m=10;\n",
"pf=.7;\n",
"I_c=I_m*sind(acosd(pf));\n",
"C=I_c/(2*%pi*f*V_s);    printf('value of capacitance=%.3f uF',C*10^6);"
   ]
   }
,
{
		   "cell_type": "markdown",
		   "metadata": {},
		   "source": [
			"## Example 13.3: to_find_reqd_values_of_capacitor_and_inductor.sce"
		   ]
		  },
  {
"cell_type": "code",
	   "execution_count": null,
	   "metadata": {
	    "collapsed": true
	   },
	   "outputs": [],
"source": [
"clear;\n",
"clc;\n",
"I_c=10;\n",
"f=50;\n",
"V_s=230;\n",
"C=I_c/(2*%pi*f*V_s);    printf('value of capacitance=%.3f uF',C*10^6);\n",
"I_l=10;\n",
"L=V_s/(2*%pi*f*I_l);    printf('\nvalue of inductor=%.3f mH',L*1000);"
   ]
   }
,
{
		   "cell_type": "markdown",
		   "metadata": {},
		   "source": [
			"## Example 13.4: to_find_the_firing_angle_of_the_TCR.sce"
		   ]
		  },
  {
"cell_type": "code",
	   "execution_count": null,
	   "metadata": {
	    "collapsed": true
	   },
	   "outputs": [],
"source": [
"clc\n",
"clear\n",
"V_s=230;\n",
"I_L=10;\n",
"X_L=V_s/I_L;\n",
"I_f1=6;\n",
"//B=2*a-sin(2*a)\n",
"B=2*%pi-I_f1*%pi*X_L/V_s;\n",
"a=0;\n",
"i=1;\n",
"for a= 0:.01:360\n",
"    b=2*a*%pi/180-sind(2*a);    \n",
"    if abs(B-b)<=.001;        //by hit and trial\n",
"        i=2;\n",
"        break;\n",
"    end   \n",
"end\n",
"printf('firing angle of TCR = %.1f deg',a);\n",
"//(a-.01)*180/%pi);"
   ]
   }
,
{
		   "cell_type": "markdown",
		   "metadata": {},
		   "source": [
			"## Example 13.5: to_calculate_the_effective_inductance_at_different_firing_angles.sce"
		   ]
		  },
  {
"cell_type": "code",
	   "execution_count": null,
	   "metadata": {
	    "collapsed": true
	   },
	   "outputs": [],
"source": [
"clear;\n",
"clc;\n",
"L=.01;\n",
"disp('for firing angle=90deg');\n",
"a=90*%pi/180;\n",
"L_eff=%pi*L/(2*%pi-2*a+sin(2*a));    printf('effective inductance=%.0f mH',L_eff*1000);\n",
"disp('for firing angle=120deg');\n",
"a=120*%pi/180;\n",
"L_eff=%pi*L/(2*%pi-2*a+sin(2*a));    printf('effective inductance=%.3f mH',L_eff*1000);\n",
"disp('for firing angle=150deg');\n",
"a=150*%pi/180;\n",
"L_eff=%pi*L/(2*%pi-2*a+sin(2*a));    printf('effective inductance=%.2f mH',L_eff*1000);\n",
"disp('for firing angle=170deg');\n",
"a=170*%pi/180;\n",
"L_eff=%pi*L/(2*%pi-2*a+sin(2*a));    printf('effective inductance=%.3f H',L_eff);\n",
"disp('for firing angle=175deg');\n",
"a=175*%pi/180;\n",
"L_eff=%pi*L/(2*%pi-2*a+sin(2*a));    printf('effective inductance=%.2f H',L_eff);\n",
"disp('for firing angle=180deg');\n",
"a=180*%pi/180;\n",
"L_eff=%pi*L/(2*%pi-2*a+sin(2*a));    printf('effective inductance=%.3f H',L_eff);\n",
"//random value at firing angle =180 is equivalent to infinity as in answer in book"
   ]
   }
,
{
		   "cell_type": "markdown",
		   "metadata": {},
		   "source": [
			"## Example 13.6: to_find_value_of_inductance.sce"
		   ]
		  },
  {
"cell_type": "code",
	   "execution_count": null,
	   "metadata": {
	    "collapsed": true
	   },
	   "outputs": [],
"source": [
"clear;\n",
"clc;\n",
"Q=100*10^3;\n",
"V_s=11*10^3;\n",
"f=50;\n",
"L=V_s^2/(2*%pi*f*Q);    printf('effective inductance=%.4f H',L);"
   ]
   }
],
"metadata": {
		  "kernelspec": {
		   "display_name": "Scilab",
		   "language": "scilab",
		   "name": "scilab"
		  },
		  "language_info": {
		   "file_extension": ".sce",
		   "help_links": [
			{
			 "text": "MetaKernel Magics",
			 "url": "https://github.com/calysto/metakernel/blob/master/metakernel/magics/README.md"
			}
		   ],
		   "mimetype": "text/x-octave",
		   "name": "scilab",
		   "version": "0.7.1"
		  }
		 },
		 "nbformat": 4,
		 "nbformat_minor": 0
}
