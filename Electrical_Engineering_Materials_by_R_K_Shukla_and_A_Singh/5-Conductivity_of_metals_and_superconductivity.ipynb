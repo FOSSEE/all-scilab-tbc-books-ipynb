{
"cells": [
 {
		   "cell_type": "markdown",
	   "metadata": {},
	   "source": [
       "# Chapter 5: Conductivity of metals and superconductivity"
	   ]
	},
{
		   "cell_type": "markdown",
		   "metadata": {},
		   "source": [
			"## Example 5.10: To_find_energy_difference_between_two_states.sce"
		   ]
		  },
  {
"cell_type": "code",
	   "execution_count": null,
	   "metadata": {
	    "collapsed": true
	   },
	   "outputs": [],
"source": [
"//=========================================================================\n",
"// chapter 5 example 10 \n",
"\n",
"clc;\n",
"clear;\n",
"\n",
"//input data\n",
" a       = 10^-10;                   //one dimension in m\n",
" m       = 9.1*10^-31;\n",
" h       = 6.62*10^-34;\n",
"\n",
"\n",
"//formula\n",
"//En   = ((n^2)*(h^2))/(8*m*(a^2))\n",
"//calculation\n",
" E1      = (h^2)/(8*m*(a^2));\n",
" E2      = (4*(h^2))/(8*m*(a^2));\n",
" dE       = (3*(h^2))/(8*m*(a^2));\n",
"\n",
"\n",
"//result\n",
" mprintf('energy diefference=%3.2e.J\n',dE);\n",
"\n",
"//==========================================================================="
   ]
   }
,
{
		   "cell_type": "markdown",
		   "metadata": {},
		   "source": [
			"## Example 5.11: To_find_fermi_energy.sce"
		   ]
		  },
  {
"cell_type": "code",
	   "execution_count": null,
	   "metadata": {
	    "collapsed": true
	   },
	   "outputs": [],
"source": [
"//==========================================================================\n",
"// chapter 5 example 11\n",
"\n",
"clc;\n",
"clear;\n",
"\n",
"//input data\n",
" N         =6.02*10^23;            //avagadro number in atoms /mole\n",
" h        = 6.63*10^-34;           //planck's constant in joule-s\n",
" m        = 9.11*10^-31;          //mass in kg\n",
" M        = 23;                  //atomic weight in grams /mole\n",
" p        = 0.971;              //density in gram/cm^3\n",
"\n",
"\n",
"//formula \n",
"//x=N/V=(N*p)/M\n",
"//calculation\n",
" x       = (N*p)/M;\n",
" x1      = x*10^6;\n",
" eF      = (((h^2)/(2*m)))*(((3*x1)/(8*%pi))^(2/3));       //Fermi energy\n",
" eF1     = (eF)/(1.6*10^-19);\n",
"//result\n",
" mprintf('fermi energy=%3.2f.eV\n',eF1);\n",
" \n",
" //=============================================================================\n",
" "
   ]
   }
,
{
		   "cell_type": "markdown",
		   "metadata": {},
		   "source": [
			"## Example 5.12: To_find_fermi_energy.sce"
		   ]
		  },
  {
"cell_type": "code",
	   "execution_count": null,
	   "metadata": {
	    "collapsed": true
	   },
	   "outputs": [],
"source": [
"//================================================================================\n",
"// chapter 5 example 12\n",
"\n",
"clc;\n",
"clear;\n",
"\n",
"\n",
"//input data\n",
" x       = 2.54*10^28;           //number of electrons in per m^2\n",
" h       = 6.63*10^-34;          // planck's constant in joule-s\n",
" m       = 9.11*10^-31;         // mass in kg\n",
" p       = 0.971;               //density in grams/cm^3\n",
" k       = 1.38*10^-23;\n",
" \n",
"\n",
"//calculation\n",
"//x       = (N*p)/M;\n",
" eF      = (((h^2)/(2*m)))*(((3*x)/(8*%pi))^(2/3));       //Fermi energy\n",
" eF1     = (eF)/(1.6*10^-19);\n",
" vF      = sqrt((2*eF)/m);\n",
" TF      = eF/k;\n",
" \n",
"\n",
"//result\n",
" mprintf('fermi energy =%3.2f.eV\n',eF1);\n",
" mprintf('fermi velocit =%3.2e.m/s\n',vF);\n",
" mprintf('femi temperature =%3.2e.K\n',TF);\n",
" \n",
" //===================================================================================="
   ]
   }
,
{
		   "cell_type": "markdown",
		   "metadata": {},
		   "source": [
			"## Example 5.13: To_find_fermi_energy.sce"
		   ]
		  },
  {
"cell_type": "code",
	   "execution_count": null,
	   "metadata": {
	    "collapsed": true
	   },
	   "outputs": [],
"source": [
"//====================================================================================================================\n",
"// chapter 5 example 13\n",
"\n",
"clc;\n",
"clear;\n",
"\n",
"\n",
"//input data \n",
" M      = 65.4;              //atomic weight\n",
" p      = 7.13;              //density\n",
" h      = 6.62*10^-34;      // planck's constant\n",
" m      = 7.7*10^-31;       // mass\n",
" v      = 6.02*10^23;\n",
"\n",
"\n",
"//calculation\n",
"//x =N/V\n",
" V      = M/p;                                      //volume of one atom in cm^3\n",
" n      = v/V;                                     // number of Zn atoms in volume v\n",
" x      = 2*n*(10^6);                             //number of free electrons in unit volume iper m^2\n",
" eF     = ((h^2)/(2*m))*(((3*x)/(8*%pi))^(2/3));        // fermi energy in J\n",
" eF1    = eF/(1.6*(10^-19));\n",
"\n",
"\n",
"//result\n",
" mprintf('fermi energy =%3.2d.eV\n',eF1);\n",
" \n",
"//============================================================================================================================ "
   ]
   }
,
{
		   "cell_type": "markdown",
		   "metadata": {},
		   "source": [
			"## Example 5.14: To_find_number_of_electrons.sce"
		   ]
		  },
  {
"cell_type": "code",
	   "execution_count": null,
	   "metadata": {
	    "collapsed": true
	   },
	   "outputs": [],
"source": [
"//=============================================================================================\n",
"// chapter 5 example 14\n",
"\n",
"clc;\n",
"clear;\n",
"\n",
"\n",
"//input data \n",
" eF     = 4.27;             // fermi energy in eV\n",
" m      = 9.11*10^-31;      // mass of electron in kg\n",
" h      = 6.63*10^-34;      // planck's constant in J.s\n",
"\n",
"\n",
"//formula\n",
"//x= N/V\n",
"//calculation\n",
" eF1    = eF*1.6*10^-19;                          //fermi energy in eV                \n",
" x      = (((2*m*eF1)/(h^2))^(3/2))*((8*%pi)/3);    //number of electrons per unit volume\n",
"\n",
"\n",
"//result\n",
" mprintf('number of electrons per unit volume =%4.0e./m^3\n',x);\n",
" \n",
"//========================================================================================="
   ]
   }
,
{
		   "cell_type": "markdown",
		   "metadata": {},
		   "source": [
			"## Example 5.15: To_find_electron_density.sce"
		   ]
		  },
  {
"cell_type": "code",
	   "execution_count": null,
	   "metadata": {
	    "collapsed": true
	   },
	   "outputs": [],
"source": [
"//=============================================================================================\n",
"// chapter 5 example 15\n",
"\n",
"clc;\n",
"clear;\n",
"\n",
"\n",
"//input data \n",
" eF1       = 4.70;             // fermi energy in eV\n",
" eF2       = 2.20;             // fermi energy in eV\n",
" x1        = 4.6*10^28;        // electron density of lithium per m^3\n",
"\n",
"\n",
"//formula\n",
"//N/V = (((2*m*eF1)/(h^2))^(3/2))*((8*%pi)/3);\n",
"//N/V = k*(eF^3/2)\n",
"//N/V = x\n",
"//calculation\n",
" x2      = x1*((eF2/eF1)^(3/2));            //electron density for metal in per m^3\n",
"\n",
"\n",
"//result\n",
" mprintf('electron density  for a metal =%4.2e per m^3\n',x2);\n",
" \n",
" //=============================================================================================="
   ]
   }
,
{
		   "cell_type": "markdown",
		   "metadata": {},
		   "source": [
			"## Example 5.16: To_find_average_energy_and_temperature.sce"
		   ]
		  },
  {
"cell_type": "code",
	   "execution_count": null,
	   "metadata": {
	    "collapsed": true
	   },
	   "outputs": [],
"source": [
"//=========================================================================\n",
"// chapter 5 example 16\n",
"\n",
"clc;\n",
"clear;\n",
"\n",
"\n",
"//input data\n",
" eF      = 5.4;                         //fermi energy in eV\n",
" k       = 1.38*10^-23;                 // k in joule/K\n",
"\n",
"\n",
"//calculation\n",
" e0      = (3*eF)/5;                       //average energy in eV\n",
" T       = (e0*(1.6*10^-19)*2)/(3*k);           //temperature in K\n",
" \n",
"\n",
"//result\n",
" mprintf('average energy =%3.2f.eV\n',e0);\n",
" mprintf('temperature =%3.2e.K\n',T);\n",
"\n",
"//========================================================================"
   ]
   }
,
{
		   "cell_type": "markdown",
		   "metadata": {},
		   "source": [
			"## Example 5.17: To_find_average_energy_and_speed_of_electron.sce"
		   ]
		  },
  {
"cell_type": "code",
	   "execution_count": null,
	   "metadata": {
	    "collapsed": true
	   },
	   "outputs": [],
"source": [
"//==============================================================================\n",
"// chapter 5 example 17\n",
"\n",
"clc;\n",
"clear;\n",
"\n",
"\n",
"//input data\n",
" EF        = 15;                     //fermi energy  in eV\n",
" m         = 9.1*10^-31;            //mass of electron in kilogarams\n",
"\n",
"\n",
"//calculation\n",
" E0        = (3*EF)/5;                        //average energy en eV\n",
" v         =sqrt((2*E0*1.6*10^-19)/m);              //speed of electron in m/s\n",
"\n",
"\n",
"//result\n",
" mprintf('average energy =%3.2f.eV\n',E0);\n",
" mprintf('speed =%3.2e.m/s\n',v);\n",
" \n",
"//============================================================================="
   ]
   }
,
{
		   "cell_type": "markdown",
		   "metadata": {},
		   "source": [
			"## Example 5.18: To_find_average_energy_and_speed_of_electron.sce"
		   ]
		  },
  {
"cell_type": "code",
	   "execution_count": null,
	   "metadata": {
	    "collapsed": true
	   },
	   "outputs": [],
"source": [
"//==============================================================================\n",
"// chapter 5 example 18\n",
"\n",
"clc;\n",
"clear;\n",
"\n",
"//input data\n",
" EF        = 7.5;                     //fermi energy  in eV\n",
" m         = 9.1*10^-31;            //mass of electron in kilograms\n",
"\n",
"//calculation\n",
"\n",
" E0        = (3*EF)/5;             //average energy en eV\n",
" v=sqrt((2*E0*1.6*10^-19)/m);       //speed in m\n",
"\n",
"//result\n",
" mprintf('average energy =%3.2f.eV\n',E0);\n",
" mprintf(' speed =%3.2e.m/s\n',v);\n",
" \n",
"//============================================================================="
   ]
   }
,
{
		   "cell_type": "markdown",
		   "metadata": {},
		   "source": [
			"## Example 5.19: To_find_fermi_energy_and_fermi_velocity.sce"
		   ]
		  },
  {
"cell_type": "code",
	   "execution_count": null,
	   "metadata": {
	    "collapsed": true
	   },
	   "outputs": [],
"source": [
"//=================================================================================\n",
"// chapter 5 example 19\n",
"\n",
"clc;\n",
"clear;\n",
"\n",
"//input data\n",
" m     = 9.1*10^-31;       //mass of electron in kg\n",
" h     = 6.62*10^-34;      //planck's constant in (m^2)*kg/s\n",
"\n",
"\n",
"//formula\n",
"//x=N/V\n",
" x      = 2.5*10^28;\n",
"\n",
"//calculation\n",
" EF       = ((h^2)/(8*(%pi^2)*m))*((3*(%pi^2)*x)^(2/3));                    //fermi energy in J\n",
" EF1      = EF/(1.6*10^-19);                                 //fermi energy in eV\n",
" vF       = (h/(2*m*%pi))*((3*(%pi^2)*x)^(1/3));            //fermi velocity in m/s\n",
"\n",
"\n",
"//result\n",
" mprintf('energy=%3.2e.eV\n',EF1);\n",
" mprintf(' speed= =%3.2e.m/s\n',vF);\n",
"\n",
"//================================================================================"
   ]
   }
,
{
		   "cell_type": "markdown",
		   "metadata": {},
		   "source": [
			"## Example 5.1: To_find_average_drift_velocity_of_free_electron.sce"
		   ]
		  },
  {
"cell_type": "code",
	   "execution_count": null,
	   "metadata": {
	    "collapsed": true
	   },
	   "outputs": [],
"source": [
"//============================================================================\n",
"// chapter 5 example 1\n",
"clc;\n",
"clear;\n",
"\n",
"//input data\n",
" d       = 2*10^-3;                 //diameter in m \n",
" I       = 5*10^-3;                 //current in A\n",
" e       = 1.6*10^-19;              //charge of electron in coulombs \n",
" a       = 3.61*10^-10;            //side of cube in m\n",
" N       = 4;                      //number of atoms in per unit cell\n",
" \n",
" \n",
"//formula\n",
"//J=n*v*e\n",
"\n",
"//calculation\n",
" r       = d/2;                //radius in m\n",
" n       = N/(a^3);            //number of atoms per unit volume in atoms/m^3\n",
" A       = %pi*(r^2);          //area in m^2\n",
" J       = I/A;                //current density in Amp/m^2\n",
" v       = J/(n*e);           //average drift velocity in m/s\n",
"\n",
"//result\n",
" mprintf('velocity=%3.2e.m/s\n',v);\n",
" \n",
"//=============================================================================\n",
" "
   ]
   }
,
{
		   "cell_type": "markdown",
		   "metadata": {},
		   "source": [
			"## Example 5.20: To_find_efficiency_of_transmission_and_percentage_voltage_drop.sce"
		   ]
		  },
  {
"cell_type": "code",
	   "execution_count": null,
	   "metadata": {
	    "collapsed": true
	   },
	   "outputs": [],
"source": [
"//==============================================================================\n",
"// chapter 5 example 20\n",
"\n",
"clc;\n",
"clear;\n",
" \n",
" //input data\n",
" Ps      = 10^7;\n",
" V      = 33*10^3;\n",
" R      = 2;\n",
" \n",
" //calculation\n",
" I      = Ps/V;\n",
" Pd     = (I^2*R)/1000;\n",
" n      = ((Ps-Pd)/Ps)*100;\n",
" v      = I*R;\n",
" Vd     = (v/V)*100;              //percentage voltage drop\n",
" \n",
" //result\n",
" mprintf('efficiency =%0f percent\n',n);\n",
" mprintf('voltage drop =%3.2f percent\n',Vd);\n",
" "
   ]
   }
,
{
		   "cell_type": "markdown",
		   "metadata": {},
		   "source": [
			"## Example 5.21: To_find_value_of_constants.sce"
		   ]
		  },
  {
"cell_type": "code",
	   "execution_count": null,
	   "metadata": {
	    "collapsed": true
	   },
	   "outputs": [],
"source": [
"//==========================================================================\n",
"// chapter 5 example 21\n",
"\n",
"clc;\n",
"clear;\n",
"\n",
"//input data \n",
" a1   = 2.76;               //a1 in uv/°C\n",
" a2  =16.6;              //a2 in uv/°C\n",
" b1  = 0.012;              //b1 in uv/°C\n",
" b2  = -0.03;              //b2 in uv/°C\n",
"\n",
"//calculation\n",
"//aFe,Pb   =a1 \n",
"//aCu,Pb   = a2\n",
"//bCu,Fe   = b1\n",
"//bFe,Pb   = b2\n",
"\n",
"//calculation\n",
" a3    = a1-a2;              //a3 in uv/°C\n",
" b3    = b1-b2;              //b3 in uv/(°C)^2\n",
"\n",
"//result\n",
" mprintf('aCu,Fe =%3.2f.uV/°C\n',a3);\n",
" mprintf(' bCu,Fe =%3.3f.uV/(°C)^2\n',b3);\n",
"\n",
"//============================================================================"
   ]
   }
,
{
		   "cell_type": "markdown",
		   "metadata": {},
		   "source": [
			"## Example 5.23: To_find_neutral_temperature_and_temperature_of_inversion.sce"
		   ]
		  },
  {
"cell_type": "code",
	   "execution_count": null,
	   "metadata": {
	    "collapsed": true
	   },
	   "outputs": [],
"source": [
"//============================================================================\n",
"// chapter 5 example 23\n",
"\n",
"clc;\n",
"clear;\n",
"\n",
"//input data \n",
" a       = 15;              //a in uv/°C\n",
" b       = -1/30;              //b in uv/°C\n",
"\n",
"//E = at+bt^2\n",
"//dE/dT =a+2*b*t\n",
"//t=tn\n",
"//dE/dT =0\n",
"//calculation\n",
" tn     = -(a/(2*(b)))               //neutral temperature in °C\n",
"//t1+t2  = 2*t2;\n",
" t2    = 2*tn               //inversion temperature in °C\n",
" \n",
" //result\n",
" mprintf('neutral temperature =%3.2d °C\n',tn);\n",
" mprintf('temperature of inversin =%3.2d °C\n',t2);\n",
"\n",
" //============================================================================\n",
" \n",
" "
   ]
   }
,
{
		   "cell_type": "markdown",
		   "metadata": {},
		   "source": [
			"## Example 5.24: To_find_resistivity_of_an_alloy.sce"
		   ]
		  },
  {
"cell_type": "code",
	   "execution_count": null,
	   "metadata": {
	    "collapsed": true
	   },
	   "outputs": [],
"source": [
"//============================================================================\n",
"// chapter 5 example 23\n",
"\n",
"clc;\n",
"clear;\n",
"\n",
"//input data \n",
" p2        =  2.75;         //resistivity of alloy 1 percent of Ni in uohm-cm\n",
" p1            =  1.42;     //resistivity of pure copper in uohm-cm\n",
" p3           = 1.98;       //resistivity of alloy 3 percent of silver in uohm-cm\n",
" \n",
" //p(Ni+Cu) =p1\n",
" //pCu =p2\n",
" //p(Cu+silver)=p3\n",
" //calculation\n",
" pNi        = p2-p1;\n",
" p4    = (p3-p1)/3;\n",
" palloy     = p1+(2*pNi)+(2*p4);        //resistivity of alloy 2 percent of silver and 2 percent of nickel in uohm-cm\n",
" \n",
" //result\n",
" mprintf('resistivity of alloy =%3.4f.uohm-cm\n',palloy);"
   ]
   }
,
{
		   "cell_type": "markdown",
		   "metadata": {},
		   "source": [
			"## Example 5.25: To_find_transition_temperature.sce"
		   ]
		  },
  {
"cell_type": "code",
	   "execution_count": null,
	   "metadata": {
	    "collapsed": true
	   },
	   "outputs": [],
"source": [
"//==============================================================================\n",
"// chapter 5 example 25\n",
"\n",
"clc;\n",
"clear;\n",
"\n",
"\n",
"//input data \n",
" M1       = 202;           //mass number\n",
" M2       = 200;          // mass number\n",
" Tc1      = 4.153;       // temperature in K\n",
" alpha    = 0.5;\n",
" \n",
"\n",
"//formula\n",
"//m^alpha*(Tc)= conatant\n",
"// calculation\n",
" Tc2    = ((M1^alpha)*Tc1)/(M2^alpha);\n",
" \n",
"\n",
"//result\n",
" mprintf('transition temperature =%3.2f.K\n',Tc2);\n",
" \n",
" //=============================================================================="
   ]
   }
,
{
		   "cell_type": "markdown",
		   "metadata": {},
		   "source": [
			"## Example 5.26: To_find_critical_temperature.sce"
		   ]
		  },
  {
"cell_type": "code",
	   "execution_count": null,
	   "metadata": {
	    "collapsed": true
	   },
	   "outputs": [],
"source": [
"//=================================================================================\n",
"// chapter 5 example 26\n",
"\n",
"clc;\n",
"clear;\n",
"\n",
"//input data \n",
" Tc1      = 2.1;                    //temperature in K\n",
" M1       = 26.91;\n",
" M2       =32.13;\n",
"\n",
"\n",
"//formula\n",
"//Tc*(M1^2) = constant\n",
"//calculation\n",
" Tc2        = (Tc1*(M1^(1/2)))/(M2^(1/2));\n",
"\n",
"\n",
"//result\n",
" mprintf('critical temperature =%3.2f.K\n',Tc2);\n",
"\n",
"//================================================================================="
   ]
   }
,
{
		   "cell_type": "markdown",
		   "metadata": {},
		   "source": [
			"## Example 5.27: To_find_critical_temperature.sce"
		   ]
		  },
  {
"cell_type": "code",
	   "execution_count": null,
	   "metadata": {
	    "collapsed": true
	   },
	   "outputs": [],
"source": [
"//=================================================================================\n",
"// chapter 5 example 27\n",
"\n",
"clc;\n",
"clear;\n",
"\n",
"//input data \n",
" Hc1        =  1.41*10^5;       //critical fields in amp/m\n",
" Hc2        = 4.205*10^5;       // critical fields in amp/m\n",
" T1         = 14.1;             //temperature in K\n",
" T2         = 12.9;             // temperature in K\n",
" T3         = 4.2;              //temperature in K\n",
" \n",
"\n",
"//formula\n",
"//Hcn =Hc*((1-((T/Tc)^4)))\n",
"//calculation\n",
" Tc        =(((((Hc2*(T1^2))-(Hc1*(T2^2)))/(Hc2-Hc1)))^(1/2));          //temperature in K\n",
" Hc0       = Hc1/(1-((T1/Tc)^2));                           //critical field in A/m\n",
" Hc2       = Hc0*(1-(T3/Tc)^2);                           //critical field in A/m\n",
"\n",
"\n",
"//result\n",
" mprintf('transition temperature =%3.2f K\n',Tc);\n",
" mprintf('critical field  =%3.2e.A/m\n',Hc2);\n",
"\n",
"//================================================================================\n",
""
   ]
   }
,
{
		   "cell_type": "markdown",
		   "metadata": {},
		   "source": [
			"## Example 5.28: To_find_critical_magnetic_field.sce"
		   ]
		  },
  {
"cell_type": "code",
	   "execution_count": null,
	   "metadata": {
	    "collapsed": true
	   },
	   "outputs": [],
"source": [
"//============================================================================\n",
"// Chapter 5 example 28\n",
"\n",
"\n",
"clc;\n",
"clear;\n",
"\n",
"\n",
"// input data\n",
" Hc0        = 700000;       //critical field at 0 K\n",
" T          = 4;        //temperature in K\n",
" Tc         = 7.26;      //temperature in K\n",
" \n",
" \n",
"//calculation\n",
"  Hc    = Hc0*(1-(T/Tc)^2);\n",
"\n",
"\n",
"//result\n",
" mprintf('critical field =%3.4e.A/m\n',Hc);\n",
"  mprintf(' Note: calculation mistake in texttbook in calculating Hc')\n",
" \n",
" //============================================================================"
   ]
   }
,
{
		   "cell_type": "markdown",
		   "metadata": {},
		   "source": [
			"## Example 5.29: To_find_critical_current_density.sce"
		   ]
		  },
  {
"cell_type": "code",
	   "execution_count": null,
	   "metadata": {
	    "collapsed": true
	   },
	   "outputs": [],
"source": [
"//===========================================================================\n",
"// Chapter 5 example 29\n",
"\n",
"clc;\n",
"clear;\n",
"\n",
"\n",
"// input data\n",
" Hc0        = 8*10^4;       //critical field \n",
" T          = 4.5;          //temperature in K\n",
" Tc         = 7.2;          //temperature in K\n",
" D          = 1*10^-3;      //diameter in m\n",
"\n",
" \n",
" //calculation\n",
"  Hc    = Hc0*(1-(T/Tc)^2);\n",
"  r     = D/2;      //radius in m\n",
" Ic     = 2*%pi*r*Hc;\n",
"\n",
"\n",
"//result\n",
" mprintf('critical current =%3.2f.A\n',Ic);\n",
"\n",
"//============================================================================="
   ]
   }
,
{
		   "cell_type": "markdown",
		   "metadata": {},
		   "source": [
			"## Example 5.2: To_find_drift_velocity.sce"
		   ]
		  },
  {
"cell_type": "code",
	   "execution_count": null,
	   "metadata": {
	    "collapsed": true
	   },
	   "outputs": [],
"source": [
"//============================================================================\n",
"// chapter 5 example 2\n",
"\n",
"clc;\n",
"clear;\n",
"\n",
"\n",
"//input data\n",
" I       = 6;                    //current in A\n",
" d       = 1*10^-3;             //diameter in m\n",
" n       = 4.5*10^28;          //electrons available in electron/m^3\n",
" e      = 1.6*10^-19;          //charge of  electron  in coulombs\n",
"\n",
"\n",
"//calculation\n",
" r     = d/2;               //radius in m\n",
" A     = %pi*(r^2);        //area in m^2\n",
" J     = I/A;             //current density in A/m^3\n",
" vd    = J/(n*e);        //density in m/s\n",
" \n",
" \n",
"//result\n",
"  mprintf('velocity=%3.2e.m/s\n',vd);\n",
"\n",
"//============================================================================"
   ]
   }
,
{
		   "cell_type": "markdown",
		   "metadata": {},
		   "source": [
			"## Example 5.30: To_find_transition_temperature.sce"
		   ]
		  },
  {
"cell_type": "code",
	   "execution_count": null,
	   "metadata": {
	    "collapsed": true
	   },
	   "outputs": [],
"source": [
"//=============================================================================\n",
"// Chapter 5 example 30\n",
"\n",
"clc;\n",
"clear;\n",
"\n",
"\n",
"// input data\n",
" Hc0        = 0.0306;       //critical field at 0 K\n",
" T          = 2;        //temperature in K\n",
" Tc         = 3.7;      //temperature in K\n",
" \n",
" \n",
" //calculation\n",
"  Hc    = Hc0*(1-(T/Tc)^2);\n",
"\n",
"\n",
"//result\n",
" mprintf('critical field =%3.4f tesla\n',Hc);\n",
" \n",
" //=============================================================================="
   ]
   }
,
{
		   "cell_type": "markdown",
		   "metadata": {},
		   "source": [
			"## Example 5.31: To_find_transition_temperature.sce"
		   ]
		  },
  {
"cell_type": "code",
	   "execution_count": null,
	   "metadata": {
	    "collapsed": true
	   },
	   "outputs": [],
"source": [
"//===========================================================================\n",
"// Chapter 5 example 31\n",
"\n",
"clc;\n",
"clear;\n",
"\n",
"\n",
"// input data\n",
" HcT        = 1.5*10^5;     // critical field for niobium at 0 K\n",
" Hc0        = 2*10^5;       // critical field for nobium at 0 K\n",
" T          = 8;            // temperature in K\n",
" \n",
"\n",
"//calculation\n",
" Tc     = T/((1-(HcT/Hc0))^0.5);\n",
" \n",
"\n",
"//result\n",
" mprintf('transition temperature =%3.2f.K\n',Tc);\n",
" \n",
" //========================================================================"
   ]
   }
,
{
		   "cell_type": "markdown",
		   "metadata": {},
		   "source": [
			"## Example 5.32: To_find_transition_temperature.sce"
		   ]
		  },
  {
"cell_type": "code",
	   "execution_count": null,
	   "metadata": {
	    "collapsed": true
	   },
	   "outputs": [],
"source": [
"//==============================================================================\n",
"// chapter 5 example 32\n",
"\n",
"clc;\n",
"clear;\n",
"\n",
"\n",
"//input data \n",
" Hc1        =  0.176;       //critical fields\n",
" Hc2        = 0.528;       // critical fields\n",
" T1         = 14;        //temperature in K\n",
" T2         = 13;       // temperature in K\n",
" T3         = 4.2;\n",
"\n",
"//formula\n",
"//Hcn =Hc*((1-((T/Tc)^4)))\n",
"//calculation\n",
" Tc     =(((((Hc2*(T1^2))-(Hc1*(T2^2)))/(Hc2-Hc1)))^(1/2));\n",
" Hc0    = Hc1/(1-((T1/Tc)^2));\n",
" Hc2    = Hc0*(1-((T3/Tc)^2));\n",
"\n",
"\n",
"//result\n",
" mprintf('transition temperature =%3.2f K\n',Tc);\n",
" mprintf(' critical field  =%3.2f.T\n',Hc2);\n",
"\n",
"//=============================================================================="
   ]
   }
,
{
		   "cell_type": "markdown",
		   "metadata": {},
		   "source": [
			"## Example 5.33: To_find_critical_current.sce"
		   ]
		  },
  {
"cell_type": "code",
	   "execution_count": null,
	   "metadata": {
	    "collapsed": true
	   },
	   "outputs": [],
"source": [
"//======================================================================================\n",
"//chapter 5 example 33\n",
"\n",
"clc;\n",
"clear;\n",
"\n",
"\n",
"//input data\n",
" Hc         = 7900;                                 //magnetic field in A/m\n",
" r          = 2.0*10^-3;                            //radius of super condutor in m\n",
" \n",
" \n",
"//calculation\n",
" I          = 2*%pi*r*Hc;                          //critical current in A\n",
" \n",
"//result\n",
" mprintf('critical current =%4f.A\n',I);\n",
" mprintf('Note: calculation mistake in textbook in calculation of I');\n",
"\n",
"//========================================================================================"
   ]
   }
,
{
		   "cell_type": "markdown",
		   "metadata": {},
		   "source": [
			"## Example 5.34: To_find_current.sce"
		   ]
		  },
  {
"cell_type": "code",
	   "execution_count": null,
	   "metadata": {
	    "collapsed": true
	   },
	   "outputs": [],
"source": [
"//======================================================================================\n",
"//chapter 5 example 34\n",
"\n",
"clc;\n",
"clear;\n",
"\n",
"\n",
"//input data\n",
" d           = 10^-3;           //diameter in m\n",
" Bc          = 0.0548;          // Bc in T\n",
" \n",
" \n",
" //calculation\n",
" u0          = 4*%pi*10^-7;         //permiability m^2\n",
" r           = d/2;                   //radius in m\n",
" Ic          = (2*%pi*r*Bc)/u0;       //current in Amp\n",
"\n",
"//result\n",
"mprintf('current =%3.2d Amp\n',Ic);\n",
"\n",
"//========================================================================================="
   ]
   }
,
{
		   "cell_type": "markdown",
		   "metadata": {},
		   "source": [
			"## Example 5.35: To_find_Londons_penetration_depth.sce"
		   ]
		  },
  {
"cell_type": "code",
	   "execution_count": null,
	   "metadata": {
	    "collapsed": true
	   },
	   "outputs": [],
"source": [
"//==============================================================================\n",
"// chapter 5 example 35\n",
"\n",
"clc;\n",
"clear;\n",
"\n",
"\n",
"//input data\n",
" D          =8.5*10^3;             //density in kg/m^3\n",
" W          =93;                   //atomic weight \n",
" m          =9.1*10^-31;           //mass of electron in kilograms\n",
" e          =2*1.6*10^-19;          //charge of electron in coulombs\n",
" N          =6.023*10^26;           //avagadro number in (lb-mol)−1\n",
"\n",
"\n",
"//calculation\n",
" u0         =4*%pi*10^-7;\n",
" ns         =(D*N)/W;                   //in per m^3\n",
" lamdaL     =(m/(u0*ns*e^2))^(1/2);    //London's penetration depth in nm\n",
"\n",
"//result\n",
" mprintf('penetration depth=%3.2f.nm\n',lamdaL/10^-9);\n",
" \n",
" //===============================================================================\n",
""
   ]
   }
,
{
		   "cell_type": "markdown",
		   "metadata": {},
		   "source": [
			"## Example 5.36: To_find_penetration_depth.sce"
		   ]
		  },
  {
"cell_type": "code",
	   "execution_count": null,
	   "metadata": {
	    "collapsed": true
	   },
	   "outputs": [],
"source": [
"//============================================================================\n",
"// chapter 5 example 36\n",
"\n",
"clc;\n",
"clear;\n",
"\n",
"\n",
"//input data\n",
" Tc     =7.2;  //temperature in K\n",
" lamda  =380;  //penetration depth in Å\n",
" T      =5.5;  //temperature in K\n",
" \n",
"\n",
"//calculation\n",
" lamdaT=lamda*((1-((T/Tc)^4))^(-1/2));  //penetration depth in Å\n",
" \n",
"//result\n",
" mprintf('penetration depth=%3.1f.Å\n',lamdaT);\n",
" mprintf(' Note: calculation mistake in textbook in calculating lamdaT');\n",
" \n",
" //==========================================================================="
   ]
   }
,
{
		   "cell_type": "markdown",
		   "metadata": {},
		   "source": [
			"## Example 5.37: To_find_critical_temperature_of_aluminium.sce"
		   ]
		  },
  {
"cell_type": "code",
	   "execution_count": null,
	   "metadata": {
	    "collapsed": true
	   },
	   "outputs": [],
"source": [
"//============================================================================\n",
"// chapter 5 example 37\n",
"\n",
"clc;\n",
"clear;\n",
"\n",
"\n",
"//input data \n",
" lamda1      = 16;       //penetration depth in nm\n",
" lamda2      = 96;       // penetration depth in nm\n",
" T1          = 2.18;      //temperature in K\n",
" T2          = 8.1;       // temperature in K\n",
"\n",
"//formula\n",
"//lamdaT =lamda0*((1-((T/Tc)^4))^(-1/4))\n",
"//calculation\n",
" Tc          = ((((lamda2*(T2^4))-(lamda1*(T1^4)))/(lamda2-lamda1))^(1/4));\n",
"\n",
"\n",
"//result\n",
" mprintf('critical temperature =%3.2f K\n',Tc);\n",
" \n",
" //============================================================================"
   ]
   }
,
{
		   "cell_type": "markdown",
		   "metadata": {},
		   "source": [
			"## Example 5.38: To_find_wavelength.sce"
		   ]
		  },
  {
"cell_type": "code",
	   "execution_count": null,
	   "metadata": {
	    "collapsed": true
	   },
	   "outputs": [],
"source": [
"//==============================================================================\n",
"// chapter 5 example 38\n",
"\n",
"clc;\n",
"clear;\n",
"\n",
"\n",
"//input data\n",
" Eg      =30.5*1.6*10^-23;       //energy gap in eV\n",
" h       =6.6*10^-34;           //planck's constant in (m^2)*kg/s\n",
" c       =3.0*10^8;             //velocity of light in m\n",
" \n",
"\n",
"//formula\n",
"//Eg=h*v\n",
"//calculation\n",
" v       = Eg/h;                //velocity in m\n",
" lamda   = c/v;               //wavelength in m\n",
"\n",
"//result\n",
" mprintf('wavelength=%2e.m\n',lamda);\n",
" \n",
"//==============================================================================="
   ]
   }
,
{
		   "cell_type": "markdown",
		   "metadata": {},
		   "source": [
			"## Example 5.39: To_find_energy_gap_and_wavelength.sce"
		   ]
		  },
  {
"cell_type": "code",
	   "execution_count": null,
	   "metadata": {
	    "collapsed": true
	   },
	   "outputs": [],
"source": [
"//===========================================================================\n",
"//chapter 5 example 39\n",
"\n",
"clc;\n",
"clear;\n",
"\n",
"\n",
"//input data\n",
" k  =1.38*10^-23;\n",
" Tc  =4.2;               //tempetrature in K\n",
" h  =6.6*10^-34;         //planck's constant in (m^2)*kg/s\n",
" c  =3*10^8;             // velocity of light in m\n",
" \n",
" \n",
"//calculation\n",
" Eg=(3*k*Tc);       //energy gap in eV\n",
" lamda=h*c/Eg;       //wavelngth in m\n",
"\n",
"//result\n",
" mprintf('region of electromagnetic spectrum=%3.2e.m\n',lamda);\n",
" \n",
" //=============================================================================="
   ]
   }
,
{
		   "cell_type": "markdown",
		   "metadata": {},
		   "source": [
			"## Example 5.3: To_find_current_density_and_drift_velocity_of_electrons.sce"
		   ]
		  },
  {
"cell_type": "code",
	   "execution_count": null,
	   "metadata": {
	    "collapsed": true
	   },
	   "outputs": [],
"source": [
"//===============================================================================\n",
"//chapter 5 exmple 3\n",
"\n",
"clc;\n",
"clear;\n",
"\n",
"//input data\n",
"\n",
" V       = 63.5;             //atomic weight in kg\n",
" d       = 8.92*10^3;        //density of copper in kg/m^3\n",
" r       = 0.7*10^-3;        //radius in m\n",
" I       = 10;               //current in A\n",
" e       = 1.6*10^-19;          //charge of electronin coulomb\n",
" h       = 6.02*10^28;          //planck's constant in (m^2)*kg/s\n",
"\n",
"\n",
"//calculation\n",
"A        = %pi*(r^2);         // area in m^2\n",
"N        = h*d;\n",
"n        = N/V;\n",
"J        = I/A;              //current density in m/s\n",
"vd       = J/(n*e);          //drift velocity in m/s\n",
"\n",
"//result\n",
" mprintf('velocity=%2e.m/s\n',vd);\n",
"\n",
"//================================================================================"
   ]
   }
,
{
		   "cell_type": "markdown",
		   "metadata": {},
		   "source": [
			"## Example 5.4: To_find_resistivity_of_the_material.sce"
		   ]
		  },
  {
"cell_type": "code",
	   "execution_count": null,
	   "metadata": {
	    "collapsed": true
	   },
	   "outputs": [],
"source": [
"//======================================================================\n",
"// chapter 5 example 4\n",
"\n",
"clc;\n",
"clear;\n",
"\n",
"\n",
"//input data\n",
" R        = 0.182;             //resistance in ohm\n",
" l       = 1;                  //length in m\n",
" A       = 0.1*10^-6;         //area in m^2\n",
"\n",
"//formula \n",
"//R=(p*l)/A\n",
"\n",
"//calculation\n",
" p      = (R*A)/l;              //resistivity in ohm m\n",
"\n",
"\n",
"//result\n",
" mprintf('restivity=%3.2e.ohm m\n',p);\n",
"\n",
"//=======================================================================\n",
" "
   ]
   }
,
{
		   "cell_type": "markdown",
		   "metadata": {},
		   "source": [
			"## Example 5.5: To_find_mobility_and_relaxation_time_of_electrons.sce"
		   ]
		  },
  {
"cell_type": "code",
	   "execution_count": null,
	   "metadata": {
	    "collapsed": true
	   },
	   "outputs": [],
"source": [
"//========================================================================================\n",
"// chapter 5 example 5\n",
"\n",
"clc;\n",
"clear;\n",
"\n",
"//input data\n",
" n        = 5.8*10^28;                 //number of silver electrons in electrond/m^3\n",
" p        = 1.45*10^-8;               //resistivity in ohm m\n",
" E        = 10^2;                   //electric field in V/m\n",
" e        = 1.6*10^-19; \n",
"\n",
"\n",
"//formula\n",
"//sigma  = n*e*u \n",
"//sigma=//p\n",
"//calculation\n",
" u       = 1/(n*e*p);\n",
" vd      = u*E;                    //drift velocity in m/s\n",
"\n",
"//result\n",
" mprintf('velocity=%3.2f.m/s\n',vd);\n",
" \n",
"//=========================================================================================="
   ]
   }
,
{
		   "cell_type": "markdown",
		   "metadata": {},
		   "source": [
			"## Example 5.6: To_find_mobility_of_conduction_electrons.sce"
		   ]
		  },
  {
"cell_type": "code",
	   "execution_count": null,
	   "metadata": {
	    "collapsed": true
	   },
	   "outputs": [],
"source": [
"//============================================================================================\n",
"// chapter 5 example 6\n",
"\n",
"clc;\n",
"clear;\n",
"\n",
"//input data\n",
" W           = 107.9;               //atomic weight\n",
" p           = 10.5*10^3;           //density in kg/m^3\n",
" sigma       =6.8*10^7;            //conductivity in ohm^-1.m^-1\n",
" e           =1.6*10^-19;          //charge of electron in coulombs\n",
" N           = 6.02*10^26;         //avagadro number in mol^-1\n",
" \n",
"\n",
"//calculation\n",
" n       = (N*p)/W;              //number of atoms per unit volume \n",
" u      = sigma/(n*e);          //density of electron in m^2.V^-1.s^-1\n",
"\n",
"\n",
"//result\n",
" mprintf('density=%3.2e.m^2.V^-1.s^-1\n',u);\n",
" \n",
"//============================================================================================="
   ]
   }
,
{
		   "cell_type": "markdown",
		   "metadata": {},
		   "source": [
			"## Example 5.7: To_find_relaxation_time.sce"
		   ]
		  },
  {
"cell_type": "code",
	   "execution_count": null,
	   "metadata": {
	    "collapsed": true
	   },
	   "outputs": [],
"source": [
"//==================================================================================\n",
"// chapter 5 example 7\n",
"\n",
"clc;\n",
"clear;\n",
"\n",
"//input data\n",
"//for common metal copper\n",
" n           = 8.5*10^28;               //number of atoms in m^-3\n",
" sigma       = 6*10^7;                  //sigma  in ohm^-1m^-1\n",
" m           = 9.1*10^-31;              //mass of electron in kilogram\n",
" e           = 1.6*10^-19;              //charge of electron in coulombs\n",
"\n",
"//calculation\n",
" t  = (m*sigma)/(n*(e^2));       //relaxation time in s\n",
"\n",
"//result\n",
" mprintf('time=%3.2e.s\n',t);\n",
"\n",
"//=================================================================================="
   ]
   }
,
{
		   "cell_type": "markdown",
		   "metadata": {},
		   "source": [
			"## Example 5.9: To_find_thermal_conductivity_for_a_metal.sce"
		   ]
		  },
  {
"cell_type": "code",
	   "execution_count": null,
	   "metadata": {
	    "collapsed": true
	   },
	   "outputs": [],
"source": [
"//=============================================================================================\n",
"// chapter 5 example 9\n",
"\n",
"clc;\n",
"clear;\n",
"\n",
"//input data\n",
" t       = 3.0*10^-14;              //time in s\n",
" n       = 2.5*10^22;              //in electrons per m^3\n",
" m       = 9.1*10^-31;              //mass of electron in kilograms\n",
" e       = 1.6*10^-19;              //charge of electron in coulombs\n",
" T       = 3.25;                  //temperature in K\n",
"\n",
"\n",
"//formula\n",
"//K/(sigma*T)=2.44*10^-8   from wiedemann Franz law\n",
"//calculation\n",
" sigma    = (n*(e^2)*t)/(m*10^-6);             //conductivity in m^3\n",
" K        = (2.44*10^-8)*sigma*T;               //thermalconductivity in W/m-K\n",
"\n",
"\n",
"//result\n",
" mprintf('thermal conductivity=%3.4f.W/m-K\n',K);\n",
" mprintf(' Note: calculation mistake in textbook in calculating K as T value is taken 325 instead of 3.25');\n",
"\n",
"//================================================================================================"
   ]
   }
],
"metadata": {
		  "kernelspec": {
		   "display_name": "Scilab",
		   "language": "scilab",
		   "name": "scilab"
		  },
		  "language_info": {
		   "file_extension": ".sce",
		   "help_links": [
			{
			 "text": "MetaKernel Magics",
			 "url": "https://github.com/calysto/metakernel/blob/master/metakernel/magics/README.md"
			}
		   ],
		   "mimetype": "text/x-octave",
		   "name": "scilab",
		   "version": "0.7.1"
		  }
		 },
		 "nbformat": 4,
		 "nbformat_minor": 0
}
