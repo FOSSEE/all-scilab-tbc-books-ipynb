{
"cells": [
 {
		   "cell_type": "markdown",
	   "metadata": {},
	   "source": [
       "# Chapter 1: Crystal structure Bonding and Defects in solids "
	   ]
	},
{
		   "cell_type": "markdown",
		   "metadata": {},
		   "source": [
			"## Example 1.10: To_find_distance_between_atoms.sce"
		   ]
		  },
  {
"cell_type": "code",
	   "execution_count": null,
	   "metadata": {
	    "collapsed": true
	   },
	   "outputs": [],
"source": [
"//======================================================================\n",
"// chapter 1 example 10\n",
"\n",
"clc;\n",
"clear;\n",
"\n",
"//input data\n",
" a       = 4;               //lattice constant in Å\n",
"\n",
"//calculation\n",
" d       = (sqrt(3)*a)/4;\n",
" \n",
" //result\n",
" mprintf('distance between two atoms =%3.3f.Å\n',d);\n",
"\n",
"//======================================================================"
   ]
   }
,
{
		   "cell_type": "markdown",
		   "metadata": {},
		   "source": [
			"## Example 1.11: To_find_wavelength.sce"
		   ]
		  },
  {
"cell_type": "code",
	   "execution_count": null,
	   "metadata": {
	    "collapsed": true
	   },
	   "outputs": [],
"source": [
"//======================================================================\n",
"// chapter 1 example 11\n",
"clc;\n",
"clear;\n",
"\n",
"//input data\n",
"\n",
" d     = 1.41;          //lattice constant in Å\n",
" theta  = 8.8;          // angle in degrees\n",
" n      = 1;\n",
"\n",
"//calculation\n",
"\n",
" lamda  = (2*d*sin(theta*%pi/180))/n;\n",
"\n",
"\n",
"//result\n",
"mprintf('wavelength=%3.2f Å\n',lamda);\n",
"\n",
"//======================================================================"
   ]
   }
,
{
		   "cell_type": "markdown",
		   "metadata": {},
		   "source": [
			"## Example 1.12: To_find_spacing_between_planes.sce"
		   ]
		  },
  {
"cell_type": "code",
	   "execution_count": null,
	   "metadata": {
	    "collapsed": true
	   },
	   "outputs": [],
"source": [
"//======================================================================\n",
"// chapter 1 example 12\n",
"\n",
"clc;\n",
"clear;\n",
"\n",
"//input data\n",
" d         = 2.5;               //spacing in angstroms\n",
" theta     = 9;                        //glancing angle in degrees\n",
" n1        = 1;\n",
" n2        = 2;\n",
"\n",
"\n",
"//calculation\n",
" lamda      = (2*sin(theta*(%pi/180))*d);\n",
" theta      = asin((2*lamda)/(2*d));\n",
"\n",
"//result\n",
"mprintf('wavelength =%3.4fÅ\n',lamda);\n",
"mprintf('glancing angle =%3.1f°\n',theta*(180/%pi));\n",
"\n",
"//======================================================================="
   ]
   }
,
{
		   "cell_type": "markdown",
		   "metadata": {},
		   "source": [
			"## Example 1.13: To_find_lattice_constant.sce"
		   ]
		  },
  {
"cell_type": "code",
	   "execution_count": null,
	   "metadata": {
	    "collapsed": true
	   },
	   "outputs": [],
"source": [
"//======================================================================\n",
"// chapter 1 example 13\n",
"\n",
"clc;\n",
"clear;\n",
"\n",
"\n",
"//input data\n",
" lamda      = 2;                     //wavelength in angstroms\n",
" theta1     = 60;                    //angle in degrees\n",
" n          = 1;\n",
" \n",
"//formula\n",
"//2*d*sin(theta)=n*lamda;\n",
"\n",
"//calculation\n",
" d  = (n*lamda)/(2*sin(theta1*%pi/180));\n",
"\n",
"//result\n",
"\n",
"mprintf('lattice constant=%3.4f Å\n',d);\n",
"mprint('Note:calulation mistake in textbook)\n",
"//======================================================================"
   ]
   }
,
{
		   "cell_type": "markdown",
		   "metadata": {},
		   "source": [
			"## Example 1.14: To_find_angle.sce"
		   ]
		  },
  {
"cell_type": "code",
	   "execution_count": null,
	   "metadata": {
	    "collapsed": true
	   },
	   "outputs": [],
"source": [
"//=======================================================================\n",
"//chapter 1 example 14\n",
"\n",
"clc;\n",
"clear;\n",
"\n",
"//input data\n",
" lamda      = 1.4*10^-10;              //wavelength in angstroms\n",
" a          = 2*10^-10;                //lattice parameter in angstroms\n",
" h          = 1;                //miller indices\n",
" k          = 1;                //miller indices\n",
" l          = 1;                //miller indices\n",
" n         = 1;\n",
"//formula\n",
"//2*d*sin(theta)=n*lamda\n",
"\n",
"//calculation\n",
"\n",
"dhkl       = a/sqrt((h^2)+(k^2)+(l^2));         //inter planar spacing\n",
"theta      = asin((n*lamda)/(2*dhkl));\n",
"\n",
"//result\n",
"mprintf('angle=%3.2f.\n',theta*(180/%pi));\n",
"\n",
"//======================================================================"
   ]
   }
,
{
		   "cell_type": "markdown",
		   "metadata": {},
		   "source": [
			"## Example 1.15: To_find_wavelength.sce"
		   ]
		  },
  {
"cell_type": "code",
	   "execution_count": null,
	   "metadata": {
	    "collapsed": true
	   },
	   "outputs": [],
"source": [
"//=======================================================================\n",
"// Chapter 1 example 15\n",
"clc;\n",
"clear;\n",
"\n",
"// input data \n",
" d     = 3.84 *10^-10;       //spacing between planes in m\n",
" theta     = 45;             //glancing angle in  degrees\n",
" m     = 1.67*10^-27;        //mass ef electron\n",
" h     = 6.62*10^-34;        // planck's constant\n",
" n     = 1;                 //braggg reflextion \n",
" v     = 5.41*10^-10;\n",
" \n",
"//calculation\n",
"//lamda = 2*d*(1/sqrt(2));\n",
"lamda = h/(m*v);\n",
"\n",
"//result\n",
" mprintf('wavelength of neutron =%3.2e m\n',lamda);\n",
" mprintf(' Note:calculation mistake in text book in calculating wavelength ')\n",
"//========================================================================"
   ]
   }
,
{
		   "cell_type": "markdown",
		   "metadata": {},
		   "source": [
			"## Example 1.16: To_find_lattice_parameters.sce"
		   ]
		  },
  {
"cell_type": "code",
	   "execution_count": null,
	   "metadata": {
	    "collapsed": true
	   },
	   "outputs": [],
"source": [
"//==============================================================================\n",
"// chapter 1 example 16     \n",
"clc;\n",
"clear;\n",
"\n",
"//input data\n",
" m      = 9.1*10^-31;       // mass of electron in kilograms\n",
" e      = 1.6*10^-19;       //charge of  electron in coulombs\n",
" n      = 1;               //bragg's reflection\n",
" h1     = 6.62*10^-34;      //planck's constant J.s\n",
" n     = 1;                 //bragg reflecton \n",
" V      = 200;              //voltage in V\n",
" theta  = 22;               //observed reflection\n",
" \n",
" //calculation\n",
"\n",
" lamda      = h1/sqrt(2*m*e*V);\n",
" dhkl       = (n*lamda)/(2*sin(theta*%pi/180));\n",
" a         = dhkl*sqrt(3);\n",
" \n",
" //result\n",
" \n",
" mprintf('lattice parameter =%3.0f.Å\n',a*10^10);\n",
" //==============================================================================="
   ]
   }
,
{
		   "cell_type": "markdown",
		   "metadata": {},
		   "source": [
			"## Example 1.1: To_find_lattice_constant.sce"
		   ]
		  },
  {
"cell_type": "code",
	   "execution_count": null,
	   "metadata": {
	    "collapsed": true
	   },
	   "outputs": [],
"source": [
"\n",
"//==============================================================================\n",
"// chapter 1 example 1\n",
"\n",
"clc;\n",
"clear;\n",
"\n",
"// input data\n",
"// FCC structured crystal\n",
"\n",
" p       = 6250;             // Density of crystal in kg/m^3\n",
" N       = 6.023*10^26;      // Avagadros number in atoms/kilomole\n",
" M       = 60.2;             // molecular weight per mole\n",
" n       = 4;                // No. of atoms per unit cell for FCC\n",
"\n",
"//Calculations\n",
"\n",
" a       = ((n*M)/(N*p))^(1/3);         //Lattice Constant Å\n",
"\n",
"//Output\n",
"\n",
"mprintf('Lattice Constant a = %3.2f.Å',a/10^-10);\n",
"//=============================================================================="
   ]
   }
,
{
		   "cell_type": "markdown",
		   "metadata": {},
		   "source": [
			"## Example 1.2: To_find_interplanar_distances.sce"
		   ]
		  },
  {
"cell_type": "code",
	   "execution_count": null,
	   "metadata": {
	    "collapsed": true
	   },
	   "outputs": [],
"source": [
"\n",
"//==============================================================================\n",
"// chapter 1 example 2\n",
"clc;\n",
"clear;\n",
"\n",
"//input data\n",
"h1       = 1;            // miller indice\n",
"k1       = 1;            // miller indice\n",
"l1       = 1;            // miller indice\n",
"h0       = 0;            // miller indice\n",
"k0       = 0;            // miller indice\n",
"l0       = 0;            // miller indice\n",
"p       = 1980;             // Density of KCl in kg/m^3\n",
"N       = 6.023*10^26;      // Avagadros number in atoms/kilomole\n",
"M       = 74.5;             // molecular weight of KCl\n",
"n       = 4;                // No. of atoms per unit cell for FCC\n",
"\n",
"// calculations\n",
"a       = ((n*M)/(N*p))^(1/3);\n",
"\n",
"// dhkl    = a/sqrt((h^2)+(k^2)+(l^2)); // interplanar distance\n",
"d100     = a/sqrt((h1^2)+(k0^2)+(l0^2)); // interplanar distance\n",
"d110     = a/sqrt((h1^2)+(k1^2)+(l0^2)); // interplanar distance\n",
"d111     = a/sqrt((h1^2)+(k1^2)+(l1^2)); // interplanar distance\n",
"\n",
"// Output\n",
"mprintf('d100 = %3.2f Å\n d110 = %3.2f Å\n d111 = %3.2f Å',d100*10^10,d110*10^10,d111*10^10);\n",
"\n",
"//==============================================================================\n",
"\n",
""
   ]
   }
,
{
		   "cell_type": "markdown",
		   "metadata": {},
		   "source": [
			"## Example 1.3: To_find_miller_indices.sce"
		   ]
		  },
  {
"cell_type": "code",
	   "execution_count": null,
	   "metadata": {
	    "collapsed": true
	   },
	   "outputs": [],
"source": [
"//===============================================================================================\n",
"// chapter 1 example 3\n",
"\n",
"\n",
"clc;\n",
"clear;\n",
"\n",
"// Variable Declaration\n",
" h          = 4;               //miller indices\n",
" k          = 1;               //miller indices\n",
" l          = 2;               //miller indices\n",
" \n",
" //result\n",
"\n",
"v= int32([h k l]);\n",
"lc=double(lcm(v));\n",
" //calculation\n",
" h1 =1/h;\n",
" k1 =1/k;\n",
" l1 =1/l;\n",
" a = h1*lc;\n",
" b = k1*lc;\n",
" c = l1*lc;\n",
" //result\n",
" mprintf('miller indices = %d %d %d',a,b,c);\n",
" \n",
" //==============================================================================================="
   ]
   }
,
{
		   "cell_type": "markdown",
		   "metadata": {},
		   "source": [
			"## Example 1.4: To_find_miller_indices.sce"
		   ]
		  },
  {
"cell_type": "code",
	   "execution_count": null,
	   "metadata": {
	    "collapsed": true
	   },
	   "outputs": [],
"source": [
"// chapter 1 example 4\n",
"\n",
"\n",
"clc;\n",
"clear;\n",
"\n",
"//intercepts given are 3a,4b,2c\n",
"//from the law of rational indices\n",
"//3a:4b:2c=a/h:b/k:c/l\n",
"\n",
"// Variable Declaration\n",
" h1          = 3;               //miller indices\n",
" k1          = 4;               //miller indices\n",
" l1          = 2;               //miller indices\n",
" \n",
" //calculation\n",
"v= int32([h1 k1 l1]);\n",
"lc=int32(lcm(v));\n",
"h = lc*1/h1;\n",
"k = lc*1/k1;\n",
"l= lc*1/l1;\n",
"\n",
" //result\n",
" mprintf('miller indices = %d %d %d',h,k,l);\n",
" \n",
"\n",
"\n",
"\n",
"\n",
""
   ]
   }
,
{
		   "cell_type": "markdown",
		   "metadata": {},
		   "source": [
			"## Example 1.5: To_find_miller_indices.sce"
		   ]
		  },
  {
"cell_type": "code",
	   "execution_count": null,
	   "metadata": {
	    "collapsed": true
	   },
	   "outputs": [],
"source": [
"//===========================================================================\n",
"//chapter 1 example 5\n",
"\n",
"clc;\n",
"clear all;\n",
"\n",
"//intercepts given are a,2b,-3c/2\n",
"//from the law of rational indices\n",
"//a:2b:-3c/2=a/h:b/k:c/l\n",
"\n",
"\n",
"//variable declaration\n",
"h1 = 1;               //miller indices\n",
"k1 = 1/2;               //miller indices\n",
"l1 = -2/3;               //miller indices\n",
"\n",
"//calculation\n",
"p = int32([1,2,3]);\n",
"l2 = lcm(p);\n",
"h=h1*l2;\n",
"k=(k1)*double(l2);\n",
"l=(l1)*double(l2);\n",
"\n",
"//result\n",
"mprintf('miller indices = %d %d %d',h,k,l);\n",
"\n",
"//============================================================================"
   ]
   }
,
{
		   "cell_type": "markdown",
		   "metadata": {},
		   "source": [
			"## Example 1.6: To_find_miller_indices.sce"
		   ]
		  },
  {
"cell_type": "code",
	   "execution_count": null,
	   "metadata": {
	    "collapsed": true
	   },
	   "outputs": [],
"source": [
"//===========================================================================\n",
"//chapter 1 example 6\n",
"\n",
"clc;\n",
"clear all;\n",
"\n",
"//intercepts given are 3a,3b,2c\n",
"//from the law of rational indices\n",
"//3a:3b:2c=a/h:b/k:c/l\n",
"//variable declaration\n",
"\n",
"h1 = 1/4;               //miller indices\n",
"k1 = 1/4;               //miller indices\n",
"l1 = 1/2;               //miller indices\n",
"h12 = 1/2;                    //miller indices\n",
"k12 = 1;                    //miller indices\n",
"l12 = 1/%inf;               //miller indices\n",
"h13 = 1;\n",
"k13 = 2;\n",
"l13 = 1;\n",
"\n",
"\n",
"//calculation\n",
"p = int32([4,4,2]);\n",
"l2 = lcm(p);\n",
"h=h1*double(l2);\n",
"k=(k1)*double(l2);\n",
"l=(l1)*double(l2);\n",
"\n",
"p1 = int32([2,1,1]);\n",
"\n",
"// 1/%inf = 0  ; (1/2 1/1 0/1) hence lcm is taken for [2 1 1]\n",
"\n",
"l22 = lcm(p1);\n",
"h3=h12*double(l22);\n",
"k3=(k12)*double(l22);\n",
"l3=(l12)*double(l22);\n",
"\n",
"p3 = int32([1,1,1]);\n",
"l23 = lcm(p3);\n",
"h4=h13*double(l23);\n",
"k4=(k13)*double(l23);\n",
"l4=(l13)*double(l23);\n",
"\n",
"\n",
"\n",
"//result\n",
"mprintf('miller indices = %d %d %d\n',h,k,l);\n",
"mprintf('Note:printing mistake of miller indices in textbook \n');\n",
"mprintf('\nmiller indices = %d %d %d\n',h3,k3,l3);\n",
"mprintf('\nmiller indices = %d %d %d\n',h4,k4,l4);\n",
"mprintf('Note:calculation mistake in textbook\n');\n",
"\n",
"\n",
"//============================================================================================"
   ]
   }
,
{
		   "cell_type": "markdown",
		   "metadata": {},
		   "source": [
			"## Example 1.8: To_find_interplanar_distance.sce"
		   ]
		  },
  {
"cell_type": "code",
	   "execution_count": null,
	   "metadata": {
	    "collapsed": true
	   },
	   "outputs": [],
"source": [
"//==================================================================================\n",
"//chapter 1 example 8\n",
"\n",
"clc;\n",
"clear all;\n",
"\n",
"//intercepts given are a,2b,-3c/2\n",
"//from the law of rational indices\n",
"//a:2b:-3c/2=a/h:b/k:c/l\n",
"\n",
"\n",
"//variable declaration\n",
"h12 = 1;               //miller indices\n",
"k12 = 1/2;               //miller indices\n",
"l12 = 1/%inf;               //miller indices\n",
"a = 10*10^-9; \n",
"//calculation\n",
"\n",
"p1 = int32([2,1,1]);\n",
"// 1/%inf = 0  ; (1/2 1/1 0/1) hence lcm is taken for [2 1 1]\n",
"\n",
"l22 = lcm(p1);\n",
"h=h12*double(l22);\n",
"k=(k12)*double(l22);\n",
"l=(l12)*double(l22);\n",
"d=a/double(((h^2)+(k^2)+(l^2))^(1/2));\n",
"\n",
"\n",
"//result\n",
"mprintf('miller indices = %d %d %d',h,k,l);\n",
"mprintf('interplanar distance is =%e Å',d);\n",
"//====================================================================================\n",
""
   ]
   }
,
{
		   "cell_type": "markdown",
		   "metadata": {},
		   "source": [
			"## Example 1.9: To_find_interplanar_spacing.sce"
		   ]
		  },
  {
"cell_type": "code",
	   "execution_count": null,
	   "metadata": {
	    "collapsed": true
	   },
	   "outputs": [],
"source": [
"//===============================================================================================\n",
"// chapter 1 example 9\n",
"\n",
"\n",
"clc;\n",
"clear;\n",
"\n",
"// Variable Declaration\n",
"\n",
"r       = 0.175*10^-9;              //radius in m\n",
"h       = 2;                        //miller indices\n",
"k       = 3;                        //miller indices\n",
"l       = 1;                        //miller indices\n",
"\n",
"//calculation\n",
" a      = (4*r)/sqrt(2);\n",
" dhkl   = a/sqrt((h^2)+(k^2)+(l^2));\n",
" \n",
" //result\n",
"  mprintf('inter planar spacing =%3.2e m\n',dhkl);\n",
"  mprintf('Note : calculation mistake in textbook in  calculating dhkl value ');\n",
"  \n",
" //============================================================================================="
   ]
   }
],
"metadata": {
		  "kernelspec": {
		   "display_name": "Scilab",
		   "language": "scilab",
		   "name": "scilab"
		  },
		  "language_info": {
		   "file_extension": ".sce",
		   "help_links": [
			{
			 "text": "MetaKernel Magics",
			 "url": "https://github.com/calysto/metakernel/blob/master/metakernel/magics/README.md"
			}
		   ],
		   "mimetype": "text/x-octave",
		   "name": "scilab",
		   "version": "0.7.1"
		  }
		 },
		 "nbformat": 4,
		 "nbformat_minor": 0
}
