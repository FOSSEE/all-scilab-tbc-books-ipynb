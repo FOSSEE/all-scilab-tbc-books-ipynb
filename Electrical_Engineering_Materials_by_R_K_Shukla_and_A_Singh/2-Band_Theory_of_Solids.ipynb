{
"cells": [
 {
		   "cell_type": "markdown",
	   "metadata": {},
	   "source": [
       "# Chapter 2: Band Theory of Solids"
	   ]
	},
{
		   "cell_type": "markdown",
		   "metadata": {},
		   "source": [
			"## Example 2.1: To_find_three_lowest_permissible_quantum_energies.sce"
		   ]
		  },
  {
"cell_type": "code",
	   "execution_count": null,
	   "metadata": {
	    "collapsed": true
	   },
	   "outputs": [],
"source": [
"// Chapter 2 example 1\n",
"\n",
"clc;\n",
"clear;\n",
"\n",
"// Variable declaration\n",
"h   = 6.63*10^-34;          // plancks constant in J.s\n",
"m   = 9.1*10^-31;           // mass of electron in kg\n",
"a   = 2.5*10^-10;           // width of infinite square well\n",
"e   = 1.6*10^-19;           // charge of electron coulombs\n",
"n2  = 2;                    //number of  permiissable quantum\n",
"n3  = 3;                    //number of  permiissable quantum\n",
"\n",
"// Calculations\n",
"E1  = (h^2)/(8*m*a^2*e);      // first lowest permissable quantum energy  in eV\n",
"E2  = n2^2 *E1;              // second lowest permissable quantum energy in eV\n",
"E3  = n3^2 *E1;              // second lowest permissable quantum energy in eV\n",
"\n",
"// Result\n",
"mprintf('Lowest three permissable quantum energies are \n E1 = %d eV\n E2 = %d eV\n E3 = %d eV',E1,E2,E3);\n",
""
   ]
   }
,
{
		   "cell_type": "markdown",
		   "metadata": {},
		   "source": [
			"## Example 2.2: To_find_energy_differences_between_two_states.sce"
		   ]
		  },
  {
"cell_type": "code",
	   "execution_count": null,
	   "metadata": {
	    "collapsed": true
	   },
	   "outputs": [],
"source": [
"// Chapter 2 example 2\n",
"\n",
"clc;\n",
"clear;\n",
"\n",
"// Variable declaration\n",
" h   = 6.63*10^-34;          // plancks constant in J.s\n",
" m   = 9.1*10^-31;           // mass of electron in kg\n",
" a   = 10^-10;           // width of infinite square well in m\n",
" e   = 1.6*10^-19;           // charge of electron in coulombs\n",
" n1  = 1;                     //energy level constant\n",
" n2  = 2;                       //energy level constant\n",
"\n",
"// calculations\n",
" E1  = ((n1^2)*(h^2))/(8*m*(a^2)*e);      // ground state energy in eV\n",
" E2  = ((n2^2)*(h^2))/(8*m*(a^2)*e);     // first excited state in energy in eV\n",
" dE  = E2-E1                      // difference between first excited and ground state(E2 - E1)\n",
"\n",
"// Result\n",
" mprintf('Energy Difference = %3.2f eV',dE);\n",
"\n",
" "
   ]
   }
,
{
		   "cell_type": "markdown",
		   "metadata": {},
		   "source": [
			"## Example 2.3: comment_on_first_three_energy_levels_of_an_electron.sce"
		   ]
		  },
  {
"cell_type": "code",
	   "execution_count": null,
	   "metadata": {
	    "collapsed": true
	   },
	   "outputs": [],
"source": [
"// Chapter 2 example 3\n",
"clc;\n",
"clear;\n",
"\n",
"// Variable declaration\n",
"h   = 6.63*10^-34;          // plancks constant in J.s\n",
"m   = 9.1*10^-31;           // mass of electron in kg\n",
"a   = 5*10^-10;             // width of infinite potential well in m\n",
"e   = 1.6*10^-19;            // charge of electron in coulombs\n",
"n1  = 1;                      // energy level constant\n",
"n2  = 2;                      // energy level constant\n",
"n3  = 3;                      // energy level constant\n",
"\n",
"// Calculations\n",
"E1  = ((n1^2)*(h^2))/(8*m*(a^2)*e);      // first energy level in eV\n",
"E2  = ((n2^2)*(h^2))/(8*m*(a^2)*e);     // second energy level in eV\n",
"E3  = ((n3^2)*(h^2))/(8*m*(a^2)*e);     // third energy level in eV\n",
"\n",
"// Result\n",
"mprintf('First Three Energy levels are \n E1 = %3.2f eV\n E2 = %3.2f eV\n E3 = %3.2f eV',E1,E2,E3);\n",
"mprintf('\n Above calculation shows that the energy of the bound electron cannot be continuous')"
   ]
   }
,
{
		   "cell_type": "markdown",
		   "metadata": {},
		   "source": [
			"## Example 2.4: To_find_lowest_allowed_energy_bandwidth.sce"
		   ]
		  },
  {
"cell_type": "code",
	   "execution_count": null,
	   "metadata": {
	    "collapsed": true
	   },
	   "outputs": [],
"source": [
"// Chapter 2 example 4\n",
"clc;\n",
"clear;\n",
"\n",
"// Variable declaration\n",
"h   = 1.054*10^-34;          //plancks constant in J.s\n",
"m   = 9.1*10^-31;           // mass of electron in kg\n",
"a   = 5*10^-10;             // width of infinite potential well in m\n",
"e   = 1.6*10^-19;            // charge of electron coulombs\n",
"\n",
"// Calculations\n",
"//cos(ka) = ((Psin(alpha*a))/(alpha*a)) + cos(alpha*a)\n",
"//to find the lowest allowed energy bandwidth,we have to find the difference in αa values, as ka changes from 0 to π\n",
"// for ka = 0 in above eq becomes\n",
"// 1 = 10*sin(αa))/(αa)) + cos(αa)\n",
"// This gives αa = 2.628 rad\n",
"// ka = π , αa = π\n",
"// sqrt((2*m*E2)/h^2)*a = π\n",
"E2   = ((%pi*%pi) *h^2)/(2*m*a^2*e);        //energy in eV\n",
"E1   = ((2.628^2) *h^2)/(2*m*a^2*e)  // for αa = 2.628 rad energy in eV\n",
"dE   = E2 - E1;                         //lowest energy bandwidth in eV\n",
"\n",
"// Result\n",
"mprintf('Lowest energy bandwidth = %3.3f eV',dE);"
   ]
   }
,
{
		   "cell_type": "markdown",
		   "metadata": {},
		   "source": [
			"## Example 2.5: T_find_energy_of_free_electron_for_first_Brillouin_Zone.sce"
		   ]
		  },
  {
"cell_type": "code",
	   "execution_count": null,
	   "metadata": {
	    "collapsed": true
	   },
	   "outputs": [],
"source": [
"// Chapter 2 example 5\n",
"clc;\n",
"clear;\n",
"\n",
"// Variable declaration\n",
"a   = 3*10^-10;             // side of 2d square lattice in m\n",
"h   = 6.63*10^-34;          // plancks constant in J.s\n",
"e   = 1.6*10^-19           // charge of electron in coulombs\n",
"m   = 9.1*10^-31;           // mass of electron in kg\n",
"\n",
"// calculations\n",
"//p   = h*k                   // momentum of the electron\n",
"k   = %pi/a;                  // first Brillouin zone\n",
"p   = (h/(2*%pi))*(%pi/a);          //momentum of electron\n",
"E   = (p^2)/(2*m*e)               // Energyin eV\n",
"\n",
"// Result\n",
"mprintf('Electron Momentum for first Brillouin zone appearance = %g\n Energy of free electron with this momentum = %4.1feV',p,E);\n",
"mprintf(' \n Note: in Textbook Momentum value is wrongly printed as 1.1*10^-10')"
   ]
   }
],
"metadata": {
		  "kernelspec": {
		   "display_name": "Scilab",
		   "language": "scilab",
		   "name": "scilab"
		  },
		  "language_info": {
		   "file_extension": ".sce",
		   "help_links": [
			{
			 "text": "MetaKernel Magics",
			 "url": "https://github.com/calysto/metakernel/blob/master/metakernel/magics/README.md"
			}
		   ],
		   "mimetype": "text/x-octave",
		   "name": "scilab",
		   "version": "0.7.1"
		  }
		 },
		 "nbformat": 4,
		 "nbformat_minor": 0
}
