{
"cells": [
 {
		   "cell_type": "markdown",
	   "metadata": {},
	   "source": [
       "# Chapter 3: Magnetic properties of Materials"
	   ]
	},
{
		   "cell_type": "markdown",
		   "metadata": {},
		   "source": [
			"## Example 3.10: To_find_permeability_and_relative_permeability.sce"
		   ]
		  },
  {
"cell_type": "code",
	   "execution_count": null,
	   "metadata": {
	    "collapsed": true
	   },
	   "outputs": [],
"source": [
"//=======================================================================\n",
"// chapter 3 example 10\n",
"\n",
"\n",
"clc;\n",
"clear;\n",
"\n",
"\n",
"//input data\n",
" sighem        = 2.1*10^-5;             //magnetic susceptability\n",
" u0            = 4*%pi*10^-7;\n",
"\n",
"\n",
"//calculation\n",
"ur             = 1+(sighem);\n",
"u              = u0*ur;\n",
"\n",
"//result\n",
" mprintf('permeability =%3.6f\n',ur);\n",
" mprintf('relative permeability =%3.4e.N/A^2\n',u);\n",
" \n",
" //======================================================================\n",
" "
   ]
   }
,
{
		   "cell_type": "markdown",
		   "metadata": {},
		   "source": [
			"## Example 3.11: To_find_absolute_and_relative_permeability.sce"
		   ]
		  },
  {
"cell_type": "code",
	   "execution_count": null,
	   "metadata": {
	    "collapsed": true
	   },
	   "outputs": [],
"source": [
"//=======================================================================\n",
"// chapter 3 example 11\n",
"\n",
"\n",
"clc;\n",
"clear;\n",
"\n",
"\n",
"//input data\n",
" sighem        = 0.084;             //magnetic susceptability\n",
" u0            = 4*%pi*10^-7;\n",
"\n",
"\n",
"//calculation\n",
"ur             = 1+(sighem);\n",
"u              = u0*ur;\n",
"\n",
"//result\n",
" mprintf('permieability =%3.6f\n',ur);\n",
" mprintf('relative permiability =%3.4e.N/A^2\n',u);\n",
" \n",
" //======================================================================="
   ]
   }
,
{
		   "cell_type": "markdown",
		   "metadata": {},
		   "source": [
			"## Example 3.12: To_find_relative_permeability_and_magnetic_susceptibility.sce"
		   ]
		  },
  {
"cell_type": "code",
	   "execution_count": null,
	   "metadata": {
	    "collapsed": true
	   },
	   "outputs": [],
"source": [
"//=======================================================================\n",
"// chpter 3 example 12\n",
"\n",
"\n",
"clc;\n",
"clear;\n",
"\n",
"\n",
"//input data\n",
" u            = 0.126;              //permiability in N/A^2\n",
" u0           = 4*%pi*10^-7;\n",
" \n",
"//calculation\n",
" ur             = u/u0\n",
" sighe         = ur-1;           //magnetic susceptability\n",
"\n",
"//result\n",
" mprintf('relative permiability =%3.5e\n',sighe);\n",
" mprintf(' Note:Calculation mistake in textbook in calculating sighe by taking ur as 10^5 instead of 100318.4')\n",
" \n",
" //======================================================================\n",
" \n",
" "
   ]
   }
,
{
		   "cell_type": "markdown",
		   "metadata": {},
		   "source": [
			"## Example 3.13: To_find_diamagnetic_susceptability_of_He.sce"
		   ]
		  },
  {
"cell_type": "code",
	   "execution_count": null,
	   "metadata": {
	    "collapsed": true
	   },
	   "outputs": [],
"source": [
"//=======================================================================\n",
"// chapter 3 example 13\n",
"\n",
"\n",
"clc;\n",
"clear;\n",
"\n",
"//input data\n",
"//diamagnetic susceptability of He\n",
" R         = 0.6*10^-10;             //mean radius of atom in m\n",
" N         = 28*10^26;              //avagadro number in per m^3\n",
" e         = 1.6*10^-19;              //charge of electron in coulombs\n",
" m         = 9.1*10^-31;                //mass of electron in kilograms\n",
"  Z         = 2;                        //atomic number\n",
" \n",
" //calculation\n",
" u0        = 4*%pi*10^-7;           //atomic number\n",
" si        = -(u0*Z*(e^2)*N*(R^2))/(6*m);       //susceptability of diamagnetic material \n",
" \n",
"//result\n",
" mprintf('susceptability of diamagnetic material = %3.4e\n',si);\n",
" \n",
"//======================================================================\n",
" "
   ]
   }
,
{
		   "cell_type": "markdown",
		   "metadata": {},
		   "source": [
			"## Example 3.14: To_find_permiability_and_susceptibility.sce"
		   ]
		  },
  {
"cell_type": "code",
	   "execution_count": null,
	   "metadata": {
	    "collapsed": true
	   },
	   "outputs": [],
"source": [
"//==========================================================================================================\n",
"// chpter 3 example 14\n",
"\n",
"\n",
"clc;\n",
"clear;\n",
"\n",
"//input data\n",
" phi         = 2*10^-5;          //magnetic flux in Wb/m^2\n",
" H          = 2*10^3;              //in A/m\n",
" A          = 0.2*10^-4;        //area  in m^2\n",
"\n",
" \n",
" \n",
"//calculation\n",
" u0         = 4*%pi*10^-7;\n",
" B      = phi/A;                //magnetic flux density in Wb/m^2\n",
" u      = B/H;                  //permiability in /A^2\n",
" sighem = (u/u0)-1;\n",
"///result\n",
" mprintf('permiability =%3.2e.N/A^2\n',u);\n",
" mprintf('susceptability =%4f\n',sighem);\n",
" mprintf('Note:answer of permiability is wrong in textbook\n');\n",
" mprintf(' Note: calcuation mistake in textbook in sighem');\n",
"\n",
"\n",
"//==============================================================================================================="
   ]
   }
,
{
		   "cell_type": "markdown",
		   "metadata": {},
		   "source": [
			"## Example 3.15: To_find_susceptability.sce"
		   ]
		  },
  {
"cell_type": "code",
	   "execution_count": null,
	   "metadata": {
	    "collapsed": true
	   },
	   "outputs": [],
"source": [
"//=======================================================================\n",
"// chpter 3 example 15\n",
"\n",
"\n",
"clc;\n",
"clear;\n",
"\n",
"//input data\n",
" N         = 6.5*10^25;           //number of atoms in atoms per m^3\n",
" e         = 1.6*10^-19;           //charge of electron in coulombs\n",
" m         = 9.1*10^-31;           //mass of electron inilograms\n",
" h         = 6.6*10^-34;          //planck's constant in J.s\n",
" T         = 300;                 //temperature in K\n",
"  k         = 1.38*10^-23;          //boltzman constant in J*(K^-1)\n",
"  n         = 1;                    //constant\n",
" \n",
" \n",
"//calculation\n",
" u0        = 4*%pi*10^-7;\n",
" M              = n*((e*h)/(4*%pi*m));                 //magnetic moment in A*m^2\n",
" sighe          = (u0*N*(M^2))/(3*k*T);             //susceptability of diamagnetic material\n",
" \n",
"//result\n",
" mprintf('susceptability of diamagnetic material = %3.2e\n',sighe);\n",
" \n",
"//======================================================================\n",
" "
   ]
   }
,
{
		   "cell_type": "markdown",
		   "metadata": {},
		   "source": [
			"## Example 3.16: To_find_number_ampere_turns.sce"
		   ]
		  },
  {
"cell_type": "code",
	   "execution_count": null,
	   "metadata": {
	    "collapsed": true
	   },
	   "outputs": [],
"source": [
"//========================================================================================\n",
"// chpter 3 example 16\n",
"\n",
"\n",
"clc;\n",
"clear;\n",
"\n",
"//input data\n",
"L       = 2.0;                   //length in m\n",
"A       = 4*10^-4;               //cross section sq.m\n",
"u       = 50*10^-4;             //permiability in H*m^-1\n",
"phi       = 4*10^-4;            //magnetic flux in Wb\n",
"\n",
"//calculation\n",
" B      =  phi/A;               //magnetic flux density in Wb/m^2\n",
" NI     = B/u;                  //ampere turn in A/m\n",
" \n",
" //result\n",
" mprintf('ampere turn =%3.2f.A/m\n',NI);\n",
" \n",
" //======================================================================================"
   ]
   }
,
{
		   "cell_type": "markdown",
		   "metadata": {},
		   "source": [
			"## Example 3.17: To_find_current_to_be_sent_into_solenoid.sce"
		   ]
		  },
  {
"cell_type": "code",
	   "execution_count": null,
	   "metadata": {
	    "collapsed": true
	   },
	   "outputs": [],
"source": [
"//=======================================================================\n",
"// chapter 3 example 17\n",
"\n",
"\n",
"clc;\n",
"clear;\n",
"\n",
"//input data\n",
" H          = 5*10^3;            //corecivity in A/m\n",
" l          = 10^-1;                //length in m\n",
" n          = 500;                //number of turns\n",
"\n",
"//calculation\n",
" N      = n/l;                   // number of turns per m\n",
" i      = H/N;                  //current in A\n",
" \n",
"//result\n",
" mprintf('current =%1d A\n',i);\n",
" \n",
"//======================================================================\n",
" "
   ]
   }
,
{
		   "cell_type": "markdown",
		   "metadata": {},
		   "source": [
			"## Example 3.18: To_find_number_of_turns.sce"
		   ]
		  },
  {
"cell_type": "code",
	   "execution_count": null,
	   "metadata": {
	    "collapsed": true
	   },
	   "outputs": [],
"source": [
"//==============================================================================================================\n",
"// chapter 3 example 18\n",
"\n",
"\n",
"clc;\n",
"clear;\n",
"\n",
"//input data\n",
" A          = 6*10^-4;               //area in m^2\n",
" l          = 0.5;                  //length in m\n",
" u          = 65*10^-4;             //permiability in H/m\n",
" phi        = 4*10^-5;              // magnetic flux in Wb\n",
"\n",
"\n",
"//calculation\n",
" B          = phi/A;\n",
" H          = B/u;\n",
" N          = H*l;\n",
" \n",
"//result\n",
" mprintf('number of turns =%1f\n',N);\n",
" mprintf(' Note: calculation mistake in textbook in calculattig H by taking B value as 0.06 instead of 0.0666');\n",
" \n",
"//====================================================================================================================="
   ]
   }
,
{
		   "cell_type": "markdown",
		   "metadata": {},
		   "source": [
			"## Example 3.19: To_find_permeability_and_susceptibility.sce"
		   ]
		  },
  {
"cell_type": "code",
	   "execution_count": null,
	   "metadata": {
	    "collapsed": true
	   },
	   "outputs": [],
"source": [
"//=======================================================================\n",
"// chpter 3 example 19\n",
"\n",
"\n",
"clc;\n",
"clear;\n",
"\n",
"//input data\n",
" A          = 0.2*10^-4;               //area in m^2\n",
" H          = 500;                      //magnetising field in A.m^-1\n",
" phi         = 2.4*10^-5;              // magnetic flux in Wb\n",
"\n",
" //calculation\n",
" u0         = 4*%pi*10^-7;\n",
" B      = phi/A;                        //magnetic flux density in N*A^-1 *m^-1\n",
" u      = B/H;                          //permiability in N/m\n",
" fm     = (u/u0)-1;                     //susceptability \n",
" \n",
"//result\n",
" mprintf('susceptability =%3.2d\n',fm);\n",
"\n",
" \n",
"//=======================================================================\n",
""
   ]
   }
,
{
		   "cell_type": "markdown",
		   "metadata": {},
		   "source": [
			"## Example 3.1: To_find_magnetic_moment_and_bohr_magneton.sce"
		   ]
		  },
  {
"cell_type": "code",
	   "execution_count": null,
	   "metadata": {
	    "collapsed": true
	   },
	   "outputs": [],
"source": [
"// Chapter 3 example 1\n",
"clc;\n",
"clear;\n",
"\n",
"// Variable declaration\n",
"r   = 0.53*10^-10;          // orbit radius m\n",
"n   = 6.6*10^15;            // frequency of revolution of electronHz\n",
"e   = 1.6*10^-19           // charge of electron in coulombs\n",
"h   = 6.63*10^-34;          // plancks constant in J.s\n",
"m   = 9.1*10^-31;           // mass of electron in kg\n",
"\n",
"// Calculations\n",
"i   = e*n                     // current produced due to electron\n",
"A   = %pi*r*r                 // Area in m^2\n",
"u   = i*A;                    // magnetic moment A*m^2\n",
"ub  = (e*h)/(4*%pi*m)         // Bohr magneton in J/T\n",
"\n",
"// Output\n",
"mprintf('Magnetic moment = %3.3e Am^2\n Bohr magneton = %3.2e J/T',u,ub);"
   ]
   }
,
{
		   "cell_type": "markdown",
		   "metadata": {},
		   "source": [
			"## Example 3.20: To_find_loss_of_energy_per_hour.sce"
		   ]
		  },
  {
"cell_type": "code",
	   "execution_count": null,
	   "metadata": {
	    "collapsed": true
	   },
	   "outputs": [],
"source": [
"//==================================================================================================\n",
"// chapter 3 example 20\n",
"\n",
"\n",
"clc;\n",
"clear;\n",
"\n",
"//input data\n",
" f      = 50;                  //number of reversals/s in Hz\n",
" W      = 50;                  //weight in kg\n",
" d      = 7500;                //density in kg/m^3\n",
" A      = 200;                 //area in  joules /m^3\n",
" \n",
" //calculation\n",
" \n",
" V      = 1/d;           //volume of 1 kg iron\n",
" E      = A*V;             //loss of energy per kg\n",
" L      = f*E;           //hysteresisloss/s in Joule/second\n",
" Lh     = L*60*60;         //loss per hour\n",
" \n",
" //calculation\n",
" mprintf('loss of energy per hour =%3.2f\n',Lh);\n",
" mprintf('calculation mistake in textbook in calculating Lh');\n",
"\n",
"//=======================================================================================================\n",
" "
   ]
   }
,
{
		   "cell_type": "markdown",
		   "metadata": {},
		   "source": [
			"## Example 3.21: To_find_hysteresis_loss_per_cycle.sce"
		   ]
		  },
  {
"cell_type": "code",
	   "execution_count": null,
	   "metadata": {
	    "collapsed": true
	   },
	   "outputs": [],
"source": [
"//=======================================================================\n",
"// chpter 3 example 21\n",
"\n",
"\n",
"clc;\n",
"clear;\n",
"\n",
"//input data\n",
"f       = 50;             //frequency in Hz\n",
"Bm      = 1.1;           //magnetic flux in Wb/m^2\n",
"t       = 0.0005;        //thickness of sheet \n",
"p       = 30*10^-8*7800;       //resistivity in ohms m\n",
"d       = 7800;                 //density in kg/m^3\n",
"Hl      = 380;                  //hysteresis loss per cycle in W-S/m^2\n",
"\n",
"//calculation\n",
" Pl     = ((%pi^2)*(f^2)*(Bm^2)*(t^2))/(6*p);    //eddy current loss\n",
" Hel     = (Hl*f)/d;                            //hysteresis loss\n",
" Tl      = Pl+Hel;                               //total iron loss\n",
" \n",
" //result\n",
" mprintf('total iron loss =%3.2f watt/kg \n',Tl);\n",
" \n",
" \n",
"\n",
""
   ]
   }
,
{
		   "cell_type": "markdown",
		   "metadata": {},
		   "source": [
			"## Example 3.2: To_find_the_magnetic_moment_of_the_rod.sce"
		   ]
		  },
  {
"cell_type": "code",
	   "execution_count": null,
	   "metadata": {
	    "collapsed": true
	   },
	   "outputs": [],
"source": [
"// Chapter 3 example 2\n",
"clc;\n",
"clear;\n",
"\n",
"// Variable declaration\n",
"ur  = 1150;           // relative permeability\n",
"n   = 500;            // turns per m\n",
"V   = 10^-3;         // volume of iron rod in m^3\n",
"i   = 0.5;           // current in amp\n",
"\n",
"// Calculations\n",
"// B = uo(H+M)\n",
"// B = uH, u/uo = ur\n",
"// M = (ur - 1)H\n",
"// if current is flowing through a solenoid having n turns/l then H = ni\n",
" M = (ur - 1)*n*i      // magnetisation\n",
" m = M*V;            // magnetic moment\n",
" \n",
" // Output\n",
" mprintf('Magnetic moment = %3.2e A-m^2',m);\n",
" mprintf('\n Note: Instead of 2.87*10^2, 2.87*10^-2 is printed in textbook');"
   ]
   }
,
{
		   "cell_type": "markdown",
		   "metadata": {},
		   "source": [
			"## Example 3.3: To_find_the_magnetic_moment_of_the_rod.sce"
		   ]
		  },
  {
"cell_type": "code",
	   "execution_count": null,
	   "metadata": {
	    "collapsed": true
	   },
	   "outputs": [],
"source": [
"// Chapter 3 example 3\n",
"clc;\n",
"clear;\n",
"\n",
"// Variable declaration\n",
"ur  = 90;           // relative permeability\n",
"n   = 300;            // turns per m\n",
"i   = 0.5;           // current in amp\n",
"d   = 10*10^-3;      // diameter of iron rod\n",
"l   = 2;             // length of iron rod\n",
"\n",
"// Calculations\n",
"V   = %pi*(d/2)^2 * l      // volume of rod\n",
"M   = (ur - 1)*n*i          // magnetisation\n",
"m   = M*V                   // magnetic moment\n",
"\n",
"// Output\n",
"mprintf('Magnetic Moment of the rod = %3.3g A-m^2\n ',m);\n",
"mprintf('Note: In textbook length of iron rod given as 2m whereas in calculation it is wrongly taken as 0.2m' )"
   ]
   }
,
{
		   "cell_type": "markdown",
		   "metadata": {},
		   "source": [
			"## Example 3.4: To_find_change_in_magnetic_moment.sce"
		   ]
		  },
  {
"cell_type": "code",
	   "execution_count": null,
	   "metadata": {
	    "collapsed": true
	   },
	   "outputs": [],
"source": [
"// Chapter 3 example 4\n",
"clc;\n",
"clear;\n",
"\n",
"// Variable declaration\n",
"Bo  = 2;                // magnetic field in tesla\n",
"r   = 5.29*10^-11       // radius in m\n",
"m   = 9.1*10^-31;           // mass of electron in kg\n",
"e   = 1.6*10^-19           // charge of electron\n",
"\n",
"// calculations\n",
"du  = (e^2 * Bo * r^2)/(4*m)        // change in magnetic moment\n",
"\n",
"// output\n",
"mprintf('Change in magnetic moment = %3.1e J/T',du);"
   ]
   }
,
{
		   "cell_type": "markdown",
		   "metadata": {},
		   "source": [
			"## Example 3.6: To_find_temperate_must_the_substance_cooled.sce"
		   ]
		  },
  {
"cell_type": "code",
	   "execution_count": null,
	   "metadata": {
	    "collapsed": true
	   },
	   "outputs": [],
"source": [
"// Chapter 3 example 6\n",
"clc;\n",
"clear;\n",
"\n",
"// Variable declaration\n",
"u1  = 3.3;          // magnetic dipole moment\n",
"u   = 9.24*10^-24;\n",
"B   = 5.2;          // magnetic field in tesla\n",
"k   = 1.38*10^-23;  // boltzmann constant\n",
"\n",
"// calculations\n",
"T   = (u*u1*B)/(1.5*k);     // Temperature in Kelvin\n",
"\n",
"// Output\n",
"mprintf('Temperature to which substance to be cooled = %3.1f K\n ',T);\n",
"mprintf('Note:Values given in question B = 52, u = 924*10^-24.Values substituted in calculation B = 5.2, u = 9.24*10^-24');"
   ]
   }
,
{
		   "cell_type": "markdown",
		   "metadata": {},
		   "source": [
			"## Example 3.7: To_find_magnetisation_vector_and_flux_density.sce"
		   ]
		  },
  {
"cell_type": "code",
	   "execution_count": null,
	   "metadata": {
	    "collapsed": true
	   },
	   "outputs": [],
"source": [
"// Chapter 3 example 7\n",
"clc;\n",
"clear;\n",
"\n",
"// Variable declaration\n",
"xm      = -4.2*10^-6;           // magnetic susceptibility in A.m^-1\n",
"H       = 1.15*10^5;            // magnetic field in A.m^-1\n",
"\n",
"// Calculations\n",
"uo      = 4*%pi*10^-7;          // magnetic permeability  N·A^-2\n",
"M       = xm*H                  // magnetisation in A.m^-1\n",
"B       = uo*(H + M)            // flux density in T\n",
"ur      = 1+(M/H)               // relative permeability \n",
"\n",
"// Output\n",
"mprintf('Magnetisation = %3.2f A/m\n flux density = %g Tesla\n relative permeability = %g',M,B,ur);"
   ]
   }
,
{
		   "cell_type": "markdown",
		   "metadata": {},
		   "source": [
			"## Example 3.8: To_find_increase_in_percentage.sce"
		   ]
		  },
  {
"cell_type": "code",
	   "execution_count": null,
	   "metadata": {
	    "collapsed": true
	   },
	   "outputs": [],
"source": [
"// Chapter 3 example 8\n",
"clc;\n",
"clear;\n",
"\n",
"// Variable declaration\n",
"xm      = 1.4*10^-5;        // magnetic susceptibility\n",
"// B    = uoH\n",
"// B'   = uruoH\n",
"// ur   = 1+xm\n",
"// from above equations\n",
"//B'    = (1+xm)B\n",
"// percentage increase in magnetic induction = ((B'-B)/B)*100\n",
"//      = (((1+xm)B - B)/B)*100\n",
"PI    = xm*100;       // percentage increase\n",
"\n",
"// Output\n",
"mprintf('Percentage increase = %3.4f percent',PI);"
   ]
   }
,
{
		   "cell_type": "markdown",
		   "metadata": {},
		   "source": [
			"## Example 3.9: To_find_magnetisation_vector_and_flux_density.sce"
		   ]
		  },
  {
"cell_type": "code",
	   "execution_count": null,
	   "metadata": {
	    "collapsed": true
	   },
	   "outputs": [],
"source": [
"// Chapter 3 example 9\n",
"clc;\n",
"clear;\n",
"\n",
"// Variable declaration\n",
"xm      = -0.2*10^-5;       // magnetic susceptability in A.m^-1\n",
"H       = 10^4;             // magnetic field in A/m\n",
"\n",
"\n",
"// Calculations\n",
"uo      = 4*%pi*10^-7;          // magnetic permeability\n",
"M       = xm*H              // magnetisation in A/m\n",
"B       = uo*(H+M);         // magnetic flux density in T\n",
"\n",
"// Output\n",
"mprintf('magnetisation = %3.2f A/m\n Magnetic flux density = %3.4f T',M,B);\n",
"\n",
""
   ]
   }
],
"metadata": {
		  "kernelspec": {
		   "display_name": "Scilab",
		   "language": "scilab",
		   "name": "scilab"
		  },
		  "language_info": {
		   "file_extension": ".sce",
		   "help_links": [
			{
			 "text": "MetaKernel Magics",
			 "url": "https://github.com/calysto/metakernel/blob/master/metakernel/magics/README.md"
			}
		   ],
		   "mimetype": "text/x-octave",
		   "name": "scilab",
		   "version": "0.7.1"
		  }
		 },
		 "nbformat": 4,
		 "nbformat_minor": 0
}
