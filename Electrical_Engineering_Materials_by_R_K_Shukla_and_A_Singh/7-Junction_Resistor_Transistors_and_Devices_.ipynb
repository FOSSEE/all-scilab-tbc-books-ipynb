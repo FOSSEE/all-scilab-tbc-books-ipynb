{
"cells": [
 {
		   "cell_type": "markdown",
	   "metadata": {},
	   "source": [
       "# Chapter 7: Junction Resistor Transistors and Devices "
	   ]
	},
{
		   "cell_type": "markdown",
		   "metadata": {},
		   "source": [
			"## Example 7.10: To_find_transconductance.sce"
		   ]
		  },
  {
"cell_type": "code",
	   "execution_count": null,
	   "metadata": {
	    "collapsed": true
	   },
	   "outputs": [],
"source": [
"//=========================================================================\n",
"//chapter 7 example 10\n",
"\n",
"clc;\n",
"clear;\n",
"\n",
"\n",
"//input data\n",
" IDSS       = 10;               //current in mA\n",
" IDS        =2.;                // current in mA\n",
" Vp         = -4.0;             //pinch off voltage in V\n",
"\n",
"//formula\n",
"//IDS   = IDSS*((1-(VGS/Vp))^2)\n",
"//calculation\n",
" VGS        = Vp*(1-(sqrt(IDS/IDSS)));\n",
" gm         = ((-2*IDSS)/Vp)*(1-(VGS/Vp));\n",
"\n",
"\n",
"//result\n",
" mprintf('transconductance =%3.2f.m*A/V\n',gm);\n",
"\n",
"//=========================================================================="
   ]
   }
,
{
		   "cell_type": "markdown",
		   "metadata": {},
		   "source": [
			"## Example 7.11: To_find_drain_current.sce"
		   ]
		  },
  {
"cell_type": "code",
	   "execution_count": null,
	   "metadata": {
	    "collapsed": true
	   },
	   "outputs": [],
"source": [
"//=========================================================================\n",
"//chapter 7 example 11\n",
"\n",
"clc;\n",
"clear;\n",
"\n",
"\n",
"//input data\n",
" VGS       = -3;               //pinch off voltage in V\n",
" IDSS        =10*10^-3;                // current in A\n",
" Vp         = -5.0;             //pinch off voltage in V\n",
" \n",
"\n",
"//calculation\n",
"IDS   = IDSS*((1-(VGS/Vp))^2);\n",
"\n",
"\n",
"//result\n",
" mprintf('current =%3.2f.A\n',IDS/10^-3);\n",
"\n",
"//=========================================================================="
   ]
   }
,
{
		   "cell_type": "markdown",
		   "metadata": {},
		   "source": [
			"## Example 7.12: To_find_transconductance.sce"
		   ]
		  },
  {
"cell_type": "code",
	   "execution_count": null,
	   "metadata": {
	    "collapsed": true
	   },
	   "outputs": [],
"source": [
"//=========================================================================\n",
"//chapter 7 example 12\n",
"\n",
"clc;\n",
"clear;\n",
"\n",
"\n",
"//input data\n",
" IDS        = 2*10^-3;               //current in mA\n",
" IDSS       = 8*10^-3;                // current in mA\n",
" Vp         = -4.5;             //pinch off voltage in V\n",
" VGS1       = -1.902;           //pinch off voltage  when IDS =3*10^-3 A\n",
"\n",
"//formula\n",
"//IDS   = IDSS*((1-(VGS/Vp))^2)\n",
"//calculation\n",
" VGS        = Vp*(1-(sqrt(IDS/IDSS)));\n",
" gm         = ((-2*IDSS)/Vp)*(1-(VGS1/Vp));\n",
"\n",
"\n",
"//result\n",
" mprintf('transconductance =%3.2f.mS\n',gm/10^-3);\n",
"\n",
"//=========================================================================="
   ]
   }
,
{
		   "cell_type": "markdown",
		   "metadata": {},
		   "source": [
			"## Example 7.13: To_find_resistance.sce"
		   ]
		  },
  {
"cell_type": "code",
	   "execution_count": null,
	   "metadata": {
	    "collapsed": true
	   },
	   "outputs": [],
"source": [
"//=========================================================================\n",
"//chapter 7 example 13\n",
"\n",
"\n",
"clc;\n",
"clear;\n",
"\n",
"\n",
"//input data\n",
" VGS        = 26;                //gate source voltage in V\n",
" IG         = 1.6*10^-9;        //gate current in A\n",
"\n",
"\n",
"//calculation\n",
" R          = VGS/IG;           //gate to current resistance in ohms\n",
"\n",
"\n",
"//result \n",
"mprintf('resistance =%3.2e.ohms\n',R);\n",
"\n",
"//========================================================================="
   ]
   }
,
{
		   "cell_type": "markdown",
		   "metadata": {},
		   "source": [
			"## Example 7.14: To_find_transconductance.sce"
		   ]
		  },
  {
"cell_type": "code",
	   "execution_count": null,
	   "metadata": {
	    "collapsed": true
	   },
	   "outputs": [],
"source": [
"//=========================================================================\n",
"//chapter 7 example 14\n",
"\n",
"clc;\n",
"clear;\n",
"\n",
"\n",
"//input data\n",
" ID1          = 1;               //current in A\n",
" ID2          = 2.1;                // current in A\n",
" VGS1         = 3.0;             //pinch off voltage in V\n",
" VGS2         = 3.5;             //pinch off voltage in V\n",
" \n",
"\n",
"//calculation\n",
" dID         = ID2-ID1;\n",
" dVGS        = VGS2-VGS1;\n",
" gm          = (dID*10^-3)/dVGS;\n",
"\n",
"\n",
"//result\n",
" mprintf('transconductance =%3.2e mho\n',gm);\n",
" mprintf('Note:wrong answer in textbook');\n",
"\n",
"//=========================================================================="
   ]
   }
,
{
		   "cell_type": "markdown",
		   "metadata": {},
		   "source": [
			"## Example 7.15: To_find_drain_resistance_and_transconductance_and_amplification_fector.sce"
		   ]
		  },
  {
"cell_type": "code",
	   "execution_count": null,
	   "metadata": {
	    "collapsed": true
	   },
	   "outputs": [],
"source": [
"//=====================================================================================\n",
"//chapter 7 example 15\n",
"\n",
"clc;\n",
"clear;\n",
"\n",
"\n",
"//input data\n",
" ID1         = 8;                     // drain current in mA\n",
" ID2         = 8.3;                  //drain current in mA\n",
" VDS1        = 5;                   //drainn source voltage in V\n",
" VDS2        = 14;                 //drain source voltage in V\n",
" ID3         = 7.1;               //drain current when VDS constant VGS change\n",
" ID4         = 8.3;              //drain current when VDS constant VGS change\n",
" VGS1         = 0.1;            //drain source voltage in V\n",
" VGS2         = 0.4;           //drain source voltage in V\n",
"\n",
"//calculation\n",
" dID1        = ID2-ID1;\n",
" dVDS        = VDS2-VDS1;\n",
" rd          = dVDS/dID1;                //ac drain resistance\n",
" dID2        = ID4-ID3;\n",
" dVGS        = VGS2-VGS1;\n",
" gm          = dID2/dVGS;               //transconductance\n",
" u           = rd*gm;                   //amplification factor\n",
"\n",
"\n",
"//result\n",
" mprintf('ac drain resistnce =%3.2d.k-ohms\n',rd);\n",
" mprintf('transconductance =%3.2d.u ohms\n',gm/10^-3);\n",
" mprintf('amplification factor=%3.2f.\n',u);\n",
"\n",
"//====================================================================================="
   ]
   }
,
{
		   "cell_type": "markdown",
		   "metadata": {},
		   "source": [
			"## Example 7.16: To_find_transconductance.sce"
		   ]
		  },
  {
"cell_type": "code",
	   "execution_count": null,
	   "metadata": {
	    "collapsed": true
	   },
	   "outputs": [],
"source": [
"//=======================================================================\n",
"// chapter 7 example 16\n",
"\n",
"\n",
"clc;\n",
"clear;\n",
"\n",
"//input data\n",
" u          = 100;              //amplification factor \n",
" rd         = 33*10^3;          //drain resistance  in ohms\n",
"\n",
"\n",
"//calculation\n",
"gm          = u/rd;         //transconductance in mhos\n",
"\n",
"//result\n",
" mprintf('transconductance =%3.2f mmhos\n',gm/10^-3);\n",
" printf('Note:transconductance value is wrongly printed in terms of umhos');\n",
"\n",
"//========================================================================="
   ]
   }
,
{
		   "cell_type": "markdown",
		   "metadata": {},
		   "source": [
			"## Example 7.2: To_find_change_in_temperature.sce"
		   ]
		  },
  {
"cell_type": "code",
	   "execution_count": null,
	   "metadata": {
	    "collapsed": true
	   },
	   "outputs": [],
"source": [
"//=======================================================================================================\n",
"// Chapter 7 example 2\n",
"\n",
"clc;\n",
"clear;\n",
"\n",
"//variable declaration\n",
"//given Is2/Is1 =150\n",
"//Is2/Is1 =2^(T2-T1)/10\n",
"//dT=10ln(I)/ln(2)\n",
" I  = 150;\n",
" \n",
"\n",
"\n",
"// Calculations\n",
"dT  = 10*log(I)/log(2);       // increase in temperature in °C\n",
"\n",
"// Result\n",
"mprintf('Increase in temperature necessary to increase Is by a factor by 150 is %3.2f °C',dT);\n",
"\n",
"//========================================================================================================"
   ]
   }
,
{
		   "cell_type": "markdown",
		   "metadata": {},
		   "source": [
			"## Example 7.3: To_find_current.sce"
		   ]
		  },
  {
"cell_type": "code",
	   "execution_count": null,
	   "metadata": {
	    "collapsed": true
	   },
	   "outputs": [],
"source": [
"//============================================================================\n",
"// Chapter 7 example 3\n",
"\n",
"clc;\n",
"clear;\n",
"\n",
"// Variable declaration\n",
"Io  = 0.25*10^-6;       // large reverse biased current in A\n",
"V   = 0.12;             // applied voltage in V\n",
"Vt  = 0.026;            // Volt-equivalent of temperature in V\n",
"\n",
"// Calculations\n",
"I   = Io*(exp(V/Vt)-1);     // current in A \n",
"\n",
"// Result\n",
"mprintf('Current flowing through germanium diode = %g uA',I*10^6);\n",
"\n",
"//============================================================================="
   ]
   }
,
{
		   "cell_type": "markdown",
		   "metadata": {},
		   "source": [
			"## Example 7.4: To_find_diffusion_coefficients.sce"
		   ]
		  },
  {
"cell_type": "code",
	   "execution_count": null,
	   "metadata": {
	    "collapsed": true
	   },
	   "outputs": [],
"source": [
"//===============================================================================================================================\n",
"// Chapter 7 example 4\n",
"\n",
"clc;\n",
"clear;\n",
"\n",
"// Variable declaration\n",
"k   = 1.38*10^-23;          // boltzmann constant (m^2)*(kg)*(s^-2)*(K^-1)\n",
"e   = 1.6*10^-19;           // charge of electron in coulombs\n",
"ue  = 0.19                  // mobility of electron  in m^2.V^-1.s^-1\n",
"uh  = 0.027;                // mobilty of holes in m^2.V^-1.s^-1\n",
"T   = 300;                  // temperature in K\n",
"\n",
"// Calculations\n",
"Dn  = (k*T/e)*ue;           //diffusion constant of electrons in cm^2/s\n",
"Dh  = (k*T/e)*uh;           // diffusion constant of holes in cm^2/s\n",
"\n",
"\n",
"// Result\n",
"mprintf('Diffusion co-efficients of electrons = %g m^2/s\n Diffusion co-efficients of holes = %g m^2/s',Dn,Dh)\n",
"\n",
"//=================================================================================================================================="
   ]
   }
,
{
		   "cell_type": "markdown",
		   "metadata": {},
		   "source": [
			"## Example 7.6: To_find_resistance_of_diode.sce"
		   ]
		  },
  {
"cell_type": "code",
	   "execution_count": null,
	   "metadata": {
	    "collapsed": true
	   },
	   "outputs": [],
"source": [
"//==============================================================================\n",
"// chapter 7 example 6\n",
"\n",
"clc;\n",
"clear;\n",
"\n",
"// Variable declaration\n",
"I1  = 20;           // current in ma\n",
"V1  = 0.8;          // vtg in volts\n",
"V2  = 0.7;          // vtg in volts\n",
"I2  = 10;           // current in ma\n",
"v3  = -10;\n",
"I3  = -1*10^-6;     // current\n",
"\n",
"// Calculations\n",
"R   = (V1 - V2)/(I1 - I2);\n",
"Vreb  = v3/I3;\n",
"\n",
"// Result\n",
"mprintf('a. resistance = %d ohm\n Vreb = %3.1e ohm',R*10^3,Vreb);\n",
"\n",
"//==============================================================================="
   ]
   }
,
{
		   "cell_type": "markdown",
		   "metadata": {},
		   "source": [
			"## Example 7.7: To_find_diffusion_constant.sce"
		   ]
		  },
  {
"cell_type": "code",
	   "execution_count": null,
	   "metadata": {
	    "collapsed": true
	   },
	   "outputs": [],
"source": [
"//==========================================================================================================================\n",
"// Chapter 7 example 7\n",
"\n",
"clc;\n",
"clear;\n",
"\n",
"// Variable Declaration\n",
"T   = 300;          // temp in kelvin\n",
"k   = 1.38*10^-23;  // Boltzmann constant (m^2)*(kg)*(s^-2)*(K^-1)\n",
"e   = 1.602*10^-19; // charge of electron in coulombs\n",
"ue  = 3650;         // mobility of electrons \n",
"uh  = 1720;         // mobility of holes\n",
"\n",
"// Calculations\n",
"De  = (ue*k*T)/e;       // diffusion constant of electrons in cm^2/s\n",
"Dh  = (uh*k*T)/e;       // diffusion constant of holes in cm^2/s\n",
"\n",
"// Result\n",
"mprintf('Diffusion constant of electrons = %3.1f cm^2/s\n Diffusion constant of electrons = %3.1f cm^2/s',De,Dh);\n",
"\n",
"//========================================================================================================================\n",
""
   ]
   }
,
{
		   "cell_type": "markdown",
		   "metadata": {},
		   "source": [
			"## Example 7.8: To_find_pinch_off_voltage.sce"
		   ]
		  },
  {
"cell_type": "code",
	   "execution_count": null,
	   "metadata": {
	    "collapsed": true
	   },
	   "outputs": [],
"source": [
"//========================================================================\n",
"// chapter 7 example 8\n",
"\n",
"clc;\n",
"clear;\n",
"\n",
"// Variable Declaration\n",
"p   = 2;        // resistivity in ohm-m\n",
"er  = 16;       // relative dielectrivity of Ge cm^2/s\n",
"up  = 1800;      // mobility of holes in cm^2/s\n",
"e0  = 8.85*10^-12;      //permitivity in (m^-3)*(kg^-1)*(s^4)*(A^2)\n",
"a   = 2*10^-4;      //channel height in m\n",
"\n",
"// Calculations\n",
" qNa  = 1/(up*p);\n",
" e    = e0*er;          //permitivity in F/cm\n",
" Vp   = (qNa*(a^2))/(2*e);       // pinch-off voltage in V\n",
"\n",
"// Result\n",
"mprintf('Pinch-off voltage = %3.4e V\n',Vp);\n",
"mprintf(' Note:calculation mistake in text book ,e value is taken as 14.16*10^-12 instead of 141.6*10^-12');\n",
"\n",
"//============================================================================"
   ]
   }
,
{
		   "cell_type": "markdown",
		   "metadata": {},
		   "source": [
			"## Example 7.9: To_find_pinch_off_voltage.sce"
		   ]
		  },
  {
"cell_type": "code",
	   "execution_count": null,
	   "metadata": {
	    "collapsed": true
	   },
	   "outputs": [],
"source": [
"//=========================================================================\n",
"//chapter 7 example 9\n",
"clc;\n",
"clear;\n",
"\n",
"\n",
"//input data\n",
" a       = 3.5*10^-6;            //channel width in m\n",
" N       = 10^21;                   //number of electrons in electrons/m^3\n",
" q       = 1.6*10^-19;          //charge of electron in coulombs\n",
" er      = 12;                  //dielectric constant F/m\n",
" e0      = 8.85*10^-12;                  //dielectric constant F/m\n",
" \n",
"\n",
"//calculation\n",
" e      = (e0)*(er);                //permitivityin F/m\n",
" Vp     = (q*(a^2)*N)/(2*e);        //pinch off voltage in V\n",
"\n",
"\n",
"//result \n",
" mprintf('pinch off velocity =%2f V\n',Vp);\n",
" \n",
"//========================================================================="
   ]
   }
],
"metadata": {
		  "kernelspec": {
		   "display_name": "Scilab",
		   "language": "scilab",
		   "name": "scilab"
		  },
		  "language_info": {
		   "file_extension": ".sce",
		   "help_links": [
			{
			 "text": "MetaKernel Magics",
			 "url": "https://github.com/calysto/metakernel/blob/master/metakernel/magics/README.md"
			}
		   ],
		   "mimetype": "text/x-octave",
		   "name": "scilab",
		   "version": "0.7.1"
		  }
		 },
		 "nbformat": 4,
		 "nbformat_minor": 0
}
