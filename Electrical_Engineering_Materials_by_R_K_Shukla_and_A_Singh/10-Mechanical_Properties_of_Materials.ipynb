{
"cells": [
 {
		   "cell_type": "markdown",
	   "metadata": {},
	   "source": [
       "# Chapter 10: Mechanical Properties of Materials"
	   ]
	},
{
		   "cell_type": "markdown",
		   "metadata": {},
		   "source": [
			"## Example 10.1: To_find_wavelength.sce"
		   ]
		  },
  {
"cell_type": "code",
	   "execution_count": null,
	   "metadata": {
	    "collapsed": true
	   },
	   "outputs": [],
"source": [
"//============================================================================\n",
"// chapter 10 example 1\n",
"\n",
"clc;\n",
"clear;\n",
"\n",
"// Variable declaration\n",
" E2     = 5.56*10^-19;          // Higher Energy level in J\n",
" E1     = 2.36*10^-19;          // Lower Energy level in J\n",
" h      = 6.626*10^-34;         // plancks constant in J.s\n",
" c      = 3*10^8;               // velocity of light in m\n",
"\n",
"// Calculations\n",
" dE    = E2 - E1;              // Energy difference in J\n",
" lamda = (h*c)/dE;             // wavelength in m\n",
" \n",
"\n",
"// Result\n",
"\n",
"mprintf('Wavelength of the photon = %d Å\n',lamda/10^-10);\n",
"mprintf(' The colour of the photon is red')\n",
"    \n",
"//==============================================================================    "
   ]
   }
,
{
		   "cell_type": "markdown",
		   "metadata": {},
		   "source": [
			"## Example 10.2: To_find_maximum_wavelength_of_opaque.sce"
		   ]
		  },
  {
"cell_type": "code",
	   "execution_count": null,
	   "metadata": {
	    "collapsed": true
	   },
	   "outputs": [],
"source": [
"//===========================================================================================\n",
"// chapter 10 example 2\n",
"clc\n",
"clear\n",
"\n",
"// Variable declaration\n",
"\n",
" h   = 6.63*10^-34;         // plancks constant in J.s\n",
" c   = 3*10^8;               // velocity of light in m\n",
" E   = 5.6;                  // bandgap in eV\n",
" e   = 1.6*10^-19;           // charge of electron coulombs\n",
"\n",
"// Calculations\n",
"\n",
" lamda    = (h*c)/(E*e)         // wavelength in m\n",
"\n",
"// output\n",
"\n",
" mprintf('Maximum Wavelength for which diamond is opaque is Imax = %d Å',lamda/10^-10);\n",
" mprintf('\n Note: Imax is wrongly printed as 220 Å in textbook');\n",
"\n",
"//==============================================================================================="
   ]
   }
,
{
		   "cell_type": "markdown",
		   "metadata": {},
		   "source": [
			"## Example 10.3: To_find_composition.sce"
		   ]
		  },
  {
"cell_type": "code",
	   "execution_count": null,
	   "metadata": {
	    "collapsed": true
	   },
	   "outputs": [],
"source": [
"//===================================================================================================================================================================\n",
"// chapter 10 example 3\n",
"\n",
"clc;\n",
"clear;\n",
"\n",
"// Variable declaration\n",
"\n",
" h   = 6.63*10^-34;            // plancks constant\n",
" c   = 3*10^8;                 // velocity of light\n",
" lamda = 0.6*10^-6;            // wavelength in m\n",
" e   = 1.6*10^-19;             // charge of electron\n",
" EGap = 2.25                   // energy in eV\n",
" EGas = 1.42                   // energy in eV\n",
"\n",
"// Calculations\n",
"\n",
" E   = (h*c)/(lamda*e)            // Energy in eV\n",
" p_change = (EGap - EGas)/100;    // rate of energy gap\n",
" x   = (E-EGas)/p_change          // mol % og GaP to be added to get an energy gap of E\n",
"\n",
"// Result\n",
"\n",
" mprintf('Energy of radiation = %3.4f eV\n Rate of energy gap varies with addition of GaP is %3.5f\n mol percent to be added to get an energy gap of %3.4f eV is %3.1f mol percent',E,p_change,E,x);\n",
"\n",
"//=================================================================================================================================================================="
   ]
   }
,
{
		   "cell_type": "markdown",
		   "metadata": {},
		   "source": [
			"## Example 10.4: To_find_energy_of_metastable_state.sce"
		   ]
		  },
  {
"cell_type": "code",
	   "execution_count": null,
	   "metadata": {
	    "collapsed": true
	   },
	   "outputs": [],
"source": [
"//=========================================================================\n",
"// chapter 10 example 4\n",
"clc;\n",
"clear;\n",
"\n",
"// Variable declaration\n",
"\n",
" h   = 6.63*10^-34;          // plancks constant in J.s\n",
" c   = 3*10^8;               // velocity of light in m\n",
" lamda = 1.1*10^-6;          // wavelength in m\n",
" e   = 1.6*10^-19;           // charge of electron in coulombs\n",
" E2  = 0.4*10^-19;           // energy level in joules\n",
"\n",
"\n",
"// Calculations\n",
" E3  = E2 + (h*c)/(lamda);          //energy in J\n",
"\n",
"// Result\n",
" mprintf('Energy of the metastable state E3 = %3.1e J',E3);\n",
"\n",
"//========================================================================="
   ]
   }
,
{
		   "cell_type": "markdown",
		   "metadata": {},
		   "source": [
			"## Example 10.5: To_find_number_of_optical_modes.sce"
		   ]
		  },
  {
"cell_type": "code",
	   "execution_count": null,
	   "metadata": {
	    "collapsed": true
	   },
	   "outputs": [],
"source": [
"//============================================================================\n",
"// chapter 10 example 5\n",
"clc\n",
"clear\n",
"\n",
"// Variable declaration\n",
"c   = 3*10^8;               // velocity of light in m\n",
"L   = 1.5;                  //length in m\n",
"n   = 1.0204;               // refractive index \n",
"BW  = 1.5*10^9;             // Bandwidth in Hz\n",
"\n",
"// Calculations\n",
"dV  = c/(2*L*n);             //frequency in Hz\n",
"N   = BW/dV;                // Number of optical nodes\n",
"\n",
"// Result\n",
"\n",
"mprintf('Number of Optical modes = % d',N);\n",
"\n",
"//============================================================================="
   ]
   }
,
{
		   "cell_type": "markdown",
		   "metadata": {},
		   "source": [
			"## Example 10.6: To_find_numerical_aperture.sce"
		   ]
		  },
  {
"cell_type": "code",
	   "execution_count": null,
	   "metadata": {
	    "collapsed": true
	   },
	   "outputs": [],
"source": [
"//=======================================================================\n",
"// chapter 10 example 6\n",
"\n",
"clc\n",
"clear\n",
"\n",
"// Variable declaration\n",
"n1  = 1.55;         // refractive index of core\n",
"n2  = 1.53;         // refractive index of cladding\n",
"\n",
"\n",
"// Calculations\n",
"\n",
"NA  = sqrt(n1^2 - n2^2);\n",
"\n",
"\n",
"// Result\n",
"mprintf('Numerical aperture = %3.3f',NA);\n",
"\n",
"//========================================================================"
   ]
   }
,
{
		   "cell_type": "markdown",
		   "metadata": {},
		   "source": [
			"## Example 10.7: To_find_critical_angle.sce"
		   ]
		  },
  {
"cell_type": "code",
	   "execution_count": null,
	   "metadata": {
	    "collapsed": true
	   },
	   "outputs": [],
"source": [
"//============================================================================================================\n",
"// chapter 10 example 7\n",
"clc\n",
"clear\n",
"\n",
"// Variable declaration\n",
" n1      = 1.33;         //refractive index of water\n",
" n2      = 1;            // refractive index of air\n",
"\n",
"// Calculations\n",
" theta_c = asin((n2/n1))\n",
" theta_c_deg = theta_c*(180/%pi);        // radian to degree conversion\n",
"\n",
"// Result\n",
"mprintf('For angles above %3.2f degrees , there will be total internal reflection in water',theta_c_deg );\n",
"\n",
"//================================================================================================================"
   ]
   }
],
"metadata": {
		  "kernelspec": {
		   "display_name": "Scilab",
		   "language": "scilab",
		   "name": "scilab"
		  },
		  "language_info": {
		   "file_extension": ".sce",
		   "help_links": [
			{
			 "text": "MetaKernel Magics",
			 "url": "https://github.com/calysto/metakernel/blob/master/metakernel/magics/README.md"
			}
		   ],
		   "mimetype": "text/x-octave",
		   "name": "scilab",
		   "version": "0.7.1"
		  }
		 },
		 "nbformat": 4,
		 "nbformat_minor": 0
}
