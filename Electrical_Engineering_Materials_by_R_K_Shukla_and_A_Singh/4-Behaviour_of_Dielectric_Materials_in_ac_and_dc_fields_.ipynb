{
"cells": [
 {
		   "cell_type": "markdown",
	   "metadata": {},
	   "source": [
       "# Chapter 4: Behaviour of Dielectric Materials in ac and dc fields "
	   ]
	},
{
		   "cell_type": "markdown",
		   "metadata": {},
		   "source": [
			"## Example 4.10: To_find_ratio_between_electronic_and_ionic_polarisability.sce"
		   ]
		  },
  {
"cell_type": "code",
	   "execution_count": null,
	   "metadata": {
	    "collapsed": true
	   },
	   "outputs": [],
"source": [
"//========================================================================\n",
"// chapter 4 example 10\n",
"\n",
"clc;\n",
"clear;\n",
"\n",
"\n",
"//input data\n",
" er         = 4.94;\n",
" n          = 1.64;\n",
"\n",
"\n",
"//calculatio\n",
"//(alphae)/(alphai) =x\n",
" x       = ((er-1)/(er+2))*(((n^2)+2)/((n^2)-1));\n",
"\n",
"\n",
"//result\n",
" mprintf('ratio of electronic and ionic probabilities =%6f\n',x);\n",
"\n",
"//========================================================================"
   ]
   }
,
{
		   "cell_type": "markdown",
		   "metadata": {},
		   "source": [
			"## Example 4.11: To_find_dielectric_constant_and_electrical_susceptibility.sce"
		   ]
		  },
  {
"cell_type": "code",
	   "execution_count": null,
	   "metadata": {
	    "collapsed": true
	   },
	   "outputs": [],
"source": [
"//=========================================================================================\n",
"// chapter 4 example 11\n",
"\n",
"\n",
"clc;\n",
"clear;\n",
"\n",
"\n",
"//input data\n",
" E      = 1.46*10^-10;             //permitivity in c^2*N^-1*m^-2\n",
" E0      = 8.885*10^-12;           // permitivity in c^2*N^-1*m^-2\n",
"\n",
"\n",
"//calculation\n",
" Er         = E/E0;\n",
" sighe      = E0*(Er-1);         //electrical suseptbility in c^2*N^-1*M^-2\n",
" \n",
" \n",
"//result\n",
" mprintf('dielectric constant=%3.2f.\n',Er);\n",
" mprintf('electrical suseptibility=%3.4e.c^2*N^-1*M^-2\n',sighe);\n",
"\n",
"//========================================================================================="
   ]
   }
,
{
		   "cell_type": "markdown",
		   "metadata": {},
		   "source": [
			"## Example 4.12: To_find_the_polarisation.sce"
		   ]
		  },
  {
"cell_type": "code",
	   "execution_count": null,
	   "metadata": {
	    "collapsed": true
	   },
	   "outputs": [],
"source": [
"//===========================================================================================\n",
"// chapter 4 example 12\n",
"\n",
"clc;\n",
"clear;\n",
"\n",
"//input data\n",
" r       = 0.1;                    //radius in  m\n",
" pw      = 1;                     //density of water in  g/ml\n",
" Mw      = 18;                    // molecular mass of water \n",
" E       = 6.0*10^-30;           //dipole moment of water in cm\n",
" N       = 6.0*10^26;           //avagadro constant in (lb-mol)−1\n",
" \n",
" \n",
"//calculation\n",
" n  = N*(4*(%pi)*(r^3)*pw)/(Mw*3)        //number of water molecules in a water drop \n",
" p  = n*E;                               //polarisation in cm^2\n",
"\n",
"\n",
"//result\n",
"mprintf('polarisation=%3.1e.cm^2\n',p);\n",
"\n",
"//============================================================================================"
   ]
   }
,
{
		   "cell_type": "markdown",
		   "metadata": {},
		   "source": [
			"## Example 4.13: To_find_dielectric_susceptibility.sce"
		   ]
		  },
  {
"cell_type": "code",
	   "execution_count": null,
	   "metadata": {
	    "collapsed": true
	   },
	   "outputs": [],
"source": [
"//==================================================================================\n",
"// chapter 4 example 13\n",
"\n",
"clc;\n",
"clear;\n",
"\n",
"//input data\n",
" Er     = 1.000074;                 //dielectric constant for a gas at 0°C\n",
"\n",
"\n",
"//calculation\n",
" sighe      = Er-1;\n",
" \n",
" \n",
"//result\n",
" mprintf('dielectric susceptibility=%3.6f\n',sighe);\n",
" \n",
"//==================================================================================="
   ]
   }
,
{
		   "cell_type": "markdown",
		   "metadata": {},
		   "source": [
			"## Example 4.14: To_find_free_charge_and_polarisation_and_displacement.sce"
		   ]
		  },
  {
"cell_type": "code",
	   "execution_count": null,
	   "metadata": {
	    "collapsed": true
	   },
	   "outputs": [],
"source": [
"//=====================================================================================\n",
"// chapter 4 example 14\n",
"\n",
"\n",
"clc;\n",
"clear;\n",
"\n",
"\n",
"//input data\n",
" E        = 10^6;               //dielectric in volts/s\n",
" er       = 3;                  //dielectric in mm\n",
" e0       = 8.85*10^-12;\n",
"\n",
"\n",
"//calculation\n",
" E0      = er*E;                  //electric field in V/m\n",
" sigma   = e0*E0;                //free charge in Coul/m^2\n",
" P       = e0*(er-1)*E0;         //polarisation in coul/m\n",
" D       = e0*er*E0;            //displacement in in dielectric\n",
" \n",
" \n",
"//result\n",
" mprintf('free charge=%3.2e.Coul/m^2\n',sigma);\n",
" mprintf('polarisation=%3.2e.Coul/m\n',P);\n",
" mprintf('displacement=%3.2e\n',D); \n",
" \n",
"//========================================================================================\n",
"\n",
""
   ]
   }
,
{
		   "cell_type": "markdown",
		   "metadata": {},
		   "source": [
			"## Example 4.15: EX4_15.sce"
		   ]
		  },
  {
"cell_type": "code",
	   "execution_count": null,
	   "metadata": {
	    "collapsed": true
	   },
	   "outputs": [],
"source": [
"//=====================================================================================\n",
"// chapter 4 example 15\n",
"\n",
"clc;\n",
"clear;\n",
"\n",
"//input data \n",
" d     = 1.0*10^-3;             //separation between plates in m\n",
" A     = 6.45*10^-4;           // surface area in m^2\n",
" e0     = 8.85*10^-12;          //permitivity of electron in (m^-3)*(kg^-1)*(s^4)*(A^2)\n",
" er    = 6.0;                   //relative permitivity in (m^-3)*(kg^-1)*(s^4)*(A^2)\n",
" V     = 10;                    //voltage in V\n",
" E     = 10;                    \n",
" \n",
" \n",
"//calculation\n",
" C      = (e0*er*A)/d;             //capacitance in Farad\n",
" q      = C*V;                     //charge in coulomb\n",
" D      = (e0*er*E)/(10^-3);       //displacement vector in c/m^2\n",
" P      = D-(e0*E/(10^-3));               //polarisation vector in c/m^2\n",
"\n",
"\n",
"//result\n",
" mprintf('capacitance = %3.2e,Farad\n',C);\n",
" mprintf('charge =%3.2e.coulomb\n',q);\n",
" mprintf('displacement =%3.2e.c/m^2\n',D);\n",
" mprintf('polarisation =%3.2e.c/m^2\n',P);\n",
" mprintf('Note:error in calculation of P,E value is taken as 5000 instead of 10^4\n');\n",
" \n",
" //============================================================================================="
   ]
   }
,
{
		   "cell_type": "markdown",
		   "metadata": {},
		   "source": [
			"## Example 4.16: To_find_phase_difference.sce"
		   ]
		  },
  {
"cell_type": "code",
	   "execution_count": null,
	   "metadata": {
	    "collapsed": true
	   },
	   "outputs": [],
"source": [
"\n",
"//===========================================================================\n",
"// chapter 4 example 16\n",
"\n",
"\n",
"clc;\n",
"clear;\n",
"\n",
"\n",
"//input data\n",
" t       = 18*10^-6;            //relaxation time in s\n",
" er1     = 1;                   //permitivity in F/m\n",
" er      = 1;                   //permitivity in F/m\n",
" t       = 18*10^-6;            //relaxation time in s\n",
" \n",
" //calculation\n",
" f               =   1/(2*%pi*t);               //frequency in Hz\n",
" theta_c             = atan(er1/er);\n",
" theta_c_deg          = theta_c*(180/%pi);\n",
" phi              = 90-theta_c_deg;             //phase difference in degrees\n",
" \n",
" \n",
" //result\n",
" mprintf('frequency = %3.2f KHz\n',(f/10^3));\n",
" mprintf('phase difference =%3.2f°\n',phi);\n",
" \n",
" //===========================================================================\n",
" "
   ]
   }
,
{
		   "cell_type": "markdown",
		   "metadata": {},
		   "source": [
			"## Example 4.1: To_find_dielectric_constant_of_argon_at_NTP.sce"
		   ]
		  },
  {
"cell_type": "code",
	   "execution_count": null,
	   "metadata": {
	    "collapsed": true
	   },
	   "outputs": [],
"source": [
"//==========================================================================\n",
"// chapter 4 example 1\n",
"\n",
"clc;\n",
"clear;\n",
"\n",
"//input data\n",
" alpha      = 1.8*10^-40;           //polarisability of argon in Fm^2\n",
" e0         = 8.85*10^-12;          //dielectric constant F/m\n",
" N1         = 6.02*10^23;           //avagadro number in mol^-1\n",
" x          = 22.4*10^3;            //volume in m^3\n",
" \n",
"//formula\n",
"//er-1=N*p/e0*E=(N/e0)*alpha\n",
"//calculation\n",
" N          = N1/double(x);                 //number of argon atoms in per unit volume in cm^3\n",
" N2         = N*10^6;                      //number of argon atoms in per unit volume in m^3\n",
" er     = 1+((N2/e0))*alpha;               //dielectric constant F/m\n",
"\n",
"\n",
"//result\n",
"mprintf('dielectric constant of argon=%3.7f\n',er);\n",
"//=========================================================================="
   ]
   }
,
{
		   "cell_type": "markdown",
		   "metadata": {},
		   "source": [
			"## Example 4.2: To_estimate_the_shift_of_the_electron_cloud.sce"
		   ]
		  },
  {
"cell_type": "code",
	   "execution_count": null,
	   "metadata": {
	    "collapsed": true
	   },
	   "outputs": [],
"source": [
"//========================================================================\n",
"// chapter 4 example 2\n",
"\n",
"clc;\n",
"clear;\n",
"\n",
"\n",
"//input dta\n",
" alpha       = 1.8*10^-40;       //polarisability of argon in F*m^2\n",
" E           = 2*10^5;           // in V/m\n",
" z           = 18;\n",
" e           = 1.6*10^-19;\n",
" \n",
" \n",
"//formula\n",
"//p=18*e*x\n",
"//calculation\n",
" p       = alpha*E;\n",
" x       = p/(18*e);     //shift of electron in m\n",
"\n",
"  \n",
"//result\n",
" mprintf('displacement=%3.2e.m\n',x);\n",
" \n",
"//======================================================================="
   ]
   }
,
{
		   "cell_type": "markdown",
		   "metadata": {},
		   "source": [
			"## Example 4.3: To_find_local_field_acting_on_a_given_molecule.sce"
		   ]
		  },
  {
"cell_type": "code",
	   "execution_count": null,
	   "metadata": {
	    "collapsed": true
	   },
	   "outputs": [],
"source": [
"//=======================================================================\n",
"// chapter 4 example 3\n",
"\n",
"clc;\n",
"clear;\n",
"\n",
"\n",
"//input data\n",
" E0    = 300*10^2;                  //local field in V/m\n",
" P1  = 3.398*10^-7;                 //dipole moment Coulomb/m\n",
" P2  = 2.124*10^-5;                 //dipole moment Coulomb/m\n",
" e0  = 8.85*10^-12;                 //permittivity in F/m\n",
" \n",
" \n",
"//formula\n",
"//E10Ci=E0-(2*Pi/3*e0)\n",
"//calculation\n",
" E10C1  = E0-((2*P1)/(3*e0));       //local field of benzene in V/m\n",
" E10C2  = E0-((2*P2)/(3*e0));      //local field of water in V/m\n",
" \n",
" //result\n",
" mprintf('local field of benzene=%3.2e.V/m\n',E10C1);\n",
" mprintf('local field of water=%3.2e.V/m\n',E10C2);\n",
" \n",
"//======================================================================="
   ]
   }
,
{
		   "cell_type": "markdown",
		   "metadata": {},
		   "source": [
			"## Example 4.4: To_find_polarisabilities_of_benzene_and_water.sce"
		   ]
		  },
  {
"cell_type": "code",
	   "execution_count": null,
	   "metadata": {
	    "collapsed": true
	   },
	   "outputs": [],
"source": [
"//=============================================================================================================\n",
"// chapter 4 example 4\n",
"\n",
"clc;\n",
"clear;\n",
"\n",
"//input data\n",
" p1 = 5.12*10^-34;        //p of benzene kg/m^3\n",
" p2 = 6.34*10^-34;      //p of water kg/m^3\n",
" e10C1  = 4.4*10^3;        //local field of benzene in V/m\n",
" e10C2  = 1570*10^3;        //local field of water in V/m\n",
" \n",
" \n",
"//formula\n",
"//p=alphai*e10Ci\n",
"//calculation\n",
" alpha1 = p1/e10C1;       //polarisability of benzene in F*m^2\n",
" alpha2 = p2/e10C2;     //polarisability of water in F*m^2\n",
"  \n",
"\n",
" //result\n",
" mprintf('polarisability of benzene=%3.2e.F*m^2\n',alpha1);\n",
" mprintf('polarisability of water=%3.2e.F*m^2\n',alpha2);\n",
" mprintf('Note: mistake in textbok,alpha1 value is printed as 1.16*10^-38 instead of 1.16*10^-37');\n",
" \n",
"//========================================================================================================"
   ]
   }
,
{
		   "cell_type": "markdown",
		   "metadata": {},
		   "source": [
			"## Example 4.5: To_find_polarisation_of_plates.sce"
		   ]
		  },
  {
"cell_type": "code",
	   "execution_count": null,
	   "metadata": {
	    "collapsed": true
	   },
	   "outputs": [],
"source": [
"//=======================================================================\n",
"//chapter 4 example 5\n",
"\n",
"clc;\n",
"clear;\n",
"\n",
"\n",
"//input data\n",
" e0     = 8.85*10^-12;          //abslute permitivity in (m^-3)*(kg^-1)*(s^4)*(A^2)\n",
" E      = 600*10^2;             //strength in V/cm\n",
" er1    = 2.28;          //dielectric constant of benzene in coulomb/m\n",
" er2    = 81;           //dielectric constant of water in coulomb/m\n",
"\n",
"\n",
"//fomula\n",
"//p=e0*E*(er-1)\n",
"//calculation\n",
" pB     = e0*E*(er1-1);     //polarisation of benzene in c/m^2\n",
" pW     = e0*E*(er2-1);        //polarisation of water in c/m^2\n",
" \n",
"\n",
"//result\n",
" mprintf('polarisation of benzene=%3.2e.c/m^2\n',pB);\n",
" mprintf('polarisation of water=%3.2e.c/m^2\n',pW);\n",
"\n",
"//========================================================================"
   ]
   }
,
{
		   "cell_type": "markdown",
		   "metadata": {},
		   "source": [
			"## Example 4.6: To_find_percentage_contribution_of_ionic_polarisability.sce"
		   ]
		  },
  {
"cell_type": "code",
	   "execution_count": null,
	   "metadata": {
	    "collapsed": true
	   },
	   "outputs": [],
"source": [
"//==============================================================================\n",
"// chapter 4 example 6\n",
"\n",
"clc;\n",
"clear;\n",
"\n",
"\n",
"//input data\n",
" er0  = 5.6;      //static dielectric cnstant of NaCl \n",
" n   = 1.5;          //optical index of refraction\n",
" \n",
"\n",
"//calculation\n",
" er = er0-n^2;\n",
" d  = (er/er0*100);\n",
" \n",
"//result \n",
" mprintf('percentage contribution from ionic polaristion=%3.2f percent\n',d);\n",
"\n",
"//==============================================================================="
   ]
   }
,
{
		   "cell_type": "markdown",
		   "metadata": {},
		   "source": [
			"## Example 4.7: To_find_separation_between_positive_and_negative_charges.sce"
		   ]
		  },
  {
"cell_type": "code",
	   "execution_count": null,
	   "metadata": {
	    "collapsed": true
	   },
	   "outputs": [],
"source": [
"//=========================================================================\n",
"// chaoter 4 example 7\n",
"clc;\n",
"clear;\n",
"\n",
"\n",
"//input data\n",
" alpha       = 0.18*10^-40;      //polarisability of He in F *m^2\n",
" E           = 3*10^5;               // constant in V/m\n",
" N           = 2.6*10^25;            //number of atoms in per m^3\n",
" e           = 1.6*10^-19;\n",
" \n",
" \n",
"//formula\n",
"//P=N*p\n",
"//charge of He=2*electron charge\n",
"//p=2(e*d)\n",
"//calculation\n",
" P      = N*alpha*E;            //in coul/m^2\n",
" p      = P/N;                  //polarisation of He in coul.m\n",
" d      = p/(2*e);              //separation between charges in m\n",
" \n",
" \n",
"//result \n",
" mprintf('separation=%3.2e.m\n',d);\n",
"\n",
"//======================================================================="
   ]
   }
,
{
		   "cell_type": "markdown",
		   "metadata": {},
		   "source": [
			"## Example 4.8: To_find_orientational_polarisation_at_room_temperature.sce"
		   ]
		  },
  {
"cell_type": "code",
	   "execution_count": null,
	   "metadata": {
	    "collapsed": true
	   },
	   "outputs": [],
"source": [
"//============================================================================\n",
"// chapter 4 example 8\n",
"clc;\n",
"clear;\n",
"\n",
"//input data\n",
" N      = 10^27;                   //number of HCl molecules in molecules/m^3\n",
" E      = 10^5;                   //electric field in V/m\n",
" P      = 1.04*3.33*10^-30;       //permanent dipole moment in coul.m\n",
" T      = 300;                   //temperature in kelvin\n",
" K      = 1.38*10^-23;\n",
" \n",
" \n",
"//calculation\n",
" P0     = (N*P^2*E)/(3*K*T);        //oriental polarisation in coul/m^2\n",
"\n",
" \n",
"//result\n",
" mprintf('oriental polarisation=%3.2e.coul/m^2\n',P0);\n",
" \n",
"//============================================================================="
   ]
   }
,
{
		   "cell_type": "markdown",
		   "metadata": {},
		   "source": [
			"## Example 4.9: To_find_relative_dielectric_constant.sce"
		   ]
		  },
  {
"cell_type": "code",
	   "execution_count": null,
	   "metadata": {
	    "collapsed": true
	   },
	   "outputs": [],
"source": [
"//======================================================================================================\n",
"// chapter 4 example 9\n",
"\n",
"clc;\n",
"clear;\n",
"\n",
"//input data \n",
" N      = 6.023*10^26;      //avagadro number  (lb-mol)^-1\n",
" alpha  = 3.28*10^-40;      //polarisability in F*m^2\n",
" M      = 32;               //molecular weight in kilograms\n",
" p      = 2.08*10^3;        //density of sulphur in g/cm^3\n",
" e0     = 8.85*10^12;       //permitivity in F/m\n",
"\n",
"//calculation\n",
" er = ((2*N*p*alpha)+(3*M*e0))/((3*M*e0)-(N*p*alpha));          \n",
"\n",
"//result\n",
"\n",
" mprintf('relative dielectric constant =%3.1f\n',er);\n",
" mprintf(' Note: calculation mistake in text book in calculating relative dielectric constant');\n",
"//=======================================================================================================\n",
" "
   ]
   }
],
"metadata": {
		  "kernelspec": {
		   "display_name": "Scilab",
		   "language": "scilab",
		   "name": "scilab"
		  },
		  "language_info": {
		   "file_extension": ".sce",
		   "help_links": [
			{
			 "text": "MetaKernel Magics",
			 "url": "https://github.com/calysto/metakernel/blob/master/metakernel/magics/README.md"
			}
		   ],
		   "mimetype": "text/x-octave",
		   "name": "scilab",
		   "version": "0.7.1"
		  }
		 },
		 "nbformat": 4,
		 "nbformat_minor": 0
}
