{
"cells": [
 {
		   "cell_type": "markdown",
	   "metadata": {},
	   "source": [
       "# Chapter 6: Electrical Conducting and Insulating materials"
	   ]
	},
{
		   "cell_type": "markdown",
		   "metadata": {},
		   "source": [
			"## Example 6.10: To_find_resistance.sce"
		   ]
		  },
  {
"cell_type": "code",
	   "execution_count": null,
	   "metadata": {
	    "collapsed": true
	   },
	   "outputs": [],
"source": [
"//==========================================================================================\n",
"// chapter 6 example 10\n",
"clc;\n",
"clear;\n",
"\n",
"\n",
"//input data\n",
" l         = 60;                //length in m\n",
" r2        = 38/2;             // radius of outer cylinder in m\n",
" r1        = 18/2;             //radius of inner cylinder in m\n",
" p         = 8000;            //specific resistance in ohm-m\n",
"\n",
"//calculation\n",
" R  = (p/(2*%pi*l))*log(r2/r1);     //insulation resistance of liquid resistor  in ohm\n",
"\n",
"//result\n",
"mprintf('insulation resistance=%3.0f ohm\n',R);\n",
"\n",
"//=========================================================================================="
   ]
   }
,
{
		   "cell_type": "markdown",
		   "metadata": {},
		   "source": [
			"## Example 6.11: To_find_resistivity.sce"
		   ]
		  },
  {
"cell_type": "code",
	   "execution_count": null,
	   "metadata": {
	    "collapsed": true
	   },
	   "outputs": [],
"source": [
"//==========================================================================\n",
"//chapter 6 example 11\n",
"clc;\n",
"clear;\n",
"\n",
"\n",
"//input data\n",
" d1  =0.0018;// inner diameter  in m\n",
" d2  =0.005;//outer diameter in m\n",
" R   =1820*10^6;//insulation resistance in ohm\n",
" l   =3000;//length in m\n",
"\n",
"\n",
"//formula\n",
" r1  =d1/2;//inner radius  in m\n",
" r2  =d2/2;//outer radius in m\n",
"\n",
"//calculation\n",
" p=2*%pi*l*R/log(r2/r1);//resistivity of dielectric in ohm-m\n",
" \n",
"//result\n",
" mprintf('resistivity=%3.3e.ohm-m\n',p);\n",
" \n",
"//=============================================================================="
   ]
   }
,
{
		   "cell_type": "markdown",
		   "metadata": {},
		   "source": [
			"## Example 6.12: To_find_insulation_resistance.sce"
		   ]
		  },
  {
"cell_type": "code",
	   "execution_count": null,
	   "metadata": {
	    "collapsed": true
	   },
	   "outputs": [],
"source": [
"//=============================================================================================\n",
"// chapter 6 example 12\n",
"clc;\n",
"clear;\n",
"\n",
"\n",
"//input data\n",
" d1 = 0.05;      //inner diametr in m\n",
" d2 = 0.07;      //outer diameter in m \n",
" l  = 2000;      //length in m\n",
" p  = 6*10^12;    //specific resistance in ohm-m\n",
" \n",
"\n",
"//formula\n",
" r1 = d1/2;      //radius in m\n",
" r2 = d2/2;      //radius in m\n",
"\n",
"//calculation\n",
" R = (p/(2*%pi*l))*(log(r2/r1))       //insulation resistance\n",
"\n",
"//result\n",
" mprintf('insulation resistance =%1e.ohm\n',R);\n",
" mprintf(' Note: calculation mistake in textbook in calculating insulating resistance');\n",
"\n",
"//=========================================================================================="
   ]
   }
,
{
		   "cell_type": "markdown",
		   "metadata": {},
		   "source": [
			"## Example 6.13: To_find_capacitance.sce"
		   ]
		  },
  {
"cell_type": "code",
	   "execution_count": null,
	   "metadata": {
	    "collapsed": true
	   },
	   "outputs": [],
"source": [
"//===============================================================================================================================================\n",
"// chapter 6 example 13\n",
"\n",
"clc;\n",
"clear;\n",
"\n",
"\n",
"//input data\n",
" a     = 110*10^-3;                  //area in m^2\n",
" d     = 2;                         //thickness in mm\n",
" er    = 5;                        //relative permitivity\n",
" E     = 12.5*10^3;                //electric field strength in V/mm\n",
" e0    = 8.854*10^-12;              //charge of electron in coulombs\n",
" \n",
" \n",
"//calculations\n",
" A     = a*a;                           //area in m^2\n",
" C     = e0*((er*A)/(d*10^-3))          //capacitance in F\n",
" V     = E*(d);\n",
" Q     = (C)*(V)                   //charge on capacitor in C\n",
" \n",
"// result\n",
" mprintf('capacitance =%3.2e.F\n',C);\n",
" mprintf(' charge=%3.4e C\n',Q);\n",
" \n",
" //=============================================================================================================================================="
   ]
   }
,
{
		   "cell_type": "markdown",
		   "metadata": {},
		   "source": [
			"## Example 6.14: To_find_charge_and_electric_flux_and_flux_density_and_electric_field_strength.sce"
		   ]
		  },
  {
"cell_type": "code",
	   "execution_count": null,
	   "metadata": {
	    "collapsed": true
	   },
	   "outputs": [],
"source": [
"//===========================================================================\n",
"// chapter 6 example 14\n",
"\n",
"\n",
"clc;\n",
"clear;\n",
"\n",
"\n",
"//input data\n",
" I       = 15*10^-3;                //current in A\n",
" t       = 5;                        //time in s\n",
" A       = 120*10^-3*120*10^-3;     //area in m^2\n",
" V       = 1000;                    //voltage in volts\n",
" d       = 10^-3;                   //thickness in m\n",
"\n",
"//calculation\n",
" Q      = I*t;                      //charge on capacitor in C\n",
"//since charge and electric field are equal\n",
" phi     = Q;                        //electric flux in mc\n",
" D      = Q/A;                      //electric flux density in c/m^2\n",
" E      = V/d;                      //electric field strength in dielectric\n",
"\n",
"//result\n",
"mprintf('charge=%3.2e.C\n',Q);\n",
"mprintf(' electric flux=%4.3f.mc\n',phi);\n",
"mprintf(' electric flux density=%3.4f.c/m^2\n',D);\n",
"mprintf(' electric field strength=%2.3e.V/m\n',E);\n",
"\n",
"//==================================================================================\n",
"\n",
""
   ]
   }
,
{
		   "cell_type": "markdown",
		   "metadata": {},
		   "source": [
			"## Example 6.15: To_find_capacitance.sce"
		   ]
		  },
  {
"cell_type": "code",
	   "execution_count": null,
	   "metadata": {
	    "collapsed": true
	   },
	   "outputs": [],
"source": [
"//==============================================================================\n",
"// chapter 6 example 15\n",
"\n",
"clc;\n",
"clear;\n",
"\n",
"\n",
"//input data\n",
" n        = 12;                   //number of plates\n",
" er       = 4;                   //relative permitivty \n",
" d        = 1.0*10^-3;          //distance between plates in m\n",
" A       = 120*150*10^-6;       //area in m^2\n",
" e0      = 8.854*10^-12;       // in F/m\n",
"\n",
"//calculation\n",
" c      = (n-1)*e0*er*A/d;         //capacitance in F\n",
" \n",
"//result\n",
"mprintf('capacitance=%3.4e.F\n',c);\n",
"\n",
"//=============================================================================="
   ]
   }
,
{
		   "cell_type": "markdown",
		   "metadata": {},
		   "source": [
			"## Example 6.16: To_find_thickness_of_insulation.sce"
		   ]
		  },
  {
"cell_type": "code",
	   "execution_count": null,
	   "metadata": {
	    "collapsed": true
	   },
	   "outputs": [],
"source": [
"//=============================================================================\n",
"// chpter 6 example 16\n",
"\n",
"clc;\n",
"clear;\n",
"\n",
"\n",
"//input data\n",
" e0     = 40000;        //dielectric strength  in volts/m\n",
" d      = 33000;        //thickness in kV\n",
" t      = d/e0;         //required thickness of insulation in mm\n",
" \n",
"//result\n",
"mprintf('thickness=%4f.mm\n',t);\n",
"\n",
"//==============================================================================="
   ]
   }
,
{
		   "cell_type": "markdown",
		   "metadata": {},
		   "source": [
			"## Example 6.17: To_find_area_and_breakdown_voltage.sce"
		   ]
		  },
  {
"cell_type": "code",
	   "execution_count": null,
	   "metadata": {
	    "collapsed": true
	   },
	   "outputs": [],
"source": [
"//===========================================================================\n",
"// chapter 6 example 17 \n",
"\n",
"\n",
"clc;\n",
"clear;\n",
"\n",
"\n",
"//input data\n",
" C      = 0.03*10^-6;           //capacitance in F\n",
" d      = 0.001;               //thickness in m\n",
" er     = 2.6;                 //dielectric constant\n",
" e0     = 8.85*10^-12;         //dielectric strength \n",
" E0     = 1.8*10^7 \n",
" \n",
"//formula\n",
"//C=e0*er*A/d\n",
"//e0=v/d\n",
"//calculation\n",
" A      = (C*d)/(e0*er);        //area of dielectric needed in m^2\n",
" Vb      = E0*d;                //breakdown voltage in m\n",
"\n",
"//result\n",
"mprintf('area=%3.2f.m^2\n',A);\n",
"mprintf(' breakdown voltage=%3.1e.V\n',Vb);\n",
"\n",
"//===========================================================================\n",
""
   ]
   }
,
{
		   "cell_type": "markdown",
		   "metadata": {},
		   "source": [
			"## Example 6.18: To_find_dielectric_loss.sce"
		   ]
		  },
  {
"cell_type": "code",
	   "execution_count": null,
	   "metadata": {
	    "collapsed": true
	   },
	   "outputs": [],
"source": [
"//===================================================================================\n",
"// chapter 6 example 18\n",
"\n",
"\n",
"clc;\n",
"clear;\n",
"\n",
"\n",
"//input data\n",
" C       = 0.035*10^-6;                      //capacitance in F\n",
" tangent    = 5*10^-4;                          //power factor \n",
" f       = 25*10^3;                          //frequency in Hz\n",
" I       = 250;                              //current in A\n",
" \n",
" \n",
"//calculation\n",
" V      = I/(2*%pi*f*C)                  //voltage across capacitor in volts\n",
" P      = V*I*tangent;                 //dielectric loss in watts\n",
"\n",
"//result\n",
"mprintf('dielectric loss=%3.2f.watts\n',P);\n",
"\n",
"//===================================================================================="
   ]
   }
,
{
		   "cell_type": "markdown",
		   "metadata": {},
		   "source": [
			"## Example 6.19: To_find_area.sce"
		   ]
		  },
  {
"cell_type": "code",
	   "execution_count": null,
	   "metadata": {
	    "collapsed": true
	   },
	   "outputs": [],
"source": [
"//==============================================================================\n",
"// chapter 6 exmple 19\n",
" \n",
"clc;\n",
"clear;\n",
"\n",
"//input data\n",
"\n",
" Q        = 20*10^-6;                //charge of electron in coulomb\n",
" V        = 10*10^3;                 //potential in V\n",
" e0       = 8.854*10^-12;           //absolute permitivity\n",
" d        = 5*10^-4;               //separation between plates in m\n",
" er       = 10;                   //dielectric constant\n",
"\n",
"//formula\n",
"//Q=CV\n",
"//C=er*e0*A/d\n",
" C       = Q/V;\n",
" A       = (C*d)/(er*e0);         //area in m^2\n",
" \n",
"//result\n",
"mprintf('area=%1e.m^2\n',A);\n",
"\n",
"//===============================================================================\n",
""
   ]
   }
,
{
		   "cell_type": "markdown",
		   "metadata": {},
		   "source": [
			"## Example 6.1: To_find_temperature_coefficient_of_resistance.sce"
		   ]
		  },
  {
"cell_type": "code",
	   "execution_count": null,
	   "metadata": {
	    "collapsed": true
	   },
	   "outputs": [],
"source": [
"//==============================================================================\n",
"// chapter 6 example 1\n",
"\n",
"clc;\n",
"clear;\n",
"\n",
"//input data \n",
"\n",
" R75    = 57.2;     //resistance at 75 C in ohm\n",
" R25    = 55;       //resistance at 25 C in ohm\n",
" t1     = 25;       //temperature in C\n",
" t2     = 75        // temperature in C\n",
"\n",
"//formula\n",
"//Rt = R0*(1+(alpha*t))\n",
"//calculation\n",
" alpha  = (R25-R75)/((25*R75)-(75*R25));        //temperature cofficient\n",
"\n",
"\n",
"//result\n",
" mprintf('temperature coefficient =%3.5f.K^-1',alpha);\n",
"\n",
"//====================================================================================="
   ]
   }
,
{
		   "cell_type": "markdown",
		   "metadata": {},
		   "source": [
			"## Example 6.20: To_find_thermal_cnductivity.sce"
		   ]
		  },
  {
"cell_type": "code",
	   "execution_count": null,
	   "metadata": {
	    "collapsed": true
	   },
	   "outputs": [],
"source": [
"// chapter 6 example 2o\n",
"\n",
"clc;\n",
"clear;\n",
"\n",
"\n",
"//input data\n",
" n  = 3.0*10^28;       //number of electrons per m^3\n",
" t   = 3*10^-14;     //time in s\n",
" m   = 9.1*10^-31;    //mass of electron in kg\n",
" L   = 2.44*10^-8;       //lorentz number in ohm W/K^2\n",
" T  = 330;          //temperature in kelvin \n",
" e   = 1.6*10^-19;       //charge of electron\n",
"\n",
"\n",
"//calculation\n",
" sigma  = n*e^2*t/m;    //electrical conductivity in (ohm-m)^-1\n",
" \n",
"//result\n",
" mprintf('electrial conductivity=%3.2e.(ohm-m)^-1\n',sigma);\n",
"\n",
"\n",
"\n",
"\n",
"\n",
"\n",
"\n",
"\n",
"\n",
"\n",
"\n",
"\n",
"\n",
"\n",
"\n",
"\n",
"\n",
"\n",
"\n",
"\n",
"\n",
"\n",
"\n",
"\n",
"\n",
"\n",
"\n",
"\n",
"\n",
"\n",
"\n",
"\n",
"\n",
"\n",
"810\n",
"\n",
"\n",
"\n",
"\n",
"\n",
"\n",
"\n",
"\n",
"\n",
"\n",
"\n",
"\n",
"\n",
"\n",
"622"
   ]
   }
,
{
		   "cell_type": "markdown",
		   "metadata": {},
		   "source": [
			"## Example 6.2: To_find_temperature.sce"
		   ]
		  },
  {
"cell_type": "code",
	   "execution_count": null,
	   "metadata": {
	    "collapsed": true
	   },
	   "outputs": [],
"source": [
"//====================================================================================\n",
"// chapter 6 example 2\n",
"\n",
"clc;\n",
"clear;\n",
"\n",
"//input data\n",
" R1     = 50;          //resistance in ohm at temperature  15°C\n",
" R2     = 60;          // resistance in ohm temperature  15°C\n",
" t1     = 15;          //temperature in °C\n",
" alpha  = 0.00425;     //temperature coefficient of resistance\n",
"\n",
"\n",
"//formula\n",
"//Rt = R0*(1+(alpha*t))\n",
"//Rt1/Rt2 = R0*(1+(alpha*t1))/R0*(1+(alpha*t2))\n",
"//calculation\n",
" R          = R2/R1;\n",
" X          = 1+(alpha*t1);\n",
" t2         = ((R*X)-1)/alpha;\n",
" \n",
" \n",
"\n",
"//result\n",
" mprintf('temperature coefficient of resistance =%3.2f°C\n',t2);\n",
"\n",
"//====================================================================================="
   ]
   }
,
{
		   "cell_type": "markdown",
		   "metadata": {},
		   "source": [
			"## Example 6.3: Tofind_cold_resistance_and_average_temperature_coefficient.sce"
		   ]
		  },
  {
"cell_type": "code",
	   "execution_count": null,
	   "metadata": {
	    "collapsed": true
	   },
	   "outputs": [],
"source": [
"//==========================================================================\n",
"// chapter 6 example 3\n",
"\n",
"clc;\n",
"clear;\n",
"\n",
"//input data\n",
" t1         = 20;                // temperature in °C\n",
" alpha      = 5*10^-3;          //average  temperature coefficient at 20°C \n",
" R1         = 8;               //resistance in ohm\n",
" R2         = 140;            //resistaance in ohm\n",
" \n",
" \n",
"//calculation\n",
" t2     = t1+((R2-R1)/(R1*alpha));       //temperature in C\n",
" \n",
"//result\n",
" mprintf('Hence temperature under normal condition is %3.2f°C\n',t2);\n",
"\n",
"//============================================================================"
   ]
   }
,
{
		   "cell_type": "markdown",
		   "metadata": {},
		   "source": [
			"## Example 6.4: To_find_resistivity.sce"
		   ]
		  },
  {
"cell_type": "code",
	   "execution_count": null,
	   "metadata": {
	    "collapsed": true
	   },
	   "outputs": [],
"source": [
"//========================================================================\n",
"//chapter 6 example 4\n",
"clc;\n",
"clear;\n",
"\n",
"\n",
"//input data\n",
" l     = 100;                      //length in cm\n",
" d     = 0.008;                   //diameter of wire in cm\n",
" R     = 95.5;                   //resistance in ohm\n",
" A    = %pi*0.004*0.004;        //cross-sectional area\n",
"\n",
"\n",
"//formula\n",
"//R=p*l/A\n",
"//calculation\n",
" p  = R*A/l;                    //;resistivity of wire in ohm-cm\n",
"\n",
"\n",
"//result\n",
"mprintf('resistivity=%3.2e ohm-m\n',p);\n",
"\n",
"//=========================================================================="
   ]
   }
,
{
		   "cell_type": "markdown",
		   "metadata": {},
		   "source": [
			"## Example 6.5: To_find_percentage_conductivity.sce"
		   ]
		  },
  {
"cell_type": "code",
	   "execution_count": null,
	   "metadata": {
	    "collapsed": true
	   },
	   "outputs": [],
"source": [
"//======================================================================================\n",
"//chapter 6 example 5\n",
"\n",
"clc;\n",
"clear;\n",
"\n",
"\n",
"//input data\n",
" R0       =17.5;            //resistance at 0 degree c in ohm\n",
" alpha    =0.00428;         //temperature coefficient of copper in per degree c\n",
" t        =16;              //temperature in degree\n",
"\n",
"\n",
"//formula\n",
" Rt     = R0*(1+(alpha*t));           //resistance at 16 degree  C\n",
" P       = (R0/Rt)*100;                      //percentage conductivity at 16 degree C\n",
"\n",
"\n",
"//result\n",
"mprintf('percentage conductivity=%3.2f.percent\n',P);\n",
"\n",
"//==========================================================================================="
   ]
   }
],
"metadata": {
		  "kernelspec": {
		   "display_name": "Scilab",
		   "language": "scilab",
		   "name": "scilab"
		  },
		  "language_info": {
		   "file_extension": ".sce",
		   "help_links": [
			{
			 "text": "MetaKernel Magics",
			 "url": "https://github.com/calysto/metakernel/blob/master/metakernel/magics/README.md"
			}
		   ],
		   "mimetype": "text/x-octave",
		   "name": "scilab",
		   "version": "0.7.1"
		  }
		 },
		 "nbformat": 4,
		 "nbformat_minor": 0
}
