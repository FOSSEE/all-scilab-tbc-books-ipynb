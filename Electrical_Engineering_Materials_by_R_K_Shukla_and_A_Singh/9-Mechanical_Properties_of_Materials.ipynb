{
"cells": [
 {
		   "cell_type": "markdown",
	   "metadata": {},
	   "source": [
       "# Chapter 9: Mechanical Properties of Materials"
	   ]
	},
{
		   "cell_type": "markdown",
		   "metadata": {},
		   "source": [
			"## Example 9.1: To_find_elongation.sce"
		   ]
		  },
  {
"cell_type": "code",
	   "execution_count": null,
	   "metadata": {
	    "collapsed": true
	   },
	   "outputs": [],
"source": [
"//=========================================================================================\n",
"// chapter 9 example 1\n",
"clc\n",
"clear\n",
"\n",
"// Variable declaration\n",
"F   = 8482;     // Tensile force in newtons\n",
"lo  = 0.30;     // length of steel wire in cm\n",
"Y   = 207*10^9; // Youngs modulus of steel Gpa\n",
"r   = 3*10^-3;  // radius of steel wire  in m\n",
"v   = 0.30;     // poisson ratio\n",
"\n",
"// Calculations\n",
"\n",
"dl  = (F*lo)/(Y*%pi*r^2);       // elongation in mm\n",
"e1  = dl/lo                     // longitudanl strain \n",
"e2  = v*e1                      // lateral strain \n",
"dr  = e2*r;                     // lateral contraction in m\n",
" \n",
"// Result\n",
"mprintf('Elongation = %3.3f mm\n Lateral contraction = %3.1f um',dl/10^-3,dr/10^-6);\n",
"\n",
"//============================================================================================="
   ]
   }
,
{
		   "cell_type": "markdown",
		   "metadata": {},
		   "source": [
			"## Example 9.3: To_find_stress.sce"
		   ]
		  },
  {
"cell_type": "code",
	   "execution_count": null,
	   "metadata": {
	    "collapsed": true
	   },
	   "outputs": [],
"source": [
"//=============================================================================\n",
"// chapter 9 example 3\n",
"\n",
"clc\n",
"clear\n",
"\n",
"// Variable declaration\n",
"\n",
"P   = 400;          // tensile force in newtons \n",
"d   = 6*10^-3;      // diameter of steel rod m\n",
"\n",
"// Calculations\n",
"r   =d/2;\n",
"E_stress = P/((%pi/4)*r*r);         //e_stress in N/m^2\n",
"\n",
"// Result\n",
"\n",
"mprintf('Engineering stress = %3.2f MPa',E_stress/10^6);\n",
"\n",
"//==========================================================================="
   ]
   }
,
{
		   "cell_type": "markdown",
		   "metadata": {},
		   "source": [
			"## Example 9.4: To_find_strain.sce"
		   ]
		  },
  {
"cell_type": "code",
	   "execution_count": null,
	   "metadata": {
	    "collapsed": true
	   },
	   "outputs": [],
"source": [
"//==========================================================================\n",
"// chapter 9 example 4\n",
"clc\n",
"clear\n",
"\n",
"// Variable declaration\n",
"Lf  = 42.3;         // guage length after strain mm\n",
"Lo  = 40;           // guage length in mm\n",
"\n",
"// Calculations\n",
"e   = ((Lf - Lo)/Lo)*100      // Engineering Strain in percent\n",
"\n",
"// Result\n",
"mprintf('Percentage of elongation = %3.2f percent',e);\n",
"\n",
"//==========================================================================="
   ]
   }
,
{
		   "cell_type": "markdown",
		   "metadata": {},
		   "source": [
			"## Example 9.5: To_find_ductility.sce"
		   ]
		  },
  {
"cell_type": "code",
	   "execution_count": null,
	   "metadata": {
	    "collapsed": true
	   },
	   "outputs": [],
"source": [
"//=========================================================================\n",
"// chapter 9 example 5\n",
"\n",
"clc;\n",
"clear;\n",
"\n",
"// Variable declaration\n",
"\n",
"dr  = 12.8      // original diameter of steel wire in mm\n",
"df  = 10.7;     // diameter at fracture in mm\n",
"\n",
"// Calculations\n",
"\n",
"percent_red = (((%pi*dr*dr) - (%pi*df*df))/(%pi*dr*dr))*100;\n",
"\n",
"\n",
"// Result\n",
"\n",
"mprintf('Percent reduction in area = %3.2f percent',percent_red);\n",
"\n",
"//========================================================================"
   ]
   }
],
"metadata": {
		  "kernelspec": {
		   "display_name": "Scilab",
		   "language": "scilab",
		   "name": "scilab"
		  },
		  "language_info": {
		   "file_extension": ".sce",
		   "help_links": [
			{
			 "text": "MetaKernel Magics",
			 "url": "https://github.com/calysto/metakernel/blob/master/metakernel/magics/README.md"
			}
		   ],
		   "mimetype": "text/x-octave",
		   "name": "scilab",
		   "version": "0.7.1"
		  }
		 },
		 "nbformat": 4,
		 "nbformat_minor": 0
}
