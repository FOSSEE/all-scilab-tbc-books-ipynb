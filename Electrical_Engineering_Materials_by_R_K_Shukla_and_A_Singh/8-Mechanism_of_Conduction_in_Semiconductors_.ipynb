{
"cells": [
 {
		   "cell_type": "markdown",
	   "metadata": {},
	   "source": [
       "# Chapter 8: Mechanism of Conduction in Semiconductors "
	   ]
	},
{
		   "cell_type": "markdown",
		   "metadata": {},
		   "source": [
			"## Example 8.10: To_find_conductivity.sce"
		   ]
		  },
  {
"cell_type": "code",
	   "execution_count": null,
	   "metadata": {
	    "collapsed": true
	   },
	   "outputs": [],
"source": [
"//====================================================================================================================================================================\n",
"// chapter 8 example 10\n",
"\n",
"clc;\n",
"clear;\n",
"\n",
"// Variable declaration\n",
"p   = 5.32*10^3;        // density of germanium\n",
"Nav = 6.023*10^26;      // Avagadros number\n",
"AW  = 72.59;            // atomic wt\n",
"ni  = 1.5*10^19         // carrier density\n",
"ue  = 0.36\n",
"uh  = 0.18\n",
"e   = 1.6*10^-19\n",
"\n",
"// calculations\n",
"N   = (p*Nav)/AW        // no of germanium atoms per unit volume\n",
"Nd  = N*10^-6           // no of pentavalent impurity atoms/m^3\n",
"f   = Nd/ni\n",
"nh  = ni^2/Nd           // hole conc\n",
"sigma = e*((Nd*ue)+(nh*uh))\n",
"\n",
"// Result\n",
"mprintf('The factor by which the majority conc. is more than the intrinsic carrier conc = %d\n Hole concentration = %3.1e /m^3\n Conductivity = %d /ohm-m',f,nh,sigma)\n",
"\n",
"//===================================================================================================================================================================="
   ]
   }
,
{
		   "cell_type": "markdown",
		   "metadata": {},
		   "source": [
			"## Example 8.11: To_find_carrier_density.sce"
		   ]
		  },
  {
"cell_type": "code",
	   "execution_count": null,
	   "metadata": {
	    "collapsed": true
	   },
	   "outputs": [],
"source": [
"//=========================================================================\n",
"// chapter 8 example 11\n",
"\n",
"clc;\n",
"clear;\n",
"\n",
"// variable declaration\n",
"p   = 5*10^-3;          // resistivity in ohm-m\n",
"ue  = 0.3;              // electron mobility m^2/volt-s\n",
"uh  = 0.1;              // hole mobility m^2/volt-s\n",
"e   = 1.6*10^-19        // charge of electron in coulombs\n",
"\n",
"// calculations\n",
"sigma   = 1/p;                   // conductivity in per ohm -m\n",
"n       = sigma/(e*(ue + uh));  // carrier density per m^3\n",
"\n",
"// Result\n",
"mprintf('Carrier Density = %3.1e /m^3',n);\n",
"\n",
"//=========================================================================="
   ]
   }
,
{
		   "cell_type": "markdown",
		   "metadata": {},
		   "source": [
			"## Example 8.12: To_find_drift_velocity.sce"
		   ]
		  },
  {
"cell_type": "code",
	   "execution_count": null,
	   "metadata": {
	    "collapsed": true
	   },
	   "outputs": [],
"source": [
"//===========================================================================\n",
"// chapter 8 example 12\n",
"\n",
"clc;\n",
"clear;\n",
"\n",
"// Variable declaration\n",
"Jd  = 500;      // current density A/m^2\n",
"p   = 0.05      // resistivity in ohm-m\n",
"l   = 100*10^-6     // travel length m\n",
"ue  = 0.4;          // electron mobility m^2/Vs\n",
"e   = 1.6*10^-19;   // charge of electron in coulombs\n",
"\n",
"\n",
"// Calculations\n",
"ne  = 1/(p*e*ue);       //iin per m^3\n",
"vd  = Jd/(ne*e);            //drift velocity in m/s\n",
"t   = l/vd;                 //time teken in s\n",
"\n",
"// result\n",
"mprintf('Drift velocity = %d m/s\n time = %e s',vd,t);\n",
"\n",
"//============================================================================="
   ]
   }
,
{
		   "cell_type": "markdown",
		   "metadata": {},
		   "source": [
			"## Example 8.13: To_know_about_changes_in_temperature.sce"
		   ]
		  },
  {
"cell_type": "code",
	   "execution_count": null,
	   "metadata": {
	    "collapsed": true
	   },
	   "outputs": [],
"source": [
"//=======================================================================================================\n",
"// Chapter 8 example 13\n",
"\n",
"clc;\n",
"clear;\n",
"\n",
"T        = 300;                  // room temperature in K\n",
"psi1       =100;                //\n",
"psi2     = 130;\n",
"\n",
"\n",
"\n",
"// T+dT = 1/((1/T)-(2k/Eg)log1.3)\n",
"// T+dT = 305.9\n",
"dT  = 305.9 - 300;\n",
"\n",
"\n",
"mprintf('Therefore %3.1f K rise in temperature will lead to a rise of 30 percent in conductivity',dT)\n",
"\n",
"//========================================================================================================"
   ]
   }
,
{
		   "cell_type": "markdown",
		   "metadata": {},
		   "source": [
			"## Example 8.14: To_find_conductivity.sce"
		   ]
		  },
  {
"cell_type": "code",
	   "execution_count": null,
	   "metadata": {
	    "collapsed": true
	   },
	   "outputs": [],
"source": [
"//=================================================================================================\n",
"// Chapter 8 example 14\n",
"\n",
"clc;\n",
"clear;\n",
"\n",
"// variable declaration\n",
"v   = 5;            // voltage in volts\n",
"r   = 10;           // resistance in k-ohm\n",
"J   = 60;           // current density in A/cm^2\n",
"E   = 100;          // electric field in V.m^-1\n",
"Nd  = 5*10^15;      //in cm^-3\n",
"up  = 410;          // approx hole mobility cm^2/V-s\n",
"Na  = 1.25*10^16;   // approx in cm^-3\n",
"e   = 1.6*10^-19;   // charge of electron in coulombs\n",
"\n",
"// Calculations\n",
"I   = v/r;              // total current A\n",
"A   = I/J               // cross sectional area cm^2\n",
"L   = v/E               // length of resistor cm\n",
"sigma = L/(r*A);        //conductivity in (ohm-cm)^-1\n",
"sigma_comp = e*up*(Na - Nd);        //conductivity in (ohm-cm)^-1\n",
"\n",
"// Result\n",
"mprintf('Conductivity of the compensated p-type semiconductor is %3.3f',sigma_comp);\n",
"\n",
"//========================================================================================================\n",
""
   ]
   }
,
{
		   "cell_type": "markdown",
		   "metadata": {},
		   "source": [
			"## Example 8.15: To_find_diffusion_current_density.sce"
		   ]
		  },
  {
"cell_type": "code",
	   "execution_count": null,
	   "metadata": {
	    "collapsed": true
	   },
	   "outputs": [],
"source": [
"//==============================================================================\n",
"// chapter 8 example 15\n",
"\n",
"clc;\n",
"clear;\n",
"\n",
"// Variable declaration\n",
"e   = 1.6*10^-19;       // charge of electron in coulombs\n",
"Dn  = 250;              // electron diffusion co-efficient cm^2/s\n",
"n1  = 10^18             // electron conc. in cm^-3\n",
"n2  = 7*10^17           // electron conc. in cm^-3\n",
"dx  = 0.10              // distance in cm\n",
"\n",
"// Calculations\n",
"Jdiff   = e*Dn*((n1-n2)/dx);    // diffusion current density A/cm^2\n",
"\n",
"// Result\n",
"mprintf('Diffusion Current Density = %d A/cm^2',Jdiff);\n",
"\n",
"//================================================================================="
   ]
   }
,
{
		   "cell_type": "markdown",
		   "metadata": {},
		   "source": [
			"## Example 8.16: To_find_wavelength.sce"
		   ]
		  },
  {
"cell_type": "code",
	   "execution_count": null,
	   "metadata": {
	    "collapsed": true
	   },
	   "outputs": [],
"source": [
"//==================================================================================\n",
"// Chapter 8 example 16\n",
"\n",
"clc;\n",
"clear;\n",
"\n",
"// Variable declaration\n",
"e   = 1.6*10^-19       // charge of electron in coulombs\n",
"Eg  = 0.75;             // bandgap energy eV\n",
"c   = 3*10^8;           // velocity of light in m\n",
"h   = 6.62*10^-34       // plancks constant in J.s\n",
"\n",
"// Calculations\n",
"lamda   = (h*c)/(Eg*e)     // wavelength in Å\n",
"\n",
"// Result\n",
"mprintf('Wavelength at which Ge starts to absorb light = %d Å',lamda*10^10);\n",
"\n",
"//==================================================================================="
   ]
   }
,
{
		   "cell_type": "markdown",
		   "metadata": {},
		   "source": [
			"## Example 8.17: To_find_cut_off_wavelength.sce"
		   ]
		  },
  {
"cell_type": "code",
	   "execution_count": null,
	   "metadata": {
	    "collapsed": true
	   },
	   "outputs": [],
"source": [
"//===============================================================================================\n",
"// chapter 8 example 17\n",
"\n",
"clc;\n",
"clear;\n",
"\n",
"// Variable Declaration\n",
"\n",
"  Eg        = 1.35*1.6*10^-19;          //energy in eV\n",
"  h         = 6.63*10^-34;             //plancks constant in J.s\n",
"  c         = 3*10^8;               //velocity in m\n",
"  \n",
"  //calculation\n",
"  lamda     = (h*c)/Eg;             //wavelength in m\n",
"  \n",
"  //result\n",
"  mprintf('cutoff wavelength =%3.2e m\n',lamda);\n",
"  \n",
"  //==============================================================================================\n",
"  "
   ]
   }
,
{
		   "cell_type": "markdown",
		   "metadata": {},
		   "source": [
			"## Example 8.18: To_find_energy.sce"
		   ]
		  },
  {
"cell_type": "code",
	   "execution_count": null,
	   "metadata": {
	    "collapsed": true
	   },
	   "outputs": [],
"source": [
"//====================================================================\n",
"// Chapter 8 example 18\n",
"\n",
"clc;\n",
"clear;\n",
"\n",
"// Variable declaration\n",
"h   = 6.62*10^-34       // plancks constant J.s\n",
"c   = 3*10^8;           // velocity of light in m\n",
"lamda = 1771*10^-9;     // wavelengthg in m\n",
"e   = 1.6*10^-19        // charge of electron in coulombs\n",
"\n",
"// Calculations\n",
"Eg  = (h*c)/(lamda*e);      // bandgap energy eV\n",
"\n",
"// Result\n",
"mprintf('bandgap energy = %3.3f eV',Eg);\n",
"\n",
"//===================================================================="
   ]
   }
,
{
		   "cell_type": "markdown",
		   "metadata": {},
		   "source": [
			"## Example 8.19: To_find_hall_voltage.sce"
		   ]
		  },
  {
"cell_type": "code",
	   "execution_count": null,
	   "metadata": {
	    "collapsed": true
	   },
	   "outputs": [],
"source": [
"//===========================================================================\n",
"// Chapter 8 example 19\n",
"\n",
"clc;\n",
"clear;\n",
"\n",
"// Variable declaration\n",
"Nd  = 10^21;        // donar density per in  m^3\n",
"H   = 0.6;          // magnetic field in T\n",
"J   = 500;          // current density A/m^2\n",
"d   = 3*10^-3;      // width in m\n",
"e   = 1.6*10^-19        // charge of electron coulombs\n",
"\n",
"// Calculations\n",
"Ey  = (J*H)/(Nd*e)      // field in V/m \n",
"vh  = Ey*d;             // hall voltage V\n",
"\n",
"// Result\n",
"mprintf('Hall Voltage = %3.1f mV',vh*10^3);\n",
"\n",
"//==========================================================================="
   ]
   }
,
{
		   "cell_type": "markdown",
		   "metadata": {},
		   "source": [
			"## Example 8.1: To_find_kinetic_energy_and_momenta.sce"
		   ]
		  },
  {
"cell_type": "code",
	   "execution_count": null,
	   "metadata": {
	    "collapsed": true
	   },
	   "outputs": [],
"source": [
"//=====================================================================================================================================\n",
"// chapter 8 example 1\n",
"\n",
"clc;\n",
"clear;\n",
"\n",
"// Variable declaration\n",
"Ephoton = 1.5;          // energy of photon in eV\n",
"Eg      = 1.4;          // energy gap in eV\n",
"m       = 9.1*10^-31;   // mass of electron in kg\n",
"e       = 1.6*10^-19;      //charge ofelectro in coulombs\n",
"me_GaAs = 0.07;             //times of electro mass in kilograms\n",
"mh_GaAs = 0.068;             //times of electro mass in kilograms\n",
"\n",
"// Calculations\n",
"Eke     = Ephoton - Eg;               //energy on eV\n",
"pe      = sqrt(2*m*me_GaAs*Eke*e)     // momentum of electrons  in kg m/s\n",
"ph      = sqrt(2*m*mh_GaAs*Eke*e)     // momentum of electrons in kg m/s\n",
"\n",
"\n",
"// Result\n",
"mprintf('Kinetic Energy = %3.1f eV\n Momentum of electrons = %3.1e kg m/s\n Momentum of holes = %3.1e kg m/s',Eke,pe,ph);\n",
"\n",
"//========================================================================================================================================="
   ]
   }
,
{
		   "cell_type": "markdown",
		   "metadata": {},
		   "source": [
			"## Example 8.20: To_find_current_density.sce"
		   ]
		  },
  {
"cell_type": "code",
	   "execution_count": null,
	   "metadata": {
	    "collapsed": true
	   },
	   "outputs": [],
"source": [
"//=============================================================================\n",
"// Chapter 8 example 20\n",
"\n",
"clc;\n",
"clear;\n",
"\n",
"// Variable declaration\n",
"e   = 1.6*10^-19        // charge of electron\n",
"Rh  = -0.0125;          // hall co-efficient\n",
"ue  = 0.36;             // electron mobility\n",
"E   = 80;               // electric field\n",
"\n",
"// Calculations\n",
"n   = -1/(Rh*e)\n",
"J   = n*e*ue*E          // current density\n",
"\n",
"// Result\n",
"mprintf('Current density = %d Ampere/m^2',J);\n",
"\n",
"//=============================================================================="
   ]
   }
,
{
		   "cell_type": "markdown",
		   "metadata": {},
		   "source": [
			"## Example 8.21: To_find_hall_coefficient.sce"
		   ]
		  },
  {
"cell_type": "code",
	   "execution_count": null,
	   "metadata": {
	    "collapsed": true
	   },
	   "outputs": [],
"source": [
"//=============================================================================\n",
"// Chapter 8 example 21\n",
"\n",
"clc;\n",
"clear;\n",
"\n",
"// Variable declaration\n",
"p   = 0.00893;      // resistivity  in ohm-m  \n",
"Hz  = 0.5;          // field in weber/m^2\n",
"Rh  = 3.66*10^-4;   // hall co-efficient hall coefficient in m^3\n",
"\n",
"// Calculations\n",
"\n",
"u   = Rh/p;                 //mobility of charge cerrier in m^2*(V^-1)*s^-1\n",
"theta_h = (atan(u*Hz))*(180/%pi);      // hall angle in degrees\n",
"\n",
"// Result\n",
"mprintf('Hall angle = %3.4f degrees',theta_h);\n",
"\n",
"//============================================================================="
   ]
   }
,
{
		   "cell_type": "markdown",
		   "metadata": {},
		   "source": [
			"## Example 8.2: To_find_thermal_equilibrium_hole_concentration.sce"
		   ]
		  },
  {
"cell_type": "code",
	   "execution_count": null,
	   "metadata": {
	    "collapsed": true
	   },
	   "outputs": [],
"source": [
"//===============================================================================================\n",
"// chapter 8 example 2\n",
"\n",
"clc;\n",
"clear;\n",
"\n",
"// Variable Declaration\n",
"T1  = 300;               // temperature in kelvin\n",
"nv  = 1.04*10^19;       //in cm^-3\n",
"T2  = 400;              //temperature in K\n",
"fl  = 0.25;            // fermi level position in eV\n",
"\n",
"// Calculations\n",
"Nv  = (1.04*10^19)*(T2/T1)^(3/2);           //Nv at 400 k in cm^-3\n",
"kT  = (0.0259)*(T2/T1);                     //kT in eV\n",
"po  = Nv*exp(-(fl)/(kT));                   //hole oncentration in cm^-3\n",
"\n",
"\n",
"// Result\n",
"mprintf('Thermal equilibrium hole concentration = %3.2e cm^-3\n ',po);\n",
"mprintf('Note: Calculation mistake in textbook Nv is not multiplied by exponentiation');\n",
"\n",
"//==================================================================================================="
   ]
   }
,
{
		   "cell_type": "markdown",
		   "metadata": {},
		   "source": [
			"## Example 8.3: To_find_intrinsic_carrier_concentration.sce"
		   ]
		  },
  {
"cell_type": "code",
	   "execution_count": null,
	   "metadata": {
	    "collapsed": true
	   },
	   "outputs": [],
"source": [
"//===============================================================================================================================================\n",
"// Chapter 8 example 3\n",
"\n",
"clc;\n",
"clear;\n",
"\n",
"// Variable declaration\n",
"Nc  = 3.8*10^17;            //constant in cm^-3\n",
"Nv  = 6.5*10^18;           //constant in cm^-3\n",
"Eg  = 1.42;                // band gap energy in eV\n",
"KT1 = 0.03885;            // kt value at 450K\n",
"T1  = 300;                //temperature in K\n",
"T2  = 450;                //temperature in K\n",
"\n",
"// calculation\n",
"n1i  = sqrt(Nc*Nv*exp(-Eg/0.0259));             // intrinsic carrier concentration in cm^-3\n",
"n2i  = sqrt(Nc*Nv*((T2/T1)^3) *exp(-Eg/KT1));     // intrinsic carrier conc at 450K in cm^-3\n",
"\n",
"// Result\n",
"mprintf('Intrinsic Carrier Concentration at 300K = %3.2e cm^-3\n Intrinsic Carrier Concentration at 300K = %3.2e cm^-3',n1i,n2i)\n",
"mprintf('\n Note : Calculation mistake in textbook in finding carrier conc. at 450K')\n",
"\n",
"\n",
"//================================================================================================================================================"
   ]
   }
,
{
		   "cell_type": "markdown",
		   "metadata": {},
		   "source": [
			"## Example 8.4: To_find_position_of_intrinsic_fermi_level.sce"
		   ]
		  },
  {
"cell_type": "code",
	   "execution_count": null,
	   "metadata": {
	    "collapsed": true
	   },
	   "outputs": [],
"source": [
"//======================================================================================================\n",
"// Chapter 8 example 4\n",
"\n",
"clc;\n",
"clear;\n",
"\n",
"// variable declaration\n",
"\n",
"mh  = 0.56;             //masses interms of m0\n",
"me  = 1.08;             //masses interms of m0\n",
"t   = 27;               //temperature in °C\n",
"k   = 8.62*10^-5;\n",
"\n",
"\n",
"// Calculations\n",
"T   = t+273;                    //temperature in K\n",
"fl  = (3/4)*k*T*log(mh/me);          //position of fermi level in eV\n",
"\n",
"// result\n",
"mprintf('The position of Fermi level with respect to middle of the bandgap is %3.1f meV',fl/10^-3)\n",
"\n",
"//=========================================================================================================="
   ]
   }
,
{
		   "cell_type": "markdown",
		   "metadata": {},
		   "source": [
			"## Example 8.5: To_find_donor_binding_energy.sce"
		   ]
		  },
  {
"cell_type": "code",
	   "execution_count": null,
	   "metadata": {
	    "collapsed": true
	   },
	   "outputs": [],
"source": [
"//================================================================================\n",
"// chapter 8 example 5\n",
"\n",
"clc;\n",
"clear;\n",
"\n",
"// variable declaration\n",
"mo  = 9.11*10^-31;          // mass of electron inkilograms\n",
"e   = 1.6*10^-19;           // charge of electron in coulombs\n",
"er  = 13.2;                 //relative permitivity in F/m\n",
"eo  = 8.85*10^-12;          // permitivity in F/m\n",
"h   = 6.63*10^-34;          // plancks constant J.s\n",
"me  = 0.067*mo;           \n",
"\n",
"// Calculations\n",
"\n",
"E   = (me*e^4)/(8*(eo*er)^2 * h^2 * e);         //energy in eV    \n",
"\n",
"// Result\n",
"mprintf('Donor binding energy = %3.4f eV',E);\n",
"\n",
"//=============================================================================="
   ]
   }
,
{
		   "cell_type": "markdown",
		   "metadata": {},
		   "source": [
			"## Example 8.6: To_find_position_of_fermi_level.sce"
		   ]
		  },
  {
"cell_type": "code",
	   "execution_count": null,
	   "metadata": {
	    "collapsed": true
	   },
	   "outputs": [],
"source": [
"//==============================================================================================================\n",
"// Chapter 8 example 6\n",
"\n",
"clc;\n",
"clear;\n",
"\n",
"// Variable declaration\n",
"no      = 10^17     // doping carrier conc\n",
"ni      = 1.5*10^10;        // intrinsic concentration\n",
"kT      = 0.0259\n",
"\n",
"// Calculations\n",
"po      = (ni^2)/no\n",
"fl      = kT*log10(no/ni)\n",
"\n",
"// Result\n",
"mprintf('Equlibrium hole concentration = %3.2e cm^-3\n Position of fermi energy level = %3.3f eV',po,fl)\n",
"\n",
"//================================================================================================================"
   ]
   }
,
{
		   "cell_type": "markdown",
		   "metadata": {},
		   "source": [
			"## Example 8.7: To_find_electrical_conductivity.sce"
		   ]
		  },
  {
"cell_type": "code",
	   "execution_count": null,
	   "metadata": {
	    "collapsed": true
	   },
	   "outputs": [],
"source": [
"//=============================================================================\n",
"// Chapter 8 example 7\n",
"\n",
"clc;\n",
"clear;\n",
"\n",
"// Variable declaration\n",
"\n",
"k   = 8.62*10^-5;           //in eV/K\n",
"Eg  = 1.10;                 //energy in eV\n",
" t1 = 200;                  //temperature in °C\n",
" t2 = 27;                  //temperature in °C\n",
" psi = 2.3*10^3;\n",
"\n",
"// Calculations\n",
"// sigma = sigmao*exp(-Eg/(2kT))\n",
"// k     = sigma_473/sigma_300;\n",
" t3  = t1+273;              //temperature in K\n",
" t4  = t2+273;               //temperature in K\n",
" k1        = exp((-Eg)/(2*k*t3));          //electrical conductivity in cm^-1.m^-1\n",
" k2        = exp((-Eg)/(2*k*t4));          //electrical conductivity in cm^-1.m^-1\n",
" k         = k1/k2;\n",
" pm=      k/psi;\n",
"\n",
"// Result\n",
"\n",
" mprintf('electrical conductivity of pure silicon =%3.2e.ohm^-1.m^-1\n',k);\n",
" mprintf('Note:calculation mistake in electrical conductivity,and units of conductivity');\n",
" \n",
" //================================================================================"
   ]
   }
,
{
		   "cell_type": "markdown",
		   "metadata": {},
		   "source": [
			"## Example 8.8: To_find_resistivity.sce"
		   ]
		  },
  {
"cell_type": "code",
	   "execution_count": null,
	   "metadata": {
	    "collapsed": true
	   },
	   "outputs": [],
"source": [
"//==============================================================================\n",
"// Chapter 8 example 8\n",
"\n",
"clc;\n",
"clear;\n",
"\n",
"// Variable declaration\n",
"ni  = 2.5*10^19;            // carrier density in per m^3\n",
"q   = 1.6*10^-19;           // charge of electron in coulombs\n",
"un  = 0.35;                 //mobility of electrons in m^2/V-s\n",
"up  = 0.15;                 //mobility of electrons in m^2/V-s\n",
"\n",
"// Calculations\n",
"sigma = ni*q*(un + up);         //conductivity in per ohm-m\n",
"p     = 1/sigma;                //resistivity in ohm-m\n",
"\n",
"\n",
"// Result\n",
"mprintf('Resistivity = %3.1f ohm-m',p);\n",
"\n",
"\n",
"//=================================================================================="
   ]
   }
,
{
		   "cell_type": "markdown",
		   "metadata": {},
		   "source": [
			"## Example 8.9: To_find_intrinsic_carrier_density.sce"
		   ]
		  },
  {
"cell_type": "code",
	   "execution_count": null,
	   "metadata": {
	    "collapsed": true
	   },
	   "outputs": [],
"source": [
"//==============================================================================\n",
"// chapter 8 example 9\n",
"\n",
"clc;\n",
"clear;\n",
"\n",
"// Variable declaration\n",
"p  = 3.16*10^3;            // resistivity ohm-m\n",
"e  = 1.6*10^-19;           // charge of electron in coulombs\n",
"ue = 0.14;                 //mobility of electrons in m^2/V-s\n",
"uh = 0.05;                  //mobility of holes in m^2/V-s\n",
"\n",
"// Calculations\n",
"\n",
"n  = 1/((p*e)*(ue + uh));           //carrier density  in perm^3\n",
"\n",
"// Result\n",
"mprintf('Intrinsic Carrier Concentration = %3.2e /m^3',n);\n",
"\n",
"//=============================================================================="
   ]
   }
],
"metadata": {
		  "kernelspec": {
		   "display_name": "Scilab",
		   "language": "scilab",
		   "name": "scilab"
		  },
		  "language_info": {
		   "file_extension": ".sce",
		   "help_links": [
			{
			 "text": "MetaKernel Magics",
			 "url": "https://github.com/calysto/metakernel/blob/master/metakernel/magics/README.md"
			}
		   ],
		   "mimetype": "text/x-octave",
		   "name": "scilab",
		   "version": "0.7.1"
		  }
		 },
		 "nbformat": 4,
		 "nbformat_minor": 0
}
