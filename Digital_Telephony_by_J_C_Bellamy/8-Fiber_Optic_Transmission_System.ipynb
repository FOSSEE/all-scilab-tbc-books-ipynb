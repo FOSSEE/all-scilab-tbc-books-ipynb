{
"cells": [
 {
		   "cell_type": "markdown",
	   "metadata": {},
	   "source": [
       "# Chapter 8: Fiber Optic Transmission System"
	   ]
	},
{
		   "cell_type": "markdown",
		   "metadata": {},
		   "source": [
			"## Example 8.1: EX8_1.sce"
		   ]
		  },
  {
"cell_type": "code",
	   "execution_count": null,
	   "metadata": {
	    "collapsed": true
	   },
	   "outputs": [],
"source": [
"  \n",
"//Caption:Program to determine the loss limit and the multimode dispersion limit of a graded index FOC\n",
" \n",
"//Example 8.1\n",
"//Page 388\n",
"//Refer to figure 8.2 on page 385\n",
"Pin=42//input power = 42dB\n",
"A=3//attenuation\n",
"LL=(Pin/A)//Loss Limit\n",
"disp('Using 2 Gbps-km as typical BDP of graded index multimode fiber, the multimode dispersion distance is determined as')\n",
" \n",
"Dl=(2000/90)//Dispersion limit  \n",
" \n",
"//Result\n",
" \n",
"//Loss Limit = 14 km\n",
" \n",
"//Dispersion Limit = 22.2 km\n",
" "
   ]
   }
,
{
		   "cell_type": "markdown",
		   "metadata": {},
		   "source": [
			"## Example 8.2: EX8_2.sce"
		   ]
		  },
  {
"cell_type": "code",
	   "execution_count": null,
	   "metadata": {
	    "collapsed": true
	   },
	   "outputs": [],
"source": [
" \n",
"//Example 8.2\n",
" \n",
"//Page 389\n",
" \n",
"//Refer figure 8.2 on page 385\n",
" \n",
"disp('The attenuation of single-mode fibre operating at 1300nm is approximately 0.35dB/km. Thus,')\n",
"Pin=42//input power = 42dB\n",
"A=0.35\n",
" \n",
"LL=(Pin/A)//Loss Limit\n",
"disp('Using 250 Gbps-km as BDP of a silica single-mode fiber, the chromatic dispersion limit is determined as')\n",
"Cd=(250000/417)//Chromatic dispersion limit\n",
" \n",
"//Result\n",
" \n",
"//Loss Limit = 120 km\n",
" \n",
"//Chromatic Dispersion Limit = 599.52 = 600 km\n",
" "
   ]
   }
,
{
		   "cell_type": "markdown",
		   "metadata": {},
		   "source": [
			"## Example 8.3: Program_to_determine_the_BDP_of_SMF_system_and_DS_SMF_system_using_DFB_LD.sce"
		   ]
		  },
  {
"cell_type": "code",
	   "execution_count": null,
	   "metadata": {
	    "collapsed": true
	   },
	   "outputs": [],
"source": [
"  \n",
" \n",
"//Example 8.3\n",
" \n",
"//Page 393\n",
" \n",
"//Refer to table 8.1 on page 392, also to figure 8.6 on page 391\n",
" \n",
"smf=16\n",
"smf=16//dispersion co-efficient of SMF at 1550nm \n",
" \n",
"sw=0.4//spectral width of the source\n",
" \n",
"BDP=[250/(smf*sw)]//assuming line code as NRZ\n",
"disp('The BDP of the DS SMF system is determined as')\n",
"smf=3.5//dispersion co-efficient of DS SMF at 1550nm\n",
"BDP=[250/(smf*sw)]//assuming line code as NRZ \n",
"//Result\n",
" \n",
"//BDP = 39 Gbps=km (SMF)\n",
" \n",
"//BDP = 179 Gbps-km (DS SMF)\n",
" "
   ]
   }
,
{
		   "cell_type": "markdown",
		   "metadata": {},
		   "source": [
			"## Example 8.4: Program_to_determine_the_difference_in_wavelength_of_two_optical_signal.sce"
		   ]
		  },
  {
"cell_type": "code",
	   "execution_count": null,
	   "metadata": {
	    "collapsed": true
	   },
	   "outputs": [],
"source": [
" \n",
"//Example 8.4\n",
" \n",
"//Page 402\n",
" \n",
"c=3*10^8//speed of light \n",
" \n",
"wl=1500*10^-9//wavlength =1500nm  \n",
" \n",
"f=[(3*10^8)/wl]  \n",
" \n",
"disp('Thus the upper and lower frequencies are determined as 200,001 and 199,999 GHz respectively. The corresponding wavelengths are')\n",
" \n",
"lam1=[c/(199999*10^9)]\n",
" \n",
"lam2=[c/(200001*10^9)]\n",
"//Result\n",
"//The difference in wavelenghts is 0.015nm\n",
" "
   ]
   }
,
{
		   "cell_type": "markdown",
		   "metadata": {},
		   "source": [
			"## Example 8.5: Program_to_determine_the_system_gain.sce"
		   ]
		  },
  {
"cell_type": "code",
	   "execution_count": null,
	   "metadata": {
	    "collapsed": true
	   },
	   "outputs": [],
"source": [
" \n",
"//Example 8.5\n",
" \n",
"//Page 405\n",
" \n",
"//Refer to table 8.2 and figure 8.8 on page 394\n",
" \n",
"dr=565//data rate\n",
"wl=1550*10^-9//wavelength\n",
"disp('The use of 5B6B line code implies the line data rate is,')\n",
"565*(6/5)\n",
"//678Mbps\n",
" \n",
"disp('The receiver sensitivity for 678 Mbps is determined from fig 8.8 or table 8.2 as ')\n",
" \n",
"rsen=-34.5\n",
"A=(-5-rsen)//system gain \n",
" \n",
"BDP=[500/(17*0.4)]\n",
"BDPs=[73.6/0.678]\n",
" \n",
"lossp=(0.2+0.2)*(65)\n",
" \n",
"lossm=A-lossp\n",
" \n",
"//Result\n",
" \n",
"//System gain = 29.5 dB\n",
" \n",
"//BDP = 73.6 Gbps\n",
" \n",
"//BDP spacing = 109 km\n",
" \n",
"//Path Loss = 26 dB\n",
" \n",
"//Loss Margin = 3.5 dB\n",
" "
   ]
   }
,
{
		   "cell_type": "markdown",
		   "metadata": {},
		   "source": [
			"## Example 8.6: EX8_6.sce"
		   ]
		  },
  {
"cell_type": "code",
	   "execution_count": null,
	   "metadata": {
	    "collapsed": true
	   },
	   "outputs": [],
"source": [
"//Example 8.6\n",
"//Page 415\n",
" \n",
"frames=4*9*87//Four SPE frames \n",
"rate=8*frames*2000//normal rate SPE\n",
" \n",
"Rmin=8*3131*2000//minimum SPE rate\n",
"disp('When negative byte stuffing is used to accomodate a fast incoming SPE rate, 3133 bytes of data are transmitted in four frames. Thus, the highest slip rate is')\n",
"Rmax=8*3133*2000//maximum SPE rate\n",
"  \n",
"//Result\n",
"//Normal SPE rate = 50.112 Mbps \n",
"//Minimum SPE rate = 50.096 Mbps\n",
"//Maximum SPE rate = 50.128 Mbps"
   ]
   }
],
"metadata": {
		  "kernelspec": {
		   "display_name": "Scilab",
		   "language": "scilab",
		   "name": "scilab"
		  },
		  "language_info": {
		   "file_extension": ".sce",
		   "help_links": [
			{
			 "text": "MetaKernel Magics",
			 "url": "https://github.com/calysto/metakernel/blob/master/metakernel/magics/README.md"
			}
		   ],
		   "mimetype": "text/x-octave",
		   "name": "scilab",
		   "version": "0.7.1"
		  }
		 },
		 "nbformat": 4,
		 "nbformat_minor": 0
}
