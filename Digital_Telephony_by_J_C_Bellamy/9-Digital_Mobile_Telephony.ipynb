{
"cells": [
 {
		   "cell_type": "markdown",
	   "metadata": {},
	   "source": [
       "# Chapter 9: Digital Mobile Telephony"
	   ]
	},
{
		   "cell_type": "markdown",
		   "metadata": {},
		   "source": [
			"## Example 9.1: EX9_1.sce"
		   ]
		  },
  {
"cell_type": "code",
	   "execution_count": null,
	   "metadata": {
	    "collapsed": true
	   },
	   "outputs": [],
"source": [
"  \n",
" \n",
"//Example 9.1\n",
" \n",
"//Page 447\n",
" \n",
"disp('The probability of 63 destructive interferers is merely the probability of occurence of 63 equally likely binary events,')\n",
" \n",
"Pmax=(0.5)^63//maximum probability\n",
"disp('The value of a desired receive signal is the autocorrelation of a codeword with itself and can therefore be represented as a value of 64. ')\n",
"disp('The mean and varience of a sum of 63 such variable are 0 and 63, respectively. The signal-to-interference ratio is now determined as,')\n",
"a=[(64^2)/63]\n",
"SIR=10*log10(a)\n",
"//Result\n",
" \n",
"//Signal to interference ratio = 18.1 dB\n",
" "
   ]
   }
],
"metadata": {
		  "kernelspec": {
		   "display_name": "Scilab",
		   "language": "scilab",
		   "name": "scilab"
		  },
		  "language_info": {
		   "file_extension": ".sce",
		   "help_links": [
			{
			 "text": "MetaKernel Magics",
			 "url": "https://github.com/calysto/metakernel/blob/master/metakernel/magics/README.md"
			}
		   ],
		   "mimetype": "text/x-octave",
		   "name": "scilab",
		   "version": "0.7.1"
		  }
		 },
		 "nbformat": 4,
		 "nbformat_minor": 0
}
