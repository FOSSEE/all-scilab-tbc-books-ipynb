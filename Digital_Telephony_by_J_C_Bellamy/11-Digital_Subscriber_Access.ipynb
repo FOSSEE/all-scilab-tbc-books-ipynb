{
"cells": [
 {
		   "cell_type": "markdown",
	   "metadata": {},
	   "source": [
       "# Chapter 11: Digital Subscriber Access"
	   ]
	},
{
		   "cell_type": "markdown",
		   "metadata": {},
		   "source": [
			"## Example 11.1: EX11_1.sce"
		   ]
		  },
  {
"cell_type": "code",
	   "execution_count": null,
	   "metadata": {
	    "collapsed": true
	   },
	   "outputs": [],
"source": [
"//Example 11.1\n",
" \n",
"//Page 501\n",
" \n",
"//Refer to figure 11.5 on page 500\n",
" \n",
"disp('By seeing the figure, it can be seen that the minimum delay between a terminal transmitting D bit and receiving it back in the following E bit is seven bit times')\n",
"disp('At a 192 kbps data rate the duration of bit is 5.2 usec. Thus, the total round trip propagation time is ')\n",
"7*5.2//usec\n",
"disp('Assuming no appreciable circuitry delays in the NT,')\n",
"c=3*10^8// speed of light\n",
"Lmax=(36.4*10^-6)*(1/3)*c\n",
"disp('Because round trip propagation involves both direction of transmission')\n",
" \n",
"Dmax=(1/2)*Lmax\n",
"disp('Result')\n",
" \n",
"disp('Maximum length of wire(Lmax) = 3640 m = 3.64 km')\n",
" \n",
"disp('Maximum distance(Dmax)= 1820 m = 1.82 km')"
   ]
   }
,
{
		   "cell_type": "markdown",
		   "metadata": {},
		   "source": [
			"## Example 11.2: EX11_2.sce"
		   ]
		  },
  {
"cell_type": "code",
	   "execution_count": null,
	   "metadata": {
	    "collapsed": true
	   },
	   "outputs": [],
"source": [
"   \n",
"//Example 11.2\n",
" \n",
"//Page 513\n",
" \n",
"disp('The signal-to-quantizing-noise ratio(SQR) is given in chap3 to be on the order of 36dB, which corresponds to power ratio of 3981.')\n",
" \n",
"disp('Using this value in Shannon theorem for the theoretical capacity of a channel yield,') \n",
" \n",
"SNR=3981\n",
"C=3100*[log2(1+SNR)]\n",
"disp('Result')\n",
" \n",
"disp('data rate = 37 kbps')"
   ]
   }
],
"metadata": {
		  "kernelspec": {
		   "display_name": "Scilab",
		   "language": "scilab",
		   "name": "scilab"
		  },
		  "language_info": {
		   "file_extension": ".sce",
		   "help_links": [
			{
			 "text": "MetaKernel Magics",
			 "url": "https://github.com/calysto/metakernel/blob/master/metakernel/magics/README.md"
			}
		   ],
		   "mimetype": "text/x-octave",
		   "name": "scilab",
		   "version": "0.7.1"
		  }
		 },
		 "nbformat": 4,
		 "nbformat_minor": 0
}
