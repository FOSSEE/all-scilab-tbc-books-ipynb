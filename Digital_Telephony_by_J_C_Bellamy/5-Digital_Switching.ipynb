{
"cells": [
 {
		   "cell_type": "markdown",
	   "metadata": {},
	   "source": [
       "# Chapter 5: Digital Switching"
	   ]
	},
{
		   "cell_type": "markdown",
		   "metadata": {},
		   "source": [
			"## Example 5.1: Program_to_find_the_idle_path_in_a_three_stage_8192_line_switch.sce"
		   ]
		  },
  {
"cell_type": "code",
	   "execution_count": null,
	   "metadata": {
	    "collapsed": true
	   },
	   "outputs": [],
"source": [
" \n",
"//Example 5.1\n",
" \n",
"//Page243\n",
" \n",
"//Refer to table 5.2 on page236\n",
" \n",
"disp('From the table, space expansion factor of 0.234 is 0.002. Hence the utilization of each interstage is given by')\n",
" \n",
"0.1/0.234\n",
"p=1-[(1-0.427)^2]// probability that one of two links in series is busy\n",
"disp('Therefore, the expected number of paths to be tested are,')\n",
" \n",
"Np=[1-(0.672)^15]/(1-0.672)\n",
" \n",
"//Result\n",
" \n",
"//Only 3 of the 15 paths should be tested before an idle path is found"
   ]
   }
,
{
		   "cell_type": "markdown",
		   "metadata": {},
		   "source": [
			"## Example 5.2: Program_to_determine_the_implementaton_complexity_of_the_TS_switch.sce"
		   ]
		  },
  {
"cell_type": "code",
	   "execution_count": null,
	   "metadata": {
	    "collapsed": true
	   },
	   "outputs": [],
"source": [
" \n",
"//Example 5.2\n",
"//Page 253\n",
"//Refer to figure 5.19 on page 252\n",
" \n",
"N=80//Number of links  \n",
" \n",
"Nc=24//Number of control words \n",
" \n",
"Nb1=7//Number of bits per control word \n",
" \n",
"Nb2=5//Number of bits per control word\n",
"disp('The number of crosspoints in the space stage is')\n",
" \n",
"Nx=N^2\n",
" \n",
"disp('The total number of memory bits for the space stage control store is')\n",
" \n",
"Nbx=N*Nc*Nb1\n",
" \n",
"disp('The total number of memory bits for the time stage is')\n",
" \n",
"Nbt=(N*Nc*8)+(N*Nc*Nb2)\n",
" \n",
"disp('Thus the implementation complexity is ')\n",
" \n",
"Cmplx=Nx+[(Nbx+Nbt)/100]\n",
"//Result\n",
" \n",
"//Complexity is 6784 equivalent crosspoint.\n",
" "
   ]
   }
,
{
		   "cell_type": "markdown",
		   "metadata": {},
		   "source": [
			"## Example 5.3: Program_to_determine_the_implementaton_complexity_of_a_2048_channel.sce"
		   ]
		  },
  {
"cell_type": "code",
	   "execution_count": null,
	   "metadata": {
	    "collapsed": true
	   },
	   "outputs": [],
"source": [
" \n",
"//Example 5.3\n",
" \n",
"//Page 256\n",
" \n",
"k=7//from equation 5.14 on page 256\n",
" \n",
"disp('Using the value of k')\n",
" \n",
"disp('Using the value of k, the number of crosspoint determined are')\n",
" \n",
"2*7*16\n",
"disp('The number of bits of memory can be determined are')\n",
" \n",
"N=[2*7*128*4]+[7*128*8]+[7*128*7]\n",
"//Result\n",
" \n",
"//The composite implementation complecity is 430 equivalent crosspoints.\n",
" "
   ]
   }
,
{
		   "cell_type": "markdown",
		   "metadata": {},
		   "source": [
			"## Example 5.5: Program_to_determine_the_implementaton_complexity_of_a_131072_channel.sce"
		   ]
		  },
  {
"cell_type": "code",
	   "execution_count": null,
	   "metadata": {
	    "collapsed": true
	   },
	   "outputs": [],
"source": [
"//Example 5.5\n",
" \n",
"//Page 261\n",
" \n",
"n=32//binary w.r.t (N/2)^2\n",
"k=27//determined as a blocking probability of 0.0015\n",
"//Refer equations 5.18 and 5.19\n",
" \n",
"Nx=[2*1024*27]+[27+(32^2)]\n",
"Nx=[2*1024*27]+[27*(32^2)]\n",
"Nbx=[2*27*128*32*5]+{27*128*32*5}\n",
"Nbt=[2*1024*128*8]\n",
" \n",
"Nbtc=[2*1024*128*7]\n",
" \n",
"cmplx=[Nx+{(Nbx+Nbt+Nbtc)/100}]\n",
" \n",
"//Result\n",
"//Complexity is 138,854 equivalent crosspoint.\n",
" "
   ]
   }
],
"metadata": {
		  "kernelspec": {
		   "display_name": "Scilab",
		   "language": "scilab",
		   "name": "scilab"
		  },
		  "language_info": {
		   "file_extension": ".sce",
		   "help_links": [
			{
			 "text": "MetaKernel Magics",
			 "url": "https://github.com/calysto/metakernel/blob/master/metakernel/magics/README.md"
			}
		   ],
		   "mimetype": "text/x-octave",
		   "name": "scilab",
		   "version": "0.7.1"
		  }
		 },
		 "nbformat": 4,
		 "nbformat_minor": 0
}
