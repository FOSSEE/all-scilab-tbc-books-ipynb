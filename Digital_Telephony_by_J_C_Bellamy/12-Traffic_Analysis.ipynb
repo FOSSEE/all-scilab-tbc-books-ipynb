{
"cells": [
 {
		   "cell_type": "markdown",
	   "metadata": {},
	   "source": [
       "# Chapter 12: Traffic Analysis"
	   ]
	},
{
		   "cell_type": "markdown",
		   "metadata": {},
		   "source": [
			"## Example 12.1: EX12_1.sce"
		   ]
		  },
  {
"cell_type": "code",
	   "execution_count": null,
	   "metadata": {
	    "collapsed": true
	   },
	   "outputs": [],
"source": [
"//Example 12.1\n",
" \n",
"//Page 524\n",
" \n",
"disp('The average arrival rate is')\n",
"lam=(3600/10000)//arrivals per sec\n",
"disp('From equation 12.2, the probability on arrival in 0.01-sec interval is')//equation on page 524\n",
"P0=(%e^-0.0278)\n",
"disp('Thus 2.7% arrivals occur withnin 0.01 sec of the pervious arrival. Since the arrival rate is 2.78 arrivals per second, the rate of occurrence of intervarrival time less than 0.01 sec is')\n",
"2.78*0.027\n",
"disp('Result')\n",
" \n",
"disp('0.075 times/sec')\n",
" "
   ]
   }
,
{
		   "cell_type": "markdown",
		   "metadata": {},
		   "source": [
			"## Example 12.2: EX12_2.sce"
		   ]
		  },
  {
"cell_type": "code",
	   "execution_count": null,
	   "metadata": {
	    "collapsed": true
	   },
	   "outputs": [],
"source": [
"//Example 12.2\n",
" \n",
"//Page 526\n",
" \n",
"disp('The average number of arrivals in a 30 sec interval is,')\n",
"lamt=4*(30/60)\n",
"disp('The probability of eight or more arrivals is,')\n",
"P0=1\n",
"P1=[(2^1)/(1)]\n",
"P2=[(2^2)/(1*2)]\n",
"P3=[(2^3)/(1*2*3)]\n",
"P4=[(2^4)/(1*2*3*4)]\n",
"P5=[(2^5)/(1*2*3*4*5)]\n",
"P6=[(2^6)/(1*2*3*4*5*6)]\n",
"P7=[(2^7)/(1*2*3*4*5*6*7)]\n",
"i=1-{(%e^-2)*[P0+P1+P2+P3+P4+P5+P6+P7]}\n",
"disp('Result')\n",
" \n",
"disp('P(2) = 0.0011')\n",
" "
   ]
   }
,
{
		   "cell_type": "markdown",
		   "metadata": {},
		   "source": [
			"## Example 12.3: EX12_3.sce"
		   ]
		  },
  {
"cell_type": "code",
	   "execution_count": null,
	   "metadata": {
	    "collapsed": true
	   },
	   "outputs": [],
"source": [
" \n",
"//Example 12.3\n",
" \n",
"//Page 527\n",
" \n",
"disp('Assuming inpendenterror, we can obtain the probability of exactly 4 errors directly from the Poisson distribution. The average number of errors is,')\n",
"lamt=[(10^3)*(10^-5)]\n",
"disp('Thus,')\n",
"P4={[(0.01^4)/(1*2*3*4)]*%e^-0.01}\n",
"disp('Result')\n",
" \n",
"disp('P(4) = 4.125*10^-10')\n",
" "
   ]
   }
,
{
		   "cell_type": "markdown",
		   "metadata": {},
		   "source": [
			"## Example 12.4: EX12_4.sce"
		   ]
		  },
  {
"cell_type": "code",
	   "execution_count": null,
	   "metadata": {
	    "collapsed": true
	   },
	   "outputs": [],
"source": [
"  \n",
"//Example 12.4\n",
"//Page 529\n",
" \n",
"disp('The Traffic intensity of system is,')\n",
"A=1*2\n",
"disp('The raffic intensity carried by i active ckt is exactly i erlangs. Hence the traffic carried by 1st 5 ckt is,')\n",
"P1=[(1*2^1)/(1)]\n",
" \n",
"P2=[(2*2^2)/(1*2)]\n",
" \n",
"P3=[(3*2^3)/(1*2*3)]\n",
"P4=[(4*2^4)/(1*2*3*4)]\n",
"P5=[(5*2^5)/(1*2*3*4*5)]\n",
"A5={(%e^-2)*[P1+P2+P3+P4+P5]}\n",
"disp('All of remaining ckts carry,')\n",
"Ar=2-1.89\n",
"disp('Result')\n",
" \n",
"disp('A(5) = 1.89 erlangs')\n",
" \n",
"disp('A(remaining) = 0.11 erlangs')"
   ]
   }
,
{
		   "cell_type": "markdown",
		   "metadata": {},
		   "source": [
			"## Example 12.5: Program_to_calculate_how_much_traffic_can_the_trunk_group_carry.sce"
		   ]
		  },
  {
"cell_type": "code",
	   "execution_count": null,
	   "metadata": {
	    "collapsed": true
	   },
	   "outputs": [],
"source": [
" \n",
"//Example 5.5\n",
" \n",
"//Page 534\n",
" \n",
"//Refer figure 12.5 on page 533\n",
" \n",
"disp('From fig, it can be that the output circuit utilization for B=0.1 and N=24 is 0.8.')\n",
"N=24\n",
"op=0.8\n",
" \n",
"disp('Thus the carried traffic intensity is ')\n",
"N*op\n",
"disp('Since the blocking probability is 0.1, the maximum level of offered traaffic is,')\n",
"A=[19.2/(1-0.1)]\n",
"disp('Result')\n",
"disp('A = 21.3 erlangs')\n",
" "
   ]
   }
],
"metadata": {
		  "kernelspec": {
		   "display_name": "Scilab",
		   "language": "scilab",
		   "name": "scilab"
		  },
		  "language_info": {
		   "file_extension": ".sce",
		   "help_links": [
			{
			 "text": "MetaKernel Magics",
			 "url": "https://github.com/calysto/metakernel/blob/master/metakernel/magics/README.md"
			}
		   ],
		   "mimetype": "text/x-octave",
		   "name": "scilab",
		   "version": "0.7.1"
		  }
		 },
		 "nbformat": 4,
		 "nbformat_minor": 0
}
