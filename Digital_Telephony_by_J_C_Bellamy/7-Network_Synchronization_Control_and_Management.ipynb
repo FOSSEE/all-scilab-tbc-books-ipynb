{
"cells": [
 {
		   "cell_type": "markdown",
	   "metadata": {},
	   "source": [
       "# Chapter 7: Network Synchronization Control and Management"
	   ]
	},
{
		   "cell_type": "markdown",
		   "metadata": {},
		   "source": [
			"## Example 7.2: EX7_2.sce"
		   ]
		  },
  {
"cell_type": "code",
	   "execution_count": null,
	   "metadata": {
	    "collapsed": true
	   },
	   "outputs": [],
"source": [
"//Example 7.2\n",
" \n",
"//Page 350\n",
" \n",
"dF=(1/20*60*60)\n",
"dF=[1/(20*60*60)]\n",
" \n",
"disp('Since there are 8000 frame per second, the relative accuracy is determined as')\n",
"ans=[dF/8000]\n",
" \n",
"//Result\n",
" \n",
"//Hence the clock must be accurate to 1.7 parts in 10^9."
   ]
   }
,
{
		   "cell_type": "markdown",
		   "metadata": {},
		   "source": [
			"## Example 7.3: EX7_3.sce"
		   ]
		  },
  {
"cell_type": "code",
	   "execution_count": null,
	   "metadata": {
	    "collapsed": true
	   },
	   "outputs": [],
"source": [
"  \n",
"//Example 7.3\n",
" \n",
"//Page 354\n",
" \n",
"disp('The maximum information rate per channel is determined as')\n",
" \n",
"Imax=[(6.312*288)/1176]\n",
"disp('The minimum information rate per channel is determined as')\n",
" \n",
"Imin=[(6.312*287)/1176]\n",
"disp('Since there are three possible combinations of two errors in the C bits, the probability of misinterpreting an S bit is')\n",
"3*(10^-6)^2\n",
"1176/6.312//duration of each master frame\n",
"[(3*10^-12)/(186*10^-6)]\n",
"//Result\n",
" \n",
"//0.016*10^-6 misframes per second\n",
" "
   ]
   }
],
"metadata": {
		  "kernelspec": {
		   "display_name": "Scilab",
		   "language": "scilab",
		   "name": "scilab"
		  },
		  "language_info": {
		   "file_extension": ".sce",
		   "help_links": [
			{
			 "text": "MetaKernel Magics",
			 "url": "https://github.com/calysto/metakernel/blob/master/metakernel/magics/README.md"
			}
		   ],
		   "mimetype": "text/x-octave",
		   "name": "scilab",
		   "version": "0.7.1"
		  }
		 },
		 "nbformat": 4,
		 "nbformat_minor": 0
}
