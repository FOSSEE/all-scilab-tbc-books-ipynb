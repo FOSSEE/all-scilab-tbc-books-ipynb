{
"cells": [
 {
		   "cell_type": "markdown",
	   "metadata": {},
	   "source": [
       "# Chapter 6: Digital Modulation and Radio Systems"
	   ]
	},
{
		   "cell_type": "markdown",
		   "metadata": {},
		   "source": [
			"## Example 6.4: EX6_4.sce"
		   ]
		  },
  {
"cell_type": "code",
	   "execution_count": null,
	   "metadata": {
	    "collapsed": true
	   },
	   "outputs": [],
"source": [
"//Example 6.4\n",
" \n",
"//Page 325\n",
" \n",
"//Refer to figure 6.17 on page 300\n",
" \n",
"disp('SNR detector is 3dB higher than Eb/N0, therefore')\n",
"snr=13.7//SNR=13.7dB\n",
"disp('Since 4 PSK modulation provides 2bps/Hz, the sampling rate is 5 MHz, which is Nqyuist rate, therefore')\n",
"a1=10*log10(125000000000000)\n",
"a2=10*log10(1.3)\n",
" \n",
"A0=a1-13.7-7-3-a2\n",
"disp('At a carrier frequency of 2GHz, the wavelength is')\n",
"(3*10^8)/(2*10^9)\n",
" \n",
"FM=116+60+20*log10(0.15)-5-20*log10(4*%pi*5*10^4)//Fade Margin can be found by Equation 6.31\n",
"//Result\n",
"//A0 = 116dB\n",
"//wavelength = 0.15 m\n",
"//Fade Margin = 38.5 dB"
   ]
   }
],
"metadata": {
		  "kernelspec": {
		   "display_name": "Scilab",
		   "language": "scilab",
		   "name": "scilab"
		  },
		  "language_info": {
		   "file_extension": ".sce",
		   "help_links": [
			{
			 "text": "MetaKernel Magics",
			 "url": "https://github.com/calysto/metakernel/blob/master/metakernel/magics/README.md"
			}
		   ],
		   "mimetype": "text/x-octave",
		   "name": "scilab",
		   "version": "0.7.1"
		  }
		 },
		 "nbformat": 4,
		 "nbformat_minor": 0
}
