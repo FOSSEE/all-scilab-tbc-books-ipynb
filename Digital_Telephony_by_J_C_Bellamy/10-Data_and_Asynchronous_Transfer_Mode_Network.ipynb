{
"cells": [
 {
		   "cell_type": "markdown",
	   "metadata": {},
	   "source": [
       "# Chapter 10: Data and Asynchronous Transfer Mode Network"
	   ]
	},
{
		   "cell_type": "markdown",
		   "metadata": {},
		   "source": [
			"## Example 10.1: Program_to_determine_the_amount_of_transmission_capacity.sce"
		   ]
		  },
  {
"cell_type": "code",
	   "execution_count": null,
	   "metadata": {
	    "collapsed": true
	   },
	   "outputs": [],
"source": [
" \n",
"//Example 10.1\n",
" \n",
"//Page 472\n",
" \n",
"//(a)With link-by-link \n",
" \n",
"frame=1000*10^-8\n",
"disp('The expected number of bits of transmission capacity required to retransmit is')\n",
"frame*1000\n",
"//(b)With end-to-end\n",
" \n",
"frames=10*10^-5//corrupted frame\n",
"disp('The expected number of bits of transmission capacity required is')\n",
"frames*1000 \n",
" \n",
"//(c)With bit error 10^-5\n",
" \n",
"ans1=1000*10^-5 \n",
" \n",
"ans1=1000*10^-5*1000\n",
"ans=10*10^-2*1000\n",
" \n",
"//Result\n",
" \n",
"//(a)0.01 bit/link\n",
" \n",
"//(b)0.1 bit/link\n",
" \n",
"//(c)1. 10 bits/link\n",
" \n",
"//(c)2. 100 bits/link"
   ]
   }
,
{
		   "cell_type": "markdown",
		   "metadata": {},
		   "source": [
			"## Example 10.3: Program_to_determine_the_probability_that_the_delay_of_an_ATM_voice_cell.sce"
		   ]
		  },
  {
"cell_type": "code",
	   "execution_count": null,
	   "metadata": {
	    "collapsed": true
	   },
	   "outputs": [],
"source": [
" \n",
"//Example 10.3\n",
" \n",
"//Page 488\n",
" \n",
"disp('Assuming the access link is 90% utilized on average.')\n",
" \n",
"disp('The queuing theory is provided in Chapter 12. It involves determining the probability that the DSI access queue contains enough cells to represent 10msec of transmission time')\n",
" \n",
"tm=[(53*8)/(192*8000)]\n",
"disp('Therefore, 10 msec delay represents 10/0.276 = 36.2 cell times.')\n",
"p=(0.9)*{%e^[-(1-0.9)*36.2]}//Refer to equation 12.25 in chap 12 \n",
" \n",
"disp('Result')\n",
" \n",
"disp('P(&gt;10msec) = 2.5% delay will be displayed by more than 10 msec ')\n",
" "
   ]
   }
],
"metadata": {
		  "kernelspec": {
		   "display_name": "Scilab",
		   "language": "scilab",
		   "name": "scilab"
		  },
		  "language_info": {
		   "file_extension": ".sce",
		   "help_links": [
			{
			 "text": "MetaKernel Magics",
			 "url": "https://github.com/calysto/metakernel/blob/master/metakernel/magics/README.md"
			}
		   ],
		   "mimetype": "text/x-octave",
		   "name": "scilab",
		   "version": "0.7.1"
		  }
		 },
		 "nbformat": 4,
		 "nbformat_minor": 0
}
