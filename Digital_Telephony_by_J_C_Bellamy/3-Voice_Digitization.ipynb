{
"cells": [
 {
		   "cell_type": "markdown",
	   "metadata": {},
	   "source": [
       "# Chapter 3: Voice Digitization"
	   ]
	},
{
		   "cell_type": "markdown",
		   "metadata": {},
		   "source": [
			"## Example 3.1: Program_to_calculate_quantization_interval_and_bits_needed_to_encode_each_sample.sce"
		   ]
		  },
  {
"cell_type": "code",
	   "execution_count": null,
	   "metadata": {
	    "collapsed": true
	   },
	   "outputs": [],
"source": [
" \n",
"//Example 3.1\n",
" \n",
"//Page 101\n",
" \n",
"sqr=30//SQR=30dB\n",
" \n",
"q=1*10^[-(sqr-7.78)/20] \n",
" \n",
"disp('Thus 13 quantization intervals arer needed for each polarity for a total of 26 intervals in all. The number of bitz required are determined as')\n",
" \n",
"N=log2(26)\n",
" \n",
"//Result\n",
" \n",
"//q = 0.078 V\n",
"//N = 4.7 = 5 bits per sample "
   ]
   }
,
{
		   "cell_type": "markdown",
		   "metadata": {},
		   "source": [
			"## Example 3.2: EX3_2.sce"
		   ]
		  },
  {
"cell_type": "code",
	   "execution_count": null,
	   "metadata": {
	    "collapsed": true
	   },
	   "outputs": [],
"source": [
" \n",
"//Example 3.2\n",
" \n",
"//Page 105\n",
" \n",
"dr=40//dynamic range=400dB\n",
" \n",
"SNR=50//signal to noise ratio =5 0dB\n",
" \n",
"SQR=dr+SNR \n",
" \n",
"n=[(SQR-1.76)/6.02] \n",
" \n",
"disp('This can be approximated to 15 bits per sample')\n",
" \n",
"disp('Assuming excess sampling factor using D-type channel, we choose sampling rate as 48KHz')  \n",
" \n",
"disp('Therefore required bit rate is')\n",
" \n",
"15*48000 \n",
" \n",
"//Result\n",
"//720kbps\n",
" "
   ]
   }
,
{
		   "cell_type": "markdown",
		   "metadata": {},
		   "source": [
			"## Example 3.4: Program_to_calculate_how_many_bits_per_sample_can_be_saved_by_using_DPCM.sce"
		   ]
		  },
  {
"cell_type": "code",
	   "execution_count": null,
	   "metadata": {
	    "collapsed": true
	   },
	   "outputs": [],
"source": [
" \n",
"//Example 3.4\n",
" \n",
"//Page 128\n",
" \n",
"w=800//Omega=800Hz\n",
" \n",
"//x(t)=A sin(2pi.wt), equation for sine wave with maximum amplitude\n",
" \n",
"//x'(t)=A(2pi).w.cos(2pi.wt), diff w.r.t time\n",
" \n",
"(2*%pi)*800*(1/8000)\n",
" \n",
"//0.62831*a, x'(t)max\n",
" \n",
"disp('savings in the bits per sample can be determined as ')\n",
" \n",
"log2(1/0.628)\n",
"  \n",
"//Result\n",
" \n",
"//0.67 bits"
   ]
   }
],
"metadata": {
		  "kernelspec": {
		   "display_name": "Scilab",
		   "language": "scilab",
		   "name": "scilab"
		  },
		  "language_info": {
		   "file_extension": ".sce",
		   "help_links": [
			{
			 "text": "MetaKernel Magics",
			 "url": "https://github.com/calysto/metakernel/blob/master/metakernel/magics/README.md"
			}
		   ],
		   "mimetype": "text/x-octave",
		   "name": "scilab",
		   "version": "0.7.1"
		  }
		 },
		 "nbformat": 4,
		 "nbformat_minor": 0
}
