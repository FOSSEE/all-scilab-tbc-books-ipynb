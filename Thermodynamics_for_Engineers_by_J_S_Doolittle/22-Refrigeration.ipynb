{
"cells": [
 {
		   "cell_type": "markdown",
	   "metadata": {},
	   "source": [
       "# Chapter 22: Refrigeration"
	   ]
	},
{
		   "cell_type": "markdown",
		   "metadata": {},
		   "source": [
			"## Example 22.1: cop_calculations.sce"
		   ]
		  },
  {
"cell_type": "code",
	   "execution_count": null,
	   "metadata": {
	    "collapsed": true
	   },
	   "outputs": [],
"source": [
"clc\n",
"clear\n",
"//Initalization of variables\n",
"t1=45+460 //R\n",
"th=70+460 //R\n",
"t2=-200+460 //R\n",
"th2=100+460 //R\n",
"//calculations\n",
"cp1=t1/(th-t1)\n",
"cp2=th/(th-t1)\n",
"cp3=t2/(th2-t2)\n",
"cp4=th2/(th2-t2)\n",
"//results\n",
"printf('In case 1, Refrigerator cp = %.1f',cp1)\n",
"printf('\n In case 1, Heat pump cp = %.1f',cp2)\n",
"printf('\n In case 2, Refrigerator cp = %.3f',cp3)\n",
"printf('\n In case 2, Heat pump cp = %.3f',cp4)"
   ]
   }
,
{
		   "cell_type": "markdown",
		   "metadata": {},
		   "source": [
			"## Example 22.2: cop_calculations.sce"
		   ]
		  },
  {
"cell_type": "code",
	   "execution_count": null,
	   "metadata": {
	    "collapsed": true
	   },
	   "outputs": [],
"source": [
"clc\n",
"clear\n",
"//Initalization of variables\n",
"h3=85.282 //Btu/lb\n",
"s2=0.16392\n",
"sf=0.16798\n",
"//calculations\n",
"sfg=sf-0.023954\n",
"x3=-(s2-sf)/sfg\n",
"h2=78.335 - x3*67.651\n",
"h4=26.365 //Btu/lb\n",
"h1=h4\n",
"ref=h2-h1\n",
"work=h3-h2\n",
"cp1=ref/work\n",
"h2d=78.355\n",
"h1d=26.365 //Btu/lb\n",
"h3d=87.495 //Btu/lb\n",
"ref2=h2d-h1d\n",
"work2=h3d-h2d\n",
"cp2=ref2/work2\n",
"//results\n",
"printf('\n Coefficient of performance in wet compression = %.3f',cp1)\n",
"printf('\n Coefficient of performance in dry compression = %.3f',cp2)"
   ]
   }
,
{
		   "cell_type": "markdown",
		   "metadata": {},
		   "source": [
			"## Example 22.3: Tonnage_calculations.sce"
		   ]
		  },
  {
"cell_type": "code",
	   "execution_count": null,
	   "metadata": {
	    "collapsed": true
	   },
	   "outputs": [],
"source": [
"clc\n",
"clear\n",
"//Initalization of variables\n",
"h1=24.973 //Btu/lb\n",
"h2=81.436 //Btu/lb\n",
"cfm=200 //cfm\n",
"v2=0.77357\n",
"v3=3.8750\n",
"h4=72.913\n",
"//calculations\n",
"mass=cfm/v2\n",
"ref=h2-h1\n",
"tonnage=mass*ref/cfm\n",
"mass2=cfm/v3\n",
"ref2=h4-h1\n",
"tonnage2=mass2*ref2/cfm\n",
"//results\n",
"printf('In case 1,Tonnage = %.1f tons',tonnage)\n",
"printf('\n In case 2,Tonnage = %.2f tons',tonnage2)"
   ]
   }
,
{
		   "cell_type": "markdown",
		   "metadata": {},
		   "source": [
			"## Example 22.4: Refrigeration_and_cop_calculation.sce"
		   ]
		  },
  {
"cell_type": "code",
	   "execution_count": null,
	   "metadata": {
	    "collapsed": true
	   },
	   "outputs": [],
"source": [
"clc\n",
"clear\n",
"//Initalization of variables\n",
"h2d=93.410 //Btu/lb\n",
"h1=80.740 //Btu/lb\n",
"x=0.75\n",
"PD=160\n",
"vol=0.82\n",
"v1=1.7213\n",
"w2=80.156\n",
"w1=27.3\n",
"//calculations\n",
"twork=h2d-h1\n",
"swork=twork/x\n",
"flow=PD*vol/v1\n",
"ref=flow*(w2-w1)/200\n",
"shp= flow*swork/42.4\n",
"cop=(w2-w1)/swork\n",
"//results\n",
"printf('Refrigeration = %.1f tons',ref)\n",
"printf('\n Shaft hp= %.1f hp',shp)\n",
"printf('\n Coefficient of performance = %.2f ',cop)"
   ]
   }
,
{
		   "cell_type": "markdown",
		   "metadata": {},
		   "source": [
			"## Example 22.5: cop_calculatio.sce"
		   ]
		  },
  {
"cell_type": "code",
	   "execution_count": null,
	   "metadata": {
	    "collapsed": true
	   },
	   "outputs": [],
"source": [
"clc\n",
"clear\n",
"//Initalization of variables\n",
"mc=3000 //lb\n",
"hv=1080.2 //Btu/lb\n",
"hfe=26.06 //Btu/lb\n",
"hfp=10.05 //Btu/lb\n",
"x=0.7\n",
"//calculations\n",
"mv=(mc*hfp-mc*hfe)/(hfe-hv)\n",
"dh=145.4 //Btu/lb\n",
"chp=dh*mv/(x*42.4)\n",
"cop=mc*(hfe-hfp)/(chp*42.4)\n",
"//results\n",
"printf('Coefficient of performace = %.2f ',cop)"
   ]
   }
,
{
		   "cell_type": "markdown",
		   "metadata": {},
		   "source": [
			"## Example 22.6: Power_calculatio.sce"
		   ]
		  },
  {
"cell_type": "code",
	   "execution_count": null,
	   "metadata": {
	    "collapsed": true
	   },
	   "outputs": [],
"source": [
"clc\n",
"clear\n",
"//Initalization of variables\n",
"loss=80000 //Btu/lb\n",
"t=560 //R\n",
"//calculations\n",
"ratio=t/68\n",
"power=loss/(ratio*2544)\n",
"//results\n",
"printf('Power = %.2f hp',power)"
   ]
   }
,
{
		   "cell_type": "markdown",
		   "metadata": {},
		   "source": [
			"## Example 22.7: Power_calculatio.sce"
		   ]
		  },
  {
"cell_type": "code",
	   "execution_count": null,
	   "metadata": {
	    "collapsed": true
	   },
	   "outputs": [],
"source": [
"clc\n",
"clear\n",
"//Initalization of variables\n",
"loss=2*80000 //Btu/lb\n",
"tb=72 //F\n",
"to=12 //F\n",
"to2=42 //F\n",
"tf=104+460 //R\n",
"//calculations\n",
"ratio=tf/(tf-460)\n",
"power=loss/(2544*ratio)\n",
"//results\n",
"printf('Power = %.1f hp',power)"
   ]
   }
],
"metadata": {
		  "kernelspec": {
		   "display_name": "Scilab",
		   "language": "scilab",
		   "name": "scilab"
		  },
		  "language_info": {
		   "file_extension": ".sce",
		   "help_links": [
			{
			 "text": "MetaKernel Magics",
			 "url": "https://github.com/calysto/metakernel/blob/master/metakernel/magics/README.md"
			}
		   ],
		   "mimetype": "text/x-octave",
		   "name": "scilab",
		   "version": "0.7.1"
		  }
		 },
		 "nbformat": 4,
		 "nbformat_minor": 0
}
