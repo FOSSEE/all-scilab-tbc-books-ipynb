{
"cells": [
 {
		   "cell_type": "markdown",
	   "metadata": {},
	   "source": [
       "# Chapter 5: Actual Gases"
	   ]
	},
{
		   "cell_type": "markdown",
		   "metadata": {},
		   "source": [
			"## Example 5.1: Volume_calculations.sce"
		   ]
		  },
  {
"cell_type": "code",
	   "execution_count": null,
	   "metadata": {
	    "collapsed": true
	   },
	   "outputs": [],
"source": [
"clc\n",
"clear\n",
"//Initialization of variables\n",
"m=20 //lbm\n",
"P=1000 //psia\n",
"T=580 //R\n",
"R=35.12\n",
"//calculations\n",
"disp('From table 5-2,')\n",
"z=0.667\n",
"V=z*m*R*T/(P*144)\n",
"vt=0.0935\n",
"vtt=vt*m\n",
"//results\n",
"printf('Volume occupied = %.3f cu ft',V)\n",
"printf('\n Tablulated value for volume = %.2f cu ft',vtt)"
   ]
   }
,
{
		   "cell_type": "markdown",
		   "metadata": {},
		   "source": [
			"## Example 5.2: Pressure_calculations.sce"
		   ]
		  },
  {
"cell_type": "code",
	   "execution_count": null,
	   "metadata": {
	    "collapsed": true
	   },
	   "outputs": [],
"source": [
"clc\n",
"clear\n",
"//Initialization of variables\n",
"m=90 //lbm\n",
"T=200+459.7 //R\n",
"Tc=232.7+459.7 //R\n",
"R0=1545\n",
"M=120.9\n",
"V=30 //cu ft\n",
"//calculations\n",
"R=R0/M\n",
"disp('From fig 5.5')\n",
"z=0.883\n",
"P=z*R*m*T/V/144\n",
"vc=V/m\n",
"P2=156.1 //psia\n",
"//results\n",
"printf('Pressure obtained = %.2f psia',P)\n",
"printf('\n Theoretical pressure = %.1f psia',P2)"
   ]
   }
,
{
		   "cell_type": "markdown",
		   "metadata": {},
		   "source": [
			"## Example 5.3: Heat_calculations.sce"
		   ]
		  },
  {
"cell_type": "code",
	   "execution_count": null,
	   "metadata": {
	    "collapsed": true
	   },
	   "outputs": [],
"source": [
"clc\n",
"clear\n",
"//Initialization of variables\n",
"T1=140+460 //R\n",
"T2=240 +460 //R\n",
"N=1\n",
"//calculations\n",
"Q=N*(9.47*(T2-T1)-3.47*10^3 *log(T2/T1) -1.16*10^6 *(1/T2-1/T1))\n",
"Tm=(T1+T2)/2\n",
"Cp=9.47-3.47*10^3 /Tm +1.16*10^6 /Tm^2\n",
"Q2=N*Cp*(T2-T1)\n",
"//results\n",
"printf('Heat added in case 1 = %d Btu',Q)\n",
"printf('\n Heat added in case 2 = %.1f Btu',Q2)"
   ]
   }
,
{
		   "cell_type": "markdown",
		   "metadata": {},
		   "source": [
			"## Example 5.4: Heat_calculations.sce"
		   ]
		  },
  {
"cell_type": "code",
	   "execution_count": null,
	   "metadata": {
	    "collapsed": true
	   },
	   "outputs": [],
"source": [
"clc\n",
"clear\n",
"//Initialization of variables\n",
"Rj=1.985\n",
"N=1\n",
"T1=540+460 //R\n",
"T2=3540+460 //R\n",
"//calculations\n",
"Q=N*(14.215*(T2-T1)-6.53*10^3 *log(T2/T1) -1.41*10^6 *(1/T2-1/T1))\n",
"Tm=(T1+T2)/2\n",
"Cv=14.215-6.53*10^3 /Tm +1.41*10^6 /Tm^2\n",
"Q2=N*Cv*(T2-T1)\n",
"//results\n",
"printf('Heat added in case 1 = %.1f Btu',Q)\n",
"printf('\n Heat added in case 2 = %.1f Btu',Q2)"
   ]
   }
],
"metadata": {
		  "kernelspec": {
		   "display_name": "Scilab",
		   "language": "scilab",
		   "name": "scilab"
		  },
		  "language_info": {
		   "file_extension": ".sce",
		   "help_links": [
			{
			 "text": "MetaKernel Magics",
			 "url": "https://github.com/calysto/metakernel/blob/master/metakernel/magics/README.md"
			}
		   ],
		   "mimetype": "text/x-octave",
		   "name": "scilab",
		   "version": "0.7.1"
		  }
		 },
		 "nbformat": 4,
		 "nbformat_minor": 0
}
