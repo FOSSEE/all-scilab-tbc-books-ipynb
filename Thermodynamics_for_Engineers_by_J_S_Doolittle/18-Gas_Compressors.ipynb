{
"cells": [
 {
		   "cell_type": "markdown",
	   "metadata": {},
	   "source": [
       "# Chapter 18: Gas Compressors"
	   ]
	},
{
		   "cell_type": "markdown",
		   "metadata": {},
		   "source": [
			"## Example 18.1: Horsepower_calculatio.sce"
		   ]
		  },
  {
"cell_type": "code",
	   "execution_count": null,
	   "metadata": {
	    "collapsed": true
	   },
	   "outputs": [],
"source": [
"clc\n",
"clear\n",
"//Initalization of variables\n",
"q=200 //cfm\n",
"p2=90 //psia\n",
"p1=14.5 //psia\n",
"n=1.36\n",
"//calculations\n",
"hpp=n/(n-1) *144*p1*q/33000 *(1- (p2/p1))^((n-1)/n)\n",
"//results\n",
"printf('Theoretical horse power required = %.1f hp',hpp)\n",
"disp('The answer given in textbook is wrong. Please verify with a calculator')"
   ]
   }
,
{
		   "cell_type": "markdown",
		   "metadata": {},
		   "source": [
			"## Example 18.2: Horsepower_calculations.sce"
		   ]
		  },
  {
"cell_type": "code",
	   "execution_count": null,
	   "metadata": {
	    "collapsed": true
	   },
	   "outputs": [],
"source": [
"clc\n",
"clear\n",
"//Initalization of variables\n",
"q=350 //cfm\n",
"eff=0.78\n",
"x=0.95\n",
"p2=120 //psia\n",
"p1=14.3 //psia\n",
"//calculations\n",
"cal=p1*144*q/550 *log(p2/p1) /100\n",
"ihp= cal/eff\n",
"shp=ihp/x\n",
"//results\n",
"printf('Indicated hp = %.1f hp',ihp)\n",
"printf('\n Shaft hp = %.1f hp',shp)"
   ]
   }
,
{
		   "cell_type": "markdown",
		   "metadata": {},
		   "source": [
			"## Example 18.3: Piston_displacement_calculations.sce"
		   ]
		  },
  {
"cell_type": "code",
	   "execution_count": null,
	   "metadata": {
	    "collapsed": true
	   },
	   "outputs": [],
"source": [
"clc\n",
"clear\n",
"//Initalization of variables\n",
"n=1.35\n",
"p1=14.2\n",
"q=400 //cfm\n",
"p2=200 //psia\n",
"p1=14.2 //psia\n",
"ve=0.75\n",
"t1=530 //R\n",
"//calculations\n",
"thp=-n/(n-1) *144 *p1*q/33000 *(1- (p2/p1)^((n-1)/n))\n",
"pd=q/ve\n",
"Tmax=t1*(p2/p1)^((n-1)/n)\n",
"//results\n",
"printf('Theoretical hp = %.1f hp',thp)\n",
"printf('\n Piston displacement = %d cfm',pd)\n",
"printf('\n Max. Temperature = %d R',Tmax)"
   ]
   }
,
{
		   "cell_type": "markdown",
		   "metadata": {},
		   "source": [
			"## Example 18.4: Piston_displacement_calculations.sce"
		   ]
		  },
  {
"cell_type": "code",
	   "execution_count": null,
	   "metadata": {
	    "collapsed": true
	   },
	   "outputs": [],
"source": [
"clc\n",
"clear\n",
"//Initalization of variables\n",
"n=1.35\n",
"p1=14.2 //psia\n",
"p3=200 //psia\n",
"q=400 //cfm\n",
"ve=0.78\n",
"t1=530 //R\n",
"//calculations\n",
"p2=sqrt(p3*p1) //psia\n",
"thp=-2*n/(n-1) *144 *p1*q/33000 *(1- (p2/p1)^((n-1)/n))\n",
"pd=q/ve\n",
"pd2=q*p1/p2 /ve\n",
"Tmax=t1*(p2/p1)^((n-1)/n)\n",
"//results\n",
"printf('Theoretical hp = %.1f hp',thp)\n",
"printf('\n For low pressure case, Piston displacement = %.1f cfm',pd)\n",
"printf('\n For high pressure case, Piston displacement = %.1f cfm',pd2)\n",
"printf('\n Max. Temperature = %.1f R',Tmax)\n",
"disp('The answers are a bit different due to rounding off error')"
   ]
   }
,
{
		   "cell_type": "markdown",
		   "metadata": {},
		   "source": [
			"## Example 18.5: Pressure_calculations.sce"
		   ]
		  },
  {
"cell_type": "code",
	   "execution_count": null,
	   "metadata": {
	    "collapsed": true
	   },
	   "outputs": [],
"source": [
"clc\n",
"clear\n",
"//Initalization of variables\n",
"dia=2 //ft\n",
"rpm=6000 //rpm\n",
"p=14.2 //psia\n",
"t=75 //F\n",
"g=32.17\n",
"n=1.4\n",
"R=53.35\n",
"//calculations\n",
"v=2*%pi*rpm/60\n",
"wbym=v^2 /g\n",
"T=t+460\n",
"pr=1+ wbym*(n-1)/n /(R*T) \n",
"pr2=pr^(n/(n-1))\n",
"p2=pr2*p\n",
"//results\n",
"printf('Theoretical pressure at exit = %.1f psia',p2)"
   ]
   }
,
{
		   "cell_type": "markdown",
		   "metadata": {},
		   "source": [
			"## Example 18.6: Pressure_calculations.sce"
		   ]
		  },
  {
"cell_type": "code",
	   "execution_count": null,
	   "metadata": {
	    "collapsed": true
	   },
	   "outputs": [],
"source": [
"clc\n",
"clear\n",
"//Initalization of variables\n",
"pa=14.7 //psia\n",
"p1=12 //psia\n",
"t1=560 //R\n",
"n=1.4 //gamma\n",
"J=778 //constant conversion\n",
"g=32.2 //ft/s^2\n",
"cp=0.24 //heat capacity\n",
"eff=0.7 //efficiency\n",
"m1=1.8 \n",
"m3=1 \n",
"//calculations\n",
"t5=t1*(pa/p1)^((n-1)/n)\n",
"v4=sqrt(2*g*J*cp*(t5-t1)/eff) \n",
"v3=(m1+m3)/m1 *v4\n",
"//results\n",
"printf('Velocity of air = %.1f ft/s',v3)"
   ]
   }
,
{
		   "cell_type": "markdown",
		   "metadata": {},
		   "source": [
			"## Example 18.7: Pressure_required.sce"
		   ]
		  },
  {
"cell_type": "code",
	   "execution_count": null,
	   "metadata": {
	    "collapsed": true
	   },
	   "outputs": [],
"source": [
"clc\n",
"clear\n",
"//Initalization of variables\n",
"v2=1180 //ft/s\n",
"etan=0.95\n",
"cp=0.24\n",
"n=1.4\n",
"p2=12\n",
"//calculations\n",
"dh=v2^2 /(etan*223.8^2)\n",
"dt=dh/cp\n",
"t2d=560 //R\n",
"t1=t2d+ etan*dt\n",
"t2=554 //R\n",
"pr=(t1/t2)^(n/(n-1))\n",
"p1=p2*pr\n",
"//results\n",
"printf('Pressure required = %.2f psia',p1)"
   ]
   }
],
"metadata": {
		  "kernelspec": {
		   "display_name": "Scilab",
		   "language": "scilab",
		   "name": "scilab"
		  },
		  "language_info": {
		   "file_extension": ".sce",
		   "help_links": [
			{
			 "text": "MetaKernel Magics",
			 "url": "https://github.com/calysto/metakernel/blob/master/metakernel/magics/README.md"
			}
		   ],
		   "mimetype": "text/x-octave",
		   "name": "scilab",
		   "version": "0.7.1"
		  }
		 },
		 "nbformat": 4,
		 "nbformat_minor": 0
}
