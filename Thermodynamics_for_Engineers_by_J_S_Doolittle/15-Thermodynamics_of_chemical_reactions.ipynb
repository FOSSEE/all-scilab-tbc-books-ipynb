{
"cells": [
 {
		   "cell_type": "markdown",
	   "metadata": {},
	   "source": [
       "# Chapter 15: Thermodynamics of chemical reactions"
	   ]
	},
{
		   "cell_type": "markdown",
		   "metadata": {},
		   "source": [
			"## Example 15.1: Dissociation_calculations.sce"
		   ]
		  },
  {
"cell_type": "code",
	   "execution_count": null,
	   "metadata": {
	    "collapsed": true
	   },
	   "outputs": [],
"source": [
"clc\n",
"clear\n",
"//Initalization of variables\n",
"kp=10^(1.45)\n",
"//calculations\n",
"x=poly(0,'x')\n",
"s=(1-x)^2 *(2+x) -kp^2 *x^(3)\n",
"vec=roots(s)\n",
"X=vec(3)\n",
"xper=X*100\n",
"//results\n",
"printf('Amount of dissociaton = %.1f percent',xper)\n",
"printf('\n Of each original mole of CO2, there will be %.3f mole of CO , %.3f mol of Oxygen and %.3f mol of CO2',X,X/2,(1-X))"
   ]
   }
,
{
		   "cell_type": "markdown",
		   "metadata": {},
		   "source": [
			"## Example 15.2: Max_temperature_calculations.sce"
		   ]
		  },
  {
"cell_type": "code",
	   "execution_count": null,
	   "metadata": {
	    "collapsed": true
	   },
	   "outputs": [],
"source": [
"clc\n",
"clear\n",
"//Initalization of variables\n",
"U=121200 //Btu/mol\n",
"Uco2=51635 //Btu/mol\n",
"Un2=27589 //Btu/mol\n",
"Uco22=57875 //Btu/mol\n",
"Un22=21036 //Btu/mol\n",
"T1=5000 //R\n",
"T2=5500 //R\n",
"//calculations\n",
"Ut1=Uco2+1.88*Un2\n",
"Ut2=Uco22 + 1.88*Un22\n",
"disp('By extrapolation,')\n",
"Tx=5710 //R\n",
"//results\n",
"printf('Max. Temperature reached = %d R',Tx)\n",
"disp('The calculation for Ut2 is wrong in textbook. Please use a calculator.')"
   ]
   }
,
{
		   "cell_type": "markdown",
		   "metadata": {},
		   "source": [
			"## Example 15.3: Max_temperature_calculatio.sce"
		   ]
		  },
  {
"cell_type": "code",
	   "execution_count": null,
	   "metadata": {
	    "collapsed": true
	   },
	   "outputs": [],
"source": [
"clc\n",
"clear\n",
"//Initalization of variables\n",
"disp('By trial and error,')\n",
"X=0.201\n",
"X1=0.2\n",
"R=59.3 //universal gas constant\n",
"T=5000 //R\n",
"U=121200 //Btu/mol\n",
"Uco2=51635 //Btu/mol\n",
"Un2=27907 //Btu/mol\n",
"U3=29616 //Btu/mol\n",
"U4=27589 //Btu/mol\n",
"//calculations\n",
"kp1=R*(1-X1)/X1^1.5 /T^0.5\n",
"kp2=R*(1-X)/X^1.5 /T^0.5\n",
"q=(1-X)*Uco2 + X*Un2+ X/2 *U3 +1.88*U4 + X*U\n",
"disp('Interpolating between T=4500 R and T=5000 R, we get')\n",
"T2=4907 //R\n",
"//results\n",
"printf('Max. obtainable temperature = %d R',T2)"
   ]
   }
],
"metadata": {
		  "kernelspec": {
		   "display_name": "Scilab",
		   "language": "scilab",
		   "name": "scilab"
		  },
		  "language_info": {
		   "file_extension": ".sce",
		   "help_links": [
			{
			 "text": "MetaKernel Magics",
			 "url": "https://github.com/calysto/metakernel/blob/master/metakernel/magics/README.md"
			}
		   ],
		   "mimetype": "text/x-octave",
		   "name": "scilab",
		   "version": "0.7.1"
		  }
		 },
		 "nbformat": 4,
		 "nbformat_minor": 0
}
