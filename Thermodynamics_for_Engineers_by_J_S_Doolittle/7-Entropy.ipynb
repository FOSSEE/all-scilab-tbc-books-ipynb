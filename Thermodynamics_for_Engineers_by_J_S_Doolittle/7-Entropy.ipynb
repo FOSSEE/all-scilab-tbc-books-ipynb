{
"cells": [
 {
		   "cell_type": "markdown",
	   "metadata": {},
	   "source": [
       "# Chapter 7: Entropy"
	   ]
	},
{
		   "cell_type": "markdown",
		   "metadata": {},
		   "source": [
			"## Example 7.1: Change_in_Entropy.sce"
		   ]
		  },
  {
"cell_type": "code",
	   "execution_count": null,
	   "metadata": {
	    "collapsed": true
	   },
	   "outputs": [],
"source": [
"clc\n",
"clear\n",
"//Initialization of variables\n",
"T2=920 //R\n",
"T1=520 //R\n",
"P1=14 //psia\n",
"P2=84 //psia\n",
"J=778\n",
"R=53.35\n",
"cv=0.1715\n",
"N=1\n",
"//calculations\n",
"k= log(T2/T1) /log(P2/P1)\n",
"n=1/(1-k)\n",
"cx=cv+R/(J*(1-n))\n",
"dS=N*cx*log(T2/T1)\n",
"//results\n",
"printf('Change in entropy  = %.5f unit of entropy',dS)"
   ]
   }
],
"metadata": {
		  "kernelspec": {
		   "display_name": "Scilab",
		   "language": "scilab",
		   "name": "scilab"
		  },
		  "language_info": {
		   "file_extension": ".sce",
		   "help_links": [
			{
			 "text": "MetaKernel Magics",
			 "url": "https://github.com/calysto/metakernel/blob/master/metakernel/magics/README.md"
			}
		   ],
		   "mimetype": "text/x-octave",
		   "name": "scilab",
		   "version": "0.7.1"
		  }
		 },
		 "nbformat": 4,
		 "nbformat_minor": 0
}
