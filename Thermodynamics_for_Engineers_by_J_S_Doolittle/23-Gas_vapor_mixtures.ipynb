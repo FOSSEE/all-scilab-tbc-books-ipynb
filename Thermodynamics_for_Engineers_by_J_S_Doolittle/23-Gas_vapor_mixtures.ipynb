{
"cells": [
 {
		   "cell_type": "markdown",
	   "metadata": {},
	   "source": [
       "# Chapter 23: Gas vapor mixtures"
	   ]
	},
{
		   "cell_type": "markdown",
		   "metadata": {},
		   "source": [
			"## Example 23.1: Specific_humidity_calculatio.sce"
		   ]
		  },
  {
"cell_type": "code",
	   "execution_count": null,
	   "metadata": {
	    "collapsed": true
	   },
	   "outputs": [],
"source": [
"clc\n",
"clear\n",
"//Initalization of variables\n",
"pv=0.3631 //psia\n",
"pa=14.7 //psia\n",
"cp=0.24\n",
"tw=70 //F\n",
"td=80 //F\n",
"hv1=1096.6 //Btu/lb\n",
"hfb=38.06 //Btu/lb\n",
"//calculations\n",
"sh=0.622*pv/(pa-pv)\n",
"sh1=(cp*tw -cp*td + sh*1054.3)/(hv1-hfb)\n",
"//results\n",
"printf('Specific humidity = %.5f lb/lb',sh1)"
   ]
   }
,
{
		   "cell_type": "markdown",
		   "metadata": {},
		   "source": [
			"## Example 23.2: RH_calculatio.sce"
		   ]
		  },
  {
"cell_type": "code",
	   "execution_count": null,
	   "metadata": {
	    "collapsed": true
	   },
	   "outputs": [],
"source": [
"clc\n",
"clear\n",
"//Initalization of variables\n",
"rel=0.9\n",
"p1=0.0396 //psia\n",
"p2=0.3631 //psia\n",
"//calculations\n",
"act=rel*p1\n",
"RH=act/p2 *100\n",
"//results\n",
"printf('Relative humidity = %.1f percent',RH)"
   ]
   }
,
{
		   "cell_type": "markdown",
		   "metadata": {},
		   "source": [
			"## Example 23.3: Temperature_calculatio.sce"
		   ]
		  },
  {
"cell_type": "code",
	   "execution_count": null,
	   "metadata": {
	    "collapsed": true
	   },
	   "outputs": [],
"source": [
"clc\n",
"clear\n",
"//Initalization of variables\n",
"pa=14.2\n",
"rel=0.9\n",
"sh=0.012 //lb/lb\n",
"//calculations\n",
"pv=(pa*sh)/(0.622-sh)\n",
"sat=pv/rel\n",
"tf=64.34 //F\n",
"//results\n",
"printf('From steam tables, by interpolation, Final temperature = %.2f F',tf)"
   ]
   }
,
{
		   "cell_type": "markdown",
		   "metadata": {},
		   "source": [
			"## Example 23.4: Heat_calculations.sce"
		   ]
		  },
  {
"cell_type": "code",
	   "execution_count": null,
	   "metadata": {
	    "collapsed": true
	   },
	   "outputs": [],
"source": [
"clc\n",
"clear\n",
"//Initalization of variables\n",
"pa=14.7\n",
"pv=0.0356\n",
"pv2=0.04\n",
"cp=0.24\n",
"t1=70 //F\n",
"t2=15 //F\n",
"R=53.35\n",
"V=8000 //ft^3\n",
"//calculations\n",
"sh=0.622*pv/(pa-pv2)\n",
"hm2=cp*t1+ sh*1092.3\n",
"hm1=cp*t2+sh*1068.4\n",
"Q=hm2-hm1\n",
"m=144*(pa-pv2)*V/(R*(t2+460))\n",
"Q2=Q*m\n",
"//results\n",
"printf('Heat added per min = %d Btu/min',Q2)\n",
"disp('The answer is a bit different due to rounding off error in the textbook')"
   ]
   }
,
{
		   "cell_type": "markdown",
		   "metadata": {},
		   "source": [
			"## Example 23.5: Temperature_calculatio.sce"
		   ]
		  },
  {
"cell_type": "code",
	   "execution_count": null,
	   "metadata": {
	    "collapsed": true
	   },
	   "outputs": [],
"source": [
"clc\n",
"clear\n",
"//Initalization of variables\n",
"rel=0.45\n",
"p1=0.4747 //psia\n",
"disp('From steam table data,')\n",
"//calculations\n",
"act=rel*p1\n",
"t2=54.94 //F\n",
"//results\n",
"printf('Temperature = %.2f F',t2)"
   ]
   }
,
{
		   "cell_type": "markdown",
		   "metadata": {},
		   "source": [
			"## Example 23.6: Tonnage_calculation.sce"
		   ]
		  },
  {
"cell_type": "code",
	   "execution_count": null,
	   "metadata": {
	    "collapsed": true
	   },
	   "outputs": [],
"source": [
"clc\n",
"clear\n",
"//Initalization of variables\n",
"rel=0.6\n",
"p1=0.6982 //psia\n",
"pa=14.7 //psia\n",
"t1=90 //F\n",
"t2=54.94 //F\n",
"cp=0.24\n",
"p2=0.2136 //psia\n",
"vol=4000 //ft\n",
"t3=538 //R\n",
"R=53.35\n",
"//calculations\n",
"act1=rel*p1\n",
"sh1=0.622*act1/(pa-act1)\n",
"hm1=cp*t1+sh1*1100.9\n",
"sh2=0.622*p2/(pa-p2)\n",
"hm2=cp*t2+sh2*1085.8\n",
"con=sh1-sh2\n",
"enth=con*23.01\n",
"heat=hm1-hm2-enth\n",
"mass=144*(pa-p2)*vol/(R*(t3))\n",
"tonnage=mass*heat/200\n",
"//results\n",
"printf('Tonnage = %.1f tons ',tonnage)"
   ]
   }
,
{
		   "cell_type": "markdown",
		   "metadata": {},
		   "source": [
			"## Example 23.7: Tonnage_calculation.sce"
		   ]
		  },
  {
"cell_type": "code",
	   "execution_count": null,
	   "metadata": {
	    "collapsed": true
	   },
	   "outputs": [],
"source": [
"clc\n",
"clear\n",
"//Initalization of variables\n",
"p1=0.541 //psia\n",
"rel=0.48\n",
"pa=14.7 //psia\n",
"t1=82 //F\n",
"cp=0.24\n",
"m1=0.75 //lb\n",
"m2=0.25 //lb\n",
"hm4=23.15 //Btu/lb\n",
"mass=291 //lb\n",
"//calculations\n",
"p2=rel*p1\n",
"sh=0.622*p2/(pa-p2)\n",
"hm1=cp*t1 + sh*1097.5\n",
"hm2=m1*hm1\n",
"hm3=m2*41.67\n",
"heat=hm2+hm3-hm4\n",
"tonnage=heat*mass/200\n",
"//results\n",
"printf('Tonnage = %.2f tons',tonnage)"
   ]
   }
,
{
		   "cell_type": "markdown",
		   "metadata": {},
		   "source": [
			"## Example 23.8: Volume_calculatio.sce"
		   ]
		  },
  {
"cell_type": "code",
	   "execution_count": null,
	   "metadata": {
	    "collapsed": true
	   },
	   "outputs": [],
"source": [
"clc\n",
"clear\n",
"//Initalization of variables\n",
"ce=0.8\n",
"t1=115 //F\n",
"tc=75 //F\n",
"td=85 //F\n",
"pa=14.7 //psia\n",
"p1=0.43 //psia\n",
"p2=0.9492 //psia\n",
"m1=159600\n",
"m2=31.65\n",
"R=53.35\n",
"T=545 //R\n",
"//calculations\n",
"t2=t1-ce*(t1-tc)\n",
"Pv=0.4298- (pa-p1)*(td-tc)/(2800- 1.3*tc) \n",
"sh1=0.622*Pv/(pa-Pv)\n",
"sh2=0.622 *p2/(pa-p2)\n",
"mda=m1/m2\n",
"V=mda*R*T/(144*(pa-Pv))\n",
"amount=mda*(sh2-sh1)\n",
"//results\n",
"printf('Volume of entering air = %d cfm',V)\n",
"printf('\n Amount of make up water = %.1f lb/min',amount)\n",
"disp('The answers are a bit different due to rounding off error in textbook')"
   ]
   }
],
"metadata": {
		  "kernelspec": {
		   "display_name": "Scilab",
		   "language": "scilab",
		   "name": "scilab"
		  },
		  "language_info": {
		   "file_extension": ".sce",
		   "help_links": [
			{
			 "text": "MetaKernel Magics",
			 "url": "https://github.com/calysto/metakernel/blob/master/metakernel/magics/README.md"
			}
		   ],
		   "mimetype": "text/x-octave",
		   "name": "scilab",
		   "version": "0.7.1"
		  }
		 },
		 "nbformat": 4,
		 "nbformat_minor": 0
}
