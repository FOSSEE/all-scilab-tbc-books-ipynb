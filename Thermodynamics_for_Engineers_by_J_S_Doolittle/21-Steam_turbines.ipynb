{
"cells": [
 {
		   "cell_type": "markdown",
	   "metadata": {},
	   "source": [
       "# Chapter 21: Steam turbines"
	   ]
	},
{
		   "cell_type": "markdown",
		   "metadata": {},
		   "source": [
			"## Example 21.1: Rate_of_flow_calculatio.sce"
		   ]
		  },
  {
"cell_type": "code",
	   "execution_count": null,
	   "metadata": {
	    "collapsed": true
	   },
	   "outputs": [],
"source": [
"clc\n",
"clear\n",
"//Initalization of variables\n",
"p2=190 //psia\n",
"p1=110 //psia\n",
"v1=2.456 \n",
"k=1.3\n",
"J=778\n",
"A2=1.2 //in^2\n",
"//calculations\n",
"v2=v1*(p2/p1)^(1/k)\n",
"dh=k/(k-1) *144/J *(p2*v1-p1*v2)\n",
"Vex=223.8*sqrt(dh)\n",
"m=A2*Vex/(144*v2)\n",
"//results\n",
"printf('Rate of flow = %.2f lb/sec',m)"
   ]
   }
,
{
		   "cell_type": "markdown",
		   "metadata": {},
		   "source": [
			"## Example 21.2: Rate_of_flow_calculatio.sce"
		   ]
		  },
  {
"cell_type": "code",
	   "execution_count": null,
	   "metadata": {
	    "collapsed": true
	   },
	   "outputs": [],
"source": [
"clc\n",
"clear\n",
"//Initalization of variables\n",
"h1=1205.8 //Btu/lb\n",
"s2=1.5594\n",
"sf=1.5948\n",
"sfg=1.1117\n",
"hf=1188.9 //Btu/lb\n",
"hfg=883.2 //Btu/lb\n",
"vf=4.049\n",
"vfg=vf-0.018\n",
"k=1.3\n",
"J=778\n",
"A2=1.2 //in^2\n",
"//calculations\n",
"x2=-(s2-sf)/sfg\n",
"h2=hf-x2*hfg\n",
"v2=vf-x2*vfg\n",
"dh=h1-h2\n",
"Vex=223.8*sqrt(dh)\n",
"m=A2*Vex/(144*v2)\n",
"//results\n",
"printf('Rate of flow = %.2f lb/sec',m)\n",
""
   ]
   }
,
{
		   "cell_type": "markdown",
		   "metadata": {},
		   "source": [
			"## Example 21.3: Blade_work_and_efficiency.sce"
		   ]
		  },
  {
"cell_type": "code",
	   "execution_count": null,
	   "metadata": {
	    "collapsed": true
	   },
	   "outputs": [],
"source": [
"clc\n",
"clear\n",
"//Initalization of variables\n",
"alp=14 //degrees\n",
"vb=900 //ft/s\n",
"v1=2200 //ft/s\n",
"g=32.17 //ft/s^2\n",
"//calculations\n",
"vrc=v1*cosd(alp) - vb\n",
"W=(2*vrc)/g *vb\n",
"eta=W/(v1^2/ (2*g)) *100\n",
"bet=atand(v1*sind(alp) /vrc)\n",
"//results\n",
"printf('Blade work = %d ft-lb/lb',W)\n",
"printf('\n Efficiency = %.1f percent',eta)\n",
"printf('\n Blade angle = %.1f degrees',bet)\n",
"disp('The answers are a bit different due to rounding off error')"
   ]
   }
,
{
		   "cell_type": "markdown",
		   "metadata": {},
		   "source": [
			"## Example 21.4: Blade_work_and_efficiency.sce"
		   ]
		  },
  {
"cell_type": "code",
	   "execution_count": null,
	   "metadata": {
	    "collapsed": true
	   },
	   "outputs": [],
"source": [
"clc\n",
"clear\n",
"//Initalization of variables\n",
"v1=1234 //ft/s\n",
"v2=532 //ft/s \n",
"kb=0.92\n",
"alp=20 //degrees\n",
"ve=900 //ft/s\n",
"r=2200 //ft/s\n",
"g=32.17 //ft/s^2\n",
"//calculations\n",
"vr=sqrt(v1^2 +v2^2)\n",
"vr2=vr*kb\n",
"vrc=vr2*cosd(alp)\n",
"W=(v1+vrc)*ve/g\n",
"eta=W/(r^2 /(2*g)) *100\n",
"//results\n",
"printf('Blade work = %d ft-lb/lb',W)\n",
"printf('\n Efficiency = %.1f percent',eta)\n",
"disp('The answers are a bit different due to rounding off error')"
   ]
   }
,
{
		   "cell_type": "markdown",
		   "metadata": {},
		   "source": [
			"## Example 21.5: Blade_reheat_calculatio.sce"
		   ]
		  },
  {
"cell_type": "code",
	   "execution_count": null,
	   "metadata": {
	    "collapsed": true
	   },
	   "outputs": [],
"source": [
"clc\n",
"clear\n",
"//Initalization of variables\n",
"v1=1234\n",
"v2=532\n",
"kb=0.92\n",
"alp=20 //degrees\n",
"ve=900\n",
"r=2200 //ft/s\n",
"g=32.17 //ft/s^2\n",
"J=778\n",
"w=67000\n",
"//calculations\n",
"vr=sqrt(v1^2 +v2^2)\n",
"vr2=vr*kb\n",
"vrc=vr2*cosd(alp)\n",
"reheat=(vr^2 - vr2^2 )/(2*g*J)\n",
"v22=sqrt((vrc-ve)^2 +(vr2*sind(alp))^2)\n",
"ein=r^2 /(2*g*J)\n",
"eout=w/J + v22^2 /(2*g*J)\n",
"re2=ein-eout\n",
"//results\n",
"printf('\n In case 1, Blade reheat = %.2f Btu/lb',reheat)\n",
"printf('\n In case 2, Blade reheat = %.1f Btu/lb',re2)"
   ]
   }
,
{
		   "cell_type": "markdown",
		   "metadata": {},
		   "source": [
			"## Example 21.6: Pressure_calculatio.sce"
		   ]
		  },
  {
"cell_type": "code",
	   "execution_count": null,
	   "metadata": {
	    "collapsed": true
	   },
	   "outputs": [],
"source": [
"clc\n",
"clear\n",
"//Initalization of variables\n",
"h1=1416.4\n",
"s1=1.6842\n",
"sf=1.7319\n",
"sfg=1.3962\n",
"fac=1.05\n",
"x2=0.7\n",
"//calculations\n",
"x6=-(s1-sf)/sfg\n",
"h6=1156.3 - x6*960.1\n",
"dh6=h1-h6\n",
"drop= fac*h6/2\n",
"h2=h1-drop\n",
"first=(1-x2)*drop\n",
"h3=1264.1 +first\n",
"h4=1157 //Btu/lb\n",
"fac2=(drop+153)/dh6\n",
"disp('From air charts,')\n",
"p2=107 //psia\n",
"//results\n",
"printf('Intermediate pressure = %d psia',p2)"
   ]
   }
,
{
		   "cell_type": "markdown",
		   "metadata": {},
		   "source": [
			"## Example 21.7: Shaft_output_and_efficiency_calculation.sce"
		   ]
		  },
  {
"cell_type": "code",
	   "execution_count": null,
	   "metadata": {
	    "collapsed": true
	   },
	   "outputs": [],
"source": [
"clc\n",
"clear\n",
"//Initalization of variables\n",
"reh=1.047\n",
"dh6=292.8\n",
"x2=0.7\n",
"flow=98000 //lb/hr\n",
"loss=200 //hp\n",
"//calculations\n",
"intwork=reh*dh6*x2\n",
"inthp=intwork*flow/2544\n",
"sout=inthp-loss\n",
"swork=sout*2544/flow\n",
"seff=swork/290.1 *100\n",
"//results\n",
"printf('Shaft output = %d hp',sout)\n",
"printf('\n Shaft engine efficiency = %.1f percent',seff)"
   ]
   }
,
{
		   "cell_type": "markdown",
		   "metadata": {},
		   "source": [
			"## Example 21.8: Pressure_at_Exit_calculatio.sce"
		   ]
		  },
  {
"cell_type": "code",
	   "execution_count": null,
	   "metadata": {
	    "collapsed": true
	   },
	   "outputs": [],
"source": [
"clc\n",
"clear\n",
"//Initalization of variables\n",
"h1=1416.4 //Btu/lb\n",
"h2=214.5 //Btu/lb\n",
"//calculations\n",
"hex=h1-h2\n",
"disp('From Air tables,')\n",
"pe=20 //psia\n",
"te=321.5 //F\n",
"//results\n",
"printf('Exit Pressure = %d psia',pe)\n",
"printf('\n Exit temperature = %.1f F',te)"
   ]
   }
,
{
		   "cell_type": "markdown",
		   "metadata": {},
		   "source": [
			"## Example 21.9: Steam_rate_calculatio.sce"
		   ]
		  },
  {
"cell_type": "code",
	   "execution_count": null,
	   "metadata": {
	    "collapsed": true
	   },
	   "outputs": [],
"source": [
"clc\n",
"clear\n",
"//Initalization of variables\n",
"flow=98000 //lb/hr\n",
"loss=200 //hp\n",
"x= 0.11 //percent\n",
"shp=3000 //hp\n",
"//calculations\n",
"sflow = x*flow\n",
"sflow2= sflow + (flow-sflow)*shp/8060\n",
"srate=sflow2/shp\n",
"//results\n",
"printf('Steam rate required = %.2f lb/hp-hr',srate)"
   ]
   }
],
"metadata": {
		  "kernelspec": {
		   "display_name": "Scilab",
		   "language": "scilab",
		   "name": "scilab"
		  },
		  "language_info": {
		   "file_extension": ".sce",
		   "help_links": [
			{
			 "text": "MetaKernel Magics",
			 "url": "https://github.com/calysto/metakernel/blob/master/metakernel/magics/README.md"
			}
		   ],
		   "mimetype": "text/x-octave",
		   "name": "scilab",
		   "version": "0.7.1"
		  }
		 },
		 "nbformat": 4,
		 "nbformat_minor": 0
}
