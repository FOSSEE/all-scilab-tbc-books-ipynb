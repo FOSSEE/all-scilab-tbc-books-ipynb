{
"cells": [
 {
		   "cell_type": "markdown",
	   "metadata": {},
	   "source": [
       "# Chapter 12: Heat Transfer"
	   ]
	},
{
		   "cell_type": "markdown",
		   "metadata": {},
		   "source": [
			"## Example 12.10: Heat_calculatio.sce"
		   ]
		  },
  {
"cell_type": "code",
	   "execution_count": null,
	   "metadata": {
	    "collapsed": true
	   },
	   "outputs": [],
"source": [
"clc\n",
"clear\n",
"//Initialization of variables\n",
"Do=2.375 //in\n",
"hi=1200\n",
"Di=2.067 //in\n",
"km=29.2\n",
"h0=1500\n",
"L=2.375 //in\n",
"t1=220 //F\n",
"t4=140 //F\n",
"//calculations\n",
"U0= 1/(Do/(Di*hi) + (Do/12 *log(Do/Di) /(2*km)) + 1/h0)\n",
"Q=U0*L*%pi*(t1-t4)/12\n",
"//results\n",
"printf('Heat transferred per foot length of pipe = %d btu/hr',Q)"
   ]
   }
,
{
		   "cell_type": "markdown",
		   "metadata": {},
		   "source": [
			"## Example 12.11: Temperature_calculatio.sce"
		   ]
		  },
  {
"cell_type": "code",
	   "execution_count": null,
	   "metadata": {
	    "collapsed": true
	   },
	   "outputs": [],
"source": [
"clc\n",
"clear\n",
"//Initialization of variables\n",
"Do=2.375 //in\n",
"hi=1200\n",
"Di=2.067 //in\n",
"km=29.2\n",
"h0=1500\n",
"L=2.375 //in\n",
"t1=220 //F\n",
"t4=140 //F\n",
"//calculations\n",
"Re=Do/(Di*hi)\n",
"R0=Do/(Di*hi) + (Do/12 *log(Do/Di) /(2*km)) + 1/h0\n",
"td=Re/R0 *(t1-t4)\n",
"ti=t4+td\n",
"Req=1/h0\n",
"td2=Req/R0 *(t1-t4)\n",
"to=t1-td2\n",
"//results\n",
"printf('The temperature of the inner surface of pipe = %.1f F',ti)\n",
"printf('\n The temperature of the outer surface of pipe = %.1f F',to)"
   ]
   }
,
{
		   "cell_type": "markdown",
		   "metadata": {},
		   "source": [
			"## Example 12.12: LMTD_Calculatio.sce"
		   ]
		  },
  {
"cell_type": "code",
	   "execution_count": null,
	   "metadata": {
	    "collapsed": true
	   },
	   "outputs": [],
"source": [
"clc\n",
"clear\n",
"//Initialization of variables\n",
"th1=800 //F\n",
"th2=300 //F\n",
"tc1=100 //F\n",
"tc2=400 //F\n",
"//calculations\n",
"lmtd= ((th1-tc2) - (th2-tc1) )/(log((th1-tc2)/(th2-tc1)))\n",
"//results\n",
"printf('Logarithmic Mean temperature difference = %d F',lmtd)"
   ]
   }
,
{
		   "cell_type": "markdown",
		   "metadata": {},
		   "source": [
			"## Example 12.13: True_MTD_Calculatio.sce"
		   ]
		  },
  {
"cell_type": "code",
	   "execution_count": null,
	   "metadata": {
	    "collapsed": true
	   },
	   "outputs": [],
"source": [
"clc\n",
"clear\n",
"//Initialization of variables\n",
"th1=200 //F\n",
"th2=100 //F\n",
"tc1=80 //F\n",
"tc2=110 //F\n",
"//calculations\n",
"disp('From the lmtd graph,')\n",
"R=(tc1-tc2)/(th2-th1)\n",
"P=(th2-th1)/(tc1-th1)\n",
"F=0.62\n",
"lmtd= F* ((th1-tc2) - (th2-tc1) )/(log((th1-tc2)/(th2-tc1)))\n",
"//results\n",
"printf('True Mean temperature difference = %.1f F',lmtd)"
   ]
   }
,
{
		   "cell_type": "markdown",
		   "metadata": {},
		   "source": [
			"## Example 12.1: Temperature_calculatio.sce"
		   ]
		  },
  {
"cell_type": "code",
	   "execution_count": null,
	   "metadata": {
	    "collapsed": true
	   },
	   "outputs": [],
"source": [
"clc\n",
"clear\n",
"//Initialization of variables\n",
"km1=0.62\n",
"km2=0.16\n",
"km3=0.4\n",
"l1=8 //in\n",
"l2=4 //in\n",
"l3=4 //in\n",
"Tf=1600 //F\n",
"Tc=100 //F\n",
"//calculations\n",
"Rw=l1/12/km1 +l2/12/km2 +l3/12/km3\n",
"Rb=l1/12/km1\n",
"Ti=Tf-Rb/Rw *(Tf-Tc)\n",
"//results\n",
"printf('Interface temperature = %.1f F',Ti)\n",
"disp('The answers might differ a bit from textbook due to rounding off error.')"
   ]
   }
,
{
		   "cell_type": "markdown",
		   "metadata": {},
		   "source": [
			"## Example 12.2: Heat_flow_calculations.sce"
		   ]
		  },
  {
"cell_type": "code",
	   "execution_count": null,
	   "metadata": {
	    "collapsed": true
	   },
	   "outputs": [],
"source": [
"clc\n",
"clear\n",
"//Initialization of variables\n",
"th=350 //F\n",
"tc=150 //F\n",
"od1=4.5\n",
"id1=4.026\n",
"od2=6.5\n",
"id2=4.5\n",
"k1=32\n",
"k2=0.042\n",
"//calculations\n",
"Q=2*%pi*(th-tc)/(log(od1/id1) /k1 + log(od2/id2) /k2)\n",
"r1=log(od1/id1) /k1\n",
"rt=log(od1/id1) /k1 + log(od2/id2) /k2\n",
"ti=th-r1/rt*(th-tc)\n",
"//results\n",
"printf('Heat flow = %.1f Btu/hr',Q)\n",
"printf('\n Interface temperature = %.2f F',ti)"
   ]
   }
,
{
		   "cell_type": "markdown",
		   "metadata": {},
		   "source": [
			"## Example 12.3: Energy_exchange_calculations.sce"
		   ]
		  },
  {
"cell_type": "code",
	   "execution_count": null,
	   "metadata": {
	    "collapsed": true
	   },
	   "outputs": [],
"source": [
"clc\n",
"clear\n",
"//Initialization of variables\n",
"Fa=0.045\n",
"l=4 //m\n",
"b=4 //m\n",
"Fe=1\n",
"Ta=540+460 //R\n",
"Tb=1540+460 //R\n",
"//calculations\n",
"A=l*b\n",
"Q=0.173*A*Fa*Fe*((Tb/100)^4 -(Ta/100)^4)\n",
"Q2=416000\n",
"//results\n",
"printf('In case 1, Net energy exchange = %d Btu/hr',Q)\n",
"printf('\n In case 2, Net energy exchange = %d Btu/hr',Q2)\n",
"disp('The answers are a bit different due to rounding off error in textbook')"
   ]
   }
,
{
		   "cell_type": "markdown",
		   "metadata": {},
		   "source": [
			"## Example 12.4: Energy_Exchange_calculation.sce"
		   ]
		  },
  {
"cell_type": "code",
	   "execution_count": null,
	   "metadata": {
	    "collapsed": true
	   },
	   "outputs": [],
"source": [
"clc\n",
"clear\n",
"//Initialization of variables\n",
"ea=0.8\n",
"eb=0.7\n",
"Fa=0.045\n",
"l=4 //m\n",
"b=4 //m\n",
"Fe=1\n",
"Ta=540+460 //R\n",
"Tb=1540+460 //R\n",
"//calculations\n",
"A=l*b\n",
"ef=ea*eb\n",
"Q=0.173*A*Fa*Fe*ef*((Tb/100)^4 -(Ta/100)^4)\n",
"//results\n",
"printf('Net energy exchange = %d Btu/hr',Q)\n",
"disp('The answers are a bit different due to rounding off error in textbook')"
   ]
   }
,
{
		   "cell_type": "markdown",
		   "metadata": {},
		   "source": [
			"## Example 12.5: Inside_film_coefficient_calculation.sce"
		   ]
		  },
  {
"cell_type": "code",
	   "execution_count": null,
	   "metadata": {
	    "collapsed": true
	   },
	   "outputs": [],
"source": [
"clc\n",
"clear\n",
"//Initialization of variables\n",
"den=61.995 //lb/cu ft\n",
"vel=6 //ft/s\n",
"t1=100 //F\n",
"t2=160 //F\n",
"de=2.067 //in\n",
"mu=1.238\n",
"pr=3.3\n",
"//calculations\n",
"G=den*vel*3600\n",
"tm=(t1+t2)/2\n",
"hc=0.023*0.377/(de/12) *(de/12 *G/mu)^0.8 *(pr)^0.4\n",
"//results\n",
"printf('Inside film coefficient = %d Btu/sq ft hr F',hc)"
   ]
   }
,
{
		   "cell_type": "markdown",
		   "metadata": {},
		   "source": [
			"## Example 12.6: Inside_film_coefficient_calculation.sce"
		   ]
		  },
  {
"cell_type": "code",
	   "execution_count": null,
	   "metadata": {
	    "collapsed": true
	   },
	   "outputs": [],
"source": [
"clc\n",
"clear\n",
"//Initialization of variables\n",
"d=0.5 //in\n",
"tm=1000 //F\n",
"v=5//ft/s\n",
"k=38.2\n",
"den=51.2\n",
"mu=0.3\n",
"//calculations\n",
"Nu=7+ 0.025*(d/12 *v*den*mu/k*3600)^0.8\n",
"h=Nu*k/(d/12)\n",
"//results\n",
"printf('Inside film coefficient = %d Btu/sq ft hr F',h)"
   ]
   }
,
{
		   "cell_type": "markdown",
		   "metadata": {},
		   "source": [
			"## Example 12.7: convective_film_coefficient_calculation.sce"
		   ]
		  },
  {
"cell_type": "code",
	   "execution_count": null,
	   "metadata": {
	    "collapsed": true
	   },
	   "outputs": [],
"source": [
"clc\n",
"clear\n",
"//Initialization of variablesdo=2 //in\n",
"tf=120 //F\n",
"ti=80 //F\n",
"rho=0.0709\n",
"g=32.17\n",
"bet=1/560\n",
"cp=0.24\n",
"mu=0.0461\n",
"k=0.0157\n",
"d=2 //in\n",
"Cd=0.45\n",
"//calculations\n",
"GrPr=(d/12)^3 *rho^2 *g*3600^2 *bet*(tf-ti)*cp/(mu*k)\n",
"hc=Cd*k/(d/12)^(1/4) *GrPr^(1/4)\n",
"//results\n",
"printf('Convective film coefficient = %.3f Btu/sq ft hr F',hc)"
   ]
   }
,
{
		   "cell_type": "markdown",
		   "metadata": {},
		   "source": [
			"## Example 12.8: Outer_film_coefficient_calculation.sce"
		   ]
		  },
  {
"cell_type": "code",
	   "execution_count": null,
	   "metadata": {
	    "collapsed": true
	   },
	   "outputs": [],
"source": [
"clc\n",
"clear\n",
"//Initialization of variables\n",
"tf=220 //F\n",
"ti=200 //F\n",
"d=2 //in\n",
"C=103.7\n",
"k=0.394\n",
"rho=59.37\n",
"hfg=965.2\n",
"mu=0.70\n",
"//calculations\n",
"h=C*(k^3 *rho^2 *hfg/((d/12) *mu*(tf-ti)))^(1/4)\n",
"//results\n",
"printf('Outer film coefficient = %d Btu/sq ft hr F',h)"
   ]
   }
,
{
		   "cell_type": "markdown",
		   "metadata": {},
		   "source": [
			"## Example 12.9: Boiling_film_coefficient_calculation.sce"
		   ]
		  },
  {
"cell_type": "code",
	   "execution_count": null,
	   "metadata": {
	    "collapsed": true
	   },
	   "outputs": [],
"source": [
"clc\n",
"clear\n",
"//Initialization of variables\n",
"tf=225 //F\n",
"a=190\n",
"b=0.043\n",
"ti=212 //F\n",
"//calculations\n",
"hc=a/(1-b*(tf-ti))\n",
"hcti=hc*1.25\n",
"//results\n",
"printf('For a flat copper plate, boiling film coefficient = %.1f Btu/sq ft hr F',hc)\n",
"printf('\n For an inclined copper plate, boiling film coefficient = %d Btu/sq ft hr F',hcti)"
   ]
   }
],
"metadata": {
		  "kernelspec": {
		   "display_name": "Scilab",
		   "language": "scilab",
		   "name": "scilab"
		  },
		  "language_info": {
		   "file_extension": ".sce",
		   "help_links": [
			{
			 "text": "MetaKernel Magics",
			 "url": "https://github.com/calysto/metakernel/blob/master/metakernel/magics/README.md"
			}
		   ],
		   "mimetype": "text/x-octave",
		   "name": "scilab",
		   "version": "0.7.1"
		  }
		 },
		 "nbformat": 4,
		 "nbformat_minor": 0
}
