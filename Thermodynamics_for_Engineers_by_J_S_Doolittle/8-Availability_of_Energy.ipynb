{
"cells": [
 {
		   "cell_type": "markdown",
	   "metadata": {},
	   "source": [
       "# Chapter 8: Availability of Energy"
	   ]
	},
{
		   "cell_type": "markdown",
		   "metadata": {},
		   "source": [
			"## Example 8.1: Energy_loss_calculations.sce"
		   ]
		  },
  {
"cell_type": "code",
	   "execution_count": null,
	   "metadata": {
	    "collapsed": true
	   },
	   "outputs": [],
"source": [
"clc\n",
"clear\n",
"//Initialization of variables\n",
"q=1000 //Btu\n",
"th=1140 //F\n",
"tl=40 //F\n",
"ts=940 //F\n",
"//calculations\n",
"Q1=q*(th-tl)/(th+460)\n",
"Q2=q*(ts-tl)/(ts+460)\n",
"dif=Q1-Q2\n",
"//results\n",
"printf('Available energy loss = %d Btu',dif)"
   ]
   }
,
{
		   "cell_type": "markdown",
		   "metadata": {},
		   "source": [
			"## Example 8.2: Energy_loss_calculations.sce"
		   ]
		  },
  {
"cell_type": "code",
	   "execution_count": null,
	   "metadata": {
	    "collapsed": true
	   },
	   "outputs": [],
"source": [
"clc\n",
"clear\n",
"//Initialization of variables\n",
"ma=200000 //lb\n",
"cpa=0.26\n",
"T2g=1200 //F\n",
"T1g=300 //F\n",
"T1w=200 //F\n",
"mw=250000 //lb\n",
"cpw=1.02\n",
"Tl=560  //R\n",
"cx=1.01\n",
"//calculations\n",
"T2w=T1w+ ma*cpa*(T2g-T1g)/(mw*cpw)\n",
"Qun=Tl*ma*cpa*log((T2g+460)/(T1g+460))\n",
"Qtr=ma*cpa*(T2g-T1g)\n",
"Qav=Qtr-Qun\n",
"Qun2=Tl*mw*cx*log((T2w+460)/(T1w+460))\n",
"Qav2=Qtr-Qun2\n",
"ht1=Qav-Qav2\n",
"//results\n",
"printf('For gas, Untransferred energy = %d Btu/hr',Qun)\n",
"printf('\n For gas, transferred energy = %d Btu/hr',Qtr)\n",
"printf('\n For gas, available energy = %d Btu/hr',Qav)\n",
"printf('\n For water, Untransferred energy = %d Btu/hr',Qun2)\n",
"printf('\n For water, available energy = %d Btu/hr',Qav2)\n",
"printf('\n Loss of available energy = %d Btu/hr',ht1)\n",
"disp('The answers are a bit different due to rounding off error in textbook')"
   ]
   }
],
"metadata": {
		  "kernelspec": {
		   "display_name": "Scilab",
		   "language": "scilab",
		   "name": "scilab"
		  },
		  "language_info": {
		   "file_extension": ".sce",
		   "help_links": [
			{
			 "text": "MetaKernel Magics",
			 "url": "https://github.com/calysto/metakernel/blob/master/metakernel/magics/README.md"
			}
		   ],
		   "mimetype": "text/x-octave",
		   "name": "scilab",
		   "version": "0.7.1"
		  }
		 },
		 "nbformat": 4,
		 "nbformat_minor": 0
}
