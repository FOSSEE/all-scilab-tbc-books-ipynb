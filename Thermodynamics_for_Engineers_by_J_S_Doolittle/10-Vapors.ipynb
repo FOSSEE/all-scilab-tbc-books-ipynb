{
"cells": [
 {
		   "cell_type": "markdown",
	   "metadata": {},
	   "source": [
       "# Chapter 10: Vapors"
	   ]
	},
{
		   "cell_type": "markdown",
		   "metadata": {},
		   "source": [
			"## Example 10.10: Enthalpy_calculations.sce"
		   ]
		  },
  {
"cell_type": "code",
	   "execution_count": null,
	   "metadata": {
	    "collapsed": true
	   },
	   "outputs": [],
"source": [
"clc\n",
"clear\n",
"//Initialization of variables\n",
"disp('From table 1 of keenan and keynes,')\n",
"in=440000 //lb/hr\n",
"out=255000 //lb/hr\n",
"p1=400 //psia\n",
"t1=700 //F\n",
"p2=35 //psia\n",
"t2=290 //F\n",
"vel=500 //ft/s\n",
"hp=44000 //hp\n",
"ent=1362.7 //Btu/lb\n",
"//calculations\n",
"ein=ent*in\n",
"eout=hp*2544 + out*1183 + 925000\n",
"h2= (ein-eout)/185000\n",
"//results\n",
"printf('Specific enthalpy of exhaust steam = %d Btu/lb',h2)"
   ]
   }
,
{
		   "cell_type": "markdown",
		   "metadata": {},
		   "source": [
			"## Example 10.11: Loss_calculations.sce"
		   ]
		  },
  {
"cell_type": "code",
	   "execution_count": null,
	   "metadata": {
	    "collapsed": true
	   },
	   "outputs": [],
"source": [
"clc\n",
"clear\n",
"//Initialization of variables\n",
"disp('From table 1 of keenan and keynes,')\n",
"h1=1351.1 //Btu/lb\n",
"p1=600 //psia\n",
"t1=700 //F\n",
"p2=234 //psia\n",
"h2=1.6865\n",
"h1=1.5875\n",
"t3=101.74\n",
"//calculations\n",
"t2=660 //F\n",
"loss= (h2-h1)*(t3+459.69)\n",
"//results\n",
"printf('Final state of steam is %d psia and %d F',p2,t2)\n",
"printf('\n Loss of available energy = %.1f Btu/lb',loss)"
   ]
   }
,
{
		   "cell_type": "markdown",
		   "metadata": {},
		   "source": [
			"## Example 10.12: State_calculations.sce"
		   ]
		  },
  {
"cell_type": "code",
	   "execution_count": null,
	   "metadata": {
	    "collapsed": true
	   },
	   "outputs": [],
"source": [
"clc\n",
"clear\n",
"//Initialization of variables\n",
"disp('From table 2 of keenan and keynes,')\n",
"p1=98.87 //psia\n",
"p2=31.78 //psia\n",
"t1=80 //F\n",
"h2=26.365 //btu/lb\n",
"h1=11.554 //btu/lb\n",
"hfg=67.203 //btu/lb\n",
"//calculations\n",
"x=(h2-h1)/hfg\n",
"//results\n",
"printf('The state of vapor leaving is  %.2f psia with a quality of %.2f percent',p2,x*100)"
   ]
   }
,
{
		   "cell_type": "markdown",
		   "metadata": {},
		   "source": [
			"## Example 10.13: Mean_state_calculations.sce"
		   ]
		  },
  {
"cell_type": "code",
	   "execution_count": null,
	   "metadata": {
	    "collapsed": true
	   },
	   "outputs": [],
"source": [
"clc\n",
"clear\n",
"//Initialization of variables\n",
"ps=216 //psig\n",
"pb=29.12 //in of Hg\n",
"p2=0.4 //in\n",
"t2=244 //F\n",
"//calculations\n",
"pa=0.491*pb\n",
"pabs=pa + p2*0.491\n",
"plb=pa+ ps\n",
"hcal=1166.5 //Btu/lb\n",
"h2=1200.1 //Btu/lb\n",
"h3=831.9 //Btu/lb\n",
"y=-(hcal-h2)/h3\n",
"//results\n",
"printf('Mean state in the line is %.1f psia with a moisture content of %.2f percent',plb,y*100)"
   ]
   }
,
{
		   "cell_type": "markdown",
		   "metadata": {},
		   "source": [
			"## Example 10.1: Enthalpy_calculations.sce"
		   ]
		  },
  {
"cell_type": "code",
	   "execution_count": null,
	   "metadata": {
	    "collapsed": true
	   },
	   "outputs": [],
"source": [
"clc\n",
"clear\n",
"//Initialization of variables\n",
"p=3000 //psia\n",
"T=250 //F\n",
"//calculations\n",
"disp('From table 1, keenan and keynes,')\n",
"vf=0.01700\n",
"disp('From table 4,')\n",
"dvf=-18.3*10^-5 \n",
"v=vf+dvf\n",
"disp('From table 1,')\n",
"hf=218.48\n",
"disp('From table 4,')\n",
"dhf=6.13\n",
"h=hf+dhf\n",
"sf=0.3675\n",
"dsf=-4.34*10^-3\n",
"s=sf+dsf\n",
"//results\n",
"printf('Specific volume = %.5f cu ft/lb',v)\n",
"printf('\n Enthalpy = %.2f Btu/lb',h)\n",
"printf('\n Entropy  = %.4f Btu/lb per deg R',s)"
   ]
   }
,
{
		   "cell_type": "markdown",
		   "metadata": {},
		   "source": [
			"## Example 10.2: Moisture_content_calculation.sce"
		   ]
		  },
  {
"cell_type": "code",
	   "execution_count": null,
	   "metadata": {
	    "collapsed": true
	   },
	   "outputs": [],
"source": [
"clc\n",
"clear\n",
"//Initialization of variables\n",
"h=1100 //Btu/lb\n",
"P=100 //psia\n",
"//calculations\n",
"disp('From table 2 of keenan and keynes,')\n",
"hg=1187.2 //Btu/lb\n",
"hfg=888.8 //Btu/lb\n",
"y=-(h-hg)/hfg\n",
"//results\n",
"printf('The state is %d psia with a moisture content of %.2f percent',P,y*100)"
   ]
   }
,
{
		   "cell_type": "markdown",
		   "metadata": {},
		   "source": [
			"## Example 10.3: State_calculations.sce"
		   ]
		  },
  {
"cell_type": "code",
	   "execution_count": null,
	   "metadata": {
	    "collapsed": true
	   },
	   "outputs": [],
"source": [
"clc\n",
"clear\n",
"//Initialization of variables\n",
"disp('From table 1 of keenan and keynes,')\n",
"v1=0.2688\n",
"//calculations\n",
"v2=3.060\n",
"p2=200 //psia\n",
"t2=600 //F\n",
"//results\n",
"printf('State of steam is %d psia and %d F',p2,t2)"
   ]
   }
,
{
		   "cell_type": "markdown",
		   "metadata": {},
		   "source": [
			"## Example 10.4: State_calculations.sce"
		   ]
		  },
  {
"cell_type": "code",
	   "execution_count": null,
	   "metadata": {
	    "collapsed": true
	   },
	   "outputs": [],
"source": [
"clc\n",
"clear\n",
"//Initialization of variables\n",
"disp('From table 2 of keenan and keynes,')\n",
"t1=439.60 //F\n",
"u1=1118.4 //Btu/lb\n",
"//calculations\n",
"p2=380 //psia\n",
"//results\n",
"printf('The state of steam is saturated at %d psia and %.2f F',p2,t1)"
   ]
   }
,
{
		   "cell_type": "markdown",
		   "metadata": {},
		   "source": [
			"## Example 10.5: State_calculations.sce"
		   ]
		  },
  {
"cell_type": "code",
	   "execution_count": null,
	   "metadata": {
	    "collapsed": true
	   },
	   "outputs": [],
"source": [
"clc\n",
"clear\n",
"//Initialization of variables\n",
"disp('From table 2 of keenan and keynes,')\n",
"p1=1 //in of Hg\n",
"s=1.9812 \n",
"//calculations\n",
"sf=2.0387\n",
"sfg=1.9473\n",
"y=-(s-sf)/sfg\n",
"//results\n",
"printf('The state is %d in of Hg with a moisture content of %.2f percent',p1,y*100)"
   ]
   }
,
{
		   "cell_type": "markdown",
		   "metadata": {},
		   "source": [
			"## Example 10.6: State_Enthalpy_calculations.sce"
		   ]
		  },
  {
"cell_type": "code",
	   "execution_count": null,
	   "metadata": {
	    "collapsed": true
	   },
	   "outputs": [],
"source": [
"clc\n",
"clear\n",
"//Initialization of variables\n",
"disp('From table 1 of keenan and keynes,')\n",
"h1=1204.8 //Btu/lb\n",
"q=174 //Btu/lb\n",
"//calculations\n",
"h2=h1+q\n",
"p2=30 //psia\n",
"t2=720 //F\n",
"//results\n",
"printf('Final state of steam is %d psia and %d F',p2,t2)\n",
"printf('\n Final enthalpy is %.1f Btu/lb',h2)"
   ]
   }
,
{
		   "cell_type": "markdown",
		   "metadata": {},
		   "source": [
			"## Example 10.7: volume_state_calculations.sce"
		   ]
		  },
  {
"cell_type": "code",
	   "execution_count": null,
	   "metadata": {
	    "collapsed": true
	   },
	   "outputs": [],
"source": [
"clc\n",
"clear\n",
"//Initialization of variables\n",
"disp('From table 1 of keenan and keynes,')\n",
"p=70 //psia\n",
"x=0.1\n",
"p2=198 //psia\n",
"//calculations\n",
"v1=6.206\n",
"v2=0.017\n",
"vx=v1-x*(v1-v2)\n",
"t2=1400 //F\n",
"//results\n",
"printf('Final specific volume = %.3f cu ft',vx)\n",
"printf('\n Final state is %d psia and %d F',p2,t2)"
   ]
   }
,
{
		   "cell_type": "markdown",
		   "metadata": {},
		   "source": [
			"## Example 10.8: State_calculations.sce"
		   ]
		  },
  {
"cell_type": "code",
	   "execution_count": null,
	   "metadata": {
	    "collapsed": true
	   },
	   "outputs": [],
"source": [
"clc\n",
"clear\n",
"//Initialization of variables\n",
"disp('From table 1 of keenan and keynes,')\n",
"p=400 //psia\n",
"t1=700 //F\n",
"p2=85 //psia\n",
"//calculations\n",
"s2=1.6398 //units/lb\n",
"t2=350 //F\n",
"//results\n",
"printf('Final state of steam is %d psia and %d F',p2,t2)"
   ]
   }
,
{
		   "cell_type": "markdown",
		   "metadata": {},
		   "source": [
			"## Example 10.9: Work_and_heat_calculations.sce"
		   ]
		  },
  {
"cell_type": "code",
	   "execution_count": null,
	   "metadata": {
	    "collapsed": true
	   },
	   "outputs": [],
"source": [
"clc\n",
"clear\n",
"//Initialization of variables\n",
"p1=20 //psia\n",
"p2=140 //psia\n",
"J=778\n",
"t2=150 //F\n",
"t1=30 //F\n",
"//calculations\n",
"disp('From Table A-3,')\n",
"v1=2.0884 //cu ft/lb\n",
"v2=0.33350 //cu ft/lb\n",
"h2=95.709\n",
"h1=81.842\n",
"n=log(p2/p1) /log(v1/v2)\n",
"W=(p2*v2-p1*v1)*144/(1-n)\n",
"du=h2-h1 + (p1*v1-p2*v2)*144/J\n",
"Q=du+W/J\n",
"s2=0.17718\n",
"s1=0.18126\n",
"Q2=((t2+t1)/2 +460) *(s2-s1)\n",
"//results\n",
"printf('Work of compression = %d ft-lb',W)\n",
"printf('\n Heat removed per pound of refrigerant = %.3f Btu/lb',Q)\n",
"printf('\n Heat removed in case 2 = %.4f Btu',Q2)"
   ]
   }
],
"metadata": {
		  "kernelspec": {
		   "display_name": "Scilab",
		   "language": "scilab",
		   "name": "scilab"
		  },
		  "language_info": {
		   "file_extension": ".sce",
		   "help_links": [
			{
			 "text": "MetaKernel Magics",
			 "url": "https://github.com/calysto/metakernel/blob/master/metakernel/magics/README.md"
			}
		   ],
		   "mimetype": "text/x-octave",
		   "name": "scilab",
		   "version": "0.7.1"
		  }
		 },
		 "nbformat": 4,
		 "nbformat_minor": 0
}
