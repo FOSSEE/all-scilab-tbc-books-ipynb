{
"cells": [
 {
		   "cell_type": "markdown",
	   "metadata": {},
	   "source": [
       "# Chapter 20: Vapor power cycles"
	   ]
	},
{
		   "cell_type": "markdown",
		   "metadata": {},
		   "source": [
			"## Example 20.1: Thermal_efficiency_calculation.sce"
		   ]
		  },
  {
"cell_type": "code",
	   "execution_count": null,
	   "metadata": {
	    "collapsed": true
	   },
	   "outputs": [],
"source": [
"clc\n",
"clear\n",
"//Initalization of variables\n",
"Qs=825.1 //Btu/lb\n",
"ds=0.9588\n",
"t1=101.74 //F\n",
"th=400.95 //F\n",
"//calculations\n",
"Qr=ds*(t1+459.69)\n",
"work=Qs-Qr\n",
"eta=work/Qs*100\n",
"eta2=(th-t1)/(th+459.69) *100\n",
"//results\n",
"printf('In case 1, Thermal efficiency = %.2f percent',eta)\n",
"printf('\n In case 2, Thermal efficiency = %.2f percent',eta2)"
   ]
   }
,
{
		   "cell_type": "markdown",
		   "metadata": {},
		   "source": [
			"## Example 20.2: Thermal_efficiency_calculation.sce"
		   ]
		  },
  {
"cell_type": "code",
	   "execution_count": null,
	   "metadata": {
	    "collapsed": true
	   },
	   "outputs": [],
"source": [
"clc\n",
"clear\n",
"//Initalization of variables\n",
"s2=1.5263\n",
"sfg=1.8456\n",
"sf=1.9782 \n",
"h2=1201.1 //Btu/lb\n",
"hf=1106 //Btu/lb\n",
"hfg=1036.3 //Btu/lb\n",
"v=0.01616 //m^3/kg\n",
"p2=250 //psia\n",
"p1=1//psia\n",
"J=778\n",
"//calculations\n",
"x3=1+ (s2-sf)/sfg\n",
"h3=hf-(1-x3)*hfg\n",
"h4=69.7\n",
"Wp=v*144*(p2-p1)/J\n",
"h1=h4+Wp\n",
"etat=((h2-h3)-Wp)/(h2-h1) *100\n",
"eta2=(h2-h3)/(h2-h4)*100\n",
"//results\n",
"printf('\n In case 1, Efficieny = %.2f percent',etat)\n",
"printf('\n In case 2, Efficieny = %.2f percent',eta2)"
   ]
   }
,
{
		   "cell_type": "markdown",
		   "metadata": {},
		   "source": [
			"## Example 20.3: Enthalpy_calculations.sce"
		   ]
		  },
  {
"cell_type": "code",
	   "execution_count": null,
	   "metadata": {
	    "collapsed": true
	   },
	   "outputs": [],
"source": [
"clc\n",
"clear\n",
"//Initalization of variables\n",
"p=40000 //kW\n",
"ef=0.98\n",
"rate=302000 //lb\n",
"s3=1.6001\n",
"h2=1490.1\n",
"loss=600\n",
"v=400 //ft/s\n",
"g=32.2 //ft/s^2\n",
"J=778\n",
"//calculations\n",
"out=p/(0.746*ef)\n",
"srate=rate/out\n",
"X=-(s3-1.9782)/1.8456\n",
"h3=1106 - X*1036.3\n",
"theoturb=h2-h3\n",
"intturb=(out+loss)*2544/rate\n",
"Ie=intturb/theoturb *100\n",
"h3d=h2-intturb-v^2 /(2*g*J)\n",
"hex=h3d+ v^2 /(2*g*J)\n",
"excess=rate*(hex-h3)\n",
"//results\n",
"printf('Steam rate = %.2f lb/shaft hp-hr',srate)\n",
"printf('\n Internal engine efficiency = %.1f percent',Ie)\n",
"printf('\n Enthalpy of exhaust steam = %.1f Btu/lb',h3d)\n",
"printf('\n Excess heat to be removed = %d Btu/hr',excess)\n",
"disp('The answers are a bit different due to rounding off error in textbook')"
   ]
   }
,
{
		   "cell_type": "markdown",
		   "metadata": {},
		   "source": [
			"## Example 20.4: Thermal_efficiency_calculation.sce"
		   ]
		  },
  {
"cell_type": "code",
	   "execution_count": null,
	   "metadata": {
	    "collapsed": true
	   },
	   "outputs": [],
"source": [
"clc\n",
"clear\n",
"//Initalization of variables\n",
"s2=1.5263\n",
"sf=1.6993\n",
"sfg=1.3313\n",
"hf=1164.1 //Btu/lb\n",
"hfg=945.3 //Btu/lb\n",
"h2=1201.1 //Btu/lb\n",
"h1=852.3 //Btu/lb\n",
"//calculations\n",
"X3=-(s2-sf)/sfg\n",
"h3=hf-X3*hfg\n",
"h4=218.82\n",
"h6=h4\n",
"h5=69.7\n",
"x=(h4-h5)/(h3-h5)\n",
"W= h2-h3+ (1-x)*(h3-h1)\n",
"Qs=h2-h4\n",
"eff=W/Qs *100\n",
"//results\n",
"printf('Thermal efficiency = %.2f percent',eff)"
   ]
   }
,
{
		   "cell_type": "markdown",
		   "metadata": {},
		   "source": [
			"## Example 20.5: Thermal_efficiency_calculation.sce"
		   ]
		  },
  {
"cell_type": "code",
	   "execution_count": null,
	   "metadata": {
	    "collapsed": true
	   },
	   "outputs": [],
"source": [
"clc\n",
"clear\n",
"//Initalization of variables\n",
"h6=157.933 //Btu/lb\n",
"s2=0.11626\n",
"sf=0.16594\n",
"sfg=0.14755\n",
"hf=139.095 //Btu/lb\n",
"hfg=126.98 //Btu/lb\n",
"h5=12.016 //Btu/lb\n",
"h2=1201.1 //Btu/lb\n",
"h1=69.7  //Btu/lb\n",
"w=348.8 //Btu/lb\n",
"m=0.0745 //lb\n",
"//calculations\n",
"x7=-(s2-sf)/sfg\n",
"h7=hf-x7*hfg\n",
"dh6=h6-h7\n",
"mr=(h7-h5)/(h2-h1)\n",
"work=w*m\n",
"tw=work+dh6\n",
"dh65=h6-h5\n",
"eff=tw/dh65 *100\n",
"//results\n",
"printf('Thermal efficiency = %.2f percent',eff)"
   ]
   }
,
{
		   "cell_type": "markdown",
		   "metadata": {},
		   "source": [
			"## Example 20.6: Heat_transferred.sce"
		   ]
		  },
  {
"cell_type": "code",
	   "execution_count": null,
	   "metadata": {
	    "collapsed": true
	   },
	   "outputs": [],
"source": [
"clc\n",
"clear\n",
"//Initalization of variables\n",
"m=1 //lb\n",
"cp=0.26\n",
"t2=1800+460 //R\n",
"t1=400.95+460 //R\n",
"x=0.6\n",
"sink=100+460 //R\n",
"tm=2600+460 //R\n",
"//calculations\n",
"Q=m*cp*(t2-t1)\n",
"ds=m*cp*log((t2/t1))\n",
"tds=ds*(sink)\n",
"avail=Q-tds\n",
"hf=Q*x/(1-x)\n",
"av2=hf*(tm-sink)/(tm)\n",
"Qt=Q+hf\n",
"av=avail+av2\n",
"per=av/Qt *100\n",
"//results\n",
"printf('Available portion of heat transferred = %.1f percent',per)"
   ]
   }
],
"metadata": {
		  "kernelspec": {
		   "display_name": "Scilab",
		   "language": "scilab",
		   "name": "scilab"
		  },
		  "language_info": {
		   "file_extension": ".sce",
		   "help_links": [
			{
			 "text": "MetaKernel Magics",
			 "url": "https://github.com/calysto/metakernel/blob/master/metakernel/magics/README.md"
			}
		   ],
		   "mimetype": "text/x-octave",
		   "name": "scilab",
		   "version": "0.7.1"
		  }
		 },
		 "nbformat": 4,
		 "nbformat_minor": 0
}
