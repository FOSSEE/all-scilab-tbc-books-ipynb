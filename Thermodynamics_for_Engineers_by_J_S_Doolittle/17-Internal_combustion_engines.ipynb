{
"cells": [
 {
		   "cell_type": "markdown",
	   "metadata": {},
	   "source": [
       "# Chapter 17: Internal combustion engines"
	   ]
	},
{
		   "cell_type": "markdown",
		   "metadata": {},
		   "source": [
			"## Example 17.1: Indicated_efficiency_calculations.sce"
		   ]
		  },
  {
"cell_type": "code",
	   "execution_count": null,
	   "metadata": {
	    "collapsed": true
	   },
	   "outputs": [],
"source": [
"clc\n",
"clear\n",
"//Initalization of variables\n",
"hp1=2000 //bhp\n",
"m=792 //lb/hr\n",
"ex=0.5\n",
"hp2=210\n",
"hv=18900 //Btu/lb\n",
"etth=51.3\n",
"//calculations\n",
"ihp=hp1+hp2\n",
"ietat= ihp*2544/(m*hv) *100\n",
"betat=ietat*hp1/ihp\n",
"betat2=hp1*2544/(m*hv) *100\n",
"ietae=ietat/etth *100\n",
"betae=betat/etth *100\n",
"brake= ietae*hp1/ihp\n",
"//results\n",
"printf('Indicated efficiency = %.1f percent',ietat)\n",
"printf('\n Brake thermal efficiency = %.1f percent',betat)\n",
"printf('\n In case 2, Brake thermal efficiency = %.1f percent',betat2)\n",
"printf('\n Indicated thermal efficiency = %.1f percent',ietae)\n",
"printf('\n Brake engine efficiency = %.1f percent',betae)\n",
"printf('\n In case 2, Brake engine efficiency = %.1f percent',brake)"
   ]
   }
,
{
		   "cell_type": "markdown",
		   "metadata": {},
		   "source": [
			"## Example 17.2: Indicated_mep_calculations.sce"
		   ]
		  },
  {
"cell_type": "code",
	   "execution_count": null,
	   "metadata": {
	    "collapsed": true
	   },
	   "outputs": [],
"source": [
"clc\n",
"clear\n",
"//Initalization of variables\n",
"J=778\n",
"o2=12.5\n",
"theo=0.95\n",
"N=56.5\n",
"R0=1545\n",
"T=540 //R\n",
"p=14 //psia\n",
"LHV=2368089 //Btu/lb\n",
"ther=39.4\n",
"iep=0.78\n",
"ve=0.8\n",
"//calculations\n",
"Ar=o2/0.21 *theo\n",
"vol=N*R0*T/(144*p)\n",
"hv=(LHV -17730)/LHV\n",
"ithep=iep*ther\n",
"pd=ithep/100 *ve *100.5\n",
"mep=J*pd\n",
"//results\n",
"printf('Indicated mep = %d lb/sq ft',mep)"
   ]
   }
],
"metadata": {
		  "kernelspec": {
		   "display_name": "Scilab",
		   "language": "scilab",
		   "name": "scilab"
		  },
		  "language_info": {
		   "file_extension": ".sce",
		   "help_links": [
			{
			 "text": "MetaKernel Magics",
			 "url": "https://github.com/calysto/metakernel/blob/master/metakernel/magics/README.md"
			}
		   ],
		   "mimetype": "text/x-octave",
		   "name": "scilab",
		   "version": "0.7.1"
		  }
		 },
		 "nbformat": 4,
		 "nbformat_minor": 0
}
