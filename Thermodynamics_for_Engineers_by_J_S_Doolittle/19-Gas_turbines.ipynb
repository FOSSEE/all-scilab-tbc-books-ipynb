{
"cells": [
 {
		   "cell_type": "markdown",
	   "metadata": {},
	   "source": [
       "# Chapter 19: Gas turbines"
	   ]
	},
{
		   "cell_type": "markdown",
		   "metadata": {},
		   "source": [
			"## Example 19.10: Thermal_efficiency_calculation.sce"
		   ]
		  },
  {
"cell_type": "code",
	   "execution_count": null,
	   "metadata": {
	    "collapsed": true
	   },
	   "outputs": [],
"source": [
"clc\n",
"clear\n",
"//Initalization of variables\n",
"cp=0.24\n",
"h=138.8\n",
"t3=1960 //R\n",
"//calculations\n",
"t4d=t3-h/cp\n",
"Qs=cp*(t3-t4d)\n",
"work=43.9 //Btu/lb\n",
"etat=work/Qs *100\n",
"//results\n",
"printf('Thermal efficiency of the unit = %.1f percent',etat)"
   ]
   }
,
{
		   "cell_type": "markdown",
		   "metadata": {},
		   "source": [
			"## Example 19.11: Thermal_efficiency_calculation.sce"
		   ]
		  },
  {
"cell_type": "code",
	   "execution_count": null,
	   "metadata": {
	    "collapsed": true
	   },
	   "outputs": [],
"source": [
"clc\n",
"clear\n",
"//Initalization of variables\n",
"n=1.4\n",
"t1=540 //R\n",
"tmax=1500 //F\n",
"pr=5\n",
"cp=0.24\n",
"p1=14 //psia\n",
"p3=70 //psia\n",
"//calculations\n",
"pint=p1*sqrt(pr)\n",
"t2=t1*(pint/p1)^((n-1)/n)\n",
"t4=t1*(p3/pint)^((n-1)/n)\n",
"w=cp*(t4-t1)\n",
"w2=2*w\n",
"t6=(tmax+460)/(p3/pint)^((n-1)/n)\n",
"t8=(tmax+460)/(pint/p1)^((n-1)/n)\n",
"work=cp*(tmax+460-t6)\n",
"w22=2*work\n",
"net=w22-w2\n",
"Qa=cp*(tmax+460-t2)\n",
"Qb=cp*(tmax+460-t6)\n",
"Qt=Qa+Qb\n",
"eta=net/Qt*100\n",
"//results\n",
"printf('Thermal efficiency = %.2f percent',eta)"
   ]
   }
,
{
		   "cell_type": "markdown",
		   "metadata": {},
		   "source": [
			"## Example 19.12: Thermal_efficiency_calculation.sce"
		   ]
		  },
  {
"cell_type": "code",
	   "execution_count": null,
	   "metadata": {
	    "collapsed": true
	   },
	   "outputs": [],
"source": [
"clc\n",
"clear\n",
"//Initalization of variables\n",
"n=1.4\n",
"t1=540 //R\n",
"tmax=1500 //F\n",
"pr=5\n",
"cp=0.24\n",
"p1=14 //psia\n",
"p3=70 //psia\n",
"w2=75.9 //Btu/lb\n",
"Qa=265 //Btu/lb\n",
"//calculations\n",
"pint=p1*sqrt(pr)\n",
"t6=(tmax+460)/(p3/pint)^((n-1)/n)\n",
"t8=(tmax+460)/(pint/p1)^((n-1)/n)\n",
"work=cp*(tmax+460-t6)\n",
"w22=2*work\n",
"net=w22-w2\n",
"Qb=cp*(tmax+460-t6)\n",
"Qt=Qa+Qb\n",
"eta=net/Qt*100\n",
"//results\n",
"printf('Thermal efficiency = %.1f percent',eta)"
   ]
   }
,
{
		   "cell_type": "markdown",
		   "metadata": {},
		   "source": [
			"## Example 19.13: Thermal_efficiency_calculation.sce"
		   ]
		  },
  {
"cell_type": "code",
	   "execution_count": null,
	   "metadata": {
	    "collapsed": true
	   },
	   "outputs": [],
"source": [
"clc\n",
"clear\n",
"//Initalization of variables\n",
"n=1.4\n",
"t1=540 //R\n",
"tmax=1500 //F\n",
"pr=5\n",
"cp=0.24\n",
"t3=1558 //R\n",
"net=125.8 //Btu/lb\n",
"//calculations\n",
"Q=cp*(tmax+460-t3)\n",
"Qt=2*Q\n",
"eta=net/Qt*100\n",
"//results \n",
"printf('Thermal efficiency = %.1f percent',eta)"
   ]
   }
,
{
		   "cell_type": "markdown",
		   "metadata": {},
		   "source": [
			"## Example 19.1: Efficiency_calculations.sce"
		   ]
		  },
  {
"cell_type": "code",
	   "execution_count": null,
	   "metadata": {
	    "collapsed": true
	   },
	   "outputs": [],
"source": [
"clc\n",
"clear\n",
"//Initalization of variables\n",
"n=1.4\n",
"t1=540 //R\n",
"tmax=1200 //F\n",
"tmax2=1500 //F\n",
"pr=5\n",
"cp=0.24\n",
"//calculations\n",
"t2=t1*(pr)^((n-1)/n)\n",
"work=cp*(t2-t1)\n",
"t4=(tmax+460) /pr^((n-1)/n)\n",
"twork=cp*(tmax+460-t4)\n",
"net=twork-work\n",
"eff=1- 1/pr^((n-1)/n)\n",
"Qs=cp*(tmax+460-t2)\n",
"ett=net/Qs *100\n",
"t42=(tmax2+460)/pr^((n-1)/n)\n",
"twork2=cp*(tmax2+460-t42)\n",
"net2=twork2-work\n",
"Qs2=cp*(tmax2+460-t2)\n",
"eff3=net2/Qs2 *100\n",
"//results\n",
"printf('Compressor work = %.1f Btu/lb',work)\n",
"printf('\n Turbine work = %.1f Btu/lb',twork)\n",
"printf('\n Net work = %.1f Btu/lb',net)\n",
"printf('\n Thermal efficiency = %.1f percent',eff*100)\n",
"printf('\n In case 2, Thermal efficiency = %.1f percent',ett)\n",
"printf('\n In case 2, Turbine work = %.1f Btu/lb',twork2)\n",
"printf('\n In case 2, Net work = %.1f Btu/lb',net2)\n",
"printf('\n In case 3, Thermal efficiency = %.1f percent,',eff3)"
   ]
   }
,
{
		   "cell_type": "markdown",
		   "metadata": {},
		   "source": [
			"## Example 19.2: Work_and_efficiency_calculations.sce"
		   ]
		  },
  {
"cell_type": "code",
	   "execution_count": null,
	   "metadata": {
	    "collapsed": true
	   },
	   "outputs": [],
"source": [
"clc\n",
"clear\n",
"//Initalization of variables\n",
"work=75.9 //Btu/lb\n",
"twork=173.5 //Btu/lb\n",
"eta=0.8\n",
"t2=856 //R\n",
"t1=540 //R\n",
"t4=1960 //R\n",
"cp=0.24\n",
"//calculations\n",
"cwork=work/eta\n",
"internal=twork*eta\n",
"net=-cwork+internal\n",
"t2d=(t2-t1)/eta + t1\n",
"Qs=cp*(t4-t2d)\n",
"eff=net/Qs *100\n",
"//results\n",
"printf('Indicated compressor work = %.1f Btu/lb',cwork)\n",
"printf('\n Internal work = %.1f Btu/lb',internal)\n",
"printf('\n Net work = %.1f Btu/lb',net)\n",
"printf('\n Thermal efficiency = %.2f percent',eff)"
   ]
   }
,
{
		   "cell_type": "markdown",
		   "metadata": {},
		   "source": [
			"## Example 19.3: Work_and_efficiency_calculations.sce"
		   ]
		  },
  {
"cell_type": "code",
	   "execution_count": null,
	   "metadata": {
	    "collapsed": true
	   },
	   "outputs": [],
"source": [
"clc\n",
"clear\n",
"//Initalization of variables\n",
"eff=0.97\n",
"c1=94.9 //Btu/lb\n",
"c2=138.8 //Btu/lb\n",
"ntee=246 //Btu/lb\n",
"//calculations\n",
"cwork=c1/eff\n",
"twork=c2*eff\n",
"net=twork-cwork\n",
"etat=net/ntee *100\n",
"//results\n",
"printf('Compressor work = %.1f Btu/lb',cwork)\n",
"printf('\n Turbine work = %.1f Btu/lb',twork)\n",
"printf('\n Net work = %.1f Btu/lb',net)\n",
"printf('\n Thermal efficiency = %.1f percent',etat)"
   ]
   }
,
{
		   "cell_type": "markdown",
		   "metadata": {},
		   "source": [
			"## Example 19.4: Thermal_efficiency_calculation.sce"
		   ]
		  },
  {
"cell_type": "code",
	   "execution_count": null,
	   "metadata": {
	    "collapsed": true
	   },
	   "outputs": [],
"source": [
"clc\n",
"clear\n",
"//Initalization of variables\n",
"pr=5\n",
"p1=14 //psia\n",
"pd=3 //psi\n",
"pen=70 //psia\n",
"tin=1960  //R\n",
"n=1.4\n",
"cp=0.24\n",
"Qs=265 //Btu/lb\n",
"//calculations\n",
"p2=p1*pr\n",
"pe=pen-pd\n",
"prt=pe/p1\n",
"tex=tin/prt^((n-1)/n)\n",
"twork=cp*(tin-tex)\n",
"net=twork-75.9\n",
"eff=net/Qs *100\n",
"//results\n",
"printf('Thermal efficiency = %.1f percent',eff)"
   ]
   }
,
{
		   "cell_type": "markdown",
		   "metadata": {},
		   "source": [
			"## Example 19.5: Thermal_efficiency_calculation.sce"
		   ]
		  },
  {
"cell_type": "code",
	   "execution_count": null,
	   "metadata": {
	    "collapsed": true
	   },
	   "outputs": [],
"source": [
"clc\n",
"clear\n",
"//Initalization of variables\n",
"pr=5\n",
"p1=14 //psia\n",
"pd=3 //psi\n",
"pen=70 //psia\n",
"tin=1960  //R\n",
"n=1.4\n",
"cp=0.24\n",
"Qs=265\n",
"ef=0.95\n",
"//calculations\n",
"p2=p1*pr\n",
"pe=pen-pd\n",
"prt=pe/p1\n",
"tex=tin/prt^((n-1)/n)\n",
"twork=cp*(tin-tex)\n",
"net=twork-75.9\n",
"Qs2=Qs/ef\n",
"eff=net/Qs2 *100\n",
"//results\n",
"printf('Thermal efficiency = %.1f percent',eff)"
   ]
   }
,
{
		   "cell_type": "markdown",
		   "metadata": {},
		   "source": [
			"## Example 19.6: Pressure_calculatio.sce"
		   ]
		  },
  {
"cell_type": "code",
	   "execution_count": null,
	   "metadata": {
	    "collapsed": true
	   },
	   "outputs": [],
"source": [
"clc\n",
"clear\n",
"//Initalization of variables\n",
"pr1=1.0590\n",
"pr2=4.396\n",
"p1=14 //psia\n",
"//calculations\n",
"prr=pr2/pr1\n",
"p2=p1*prr\n",
"//results\n",
"printf('Final pressure = %.1f psia',p2)"
   ]
   }
,
{
		   "cell_type": "markdown",
		   "metadata": {},
		   "source": [
			"## Example 19.7: Compressor_work.sce"
		   ]
		  },
  {
"cell_type": "code",
	   "execution_count": null,
	   "metadata": {
	    "collapsed": true
	   },
	   "outputs": [],
"source": [
"clc\n",
"clear\n",
"//Initalization of variables\n",
"t1=540 //R\n",
"h1=129.06\n",
"pr1=1.386\n",
"cr=5\n",
"//calculations\n",
"pr2=pr1*cr\n",
"disp('From air tables,')\n",
"h2=204.63\n",
"cwork=h2-h1\n",
"//results\n",
"printf('Compressor work = %.2f Btu/lb',cwork)"
   ]
   }
,
{
		   "cell_type": "markdown",
		   "metadata": {},
		   "source": [
			"## Example 19.8: Turbine_work.sce"
		   ]
		  },
  {
"cell_type": "code",
	   "execution_count": null,
	   "metadata": {
	    "collapsed": true
	   },
	   "outputs": [],
"source": [
"clc\n",
"clear\n",
"//Initalization of variables\n",
"cr=5\n",
"pr3=176.73 //psia\n",
"h3=14580.3 //Btu/mol\n",
"M=28.9\n",
"//calculations\n",
"pr4=pr3/cr\n",
"h4=9409\n",
"twork=h3-h4\n",
"turb=twork/M\n",
"//results\n",
"printf('Turbine work = %.1f Btu/lb',turb)"
   ]
   }
,
{
		   "cell_type": "markdown",
		   "metadata": {},
		   "source": [
			"## Example 19.9: Air_fuel_ratio.sce"
		   ]
		  },
  {
"cell_type": "code",
	   "execution_count": null,
	   "metadata": {
	    "collapsed": true
	   },
	   "outputs": [],
"source": [
"clc\n",
"clear\n",
"//Initalization of variables\n",
"chem=19000 //Btu/lb\n",
"m1=204.63 //Btu/lb\n",
"M=28.9\n",
"w=14580.3\n",
"//calculations\n",
"ma=(chem-w/M)/(w/M -m1)\n",
"//results\n",
"printf('Air fuel ratio = %.1f lb air/lb fuel',ma)"
   ]
   }
],
"metadata": {
		  "kernelspec": {
		   "display_name": "Scilab",
		   "language": "scilab",
		   "name": "scilab"
		  },
		  "language_info": {
		   "file_extension": ".sce",
		   "help_links": [
			{
			 "text": "MetaKernel Magics",
			 "url": "https://github.com/calysto/metakernel/blob/master/metakernel/magics/README.md"
			}
		   ],
		   "mimetype": "text/x-octave",
		   "name": "scilab",
		   "version": "0.7.1"
		  }
		 },
		 "nbformat": 4,
		 "nbformat_minor": 0
}
