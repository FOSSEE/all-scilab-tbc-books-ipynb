{
"cells": [
 {
		   "cell_type": "markdown",
	   "metadata": {},
	   "source": [
       "# Chapter 16: Gas cycles"
	   ]
	},
{
		   "cell_type": "markdown",
		   "metadata": {},
		   "source": [
			"## Example 16.1: Temperature_and_pressure_calculations.sce"
		   ]
		  },
  {
"cell_type": "code",
	   "execution_count": null,
	   "metadata": {
	    "collapsed": true
	   },
	   "outputs": [],
"source": [
"clc\n",
"clear\n",
"//Initalization of variables\n",
"cr=9\n",
"p1=14 //psia\n",
"t1=80+460 //R\n",
"n=1.4\n",
"heat=800 //Btu\n",
"c=0.1715\n",
"R=53.35\n",
"J=778\n",
"//calculations\n",
"p2=p1*(cr)^n\n",
"t2=t1*cr^(n-1)\n",
"t3=heat/c +t2\n",
"p3=p2*t3/t2\n",
"eff=(1-1/cr^(n-1))*100\n",
"t4=t3/cr^(n-1)\n",
"Qr=c*(t4-t1)\n",
"cyclework=heat-Qr\n",
"eff2= cyclework/heat *100\n",
"V1=R*t1/(144*p1)\n",
"pd=(1-1/cr)*V1\n",
"mep=cyclework*J/(pd*144)\n",
"//results\n",
"printf('Max. temperature = %d R',t3)\n",
"printf('\n Max. pressure = %d psia',p3)\n",
"printf('\n In method 1,Thermal efficiency = %.1f percent',eff)\n",
"printf('\n In method 2,Thermal efficiency = %.1f percent',eff2)\n",
"printf('\n Mean effective pressure mep = %.1f psia',mep)"
   ]
   }
,
{
		   "cell_type": "markdown",
		   "metadata": {},
		   "source": [
			"## Example 16.2: Temperature_and_pressure_calculations.sce"
		   ]
		  },
  {
"cell_type": "code",
	   "execution_count": null,
	   "metadata": {
	    "collapsed": true
	   },
	   "outputs": [],
"source": [
"clc\n",
"clear\n",
"//Initalization of variables\n",
"t1=80+460 //R\n",
"p1=14 //psia\n",
"n=1.4\n",
"cr=16\n",
"heat=800 //Btu\n",
"cp=0.24\n",
"c=0.1715\n",
"//calculations\n",
"t2=t1*cr^(n-1)\n",
"p2=p1*(cr)^n\n",
"t3=t2 +heat/cp\n",
"v32=t3/t2\n",
"v43=cr/v32\n",
"t4=t3/v43^(n-1)\n",
"Qr=c*(t4-t1)\n",
"etat=(heat-Qr)/heat *100\n",
"//results\n",
"printf('Max. Temperature = %d R',t3)\n",
"printf('\n Max. Pressure = %d psia',p2)\n",
"printf('\n Thermal efficiency = %.1f percent',etat)"
   ]
   }
,
{
		   "cell_type": "markdown",
		   "metadata": {},
		   "source": [
			"## Example 16.3: mep_calculatio.sce"
		   ]
		  },
  {
"cell_type": "code",
	   "execution_count": null,
	   "metadata": {
	    "collapsed": true
	   },
	   "outputs": [],
"source": [
"clc\n",
"clear\n",
"//Initalization of variables\n",
"eff=0.585\n",
"heat=800 //Btu\n",
"t1=80+460 //R\n",
"p1=14 //psia\n",
"n=1.4\n",
"R=53.35\n",
"cr=9\n",
"cp=0.24\n",
"J=778\n",
"//calculations\n",
"W=eff*heat\n",
"v1=R*t1/(144*p1)\n",
"v2=v1/cr\n",
"t2=1301 //R\n",
"t3=t2+ heat/cp\n",
"v3=v2*t3/t2\n",
"v4=cr*v3\n",
"mep=W*J/(144*(v4-v2))\n",
"//results\n",
"printf('Mean effective pressure = %.1f psia',mep)"
   ]
   }
,
{
		   "cell_type": "markdown",
		   "metadata": {},
		   "source": [
			"## Example 16.4: mep_calculatio.sce"
		   ]
		  },
  {
"cell_type": "code",
	   "execution_count": null,
	   "metadata": {
	    "collapsed": true
	   },
	   "outputs": [],
"source": [
"clc\n",
"clear\n",
"//Initalization of variables\n",
"eff=0.585\n",
"heat=500 //Btu\n",
"heat1=300 //Btu\n",
"t1=80+460 //R\n",
"p1=14 //psia\n",
"n=1.4\n",
"R=53.35\n",
"cr=9\n",
"J=778\n",
"c=0.1715\n",
"cp=0.24\n",
"t2=1301 //R\n",
"p2=308 //psia\n",
"//calculations\n",
"t3=t2+ heat/c\n",
"p3=p2*t3/t2\n",
"t4=t3+ heat1/cp\n",
"v43=t4/t3\n",
"v54=cr/v43\n",
"t5=t4/(v54)^(n-1)\n",
"Qr=c*(t5-t1)\n",
"etat=(heat+heat1-Qr)/(heat+heat1) *100\n",
"mep=(heat+heat1-Qr)*J/(12.69*144)\n",
"//results\n",
"printf('Max. Temperature = %d R',t4)\n",
"printf('\n Max. Pressure = %d psia',p3)\n",
"printf('\n Thermal efficiency = %.1f percent',etat)\n",
"printf('\n Mean effective pressure = %.1f psia',mep)\n",
"disp('The calculations are a bit different due to rounding off error in textbook')"
   ]
   }
],
"metadata": {
		  "kernelspec": {
		   "display_name": "Scilab",
		   "language": "scilab",
		   "name": "scilab"
		  },
		  "language_info": {
		   "file_extension": ".sce",
		   "help_links": [
			{
			 "text": "MetaKernel Magics",
			 "url": "https://github.com/calysto/metakernel/blob/master/metakernel/magics/README.md"
			}
		   ],
		   "mimetype": "text/x-octave",
		   "name": "scilab",
		   "version": "0.7.1"
		  }
		 },
		 "nbformat": 4,
		 "nbformat_minor": 0
}
