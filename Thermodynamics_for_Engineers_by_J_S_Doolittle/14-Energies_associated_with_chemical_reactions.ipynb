{
"cells": [
 {
		   "cell_type": "markdown",
	   "metadata": {},
	   "source": [
       "# Chapter 14: Energies associated with chemical reactions"
	   ]
	},
{
		   "cell_type": "markdown",
		   "metadata": {},
		   "source": [
			"## Example 14.1: Heating_value_calculations.sce"
		   ]
		  },
  {
"cell_type": "code",
	   "execution_count": null,
	   "metadata": {
	    "collapsed": true
	   },
	   "outputs": [],
"source": [
"clc\n",
"clear\n",
"//Initalization of variables\n",
"lhs=8.5 //moles of reactants\n",
"rhs=6 //moles of CO2\n",
"n=3 //moles of H2O\n",
"R=1545 //Universal gas constant\n",
"R2=18.016 //molar mass of water\n",
"J=778 //Work conversion constant\n",
"T=537 //R\n",
"T2=1050.4 //R\n",
"T3=991.3 //R\n",
"Qhp=1417041 //Btu/mol\n",
"//calculations\n",
"Qhpv=(lhs-rhs)*R*T/J\n",
"Qhv=Qhp-Qhpv\n",
"hfg=(rhs-n)*R2*T2\n",
"Qlp=Qhp-hfg\n",
"Qlpv=(lhs-rhs-n)*R/J *T\n",
"Qlv=Qlp-Qlpv\n",
"Qhlv=(rhs-n)*R2*T3\n",
"Qlv3=Qhv-Qhlv\n",
"//results\n",
"printf('Higher heating value at constant volume = %d Btu/mol',Qhv)\n",
"printf('\n Lower heating value at constant pressure = %d Btu/mol',Qlp)\n",
"printf('\n In case 1,Lower heating value at constant volume = %d Btu/mol',Qlv)\n",
"printf('\n In case 2,Lower heating value at constant volume = %d Btu/mol',Qlv3)\n",
"disp('The answers might differ a bit from textbook due to rounding off error.')"
   ]
   }
,
{
		   "cell_type": "markdown",
		   "metadata": {},
		   "source": [
			"## Example 14.2: Heating_value_calculations.sce"
		   ]
		  },
  {
"cell_type": "code",
	   "execution_count": null,
	   "metadata": {
	    "collapsed": true
	   },
	   "outputs": [],
"source": [
"clc\n",
"clear\n",
"//Initalization of variables\n",
"disp('From table 5-4,')\n",
"no=7.5\n",
"n1=3\n",
"n2=6\n",
"Q=1360805 //Btu/mol\n",
"//calculations\n",
"Uo=337+no*85\n",
"Uf=n1*104+n2*118\n",
"del= Q-(Uo-Uf)\n",
"Uo2=1656+no*402\n",
"Uf2=n1*490+n2*570\n",
"Qv=Uo2-Uf2+del\n",
"//results\n",
"printf('Change in chemical energy during complete combustion = %d Btu/mol',del)\n",
"printf('\n Lower heating value at constant volume = %d Btu/mol',Qv)"
   ]
   }
,
{
		   "cell_type": "markdown",
		   "metadata": {},
		   "source": [
			"## Example 14.3: Heat_removed_calculations.sce"
		   ]
		  },
  {
"cell_type": "code",
	   "execution_count": null,
	   "metadata": {
	    "collapsed": true
	   },
	   "outputs": [],
"source": [
"clc\n",
"clear\n",
"//Initalization of variables\n",
"disp('From table 5-4,')\n",
"a=1 //moles of C6H6\n",
"b=7.5 //moles of O2 in reactant\n",
"c=1.875 //moles of excess O2\n",
"d=35.27 //moles of N2\n",
"e=3 //moles of H2O\n",
"flow=40 //lb/min\n",
"w=1360850 //Btu/mol\n",
"//calculations\n",
"U11=a*337\n",
"U12=(b+c)*85\n",
"U13=d*82\n",
"U14=(a+b+c+d)*1066\n",
"Ua1=U11+U12+U13+U14\n",
"U21=c*2539\n",
"U22=d*2416\n",
"U23=e*3009\n",
"U24=2*e*3852\n",
"U25=(c+d+e+2*e)*1985\n",
"Ua2=U21+U22+U23+U24+U25\n",
"Q=Ua1+w-Ua2\n",
"fuel=flow/(6*12+2*e)\n",
"Q2=Q*fuel\n",
"//results\n",
"printf('Heat removed = %d Btu/min',Q2)\n",
"disp('The answers might differ a bit from textbook due to rounding off error.')"
   ]
   }
,
{
		   "cell_type": "markdown",
		   "metadata": {},
		   "source": [
			"## Example 14.4: Furnace_efficiency_calculations.sce"
		   ]
		  },
  {
"cell_type": "code",
	   "execution_count": null,
	   "metadata": {
	    "collapsed": true
	   },
	   "outputs": [],
"source": [
"clc\n",
"clear\n",
"//Initalization of variables\n",
"rate=10700 //lb/min\n",
"t2=97.90 \n",
"t1=33.05 \n",
"r1=46 //lb/min\n",
"//calculations\n",
"disp('From steam tables,')\n",
"Hv=1417041\n",
"Qw=rate*(t2-t1)\n",
"Q=r1/(12*6+6) *Hv\n",
"eff=Qw/Q*100\n",
"//results\n",
"printf('Furnace efficiency = %.1f percent',eff)"
   ]
   }
,
{
		   "cell_type": "markdown",
		   "metadata": {},
		   "source": [
			"## Example 14.5: Thermal_efficiency_calculations.sce"
		   ]
		  },
  {
"cell_type": "code",
	   "execution_count": null,
	   "metadata": {
	    "collapsed": true
	   },
	   "outputs": [],
"source": [
"clc\n",
"clear\n",
"//Initalization of variables\n",
"rate=94 //lb/hr\n",
"hp=197 //hp\n",
"c=8\n",
"h=18\n",
"Lv=17730 //Btu/hr\n",
"H=2368089 //Btu/hr\n",
"//calculations\n",
"amount=rate*c/12 +h\n",
"amount=0.824\n",
"Lvv=H-Lv\n",
"eff=hp*2544/(amount*Lvv) *100\n",
"//results\n",
"printf('Thermal efficiency = %.2f percent',eff)"
   ]
   }
,
{
		   "cell_type": "markdown",
		   "metadata": {},
		   "source": [
			"## Example 14.6: Thermal_efficiency_calculations.sce"
		   ]
		  },
  {
"cell_type": "code",
	   "execution_count": null,
	   "metadata": {
	    "collapsed": true
	   },
	   "outputs": [],
"source": [
"clc\n",
"clear\n",
"//Initalization of variables\n",
"rate=94 //lb/hr\n",
"hp=197 //hp\n",
"c=8\n",
"h=18\n",
"mole=9\n",
"H=2350359 //Btu/hr\n",
"//calculations\n",
"amount=rate*c/12 +h\n",
"amount=0.824\n",
"Lvv=H-mole*18.016*1050.4\n",
"eff=hp*2544/(amount*Lvv) *100\n",
"//results\n",
"printf('Thermal efficiency = %.2f percent',eff)\n",
"disp('The answer in the textbook is a different due to rounding off error')"
   ]
   }
,
{
		   "cell_type": "markdown",
		   "metadata": {},
		   "source": [
			"## Example 14.7: Total_available_energy_calculations.sce"
		   ]
		  },
  {
"cell_type": "code",
	   "execution_count": null,
	   "metadata": {
	    "collapsed": true
	   },
	   "outputs": [],
"source": [
"clc\n",
"clear\n",
"//Initalization of variables\n",
"hv=14000 //Btu/lb\n",
"ef=0.4\n",
"tmin=80 //F\n",
"tmid=300 //F\n",
"m=13 //lb\n",
"c=0.27\n",
"tmean=2300 //F\n",
"//calculations\n",
"heat=ef*hv\n",
"Qavail=heat*(tmean-tmin)/(tmean+460)\n",
"Q=m*c*(tmean-tmid)\n",
"Q2=Q- (tmin+460)*m*c*log((tmean+460)/(tmid+460))\n",
"tot=Qavail+Q2\n",
"//results\n",
"printf('Total available energy = %d Btu/lb of fuel',tot)\n",
"disp('The answer is a bit different due to rounding off error in textbook')"
   ]
   }
,
{
		   "cell_type": "markdown",
		   "metadata": {},
		   "source": [
			"## Example 14.8: Max_amount_of_work_calculations.sce"
		   ]
		  },
  {
"cell_type": "code",
	   "execution_count": null,
	   "metadata": {
	    "collapsed": true
	   },
	   "outputs": [],
"source": [
"clc\n",
"clear\n",
"//Initalization of variables\n",
"disp('From table 14-2,')\n",
"G1=55750 //Btu/mol\n",
"co2=-169580 //Btu/mol\n",
"h2o=-98290 //Btu/mol\n",
"//calculations\n",
"G2=6*co2+3*h2o\n",
"avail=G1-G2\n",
"//results\n",
"printf('Max. amount of work = %d Btu/mol',avail)"
   ]
   }
],
"metadata": {
		  "kernelspec": {
		   "display_name": "Scilab",
		   "language": "scilab",
		   "name": "scilab"
		  },
		  "language_info": {
		   "file_extension": ".sce",
		   "help_links": [
			{
			 "text": "MetaKernel Magics",
			 "url": "https://github.com/calysto/metakernel/blob/master/metakernel/magics/README.md"
			}
		   ],
		   "mimetype": "text/x-octave",
		   "name": "scilab",
		   "version": "0.7.1"
		  }
		 },
		 "nbformat": 4,
		 "nbformat_minor": 0
}
