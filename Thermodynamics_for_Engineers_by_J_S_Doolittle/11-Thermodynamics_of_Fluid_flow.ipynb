{
"cells": [
 {
		   "cell_type": "markdown",
	   "metadata": {},
	   "source": [
       "# Chapter 11: Thermodynamics of Fluid flow"
	   ]
	},
{
		   "cell_type": "markdown",
		   "metadata": {},
		   "source": [
			"## Example 11.10: Pressure_and_velocity_calculations.sce"
		   ]
		  },
  {
"cell_type": "code",
	   "execution_count": null,
	   "metadata": {
	    "collapsed": true
	   },
	   "outputs": [],
"source": [
"clc\n",
"clear\n",
"//Initialization of variables\n",
"R=53.35\n",
"v=300 //ft/s\n",
"p=100 //psia\n",
"t1=200 //F\n",
"q=500 //Btu/s\n",
"gc=32.2 //ft/s^2\n",
"J=778\n",
"//calculations\n",
"rho1=p*144/(R*(460+t1))\n",
"x=poly(0,'x')\n",
"s=x^2 -0.206*x+0.00535\n",
"vec=roots(s)\n",
"rho2=vec(1)\n",
"t2=(236.6 - 0.301/rho2^2)/0.248\n",
"P2=rho2*R*(t2+462) /144\n",
"v2=sqrt(2*gc*J*(236.6-0.248*t2))\n",
"v22=rho1*v/rho2\n",
"//results\n",
"printf('Final temperature = %.1f F',t2)\n",
"printf('\n Final pressure = %.1f psia',P2)\n",
"printf('\n Exit velocity in case 1 = %.1f ft/s',v2)\n",
"printf('\n Exit velocity in case 2 = %.1f ft/s',v22)"
   ]
   }
,
{
		   "cell_type": "markdown",
		   "metadata": {},
		   "source": [
			"## Example 11.1: Reynolds_Number.sce"
		   ]
		  },
  {
"cell_type": "code",
	   "execution_count": null,
	   "metadata": {
	    "collapsed": true
	   },
	   "outputs": [],
"source": [
"clc\n",
"clear\n",
"//Initialization of variables\n",
"d=2.067 //in\n",
"P=20 //psia\n",
"R=53.35 \n",
"T=600 //R\n",
"mu=0.0486 //lb /ft.hr\n",
"v=50 //ft/s\n",
"//calculations\n",
"rho=P*144/(R*T)\n",
"Re=d*v*rho*3600/(12*mu)\n",
"//results\n",
"printf('Reynolds number = %d ',Re)\n",
"disp('The answers are a bit different due to rounding off error in textbook')"
   ]
   }
,
{
		   "cell_type": "markdown",
		   "metadata": {},
		   "source": [
			"## Example 11.2: Pressure_calculations.sce"
		   ]
		  },
  {
"cell_type": "code",
	   "execution_count": null,
	   "metadata": {
	    "collapsed": true
	   },
	   "outputs": [],
"source": [
"clc\n",
"clear\n",
"//Initialization of variables\n",
"eps=0.00015 \n",
"D=2.067/12 //ft\n",
"l=100 //ft\n",
"P=20 //psia\n",
"R=53.35 \n",
"T=600 //R\n",
"mu=0.0486 //lb /ft.hr\n",
"v=50 //ft/s\n",
"g=32.17 //ft/s^2\n",
"//calculations\n",
"rho=P*144/(R*T)\n",
"Re=D*v*rho*3600/(mu)\n",
"ed=eps/D\n",
"disp('From figure 11.5')\n",
"f=0.0235\n",
"dp=f*l*rho*v^2 /(2*D*g) /144\n",
"change=dp/P *100\n",
"//results\n",
"printf('Change in pressure = %.2f psi',dp)\n",
"printf('\n Percentage change in pressure = %.2f percent',change)"
   ]
   }
,
{
		   "cell_type": "markdown",
		   "metadata": {},
		   "source": [
			"## Example 11.3: Final_pressure_calculations.sce"
		   ]
		  },
  {
"cell_type": "code",
	   "execution_count": null,
	   "metadata": {
	    "collapsed": true
	   },
	   "outputs": [],
"source": [
"clc\n",
"clear\n",
"//Initialization of variables\n",
"v1=60 //ft/s\n",
"d1=10 //in\n",
"d2=15 //in\n",
"P=15 //psia\n",
"R=53.35\n",
"T=540 //R\n",
"g=32.17 //ft/s^2\n",
"v1=60 //ft/s\n",
"//calculations\n",
"v2=v1*d1^2 /d2^2\n",
"rho=P*144/(R*T)\n",
"dp=rho*(v2^2 -v1^2)/(2*g) /144\n",
"p2=P-dp\n",
"//results\n",
"printf('Final pressure = %.3f psia',p2)"
   ]
   }
,
{
		   "cell_type": "markdown",
		   "metadata": {},
		   "source": [
			"## Example 11.4: Change_in_Entropy.sce"
		   ]
		  },
  {
"cell_type": "code",
	   "execution_count": null,
	   "metadata": {
	    "collapsed": true
	   },
	   "outputs": [],
"source": [
"clc\n",
"clear\n",
"//Initialization of variables\n",
"J=778 //ft.lb/Btu\n",
"D=2.067/12 //ft\n",
"l=100 //ft\n",
"P=20 //psia\n",
"R=53.35 \n",
"T=600 //R\n",
"mu=0.0486 //lb /ft.hr\n",
"v=50 //ft/s\n",
"g=32.17 //ft/s^2\n",
"//calculations\n",
"f=0.0235\n",
"ds=f*v^2 *l /(J*2*D*g*T)\n",
"//results\n",
"printf('Change in entropy = %.6f Btu/lbm R',ds)"
   ]
   }
,
{
		   "cell_type": "markdown",
		   "metadata": {},
		   "source": [
			"## Example 11.5: Enthalpy_and_entropy_calculations.sce"
		   ]
		  },
  {
"cell_type": "code",
	   "execution_count": null,
	   "metadata": {
	    "collapsed": true
	   },
	   "outputs": [],
"source": [
"clc\n",
"clear\n",
"//Initialization of variables\n",
"v=210 //ft/s\n",
"g=32.17 //ft/s^2\n",
"p=200 //psia\n",
"z=5 //ft\n",
"x=2.361\n",
"h=1210.3\n",
"J=778\n",
"//calculations\n",
"P0=p + v^2 /(2*g*144*x) + z/(144*x)\n",
"h0=h + v^2 /(2*J*g) +z/J\n",
"S=1.5594 //units/lb\n",
"S0=S\n",
"t0=401.9 //F\n",
"v0=2.342 //cu ft/lb\n",
"rho0=1/v0\n",
"//results\n",
"printf('Pressure = %d psia',P0)\n",
"printf('\n Enthalpy = %.2f Btu/lb',h0)\n",
"printf('\n Entropy  = %.4f units/lb',S0)\n",
"printf('\n Temperature = %.1f F',t0)\n",
"printf('\n Density = %.3f lb/cu ft',rho0)"
   ]
   }
,
{
		   "cell_type": "markdown",
		   "metadata": {},
		   "source": [
			"## Example 11.6: Temperature_calculations.sce"
		   ]
		  },
  {
"cell_type": "code",
	   "execution_count": null,
	   "metadata": {
	    "collapsed": true
	   },
	   "outputs": [],
"source": [
"clc\n",
"clear\n",
"//Initialization of variables\n",
"p1=40 //psia\n",
"t1=80 //F\n",
"p2=30 //psia\n",
"ar=0.5 //sq ft\n",
"v1=200 //ft/s\n",
"R=53.35\n",
"cp=0.24\n",
"g=32.17\n",
"J=778\n",
"//calculations\n",
"rho1=144*p1/(R*(t1+460))\n",
"G=rho1*v1\n",
"h10= cp*t1 + p1^2 /(2*g*rho1^2 *J)\n",
"t2=78 //F\n",
"h2=cp*t2\n",
"g2=h10-h2\n",
"rho2=sqrt(p1^2 /(2*g*g2*J))\n",
"P2=rho2*R*(t2+460)/144 \n",
"ds2=cp*log((t2+460)/(t1+460)) - R/J *log(P2/p1)\n",
"t3=77 //F\n",
"h3=cp*t3\n",
"g3=h10-h3\n",
"rho3=sqrt(p1^2 /(2*g*g3*J))\n",
"P3=rho3*R*(t3+460)/144 \n",
"ds3=cp*log((t3+460)/(t1+460)) - R/J *log(P3/p1)\n",
"t4=79 //F\n",
"h4=cp*t4\n",
"g4=h10-h4\n",
"rho4=sqrt(p1^2 /(2*g*g4*J))\n",
"P4=rho4*R*(t4+460)/144 \n",
"ds4=cp*log((t4+460)/(t1+460)) - R/J *log(P4/p1)\n",
"h5=18.62\n",
"t5=h5/cp\n",
"Gv=[h4 h2 h3]\n",
"Pv=[P4 P2 P3]\n",
"Sv=[ds4 ds2 ds3]\n",
"scf(1)\n",
"xtitle('Fanno line diagram , Enthalpy vs Entropy','Entropy','Enthalpy Btu/lb')\n",
"plot(Sv,Gv)\n",
"scf(2)\n",
"xtitle('Fanno line diagram , Pressure vs Entropy','Entropy','Pressure psia')\n",
"plot(Sv,Pv)\n",
"//results\n",
"printf('Temperature at exit = %.1f F',t5)"
   ]
   }
,
{
		   "cell_type": "markdown",
		   "metadata": {},
		   "source": [
			"## Example 11.7: Velocity_calculations.sce"
		   ]
		  },
  {
"cell_type": "code",
	   "execution_count": null,
	   "metadata": {
	    "collapsed": true
	   },
	   "outputs": [],
"source": [
"clc\n",
"clear\n",
"//Initialization of variables\n",
"p1=40 //psia\n",
"t1=80 //F\n",
"p2=30 //psia\n",
"ar=0.5 //sq ft\n",
"v1=200 //ft/s\n",
"R=53.35\n",
"cp=0.24\n",
"g=32.17\n",
"J=778\n",
"t2=78 //F\n",
"//calculations\n",
"G=40 //lb/sq ft/sec\n",
"rho2=144*p2/(R*(t2+460))\n",
"v2=p1/rho2\n",
"//results\n",
"printf('Velocity = %d ft/s',v2)"
   ]
   }
,
{
		   "cell_type": "markdown",
		   "metadata": {},
		   "source": [
			"## Example 11.8: velocity_and_density_calculations.sce"
		   ]
		  },
  {
"cell_type": "code",
	   "execution_count": null,
	   "metadata": {
	    "collapsed": true
	   },
	   "outputs": [],
"source": [
"clc\n",
"clear\n",
"//Initialization of variables\n",
"P2=[180 160 140 120 100 80 60 40 20]\n",
"k=1.4\n",
"p1=200 //psia\n",
"t1=240+460 //R\n",
"cp=0.24\n",
"J=778\n",
"gc=32.2\n",
"R=53.35\n",
"m=4 //lb/sec\n",
"//calculations\n",
"pr=p1./ P2\n",
"prr=pr^((k-1)/k)\n",
"T2=t1 ./prr\n",
"dt=t1 -T2\n",
"dh=dt*cp\n",
"v2=sqrt(2*gc*J*dh)\n",
"vol=(R*T2) ./(P2*144)\n",
"A2=m*vol*144 ./v2\n",
"dia=sqrt(4/ %pi *A2)\n",
"rad=dia/2\n",
"den=1 ./vol\n",
"scf(1)\n",
"xtitle ('Velocity vs pressure','Pressure in psia','velocity in ft/s')\n",
"plot(P2,v2)\n",
"scf(2)\n",
"xtitle('specific volume vs pressure','Pressure in psia','specific volume in cu ft/lb')\n",
"plot(P2,vol)\n",
"scf(3)\n",
"xtitle('Radius vs Pressure' ,'Pressure in psia','Radius in in')\n",
"plot(P2,rad)\n",
"//results\n",
"disp('Velocity in ft/s')\n",
"disp(v2)\n",
"disp('Specific volume in cu ft/lb')\n",
"disp(vol)\n",
"disp('Density in lb/cu ft')\n",
"disp(den)\n",
"disp('Diameter of nozzle in in')\n",
"disp(dia)"
   ]
   }
,
{
		   "cell_type": "markdown",
		   "metadata": {},
		   "source": [
			"## Example 11.9: Exit_area_calculatio.sce"
		   ]
		  },
  {
"cell_type": "code",
	   "execution_count": null,
	   "metadata": {
	    "collapsed": true
	   },
	   "outputs": [],
"source": [
"clc\n",
"clear\n",
"//Initialization of variables\n",
"p1=200 //psia\n",
"t1=480 //F\n",
"eff=0.95\n",
"g=32.2 //ft/s^2\n",
"J=778\n",
"mf=3.4 //lb/s\n",
"//calculations\n",
"disp('From steam tables,')\n",
"h1=1257.8 \n",
"h2=1210.5 \n",
"dh=eff*(h1-h2)\n",
"ve=sqrt(2*g*J*dh)\n",
"h3=h1-dh\n",
"vs=3.961\n",
"Ae=mf*vs/ve *144\n",
"//results\n",
"printf('Nozzle exit area = %.3f sq.in',Ae)"
   ]
   }
],
"metadata": {
		  "kernelspec": {
		   "display_name": "Scilab",
		   "language": "scilab",
		   "name": "scilab"
		  },
		  "language_info": {
		   "file_extension": ".sce",
		   "help_links": [
			{
			 "text": "MetaKernel Magics",
			 "url": "https://github.com/calysto/metakernel/blob/master/metakernel/magics/README.md"
			}
		   ],
		   "mimetype": "text/x-octave",
		   "name": "scilab",
		   "version": "0.7.1"
		  }
		 },
		 "nbformat": 4,
		 "nbformat_minor": 0
}
