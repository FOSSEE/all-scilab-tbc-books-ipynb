{
"cells": [
 {
		   "cell_type": "markdown",
	   "metadata": {},
	   "source": [
       "# Chapter 13: Non reactive and reactive gaseous mixtures"
	   ]
	},
{
		   "cell_type": "markdown",
		   "metadata": {},
		   "source": [
			"## Example 13.10: volumetric_analysis.sce"
		   ]
		  },
  {
"cell_type": "code",
	   "execution_count": null,
	   "metadata": {
	    "collapsed": true
	   },
	   "outputs": [],
"source": [
"clc\n",
"clear\n",
"//Initialization of variables\n",
"A=[1 1; 0.5 1]\n",
"B=[1; 0.9]\n",
"x=0.9\n",
"//calculations\n",
"N2=x*79/21\n",
"C=A\B\n",
"vec= [ C(1) C(2) N2]\n",
"su=sum(vec)\n",
"vec2=vec/su *100\n",
"//results\n",
"printf('Volumetric analysis')\n",
"disp('CO      CO2      N2')\n",
"disp(vec2)"
   ]
   }
,
{
		   "cell_type": "markdown",
		   "metadata": {},
		   "source": [
			"## Example 13.11: Moles_of_dry_products_calculations.sce"
		   ]
		  },
  {
"cell_type": "code",
	   "execution_count": null,
	   "metadata": {
	    "collapsed": true
	   },
	   "outputs": [],
"source": [
"clc\n",
"clear\n",
"//Initialization of variables\n",
"c=0.74\n",
"ref=0.02\n",
"co2=0.12\n",
"co=0.1/100\n",
"M=12\n",
"//calcualtions\n",
"carbon=c-ref\n",
"car2=co2+co\n",
"wt=car2*M\n",
"amount=carbon/wt\n",
"//results\n",
"printf('Moles of dry products per pound of coal = %.3f mole',amount)"
   ]
   }
,
{
		   "cell_type": "markdown",
		   "metadata": {},
		   "source": [
			"## Example 13.12: Moles_of_dry_products_calculations.sce"
		   ]
		  },
  {
"cell_type": "code",
	   "execution_count": null,
	   "metadata": {
	    "collapsed": true
	   },
	   "outputs": [],
"source": [
"clc\n",
"clear\n",
"//Initialization of variables\n",
"x1=0.128\n",
"x2=0.035\n",
"x3=0.002\n",
"M=12\n",
"N=26\n",
"//calculations\n",
"c=x1+x3\n",
"mole=12/c\n",
"wt=M*M+N\n",
"num=mole/wt\n",
"//results\n",
"printf('Number of moles of dry products per pound of fuel = %.3f mole',num)"
   ]
   }
,
{
		   "cell_type": "markdown",
		   "metadata": {},
		   "source": [
			"## Example 13.13: Weight_of_dry_air_calculations.sce"
		   ]
		  },
  {
"cell_type": "code",
	   "execution_count": null,
	   "metadata": {
	    "collapsed": true
	   },
	   "outputs": [],
"source": [
"clc\n",
"clear\n",
"//Initialization of variables\n",
"c=0.74\n",
"ref=0.02\n",
"co2=0.12\n",
"co=0.1/100\n",
"o2=0.065\n",
"M=12\n",
"x=0.79\n",
"M=28.97\n",
"//calcualtions\n",
"n2=1-(co2+co+o2)\n",
"mol=n2/x\n",
"wt=mol*M\n",
"wt2=0.496\n",
"pou=wt2*wt\n",
"ta=10.27\n",
"EA=(pou-ta)/ta *100\n",
"//results\n",
"printf('Weight of air per pound of fuel = %.2f lb',pou)\n",
"printf('\n Excess air percentage = %.1f percent',EA)"
   ]
   }
,
{
		   "cell_type": "markdown",
		   "metadata": {},
		   "source": [
			"## Example 13.1: Mass_calculations.sce"
		   ]
		  },
  {
"cell_type": "code",
	   "execution_count": null,
	   "metadata": {
	    "collapsed": true
	   },
	   "outputs": [],
"source": [
"clc\n",
"clear\n",
"//Initialization of variables\n",
"P=70 //psia\n",
"Pt=110 //psia\n",
"V=20 //cu ft\n",
"R0=1545 //Universal gas constant\n",
"T=540 //R\n",
"M=32 //Molecular weight of Oxygen\n",
"M2=28 //Molecular weight of Nitrgoen\n",
"//calculations\n",
"N=P*V*144/(R0*T)\n",
"mo=M*N\n",
"Pn=Pt-P\n",
"N2=Pn*V*144/(R0*T)\n",
"mn=N2*M2\n",
"Vo=N*R0*T/(144*Pt)\n",
"Vn=N2*R0*T/(144*Pt)\n",
"Vn2=V-Vo\n",
"//results\n",
"printf('Mass of oxygen = %.2f lb',mo)\n",
"printf('\n Mass of nitrogen = %.2f lb',mn)\n",
"printf('\n Partial volume of oxygen = %.2f cu ft',Vo)\n",
"printf('\n Partial volume of nitrogen = %.2f cu ft',Vn)\n",
"printf('\n In case 2, Partial volume of nitrogen = %.2f cu ft',Vn2)"
   ]
   }
,
{
		   "cell_type": "markdown",
		   "metadata": {},
		   "source": [
			"## Example 13.2: Change_in_Entropy_calculation.sce"
		   ]
		  },
  {
"cell_type": "code",
	   "execution_count": null,
	   "metadata": {
	    "collapsed": true
	   },
	   "outputs": [],
"source": [
"clc\n",
"clear\n",
"//Initialization of variables\n",
"P=50 //psia\n",
"V=4 //cu ft\n",
"dv=3 //cu ft\n",
"J=778\n",
"T=560 //R\n",
"//calculation\n",
"ds= 144*P*V*log((V+dv)/V) /(J*T)\n",
"//results\n",
"printf('Change in entropy = %.3f unit',ds)"
   ]
   }
,
{
		   "cell_type": "markdown",
		   "metadata": {},
		   "source": [
			"## Example 13.3: Change_in_Entropy_calculation.sce"
		   ]
		  },
  {
"cell_type": "code",
	   "execution_count": null,
	   "metadata": {
	    "collapsed": true
	   },
	   "outputs": [],
"source": [
"clc\n",
"clear\n",
"//Initialization of variables\n",
"p1=50 //psia\n",
"t1=100+460 //R\n",
"R1=48.3\n",
"R2=55.2\n",
"v1=4 //cu ft\n",
"p2=100 //psia\n",
"v2=3 //cu ft\n",
"t2=200+460 //R\n",
"cv1=0.157\n",
"cv2=0.177\n",
"cpm=0.219\n",
"J=778\n",
"//calculations\n",
"m1=144*p1*v1/(R1*t1)\n",
"m2=144*p2*v2/(R2*t2)\n",
"tf=(m1*cv1*(t1-460) + m2*cv2*(t2-460))/(m1*cv1+m2*cv2)\n",
"Po2=v1/(v1+v2) *(tf+460)/t1 *p1\n",
"ds=cpm*log((tf+460)/t1) - R1/J *log(Po2/p1)\n",
"dss=ds*m1\n",
"//results\n",
"printf('Change in entropy = %.4f unit',dss)"
   ]
   }
,
{
		   "cell_type": "markdown",
		   "metadata": {},
		   "source": [
			"## Example 13.4: Change_in_Entropy_calculation.sce"
		   ]
		  },
  {
"cell_type": "code",
	   "execution_count": null,
	   "metadata": {
	    "collapsed": true
	   },
	   "outputs": [],
"source": [
"clc\n",
"clear\n",
"//Initialization of variables\n",
"p1=30 //psia\n",
"t1=80+460 //R\n",
"R1=48.3\n",
"R2=55.2\n",
"m1=20 //lb/min\n",
"p2=50 //psia\n",
"m2=35 //lb/min\n",
"t2=160+460 //R\n",
"cp1=0.219\n",
"cp2=0.248\n",
"J=778\n",
"//calculations\n",
"tf=(m1*cp1*(t1-460) + m2*cp2*(t2-460))/(m1*cp1+m2*cp2)\n",
"Po2=m1/32/(m1/32+m2/28) *p1\n",
"ds=cp1*log((tf+460)/t1) - R1/J *log(Po2/p1)\n",
"dss=ds*m1\n",
"//results\n",
"printf('Change in entropy = %.4f units/min',dss)"
   ]
   }
,
{
		   "cell_type": "markdown",
		   "metadata": {},
		   "source": [
			"## Example 13.5: Weight_calculations.sce"
		   ]
		  },
  {
"cell_type": "code",
	   "execution_count": null,
	   "metadata": {
	    "collapsed": true
	   },
	   "outputs": [],
"source": [
"clc\n",
"clear\n",
"//Initialization of variables\n",
"x=[0.15 0.08 0.77]\n",
"M=[44 32 28]\n",
"//calculations\n",
"y=x ./M\n",
"yt=sum(y)\n",
"mt=y/yt\n",
"per=mt*100\n",
"wt=1/yt\n",
"R=1545/wt\n",
"//results\n",
"printf('Volumetric analysis')\n",
"disp('percent by volume')\n",
"format('v',6);per\n",
"disp(per)\n",
"printf('Weight per mole = %.1f lb',wt)\n",
"printf('\n Gas constant = %.1f ',R)"
   ]
   }
,
{
		   "cell_type": "markdown",
		   "metadata": {},
		   "source": [
			"## Example 13.6: Dry_analysis_calculations.sce"
		   ]
		  },
  {
"cell_type": "code",
	   "execution_count": null,
	   "metadata": {
	    "collapsed": true
	   },
	   "outputs": [],
"source": [
"clc\n",
"clear\n",
"//Initialization of variables\n",
"x1=0.885 //mole fraction of Ch4\n",
"x2=0.115 //mole fraction of c2h6\n",
"x3=0.4/100 //mole fraction of N2\n",
"n1=2 //Moles of Ch4\n",
"n2=3.5 //Moles of c2h6\n",
"n3=1 //moles of ch4 in case 2\n",
"n4=2 //moles of c2h6 in case 2\n",
"//calculations\n",
"y1=n1*x1\n",
"y2=n2*x2\n",
"y=y1+y2\n",
"vec2=[y1 y2]\n",
"air=y/0.21\n",
"y3=n3*x1\n",
"y4=n4*x2\n",
"yy=y3+y4\n",
"vec3=[y3 y4]\n",
"air2=y/0.21 *0.79\n",
"//results\n",
"printf('Theoretical air = %.2f moles of air per mole of fuel',air)\n",
"disp('Oxygen analysis')\n",
"disp(vec2)\n",
"printf('\n Amount of nitrogen = %.2f moles of nitrogen per mole of fuel',air2)\n",
"disp('Dry analysis')\n",
"disp(vec3)\n",
"printf('total = %.3f moles',yy)"
   ]
   }
,
{
		   "cell_type": "markdown",
		   "metadata": {},
		   "source": [
			"## Example 13.7: Air_fuel_ratio_calculations.sce"
		   ]
		  },
  {
"cell_type": "code",
	   "execution_count": null,
	   "metadata": {
	    "collapsed": true
	   },
	   "outputs": [],
"source": [
"clc\n",
"clear\n",
"//Initialization of variables\n",
"x=[0.74 0.06 0.01] //mole fraction of C, H and S respectively\n",
"y=[8/3 8 1] //Pounds O2 per pound substance of C,H and S respectively\n",
"oxy=0.08 //Oxygen in coal\n",
"z=0.232 //mass of coal\n",
"//calculations\n",
"pou=x.*y\n",
"tot=sum(pou)\n",
"oxy2=tot-oxy\n",
"air=oxy2/z\n",
"//results\n",
"printf('Theoretical air fuel ratio = %.2f lb of air per pound of coal',air)"
   ]
   }
,
{
		   "cell_type": "markdown",
		   "metadata": {},
		   "source": [
			"## Example 13.8: Air_fuel_ratio_calculations.sce"
		   ]
		  },
  {
"cell_type": "code",
	   "execution_count": null,
	   "metadata": {
	    "collapsed": true
	   },
	   "outputs": [],
"source": [
"clc\n",
"clear\n",
"//Initialization of variables\n",
"o2=12.5 //moles of O2\n",
"h20=9 //moles of H2O\n",
"x=0.21 //Mole fraction of Oxygen in air\n",
"M=28.97 //Molar mass of air\n",
"M2=56 //molar mass of C4H8\n",
"M1=8*12+18 //molecular mass of c8h18\n",
"//calculations\n",
"air=o2/x\n",
"pound=air*M\n",
"AR=pound/M1\n",
"y1=h20/M2 *100\n",
"y2=o2*(79/21) /M2 *100\n",
"//results\n",
"printf('Air fuel ratio = %.2f lb of air per pound of fuel',AR)\n",
"printf('\n Molal or volumetric analysis is %.2f percent of CO2 and %.2f percent N2',y1,y2)"
   ]
   }
,
{
		   "cell_type": "markdown",
		   "metadata": {},
		   "source": [
			"## Example 13.9: volumetric_analysis.sce"
		   ]
		  },
  {
"cell_type": "code",
	   "execution_count": null,
	   "metadata": {
	    "collapsed": true
	   },
	   "outputs": [],
"source": [
"clc\n",
"clear\n",
"//Initialization of variables\n",
"x=18.5 //Moles of O2\n",
"c=12 //Moles of CO2\n",
"vap=13 //moles of H2O\n",
"P=15 //psia\n",
"R=1545 //Universal gas constant\n",
"//calculations\n",
"excess=x*0.5\n",
"M=12*12+2*vap\n",
"n2=(x+excess)*79/21\n",
"nt=n2+excess+c\n",
"dry=[c x/2 n2]/nt *100\n",
"wet=nt+vap\n",
"fue=100/(M)\n",
"mol=wet*fue\n",
"vol=mol*R*1460/(144*P)\n",
"//results\n",
"disp('Volumetric analysis in percentage')\n",
"disp('       CO2         O2          N2')\n",
"disp(dry)\n",
"printf('Volume of wet products = %d cfm',vol)"
   ]
   }
],
"metadata": {
		  "kernelspec": {
		   "display_name": "Scilab",
		   "language": "scilab",
		   "name": "scilab"
		  },
		  "language_info": {
		   "file_extension": ".sce",
		   "help_links": [
			{
			 "text": "MetaKernel Magics",
			 "url": "https://github.com/calysto/metakernel/blob/master/metakernel/magics/README.md"
			}
		   ],
		   "mimetype": "text/x-octave",
		   "name": "scilab",
		   "version": "0.7.1"
		  }
		 },
		 "nbformat": 4,
		 "nbformat_minor": 0
}
