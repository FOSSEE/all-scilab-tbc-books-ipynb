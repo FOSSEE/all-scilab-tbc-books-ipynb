{
"cells": [
 {
		   "cell_type": "markdown",
	   "metadata": {},
	   "source": [
       "# Chapter 14: Radiation Heat Transfer"
	   ]
	},
{
		   "cell_type": "markdown",
		   "metadata": {},
		   "source": [
			"## Example 14.2: Chapter_14_example_2.sce"
		   ]
		  },
  {
"cell_type": "code",
	   "execution_count": null,
	   "metadata": {
	    "collapsed": true
	   },
	   "outputs": [],
"source": [
"clc\n",
"//initialisation of variables\n",
"T= 116 //C\n",
"C1= 3.74*10^-16\n",
"C2= 1.44*10^-2\n",
"//CALCULATIONS\n",
"WLmax= (2893*10^-6)/(T+273)\n",
"Wb= (C1*(WLmax)^(-5))/((%e^(C2/2893*10^6))-1)\n",
"//RESULTS\n",
"printf ('Wavelength at which the maximum monochromatic emissive power = %.2e m',WLmax)\n",
"printf (' \n Coffecient of performnance= %.2e W/m^3',Wb)"
   ]
   }
,
{
		   "cell_type": "markdown",
		   "metadata": {},
		   "source": [
			"## Example 14.3: chapter_14_example_3.sce"
		   ]
		  },
  {
"cell_type": "code",
	   "execution_count": null,
	   "metadata": {
	    "collapsed": true
	   },
	   "outputs": [],
"source": [
"clc\n",
"//initialisation of variables\n",
"T= 389 //K\n",
"s= 5.7*10^-8 //K^4\n",
"//CALCULATIONS\n",
"Wb= s*T^4\n",
"//RESULTS\n",
"printf ('Emissive power for the blackbody = %.f W/m^2',Wb)"
   ]
   }
,
{
		   "cell_type": "markdown",
		   "metadata": {},
		   "source": [
			"## Example 14.4: chapter_14_example_4.sce"
		   ]
		  },
  {
"cell_type": "code",
	   "execution_count": null,
	   "metadata": {
	    "collapsed": true
	   },
	   "outputs": [],
"source": [
"clc\n",
"//initialisation of variables\n",
"T= 100 //F\n",
"T1= 2000 //F\n",
"W= 3.2*10^4 //Btu/hr ft^2\n",
"W1= 140 //Btu/hr ft^2\n",
"s= 0.17*10^-8 //Btu/hr ft^2 R^4\n",
"//CALCULATIONS\n",
"alpha= W/(s*(T1+460)^4)\n",
"b= W1/(s*(T+460)^4)\n",
"//RESULTS\n",
"printf ('Average absorptivity of the body at 100 F = %.2f ',alpha)\n",
"printf (' \n Average absorptivity of the body at 2000 F= %.2f ',b)"
   ]
   }
,
{
		   "cell_type": "markdown",
		   "metadata": {},
		   "source": [
			"## Example 14.5: chapter_14_example_5.sce"
		   ]
		  },
  {
"cell_type": "code",
	   "execution_count": null,
	   "metadata": {
	    "collapsed": true
	   },
	   "outputs": [],
"source": [
"clc\n",
"//initialisation of variables\n",
"T= 300 //F\n",
"T1= 50 //F\n",
"s= 0.17*10^-8 //Btu/hr ft^2 R^4\n",
"e1= 0.93\n",
"A= 10 //in\n",
"F= 1\n",
"//CALCULATIONS\n",
"A1= 10*(40/(12*10))\n",
"q= A1*F*e1*s*((T+460)^4-(T1+460)^4)\n",
"//RESULTS\n",
"printf ('Heat loss from the conduit by radiation = %.f Btu/hr per ft',q)"
   ]
   }
,
{
		   "cell_type": "markdown",
		   "metadata": {},
		   "source": [
			"## Example 14.6: chapter_14_example_6.sce"
		   ]
		  },
  {
"cell_type": "code",
	   "execution_count": null,
	   "metadata": {
	    "collapsed": true
	   },
	   "outputs": [],
"source": [
"clc\n",
"//initialisation of variables\n",
"T= 300 //F\n",
"T1= 50 //F\n",
"s= 0.17*10^-8 //Btu/hr ft^2 R^4\n",
"e1= 0.93\n",
"F= 1\n",
"//CALCULATIONS\n",
"hr= F*e1*s*((T+460)^4-(T1+460)^4)/(T-T1)\n",
"//RESULTS\n",
"printf ('Radiation heat transfer coefficient= %.2f Btu/hr ft^2 R',hr)"
   ]
   }
,
{
		   "cell_type": "markdown",
		   "metadata": {},
		   "source": [
			"## Example 14.7: chapter_14_example_7.sce"
		   ]
		  },
  {
"cell_type": "code",
	   "execution_count": null,
	   "metadata": {
	    "collapsed": true
	   },
	   "outputs": [],
"source": [
"clc\n",
"//initialisation of variables\n",
"P= 1 //atm\n",
"T= 11 //C\n",
"Csf= 0.006\n",
"r= 1/3\n",
"s= 1\n",
"cl= 4.218 //J/gm K\n",
"hfg= 2257 //J/gm\n",
"Pr= 1.75\n",
"ul= 283.1*10^-3 //gm/m s\n",
"s= 57.78*10^-3 //N/m\n",
"pl= 958*10^3 //gm/m^3\n",
"pv= 598 //gm/m^3\n",
"gc= 10^3 //gm m/N s^2\n",
"g= 9.8 //m/s^2\n",
"//CALCULATIONS\n",
"p= pl-pv\n",
"q= ((((cl*dt)/(hfg*Csf*Pr^s))^(1/r))*(ul*hfg))/(gc/(g*p))^(1/2)\n",
"h= q/T\n",
"//RESULTS\n",
"printf ('Heat transfer coefficient for nucleate boiling= %.2e W/m^2 C',h)"
   ]
   }
],
"metadata": {
		  "kernelspec": {
		   "display_name": "Scilab",
		   "language": "scilab",
		   "name": "scilab"
		  },
		  "language_info": {
		   "file_extension": ".sce",
		   "help_links": [
			{
			 "text": "MetaKernel Magics",
			 "url": "https://github.com/calysto/metakernel/blob/master/metakernel/magics/README.md"
			}
		   ],
		   "mimetype": "text/x-octave",
		   "name": "scilab",
		   "version": "0.7.1"
		  }
		 },
		 "nbformat": 4,
		 "nbformat_minor": 0
}
