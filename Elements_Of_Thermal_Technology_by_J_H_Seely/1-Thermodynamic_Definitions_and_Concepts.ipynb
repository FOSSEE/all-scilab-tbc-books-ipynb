{
"cells": [
 {
		   "cell_type": "markdown",
	   "metadata": {},
	   "source": [
       "# Chapter 1: Thermodynamic Definitions and Concepts"
	   ]
	},
{
		   "cell_type": "markdown",
		   "metadata": {},
		   "source": [
			"## Example 1.1: Chapter_1_example_1.sce"
		   ]
		  },
  {
"cell_type": "code",
	   "execution_count": null,
	   "metadata": {
	    "collapsed": true
	   },
	   "outputs": [],
"source": [
"clc\n",
"//initialisation of variables\n",
"Vf= 0.019014 //ft^3/lbm\n",
"Vg= 1.4249 //ft^3/lbm\n",
"T= 425 //fahrenheit\n",
"quality= 60 //%\n",
"//CALCULATIONS\n",
"Vfg= Vg-Vf\n",
"V= (quality/100)*Vg+(1-(quality/100))*Vf\n",
"V1= Vf+(quality/100)*Vfg\n",
"V2= Vg-(1-(quality/100))*Vfg\n",
"//RESULTS\n",
"printf ('Vfg= %.4f ft^3/lbm',Vfg)\n",
"printf (' \n V= %.4f ft^3/lbm',V)\n",
"printf (' \n V= %.4f ft^3/lbm',V1)\n",
"printf (' \n V= %.4f ft^3/lbm',V2)"
   ]
   }
,
{
		   "cell_type": "markdown",
		   "metadata": {},
		   "source": [
			"## Example 1.2: Chapter_1_example_2.sce"
		   ]
		  },
  {
"cell_type": "code",
	   "execution_count": null,
	   "metadata": {
	    "collapsed": true
	   },
	   "outputs": [],
"source": [
"clc\n",
"//initialization of variables\n",
"tsat=431.82 //F\n",
"vf=0.019124 //ft^3/lbm\n",
"vg=1.3267 //ft^3/lbm\n",
"//Calculations\n",
"disp('From keenan and keyes steam tables, at 500 f and 350 psia,')\n",
"v=1.4913 //ft^3/lbm\n",
"//Results\n",
"printf('\n Specific volume = %.4f',v)"
   ]
   }
,
{
		   "cell_type": "markdown",
		   "metadata": {},
		   "source": [
			"## Example 1.3: Chapter_1_example_3.sce"
		   ]
		  },
  {
"cell_type": "code",
	   "execution_count": null,
	   "metadata": {
	    "collapsed": true
	   },
	   "outputs": [],
"source": [
"clc\n",
"//initialisation of variables\n",
"T= 100 //degrees\n",
"P= 200 //bar\n",
"//CALCULATIONS\n",
"Psat= 1.0135 //bar\n",
"Vf= 1.0435 //cm^3/gm\n",
"V= 1.0337 //cm^3/gm\n",
"v= Vf-V\n",
"//RESULTS\n",
"printf ('Amount of liquid compressed= %.4f cm^3/gm',v)"
   ]
   }
],
"metadata": {
		  "kernelspec": {
		   "display_name": "Scilab",
		   "language": "scilab",
		   "name": "scilab"
		  },
		  "language_info": {
		   "file_extension": ".sce",
		   "help_links": [
			{
			 "text": "MetaKernel Magics",
			 "url": "https://github.com/calysto/metakernel/blob/master/metakernel/magics/README.md"
			}
		   ],
		   "mimetype": "text/x-octave",
		   "name": "scilab",
		   "version": "0.7.1"
		  }
		 },
		 "nbformat": 4,
		 "nbformat_minor": 0
}
