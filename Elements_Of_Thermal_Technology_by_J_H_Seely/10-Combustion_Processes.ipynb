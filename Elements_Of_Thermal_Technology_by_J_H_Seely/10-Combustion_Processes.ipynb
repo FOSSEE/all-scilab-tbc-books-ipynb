{
"cells": [
 {
		   "cell_type": "markdown",
	   "metadata": {},
	   "source": [
       "# Chapter 10: Combustion Processes"
	   ]
	},
{
		   "cell_type": "markdown",
		   "metadata": {},
		   "source": [
			"## Example 10.1: Chapter_10_example_1.sce"
		   ]
		  },
  {
"cell_type": "code",
	   "execution_count": null,
	   "metadata": {
	    "collapsed": true
	   },
	   "outputs": [],
"source": [
"clc\n",
"//initialisation of variables\n",
"n= 3 //lbm mol\n",
"Mo2= 32 //lbm/lbm mol\n",
"//CALCULATIONS\n",
"m= n*Mo2\n",
"//RESULTS\n",
"printf ('Mass of O2 required= %.f lbm ',m)"
   ]
   }
,
{
		   "cell_type": "markdown",
		   "metadata": {},
		   "source": [
			"## Example 10.2: chapter_10_example_2.sce"
		   ]
		  },
  {
"cell_type": "code",
	   "execution_count": null,
	   "metadata": {
	    "collapsed": true
	   },
	   "outputs": [],
"source": [
"clc\n",
"//initialisation of variables\n",
"n= 3 //lbm mol\n",
"Mo2= 32 //lbm/lbm mol\n",
"//CALCULATIONS\n",
"m= n*Mo2\n",
"//RESULTS\n",
"printf ('Mass of O2 required= %.f lbm ',m)"
   ]
   }
,
{
		   "cell_type": "markdown",
		   "metadata": {},
		   "source": [
			"## Example 10.3: chapter_10_example_3.sce"
		   ]
		  },
  {
"cell_type": "code",
	   "execution_count": null,
	   "metadata": {
	    "collapsed": true
	   },
	   "outputs": [],
"source": [
"clc\n",
"//initialisation of variables\n",
"n= 12.5 //mol\n",
"n1= 3.76 //mol\n",
"M= 114 //gm/gm mol\n",
"M1= 28.96 //gm/gm mol\n",
"//CALCULATIONS\n",
"n2= n*(1+n1)\n",
"m= n2*M1/M\n",
"//RESULTS\n",
"printf ('Air-fuel ratio= %.1f gm air/gm fuel',m)"
   ]
   }
,
{
		   "cell_type": "markdown",
		   "metadata": {},
		   "source": [
			"## Example 10.4: chapter_10_example_4.sce"
		   ]
		  },
  {
"cell_type": "code",
	   "execution_count": null,
	   "metadata": {
	    "collapsed": true
	   },
	   "outputs": [],
"source": [
"clc\n",
"//initialisation of variables\n",
"p= 150\n",
"nO2= 12.5 //mol\n",
"n1= 3.76\n",
"//CALCULATIONS\n",
"n2= (nO2*(p/100))+(nO2*n1*(p/100))\n",
"//RESULTS\n",
"printf ('Air-fuel raio= %.2f kg mol air/kg mol fuel',n2)"
   ]
   }
,
{
		   "cell_type": "markdown",
		   "metadata": {},
		   "source": [
			"## Example 10.5: chapter_10_example_5.sce"
		   ]
		  },
  {
"cell_type": "code",
	   "execution_count": null,
	   "metadata": {
	    "collapsed": true
	   },
	   "outputs": [],
"source": [
"clc\n",
"//initialisation of variables\n",
"P= 65 \n",
"T= 30 //C\n",
"T1= 10 //C\n",
"c= 4.19 //J/gm C\n",
"h= 41961\n",
"m= 185 //lt\n",
"//CALCULATIONS\n",
"Q= m*10^3*c*(T-T1)\n",
"M= (Q*100)/(h*P)\n",
"//RESULTS\n",
"printf ('Benzene required= %.f gm',M)"
   ]
   }
],
"metadata": {
		  "kernelspec": {
		   "display_name": "Scilab",
		   "language": "scilab",
		   "name": "scilab"
		  },
		  "language_info": {
		   "file_extension": ".sce",
		   "help_links": [
			{
			 "text": "MetaKernel Magics",
			 "url": "https://github.com/calysto/metakernel/blob/master/metakernel/magics/README.md"
			}
		   ],
		   "mimetype": "text/x-octave",
		   "name": "scilab",
		   "version": "0.7.1"
		  }
		 },
		 "nbformat": 4,
		 "nbformat_minor": 0
}
