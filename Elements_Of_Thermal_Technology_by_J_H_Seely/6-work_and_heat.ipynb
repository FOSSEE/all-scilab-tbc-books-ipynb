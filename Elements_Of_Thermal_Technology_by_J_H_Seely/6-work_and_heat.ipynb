{
"cells": [
 {
		   "cell_type": "markdown",
	   "metadata": {},
	   "source": [
       "# Chapter 6: work and heat"
	   ]
	},
{
		   "cell_type": "markdown",
		   "metadata": {},
		   "source": [
			"## Example 6.1: Chapter_6_example_1.sce"
		   ]
		  },
  {
"cell_type": "code",
	   "execution_count": null,
	   "metadata": {
	    "collapsed": true
	   },
	   "outputs": [],
"source": [
"clc\n",
"//initialisation of variables\n",
"m= 5 //kg\n",
"h= 10 //m\n",
"gc= 1.0 //kg m/N s^2\n",
"//CALCULATIONS\n",
"v2= 2*h*gc*9.8\n",
"KE= (m*v2)/(2*gc)\n",
"PE= (m*gc*9.8*h)/(gc)\n",
"//RESULTS\n",
"printf ('KE= %.f J',KE)\n",
"printf (' \n PE= %.f J',PE)"
   ]
   }
,
{
		   "cell_type": "markdown",
		   "metadata": {},
		   "source": [
			"## Example 6.2: chapter_6_example_2.sce"
		   ]
		  },
  {
"cell_type": "code",
	   "execution_count": null,
	   "metadata": {
	    "collapsed": true
	   },
	   "outputs": [],
"source": [
"clc\n",
"//initialisation of variables\n",
"T= 149 //F\n",
"p= 20 \n",
"//CALCULATIONS\n",
"h= 116.96+(p/100)*1008.7\n",
"//RESULTS\n",
"printf ('h= %.1f Btu/lbm',h)"
   ]
   }
,
{
		   "cell_type": "markdown",
		   "metadata": {},
		   "source": [
			"## Example 6.3: chapter_6_example_3.sce"
		   ]
		  },
  {
"cell_type": "code",
	   "execution_count": null,
	   "metadata": {
	    "collapsed": true
	   },
	   "outputs": [],
"source": [
"clc\n",
"//initialisation of variables\n",
"F= 30 //lb\n",
"w= 40 //lb\n",
"l= 10 //ft\n",
"t= 2 //sec\n",
"mu= 0.1\n",
"//CALCULATIONS\n",
"f= mu*w\n",
"W= F*l-f*l\n",
"FW= f*l\n",
"Fhp= FW/(550*t)\n",
"//RESULTS\n",
"printf ('Total work done= %.f ft lbf',W)\n",
"printf (' \n FW= %.f ft lbf',FW)\n",
"printf (' \n Frictional horsepower= %.3f hp',Fhp)"
   ]
   }
,
{
		   "cell_type": "markdown",
		   "metadata": {},
		   "source": [
			"## Example 6.4: chapter_6_example_4.sce"
		   ]
		  },
  {
"cell_type": "code",
	   "execution_count": null,
	   "metadata": {
	    "collapsed": true
	   },
	   "outputs": [],
"source": [
"clc\n",
"//initialisation of variables\n",
"N= 40 //lbf\n",
"mu= 0.1\n",
"l= 10 //ft\n",
"J= 778 //ft lbf/Btu\n",
"//CALCULATIONS\n",
"f= mu*N\n",
"FW= f*l\n",
"n= FW/J\n",
"//RESULTS\n",
"printf ('No of Btu involved= %.3f ft Btu',n)"
   ]
   }
,
{
		   "cell_type": "markdown",
		   "metadata": {},
		   "source": [
			"## Example 6.5: chapter_6_example_5.sce"
		   ]
		  },
  {
"cell_type": "code",
	   "execution_count": null,
	   "metadata": {
	    "collapsed": true
	   },
	   "outputs": [],
"source": [
"clc\n",
"//initialisation of variables\n",
"M= 50. //gm\n",
"T= 98. //C\n",
"Mw= 75. //gm\n",
"T1= 19. //C\n",
"Tm= 27. //C\n",
"Mc= 123. //gm\n",
"SH= 0.1 //cal gm^-1 C^-1\n",
"Qinst= 6.5 //cal\n",
"//CALCULATIONS\n",
"c= (Mc*SH+Mw+Qinst)/(M*(T-Tm))\n",
"//RESULTS\n",
"printf ('Mean specific heat of the metal sample= %.4f cal/C gm',c)\n",
"//The answer given in textbook is Wrong"
   ]
   }
,
{
		   "cell_type": "markdown",
		   "metadata": {},
		   "source": [
			"## Example 6.6: chapter_6_example_6.sce"
		   ]
		  },
  {
"cell_type": "code",
	   "execution_count": null,
	   "metadata": {
	    "collapsed": true
	   },
	   "outputs": [],
"source": [
"clc\n",
"//initialisation of variables\n",
"Mw= 500 //gm\n",
"Tw= 80 //C\n",
"Ti= -4 //F\n",
"Tf= 50 //C\n",
"ci= 0.5 //cal/gm\n",
"L= 79.7 //cal/gm\n",
"cw= 1 //cal/gm\n",
"Dt= Tw-Tf\n",
"//CALCULATIONS\n",
"Tf1= (5/9)*(Ti-32)\n",
"Dt1= Tf1-Tf\n",
"m= (Mw*cw*Dt)/(ci*(-Dt1)+L)\n",
"//RESULTS\n",
"printf ('Grams of ice can be added= %.f gm',m)"
   ]
   }
],
"metadata": {
		  "kernelspec": {
		   "display_name": "Scilab",
		   "language": "scilab",
		   "name": "scilab"
		  },
		  "language_info": {
		   "file_extension": ".sce",
		   "help_links": [
			{
			 "text": "MetaKernel Magics",
			 "url": "https://github.com/calysto/metakernel/blob/master/metakernel/magics/README.md"
			}
		   ],
		   "mimetype": "text/x-octave",
		   "name": "scilab",
		   "version": "0.7.1"
		  }
		 },
		 "nbformat": 4,
		 "nbformat_minor": 0
}
