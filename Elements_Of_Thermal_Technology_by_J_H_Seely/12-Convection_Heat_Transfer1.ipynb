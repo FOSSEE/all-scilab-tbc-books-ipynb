{
"cells": [
 {
		   "cell_type": "markdown",
	   "metadata": {},
	   "source": [
       "# Chapter 12: Convection Heat Transfer1"
	   ]
	},
{
		   "cell_type": "markdown",
		   "metadata": {},
		   "source": [
			"## Example 12.1: Chapter_12_example_1.sce"
		   ]
		  },
  {
"cell_type": "code",
	   "execution_count": null,
	   "metadata": {
	    "collapsed": true
	   },
	   "outputs": [],
"source": [
"clc\n",
"//initialisation of variables\n",
"d= 5 //ft\n",
"Tw= 150 //F\n",
"T= 50 //F\n",
"Pr= 0.72\n",
"k= 0.015 //Btu/hr ft F\n",
"r= 1.76*10^6 //(F ft^3)^-1\n",
"//CALCULATIONS\n",
"D= d*(0.42/5)\n",
"dt= Tw-T\n",
"Gr= r*D^3*dt\n",
"z= Gr*Pr\n",
"h= 0.59*(z^(0.25)) *(k/D)\n",
"disp(h)\n",
"q= (2*h*dt*d^2)/144\n",
"//RESULTS\n",
"printf ('Heat transfer rate from both sides of the plate= %.2f Btu/hr',q)\n",
"//The answer given in the textbook has been rounded off at several places.\n",
"//Hence it differs from the one in the code."
   ]
   }
,
{
		   "cell_type": "markdown",
		   "metadata": {},
		   "source": [
			"## Example 12.2: chapter_12_example_2.sce"
		   ]
		  },
  {
"cell_type": "code",
	   "execution_count": null,
	   "metadata": {
	    "collapsed": true
	   },
	   "outputs": [],
"source": [
"clc\n",
"//initialisation of variables\n",
"T= 70 //F\n",
"l= 0.9 //in\n",
"v= 7 //ft/s\n",
"d= 62.3 //lbm/ft^3\n",
"m= 6.58*10^-4 //lbm/ft s\n",
"Pr= 6.82 \n",
"k= 0.347 //Bt/hr ft F\n",
"//CALCULATIONS\n",
"l1= l*0.075/l\n",
"Re= (d*v*l1)/m\n",
"Nu= 0.023*Re^0.8*Pr^0.4\n",
"h= Nu*k/l1\n",
"//RESULTS\n",
"printf ('Heat transfer coefficient when the flow is fully devoloped= %.f Btu/hr ft^2 F',h)"
   ]
   }
,
{
		   "cell_type": "markdown",
		   "metadata": {},
		   "source": [
			"## Example 12.3: chapter_12_example_3.sce"
		   ]
		  },
  {
"cell_type": "code",
	   "execution_count": null,
	   "metadata": {
	    "collapsed": true
	   },
	   "outputs": [],
"source": [
"clc\n",
"//initialisation of variables\n",
"P= 1 //atm\n",
"d= 0.783 //Kg/m^3\n",
"K= 0.0371 //W/m C\n",
"m= 2.48*10^-5 //Ns/m^2\n",
"Pr= 0.683\n",
"D= 0.03 //m\n",
"v= 6 //m/s\n",
"T= 10 //C\n",
"//CALCULATIONS\n",
"Re= d*v*D/m\n",
"Nu= 0.023*Re^0.8*Pr^0.4\n",
"h= Nu*K/D\n",
"ql= h*%pi*D*T\n",
"//RESULTS\n",
"printf ('Heat transfer rate per unit lenght= %.1f W/m',ql)"
   ]
   }
,
{
		   "cell_type": "markdown",
		   "metadata": {},
		   "source": [
			"## Example 12.4: chapter_12_example_4.sce"
		   ]
		  },
  {
"cell_type": "code",
	   "execution_count": null,
	   "metadata": {
	    "collapsed": true
	   },
	   "outputs": [],
"source": [
"clc\n",
"//initialisation of variables\n",
"T= 25 //C\n",
"P= 1 //atm\n",
"v= 46 //m/s\n",
"d= 5 //cm\n",
"T1= 135 //C\n",
"d1= 0.998 //kg/m^3\n",
"k= 0.03 //W/m C\n",
"m= 2.08*10^-5 //Kg/s m\n",
"c= 0.024\n",
"n= 0.81\n",
"//CALCULATIONS\n",
"Tf= (T+T1)/2\n",
"D= d/100\n",
"Re= d1*v*D/m\n",
"h= c*Re^0.81*k/D\n",
"dt= T1-T\n",
"ql= h*%pi*D*dt\n",
"//RESULTS\n",
"printf ('Heat transfer rate per unit lenght of cylinder= %.f W/m',ql)"
   ]
   }
],
"metadata": {
		  "kernelspec": {
		   "display_name": "Scilab",
		   "language": "scilab",
		   "name": "scilab"
		  },
		  "language_info": {
		   "file_extension": ".sce",
		   "help_links": [
			{
			 "text": "MetaKernel Magics",
			 "url": "https://github.com/calysto/metakernel/blob/master/metakernel/magics/README.md"
			}
		   ],
		   "mimetype": "text/x-octave",
		   "name": "scilab",
		   "version": "0.7.1"
		  }
		 },
		 "nbformat": 4,
		 "nbformat_minor": 0
}
