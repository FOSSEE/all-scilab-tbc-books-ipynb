{
"cells": [
 {
		   "cell_type": "markdown",
	   "metadata": {},
	   "source": [
       "# Chapter 11: Conduction Heat Transfer"
	   ]
	},
{
		   "cell_type": "markdown",
		   "metadata": {},
		   "source": [
			"## Example 11.1: Chapter_11_example_1.sce"
		   ]
		  },
  {
"cell_type": "code",
	   "execution_count": null,
	   "metadata": {
	    "collapsed": true
	   },
	   "outputs": [],
"source": [
"clc\n",
"//initialisation of variables\n",
"T= 76 //F\n",
"T1= 21 //F\n",
"Tw= 67 //W\n",
"h= 1.5 //Btu/\n",
"A= 1 //ft^2\n",
"h0= 6.5 //Btu/hr\n",
"//CALCULATIONS\n",
"q= h*A*(T-Tw)\n",
"t= (q/(h0*A))+T1\n",
"//results\n",
"printf ('Outside wall temperature= %.1f F',t)"
   ]
   }
,
{
		   "cell_type": "markdown",
		   "metadata": {},
		   "source": [
			"## Example 11.2: chapter_11_example_2.sce"
		   ]
		  },
  {
"cell_type": "code",
	   "execution_count": null,
	   "metadata": {
	    "collapsed": true
	   },
	   "outputs": [],
"source": [
"clc\n",
"//initialisation of variables\n",
"hi= 2 //Btu/hr ft^2 F\n",
"l= 6 //in\n",
"k= 0.5 //Btu/hr ft F\n",
"h0= 10 //Btu/hr ft^2 F\n",
"ti= 70 //F\n",
"t0= 20 //F\n",
"A= 1 //ft^2\n",
"//CALCULATIONS\n",
"U= 1/((1/hi)+((l*0.5)/(6*k))+(1/h0))\n",
"q= U*A*(ti-t0)\n",
"//RESULTS\n",
"printf ('Thermal transmittance= %.2f ft^2 F',U)\n",
"printf (' \n Heat transfer rate= %.1f Btu/hr',q)"
   ]
   }
,
{
		   "cell_type": "markdown",
		   "metadata": {},
		   "source": [
			"## Example 11.3: chapter_11_example_3.sce"
		   ]
		  },
  {
"cell_type": "code",
	   "execution_count": null,
	   "metadata": {
	    "collapsed": true
	   },
	   "outputs": [],
"source": [
"clc\n",
"//initialisation of variables\n",
"Ti= 300 //F\n",
"T0= 100 //F\n",
"l= 0.25 //in\n",
"li= 3 //in\n",
"A= 12 //in/ft\n",
"ks= 31.4 //Btu/hr ft F\n",
"ki= 0.04 //Btu/hr ft F\n",
"//CALCULATIONS\n",
"q= (Ti-T0)/((l/(A*ks))+(li/(A*ki)))\n",
"t= Ti-((q*l/12)/ks)\n",
"//RESULTS\n",
"printf ('Heat loss= %.f Btu/hr',q)\n",
"printf (' \n Temperature at the interface of the steel and the insulation= %.2f F',t)"
   ]
   }
,
{
		   "cell_type": "markdown",
		   "metadata": {},
		   "source": [
			"## Example 11.4: chapter_11_example_4.sce"
		   ]
		  },
  {
"cell_type": "code",
	   "execution_count": null,
	   "metadata": {
	    "collapsed": true
	   },
	   "outputs": [],
"source": [
"clc\n",
"//initialisation of variables\n",
"ti= 149 //C\n",
"t0= 27 //C\n",
"D0= 0.1149 //m\n",
"l= 1 //m\n",
"h0= 23 //W/m^2 C\n",
"hi= 227 //W/m^2 C\n",
"k= 0.19 //W/m C\n",
"Di= 0.0889 //cm\n",
"//CALCULATIONS\n",
"D1= D0*100\n",
"D2= Di*100\n",
"R0=(1/(D0*%pi*l*h0))\n",
"Rins=(log(D1/D2)/(2*%pi*k*l))\n",
"Ri=1/(Di*%pi*l*hi)\n",
"q= (ti-t0)/(R0+Rins+Ri)\n",
"//RESULTS\n",
"printf ('Heat loss= %.f W',q)"
   ]
   }
,
{
		   "cell_type": "markdown",
		   "metadata": {},
		   "source": [
			"## Example 11.5: chapter_11_example_5.sce"
		   ]
		  },
  {
"cell_type": "code",
	   "execution_count": null,
	   "metadata": {
	    "collapsed": true
	   },
	   "outputs": [],
"source": [
"clc\n",
"//initialisation of variables\n",
"l= 0.2 //m\n",
"l1= 0.5 //m\n",
"k= 0.35 //W/m C\n",
"t= 0.15 //m\n",
"T1= 1100 //C\n",
"T2= 150 //C\n",
"//CALCULATIONS\n",
"Ai= 6*l^2\n",
"Ao= 6*l1^2\n",
"q= 0.73*k*sqrt(Ai*Ao)*(T1-T2)/t\n",
"//RESULTS\n",
"printf ('Power consumption= %.f W',q)"
   ]
   }
,
{
		   "cell_type": "markdown",
		   "metadata": {},
		   "source": [
			"## Example 11.6: chapter_11_example_6.sce"
		   ]
		  },
  {
"cell_type": "code",
	   "execution_count": null,
	   "metadata": {
	    "collapsed": true
	   },
	   "outputs": [],
"source": [
"clc\n",
"//initialisation of variables\n",
"h= 12 //W/m^2 C\n",
"k= 0.19 //W/m C\n",
"d= 0.6 //m\n",
"//CALCULATIONS\n",
"r= k/h\n",
"d1=d/2\n",
"if (r<d1)\n",
"    printf('heat loss will increase if the insulation is added');\n",
"else\n",
"    printf('heat loss will increase if the insulation is added');\n",
"end"
   ]
   }
,
{
		   "cell_type": "markdown",
		   "metadata": {},
		   "source": [
			"## Example 11.7: chapter_11_example_7.sce"
		   ]
		  },
  {
"cell_type": "code",
	   "execution_count": null,
	   "metadata": {
	    "collapsed": true
	   },
	   "outputs": [],
"source": [
"clc\n",
"//initialisation of variables\n",
"h= 85 //W/m^2 C\n",
"s= 0.15 //m\n",
"K= 225 //W/m C\n",
"t= 510 //C\n",
"t1= 1200 //C\n",
"t0= 16 //C\n",
"a= 0.34\n",
"//CALCULATIONS\n",
"Bi= h*s/K\n",
"T= K*s*log((t0-t1)/(t-t1))/(h*a)\n",
"//RESULTS\n",
"printf ('Time needed for the casting to be heated to 510 C= %.2f hr',T)"
   ]
   }
],
"metadata": {
		  "kernelspec": {
		   "display_name": "Scilab",
		   "language": "scilab",
		   "name": "scilab"
		  },
		  "language_info": {
		   "file_extension": ".sce",
		   "help_links": [
			{
			 "text": "MetaKernel Magics",
			 "url": "https://github.com/calysto/metakernel/blob/master/metakernel/magics/README.md"
			}
		   ],
		   "mimetype": "text/x-octave",
		   "name": "scilab",
		   "version": "0.7.1"
		  }
		 },
		 "nbformat": 4,
		 "nbformat_minor": 0
}
