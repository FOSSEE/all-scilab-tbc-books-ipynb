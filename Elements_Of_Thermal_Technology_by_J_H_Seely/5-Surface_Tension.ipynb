{
"cells": [
 {
		   "cell_type": "markdown",
	   "metadata": {},
	   "source": [
       "# Chapter 5: Surface Tension"
	   ]
	},
{
		   "cell_type": "markdown",
		   "metadata": {},
		   "source": [
			"## Example 5.1: Chapter_5_example_1.sce"
		   ]
		  },
  {
"cell_type": "code",
	   "execution_count": null,
	   "metadata": {
	    "collapsed": true
	   },
	   "outputs": [],
"source": [
"clc\n",
"//initialisation of variables\n",
"St= 0.04 //N/m\n",
"d1= 5 //cm\n",
"d2= 15 //cm\n",
"//CALCULATIONS\n",
"W= St*10^3*2*4*%pi*((d2/2)^2-(d1/2)^2)\n",
"//REULTS\n",
"printf ('Work= %.2e dyn cm or erg',W)"
   ]
   }
,
{
		   "cell_type": "markdown",
		   "metadata": {},
		   "source": [
			"## Example 5.2: chapter_5_example_2.sce"
		   ]
		  },
  {
"cell_type": "code",
	   "execution_count": null,
	   "metadata": {
	    "collapsed": true
	   },
	   "outputs": [],
"source": [
"clc\n",
"//initialisation of variables\n",
"R= 0.017 //in\n",
"sigma= 72.8 //m N/m\n",
"//CALCULATIONS\n",
"P= (2*sigma*0.005*0.017)/(72.8*R*7.08*10^-4)\n",
"//REULTS\n",
"printf ('Presuure difference= %.1f lbf/ft^2',P)"
   ]
   }
,
{
		   "cell_type": "markdown",
		   "metadata": {},
		   "source": [
			"## Example 5.3: chapter_5_example_3.sce"
		   ]
		  },
  {
"cell_type": "code",
	   "execution_count": null,
	   "metadata": {
	    "collapsed": true
	   },
	   "outputs": [],
"source": [
"clc\n",
"//initialisation of variables\n",
"d= 13.6 //gm/cm^3\n",
"g= 980 //cm/s^2\n",
"D= 0.4 //mm\n",
"angle= 130 //degrees\n",
"s= 514 //dyn/cm\n",
"//CALCULATIONS\n",
"h= (4*s*cosd(angle))/(d*g*D*10^-1)\n",
"//RESULTS\n",
"printf (' Difference in mercury level= %.2f cm (depression)',h)"
   ]
   }
],
"metadata": {
		  "kernelspec": {
		   "display_name": "Scilab",
		   "language": "scilab",
		   "name": "scilab"
		  },
		  "language_info": {
		   "file_extension": ".sce",
		   "help_links": [
			{
			 "text": "MetaKernel Magics",
			 "url": "https://github.com/calysto/metakernel/blob/master/metakernel/magics/README.md"
			}
		   ],
		   "mimetype": "text/x-octave",
		   "name": "scilab",
		   "version": "0.7.1"
		  }
		 },
		 "nbformat": 4,
		 "nbformat_minor": 0
}
