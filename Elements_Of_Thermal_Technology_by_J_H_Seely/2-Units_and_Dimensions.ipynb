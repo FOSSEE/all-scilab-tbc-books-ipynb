{
"cells": [
 {
		   "cell_type": "markdown",
	   "metadata": {},
	   "source": [
       "# Chapter 2: Units and Dimensions"
	   ]
	},
{
		   "cell_type": "markdown",
		   "metadata": {},
		   "source": [
			"## Example 2.1a: Chapter_2_example_1a.sce"
		   ]
		  },
  {
"cell_type": "code",
	   "execution_count": null,
	   "metadata": {
	    "collapsed": true
	   },
	   "outputs": [],
"source": [
"clc\n",
"//initialisation of variables\n",
"F= 1//N\n",
"L= 1//m\n",
"T= 1//s\n",
"I= 1//N m s^2\n",
"N= 1//Kg m s^-2\n",
"//CALCULATIONS\n",
"I= F*L*T^2 //Kg m^2\n",
"//RESULTS\n",
"printf ('I in SI system= %.f Kg m^2',I)\n",
""
   ]
   }
,
{
		   "cell_type": "markdown",
		   "metadata": {},
		   "source": [
			"## Example 2.1b: chapter_2_example_1b.sce"
		   ]
		  },
  {
"cell_type": "code",
	   "execution_count": null,
	   "metadata": {
	    "collapsed": true
	   },
	   "outputs": [],
"source": [
"clc\n",
"//initialisation of variables\n",
"F= 1//lbf\n",
"L= 1//ft\n",
"T= 1//s\n",
"I= 1//lbf ft s^2\n",
"lbf= 1//slug ft s^-2\n",
"//CALCULATIONS\n",
"I= F*L*T^2 //slug ft^2\n",
"//RESULTS\n",
"printf (' I in British Gravitational System = %.f slug ft^2',I)\n",
""
   ]
   }
,
{
		   "cell_type": "markdown",
		   "metadata": {},
		   "source": [
			"## Example 2.2: chapter_2_example_2.sce"
		   ]
		  },
  {
"cell_type": "code",
	   "execution_count": null,
	   "metadata": {
	    "collapsed": true
	   },
	   "outputs": [],
"source": [
"clc\n",
"//initialisation of variables\n",
"F= 1 //Pouunda\n",
"m= 1 //lbm\n",
"g= 1 //fts^-2\n",
"//CALCULATIONS\n",
"gc= m*g/F\n",
"//RESULTS\n",
"printf ('gc= %.2f lbm ft/poundal^2',gc)"
   ]
   }
,
{
		   "cell_type": "markdown",
		   "metadata": {},
		   "source": [
			"## Example 2.3: chapter_2_example_3.sce"
		   ]
		  },
  {
"cell_type": "code",
	   "execution_count": null,
	   "metadata": {
	    "collapsed": true
	   },
	   "outputs": [],
"source": [
"clc\n",
"//initialisation of variables\n",
"h= 76 //cmhg\n",
"g= 32.2 //ft/s^2\n",
"h= 76.0 //cmHg\n",
"Dhg= 847 //lbm/ft^3\n",
"//CALCULATIONS\n",
"Pa= Dhg*g*h*0.33\n",
"Pa1= Pa/1\n",
"//RESULTS\n",
"printf ('Pa= %.f poundal/ft^2',Pa1)"
   ]
   }
],
"metadata": {
		  "kernelspec": {
		   "display_name": "Scilab",
		   "language": "scilab",
		   "name": "scilab"
		  },
		  "language_info": {
		   "file_extension": ".sce",
		   "help_links": [
			{
			 "text": "MetaKernel Magics",
			 "url": "https://github.com/calysto/metakernel/blob/master/metakernel/magics/README.md"
			}
		   ],
		   "mimetype": "text/x-octave",
		   "name": "scilab",
		   "version": "0.7.1"
		  }
		 },
		 "nbformat": 4,
		 "nbformat_minor": 0
}
