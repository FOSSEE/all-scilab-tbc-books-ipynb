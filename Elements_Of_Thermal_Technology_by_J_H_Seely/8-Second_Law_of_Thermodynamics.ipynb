{
"cells": [
 {
		   "cell_type": "markdown",
	   "metadata": {},
	   "source": [
       "# Chapter 8: Second Law of Thermodynamics"
	   ]
	},
{
		   "cell_type": "markdown",
		   "metadata": {},
		   "source": [
			"## Example 8.1: Chapter_8_example_1.sce"
		   ]
		  },
  {
"cell_type": "code",
	   "execution_count": null,
	   "metadata": {
	    "collapsed": true
	   },
	   "outputs": [],
"source": [
"clc\n",
"//initialisation of variables\n",
"W= 25 //Btu\n",
"W1= 100 //Btu\n",
"T1= 140 //R\n",
"T2= 0 //R\n",
"//CALCULATIONS\n",
"Th= T1+460\n",
"Tl= T2+460\n",
"nt= (Th-Tl)/Th\n",
"n= nt*100\n",
"//RESULTS\n",
"printf ('maximum theotrical efficiency= %.1f (Claim is not valid)',n)"
   ]
   }
,
{
		   "cell_type": "markdown",
		   "metadata": {},
		   "source": [
			"## Example 8.2: chapter_8_example_2.sce"
		   ]
		  },
  {
"cell_type": "code",
	   "execution_count": null,
	   "metadata": {
	    "collapsed": true
	   },
	   "outputs": [],
"source": [
"clc\n",
"//initialisation of variables\n",
"P= 10 //bar\n",
"P1= 38 //bar\n",
"T= 310 //C\n",
"v= 64.03 //cm^3/gm\n",
"s= 6.4415 //J/gm K\n",
"vf= 1.12773 //cm^3/gm\n",
"vg= 194.44 //cm^3/gm\n",
"sf= 2.1387 //J/gm K\n",
"sfg= 4.4478 //J/gm K\n",
"//CALCULATIONS\n",
"x= (v-vf)/(vg-vf)\n",
"sx= sf+x*sfg\n",
"S= s-sx\n",
"//RESULTS\n",
"printf ('Change in Entropy= %.3f J/gm',S)"
   ]
   }
,
{
		   "cell_type": "markdown",
		   "metadata": {},
		   "source": [
			"## Example 8.3: chapter_8_example_3.sce"
		   ]
		  },
  {
"cell_type": "code",
	   "execution_count": null,
	   "metadata": {
	    "collapsed": true
	   },
	   "outputs": [],
"source": [
"clc\n",
"//initialisation of variables\n",
"Qh= 70000 //Btu/hr\n",
"T= 15 //F\n",
"T1= 72 //F\n",
"//CALCULATIONS\n",
"COP= (T1+460)/((T1+460)-(T+460))\n",
"W= Qh/COP\n",
"//RESULTS\n",
"printf ('Minimum power required to drive the heat pump= %.f Btu/hr',W)"
   ]
   }
,
{
		   "cell_type": "markdown",
		   "metadata": {},
		   "source": [
			"## Example 8.4: chapter_8_example_4.sce"
		   ]
		  },
  {
"cell_type": "code",
	   "execution_count": null,
	   "metadata": {
	    "collapsed": true
	   },
	   "outputs": [],
"source": [
"clc\n",
"//initialisation of variables\n",
"h= 26 //KW\n",
"T= 43 //C\n",
"To= 0 //C\n",
"//CALCULATIONS\n",
"COP= (T+273)/((T+273)-(To+273))\n",
"W= h/COP\n",
"Qh=h\n",
"//RESULTS\n",
"printf ('Minimum electrical  requirement = %.2f KW',W)\n",
"printf (' \n Elctrical requirement if an electrical heater used= %.f KW',Qh)"
   ]
   }
],
"metadata": {
		  "kernelspec": {
		   "display_name": "Scilab",
		   "language": "scilab",
		   "name": "scilab"
		  },
		  "language_info": {
		   "file_extension": ".sce",
		   "help_links": [
			{
			 "text": "MetaKernel Magics",
			 "url": "https://github.com/calysto/metakernel/blob/master/metakernel/magics/README.md"
			}
		   ],
		   "mimetype": "text/x-octave",
		   "name": "scilab",
		   "version": "0.7.1"
		  }
		 },
		 "nbformat": 4,
		 "nbformat_minor": 0
}
