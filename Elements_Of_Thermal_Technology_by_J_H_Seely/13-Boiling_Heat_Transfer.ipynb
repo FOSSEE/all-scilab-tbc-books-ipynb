{
"cells": [
 {
		   "cell_type": "markdown",
	   "metadata": {},
	   "source": [
       "# Chapter 13: Boiling Heat Transfer"
	   ]
	},
{
		   "cell_type": "markdown",
		   "metadata": {},
		   "source": [
			"## Example 13.1: Chapter_13_example_1.sce"
		   ]
		  },
  {
"cell_type": "code",
	   "execution_count": null,
	   "metadata": {
	    "collapsed": true
	   },
	   "outputs": [],
"source": [
"clc\n",
"//initialisation of variables\n",
"P= 1 //atm\n",
"dt= 11 //C\n",
"Csf= 0.006\n",
"r= 1/3\n",
"s= 1\n",
"cl= 4.218 //J/gm K\n",
"hfg= 2257 //J/gm\n",
"Pr= 1.75\n",
"ul= 283.1*10^-3 //gm/m s\n",
"s= 57.78*10^-3 //N/m\n",
"pl= 958*10^3 //gm/m^3\n",
"pv= 598 //gm/m^3\n",
"gc= 10^3 //gm m/N s^2\n",
"g= 9.8 //m/s^2\n",
"//CALCULATIONS\n",
"p= pl-pv\n",
"q= ((((cl*dt)/(hfg*Csf*Pr))^(1/r))*(ul*hfg))/(gc*s/(g*p))^(1/2)\n",
"h= q/dt\n",
"//RESULTS\n",
"printf ('Heat transfer coefficient for nucleate boiling= %.2e W/m^2 C',h)"
   ]
   }
,
{
		   "cell_type": "markdown",
		   "metadata": {},
		   "source": [
			"## Example 13.2: chapter_13_example_2.sce"
		   ]
		  },
  {
"cell_type": "code",
	   "execution_count": null,
	   "metadata": {
	    "collapsed": true
	   },
	   "outputs": [],
"source": [
"clc\n",
"//initialisation of variables\n",
"k= 0.384 //Btu/hr ft F\n",
"Tsat= 170.03 //F\n",
"hfg= 996.2 //Btu/lbm\n",
"T= 130 //F\n",
"l= 5 //ft\n",
"P= 6 //psia\n",
"g= 4.17*10^8 //ft/h^2\n",
"d= 0.042 //ft\n",
"p= 61.2 //lbm/ft^3\n",
"u= 1.05 //lbm/ft h\n",
"//CALCULATIONS\n",
"dt= Tsat-T\n",
"Tf= (Tsat+T)/2\n",
"hc= 0.943*((k^3*p^2*g*hfg)/(l*u*dt))^(1/4)\n",
"hc1= 0.725*((k^3*p^2*g*hfg)/(d*u*dt))^(1/4)\n",
"//RESULTS\n",
"printf ('Condensation heat tranfer coefficient if the tube is vertical= %.f Btu/h ft^2 F',hc)\n",
"printf (' \n Condensation heat tranfer coefficient if the tube is horizontally= %.f Btu/h ft^2 F',hc1)"
   ]
   }
],
"metadata": {
		  "kernelspec": {
		   "display_name": "Scilab",
		   "language": "scilab",
		   "name": "scilab"
		  },
		  "language_info": {
		   "file_extension": ".sce",
		   "help_links": [
			{
			 "text": "MetaKernel Magics",
			 "url": "https://github.com/calysto/metakernel/blob/master/metakernel/magics/README.md"
			}
		   ],
		   "mimetype": "text/x-octave",
		   "name": "scilab",
		   "version": "0.7.1"
		  }
		 },
		 "nbformat": 4,
		 "nbformat_minor": 0
}
