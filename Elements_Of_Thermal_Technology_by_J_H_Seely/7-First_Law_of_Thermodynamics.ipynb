{
"cells": [
 {
		   "cell_type": "markdown",
	   "metadata": {},
	   "source": [
       "# Chapter 7: First Law of Thermodynamics"
	   ]
	},
{
		   "cell_type": "markdown",
		   "metadata": {},
		   "source": [
			"## Example 7.1: Chapter_7_example_1.sce"
		   ]
		  },
  {
"cell_type": "code",
	   "execution_count": null,
	   "metadata": {
	    "collapsed": true
	   },
	   "outputs": [],
"source": [
"clc\n",
"//initialisation of variables\n",
"m= 3000 //lb\n",
"Z1= 50 //ft\n",
"V1= 50 //mph\n",
"gc= 32.2 //ft/lbf s^2\n",
"V2= 0 //mph\n",
"g= 32.2 //ft/s^2\n",
"Z2= 0 //ft\n",
"//CALCULATIONS\n",
"V1= V1*(73.3/50)\n",
"Q2= ((m*(V2^2-V1^2))/(2*gc))+((m*g)/gc)*(Z2-Z1)\n",
"//RESULTS\n",
"printf ('Energy dissipated from the brakes= %.e ft lbf',-Q2)"
   ]
   }
,
{
		   "cell_type": "markdown",
		   "metadata": {},
		   "source": [
			"## Example 7.2: chapter_7_example_2.sce"
		   ]
		  },
  {
"cell_type": "code",
	   "execution_count": null,
	   "metadata": {
	    "collapsed": true
	   },
	   "outputs": [],
"source": [
"clc\n",
"//initialisation of variables\n",
"P= 15 //bar\n",
"T= 300 //C\n",
"h1= 3043.1 //J/gm\n",
"//CALCULATIONS\n",
"u2= h1\n",
"T= 453.4 \n",
"//RESULTS\n",
"printf ('Temperature of the steam in the tank= %.1f C',T)"
   ]
   }
,
{
		   "cell_type": "markdown",
		   "metadata": {},
		   "source": [
			"## Example 7.3: chapter_7_example_3.sce"
		   ]
		  },
  {
"cell_type": "code",
	   "execution_count": null,
	   "metadata": {
	    "collapsed": true
	   },
	   "outputs": [],
"source": [
"clc\n",
"//initialisation of variables\n",
"m= 10 //lbf\n",
"T= 120 //F\n",
"T1= 275 //F\n",
"u1= 98.9 //Btu/lbm\n",
"u2= 125.6 //Btu/lbm\n",
"//CALCULATIONS\n",
"Q= m*(u2-u1)\n",
"//RESULTS\n",
"printf ('Heat transferred to the tank= %.f Btu',Q)"
   ]
   }
,
{
		   "cell_type": "markdown",
		   "metadata": {},
		   "source": [
			"## Example 7.4: chapter_7_example_4.sce"
		   ]
		  },
  {
"cell_type": "code",
	   "execution_count": null,
	   "metadata": {
	    "collapsed": true
	   },
	   "outputs": [],
"source": [
"clc\n",
"//initialisation of variables\n",
"v0= 1 //m/s\n",
"vi= 60 //m/s\n",
"Q= -500 //J/s\n",
"m= 500 //gm/s\n",
"hi= 2000 //J/gm\n",
"h0= 1800 //J/gm\n",
"zi= 3 //m\n",
"z0= 0 //m\n",
"g= 9.8 //m/s^2\n",
"gc= 10^3 //gm m/Ns^2\n",
"//CALCULATIONS\n",
"W= Q+m*((hi-h0)+(vi^2-v0^2)/(2*gc)+(g/gc)*(zi-z0))\n",
"//RESULTS\n",
"printf ('Maximum theotrical power that can be devoloped= %.e J/s',W)"
   ]
   }
,
{
		   "cell_type": "markdown",
		   "metadata": {},
		   "source": [
			"## Example 7.5: chapter_7_example_5.sce"
		   ]
		  },
  {
"cell_type": "code",
	   "execution_count": null,
	   "metadata": {
	    "collapsed": true
	   },
	   "outputs": [],
"source": [
"clc\n",
"//initialisation of variables\n",
"m= 0.3 //lt/s\n",
"T= 82 //C\n",
"P= 2.4 //bar\n",
"p= 80\n",
"Tw= 800 //C\n",
"h1= 67.19 //J/gm\n",
"h3= 343.3 //J/gm\n",
"hf= 529.65 //J/gm\n",
"hfg= 2185.4 //J/gm\n",
"v3= 1.0305 //cm^3/gm\n",
"V3= 300 //cm^3/s\n",
"//CALCULATIONS\n",
"h2= hf+(p/100)*hfg\n",
"m3= V3/v3\n",
"m2= (m3*(h3-h1))/(h2-h1)\n",
"//RESULTS\n",
"printf ('Required steam flow rate= %.1f gm/s',m2)"
   ]
   }
,
{
		   "cell_type": "markdown",
		   "metadata": {},
		   "source": [
			"## Example 7.6: Chapter_7_example_6.sce"
		   ]
		  },
  {
"cell_type": "code",
	   "execution_count": null,
	   "metadata": {
	    "collapsed": true
	   },
	   "outputs": [],
"source": [
"clc\n",
"//initialisation of variables\n",
"h2= 2 //J/gm\n",
"h1= 1 //J/gm\n",
"//CALCULATIONS\n",
"L= h2-h1\n",
"//RESULTS\n",
"printf ('Difference between the enthalpies of the system in the two phases= %.f (h2-h1) J/gm',L)"
   ]
   }
],
"metadata": {
		  "kernelspec": {
		   "display_name": "Scilab",
		   "language": "scilab",
		   "name": "scilab"
		  },
		  "language_info": {
		   "file_extension": ".sce",
		   "help_links": [
			{
			 "text": "MetaKernel Magics",
			 "url": "https://github.com/calysto/metakernel/blob/master/metakernel/magics/README.md"
			}
		   ],
		   "mimetype": "text/x-octave",
		   "name": "scilab",
		   "version": "0.7.1"
		  }
		 },
		 "nbformat": 4,
		 "nbformat_minor": 0
}
