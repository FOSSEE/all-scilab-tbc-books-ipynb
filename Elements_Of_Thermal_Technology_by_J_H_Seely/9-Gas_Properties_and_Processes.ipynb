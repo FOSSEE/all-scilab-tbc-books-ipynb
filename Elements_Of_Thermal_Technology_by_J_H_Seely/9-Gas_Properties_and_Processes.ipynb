{
"cells": [
 {
		   "cell_type": "markdown",
	   "metadata": {},
	   "source": [
       "# Chapter 9: Gas Properties and Processes"
	   ]
	},
{
		   "cell_type": "markdown",
		   "metadata": {},
		   "source": [
			"## Example 9.1: Chapter_9_example_1.sce"
		   ]
		  },
  {
"cell_type": "code",
	   "execution_count": null,
	   "metadata": {
	    "collapsed": true
	   },
	   "outputs": [],
"source": [
"clc\n",
"//initialisation of variables\n",
"v= 15 //ft^3\n",
"m= 20 //lbm\n",
"T= 80 //lbf\n",
"P= 320 //psia\n",
"//CALCULATIONS\n",
"R= P*144*v/(m*(T+460))\n",
"M= 1545/R\n",
"//RESULTS\n",
"printf ('Molecular weight of the gas = %.1f lbm/lbm mol',M)"
   ]
   }
,
{
		   "cell_type": "markdown",
		   "metadata": {},
		   "source": [
			"## Example 9.2: chapter_9_example_2.sce"
		   ]
		  },
  {
"cell_type": "code",
	   "execution_count": null,
	   "metadata": {
	    "collapsed": true
	   },
	   "outputs": [],
"source": [
"clc\n",
"//initialisation of variables\n",
"V= 50 //lit\n",
"P= 20 //atm\n",
"T= 30 //C\n",
"P1= 6 //atm\n",
"T1= 10 //C\n",
"M= 32 //gm/gm mol\n",
"//CALCULATIONS\n",
"n= V*P/(0.082*(T+273))\n",
"m= n*M\n",
"n2= P1*V/(0.082*(T1+273))\n",
"m2= n2*M\n",
"//RESULTS\n",
"printf ('Initial Mass of Oxygen = %.f gm ',m)\n",
"printf (' \n Final mass of oxygen= %.f gm',m2)\n",
""
   ]
   }
,
{
		   "cell_type": "markdown",
		   "metadata": {},
		   "source": [
			"## Example 9.3: chapter_9_example_3.sce"
		   ]
		  },
  {
"cell_type": "code",
	   "execution_count": null,
	   "metadata": {
	    "collapsed": true
	   },
	   "outputs": [],
"source": [
"clc\n",
"//initialisation of variables\n",
"V2= 0.75 //ft^3\n",
"P2= 1 //atm\n",
"P1= 3 //atm\n",
"T= 35 //F\n",
"e= 1.3\n",
"//CALCULATIONS\n",
"V1= ((P2*(V2)^e)/P1)^(1/e)\n",
"T2= P1*V1*(T+460)/(P2*V2)\n",
"//RESULTS\n",
"printf ('Final volume = %.2f ft^3 ',V2)\n",
"printf (' \n Final temperature= %.f R',T2)\n",
"//The answer is approximated in the textbook"
   ]
   }
,
{
		   "cell_type": "markdown",
		   "metadata": {},
		   "source": [
			"## Example 9.4: chapter_9_example_4.sce"
		   ]
		  },
  {
"cell_type": "code",
	   "execution_count": null,
	   "metadata": {
	    "collapsed": true
	   },
	   "outputs": [],
"source": [
"clc\n",
"//initialisation of variables\n",
"m= 0.45 //kg\n",
"v1= 0.03 //m^3\n",
"v2= 0.06 //m^3\n",
"P= 6.9*10^5 //Pa\n",
"K= 1.4\n",
"R= 287.1 //J/Kg K\n",
"//CALCULATIONS\n",
"T1= (P*v1)/(m*R)\n",
"T2= T1\n",
"P2= P*v1/v2 \n",
"T3= T2*(v2/v1)^(K-1)\n",
"P3= P2*(v2/v1)^K\n",
"//RESULTS\n",
"printf ('T1 = %.f K ',T1)\n",
"printf (' \n T2= %.f K',T2)\n",
"printf (' \n T3= %.f K',T3)\n",
"printf (' \n P2= %.2e Pa',P2)\n",
"printf (' \n P3= %.2e Pa',P3)"
   ]
   }
,
{
		   "cell_type": "markdown",
		   "metadata": {},
		   "source": [
			"## Example 9.5: chapter_9_example_5.sce"
		   ]
		  },
  {
"cell_type": "code",
	   "execution_count": null,
	   "metadata": {
	    "collapsed": true
	   },
	   "outputs": [],
"source": [
"clc\n",
"//initialisation of variables\n",
"P= 1 //atm\n",
"T= 60 //F\n",
"P1= 4 //atm\n",
"e= 1.3\n",
"R= 55.15 //lbf/lbm R\n",
"m= 778\n",
"//CALCULATIONS\n",
"T2= (T+460)*(P1/P)^((e-1)/e)\n",
"W= R*(T2-(T+460))/(1-e)\n",
"W1= W/m\n",
"//RESLUTS\n",
"printf ('Work associated with the process= %.1f Btu/lbm ',W1)"
   ]
   }
,
{
		   "cell_type": "markdown",
		   "metadata": {},
		   "source": [
			"## Example 9.6: chapter_9_example_6.sce"
		   ]
		  },
  {
"cell_type": "code",
	   "execution_count": null,
	   "metadata": {
	    "collapsed": true
	   },
	   "outputs": [],
"source": [
"clc\n",
"//initialisation of variables\n",
"m= 10//lbm\n",
"R= 48.28 //lbf/lbm R\n",
"T= 120 //F\n",
"V= 150 //ft^3\n",
"m1= 15 //lbm\n",
"R1= 55.15 //lbf/lbm R\n",
"//CALCULATIONS\n",
"P1= (m*R*(T+460))/V\n",
"P2= (m1*R1*(T+460))/V\n",
"Pm= P1+P2\n",
"V1= (m*R*(T+460))/Pm\n",
"V2= (m1*R1*(T+460))/Pm\n",
"Vm= V1+V2\n",
"//RESULTS\n",
"printf ('Total volume= %.f ft^3 ',Vm)"
   ]
   }
],
"metadata": {
		  "kernelspec": {
		   "display_name": "Scilab",
		   "language": "scilab",
		   "name": "scilab"
		  },
		  "language_info": {
		   "file_extension": ".sce",
		   "help_links": [
			{
			 "text": "MetaKernel Magics",
			 "url": "https://github.com/calysto/metakernel/blob/master/metakernel/magics/README.md"
			}
		   ],
		   "mimetype": "text/x-octave",
		   "name": "scilab",
		   "version": "0.7.1"
		  }
		 },
		 "nbformat": 4,
		 "nbformat_minor": 0
}
