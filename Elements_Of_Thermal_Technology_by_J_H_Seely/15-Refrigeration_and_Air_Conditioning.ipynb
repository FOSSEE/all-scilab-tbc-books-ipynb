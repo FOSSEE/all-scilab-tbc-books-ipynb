{
"cells": [
 {
		   "cell_type": "markdown",
	   "metadata": {},
	   "source": [
       "# Chapter 15: Refrigeration and Air Conditioning"
	   ]
	},
{
		   "cell_type": "markdown",
		   "metadata": {},
		   "source": [
			"## Example 15.1: Chapter_15_example_1.sce"
		   ]
		  },
  {
"cell_type": "code",
	   "execution_count": null,
	   "metadata": {
	    "collapsed": true
	   },
	   "outputs": [],
"source": [
"clc\n",
"//initialisation of variables\n",
"P= 7 //bar\n",
"P1= 1.4 //bar\n",
"T= 260 //C\n",
"T1= 251 //C\n",
"h= 2974.9 //J/gm\n",
"//CALCULATIONS\n",
"dT= T-T1\n",
"Mj= dT/(P-P1)\n",
"//RESULTS\n",
"printf ('Joule-Thomson coefficient= %.2f C/bar ',Mj)"
   ]
   }
,
{
		   "cell_type": "markdown",
		   "metadata": {},
		   "source": [
			"## Example 15.2: chapter_15_example_2.sce"
		   ]
		  },
  {
"cell_type": "code",
	   "execution_count": null,
	   "metadata": {
	    "collapsed": true
	   },
	   "outputs": [],
"source": [
"clc\n",
"//initialisation of variables\n",
"T= 10 //F\n",
"T1= 110 //F\n",
"Pr= 180 //lbm/hr\n",
"h1= 78.335 //Btu/lbm\n",
"h3= 33.531 //Btu/lbm\n",
"h2= 91 //Btu/lbm\n",
"L= 12000 //Btu/hr per ton\n",
"//CALCULATIONS\n",
"h4= h3\n",
"QL= h1-h4\n",
"W= h2-h1\n",
"COP= QL/W\n",
"C= QL*Pr/L\n",
"//RESULTS\n",
"printf ('Refrigerating effect = %.1f Btu/lbm ',QL)\n",
"printf (' \n Coffecient of performnance= %.1f ',COP)\n",
"printf (' \n Capacity of refrigeration in tons= %.2f ton',C)"
   ]
   }
],
"metadata": {
		  "kernelspec": {
		   "display_name": "Scilab",
		   "language": "scilab",
		   "name": "scilab"
		  },
		  "language_info": {
		   "file_extension": ".sce",
		   "help_links": [
			{
			 "text": "MetaKernel Magics",
			 "url": "https://github.com/calysto/metakernel/blob/master/metakernel/magics/README.md"
			}
		   ],
		   "mimetype": "text/x-octave",
		   "name": "scilab",
		   "version": "0.7.1"
		  }
		 },
		 "nbformat": 4,
		 "nbformat_minor": 0
}
