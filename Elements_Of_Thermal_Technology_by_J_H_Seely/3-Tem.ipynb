{
"cells": [
 {
		   "cell_type": "markdown",
	   "metadata": {},
	   "source": [
       "# Chapter 3: Tem"
	   ]
	},
{
		   "cell_type": "markdown",
		   "metadata": {},
		   "source": [
			"## Example 3.1: Chapter_3_example_1.sce"
		   ]
		  },
  {
"cell_type": "code",
	   "execution_count": null,
	   "metadata": {
	    "collapsed": true
	   },
	   "outputs": [],
"source": [
"clc\n",
"//initialisation of variables\n",
"T1= -3 //degrees\n",
"T2= 650 //Rankine\n",
"T3= 650 //Rankine\n",
"//CALCULATIONS\n",
"t1= (9/5)*T1+32\n",
"t2= T2-459.67\n",
"t21= (5/9)*(t2-32)\n",
"t3= t21+273.15\n",
"//RESULTS\n",
"printf ('T= %.2f F',t1)\n",
"printf (' \n T= %.2f C',t21)\n",
"printf (' \n T= %.2f K',t3)"
   ]
   }
,
{
		   "cell_type": "markdown",
		   "metadata": {},
		   "source": [
			"## Example 3.2: chapter_3_example_2.sce"
		   ]
		  },
  {
"cell_type": "code",
	   "execution_count": null,
	   "metadata": {
	    "collapsed": true
	   },
	   "outputs": [],
"source": [
"clc\n",
"//initialisation of variables\n",
"T1= 40 //degrees\n",
"T2= 30 //degrees\n",
"//CALCULATIONS\n",
"d1= (T1-T2)*(9/5)\n",
"d2= d1\n",
"//RESULTS\n",
"printf ('T= %.2f F',d1)\n",
"printf (' \n T= %.2f R',d2)"
   ]
   }
,
{
		   "cell_type": "markdown",
		   "metadata": {},
		   "source": [
			"## Example 3.3: chapter_3_example_3.sce"
		   ]
		  },
  {
"cell_type": "code",
	   "execution_count": null,
	   "metadata": {
	    "collapsed": true
	   },
	   "outputs": [],
"source": [
"clc\n",
"//initialisation of variables\n",
"l= 400 //mm\n",
"t1= 20 //degrees\n",
"t2= 90 //degrees\n",
"alpha= 19.3*10^-6 //degrees^-1\n",
"//CALCULATIONS\n",
"L= alpha*(t2-t1)*l\n",
"L1= L+l\n",
"//RESULTS\n",
"printf ('L= %.2f mm',L1)"
   ]
   }
,
{
		   "cell_type": "markdown",
		   "metadata": {},
		   "source": [
			"## Example 3.4: chapter_3_example_4.sce"
		   ]
		  },
  {
"cell_type": "code",
	   "execution_count": null,
	   "metadata": {
	    "collapsed": true
	   },
	   "outputs": [],
"source": [
"clc\n",
"//initialisation of variables\n",
"d= 2.98 //in\n",
"T1= 69 //F\n",
"T2= -15 //F\n",
"alpha= 22.7*10^-6 //C^-1\n",
"//CALCULATIONS\n",
"A0= %pi*d^2/4\n",
"alpha1= alpha/1.8\n",
"A= 2*alpha1*A0*(T1-T2)\n",
"A1= A0-A\n",
"d1= sqrt(4*A1/%pi)\n",
"//RESULTS\n",
"printf ('diameter at -15 = %.3f in',d1)"
   ]
   }
],
"metadata": {
		  "kernelspec": {
		   "display_name": "Scilab",
		   "language": "scilab",
		   "name": "scilab"
		  },
		  "language_info": {
		   "file_extension": ".sce",
		   "help_links": [
			{
			 "text": "MetaKernel Magics",
			 "url": "https://github.com/calysto/metakernel/blob/master/metakernel/magics/README.md"
			}
		   ],
		   "mimetype": "text/x-octave",
		   "name": "scilab",
		   "version": "0.7.1"
		  }
		 },
		 "nbformat": 4,
		 "nbformat_minor": 0
}
