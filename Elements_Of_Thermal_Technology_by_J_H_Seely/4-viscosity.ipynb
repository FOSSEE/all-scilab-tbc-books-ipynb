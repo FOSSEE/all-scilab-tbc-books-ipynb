{
"cells": [
 {
		   "cell_type": "markdown",
	   "metadata": {},
	   "source": [
       "# Chapter 4: viscosity"
	   ]
	},
{
		   "cell_type": "markdown",
		   "metadata": {},
		   "source": [
			"## Example 4.1: Chapter_4_example_1.sce"
		   ]
		  },
  {
"cell_type": "code",
	   "execution_count": null,
	   "metadata": {
	    "collapsed": true
	   },
	   "outputs": [],
"source": [
"clc\n",
"//initialisation of variables\n",
"V= 1 //cp\n",
"//CALCULATIONS\n",
"SI= V*10^-2/10\n",
"BE= (V*10^-2*32.2)/(4.788*10^2)\n",
"RE= V*10^-2/(4.788*10^2*144)\n",
"//RESULTS\n",
"printf ('SI units= %.2e Pa s',SI)\n",
"printf (' \n BE units= %.2e lbm/ft s',BE)\n",
"printf (' \n Reyns units= %.2e reyn',RE)"
   ]
   }
,
{
		   "cell_type": "markdown",
		   "metadata": {},
		   "source": [
			"## Example 4.2: chapter_4_example_2.sce"
		   ]
		  },
  {
"cell_type": "code",
	   "execution_count": null,
	   "metadata": {
	    "collapsed": true
	   },
	   "outputs": [],
"source": [
"clc\n",
"//initialisation of variables\n",
"T= 68 //F\n",
"d= 1.0 //gm/cm^3\n",
"mu= 10^-2 //gm/cm s\n",
"SIm= 10^-4 //m^2/s\n",
"m= 10.76 //ft\n",
"//CALCULATIONS\n",
"SI= mu*SIm\n",
"BU= SI*m\n",
"//RESULTS\n",
"printf ('SI Units= %.2e m^2/s',SI)\n",
"printf (' \n British Units= %.2e ft/s',BU)"
   ]
   }
,
{
		   "cell_type": "markdown",
		   "metadata": {},
		   "source": [
			"## Example 4.3: chapter_4_example_3.sce"
		   ]
		  },
  {
"cell_type": "code",
	   "execution_count": null,
	   "metadata": {
	    "collapsed": true
	   },
	   "outputs": [],
"source": [
"clc\n",
"//initialisation of variables\n",
"Ku= 40 //SUS\n",
"//CALCULATIONS\n",
"SU= 0.0022*Ku-(1.8/Ku)\n",
"//RESULTS\n",
"printf ('Stoke Units= %.3f stoke',SU)"
   ]
   }
,
{
		   "cell_type": "markdown",
		   "metadata": {},
		   "source": [
			"## Example 4.4: chapter_4_example_4.sce"
		   ]
		  },
  {
"cell_type": "code",
	   "execution_count": null,
	   "metadata": {
	    "collapsed": true
	   },
	   "outputs": [],
"source": [
"clc\n",
"//initialisation of variables\n",
"v= 50 //fps\n",
"mu= 1.6*10^-4 //ft^2/s\n",
"d1= 10 //in\n",
"d2= 10 //in square\n",
"//CALACULATIONS\n",
"D= (%pi*4*d1^2/4)/(%pi*d2*12)\n",
"Re= (v*D)/mu\n",
"D1= (d1^2/(4*d2*3))\n",
"Re1= (v*D1)/mu\n",
"//RESULTS\n",
"printf ('Re= %.3e ',Re)\n",
"printf (' \n Re= %.3e ',Re1)"
   ]
   }
,
{
		   "cell_type": "markdown",
		   "metadata": {},
		   "source": [
			"## Example 4.5: chapter_4_example_5.sce"
		   ]
		  },
  {
"cell_type": "code",
	   "execution_count": null,
	   "metadata": {
	    "collapsed": true
	   },
	   "outputs": [],
"source": [
"clc\n",
"//initialisation of variables\n",
"v= 1.75*10^-3 //pa s\n",
"l= 1 //m\n",
"P= 1 //Mpa\n",
"d= 0.5 //mm\n",
"//CALCULATIONS\n",
"Q= (%pi*P*10^6*((d/2)*10^-3)^4)/(l*8*v)\n",
"//RESULTS\n",
"printf ('Q= %.2e Ns/m^2',Q)"
   ]
   }
],
"metadata": {
		  "kernelspec": {
		   "display_name": "Scilab",
		   "language": "scilab",
		   "name": "scilab"
		  },
		  "language_info": {
		   "file_extension": ".sce",
		   "help_links": [
			{
			 "text": "MetaKernel Magics",
			 "url": "https://github.com/calysto/metakernel/blob/master/metakernel/magics/README.md"
			}
		   ],
		   "mimetype": "text/x-octave",
		   "name": "scilab",
		   "version": "0.7.1"
		  }
		 },
		 "nbformat": 4,
		 "nbformat_minor": 0
}
