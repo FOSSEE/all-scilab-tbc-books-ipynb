{
"cells": [
 {
		   "cell_type": "markdown",
	   "metadata": {},
	   "source": [
       "# Chapter 3: SAMPLING THEORY AND PULSE MODULATION"
	   ]
	},
{
		   "cell_type": "markdown",
		   "metadata": {},
		   "source": [
			"## Example 3.1: Nquist_Rate.sce"
		   ]
		  },
  {
"cell_type": "code",
	   "execution_count": null,
	   "metadata": {
	    "collapsed": true
	   },
	   "outputs": [],
"source": [
"//Caption: Nquist Rate\n",
"//Example 3.1 \n",
"//page no 102\n",
"//find Nquist Rate\n",
"//given \n",
"clc;\n",
"clear;\n",
"w1=50*%pi;\n",
"w2=300*%pi;\n",
"w3=100*%pi;\n",
"//w=2*%pi*f\n",
"f1=w1/(2*%pi);\n",
"f2=w2/(2*%pi);\n",
"f3=w3/(2*%pi);\n",
"fm=f2;//fm = maximum frquency is present at the signal\n",
"disp(f2,'maximum frquency of the signal is');\n",
"disp(' Hz');\n",
"fs=2*fm;//Nyquist rate\n",
"disp('Nquist Rate of Signal is');\n",
"disp(' Hz',fs);\n",
""
   ]
   }
,
{
		   "cell_type": "markdown",
		   "metadata": {},
		   "source": [
			"## Example 3.2: Nquist_Rate_and_time_interval.sce"
		   ]
		  },
  {
"cell_type": "code",
	   "execution_count": null,
	   "metadata": {
	    "collapsed": true
	   },
	   "outputs": [],
"source": [
"//Caption: Nquist Rate,time interval\n",
"//Example 3.2 \n",
"//page no 103\n",
"//Find Nquist Rate and Nquist time interval\n",
"//given\n",
"clc;\n",
"clear;\n",
"w1=5000*%pi;\n",
"w2=3000*%pi;\n",
"f1=w1/(2*%pi);\n",
"f2=w2/(2*%pi);\n",
"fm=f1;//fm = maximum frquency is present at the signal\n",
"disp(' Hz',f1,'i) maximum frquency of the signal is');\n",
"\n",
"fs=2*fm;//Nyquist rate\n",
"disp(' Hz',fs,'ii) Nquist Rate of the given Signal is');\n",
"Ts=1/(2*fm);//frequncy =1/time\n",
"disp('m Sec',Ts*10^3,'iii) Nquist Interval of the given signal is');\n",
""
   ]
   }
,
{
		   "cell_type": "markdown",
		   "metadata": {},
		   "source": [
			"## Example 3.3: Nquist_Rate.sce"
		   ]
		  },
  {
"cell_type": "code",
	   "execution_count": null,
	   "metadata": {
	    "collapsed": true
	   },
	   "outputs": [],
"source": [
"////Caption Nquist Rate \n",
"//Example 3.3 \n",
"//page no 104\n",
"//Find Nquist Rate \n",
"//given\n",
"clc;\n",
"clear;\n",
"f=100;\n",
"fs=2*f;//Nyquist rate\n",
"disp(' Hz',fs,'(i)To avoid aliasing Nquist Rate is '); "
   ]
   }
,
{
		   "cell_type": "markdown",
		   "metadata": {},
		   "source": [
			"## Example 3.4: Nquist_Rate.sce"
		   ]
		  },
  {
"cell_type": "code",
	   "execution_count": null,
	   "metadata": {
	    "collapsed": true
	   },
	   "outputs": [],
"source": [
"//Caption: Nquist Rate\n",
"//Example 3.4 \n",
"//page no 105\n",
"//Find Nquist Rate of Continous signal\n",
"//given\n",
"clc;\n",
"clear;\n",
"\n",
"w1=50*%pi;\n",
"w2=300*%pi;\n",
"w3=100*%pi;\n",
"f1=w1/(2*%pi);\n",
"f2=w2/(2*%pi);\n",
"f3=w3/(2*%pi);\n",
"fmax=f2;//fmax = Highest frquency component of the message signal\n",
"disp('Highest frquency component of the message signal will be');\n",
"disp(fmax,'fmax=');\n",
"disp(' Hz');\n",
"fs=2*fmax;//Nyquist rate\n",
"disp('Nquist Rate of the given Signal is');\n",
"disp(' Hz',fs);"
   ]
   }
,
{
		   "cell_type": "markdown",
		   "metadata": {},
		   "source": [
			"## Example 3.7: Amplitude.sce"
		   ]
		  },
  {
"cell_type": "code",
	   "execution_count": null,
	   "metadata": {
	    "collapsed": true
	   },
	   "outputs": [],
"source": [
"//caption: amplitude\n",
"//Example 3.7 \n",
"//page no 123\n",
"//find amplitude distortion at highest frquency\n",
"//given\n",
"clc;\n",
"clear;\n",
"\n",
"fs=9.5;  //samplig frequncy\n",
"fmax=1;   //maximum frequncy\n",
"t=0.2; //pulse width\n",
"c=3*10^8;\n",
"f=fmax;\n",
"H1=t*sinc(f*t); //aperture effect at highest frequency\n",
"disp(H1*100,'|H(1)|=');\n",
"disp('%');"
   ]
   }
,
{
		   "cell_type": "markdown",
		   "metadata": {},
		   "source": [
			"## Example 3.8: Transmission_Bandwidth.sce"
		   ]
		  },
  {
"cell_type": "code",
	   "execution_count": null,
	   "metadata": {
	    "collapsed": true
	   },
	   "outputs": [],
"source": [
"//Caption: Transmission Bandwidth\n",
"//Example 3.8 \n",
"//page no 131\n",
"//Calculate Transmission Bandwidth\n",
"//given\n",
"clc;\n",
"clear;\n",
"\n",
"fm=3*10^3;\n",
"fs=8*10^3;// sampling frequncy\n",
"Ts=1/fs;\n",
"t=0.1*Ts;\n",
"BW=1/(2*t);//Bandwidth\n",
"disp('Transmission Bandwidth of PAM signal is  ');\n",
"disp('kHz',BW*10^-3,'BW>=');\n",
""
   ]
   }
],
"metadata": {
		  "kernelspec": {
		   "display_name": "Scilab",
		   "language": "scilab",
		   "name": "scilab"
		  },
		  "language_info": {
		   "file_extension": ".sce",
		   "help_links": [
			{
			 "text": "MetaKernel Magics",
			 "url": "https://github.com/calysto/metakernel/blob/master/metakernel/magics/README.md"
			}
		   ],
		   "mimetype": "text/x-octave",
		   "name": "scilab",
		   "version": "0.7.1"
		  }
		 },
		 "nbformat": 4,
		 "nbformat_minor": 0
}
