{
"cells": [
 {
		   "cell_type": "markdown",
	   "metadata": {},
	   "source": [
       "# Chapter 6: DIGTIAL BASEBAND TRANSMISSION"
	   ]
	},
{
		   "cell_type": "markdown",
		   "metadata": {},
		   "source": [
			"## Example 6.25: roll_of_factor.sce"
		   ]
		  },
  {
"cell_type": "code",
	   "execution_count": null,
	   "metadata": {
	    "collapsed": true
	   },
	   "outputs": [],
"source": [
"//Caption: roll of factor\n",
"//Example 6.25\n",
"//page no 307\n",
"//Find The roll of factor alpha\n",
"clc;\n",
"clear;\n",
"datarate=0.1*10^6;\n",
"fB=75000; //bandwidth\n",
"Tb=1/datarate;\n",
"alpha=2*fB*Tb-1\n",
"disp(alpha,'factor alpha = ')"
   ]
   }
,
{
		   "cell_type": "markdown",
		   "metadata": {},
		   "source": [
			"## Example 6.26: Transmission_bandwidth.sce"
		   ]
		  },
  {
"cell_type": "code",
	   "execution_count": null,
	   "metadata": {
	    "collapsed": true
	   },
	   "outputs": [],
"source": [
"//Caption: Transmission bandwidth\n",
"//Example 6.26\n",
"//page no 307\n",
"//Find The Transmission bandwidth\n",
"clc;\n",
"clear;\n",
"q=128;\n",
"alpha=0.2\n",
"n=log2(q);\n",
"fm=2000;\n",
"Nq=2*fm;\n",
"fs=1.25*Nq;\n",
"N=8;\n",
"total=N*fs;\n",
"bitrate=7*total;\n",
"fB=((1+alpha)*bitrate)/2;\n",
"disp('kHz',fB/1000,'Transmission Bandwidth');"
   ]
   }
],
"metadata": {
		  "kernelspec": {
		   "display_name": "Scilab",
		   "language": "scilab",
		   "name": "scilab"
		  },
		  "language_info": {
		   "file_extension": ".sce",
		   "help_links": [
			{
			 "text": "MetaKernel Magics",
			 "url": "https://github.com/calysto/metakernel/blob/master/metakernel/magics/README.md"
			}
		   ],
		   "mimetype": "text/x-octave",
		   "name": "scilab",
		   "version": "0.7.1"
		  }
		 },
		 "nbformat": 4,
		 "nbformat_minor": 0
}
