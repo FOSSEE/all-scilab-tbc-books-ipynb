{
"cells": [
 {
		   "cell_type": "markdown",
	   "metadata": {},
	   "source": [
       "# Chapter 9: INFORMATION THEORY"
	   ]
	},
{
		   "cell_type": "markdown",
		   "metadata": {},
		   "source": [
			"## Example 9.12: rate_of_information.sce"
		   ]
		  },
  {
"cell_type": "code",
	   "execution_count": null,
	   "metadata": {
	    "collapsed": true
	   },
	   "outputs": [],
"source": [
"//Caption: rate of information\n",
"//Example 9.12\n",
"//page no 401\n",
"//Find Average rate of information\n",
"clc;\n",
"clear;\n",
"m=16;\n",
"pxi=1/16;\n",
"elements=2*10^6;\n",
"n=32\n",
"HX=0;\n",
"for(i=1:16)\n",
"   HX=HX+(-(pxi*log2(pxi)));\n",
"end\n",
"r=elements*n;\n",
"R=r*HX\n",
"printf('Average rate of information\n  \n \t R = %d Mbs',R/10^6);"
   ]
   }
,
{
		   "cell_type": "markdown",
		   "metadata": {},
		   "source": [
			"## Example 9.13: information_rate.sce"
		   ]
		  },
  {
"cell_type": "code",
	   "execution_count": null,
	   "metadata": {
	    "collapsed": true
	   },
	   "outputs": [],
"source": [
"//Caption: information rate\n",
"//Example 9.13\n",
"//page no 401\n",
"//Find information rate the telegraphic source\n",
"clc;\n",
"clear;\n",
"pdash=1/3;\n",
"pdot=2/3;\n",
"tdot=0.2;\n",
"tdash=0.6;\n",
"tspace=0.2;\n",
"HX=-pdash*log2(pdash)-pdot*log2(pdot);\n",
"Ts=pdot*tdot+pdash*tdash+tspace;\n",
"r=1/Ts;\n",
"R=r*HX;\n",
"printf('Average rate of information\n \n \t R = %.2f b/s',R);"
   ]
   }
,
{
		   "cell_type": "markdown",
		   "metadata": {},
		   "source": [
			"## Example 9.14: Information_rate.sce"
		   ]
		  },
  {
"cell_type": "code",
	   "execution_count": null,
	   "metadata": {
	    "collapsed": true
	   },
	   "outputs": [],
"source": [
"//Caption: information rate\n",
"//Example 9.14\n",
"//page no 402\n",
"//Find information rate of the source\n",
"clc;\n",
"clear;\n",
"f=input('Enter the frequncy f=');\n",
"px1=1/8;\n",
"px2=1/8;\n",
"px3=3/8;\n",
"px4=3/8;\n",
"\n",
"HX=px1*log2(1/px1)+px2*log2(1/px2)+px3*log2(1/px3)+px4*log2(1/px4);//entropy of the source\n",
"R=2*f*HX;//r=2*f;\n",
"printf('information rate \n\n \t R=  %.1f  bits/sec ',R);//f=signal bandwidth"
   ]
   }
,
{
		   "cell_type": "markdown",
		   "metadata": {},
		   "source": [
			"## Example 9.15: Information_rate.sce"
		   ]
		  },
  {
"cell_type": "code",
	   "execution_count": null,
	   "metadata": {
	    "collapsed": true
	   },
	   "outputs": [],
"source": [
"//Caption: information rate\n",
"//Example 9.15\n",
"//page no 403\n",
"//Find information rate of the source\n",
"//all symbols are equally likely\n",
"clc;\n",
"clear;\n",
"px1=1/2;\n",
"px2=1/2;\n",
"px3=1/2;\n",
"px4=1/2;\n",
"f=input('Enter the frequncy of system fm(in Hz) =');\n",
"HX=px1*log2(1/px1)+px2*log2(1/px2)+px3*log2(1/px3)+px4*log2(1/px4);\n",
"\n",
"\n",
"printf('\n Entropy H(X) =%d bits/symbol\n ',HX);\n",
"R=2*f*HX;\n",
"printf('\n information rate =%d bits/sec',R);\n",
""
   ]
   }
,
{
		   "cell_type": "markdown",
		   "metadata": {},
		   "source": [
			"## Example 9.16: Entropy_and_information_rate.sce"
		   ]
		  },
  {
"cell_type": "code",
	   "execution_count": null,
	   "metadata": {
	    "collapsed": true
	   },
	   "outputs": [],
"source": [
"//Caption: entropy ,information rate\n",
"//Example 9.16\n",
"//page no 404\n",
"//Find  source entropy ,information rate\n",
"clc;\n",
"clear;\n",
"//probability symbols\n",
"px1=1/2;\n",
"px2=1/4;\n",
"px3=1/8;\n",
"px4=1/16;\n",
"px5=1/16;\n",
"Tb=10^-3;\n",
"HX=px1*log2(1/px1)+px2*log2(1/px2)+px3*log2(1/px3)+px4*log2(1/px4)+px5*log2(1/px5);\n",
"printf('i) source entropy\n\n  \tH(X) = %.2f bits/symbol\n',HX);//source entropy\n",
"r=1/Tb;\n",
"R=r*HX;//information rate\n",
"printf('\n\n ii)information rate \n\n \t R = %d bits/sec',R);"
   ]
   }
,
{
		   "cell_type": "markdown",
		   "metadata": {},
		   "source": [
			"## Example 9.17: Entropy_and_information_rate.sce"
		   ]
		  },
  {
"cell_type": "code",
	   "execution_count": null,
	   "metadata": {
	    "collapsed": true
	   },
	   "outputs": [],
"source": [
"\n",
"//Caption: entropy and information rate\n",
"//Example 9.17\n",
"//page no 404\n",
"//determine entropy ,information rate\n",
"//assume if there are 16 outcomes per second\n",
"clc;\n",
"clear;\n",
"px1=1/2;\n",
"px2=1/4;\n",
"px3=1/8;\n",
"px4=1/16;\n",
"px5=1/16;\n",
"r=16\n",
"HX=px1*log2(1/px1)+px2*log2(1/px2)+px3*log2(1/px3)+px4*log2(1/px4)+px5*log2(1/px5);\n",
"\n",
"printf('i) Entropy\n\n  \tH(X) = %.2f bits/symbol\n',HX);//source entropy\n",
"\n",
"R=r*HX;\n",
"printf('\n\n ii)information rate \n\n \t R = %d bits/sec',R);"
   ]
   }
,
{
		   "cell_type": "markdown",
		   "metadata": {},
		   "source": [
			"## Example 9.18: Entropy_and_information_rate.sce"
		   ]
		  },
  {
"cell_type": "code",
	   "execution_count": null,
	   "metadata": {
	    "collapsed": true
	   },
	   "outputs": [],
"source": [
"\n",
"//Caption: entropy ,information rate\n",
"//Example 9.18\n",
"//page no 405\n",
"//determine entropy ,information rate\n",
"clc;\n",
"clear;\n",
"px1=1/4;\n",
"px2=1/5;\n",
"px3=1/5;\n",
"px4=1/10;\n",
"px5=1/10;\n",
"px6=1/20;\n",
"px7=1/20;\n",
"px8=1/20;\n",
"f=10*10^3;\n",
"fs=10*2*10^3;\n",
"HX=px1*log2(1/px1)+px2*log2(1/px2)+px3*log2(1/px3)+px4*log2(1/px4)+px5*log2(1/px5)+px6*log2(1/px6)+px7*log2(1/px7)+px8*log2(1/px8);//entropy\n",
"disp('bits/message',HX,'H(X) = ');\n",
"r=fs;\n",
"R=r*HX;//information rate\n",
"disp('bits/sec',R,'R = ');"
   ]
   }
,
{
		   "cell_type": "markdown",
		   "metadata": {},
		   "source": [
			"## Example 9.19: Channel_Matrix_and_joint_probability.sce"
		   ]
		  },
  {
"cell_type": "code",
	   "execution_count": null,
	   "metadata": {
	    "collapsed": true
	   },
	   "outputs": [],
"source": [
"//Caption: Channel Matrix,joint probability\n",
"//Example 9.19\n",
"//page no 408\n",
"//Find Channel Matrix,joint probability\n",
" \n",
"clc;\n",
"clear;\n",
"px1=0.5;\n",
"px2=0.5;\n",
"py1x1=0.9;\n",
"py2x1=0.1;\n",
"py1x2=0.2;\n",
"py2x2=0.8;\n",
"PYX=[py1x1 py2x1; py1x2 py2x2];\n",
"PX=[px1 px2];\n",
"\n",
"disp(PYX,'   i)Channel Matrix  [P(Y/X)]=');\n",
"PY=PX*PYX;\n",
"printf('\n\  ii) P(y1)=%.2f and P(y2)=%.2f \n',PY(1),PY(2));\n",
"\n",
"PXd=[px1 0;0 px2];\n",
"PXY=PXd*PYX;\n",
"printf('\n iii)P(x1y2)=%.2f and P(x2y1)=%.2f',PXY(3),PXY(2));\n",
""
   ]
   }
,
{
		   "cell_type": "markdown",
		   "metadata": {},
		   "source": [
			"## Example 9.1: Information_Content.sce"
		   ]
		  },
  {
"cell_type": "code",
	   "execution_count": null,
	   "metadata": {
	    "collapsed": true
	   },
	   "outputs": [],
"source": [
"//Caption: Information Content\n",
"//Example 9.1\n",
"//page no 394\n",
"//Find Information Content of Each Symbol\n",
"clc;\n",
"clear;\n",
"px1=1/2;\n",
"px2=1/4;\n",
"px3=1/8;\n",
"px4=1/8;\n",
"//information content of each symbol\n",
"Ix1=log2(1/px1);\n",
"Ix2=log2(1/px2);\n",
"Ix3=log2(1/px3);\n",
"Ix4=log2(1/px4);\n",
"printf('Information Content \n\n \tI(x1) =  %d bit \n',Ix1);\n",
"printf(' \tI(x2) =  %d bits\n',Ix2);\n",
"printf(' \tI(x3) =  %d bits\n',Ix3);\n",
"printf(' \tI(x4) =  %d bits\n',Ix4);\n",
"\n",
""
   ]
   }
,
{
		   "cell_type": "markdown",
		   "metadata": {},
		   "source": [
			"## Example 9.21: probabilities_channel_matrix.sce"
		   ]
		  },
  {
"cell_type": "code",
	   "execution_count": null,
	   "metadata": {
	    "collapsed": true
	   },
	   "outputs": [],
"source": [
"//Caption: probabilities channel matrix\n",
"//Example 9.21\n",
"//Find probabilities channel matrix\n",
" \n",
"clc;\n",
"clear;\n",
"p=0.2;\n",
"PX=[0.5 0.5];\n",
"PXY=[1-p p 0;0 p 1-p];\n",
"//P(Y)=[P(X)]*[P(Y|X)]\n",
"PY=PX*PXY\n",
"disp(PY,'[P(Y)]');\n",
"disp(PY(1),'P(y1)=');\n",
"disp(PY(2),'P(y2)=');\n",
"disp(PY(3),'P(y3)=');"
   ]
   }
,
{
		   "cell_type": "markdown",
		   "metadata": {},
		   "source": [
			"## Example 9.2: Information.sce"
		   ]
		  },
  {
"cell_type": "code",
	   "execution_count": null,
	   "metadata": {
	    "collapsed": true
	   },
	   "outputs": [],
"source": [
"//Caption: Information\n",
"//Example 9.2\n",
"//page no 394\n",
"//Find amount of Information\n",
"clc;\n",
"clear;\n",
"pxi=1/4;\n",
"Ixi=(log10(1/pxi))/log10(2);\n",
"printf(' \n The amount of Information \n \n\t I(Xi) = %.2d bits',Ixi)"
   ]
   }
,
{
		   "cell_type": "markdown",
		   "metadata": {},
		   "source": [
			"## Example 9.35: Capacity_of_Channel.sce"
		   ]
		  },
  {
"cell_type": "code",
	   "execution_count": null,
	   "metadata": {
	    "collapsed": true
	   },
	   "outputs": [],
"source": [
"//Caption: Capacity of Channel\n",
"//Example 9.35\n",
"//page no 426\n",
"//Find Capacity of Channel\n",
"//Channel is aproximated by the AWGN Channel\n",
"clear;\n",
"clc;\n",
"B=4000;\n",
"S=0.1*10^-3;\n",
"n=2*10^-12;\n",
"N=n*B;\n",
"C=B*log2(1+(S/N));//Capacity of Channel\n",
"printf('\n Capacity of Channel \n\n\t C=%.3f(10^3) b/s',C/1000);"
   ]
   }
,
{
		   "cell_type": "markdown",
		   "metadata": {},
		   "source": [
			"## Example 9.36_ii: Channel_Capacity.sce"
		   ]
		  },
  {
"cell_type": "code",
	   "execution_count": null,
	   "metadata": {
	    "collapsed": true
	   },
	   "outputs": [],
"source": [
"//Caption: Channel Capacity \n",
"//Example 9.36ii\n",
"//page no 427\n",
"//Find Capacity of Channel\n",
"//assume that  succeissive samples are statistically independent\n",
"clear;\n",
"clc;\n",
"B=10*10^3;\n",
"SN=20;\n",
"SNR=10^(SN/10)\n",
"C=B*log2(1+(SNR));\n",
"disp('kb/s',C/1000,'C =')"
   ]
   }
,
{
		   "cell_type": "markdown",
		   "metadata": {},
		   "source": [
			"## Example 9.36_iii: SNR.sce"
		   ]
		  },
  {
"cell_type": "code",
	   "execution_count": null,
	   "metadata": {
	    "collapsed": true
	   },
	   "outputs": [],
"source": [
"//Caption: SNR\n",
"//Example 9.36iii\n",
"//page no 427\n",
"//Find SNR\n",
"//assume that  succeissive samples are statistically independent\n",
"clear;\n",
"clc;\n",
"C=8*10^4;\n",
"B=10^4;\n",
"SN=2^(C/B)-1;\n",
"SNR=10*log10(SN);//SNR\n",
"disp('dB',SNR,'SNR =');//required SNR is greater that 24.064"
   ]
   }
,
{
		   "cell_type": "markdown",
		   "metadata": {},
		   "source": [
			"## Example 9.36_i: information_rate.sce"
		   ]
		  },
  {
"cell_type": "code",
	   "execution_count": null,
	   "metadata": {
	    "collapsed": true
	   },
	   "outputs": [],
"source": [
"//Caption: information rate\n",
"//Example 9.36i\n",
"//page no 427\n",
"//Find information rate\n",
"//assume that  succeissive samples are statistically independent\n",
"clear;\n",
"clc;\n",
"fm=4000;\n",
"fs=2*fm;\n",
"n=1.25;\n",
"r=fs*n;\n",
"pxi=1/256;\n",
"HX=-log2(pxi);\n",
"R=r*HX;\n",
"printf('Information Rate \n\n \t R= %d kb/s',R/1000)"
   ]
   }
,
{
		   "cell_type": "markdown",
		   "metadata": {},
		   "source": [
			"## Example 9.36_iv: Bandwidth.sce"
		   ]
		  },
  {
"cell_type": "code",
	   "execution_count": null,
	   "metadata": {
	    "collapsed": true
	   },
	   "outputs": [],
"source": [
"//Caption: Bandwidth\n",
"//Example 9.36ii\n",
"//page no 427\n",
"//Find Required bandwidth \n",
"//assume that  succeissive samples are statistically independent\n",
"clear;\n",
"clc;\n",
"SN=20;\n",
"SNR=10^(SN/10);\n",
"C=8*10^4;\n",
"B=C/(log2(1+SNR));//Bandwidth\n",
"disp('kHz',B/1000,'Bandwidth  B = ');"
   ]
   }
,
{
		   "cell_type": "markdown",
		   "metadata": {},
		   "source": [
			"## Example 9.37: efficiency_and_redundancy.sce"
		   ]
		  },
  {
"cell_type": "code",
	   "execution_count": null,
	   "metadata": {
	    "collapsed": true
	   },
	   "outputs": [],
"source": [
"//Caption:  efficiency,redundancy\n",
"//Example 9.37\n",
"//page no 430\n",
"//Find code efficiency,redundancy\n",
"clear;\n",
"clc;\n",
"px1=0.9;\n",
"px2=0.1;\n",
"n1=1;\n",
"n2=1;\n",
"L=px1*n1+px2*n2;// code leght\n",
"HX=px1*log2(1/px1)+px2*log2(1/px2);\n",
"n=(HX/L);// code efficiency\n",
"\n",
"printf('\n\tcode efficiency = %.2f ',n*100);\n",
"disp('            %');\n",
"\n",
"r=(1-n);//code reduncy\n",
"printf('\n\n\tcode redundancy = %.2f ',r*100);\n",
"disp('            %');"
   ]
   }
,
{
		   "cell_type": "markdown",
		   "metadata": {},
		   "source": [
			"## Example 9.38: Efficiency_and_redundancy.sce"
		   ]
		  },
  {
"cell_type": "code",
	   "execution_count": null,
	   "metadata": {
	    "collapsed": true
	   },
	   "outputs": [],
"source": [
"//Caption:  efficiency,redundancy\n",
"//Example 9.38\n",
"//page no 431\n",
"//Find code efficiency,redundancy\n",
"clear;\n",
"clc;\n",
"pa1=0.81;\n",
"pa2=0.09;\n",
"pa3=0.09;\n",
"pa4=0.01;\n",
"n1=1;\n",
"n2=2;\n",
"n3=3;\n",
"n4=3;\n",
"\n",
"L=pa1*n1+pa2*n2+pa3*n3+pa4*n4;\n",
"\n",
"HX2=pa1*log2(1/pa1)+pa2*log2(1/pa2)+pa3*log2(1/pa3)+pa4*log2(1/pa4);\n",
"n=HX2/L;\n",
"\n",
"printf('\n\tcode efficiency = %.2f  ',n*100);\n",
"disp('            %');\n",
"\n",
"r=(1-n);//code reduncy\n",
"printf('\n\n\tcode redundancy = %.1f ',r*100);\n",
"disp('            %');"
   ]
   }
,
{
		   "cell_type": "markdown",
		   "metadata": {},
		   "source": [
			"## Example 9.3: Amount_of_Information.sce"
		   ]
		  },
  {
"cell_type": "code",
	   "execution_count": null,
	   "metadata": {
	    "collapsed": true
	   },
	   "outputs": [],
"source": [
"//Caption: Amount of Information\n",
"//Example 9.3\n",
"//page no 395\n",
"//Find Amount og Information\n",
"clc;\n",
"clear;\n",
"px1=1/2;\n",
"px2=1/2;\n",
"Ix1=log2(1/px1);//entropy\n",
"Ix2=log2(1/px2);\n",
"\n",
"printf(' \n The amount of Information \n \n\t I(X1) = %.2d bit\n',Ix1);\n",
"printf(' \n The amount of Information \n \n\t I(X2) = %.2d bit',Ix2);"
   ]
   }
,
{
		   "cell_type": "markdown",
		   "metadata": {},
		   "source": [
			"## Example 9.44: Efficiency.sce"
		   ]
		  },
  {
"cell_type": "code",
	   "execution_count": null,
	   "metadata": {
	    "collapsed": true
	   },
	   "outputs": [],
"source": [
"//Caption: efficiency\n",
"//Example 9.44\n",
"//page no 436\n",
"//Find  efficiency of the code\n",
"clear;\n",
"clc;\n",
"\n",
"px1=1/2;\n",
"px2=1/4;\n",
"px3=1/8;\n",
"px4=1/8;\n",
"n1=1\n",
"n2=2;\n",
"n3=3;\n",
"n4=3;\n",
"\n",
"//information content of each symbol\n",
"Ix1=-log2(px1);\n",
"Ix2=-log2(px2);\n",
"Ix3=-log2(px3);\n",
"Ix4=-log2(px4);\n",
"\n",
"HX=px1*log2(1/px1)+px2*log2(1/px2)+px3*log2(1/px3)+px4*log2(1/px4);\n",
"L=px1*n1+px2*n2+px3*n3+px4*n4;\n",
"\n",
"n=HX/L;\n",
"\n",
"printf('\n\tcode efficiency = %.2f  ',n*100);\n",
"disp('            %');"
   ]
   }
,
{
		   "cell_type": "markdown",
		   "metadata": {},
		   "source": [
			"## Example 9.4: Amount_of_Information.sce"
		   ]
		  },
  {
"cell_type": "code",
	   "execution_count": null,
	   "metadata": {
	    "collapsed": true
	   },
	   "outputs": [],
"source": [
"//Caption: Amount of Information \n",
"//Example 9.4\n",
"//page no 395\n",
"//Find Amount of Information \n",
"clc;\n",
"clear;\n",
"px1=1/4;\n",
"px2=3/4;\n",
"Ix1=log2(1/px1);\n",
"Ix2=log2(1/px2);\n",
"\n",
"printf(' \n The amount of Information \n \n\t I(X1) = %.2d bits\n',Ix1);\n",
"printf(' \n \t I(X2) = %.3f bits',Ix2);"
   ]
   }
,
{
		   "cell_type": "markdown",
		   "metadata": {},
		   "source": [
			"## Example 9.50: Entropy_and_information_rate.sce"
		   ]
		  },
  {
"cell_type": "code",
	   "execution_count": null,
	   "metadata": {
	    "collapsed": true
	   },
	   "outputs": [],
"source": [
"//Caption:  entropy ,information rate\n",
"//Example 9.50\n",
"//Pge no 441\n",
"//Find entropy ,information rate\n",
"//If there are 16 outcomes per second\n",
"clear;\n",
"clc;\n",
"\n",
"P1=1/2;\n",
"P2=1/4;\n",
"P3=1/8\n",
"P4=1/16;\n",
"P5=1/32;\n",
"P6=1/32;\n",
" r=16;//message rate\n",
"H=P1*log2(1/P1)+P2*log2(1/P2)+P3*log2(1/P3)+P4*log2(1/P4)+P5*log2(1/P5)+P6*log2(1/P6);  //Entropy of system\n",
"printf('\n \t i)Entropy of system \n\n \t  H=%.4f bits/message\n',H);\n",
"R=H*r; //R=Entropy*message rate\n",
"printf('\n \t ii)Information rate\n \n\t R = %d bits/sec',R);\n",
""
   ]
   }
,
{
		   "cell_type": "markdown",
		   "metadata": {},
		   "source": [
			"## Example 9.51: Entropy.sce"
		   ]
		  },
  {
"cell_type": "code",
	   "execution_count": null,
	   "metadata": {
	    "collapsed": true
	   },
	   "outputs": [],
"source": [
"//Caption:  Entropy\n",
"//Example 9.51\n",
"//Pge no 443\n",
"//Calculate H(X) ,H(Y)\n",
"clear;\n",
"clc;\n",
"\n",
"px1=0.3;\n",
"px2=0.4;\n",
"px3=0.3;\n",
"\n",
"HX=px1*log2(1/px1)+px2*log2(1/px2)+px3*log2(1/px3);//Entropy of X\n",
"printf('\n \t i)Entropy of X \n\n \t  H(X)=%.3f bits/symbol\n',HX);\n",
"\n",
"PYX=[0.8 0.2 0;0 1 0;0 0.3 0.7]\n",
"PX=[px1 px2 px3]\n",
"PXY=PX*PYX;\n",
"py1=PXY(1,1);\n",
"py2=PXY(1,2);\n",
"py3=PXY(1,3);\n",
"\n",
"HY=py1*log2(1/py1)+py2*log2(1/py2)+py3*log2(1/py3);//Entropy of Y\n",
"printf('\n \t ii)Entropy of Y \n\n \t  H(Y)=%.2f bits/symbol\n',HY);\n",
""
   ]
   }
,
{
		   "cell_type": "markdown",
		   "metadata": {},
		   "source": [
			"## Example 9.52: Entropy.sce"
		   ]
		  },
  {
"cell_type": "code",
	   "execution_count": null,
	   "metadata": {
	    "collapsed": true
	   },
	   "outputs": [],
"source": [
"//Caption:  Entropy\n",
"//Example 9.52\n",
"//Pge no 442\n",
"//Find entropy of source ,entropy of second order extension\n",
"\n",
"clear;\n",
"clc;\n",
"\n",
"P1=0.7;\n",
"P2=0.15;\n",
"P3=0.15;\n",
"\n",
"HX=P1*log2(1/P1)+P2*log2(1/P2)+P3*log2(1/P3)// Entropy of source\n",
"printf('\n \t i)Entropy of system \n\n \t  H(X)=%.4f bits/symbol\n',HX);\n",
"//H(X^n)=n*H(X)\n",
"n=2;//for second order\n",
"HX2=n*HX;\n",
"printf('\n \t ii)Entropy of second order system extension of source can be');\n",
"printf(' \n\n \t  H(X^2)=%.4f bits/symbol\n',HX);"
   ]
   }
,
{
		   "cell_type": "markdown",
		   "metadata": {},
		   "source": [
			"## Example 9.54: Entropy.sce"
		   ]
		  },
  {
"cell_type": "code",
	   "execution_count": null,
	   "metadata": {
	    "collapsed": true
	   },
	   "outputs": [],
"source": [
"//Caption:  Entropy\n",
"//Example 9.54\n",
"//Pge no 443\n",
"//Find entropy of source \n",
"clear;\n",
"clc;\n",
"S0=1/3;\n",
"S1=1/6;\n",
"S2=1/4;\n",
"S3=1/4\n",
"\n",
"HX=S0*log2(1/S0)+S1*log2(1/S1)+S2*log2(1/S2)+S3*log2(1/S3);// EntroSy of source\n",
"\n",
"printf('\n \t i)Entropy of system \n\n \t  H(X)=%.4f bits/symbol\n',HX);\n",
""
   ]
   }
,
{
		   "cell_type": "markdown",
		   "metadata": {},
		   "source": [
			"## Example 9.56: Information_capacity.sce"
		   ]
		  },
  {
"cell_type": "code",
	   "execution_count": null,
	   "metadata": {
	    "collapsed": true
	   },
	   "outputs": [],
"source": [
"//Caption:  Information capacity\n",
"//Example 9.56\n",
"//page no 444\n",
"//Find Information capacity of telephone\n",
"clear;\n",
"clc;\n",
"B=3.4*10^3;\n",
"SNR=30\n",
"SN=10^(SNR/10);\n",
"C=B*log2(1+SN)//Information capacity\n",
"printf('Information capacity of telephone is \n\n \tC = %.2f kbps',C/1000);\n",
""
   ]
   }
,
{
		   "cell_type": "markdown",
		   "metadata": {},
		   "source": [
			"## Example 9.9: Entropy.sce"
		   ]
		  },
  {
"cell_type": "code",
	   "execution_count": null,
	   "metadata": {
	    "collapsed": true
	   },
	   "outputs": [],
"source": [
"//Caption: Entropy\n",
"//Example 9.9\n",
"//page no 398\n",
"//Find Entropy,Amount of information\n",
"clc;\n",
"clear;\n",
"px1=0.4;\n",
"px2=0.3;\n",
"px3=0.2;\n",
"px4=0.1;\n",
"HX=-px1*log2(px1)-px2*log2(px2)-px3*log2(px3)-px4*log2(px4);\n",
"printf(' \n  Entropy \n \n\t  i) H(X) = %.2f bits/symbol,\n',HX);\n",
"Px1x2x1x3=px1*px2*px1*px3;\n",
"Ix1x2x1x3=-log2(Px1x2x1x3);\n",
"\n",
"printf(' \n  Amount of information \n \n\t ii) I(x1x2x1x3) = %.2f bits/symbol,\n',Ix1x2x1x3);\n",
"Px4x3x3x2=px4*px3*px3*px2;\n",
"Ix4x3x3x2=-log2(Px4x3x3x2);\n",
"\n",
"printf(' \n \t \n \t I(x4x3x3x2) = %.2f bits/symbol.\n',Ix4x3x3x2);"
   ]
   }
],
"metadata": {
		  "kernelspec": {
		   "display_name": "Scilab",
		   "language": "scilab",
		   "name": "scilab"
		  },
		  "language_info": {
		   "file_extension": ".sce",
		   "help_links": [
			{
			 "text": "MetaKernel Magics",
			 "url": "https://github.com/calysto/metakernel/blob/master/metakernel/magics/README.md"
			}
		   ],
		   "mimetype": "text/x-octave",
		   "name": "scilab",
		   "version": "0.7.1"
		  }
		 },
		 "nbformat": 4,
		 "nbformat_minor": 0
}
