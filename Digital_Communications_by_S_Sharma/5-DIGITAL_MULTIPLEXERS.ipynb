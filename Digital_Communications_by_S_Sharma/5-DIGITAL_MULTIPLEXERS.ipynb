{
"cells": [
 {
		   "cell_type": "markdown",
	   "metadata": {},
	   "source": [
       "# Chapter 5: DIGITAL MULTIPLEXERS"
	   ]
	},
{
		   "cell_type": "markdown",
		   "metadata": {},
		   "source": [
			"## Example 5.1: Sampling_Rate.sce"
		   ]
		  },
  {
"cell_type": "code",
	   "execution_count": null,
	   "metadata": {
	    "collapsed": true
	   },
	   "outputs": [],
"source": [
"//Caption: Sampling Rate\n",
"//Example 5.1\n",
"//page no 220\n",
"//Find  Sampling Rate\n",
"clear;\n",
"clc;\n",
"f1=4*10^3;\n",
"f2=4.5*10^3;\n",
"fsmin=2*f2;\n",
"disp('kHz',fsmin/1000,'Sampling rate');"
   ]
   }
,
{
		   "cell_type": "markdown",
		   "metadata": {},
		   "source": [
			"## Example 5.2: Nyquest_rate_Signaling_rate_and_bandwidth.sce"
		   ]
		  },
  {
"cell_type": "code",
	   "execution_count": null,
	   "metadata": {
	    "collapsed": true
	   },
	   "outputs": [],
"source": [
"//Caption: Nyquest rate,Signaling rate,bandwidth\n",
"//Example 5.2\n",
"//page no 220\n",
"//Find i)Nyquest rate,\n",
"//     iii)Signaling rate,\n",
"//     iv)bandwidth\n",
"clc;\n",
"clear;\n",
" \n",
"f1=3000;\n",
"f4=1000;\n",
"f2=1000;\n",
"f3=1000;\n",
"//Nyquest rate\n",
"nq1=2*f1;\n",
"nq2=2*f2;\n",
"nq3=2*f3;\n",
"nq4=2*f4;\n",
"disp('kHz',nq1,'i)Nyquest rate of x1');\n",
"disp('kHz',nq2,'  Nyquest rate of x2');\n",
"disp('kHz',nq3,'  Nyquest rate of x3');\n",
"disp('kHz',nq4,'  Nyquest rate of x4');\n",
"r=nq1+nq2+nq3+nq4;\n",
"disp('Samples/sec',r,'iii)Signaling rate');\n",
"bw=r/2;\n",
"disp('Hz',bw,'iv)Minimum channel bandwidth');"
   ]
   }
,
{
		   "cell_type": "markdown",
		   "metadata": {},
		   "source": [
			"## Example 5.3: spacing_distance.sce"
		   ]
		  },
  {
"cell_type": "code",
	   "execution_count": null,
	   "metadata": {
	    "collapsed": true
	   },
	   "outputs": [],
"source": [
"//Caption: spacing  distance\n",
"//Example 5.3\n",
"//page no 221\n",
"//Find The spacing between two successive pules\n",
"clc;\n",
"clear;\n",
"samplingrate=8000;\n",
"totalsignals=24+1;\n",
"t=1/samplingrate;\n",
"T=t/totalsignals;\n",
"T=T*10^6//time is now u sec\n",
"space=T-1;\n",
"disp('u sec',space,'The spacing between two successive pules');"
   ]
   }
,
{
		   "cell_type": "markdown",
		   "metadata": {},
		   "source": [
			"## Example 5.4: signaling_rate_and_bandwidth.sce"
		   ]
		  },
  {
"cell_type": "code",
	   "execution_count": null,
	   "metadata": {
	    "collapsed": true
	   },
	   "outputs": [],
"source": [
"//Caption: signaling rate ,bandwidth\n",
"//Example 5.4\n",
"//page no 222\n",
"//Find signaling rate ,bandwidth\n",
"clc;\n",
"clear;\n",
"N=6;\n",
"fm=5000;\n",
"r=2*fm;//sampling rate\n",
"sr=N*r;//signalingrate\n",
"disp('K bits/sec',sr/1000,'Signaling rate');\n",
"BW=N*fm;//Bandwith\n",
"disp('kHz',BW/1000,'Bandwith to avoid the cross talk in TDM is');"
   ]
   }
],
"metadata": {
		  "kernelspec": {
		   "display_name": "Scilab",
		   "language": "scilab",
		   "name": "scilab"
		  },
		  "language_info": {
		   "file_extension": ".sce",
		   "help_links": [
			{
			 "text": "MetaKernel Magics",
			 "url": "https://github.com/calysto/metakernel/blob/master/metakernel/magics/README.md"
			}
		   ],
		   "mimetype": "text/x-octave",
		   "name": "scilab",
		   "version": "0.7.1"
		  }
		 },
		 "nbformat": 4,
		 "nbformat_minor": 0
}
