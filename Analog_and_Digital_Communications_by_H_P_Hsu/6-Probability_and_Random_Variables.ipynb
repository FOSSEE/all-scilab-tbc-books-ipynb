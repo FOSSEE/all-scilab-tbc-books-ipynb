{
"cells": [
 {
		   "cell_type": "markdown",
	   "metadata": {},
	   "source": [
       "# Chapter 6: Probability and Random Variables"
	   ]
	},
{
		   "cell_type": "markdown",
		   "metadata": {},
		   "source": [
			"## Example 6.14: Binary_Communication.sce"
		   ]
		  },
  {
"cell_type": "code",
	   "execution_count": null,
	   "metadata": {
	    "collapsed": true
	   },
	   "outputs": [],
"source": [
"//Page Number: 6.18\n",
"//Example 6.14\n",
"clc;\n",
"//Given\n",
"p=0.1;\n",
"q=0.2;\n",
"Pm0=0.5;\n",
"Pr1bym0=p;\n",
"Pr0bym1=q;\n",
"\n",
"//(a) Find Pr0 and Pr1\n",
"\n",
"Pm1=1-Pm0;\n",
"Pr0bym0=1-Pr1bym0;\n",
"Pr1bym1=1-Pr0bym1;\n",
"\n",
"//By formula\n",
"//P(r0)=(P(r0/m0)*P(m0))+(P(r0/m1)*P(m1);\n",
"//P(r1)=(P(r1/m0)*P(m0))+(P(r1/m1)*P(m1);\n",
"\n",
"Pr0=(Pr0bym0*Pm0)+(Pr0bym1*Pm1);\n",
"Pr1=(Pr1bym0*Pm0)+(Pr1bym1*Pm1);\n",
"disp(Pr0,'P(r0):');\n",
"disp(Pr1,'P(r1):');\n",
"\n",
"//(b)P(m0/r0)\n",
"//Using Bayes Rule\n",
"//P(m0/r0)=(P(m0)*P(r0/m0)/P(r0))\n",
"Pm0byr0=(Pm0*Pr0bym0)/Pr0;\n",
"disp(Pm0byr0,'P(m0/r0):');\n",
"\n",
"//(c)P(m1/r1)\n",
"//Using Bayes Rule\n",
"//P(m1/r1)=(P(m1)*P(r1/m1)/P(r1))\n",
"Pm1byr1=(Pm1*Pr1bym1)/Pr1;\n",
"disp(Pm1byr1,'P(m1/r1):');\n",
"\n",
"//(d)Probabilty error\n",
"//As Pe=(P(r1/m0)*P(m0))+(P(r0/m1)*P(m1))\n",
"Pe=(Pr1bym0*Pm0)+(Pr0bym1*Pm1);\n",
"disp(Pe,'Probability error:');\n",
"\n",
"//(e)Probabilty that is transmitted correctly\n",
"//As Pc=(P(r0/m0)*P(m0))+(Pr1bym1*Pm1)\n",
"\n",
"Pc=(Pr0bym0*Pm0)+(Pr1bym1*Pm1);\n",
"disp(Pc,'Probabilty that is transmitted correctly:');\n",
"\n",
""
   ]
   }
,
{
		   "cell_type": "markdown",
		   "metadata": {},
		   "source": [
			"## Example 6.16: Pulse_Positions.sce"
		   ]
		  },
  {
"cell_type": "code",
	   "execution_count": null,
	   "metadata": {
	    "collapsed": true
	   },
	   "outputs": [],
"source": [
"//Page Number: 6.21\n",
"//Example 6.16\n",
"clc;\n",
"//Given\n",
"p=0.4;\n",
"Pp=p;\n",
"q=0.3;\n",
"Pn=q;\n",
"a=1; //i start value\n",
"b=6; //i end value\n",
"//(a)Probabilty that all pulses are positive\n",
"s=1;\n",
"for i=a:b\n",
"    s=s*Pp;\n",
"    end\n",
"disp(s,'Probabilty that all pulses are positive:');\n",
"\n",
"//(b)Pulses are positive ,positive, positive, zero,zero,negative\n",
"Pz=1-(p+q);\n",
"s1=(Pp^3)*(Pz^2)*Pn;\n",
"disp(s1,'Probabilty that all pulses are positive ,positive, positive, zero,zero,negative:');"
   ]
   }
,
{
		   "cell_type": "markdown",
		   "metadata": {},
		   "source": [
			"## Example 6.17: Binary_Source.sce"
		   ]
		  },
  {
"cell_type": "code",
	   "execution_count": null,
	   "metadata": {
	    "collapsed": true
	   },
	   "outputs": [],
"source": [
"//Page Number: 6.21\n",
"//Example 6.17\n",
"clc;\n",
"//Given\n",
"P1=0.6;\n",
"P0=0.4;\n",
"n=5; //Five digit sequence\n",
"j=2; //two outcomes 0 and 1\n",
"\n",
"//(a)1,1,0,0,0\n",
"xf=(factorial(n))/((factorial(j))*(factorial(n-j)));\n",
"s=xf*(P1^j)*(P0^(n-j));\n",
"disp(s,'Probability for 1,1,0,0,0:');\n",
"\n",
"//(b)atleast 3 1's\n",
"//P(X>=3)=1-P(X<=2)\n",
"//Here y=1-x\n",
"x=0;\n",
"for k=0:2\n",
"    f=(factorial(n))/((factorial(k))*(factorial(n-k)));\n",
"    x=x+{f*((P1^k)*(P0^(n-k)))};\n",
"end\n",
"y=1-x;\n",
"disp(y,'Probability for atleast three 1 s:');\n",
""
   ]
   }
,
{
		   "cell_type": "markdown",
		   "metadata": {},
		   "source": [
			"## Example 6.20: Noisy_Transmission_Channel.sce"
		   ]
		  },
  {
"cell_type": "code",
	   "execution_count": null,
	   "metadata": {
	    "collapsed": true
	   },
	   "outputs": [],
"source": [
"//Page Number: 6.23\n",
"//Example 6.20\n",
"clc;\n",
"//Given\n",
"pe=0.01; //Error probability\n",
"\n",
"//(a) Probabilty of more than one error in 10 recieved digits\n",
"n=10;\n",
"//As P(X>1)=1-P(X=0)-P(X=1)\n",
"//Let x=P(X>1)\n",
"//s=P(X=0)+P(X=1)\n",
"s=0;\n",
"for t=0:1\n",
"    f=(factorial(n))/((factorial(t))*(factorial(n-t)));\n",
"    s=s+{f*(pe^t)*((1-pe)^(n-t))};\n",
"end\n",
"x=1-s;\n",
"disp(x,'Probabilty of more than one error in 10 recieved digits:');\n",
"\n",
"//(b)Using Poisson approximation\n",
"//P(X=k)~[{(%exp)^(-n*p)}*{((n*p)^k)}]/k factorial\n",
"s1=0;\n",
"for k=0:1\n",
"    j=factorial(k);\n",
"    s1=s1+[{exp(-n*pe)}*{((n*pe)^k)}]/j;\n",
"end\n",
"x1=1-s1;\n",
"disp(x1,'Using Poisson Approximation:');"
   ]
   }
,
{
		   "cell_type": "markdown",
		   "metadata": {},
		   "source": [
			"## Example 6.23: Pdf_of_random_variable.sce"
		   ]
		  },
  {
"cell_type": "code",
	   "execution_count": null,
	   "metadata": {
	    "collapsed": true
	   },
	   "outputs": [],
"source": [
"//Page Number: 6.23\n",
"//Example 6.23\n",
"clc;\n",
"//We find, k=1/(b-a)\n",
"//(b) if a=1 and b=2,P(|x|<c) where c=1/2\n",
"a=-1;\n",
"b=2;\n",
"c=1/2;\n",
"\n",
"k=1/(b-a);\n",
"//P(|x|<c) = P(-c<=x<=c)\n",
"//Let y\n",
"x0=-c;x1=c;\n",
"y=integrate('1','x',x0,x1);\n",
"y1=k*y;\n",
"disp(y1,'P(|x|<c):');\n",
""
   ]
   }
,
{
		   "cell_type": "markdown",
		   "metadata": {},
		   "source": [
			"## Example 6.41: 16_Binary_Digits_Transmission.sce"
		   ]
		  },
  {
"cell_type": "code",
	   "execution_count": null,
	   "metadata": {
	    "collapsed": true
	   },
	   "outputs": [],
"source": [
"//Page Number: 6.34\n",
"//Example 6.41\n",
"clc;\n",
"//Given\n",
"n=16; //binary digits\n",
"p=0.01; //Probabilty error due to noise\n",
"\n",
"//(a) Average errors per block\n",
"//E(X)=n*p\n",
"EofX=n*p;\n",
"disp(EofX,'Average errors per block:');\n",
"\n",
"//(b)Varience of errors of block\n",
"//s=n*p*(1-p)\n",
"s=n*p*(1-p);\n",
"disp(s,'Varience of errors per block:');\n",
"\n",
"\n",
"//(c) Probability that number of errors per block is bgeater or equal than 4\n",
"i=4;\n",
"//AsP(X>=4)=1=P(X<=3)\n",
"P3=0;\n",
"for k=0:3;\n",
"    f=(factorial(n))/((factorial(k))*(factorial(n-k)));\n",
"    P3=P3+(f*(p^k)*((1-p)^(n-k)));\n",
"end\n",
"P4=1-P3;\n",
"disp(P4,'Probability that number of errors per block is bgeater or equal than 4:');"
   ]
   }
,
{
		   "cell_type": "markdown",
		   "metadata": {},
		   "source": [
			"## Example 6.7: Dot_and_dash.sce"
		   ]
		  },
  {
"cell_type": "code",
	   "execution_count": null,
	   "metadata": {
	    "collapsed": true
	   },
	   "outputs": [],
"source": [
"//Page Number: 6.16\n",
"//Example 6.7\n",
"clc;\n",
"//Given\n",
"//Pdot=2*Pdash and Pdot+Pdash=1\n",
"//Therfore, on solving using linear equations\n",
"a=[1 -2;1 1];\n",
"c=[0;1];\n",
"b=inv(a)*c;\n",
"Pdash=b(1,1);\n",
"Pdot=b(2,1);\n",
"disp(Pdot,'Pdot:');\n",
"disp(Pdash,'Pdash:')"
   ]
   }
],
"metadata": {
		  "kernelspec": {
		   "display_name": "Scilab",
		   "language": "scilab",
		   "name": "scilab"
		  },
		  "language_info": {
		   "file_extension": ".sce",
		   "help_links": [
			{
			 "text": "MetaKernel Magics",
			 "url": "https://github.com/calysto/metakernel/blob/master/metakernel/magics/README.md"
			}
		   ],
		   "mimetype": "text/x-octave",
		   "name": "scilab",
		   "version": "0.7.1"
		  }
		 },
		 "nbformat": 4,
		 "nbformat_minor": 0
}
