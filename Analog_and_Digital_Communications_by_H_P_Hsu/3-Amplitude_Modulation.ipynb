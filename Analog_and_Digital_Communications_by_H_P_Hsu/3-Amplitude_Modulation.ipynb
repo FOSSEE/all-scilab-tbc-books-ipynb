{
"cells": [
 {
		   "cell_type": "markdown",
	   "metadata": {},
	   "source": [
       "# Chapter 3: Amplitude Modulation"
	   ]
	},
{
		   "cell_type": "markdown",
		   "metadata": {},
		   "source": [
			"## Example 3.7: Efficiency.sce"
		   ]
		  },
  {
"cell_type": "code",
	   "execution_count": null,
	   "metadata": {
	    "collapsed": true
	   },
	   "outputs": [],
"source": [
"//Page Number: 3.14\n",
"//Example 3.7\n",
"clc;\n",
"//Given\n",
"\n",
"//(a)efficiency=((u^2)/(2+(u^2)))\n",
"u=0.5;\n",
"n=((u^2)/(2+(u^2)));\n",
"np=n*100;\n",
"disp('%', np, 'Efficiney: ');\n",
"\n",
"//(b)nmax,\n",
"//nmax occurs at u=1;\n",
"u1=1;\n",
"nmax=((u1^2)/(2+(u1^2)));\n",
"nmaxp=nmax*100;\n",
"disp('%', nmaxp, 'Efficiney max: ');\n",
""
   ]
   }
,
{
		   "cell_type": "markdown",
		   "metadata": {},
		   "source": [
			"## Example 3.8: Sine_wave_in_AM_broadcasting.sce"
		   ]
		  },
  {
"cell_type": "code",
	   "execution_count": null,
	   "metadata": {
	    "collapsed": true
	   },
	   "outputs": [],
"source": [
"//Page Number: 3.14\n",
"//Example 3.8\n",
"clc;\n",
"//Given\n",
"//From waveform\n",
"Amax=150;\n",
"Amin=30;\n",
"\n",
"//(a)Modulation index\n",
"u=((Amax-Amin)/(Amax+Amin));\n",
"disp(u,'Modulation Index: ');\n",
"\n",
"Ac=(Amax/(1+u));\n",
"//(b)\n",
"//Carrier Power\n",
"Pc=(Ac^2)/2;\n",
"disp('W',Pc,'Carrier Power: ');\n",
"\n",
"//Side band Power\n",
"PSB=(Amin^2)/2;\n",
"disp('W',PSB,'USB=LSB Power: ');\n",
"\n",
"//Total Average power\n",
"Pt=Pc+(2*PSB);\n",
"disp('W',Pt,'Total Average Power: ');\n",
"\n",
"//(c)Peak Envelope Power\n",
"//Given\n",
"R=60; //Ohm\n",
"PEP=(Amax^2)/(2*R);\n",
"disp('W',PEP,'Peak Envelope Power: ');\n",
"\n",
"//(d) Modulation Efficieny\n",
"n=PSB/Pt;\n",
"disp(n,'Modulation efficieny: ');\n",
"\n",
"//(e) Given\n",
"//(i) u=0.2\n",
"u1=0.2;\n",
"A1=(60/u1)-Ac;\n",
"disp(A1, 'A=');\n",
"\n",
"//(ii) u=0.8\n",
"u2=0.8;\n",
"A2=(60/u2)-Ac;\n",
"disp(A2, 'A=');\n",
"\n",
"\n",
"\n",
""
   ]
   }
],
"metadata": {
		  "kernelspec": {
		   "display_name": "Scilab",
		   "language": "scilab",
		   "name": "scilab"
		  },
		  "language_info": {
		   "file_extension": ".sce",
		   "help_links": [
			{
			 "text": "MetaKernel Magics",
			 "url": "https://github.com/calysto/metakernel/blob/master/metakernel/magics/README.md"
			}
		   ],
		   "mimetype": "text/x-octave",
		   "name": "scilab",
		   "version": "0.7.1"
		  }
		 },
		 "nbformat": 4,
		 "nbformat_minor": 0
}
