{
"cells": [
 {
		   "cell_type": "markdown",
	   "metadata": {},
	   "source": [
       "# Chapter 9: Noise in Analog Communication System"
	   ]
	},
{
		   "cell_type": "markdown",
		   "metadata": {},
		   "source": [
			"## Example 9.10: Modulation_Systems_transmission_Bandwidth.sce"
		   ]
		  },
  {
"cell_type": "code",
	   "execution_count": null,
	   "metadata": {
	    "collapsed": true
	   },
	   "outputs": [],
"source": [
"//Page Number: 9.17\n",
"//Example 9.10\n",
"clc;\n",
"//Given\n",
"BW=10D+3; //Hz\n",
"SNR=40; //dB\n",
"SNRO=10^(SNR/10);\n",
"P=40; //dB\n",
"PL=10^(P/10);\n",
"n=2D-9; //W/Hz\n",
"USx2=0.5;\n",
"//For DSB, AM and SSB bandwidth requirement\n",
"BTD=2*BW;\n",
"BTA=2*BW;\n",
"BTS=BW;\n",
"disp('Hz',BTD,'Transmission Bandwidth for DSB:');\n",
"disp('Hz',BTA,'Transmission Bandwidth for AM:');\n",
"disp('Hz',BTS,'Transmission Bandwidth for SSB:');\n",
"\n",
"\n",
"//Pt for DSB and SSB\n",
"//As SNRO=Si/nBW\n",
"Si=n*BW*SNRO; //W\n",
"//Considering Channel loss\n",
"ST=Si*PL;\n",
"disp('W',ST,'Power transmission for DSB and SSB:');\n",
"\n",
"//Pt for AM\n",
"//As SNRO=x*Si/nBW\n",
"//x=USx2/(1+USx)\n",
"x=USx2/(1+USx2);\n",
"Si1=(n*BW*SNRO)/x; //W\n",
"//Considering Channel loss\n",
"ST1=Si1*PL;\n",
"disp('W',ST1,'Power transmission for AM:');"
   ]
   }
,
{
		   "cell_type": "markdown",
		   "metadata": {},
		   "source": [
			"## Example 9.13: SSB_System.sce"
		   ]
		  },
  {
"cell_type": "code",
	   "execution_count": null,
	   "metadata": {
	    "collapsed": true
	   },
	   "outputs": [],
"source": [
"//Page Number: 9.20\n",
"//Example 9.13\n",
"clc;\n",
"//Given\n",
"Mf1=0.003;\n",
"//for f<=1.5D+3 Hz\n",
"f1=1.5D+3; //Hz\n",
"\n",
"Mf2=0.001;\n",
"//for 1.5D+3 <=f<=3D+3 Hz\n",
"f2=3D+3; //Hz\n",
"\n",
"Mf3=0;\n",
"//for f>3D+3 Hz\n",
"\n",
"\n",
"//(a) Ac that power transmitted is 100mW\n",
"St=100D-3; //W\n",
"//As St=2*[{f1*(Mf1*Ac/2)^2}+{f1*(Mf2*Ac/2)^2}+{f2*(Mf3*Ac/2)^2}]\n",
"//Neglecting Mf3 as zero\n",
"Ac=sqrt((4*St)/(2*f1*(Mf1^2+Mf2^2)));\n",
"disp('V',Ac,'Ac for s(t)=100mw:');\n",
"\n",
"//(b)Power in abscence of noise\n",
"Zt=2*[{f1*(((Mf1*Ac)/4)^2)}+{f1*(((Mf2*Ac)/4)^2)}+{f2*(((Mf3*Ac)/4)^2)}];\n",
"disp('W',Zt,'Power in absence of Noise:');\n",
"\n",
"//(c)\n",
"//Given\n",
"N0=0.0001D-3; //W/Hz\n",
"//Psd=N0/4\n",
"//Pt=2*f1*N0/4\n",
"Pt=(2*f2*N0)/4;\n",
"disp('W',Pt,'Power:');\n",
"\n",
"//(d) SNR at output\n",
"SNR=Zt/Pt;\n",
"SNRO=10*log10(SNR);\n",
"disp('dB',SNRO,'SNR at output for SSB:');\n",
"\n",
"//(e)For DSB\n",
"St1=100D-3; //W\n",
"//As St=4*[{f1*(Mf1*Ac/2)^2}+{f1*(Mf2*Ac/2)^2}+{f2*(Mf3*Ac/2)^2}]\n",
"//Neglecting Mf3 as zero\n",
"Ac1=sqrt((4*St)/(4*f1*(Mf1^2+Mf3^2)));\n",
"\n",
"Zt1=4*[{f1*(((Mf1*Ac)/4)^2)}+{f1*(((Mf2*Ac)/4)^2)}+{f2*(((Mf3*Ac)/4)^2)}];\n",
"\n",
"//SNR at output\n",
"SNR1=Zt1/Pt;\n",
"SNRO1=10*log10(SNR1);\n",
"disp('dB',SNRO1,'SNR at output for DSB:');\n",
"\n",
"//3dB increase in SNR\n",
"//DSB has higher SNR but SSB os spectarally efficient\n",
"\n",
"\n",
""
   ]
   }
,
{
		   "cell_type": "markdown",
		   "metadata": {},
		   "source": [
			"## Example 9.14: FM_broadcast_System.sce"
		   ]
		  },
  {
"cell_type": "code",
	   "execution_count": null,
	   "metadata": {
	    "collapsed": true
	   },
	   "outputs": [],
"source": [
"//Page Number: 9.22\n",
"//Example 9.14\n",
"clc;\n",
"//Given\n",
"delf=75D+3; //Hz\n",
"W=15D+3; //Hz\n",
"Sx=1/2;\n",
"//As SNRO=3(delf/W)^2*Sx*g\n",
"// Assume g=1\n",
"g=1;\n",
"\n",
"SNRO=3*(delf/W)^2*Sx*g;\n",
"SNdB=10*log10(SNRO);\n",
"disp('dB',SNdB,'Output SNR:');\n",
"\n",
"//Hence it is SNdB times better"
   ]
   }
,
{
		   "cell_type": "markdown",
		   "metadata": {},
		   "source": [
			"## Example 9.17: Audio_Signal_Over_RF_Channel.sce"
		   ]
		  },
  {
"cell_type": "code",
	   "execution_count": null,
	   "metadata": {
	    "collapsed": true
	   },
	   "outputs": [],
"source": [
"//Page Number: 9.23\n",
"//Example 9.17\n",
"clc;\n",
"//Given\n",
"oSNR=40; //dB\n",
"SNRO=10^(oSNR/10);\n",
"n=2D-10; //W/Hz\n",
"l=50; //dB\n",
"PL=10^(l/10);\n",
"B=15D+3; //Hz\n",
"Sx=1/2;\n",
"//(a) DSB Modulation\n",
"BTD=2*B;\n",
"disp('Hz',BTD,'Transmission bandwidth for DSB:');\n",
"//As SNRO=Si/(n*B)\n",
"SiD=SNRO*n*B;\n",
"STD=SiD*PL;\n",
"disp('W',STD,'Average Power transmitted for DSB:');\n",
"\n",
"//(b) AM\n",
"U=1;\n",
"U2Sx=U*U*Sx;\n",
"BTA=2*B;\n",
"disp('Hz',BTA,'Transmission bandwidth for AM:');\n",
"//As SNRO=x*Si/(n*B)\n",
"//where x=USx/(1+USx)\n",
"x=U2Sx/(1+U2Sx);\n",
"SiA=(SNRO*n*B)/x;\n",
"STA=SiA*PL;\n",
"disp('W',STA,'Average Power transmitted for AM:');\n",
"\n",
"//(c)PM\n",
"kp=3;\n",
"BTP=2*(kp+1)*B;\n",
"disp('Hz',BTP,'Transmission bandwidth for PM:');\n",
"//As SNRO=kp^2*Sx*Si/(n*B)\n",
"SiP=(SNRO*n*B)/(Sx*(kp^2));\n",
"STP=SiP*PL;\n",
"disp('W',STP,'Average Power transmitted for PM:');\n",
"\n",
"//(d)FM\n",
"D=5;\n",
"BTF=2*(D+1)*B;\n",
"disp('Hz',BTF,'Transmission bandwidth for FM:');\n",
"//As SNRO=3*D^2*Sx*Si/(n*B)\n",
"SiF=(SNRO*n*B)/(3*(D^2)*Sx);\n",
"STF=SiF*PL;\n",
"disp('W',STF,'Average Power transmitted for FM:');\n",
""
   ]
   }
,
{
		   "cell_type": "markdown",
		   "metadata": {},
		   "source": [
			"## Example 9.18: Modulation_Index.sce"
		   ]
		  },
  {
"cell_type": "code",
	   "execution_count": null,
	   "metadata": {
	    "collapsed": true
	   },
	   "outputs": [],
"source": [
"//Page Number: 9.24\n",
"//Example 9.18\n",
"clc;\n",
"//(b)Modulation index b\n",
"//Given\n",
"SNdB=30; //dB\n",
"SNRO=10^(SNdB/10);\n",
"//As SNRO=30*b^2*(b+1)\n",
"//Therefore\n",
"p2=poly(0,'x');\n",
"p3 =30*(p2^3)+30*(p2^2)-1000;\n",
"r=roots(p3);\n",
"t=r(3,1);\n",
"disp(t,'Modulation index:');\n",
""
   ]
   }
,
{
		   "cell_type": "markdown",
		   "metadata": {},
		   "source": [
			"## Example 9.1: Output_Noise_Power.sce"
		   ]
		  },
  {
"cell_type": "code",
	   "execution_count": null,
	   "metadata": {
	    "collapsed": true
	   },
	   "outputs": [],
"source": [
"//Page Number: 9.10\n",
"//Example 9.1\n",
"clc;\n",
"//Given\n",
"wo=2*%pi*8000;\n",
"n=2D-9; \n",
"//N0=(n/4*%pi)integrate('1/(1+((w/w0)^2))','w',-%inf,+%inf)\n",
"//Which yields\n",
"//Output Noise Power\n",
"N0=(wo*n)/4;\n",
"disp('W',N0,'Output Noise Power: ');\n",
"\n",
""
   ]
   }
,
{
		   "cell_type": "markdown",
		   "metadata": {},
		   "source": [
			"## Example 9.21: Normalized_Message_Signal.sce"
		   ]
		  },
  {
"cell_type": "code",
	   "execution_count": null,
	   "metadata": {
	    "collapsed": true
	   },
	   "outputs": [],
"source": [
"//Page Number: 9.27\n",
"//Example 9.21\n",
"clc;\n",
"//Given\n",
"BW=5000; //Hz\n",
"P=0.1; //W\n",
"CBW=100D+3; //Hz\n",
"A=80; //dB\n",
"A1=10^(-A/10);\n",
"N0=2*(0.5D-12); //W/Hz\n",
"Pt=10D+3; //W\n",
"\n",
"//We know, CBW=2*(D+1)*BW\n",
"//Therefore\n",
"D=(CBW/(2*BW))-1;\n",
"kp=D;\n",
"Si=Pt*A1;\n",
"Sx=P;\n",
"//We know\n",
"//SNR=((kp^2)*Si*Sx)/(N0*BW);\n",
"\n",
"SNR=((kp^2)*Si*Sx)/(N0*BW);\n",
"SNR1=10*log10(SNR);\n",
"disp('dB', SNR1,'SNR at output: ');\n",
"\n",
"\n",
"\n",
""
   ]
   }
,
{
		   "cell_type": "markdown",
		   "metadata": {},
		   "source": [
			"## Example 9.4: SNR_of_filters.sce"
		   ]
		  },
  {
"cell_type": "code",
	   "execution_count": null,
	   "metadata": {
	    "collapsed": true
	   },
	   "outputs": [],
"source": [
"//Page Number: 9.12\n",
"//Example 9.4\n",
"clc;\n",
"//Given\n",
"//(a) \n",
"H1=1;\n",
"H2=(1/2);\n",
"S0=(H1^2)/2;\n",
"w0=-2*%pi;\n",
"w1=2*%pi;\n",
"N0=(0.1/(2*%pi))*2*(integrate('1','w',w0,w1));\n",
"SNR=S0/N0;\n",
"disp(SNR,'SNR: ');\n",
"\n",
"//(b)\n",
"S01=(H1^2*H2^2)/2;\n",
"N01=0.101;\n",
"SNR1=S01/N01;\n",
"disp(SNR1,'SNR1: ');\n",
""
   ]
   }
,
{
		   "cell_type": "markdown",
		   "metadata": {},
		   "source": [
			"## Example 9.8: AM_with_envelope_detection.sce"
		   ]
		  },
  {
"cell_type": "code",
	   "execution_count": null,
	   "metadata": {
	    "collapsed": true
	   },
	   "outputs": [],
"source": [
"//Page Number: 9.15\n",
"//Example 9.8\n",
"clc;\n",
"//Given\n",
"p=0.99;\n",
"u=1;\n",
"q=1-p;\n",
"//As exp(-Ac^2/4*n*B)=1-p\n",
"//AndAC^2/2*n*B=S/N\n",
"//Therefore exp(-(1/2)*(S/N))=1-p\n",
"SN=2*(log(1/q));\n",
"SN1=(round(SN)+1); //Upper limit\n",
"disp('db',SN1,'S/N:');\n",
"//Hence proved"
   ]
   }
,
{
		   "cell_type": "markdown",
		   "metadata": {},
		   "source": [
			"## Example 9.9: AM_with_additive_thermal_noise.sce"
		   ]
		  },
  {
"cell_type": "code",
	   "execution_count": null,
	   "metadata": {
	    "collapsed": true
	   },
	   "outputs": [],
"source": [
"//Page Number: 9.16\n",
"//Example 9.9\n",
"clc;\n",
"//Given\n",
"Si=7D+4;\n",
"u=1;\n",
"BW=4D+3; //Hz\n",
"n=2D-12; //W/Hz\n",
"\n",
"//(a)Minimum value of Ac\n",
"SbyN=40; //dB\n",
"SN=10^(SbyN/10);\n",
"\n",
"Sx=2*[integrate('(x^2)*(-x+1)','x',0,1)];\n",
"//Now\n",
"g=SN/(Sx/(1+Sx));\n",
"//And\n",
"//Ac=sqrt((2*n*BW*g)/(1+(u^2*Sx))\n",
"//We have\n",
"Ac=sqrt((2*n*BW*g)/(1+(u^2*Sx)));\n",
"disp('V',Ac,'Minimum Value of Ac:');\n",
"\n",
"//(b)Threshold value of Ac\n",
"//AS S/N at threshold is 10dB\n",
"SNT=10; //dB\n",
"gT=2*SNT;\n",
"AcT=sqrt((2*n*BW*gT)/(1+(u^2*Sx)));\n",
"disp('V',AcT,'Minimum Value of Ac at Threshold:');\n",
""
   ]
   }
],
"metadata": {
		  "kernelspec": {
		   "display_name": "Scilab",
		   "language": "scilab",
		   "name": "scilab"
		  },
		  "language_info": {
		   "file_extension": ".sce",
		   "help_links": [
			{
			 "text": "MetaKernel Magics",
			 "url": "https://github.com/calysto/metakernel/blob/master/metakernel/magics/README.md"
			}
		   ],
		   "mimetype": "text/x-octave",
		   "name": "scilab",
		   "version": "0.7.1"
		  }
		 },
		 "nbformat": 4,
		 "nbformat_minor": 0
}
