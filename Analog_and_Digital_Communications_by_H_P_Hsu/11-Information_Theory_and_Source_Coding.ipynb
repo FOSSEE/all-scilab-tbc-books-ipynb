{
"cells": [
 {
		   "cell_type": "markdown",
	   "metadata": {},
	   "source": [
       "# Chapter 11: Information Theory and Source Coding"
	   ]
	},
{
		   "cell_type": "markdown",
		   "metadata": {},
		   "source": [
			"## Example 11.16: BSC.sce"
		   ]
		  },
  {
"cell_type": "code",
	   "execution_count": null,
	   "metadata": {
	    "collapsed": true
	   },
	   "outputs": [],
"source": [
"//Page Number: 11.21\n",
"//Example 11.16\n",
"clc;\n",
"//(b)I(X;Y)\n",
"//Given\n",
"a=0.5;\n",
"p=0.1;\n",
"//As we know\n",
"//P(Y)=P(X)*P(Y/X)\n",
"//We have\n",
"PX=[a (1-a)];\n",
"PYbyX=[(1-p) p;p (1-p)];\n",
"PY=PX*PYbyX;\n",
"\n",
"//As H(Y)=-Sum of[P(yi)log2P(yi)] \n",
"//Where i=0 to n;\n",
"HofY=0;\n",
"for i=1:2\n",
"    HofY=HofY+(PY(i)*log2(PY(i)));\n",
"end\n",
"\n",
"//For BSC, I(X;Y)=H(Y)+plog2(p)+(1-p)log2(1-p)\n",
"IXY=-HofY+[(p*log2(p))+((1-p)*log2(1-p))];\n",
"disp(IXY,'I(X;Y) for a=0.5 and p=0.1:');\n",
"\n",
"\n",
"//(c)I1(X;Y)\n",
"//Given\n",
"a1=0.5;\n",
"p1=0.5;\n",
"//As we know\n",
"//P(Y)=P(X)*P(Y/X)\n",
"//We have\n",
"PX1=[a1 (1-a1)];\n",
"PYbyX1=[(1-p1) p1;p1 (1-p1)];\n",
"PY1=PX1*PYbyX1;\n",
"\n",
"//As H(Y)=-Sum of[P(yi)log2P(yi)] \n",
"//Where i=0 to n;\n",
"HofY1=0;\n",
"for i=1:2\n",
"    HofY1=HofY1+(PY1(i)*log2(PY1(i)));\n",
"end\n",
"\n",
"\n",
"//For BSC, I(X;Y)=H(Y)+plog2(p)+(1-p)log2(1-p)\n",
"IXY1=-HofY1+(p1*log2(p1))+((1-p1)*log2(1-p1));\n",
"disp(IXY1,'I(X;Y) for a=0.5 and p=0.5:');"
   ]
   }
,
{
		   "cell_type": "markdown",
		   "metadata": {},
		   "source": [
			"## Example 11.20: Differential_Entropy.sce"
		   ]
		  },
  {
"cell_type": "code",
	   "execution_count": null,
	   "metadata": {
	    "collapsed": true
	   },
	   "outputs": [],
"source": [
"//Page Number: 11.24\n",
"//Example 11.20\n",
"clc;\n",
"//Given\n",
"//f(x)=1/a for x from 0 to a\n",
"//0, otherwise\n",
"\n",
"//We have\n",
"//H(X)=-integrate[f(x))*log2f(x)]dx\n",
"//Here, f(x)=1/a for limits 0 to a\n",
"//H(X)=-integrate(1/a)*log2(1/a)dx for 0 to a\n",
"//H(X)=log2(a)\n",
"\n",
"//(a)a1=1\n",
"a1=1;\n",
"y1=log2(a1);\n",
"disp(y1,'For a=1, H(X):');\n",
"\n",
"//(b)a2=2\n",
"a2=2;\n",
"y2=log2(a2);\n",
"disp(y2,'For a=2, H(X):');\n",
"\n",
"\n",
"//(c)a3=1/2\n",
"a3=1/2;\n",
"y3=log2(a3);\n",
"disp(y3,'For a=1/2, H(X):');"
   ]
   }
,
{
		   "cell_type": "markdown",
		   "metadata": {},
		   "source": [
			"## Example 11.23: AWGN_Channel.sce"
		   ]
		  },
  {
"cell_type": "code",
	   "execution_count": null,
	   "metadata": {
	    "collapsed": true
	   },
	   "outputs": [],
"source": [
"//Page Number: 11.26\n",
"//Example 11.23\n",
"clc;\n",
"//Given\n",
"B=4D+3; //Hz\n",
"S=0.1D-3; //W\n",
"n=2*(1D-12); //W/hz\n",
"\n",
"N=n*B;\n",
"SN=S/N;\n",
"//As Channel Capacity\n",
"//C=B*(log2(1+(S/N)));\n",
"C=B*(log2(1+(S/N)));\n",
"disp('b/s',C,'Channel Capacity');"
   ]
   }
,
{
		   "cell_type": "markdown",
		   "metadata": {},
		   "source": [
			"## Example 11.24: DMS_X_with_two_symbols.sce"
		   ]
		  },
  {
"cell_type": "code",
	   "execution_count": null,
	   "metadata": {
	    "collapsed": true
	   },
	   "outputs": [],
"source": [
"//Page Number: 11.26\n",
"//Example 11.24\n",
"clc;\n",
"\n",
"//(a) Information Rate\n",
"//Given\n",
"n=1.25; //times\n",
"l=256; //Levels\n",
"fM=4D+3; //Hz //Bandwidth\n",
"Nr=2*fM; //Nyquist Rate\n",
"r=Nr*n;\n",
"HofX=log2(l);\n",
"//Information rate\n",
"R=r*HofX;\n",
"disp('b/s',R,'Information Rate:');\n",
"\n",
"//(b)\n",
"//As Channel Capacity\n",
"//C=B*(log2(1+(S/N)));\n",
"B=10^4; //Hz\n",
"SNdB=20; //dB\n",
"SN=10^(SNdB/10);\n",
"C=B*(log2(1+(SN)));\n",
"disp('b/s',C,'Channel Capacity:');\n",
"\n",
"//As R>C, error free transmission isnt possible\n",
"\n",
"//(c)For error free transmission\n",
"C1=R;\n",
"//Therfore S/N\n",
"SN1={2^(C1/B)}-1;\n",
"SN1dB=10*(log10(SN1));\n",
"disp('dB',SN1dB,'For error free transmission S/N:');\n",
"\n",
"//(d)Bandwidth for error free transmission\n",
"SN2dB=20; //dB\n",
"SN2=10^(SN2dB/10);\n",
"//As Channel Capacity\n",
"//C=B*(log2(1+(S/N)));\n",
"B=C1/(log2(1+(SN2)));\n",
"disp('Hz',B,'Bandwidth for error free transmission:');\n",
"//Therefore bandwidth should be greater than or equal to B\n",
"\n",
""
   ]
   }
,
{
		   "cell_type": "markdown",
		   "metadata": {},
		   "source": [
			"## Example 11.25: DMS_X.sce"
		   ]
		  },
  {
"cell_type": "code",
	   "execution_count": null,
	   "metadata": {
	    "collapsed": true
	   },
	   "outputs": [],
"source": [
"//Page Number: 11.27\n",
"//Example 11.25\n",
"clc;\n",
"//Given\n",
"p=0.9;\n",
"Px=[p (1-p)];\n",
"\n",
"n=1;\n",
"//Average Code length\n",
"//L=Summation(P(xi)ni) \n",
"L=0;\n",
"for i=1:2\n",
"    L=L+(Px(i)*n);\n",
"end\n",
"\n",
"//As H(X)=-Sum of[P(xi)log2P(xi)] \n",
"//Where i=0 to n;\n",
"HofX=0;\n",
"for i=1:2\n",
"    HofX=HofX+(Px(i)*log2(Px(i)));\n",
"end\n",
"\n",
"//Efficiency=H(X)/L\n",
"n=-HofX/L;\n",
"np=n*100;\n",
"disp('%',np,'Code efficiency:');\n",
"\n",
"//Redundancy\n",
"g=1-n;\n",
"gp=g*100;\n",
"disp('%',gp,'Code redundancy:');\n",
""
   ]
   }
,
{
		   "cell_type": "markdown",
		   "metadata": {},
		   "source": [
			"## Example 11.26: Second_order_extension_of_DMS.sce"
		   ]
		  },
  {
"cell_type": "code",
	   "execution_count": null,
	   "metadata": {
	    "collapsed": true
	   },
	   "outputs": [],
"source": [
"//Page Number: 11.28\n",
"//Example 11.26\n",
"clc;\n",
"//Given\n",
"Pa=[0.81 0.09 0.09 0.01];\n",
"n=[1 2 3 4];\n",
"\n",
"//Average Code length\n",
"//L=Summation(P(xi)ni) \n",
"L=0;\n",
"for i=1:4\n",
"    L=L+(Pa(i)*n(i));\n",
"end\n",
"\n",
"//Entropy of second order extension\n",
"//As H(X^2)=-Sum of[P(ai)log2P(ai)] \n",
"//Where i=0 to n;\n",
"HofX2=0;\n",
"for i=1:4\n",
"    HofX2=HofX2+(Pa(i)*log2(Pa(i)));\n",
"end\n",
"//b/s\n",
"\n",
"//Efficiency=H(X^2)/L\n",
"n=-HofX2/L;\n",
"np=n*100;\n",
"disp('%',np,'Code efficiency:');\n",
"\n",
"//Redundancy\n",
"g=1-n;\n",
"gp=g*100;\n",
"disp('%',gp,'Code redundancy:');\n",
""
   ]
   }
,
{
		   "cell_type": "markdown",
		   "metadata": {},
		   "source": [
			"## Example 11.27: Kraft_inequality.sce"
		   ]
		  },
  {
"cell_type": "code",
	   "execution_count": null,
	   "metadata": {
	    "collapsed": true
	   },
	   "outputs": [],
"source": [
"//Page Number: 11.28\n",
"//Example 11.27\n",
"clc;\n",
"//As Kraft inequlity\n",
"//K=summation(2^(-n))\n",
"//where i from 0 to 4\n",
"//As i=1,2,3,4\n",
"//Given\n",
"\n",
"//For Code A\n",
"na=[2 2 2 2];\n",
"KA=0;\n",
"for i=1:4\n",
"    KA=KA+(2^(-na(i)));\n",
"end\n",
"disp(KA,'For Code A:');\n",
"\n",
"//For Code B\n",
"nb=[1 2 2 3];\n",
"KB=0;\n",
"for i=1:4\n",
"    KB=KB+(2^(-nb(i)));\n",
"end\n",
"disp(KB,'For Code B:');\n",
"\n",
"//For Code C\n",
"nc=[1 2 3 3];\n",
"KC=0;\n",
"for i=1:4\n",
"    KC=KC+(2^(-nc(i)));\n",
"end\n",
"disp(KC,'For Code C:');\n",
"\n",
"//For Code D\n",
"nd=[1 3 3 3];\n",
"KD=0;\n",
"for i=1:4\n",
"    KD=KD+(2^(-nd(i)));\n",
"end\n",
"disp(KD,'For Code D:');\n",
"\n",
"//All codes except Code B satisfy Kraft inequality"
   ]
   }
,
{
		   "cell_type": "markdown",
		   "metadata": {},
		   "source": [
			"## Example 11.2: DMS_X_with_four_symbols.sce"
		   ]
		  },
  {
"cell_type": "code",
	   "execution_count": null,
	   "metadata": {
	    "collapsed": true
	   },
	   "outputs": [],
"source": [
"//Page Number: 11.12\n",
"//Example 11.2\n",
"clc;\n",
"//Given\n",
"//Probabilities of four symbols\n",
"Px=[0.4 0.3 0.2 0.1];\n",
"\n",
"//(a) H(X)\n",
"//As H(X)=-Sum of(P(xi)log2P(xi)) \n",
"//Where i=0 to n;\n",
"HofX=0;\n",
"for i=1:4\n",
"    HofX=HofX+(Px(i)*log2(Px(i)));\n",
"end\n",
"disp('b/symbol',-HofX,'H(X):');\n",
"\n",
"//(b)Amount of information in x1x2x1x3 and x4x3x3x2\n",
"Px1x2x1x3=Px(1)*Px(2)*Px(1)*Px(3);\n",
"Ix1x2x1x3=-log2(Px1x2x1x3);\n",
"disp('b/symbol',Ix1x2x1x3,'Ix1x2x1x3:');\n",
"\n",
"Px4x3x3x2=Px(4)*Px(3)*Px(3)*Px(2);\n",
"Ix4x3x3x2=-log2(Px4x3x3x2);\n",
"disp('b/symbol',Ix4x3x3x2,'Ix4x3x3x2:');"
   ]
   }
,
{
		   "cell_type": "markdown",
		   "metadata": {},
		   "source": [
			"## Example 11.32: Shannon_Fano.sce"
		   ]
		  },
  {
"cell_type": "code",
	   "execution_count": null,
	   "metadata": {
	    "collapsed": true
	   },
	   "outputs": [],
"source": [
"//Page Number: 11.31\n",
"//Example 11.32\n",
"clc;\n",
"//Given\n",
"Px=[1/2 1/4 1/8 1/8];\n",
"\n",
"//As I(xi)=-log2(Pxi)\n",
"for i=1:4\n",
"Ix(i)=-log2(Px(i));\n",
"n(i)=Ix(i);\n",
"end\n",
"\n",
"//As H(X)=-Sum of[P(xi)log2P(xi)]\n",
"//and I(xi)=-log2p(xi) \n",
"//Where i=0 to n;\n",
"HofX=0;\n",
"for i=1:4\n",
"    HofX=HofX+(Px(i)*Ix(i));\n",
"end\n",
"\n",
"//Average Code length\n",
"//L=Summation(P(xi)ni) \n",
"L=0;\n",
"for i=1:4\n",
"    L=L+(Px(i)*n(i));\n",
"end\n",
"\n",
"//Efficiency=H(X)/L\n",
"n=HofX/L;\n",
"np=n*100;\n",
"disp('%',np,'Code efficiency:');\n",
"\n",
"//Hence, efficiency is 100%"
   ]
   }
,
{
		   "cell_type": "markdown",
		   "metadata": {},
		   "source": [
			"## Example 11.33: Shannon_Fano_and_Huffman.sce"
		   ]
		  },
  {
"cell_type": "code",
	   "execution_count": null,
	   "metadata": {
	    "collapsed": true
	   },
	   "outputs": [],
"source": [
"//Page Number: 11.32\n",
"//Example 11.33\n",
"clc;\n",
"//Given\n",
"//(a)Efficiency of code\n",
"Px=[0.2 0.2 0.2 0.2 0.2];\n",
"na=[2 2 2 3 3];\n",
"\n",
"//As H(X)=-Sum of[P(ai)log2P(ai)] \n",
"//Where i=0 to n;\n",
"HofX=0;\n",
"for i=1:5\n",
"    HofX=HofX+(Px(i)*log2(Px(i)));\n",
"end\n",
"\n",
"//Average Code length\n",
"//L=Summation(P(xi)ni)\n",
"La=0;\n",
"for i=1:5\n",
"    La=La+(Px(i)*na(i));\n",
"end \n",
"\n",
"//Efficiency=H(X)/L\n",
"ea=-HofX/La;\n",
"npa=ea*100;\n",
"disp('%',npa,'Code efficiency for Shannon code 1:');\n",
"\n",
"//(b) Another Shannon Fano Code\n",
"nb=[2 3 3 2 2];\n",
"\n",
"//Average Code length\n",
"//L=Summation(P(xi)ni)\n",
"Lb=0;\n",
"for i=1:5\n",
"    Lb=Lb+(Px(i)*nb(i));\n",
"end \n",
"\n",
"//Efficiency=H(X)/L\n",
"eb=-HofX/Lb;\n",
"npb=eb*100;\n",
"disp('%',npb,'Code efficiency for Shannon code 2:');\n",
"\n",
"//(c) Hauffman Code\n",
"nc=[2 3 3 2 2];\n",
"\n",
"//Average Code length\n",
"//L=Summation(P(xi)ni)\n",
"Lc=0;\n",
"for i=1:5\n",
"    Lc=Lc+(Px(i)*nc(i));\n",
"end \n",
"\n",
"//Efficiency=H(X)/L\n",
"ec=-HofX/Lc;\n",
"npc=ec*100;\n",
"disp('%',npc,'Code efficiency for Hauffman code:');\n",
"\n",
"//Efficiency of all codes is same"
   ]
   }
,
{
		   "cell_type": "markdown",
		   "metadata": {},
		   "source": [
			"## Example 11.34: DMS_X_with_five_symbols.sce"
		   ]
		  },
  {
"cell_type": "code",
	   "execution_count": null,
	   "metadata": {
	    "collapsed": true
	   },
	   "outputs": [],
"source": [
"//Page Number: 11.33\n",
"//Example 11.34\n",
"clc;\n",
"//Given\n",
"//(a) For Shannon Fano Code\n",
"Px=[0.4 0.19 0.16 0.15 0.1];\n",
"n=[2 2 2 3 3];\n",
"\n",
"//Average Code length\n",
"//L=Summation(P(xi)ni) \n",
"L=0;\n",
"for i=1:5\n",
"    L=L+(Px(i)*n(i));\n",
"end\n",
"\n",
"//As H(X)=-Sum of[P(xi)log2P(xi)] \n",
"//Where i=0 to n;\n",
"HofX=0;\n",
"for i=1:5\n",
"    HofX=HofX+(Px(i)*log2(Px(i)));\n",
"end\n",
"\n",
"//Efficiency=H(X)/L\n",
"n=-HofX/L;\n",
"np=n*100;\n",
"disp('%',np,'Code efficiency for shannon fanon:');\n",
"\n",
"//(b) For Huffman Code\n",
"nh=[1 3 3 3 3];\n",
"\n",
"//Average Code length\n",
"//L=Summation(P(xi)ni) \n",
"Lh=0;\n",
"for i=1:5\n",
"    Lh=Lh+(Px(i)*nh(i));\n",
"end\n",
"\n",
"//Efficiency=H(X)/L\n",
"n1=-HofX/Lh;\n",
"np1=n1*100;\n",
"disp('%',np1,'Code efficiency for hauffman:');"
   ]
   }
,
{
		   "cell_type": "markdown",
		   "metadata": {},
		   "source": [
			"## Example 11.3: Binary_Memoryless_Source.sce"
		   ]
		  },
  {
"cell_type": "code",
	   "execution_count": null,
	   "metadata": {
	    "collapsed": true
	   },
	   "outputs": [],
"source": [
"//Page Number: 11.13\n",
"//Example 11.3\n",
"clc;\n",
"//As H(X) is maximum when\n",
"//Px1=Px2=1/2\n",
"Px=[0.5 0.5];\n",
"\n",
"//As H(X)=-Sum of[P(xi)log2P(xi)] \n",
"//Where i=0 to n;\n",
"HofX=0;\n",
"for i=1:2\n",
"    HofX=HofX+(Px(i)*log2(Px(i)));\n",
"end\n",
"disp('b/symbol',-HofX,'Maximum H(X):');"
   ]
   }
,
{
		   "cell_type": "markdown",
		   "metadata": {},
		   "source": [
			"## Example 11.5: Black_and_white_TV_picture.sce"
		   ]
		  },
  {
"cell_type": "code",
	   "execution_count": null,
	   "metadata": {
	    "collapsed": true
	   },
	   "outputs": [],
"source": [
"//Page Number: 11.15\n",
"//Example 11.5\n",
"clc;\n",
"//Given\n",
"//Picture elements\n",
"pe=2D+6;\n",
"//Brightness levels\n",
"l=16;\n",
"//Rate of repeatation\n",
"rr=32; //Per second\n",
"\n",
"\n",
"//As H(X)=-Sum of[P(xi)log2P(xi)] \n",
"//Where i=0 to n;\n",
"HofX=(-1)*l*[(1/l)*log2(1/l)];\n",
"\n",
"r=pe*rr;\n",
"\n",
"//As R=r*H(X)\n",
"R=r*HofX;\n",
"disp('b/symbol',R,'Average rate of information conveyed:');"
   ]
   }
,
{
		   "cell_type": "markdown",
		   "metadata": {},
		   "source": [
			"## Example 11.6: Telegraph_Source.sce"
		   ]
		  },
  {
"cell_type": "code",
	   "execution_count": null,
	   "metadata": {
	    "collapsed": true
	   },
	   "outputs": [],
"source": [
"//Page Number: 11.15\n",
"//Example 11.6\n",
"clc;\n",
"//Given\n",
"//Pdot-2*Pdash and Pdot+Pdash=1\n",
"//Therfore, on solving\n",
"Pdot=2/3;\n",
"Pdash=1/3;\n",
"\n",
"tdot=0.2; //Sec\n",
"tdash=0.6; //Sec\n",
"tspace=0.2; //Sec\n",
"\n",
"//Finding H(X)\n",
"//As H(X)=-Sum of[P(xi)log2P(xi)] \n",
"//Where i=0 to n;\n",
"HofX=(-1)*[{Pdot*log2(Pdot)}+{Pdash*log2(Pdash)}];\n",
"\n",
"//Average time per symbol\n",
"Ts=(Pdot*tdot)+(Pdash*tdash)+tspace;\n",
"\n",
"//Average Symbol Rate\n",
"r=1/Ts;\n",
"\n",
"//Average information rate\n",
"R=r*HofX;\n",
"disp('b/symbol',R,'Average information rate :');"
   ]
   }
,
{
		   "cell_type": "markdown",
		   "metadata": {},
		   "source": [
			"## Example 11.7: Binary_Channel.sce"
		   ]
		  },
  {
"cell_type": "code",
	   "execution_count": null,
	   "metadata": {
	    "collapsed": true
	   },
	   "outputs": [],
"source": [
"//Page Number: 11.15\n",
"//Example 11.7\n",
"clc;\n",
"\n",
"//(a)Channel Matrix\n",
"//Given\n",
"Py1byx1=0.9;\n",
"Py2byx1=0.1;\n",
"Py1byx2=0.2;\n",
"Py2byx2=0.8;\n",
"PYbyX=[Py1byx1 Py2byx1;Py1byx2 Py2byx2];\n",
"disp(PYbyX,'Channel Matrix,P(Y/X):');\n",
"\n",
"//(b)Py1 and Py2\n",
"//Given\n",
"Px1=0.5;\n",
"Px2=Px1;\n",
"//As P(Y)=P(X)*P(Y/X)\n",
"PX=[Px1 Px2];\n",
"PY=PX*PYbyX;\n",
"disp(PY,'P(y1) P(y2):');\n",
"\n",
"//(c)Joint Probabilities P(x1,y2) and P(x2,y1)\n",
"//Diagonalizing PX\n",
"PXd=diag(PX);\n",
"PXY=PXd*PYbyX;\n",
"disp(PXY(2,1),PXY(1,2),'P(x1,y2) P(x2,y1)');\n",
""
   ]
   }
,
{
		   "cell_type": "markdown",
		   "metadata": {},
		   "source": [
			"## Example 11.8: Binary_Channel_in_cascade.sce"
		   ]
		  },
  {
"cell_type": "code",
	   "execution_count": null,
	   "metadata": {
	    "collapsed": true
	   },
	   "outputs": [],
"source": [
"//Page Number: 11.16\n",
"//Example 11.8\n",
"clc;\n",
"//(a) Channel Matrix\n",
"//Given\n",
"PYbyX=[0.9 0.1;0.2 0.8];\n",
"PZbyY=[0.9 0.1;0.2 0.8];\n",
"\n",
"//As P(Z/X)=P(Y/X)*P(Z/Y)\n",
"PZbyX=PYbyX*PZbyY;\n",
"disp(PZbyX,'Channel Matrix');\n",
"\n",
"//(b)Pz1 and Pz2\n",
"//Given\n",
"Px1=0.5;\n",
"Px2=Px1;\n",
"//As P(Z)=P(X)*P(Z/X)\n",
"\n",
"//P(X) matrix\n",
"PX=[Px1 Px2];\n",
"PZ=PX*PZbyX;\n",
"disp(PZ,'P(z1) P(z2):');"
   ]
   }
,
{
		   "cell_type": "markdown",
		   "metadata": {},
		   "source": [
			"## Example 11.9: Channel.sce"
		   ]
		  },
  {
"cell_type": "code",
	   "execution_count": null,
	   "metadata": {
	    "collapsed": true
	   },
	   "outputs": [],
"source": [
"//Page Number: 11.17\n",
"//Example 11.9\n",
"clc;\n",
"//Given\n",
"p=0.2;\n",
"Px1=0.5;\n",
"Px2=0.5;\n",
"//P(X) Matrix\n",
"PX=[Px1 Px2];\n",
"//Given\n",
"PYbyX=[(1-p) p 0;0 p (1-p)];\n",
"//P(y)=\n",
"PY=PX*PYbyX;\n",
"disp(PY,'P(y1) P(y2) P(y3):');"
   ]
   }
],
"metadata": {
		  "kernelspec": {
		   "display_name": "Scilab",
		   "language": "scilab",
		   "name": "scilab"
		  },
		  "language_info": {
		   "file_extension": ".sce",
		   "help_links": [
			{
			 "text": "MetaKernel Magics",
			 "url": "https://github.com/calysto/metakernel/blob/master/metakernel/magics/README.md"
			}
		   ],
		   "mimetype": "text/x-octave",
		   "name": "scilab",
		   "version": "0.7.1"
		  }
		 },
		 "nbformat": 4,
		 "nbformat_minor": 0
}
