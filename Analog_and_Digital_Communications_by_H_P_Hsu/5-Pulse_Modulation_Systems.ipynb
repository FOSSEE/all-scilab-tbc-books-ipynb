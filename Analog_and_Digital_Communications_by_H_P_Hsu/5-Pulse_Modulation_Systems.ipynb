{
"cells": [
 {
		   "cell_type": "markdown",
	   "metadata": {},
	   "source": [
       "# Chapter 5: Pulse Modulation Systems"
	   ]
	},
{
		   "cell_type": "markdown",
		   "metadata": {},
		   "source": [
			"## Example 5.14: Binary_Channel.sce"
		   ]
		  },
  {
"cell_type": "code",
	   "execution_count": null,
	   "metadata": {
	    "collapsed": true
	   },
	   "outputs": [],
"source": [
"//Page Number: 5.31\n",
"//Example 5.14\n",
"clc;\n",
"//Given,\n",
"Rb=36000; // (b/s)\n",
"fM=3200; //Hz\n",
"fs=2*fM;\n",
"n=Rb/fs;\n",
"//As n should be less than Rs/fs\n",
"\n",
"nn=round(n)-1;\n",
"disp(nn,'Binary digits');\n",
"\n",
"L=2^nn;\n",
"disp(L,'Quantizing level');\n",
"\n",
"fs=Rb/nn;\n",
"disp('Hz',fs,'Sampling Rate');"
   ]
   }
,
{
		   "cell_type": "markdown",
		   "metadata": {},
		   "source": [
			"## Example 5.15: Analog_Signal_to_PCM_System.sce"
		   ]
		  },
  {
"cell_type": "code",
	   "execution_count": null,
	   "metadata": {
	    "collapsed": true
	   },
	   "outputs": [],
"source": [
"//Page Number: 5.31\n",
"//Example 5.15\n",
"clc;\n",
"\n",
"mp=1; //Assume peak amplitude is unity\n",
"//Given\n",
"del=0.02*mp;\n",
"\n",
"L=(mp*2)/del;\n",
"\n",
"for (i=0:10)\n",
"  j=2^i;\n",
"  if(j>=L)\n",
"    L1=j;\n",
"    break;\n",
"    end\n",
"end\n",
"n=log2(L1);// bits per sample\n",
"disp(n,'Number of bits');"
   ]
   }
,
{
		   "cell_type": "markdown",
		   "metadata": {},
		   "source": [
			"## Example 5.18: Binary_PCM_System.sce"
		   ]
		  },
  {
"cell_type": "code",
	   "execution_count": null,
	   "metadata": {
	    "collapsed": true
	   },
	   "outputs": [],
"source": [
"//Page Number: 5.31\n",
"//Example 5.18\n",
"clc;\n",
"//Given,\n",
"SbyN=40; //db\n",
"SbyN0=10^(SbyN/10);\n",
"\n",
"//As sbyn=3L^2/2\n",
"L=sqrt((2*(SbyN0))/3);\n",
"LL=round(L);\n",
"\n",
"n=(log2(LL));\n",
"\n",
"nn=(round(n))+1; //Upper limit\n",
"\n",
"disp(nn,'Binary digits');\n",
"LL=2^nn;\n",
"\n",
"disp(LL,'Number of levels');\n",
"//As SQN= 1.76+6.02(n)\n",
"SQN= 1.76+6.02*(nn);\n",
"disp('dB',SQN,'Signal to quantizin ratio');\n",
"\n",
"\n",
""
   ]
   }
,
{
		   "cell_type": "markdown",
		   "metadata": {},
		   "source": [
			"## Example 5.19: CD_Recording_System.sce"
		   ]
		  },
  {
"cell_type": "code",
	   "execution_count": null,
	   "metadata": {
	    "collapsed": true
	   },
	   "outputs": [],
"source": [
"//Page Number: 5.33\n",
"//Example 5.19\n",
"clc;\n",
"//Given,\n",
"n=16;\n",
"Rb=44100; //b/s\n",
"//(a) Output signal to quantizing ratio\n",
"SNQ=1.76+(6.02*n);\n",
"disp('dB',SNQ,'Output signal to quantizing ratio: ');\n",
"\n",
"//(b)Input Bit Rate\n",
"IBR=2*Rb*n;\n",
"disp('B/s',IBR,'Input bit rate: ');\n",
"OBR=2*IBR;\n",
"disp('B/s',OBR,'Output bit rate: ');\n",
"\n",
"//(c)Number of bits recorded\n",
"//Given, an hours time\n",
"//Therefore, time\n",
"t=60*60;\n",
"NBR=OBR*t;\n",
"disp('Bytes',NBR,'Number of bits recorded: ');\n",
"\n",
"//(d) Dictionary\n",
"//Given\n",
"p=1500;\n",
"c=2;\n",
"l=100;\n",
"w=8;\n",
"let=6;\n",
"b=7;\n",
"d=p*c*l*w*let*b;\n",
"disp('Bytes',d,'Number of bits required');\n",
"\n",
"x=NBR/(2*d);\n",
"y=round(x);\n",
"disp(y,'Number of comparable books');"
   ]
   }
,
{
		   "cell_type": "markdown",
		   "metadata": {},
		   "source": [
			"## Example 5.22: Audio_Signal_with_Spectral_Components.sce"
		   ]
		  },
  {
"cell_type": "code",
	   "execution_count": null,
	   "metadata": {
	    "collapsed": true
	   },
	   "outputs": [],
"source": [
"//Page Number: 5.35\n",
"//Example 5.22\n",
"clc;\n",
"//Given,\n",
"f1=200; //Hz\n",
"f2=3300; //Hz\n",
"fs=8000; //Samples/s\n",
"SQN=30; //dB\n",
"\n",
"//(a)Minimum number of quantizin levels and bits per sample\n",
"//From SQN=1.76+20log L\n",
"La=10^((SQN-1.76)/20);\n",
"L=round(La);\n",
"disp(L,'Minimum number of quantizing levels');\n",
"n=log2(L);\n",
"nn=round(n);\n",
"disp(nn,'Minimum number of bits per sample');\n",
"\n",
"//(b)Minimum system bandwidth\n",
"Fpcm=(nn*fs)/2;\n",
"disp('Hz',Fpcm,'Minimum system Bandwidth');\n",
"\n",
"//(c)For u=255\n",
"//SQN=20logL-10.1\n",
"La1=10^((SQN+10.1)/20);\n",
"L1=(round(La1))+1; //Upper Limit\n",
"disp(L1,'Minimum number of quantizing levels for u=255');\n",
"n1=log2(L1);\n",
"nn1=(round(n1));\n",
"disp(nn1,'Minimum number of bits per sample');\n",
"\n",
"//Minimum system bandwidth\n",
"Fpcm1=(nn1*fs)/2;\n",
"disp('Hz',Fpcm1,'Minimum system Bandwidth');\n",
""
   ]
   }
,
{
		   "cell_type": "markdown",
		   "metadata": {},
		   "source": [
			"## Example 5.25: DM_System.sce"
		   ]
		  },
  {
"cell_type": "code",
	   "execution_count": null,
	   "metadata": {
	    "collapsed": true
	   },
	   "outputs": [],
"source": [
"//Page Number: 5.37\n",
"//Example 5.25\n",
"clc;\n",
"//Given,\n",
"fs=32D+3; //Hz\n",
"fm=1000; //Hz\n",
"fM=4D+3; //Hz\n",
"//As SNR=(3*(fs^3))/(8*pi*pi*(fm^2)*fM)\n",
"SNR=(3*(fs^3))/(8*%pi*%pi*(fm^2)*fM);\n",
"SNRdb=(log10(SNR));\n",
"disp('dB',SNRdb,'Output SNR');"
   ]
   }
,
{
		   "cell_type": "markdown",
		   "metadata": {},
		   "source": [
			"## Example 5.26: PCM_Systems.sce"
		   ]
		  },
  {
"cell_type": "code",
	   "execution_count": null,
	   "metadata": {
	    "collapsed": true
	   },
	   "outputs": [],
"source": [
"//Page Number: 5.38\n",
"//Example 5.26\n",
"clc;\n",
"//Given,\n",
"n=4;\n",
"SNQ=1.76+(6.02*n);\n",
"disp('dB',SNQ,'Output SNR');"
   ]
   }
,
{
		   "cell_type": "markdown",
		   "metadata": {},
		   "source": [
			"## Example 5.27: DM_system.sce"
		   ]
		  },
  {
"cell_type": "code",
	   "execution_count": null,
	   "metadata": {
	    "collapsed": true
	   },
	   "outputs": [],
"source": [
"//Page Number: 5.38\n",
"//Example 5.27\n",
"clc;\n",
"//Given,\n",
"bw=3D+3; //Hz\n",
"n=3;\n",
"fs=(n*2*bw);\n",
"del=250D-3; //mV\n",
"fm=1000; //Hz\n",
"//(a) Maximum amplitude\n",
"Amax=(del*fs)/(2*%pi*fm);\n",
"disp('V',Amax,'Maximum Amplitude');\n",
"\n",
"//(b) Output signal to quantizing ratio\n",
"SNRO=(3*(fs^3))/(8*%pi*%pi*(fm^3));\n",
"SNRdb=10*(log10(SNRO));\n",
"disp('dB',SNRdb,'Output SNR');"
   ]
   }
,
{
		   "cell_type": "markdown",
		   "metadata": {},
		   "source": [
			"## Example 5.32: TDM.sce"
		   ]
		  },
  {
"cell_type": "code",
	   "execution_count": null,
	   "metadata": {
	    "collapsed": true
	   },
	   "outputs": [],
"source": [
"//Page Number: 5.40\n",
"//Example 5.32\n",
"clc;\n",
"//Given,\n",
"m1=3D+3; //Hz\n",
"m2=3.5D+3; //Hz\n",
"//Since highest frequency is of m2\n",
"Sr=2*m2; \n",
"disp('Samples/s',Sr,'Sampling Rate');"
   ]
   }
,
{
		   "cell_type": "markdown",
		   "metadata": {},
		   "source": [
			"## Example 5.33: TD_Multiplexing.sce"
		   ]
		  },
  {
"cell_type": "code",
	   "execution_count": null,
	   "metadata": {
	    "collapsed": true
	   },
	   "outputs": [],
"source": [
"//Page Number: 5.40\n",
"//Example 5.33\n",
"clc;\n",
"//Given,\n",
"m1=3.6D+3; //Hz\n",
"m2=1.2D+3; //Hz\n",
"m3=m2;\n",
"m4=m2;\n",
"//(a)Nyquist rate\n",
"nr1=2*m1;\n",
"disp(nr1,'Nyquist Rate of m1(t)');\n",
"nr2=2*m2;\n",
"disp(nr2,'Nyquist Rate of m2(t)');\n",
"nr3=2*m3;\n",
"disp(nr3,'Nyquist Rate of m3(t)');\n",
"nr4=2*m4;\n",
"disp(nr4,'Nyquist Rate of m4(t)');\n",
"\n",
"//(b) Speed of commutator\n",
"c=nr1+nr2+nr3+nr4;\n",
"disp('samples/s',c,'Speed of commutator');\n",
"\n",
"//(c)Output bit rate\n",
"//Given, \n",
"L=1024;\n",
"n=log2(L);\n",
"OBR=n*c;\n",
"disp('b/s',OBR,'Output bit rate');\n",
"\n",
"//(d)Minimum channel bandwidth\n",
"fB=c/2;\n",
"disp('Hz',fB,'Minimum Channel Bandwidth');\n",
"\n",
""
   ]
   }
,
{
		   "cell_type": "markdown",
		   "metadata": {},
		   "source": [
			"## Example 5.34: T1_Carrier_System.sce"
		   ]
		  },
  {
"cell_type": "code",
	   "execution_count": null,
	   "metadata": {
	    "collapsed": true
	   },
	   "outputs": [],
"source": [
"//Page Number: 5.41\n",
"//Example 5.34\n",
"clc;\n",
"//Given,\n",
"fs=8000; //Hz\n",
"m=24;\n",
"n=8;\n",
"//(a) Duration of each bit\n",
"t1=1/fs;\n",
"t2=(m*n)+1; // Extra bit for synchronization\n",
"Tb=t1/t2;\n",
"disp('seconds',Tb,'Duration of each bit');\n",
"\n",
"//(b) Transmission Rate\n",
"Rb=1/Tb;\n",
"disp('b/s',Rb,'Transmission Rate');\n",
"\n",
"//(c)Minimum transmission bandwidth\n",
"fT1=1/(2*Tb);\n",
"disp('Hz',fT1,'Minimum transmission bandwidth');\n",
""
   ]
   }
,
{
		   "cell_type": "markdown",
		   "metadata": {},
		   "source": [
			"## Example 5.35: TDM.sce"
		   ]
		  },
  {
"cell_type": "code",
	   "execution_count": null,
	   "metadata": {
	    "collapsed": true
	   },
	   "outputs": [],
"source": [
"//Page Number: 5.42\n",
"//Example 5.35\n",
"clc;\n",
"//Given,\n",
"n=24;\n",
"f=3.4D+3; //Hz\n",
"ts=1D-6; //Second\n",
"\n",
"//(a) Spacing between succesive multiplexed pulses\n",
"fs=8000; //Samples per second\n",
"t1=1/fs;\n",
"t2=n+1; //One synchronizing bit\n",
"\n",
"Tb=t1/t2;\n",
"//Actual Tb, as actual duration of each pulse is 1us\n",
"ATb=Tb-ts;\n",
"disp('Seconds',ATb,'Spacing between succesive multiplexed pulses');\n",
"\n",
"\n",
"//(b) Nyquist Rate of Sampling\n",
"f1=2*f;\n",
"T=1/f1; //Seconds\n",
"\n",
"Tb1=T/t2;\n",
"\n",
"ATb1=Tb1-ts;\n",
"disp('Seconds',ATb1,'Spacing between succesive multiplexed pulses using Nyquist rate of sampling');\n",
"\n",
""
   ]
   }
,
{
		   "cell_type": "markdown",
		   "metadata": {},
		   "source": [
			"## Example 5.37: Telephone_Line.sce"
		   ]
		  },
  {
"cell_type": "code",
	   "execution_count": null,
	   "metadata": {
	    "collapsed": true
	   },
	   "outputs": [],
"source": [
"//Page Number: 5.43\n",
"//Example 5.37\n",
"clc;\n",
"//Given,\n",
"bw=3.5D+3; //Hz\n",
"//Roll off factor\n",
"a=0.25;\n",
"Rb=(2*bw)/(1+a);\n",
"disp('b/s',Rb,'Data Rate');"
   ]
   }
,
{
		   "cell_type": "markdown",
		   "metadata": {},
		   "source": [
			"## Example 5.38: Roll_Off_Factor.sce"
		   ]
		  },
  {
"cell_type": "code",
	   "execution_count": null,
	   "metadata": {
	    "collapsed": true
	   },
	   "outputs": [],
"source": [
"//Page Number: 5.43\n",
"//Example 5.38\n",
"clc;\n",
"//Given,\n",
"fB=75D+3; //Hz\n",
"Rb=0.1D+6; //B/s\n",
"Tb=1/Rb;\n",
"a=(2*fB*Tb)-1;\n",
"disp(a,'Roll off factor');"
   ]
   }
,
{
		   "cell_type": "markdown",
		   "metadata": {},
		   "source": [
			"## Example 5.39: Telemetry_System.sce"
		   ]
		  },
  {
"cell_type": "code",
	   "execution_count": null,
	   "metadata": {
	    "collapsed": true
	   },
	   "outputs": [],
"source": [
"//Page Number: 5.43\n",
"//Example 5.39\n",
"clc;\n",
"//Given,\n",
"m=8;\n",
"fM=2D+3; //Hz\n",
"a=0.2;\n",
"//Here we choose L=128;\n",
"L=128;\n",
"n=log2(L);\n",
"Sr=2*fM;\n",
"fs=1.25*Sr;\n",
"\n",
"//For n tdm signals\n",
"x=m*fs;\n",
"\n",
"//Resultant bit rate\n",
"br=7*x;\n",
"\n",
"//Minimum Transmission bandwidth\n",
"fB=((1+a)*br)/2;\n",
"disp('Hz', fB,'Minimum Transmission bandwidth');"
   ]
   }
,
{
		   "cell_type": "markdown",
		   "metadata": {},
		   "source": [
			"## Example 5.40: M_ary_PSK.sce"
		   ]
		  },
  {
"cell_type": "code",
	   "execution_count": null,
	   "metadata": {
	    "collapsed": true
	   },
	   "outputs": [],
"source": [
"//Page Number: 5.44\n",
"//Example 5.40\n",
"clc;\n",
"//Given,\n",
"M=16;\n",
"sr=40000;\n",
"a=0.3;\n",
"//(a) Bit Rate\n",
"n=log2(M);\n",
"br=sr*n;\n",
"disp('b/s',br,'Bit Rate: ');\n",
"\n",
"//(b)\n",
"//As 2*fB=(1+a)*R/log2M\n",
"//Given \n",
"bw=110D+3; //Hz  //=2*fB\n",
"\n",
"M=2^(((1+a)*br)/bw);\n",
"MM=round(M);\n",
"disp(MM,'Value of M');\n",
"\n",
"//(c)Band Rate\n",
"band=br/(log2(n));\n",
"disp('Symbols/s',band,'Band Rate');\n",
"\n",
"//(d) Spectral efficiency\n",
"BT=((1+a)*br)/2;\n",
"Eff=br/BT;\n",
"disp('b/s Hz',Eff,'Spectral efficiency');"
   ]
   }
,
{
		   "cell_type": "markdown",
		   "metadata": {},
		   "source": [
			"## Example 5.9: Sampling_rate.sce"
		   ]
		  },
  {
"cell_type": "code",
	   "execution_count": null,
	   "metadata": {
	    "collapsed": true
	   },
	   "outputs": [],
"source": [
"//Page Number: 5.26\n",
"//Example 5.9\n",
"clc;\n",
"//Given,\n",
"//m(t)=10cos(2000*pi*t)cos(8000*pi*t)\n",
"//or 5 cos (6000*pi*t) +5*cos(10000*pi*t)\n",
"//(a) Minimum sampling rate\n",
"//we have\n",
"fM=5000; //Hz\n",
"fs=2*fM;\n",
"disp('Hz',fs,'Minimum sampling rate');\n",
"\n",
"//(b)bandpass sampling theoram\n",
"fu=fM;\n",
"fb=fM-3000; //Hz\n",
"//As fu/fb is 2.5\n",
"//We have\n",
"k=2;\n",
"fs2=(2*fu)/k;\n",
"disp('Hz',fs2,'Minimum sampling rate by sampling theoram');\n",
"\n",
"\n",
""
   ]
   }
],
"metadata": {
		  "kernelspec": {
		   "display_name": "Scilab",
		   "language": "scilab",
		   "name": "scilab"
		  },
		  "language_info": {
		   "file_extension": ".sce",
		   "help_links": [
			{
			 "text": "MetaKernel Magics",
			 "url": "https://github.com/calysto/metakernel/blob/master/metakernel/magics/README.md"
			}
		   ],
		   "mimetype": "text/x-octave",
		   "name": "scilab",
		   "version": "0.7.1"
		  }
		 },
		 "nbformat": 4,
		 "nbformat_minor": 0
}
