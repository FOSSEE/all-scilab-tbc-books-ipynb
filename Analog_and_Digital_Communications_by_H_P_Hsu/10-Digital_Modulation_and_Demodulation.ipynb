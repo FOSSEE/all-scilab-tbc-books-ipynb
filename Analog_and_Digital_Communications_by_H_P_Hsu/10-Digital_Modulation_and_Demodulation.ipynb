{
"cells": [
 {
		   "cell_type": "markdown",
	   "metadata": {},
	   "source": [
       "# Chapter 10: Digital Modulation and Demodulation"
	   ]
	},
{
		   "cell_type": "markdown",
		   "metadata": {},
		   "source": [
			"## Example 10.11: Baseband_Binary_Transmission.sce"
		   ]
		  },
  {
"cell_type": "code",
	   "execution_count": null,
	   "metadata": {
	    "collapsed": true
	   },
	   "outputs": [],
"source": [
"//Page Number: 10.28\n",
"//Example 10.11\n",
"clc;\n",
"//Given\n",
"Rb=1D+6; //b/s\n",
"T=1D-5;\n",
"N0=2*0.5D-7; //W/Hz\n",
"\n",
"//From table for Q(z)=10^-5\n",
"z=4.25;\n",
"\n",
"//As z=sqrt(A*A*T/2*N0)\n",
"x=((z^2)*2*N0)/T;\n",
"A=sqrt(x);\n",
"disp(A,'Required value of A:');\n",
"\n",
"//(b) Bandwidth\n",
"//B=1/(2*(T/2))\n",
"//Therefore B=1/T\n",
"B=(1/T);\n",
"disp('Hz',B,'Bandwidth:');"
   ]
   }
,
{
		   "cell_type": "markdown",
		   "metadata": {},
		   "source": [
			"## Example 10.17: On_Off_Binary_System.sce"
		   ]
		  },
  {
"cell_type": "code",
	   "execution_count": null,
	   "metadata": {
	    "collapsed": true
	   },
	   "outputs": [],
"source": [
"//Page Number: 10.33\n",
"//Example 10.17\n",
"clc;\n",
"//Given\n",
"A=0.2D-3; //V\n",
"T=2D-6; //s\n",
"n=2*1D-15; //W/Hz\n",
"\n",
"\n",
"//Pe=Q(z)\n",
"//where\n",
"x=(A*A*T)/(4*n);\n",
"z=sqrt(x);\n",
"Pe=(1/2)*erfc(z/1.414);\n",
"disp(Pe,'Error probability:');"
   ]
   }
,
{
		   "cell_type": "markdown",
		   "metadata": {},
		   "source": [
			"## Example 10.18: Binary_System.sce"
		   ]
		  },
  {
"cell_type": "code",
	   "execution_count": null,
	   "metadata": {
	    "collapsed": true
	   },
	   "outputs": [],
"source": [
"//Page Number: 10.34\n",
"//Example 10.18\n",
"clc;\n",
"//Given\n",
"A=0.2D-3; //V\n",
"A1=A/1.414;\n",
"\n",
"T=2D-6; //s\n",
"n=2*1D-15; //W/Hz\n",
"\n",
"\n",
"//Pe=Q(z)\n",
"//where\n",
"x=(A1*A1*T)/(n);\n",
"z=sqrt(x);\n",
"Pe=(1/2)*erfc(z/1.414);\n",
"disp(Pe,'Error probability:');"
   ]
   }
,
{
		   "cell_type": "markdown",
		   "metadata": {},
		   "source": [
			"## Example 10.19: Binary_Data_Transmission.sce"
		   ]
		  },
  {
"cell_type": "code",
	   "execution_count": null,
	   "metadata": {
	    "collapsed": true
	   },
	   "outputs": [],
"source": [
"//Page Number: 10.35\n",
"//Example 10.19\n",
"clc;\n",
"//Given\n",
"d12sqr=8;\n",
"N0=2*0.5; //W/Hz\n",
"\n",
"//(c)\n",
"//As for two equiprobables\n",
"//Pe=Q(z)\n",
"//where z=sqrt(d12^2)/sqrt(2*N0)\n",
"z=sqrt((d12sqr)/(2*N0));\n",
"Pe=(1/2)*erfc(z/1.414);\n",
"disp(Pe,'Probabilty error:')"
   ]
   }
,
{
		   "cell_type": "markdown",
		   "metadata": {},
		   "source": [
			"## Example 10.1: Binary_Reciever.sce"
		   ]
		  },
  {
"cell_type": "code",
	   "execution_count": null,
	   "metadata": {
	    "collapsed": true
	   },
	   "outputs": [],
"source": [
"//Page Number: 10.18\n",
"//Example 10.1\n",
"clc;\n",
"//Given\n",
"Rb=1D+6; //b/s\n",
"A=5D-3; //V\n",
"N0=0.5D-11; //W/Hz\n",
"\n",
"Tb=1/Rb;\n",
"Eb=(A*A*Tb)/2;\n",
"\n",
"//(a) ASK\n",
"//Pe=Q(x)\n",
"//where\n",
"xA=sqrt(Eb/N0);\n",
"\n",
"PeA=(1/2)*erfc(xA/1.414);\n",
"disp(PeA,'For ASK:');\n",
"\n",
"//(b) PSK\n",
"//Pe=Q(x)\n",
"//where\n",
"xP=sqrt((2*Eb)/N0);\n",
"\n",
"PeP=(1/2)*erfc(xP/1.414);\n",
"disp(PeP,'For PSK:');\n",
"\n",
"//(c) FSK\n",
"//Pe=Q(x)\n",
"//where\n",
"xF=sqrt(Eb/N0);\n",
"\n",
"PeF=(1/2)*erfc(xF/1.414);\n",
"disp(PeF,'For FSK:');\n",
"\n",
""
   ]
   }
,
{
		   "cell_type": "markdown",
		   "metadata": {},
		   "source": [
			"## Example 10.20: Binary_Communication.sce"
		   ]
		  },
  {
"cell_type": "code",
	   "execution_count": null,
	   "metadata": {
	    "collapsed": true
	   },
	   "outputs": [],
"source": [
"//Page Number: 10.36\n",
"//Example 10.20\n",
"clc;\n",
"//Given\n",
"c=sqrt(2);\n",
"A=sqrt(5);\n",
"N0=1; //W/Hz\n",
"\n",
"d12sqr=4*A*A;\n",
"\n",
"//As for two equiprobables\n",
"//Pe=Q(z)\n",
"//where z=sqrt(d12^2)/(2*N0)\n",
"z=sqrt((d12sqr)/(sqrt(2*N0)));\n",
"Pe=(1/2)*erfc(z/1.414);\n",
"disp(Pe,'Probabilty error:')"
   ]
   }
,
{
		   "cell_type": "markdown",
		   "metadata": {},
		   "source": [
			"## Example 10.24: Voice_Transmission_BPSK.sce"
		   ]
		  },
  {
"cell_type": "code",
	   "execution_count": null,
	   "metadata": {
	    "collapsed": true
	   },
	   "outputs": [],
"source": [
"//Page Number: 10.41\n",
"//Example 10.24\n",
"clc;\n",
"//(a) Number of constellation Points\n",
"//Given\n",
"Rs=2400; //bps\n",
"Rb=19.2D+3; //bps\n",
"\n",
"//As Rs=Rb/log2M\n",
"M=2^(Rb/Rs);\n",
"disp(M,'Number of constellation points');\n",
"\n",
"//(b) Bandwidth efficiency\n",
"BT=2400; //Symbols/second\n",
"n=Rb/BT;\n",
"disp('bps/hz',n,'Bandwidth efficiency');\n",
""
   ]
   }
,
{
		   "cell_type": "markdown",
		   "metadata": {},
		   "source": [
			"## Example 10.25: Cohereht_Matched_Reciever.sce"
		   ]
		  },
  {
"cell_type": "code",
	   "execution_count": null,
	   "metadata": {
	    "collapsed": true
	   },
	   "outputs": [],
"source": [
"//Page Number: 10.41\n",
"//Example 10.25\n",
"clc;\n",
"//Given\n",
"A1=0.5;\n",
"A2=0.5;\n",
"T=0.01; //sec\n",
"N0=2*0.0001; //W/Hz\n",
"f=50; //Hz\n",
"\n",
"//(a) Probability of bit error\n",
"Es1=(A1^2*T)/2;\n",
"Es2=(A2^2*T)/2;\n",
"\n",
"Eb=(Es1+Es2)/2;\n",
"//As PE=Qsqrt(Ep+Eq-2Epq/2N0)\n",
"//In this case Ep=Eq=Eb\n",
"//Therefore PE=Qsqrt(Eb(1-p)/N0)\n",
"//where p=Epq/Eb\n",
"\n",
"//p=(1/Eb)*integrate('0.5*cos(2000*%pi*t)*0.5*cos(2020*%pi*t)','t',0,T);\n",
"//We get\n",
"p=0.94;\n",
"q=1-p;\n",
"//As Pe=Q(z)\n",
"//where z=sqrt(Eb/N0)\n",
"z=sqrt((Eb*q)/N0);\n",
"Pe=(1/2)*erfc(z/1.414);\n",
"disp(Pe,'Probabilty of bit error:')\n",
"\n",
"//(b)\n",
"//Given\n",
"fs=50; //Hz\n",
"//or fs=1/2T where T=0.001\n",
"//This implies y=tone spacing will be orthogonal\n",
"//Therefor p=0\n",
"\n",
"//As Pe=Q(z)\n",
"//where z=sqrt(Eb/N0)\n",
"zb=sqrt(Eb/N0);\n",
"PB=(1/2)*erfc(zb/1.414);\n",
"disp(PB,'Probabilty error for fs=50Hz:')"
   ]
   }
,
{
		   "cell_type": "markdown",
		   "metadata": {},
		   "source": [
			"## Example 10.27: M_level_PSK.sce"
		   ]
		  },
  {
"cell_type": "code",
	   "execution_count": null,
	   "metadata": {
	    "collapsed": true
	   },
	   "outputs": [],
"source": [
"//Page Number: 10.43\n",
"//Example 10.27\n",
"clc;\n",
"//Given\n",
"Rb=4.8D+3; //b/s\n",
"bw=3.2D+3; //Hz\n",
"\n",
"//BPSK can give maximum spectral efficiency of 1bps/Hz, therefore not suitable\n",
"//QPSK can give twice spectral efficiency,2bps/Hz, therefore\n",
"qpsk=2*bw;\n",
"//PSK can give thrice spectral efficiency,3bps/Hz, therefore\n",
"psk=3*bw;\n",
"\n",
"//QPSK is most suitable\n",
"Rs=Rb/2;\n",
"//Roll off Factor\n",
"a=(bw/Rs)-1;\n",
"ap=a*100;\n",
"disp('%',ap,'Roll off factor:');"
   ]
   }
,
{
		   "cell_type": "markdown",
		   "metadata": {},
		   "source": [
			"## Example 10.2: BPSK_Reciever.sce"
		   ]
		  },
  {
"cell_type": "code",
	   "execution_count": null,
	   "metadata": {
	    "collapsed": true
	   },
	   "outputs": [],
"source": [
"//Page Number: 10.19\n",
"//Example 10.2\n",
"clc;\n",
"//Given\n",
"Rb=1D+6; //b/s\n",
"\n",
"//(a)\n",
"Aa=1D-3; //V\n",
"N0=1D-11; //W/Hz\n",
"\n",
"Tb=1/Rb;\n",
"Eba=(Aa*Aa*Tb)/2;\n",
"\n",
"//Pe=Q(z)\n",
"//where\n",
"za=sqrt((2*Eba)/N0);\n",
"\n",
"Peb=(1/2)*erfc(za/1.414);\n",
"disp(Peb,'For Average bit error probability:');\n",
"\n",
"//(b) Maintain Pb=2D-3\n",
"//From table\n",
"zb=2.9;\n",
"Ebb=((zb^2)*N0)/2;\n",
"P=Ebb*Tb;\n",
"Ab=sqrt((2*P));\n",
"disp('V',Ab,'Average Power:');\n",
"\n",
"//(c)\n",
"Ac=100; //V\n",
"Rbc=1D+5; //p/s\n",
"N01=1D-2;; //W/Hz\n",
"Tbc=1/Rbc;\n",
"Ebc=(Ac*Ac*Tbc);\n",
"\n",
"zc=sqrt(((2*Ebc)/N01));\n",
"\n",
"Pec=(1/2)*erfc(zc/1.414);\n",
"//Pec=0.0000039\n",
"//nearly 10^-5\n",
"disp(10^-5,'For Average bit error probability for bipolar antipodal signals:');"
   ]
   }
,
{
		   "cell_type": "markdown",
		   "metadata": {},
		   "source": [
			"## Example 10.6: Satellite_Communication.sce"
		   ]
		  },
  {
"cell_type": "code",
	   "execution_count": null,
	   "metadata": {
	    "collapsed": true
	   },
	   "outputs": [],
"source": [
"//Page Number: 10.23\n",
"//Example 10.6\n",
"clc;\n",
"//Given\n",
"p=0.1; //dB\n",
"p1=10^(-p/10);\n",
"p2=sqrt(p1);\n",
"t=acosd(p2);\n",
"a=round(t);\n",
"disp('degrees',a,'System cannot tolerate more than:');"
   ]
   }
],
"metadata": {
		  "kernelspec": {
		   "display_name": "Scilab",
		   "language": "scilab",
		   "name": "scilab"
		  },
		  "language_info": {
		   "file_extension": ".sce",
		   "help_links": [
			{
			 "text": "MetaKernel Magics",
			 "url": "https://github.com/calysto/metakernel/blob/master/metakernel/magics/README.md"
			}
		   ],
		   "mimetype": "text/x-octave",
		   "name": "scilab",
		   "version": "0.7.1"
		  }
		 },
		 "nbformat": 4,
		 "nbformat_minor": 0
}
