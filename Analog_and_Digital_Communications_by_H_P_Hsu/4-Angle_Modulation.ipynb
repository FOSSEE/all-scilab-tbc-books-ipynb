{
"cells": [
 {
		   "cell_type": "markdown",
	   "metadata": {},
	   "source": [
       "# Chapter 4: Angle Modulation"
	   ]
	},
{
		   "cell_type": "markdown",
		   "metadata": {},
		   "source": [
			"## Example 4.13: Bandwidth.sce"
		   ]
		  },
  {
"cell_type": "code",
	   "execution_count": null,
	   "metadata": {
	    "collapsed": true
	   },
	   "outputs": [],
"source": [
"//Page Number: 4.16\n",
"//Example 4.13\n",
"clc;\n",
"//Given\n",
"//x(t)=10cos((2*pi*10^8*t)+(200cos(2*pi*10^3*t)))\n",
"//on differentiating\n",
"//wi=2*pi*(1D+8)-4*pi*sin(2*pi*(1D+3)*t)\n",
"//Therefore\n",
"delw=4*%pi*(1D+5);\n",
"wm=2*%pi*(1D+3);\n",
"\n",
"B=delw/wm;\n",
"wb=2*(B+1)*wm;\n",
"fb=wb/2*%pi;\n",
"\n",
"disp('rad/s',wb, 'Wb');\n",
"\n",
"disp('Hz',fb, 'Fb');\n",
""
   ]
   }
,
{
		   "cell_type": "markdown",
		   "metadata": {},
		   "source": [
			"## Example 4.14: Modulation_Index.sce"
		   ]
		  },
  {
"cell_type": "code",
	   "execution_count": null,
	   "metadata": {
	    "collapsed": true
	   },
	   "outputs": [],
"source": [
"//Page Number: 4.17\n",
"//Example 4.14\n",
"clc;\n",
"\n",
"//Given\n",
"delf=100D+3; //Hz\n",
"fc=20D+6; //Hz\n",
"\n",
"//As B=delf/fm;\n",
"//(a) fm1=1D+3hz\n",
"disp('Part a')\n",
"fm1=1D+3; //Hz\n",
"B1=delf/fm1;\n",
"disp(B1,'Modulation Index');\n",
"\n",
"fb1=2*delf;\n",
"disp('Hz',fb1,'Bandwidth');\n",
"\n",
"//(b) fm2=100D+3hz\n",
"disp('Part b')\n",
"fm2=100D+3; //Hz\n",
"B2=delf/fm2;\n",
"disp(B2,'Modulation Index');\n",
"\n",
"fb2=2*(B2+1)*fm2;\n",
"disp('Hz',fb2,'Bandwidth');\n",
"\n",
"//(c) fm3=500D+3hz\n",
"disp('Part c')\n",
"fm3=500D+3; //Hz\n",
"B3=delf/fm3;\n",
"disp(B3,'Modulation Index');\n",
"\n",
"fb3=2*fm3;\n",
"disp('Hz',fb3,'Bandwidth');\n",
"\n",
"\n",
""
   ]
   }
,
{
		   "cell_type": "markdown",
		   "metadata": {},
		   "source": [
			"## Example 4.15: changed_fm.sce"
		   ]
		  },
  {
"cell_type": "code",
	   "execution_count": null,
	   "metadata": {
	    "collapsed": true
	   },
	   "outputs": [],
"source": [
"//Page Number: 4.17\n",
"//Example 4.15\n",
"clc;\n",
"//Given\n",
"//x(t)=10cos(wct+3sinwmt)\n",
"//Comparing with standard equation\n",
"B=3;\n",
"fm=1D+3; //hz\n",
"fb=2*(B+1)*fm;\n",
"\n",
"//(a)fm is doubled\n",
"fma=2*fm;\n",
"fba=2*(B+1)*fma;\n",
"disp(fba,'fb with 2fm: ');\n",
"\n",
"\n",
"\n",
"//(b)fm is one halved\n",
"fmb=fm/2;\n",
"fbb=2*(B+1)*fmb;\n",
"disp(fbb,'fb with 0.5fm: ');\n",
""
   ]
   }
,
{
		   "cell_type": "markdown",
		   "metadata": {},
		   "source": [
			"## Example 4.16: Using_FM.sce"
		   ]
		  },
  {
"cell_type": "code",
	   "execution_count": null,
	   "metadata": {
	    "collapsed": true
	   },
	   "outputs": [],
"source": [
"//Page Number: 4.18\n",
"//Example 4.15\n",
"clc;\n",
"//Given\n",
"//x(t)=10cos(wct+3sinwmt)\n",
"//Comparing with standard equation of fm\n",
"B=3;\n",
"fm=1D+3; //hz\n",
"fb=2*(B+1)*fm;\n",
"\n",
"//B is inversaly proportional to fm\n",
"\n",
"//(a)fm is doubled\n",
"Ba=B/2;\n",
"fma=2*fm;;\n",
"fba=2*(Ba+1)*fma;\n",
"disp(fba,'fb with 2fm: ');\n",
"\n",
"\n",
"\n",
"//(b)fm is one halved\n",
"Bb=2*B;\n",
"fmb=fm/2;\n",
"fbb=2*(Bb+1)*fmb;\n",
"disp(fbb,'fb with 0.5fm: ');"
   ]
   }
,
{
		   "cell_type": "markdown",
		   "metadata": {},
		   "source": [
			"## Example 4.17: Frequency_Modulated.sce"
		   ]
		  },
  {
"cell_type": "code",
	   "execution_count": null,
	   "metadata": {
	    "collapsed": true
	   },
	   "outputs": [],
"source": [
"//Page Number: 4.18\n",
"//Example 4.17\n",
"clc;\n",
"//Given\n",
"fm=2D+3; //Hz\n",
"delf=5D+3; //Hz\n",
"\n",
"//(a) Bandwidth of modulated signal\n",
"B=delf/fm;\n",
"\n",
"fb=2*(B+1)*fm;\n",
"disp('Hz',fb,'Bandwidth');\n",
"\n",
"//(b)Max. frequency deviation and Bandwidth of new signal\n",
"//Given\n",
"fm1=fm-(1D+3);\n",
"delf1=3*delf;\n",
"\n",
"B1=delf1/fm1;\n",
"\n",
"fd=B1*fm1;\n",
"disp('Hz',fd,'Maximum frequency deviation');\n",
"\n",
"fb1=2*(B1+1)*fm1;\n",
"disp('Hz',fb1,'Bandwidth');"
   ]
   }
,
{
		   "cell_type": "markdown",
		   "metadata": {},
		   "source": [
			"## Example 4.18: Carsons_rule.sce"
		   ]
		  },
  {
"cell_type": "code",
	   "execution_count": null,
	   "metadata": {
	    "collapsed": true
	   },
	   "outputs": [],
"source": [
"//Page Number: 4.19\n",
"//Example 4.18\n",
"clc;\n",
"//Given\n",
"delf=75D+3; //Hz\n",
"fM=15D+3; //Hz\n",
"\n",
"D=delf/fM;\n",
"//Given formula fb=2(D+2)*fM\n",
"fb1=2*(D+2)*fM;\n",
"disp('Hz',fb1,'BW uing formula');\n",
"\n",
"//Carsons Rule\n",
"fb2=2*(D+1)*fM;\n",
"disp('Hz',fb2,'BW uing Carsons Rule');\n",
"\n",
"//High quality Fm radios require minimum 200kHz\n",
"//Therefore, carsons rule underestimates bandwidth"
   ]
   }
,
{
		   "cell_type": "markdown",
		   "metadata": {},
		   "source": [
			"## Example 4.19: Frequency_Multiplier.sce"
		   ]
		  },
  {
"cell_type": "code",
	   "execution_count": null,
	   "metadata": {
	    "collapsed": true
	   },
	   "outputs": [],
"source": [
"//Page Number: 4.19\n",
"//Example 4.19\n",
"clc;\n",
"//Given\n",
"fm1=50; //Hz\n",
"fm2=15D+3; //Hz\n",
"\n",
"delf=75D+3; //Hz\n",
"\n",
"//As B=delf/fm\n",
"Bmin=delf/fm2;\n",
"Bmax=delf/fm1;\n",
"\n",
"//Let B1=0.5\n",
"B1=0.5;\n",
"n=(Bmax/B1);\n",
"disp(n,'Multiplication factor');\n",
"\n",
"delf1=(delf/n);\n",
"disp('Hz',delf1,'Max allowed frequency deviation');"
   ]
   }
,
{
		   "cell_type": "markdown",
		   "metadata": {},
		   "source": [
			"## Example 4.20: FM_Transmitter.sce"
		   ]
		  },
  {
"cell_type": "code",
	   "execution_count": null,
	   "metadata": {
	    "collapsed": true
	   },
	   "outputs": [],
"source": [
"//Page Number: 4.20\n",
"//Example 4.20\n",
"clc;\n",
"//Given\n",
"f1=2D+5; //Hz\n",
"fLO=10.8D+6; //Hz\n",
"delf1=25; //Hz\n",
"n1=64;\n",
"n2=48;\n",
"\n",
"delf=(delf1*n1*n2);\n",
"disp('Hz',delf,'Maximum frequency deviation');\n",
"\n",
"f2=n1*f1;\n",
"\n",
"f3a=f2+fLO;\n",
"f3b=f2-fLO;\n",
"\n",
"//For f3a\n",
"fca=n2*f3a;\n",
"disp('Hz',fca,'Carrier frequency 1');\n",
"\n",
"//For f3b\n",
"fcb=n2*f3b;\n",
"disp('Hz',fcb,'Carrier frequency 2');"
   ]
   }
,
{
		   "cell_type": "markdown",
		   "metadata": {},
		   "source": [
			"## Example 4.21: FM_Modulator.sce"
		   ]
		  },
  {
"cell_type": "code",
	   "execution_count": null,
	   "metadata": {
	    "collapsed": true
	   },
	   "outputs": [],
"source": [
"//Page Number: 4.20\n",
"//Example 4.21\n",
"clc;\n",
"//Given\n",
"delf=20D+3; //Hz\n",
"fc=200D+3; //Hz\n",
"of=96D+6; //hz\n",
"//delf=n1*n2 and as only doublers are used, n1*n2 has to be power of 2\n",
"//By trail and error, we find\n",
"n1=64;\n",
"n2=32;\n",
"//Output of first Multiplier\n",
"o1=n1*fc;\n",
"disp('Hz',o1,'Output of first multiplier: ');\n",
"i2=of/n2;\n",
"flo=o1-i2;\n",
"disp('Hz',flo,'fLO');"
   ]
   }
,
{
		   "cell_type": "markdown",
		   "metadata": {},
		   "source": [
			"## Example 4.22: FM_generator.sce"
		   ]
		  },
  {
"cell_type": "code",
	   "execution_count": null,
	   "metadata": {
	    "collapsed": true
	   },
	   "outputs": [],
"source": [
"//Page Number: 4.20\n",
"//Example 4.22\n",
"clc;\n",
"//Given\n",
"B=0.2; \n",
"f1=200D+3; //Hz\n",
"fml=50; //Hz\n",
"fmh=15D+3; //Hz\n",
"delf=75D+3; //hz\n",
"fc=108D+6; //Hz\n",
"\n",
"delf1=B*fml;\n",
"n1n2=delf/delf1;\n",
"\n",
"//Let n2=150\n",
"n2=150;\n",
"flo=((delf*f1)-fc)/n2;\n",
"disp('Hz',flo,'fLO');\n",
"\n",
"n1=n1n2/n2;\n",
"disp(n1, 'n1 with n2=150:')"
   ]
   }
,
{
		   "cell_type": "markdown",
		   "metadata": {},
		   "source": [
			"## Example 4.23: Multiplication_Factor.sce"
		   ]
		  },
  {
"cell_type": "code",
	   "execution_count": null,
	   "metadata": {
	    "collapsed": true
	   },
	   "outputs": [],
"source": [
"//Page Number: 4.21\n",
"//Example 4.23\n",
"clc;\n",
"//Given,\n",
"\n",
"delfd1=50; //Hz\n",
"f1=120; //Hz\n",
"\n",
"delfd2=20000; //Hz\n",
"f2=240; //Hz\n",
"//(a)PM\n",
"delf1=(f2/f1)*delfd1;\n",
"n1=delfd2/delf1;\n",
"disp(n1,'Frequency multiplication factor in PM');\n",
"\n",
"//(b)FM\n",
"n2=delfd2/delfd1;\n",
"disp(n2,'Frequency multiplication factor in FM');\n",
""
   ]
   }
,
{
		   "cell_type": "markdown",
		   "metadata": {},
		   "source": [
			"## Example 4.29: Superheterodyne_Receiver.sce"
		   ]
		  },
  {
"cell_type": "code",
	   "execution_count": null,
	   "metadata": {
	    "collapsed": true
	   },
	   "outputs": [],
"source": [
"//Page Number: 4.25\n",
"//Example 4.29\n",
"clc;\n",
"//Given,\n",
"f1=108; //MHz\n",
"f2=157; //MHz\n",
"\n",
"//(a) Image frequency overlaps RF band\n",
"fIF=12; //MHz\n",
"\n",
"fL01=f1-fIF;\n",
"disp('MHz',fL01,'fL01');\n",
"fim1=fL01-fIF;\n",
"disp('MHz',fim1,'fim1');\n",
"\n",
"fL02=f2-fIF;\n",
"disp('MHz',fL02,'fL02');\n",
"fim2=fL02-fIF;\n",
"disp('MHz',fim2,'fim2');\n",
"\n",
"//Clearly image and RF band overlap"
   ]
   }
,
{
		   "cell_type": "markdown",
		   "metadata": {},
		   "source": [
			"## Example 4.3: Instantaneous_frequency.sce"
		   ]
		  },
  {
"cell_type": "code",
	   "execution_count": null,
	   "metadata": {
	    "collapsed": true
	   },
	   "outputs": [],
"source": [
"//Page Number: 4.9\n",
"//Example 4.3\n",
"clc;\n",
"//Given\n",
"fc=1D+6; //Hz\n",
"kf=5;\n",
"mt=1D+5; //Hz\n",
"\n",
"//(a) mi(t) with fm\n",
"mi=(fc+(kf*mt));\n",
"disp('Hz',mi,'Max, Inst. Frequency with FM');\n",
"\n",
"kp=3;\n",
"//(b) mi2(t) with pm\n",
"mi2=fc+(mt*(kp/(2*%pi)));\n",
"\n",
"disp('Hz',mi2,'Max, Inst. Frequency with PM');"
   ]
   }
,
{
		   "cell_type": "markdown",
		   "metadata": {},
		   "source": [
			"## Example 4.9: Peak_frequency.sce"
		   ]
		  },
  {
"cell_type": "code",
	   "execution_count": null,
	   "metadata": {
	    "collapsed": true
	   },
	   "outputs": [],
"source": [
"//Page Number: 4.13\n",
"//Example 4.9\n",
"clc;\n",
"//Given\n",
"delf=20D+3; //hz\n",
"fm=10D+3; //Hz\n",
"\n",
"B=delf/fm;\n",
"disp(B, 'Beta: ');"
   ]
   }
],
"metadata": {
		  "kernelspec": {
		   "display_name": "Scilab",
		   "language": "scilab",
		   "name": "scilab"
		  },
		  "language_info": {
		   "file_extension": ".sce",
		   "help_links": [
			{
			 "text": "MetaKernel Magics",
			 "url": "https://github.com/calysto/metakernel/blob/master/metakernel/magics/README.md"
			}
		   ],
		   "mimetype": "text/x-octave",
		   "name": "scilab",
		   "version": "0.7.1"
		  }
		 },
		 "nbformat": 4,
		 "nbformat_minor": 0
}
