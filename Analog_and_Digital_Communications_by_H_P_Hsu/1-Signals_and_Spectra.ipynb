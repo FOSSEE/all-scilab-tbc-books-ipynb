{
"cells": [
 {
		   "cell_type": "markdown",
	   "metadata": {},
	   "source": [
       "# Chapter 1: Signals and Spectra"
	   ]
	},
{
		   "cell_type": "markdown",
		   "metadata": {},
		   "source": [
			"## Example 1.10: Exponential_function.sce"
		   ]
		  },
  {
"cell_type": "code",
	   "execution_count": null,
	   "metadata": {
	    "collapsed": true
	   },
	   "outputs": [],
"source": [
"//Page Number: 1.14\n",
"//Example 1.10\n",
"clc;\n",
"//Given,\n",
"//Signal is x(t)= e^|-a|t * u(t)\n",
"//unity function u(t)=1 for 0 to infinity \n",
"//therefore\n",
"x=1;\n",
"//We assume 'infinity' value as 10 and the value of 'a' is 1\n",
"t= 0:1:10;\n",
"a1=1;// For a >0\n",
"a2=-1; //For a <0\n",
"z=((%e)^(a2*t) * x)+((%e)^(a1*t) * x);\n",
"y=fft(z);\n",
"disp(y,'fourier transform of x(t)=');"
   ]
   }
,
{
		   "cell_type": "markdown",
		   "metadata": {},
		   "source": [
			"## Example 1.11: Rectangular_Function.sce"
		   ]
		  },
  {
"cell_type": "code",
	   "execution_count": null,
	   "metadata": {
	    "collapsed": true
	   },
	   "outputs": [],
"source": [
"//Page Number: 1.14\n",
"//Example 1.11\n",
"clc;\n",
"\n",
"//(a)\n",
"\n",
"//Given\n",
"//Signal is x(t) = rect(t)\n",
"//rect(t) = 1 for -a< |t| < a and 0 elsewhere\n",
"//Therefore\n",
"//We find out fourier transform of x(t)= 1 for -a< |t| < a thus,\n",
"x=1;\n",
"a= 200; //Assume \n",
"t= -a : 1 : a; //range for fourier transform\n",
"y=fft(x);\n",
"disp(y,'Fourier transform of x(t)=');\n",
"\n",
"\n",
"//(b)\n",
"\n",
"//Given\n",
"//Signal is x(t) = rect(t)\n",
"//rect(t) = 1 for -a/4< |t| < a/4 and 0 elsewhere\n",
"//Therefore\n",
"//We find out fourier transform of x(t)= 1 for -a/4< |t| < a/4 thus,\n",
"x=1;\n",
"a= 200; //Assume \n",
"t= -a/4 : 1 : a/4;//range for fourer transform\n",
"y=fft(x);\n",
"disp(y,'Fourier transform of x(t)=');\n",
"\n",
"//(c)\n",
"\n",
"//Given\n",
"//Signal is x(t) = rect(t)\n",
"//rect(t) = 1 for b < |t| < b + a/2 and 0 elsewhere\n",
"//Therefore\n",
"//We find out fourier transform of x(t)= 1 for b < |t| < b+ a/2 thus,\n",
"x=1;\n",
"a= 200; //Assume \n",
"b=100; //Assume\n",
"t= b : 1 : (b+(a/2));//range for fourer transform\n",
"y=fft(x);\n",
"disp(y,'Fourier transform of x(t)=');\n",
""
   ]
   }
,
{
		   "cell_type": "markdown",
		   "metadata": {},
		   "source": [
			"## Example 1.9: FT_of_exponential_with_step_function.sce"
		   ]
		  },
  {
"cell_type": "code",
	   "execution_count": null,
	   "metadata": {
	    "collapsed": true
	   },
	   "outputs": [],
"source": [
"//Page Number: 1.13\n",
"//Example 1.9\n",
"clc;\n",
"//Given,\n",
"//Signal is x(t)= e^(-at) * u(t)\n",
"//unity function u(t)=1 for 0 to infinity \n",
"//therefore\n",
"x=1;\n",
"//We assume 'infinity' value as 10 and the value of 'a' is 1\n",
"t= 0:1:10;\n",
"a=1;// a >0\n",
"z=((%e)^(-a*t) * x);\n",
"y=fft(z);\n",
"disp(y,'fourier transform of x(t)=');"
   ]
   }
],
"metadata": {
		  "kernelspec": {
		   "display_name": "Scilab",
		   "language": "scilab",
		   "name": "scilab"
		  },
		  "language_info": {
		   "file_extension": ".sce",
		   "help_links": [
			{
			 "text": "MetaKernel Magics",
			 "url": "https://github.com/calysto/metakernel/blob/master/metakernel/magics/README.md"
			}
		   ],
		   "mimetype": "text/x-octave",
		   "name": "scilab",
		   "version": "0.7.1"
		  }
		 },
		 "nbformat": 4,
		 "nbformat_minor": 0
}
