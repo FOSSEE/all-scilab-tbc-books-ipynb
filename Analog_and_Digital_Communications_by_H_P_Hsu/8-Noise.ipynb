{
"cells": [
 {
		   "cell_type": "markdown",
	   "metadata": {},
	   "source": [
       "# Chapter 8: Noise"
	   ]
	},
{
		   "cell_type": "markdown",
		   "metadata": {},
		   "source": [
			"## Example 8.10: Receiver_Noise_Power.sce"
		   ]
		  },
  {
"cell_type": "code",
	   "execution_count": null,
	   "metadata": {
	    "collapsed": true
	   },
	   "outputs": [],
"source": [
"//Page Number: 8.12\n",
"//Example 8.10\n",
"clc;\n",
"\n",
"\n",
"//Given\n",
"K=1.38D-23;\n",
"B=40D+6;\n",
"\n",
"Tant=600; //Kelvin\n",
"Trec=3000; //Kelvin\n",
"\n",
"G=80; //dB\n",
"GG=(10^(G/10));\n",
"\n",
"//Input noise power from antenna\n",
"Nant=K*Tant*B; //W\n",
"disp('W',Nant,'Nant=');\n",
"\n",
"Nrec=K*Trec*B; //W\n",
"disp('W',Nrec,'Nant=');\n",
"\n",
"Nout=(Nant+Nrec)*GG;\n",
"disp('W',Nout,'Reciver Noise Power Output');\n",
""
   ]
   }
,
{
		   "cell_type": "markdown",
		   "metadata": {},
		   "source": [
			"## Example 8.11: Cascade_Amplifiers_A_and_B.sce"
		   ]
		  },
  {
"cell_type": "code",
	   "execution_count": null,
	   "metadata": {
	    "collapsed": true
	   },
	   "outputs": [],
"source": [
"//Page Number: 8.12\n",
"//Example 8.11\n",
"clc;\n",
"\n",
"//We use, F=(F1+(F2-1)/G1)\n",
"//Given\n",
"FA=1.5; \n",
"\n",
"GA=10, //dB\n",
"GAA=(10^(GA/10));\n",
"\n",
"FB=3; //dB\n",
"FBB=(10^(FB/10));\n",
"\n",
"GB=15, //dB\n",
"GBB=(10^(GB/10));\n",
"\n",
"//Case 1: Amp A followed by Amp B\n",
"F11=FA;\n",
"F12=FBB;\n",
"G11=GAA;\n",
"\n",
"F1=(F11+(F12-1)/G11);\n",
"disp(F1,'Gain when Amp A followed by Amp B');\n",
"\n",
"//Case 2: Amp B followed by Amp A\n",
"F21=FBB;\n",
"F22=FA;\n",
"G21=GBB;\n",
"\n",
"F2=(F21+(F22-1)/G21);\n",
"disp(F2,'Gain when Amp B followed by Amp A');\n",
"\n",
"//As F1<F2, Case 1 gives lowest Noise\n",
"\n",
"//Also given,\n",
"T0=20 //degree celsius\n",
"T=T0+273; //Kelvin\n",
"\n",
"//For amplifier A\n",
"TA=((FA-1)*T);\n",
"\n",
"//For amplifier B\n",
"TB=((FBB-1)*T);\n",
"\n",
"//When A is followed by B\n",
"Te1=(F1-1)*T;\n",
"disp(Te1,'Noise temperataure when Amp A followed by Amp B');\n",
"\n",
"//When B is followed by A\n",
"Te2=(F2-1)*T;\n",
"disp(Te2,'Noise temperataure when Amp B followed by Amp A');\n",
"\n",
""
   ]
   }
,
{
		   "cell_type": "markdown",
		   "metadata": {},
		   "source": [
			"## Example 8.12: Distortion_Component.sce"
		   ]
		  },
  {
"cell_type": "code",
	   "execution_count": null,
	   "metadata": {
	    "collapsed": true
	   },
	   "outputs": [],
"source": [
"//Page Number: 8.13\n",
"//Example 8.12\n",
"clc;\n",
"//Given, Noise figure\n",
"NF=2; //dB\n",
"F=(10^(NF/10));\n",
"\n",
"AG=12; //dB\n",
"A=(10^(AG/10));\n",
"\n",
"//(a)Total Output Noise Power\n",
"\n",
"//Also given,Input signal power \n",
"Pi=1; //W\n",
"\n",
"//Input Noise power Pni\n",
"Pni=100D-3; //W\n",
"\n",
"//Input SNR\n",
"Isnr=Pi/Pni;\n",
"\n",
"//Output SNR\n",
"Osnr=Isnr/F;\n",
"\n",
"//Total output signal power\n",
"Po=Pi*A; //W\n",
"\n",
"//Total output noise power\n",
"N=Po/Osnr; //W\n",
"disp('W',N,'Total Output Noise Power');\n",
"\n",
"//(b)Signal to Noise and disortion ratio\n",
"\n",
"//Given. 2% is disortion\n",
"Di=2/100;\n",
"\n",
"//Total disortion\n",
"D=Di*A; //W\n",
"\n",
"//Useful Power\n",
"S=(1-Di)*A; //W\n",
"\n",
"//As given,SNAD=10*(log10(S+N+D)/(N+D));\n",
"SNAD=10*(log10((S+N+D)/(N+D)));\n",
"disp('dB',SNAD,'SNAD:');"
   ]
   }
,
{
		   "cell_type": "markdown",
		   "metadata": {},
		   "source": [
			"## Example 8.13: Receiver_Antenna_System.sce"
		   ]
		  },
  {
"cell_type": "code",
	   "execution_count": null,
	   "metadata": {
	    "collapsed": true
	   },
	   "outputs": [],
"source": [
"//Page Number: 8.14\n",
"//Example 8.13\n",
"clc;\n",
"//Given\n",
"Pni=-100; //dBm\n",
"PniW=((1D-3)*(10^(Pni/10)));\n",
"\n",
"To=290; //K\n",
"\n",
"F=1.6; //dB\n",
"NF=(10^(F/10));\n",
"\n",
"//(a) Noise tempertaure of antenna\n",
"//As Te=Pni/K*B;\n",
"K=1.38D-23;\n",
"B=20D+6;\n",
"Te=(PniW/(K*B));\n",
"disp('K',Te,'Noise tempertaure of antenna');\n",
"\n",
"//(b)Effective noise tempertaure\n",
"//Given,\n",
"G=30; //dB\n",
"GdB=(10^(G/10));\n",
"\n",
"Tef=((NF-1)*To);\n",
"disp('K',Tef,'Effective Noise tempertaure');\n",
"\n",
"//Output Noise Pno=K*T(Te+Tef)*B*GdB\n",
"\n",
"Pno=K*(Te+Tef)*B*GdB; //W\n",
"Pno1=(10*(log10(Pno/1D-3)));\n",
"disp('dBm',Pno1,'Output Noise: ');\n",
""
   ]
   }
,
{
		   "cell_type": "markdown",
		   "metadata": {},
		   "source": [
			"## Example 8.14: TV_Recievers.sce"
		   ]
		  },
  {
"cell_type": "code",
	   "execution_count": null,
	   "metadata": {
	    "collapsed": true
	   },
	   "outputs": [],
"source": [
"//Page Number: 8.14\n",
"//Example 8.14\n",
"clc;\n",
"//Given\n",
"GG1=20;//dB\n",
"G1=(10^(GG1/10));\n",
"\n",
"FF1=6;//dB\n",
"F1=(10^(FF1/10));\n",
"\n",
"GG2=60;//dB\n",
"G2=(10^(GG2/10));\n",
"\n",
"FF2=16;//dB\n",
"F2=(10^(FF2/10));\n",
"\n",
"LF=3; //dB\n",
"FC=(10^(LF/10));\n",
"GC=1/FC;\n",
"\n",
"//(a)Overall Noise Figure\n",
"//Usinng F=(F1+((F2-1)/G1)+((F3-1)(G1*G2)));\n",
"\n",
"Fa=(F1+((FC-1)/G1)+((F2-1)/(G1*GC)));\n",
"FadB=(10*(log10(Fa)));\n",
"disp('db',FadB,'Overall Noise Figure:');\n",
"\n",
"\n",
"//(b)Noise figure, if pre-amplifier is removed and gain increased by 20dB\n",
"\n",
"Fb=FC+((F2-1)/GC);\n",
"FbdB=(10*(log10(Fb)));\n",
"disp('db',FbdB,'Overall Noise Figure:');\n",
"\n",
"//(c)Change in noise figure\n",
"//Again usinng F=(F1+((F2-1)/G1)+((F3-1)(G1*G2)));\n",
"Fc=(FC+((F1-1)/GC)+((F2-1)/(G1*GC)));\n",
"FcdB=(10*(log10(Fc)));\n",
"\n",
"disp('db',FcdB,'Overall Noise Figure:');"
   ]
   }
,
{
		   "cell_type": "markdown",
		   "metadata": {},
		   "source": [
			"## Example 8.15: Reciever.sce"
		   ]
		  },
  {
"cell_type": "code",
	   "execution_count": null,
	   "metadata": {
	    "collapsed": true
	   },
	   "outputs": [],
"source": [
"//Page Number: 8.15\n",
"//Example 8.15\n",
"clc;\n",
"\n",
"//Given Noise figure\n",
"NF=5; //dB\n",
"F=(10^(NF/10));\n",
"\n",
"Ta=1050; //Kelvin\n",
"\n",
"//(a) Overall Noise Figure\n",
"T=20; // degree Celsius\n",
"To=T+273; //Kelvin\n",
"\n",
"//Effective Noise temperature\n",
"Te=((F-1)*To);\n",
"disp('K',Te,'Effective Noise temperature');\n",
"\n",
"//Overall effective Noise Temperature\n",
"TIN=Ta+Te;\n",
"disp('K',TIN,'Overall Effective Noise temperature');\n",
"\n",
"//Overall noise figure\n",
"ONF=(1+(TIN/To));\n",
"ONFdB=(10*(log10(ONF))); //dB\n",
"\n",
"disp('dB',ONFdB,'Overall Noise Figure:');\n",
"\n",
"\n",
"//(b)Input Signal Power\n",
"//Given Output SNR\n",
"Outsnr=6; //dB\n",
"Osnr=(10^(Outsnr/10));\n",
"\n",
"Isnr=ONF*Osnr;\n",
"\n",
"//Input Noise Power=KTB\n",
"K=1.38D-23;\n",
"B=50000;\n",
"Pni=K*TIN*B; //W\n",
"\n",
"//Input signal Power\n",
"Psi=Isnr*Pni; //W\n",
"PsidBW=(10*(log10(Psi/1))); //dBW\n",
"disp('dBW',PsidBW,'Input signal Power:');\n",
"\n",
"\n",
"//(c)Minimum detectable signal Vmin\n",
"//Given\n",
"Osnr=10; //dB\n",
"R=50; //Ohms\n",
"\n",
"FF1=3; //dB\n",
"F1=(10^(FF1/10));\n",
"\n",
"FF2=5; //dB\n",
"F2=(10^(FF2/10));\n",
"\n",
"GG1=7; \n",
"G1=(10^(GG1/10));\n",
"//Using F=F1+((F2-1)/G1)\n",
"\n",
"Fa=F1+((F2-1)/G1);\n",
"\n",
"Fa1=(10*(log10(Fa)));\n",
"\n",
"//Equivalent Noise Tempertaure\n",
"Te1=((Fa-1)*To);\n",
"disp('K',Te1,'Equivalent Noise temperature:');\n",
"\n",
"//Overall effective Noise Temperature\n",
"TIN1=Ta+Te1;\n",
"disp('K',TIN1,'Effective Noise temperature:');\n",
"\n",
"//Input Noise Power=KTB\n",
"Pni1=K*TIN1*B; //W\n",
"\n",
"//Overall noise figure\n",
"ONF1=(1+(TIN1/To));\n",
"ONFdB1=(10*(log10(ONF)));\n",
"disp('W',ONFdB1,'Overall Noise Figure:');\n",
"\n",
"//Input SNR\n",
"Isnr1=ONF1*Osnr;\n",
"\n",
"//Input signal Power\n",
"Psi1=Isnr1*Pni; //W\n",
"disp('W',Psi1,'Input Signal Power:');\n",
"\n",
"//Now as Vmin^2/R=Psi1\n",
"//Therefore\n",
"Vmin=sqrt(Psi1*R);\n",
"disp('V',Vmin,'Minimum detectable signal Vmin:');\n",
"\n",
"\n",
"\n",
"\n",
"\n",
"\n",
"\n",
"\n",
"\n",
"\n",
"\n",
""
   ]
   }
,
{
		   "cell_type": "markdown",
		   "metadata": {},
		   "source": [
			"## Example 8.18: Repeaters.sce"
		   ]
		  },
  {
"cell_type": "code",
	   "execution_count": null,
	   "metadata": {
	    "collapsed": true
	   },
	   "outputs": [],
"source": [
"//Page Number: 8.18\n",
"//Example 8.18\n",
"clc;\n",
"//Given, \n",
"\n",
"Fa=5; //dB\n",
"d=200; //Km\n",
"a=2; //dB/Km\n",
"No=4D-21; //W/Hz\n",
"BW=4000;\n",
"Osnr=30; //dB\n",
"//(a) No repeaters used\n",
"L=d*a; //dB\n",
"disp('dB',L,'Noise figure:');\n",
"\n",
"//As Output SNR=InputSNR/F where F=L*Fa\n",
"//And Input SNR=(Pt/(No*B))\n",
"//Therefore,PT=Output SNR+L+Fa+(No*B)\n",
"\n",
"NoB=10*log10(No*BW);\n",
"\n",
"//Power Transmitted\n",
"Pt=Osnr+L+Fa+(NoB);\n",
"\n",
"PtdB=10^(Pt/10);\n",
"disp('W',PtdB,'Power transmitted with no repeaters');\n",
"\n",
"//(b)20 repeaters are employed\n",
"n=20;\n",
"//F becomes 20F\n",
"//Output SNR=InputSNR/20*F where F=L*Fa\n",
"L1=L/n; //dB per segment\n",
"\n",
"//Power Transmitted\n",
"Pt1=Osnr+L1+Fa+(NoB)+(10*(log10(n)));\n",
"\n",
"PtdB1=10^(Pt1/10);\n",
"disp('W',PtdB1,'Power transmitted with 20 repeaters');"
   ]
   }
,
{
		   "cell_type": "markdown",
		   "metadata": {},
		   "source": [
			"## Example 8.1: Units_Conversion.sce"
		   ]
		  },
  {
"cell_type": "code",
	   "execution_count": null,
	   "metadata": {
	    "collapsed": true
	   },
	   "outputs": [],
"source": [
"//Page Number: 8.6\n",
"//Example 8.1\n",
"\n",
"clc;\n",
"disp('Part a');\n",
"//(a)Given, u1=1W and u2=1mW\n",
"//Change to dBW and dBm\n",
"u1=1D-3;\n",
"u2=1;\n",
"//(i)470mW\n",
"a=470D-3;\n",
"y1=(10*log10(a/u1));\n",
"disp('dBm',y1);\n",
"\n",
"y2=(10*log10(a/u2));\n",
"disp('dBW',y2);\n",
"\n",
"//(ii)1W\n",
"b=1;\n",
"z1=(10*log10(b/u1));\n",
"disp('dBm',z1);\n",
"\n",
"z2=(10*log10(b/u2));\n",
"disp('dBW',z2);\n",
"\n",
"//(iii)100nW\n",
"c=100D-9;\n",
"x1=(10*log10(c/u1));\n",
"disp('dBm',x1);\n",
"\n",
"x2=(10*log10(c/u2));\n",
"disp('dBW',x2);\n",
"\n",
"disp('Part B');\n",
"//(b)Here u1=1W (for dBW)and u2=1mW (for dBm)\n",
"//Change to powers to watts\n",
"//(i)-20dBW\n",
"a=-20;\n",
"k1=u2*(10^(a/10));\n",
"disp('W',k1);\n",
"\n",
"\n",
"//(ii)47dBm\n",
"b=47;\n",
"k2=u1*(10^(b/10));\n",
"disp('W',k2);\n",
"\n",
"\n",
"//(ii)0dBm\n",
"c=0;\n",
"k3=u1*(10^(c/10));\n",
"disp('W',k3);\n",
"\n",
"\n",
"disp('Part C');\n",
"//(c)Given, channel loss=20dB and Pt=1W\n",
"l=-20;\n",
"PT=1;\n",
"PR=10^(l/10);\n",
"disp(PR,'W','Received Power',);\n",
"\n",
"disp('Part D');\n",
"//(d)Given, channel loss=30dB when signal=3dB and overall loss=20dB\n",
"l1=-30;\n",
"s=-3;\n",
"l2=-20;\n",
"q=-l1-s-s+l2;\n",
"d1=10^(q/10);\n",
"disp('dB',q,'=');\n",
"disp(d1);\n",
"\n",
"disp('Part E');\n",
"//(e)Given,\n",
"Si=0; //dBm\n",
"S1=1D-3*(10^(Si/10));\n",
"Ni=1D-7; //W\n",
"\n",
"Osnr=S1/Ni;\n",
"Odb=(10*(log10(Osnr)));\n",
"disp('dB',Odb);"
   ]
   }
,
{
		   "cell_type": "markdown",
		   "metadata": {},
		   "source": [
			"## Example 8.23: Noise_process.sce"
		   ]
		  },
  {
"cell_type": "code",
	   "execution_count": null,
	   "metadata": {
	    "collapsed": true
	   },
	   "outputs": [],
"source": [
"//Page Number: 8.23\n",
"//Example 8.23\n",
"clc;\n",
"//Given,\n",
"// S=10D-8*(1-(|f|/10D+8));\n",
"\n",
"\n",
"//(a)Power contenet of output noise\n",
"//Bandwidth of 2MHz centered at 50MHz\n",
"//Therefore, first limits will be\n",
"\n",
"x0=-51D+6;\n",
"x1=-49D+6;\n",
"P1=integrate('1+(f/10^8)','f',x0,x1);\n",
"\n",
"//And,second limits will be\n",
"\n",
"x2=49D+6;\n",
"x3=51D+6;\n",
"\n",
"P2=integrate('1-(f/10^8)','f',x2,x3);\n",
"\n",
"P=10D-8*(P1+P2);\n",
"disp('W',P,'Power content:');\n",
""
   ]
   }
,
{
		   "cell_type": "markdown",
		   "metadata": {},
		   "source": [
			"## Example 8.24: White_Gaussian_Noise.sce"
		   ]
		  },
  {
"cell_type": "code",
	   "execution_count": null,
	   "metadata": {
	    "collapsed": true
	   },
	   "outputs": [],
"source": [
"//Page Number: 8.25\n",
"//Example 8.24\n",
"clc;\n",
"//Given, band limited gaussian noise with psd,\n",
"S=9.6D-5; //W/Hz for |f|<8kHz\n",
"L=100D-3; //H\n",
"R=100; //Ohms\n",
"\n",
"//(a) Noise power at input of filter\n",
"\n",
"x0=-8000;\n",
"x1=8000;\n",
"Pni=S*(integrate('1','f',x0,x1));\n",
"disp('W',Pni,'Noise power at input of filter:');\n",
"\n",
"//Plot\n",
"x=linspace(-8,8,3);\n",
"y=linspace(0,1,1);\n",
"\n",
"plot(x,y);\n",
"\n",
""
   ]
   }
,
{
		   "cell_type": "markdown",
		   "metadata": {},
		   "source": [
			"## Example 8.2: Rms_Voltage.sce"
		   ]
		  },
  {
"cell_type": "code",
	   "execution_count": null,
	   "metadata": {
	    "collapsed": true
	   },
	   "outputs": [],
"source": [
"//Page Number: 8.7\n",
"//Example 8.2\n",
"clc;\n",
"//Given,\n",
"R=1000;\n",
"T=27; //degree celsius\n",
"TK=T+273; //kelvin\n",
"\n",
"// We know, rms noise voltage is 4RKTB\n",
"K=1.38D-28;\n",
"B=10;\n",
"\n",
"V=sqrt(4*R*K*TK*B);\n",
"disp('V',V,'Rms noise voltage:');"
   ]
   }
,
{
		   "cell_type": "markdown",
		   "metadata": {},
		   "source": [
			"## Example 8.3: Output_Noise_Power.sce"
		   ]
		  },
  {
"cell_type": "code",
	   "execution_count": null,
	   "metadata": {
	    "collapsed": true
	   },
	   "outputs": [],
"source": [
"//Page Number: 8.8\n",
"//Example 8.3\n",
"clc;\n",
"\n",
"//Given,\n",
"G=100;\n",
"G1=(10^(G/10));\n",
"\n",
"T=30;\n",
"Te=270;\n",
"\n",
"//We know,output noise power=GKB(T+Te)\n",
"K=1.38D-23;\n",
"B=1.5D+6;\n",
"\n",
"No=G1*1.38D-23*1.5D+6*(T+Te);\n",
"disp('W',No,'Output Noise Power');"
   ]
   }
,
{
		   "cell_type": "markdown",
		   "metadata": {},
		   "source": [
			"## Example 8.4: Noise_Figure.sce"
		   ]
		  },
  {
"cell_type": "code",
	   "execution_count": null,
	   "metadata": {
	    "collapsed": true
	   },
	   "outputs": [],
"source": [
"//Page Number: 8.8\n",
"//Example 8.4\n",
"clc;\n",
"\n",
"//Given,\n",
"R=50;\n",
"osnr=0;\n",
"SNRo=(10^(osnr/10));\n",
"disp(SNRo,'Output SNR');\n",
"\n",
"//As Pni=KTB\n",
"K=1.38D-23;\n",
"T=290;\n",
"B=5D+5;\n",
"Pni=K*T*B;\n",
"disp('W',Pni,'Input noise power');\n",
"\n",
"//Psi=V^2/R\n",
"//Given V=5*10^-6V\n",
"V=0.5D-6;\n",
"Psi=(V^2)/R;\n",
"disp('W',Psi,'Signal Power Input');\n",
"\n",
"isnr=(Psi/Pni);\n",
"disp(isnr,'Input SNR');\n",
"\n",
"F=(isnr/SNRo);\n",
"disp(F,'Noise Factor');\n",
"\n",
"NF=10*log10(F);\n",
"disp('dB',NF,'Noise figure');"
   ]
   }
,
{
		   "cell_type": "markdown",
		   "metadata": {},
		   "source": [
			"## Example 8.6: Cascaded_Amplifiers.sce"
		   ]
		  },
  {
"cell_type": "code",
	   "execution_count": null,
	   "metadata": {
	    "collapsed": true
	   },
	   "outputs": [],
"source": [
"//Page Number: 8.9\n",
"//Example 8.6\n",
"clc;\n",
"\n",
"//Given,Stage 1\n",
"SNRo=120;\n",
"Pni=0.01D-6; //W\n",
"G1=20;\n",
"\n",
"//Stage 2\n",
"F2=12; //dB\n",
"FF2=(10^(F2/10));\n",
"G2=30;\n",
"\n",
"//Stage 3\n",
"F3=9.3; //dB\n",
"FF3=(10^(F3/10));\n",
"G3=35;\n",
"\n",
"//(a)Nosie factor and noise figure of Stage 1\n",
"F=5.6; //dB\n",
"FF=(10^(F/10));\n",
"\n",
"//As F=F1-((F2-1)/G1)-((F3-1)*(G1G2));\n",
"Fa=FF-((F2-1)/G1)-((FF3-1)/(G1*G2));\n",
"disp(Fa,'Noise factor of stage 1');\n",
"\n",
"FadB=(10*(log10(Fa))); //dB\n",
"disp('dB',FadB,'Noise figure of stage 1');\n",
"\n",
"\n",
"//(b)Input signal power of stage 1\n",
"Psi=Pni*Fa*SNRo;\n",
"disp('W',Psi,'Input signal power of stage 1');\n",
"\n",
"\n",
"//(c)Nosie added by stage 1\n",
"N=(Fa-1)*G1*Pni; \n",
"disp('W',N,'Noise added by stage 1');"
   ]
   }
,
{
		   "cell_type": "markdown",
		   "metadata": {},
		   "source": [
			"## Example 8.7: Noise_figure_and_temperature.sce"
		   ]
		  },
  {
"cell_type": "code",
	   "execution_count": null,
	   "metadata": {
	    "collapsed": true
	   },
	   "outputs": [],
"source": [
"//Page Number: 8.10\n",
"//Example 8.7\n",
"clc;\n",
"\n",
"//Given\n",
"Te=127;//Kelvin\n",
"T=290;//Kelvin\n",
"\n",
"G1=100;\n",
"\n",
"F2dB=12;//db\n",
"F2=(10^(F2dB/10));\n",
"\n",
"F1=1+(Te/T);\n",
"\n",
"F=F1+((F2-1)/G1);\n",
"FF=(10*log10(F));\n",
"disp('dB',FF,'Overall Noise Figure');\n",
"\n",
"//Equivalent Noise Temperature TE\n",
"TE=(F-1)*T;\n",
"disp('K',TE,'Equivalent Noise Temperature');\n",
"\n",
""
   ]
   }
,
{
		   "cell_type": "markdown",
		   "metadata": {},
		   "source": [
			"## Example 8.9: WLAN_Reciever.sce"
		   ]
		  },
  {
"cell_type": "code",
	   "execution_count": null,
	   "metadata": {
	    "collapsed": true
	   },
	   "outputs": [],
"source": [
"//Page Number: 8.11;\n",
"//Example 8.9\n",
"clc;\n",
"\n",
"//(a)Noise Figure\n",
"//Given\n",
"//Loss Fcator\n",
"IL=1.5; //dB\n",
"IL1=(10^(IL/10));\n",
"\n",
"//Noise figure\n",
"F1=1.41;\n",
"G1=1/F1;\n",
"\n",
"G2=10; \n",
"GG2=(10*log10(G2)); //dB\n",
"\n",
"G3=100;\n",
"GG3=(10*log10(G3)); //dB\n",
"\n",
"F2=2; //dB\n",
"F3=2; //dB\n",
"\n",
"FF2=(10^(F2/10));\n",
"FF3=(10^(F3/10));\n",
"\n",
"F=(F1+((FF2-1)/G1)+((FF3-1)/(G1*GG2)));\n",
"FF=(10*log10(F));\n",
"disp('dB',FF,'Noise figure of cascade');\n",
"\n",
"//(b) SNR at output\n",
"//Given\n",
"Pin=-90; //dBm\n",
"Pout=Pin-IL+GG2+GG3; //dBm\n",
"\n",
"//Pn=Gcas*K*Te*B (cascade)\n",
"K=1.38D-23;\n",
"To=290; //Kelvin\n",
"B=1D+8;\n",
"Gcas=GG2+GG3-IL;\n",
"Gcas1=(10^(Gcas/10));\n",
"Pn=K*To*(F-1)*B*Gcas1; //W\n",
"\n",
"Pn1=(10*(log10(Pn/1D-3)));\n",
"disp('dBm',Pn1,'Noise power output:');\n",
"\n",
"SNR=Pout-Pn1;\n",
"disp('dB',SNR,'Signal to Noise ratio:');\n",
"\n",
"//(c)Best Noise Figure\n",
"//G1 after G2 after IL\n",
"\n",
"Fcas=(FF2+((FF3-1)/G3)+((IL1-1)/(G3*G2)));\n",
"Fcas1=(10*(log10(Fcas)));\n",
"\n",
"disp('dB',Fcas1,'Noise figure will be:');"
   ]
   }
],
"metadata": {
		  "kernelspec": {
		   "display_name": "Scilab",
		   "language": "scilab",
		   "name": "scilab"
		  },
		  "language_info": {
		   "file_extension": ".sce",
		   "help_links": [
			{
			 "text": "MetaKernel Magics",
			 "url": "https://github.com/calysto/metakernel/blob/master/metakernel/magics/README.md"
			}
		   ],
		   "mimetype": "text/x-octave",
		   "name": "scilab",
		   "version": "0.7.1"
		  }
		 },
		 "nbformat": 4,
		 "nbformat_minor": 0
}
