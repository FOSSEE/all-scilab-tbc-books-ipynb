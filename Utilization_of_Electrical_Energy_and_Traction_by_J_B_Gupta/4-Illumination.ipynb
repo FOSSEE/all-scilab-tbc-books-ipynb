{
"cells": [
 {
		   "cell_type": "markdown",
	   "metadata": {},
	   "source": [
       "# Chapter 4: Illumination"
	   ]
	},
{
		   "cell_type": "markdown",
		   "metadata": {},
		   "source": [
			"## Example 4.10: distance.sce"
		   ]
		  },
  {
"cell_type": "code",
	   "execution_count": null,
	   "metadata": {
	    "collapsed": true
	   },
	   "outputs": [],
"source": [
"//Example 4.10//distance\n",
"clc;\n",
"clear;\n",
"close;\n",
"format('v',5) \n",
"h1=10;//in meters\n",
"eL=1;//ASSUME\n",
"Ea=1/(10)^2;//\n",
"X=(((10^3)*eL)/10^2)*10*(1/Ea);\n",
"x=(X)^(2/3);//\n",
"y=sqrt(x-100);//\n",
"disp(y,'distance in meters is')"
   ]
   }
,
{
		   "cell_type": "markdown",
		   "metadata": {},
		   "source": [
			"## Example 4.11: total_light_flux_and_average_Illumination.sce"
		   ]
		  },
  {
"cell_type": "code",
	   "execution_count": null,
	   "metadata": {
	    "collapsed": true
	   },
	   "outputs": [],
"source": [
"//Example 4.11 //total flux and average luminane of the sphere \n",
"clc;\n",
"clear;\n",
"close;\n",
"format('v',6)\n",
"th=15;//in degree\n",
"l=400;//candela\n",
"d=8;// meter\n",
"p=0.80;//in percentage absorption\n",
"Fe=p*4*%pi*l;// flux emitted by the globe in lumens\n",
"dA=d*tand(th/2);//diameter in degree\n",
"sa=%pi*(dA)^2;//surface area in m^2\n",
"als=Fe/sa;//average lumninance of sphere in lux\n",
"disp(Fe,'total flux in lumens')\n",
"disp(als,'average lumninance of sphere in lux')"
   ]
   }
,
{
		   "cell_type": "markdown",
		   "metadata": {},
		   "source": [
			"## Example 4.12: maximum_and_minimum_Illumination.sce"
		   ]
		  },
  {
"cell_type": "code",
	   "execution_count": null,
	   "metadata": {
	    "collapsed": true
	   },
	   "outputs": [],
"source": [
"//Example 4.12 //maximum and minimum illumination \n",
"clc;\n",
"clear;\n",
"close;\n",
"format('v',5 )\n",
"CP=1000;//\n",
"h=12;//in meter\n",
"d=24;//diamter in meter\n",
"mil=CP/(h)^2;//maximum illumination in lux\n",
"mal=mil*(12/sqrt(12^2+12^2))^3;//minimum illumination in lux\n",
"disp(mil,'maximum illumination in lux')\n",
"disp(mal,'minimum illumination in lux')"
   ]
   }
,
{
		   "cell_type": "markdown",
		   "metadata": {},
		   "source": [
			"## Example 4.13: Illumination.sce"
		   ]
		  },
  {
"cell_type": "code",
	   "execution_count": null,
	   "metadata": {
	    "collapsed": true
	   },
	   "outputs": [],
"source": [
"//Example 4.13//illumination\n",
"clc;\n",
"clear;\n",
"close;\n",
"format('v',5 )\n",
"p=60;//\n",
"CP=200;//\n",
"h=6;//in meter\n",
"d=10;//diamter in meter\n",
"mil=CP/(h)^2;//maximum illumination in lux\n",
"disp('part (a). ')\n",
"disp(mil,' illumination at the centre of the area without reflector in lux')\n",
"mal=mil*(h/sqrt(h^2+(d/2)^2))^3;//minimum illumination in lux\n",
"tl=4*%pi*CP;//total lumens \n",
"ts=(p/100)*tl;//total lumens reaching the surface\n",
"A=%pi*(d/2)^2;//total surface area in m^2\n",
"alf=ts/A;//average illumination with reflector\n",
"x=sqrt(h^2+(d/2)^2);//\n",
"y=h/x;//\n",
"om=2*%pi*(1-y);// in steradians\n",
"tfr=CP*om;//total flux reaching the surface\n",
"alwr=tfr/A;//average illumination without reflector\n",
"disp('part (b). ')\n",
"disp(mal,' illumination at the edge of the area without reflector in lux')\n",
"disp(alf,'average illumination with reflector in lux')\n",
"disp(alwr,'average illumination without reflelctor in lux')\n",
"//with the reflector the illumintaion at the edge and at the end will be the same since the reflection directs the light uniformity on the surface"
   ]
   }
,
{
		   "cell_type": "markdown",
		   "metadata": {},
		   "source": [
			"## Example 4.14: Illumination.sce"
		   ]
		  },
  {
"cell_type": "code",
	   "execution_count": null,
	   "metadata": {
	    "collapsed": true
	   },
	   "outputs": [],
"source": [
"//Example 4.14 //illumination under each lamp and midway between lamps\n",
"clc;\n",
"clear;\n",
"close;\n",
"format('v',5 )\n",
"CP=100;//\n",
"h=6;//in meter\n",
"d=16;// meter\n",
"x=sqrt(h^2+d^2);//\n",
"em=2*((CP/h^2)*(h/(d-h))^3);//illumination in the middle in lux\n",
"ee=((CP/h^2)*(1+(h/x)^3));//illumination iunder each lamp in lux\n",
"disp(ee,'illumination under each lamp in lux')\n",
"disp(em,'illumination in the middle in lux')"
   ]
   }
,
{
		   "cell_type": "markdown",
		   "metadata": {},
		   "source": [
			"## Example 4.15: Illumination.sce"
		   ]
		  },
  {
"cell_type": "code",
	   "execution_count": null,
	   "metadata": {
	    "collapsed": true
	   },
	   "outputs": [],
"source": [
"//Example 4.15 //illumination under each lamp and midway between lamps\n",
"clc;\n",
"clear;\n",
"close;\n",
"format('v',7 )\n",
"CP=800;//\n",
"h=10;//in meter\n",
"d=12;// meter\n",
"x=sqrt(h^2+d^2);//\n",
"x1=sqrt(h^2+(d/2)^2);//\n",
"em=((CP/h^2)*(1+(h/x)^3+(h/x)^3));//illumination iunder each lamp in lux\n",
"ee=2*((CP/h^2)*(h/x1)^3);//illumination at the centrelamp in lux\n",
"disp(em,'illumination under each lamp in lux')\n",
"disp(ee,'illumination in the middle in lux')"
   ]
   }
,
{
		   "cell_type": "markdown",
		   "metadata": {},
		   "source": [
			"## Example 4.16: Illumination.sce"
		   ]
		  },
  {
"cell_type": "code",
	   "execution_count": null,
	   "metadata": {
	    "collapsed": true
	   },
	   "outputs": [],
"source": [
"//Example 4.16 //illumination  midway between lamps\n",
"clc;\n",
"clear;\n",
"close;\n",
"format('v',5 )\n",
"CP=400;//\n",
"h=10;//in meter\n",
"d=20;// meter\n",
"x=sqrt(d^2-h^2);//\n",
"ee=4*((CP/h^2)*(h/x)^3);//illumination at the centrelamp in lux\n",
"disp(ee,'illumination in the middle in lux')"
   ]
   }
,
{
		   "cell_type": "markdown",
		   "metadata": {},
		   "source": [
			"## Example 4.17: spacing.sce"
		   ]
		  },
  {
"cell_type": "code",
	   "execution_count": null,
	   "metadata": {
	    "collapsed": true
	   },
	   "outputs": [],
"source": [
"//Example 4.17//distance\n",
"clc;\n",
"clear;\n",
"close;\n",
"format('v',5) \n",
"cp=500;//cp\n",
"h=4;//in meter\n",
"x=((2*cp*h^3)/h^2);//\n",
"y=((cp*h^3)/h^2);//\n",
"y1=cp/h^2;//\n",
"y2=y/2;//\n",
"y21=y1/2;//\n",
"d=sqrt((((x-y2)/y21)^(2/3))-h^2)*2.29;//\n",
"disp(d,'distance is,(m)=')"
   ]
   }
,
{
		   "cell_type": "markdown",
		   "metadata": {},
		   "source": [
			"## Example 4.18: wattage.sce"
		   ]
		  },
  {
"cell_type": "code",
	   "execution_count": null,
	   "metadata": {
	    "collapsed": true
	   },
	   "outputs": [],
"source": [
"//Example 4.18//wattage of lamp\n",
"clc;\n",
"clear;\n",
"close;\n",
"format('v',6) \n",
"d=6;//in meter\n",
"h=4;//in meter\n",
"ef=20;//lumens per watt\n",
"uc=0.5;//utilization coefficient\n",
"il=750;// in lux\n",
"a=(%pi/4)*(d)^2;//\n",
"F=a*il;//in lumens \n",
"tf=F/uc;//total flux emitted by the lamp\n",
"watt=tf/ef;//wattage of lamp\n",
"disp(watt,'wattage of lamp in watts')"
   ]
   }
,
{
		   "cell_type": "markdown",
		   "metadata": {},
		   "source": [
			"## Example 4.19: candle_power.sce"
		   ]
		  },
  {
"cell_type": "code",
	   "execution_count": null,
	   "metadata": {
	    "collapsed": true
	   },
	   "outputs": [],
"source": [
"//Example 4.19//candle power\n",
"clc;\n",
"clear;\n",
"close;\n",
"vl=220;//voltage of lamp\n",
"wl=60;//wattage of lamp\n",
"wl1=75;//in watts\n",
"v2=440;// in volts\n",
"r1=((vl^2)/wl);// in ohms\n",
"r2=((vl^2)/wl1);// in ohms\n",
"i=(v2/(r1+r2));//in amperes\n",
"v1=i*r1;// volts \n",
"v12=i*r2;//in volts\n",
"cp6=(ceil(v1)/vl)^4 *(100);//candle power \n",
"cp7=(v12/vl)^4*(100);//candle power\n",
"disp(ceil(cp6),'potential drop across 60 watt lamps in volts')\n",
"disp(v12,'potential drop across 75 watt lamps in volts')\n",
"disp(round(cp6),'candle power of 60 watts lampe in percentage')\n",
"disp(cp7,'candle power of 75 watts lampe in percentage')\n",
"//answer is wrong in the book"
   ]
   }
,
{
		   "cell_type": "markdown",
		   "metadata": {},
		   "source": [
			"## Example 4.1: MSCP.sce"
		   ]
		  },
  {
"cell_type": "code",
	   "execution_count": null,
	   "metadata": {
	    "collapsed": true
	   },
	   "outputs": [],
"source": [
"//Example 4.1 //MSCP\n",
"clc;\n",
"clear;\n",
"close;\n",
"format('v',3)\n",
"F=1000;//intensity in lumens\n",
"MSCP=F/(4*%pi);// MSCP of the lamps\n",
"disp(MSCP,'MSCP of the lamp is')"
   ]
   }
,
{
		   "cell_type": "markdown",
		   "metadata": {},
		   "source": [
			"## Example 4.20: capacitance.sce"
		   ]
		  },
  {
"cell_type": "code",
	   "execution_count": null,
	   "metadata": {
	    "collapsed": true
	   },
	   "outputs": [],
"source": [
"//Example 4.20//capacitance\n",
"clc;\n",
"clear;\n",
"close;\n",
"w=84;//watts\n",
"pf=0.7;//power factor\n",
"v=240;//in volts\n",
"i=(w)/(v*pf);// in amperes\n",
"rva=v*i*sqrt(1-pf^2);//relative volt-amperes \n",
"cpf=1;//corrected power factor\n",
"rvas=v*i*sqrt(1-cpf^2);//\n",
"f=50;// in hertz\n",
"c=((rva)/(2*%pi*f*(v)^2));//in farads\n",
"disp(c*10^6,'capacitance in (micro-F) is')"
   ]
   }
,
{
		   "cell_type": "markdown",
		   "metadata": {},
		   "source": [
			"## Example 4.21: compare_diameter_and_length.sce"
		   ]
		  },
  {
"cell_type": "code",
	   "execution_count": null,
	   "metadata": {
	    "collapsed": true
	   },
	   "outputs": [],
"source": [
"//Example 4.21//compare diameter and length\n",
"clc;\n",
"clear;\n",
"close;\n",
"format('v',6)\n",
"v1=110;//in volts\n",
"cp1=16;//in cp\n",
"cp2=25;//in cp\n",
"v2=220;//in volts\n",
"ri=((cp1/cp2)*(v2/v1));//ratio of curents\n",
"dr=(ri)^(2/3);//ratio of diameters\n",
"di=(cp1/cp2)*(1/dr);//ratio of lengths\n",
"disp(dr,'ratio of diameter is')\n",
"disp(di,'ratio of length is')"
   ]
   }
,
{
		   "cell_type": "markdown",
		   "metadata": {},
		   "source": [
			"## Example 4.22: constants_and_change_of_candle_power_per_volt.sce"
		   ]
		  },
  {
"cell_type": "code",
	   "execution_count": null,
	   "metadata": {
	    "collapsed": true
	   },
	   "outputs": [],
"source": [
"//Example 4.22//constants and change of candle power per volt\n",
"clc;\n",
"clear;\n",
"close;\n",
"format('v',9)\n",
"c1=71.5;//candel power\n",
"v1=260;//in volts\n",
"c2=50;//candel power\n",
"v2=240;//in volts\n",
"b=log(c1/c2)/(log(v1/v2));//\n",
"a=c2/(v2)^(4.5);//\n",
"disp('part (a). ')\n",
"disp('constants are '+string(a)+' and '+string(b)+' ')\n",
"v=250;// in volts\n",
"p=4;//change in percentage\n",
"dvc=a*b*((v)^(b-1));//in candle per volts\n",
"dc=(1+(p/100))^b;//when voltage increase by 4%\n",
"pcp=((dc-1))*100;//percentage change in candle power\n",
"dc1=(1-(p/100))^b;//when voltage falls by 4%\n",
"pcp1=((dc1-1))*100;//percentage change in candle power\n",
"disp('part (b).')\n",
"disp(dvc,'change of candle power per volts')\n",
"//chage in candle power per volt is calculated wrong in the book\n",
"disp(pcp,'percentage change in candle power  when voltage increase by 4%')\n",
"disp(pcp1,'percentage change in candle power  when voltage falls by 4%')"
   ]
   }
,
{
		   "cell_type": "markdown",
		   "metadata": {},
		   "source": [
			"## Example 4.23: average_Illumination.sce"
		   ]
		  },
  {
"cell_type": "code",
	   "execution_count": null,
	   "metadata": {
	    "collapsed": true
	   },
	   "outputs": [],
"source": [
"//Example 4.23//average illumination\n",
"clc;\n",
"clear;\n",
"close;\n",
"format('v',5)\n",
"dp=1.2;//depreciation factor\n",
"uf=0.6;//utiliazation factor\n",
"l=15;// in meters\n",
"b=6;// in meters\n",
"n=20;// no. of lamps\n",
"lw=250;// mscp in watts\n",
"a=l*b;//arean in m^2\n",
"tl=n*lw*4*%pi;///total lumens\n",
"lwp=((tl*uf)/dp);//lumens reaching on the working plane\n",
"e=lwp/a;//illumination on working plane in lux\n",
"disp(e,'illumination on working plane in lux')"
   ]
   }
,
{
		   "cell_type": "markdown",
		   "metadata": {},
		   "source": [
			"## Example 4.24: number_location_and_wattage.sce"
		   ]
		  },
  {
"cell_type": "code",
	   "execution_count": null,
	   "metadata": {
	    "collapsed": true
	   },
	   "outputs": [],
"source": [
"//Example 4.24//number ,loaction and wattage \n",
"clc;\n",
"clear;\n",
"close;\n",
"format('v',5)\n",
"ef=40;//efficiency in lumens/watt\n",
"mil=80;// minimum illumination in lumens/m^2\n",
"dp=0.8;//depreciation factor\n",
"uf=0.4;//utiliazation factor\n",
"l=100;// in meters\n",
"b=10;// in meters\n",
"a=l*b;//arean in m^2\n",
"tl=a*mil;///total lumens\n",
"glr=tl/(uf*dp);//gross illumination required\n",
"twr=glr/ef;//total wattage required\n",
"disp(42,'number of lamps of 150watt rating in 2 rows')\n",
"disp(twr,'total wattage in watts')"
   ]
   }
,
{
		   "cell_type": "markdown",
		   "metadata": {},
		   "source": [
			"## Example 4.25: number_rating_and_dipsotion_of_lamps.sce"
		   ]
		  },
  {
"cell_type": "code",
	   "execution_count": null,
	   "metadata": {
	    "collapsed": true
	   },
	   "outputs": [],
"source": [
"//Example 4.25//number ,rating and disposition of lamps\n",
"clc;\n",
"clear;\n",
"close;\n",
"format('v',6)\n",
"h=4;//in meters\n",
"wp=75;//in lux\n",
"ef=14;//efficiency in lumens/watt\n",
"dp=0.2;//depreciation factor\n",
"uf=0.5;//utiliazation factor\n",
"l=72;// in meters\n",
"b=15;// in meters\n",
"a=l*b;//arean in m^2\n",
"mf=1-dp;//maintenance factor\n",
"glr=(a*wp)/(uf*mf);//gross illumination required\n",
"twr=glr/ef;//total wattage required\n",
"wec=twr/80;//wattage of each lamps\n",
"disp(80,'number of lamps of 150watt rating in 2 rows')\n",
"disp(' wattage of each lamp '+string(wec)+' watts equivalent to 200  watts')"
   ]
   }
,
{
		   "cell_type": "markdown",
		   "metadata": {},
		   "source": [
			"## Example 4.26: number_rating_and_dipsotion_of_lamps.sce"
		   ]
		  },
  {
"cell_type": "code",
	   "execution_count": null,
	   "metadata": {
	    "collapsed": true
	   },
	   "outputs": [],
"source": [
"//Example 4.26//number ,rating and disposition of lamps\n",
"clc;\n",
"clear;\n",
"close;\n",
"a=30*30;//\n",
"e=75;//\n",
"uf=0.5;//\n",
"df=1-0.2;//\n",
"le=15;//efficiency\n",
"ph=(a*e)/(uf*df);//\n",
"W=ph/le;//\n",
"ew=300;//W\n",
"N=W/ew;//\n",
"disp(N,'total number of lamps is ,= (say 42)')\n",
"disp(W,'wattage of lamps is,(W)=')"
   ]
   }
,
{
		   "cell_type": "markdown",
		   "metadata": {},
		   "source": [
			"## Example 4.27: number_and_wattage.sce"
		   ]
		  },
  {
"cell_type": "code",
	   "execution_count": null,
	   "metadata": {
	    "collapsed": true
	   },
	   "outputs": [],
"source": [
"//Example 4.27//number  and wattage \n",
"clc;\n",
"clear;\n",
"close;\n",
"format('v',6)\n",
"h=5;// in meters\n",
"el=100;//in lux\n",
"ef=16;//efficiency in lumens/watt\n",
"dp=0.2;//depreciation factor\n",
"uf=0.4;//utiliazation factor\n",
"l=60;// in meters\n",
"b=15;// in meters\n",
"a=l*b;//arean in m^2\n",
"glr=(a*el)/(uf*(1-dp));//gross illumination required\n",
"n=12*3;//total no. of \n",
"twr=glr/ef;//total wattage required\n",
"wec=twr/n;//wattage of each lamp\n",
"disp(n,'number of lamps of 150watt rating in 2 rows')\n",
"disp(' wattage of each lamp '+string(wec)+' watts equivalent to 500  watts')"
   ]
   }
,
{
		   "cell_type": "markdown",
		   "metadata": {},
		   "source": [
			"## Example 4.28: number_spacing_height_and_totl_wattge.sce"
		   ]
		  },
  {
"cell_type": "code",
	   "execution_count": null,
	   "metadata": {
	    "collapsed": true
	   },
	   "outputs": [],
"source": [
"//Example 4.28//number ,spacing,mounting height and total wattafe\n",
"clc;\n",
"clear;\n",
"close;\n",
"format('v',6)\n",
"h=5;// in meters\n",
"el=120;//in lux\n",
"ef=40;//efficiency in lumens/watt\n",
"tw=80;//in watts\n",
"df=1.4;//depreciation factor\n",
"uf=0.5;//utiliazation factor\n",
"l=30;// in meters\n",
"b=15;// in meters\n",
"a=l*b;//arean in m^2\n",
"glr=(a*el*df)/(uf);//gross lumens required\n",
"twr=glr/ef;//total wattage required\n",
"nt=twr/tw;//no. of tubes required\n",
"disp(twr,'total wattage required in watts')\n",
"disp(' number of tubes required is '+string(nt)+'  equivalent to 48 tubes')"
   ]
   }
,
{
		   "cell_type": "markdown",
		   "metadata": {},
		   "source": [
			"## Example 4.29: space_height_ratio.sce"
		   ]
		  },
  {
"cell_type": "code",
	   "execution_count": null,
	   "metadata": {
	    "collapsed": true
	   },
	   "outputs": [],
"source": [
"//Example 4.29//number of lamps\n",
"clc;\n",
"clear;\n",
"close;\n",
"format('v',6)\n",
"el=50;//in lux\n",
"df=1.3;//depreciation factor\n",
"uf=0.5;//utiliazation factor\n",
"l=30;// in meters\n",
"b=12;// in meters\n",
"a=l*b;//arean in m^2\n",
"glr=(a*el*df)/(uf);//gross lumens required\n",
"watt=[100,200,300,500,1000];\n",
"lum=[1615,3650,4700,9950,21500];//\n",
"for i=1:5\n",
"    n(i)=glr/(lum(i));//\n",
"    disp('if '+string(watt(i))+' watt lamps are used then number of lamps required is '+string(round(n(i)))+' ')\n",
"end"
   ]
   }
,
{
		   "cell_type": "markdown",
		   "metadata": {},
		   "source": [
			"## Example 4.2: lumens_per_watt_and_MSCP.sce"
		   ]
		  },
  {
"cell_type": "code",
	   "execution_count": null,
	   "metadata": {
	    "collapsed": true
	   },
	   "outputs": [],
"source": [
"//Example 4.2 //LUMES PER WATT AND MSCP\n",
"clc;\n",
"clear;\n",
"close;\n",
"format('v',4)\n",
"V=250;//in volts\n",
"I=0.8;//in amperes\n",
"F=3000;//intensity in lumens\n",
"wl=V*I;//wattage of lapms ins watts\n",
"lpw=F/wl;// lumens per watts is\n",
"MSCP=F/(4*%pi);// MSCP of the lamps\n",
"MW=MSCP/wl;//MSCP per watts\n",
"disp(lpw,'lumens per watt is')\n",
"disp(MW,'MSCP per watt of the lamp is')"
   ]
   }
,
{
		   "cell_type": "markdown",
		   "metadata": {},
		   "source": [
			"## Example 4.30: Illumination.sce"
		   ]
		  },
  {
"cell_type": "code",
	   "execution_count": null,
	   "metadata": {
	    "collapsed": true
	   },
	   "outputs": [],
"source": [
"//Example 4.30//illumination on surface\n",
"clc;\n",
"clear;\n",
"close;\n",
"format('v',6)\n",
"ef=17.4;//in mumens/watt\n",
"dp=1.2;//depreciation factor\n",
"wlf=1.3;//waste light factor\n",
"uf=0.4;//utiliazation factor\n",
"l=50;// in meters\n",
"b=16;// in meters\n",
"n=16;// no. of lamps\n",
"lw=1000;// mscp in watts\n",
"a=l*b;//arean in m^2\n",
"tl=n*lw*ef;///total lumens\n",
"lwp=((tl*uf)/(wlf*dp));//lumens reaching on the working plane\n",
"e=lwp/a;//illumination on the surface in lumens/m^2\n",
"disp(e,'illumination on the surface in lumens/m^2')"
   ]
   }
,
{
		   "cell_type": "markdown",
		   "metadata": {},
		   "source": [
			"## Example 4.31: number_and_size.sce"
		   ]
		  },
  {
"cell_type": "code",
	   "execution_count": null,
	   "metadata": {
	    "collapsed": true
	   },
	   "outputs": [],
"source": [
"//Example 4.31//size and number of projector\n",
"clc;\n",
"clear;\n",
"close;\n",
"format('v',6)\n",
"watt=[300,500,1000,1500];\n",
"lum=[5000,9000,18000,27000];//\n",
"el=50;// in lux\n",
"dp=0.8;//depreciation factor\n",
"wlf=0.5;//waste light factor\n",
"uf=1.2;//utiliazation factor\n",
"l=60;// in meters\n",
"b=15;// in meters\n",
"lw=1000;// mscp in watts\n",
"a=l*b;//arean in m^2\n",
"tl=a*el//total lumens\n",
"lwp=((tl*uf)/(wlf*dp));//lumens reaching on the working plane\n",
"n = lwp/lum(2);//number of projector required\n",
"ang=2*atand(4.5/8);//size\n",
"disp(ceil(n+1),'number of projectors are,=')\n",
"disp(watt(2),'wattage is,(W)=')\n",
"disp(ceil(ang+1),'beam angle is,(degree)=')\n",
"disp(''+string(round(n)+1)+ ' projectors of '+string(watt(2))+' watts each with beam angle of '+string(round(ang+1))+' degree will be required')"
   ]
   }
,
{
		   "cell_type": "markdown",
		   "metadata": {},
		   "source": [
			"## Example 4.3: average_luminance.sce"
		   ]
		  },
  {
"cell_type": "code",
	   "execution_count": null,
	   "metadata": {
	    "collapsed": true
	   },
	   "outputs": [],
"source": [
"//Example 4.3 //average luminane of the sphere \n",
"clc;\n",
"clear;\n",
"close;\n",
"format('v',6)\n",
"d=0.4;//diamter in meter\n",
"p=0.20;//in percentage absorption\n",
"F=4850;// lumens\n",
"Fe=(1-p)*F;// flux emitted by the globe in lumens\n",
"sa=4*%pi*(d/2)^2;//surface area in m^2\n",
"als=Fe/sa;//average lumninance of sphere in lumens/m^2\n",
"disp(als,'average lumninance of sphere in lumens/m^2')"
   ]
   }
,
{
		   "cell_type": "markdown",
		   "metadata": {},
		   "source": [
			"## Example 4.4: Illumination.sce"
		   ]
		  },
  {
"cell_type": "code",
	   "execution_count": null,
	   "metadata": {
	    "collapsed": true
	   },
	   "outputs": [],
"source": [
"//Example 4.4 //illumination\n",
"clc;\n",
"clear;\n",
"close;\n",
"format('v',7)\n",
"P=20;//filament power in watts\n",
"h=5;//height in meters\n",
"d=4;//diamter in meter\n",
"p=0.50;//in percentage absorption\n",
"ef=0.89;//efficiency in watts\n",
"cpl=P/ef;//candle power of lamp in CP\n",
"Lop=4*%pi*cpl;//lu,inous output in lumens\n",
"Fe=(1-p)*Lop;// flux emitted by the globe in lumens\n",
"sa=%pi*(d/2)^2;//surface area in m^2\n",
"als=Fe/sa;//average lumninance of sphere in lumens/m^2\n",
"disp(als,'average lumninance of sphere in lumens/m^2')"
   ]
   }
,
{
		   "cell_type": "markdown",
		   "metadata": {},
		   "source": [
			"## Example 4.5: average_intensity_of_Illumination.sce"
		   ]
		  },
  {
"cell_type": "code",
	   "execution_count": null,
	   "metadata": {
	    "collapsed": true
	   },
	   "outputs": [],
"source": [
"//Example 4.5 //AVERAGE INTENSITY\n",
"clc;\n",
"clear;\n",
"close;\n",
"format('v',6)\n",
"cpl=100;//\n",
"h=5;//in meter\n",
"th=60;//in degree\n",
"F=1000;//intensity in lumens\n",
"MSCP=F/(4*%pi);// MSCP of the lamps\n",
"ai=((cpl/h^2)*cosd(90-th));//average intensity of illumination\n",
"disp(round(MSCP),'MSCP of a lamp is,=')\n",
"disp(ai,'average intensity of illumination is lux ')"
   ]
   }
,
{
		   "cell_type": "markdown",
		   "metadata": {},
		   "source": [
			"## Example 4.7: Illumination_and_lamp_efficiency.sce"
		   ]
		  },
  {
"cell_type": "code",
	   "execution_count": null,
	   "metadata": {
	    "collapsed": true
	   },
	   "outputs": [],
"source": [
"//Example 4.7 //lamp efficiency and illumination\n",
"clc;\n",
"clear;\n",
"close;\n",
"format('v',7)\n",
"p=500;//lamp power in watts\n",
"mscp=1250;//\n",
"h=2.7;//in meters\n",
"ea=(mscp)/(h)^2;//illumination directly below lamp in lux\n",
"le=(4*%pi*mscp)/p;//lamp efficiency in lumens/watts\n",
"h1=3;//meters\n",
"eb=((mscp)/(h^2)*(2.7^3/(h1^2+h^2)^(3/2)));//illumnination at a point 3 meters away on the horizontal plane vertically below the lamp in lux\n",
"disp(ea,'illumination directly below lamp in lux')\n",
"disp(le,'lamp efficiency in lumens/W')\n",
"disp(eb,'illumnination at a point 3 meters away on the horizontal plane vertically below the lamp in lux')"
   ]
   }
,
{
		   "cell_type": "markdown",
		   "metadata": {},
		   "source": [
			"## Example 4.8: height_and_Illumination.sce"
		   ]
		  },
  {
"cell_type": "code",
	   "execution_count": null,
	   "metadata": {
	    "collapsed": true
	   },
	   "outputs": [],
"source": [
"//Example 4.8// height and illumination\n",
"clc;\n",
"clear;\n",
"close;\n",
"format('v',7)\n",
"l=100;//illumination at a point directly below the lamp in lumens/m^3\n",
"cp=256;//\n",
"h1=1.2;//in meters\n",
"h=sqrt(cp/l);//height in meters\n",
"x=sqrt(h^2+h1^2);//\n",
"x1=h/x;//\n",
"eb=((cp)/(h^2))*(x1)^3;//illumnination at a point 1.2 meters away on the horizontal plane vertically below the lamp in lux\n",
"disp(h,'height in meters is')\n",
"disp(eb,'illumnination at a point 1.2 meters away on the horizontal plane vertically below the lamp in lux')"
   ]
   }
,
{
		   "cell_type": "markdown",
		   "metadata": {},
		   "source": [
			"## Example 4.9: candle_power.sce"
		   ]
		  },
  {
"cell_type": "code",
	   "execution_count": null,
	   "metadata": {
	    "collapsed": true
	   },
	   "outputs": [],
"source": [
"//Example 4.9//candle power of lamp\n",
"clc;\n",
"clear;\n",
"close;\n",
"format('v',7)\n",
"L1=500;//candle power \n",
"h1=9;//in meters\n",
"d=2;//distance in meters\n",
"I2=20;//illumination in Lux\n",
"x=sqrt(h1^2+d^2);//from pythagoras theoram\n",
"Cpx=((I2-(L1/h1^2))*h1^2)/((h1/x)^3);//candle power \n",
"disp(Cpx,'candle power of lamp two in CP')"
   ]
   }
],
"metadata": {
		  "kernelspec": {
		   "display_name": "Scilab",
		   "language": "scilab",
		   "name": "scilab"
		  },
		  "language_info": {
		   "file_extension": ".sce",
		   "help_links": [
			{
			 "text": "MetaKernel Magics",
			 "url": "https://github.com/calysto/metakernel/blob/master/metakernel/magics/README.md"
			}
		   ],
		   "mimetype": "text/x-octave",
		   "name": "scilab",
		   "version": "0.7.1"
		  }
		 },
		 "nbformat": 4,
		 "nbformat_minor": 0
}
