{
"cells": [
 {
		   "cell_type": "markdown",
	   "metadata": {},
	   "source": [
       "# Chapter 5: Refrigeration and Air conditioning"
	   ]
	},
{
		   "cell_type": "markdown",
		   "metadata": {},
		   "source": [
			"## Example 5.1: power.sce"
		   ]
		  },
  {
"cell_type": "code",
	   "execution_count": null,
	   "metadata": {
	    "collapsed": true
	   },
	   "outputs": [],
"source": [
"//Example 5.1: Power\n",
"clc;\n",
"clear;\n",
"close;\n",
"//given data :\n",
"t1=20;// in degree C\n",
"t2=5;// in degree C\n",
"T=t1-t2;\n",
"A=3000;// volume of air to be conditioned in m^3\n",
"Ht=1220;// in J\n",
"H1=A*Ht*T;\n",
"m=1000; // per m^3\n",
"Hl=2450*10^3;// latent heat in J/kg\n",
"w=5;;// in kg\n",
"M=(w*A)/m;\n",
"H2=T*Hl;//in J\n",
"H=(H1+H2);\n",
"P=round(H/(3600*1000));\n",
"disp(P,'Power required,(kW) = ')"
   ]
   }
,
{
		   "cell_type": "markdown",
		   "metadata": {},
		   "source": [
			"## Example 5.2: rating_of_heater.sce"
		   ]
		  },
  {
"cell_type": "code",
	   "execution_count": null,
	   "metadata": {
	    "collapsed": true
	   },
	   "outputs": [],
"source": [
"//Example 5.2: Rating of Heater\n",
"clc;\n",
"clear;\n",
"close;\n",
"//given data :\n",
"t1=25;// in degree C\n",
"t2=5;// in degree C\n",
"T=t1-t2;\n",
"A=6*5*4*(60/15);// volume of air to be conditioned in m^3/hour\n",
"Ht=1220;// in J\n",
"H1=A*Ht*T;\n",
"m=1000; // per m^3\n",
"Hl=836*10^3;// heat loss in J/C/h\n",
"H2=T*Hl;//in J/hour\n",
"H=(H1+H2);\n",
"Rh=round(H/(3600*1000));\n",
"disp(Rh,'Rating of heater,(kW) =')"
   ]
   }
],
"metadata": {
		  "kernelspec": {
		   "display_name": "Scilab",
		   "language": "scilab",
		   "name": "scilab"
		  },
		  "language_info": {
		   "file_extension": ".sce",
		   "help_links": [
			{
			 "text": "MetaKernel Magics",
			 "url": "https://github.com/calysto/metakernel/blob/master/metakernel/magics/README.md"
			}
		   ],
		   "mimetype": "text/x-octave",
		   "name": "scilab",
		   "version": "0.7.1"
		  }
		 },
		 "nbformat": 4,
		 "nbformat_minor": 0
}
