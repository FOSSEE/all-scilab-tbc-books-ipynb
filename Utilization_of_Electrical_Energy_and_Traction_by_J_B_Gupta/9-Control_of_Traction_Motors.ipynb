{
"cells": [
 {
		   "cell_type": "markdown",
	   "metadata": {},
	   "source": [
       "# Chapter 9: Control of Traction Motors"
	   ]
	},
{
		   "cell_type": "markdown",
		   "metadata": {},
		   "source": [
			"## Example 9.1: energy_lost_and_total_energy.sce"
		   ]
		  },
  {
"cell_type": "code",
	   "execution_count": null,
	   "metadata": {
	    "collapsed": true
	   },
	   "outputs": [],
"source": [
"//Example 9.1.//energy lost and total energy\n",
"clc;\n",
"clear;\n",
"close;\n",
"//given data :\n",
"format('v',7)\n",
"V=600;// in volts\n",
"I=350;//in A\n",
"Ts=20;// in sec\n",
"R=0.15;// in ohm\n",
"E_bse=(V/2)-(I*R);\n",
"E_bp=V-(I*R);\n",
"Tse=(E_bse/E_bp)*Ts;\n",
"Tp=Ts-Tse;\n",
"Vd=V-(2*I*R);\n",
"Ed1=(Vd/2)*I*(Tse/3600);\n",
"Ed2=((V/2)/2)*2*I*(Tp/3600);\n",
"El=(Ed1+Ed2)*10^-3;\n",
"disp('part (a)')\n",
"disp(El,'Energy lost in starting rhestat,El(kWh) = ')\n",
"El_1=(2*(I^2)*R*Ts)/(3600*1000);\n",
"disp('part (b)')\n",
"disp(El_1,'Energy lost in  motors,El(kWh) = ')\n",
"//answer is wrong in  part b in the textbook\n",
"Et=((V*I*Tse)+(2*V*I*Tp))/(3600*1000);\n",
"disp('part (c)')\n",
"disp(Et,'Total Energy,Et(kWh) = ')"
   ]
   }
,
{
		   "cell_type": "markdown",
		   "metadata": {},
		   "source": [
			"## Example 9.2: rheostatic_losses_and_train_speed.sce"
		   ]
		  },
  {
"cell_type": "code",
	   "execution_count": null,
	   "metadata": {
	    "collapsed": true
	   },
	   "outputs": [],
"source": [
"//Example 9.2.rheostatic losses and train speed\n",
"clc;\n",
"clear;\n",
"close;\n",
"//given data :\n",
"format('v',7)\n",
"V=600;// in volts\n",
"I=300;//in A\n",
"Ts=15;// in sec\n",
"R=0.1;// in ohm\n",
"E_bse=(V/2)-(I*R);\n",
"E_bp=V-(I*R);\n",
"Tse=(E_bse/E_bp)*Ts;\n",
"Tp=Ts-Tse;\n",
"Vd=V-(2*I*R);\n",
"Ed1=(round((Vd/2)*I*(Tse/3600))*10^-3);//\n",
"disp('part (i)')\n",
"disp(Ed1,'rheostatic in series,Ed1(kWh) = ')\n",
"Ed2=((V/2)/2)*2*I*(Tp/3600)*10^-3;\n",
"disp(Ed2,'rheostatic in parallel,Ed2(kWh) = ')\n",
"Vm=29;// in kmph\n",
"alfa=Vm/Ts;\n",
"S=alfa*Tse;\n",
"disp('part (ii)')\n",
"disp(S,'Speed at the end of series period,S(km/h) = ')"
   ]
   }
,
{
		   "cell_type": "markdown",
		   "metadata": {},
		   "source": [
			"## Example 9.3: efficiency_and_speed.sce"
		   ]
		  },
  {
"cell_type": "code",
	   "execution_count": null,
	   "metadata": {
	    "collapsed": true
	   },
	   "outputs": [],
"source": [
"//Example 9.3.efficiency and speed\n",
"clc;\n",
"clear;\n",
"close;\n",
"//given data :\n",
"format('v',5)\n",
"V=600;// in volts\n",
"I=200;//in A\n",
"Ts=20;// in sec\n",
"R=0.1;// in ohm\n",
"E_bse=(V/2)-(I*R);\n",
"E_bp=V-(I*R);\n",
"Tse=(E_bse/E_bp)*Ts;\n",
"Tp=Ts-Tse;\n",
"Vd=V-(2*I*R);\n",
"Mi=((V*I*Tse)/(2*3600))+((V*I*Tp)/3600);\n",
"Er=((Vd/4)*I*(Tse/3600))+(((V/2)/2)*I*(Tp/3600));\n",
"El=(I^2*R*Ts)/(3600);\n",
"Mo=Mi-Er-El;\n",
"eta=(Mo/Mi)*100;\n",
"disp('part (a)')\n",
"disp(eta,'Starting efficiency,(%) = ')\n",
"Vm=80;// in kmph\n",
"alfa=Vm/Ts;\n",
"S=alfa*Tse;\n",
"disp('part (b)')\n",
"disp(S,'speed,S(kmph) = ')"
   ]
   }
,
{
		   "cell_type": "markdown",
		   "metadata": {},
		   "source": [
			"## Example 9.4: time_duration_speed_and_rheostatic_losses.sce"
		   ]
		  },
  {
"cell_type": "code",
	   "execution_count": null,
	   "metadata": {
	    "collapsed": true
	   },
	   "outputs": [],
"source": [
"//Example 9.4 time duration ,speed and rheostatic losses\n",
"clc\n",
"clear;\n",
"close;\n",
"//given data :\n",
"format('v',6)\n",
"W=150;// in tonne\n",
"We=1.1*W;// in tonnes\n",
"Vm=30;//kmph\n",
"V=600;// in volts\n",
"r=10;// N/tonne\n",
"I=300;//in A\n",
"R=0.1;// in ohm\n",
"Ft=4*15000;// in N\n",
"G=1;//gradient in %\n",
"alfa=(Ft-(W*r)-(98.1*W*G))/(277.8*We);\n",
"Ts=Vm/alfa;\n",
"E_bse=(V/2)-(I*R);\n",
"E_bp=V-(I*R);\n",
"Tse=(E_bse/E_bp)*Ts;\n",
"disp('part (a)')\n",
"disp(Ts,'Duration of starting period,Ts(seconds) = ')\n",
"disp(Tse,'Duration for Series running,Tse(seconds) = ')\n",
"sptr=alfa*Tse;//in kmph\n",
"disp('part (b)')\n",
"disp(sptr,'speed of train at transition in kmph is')\n",
"sptr=alfa*Tse;//in kmph\n",
"rls=((V-(2*I*R))/2)*(2*I)*(Tse/3600);//watts hours\n",
"rlp=((V/2)/2)*(4*I)*((Ts-Tse)/3600);//watts hours\n",
"tl=rls+rlp;//\n",
"disp('part (c)')\n",
"disp(rls,'rheostat losses during series operation in W-hours')\n",
"disp(rlp,'rheostat losses during parallel operation in W-hours')\n",
"disp(tl,'total losses in W-hours is')"
   ]
   }
,
{
		   "cell_type": "markdown",
		   "metadata": {},
		   "source": [
			"## Example 9.5: diverter_resistance.sce"
		   ]
		  },
  {
"cell_type": "code",
	   "execution_count": null,
	   "metadata": {
	    "collapsed": true
	   },
	   "outputs": [],
"source": [
"//Example 9.5:diverter resistance\n",
"clc;\n",
"clear;\n",
"close;\n",
"format('v',6)\n",
"nf=1;//\n",
"n2=1.25*nf;//\n",
"of=1;//\n",
"of2=nf/n2;//\n",
"isef=1;//\n",
"ise2=0.66667;//\n",
"ia2=(1/ise2);//\n",
"idiv=ia2-ise2;//\n",
"rdiv=ise2/idiv;//\n",
"disp(rdiv*100,'diverter resistance required as percentage of the field resistance is')\n",
"//answer is wrong in the textbook"
   ]
   }
,
{
		   "cell_type": "markdown",
		   "metadata": {},
		   "source": [
			"## Example 9.6: speed_and_drawbar_pull.sce"
		   ]
		  },
  {
"cell_type": "code",
	   "execution_count": null,
	   "metadata": {
	    "collapsed": true
	   },
	   "outputs": [],
"source": [
"//Example 9.6:draw chracterstics\n",
"clc;\n",
"clear;\n",
"close;\n",
"format('v',6)\n",
"Ia=[60;80;100;120;160;180];// in amperes\n",
"sp1=[47.4;40.3;35.8;33.9;29.8;28.5];//in kmph\n",
"dpk=[440;700;970;1245;1800;2360];//in kg\n",
"sp2=[58.1;50;45;40.3;35;32];//\n",
"for i=1:6\n",
"    dpk1(i)= ((dpk(i))*(sp1(i)))/(sp2(i));//\n",
"    disp('for current '+string(Ia(i))+' amperes ,speed in kmph is '+string(sp2(i))+' and drawbar pull in kg is '+string(dpk1(i))+' ')\n",
"end"
   ]
   }
],
"metadata": {
		  "kernelspec": {
		   "display_name": "Scilab",
		   "language": "scilab",
		   "name": "scilab"
		  },
		  "language_info": {
		   "file_extension": ".sce",
		   "help_links": [
			{
			 "text": "MetaKernel Magics",
			 "url": "https://github.com/calysto/metakernel/blob/master/metakernel/magics/README.md"
			}
		   ],
		   "mimetype": "text/x-octave",
		   "name": "scilab",
		   "version": "0.7.1"
		  }
		 },
		 "nbformat": 4,
		 "nbformat_minor": 0
}
