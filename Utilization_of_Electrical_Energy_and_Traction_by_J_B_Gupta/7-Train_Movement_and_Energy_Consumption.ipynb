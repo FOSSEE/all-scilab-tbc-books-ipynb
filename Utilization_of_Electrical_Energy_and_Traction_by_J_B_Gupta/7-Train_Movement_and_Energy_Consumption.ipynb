{
"cells": [
 {
		   "cell_type": "markdown",
	   "metadata": {},
	   "source": [
       "# Chapter 7: Train Movement and Energy Consumption"
	   ]
	},
{
		   "cell_type": "markdown",
		   "metadata": {},
		   "source": [
			"## Example 7.10: time_taken_and_current.sce"
		   ]
		  },
  {
"cell_type": "code",
	   "execution_count": null,
	   "metadata": {
	    "collapsed": true
	   },
	   "outputs": [],
"source": [
"//Example 7.10: Current and time taken\n",
"clc;\n",
"clear;\n",
"close;\n",
"//given data :\n",
"V=36;// speed in km/h\n",
"W=120;// in tonne\n",
"G=2;// in per cent\n",
"r=2*9.81;// in N/tonne\n",
"Ft=(98.1*W*G)+(W*r);\n",
"e=88/100; // efficiency of motors and gear\n",
"VL=1500;//line voltage in volts\n",
"Po=(Ft*V)/3600;\n",
"Pi=Po/e;\n",
"I=(Pi*1000)/VL;\n",
"bc=((98.1*(2+(0.1*2)))/(277.8*1.1));//in kmphps\n",
"tt=V/bc;//in seconds\n",
"disp(I,'current required in amperes is')\n",
"disp(round(tt),'time taken to come to rest in seconds is')"
   ]
   }
,
{
		   "cell_type": "markdown",
		   "metadata": {},
		   "source": [
			"## Example 7.11: acceleration_coasting_retardation_and_scheduled_speed.sce"
		   ]
		  },
  {
"cell_type": "code",
	   "execution_count": null,
	   "metadata": {
	    "collapsed": true
	   },
	   "outputs": [],
"source": [
"//Example 7.11.//acceleration,coasting retardation and scheduled speed\n",
"clc;\n",
"clear;\n",
"close;\n",
"format('v',6)\n",
"//given data :\n",
"t1=24;//in sec\n",
"t2=69;// in sec\n",
"t3=11;// in sec\n",
"V1=48;// in km/h\n",
"alfa=V1/t1;\n",
"disp('part (a)')\n",
"disp(alfa,'Acceleration(km/h/sec) = ')\n",
"r=58;// in N/tonne\n",
"G=0;\n",
"Beta=r/(277.8*1.1);\n",
"disp('part (b)')\n",
"disp(Beta,'Retardation(kmphps) = ')\n",
"V2=V1-(Beta*t2);\n",
"S=round(((V1*t1)/7200)+(((V1+V2)*t2)/7200)+((V2*t3)/7200));\n",
"D=20;// duration of stop in sec\n",
"Ts=t1+t2+t3+D;\n",
"Vs=round((S*3600)/Ts);\n",
"disp('part (c)')\n",
"disp(Vs,'Schedule time,Vs(kmph) = ')\n",
"D1=15;//when the duration of stop in sec\n",
"Ts_dash=t1+t2+t3+D1;\n",
"Vs_dash=(S*3600)/Ts_dash;\n",
"disp(Vs_dash,'Schedule speed,VS_dash(kmph) = ')"
   ]
   }
,
{
		   "cell_type": "markdown",
		   "metadata": {},
		   "source": [
			"## Example 7.12: sceduled_speed.sce"
		   ]
		  },
  {
"cell_type": "code",
	   "execution_count": null,
	   "metadata": {
	    "collapsed": true
	   },
	   "outputs": [],
"source": [
"//Example 7.12: Schedule speed\n",
"clc;\n",
"clear;\n",
"close;\n",
"//given data :\n",
"t1=30;//in sec\n",
"t2=50;// in sec\n",
"t3=20;// in sec\n",
"alpha=2;//kmphps\n",
"V1=alpha*(t1);// in km/h\n",
"r=40;// in N/tonne\n",
"G=1;\n",
"bc=((98.1+r))/(277.8*1.1);//in kmphps\n",
"V2=V1-(bc*t2);//km/hr\n",
"S=(((V1*t1)/7200)+(((V1+V2)*t2)/7200)+((V2*t3)/7200));\n",
"D=30;// duration of stop in sec\n",
"Ts=t1+t2+t3+D;\n",
"Vs=((S*3600)/Ts);\n",
"disp(Vs,'Schedule time,Vs(kmph) = ')"
   ]
   }
,
{
		   "cell_type": "markdown",
		   "metadata": {},
		   "source": [
			"## Example 7.13: maximum_power_and_distance_travelled.sce"
		   ]
		  },
  {
"cell_type": "code",
	   "execution_count": null,
	   "metadata": {
	    "collapsed": true
	   },
	   "outputs": [],
"source": [
"//Example 7.13: maximum power and total distance\n",
"clc;\n",
"clear;\n",
"close;\n",
"format('v',5)\n",
"//given data :\n",
"w=250;//in tonnes\n",
"we=(1+(10/100))*w;//efective weight in tonnes\n",
"r=5*9.81;//in N/tonne\n",
"G=1;//\n",
"t1=30;//in sec\n",
"t2=70;// in sec\n",
"alpha=2;//kmphps\n",
"V1=alpha*(t1);// in km/h\n",
"ft=(277.8*we*alpha)+(98.1*G*w)+(w*r);//in newtons\n",
"po=((ft*V1)/3600);//maximum power output in kW\n",
"n=0.97;//efficiency\n",
"pi=po/n;//in kW\n",
"G=1;\n",
"bc=((98.1+r))/(277.8*1.1);//in kmphps\n",
"V2=V1-(bc*t2);//km/hr\n",
"beta1=3;//retardation\n",
"t3=V2/beta1;//in seconds\n",
"S=(((V1*t1)/7200)+(((V1+V2)*t2)/7200)+((V2*t3)/7200));\n",
"disp(round(pi),'maximum power developed by traction motor is (kW)')\n",
"disp(S,'total distance travelled by train in km is')"
   ]
   }
,
{
		   "cell_type": "markdown",
		   "metadata": {},
		   "source": [
			"## Example 7.14: energy_consumption.sce"
		   ]
		  },
  {
"cell_type": "code",
	   "execution_count": null,
	   "metadata": {
	    "collapsed": true
	   },
	   "outputs": [],
"source": [
"//Example 7.14: Energy consumption\n",
"clc;\n",
"clear;\n",
"close;\n",
"format('v',8)\n",
"//given data :\n",
"Vm=52;//max speed in kmph\n",
"t3=15.8;// duration of braking in sec\n",
"D=(1/2)*Vm*(t3/3600);\n",
"S=1400;// in m\n",
"S1=(S*10^-3)-D;\n",
"r=50;//in N/tonne\n",
"WeBY_W=1.1;\n",
"Ec=((0.01072*Vm^2*WeBY_W)/(S*10^-3))+(0.2778*r*(S1/(S*10^-3)));\n",
"disp(Ec,'energy consumption in Wh is')"
   ]
   }
,
{
		   "cell_type": "markdown",
		   "metadata": {},
		   "source": [
			"## Example 7.15: specific_energy_consumption.sce"
		   ]
		  },
  {
"cell_type": "code",
	   "execution_count": null,
	   "metadata": {
	    "collapsed": true
	   },
	   "outputs": [],
"source": [
"//Example 7.15: specific energy consumption\n",
"clc;\n",
"clear;\n",
"close;\n",
"format('v',9)\n",
"//given data :\n",
"w=1;//in tonnes\n",
"we=(1+(10/100))*w;//efective weight in tonnes\n",
"S=1525;//in meters\n",
"r=52.6/1000;//in N/kg\n",
"alpha=0.366;//m/s^2\n",
"V1=12.2;// in m/s\n",
"t1=V1/alpha;//in seconds\n",
"ft=we*alpha+r;//in newtons\n",
"ter=((1/2)*ft*V1*t1)/3600;//in watt-hours\n",
"seo=ter/(w*S);// in Wh/kg-m\n",
"n=0.65;//efficiency\n",
"sec1=seo/n//in Wh/kg-m\n",
"disp(sec1,'specific energy onsumption in Wh/kg-m')"
   ]
   }
,
{
		   "cell_type": "markdown",
		   "metadata": {},
		   "source": [
			"## Example 7.16: sceduled_speed_and_specific_energy_consumption.sce"
		   ]
		  },
  {
"cell_type": "code",
	   "execution_count": null,
	   "metadata": {
	    "collapsed": true
	   },
	   "outputs": [],
"source": [
"//Example 7.16: Schedule speed and Specific energy consumption\n",
"clc;\n",
"clear;\n",
"close;\n",
"//given data :\n",
"t1=30;//in sec\n",
"t2=50;// in sec\n",
"t3=20;// in sec\n",
"alpha=2;//kmphps\n",
"V1=alpha*(t1);// in km/h\n",
"r=40;// in N/tonne\n",
"G=1;\n",
"bc=((98.1+r))/(277.8*1.1);//in kmphps\n",
"V2=V1-(bc*t2);//km/hr\n",
"S=(((V1*t1)/7200)+(((V1+V2)*t2)/7200)+((V2*t3)/7200));\n",
"D=15;// duration of stop in sec\n",
"Ts=t1+t2+t3+D;\n",
"Vs=((S*3600)/Ts);\n",
"disp(Vs,'Schedule speed,Vs(kmph) = ')\n",
"S1=(V1*t1)/7200;//in meters\n",
"r=50;//in N/tonne\n",
"WeBY_W=1.1;\n",
"G=1;//\n",
"Ec=((0.01072*V1^2*WeBY_W)/(S))+(0.2778*(98.1*G+r)*((S1)/(S)));\n",
"N=0.75;//\n",
"Sec=Ec/0.75;//\n",
"disp(Sec,'Specific energy consumption in Wh/tonne-km is')"
   ]
   }
,
{
		   "cell_type": "markdown",
		   "metadata": {},
		   "source": [
			"## Example 7.17: sceduled_speed_and_specific_energy_consumption.sce"
		   ]
		  },
  {
"cell_type": "code",
	   "execution_count": null,
	   "metadata": {
	    "collapsed": true
	   },
	   "outputs": [],
"source": [
"//Example 7.17: Schedule speed and specific energy consumption\n",
"clc;\n",
"clear;\n",
"close;\n",
"//given data :\n",
"t1=30;//in sec\n",
"t2=50;// in sec\n",
"t3=20;// in sec\n",
"alpha=2;//kmphps\n",
"V1=alpha*(t1);// in km/h\n",
"r=40;// in N/tonne\n",
"G=-1;\n",
"bc=((-98.1+r))/(277.8*1.1);//in kmphps\n",
"V2=V1-(bc*t2);//km/hr\n",
"S=(((V1*t1)/7200)+(((V1+V2)*t2)/7200)+((V2*t3)/7200));\n",
"D=15;// duration of stop in sec\n",
"Ts=t1+t2+t3+D;\n",
"Vs=((S*3600)/Ts);\n",
"disp(Vs,'Schedule speed,Vs(kmph) = ')\n",
"S1=(V1*t1)/7200;//in meters\n",
"r=50;//in N/tonne\n",
"WeBY_W=1.1;\n",
"Ec=((0.01072*V1^2*WeBY_W)/(S))+(0.2778*(98.1*G+r)*((S1)/(S)));\n",
"N=0.75;//\n",
"Sec=Ec/0.75;//\n",
"disp(Sec,'Specific energy consumption in Wh/tonne-km is')"
   ]
   }
,
{
		   "cell_type": "markdown",
		   "metadata": {},
		   "source": [
			"## Example 7.18: maximum_power_total_energy_consumption_and_specific_energy_consumption.sce"
		   ]
		  },
  {
"cell_type": "code",
	   "execution_count": null,
	   "metadata": {
	    "collapsed": true
	   },
	   "outputs": [],
"source": [
"//Example 7.18.//maximum power,total energy consumption and specific energy consumption\n",
"clc;\n",
"clear;\n",
"close;\n",
"format('v',6)\n",
"//given data :\n",
"W=100;//in tonne\n",
"We=1.1*W;// in tonne\n",
"S=2.5;// distance in km\n",
"Va=50;//Average speed in kmph\n",
"Dr=(3600*S)/Va;\n",
"alfa=1;// in km/h/sec\n",
"Beta=2;// in km/h/sec\n",
"T=180;\n",
"r=40;//in N/tonne\n",
"G=1;\n",
"K=(1/(2*alfa))+(1/(2*Beta));\n",
"Vm=round((T/(2*K))-sqrt((T/(2*K))^2-((3600*S)/K)));// maximum speed\n",
"t1=Vm/alfa;// acceleration period\n",
"t3=Vm/Beta;// braking period\n",
"t2=T-(t1+t3);// in sec\n",
"Ft=(277.8*We*alfa)+(98.1*W*G)+(W*r);\n",
"P_max=round((Ft*Vm)/3600);\n",
"disp('part (a)')\n",
"disp(P_max,'Maximum power,(kWh) = ')\n",
"e=60/100;// efficiency\n",
"Ft=(277.8*We*alfa)+(98.1*W*G)+(W*r);\n",
"Ft_dash=(98.1*W*G)+(W*r);\n",
"P_max=round((Ft*Vm)/3600);\n",
"Et=((1/2)*Ft)*(Vm/3600)*(t1/3600)+((Ft_dash*Vm)/3600)*(t2/3600);\n",
"Ec=Et/e;\n",
"disp('part (b) ')\n",
"disp(Ec,'Total Energy Consumption,Ec(kWh) = ')\n",
"Sec=(Ec*1000)/(W*S);\n",
"disp('part (c) ')\n",
"disp(Sec,'Specific Energy Consumption,(Wh/tonne-km) = ')"
   ]
   }
,
{
		   "cell_type": "markdown",
		   "metadata": {},
		   "source": [
			"## Example 7.19: maximum_power_and_energy_taken.sce"
		   ]
		  },
  {
"cell_type": "code",
	   "execution_count": null,
	   "metadata": {
	    "collapsed": true
	   },
	   "outputs": [],
"source": [
"//Example 7.19. //maximum power and energy taken\n",
"clc;\n",
"clear;\n",
"close;\n",
"//given data :\n",
"format( 'v',7)\n",
"W=203;//in tonne\n",
"We=1.1*W;// in tonne\n",
"r=44;// N/tonne\n",
"G=(1/500)*100;// gradient\n",
"Vm=45;// maximum speed in kmph\n",
"t1=30;// in sec\n",
"alfa=Vm/t1;// in kmph\n",
"Ft=(277.8*We*alfa)+(98.1*W*G)+(W*r);// in N\n",
"Po=(Ft*Vm)/3600;\n",
"disp('part (a)')\n",
"disp(Po,'The maximum power output,(kW) = ')\n",
"e=60/100;// efficiency\n",
"Et=(1/2)*((Ft*Vm)/3600)*(t1/3600);\n",
"E=(Et/e);\n",
"disp(' part (b) ')\n",
"disp(E,'The energy taken(kWh) = ')"
   ]
   }
,
{
		   "cell_type": "markdown",
		   "metadata": {},
		   "source": [
			"## Example 7.1: distance_average_speed_and_scheduled_speed.sce"
		   ]
		  },
  {
"cell_type": "code",
	   "execution_count": null,
	   "metadata": {
	    "collapsed": true
	   },
	   "outputs": [],
"source": [
"//Example 7.1.//distance,average speed and scheduled speed\n",
"clc;\n",
"clear;\n",
"close;\n",
"format('v',6)\n",
"a=5;//aceleration in kmphps\n",
"t1=30;//in seconds\n",
"vm=a*t1;//maximum speed in kmph\n",
"tfr=10;//time for free running in mins\n",
"b=5;//retardation in kmphps\n",
"ts=vm/b;//time for retardation in seconds\n",
"dta=((vm*t1)/(2*3600));//distance travelled during acceleration period\n",
"dtfr=((vm*tfr*60)/(3600));//distance travelled during retardation period\n",
"dtbp=dta;//distance travelled during breaking period\n",
"td=dta+dtfr+dtbp;//total distance between stations\n",
"disp('part (a) ')\n",
"disp(td,'total distance between station in km')\n",
"T=[0;t1;(t1+(tfr*60));(t1+(t1+(tfr*60)))];//\n",
"V=[0;vm;vm;0];//\n",
"plot2d(T,V)\n",
"xlabel('Time in seconds ')\n",
"ylabel('Spped in Km per Hour')\n",
"va=(td*3600)/(t1+(tfr*60)+ts);//average speed in kmph\n",
"disp('part (b) ')\n",
"disp(va,'average speed in kmph')\n",
"tst=5;//stop time in mins\n",
"vs=(td*3600)/(t1+(tfr*60)+ts+(tst*60));//sheduled speed in kmph\n",
"disp('part (c) ')\n",
"disp(vs,'sheduled speed in kmph')"
   ]
   }
,
{
		   "cell_type": "markdown",
		   "metadata": {},
		   "source": [
			"## Example 7.20: maximum_power_and_specific_energy_consumption.sce"
		   ]
		  },
  {
"cell_type": "code",
	   "execution_count": null,
	   "metadata": {
	    "collapsed": true
	   },
	   "outputs": [],
"source": [
"//Example 7.20.maximum power and specific energy consumption\n",
"clc;\n",
"clear;\n",
"close;\n",
"format('v',7)\n",
"//given data :\n",
"W=16;//in tonne\n",
"We=1.1*W;// in tonne\n",
"Vs=45;//in kmph\n",
"r=40;// in N/tonne\n",
"S=2.8;// in km\n",
"Ts=(S*3600)/Vs;\n",
"Td=30;// in sec\n",
"T=Ts-Td;\n",
"alfa=2;//in kmphps\n",
"Beta=3.2;// in kmphps\n",
"K=(1/(2*alfa))+(1/(2*Beta));\n",
"Vm=round((T/(2*K))-sqrt((T/(2*K))^2-((3600*S)/K)));// maximum speed\n",
"t1=Vm/alfa;// acceleration time\n",
"t3=Vm/Beta;// duration of braking\n",
"t2=T-(t1+t3);// time f free run in sec\n",
"Ft=(277.8*We*alfa)+(W*r);\n",
"P_max=(Ft*Vm)/3600;\n",
"disp('part (a)')\n",
"disp(P_max,'Maximum power output,(kW) = ')\n",
"// answer is wrong in book\n",
"Va=50;//Average speed in kmph\n",
"Dr=(3600*S)/Va;\n",
"T=180;\n",
"G=1;\n",
"e=80/100;//efficiency\n",
"Dt=(1/2)*((Vm*t3)/3600);// distance travelled during braking period in km\n",
"S1=S-Dt;// distance travelled with power in km\n",
"So=(((0.01072*Vm^2)/S)*(We/W))+((0.2778*r*S1)/S);\n",
"Sec=So/e;\n",
"disp('part (b)')\n",
"disp(Sec,'Specific energy consumption,(Wh/tonne-km) = ')\n",
"// answer is wrong in book"
   ]
   }
,
{
		   "cell_type": "markdown",
		   "metadata": {},
		   "source": [
			"## Example 7.21: Schedule_speed_specific_energy_consumption_total_energy_consumption_and_distance.sce"
		   ]
		  },
  {
"cell_type": "code",
	   "execution_count": null,
	   "metadata": {
	    "collapsed": true
	   },
	   "outputs": [],
"source": [
"//Example 7.21: Schedule speed,specific energy consumption,total energy consumption and distance\n",
"clc;\n",
"clear;\n",
"close;\n",
"//given data :\n",
"format('v',6)\n",
"t1=30;//in sec\n",
"t2=40;// in sec\n",
"t3=30;// in sec\n",
"alpha=2;//kmphps\n",
"V1=alpha*(t1);// in km/h\n",
"r=40;// in N/tonne\n",
"G=1;\n",
"bc=((98.1+r))/(277.8*1.1);//in kmphps\n",
"V2=V1-(bc*t3);//km/hr\n",
"Beta=2.5;//retardation\n",
"t4=V2/Beta;//in seconds\n",
"S=(((V1*t1)/7200)+((V1*t2)/3600)+(((V1+V2)*t3)/7200)+((V2*t4)/7200));\n",
"D=15;// duration of stop in sec\n",
"Ts=t1+t2+t3+t4+D;\n",
"Vs=((S*3600)/Ts);\n",
"disp('part (a)')\n",
"disp(Vs,'Schedule time,Vs(kmph) = ')\n",
"disp('part (b)')\n",
"S1=((V1*t1)/7200)+((V1*t2)/3600);//in km\n",
"WeBY_W=1.1;\n",
"G=1;//\n",
"Ec=((0.01072*V1^2*WeBY_W)/(S))+(0.2778*(98.1*G+r)*((S1)/(S)));\n",
"N=0.75;//\n",
"Sec=Ec/0.75;//\n",
"disp(Sec,'Specific energy consumption in Wh/tonne-km is')\n",
"disp('part (c)')\n",
"W=200;//\n",
"tec=(Sec*W*S);//\n",
"disp(tec*10^-3,'total energy consumption in kWh')\n",
"disp('part (d)')\n",
"disp(S,'total distance travelled in Km is')"
   ]
   }
,
{
		   "cell_type": "markdown",
		   "metadata": {},
		   "source": [
			"## Example 7.22: specific_energy_consumption.sce"
		   ]
		  },
  {
"cell_type": "code",
	   "execution_count": null,
	   "metadata": {
	    "collapsed": true
	   },
	   "outputs": [],
"source": [
"//Example 7.22: specific energy consumption\n",
"clc;\n",
"clear;\n",
"close;\n",
"//given data :\n",
"W=500;//\n",
"t1=60;//in sec\n",
"t2=5*60;// in sec\n",
"t3=3*60;// in sec\n",
"alpha=2.5;//kmphps\n",
"V1=alpha*(t1);// in km/h\n",
"r=25;// in N/tonne\n",
"G=1;\n",
"bc=(((98.1*(8/1000)*100)+r))/(277.8*1.1);//in kmphps\n",
"V2=V1-(bc*t3);//km/hr\n",
"Beta=3;//retardation\n",
"t4=V2/Beta;//in seconds\n",
"S=(((V1*t1)/7200)+((V1*t2)/3600)+(((V1+V2)*t3)/7200)+((V2*t4)/7200));\n",
"D=15;// duration of stop in sec\n",
"Ts=t1+t2+t3+t4+D;\n",
"Vs=((S*3600)/Ts);\n",
"S1=((V1*t1)/7200)+((V1*t2)/3600);//in km\n",
"WeBY_W=1.1;\n",
"G=1;//\n",
"Ec=((0.01072*V1^2*WeBY_W)/(S))+(0.2778*((98.1*(8/1000)*100)+r)*((S1)/(S)));\n",
"N=0.80;//\n",
"Sec=Ec/N;//\n",
"disp(Sec,'Specific energy consumption in Wh/tonne-km is')"
   ]
   }
,
{
		   "cell_type": "markdown",
		   "metadata": {},
		   "source": [
			"## Example 7.23: weight_and_number_of_axles.sce"
		   ]
		  },
  {
"cell_type": "code",
	   "execution_count": null,
	   "metadata": {
	    "collapsed": true
	   },
	   "outputs": [],
"source": [
"//Example 7.23: weight of the locomotive abd number of axles\n",
"clc;\n",
"clear;\n",
"close;\n",
"//given data :\n",
"Wl=1;//\n",
"W1=400;//\n",
"G=2;//in percentage\n",
"mu=0.2;//\n",
"alpha=1;//\n",
"r=40;//\n",
"x=(277.8*1.1*alpha+98.1*G+r)/(9.81*1000);//\n",
"wlo=(x*W1)/(mu-x);//in tonnes\n",
"al=22;//allowable load in tonnes\n",
"na=wlo/al;//\n",
"disp(wlo,'weight of the locomotive in tonnes')\n",
"disp(round(na),'number of axles required')"
   ]
   }
,
{
		   "cell_type": "markdown",
		   "metadata": {},
		   "source": [
			"## Example 7.24: weight_and_number_of_axles.sce"
		   ]
		  },
  {
"cell_type": "code",
	   "execution_count": null,
	   "metadata": {
	    "collapsed": true
	   },
	   "outputs": [],
"source": [
"//Example 7.24: weight of the locomotive abd number of axles\n",
"clc;\n",
"clear;\n",
"close;\n",
"//given data :\n",
"W=12*30;//tonnes\n",
"we=1.04*360;//tonnes\n",
"r=5*9.81;//\n",
"G=1;//in percentage\n",
"mu=0.2;//\n",
"alpha=0.8;//\n",
"x=13.882;//\n",
"y=0.041;//\n",
"wlo=(x)/(mu-y);//in tonnes\n",
"al=20;//allowable load in tonnes\n",
"na=wlo/al;//\n",
"disp(wlo,'weight of the locomotive in tonnes')\n",
"disp(ceil(na),'number of axles required')"
   ]
   }
,
{
		   "cell_type": "markdown",
		   "metadata": {},
		   "source": [
			"## Example 7.25: trailing_weight_and_maximum_gradiant.sce"
		   ]
		  },
  {
"cell_type": "code",
	   "execution_count": null,
	   "metadata": {
	    "collapsed": true
	   },
	   "outputs": [],
"source": [
"//Example 7.25.//trailing weight and maximum gradiant\n",
"clc;\n",
"clear;\n",
"close;\n",
"format('v',6)\n",
"//given data :\n",
"w1=100;//tonnes\n",
"w=w1+500;//tonnes\n",
"we=1.1*w;//effective weight\n",
"alpha=1;//\n",
"G=1;//\n",
"r=45;//\n",
"ft=((277.8*we*alpha)+(98.1*w*G)+(w*r));//in newtons\n",
"ad=0.7;//adehsive percent\n",
"mu=(ft)/(100*10^3*9.81*ad);//\n",
"w2=130;//tonnes\n",
"ad2=w2*G;//\n",
"tadw=w1*ad+ad2;//tonnes\n",
"tted=mu*tadw*9.81*1000;//newtones\n",
"W=tted/(277.8*1.1*alpha+98.1*alpha+r);//in tonnes\n",
"trlw=W-(ad2+w1);//\n",
"disp('part (a)')\n",
"disp(round(trlw),'trailig weight in tonnes is')\n",
"w2=w1+500+ad2;//\n",
"G1=((tted/w2)-(277.8*1.1+r))*(1/98.1);//\n",
"disp('part (b)')\n",
"disp(G1,'maximum gradiant in percentage is')"
   ]
   }
,
{
		   "cell_type": "markdown",
		   "metadata": {},
		   "source": [
			"## Example 7.26: acceleratio.sce"
		   ]
		  },
  {
"cell_type": "code",
	   "execution_count": null,
	   "metadata": {
	    "collapsed": true
	   },
	   "outputs": [],
"source": [
"//Example 7.26;acceleration\n",
"clc;\n",
"clear;\n",
"close;\n",
"//given data :\n",
"w1=100;//tonnes\n",
"w=w1+500;//tonnes\n",
"we=1.1*w;//effective weight\n",
"alpha=1;//\n",
"G=1;//\n",
"r=45;//\n",
"ft=((277.8*we*alpha)+(98.1*w*G)+(w*r));//in newtons\n",
"ad=0.7;//adehsive percent\n",
"mu=(ft)/(100*10^3*9.81*ad);//\n",
"w2=130;//tonnes\n",
"ad2=w2*G;//\n",
"tadw=w1*ad+ad2;//tonnes\n",
"tted=mu*tadw*9.81*1000;//newtones\n",
"W=tted/(277.8*1.1*alpha+98.1*alpha+r);//in tonnes\n",
"trlw=W-(ad2+w1);//\n",
"w2=w1+500+ad2;//\n",
"acc=((tted/w2)-(98.1+r))*(1/(277.8*1.1));//in kmphps\n",
"disp(acc,'acceleration in kmphps is')"
   ]
   }
,
{
		   "cell_type": "markdown",
		   "metadata": {},
		   "source": [
			"## Example 7.27: torque_and_weight.sce"
		   ]
		  },
  {
"cell_type": "code",
	   "execution_count": null,
	   "metadata": {
	    "collapsed": true
	   },
	   "outputs": [],
"source": [
"//Example 7.27: Torque and minimum weight\n",
"clc;\n",
"clear;\n",
"close;\n",
"//given data :\n",
"N=4;// number of motor\n",
"W=250;//in tonne\n",
"D=.95;// diameter in m\n",
"G=1;// percentage gradient\n",
"r=40;// in N/tonne\n",
"eta=95/100;// gear efficiency\n",
"gama=3;// gear ratio\n",
"We=1.1*W;\n",
"Vm=40;// kmph\n",
"t1=20;// in seconds\n",
"alfa=Vm/t1;\n",
"Ft=((277.8*We*alfa)+(98.1*W*G)+(W*r));\n",
"T=(Ft*D)/(eta*2*gama);\n",
"Td=round(T/N);\n",
"disp(Td,'Torque developed by each motor,Td(Nm) = ')\n",
"mu=0.25;// adhesive coefficient\n",
"WL=(Ft/(9.81*1000))/mu;\n",
"Dw=round(WL/.75);\n",
"disp(Dw,'Dead weight of locomotive,(tonnes) = ')"
   ]
   }
,
{
		   "cell_type": "markdown",
		   "metadata": {},
		   "source": [
			"## Example 7.2: plot_the_curve.sce"
		   ]
		  },
  {
"cell_type": "code",
	   "execution_count": null,
	   "metadata": {
	    "collapsed": true
	   },
	   "outputs": [],
"source": [
"//Example 7.2 //draw the curve\n",
"clc;\n",
"clear;\n",
"close;\n",
"a=1.7;//aceleration in kmphps\n",
"b=3.3;//kmphps\n",
"s=1400;//m\n",
"va=42;//kmph\n",
"tr=((s*10^-3)/va)*3600;//secomds\n",
"k=((1/(2*a)))+((1/(2*b)));//\n",
"vm=((tr/(2*k))-sqrt(((tr^2)/(4*k^2))-((3600*s*10^-3)/k)));//in kmph\n",
"t1=vm/a;//seconds\n",
"t3=vm/b;//seconds\n",
"t2=tr-(t1+t3);//seconds\n",
"T=[0;(t1);(t1+t2);(t1+t2+t3)];\n",
"V=[0;vm;vm;0];\n",
"plot2d(T,V);\n",
"xlabel('Time in seconds ')\n",
"ylabel('Spped in Km per Hour')"
   ]
   }
,
{
		   "cell_type": "markdown",
		   "metadata": {},
		   "source": [
			"## Example 7.3: speed.sce"
		   ]
		  },
  {
"cell_type": "code",
	   "execution_count": null,
	   "metadata": {
	    "collapsed": true
	   },
	   "outputs": [],
"source": [
"//Example 7.3 //maximum speed\n",
"clc;\n",
"clear;\n",
"close;\n",
"format('v',4)\n",
"a=2.4;//aceleration in kmphps\n",
"b=3.2;//retardation in kmphps\n",
"s=1.5;//in km\n",
"vs=45;//shedule speed in kmph\n",
"ts=(s*3600)/vs;//shedule time in seconds\n",
"tst=20;//stop time\n",
"tr=ts-tst;//actual time for run in seconds\n",
"k=((1/(2*a))+(1/(2*b)));//constant\n",
"vm=((tr/(2*k))-sqrt(((tr^2)/(4*k^2))-((3600*s)/k)));//in kmph\n",
"disp(vm,'maximum speed in kmph')"
   ]
   }
,
{
		   "cell_type": "markdown",
		   "metadata": {},
		   "source": [
			"## Example 7.4: sceduled_speed.sce"
		   ]
		  },
  {
"cell_type": "code",
	   "execution_count": null,
	   "metadata": {
	    "collapsed": true
	   },
	   "outputs": [],
"source": [
"//Example 7.4 //sheduled speed\n",
"clc;\n",
"clear;\n",
"close;\n",
"format('v',4)\n",
"s=1.5;//in Km\n",
"a=0.8;//aceleration in kmphps\n",
"tsr=26;//time for stop in seconds\n",
"rm=1.3;//ratio\n",
"b=3.2;//retardation in kmphps\n",
"k=((1/(2*a))+(1/(2*b)));//constant\n",
"T=1;//assume\n",
"va1=(3600*s)/T;//average spped\n",
"vm1=(va1*rm);//maximum speed\n",
"vm=sqrt((vm1-va1)/k);//maximum speed in kmph\n",
"va=vm/1.3;//actua speed in kmpj\n",
"ta=(3600*s)/va;//actual time in seconds\n",
"ts=ta+tsr;//shedule time\n",
"vs=(s*3600)/ts;//shedule speed in kmph\n",
"disp(vs,'schedule speed in kmph')"
   ]
   }
,
{
		   "cell_type": "markdown",
		   "metadata": {},
		   "source": [
			"## Example 7.5: acceleratio.sce"
		   ]
		  },
  {
"cell_type": "code",
	   "execution_count": null,
	   "metadata": {
	    "collapsed": true
	   },
	   "outputs": [],
"source": [
"//Example 7.5: Acceleration\n",
"clc;\n",
"clear;\n",
"close;\n",
"//given data :\n",
"S=1;// in km\n",
"Vs=30;// in km/h\n",
"Ts=(S*3600)/Vs; // in sec\n",
"D=20;// duration of stop in sec\n",
"T=Ts-D;// in sec\n",
"Va=(S*3600)/T;// Average speed in km/h\n",
"Vm=1.25*Va;// Maximum speed in km/h\n",
"beta1=3;// braking retardation in km/h/sec\n",
"A=((Vm*T)-(S*3600))/Vm^2;\n",
"B=1/(2*beta1);\n",
"alfa=1/(2*(A-B));\n",
"disp(alfa,'The Acceleration,alfa(km/h/sec) = ')"
   ]
   }
,
{
		   "cell_type": "markdown",
		   "metadata": {},
		   "source": [
			"## Example 7.6: retardatio.sce"
		   ]
		  },
  {
"cell_type": "code",
	   "execution_count": null,
	   "metadata": {
	    "collapsed": true
	   },
	   "outputs": [],
"source": [
"//Example 7.6: Retardation\n",
"clc;\n",
"clear;\n",
"close;\n",
"//given data :\n",
"format('v',6)\n",
"S=4;// in km\n",
"Vs=45;// in km/h\n",
"Ts=(S*3600)/Vs; // in sec\n",
"D=30;// duration of stop in sec\n",
"T=Ts-D;// in sec\n",
"Vm=70;// Maximum speed in km/h\n",
"alfa=1.5;// in km/h/sec\n",
"A=((Vm*T)-(S*3600))/Vm^2;\n",
"B=1/(2*alfa);\n",
"Beta=1/(2*(A-B));\n",
"disp(Beta,'Retardation(km/h/sec) = ')"
   ]
   }
,
{
		   "cell_type": "markdown",
		   "metadata": {},
		   "source": [
			"## Example 7.7: duration_of_acceleration_coasting_and_braking_periods.sce"
		   ]
		  },
  {
"cell_type": "code",
	   "execution_count": null,
	   "metadata": {
	    "collapsed": true
	   },
	   "outputs": [],
"source": [
"//Example 7.7: Acceleration, Coasting and Braking periods\n",
"clc;\n",
"clear;\n",
"close;\n",
"//given data :\n",
"S=1.6;// in km\n",
"Va=40;// in km/h\n",
"V1=64;// in km/h\n",
"alfa=2.0;//in km/p/sec\n",
"Beta_c=0.16;// in km/h/sec\n",
"Beta=3.2;// in km/h/sec\n",
"t1=V1/alfa;// in sec\n",
"disp(t1,'Duration of Acceleration,t1(sec) = ')\n",
"T=(S*3600)/Va;// in sec\n",
"// Formula: T=(V1/alfa)+((V1-V2)/Beta_c)+(V2/Beta)\n",
"V2=(t1+(V1/Beta_c)-T)/((1/Beta_c)-(1/Beta));\n",
"t2=(V1-V2)/Beta_c;\n",
"disp(t2,'Duration of coasting,t2(sec) = ')\n",
"t3=V2/Beta;\n",
"disp(t3,'Duration of braking,t3(sec) = ')"
   ]
   }
,
{
		   "cell_type": "markdown",
		   "metadata": {},
		   "source": [
			"## Example 7.8: torque.sce"
		   ]
		  },
  {
"cell_type": "code",
	   "execution_count": null,
	   "metadata": {
	    "collapsed": true
	   },
	   "outputs": [],
"source": [
"//Example 7.8: Torque\n",
"clc;\n",
"clear;\n",
"close;\n",
"//given data :\n",
"W=200;// weight of train in tonnes\n",
"D=0.9;// diameter in m\n",
"G=(1/200)*100;//percentage gradient\n",
"r=50;// in N/tonne\n",
"gama=4;// gear ratio\n",
"eta=0.80;// gearing efficiency\n",
"We=1.10*W;// in tonne\n",
"Vm=48;// maximum speed in km/h\n",
"t1=30;// in sec\n",
"alfa=Vm/t1;// in km/h/sec\n",
"Ft=(277.8*We*alfa)+(98.1*W*G)+(W*r);// tractive effect required in N\n",
"T1=(Ft*D)/(eta*2*gama);// in N-m\n",
"T=round(T1/8);\n",
"disp(T,'Torque developed by each motor,T(N-m) = ')"
   ]
   }
,
{
		   "cell_type": "markdown",
		   "metadata": {},
		   "source": [
			"## Example 7.9: time_taken_and_current.sce"
		   ]
		  },
  {
"cell_type": "code",
	   "execution_count": null,
	   "metadata": {
	    "collapsed": true
	   },
	   "outputs": [],
"source": [
"//Example 7.9: Time taken and current\n",
"clc;\n",
"clear;\n",
"close;\n",
"//given data :\n",
"V=3000;// line voltage in volts\n",
"W=200;// weight of train in tonnes\n",
"D=0.9;// diameter in m\n",
"G=(30/1000)*100;//percentage gradient\n",
"r=50;// in N/tonne\n",
"gama=4;// gear ratio\n",
"Vm=50;//in km/h\n",
"eta=0.9;// gearing efficiency\n",
"We=1.10*W;// in tonne\n",
"T=4*6000;// in N-m\n",
"eta_m=85/100;// efficiency of motor\n",
"Ft=(eta*T*2*gama)/D;\n",
"A=(98.1*W*G)+(W*r);\n",
"B=Ft-A;\n",
"alfa=B/(277.8*We);// tractive effect required in N\n",
"t=Vm/alfa;\n",
"disp(t,'Time taken ,t(sec) = ')\n",
"Po=(Ft*Vm)/3600;// in kw\n",
"Pi=Po/eta_m;\n",
"It=(Pi*1000)/V;// in A\n",
"I=It/4\n",
"disp(I,'Current drawn per motor,I(A) = ')"
   ]
   }
],
"metadata": {
		  "kernelspec": {
		   "display_name": "Scilab",
		   "language": "scilab",
		   "name": "scilab"
		  },
		  "language_info": {
		   "file_extension": ".sce",
		   "help_links": [
			{
			 "text": "MetaKernel Magics",
			 "url": "https://github.com/calysto/metakernel/blob/master/metakernel/magics/README.md"
			}
		   ],
		   "mimetype": "text/x-octave",
		   "name": "scilab",
		   "version": "0.7.1"
		  }
		 },
		 "nbformat": 4,
		 "nbformat_minor": 0
}
