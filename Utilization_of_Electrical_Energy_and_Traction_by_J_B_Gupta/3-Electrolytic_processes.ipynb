{
"cells": [
 {
		   "cell_type": "markdown",
	   "metadata": {},
	   "source": [
       "# Chapter 3: Electrolytic processes"
	   ]
	},
{
		   "cell_type": "markdown",
		   "metadata": {},
		   "source": [
			"## Example 3.10: quantity_of_electricity_and_ime_taken.sce"
		   ]
		  },
  {
"cell_type": "code",
	   "execution_count": null,
	   "metadata": {
	    "collapsed": true
	   },
	   "outputs": [],
"source": [
"//Example 3.10 // quantity of electricity and time taken\n",
"clc;\n",
"clear;\n",
"close;\n",
"//given data :\n",
"d=0.1;//in m\n",
"l=.25;// in m\n",
"Tc=2;// thickness of coating in mm\n",
"D=8.9;//density of metal in gm/CC\n",
"C_density=160;//in A/sq\n",
"I_efficiency=0.9;\n",
"S=%pi*d*l;\n",
"m=S*Tc*10^-3*D*10^3;\n",
"Z=30.43*10^-8;// in kg/C\n",
"Q=(m/Z)/3600;// in A-h\n",
"Q_dash=Q/I_efficiency;\n",
"disp(Q_dash,'quantity of electricity,Q_dash(A-h) = ')\n",
"I=C_density*S;\n",
"t=Q_dash/I;\n",
"disp(t,'time required,t(hours) = ')"
   ]
   }
,
{
		   "cell_type": "markdown",
		   "metadata": {},
		   "source": [
			"## Example 3.1: ampere_hours.sce"
		   ]
		  },
  {
"cell_type": "code",
	   "execution_count": null,
	   "metadata": {
	    "collapsed": true
	   },
	   "outputs": [],
"source": [
"//Example 3.1 // ampere hour required\n",
"clc;\n",
"clear;\n",
"close;\n",
"//given data :\n",
"r=5;//in cm\n",
"S=4*%pi*r^2;\n",
"t=0.005;//in mm\n",
"d=10.5;\n",
"m=S*t*d*10^-3;\n",
"Z=(0.001118*3600)/1000;\n",
"Amr=m/Z;\n",
"disp(Amr,'ampere hour required,(Ampere-hour)= ')"
   ]
   }
,
{
		   "cell_type": "markdown",
		   "metadata": {},
		   "source": [
			"## Example 3.2: amount_of_copper.sce"
		   ]
		  },
  {
"cell_type": "code",
	   "execution_count": null,
	   "metadata": {
	    "collapsed": true
	   },
	   "outputs": [],
"source": [
"//Example 3.2 // mass of copper deposited\n",
"clc;\n",
"clear;\n",
"close;\n",
"//given data :\n",
"m=20;//in gm\n",
"I=120;//in A\n",
"t=10*60;//in sec\n",
"t1=5*60;//in sec\n",
"I1=100;//in A\n",
"Cec=63.18/2;\n",
"Cen=58.6/2;\n",
"Z=m/(I*t);\n",
"Z1=(Z*(Cec/Cen))*10^-3;\n",
"m1=Z1*I1*t1;\n",
"disp('mass of copper depsoited is '+string(m1)+'kg or '+string(round(m1*10^3))+'gm')"
   ]
   }
,
{
		   "cell_type": "markdown",
		   "metadata": {},
		   "source": [
			"## Example 3.3: weight_of_copper.sce"
		   ]
		  },
  {
"cell_type": "code",
	   "execution_count": null,
	   "metadata": {
	    "collapsed": true
	   },
	   "outputs": [],
"source": [
"//Example 3.3 // mass of copper deposited\n",
"clc;\n",
"clear;\n",
"close;\n",
"//given data :\n",
"Z=1.044*10^-8;//in kg/C\n",
"I=40;//in A\n",
"t=1*60*60;//in seconds\n",
"m1=Z*I*t;\n",
"disp('mass of copper depsoited is '+string(m1)+'kg or '+string((m1*10^3))+'gm')"
   ]
   }
,
{
		   "cell_type": "markdown",
		   "metadata": {},
		   "source": [
			"## Example 3.4: thickness.sce"
		   ]
		  },
  {
"cell_type": "code",
	   "execution_count": null,
	   "metadata": {
	    "collapsed": true
	   },
	   "outputs": [],
"source": [
"//Example 3.4 // thickness of copper deposited\n",
"clc;\n",
"clear;\n",
"close;\n",
"//given data :\n",
"A=0.00025;//in m^2\n",
"D=8900;//in kg/m^3\n",
"Z=32.95*10^-8;//in kg/C\n",
"I=1;//in A\n",
"t=100*60;//in seconds\n",
"m=Z*I*t;//in kg\n",
"v=m/D;\n",
"T=(v/A)*10^3;\n",
"disp(T,'thickness of copper deposited,T(mm) = ')"
   ]
   }
,
{
		   "cell_type": "markdown",
		   "metadata": {},
		   "source": [
			"## Example 3.5: thickness.sce"
		   ]
		  },
  {
"cell_type": "code",
	   "execution_count": null,
	   "metadata": {
	    "collapsed": true
	   },
	   "outputs": [],
"source": [
"//Example 3.5 // thickness of copper deposited\n",
"clc;\n",
"clear;\n",
"close;\n",
"//given data :\n",
"A=0.00025;//in m^2\n",
"D=8900;//in kg/m^3\n",
"Z=32.95*10^-8;//in kg/C\n",
"I=1.5;//in A\n",
"t=60*60;//in seconds\n",
"m=Z*I*t;//in kg\n",
"v=m/D;\n",
"T=(v/A);\n",
"disp('Thickness of copper deposited is '+string(T)+'m or '+string(T*10^3)+'mm')"
   ]
   }
,
{
		   "cell_type": "markdown",
		   "metadata": {},
		   "source": [
			"## Example 3.6: current.sce"
		   ]
		  },
  {
"cell_type": "code",
	   "execution_count": null,
	   "metadata": {
	    "collapsed": true
	   },
	   "outputs": [],
"source": [
"//Example 3.6 // current\n",
"clc;\n",
"clear;\n",
"close;\n",
"//given data :\n",
"m=50;// in gm\n",
"t=2*60*60;// in sec\n",
"ECE_silver=111.8*10^-8;// in kg C^-1\n",
"atomic_weight1=108;// for silver\n",
"atomic_weight2=63.5;//for copper\n",
"valency=1;//for silver\n",
"Ces=atomic_weight1/valency;// chemical equivalent of silver\n",
"Cec=atomic_weight2/2;// chemical equivalent of copper\n",
"Z=ECE_silver*(Cec/Ces);\n",
"I=(m*10^-3)/(Z*t);\n",
"disp(I,'current,I(A) = ')"
   ]
   }
,
{
		   "cell_type": "markdown",
		   "metadata": {},
		   "source": [
			"## Example 3.7: energy_consumption.sce"
		   ]
		  },
  {
"cell_type": "code",
	   "execution_count": null,
	   "metadata": {
	    "collapsed": true
	   },
	   "outputs": [],
"source": [
"//Example 3.7 // energy consumption\n",
"clc;\n",
"clear;\n",
"close;\n",
"//given data :\n",
"a=500;// electrolytic cells\n",
"I=6000;//in A\n",
"t=40;//in hour/week\n",
"Z=32.81*10^-8*3600;//in kg/A-h\n",
"V=0.25;// in volts\n",
"Ah=a*I*(t*52);// total number of ampere hour per annum\n",
"Ao=Z*Ah*10^-3;// annual output in tonnes\n",
"Ea=Ah*V*10^-3;// energy consumed per annum in kWh\n",
"Et=Ea/Ao;\n",
"disp(Et,'energy consumption,Et(kWh/tonne) = ')"
   ]
   }
,
{
		   "cell_type": "markdown",
		   "metadata": {},
		   "source": [
			"## Example 3.8: voltage.sce"
		   ]
		  },
  {
"cell_type": "code",
	   "execution_count": null,
	   "metadata": {
	    "collapsed": true
	   },
	   "outputs": [],
"source": [
"//Example 3.8 // voltage\n",
"clc;\n",
"clear;\n",
"close;\n",
"//given data :\n",
"Z=1.0384*10^-8;//in kg/C\n",
"VbyZ=14.212*10^7;// in joules\n",
"V=VbyZ*Z;\n",
"disp(V,'voltage,V(volts) = ')"
   ]
   }
,
{
		   "cell_type": "markdown",
		   "metadata": {},
		   "source": [
			"## Example 3.9: WEIGHT_OF_ALUMINIUM.sce"
		   ]
		  },
  {
"cell_type": "code",
	   "execution_count": null,
	   "metadata": {
	    "collapsed": true
	   },
	   "outputs": [],
"source": [
"//Example 3.9 // mass of aluminium\n",
"clc;\n",
"clear;\n",
"close;\n",
"//given data :\n",
"ECE_silver=111*10^-8;//in kg/C\n",
"Cew_silver=107.98;//chemical equivalent of silver\n",
"Cew_al=27/3;//chemical equivalent of aluminium\n",
"Z=(ECE_silver*Cew_al)/Cew_silver;\n",
"C_efficiency=0.92;\n",
"I=3000;//in A\n",
"t=24*60*60;//in seconds\n",
"m=Z*I*t*C_efficiency;\n",
"disp(m,'mass of aluminium,,m(kg) = ')"
   ]
   }
],
"metadata": {
		  "kernelspec": {
		   "display_name": "Scilab",
		   "language": "scilab",
		   "name": "scilab"
		  },
		  "language_info": {
		   "file_extension": ".sce",
		   "help_links": [
			{
			 "text": "MetaKernel Magics",
			 "url": "https://github.com/calysto/metakernel/blob/master/metakernel/magics/README.md"
			}
		   ],
		   "mimetype": "text/x-octave",
		   "name": "scilab",
		   "version": "0.7.1"
		  }
		 },
		 "nbformat": 4,
		 "nbformat_minor": 0
}
