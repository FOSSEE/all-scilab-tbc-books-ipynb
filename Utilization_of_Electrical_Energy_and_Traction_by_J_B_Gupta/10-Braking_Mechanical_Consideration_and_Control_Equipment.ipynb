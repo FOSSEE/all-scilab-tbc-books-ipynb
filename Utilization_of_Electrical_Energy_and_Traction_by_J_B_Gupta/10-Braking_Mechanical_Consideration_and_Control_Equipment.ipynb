{
"cells": [
 {
		   "cell_type": "markdown",
	   "metadata": {},
	   "source": [
       "# Chapter 10: Braking Mechanical Consideration and Control Equipment"
	   ]
	},
{
		   "cell_type": "markdown",
		   "metadata": {},
		   "source": [
			"## Example 10.1: braking_torque.sce"
		   ]
		  },
  {
"cell_type": "code",
	   "execution_count": null,
	   "metadata": {
	    "collapsed": true
	   },
	   "outputs": [],
"source": [
"//Example 10.1:braking torque\n",
"clc;\n",
"clear;\n",
"close;\n",
"I=[50;100;150;200;250];//\n",
"sp=[73.6;48;41.1;37.3;35.2];\n",
"T=[150;525;930;1335;1750];\n",
"v=600;//in volts\n",
"rm=0.6;//\n",
"eb=v-(I(2)*rm);//in volts\n",
"rh=3;//in ohms\n",
"tr=rh+rm;//in ohms\n",
"i=eb/tr;//in amperes\n",
"tr=T(3);//\n",
"disp(tr,'braking torque is (N-m)')"
   ]
   }
,
{
		   "cell_type": "markdown",
		   "metadata": {},
		   "source": [
			"## Example 10.2: resistance.sce"
		   ]
		  },
  {
"cell_type": "code",
	   "execution_count": null,
	   "metadata": {
	    "collapsed": true
	   },
	   "outputs": [],
"source": [
"//Example 10.2:reistance\n",
"clc;\n",
"clear;\n",
"close;\n",
"I=[20;40;60;80];//\n",
"emf=[215;381;485;550];//in volts\n",
"emf2=[202;357;455;516];//\n",
"lt=40*9.81;// in N-m\n",
"N=600;//rpm\n",
"il=lt*(2*%pi*(N/60));//in W\n",
"ia=56;//in amperes from curve\n",
"va=440;//in volts from graph\n",
"tr=va/ia;// in ohms\n",
"tm=0.8;//in ohms\n",
"er=tr-tm;//in ohms\n",
"disp(er,'external resistance to be connected across the motor during break is in ohm')"
   ]
   }
,
{
		   "cell_type": "markdown",
		   "metadata": {},
		   "source": [
			"## Example 10.3: electrical_energy_and_average_power.sce"
		   ]
		  },
  {
"cell_type": "code",
	   "execution_count": null,
	   "metadata": {
	    "collapsed": true
	   },
	   "outputs": [],
"source": [
"//Example 10.3: Electrical energy and average power\n",
"clc;\n",
"clear;\n",
"close;\n",
"//given data :\n",
"format('v',6)\n",
"W=400;//in tonne\n",
"We=1.1*W;// in tonne\n",
"S=2;// distance in km\n",
"G=2;// gradient in %\n",
"eta=75/100;// efficiency\n",
"D=2;// distance in km\n",
"V1=40;// in km\n",
"V2=20;// in km\n",
"r=40;//N/tonne\n",
"Ea=(0.01072*We*(V1^2-V2^2))*10^-3;// in kWh\n",
"Ft=(W*r)-(98.1*W*G);\n",
"M=(-Ft*S*1000)/(1000*3600);\n",
"Et=Ea+M;// total energy available\n",
"Ee=eta*Et;\n",
"disp(Ee,'Electrical energy,Ee(kWh) = ')\n",
"As=(V1+V2)/2;// average speed\n",
"At=D/As;// Average time taken\n",
"P=round(Ee/At);\n",
"disp(P,'Average power,P(kW) = ')"
   ]
   }
,
{
		   "cell_type": "markdown",
		   "metadata": {},
		   "source": [
			"## Example 10.4: energy_returned.sce"
		   ]
		  },
  {
"cell_type": "code",
	   "execution_count": null,
	   "metadata": {
	    "collapsed": true
	   },
	   "outputs": [],
"source": [
"//Example 10.4: Energy returned to the line\n",
"clc;\n",
"clear;\n",
"close;\n",
"//given data :\n",
"W=2340;//in tonne\n",
"We=1.1*W;// in tonne\n",
"G=100/80;// gradient in %\n",
"eta=70/100;// efficiency\n",
"V1=60;// in km\n",
"V2=36;// in km\n",
"r=5*9.81;//N/tonne\n",
"t=5*60;// in sec\n",
"Ea=(0.01072*We*(V1^2-V2^2))*10^-3;// in kWh\n",
"Ft=(W*r)-(98.1*W*G);//tractive effort in N\n",
"D=((V1+V2)/2)*(1000/3600)*t;// distance moved in m\n",
"M=(-Ft*D)/(1000*3600);\n",
"Et=Ea+M;\n",
"El=eta*Et;\n",
"disp(El,'Energy returned to the line,El(kWh) = ')"
   ]
   }
,
{
		   "cell_type": "markdown",
		   "metadata": {},
		   "source": [
			"## Example 10.5: power.sce"
		   ]
		  },
  {
"cell_type": "code",
	   "execution_count": null,
	   "metadata": {
	    "collapsed": true
	   },
	   "outputs": [],
"source": [
"//Example 10.5: Energy returned to the line\n",
"clc;\n",
"clear;\n",
"close;\n",
"//given data :\n",
"W=500;//in tonne\n",
"G=(20*100)/1000;// gradient in %\n",
"eta=75/100;// efficiency\n",
"V=40;// in kmph\n",
"r=40;//N/tonne\n",
"Ft=(W*r)-(98.1*W*G);//tractive effort in N\n",
"P=(-Ft*V)/3600;// Power available in kW\n",
"Pf=round(P*eta);\n",
"disp(Pf,'power fed into the line,Pf(kW) = ')"
   ]
   }
,
{
		   "cell_type": "markdown",
		   "metadata": {},
		   "source": [
			"## Example 10.6: power.sce"
		   ]
		  },
  {
"cell_type": "code",
	   "execution_count": null,
	   "metadata": {
	    "collapsed": true
	   },
	   "outputs": [],
"source": [
"//Example 10.6: Power generated\n",
"clc;\n",
"clear;\n",
"close;\n",
"//given data :\n",
"OD=640;// voltage represent by phasor OD\n",
"R=0.5;// reactor in ohm\n",
"Ia=OD/R;\n",
"V=400;// in volts\n",
"alfa=38.66;//Phase angle in degree\n",
"P=(V*Ia*cosd(alfa))*10^-3;\n",
"disp(P,'Power generated,P(kW) = ')"
   ]
   }
],
"metadata": {
		  "kernelspec": {
		   "display_name": "Scilab",
		   "language": "scilab",
		   "name": "scilab"
		  },
		  "language_info": {
		   "file_extension": ".sce",
		   "help_links": [
			{
			 "text": "MetaKernel Magics",
			 "url": "https://github.com/calysto/metakernel/blob/master/metakernel/magics/README.md"
			}
		   ],
		   "mimetype": "text/x-octave",
		   "name": "scilab",
		   "version": "0.7.1"
		  }
		 },
		 "nbformat": 4,
		 "nbformat_minor": 0
}
