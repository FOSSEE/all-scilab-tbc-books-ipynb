{
"cells": [
 {
		   "cell_type": "markdown",
	   "metadata": {},
	   "source": [
       "# Chapter 8: Electric Traction Motors"
	   ]
	},
{
		   "cell_type": "markdown",
		   "metadata": {},
		   "source": [
			"## Example 8.10: linear_synchronous_and_vehicle_speed.sce"
		   ]
		  },
  {
"cell_type": "code",
	   "execution_count": null,
	   "metadata": {
	    "collapsed": true
	   },
	   "outputs": [],
"source": [
"//Example 8.10;linear synchronous velocity\n",
"clc;\n",
"clear;\n",
"close;\n",
"f=50;//hz\n",
"t=0.5;//in meter\n",
"s=0.25;//\n",
"vs=2*f*t*(3600/1000);//kmph\n",
"vc=vs*(1-s);//kmph\n",
"disp(vs,'linear synchronous velocity in kmph is')\n",
"disp(vc,'vehicle speed in kmph is')"
   ]
   }
,
{
		   "cell_type": "markdown",
		   "metadata": {},
		   "source": [
			"## Example 8.1: speed_armature_current_characterstic.sce"
		   ]
		  },
  {
"cell_type": "code",
	   "execution_count": null,
	   "metadata": {
	    "collapsed": true
	   },
	   "outputs": [],
"source": [
"//Example 8.1: Motor speed \n",
"clc;\n",
"clear;\n",
"close;\n",
"v=230;//in volts\n",
"rm=0.3;//in ohms\n",
"Ia=[5;10;15;20;25;30;35;40];//in amperes\n",
"T=[20;50;100;155;215;290;360;430];//\n",
"for i=1:8\n",
"    eb(i)= v-(Ia(i))*rm;//\n",
"    N(i)=(9.55*eb(i)*Ia(i))/(T(i));//\n",
"    disp('speed in rpm is for current '+string(Ia(i))+'  amperes '+string(round(N(i)))+' RPM')\n",
"end\n",
"plot2d(Ia,N)\n",
"xlabel('ARMATURE CURRENT ,Ia IN AMPS')\n",
"ylabel('SPEED ,N IN RPM')\n",
"xtitle('Spped-Armature current characteristic')"
   ]
   }
,
{
		   "cell_type": "markdown",
		   "metadata": {},
		   "source": [
			"## Example 8.2: speed_torque_curve.sce"
		   ]
		  },
  {
"cell_type": "code",
	   "execution_count": null,
	   "metadata": {
	    "collapsed": true
	   },
	   "outputs": [],
"source": [
"//Example 8.2: SPEED-TORQUE GRAPH\n",
"clc;\n",
"clear;\n",
"close;\n",
"v=600;//in volts\n",
"rm=0.8;//in ohms\n",
"N1=600;//\n",
"Ia=[20;40;60;80];//in amperes\n",
"EMF=[215;381;485;550]\n",
"for i=1:4\n",
"    eb(i)= v-(Ia(i))*rm;//\n",
"    N(i)=(N1/EMF(i))*eb(i);//\n",
"    T(i)=(9.55*eb(i)*Ia(i))/(N(i));//\n",
"    disp('speed in rpm is for current '+string(Ia(i))+'  amperes '+string(round(N(i)))+' RPM and Torque in N-m is '+string(T(i))+'')\n",
"end\n",
"plot2d(T,N)\n",
"xlabel('TORQUE ,T IN Nm')\n",
"ylabel('SPEED ,N IN RPM')\n",
"xtitle('Speed-torque curve')"
   ]
   }
,
{
		   "cell_type": "markdown",
		   "metadata": {},
		   "source": [
			"## Example 8.3: motor_speed_and_current.sce"
		   ]
		  },
  {
"cell_type": "code",
	   "execution_count": null,
	   "metadata": {
	    "collapsed": true
	   },
	   "outputs": [],
"source": [
"//Example 8.3: Motor speed and current drawn\n",
"clc;\n",
"clear;\n",
"close;\n",
"//given data :\n",
"N1=640;// in rpm\n",
"I1=15;// in A\n",
"I2=sqrt((2)*sqrt(2)*I1^2);\n",
"N2=round((2*I1*N1)/I2);\n",
"disp(I2,'Current drawn,I2(A) = ')\n",
"disp(N2,'Motor speed,N2(rpm) = ')"
   ]
   }
,
{
		   "cell_type": "markdown",
		   "metadata": {},
		   "source": [
			"## Example 8.4: speed_and_voltage.sce"
		   ]
		  },
  {
"cell_type": "code",
	   "execution_count": null,
	   "metadata": {
	    "collapsed": true
	   },
	   "outputs": [],
"source": [
"//Example 8.4: speed and voltage\n",
"clc;\n",
"clear;\n",
"close;\n",
"n1=700;//rpm\n",
"n2=750;//rpm\n",
"rm=0.3;//in ohms\n",
"v=500;//in volts\n",
"ib=50;//amperes\n",
"eb1=v-(ib*rm);//in volts\n",
"eb2=eb1;//\n",
"N=((v-(2*(ib*rm)))/((eb1/n1)+(eb2/n2)));//\n",
"pdv1=((eb1/n1)*N)+ib*rm;//in volts\n",
"pdv2=((eb1/n2)*N)+ib*rm;//in volts\n",
"disp(round(N),'speed in rpm is')\n",
"disp(round(pdv1),'PD across machine 1 in volts is')\n",
"disp(round(pdv2),'PD across machine 2 in volts is')"
   ]
   }
,
{
		   "cell_type": "markdown",
		   "metadata": {},
		   "source": [
			"## Example 8.5: current.sce"
		   ]
		  },
  {
"cell_type": "code",
	   "execution_count": null,
	   "metadata": {
	    "collapsed": true
	   },
	   "outputs": [],
"source": [
"//Example 8.5: Current drawn\n",
"clc;\n",
"clear;\n",
"close;\n",
"format('v',5)\n",
"//given data :\n",
"V=500;// in volts\n",
"Vm=40;// in kmph\n",
"Ft=1800;// in N\n",
"Rm=0.4;// in ohm\n",
"Lm=3200;// losses per motor in watt\n",
"Mo=(Ft*Vm*1000)/3600;\n",
"Cl=3200;// consatant losses in watt\n",
"// formuls: Mi=Po+Cl+C_losses\n",
"//C_losses=I^2*Rm\n",
"//Mi=V*I\n",
"//I1=(V+sqrt(V^2-(4*Rm*(Mo+Cl))))/(2*Rm);leaving as gives a very high value\n",
"I1=(V-sqrt(V^2-4*Rm*(Mo+Cl)))/(2*Rm);\n",
"disp(I1,'Current drawn by each motor,(A) =');\n",
"It=I1*2;\n",
"disp(It,'Total current drawn,(A) = ')"
   ]
   }
,
{
		   "cell_type": "markdown",
		   "metadata": {},
		   "source": [
			"## Example 8.6: power_delivered.sce"
		   ]
		  },
  {
"cell_type": "code",
	   "execution_count": null,
	   "metadata": {
	    "collapsed": true
	   },
	   "outputs": [],
"source": [
"//Example 8.6.//power delivered\n",
"clc;\n",
"clear;\n",
"close;\n",
"//given data :\n",
"format('v',6)\n",
"Ft=35300;// in N\n",
"V=48;// in kmph\n",
"Po=((Ft*V*1000)/3600)*10^-3;\n",
"Ft1=55180;//in N\n",
"Pd=Po*sqrt(Ft1/Ft);\n",
"disp('part (a)')\n",
"disp(Pd,'power delivered(kW) = ')\n",
"Pd1=Po*(Ft1/Ft);\n",
"disp('part (b)')\n",
"disp(Pd1,'power delivered(kW) = ')"
   ]
   }
,
{
		   "cell_type": "markdown",
		   "metadata": {},
		   "source": [
			"## Example 8.7: new_characterstics.sce"
		   ]
		  },
  {
"cell_type": "code",
	   "execution_count": null,
	   "metadata": {
	    "collapsed": true
	   },
	   "outputs": [],
"source": [
"//Example 8.7: speed and tractive effort\n",
"clc;\n",
"clear;\n",
"close;\n",
"Ia=[60;120;180;240;300;360];// in amperes\n",
"sp1=[80;50;45;42;38;35];//in kmph\n",
"tf1=[1.7;5;10;14;16;20];//innewtons\n",
"d1=0.85;//in meters\n",
"d2=0.9;//in meters\n",
"y1=71/21;//\n",
"y2=74/19;//\n",
"for i=1:6\n",
"    V(i)=((d2/d1)*(y1/y2))*sp1(i);//in kmph\n",
"    tf2(i)=((d1/d2)*(y2/y1))*(tf1(i));//in newtons\n",
"    disp('for armature current '+string(Ia(i))+' amperes  , speed is '+string(V(i))+' kmph and tractive effor in thousand newtons is '+string(tf2(i))+ '')\n",
"end"
   ]
   }
,
{
		   "cell_type": "markdown",
		   "metadata": {},
		   "source": [
			"## Example 8.8: motor_speed.sce"
		   ]
		  },
  {
"cell_type": "code",
	   "execution_count": null,
	   "metadata": {
	    "collapsed": true
	   },
	   "outputs": [],
"source": [
"//Example 8.8: speed \n",
"clc;\n",
"clear;\n",
"close;\n",
"n1=500;//in rpm\n",
"d1=90;//in cm\n",
"d2=86;//in cm\n",
"v=600;//in volts\n",
"vd=0.1;//drop\n",
"eb1=v-(vd*v);//in volts\n",
"A=[90 -86;90 90];//\n",
"B=[240;54000];//\n",
"X=A\B;//\n",
"V1=X(1,1);//in volts\n",
"V2=X(2.1);//in volts\n",
"N1=n1*(V1-(vd*v))/(eb1);//\n",
"N2=N1*(d1/d2);//\n",
"disp(round(N1),' speed in rpm is')\n",
"disp(round(N2),'speed in rpm is')\n",
"//N2 is calculated wrong in the book"
   ]
   }
,
{
		   "cell_type": "markdown",
		   "metadata": {},
		   "source": [
			"## Example 8.9: power_input_and_tractive_efforts.sce"
		   ]
		  },
  {
"cell_type": "code",
	   "execution_count": null,
	   "metadata": {
	    "collapsed": true
	   },
	   "outputs": [],
"source": [
"//Example 8.9;power input and tractive efforts\n",
"clc;\n",
"clear;\n",
"close;\n",
"ia=350;//A\n",
"ib=305;//A\n",
"v=600;//V\n",
"pa=(v*ia)/1000;//kW\n",
"pb=(v*ib)/1000;//kW\n",
"disp('(i) When motors are connected in parallel and train speed is 40kmph')\n",
"disp(pa,'power input to motor A is,(kW)=')\n",
"disp(pb,'power input to motor B is,(kW)=')\n",
"fta=1625;//kg\n",
"ftb=1480;//kg\n",
"disp(fta,'tractive effor of motor A is,(kg)=')\n",
"disp(ftb,'tractive effor of motor B is,(kg)=')\n",
"disp('(ii) When motors are connected in series and current is 400A')\n",
"rm=0.08;//ohm\n",
"i=400;//A\n",
"eba=v-(i*rm);//V\n",
"abb=eba;//V\n",
"va=38.5;//V\n",
"vb=36.7;//V\n",
"vx=((v-2*(i*rm))*((va*vb)/(va+vb)))/eba;//\n",
"Va=((eba/va)*vx)+(i*rm);//V\n",
"Vb=((eba/vb)*vx)+(i*rm);//V\n",
"pa1=(Va*i)/1000;//kW\n",
"pb1=(Vb*i)/1000;//kW\n",
"disp(pa1,'power input to motor A is,(kW)=')\n",
"disp(pb1,'power input to motor B is,(kW)=')\n",
"fta1=1960;//kg\n",
"ftb1=2060;//kg\n",
"disp(fta1,'tractive effor of motor A is,(kg)=')\n",
"disp(ftb1,'tractive effor of motor B is,(kg)=')"
   ]
   }
],
"metadata": {
		  "kernelspec": {
		   "display_name": "Scilab",
		   "language": "scilab",
		   "name": "scilab"
		  },
		  "language_info": {
		   "file_extension": ".sce",
		   "help_links": [
			{
			 "text": "MetaKernel Magics",
			 "url": "https://github.com/calysto/metakernel/blob/master/metakernel/magics/README.md"
			}
		   ],
		   "mimetype": "text/x-octave",
		   "name": "scilab",
		   "version": "0.7.1"
		  }
		 },
		 "nbformat": 4,
		 "nbformat_minor": 0
}
