{
"cells": [
 {
		   "cell_type": "markdown",
	   "metadata": {},
	   "source": [
       "# Chapter 11: Power supply for electric traction"
	   ]
	},
{
		   "cell_type": "markdown",
		   "metadata": {},
		   "source": [
			"## Example 11.1: total_length.sce"
		   ]
		  },
  {
"cell_type": "code",
	   "execution_count": null,
	   "metadata": {
	    "collapsed": true
	   },
	   "outputs": [],
"source": [
"//Example 11.1: Total Length\n",
"clc;\n",
"clear;\n",
"close;\n",
"//given data :\n",
"l=20;// in m\n",
"w=0.5;// weight per meter in kg\n",
"T=500;// Tension applied in kg\n",
"del=(w*l^2)/(2*T);\n",
"two_S=2*(l+(2/3)*(del^2/l));\n",
"disp(two_S,'Total Length(m) = ')"
   ]
   }
,
{
		   "cell_type": "markdown",
		   "metadata": {},
		   "source": [
			"## Example 11.2: sag.sce"
		   ]
		  },
  {
"cell_type": "code",
	   "execution_count": null,
	   "metadata": {
	    "collapsed": true
	   },
	   "outputs": [],
"source": [
"//Example 11.2: Sag\n",
"clc;\n",
"clear;\n",
"close;\n",
"//given data :\n",
"format('v',5)\n",
"l=30;// in meter\n",
"w=0.72;// weight per meter in kg\n",
"E=640;// in kg/cm^2\n",
"d=1;// diameter in cm\n",
"T=E*(%pi/4)*d^2;\n",
"del=((w*l^2)/(2*T))*100;\n",
"disp(del,'sag(cm) = ')"
   ]
   }
,
{
		   "cell_type": "markdown",
		   "metadata": {},
		   "source": [
			"## Example 11.3: sag.sce"
		   ]
		  },
  {
"cell_type": "code",
	   "execution_count": null,
	   "metadata": {
	    "collapsed": true
	   },
	   "outputs": [],
"source": [
"//Example 11.3: Sag\n",
"clc;\n",
"clear;\n",
"close;\n",
"//given data :\n",
"l=30;// in meter\n",
"w1=0.9;// average weight of catenary wire in kg/m\n",
"w2=1.2//average weight of trolley wire in kg/m\n",
"w3=(20/100)*w2//average weight of dropper and fittings in kg/m\n",
"w=w1+w2+w3;\n",
"T=1000;// in kg\n",
"del=((w*l^2)/(2*T));\n",
"disp(del,'sag(m) = ')"
   ]
   }
,
{
		   "cell_type": "markdown",
		   "metadata": {},
		   "source": [
			"## Example 11.4: current.sce"
		   ]
		  },
  {
"cell_type": "code",
	   "execution_count": null,
	   "metadata": {
	    "collapsed": true
	   },
	   "outputs": [],
"source": [
"//Example 11.4: Current\n",
"clc;\n",
"clear;\n",
"close;\n",
"//given data :\n",
"I=300;// in A\n",
"R=0.08;// in ohm\n",
"Vd=6;// voltage drop in volts\n",
"I_dash=((R*(I/2))-Vd)/R;\n",
"disp(I_dash,'Current(A) = ')"
   ]
   }
,
{
		   "cell_type": "markdown",
		   "metadata": {},
		   "source": [
			"## Example 11.5: potential.sce"
		   ]
		  },
  {
"cell_type": "code",
	   "execution_count": null,
	   "metadata": {
	    "collapsed": true
	   },
	   "outputs": [],
"source": [
"//Example 11.5: Current\n",
"clc;\n",
"clear;\n",
"close;\n",
"//given data :\n",
"a=7;//far end voltage in volts\n",
"i=125;// in A\n",
"r=0.02;// in ohm\n",
"l=3;// in km\n",
"p=(i*r*l^2)/2;\n",
"I=((p-a)/(r*l));//\n",
"disp(p,'potential of the track at tha far end of the section in volts is')\n",
"disp(I,'Current carried by -ve feeder,I(A) = ')"
   ]
   }
,
{
		   "cell_type": "markdown",
		   "metadata": {},
		   "source": [
			"## Example 11.6: current.sce"
		   ]
		  },
  {
"cell_type": "code",
	   "execution_count": null,
	   "metadata": {
	    "collapsed": true
	   },
	   "outputs": [],
"source": [
"//Example 11.6: Current\n",
"clc;\n",
"clear;\n",
"close;\n",
"//given data :\n",
"format('v',8)\n",
"ix=200;//amperes\n",
"r=0.02;//in ohms\n",
"x=poly(0,'x');\n",
"p=-19+12*x+0*x^2;//\n",
"y=roots(p);//km\n",
"ipx=ix*(3-y);//in amperes\n",
"inx=2*ix;//in amperes\n",
"it=ipx+inx;//in amperes\n",
"disp(it,'current through negetive booster in amperes is')"
   ]
   }
,
{
		   "cell_type": "markdown",
		   "metadata": {},
		   "source": [
			"## Example 11.7: voltage_and_kW.sce"
		   ]
		  },
  {
"cell_type": "code",
	   "execution_count": null,
	   "metadata": {
	    "collapsed": true
	   },
	   "outputs": [],
"source": [
"//Example 11.7: potential drop and capacity if booster\n",
"clc;\n",
"clear;\n",
"close;\n",
"//given data :\n",
"format('v',8)\n",
"ix=250;//amperes\n",
"vb=2;//in volts\n",
"r=0.02;//in ohms\n",
"x=poly(0,'x');\n",
"p=-27.6+16*x+0*x^2;//\n",
"y=roots(p);//km\n",
"pc=vb+(ix*r*(1.6)^2)/2;//in volts\n",
"pd=((ix*r*(y^2))/2);//in volts\n",
"tcurr= (1.6*ix)+((ix*(3.2-y)));//in amperes\n",
"vnf=r*tcurr;//in volts\n",
"bnb=vnf-vb;//in volts\n",
"cb=((bnb*tcurr)/1000);//in kw\n",
"disp(pc,'maximum potential drop on any two points on the rails in volts is')\n",
"disp(cb,'capacity of booster in kW is')"
   ]
   }
,
{
		   "cell_type": "markdown",
		   "metadata": {},
		   "source": [
			"## Example 11.8: rating_of_the_booster.sce"
		   ]
		  },
  {
"cell_type": "code",
	   "execution_count": null,
	   "metadata": {
	    "collapsed": true
	   },
	   "outputs": [],
"source": [
"//Example 11.8: rating of booster\n",
"clc;\n",
"clear;\n",
"close;\n",
"//given data :\n",
"format('v',8)\n",
"i=200;// A/km\n",
"r=0.01;//in ohms/km\n",
"x=poly(0,'x')\n",
"p=-20+8*x+0*x^2;//\n",
"y=roots(p);//km\n",
"i1=400;//in amperes\n",
"i2=(4-y)*i//in amperes\n",
"tc=i1+i2;//in amperes\n",
"vcn=r*tc;//in volts\n",
"nb=vcn-4;//in volts\n",
"rb=(tc*10)/1000;//\n",
"disp(rb,'rating of the booster in kW is')"
   ]
   }
,
{
		   "cell_type": "markdown",
		   "metadata": {},
		   "source": [
			"## Example 11.9: voltage.sce"
		   ]
		  },
  {
"cell_type": "code",
	   "execution_count": null,
	   "metadata": {
	    "collapsed": true
	   },
	   "outputs": [],
"source": [
"//Example 11.9 //voltage\n",
"clc;\n",
"clear;\n",
"close;\n",
"format('v',5)\n",
"vw=60;//in volts\n",
"vt=12;//in volts\n",
"tv=vw+vt;//in volts\n",
"vs=600;//in volts\n",
"va=vs-tv;//in volts\n",
"vr=578;//volts\n",
"vn=10;//in volts\n",
"vtn=tv-vn;//in volts\n",
"vad=vs-vr;//\n",
"vp=vtn-vad;//in volts\n",
"disp('part (a)')\n",
"disp(va,'voltage available to trolley when it is at the far end without using boosters in volts is')\n",
"disp('part (b)')\n",
"disp('positive booster should provide boost of '+string(vp)+' volts')"
   ]
   }
],
"metadata": {
		  "kernelspec": {
		   "display_name": "Scilab",
		   "language": "scilab",
		   "name": "scilab"
		  },
		  "language_info": {
		   "file_extension": ".sce",
		   "help_links": [
			{
			 "text": "MetaKernel Magics",
			 "url": "https://github.com/calysto/metakernel/blob/master/metakernel/magics/README.md"
			}
		   ],
		   "mimetype": "text/x-octave",
		   "name": "scilab",
		   "version": "0.7.1"
		  }
		 },
		 "nbformat": 4,
		 "nbformat_minor": 0
}
