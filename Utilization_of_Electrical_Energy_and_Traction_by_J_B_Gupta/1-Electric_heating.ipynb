{
"cells": [
 {
		   "cell_type": "markdown",
	   "metadata": {},
	   "source": [
       "# Chapter 1: Electric heating"
	   ]
	},
{
		   "cell_type": "markdown",
		   "metadata": {},
		   "source": [
			"## Example 1.10: height.sce"
		   ]
		  },
  {
"cell_type": "code",
	   "execution_count": null,
	   "metadata": {
	    "collapsed": true
	   },
	   "outputs": [],
"source": [
"//Example 1.10 // height\n",
"clc;\n",
"clear;\n",
"close;\n",
"format('v',8)\n",
"vs=10;//secondary voltage in volts\n",
"p=400;//power drawn in kW\n",
"pf=0.6;//\n",
"is=(p*10^3)/pf;//secondary current in amperes\n",
"zs=vs/is;//impedence of secondary circuit in ohms\n",
"rs=zs*pf;//resistance of secondary circuit in ohms\n",
"res=zs*(sqrt(1-pf^2));//rectancetance of secondary circuit in ohms\n",
"x=(rs)/res;//height \n",
"disp(x,'maximum heat will be obtained with the height of charge as 3/4 of height of hearth')"
   ]
   }
,
{
		   "cell_type": "markdown",
		   "metadata": {},
		   "source": [
			"## Example 1.11: frequency.sce"
		   ]
		  },
  {
"cell_type": "code",
	   "execution_count": null,
	   "metadata": {
	    "collapsed": true
	   },
	   "outputs": [],
"source": [
"//Example 1.11 // frequency\n",
"clc;\n",
"clear;\n",
"close;\n",
"format('v',5)\n",
"p=5*10^-7;//specific resistance in Ω-m\n",
"rp=1;//relative permeability\n",
"dp=0.0015;//depth of penetration in mter\n",
"f=((p*10^7)/((rp*(dp)^2)*4*(%pi)^2))*10^-3;//frequency in kHz\n",
"disp(f,'frequency in kHz')"
   ]
   }
,
{
		   "cell_type": "markdown",
		   "metadata": {},
		   "source": [
			"## Example 1.12: power_required.sce"
		   ]
		  },
  {
"cell_type": "code",
	   "execution_count": null,
	   "metadata": {
	    "collapsed": true
	   },
	   "outputs": [],
"source": [
"//Example 1.12 // power required\n",
"clc;\n",
"clear;\n",
"close;\n",
"format('v',10)\n",
"l=0.5;//length in meter\n",
"b=0.25;//breadh in meter\n",
"h=0.02;//in meter\n",
"t1=25;// temperture °C\n",
"t2=125;// temperture °C\n",
"t=10;//time in minutes\n",
"f=30;//frequency in 30 MHz\n",
"w=600;//weight of the wood in kg/m^3\n",
"sh=1500;//specific heat in J/Kg/°C\n",
"e=50;//efficiency\n",
"vp=l*b*h;//volume in m^3\n",
"wp=vp*w;//weight of plywood in kg\n",
"hr=sh*wp*(t2-t1);//heat required in joules\n",
"hrt=(hr/(3600));//heat required to raise the temperture of plywood in Wh\n",
"pu=hrt/(1/6);//power utilized in watts\n",
"pi=(pu/e)*100;//power input required in percentage\n",
"disp(pi,'power input required ,(W)=')"
   ]
   }
,
{
		   "cell_type": "markdown",
		   "metadata": {},
		   "source": [
			"## Example 1.13: voltage_and_current.sce"
		   ]
		  },
  {
"cell_type": "code",
	   "execution_count": null,
	   "metadata": {
	    "collapsed": true
	   },
	   "outputs": [],
"source": [
"//Example 1.13 //voltage ,current and frequency\n",
"clc;\n",
"clear;\n",
"close;\n",
"format('v',5)\n",
"vl=600;//in volts\n",
"p=200;//power absorbed in watts\n",
"pf=0.05;//power factor\n",
"f=30*10^6;//frequency in Hz\n",
"ep=8.854*10^-12;//constant\n",
"er=5;//\n",
"a=150;// in cm^2\n",
"t=0.02;// in meter\n",
"c=((ep*er*a*10^-4)/t);//capacitance in farads\n",
"vr=(sqrt(p/(2*%pi*f*c*pf)));//voltage is required in volts\n",
"i=p/(vr*pf);//current in amperes\n",
"f2=((f*(vr/vl)^2))*10^-6;//frequency in Mhz\n",
"disp(ceil(vr),'voltage in volts')\n",
"disp(round(i),'current in amperes')\n",
"disp(f2,'frequency in MHz')"
   ]
   }
,
{
		   "cell_type": "markdown",
		   "metadata": {},
		   "source": [
			"## Example 1.14: voltage_and_current.sce"
		   ]
		  },
  {
"cell_type": "code",
	   "execution_count": null,
	   "metadata": {
	    "collapsed": true
	   },
	   "outputs": [],
"source": [
"//Example 1.14//voltage across electrodes and current\n",
"clc;\n",
"clear;\n",
"close;\n",
"format('v',6)\n",
"pf=0.04;//power factor\n",
"p=1000;//in watts\n",
"f=10*10^6;// in MHz\n",
"a1=.004;//area in m^2\n",
"a2=0.001;//area in m^2\n",
"t=0.02;//thickness in meter\n",
"t1=.01;//thicknes sin meter\n",
"t2=t-t1;//thickness in meter\n",
"ep=8.854*10^-12;//constant in F/m\n",
"er=5;//relative permittivity of plywood\n",
"er1=1;//relative permittivity in air\n",
"c=(ep*(((a1*er1)/t)+(a2/((t1/er)+(t2/er1)))));//capacitance in farads\n",
"vr=(sqrt(p/(2*%pi*f*c*pf)));//voltage is required in volts\n",
"disp('part (a)')\n",
"disp(round(vr),'voltage across the electrodes in volts')\n",
"i=p/(vr*pf);//current in amperes\n",
"disp('part (b)')\n",
"disp(i,'cureent in amperes is')"
   ]
   }
,
{
		   "cell_type": "markdown",
		   "metadata": {},
		   "source": [
			"## Example 1.1: power_drawm.sce"
		   ]
		  },
  {
"cell_type": "code",
	   "execution_count": null,
	   "metadata": {
	    "collapsed": true
	   },
	   "outputs": [],
"source": [
"//Example 1.1 power drawn\n",
"clc;\n",
"clear;\n",
"close;\n",
"format('v',6)\n",
"r1=100;//in ohms\n",
"r2=r1;// in ohms\n",
"V=250;// ac supply in volts\n",
"rp=((1)/((1/r1)+(1/r2)));// equivalent resistance in ohms\n",
"pp=((V^2)/rp);//power drawn in watts\n",
"disp('part (a) ')\n",
"disp(pp,'power drawn when elements are in parallel,(W)=')\n",
"rs=r1+r2;// equivalent resistance in ohms\n",
"ps=((V^2)/rs);//power drawn in watts\n",
"disp('part (b) ')\n",
"disp(ps,'power drawn when elements are in series ,(W)=')"
   ]
   }
,
{
		   "cell_type": "markdown",
		   "metadata": {},
		   "source": [
			"## Example 1.2: diameter_and_length_of_wire.sce"
		   ]
		  },
  {
"cell_type": "code",
	   "execution_count": null,
	   "metadata": {
	    "collapsed": true
	   },
	   "outputs": [],
"source": [
"//Example 1.2 // diameter and length\n",
"clc;\n",
"clear;\n",
"close;\n",
"format('v',6)\n",
"P=2.5;//power in kW\n",
"V=240;// in volts\n",
"K=1;//radiating efficiency\n",
"e=0.9;//emissivity\n",
"p=42.5*10^-6;// resistivity in ohm-cm\n",
"T1=1500;//in dgree celsius\n",
"T2=450;//in degree celsius\n",
"x=((%pi*V^2)/(4*(p*10^-2)*P*10^3));//\n",
"H=((5.72*K*e)*(((T1+273)/100)^4-((T2+273)/100)^4));//\n",
"z=((P*10^3)/(%pi*H))^2;//\n",
"l=(z*x)^(1/3);//length in meter\n",
"d=((sqrt(z))/l)*10^3;//diameter in mm\n",
"disp(l,'length in meter')\n",
"disp(d,'diameter in mm')"
   ]
   }
,
{
		   "cell_type": "markdown",
		   "metadata": {},
		   "source": [
			"## Example 1.3: design_the_heating_element.sce"
		   ]
		  },
  {
"cell_type": "code",
	   "execution_count": null,
	   "metadata": {
	    "collapsed": true
	   },
	   "outputs": [],
"source": [
"//Example 1.3 // design heating element\n",
"clc;\n",
"clear;\n",
"close;\n",
"format('v',7)\n",
"V=440;// volts\n",
"P=20;//in kW\n",
"T1=1200;//in degree celsius\n",
"T2=700;// in degree celsius\n",
"K=0.6;//radiating efficiency\n",
"e=0.9;//emissivity\n",
"t=0.025;//thickness in mm\n",
"p=1.05*10^-6;//resisitivity in ohm - meter\n",
"Pp=(round(P*10^3))/3;//power per phase in watts\n",
"Pv= (V/sqrt(3));//phase voltage\n",
"R=Pv^2/Pp;//resistance of strip in ohms\n",
"x=((R*t*10^-3)/(p));//\n",
"H=((5.72*K*e)*(((T1+273)/100)^4-((T2+273)/100)^4));//in W/m^2\n",
"y=((Pp)/(H*2));//in m^2\n",
"w=sqrt(y/x)*10^3;//width in mm\n",
"l=x*w*10^-3;//length of strip in meter\n",
"disp(w,'width in mm')\n",
"disp(l,'length of strip in meter')"
   ]
   }
,
{
		   "cell_type": "markdown",
		   "metadata": {},
		   "source": [
			"## Example 1.4: efficiency.sce"
		   ]
		  },
  {
"cell_type": "code",
	   "execution_count": null,
	   "metadata": {
	    "collapsed": true
	   },
	   "outputs": [],
"source": [
"//Example 1.4 // loading in kW and efficiency of the tank\n",
"clc;\n",
"clear;\n",
"close;\n",
"format('v',5)\n",
"a=6;//area in m^2\n",
"l=a/6;//one side of tank in meter\n",
"V=l*l*l;//volume in m^2\n",
"e=90/100;//capacity\n",
"wh=6*e*1000;//water to be heated daily in kg\n",
"s=4200;//specific heat of water in J/Kg/degree celsius\n",
"t1=65;//in degree celsius\n",
"t2=20;//in degree celsius\n",
"hr=wh*s*(t1-t2)*10^-6;//heat required to raise the temperture of water\n",
"hr1=hr/3.6;//heat required in kWh\n",
"d=6.3;//difference in watts\n",
"l=((d*a*(t1-t2)*24)/1000);//losses from the surface of the tank in kWh\n",
"es=hr1+l;//energy supplied in kWh\n",
"lk=es/24;//loading in kW\n",
"ef=(hr1/es)*100;//efficiency of the tank in percentage\n",
"disp(lk,'loading in kW')\n",
"disp(ef,'efficiency of the tank in percentage')"
   ]
   }
,
{
		   "cell_type": "markdown",
		   "metadata": {},
		   "source": [
			"## Example 1.5: average_kW_and_kVA_and_pf.sce"
		   ]
		  },
  {
"cell_type": "code",
	   "execution_count": null,
	   "metadata": {
	    "collapsed": true
	   },
	   "outputs": [],
"source": [
"//Example 1.5 // average kW ,KVA input ,arc voltage ,arc resistance and pf of the current drawn\n",
"clc;\n",
"clear;\n",
"close;\n",
"format('v',7)\n",
"sh=444;// specific heat of steel in J/Kg/°C\n",
"lh=37.25;//latent heat in kJ/kg\n",
"mp=1370;//melting point of steel °C\n",
"t1=19.1;//initial temperture in °C\n",
"e=0.5;//overall efficiency\n",
"ip=5700;//input current in amperes\n",
"rs=0.008;//resistance of transformer referred to secondary in ohms\n",
"rr=0.014;// recatance in ohms\n",
"m=4.3;// steel in tonnes\n",
"ers=((m*10^3*((sh*(mp-t1))+lh*10^3)));// energy required in joules\n",
"ersh=ers/(3.6*10^6);//energy required in kWh\n",
"ata=1;//time taken to melt steel in hours\n",
"ao=ersh/ata;//average output in kW\n",
"ai=ao/e;//average input in kW\n",
"vdr=ip*rs;//voltage drop due to resistance of furnace leads\n",
"vdr1=ip*rr;//voltage drop due to reactance of furnace leads\n",
"va=((ai*10^3)/(3*ip))-(vdr);//voltage resistive in nature\n",
"rac=va/ip;//arc resistance in Ω\n",
"oppv=sqrt((va+vdr)^2+vdr1^2);//open circuit phase voltage in volts\n",
"kvas=3*ip*oppv*10^-3;//total kVA drawn \n",
"pf=((va+vdr)/oppv);//power factor \n",
"disp(ai,'average input in kW')\n",
"disp(va,'arc voltage in volts')\n",
"disp(rac,'arc resistance in Ω')\n",
"disp(pf,'pf of the current drawn from the supply (lagging)')\n",
"disp(kvas,'total kVA drawn in kVA')"
   ]
   }
,
{
		   "cell_type": "markdown",
		   "metadata": {},
		   "source": [
			"## Example 1.6: average_kW_and_kVA_and_pf.sce"
		   ]
		  },
  {
"cell_type": "code",
	   "execution_count": null,
	   "metadata": {
	    "collapsed": true
	   },
	   "outputs": [],
"source": [
"//Example 1.6 // average kW ,KVA input ,arc voltage ,arc resistance and pf of the current drawn\n",
"clc;\n",
"clear;\n",
"close;\n",
"format('v',7)\n",
"sh=0.12;// specific heat of steel in kcal/Kg/°C\n",
"lh=8.89;//latent heat in kcal/kg\n",
"mp=1370;//melting point of steel °C\n",
"t1=19.1;//initial temperture in °C\n",
"e=0.5;//overall efficiency\n",
"ip=5700;//input current in amperes\n",
"rs=0.008;//resistance of transformer referred to secondary in ohms\n",
"rr=0.014;// recatance in ohms\n",
"m=4.3;// steel in tonnes\n",
"ers=((m*10^3*((sh*(mp-t1))+lh)));// energy required in joules\n",
"ersh=ers/(860);//energy required in kWh\n",
"ata=1;//time taken to melt steel in hours\n",
"ao=ersh/ata;//average output in kW\n",
"ai=ao/e;//average input in kW\n",
"vdr=ip*rs;//voltage drop due to resistance of furnace leads\n",
"vdr1=ip*rr;//voltage drop due to reactance of furnace leads\n",
"va=((ai*10^3)/(3*ip))-(vdr);//voltage resistive in nature\n",
"rac=va/ip;//arc resistance in Ω\n",
"oppv=sqrt((va+vdr)^2+vdr1^2);//open circuit phase voltage in volts\n",
"kvas=3*ip*oppv*10^-3;//total kVA drawn \n",
"pf=((va+vdr)/oppv);//power factor \n",
"disp(ai,'average input in kW')\n",
"disp(va,'arc voltage in volts')\n",
"disp(rac,'arc resistance in Ω')\n",
"disp(pf,'pf of the current drawn from the supply (lagging)')\n",
"disp(kvas,'total kVA drawn in kVA')"
   ]
   }
,
{
		   "cell_type": "markdown",
		   "metadata": {},
		   "source": [
			"## Example 1.7: rating.sce"
		   ]
		  },
  {
"cell_type": "code",
	   "execution_count": null,
	   "metadata": {
	    "collapsed": true
	   },
	   "outputs": [],
"source": [
"//Example 1.7 // rating of furnance\n",
"clc;\n",
"clear;\n",
"close;\n",
"format('v',6)\n",
"sh=0.1;// specific heat of steel in kcal/Kg/°C\n",
"lh=26.67;//latent heat in kcal/kg\n",
"mp=555;//melting point of steel °C\n",
"t1=35;//initial temperture in °C\n",
"e=0.8;//overall efficiency\n",
"ip=5700;//input current in amperes\n",
"rs=0.008;//resistance of transformer referred to secondary in ohms\n",
"rr=0.014;// recatance in ohms\n",
"m=2;// steel in tonnes\n",
"ers=((m*10^3*((sh*(mp-t1))+lh)));// energy required in joules\n",
"ersh=ers/(860);//energy required in kWh\n",
"ata=1;//time taken to melt steel in hours\n",
"ao=ersh/ata;//average output in kW\n",
"ai=ao/e;//average input in kW\n",
"vdr=ip*rs;//voltage drop due to resistance of furnace leads\n",
"vdr1=ip*rr;//voltage drop due to reactance of furnace leads\n",
"va=((ai*10^3)/(3*ip))-(vdr);//voltage resistive in nature\n",
"rac=va/ip;//arc resistance in Ω\n",
"oppv=sqrt((va+vdr)^2+vdr1^2);//open circuit phase voltage in volts\n",
"kvas=3*ip*oppv*10^-3;//total kVA drawn \n",
"pf=((va+vdr)/oppv);//power factor \n",
"rf=ai/ata;// in kW\n",
"disp(rf,'rating of furnance  in kW')"
   ]
   }
,
{
		   "cell_type": "markdown",
		   "metadata": {},
		   "source": [
			"## Example 1.8: efficiency.sce"
		   ]
		  },
  {
"cell_type": "code",
	   "execution_count": null,
	   "metadata": {
	    "collapsed": true
	   },
	   "outputs": [],
"source": [
"//Example 1.8 // efficiency of furnance \n",
"clc;\n",
"clear;\n",
"close;\n",
"format('v',3)\n",
"sh=880;// specific heat of steel in J/Kg/°C\n",
"lh=32000;//latent heat in J/kg\n",
"mp=660;//melting point of steel °C\n",
"t1=15;//initial temperture in °C\n",
"ip=5700;//input current in amperes\n",
"rs=0.008;//resistance of transformer referred to secondary in ohms\n",
"rr=0.014;// recatance in ohms\n",
"m=1.8;// IN KG\n",
"ers=((m*((sh*(mp-t1))+lh)));// energy required in joules\n",
"ersh=ers/(3.6*10^6);//energy required in kWh\n",
"TM=10;//TIME TO MELT IN MINS\n",
"ip=5;//input of the furnance in kW\n",
"ei=(ip)*(TM/60);//energy input in kWh\n",
"n=(ersh/ei)*100;//efficiency of furnance in percentage\n",
"disp(n,'efficiency of furnance in percentage')\n",
""
   ]
   }
,
{
		   "cell_type": "markdown",
		   "metadata": {},
		   "source": [
			"## Example 1.9: power_absorbed_and_power_factor.sce"
		   ]
		  },
  {
"cell_type": "code",
	   "execution_count": null,
	   "metadata": {
	    "collapsed": true
	   },
	   "outputs": [],
"source": [
"//Example 1.9 // power absorbed and power factor\n",
"clc;\n",
"clear;\n",
"close;\n",
"format('v',8)\n",
"vs=10;//secondary voltage in volts\n",
"p=500;//power drawn in kW\n",
"pf=0.5;//\n",
"is=(p*10^3)/pf;//secondary current in amperes\n",
"zs=vs/is;//impedence of secondary circuit in ohms\n",
"rs=zs*pf;//resistance of secondary circuit in ohms\n",
"res=zs*(sqrt(1-pf^2));//rectancetance of secondary circuit in ohms\n",
"rs1=2*rs;// resistacne when hearth is full in Ω\n",
"res1=res;// reactance when hearth is full in Ω\n",
"zs1=(sqrt(rs1^2+res1^2));//impedance of secondary circuit in Ω\n",
"pf1=rs1/zs1;//power factor\n",
"is1=vs/zs1;//secondary current in amperes\n",
"pd=is1^2*rs1*10^-4;//power drawn in kW\n",
"disp(pf1,'power factor is')\n",
"disp(pd,'power drawn in kW')"
   ]
   }
],
"metadata": {
		  "kernelspec": {
		   "display_name": "Scilab",
		   "language": "scilab",
		   "name": "scilab"
		  },
		  "language_info": {
		   "file_extension": ".sce",
		   "help_links": [
			{
			 "text": "MetaKernel Magics",
			 "url": "https://github.com/calysto/metakernel/blob/master/metakernel/magics/README.md"
			}
		   ],
		   "mimetype": "text/x-octave",
		   "name": "scilab",
		   "version": "0.7.1"
		  }
		 },
		 "nbformat": 4,
		 "nbformat_minor": 0
}
