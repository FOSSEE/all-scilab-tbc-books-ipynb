{
"cells": [
 {
		   "cell_type": "markdown",
	   "metadata": {},
	   "source": [
       "# Chapter 2: Errors and their analysis"
	   ]
	},
{
		   "cell_type": "markdown",
		   "metadata": {},
		   "source": [
			"## Example 2.10: Find_volume_percentage_error_and_absolute_error.sce"
		   ]
		  },
  {
"cell_type": "code",
	   "execution_count": null,
	   "metadata": {
	    "collapsed": true
	   },
	   "outputs": [],
"source": [
"//caption:Find volume,percentage error and absolute error\n",
"//Ex2.10\n",
"clc\n",
"clear\n",
"close\n",
"a=0.80//side of the cube(in m)\n",
"er=0.5//possible error in measurement(in %)\n",
"V=(a*a*a)\n",
"disp(V,'volume(in meter^3)=')\n",
"%er=3*er\n",
"disp(%er,'percentage error(in %)=')\n",
"Aer=(%er*V)/100\n",
"disp(Aer,'absolute error(in meter^3)=')"
   ]
   }
,
{
		   "cell_type": "markdown",
		   "metadata": {},
		   "source": [
			"## Example 2.11: Find_unknown_resistance_percent_error_and_error_in_ohm.sce"
		   ]
		  },
  {
"cell_type": "code",
	   "execution_count": null,
	   "metadata": {
	    "collapsed": true
	   },
	   "outputs": [],
"source": [
"//caption:Find unknown resistance,percent error and error in ohm\n",
"//Ex2.11\n",
"clc\n",
"clear\n",
"close\n",
"P=100//resistance of arm of wheatstone bridge(in ohm)\n",
"ep=0.5//error in P(in %)\n",
"Q=50//resistance of arm of wheatstone bridge(in ohm)\n",
"eq=0.5//error in Q(in %)\n",
"S=75.5//resistance of arm of wheatstone bridge(in ohm)\n",
"es=0.5//error in S(in %)\n",
"X=(P*S)/Q\n",
"disp(X,'unknown resistance(in ohm)=')\n",
"xo1=ep+es-eq\n",
"disp(xo1,'percent error when Q is taken positive(in %)=')\n",
"ex1=(xo1*X)/100\n",
"disp(ex1,'error in ohm(in ohm)=')\n",
"xo2=ep+es+eq\n",
"disp(xo2,'percent error when Q is taken negative(in %)=')\n",
"ex2=(xo2*X)/100\n",
"disp(ex2,'error in ohm(in ohm)=')"
   ]
   }
,
{
		   "cell_type": "markdown",
		   "metadata": {},
		   "source": [
			"## Example 2.12: Find_arithmetic_mean.sce"
		   ]
		  },
  {
"cell_type": "code",
	   "execution_count": null,
	   "metadata": {
	    "collapsed": true
	   },
	   "outputs": [],
"source": [
"//caption:Find arithmetic mean\n",
"//Ex2.12\n",
"clc\n",
"clear\n",
"close\n",
"x1=25.65//first reading(in W)\n",
"x2=24.39//second reading(in W)\n",
"x3=23.75//third reading(in W)\n",
"x4=26.42//fourth reading(in W)\n",
"x5=24.92//fifth reading(in W)\n",
"X=(x1+x2+x3+x4+x5)/5\n",
"disp(X,'arithmetic mean(in W)=')"
   ]
   }
,
{
		   "cell_type": "markdown",
		   "metadata": {},
		   "source": [
			"## Example 2.13: Find_deviation.sce"
		   ]
		  },
  {
"cell_type": "code",
	   "execution_count": null,
	   "metadata": {
	    "collapsed": true
	   },
	   "outputs": [],
"source": [
"//caption:Find deviation\n",
"//Ex2.13\n",
"clc\n",
"clear\n",
"close\n",
"x1=25.65//first reading(in W)\n",
"x2=24.39//second reading(in W)\n",
"x3=23.75//third reading(in W)\n",
"x4=26.42//fourth reading(in W)\n",
"x5=24.92//fifth reading(in W)\n",
"X=(x1+x2+x3+x4+x5)/5\n",
"d1=x1-X\n",
"disp(d1,'deviation=')\n",
"d2=x2-X\n",
"disp(d2,'deviation=')\n",
"d3=x3-X\n",
"disp(d3,'deviation=')\n",
"d4=x4-X\n",
"disp(d4,'deviation=')\n",
"d5=x5-X\n",
"disp(d5,'deviation=')"
   ]
   }
,
{
		   "cell_type": "markdown",
		   "metadata": {},
		   "source": [
			"## Example 2.14: Find_deviation.sce"
		   ]
		  },
  {
"cell_type": "code",
	   "execution_count": null,
	   "metadata": {
	    "collapsed": true
	   },
	   "outputs": [],
"source": [
"//caption:Find deviation\n",
"//Ex2.14\n",
"clc\n",
"clear\n",
"close\n",
"x1=25.65//first reading(in W)\n",
"x2=24.39//second reading(in W)\n",
"x3=23.75//third reading(in W)\n",
"x4=26.42//fourth reading(in W)\n",
"x5=24.92//fifth reading(in W)\n",
"n=5//number of readings\n",
"X=(x1+x2+x3+x4+x5)/5\n",
"d1=x1-X\n",
"d2=x2-X\n",
"d3=x3-X\n",
"d4=x4-X\n",
"d5=x5-X\n",
"D1=d1//mod of d1\n",
"D2=-(d2)//mod of d2\n",
"D3=-(d3)//mod of d3\n",
"D4=d4//mod of d4\n",
"D5=-(d5)//mod of d5\n",
"D=(D1+D2+D3+D4+D5)/n\n",
"disp(D,'deviation(in W)=')"
   ]
   }
,
{
		   "cell_type": "markdown",
		   "metadata": {},
		   "source": [
			"## Example 2.15: find_arithmetic_mean_standard_deviation_and_probable_error_of_onereading.sce"
		   ]
		  },
  {
"cell_type": "code",
	   "execution_count": null,
	   "metadata": {
	    "collapsed": true
	   },
	   "outputs": [],
"source": [
"//caption:find arithmetic mean,standard deviation and probable error of onereading\n",
"//Ex2.15\n",
"clc\n",
"clear\n",
"close\n",
"x1=30.30//level of liquid(in mm)\n",
"x2=30.25//level of liquid(in mm)\n",
"x3=30.40//level of liquid(in mm)\n",
"x4=30.00//level of liquid(in mm)\n",
"n=4//numberof readings\n",
"x=(x1+x2+x3+x4)/n\n",
"disp(x,'arithmatic mean(in mm)=')\n",
"d1=x1-x\n",
"d2=x2-x\n",
"d3=x3-x\n",
"d4=x4-x\n",
"S=((d1^2+d2^2+d3^2+d4^2)/(n-1))^0.5\n",
"disp(S,'standard deviation(in mm)=')\n",
"P=0.6745*S\n",
"disp(P,'probable error(in mm)=')"
   ]
   }
,
{
		   "cell_type": "markdown",
		   "metadata": {},
		   "source": [
			"## Example 2.16: EX2_16.sce"
		   ]
		  },
  {
"cell_type": "code",
	   "execution_count": null,
	   "metadata": {
	    "collapsed": true
	   },
	   "outputs": [],
"source": [
"//caption:Find(a)arithmetic mean(b)deviation of each value(c)algebric sum of deviation(d)average deviation(e)standard deviation\n",
"//Ex2.16\n",
"clc\n",
"clear\n",
"close\n",
"x1=10//first reading\n",
"x2=11//second reading\n",
"x3=9//third reading\n",
"x4=10.5//fourth reading\n",
"x5=9.5//fifth reading\n",
"n=5//number of reading\n",
"x=(x1+x2+x3+x4+x5)/n\n",
"disp(x,'(a)arithmetic mean=')\n",
"d1=x1-x\n",
"d2=x2-x\n",
"d3=x3-x\n",
"d4=x4-x\n",
"d5=x5-x\n",
"disp(d5,d4,d3,d2,d1,'(b)value of deviation=')\n",
"d=d1+d2+d3+d4+d5\n",
"disp(d,'(c)algebric sum of deviation=')\n",
"D=((d1)+(d2)+(-d3)+(d4)+(-d5))/n//taking mod of deviation value\n",
"disp(D,'(d)average deviation=')\n",
"S=((d1^2+d2^2+d3^2+d4^2+d5^2)/(n-1))^(0.5)\n",
"disp(S,'(e)standard deviation=')"
   ]
   }
,
{
		   "cell_type": "markdown",
		   "metadata": {},
		   "source": [
			"## Example 2.17: EX2_17.sce"
		   ]
		  },
  {
"cell_type": "code",
	   "execution_count": null,
	   "metadata": {
	    "collapsed": true
	   },
	   "outputs": [],
"source": [
"//caption:find(a)arithmetic mean(b)deviation from mean(c)average deviation(d)standard deviation(e)variance(f)probable reading of one error\n",
"//Ex2.17\n",
"clc\n",
"clear\n",
"close\n",
"x1=12.8//first reading(in V)\n",
"x2=12.2//second reading(in V)\n",
"x3=12.5//third reading(in V)\n",
"x4=13.1//fourth reading(in V)\n",
"x5=12.9//fifth reading(in V)\n",
"x6=12.4//sixth value(in V)\n",
"n=6//number of reading\n",
"x=(x1+x2+x3+x4+x5+x6)/n\n",
"disp(x,'(a)arithmetic mean(in V)=')\n",
"d1=x1-x\n",
"d2=x2-x\n",
"d3=x3-x\n",
"d4=x4-x\n",
"d5=x5-x\n",
"d6=x6-x\n",
"disp(d6,d5,d4,d3,d2,d1,'(b)value of deviation(in V)=')\n",
"D=((d1)+(-d2)+(-d3)+(d4)+(d5)+(-d6))/n//taking mod of deviation value\n",
"disp(D,'(c)average deviation=')\n",
"S=((d1^2+d2^2+d3^2+d4^2+d5^2)/(n-1))^(0.5)\n",
"disp(S,'(d)standard deviation(in V)=')\n",
"V=S^2\n",
"disp(V,'(e)variance(in V)=')\n",
"P=0.6745*V\n",
"disp(P,'(f)probable error of one reading(in V)=')"
   ]
   }
,
{
		   "cell_type": "markdown",
		   "metadata": {},
		   "source": [
			"## Example 2.1: Find_maximum_and_minimum_value_of_resistor.sce"
		   ]
		  },
  {
"cell_type": "code",
	   "execution_count": null,
	   "metadata": {
	    "collapsed": true
	   },
	   "outputs": [],
"source": [
"//caption:Find maximum and minimum value of resistor\n",
"//Ex2.1\n",
"clc\n",
"clear\n",
"close\n",
"R=100//magnitude of resistor(in ohm)\n",
"Lmin=-5//minimum limiting error(in %)\n",
"Lmax=5//maximum limiting error(in %)\n",
"Le=(R*Lmax)/100\n",
"Rmax=R+Le\n",
"disp(Rmax,'maximum value of resistor(in ohm)=')\n",
"Rmin=R-Le\n",
"disp(Rmin,'minimum value of resistor(in ohm)=')"
   ]
   }
,
{
		   "cell_type": "markdown",
		   "metadata": {},
		   "source": [
			"## Example 2.2: Find_limiting_error_in_percentage.sce"
		   ]
		  },
  {
"cell_type": "code",
	   "execution_count": null,
	   "metadata": {
	    "collapsed": true
	   },
	   "outputs": [],
"source": [
"//caption:Find limiting error in percentage\n",
"//Ex2.2\n",
"clc\n",
"clear\n",
"close\n",
"V=150//maximum range of voltmeter(in V)\n",
"A=0.02//magnitude of accuracy(in V)\n",
"Vm=83//voltage measured\n",
"dA=A*V\n",
"%er=(dA/Vm)*100\n",
"disp(%er,'limiting error(in %)=')"
   ]
   }
,
{
		   "cell_type": "markdown",
		   "metadata": {},
		   "source": [
			"## Example 2.3: Find_unknown_resistance_relative_limiting_error_in_percentage_and_in_ohms.sce"
		   ]
		  },
  {
"cell_type": "code",
	   "execution_count": null,
	   "metadata": {
	    "collapsed": true
	   },
	   "outputs": [],
"source": [
"//caption:Find unknown resistance,relative limiting error  in percentage and in ohms\n",
"//Ex2.3\n",
"clc\n",
"clear\n",
"close\n",
"R1=90//resistance of arm wheatstone bridge(in ohm)\n",
"Rle1=0.5//limiting error for R1(in %)\n",
"R2=900//resistance of arm wheatstone bridge(in ohm)\n",
"Rle2=0.8//limiting error for R2(in %)\n",
"R3=825//resistance of arm wheatstone bridge(in ohm)\n",
"Rle3=0.6//limiting error for R3(in %)\n",
"Rx=(R2*R3)/R1\n",
"disp(Rx,'unknown resistance(in ohm)=')\n",
"dR1=(R1*Rle1)/100\n",
"dR2=(R2*Rle2)/100\n",
"dR3=(R3*Rle3)/100\n",
"dR=((dR2/R2)+(dR3/R3)+(dR1/R1))*100\n",
"disp(dR,'relative limiting error(in %)=')\n",
"Le=(dR*Rx)/100\n",
"disp(Le,'limiting error(in ohm)=')"
   ]
   }
,
{
		   "cell_type": "markdown",
		   "metadata": {},
		   "source": [
			"## Example 2.4: Find_limiting_error.sce"
		   ]
		  },
  {
"cell_type": "code",
	   "execution_count": null,
	   "metadata": {
	    "collapsed": true
	   },
	   "outputs": [],
"source": [
"//caption:Find limiting error\n",
"//Ex2.4\n",
"clc\n",
"clear\n",
"close\n",
"V1=500//referance reading of voltmeter(in V)\n",
"V2=150//Voltage at which limiting error to be calculated(in V)\n",
"Ar=0.015//magnitude of accuracy limit\n",
"dA=Ar*V1\n",
"er=(dA/V2)*100\n",
"disp(er,'limiting error(in %)=')"
   ]
   }
,
{
		   "cell_type": "markdown",
		   "metadata": {},
		   "source": [
			"## Example 2.5: Find_magnitude_of_limiting_error_fot_R1_and_R2.sce"
		   ]
		  },
  {
"cell_type": "code",
	   "execution_count": null,
	   "metadata": {
	    "collapsed": true
	   },
	   "outputs": [],
"source": [
"//caption:Find magnitude of limiting error fot R1 and R2\n",
"//Ex2.5\n",
"clc\n",
"clear\n",
"close\n",
"R1=36//resistance(in ohm)\n",
"R2=75//resistance(in ohm)\n",
"er=0.005//limiting error(in ohm)\n",
"dR1=R1*er\n",
"disp(dR1,'magnitude of limiting error for R1(in ohm)=')\n",
"dR2=R2*er\n",
"disp(dR2,'magnitude of limiting error for R2(in ohm)=')"
   ]
   }
,
{
		   "cell_type": "markdown",
		   "metadata": {},
		   "source": [
			"## Example 2.6: Find_error_in_computed_value_of_power_dissipation.sce"
		   ]
		  },
  {
"cell_type": "code",
	   "execution_count": null,
	   "metadata": {
	    "collapsed": true
	   },
	   "outputs": [],
"source": [
"//caption:Find error in computed value of power dissipation\n",
"//Ex2.6\n",
"clc\n",
"clear\n",
"close\n",
"R=100//resistor(in ohm)\n",
"Rer=0.2//error in current measurment(in ohm)\n",
"I=2//current(in A)\n",
"Ier=0.01//error in current measurment(in ohm)\n",
"dR=(Rer/R)*100\n",
"dI=(Ier/I)*100\n",
"P=(I^2)*R\n",
"dPo=2*dI+dR\n",
"dP=(P*dPo)/100\n",
"disp(dP,'error in computed value of power dissipation(in W)=')"
   ]
   }
,
{
		   "cell_type": "markdown",
		   "metadata": {},
		   "source": [
			"## Example 2.7: find_the_limiting_error_for_the_power_calculated.sce"
		   ]
		  },
  {
"cell_type": "code",
	   "execution_count": null,
	   "metadata": {
	    "collapsed": true
	   },
	   "outputs": [],
"source": [
"//caption:find the limiting error for the power calculated\n",
"//Ex2.7\n",
"clc\n",
"clear\n",
"close\n",
"A=0.01//magnitude of accuracy\n",
"V=150//range of voltmeter(in V)\n",
"Vr=100//Reading of voltmeter(in V)\n",
"I=100//range of ammeter(in mA)\n",
"Ir=55//ammeter reading(in mA)\n",
"dV=A*V\n",
"dEv=(dV/Vr)*100\n",
"dA=A*I\n",
"dEi=(dA/Ir)*100\n",
"dE=(dEv+dEi)\n",
"disp(dE,'limiting error for the power calculated(in %)=')"
   ]
   }
,
{
		   "cell_type": "markdown",
		   "metadata": {},
		   "source": [
			"## Example 2.8: Find_limiting_error.sce"
		   ]
		  },
  {
"cell_type": "code",
	   "execution_count": null,
	   "metadata": {
	    "collapsed": true
	   },
	   "outputs": [],
"source": [
"//caption:Find limiting error\n",
"//Ex2.8\n",
"clc\n",
"clear\n",
"close\n",
"dP=1.5//limiting error in power(in %)\n",
"dI=1//limiting error in current(in %)\n",
"dR=(dP+2*dI)\n",
"disp(dR,'limiting error(in %)=')"
   ]
   }
,
{
		   "cell_type": "markdown",
		   "metadata": {},
		   "source": [
			"## Example 2.9: Find_limiting_error_when_measured_voltage_is_a_V1_b_V2.sce"
		   ]
		  },
  {
"cell_type": "code",
	   "execution_count": null,
	   "metadata": {
	    "collapsed": true
	   },
	   "outputs": [],
"source": [
"//caption:Find limiting error when measured voltage is(a)V1(b)V2\n",
"//Ex2.9\n",
"clc\n",
"clear\n",
"close\n",
"Ar=0.01//magnitude of accuracy(in V)\n",
"V1=50//measured voltage(in V)\n",
"V2=25//measured voltage(in V)\n",
"Vmax=100//maximum range of voltage\n",
"dA=Ar*Vmax\n",
"er1=(dA/V1)*100\n",
"disp(er1,'limiting error when measured voltage is V1(in %)=')\n",
"er2=(dA/V2)*100\n",
"disp(er2,'limiting error when measured voltage is V2(in %)=')"
   ]
   }
],
"metadata": {
		  "kernelspec": {
		   "display_name": "Scilab",
		   "language": "scilab",
		   "name": "scilab"
		  },
		  "language_info": {
		   "file_extension": ".sce",
		   "help_links": [
			{
			 "text": "MetaKernel Magics",
			 "url": "https://github.com/calysto/metakernel/blob/master/metakernel/magics/README.md"
			}
		   ],
		   "mimetype": "text/x-octave",
		   "name": "scilab",
		   "version": "0.7.1"
		  }
		 },
		 "nbformat": 4,
		 "nbformat_minor": 0
}
