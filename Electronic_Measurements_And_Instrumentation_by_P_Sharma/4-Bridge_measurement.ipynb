{
"cells": [
 {
		   "cell_type": "markdown",
	   "metadata": {},
	   "source": [
       "# Chapter 4: Bridge measurement"
	   ]
	},
{
		   "cell_type": "markdown",
		   "metadata": {},
		   "source": [
			"## Example 4.10: find_value_of_arm_CD.sce"
		   ]
		  },
  {
"cell_type": "code",
	   "execution_count": null,
	   "metadata": {
	    "collapsed": true
	   },
	   "outputs": [],
"source": [
"//caption:find value of arm CD\n",
"//Ex4.10\n",
"clc\n",
"clear\n",
"close\n",
"R1=2000//resistance of arm AB(in ohm)\n",
"C1=0.047*10^-6//capacitance of arm AB(in F)\n",
"R2=1000//resistance of arm BC(in ohm)\n",
"C2=0.47*10^-6//capacitance of arm BC(in F)\n",
"C3=0.5*10^-6//capacitance of arm AD(in F)\n",
"f=1000//frequency of bridge(in Hz)\n",
"w=2*%pi*f\n",
"Y1=(1/R1)+(%i*w*C1)\n",
"Z2=R2-(%i/(w*C2))\n",
"Z3=-%i/(w*C3)\n",
"Z4=Y1*Z2*Z3\n",
"disp(Z4,'value of arm CD=')"
   ]
   }
,
{
		   "cell_type": "markdown",
		   "metadata": {},
		   "source": [
			"## Example 4.11: find_value_of_arm_CD.sce"
		   ]
		  },
  {
"cell_type": "code",
	   "execution_count": null,
	   "metadata": {
	    "collapsed": true
	   },
	   "outputs": [],
"source": [
"//caption:find value of arm CD\n",
"//Ex4.11\n",
"clc\n",
"clear\n",
"close\n",
"C1=0.2*10^-6//capacitance of arm AB(in F)\n",
"R2=500//resistance of arm BC(in ohm)\n",
"R3=300//resistance of arm BC(in ohm)\n",
"C3=0.1*10^-6//capacitance of arm AD(in F)\n",
"f=1000//frequency of bridge(in Hz)\n",
"w=2*%pi*f\n",
"Z1=-%i/(w*C1)\n",
"Z2=R2\n",
"Z3=1/((1/R3)+%i*w*C3)\n",
"Z4=(Z2*Z3)/Z1\n",
"disp(Z4,'value of arm CD=')"
   ]
   }
,
{
		   "cell_type": "markdown",
		   "metadata": {},
		   "source": [
			"## Example 4.12: find_value_of_arm_AD.sce"
		   ]
		  },
  {
"cell_type": "code",
	   "execution_count": null,
	   "metadata": {
	    "collapsed": true
	   },
	   "outputs": [],
"source": [
"//caption:find value of arm AD\n",
"//Ex4.12\n",
"clc\n",
"clear\n",
"close\n",
"R1=1000//resistance of arm AB(in ohm)\n",
"C1=0.5*10^-6//capacitance of arm AB(in F)\n",
"R3=1000//resistance of arm BC(in ohm)\n",
"C3=0.5*10^-6//capacitance of arm BC(in F)\n",
"R4=200//resistance of arm BC(in ohm)\n",
"L4=30*10^-3//inductance of arm(in henery)\n",
"f=1000//frequency of bridge(in Hz)\n",
"w=2*%pi*f\n",
"Z1=1/((1/R1)+(%i*w*C1))\n",
"Z3=R3+(1/(%i*w*C3))\n",
"Z4=R4+(%i*w*L4)\n",
"Z2=(Z1*Z4)/Z3\n",
"disp(Z2,'value of arm CD=')"
   ]
   }
,
{
		   "cell_type": "markdown",
		   "metadata": {},
		   "source": [
			"## Example 4.13: find_value_of_frequency_of_the_bridge_arm_resistance_of_arm_AD.sce"
		   ]
		  },
  {
"cell_type": "code",
	   "execution_count": null,
	   "metadata": {
	    "collapsed": true
	   },
	   "outputs": [],
"source": [
"//caption:find value of frequency of the bridge arm resistance of arm AD\n",
"//Ex4.13\n",
"clc\n",
"clear\n",
"close\n",
"R1=1000//resistance of arm AB(in ohm)\n",
"C1=0.159*10^-6//capacitance of arm AB(in F)\n",
"R2=1000//resistance of arm BC(in ohm)\n",
"C3=0.636*10^-6//capacitance of arm BC(in F)\n",
"R4=500//resistance of arm BC(in ohm)\n",
"R3=R1*((R4/R2)-(C1/C3))\n",
"disp(R3,'resistance of the arm AD(in ohm)=')\n",
"f=1/(2*%pi*sqrt(C1*C3*R1*R3))\n",
"disp(f,'frequency of the bridge(in Hz)=')"
   ]
   }
,
{
		   "cell_type": "markdown",
		   "metadata": {},
		   "source": [
			"## Example 4.1: Find_value_of_unknown_resistance_and_fractional_uncertainty_in_its_value.sce"
		   ]
		  },
  {
"cell_type": "code",
	   "execution_count": null,
	   "metadata": {
	    "collapsed": true
	   },
	   "outputs": [],
"source": [
"//caption:Find value of unknown resistance and fractional uncertainty in its value\n",
"//Ex4.1\n",
"clc\n",
"clear\n",
"close\n",
"R1=500//resistance of first arm of wheatstone bridge(in ohm)\n",
"dR1=0.5//uncertanity of first arm (in ohm)\n",
"R2=1000//resistance of arm of wheatstone bridge(in ohm)\n",
"dR2=0.5//uncertanity of second arm(in ohm)\n",
"R3=600//resistance of third arm of wheatstone bridge(in ohm)\n",
"dR3=0.5//uncertanity of third arm(in ohm)\n",
"R4=(R2*R3)/R1\n",
"disp(R4,'unknown resistance(in ohm)=')\n",
"d4=((dR1/R1)^2+(dR2/R2)^2+(dR3/R3)^2)^1/2\n",
"dR4=R4*d4\n",
"disp(dR4,'fractional uncertainty(in ohm)=')"
   ]
   }
,
{
		   "cell_type": "markdown",
		   "metadata": {},
		   "source": [
			"## Example 4.2: Find_output_voltage.sce"
		   ]
		  },
  {
"cell_type": "code",
	   "execution_count": null,
	   "metadata": {
	    "collapsed": true
	   },
	   "outputs": [],
"source": [
"//caption:Find output voltage\n",
"//Ex4.2\n",
"clc\n",
"clear\n",
"close\n",
"R1=1000//resistance of first arm(in ohm)\n",
"R2=1000//resistance of second arm(in ohm)\n",
"R3=1000////resistance of third arm(in ohm)\n",
"V=10//applied voltage(in V)\n",
"T=20//temperature of thermometer(in degree centigrate)\n",
"Ro=1020//resistance of thermometer(in ohm)\n",
"V1=(R2/(R1+R3))*V\n",
"V2=(Ro/(R2+Ro))*V\n",
"Vo=V2-V1\n",
"disp(Vo,'output voltage(in V)=')"
   ]
   }
,
{
		   "cell_type": "markdown",
		   "metadata": {},
		   "source": [
			"## Example 4.3: Find_temperature_at_which_thevenin_voltage_is_50mV.sce"
		   ]
		  },
  {
"cell_type": "code",
	   "execution_count": null,
	   "metadata": {
	    "collapsed": true
	   },
	   "outputs": [],
"source": [
"//caption:Find temperature at which thevenin voltage is 50mV\n",
"//Ex4.3\n",
"clc\n",
"clear\n",
"close\n",
"R=1000//resistance of all the arms ofwheatstone bridge(in ohm)\n",
"a=10//temperature coefficient of thermistor(in ohm/degree centigrate)\n",
"Eth=0.05//thevenin voltage(in V)\n",
"V=20//input voltage(in V)\n",
"T=50//temperature(in degree centigrate)\n",
"Ro=1000//resistance of thermometer(in ohm)\n",
"dR=(Eth*4*R)/V\n",
"To=T-1\n",
"disp(To,'temperature at which thevenin voltage is 50mV(in degree centigrate)=')"
   ]
   }
,
{
		   "cell_type": "markdown",
		   "metadata": {},
		   "source": [
			"## Example 4.4: Find_deflection_of_the_galvenometer.sce"
		   ]
		  },
  {
"cell_type": "code",
	   "execution_count": null,
	   "metadata": {
	    "collapsed": true
	   },
	   "outputs": [],
"source": [
"//caption:Find deflection of the galvenometer\n",
"//Ex4.4\n",
"clc\n",
"clear\n",
"close\n",
"R1=80//resistance of first arm(in ohm)\n",
"R2=800//resistance of second arm(in ohm)\n",
"R3=160//resistance of third arm(in ohm)\n",
"R4=1605//resistance of fourth arm(in ohm)\n",
"E=4//battery voltage(in V)\n",
"S=8//galvenometer sensitivity(in milimeter per micro ampere)\n",
"Ro=80//internal resistance of the galvenometer(in ohm)\n",
"Eth=E*(R1/(R1+R3)-R2/(R2+R4))\n",
"Rth=R1*R3/(R1+R3)+R2*R4/(R2+R4)\n",
"Ig=Eth/(Rth+Ro)\n",
"D=S*Ig\n",
"disp(D,'deflection of the galvenometer(in m)=')"
   ]
   }
,
{
		   "cell_type": "markdown",
		   "metadata": {},
		   "source": [
			"## Example 4.5: Find_limiting_value_of_unknown_resistance.sce"
		   ]
		  },
  {
"cell_type": "code",
	   "execution_count": null,
	   "metadata": {
	    "collapsed": true
	   },
	   "outputs": [],
"source": [
"//caption:Find limiting value of unknown resistance\n",
"//Ex4.5\n",
"clc\n",
"clear\n",
"close\n",
"R1=100//value of resistance(in ohm)\n",
"R2=100//value of resistance(in ohm)\n",
"R3=230//value of standard arm resistance(in ohm)\n",
"dR1=0.02//ratio arms accuracy range(in %)\n",
"dR2=0.02//ratio arms accuracy range(in %)\n",
"dR3=0.01//standard ratio arm accuracy range(in %)\n",
"Rx=(R2*R3)/R1\n",
"dRx=dR1+dR2+dR3\n",
"Rx1=R3-((R3*dRx)/100)\n",
"Rx2=R3+((R3*dRx)/100)\n",
"disp(Rx1,'lower value of limiting resistance(in ohm)=')\n",
"disp(Rx2,'upper value of limiting resistance(in ohm)=')"
   ]
   }
,
{
		   "cell_type": "markdown",
		   "metadata": {},
		   "source": [
			"## Example 4.6: Find_magnitude_and_phase_angle_of_Z4_arm.sce"
		   ]
		  },
  {
"cell_type": "code",
	   "execution_count": null,
	   "metadata": {
	    "collapsed": true
	   },
	   "outputs": [],
"source": [
"//caption:Find magnitude and phase angle of Z4 arm\n",
"//Ex4.6\n",
"clc\n",
"clear\n",
"close\n",
"Z1=200//impedance of first arm(in ohm)\n",
"Za=30//phase angle of first arm(in degree)\n",
"Z2=250//impedance of second arm(in ohm)\n",
"Zb=-40//phase angle of second arm(in degree)\n",
"Z3=150//impedane of third arm(in ohm)\n",
"Zc=0//phase angle of third arm(in degree)\n",
"Z4=(Z2*Z3)/Z1\n",
"disp(Z4,'magnitude of Z4 arm(in ohm)=')\n",
"Zd=Zb+Zc-Za\n",
"disp(Zd,'phase angle of Z4 arm(in degree)=')"
   ]
   }
,
{
		   "cell_type": "markdown",
		   "metadata": {},
		   "source": [
			"## Example 4.7: find_value_of_unknown_inductance_resistance_and_Q_for_maxwell_bridge.sce"
		   ]
		  },
  {
"cell_type": "code",
	   "execution_count": null,
	   "metadata": {
	    "collapsed": true
	   },
	   "outputs": [],
"source": [
"//caption:find value of unknown inductance,resistance and Q for maxwell bridge\n",
"//Ex4.7\n",
"clc\n",
"clear\n",
"close\n",
"R1=220//resistance of first arm(in ohm)\n",
"C1=0.22*10^-6//capacitance of first arm(in F)\n",
"R2=1000//resistance of second arm(in ohm)\n",
"R3=1000//resistance of third arm(in ohm)\n",
"f=1000//frequency of arm(in Hz)\n",
"w=2*%pi*f\n",
"R=(R2*R3)/R1\n",
"disp(R,'resistance(in ohm)=')\n",
"L=R2*R3*C1\n",
"disp(L,'inductance(in H)=')\n",
"Q=w*R1*C1\n",
"disp(Q,'Q value of the bridge=')"
   ]
   }
,
{
		   "cell_type": "markdown",
		   "metadata": {},
		   "source": [
			"## Example 4.8: find_relative_permittivity_of_specimen.sce"
		   ]
		  },
  {
"cell_type": "code",
	   "execution_count": null,
	   "metadata": {
	    "collapsed": true
	   },
	   "outputs": [],
"source": [
"//caption:find relative permittivity of specimen\n",
"//Ex4.8\n",
"clc\n",
"clear\n",
"close\n",
"C1=120//capacitance of first arm without specimen(in pF)\n",
"C3=150//capacitance of third arm without specimen(in pF)\n",
"R1=5000//resistance of first arm without specimen(in ohm)\n",
"R2=5000//resistance of second arm without specimen(in ohm)\n",
"C1o=200//capacitance of first arm with specimen(in pF)\n",
"C3o=900//capacitance of third arm with specimen(in pF)\n",
"R1o=5000//resistance of first arm with specimen(in ohm)\n",
"R2o=5000//resistance of second arm with specimen(in ohm)\n",
"Cs=(C3*R1)/R2\n",
"Css=(C3o*R1o)/R2o\n",
"er=Css/Cs\n",
"disp(er,'relative permittivity of the specimen=')"
   ]
   }
,
{
		   "cell_type": "markdown",
		   "metadata": {},
		   "source": [
			"## Example 4.9: Find_equivalent_parallel_resistance_and_capacitance.sce"
		   ]
		  },
  {
"cell_type": "code",
	   "execution_count": null,
	   "metadata": {
	    "collapsed": true
	   },
	   "outputs": [],
"source": [
"//caption:Find equivalent parallel resistance and capacitance.\n",
"//Ex4.9\n",
"clc\n",
"clear\n",
"close\n",
"R1=3.1//resistance(in kilo ohm)\n",
"R2=25//resistance(in kilo ohm)\n",
"C1=5.2*10^-6//capacitance(in F)\n",
"R4=100//resistance(in kilo ohm)\n",
"f=2500//frequency (in Hz)\n",
"w=2*%pi*f\n",
"R3=(R4/R2)*((R1)+1/(w^2)*R1*(C1^2))\n",
"disp(R3,'equivalent parallel resistance(in kilo ohm)=')\n",
"C3=1/((w^2)*C1*R1*R3)\n",
"disp(C3,'equivalent parallel capacitance(in F)=')"
   ]
   }
],
"metadata": {
		  "kernelspec": {
		   "display_name": "Scilab",
		   "language": "scilab",
		   "name": "scilab"
		  },
		  "language_info": {
		   "file_extension": ".sce",
		   "help_links": [
			{
			 "text": "MetaKernel Magics",
			 "url": "https://github.com/calysto/metakernel/blob/master/metakernel/magics/README.md"
			}
		   ],
		   "mimetype": "text/x-octave",
		   "name": "scilab",
		   "version": "0.7.1"
		  }
		 },
		 "nbformat": 4,
		 "nbformat_minor": 0
}
