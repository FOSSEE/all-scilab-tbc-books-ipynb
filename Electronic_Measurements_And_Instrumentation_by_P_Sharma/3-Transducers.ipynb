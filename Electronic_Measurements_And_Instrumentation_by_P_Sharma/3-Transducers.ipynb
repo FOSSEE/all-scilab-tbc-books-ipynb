{
"cells": [
 {
		   "cell_type": "markdown",
	   "metadata": {},
	   "source": [
       "# Chapter 3: Transducers"
	   ]
	},
{
		   "cell_type": "markdown",
		   "metadata": {},
		   "source": [
			"## Example 3.2: Find_change_in_resistance.sce"
		   ]
		  },
  {
"cell_type": "code",
	   "execution_count": null,
	   "metadata": {
	    "collapsed": true
	   },
	   "outputs": [],
"source": [
"//caption:Find change in resistance\n",
"//Ex3.2\n",
"clc\n",
"clear\n",
"close\n",
"G=2//gauge factor\n",
"S=500//stress applied(in Kg/cm^2)\n",
"v=2*10^6//modulus of elasticity(in Kg/cm^2)\n",
"e=(S/v)\n",
"R=(e*G)*100\n",
"disp(R,'change in resistance(in %)=')"
   ]
   }
,
{
		   "cell_type": "markdown",
		   "metadata": {},
		   "source": [
			"## Example 3.3: Find_output_voltage_of_an_ac_LVDT_for_a_minus_point_3_inch_b_minus_point_25_inch.sce"
		   ]
		  },
  {
"cell_type": "code",
	   "execution_count": null,
	   "metadata": {
	    "collapsed": true
	   },
	   "outputs": [],
"source": [
"//caption:Find output voltage of an ac LVDT for (a)-0.3 inch(b)-0.25 inch\n",
"//Ex3.3\n",
"clc\n",
"clear\n",
"close\n",
"R=-0.5//range of core displacement(in inch)\n",
"V=-5.2//output voltage(in V)\n",
"D1=-0.3//displacement(in inch)\n",
"D2=-0.25//displacement(in inch)\n",
"V1=(D1/R)*V\n",
"disp(V1,'(a)output voltage at -0.3 inch(in V)=')\n",
"V2=(D2/R)*V\n",
"disp(V2,'(b)output voltage at -0.25 inch(in V)=')"
   ]
   }
,
{
		   "cell_type": "markdown",
		   "metadata": {},
		   "source": [
			"## Example 3.4: Find_sensitivity_of_LVDT.sce"
		   ]
		  },
  {
"cell_type": "code",
	   "execution_count": null,
	   "metadata": {
	    "collapsed": true
	   },
	   "outputs": [],
"source": [
"//caption:Find sensitivity of LVDT\n",
"//Ex3.4\n",
"clc\n",
"clear\n",
"close\n",
"R=1.2//rms value of output voltage(in V)\n",
"d=0.6//displacement(in micro meter)\n",
"S=(R/d)\n",
"disp(S,'sensitivity of LVDT(in volt per micro meter)=')"
   ]
   }
,
{
		   "cell_type": "markdown",
		   "metadata": {},
		   "source": [
			"## Example 3.5: Find_output_voltage.sce"
		   ]
		  },
  {
"cell_type": "code",
	   "execution_count": null,
	   "metadata": {
	    "collapsed": true
	   },
	   "outputs": [],
"source": [
"//caption:Find output voltage\n",
"//Ex3.5\n",
"clc\n",
"clear\n",
"close\n",
"V=5//secondary voltage(in V)\n",
"d=10//displacement(in mm)\n",
"D=8//displcement at which output voltage to be calculated(in mm)\n",
"S=(V/d)\n",
"O=S*D\n",
"disp(O,'output voltag(in V)=')"
   ]
   }
,
{
		   "cell_type": "markdown",
		   "metadata": {},
		   "source": [
			"## Example 3.6: EX3_6.sce"
		   ]
		  },
  {
"cell_type": "code",
	   "execution_count": null,
	   "metadata": {
	    "collapsed": true
	   },
	   "outputs": [],
"source": [
"//caption:Find (a)Sensitivity of LVDT(b)sensitivity of entire setup(c)resolution of the instrument\n",
"//Ex3.6\n",
"clc\n",
"clear\n",
"close\n",
"V=5//LVDT connection voltage(in V)\n",
"Vo=2//output voltage of LVDT(in mV)\n",
"D=0.5//displacement(in mm)\n",
"A=250//amplification factor\n",
"Do=100//divisions of scale\n",
"Ds=0.2//reading capacity of LVDT division\n",
"S=Vo/D\n",
"disp(S,'(a)sensitivity of LVDT(in mV/mm)=')\n",
"So=A*S\n",
"disp(So,'(b)sensitivity of entire setup(in mV/mm)=')\n",
"C=V/Do\n",
"M=Ds*C\n",
"R=M/S\n",
"disp(R,'(c)resolution of the instrument(in mm)=')"
   ]
   }
,
{
		   "cell_type": "markdown",
		   "metadata": {},
		   "source": [
			"## Example 3.7: Find_value_of_capacitance_after_application_of_pressure.sce"
		   ]
		  },
  {
"cell_type": "code",
	   "execution_count": null,
	   "metadata": {
	    "collapsed": true
	   },
	   "outputs": [],
"source": [
"//caption:Find value of capacitance after application of pressure\n",
"//Ex3.7\n",
"clc\n",
"clear\n",
"close\n",
"A=600*10^-6//area of plates(in meter square)\n",
"D=2.5*10^-3//sepration of distance(in meter)\n",
"C=400*10^-12//capacitance(in F)\n",
"Do=0.5*10^-3//deflection(in mm)\n",
"e=(C*D)/A\n",
"d=D-Do\n",
"Co=(e*A)/d\n",
"disp(Co,'capacitance(in F)=')"
   ]
   }
,
{
		   "cell_type": "markdown",
		   "metadata": {},
		   "source": [
			"## Example 3.8: Find_thermoelectric_sensitivity_and_emf_developed.sce"
		   ]
		  },
  {
"cell_type": "code",
	   "execution_count": null,
	   "metadata": {
	    "collapsed": true
	   },
	   "outputs": [],
"source": [
"//caption:Find thermoelectric sensitivity and emf developed\n",
"//Ex3.8\n",
"clc\n",
"clear\n",
"close\n",
"T=50//temperature difference(in degree centigrate)\n",
"Scp=7.4*10^-6//sensitivity of copper against platinum(in Voli per degree centigrate)\n",
"Sccp=-34.8*10^-6//sensitivity of constantan against platinum(in Voli per degree centigrate)\n",
"Sccc=(Scp)-(Sccp)\n",
"disp(Sccc,'sensitivity(in Volt per degree centigrate)=')\n",
"E=Sccc*T\n",
"disp(E,'emf developed(in V)=')"
   ]
   }
,
{
		   "cell_type": "markdown",
		   "metadata": {},
		   "source": [
			"## Example 3.9: Find_value_of_protection_resistance.sce"
		   ]
		  },
  {
"cell_type": "code",
	   "execution_count": null,
	   "metadata": {
	    "collapsed": true
	   },
	   "outputs": [],
"source": [
"//caption:Find value of protection resistance\n",
"//Ex3.9\n",
"clc\n",
"clear\n",
"close\n",
"I=0.01//current through LDR(in A)\n",
"R=15//Resistance of LDR(in ohms)\n",
"V=9//supply voltage(in V)\n",
"Vo=I*R\n",
"Vp=V-Vo\n",
"R=Vp/I\n",
"disp(R,'value of protection resistance(in ohm)=')"
   ]
   }
],
"metadata": {
		  "kernelspec": {
		   "display_name": "Scilab",
		   "language": "scilab",
		   "name": "scilab"
		  },
		  "language_info": {
		   "file_extension": ".sce",
		   "help_links": [
			{
			 "text": "MetaKernel Magics",
			 "url": "https://github.com/calysto/metakernel/blob/master/metakernel/magics/README.md"
			}
		   ],
		   "mimetype": "text/x-octave",
		   "name": "scilab",
		   "version": "0.7.1"
		  }
		 },
		 "nbformat": 4,
		 "nbformat_minor": 0
}
