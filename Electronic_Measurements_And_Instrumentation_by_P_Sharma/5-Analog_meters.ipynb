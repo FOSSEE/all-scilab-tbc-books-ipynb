{
"cells": [
 {
		   "cell_type": "markdown",
	   "metadata": {},
	   "source": [
       "# Chapter 5: Analog meters"
	   ]
	},
{
		   "cell_type": "markdown",
		   "metadata": {},
		   "source": [
			"## Example 5.10: EX5_10.sce"
		   ]
		  },
  {
"cell_type": "code",
	   "execution_count": null,
	   "metadata": {
	    "collapsed": true
	   },
	   "outputs": [],
"source": [
"//caption:Find reading of voltmeter and percentage error when(a)sensitivity of voltmeter is 100 kilo ohm per volt(b)sensitivity of voltmeter is 500 kilo ohm per volt\n",
"//Ex5.10\n",
"clc\n",
"clear\n",
"close\n",
"Rl=50000//load resistance(in ohm)\n",
"S1=10000//sensitivity (in kilo ohm per volt)\n",
"S2=50000//sensitivity (in kilo ohm per volt)\n",
"Vi=10//input voltage(in V)\n",
"R=5//range of voltmeter(in V)\n",
"Vl=(Rl/(S1+Rl))*Vi\n",
"Vo=R*S1\n",
"Rth=((Rl*Vo)/(Rl+Vo))\n",
"V1=(Rth/(Rl+Rth))*Vi\n",
"disp(V1,'(a)reading of voltmeter(in V)=')\n",
"e=((R-V1)/R)*100\n",
"disp(e,'(a)error(in %)=')\n",
"Vc=R*S2\n",
"Rt=((Rl*Vc)/(Rl+Vc))\n",
"V2=(Rt/(Rl+Rt))*Vi\n",
"disp(V2,'(b)reading of voltmeter(in V)=')\n",
"eo=((R-V2)/R)*100\n",
"disp(eo,'(b)error (in %)=')"
   ]
   }
,
{
		   "cell_type": "markdown",
		   "metadata": {},
		   "source": [
			"## Example 5.11: Find_a_value_of_R1_and_R2_b_change_in_value_of_R2_c_half_scale_deflection.sce"
		   ]
		  },
  {
"cell_type": "code",
	   "execution_count": null,
	   "metadata": {
	    "collapsed": true
	   },
	   "outputs": [],
"source": [
"//caption:Find (a)value of R1 and R2(b)change in value of R2(c)half scale deflection\n",
"//Ex5.11\n",
"clc\n",
"clear\n",
"close\n",
"Ifsd=0.001//current(in A)\n",
"Rm=100//internal resistance(in ohm)\n",
"E=9//battery voltage(in V)\n",
"Rh=5000//half scale deflection(in ohm)\n",
"R1=Rh-((Ifsd*Rm*Rh)/E)\n",
"disp(R1,'(a)value of R1(in ohm)=')\n",
"R2=(Ifsd*Rm*Rh)/(E-Ifsd*Rh)\n",
"disp(R2,'(a)value of R2(in ohm)=')\n",
"Eo=E-0.9\n",
"Ro=(Ifsd*Rm*Rh)/(Eo-Ifsd*Rh)\n",
"disp(Ro,'(b)change in value of R2(in ohm)=')\n",
"Rh2=R1+((Ro*Rm)/(Ro+Rm))\n",
"disp(Rh2,'(c)half scale deflection(in ohm)=')"
   ]
   }
,
{
		   "cell_type": "markdown",
		   "metadata": {},
		   "source": [
			"## Example 5.12: Find_R1_and_Rsh.sce"
		   ]
		  },
  {
"cell_type": "code",
	   "execution_count": null,
	   "metadata": {
	    "collapsed": true
	   },
	   "outputs": [],
"source": [
"//caption:Find R1 and Rsh\n",
"//Ex5.12\n",
"clc\n",
"clear\n",
"close\n",
"Ifsd=0.001//current value(in A)\n",
"Rm=100//resistance(in ohm)\n",
"E=3//voltage(in V)\n",
"Rh=1//deflection resistance(in ohm)\n",
"Im=Ifsd/2\n",
"Ish=Im*((Rm-Rh)/Rh)\n",
"Rsh=(Im*Ish)/(Ish)\n",
"disp(Rsh,'value of Rsh(in ohm)=')\n",
"It=2*Im*(Rm/Rh)\n",
"R1=(E-Im*Rm)/It\n",
"disp(R1,'value of R1(in ohm)=')"
   ]
   }
,
{
		   "cell_type": "markdown",
		   "metadata": {},
		   "source": [
			"## Example 5.13: Find_value_of_required_multiplier_resistance.sce"
		   ]
		  },
  {
"cell_type": "code",
	   "execution_count": null,
	   "metadata": {
	    "collapsed": true
	   },
	   "outputs": [],
"source": [
"//caption:Find value of required multiplier resistance\n",
"//Ex5.13\n",
"clc\n",
"clear\n",
"close\n",
"Iav=100*10^-6//current value(in A)\n",
"Rm=100//internal resistance(in ohm)\n",
"Vrms=100//maximum rms range(in V)\n",
"Rs=0.45*(Vrms/Iav)-Rm\n",
"disp(Rs,'value of multiplier resistance(in ohm)=')"
   ]
   }
,
{
		   "cell_type": "markdown",
		   "metadata": {},
		   "source": [
			"## Example 5.14: Find_value_of_multiplier_resistance.sce"
		   ]
		  },
  {
"cell_type": "code",
	   "execution_count": null,
	   "metadata": {
	    "collapsed": true
	   },
	   "outputs": [],
"source": [
"//caption:Find value of multiplier resistance\n",
"//Ex5.14\n",
"clc\n",
"clear\n",
"close\n",
"Vrms=10//rms voltage of the voltmeter(in V)\n",
"Ifsd=2*10^-3//ammeter reading(in A)\n",
"Rm=100//internal resistance(in ohm)\n",
"Sdc=1/Ifsd\n",
"Rs=(Sdc*0.45*Vrms)-Rm\n",
"disp(Rs,'value of multiplier resistance(in ohm)=')"
   ]
   }
,
{
		   "cell_type": "markdown",
		   "metadata": {},
		   "source": [
			"## Example 5.15: Find_value_of_multiplier_resistance.sce"
		   ]
		  },
  {
"cell_type": "code",
	   "execution_count": null,
	   "metadata": {
	    "collapsed": true
	   },
	   "outputs": [],
"source": [
"//caption:Find value of multiplier resistance\n",
"//Ex5.15\n",
"clc\n",
"clear\n",
"close\n",
"Vrms=20//voltmeter range(in V)\n",
"Ifsd=2*10^-3//ammeter reading(in A)\n",
"Rm=500//internal resistance(in ohm)\n",
"Sdc=1/Ifsd\n",
"Sac=0.9*Sdc\n",
"Rs=Sac*Vrms-Rm\n",
"disp(Rs,'value of multiplier resistance(in ohm)=')"
   ]
   }
,
{
		   "cell_type": "markdown",
		   "metadata": {},
		   "source": [
			"## Example 5.1: Find_terminal_voltage_when_load_impedance_is_a_10_ohm_b_20_ohm_c_40_ohm.sce"
		   ]
		  },
  {
"cell_type": "code",
	   "execution_count": null,
	   "metadata": {
	    "collapsed": true
	   },
	   "outputs": [],
"source": [
"//caption:Find terminal voltage when load impedance is(a)10 ohm(b)20 ohm(c)40 ohm\n",
"//Ex5.1\n",
"clc\n",
"clear\n",
"close\n",
"Vs=5//source voltage(in V)\n",
"Zi=10//internal imedance of load(in ohm)\n",
"Z1=10//load impedance(in ohm)\n",
"Z2=20//load impedance(in ohm)\n",
"Z3=40//load impedance(in ohm)\n",
"Vt1=(Vs/(Zi+Z1))*Z1\n",
"disp(Vt1,'(a)internal voltage at load impedance 10 ohm(in ohm)=')\n",
"Vt2=(Vs/(Zi+Z2))*Z2\n",
"disp(Vt2,'(b)internal voltage at load impedance 20 ohm(in ohm)=')\n",
"Vt3=(Vs/(Zi+Z3))*Z3\n",
"disp(Vt3,'(c)internal voltage at load impedance 40 ohm(in ohm)=')"
   ]
   }
,
{
		   "cell_type": "markdown",
		   "metadata": {},
		   "source": [
			"## Example 5.2: Find_load_current_when_varible_load_are_a_100_ohm_b10_ohm.sce"
		   ]
		  },
  {
"cell_type": "code",
	   "execution_count": null,
	   "metadata": {
	    "collapsed": true
	   },
	   "outputs": [],
"source": [
"//caption:Find load current when varible load are(a)100 ohm(b)10 ohm\n",
"//Ex5.2\n",
"clc\n",
"clear\n",
"close\n",
"Zs=100//current source impedance(in ohm)\n",
"Zl1=100//load impedance(in ohm)\n",
"Zl2=10//load impedance(in ohm)\n",
"Is=10//current source value(in A)\n",
"Il1=(Is/(1+(Zl1/Zs)))\n",
"disp(Il1,'(a)load current when variable load is 100 ohm(in ohm)=')\n",
"Il2=(Is/(1+(Zl2/Zs)))\n",
"disp(Il2,'(b)load current when variable load is 10 ohm(in ohm)=')"
   ]
   }
,
{
		   "cell_type": "markdown",
		   "metadata": {},
		   "source": [
			"## Example 5.3: Find_equivalant_voltage_source_of_the_ac_current_source.sce"
		   ]
		  },
  {
"cell_type": "code",
	   "execution_count": null,
	   "metadata": {
	    "collapsed": true
	   },
	   "outputs": [],
"source": [
"//caption:Find equivalant voltage source of the ac current source\n",
"//Ex5.3\n",
"clc\n",
"clear\n",
"close\n",
"Is=1//current value(in A)\n",
"Zs=100//source impedance(in ohm)\n",
"Veq=Is*Zs\n",
"disp(Veq,'equivalant voltage source of the ac current source(in V)=')"
   ]
   }
,
{
		   "cell_type": "markdown",
		   "metadata": {},
		   "source": [
			"## Example 5.4: Find_equivalant_current_source.sce"
		   ]
		  },
  {
"cell_type": "code",
	   "execution_count": null,
	   "metadata": {
	    "collapsed": true
	   },
	   "outputs": [],
"source": [
"//caption:Find equivalant current source\n",
"//Ex5.4\n",
"clc\n",
"clear\n",
"close\n",
"Vs=5//source voltage(in V)\n",
"Rs=1//source resistance(in ohm)\n",
"I=Vs/Rs\n",
"disp(I,'equivalant current source(in A)=')"
   ]
   }
,
{
		   "cell_type": "markdown",
		   "metadata": {},
		   "source": [
			"## Example 5.5: Find_value_of_shunt_resistance_for_ammeter.sce"
		   ]
		  },
  {
"cell_type": "code",
	   "execution_count": null,
	   "metadata": {
	    "collapsed": true
	   },
	   "outputs": [],
"source": [
"//caption:Find value of shunt resistance for ammeter\n",
"//Ex5.5\n",
"clc\n",
"clear\n",
"close\n",
"Im=2//ammeter current(in mA)\n",
"I=50//max range of ammeter(in mA)\n",
"Rm=100//internal ammeter resistance(in ohm)\n",
"Rs=(Rm/((I/Im)-1))\n",
"disp(Rs,'shunt resistance(in ohm)=')"
   ]
   }
,
{
		   "cell_type": "markdown",
		   "metadata": {},
		   "source": [
			"## Example 5.6: Find_value_of_shunt_resistance_for_the_range_a_0_to_1A_b_0_to_5A_c_0_to_10A.sce"
		   ]
		  },
  {
"cell_type": "code",
	   "execution_count": null,
	   "metadata": {
	    "collapsed": true
	   },
	   "outputs": [],
"source": [
"//caption:Find value of shunt resistance for the range(a)0-1A(b)0-5A(c)0-10A\n",
"//Ex5.6\n",
"clc\n",
"clear\n",
"close\n",
"Im=0.001//meter current(in A)\n",
"I1=1//maximum range(in A)\n",
"I2=5//maximum range(in A)\n",
"I3=10//maximum range(in A)\n",
"R=100//internal resistance(in ohm)\n",
"Rs1=(R/((I1/Im)-1))\n",
"disp(Rs1,'(a)shunt resistance(in ohm)=')\n",
"Rs2=(R/((I2/Im)-1))\n",
"disp(Rs2,'(b)shunt resistance(in ohm)=')\n",
"Rs3=(R/((I3/Im)-1))\n",
"disp(Rs3,'(c)shunt resistance(in ohm)=')"
   ]
   }
,
{
		   "cell_type": "markdown",
		   "metadata": {},
		   "source": [
			"## Example 5.8: EX5_8.sce"
		   ]
		  },
  {
"cell_type": "code",
	   "execution_count": null,
	   "metadata": {
	    "collapsed": true
	   },
	   "outputs": [],
"source": [
"//caption:Find the value of multiplier resistance for the range(a)0-10V(b)0-50V(c)0-100V(d)0-200V\n",
"//Ex5.8\n",
"clc\n",
"clear\n",
"close\n",
"V1=10//maximum voltage range(in V)\n",
"V2=50//maximum voltage range(in V)\n",
"V3=100//maximum voltage range(in V)\n",
"V4=200//maximum voltage range(in V)\n",
"I=0.002//deflection current(in A)\n",
"R=100//internal resistance(in ohm)\n",
"Rt1=V1/I\n",
"R1=Rt1-R\n",
"disp(R1,'(a)multiplier resistance(in ohm)=')\n",
"Rt2=V2/I\n",
"R2=Rt2-(R1+R)\n",
"disp(R2,'(b)multiplier resistance(in ohm)=')\n",
"Rt3=V3/I\n",
"R3=Rt3-(R2+R1+R)\n",
"disp(R3,'(c)multiplier resistance(in ohm)=')\n",
"Rt4=V4/I\n",
"R4=Rt4-(R1+R2+R3+R)\n",
"disp(R4,'(d)multiplier resistance(in ohm)=')"
   ]
   }
,
{
		   "cell_type": "markdown",
		   "metadata": {},
		   "source": [
			"## Example 5.9: EX5_9.sce"
		   ]
		  },
  {
"cell_type": "code",
	   "execution_count": null,
	   "metadata": {
	    "collapsed": true
	   },
	   "outputs": [],
"source": [
"//caption:Find the value of multiplier resistance for the range(a)0-10V(b)0-50V(c)0-100V(d)0-200V using sensitivity method\n",
"//Ex5.9\n",
"clc\n",
"clear\n",
"close\n",
"V1=10//maximum voltage range(in V)\n",
"V2=50//maximum voltage range(in V)\n",
"V3=100//maximum voltage range(in V)\n",
"V4=200//maximum voltage range(in V)\n",
"I=0.002//deflection current(in A)\n",
"R=100//internal resistance(in ohm)\n",
"S=1/I\n",
"R1=(S*V1)-R\n",
"disp(R1,'(a)multiplier resistance(in ohm)=')\n",
"R2=(S*V2)-(R1+R)\n",
"disp(R2,'(b)multiplier resistance(in ohm)=')\n",
"R3=(S*V3)-(R2+R1+R)\n",
"disp(R3,'(c)multiplier resistance(in ohm)=')\n",
"R4=(S*V4)-(R1+R2+R3+R)\n",
"disp(R4,'(d)multiplier resistance(in ohm)=')"
   ]
   }
],
"metadata": {
		  "kernelspec": {
		   "display_name": "Scilab",
		   "language": "scilab",
		   "name": "scilab"
		  },
		  "language_info": {
		   "file_extension": ".sce",
		   "help_links": [
			{
			 "text": "MetaKernel Magics",
			 "url": "https://github.com/calysto/metakernel/blob/master/metakernel/magics/README.md"
			}
		   ],
		   "mimetype": "text/x-octave",
		   "name": "scilab",
		   "version": "0.7.1"
		  }
		 },
		 "nbformat": 4,
		 "nbformat_minor": 0
}
