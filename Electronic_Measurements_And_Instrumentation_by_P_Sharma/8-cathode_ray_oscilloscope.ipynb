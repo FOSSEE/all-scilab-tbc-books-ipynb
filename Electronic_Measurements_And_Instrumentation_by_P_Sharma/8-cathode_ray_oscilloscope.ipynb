{
"cells": [
 {
		   "cell_type": "markdown",
	   "metadata": {},
	   "source": [
       "# Chapter 8: cathode ray oscilloscope"
	   ]
	},
{
		   "cell_type": "markdown",
		   "metadata": {},
		   "source": [
			"## Example 8.10: what_will_be_the_setting_of_time_base_knob.sce"
		   ]
		  },
  {
"cell_type": "code",
	   "execution_count": null,
	   "metadata": {
	    "collapsed": true
	   },
	   "outputs": [],
"source": [
"//caption:what will be the setting of time base knob\n",
"//Ex8.10\n",
"clc\n",
"clear\n",
"close\n",
"f=1//frequency of sine wave(in kHz)\n",
"n=10//number of divisions in a cycle\n",
"T=1/f\n",
"To=T/n\n",
"disp(To,'setting of time base knob(in ms)=')"
   ]
   }
,
{
		   "cell_type": "markdown",
		   "metadata": {},
		   "source": [
			"## Example 8.11: Find_ratio_of_frequencies_of_vertical_and_horizontal_signals.sce"
		   ]
		  },
  {
"cell_type": "code",
	   "execution_count": null,
	   "metadata": {
	    "collapsed": true
	   },
	   "outputs": [],
"source": [
"//caption:Find ratio of frequencies of vertical and horizontal signals\n",
"//Ex8.11\n",
"clc\n",
"clear\n",
"close\n",
"P1=1//positive Y peaks in pattern\n",
"P2=1//positive X peaks in pattern\n",
"f1=P1/P2\n",
"disp(f1,'ratio of frequencies of vertical and horizontal signals=')\n",
"P3=1//positive Y peaks in pattern\n",
"P4=3//positive X peaks in pattern\n",
"f2=P3/P4\n",
"disp(f2,'ratio of frequencies of vertical and horizontal signals=')\n",
"P5=4.5//positive Y peaks in pattern\n",
"P6=1//positive X peaks in pattern\n",
"f3=P5/P6\n",
"disp(f3,'ratio of frequencies of vertical and horizontal signals=')"
   ]
   }
,
{
		   "cell_type": "markdown",
		   "metadata": {},
		   "source": [
			"## Example 8.12: find_phase_angle.sce"
		   ]
		  },
  {
"cell_type": "code",
	   "execution_count": null,
	   "metadata": {
	    "collapsed": true
	   },
	   "outputs": [],
"source": [
"//caption: find phase angle\n",
"//Ex8.12\n",
"clc\n",
"clear\n",
"close\n",
"Y1=4//vertical pattern\n",
"Y2=8//vertical pattern\n",
"o=Y1/Y2\n",
"Y=asind(o)\n",
"disp(Y,'phase angle(in degree)=')\n",
"Y3=4//vertical pattern\n",
"Y4=4//vertical pattern\n",
"oo=Y3/Y4\n",
"Ya=asind(oo)\n",
"disp(Ya,'phase angle(in degree)=')"
   ]
   }
,
{
		   "cell_type": "markdown",
		   "metadata": {},
		   "source": [
			"## Example 8.13: Find_bandwidth_of_CRO.sce"
		   ]
		  },
  {
"cell_type": "code",
	   "execution_count": null,
	   "metadata": {
	    "collapsed": true
	   },
	   "outputs": [],
"source": [
"//caption:Find bandwidth of CRO\n",
"//Ex8.13\n",
"clc\n",
"clear\n",
"close\n",
"tr=20*10^-9//rise time(in second)\n",
"B=0.35/tr\n",
"disp(B,'bandwidth of CRO(in Hz)=')"
   ]
   }
,
{
		   "cell_type": "markdown",
		   "metadata": {},
		   "source": [
			"## Example 8.1: find_deflection_sensitivity_of_CRO.sce"
		   ]
		  },
  {
"cell_type": "code",
	   "execution_count": null,
	   "metadata": {
	    "collapsed": true
	   },
	   "outputs": [],
"source": [
"//caption:find deflection sensitivity of CRO\n",
"//Ex8.1\n",
"clc\n",
"clear\n",
"close\n",
"l=20*10^-3//axial length of deflection plate(in meter)\n",
"L=0.2//distance from the centre of the deflection plates to the screen(in meter)\n",
"s=5*10^-3//spacing between two plates(in meter)\n",
"V=2500//accelerating voltage(in Volt)\n",
"S=(l*L)/(2*s*V)\n",
"disp(S,'deflection sensitivity of CRO(in m/V)=')"
   ]
   }
,
{
		   "cell_type": "markdown",
		   "metadata": {},
		   "source": [
			"## Example 8.2: Find_peak_to_peak_amplitude_of_the_signal_and_frequency_of_the_signal.sce"
		   ]
		  },
  {
"cell_type": "code",
	   "execution_count": null,
	   "metadata": {
	    "collapsed": true
	   },
	   "outputs": [],
"source": [
"//caption:Find peak to peak amplitude of the signal and frequency of the signal\n",
"//ex8.2\n",
"clc\n",
"clear\n",
"close\n",
"V=0.5//vertical attenuation(in V/division)\n",
"n=4//number of divisions of vertical axis\n",
"P=V*n\n",
"disp(P,'peak to peak amplitude of the signal(in V)=')\n",
"T=P*n\n",
"f=1/T\n",
"disp(f,'frequency of the signal(in Hz)=')"
   ]
   }
,
{
		   "cell_type": "markdown",
		   "metadata": {},
		   "source": [
			"## Example 8.3: Find_amplitude_of_the_waveform.sce"
		   ]
		  },
  {
"cell_type": "code",
	   "execution_count": null,
	   "metadata": {
	    "collapsed": true
	   },
	   "outputs": [],
"source": [
"//caption:Find amplitude of the waveform\n",
"//ex8.3\n",
"clc\n",
"clear\n",
"close\n",
"V=5//vertical attenuation(in V/division)\n",
"n=2.5//number of divisions/cycle\n",
"P=V*n\n",
"disp(P,'amplitude of the waveform(in V)=')"
   ]
   }
,
{
		   "cell_type": "markdown",
		   "metadata": {},
		   "source": [
			"## Example 8.4: Find_rms_value_of_signal_under_test.sce"
		   ]
		  },
  {
"cell_type": "code",
	   "execution_count": null,
	   "metadata": {
	    "collapsed": true
	   },
	   "outputs": [],
"source": [
"//caption:Find rms value of signal under test\n",
"//ex8.4\n",
"clc\n",
"clear\n",
"close\n",
"S=100//Y sensitivity(in mV/division)\n",
"n=5//number of divisions of vertical axis\n",
"P=S*n\n",
"Vrms=P/(2*sqrt(2))\n",
"disp(Vrms,'rms value of signal under test(in V)=')"
   ]
   }
,
{
		   "cell_type": "markdown",
		   "metadata": {},
		   "source": [
			"## Example 8.5: Find_value_of_current.sce"
		   ]
		  },
  {
"cell_type": "code",
	   "execution_count": null,
	   "metadata": {
	    "collapsed": true
	   },
	   "outputs": [],
"source": [
"//cption:Find value of current\n",
"//Ex8,5\n",
"clc\n",
"clear\n",
"close\n",
"V=10//voltage across resistor(in V)\n",
"R=1000//resistance(in ohm)\n",
"i=V/R\n",
"disp(i,'value of current(in A)=')"
   ]
   }
,
{
		   "cell_type": "markdown",
		   "metadata": {},
		   "source": [
			"## Example 8.6: Find_value_of_current.sce"
		   ]
		  },
  {
"cell_type": "code",
	   "execution_count": null,
	   "metadata": {
	    "collapsed": true
	   },
	   "outputs": [],
"source": [
"//caption:Find value of current\n",
"//ex8.6\n",
"clc\n",
"clear\n",
"close\n",
"S=100//Y sensitivity(in mV/division)\n",
"n=5//number of divisions of vertical axis\n",
"R=4.7*10^3\n",
"P=S*n\n",
"Vrms=P/(2*sqrt(2))\n",
"i=Vrms/R\n",
"disp(i,'value of current(in A)=')"
   ]
   }
,
{
		   "cell_type": "markdown",
		   "metadata": {},
		   "source": [
			"## Example 8.7: Find_peak_amplitude_and_frequency_of_the_signal.sce"
		   ]
		  },
  {
"cell_type": "code",
	   "execution_count": null,
	   "metadata": {
	    "collapsed": true
	   },
	   "outputs": [],
"source": [
"//caption:Find peak amplitude and frequency of the signal\n",
"//Ex8.7\n",
"clc\n",
"clear\n",
"close\n",
"V=0.5//vertical attenuator(in V/division)\n",
"Vo=10^-6//horizontal attenuator(in second/division)\n",
"n=6//number of divisions on vertical axis\n",
"N=5//number of division for complete one cycle\n",
"V1=V*n\n",
"Vp=V1/2\n",
"disp(Vp,'peak amplitude(in V)=')\n",
"T=Vo*N\n",
"f=1/T\n",
"disp(f,'frequency of the signal(in Hz)=')"
   ]
   }
,
{
		   "cell_type": "markdown",
		   "metadata": {},
		   "source": [
			"## Example 8.8: Find_frequency_of_horizontal_signal.sce"
		   ]
		  },
  {
"cell_type": "code",
	   "execution_count": null,
	   "metadata": {
	    "collapsed": true
	   },
	   "outputs": [],
"source": [
"//caption:Find frequency of horizontal signal\n",
"//Ex8.8\n",
"clc\n",
"clear\n",
"close\n",
"Y=2//number of Y peaks\n",
"X=1//number of X peaks\n",
"fv=2//vertical signal frequency(in kilo Hz)\n",
"fh=(X/Y)*fv\n",
"disp(fh,'frequency of horizontal signal(in kilo Hz)=')"
   ]
   }
,
{
		   "cell_type": "markdown",
		   "metadata": {},
		   "source": [
			"## Example 8.9: Find_frequency_of_the_waveform.sce"
		   ]
		  },
  {
"cell_type": "code",
	   "execution_count": null,
	   "metadata": {
	    "collapsed": true
	   },
	   "outputs": [],
"source": [
"//caption:Find frequency of the waveform\n",
"//Ex8.9\n",
"clc\n",
"clear\n",
"close\n",
"t=0.5//time base(in microecond/division)\n",
"d=2//divisions/cycle\n",
"T=t*d\n",
"F=1/T\n",
"disp(F,'frequency of the waveform(in MHz)=')"
   ]
   }
],
"metadata": {
		  "kernelspec": {
		   "display_name": "Scilab",
		   "language": "scilab",
		   "name": "scilab"
		  },
		  "language_info": {
		   "file_extension": ".sce",
		   "help_links": [
			{
			 "text": "MetaKernel Magics",
			 "url": "https://github.com/calysto/metakernel/blob/master/metakernel/magics/README.md"
			}
		   ],
		   "mimetype": "text/x-octave",
		   "name": "scilab",
		   "version": "0.7.1"
		  }
		 },
		 "nbformat": 4,
		 "nbformat_minor": 0
}
