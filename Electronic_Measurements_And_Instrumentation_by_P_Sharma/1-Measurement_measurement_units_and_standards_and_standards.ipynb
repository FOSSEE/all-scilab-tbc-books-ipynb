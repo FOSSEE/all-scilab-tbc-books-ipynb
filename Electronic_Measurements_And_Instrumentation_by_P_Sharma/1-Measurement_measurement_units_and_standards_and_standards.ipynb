{
"cells": [
 {
		   "cell_type": "markdown",
	   "metadata": {},
	   "source": [
       "# Chapter 1: Measurement measurement units and standards and standards"
	   ]
	},
{
		   "cell_type": "markdown",
		   "metadata": {},
		   "source": [
			"## Example 1.3: find_system_accuracy_system_precision.sce"
		   ]
		  },
  {
"cell_type": "code",
	   "execution_count": null,
	   "metadata": {
	    "collapsed": true
	   },
	   "outputs": [],
"source": [
"//caption:find (a)system accuracy(b)system precision\n",
"//Ex1.3\n",
"clc\n",
"clear\n",
"close\n",
"Tmin=100.3//minimum measured temperature at true value(in degree centigrate)\n",
"Tmax=100.5//maximum measured temperature at true value(in degree centigrate)\n",
"T1=100.4//measured temperature at true value(in degree centigrate)\n",
"T2=100.3//measured temperature at true value(in degree centigrate)\n",
"Tt=100//true value(in degree centigrate)\n",
"A=((Tmax-Tt)/Tt)*100\n",
"disp(A,'(a)system accuracy(in %)=')\n",
"M=(T1+Tmin+Tmax+T2)/4\n",
"Md=Tmax-M\n",
"disp(Md,'(b)system precision(in %)=')"
   ]
   }
,
{
		   "cell_type": "markdown",
		   "metadata": {},
		   "source": [
			"## Example 1.5: Find_resolution_of_the_meter.sce"
		   ]
		  },
  {
"cell_type": "code",
	   "execution_count": null,
	   "metadata": {
	    "collapsed": true
	   },
	   "outputs": [],
"source": [
"//caption:Find resolution of the meter\n",
"//Ex1.5\n",
"clc\n",
"clear\n",
"close\n",
"Rmax=100//maximum range of voltmeter(in V)\n",
"D=200//division on scale\n",
"Sd=0.5//divisions which can be read\n",
"V=Rmax/D\n",
"R=Sd*V\n",
"disp(R,'resolution of the meter is(in V)=')"
   ]
   }
],
"metadata": {
		  "kernelspec": {
		   "display_name": "Scilab",
		   "language": "scilab",
		   "name": "scilab"
		  },
		  "language_info": {
		   "file_extension": ".sce",
		   "help_links": [
			{
			 "text": "MetaKernel Magics",
			 "url": "https://github.com/calysto/metakernel/blob/master/metakernel/magics/README.md"
			}
		   ],
		   "mimetype": "text/x-octave",
		   "name": "scilab",
		   "version": "0.7.1"
		  }
		 },
		 "nbformat": 4,
		 "nbformat_minor": 0
}
