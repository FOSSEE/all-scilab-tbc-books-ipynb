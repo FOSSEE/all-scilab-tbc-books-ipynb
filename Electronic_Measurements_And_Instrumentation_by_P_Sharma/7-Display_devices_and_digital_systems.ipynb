{
"cells": [
 {
		   "cell_type": "markdown",
	   "metadata": {},
	   "source": [
       "# Chapter 7: Display devices and digital systems"
	   ]
	},
{
		   "cell_type": "markdown",
		   "metadata": {},
		   "source": [
			"## Example 7.1: convert_1101_into_decimal.sce"
		   ]
		  },
  {
"cell_type": "code",
	   "execution_count": null,
	   "metadata": {
	    "collapsed": true
	   },
	   "outputs": [],
"source": [
"//caption:convert 1101 into decimal\n",
"//Ex7.1\n",
"clc\n",
"clear\n",
"close\n",
"decimal=1*2^3+1*2^2+0*2^1+1*2^0\n",
"disp(decimal,'decimal conversion=')"
   ]
   }
,
{
		   "cell_type": "markdown",
		   "metadata": {},
		   "source": [
			"## Example 7.20: Find_input_frequency_applied_to_the_system.sce"
		   ]
		  },
  {
"cell_type": "code",
	   "execution_count": null,
	   "metadata": {
	    "collapsed": true
	   },
	   "outputs": [],
"source": [
"//caption:Find input frequency applied to the system\n",
"//Ex7.20\n",
"clc\n",
"clear\n",
"close\n",
"F=1//frequency of crystal oscillator(in kilo Hz)\n",
"p=10//pulses\n",
"f=F*p\n",
"disp(f,'input frequency applied to the system(in kilo Hz)=')"
   ]
   }
,
{
		   "cell_type": "markdown",
		   "metadata": {},
		   "source": [
			"## Example 7.21: find_frequency_of_the_system.sce"
		   ]
		  },
  {
"cell_type": "code",
	   "execution_count": null,
	   "metadata": {
	    "collapsed": true
	   },
	   "outputs": [],
"source": [
"//caption:find frequency of the system\n",
"//Ex7.21\n",
"clc\n",
"clear\n",
"close\n",
"n=45//reading of digital frequency counter\n",
"T=10*10^-3//gate time period(in second)\n",
"F=1/T\n",
"f=n*F\n",
"disp(f,'frequency of the system(in Hz)=')"
   ]
   }
,
{
		   "cell_type": "markdown",
		   "metadata": {},
		   "source": [
			"## Example 7.22: find_frequency_time_period_of_the_system.sce"
		   ]
		  },
  {
"cell_type": "code",
	   "execution_count": null,
	   "metadata": {
	    "collapsed": true
	   },
	   "outputs": [],
"source": [
"//caption:find frequency time period of the system\n",
"//Ex7.22\n",
"clc\n",
"clear\n",
"close\n",
"n=30//reading of digital frequency counter\n",
"F=10^6//gate time period(in second)\n",
"T=1/F\n",
"t=n*T\n",
"disp(t,'frequency time period of the system(in second)=')"
   ]
   }
,
{
		   "cell_type": "markdown",
		   "metadata": {},
		   "source": [
			"## Example 7.23: EX7_23.sce"
		   ]
		  },
  {
"cell_type": "code",
	   "execution_count": null,
	   "metadata": {
	    "collapsed": true
	   },
	   "outputs": [],
"source": [
"//caption:Find (a)resolution of the voltmeter(b)display of 0.6368 in voltmeter on the 10V range(c)display of 0.6368 in voltmeter on the 1V range\n",
"//Ex7.23\n",
"clc\n",
"clear\n",
"close\n",
"n=4//precise digit value of voltmeter\n",
"Va=10//range(in V)\n",
"Vb=1//range(in V)\n",
"R=1/10^n\n",
"disp(R,'(a)resolution of the voltmeter(in V)=')\n",
"Vo=Va*R\n",
"d=0.636\n",
"disp(d,'(b)display of 0.6368 in voltmeter on the 10V range(in V)=')\n",
"V=Vb*R\n",
"do=0.6368\n",
"disp(do,'(c)display of 0.6368 in voltmeter on the 1V range(in V)=')"
   ]
   }
,
{
		   "cell_type": "markdown",
		   "metadata": {},
		   "source": [
			"## Example 7.24: EX7_24.sce"
		   ]
		  },
  {
"cell_type": "code",
	   "execution_count": null,
	   "metadata": {
	    "collapsed": true
	   },
	   "outputs": [],
"source": [
"//caption:Find (a)resolution of the voltmeter(b)display of 16.58 in voltmeter on the 10V range(c)display of 0.7254 in voltmeter on the 1V and 10V range\n",
"//Ex7.24\n",
"clc\n",
"clear\n",
"close\n",
"n=4//precise digit value of voltmeter\n",
"Va=10//range(in V)\n",
"Vb=1//range(in V)\n",
"R=1/10^n\n",
"disp(R,'(a)resolution of the voltmeter(in V)=')\n",
"Vo=Va*R\n",
"d=16.58\n",
"disp(d,'(b)display of 16.58 in voltmeter on the 10V range(in V)=')\n",
"V=Vb*R\n",
"do=0.7254\n",
"disp(do,'(c)display of 0.7254 in voltmeter on the 1V range(in V)=')"
   ]
   }
,
{
		   "cell_type": "markdown",
		   "metadata": {},
		   "source": [
			"## Example 7.25: find_out_range_of_measured_reading.sce"
		   ]
		  },
  {
"cell_type": "code",
	   "execution_count": null,
	   "metadata": {
	    "collapsed": true
	   },
	   "outputs": [],
"source": [
"//caption:find out range of measured reading\n",
"//Ex7.25\n",
"clc\n",
"clear\n",
"close\n",
"V=50//reading of voltmeter(in V)\n",
"A=0.02//accracy magnitude\n",
"Vo=V*A\n",
"Rmin=V-Vo\n",
"Rmax=V+Vo\n",
"disp(Rmax,Rmin,'range(in V)=')"
   ]
   }
,
{
		   "cell_type": "markdown",
		   "metadata": {},
		   "source": [
			"## Example 7.2: convert_17_octal_into_decimal.sce"
		   ]
		  },
  {
"cell_type": "code",
	   "execution_count": null,
	   "metadata": {
	    "collapsed": true
	   },
	   "outputs": [],
"source": [
"//caption:convert 17 octal into decimal\n",
"//Ex7.2\n",
"clc\n",
"clear\n",
"close\n",
"decimal=1*8^1+7*8^0\n",
"disp(decimal,'decimal conversion=')"
   ]
   }
,
{
		   "cell_type": "markdown",
		   "metadata": {},
		   "source": [
			"## Example 7.3: convert_1E_hexadecimal_into_decimal.sce"
		   ]
		  },
  {
"cell_type": "code",
	   "execution_count": null,
	   "metadata": {
	    "collapsed": true
	   },
	   "outputs": [],
"source": [
"//caption:convert 1E hexadecimal into decimal\n",
"//Ex7.3\n",
"clc\n",
"clear\n",
"close\n",
"E=14\n",
"decimal=1*16^1+E*16^0\n",
"disp(decimal,'decimal conversion=')"
   ]
   }
],
"metadata": {
		  "kernelspec": {
		   "display_name": "Scilab",
		   "language": "scilab",
		   "name": "scilab"
		  },
		  "language_info": {
		   "file_extension": ".sce",
		   "help_links": [
			{
			 "text": "MetaKernel Magics",
			 "url": "https://github.com/calysto/metakernel/blob/master/metakernel/magics/README.md"
			}
		   ],
		   "mimetype": "text/x-octave",
		   "name": "scilab",
		   "version": "0.7.1"
		  }
		 },
		 "nbformat": 4,
		 "nbformat_minor": 0
}
