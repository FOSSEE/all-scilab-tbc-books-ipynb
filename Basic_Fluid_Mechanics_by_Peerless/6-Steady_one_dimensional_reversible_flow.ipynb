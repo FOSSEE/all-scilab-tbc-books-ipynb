{
"cells": [
 {
		   "cell_type": "markdown",
	   "metadata": {},
	   "source": [
       "# Chapter 6: Steady one dimensional reversible flow"
	   ]
	},
{
		   "cell_type": "markdown",
		   "metadata": {},
		   "source": [
			"## Example 6.10: ex_10.sce"
		   ]
		  },
  {
"cell_type": "code",
	   "execution_count": null,
	   "metadata": {
	    "collapsed": true
	   },
	   "outputs": [],
"source": [
"clc\n",
"//initialisation of variables\n",
"clear\n",
"Q= 400 //ft^3/sec\n",
"b1= 25 //ft\n",
"b2= 20 //ft\n",
"h1= 6 //ft\n",
"z1= 2.5 //ft\n",
"z2= 3.3 //ft\n",
"g= 32.2 //ft/sec^2\n",
"//CALCULATIONS\n",
"hc1= (Q^2/(g*b1^2))^(1/3)\n",
"hc2= (Q^2/(g*b2^2))^(1/3)\n",
"r= (hc1/hc2)*((h1/hc1)+0.5*(hc1/h1)^2)+((z1-z2)/hc2)\n",
"//RESULTS\n",
"printf ('hc1 = %.3f ft',hc1)\n",
"printf ('\n hc2 = %.3f ft',hc2)\n",
"printf ('\n Ratio = %.3f ',r)"
   ]
   }
,
{
		   "cell_type": "markdown",
		   "metadata": {},
		   "source": [
			"## Example 6.1: ex_1.sce"
		   ]
		  },
  {
"cell_type": "code",
	   "execution_count": null,
	   "metadata": {
	    "collapsed": true
	   },
	   "outputs": [],
"source": [
"clc\n",
"//initialisation of variables\n",
"clear\n",
"g= 32.2 //ft/sec^2\n",
"h= 4 //ft\n",
"d2= 0.16 //ft\n",
"d1= 0.3 //ft\n",
"dp= 12.6 //lbf/in^2\n",
"//CALCULATIONS\n",
"Q= (%pi/4)*sqrt(2*g*dp*h/((1/d2^4)-(1/d1^4)))\n",
"//RESULTS\n",
"printf ('Volumetric flow rate = %.2f ft^3/sec',Q)"
   ]
   }
,
{
		   "cell_type": "markdown",
		   "metadata": {},
		   "source": [
			"## Example 6.2: ex_2.sce"
		   ]
		  },
  {
"cell_type": "code",
	   "execution_count": null,
	   "metadata": {
	    "collapsed": true
	   },
	   "outputs": [],
"source": [
"clc\n",
"//initialisation of variables\n",
"clear\n",
"w= 0.0765 //lbm/ft^3\n",
"v1= 120 //ft/sec\n",
"g= 32.2 //ft/sec^2\n",
"//CALCULATIONS\n",
"dp= w*v1^2/(2*2*g)\n",
"//RESULTS\n",
"printf ('Difference in pressure= %.2f lbf/ft^2',dp)"
   ]
   }
,
{
		   "cell_type": "markdown",
		   "metadata": {},
		   "source": [
			"## Example 6.3: ex_3.sce"
		   ]
		  },
  {
"cell_type": "code",
	   "execution_count": null,
	   "metadata": {
	    "collapsed": true
	   },
	   "outputs": [],
"source": [
"clc\n",
"//initialisation of variables\n",
"clear\n",
"r=1.4\n",
"g= 32.2 //ft/sec^2\n",
"R= 53.3 //lbf ft/lbm\n",
"T1= 760 //R\n",
"p2= 2 //lbf/in^2\n",
"p1= 3 //lbf/in^2\n",
"//CALCULATIONS\n",
"V2= sqrt(2*r*R*g*T1*(1-(p2/p1)^((r-1)/r))/(r-1))\n",
"//RESULTS\n",
"printf ('Velocity in working section = %.f ft/sec',V2)"
   ]
   }
,
{
		   "cell_type": "markdown",
		   "metadata": {},
		   "source": [
			"## Example 6.4: ex_4.sce"
		   ]
		  },
  {
"cell_type": "code",
	   "execution_count": null,
	   "metadata": {
	    "collapsed": true
	   },
	   "outputs": [],
"source": [
"clc\n",
"//initialisation of variables\n",
"clear\n",
"r= 1.4\n",
"g= 32.2 //ft/sec^2\n",
"R= 53.3 //lbf ft/lbm\n",
"T= 32 //C\n",
"T1= 2000 //R\n",
"r1= 1.32\n",
"p= 1440 //lbf/in^2\n",
"v1= 1.2306 //ft^3/lbm\n",
"v2= 1.2546 //ft^3/lbm\n",
"bm= 3.13*10^5 //lbf/in^2\n",
"w= 62.4 //lbf/ft^3\n",
"//CALCULATIONS\n",
"a1= sqrt(r*R*(460+T)*g)\n",
"a2= sqrt(r1*R*T1*g)\n",
"r2= p/(v1-v2)\n",
"a3= sqrt(-g*(v1+v2)^2*0.5^2*r2)\n",
"a4= sqrt(bm*144*g/w)\n",
"//RESULTS\n",
"printf ('Acoustic veloctiy = %.f ft/sec',a1)\n",
"printf ('\n Acoustic veloctiy = %.f ft/sec',a2)\n",
"printf ('\n Acoustic veloctiy = %.f ft/sec',a3)\n",
"printf ('\n Acoustic veloctiy = %.f ft/sec',a4)"
   ]
   }
,
{
		   "cell_type": "markdown",
		   "metadata": {},
		   "source": [
			"## Example 6.5: ex_5.sce"
		   ]
		  },
  {
"cell_type": "code",
	   "execution_count": null,
	   "metadata": {
	    "collapsed": true
	   },
	   "outputs": [],
"source": [
"clc\n",
"//initialisation of variables\n",
"clear\n",
"r= 1.4\n",
"ma2= 2.5 //ft/sec\n",
"g= 32.17 //ft/sec^2\n",
"p2= 1 //lbf/in^2\n",
"ps= 17.08 //lbf/in^2\n",
"ps2= 75 //lbf/in^2\n",
"Ts= 720 //R\n",
"R= 53.3 //lbf ft/lbm\n",
"A= 4 //ft^2\n",
"ps3= 0.4 //lbf/in^2\n",
"A2= 0.685 //ft^2\n",
"P= 5 //per cent\n",
"//CALCULATIONS\n",
"R1= (1+0.5*(r-1)*ma2^2)^(r/(r-1))\n",
"R2= (2*(r/(r-1))*(p2/ps)^(2/(r))*(1-(p2/ps)^((r-1)/r)))^0.5\n",
"m2= R2*ps2*144*(g/(R*Ts))^0.5*0.1\n",
"m= m2*A\n",
"At= A*R2/A2\n",
"m1= m*(1-(P/100))\n",
"mrp= (1-(P/100))*R2\n",
"//RESULTS\n",
"printf ('Mass flow rate= %.1f lbm/sec',m)\n",
"printf ('\n Area of throat= %.3f ft^2',At)\n",
"printf ('\n Mass flow rate= %.1f lbm/sec',m1)\n",
"printf ('\n Mass flow rate parameter = %.4f',mrp)"
   ]
   }
,
{
		   "cell_type": "markdown",
		   "metadata": {},
		   "source": [
			"## Example 6.7: ex_7.sce"
		   ]
		  },
  {
"cell_type": "code",
	   "execution_count": null,
	   "metadata": {
	    "collapsed": true
	   },
	   "outputs": [],
"source": [
"clc\n",
"//initialisation of variables\n",
"clear\n",
"r1= 10 //ft\n",
"r2= 0.2 //miles\n",
"w= 0.0765 //lbm/ft^2\n",
"g= 32.2 //ft/sec^2\n",
"V1= 1 //ft/sec\n",
"//CALCULATIONS\n",
"k= r2*5280*V1 \n",
"dp= w*k^2*10*((1/r1)^2-(1/(5280*r2))^2)/(2*g)\n",
"//RESULTS\n",
"printf ('k = %.f ft^2/sec',k)\n",
"printf ('\n pressure difference = %.1f lbf/ft^2',dp)"
   ]
   }
,
{
		   "cell_type": "markdown",
		   "metadata": {},
		   "source": [
			"## Example 6.9: ex_9.sce"
		   ]
		  },
  {
"cell_type": "code",
	   "execution_count": null,
	   "metadata": {
	    "collapsed": true
	   },
	   "outputs": [],
"source": [
"clc\n",
"//initialisation of variables\n",
"clear\n",
"w= 12 //ft\n",
"q= 300 //ft^3/sec\n",
"h= 10 //ft\n",
"g= 32.2 //ft/sec^2\n",
"R= 2.6\n",
"//CALCULATIONS\n",
"hc= ((q/12)^2/g)^(1/3)\n",
"r= h/hc\n",
"h1= hc*(((h/hc)+0.5*(hc/h)^2)-0.5*R^2)\n",
"//RESULTS\n",
"printf ('hc = %.2f ft',hc)\n",
"printf ('\n stream depth = %.2f ft',h1)\n",
""
   ]
   }
],
"metadata": {
		  "kernelspec": {
		   "display_name": "Scilab",
		   "language": "scilab",
		   "name": "scilab"
		  },
		  "language_info": {
		   "file_extension": ".sce",
		   "help_links": [
			{
			 "text": "MetaKernel Magics",
			 "url": "https://github.com/calysto/metakernel/blob/master/metakernel/magics/README.md"
			}
		   ],
		   "mimetype": "text/x-octave",
		   "name": "scilab",
		   "version": "0.7.1"
		  }
		 },
		 "nbformat": 4,
		 "nbformat_minor": 0
}
