{
"cells": [
 {
		   "cell_type": "markdown",
	   "metadata": {},
	   "source": [
       "# Chapter 12: TURBOMACHINES"
	   ]
	},
{
		   "cell_type": "markdown",
		   "metadata": {},
		   "source": [
			"## Example 12.1: ex_1.sce"
		   ]
		  },
  {
"cell_type": "code",
	   "execution_count": null,
	   "metadata": {
	    "collapsed": true
	   },
	   "outputs": [],
"source": [
"clc\n",
"//initialisation of variables\n",
"clear\n",
"d= 0.0764 //lbm/ft^3\n",
"u= 3.74*10^-7 //lbf sec/ft^2\n",
"D= 15 //in\n",
"g= 32.2 //ft/sec^2\n",
"p= 14.7 //lb/in^2\n",
"r1= [0.02 0.04 0.06 0.08 0.1 1.15]\n",
"r2= [0.0338 0.0267 0.0199 0.0159 0.0132 0.0100]\n",
"r3= [0.46 0.92 1.38 1.84 2.3 2.64]\n",
"r4= [2.97 2.35 1.75 1.4 1.16 0.88]\n",
"r5= [0.0206 0.0163 0.0121 0.0097 0.0081 0.0061]\n",
"//CALCULATIONS\n",
"re= (d/u)*(p*100*2*%pi/60)*(D/12)^2/g\n",
"//RESULTS\n",
"printf ('Reynolds Number = %.2e ',re) \n",
"xtitle('','m lbm/sec', 'dPs lbf/ft^2') \n",
"\n",
"disp(r1)\n",
"disp(r2)\n",
"disp(r3)\n",
"disp(r4)\n",
"disp(r5)\n",
"plot(r3,r5)"
   ]
   }
,
{
		   "cell_type": "markdown",
		   "metadata": {},
		   "source": [
			"## Example 12.2: ex_2.sce"
		   ]
		  },
  {
"cell_type": "code",
	   "execution_count": null,
	   "metadata": {
	    "collapsed": true
	   },
	   "outputs": [],
"source": [
"clc\n",
"//initialisation of variables\n",
"clear\n",
"psif= 10.2 //lbf/in^2\n",
"usit= 3.8*10^-7 //lbf sec/ft^2\n",
"usif= 3.52*10^-7 //lbf sec/ft^2\n",
"Tsit= 530 //R\n",
"Tsif= 480 //R\n",
"wf= 15000 //rev/min\n",
"//CALCULATIONS\n",
"Psit= psif*usit*sqrt(Tsit/Tsif)/usif\n",
"wt= wf*sqrt(Tsit/Tsif)\n",
"//RESULTS\n",
"printf ('Pressure in the test cell = %.1f lbf/in^2',Psit) \n",
"printf ('\n Compressor speed = %.f rev.min',wt) "
   ]
   }
,
{
		   "cell_type": "markdown",
		   "metadata": {},
		   "source": [
			"## Example 12.3: ex_3.sce"
		   ]
		  },
  {
"cell_type": "code",
	   "execution_count": null,
	   "metadata": {
	    "collapsed": true
	   },
	   "outputs": [],
"source": [
"clc\n",
"//initialisation of variables\n",
"clear\n",
"w= 62.3 //lbf/ft^3\n",
"d= 0.375 //in\n",
"ro= 0.75 //ft\n",
"l= 1.25 //ft\n",
"b= 120 //degrees\n",
"do= 0.25 //in\n",
"p= 750 //lbf/in^2\n",
"g= 32.1 //ft/sec^2\n",
"f= 0.03\n",
"f1= 0.9\n",
"f2= 0.3\n",
"w1= 60 //rad/sec\n",
"//CALCULATIONS\n",
"Q= sqrt(((p/w)+((60*ro)^2/(2*g))+do)*%pi^2*g*(d/12)^4/((d/do)^4-1+(l*f/(d/12))+f1+f2))*0.353\n",
"Vwo= w1*ro+(4*Q/(%pi*(do/12)^2))*cosd(b)\n",
"C= w*Q*Vwo*ro/g\n",
"//RESULTS\n",
"printf ('Flow Rate = %.4f ft^3/sec',Q) \n",
"printf ('\n Vwo = %.2f ft/sec',Vwo) \n",
"printf ('\n Driving Torque = %.3f lbf ft',C) "
   ]
   }
,
{
		   "cell_type": "markdown",
		   "metadata": {},
		   "source": [
			"## Example 12.4: ex_4.sce"
		   ]
		  },
  {
"cell_type": "code",
	   "execution_count": null,
	   "metadata": {
	    "collapsed": true
	   },
	   "outputs": [],
"source": [
"clc\n",
"//initialisation of variables\n",
"clear\n",
"W= 38 //rev/sec\n",
"w= 62.4 //lbf/ft^3\n",
"m= 2000 //lbm/sec\n",
"g= 32.2 //ft/sec^2\n",
"ps= 5000 //lbf/ft^2\n",
"S3= 4.6\n",
"e= 0.91\n",
"//CALCULATIONS\n",
"S1= W*(w*m^2/(g*ps)^3)^0.25\n",
"D= S3*(m^2/(w*g*ps))^0.25\n",
"//RESULTS\n",
"printf ('S1 = %.3f',S1)  \n",
"printf ('\n Diameter = %.2f ft',D)  \n",
"printf ('\n efficiency = %.2f ',e)"
   ]
   }
,
{
		   "cell_type": "markdown",
		   "metadata": {},
		   "source": [
			"## Example 12.5: ex_5.sce"
		   ]
		  },
  {
"cell_type": "code",
	   "execution_count": null,
	   "metadata": {
	    "collapsed": true
	   },
	   "outputs": [],
"source": [
"clc\n",
"//initialisation of variables\n",
"clear\n",
"d= 6 //in\n",
"f= 0.25\n",
"l= 1200 //ft\n",
"p= 55 //lbm/ft^3\n",
"w= 740 //rev/min\n",
"g= 32.2 //ft/sec^2\n",
"n= 0.87\n",
"d1= 1.78 //ft\n",
"//CALCULATIONS\n",
"D= (0.13*%pi^2*(d/12)^5/(8*f*l*0.012^2))^0.25*d1\n",
"m= 0.012*p*(w*2*%pi/60)*D^3\n",
"dps= 0.13*p*(w*2*%pi*D/60)^2/g\n",
"P= m*10*dps/(p*n)\n",
"//RESULTS\n",
"printf ('Diameter = %.2f ft',D) \n",
"printf ('\n Mass flow rate = %.1f lbm/sec',m) \n",
"printf ('\n pressure rise = %.1f lbf/ft^2',dps)\n",
"printf ('\n shaft power = %.2e ft lbf/sec',P)"
   ]
   }
],
"metadata": {
		  "kernelspec": {
		   "display_name": "Scilab",
		   "language": "scilab",
		   "name": "scilab"
		  },
		  "language_info": {
		   "file_extension": ".sce",
		   "help_links": [
			{
			 "text": "MetaKernel Magics",
			 "url": "https://github.com/calysto/metakernel/blob/master/metakernel/magics/README.md"
			}
		   ],
		   "mimetype": "text/x-octave",
		   "name": "scilab",
		   "version": "0.7.1"
		  }
		 },
		 "nbformat": 4,
		 "nbformat_minor": 0
}
