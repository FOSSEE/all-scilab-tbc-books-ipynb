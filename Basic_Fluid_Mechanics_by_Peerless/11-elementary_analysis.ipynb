{
"cells": [
 {
		   "cell_type": "markdown",
	   "metadata": {},
	   "source": [
       "# Chapter 11: elementary analysis"
	   ]
	},
{
		   "cell_type": "markdown",
		   "metadata": {},
		   "source": [
			"## Example 11.1: ex_1.sce"
		   ]
		  },
  {
"cell_type": "code",
	   "execution_count": null,
	   "metadata": {
	    "collapsed": true
	   },
	   "outputs": [],
"source": [
"clc\n",
"//initialisation of variables\n",
"clear\n",
"rt= 1.3 //ft\n",
"rr= 0.6 //ft\n",
"Q= 75 //ft^3\n",
"rm= 0.95\n",
"w1= 40 //rev/sec\n",
"bim= 153 //degrees\n",
"bom= 147 //degrees\n",
"w= 62.4 //lb/ft^3\n",
"g= 32.2 //ft/sec^2\n",
"//CALCULATIONS\n",
"A= %pi*(rt^2-rr^2)\n",
"Va= Q/A\n",
"Vbm= rm*w1\n",
"a= acotd(-Vbm/Va)\n",
"im= a-bim\n",
"vwm= Vbm+Va*cotd(bom)\n",
"dvwm= rm*vwm\n",
"C= w*Q*dvwm/g\n",
"Cw= C*w1\n",
"dp= Cw/Q\n",
"//RESULTS\n",
"printf ('Incidence = %.1f degrees',im) \n",
"printf ('\n Oulet velocity = %.2f ft/sec',vwm)\n",
"printf ('\n Change of whirl at the mean radius = %.2f ft^2/sec',dvwm)\n",
"\n",
"printf ('\n Torque = %.f lbf/ft',C)\n",
"printf ('\n Rate of working = %.f ft lbf/sec',Cw)\n",
"printf ('\n Workdone by the rotor = %.f lbf/ft^2',dp)"
   ]
   }
,
{
		   "cell_type": "markdown",
		   "metadata": {},
		   "source": [
			"## Example 11.2: ex_2.sce"
		   ]
		  },
  {
"cell_type": "code",
	   "execution_count": null,
	   "metadata": {
	    "collapsed": true
	   },
	   "outputs": [],
"source": [
"clc\n",
"//initialisation of variables\n",
"clear\n",
"vbm= 38 //ft/sec\n",
"va= 17.94 //ft/sec\n",
"a= 147.5 //degrees\n",
"vwm= 10.37 //ft/sec\n",
"C= 1430 //lbf/ft\n",
"P= 763 //lbf/ft^2\n",
"//CALCULATIONS\n",
"vwm1= vbm+va*cotd(a)\n",
"p= (vwm-vwm1)/vwm\n",
"C1= C*(1-p)\n",
"P1= P*(1-p)\n",
"//RESULTS\n",
"printf ('Oulet Velocity = %.2f ft/sec',vwm1) \n",
"printf ('\n Torque = %.f lbf/ft',C1)\n",
"printf ('\n Workdone by the rotor = %.f lbf/ft^2',P1)"
   ]
   }
,
{
		   "cell_type": "markdown",
		   "metadata": {},
		   "source": [
			"## Example 11.3: ex_3.sce"
		   ]
		  },
  {
"cell_type": "code",
	   "execution_count": null,
	   "metadata": {
	    "collapsed": true
	   },
	   "outputs": [],
"source": [
"clc\n",
"//initialisation of variables\n",
"clear\n",
"a= 154 //degrees\n",
"vbm= 38 //ft/sec\n",
"bom= 147 //degrees\n",
"vwm= -7.78 //ft/sec\n",
"w= 62.4 //lbf/ft^3\n",
"g= 32.2 //ft/sec^2\n",
"vb= 38 //ft/sec\n",
"A= 4.18 //ft^2\n",
"e= 0.95\n",
"//CALCULATIONS\n",
"vat= (vwm-vb)*tand(bom)\n",
"Q= vat*A\n",
"a1= acotd(-vbm/vat)\n",
"imt= a1-a\n",
"C= w*Q*vwm*e/g\n",
"//RESULTS\n",
"printf ('Flow rate = %.1f ft^3',Q)\n",
"printf ('\n Incidence angle= %.f degrees',imt)\n",
"printf ('\n Torque= %.f lbf ft',C)"
   ]
   }
,
{
		   "cell_type": "markdown",
		   "metadata": {},
		   "source": [
			"## Example 11.4: ex_4.sce"
		   ]
		  },
  {
"cell_type": "code",
	   "execution_count": null,
	   "metadata": {
	    "collapsed": true
	   },
	   "outputs": [],
"source": [
"clc\n",
"//initialisation of variables\n",
"clear\n",
"rt= 0.5 //ft\n",
"rr= 0.16 //ft\n",
"dv1= 88.3 //ft/sec\n",
"b= 150 //degrees\n",
"r= [0.16 0.3 0.5]\n",
"vw= [2.5 5 7.5]\n",
"vb= [46.6 88.3 132.5]\n",
"vrb= [44.16 88.3 132.5]\n",
"v1= [-1.154 -0.385]\n",
"//CALCULATIONS\n",
"A= %pi*(rt^2-rr^2)\n",
"Va= -dv1*tand(b)\n",
"Q= Va*A\n",
"a= atand(v1)+180\n",
"i= b-a\n",
"//RESULTS\n",
"printf ('Velocity = %.2f ft/sec',Va)\n",
"printf ('\n Flow rate = %.1f ft^3',Q)\n",
"disp(v1)\n",
"disp(a)\n",
"disp(i)"
   ]
   }
,
{
		   "cell_type": "markdown",
		   "metadata": {},
		   "source": [
			"## Example 11.5: ex_5.sce"
		   ]
		  },
  {
"cell_type": "code",
	   "execution_count": null,
	   "metadata": {
	    "collapsed": true
	   },
	   "outputs": [],
"source": [
"clc\n",
"//initialisation of variables\n",
"clear\n",
"rt= 0.5 //ft\n",
"rr= 0.16 //ft\n",
"dv1= 88.3 //ft/sec\n",
"b= 150 //degrees\n",
"a= 5 //degrees\n",
"v1= [-0.933 -0.311]\n",
"i= [1.0 5.0 6.7]\n",
"//CALCULATIONS\n",
"b1= b+a\n",
"A= %pi*(rt^2-rr^2)\n",
"Va= -dv1*tand(b1)\n",
"Q= Va*A\n",
"a1= atand(v1)+180\n",
"\n",
"//RESULTS\n",
"printf ('Velocity = %.2f ft/sec',Va)\n",
"printf ('\n Flow rate = %.1f ft^3/sec',Q)\n",
"\n",
"disp(v1)\n",
"disp(a1)\n",
"disp(i)"
   ]
   }
,
{
		   "cell_type": "markdown",
		   "metadata": {},
		   "source": [
			"## Example 11.6: ex_6.sce"
		   ]
		  },
  {
"cell_type": "code",
	   "execution_count": null,
	   "metadata": {
	    "collapsed": true
	   },
	   "outputs": [],
"source": [
"clc\n",
"//initialisation of variables\n",
"clear\n",
"r= 1 //in\n",
"b= 0.75 //in\n",
"w= 180 //rev/sec\n",
"B= 120 //degrees\n",
"Bo= 150 //degrees\n",
"ro= 3 //ft\n",
"bo= 0.5 //ft\n",
"Vbo= 180 //ft/sec\n",
"w1= 62.4 //lbf/ft^3\n",
"g= 32.2 //ft/sec^2\n",
"//CALCULATIONS\n",
"Q= -2*%pi*(r/12)^2*(b/12)*w*tand(B)\n",
"Vfo= Q/(2*%pi*(ro/12)*(bo/12))\n",
"Vwo= Vbo*(ro/12)+Vfo*cotd(Bo)\n",
"C= w1*Q*Vwo*(ro/12)/g\n",
"dp= w1*Vwo*w*(ro/12)/g\n",
"ari= atand(-Q*0.8/(2*%pi*(r/12)^2*(b/12)*w))+180\n",
"i1= ari-B\n",
"//RESULTS\n",
"printf ('Flow rate = %.2f ft^3/sec',Q)\n",
"printf ('\n radial velocity= %.2f ft/sec',Vfo)\n",
"printf ('\n outlet whirl velocity= %.2f ft/sec',Vwo)\n",
"printf ('\n Torque= %.2f lbf ft',C)\n",
"printf ('\n Stagnant pressure = %.f lbf/ft^2',dp)\n",
"printf ('\n Incidence angle = %.1f degrees',i1)"
   ]
   }
,
{
		   "cell_type": "markdown",
		   "metadata": {},
		   "source": [
			"## Example 11.7: ex_7.sce"
		   ]
		  },
  {
"cell_type": "code",
	   "execution_count": null,
	   "metadata": {
	    "collapsed": true
	   },
	   "outputs": [],
"source": [
"clc\n",
"//initialisation of variables\n",
"clear\n",
"r= 1.4\n",
"Mai= 0.5 //ft/sec\n",
"T= 582 //R\n",
"psi= 3040 //lbf/in^2\n",
"R= 53.3 //ft lbf/lbm\n",
"g= 32.2 //ft/sec^2\n",
"Vwi= 300 //ft/sec\n",
"m= 35 //lb/sec\n",
"rm= 0.7 //ft\n",
"rp= 4.25\n",
"w= 1200 //rev/sec\n",
"cp= 0.24\n",
"J= 778 //lb\n",
"//CALCULATIONS\n",
"tr= 1+0.5*(r-1)*Mai^2\n",
"Ti= T/tr\n",
"pr= tr^(r/(r-1))\n",
"pi= psi/pr\n",
"ai= pi/(R*Ti)\n",
"Vi= Mai*(r*R*g*Ti)^0.5\n",
"Vai= sqrt(Vi^2-Vwi^2)\n",
"h= m/(2*%pi*ai*rm*Vai)\n",
"pr1= rp^(1/12)\n",
"Vwo= Vwi+(pr1^((r-1)/r)-1)*(cp*J*g*T/(rm*w))\n",
"BO= acotd((Vwo-w*rm)/Vai)\n",
"//RESULTS\n",
"printf ('Absolute air velocity = %.f ft/sec',Vi)\n",
"printf ('\n air velocity = %.f ft/sec',Vai)\n",
"printf ('\n Blade height = %.3f ft',h)\n",
"printf ('\n velocity = %.f ft/sec',Vwo)\n",
"printf ('\n outlet balde angle = %.1f degrees',BO)"
   ]
   }
],
"metadata": {
		  "kernelspec": {
		   "display_name": "Scilab",
		   "language": "scilab",
		   "name": "scilab"
		  },
		  "language_info": {
		   "file_extension": ".sce",
		   "help_links": [
			{
			 "text": "MetaKernel Magics",
			 "url": "https://github.com/calysto/metakernel/blob/master/metakernel/magics/README.md"
			}
		   ],
		   "mimetype": "text/x-octave",
		   "name": "scilab",
		   "version": "0.7.1"
		  }
		 },
		 "nbformat": 4,
		 "nbformat_minor": 0
}
