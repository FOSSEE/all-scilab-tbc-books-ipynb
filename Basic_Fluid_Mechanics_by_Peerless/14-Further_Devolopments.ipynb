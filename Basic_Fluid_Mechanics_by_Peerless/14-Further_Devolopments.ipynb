{
"cells": [
 {
		   "cell_type": "markdown",
	   "metadata": {},
	   "source": [
       "# Chapter 14: Further Devolopments"
	   ]
	},
{
		   "cell_type": "markdown",
		   "metadata": {},
		   "source": [
			"## Example 14.1: ex_1.sce"
		   ]
		  },
  {
"cell_type": "code",
	   "execution_count": null,
	   "metadata": {
	    "collapsed": true
	   },
	   "outputs": [],
"source": [
"clc\n",
"//initialisation of variables\n",
"clear\n",
"a= 60.5\n",
"Q= 0.2 //ft^3/sec\n",
"d= 3 //in\n",
"u= 0.0325\n",
"g= 32.2 //ft/sec^2\n",
"T= [50.0 60.0 70.0 80.0 90.0 100.0]\n",
"Ep= [294.5 188.6 113.2 60.4 37.7 24.5]\n",
"Eh= [0 69.9 139.8 209.7 279.5 349.4]\n",
"Et= [295 258 253 270 317 374]\n",
"//CALCULATIONS\n",
"re= a*4*Q/(%pi*(d/12)*u*g)\n",
"//RESULTS\n",
"printf ('Reynolds Number = %.1f ',re)\n",
"disp(T)\n",
"disp(Ep)\n",
"disp(Eh)\n",
"disp(Et)\n",
"plot(T,Ep)\n",
"plot(T,Eh)\n",
"plot(T,Et)\n",
"\n",
"xtitle('','T (F)', 'Eh,Ep,Eh&Ep (kW)')\n",
"\n",
""
   ]
   }
,
{
		   "cell_type": "markdown",
		   "metadata": {},
		   "source": [
			"## Example 14.2: ex_2.sce"
		   ]
		  },
  {
"cell_type": "code",
	   "execution_count": null,
	   "metadata": {
	    "collapsed": true
	   },
	   "outputs": [],
"source": [
"clc\n",
"//initialisation of variables\n",
"clear\n",
"wcb= 2 //ton\n",
"wc= 100 //ton\n",
"wa= 6.5 //ton\n",
"wca= 20 \n",
"r= 0.8\n",
"r1= 1.2\n",
"//CALCULATIONS\n",
"wca1= wc/wa\n",
"wca2= wcb*(wca1/wca)^1.5\n",
"Wca= wcb*r^(9/4)*(1/r1)^(9/4)*(wca1/wca)^1.5\n",
"//RESULTS\n",
"printf ('(Wc/W)a = %.2f ',wca1)\n",
"printf ('\n Wc,a = %.2f ton',wca2)\n",
"printf ('\n Wc,a = %.2f ton',Wca)"
   ]
   }
],
"metadata": {
		  "kernelspec": {
		   "display_name": "Scilab",
		   "language": "scilab",
		   "name": "scilab"
		  },
		  "language_info": {
		   "file_extension": ".sce",
		   "help_links": [
			{
			 "text": "MetaKernel Magics",
			 "url": "https://github.com/calysto/metakernel/blob/master/metakernel/magics/README.md"
			}
		   ],
		   "mimetype": "text/x-octave",
		   "name": "scilab",
		   "version": "0.7.1"
		  }
		 },
		 "nbformat": 4,
		 "nbformat_minor": 0
}
