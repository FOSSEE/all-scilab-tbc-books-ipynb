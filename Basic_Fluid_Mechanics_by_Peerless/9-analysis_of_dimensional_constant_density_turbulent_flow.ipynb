{
"cells": [
 {
		   "cell_type": "markdown",
	   "metadata": {},
	   "source": [
       "# Chapter 9: analysis of dimensional constant density turbulent flow"
	   ]
	},
{
		   "cell_type": "markdown",
		   "metadata": {},
		   "source": [
			"## Example 9.1: ex_1.sce"
		   ]
		  },
  {
"cell_type": "code",
	   "execution_count": null,
	   "metadata": {
	    "collapsed": true
	   },
	   "outputs": [],
"source": [
"clc\n",
"//initialisation of variables\n",
"clear\n",
"n=7\n",
"w= 62.4 //lbf/ft^3\n",
"v= 6 //ft/sec\n",
"d= 2 //in\n",
"u= 2.34*10^-5 //lbf/ft^3\n",
"f= 0.0178\n",
"g= 32.2 //ft/sec^2\n",
"R= 1.224\n",
"R1= 8 //ft/sec\n",
"//CALCULATIONS\n",
"r= (n+1)*(2*n+1)/(2*n^2)\n",
"Red= w*v*(d/12)/(u*g)\n",
"C= (d/Red)^(1/7)*R*(R1/f)^(4/7)\n",
"V = v*sqrt(f/8)\n",
"//RESULTS\n",
"printf ('Vmax/V = %.3f',r)\n",
"printf ('\n Red = %.2e',Red)\n",
"printf ('\n C = %.2f',C)\n",
"printf ('\n Velocity = %.3f ft/sec',V)"
   ]
   }
,
{
		   "cell_type": "markdown",
		   "metadata": {},
		   "source": [
			"## Example 9.3: ex_3.sce"
		   ]
		  },
  {
"cell_type": "code",
	   "execution_count": null,
	   "metadata": {
	    "collapsed": true
	   },
	   "outputs": [],
"source": [
"clc\n",
"//initialisation of variables\n",
"clear\n",
"Re= 5\n",
"g= 32.2 //ft/sec^2\n",
"u= 2.34*10^-5 //lbf/ft sec\n",
"w= 62.4 //lbf/ft^3\n",
"v= 0.283 //ft/sec\n",
"Re1= 70\n",
"v1= 0.0374 //ft/sec\n",
"//CALCULATIONS\n",
"y= Re*u*g/(w*v)\n",
"y1= Re1*u*g/(w*v)\n",
"y2= Re*u*g/(w*v1)\n",
"y3= Re1*u*g/(w*v1)\n",
"//RESULTS\n",
"printf ('y = %.6f ft',y)\n",
"printf ('\n y = %.5f ft',y1)\n",
"printf ('\n y = %.5f ft',y2)\n",
"printf ('\n y = %.4f ft',y3)"
   ]
   }
],
"metadata": {
		  "kernelspec": {
		   "display_name": "Scilab",
		   "language": "scilab",
		   "name": "scilab"
		  },
		  "language_info": {
		   "file_extension": ".sce",
		   "help_links": [
			{
			 "text": "MetaKernel Magics",
			 "url": "https://github.com/calysto/metakernel/blob/master/metakernel/magics/README.md"
			}
		   ],
		   "mimetype": "text/x-octave",
		   "name": "scilab",
		   "version": "0.7.1"
		  }
		 },
		 "nbformat": 4,
		 "nbformat_minor": 0
}
