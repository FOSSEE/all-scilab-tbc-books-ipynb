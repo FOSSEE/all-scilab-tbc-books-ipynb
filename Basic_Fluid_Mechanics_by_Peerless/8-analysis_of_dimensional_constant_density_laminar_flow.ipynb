{
"cells": [
 {
		   "cell_type": "markdown",
	   "metadata": {},
	   "source": [
       "# Chapter 8: analysis of dimensional constant density laminar flow"
	   ]
	},
{
		   "cell_type": "markdown",
		   "metadata": {},
		   "source": [
			"## Example 8.2: ex_2.sce"
		   ]
		  },
  {
"cell_type": "code",
	   "execution_count": null,
	   "metadata": {
	    "collapsed": true
	   },
	   "outputs": [],
"source": [
"clc\n",
"//initialisation of variables\n",
"clear\n",
"w= 78.9 //lbf.ft^3\n",
"d= 0.01 //in\n",
"u= 8.67*10^-9 //lbf/ hr ft^2\n",
"h= 18 //ft\n",
"l= 10 //ft\n",
"//CALCULATIONS\n",
"Q= %pi*w*(d/12)^4*(h+l)/(l*128*u)\n",
"//RESULTS\n",
"printf ('Flow rate = %.2e ft^3/hr',Q)"
   ]
   }
,
{
		   "cell_type": "markdown",
		   "metadata": {},
		   "source": [
			"## Example 8.3: ex_3.sce"
		   ]
		  },
  {
"cell_type": "code",
	   "execution_count": null,
	   "metadata": {
	    "collapsed": true
	   },
	   "outputs": [],
"source": [
"clc\n",
"//initialisation of variables\n",
"clear\n",
"x= 0.1 //ft\n",
"w= 62.4 //lbf/ft^3\n",
"v1= 10 //ft/sec\n",
"u= 2.4*10^-5 //lbf/ft\n",
"g= 32.2 //ft/sec^2\n",
"k= 4.91\n",
"//CALCULATIONS\n",
"s= k*x*(w*v1*x/(u*g))^-0.5\n",
"Tw= 0.332*w*v1^2*(u*g/(w*x*v1))^0.5/g\n",
"R= 0.332*6*Tw\n",
"//RESULTS\n",
"printf ('Thickness = %.2e*ft',s)\n",
"printf ('\n Shear stress = %.3f lbf/ft^2',Tw)\n",
"printf ('\n Shear stress = %.3f lbf/ft',R)"
   ]
   }
,
{
		   "cell_type": "markdown",
		   "metadata": {},
		   "source": [
			"## Example 8.4: ex_4.sce"
		   ]
		  },
  {
"cell_type": "code",
	   "execution_count": null,
	   "metadata": {
	    "collapsed": true
	   },
	   "outputs": [],
"source": [
"clc\n",
"//initialisation of variables\n",
"clear\n",
"r=1\n",
"r1=1\n",
"//CALCULATIONS\n",
"e1= r+r1\n",
"e2= r-r1\n",
"//RESULTS\n",
"printf ('vorticity = %.f*k',e1)\n",
"printf ('\n vorticity = %.f',e2)"
   ]
   }
],
"metadata": {
		  "kernelspec": {
		   "display_name": "Scilab",
		   "language": "scilab",
		   "name": "scilab"
		  },
		  "language_info": {
		   "file_extension": ".sce",
		   "help_links": [
			{
			 "text": "MetaKernel Magics",
			 "url": "https://github.com/calysto/metakernel/blob/master/metakernel/magics/README.md"
			}
		   ],
		   "mimetype": "text/x-octave",
		   "name": "scilab",
		   "version": "0.7.1"
		  }
		 },
		 "nbformat": 4,
		 "nbformat_minor": 0
}
