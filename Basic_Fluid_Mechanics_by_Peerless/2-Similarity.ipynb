{
"cells": [
 {
		   "cell_type": "markdown",
	   "metadata": {},
	   "source": [
       "# Chapter 2: Similarity"
	   ]
	},
{
		   "cell_type": "markdown",
		   "metadata": {},
		   "source": [
			"## Example 2.1: Force_applied.sce"
		   ]
		  },
  {
"cell_type": "code",
	   "execution_count": null,
	   "metadata": {
	    "collapsed": true
	   },
	   "outputs": [],
"source": [
"clc\n",
"//initialisation of variables\n",
"clear\n",
"r= 4\n",
"l1= 4 //units\n",
"l2= 10 //units\n",
"//CALCULATIONS\n",
"sxy= (4/r)\n",
"sxy1= l1^2\n",
"sxy2= l2^2\n",
"//RESULTS\n",
"printf ('x^2+4*y^2 = %.f ',sxy)\n",
"printf ('\n x^2+4*y^2 = %.f ',sxy1)\n",
"printf ('\n x^2+4*y^2 = %.f ',sxy2)"
   ]
   }
,
{
		   "cell_type": "markdown",
		   "metadata": {},
		   "source": [
			"## Example 2.3: force_required.sce"
		   ]
		  },
  {
"cell_type": "code",
	   "execution_count": null,
	   "metadata": {
	    "collapsed": true
	   },
	   "outputs": [],
"source": [
"clc\n",
"//initialisation of variables\n",
"clear\n",
"vo= 10 //ft/sec\n",
"a= 0.5 //ft^-1\n",
"b= 1 //ft\n",
"x= -2 //ft\n",
"y= 2 //ft\n",
"b1= 2\n",
"a1= 3/5 //ft\n",
"//CALCULATIONS\n",
"Vx= vo/(a*x^2+b)\n",
"Vy= -2*a*b*vo*x*y/(a*x^2+b)^2\n",
"V= sqrt(Vx^2+Vy^2)\n",
"fx= -2*a*b^2*vo^2*x/(a*x^2+b)^3\n",
"fy= 2*a*b^2*vo^2*y*(b-a*x^2)/(a*x^2+b)^4\n",
"f= sqrt(fx^2+fy^2)\n",
"r= b1^2/a1\n",
"f1= f*r\n",
"//RESULTS\n",
"printf ('Vx = %.2f ft/sec',Vx)\n",
"printf ('\n Vx = %.2f ft/sec',Vy)\n",
"printf ('\n V = %.2f ft/sec',V)\n",
"printf ('\n fx = %.2f ft/sec^2',fx)\n",
"printf ('\n fy = %.2f ft/sec^2',fy)\n",
"printf ('\n f = %.2f ft/sec^2',f)\n",
"printf ('\n r = %.2f in the present case',r)\n",
"printf ('\n f1 = %.2f ft/sec^2',f1)"
   ]
   }
,
{
		   "cell_type": "markdown",
		   "metadata": {},
		   "source": [
			"## Example 2.4: force_at_the_end.sce"
		   ]
		  },
  {
"cell_type": "code",
	   "execution_count": null,
	   "metadata": {
	    "collapsed": true
	   },
	   "outputs": [],
"source": [
"clc\n",
"//initialisation of variables\n",
"clear\n",
"r= 1/5\n",
"b1= 2 //ft\n",
"a1= 3/5 //ft\n",
"//CALCULATIONS\n",
"r= (a1*b1)^2*r\n",
"//RESULTS\n",
"printf ('ratio of resultant forces acting on coorresponding fluid elements = %.2f ',r)"
   ]
   }
,
{
		   "cell_type": "markdown",
		   "metadata": {},
		   "source": [
			"## Example 2.5: air_speed.sce"
		   ]
		  },
  {
"cell_type": "code",
	   "execution_count": null,
	   "metadata": {
	    "collapsed": true
	   },
	   "outputs": [],
"source": [
"clc\n",
"//initialisation of variables\n",
"clear\n",
"vos= 70 //ft/sec\n",
"as= 78 //ft\n",
"am= 72 //ft\n",
"ls1= 6 //ft\n",
"lm= 2 //ft\n",
"um= 386 //ft/sec\n",
"us= 372 //ft/sec\n",
"dm= 0.4\n",
"//CALCULATIONS\n",
"vom= vos*as*ls1*um/(am*lm*us)\n",
"Ds= dm*(am/as)*(us/um)^2\n",
"//RESULTS\n",
"printf ('Air speed = %.f ft/sec',vom)\n",
"printf ('\n Ds = %.3f lbf',Ds)"
   ]
   }
,
{
		   "cell_type": "markdown",
		   "metadata": {},
		   "source": [
			"## Example 2.6: ratio_of_resultant_forces.sce"
		   ]
		  },
  {
"cell_type": "code",
	   "execution_count": null,
	   "metadata": {
	    "collapsed": true
	   },
	   "outputs": [],
"source": [
"clc\n",
"//initialisation of variables\n",
"clear\n",
"vom= 236 //ft/sec\n",
"as= 0.072 //ft\n",
"am= 62.4 //ft\n",
"ls1= 2 //ft\n",
"lm= 8 //ft\n",
"um= 248 //ft/sec\n",
"us= 3.86 //ft/sec\n",
"r= 0.4/3.3\n",
"//CALCULATIONS\n",
"voh= vom*as*ls1*um/(am*lm*us)\n",
"Ds= r*(as/am)*(um/us)^2*(ls1/lm)*(lm-ls1)\n",
"//RESULTS\n",
"printf ('Air speed = %.2f ft/sec',voh)\n",
"printf ('\n Drag force = %.3f lbf',Ds)"
   ]
   }
,
{
		   "cell_type": "markdown",
		   "metadata": {},
		   "source": [
			"## Example 2.7: Temperature_a_exit.sce"
		   ]
		  },
  {
"cell_type": "code",
	   "execution_count": null,
	   "metadata": {
	    "collapsed": true
	   },
	   "outputs": [],
"source": [
"clc\n",
"//initialisation of variables\n",
"clear\n",
"To1= 540 //R\n",
"po3= 12.6 //lbf/in^2\n",
"l3= 3 //ft\n",
"po1= 14.7 //lbf/in^2\n",
"l1= 1 //ft\n",
"vo1= 500 //ft/sec\n",
"r= 0.83\n",
"P1= 1 //lbf/in^2\n",
"//CALCULATIONS\n",
"To3= To1*(po3*l3/(po1*l1))^r\n",
"Vo3= vo1*sqrt(To3/To1)\n",
"P3= P1*po3*l3/(po1*l1)\n",
"//RESULTS\n",
"printf ('To3 = %.f R',To3)\n",
"printf ('\n Vo3 = %.f ft/sec',Vo3)\n",
"printf ('\n P3 = %.2f lbf/ft',P3)"
   ]
   }
],
"metadata": {
		  "kernelspec": {
		   "display_name": "Scilab",
		   "language": "scilab",
		   "name": "scilab"
		  },
		  "language_info": {
		   "file_extension": ".sce",
		   "help_links": [
			{
			 "text": "MetaKernel Magics",
			 "url": "https://github.com/calysto/metakernel/blob/master/metakernel/magics/README.md"
			}
		   ],
		   "mimetype": "text/x-octave",
		   "name": "scilab",
		   "version": "0.7.1"
		  }
		 },
		 "nbformat": 4,
		 "nbformat_minor": 0
}
