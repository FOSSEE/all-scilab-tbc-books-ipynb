{
"cells": [
 {
		   "cell_type": "markdown",
	   "metadata": {},
	   "source": [
       "# Chapter 3: Dimensional Analaysis"
	   ]
	},
{
		   "cell_type": "markdown",
		   "metadata": {},
		   "source": [
			"## Example 3.1: dimensions_of_g.sce"
		   ]
		  },
  {
"cell_type": "code",
	   "execution_count": null,
	   "metadata": {
	    "collapsed": true
	   },
	   "outputs": [],
"source": [
"clc\n",
"//initialisation of variables\n",
"clear\n",
"g= 32.2 //ft/sec^2\n",
"t= 1 //hr\n",
"g1= 32.2 //ft/sec^2\n",
"g2= 32.2 //lbm ft/lbf\n",
"u= 2.4*10^-5 //lbf sec/ft^2\n",
"//CALCULATIONS\n",
"q2= g*(t*60*60)^2\n",
"go= g*(t*60*60)^2\n",
"q3= g/g2\n",
"u1= u/(t*60*60)\n",
"//RESULTS\n",
"printf ('q2 = %.2e lbm ft/lbf hr^2',q2)\n",
"printf ('\n go = %.2e lbm ft/lbf hr^2',go)\n",
"printf ('\n go = %.f slug ft/lbf sec^2',q3)\n",
"printf ('\n viscosity = %.2e lbf hr/ft^2',u1)"
   ]
   }
,
{
		   "cell_type": "markdown",
		   "metadata": {},
		   "source": [
			"## Example 3.2: dimensions_of_vectors.sce"
		   ]
		  },
  {
"cell_type": "code",
	   "execution_count": null,
	   "metadata": {
	    "collapsed": true
	   },
	   "outputs": [],
"source": [
"clc\n",
"//initialisation of variables\n",
"clear\n",
"g= 32.2 //ft/sec^2\n",
"m= 1 //lb\n",
"//CALCULATIONS\n",
"m1= g/m\n",
"//RESULTS\n",
"printf ('1 lbf/sec ft^2 = %.1f lbm/ft sec',m1)"
   ]
   }
,
{
		   "cell_type": "markdown",
		   "metadata": {},
		   "source": [
			"## Example 3.5: dimensions_of_velocity.sce"
		   ]
		  },
  {
"cell_type": "code",
	   "execution_count": null,
	   "metadata": {
	    "collapsed": true
	   },
	   "outputs": [],
"source": [
"clc\n",
"//initialisation of variables\n",
"clear\n",
"n1=1\n",
"n2= 3\n",
"n3=2\n",
"//CALCULATIONS\n",
"a1= -n1\n",
"a2= -n3\n",
"a3= -n1-a2+3*a1\n",
"b1= -n1\n",
"b2= -n1\n",
"b3= n1+3*b1-b2\n",
"//RESULTS\n",
"printf ('a1 = %.f ',a1)\n",
"printf ('\n a2 = %.f ',a2)\n",
"printf ('\n a3 = %.f ',a3)\n",
"printf ('\n b1 = %.f ',b1)\n",
"printf ('\n b2 = %.f ',b2)\n",
"printf ('\n b3 = %.f ',b3)"
   ]
   }
],
"metadata": {
		  "kernelspec": {
		   "display_name": "Scilab",
		   "language": "scilab",
		   "name": "scilab"
		  },
		  "language_info": {
		   "file_extension": ".sce",
		   "help_links": [
			{
			 "text": "MetaKernel Magics",
			 "url": "https://github.com/calysto/metakernel/blob/master/metakernel/magics/README.md"
			}
		   ],
		   "mimetype": "text/x-octave",
		   "name": "scilab",
		   "version": "0.7.1"
		  }
		 },
		 "nbformat": 4,
		 "nbformat_minor": 0
}
