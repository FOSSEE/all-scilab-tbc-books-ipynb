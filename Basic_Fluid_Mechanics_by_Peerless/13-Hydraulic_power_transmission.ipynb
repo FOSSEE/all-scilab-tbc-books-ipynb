{
"cells": [
 {
		   "cell_type": "markdown",
	   "metadata": {},
	   "source": [
       "# Chapter 13: Hydraulic power transmission"
	   ]
	},
{
		   "cell_type": "markdown",
		   "metadata": {},
		   "source": [
			"## Example 13.1: ex_1.sce"
		   ]
		  },
  {
"cell_type": "code",
	   "execution_count": null,
	   "metadata": {
	    "collapsed": true
	   },
	   "outputs": [],
"source": [
"clc\n",
"//initialisation of variables\n",
"clear\n",
"nop= 0.88\n",
"nom= 0.88\n",
"Pm= 75 //hp\n",
"p= 3000 //lb/in^2\n",
"d= 54.5 //lbm/ft^3\n",
"u= 1.05*10^-4\n",
"d1= 0.5 //in\n",
"g= 32.2 //ft/sec^2\n",
"//CALCULATIONS\n",
"nt= (7/11)*nop*nom\n",
"pp= Pm/nt\n",
"Q= nop*pp*550/(p*144)\n",
"Re= 4*d*Q/(%pi*u*(d1/12)*g)\n",
"//RESULTS\n",
"printf ('n trans = %.3f ',nt)\n",
"printf ('\n Input power = %.f hp',pp)\n",
"printf ('\n Flow rate = %.3f ft^3/sec',Q)\n",
"printf ('\n Reynolds Number = %.1e ',Re)"
   ]
   }
,
{
		   "cell_type": "markdown",
		   "metadata": {},
		   "source": [
			"## Example 13.2: ex_2.sce"
		   ]
		  },
  {
"cell_type": "code",
	   "execution_count": null,
	   "metadata": {
	    "collapsed": true
	   },
	   "outputs": [],
"source": [
"clc\n",
"//initialisation of variables\n",
"clear\n",
"lc= 0.25\n",
"a= 90 //degrees\n",
"p= 3000 //lb/in^2\n",
"g= 32.2 //ft/sec^2\n",
"d1= 0.5 //in\n",
"Q= 0.171 //ft^3/sec\n",
"d= 54.5 //lbm/ft^3\n",
"n1= 2 \n",
"n2= 6\n",
"lc1= 0.9\n",
"nop= 0.88\n",
"nom= 0.88\n",
"//CALCULATIONS\n",
"P1= 4*p*144/11\n",
"P2= 8*d*Q^2*(n1*lc+n2*lc1)/(%pi^2*(d1/12)^4*g)\n",
"pt= P1+P2\n",
"dpm= (p*144-pt)\n",
"ntrans= nop*nom*dpm/(p*144)\n",
"//RESULTS\n",
"printf ('Frictional pressure drop = %.2e lbf/ft^2',P1) \n",
"printf ('\n Extra Frictional pressure drop = %.2e lbf/ft^2',P2) \n",
"printf ('\n Total pressure drop = %.2e lbf/ft^2',pt)\n",
"printf ('\n Motor pressure drop = %.2e lbf/ft^2',dpm)\n",
"printf ('\n Overall transmission coefficiency = %.3f',ntrans)"
   ]
   }
,
{
		   "cell_type": "markdown",
		   "metadata": {},
		   "source": [
			"## Example 13.3: ex_3.sce"
		   ]
		  },
  {
"cell_type": "code",
	   "execution_count": null,
	   "metadata": {
	    "collapsed": true
	   },
	   "outputs": [],
"source": [
"clc\n",
"//initialisation of variables\n",
"clear\n",
"bip= 135 //degrees\n",
"bop= 150 //degrees\n",
"bot= 140 //degrees\n",
"bos= 137 //degrees\n",
"r= 1.8\n",
"r1= 1.8\n",
"r2= 0.7\n",
"r3= 0.95\n",
"//CALCULATIONS\n",
"R= (1+(cotd(bip)/cotd(bos)))*r^2-r1*(cotd(bop)/cotd(bos))\n",
"R1= r2*r3^2*(1+(cotd(bip)/cotd(bos)))-(cotd(bot)/cotd(bos))\n",
"R2= (R1-R)/(R-1)\n",
"//RESULTS\n",
"printf ('R1 = %.2f',R) \n",
"printf ('\n R2 = %.2f',R1) \n",
"printf ('\n Torque ratio = %.2f',R2) "
   ]
   }
],
"metadata": {
		  "kernelspec": {
		   "display_name": "Scilab",
		   "language": "scilab",
		   "name": "scilab"
		  },
		  "language_info": {
		   "file_extension": ".sce",
		   "help_links": [
			{
			 "text": "MetaKernel Magics",
			 "url": "https://github.com/calysto/metakernel/blob/master/metakernel/magics/README.md"
			}
		   ],
		   "mimetype": "text/x-octave",
		   "name": "scilab",
		   "version": "0.7.1"
		  }
		 },
		 "nbformat": 4,
		 "nbformat_minor": 0
}
