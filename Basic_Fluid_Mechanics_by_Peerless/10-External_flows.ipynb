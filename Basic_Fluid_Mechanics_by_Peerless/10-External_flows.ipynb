{
"cells": [
 {
		   "cell_type": "markdown",
	   "metadata": {},
	   "source": [
       "# Chapter 10: External flows"
	   ]
	},
{
		   "cell_type": "markdown",
		   "metadata": {},
		   "source": [
			"## Example 10.1: ex_1.sce"
		   ]
		  },
  {
"cell_type": "code",
	   "execution_count": null,
	   "metadata": {
	    "collapsed": true
	   },
	   "outputs": [],
"source": [
"clc\n",
"//initialisation of variables\n",
"clear\n",
"g= 32.2 //ft/sec^2\n",
"u= 3.6*10^-5 //lbf sec/ft^2\n",
"d= 64 //lbm/ft^2\n",
"l= 20 //ft\n",
"a= 0.5\n",
"//CALCULATIONS\n",
"sw= u*g/(a*d)\n",
"sw1= u^2*g*l/(2*a*d)\n",
"Re=[1 2 3 4 5 6 7 8 9 10]*10^5\n",
"Vinf=Re*u*g/(d*a)\n",
"Cd=[1.2 1.15 0.94 0.68 0.305 0.31 0.32 0.33 0.34 0.35]\n",
"cdre=Cd.*Re^2\n",
"D=sw1*cdre\n",
"//RESULTS\n",
"printf ('velocity = %.2e ft/sec',sw)\n",
"printf ('\n Force = %.2e lbf',sw1)\n",
"disp(Vinf)\n",
"disp(D)\n",
""
   ]
   }
,
{
		   "cell_type": "markdown",
		   "metadata": {},
		   "source": [
			"## Example 10.2: ex2.sce"
		   ]
		  },
  {
"cell_type": "code",
	   "execution_count": null,
	   "metadata": {
	    "collapsed": true
	   },
	   "outputs": [],
"source": [
"clc\n",
"//initialisation of variables\n",
"clear\n",
"g= 32.2 //ft/sec^2\n",
"u= 3.6*10^-5 //lbf sec/ft^2\n",
"d= 64 //lbm/ft^2\n",
"l= 20 //ft\n",
"a= 0.5\n",
"//CALCULATIONS\n",
"sw= u*g/(a*d)\n",
"sw1= u^2*g*l/(2*a*d)\n",
"Re=[1 2 3 4 5 6 7 8 9 10]*10^5\n",
"Vinf=Re*u*g/(d*a)\n",
"Cd=[1.2 1.15 0.94 0.68 0.305 0.31 0.32 0.33 0.34 0.35]\n",
"cdre=Cd.*Re^2\n",
"D=sw1*cdre\n",
"//RESULTS\n",
"plot(Vinf,D)\n",
"xtitle('','Vinf, ft/sec', 'D, lbf') \n",
"\n",
"//data for curves b,c,d is not given"
   ]
   }
,
{
		   "cell_type": "markdown",
		   "metadata": {},
		   "source": [
			"## Example 10.3: ex_3.sce"
		   ]
		  },
  {
"cell_type": "code",
	   "execution_count": null,
	   "metadata": {
	    "collapsed": true
	   },
	   "outputs": [],
"source": [
"clc\n",
"//initialisation of variables\n",
"clear\n",
"v1= 10 //ft/sec\n",
"v2= 9 //ft/sec\n",
"a= 1.02\n",
"r= 5.95\n",
"//CALCULATIONS\n",
"ca= (v1/v2)^2\n",
"Cd= r*(ca-1+2-2*ca)+2*a*ca\n",
"//RESULTS\n",
"printf ('Drage coeffcieicnt = %.2f',Cd)"
   ]
   }
,
{
		   "cell_type": "markdown",
		   "metadata": {},
		   "source": [
			"## Example 10.4: ex_4.sce"
		   ]
		  },
  {
"cell_type": "code",
	   "execution_count": null,
	   "metadata": {
	    "collapsed": true
	   },
	   "outputs": [],
"source": [
"clc\n",
"//initialisation of variables\n",
"clear\n",
"A= 320 //ft/^2\n",
"w= 18000 //lbf\n",
"v= 230 //ft/sec\n",
"ad= 0.0765 //lbm/ft^3\n",
"p= 5 //per cent\n",
"c= 0.055\n",
"n= 1.75\n",
"g= 32.2 //ft/sec^2\n",
"//CALCULATIONS\n",
"CL= 2*w*(1-(p/100))*g/(ad*v^2*A)\n",
"D= w*(1-(p/100))*c*n/CL\n",
"//RESULTS\n",
"printf ('lift coeefieicnt = %.2f',CL)\n",
"printf ('\n Drage force = %.f',D)"
   ]
   }
,
{
		   "cell_type": "markdown",
		   "metadata": {},
		   "source": [
			"## Example 10.5: ex_5.sce"
		   ]
		  },
  {
"cell_type": "code",
	   "execution_count": null,
	   "metadata": {
	    "collapsed": true
	   },
	   "outputs": [],
"source": [
"clc\n",
"//initialisation of variables\n",
"clear\n",
"bi= 70 //degrees\n",
"i= 8 //degrees\n",
"bo= 130 //degrees\n",
"s= 5 //degrees\n",
"vi= 1200 //ft/sec\n",
"g= 32.2 //ft/sec^2\n",
"a= 0.48\n",
"s1= 1.4 //in\n",
"b= 5 //in\n",
"Cx= 0.06\n",
"//CALCULATIONS\n",
"O= bo-s-bi+i\n",
"Vo= vi*sind(bi-i)/sind(bo-s)\n",
"Fy= -a*vi*sind(bi-i)*(s1/12)*(b/12)*(Vo*cosd(bo-s)-vi*cosd(bi-i))/g\n",
"dp= a*(Vo^2*(1+Cx)-vi^2)/(2*g)\n",
"//RESULTS\n",
"printf ('Fluid deflection angle = %.f degrees',O)\n",
"printf ('\n Vo = %.f ft/sec',Vo)\n",
"printf ('\n Force on each blade = %.f lbf',Fy)\n",
"printf ('\n Pressure difference = %.f lbf/ft^2',dp)"
   ]
   }
,
{
		   "cell_type": "markdown",
		   "metadata": {},
		   "source": [
			"## Example 10.6: ex_6.sce"
		   ]
		  },
  {
"cell_type": "code",
	   "execution_count": null,
	   "metadata": {
	    "collapsed": true
	   },
	   "outputs": [],
"source": [
"clc\n",
"//initialisation of variables\n",
"clear\n",
"ari= 62 //degrees\n",
"aro= 125 //degrees\n",
"vri= 1200 //ft/sec\n",
"vro= 1294 //ft/sec\n",
"vrr= 550 //ft/sec\n",
"//CALCULATIONS\n",
"v1= vri*sind(ari)\n",
"v2= vrr+vri*cosd(ari)\n",
"vi= sqrt(v1^2+v2^2)\n",
"ai= atand(v1/v2)\n",
"vo= vro*sind(aro)\n",
"vo1= vro*cosd(aro)+vrr\n",
"vo2= sqrt(vo^2+vo1^2)\n",
"ao= atand(vo/vo1)+180\n",
"//RESULTS\n",
"printf ('absolute velocity = %.f ft/sec',vi)\n",
"printf ('\n direction = %.1f degrees',ai)\n",
"printf ('\n absolute velocity = %.f ft/sec',vo2)\n",
"printf ('\n direction = %.1f degrees',ao)"
   ]
   }
],
"metadata": {
		  "kernelspec": {
		   "display_name": "Scilab",
		   "language": "scilab",
		   "name": "scilab"
		  },
		  "language_info": {
		   "file_extension": ".sce",
		   "help_links": [
			{
			 "text": "MetaKernel Magics",
			 "url": "https://github.com/calysto/metakernel/blob/master/metakernel/magics/README.md"
			}
		   ],
		   "mimetype": "text/x-octave",
		   "name": "scilab",
		   "version": "0.7.1"
		  }
		 },
		 "nbformat": 4,
		 "nbformat_minor": 0
}
