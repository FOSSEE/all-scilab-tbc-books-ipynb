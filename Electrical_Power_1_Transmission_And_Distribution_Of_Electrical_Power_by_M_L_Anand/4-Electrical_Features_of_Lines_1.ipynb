{
"cells": [
 {
		   "cell_type": "markdown",
	   "metadata": {},
	   "source": [
       "# Chapter 4: Electrical Features of Lines 1"
	   ]
	},
{
		   "cell_type": "markdown",
		   "metadata": {},
		   "source": [
			"## Example 4.10: Inductance_per_Km.sce"
		   ]
		  },
  {
"cell_type": "code",
	   "execution_count": null,
	   "metadata": {
	    "collapsed": true
	   },
	   "outputs": [],
"source": [
"//Exa 4.10\n",
"clc;\n",
"clear;\n",
"close;\n",
"//Given Data :\n",
"format('v',9);\n",
"d1=2;//in cm\n",
"d2=2.5;//in cm\n",
"d3=4.5;//in cm\n",
"r=1.24/2;//in cm\n",
"L=10^-7*[0.5+2*log((d1*d2*d3)^(1/3)/r)];//in H/m\n",
"L=L*1000*1000;//in mH/km\n",
"disp(L,'Inductance per km(in mH) :');\n",
"//Note : Answer in the book is wrong(calculation mistake)."
   ]
   }
,
{
		   "cell_type": "markdown",
		   "metadata": {},
		   "source": [
			"## Example 4.11: Loop_inductance_per_Km.sce"
		   ]
		  },
  {
"cell_type": "code",
	   "execution_count": null,
	   "metadata": {
	    "collapsed": true
	   },
	   "outputs": [],
"source": [
"//Exa 4.11\n",
"clc;\n",
"clear;\n",
"close;\n",
"//Given Data :\n",
"format('v',5);\n",
"r=0.75*10;//in mm\n",
"d=1.5*10^3;//in mm\n",
"ds=0.7788*r;//in mm\n",
"L=4*10^-7*log(d/ds);//in H/m\n",
"L=L*10^6;//in mH/km\n",
"disp(L,'Inductance of line(in mH/km) :');"
   ]
   }
,
{
		   "cell_type": "markdown",
		   "metadata": {},
		   "source": [
			"## Example 4.12: Inductance_of_1_Km_line.sce"
		   ]
		  },
  {
"cell_type": "code",
	   "execution_count": null,
	   "metadata": {
	    "collapsed": true
	   },
	   "outputs": [],
"source": [
"//Exa 4.12\n",
"clc;\n",
"clear;\n",
"close;\n",
"//Given Data :\n",
"format('v',5);\n",
"d1=4*100;//in cm\n",
"d2=5*100;//in cm\n",
"d3=6*100;//in cm\n",
"r=1;//in cm\n",
"ds=0.7788*r;//in cm\n",
"L=[0.2*log((d1*d2*d3)^(1/3)/ds)];//in mH\n",
"disp(L*10^3,'Inductance per km(in uH) :');\n",
"//Note : answer in the book is wrong."
   ]
   }
,
{
		   "cell_type": "markdown",
		   "metadata": {},
		   "source": [
			"## Example 4.13: Capacitance_of_single_phase_overhead_line.sce"
		   ]
		  },
  {
"cell_type": "code",
	   "execution_count": null,
	   "metadata": {
	    "collapsed": true
	   },
	   "outputs": [],
"source": [
"//Exa 4.13\n",
"clc;\n",
"clear;\n",
"close;\n",
"//Given Data :\n",
"format('v',5);\n",
"d=300;//in cm(spacing)\n",
"r=1;//in cm\n",
"epsilon_o=8.854*10^-12;//constnt\n",
"C=%pi*epsilon_o/log(d/r);//in Farad per meter\n",
"disp(C*30*1000*10^6,'Capacitance for 30 km line(in uF) :');"
   ]
   }
,
{
		   "cell_type": "markdown",
		   "metadata": {},
		   "source": [
			"## Example 4.14: Capacitance_of_10_km_long_line.sce"
		   ]
		  },
  {
"cell_type": "code",
	   "execution_count": null,
	   "metadata": {
	    "collapsed": true
	   },
	   "outputs": [],
"source": [
"//Exa 4.14\n",
"clc;\n",
"clear;\n",
"close;\n",
"//Given Data :\n",
"format('v',5);\n",
"d=2.5*100;//in cm(spacing)\n",
"r=2/2;//in cm\n",
"epsilon_o=8.854*10^-12;//constnt\n",
"C=2*%pi*epsilon_o/log(d/r);//in Farad per meter\n",
"disp(C*10*1000*10^6,'Capacitance for 10 km line(in uF) :');\n",
"//Note : answer given in the book is wrong but calculated is right."
   ]
   }
,
{
		   "cell_type": "markdown",
		   "metadata": {},
		   "source": [
			"## Example 4.15: capacitance_of_line_and_charging_current.sce"
		   ]
		  },
  {
"cell_type": "code",
	   "execution_count": null,
	   "metadata": {
	    "collapsed": true
	   },
	   "outputs": [],
"source": [
"//Exa 4.15\n",
"clc;\n",
"clear;\n",
"close;\n",
"//Given Data :\n",
"format('v',6);\n",
"VL=33;//in KV\n",
"f=50;//in hz\n",
"d1=4;//in meter\n",
"d2=4;//in meter\n",
"d3=8;//in meter\n",
"d=(d1*d2*d3)^(1/3);//in meter\n",
"epsilon_o=8.854*10^-12;//constnt\n",
"d=d*100;//in cm\n",
"r=0.62;//in cm\n",
"C=2*%pi*epsilon_o/log(d/r);//in Farad per meter\n",
"disp(C*50*1000*10^6,'Capacitance for 50 km line(in uF) :');\n",
"Vp=VL/sqrt(3);//in KV\n",
"Vp=Vp*10^3;//in volt\n",
"Ic=2*%pi*f*(C*50*1000*10^6)*10^-6*Vp;//in Ampere\n",
"disp(Ic,'The charging current(in Ampere) :');"
   ]
   }
,
{
		   "cell_type": "markdown",
		   "metadata": {},
		   "source": [
			"## Example 4.1: Inductance_per_Km.sce"
		   ]
		  },
  {
"cell_type": "code",
	   "execution_count": null,
	   "metadata": {
	    "collapsed": true
	   },
	   "outputs": [],
"source": [
"//Exa 4.1\n",
"clc;\n",
"clear;\n",
"close;\n",
"//Given Data :\n",
"format('v',9);\n",
"r=1.213/2;//in cm\n",
"f=60;//in Hz\n",
"ds=0.77888*r;//in cm\n",
"spacing=1.25;//in meter\n",
"L=4*10^-7*log(spacing*100/ds);//in H/m\n",
"disp(L*1000,'Inductance(in H/km) :');\n",
"XL=2*%pi*f*L;//in ohm/m\n",
"disp(XL*1000*60,'Inductive reactance for 60 km line(in ohm) :');"
   ]
   }
,
{
		   "cell_type": "markdown",
		   "metadata": {},
		   "source": [
			"## Example 4.2: Inductance_per_phase_per_Km.sce"
		   ]
		  },
  {
"cell_type": "code",
	   "execution_count": null,
	   "metadata": {
	    "collapsed": true
	   },
	   "outputs": [],
"source": [
"//Exa 4.2\n",
"clc;\n",
"clear;\n",
"close;\n",
"//Given Data :\n",
"format('v',7);\n",
"d=2.8*100;//in cm(spacing)\n",
"r=0.5*1.5;//in cm\n",
"ds=0.77888*r;//in cm\n",
"L=0.2*log(d/ds);//in H/m/phase\n",
"disp(L*20,'Inductance per phase for a 20 km line (in mH) :');"
   ]
   }
,
{
		   "cell_type": "markdown",
		   "metadata": {},
		   "source": [
			"## Example 4.3: Resistance_and_Inducance_of_1_km_Line.sce"
		   ]
		  },
  {
"cell_type": "code",
	   "execution_count": null,
	   "metadata": {
	    "collapsed": true
	   },
	   "outputs": [],
"source": [
"//Exa 4.3\n",
"clc;\n",
"clear;\n",
"close;\n",
"//Given Data :\n",
"format('v',7);\n",
"a=1.5;//in cm^2\n",
"d=8;//in meter(spacing)\n",
"r=39.8/2;//in mm\n",
"l=1*10^5;//in cm\n",
"rho=1.73*10^-6;//in ohm-cm\n",
"R=rho*l/a;//in ohm/km\n",
"disp(R,'Resistance of line(in ohm/km) :');\n",
"ds=0.77888*r;//in cm\n",
"L=0.2*log(d/(ds*10^-3));//in mH/km/phase\n",
"disp(L,'Inductance per phase for a 1 km line (in mH/km) :');"
   ]
   }
,
{
		   "cell_type": "markdown",
		   "metadata": {},
		   "source": [
			"## Example 4.4: Find_the_capacitance.sce"
		   ]
		  },
  {
"cell_type": "code",
	   "execution_count": null,
	   "metadata": {
	    "collapsed": true
	   },
	   "outputs": [],
"source": [
"//Exa 4.4\n",
"clc;\n",
"clear;\n",
"close;\n",
"//Given Data :\n",
"format('v',6);\n",
"Cs=1/3;//in uF\n",
"Cc=(0.6-Cs)/2;//in uF\n",
"//Part (a) :\n",
"C1=(3/2)*Cc+(1/2)*Cs;//in uF(between any two conductor)\n",
"disp(C1,'Capacitance between any two conductor(in uF) :');\n",
"//Part (b) :\n",
"C2=2*Cc+2*Cs/3\n",
"disp(C2,'Capacitance between any shorted onductors(in uF) :');"
   ]
   }
,
{
		   "cell_type": "markdown",
		   "metadata": {},
		   "source": [
			"## Example 4.5: Inductance_and_capacitance.sce"
		   ]
		  },
  {
"cell_type": "code",
	   "execution_count": null,
	   "metadata": {
	    "collapsed": true
	   },
	   "outputs": [],
"source": [
"//Exa 4.5\n",
"clc;\n",
"clear;\n",
"close;\n",
"//Given Data :\n",
"format('v',7);\n",
"d1=3;//in meter\n",
"d2=3;//in meter\n",
"d3=d1+d2;//in meter\n",
"d=378;//in cm\n",
"dia=2.5;//in cm\n",
"r=dia/2;//in cm\n",
"epsilon_o=8.854*10^-12;//constnt\n",
"L=(0.5+2*log10(d/r))*10^-7;//in H/m\n",
"disp(L*60*1000*1000,'Inductance for 60 km line(in mH) :');\n",
"C=2*%pi*epsilon_o/log(d/r);//in F/m\n",
"disp(C*60*10^3*10^6,'Capacitnce for 60 km line(in uF) :');"
   ]
   }
,
{
		   "cell_type": "markdown",
		   "metadata": {},
		   "source": [
			"## Example 4.6: Inductance_per_phase_per_Km.sce"
		   ]
		  },
  {
"cell_type": "code",
	   "execution_count": null,
	   "metadata": {
	    "collapsed": true
	   },
	   "outputs": [],
"source": [
"//Exa 4.6\n",
"clc;\n",
"clear;\n",
"close;\n",
"//Given Data :\n",
"format('v',5);\n",
"dinner=6;//in meter\n",
"douter=12;//in meter\n",
"d=(dinner^2*douter)^(1/3);//in meter\n",
"r=2.8;//in meter\n",
"ds=0.7788*r;//in cm\n",
"L=2*log10(d*100/ds);//in mH/phase/km\n",
"disp(L*100,'Inductance for 100 km line(in mH) :');"
   ]
   }
,
{
		   "cell_type": "markdown",
		   "metadata": {},
		   "source": [
			"## Example 4.7: Capacitance_of_single_phase_line.sce"
		   ]
		  },
  {
"cell_type": "code",
	   "execution_count": null,
	   "metadata": {
	    "collapsed": true
	   },
	   "outputs": [],
"source": [
"//Exa 4.7\n",
"clc;\n",
"clear;\n",
"close;\n",
"//Given Data :\n",
"format('v',9);\n",
"dia=5;//in mm\n",
"d=1.5;//in meter(spacing)\n",
"r=dia/2;//in mm\n",
"r=r*10^-3;//in meter\n",
"epsilon_o=8.854*10^-12;//constnt\n",
"C=%pi*epsilon_o/log(d/r);//in Farad per meter\n",
"disp(C*50*1000,'Capacitance for 50 km line(in Fardas) :');\n",
"//Note : answer is not accurate in the book. "
   ]
   }
,
{
		   "cell_type": "markdown",
		   "metadata": {},
		   "source": [
			"## Example 4.8: Loop_inductance_per_Km.sce"
		   ]
		  },
  {
"cell_type": "code",
	   "execution_count": null,
	   "metadata": {
	    "collapsed": true
	   },
	   "outputs": [],
"source": [
"//Exa 4.8\n",
"clc;\n",
"clear;\n",
"close;\n",
"//Given Data :\n",
"format('v',9);\n",
"d=300;//in cm(spacing)\n",
"r=1;//in cm\n",
"//Formula : L=10^-7*[mu_r+4*log10(d/r)];//in H/m\n",
"//Part (i) : mu_r=1\n",
"mu_r=1;//constant\n",
"L=10^-4*[mu_r+4*log(d/r)];//in H/m\n",
"disp(L*1000,'Loop inductance per km for copper(in mH) :');\n",
"//Part (ii) : mu_r=100\n",
"mu_r=100;//constant\n",
"L=10^-4*[mu_r+4*log(d/r)];//in H/m\n",
"disp(L*1000,'Loop inductance per km for steel(in mH) :');"
   ]
   }
,
{
		   "cell_type": "markdown",
		   "metadata": {},
		   "source": [
			"## Example 4.9: Inductance_per_Km.sce"
		   ]
		  },
  {
"cell_type": "code",
	   "execution_count": null,
	   "metadata": {
	    "collapsed": true
	   },
	   "outputs": [],
"source": [
"//Exa 4.9\n",
"clc;\n",
"clear;\n",
"close;\n",
"//Given Data :\n",
"format('v',9);\n",
"d1=100;//in cm(spacing)\n",
"d2=100;//in cm(spacing)\n",
"d3=100;//in cm\n",
"r=1;//in cm\n",
"L=10^-7*[0.5+2*log((d1*d2*d3)^(1/3)/r)];//in H/m\n",
"L=L*1000*1000;//in mH/km\n",
"disp(L,'Inductance per km(in mH) :');\n",
"//Note : Answer in the book is wrong due to calculation mistake.\n",
"//Note : In the last line it should be multiply by 10^6 to convert from H/m to mH/km instead of 10^8."
   ]
   }
],
"metadata": {
		  "kernelspec": {
		   "display_name": "Scilab",
		   "language": "scilab",
		   "name": "scilab"
		  },
		  "language_info": {
		   "file_extension": ".sce",
		   "help_links": [
			{
			 "text": "MetaKernel Magics",
			 "url": "https://github.com/calysto/metakernel/blob/master/metakernel/magics/README.md"
			}
		   ],
		   "mimetype": "text/x-octave",
		   "name": "scilab",
		   "version": "0.7.1"
		  }
		 },
		 "nbformat": 4,
		 "nbformat_minor": 0
}
