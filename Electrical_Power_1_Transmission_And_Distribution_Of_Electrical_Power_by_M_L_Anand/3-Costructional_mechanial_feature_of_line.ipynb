{
"cells": [
 {
		   "cell_type": "markdown",
	   "metadata": {},
	   "source": [
       "# Chapter 3: Costructional mechanial feature of line"
	   ]
	},
{
		   "cell_type": "markdown",
		   "metadata": {},
		   "source": [
			"## Example 3.10: String_Efficiency.sce"
		   ]
		  },
  {
"cell_type": "code",
	   "execution_count": null,
	   "metadata": {
	    "collapsed": true
	   },
	   "outputs": [],
"source": [
"//Exa 3.10\n",
"clc;\n",
"clear;\n",
"close;\n",
"//Given Data :\n",
"format('v',4);\n",
"//Applying KCL we get I1+i1=I2+ix and I2+i2=I3+iy\n",
"//On solving we get : 1*2*E1=1*1*E2+0*1*E3 and 0*2*E1=-1*2*E2+1*3*E3 \n",
"E1byE=1/(1+(154/155)+(166/155));//assumed\n",
"E2byE=(154/155)*E1byE;//assumed\n",
"E3byE=(166/155)*E1byE;//assumed\n",
"Eff=1/((3*(166/155)*E1byE));\n",
"disp(Eff*100,'String Efficiency(in %) : ');"
   ]
   }
,
{
		   "cell_type": "markdown",
		   "metadata": {},
		   "source": [
			"## Example 3.11: sag_in_the_line.sce"
		   ]
		  },
  {
"cell_type": "code",
	   "execution_count": null,
	   "metadata": {
	    "collapsed": true
	   },
	   "outputs": [],
"source": [
"//Exa 3.11\n",
"clc;\n",
"clear;\n",
"close;\n",
"//Given Data :\n",
"format('v',5);\n",
"L=200;//in meter\n",
"W=684/1000;//in Kg/m\n",
"T=1450;//in Kg\n",
"S=W*L^2/(8*T);//in meter\n",
"disp(S,'Sag(in meter) : ');"
   ]
   }
,
{
		   "cell_type": "markdown",
		   "metadata": {},
		   "source": [
			"## Example 3.12: Clculate_vertical_sag.sce"
		   ]
		  },
  {
"cell_type": "code",
	   "execution_count": null,
	   "metadata": {
	    "collapsed": true
	   },
	   "outputs": [],
"source": [
"//Exa 3.12\n",
"clc;\n",
"clear;\n",
"close;\n",
"//Given Data :\n",
"format('v',6);\n",
"L=220;//in meter\n",
"T=586;//in Kg\n",
"Wc=0.62;//in Kg\n",
"Ww=39.2*0.94/100;//in Kg\n",
"Wr=sqrt(Wc^2+Ww^2);//in Kg\n",
"cos_theta=Wc/Wr;//unitless\n",
"Sv=Wr*L^2*cos_theta/(8*T);//in meter\n",
"disp(Sv,'Sag(in meter) : ');"
   ]
   }
,
{
		   "cell_type": "markdown",
		   "metadata": {},
		   "source": [
			"## Example 3.1: Voltage_across_disc_and_string_efficiency.sce"
		   ]
		  },
  {
"cell_type": "code",
	   "execution_count": null,
	   "metadata": {
	    "collapsed": true
	   },
	   "outputs": [],
"source": [
"//Exa 3.1\n",
"clc;\n",
"clear;\n",
"close;\n",
"//Given Data :\n",
"format('v',6);\n",
"m=1/10;//unitless\n",
"EL=66;//in KV\n",
"E=EL/sqrt(3);//in KV\n",
"//Formula : E=E1+(11/10)*E1+(131/100)*E1+(1651/1000)*E1=(5061/1000)*E1\n",
"E1=E*(1000/5061);//in KV\n",
"disp(E1,'E1(in KV) :');\n",
"E2=E1*(11/10);//in KV\n",
"disp(E2,'E1(in KV) :');\n",
"E3=E1*(131/100);//in KV\n",
"disp(E3,'E2(in KV) :');\n",
"E4=E1*(1651/1000);//in KV\n",
"disp(E4,'E4(in KV) :');\n",
"Eta=(E/(4*E4))*100;//in %\n",
"disp(Eta,'String Efficiency(in %) :');"
   ]
   }
,
{
		   "cell_type": "markdown",
		   "metadata": {},
		   "source": [
			"## Example 3.2: Horizontal_and_vertical_sag.sce"
		   ]
		  },
  {
"cell_type": "code",
	   "execution_count": null,
	   "metadata": {
	    "collapsed": true
	   },
	   "outputs": [],
"source": [
"//Exa 3.2\n",
"clc;\n",
"clear;\n",
"close;\n",
"//Given Data :\n",
"format('v',6);\n",
"W=0.85;//in Kg/meter\n",
"L=250;//in meter\n",
"Ww=1.4;//in Kg\n",
"SafetyFactor=5;//unitless\n",
"UTS=10128;//Ultimate tensile strength in Kg\n",
"T=UTS/SafetyFactor;//in Kg\n",
"Wi=0;//there is no ice\n",
"Wr=sqrt((W+Wi)^2+Ww^2);//in Kg\n",
"S=Wr*L^2/(8*T);//in meter\n",
"Sv=(W/Wr)*S;//in meter\n",
"disp(S,'Horizontal sag(in m) :');\n",
"disp(Sv,'Vertical sag(in m) :');"
   ]
   }
,
{
		   "cell_type": "markdown",
		   "metadata": {},
		   "source": [
			"## Example 3.3: sag.sce"
		   ]
		  },
  {
"cell_type": "code",
	   "execution_count": null,
	   "metadata": {
	    "collapsed": true
	   },
	   "outputs": [],
"source": [
"//Exa 3.3\n",
"clc;\n",
"clear;\n",
"close;\n",
"//Given Data :\n",
"format('v',5);\n",
"L=150;//in meter\n",
"A=2;//in cm^2(cross sectional area)\n",
"US=5000;//in Kg/cm^2(ultimate strength)\n",
"g=8.9;//specific gravity\n",
"Ww=1.5;//in Kg/m(wind pressure)\n",
"SafetyFactor=5;//unitless\n",
"B_strength=2*US;//in Kg\n",
"T=B_strength/SafetyFactor;//in Kg\n",
"Volume=A*100;//in cm^2\n",
"Wc=1.78;//in Kg/m\n",
"Wr=sqrt(Wc^2+Ww^2);//in Kg\n",
"Sag=Wr*L^2/(8*T);//in meter\n",
"disp(Sag,'Sag(in m) :');"
   ]
   }
,
{
		   "cell_type": "markdown",
		   "metadata": {},
		   "source": [
			"## Example 3.4: Find_sag.sce"
		   ]
		  },
  {
"cell_type": "code",
	   "execution_count": null,
	   "metadata": {
	    "collapsed": true
	   },
	   "outputs": [],
"source": [
"//Exa 3.4\n",
"clc;\n",
"clear;\n",
"close;\n",
"//Given Data :\n",
"format('v',4);\n",
"L=160;//in meter\n",
"d=0.95;//in cm\n",
"A=%pi*d^2/4;//in cm^2(cross sectional area)\n",
"US=4250;//in Kg/cm^2(ultimate strength)\n",
"g=8.9;//specific gravity\n",
"Ww=1.5;//in Kg/m(wind pressure)\n",
"SafetyFactor=5;//unitless\n",
"B_strength=2*US;//in Kg\n",
"T=B_strength/SafetyFactor;//in Kg\n",
"Volume=A*100;//in cm^2\n",
"Wc=1.78;//in Kg/m\n",
"Wr=sqrt(Wc^2+Ww^2);//in Kg\n",
"Sag=Wr*L^2/(8*T);//in meter\n",
"disp(Sag,'Sag(in m) :');\n",
"//Note : Answer in the book is not accurate."
   ]
   }
,
{
		   "cell_type": "markdown",
		   "metadata": {},
		   "source": [
			"## Example 3.5: Clearance_between_conductors.sce"
		   ]
		  },
  {
"cell_type": "code",
	   "execution_count": null,
	   "metadata": {
	    "collapsed": true
	   },
	   "outputs": [],
"source": [
"//Exa 3.5\n",
"clc;\n",
"clear;\n",
"close;\n",
"//Given Data :\n",
"format('v',7);\n",
"m=75-45;//in meter\n",
"L=300;//in meter\n",
"T=2500;//in Kg\n",
"w=0.9;//in kg/meter\n",
"x=L/2-T*m/(w*L);//in meters\n",
"disp(x,'x=');\n",
"disp('The negative sign of x shows that point A is on the side of O.');\n",
"x=L/2-x;//in meter\n",
"disp('Centre point P from O is '+string(L/2-x)+' meters.');\n",
"y=w*x^2/(2*T);//in meter\n",
"disp('Height of point P, y= '+string(y))\n",
"x=L/2-T*m/(w*L);//in meters\n",
"z=w*(L-x)^2/(2*T);//in meters\n",
"disp('Height of B above O is, z='+string(z)+' meters.');\n",
"disp('The mid point of the line is '+string(z-y)+' meter below point B, i.e., '+string(75-(z-y))+' meter above water level.');"
   ]
   }
,
{
		   "cell_type": "markdown",
		   "metadata": {},
		   "source": [
			"## Example 3.6: Factor_of_safety.sce"
		   ]
		  },
  {
"cell_type": "code",
	   "execution_count": null,
	   "metadata": {
	    "collapsed": true
	   },
	   "outputs": [],
"source": [
"//Exa 3.6\n",
"clc;\n",
"clear;\n",
"close;\n",
"//Given Data :\n",
"format('v',5);\n",
"L=60;//in meter\n",
"S=25*10^-2;//in meter\n",
"A=61.36;//in mm^2(cross sectional area)\n",
"W=0.5445;//in Kg/m\n",
"UTS=42.20;//in Kg/mm^2\n",
"T=W*L^2/(8*S);//in Kg\n",
"B_strength=UTS*A;//in Kg\n",
"SafetyFactor=B_strength/T;//unitless\n",
"disp(SafetyFactor,'Factor of safety : ');"
   ]
   }
,
{
		   "cell_type": "markdown",
		   "metadata": {},
		   "source": [
			"## Example 3.7: Maximum_sag.sce"
		   ]
		  },
  {
"cell_type": "code",
	   "execution_count": null,
	   "metadata": {
	    "collapsed": true
	   },
	   "outputs": [],
"source": [
"//Exa 3.7\n",
"clc;\n",
"clear;\n",
"close;\n",
"//Given Data :\n",
"format('v',5);\n",
"L=220;//in meter\n",
"W=0.604;//in Kg/m\n",
"T_strength=5758;//in Kg\n",
"SafetyFactor=2;//unitless\n",
"T=T_strength/SafetyFactor;//in Kg\n",
"S=W*L^2/(8*T);//in meter\n",
"disp(S,'Sag(in meter) : ');"
   ]
   }
,
{
		   "cell_type": "markdown",
		   "metadata": {},
		   "source": [
			"## Example 3.8: Height_above_the_ground.sce"
		   ]
		  },
  {
"cell_type": "code",
	   "execution_count": null,
	   "metadata": {
	    "collapsed": true
	   },
	   "outputs": [],
"source": [
"//Exa 3.8\n",
"clc;\n",
"clear;\n",
"close;\n",
"//Given Data :\n",
"format('v',6);\n",
"W=850/1000;//in Kg/m\n",
"US=7950;//in kg\n",
"L=275;//in meter\n",
"h=8;//in meter(ground clearance)\n",
"SafetyFactor=2;//unitless\n",
"T=US/SafetyFactor;//in Kg\n",
"S=W*L^2/(8*T);//in meter\n",
"H=h+S;//in meter\n",
"disp(H,'Height above the ground(in meter): ');"
   ]
   }
,
{
		   "cell_type": "markdown",
		   "metadata": {},
		   "source": [
			"## Example 3.9: Voltge_distribution_and_string_efficiency.sce"
		   ]
		  },
  {
"cell_type": "code",
	   "execution_count": null,
	   "metadata": {
	    "collapsed": true
	   },
	   "outputs": [],
"source": [
"//Exa 3.9\n",
"clc;\n",
"clear;\n",
"close;\n",
"//Given Data :\n",
"format('v',5);\n",
"m=1/9;//unitless\n",
"EL=33;//in KV\n",
"EbyE1=1+(1+m)+(1+3*m+m^2);//assumed\n",
"E=EL/sqrt(3);//in KV\n",
"E1=E/EbyE1;//in KV\n",
"disp(E1,'E1(in KV) :');\n",
"E2=(1+m)*E1;//in KV\n",
"disp(E2,'E2(in KV) :');\n",
"E3=(1+3*m+m^2)*E1;//in KV\n",
"disp(E3,'E3(in KV) :');\n",
"E=E1+E2+E3;//in KV\n",
"disp(E);\n",
"Eff=E/(3*E3);\n",
"disp(Eff*100,'String Efficiency(in %) : ');"
   ]
   }
],
"metadata": {
		  "kernelspec": {
		   "display_name": "Scilab",
		   "language": "scilab",
		   "name": "scilab"
		  },
		  "language_info": {
		   "file_extension": ".sce",
		   "help_links": [
			{
			 "text": "MetaKernel Magics",
			 "url": "https://github.com/calysto/metakernel/blob/master/metakernel/magics/README.md"
			}
		   ],
		   "mimetype": "text/x-octave",
		   "name": "scilab",
		   "version": "0.7.1"
		  }
		 },
		 "nbformat": 4,
		 "nbformat_minor": 0
}
