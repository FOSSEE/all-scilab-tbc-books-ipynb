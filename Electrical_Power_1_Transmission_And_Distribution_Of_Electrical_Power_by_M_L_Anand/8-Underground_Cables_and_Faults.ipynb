{
"cells": [
 {
		   "cell_type": "markdown",
	   "metadata": {},
	   "source": [
       "# Chapter 8: Underground Cables and Faults"
	   ]
	},
{
		   "cell_type": "markdown",
		   "metadata": {},
		   "source": [
			"## Example 8.1: Thickness_of_Insulation.sce"
		   ]
		  },
  {
"cell_type": "code",
	   "execution_count": null,
	   "metadata": {
	    "collapsed": true
	   },
	   "outputs": [],
"source": [
"//Exa 8.1\n",
"clc;\n",
"clear;\n",
"close;\n",
"//given data\n",
"R=500;//in Mohm/Km\n",
"R=R*10^6;//in ohm\n",
"r1=2.5/2;//in cm\n",
"r1=r1*10^-2;//in meter\n",
"rho=4.5*10^16;//in ohm/cm\n",
"rho=rho*10^-2;//in ohm/m\n",
"l=1;//in Km\n",
"l=l*1000;//in meter\n",
"//Formula : R=(rho/(2*%pi*l))*log(r2/r1)\n",
"r2=(exp(R/(rho/(2*%pi*l))))*r1;//in meter\n",
"thickness=r2-r1;//in meter\n",
"thickness=thickness*100;//in cm\n",
"disp(thickness,'Thickness of Insulation in cm :');"
   ]
   }
,
{
		   "cell_type": "markdown",
		   "metadata": {},
		   "source": [
			"## Example 8.2: Capacitance_of_1_Km.sce"
		   ]
		  },
  {
"cell_type": "code",
	   "execution_count": null,
	   "metadata": {
	    "collapsed": true
	   },
	   "outputs": [],
"source": [
"//Exa 8.2\n",
"clc;\n",
"clear;\n",
"close;\n",
"//given data\n",
"d=1;//in cm\n",
"d=d*10^-2;//in meter\n",
"D=1.8;//in cm\n",
"D=D*10^-2;//in meter\n",
"epsilon_r=4;//permittivity of insulation\n",
"C=0.024*epsilon_r/log10(D/d);//in uF/Km\n",
"disp(C,'Capacitance/km of the fibre in uF :  ');"
   ]
   }
,
{
		   "cell_type": "markdown",
		   "metadata": {},
		   "source": [
			"## Example 8.3: Maximum_stress_and_minimum_sttress.sce"
		   ]
		  },
  {
"cell_type": "code",
	   "execution_count": null,
	   "metadata": {
	    "collapsed": true
	   },
	   "outputs": [],
"source": [
"//Exa 8.3\n",
"clc;\n",
"clear;\n",
"close;\n",
"//given data\n",
"V=33;//in KV\n",
"d=1;//in cm\n",
"D=4;//in cm\n",
"//Part (a) :\n",
"gmax=2*V/(d*log(D/d));//in KV/cm\n",
"disp(gmax,'Maximum Stress in KV/cm');\n",
"//Part (b) :\n",
"gmin=2*V/(D*log(D/d));//in KV/cm\n",
"disp(round(gmin),'Minimum Stress in KV/cm');"
   ]
   }
,
{
		   "cell_type": "markdown",
		   "metadata": {},
		   "source": [
			"## Example 8.4: Most_Economical_size.sce"
		   ]
		  },
  {
"cell_type": "code",
	   "execution_count": null,
	   "metadata": {
	    "collapsed": true
	   },
	   "outputs": [],
"source": [
"//Exa 8.4\n",
"clc;\n",
"clear;\n",
"close;\n",
"//given data\n",
"Vrms=66;//in KV\n",
"gmax=40;;//in KV/cm\n",
"V=sqrt(2)*Vrms;//in Volt\n",
"//Part (a) : \n",
"d=2*V/gmax;//in cm\n",
"disp(d,'The most economical diameter in cm : ');\n",
"//Part (b) : \n",
"PeakVoltage=sqrt(2)*Vrms/sqrt(3);//in Volt\n",
"V=PeakVoltage;//in Volt\n",
"d=2*V/gmax;//in cm\n",
"disp(d,'The most economical diameter for 3 phase system in cm : ');"
   ]
   }
,
{
		   "cell_type": "markdown",
		   "metadata": {},
		   "source": [
			"## Example 8.5: Safe_working_potential_in_KV.sce"
		   ]
		  },
  {
"cell_type": "code",
	   "execution_count": null,
	   "metadata": {
	    "collapsed": true
	   },
	   "outputs": [],
"source": [
"//Exa 8.5\n",
"clc;\n",
"clear;\n",
"close;\n",
"//given data\n",
"d=2;//in cm\n",
"D=2.5*2;//in cm\n",
"d1=(5/4)*d;//in cm\n",
"d2=(5/3)*d;//in cm\n",
"gmax=40;//in KV/cm\n",
"PeakVoltage=(gmax/2)*[d*log(d1/d)+d1*log(d2/d1)+d2*log(D/d2)];//in KV\n",
"disp(PeakVoltage/sqrt(2),'The safe Working Potential in KV : ');"
   ]
   }
,
{
		   "cell_type": "markdown",
		   "metadata": {},
		   "source": [
			"## Example 8.6: Charging_current_on_33_KV.sce"
		   ]
		  },
  {
"cell_type": "code",
	   "execution_count": null,
	   "metadata": {
	    "collapsed": true
	   },
	   "outputs": [],
"source": [
"//Exa 8.6\n",
"clc;\n",
"clear;\n",
"close;\n",
"//given data\n",
"CN=0.4;//in uF\n",
"V=33;//in KV\n",
"VP=V/sqrt(3);//in KV\n",
"f=25;//in Hz\n",
"//Capacitance between 2 cores for 15 Km length\n",
"CN_1=15*CN;//in uF\n",
"//Capacitance of each core to neutral\n",
"CN=2*CN_1;//in uF\n",
"//Charging current per phase\n",
"I=2*%pi*f*VP*1000*CN*10^-6;//in Ampere\n",
"disp(round(I),'Charging current per phase in Ampere : ');"
   ]
   }
,
{
		   "cell_type": "markdown",
		   "metadata": {},
		   "source": [
			"## Example 8.7: Calculate_the_KVA_take.sce"
		   ]
		  },
  {
"cell_type": "code",
	   "execution_count": null,
	   "metadata": {
	    "collapsed": true
	   },
	   "outputs": [],
"source": [
" //Exa 8.7\n",
"clc;\n",
"clear;\n",
"close;\n",
"//given data\n",
"format('v',9);\n",
"l=10;//in Km\n",
"C=0.3;//in uF\n",
"V=22;//in KV\n",
"VP=V/sqrt(3);//in KV\n",
"VP=VP*1000;//in Volt\n",
"f=50;//in Hz\n",
"Capacitance=C*l;//in uF\n",
"CN=2*Capacitance;//in uF\n",
"KVA_Taken=3*VP*2*%pi*f*VP*CN*10/1000;//in KVA\n",
"disp(KVA_Taken,'KVA taken by the 10 Km cable(KVA) : ');"
   ]
   }
,
{
		   "cell_type": "markdown",
		   "metadata": {},
		   "source": [
			"## Example 8.8: Distance_of_fult_from_testing.sce"
		   ]
		  },
  {
"cell_type": "code",
	   "execution_count": null,
	   "metadata": {
	    "collapsed": true
	   },
	   "outputs": [],
"source": [
"//Exa 8.8\n",
"clc;\n",
"clear;\n",
"close;\n",
"//given data\n",
"format('v',9);\n",
"P=10;//in Ohm\n",
"Q=80;//in Ohm\n",
"S2=3400;//in Ohm\n",
"S1=2400;//in Ohm\n",
"X=P*(S2-S1)/(P+Q);//in Ohm\n",
"LoopResistance=P*S2/Q;//in Ohm\n",
"ResistancePerKm=LoopResistance/10;//in Ohm\n",
"Distance=X/ResistancePerKm;//in Km\n",
"disp(Distance,'Distance of fault from testing end in Km : ');"
   ]
   }
,
{
		   "cell_type": "markdown",
		   "metadata": {},
		   "source": [
			"## Example 8.9: Distance_of_fault_from_testing.sce"
		   ]
		  },
  {
"cell_type": "code",
	   "execution_count": null,
	   "metadata": {
	    "collapsed": true
	   },
	   "outputs": [],
"source": [
"//Exa 8.9\n",
"clc;\n",
"clear;\n",
"close;\n",
"//given data\n",
"format('v',9);\n",
"Resistance=1.6;//in ohm/Km\n",
"l=1000;//in meter\n",
"PbyQ=3;//unitless\n",
"PplusQbyQ=4;//unitless\n",
"LoopResistance=(Resistance/1000)*2*l;//in Ohm\n",
"X=(1/PplusQbyQ)*LoopResistance;//in Ohm\n",
"Distance=X/(Resistance/1000);//in meter\n",
"disp(Distance,'Distance of Fault from testing end in meters : ');"
   ]
   }
],
"metadata": {
		  "kernelspec": {
		   "display_name": "Scilab",
		   "language": "scilab",
		   "name": "scilab"
		  },
		  "language_info": {
		   "file_extension": ".sce",
		   "help_links": [
			{
			 "text": "MetaKernel Magics",
			 "url": "https://github.com/calysto/metakernel/blob/master/metakernel/magics/README.md"
			}
		   ],
		   "mimetype": "text/x-octave",
		   "name": "scilab",
		   "version": "0.7.1"
		  }
		 },
		 "nbformat": 4,
		 "nbformat_minor": 0
}
