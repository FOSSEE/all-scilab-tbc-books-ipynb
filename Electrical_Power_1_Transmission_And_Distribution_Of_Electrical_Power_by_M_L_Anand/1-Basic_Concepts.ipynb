{
"cells": [
 {
		   "cell_type": "markdown",
	   "metadata": {},
	   "source": [
       "# Chapter 1: Basic Concepts"
	   ]
	},
{
		   "cell_type": "markdown",
		   "metadata": {},
		   "source": [
			"## Example 1.1: Line_current_and_Power_Consumed.sce"
		   ]
		  },
  {
"cell_type": "code",
	   "execution_count": null,
	   "metadata": {
	    "collapsed": true
	   },
	   "outputs": [],
"source": [
"//Exa 1.1\n",
"clc;\n",
"clear;\n",
"close;\n",
"//Given data : \n",
"format('v',6);\n",
"R=4;//in ohm\n",
"XL=3;//in ohm\n",
"VL=400;//in volt\n",
"Vph=VL/sqrt(3);//in volt\n",
"Zph=sqrt(R^2+XL^2);//in ohm\n",
"Iph=Vph/Zph;//in Ampere\n",
"//In star connected IL=Iph\n",
"IL=Iph;//in Ampere\n",
"disp(IL,'Line Current (in A) :');\n",
"cosfi=R/Zph;//unitless\n",
"PowerConsumed=sqrt(3)*VL*IL*cosfi;//in watts\n",
"disp(PowerConsumed,'Total power consumed by the load (in Watts)');"
   ]
   }
,
{
		   "cell_type": "markdown",
		   "metadata": {},
		   "source": [
			"## Example 1.2: Value_of_resistor_and_chane_in_line_Voltage.sce"
		   ]
		  },
  {
"cell_type": "code",
	   "execution_count": null,
	   "metadata": {
	    "collapsed": true
	   },
	   "outputs": [],
"source": [
"//Exa 1.2\n",
"clc;\n",
"clear;\n",
"close;\n",
"//Given data : \n",
"format('v',6);\n",
"VL=440;//in volt\n",
"IL=10;//in Ampere\n",
"//In star connected :\n",
"disp('In star connected :');\n",
"Iph=IL;//in Ampere\n",
"Vph=VL/sqrt(3);//in volt\n",
"Rph=Vph/Iph;//in ohm\n",
"disp(Rph,'Value of each resistor(in ohm) :');\n",
"//In delta connected :\n",
"disp('In delta connected :');\n",
"Iph=IL/sqrt(3);//in Ampere\n",
"Vph=Iph*Rph;//in volt\n",
"disp(Vph,'Voltage in delta connection(in volt) :');\n",
"disp('Voltage needed is 1/3rd, the voltage in star connection.')"
   ]
   }
,
{
		   "cell_type": "markdown",
		   "metadata": {},
		   "source": [
			"## Example 1.3: Line_current_power_factor_and_power_consumed.sce"
		   ]
		  },
  {
"cell_type": "code",
	   "execution_count": null,
	   "metadata": {
	    "collapsed": true
	   },
	   "outputs": [],
"source": [
"//Exa 1.3\n",
"clc;\n",
"clear;\n",
"close;\n",
"//Given Data :\n",
"format('v',6);\n",
"R=16;//in ohm\n",
"L=38.2;//in mH\n",
"L=38.2*10^-3;//in H\n",
"VL=400;//in volt\n",
"f=50;//in Hz\n",
"XL=2*%pi*f*L;//in ohm\n",
"Zph=sqrt(R^2+XL^2);//in ohm\n",
"//In star connected :\n",
"Vph=VL/sqrt(3);//in volt\n",
"Iph=Vph/Zph;//in Ampere\n",
"IL=Iph;//in Ampere\n",
"disp(IL,'Line Current (in A) :');\n",
"cosfi=R/Zph;//unitless\n",
"disp(cosfi,'Power factor : ');\n",
"P=sqrt(3)*VL*IL*cosfi;//in watts\n",
"disp(P/10^3,'Total power consumed by the load (in kW)');"
   ]
   }
,
{
		   "cell_type": "markdown",
		   "metadata": {},
		   "source": [
			"## Example 1.4: Phase_current_and_line_current.sce"
		   ]
		  },
  {
"cell_type": "code",
	   "execution_count": null,
	   "metadata": {
	    "collapsed": true
	   },
	   "outputs": [],
"source": [
"//Exa 1.4\n",
"clc;\n",
"clear;\n",
"close;\n",
"//Given Data :\n",
"format('v',6);\n",
"R=15;//in ohm\n",
"X=40;//in ohm\n",
"VL=440;//in volt\n",
"//In delta connection : \n",
"Vph=VL;//in volt\n",
"Zph=sqrt(R^2+X^2);//in ohm\n",
"Iph=Vph/Zph;//in Ampere\n",
"disp(Iph,'Phase Current(in A) :');\n",
"IL=Iph*sqrt(3);//in Ampere\n",
"disp(IL,'Linee Current(in A) :');"
   ]
   }
],
"metadata": {
		  "kernelspec": {
		   "display_name": "Scilab",
		   "language": "scilab",
		   "name": "scilab"
		  },
		  "language_info": {
		   "file_extension": ".sce",
		   "help_links": [
			{
			 "text": "MetaKernel Magics",
			 "url": "https://github.com/calysto/metakernel/blob/master/metakernel/magics/README.md"
			}
		   ],
		   "mimetype": "text/x-octave",
		   "name": "scilab",
		   "version": "0.7.1"
		  }
		 },
		 "nbformat": 4,
		 "nbformat_minor": 0
}
