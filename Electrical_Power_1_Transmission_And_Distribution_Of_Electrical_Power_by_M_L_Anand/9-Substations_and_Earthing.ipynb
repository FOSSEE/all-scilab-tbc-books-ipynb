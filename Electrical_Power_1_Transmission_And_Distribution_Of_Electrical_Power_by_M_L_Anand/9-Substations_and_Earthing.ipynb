{
"cells": [
 {
		   "cell_type": "markdown",
	   "metadata": {},
	   "source": [
       "# Chapter 9: Substations and Earthing"
	   ]
	},
{
		   "cell_type": "markdown",
		   "metadata": {},
		   "source": [
			"## Example 9.1: Rating_of_peterson_coil.sce"
		   ]
		  },
  {
"cell_type": "code",
	   "execution_count": null,
	   "metadata": {
	    "collapsed": true
	   },
	   "outputs": [],
"source": [
"//Exa 9.1\n",
"clc;\n",
"clear;\n",
"close;\n",
"//Given Data :\n",
"format('v',5);\n",
"V=250;//in volt\n",
"f=50;//in Hz\n",
"l=300;//in km\n",
"C_earth=0.03;//in uF\n",
"C=l*C_earth*10^-6;//in F\n",
"XL=1/(3*2*%pi*f*C);//in ohm\n",
"disp(XL,'Reactance required for the Peterson coil(in ohm) :');"
   ]
   }
],
"metadata": {
		  "kernelspec": {
		   "display_name": "Scilab",
		   "language": "scilab",
		   "name": "scilab"
		  },
		  "language_info": {
		   "file_extension": ".sce",
		   "help_links": [
			{
			 "text": "MetaKernel Magics",
			 "url": "https://github.com/calysto/metakernel/blob/master/metakernel/magics/README.md"
			}
		   ],
		   "mimetype": "text/x-octave",
		   "name": "scilab",
		   "version": "0.7.1"
		  }
		 },
		 "nbformat": 4,
		 "nbformat_minor": 0
}
