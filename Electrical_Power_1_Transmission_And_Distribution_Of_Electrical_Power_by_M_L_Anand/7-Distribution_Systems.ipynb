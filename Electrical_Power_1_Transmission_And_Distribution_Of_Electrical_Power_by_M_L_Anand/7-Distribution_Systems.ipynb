{
"cells": [
 {
		   "cell_type": "markdown",
	   "metadata": {},
	   "source": [
       "# Chapter 7: Distribution Systems"
	   ]
	},
{
		   "cell_type": "markdown",
		   "metadata": {},
		   "source": [
			"## Example 7.10: Potential_at_P.sce"
		   ]
		  },
  {
"cell_type": "code",
	   "execution_count": null,
	   "metadata": {
	    "collapsed": true
	   },
	   "outputs": [],
"source": [
"//Exa 7.10\n",
"clc;\n",
"clear;\n",
"close;\n",
"//Given data : \n",
"format('v',7);\n",
"l=300;//in meter\n",
"I=0.75;//in A/m\n",
"R=0.00018;//in ohm/m\n",
"x=200;//in meter\n",
"Vs=250;//in volt\n",
"VD=I*R*(l*x-x^2/2);//in volt\n",
"V_A=Vs-VD;//in volt(Voltage at 200m from end A)\n",
"disp(V_A,'Voltage as 200m from supply end A(in volts) :');"
   ]
   }
,
{
		   "cell_type": "markdown",
		   "metadata": {},
		   "source": [
			"## Example 7.11: Current_supplied_at_end_A_and_B.sce"
		   ]
		  },
  {
"cell_type": "code",
	   "execution_count": null,
	   "metadata": {
	    "collapsed": true
	   },
	   "outputs": [],
"source": [
"//Exa 7.11\n",
"clc;\n",
"clear;\n",
"close;\n",
"//Given data : \n",
"format('v',7);\n",
"l=600;//in meter\n",
"VA=440;//in volt\n",
"VB=400;//in volt\n",
"R=0.01;//in ohm/100m\n",
"RAC=(R/100)*300;//in ohm\n",
"RCD=(R/100)*300;//in ohm\n",
"RDE=(R/100)*100;//in ohm\n",
"REF=(R/100)*200;//in ohm\n",
"RFB=(R/100)*300;//in ohm\n",
"//VA-VB=VAC+VCD+VDE+VEF+VFB;//in volt\n",
"IA=(VA-VB+42.5)/(0.12);//in Ampere\n",
"IAC=IA;ICD=IA-100;IDE=IA-300;IFE=IA-550;IFB=IA-850;//in Ampere\n",
"disp(IAC,'Current fed at A, IA(in A):');\n",
"disp(-IFB,'Current fed at B, IB(in A):');"
   ]
   }
,
{
		   "cell_type": "markdown",
		   "metadata": {},
		   "source": [
			"## Example 7.12: Minimum_potential_and_Current_supplied.sce"
		   ]
		  },
  {
"cell_type": "code",
	   "execution_count": null,
	   "metadata": {
	    "collapsed": true
	   },
	   "outputs": [],
"source": [
"//Exa 7.12\n",
"clc;\n",
"clear;\n",
"close;\n",
"//Given data : \n",
"format('v',7);\n",
"VA=220;//in volt\n",
"VB=200;//in volt\n",
"R=0.1;//in ohm/km\n",
"I=1;//in A/m\n",
"l=500;//in meter\n",
"R=2*R/1000;//in ohm/m\n",
"x=(VA-VB)/(I*R*l)+l/2;//in meter\n",
"Vmin=VA-I*R*x^2/2;//in volts\n",
"disp(Vmin,'Value of minimum potential(in V) :');\n",
"IA=I*x;//in A\n",
"disp(IA,'Current supplied from end A(in A) :');\n",
"IB=I*(l-x);//in A\n",
"disp(IB,'Current supplied from end B(in A) :');"
   ]
   }
,
{
		   "cell_type": "markdown",
		   "metadata": {},
		   "source": [
			"## Example 7.13: Feeding_end_voltage.sce"
		   ]
		  },
  {
"cell_type": "code",
	   "execution_count": null,
	   "metadata": {
	    "collapsed": true
	   },
	   "outputs": [],
"source": [
"//Exa 7.13\n",
"clc;\n",
"clear;\n",
"close;\n",
"//Given data : \n",
"format('v',7);\n",
"VL=240;//in volt\n",
"Router=0.2;//in ohm\n",
"I1=VL/5;//in Ampere\n",
"I2=VL/6;//in Ampere\n",
"Ineutral=I1-I2;//in Ampere\n",
"//Applying KVL on +ve side\n",
"V1=VL+I1*0.2+8*0.4;//in volt\n",
"disp(V1,'Voltage at +ve side(in V): ');\n",
"//Applying KVL on +ve side\n",
"V2=VL-(8*0.4)+I2*0.2;//in volt\n",
"disp(V2,'Voltage at -ve side(in V): ');"
   ]
   }
,
{
		   "cell_type": "markdown",
		   "metadata": {},
		   "source": [
			"## Example 7.14: Voltage_at_the_load_end.sce"
		   ]
		  },
  {
"cell_type": "code",
	   "execution_count": null,
	   "metadata": {
	    "collapsed": true
	   },
	   "outputs": [],
"source": [
"//Exa 7.14\n",
"clc;\n",
"clear;\n",
"close;\n",
"//Given data : \n",
"format('v',7);\n",
"//Applying KVL on +ve side\n",
"V1=200-(600*0.015)-(100)*0.03;//in volt\n",
"disp(V1,'Voltage at +ve side(in V): ');\n",
"//Applying KVL on -ve side\n",
"V2=200-(-100*0.03)-500*0.0015;//in volt\n",
"disp(V2,'Voltage at -ve side(in V): ');\n",
"//Note : answer of 2nd part is wrong in the book."
   ]
   }
,
{
		   "cell_type": "markdown",
		   "metadata": {},
		   "source": [
			"## Example 7.15: Potential_at_points.sce"
		   ]
		  },
  {
"cell_type": "code",
	   "execution_count": null,
	   "metadata": {
	    "collapsed": true
	   },
	   "outputs": [],
"source": [
"//Exa 7.15\n",
"clc;\n",
"clear;\n",
"close;\n",
"//Given data : \n",
"format('v',7);\n",
"//VD in section AC from RHS: VD1=(40+x)*0.02+0.17*x\n",
"//VD in section AC from LHS: VD2=(350-x)*0.015+(150-x)*0.03\n",
"//Equating two VDs we get\n",
"//x*0.02+0.17*x+0.015*x+x*0.03=350*0.015+150*0.03-40*0.02\n",
"x=(350*0.015+150*0.03-40*0.02)/0.082;//in A\n",
"VB=500-(x+40)*0.02;//in volts\n",
"disp(VB,'Potential at point B(in V) :');\n",
"VC=VB-(x*0.017);//in volts\n",
"disp(VC,'Potential at point C(in V) :');\n",
"VD=500-(350-x)*0.015;//in volts\n",
"disp(VD,'Potential at point D(in V) :');\n",
"//Note : Answer of 3rd part is given wrong in the book."
   ]
   }
,
{
		   "cell_type": "markdown",
		   "metadata": {},
		   "source": [
			"## Example 7.16: Point_of_minimum_potential.sce"
		   ]
		  },
  {
"cell_type": "code",
	   "execution_count": null,
	   "metadata": {
	    "collapsed": true
	   },
	   "outputs": [],
"source": [
"//Exa 7.16\n",
"clc;\n",
"clear;\n",
"close;\n",
"//Given data : \n",
"format('v',5);\n",
"//Applying KVL in loop AFEDA: (0.016*x)+0.09*(x-30)+0.14*(x-17)-0.1*y=0\n",
"//Applying KVL in loop ADCBA: 0.1*y-0.12*(95-x-y)-.01*(145-x-y)-0.008*(165-x-y)=0\n",
"//Equating two equtions we get\n",
"//3.9*x-125=97.75-0.75*x\n",
"x=(97.75+125)/(3.9+0.75);//in A\n",
"y=97.75-0.75*x;//in A\n",
"disp(x,'x(in A)=');\n",
"disp(y,'y(in A)=');\n",
"disp('Thus the point of minimum ppotential is E.');"
   ]
   }
,
{
		   "cell_type": "markdown",
		   "metadata": {},
		   "source": [
			"## Example 7.17: Maximum_voltage_drop_and_minimum_potential.sce"
		   ]
		  },
  {
"cell_type": "code",
	   "execution_count": null,
	   "metadata": {
	    "collapsed": true
	   },
	   "outputs": [],
"source": [
"//Exa 7.17\n",
"clc;\n",
"clear;\n",
"close;\n",
"//Given data : \n",
"format('v',7);\n",
"V=200;//in volt\n",
"I=1;//in A/m\n",
"R=2*0.05/1000;//in ohm/m\n",
"l=1*1000;//in meter\n",
"IT=I*l;//in Ampere\n",
"RT=R*l;//in ohm\n",
"VD=IT*RT/8;//in volt\n",
"Vmin=V-VD;//in volt\n",
"disp(Vmin,'Minimum potential occurs at the mid point & is(in V) : ');"
   ]
   }
,
{
		   "cell_type": "markdown",
		   "metadata": {},
		   "source": [
			"## Example 7.18: Voltages_at_ands_A_and_C.sce"
		   ]
		  },
  {
"cell_type": "code",
	   "execution_count": null,
	   "metadata": {
	    "collapsed": true
	   },
	   "outputs": [],
"source": [
"//Exa 7.18\n",
"clc;\n",
"clear;\n",
"close;\n",
"//Given data : \n",
"format('v',7);\n",
"VB=400;//in volt\n",
"ZAC=0.04+%i*0.08;//in ohm\n",
"ZCB=0.08+%i*0.12;//in ohm\n",
"I1=60*(0.8-%i*0.6);\n",
"I2=120*(0.8-%i*0.6);\n",
"VCB=I2*ZCB;//in Volt\n",
"VAC=(I1+I2)*ZAC;//in volt\n",
"VC=VB+I2*ZCB;//in Volt\n",
"disp(VC,'Voltage at C(in Volt) :');\n",
"VA=VC+(I1+I2)*ZAC;//in volt\n",
"disp(VA,'Voltage at A(in Volt) :');"
   ]
   }
,
{
		   "cell_type": "markdown",
		   "metadata": {},
		   "source": [
			"## Example 7.1: Voltage_drop_along_the_distributor.sce"
		   ]
		  },
  {
"cell_type": "code",
	   "execution_count": null,
	   "metadata": {
	    "collapsed": true
	   },
	   "outputs": [],
"source": [
"//Exa 7.1\n",
"clc;\n",
"clear;\n",
"close;\n",
"//Given data : \n",
"format('v',5);\n",
"l=1;//in km\n",
"I=100;//in Ampere\n",
"cosfi=0.8;//Power factor(lag) unitless\n",
"VC=200;//in volt\n",
"IL=60;//in Ampere\n",
"cosfi_load=0.9;//Power factor(lag) unitless\n",
"R=0.6;//in ohm\n",
"XL=0.08;//in ohm\n",
"IC=I*(0.8-%i*0.6);//in Ampere\n",
"z=(0.06+%i*0.08)/2;//in ohm\n",
"VD_BC=z*IC;//in volt\n",
"VB=VC+VD_BC;//in volt\n",
"IB=IL*(0.9-%i*0.4357)+IC;//in Ampere\n",
"VD_AB=z*IB;//in volt\n",
"disp(VD_AB,'V.D. from sending end to mid point(in volt) : ');\n",
"disp(VD_BC,'V.D. from mid point to the far end(in volt) : ');"
   ]
   }
,
{
		   "cell_type": "markdown",
		   "metadata": {},
		   "source": [
			"## Example 7.2: Position_and_value_of_minimum_potential_point.sce"
		   ]
		  },
  {
"cell_type": "code",
	   "execution_count": null,
	   "metadata": {
	    "collapsed": true
	   },
	   "outputs": [],
"source": [
"//Exa 7.2\n",
"clc;\n",
"clear;\n",
"close;\n",
"//Given data : \n",
"format('v',6);\n",
"l=500;//in meter\n",
"i=1;//in Ampere/meter\n",
"IL1=200; IL2=150; IL3=50; IL4=100;//in Ampere\n",
"l1=100; l2=200; l3=300; l4=400;//in meter\n",
"r=0.1;//in ohm/km\n",
"Vd=250;//in volt\n",
"//Drop_AC=100*(r/10^3)*(I-i*l1/2);\n",
"//Drop_CD=I;\n",
"//Drop_DE=100*r*(I-550)-I*100/2;\n",
"//Drop_EF=100*r*(I-700-I*100/2);\n",
"//Drop_FB=100*r*(I-900-I*100/2);\n",
"//VD_tot=0.05*I-27;//in volts\n",
"disp('As the both ends are fed with same voltage, VD should be equal to zero.');\n",
"I=27/0.05;//in Ampere\n",
"disp(I,'Curent(in Ampere) :');\n",
"Drop_AD=(0.01*I-0.5)+(0.01*I-3.5);\n",
"disp(Vd-Drop_AD,'Value at minimum potential at D(in V) :');\n",
"//Note : Ans in the book is wrong as 27/0.05 gives 540 instead of 54."
   ]
   }
,
{
		   "cell_type": "markdown",
		   "metadata": {},
		   "source": [
			"## Example 7.3: Current_in_various_sections.sce"
		   ]
		  },
  {
"cell_type": "code",
	   "execution_count": null,
	   "metadata": {
	    "collapsed": true
	   },
	   "outputs": [],
"source": [
"//Exa 7.3\n",
"clc;\n",
"clear;\n",
"close;\n",
"//Given data : \n",
"format('v',6);\n",
"l=250;//in meter\n",
"VA=230;//in volt\n",
"VB=232;//in volt\n",
"r=0.5;//in ohm/km\n",
"r=0.5/10^3;//in ohm/m\n",
"RAC=r*50*2;//in ohm\n",
"RCD=RAC;RDE=RAC;REF=RAC;RFB=RAC;//in ohm\n",
"//VA-VB=VAC+VCD+VDE+VEF+VFB;//in volt\n",
"Ia=(VA-VB+15)/(5*RAC);//in Ampere\n",
"IAC=Ia;ICD=IAC-20;IDE=IAC-60;IED=-IDE;IEF=IAC-100;IFE=-IEF;IFB=IAC-120;IBF=-IFB;//in Ampere\n",
"disp(IAC,'IAC(in A):');\n",
"disp(ICD,'ICD(in A):');\n",
"disp(IDE,'IDE(in A):');\n",
"disp(IED,'IED(in A):');\n",
"disp(IEF,'IEF(in A):');\n",
"disp(IFE,'IFE(in A):');\n",
"disp(IFB,'IFB(in A):');\n",
"disp(IBF,'IBF(in A):');\n",
"VAC=IAC*RAC;//in volt\n",
"VCD=ICD*RCD;//in volt\n",
"VD=VA-VAC-VCD;//in volt\n",
"disp(VD,'The minimum potential(in Volt) :');"
   ]
   }
,
{
		   "cell_type": "markdown",
		   "metadata": {},
		   "source": [
			"## Example 7.4: Current_in_various_sections.sce"
		   ]
		  },
  {
"cell_type": "code",
	   "execution_count": null,
	   "metadata": {
	    "collapsed": true
	   },
	   "outputs": [],
"source": [
"//Exa 7.4\n",
"clc;\n",
"clear;\n",
"close;\n",
"//Given data : \n",
"format('v',6);\n",
"VA=235;//in volt\n",
"VB=236;//in volt\n",
"l=200;//in meter\n",
"IL1=20; IL2=40; IL3=25; IL4=30;//in Ampere\n",
"l1=50; l2=75; l3=100; l4=50;//in meter\n",
"r=0.4;//in ohm/km\n",
"r=0.4/10^3;//in ohm/m\n",
"RAC=r*l1*2;//in ohm\n",
"RCD=r*(l2-l1)*2*RAC;RDE=r*(l2-l1)*2*RAC;REF=r*l1*2*RAC;RFB=r*l1*2*RAC;//in ohm\n",
"//VA-VB=VAC+VCD+VDE+VEF+VFB;//in volt\n",
"IA=(VA-VB+9.6)/(0.16);//in Ampere\n",
"IAC=IA;ICD=IA-IL1;IDE=IA-IL1-IL2;IEF=IA-IL1-IL2-IL3;IFB=IA-IL1-IL2-IL3-IL4;//in Ampere\n",
"disp(IAC,'IAC(in A):');\n",
"disp(ICD,'ICD(in A):');\n",
"disp(-IDE,'IED(in A):');\n",
"disp(-IEF,'IFE(in A):');\n",
"disp(-IFB,'IBF(in A):');\n",
"VAC=IAC*RAC;//in volt\n",
"VCD=ICD*RCD;//in volt\n",
"VD=VA-VAC-VCD;//in volt\n",
"disp(VD,'The minimum potential(in Volt) :');"
   ]
   }
,
{
		   "cell_type": "markdown",
		   "metadata": {},
		   "source": [
			"## Example 7.5: Voltages_at_B_and_C.sce"
		   ]
		  },
  {
"cell_type": "code",
	   "execution_count": null,
	   "metadata": {
	    "collapsed": true
	   },
	   "outputs": [],
"source": [
"//Exa 7.5\n",
"clc;\n",
"clear;\n",
"close;\n",
"//Given data : \n",
"format('v',6);\n",
"VA=400;//in volt\n",
"r=0.03;//in ohm/km\n",
"r=0.03/1000;//in ohm/m\n",
"RAB=r*500*2;//in ohm\n",
"RBC=r*300*2;//in ohm\n",
"RAB=r*700*2;//in ohm\n",
"RAB=r*500*2;//in ohm\n",
"//VA-VB=VAC+VCD+VDE+VEF+VFB;//in volt\n",
"IA=(17.4)/(0.09);//in Ampere\n",
"VAB=(RAB)*IA;//in volt\n",
"VB=VA-VAB;//in volt\n",
"disp(VB,'Voltage at B(in volts) :');\n",
"VBC=(RBC)*(IA-150);//in volt\n",
"VC=VB-VBC;//in volt\n",
"disp(VC,'Voltage at C(in volts) :');\n",
"IBC=IA-150;//in A\n",
"disp(IBC,'Current in section BC(in A) :');\n",
"//Note : answer of VB is wrong in the book."
   ]
   }
,
{
		   "cell_type": "markdown",
		   "metadata": {},
		   "source": [
			"## Example 7.6: Cross_setional_area_of_conductor.sce"
		   ]
		  },
  {
"cell_type": "code",
	   "execution_count": null,
	   "metadata": {
	    "collapsed": true
	   },
	   "outputs": [],
"source": [
"//Exa 7.6\n",
"clc;\n",
"clear;\n",
"close;\n",
"//Given data : \n",
"format('v',5);\n",
"VA=240;//in volt\n",
"MAxVDrop=VA*5/100;//in volt\n",
"rho=2.87*10^-6;//in ohm-cm \n",
"//VAB+VBC+VCA=0;//in volt\n",
"IA=(3200)/(26);//in Ampere\n",
"IAB=IA;//in Ampere\n",
"IBC=IA-100;//in Ampere\n",
"//Allowed voltage drop: IAB*RAB+IBC*RBC=12\n",
"R=12/(1015.26);//in ohm\n",
"RAB=R*300*2/100;//in ohm\n",
"RBC=R*600*2/100;//in ohm\n",
"RCA=R*400*2/100;//in ohm\n",
"//formula : R=rho*l/a\n",
"a=rho*(100*100)/R;//in cm^2\n",
"disp(a,'Cross section area(in cm^2) :');"
   ]
   }
,
{
		   "cell_type": "markdown",
		   "metadata": {},
		   "source": [
			"## Example 7.7: Total_voltage_drop_in_the_cable.sce"
		   ]
		  },
  {
"cell_type": "code",
	   "execution_count": null,
	   "metadata": {
	    "collapsed": true
	   },
	   "outputs": [],
"source": [
"//Exa 7.7\n",
"clc;\n",
"clear;\n",
"close;\n",
"//Given data : \n",
"format('v',6);\n",
"R=0.2;//in ohm/km\n",
"X=0.1;//in ohm/km\n",
"ZAM=((R+%i*X)/1000)*200;//in ohm\n",
"ZMB=((R+%i*X)/1000)*100;//in ohm\n",
"I1=100*(0.707-0.707*%i);//in A\n",
"I2=200*(0.8-0.6*%i);//in A\n",
"IAM=I1+I2;//in Ampere\n",
"VAM=ZAM*IAM;//in volts\n",
"VMB=ZMB*I2;//in volts\n",
"VAB=VAM+VMB;//in volts\n",
"magVAB=sqrt(real(VAB)^2+imag(VAB)^2);\n",
"disp(magVAB,'Total voltage drop(in volts) :');"
   ]
   }
,
{
		   "cell_type": "markdown",
		   "metadata": {},
		   "source": [
			"## Example 7.8: Voltage_at_mid_point_and_sending_voltage.sce"
		   ]
		  },
  {
"cell_type": "code",
	   "execution_count": null,
	   "metadata": {
	    "collapsed": true
	   },
	   "outputs": [],
"source": [
"//Exa 7.8\n",
"clc;\n",
"clear;\n",
"close;\n",
"//Given data : \n",
"format('v',6);\n",
"VB=200;//in volts\n",
"R=0.2;//in ohm/km\n",
"X=0.3;//in ohm/km\n",
"I=100;//in Ampere\n",
"ZAB=(R+%i*X);//in ohm\n",
"ZMB=ZAB/2;//in ohm\n",
"ZAM=ZMB;//in ohm\n",
"cosfi_1=0.6;//unitless\n",
"cosfi_2=0.8;//unitless\n",
"IMB=I*(cosfi_2-%i*cosfi_1);//in A\n",
"I2=IMB;//in Ampere\n",
"VMB=IMB*ZMB;//in volts\n",
"VM=VB+VMB;//in volts\n",
"disp(VM,'Voltage at M(in volt)');\n",
"fi=atand(imag(VM)/real(VM));//in degree\n",
"fi_1=acosd(cosfi_1);//in degree\n",
"fi_VBandI1=fi_1-fi;//in degree\n",
"I1=I*(cosd(fi_VBandI1)-%i*sind(fi_VBandI1));//in Ampere\n",
"IAM=I1+I2;//inA Ampere\n",
"VAM=ZAM*IAM;//in volts\n",
"VA=VM+VAM;//in volts\n",
"magVA=sqrt(real(VA)^2+imag(VA)^2);\n",
"disp(magVA,'Voltage at A, standing end voltage(in volts) :');"
   ]
   }
,
{
		   "cell_type": "markdown",
		   "metadata": {},
		   "source": [
			"## Example 7.9: Cross_setional_area_of_conductor.sce"
		   ]
		  },
  {
"cell_type": "code",
	   "execution_count": null,
	   "metadata": {
	    "collapsed": true
	   },
	   "outputs": [],
"source": [
"//Exa 7.9\n",
"clc;\n",
"clear;\n",
"close;\n",
"//Given data : \n",
"format('v',7);\n",
"l=500;//in meter\n",
"VA=200;//in volt\n",
"MAxVDrop=6;//in % of declared voltage \n",
"rho=0.014;//in ohm/m \n",
"//VD in the distributor=53*10^3*r\n",
"AllowedVD=VA*(6/100);//in volts\n",
"r=AllowedVD*10^6/(53*10^3);//in ohm/meter\n",
"//formula : R=rho*l/a\n",
"a=rho*(2*l)/r;//in m^2\n",
"disp(a,'Cross section area(in m^2) :');"
   ]
   }
],
"metadata": {
		  "kernelspec": {
		   "display_name": "Scilab",
		   "language": "scilab",
		   "name": "scilab"
		  },
		  "language_info": {
		   "file_extension": ".sce",
		   "help_links": [
			{
			 "text": "MetaKernel Magics",
			 "url": "https://github.com/calysto/metakernel/blob/master/metakernel/magics/README.md"
			}
		   ],
		   "mimetype": "text/x-octave",
		   "name": "scilab",
		   "version": "0.7.1"
		  }
		 },
		 "nbformat": 4,
		 "nbformat_minor": 0
}
