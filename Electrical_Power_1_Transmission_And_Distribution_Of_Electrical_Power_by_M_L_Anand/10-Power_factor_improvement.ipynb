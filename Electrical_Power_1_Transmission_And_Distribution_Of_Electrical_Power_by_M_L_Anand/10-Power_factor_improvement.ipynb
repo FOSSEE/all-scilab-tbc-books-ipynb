{
"cells": [
 {
		   "cell_type": "markdown",
	   "metadata": {},
	   "source": [
       "# Chapter 10: Power factor improvement"
	   ]
	},
{
		   "cell_type": "markdown",
		   "metadata": {},
		   "source": [
			"## Example 10.10: Input_of_synchronous_motor.sce"
		   ]
		  },
  {
"cell_type": "code",
	   "execution_count": null,
	   "metadata": {
	    "collapsed": true
	   },
	   "outputs": [],
"source": [
"//Exa 10.10\n",
"clc;\n",
"clear;\n",
"close;\n",
"//Given Data :\n",
"format('v',7);\n",
"P=1500;//in KW\n",
"cosfi_1=0.75;//powerfactor\n",
"tanfi_1=tand(acosd(cosfi_1));//unitless\n",
"Pr1=P*tanfi_1;//in KVAR\n",
"Pm=150;//in KW\n",
"P=P+Pm;//in KW\n",
"cosfi_2=0.9;//unitless\n",
"tanfi_2=tand(acosd(cosfi_2));//unitless\n",
"Pr=P*tanfi_2;//in KVAR\n",
"Prm=Pr-Pr1;//in KVAR\n",
"Pam=sqrt(Pm^2+Prm^2)\n",
"cosfi=Pm/Pam;//leading PF\n",
"disp(cosfi,'P.F. of synchronous motor(leading) :');"
   ]
   }
,
{
		   "cell_type": "markdown",
		   "metadata": {},
		   "source": [
			"## Example 10.11: Determine_the_saving.sce"
		   ]
		  },
  {
"cell_type": "code",
	   "execution_count": null,
	   "metadata": {
	    "collapsed": true
	   },
	   "outputs": [],
"source": [
"//Exa 10.11\n",
"clc;\n",
"clear;\n",
"close;\n",
"//Given Data :\n",
"format('v',7);\n",
"Load=100;//in KW\n",
"LoadPF=0.75;//powerfactor\n",
"x=100;//in Rs/KVA\n",
"y=600*(10/100);//in Rs.\n",
"cosfi_2=sqrt(1-(y/x)^2)\n",
"disp(cosfi_2,'P.F.(lag) is :');\n",
"MaxDemand1=Load/LoadPF;//in KW(at 0.75 load power factor)\n",
"MaxDemand2=Load/cosfi_2;//in KW(at cosfi_2 power factor)\n",
"AnnSaving=(MaxDemand1-MaxDemand2)*x;//in Rs.\n",
"cosfi_1=0.75;//powerfactor\n",
"tanfi_1=tand(acosd(cosfi_1));//unitless\n",
"tanfi_2=tand(acosd(cosfi_2));//unitless\n",
"KVAR1=Load*tanfi_1;//in KVAR\n",
"KVAR2=Load*cosfi_2;//in KVAR\n",
"Rating=KVAR1-KVAR2;//in KVAR\n",
"AnnualExpenditure=y*Rating;//in Rs.\n",
"AnnualSaving=AnnSaving-AnnualExpenditure;//in Rs.\n",
"disp(AnnualSaving,'Annual Savings(in Rs.) :');"
   ]
   }
,
{
		   "cell_type": "markdown",
		   "metadata": {},
		   "source": [
			"## Example 10.12: PF_of_synchronous_motor.sce"
		   ]
		  },
  {
"cell_type": "code",
	   "execution_count": null,
	   "metadata": {
	    "collapsed": true
	   },
	   "outputs": [],
"source": [
"//Exa 10.12\n",
"clc;\n",
"clear;\n",
"close;\n",
"//Given Data :\n",
"format('v',9);\n",
"//(i)\n",
"PHeater=50;//in KW\n",
"cosfi_1=1;//unitless\n",
"tanfi_1=tand(acosd(cosfi_1));//unitless\n",
"Pr1=PHeater*tanfi_1;//in KVAR\n",
"//(ii)\n",
"cosfi_2=0.7;//unitless\n",
"P2=200*735.5/(1000*0.8);//in KW\n",
"tanfi_2=tand(acosd(cosfi_2));//unitless\n",
"Pr2=P2*tanfi_2;//in KVAR\n",
"//(iii)\n",
"cosfi=0.9;//unitless New PF\n",
"P3=200*735.5/(1000*cosfi);//in KW\n",
"TotalActivePower=PHeater+P2+P3;//in KW\n",
"TotalReactivePower=Pr1+Pr2;//in KW\n",
"tanfi=tand(acosd(cosfi));//unitless\n",
"TotalPr=TotalActivePower*tanfi;//in KVAR\n",
"Pnn=TotalPr-TotalReactivePower;//in KVAR(ReactivePower of motor)\n",
"tanfi_mu=Pnn/P3;//unitless\n",
"cosfi_mu=cosd(atand(tanfi_mu));\n",
"disp(cosfi_mu,'PF of the synchronous motor :');\n",
"//Note : Answer in the book is wrong"
   ]
   }
,
{
		   "cell_type": "markdown",
		   "metadata": {},
		   "source": [
			"## Example 10.13: Limit_of_power_factor.sce"
		   ]
		  },
  {
"cell_type": "code",
	   "execution_count": null,
	   "metadata": {
	    "collapsed": true
	   },
	   "outputs": [],
"source": [
"//Exa 10.13\n",
"clc;\n",
"clear;\n",
"close;\n",
"//Given Data :\n",
"format('v',6);\n",
"x=60;//in Rs./KVA\n",
"x1=100;//in Rs/KVAR(cost of phase advancing equipment)\n",
"InterestCepriciation=x1*10/100;//in Rs.\n",
"y=10;//in Rs./KVAR\n",
"cosfi_2=sqrt(1-(y/x)^2);//unitless\n",
"disp(cosfi_2,'Most Ecomnomical PF(lag) :');"
   ]
   }
,
{
		   "cell_type": "markdown",
		   "metadata": {},
		   "source": [
			"## Example 10.14: Value_of_Capacitor.sce"
		   ]
		  },
  {
"cell_type": "code",
	   "execution_count": null,
	   "metadata": {
	    "collapsed": true
	   },
	   "outputs": [],
"source": [
"//Exa 10.14\n",
"clc;\n",
"clear;\n",
"close;\n",
"//Given Data :\n",
"format('v',9);\n",
"f=50;//in Hz\n",
"V=240;//in Volts\n",
"//(i)\n",
"Imoter=20;//in Ampere\n",
"cosfi_1=0.75;//unitless\n",
"ReacComponent1=Imoter*sqrt(1-cosfi_1^2);//in Ampere\n",
"//(ii)\n",
"cosfi_2=0.9;//unitless\n",
"P2=200*735.5/(1000*0.8);//in KW\n",
"ReacComponent2=Imoter*sqrt(1-cosfi_2^2);//in Ampere\n",
"Ic=ReacComponent1-ReacComponent2;//in Ampere(Leading reactive component)\n",
"C=Ic/(2*%pi*f*V);//in Farads\n",
"disp(round(C*10^6),'Capacitance of the capacitor(in uF) :');\n",
"//Power of the motor=5 KW\n",
"P=5;//in KW\n",
"tanfi_1=tand(acosd(cosfi_1));\n",
"tanfi_2=tand(acosd(cosfi_2));\n",
"LeadingKVAR=P*(tanfi_1-tanfi_2);//in KVAR\n",
"disp(round(LeadingKVAR),'Leading KVAR supplied by the capactor(in KVAR) :');\n",
"disp(LeadingKVAR/3,'KVAR supplied per phase : ');\n",
"//Note : Answer in the book is wrong"
   ]
   }
,
{
		   "cell_type": "markdown",
		   "metadata": {},
		   "source": [
			"## Example 10.15: Find_the_supplied_KVAR.sce"
		   ]
		  },
  {
"cell_type": "code",
	   "execution_count": null,
	   "metadata": {
	    "collapsed": true
	   },
	   "outputs": [],
"source": [
"//Exa 10.15\n",
"clc;\n",
"clear;\n",
"close;\n",
"//Given Data :\n",
"format('v',9);\n",
"f=50;//in Hz\n",
"V=240;//in Volts\n",
"TotalLoad=200+80;//in KW\n",
"cosfi_1=0.8;//unitless\n",
"tanfi_1=tand(acosd(cosfi_1));\n",
"cosfi_2=0.9;//unitless\n",
"tanfi_2=tand(acosd(cosfi_2));\n",
"//(i)\n",
"OA=200;//in KW\n",
"OD=280;//in KW\n",
"CM=OA*tanfi_1-OD*tanfi_2;//in KVAR\n",
"disp(CM,'Leading KVAR supplied by the motor(in KVAR) :');\n",
"//(ii)\n",
"BM=80;//in KW\n",
"CM=15.6;//in KW\n",
"KVA_Rating=sqrt(BM^2+CM^2);//in KVA\n",
"disp(KVA_Rating,'KVA rating(in KVA) :');\n",
"//(iii)\n",
"BC=KVA_Rating;//in KW\n",
"cosfi_m=BM/BC;//unitless\n",
"disp(cosfi_m,'P.F. Of the motor  : ');\n",
"//Note : Answer of (i) part is wrong in the book is wrong"
   ]
   }
,
{
		   "cell_type": "markdown",
		   "metadata": {},
		   "source": [
			"## Example 10.16: Most_economical_PF.sce"
		   ]
		  },
  {
"cell_type": "code",
	   "execution_count": null,
	   "metadata": {
	    "collapsed": true
	   },
	   "outputs": [],
"source": [
"//Exa 10.16\n",
"clc;\n",
"clear;\n",
"close;\n",
"//Given Data :\n",
"format('v',5);\n",
"x=80;//in Rs./KVA\n",
"x1=100;//in Rs/KVAR(cost of phase advancing equipment)\n",
"i=12;//in %\n",
"y=(i/100)*150;//in Rs./KVAR\n",
"cosfi_2=sqrt(1-(y/x)^2);//unitless\n",
"disp(cosfi_2,'Most Ecomnomical PF(lag) :');"
   ]
   }
,
{
		   "cell_type": "markdown",
		   "metadata": {},
		   "source": [
			"## Example 10.17: Most_economical_PF_and_annual_saving.sce"
		   ]
		  },
  {
"cell_type": "code",
	   "execution_count": null,
	   "metadata": {
	    "collapsed": true
	   },
	   "outputs": [],
"source": [
"//Exa 10.17\n",
"clc;\n",
"clear;\n",
"close;\n",
"//Given Data :\n",
"format('v',6);\n",
"P=300;//in KW\n",
"cosfi_1=0.7;//unitless\n",
"tanfi_1=tand(acosd(cosfi_1));\n",
"y=13;//in Rs./KVAR\n",
"x=130;//in Rs./KVA\n",
"cosfi_2=sqrt(1-(y/x)^2);//unitless\n",
"disp(cosfi_2,'Most Ecomnomical PF :');\n",
"tanfi_2=tand(acosd(cosfi_2));\n",
"//(ii)\n",
"LeadingKVAR=P*(tanfi_1-tanfi_2);//in KVAR\n",
"AnnSavingMD=x*[P/cosfi_1-P/cosfi_2];//in Rs.\n",
"AnnExpenditure=y*LeadingKVAR;//in Rs.\n",
"NetSaving=AnnSavingMD-AnnExpenditure;//in Rs.\n",
"disp(NetSaving,'Net Saving in Rs. :');\n",
"//Note : Answer in the book is not accurate."
   ]
   }
,
{
		   "cell_type": "markdown",
		   "metadata": {},
		   "source": [
			"## Example 10.1: Annual_saving_in_cost.sce"
		   ]
		  },
  {
"cell_type": "code",
	   "execution_count": null,
	   "metadata": {
	    "collapsed": true
	   },
	   "outputs": [],
"source": [
"//Exa 10.1\n",
"clc;\n",
"clear;\n",
"close;\n",
"//Given Data :\n",
"format('v',7);\n",
"Load=500;//in KW\n",
"cosfi_1=0.75;//powerfactor\n",
"x=40;//in Rs/year/KVA\n",
"x1=60;//cost of PF improvement equipment in Rs./KVAR\n",
"i=12;//in % per annum\n",
"y=x1*i/100;//in Rs.\n",
"cosfi_2=0.98;//unitless\n",
"KVA1=Load/cosfi_1;//in KVA(at 0.75 pf)\n",
"KVA2=Load/cosfi_2;//in KVA(at 0.98 pf)\n",
"AnnualSaving=x*(KVA1-KVA2);//in Rs.\n",
"fi_1=acosd(cosfi_1);//in degree\n",
"tanfi_1=tand(fi_1);//unitless\n",
"Pr1=Load*tanfi_1;//in KVAR\n",
"fi_2=acosd(cosfi_2);//in degree\n",
"tanfi_2=tand(fi_2);//unitless\n",
"Pr2=Load*tanfi_2;//in KVAR\n",
"Rating=Pr1-Pr2;//in KVAR\n",
"AnnualExpenditure=y*Rating;//in Rs.\n",
"NetSaving=AnnualSaving-AnnualExpenditure;//in Rs./year\n",
"disp(NetSaving,'Net saving per year(in Rs.) :');"
   ]
   }
,
{
		   "cell_type": "markdown",
		   "metadata": {},
		   "source": [
			"## Example 10.2: Rating_of_the_Heater.sce"
		   ]
		  },
  {
"cell_type": "code",
	   "execution_count": null,
	   "metadata": {
	    "collapsed": true
	   },
	   "outputs": [],
"source": [
"//Exa 10.2\n",
"clc;\n",
"clear;\n",
"close;\n",
"//Given Data :\n",
"format('v',7);\n",
"Eta=85;//in %\n",
"P=30;//in HP\n",
"P1=P*0.7355*Eta/100;//in KW\n",
"cosfi_1=0.8;//powerfactor\n",
"tanfi_1=tand(acosd(cosfi_1));//unitless\n",
"Pr=P1*tanfi_1;//in KVAR\n",
"//Let active power P2 : Total Active power = P1+P2\n",
"cosfi=0.9;//overall powerfactor\n",
"tanfi=tand(acosd(cosfi));//unitless\n",
"//Pr1=tanfi*(P1+P2);//in KVAR\n",
"//Putting Pr=Pr1\n",
"P2=(Pr-P1*tanfi)/tanfi;//in KW\n",
"disp(P2,'Rating of the heater(in KW) :');"
   ]
   }
,
{
		   "cell_type": "markdown",
		   "metadata": {},
		   "source": [
			"## Example 10.3: Capacity_of_the_condenser.sce"
		   ]
		  },
  {
"cell_type": "code",
	   "execution_count": null,
	   "metadata": {
	    "collapsed": true
	   },
	   "outputs": [],
"source": [
"//Exa 10.3\n",
"clc;\n",
"clear;\n",
"close;\n",
"//Given Data :\n",
"format('v',6);\n",
"Im=50;//in Ampere\n",
"f=50;//in Hz\n",
"V=400;//in volts\n",
"cosfi_1=0.6;//powerfactor\n",
"tanfi_1=tand(acosd(cosfi_1));//unitless\n",
"Ia=Im*cosfi_1;//in Ampere\n",
"Ir1=Ia*tanfi_1;//in Ampere\n",
"//Let the capaitor of C farads be connected to improve pf i.e., 0.9(lag) \n",
"cosfi_2=0.9;//powerfactor\n",
"tanfi_2=tand(acosd(cosfi_2));//unitless\n",
"Ir2=Ia*tanfi_2;//in Ampere\n",
"Ic=Ir1-Ir2;//in Ampere\n",
"C=Ic/(2*%pi*f*V);//in farads\n",
"disp(C*10^6,'Capacity of condenser(in uF) :');"
   ]
   }
,
{
		   "cell_type": "markdown",
		   "metadata": {},
		   "source": [
			"## Example 10.4: Value_of_shunt_capacitor.sce"
		   ]
		  },
  {
"cell_type": "code",
	   "execution_count": null,
	   "metadata": {
	    "collapsed": true
	   },
	   "outputs": [],
"source": [
"//Exa 10.4\n",
"clc;\n",
"clear;\n",
"close;\n",
"//Given Data :\n",
"format('v',7);\n",
"Im=10;//in Ampere\n",
"f=50;//in Hz\n",
"V=240;//in volts\n",
"cosfi_1=0.707;//powerfactor\n",
"sinfi_1=sind(acosd(cosfi_1));//unitless\n",
"Ir1=Im*sinfi_1;//in Ampere\n",
"cosfi_2=1;//powerfactor\n",
"Ir2=0;//in A(as cosfi_2=1)\n",
"Ic=Ir1-Ir2;//in Ampere\n",
"C=Ic/(2*%pi*f*V);//in farads\n",
"disp(C*10^6,'Capacity of condenser(in uF) :');"
   ]
   }
,
{
		   "cell_type": "markdown",
		   "metadata": {},
		   "source": [
			"## Example 10.5: Capacity_of_the_condenser.sce"
		   ]
		  },
  {
"cell_type": "code",
	   "execution_count": null,
	   "metadata": {
	    "collapsed": true
	   },
	   "outputs": [],
"source": [
"//Exa 10.5\n",
"clc;\n",
"clear;\n",
"close;\n",
"//Given Data :\n",
"format('v',6);\n",
"Im=30;//in Ampere\n",
"f=50;//in Hz\n",
"V=200;//in volts\n",
"cosfi_1=0.8;//powerfactor\n",
"Ia=Im*cosfi_1;//in Ampere\n",
"cosfi_2=1;//powerfactor\n",
"Ir2=0;//in A(as cosfi_2=1)\n",
"tanfi_1=tand(acosd(cosfi_1));//unitless\n",
"Ir1=Ia*tanfi_1;//in Ampere\n",
"Ic=Ir1-Ir2;//in Ampere\n",
"C=Ic/(2*%pi*f*V);//in farads\n",
"disp(C*10^6,'Capacity of condenser(in uF) :');"
   ]
   }
,
{
		   "cell_type": "markdown",
		   "metadata": {},
		   "source": [
			"## Example 10.6: Capacity_of_the_condenser.sce"
		   ]
		  },
  {
"cell_type": "code",
	   "execution_count": null,
	   "metadata": {
	    "collapsed": true
	   },
	   "outputs": [],
"source": [
"//Exa 10.6\n",
"clc;\n",
"clear;\n",
"close;\n",
"//Given Data :\n",
"format('v',7);\n",
"Im=30;//in Ampere\n",
"f=50;//in Hz\n",
"V=200;//in volts\n",
"cosfi_1=0.7;//powerfactor\n",
"Ia=Im*cosfi_1;//in Ampere\n",
"tanfi_1=tand(acosd(cosfi_1));//unitless\n",
"Ir1=Ia*tanfi_1;//in Ampere\n",
"cosfi_2=0.85;//powerfactor\n",
"tanfi_2=tand(acosd(cosfi_2));//unitless\n",
"Ir2=Ia*tanfi_2;//in Ampere\n",
"Ic=Ir1-Ir2;//in Ampere\n",
"C=Ic/(2*%pi*f*V);//in farads\n",
"disp(C*10^6,'Capacity of condenser(in uF) :');"
   ]
   }
,
{
		   "cell_type": "markdown",
		   "metadata": {},
		   "source": [
			"## Example 10.7: Determine_the_PF.sce"
		   ]
		  },
  {
"cell_type": "code",
	   "execution_count": null,
	   "metadata": {
	    "collapsed": true
	   },
	   "outputs": [],
"source": [
"//Exa 10.7\n",
"clc;\n",
"clear;\n",
"close;\n",
"//Given Data :\n",
"format('v',7);\n",
"//(i)\n",
"IMO=200;//in HP(Induction Motor output)\n",
"IMO=IMO*0.7355;//in KW(Induction Motor output)\n",
"LagEff=90;//in %\n",
"LagEff=90/100;//in fraction\n",
"MotorIn=IMO/(LagEff);//in KW\n",
"cosfi_1=0.75;//powerfactor\n",
"tanfi_1=tand(acosd(cosfi_1));//unitless\n",
"Pr1=MotorIn*tanfi_1;//in KVAR\n",
"//(ii)\n",
"P2=300;//in KW\n",
"cosfi_2=0.5;//unitless\n",
"tanfi_2=tand(acosd(cosfi_2));//unitless\n",
"Pr2=P2*tanfi_2;//in KVAR\n",
"//(iii)\n",
"P3=200;//in KW\n",
"cosfi_3=1;//unitless\n",
"tanfi_3=0;//unitless\n",
"Pr3=0;//in KVAR\n",
"//(iv)\n",
"PsynMotor=500;//in KW\n",
"Eff=93;//in %\n",
"Eff=93/100;//in fration\n",
"Input=PsynMotor/Eff;//in KW\n",
"Pa=MotorIn+P2+P3+PsynMotor;//in KW\n",
"P1=Pr1+Pr2+Pr3;//in KVAR\n",
"cosfi=1;//unitless\n",
"tanfi=0;//unitless\n",
"Pr=Pa*tanfi;//in KVAR\n",
"Prm=Pr-P1;//in KVAR\n",
"tanfi_m=Prm/Input\n",
"cosfi_m=cosd(atand(tanfi_m));//unitless\n",
"disp(cosfi_m,'P.F. of the motor(lead) :');\n",
"//Note : Answer in the book is wrong"
   ]
   }
,
{
		   "cell_type": "markdown",
		   "metadata": {},
		   "source": [
			"## Example 10.8: Capacity_of_each_condenser.sce"
		   ]
		  },
  {
"cell_type": "code",
	   "execution_count": null,
	   "metadata": {
	    "collapsed": true
	   },
	   "outputs": [],
"source": [
"//Exa 10.8\n",
"clc;\n",
"clear;\n",
"close;\n",
"//Given Data :\n",
"format('v',7);\n",
"f=50;//in Hz\n",
"V=400;//in volts\n",
"MotorOut=20;//in HP(Motor output)\n",
"MotorOut=MotorOut*735.5;//in Watts(Induction Motor output)\n",
"CorrectPF=0.85;//in fraction\n",
"MotorIn=MotorOut/(CorrectPF*1000);//in KW\n",
"cosfi_1=0.7071;//powerfactor\n",
"tanfi_1=tand(acosd(cosfi_1));//unitless\n",
"Pr1=MotorIn*tanfi_1;//in KVAR\n",
"cosfi_2=0.85;//unitless\n",
"tanfi_2=tand(acosd(cosfi_2));//unitless\n",
"Pr2=Pr1*tanfi_2;//in KVAR\n",
"Prc=Pr1-Pr2;//in KVAR\n",
"Prc_ph=Prc/3;//in KVAR\n",
"C=Prc_ph*10^3/(2*%pi*f*V^2)\n",
"disp(C*10^6,'Rating of each capacitor per phase(in uF)');"
   ]
   }
,
{
		   "cell_type": "markdown",
		   "metadata": {},
		   "source": [
			"## Example 10.9: Find_power_factor.sce"
		   ]
		  },
  {
"cell_type": "code",
	   "execution_count": null,
	   "metadata": {
	    "collapsed": true
	   },
	   "outputs": [],
"source": [
"//Exa 10.9\n",
"clc;\n",
"clear;\n",
"close;\n",
"//Given Data :\n",
"format('v',7);\n",
"Pa=500;//in KW\n",
"cosfi_1=0.7071;//powerfactor\n",
"tanfi_1=tand(acosd(cosfi_1));//unitless\n",
"Pr1=Pa*tanfi_1;//in KVAR\n",
"Pm=100;//in KW\n",
"P=Pa+Pm;//in KW\n",
"cosfi_2=0.95;//unitless\n",
"tanfi_2=tand(acosd(cosfi_2));//unitless\n",
"Pr=P*tanfi_2;//in KVAR\n",
"Prm=Pr-Pr1;//in KVAR\n",
"Pam=sqrt(Pm^2+Prm^2)\n",
"PFsynMotor=Pm/Pam;//leading PF\n",
"disp(PFsynMotor,'P.F. of synchronous motor(leading) :');"
   ]
   }
],
"metadata": {
		  "kernelspec": {
		   "display_name": "Scilab",
		   "language": "scilab",
		   "name": "scilab"
		  },
		  "language_info": {
		   "file_extension": ".sce",
		   "help_links": [
			{
			 "text": "MetaKernel Magics",
			 "url": "https://github.com/calysto/metakernel/blob/master/metakernel/magics/README.md"
			}
		   ],
		   "mimetype": "text/x-octave",
		   "name": "scilab",
		   "version": "0.7.1"
		  }
		 },
		 "nbformat": 4,
		 "nbformat_minor": 0
}
