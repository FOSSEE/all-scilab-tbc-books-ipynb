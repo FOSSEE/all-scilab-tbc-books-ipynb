{
"cells": [
 {
		   "cell_type": "markdown",
	   "metadata": {},
	   "source": [
       "# Chapter 11: Various types of Tariffs"
	   ]
	},
{
		   "cell_type": "markdown",
		   "metadata": {},
		   "source": [
			"## Example 11.10: Which_tariff_to_be_choose.sce"
		   ]
		  },
  {
"cell_type": "code",
	   "execution_count": null,
	   "metadata": {
	    "collapsed": true
	   },
	   "outputs": [],
"source": [
"//Exa 11.10\n",
"clc;\n",
"clear;\n",
"close;\n",
"//Given Data :\n",
"format('v',9); \n",
"MD=10;//in KW\n",
"Energy=50000;//in kwh/year(Annual consumption)\n",
"//(i) Rs. 100/KW/year max demand plus Rs. 0.20 paise per unit\n",
"//(ii) Simple tarrif 0.30 Rs./unit\n",
"C1=100;//in Rs.year/KW\n",
"C2=0.20;//in Rs. /unit\n",
"//Case (i)\n",
"AnnualBill1=C1*MD+C2*Energy;//in Rs.\n",
"disp(AnnualBill1,'Case(i) Annual Bill of tarrif 1 (in Rs.) :');\n",
"C=0.30;//in Rs. /unit\n",
"AnnualBill2=C*Energy;//in Rs.\n",
"disp(AnnualBill2,'Case(ii) Annual Bill of tarrif 2 (in Rs.) :');\n",
"disp('Naturally he will hoose the first tarrif.');"
   ]
   }
,
{
		   "cell_type": "markdown",
		   "metadata": {},
		   "source": [
			"## Example 11.1: Calculate_cost_per_unit.sce"
		   ]
		  },
  {
"cell_type": "code",
	   "execution_count": null,
	   "metadata": {
	    "collapsed": true
	   },
	   "outputs": [],
"source": [
"//Exa 11.1\n",
"clc;\n",
"clear;\n",
"close;\n",
"//Given Data :\n",
"format('v',6);\n",
"E=438000;//in kWh(Energy consumed per year)\n",
"pf=0.8;//unitless\n",
"cosfi=pf;//unitless\n",
"LoadFactor=40;//in %\n",
"//tarrif=Rs. 75/year/kw of max demand plus 3 paise per unit per reactive KVA\n",
"h=8760;//no. of years in a year\n",
"AvgLoad=E/h;//kw\n",
"MaxLoad=AvgLoad/(LoadFactor/100);//in kw\n",
"MaxLoad_KVA=MaxLoad/pf;//in KVA\n",
"tanfi=tand(acosd(cosfi));//unitless\n",
"ReactiveKVAR=h*tanfi*AvgLoad;//in KVA\n",
"AnnualBill=75*MaxLoad+(3/100)*E+(1.5/100)*ReactiveKVAR;//in Rs.\n",
"CostPerUnit=AnnualBill/E;//in Rs.\n",
"CostPerUnit=CostPerUnit*100;//in Paisa\n",
"disp(CostPerUnit,'Cost per unit(in Paisa) :');"
   ]
   }
,
{
		   "cell_type": "markdown",
		   "metadata": {},
		   "source": [
			"## Example 11.2: Calculate_cost_per_unit.sce"
		   ]
		  },
  {
"cell_type": "code",
	   "execution_count": null,
	   "metadata": {
	    "collapsed": true
	   },
	   "outputs": [],
"source": [
"//Exa 11.2\n",
"clc;\n",
"clear;\n",
"close;\n",
"//Given Data :\n",
"format('v',6);\n",
"//tarrif=Rs. 275/year/KVA of max demand plus 35 paise per unit\n",
"C1=275;//in Rs.year/KVA\n",
"C2=35;//in paisa/unit\n",
"LoadFactor=30;//in %/year\n",
"LoadFactor=30/100;//in fraction\n",
"//Let MaxDemand = x KW\n",
"//Case (i) PF=1\n",
"cosfi=1;//unitless\n",
"AnnualBillBYx=C1/cosfi+(C2/100)*LoadFactor*24*365;//in Rs.(Here 24*365 is for No. of hours in a year)\n",
"AnnualBill=AnnualBillBYx*100/(LoadFactor*24*365);//in paisa/unit\n",
"disp(AnnualBill,'Cost per unit(at unity power factor in paisa/unit) :');\n",
"//Case (i) PF=0.8\n",
"cosfi=0.8;//unitless\n",
"AnnualBillBYx=C1/cosfi+(C2/100)*LoadFactor*24*365;//in Rs.(Here 24*365 is for No. of hours in a year)\n",
"AnnualBill=AnnualBillBYx*100/(LoadFactor*24*365);//in paisa/unit\n",
"disp(AnnualBill,'Cost per unit(at 0.8 power factor in paisa/unit) :');"
   ]
   }
,
{
		   "cell_type": "markdown",
		   "metadata": {},
		   "source": [
			"## Example 11.3: Estimate_annual_payment.sce"
		   ]
		  },
  {
"cell_type": "code",
	   "execution_count": null,
	   "metadata": {
	    "collapsed": true
	   },
	   "outputs": [],
"source": [
"//Exa 11.3\n",
"clc;\n",
"clear;\n",
"close;\n",
"//Given Data :\n",
"format('v',9);\n",
"FixedLoad=200;//in kW\n",
"PF=0.8;//unitless\n",
"cosfi=PF;//unitless\n",
"h=10;//in hours/day\n",
"d=300;//in days\n",
"Time=h*d;//in hours\n",
"Energy=FixedLoad*Time;//in kwh/year\n",
"// (i) tarrif=Rs. 100/KVA/Annum plus 20 paise per kwh\n",
"C1=100;//in Rs.year/KVA\n",
"C2=20;//in paisa/kwh\n",
"KVA=FixedLoad/cosfi;//in KVA\n",
"AnnualBill=KVA*C1+(C2/100)*Energy;//in Rs.\n",
"disp(AnnualBill,' Case (i) Annual Payment(in Rs.) :');\n",
"// (ii) tarrif=Rs. 100/KW/Annum plus 20 paise per kwh plus 2 paise/KVARH\n",
"C1=100;//in Rs./year/KW\n",
"C2=20;//in paisa/kwh\n",
"C3=2;//in paisa/KVARH\n",
"tanfi=tand(acosd(cosfi));//unitless\n",
"ReactiveKVARH=FixedLoad*tanfi*Time;//in KVARH\n",
"AnnualBill=C1*FixedLoad+(C2/100)*Energy+(C3/100)*ReactiveKVARH;//in Rs.\n",
"disp(AnnualBill,' Case (ii) Annual Payment(in Rs.) :');"
   ]
   }
,
{
		   "cell_type": "markdown",
		   "metadata": {},
		   "source": [
			"## Example 11.4: Total_Annual_Electricity_Charges.sce"
		   ]
		  },
  {
"cell_type": "code",
	   "execution_count": null,
	   "metadata": {
	    "collapsed": true
	   },
	   "outputs": [],
"source": [
"//Exa 11.4\n",
"clc;\n",
"clear;\n",
"close;\n",
"//Given Data :\n",
"format('v',9);\n",
"Energy=180000;//in kwh\n",
"LoadFactor=45;//in %/year\n",
"LoadFactor=45/100;//in fraction\n",
"//Charges=Rs. 50/KW/Annum plus 8 paise per unit\n",
"C1=50;//in Rs.year/KW\n",
"C2=8;//in paisa/unit\n",
"h=365*24;//no. of hours per year\n",
"AvgLoad=Energy/h;//in KW\n",
"MaxLoad=AvgLoad/LoadFactor;//in KW\n",
"FixCharges=MaxLoad*C1;//in Rs.\n",
"PlusCharges=(C2/100)*Energy;//in rs.\n",
"TotalTarrif=FixCharges+PlusCharges;//in Rs.\n",
"disp(TotalTarrif,'Total Annual electricity charges(in Rs.) :');"
   ]
   }
,
{
		   "cell_type": "markdown",
		   "metadata": {},
		   "source": [
			"## Example 11.5: Annual_cost_of_Energy.sce"
		   ]
		  },
  {
"cell_type": "code",
	   "execution_count": null,
	   "metadata": {
	    "collapsed": true
	   },
	   "outputs": [],
"source": [
"//Exa 11.5\n",
"clc;\n",
"clear;\n",
"close;\n",
"//Given Data :\n",
"format('v',9);\n",
"Energy=25*10^6;//in kwh\n",
"MaxDemand=1600;//in KW\n",
"//(i) Rs. 70/KW max demand plus 2 paise per kwh\n",
"C1=70;//in Rs.year/KW\n",
"C2=2;//in paisa/unit\n",
"AnnualCost=MaxDemand*C1+(C2/100)*Energy;//in Rs.\n",
"disp(AnnualCost,'Case (i) Annual cost of energy(in Rs.) :');\n",
"//(ii) Annual cost at a flat rate of 5p/kwh\n",
"C=5;//in paisa/kwh\n",
"AnnualCost=(C/100)*Energy;//in Rs.\n",
"disp(AnnualCost,'Case (ii) Annual cost of energy(in Rs.) :');"
   ]
   }
,
{
		   "cell_type": "markdown",
		   "metadata": {},
		   "source": [
			"## Example 11.6: No_of_units_to_be_onsumed.sce"
		   ]
		  },
  {
"cell_type": "code",
	   "execution_count": null,
	   "metadata": {
	    "collapsed": true
	   },
	   "outputs": [],
"source": [
"//Exa 11.6\n",
"clc;\n",
"clear;\n",
"close;\n",
"//Given Data :\n",
"format('v',9);\n",
"MaxDemand=20;//in KW\n",
"//(i) Rs. 180/KW/annum max demand plus 15 paise per unit\n",
"//(ii) Flat rate tarrif 40 paise/unit\n",
"C1=180;//in Rs.year/KW\n",
"C2=15;//in paisa/unit\n",
"//AnnualBill1=C1*MaxDemand+(C2/100)*x ;x is the energy consumed\n",
"C=40;//in paisa/unit\n",
"//AnnualBill2=(C/100)*x ;x is the energy consumed\n",
"//Puting two bills equal gives :\n",
"x=C1*MaxDemand/((C/100)-(C2/100));//in kwh\n",
"disp(x,'No. of units to be consumed(or in kwh) :');"
   ]
   }
,
{
		   "cell_type": "markdown",
		   "metadata": {},
		   "source": [
			"## Example 11.7: Annual_Bill_of_a_consumer.sce"
		   ]
		  },
  {
"cell_type": "code",
	   "execution_count": null,
	   "metadata": {
	    "collapsed": true
	   },
	   "outputs": [],
"source": [
"//Exa 11.7\n",
"clc;\n",
"clear;\n",
"close;\n",
"//Given Data :\n",
"format('v',9);\n",
"MaxDemand=500;//in KW\n",
"LoadFactor=70;//in %/year\n",
"LoadFactor=70/100;//in fraction\n",
"cosfi=0.8;//unitless\n",
"//(i) Rs. 80/KVA of max demand\n",
"//(ii) Running chargeare  5 paise/kwh\n",
"C1=80;//in Rs./KVA\n",
"C2=5;//in paisa/kwh\n",
"AvgLoad=MaxDemand*LoadFactor;//in KW\n",
"h=365*24;//no. of hours per year\n",
"Energy=AvgLoad*h;//in kwh\n",
"MaxDemandKVA=MaxDemand/cosfi;//in KVA\n",
"AnnualBill=MaxDemandKVA*C1+(C2/100)*Energy;//in RS\n",
"disp(AnnualBill,'Annual bill of consumer(in Rs.) :');"
   ]
   }
,
{
		   "cell_type": "markdown",
		   "metadata": {},
		   "source": [
			"## Example 11.8: Overall_Annual_charges.sce"
		   ]
		  },
  {
"cell_type": "code",
	   "execution_count": null,
	   "metadata": {
	    "collapsed": true
	   },
	   "outputs": [],
"source": [
"//Exa 11.8\n",
"clc;\n",
"clear;\n",
"close;\n",
"//Given Data :\n",
"format('v',9);\n",
"MD=100;//in KW\n",
"LF=60;//in %/year\n",
"LF=60/100;//in fraction\n",
"//Tarrif Rs. 100/KW of max demand and Rs. 1/kwh\n",
"C1=100;//in Rs./KW\n",
"C2=1;//in Rs./kwh\n",
"h=365*24*12;//no. of hours\n",
"UnitsConsumed=MD*LF*h;//in kwh/year\n",
"AnnualCharges=C1*MD+C2*UnitsConsumed;//in RS\n",
"disp(AnnualCharges,'Overall Annual chrges(in Rs.) :');"
   ]
   }
,
{
		   "cell_type": "markdown",
		   "metadata": {},
		   "source": [
			"## Example 11.9: Annual_Bill_of_Industry.sce"
		   ]
		  },
  {
"cell_type": "code",
	   "execution_count": null,
	   "metadata": {
	    "collapsed": true
	   },
	   "outputs": [],
"source": [
"//Exa 11.9\n",
"clc;\n",
"clear;\n",
"close;\n",
"//Given Data :\n",
"format('v',9);\n",
"MD=250;//in KW\n",
"PF=0.8;//power factor\n",
"cosfi=PF;//unitless\n",
"Energy=50000;//in units/annum\n",
"//Tarrif Rs. 50/KVA of max demand and 0.25paisa/unit\n",
"C1=50;//in Rs./KW\n",
"C2=0.25;//in Paise/kwh\n",
"MDKVA=MD/cosfi;//in KVA\n",
"AnnualBill1=C1*MDKVA+C2*Energy;//in RS\n",
"disp(AnnualBill1,'Annuall bill of industry(in Rs.) :');\n",
"//Note : If consumer raised the PF to unity.\n",
"PF=1;//power factor\n",
"cosfi=PF;//unitless\n",
"MDKVA=MD/cosfi;//in KVA\n",
"AnnualBill2=C1*MDKVA+C2*Energy;//in RS\n",
"disp(AnnualBill1-AnnualBill2,'Saving by consumer in the bill(in Rs.) :');"
   ]
   }
],
"metadata": {
		  "kernelspec": {
		   "display_name": "Scilab",
		   "language": "scilab",
		   "name": "scilab"
		  },
		  "language_info": {
		   "file_extension": ".sce",
		   "help_links": [
			{
			 "text": "MetaKernel Magics",
			 "url": "https://github.com/calysto/metakernel/blob/master/metakernel/magics/README.md"
			}
		   ],
		   "mimetype": "text/x-octave",
		   "name": "scilab",
		   "version": "0.7.1"
		  }
		 },
		 "nbformat": 4,
		 "nbformat_minor": 0
}
