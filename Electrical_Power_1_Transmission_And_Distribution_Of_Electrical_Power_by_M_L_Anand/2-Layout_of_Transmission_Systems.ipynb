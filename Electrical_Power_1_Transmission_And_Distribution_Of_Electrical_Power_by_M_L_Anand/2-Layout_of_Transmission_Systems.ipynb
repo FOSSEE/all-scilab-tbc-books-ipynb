{
"cells": [
 {
		   "cell_type": "markdown",
	   "metadata": {},
	   "source": [
       "# Chapter 2: Layout of Transmission Systems"
	   ]
	},
{
		   "cell_type": "markdown",
		   "metadata": {},
		   "source": [
			"## Example 2.10: Volume_and_weight_of_conducting_material.sce"
		   ]
		  },
  {
"cell_type": "code",
	   "execution_count": null,
	   "metadata": {
	    "collapsed": true
	   },
	   "outputs": [],
"source": [
"//Exa 2.10\n",
"clc;\n",
"clear;\n",
"close;\n",
"//Given Data :\n",
"format('v',6);\n",
"P=20*10^6;//in VA\n",
"cosfi=0.75;//power factor\n",
"P=20*10^6*cosfi;//in watts\n",
"V=33*10^3;//in Volt\n",
"l=20*10^3;//in meter\n",
"Eta=85;//in %\n",
"rho=3*10^-8;//in ohm-meter\n",
"W=P*(100-Eta)/100;//in watts\n",
"//For single phase system :\n",
"I=P/(V*cosfi);//in Ampere\n",
"a1=2*I^2*rho*l/W;//in m^2\n",
"V1=2*a1*l;//in m^3\n",
"disp(V1,'For single phase system :Volume of the conductor material(in m^3) :');\n",
"//For 3 phase 3 wire system :\n",
"I=P/(sqrt(3)*V*cosfi);//in Ampere\n",
"a2=3*I^2*rho*l/W;//in m^2\n",
"V2=3*a2*l;//in m^3\n",
"disp(V2,'For three phase 3-wire system :Volume of the conductor material(in m^3) :');"
   ]
   }
,
{
		   "cell_type": "markdown",
		   "metadata": {},
		   "source": [
			"## Example 2.11: Most_Economical_cross_section.sce"
		   ]
		  },
  {
"cell_type": "code",
	   "execution_count": null,
	   "metadata": {
	    "collapsed": true
	   },
	   "outputs": [],
"source": [
"//Exa 2.11\n",
"clc;\n",
"clear;\n",
"close;\n",
"//Given Data :\n",
"format('v',8);\n",
"l=1*10^3;//in meter\n",
"IL=300;//in Ampere\n",
"//CableCost=100*a;//in Rs/meter : a=cross sectional area(in cm^2)\n",
"i=10;//in %\n",
"Rate=10;//in Rs/kwh\n",
"rho=1.85*10^-6;//in ohm-cm\n",
"//R=rho*l/a;//in ohm\n",
"disp('Resistance of cable(in ohm) = '+string(rho*l*100)+'/a');\n",
"//Eloss=2*I^2*R*365*24/1000;//in kwh\n",
"disp('Energy loss per annum in 2 conductors(in kwh) : '+string(2*IL^2*rho*l*100*365*24/1000)+'/a');\n",
"//AnnualCost=Eloss/Rate;//in Rs\n",
"//Ccost=100*a*l;//in Rs\n",
"disp('Annual chrges on account of interest and depriciation(in Rs.) : '+string(100*l*Rate/100)+'a'); \n",
"disp('For most ecpnomic cross section :');\n",
"a=sqrt(29170.8/10000);\n",
"disp(a,'Most economical cross section(in cm^2) :');"
   ]
   }
,
{
		   "cell_type": "markdown",
		   "metadata": {},
		   "source": [
			"## Example 2.12: Three_phase_Load.sce"
		   ]
		  },
  {
"cell_type": "code",
	   "execution_count": null,
	   "metadata": {
	    "collapsed": true
	   },
	   "outputs": [],
"source": [
"//Exa 2.12\n",
"clc;\n",
"clear;\n",
"close;\n",
"//Given Data :\n",
"format('v',8);\n",
"//Vcon=V;//in volt\n",
"//pf=cosfi;//unitless\n",
"//Rcon=R;//in ohm\n",
"//Part (i) : single phase system\n",
"disp('Single phase system :');\n",
"P1=5*10^6;//in watt\n",
"//I1=P1/(V*cosfi);//in Ampere\n",
"disp('Line current,I1='+string(P1)+'/V*cosfi');\n",
"//W1=2*I1^2*R;//in Wats(Line losses)\n",
"disp('Line Losses,W1='+string(2*P1^2)+'R/(V*cosfi)^2');\n",
"//Lloss_percent=W1*P1/100;//in %         eqn(1)\n",
"disp('% Line Losses='+string(2*P1^2*100/P1)+'R/(V*cosfi)^2');\n",
"//Part (ii) : 3 phase 3 wire system\n",
"disp('3 phase 3 wire system :');\n",
"//I2=P2/(V*cossfi*sqrt(3));//in Ampere\n",
"disp('Line current,I2='+string(10^6/sqrt(3))+'P2/V*cosfi');\n",
"//W1=2*I2^2*R;//in Wats(Line losses)\n",
"disp('Line Losses,W2='+string(2*(10^6/sqrt(3))^2)+'R*P2^2/(V*cosfi)^2');\n",
"//Lloss_percent=W2*P2/100;//in %         eqn(2)\n",
"disp('% Line Losses='+string(3*(10^6/sqrt(3))^2)+'R*P2^2/(V*cosfi)^2');\n",
"P2=2*P1;//in watts\n",
"disp('3 phase load in MW :'+string(P2/10^6));"
   ]
   }
,
{
		   "cell_type": "markdown",
		   "metadata": {},
		   "source": [
			"## Example 2.13: Percentage_saving_of_copper.sce"
		   ]
		  },
  {
"cell_type": "code",
	   "execution_count": null,
	   "metadata": {
	    "collapsed": true
	   },
	   "outputs": [],
"source": [
"//Exa 2.13\n",
"clc;\n",
"clear;\n",
"close;\n",
"//Given Data :\n",
"format('v',8);\n",
"disp('Assumptions : ');\n",
"disp('Power to be transmitted is the same(say, P watts)');\n",
"disp('Length of the line is the same(say, l meters)');\n",
"disp('Losses in the line are the same(say, W watts)');\n",
"//I=P/V;//in Ampere\n",
"//a=2*I^2*R=2*(P/V)^2*rho*l/W;//in m^2\n",
"//volume=2*a*l;//\n",
"disp('Volume of copper required for 2 wires=K/V^2')\n",
"//(i) When V=200 volts\n",
"V1=200;//in volts\n",
"disp('Vol1=K*'+string(1/V1^2));\n",
"//(ii) When V=600 volts\n",
"V2=600;//in volts\n",
"disp('Vol2=K*'+string(1/V2^2));\n",
"saving=((1/V1^2)-(1/V2^2))*100/(1/V1^2);//in \n",
"disp(saving,'% saving in copper : ');"
   ]
   }
,
{
		   "cell_type": "markdown",
		   "metadata": {},
		   "source": [
			"## Example 2.1: Most_Economical_cross_section.sce"
		   ]
		  },
  {
"cell_type": "code",
	   "execution_count": null,
	   "metadata": {
	    "collapsed": true
	   },
	   "outputs": [],
"source": [
"//Exa 2.1\n",
"clc;\n",
"clear;\n",
"close;\n",
"//Given Data :\n",
"format('v',7);\n",
"//CableCost=20+400*a;//in Rs./meter (a=cross section in cm^2)\n",
"//Cable_cost=(20+400*a)*1000;//in Rs./meter\n",
"l=1;//in Km\n",
"P=1;//in MW\n",
"V=11;//in KV\n",
"cosfi=0.8;//powerfactor\n",
"h=3000;//hours\n",
"i=10;//in %\n",
"E_cost=15;//in paisa/kwh\n",
"rho=1.75*10^-6;//sp. resistance in ohm-cm\n",
"//C1=CableCost*1000;//in Rs./km\n",
"disp('Cost of 1km cable=Rs'+string(20*1000)+'+'+string(400*1000)+'a');\n",
"//R=rho*l*10^3/(a*10^-2);//in ohm\n",
"disp('Resistance of 1km cable(in ohm) = '+string(rho*l*10^3/(10^-2))+'/a');\n",
"Ifl=(P*10^6)/(V*10^3*cosfi);//in Ampere\n",
"disp(Ifl,'Full load current(in Ampere) :');\n",
"//Ploss=2*I^2*R;//in Watts\n",
"disp('Power loss in the cable(in watts) : '+string(2*Ifl^2*rho*l*10^3/(10^-2))+'/a');\n",
"//Annual_cost=Ploss*10^-3*h*E_cost/100;//in Rs.\n",
"disp('Annual cost of energy(in Rs.) : '+string(2*Ifl^2*rho*l*h*E_cost/(10^-2))+'/a');\n",
"//AnnualCost2=400*10^3*a*i/100;//in Rs.\n",
"disp('AnnualCost of interest and depriciation(in Rs.)='+string(400*10^3*i/100)+'a');\n",
"disp('Using Kelvin law for most ecpnomical cross sectional area :');\n",
"a=2032.5/40000;\n",
"disp(a,'Most economical cross section(in cm^2) :');"
   ]
   }
,
{
		   "cell_type": "markdown",
		   "metadata": {},
		   "source": [
			"## Example 2.2: Weight_of_copper.sce"
		   ]
		  },
  {
"cell_type": "code",
	   "execution_count": null,
	   "metadata": {
	    "collapsed": true
	   },
	   "outputs": [],
"source": [
"//Exa 2.2\n",
"clc;\n",
"clear;\n",
"close;\n",
"//Given Data :\n",
"format('v',9);\n",
"Pt=30*10^6;//in watt\n",
"V=220*10^3;//in volt\n",
"l=275*10^3;//in meter\n",
"R=0.173;//in ohm/km\n",
"Eta=90;//in %\n",
"density=8.9;//copper density\n",
"Loss=100-Eta;//in %\n",
"cosfi=0.8;//powerfactor\n",
"disp('3-phase 3 wire :');\n",
"IL=Pt/(sqrt(3)*V*cosfi);//in Ampere\n",
"LineLosses=(Loss/100)*Pt;//in watts\n",
"rho=R*10^-4/(1*10^3);//in ohm-meter\n",
"a=3*IL^2*rho*l/(LineLosses);//in m^2\n",
"Volume=3*a*l;//in m^3\n",
"Cu_weight=Volume*density;//in Tones\n",
"disp(Cu_weight,'Weight of copper(in Tones) : ');\n",
"disp('Single phase 2 wire :');\n",
"IL=Pt/(V*cosfi);//in Ampere\n",
"a=2*IL^2*rho*l/(LineLosses);//in m^2\n",
"Volume=2*a*l;//in m^3\n",
"Cu_weight=Volume*density;//in Tones\n",
"disp(Cu_weight,'Weight of copper(in Tones) : ');\n",
"//Note : answer is not accurate in the book."
   ]
   }
,
{
		   "cell_type": "markdown",
		   "metadata": {},
		   "source": [
			"## Example 2.3: Most_Economical_cross_section.sce"
		   ]
		  },
  {
"cell_type": "code",
	   "execution_count": null,
	   "metadata": {
	    "collapsed": true
	   },
	   "outputs": [],
"source": [
"//Exa 2.3\n",
"clc;\n",
"clear;\n",
"close;\n",
"//Given Data :\n",
"format('v',9);\n",
"l=1;//in Km\n",
"l=l*10^5;//in cm\n",
"I=200;//in Ampere\n",
"//CableCost=50*a;//in Rs./meter (a=cross section in cm^2)\n",
"E_cost=5;//in paisa/kwh\n",
"i=10;//in %\n",
"rho=1.72*10^-6;//resistivity in ohm-cm\n",
"//R=rho*l/a;//in ohm\n",
"disp('Resistance of cable(in ohm) = '+string(rho*l)+'/a');\n",
"//Eloss=2*I^2*R*24*365/1000;//in kwh\n",
"disp('Power loss in the cable(in kwh) : '+string(2*I^2*rho*l*24*365/1000)+'/a');\n",
"//AnnualCost2=(E_cost/100)*2*I^2*rho*l*24*365/1000a ;//in Rs.\n",
"disp('AnnualCost of Energy Lost(in Rs.)='+string((E_cost/100)*2*I^2*rho*l*24*365/1000)+'/a');\n",
"//C1=CableCost*1000;//in Rs./km\n",
"disp('Cost of 1km cable=Rs'+string(50*1000)+'/a');\n",
"//AnnualCharges=C1*i/100;//in Rs.\n",
"disp('Annual chrges on account of interest and depriciation(in Rs.) : '+string(50*1000*i/100)+'a');\n",
"disp('For most ecpnomic cross section :');\n",
"a=sqrt(6026.88/5000);\n",
"disp(a,'Most economical cross section(in cm^2) :');"
   ]
   }
,
{
		   "cell_type": "markdown",
		   "metadata": {},
		   "source": [
			"## Example 2.4: Most_Economical_cross_section.sce"
		   ]
		  },
  {
"cell_type": "code",
	   "execution_count": null,
	   "metadata": {
	    "collapsed": true
	   },
	   "outputs": [],
"source": [
"//Exa 2.4\n",
"clc;\n",
"clear;\n",
"close;\n",
"//Given Data :\n",
"format('v',9);\n",
"l=4*10^5;//in cm\n",
"VL=30;//in KV\n",
"//LineCost=40000*a+7500;//in Rs/km\n",
"i=8;//in %\n",
"E_cost=4;//in paisa/kwh\n",
"rho=1.72*10^-6;//in ohm-cm\n",
"//R=rho*l/a;//in ohm\n",
"disp('Resistance of cable(in ohm) = '+string(rho*l)+'/a');\n",
"P1=3*10^6;//in watt\n",
"h1=10;//in hours\n",
"cosfi1=0.8//unitless\n",
"I1=P1/(sqrt(3)*VL*10^3*cosfi1);//in Ampere\n",
"P2=1.5*10^6;//in watt\n",
"h2=6;//in hours\n",
"cosfi2=0.9//unitless\n",
"I2=P2/(sqrt(3)*VL*10^3*cosfi2);//in Ampere\\n",
"P3=0.5*10^6;//in watt\n",
"h3=8;//in hours\n",
"cosfi3=0.9;//unitless\n",
"I3=P3/(sqrt(3)*VL*10^3*cosfi3);//in Ampere\n",
"//Etot=3*(I1^2*h1+I2^2*h2+I3^2*h3)*R*365/1000;//in kwh\n",
"//Ccost_line=40000*a*4;//in Rs.\n",
"//AnnualCharges=Ccost_line*i/100;//in Rs.\n",
"disp('Annual chrges on account of interest and depriciation(in Rs.) : '+string(40000*4*i/100)+'a'); \n",
"//AnnualCost2=(E_cost/100)*Etot ;//in Rs.\n",
"disp('AnnualCost of Energy Lost(in Rs.)='+string((E_cost/100)*3*(I1^2*h1+I2^2*h2+I3^2*h3)*rho*l*365/1000)+'/a');\n",
"disp('For most ecpnomic cross section :');\n",
"a=sqrt(1783/12800);\n",
"disp(a,'Most economical cross section(in cm^2) :');"
   ]
   }
,
{
		   "cell_type": "markdown",
		   "metadata": {},
		   "source": [
			"## Example 2.5: Most_Economical_size.sce"
		   ]
		  },
  {
"cell_type": "code",
	   "execution_count": null,
	   "metadata": {
	    "collapsed": true
	   },
	   "outputs": [],
"source": [
"//Exa 2.5\n",
"clc;\n",
"clear;\n",
"close;\n",
"//Given Data :\n",
"format('v',7);\n",
"P=5*10^6;//in watt\n",
"VL=33*10^3;//in volt\n",
"cosfi=0.8//unitless\n",
"//LineCost=31250*a+4000;//in Rs/km\n",
"rho=10^-6;//in ohm-cm\n",
"i=8;//in %\n",
"E_cost=4;//in paisa/kwh\n",
"IL=P/(sqrt(3)*VL*cosfi);//in Ampere\n",
"//Line_length=l*10^5;//in cm\n",
"//R=rho*l*10^5/a;//in ohm\n",
"disp('Resistance of cable(in ohm) = '+string(rho*10^5)+'(l/a)');\n",
"//E_lost=3*IL^2*R*365/1000;//in kwh\n",
"disp('Total Energy Lost per annum in 3 conductor(in kwh)='+string(3*IL^2*rho*10^5*365/1000)+'(l/a)');\n",
"//Ccost_line=31250*a*l;//in Rs.\n",
"//AnnualCharges=Ccost_line*i/100;//in Rs.\n",
"disp('Annual chrges on account of interest and depriciation(in Rs.) : '+string(31250*i/100)+'(a*l)'); \n",
"disp('For most ecpnomic cross section :');\n",
"a=sqrt(1309.33/2500);\n",
"disp(a,'Most economical cross section(in cm^2) :');"
   ]
   }
,
{
		   "cell_type": "markdown",
		   "metadata": {},
		   "source": [
			"## Example 2.6: Volume_and_weight_of_conducting_mterial.sce"
		   ]
		  },
  {
"cell_type": "code",
	   "execution_count": null,
	   "metadata": {
	    "collapsed": true
	   },
	   "outputs": [],
"source": [
"//Exa 2.6\n",
"clc;\n",
"clear;\n",
"close;\n",
"//Given Data :\n",
"format('v',8);\n",
"P=50*10^6;//in watt\n",
"VL=220*10^3;//in volt\n",
"cosfi=0.8//unitless\n",
"Eta=90;//in %\n",
"l=200*10^3;//in meter\n",
"rho=1.75*10^-8;//in ohm-cm\n",
"W=P*(100-Eta)/100;//in Wats(Line losses)\n",
"//Part (i) : 3 phase 3 wire with Cu condutor\n",
"gravity=8.9;//specific gravity\n",
"IL=P/(sqrt(3)*VL*cosfi);//in Ampere\n",
"a=3*IL^2*rho*l/W;//in m^2\n",
"Vol3=3*a*l;//volume of 3 lines(in m^3)\n",
"CuWeight=Vol3*gravity;//in Tones\n",
"disp(CuWeight,'Weight of copper(in Tones) :');\n",
"//Part (ii) : When Al conductor is used.\n",
"gravity=2.7;//specific gravity\n",
"rho=3*10^-8;//in ohm-meter\n",
"a=3*IL^2*rho*(l/W);//in m^2\n",
"Vol=3*a*l;//volume of 3 lines(in m^3)\n",
"AlWeight=Vol*gravity;//in Tones\n",
"disp(AlWeight,'Weight of Alluminium(in Tones) :');"
   ]
   }
,
{
		   "cell_type": "markdown",
		   "metadata": {},
		   "source": [
			"## Example 2.7: Three_phase_Load.sce"
		   ]
		  },
  {
"cell_type": "code",
	   "execution_count": null,
	   "metadata": {
	    "collapsed": true
	   },
	   "outputs": [],
"source": [
"//Exa 2.7\n",
"clc;\n",
"clear;\n",
"close;\n",
"//Given Data :\n",
"format('v',8);\n",
"//Vcon=V;//in volt\n",
"//pf=cosfi;//unitless\n",
"//Rcon=R;//in ohm\n",
"//Part (i) : single phase system\n",
"disp('Single phase system :');\n",
"P1=15*10^6;//in watt\n",
"//I1=P1/(V*cosfi);//in Ampere\n",
"disp('Line current,I1='+string(P1)+'/V*cosfi');\n",
"//W1=2*I1^2*R;//in Wats(Line losses)\n",
"disp('Line Losses,W1='+string(2*P1^2)+'R/(V*cosfi)^2');\n",
"//Lloss_percent=W1*P1/100;//in %         eqn(1)\n",
"disp('% Line Losses='+string(2*P1^2*100/P1)+'R/(V*cosfi)^2');\n",
"//Part (ii) : 3 phase 3 wire system\n",
"disp('3 phase 3 wire system :');\n",
"//I2=P2/(V*cossfi*sqrt(3));//in Ampere\n",
"disp('Line current,I2='+string(10^6/sqrt(3))+'P2/V*cosfi');\n",
"//W1=2*I2^2*R;//in Wats(Line losses)\n",
"disp('Line Losses,W2='+string(2*(10^6/sqrt(3))^2)+'R*P2^2/(V*cosfi)^2');\n",
"//Lloss_percent=W2*P2/100;//in %         eqn(2)\n",
"disp('% Line Losses='+string(3*(10^6/sqrt(3))^2)+'R*P2^2/(V*cosfi)^2');\n",
"P2=2*P1;//in watts\n",
"disp(P2/10^6,'3 phase load in MW :');"
   ]
   }
,
{
		   "cell_type": "markdown",
		   "metadata": {},
		   "source": [
			"## Example 2.8: Percentage_saving_of_copper.sce"
		   ]
		  },
  {
"cell_type": "code",
	   "execution_count": null,
	   "metadata": {
	    "collapsed": true
	   },
	   "outputs": [],
"source": [
"//Exa 2.8\n",
"clc;\n",
"clear;\n",
"close;\n",
"//Given Data :\n",
"format('v',8);\n",
"disp('Assumptions : ');\n",
"disp('Power to be transmitted is the same(say, P watts)');\n",
"disp('Length of the line is the same(say, l meters)');\n",
"disp('Losses in the line are the same(say, W watts)');\n",
"//I=P/V;//in Ampere\n",
"//a=2*I^2*R=2*(P/V)^2*rho*l/W;//in m^2\n",
"//volume=2*a*l;//\n",
"disp('Volume of copper required for 2 wires=K/V^2')\n",
"//(i) When V=220 volts\n",
"V1=220;//in volts\n",
"disp('Vol1=K*'+string(1/V1^2));\n",
"//(ii) When V=500 volts\n",
"V2=500;//in volts\n",
"disp('Vol2=K*'+string(1/V2^2));\n",
"saving=((1/V1^2)-(1/V2^2))*100/(1/V1^2);//in \n",
"disp(saving,'% saving in copper : ');"
   ]
   }
,
{
		   "cell_type": "markdown",
		   "metadata": {},
		   "source": [
			"## Example 2.9: Volume_of_conducting_material.sce"
		   ]
		  },
  {
"cell_type": "code",
	   "execution_count": null,
	   "metadata": {
	    "collapsed": true
	   },
	   "outputs": [],
"source": [
"//Exa 2.9\n",
"clc;\n",
"clear;\n",
"close;\n",
"//Given Data :\n",
"format('v',6);\n",
"P=30*10^6;//in watts\n",
"V=220*10^3;//in Volt\n",
"l=250*10^3;//in meter\n",
"Eta=85;//in %\n",
"rho=3*10^-8;//in ohm-meter\n",
"cosfi=0.8;//power factor\n",
"W=P*(100-Eta)/100;//in watts\n",
"I=P/(sqrt(3)*V*cosfi);//in Ampere\n",
"a=3*I^2*rho*l/W;//in m^2\n",
"Volume=3*a*l;//in m^3\n",
"disp(Volume,'Volume of the conductor material(in m^3) :');"
   ]
   }
],
"metadata": {
		  "kernelspec": {
		   "display_name": "Scilab",
		   "language": "scilab",
		   "name": "scilab"
		  },
		  "language_info": {
		   "file_extension": ".sce",
		   "help_links": [
			{
			 "text": "MetaKernel Magics",
			 "url": "https://github.com/calysto/metakernel/blob/master/metakernel/magics/README.md"
			}
		   ],
		   "mimetype": "text/x-octave",
		   "name": "scilab",
		   "version": "0.7.1"
		  }
		 },
		 "nbformat": 4,
		 "nbformat_minor": 0
}
