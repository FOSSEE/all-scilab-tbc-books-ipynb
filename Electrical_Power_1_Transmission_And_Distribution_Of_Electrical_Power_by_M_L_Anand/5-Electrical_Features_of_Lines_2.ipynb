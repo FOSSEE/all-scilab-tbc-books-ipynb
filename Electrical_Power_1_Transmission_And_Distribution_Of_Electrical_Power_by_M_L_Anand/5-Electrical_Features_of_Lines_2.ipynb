{
"cells": [
 {
		   "cell_type": "markdown",
	   "metadata": {},
	   "source": [
       "# Chapter 5: Electrical Features of Lines 2"
	   ]
	},
{
		   "cell_type": "markdown",
		   "metadata": {},
		   "source": [
			"## Example 5.10: Sending_end_voltage_regulation_and_efficiency.sce"
		   ]
		  },
  {
"cell_type": "code",
	   "execution_count": null,
	   "metadata": {
	    "collapsed": true
	   },
	   "outputs": [],
"source": [
"//Exa 5.10\n",
"clc;\n",
"clear;\n",
"close;\n",
"//Given Data :\n",
"format('v',8);\n",
"Pt=4000*10^3;//in watt(power to be transmitted)\n",
"VR=11000;//in volt\n",
"cos_fir=0.9;//unitless\n",
"R=1;//in ohm\n",
"X=2.5;//in ohm\n",
"I=Pt/VR;//in Ampere\n",
"Vs=VR+I*R*cos_fir+I*X*sqrt(1-cos_fir^2);//in volt\n",
"disp(Vs,'Sending end voltage(in volts) : ');\n",
"Reg=(Vs-VR)*100/VR;//in %\n",
"disp(Reg,'% Regulation : ');\n",
"cos_fis=(VR*cos_fir+I*R)/Vs;//unitless\n",
"disp(cos_fis,'Sending end pf(lag) : ');\n",
"losses=I^2*R;//in watts\n",
"Pr=Pt*cos_fir;//in wats(Receiving end power)\n",
"Psend=Pr+losses;//in watts\n",
"Eff=Pr*100/Psend;//unitless\n",
"disp(Eff,'Transmission efficiency (in %) :');"
   ]
   }
,
{
		   "cell_type": "markdown",
		   "metadata": {},
		   "source": [
			"## Example 5.11: Sending_end_voltage_regulation_and_efficiency.sce"
		   ]
		  },
  {
"cell_type": "code",
	   "execution_count": null,
	   "metadata": {
	    "collapsed": true
	   },
	   "outputs": [],
"source": [
"//Exa 5.11\n",
"clc;\n",
"clear;\n",
"close;\n",
"//Given Data :\n",
"format('v',8);\n",
"L=20;//in Km(length of the line)\n",
"Pdev=3000*10^3;//in watt(power delivered)\n",
"cos_fir=0.8;//unitless\n",
"VR=11*1000;//in volt\n",
"R=0.15*L;//in ohm\n",
"X=0.4*L;//in ohm\n",
"I=Pdev/VR;//in Ampere\n",
"Vs=VR+I*R*cos_fir-I*X*sqrt(1-cos_fir^2);//in volt\n",
"disp(Vs,'Sending end voltage(in volts) : ');\n",
"Reg=(VR-Vs)*100/VR;//in %\n",
"disp(Reg,'% Regulation : ');\n",
"cos_fis=(VR*cos_fir+I*R)/Vs;//unitless\n",
"disp(cos_fis,'Sending end pf(lag) : ');\n",
"losses=I^2*R;//in watts\n",
"Pr=Pdev*cos_fir;//in wats(Receiving end power)\n",
"Psend=Pr+losses;//in watts\n",
"Eff=Pr*100/Psend;//unitless\n",
"disp(Eff,'Transmission efficiency (in %) :');"
   ]
   }
,
{
		   "cell_type": "markdown",
		   "metadata": {},
		   "source": [
			"## Example 5.12: Voltage_regultion_and_efficiency.sce"
		   ]
		  },
  {
"cell_type": "code",
	   "execution_count": null,
	   "metadata": {
	    "collapsed": true
	   },
	   "outputs": [],
"source": [
"//Exa 5.12\n",
"clc;\n",
"clear;\n",
"close;\n",
"//Given Data :\n",
"format('v',8);\n",
"R=2;//in ohm\n",
"X=3;//in ohm\n",
"VR=10*1000;//in volt\n",
"P=1000*10^3;//in watt(power delivered)\n",
"cos_fir=0.8;//unitless\n",
"I=P/(VR*cos_fir);//in Ampere\n",
"Vs=sqrt((VR*cos_fir+I*R)^2+(VR*sqrt(1-cos_fir^2)+I*X)^2);//in volt\n",
"Reg=(Vs-VR)*100/VR;//in %\n",
"disp(Reg,'% Regulation : ');\n",
"losses=I^2*R;//in watts\n",
"Pr=P*cos_fir;//in wats(Receiving end power)\n",
"Psend=Pr+losses;//in watts\n",
"Eff=Pr*100/Psend;//unitless\n",
"disp(Eff,'Transmission efficiency (in %) :');"
   ]
   }
,
{
		   "cell_type": "markdown",
		   "metadata": {},
		   "source": [
			"## Example 5.13: Voltage_regultion_and_efficiency.sce"
		   ]
		  },
  {
"cell_type": "code",
	   "execution_count": null,
	   "metadata": {
	    "collapsed": true
	   },
	   "outputs": [],
"source": [
"//Exa 5.12\n",
"clc;\n",
"clear;\n",
"close;\n",
"//Given Data :\n",
"format('v',8);\n",
"R=1.5;//in ohm\n",
"X=4;//in ohm\n",
"VR=11*1000;//in volt\n",
"VRphase=VR/sqrt(3);//in volt/phase\n",
"P=6000;//in KVA(power delivered)\n",
"cos_fir=0.8;//unitless\n",
"I=P*1000/(3*VRphase);//in Ampere\n",
"Vs=VRphase+cos_fir*I*R+sqrt(1-cos_fir^2)*I*X;//in volt\n",
"Vs=Vs*sqrt(3);//in volt(not phase)\n",
"Reg=(Vs-VR)*100/VR;//in %\n",
"disp(Reg,'% Regulation : ');\n",
"losses=3*I^2*R/1000;//in Kw\n",
"Pr=P*cos_fir;//in wats(Receiving end power)\n",
"Psend=Pr+losses;//in watts\n",
"Eff=Pr*100/Psend;//unitless\n",
"disp(Eff,'Transmission efficiency (in %) :');"
   ]
   }
,
{
		   "cell_type": "markdown",
		   "metadata": {},
		   "source": [
			"## Example 5.1: Estimate_of_weight_of_copper.sce"
		   ]
		  },
  {
"cell_type": "code",
	   "execution_count": null,
	   "metadata": {
	    "collapsed": true
	   },
	   "outputs": [],
"source": [
"//Exa 5.1\n",
"clc;\n",
"clear;\n",
"close;\n",
"//Given Data :\n",
"format('v',6);\n",
"Load=100;//in MW\n",
"V=380;//in KV\n",
"d=100;//in km\n",
"rho=0.045;//in ohm/cm^2/km\n",
"w=0.01;//in kg/cm^3\n",
"Eff=90;//in %\n",
"IL=Load*10^6/(sqrt(3)*V*10^3);//in Ampere\n",
"P_loss=Load*(100-Eff)/100;//in MW\n",
"P_loss=P_loss*10^6;//in Watt\n",
"P_loss=P_loss/3;//in watt/conductor\n",
"R_con=P_loss/IL^2;//in ohm/conductor\n",
"//R_con=R_con/d;//in ohm/conductor/km\n",
"a=rho*d/R_con;//in cm^2\n",
"vol=a*d;//in cm^3\n",
"W_cu=vol*w;//in Kg\n",
"disp(W_cu*100*10^3*3,'Weight of Cu for 3 onductors of 100 km length(in Kg) :');\n",
"//Note : answer in the book is not accurate."
   ]
   }
,
{
		   "cell_type": "markdown",
		   "metadata": {},
		   "source": [
			"## Example 5.2: Voltage_between_phase_to_neutral.sce"
		   ]
		  },
  {
"cell_type": "code",
	   "execution_count": null,
	   "metadata": {
	    "collapsed": true
	   },
	   "outputs": [],
"source": [
"//Exa 5.2\n",
"clc;\n",
"clear;\n",
"close;\n",
"//Given Data :\n",
"format('v',7);\n",
"R=2;//in ohm\n",
"X=6;//in ohm\n",
"P=10000*10^3;//in watts\n",
"cos_fir=0.8;//unitless\n",
"VR=22*10^3;//in volt\n",
"I=P/(sqrt(3)*VR*cos_fir);//in Ampere\n",
"VR_phase=VR/sqrt(3);//in volt\n",
"Vs=sqrt((VR_phase*cos_fir+I*R)^2+(VR_phase*sqrt(1-cos_fir^2)+I*X)^2);\n",
"disp(Vs,'Sending end voltage Vs(phase) :');\n",
"disp(((Vs-VR_phase)/VR_phase)*100,'% Regulation : ');"
   ]
   }
,
{
		   "cell_type": "markdown",
		   "metadata": {},
		   "source": [
			"## Example 5.3: Sending_end_voltage_regulation_and_efficiency.sce"
		   ]
		  },
  {
"cell_type": "code",
	   "execution_count": null,
	   "metadata": {
	    "collapsed": true
	   },
	   "outputs": [],
"source": [
"//Exa 5.3\n",
"clc;\n",
"clear;\n",
"close;\n",
"//Given Data :\n",
"format('v',7);\n",
"l=10*10^3;//in meter\n",
"P_del=4000;//in KVA\n",
"cos_fir=0.9;//unitless\n",
"VL=11*10^3;//in volt\n",
"R=0.2*10;//in ohm/phase/10km\n",
"X=0.3*10;//in ohm/phase/10km\n",
"I=P_del*10^3/(sqrt(3)*VL);//in Ampere\n",
"VR_phase=VL/sqrt(3);//in volt\n",
"Vs=sqrt((VR_phase*cos_fir+I*R)^2+(VR_phase*sqrt(1-cos_fir^2)+I*X)^2);\n",
"disp(Vs*sqrt(3)/1000,'Sending end voltage Vs(line in KV) :');\n",
"disp(((Vs-VR_phase)/VR_phase)*100,'% Regulation : ');\n",
"Losses3line=3*I^2*R;//in watt\n",
"P_rec=P_del*cos_fir;//in KW\n",
"Pin=P_rec+Losses3line/1000;//in KW\n",
"ETA=P_rec/Pin;//unitless\n",
"disp(ETA*100,'Transmission Efficiency(in %) :')\n",
"cos_fis=(VR_phase*cos_fir+I*R)/Vs;//unitless\n",
"disp(cos_fis,'Sending end PF(lag) :');"
   ]
   }
,
{
		   "cell_type": "markdown",
		   "metadata": {},
		   "source": [
			"## Example 5.4: Sending_end_voltage_PF_and_regulation.sce"
		   ]
		  },
  {
"cell_type": "code",
	   "execution_count": null,
	   "metadata": {
	    "collapsed": true
	   },
	   "outputs": [],
"source": [
"//Exa 5.4\n",
"clc;\n",
"clear;\n",
"close;\n",
"//Given Data :\n",
"format('v',7);\n",
"l=15*10^3;//in meter\n",
"Pt=10000;//in KW\n",
"cos_fir=0.8;//unitless\n",
"VL=33*10^3;//in volt\n",
"R=0.2*15;//in ohm/phase/15km\n",
"X=0.4*15;//in ohm/phase/15km\n",
"I=Pt*10^3/(sqrt(3)*VL*cos_fir);//in Ampere\n",
"VR_phase=VL/sqrt(3);//in volt\n",
"Vs=sqrt((VR_phase*cos_fir+I*R)^2+(VR_phase*sqrt(1-cos_fir^2)-I*X)^2);\n",
"disp(Vs*sqrt(3)/1000,'Sending end voltage Vs(line) in KV :');\n",
"cos_fis=(VR_phase*cos_fir+I*R)/Vs;//unitless\n",
"disp(cos_fis,'Sending end PF(leading) :');\n",
"disp(((Vs-VR_phase)/VR_phase)*100,'% Regulation : ');"
   ]
   }
,
{
		   "cell_type": "markdown",
		   "metadata": {},
		   "source": [
			"## Example 5.5: Line_voltage_Regulation_and_efficieny.sce"
		   ]
		  },
  {
"cell_type": "code",
	   "execution_count": null,
	   "metadata": {
	    "collapsed": true
	   },
	   "outputs": [],
"source": [
"//Exa 5.5\n",
"clc;\n",
"clear;\n",
"close;\n",
"//Given Data :\n",
"format('v',9);\n",
"Vs_line=33*10^3;//in volt\n",
"cos_fir=0.8;//unitless\n",
"P_KVA=6000;//in KVA\n",
"P_KW=P_KVA*cos_fir;//in KW\n",
"cos_fir=0.8;//unitless\n",
"impedence=2+%i*6;//in ohm\n",
"R=real(impedence);//in ohm\n",
"X=imag(impedence);//in ohm\n",
"Vs_phase=Vs_line/sqrt(3);//in volt\n",
"disp('Sending end Voltage, Vs(in Volt) = VR+I*R*cos_fir+I*X*sin_fir ');\n",
"disp('It gives polynomial p = [1 -Vs_phase P_KVA*10^3*R*cos_fir/sqrt(3)+P_KVA*10^3*X*sin_fir/sqrt(3)].')\n",
"sin_fir=sqrt(1-cos_fir^2);\n",
"p=[1 -Vs_phase P_KVA*10^3*R*cos_fir/sqrt(3)+P_KVA*10^3*X*sin_fir/sqrt(3)]; \n",
"VR=roots(p);\n",
"VR=VR(1);//(root calculated using -ve sign is discarded in shreedharacharya method)\n",
"VR_line=VR*sqrt(3);//in volt\n",
"disp(VR_line/1000,'Line voltage at receiving end(in KV) :');\n",
"Regulation=((Vs_line-VR_line)/VR_line)*100;//unitless\n",
"disp(Regulation,'% Regulation : ');\n",
"I=P_KVA*10^3/(sqrt(3)*VR_line)\n",
"//I=P*10^3/(sqrt(3)*VR_line);//in Ampere\n",
"TotalLoss=3*I^2*R;//in watt\n",
"Pout=P_KVA*cos_fir;//in KW\n",
"Pin=Pout+TotalLoss/1000;//in KW\n",
"ETA=Pout/Pin;//unitless\n",
"disp(ETA*100,'Transmission Efficiency(in %) :');"
   ]
   }
,
{
		   "cell_type": "markdown",
		   "metadata": {},
		   "source": [
			"## Example 5.6: Estimate_distance.sce"
		   ]
		  },
  {
"cell_type": "code",
	   "execution_count": null,
	   "metadata": {
	    "collapsed": true
	   },
	   "outputs": [],
"source": [
"//Exa 5.6\n",
"clc;\n",
"clear;\n",
"close;\n",
"//Given Data :\n",
"format('v',6);\n",
"P_del=10000*10^3;//in Watts\n",
"cos_fir=0.8;//unitless\n",
"R=0.95;//in ohm/km\n",
"VR=132*10^3;//in volt\n",
"IL=P_del/(sqrt(3)*VR*cos_fir);//in Ampere\n",
"//TotalLosses=3*I^2*R and should be equal to (7.5/100)*P_del;//in watt\n",
"l=(7.5/100)*P_del/(3*IL^2*R);//in km\n",
"disp(l,'Distance (in km) :');"
   ]
   }
,
{
		   "cell_type": "markdown",
		   "metadata": {},
		   "source": [
			"## Example 5.7: Sending_end_voltage.sce"
		   ]
		  },
  {
"cell_type": "code",
	   "execution_count": null,
	   "metadata": {
	    "collapsed": true
	   },
	   "outputs": [],
"source": [
"//Exa 5.7\n",
"clc;\n",
"clear;\n",
"close;\n",
"//Given Data :\n",
"format('v',7);\n",
"I=180;//in Ampere\n",
"cos_fir=0.8;//unitless\n",
"R=0.7;//in ohm/phase\n",
"X=1.2;//in ohm/phase\n",
"ETA=90;//in %\n",
"Pdev_BY_VR=3*I*cos_fir;//in KW\n",
"Psending_BY_VR=Pdev_BY_VR/(ETA/100);//in kW\n",
"Losses=3*I^2*R;//in watt\n",
"VR=Losses/(Psending_BY_VR-Pdev_BY_VR);//in volt\n",
"Vs=sqrt((VR*cos_fir+I*R)^2+(VR*sqrt(1-cos_fir^2)+I*X)^2);\n",
"disp(Vs*sqrt(3),'Sending end voltage Vs(line) in volts :');"
   ]
   }
,
{
		   "cell_type": "markdown",
		   "metadata": {},
		   "source": [
			"## Example 5.8: Efficiency_and_regulation_of_line.sce"
		   ]
		  },
  {
"cell_type": "code",
	   "execution_count": null,
	   "metadata": {
	    "collapsed": true
	   },
	   "outputs": [],
"source": [
"//Exa 5.8\n",
"clc;\n",
"clear;\n",
"close;\n",
"//Given Data :\n",
"format('v',7);\n",
"d=1*100;//in cm\n",
"dia=1;//in cm\n",
"r=dia/2;//in cm\n",
"Length=20;//in km\n",
"V=33;//in KV\n",
"P=10;//in MW\n",
"cosfi=0.8;//unitless\n",
"f=50;//in Hz\n",
"R=0.19;//in ohm/km/phase\n",
"//Part (i) :\n",
"L=2*10^-7*log(d/r);//in H/m\n",
"L20=L*Length*10^3;//in H\n",
"XL=2*%pi*f*L20;//in ohm\n",
"R20=R*Length;//in ohm\n",
"Z=sqrt(R20^2+XL^2);//in ohm\n",
"IR=P*10^3/(sqrt(3)*V*cosfi)\n",
"Losses=3*IR^2*R20;//in watt\n",
"ETA=P/(P+Losses/10^6);//unitless\n",
"disp(ETA*100,'Efficiency of line(in %) :');\n",
"//Part (ii) :\n",
"VR=V*1000/sqrt(3);//in volt\n",
"Vs=((VR*cosfi+IR*R20)+(VR*sqrt(1-cosfi^2)+IR*XL));\n",
"disp(((Vs-VR)/VR)*100,'% Regulation : ');\n",
"//Note : Answer in the book is wrong. In second last line of the solution in the book 16079+12885 is taken as 20605 instead of 28964.    "
   ]
   }
,
{
		   "cell_type": "markdown",
		   "metadata": {},
		   "source": [
			"## Example 5.9: Sending_end_voltage.sce"
		   ]
		  },
  {
"cell_type": "code",
	   "execution_count": null,
	   "metadata": {
	    "collapsed": true
	   },
	   "outputs": [],
"source": [
"//Exa 5.9\n",
"clc;\n",
"clear;\n",
"close;\n",
"//Given Data :\n",
"format('v',8);\n",
"R=2.5;//in ohm\n",
"X=4.33;//in ohm\n",
"I=120;//in Ampere\n",
"Vr=3300;//in volt\n",
"cos_fir=0.8;//unitless\n",
"Vs=Vr+I*R*cos_fir+I*X*sqrt(1-cos_fir^2);//in volt\n",
"disp(Vs,'Sending end voltage(in volts) : ');"
   ]
   }
],
"metadata": {
		  "kernelspec": {
		   "display_name": "Scilab",
		   "language": "scilab",
		   "name": "scilab"
		  },
		  "language_info": {
		   "file_extension": ".sce",
		   "help_links": [
			{
			 "text": "MetaKernel Magics",
			 "url": "https://github.com/calysto/metakernel/blob/master/metakernel/magics/README.md"
			}
		   ],
		   "mimetype": "text/x-octave",
		   "name": "scilab",
		   "version": "0.7.1"
		  }
		 },
		 "nbformat": 4,
		 "nbformat_minor": 0
}
