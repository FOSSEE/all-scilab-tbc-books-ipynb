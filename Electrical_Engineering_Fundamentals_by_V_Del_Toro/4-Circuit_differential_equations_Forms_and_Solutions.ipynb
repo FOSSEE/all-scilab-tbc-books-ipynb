{
"cells": [
 {
		   "cell_type": "markdown",
	   "metadata": {},
	   "source": [
       "# Chapter 4: Circuit differential equations Forms and Solutions"
	   ]
	},
{
		   "cell_type": "markdown",
		   "metadata": {},
		   "source": [
			"## Example 4.3: EX4_3.sce"
		   ]
		  },
  {
"cell_type": "code",
	   "execution_count": null,
	   "metadata": {
	    "collapsed": true
	   },
	   "outputs": [],
"source": [
"//ad\n",
"Zab = complex(1,-0.5); //impedance appearing across terminals ab\n",
"Zbg = complex(1); //impedance appearing across terminals bg\n",
"Zbcd = complex(2+1,2); //impedance appearing across terminals bcd\n",
"Zad = Zab + (Zbg*Zbcd/(Zbg + Zbcd)); //impedance appearing across terminals ad\n",
"disp(Zad,'impedance appearing across terminals ad = ')\n",
"\n",
"//dg \n",
"Zdg = Zbg + (Zab*Zbcd/(Zab+Zbcd)); //impedance appearing across termainals dg\n",
"disp(Zdg,'impedance appearing across terminals dg = ')"
   ]
   }
],
"metadata": {
		  "kernelspec": {
		   "display_name": "Scilab",
		   "language": "scilab",
		   "name": "scilab"
		  },
		  "language_info": {
		   "file_extension": ".sce",
		   "help_links": [
			{
			 "text": "MetaKernel Magics",
			 "url": "https://github.com/calysto/metakernel/blob/master/metakernel/magics/README.md"
			}
		   ],
		   "mimetype": "text/x-octave",
		   "name": "scilab",
		   "version": "0.7.1"
		  }
		 },
		 "nbformat": 4,
		 "nbformat_minor": 0
}
