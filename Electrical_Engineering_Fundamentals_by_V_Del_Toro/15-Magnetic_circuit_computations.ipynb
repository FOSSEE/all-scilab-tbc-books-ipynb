{
"cells": [
 {
		   "cell_type": "markdown",
	   "metadata": {},
	   "source": [
       "# Chapter 15: Magnetic circuit computations"
	   ]
	},
{
		   "cell_type": "markdown",
		   "metadata": {},
		   "source": [
			"## Example 15.1: EX15_1.sce"
		   ]
		  },
  {
"cell_type": "code",
	   "execution_count": null,
	   "metadata": {
	    "collapsed": true
	   },
	   "outputs": [],
"source": [
"//a\n",
"phi = 6*10^-4; //given magnetic flux (in Wb)\n",
"A = 0.001; // cross sectional area (in meter square)\n",
"B = phi/A ; //\n",
"Ha = 10; //magnetic field intensity of material a needed to establish   the given magnetic flux \n",
"Hb = 77; // magnetic field intensity of material b\n",
"Hc = 270; // magnetic field intensity of material c\n",
"La = 0.3; //arc length of material a (in meters)\n",
"Lb = 0.2; //arc length of material b (in meters) \n",
"Lc = 0.1; //arc length of material c (in meters)\n",
"\n",
"F = Ha*La + Hb*Lb + Hc*Lc; //magnetomotive force\n",
"disp('a')\n",
"disp(F, 'magnetomotive force needed to establish a flux of 6*10^-4(in At) = ')\n",
"\n",
"//b\n",
"N = 100; //no. of turns \n",
"I = F/N; //current in amps\n",
"disp('b')\n",
"disp(I,'current that must be made to flow through the coil(in amps) = ')\n",
"\n",
"//c\n",
"MU0 = 4*%pi*10^-7; \n",
"MUa = B/Ha; //permeability of material a\n",
"MUb = B/Hb; //permeability of material b\n",
"MUc = B/Hc; //permeability of material c\n",
"\n",
"MUra = MUa/MU0; //relative permeability of material a\n",
"MUrb = MUb/MU0; //relative permeability of material b\n",
"MUrc = MUc/MU0; //relative permeability of material c\n",
"\n",
"Ra = Ha*La/phi; //reluctance of material a \n",
"Rb = Hb*Lb/phi; //reluctance of material b\n",
"Rc = Hc*Lc/phi; //reluctance of material c\n",
"\n",
"disp('c')\n",
"disp(MUra,'relative permeability of material a = ')\n",
"disp(MUrb,'relative permeability of material b = ')\n",
"disp(MUrc,'relative permeability of material c = ')\n",
"disp(Ra,'reluctance of material a = ')\n",
"disp(Rb,'reluctance of material b = ')\n",
"disp(Rc,'reluctance of material c = ')"
   ]
   }
,
{
		   "cell_type": "markdown",
		   "metadata": {},
		   "source": [
			"## Example 15.3: Find_the_mmf_produced_by_the_coil.sce"
		   ]
		  },
  {
"cell_type": "code",
	   "execution_count": null,
	   "metadata": {
	    "collapsed": true
	   },
	   "outputs": [],
"source": [
"mu0 = 4*%pi*10^-7;\n",
"A = 0.0025; //cross sectional area of the coil\n",
"//dimensions of the coil (in meters)\n",
"Lg = 0.002; //air gap length (in meters)\n",
"Lbd = 0.025; \n",
"Lde = 0.1;\n",
"Lef = 0.025;\n",
"Lfk = 0.2;\n",
"Lbc = 0.175;\n",
"Lcab = 0.5;\n",
"\n",
"Lbghc = 2*(Lbd + Lde + Lef + (Lfk/2)) - Lg;//length of the ferromagnetic material involved here\n",
"\n",
"phig = 4*10^-4; //air gap flux (in Wb)\n",
"Bg = phig/A ; //air gap flux density (in tesla)\n",
"Hg = Bg/mu0 ; //feild intensity of the air gap \n",
"mmfg = Hg*Lg ; //mmf produced in the air gap (in At)\n",
"\n",
"Bbc = 1.38 ; //flux density corresponding to cast steel\n",
"\n",
"Hbghc = 125; //field intensity corresponding to flux density of 0.16T in the steel\n",
"mmfbghc = Hbghc*Lbghc ; // mmf corresponding to bghc\n",
"\n",
"mmfbc = mmfg + mmfbghc ; //mmf across path bc\n",
"Hbc = mmfbc/Lbc;\n",
"phibc = Bbc*A ; //flux produced in bc  \n",
"\n",
"phicab = phig + phibc; //total fiux existing in leg cab \n",
"Bcab = phicab/0.00375; //flux density\n",
"Hcab = 690; \n",
"mmfcab = Hcab*Lcab; //mmf in leg cab\n",
"\n",
"mmf = mmfbc + mmfcab ; //mmf produced by the coil\n",
"\n",
"disp(mmf,'mmf produced by the coil(in At) = ')\n",
"\n",
"\n",
"\n",
""
   ]
   }
,
{
		   "cell_type": "markdown",
		   "metadata": {},
		   "source": [
			"## Example 15.5: B_Find_the_magnetic_force_exerted_on_the_plunger.sce"
		   ]
		  },
  {
"cell_type": "code",
	   "execution_count": null,
	   "metadata": {
	    "collapsed": true
	   },
	   "outputs": [],
"source": [
"//b\n",
"mu0 = 4*%pi*10^-7 ;\n",
"//plunger magnet dimensions (in meters)\n",
"x = 0.025; \n",
"h = 0.05;\n",
"a = 0.025;\n",
"g = 0.00125; \n",
"\n",
"mmf = 1414; //(in At)\n",
"\n",
"F = %pi*a*mu0*(mmf^2)*(h^2)*(1/(x + h)^2)/g; //magnitude of the force\n",
"disp(F, 'magnitude of the force (in Newtons) = ')"
   ]
   }
],
"metadata": {
		  "kernelspec": {
		   "display_name": "Scilab",
		   "language": "scilab",
		   "name": "scilab"
		  },
		  "language_info": {
		   "file_extension": ".sce",
		   "help_links": [
			{
			 "text": "MetaKernel Magics",
			 "url": "https://github.com/calysto/metakernel/blob/master/metakernel/magics/README.md"
			}
		   ],
		   "mimetype": "text/x-octave",
		   "name": "scilab",
		   "version": "0.7.1"
		  }
		 },
		 "nbformat": 4,
		 "nbformat_minor": 0
}
