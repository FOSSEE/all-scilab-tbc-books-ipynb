{
"cells": [
 {
		   "cell_type": "markdown",
	   "metadata": {},
	   "source": [
       "# Chapter 24: Dynamic behaviour of Control systems"
	   ]
	},
{
		   "cell_type": "markdown",
		   "metadata": {},
		   "source": [
			"## Example 24.2: EX24_2.sce"
		   ]
		  },
  {
"cell_type": "code",
	   "execution_count": null,
	   "metadata": {
	    "collapsed": true
	   },
	   "outputs": [],
"source": [
"//a\n",
"//parameter values \n",
"Kp = 0.5; //V/rad \n",
"Ka = 100; //V/V\n",
"Km = 2*10^-4 ; //lb-ft/V\n",
"F = 1.5*10^-4; //lb-ft/rad/s\n",
"J = 10^-5 //slug-ft^2\n",
"\n",
"K = Kp*Ka*Km ; //loop propotional gain\n",
"dr = F/(2*sqrt(K*J)); //damping ratio\n",
"wn = sqrt(K/J);\n",
"ts = 5/(dr*wn);\n",
"wd = wn*sqrt(1 - dr^2); //frequency at which damped oscillations occur \n",
"disp('a')\n",
"disp(wd, 'damped oscillations occur at a frequency = ')\n",
"disp(dr,'damping ratio = ')\n",
"\n",
"//b\n",
"Tl = 10^-3; //load disturbance (lb-ft)\n",
"e = Tl/K; //position lag error \n",
"disp('b')\n",
"disp(e,'position lag error (in rad) = ')\n",
"\n",
"//c\n",
"KaNew = (e/0.025)*Ka; //new loop gain\n",
"disp('c')\n",
"disp(KaNew,'new loop gain for which the position lag error is equal to  0.025rad = ')\n",
"\n",
"//d\n",
"drNew = F/(2*sqrt(Kp*KaNew*Km*J)); //new damping ratio\n",
"disp('d')\n",
"disp(drNew,'new damping ratio = ')\n",
"\n",
"//e\n",
"//for a maximum overshoot of 25% , (F + Qo)/2*sqrt(K*J) = 0.4\n",
"Qo = (0.4*2*sqrt(Kp*KaNew*Km*J)) - F ; \n",
"Ko = Qo/(KaNew*K) ; //output gain factor \n",
"disp('e')\n",
"disp(Ko,'output gain factor = ')"
   ]
   }
],
"metadata": {
		  "kernelspec": {
		   "display_name": "Scilab",
		   "language": "scilab",
		   "name": "scilab"
		  },
		  "language_info": {
		   "file_extension": ".sce",
		   "help_links": [
			{
			 "text": "MetaKernel Magics",
			 "url": "https://github.com/calysto/metakernel/blob/master/metakernel/magics/README.md"
			}
		   ],
		   "mimetype": "text/x-octave",
		   "name": "scilab",
		   "version": "0.7.1"
		  }
		 },
		 "nbformat": 4,
		 "nbformat_minor": 0
}
