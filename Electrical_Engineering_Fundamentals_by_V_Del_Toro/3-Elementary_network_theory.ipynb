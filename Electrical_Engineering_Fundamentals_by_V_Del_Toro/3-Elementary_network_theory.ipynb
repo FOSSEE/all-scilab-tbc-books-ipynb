{
"cells": [
 {
		   "cell_type": "markdown",
	   "metadata": {},
	   "source": [
       "# Chapter 3: Elementary network theory"
	   ]
	},
{
		   "cell_type": "markdown",
		   "metadata": {},
		   "source": [
			"## Example 3.12: EX3_12.sce"
		   ]
		  },
  {
"cell_type": "code",
	   "execution_count": null,
	   "metadata": {
	    "collapsed": true
	   },
	   "outputs": [],
"source": [
"//a\n",
"// circuit parameters\n",
"E1 = 120; \n",
"R1 = 40;\n",
"R2 = 20; \n",
"R3 = 60;\n",
"\n",
"Voc = E1*R2/(R2 + R1); //open circuit voltage appearing at terminal 1\n",
"Ri = R3 + (R1*R2/(R1 + R2)); //equivalent resistance looking into the     network from terminal pair 01\n",
"\n",
"function I = Il(Rl)\n",
"    I = Voc/(Ri + Rl) //current through Rl\n",
"endfunction\n",
"\n",
"Il1 = Il(10); //Rl = 10 ohm \n",
"Il2 = Il(50); //Rl = 50 ohm \n",
"Il3 = Il(200); //Rl = 200 ohm\n",
"\n",
"disp('a')\n",
"disp(Il1,'Il (Rl = 10ohm) = ')\n",
"disp(Il2,'Il (Rl = 50ohm) = ')\n",
"disp(Il3,'Il (Rl = 200ohm) = ')\n",
"\n",
"//b\n",
"//for maximum power Rl = Ri\n",
"Rl = Ri;\n",
"Plmax = (Voc/(2*Ri))^2 * Ri ; //maximum power to Rl\n",
"disp('b')\n",
"disp(Plmax,'maximum power to Rl(in Watt) = ')"
   ]
   }
,
{
		   "cell_type": "markdown",
		   "metadata": {},
		   "source": [
			"## Example 3.13: EX3_13.sce"
		   ]
		  },
  {
"cell_type": "code",
	   "execution_count": null,
	   "metadata": {
	    "collapsed": true
	   },
	   "outputs": [],
"source": [
"//circuit parameters \n",
"//voltage sources \n",
"E1 = 120; \n",
"E2 = 65;\n",
"//resistances \n",
"R1 = 40;\n",
"R2 = 11; \n",
"R3 = 60;\n",
"\n",
"I = (E1/R1) + (E2/R3); //norton's current source \n",
"Req = R1*R3/(R1 + R3); //equivalent resistance \n",
"\n",
"I2 = I*Req/(Req + R2); //current flowing through R2\n",
"\n",
"disp(I2,'current flowing through R2 = ')"
   ]
   }
,
{
		   "cell_type": "markdown",
		   "metadata": {},
		   "source": [
			"## Example 3.1: for_the_given_circuit_calculate_the_current_flowing_from_the_voltage_source.sce"
		   ]
		  },
  {
"cell_type": "code",
	   "execution_count": null,
	   "metadata": {
	    "collapsed": true
	   },
	   "outputs": [],
"source": [
"V = 100; // volatage supply in volts\n",
"Rs = 40; //resistance in series in ohms \n",
"// parallel resistances in ohms\n",
"Rp1 = 33.33;\n",
"Rp2 = 50;\n",
"Rp3 = 20;\n",
"Rpinv = (1/Rp1)+(1/Rp2)+(1/Rp3); //reciprocal of equivalent resistance in  parallel\n",
"Req = Rs + (1/Rpinv) ;\n",
"I = V/Req; //current flowing from the voltage source in amps\n",
"disp(I,'current flowing from the voltage source(in amps) = ')"
   ]
   }
,
{
		   "cell_type": "markdown",
		   "metadata": {},
		   "source": [
			"## Example 3.2: Calculate_the_potential_difference_across_terminals_bc.sce"
		   ]
		  },
  {
"cell_type": "code",
	   "execution_count": null,
	   "metadata": {
	    "collapsed": true
	   },
	   "outputs": [],
"source": [
"V = 100; // volatage supply in volts\n",
"Rs = 40; //resistance in series in ohms \n",
"// parallel resistances in ohms\n",
"Rp1 = 33.33;\n",
"Rp2 = 50;\n",
"Rp3 = 20;\n",
"Rpinv = (1/Rp1)+(1/Rp2)+(1/Rp3); //reciprocal of equivalent resistance in  parallel\n",
"Rp = 1/Rpinv; // equivalent esistance in parallel \n",
"Vbc = V*(Rp/(Rs + Rp)); // potential difference across bc \n",
"disp(Vbc,'potential difference across bc = ')"
   ]
   }
,
{
		   "cell_type": "markdown",
		   "metadata": {},
		   "source": [
			"## Example 3.3: Determine_the_equivalent_series_circuit.sce"
		   ]
		  },
  {
"cell_type": "code",
	   "execution_count": null,
	   "metadata": {
	    "collapsed": true
	   },
	   "outputs": [],
"source": [
"// resistances in ohms \n",
"R1 = 25;\n",
"R2 = 300;\n",
"R3 = 80;\n",
"R4 = 30;\n",
"R5 = 60;\n",
"\n",
"Rcd = R5*R4/(R5 + R4);\n",
"Rbd1 = Rcd + R3;\n",
"Rbd = Rbd1*R2/(Rbd1 + R2);\n",
"Req = Rbd + R1; // equivalent resistance \n",
"disp(Req, 'equivalent resistance = ')"
   ]
   }
,
{
		   "cell_type": "markdown",
		   "metadata": {},
		   "source": [
			"## Example 3.4: Value_of_E_for_which_power_dissipation_in_R5_is_15W_R5_is_15.sce"
		   ]
		  },
  {
"cell_type": "code",
	   "execution_count": null,
	   "metadata": {
	    "collapsed": true
	   },
	   "outputs": [],
"source": [
"// resistances in ohms \n",
"R1 = 25;\n",
"R2 = 300;\n",
"R3 = 80;\n",
"R4 = 30;\n",
"R5 = 60;\n",
"\n",
"P5 = 15; //power dissipated in R5 (in watt)\n",
"\n",
"I5 = sqrt(P5/R5); //current flowing through R5\n",
"V5 = R5*I5 ; //voltage across R5\n",
"Vcd = V5; //voltage across cd\n",
"\n",
"I4 = Vcd/R4; //current flowing through R4\n",
"Icd = I5 + I4; //current flowing through cd\n",
"\n",
"Vbd = (Icd*R3)+Vcd ; //voltage across bd\n",
"Ibd = (Vbd/R2)+Icd; //current through bd\n",
"\n",
"V1 = R1*Ibd; //voltage across R1\n",
"\n",
"E = V1 + Vbd; \n",
"disp(E,'E = ')\n",
"\n",
"//Result : Value of E for which power dissipation in R is 15W = 200V"
   ]
   }
,
{
		   "cell_type": "markdown",
		   "metadata": {},
		   "source": [
			"## Example 3.8: Find_current_flowing_through_all_the_branches_of_the_circuit.sce"
		   ]
		  },
  {
"cell_type": "code",
	   "execution_count": null,
	   "metadata": {
	    "collapsed": true
	   },
	   "outputs": [],
"source": [
"//mesh equations:\n",
"//60*I1 - 20*I2 = 20\n",
"//-20*I1 + 80*I2 = -65\n",
"\n",
"R = [60 -20;-20 80];\n",
"E = [120;-65];\n",
"I = inv(R)*E;\n",
"I1 = I(1,:); //current flowing in first mesh \n",
"I2 = I(2,:); //current flowing in second mesh\n",
"\n",
"Ibd = I1 - I2; //current flowing through branch bd\n",
"Iab = I1; //current flowing through branch ab\n",
"Icb = -I2; //current flowing through branch cb\n",
"\n",
"disp(Ibd, 'current flowing through branch bd = ')\n",
"disp(Iab,'current flowing through branch ab = ')\n",
"disp(Icb,'current flowing through branch cb = ')"
   ]
   }
],
"metadata": {
		  "kernelspec": {
		   "display_name": "Scilab",
		   "language": "scilab",
		   "name": "scilab"
		  },
		  "language_info": {
		   "file_extension": ".sce",
		   "help_links": [
			{
			 "text": "MetaKernel Magics",
			 "url": "https://github.com/calysto/metakernel/blob/master/metakernel/magics/README.md"
			}
		   ],
		   "mimetype": "text/x-octave",
		   "name": "scilab",
		   "version": "0.7.1"
		  }
		 },
		 "nbformat": 4,
		 "nbformat_minor": 0
}
