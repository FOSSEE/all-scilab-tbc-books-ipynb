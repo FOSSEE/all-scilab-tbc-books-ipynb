{
"cells": [
 {
		   "cell_type": "markdown",
	   "metadata": {},
	   "source": [
       "# Chapter 11: Binary logic Theory and Implimentation"
	   ]
	},
{
		   "cell_type": "markdown",
		   "metadata": {},
		   "source": [
			"## Example 11.1: Determine_th_decimal_equivalents_of_the_binary_numbers_A_101_B_11011.sce"
		   ]
		  },
  {
"cell_type": "code",
	   "execution_count": null,
	   "metadata": {
	    "collapsed": true
	   },
	   "outputs": [],
"source": [
"//a\n",
"N2 = '101'; //binary ordered sequence \n",
"N = bin2dec(N2); //decimal equivalent of N2\n",
"disp('a')\n",
"disp(N, 'decimal equivalent of 101 = ')\n",
"\n",
"//b\n",
"N2 = '11011'; //binary ordered sequence \n",
"N = bin2dec(N2); //decimal equivalent of N2\n",
"disp('b')\n",
"disp(N, 'decimal equivalent of 11011 = ')"
   ]
   }
,
{
		   "cell_type": "markdown",
		   "metadata": {},
		   "source": [
			"## Example 11.2: Determine_the_decimal_equivalent_of_A_octal_number_432_B_hexadecimal_number_C4F.sce"
		   ]
		  },
  {
"cell_type": "code",
	   "execution_count": null,
	   "metadata": {
	    "collapsed": true
	   },
	   "outputs": [],
"source": [
"//a\n",
"N8 = '432'; //octal number\n",
"N = oct2dec(N8); //decimal representation of N8\n",
"disp('a')\n",
"disp(N,'decimal equivalent of 432 = ')\n",
"\n",
"//b\n",
"N16 = 'C4F'; //hexadecimal number \n",
"N = hex2dec(N16); //decimal representation of N16\n",
"disp('b')\n",
"disp(N,'decimal equivalent of C4F = ') "
   ]
   }
,
{
		   "cell_type": "markdown",
		   "metadata": {},
		   "source": [
			"## Example 11.3: Find_the_binary_and_octal_equivalents_of_247.sce"
		   ]
		  },
  {
"cell_type": "code",
	   "execution_count": null,
	   "metadata": {
	    "collapsed": true
	   },
	   "outputs": [],
"source": [
"N = 247;\n",
"N2 = dec2bin(N); //binary equivalent of N\n",
"N8 = dec2oct(N); //octal equivalent of N\n",
"disp(N2, 'binary equivalent of 247 = ')\n",
"disp(N8, 'octal equivalent of 247 = ')"
   ]
   }
],
"metadata": {
		  "kernelspec": {
		   "display_name": "Scilab",
		   "language": "scilab",
		   "name": "scilab"
		  },
		  "language_info": {
		   "file_extension": ".sce",
		   "help_links": [
			{
			 "text": "MetaKernel Magics",
			 "url": "https://github.com/calysto/metakernel/blob/master/metakernel/magics/README.md"
			}
		   ],
		   "mimetype": "text/x-octave",
		   "name": "scilab",
		   "version": "0.7.1"
		  }
		 },
		 "nbformat": 4,
		 "nbformat_minor": 0
}
