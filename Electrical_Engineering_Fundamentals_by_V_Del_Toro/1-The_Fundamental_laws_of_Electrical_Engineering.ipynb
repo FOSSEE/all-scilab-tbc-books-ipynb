{
"cells": [
 {
		   "cell_type": "markdown",
	   "metadata": {},
	   "source": [
       "# Chapter 1: The Fundamental laws of Electrical Engineering"
	   ]
	},
{
		   "cell_type": "markdown",
		   "metadata": {},
		   "source": [
			"## Example 1.1: force_between_two_like_charges_in_free_space.sce"
		   ]
		  },
  {
"cell_type": "code",
	   "execution_count": null,
	   "metadata": {
	    "collapsed": true
	   },
	   "outputs": [],
"source": [
"E0 = 1/(36*%pi*10^9); //permitivity in free space \n",
"k = 4*%pi*E0 ; \n",
"q1 = 1; // charge on the first particle in coulombs \n",
"q2 = 1; // charge on the second particle in coulombs \n",
"d = 1; // distance between the particles in meter\n",
"F = (q1*q2)/(k*d^2); //force between the two particles in newtons \n",
"\n",
"disp(F, 'force in free space between the two particles is in Newtons is:')"
   ]
   }
],
"metadata": {
		  "kernelspec": {
		   "display_name": "Scilab",
		   "language": "scilab",
		   "name": "scilab"
		  },
		  "language_info": {
		   "file_extension": ".sce",
		   "help_links": [
			{
			 "text": "MetaKernel Magics",
			 "url": "https://github.com/calysto/metakernel/blob/master/metakernel/magics/README.md"
			}
		   ],
		   "mimetype": "text/x-octave",
		   "name": "scilab",
		   "version": "0.7.1"
		  }
		 },
		 "nbformat": 4,
		 "nbformat_minor": 0
}
