{
"cells": [
 {
		   "cell_type": "markdown",
	   "metadata": {},
	   "source": [
       "# Chapter 18: The three phase Induction motor"
	   ]
	},
{
		   "cell_type": "markdown",
		   "metadata": {},
		   "source": [
			"## Example 18.1: EX18_1.sce"
		   ]
		  },
  {
"cell_type": "code",
	   "execution_count": null,
	   "metadata": {
	    "collapsed": true
	   },
	   "outputs": [],
"source": [
"//a\n",
"V1 = 440/sqrt(3);\n",
"s = 0.025; //slip\n",
"r1 = 0.1;\n",
"r2 = 0.12;\n",
"x1 = 0.35;\n",
"x2 = 0.4;\n",
"\n",
"z = complex(r1 + r2/s, x1 + x2);\n",
"i2 = V1/z; //input line current\n",
"I2 = sqrt(real(i2)^2 + imag(i2)^2); //magnitude of input line current \n",
"disp('a')\n",
"disp(i2,'input line current = ')\n",
"\n",
"i1 = complex(18*cos(-1.484), 18*sin(-1.484)); // magnetizing current\n",
"I1 = sqrt(real(i1)^2 + imag(i1)^2); //magnitude of magnetizing current\n",
"i = i1 + i2; //total current drawn from the voltage source\n",
"I = sqrt(real(i)^2 + imag(i)^2); //magnitude of total current  \n",
"theta = atan(imag(i)/real(i)); //phase difference between current and voltage \n",
"pf = cos(theta); //power factor\n",
"disp(pf,'power factor = ')\n",
"if theta >= 0 then\n",
"    disp('leading')\n",
"else disp('lagging')\n",
"end\n",
"\n",
"//b\n",
"f = 60; //hertz \n",
"ns = 1800; \n",
"ws = 2*%pi*ns/f; //stator angular velocity\n",
"Pg = 3*I2^2*r2/s; //power \n",
"T = Pg/ws; //developed electromagnetic torque\n",
"disp('b') \n",
"disp(T,'developed electromagneic torque (in Newton-meter) = ')\n",
"\n",
"//c\n",
"Prot = 950; //rotational losses (in watts)\n",
"Po = Pg*(1 - s) - Prot ; //output power\n",
"HPo = Po/746; //output horse power\n",
"disp('c')\n",
"disp(HPo,'output horse power = ')\n",
"\n",
"//d\n",
"Pc = 1200; //core losses (in W)\n",
"SCL = 3*I^2*r1; //stator copper loss\n",
"RCL = 3*I2^2*r2; //rotar copper loss\n",
"loss = Pc + SCL + RCL + Prot; //total losses\n",
"Pi = real(3*V1*i); //input power\n",
"efficiency = 1 - (loss/Pi); \n",
"disp(efficiency,'efficiency = ')"
   ]
   }
],
"metadata": {
		  "kernelspec": {
		   "display_name": "Scilab",
		   "language": "scilab",
		   "name": "scilab"
		  },
		  "language_info": {
		   "file_extension": ".sce",
		   "help_links": [
			{
			 "text": "MetaKernel Magics",
			 "url": "https://github.com/calysto/metakernel/blob/master/metakernel/magics/README.md"
			}
		   ],
		   "mimetype": "text/x-octave",
		   "name": "scilab",
		   "version": "0.7.1"
		  }
		 },
		 "nbformat": 4,
		 "nbformat_minor": 0
}
