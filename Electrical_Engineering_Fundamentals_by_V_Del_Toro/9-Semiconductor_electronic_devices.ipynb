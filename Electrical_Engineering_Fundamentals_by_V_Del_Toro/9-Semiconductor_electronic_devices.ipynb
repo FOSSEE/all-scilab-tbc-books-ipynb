{
"cells": [
 {
		   "cell_type": "markdown",
	   "metadata": {},
	   "source": [
       "# Chapter 9: Semiconductor electronic devices"
	   ]
	},
{
		   "cell_type": "markdown",
		   "metadata": {},
		   "source": [
			"## Example 9.2: EX9_2.sce"
		   ]
		  },
  {
"cell_type": "code",
	   "execution_count": null,
	   "metadata": {
	    "collapsed": true
	   },
	   "outputs": [],
"source": [
"// Quiescent point\n",
"Idq = 0.0034; // drain current\n",
"Vdq = 15; // drain voltage\n",
"Vgq = 1; // gate voltage\n",
"\n",
"Vdd = 24; //drain supply voltage \n",
"\n",
"Rs = Vgq/Idq;\n",
"disp(Rs,'The value of self bais source resistance is(in ohm): ')\n",
"\n",
"Rd = (Vdd - Vdq)/Idq ; \n",
"disp(Rd,'The value of drain load resistance is(in ohm): ')"
   ]
   }
,
{
		   "cell_type": "markdown",
		   "metadata": {},
		   "source": [
			"## Example 9.3: EX9_3.sce"
		   ]
		  },
  {
"cell_type": "code",
	   "execution_count": null,
	   "metadata": {
	    "collapsed": true
	   },
	   "outputs": [],
"source": [
"//a\n",
"//transistor parameters \n",
" R2 = 0.625;\n",
" hie = 1.67;\n",
" Rb = 4.16;\n",
" Rl = 2.4;\n",
" Roe = 150;\n",
" \n",
" Cc = 25 * 10^-6;\n",
" rBB = 0.29;\n",
" rBE = 1.375;\n",
" Cd = 6900 * 10^-12;\n",
" Ct = 40 * 10^-12;\n",
" gm = 0.032;\n",
" \n",
"  Req = (Rl*Roe)/(Rl + Roe);\n",
"  hfe = 44;\n",
"  a = 1 + (R2/Req);\n",
"  b = 1 + (hie/Rb);\n",
"  Aim = -hfe/(a*b); // mid band frequency gain \n",
"  disp('a')\n",
"  disp(Aim,'The mid band frequency gain of the first stage of the circuit is: ')\n",
"  \n",
"  //b\n",
"  Tl = 2*%pi*(Req + R2)*Cc*(10^3);\n",
"  Fl = 1/Tl; \n",
"  \n",
"  Rp = (Req*R2)/(Req + R2);\n",
"  C = Cd + Ct*(1 + gm*Rp*10^3);\n",
"  d = Rb + hie ;\n",
"  e = rBE * (Rb + rBB)* 10^3 * C ; \n",
"  Fh = d/(2*%pi*e);\n",
"  \n",
"  BW = Fh - Fl;\n",
" disp('b')\n",
" disp(BW, 'The bandwidth of the first stage amplifier in Hz is :')\n",
"  \n",
"  "
   ]
   }
],
"metadata": {
		  "kernelspec": {
		   "display_name": "Scilab",
		   "language": "scilab",
		   "name": "scilab"
		  },
		  "language_info": {
		   "file_extension": ".sce",
		   "help_links": [
			{
			 "text": "MetaKernel Magics",
			 "url": "https://github.com/calysto/metakernel/blob/master/metakernel/magics/README.md"
			}
		   ],
		   "mimetype": "text/x-octave",
		   "name": "scilab",
		   "version": "0.7.1"
		  }
		 },
		 "nbformat": 4,
		 "nbformat_minor": 0
}
