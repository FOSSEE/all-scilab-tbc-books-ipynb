{
"cells": [
 {
		   "cell_type": "markdown",
	   "metadata": {},
	   "source": [
       "# Chapter 19: Computations of Synchronous Motor Performance"
	   ]
	},
{
		   "cell_type": "markdown",
		   "metadata": {},
		   "source": [
			"## Example 19.1: Find_A_induced_excitation_voltage_per_phase_B_line_current_C_power_factor.sce"
		   ]
		  },
  {
"cell_type": "code",
	   "execution_count": null,
	   "metadata": {
	    "collapsed": true
	   },
	   "outputs": [],
"source": [
"//a\n",
"efficiency = 0.9; \n",
"Pi = 200*746/efficiency; //input power \n",
"x = 11; //reactance of the motor\n",
"V1 = 2300/sqrt(3); //voltage rating \n",
"delta = 15*%pi/180; //power angle\n",
"Ef = Pi*x/(3*V1*sin(delta)); //the induced excitation voltage per phase \n",
"disp('a')\n",
"disp(Ef,'the induced excitation voltage per phase = ')\n",
"\n",
"//b\n",
"z = complex(0,x); //impedance of the motor \n",
"ef = complex(Ef*cos(-delta),Ef*sin(-delta));\n",
"\n",
"Ia = (V1 - ef)/z ; //armature current \n",
"disp('b')\n",
"disp(Ia,'armatur current = ')\n",
"\n",
"//c\n",
"theata = atan(imag(Ia)/real(Ia)); //phase difference between Ia and V1\n",
"pf = cos(theata); //power factor \n",
"\n",
"disp('c')\n",
"disp(pf,'power factor = ')\n",
"\n",
"if sin(theata)> 0  then\n",
"    disp('leading')\n",
"else\n",
"    disp('lagging')\n",
"end"
   ]
   }
],
"metadata": {
		  "kernelspec": {
		   "display_name": "Scilab",
		   "language": "scilab",
		   "name": "scilab"
		  },
		  "language_info": {
		   "file_extension": ".sce",
		   "help_links": [
			{
			 "text": "MetaKernel Magics",
			 "url": "https://github.com/calysto/metakernel/blob/master/metakernel/magics/README.md"
			}
		   ],
		   "mimetype": "text/x-octave",
		   "name": "scilab",
		   "version": "0.7.1"
		  }
		 },
		 "nbformat": 4,
		 "nbformat_minor": 0
}
