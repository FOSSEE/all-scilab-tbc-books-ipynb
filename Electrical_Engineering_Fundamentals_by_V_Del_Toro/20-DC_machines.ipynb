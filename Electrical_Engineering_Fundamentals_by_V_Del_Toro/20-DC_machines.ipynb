{
"cells": [
 {
		   "cell_type": "markdown",
	   "metadata": {},
	   "source": [
       "# Chapter 20: DC machines"
	   ]
	},
{
		   "cell_type": "markdown",
		   "metadata": {},
		   "source": [
			"## Example 20.2: EX20_2.sce"
		   ]
		  },
  {
"cell_type": "code",
	   "execution_count": null,
	   "metadata": {
	    "collapsed": true
	   },
	   "outputs": [],
"source": [
"//a\n",
"Vt = 230; //(in volts)\n",
"Ia = 73; //armature current (in amps)\n",
"If = 1.6; //feild current (in amps)\n",
"Ra = 0.188; //armature circuit resistance(in ohms)\n",
"n = 1150; //rated speed of the rotor(in rpm)\n",
"Po = 20*746; //output power (in watts)\n",
"\n",
"Ea = Vt - (Ia*Ra); //armature voltage \n",
"wm = 2*%pi*n/60; //rated speed of the rotor (in rad/sec)\n",
"T = Ea*Ia/wm ; //electromagnetic torque \n",
"\n",
"disp('a')\n",
"disp(T,'electromagnetic torque = ')\n",
"\n",
"//b\n",
"a = 4; //no. of parallel armature paths \n",
"p = 4; //no. of poles\n",
"z = 882; //no. of armature conductors\n",
"flux = Ea*60*a/(p*z*n); //flux per pole (in Wb)\n",
"\n",
"disp('b')\n",
"disp(flux,'flux per pole = ')\n",
"\n",
"//c\n",
"Prot = (Ea*Ia) - Po; //rotational loss (in watt)\n",
"disp('c')\n",
"disp(Prot,'rotational losses = ')\n",
"\n",
"//d\n",
"losses = Prot + (Ia^2 * Ra) + (Vt * If) ; \n",
"Pi = (Ea*Ia) + (Ia^2 * Ra) + (Vt * If); //input power\n",
"efficiency = 1 - (losses/Pi);\n",
"\n",
"disp('d')\n",
"disp(efficiency,'efficiency = ')"
   ]
   }
,
{
		   "cell_type": "markdown",
		   "metadata": {},
		   "source": [
			"## Example 20.3: Determine_the_new_operating_speed.sce"
		   ]
		  },
  {
"cell_type": "code",
	   "execution_count": null,
	   "metadata": {
	    "collapsed": true
	   },
	   "outputs": [],
"source": [
"// final flux = 0.8*initial flux\n",
"Ia1 = 73; //initial armature current (in amps)\n",
"Vt = 230; //(in volts)\n",
"Ra = 0.188; //armature circuit resistance \n",
"n1 = 1150; //initial rotor speed (in rpm)\n",
"Ea1 = 216.3; //initial armature voltage \n",
"\n",
"Ia2 = (1/0.8)*Ia1 ; //final armature current \n",
"Ea2 = Vt - (Ia2*Ra); //final armature voltage \n",
"\n",
"n2 = (Ea2/Ea1)*(1/0.8)*n1; //final rotor speed \n",
"\n",
"disp(n2,'final rotor speed(in rpm) = ')"
   ]
   }
,
{
		   "cell_type": "markdown",
		   "metadata": {},
		   "source": [
			"## Example 20.4: EX20_4.sce"
		   ]
		  },
  {
"cell_type": "code",
	   "execution_count": null,
	   "metadata": {
	    "collapsed": true
	   },
	   "outputs": [],
"source": [
"//a\n",
"rop = 0.4; //ratio of ON time T0 to cycle time Tp\n",
"Vb =550; //rated terminal voltage of the dc motor\n",
"Ia = 30; //current drawn by the motor (in amps)\n",
"Ra = 1; //armature circuit resistance (in ohms)\n",
"ts = 5.94; //torque and speed parameter of the motor (in N-m/A)\n",
" \n",
"Vm = rop*Vb; //average value of the armature terminal voltage \n",
"Ea = Vm - (Ia*Ra); //induced armature voltage \n",
"\n",
"wm = Ea/ts; //motor speed (in rad/s)\n",
"disp('a')\n",
"disp(wm,'motor speed (in rad/s) = ')\n",
"\n",
"//b\n",
"deltaI = 5; //change of armature current during the ON period \n",
"La = 0.1; //armature winding inductance (in H)\n",
"To = La*deltaI/(Vb - Ea); //ON time \n",
"Tp = To/rop; //cycle time \n",
"\n",
"f = 1/Tp ; //required pulses per second \n",
"disp('b')\n",
"disp(f,'required pulses per second = ')\n",
"\n",
"//c\n",
"rop = 0.7; //new ratio of ON time T0 to cycle time Tp\n",
"Vm = rop*Vb; //average value of the armature terminal voltage\n",
"Ea = Vm - (Ia*Ra); //induced armature voltage \n",
"\n",
"wm = Ea/ts; //motor speed (in rad/s)\n",
"disp('c')\n",
"disp(wm,'motor speed with To/Tp equal to 0.7 (in rad/s) = ')\n",
"\n",
"To = La*deltaI/(Vb - Ea); //ON time \n",
"Tp = To/rop; //cycle time \n",
"\n",
"f = 1/Tp ; //required pulses per second \n",
"disp(f,'required pulses per second with To/Tp equal to 0.7 = ')"
   ]
   }
],
"metadata": {
		  "kernelspec": {
		   "display_name": "Scilab",
		   "language": "scilab",
		   "name": "scilab"
		  },
		  "language_info": {
		   "file_extension": ".sce",
		   "help_links": [
			{
			 "text": "MetaKernel Magics",
			 "url": "https://github.com/calysto/metakernel/blob/master/metakernel/magics/README.md"
			}
		   ],
		   "mimetype": "text/x-octave",
		   "name": "scilab",
		   "version": "0.7.1"
		  }
		 },
		 "nbformat": 4,
		 "nbformat_minor": 0
}
