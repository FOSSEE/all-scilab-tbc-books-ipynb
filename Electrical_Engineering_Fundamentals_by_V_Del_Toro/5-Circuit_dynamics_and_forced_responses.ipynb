{
"cells": [
 {
		   "cell_type": "markdown",
	   "metadata": {},
	   "source": [
       "# Chapter 5: Circuit dynamics and forced responses"
	   ]
	},
{
		   "cell_type": "markdown",
		   "metadata": {},
		   "source": [
			"## Example 5.2: EX5_2.sce"
		   ]
		  },
  {
"cell_type": "code",
	   "execution_count": null,
	   "metadata": {
	    "collapsed": true
	   },
	   "outputs": [],
"source": [
"C = 10*10^-6 ; //capacitance(in farads)\n",
"R = 0.2*10^6; //resistance (in ohms)\n",
"Vi = 40; //initial voltage of the capacitor (in volts)\n",
"Wc = (1/2)*C*Vi^2; //energy stored in the capacitor \n",
"//current flowing in circuit as a function of time i(t) = 2*10^-4*exp(-t/2)\n",
"//power dissipated in the resistor = R*i^2\n",
"Wr = integrate('R*4*10^-8*exp(-t)','t',0,100)\n",
"disp(Wc,'energy stored in the capacitor(in Joules) = ')\n",
"disp(Wr,'energy dissipated in the resistor(in Joules) = ')"
   ]
   }
],
"metadata": {
		  "kernelspec": {
		   "display_name": "Scilab",
		   "language": "scilab",
		   "name": "scilab"
		  },
		  "language_info": {
		   "file_extension": ".sce",
		   "help_links": [
			{
			 "text": "MetaKernel Magics",
			 "url": "https://github.com/calysto/metakernel/blob/master/metakernel/magics/README.md"
			}
		   ],
		   "mimetype": "text/x-octave",
		   "name": "scilab",
		   "version": "0.7.1"
		  }
		 },
		 "nbformat": 4,
		 "nbformat_minor": 0
}
