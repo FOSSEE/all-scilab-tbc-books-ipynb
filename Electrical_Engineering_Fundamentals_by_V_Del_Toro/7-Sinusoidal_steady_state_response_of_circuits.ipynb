{
"cells": [
 {
		   "cell_type": "markdown",
	   "metadata": {},
	   "source": [
       "# Chapter 7: Sinusoidal steady state response of circuits"
	   ]
	},
{
		   "cell_type": "markdown",
		   "metadata": {},
		   "source": [
			"## Example 7.10: Find_the_current_in_the_Z3_branchby_using_the_Nodal_method.sce"
		   ]
		  },
  {
"cell_type": "code",
	   "execution_count": null,
	   "metadata": {
	    "collapsed": true
	   },
	   "outputs": [],
"source": [
"V1 = complex(10);\n",
"V2 = complex(10*cos(-%pi/3),10*sin(-%pi/3));\n",
"Z1 = complex(1,1);\n",
"Z2 = complex(1,-1);\n",
"Z3 = complex(1,2);\n",
"//By appling the nodal analysis we get the following equation:\n",
"//Va((1/Z1)+(1/Z2)+(1/Z3)) = (V1/Z1) + (V2/Z2)\n",
"\n",
"Y = (1/Z1)+(1/Z2)+(1/Z3);\n",
"Va = (1/Y)*((V1/Z1) + (V2/Z2)); //voltage of node a\n",
"\n",
"Ibr = Va/Z3; //current flowing through Z3\n",
"\n",
"disp(Ibr,'current flowing through Z3 = ')"
   ]
   }
,
{
		   "cell_type": "markdown",
		   "metadata": {},
		   "source": [
			"## Example 7.11: Find_the_current_flowing_through_Z3_by_using_Thevinins_theoram.sce"
		   ]
		  },
  {
"cell_type": "code",
	   "execution_count": null,
	   "metadata": {
	    "collapsed": true
	   },
	   "outputs": [],
"source": [
"V1 = complex(10);\n",
"V2 = complex(10*cos(-%pi/3),10*sin(-%pi/3));\n",
"Z1 = complex(1,1);\n",
"Z2 = complex(1,-1);\n",
"Z3 = complex(1,2);\n",
"\n",
"Zth = Z3 + (Z1*Z2/(Z1+Z2)); // thevinin resistance \n",
"\n",
"I = (V1 - V2)/(Z1 + Z2); // current flowing through the circuit when R3 is not connected \n",
"Vth = V1 - I*Z1; //thevinin voltage \n",
"\n",
"Ibr = Vth/Zth; //current flowing through Z3\n",
"\n",
"disp(Ibr,'current flowing through Z3 = ')"
   ]
   }
,
{
		   "cell_type": "markdown",
		   "metadata": {},
		   "source": [
			"## Example 7.1: Find_the_average_value_of_the_given_periodic_function.sce"
		   ]
		  },
  {
"cell_type": "code",
	   "execution_count": null,
	   "metadata": {
	    "collapsed": true
	   },
	   "outputs": [],
"source": [
"Vm = 2; // assumption \n",
"//average value of the function \n",
"//v(t) = Vm*alpha/(%pi/3) for 0 <= alpha <= %pi/3\n",
"//     = Vm   for  %pi/3 <= alpha <= %pi/2\n",
"Vav = (2/%pi)*integrate('Vm*alpha*(3/%pi)','alpha',0,%pi/3) + (2/%pi)*integrate('Vm*alpha/alpha','alpha',%pi/3,%pi/2);\n",
"disp(Vav)"
   ]
   }
,
{
		   "cell_type": "markdown",
		   "metadata": {},
		   "source": [
			"## Example 7.2: Determine_the_power_factor_and_average_power_delivered_to_the_circuit.sce"
		   ]
		  },
  {
"cell_type": "code",
	   "execution_count": null,
	   "metadata": {
	    "collapsed": true
	   },
	   "outputs": [],
"source": [
"theta = %pi/6; //phase difference between current and voltage \n",
"pf = cos(theta); //power factor \n",
"disp(pf,'power factor = ')\n",
"\n",
"Vm = 170; //peak voltage \n",
"Im = 14.14; //peak current \n",
"\n",
"Pav = Vm*Im*pf/2; //average power delivered to the circuit \n",
"disp(Pav,'average power delivered to the circuit = ')"
   ]
   }
,
{
		   "cell_type": "markdown",
		   "metadata": {},
		   "source": [
			"## Example 7.3: Find_the_expression_for_the_sum_of_i1_and_i2.sce"
		   ]
		  },
  {
"cell_type": "code",
	   "execution_count": null,
	   "metadata": {
	    "collapsed": true
	   },
	   "outputs": [],
"source": [
"// lets assume that i1 and i2 are stationary and the coordinate system is  rotating with an angular frquency of w. And i1 lies on the x-axis (i.e.    making an angle of 0 degree with the x-axis)\n",
"theta = %pi/3; //phase difference between i1 and i2;\n",
"I1 = 10*sqrt(2); // peak value of i1\n",
"I2 = 20*sqrt(2); // peak value of i2 \n",
"I = sqrt(I1^2 + I2^2 + 2*I1*I2*cos(theta)); //peak value of the resultant current \n",
"\n",
"phi = atan(I2*sin(theta)/(I1 + I2*cos(theta)));// phase difference between the resultant and i1(in radians)\n",
"disp(I,'peak value of the resultant current = ')\n",
"disp(phi,'phase difference between the resultant and i1 = ')\n",
"// result : i = I sin(wt + phi)"
   ]
   }
,
{
		   "cell_type": "markdown",
		   "metadata": {},
		   "source": [
			"## Example 7.4: Find_the_effective_value_of_the_resultant_current.sce"
		   ]
		  },
  {
"cell_type": "code",
	   "execution_count": null,
	   "metadata": {
	    "collapsed": true
	   },
	   "outputs": [],
"source": [
"I1 = 10; //peak value of i1\n",
"I2 = 20; //peak value of i2\n",
"theta = %pi/3; //phase difference between i1 and i2 \n",
"// complex representation of the two currents \n",
"i1 = complex(10); \n",
"i2 = complex(20*cos(%pi/3),20*sin(%pi/3));\n",
"\n",
"i = i1 + i2 ; //resultant current \n",
"I = sqrt (real(i)^2 + imag(i)^2); //calculating the peak value of the resultant current by using its real and imaginary parts \n",
"phi = atan(imag(i)/real(i)); //calculatig the phase of the resultant current by using its real and imaginary parts \n",
"disp(i,'resultant current = ')\n",
"disp(I,'peak value of the resultant current = ')\n",
"disp(phi,'phase of the resultant current = ')\n",
"//result : i = Isin(wt + phi)"
   ]
   }
,
{
		   "cell_type": "markdown",
		   "metadata": {},
		   "source": [
			"## Example 7.5: Find_the_time_expression_for_the_resultant_current.sce"
		   ]
		  },
  {
"cell_type": "code",
	   "execution_count": null,
	   "metadata": {
	    "collapsed": true
	   },
	   "outputs": [],
"source": [
"I1 = 3; //peak value of i1\n",
"I2 = 5; //peak value of i2\n",
"I3 = 6; //peak value of i3\n",
"theta1 = %pi/6; //phase difference between i2 and i1 \n",
"theta2 = -2*%pi/3; //phase difference between i3 and i1\n",
"// complex representation of the currents\n",
"i1 = complex(3);\n",
"i2 = complex(5*cos(%pi/6),5*sin(%pi/6));\n",
"i3 = complex(6*cos(-2*%pi/3),6*sin(-2*%pi/3));\n",
"\n",
"i = i1 + i2 + i3; //resultant current \n",
"I = sqrt (real(i)^2 + imag(i)^2); //calculating the peak value of the resultant current by using its real and imaginary parts\n",
"phi = atan(imag(i)/real(i)); //calculatig the phase of the resultant current by using its real and imaginary parts \n",
"disp(I,'peak value of the resultant current = ')\n",
"disp(phi,'phase of the resultant current = ')\n",
"//result : i = Isin(wt + phi)"
   ]
   }
,
{
		   "cell_type": "markdown",
		   "metadata": {},
		   "source": [
			"## Example 7.6: Find_the_value_of_the_given_expression.sce"
		   ]
		  },
  {
"cell_type": "code",
	   "execution_count": null,
	   "metadata": {
	    "collapsed": true
	   },
	   "outputs": [],
"source": [
"//find V*Z1/Z2\n",
"V = complex(45*sqrt(3), -45);\n",
"Z1 = complex(2.5*sqrt(2), 2.5*sqrt(2));\n",
"Z2 = complex(7.5, 7.5*sqrt(3));\n",
"// we have to find V*Z1/Z2\n",
"Z = V*Z1/Z2;\n",
"disp(Z,'V*Z1/Z2 = ')"
   ]
   }
,
{
		   "cell_type": "markdown",
		   "metadata": {},
		   "source": [
			"## Example 7.7: EX7_7.sce"
		   ]
		  },
  {
"cell_type": "code",
	   "execution_count": null,
	   "metadata": {
	    "collapsed": true
	   },
	   "outputs": [],
"source": [
"//a \n",
"f = 60; //frequency of the volatge source\n",
"V = complex(141);//voltage supply V = 141sin(wt)\n",
"R = 3; //resistance of the circuit \n",
"L = 0.0106; // inductance of the circuit \n",
"Z = complex(R,2*%pi*f*L);//impedance of the circuit = R + jwL\n",
"i = V/Z; //current \n",
"I = sqrt (real(i)^2 + imag(i)^2); //calculating the peak value of the current by using its real and imaginary parts\n",
"phi = atan(imag(i)/real(i)); //calculatig the phase of the resultant current by using its real and imaginary parts \n",
"disp('a')\n",
"disp(I,'effective value of the steady state current = ')\n",
"disp(phi,'relative phase angle = ')\n",
"\n",
"//b\n",
"// expression for the instantaneous current can be written as \n",
"//i = I sin(wt + phi)\n",
"\n",
"//c\n",
"R = complex(3);\n",
" vr = V*R/Z; // voltage across the resistor\n",
"Vr = sqrt (real(vr)^2 + imag(vr)^2); //peak value of the voltage across the resistor \n",
"phi1 = atan(imag(vr)/real(vr)); //phase of the voltage across the resistor \n",
"\n",
"vl = V - vr; //voltage across the inductor \n",
"Vl = sqrt (real(vl)^2 + imag(vl)^2); //peak value of the voltage across the inductor \n",
"phi2 = atan(imag(vl)/real(vl)); //phase of the voltage across the inductor \n",
"disp('c')\n",
"disp(Vr,'effective value of the voltage drop across the resistor = ')\n",
"disp(phi1,'phase of the voltage drop across the resistor = ')\n",
"disp(Vl,'effective value of the voltage drop across the inductor = ')\n",
"disp(phi2,'phase of the voltage drop across the inductor = ')\n",
"\n",
"//d\n",
"Pav = V*I*cos(phi); //average power dissipated by the circuit \n",
"disp('d')\n",
"disp(Pav,'average power dissipated by the circuit = ')\n",
"\n",
"//e\n",
"pf = cos(phi); //power factor\n",
"disp('e')\n",
"disp(pf,'power factor = ')"
   ]
   }
,
{
		   "cell_type": "markdown",
		   "metadata": {},
		   "source": [
			"## Example 7.8: Find_the_equivalent_impedance_appearing_between_points_a_and_c.sce"
		   ]
		  },
  {
"cell_type": "code",
	   "execution_count": null,
	   "metadata": {
	    "collapsed": true
	   },
	   "outputs": [],
"source": [
"//impedances in the circuit \n",
"Z1 = complex(10,10);\n",
"Z2 = complex(15,20);\n",
"Z3 = complex(3,-4);\n",
"Z4 = complex(8,6);\n",
"\n",
"Ybc = (1/Z2)+(1/Z3)+(1/Z4); //admittance of the parallel combination \n",
"Zbc = (1/Ybc); //impedance of the parallel combination\n",
"\n",
"Z = Z1 + Zbc; // equivalent impedance of the circuit \n",
"\n",
"disp(Z,'equivalent impedance of the circuit = ')"
   ]
   }
,
{
		   "cell_type": "markdown",
		   "metadata": {},
		   "source": [
			"## Example 7.9: Find_the_current_which_flows_through_branch_Z3.sce"
		   ]
		  },
  {
"cell_type": "code",
	   "execution_count": null,
	   "metadata": {
	    "collapsed": true
	   },
	   "outputs": [],
"source": [
"V1 = complex(10);\n",
"V2 = complex(10*cos(-%pi/3),10*sin(-%pi/3));\n",
"Z1 = complex(1,1);\n",
"Z2 = complex(1,-1);\n",
"Z3 = complex(1,2);\n",
"\n",
"//by mesh analysis we get the following equations:\n",
"//I1*Z11 - I2*Z12 = V1\n",
"//-I1*Z21 + I2*Z22 = -V2; where I1 and I2 are the currrents flowing in the first and second meshes respectively\n",
"Z11 = Z1 + Z1;\n",
"Z12 = Z1 + Z2;\n",
"Z21 = Z12;\n",
"Z22 = Z2 + Z2;\n",
"\n",
"// the mesh equations can be represented in the matrix form as I*Z = V\n",
"Z = [Z11, -Z12; -Z21, Z22]; //impedance matrix \n",
"V = [V1; -V2]; //voltage matrix \n",
"I = inv(Z)*V; //current matrix = [I1;I2]\n",
"\n",
"I1 = I(1,:); // I1 = first row of I matrix\n",
"I2 = I(2,:); // I1 = second row of I matrix\n",
"\n",
"Ibr = I1 - I2; //current flowing through Z3\n",
"\n",
"disp(Ibr,'current flowing through Z3 = ')\n",
"\n",
"\n",
"\n",
""
   ]
   }
],
"metadata": {
		  "kernelspec": {
		   "display_name": "Scilab",
		   "language": "scilab",
		   "name": "scilab"
		  },
		  "language_info": {
		   "file_extension": ".sce",
		   "help_links": [
			{
			 "text": "MetaKernel Magics",
			 "url": "https://github.com/calysto/metakernel/blob/master/metakernel/magics/README.md"
			}
		   ],
		   "mimetype": "text/x-octave",
		   "name": "scilab",
		   "version": "0.7.1"
		  }
		 },
		 "nbformat": 4,
		 "nbformat_minor": 0
}
