{
"cells": [
 {
		   "cell_type": "markdown",
	   "metadata": {},
	   "source": [
       "# Chapter 16: Transformers"
	   ]
	},
{
		   "cell_type": "markdown",
		   "metadata": {},
		   "source": [
			"## Example 16.1: EX16_1.sce"
		   ]
		  },
  {
"cell_type": "code",
	   "execution_count": null,
	   "metadata": {
	    "collapsed": true
	   },
	   "outputs": [],
"source": [
"//a\n",
"V1 = 1100; //higher voltage\n",
"V2 = 220; //lower voltage \n",
"a = V1/V2; //turns ratio \n",
"r1 = 0.1; //high voltage winding resistance(in ohms)\n",
"x1 = 0.3; //high voltage leakage reactance(in ohms)\n",
"r2 = 0.004; //low voltage winding resistance(in ohms)\n",
"x2 = 0.012; //low voltage leakage reactance(in ohms)\n",
"\n",
"Re1 = r1 + (a^2)*r2 ; //equivalent winding resistance referred to the     primary side \n",
"Xe1 = x1 + (a^2)*x2 ; //equivalent leakage reactance referred to the      primary side \n",
"Re2 = (r1/a^2) + r2 ; //equivalent winding resistance referred to the     secondary side \n",
"Xe2 = (x1/a^2) + x2 ; //equivalent leakage reactance referred to the     secondary side \n",
"\n",
"disp('a')\n",
"disp(Re1,'equivalent winding resistance referred to the primary side')\n",
"disp(Xe1,'equivalent leakage reactance referred to the primary side')\n",
"disp(Re2,'equivalent winding resistance referred to the secondary side')\n",
"disp(Xe2,'equivalent leakage reactance referred to the secondary side')\n",
"\n",
"//b\n",
"P = 100; //power (in kVA)\n",
"I21 = P*1000/V1; //primary winding current rating \n",
"Vre1 = I21*Re1; //equivalent resistance drop (in volts)\n",
"VperR1 = Vre1*100/V1 ; // % equivalent resistance drop \n",
"\n",
"Vxe1 = I21*Xe1; //equivalent reactance drop (in volts)\n",
"VperX1 = Vxe1*100/V1; // % equivalent reactance drop \n",
"\n",
"disp('b')\n",
"disp(Vre1,'equivalent resistance drop expressed in terms of primary quantities(in volts) = ')\n",
"disp(VperR1,'% equivalent resistance drop expressed in terms of primary  quantities = ')\n",
"disp(Vxe1,'equivalent reactance drop expressed in terms of primary quantities(in volts) =')\n",
"disp(VperX1,'% equivalent reactance drop expressed in terms of primary  quantities = ')\n",
" \n",
"//c\n",
"I2 = a*I21; // secondary winding current rating \n",
"Vre2 = I2*Re2; //equivalent resistance drop (in volts)\n",
"VperR2 = Vre2*100/V2 ; // % equivalent resistance drop \n",
"\n",
"Vxe2 = I2*Xe2; //equivalent reactance drop (in volts)\n",
"VperX2 = Vxe2*100/V2; // % equivalent reactance drop \n",
"\n",
"disp('c')\n",
"disp(Vre2,'equivalent resistance drop expressed in terms of secondary quantities(in volts) = ')\n",
"disp(VperR2,'% equivalent resistance drop expressed in terms of secondary  quantities = ')\n",
"disp(Vxe2,'equivalent reactance drop expressed in terms of secondary quantities(in volts) =')\n",
"disp(VperX2,'% equivalent reactance drop expressed in terms of secondary  quantities = ')\n",
"\n",
"//d\n",
"Ze1 = complex(Re1,Xe1); //equivalent leakage impedance referred to the  primary\n",
"Ze2 = Ze1/a ; //equivalent leakage impedance referred to the  secondary \n",
"\n",
"disp('d')\n",
"disp(Ze1,'equivalent leakage impedance referred to the  primary = ')\n",
"disp(Ze2,'equivalent leakage impedance referred to the  secondary = ')"
   ]
   }
,
{
		   "cell_type": "markdown",
		   "metadata": {},
		   "source": [
			"## Example 16.2: EX16_2.sce"
		   ]
		  },
  {
"cell_type": "code",
	   "execution_count": null,
	   "metadata": {
	    "collapsed": true
	   },
	   "outputs": [],
"source": [
"Pl = 396; //wattmeter reading on open circuit test \n",
"Vl = 120; //voltmeter reading on open circuit test \n",
"Il = 9.65; //ammeter reading o open circuit test \n",
"a = 2400/120; //turns ratio \n",
"\n",
"theata = acos(Pl/(Vl*Il)); //phase difference between voltage and current \n",
"Irl = Il*cos(theata); //resistive part of Im \n",
"Ixl = Il*sin(theata); //reactive part of Im\n",
"\n",
"rl = Vl/Irl; //low voltage winding resistance \n",
"rh = (a^2)*rl; //rl on the high side \n",
"xl = Vl/Ixl; //magnetizing reactance referred to the lower side \n",
"xh = (a^2)*xl; //corresponding high side value \n",
"\n",
"Ph = 810; //wattmeter reading on short circuit test \n",
"Vh = 92; //voltmeter reading on short circuit test \n",
"Ih = 20.8; //ammeter reading on short circuit test \n",
"\n",
"Zeh = Vh/Ih; //equivalent impeadance referred to the higher side \n",
"Zel = Zeh/(a^2); //equivalent impedance referred to the lower side\n",
"Reh = Ph/(Ih^2); //equivalent resistance referred to the higher side\n",
"Rel = Reh/(a^2); //equivalent resistance referred to the lower side\n",
"Xeh = sqrt((Zeh^2) - (Reh^2)); //equivalent reactance referred to the   higher side\n",
"Xel = Xeh/(a^2); //equivalent reactance referred to the lower side\n",
"\n",
"disp(Zeh,'equivalent impeadance referred to the higher side  = ')\n",
"disp(Zel,'equivalent impedance referred to the lower side = ')\n",
"disp(Reh,'equivalent resistance referred to the higher side = ')\n",
"disp(Rel,'equivalent resistance referred to the lower side = ')\n",
"disp(Xeh,'equivalent reactance referred to the   higher side = ')\n",
"disp(Xel,'equivalent reactance referred to the lower side = ')"
   ]
   }
,
{
		   "cell_type": "markdown",
		   "metadata": {},
		   "source": [
			"## Example 16.3: For_the_transformer_compute_A_efficiency_B_voltage_regulation.sce"
		   ]
		  },
  {
"cell_type": "code",
	   "execution_count": null,
	   "metadata": {
	    "collapsed": true
	   },
	   "outputs": [],
"source": [
"//a\n",
"P = 50; //power rating (in kVA)\n",
"Ph = 810; //wattmeter reading on short circuit test\n",
"Pl = 396; //wattmeter reading on open circuit test \n",
"Ih = 20.8; //ammeter reading on short circuit test\n",
"pf = 0.8; //power factor = 0.8 lagging\n",
"\n",
"losses = (Ph + Pl)/1000; //losses in kW\n",
"outputP = P*pf; //output power\n",
"inputP = outputP + losses ; //input power\n",
"\n",
"efficiency = outputP/inputP ; \n",
"disp('a')\n",
"disp(efficiency,'efficiency = ')\n",
"\n",
"//b\n",
"Xeh = 4; //equivalent reactance referred to the higher side\n",
"Reh = 1.87; //equivalent resistance referred to the higher side\n",
"Zeh = complex(Reh, Xeh); //equivalent impedance referred to the higher  side\n",
"ih = complex(Ih*pf, -Ih*sqrt(1 - (pf^2))); \n",
"V1 = 2400 + Zeh*ih ; //primary voltage \n",
"\n",
"voltageRegulation = (real(V1)-2400)*100/2400;//percent voltage regulation\n",
"disp('b')\n",
"disp(voltageRegulation,'percent voltage regulaton = ')  "
   ]
   }
],
"metadata": {
		  "kernelspec": {
		   "display_name": "Scilab",
		   "language": "scilab",
		   "name": "scilab"
		  },
		  "language_info": {
		   "file_extension": ".sce",
		   "help_links": [
			{
			 "text": "MetaKernel Magics",
			 "url": "https://github.com/calysto/metakernel/blob/master/metakernel/magics/README.md"
			}
		   ],
		   "mimetype": "text/x-octave",
		   "name": "scilab",
		   "version": "0.7.1"
		  }
		 },
		 "nbformat": 4,
		 "nbformat_minor": 0
}
