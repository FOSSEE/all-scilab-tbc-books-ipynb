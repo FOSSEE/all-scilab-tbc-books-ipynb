{
"cells": [
 {
		   "cell_type": "markdown",
	   "metadata": {},
	   "source": [
       "# Chapter 23: Principles of Automatic Control"
	   ]
	},
{
		   "cell_type": "markdown",
		   "metadata": {},
		   "source": [
			"## Example 23.1: Determine_the_new_transfer_gain_and_feedback_factor.sce"
		   ]
		  },
  {
"cell_type": "code",
	   "execution_count": null,
	   "metadata": {
	    "collapsed": true
	   },
	   "outputs": [],
"source": [
"deltaGi = 420 - 380; //variation in the without feedback gain\n",
"Gi = 400; //without feedback gain\n",
"T = 400; //transfer function of the closed loop system\n",
"// (variation in T)/T = (change in G)/G * (1/ 1+H*G) = 0.02\n",
"//1 + H*G  = R\n",
"R = (deltaGi/Gi)/0.02; \n",
"\n",
"G = T*R; //new direct transmission gain with feedback \n",
"H = (G/T - 1)/G; //feedback factor \n",
"\n",
"disp(G,'new direct transmission gain with feedback = ')\n",
"disp(H,'feedback factors = ')"
   ]
   }
],
"metadata": {
		  "kernelspec": {
		   "display_name": "Scilab",
		   "language": "scilab",
		   "name": "scilab"
		  },
		  "language_info": {
		   "file_extension": ".sce",
		   "help_links": [
			{
			 "text": "MetaKernel Magics",
			 "url": "https://github.com/calysto/metakernel/blob/master/metakernel/magics/README.md"
			}
		   ],
		   "mimetype": "text/x-octave",
		   "name": "scilab",
		   "version": "0.7.1"
		  }
		 },
		 "nbformat": 4,
		 "nbformat_minor": 0
}
