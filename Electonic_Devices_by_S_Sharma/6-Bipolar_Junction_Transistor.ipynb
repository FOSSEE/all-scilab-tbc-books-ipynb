{
"cells": [
 {
		   "cell_type": "markdown",
	   "metadata": {},
	   "source": [
       "# Chapter 6: Bipolar Junction Transistor"
	   ]
	},
{
		   "cell_type": "markdown",
		   "metadata": {},
		   "source": [
			"## Example 6.10: Base_resistor_and_stability_factor.sce"
		   ]
		  },
  {
"cell_type": "code",
	   "execution_count": null,
	   "metadata": {
	    "collapsed": true
	   },
	   "outputs": [],
"source": [
"// Exa 6.10\n",
"format('v',6)\n",
"clc;\n",
"clear;\n",
"close;\n",
"// Given data\n",
"Beta= 100;\n",
"V_CC= 12;// in V\n",
"V_BE= 0;// in V\n",
"I_B= 0.3*10^-3;// in A\n",
"R_C= 300;// in Ω\n",
"// Applying KVL for input side, V_CC= I_B*R_B+V_BE or\n",
"R_B= (V_CC-V_BE)/I_B;// in Ω\n",
"R_B= R_B*10^-3;// in k ohm\n",
"disp(R_B,'The value of base resistor in kΩ is : ')\n",
"I_C= Beta*I_B;// in A\n",
"// The collector to emitter voltage \n",
"V_CE= V_CC-I_C*R_C;// in V\n",
"disp(V_CE,'The collector to emitter voltage in V is : ')\n",
"// The stability factor,\n",
"S= 1+Beta;\n",
"disp(S,'The stability factor is : ')"
   ]
   }
,
{
		   "cell_type": "markdown",
		   "metadata": {},
		   "source": [
			"## Example 6.11: DC_bias_voltage.sce"
		   ]
		  },
  {
"cell_type": "code",
	   "execution_count": null,
	   "metadata": {
	    "collapsed": true
	   },
	   "outputs": [],
"source": [
"// Exa 6.11\n",
"format('v',6)\n",
"clc;\n",
"clear;\n",
"close;\n",
"// Given data\n",
"R_B= 400*10^3;// in Ω\n",
"R_C= 2*10^3;// in Ω\n",
"R_E= 1*10^3;// in Ω\n",
"V_CC= 20;// in V\n",
"Beta= 100;\n",
"// Base current can be evaluated as,\n",
"I_B= V_CC/(R_B+Beta*R_E);// in A\n",
"// Collector current\n",
"I_C= Beta*I_B;// in A\n",
"// The collector to emitter voltage\n",
"V_CE= V_CC-I_C*(R_C+R_E);// in V\n",
"I_B= I_B*10^3;// in mA\n",
"I_C= I_C*10^3;// in mA\n",
"disp(I_B,'The value of base current in mA is : ')\n",
"disp(I_C,'The value of collector current in mA is : ')\n",
"disp(V_CE,'The collector to emitter voltage in V is : ')"
   ]
   }
,
{
		   "cell_type": "markdown",
		   "metadata": {},
		   "source": [
			"## Example 6.12: Collector_current_collector_to_emitter_voltage_and_stability_factor.sce"
		   ]
		  },
  {
"cell_type": "code",
	   "execution_count": null,
	   "metadata": {
	    "collapsed": true
	   },
	   "outputs": [],
"source": [
"// Exa 6.12\n",
"format('v',6)\n",
"clc;\n",
"clear;\n",
"close;\n",
"// Given data\n",
"R_B= 180*10^3;// in Ω\n",
"R_C= 820;// in Ω\n",
"R_E= 200;// in Ω\n",
"V_CC= 25;// in V\n",
"V_BE= 0.7;// in V\n",
"Beta= 80;\n",
"// Collector current can be find as,\n",
"I_C= (V_CC-V_BE)/(R_E+R_B/Beta);// in A\n",
"// The collector to emitter voltage\n",
"V_CE= V_CC-I_C*(R_C+R_E);// in V\n",
"I_C=I_C*10^3;// in mA\n",
"disp(I_C,'The value of collector current in mA is : ')\n",
"disp(V_CE,'The collector to emitter voltage in V is : ')\n",
"\n",
"// Note: The calculated value of V_CE in the book is wrong."
   ]
   }
,
{
		   "cell_type": "markdown",
		   "metadata": {},
		   "source": [
			"## Example 6.13: collector_current_and_stability_factor.sce"
		   ]
		  },
  {
"cell_type": "code",
	   "execution_count": null,
	   "metadata": {
	    "collapsed": true
	   },
	   "outputs": [],
"source": [
"// Exa 6.13\n",
"format('v',6)\n",
"clc;\n",
"clear;\n",
"close;\n",
"// Given data\n",
"R_B= 200*10^3;// in Ω\n",
"R_C= 20*10^3;// in Ω\n",
"V_CC= 20;// in V\n",
"V_BE= 0.7;// in V\n",
"Beta= 100;\n",
"// The value of collector current\n",
"I_C= (V_CC-V_BE)/(R_C+R_B/Beta);// in A\n",
"// The collector to emitter voltage\n",
"V_CE= V_CC-I_C*R_C;// in V\n",
"// The stability factor\n",
"S= (1+Beta)/(1+Beta*(R_C/(R_C+R_B)));\n",
"I_C=I_C*10^3;// in mA\n",
"disp(I_C,'The value of collector current in mA is : ')\n",
"disp(V_CE,'The collector to emitter voltage in V is : ')\n",
"disp(S,'The stability factor is : ')\n",
""
   ]
   }
,
{
		   "cell_type": "markdown",
		   "metadata": {},
		   "source": [
			"## Example 6.14: IB_IC_VCE_and_stability.sce"
		   ]
		  },
  {
"cell_type": "code",
	   "execution_count": null,
	   "metadata": {
	    "collapsed": true
	   },
	   "outputs": [],
"source": [
"// Exa 6.14\n",
"format('v',6)\n",
"clc;\n",
"clear;\n",
"close;\n",
"// Given data\n",
"R_B= 100*10^3;// in Ω\n",
"R_C= 10*10^3;// in Ω\n",
"V_CC= 10;// in V\n",
"V_BE= 0;// in V\n",
"Beta= 100;\n",
"// Base current can be evaluated as,\n",
"I_B= (V_CC-V_BE)/(R_B+R_C*Beta);// in A\n",
"// The value of collector current\n",
"I_C= Beta*I_B;// in A\n",
"// The collector to emitter voltage\n",
"V_CE= V_CC-I_C*R_C;// in V\n",
"// The stability factor,\n",
"S= (1+Beta)/(1+Beta*(R_C/(R_C+R_B)));\n",
"I_C=I_C*10^3;// in mA\n",
"disp(I_C,'The value of collector current in mA is : ')\n",
"disp(V_CE,'The collector to emitter voltage in V is : ')\n",
"disp(S,'The stability factor is : ')\n",
"\n",
"// Note: The calculated value of S in the book is wrong."
   ]
   }
,
{
		   "cell_type": "markdown",
		   "metadata": {},
		   "source": [
			"## Example 6.15: Emitter_and_collector_current_and_VCE.sce"
		   ]
		  },
  {
"cell_type": "code",
	   "execution_count": null,
	   "metadata": {
	    "collapsed": true
	   },
	   "outputs": [],
"source": [
"// Exa 6.15\n",
"format('v',6)\n",
"clc;\n",
"clear;\n",
"close;\n",
"// Given data\n",
"R_B= 50*10^3;// in Ω\n",
"R_C= 1*10^3;// in Ω\n",
"R_E= 5*10^3;// in Ω\n",
"V_CC= 10;// in V\n",
"V_EE= 10;// in V\n",
"V_BE= 0.7;// in V\n",
"V_E= -V_BE;// in V\n",
"// The value of emitter current\n",
"I_E= (V_EE-V_BE)/R_E;// in A\n",
"// The collector current will be equal to emitter current\n",
"I_C= I_E;// in A\n",
"// The collector to emitter voltage\n",
"V_CE= V_CC-I_C*R_C;// in V\n",
"V_CE= V_CE-V_E;// in V\n",
"I_C=I_C*10^3;// in mA\n",
"I_E=I_E*10^3;// in mA\n",
"disp(I_E,'The value of emitter current in mA is : ')\n",
"disp(I_C,'The value of collector current in mA is : ')\n",
"disp(V_CE,'The collector to emitter voltage in V is : ')\n",
""
   ]
   }
,
{
		   "cell_type": "markdown",
		   "metadata": {},
		   "source": [
			"## Example 6.16: Change_in_Q_point.sce"
		   ]
		  },
  {
"cell_type": "code",
	   "execution_count": null,
	   "metadata": {
	    "collapsed": true
	   },
	   "outputs": [],
"source": [
"// Exa 6.16\n",
"format('v',5)\n",
"clc;\n",
"clear;\n",
"close;\n",
"// Given data\n",
"R_B= 10*10^3;// in Ω\n",
"R_C= 5*10^3;// in Ω\n",
"R_E= 10*10^3;// in Ω\n",
"Beta=50;\n",
"V_CC= 20;// in V\n",
"V_EE= 20;// in V\n",
"V_BE= 0.7;// in V\n",
"V_E= -V_BE;// in V\n",
"// The value of I_E1,\n",
"I_E1= (V_EE-V_BE)/(R_E+R_B/Beta);// in A\n",
"I_C1= I_E1;// in A\n",
"V_C= V_CC-I_C1*R_C;// in V\n",
"V_CE1= V_C-V_E;// in V\n",
"Beta= 100;\n",
"V_BE= 0.6;// in V\n",
"V_E= -V_BE;// in V\n",
"// The value of I_E2,\n",
"I_E2= (V_EE-V_BE)/(R_E+R_B/Beta);// in A\n",
"I_C2= I_E2;// in A\n",
"V_C= V_CC-I_C2*R_C;// in V\n",
"V_CE2= V_C-V_E;// in V\n",
"// The change in collector current\n",
"delta_IC= (I_C2-I_C1)/I_C1*100;// in %\n",
"// The change in collector to emitter voltage\n",
"delta_V_CE= (V_CE1-V_CE2)/V_CE1*100;// in %\n",
"disp(delta_IC,'The change in collector current in % is : ')\n",
"disp(delta_V_CE,'The change in collector to emitter voltage in % is : ')"
   ]
   }
,
{
		   "cell_type": "markdown",
		   "metadata": {},
		   "source": [
			"## Example 6.18: Value_of_alphaDC_and_emitter_current.sce"
		   ]
		  },
  {
"cell_type": "code",
	   "execution_count": null,
	   "metadata": {
	    "collapsed": true
	   },
	   "outputs": [],
"source": [
"// Exa 6.18\n",
"format('v',6)\n",
"clc;\n",
"clear;\n",
"close;\n",
"// Given data\n",
"I_CBO = 3;//in µA\n",
"I_CBO= I_CBO*10^-3;// in mA \n",
"I_C= 15;// in mA\n",
"// But it is given that I_C= 99.5% of I_E, SO\n",
"I_E= I_C/99.5*100;// in mA\n",
"alpha_dc= I_C/I_E;\n",
"disp(alpha_dc,'The value of alpha_dc is : ')\n",
"disp(I_E,'The value of I_E in mA is : ')"
   ]
   }
,
{
		   "cell_type": "markdown",
		   "metadata": {},
		   "source": [
			"## Example 6.19: IC_and_IB.sce"
		   ]
		  },
  {
"cell_type": "code",
	   "execution_count": null,
	   "metadata": {
	    "collapsed": true
	   },
	   "outputs": [],
"source": [
"//Exa 6.19\n",
"format('v',6)\n",
"clc;\n",
"clear;\n",
"close;\n",
"//Given data\n",
"alpha_dc = 0.99;\n",
"I_CBO = 10;// in µA\n",
"I_CBO= I_CBO*10^-6;// in A\n",
"I_E = 10;// in mA\n",
"I_E= I_E*10^-3;// in A\n",
"// The collector current can be find as,\n",
"I_C = (alpha_dc * I_E) + I_CBO;// in A\n",
"I_C=I_C*10^3;// in mA\n",
"disp(I_C,'The value of I_C in mA is');\n",
"I_C=I_C*10^-3;// in A\n",
"// Calculation to find the value of base current\n",
"I_B = I_E - I_C;// in A\n",
"I_B = I_B * 10^6;// in µA\n",
"disp(I_B,'The value of I_B in µA is');"
   ]
   }
,
{
		   "cell_type": "markdown",
		   "metadata": {},
		   "source": [
			"## Example 6.1: Common_base_dc_current_gain.sce"
		   ]
		  },
  {
"cell_type": "code",
	   "execution_count": null,
	   "metadata": {
	    "collapsed": true
	   },
	   "outputs": [],
"source": [
"// Exa 6.1\n",
"format('v',6)\n",
"clc;\n",
"clear;\n",
"close;\n",
"// Given data\n",
"I_C= 5.10;// in mA\n",
"I_E= 5.18;// in mA\n",
"alpha= I_C/I_E;\n",
"alpha_dc= alpha;\n",
"disp(alpha_dc,'The common-base d.c. current gain is : ')"
   ]
   }
,
{
		   "cell_type": "markdown",
		   "metadata": {},
		   "source": [
			"## Example 6.20: Base_current.sce"
		   ]
		  },
  {
"cell_type": "code",
	   "execution_count": null,
	   "metadata": {
	    "collapsed": true
	   },
	   "outputs": [],
"source": [
"// Exa 6.20\n",
"format('v',6)\n",
"clc;\n",
"clear;\n",
"close;\n",
"// Given data\n",
"alpha_dc = 0.99;\n",
"I_C = 6;// in mA\n",
"I_C= I_C*10^-3;// in A\n",
"I_CBO = 15;// in µA\n",
"I_CBO= I_CBO*10^-6;// in A\n",
"// The emitter current,\n",
"I_E = (I_C - I_CBO)/alpha_dc;// in A\n",
"// The base current,\n",
"I_B = I_E - I_C;// in A \n",
"I_B=I_B*10^6;// in µA\n",
"disp(I_B,'The value of I_B in µA is');"
   ]
   }
,
{
		   "cell_type": "markdown",
		   "metadata": {},
		   "source": [
			"## Example 6.22: Emitter_current.sce"
		   ]
		  },
  {
"cell_type": "code",
	   "execution_count": null,
	   "metadata": {
	    "collapsed": true
	   },
	   "outputs": [],
"source": [
"//Exa 6.22\n",
"format('v',6)\n",
"clc;\n",
"clear;\n",
"close;\n",
"// Given data\n",
"alpha_dc = 0.98;\n",
"I_CBO = 12;// in µA\n",
"I_CBO = I_CBO * 10^-6;// in A\n",
"I_B = 120;// in µA\n",
"I_B = I_B * 10^-6;// in A\n",
"beta_dc = alpha_dc/(1-alpha_dc);\n",
"I_E = ((1 + beta_dc) * I_B) + ((1 + beta_dc) * I_CBO);//in A\n",
"I_E = I_E * 10^3;// in mA\n",
"disp(I_E,'The value of I_E in mA is');"
   ]
   }
,
{
		   "cell_type": "markdown",
		   "metadata": {},
		   "source": [
			"## Example 6.23: Region_of_operation.sce"
		   ]
		  },
  {
"cell_type": "code",
	   "execution_count": null,
	   "metadata": {
	    "collapsed": true
	   },
	   "outputs": [],
"source": [
"//Exa 6.23\n",
"format('v',6)\n",
"clc;\n",
"clear;\n",
"close;\n",
"// Given data\n",
"bita= 100;\n",
"V_BEsat= 0.8;// in V\n",
"V_CEsat= 0.2;// in V\n",
"V_BEact= 0.7;// in V\n",
"V_CC = 10;// in V\n",
"V_BB=5;// in V\n",
"R_E = 2;// in kΩ\n",
"R_C = 3;// in kΩ\n",
"R_B= 50;// in kΩ\n",
"// Applying KVL to collector loop\n",
"// V_CC= I_Csat*R_C +V_CEsat +I_E*R_E and I_E= I_Csat+I_B, So\n",
"//I_B= ((V_CC-V_CEsat)-(R_C+R_E)*I_Csat)/R_E;           (i)\n",
"// Applying KVL to base loop\n",
"// V_BB-I_B*R_B -V_BEsat-I_E*R_E =0 and I_E= I_Csat+I_B, So\n",
"//V_BB-V_BEsat= R_E*I_Csat + (R_B+R_E)*I_B              (ii)\n",
"// From eq (i) and (ii)\n",
"I_B = ((V_BB-V_BEsat)*5- (V_CC-V_CEsat)*2) / ((R_B+R_E)*5 - R_E*2) ;// in mA\n",
"I_Csat= ((V_CC-V_CEsat)-R_E*I_B)/(R_C+R_E);// in mA\n",
"I_Bmin= I_Csat/bita;// in mA\n",
"if I_B<I_Bmin then\n",
"    disp('Since the value of I_B ('+string(I_B*10^3)+'µA) is less than the value of I_Bmin ('+string(I_Bmin*10^3)+' µA)');\n",
"    disp('So the transistor is not in the saturation region. But it is conducting hence it can not be in cutoff.')\n",
"    disp('Therefore the transistor is in the active region')\n",
"end"
   ]
   }
,
{
		   "cell_type": "markdown",
		   "metadata": {},
		   "source": [
			"## Example 6.24: IB_IC_and_VCE.sce"
		   ]
		  },
  {
"cell_type": "code",
	   "execution_count": null,
	   "metadata": {
	    "collapsed": true
	   },
	   "outputs": [],
"source": [
"//Exa 6.24\n",
"format('v',6)\n",
"clc;\n",
"clear;\n",
"close;\n",
"// Given data\n",
"Beta= 100;\n",
"V_BEsat= 0.8;// in V\n",
"V_CEsat= 0.2;// in V\n",
"V_BEact= 0.7;// in V\n",
"V_CC = 10;// in V\n",
"V_BB=5;// in V\n",
"R_E = 2;// in kΩ\n",
"R_C = 3;// in kΩ\n",
"R_B= 50;// in kΩ\n",
"// Applying KVL to input loop\n",
"// V_BB= I_B*R_B+(1+Beta)*I_B*R_E+V_BEact or \n",
"I_B= (V_BB-V_BEact)/(R_B+(1+Beta)*R_E);// in mA\n",
"// The collector current,\n",
"I_C= Beta*I_B;// in mA\n",
"// Applying KVL to collector circuit\n",
"// V_CC= I_Csat*R_C +V_CEsat +(I_C+I_B)*R_E\n",
"V_CEact= V_CC-I_B*R_E-I_C*(R_C+R_E);// in V\n",
"// The base current,\n",
"I_B= I_B*10^3;// in µA\n",
"disp(I_B,'The value of I_B in µA is : ')\n",
"disp(I_C,'The value of I_C in mA is : ')\n",
"disp(V_CEact,'The value of V_CE in volts is : ')"
   ]
   }
,
{
		   "cell_type": "markdown",
		   "metadata": {},
		   "source": [
			"## Example 6.25: Region_of_operation.sce"
		   ]
		  },
  {
"cell_type": "code",
	   "execution_count": null,
	   "metadata": {
	    "collapsed": true
	   },
	   "outputs": [],
"source": [
"//Exa 6.25\n",
"format('v',6)\n",
"clc;\n",
"clear;\n",
"close;\n",
"//Given data\n",
"Beta = 100;\n",
"V_CEsat = 0.2;// in V\n",
"R_B = 150;// in k ohm\n",
"R_C = 2;// in k ohm\n",
"V_CC  = 10;// in V\n",
"V_BEsat = 0.8;// in V\n",
"I_B = (V_CC - V_BEsat)/R_B;// in mA\n",
"I_C = (V_CC - V_CEsat)/R_C;// in mA\n",
"I_Bmin = I_C/Beta;// in mA\n",
"I_B=I_B*10^3;// in µA\n",
"I_Bmin=I_Bmin*10^3;// in µA\n",
"if I_B>I_Bmin then\n",
"    disp('Since the value of I_B ('+string(I_B)+'µA) is greater than the value of I_Bmin ('+string(I_Bmin)+'µA)');\n",
"    disp('So the transistor is in the saturation region.')\n",
"end"
   ]
   }
,
{
		   "cell_type": "markdown",
		   "metadata": {},
		   "source": [
			"## Example 6.26: Value_of_VBB.sce"
		   ]
		  },
  {
"cell_type": "code",
	   "execution_count": null,
	   "metadata": {
	    "collapsed": true
	   },
	   "outputs": [],
"source": [
"//Exa 6.26\n",
"format('v',6)\n",
"clc;\n",
"clear;\n",
"close;\n",
"//Given data\n",
"Beta = 100;\n",
"V_CE = 0.2;//in V\n",
"V_BE = 0.8;// in V\n",
"R_C= 500;// in Ω\n",
"R_B= 44*10^3;// in Ω\n",
"R_E= 1*10^3;// in Ω\n",
"V_CC= 15;// in V\n",
"V_GE= -15;// in V\n",
"// Applying KVL to collector circuit, V_CC-V_GE - I_Csat*R_C-V_CE-I_E*R_E=0, but I_Csat= Beta*I_Bmin and I_E= 1+Beta\n",
"// Minimum value of base current,\n",
"I_Bmin= (V_CC-V_GE-V_CE)/(R_C*Beta+(1+Beta)*R_E);// in A\n",
"// Applying KVL to the base emitter circuit, V_BB-I_Bmin*R_B-V_BE-I_E*R_E + V_CC=0\n",
"// The value of V_BB,\n",
"V_BB= I_Bmin*R_B + V_BE + (1+Beta)*I_Bmin*R_E-V_CC;// in V\n",
"I_Bmin= I_Bmin*10^3;//in mA\n",
"disp(I_Bmin,'The value of I_B(min) in mA is : ')\n",
"disp(V_BB,'The value of V_BB in volts is : ')"
   ]
   }
,
{
		   "cell_type": "markdown",
		   "metadata": {},
		   "source": [
			"## Example 6.27: Minimum_value_of_RC_required.sce"
		   ]
		  },
  {
"cell_type": "code",
	   "execution_count": null,
	   "metadata": {
	    "collapsed": true
	   },
	   "outputs": [],
"source": [
"// Exa 6.27\n",
"format('v',6)\n",
"clc;\n",
"clear;\n",
"close;\n",
"// Given data\n",
"V_ECsat= 0.2;// in V\n",
"V_CC= 10;// in V\n",
"V_EBsat= 0.8;// in V\n",
"\n",
"// Part (i)\n",
"Beta= 100;\n",
"R_B= 220;// in kΩ\n",
"// Applying KVL to collector circuit, V_CC= V_EC+ICRC\n",
"ICRC= V_CC-V_ECsat;// in V\n",
"// Applying KVL to input loop, V_CC= V_EBsat+I_B*R_B        (i)\n",
"I_B= (V_CC-V_EBsat)/R_B;// in mA\n",
"I_C= Beta*I_B;// in mA\n",
"R_Cmin= ICRC/I_C;// in kΩ\n",
"disp(R_Cmin,'The minimum value of R_C in kΩ is :  ')\n",
"// Part (ii)\n",
"R_C= 1.2;// in kΩ\n",
"I_Csat= ICRC/R_C;// in mA\n",
"I_B= I_Csat/Beta;// in mA\n",
"// From eq (i)\n",
"R_B= (V_CC-V_EBsat)/I_B;// in kΩ\n",
"disp(R_B,'The maximum value of R_B in kΩ is : ')\n",
""
   ]
   }
,
{
		   "cell_type": "markdown",
		   "metadata": {},
		   "source": [
			"## Example 6.28: Value_of_RE.sce"
		   ]
		  },
  {
"cell_type": "code",
	   "execution_count": null,
	   "metadata": {
	    "collapsed": true
	   },
	   "outputs": [],
"source": [
"//Exa 6.28\n",
"format('v',6)\n",
"clc;\n",
"clear;\n",
"close;\n",
"// Given data\n",
"Beta= 100;\n",
"V_BEsat= 0.8;// in V\n",
"V_CEsat= 0.2;// in V\n",
"V_BEact= 0.7;// in V\n",
"V_CC = 10;// in V\n",
"R_E = 1;// in kΩ\n",
"R_C = 2;// in kΩ\n",
"R_B= 100;// in kΩ\n",
"Beta=100;\n",
"alpha= Beta/(1+Beta);\n",
"// Applying KVL to collector circuit\n",
"// V_CC= I_Csat*R_C +V_CE +R_E*I_E\n",
"// but I_E= alpha*I_Csat\n",
"I_Csat= (V_CC-V_CEsat)/(R_C+R_E*alpha);// in mA\n",
"I_Bmin= I_Csat/Beta;// in mA\n",
"// Applying KVL to base loop\n",
"// V_CC= I_B*R_B +V_BEsat +I_E*R_E\n",
"// but I_E= I_Csat+I_B\n",
"I_B= (V_CC-V_BEsat-I_Csat*R_E)/(R_B+R_E);// in mA\n",
"I_B=I_B*10^3;// in µA\n",
"disp(I_B,'The value of I_B in µA is : ')\n",
"I_B=I_B*10^-3;// in mA\n",
"I_Bmin= I_Bmin*10^3;// in µA\n",
"disp(I_Bmin,'The minimum value of I_B in µA is : ')\n",
"I_Bmin= I_Bmin*10^-3;// in mA\n",
"if I_B>I_Bmin then\n",
"    disp('Since the value of I_B is greater than the value of I_Bmin, ')\n",
"    disp('Hence the transistor is in saturation .')\n",
"end\n",
"// The emitter current,\n",
"I_E= (1+Beta)*I_Bmin;// in mA\n",
"// The value of R_E\n",
"R_E= (V_CC-V_BEact-I_Bmin*R_B)/I_E;// in kΩ\n",
"disp(R_E,'The value of R_E in kΩ is : ')\n",
"disp('So R_E should be greater than this value in order to bring the transistor just out of saturation ')\n",
""
   ]
   }
,
{
		   "cell_type": "markdown",
		   "metadata": {},
		   "source": [
			"## Example 6.29: Collector_voltage.sce"
		   ]
		  },
  {
"cell_type": "code",
	   "execution_count": null,
	   "metadata": {
	    "collapsed": true
	   },
	   "outputs": [],
"source": [
"// Exa 6.29\n",
"format('v',6)\n",
"clc;\n",
"clear;\n",
"close;\n",
"// Given data\n",
"V_CC = 9;// in V\n",
"V_BE = 0.8;// in V\n",
"V_CE = 0.2;// in V\n",
"R_B = 50;// in kΩ\n",
"R_C=2;// in kΩ\n",
"R_E = 1;// in kΩ\n",
"Beta=70;\n",
"// Applying KVL to input loop, V_CC= I_B*R_B +V_BE +I_E*R_E\n",
"// V_CC- V_BE= (R_B+R_E)*I_B + R_E*I_C          (i)\n",
"// Applying KVL to output loop, V_CC= R_C*I_C +V_CE +I_C*R_E +I_B*R_E\n",
"//I_B = ((V_CC- V_CE)-(R_C+R_E)*I_C)/R_E         (ii)\n",
"// From eq (i) and (ii)\n",
"I_C= ( (V_CC- V_BE)-(R_B+R_E)* (V_CC- V_CE)/R_E)/(1-(R_B+R_E)*(R_C+R_E));// in mA\n",
"I_B = ((V_CC- V_CE)-(R_C+R_E)*I_C)/R_E// in mA\n",
"I_Bmin= I_C/Beta;// in mA\n",
"if I_B>I_Bmin then\n",
"    disp('Since the value of I_B ('+string(I_B)+' mA) is greater than the value of I_Bmin ('+string(I_Bmin)+' mA)')\n",
"    disp('So the transistor is in saturation ')\n",
"end\n",
"V_C= V_CC-I_C*R_C;// in V\n",
"disp(V_C,'The value of collector voltage in volts is : ')\n",
"Beta= I_C/I_B;\n",
"disp(Beta,'The minimum value of beta that will change the state of the trasistor is : ')"
   ]
   }
,
{
		   "cell_type": "markdown",
		   "metadata": {},
		   "source": [
			"## Example 6.2: Base_current.sce"
		   ]
		  },
  {
"cell_type": "code",
	   "execution_count": null,
	   "metadata": {
	    "collapsed": true
	   },
	   "outputs": [],
"source": [
"// Exa 6.2\n",
"format('v',6)\n",
"clc;\n",
"clear;\n",
"close;\n",
"// Given data\n",
"alpha= 0.987;\n",
"I_E= 10;// in mA\n",
"// Formula alpha= I_C/I_E;\n",
"I_C= alpha*I_E;// in mA\n",
"I_B= I_E-I_C;// in mA\n",
"disp(I_B,'The base current in mA is : ')"
   ]
   }
,
{
		   "cell_type": "markdown",
		   "metadata": {},
		   "source": [
			"## Example 6.3: Value_of_IC_and_IB.sce"
		   ]
		  },
  {
"cell_type": "code",
	   "execution_count": null,
	   "metadata": {
	    "collapsed": true
	   },
	   "outputs": [],
"source": [
"// Exa 6.3\n",
"format('v',6)\n",
"clc;\n",
"clear;\n",
"close;\n",
"// Given data\n",
"alpha= 0.987;\n",
"I_E= 10;// in mA\n",
"// Formula alpha= I_C/I_E;\n",
"I_C= alpha*I_E;// in mA\n",
"I_B= I_E-I_C;// in mA\n",
"disp(I_C,'The collector current in mA is : ')\n",
"disp(I_B,'The base current in mA is : ')"
   ]
   }
,
{
		   "cell_type": "markdown",
		   "metadata": {},
		   "source": [
			"## Example 6.4: Collector_and_base_current.sce"
		   ]
		  },
  {
"cell_type": "code",
	   "execution_count": null,
	   "metadata": {
	    "collapsed": true
	   },
	   "outputs": [],
"source": [
"// Exa 6.4\n",
"format('v',6)\n",
"clc;\n",
"clear;\n",
"close;\n",
"// Given data\n",
"Beta= 100;\n",
"I_E= 10;// in mA\n",
"alpha= Beta/(1+Beta);\n",
"disp(alpha,'The value of alpha is : ')\n",
"// Formula alpha= I_C/I_E;\n",
"I_C= alpha*I_E;// in mA\n",
"I_B= I_E-I_C;// in mA\n",
"disp(I_C,'The collector current in mA is : ')\n",
"disp(I_B,'The base current in mA is : ')\n",
"\n",
"// Note: The calculated value of alpha in the book is wrong, due to this the answer in the book is wrong."
   ]
   }
,
{
		   "cell_type": "markdown",
		   "metadata": {},
		   "source": [
			"## Example 6.5: Value_of_alpha_and_bita.sce"
		   ]
		  },
  {
"cell_type": "code",
	   "execution_count": null,
	   "metadata": {
	    "collapsed": true
	   },
	   "outputs": [],
"source": [
"// Exa 6.5\n",
"format('v',6)\n",
"clc;\n",
"clear;\n",
"close;\n",
"// Given data\n",
"alpha= 0.950;\n",
"Beta= alpha/(1-alpha);\n",
"disp(Beta,'For alpha = 0.950, the value of beta is : ')\n",
"Beta= 100;\n",
"alpha= Beta/(1+Beta);\n",
"disp(alpha,'For beta = 100, the value of alpha is : ')"
   ]
   }
,
{
		   "cell_type": "markdown",
		   "metadata": {},
		   "source": [
			"## Example 6.6: Collector_and_base_current.sce"
		   ]
		  },
  {
"cell_type": "code",
	   "execution_count": null,
	   "metadata": {
	    "collapsed": true
	   },
	   "outputs": [],
"source": [
"// Exa 6.6\n",
"format('v',6)\n",
"clc;\n",
"clear;\n",
"close;\n",
"// Given data\n",
"I_E= 10;// in mA\n",
"Beta= 100;\n",
"alpha= Beta/(1+Beta);\n",
"// Formula alpha= I_C/I_E;\n",
"I_C= alpha*I_E;// in mA\n",
"I_B= I_E-I_C;// in mA\n",
"disp(I_B,'The base current in mA is : ')\n",
"disp(I_C,'The collector current in mA is : ')\n",
"\n",
"// Note: In the book the calculated value of I_B is not correct, so the answer in the book is not accurate"
   ]
   }
,
{
		   "cell_type": "markdown",
		   "metadata": {},
		   "source": [
			"## Example 6.7: DC_load_line.sce"
		   ]
		  },
  {
"cell_type": "code",
	   "execution_count": null,
	   "metadata": {
	    "collapsed": true
	   },
	   "outputs": [],
"source": [
"// Exa 6.7\n",
"format('v',6)\n",
"clc;\n",
"clear;\n",
"close;\n",
"// Given data\n",
"V_CC= 12;// in V\n",
"R_C= 3;// in kΩ\n",
"V_CE= 0:0.1:12;// in V\n",
"I_C= (V_CC-V_CE)/R_C;// in mA\n",
"plot(V_CE,I_C);\n",
"xlabel('V_CE in volts')\n",
"ylabel('I_C in mA')\n",
"title('DC load line')\n",
"disp('DC load line shown in figure.')"
   ]
   }
,
{
		   "cell_type": "markdown",
		   "metadata": {},
		   "source": [
			"## Example 6.8: Operating_point_and_stability_factor.sce"
		   ]
		  },
  {
"cell_type": "code",
	   "execution_count": null,
	   "metadata": {
	    "collapsed": true
	   },
	   "outputs": [],
"source": [
"// Exa 6.8\n",
"format('v',6)\n",
"clc;\n",
"clear;\n",
"close;\n",
"// Given data\n",
"bita= 100;\n",
"V_CC= 6;// in V\n",
"V_BE= 0.7;// in V\n",
"R_B= 530*10^3;// in Ω\n",
"R_C= 2*10^3;// in Ω\n",
"// Applying KVL for input side, V_CC= I_B*R_B+V_BE or\n",
"I_B= (V_CC-V_BE)/R_B;// in A\n",
"I_C= bita*I_B;// in A\n",
"// Applying KVL to output side, \n",
"V_CE= V_CC-I_C*R_C;// in V\n",
"S= 1+bita;\n",
"disp('The operating point is : '+string(V_CE)+' V, '+string(I_C*10^3)+' mA')\n",
"disp(S,'The stability factor is : ')"
   ]
   }
,
{
		   "cell_type": "markdown",
		   "metadata": {},
		   "source": [
			"## Example 6.9: Collector_and_base_current.sce"
		   ]
		  },
  {
"cell_type": "code",
	   "execution_count": null,
	   "metadata": {
	    "collapsed": true
	   },
	   "outputs": [],
"source": [
"// Exa 6.9\n",
"format('v',6)\n",
"clc;\n",
"clear;\n",
"close;\n",
"// Given data\n",
"Beta= 75;\n",
"V_CC= 20;// in V\n",
"V_BE= 0;// in V\n",
"R_B= 200*10^3;// in Ω\n",
"R_C= 800;// in Ω\n",
"// Applying KVL for input side, V_CC= I_B*R_B+V_BE or\n",
"I_B= (V_CC-V_BE)/R_B;// in A\n",
"I_B=I_B*10^6;// in µA\n",
"disp(I_B,'The base current in µA is : ')\n",
"I_B=I_B*10^-6;// in A\n",
"// The collector current,\n",
"I_C= Beta*I_B;// in A\n",
"I_C=I_C*10^3;// in mA\n",
"disp(I_C,'The collector current in mA is : ')\n",
"I_C=I_C*10^-3;// in A\n",
"// Applying KVL to output side, the collector to emitter voltage \n",
"V_CE= V_CC-I_C*R_C;// in V\n",
"disp(V_CE,'The collector to emitter voltage in V is : ')\n",
"// The stability factor,\n",
"S= 1+Beta;\n",
"disp(S,'The stability factor is : ')"
   ]
   }
],
"metadata": {
		  "kernelspec": {
		   "display_name": "Scilab",
		   "language": "scilab",
		   "name": "scilab"
		  },
		  "language_info": {
		   "file_extension": ".sce",
		   "help_links": [
			{
			 "text": "MetaKernel Magics",
			 "url": "https://github.com/calysto/metakernel/blob/master/metakernel/magics/README.md"
			}
		   ],
		   "mimetype": "text/x-octave",
		   "name": "scilab",
		   "version": "0.7.1"
		  }
		 },
		 "nbformat": 4,
		 "nbformat_minor": 0
}
