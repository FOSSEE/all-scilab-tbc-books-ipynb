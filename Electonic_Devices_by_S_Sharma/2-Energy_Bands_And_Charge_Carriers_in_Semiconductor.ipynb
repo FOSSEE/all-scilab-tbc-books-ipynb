{
"cells": [
 {
		   "cell_type": "markdown",
	   "metadata": {},
	   "source": [
       "# Chapter 2: Energy Bands And Charge Carriers in Semiconductor"
	   ]
	},
{
		   "cell_type": "markdown",
		   "metadata": {},
		   "source": [
			"## Example 2.10: Conductivity_of_pure_Si.sce"
		   ]
		  },
  {
"cell_type": "code",
	   "execution_count": null,
	   "metadata": {
	    "collapsed": true
	   },
	   "outputs": [],
"source": [
"// Exa 2.10\n",
"format('v',8)\n",
"clc;\n",
"clear;\n",
"close;\n",
"// Given data\n",
"Mu_e = 1500;// in cm^2/volt sec\n",
"Mu_h = 500;// in cm^2/volt sec\n",
"n_i = 1.6 * 10^10;// in per cm^3\n",
"e = 1.6 * 10^-19;// in C\n",
"// The conductivity of pure semiconductor \n",
"Sigma = n_i * (Mu_e + Mu_h) * e;// in mho/cm\n",
"disp(Sigma,'The conductivity of pure semiconductor in mho/cm is');"
   ]
   }
,
{
		   "cell_type": "markdown",
		   "metadata": {},
		   "source": [
			"## Example 2.11: Number_of_donor_atoms.sce"
		   ]
		  },
  {
"cell_type": "code",
	   "execution_count": null,
	   "metadata": {
	    "collapsed": true
	   },
	   "outputs": [],
"source": [
"// Exa 2.11\n",
"format('v',9)\n",
"clc;\n",
"clear;\n",
"close;\n",
"// Given data\n",
"Rho = 10;// in Ω-cm\n",
"Mu_d = 500;// in cm^2/v.s.\n",
"e = 1.6*10^-19;// electron charge in C\n",
"// The number of donor atom\n",
"n_d = 1/(Rho * e * Mu_d);// in per cm^3\n",
"disp(n_d,'The number of donor atom per cm^3 is ');"
   ]
   }
,
{
		   "cell_type": "markdown",
		   "metadata": {},
		   "source": [
			"## Example 2.12: Conductivity_of_speciman.sce"
		   ]
		  },
  {
"cell_type": "code",
	   "execution_count": null,
	   "metadata": {
	    "collapsed": true
	   },
	   "outputs": [],
"source": [
"//Exa 2.12\n",
"format('v',6)\n",
"clc;\n",
"clear;\n",
"close;\n",
"//Given data\n",
"AvagadroNumber = 6.02 * 10^23;// in atoms/gm.mole\n",
"at_Ge = 72.6;// atom weight of Ge\n",
"e = 1.6 * 10^-19;// in C\n",
"D_Ge = 5.32;// density of Ge in gm/c.c\n",
"Mu = 3800;// in cm^2/v.s.\n",
"C_Ge = (AvagadroNumber/at_Ge) * D_Ge;// concentration of Ge atoms in per cm^3\n",
"n_d = C_Ge/10^8;// in per cc\n",
"Sigma = n_d * Mu * e;// in mho/cm\n",
"disp(Sigma,'The conductivity in mho/cm is');"
   ]
   }
,
{
		   "cell_type": "markdown",
		   "metadata": {},
		   "source": [
			"## Example 2.13: Mobility_of_electrons_in_Ge.sce"
		   ]
		  },
  {
"cell_type": "code",
	   "execution_count": null,
	   "metadata": {
	    "collapsed": true
	   },
	   "outputs": [],
"source": [
"// Exa2.13\n",
"format('v',5)\n",
"clc;\n",
"clear;\n",
"close;\n",
"// Given data\n",
"Rho = 0.3623 * 10^-3;// in Ohm m\n",
"Sigma = 1/Rho;//in mho/m\n",
"D = 4.42 * 10^28;// Ge density in atom/m^3\n",
"n_d = D / 10^6;// in atom/m^3\n",
"e = 1.6 * 10^-19;// in C\n",
"// The mobility of electron in germanium \n",
"Mu = Sigma/(n_d * e);// in m^2/V.sec\n",
"disp(Mu,'The mobility of electron in germanium in m^2/V.sec is');"
   ]
   }
,
{
		   "cell_type": "markdown",
		   "metadata": {},
		   "source": [
			"## Example 2.14: Density_and_mobility_of_holes.sce"
		   ]
		  },
  {
"cell_type": "code",
	   "execution_count": null,
	   "metadata": {
	    "collapsed": true
	   },
	   "outputs": [],
"source": [
"//Exa 2.14\n",
"format('v',7)\n",
"clc;\n",
"clear;\n",
"close;\n",
"// Given data\n",
"AvagadroNumber = 6.025 * 10^26;// in kg.Mole\n",
"W = 72.59;// atomic weight of Ge\n",
"D = 5.36 * 10^3;//density of Ge in kg/m^3\n",
"Rho = 0.42;// resistivity in Ohm m\n",
"e = 1.6 * 10^-19;// in C\n",
"Sigma = 1/Rho;// in mho/m\n",
"n = (AvagadroNumber/W) * D;// number of Ge atoms present per unit volume\n",
"// Holes per unit volume, H = n*10^-6%\n",
"H= n*10^-8;\n",
"a=H;\n",
"// Formula sigma= a*e*Mu_h\n",
"Mu_h = Sigma/(a * e);// in m^2/V.sec\n",
"disp(Mu_h,'Mobility of holes in m^2/V.sec is');"
   ]
   }
,
{
		   "cell_type": "markdown",
		   "metadata": {},
		   "source": [
			"## Example 2.15: Current_produced.sce"
		   ]
		  },
  {
"cell_type": "code",
	   "execution_count": null,
	   "metadata": {
	    "collapsed": true
	   },
	   "outputs": [],
"source": [
"//Exa 2.15\n",
"format('v',5)\n",
"clc;\n",
"clear;\n",
"close;\n",
"// Given data\n",
"e = 1.6 * 10^-19;// in C\n",
"n_i = 2 * 10^19;// in /m^3\n",
"Mu_e = 0.36;// in m^2/v.s\n",
"Mu_h = 0.17;// in m^2/v.s\n",
"A = 1 * 10^-4;// in  m^2\n",
"V = 2;//in volts\n",
"l = 0.3;// in mm\n",
"l = l * 10^-3;// in m\n",
"E=V/l;// in volt/m\n",
"Sigma = n_i * e * (Mu_e + Mu_h);// in mho/m\n",
"// J = I/A = Sigma * E\n",
"I= Sigma*E*A;\n",
"disp(I,'The current produced in a small germanium plate in amp is');\n",
"\n",
" "
   ]
   }
,
{
		   "cell_type": "markdown",
		   "metadata": {},
		   "source": [
			"## Example 2.16: Resistivity_of_doped_Ge.sce"
		   ]
		  },
  {
"cell_type": "code",
	   "execution_count": null,
	   "metadata": {
	    "collapsed": true
	   },
	   "outputs": [],
"source": [
"// Exa 2.16\n",
"format('v',9)\n",
"clc;\n",
"clear;\n",
"close;\n",
"// Given data\n",
"D = 4.2 * 10^28;//density of Ge atoms per m^3\n",
"N_d = D / 10^6;// per m^3\n",
"e = 1.6 * 10^-19;// in C\n",
"Mu_e = 0.36;// in m^2/V-sec\n",
"// Donor concentration is very large as compared to intrinsic carrier concentration\n",
"Sigma_n = N_d *  e * Mu_e;// in mho/m (intrinsic concentration can be neglected)\n",
"Rho_n = 1/Sigma_n;// in ohm m\n",
"disp(Rho_n,'The resistivity of drop Ge in ohm m is ');"
   ]
   }
,
{
		   "cell_type": "markdown",
		   "metadata": {},
		   "source": [
			"## Example 2.17: Current_produced_in_Ge_sample.sce"
		   ]
		  },
  {
"cell_type": "code",
	   "execution_count": null,
	   "metadata": {
	    "collapsed": true
	   },
	   "outputs": [],
"source": [
"// Exa 2.17\n",
"format('v',6)\n",
"clc;\n",
"clear;\n",
"close;\n",
"// given data\n",
"e = 1.6 * 10^-19;// in C\n",
"n_i = 1 * 10^19;// in per m^3\n",
"Mu_e = 0.36;// in m^2/volt.sec\n",
"Mu_h = 0.17;// in m^2/volt.sec \n",
"A = 2;// in cm^2\n",
"A = A * 10^-4;// im m^2\n",
"t = 0.1;// in mm\n",
"t = t * 10^-3;// in m\n",
"V = 4;// in volts\n",
"Sigma_i = n_i * e * (Mu_e + Mu_h);// in mho/m\n",
"J = Sigma_i * (V/t);// in Amp/m^2\n",
"// Current produced, I= J*A\n",
"I = J * A;// in Amp\n",
"disp(I,'The current produced in a Ge sample in Amp is');"
   ]
   }
,
{
		   "cell_type": "markdown",
		   "metadata": {},
		   "source": [
			"## Example 2.18: Conductivity_of_pure_Si.sce"
		   ]
		  },
  {
"cell_type": "code",
	   "execution_count": null,
	   "metadata": {
	    "collapsed": true
	   },
	   "outputs": [],
"source": [
"//Exa 2.18\n",
"format('v',8)\n",
"clc;\n",
"clear;\n",
"close;\n",
"// Given data\n",
"e = 1.6 * 10^-19;// in C\n",
"Mu_h = 500;// in cm^2/V.s.\n",
"Mu_e = 1500;// in cm^2/V.s.\n",
"n_i = 1.6 * 10^10;// in per cm^3\n",
"// Conductivity of pure silicon at room temperature \n",
"Sigma_i = n_i * e * ( Mu_h + Mu_e);// in mho/cm\n",
"disp(Sigma_i,'Conductivity of pure silicon at room temperature in mho/cm is');"
   ]
   }
,
{
		   "cell_type": "markdown",
		   "metadata": {},
		   "source": [
			"## Example 2.19: Hall_voltage_produced.sce"
		   ]
		  },
  {
"cell_type": "code",
	   "execution_count": null,
	   "metadata": {
	    "collapsed": true
	   },
	   "outputs": [],
"source": [
"//Exa 2.19\n",
"format('v',9)\n",
"clc;\n",
"clear;\n",
"close;\n",
"//Given data\n",
"l= 0.50*10^-2;// width of ribbon in m\n",
"d= 0.10*10^-3;// thickness of ribbon in m\n",
"A= l*d;// area of ribbon in m^2\n",
"B = 0.8;// in Tesla\n",
"D = 10.5;//density in gm/cc\n",
"I = 2;// in amp\n",
"q = 1.6 * 10^-19;// in C\n",
"n=6*10^28;// number of elec. per m^3\n",
"V_H = ( I * B * d)/(n * q * A);// in volts\n",
"disp(V_H,'The hall Voltage produced in volts is');\n",
""
   ]
   }
,
{
		   "cell_type": "markdown",
		   "metadata": {},
		   "source": [
			"## Example 2.1: Energy_gap.sce"
		   ]
		  },
  {
"cell_type": "code",
	   "execution_count": null,
	   "metadata": {
	    "collapsed": true
	   },
	   "outputs": [],
"source": [
"// Exa 2.1\n",
"format('v',7)\n",
"clc;\n",
"clear;\n",
"close;\n",
"// Given data\n",
"lembda = 11000;// in Å\n",
"lembda = lembda * 10^-10;// in m\n",
"h = 6.625*10^-34;// Planck constant\n",
"c = 3*10^8;//speed of light in m/s\n",
"e = 1.6*10^-19;//charge of electron in C\n",
"// Energy of the incident photon should at least be, h*v= Eg, so\n",
"E_g = (h*c)/(lembda*e);// in eV\n",
"disp(E_g,'The energy gap in eV is');"
   ]
   }
,
{
		   "cell_type": "markdown",
		   "metadata": {},
		   "source": [
			"## Example 2.20: Hall_coefficient_and_mobility_of_electrons.sce"
		   ]
		  },
  {
"cell_type": "code",
	   "execution_count": null,
	   "metadata": {
	    "collapsed": true
	   },
	   "outputs": [],
"source": [
"//Exa 2.20\n",
"format('v',8)\n",
"clc;\n",
"clear;\n",
"close;\n",
"// Given data\n",
"l = 1;// in m\n",
"d = 1;// in cm\n",
"d = d * 10^-2;// in m\n",
"W = 1;// in mm\n",
"W = W * 10^-3;// in m\n",
"A = d * W;// in m^2\n",
"I= 1;// in A\n",
"B = 1;// Tesla\n",
"V_H = 0.074 * 10^-6;// in volts\n",
"Sigma = 5.8 * 10^7;// in mho/m\n",
"// The hall coefficient \n",
"R_H = (V_H * A)/(B*I*d);// in m^3/c\n",
"disp(R_H,'The hall coefficient in m^3/c is');\n",
"// Mobility  of electrons in copper \n",
"Mu = Sigma * R_H;// in m^2/volt-sec\n",
"disp(Mu,'The mobility  of electrons in copper in m^2/volt-sec is ');"
   ]
   }
,
{
		   "cell_type": "markdown",
		   "metadata": {},
		   "source": [
			"## Example 2.21: Concentration_of_holes_in_Si_crystals.sce"
		   ]
		  },
  {
"cell_type": "code",
	   "execution_count": null,
	   "metadata": {
	    "collapsed": true
	   },
	   "outputs": [],
"source": [
"//Exa2.21\n",
"format('v',7)\n",
"clc;\n",
"clear;\n",
"close;\n",
"// Given data\n",
"n_i = 1.4 * 10^18;// in /m^3\n",
"n_D = 1.4 * 10^24;// in /m^3\n",
"// Concentration of electrons\n",
"n=n_D;// in /m^3\n",
"p = n_i^2/n;// in /m^3\n",
"// The ratio of electrons to hole concentration\n",
"R = n/p;\n",
"disp(R,'The ratio of electrons to hole concentration is');"
   ]
   }
,
{
		   "cell_type": "markdown",
		   "metadata": {},
		   "source": [
			"## Example 2.22: Hall_angle.sce"
		   ]
		  },
  {
"cell_type": "code",
	   "execution_count": null,
	   "metadata": {
	    "collapsed": true
	   },
	   "outputs": [],
"source": [
"//Exa 2.22\n",
"format('v',10)\n",
"clc;\n",
"clear;\n",
"close;\n",
"//Given data\n",
"R = 9 * 10^-3;// in ohm-m\n",
"R_H = 3.6 * 10^-4;// in m^3\n",
"e = 1.6 * 10^-19;// in C\n",
"Sigma = 1/R;// in (ohm-m)^-1\n",
"Rho = 1/R_H;// in coulomb/m^3\n",
"// Density of charge carriers \n",
"n = Rho/e;// in /m^3\n",
"disp(n,'Density of charge carriers per m^3 is');\n",
"// Mobility of charge carriers \n",
"Mu = Sigma * R_H;// in m^2/v-s\n",
"disp(Mu,'Mobility of charge carriers in m^2/V-s is');\n",
""
   ]
   }
,
{
		   "cell_type": "markdown",
		   "metadata": {},
		   "source": [
			"## Example 2.23: Current_density_in_speciman.sce"
		   ]
		  },
  {
"cell_type": "code",
	   "execution_count": null,
	   "metadata": {
	    "collapsed": true
	   },
	   "outputs": [],
"source": [
"//Exa 2.23\n",
"format('v',6)\n",
"clc;\n",
"clear;\n",
"close;\n",
"// Given data\n",
"e = 1.6 * 10^-19;// in C\n",
"R_H = 0.0145;// in m^3/coulomb\n",
"Mu_e = 0.36;// in m^2/v-s\n",
"E = 100;// in V/m\n",
"n = 1/(e * R_H);// in /m^3\n",
"// The current density of specimen \n",
"J = n * e * Mu_e * E;// in A/m^2\n",
"disp(J,'The current density of specimen in A/m^2 is');"
   ]
   }
,
{
		   "cell_type": "markdown",
		   "metadata": {},
		   "source": [
			"## Example 2.24: Relaxation_time.sce"
		   ]
		  },
  {
"cell_type": "code",
	   "execution_count": null,
	   "metadata": {
	    "collapsed": true
	   },
	   "outputs": [],
"source": [
"//Exa 2.24\n",
"format('v',9)\n",
"clc;\n",
"clear;\n",
"close;\n",
"//Given data\n",
"Mu_e = 7.04 * 10^-3;// in m^2/v-s\n",
"m = 9.1 * 10^-31;\n",
"E_F = 5.5;// in eV\n",
"n = 5.8 * 10^28;\n",
"e = 1.6 * 10^-19;// in C\n",
"// Relaxation Time \n",
"Torque = (Mu_e/e) * m;// in sec\n",
"disp(Torque,'Relaxation Time in sec is ');\n",
"// Resistivity of conductor \n",
"Rho = 1 /(n * e * Mu_e);// in ohm-m\n",
"disp(Rho,'Resistivity of conductor in ohm-m is ');\n",
"// Velocity of electrons with fermi-energy \n",
"V_F = sqrt((2 * E_F * e)/m);// in m/s\n",
"disp(V_F,'Velocity of electrons with fermi-energy in m/s is');\n",
"\n",
"//Note: The calculated value of Resistivity of conductor is wrong."
   ]
   }
,
{
		   "cell_type": "markdown",
		   "metadata": {},
		   "source": [
			"## Example 2.25: Temperature.sce"
		   ]
		  },
  {
"cell_type": "code",
	   "execution_count": null,
	   "metadata": {
	    "collapsed": true
	   },
	   "outputs": [],
"source": [
"//Exa 2.25\n",
"format('v',6)\n",
"clc;\n",
"clear;\n",
"close;\n",
"// Given data\n",
"E= 5.95;// in eV\n",
"EF= 6.25;// in eV\n",
"delE= 0.01;\n",
" // delE= 1-1/(1+exp((E-EF)/KT))\n",
"K=1.38*10^-23;// Boltzmann Constant in J/K\n",
"// The temperature at which there is a 1 % probability that a state 0.30 eV below the Fermi energy level\n",
"T = ((E-EF)/log(1/(1-delE) -1)*1.6*10^-19)/K;// in K\n",
"disp(T,'The temperature in K is : ')\n",
" "
   ]
   }
,
{
		   "cell_type": "markdown",
		   "metadata": {},
		   "source": [
			"## Example 2.26: Thermal_equilibrium_hole_concentration.sce"
		   ]
		  },
  {
"cell_type": "code",
	   "execution_count": null,
	   "metadata": {
	    "collapsed": true
	   },
	   "outputs": [],
"source": [
"//Exa 2.26\n",
"format('v',9)\n",
"clc;\n",
"clear;\n",
"close;\n",
"// Given data \n",
"N_V = 1.04 * 10^19;// in cm^-3\n",
"T1 = 300;// in K\n",
"T2 = 400;// in K\n",
"del_E = 0.27;// in eV\n",
"// The value of N_V at T=400 K,\n",
"N_V = N_V * (T2/T1)^1.5;// in cm^-3\n",
"KT = (0.0259) * (T2/T1);// in eV\n",
"// The thermal equilibrium hole concentration in silicon \n",
"P_o = N_V * exp(-(del_E)/KT);// in cm^-3\n",
"disp(P_o,'The thermal equilibrium hole concentration in silicon in cm^-3 is ');\n",
""
   ]
   }
,
{
		   "cell_type": "markdown",
		   "metadata": {},
		   "source": [
			"## Example 2.27: Required_doping_concentration.sce"
		   ]
		  },
  {
"cell_type": "code",
	   "execution_count": null,
	   "metadata": {
	    "collapsed": true
	   },
	   "outputs": [],
"source": [
"//Exa 2.27\n",
"format('v',10)\n",
"clc;\n",
"clear;\n",
"close;\n",
"//Given data\n",
"N_c = 2.8 * 10^19;\n",
"N_V = 1.04 *10^19;\n",
"T1 = 550;// in K\n",
"T2 = 300;// in K\n",
"E_g = 1.12;\n",
"KT = (0.0259) ;\n",
"n_i = sqrt(N_c *N_V *(T1/T2)^3* exp(-(E_g)/KT*T2/T1));// in cm^-3\n",
"// n_o = N_d/2 + sqrt((N_d/2)^2 + (n_i)^2)\n",
"// 1.05*N_d -N_d/2= sqrt((N_d/2)^2 + (n_i)^2)\n",
"// Minimum donor concentration required \n",
"N_d=sqrt((n_i)^2/((0.55)^2-1/4));\n",
"disp(N_d,'Minimum donor concentration required in cm^-3 is'); \n",
""
   ]
   }
,
{
		   "cell_type": "markdown",
		   "metadata": {},
		   "source": [
			"## Example 2.28: Quasi_Fermi_energy_levels.sce"
		   ]
		  },
  {
"cell_type": "code",
	   "execution_count": null,
	   "metadata": {
	    "collapsed": true
	   },
	   "outputs": [],
"source": [
"//Exa 2.28\n",
"format('v',7)\n",
"clc;\n",
"clear;\n",
"close;\n",
"//Given data\n",
"T = 300;// in K\n",
"n_o = 10^15;// in cm^-3\n",
"n_i = 10^10;// in cm^-3\n",
"p_o = 10^5;// in cm^-3\n",
"del_n = 10^13;// in cm^-3\n",
"del_p = del_n;// in cm^-3\n",
"KT = 0.0259;// in eV\n",
"delta_E1= KT*log(n_o/n_i);// value of E_F-E_Fi in eV\n",
"delta_E2= KT*log((n_o+del_n)/n_i);// value of E_Fn-E_Fi in eV\n",
"delta_E3= KT*log((p_o+del_p)/n_i);// value of E_Fi-E_Fp in eV\n",
"disp(delta_E1,'The Fermi level for thermal equillibrium in eV is : ')\n",
"disp(delta_E2,'The quase-Fermi level for electrons in non equillibrium in eV is : ')\n",
"disp(delta_E3,'The quasi-Fermi level for holes in non equillibrium in eV is : ')\n",
"disp('The quasi-Fermi level for electrons is above E_Fi ')\n",
"disp('While the quasi-Fermi level for holes is below E_Fi')"
   ]
   }
,
{
		   "cell_type": "markdown",
		   "metadata": {},
		   "source": [
			"## Example 2.2: Wavelength.sce"
		   ]
		  },
  {
"cell_type": "code",
	   "execution_count": null,
	   "metadata": {
	    "collapsed": true
	   },
	   "outputs": [],
"source": [
"// Exa 2.2\n",
"format('v',6)\n",
"clc;\n",
"clear;\n",
"close;\n",
"// Given data\n",
"E_g = 0.75;// in eV\n",
"e = 1.6*10^-19;// in C\n",
"h = 6.63*10^-34;// in J\n",
"c = 3*10^8;// in m/s\n",
"//Formula E_g = (h*c)/(lembda*e);\n",
"lembda = (h*c)/(E_g*e);// in m\n",
"lembda = lembda * 10^10;// in Å\n",
"disp(lembda,'The wavelength in Å is');"
   ]
   }
,
{
		   "cell_type": "markdown",
		   "metadata": {},
		   "source": [
			"## Example 2.3: Position_of_Fermi_level.sce"
		   ]
		  },
  {
"cell_type": "code",
	   "execution_count": null,
	   "metadata": {
	    "collapsed": true
	   },
	   "outputs": [],
"source": [
"//Exa 2.3\n",
"format('v',6)\n",
"clc;\n",
"clear;\n",
"close;\n",
"// Given data\n",
"del_E = 0.3;// in eV\n",
"T1 = 300;// in K\n",
"T2 = 330;// in K\n",
"// del_E = K * T1 * log(N/N_c) where del_E= E_C-E_F\n",
"// del_E1 = K * T2 * log(N/N_c) where del_E1= E_C-E_F at T= 330 °K\n",
"del_E1 = del_E*(T2/T1);// in eV \n",
"disp('The Fermi level will be '+string(del_E1)+' eV below the conduction band')"
   ]
   }
,
{
		   "cell_type": "markdown",
		   "metadata": {},
		   "source": [
			"## Example 2.4: Probability.sce"
		   ]
		  },
  {
"cell_type": "code",
	   "execution_count": null,
	   "metadata": {
	    "collapsed": true
	   },
	   "outputs": [],
"source": [
"//Exa 2.4\n",
"clc;\n",
"clear;\n",
"close;\n",
"format('e',8)\n",
"// Given data\n",
"N_c = 2.8 * 10^19;// in cm^-3\n",
"del_E = 0.25;// fermi energy in eV\n",
"KT = 0.0259;// where K is Boltzmann constant\n",
"f_F = exp(-(del_E)/KT);\n",
"disp(f_F,'The probability in the conduction band is occupied by an electron is ');\n",
"// Evaluation of electron concentration\n",
"n_o = N_c * exp(-(del_E)/KT);// in cm^-3\n",
"disp(n_o,'The thermal equilibrium electron concentration in cm^-3 is');\n",
""
   ]
   }
,
{
		   "cell_type": "markdown",
		   "metadata": {},
		   "source": [
			"## Example 2.5: Thermal_equilibrium_hole_concentration.sce"
		   ]
		  },
  {
"cell_type": "code",
	   "execution_count": null,
	   "metadata": {
	    "collapsed": true
	   },
	   "outputs": [],
"source": [
"//Exa2.5\n",
"clc;\n",
"clear;\n",
"close;\n",
"format('v',9)\n",
"// Given data\n",
"T1 = 300;// in K\n",
"T2 = 400;// in K\n",
"del_E = 0.27;// Fermi level in eV\n",
"KT = (0.0259) * (T2/T1);// in eV\n",
"N_v = 1.04 * 10^19;// in cm^-3\n",
"N_v = N_v * (T2/T1)^(3/2);// in cm^-3 \n",
"// Hole concentration\n",
"p_o = N_v * exp(-(del_E)/KT);// in per cm^3\n",
"disp(p_o,'The thermal equilibrium hole concentration per cm^3 is');"
   ]
   }
,
{
		   "cell_type": "markdown",
		   "metadata": {},
		   "source": [
			"## Example 2.6: Mobility_of_electrons_in_copper.sce"
		   ]
		  },
  {
"cell_type": "code",
	   "execution_count": null,
	   "metadata": {
	    "collapsed": true
	   },
	   "outputs": [],
"source": [
"// Exa 2.6\n",
"clc;\n",
"clear;\n",
"close;\n",
"format('v',7)\n",
"// Given data\n",
"At = 63.5;// atomic weight\n",
"Rho = 1.7*10^-6;// in ohm cm\n",
"d = 8.96;// in gm/cc\n",
"N_A = 6.02*10^23;// in /gm.mole\n",
"e = 1.6*10^-19;// in C\n",
"//Number of atoms of copper persent per unit volume\n",
"n = (N_A/At)*d;\n",
"Miu_e = 1/(Rho*n*e);// in cm^2/volt.sec\n",
"disp(Miu_e,'The electron mobility in cm^2/volt-sec is');"
   ]
   }
,
{
		   "cell_type": "markdown",
		   "metadata": {},
		   "source": [
			"## Example 2.7: Density_of_free_electrons.sce"
		   ]
		  },
  {
"cell_type": "code",
	   "execution_count": null,
	   "metadata": {
	    "collapsed": true
	   },
	   "outputs": [],
"source": [
"// Exa 2.7\n",
"clc;\n",
"clear;\n",
"close;\n",
"format('v',9)\n",
"// Given data\n",
"l = 0.1;// in m\n",
"A = 1.7;// in mm^2\n",
"A = A * 10^-6;// in m^2\n",
"R = 0.1;// in ohm\n",
"At = 63.5;// atomic weight\n",
"N_A = 6.02*10^23;\n",
"d = 8.96;// in gm/cc\n",
"n = (N_A/At)*d;// in /cc\n",
"n = n * 10^6;// in /m^3\n",
"e = 1.6*10^-19;//electron charge in C\n",
"// Resistivity of copper\n",
"//Formula R = Rho*(l/A);\n",
"Rho = (R*A)/l;// in ohm m\n",
"// Conductivity of copper\n",
"Sigma = 1/Rho;// in mho/m\n",
"// Formula Sigma = n*e*Miu_e\n",
"Miu_e = Sigma/(n*e);// in m^2/V.sec\n",
"disp(Miu_e,'The mobility in m^2/V-sec is');"
   ]
   }
,
{
		   "cell_type": "markdown",
		   "metadata": {},
		   "source": [
			"## Example 2.8: Drift_velocity.sce"
		   ]
		  },
  {
"cell_type": "code",
	   "execution_count": null,
	   "metadata": {
	    "collapsed": true
	   },
	   "outputs": [],
"source": [
"// Exa 2.8\n",
"clc;\n",
"clear;\n",
"close;\n",
"format('v',7)\n",
"// Given data\n",
"d = 10.5;// in gm/cc\n",
"At = 108;// atomic weight\n",
"N_A = 6.025*10^23;// in /gm mole\n",
"r = 10^-3;// in m\n",
"q = 1.6*10^-19;// in C\n",
"// The number of electrons per unit volume\n",
"n = (N_A/At)*d;// in /cm^3\n",
"n = n * 10^6;// in /m^3\n",
"A = %pi*((r)^2);// in m^2\n",
"I = 2;// in A\n",
"// Evaluation of drivt velocity with the help of current\n",
"// I = q*n*A*V;\n",
"V = I/(n*q*A);// in m/s\n",
"disp(V,'The drift velocity in m/s is');\n",
"\n",
"// Note: Calculation in the book is wrong, so the answer in the book is wrong."
   ]
   }
,
{
		   "cell_type": "markdown",
		   "metadata": {},
		   "source": [
			"## Example 2.9: Mobility_of_charge_carriers.sce"
		   ]
		  },
  {
"cell_type": "code",
	   "execution_count": null,
	   "metadata": {
	    "collapsed": true
	   },
	   "outputs": [],
"source": [
"// Exa 2.9\n",
"clc;\n",
"clear;\n",
"close;\n",
"format('v',8)\n",
"// Given data\n",
"d = 1.03;// in mm\n",
"d = d *10^-3;// in m\n",
"r = d/2;// in m\n",
"R = 6.51;// in ohm\n",
"l = 300;// in mm\n",
"e = 1.6*10^-19;// electron charge in C\n",
"n = 8.4*10^28;// in /m^3\n",
"A = %pi*r^2;// cross section area\n",
"//Formula  R = Rho*(l/A);\n",
"Rho = (R* A)/l;//in ohm m\n",
"Sigma = 1/Rho;// in mho/m\n",
"disp(Sigma,'The conductivity of copper in mho/m is');\n",
"// Evaluation of mobility\n",
"//Formula sigma = n*e*Miu_e\n",
"Miu_e = Sigma/(n*e);// in m^2/V.sec\n",
"disp(Miu_e,'The mobility in m^2/V-sec is');"
   ]
   }
],
"metadata": {
		  "kernelspec": {
		   "display_name": "Scilab",
		   "language": "scilab",
		   "name": "scilab"
		  },
		  "language_info": {
		   "file_extension": ".sce",
		   "help_links": [
			{
			 "text": "MetaKernel Magics",
			 "url": "https://github.com/calysto/metakernel/blob/master/metakernel/magics/README.md"
			}
		   ],
		   "mimetype": "text/x-octave",
		   "name": "scilab",
		   "version": "0.7.1"
		  }
		 },
		 "nbformat": 4,
		 "nbformat_minor": 0
}
