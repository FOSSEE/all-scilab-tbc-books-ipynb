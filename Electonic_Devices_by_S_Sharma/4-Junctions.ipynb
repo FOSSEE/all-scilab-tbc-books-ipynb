{
"cells": [
 {
		   "cell_type": "markdown",
	   "metadata": {},
	   "source": [
       "# Chapter 4: Junctions"
	   ]
	},
{
		   "cell_type": "markdown",
		   "metadata": {},
		   "source": [
			"## Example 4.10: Width_of_the_depletion_layer.sce"
		   ]
		  },
  {
"cell_type": "code",
	   "execution_count": null,
	   "metadata": {
	    "collapsed": true
	   },
	   "outputs": [],
"source": [
"//Exa 4.10\n",
"format('v',6)\n",
"clc;\n",
"clear;\n",
"close;\n",
"//Given data\n",
"A = 1;// in mm^2\n",
"A = A * 10^-6;// in m^2\n",
"N_A = 3 * 10^20;// in atoms/m^3\n",
"q = 1.6 *10^-19;// in C\n",
"V_o = 0.2;// in V\n",
"epsilon_r=16;\n",
"epsilon_o= 8.854*10^-12;// in F/m\n",
"epsilon=epsilon_r*epsilon_o;\n",
"// Part (a)\n",
"V=-10;// in V\n",
"// V_o - V = 1/2*((q * N_A )/epsilon) * W^2\n",
"W = sqrt(((V_o - V) * 2 * epsilon)/(q * N_A));// m\n",
"W= W*10^6;// in µm\n",
"disp(W,'The width of the depletion layer  for an applied reverse voltage of 10V in µm is ');\n",
"W= W*10^-6;// in m\n",
"C_T1 = (epsilon * A)/W;// in F\n",
"C_T1= C_T1*10^12;// in pF\n",
"// Part (b)\n",
"V=-0.1;// in V\n",
"W = sqrt(((V_o - V) * 2 * epsilon)/(q * N_A));// m\n",
"W= W*10^6;// in µm\n",
"disp(W,'The width of the depletion layer  for an applied reverse voltage of 0.1V in µm is ');\n",
"W= W*10^-6;// in m\n",
"C_T2 = (epsilon * A)/W;// in F\n",
"C_T2= C_T2*10^12;// in pF\n",
"// Part (c)\n",
"V=0.1;// in V\n",
"W = sqrt(((V_o - V) * 2 * epsilon)/(q * N_A));// m\n",
"W= W*10^6;// in µm\n",
"disp(W,'The width of the depletion layer  for an applied for a forward bias of 0.1V in µm is ');\n",
"// Part (d)\n",
"disp(C_T1,'The space charge capacitance for an applied reverse voltage of 10V  in pF is');\n",
"disp(C_T2,'The space charge capacitance for an applied reverse voltage of 0.1V  in pF is');\n",
"\n",
""
   ]
   }
,
{
		   "cell_type": "markdown",
		   "metadata": {},
		   "source": [
			"## Example 4.11: Current_in_the_junction.sce"
		   ]
		  },
  {
"cell_type": "code",
	   "execution_count": null,
	   "metadata": {
	    "collapsed": true
	   },
	   "outputs": [],
"source": [
"// Exa 4.11\n",
"format('v',6)\n",
"clc;\n",
"clear;\n",
"close;\n",
"// Given data\n",
"I_o = 1.8 * 10^-9;// A\n",
"v = 0.6;// in V\n",
"Eta = 2;\n",
"V_T = 26;// in mV\n",
"V_T=V_T*10^-3;// in V\n",
"// The current in the junction\n",
"I = I_o *(%e^(v/(Eta * V_T)));// in A\n",
"I= I*10^3;// in mA\n",
"disp(I,'The current in the junction in mA is');"
   ]
   }
,
{
		   "cell_type": "markdown",
		   "metadata": {},
		   "source": [
			"## Example 4.12: Forward_biasing_voltage.sce"
		   ]
		  },
  {
"cell_type": "code",
	   "execution_count": null,
	   "metadata": {
	    "collapsed": true
	   },
	   "outputs": [],
"source": [
"// Exa 4.12\n",
"format('v',7)\n",
"clc;\n",
"clear;\n",
"close;\n",
"// Given data\n",
"I_o = 2.4 * 10^-14;\n",
"I = 1.5;// in mA\n",
"I=I*10^-3;// in A\n",
"Eta = 1;\n",
"V_T = 26;// in mV\n",
"V_T= V_T*10^-3;// in V\n",
"// The forward biasing voltage across the junction\n",
"v =log((I + I_o)/I_o) * V_T;// in V\n",
"disp(v,'The forward biasing voltage across the junction in V is');"
   ]
   }
,
{
		   "cell_type": "markdown",
		   "metadata": {},
		   "source": [
			"## Example 4.13: Theoretical_diode_current.sce"
		   ]
		  },
  {
"cell_type": "code",
	   "execution_count": null,
	   "metadata": {
	    "collapsed": true
	   },
	   "outputs": [],
"source": [
"// Exa 4.13\n",
"format('v',6)\n",
"clc;\n",
"clear;\n",
"close;\n",
"// Given data\n",
"I_o = 10;// in nA\n",
"// I = I_o * ((e^(v/(Eta * V_T))) - 1) as diode is reverse biased by large voltage\n",
"// e^(v/(Eta * V_T)<< 1, so neglecting it\n",
"I = I_o * (-1);// in nA\n",
"disp(I,'The Diode current in nA is  ');"
   ]
   }
,
{
		   "cell_type": "markdown",
		   "metadata": {},
		   "source": [
			"## Example 4.14: Diode_dynamic_resistance.sce"
		   ]
		  },
  {
"cell_type": "code",
	   "execution_count": null,
	   "metadata": {
	    "collapsed": true
	   },
	   "outputs": [],
"source": [
"// Exa 4.14\n",
"format('v',6)\n",
"clc;\n",
"clear;\n",
"close;\n",
"// Given data\n",
"R = 4.5;// in ohm\n",
"I = 44.4;// in mA\n",
"I=I*10^-3;// in A\n",
"V = R * I;// in V\n",
"Eta = 1;\n",
"V_T = 26;//in mV\n",
"V_T=V_T*10^-3;// in V\n",
"// Reverse saturation current,\n",
"I_o = I/((%e^(V/(Eta * V_T))) -1);// in A\n",
"// Dynamic resistance at 0.1 V forward bias\n",
"V = 0.1;// in V\n",
"// The diode dynamic resistance,\n",
"r_f = (Eta * V_T)/(I_o * ((%e^(V/(Eta * V_T)))-1));// in ohm\n",
"disp(r_f,'The diode dynamic resistance in Ω is');\n",
""
   ]
   }
,
{
		   "cell_type": "markdown",
		   "metadata": {},
		   "source": [
			"## Example 4.15: DC_load_line_and_operating_point.sce"
		   ]
		  },
  {
"cell_type": "code",
	   "execution_count": null,
	   "metadata": {
	    "collapsed": true
	   },
	   "outputs": [],
"source": [
"// Exa 4.15\n",
"format('v',6)\n",
"clc;\n",
"clear;\n",
"close;\n",
"// Given data\n",
"V_D = 10;// in V\n",
"// V_S = i*R_L + V_D\n",
"V_S = V_D;// in V (i * R_L = 0)\n",
"disp(V_S,'when diode is OFF, the voltage in volts is : ');\n",
"R_L = 250;// in ohm\n",
"I = V_S/R_L;// in A\n",
"disp(I*10^3,'when diode is ON, the current in mA is');\n",
"V_D= 0:0.1:10;// in V\n",
"I= (V_S-V_D)/R_L*1000;// in mA\n",
"plot(V_D,I)\n",
"xlabel('V_D in volts');\n",
"ylabel('Current in mA')\n",
"title('DC load line');\n",
"disp('DC load line shown in figure')"
   ]
   }
,
{
		   "cell_type": "markdown",
		   "metadata": {},
		   "source": [
			"## Example 4.16: AC_resistance_of_a_Ge_diode.sce"
		   ]
		  },
  {
"cell_type": "code",
	   "execution_count": null,
	   "metadata": {
	    "collapsed": true
	   },
	   "outputs": [],
"source": [
"// Exa 4.16\n",
"format('v',6)\n",
"clc;\n",
"clear;\n",
"close;\n",
"// Given data\n",
"V = 0.25;// in V\n",
"I_o = 1.2;// in µA\n",
"I_o = I_o * 10^-6;// in A\n",
"V_T = 26;// in mV\n",
"V_T = V_T * 10^-3;// in V\n",
"Eta = 1;\n",
"// The ac resistance of the diode \n",
"r = (Eta * V_T)/(I_o * (%e^(V/(Eta * V_T))));// in ohm\n",
"disp(r,'The ac resistance of the diode in ohm is');"
   ]
   }
,
{
		   "cell_type": "markdown",
		   "metadata": {},
		   "source": [
			"## Example 4.17: Junction_potential.sce"
		   ]
		  },
  {
"cell_type": "code",
	   "execution_count": null,
	   "metadata": {
	    "collapsed": true
	   },
	   "outputs": [],
"source": [
"// Exa 4.17\n",
"format('v',6)\n",
"clc;\n",
"clear;\n",
"close;\n",
"// Given data\n",
"t = 4.4 * 10^22;// in total number of atoms/cm^3\n",
"n = 1 * 10^8;// number of impurity\n",
"N_A = t/n;// in atoms/cm^3\n",
"N_A = N_A * 10^6;// in atoms/m^3\n",
"N_D = N_A * 10^3;// in atoms/m^3\n",
"V_T = 26;// in mV\n",
"V_T = V_T * 10^-3;// in V\n",
"n_i = 2.5 * 10^19;// in /cm^3\n",
"// The junction potential\n",
"V_J = V_T * log((N_A * N_D)/(n_i)^2);// in V\n",
"disp(V_J,'The junction potential in V is')"
   ]
   }
,
{
		   "cell_type": "markdown",
		   "metadata": {},
		   "source": [
			"## Example 4.18: Dynamic_resistance.sce"
		   ]
		  },
  {
"cell_type": "code",
	   "execution_count": null,
	   "metadata": {
	    "collapsed": true
	   },
	   "outputs": [],
"source": [
"// Exa 4.18\n",
"format('v',6)\n",
"clc;\n",
"clear;\n",
"close;\n",
"// Given data\n",
"Eta = 1;\n",
"I_o = 30;// in MuA\n",
"I_o = I_o * 10^-6;// in A\n",
"v = 0.2;// in V\n",
"K = 1.381 * 10^-23;// in J/degree K \n",
"T = 125;// in °C\n",
"T = T + 273;// in K\n",
"q = 1.6 * 10^-19;// in C\n",
"V_T = (K*T)/q;// in V\n",
"// The forward dynamic resistance,\n",
"r_f = (Eta * V_T)/(I_o * (%e^(v/(Eta * V_T))));// in ohm\n",
"disp(r_f,'The forward dynamic resistance in ohm is');\n",
"// The Reverse dynamic resistance\n",
"r_f1 = (Eta * V_T)/(I_o * (%e^(-(v)/(Eta * V_T))));// in ohm\n",
"r_f1= r_f1*10^-3;// in k ohm\n",
"disp(r_f1,'The Reverse dynamic resistance in kΩ is');\n",
""
   ]
   }
,
{
		   "cell_type": "markdown",
		   "metadata": {},
		   "source": [
			"## Example 4.19: Width_of_the_depletion_layer.sce"
		   ]
		  },
  {
"cell_type": "code",
	   "execution_count": null,
	   "metadata": {
	    "collapsed": true
	   },
	   "outputs": [],
"source": [
"// Exa 4.19\n",
"format('v',6)\n",
"clc;\n",
"clear;\n",
"close;\n",
"// Given data\n",
"q = 1.6 * 10^-19;// in C\n",
"N_A = 3 * 10^20;// in /m^3\n",
"A = 1;// in µm^2\n",
"A = A * 10^-6;// in m^2\n",
"V = -10;// in V\n",
"V_J = 0.25;// in V\n",
"V_B = V_J - V;// in V\n",
"epsilon_o = 8.854;// in pF/m\n",
"epsilon_o = epsilon_o * 10^-12;// in F/m\n",
"epsilon_r = 16;\n",
"epsilon = epsilon_o * epsilon_r;\n",
"// The width of depletion layer,\n",
"W = sqrt((V_B * 2 * epsilon)/(q * N_A));// in m \n",
"W=W*10^6;// in µm\n",
"disp(W,'The width of depletion layer in µm is');\n",
"W=W*10^-6;// in m\n",
"// The space charge capacitance,\n",
"C_T = (epsilon * A)/W;// in pF\n",
"C_T=C_T*10^12;// in pF\n",
"disp(C_T,'The space charge capacitance in pF is');"
   ]
   }
,
{
		   "cell_type": "markdown",
		   "metadata": {},
		   "source": [
			"## Example 4.20: Barrier_capacitance_of_a_Ge_pn_junction.sce"
		   ]
		  },
  {
"cell_type": "code",
	   "execution_count": null,
	   "metadata": {
	    "collapsed": true
	   },
	   "outputs": [],
"source": [
"// Exa 4.20\n",
"format('v',6)\n",
"clc;\n",
"clear;\n",
"close;\n",
"// Given data\n",
"W = 2 * 10^-4;// in cm\n",
"W = W * 10^-2;// in m\n",
"A = 1;// in mm^2\n",
"A = A * 10^-6;// in m^2\n",
"epsilon_r = 16;\n",
"epsilon_o = 8.854 * 10^-12;// in F/m\n",
"epsilon = epsilon_r * epsilon_o;\n",
"C_T = (epsilon * A)/W;// in F\n",
"C_T= C_T*10^12;// in pF\n",
"disp(C_T,'The barrier capacitance in pF is');\n",
""
   ]
   }
,
{
		   "cell_type": "markdown",
		   "metadata": {},
		   "source": [
			"## Example 4.21: Diameter.sce"
		   ]
		  },
  {
"cell_type": "code",
	   "execution_count": null,
	   "metadata": {
	    "collapsed": true
	   },
	   "outputs": [],
"source": [
"// Exa 4.21\n",
"format('v',6)\n",
"clc;\n",
"clear;\n",
"close;\n",
"// Given data\n",
"C_T = 100;// in pF\n",
"C_T=C_T*10^-12;// in F\n",
"epsilon_r = 12;\n",
"epsilon_o = 8.854 * 10^-12;// in F/m\n",
"epsilon = epsilon_r * epsilon_o;\n",
"Rho_p = 5;// in ohm-cm\n",
"Rho_p = Rho_p * 10^-2;// in ohm-m\n",
"V_j = 0.5;// in V\n",
"V = -4.5;// in V\n",
"Mu_p = 500;// in cm^2\n",
"Mu_p = Mu_p * 10^-4;// in m^2\n",
"Sigma_p = 1/Rho_p;// in per ohm-m\n",
"qN_A = Sigma_p/ Mu_p;\n",
"V_B = V_j - V;\n",
"W = sqrt((V_B * 2 * epsilon)/qN_A);// in m\n",
"//C_T = (epsilon * A)/W;\n",
"A = (C_T * W)/ epsilon;// in m\n",
"D = sqrt(A * (4/%pi));// in m\n",
"D = D * 10^3;// in mm\n",
"disp(D,'The diameter in mm is');\n",
" "
   ]
   }
,
{
		   "cell_type": "markdown",
		   "metadata": {},
		   "source": [
			"## Example 4.22: Temperature_of_junction.sce"
		   ]
		  },
  {
"cell_type": "code",
	   "execution_count": null,
	   "metadata": {
	    "collapsed": true
	   },
	   "outputs": [],
"source": [
"// Exa 4.22\n",
"format('v',7)\n",
"clc;\n",
"clear;\n",
"close;\n",
"// Given data\n",
"q = 1.6 * 10^-19;// in C\n",
"Mu_p = 500;// in cm^2/V-sec\n",
"Rho_p = 3.5;// in ohm-cm\n",
"Mu_n = 1500;// in cm^2/V-sec\n",
"Rho_n = 10;// in ohm-cm\n",
"N_A = 1/(Rho_p * Mu_p * q);// in /cm^3\n",
"N_D = 1/(Rho_n * Mu_n * q);// in /cm^3\n",
"V_J = 0.56;// in V\n",
"n_i = 1.5 * 10^10;// in /cm^3\n",
"V_T = V_J/log((N_A * N_D)/(n_i)^2);// in V\n",
"// V_T = T/11600\n",
"T = V_T * 11600;// in K\n",
"T = T - 273;// in °C\n",
"disp(T,'The Temperature of junction in °C is');"
   ]
   }
,
{
		   "cell_type": "markdown",
		   "metadata": {},
		   "source": [
			"## Example 4.23: Voltage.sce"
		   ]
		  },
  {
"cell_type": "code",
	   "execution_count": null,
	   "metadata": {
	    "collapsed": true
	   },
	   "outputs": [],
"source": [
"// Exa 4.23\n",
"format('v',7)\n",
"clc;\n",
"clear;\n",
"close;\n",
"// Given data\n",
"V_T = 26;// in mV\n",
"V_T = V_T * 10^-3;// in V\n",
"Eta = 1;\n",
"// I = -90% for Io, so\n",
"IbyIo= 0.1;\n",
"// I  = I_o * ((e^(v/(Eta * V_T)))-1)\n",
"V = log(IbyIo) * V_T;// in V\n",
"disp(V,'The reverse bias voltage in volts is');"
   ]
   }
,
{
		   "cell_type": "markdown",
		   "metadata": {},
		   "source": [
			"## Example 4.24: Reverse_saturation_current.sce"
		   ]
		  },
  {
"cell_type": "code",
	   "execution_count": null,
	   "metadata": {
	    "collapsed": true
	   },
	   "outputs": [],
"source": [
"// Exa 4.24\n",
"format('v',6)\n",
"clc;\n",
"clear;\n",
"close;\n",
"// Given data\n",
"R = 5;// in ohm\n",
"I = 50;// in mA\n",
"I=I*10^-3;// in A\n",
"V = R * I;// in V\n",
"Eta = 1;\n",
"V_T = 26;// in mV\n",
"V_T=V_T*10^-3;// in V\n",
"// The reverse saturation current \n",
"I_o = I/((%e^(V/(Eta * V_T))) - 1);// in A\n",
"I_o= I_o*10^6;// in µA\n",
"disp(I_o,'Reverse saturation current in µA is');\n",
"I_o= I_o*10^-6;// in A\n",
"v1 = 0.2;// in V\n",
"// The dynamic resistance of the diode,\n",
"r = (Eta * V_T)/(I_o * (%e^(v1/(Eta * V_T))));// in ohm\n",
"disp(r,'Dynamic resistance of the diode in Ω is');"
   ]
   }
,
{
		   "cell_type": "markdown",
		   "metadata": {},
		   "source": [
			"## Example 4.2: Tuning_range.sce"
		   ]
		  },
  {
"cell_type": "code",
	   "execution_count": null,
	   "metadata": {
	    "collapsed": true
	   },
	   "outputs": [],
"source": [
"// Exa 4.2\n",
"format('v',6)\n",
"clc;\n",
"clear;\n",
"close;\n",
"// Given data\n",
"C1= 5*10^-12;// in F\n",
"C2= 5*10^-12;// in F\n",
"L= 10*10^-3;// in H\n",
"C_Tmin= C1*C2/(C1+C2);// in F\n",
"f_omax= 1/(2*%pi*sqrt(L*C_Tmin));// in Hz\n",
"C1= 50*10^-12;// in F\n",
"C2= 50*10^-12;// in F\n",
"C_Tmax= C1*C2/(C1+C2);// in F\n",
"f_omin= 1/(2*%pi*sqrt(L*C_Tmax));// in Hz\n",
"f_omax= f_omax*10^-6;// in MHz\n",
"f_omin= f_omin*10^-3;// in kHz\n",
"disp(f_omax,'The maximum value of resonant frequency in MHz is : ')\n",
"disp(f_omin,'The minimum value of resonant frequency in kHz is : ')\n",
""
   ]
   }
,
{
		   "cell_type": "markdown",
		   "metadata": {},
		   "source": [
			"## Example 4.3: Contact_difference_of_potential.sce"
		   ]
		  },
  {
"cell_type": "code",
	   "execution_count": null,
	   "metadata": {
	    "collapsed": true
	   },
	   "outputs": [],
"source": [
"// Exa 4.3\n",
"format('v',6)\n",
"clc;\n",
"clear;\n",
"close;\n",
"// Given data\n",
"t = 4.4 * 10^22;// total number of Ge atoms/cm^3\n",
"n = 1 * 10^8;// number of impurity atoms\n",
"N_A = t/n;// in atoms/cm^3\n",
"N_A = N_A * 10^6;// in atoms/m^3\n",
"N_D = N_A * 10^3;// in atoms/m^3\n",
"n_i = 2.5 * 10^13;// in atoms/cm^3\n",
"n_i = n_i * 10^6;// in atoms/m^3\n",
"V_T = 26;//in mV\n",
"V_T= V_T*10^-3;// in V\n",
"// The contact potential for Ge semiconductor,\n",
"V_J = V_T * log((N_A * N_D)/(n_i)^2);// in V\n",
"disp(V_J,'The contact potential for Ge semiconductor in V is');\n",
"// Part (b)\n",
"t = 5* 10^22;// total number of Si atoms/cm^3\n",
"N_A = t/n;// in atoms/cm^3\n",
"N_A = N_A * 10^6;// in atoms/m^3\n",
"N_D = N_A * 10^3;// in atoms/m^3\n",
"n_i = 1.5 * 10^10;// in atoms/cm^3\n",
"n_i = n_i * 10^6;// in atoms/m^3\n",
"V_T = 26;//in mV\n",
"V_T= V_T*10^-3;// in V\n",
"// The contact potential for Si P-N junction,\n",
"V_J = V_T * log((N_A * N_D)/(n_i)^2);// in V\n",
"disp(V_J,'The contact potential for Si P-N junction in V is');"
   ]
   }
,
{
		   "cell_type": "markdown",
		   "metadata": {},
		   "source": [
			"## Example 4.4: Height_of_the_potential_energy_barrier.sce"
		   ]
		  },
  {
"cell_type": "code",
	   "execution_count": null,
	   "metadata": {
	    "collapsed": true
	   },
	   "outputs": [],
"source": [
"// Exa 4.4\n",
"format('v',6)\n",
"clc;\n",
"clear;\n",
"close;\n",
"// Given data\n",
"V_T = 26;// in mV\n",
"V_T=V_T*10^-3;// in V\n",
"n_i = 2.5 * 10^13;\n",
"Sigma_p = 1;\n",
"Sigma_n = 1;\n",
"Mu_n = 3800;\n",
"q = 1.6 * 10^-19;// in C\n",
"Mu_p = 1800;\n",
"N_A = Sigma_p/(2* q * Mu_p);// in /cm^3\n",
"N_D = Sigma_n /(q * Mu_n);// in /cm^3\n",
"// The height of the energy barrier for Ge,\n",
"V_J = V_T * log((N_A * N_D)/(n_i)^2);// in V\n",
"disp(V_J,'For Ge the height of the energy barrier in V is');\n",
"// For Si p-n juction\n",
"n_i = 1.5 * 10^10;\n",
"Mu_n = 1300;\n",
"Mu_p = 500;\n",
"N_A = Sigma_p/(2* q * Mu_p);// in /cm^3\n",
"N_D = Sigma_n /(q * Mu_n);// in /cm^3\n",
"// The height of the energy barrier for Si p-n junction,\n",
"V_J = V_T * log((N_A * N_D)/(n_i)^2);// in V\n",
"disp(V_J,'For Si p-n junction  the height of the energy barrier in V is');"
   ]
   }
,
{
		   "cell_type": "markdown",
		   "metadata": {},
		   "source": [
			"## Example 4.5: Forward_current.sce"
		   ]
		  },
  {
"cell_type": "code",
	   "execution_count": null,
	   "metadata": {
	    "collapsed": true
	   },
	   "outputs": [],
"source": [
"//Exa 4.5\n",
"format('v',6)\n",
"clc;\n",
"clear;\n",
"close;\n",
"// Given data\n",
"Eta = 1;\n",
"V_T = 26;// in mV\n",
"V_T= V_T*10^-3;// in V\n",
"//From equation of the diode current,  I = I_o * (%e^(V/(Eta*V_T)) - 1) and I = -(0.9) * I_o\n",
"V= log(1-0.9)*V_T;//voltage in V\n",
"disp(V,'The voltage in volts is : ')\n",
"// Part (ii)\n",
"V1=0.05;// in V\n",
"V2= -0.05;// in V\n",
"// The ratio of the current for a forward bias to reverse bias \n",
"ratio= (%e^(V1/(Eta*V_T))-1)/(%e^(V2/(Eta*V_T))-1)\n",
"disp(ratio,'The ratio of the current for a forward bias to reverse bias is : ')\n",
"// Part (iii)\n",
"Io= 10;// in µA\n",
"Io=Io*10^-3;// in mA\n",
"//For \n",
"V=0.1;// in V\n",
"// Diode current\n",
"I = Io * (%e^(V/(Eta*V_T)) - 1);// in mA\n",
"disp(I,'For V=0.1 V , the value of I in mA is : ')\n",
"//For \n",
"V=0.2;// in V\n",
"// Diode current\n",
"I = Io * (%e^(V/(Eta*V_T)) - 1);// in mA\n",
"disp(I,'For V=0.2 V , the value of I in mA is : ')\n",
"//For \n",
"V=0.3;// in V\n",
"// Diode current\n",
"I = Io * (%e^(V/(Eta*V_T)) - 1);// in mA\n",
"disp(I*10^-3,'For V=0.3 V , the value of I in A is : ')\n",
"disp('From three value of I, for small rise in forward voltage, the diode current increase rapidly')"
   ]
   }
,
{
		   "cell_type": "markdown",
		   "metadata": {},
		   "source": [
			"## Example 4.6: Anticipated_factor.sce"
		   ]
		  },
  {
"cell_type": "code",
	   "execution_count": null,
	   "metadata": {
	    "collapsed": true
	   },
	   "outputs": [],
"source": [
"//Exa 4.6\n",
"format('v',6)\n",
"clc;\n",
"clear;\n",
"close;\n",
"// Given data\n",
"// Part (i)\n",
"T1= 25;// in °C\n",
"T2= 80;// in °C\n",
"// Formula Io2= Io1*2^((T2-T1)/10)\n",
"AntiFactor= 2^((T2-T1)/10);\n",
"disp(round(AntiFactor),'Anticipated factor for Ge is : ')\n",
"// Part (ii)\n",
"T1= 25;// in °C\n",
"T2= 150;// in °C\n",
"AntiFactor= 2^((T2-T1)/10);\n",
"disp(round(AntiFactor),'Anticipated factor for Si is : ')"
   ]
   }
,
{
		   "cell_type": "markdown",
		   "metadata": {},
		   "source": [
			"## Example 4.7: Leakage_resistance.sce"
		   ]
		  },
  {
"cell_type": "code",
	   "execution_count": null,
	   "metadata": {
	    "collapsed": true
	   },
	   "outputs": [],
"source": [
"//Exa 4.7\n",
"format('v',6)\n",
"clc;\n",
"clear;\n",
"close;\n",
"// Given data\n",
"I=5;// in µA\n",
"V=10;// in V\n",
"T1= 0.11;// in °C^-1\n",
"T2= 0.07;// in °C^-1\n",
"// Io+I_R=I                            (i)\n",
"// dI_by_dT= dIo_by_dT      (ii)\n",
"// 1/Io*dIo_by_dT = T1 and 1/I*dI_by_dT = T2, So\n",
"Io= T2*I/T1;// in µA\n",
"I_R= I-Io;// in µA\n",
"R= V/I_R;// in MΩ\n",
"disp(R,'The leakage resistance in MΩ is : ')"
   ]
   }
,
{
		   "cell_type": "markdown",
		   "metadata": {},
		   "source": [
			"## Example 4.8: Dynamic_resistance.sce"
		   ]
		  },
  {
"cell_type": "code",
	   "execution_count": null,
	   "metadata": {
	    "collapsed": true
	   },
	   "outputs": [],
"source": [
"//Exa 4.8\n",
"format('v',6)\n",
"clc;\n",
"clear;\n",
"close;\n",
"// Given data\n",
"Eta = 1;\n",
"T = 125;// in °C\n",
"T = T + 273;// in K\n",
"V_T = 8.62 * 10^-5 * 398;// in V\n",
"I_o = 30;// in µA\n",
"I_o= I_o*10^-6;// in A\n",
"v = 0.2;// in V\n",
"// The dynamic resistance in the forward direction \n",
"r_f = (Eta * V_T)/(I_o * %e^(v/(Eta* V_T)));// in ohm\n",
"disp(r_f,'The dynamic resistance in the forward direction in ohm is ');\n",
"// The dynamic resistance in the reverse direction \n",
"r_r = (Eta * V_T)/(I_o * %e^(-v/(Eta* V_T)));// in ohm\n",
"r_r= r_r*10^-3;// in k ohm\n",
"disp(r_r,'The dynamic resistance in the reverse direction in kohm is');"
   ]
   }
,
{
		   "cell_type": "markdown",
		   "metadata": {},
		   "source": [
			"## Example 4.9: Barrier_capacitance.sce"
		   ]
		  },
  {
"cell_type": "code",
	   "execution_count": null,
	   "metadata": {
	    "collapsed": true
	   },
	   "outputs": [],
"source": [
"// Exa 4.9\n",
"format('v',6)\n",
"clc;\n",
"clear;\n",
"close;\n",
"// Given data\n",
"epsilon = 16/(36 * %pi * 10^11);// in F/cm\n",
"A = 1 * 10^-2;\n",
"W = 2 * 10^-4;\n",
"// The barrier capacitance \n",
"C_T = (epsilon * A)/W;// in F\n",
"C_T= C_T*10^12;// in pF\n",
"disp(C_T,'The barrier capacitance in pF is');"
   ]
   }
],
"metadata": {
		  "kernelspec": {
		   "display_name": "Scilab",
		   "language": "scilab",
		   "name": "scilab"
		  },
		  "language_info": {
		   "file_extension": ".sce",
		   "help_links": [
			{
			 "text": "MetaKernel Magics",
			 "url": "https://github.com/calysto/metakernel/blob/master/metakernel/magics/README.md"
			}
		   ],
		   "mimetype": "text/x-octave",
		   "name": "scilab",
		   "version": "0.7.1"
		  }
		 },
		 "nbformat": 4,
		 "nbformat_minor": 0
}
