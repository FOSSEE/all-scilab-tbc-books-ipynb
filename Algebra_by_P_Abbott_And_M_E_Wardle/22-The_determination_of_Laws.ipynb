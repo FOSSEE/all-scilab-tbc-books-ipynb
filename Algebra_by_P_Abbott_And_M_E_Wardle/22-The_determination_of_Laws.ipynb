{
"cells": [
 {
		   "cell_type": "markdown",
	   "metadata": {},
	   "source": [
       "# Chapter 22: The determination of Laws"
	   ]
	},
{
		   "cell_type": "markdown",
		   "metadata": {},
		   "source": [
			"## Example 22.1: Plotting_against_power_of_a_number.sce"
		   ]
		  },
  {
"cell_type": "code",
	   "execution_count": null,
	   "metadata": {
	    "collapsed": true
	   },
	   "outputs": [],
"source": [
"//y=a*x^2+b\n",
"clear;\n",
"clc;\n",
"close;\n",
"clf;\n",
"x=[0 0.5 1 1.5 2 2.5];\n",
"y=[-10 -9.25 -7 -3.25 2 8.75];\n",
"plot2d(x^2,y,3);\n",
"xtitle('Graph of y=ax^2+b','x axis','y axis');\n",
"xgrid;\n",
"//the values of a & b can be found by substituting two suitable points(x,y)in a*x^2+b-y=0\n",
"x=1;y=-7;//p1=-a+b+7 \n",
"x=4;y=2;//p2=4*a+b-2\n",
"a=poly(0,'a');\n",
"p=-a+7-(4*a-2);\n",
"a=roots(p);\n",
"x=1;y=-7;\n",
"b=y-a*x^2;\n",
"x=poly(0,'x');\n",
"//(or) by inspection of graph, intercept on y-axis is (i.e., b) is -10 and a,the gradient of the line,is 3\n",
"mprintf('\n Hence, the law is\n')\n",
"x=poly(0,'x');\n",
"y=3*x^2-10\n",
"mprintf('or by solving by the method of Section 185')\n",
"y=a*x^2+b"
   ]
   }
,
{
		   "cell_type": "markdown",
		   "metadata": {},
		   "source": [
			"## Example 22.2: Law_connecting_the_logarithms.sce"
		   ]
		  },
  {
"cell_type": "code",
	   "execution_count": null,
	   "metadata": {
	    "collapsed": true
	   },
	   "outputs": [],
"source": [
"//y=a*x^n\n",
"clear;\n",
"clc;\n",
"close;\n",
"clf;\n",
"x=[18 20 22 24 25];\n",
"y=[623 863 1160 1519 1724]; \n",
"//taking log on both sides for y=a*x^n =>log(y)=n*log(x)+log(a)  ....equ(1)\n",
"logx=log10(x);\n",
"logy=log10(y);\n",
"plot2d(logx,logy,13);\n",
"//select points A & B on straight line.\n",
"plot(1.398,3.236,'r.diam');\n",
"plot(1.255,2.795,'r.diam');\n",
"n=poly(0,'n');\n",
"//3.236=1.398*n+log(a).substitute point A in equ...(1),GIVES equ(3)\n",
"//2.795=1.255*n+log(a).substitute point B in equ...(1),GIVES equ(4)\n",
"//equ(3)-equ(4)\n",
"p=(3.236-1.398*n)-(2.795-1.255*n);\n",
"n=roots(p);\n",
"mprintf('y=a*x^n')\n",
"format(5)\n",
"a=10^(2.795-1.255*n)\n",
"xtitle('graph of y=a*x^n ','log x ','log y ');\n",
"legend('y=a*x^n','points A,B',2);\n",
"xgrid;\n",
"mprintf('\n y=0.08*x^3.08\n ');//substituting a,n values in y=a*x^n"
   ]
   }
],
"metadata": {
		  "kernelspec": {
		   "display_name": "Scilab",
		   "language": "scilab",
		   "name": "scilab"
		  },
		  "language_info": {
		   "file_extension": ".sce",
		   "help_links": [
			{
			 "text": "MetaKernel Magics",
			 "url": "https://github.com/calysto/metakernel/blob/master/metakernel/magics/README.md"
			}
		   ],
		   "mimetype": "text/x-octave",
		   "name": "scilab",
		   "version": "0.7.1"
		  }
		 },
		 "nbformat": 4,
		 "nbformat_minor": 0
}
