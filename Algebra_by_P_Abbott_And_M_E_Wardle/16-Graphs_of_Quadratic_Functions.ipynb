{
"cells": [
 {
		   "cell_type": "markdown",
	   "metadata": {},
	   "source": [
       "# Chapter 16: Graphs of Quadratic Functions"
	   ]
	},
{
		   "cell_type": "markdown",
		   "metadata": {},
		   "source": [
			"## Example 16.10: graph_of_given_expression.sce"
		   ]
		  },
  {
"cell_type": "code",
	   "execution_count": null,
	   "metadata": {
	    "collapsed": true
	   },
	   "outputs": [],
"source": [
"//129,130,131 examples\n",
"clear; \n",
"clc;\n",
"close;\n",
"clf;\n",
"x=linspace(-3,4,8);\n",
"y=(x-1)^2-4;\n",
"plot2d(x,y,5);\n",
"xtitle('Graph of y=(x-1)^2-4','x axis','y axis');\n",
"legend('y=(x-1)^2-4');\n",
"x=poly(0,'x');\n",
"y=(x-1)^2-4;\n",
"//131 concept\n",
"disp('At these points  curve cuts the axis of x')\n",
"x=roots(y)\n",
"xgrid();"
   ]
   }
,
{
		   "cell_type": "markdown",
		   "metadata": {},
		   "source": [
			"## Example 16.11: Graph_of_Y.sce"
		   ]
		  },
  {
"cell_type": "code",
	   "execution_count": null,
	   "metadata": {
	    "collapsed": true
	   },
	   "outputs": [],
"source": [
"clear; \n",
"clc;\n",
"close;\n",
"clf;\n",
"x=linspace(-3,5,9);\n",
"y=2*x^2-3*x-5;\n",
"plot2d(x,y,5);\n",
"xtitle('Graph of y=2*x^2-3*x-5','x axis','y axis');\n",
"x=poly(0,'x');\n",
"y=2*x^2-3*x-5;\n",
"//'at these points  curve cuts the axis of x'\n",
"x=roots(y)\n",
"x=3/4;\n",
"y=2*x^2-3*x-5;  //highest point\n",
"y=[0 -2 -4 y];\n",
"plot(x,y,'b--.+');\n",
"legend('y=2*x^2-3*x-5','axis of symmetry');\n",
"disp('NOTE:line from lowest point to the x axis is the axis of symmetry');\n",
"xgrid();"
   ]
   }
,
{
		   "cell_type": "markdown",
		   "metadata": {},
		   "source": [
			"## Example 16.12: Graph_of_parabola.sce"
		   ]
		  },
  {
"cell_type": "code",
	   "execution_count": null,
	   "metadata": {
	    "collapsed": true
	   },
	   "outputs": [],
"source": [
"clear; \n",
"clc;\n",
"close;\n",
"clf;\n",
"x=linspace(-5,4,10);\n",
"y=12-x-x^2;\n",
"plot2d(x,y,5);\n",
"xtitle('Graph of y=12-x-x^2 ','x axis','y axis');\n",
"x=poly(0,'x');\n",
"y=12-x-x^2;\n",
"//'at these points  curve cuts the axis of x'\n",
"x=roots(y)\n",
"x=-1/2;\n",
"y=12-x-x^2; //highest point\n",
"y=[0 2 4 6 8 10 y];\n",
"plot(x,y,'b--.pentagram');\n",
"legend('y=12-x-x^2','axis of symmetry');\n",
"//line from highest point to the x axis is the axis of symmetry\n",
"xgrid();"
   ]
   }
,
{
		   "cell_type": "markdown",
		   "metadata": {},
		   "source": [
			"## Example 16.13: Using_graphs_to_solve_quadratic_inequalities.sce"
		   ]
		  },
  {
"cell_type": "code",
	   "execution_count": null,
	   "metadata": {
	    "collapsed": true
	   },
	   "outputs": [],
"source": [
"//y=x^2-4*x+3.values of x where y>0\n",
"clear;\n",
"clc;\n",
"close;\n",
"x=poly(0,'x');\n",
"y=x^2-4*x+3;\n",
"x=roots(y)\n",
"//for y>0, the values of x where y is above x axis are  x<1 or x>3\n",
"x=linspace(-2,6,9);\n",
"y=x^2-4*x+3;\n",
"plot2d(x,y,3);\n",
"xtitle('Using graphs to solve quadratic inequalities','x axis','y axis');\n",
"legend('y=x^2-4*x+3');\n",
"xgrid();"
   ]
   }
,
{
		   "cell_type": "markdown",
		   "metadata": {},
		   "source": [
			"## Example 16.14: Using_quadratic_inequalities_to_describe_regions.sce"
		   ]
		  },
  {
"cell_type": "code",
	   "execution_count": null,
	   "metadata": {
	    "collapsed": true
	   },
	   "outputs": [],
"source": [
"//y=x^2-5*x+5\n",
"clear;\n",
"clc;\n",
"clf;\n",
"close;\n",
"x=linspace(-2,7,10);\n",
"y=x^2-5*x+5;\n",
"plot2d(x,y,3);\n",
"plot2d3(x,y,7);\n",
"x=poly(0,'x');\n",
"y=x^2-5*x+5;\n",
"x=roots(y)\n",
"for x=0:5\n",
"  for y=5:20\n",
"    plot(x,y,'r.pentagram');    //y>0 region\n",
" end\n",
"end \n",
"xtitle('Using quadratic inequalities to describe regions','x axis','y axis');\n",
"xgrid();\n",
"legend('y=x^2-5*x+5','y<x^2-5*x+5 region','y>x^2-5*x+5 region',4);"
   ]
   }
,
{
		   "cell_type": "markdown",
		   "metadata": {},
		   "source": [
			"## Example 16.1: Circumference_of_circle.sce"
		   ]
		  },
  {
"cell_type": "code",
	   "execution_count": null,
	   "metadata": {
	    "collapsed": true
	   },
	   "outputs": [],
"source": [
"//circumference of circle\n",
"clear;\n",
"clc;\n",
"close;\n",
"disp('C=2*pi*r')\n",
"//C-length of circumference.r-the length of radius\n",
"//2 (2,pi) of these 4 symbols represent constants .\n",
"disp('the variation of C depends on changes in r')\n",
""
   ]
   }
,
{
		   "cell_type": "markdown",
		   "metadata": {},
		   "source": [
			"## Example 16.2: Graph_of_given_straight_line.sce"
		   ]
		  },
  {
"cell_type": "code",
	   "execution_count": null,
	   "metadata": {
	    "collapsed": true
	   },
	   "outputs": [],
"source": [
"clear;\n",
"clc;\n",
"close;\n",
"//let a-the avg. amount paid. x-no. of customers.  b-the expenses\n",
"//net profit is y=ax-b\n",
"x=320;y=4.50;\n",
"x=250;y=1.00;\n",
"//substitute in above equation\n",
"//4.5=320*a-b-equ.1;1=250*a-b-equ.2.subbstract equ.2 from 1.\n",
"a=0.05;//we get\n",
"b=250*a-1;\n",
"x=poly(0,'x');\n",
"y=a*x-b;//equation to straight line\n",
"//if there is no profit i.e., y=0\n",
"for x=1:500\n",
"if(0.05*x-11.5==0)\n",
"mprintf('x=%i \n',x) \n",
"break\n",
"end\n",
"end\n",
"clf;\n",
"cust=[230 240 270 300 350 380];\n",
"profit=[0 0.5 2.0 3.5 6.0 7.5];\n",
"plot(cust,profit,6);\n",
"plot(230,0,'r->.diam');\n",
"//profit(y) depends on varying no. of customers(x). the no.'s 0.05 & 11.5 remained constant\n",
"xtitle('the straight line graph','no. of customers','profit');\n",
"legend('y=0.05*x-11.5');\n",
"xgrid();"
   ]
   }
,
{
		   "cell_type": "markdown",
		   "metadata": {},
		   "source": [
			"## Example 16.3: Straight_line_equation.sce"
		   ]
		  },
  {
"cell_type": "code",
	   "execution_count": null,
	   "metadata": {
	    "collapsed": true
	   },
	   "outputs": [],
"source": [
"//y=mx+b\n",
"clear; \n",
"clc;\n",
"close;\n",
"clf;\n",
"x=linspace(0,3,4);\n",
"y=x;\n",
"plot2d(x,y,1);\n",
"y=x+2;\n",
"plot2d(x,y,4);\n",
"y=x-3;\n",
"plot2d(x,y,5);\n",
"xtitle('Equations of the form y=mx+b','x axis','y axis');\n",
"legend('y=x','y=x+2','y=x-3',2);\n",
"disp('y=mx+b');\n",
"//m is constant, b is fixed distance. (x,y) vary for different points on the line \n",
"xgrid()"
   ]
   }
,
{
		   "cell_type": "markdown",
		   "metadata": {},
		   "source": [
			"## Example 16.4: Graph_of_a_function_of_second_degree.sce"
		   ]
		  },
  {
"cell_type": "code",
	   "execution_count": null,
	   "metadata": {
	    "collapsed": true
	   },
	   "outputs": [],
"source": [
"clear; \n",
"clc;\n",
"close;\n",
"clf;\n",
"x=linspace(-3,3,11);\n",
"y=x^2;\n",
"plot2d(x,y,3);\n",
"xtitle('Parabola curve','x axis','y axis')\n",
"legend('y=x^2');\n",
"xgrid();"
   ]
   }
,
{
		   "cell_type": "markdown",
		   "metadata": {},
		   "source": [
			"## Example 16.5: Graph_of_parabola.sce"
		   ]
		  },
  {
"cell_type": "code",
	   "execution_count": null,
	   "metadata": {
	    "collapsed": true
	   },
	   "outputs": [],
"source": [
"clear;\n",
"clc;\n",
"close;\n",
"clf;\n",
"x=linspace(-3,3,11);\n",
"y=-x^2;\n",
"plot2d(x,y,3);\n",
"xtitle('curve of y=-x^2','x axis','y axis');\n",
"disp('this curve is parabola');\n",
"legend('y=-x^2');\n",
"xgrid();"
   ]
   }
,
{
		   "cell_type": "markdown",
		   "metadata": {},
		   "source": [
			"## Example 16.6: Curves_of_different_parabolas.sce"
		   ]
		  },
  {
"cell_type": "code",
	   "execution_count": null,
	   "metadata": {
	    "collapsed": true
	   },
	   "outputs": [],
"source": [
"//y=ax^2\n",
"clear; \n",
"clc;\n",
"close;\n",
"clf;\n",
"x=linspace(-3,3,11);\n",
"y=2*x^2;\n",
"plot2d(x,y,3);\n",
"y=x^2;\n",
"plot2d(x,y,4);\n",
"y=x^2/2;\n",
"plot2d(x,y,5);\n",
"legend('y=2*x^2','y=x^2','y=x^2/2');\n",
"xtitle('The curves of y=ax^2','x axis','y axis');\n",
"//if a is negative, we get corresponding curves similar to y=-x^2\n",
"xgrid();"
   ]
   }
,
{
		   "cell_type": "markdown",
		   "metadata": {},
		   "source": [
			"## Example 16.7: Curves_of_given_expression.sce"
		   ]
		  },
  {
"cell_type": "code",
	   "execution_count": null,
	   "metadata": {
	    "collapsed": true
	   },
	   "outputs": [],
"source": [
"//y=x^2+a or y=x^2-a\n",
"clear; \n",
"clc;\n",
"close;\n",
"clf;\n",
"x=linspace(-3,3,11);\n",
"y=x^2+2;\n",
"plot2d(x,y,3);\n",
"y=x^2;\n",
"plot2d(x,y,4);\n",
"y=x^2-3;\n",
"plot2d(x,y,5);\n",
"legend('y=x^2+2','y=x^2','y=x^2-3');\n",
"xtitle('Curves of y=x^2 +/- a','x axis','y axis');\n",
"xgrid();"
   ]
   }
,
{
		   "cell_type": "markdown",
		   "metadata": {},
		   "source": [
			"## Example 16.8: Change_of_axis.sce"
		   ]
		  },
  {
"cell_type": "code",
	   "execution_count": null,
	   "metadata": {
	    "collapsed": true
	   },
	   "outputs": [],
"source": [
"//y=x^2+a or y=x^2-a\n",
"clear; \n",
"clc;\n",
"close;\n",
"clf;\n",
"x=linspace(-3,3,11);\n",
"y=x^2;\n",
"plot2d(x,y,3);\n",
"plot(y=1)\n",
"legend('y=x^2');\n",
"xtitle('Change of axis','x axis','y axis');\n",
"xgrid();\n",
"mprintf('axis for y=x^2 becomes axis for y=x^2-3 by drawing new x axis 3 units above the original')"
   ]
   }
,
{
		   "cell_type": "markdown",
		   "metadata": {},
		   "source": [
			"## Example 16.9: Graph_of_curves.sce"
		   ]
		  },
  {
"cell_type": "code",
	   "execution_count": null,
	   "metadata": {
	    "collapsed": true
	   },
	   "outputs": [],
"source": [
"clear;\n",
"clc;\n",
"close;\n",
"clf;\n",
"x=linspace(-3,4,8);\n",
"y=(x-1)^2;\n",
"plot2d(x,y,3);\n",
"xtitle('Curve of y=(x-1)^2','x axis','y axis');\n",
"legend('y=(x-1)^2');\n",
"xgrid();"
   ]
   }
],
"metadata": {
		  "kernelspec": {
		   "display_name": "Scilab",
		   "language": "scilab",
		   "name": "scilab"
		  },
		  "language_info": {
		   "file_extension": ".sce",
		   "help_links": [
			{
			 "text": "MetaKernel Magics",
			 "url": "https://github.com/calysto/metakernel/blob/master/metakernel/magics/README.md"
			}
		   ],
		   "mimetype": "text/x-octave",
		   "name": "scilab",
		   "version": "0.7.1"
		  }
		 },
		 "nbformat": 4,
		 "nbformat_minor": 0
}
