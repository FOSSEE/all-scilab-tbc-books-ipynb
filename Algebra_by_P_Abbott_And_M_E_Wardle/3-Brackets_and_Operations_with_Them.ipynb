{
"cells": [
 {
		   "cell_type": "markdown",
	   "metadata": {},
	   "source": [
       "# Chapter 3: Brackets and Operations with Them"
	   ]
	},
{
		   "cell_type": "markdown",
		   "metadata": {},
		   "source": [
			"## Example 3.1: Multiplication_of_expressions_within_brackets.sce"
		   ]
		  },
  {
"cell_type": "code",
	   "execution_count": null,
	   "metadata": {
	    "collapsed": true
	   },
	   "outputs": [],
"source": [
"\n",
"//simplify a(a^2+ab+b^2)\n",
"clear;\n",
"clc;\n",
"close;\n",
"val=string('a^3+(a^2)b+a(b^2)')"
   ]
   }
,
{
		   "cell_type": "markdown",
		   "metadata": {},
		   "source": [
			"## Example 3.2: Addition_of_expressions_within_brackets.sce"
		   ]
		  },
  {
"cell_type": "code",
	   "execution_count": null,
	   "metadata": {
	    "collapsed": true
	   },
	   "outputs": [],
"source": [
"\n",
"\n",
"//simplify 2(4a+3b)+6(2a-b)\n",
"clear;\n",
"clc;\n",
"close;\n",
"//b gets cancelled  \n",
"val=string('20a')"
   ]
   }
,
{
		   "cell_type": "markdown",
		   "metadata": {},
		   "source": [
			"## Example 3.3: Subtraction_of_expressions_within_brackets.sce"
		   ]
		  },
  {
"cell_type": "code",
	   "execution_count": null,
	   "metadata": {
	    "collapsed": true
	   },
	   "outputs": [],
"source": [
"//simplify 5x-(5y+2x)\n",
"clear;\n",
"clc;\n",
"close;\n",
"//on adding like terms\n",
"val=string('3x-5y')"
   ]
   }
,
{
		   "cell_type": "markdown",
		   "metadata": {},
		   "source": [
			"## Example 3.4: Algebraic_Difference.sce"
		   ]
		  },
  {
"cell_type": "code",
	   "execution_count": null,
	   "metadata": {
	    "collapsed": true
	   },
	   "outputs": [],
"source": [
"//simplify 3(4a-b)-2(3a-2b)\n",
"clear;\n",
"clc;\n",
"close;\n",
"//by removing braces\n",
"a_coeff=3*4-2*3;b_coeff=-3-2*-2;\n",
"mprintf('total=%ia+%ib\n',a_coeff,b_coeff);\n",
""
   ]
   }
,
{
		   "cell_type": "markdown",
		   "metadata": {},
		   "source": [
			"## Example 3.5: Substitution_of_values_in_algebraic_expression.sce"
		   ]
		  },
  {
"cell_type": "code",
	   "execution_count": null,
	   "metadata": {
	    "collapsed": true
	   },
	   "outputs": [],
"source": [
"//x(2x-y)-x(x-y)-y(x+2y)\n",
"clear;\n",
"clc;\n",
"close;\n",
"disp('1)after simplifying')\n",
"val=string('x^2-x*y-2*y^2')\n",
"disp('2)after substituting given values')\n",
"x=2;y=1;\n",
"val=evstr(val)"
   ]
   }
,
{
		   "cell_type": "markdown",
		   "metadata": {},
		   "source": [
			"## Example 3.6: Systems_of_brackets.sce"
		   ]
		  },
  {
"cell_type": "code",
	   "execution_count": null,
	   "metadata": {
	    "collapsed": true
	   },
	   "outputs": [],
"source": [
"//simplify 2(3a+5(b+c))\n",
"clear;\n",
"clc;\n",
"close;\n",
"//by removing braces,\n",
"val=string('6a+10b+10c')"
   ]
   }
,
{
		   "cell_type": "markdown",
		   "metadata": {},
		   "source": [
			"## Example 3.7: Multiple_brackets.sce"
		   ]
		  },
  {
"cell_type": "code",
	   "execution_count": null,
	   "metadata": {
	    "collapsed": true
	   },
	   "outputs": [],
"source": [
"//simplify 3(3a-2(a-b))\n",
"clear;\n",
"clc;\n",
"close;\n",
"//by removing braces,\n",
"a_coeff=3*3-3*2;b_coeff=3*2;\n",
"mprintf('total=%ia+%ib\n',a_coeff,b_coeff);\n",
""
   ]
   }
,
{
		   "cell_type": "markdown",
		   "metadata": {},
		   "source": [
			"## Example 3.8: Simplifying_brackets.sce"
		   ]
		  },
  {
"cell_type": "code",
	   "execution_count": null,
	   "metadata": {
	    "collapsed": true
	   },
	   "outputs": [],
"source": [
"//simplify 12a-2[3a-(4-2(a-3))]\n",
"clear;\n",
"clc;\n",
"close;\n",
"a=poly(0,'a');\n",
"p=12*a-2*[3*a-{4-2*(a-3)}]"
   ]
   }
],
"metadata": {
		  "kernelspec": {
		   "display_name": "Scilab",
		   "language": "scilab",
		   "name": "scilab"
		  },
		  "language_info": {
		   "file_extension": ".sce",
		   "help_links": [
			{
			 "text": "MetaKernel Magics",
			 "url": "https://github.com/calysto/metakernel/blob/master/metakernel/magics/README.md"
			}
		   ],
		   "mimetype": "text/x-octave",
		   "name": "scilab",
		   "version": "0.7.1"
		  }
		 },
		 "nbformat": 4,
		 "nbformat_minor": 0
}
