{
"cells": [
 {
		   "cell_type": "markdown",
	   "metadata": {},
	   "source": [
       "# Chapter 12: Using inequalities to define regions"
	   ]
	},
{
		   "cell_type": "markdown",
		   "metadata": {},
		   "source": [
			"## Example 12.1: Graph_the_region_described_by_inequalities.sce"
		   ]
		  },
  {
"cell_type": "code",
	   "execution_count": null,
	   "metadata": {
	    "collapsed": true
	   },
	   "outputs": [],
"source": [
"//Given : inequalities y>x and y<2*x-3\n",
"clc;\n",
"clear;\n",
"clf();\n",
"x=linspace(0,8,8);\n",
"y=2*x-3;//'points in the region y<2*x-3 lie below the line y=2*x-3'\n",
"plot(x,y,'o-');\n",
"y=x;//'points in the region y>x lie above the line y=x'\n",
"plot(x,y,'+-');\n",
"x=5;y=6;plot(x,y,'r.diam')//point that lies in the region \n",
"xtitle('region described by inequalities','x axis','y axis');\n",
"legend('2*x-3','x');\n",
"xgrid;\n",
""
   ]
   }
,
{
		   "cell_type": "markdown",
		   "metadata": {},
		   "source": [
			"## Example 12.2: Finding_one_point_in_the_region_described_by_inequalities.sce"
		   ]
		  },
  {
"cell_type": "code",
	   "execution_count": null,
	   "metadata": {
	    "collapsed": true
	   },
	   "outputs": [],
"source": [
"//Given :Inequalities y>x-2, y<2*x+1 and x+y<6\n",
"clc;\n",
"clear;\n",
"clf();\n",
"x=linspace(0,9,10);\n",
"y=x-2;\n",
"plot2d(x,y,3);//'points in the region y>x-2 lie above the line y=x-2'\n",
"y=2*x+1;\n",
"plot2d(x,y,5);//'points in the region y<2*x+1 lie below the line y=2*x+1'\n",
"y=6-x;\n",
"plot2d(x,y,2);//'points in the region x+y<6 lie below the line x+y=6'\n",
"xtitle('region dscribed by inequalities','x axis','y axis');\n",
"legend('x-2','2*x+1','6-x',2);\n",
"xgrid;\n",
"//(3,2) is one point from the graph enclosed by these inequalities\n",
"x=3;y=2;plot(x,y,'b.diam')\n",
"if((y>x-2)&(y<2*x+1)&(x+y<6))  //this condition does not satisfies the point that lies out of the region ex:(7,7)\n",
" mprintf('\n point that lies in the region is (%i,%i) \n',x,y)\n",
"end\n",
""
   ]
   }
,
{
		   "cell_type": "markdown",
		   "metadata": {},
		   "source": [
			"## Example 12.3: Greatest_and_least_values_in_the_region.sce"
		   ]
		  },
  {
"cell_type": "code",
	   "execution_count": null,
	   "metadata": {
	    "collapsed": true
	   },
	   "outputs": [],
"source": [
"//Given  :Inequalities x+3*y<=24, 3*x+y<21.\n",
"clc;\n",
"clear;\n",
"clf();\n",
"x=linspace(0,9,10);\n",
"y=21-3*x;\n",
"plot2d(x,y,3); //'points in the region y<21-3*x lie below the line y=21-3*x'\n",
"y=(24-x)/3;\n",
"plot2d(x,y,5);//'points in the region y<=(24-x)/3 lie below or on the line y=(24-x)/3'\n",
"xtitle('greatest values in a region','x axis','y axis');\n",
"xgrid;\n",
"printf(' \n from graph, (3,7),(4,6),(5,5) are points where x+y is largest \n')\n",
"y=10-x;//3+7=10,4+6=10,5+5=10 so, all the points lie on the line x+y=10\n",
"x=3;y=7;plot(x,y,'b.diam')\n",
"x=4;y=6;plot(x,y,'b.diam')\n",
"x=5;y=5;plot(x,y,'b.diam')\n",
"//'points on the line 3*x+y<21 are not included since we want 3*x+y<21 and not 3*x+y<=21'\n",
"legend('3*x+y<21','x+3*y<=24','10-x');\n",
""
   ]
   }
,
{
		   "cell_type": "markdown",
		   "metadata": {},
		   "source": [
			"## Example 12.4: Finding_maximum_profit_with_linear_programming.sce"
		   ]
		  },
  {
"cell_type": "code",
	   "execution_count": null,
	   "metadata": {
	    "collapsed": true
	   },
	   "outputs": [],
"source": [
"//Given: For model A, material(m) cost(c)=4$,labour(l) 5$,profit(p) 5$.For model B, m=3$, l=9$,p=6$.Altogether 240$ for m and 450$ for l. \n",
"clc;\n",
"clear;\n",
"clf();\n",
"//let a is number of model A and b for model B to be made\n",
"//constraints on m & l as pair of ineqalities 4a+3b<=240,5a+9b<=450.maximize the profit 5a+6b\n",
"a=linspace(1,100,10);\n",
"b=(240-4*a)/3;\n",
"plot2d(a,b,3);\n",
"b=(450-5*a)/9;\n",
"plot2d(a,b,5);\n",
"//find the point in this region where 5a+6b is greatest with the parallel lines concept\n",
"//consider the parallel lines 5a+6b=100 , 5a+6b=150 , 5a+6b=300 ... the 2nd two are shown on graph \n');\n",
"b=(150-6*a)/5;\n",
"plot(a,b,'b--.x');\n",
"b=(300-6*a)/5;\n",
"plot(a,b,'b--.o');\n",
"// as profit gets larger, profit line moves up to the right\n",
"a=39;b=28;\n",
"m=5*a+6*b;\n",
"mprintf('\n the maximimum profit %i occurs at (%i,%i) \n',m,a,b);\n",
"xtitle('Model A vs. Model B ','Model A','Model B');\n",
"xgrid;\n",
"legend('4a+3b<=240','5a+9b<=450','5a+6b=150','5a+6b=300');\n",
"\n",
"\n",
"\n",
"\n",
""
   ]
   }
,
{
		   "cell_type": "markdown",
		   "metadata": {},
		   "source": [
			"## Example 12.5: Minimum_cost_of_feed.sce"
		   ]
		  },
  {
"cell_type": "code",
	   "execution_count": null,
	   "metadata": {
	    "collapsed": true
	   },
	   "outputs": [],
"source": [
"//Given : vitamin A-8units ,B-6units, C- 3units and the cost of making composite feed is 120*x+90*y (costs of each feed per kg.are 120p &90p)\n",
"clc;\n",
"clear;\n",
"clf();\n",
"v=[1 3 1;4 1 1];//rows-feed 1,feed 2  and columns-vitamins A,B,C. vitamin content of each feed per kilogram\n",
"// A:x+4*y>=8;  B:3*x+y>=6;  C:x+y>=3. min_cost=120*x+90*y\n",
"x=linspace(0,10,10);\n",
"y=6-3*x;plot2d(x,y,3);\n",
"y=(8-x)/4;plot2d(x,y,6);\n",
"y=3-x;plot2d(x,y,5);\n",
"//the 2 cost lines for 360p and 720p are shown in the graph as dotted lines\n",
"// assume 2 parallel lines 120*x+90*y=360 , 120*x+90*y=720 \n",
"y=(360-120*x)/90;plot(x,y,'b--.x');\n",
"y=(720-120*x)/90;plot(x,y,'b--.o');\n",
"//lines move down to left as cost decreases.min cost occurs at last line that contains atleast 1 point in the required region \n",
"x=1;y=3;\n",
"min_cost=120*x+90*y;\n",
"mprintf('\n minimum cost %i occurs at (%i,%i)',min_cost,x,y);\n",
"xtitle('Feed1 vs. Feed 2','Feed 1','Feed 2');\n",
"legend('3*x+y>=6','x+4*y>=8','x+y>=3','120*x+90*y=360','120*x+90*y=720');\n",
"xgrid;\n",
"\n",
"\n",
"\n",
"\n",
"\n",
""
   ]
   }
],
"metadata": {
		  "kernelspec": {
		   "display_name": "Scilab",
		   "language": "scilab",
		   "name": "scilab"
		  },
		  "language_info": {
		   "file_extension": ".sce",
		   "help_links": [
			{
			 "text": "MetaKernel Magics",
			 "url": "https://github.com/calysto/metakernel/blob/master/metakernel/magics/README.md"
			}
		   ],
		   "mimetype": "text/x-octave",
		   "name": "scilab",
		   "version": "0.7.1"
		  }
		 },
		 "nbformat": 4,
		 "nbformat_minor": 0
}
