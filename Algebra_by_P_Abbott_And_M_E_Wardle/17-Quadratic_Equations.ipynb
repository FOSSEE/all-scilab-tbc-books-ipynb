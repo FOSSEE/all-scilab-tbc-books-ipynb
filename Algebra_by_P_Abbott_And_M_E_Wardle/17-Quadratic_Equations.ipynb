{
"cells": [
 {
		   "cell_type": "markdown",
	   "metadata": {},
	   "source": [
       "# Chapter 17: Quadratic Equations"
	   ]
	},
{
		   "cell_type": "markdown",
		   "metadata": {},
		   "source": [
			"## Example 17.10: Solving_first_degree_equations.sce"
		   ]
		  },
  {
"cell_type": "code",
	   "execution_count": null,
	   "metadata": {
	    "collapsed": true
	   },
	   "outputs": [],
"source": [
"//x+y=1, 38x^2-x*y+y^2=37\n",
"\n",
"clear;\n",
"clc;\n",
"close;\n",
"x=poly(0,'x');\n",
"y=1-x;\n",
"//substitute y=1-x in equ. 38x^2-x*y+y^2=37\n",
"Y=3*x^2-x*(1-x)+(1-x)^2-37;\n",
"x=roots(Y);\n",
"y=1-x;\n",
"mprintf('the solutions are: \n')\n",
"mprintf(' (%f,%f) \n',x,y)"
   ]
   }
,
{
		   "cell_type": "markdown",
		   "metadata": {},
		   "source": [
			"## Example 17.11: Solving_symmetric_equations.sce"
		   ]
		  },
  {
"cell_type": "code",
	   "execution_count": null,
	   "metadata": {
	    "collapsed": true
	   },
	   "outputs": [],
"source": [
"\n",
"\n",
"//x+y=19, xy=84\n",
"clear;\n",
"clc;\n",
"close;\n",
"x=poly(0,'x');\n",
"//substitute y=19-x in xy=84\n",
"Y=x*(19-x)-84;\n",
"x=roots(Y);\n",
"y=19-x;\n",
"mprintf('the solutions are: \n')\n",
"mprintf('(x,y)=(%i,%i) \n',x,y)"
   ]
   }
,
{
		   "cell_type": "markdown",
		   "metadata": {},
		   "source": [
			"## Example 17.12: Solving_the_equations.sce"
		   ]
		  },
  {
"cell_type": "code",
	   "execution_count": null,
	   "metadata": {
	    "collapsed": true
	   },
	   "outputs": [],
"source": [
"//x^2+y^2=89, xy=40\n",
"clear;\n",
"clc;\n",
"close;\n",
"x=poly(0,'x');\n",
"//substitute y=40/x in x^2+y^2=89\n",
"Y=x^2+(40/x)^2-89;\n",
"x=roots(numer(Y));//Y=0, numerator=0\n",
"y=sqrt(89-x^2);\n",
"mprintf('the solutions of (x,y) are: \n')\n",
"xy=[x,y]\n",
""
   ]
   }
,
{
		   "cell_type": "markdown",
		   "metadata": {},
		   "source": [
			"## Example 17.13: Solving_quadratic_inequlaities.sce"
		   ]
		  },
  {
"cell_type": "code",
	   "execution_count": null,
	   "metadata": {
	    "collapsed": true
	   },
	   "outputs": [],
"source": [
"//x^2-6*x+8<0\n",
"clear;\n",
"clc;\n",
"close;\n",
"x=poly(0,'x');\n",
"y=x^2-6*x+8;\n",
"//the product is negative only if either one of the factors is negative\n",
"f=factors(y);//these factors are <0\n",
"//f(1)>0 and f(2)<0 \n \t or \t \n f(1)<0 and f(2)>0\n",
"  x=string(-2:7);//by number line method,\n",
"n=string('<'+strcat(x,'~~~')+'>') //-2 to 7 no. line\n",
"n1='<';n2='';\n",
"    for x=-2:2\n",
"      n1=n1+'----';\n",
"    end\n",
"       for x=2:8\n",
"      n2=n2+'+++';\n",
"    end\n",
"    mprintf(n1+n2+'>'+'     '+'(x-2)'+'\n')    \n",
"n1='<';n2='';    \n",
"      for y=-2:4\n",
"     n1=n1+'----';\n",
"    end\n",
"       for y=4:8\n",
"      n2=n2+'+++';\n",
"    end\n",
"    mprintf(n1+n2+'>'+'     '+'(x-4)'+'\n') \n",
"   \n",
"// from diagram, (x-2) is +ve when x>2 & -ve when x<2 by using + ans - signs. same in the case of (x-4)\n",
"    mprintf('\n solution of x^2-6*x+8<0 is \n 2<x<4')\n",
"     "
   ]
   }
,
{
		   "cell_type": "markdown",
		   "metadata": {},
		   "source": [
			"## Example 17.14: Solving_the_inequality.sce"
		   ]
		  },
  {
"cell_type": "code",
	   "execution_count": null,
	   "metadata": {
	    "collapsed": true
	   },
	   "outputs": [],
"source": [
"//(2*x-1)(x+2)(3-x)>0\n",
"clear;\n",
"clc;\n",
"close;\n",
"x=string(-4:5);//by number line method\n",
"n=string('<'+strcat(x,'~~~')+'>')  //-2 to 7 no. line\n",
"n1='<';n2='';\n",
"    for x=-4:1\n",
"      n1=n1+'----';\n",
"    end\n",
"       for x=0.5:5\n",
"      n2=n2+'++++';\n",
"    end\n",
"    mprintf(n1+n2+'>'+'     '+'(2x-1)')    \n",
"n1='<';n2='';    \n",
"      for y=-4:-2\n",
"     n1=n1+'----';\n",
"    end\n",
"       for y=-2:5\n",
"      n2=n2+'++++';\n",
"    end\n",
"    mprintf(n1+n2+'>'+'     '+'(x+2)')    \n",
"n1='<';n2='';    \n",
"      for y=-4:3\n",
"     n1=n1+'++++';\n",
"    end\n",
"       for y=3:5\n",
"      n2=n2+'----';\n",
"    end\n",
"    mprintf(n1+n2+'>'+'     '+'(3-x)'+'\n') \n",
"    mprintf('the solution  is  0.5<x<3 \n or  \n x<-2')"
   ]
   }
,
{
		   "cell_type": "markdown",
		   "metadata": {},
		   "source": [
			"## Example 17.1: Solving_quadratic_equation.sce"
		   ]
		  },
  {
"cell_type": "code",
	   "execution_count": null,
	   "metadata": {
	    "collapsed": true
	   },
	   "outputs": [],
"source": [
"//x^2-x-1=0\n",
"clear;\n",
"clc;\n",
"close;\n",
"x=poly(0,'x');\n",
"y=x^2-x-1;// y=0\n",
"mprintf('the solution is \n')\n",
"format(7)\n",
"x=roots(y)\n",
""
   ]
   }
,
{
		   "cell_type": "markdown",
		   "metadata": {},
		   "source": [
			"## Example 17.2: Solving_quadratic_equation.sce"
		   ]
		  },
  {
"cell_type": "code",
	   "execution_count": null,
	   "metadata": {
	    "collapsed": true
	   },
	   "outputs": [],
"source": [
"//3*x^2-5*x+1=0\n",
"clear;\n",
"clc;\n",
"close;\n",
"x=poly(0,'x');\n",
"y=3*x^2-5*x+1;// y=0\n",
"mprintf('the solution is \n')\n",
"format(6)\n",
"x=roots(y)\n",
""
   ]
   }
,
{
		   "cell_type": "markdown",
		   "metadata": {},
		   "source": [
			"## Example 17.3: Solving_equation.sce"
		   ]
		  },
  {
"cell_type": "code",
	   "execution_count": null,
	   "metadata": {
	    "collapsed": true
	   },
	   "outputs": [],
"source": [
"clear;\n",
"clc;\n",
"close;\n",
"x=poly(0,'x');\n",
"p1=1/(x-1);\n",
"p2=1/(x+2);\n",
"y=p1-p2;\n",
"y1=1/16;\n",
"a=numer(y)*denom(y1);\n",
"b=numer(y1)*denom(y);\n",
"r=a-b;\n",
"mprintf('the solution is \n');\n",
"format(6)\n",
"x=roots(r)"
   ]
   }
,
{
		   "cell_type": "markdown",
		   "metadata": {},
		   "source": [
			"## Example 17.4: Solution_of_quadratic_equation.sce"
		   ]
		  },
  {
"cell_type": "code",
	   "execution_count": null,
	   "metadata": {
	    "collapsed": true
	   },
	   "outputs": [],
"source": [
"//x^2-2*x-15=0\n",
"clear;\n",
"clc;\n",
"close;\n",
"x=poly(0,'x');\n",
"y=x^2-2*x-15;// y=0\n",
"mprintf('the solution  is  \n')\n",
"  mprintf('x=%i, \t',roots(y))\n",
""
   ]
   }
,
{
		   "cell_type": "markdown",
		   "metadata": {},
		   "source": [
			"## Example 17.5: quadratic_equation_Solution.sce"
		   ]
		  },
  {
"cell_type": "code",
	   "execution_count": null,
	   "metadata": {
	    "collapsed": true
	   },
	   "outputs": [],
"source": [
"//9*x*(x+1)=4\n",
"clear;\n",
"clc;\n",
"close;\n",
"x=poly(0,'x');\n",
"y=9*x*(x+1)-4; //y=0\n",
"  mprintf('the solution  is  \n')\n",
"  mprintf('x=%f, \n',roots(y))"
   ]
   }
,
{
		   "cell_type": "markdown",
		   "metadata": {},
		   "source": [
			"## Example 17.6: quadratic_equation_Solution.sce"
		   ]
		  },
  {
"cell_type": "code",
	   "execution_count": null,
	   "metadata": {
	    "collapsed": true
	   },
	   "outputs": [],
"source": [
"//5*x^2+9*x-2=0\n",
"clear;\n",
"clc;\n",
"close;\n",
"x=poly(0,'x');\n",
"y=5*x^2+9*x-2;\n",
"a=5;b=9;c=-2;//from equation we get these values\n",
"//using the formula - solution of quadratic equation ax^2+bx+c=0\n",
"x=(-b+sqrt(b^2-4*a*c))/(2*a);\n",
"mprintf('\t x=%f  \n  \n or  ',x)\n",
"x=(-b-sqrt(b^2-4*a*c))/(2*a);\n",
"mprintf(' x=%f',x)\n",
"\n",
" "
   ]
   }
,
{
		   "cell_type": "markdown",
		   "metadata": {},
		   "source": [
			"## Example 17.7: Solving_the_equation.sce"
		   ]
		  },
  {
"cell_type": "code",
	   "execution_count": null,
	   "metadata": {
	    "collapsed": true
	   },
	   "outputs": [],
"source": [
"clear;\n",
"clc;\n",
"close;\n",
"x=poly(0,'x');\n",
"p1=1/(x-1);\n",
"p2=2/3;\n",
"p3=2/(x-3);\n",
"p=(p1+p2-p3);\n",
"p=3*numer(p);//As p=0 and to remove fractions, multiply by 3\n",
"a=2;b=-11;c=3;//from equation we get these values\n",
"//using the formula - solution of quadratic equation ax^2+bx+c=0\n",
"mprintf('the solution is')\n",
"format(6)\n",
"x=(-b+sqrt(b^2-4*a*c))/(2*a)\n",
"mprintf('or \n')\n",
"x=(-b-sqrt(b^2-4*a*c))/(2*a)"
   ]
   }
,
{
		   "cell_type": "markdown",
		   "metadata": {},
		   "source": [
			"## Example 17.8: Time_taken_when_body_is_projected_vertically_upwards.sce"
		   ]
		  },
  {
"cell_type": "code",
	   "execution_count": null,
	   "metadata": {
	    "collapsed": true
	   },
	   "outputs": [],
"source": [
"\n",
"\n",
"//given u=160,g=10,h=240\n",
"clear\n",
"clc\n",
"close\n",
"//using the formulae 'h=u*t-(g*t^2)/2'\n",
"u=160;\n",
"g=10;\n",
"h=240;\n",
"t=poly(0,'t');\n",
"r=(240-u*t+(g*t^2)/2)//u*t-(g*t^2)/2-h=0\n",
"a=5;b=-160;c=240;//from equation we get these values\n",
"//using the formulae - solution of quadratic equation ax^2+bx+c=0\n",
"t=(-b+sqrt(b^2-4*a*c))/(2*a);\n",
"t1=(-b-sqrt(b^2-4*a*c))/(2*a);\n",
"mprintf('\n the solution  is  t=%f or t=%f\n',t,t1)//the answer given in textbook is wrong"
   ]
   }
,
{
		   "cell_type": "markdown",
		   "metadata": {},
		   "source": [
			"## Example 17.9: Speed_and_time_for_journey.sce"
		   ]
		  },
  {
"cell_type": "code",
	   "execution_count": null,
	   "metadata": {
	    "collapsed": true
	   },
	   "outputs": [],
"source": [
"clear;\n",
"clc;\n",
"close;\n",
"//let x km/hr is avg. speed for 1st journey\n",
"//as velocity=distance/time, time for 1st journey is 84/x hrs\n",
"//speed for return journey is 84/(x+4).from given data, this is <1/2 hr than the 1st time \n",
"x=poly(0,'x');\n",
"//In algebraic form,(84/x)-(84/(x+4))=1/2\n",
"y=(84/x)-(84/(x+4))-1/2; //y=0. so, numerator=0\n",
"x=roots(numer(y));\n",
"//velocity can't be in negatives.take +ve root\n",
"disp('avg. speed for 1st journey is x=24km/h')\n",
"distance=84;//given\n",
"velocity=24;//found\n",
"time=distance/velocity;//time for 1st journey\n",
"time1=distance/(velocity+4);//time for 2nd journey\n",
"mprintf('total_time=%fhours',time+time1)"
   ]
   }
],
"metadata": {
		  "kernelspec": {
		   "display_name": "Scilab",
		   "language": "scilab",
		   "name": "scilab"
		  },
		  "language_info": {
		   "file_extension": ".sce",
		   "help_links": [
			{
			 "text": "MetaKernel Magics",
			 "url": "https://github.com/calysto/metakernel/blob/master/metakernel/magics/README.md"
			}
		   ],
		   "mimetype": "text/x-octave",
		   "name": "scilab",
		   "version": "0.7.1"
		  }
		 },
		 "nbformat": 4,
		 "nbformat_minor": 0
}
