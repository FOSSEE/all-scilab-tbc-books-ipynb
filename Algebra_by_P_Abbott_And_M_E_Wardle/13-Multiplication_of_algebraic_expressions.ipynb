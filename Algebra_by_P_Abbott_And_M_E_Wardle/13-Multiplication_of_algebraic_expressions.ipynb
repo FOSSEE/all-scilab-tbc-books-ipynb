{
"cells": [
 {
		   "cell_type": "markdown",
	   "metadata": {},
	   "source": [
       "# Chapter 13: Multiplication of algebraic expressions"
	   ]
	},
{
		   "cell_type": "markdown",
		   "metadata": {},
		   "source": [
			"## Example 13.10: Cube_of_a_binomial.sce"
		   ]
		  },
  {
"cell_type": "code",
	   "execution_count": null,
	   "metadata": {
	    "collapsed": true
	   },
	   "outputs": [],
"source": [
"clc;\n",
"close;\n",
"clear;\n",
"x=poly(0,'x');\n",
"p=(x+1)^3\n",
"p1=(x-1)^3\n",
"a=poly(0,'a');\n",
"p2=(a+1)^3\n",
"p3=(1-a)^3\n",
"p4=string('(2x+3y)^3=8x^3+36x^2y+54xy^2+27y^3')\n",
"p5=string('(x-3y)^3=x^3-9x^2y+27xy^2-27y^3')"
   ]
   }
,
{
		   "cell_type": "markdown",
		   "metadata": {},
		   "source": [
			"## Example 13.11: Product_of_sum_and_difference.sce"
		   ]
		  },
  {
"cell_type": "code",
	   "execution_count": null,
	   "metadata": {
	    "collapsed": true
	   },
	   "outputs": [],
"source": [
"clc;\n",
"close;\n",
"clear;\n",
"x=poly(0,'x');\n",
"p=(x+9)*(x-9)\n",
"p1=string('(ab+10)(ab-10)=a^2*b^2-100')\n",
"p2=(4*x+5)*(4*x-5)\n",
"p3=(1+x)*(1-x)\n",
"a=poly(0,'a');\n",
"p4=(a-1/2)*(a+1/2)\n",
"p5=string('(a/3 + b/4)*(a/3 - b/4)=a^2/9 - b^2/16')\n",
"p6=string('{(a+b)+c}*{(a+b)-c}=(a+b)^2-c^2')\n",
"p7=string('{a+(b+c)}*{a-(b+c)}=a^2-(b+c)^2')"
   ]
   }
,
{
		   "cell_type": "markdown",
		   "metadata": {},
		   "source": [
			"## Example 13.1: Product_of_binomial_expressions.sce"
		   ]
		  },
  {
"cell_type": "code",
	   "execution_count": null,
	   "metadata": {
	    "collapsed": true
	   },
	   "outputs": [],
"source": [
"clc;\n",
"clear;\n",
"close;\n",
"x=poly(0,'x');\n",
"p=(x+6)*(x+5)\n",
"a=poly(0,'a');\n",
"p1=(a+9)*(a+4)\n",
"p2=(x+2)*(x-7)\n",
"p3=(a-8)*(a-3)\n",
"p4=(x-8)*(x-2)\n",
"p5=(x-8)*(x+2)\n",
"p6=(x+8)*(x-2)"
   ]
   }
,
{
		   "cell_type": "markdown",
		   "metadata": {},
		   "source": [
			"## Example 13.2: Multiplication_of_algebraic_expressions.sce"
		   ]
		  },
  {
"cell_type": "code",
	   "execution_count": null,
	   "metadata": {
	    "collapsed": true
	   },
	   "outputs": [],
"source": [
"clear; \n",
"clc;\n",
"close;\n",
"x=poly(0,'x');\n",
"p1=(2*x+5);\n",
"p2=(3*x+4);\n",
"ans=p1*p2"
   ]
   }
,
{
		   "cell_type": "markdown",
		   "metadata": {},
		   "source": [
			"## Example 13.3: Multiplication_of_algebraic_expressions.sce"
		   ]
		  },
  {
"cell_type": "code",
	   "execution_count": null,
	   "metadata": {
	    "collapsed": true
	   },
	   "outputs": [],
"source": [
"clear; \n",
"clc;\n",
"close;\n",
"x=poly(0,'x');\n",
"p1=(3*x+7);\n",
"p2=(2*x+1);\n",
"p3=p1*p2;\n",
"disp(p3,'product=')"
   ]
   }
,
{
		   "cell_type": "markdown",
		   "metadata": {},
		   "source": [
			"## Example 13.4: Multiplication_of_algebraic_expressions.sce"
		   ]
		  },
  {
"cell_type": "code",
	   "execution_count": null,
	   "metadata": {
	    "collapsed": true
	   },
	   "outputs": [],
"source": [
"clear; \n",
"clc;\n",
"close;\n",
"x=poly(0,'x');\n",
"p1=(7*x-5);\n",
"p2=(2*x+3);\n",
"p3=p1*p2;\n",
"disp(p3,'product=')"
   ]
   }
,
{
		   "cell_type": "markdown",
		   "metadata": {},
		   "source": [
			"## Example 13.5: Product_of_algebraic_expressions.sce"
		   ]
		  },
  {
"cell_type": "code",
	   "execution_count": null,
	   "metadata": {
	    "collapsed": true
	   },
	   "outputs": [],
"source": [
"clear; \n",
"clc;\n",
"close;\n",
"x=poly(0,'x');\n",
"p1=(3*x-2);\n",
"p2=(4*x-7);\n",
"p3=p1*p2;\n",
"disp(p3,'product=')"
   ]
   }
,
{
		   "cell_type": "markdown",
		   "metadata": {},
		   "source": [
			"## Example 13.6: Multiplication_of_a_trinomial.sce"
		   ]
		  },
  {
"cell_type": "code",
	   "execution_count": null,
	   "metadata": {
	    "collapsed": true
	   },
	   "outputs": [],
"source": [
"clear; \n",
"clc;\n",
"close;\n",
"x=poly(0,'x');\n",
"p1=(x+2);\n",
"p2=(x^2-x+1);\n",
"p3=p1*p2;//on collecting like terms\n",
"disp(p3,'product=')"
   ]
   }
,
{
		   "cell_type": "markdown",
		   "metadata": {},
		   "source": [
			"## Example 13.7: Product_of_a_trinomial.sce"
		   ]
		  },
  {
"cell_type": "code",
	   "execution_count": null,
	   "metadata": {
	    "collapsed": true
	   },
	   "outputs": [],
"source": [
"//(a+b)*(a^2-ab+b^2)\n",
"clear;\n",
"clc;\n",
"close;\n",
"//on collecting like terms\n",
"val=string('a^3+b^3')\n",
""
   ]
   }
,
{
		   "cell_type": "markdown",
		   "metadata": {},
		   "source": [
			"## Example 13.8: Square_of_a_binomial_expression.sce"
		   ]
		  },
  {
"cell_type": "code",
	   "execution_count": null,
	   "metadata": {
	    "collapsed": true
	   },
	   "outputs": [],
"source": [
"clc;\n",
"close;\n",
"clear;\n",
"x=poly(0,'x');\n",
"p=(x+1)^2\n",
"p1=(x-1)^2\n",
"a=poly(0,'a');\n",
"p2=(a+9)^2\n",
"p3=string('(1-5xy)^2=1-10xy+25x^2y^2')\n",
"p4=string('(2x+7y)^2=4x^2 +28xy +49y^2')\n",
"p5=string('(3a-10b)^2=9a^2-60ab+100b^2')"
   ]
   }
,
{
		   "cell_type": "markdown",
		   "metadata": {},
		   "source": [
			"## Example 13.9: Square_of_a_trinomial.sce"
		   ]
		  },
  {
"cell_type": "code",
	   "execution_count": null,
	   "metadata": {
	    "collapsed": true
	   },
	   "outputs": [],
"source": [
"clc;\n",
"close;\n",
"clear;\n",
"p1=string('(a+b+1)^2=a^2+b^2+1+2ab+2a+2b')\n",
"p2=string('(x-y+z)^2=x^2+y^2+z^2-2xy+2xz-2yz')\n",
"p3=string('(a-b-c)^2=a^2+b^2+c^2-2ab-2ac+2bc')\n",
"p4=string('(x+y-5)^2=x^2+y^2+25-10x-10y+2xy')"
   ]
   }
],
"metadata": {
		  "kernelspec": {
		   "display_name": "Scilab",
		   "language": "scilab",
		   "name": "scilab"
		  },
		  "language_info": {
		   "file_extension": ".sce",
		   "help_links": [
			{
			 "text": "MetaKernel Magics",
			 "url": "https://github.com/calysto/metakernel/blob/master/metakernel/magics/README.md"
			}
		   ],
		   "mimetype": "text/x-octave",
		   "name": "scilab",
		   "version": "0.7.1"
		  }
		 },
		 "nbformat": 4,
		 "nbformat_minor": 0
}
