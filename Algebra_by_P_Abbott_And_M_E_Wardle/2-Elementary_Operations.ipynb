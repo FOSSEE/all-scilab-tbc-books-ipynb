{
"cells": [
 {
		   "cell_type": "markdown",
	   "metadata": {},
	   "source": [
       "# Chapter 2: Elementary Operations"
	   ]
	},
{
		   "cell_type": "markdown",
		   "metadata": {},
		   "source": [
			"## Example 2.10: simplification_of_algebraic_expression.sce"
		   ]
		  },
  {
"cell_type": "code",
	   "execution_count": null,
	   "metadata": {
	    "collapsed": true
	   },
	   "outputs": [],
"source": [
"//2a/15 + 5b/12\n",
"clear;\n",
"clc;\n",
"close;\n",
"d=int32([15,12]);//'L.C.M of denominators'\n",
"k=lcm(d);\n",
"a_coeff=60/15*2;\n",
"b_coeff=60/12*5;\n",
"disp('ans=')\n",
"mprintf('(%ia+%ib)/%i',a_coeff,b_coeff,k)\n",
""
   ]
   }
,
{
		   "cell_type": "markdown",
		   "metadata": {},
		   "source": [
			"## Example 2.11: Algebraic_subtractio.sce"
		   ]
		  },
  {
"cell_type": "code",
	   "execution_count": null,
	   "metadata": {
	    "collapsed": true
	   },
	   "outputs": [],
"source": [
"//x/12a^2b - y/18ab^2\n",
"clear;\n",
"clc;\n",
"close;\n",
" d=int32([18,12]);//L.C.M of denominators\n",
"k=lcm(d);\n",
"//'L.C.M of a^2*b and a*b^2 is a^2*b^2'\n",
"x_coeff=36/12;\n",
"y_coeff=36/18;\n",
"disp('ans=')\n",
"mprintf('(%ibx-%iay)/%ia^2b^2',x_coeff,y_coeff,k)"
   ]
   }
,
{
		   "cell_type": "markdown",
		   "metadata": {},
		   "source": [
			"## Example 2.12: Division_of_terms.sce"
		   ]
		  },
  {
"cell_type": "code",
	   "execution_count": null,
	   "metadata": {
	    "collapsed": true
	   },
	   "outputs": [],
"source": [
"//4*x^3*y/(6*x*y^3)\n",
"clear;\n",
"clc;\n",
"close;\n",
"d=int32([4,6]);\n",
"m=4/gcd(d);\n",
"n=6/gcd(d);\n",
"x=poly(0,'x');y=poly(0,'y');\n",
"p1=x^3;p2=x;p=p1/p2;\n",
"q1=y;q2=y^3;q=q1/q2;\n",
"//val=m/n*p*q \n",
"disp('val=')\n",
"mprintf('%i/%i*x^2/y^2',m,n)\n",
""
   ]
   }
,
{
		   "cell_type": "markdown",
		   "metadata": {},
		   "source": [
			"## Example 2.13: Algebraic_Multiplicatio.sce"
		   ]
		  },
  {
"cell_type": "code",
	   "execution_count": null,
	   "metadata": {
	    "collapsed": true
	   },
	   "outputs": [],
"source": [
"//6*a*x^4*2*y^3/(14*x^2*y^2*3*a^4)\n",
"clear;\n",
"clc;\n",
"close;\n",
"x=poly(0,'x');y=poly(0,'y');a=poly(0,'a');\n",
"num=6*2/(14*3);\n",
"p1=x^4;p2=x^2;p=p1/p2;\n",
"q1=y^3;q2=y^2;q=q1/q2;\n",
"r1=a;r2=a^4;r=r1/r2;\n",
"//val=num*p*q*r\n",
"disp('val=')\n",
"mprintf('%f*x^2*y/a^3',num)"
   ]
   }
,
{
		   "cell_type": "markdown",
		   "metadata": {},
		   "source": [
			"## Example 2.14: Division_of_algebraic_terms.sce"
		   ]
		  },
  {
"cell_type": "code",
	   "execution_count": null,
	   "metadata": {
	    "collapsed": true
	   },
	   "outputs": [],
"source": [
"//(8x^3)/(5a^2y) *(3a)/(4x^2)\n",
"clear;\n",
"clc;\n",
"close;\n",
"x=poly(0,'x');y=poly(0,'y');a=poly(0,'a');\n",
"p1=x^3;p2=x^2;p=p1/p2;\n",
"q=1/y;\n",
"r1=a;r2=a^2;r=r1/r2;\n",
"num=8*3/(5*4);\n",
"//val=num*p*q*r\n",
"disp('val=')\n",
"mprintf('%f*x/(a*y)',num)"
   ]
   }
,
{
		   "cell_type": "markdown",
		   "metadata": {},
		   "source": [
			"## Example 2.1: simplifying.sce"
		   ]
		  },
  {
"cell_type": "code",
	   "execution_count": null,
	   "metadata": {
	    "collapsed": true
	   },
	   "outputs": [],
"source": [
"//simplify 5a+6b+2a-3b\n",
"clear;\n",
"clc;\n",
"close;\n",
"//('collecting like terms \n');\n",
"x=5+2;y=6-3;\n",
"printf('total=%ia+%ib',x,y);\n",
""
   ]
   }
,
{
		   "cell_type": "markdown",
		   "metadata": {},
		   "source": [
			"## Example 2.2: Minimizing_the_terms.sce"
		   ]
		  },
  {
"cell_type": "code",
	   "execution_count": null,
	   "metadata": {
	    "collapsed": true
	   },
	   "outputs": [],
"source": [
"clear;\n",
"clc;\n",
"close;\n",
"//'collecting like terms ;\n",
"x=15+7;y=6-3;\n",
"printf('total=%ix+%iy-5',x,y)"
   ]
   }
,
{
		   "cell_type": "markdown",
		   "metadata": {},
		   "source": [
			"## Example 2.3: value_of_algebraic_expression.sce"
		   ]
		  },
  {
"cell_type": "code",
	   "execution_count": null,
	   "metadata": {
	    "collapsed": true
	   },
	   "outputs": [],
"source": [
"//find value of 6x+2y-3x+4y-3 when x=3 & y=2\n",
"clear;\n",
"clc;\n",
"close;\n",
"x_coeff=6-3;y_coeff=2+4;\n",
"//'substitue given values'\n",
"x=3;y=2;\n",
"val=x_coeff*x + y_coeff*y -3\n",
"\n",
"\n",
"\n",
""
   ]
   }
,
{
		   "cell_type": "markdown",
		   "metadata": {},
		   "source": [
			"## Example 2.4: Multiplication_of_powers_of_a_number.sce"
		   ]
		  },
  {
"cell_type": "code",
	   "execution_count": null,
	   "metadata": {
	    "collapsed": true
	   },
	   "outputs": [],
"source": [
"clc;\n",
"clear;\n",
"close;\n",
"x=poly(0,'x');\n",
"p1=x^4;\n",
"p2=p1;\n",
"ex1_ans=p1*p2\n",
"a=poly(0,'a');\n",
"p1=2*a^7;\n",
"p2=a^3;\n",
"ex2_ans=p1*p2\n",
"b=poly(0,'b');\n",
"p1=5*b^2;\n",
"p2=3*b^5;\n",
"ex3_ans=p1*p2\n",
"//a^2*ab^2\n",
"ex4_ans=string('a^3b^3')"
   ]
   }
,
{
		   "cell_type": "markdown",
		   "metadata": {},
		   "source": [
			"## Example 2.5: Division_of_powers.sce"
		   ]
		  },
  {
"cell_type": "code",
	   "execution_count": null,
	   "metadata": {
	    "collapsed": true
	   },
	   "outputs": [],
"source": [
"//84a^6/12a^2\n",
"clear;\n",
"clc;\n",
"close;\n",
"a=poly(0,'a');\n",
"p1=84*a^6;\n",
"p2=12*a^2;\n",
"p=p1/p2;\n",
"horner(p,a)\n",
"\n",
""
   ]
   }
,
{
		   "cell_type": "markdown",
		   "metadata": {},
		   "source": [
			"## Example 2.6: Algebraic_division.sce"
		   ]
		  },
  {
"cell_type": "code",
	   "execution_count": null,
	   "metadata": {
	    "collapsed": true
	   },
	   "outputs": [],
"source": [
"//3x^4/6x^6\n",
"clear;\n",
"clc;\n",
"close;\n",
"x=poly(0,'x');\n",
"p1=3*x^4;\n",
"p2=6*x^6;\n",
"p=p1/p2"
   ]
   }
,
{
		   "cell_type": "markdown",
		   "metadata": {},
		   "source": [
			"## Example 2.7: Sum_of_terms.sce"
		   ]
		  },
  {
"cell_type": "code",
	   "execution_count": null,
	   "metadata": {
	    "collapsed": true
	   },
	   "outputs": [],
"source": [
"//x/3 + x/5\n",
"clear;\n",
"clc;\n",
"close;\n",
"x=poly(0,'x');\n",
"p1=x/3;\n",
"p2=x/5;\n",
"p=p1+p2;\n",
"q=8*x/15;\n",
"if(p==q)\n",
" mprintf('val=8*x/15 \n')\n",
"end\n",
""
   ]
   }
,
{
		   "cell_type": "markdown",
		   "metadata": {},
		   "source": [
			"## Example 2.8: Addition_of_algebraic_terms.sce"
		   ]
		  },
  {
"cell_type": "code",
	   "execution_count": null,
	   "metadata": {
	    "collapsed": true
	   },
	   "outputs": [],
"source": [
"//sum of 3/a + 4/b\n",
"clear;\n",
"clc;\n",
"close;\n",
"val=string('(3b + 4a)/(ab)')"
   ]
   }
,
{
		   "cell_type": "markdown",
		   "metadata": {},
		   "source": [
			"## Example 2.9: Subtraction_of_terms.sce"
		   ]
		  },
  {
"cell_type": "code",
	   "execution_count": null,
	   "metadata": {
	    "collapsed": true
	   },
	   "outputs": [],
"source": [
"//x/y - a/b\n",
"clear;\n",
"clc;\n",
"close;\n",
"val=string('(bx-ay)/(by)')"
   ]
   }
],
"metadata": {
		  "kernelspec": {
		   "display_name": "Scilab",
		   "language": "scilab",
		   "name": "scilab"
		  },
		  "language_info": {
		   "file_extension": ".sce",
		   "help_links": [
			{
			 "text": "MetaKernel Magics",
			 "url": "https://github.com/calysto/metakernel/blob/master/metakernel/magics/README.md"
			}
		   ],
		   "mimetype": "text/x-octave",
		   "name": "scilab",
		   "version": "0.7.1"
		  }
		 },
		 "nbformat": 4,
		 "nbformat_minor": 0
}
