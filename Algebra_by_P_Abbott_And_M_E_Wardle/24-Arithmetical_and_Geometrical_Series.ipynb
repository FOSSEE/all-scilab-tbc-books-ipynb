{
"cells": [
 {
		   "cell_type": "markdown",
	   "metadata": {},
	   "source": [
       "# Chapter 24: Arithmetical and Geometrical Series"
	   ]
	},
{
		   "cell_type": "markdown",
		   "metadata": {},
		   "source": [
			"## Example 24.10: Finding_the_common_ratio.sce"
		   ]
		  },
  {
"cell_type": "code",
	   "execution_count": null,
	   "metadata": {
	    "collapsed": true
	   },
	   "outputs": [],
"source": [
"//3rd term of G.P is 4.5 and 9th is 16.2\n",
"clear;\n",
"clc;\n",
"close;\n",
"// nth term=a*r^(n-1)\n",
"term3=4.5;//given data\n",
"//'a*r^(3-1)=4.5  ---equ(1)'\n",
"term9=16.2;//given\n",
"//'a*r^(9-1)=16.2 ---equ(2)'\n",
"mprintf('\n the common ratio is :\n');\n",
"format(7)\n",
"r=(16.2/4.5)^(1/6)//equ(2)/equ(1)\n",
"\n",
""
   ]
   }
,
{
		   "cell_type": "markdown",
		   "metadata": {},
		   "source": [
			"## Example 24.11: Sum_of_seven_terms_of_the_series.sce"
		   ]
		  },
  {
"cell_type": "code",
	   "execution_count": null,
	   "metadata": {
	    "collapsed": true
	   },
	   "outputs": [],
"source": [
"//sum of 7 terms of the series 2,3,4,5,....\n",
"clear;\n",
"clc;\n",
"close;\n",
"r=3/2;a=2;n=7;//given\n",
"//using the formula\n",
"S=string('a*(r^(n)-1)/(r-1)')\n",
"disp('substituting the given values ')\n",
"format(6)\n",
"Sum=evstr(S)\n",
"\n",
"\n",
""
   ]
   }
,
{
		   "cell_type": "markdown",
		   "metadata": {},
		   "source": [
			"## Example 24.12: Sum_of_7_terms.sce"
		   ]
		  },
  {
"cell_type": "code",
	   "execution_count": null,
	   "metadata": {
	    "collapsed": true
	   },
	   "outputs": [],
"source": [
"//sum of 7 terms of the series 4,-8,16,....\n",
"clear;\n",
"clc;\n",
"close;\n",
"r=-8/4;a=4;n=7;//given\n",
"//using the formula\n",
"S=string('a*(r^(n)-1)/(r-1)');\n",
"//substituting the values \n",
"Sum=evstr(S)\n",
"\n",
"\n",
"\n",
""
   ]
   }
,
{
		   "cell_type": "markdown",
		   "metadata": {},
		   "source": [
			"## Example 24.13: Sum_of_infinite_terms.sce"
		   ]
		  },
  {
"cell_type": "code",
	   "execution_count": null,
	   "metadata": {
	    "collapsed": true
	   },
	   "outputs": [],
"source": [
"//sum to infinity series 2 + 1/2 + 1/8 + ......\n",
"clear;\n",
"clc;\n",
"close;\n",
"a=2;r=1/4;//given\n",
"//using the formula\n",
"S_infinity=string('a/(1-r)');\n",
"Sum=evstr(S_infinity)"
   ]
   }
,
{
		   "cell_type": "markdown",
		   "metadata": {},
		   "source": [
			"## Example 24.14: Sum_to_infinity_of_the_series.sce"
		   ]
		  },
  {
"cell_type": "code",
	   "execution_count": null,
	   "metadata": {
	    "collapsed": true
	   },
	   "outputs": [],
"source": [
"//sum to infinity series 5 - 1 + 1/5 - ......\n",
"clear;\n",
"clc;\n",
"close;\n",
"a=5;r=-1/5;//given\n",
"//using the formula\n",
"S_infinity=string('a/(1-r)');\n",
"Sum=evstr(S_infinity)"
   ]
   }
,
{
		   "cell_type": "markdown",
		   "metadata": {},
		   "source": [
			"## Example 24.1: Arithmetic_series.sce"
		   ]
		  },
  {
"cell_type": "code",
	   "execution_count": null,
	   "metadata": {
	    "collapsed": true
	   },
	   "outputs": [],
"source": [
"clc;\n",
"clear;\n",
"close;\n",
"//ex(1) 7,13,19,25....\n",
"common_diff=19-13\n",
"//ex(2) 6,4,2,0,-2\n",
"common_diff=2-4\n",
""
   ]
   }
,
{
		   "cell_type": "markdown",
		   "metadata": {},
		   "source": [
			"## Example 24.2: Nth_term_in_arithmetic_series.sce"
		   ]
		  },
  {
"cell_type": "code",
	   "execution_count": null,
	   "metadata": {
	    "collapsed": true
	   },
	   "outputs": [],
"source": [
"clc;\n",
"clear;\n",
"close;\n",
"//ex(1) in the series 7,10,13,.... the common difference is 3. 10th trerm is ?\n",
"nth_term=string('7+(n-1)*3')\n",
"term10=7+(10-1)*3\n",
"//ex(2) i the series 6,2,-2,-6,....and d=-4\n",
"nth_term=string('6-(n-1)*4')\n",
"term8=6+(8-1)*-4"
   ]
   }
,
{
		   "cell_type": "markdown",
		   "metadata": {},
		   "source": [
			"## Example 24.3: Arithmetic_mea.sce"
		   ]
		  },
  {
"cell_type": "code",
	   "execution_count": null,
	   "metadata": {
	    "collapsed": true
	   },
	   "outputs": [],
"source": [
"//insert 3 A.M's between 4 and 20\n",
"clc;\n",
"clear;\n",
"close;\n",
"//let 4,a,b,c,20 are in A.P. using, l=a+(n-1)*d\n",
"d=(20-4)/(5-1);\n",
"a=4+d;\n",
"b=a+d;\n",
"c=b+d;\n",
"mprintf('the five terms are 4,%i,%i,%i,20',a,b,c)\n",
""
   ]
   }
,
{
		   "cell_type": "markdown",
		   "metadata": {},
		   "source": [
			"## Example 24.4: Finding_common_difference_in_AP.sce"
		   ]
		  },
  {
"cell_type": "code",
	   "execution_count": null,
	   "metadata": {
	    "collapsed": true
	   },
	   "outputs": [],
"source": [
"//sum of A.P of 8 terms is 90.1st term is 6.\n",
"clear;\n",
"clc;\n",
"close;\n",
"// using s=n*{2*a+(n-1)*d}/2 \n",
"//substituting given values\n",
"for d=0:0.001:100\n",
"  if(90==8/2*{2*6 + (8-1)*d})\n",
"format(5)\n",
"d\n",
"    break\n",
"  end\n",
"end"
   ]
   }
,
{
		   "cell_type": "markdown",
		   "metadata": {},
		   "source": [
			"## Example 24.5: Finding_n_value_in_arithmetic_sum.sce"
		   ]
		  },
  {
"cell_type": "code",
	   "execution_count": null,
	   "metadata": {
	    "collapsed": true
	   },
	   "outputs": [],
"source": [
"clear;\n",
"clc;\n",
"close;\n",
"// using s=n*{2*a+(n-1)*d}/2 \n",
"a=3;d=3;s=135;\n",
"//substituting given values\n",
"n=poly(0,'n');\n",
"p=n/2*{6 + (n-1)*3}-135;\n",
"n=roots(p)\n",
"mprintf('\n As root -10 is inadmissible, the solution is n=9')"
   ]
   }
,
{
		   "cell_type": "markdown",
		   "metadata": {},
		   "source": [
			"## Example 24.6: Geometric_series.sce"
		   ]
		  },
  {
"cell_type": "code",
	   "execution_count": null,
	   "metadata": {
	    "collapsed": true
	   },
	   "outputs": [],
"source": [
"clc;\n",
"clear;\n",
"close;\n",
"//ex(1).1,2,4,8,...\n",
"commom_ratio=4/2\n",
"//ex(2). 1,1/2,1/4,1/8,....\n",
"common_ratio=(1/4)/(1/2)\n",
"//ex(3). 2,-6,18,-54\n",
"common_ratio=-6/2\n",
"//ex(4). R,R^2,R^3,R^4....\n",
"R=poly(0,'R');\n",
"common_ratio=R^2/R"
   ]
   }
,
{
		   "cell_type": "markdown",
		   "metadata": {},
		   "source": [
			"## Example 24.7: Seventh_term_of_given_series.sce"
		   ]
		  },
  {
"cell_type": "code",
	   "execution_count": null,
	   "metadata": {
	    "collapsed": true
	   },
	   "outputs": [],
"source": [
"//7th term of the series 3,6,12,....\n",
"clear;\n",
"clc;\n",
"close;\n",
"//in the series r=2, so using the formula\n",
"// nth term=a*r^(n-1) \n",
"a=3;n=7;//given data\n",
"term7=3*(2)^(7-1);\n",
"mprintf('\n the seventh term of the series is %i',term7)"
   ]
   }
,
{
		   "cell_type": "markdown",
		   "metadata": {},
		   "source": [
			"## Example 24.8: Eighth_term_of_given_series.sce"
		   ]
		  },
  {
"cell_type": "code",
	   "execution_count": null,
	   "metadata": {
	    "collapsed": true
	   },
	   "outputs": [],
"source": [
"//8th term of the series 2,-6,18,-54,......\n",
"clear;\n",
"clc;\n",
"close;\n",
"//in the series r=-3, so using the formula\n",
"// nth term=a*r^(n-1) \n",
"a=2;n=8;//given data\n",
"term8=2*(-3)^(8-1);\n",
"mprintf('\n the eighth term of the series is %i',term8)"
   ]
   }
,
{
		   "cell_type": "markdown",
		   "metadata": {},
		   "source": [
			"## Example 24.9: Finding_the_5th_term.sce"
		   ]
		  },
  {
"cell_type": "code",
	   "execution_count": null,
	   "metadata": {
	    "collapsed": true
	   },
	   "outputs": [],
"source": [
"//5th term of the series.1st term is 100 and common ratio(r) is 0.63\n",
"clear;\n",
"clc;\n",
"close;\n",
"// using the formula\n",
"//nth term=a*r^(n-1) \n",
"a=100;n=0.63;//given data\n",
"mprintf('\n the fifth term of the series is \n')\n",
"format(6)\n",
"term5=100*0.63^(5-1)"
   ]
   }
],
"metadata": {
		  "kernelspec": {
		   "display_name": "Scilab",
		   "language": "scilab",
		   "name": "scilab"
		  },
		  "language_info": {
		   "file_extension": ".sce",
		   "help_links": [
			{
			 "text": "MetaKernel Magics",
			 "url": "https://github.com/calysto/metakernel/blob/master/metakernel/magics/README.md"
			}
		   ],
		   "mimetype": "text/x-octave",
		   "name": "scilab",
		   "version": "0.7.1"
		  }
		 },
		 "nbformat": 4,
		 "nbformat_minor": 0
}
