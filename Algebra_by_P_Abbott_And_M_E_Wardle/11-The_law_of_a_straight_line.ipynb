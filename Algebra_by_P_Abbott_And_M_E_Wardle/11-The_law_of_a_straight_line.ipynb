{
"cells": [
 {
		   "cell_type": "markdown",
	   "metadata": {},
	   "source": [
       "# Chapter 11: The law of a straight line"
	   ]
	},
{
		   "cell_type": "markdown",
		   "metadata": {},
		   "source": [
			"## Example 11.1: Connection_between_net_profit_and_number_of_customers.sce"
		   ]
		  },
  {
"cell_type": "code",
	   "execution_count": null,
	   "metadata": {
	    "collapsed": true
	   },
	   "outputs": [],
"source": [
"clear;\n",
"clc;\n",
"close;\n",
"//x-no. of customers.  b-the expenses\n",
"clf;\n",
"cust=[230 240 270 300 350 380];\n",
"profit=[0 0.5 2.0 3.5 6.0 7.5];\n",
"plot(cust,profit,6);\n",
"plot(230,0,'r->.diam');\n",
"//profit(y) depends on varying no. of customers(x). \n",
"xtitle('the straight line graph','no. of customers','profit');\n",
"xgrid();\n",
"//ex(1)\n",
"mprintf('(1) From graph, if x=230, then y=0');\n",
"//ex(2)\n",
"mprintf('(2) if no. of customers is <230 then there will be a loss')"
   ]
   }
,
{
		   "cell_type": "markdown",
		   "metadata": {},
		   "source": [
			"## Example 11.2: The_law_represented_by_a_straight_line_graph.sce"
		   ]
		  },
  {
"cell_type": "code",
	   "execution_count": null,
	   "metadata": {
	    "collapsed": true
	   },
	   "outputs": [],
"source": [
"clear;\n",
"clc;\n",
"close;\n",
"//let a-the avg. amount paid. x-no. of customers.  b-the expenses\n",
"//net profit is y=ax-b\n",
"x=320;y=4.50;\n",
"x=250;y=1.00;\n",
"//substitute in above equation\n",
"//4.5=320*a-b-equ.1;1=250*a-b-equ.2.subbstract equ.2 from 1.\n",
"a=0.05;//we get\n",
"b=250*a-1;\n",
"x=poly(0,'x');\n",
"y=a*x-b;//equation to straight line\n",
"//if there is no profit i.e., y=0\n",
"for x=1:500\n",
"if(0.05*x-11.5==0)\n",
"mprintf('x=%i \n',x) \n",
"break\n",
"end\n",
"end\n",
"clf;\n",
"cust=[230 240 270 300 350 380];\n",
"profit=[0 0.5 2.0 3.5 6.0 7.5];\n",
"plot(cust,profit,6);\n",
"plot(230,0,'r->.diam');\n",
"//profit(y) depends on varying no. of customers(x). the no.'s 0.05 & 11.5 remained constant\n",
"xtitle('the straight line graph','no. of customers','profit');\n",
"legend('y=0.05*x-11.5');\n",
"xgrid();"
   ]
   }
,
{
		   "cell_type": "markdown",
		   "metadata": {},
		   "source": [
			"## Example 11.3: Graph_of_the_given_equation.sce"
		   ]
		  },
  {
"cell_type": "code",
	   "execution_count": null,
	   "metadata": {
	    "collapsed": true
	   },
	   "outputs": [],
"source": [
"//2*y-4*x=3\n",
"\n",
"clear; \n",
"clc;\n",
"close;\n",
"x=poly(0,'x');\n",
"x=[-2 -1 0 1 1.8 2];\n",
"y=(3+4*x)/2;\n",
"x_vs_y=[x;y];\n",
"plot(x,y,3)\n",
"plot(0,1.5,'r.->')//when x=0. 1.5 is intercept on y-axis\n",
"plot(-0.75,0,'r.->')//when y=0. -0.75 is intercept on x-axis\n",
"xtitle('graph of equation 2y-4x-3','x axis','y axis');\n",
"xgrid;"
   ]
   }
,
{
		   "cell_type": "markdown",
		   "metadata": {},
		   "source": [
			"## Example 11.4: Graph_of_the_equatio.sce"
		   ]
		  },
  {
"cell_type": "code",
	   "execution_count": null,
	   "metadata": {
	    "collapsed": true
	   },
	   "outputs": [],
"source": [
"//2*x+y=1\n",
"clear; \n",
"clc;\n",
"close;\n",
"x=poly(0,'x');\n",
"x=[-2 -1 0 1 2 3];\n",
"y=1-2*x;\n",
"x_vs_y=[x;y];\n",
"plot(x,y,3)\n",
"plot(0,1,'r.->')// intercept on y-axis\n",
"plot(0.5,0,'r.->')// intercept on x-axis\n",
"xtitle('graph of the equation 2x+y=1','x axis','y axis');\n",
"xgrid;"
   ]
   }
,
{
		   "cell_type": "markdown",
		   "metadata": {},
		   "source": [
			"## Example 11.5: Graphs_of_straight_lines_not_passing_through_origins.sce"
		   ]
		  },
  {
"cell_type": "code",
	   "execution_count": null,
	   "metadata": {
	    "collapsed": true
	   },
	   "outputs": [],
"source": [
"//y=mx+b\n",
"clear; \n",
"clc;\n",
"close;\n",
"clf;\n",
"x=linspace(0,3,4);\n",
"y=x;\n",
"plot2d(x,y,1);\n",
"y=x+2;\n",
"plot2d(x,y,4);\n",
"y=x-3;\n",
"plot2d(x,y,5);\n",
"xtitle('Equations of the form y=mx+b','x axis','y axis');\n",
"legend('y=x','y=x+2','y=x-3',2);\n",
"//m is constant, b is fixed distance. (x,y) vary for different points on the line \n",
"xgrid()\n",
"//ex(1)\n",
"mprintf('ex(1) In y=4x-7, gradient is 4.Intercept on y-axis is -7')\n",
"//ex(2)\n",
"mprintf('ex(2) In y=0.05x-11.5, gradient is 0.05 and intercept on y-axis is -11.5')\n",
"\n",
""
   ]
   }
,
{
		   "cell_type": "markdown",
		   "metadata": {},
		   "source": [
			"## Example 11.6: Graphical_solution_of_simultaneous_equations.sce"
		   ]
		  },
  {
"cell_type": "code",
	   "execution_count": null,
	   "metadata": {
	    "collapsed": true
	   },
	   "outputs": [],
"source": [
"//x+2*y=5,  3*x-2*y=7\n",
"clear; \n",
"clc;\n",
"close;\n",
"x=poly(0,'x');\n",
"//graph of x+2*y=5\n",
"x=[0 -1 2 5];\n",
"y=(5-x)/2;\n",
"x_vs_y=[x;y];\n",
"plot(x,y,'b--.x')\n",
"//graph of 3*x-2*y=7\n",
"x=[0 -1 7/8 4];\n",
"y=(3*x-7)/2;\n",
"plot(x,y,'b--.o')\n",
"for x=1:100\n",
"  if((5-x)/2==(3*x-7)/2)\n",
"    break\n",
"  end\n",
"end\n",
"mprintf('the solution of the equation is')\n",
"y=(5-x)/2;\n",
"mprintf('x=%i\ny=%i ',x,y)\n",
"plot(x,y,'r.->')\n",
"xtitle('graph of simultaneous equations','x axis','y axis');\n",
"xgrid;\n",
"legend('x+2*y=5','3*x-2*y=7',4);"
   ]
   }
],
"metadata": {
		  "kernelspec": {
		   "display_name": "Scilab",
		   "language": "scilab",
		   "name": "scilab"
		  },
		  "language_info": {
		   "file_extension": ".sce",
		   "help_links": [
			{
			 "text": "MetaKernel Magics",
			 "url": "https://github.com/calysto/metakernel/blob/master/metakernel/magics/README.md"
			}
		   ],
		   "mimetype": "text/x-octave",
		   "name": "scilab",
		   "version": "0.7.1"
		  }
		 },
		 "nbformat": 4,
		 "nbformat_minor": 0
}
