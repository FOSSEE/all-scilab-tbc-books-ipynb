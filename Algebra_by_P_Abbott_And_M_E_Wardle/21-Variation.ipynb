{
"cells": [
 {
		   "cell_type": "markdown",
	   "metadata": {},
	   "source": [
       "# Chapter 21: Variation"
	   ]
	},
{
		   "cell_type": "markdown",
		   "metadata": {},
		   "source": [
			"## Example 21.1: Graph_of_spring_extension_for_different_weights.sce"
		   ]
		  },
  {
"cell_type": "code",
	   "execution_count": null,
	   "metadata": {
	    "collapsed": true
	   },
	   "outputs": [],
"source": [
"//spiral spring example\n",
"clc;\n",
"clear;\n",
"close;\n",
"clf();\n",
"weight=linspace(0,0.5,6);\n",
"extension=[0 0.15 0.3 0.44 0.6 0.75];\n",
"plot2d(weight,extension,13);\n",
"xtitle('spiral spring example','vaues of L','values of E');\n",
"xgrid();\n",
"//Extension varies directly as the attached load\n",
"//let E=Extension,L=Load\n",
"//to find 'k',a pair of values is taken at point p\n",
"L=0.5;E=0.75;\n",
"plot(L,E,'r..');\n",
"legend('E=KL','POINT P',2);\n",
"//substitute 'p' in E=K*L\n",
"K=E/L;\n",
"mprintf('the law is : \n E= %fL \n',K)"
   ]
   }
,
{
		   "cell_type": "markdown",
		   "metadata": {},
		   "source": [
			"## Example 21.2: Comparison_of_voltmeters.sce"
		   ]
		  },
  {
"cell_type": "code",
	   "execution_count": null,
	   "metadata": {
	    "collapsed": true
	   },
	   "outputs": [],
"source": [
"//voltmeters example\n",
"clc;\n",
"clear;\n",
"close;\n",
"clf();\n",
"C=[1.9 2.75 3.8 4.8 5.8];\n",
"K=[5.75 8.3 11.2 14 16.8];\n",
"//C and K are connected by the law of the form K=mC+b\n",
"plot2d4(C,K,3);\n",
"plot(3.4,10,'r.pentagram');\n",
"plot(5.3,15.5,'r.pentagram');\n",
"xtitle('voltmeters graph','C','K');\n",
"xgrid();\n",
"legend('K=mC+b','POINTS A,B',2);\n",
"//substituting A,B points in K=mC+b,we get\n",
"//10=3.4m+b ------->equ(1) ; 15.5=5.3m+b ------->equ(2)\n",
"//substracting\n",
"m=(10-15.5)/(3.4-5.3);\n",
"b=10-(3.4*m);\n",
"mprintf('the law is: \n K=%fC+%f',m,b)"
   ]
   }
,
{
		   "cell_type": "markdown",
		   "metadata": {},
		   "source": [
			"## Example 21.3: Inverse_variation.sce"
		   ]
		  },
  {
"cell_type": "code",
	   "execution_count": null,
	   "metadata": {
	    "collapsed": true
	   },
	   "outputs": [],
"source": [
" //y varies as cube root of x\n",
"clear;\n",
"clc;\n",
"close;\n",
"//y=k*x^(1/3)\n",
"y=3;x=64;//given\n",
"k=y/(x^(1/3));\n",
"mprintf('(1) y=0.75*x^(1/3)'); \n",
"//when y=15/4,x=?\n",
"x=(15/4)^3/(0.75)^3;\n",
"mprintf('(2) x=%i',x)\n",
"                                                                                                                                                                                                                  "
   ]
   }
,
{
		   "cell_type": "markdown",
		   "metadata": {},
		   "source": [
			"## Example 21.4: Time_of_vibration_of_simple_pendulum.sce"
		   ]
		  },
  {
"cell_type": "code",
	   "execution_count": null,
	   "metadata": {
	    "collapsed": true
	   },
	   "outputs": [],
"source": [
"//time of vibration of pendulum varies as sqrt(length)\n",
"clear;\n",
"clc;\n",
"close;\n",
"//let l=length of pendulum in meters, t=the time of variation\n",
"//t=k*sqrt(l) => vibration of pendulum varies as sqrt(length)\n",
"l=1;t=1;//given\n",
"k=t/(sqrt(l));\n",
"l=1.06;//given\n",
"format(5);\n",
"time_in_sec=k*sqrt(l)\n",
"\n",
"\n",
"\n",
"\n",
"                                                                                                                                                            "
   ]
   }
,
{
		   "cell_type": "markdown",
		   "metadata": {},
		   "source": [
			"## Example 21.5: Triangle_area.sce"
		   ]
		  },
  {
"cell_type": "code",
	   "execution_count": null,
	   "metadata": {
	    "collapsed": true
	   },
	   "outputs": [],
"source": [
"//A=b*h/2\n",
"clear;\n",
"clc;\n",
"close;\n",
"//A= the area of triangle.b=the length of base.h=the corresponding altitude\n",
"// A depends on both b &h \n",
"mprintf('\n A=k*b*h \n ')\n",
"k=1/2\n",
"\n",
"\n",
"                                                                                                                                                            "
   ]
   }
,
{
		   "cell_type": "markdown",
		   "metadata": {},
		   "source": [
			"## Example 21.6: Volume_varies_inversely_with_peressure.sce"
		   ]
		  },
  {
"cell_type": "code",
	   "execution_count": null,
	   "metadata": {
	    "collapsed": true
	   },
	   "outputs": [],
"source": [
"//volume of mass os gas at const. temp. varies inversly as pressure on it\n",
"clear\n",
"clc\n",
"close\n",
"//v=volume\n",
"//T=absolute temperature\n",
"//P=pressure\n",
"mprintf('\n v=k*T/P \n')"
   ]
   }
,
{
		   "cell_type": "markdown",
		   "metadata": {},
		   "source": [
			"## Example 21.7: Relation_between_R_and_l.sce"
		   ]
		  },
  {
"cell_type": "code",
	   "execution_count": null,
	   "metadata": {
	    "collapsed": true
	   },
	   "outputs": [],
"source": [
"//resistance of a current wire varies as length varies also, varies inversly as the cross section of wire\n",
"clear\n",
"clc\n",
"close\n",
"//R=the resistance\n",
"//l=the length\n",
"//the cross section\n",
"mprintf('\n R=k*l/A \n ')"
   ]
   }
,
{
		   "cell_type": "markdown",
		   "metadata": {},
		   "source": [
			"## Example 21.8: Joint_variation.sce"
		   ]
		  },
  {
"cell_type": "code",
	   "execution_count": null,
	   "metadata": {
	    "collapsed": true
	   },
	   "outputs": [],
"source": [
"clear;\n",
"clc;\n",
"close;\n",
"// y varies directly as x and inversly as z^3 \n",
"mprintf('\n y=k*x/z^3 \n')\n",
"x=15;z=12;y=1/36;//given\n",
"//substituting given values\n",
"format(5)\n",
"k=y*z^3/x\n",
""
   ]
   }
,
{
		   "cell_type": "markdown",
		   "metadata": {},
		   "source": [
			"## Example 21.9: F_varies_directly_with_strength_and_inversely_with_distance.sce"
		   ]
		  },
  {
"cell_type": "code",
	   "execution_count": null,
	   "metadata": {
	    "collapsed": true
	   },
	   "outputs": [],
"source": [
"clear;\n",
"clc;\n",
"close;\n",
"// force of 2 magnetic poles varies as product of their strength & inversly as square of distance between them \n",
"//F=the force.  m1,m2=the pole strengths.  d=the distance apart\n",
"mprintf('\n F=k*m1*m2/d^2 \n')\n",
"F=3;m1=8;m2=6;d=4;//given\n",
"k=F*d^2/(m1*m2);\n",
"m1=5;m2=9;d=2;\n",
"Force_in_newtons=k*m1*m2/d^2"
   ]
   }
],
"metadata": {
		  "kernelspec": {
		   "display_name": "Scilab",
		   "language": "scilab",
		   "name": "scilab"
		  },
		  "language_info": {
		   "file_extension": ".sce",
		   "help_links": [
			{
			 "text": "MetaKernel Magics",
			 "url": "https://github.com/calysto/metakernel/blob/master/metakernel/magics/README.md"
			}
		   ],
		   "mimetype": "text/x-octave",
		   "name": "scilab",
		   "version": "0.7.1"
		  }
		 },
		 "nbformat": 4,
		 "nbformat_minor": 0
}
