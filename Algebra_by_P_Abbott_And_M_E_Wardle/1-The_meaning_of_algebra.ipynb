{
"cells": [
 {
		   "cell_type": "markdown",
	   "metadata": {},
	   "source": [
       "# Chapter 1: The meaning of algebra"
	   ]
	},
{
		   "cell_type": "markdown",
		   "metadata": {},
		   "source": [
			"## Example 1.1: Conversion_of_pounds_to_pence.sce"
		   ]
		  },
  {
"cell_type": "code",
	   "execution_count": null,
	   "metadata": {
	    "collapsed": true
	   },
	   "outputs": [],
"source": [
"//ex1: no.of pence in x pounds added to y pence\n",
"clear;\n",
"clc;\n",
"close;\n",
"//' to express pounds in pence, multiply by 100'\n",
"x=poly(0,'x');\n",
"x_pounds=100*x; // x_pounds=100*x pence\n",
"mprintf(' total no. of pence =100x+y ')\n",
"\n",
"\n",
""
   ]
   }
,
{
		   "cell_type": "markdown",
		   "metadata": {},
		   "source": [
			"## Example 1.2: Distance_car_traveled.sce"
		   ]
		  },
  {
"cell_type": "code",
	   "execution_count": null,
	   "metadata": {
	    "collapsed": true
	   },
	   "outputs": [],
"source": [
"//ex2:car travels t h at v km/h.how far it go in 20min\n",
"clear;\n",
"clc;\n",
"close;\n",
"//'car goes  1*v km in 1h  2*v km in 2h  ...  t*v km in th'\n",
"x=20/60;\n",
"mprintf('\ncar travels %f*vkm in 20min',x)\n",
"\n",
"\n",
"\n",
""
   ]
   }
,
{
		   "cell_type": "markdown",
		   "metadata": {},
		   "source": [
			"## Example 1.3: result_in_algebraic_form.sce"
		   ]
		  },
  {
"cell_type": "code",
	   "execution_count": null,
	   "metadata": {
	    "collapsed": true
	   },
	   "outputs": [],
"source": [
"//ex3\n",
"clear;\n",
"clc;\n",
"close;\n",
"x=poly(0,'x');\n",
"y=poly(0,'y');\n",
"sum1=3*x+5;\n",
"divisor=4*y;\n",
"mprintf('result in algebraic form: \n(3*x+5)/(4*y)')"
   ]
   }
],
"metadata": {
		  "kernelspec": {
		   "display_name": "Scilab",
		   "language": "scilab",
		   "name": "scilab"
		  },
		  "language_info": {
		   "file_extension": ".sce",
		   "help_links": [
			{
			 "text": "MetaKernel Magics",
			 "url": "https://github.com/calysto/metakernel/blob/master/metakernel/magics/README.md"
			}
		   ],
		   "mimetype": "text/x-octave",
		   "name": "scilab",
		   "version": "0.7.1"
		  }
		 },
		 "nbformat": 4,
		 "nbformat_minor": 0
}
