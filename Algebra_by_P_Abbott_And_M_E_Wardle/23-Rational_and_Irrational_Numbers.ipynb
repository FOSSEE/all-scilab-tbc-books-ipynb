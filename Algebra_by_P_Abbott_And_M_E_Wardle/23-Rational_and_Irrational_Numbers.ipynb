{
"cells": [
 {
		   "cell_type": "markdown",
	   "metadata": {},
	   "source": [
       "# Chapter 23: Rational and Irrational Numbers"
	   ]
	},
{
		   "cell_type": "markdown",
		   "metadata": {},
		   "source": [
			"## Example 23.1: Operation_with_surds.sce"
		   ]
		  },
  {
"cell_type": "code",
	   "execution_count": null,
	   "metadata": {
	    "collapsed": true
	   },
	   "outputs": [],
"source": [
"//ex(1) (sqrt(5)+sqrt(20))\n",
"clear;\n",
"clc;\n",
"close;\n",
"val=string('(sqrt(5)+sqrt(20))');\n",
"if((sqrt(5)+sqrt(20))==3*sqrt(5))  \n",
"    val_1=evstr(val)\n",
"end\n",
"//ex(2) sqrt(27)-sqrt(75)+sqrt(48)\n",
"val=string('sqrt(27)-sqrt(75)+sqrt(48)');\n",
"    val_2=evstr(val)\n",
"\n",
"    "
   ]
   }
,
{
		   "cell_type": "markdown",
		   "metadata": {},
		   "source": [
			"## Example 23.2: Rationalise.sce"
		   ]
		  },
  {
"cell_type": "code",
	   "execution_count": null,
	   "metadata": {
	    "collapsed": true
	   },
	   "outputs": [],
"source": [
"//1/(sqrt(5)-sqrt(2))\n",
"clear;\n",
"clc;\n",
"close;\n",
"//rationalising the denominator\n",
"function[denom1]=inputs(a,b)\n",
"     denom1=(sqrt(a)+sqrt(b))*(sqrt(a)-sqrt(b))\n",
"endfunction\n",
"[denom1]=inputs(5,2);\n",
"denom1=string(denom1);\n",
"numer1=string('(sqrt(5)+sqrt(2))');\n",
"val=string(numer1+'/'+denom1)\n",
"mprintf('i.e.,')\n",
"val=evstr(val)\n",
"  "
   ]
   }
,
{
		   "cell_type": "markdown",
		   "metadata": {},
		   "source": [
			"## Example 23.3: Simplify_surds.sce"
		   ]
		  },
  {
"cell_type": "code",
	   "execution_count": null,
	   "metadata": {
	    "collapsed": true
	   },
	   "outputs": [],
"source": [
"//(sqrt(5)-1)/(sqrt(5)+1)\n",
"clear;\n",
"close;\n",
"clc;\n",
"//rationalising the denominator\n",
"function[denom1]=inputs(a,b)\n",
"     denom1=(sqrt(a)+sqrt(b))*(sqrt(a)-sqrt(b));\n",
"endfunction\n",
"[denom1]=inputs(5,1);\n",
"denom1=string(denom1);\n",
"numer1=string('(6-2*sqrt(5))');\n",
"val=string(numer1+'/'+denom1)\n",
"mprintf('i.e.,')\n",
"val=evstr(val)"
   ]
   }
],
"metadata": {
		  "kernelspec": {
		   "display_name": "Scilab",
		   "language": "scilab",
		   "name": "scilab"
		  },
		  "language_info": {
		   "file_extension": ".sce",
		   "help_links": [
			{
			 "text": "MetaKernel Magics",
			 "url": "https://github.com/calysto/metakernel/blob/master/metakernel/magics/README.md"
			}
		   ],
		   "mimetype": "text/x-octave",
		   "name": "scilab",
		   "version": "0.7.1"
		  }
		 },
		 "nbformat": 4,
		 "nbformat_minor": 0
}
