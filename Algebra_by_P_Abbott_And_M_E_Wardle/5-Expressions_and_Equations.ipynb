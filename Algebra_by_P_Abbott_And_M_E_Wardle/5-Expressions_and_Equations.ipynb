{
"cells": [
 {
		   "cell_type": "markdown",
	   "metadata": {},
	   "source": [
       "# Chapter 5: Expressions and Equations"
	   ]
	},
{
		   "cell_type": "markdown",
		   "metadata": {},
		   "source": [
			"## Example 5.10: Substitute_number_in_the_rule.sce"
		   ]
		  },
  {
"cell_type": "code",
	   "execution_count": null,
	   "metadata": {
	    "collapsed": true
	   },
	   "outputs": [],
"source": [
"clear;\n",
"clc;\n",
"close;\n",
"for x=1:20\n",
"  if(3*x+4==19)\n",
"    mprintf('the number which gives 19 as result is %i',x)\n",
"  end\n",
"  end"
   ]
   }
,
{
		   "cell_type": "markdown",
		   "metadata": {},
		   "source": [
			"## Example 5.11: Finding_x.sce"
		   ]
		  },
  {
"cell_type": "code",
	   "execution_count": null,
	   "metadata": {
	    "collapsed": true
	   },
	   "outputs": [],
"source": [
"clear;\n",
"clc;\n",
"close;\n",
"for x=1:10\n",
"  if(5*x-7==8)\n",
"    mprintf('the value of x is %i\n',x)\n",
"    break\n",
"  end\n",
"end"
   ]
   }
,
{
		   "cell_type": "markdown",
		   "metadata": {},
		   "source": [
			"## Example 5.12: Value_of_x.sce"
		   ]
		  },
  {
"cell_type": "code",
	   "execution_count": null,
	   "metadata": {
	    "collapsed": true
	   },
	   "outputs": [],
"source": [
"clear;\n",
"clc;\n",
"close;\n",
"for x=1:20\n",
"  if(5*(x-3)==20)\n",
"    mprintf('the value of x is %i \n',x)\n",
"    break\n",
"  end\n",
"end"
   ]
   }
,
{
		   "cell_type": "markdown",
		   "metadata": {},
		   "source": [
			"## Example 5.13: Finding_n.sce"
		   ]
		  },
  {
"cell_type": "code",
	   "execution_count": null,
	   "metadata": {
	    "collapsed": true
	   },
	   "outputs": [],
"source": [
"clear;\n",
"clc;\n",
"close;\n",
"for n=1:60\n",
"  if(3*(2*n-5)+4==55)\n",
"    mprintf('the value of n is %i \n',n)\n",
"    break\n",
"  end\n",
"end"
   ]
   }
,
{
		   "cell_type": "markdown",
		   "metadata": {},
		   "source": [
			"## Example 5.1: Nth_term_of_the_sequence.sce"
		   ]
		  },
  {
"cell_type": "code",
	   "execution_count": null,
	   "metadata": {
	    "collapsed": true
	   },
	   "outputs": [],
"source": [
"clc;\n",
"clear;\n",
"close;\n",
"//46ex\n",
"//nth term in the sequence 2,4,6,8,10...is 2n. 5th term is?\n",
"term5=2*5\n",
"//nth term in the sequence 1,4,9,16,25 is n^2. 5th term is?\n",
"ex2_term5=5^2"
   ]
   }
,
{
		   "cell_type": "markdown",
		   "metadata": {},
		   "source": [
			"## Example 5.2_a: Using_function_machines.sce"
		   ]
		  },
  {
"cell_type": "code",
	   "execution_count": null,
	   "metadata": {
	    "collapsed": true
	   },
	   "outputs": [],
"source": [
"// 5,8,11,14,17.....\n",
"clear;\n",
"clc;\n",
"close;\n",
"a=5;//a is starting number of the series\n",
"n=5;//given n=5\n",
"d=3;//difference between the numbers\n",
"td=a+(n-1)*d; //formula to be used for arithmetic series\n",
"mprintf('ans= %i',td)"
   ]
   }
,
{
		   "cell_type": "markdown",
		   "metadata": {},
		   "source": [
			"## Example 5.2_b: Value_substitution_in_function_machine.sce"
		   ]
		  },
  {
"cell_type": "code",
	   "execution_count": null,
	   "metadata": {
	    "collapsed": true
	   },
	   "outputs": [],
"source": [
"// 9,12,15,18,21.....\n",
"clear;\n",
"clc;\n",
"close;\n",
"a=9;//a is starting number of the series\n",
"n=5;//given n=5\n",
"d=3;//difference between the numbers\n",
"td=a+(n-1)*d;//formula to be used for arithmetic series\n",
"mprintf('ans= %i',td)"
   ]
   }
,
{
		   "cell_type": "markdown",
		   "metadata": {},
		   "source": [
			"## Example 5.3_a: substitution_in_function_machine.sce"
		   ]
		  },
  {
"cell_type": "code",
	   "execution_count": null,
	   "metadata": {
	    "collapsed": true
	   },
	   "outputs": [],
"source": [
"// 5,12,19,26,33.....\n",
"clear;\n",
"clc;\n",
"close;\n",
"a=5;//a is starting number of the series\n",
"n=5;//given n=5\n",
"d=7;//difference between the numbers\n",
"td=a+(n-1)*d; //formula to be used for arithmetic series\n",
"mprintf('result= %i',td)"
   ]
   }
,
{
		   "cell_type": "markdown",
		   "metadata": {},
		   "source": [
			"## Example 5.3_b: Square_and_add.sce"
		   ]
		  },
  {
"cell_type": "code",
	   "execution_count": null,
	   "metadata": {
	    "collapsed": true
	   },
	   "outputs": [],
"source": [
"// 3,6,11,18,27.....\n",
"clear;\n",
"clc;\n",
"close;\n",
"n=5;\n",
"td=n^2+2;\n",
"mprintf('result= %i',td)"
   ]
   }
,
{
		   "cell_type": "markdown",
		   "metadata": {},
		   "source": [
			"## Example 5.4_a: Terms_of_the_sequence.sce"
		   ]
		  },
  {
"cell_type": "code",
	   "execution_count": null,
	   "metadata": {
	    "collapsed": true
	   },
	   "outputs": [],
"source": [
"// 5n-2\n",
"clear;\n",
"clc;\n",
"close;\n",
"mprintf('the first five terms of the sequence are: \n');\n",
"for n=1:5\n",
"  disp(5*n-2)\n",
" end"
   ]
   }
,
{
		   "cell_type": "markdown",
		   "metadata": {},
		   "source": [
			"## Example 5.4_b: sequence.sce"
		   ]
		  },
  {
"cell_type": "code",
	   "execution_count": null,
	   "metadata": {
	    "collapsed": true
	   },
	   "outputs": [],
"source": [
"//draw function machine for 4(n+5)\n",
"clear;\n",
"clc;\n",
"close;\n",
"mprintf('the first five terms of the sequence are: \n');\n",
"for n=1:5\n",
"  disp(4*(n+5))\n",
" end"
   ]
   }
,
{
		   "cell_type": "markdown",
		   "metadata": {},
		   "source": [
			"## Example 5.4_c: First_5_terms_of_the_sequence.sce"
		   ]
		  },
  {
"cell_type": "code",
	   "execution_count": null,
	   "metadata": {
	    "collapsed": true
	   },
	   "outputs": [],
"source": [
"//draw function machine for n^2+5\n",
"clear;\n",
"clc;\n",
"close;\n",
"mprintf('the first five terms of the sequence are: \n');\n",
"for n=1:5\n",
"  disp(n^2+5)\n",
" end"
   ]
   }
,
{
		   "cell_type": "markdown",
		   "metadata": {},
		   "source": [
			"## Example 5.5_a: Sequence_terms.sce"
		   ]
		  },
  {
"cell_type": "code",
	   "execution_count": null,
	   "metadata": {
	    "collapsed": true
	   },
	   "outputs": [],
"source": [
"// 4(5n-2)\n",
"clear;\n",
"clc;\n",
"close;\n",
"mprintf('the first five terms of the sequence are: \n');\n",
"for n=1:5\n",
"  disp(4*(5*n-2))\n",
" end"
   ]
   }
,
{
		   "cell_type": "markdown",
		   "metadata": {},
		   "source": [
			"## Example 5.5_b: First_5_terms.sce"
		   ]
		  },
  {
"cell_type": "code",
	   "execution_count": null,
	   "metadata": {
	    "collapsed": true
	   },
	   "outputs": [],
"source": [
"// 4(n+5)+3\n",
"clear;\n",
"clc;\n",
"close;\n",
"mprintf('the first five terms of the sequence are: \n');\n",
"for n=1:5\n",
"  disp(4*(n+5)+3)\n",
" end"
   ]
   }
,
{
		   "cell_type": "markdown",
		   "metadata": {},
		   "source": [
			"## Example 5.5_c: evaluate_the_expressio.sce"
		   ]
		  },
  {
"cell_type": "code",
	   "execution_count": null,
	   "metadata": {
	    "collapsed": true
	   },
	   "outputs": [],
"source": [
"// 2(n^2+5)\n",
"clear;\n",
"clc;\n",
"close;\n",
"mprintf('the first five terms of the sequence are: \n');\n",
"for n=1:5\n",
"  disp(2*(n^2+5))\n",
" end"
   ]
   }
,
{
		   "cell_type": "markdown",
		   "metadata": {},
		   "source": [
			"## Example 5.6_a: drawing_function_machine.sce"
		   ]
		  },
  {
"cell_type": "code",
	   "execution_count": null,
	   "metadata": {
	    "collapsed": true
	   },
	   "outputs": [],
"source": [
"//evaluate 2*(3*n^2+5)-4\n",
"clear;\n",
"clc;\n",
"close;\n",
" n=7; //given\n",
"disp('ans=')\n",
" disp(2*(3*n^2+5)-4)"
   ]
   }
,
{
		   "cell_type": "markdown",
		   "metadata": {},
		   "source": [
			"## Example 5.6_b: simplifying_by_removing_brackets.sce"
		   ]
		  },
  {
"cell_type": "code",
	   "execution_count": null,
	   "metadata": {
	    "collapsed": true
	   },
	   "outputs": [],
"source": [
"//evaluate 2*(3*n^2+5)-4 by removing brackets\n",
"clear;\n",
"clc;\n",
"close;\n",
"n=poly(0,'n');\n",
"p1=2*(3*n^2+5)-4;//removing braces\n",
"n=7;//given\n",
"val=2*(3*n^2+5)-4"
   ]
   }
,
{
		   "cell_type": "markdown",
		   "metadata": {},
		   "source": [
			"## Example 5.7_a: Composite_rule_fg.sce"
		   ]
		  },
  {
"cell_type": "code",
	   "execution_count": null,
	   "metadata": {
	    "collapsed": true
	   },
	   "outputs": [],
"source": [
"//f(x):x->3x;g(x):x->x-2;fg(5)\n",
"clear;\n",
"clc;\n",
"close;\n",
"x=poly(0,'x');\n",
"f=3*x;\n",
"g=x-2;\n",
"// fg= f(g(x))=f(x-2)=3*(x-2)\n",
"x=5;\n",
"fg=3*(x-2)\n",
"\n",
"\n",
""
   ]
   }
,
{
		   "cell_type": "markdown",
		   "metadata": {},
		   "source": [
			"## Example 5.7_b: Composite_rule_gf.sce"
		   ]
		  },
  {
"cell_type": "code",
	   "execution_count": null,
	   "metadata": {
	    "collapsed": true
	   },
	   "outputs": [],
"source": [
"//f(x):x->x+3;g(x):x->x^2;gf(5)\n",
"clear;\n",
"clc;\n",
"close;\n",
"x=poly(0,'x');\n",
"f=x+3;\n",
"g=x^2;\n",
"// gf= g(f(x))=g(x+3)=(x+3)^2\n",
"x=5;\n",
"gf=(x+3)^2\n",
"\n",
""
   ]
   }
,
{
		   "cell_type": "markdown",
		   "metadata": {},
		   "source": [
			"## Example 5.8: Inverse_of_the_rule.sce"
		   ]
		  },
  {
"cell_type": "code",
	   "execution_count": null,
	   "metadata": {
	    "collapsed": true
	   },
	   "outputs": [],
"source": [
"//inverse of x->3x+4\n",
"clear;\n",
"clc;\n",
"close;\n",
"x=poly(0,'x');\n",
"p1=3*x+4;\n",
"disp(p1,'x->')\n",
"mprintf('inverse of the rule is:\n (x-4)/3')"
   ]
   }
,
{
		   "cell_type": "markdown",
		   "metadata": {},
		   "source": [
			"## Example 5.9: Inverse.sce"
		   ]
		  },
  {
"cell_type": "code",
	   "execution_count": null,
	   "metadata": {
	    "collapsed": true
	   },
	   "outputs": [],
"source": [
"//inverse of x->3(x+4)-2\n",
"clear;\n",
"clc;\n",
"close;\n",
"x=poly(0,'x');\n",
"mprintf('1)inverse of the rule is:\n (x+2)/3-4 \n ');\n",
"x=6;//given\n",
"x=3*(x+4)-2;\n",
"mprintf('2)');\n",
"inv_val=(x+2)/3-4 \n",
""
   ]
   }
],
"metadata": {
		  "kernelspec": {
		   "display_name": "Scilab",
		   "language": "scilab",
		   "name": "scilab"
		  },
		  "language_info": {
		   "file_extension": ".sce",
		   "help_links": [
			{
			 "text": "MetaKernel Magics",
			 "url": "https://github.com/calysto/metakernel/blob/master/metakernel/magics/README.md"
			}
		   ],
		   "mimetype": "text/x-octave",
		   "name": "scilab",
		   "version": "0.7.1"
		  }
		 },
		 "nbformat": 4,
		 "nbformat_minor": 0
}
