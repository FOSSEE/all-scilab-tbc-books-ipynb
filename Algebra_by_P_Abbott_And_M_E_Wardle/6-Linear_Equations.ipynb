{
"cells": [
 {
		   "cell_type": "markdown",
	   "metadata": {},
	   "source": [
       "# Chapter 6: Linear Equations"
	   ]
	},
{
		   "cell_type": "markdown",
		   "metadata": {},
		   "source": [
			"## Example 6.1: Solving_an_equation.sce"
		   ]
		  },
  {
"cell_type": "code",
	   "execution_count": null,
	   "metadata": {
	    "collapsed": true
	   },
	   "outputs": [],
"source": [
"//8 times a number is decreased by 5 the result is 123\n",
"clear;\n",
"clc;\n",
"close;\n",
"x=poly(0,'x');\n",
"//let x be the number\n",
"expr=8*x-5;\n",
"for x=1:100\n",
"  if((8*x-5)==123)\n",
"    mprintf('the number is %i',x)\n",
"  end\n",
"  end\n",
""
   ]
   }
,
{
		   "cell_type": "markdown",
		   "metadata": {},
		   "source": [
			"## Example 6.2: Finding_3_consecutive_odd_numbers.sce"
		   ]
		  },
  {
"cell_type": "code",
	   "execution_count": null,
	   "metadata": {
	    "collapsed": true
	   },
	   "outputs": [],
"source": [
"//sum of 3 consecutive odd no.'s is 81\n",
"clear;\n",
"clc;\n",
"close;\n",
"//let the 3 consecutive odd numbers be 2n+1,2n+3,2n+5\n",
"n=poly(0,'n');\n",
"expr=(2*n+1)+(2*n+3)+(2*n+5);\n",
"for n=1:100\n",
"  if((2*n+1)+(2*n+3)+(2*n+5)==81)\n",
"    //mprintf('n=%i \n',n);\n",
"    break\n",
"  end\n",
"end\n",
"n1=2*n+1;\n",
"n2=2*n+3;\n",
"n3=2*n+5;\n",
"mprintf('\n the numbers are %i ,%i, %i\n',n1,n2,n3)\n",
"\n",
""
   ]
   }
,
{
		   "cell_type": "markdown",
		   "metadata": {},
		   "source": [
			"## Example 6.3: Solving_the_equation.sce"
		   ]
		  },
  {
"cell_type": "code",
	   "execution_count": null,
	   "metadata": {
	    "collapsed": true
	   },
	   "outputs": [],
"source": [
"clear;\n",
"clc;\n",
"close;\n",
"x=poly(0,'x');\n",
"p1=(6*x-5);\n",
"p2=(2*x+9);\n",
"p3=p1-p2;\n",
"x=roots(p3)\n",
"left=6*x-5; //check by substituion \n",
"right=2*x+9;\n",
"if(left==right)\n",
"  mprintf('satisfies the equation \n')\n",
"end\n",
""
   ]
   }
,
{
		   "cell_type": "markdown",
		   "metadata": {},
		   "source": [
			"## Example 6.4: Solve_equatio.sce"
		   ]
		  },
  {
"cell_type": "code",
	   "execution_count": null,
	   "metadata": {
	    "collapsed": true
	   },
	   "outputs": [],
"source": [
"clear;\n",
"clc;\n",
"close;\n",
"x=poly(0,'x');\n",
"p1=10*(x-4);\n",
"p2=4*(2*x-1)+5;\n",
"p3=p1-p2;\n",
"x=roots(p3);\n",
"left=10*(x-4);//substitution \n",
"right=4*(2*x-1)+5;\n",
"if(left==right)\n",
"  format(5)\n",
"x\n",
"end"
   ]
   }
,
{
		   "cell_type": "markdown",
		   "metadata": {},
		   "source": [
			"## Example 6.5: Equating_2_expressions.sce"
		   ]
		  },
  {
"cell_type": "code",
	   "execution_count": null,
	   "metadata": {
	    "collapsed": true
	   },
	   "outputs": [],
"source": [
"clear;\n",
"clc;\n",
"close;\n",
"x=poly(0,'x');\n",
"p1=3*x/5+x/2;\n",
"p2=5*x/4-3;\n",
"p3=p1-p2;\n",
"x=roots(p3) //by the law of signs\n",
"\n",
"\n",
""
   ]
   }
,
{
		   "cell_type": "markdown",
		   "metadata": {},
		   "source": [
			"## Example 6.6: equation_solution.sce"
		   ]
		  },
  {
"cell_type": "code",
	   "execution_count": null,
	   "metadata": {
	    "collapsed": true
	   },
	   "outputs": [],
"source": [
"clear;\n",
"clc;\n",
"close;\n",
"x=poly(0,'x');\n",
"p1=4*x-(x-2)/3;\n",
"p2=5+(2*x+1)/4;\n",
"p3=p1-p2;\n",
"x=roots(p3) \n",
"left=4*x-(x-2)/3;//substitution\n",
"right=5+(2*x+1)/4;\n",
"if(left==right)\n",
"mprintf('satisfies the equation \n')\n",
"end\n",
""
   ]
   }
,
{
		   "cell_type": "markdown",
		   "metadata": {},
		   "source": [
			"## Example 6.7: Number_of_men_and_women_at_dance_party.sce"
		   ]
		  },
  {
"cell_type": "code",
	   "execution_count": null,
	   "metadata": {
	    "collapsed": true
	   },
	   "outputs": [],
"source": [
"clear;\n",
"clc;\n",
"close;\n",
"x=poly(0,'x');\n",
"//let x be the number of men.then, x+10 is no. of women as per given data\n",
"money_paid_by_men=20*x;\n",
"money_paid_by_women=15*x + 10;\n",
"total=1620\n",
"expr=8*x-5;\n",
"for x=1:100\n",
"  if((20*x + 15*(x + 10))==1620)\n",
"    mprintf('the number of  men is %i \n',x)\n",
"    mprintf('the number of women is  %i',x+10)\n",
"  end\n",
"end\n",
" \n",
""
   ]
   }
,
{
		   "cell_type": "markdown",
		   "metadata": {},
		   "source": [
			"## Example 6.8: Finding_the_distance.sce"
		   ]
		  },
  {
"cell_type": "code",
	   "execution_count": null,
	   "metadata": {
	    "collapsed": true
	   },
	   "outputs": [],
"source": [
"clear;\n",
"clc;\n",
"close;\n",
"x=poly(0,'x');\n",
"//let x be distance in kilometers\n",
"time_1st_journey=x/64\n",
"time_2nd_journey=x/80\n",
"total_time=9;\n",
"for x=1:500\n",
"  if((x/64 + x/80) == 9)\n",
"    mprintf('the value of  x is %iKm \n',x)\n",
"   end\n",
"end\n",
" \n",
"\n",
"						\n",
""
   ]
   }
,
{
		   "cell_type": "markdown",
		   "metadata": {},
		   "source": [
			"## Example 6.9: Finding_the_weekly_increase.sce"
		   ]
		  },
  {
"cell_type": "code",
	   "execution_count": null,
	   "metadata": {
	    "collapsed": true
	   },
	   "outputs": [],
"source": [
"clear;\n",
"clc;\n",
"close;\n",
"x=poly(0,'x');\n",
"//let x be amount of increase in pence\n",
"mans_new_wage=480+x;\n",
"womens_new_wage=370+x;\n",
"for x=1:500\n",
"  if((480+x) == (6*(370+x)/5))//by given data\n",
"    mprintf('the weekly increase is %ip \n',x)\n",
"   end\n",
"end\n",
" \n",
"\n",
"						\n",
""
   ]
   }
],
"metadata": {
		  "kernelspec": {
		   "display_name": "Scilab",
		   "language": "scilab",
		   "name": "scilab"
		  },
		  "language_info": {
		   "file_extension": ".sce",
		   "help_links": [
			{
			 "text": "MetaKernel Magics",
			 "url": "https://github.com/calysto/metakernel/blob/master/metakernel/magics/README.md"
			}
		   ],
		   "mimetype": "text/x-octave",
		   "name": "scilab",
		   "version": "0.7.1"
		  }
		 },
		 "nbformat": 4,
		 "nbformat_minor": 0
}
