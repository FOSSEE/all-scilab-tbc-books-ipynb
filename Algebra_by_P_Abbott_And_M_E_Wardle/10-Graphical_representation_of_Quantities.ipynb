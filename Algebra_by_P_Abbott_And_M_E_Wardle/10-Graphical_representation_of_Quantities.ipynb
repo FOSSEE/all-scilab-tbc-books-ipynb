{
"cells": [
 {
		   "cell_type": "markdown",
	   "metadata": {},
	   "source": [
       "# Chapter 10: Graphical representation of Quantities"
	   ]
	},
{
		   "cell_type": "markdown",
		   "metadata": {},
		   "source": [
			"## Example 10.1: Annual_premiums_charged_at_various_ages.sce"
		   ]
		  },
  {
"cell_type": "code",
	   "execution_count": null,
	   "metadata": {
	    "collapsed": true
	   },
	   "outputs": [],
"source": [
"clear;\n",
"clc;\n",
"close ;\n",
"clf;\n",
"AGE=[25  30  35  40  45  50];\n",
"premium_in_$=[2.33 2.59 2.91 3.31 3.81 4.53];\n",
"plot(AGE,premium_in_$,3);\n",
"xtitle('Annual Premiums charged by an insurance company','AGE(in years)','premium_in_$');\n",
"xgrid;\n",
"AGE=43;premium_in_$=3.6;plot(AGE,premium_in_$,'r.diam');\n",
"AGE=36;premium_in_$=3;plot(AGE,premium_in_$,'r.diam');\n",
"plot(25,2.0,'o')\n",
"      \n",
"     \n",
"     "
   ]
   }
,
{
		   "cell_type": "markdown",
		   "metadata": {},
		   "source": [
			"## Example 10.2: Resistance_for_given_length_of_wires.sce"
		   ]
		  },
  {
"cell_type": "code",
	   "execution_count": null,
	   "metadata": {
	    "collapsed": true
	   },
	   "outputs": [],
"source": [
"clear;\n",
"clc;\n",
"close;\n",
"clf;\n",
"length1=[100 120 170 220];\n",
"resistance=[2.5 3 4.25 5.5];\n",
"plot(length1,resistance,'b--.diam')\n",
"xtitle('Relation between Resistances and Length','length_in_meters','resistance_in_ohms');\n",
"xgrid;\n",
"length1=200;\n",
"resistance=5;\n",
"plot('length','resistance','b.diam')\n",
"plot(250,6.21,'b.diam')//this point is called extrapolation \n",
"\n",
"     \n",
"     "
   ]
   }
,
{
		   "cell_type": "markdown",
		   "metadata": {},
		   "source": [
			"## Example 10.3: to_show_the_relation_between_time_and_distance.sce"
		   ]
		  },
  {
"cell_type": "code",
	   "execution_count": null,
	   "metadata": {
	    "collapsed": true
	   },
	   "outputs": [],
"source": [
"clear;\n",
"clc;\n",
"close; \n",
"clf;\n",
"time=[0 1 2 3 4 5];\n",
"distance=[0 2 8 18 32 50];\n",
"plot(time,distance,'o-')\n",
"xtitle('Relation between Time and Distance','time t in sec','distance in meters');\n",
"xgrid;\n",
"//ex1:distance passed over in 3.6s\n",
"mprintf('EX1: \nfrom curve, it is 26m. the actual distance from formula is 25.92m')\n",
"//ex2:time to travel 42m\n",
"mprintf('EX2: \nline from 42m on distance axis that touches the curve at 4.6s.the mechanics formula gives 4.58s')\n",
"\n",
"\n",
" "
   ]
   }
],
"metadata": {
		  "kernelspec": {
		   "display_name": "Scilab",
		   "language": "scilab",
		   "name": "scilab"
		  },
		  "language_info": {
		   "file_extension": ".sce",
		   "help_links": [
			{
			 "text": "MetaKernel Magics",
			 "url": "https://github.com/calysto/metakernel/blob/master/metakernel/magics/README.md"
			}
		   ],
		   "mimetype": "text/x-octave",
		   "name": "scilab",
		   "version": "0.7.1"
		  }
		 },
		 "nbformat": 4,
		 "nbformat_minor": 0
}
