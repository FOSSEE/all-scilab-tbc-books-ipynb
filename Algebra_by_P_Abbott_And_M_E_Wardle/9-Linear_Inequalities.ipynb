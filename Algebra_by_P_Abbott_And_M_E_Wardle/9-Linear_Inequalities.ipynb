{
"cells": [
 {
		   "cell_type": "markdown",
	   "metadata": {},
	   "source": [
       "# Chapter 9: Linear Inequalities"
	   ]
	},
{
		   "cell_type": "markdown",
		   "metadata": {},
		   "source": [
			"## Example 9.10: Values_satisfying_the_inequalities.sce"
		   ]
		  },
  {
"cell_type": "code",
	   "execution_count": null,
	   "metadata": {
	    "collapsed": true
	   },
	   "outputs": [],
"source": [
"//-2<x<=3 & -1<x<=5\n",
"clear;\n",
"clc;\n",
"close;\n",
"x=string(-2:6);\n",
"     n=string('<'+strcat(x,'~~~')+'>');  //0 to 10 no. line\n",
"           \n",
"     n1= strsubst(n,'~~~-1~~~0~~~1~~~2~~~3','_____________________');   //-2<x<=3\n",
"     n2= strsubst(n,'~~~0~~~1~~~2~~~3~~~4~~~5','________________________');   //-1<x<=5\n",
"      \n",
"         \n",
"    n3=  strsubst(n,'~~~0~~~1~~~2~~~3','________________');\n",
"     \n",
"\n",
"     mprintf('the  inequality which satisfies both inequalities\n-2<x<=3 \t%s\n\n-1<x<=5\t\t%s\nis\n-1<x<=3\t\t%s',n1,n2,n3)\n",
"      \n",
"      \n",
"     \n",
"     \n",
"\n",
"      \n",
"     \n",
"     "
   ]
   }
,
{
		   "cell_type": "markdown",
		   "metadata": {},
		   "source": [
			"## Example 9.1_a: Inequality_of_n_less_than_3_on_0_to_10_number_line.sce"
		   ]
		  },
  {
"cell_type": "code",
	   "execution_count": null,
	   "metadata": {
	    "collapsed": true
	   },
	   "outputs": [],
"source": [
"//n<3\n",
"clear;\n",
"clc;\n",
"close;\n",
"x=string(0:10);\n",
"    n=string( '<'+strcat(x,'---')+'>'); //0 to 10 no. line\n",
"    \n",
"      strsubst(n,'0---1---2---','____________')\n",
"     \n",
"     disp('the  SOLID LINE specifies region n<3')\n",
"     \n",
" "
   ]
   }
,
{
		   "cell_type": "markdown",
		   "metadata": {},
		   "source": [
			"## Example 9.1_b: Inequality_of_n_greater_than_or_equal_to_6_on_0_to_10_number_line.sce"
		   ]
		  },
  {
"cell_type": "code",
	   "execution_count": null,
	   "metadata": {
	    "collapsed": true
	   },
	   "outputs": [],
"source": [
"//n>=6\n",
"clear;\n",
"clc;\n",
"close;\n",
"x=string(0:10);\n",
"     n=string('<'+strcat(x,'---')+'>');  //0 to 10 no. line\n",
"           \n",
"     n1=strsubst(n,'6---7---8---9---10','__________________');\n",
"      \n",
"   mprintf('\n the number line  \n \n %s represents n>=6 ',n1)\n",
"         \n",
"     "
   ]
   }
,
{
		   "cell_type": "markdown",
		   "metadata": {},
		   "source": [
			"## Example 9.1_c: Inequality_of_n_between_2_and_5_on_0_to_10_number_line.sce"
		   ]
		  },
  {
"cell_type": "code",
	   "execution_count": null,
	   "metadata": {
	    "collapsed": true
	   },
	   "outputs": [],
"source": [
"//2<n<=5\n",
"clear;\n",
"clc;\n",
"close;\n",
"x=string(0:10);\n",
"    n=string('<'+strcat(x,'---')+'>');  //0 to 10 no. line\n",
"         \n",
"         n1=strsubst(n,'---3---4---5','____________');\n",
"         \n",
"       mprintf('\n the number line  \n \n %s represents 2<n<=5 ',n1)\n",
"         \n",
"     \n",
" \n",
""
   ]
   }
,
{
		   "cell_type": "markdown",
		   "metadata": {},
		   "source": [
			"## Example 9.2_a: Number_line_representing_inequality_of_n_greater_than_7.sce"
		   ]
		  },
  {
"cell_type": "code",
	   "execution_count": null,
	   "metadata": {
	    "collapsed": true
	   },
	   "outputs": [],
"source": [
"//what inequality is represented on no. line\n",
"clear;\n",
"clc;\n",
"close;\n",
"x=string(0:10);\n",
"    n=string('<'+strcat(x,'---')+'>'); //0 to 10 no. line\n",
"     \n",
"   n1=string(strsubst(n,'---8---9---10','_______________'));\n",
"     \n",
"mprintf('\n the number line  \n %s represents n>7 ',n1)\n",
"   \n",
"     \n",
"\n",
"     \n",
"\n",
"\n",
"\n",
"\n",
"     \n",
"\n",
"\n",
"\n",
"\n",
"\n",
"\n",
"\n",
"\n",
"\n",
"\n",
"\n",
"     \n",
"\n",
"\n",
""
   ]
   }
,
{
		   "cell_type": "markdown",
		   "metadata": {},
		   "source": [
			"## Example 9.2_b: Number_line_representing_n_less_than_or_equal_to3.sce"
		   ]
		  },
  {
"cell_type": "code",
	   "execution_count": null,
	   "metadata": {
	    "collapsed": true
	   },
	   "outputs": [],
"source": [
"//what inequality is represented on no. line\n",
"clear;\n",
"clc;\n",
"close;\n",
"x=string(0:10);\n",
"    n=string('<'+strcat(x,'---')+'>');  //0 to 10 no. line\n",
"     \n",
"    n1=string(strsubst(n,'0---1---2---3','_____________'));\n",
"     \n",
"mprintf('\n the number line  \n %s represents n1<=3 ',n1)\n",
"   \n",
"     \n",
"\n",
"\n",
"\n",
"\n",
"     \n",
"\n",
"\n",
"\n",
"\n",
"\n",
"\n",
"\n",
"\n",
"\n",
"\n",
"\n",
"     \n",
"\n",
"\n",
""
   ]
   }
,
{
		   "cell_type": "markdown",
		   "metadata": {},
		   "source": [
			"## Example 9.2_c: Representing_inequality_on_number_line.sce"
		   ]
		  },
  {
"cell_type": "code",
	   "execution_count": null,
	   "metadata": {
	    "collapsed": true
	   },
	   "outputs": [],
"source": [
"//what inequality is represented on no. line\n",
"clear;\n",
"clc;\n",
"close;\n",
"x=string(0:10);\n",
"    n=string('<'+strcat(x,'---')+'>');  //0 to 10 no. line\n",
"     \n",
"    n1=string(strsubst(n,'5---6---7---','____________'));\n",
"     \n",
"mprintf('\n  the number line \n \n  %s represents 5<=n1<8',n1)\n",
"   \n",
"     "
   ]
   }
,
{
		   "cell_type": "markdown",
		   "metadata": {},
		   "source": [
			"## Example 9.3: Solving_the_inequality.sce"
		   ]
		  },
  {
"cell_type": "code",
	   "execution_count": null,
	   "metadata": {
	    "collapsed": true
	   },
	   "outputs": [],
"source": [
"//3x-5<2x+8\n",
"clear;\n",
"clc;\n",
"close;\n",
"x=poly(0,'x');\n",
"p1=(3*x-5);\n",
"p2=(2*x+8);\n",
"//p1-p2<0\n",
"disp('<0',p1-p2)\n",
"mprintf('i.e., x<13 is the solution for those values of x which are < 13')"
   ]
   }
,
{
		   "cell_type": "markdown",
		   "metadata": {},
		   "source": [
			"## Example 9.4: Solving_the_greater_than_inequality.sce"
		   ]
		  },
  {
"cell_type": "code",
	   "execution_count": null,
	   "metadata": {
	    "collapsed": true
	   },
	   "outputs": [],
"source": [
"//3x+5>5x-9\n",
"clear; \n",
"clc;\n",
"close;\n",
"x=poly(0,'x');\n",
"p1=(3*x+5);\n",
"p2=(5*x-9);\n",
"//p1-p2>0\n",
"disp('>0',(p1-p2)/2)\n",
"mprintf('i.e., x<7 is the solution for those values of x which are < 7')"
   ]
   }
,
{
		   "cell_type": "markdown",
		   "metadata": {},
		   "source": [
			"## Example 9.5: Solving_the_greater_than_or_equal_to_inequality.sce"
		   ]
		  },
  {
"cell_type": "code",
	   "execution_count": null,
	   "metadata": {
	    "collapsed": true
	   },
	   "outputs": [],
"source": [
"//2(3x+5)+1>=(4x-9)\n",
"clear;\n",
"clc;\n",
"close;\n",
"x=poly(0,'x');\n",
"p1=2*(3*x+5)+1;\n",
"p2=(4*x-9);\n",
"//p1-p2>=0\n",
"disp('>=0',(p1-p2)/2)\n",
"mprintf('\n i.e.,  x>=-10 is the solution for those values of x which are >= 10')"
   ]
   }
,
{
		   "cell_type": "markdown",
		   "metadata": {},
		   "source": [
			"## Example 9.6: Solving_the_less_than_inequality.sce"
		   ]
		  },
  {
"cell_type": "code",
	   "execution_count": null,
	   "metadata": {
	    "collapsed": true
	   },
	   "outputs": [],
"source": [
"//8/x<2\n",
"clear; \n",
"clc;\n",
"close;\n",
"// x is any no. greater than 4 and x can also be a negative no.\n",
"mprintf('8<2*x or x>4 is the solution if x is positive no.')\n",
"\n",
"disp('if x were neagative,then the inequality would become 8>2*x ')"
   ]
   }
,
{
		   "cell_type": "markdown",
		   "metadata": {},
		   "source": [
			"## Example 9.7: Satisfying_both_the_inequalities.sce"
		   ]
		  },
  {
"cell_type": "code",
	   "execution_count": null,
	   "metadata": {
	    "collapsed": true
	   },
	   "outputs": [],
"source": [
"//find x which satisfies 3*x+2>8 & 5*x-3<27\n",
"clear;\n",
"clc;\n",
"close;\n",
"x=poly(0,'x');\n",
"for x=1:100       \n",
"  if(3*x+2>8)\n",
"      mprintf('x>%i\n\nand',x)//solving the first we get\n",
"       break\n",
"  end\n",
"end\n",
"x=1;\n",
"while(5*x-3<27)  //on  solving the second we get\n",
"  x=x+1;\n",
"  continue\n",
"end\n",
"mprintf('x<%i \n',x);\n",
"x=string(0:10);\n",
"n=string('<'+strcat(x,'---')+'>');//0 to 10 no. line     \n",
"n1=strsubst(n,'---4---5---','___________');\n",
"mprintf('the solid line in the number line  \n %s represents 3<x<6 ',n1)\n",
"     \n",
"     \n",
"     "
   ]
   }
,
{
		   "cell_type": "markdown",
		   "metadata": {},
		   "source": [
			"## Example 9.8: Finding_positive_values_in_inequalities.sce"
		   ]
		  },
  {
"cell_type": "code",
	   "execution_count": null,
	   "metadata": {
	    "collapsed": true
	   },
	   "outputs": [],
"source": [
"//find x which satisfies 3*(x+5)>8*x & 5*(x-3)<27-x\n",
"clear;\n",
"clc;\n",
"close;\n",
"x=poly(0,'x');\n",
"x=1;\n",
"while(3*(x+5)>8*x)\n",
"  x=x+1;\n",
"  continue\n",
"end\n",
"mprintf('\n x<%i\n\nand',x)\n",
"while(5*(x-3)+x<27)  //on  solving the second we get\n",
"  x=x+1;\n",
"  continue\n",
"end\n",
"mprintf('x<%i \n',x)\n",
"x=string(0:10);\n",
"n=string('<'+strcat(x,'---')+'>');  //-2 to 8 no. line       \n",
"n1=strsubst(n,'0---1---2---','____________');    \n",
"mprintf('the  SOLID LINE specifies final region 0<=x<3 \n %s',n1)\n",
"     \n",
"     \n",
"     \n",
"\n",
"     \n",
"     \n",
"     "
   ]
   }
,
{
		   "cell_type": "markdown",
		   "metadata": {},
		   "source": [
			"## Example 9.9: Value_of_x_satisfying_the_given_inequalities.sce"
		   ]
		  },
  {
"cell_type": "code",
	   "execution_count": null,
	   "metadata": {
	    "collapsed": true
	   },
	   "outputs": [],
"source": [
"//2<x<7 & 4<x<9\n",
"clear;\n",
"clc;\n",
"close;\n",
"x=string(0:10);\n",
"n=string('<'+strcat(x,'---')+'>');  //0 to 10 no. line          \n",
"   n1=strsubst(n,'---3---4---5---6---','___________________');  //2<x<7\n",
"   n2=strsubst(n,'---5---6---7---8---','___________________');  //4<x<9\n",
"   n3=strsubst(n,'---5---6---','____________');      \n",
"mprintf('the  inequality which satisfies both inequalities\n2<x<7 \t%s\n\n4<x<9\t%s\nis\n4<x<7\t%s',n1,n2,n3)\n",
"      \n",
"      \n",
"     \n",
"\n",
"     \n",
"     \n",
"     \n",
"\n",
"     \n",
"\n",
"     \n",
"     \n",
"     "
   ]
   }
],
"metadata": {
		  "kernelspec": {
		   "display_name": "Scilab",
		   "language": "scilab",
		   "name": "scilab"
		  },
		  "language_info": {
		   "file_extension": ".sce",
		   "help_links": [
			{
			 "text": "MetaKernel Magics",
			 "url": "https://github.com/calysto/metakernel/blob/master/metakernel/magics/README.md"
			}
		   ],
		   "mimetype": "text/x-octave",
		   "name": "scilab",
		   "version": "0.7.1"
		  }
		 },
		 "nbformat": 4,
		 "nbformat_minor": 0
}
