{
"cells": [
 {
		   "cell_type": "markdown",
	   "metadata": {},
	   "source": [
       "# Chapter 7: Formulae"
	   ]
	},
{
		   "cell_type": "markdown",
		   "metadata": {},
		   "source": [
			"## Example 7.1: Area_of_pyramid.sce"
		   ]
		  },
  {
"cell_type": "code",
	   "execution_count": null,
	   "metadata": {
	    "collapsed": true
	   },
	   "outputs": [],
"source": [
"//total area(A) of the surface of a square pyramid\n",
"clear;\n",
"clc;\n",
"close;\n",
"//AB=a , OQ=d\n",
"//OQ is perpendicular to AB.Represents height of trianlge AOB\n",
"tot_area=string('base_area + triangles_area')\n",
"//base_area=a^2.triangles_area=4*(a*d)/2\n",
"A=string('a(a+2d)')\n",
""
   ]
   }
,
{
		   "cell_type": "markdown",
		   "metadata": {},
		   "source": [
			"## Example 7.2: Finding_L.sce"
		   ]
		  },
  {
"cell_type": "code",
	   "execution_count": null,
	   "metadata": {
	    "collapsed": true
	   },
	   "outputs": [],
"source": [
"//L=W(T-t)/w - t\n",
"clear;\n",
"clc;\n",
"close;\n",
"W=380;T=28.5;t=8.5;w=115;//given\n",
"L=string('(W*(T-t)/w)-t');\n",
"disp('substituting given values')\n",
"L=evstr(L)"
   ]
   }
,
{
		   "cell_type": "markdown",
		   "metadata": {},
		   "source": [
			"## Example 7.3: Finding_f_and_d_terms.sce"
		   ]
		  },
  {
"cell_type": "code",
	   "execution_count": null,
	   "metadata": {
	    "collapsed": true
	   },
	   "outputs": [],
"source": [
"//T=%pi*f*d^3/16\n",
"clear;\n",
"clc;\n",
"close;\n",
"disp(' (1) f in terms of other quantities is')\n",
"f=string('16*T/(%pi*d^3)')\n",
"disp('(2)  d in terms of other quantities is ')\n",
"d=string('(16*T/(%pi*f))^(1/3)')"
   ]
   }
,
{
		   "cell_type": "markdown",
		   "metadata": {},
		   "source": [
			"## Example 7.4: Transform_L.sce"
		   ]
		  },
  {
"cell_type": "code",
	   "execution_count": null,
	   "metadata": {
	    "collapsed": true
	   },
	   "outputs": [],
"source": [
"//transform L=l+(8*d^2)/(3*l)\n",
"clear;\n",
"clc;\n",
"close;\n",
"disp(' d in terms of other quantities is')\n",
"//3*l*L=3*l^2+8*d^2\n",
"d=string('sqrt((3*l*L-3*L^2)/8)')"
   ]
   }
,
{
		   "cell_type": "markdown",
		   "metadata": {},
		   "source": [
			"## Example 7.5: Finding_velocity_from_equation.sce"
		   ]
		  },
  {
"cell_type": "code",
	   "execution_count": null,
	   "metadata": {
	    "collapsed": true
	   },
	   "outputs": [],
"source": [
"//the velocity,V, of water flowing through a pipe,occurs in the formula,h=0.03*L*V^2/(D*2*g)\n",
"clear;\n",
"clc;\n",
"close;\n",
"disp('changing the subject of formula to V')\n",
"//V^2/(2*g)=H*d/(0.03*L)\n",
"V=string('sqrt(2*g*h*D/(0.03*L))')"
   ]
   }
,
{
		   "cell_type": "markdown",
		   "metadata": {},
		   "source": [
			"## Example 7.6: Finding_n.sce"
		   ]
		  },
  {
"cell_type": "code",
	   "execution_count": null,
	   "metadata": {
	    "collapsed": true
	   },
	   "outputs": [],
"source": [
"//a-b=x*(c-n*d)\n",
"clear;\n",
"clc;\n",
"close;\n",
"disp('n in terms of other quantities is')\n",
"//n*d=c-(a-b)/x\n",
"n=string('{c-(a-b)/x}/d')\n",
""
   ]
   }
,
{
		   "cell_type": "markdown",
		   "metadata": {},
		   "source": [
			"## Example 7.7: Length_of_pendulum.sce"
		   ]
		  },
  {
"cell_type": "code",
	   "execution_count": null,
	   "metadata": {
	    "collapsed": true
	   },
	   "outputs": [],
"source": [
"//time of vibration of a simple pendulum is given by the formula,t=2*%pi*sqrt(l/g)\n",
"clear;\n",
"clc;\n",
"close;\n",
"disp('l in terms of other quantities is')\n",
"//t^2*g=4*%pi^2*l\n",
"l=string('g*t^2/4*%pi^2')"
   ]
   }
,
{
		   "cell_type": "markdown",
		   "metadata": {},
		   "source": [
			"## Example 7.8: Solving_the_equation.sce"
		   ]
		  },
  {
"cell_type": "code",
	   "execution_count": null,
	   "metadata": {
	    "collapsed": true
	   },
	   "outputs": [],
"source": [
"//solve 5*x-a=2*x-b\n",
"clear;\n",
"clc;\n",
"close;\n",
"//collecting like terms to one side\n",
"x=poly(0,'x');\n",
"p=5*x-2*x;//Also, p=a-b\n",
"x=string('(a-b)/3')\n",
""
   ]
   }
,
{
		   "cell_type": "markdown",
		   "metadata": {},
		   "source": [
			"## Example 7.9: Solving_x.sce"
		   ]
		  },
  {
"cell_type": "code",
	   "execution_count": null,
	   "metadata": {
	    "collapsed": true
	   },
	   "outputs": [],
"source": [
"//solve for x, a*(x-2)=5*x-(a+b)\n",
"clear;\n",
"clc;\n",
"close;\n",
"//removing brackets. 'a*x-5*x=a-b'\n",
"x=string('(a-b)/(a-5)')"
   ]
   }
],
"metadata": {
		  "kernelspec": {
		   "display_name": "Scilab",
		   "language": "scilab",
		   "name": "scilab"
		  },
		  "language_info": {
		   "file_extension": ".sce",
		   "help_links": [
			{
			 "text": "MetaKernel Magics",
			 "url": "https://github.com/calysto/metakernel/blob/master/metakernel/magics/README.md"
			}
		   ],
		   "mimetype": "text/x-octave",
		   "name": "scilab",
		   "version": "0.7.1"
		  }
		 },
		 "nbformat": 4,
		 "nbformat_minor": 0
}
