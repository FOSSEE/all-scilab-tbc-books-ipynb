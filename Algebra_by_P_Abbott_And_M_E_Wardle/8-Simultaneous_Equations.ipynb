{
"cells": [
 {
		   "cell_type": "markdown",
	   "metadata": {},
	   "source": [
       "# Chapter 8: Simultaneous Equations"
	   ]
	},
{
		   "cell_type": "markdown",
		   "metadata": {},
		   "source": [
			"## Example 8.1: Solving_the_eqautions.sce"
		   ]
		  },
  {
"cell_type": "code",
	   "execution_count": null,
	   "metadata": {
	    "collapsed": true
	   },
	   "outputs": [],
"source": [
"//2x+y=21, 3x+4y=44\n",
"clear; \n",
"clc;\n",
"close;\n",
"x=poly(0,'x');\n",
"y=21-2*x;        //equation 1\n",
"y=(44-3*x)/4;    //equation 2\n",
"for x=1:20\n",
"  if(21-2*x==(44-3*x)/4)\n",
"    mprintf(' the solution is :\n x=%i \n ',x)\n",
"    break\n",
"  end\n",
"end\n",
"//'substitute the x value in any one of the above equations'\n",
"y=21-2*x;mprintf(' y=%i \n',y)\n",
"\n",
"\n",
""
   ]
   }
,
{
		   "cell_type": "markdown",
		   "metadata": {},
		   "source": [
			"## Example 8.2: Finding_x_and_y_values_from_equation.sce"
		   ]
		  },
  {
"cell_type": "code",
	   "execution_count": null,
	   "metadata": {
	    "collapsed": true
	   },
	   "outputs": [],
"source": [
"//x+y=15,3x-y=21\n",
"clear; \n",
"clc;\n",
"close;\n",
"x=poly(0,'x');\n",
"y=15-x;      //equation 1\n",
"Y=3*x-21;    //equation 2\n",
"disp('the solution is ');\n",
"p2=y-Y;\n",
"x=roots(p2)\n",
"//substitute x value in equation 1\n",
"y=15-x\n",
""
   ]
   }
,
{
		   "cell_type": "markdown",
		   "metadata": {},
		   "source": [
			"## Example 8.3: Solving_the_equation.sce"
		   ]
		  },
  {
"cell_type": "code",
	   "execution_count": null,
	   "metadata": {
	    "collapsed": true
	   },
	   "outputs": [],
"source": [
"//2x+3y=42, 5x-y=20\n",
"clear; \n",
"clc;\n",
"close;\n",
"x=poly(0,'x');\n",
"y=(42-2*x)/3;  //equation 1\n",
"y=5*x-20;      //equation 2\n",
"for x=1:20\n",
"  if((42-2*x)/3==5*x-20)\n",
"    mprintf('x=%i  ',x)\n",
"    break\n",
"  end\n",
"end\n",
"//substitute the x value in any one of the above equations\n",
"y=5*x-20;mprintf('y=%i',y)\n",
"printf('\n the solution is : \n');\n",
"[x y]"
   ]
   }
,
{
		   "cell_type": "markdown",
		   "metadata": {},
		   "source": [
			"## Example 8.4: Finding_R1_and_R2.sce"
		   ]
		  },
  {
"cell_type": "code",
	   "execution_count": null,
	   "metadata": {
	    "collapsed": true
	   },
	   "outputs": [],
"source": [
"//0.5R1+1.2R2=1.486,4.5R1-2R2=4.67\n",
"clear; \n",
"clc;\n",
"close;\n",
"R2=poly(0,'R2');\n",
"R1=(1.486-1.2*R2)/0.5;\n",
"R=(4.67+2*R2)/4.5;\n",
"P=R1-R;\n",
"printf('THE SOLUTION IS: \n');\n",
"R2=roots(P)\n",
"//SUBSTITUTE IN THE EQUATION \n",
"R1=(1.486-1.2*R2)/0.5\n",
"\n",
""
   ]
   }
,
{
		   "cell_type": "markdown",
		   "metadata": {},
		   "source": [
			"## Example 8.5: numbers_of_simultaneous_equations.sce"
		   ]
		  },
  {
"cell_type": "code",
	   "execution_count": null,
	   "metadata": {
	    "collapsed": true
	   },
	   "outputs": [],
"source": [
"//ex1\n",
"clear; \n",
"clc;\n",
"close;\n",
"x=poly(0,'x');\n",
"//sum of first no.(i.e., x) and 3 times the second no.(i.e., y) is 53 =>x+3*y=53\n",
"y=(53-x)/3;\n",
"//difference between 4 times the first and twice the 2nd is 2 => 4x-2y=2\n",
"y=(4*x-2)/2;\n",
"printf('the solution is : \n');\n",
"for x=1:100\n",
"  if((53-x)/3==(4*x-2)/2)\n",
"    mprintf('x=%i',x)\n",
"    break\n",
"  end\n",
"end\n",
"//'substitute the x value in any one of the above equations'\n",
"y=(53-x)/3;mprintf('y=%i',y)\n",
"\n",
""
   ]
   }
,
{
		   "cell_type": "markdown",
		   "metadata": {},
		   "source": [
			"## Example 8.6: Values_of_m_and_b.sce"
		   ]
		  },
  {
"cell_type": "code",
	   "execution_count": null,
	   "metadata": {
	    "collapsed": true
	   },
	   "outputs": [],
"source": [
"//y=mx+b\n",
"//given x=4,y=6  and  x=2.4,y=4.5\n",
"clear;\n",
"clc;\n",
"close;\n",
"m=poly(0,'m');\n",
"b=6-4*m; //(equation 1) when x=4,y=6 \n",
"B=4.5-2.4*m;//(equation 2) when x=2.4,y=4.5\n",
"P=b-B;\n",
"disp('the solution is :');\n",
"m=roots(P)\n",
"//substitute this value \n",
"b=6-4*m\n",
"//'substitute these values in the equation y=mx+b'\n",
"x=poly(0,'x');\n",
"y=m*x+b"
   ]
   }
,
{
		   "cell_type": "markdown",
		   "metadata": {},
		   "source": [
			"## Example 8.7: total_books_sold_and_books_sold_at_25p.sce"
		   ]
		  },
  {
"cell_type": "code",
	   "execution_count": null,
	   "metadata": {
	    "collapsed": true
	   },
	   "outputs": [],
"source": [
"//ex3\n",
"clear; \n",
"clc;\n",
"close;\n",
"//let x=number originally sold at 25p\n",
"//let y=number originally sold at 20p\n",
"//amounts received for these were 25x pence and 20y pence & their total value was 1100pence =>25x+20y=1100 \n",
"x=poly(0,'x');\n",
"y=(1100-25*x)/20;\n",
"//when the no.s are reversed he receives 20x and 25ypence ans their total value is 1150 pence =>20x+25y=1150\n",
"y=(1150-20*x)/25;\n",
"for x=1:100\n",
"  if((1100-25*x)/20==(1150-20*x)/25)\n",
"        break\n",
"  end\n",
"end\n",
"//'substitute the x value in any one of the above equations'\n",
"y=(1100-25*x)/20;\n",
"mprintf('the total no. of books sold was %i \n ',x+y)\n",
"mprintf('the number originally sold at 25p was %i',x);"
   ]
   }
],
"metadata": {
		  "kernelspec": {
		   "display_name": "Scilab",
		   "language": "scilab",
		   "name": "scilab"
		  },
		  "language_info": {
		   "file_extension": ".sce",
		   "help_links": [
			{
			 "text": "MetaKernel Magics",
			 "url": "https://github.com/calysto/metakernel/blob/master/metakernel/magics/README.md"
			}
		   ],
		   "mimetype": "text/x-octave",
		   "name": "scilab",
		   "version": "0.7.1"
		  }
		 },
		 "nbformat": 4,
		 "nbformat_minor": 0
}
