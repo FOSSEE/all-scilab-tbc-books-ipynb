{
"cells": [
 {
		   "cell_type": "markdown",
	   "metadata": {},
	   "source": [
       "# Chapter 14: Factors"
	   ]
	},
{
		   "cell_type": "markdown",
		   "metadata": {},
		   "source": [
			"## Example 14.10: Factorize.sce"
		   ]
		  },
  {
"cell_type": "code",
	   "execution_count": null,
	   "metadata": {
	    "collapsed": true
	   },
	   "outputs": [],
"source": [
"//x^2+12*x-28\n",
"clear;\n",
"clc;\n",
"close;\n",
"x=poly(0,'x');\n",
"p=x^2+12*x-28;\n",
"factors(p) \n",
"                                                                                                                                                                                                                                                                                                                                                                                        "
   ]
   }
,
{
		   "cell_type": "markdown",
		   "metadata": {},
		   "source": [
			"## Example 14.11: Factorize.sce"
		   ]
		  },
  {
"cell_type": "code",
	   "execution_count": null,
	   "metadata": {
	    "collapsed": true
	   },
	   "outputs": [],
"source": [
"//a^2-8*a*b-48*b^2\n",
"clear;\n",
"clc;\n",
"close;\n",
"a=poly(0,'a');\n",
"p=a^2-8*a-48;\n",
"factors(p)\n",
"mprintf( 'the second letter b will appear in 1st term of each factor')    \n",
"ans(1)='(4b+a)';                                    \n",
"ans(2)='(-12b+a)'                                                                                                                                                                                                                                                                                                                                                                                                                                                                                                                                                                                           \n",
"                                   \n",
"                                                                                                                                                                                                                                                                                                                                                                                                                                                                                                                                                                                                                                                                                                                               "
   ]
   }
,
{
		   "cell_type": "markdown",
		   "metadata": {},
		   "source": [
			"## Example 14.12: Factors_of_expressio.sce"
		   ]
		  },
  {
"cell_type": "code",
	   "execution_count": null,
	   "metadata": {
	    "collapsed": true
	   },
	   "outputs": [],
"source": [
"//2*x^2+7*x+3\n",
"clear;\n",
"clc;\n",
"close;\n",
"x=poly(0,'x');\n",
"p=2*x^2+7*x+3;\n",
"factors(p); \n",
"ans(2)=ans(2)*2;\n",
"disp(ans(1),ans(2),'the factors of 2*x^2+7*x+3 are')              \n",
"                                                                                                                                                                                                                                                                                                                                                                                                                                                                                                                                                                                                                                                                                                                      "
   ]
   }
,
{
		   "cell_type": "markdown",
		   "metadata": {},
		   "source": [
			"## Example 14.13: Factorize_of_expressio.sce"
		   ]
		  },
  {
"cell_type": "code",
	   "execution_count": null,
	   "metadata": {
	    "collapsed": true
	   },
	   "outputs": [],
"source": [
"//6*x^2+17*x-3\n",
"clear;\n",
"clc;\n",
"close;\n",
"x=poly(0,'x');\n",
"p=6*x^2+17*x-3;\n",
"factors(p); \n",
"ans(2)=ans(2)*6;//multiply by 6 the p1 factors to get the original factors of p\n",
"disp(ans(1),ans(2),'the factors of 6*x^2+17*x-3 are')                                                                                                                                                                                                                                                                                                                                                                                                                                                                                                                                                                                                                                                                 "
   ]
   }
,
{
		   "cell_type": "markdown",
		   "metadata": {},
		   "source": [
			"## Example 14.14: Factorize_the_given_expression.sce"
		   ]
		  },
  {
"cell_type": "code",
	   "execution_count": null,
	   "metadata": {
	    "collapsed": true
	   },
	   "outputs": [],
"source": [
"//4*x^2-17*x-15\n",
"clear;\n",
"clc;\n",
"close;\n",
"x=poly(0,'x');\n",
"p=4*x^2-17*x-15;\n",
"factors(p);\n",
"ans(2)=ans(2)*4;\n",
"disp(ans(1),ans(2),'the factors of 4*x^2-17*x-15 are')                                                                                                                                                                                                                                                                                                                                                                                                                                                                                                                                                                                                                                            "
   ]
   }
,
{
		   "cell_type": "markdown",
		   "metadata": {},
		   "source": [
			"## Example 14.15: Representing_square_of_binomial_expression.sce"
		   ]
		  },
  {
"cell_type": "code",
	   "execution_count": null,
	   "metadata": {
	    "collapsed": true
	   },
	   "outputs": [],
"source": [
"//x^2+6*x+9\n",
"clear;\n",
"clc;\n",
"close;\n",
"x=poly(0,'x');\n",
"p=x^2+6*x+9;\n",
"factors(p);\n",
"disp(ans(1),'x^2+6*x+9 is square of binomial expression ')                                                                                                                                                                                                                                                                                                                                                                                                                                                                                                                                                                           "
   ]
   }
,
{
		   "cell_type": "markdown",
		   "metadata": {},
		   "source": [
			"## Example 14.16: Checking_complete_square_or_not.sce"
		   ]
		  },
  {
"cell_type": "code",
	   "execution_count": null,
	   "metadata": {
	    "collapsed": true
	   },
	   "outputs": [],
"source": [
"//4*x^2+6*x+9\n",
"clear;\n",
"clc;\n",
"close;\n",
"x=poly(0,'x');\n",
"p=4*x^2+6*x+9\n",
"mprintf('is not a complete square')      \n",
"//the 1st and 3rd terms are squares of 3and 2x\n",
"//for complete square the middle term must be +(2*sqrt(4x^2)*sqrt(9))=+12x                                                                                                                                                                                                                                                                                                                                                                                                                                                                                                                                                           "
   ]
   }
,
{
		   "cell_type": "markdown",
		   "metadata": {},
		   "source": [
			"## Example 14.17: Checking_complete_square_or_not.sce"
		   ]
		  },
  {
"cell_type": "code",
	   "execution_count": null,
	   "metadata": {
	    "collapsed": true
	   },
	   "outputs": [],
"source": [
"//4*x^2-20*x+25\n",
"clear;\n",
"clc;\n",
"close;\n",
"x=poly(0,'x');\n",
"p=4*x^2-20*x+25\n",
"factors(p);\n",
"disp(ans(1)*2,'is the complete square of binomial')\n",
"//disp('the 1st and 3rd terms are squares of 5 and 2x')\n",
"//disp('for complete square the middle term must be (2*sqrt(4*x^2)*sqrt(25)=20x') \n",
"                                                                                                                                                                                                                                                                                                                                                                                                                                                                                                                                 "
   ]
   }
,
{
		   "cell_type": "markdown",
		   "metadata": {},
		   "source": [
			"## Example 14.18: Factorize.sce"
		   ]
		  },
  {
"cell_type": "code",
	   "execution_count": null,
	   "metadata": {
	    "collapsed": true
	   },
	   "outputs": [],
"source": [
"//100*x^2-1\n",
"clear;\n",
"clc;\n",
"close;\n",
"x=poly(0,'x');\n",
"p=100*x^2-1;\n",
"factors(p);\n",
"ans(1)=10*ans(1);\n",
"ans(2)=10*ans(2);\n",
"disp(ans(1),ans(2),'the factors of 100*x^2-1  are')   \n",
"                                                                                                                                                                                                                                                                                                                                                                                                                                                                                                                                 "
   ]
   }
,
{
		   "cell_type": "markdown",
		   "metadata": {},
		   "source": [
			"## Example 14.19: Factorize_the_expressio.sce"
		   ]
		  },
  {
"cell_type": "code",
	   "execution_count": null,
	   "metadata": {
	    "collapsed": true
	   },
	   "outputs": [],
"source": [
"//36*a^2*b^2-25\n",
"clear;\n",
"clc;\n",
"close;\n",
"//the numbers squared are 6ab and 5')\n",
"disp('36*a^2*b^2-25=(6ab+5)(6ab-5)') \n",
"                                                                                                                                                                                                                                                                                                                                                                                                                                                                                                                                 "
   ]
   }
,
{
		   "cell_type": "markdown",
		   "metadata": {},
		   "source": [
			"## Example 14.1: factors_of_given_expression.sce"
		   ]
		  },
  {
"cell_type": "code",
	   "execution_count": null,
	   "metadata": {
	    "collapsed": true
	   },
	   "outputs": [],
"source": [
"//factors of 6a^2 + 3ac\n",
"clear;\n",
"clc;\n",
"close;\n",
"p=string('6*a^2+3*a*c ')\n",
"disp('=> 3a(2a+c)')"
   ]
   }
,
{
		   "cell_type": "markdown",
		   "metadata": {},
		   "source": [
			"## Example 14.20: Factorize_the_given_expression.sce"
		   ]
		  },
  {
"cell_type": "code",
	   "execution_count": null,
	   "metadata": {
	    "collapsed": true
	   },
	   "outputs": [],
"source": [
"//factorize (a+b)^2 - c^2\n",
"clear;\n",
"clc;\n",
"close;\n",
"//using the formula, a^2-b^2=(a+b)(a-b)\n",
"val=string('(a+b+c)(a+b-c)')"
   ]
   }
,
{
		   "cell_type": "markdown",
		   "metadata": {},
		   "source": [
			"## Example 14.21: Factorize_the_expressio.sce"
		   ]
		  },
  {
"cell_type": "code",
	   "execution_count": null,
	   "metadata": {
	    "collapsed": true
	   },
	   "outputs": [],
"source": [
"//factorize (a+b)^2 - (c-a)^2\n",
"clear;\n",
"clc;\n",
"close;\n",
"//using the formula, a^2-b^2=(a+b)(a-b)\n",
"val=string('(b+c)(2a+b-c)')\n",
"                                   "
   ]
   }
,
{
		   "cell_type": "markdown",
		   "metadata": {},
		   "source": [
			"## Example 14.22: Difference_of_two_squares.sce"
		   ]
		  },
  {
"cell_type": "code",
	   "execution_count": null,
	   "metadata": {
	    "collapsed": true
	   },
	   "outputs": [],
"source": [
"clear;\n",
"clc;\n",
"close;\n",
"function[val]=formulae(a,b)\n",
"  val=(a+b)*(a-b)\n",
"endfunction\n",
"\n",
"val=formulae(47.5,22.5)\n",
"                                                                                                                                                                                                                                                                                                                                                                                                                                          "
   ]
   }
,
{
		   "cell_type": "markdown",
		   "metadata": {},
		   "source": [
			"## Example 14.23: Area_of_ring_between_two_concentric_circles.sce"
		   ]
		  },
  {
"cell_type": "code",
	   "execution_count": null,
	   "metadata": {
	    "collapsed": true
	   },
	   "outputs": [],
"source": [
"//area of ring between 2 concentric circles.\n",
"//given,r1=97mm,r2=83mm\n",
"clear;\n",
"clc;\n",
"close;\n",
"r1=97;r2=83;\n",
"//the area of ring is difference between the areas of 2 circles\n",
"diff_in_area=(r1^2-r2^2);\n",
"mprintf('difference in area=%ipi mm^2',diff_in_area)\n",
"\n",
"                                                                                                                                                                                                                                                                                                                                                                                   "
   ]
   }
,
{
		   "cell_type": "markdown",
		   "metadata": {},
		   "source": [
			"## Example 14.2: Factorize_given_expression.sce"
		   ]
		  },
  {
"cell_type": "code",
	   "execution_count": null,
	   "metadata": {
	    "collapsed": true
	   },
	   "outputs": [],
"source": [
"//5*x^2*y^2-10*x^2*y+20*y^2\n",
"clear;\n",
"clc;\n",
"close;\n",
"mprintf('\n the highest common factor to each term is 5 and other factor is y \n')\n",
"disp('5y(x^2y-2x^2+4y)')"
   ]
   }
,
{
		   "cell_type": "markdown",
		   "metadata": {},
		   "source": [
			"## Example 14.3: Finding_factors.sce"
		   ]
		  },
  {
"cell_type": "code",
	   "execution_count": null,
	   "metadata": {
	    "collapsed": true
	   },
	   "outputs": [],
"source": [
"//factors of a^2+cd+ad+ac\n",
"clear;\n",
"clc;\n",
"close;\n",
"mprintf(' \n (a^2+ac)+(ad+cd) => a(a+c)+d(a+d)  \n')\n",
"mprintf('the factors are:')\n",
"val=string('(a+c)(a+d)')\n",
"\n",
""
   ]
   }
,
{
		   "cell_type": "markdown",
		   "metadata": {},
		   "source": [
			"## Example 14.4: Factorize_if_possible.sce"
		   ]
		  },
  {
"cell_type": "code",
	   "execution_count": null,
	   "metadata": {
	    "collapsed": true
	   },
	   "outputs": [],
"source": [
"//factorize, if possible,ab+ac+bc+bd\n",
"clear;\n",
"clc;\n",
"close;\n",
"mprintf('\n there are no factors of this expression')"
   ]
   }
,
{
		   "cell_type": "markdown",
		   "metadata": {},
		   "source": [
			"## Example 14.5: Factors_of_expressio.sce"
		   ]
		  },
  {
"cell_type": "code",
	   "execution_count": null,
	   "metadata": {
	    "collapsed": true
	   },
	   "outputs": [],
"source": [
"//factors of ab-5a-3b+15\n",
"clear;\n",
"clc;\n",
"close;\n",
"//by arrangement into suitable pairs,\n",
"mprintf('(ab-5a)-(3b-15) => a(b-5)-3(b-5)')\n",
"mprintf('\n the factors are: \n')\n",
"val=string('(b-5)(a-3)')"
   ]
   }
,
{
		   "cell_type": "markdown",
		   "metadata": {},
		   "source": [
			"## Example 14.6: Factorize_the_given_expression.sce"
		   ]
		  },
  {
"cell_type": "code",
	   "execution_count": null,
	   "metadata": {
	    "collapsed": true
	   },
	   "outputs": [],
"source": [
"//x^2+13*x+36\n",
"clear;\n",
"clc;\n",
"close;\n",
"x=poly(0,'x');\n",
"p=x^2+13*x+36;\n",
"factors(p)"
   ]
   }
,
{
		   "cell_type": "markdown",
		   "metadata": {},
		   "source": [
			"## Example 14.7: Factorize_the_given_expression_in_terms_of_x.sce"
		   ]
		  },
  {
"cell_type": "code",
	   "execution_count": null,
	   "metadata": {
	    "collapsed": true
	   },
	   "outputs": [],
"source": [
"//x^2-13*x+36\n",
"clear;\n",
"clc;\n",
"close;\n",
"x=poly(0,'x');\n",
"p=x^2-13*x+36;\n",
"factors(p)"
   ]
   }
,
{
		   "cell_type": "markdown",
		   "metadata": {},
		   "source": [
			"## Example 14.8: Factorize_the_given_expression_in_terms_of_y.sce"
		   ]
		  },
  {
"cell_type": "code",
	   "execution_count": null,
	   "metadata": {
	    "collapsed": true
	   },
	   "outputs": [],
"source": [
"//y^2-13*y+30\n",
"clear;\n",
"clc;\n",
"close;\n",
"y=poly(0,'y');\n",
"p=y^2-13*y+30;\n",
"factors(p)"
   ]
   }
,
{
		   "cell_type": "markdown",
		   "metadata": {},
		   "source": [
			"## Example 14.9: Factorize_the_expressio.sce"
		   ]
		  },
  {
"cell_type": "code",
	   "execution_count": null,
	   "metadata": {
	    "collapsed": true
	   },
	   "outputs": [],
"source": [
"//x^2-5*x-36\n",
"clear;\n",
"clc;\n",
"close;\n",
"x=poly(0,'x');\n",
"p=x^2-5*x-36;\n",
"factors(p)"
   ]
   }
],
"metadata": {
		  "kernelspec": {
		   "display_name": "Scilab",
		   "language": "scilab",
		   "name": "scilab"
		  },
		  "language_info": {
		   "file_extension": ".sce",
		   "help_links": [
			{
			 "text": "MetaKernel Magics",
			 "url": "https://github.com/calysto/metakernel/blob/master/metakernel/magics/README.md"
			}
		   ],
		   "mimetype": "text/x-octave",
		   "name": "scilab",
		   "version": "0.7.1"
		  }
		 },
		 "nbformat": 4,
		 "nbformat_minor": 0
}
