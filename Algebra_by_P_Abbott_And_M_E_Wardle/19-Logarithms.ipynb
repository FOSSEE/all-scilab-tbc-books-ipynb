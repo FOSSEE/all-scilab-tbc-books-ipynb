{
"cells": [
 {
		   "cell_type": "markdown",
	   "metadata": {},
	   "source": [
       "# Chapter 19: Logarithms"
	   ]
	},
{
		   "cell_type": "markdown",
		   "metadata": {},
		   "source": [
			"## Example 19.10: Difference_of_logarithms.sce"
		   ]
		  },
  {
"cell_type": "code",
	   "execution_count": null,
	   "metadata": {
	    "collapsed": true
	   },
	   "outputs": [],
"source": [
"//logarithm :  -1.6175-(-3.8463)\n",
"clear; \n",
"clc;\n",
"close;\n",
"mantissa=1.6175-0.8463;\n",
"//in borrowing to subtract 8 from 6, -1(characteristic) becomes -2 \n",
"characteristic=-2-(-3);\n",
"mantissa+characteristic\n",
""
   ]
   }
,
{
		   "cell_type": "markdown",
		   "metadata": {},
		   "source": [
			"## Example 19.11: Multiplication_of_logarithm.sce"
		   ]
		  },
  {
"cell_type": "code",
	   "execution_count": null,
	   "metadata": {
	    "collapsed": true
	   },
	   "outputs": [],
"source": [
"//logarithm : multiply -2.8763 by 3\n",
"clear; \n",
"clc;\n",
"close;\n",
"num=2.8763;//given\n",
"mantissa=0.8763;\n",
"mul=mantissa*3;\n",
"//when mantissa is multiplied, 2 is carried forward. (-2)*3=-6. the characteristic becomes -6+2=-4\n",
"val=-4.6289"
   ]
   }
,
{
		   "cell_type": "markdown",
		   "metadata": {},
		   "source": [
			"## Example 19.12: Multiplication_of_logarithm.sce"
		   ]
		  },
  {
"cell_type": "code",
	   "execution_count": null,
	   "metadata": {
	    "collapsed": true
	   },
	   "outputs": [],
"source": [
"//logarithm: -1.8738*1.3\n",
"clear;\n",
"clc;\n",
"close;\n",
"//multiply mantissa & characteristic seperately and add results\n",
"x=0.8738*1.3;\n",
"y=-1*1.3;\n",
"//as y=-1.3 is -ve, change it to -2.7 to make mantissa +ve\n",
"y=-2.7;\n",
"mantissa_sum=0.13594+0.7; //of x & y\n",
"characteristic_sum=1-2;\n",
"characteristic_sum-mantissa_sum"
   ]
   }
,
{
		   "cell_type": "markdown",
		   "metadata": {},
		   "source": [
			"## Example 19.13: Division_of_logarithm.sce"
		   ]
		  },
  {
"cell_type": "code",
	   "execution_count": null,
	   "metadata": {
	    "collapsed": true
	   },
	   "outputs": [],
"source": [
"//divide -5.3716 by 3\n",
"clear;\n",
"clc;\n",
"close;\n",
"//characteristic=-5=-6+1 or the log as -6+1.3716\n",
"characteristic=-6/3;\n",
"mantissa=1.3716/3;\n",
"characteristic-mantissa\n",
"\n",
""
   ]
   }
,
{
		   "cell_type": "markdown",
		   "metadata": {},
		   "source": [
			"## Example 19.14: Finding_the_logarithm.sce"
		   ]
		  },
  {
"cell_type": "code",
	   "execution_count": null,
	   "metadata": {
	    "collapsed": true
	   },
	   "outputs": [],
"source": [
"//log50 to the base e \n",
"clear; \n",
"clc;\n",
"close;\n",
"log(50)//natural logarithm\n",
"// or, log50_base_e=log10(50)*2.3026"
   ]
   }
,
{
		   "cell_type": "markdown",
		   "metadata": {},
		   "source": [
			"## Example 19.1: Finding_values_from_the_graph.sce"
		   ]
		  },
  {
"cell_type": "code",
	   "execution_count": null,
	   "metadata": {
	    "collapsed": true
	   },
	   "outputs": [],
"source": [
"clear ;\n",
"clc;\n",
"close;\n",
"clf;\n",
"x=linspace(0,1,7);\n",
"y=10^x;\n",
"plot2d(x,y,2);\n",
"xtitle(' graph of y=10^x','x axis','y axis');\n",
"legend('y=10^x');\n",
"xgrid()\n",
"\n",
"//ex1:1.8*2.6=? ,from graph\n",
"//1.8=10^0.26 \n 2.6=10^0.42  \n",
"x=10^0.26;y=10^0.42;\n",
"format(4)\n",
"ex1_ans=x*y//from the graph\n",
"\n",
"//ex2:9^(1/3)\n",
"//9=10^0.96\n",
"x=10^0.96;\n",
"format(4)\n",
"ex2_ans=x^(1/3)//third law of indices"
   ]
   }
,
{
		   "cell_type": "markdown",
		   "metadata": {},
		   "source": [
			"## Example 19.2: Notation_for_logarithms.sce"
		   ]
		  },
  {
"cell_type": "code",
	   "execution_count": null,
	   "metadata": {
	    "collapsed": true
	   },
	   "outputs": [],
"source": [
"clear; \n",
"clc;\n",
"close;\n",
"ans1=log10(56.2)\n",
"ans2=log2(1024)\n",
"ans3=log10(1000)\n",
"ans4=log10(81)/log10(3)"
   ]
   }
,
{
		   "cell_type": "markdown",
		   "metadata": {},
		   "source": [
			"## Example 19.3: Antilogarithm.sce"
		   ]
		  },
  {
"cell_type": "code",
	   "execution_count": null,
	   "metadata": {
	    "collapsed": true
	   },
	   "outputs": [],
"source": [
"//no. whose logarithm is 2.3714\n",
"clear; \n",
"clc;\n",
"close;\n",
"mantissa=0.3714;\n",
"disp('from anti-logarithm table,corresponding no. is 2352')\n",
"// As,characteristic is 2,no. must lie between 100 & 1000.\n \n hence 3 significant figures in the intergral part\n",
"235.2"
   ]
   }
,
{
		   "cell_type": "markdown",
		   "metadata": {},
		   "source": [
			"## Example 19.4: Logarithm_of_x.sce"
		   ]
		  },
  {
"cell_type": "code",
	   "execution_count": null,
	   "metadata": {
	    "collapsed": true
	   },
	   "outputs": [],
"source": [
"//value of (57.86*4.385)\n",
"clear;\n",
"clc;\n",
"close;\n",
"//log(p*q)=log(p)+log(q)\n",
"p=57.86;q=4.385;\n",
"logx=log10(p)+log10(q);\n",
"format(6)\n",
"x=10^logx\n",
"\n",
""
   ]
   }
,
{
		   "cell_type": "markdown",
		   "metadata": {},
		   "source": [
			"## Example 19.5: Finding_the_logarithm.sce"
		   ]
		  },
  {
"cell_type": "code",
	   "execution_count": null,
	   "metadata": {
	    "collapsed": true
	   },
	   "outputs": [],
"source": [
"//value of (5.672*18.94)/1.758\n",
"clear; \n",
"clc;\n",
"close;\n",
"//log(p*q)=log(p)+log(q) , log(p/q)=log(p)-log(q)\n",
"p=5.672;q=18.94;r=1.758;\n",
"logx=log10(p)+log10(q)-log10(r);\n",
"format(6)\n",
"x=10^logx"
   ]
   }
,
{
		   "cell_type": "markdown",
		   "metadata": {},
		   "source": [
			"## Example 19.6: Finding_the_Nth_root.sce"
		   ]
		  },
  {
"cell_type": "code",
	   "execution_count": null,
	   "metadata": {
	    "collapsed": true
	   },
	   "outputs": [],
"source": [
"//5th root of 721.8\n",
"clear; \n",
"clc;\n",
"close;\n",
"//log(a)^n=n*log(a)\n",
"p=721.8;n=1/5;\n",
"logx=n*log10(p);\n",
"format(6)\n",
"x=10^logx"
   ]
   }
,
{
		   "cell_type": "markdown",
		   "metadata": {},
		   "source": [
			"## Example 19.7: Finding_the_logarithms_of_given_numbers.sce"
		   ]
		  },
  {
"cell_type": "code",
	   "execution_count": null,
	   "metadata": {
	    "collapsed": true
	   },
	   "outputs": [],
"source": [
"//logs of 0.3185,0.03185,0.003185\n",
"clear; \n",
"clc;\n",
"close;\n",
"x=0.3185;y=0.03185;z=0.003185;\n",
"logx=log10(0.3185)\n",
"logy=log10(0.03185)\n",
"logz=log10(0.003185)"
   ]
   }
,
{
		   "cell_type": "markdown",
		   "metadata": {},
		   "source": [
			"## Example 19.8: Finding_the_number_whose_log_value_is_given.sce"
		   ]
		  },
  {
"cell_type": "code",
	   "execution_count": null,
	   "metadata": {
	    "collapsed": true
	   },
	   "outputs": [],
"source": [
"//no. with logarithm -3.5416\n",
"clear; \n",
"clc;\n",
"close;\n",
"mantissa=0.5416;\n",
"disp('from anti-logarithm table, corresponding no.is 3840 ')\n",
"//characteristic is -3.\n \n hence there will be 2 zeros after the decimal point\n",
"val=0.003480"
   ]
   }
,
{
		   "cell_type": "markdown",
		   "metadata": {},
		   "source": [
			"## Example 19.9: Sum_of_logarithms.sce"
		   ]
		  },
  {
"cell_type": "code",
	   "execution_count": null,
	   "metadata": {
	    "collapsed": true
	   },
	   "outputs": [],
"source": [
"//sum of logarithms -1.6173,-2.3415,-1.6493,-0.7374\n",
"clear; \n",
"clc;\n",
"close;\n",
"x=.6173;y=.3415;z=.6493;a=0.7374;//mantissa's of all 4 logarithms\n",
"mantissa=x+y+z+a;\n",
"//2 which is carried forward from the addition of mantissa is +ve.\n",
"characteristic=-1-2-1-0+2;//characteristic part of all 4 logarithms\n",
"mprintf('sum=-%f',mantissa)\n",
"\n",
"\n",
""
   ]
   }
],
"metadata": {
		  "kernelspec": {
		   "display_name": "Scilab",
		   "language": "scilab",
		   "name": "scilab"
		  },
		  "language_info": {
		   "file_extension": ".sce",
		   "help_links": [
			{
			 "text": "MetaKernel Magics",
			 "url": "https://github.com/calysto/metakernel/blob/master/metakernel/magics/README.md"
			}
		   ],
		   "mimetype": "text/x-octave",
		   "name": "scilab",
		   "version": "0.7.1"
		  }
		 },
		 "nbformat": 4,
		 "nbformat_minor": 0
}
