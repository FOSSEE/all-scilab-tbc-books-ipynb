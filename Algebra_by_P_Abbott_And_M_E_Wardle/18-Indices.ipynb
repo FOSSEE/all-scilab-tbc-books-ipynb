{
"cells": [
 {
		   "cell_type": "markdown",
	   "metadata": {},
	   "source": [
       "# Chapter 18: Indices"
	   ]
	},
{
		   "cell_type": "markdown",
		   "metadata": {},
		   "source": [
			"## Example 18.1: Graph_of_exponential_function.sce"
		   ]
		  },
  {
"cell_type": "code",
	   "execution_count": null,
	   "metadata": {
	    "collapsed": true
	   },
	   "outputs": [],
"source": [
"clear;\n",
"clc;\n",
"close;\n",
"clf;\n",
"x=[0 1 2 3 4];\n",
"y=2^x;\n",
"xtitle('Graph of 2^x','x-axis','y-axis');\n",
"plot(x,y,'o-');\n",
"legend('y=2^x');\n",
"xgrid();"
   ]
   }
,
{
		   "cell_type": "markdown",
		   "metadata": {},
		   "source": [
			"## Example 18.2: Operations_with_standard_forms.sce"
		   ]
		  },
  {
"cell_type": "code",
	   "execution_count": null,
	   "metadata": {
	    "collapsed": true
	   },
	   "outputs": [],
"source": [
"clear;\n",
"clc;\n",
"close;\n",
"//EX(1):\n",
"function [val]=answer(u,v,x,y)\n",
"  val=u*v*10^(x+y)\n",
"endfunction\n",
"val=answer(1.2,2.3,4,3)\n",
"\n",
"//EX(2):\n",
"function[val1]=answer1(u,v,x,y)\n",
"  val1=(u/v)*10^(x-y)\n",
"endfunction\n",
"val1=answer1(4.8,1.6,8,3)"
   ]
   }
],
"metadata": {
		  "kernelspec": {
		   "display_name": "Scilab",
		   "language": "scilab",
		   "name": "scilab"
		  },
		  "language_info": {
		   "file_extension": ".sce",
		   "help_links": [
			{
			 "text": "MetaKernel Magics",
			 "url": "https://github.com/calysto/metakernel/blob/master/metakernel/magics/README.md"
			}
		   ],
		   "mimetype": "text/x-octave",
		   "name": "scilab",
		   "version": "0.7.1"
		  }
		 },
		 "nbformat": 4,
		 "nbformat_minor": 0
}
