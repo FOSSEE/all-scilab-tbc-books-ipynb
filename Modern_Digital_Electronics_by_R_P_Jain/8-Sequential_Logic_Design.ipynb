{
"cells": [
 {
		   "cell_type": "markdown",
	   "metadata": {},
	   "source": [
       "# Chapter 8: Sequential Logic Design"
	   ]
	},
{
		   "cell_type": "markdown",
		   "metadata": {},
		   "source": [
			"## Example 8.2: maximum_frequency.sce"
		   ]
		  },
  {
"cell_type": "code",
	   "execution_count": null,
	   "metadata": {
	    "collapsed": true
	   },
	   "outputs": [],
"source": [
"//example 8.2//\n",
"clc\n",
"//clears the screen//\n",
"clear\n",
"//clears the command window//\n",
"s=4;\n",
"//s=stage of ripple counter//\n",
"d=50;\n",
"//delay of flip-flop in nano sec//\n",
"p=30;\n",
"//pulse width in nano secs//\n",
"f=1000/(s*d+p);\n",
"disp('maximum frequency (in MHz) is')\n",
"disp(f)"
   ]
   }
],
"metadata": {
		  "kernelspec": {
		   "display_name": "Scilab",
		   "language": "scilab",
		   "name": "scilab"
		  },
		  "language_info": {
		   "file_extension": ".sce",
		   "help_links": [
			{
			 "text": "MetaKernel Magics",
			 "url": "https://github.com/calysto/metakernel/blob/master/metakernel/magics/README.md"
			}
		   ],
		   "mimetype": "text/x-octave",
		   "name": "scilab",
		   "version": "0.7.1"
		  }
		 },
		 "nbformat": 4,
		 "nbformat_minor": 0
}
