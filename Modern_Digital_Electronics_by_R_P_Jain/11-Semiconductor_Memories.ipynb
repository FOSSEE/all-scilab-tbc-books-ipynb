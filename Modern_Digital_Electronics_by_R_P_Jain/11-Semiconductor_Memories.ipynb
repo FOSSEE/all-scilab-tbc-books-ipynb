{
"cells": [
 {
		   "cell_type": "markdown",
	   "metadata": {},
	   "source": [
       "# Chapter 11: Semiconductor Memories"
	   ]
	},
{
		   "cell_type": "markdown",
		   "metadata": {},
		   "source": [
			"## Example 11.1: Binary_address_of_each_location_of_size_16_words.sce"
		   ]
		  },
  {
"cell_type": "code",
	   "execution_count": null,
	   "metadata": {
	    "collapsed": true
	   },
	   "outputs": [],
"source": [
"//example 11.1//\n",
"clc\n",
"//clears the screen//\n",
"clear\n",
"//clears already existing variables//\n",
"for (i=0:15)\n",
"disp('word number to binary address is as follows:')\n",
"disp(i)\n",
"//displays the word number//\n",
"t=dec2bin(i);\n",
"//converts it into memory address//\n",
"disp(t)\n",
"//displays binary address//\n",
"i=i+1\n",
"end"
   ]
   }
,
{
		   "cell_type": "markdown",
		   "metadata": {},
		   "source": [
			"## Example 11.2_a: maximum_rate_at_which_data_can_be_stored.sce"
		   ]
		  },
  {
"cell_type": "code",
	   "execution_count": null,
	   "metadata": {
	    "collapsed": true
	   },
	   "outputs": [],
"source": [
"//example 11.2(a)//\n",
"//maximum rate at which data can be stored//\n",
"clc\n",
"//clears the screen//\n",
"clear\n",
"//clears already existing variables//\n",
"disp('the maximum rate at which data can be stored is:')\n",
"t=200*(10^-9);\n",
"//write cycle time//\n",
"r=1/t;\n",
"//maximum rate//\n",
"disp(r)\n",
"disp('words/sec')"
   ]
   }
,
{
		   "cell_type": "markdown",
		   "metadata": {},
		   "source": [
			"## Example 11.2_b: maximum_rate_at_which_data_can_be_read.sce"
		   ]
		  },
  {
"cell_type": "code",
	   "execution_count": null,
	   "metadata": {
	    "collapsed": true
	   },
	   "outputs": [],
"source": [
"//example 11.2(b)//\n",
"//maximum rate at which data can be read//\n",
"clc\n",
"//clears the screen//\n",
"clear\n",
"//clears already existing variables//\n",
"disp('the maximum rate at which data can be read is:')\n",
"t=200*(10^-9);\n",
"//read cycle time//\n",
"r=1/t;\n",
"//maximum rate//\n",
"disp(r)\n",
"disp('words/sec')"
   ]
   }
,
{
		   "cell_type": "markdown",
		   "metadata": {},
		   "source": [
			"## Example 11.6_a: data_output.sce"
		   ]
		  },
  {
"cell_type": "code",
	   "execution_count": null,
	   "metadata": {
	    "collapsed": true
	   },
	   "outputs": [],
"source": [
"//example 11.6(a)//\n",
"clc\n",
"//clears the screen//\n",
"clear\n",
"//clears already existing variables//\n",
"disp('since Y(5)=0, the memory location 5 is selected for read out, i.e.')\n",
"disp('D1D0=01')\n",
"disp('the memory contents do not change')\n",
"//given A1A0=00, W''=1, Y=11011111//"
   ]
   }
,
{
		   "cell_type": "markdown",
		   "metadata": {},
		   "source": [
			"## Example 11.6_b: data_output.sce"
		   ]
		  },
  {
"cell_type": "code",
	   "execution_count": null,
	   "metadata": {
	    "collapsed": true
	   },
	   "outputs": [],
"source": [
"//example 11.6(b)//\n",
"clc\n",
"//clears the screen//\n",
"clear\n",
"//clears already existing variables//\n",
"disp('since Y5=Y4=0, the memory locations 4 and 5 are selected for readout. The output is obtained by ORing the contents of these locations, i.e.')\n",
"disp('D1D0=11')\n",
"disp('The memory contents do not change')\n",
"//given A1A0=00, W''=1, Y=11001111//"
   ]
   }
,
{
		   "cell_type": "markdown",
		   "metadata": {},
		   "source": [
			"## Example 11.6_c: data_output.sce"
		   ]
		  },
  {
"cell_type": "code",
	   "execution_count": null,
	   "metadata": {
	    "collapsed": true
	   },
	   "outputs": [],
"source": [
"//example 11.6(c)//\n",
"clc\n",
"//clears the screen//\n",
"clear\n",
"//clears already existing variables//\n",
"disp('since Y(3), write operation is performed at memory location 3. The input data is stored in this location and also appears at the output')\n",
"disp('D1D0=00')\n",
"disp('contents of memory location 3=00')\n",
"//given A1A0=00, W''=0, Y=11110111//"
   ]
   }
,
{
		   "cell_type": "markdown",
		   "metadata": {},
		   "source": [
			"## Example 11.6_d: data_output.sce"
		   ]
		  },
  {
"cell_type": "code",
	   "execution_count": null,
	   "metadata": {
	    "collapsed": true
	   },
	   "outputs": [],
"source": [
"//example 11.6(d)//\n",
"clc\n",
"//clears the screen//\n",
"clear\n",
"//clears already existing variables//\n",
"disp('In this case, the memory locations 3 and 5 are selected for writing since Y3=Y5=0. The contents of these locations will become 10 and')\n",
"disp('D1D0=10')\n",
"//given A1A0=00, W''=0, Y=11010111//\n",
"//I1I0=10//"
   ]
   }
,
{
		   "cell_type": "markdown",
		   "metadata": {},
		   "source": [
			"## Example 11.7_a: output_and_change_in_memory_location.sce"
		   ]
		  },
  {
"cell_type": "code",
	   "execution_count": null,
	   "metadata": {
	    "collapsed": true
	   },
	   "outputs": [],
"source": [
"//example 11.7//\n",
"clc\n",
"//clears the screen//\n",
"clear\n",
"//clears already existing variables//\n",
"//given A1A0=11, I1I0=01//\n",
"disp('the association operation is performed with keyword 01. The memory locations 1, 5 and 7 match the keyword giving out logic 0 at the corresponding Y outputs. Therefore,')\n",
"disp('Y=01011101')"
   ]
   }
],
"metadata": {
		  "kernelspec": {
		   "display_name": "Scilab",
		   "language": "scilab",
		   "name": "scilab"
		  },
		  "language_info": {
		   "file_extension": ".sce",
		   "help_links": [
			{
			 "text": "MetaKernel Magics",
			 "url": "https://github.com/calysto/metakernel/blob/master/metakernel/magics/README.md"
			}
		   ],
		   "mimetype": "text/x-octave",
		   "name": "scilab",
		   "version": "0.7.1"
		  }
		 },
		 "nbformat": 4,
		 "nbformat_minor": 0
}
