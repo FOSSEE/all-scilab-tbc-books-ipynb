{
"cells": [
 {
		   "cell_type": "markdown",
	   "metadata": {},
	   "source": [
       "# Chapter 14: Computer Aided Design of Digital Systems"
	   ]
	},
{
		   "cell_type": "markdown",
		   "metadata": {},
		   "source": [
			"## Example 14.2: entity_construction_for_EXOR_circuit.sce"
		   ]
		  },
  {
"cell_type": "code",
	   "execution_count": null,
	   "metadata": {
	    "collapsed": true
	   },
	   "outputs": [],
"source": [
"//example 14.2//\n",
"//entity construction for EXOR circuit//\n",
"clc\n",
"//clears the screen//\n",
"clear\n",
"//clears already existing variables//\n",
"disp('Let the name of entity be Circuit_Fig. It has two input ports A and B and one output port Y. The entity declaration for this circuit will be')\n",
"disp(' ENTITY Circuit_Fig IS')\n",
"disp('PORT(A,B : IN BIT; OUT BIT);')\n",
"disp('END Circuit_Fig;')\n",
"disp('From this entity declaration, we observe that although this circuit consists of AND, OR and NOT gates, the circuit itself is an entity and the entity declaration gives no information about the structure or behaviour of the circuit')"
   ]
   }
],
"metadata": {
		  "kernelspec": {
		   "display_name": "Scilab",
		   "language": "scilab",
		   "name": "scilab"
		  },
		  "language_info": {
		   "file_extension": ".sce",
		   "help_links": [
			{
			 "text": "MetaKernel Magics",
			 "url": "https://github.com/calysto/metakernel/blob/master/metakernel/magics/README.md"
			}
		   ],
		   "mimetype": "text/x-octave",
		   "name": "scilab",
		   "version": "0.7.1"
		  }
		 },
		 "nbformat": 4,
		 "nbformat_minor": 0
}
