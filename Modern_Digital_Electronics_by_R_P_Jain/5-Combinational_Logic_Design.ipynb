{
"cells": [
 {
		   "cell_type": "markdown",
	   "metadata": {},
	   "source": [
       "# Chapter 5: Combinational Logic Design"
	   ]
	},
{
		   "cell_type": "markdown",
		   "metadata": {},
		   "source": [
			"## Example 5.1: simplification_of_equation.sce"
		   ]
		  },
  {
"cell_type": "code",
	   "execution_count": null,
	   "metadata": {
	    "collapsed": true
	   },
	   "outputs": [],
"source": [
"//exmaple 5.1(c)//\n",
"//simplification of an equation//\n",
"clc\n",
"//clears the screen//\n",
"clear\n",
"//clears already existing variables//\n",
"disp('given=> Y=(A+BC)(B+C''A)')\n",
"//given in the question//\n",
"disp('on multiplication we get')\n",
"disp('Y=AB+AC''+BC')\n",
"disp('on further simplification we get')\n",
"disp('BC+AC''')\n",
"//answer after simplification//\n",
"//as per theorem 1.19 given in the question//"
   ]
   }
,
{
		   "cell_type": "markdown",
		   "metadata": {},
		   "source": [
			"## Example 5.2: conversion_to_canonical_SOP_form.sce"
		   ]
		  },
  {
"cell_type": "code",
	   "execution_count": null,
	   "metadata": {
	    "collapsed": true
	   },
	   "outputs": [],
"source": [
"//example 5.2//\n",
"clc\n",
"//clears the screen//\n",
"clear\n",
"//clears already existing variables//\n",
"//conversion of given equation to its canonical SOP form//\n",
"disp('given=> Y=(AB+AC''+BC)')\n",
"disp('on solving')\n",
"disp('Y=AB(C+C'')+AC''(B+B'')+BC(A+A'')')\n",
"disp('Y=ABC+ABC''+ABC''+AB''C''+ABC+A''BC')\n",
"disp('Y=ABC+ABC''+AB''C''+A''BC')\n",
"//using theorem 1.5//\n",
"//result//"
   ]
   }
,
{
		   "cell_type": "markdown",
		   "metadata": {},
		   "source": [
			"## Example 5.3: conversion_to_canonical_POS_form.sce"
		   ]
		  },
  {
"cell_type": "code",
	   "execution_count": null,
	   "metadata": {
	    "collapsed": true
	   },
	   "outputs": [],
"source": [
"//example 5.3//\n",
"clc\n",
"//clears the screen//\n",
"clear\n",
"//clears already existing variables//\n",
"//conversion of given equation to its canonical POS form//\n",
"disp('given=> Y=(A+B)(A+C)(B+C'')')\n",
"disp('on solving')\n",
"disp('Y=(A+B+CC'')(A+BB''+C)(AA''+B+C'')')\n",
"disp('Y=(A+B+C)(A+B+C'')(A+C+B)(A+C+B'')(A+B+C'')(A''+B+C'')')\n",
"//using theorem 1.10//\n",
"disp('Y=(A+B+C)(A+B+C'')(A+B''+C)(A''+B+C'')')\n",
"//using theorem 1.6//\n",
"//result//"
   ]
   }
],
"metadata": {
		  "kernelspec": {
		   "display_name": "Scilab",
		   "language": "scilab",
		   "name": "scilab"
		  },
		  "language_info": {
		   "file_extension": ".sce",
		   "help_links": [
			{
			 "text": "MetaKernel Magics",
			 "url": "https://github.com/calysto/metakernel/blob/master/metakernel/magics/README.md"
			}
		   ],
		   "mimetype": "text/x-octave",
		   "name": "scilab",
		   "version": "0.7.1"
		  }
		 },
		 "nbformat": 4,
		 "nbformat_minor": 0
}
