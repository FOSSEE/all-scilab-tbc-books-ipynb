{
"cells": [
 {
		   "cell_type": "markdown",
	   "metadata": {},
	   "source": [
       "# Chapter 3: Semiconductor devices switching mode operation"
	   ]
	},
{
		   "cell_type": "markdown",
		   "metadata": {},
		   "source": [
			"## Example 3.3: response_of_transistor_inverter.sce"
		   ]
		  },
  {
"cell_type": "code",
	   "execution_count": null,
	   "metadata": {
	    "collapsed": true
	   },
	   "outputs": [],
"source": [
"//example 3.3//\n",
"clc\n",
"//clears the screen//\n",
"clear\n",
"//clears already existing varibales//\n",
"a=10;\n",
"//input voltage (in volts)//\n",
"b=.7;\n",
"//transistor voltage(saturation voltage)//\n",
"c=5;\n",
"//resistor b/w input voltage and the transistor//\n",
"d=10;\n",
"//input voltage from collector side//\n",
"e=0.1;\n",
"//transistor voltage(saturation voltage from collector side)//\n",
"f=2;\n",
"//resistor in kilo-ohm//\n",
"g=30;\n",
"h=-10;\n",
"//input voltage from emitter side//\n",
"I=(a-b)/c;\n",
"//base current of transistor from given figure//\n",
"disp('the base current of given circuit is (in mA):')\n",
"disp(I)\n",
"//base current is in mA//\n",
"K=(d-e)/f\n",
"//collector current of transistor from given figure//\n",
"disp('the collector current of given circuit is (in mA):')\n",
"disp(K)\n",
"//collector current in mA(saturation current)//\n",
"L=K/g\n",
"disp('base current required for the transistor to be in saturation is (in mA):')\n",
"disp(L)\n",
"//current in mA//\n",
"M=(h-b)/c\n",
"disp('the base current is (in mA):')\n",
"disp(M)\n",
"//base current in mA//"
   ]
   }
,
{
		   "cell_type": "markdown",
		   "metadata": {},
		   "source": [
			"## Example 3.4_a: output_voltage_of_JFET.sce"
		   ]
		  },
  {
"cell_type": "code",
	   "execution_count": null,
	   "metadata": {
	    "collapsed": true
	   },
	   "outputs": [],
"source": [
"//example 3.4(a)//\n",
"clc\n",
"//clears the screen//\n",
"clear\n",
"//clears already existing variables//\n",
"disp('when the input voltage = -5V, the JFET is opening at point A, where I(D)=0 and V(0)=V(DD)=20V')\n",
"disp('this corresponds to the switch in OFF state')"
   ]
   }
,
{
		   "cell_type": "markdown",
		   "metadata": {},
		   "source": [
			"## Example 3.4_b: output_voltage_of_JFET.sce"
		   ]
		  },
  {
"cell_type": "code",
	   "execution_count": null,
	   "metadata": {
	    "collapsed": true
	   },
	   "outputs": [],
"source": [
"//example 3.4(b)//\n",
"clc\n",
"//clears the screen//\n",
"clear\n",
"//clears the command window//\n",
"disp('when V(i)=0V, the JFET is operating at point B, where I(D)=3.8mA and V(o)=1V')\n",
"disp('this corresponds to the switch in ON stage')\n",
"//the answers have been taken directly from the figure//"
   ]
   }
,
{
		   "cell_type": "markdown",
		   "metadata": {},
		   "source": [
			"## Example 3.5_a: output_characateristics_of_a_MOSFET.sce"
		   ]
		  },
  {
"cell_type": "code",
	   "execution_count": null,
	   "metadata": {
	    "collapsed": true
	   },
	   "outputs": [],
"source": [
"//example 3.5(a)//\n",
"clc\n",
"//clears the window//\n",
"clear\n",
"//clears already existing variables//\n",
"disp('when V(i)=0, the transistor is cutoff because the voltage between the gate and the source is below the threshold voltage. Correspondingly the output voltage V(0)=5V(point (N) as in figure)')\n",
"//answer according to the cuts of load line//"
   ]
   }
,
{
		   "cell_type": "markdown",
		   "metadata": {},
		   "source": [
			"## Example 3.5_b: output_voltage_for_MOSFET.sce"
		   ]
		  },
  {
"cell_type": "code",
	   "execution_count": null,
	   "metadata": {
	    "collapsed": true
	   },
	   "outputs": [],
"source": [
"//example 3.5(b)//\n",
"clc\n",
"//clears the window//\n",
"clear\n",
"//clears already existing variables//\n",
"disp('when V(i)=5V, the transistor is operating at point M and V(o)=0')\n",
"disp('this corresponds to ON stage!')"
   ]
   }
,
{
		   "cell_type": "markdown",
		   "metadata": {},
		   "source": [
			"## Example 3.7_a: output_voltage_for_identical_set_of_transistors.sce"
		   ]
		  },
  {
"cell_type": "code",
	   "execution_count": null,
	   "metadata": {
	    "collapsed": true
	   },
	   "outputs": [],
"source": [
"//example 3.7(a)//\n",
"clc\n",
"//clears the screen//\n",
"clear\n",
"//clears existing variables//\n",
"disp('when V(i)=0, the transistor T(1) is operating at point B')\n",
"t=5;\n",
"//input voltage as given in question//\n",
"x=0;\n",
"V=t-x;\n",
"//output voltage in volts//\n",
"disp('here V(o)(in volts)=')\n",
"disp(V)"
   ]
   }
,
{
		   "cell_type": "markdown",
		   "metadata": {},
		   "source": [
			"## Example 3.7_b: output_voltage_in_identical_transistors_for_input_voltage_5V.sce"
		   ]
		  },
  {
"cell_type": "code",
	   "execution_count": null,
	   "metadata": {
	    "collapsed": true
	   },
	   "outputs": [],
"source": [
"//example 3.7(b)//\n",
"clc\n",
"//clears the screen//\n",
"clear\n",
"//clears already existing variables//\n",
"disp('when V(i)=5V, the transistor T(1) is operating at point C')\n",
"V=0;\n",
"disp('output voltage in volts=')\n",
"disp(V)\n",
"//all the outcomes are as per the diagram//"
   ]
   }
],
"metadata": {
		  "kernelspec": {
		   "display_name": "Scilab",
		   "language": "scilab",
		   "name": "scilab"
		  },
		  "language_info": {
		   "file_extension": ".sce",
		   "help_links": [
			{
			 "text": "MetaKernel Magics",
			 "url": "https://github.com/calysto/metakernel/blob/master/metakernel/magics/README.md"
			}
		   ],
		   "mimetype": "text/x-octave",
		   "name": "scilab",
		   "version": "0.7.1"
		  }
		 },
		 "nbformat": 4,
		 "nbformat_minor": 0
}
