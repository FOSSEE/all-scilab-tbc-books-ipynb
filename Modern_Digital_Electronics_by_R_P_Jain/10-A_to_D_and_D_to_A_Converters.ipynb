{
"cells": [
 {
		   "cell_type": "markdown",
	   "metadata": {},
	   "source": [
       "# Chapter 10: A to D and D to A Converters"
	   ]
	},
{
		   "cell_type": "markdown",
		   "metadata": {},
		   "source": [
			"## Example 10.1: find_analog_output_of_4_bit_D_to_A_converter.sce"
		   ]
		  },
  {
"cell_type": "code",
	   "execution_count": null,
	   "metadata": {
	    "collapsed": true
	   },
	   "outputs": [],
"source": [
"//example 10(a)//\n",
"clc\n",
"//clears the screen//\n",
"clear\n",
"//clears already existing variables//\n",
"disp('digital input to analog output of 4 bit is as follows')\n",
"for(i=0:15)\n",
"x=dec2bin(i);\n",
"disp(x)\n",
"disp(i);\n",
"i=i+1;\n",
"end\n",
"//displays the result//"
   ]
   }
,
{
		   "cell_type": "markdown",
		   "metadata": {},
		   "source": [
			"## Example 10.2_a: 4_bit_unipolar_D_to_A_converter.sce"
		   ]
		  },
  {
"cell_type": "code",
	   "execution_count": null,
	   "metadata": {
	    "collapsed": true
	   },
	   "outputs": [],
"source": [
"//example 10.2(a)//\n",
"clc\n",
"//clears the screen//\n",
"clear\n",
"//clears already existing variables//\n",
"disp('digital input to analog output of 4 bit is as follows')\n",
"for(i=0:15)\n",
"x=dec2bin(i);\n",
"//conversion of decimal to binary//\n",
"disp(x)\n",
"//binary form of the number//\n",
"disp(i);\n",
"//decimal form of the number//\n",
"i=i+1;\n",
"end\n",
"//displays the result//"
   ]
   }
,
{
		   "cell_type": "markdown",
		   "metadata": {},
		   "source": [
			"## Example 10.2_b: 4_bit_unipolar_D_to_A_converter_after_adjusting_the_offset_voltage.sce"
		   ]
		  },
  {
"cell_type": "code",
	   "execution_count": null,
	   "metadata": {
	    "collapsed": true
	   },
	   "outputs": [],
"source": [
"//example 10.2(b)//\n",
"clc\n",
"//clears the screen//\n",
"clear\n",
"//clears already existing variables//\n",
"disp('digital input to analog output of 4 bit is as follows')\n",
"for(i=0:15)\n",
"x=dec2bin(i);\n",
"//decimal to binary conversion//\n",
"disp(x)\n",
"//binary number//\n",
"j=i-8;\n",
"disp(j);\n",
"//analog number//\n",
"i=i+1;\n",
"end\n",
"//displays the result//"
   ]
   }
,
{
		   "cell_type": "markdown",
		   "metadata": {},
		   "source": [
			"## Example 10.2_c: 4_bit_unipolar_D_to_A_converter_after_complimenting_MSB.sce"
		   ]
		  },
  {
"cell_type": "code",
	   "execution_count": null,
	   "metadata": {
	    "collapsed": true
	   },
	   "outputs": [],
"source": [
"//example 10.2(c)//\n",
"clc\n",
"//clears the screen//\n",
"clear\n",
"//clears already existing variables//\n",
"disp('digital input to analog output of 4 bit as per given condition is as follows')\n",
"for(i=0:7)\n",
"x=dec2bin(i);\n",
"//decimal to binary conversion//\n",
"disp(x)\n",
"//displays binary or say digital form//\n",
"disp(i)\n",
"//displays analog form//\n",
"i=i+1;\n",
"end\n",
"for(i=8:15)\n",
"x=dec2bin(i);\n",
"//conversion//\n",
"disp(x)\n",
"f=i-8;\n",
"y=2*f;\n",
"t=y-i;\n",
"disp(t)\n",
"//displays analog form//\n",
"i=i+1\n",
"end\n",
"//displays the result//"
   ]
   }
,
{
		   "cell_type": "markdown",
		   "metadata": {},
		   "source": [
			"## Example 10.3: D_to_A_converter_in_ones_complement_form.sce"
		   ]
		  },
  {
"cell_type": "code",
	   "execution_count": null,
	   "metadata": {
	    "collapsed": true
	   },
	   "outputs": [],
"source": [
"//example 10.3//\n",
"clc\n",
"//clears the window//\n",
"clear\n",
"//clears already existing variables//\n",
"disp('since the 1''s compliment representations of the positive numbers +0 to +7 are same as the representations of the unipolar binary numbers, no offset voltage is required for these inputs.')\n",
"disp('For the negative numbers 1111 to 1000, the output analog voltage is to be offset by -15V. This can be achieved by operating a switch with MSB of input to introduce proper value of Voff.')\n",
"//answer//"
   ]
   }
,
{
		   "cell_type": "markdown",
		   "metadata": {},
		   "source": [
			"## Example 10.4: 2_decade_BCD_D_to_A_converter.sce"
		   ]
		  },
  {
"cell_type": "code",
	   "execution_count": null,
	   "metadata": {
	    "collapsed": true
	   },
	   "outputs": [],
"source": [
"//example 10.4//\n",
"//design a 2 decade BCD D/A converter//\n",
"clc\n",
"//clears the screen//\n",
"clear\n",
"//clears already existing variables//\n",
"disp('the circuit of given figure can be used for BCD D/A converter. The binary inputs corresponding to LSB are applied to b3,b2,b1,b0 and those corresponding to the next digit at b7,b6,b5,b4. the value of r is chosen so as to make the input current of OP-AMP corresponding to LSD as 1/10th of that of current due to MSD, and is given by')\n",
"disp('((V(R)*(8/7*R))/(R*(r+8*R/7)+r*8/7*R))=V(R)/(10*R)')\n",
"disp('r=4.8R')"
   ]
   }
,
{
		   "cell_type": "markdown",
		   "metadata": {},
		   "source": [
			"## Example 10.5: determine_the_quantization_interval.sce"
		   ]
		  },
  {
"cell_type": "code",
	   "execution_count": null,
	   "metadata": {
	    "collapsed": true
	   },
	   "outputs": [],
"source": [
"//example 10.5//\n",
"clc\n",
"//clears the window//\n",
"clear\n",
"//clears already existing variables//\n",
"disp('the digital value 000 should be assigned to the analog voltage interval 0V +-S/2, Since in 2''s compliment representation, there is one more negative number than the number of positive numbers, the analog voltage from -V to +V should be divided in seven intervals, each of size S=2V/7, and one digital value is to be assigned to each interval. The extra digit output 100 can be used to represent the interval -V to -9V/7')"
   ]
   }
],
"metadata": {
		  "kernelspec": {
		   "display_name": "Scilab",
		   "language": "scilab",
		   "name": "scilab"
		  },
		  "language_info": {
		   "file_extension": ".sce",
		   "help_links": [
			{
			 "text": "MetaKernel Magics",
			 "url": "https://github.com/calysto/metakernel/blob/master/metakernel/magics/README.md"
			}
		   ],
		   "mimetype": "text/x-octave",
		   "name": "scilab",
		   "version": "0.7.1"
		  }
		 },
		 "nbformat": 4,
		 "nbformat_minor": 0
}
