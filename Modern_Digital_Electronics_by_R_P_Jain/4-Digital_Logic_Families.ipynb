{
"cells": [
 {
		   "cell_type": "markdown",
	   "metadata": {},
	   "source": [
       "# Chapter 4: Digital Logic Families"
	   ]
	},
{
		   "cell_type": "markdown",
		   "metadata": {},
		   "source": [
			"## Example 4.1_a_i: calculate_fan_out_when_all_inputs_are_high.sce"
		   ]
		  },
  {
"cell_type": "code",
	   "execution_count": null,
	   "metadata": {
	    "collapsed": true
	   },
	   "outputs": [],
"source": [
"//example 4.1(a)//\n",
"clc\n",
"//clears the screen//\n",
"clear\n",
"//clears already existing variables//\n",
"disp('as given low level, V(o)=0.2V and high level, V(1)=5V')\n",
"disp('case 1, when all the inputs are HIGH')\n",
"//in this case both diodes will be conducting and transistor will be in saturation//\n",
"a=0.7+0.7+0.8;\n",
"//V(p)//\n",
"b=5;\n",
"//high level voltage in volts//\n",
"c=5;\n",
"//resistor in Kohms//\n",
"d=0.8;\n",
"//voltage between base and emitter in volts//\n",
"e=(b-a)/c;\n",
"//I(1)//\n",
"f=d/c;\n",
"//I(2)//\n",
"i=e-f;\n",
"//writing kirchoff's current law at the base of transistor//\n",
"g=0.2;\n",
"//voltage between collector and emitter in saturation(in volts)//\n",
"h=2.2;\n",
"//resistance of collector in Kohms//\n",
"j=(b-g)/h;\n",
"//collector current without load gate connected//\n",
"disp('I(1) in mA:')\n",
"disp(e)\n",
"disp('I(2) in mA:')\n",
"disp(f)\n",
"disp('collector current(in mA):')\n",
"disp(j)\n",
"k=30;\n",
"//h(FE)//\n",
"s=k*i;\n",
"if(s>j)\n",
"disp('transistor is in saturation mode')\n",
"disp('fan out is given by I(c)<=h(FE)I(B)')\n",
"end"
   ]
   }
,
{
		   "cell_type": "markdown",
		   "metadata": {},
		   "source": [
			"## Example 4.1_a_ii: calculate_fan_out_for_DTL_NAND_gate_when_atleast_one_input_is_LOW.sce"
		   ]
		  },
  {
"cell_type": "code",
	   "execution_count": null,
	   "metadata": {
	    "collapsed": true
	   },
	   "outputs": [],
"source": [
"//example 4.1.a(ii)//\n",
"clc\n",
"//clears the screen//\n",
"clear\n",
"//clears already existing variables//\n",
"//for DTL NAND gate calculate fan out//\n",
"disp('case II , if atleast one of the inputs is LOW')\n",
"v=0.2+0.7;\n",
"m=0.6+0.6+0.5;\n",
"//min voltage for both diodes and transistor to be conducting//\n",
"disp(v)\n",
"disp('min voltage for both diodes and transistor to be conducting:')\n",
"disp(m)\n",
"if(v<m)\n",
"disp('transistor is in cut off mode')\n",
"disp('if the load gates are connected, the input diodes of the load gates are non conducting, which means the reverse saturation current of these diodes must be supplied through the collector resistor R(c), which will produce a voltage drop across R(c) and consequently the output voltage corresponding to HIGH state will be a little less than V(cc). The maximum current which can be supplied by the gate will depend upon V(OH). The fan out is determined on the basis of maximum current.')\n",
"end"
   ]
   }
],
"metadata": {
		  "kernelspec": {
		   "display_name": "Scilab",
		   "language": "scilab",
		   "name": "scilab"
		  },
		  "language_info": {
		   "file_extension": ".sce",
		   "help_links": [
			{
			 "text": "MetaKernel Magics",
			 "url": "https://github.com/calysto/metakernel/blob/master/metakernel/magics/README.md"
			}
		   ],
		   "mimetype": "text/x-octave",
		   "name": "scilab",
		   "version": "0.7.1"
		  }
		 },
		 "nbformat": 4,
		 "nbformat_minor": 0
}
