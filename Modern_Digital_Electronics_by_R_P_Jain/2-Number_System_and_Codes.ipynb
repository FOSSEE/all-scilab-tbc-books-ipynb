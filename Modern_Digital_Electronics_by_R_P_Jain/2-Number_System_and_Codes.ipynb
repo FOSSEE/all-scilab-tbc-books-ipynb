{
"cells": [
 {
		   "cell_type": "markdown",
	   "metadata": {},
	   "source": [
       "# Chapter 2: Number System and Codes"
	   ]
	},
{
		   "cell_type": "markdown",
		   "metadata": {},
		   "source": [
			"## Example 2.10_a: twos_complement.sce"
		   ]
		  },
  {
"cell_type": "code",
	   "execution_count": null,
	   "metadata": {
	    "collapsed": true
	   },
	   "outputs": [],
"source": [
"//example 2.10(a)//\n",
"//find 2's complement of binary number//\n",
"clc\n",
"//clears the window//\n",
"clear\n",
"//clears all the existing variables//\n",
"x=01001110\n",
"//the number//\n",
"xd=bin2dec('01001110')\n",
"//binary to decimal conversion//\n",
"xc=bitcmp(xd,8)\n",
"//one's complement of the number//\n",
"xp=xc+1\n",
"xc1=dec2bin(xp)\n",
"//2's complement of the number//\n",
"disp('2s complement of 01001110 is : ')\n",
"disp(xc1)\n",
"//answer in 2's complement form//"
   ]
   }
,
{
		   "cell_type": "markdown",
		   "metadata": {},
		   "source": [
			"## Example 2.10_b: twos_complement_of_binary_no.sce"
		   ]
		  },
  {
"cell_type": "code",
	   "execution_count": null,
	   "metadata": {
	    "collapsed": true
	   },
	   "outputs": [],
"source": [
"//example 2.10(b)//\n",
"//find 2's complement of binary number//\n",
"clc\n",
"//clears the window//\n",
"clear\n",
"//clears all the existing variables//\n",
"x=00110101\n",
"//the number//\n",
"xd=bin2dec('00110101')\n",
"//binary to decimal conversion//\n",
"xc=bitcmp(xd,8)\n",
"//one's complement of the number//\n",
"xp=xc+1\n",
"xc1=dec2bin(xp)\n",
"//2's complement of the number//\n",
"disp('2s complement of 00110101 is : ')\n",
"disp(xc1)\n",
"//answer in 2's complement form//"
   ]
   }
,
{
		   "cell_type": "markdown",
		   "metadata": {},
		   "source": [
			"## Example 2.11_a: complement.sce"
		   ]
		  },
  {
"cell_type": "code",
	   "execution_count": null,
	   "metadata": {
	    "collapsed": true
	   },
	   "outputs": [],
"source": [
"//example 2.11(a)//\n",
"//find 2's complement of binary number//\n",
"clc\n",
"//clears the window//\n",
"clear\n",
"//clears all the existing variables//\n",
"x=01100100\n",
"//the number//\n",
"xd=bin2dec('01100100')\n",
"//binary to decimal conversion//\n",
"xc=bitcmp(xd,8)\n",
"//one's complement of the number//\n",
"xp=xc+1\n",
"xc1=dec2bin(xp)\n",
"//2's complement of the number//\n",
"disp('2s complement of 01100100 is : ')\n",
"disp(xc1)\n",
"//answer in 2's complement form//"
   ]
   }
,
{
		   "cell_type": "markdown",
		   "metadata": {},
		   "source": [
			"## Example 2.11_b: complement.sce"
		   ]
		  },
  {
"cell_type": "code",
	   "execution_count": null,
	   "metadata": {
	    "collapsed": true
	   },
	   "outputs": [],
"source": [
"//example 2.11(b)//\n",
"//find 2's complement of binary number//\n",
"clc\n",
"//clears the window//\n",
"clear\n",
"//clears all the existing variables//\n",
"x=10010010\n",
"//the number//\n",
"xd=bin2dec('10010010')\n",
"//binary to decimal conversion//\n",
"xc=bitcmp(xd,8)\n",
"//one's complement of the number//\n",
"xp=xc+1\n",
"xc1=dec2bin(xp)\n",
"//2's complement of the number//\n",
"disp('2s complement of 10010010 is : ')\n",
"disp(xc1)\n",
"//answer in 2's complement form//"
   ]
   }
,
{
		   "cell_type": "markdown",
		   "metadata": {},
		   "source": [
			"## Example 2.11_c: complement.sce"
		   ]
		  },
  {
"cell_type": "code",
	   "execution_count": null,
	   "metadata": {
	    "collapsed": true
	   },
	   "outputs": [],
"source": [
"//example 2.11(c)//\n",
"//find 2's complement of binary number//\n",
"clc\n",
"//clears the window//\n",
"clear\n",
"//clears all the existing variables//\n",
"x=11011000\n",
"//the number//\n",
"xd=bin2dec('11011000')\n",
"//binary to decimal conversion//\n",
"xc=bitcmp(xd,8)\n",
"//one's complement of the number//\n",
"xp=xc+1\n",
"xc1=dec2bin(xp)\n",
"//2's complement of the number//\n",
"disp('2s complement of 11011000 is : ')\n",
"disp(xc1)\n",
"//answer in 2's complement form//"
   ]
   }
,
{
		   "cell_type": "markdown",
		   "metadata": {},
		   "source": [
			"## Example 2.11_d: twos_complement_of_binary_number.sce"
		   ]
		  },
  {
"cell_type": "code",
	   "execution_count": null,
	   "metadata": {
	    "collapsed": true
	   },
	   "outputs": [],
"source": [
"//example 2.11(d)//\n",
"//find 2's complement of binary number//\n",
"clc\n",
"//clears the window//\n",
"clear\n",
"//clears all the existing variables//\n",
"x=01100111\n",
"//the number//\n",
"xd=bin2dec('01100111')\n",
"//binary to decimal conversion//\n",
"xc=bitcmp(xd,8)\n",
"//one's complement of the number//\n",
"xp=xc+1\n",
"xc1=dec2bin(xp)\n",
"//2's complement of the number//\n",
"disp('2s complement of 01100111 is : ')\n",
"disp(xc1)\n",
"//answer in 2's complement form//"
   ]
   }
,
{
		   "cell_type": "markdown",
		   "metadata": {},
		   "source": [
			"## Example 2.13_a: additio.sce"
		   ]
		  },
  {
"cell_type": "code",
	   "execution_count": null,
	   "metadata": {
	    "collapsed": true
	   },
	   "outputs": [],
"source": [
"//example 2.13(a)//\n",
"//addition of binary number//\n",
"clc\n",
"//clears the screen//\n",
"clear\n",
"//clears already existing variables//\n",
"x=bin2dec('1011')\n",
"//binary to decimal conversion//\n",
"y=bin2dec('1100')\n",
"z=x+y\n",
"//addition//\n",
"a=dec2bin(z)\n",
"//decimal to binary conversion//\n",
"disp('the addition of given numbers is:')\n",
"disp(a)\n",
"//answer in binary form//"
   ]
   }
,
{
		   "cell_type": "markdown",
		   "metadata": {},
		   "source": [
			"## Example 2.13_b: addition_of_binary_numbers.sce"
		   ]
		  },
  {
"cell_type": "code",
	   "execution_count": null,
	   "metadata": {
	    "collapsed": true
	   },
	   "outputs": [],
"source": [
"//example 2.13(b)//\n",
"//addition of binary number//\n",
"clc\n",
"//clears the screen//\n",
"clear\n",
"//clears already existing variables//\n",
"x=bin2dec('0101')\n",
"//binary to decimal conversion//\n",
"y=bin2dec('1111')\n",
"z=x+y\n",
"//addition//\n",
"a=dec2bin(z)\n",
"//decimal to binary conversion//\n",
"disp('the addition of given numbers is:')\n",
"disp(a)\n",
"//answer in binary form//"
   ]
   }
,
{
		   "cell_type": "markdown",
		   "metadata": {},
		   "source": [
			"## Example 2.14: addition_of_4_binary_numbers.sce"
		   ]
		  },
  {
"cell_type": "code",
	   "execution_count": null,
	   "metadata": {
	    "collapsed": true
	   },
	   "outputs": [],
"source": [
"//example 2.14//\n",
"//addition of binary numbers//\n",
"clc\n",
"//clears the screen//\n",
"clear\n",
"//clears already existing variables//\n",
"x=bin2dec('01101010')\n",
"//x is the first number in addition//\n",
"//binary to decimal conversion//\n",
"y=bin2dec('00001000')\n",
"//y is the second number in addition//\n",
"t=bin2dec('10000001')\n",
"//t is the third number in addition//\n",
"k=bin2dec('11111111')\n",
"//k is the fourth number we have to end//\n",
"z=x+y+t+k\n",
"//addition//\n",
"a=dec2bin(z)\n",
"//decimal to binary conversion//\n",
"disp('the addition of given numbers is:')\n",
"disp(a)\n",
"//answer in binary form//"
   ]
   }
,
{
		   "cell_type": "markdown",
		   "metadata": {},
		   "source": [
			"## Example 2.15: subtraction_of_binary_numbers.sce"
		   ]
		  },
  {
"cell_type": "code",
	   "execution_count": null,
	   "metadata": {
	    "collapsed": true
	   },
	   "outputs": [],
"source": [
"//example 2.15//\n",
"//subtraction of two binary number//\n",
"clc\n",
"//clears the screen//\n",
"clear\n",
"//clears the existing variables//\n",
"x=bin2dec('1011')\n",
"//x is the minuend//\n",
"//binary to decimal conversion//\n",
"y=bin2dec('0110')\n",
"//y is the subtrahend//\n",
"z=x-y\n",
"//subtraction//\n",
"disp('the subtraction of given numbers is:')\n",
"ans=dec2bin(z)\n",
"//decimal to binary conversion//\n",
"disp(ans)\n",
"//answer in binary form//"
   ]
   }
,
{
		   "cell_type": "markdown",
		   "metadata": {},
		   "source": [
			"## Example 2.16: multiplication_of_binary_numbers.sce"
		   ]
		  },
  {
"cell_type": "code",
	   "execution_count": null,
	   "metadata": {
	    "collapsed": true
	   },
	   "outputs": [],
"source": [
"//example 2.16//\n",
"//multiplication in binary form//\n",
"clc\n",
"//clears the screen//\n",
"clear\n",
"//clears all the existing variables//\n",
"x=bin2dec('1001')\n",
"//first number to be multiplied is x//\n",
"//binary to decimal conversion//\n",
"y=bin2dec('1101')\n",
"//second number to be multiplied is y//\n",
"z=x*y\n",
"//multiplication//\n",
"a=dec2bin(z)\n",
"//decimal to binary conversion//\n",
"disp('the multiplication of given numbers results in :')\n",
"disp(a)\n",
"//answer in binary number//"
   ]
   }
,
{
		   "cell_type": "markdown",
		   "metadata": {},
		   "source": [
			"## Example 2.17: division_of_binary_numbers.sce"
		   ]
		  },
  {
"cell_type": "code",
	   "execution_count": null,
	   "metadata": {
	    "collapsed": true
	   },
	   "outputs": [],
"source": [
"//example 2.17//\n",
"//division in binary//\n",
"clc\n",
"//clears the window//\n",
"clear\n",
"//clears already existing variables//\n",
"x=bin2dec('1110101')\n",
"//x is the first number//\n",
"//binary to decimal conversion//\n",
"y=bin2dec('1001')\n",
"//y is the second number w/c is to be divided//\n",
"z=x/y\n",
"//division//\n",
"a=dec2bin(z)\n",
"//decimal to binary conversion//\n",
"disp('the division of given numbers results in:')\n",
"disp(a)\n",
"//answer in binary form//"
   ]
   }
,
{
		   "cell_type": "markdown",
		   "metadata": {},
		   "source": [
			"## Example 2.1: decimal_equivalent.sce"
		   ]
		  },
  {
"cell_type": "code",
	   "execution_count": null,
	   "metadata": {
	    "collapsed": true
	   },
	   "outputs": [],
"source": [
"//example 2.1//\n",
"//decimal to binary conversion//\n",
"ans=bin2dec('11111')\n",
"//decimal equivalent of binary number//\n",
"disp(ans)\n",
"//answer in decimal form//"
   ]
   }
,
{
		   "cell_type": "markdown",
		   "metadata": {},
		   "source": [
			"## Example 2.21: decimal_to_octal_conversion.sce"
		   ]
		  },
  {
"cell_type": "code",
	   "execution_count": null,
	   "metadata": {
	    "collapsed": true
	   },
	   "outputs": [],
"source": [
"//example 2.21//\n",
"clc\n",
"//clears the screen//\n",
"clear\n",
"//clears already existing variables//\n",
"x=247\n",
"//decimal to octal conversion//\n",
"a=dec2oct(x)\n",
"disp('the octal conversion of given no is:')\n",
"disp(a)\n",
"//answer in octal form//"
   ]
   }
,
{
		   "cell_type": "markdown",
		   "metadata": {},
		   "source": [
			"## Example 2.22: convert_octal_to_binary.sce"
		   ]
		  },
  {
"cell_type": "code",
	   "execution_count": null,
	   "metadata": {
	    "collapsed": true
	   },
	   "outputs": [],
"source": [
"//example 2.22//\n",
"clc\n",
"//clears the screen// \n",
"clear\n",
"//clears already existing variables//\n",
"//octal to binary conversion//\n",
"y=oct2dec('736')\n",
"//octal to decimal conversion//\n",
"a=dec2bin(y)\n",
"//decimal to binary conversion//\n",
"disp('binary conversion of given no is:')\n",
"disp(a)\n",
"//answer in binary form//"
   ]
   }
,
{
		   "cell_type": "markdown",
		   "metadata": {},
		   "source": [
			"## Example 2.23: binary_to_octal.sce"
		   ]
		  },
  {
"cell_type": "code",
	   "execution_count": null,
	   "metadata": {
	    "collapsed": true
	   },
	   "outputs": [],
"source": [
"//example 2.23//\n",
"clc\n",
"//clears the screen//\n",
"clear\n",
"//clears already existing variables//\n",
"//binary to octal conversion//\n",
"y=bin2dec('1001110')\n",
"//binary to decimal conversion//\n",
"a=dec2oct(y)\n",
"//decimal to octal conversion//\n",
"disp('octal representation of given no is :')\n",
"disp(a)\n",
"//answer in octal form//"
   ]
   }
,
{
		   "cell_type": "markdown",
		   "metadata": {},
		   "source": [
			"## Example 2.26: addition_of_octal_numbers.sce"
		   ]
		  },
  {
"cell_type": "code",
	   "execution_count": null,
	   "metadata": {
	    "collapsed": true
	   },
	   "outputs": [],
"source": [
"//example 2.26//\n",
"//addition of octal numbers//\n",
"clc\n",
"//clears the screen//\n",
"clear\n",
"//clears already existing variables//\n",
"x=oct2dec('23')\n",
"//octal to decimal conversion//\n",
"y=oct2dec('67')\n",
"z=x+y\n",
"//addition//\n",
"a=dec2oct(z)\n",
"//decimal to octal conversion//\n",
"b=dec2bin(z)\n",
"//decimal to binary conversion//\n",
"disp('addition of given no is octal form is')\n",
"disp(a)\n",
"//answer in octal form//\n",
"disp('addition of given numbers in binary form is:')\n",
"disp(b)\n",
"//answer in binary form//"
   ]
   }
,
{
		   "cell_type": "markdown",
		   "metadata": {},
		   "source": [
			"## Example 2.27_a: addition_of_octal_numbers.sce"
		   ]
		  },
  {
"cell_type": "code",
	   "execution_count": null,
	   "metadata": {
	    "collapsed": true
	   },
	   "outputs": [],
"source": [
"//example 2.27 (a)//\n",
"//subtraction of octal numbers//\n",
"clc\n",
"//clears the screen//\n",
"clear\n",
"//clears already existing variables//\n",
"x=oct2dec('53')\n",
"//octal to decimal conversion//\n",
"y=oct2dec('37')\n",
"z=x-y\n",
"//subtraction//\n",
"a=dec2oct(z)\n",
"//decimal to octal conversion//\n",
"b=dec2bin(z)\n",
"//decimal to binary conversion//\n",
"disp('result of subtraction of given numbers in octal form is:')\n",
"disp(a)\n",
"//answer in octal form//\n",
"disp('result of subtraction of given numbers in binary form is:')\n",
"disp(b)\n",
"//answer in binary form//"
   ]
   }
,
{
		   "cell_type": "markdown",
		   "metadata": {},
		   "source": [
			"## Example 2.27_b: addition_of_OCTAL_numbers.sce"
		   ]
		  },
  {
"cell_type": "code",
	   "execution_count": null,
	   "metadata": {
	    "collapsed": true
	   },
	   "outputs": [],
"source": [
"//example 2.27 (b)//\n",
"clc\n",
"//clears the screen//\n",
"clear\n",
"//clears already existing variables//\n",
"x=oct2dec('26')\n",
"//octal to decimal conversion//\n",
"y=oct2dec('75')\n",
"z=x-y\n",
"//subtraction//\n",
"t=z*(-1)\n",
"t1=bitcmp(t,8)\n",
"//1's complement//\n",
"t2=t1+1\n",
"//2's compliment//\n",
"a=dec2bin(t2)\n",
"//decimal to binary conversion//\n",
"disp('answer in 2''s compliment form:')\n",
"disp(a)\n",
"//answer in 2's complement form//"
   ]
   }
,
{
		   "cell_type": "markdown",
		   "metadata": {},
		   "source": [
			"## Example 2.2_a: conversion.sce"
		   ]
		  },
  {
"cell_type": "code",
	   "execution_count": null,
	   "metadata": {
	    "collapsed": true
	   },
	   "outputs": [],
"source": [
"//example 2.2(a)//\n",
"//decimal to binary conversion//\n",
"ans=bin2dec('110101')\n",
"//decimal equivalent of binary number//\n",
"disp(ans)\n",
"//answer in decimal form//"
   ]
   }
,
{
		   "cell_type": "markdown",
		   "metadata": {},
		   "source": [
			"## Example 2.2_b: conversion.sce"
		   ]
		  },
  {
"cell_type": "code",
	   "execution_count": null,
	   "metadata": {
	    "collapsed": true
	   },
	   "outputs": [],
"source": [
"//example 2.2(b)//\n",
"//decimal to binary conversion//\n",
"ans=bin2dec('101101')\n",
"//decimal equivalent of binary number//\n",
"disp(ans)\n",
"//answer in decimal form//"
   ]
   }
,
{
		   "cell_type": "markdown",
		   "metadata": {},
		   "source": [
			"## Example 2.2_c: conversion.sce"
		   ]
		  },
  {
"cell_type": "code",
	   "execution_count": null,
	   "metadata": {
	    "collapsed": true
	   },
	   "outputs": [],
"source": [
"//example 2.2(c)//\n",
"//decimal to binary conversion//\n",
"ans=bin2dec('11111111')\n",
"//decimal equivalent of binary number//\n",
"disp(ans)\n",
"//answer in decimal form//"
   ]
   }
,
{
		   "cell_type": "markdown",
		   "metadata": {},
		   "source": [
			"## Example 2.2_d: conversion.sce"
		   ]
		  },
  {
"cell_type": "code",
	   "execution_count": null,
	   "metadata": {
	    "collapsed": true
	   },
	   "outputs": [],
"source": [
"//example 2.2(d)//\n",
"//decimal to binary conversion//\n",
"ans=bin2dec('00000000')\n",
"//decimal equivalent of binary number//\n",
"disp(ans)\n",
"//answer in decimal form//"
   ]
   }
,
{
		   "cell_type": "markdown",
		   "metadata": {},
		   "source": [
			"## Example 2.30: convert_hexadecimal_to_binary.sce"
		   ]
		  },
  {
"cell_type": "code",
	   "execution_count": null,
	   "metadata": {
	    "collapsed": true
	   },
	   "outputs": [],
"source": [
"//example 2.30//\n",
"//hexadecimal to binary conversion//\n",
"clc\n",
"//clears the screen//\n",
"clear\n",
"//clears already existing variables//\n",
"x=hex2dec('29FA')\n",
"//hexadecimal to decimal conversion//\n",
"a=dec2bin(x)\n",
"//decimal to binary conversion//\n",
"disp('conversion of hexadecimal given no to its binary form is:')\n",
"disp(a)\n",
"//answer in binary form//"
   ]
   }
,
{
		   "cell_type": "markdown",
		   "metadata": {},
		   "source": [
			"## Example 2.31: binary_to_hexadecimal_number.sce"
		   ]
		  },
  {
"cell_type": "code",
	   "execution_count": null,
	   "metadata": {
	    "collapsed": true
	   },
	   "outputs": [],
"source": [
"//example 2.31//\n",
"//conversion of binary to hexadecimal//\n",
"clc\n",
"//clears the screen//\n",
"clear\n",
"//clears already existing variables//\n",
"x=bin2dec('10100110101111')\n",
"//binary to decimal conversion//\n",
"a=dec2hex(x)\n",
"//decimal to hexadecimal conversion//\n",
"disp('conversion of given binary number to its hexadecimal form is:')\n",
"disp(a)\n",
"//answer in hexadecimal form//"
   ]
   }
,
{
		   "cell_type": "markdown",
		   "metadata": {},
		   "source": [
			"## Example 2.33: hexadecimal_to_octal_number.sce"
		   ]
		  },
  {
"cell_type": "code",
	   "execution_count": null,
	   "metadata": {
	    "collapsed": true
	   },
	   "outputs": [],
"source": [
"//example 2.33//\n",
"//conversion hexadecimal number to octal number//\n",
"clc\n",
"//clears the screen//\n",
"clear\n",
"//clears already existing variables//\n",
"x=hex2dec('A72E')\n",
"//hexadecimal to decimal conversion//\n",
"a=dec2oct(x)\n",
"//decimal to octal conversion//\n",
"disp('conversion of given hexadecimal no to its octal form results in :')\n",
"disp(a)\n",
"//answer in octal form//"
   ]
   }
,
{
		   "cell_type": "markdown",
		   "metadata": {},
		   "source": [
			"## Example 2.35: addition_of_hexadecimal_numbers.sce"
		   ]
		  },
  {
"cell_type": "code",
	   "execution_count": null,
	   "metadata": {
	    "collapsed": true
	   },
	   "outputs": [],
"source": [
"//example 2.35//\n",
"//addition of hexadecimal number//\n",
"clc\n",
"//clears the screen//\n",
"clear\n",
"//clears already existing variables//\n",
"x=hex2dec('7F')\n",
"//hexadecimal to decimal conversion//\n",
"y=hex2dec('BA')\n",
"z=x+y\n",
"//addition//\n",
"a=dec2hex(z)\n",
"//decimal to hexadecimal conversion//\n",
"disp('addition of given hexadecimal numbers results in :')\n",
"disp(a)\n",
"//answer in hexadecimal form//"
   ]
   }
,
{
		   "cell_type": "markdown",
		   "metadata": {},
		   "source": [
			"## Example 2.36_a: subtraction_of_hexadecimal_numbers.sce"
		   ]
		  },
  {
"cell_type": "code",
	   "execution_count": null,
	   "metadata": {
	    "collapsed": true
	   },
	   "outputs": [],
"source": [
"//example 2.36(a)//\n",
"//subtraction of hexadecimal number//\n",
"clc\n",
"//clears the screen//\n",
"clear\n",
"//clears already existing variables//\n",
"x=hex2dec('3F')\n",
"//hexadecimal to deciimal conversion//\n",
"y=hex2dec('5C')\n",
"z=x-y\n",
"//subtraction//\n",
"t=z*-1\n",
"t1=dec2hex(t)\n",
"//answer in hexadecimal form(modulus)//\n",
"t2=bitcmp(t,8)\n",
"//complement//\n",
"t3=t2+1\n",
"//2's complement//\n",
"a=dec2bin(t3)\n",
"//answer in 2's complement form\n",
"disp('result of subtraction in 2''s compliment form is:')\n",
"disp(a)"
   ]
   }
,
{
		   "cell_type": "markdown",
		   "metadata": {},
		   "source": [
			"## Example 2.36_b: subtraction_of_hexadecimal_numbers.sce"
		   ]
		  },
  {
"cell_type": "code",
	   "execution_count": null,
	   "metadata": {
	    "collapsed": true
	   },
	   "outputs": [],
"source": [
"//example 2.36(b)//\n",
"//subtraction of hexadecimal numbers//\n",
"clc\n",
"//clears the screen//\n",
"clear\n",
"//clears already existing variables//\n",
"x=hex2dec('C0')\n",
"//hexadecimal to decimal conversion//\n",
"y=hex2dec('7A')\n",
"z=x-y\n",
"//subtraction//\n",
"a=dec2hex(z)\n",
"//decimal to hexadecimal conversion//\n",
"b=dec2bin(z)\n",
"//decimal to binary conversion//\n",
"disp('answer in hexadecimal form is:')\n",
"disp(a)\n",
"//answer in hexadecimal form//\n",
"disp('answer in binary form is:')\n",
"disp(b)\n",
"//answer in binary number//"
   ]
   }
,
{
		   "cell_type": "markdown",
		   "metadata": {},
		   "source": [
			"## Example 2.3_a: decimal_representation.sce"
		   ]
		  },
  {
"cell_type": "code",
	   "execution_count": null,
	   "metadata": {
	    "collapsed": true
	   },
	   "outputs": [],
"source": [
"//example 2.3(a)//\n",
"clc\n",
"//clears the command window//\n",
"clear\n",
"//clears//\n",
"p =1;\n",
"//initialising//\n",
"q =1;\n",
"z =0;\n",
"b =0;\n",
"w =0;\n",
"f =0;\n",
"//bin= input ( ” Enter the binary no to be converted to its decimal equivalent : ”)\n",
"//accepting the binary input from user//\n",
"bin =101101.10101;\n",
"d = modulo(bin,1) ;\n",
"//separating the decimal part and the integer part//\n",
"d= d *10^10;\n",
"a = floor(bin) ;\n",
"//removing the decimal part//\n",
"while (a >0)\n",
"// Loop to take the binary bits of integer into a matrix//\n",
"r = modulo (a ,10) ;\n",
"b(1,q) = r ;\n",
"a=a/10;\n",
"a=floor( a ) ;\n",
"q = q +1;\n",
"end\n",
"for m =1: q -1\n",
"// multipliying the bits of integer with their position values and adding//\n",
"c=m -1;\n",
"f=f+b(1,m)*(2^c);\n",
"end\n",
"while (d >0)\n",
"   // Loop to take the binary bits of decimal into a matrix//\n",
"    e = modulo (d ,2)\n",
"    w (1 , p ) = e\n",
"    d = d /10;\n",
"    d = floor ( d )\n",
"    p = p +1;\n",
"    end\n",
"for n =1: p -1 \n",
"//multipliying the bits of decimal with their position values and adding//\n",
"z = z + w (1 , n ) *(0.5) ^(11 - n ) ;\n",
"end\n",
"z = z *10000;\n",
"//rounding of to 4 decimal values//\n",
"z = round ( z ) ;\n",
"z = z /10000;\n",
"x=f+z;\n",
"disp('The Decimal equivalent of the Binary number given is');\n",
"disp(x);\n",
"//Displaying the final result//"
   ]
   }
,
{
		   "cell_type": "markdown",
		   "metadata": {},
		   "source": [
			"## Example 2.3_b: decimal_representation.sce"
		   ]
		  },
  {
"cell_type": "code",
	   "execution_count": null,
	   "metadata": {
	    "collapsed": true
	   },
	   "outputs": [],
"source": [
"//example 2.3 (b)//\n",
"clc\n",
"//clears the command window//\n",
"clear\n",
"//clears//\n",
"p =1;\n",
"//initialising//\n",
"q =1;\n",
"z =0;\n",
"b =0;\n",
"w =0;\n",
"f =0;\n",
"//bin= input ( ” Enter the binary no to be converted to its decimal equivalent : ”)\n",
"//accepting the binary input from user//\n",
"bin =1100.1011;\n",
"d = modulo(bin,1) ;\n",
"//separating the decimal part and the integer part//\n",
"d= d *10^10;\n",
"a = floor(bin) ;\n",
"//removing the decimal part//\n",
"while (a >0)\n",
"// Loop to take the binary bits of integer into a matrix//\n",
"r = modulo (a ,10) ;\n",
"b(1,q) = r ;\n",
"a=a/10;\n",
"a=floor( a ) ;\n",
"q = q +1;\n",
"end\n",
"for m =1: q -1\n",
"// multipliying the bits of integer with their position values and adding//\n",
"c=m -1;\n",
"f=f+b(1,m)*(2^c);\n",
"end\n",
"while (d >0)\n",
"   // Loop to take the binary bits of decimal into a matrix//\n",
"    e = modulo (d ,2)\n",
"    w (1 , p ) = e\n",
"    d = d /10;\n",
"    d = floor ( d )\n",
"    p = p +1;\n",
"    end\n",
"for n =1: p -1 \n",
"//multipliying the bits of decimal with their position values and adding//\n",
"z = z + w (1 , n ) *(0.5) ^(11 - n ) ;\n",
"end\n",
"z = z *10000;\n",
"//rounding of to 4 decimal values//\n",
"z = round ( z ) ;\n",
"z = z /10000;\n",
"x=f+z;\n",
"disp('The Decimal equivalent of the Binary number given is');\n",
"disp(x);\n",
"//Displaying the final result//"
   ]
   }
,
{
		   "cell_type": "markdown",
		   "metadata": {},
		   "source": [
			"## Example 2.3_c: decimal_conversion.sce"
		   ]
		  },
  {
"cell_type": "code",
	   "execution_count": null,
	   "metadata": {
	    "collapsed": true
	   },
	   "outputs": [],
"source": [
"//example 2.3(c)//\n",
"clc\n",
"//clears the command window//\n",
"clear\n",
"//clears//\n",
"p =1;\n",
"//initialising//\n",
"q =1;\n",
"z =0;\n",
"b =0;\n",
"w =0;\n",
"f =0;\n",
"//bin= input ( ” Enter the binary no to be converted to its decimal equivalent : ”)\n",
"//accepting the binary input from user//\n",
"bin =1001.0101;\n",
"d = modulo(bin,1) ;\n",
"//separating the decimal part and the integer part//\n",
"d= d *10^10;\n",
"a = floor(bin) ;\n",
"//removing the decimal part//\n",
"while (a >0)\n",
"// Loop to take the binary bits of integer into a matrix//\n",
"r = modulo (a ,10) ;\n",
"b(1,q) = r ;\n",
"a=a/10;\n",
"a=floor( a ) ;\n",
"q = q +1;\n",
"end\n",
"for m =1: q -1\n",
"// multipliying the bits of integer with their position values and adding//\n",
"c=m -1;\n",
"f=f+b(1,m)*(2^c);\n",
"end\n",
"while (d >0)\n",
"   // Loop to take the binary bits of decimal into a matrix//\n",
"    e = modulo (d ,2)\n",
"    w (1 , p ) = e\n",
"    d = d /10;\n",
"    d = floor ( d )\n",
"    p = p +1;\n",
"    end\n",
"for n =1: p -1 \n",
"//multipliying the bits of decimal with their position values and adding//\n",
"z = z + w (1 , n ) *(0.5) ^(11 - n ) ;\n",
"end\n",
"z = z *10000;\n",
"//rounding of to 4 decimal values//\n",
"z = round ( z ) ;\n",
"z = z /10000;\n",
"x=f+z;\n",
"disp('The Decimal equivalent of the Binary number given is');\n",
"disp(x);\n",
"//Displaying the final result//"
   ]
   }
,
{
		   "cell_type": "markdown",
		   "metadata": {},
		   "source": [
			"## Example 2.3_d: decimal_representation.sce"
		   ]
		  },
  {
"cell_type": "code",
	   "execution_count": null,
	   "metadata": {
	    "collapsed": true
	   },
	   "outputs": [],
"source": [
"//example 2.3(d)//\n",
"clc\n",
"//clears the command window//\n",
"clear\n",
"//clears//\n",
"p =1;\n",
"//initialising//\n",
"q =1;\n",
"z =0;\n",
"b =0;\n",
"w =0;\n",
"f =0;\n",
"//bin= input ( ” Enter the binary no to be converted to its decimal equivalent : ”)\n",
"//accepting the binary input from user//\n",
"bin =0.10101;\n",
"d = modulo(bin,1) ;\n",
"//separating the decimal part and the integer part//\n",
"d= d *10^10;\n",
"a = floor(bin) ;\n",
"//removing the decimal part//\n",
"while (a >0)\n",
"// Loop to take the binary bits of integer into a matrix//\n",
"r = modulo (a ,10) ;\n",
"b(1,q) = r ;\n",
"a=a/10;\n",
"a=floor( a ) ;\n",
"q = q +1;\n",
"end\n",
"for m =1: q -1\n",
"// multipliying the bits of integer with their position values and adding//\n",
"c=m -1;\n",
"f=f+b(1,m)*(2^c);\n",
"end\n",
"while (d >0)\n",
"   // Loop to take the binary bits of decimal into a matrix//\n",
"    e = modulo (d ,2)\n",
"    w (1 , p ) = e\n",
"    d = d /10;\n",
"    d = floor ( d )\n",
"    p = p +1;\n",
"    end\n",
"for n =1: p -1 \n",
"//multipliying the bits of decimal with their position values and adding//\n",
"z = z + w (1 , n ) *(0.5) ^(11 - n ) ;\n",
"end\n",
"z = z *10000;\n",
"//rounding of to 4 decimal values//\n",
"z = round ( z ) ;\n",
"z = z /10000;\n",
"x=f+z;\n",
"disp('The Decimal equivalent of the Binary number given is');\n",
"disp(x);\n",
"//Displaying the final result//"
   ]
   }
,
{
		   "cell_type": "markdown",
		   "metadata": {},
		   "source": [
			"## Example 2.4: binary_conversion.sce"
		   ]
		  },
  {
"cell_type": "code",
	   "execution_count": null,
	   "metadata": {
	    "collapsed": true
	   },
	   "outputs": [],
"source": [
"//example 2.4//\n",
"ans=dec2bin(13)\n",
"//conversion of decimal number to binary//\n",
"disp(ans)\n",
"//answer in binary form//"
   ]
   }
,
{
		   "cell_type": "markdown",
		   "metadata": {},
		   "source": [
			"## Example 2.5: conversion.sce"
		   ]
		  },
  {
"cell_type": "code",
	   "execution_count": null,
	   "metadata": {
	    "collapsed": true
	   },
	   "outputs": [],
"source": [
"//example 2.5//\n",
"clc\n",
"//clears the command window//\n",
"clear\n",
"//clears all the variables//\n",
"q =0;\n",
"b =0;\n",
"s =0;\n",
"//a=input(”Enter the decimal no to be converted to its binary equivalent: ”) ;\n",
"//accepting the decimal input from user//\n",
"a =0.65625;\n",
"d = modulo (a ,1) ;\n",
"//separating the decimal part and the integer part//\n",
"a = floor ( a ) ;\n",
"//removing the decimal part//\n",
"while (a >0)\n",
"//taking integer part into a matrix and convert to equivalent binary//\n",
"x = modulo (a ,2) ;\n",
"b = b + (10^ q ) * x ;\n",
"a = a /2;\n",
"a = floor ( a ) ;\n",
"q = q +1;\n",
"end\n",
"for i =1:10\n",
"//For values after decimal point converting to binary//\n",
"d = d *2;\n",
"q = floor ( d ) ;\n",
"s = s + q /(10^ i ) ;\n",
"     if d >=1 then\n",
"             d =d -1;\n",
"     end\n",
"end\n",
"k=b+s;\n",
"disp('The binary equivalent of the given decimal number is =');\n",
"disp(k);\n",
"//displaying the final result ."
   ]
   }
,
{
		   "cell_type": "markdown",
		   "metadata": {},
		   "source": [
			"## Example 2.6_a: dec_to_bi.sce"
		   ]
		  },
  {
"cell_type": "code",
	   "execution_count": null,
	   "metadata": {
	    "collapsed": true
	   },
	   "outputs": [],
"source": [
"//example 2.6(a)//\n",
"clc\n",
"//clears the command window//\n",
"clear\n",
"//clears all the variables//\n",
"q =0;\n",
"b =0;\n",
"s =0;\n",
"//a=input(”Enter the decimal no to be converted to its binary equivalent: ”) ;\n",
"//accepting the decimal input from user//\n",
"a =25.5;\n",
"d = modulo (a ,1) ;\n",
"//separating the decimal part and the integer part//\n",
"a = floor ( a ) ;\n",
"//removing the decimal part//\n",
"while (a >0)\n",
"//taking integer part into a matrix and convert to equivalent binary//\n",
"x = modulo (a ,2) ;\n",
"b = b + (10^ q ) * x ;\n",
"a = a /2;\n",
"a = floor ( a ) ;\n",
"q = q +1;\n",
"end\n",
"for i =1:10\n",
"//For values after decimal point converting to binary//\n",
"d = d *2;\n",
"q = floor ( d ) ;\n",
"s = s + q /(10^ i ) ;\n",
"     if d >=1 then\n",
"             d =d -1;\n",
"     end\n",
"end\n",
"k=b+s;\n",
"disp('The binary equivalent of the given decimal number is =');\n",
"disp(k);\n",
"//displaying the final result//"
   ]
   }
,
{
		   "cell_type": "markdown",
		   "metadata": {},
		   "source": [
			"## Example 2.6_b: dec_to_bi.sce"
		   ]
		  },
  {
"cell_type": "code",
	   "execution_count": null,
	   "metadata": {
	    "collapsed": true
	   },
	   "outputs": [],
"source": [
"//example 2.6(b)//\n",
"clc\n",
"//clears the command window//\n",
"clear\n",
"//clears all the variables//\n",
"q =0;\n",
"b =0;\n",
"s =0;\n",
"//a=input(”Enter the decimal no to be converted to its binary equivalent: ”) ;\n",
"//accepting the decimal input from user//\n",
"a =10.625;\n",
"d = modulo (a ,1) ;\n",
"//separating the decimal part and the integer part//\n",
"a = floor ( a ) ;\n",
"//removing the decimal part//\n",
"while (a >0)\n",
"//taking integer part into a matrix and convert to equivalent binary//\n",
"x = modulo (a ,2) ;\n",
"b = b + (10^ q ) * x ;\n",
"a = a /2;\n",
"a = floor ( a ) ;\n",
"q = q +1;\n",
"end\n",
"for i =1:10\n",
"//For values after decimal point converting to binary//\n",
"d = d *2;\n",
"q = floor ( d ) ;\n",
"s = s + q /(10^ i ) ;\n",
"     if d >=1 then\n",
"             d =d -1;\n",
"     end\n",
"end\n",
"k=b+s;\n",
"disp('The binary equivalent of the given decimal number is =');\n",
"disp(k);\n",
"//displaying the final result ."
   ]
   }
,
{
		   "cell_type": "markdown",
		   "metadata": {},
		   "source": [
			"## Example 2.6_c: dec_to_bi.sce"
		   ]
		  },
  {
"cell_type": "code",
	   "execution_count": null,
	   "metadata": {
	    "collapsed": true
	   },
	   "outputs": [],
"source": [
"//example 2.6(c)//\n",
"clc\n",
"//clears the command window//\n",
"clear\n",
"//clears all the variables//\n",
"q =0;\n",
"b =0;\n",
"s =0;\n",
"//a=input(”Enter the decimal no to be converted to its binary equivalent: ”) ;\n",
"//accepting the decimal input from user//\n",
"a =0.6875;\n",
"d = modulo (a ,1) ;\n",
"//separating the decimal part and the integer part//\n",
"a = floor ( a ) ;\n",
"//removing the decimal part//\n",
"while (a >0)\n",
"//taking integer part into a matrix and convert to equivalent binary//\n",
"x = modulo (a ,2) ;\n",
"b = b + (10^ q ) * x ;\n",
"a = a /2;\n",
"a = floor ( a ) ;\n",
"q = q +1;\n",
"end\n",
"for i =1:10\n",
"//For values after decimal point converting to binary//\n",
"d = d *2;\n",
"q = floor ( d ) ;\n",
"s = s + q /(10^ i ) ;\n",
"     if d >=1 then\n",
"             d =d -1;\n",
"     end\n",
"end\n",
"k=b+s;\n",
"disp('The binary equivalent of the given decimal number is =');\n",
"disp(k);\n",
"//displaying the final result//"
   ]
   }
,
{
		   "cell_type": "markdown",
		   "metadata": {},
		   "source": [
			"## Example 2.8_a: ones_complement.sce"
		   ]
		  },
  {
"cell_type": "code",
	   "execution_count": null,
	   "metadata": {
	    "collapsed": true
	   },
	   "outputs": [],
"source": [
"//example 2.8(a)//\n",
"//one's complement of binary number//\n",
"clc\n",
"//clears the screen//\n",
"clear\n",
"//clears all the existing variables//\n",
"x=bin2dec('0100111001')\n",
"//entering the data in binary form//\n",
"ans=dec2bin(bitcmp(x,10))\n",
"disp(ans);\n",
"//result will be displayed//"
   ]
   }
,
{
		   "cell_type": "markdown",
		   "metadata": {},
		   "source": [
			"## Example 2.8_b: ones_complement_of_unsigned_no.sce"
		   ]
		  },
  {
"cell_type": "code",
	   "execution_count": null,
	   "metadata": {
	    "collapsed": true
	   },
	   "outputs": [],
"source": [
"//example 2.8(b)//\n",
"//one's complement of binary number//\n",
"clc\n",
"//clears the screen//\n",
"clear\n",
"//clears all the existing variables//\n",
"x=bin2dec('11011010')\n",
"//entering the data in binary form//\n",
"ans=dec2bin(bitcmp(x,8))\n",
"disp(ans);\n",
"//result will be displayed//"
   ]
   }
,
{
		   "cell_type": "markdown",
		   "metadata": {},
		   "source": [
			"## Example 2.9_a: ones_comp.sce"
		   ]
		  },
  {
"cell_type": "code",
	   "execution_count": null,
	   "metadata": {
	    "collapsed": true
	   },
	   "outputs": [],
"source": [
"//example 2.9(a)//\n",
"//representation in 1's complement form//\n",
"clc\n",
"//clears the screen//\n",
"clear\n",
"//clears all the existing variables//\n",
"x=7\n",
"//x=+7//y=-x//\n",
"xb=dec2bin(7)\n",
"//xb means binary conversion of x to its one's complement form//\n",
"xc=dec2bin(bitcmp(7,4))\n",
"//xc means conversion of y in its one's complement form//\n",
"disp('displaying result of +7 and -7 in ones complement form')\n",
"disp(x)\n",
"printf('=')\n",
"disp(xb)\n",
"//displaying answer in one's complement form//\n",
"disp(-x)\n",
"printf('=')\n",
"disp(xc)\n",
"//answer in one's complement form//"
   ]
   }
,
{
		   "cell_type": "markdown",
		   "metadata": {},
		   "source": [
			"## Example 2.9_b: ones_complement_of_signed_no.sce"
		   ]
		  },
  {
"cell_type": "code",
	   "execution_count": null,
	   "metadata": {
	    "collapsed": true
	   },
	   "outputs": [],
"source": [
"//example 2.9(b)//\n",
"//representation in 1's complement form//\n",
"clc\n",
"//clears the window//\n",
"clear\n",
"//clears all the existing variables//\n",
"x=8\n",
"//x=+8//y=-x//\n",
"xb=dec2bin(8)\n",
"//xb means binary conversion of x to its one's complement form//\n",
"xc=dec2bin(bitcmp(8,5))\n",
"//xc means conversion of y in its one's complement form//\n",
"disp(x)\n",
"printf('=')\n",
"disp(xb)\n",
"//displaying answer in one's complement form//\n",
"disp(-x)\n",
"printf('=')\n",
"disp(xc)\n",
"//answer in one's complement form//"
   ]
   }
,
{
		   "cell_type": "markdown",
		   "metadata": {},
		   "source": [
			"## Example 2.9_c: ones_complement_of_signed_no.sce"
		   ]
		  },
  {
"cell_type": "code",
	   "execution_count": null,
	   "metadata": {
	    "collapsed": true
	   },
	   "outputs": [],
"source": [
"//example 2.9(c)//\n",
"//representation in 1's complement form//\n",
"clc\n",
"//clears the window//\n",
"clear\n",
"//clears all the existing variables//\n",
"x=15\n",
"//x=+15//y=-x//\n",
"xb=dec2bin(15)\n",
"//xb means binary conversion of x to its one's complement form//\n",
"xc=dec2bin(bitcmp(15,5))\n",
"//xc means conversion of y in its one's complement form//\n",
"disp(x)\n",
"printf('=')\n",
"disp(xb)\n",
"//displaying answer in one's complement form//\n",
"disp(-x)\n",
"printf('=')\n",
"disp(xc)\n",
"//answer in one's complement form//"
   ]
   }
],
"metadata": {
		  "kernelspec": {
		   "display_name": "Scilab",
		   "language": "scilab",
		   "name": "scilab"
		  },
		  "language_info": {
		   "file_extension": ".sce",
		   "help_links": [
			{
			 "text": "MetaKernel Magics",
			 "url": "https://github.com/calysto/metakernel/blob/master/metakernel/magics/README.md"
			}
		   ],
		   "mimetype": "text/x-octave",
		   "name": "scilab",
		   "version": "0.7.1"
		  }
		 },
		 "nbformat": 4,
		 "nbformat_minor": 0
}
