{
"cells": [
 {
		   "cell_type": "markdown",
	   "metadata": {},
	   "source": [
       "# Chapter 7: Flip flops"
	   ]
	},
{
		   "cell_type": "markdown",
		   "metadata": {},
		   "source": [
			"## Example 7.1: clocked_SR_flip_flop.sce"
		   ]
		  },
  {
"cell_type": "code",
	   "execution_count": null,
	   "metadata": {
	    "collapsed": true
	   },
	   "outputs": [],
"source": [
"//example 7.1//\n",
"clc\n",
"//clears the screen//\n",
"clear\n",
"//clears the command window//\n",
"e=input('Enter the enable i/p level (1or0) :');\n",
"//accepting the input of enable//\n",
"r=input('enter the R i/p level(1or0):');\n",
"//accepting the inputs from the user//\n",
"s=input('enter the S i/p level(1or0):');\n",
"//accepting the input S from the user//\n",
"qn=input('Enter the previous output value (1or0):');\n",
"//accepting the old input from the user//\n",
"flag=0;\n",
"if e==0 then\n",
"//calculating the output//\n",
"op=qn ;\n",
"elseif(s==0 & r ==0) then\n",
"op=qn ;\n",
"elseif ( s ==1& r ==1) then\n",
"disp('The inputs are illegal')\n",
"flag=1;\n",
"else\n",
"op=s;\n",
"end\n",
"if(flag==0)\n",
"disp('output(Qn+1)=')\n",
"disp(op)\n",
"end\n",
"\n",
"//displaying the output//"
   ]
   }
,
{
		   "cell_type": "markdown",
		   "metadata": {},
		   "source": [
			"## Example 7.2: convert_SR_flip_flop_to_JK_flip_flop.sce"
		   ]
		  },
  {
"cell_type": "code",
	   "execution_count": null,
	   "metadata": {
	    "collapsed": true
	   },
	   "outputs": [],
"source": [
"//example 7.2//\n",
"clc\n",
"//clears the screen//\n",
"clear\n",
"//clears the command window//\n",
"disp('for SR flip flop Q(n+1)=S+R''Q(n)')\n",
"disp('thus with S=JQ'' & R = KQ we get circuit which behaves like JK flip flop')"
   ]
   }
],
"metadata": {
		  "kernelspec": {
		   "display_name": "Scilab",
		   "language": "scilab",
		   "name": "scilab"
		  },
		  "language_info": {
		   "file_extension": ".sce",
		   "help_links": [
			{
			 "text": "MetaKernel Magics",
			 "url": "https://github.com/calysto/metakernel/blob/master/metakernel/magics/README.md"
			}
		   ],
		   "mimetype": "text/x-octave",
		   "name": "scilab",
		   "version": "0.7.1"
		  }
		 },
		 "nbformat": 4,
		 "nbformat_minor": 0
}
