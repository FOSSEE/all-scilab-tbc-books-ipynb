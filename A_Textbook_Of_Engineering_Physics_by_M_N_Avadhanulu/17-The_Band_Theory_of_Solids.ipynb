{
"cells": [
 {
		   "cell_type": "markdown",
	   "metadata": {},
	   "source": [
       "# Chapter 17: The Band Theory of Solids"
	   ]
	},
{
		   "cell_type": "markdown",
		   "metadata": {},
		   "source": [
			"## Example 17.1: calculation_of_velocity_of_fraction_of_free_electrone.sce"
		   ]
		  },
  {
"cell_type": "code",
	   "execution_count": null,
	   "metadata": {
	    "collapsed": true
	   },
	   "outputs": [],
"source": [
"clc;clear;\n",
"//Example 17.1\n",
"//calculation of probability\n",
"\n",
"//given values\n",
"E=.01;//energy difference in eV\n",
"kT=.026;//temperture equivalent at room temp in e\n",
"\n",
"//calculation\n",
"P=1/(1+(%e^(E/kT)));\n",
"\n",
"disp(P,'interatomic spacing  is');"
   ]
   }
,
{
		   "cell_type": "markdown",
		   "metadata": {},
		   "source": [
			"## Example 17.2: calculation_of_velocity_of_e.sce"
		   ]
		  },
  {
"cell_type": "code",
	   "execution_count": null,
	   "metadata": {
	    "collapsed": true
	   },
	   "outputs": [],
"source": [
"clc;clear;\n",
"//Example 17.2\n",
"//calculation of velocity of e\n",
"\n",
"//given values\n",
"e=1.6*10^-19;//charge of e in C\n",
"E=2.1*e;//fermi level in J\n",
"m=9.1*10^-31;//mass of e in kg\n",
"\n",
"//calculation\n",
"v=sqrt(2*E/m);\n",
"\n",
"disp(v,'velocity of e(in m/s)');"
   ]
   }
,
{
		   "cell_type": "markdown",
		   "metadata": {},
		   "source": [
			"## Example 17.3: calculation_of_velocity_of_fraction_of_free_electrones.sce"
		   ]
		  },
  {
"cell_type": "code",
	   "execution_count": null,
	   "metadata": {
	    "collapsed": true
	   },
	   "outputs": [],
"source": [
"clc;clear;\n",
"//Example 17.3\n",
"//calculation of velocity of fraction of free electrons\n",
"\n",
"//given values\n",
"E=5.5;//fermi level in eV\n",
"kT=.026;//temperture equivalent at room temp in e\n",
"\n",
"//calculation\n",
"f=2*kT/E;\n",
"\n",
"disp(f,'fraction of free electrone\s upto width kT on either side of Ef is');"
   ]
   }
],
"metadata": {
		  "kernelspec": {
		   "display_name": "Scilab",
		   "language": "scilab",
		   "name": "scilab"
		  },
		  "language_info": {
		   "file_extension": ".sce",
		   "help_links": [
			{
			 "text": "MetaKernel Magics",
			 "url": "https://github.com/calysto/metakernel/blob/master/metakernel/magics/README.md"
			}
		   ],
		   "mimetype": "text/x-octave",
		   "name": "scilab",
		   "version": "0.7.1"
		  }
		 },
		 "nbformat": 4,
		 "nbformat_minor": 0
}
