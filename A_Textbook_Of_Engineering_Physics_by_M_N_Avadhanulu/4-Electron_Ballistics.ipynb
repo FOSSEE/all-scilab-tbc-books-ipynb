{
"cells": [
 {
		   "cell_type": "markdown",
	   "metadata": {},
	   "source": [
       "# Chapter 4: Electron Ballistics"
	   ]
	},
{
		   "cell_type": "markdown",
		   "metadata": {},
		   "source": [
			"## Example 4.1: EX4_1.sce"
		   ]
		  },
  {
"cell_type": "code",
	   "execution_count": null,
	   "metadata": {
	    "collapsed": true
	   },
	   "outputs": [],
"source": [
"clc;clear;\n",
"//Example 4.1\n",
"//Calculation of acceleration,time taken,distance covered and kinetic energy of an accelerating proton\n",
"\n",
"//given values\n",
" m=1.67*10^-27;//mass of proton in kg\n",
" q=1.602*10^-19;//charge of proton in Coulomb\n",
" v1=0;//initial velocity in m/s\n",
" v2=2.5*10^6;//final velocity in m/s\n",
" E=500;//electric field strength in V/m\n",
" //calculation\n",
" a=E*q/m;//acceleration\n",
"disp(a,'acceleration of proton in (m/s^2) is:');\n",
"t=v2/a;//time\n",
"disp(t,'time(in s) taken by proton to reach the final velocity is:');\n",
"x=a*t^2/2;//distance\n",
"disp(x,'distance (in m)covered by proton in this time is:');\n",
"KE=E*q*x;//kinetic energy\n",
"disp(KE,'kinetic energy(in J) at the time is:');\n",
""
   ]
   }
,
{
		   "cell_type": "markdown",
		   "metadata": {},
		   "source": [
			"## Example 4.2: electrostatic_deflectio.sce"
		   ]
		  },
  {
"cell_type": "code",
	   "execution_count": null,
	   "metadata": {
	    "collapsed": true
	   },
	   "outputs": [],
"source": [
"clc;clear;\n",
"//Example 4.2\n",
"//electrostatic deflection\n",
"//given values\n",
"V1=2000;//in volts,potential difference through which electron beam is accelerated\n",
"l=.04;//length of rectangular plates\n",
"d=.015;//distance between plates\n",
"V=50;//potential difference between plates\n",
"//calculations\n",
"alpha=atan(l*V/(2*d*V1))*(180/%pi);//in degrees\n",
"disp(alpha,'angle of deflection of electron beam is:');\n",
"v=5.93*10^5*sqrt(V1);//horizontal velocity in m/s\n",
"t=l/v;//in s\n",
"disp(t,'transit time through electric field is:')"
   ]
   }
,
{
		   "cell_type": "markdown",
		   "metadata": {},
		   "source": [
			"## Example 4.3: electron_projected_at_an_angle_into_a_uniform_electric_field.sce"
		   ]
		  },
  {
"cell_type": "code",
	   "execution_count": null,
	   "metadata": {
	    "collapsed": true
	   },
	   "outputs": [],
"source": [
"clc;clear;\n",
"//Example 4.3\n",
"//electron projected at an angle into a uniform electric field\n",
"//given values\n",
"v1=4.5*10^5;//initial speed in m/s\n",
"alpha=37*%pi/180;//angle of projection in degrees\n",
"E=200;//electric field intensity in N/C\n",
"e=1.6*10^-19;//in C\n",
"m=9.1*10^-31;//in kg\n",
"a=e*E/m;//acceleration in m/s^2\n",
"t=2*v1*sin(alpha)/a;//time in s\n",
"disp(t,'time taken by electron to return to its initial level is:')\n",
"H=(v1^2*sin(alpha)*sin(alpha))/(2*a);//height in m\n",
"disp(H,'maximum height reached by electron is:')\n",
"s=(v1^2)*(2*sin(alpha)*cos(alpha))/(2*a);//displacement in m\n",
"disp(s,'horizontal displacement(in m)when it reaches maximum height is:')"
   ]
   }
,
{
		   "cell_type": "markdown",
		   "metadata": {},
		   "source": [
			"## Example 4.4: motion_of_an_electron_in_a_uniform_magnetic_field.sce"
		   ]
		  },
  {
"cell_type": "code",
	   "execution_count": null,
	   "metadata": {
	    "collapsed": true
	   },
	   "outputs": [],
"source": [
"clc;clear;\n",
"//Example 4.4\n",
"//motion of an electron in a uniform magnetic field\n",
"//given values\n",
"V=200;//potential difference through which electron is accelerated in volts\n",
"B=0.01;//magnetic field in wb/m^2\n",
"e=1.6*10^-19;//in C\n",
"m=9.1*10^-31;//in kg\n",
"v=sqrt(2*e*V/m);//electron velocity in m/s\n",
"disp(v,'electron velocity is:')\n",
"r=m*v/(e*B);//in m\n",
"disp(r,'radius of path (in m)is:')"
   ]
   }
,
{
		   "cell_type": "markdown",
		   "metadata": {},
		   "source": [
			"## Example 4.5: motion_of_an_electron_in_a_uniform_magnetic_field_acting_at_an_angle.sce"
		   ]
		  },
  {
"cell_type": "code",
	   "execution_count": null,
	   "metadata": {
	    "collapsed": true
	   },
	   "outputs": [],
"source": [
"clc;clear;\n",
"//Example 4.5\n",
"//motion of an electron in a uniform magnetic field acting at an angle\n",
"//given values\n",
"v=3*10^7;//electron speed\n",
"B=.23;//magnetic field in wb/m^2\n",
"q=45*%pi/180;//in degrees,angle in which electron enter field\n",
"e=1.6*10^-19;//in C\n",
"m=9.1*10^-31;//in kg\n",
"R=m*v*sin(q)/(e*B);//in m\n",
"disp(R,'radius of helical path is:')\n",
"p=2*%pi*m*v*cos(q)/(e*B);//in m\n",
"disp(p,'pitch of helical path(in m) is:')"
   ]
   }
,
{
		   "cell_type": "markdown",
		   "metadata": {},
		   "source": [
			"## Example 4.6: Magnetostatic_deflection.sce"
		   ]
		  },
  {
"cell_type": "code",
	   "execution_count": null,
	   "metadata": {
	    "collapsed": true
	   },
	   "outputs": [],
"source": [
"clc;clear;\n",
"//Example 4.6\n",
"//Magnetostatic deflection\n",
"//given values\n",
"D=.03;//deflection in m\n",
"m=9.1*10^-31;//in kg\n",
"e=1.6*10^-19;//in C\n",
"L=.15;//distance between CRT and anode in m\n",
"l=L/2;\n",
"V=2000;//in voltsin wb/\n",
"B=D*sqrt(2*m*V)/(L*l*sqrt(e));//in wb/m^2\n",
"disp(B,'transverse magnetic field acting (in wb/m^2)is:')"
   ]
   }
,
{
		   "cell_type": "markdown",
		   "metadata": {},
		   "source": [
			"## Example 4.7: electric_and_magnetic_fields_in_crossed_configuration.sce"
		   ]
		  },
  {
"cell_type": "code",
	   "execution_count": null,
	   "metadata": {
	    "collapsed": true
	   },
	   "outputs": [],
"source": [
"clc;clear;\n",
"//Example 4.7\n",
"//electric and magnetic fields in crossed configuration\n",
"//given values\n",
"B=2*10^-3;//magnetic field in wb/m^2\n",
"E=3.4*10^4;//electric field in V/m\n",
"m=9.1*10^-31;//in kg\n",
"e=1.6*10^-19;//in C\n",
"v=E/B;//in m/s\n",
"disp(v,'electron speed is:')\n",
"R=m*v/(e*B);//in m\n",
"disp(R,'radius of circular path (in m) when electric field is switched off')"
   ]
   }
],
"metadata": {
		  "kernelspec": {
		   "display_name": "Scilab",
		   "language": "scilab",
		   "name": "scilab"
		  },
		  "language_info": {
		   "file_extension": ".sce",
		   "help_links": [
			{
			 "text": "MetaKernel Magics",
			 "url": "https://github.com/calysto/metakernel/blob/master/metakernel/magics/README.md"
			}
		   ],
		   "mimetype": "text/x-octave",
		   "name": "scilab",
		   "version": "0.7.1"
		  }
		 },
		 "nbformat": 4,
		 "nbformat_minor": 0
}
