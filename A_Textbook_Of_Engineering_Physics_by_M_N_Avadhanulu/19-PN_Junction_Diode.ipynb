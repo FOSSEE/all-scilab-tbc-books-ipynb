{
"cells": [
 {
		   "cell_type": "markdown",
	   "metadata": {},
	   "source": [
       "# Chapter 19: PN Junction Diode"
	   ]
	},
{
		   "cell_type": "markdown",
		   "metadata": {},
		   "source": [
			"## Example 19.1: calculation_of_potential_barrier.sce"
		   ]
		  },
  {
"cell_type": "code",
	   "execution_count": null,
	   "metadata": {
	    "collapsed": true
	   },
	   "outputs": [],
"source": [
"clc;clear;\n",
"//Example 19.1\n",
"//calculation of potential barrier\n",
"\n",
"//given values\n",
"e=1.6*10^-19;\n",
"n=4.4*10^28;//no of atoms per m^3\n",
"kT=.026*e;//temp eqvlnt at room temp\n",
"ni=2.4*10^19;//no of intrinsic carriers per m^3\n",
"NA=n/10^6;//no of acceptors\n",
"ND=n/10^6;//no of donors\n",
"\n",
"//calculation\n",
"V=(kT/e)*log(NA*ND/ni^2);\n",
"disp(V,'potential barrier in volts is');"
   ]
   }
,
{
		   "cell_type": "markdown",
		   "metadata": {},
		   "source": [
			"## Example 19.2: calculation_of_current.sce"
		   ]
		  },
  {
"cell_type": "code",
	   "execution_count": null,
	   "metadata": {
	    "collapsed": true
	   },
	   "outputs": [],
"source": [
"clc;clear;\n",
"//Example 19.2\n",
"//calculation of current\n",
"\n",
"//given values\n",
"e=1.6*10^-19;\n",
"kT=.026*e;//temp eqvlnt at room temp\n",
"Io=2*10^-7;//current flowing at room temp in A\n",
"V=.1;//forward bias voltage in volts\n",
"\n",
"//calculation\n",
"I=Io*(%e^(e*V/kT)-1);//in Ampere\n",
"disp(I*10^6,'current flowing when forward bias applied(in microampere)is');"
   ]
   }
],
"metadata": {
		  "kernelspec": {
		   "display_name": "Scilab",
		   "language": "scilab",
		   "name": "scilab"
		  },
		  "language_info": {
		   "file_extension": ".sce",
		   "help_links": [
			{
			 "text": "MetaKernel Magics",
			 "url": "https://github.com/calysto/metakernel/blob/master/metakernel/magics/README.md"
			}
		   ],
		   "mimetype": "text/x-octave",
		   "name": "scilab",
		   "version": "0.7.1"
		  }
		 },
		 "nbformat": 4,
		 "nbformat_minor": 0
}
