{
"cells": [
 {
		   "cell_type": "markdown",
	   "metadata": {},
	   "source": [
       "# Chapter 21: Magnetic Materials"
	   ]
	},
{
		   "cell_type": "markdown",
		   "metadata": {},
		   "source": [
			"## Example 21.1: calculation_of_magnetizing_force_and_relative_permeability.sce"
		   ]
		  },
  {
"cell_type": "code",
	   "execution_count": null,
	   "metadata": {
	    "collapsed": true
	   },
	   "outputs": [],
"source": [
"clc;clear;\n",
"//Example 21.1\n",
"//calculation of magnetizing force and relative permeability\n",
"\n",
"//given values\n",
"M=2300;//magnetization in A/m\n",
"B=.00314;//flux density in Wb/m^2\n",
"u=12.57*10^-7;//permeability in H/m\n",
"\n",
"//calculation\n",
"H=(B/u)-M;\n",
"disp(H,'magnetizing force(in A/m)is ');\n",
"Ur=B/(u*H);\n",
"disp(Ur,'relative permeability is')"
   ]
   }
,
{
		   "cell_type": "markdown",
		   "metadata": {},
		   "source": [
			"## Example 21.2: calculation_of_magnetization_and_magnetic_flux_density.sce"
		   ]
		  },
  {
"cell_type": "code",
	   "execution_count": null,
	   "metadata": {
	    "collapsed": true
	   },
	   "outputs": [],
"source": [
"clc;clear;\n",
"//Example 21.2\n",
"//calculation of magnetization and magnetic flux density\n",
"\n",
"//given values\n",
"H=10^5;//external field  in A/m\n",
"X=5*10^-5;//susceptibility \n",
"u=12.57*10^-7;//permeability in H/m\n",
"\n",
"//calculation\n",
"M=X*H;\n",
"disp(M,'magnetization (in A/m)is ');\n",
"B=u*(M+H);\n",
"disp(B,'magnetic flux density (in wb/m^2) is')"
   ]
   }
,
{
		   "cell_type": "markdown",
		   "metadata": {},
		   "source": [
			"## Example 21.3: calculation_of_relative_permeability.sce"
		   ]
		  },
  {
"cell_type": "code",
	   "execution_count": null,
	   "metadata": {
	    "collapsed": true
	   },
	   "outputs": [],
"source": [
"clc;clear;\n",
"//Example 21.3\n",
"//calculation of relative permeability\n",
"\n",
"//given values\n",
"\n",
"X=3.7*10^-3;//susceptibility at 300k\n",
"T=300;//temp in K\n",
"T1=200;//temp in K\n",
"T2=500;//temp in K\n",
"\n",
"//calculation\n",
"C=X*T;//curie constant\n",
"XT1=C/T1;\n",
"disp(XT1,'relative permeability at T1 is ');\n",
"XT2=C/T2;\n",
"disp(XT2,'relative permeability at T2 is')"
   ]
   }
],
"metadata": {
		  "kernelspec": {
		   "display_name": "Scilab",
		   "language": "scilab",
		   "name": "scilab"
		  },
		  "language_info": {
		   "file_extension": ".sce",
		   "help_links": [
			{
			 "text": "MetaKernel Magics",
			 "url": "https://github.com/calysto/metakernel/blob/master/metakernel/magics/README.md"
			}
		   ],
		   "mimetype": "text/x-octave",
		   "name": "scilab",
		   "version": "0.7.1"
		  }
		 },
		 "nbformat": 4,
		 "nbformat_minor": 0
}
