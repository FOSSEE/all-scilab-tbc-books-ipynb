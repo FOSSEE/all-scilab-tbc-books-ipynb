{
"cells": [
 {
		   "cell_type": "markdown",
	   "metadata": {},
	   "source": [
       "# Chapter 15: Atomic nucleus and nuclear energy"
	   ]
	},
{
		   "cell_type": "markdown",
		   "metadata": {},
		   "source": [
			"## Example 15.10: calculation_of_crossection.sce"
		   ]
		  },
  {
"cell_type": "code",
	   "execution_count": null,
	   "metadata": {
	    "collapsed": true
	   },
	   "outputs": [],
"source": [
"clc;clear;\n",
"//Example 15.10\n",
"//calculation of crosssection\n",
"\n",
"//given values\n",
"t=.01*10^-3;//thickness in m\n",
"n=10^13;//no of protons bombarding target per s\n",
"NA=6.02*10^26;//avogadro's number\n",
"M=7;//atomic mass of lithium in kg\n",
"d=500;//density of lithium in kg/m^3\n",
"n0=10^8;//no of neutrons produced per s\n",
"//calculation\n",
"n1=d*NA/M;//no of target nuclei per unit volume\n",
"n2=n1*t;//no of target nuclei per area\n",
"A=n0/(n*n2);\n",
"disp(A,'crosssection(in m^2) for this reaction is');"
   ]
   }
,
{
		   "cell_type": "markdown",
		   "metadata": {},
		   "source": [
			"## Example 15.11: calculation_of_final_energy.sce"
		   ]
		  },
  {
"cell_type": "code",
	   "execution_count": null,
	   "metadata": {
	    "collapsed": true
	   },
	   "outputs": [],
"source": [
"clc;clear;\n",
"//Example 15.11\n",
"//calculation of final energy \n",
"\n",
"//given values\n",
"B=.4;//max magnetic field in Wb/m^2\n",
"c=3*10^8;\n",
"e=1.6*10^-19;\n",
"d=1.52;//diametre in m\n",
"r=d/2;\n",
"\n",
"//calculation\n",
"E=B*e*r*c;//E=pc,p=mv=Ber\n",
"disp(E,'final energy of e(in J) is');\n",
"E1=(E/e)/10^6;\n",
"disp(E1,'final energy of e (in MeV) is');"
   ]
   }
,
{
		   "cell_type": "markdown",
		   "metadata": {},
		   "source": [
			"## Example 15.12: calculation_of_amount_of_fuel.sce"
		   ]
		  },
  {
"cell_type": "code",
	   "execution_count": null,
	   "metadata": {
	    "collapsed": true
	   },
	   "outputs": [],
"source": [
"clc;clear;\n",
"//Example 15.12\n",
"//calculation of amount of fuel\n",
"\n",
"//given values\n",
"P=100*10^6;//power required by city\n",
"M=235;//atomic mass of Uranium in g\n",
"e=20/100;//conversion efficiency\n",
"NA=6.02*10^26;//avogadros number\n",
"E=200*10^6*1.6*10^-19;//energy released per fission\n",
"t=8.64*10^4;//day in seconds\n",
"\n",
"\n",
"//calculation\n",
"E1=P*t;//energy requirement\n",
"m=E1*M/(NA*e*E);//no of nuclei N=NA*m/M,energy released by m kg is N*E,energy requirement=e*N*E\n",
"disp(m,'amount of fuel(in kg) required is');"
   ]
   }
,
{
		   "cell_type": "markdown",
		   "metadata": {},
		   "source": [
			"## Example 15.13: calculation_of_power_output.sce"
		   ]
		  },
  {
"cell_type": "code",
	   "execution_count": null,
	   "metadata": {
	    "collapsed": true
	   },
	   "outputs": [],
"source": [
"clc;clear;\n",
"//Example 15.13\n",
"//calculation of power output\n",
"\n",
"//given values\n",
"M=235;//atomic mass of Uranium in kg\n",
"e=5/100;//reactor efficiency\n",
"m=25/1000;//amount of uranium consumed per day in kg\n",
"E=200*10^6*1.6*10^-19;//energy released per fission\n",
"t=8.64*10^4;//day in seconds\n",
"NA=6.02*10^26;//avogadros number\n",
"\n",
"//calculation\n",
"n=NA*m/M;//no of nuclei in 25g\n",
"E1=n*E;//energy produced by n nuclei\n",
"E2=E1*e;//energy converted to power\n",
"P=E2/t;//power output in Watt\n",
"disp(P/10^6,'power output in MW is');"
   ]
   }
,
{
		   "cell_type": "markdown",
		   "metadata": {},
		   "source": [
			"## Example 15.14: calculation_of_power_developed.sce"
		   ]
		  },
  {
"cell_type": "code",
	   "execution_count": null,
	   "metadata": {
	    "collapsed": true
	   },
	   "outputs": [],
"source": [
"clc;clear;\n",
"//Example 15.14\n",
"//calculation of power developed\n",
"\n",
"//given values\n",
"M=235;//atomic mass of Uranium in kg\n",
"m=20.4;//amount of uranium consumed per day in kg\n",
"E=200*10^6*1.6*10^-19;//energy released per fission\n",
"t=3600*1000;//time of operation\n",
"NA=6.02*10^26;//avogadros number\n",
"\n",
"//calculation\n",
"n=NA*m/M;//no of nuclei in 20.4kg\n",
"E1=n*E;//energy produced by n nuclei\n",
"P=E1/t;//in Watt\n",
"disp(P/10^6,'power developed in MW is');"
   ]
   }
,
{
		   "cell_type": "markdown",
		   "metadata": {},
		   "source": [
			"## Example 15.15: calculation_of_amount_of_dueterium_consumed.sce"
		   ]
		  },
  {
"cell_type": "code",
	   "execution_count": null,
	   "metadata": {
	    "collapsed": true
	   },
	   "outputs": [],
"source": [
"clc;clear;\n",
"//Example 15.15\n",
"//calculation of amount of dueterium consumed\n",
"\n",
"//given values\n",
"M1=2.01478;//atomic mass of Hydrogen in amu\n",
"M2=4.00388;//atomic mass of Helium in amu\n",
"amu=931;//amu in MeV\n",
"e=30/100;//efficiency\n",
"P=50*10^6;//output power\n",
"NA=6.026*10^26;//avogadro number\n",
"t=8.64*10^4;//seconds in a day\n",
"\n",
"//calculation\n",
"Q=(2*M1-M2)*amu;//energy released in a D-D reaction in MeV\n",
"O=Q*e*10^6/2;//actual output per dueterium atom in eV\n",
"n=P/(O*1.6*10^-19);//no of D atoms required\n",
"m=n*M1/NA;//equivalent mass of D required per s\n",
"X=m*t;\n",
"\n",
"disp(X,'Deuterium requirement per day in kg is');"
   ]
   }
,
{
		   "cell_type": "markdown",
		   "metadata": {},
		   "source": [
			"## Example 15.1: calculation_of_binding_energy_per_nucleon.sce"
		   ]
		  },
  {
"cell_type": "code",
	   "execution_count": null,
	   "metadata": {
	    "collapsed": true
	   },
	   "outputs": [],
"source": [
"clc;clear;\n",
"//Example 15.1\n",
"//calculation of binding energy per nucleon\n",
"\n",
"//given values\n",
"Mp=1.00814;//mass of proton in amu\n",
"Mn=1.008665;//mass of nucleon in amu\n",
"M=7.01822;//mass of Lithium nucleus in amu\n",
"amu=931;//amu in MeV\n",
"n=7-3;//no of neutrons in lithium nucleus\n",
"\n",
"//calculation\n",
"ET=(3*Mp+4*Mn-M)*amu;//total binding energy in MeV\n",
"E=ET/7;//7 1s the mass number\n",
"disp(E,'Binding energy per nucleon in MeV is');"
   ]
   }
,
{
		   "cell_type": "markdown",
		   "metadata": {},
		   "source": [
			"## Example 15.2: calculation_of_energy.sce"
		   ]
		  },
  {
"cell_type": "code",
	   "execution_count": null,
	   "metadata": {
	    "collapsed": true
	   },
	   "outputs": [],
"source": [
"clc;clear;\n",
"//Example 15.2\n",
"//calculation of energy \n",
"\n",
"//given values\n",
"M1=15.00001;//atomic mass of N15 in amu\n",
"M2=15.0030;//atomic mass of O15 in amu\n",
"M3=15.9949;//atomic mass of O16 in amu\n",
"amu=931.4;//amu in MeV\n",
"mp=1.0072766;//restmass of proton\n",
"mn=1.0086654;//restmass of neutron\n",
"\n",
"//calculation\n",
"Q1=(M3-mp-M1)*amu;\n",
"disp(Q1,'energy required to remove one proton from O16 is');\n",
"Q2=(M3-mn-M2)*amu;\n",
"disp(Q2,'energy required to remove one neutron from O16 is');"
   ]
   }
,
{
		   "cell_type": "markdown",
		   "metadata": {},
		   "source": [
			"## Example 15.3: calculation_of_binding_energy.sce"
		   ]
		  },
  {
"cell_type": "code",
	   "execution_count": null,
	   "metadata": {
	    "collapsed": true
	   },
	   "outputs": [],
"source": [
"clc;clear;\n",
"//Example 15.3\n",
"//calculation of binding energy \n",
"\n",
"//given values\n",
"Mp=1.00758;//mass of proton in amu\n",
"Mn=1.00897;//mass of nucleon in amu\n",
"M=4.0028;//mass of Helium nucleus in amu\n",
"amu=931.4;//amu in MeV\n",
"\n",
"//calculation\n",
"E1=(2*Mp+2*Mn-M)*amu;//total binding energy\n",
"disp(E1,'Binding energy in MeV is');\n",
"E2=E1*10^6*1.6*10^-19;\n",
"disp(E2,'binding energy in Joule is');"
   ]
   }
,
{
		   "cell_type": "markdown",
		   "metadata": {},
		   "source": [
			"## Example 15.4: calculation_of_binding_energy.sce"
		   ]
		  },
  {
"cell_type": "code",
	   "execution_count": null,
	   "metadata": {
	    "collapsed": true
	   },
	   "outputs": [],
"source": [
"clc;clear;\n",
"//Example 15.4\n",
"//calculation of amount of unchanged material\n",
"\n",
"//given values\n",
"T=2;//half life in years\n",
"k=.6931/T;//decay constant\n",
"M=4.0028;//mass of Helium nucleus in amu\n",
"amu=931.4;//amu in MeV\n",
"No=1;//initial amount in g\n",
"\n",
"//calculation\n",
"N=No*(%e^(-k*2*T));\n",
"disp(N,'amount of material remaining unchanged after four years(in gram) is');\n",
""
   ]
   }
,
{
		   "cell_type": "markdown",
		   "metadata": {},
		   "source": [
			"## Example 15.5: calculation_of_halflife.sce"
		   ]
		  },
  {
"cell_type": "code",
	   "execution_count": null,
	   "metadata": {
	    "collapsed": true
	   },
	   "outputs": [],
"source": [
"clc;clear;\n",
"//Example 15.5\n",
"//calculation of amount of halflife\n",
"\n",
"//given values\n",
"t=5;//time period in years\n",
"amu=931.4;//amu in MeV\n",
"No=5;//initial amount in g\n",
"N=5-(10.5*10^-3);//amount present after 5 years\n",
"\n",
"\n",
"//calculation\n",
"k=log(N/No)/t;//decay constant\n",
"T=-.693/k;\n",
"disp(T,'halflife in years is');"
   ]
   }
,
{
		   "cell_type": "markdown",
		   "metadata": {},
		   "source": [
			"## Example 15.6: calculation_of_activity.sce"
		   ]
		  },
  {
"cell_type": "code",
	   "execution_count": null,
	   "metadata": {
	    "collapsed": true
	   },
	   "outputs": [],
"source": [
"clc;clear;\n",
"//Example 15.6\n",
"//calculation of activity\n",
"\n",
"//given values\n",
"t=28;//half life in years\n",
"m=10^-3;//mass of sample\n",
"M=90;//atomic mass of strontium\n",
"NA=6.02*10^26;//avogadro's number\n",
"\n",
"\n",
"//calculation\n",
"n=m*NA/M;//no of nuclei in 1 mg sample\n",
"k=.693/(t*365*24*60*60);//decay constant\n",
"A=k*n;\n",
"disp(A,'activity of sample(in disintegrations per second) is');"
   ]
   }
,
{
		   "cell_type": "markdown",
		   "metadata": {},
		   "source": [
			"## Example 15.7: calculation_of_age_of_mineral.sce"
		   ]
		  },
  {
"cell_type": "code",
	   "execution_count": null,
	   "metadata": {
	    "collapsed": true
	   },
	   "outputs": [],
"source": [
"clc;clear;\n",
"//Example 15.7\n",
"//calculation of age of mineral\n",
"\n",
"//given values\n",
"t=4.5*10^9;//half life in years\n",
"M1=238;//atomic mass of Uranium in g\n",
"m=.093;//mass of lead in 1 g of uranium in g\n",
"NA=6.02*10^26;//avogadro's number\n",
"M2=206;//atomic mass of lead in g\n",
"\n",
"//calculation\n",
"n=NA/M1;//no of nuclei in 1 g of uranium sample\n",
"n1=m*NA/M2;//no of nuclei in m mass of lead\n",
"c=n1/n;\n",
"k=.693/t;//decay constant\n",
"T=(1/k)*log(1+c);\n",
"disp(T,'age of mineral in years is');"
   ]
   }
,
{
		   "cell_type": "markdown",
		   "metadata": {},
		   "source": [
			"## Example 15.8: calculation_of_age_of_wooden_piece.sce"
		   ]
		  },
  {
"cell_type": "code",
	   "execution_count": null,
	   "metadata": {
	    "collapsed": true
	   },
	   "outputs": [],
"source": [
"clc;clear;\n",
"//Example 15.8\n",
"//calculation of age of wooden piece\n",
"\n",
"//given values\n",
"t=5730;//half life of C14 in years\n",
"M1=50;//mass of wooden piece in g\n",
"A1=320;//activity of wooden piece (disintegration per minute per g)\n",
"A2=12;//activity of living tree\n",
"\n",
"//calculation\n",
"k=.693/t;//decay constant\n",
"A=A1/M1;//activity after death\n",
"\n",
"T=(1/k)*log(A2/A);\n",
"disp(T,'age of mineral in years is');"
   ]
   }
,
{
		   "cell_type": "markdown",
		   "metadata": {},
		   "source": [
			"## Example 15.9: calculation_of_energy_released.sce"
		   ]
		  },
  {
"cell_type": "code",
	   "execution_count": null,
	   "metadata": {
	    "collapsed": true
	   },
	   "outputs": [],
"source": [
"clc;clear;\n",
"//Example 15.9\n",
"//calculation of energy released\n",
"\n",
"//given values\n",
"M1=10.016125;//atomic mass of Boron in amu\n",
"M2=13.007440;//atomic mass of C13 in amu\n",
"M3=4.003874;//atomic mass of Helium in amu\n",
"mp=1.008146;//mass of proton in amu\n",
"amu=931;//amu in MeV\n",
"\n",
"//calculation\n",
"Q=(M1+M3-(M2+mp))*amu;//total binding energy in M\n",
"disp(Q,'Binding energy per nucleon in MeV is');"
   ]
   }
],
"metadata": {
		  "kernelspec": {
		   "display_name": "Scilab",
		   "language": "scilab",
		   "name": "scilab"
		  },
		  "language_info": {
		   "file_extension": ".sce",
		   "help_links": [
			{
			 "text": "MetaKernel Magics",
			 "url": "https://github.com/calysto/metakernel/blob/master/metakernel/magics/README.md"
			}
		   ],
		   "mimetype": "text/x-octave",
		   "name": "scilab",
		   "version": "0.7.1"
		  }
		 },
		 "nbformat": 4,
		 "nbformat_minor": 0
}
