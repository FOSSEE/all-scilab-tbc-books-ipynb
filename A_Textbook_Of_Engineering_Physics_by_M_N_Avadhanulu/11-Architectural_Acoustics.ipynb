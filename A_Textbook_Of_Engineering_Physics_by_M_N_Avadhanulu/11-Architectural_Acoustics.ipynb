{
"cells": [
 {
		   "cell_type": "markdown",
	   "metadata": {},
	   "source": [
       "# Chapter 11: Architectural Acoustics"
	   ]
	},
{
		   "cell_type": "markdown",
		   "metadata": {},
		   "source": [
			"## Example 11.1: calculation_of_total_absorption_and_average_absorption_coefficient.sce"
		   ]
		  },
  {
"cell_type": "code",
	   "execution_count": null,
	   "metadata": {
	    "collapsed": true
	   },
	   "outputs": [],
"source": [
"clc;clear;\n",
"//Example 11.1\n",
"//calculation of total absorption and average absorption coefficient\n",
"\n",
"//given values\n",
"\n",
"V=20*15*5;//volume of hall in m^3\n",
"t=3.5;//reverberation time of empty hall in sec\n",
"\n",
"\n",
"//calculation\n",
"a1=.161*V/t;//total absorption of empty hall\n",
"k=a1/(2*(20*15+15*5+20*5));\n",
"disp(k,'the average absorption coefficient is');"
   ]
   }
,
{
		   "cell_type": "markdown",
		   "metadata": {},
		   "source": [
			"## Example 11.2: calculation_of_average_absorption_coefficient.sce"
		   ]
		  },
  {
"cell_type": "code",
	   "execution_count": null,
	   "metadata": {
	    "collapsed": true
	   },
	   "outputs": [],
"source": [
"clc;clear;\n",
"//Example 11.2\n",
"//calculation of average absorption coefficient\n",
"\n",
"//given values\n",
"\n",
"V=10*8*6;//volume of hall in m^3\n",
"t=1.5;//reverberation time of empty hall in sec\n",
"A=20;//area of curtain cloth in m^2\n",
"t1=1;//new reverberation time in sec\n",
"\n",
"//calculation\n",
"a1=.161*V/t;//total absorption of empty hall\n",
"a2=.161*V/t1;//total absorption after a curtain cloth is suspended\n",
"\n",
"k=(a2-a1)/(2*20);\n",
"disp(k,'the average absorption coefficient is');"
   ]
   }
,
{
		   "cell_type": "markdown",
		   "metadata": {},
		   "source": [
			"## Example 11.3: calculation_of_average_absorption_coefficient_and_area.sce"
		   ]
		  },
  {
"cell_type": "code",
	   "execution_count": null,
	   "metadata": {
	    "collapsed": true
	   },
	   "outputs": [],
"source": [
"clc;clear;\n",
"//Example 11.3\n",
"//calculation of average absorption coefficient and area\n",
"\n",
"//given values\n",
"\n",
"V=20*15*10;//volume of hall in m^3\n",
"t=3.5;//reverberation time of empty hall in sec\n",
"t1=2.5;//reduced reverberation time \n",
"k2=.5;//absorption coefficient of curtain cloth\n",
"//calculation\n",
"a1=.161*V/t;//total absorption of empty hall\n",
"k1=a1/(2*(20*15+15*10+20*10));\n",
"disp(k1,'the average absorption coefficient is');\n",
"a2=.161*V/t1;//total absorption when wall is covered with curtain\n",
"a=t1*(a2-a1)/(t1*k2);\n",
"disp(a,'area of wall to be covered with curtain(in m^2)is:')"
   ]
   }
],
"metadata": {
		  "kernelspec": {
		   "display_name": "Scilab",
		   "language": "scilab",
		   "name": "scilab"
		  },
		  "language_info": {
		   "file_extension": ".sce",
		   "help_links": [
			{
			 "text": "MetaKernel Magics",
			 "url": "https://github.com/calysto/metakernel/blob/master/metakernel/magics/README.md"
			}
		   ],
		   "mimetype": "text/x-octave",
		   "name": "scilab",
		   "version": "0.7.1"
		  }
		 },
		 "nbformat": 4,
		 "nbformat_minor": 0
}
