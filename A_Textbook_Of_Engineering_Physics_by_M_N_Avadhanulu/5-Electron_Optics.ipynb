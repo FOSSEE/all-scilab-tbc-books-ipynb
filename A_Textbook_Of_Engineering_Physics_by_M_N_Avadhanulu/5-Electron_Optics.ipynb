{
"cells": [
 {
		   "cell_type": "markdown",
	   "metadata": {},
	   "source": [
       "# Chapter 5: Electron Optics"
	   ]
	},
{
		   "cell_type": "markdown",
		   "metadata": {},
		   "source": [
			"## Example 5.1: Electron_refraction_calculation_of_potential_difference.sce"
		   ]
		  },
  {
"cell_type": "code",
	   "execution_count": null,
	   "metadata": {
	    "collapsed": true
	   },
	   "outputs": [],
"source": [
"clc;clear;\n",
"//Example 5.1\n",
"//Electron refraction, calculation of potential difference\n",
"\n",
"//given values\n",
" V1=250;//potential by which electrons are accelerated in Volts\n",
" alpha1=50*%pi/180;//in degree\n",
" alpha2=30*%pi/180;//in degree\n",
"b=sin(alpha1)/sin(alpha2);\n",
" //calculation\n",
"V2=(b^2)*V1;\n",
"a=V2-V1;\n",
"disp(a,'potential difference(in volts) is:');\n",
"\n",
""
   ]
   }
,
{
		   "cell_type": "markdown",
		   "metadata": {},
		   "source": [
			"## Example 5.2: Cyclotro.sce"
		   ]
		  },
  {
"cell_type": "code",
	   "execution_count": null,
	   "metadata": {
	    "collapsed": true
	   },
	   "outputs": [],
"source": [
"clc;clear;\n",
"//Example 5.2&5.3\n",
"//Cyclotron, calculation of magnetic induction,maximum energy\n",
"\n",
"//given values\n",
" f=12*(10^6);//oscillator frequency in Hertz\n",
" r=.53;//radius of the dee in metre\n",
" q=1.6*10^-19;//Deuteron charge in C\n",
" m=3.34*10^-27;//mass of deuteron in kg\n",
" //calculation\n",
"B=2*%pi*f*m/q;//\n",
"disp(B,'magnetic induction (in Tesla) is:');\n",
"E=B^2*q^2*r^2/(2*m);\n",
"disp(E,'maximum energy to which deuterons can be accelerated (in J) is')\n",
"E1=E*6.24*10^18/10^6;//conversion of energy into MeV\n",
"disp(E1,'maximum energy to which deuterons can be accelerated (in MeV) is');"
   ]
   }
,
{
		   "cell_type": "markdown",
		   "metadata": {},
		   "source": [
			"## Example 5.4: calculation_of_linear_separation_of_lines_formed_on_photographic_plates.sce"
		   ]
		  },
  {
"cell_type": "code",
	   "execution_count": null,
	   "metadata": {
	    "collapsed": true
	   },
	   "outputs": [],
"source": [
"clc;clear;\n",
"//Example 5.4\n",
"//Mass spectrograph, calculation of linear separation of lines formed on photographic plates\n",
"\n",
"//given values\n",
" E=8*10^4;//electric field in V/m\n",
" B=.55//magnetic induction in Wb/m*2\n",
" q=1.6*10^-19;//charge of ions\n",
" m1=20*1.67*10^-27;//atomic mass of an isotope of neon\n",
" m2=22*1.67*10^-27;//atomic mass of other isotope of neon\n",
" //calculation\n",
"x=2*E*(m2-m1)/(q*B^2);//\n",
"disp(x,'separation of lines (in metre) is:')"
   ]
   }
],
"metadata": {
		  "kernelspec": {
		   "display_name": "Scilab",
		   "language": "scilab",
		   "name": "scilab"
		  },
		  "language_info": {
		   "file_extension": ".sce",
		   "help_links": [
			{
			 "text": "MetaKernel Magics",
			 "url": "https://github.com/calysto/metakernel/blob/master/metakernel/magics/README.md"
			}
		   ],
		   "mimetype": "text/x-octave",
		   "name": "scilab",
		   "version": "0.7.1"
		  }
		 },
		 "nbformat": 4,
		 "nbformat_minor": 0
}
