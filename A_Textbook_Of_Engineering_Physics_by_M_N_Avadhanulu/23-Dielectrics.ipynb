{
"cells": [
 {
		   "cell_type": "markdown",
	   "metadata": {},
	   "source": [
       "# Chapter 23: Dielectrics"
	   ]
	},
{
		   "cell_type": "markdown",
		   "metadata": {},
		   "source": [
			"## Example 23.1: calculation_of_relative_permittivity.sce"
		   ]
		  },
  {
"cell_type": "code",
	   "execution_count": null,
	   "metadata": {
	    "collapsed": true
	   },
	   "outputs": [],
"source": [
"clc;clear;\n",
"//Example 23.1\n",
"//calculation of relative permittivity\n",
"\n",
"//given values\n",
"\n",
"E=1000;//electric field in V/m\n",
"P=4.3*10^-8;//polarization in C/m^2\n",
"e=8.85*10^-12;//permittivity in F/m\n",
"\n",
"\n",
"//calculation\n",
"er=1+(P/(e*E));\n",
"disp(er,'relative permittivity of NaCl is ');"
   ]
   }
,
{
		   "cell_type": "markdown",
		   "metadata": {},
		   "source": [
			"## Example 23.2: calculation_of_electronic_polarizability.sce"
		   ]
		  },
  {
"cell_type": "code",
	   "execution_count": null,
	   "metadata": {
	    "collapsed": true
	   },
	   "outputs": [],
"source": [
"clc;clear;\n",
"//Example 23.2\n",
"//calculation of electronic polarizability\n",
"\n",
"//given values\n",
"\n",
"e=8.85*10^-12;//permittivity in F/m\n",
"er=1.0024;//relative permittivity at NTP\n",
"N=2.7*10^25;//atoms per m^3\n",
"\n",
"\n",
"//calculation\n",
"alpha=e*(er-1)/N;\n",
"disp(alpha,'electronic polarizability (in F/m^2)is ');"
   ]
   }
,
{
		   "cell_type": "markdown",
		   "metadata": {},
		   "source": [
			"## Example 23.3: calculation_of_electronic_polarizability_and_relative_permittivity.sce"
		   ]
		  },
  {
"cell_type": "code",
	   "execution_count": null,
	   "metadata": {
	    "collapsed": true
	   },
	   "outputs": [],
"source": [
"clc;clear;\n",
"//Example 23.3\n",
"//calculation of electronic polarizability and relative permittivity\n",
"\n",
"//given values\n",
"\n",
"e=8.85*10^-12;//permittivity in F/m\n",
"N=9.8*10^26;//atoms per m^3\n",
"r=.53*10^-10;//radius in m\n",
"\n",
"\n",
"//calculation\n",
"alpha=4*%pi*e*r^3;\n",
"disp(alpha,'electronic polarizability (in F/m^2)is ');\n",
"er=1+(4*%pi*N*r^3);\n",
"disp(er,'relative permittivity is')"
   ]
   }
,
{
		   "cell_type": "markdown",
		   "metadata": {},
		   "source": [
			"## Example 23.4: calculation_of_electronic_polarizability_and_relative_permittivity.sce"
		   ]
		  },
  {
"cell_type": "code",
	   "execution_count": null,
	   "metadata": {
	    "collapsed": true
	   },
	   "outputs": [],
"source": [
"clc;clear;\n",
"//Example 23.4\n",
"//calculation of electronic polarizability and relative permittivity\n",
"\n",
"//given values\n",
"w=32;//atomic weight of sulphur \n",
"d=2.08*10^3;//density in kg/m^3\n",
"NA=6.02*10^26;//avogadros number\n",
"alpha=3.28*10^-40;//electronic polarizability in F.m^2\n",
"e=8.854*10^-12;//permittiviy\n",
"//calculation\n",
"\n",
"n=NA*d/w;\n",
"k=n*alpha/(3*e);\n",
"er=(1+2*k)/(1-k);\n",
"disp(er,'relative permittivity is')"
   ]
   }
,
{
		   "cell_type": "markdown",
		   "metadata": {},
		   "source": [
			"## Example 23.5: calculation_of_ionic_polarizability.sce"
		   ]
		  },
  {
"cell_type": "code",
	   "execution_count": null,
	   "metadata": {
	    "collapsed": true
	   },
	   "outputs": [],
"source": [
"clc;clear;\n",
"//Example 23.5\n",
"//calculation of ionic polarizability\n",
"\n",
"//given values\n",
"n=1.5;//refractive index\n",
"er=6.75;//relative permittivity\n",
"\n",
"//calculation\n",
"Pi=(er-n^2)*100/(er-1);\n",
"disp(Pi,'percentage ionic polarizability (in %)) is')"
   ]
   }
,
{
		   "cell_type": "markdown",
		   "metadata": {},
		   "source": [
			"## Example 23.6: calculation_of_frequency_and_phase_difference.sce"
		   ]
		  },
  {
"cell_type": "code",
	   "execution_count": null,
	   "metadata": {
	    "collapsed": true
	   },
	   "outputs": [],
"source": [
"clc;clear;\n",
"//Example 23.6\n",
"//calculation of frequency and phase difference\n",
"\n",
"//given values\n",
"t=18*10^-6;//relaxation  time in s\n",
"\n",
"//calculation\n",
"f=1/(2*%pi*t);\n",
"disp(f,'frequency at which real and imaginary part of complx dielectric constant are equal is');\n",
"alpha=atan(1)*180/%pi;// phase difference between current and voltage( 1 because real and imaginry parts are equal of the dielectric constant)\n",
"disp(alpha,'phase diffeerence (in degree) is');"
   ]
   }
,
{
		   "cell_type": "markdown",
		   "metadata": {},
		   "source": [
			"## Example 23.7: calculation_of_frequency.sce"
		   ]
		  },
  {
"cell_type": "code",
	   "execution_count": null,
	   "metadata": {
	    "collapsed": true
	   },
	   "outputs": [],
"source": [
"clc;clear;\n",
"//Example 23.7\n",
"//calculation of frequency\n",
"\n",
"//given values\n",
"t=5.5*10^-3;//thickness of plate in m\n",
"Y=8*10^10;//Young's modulus in N/m^2\n",
"d=2.65*10^3;//density in kg/m^3\n",
"\n",
"\n",
"\n",
"//calculation\n",
"f=sqrt(Y/d)/(2*t);//in Hz\n",
"disp(f/10^3,'frequency of fundamental note(in KHz) is');"
   ]
   }
],
"metadata": {
		  "kernelspec": {
		   "display_name": "Scilab",
		   "language": "scilab",
		   "name": "scilab"
		  },
		  "language_info": {
		   "file_extension": ".sce",
		   "help_links": [
			{
			 "text": "MetaKernel Magics",
			 "url": "https://github.com/calysto/metakernel/blob/master/metakernel/magics/README.md"
			}
		   ],
		   "mimetype": "text/x-octave",
		   "name": "scilab",
		   "version": "0.7.1"
		  }
		 },
		 "nbformat": 4,
		 "nbformat_minor": 0
}
