{
"cells": [
 {
		   "cell_type": "markdown",
	   "metadata": {},
	   "source": [
       "# Chapter 13: Atomic Physics"
	   ]
	},
{
		   "cell_type": "markdown",
		   "metadata": {},
		   "source": [
			"## Example 13.1: calculation_of_rate_of_flow_of_photons.sce"
		   ]
		  },
  {
"cell_type": "code",
	   "execution_count": null,
	   "metadata": {
	    "collapsed": true
	   },
	   "outputs": [],
"source": [
"clc;clear;\n",
"//Example 13.1\n",
"//calculation of rate of flow of photons\n",
"\n",
"//given values\n",
"\n",
"l=5893*10^-10;//wavelength of light in m \n",
"P=40;//power of sodium lamp in W\n",
"d=10;//distance from the source in m\n",
"s=4*%pi*d^2;//surface area of radius in m^2\n",
"c=3*10^8;//velocity of light in m/s\n",
"h=6.626*10^-34;//Planck's constant in Js\n",
"//calculation\n",
"E=P*1;//\n",
"disp(E,'total energy emitted per second(in Joule)is');\n",
"n=E*l/(c*h);//total no of photons\n",
"R=n/s;\n",
"disp(R,'rate of flow of photons per unit area (in /m^2) is')"
   ]
   }
,
{
		   "cell_type": "markdown",
		   "metadata": {},
		   "source": [
			"## Example 13.2: calculation_of_threshold_wavelength_and_stopping_potential.sce"
		   ]
		  },
  {
"cell_type": "code",
	   "execution_count": null,
	   "metadata": {
	    "collapsed": true
	   },
	   "outputs": [],
"source": [
"clc;clear;\n",
"//Example 13.2\n",
"//calculation of threshold wavelength and stopping potential\n",
"\n",
"//given values\n",
"\n",
"l=2000;//wavelength of light in armstrong \n",
"e=1.6*10^-19;//charge of electron\n",
"W=4.2;//work function in eV\n",
"c=3*10^8;//velocity of light in m/s\n",
"h=6.626*10^-34;//Planck's constant in Js\n",
"//calculation\n",
"x=12400/(W);//h*c=12400 eV\n",
"disp(x,'threshold wavelength(in Armstrong)is');\n",
"Vs=(12400/l-W);//\n",
"disp(Vs,'stopping potential (in VOLTS) is')"
   ]
   }
,
{
		   "cell_type": "markdown",
		   "metadata": {},
		   "source": [
			"## Example 13.3: calculation_of_momentum_of_Xray_photon_undergoing_scattering.sce"
		   ]
		  },
  {
"cell_type": "code",
	   "execution_count": null,
	   "metadata": {
	    "collapsed": true
	   },
	   "outputs": [],
"source": [
"clc;clear;\n",
"//Example 13.3\n",
"//calculation of momentum of X-ray photon undergoing scattering\n",
"\n",
"//given values\n",
"\n",
"alpha=60*%pi/180;//scattering angle in radian\n",
"e=1.6*10^-19;//charge ofelectrone\n",
"W=12273;//work function in eV\n",
"c=3*10^8;//velocity of light in m/s\n",
"h=6.626*10^-34;//Planck's constant in Js\n",
"hc=12400;//in eV\n",
"m=9.1*10^-31//restmass of photon in kg\n",
"//calculation\n",
"x=hc/(W);//wavelength of photon undergoing modofied scattering in armstrong\n",
"y=x-(h/(m*c))*(1-cos(alpha));\n",
"p=h/y*10^10;\n",
"disp(p,'momentum of photon(in kg-m/s) is');"
   ]
   }
,
{
		   "cell_type": "markdown",
		   "metadata": {},
		   "source": [
			"## Example 13.4: EX13_4.sce"
		   ]
		  },
  {
"cell_type": "code",
	   "execution_count": null,
	   "metadata": {
	    "collapsed": true
	   },
	   "outputs": [],
"source": [
"clc;clear;\n",
"//Example 13.4\n",
"//calculation of wavelength of scattered radiation and velocity of recoiled electron\n",
"\n",
"//given values\n",
"\n",
"alpha=30*%pi/180;//scattering angle in radian\n",
"e=1.6*10^-19;//charge ofelectron\n",
"x=1.372*10^-10;//wavelength of incident radiation in m\n",
"c=3*10^8;//velocity of light in m/s\n",
"h=6.626*10^-34;//Planck's constant in Js\n",
"m=9.1*10^-31//rest mass of photon in kg\n",
"hc=12400;//in eV\n",
"//calculation\n",
"\n",
"y=((x+(h/(m*c))*(1-cos(alpha))))*10^10;\n",
"disp(y,'wavelength of scattered radiation(in armstrong)is');\n",
"x1=x*10^10;//converting incident wavelength into armstrong\n",
"KE=hc*e*((1/x1)-(1/y));//kinetic energy in Joule\n",
"disp(KE,'kinetic energy in joule is ');\n",
"v=sqrt(2*KE/m);\n",
"disp(v,'velocity of recoiled electron (in m/s^2)is');"
   ]
   }
,
{
		   "cell_type": "markdown",
		   "metadata": {},
		   "source": [
			"## Example 13.5: calculation_of_wavelength_of_light_emitted.sce"
		   ]
		  },
  {
"cell_type": "code",
	   "execution_count": null,
	   "metadata": {
	    "collapsed": true
	   },
	   "outputs": [],
"source": [
"clc;clear;\n",
"//Example 13.5\n",
"//calculation of wavelength of light emitted\n",
"\n",
"//given values\n",
"e=1.6*10^-19;//charge of electrone\n",
"c=3*10^8;//velocity of light\n",
"h=6.626*10^-34;//Planck's constant in Js\n",
"E1=5.36;//energy of first state in eV\n",
"E2=3.45;//energy of second state in eV\n",
"\n",
"\n",
"//1)calculation\n",
"\n",
"l=h*c*10^10/((E1-E2)*e);\n",
"disp(l,'wavelength of scattered light(in Armstrong)is');"
   ]
   }
,
{
		   "cell_type": "markdown",
		   "metadata": {},
		   "source": [
			"## Example 13.6: calculation_of_de_Broglie_wavelength.sce"
		   ]
		  },
  {
"cell_type": "code",
	   "execution_count": null,
	   "metadata": {
	    "collapsed": true
	   },
	   "outputs": [],
"source": [
"clc;clear;\n",
"//Example 13.6\n",
"//calculation of de Broglie wavelength \n",
"\n",
"//1)given values\n",
"e=1.6*10^-19;\n",
"h=6.626*10^-34;//Planck's constant in Js\n",
"V=182;//potential difference in volts\n",
"m=9.1*10^-31;//mass of e in kg\n",
"\n",
"\n",
"//1)calculation\n",
"\n",
"l=h/sqrt(2*e*m*V);\n",
"disp(l,'de Brogliewavelength (in m)is');\n",
"\n",
"\n",
"//2)given values\n",
"m1=1;//mass of object in kg\n",
"v=1;//velocity of object in m/s\n",
"l1=h/(m1*v);\n",
"disp(l1,'debrogie wavelength of object in m) is');"
   ]
   }
,
{
		   "cell_type": "markdown",
		   "metadata": {},
		   "source": [
			"## Example 13.7: calculation_of_uncertainty_in_position.sce"
		   ]
		  },
  {
"cell_type": "code",
	   "execution_count": null,
	   "metadata": {
	    "collapsed": true
	   },
	   "outputs": [],
"source": [
"clc;clear;\n",
"//Example 13.7\n",
"//calculation of uncertainty in position\n",
"\n",
"//1)given values\n",
"\n",
"h=6.626*10^-34;//Planck's constant in Js\n",
"v1=220;//velocity of e in m/s\n",
"m=9.1*10^-31;//mass of e in kg\n",
"A=0.065/100;//accuracy\n",
"\n",
"\n",
"//1)calculation\n",
"v2=v1*A;//uncertainty in speed\n",
"x1=h/(2*%pi*m*v2);//\n",
"disp(x1,'uncertainty in position of e (in m)is');\n",
"\n",
"\n",
"//2)given values\n",
"m1=150/1000;//mass of object in kg\n",
"x2=h/(2*%pi*m1*v2);\n",
"disp(x2,'uncertainty in position of baseball(in m) is');"
   ]
   }
,
{
		   "cell_type": "markdown",
		   "metadata": {},
		   "source": [
			"## Example 13.8: Energy_states_of_an_electron_and_grain_of_dust.sce"
		   ]
		  },
  {
"cell_type": "code",
	   "execution_count": null,
	   "metadata": {
	    "collapsed": true
	   },
	   "outputs": [],
"source": [
"clc;clear;\n",
"//Example 13.8\n",
"//calculation of energy states of an electron and grain of dust and comparing\n",
"\n",
"//1)given values\n",
"L1=10*10^-10;//width of potential well in which e is confined\n",
"L2=.1*10^-3;//width of potential well in which grain of dust is confined\n",
"h=6.626*10^-34;//Planck's constant in Js\n",
"v1=10^6;//velocity of garin of dust in m/s\n",
"m1=9.1*10^-31;//mass of e in kg\n",
"m2=10^-9;//mass of grain in kg\n",
"\n",
"//1)calculation\n",
"\n",
"Ee1=1^2*h^2/(8*m1*L1^2);//first energy state of electron\n",
"disp(Ee1,'first energy state of e is ');\n",
"Ee2=2^2*h^2/(8*m1*L1^2);//second energy state of electron\n",
"disp(Ee2,'second energy state of e is ');\n",
"Ee3=3^2*h^2/(8*m1*L1^2);//third energy state of electron\n",
"disp(Ee3,'third energy state of e is ');\n",
"disp('Energy levels of an electron in an infinite potential well are quantised and the energy difference between the successive levels is quite large.Electron cannot jump from one level to other on strength of thermal energy.Hence quantization of energy plays a significant role in case of electron')\n",
"\n",
"Eg1=1^2*h^2/(8*m2*L2^2);//first energy state of grain of dust\n",
"disp(Eg1,'first energy state of grain of dust is ');\n",
"Eg2=2^2*h^2/(8*m2*L2^2);//second energy state of grain of dust\n",
"disp(Eg2,'second energy state of grain of dust is ');\n",
"Eg3=3^2*h^2/(8*m2*L2^2);//third energy state of grain of dust\n",
"disp(Eg3,'third energy state of  grain of dust is ');\n",
"KE=m2*v1^2/2;//kinetic energy of grain of dust;\n",
"disp(KE,'kinetic energy of grain of dust is');\n",
"disp('The energy levels of a grain of dust are so near to each other that they constitute a continuum.These energy levels are far smaller than the kinetic energy possessed by the grain of dust.It can move through all these energy levels without an external supply of energy.Thus quantization of energy levels is not at all significant in case of macroscopic bodies.')"
   ]
   }
],
"metadata": {
		  "kernelspec": {
		   "display_name": "Scilab",
		   "language": "scilab",
		   "name": "scilab"
		  },
		  "language_info": {
		   "file_extension": ".sce",
		   "help_links": [
			{
			 "text": "MetaKernel Magics",
			 "url": "https://github.com/calysto/metakernel/blob/master/metakernel/magics/README.md"
			}
		   ],
		   "mimetype": "text/x-octave",
		   "name": "scilab",
		   "version": "0.7.1"
		  }
		 },
		 "nbformat": 4,
		 "nbformat_minor": 0
}
