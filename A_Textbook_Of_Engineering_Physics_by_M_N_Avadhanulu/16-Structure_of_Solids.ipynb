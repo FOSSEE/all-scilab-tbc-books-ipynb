{
"cells": [
 {
		   "cell_type": "markdown",
	   "metadata": {},
	   "source": [
       "# Chapter 16: Structure of Solids"
	   ]
	},
{
		   "cell_type": "markdown",
		   "metadata": {},
		   "source": [
			"## Example 16.1: calculation_of_density.sce"
		   ]
		  },
  {
"cell_type": "code",
	   "execution_count": null,
	   "metadata": {
	    "collapsed": true
	   },
	   "outputs": [],
"source": [
"clc;clear;\n",
"//Example 16.1\n",
"//calculation of density\n",
"\n",
"//given values\n",
"a=3.36*10^-10;//lattice constant in m\n",
"M=209;//atomicmass of polonium in kg\n",
"N=6.02*10^26;//avogadro's number\n",
"z=1;//no of atom\n",
"//calculation\n",
"d=z*M/(N*a^3)\n",
"\n",
"disp(d,'density (in kg/m^3) is');"
   ]
   }
,
{
		   "cell_type": "markdown",
		   "metadata": {},
		   "source": [
			"## Example 16.2: calculation_of_no_of_atoms.sce"
		   ]
		  },
  {
"cell_type": "code",
	   "execution_count": null,
	   "metadata": {
	    "collapsed": true
	   },
	   "outputs": [],
"source": [
"clc;clear;\n",
"//Example 16.2\n",
"//calculation of no of atoms\n",
"\n",
"//given values\n",
"a=4.3*10^-10;//edge of unit cell in m\n",
"d=963;//density in kg/m^3\n",
"M=23;//atomicmass of sodium in kg\n",
"N=6.02*10^26;//avogadro's number\n",
"\n",
"//calculation\n",
"z=d*N*a^3/M;\n",
"\n",
"disp(z,'no of atoms is');"
   ]
   }
,
{
		   "cell_type": "markdown",
		   "metadata": {},
		   "source": [
			"## Example 16.3: calculation_of_distance.sce"
		   ]
		  },
  {
"cell_type": "code",
	   "execution_count": null,
	   "metadata": {
	    "collapsed": true
	   },
	   "outputs": [],
"source": [
"clc;clear;\n",
"//Example 16.3\n",
"//calculation of distance\n",
"\n",
"//given values\n",
"z=4;//no of atoms in fcc\n",
"d=2180;//density in kg/m^3\n",
"M=23+35.3;//atomicmass of sodium chloride in kg\n",
"N=6.02*10^26;//avogadro's number\n",
"\n",
"//calculation\n",
"a1=z*M/(N*d);\n",
"a=a1^(1/3);\n",
"l=a/2;//in m\n",
"\n",
"disp(l*10^10,'distance between adjacent chlorine and sodium atoms in armstrong is');"
   ]
   }
,
{
		   "cell_type": "markdown",
		   "metadata": {},
		   "source": [
			"## Example 16.4: calculation_of_interatomic_spacing.sce"
		   ]
		  },
  {
"cell_type": "code",
	   "execution_count": null,
	   "metadata": {
	    "collapsed": true
	   },
	   "outputs": [],
"source": [
"clc;clear;\n",
"//Example 16.4\n",
"//calculation of interatomic spacing\n",
"\n",
"//given values\n",
"alpha=30*%pi/180;//Bragg angle in degree\n",
"h=1;\n",
"k=1;\n",
"l=1;\n",
"m=1;//order of reflection\n",
"x=1.75*10^-10;//wavelength in m\n",
"\n",
"//calculation\n",
"d=m*x/(2*sin(alpha));\n",
"a=d*sqrt(h^2+k^2+l^2);//in m\n",
"\n",
"disp(a*10^10,'interatomic spacing in armstrong is');"
   ]
   }
],
"metadata": {
		  "kernelspec": {
		   "display_name": "Scilab",
		   "language": "scilab",
		   "name": "scilab"
		  },
		  "language_info": {
		   "file_extension": ".sce",
		   "help_links": [
			{
			 "text": "MetaKernel Magics",
			 "url": "https://github.com/calysto/metakernel/blob/master/metakernel/magics/README.md"
			}
		   ],
		   "mimetype": "text/x-octave",
		   "name": "scilab",
		   "version": "0.7.1"
		  }
		 },
		 "nbformat": 4,
		 "nbformat_minor": 0
}
