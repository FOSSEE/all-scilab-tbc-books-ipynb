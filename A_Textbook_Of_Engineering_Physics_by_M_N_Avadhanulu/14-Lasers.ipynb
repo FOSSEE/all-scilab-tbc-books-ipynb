{
"cells": [
 {
		   "cell_type": "markdown",
	   "metadata": {},
	   "source": [
       "# Chapter 14: Lasers"
	   ]
	},
{
		   "cell_type": "markdown",
		   "metadata": {},
		   "source": [
			"## Example 14.1: calculation_of_intensity_of_laser_beam.sce"
		   ]
		  },
  {
"cell_type": "code",
	   "execution_count": null,
	   "metadata": {
	    "collapsed": true
	   },
	   "outputs": [],
"source": [
"clc;clear;\n",
"//Example 14.1\n",
"//calculation of intensity of laser beam\n",
"\n",
"//given values\n",
"P=10*10^-3;//Power in Watt\n",
"d=1.3*10^-3;//diametre in m\n",
"A=%pi*d^2/4;//area in m^2\n",
"\n",
"\n",
"//calculation\n",
"I=P/A;\n",
"disp(I,'intensity (in W/m^2) is');"
   ]
   }
,
{
		   "cell_type": "markdown",
		   "metadata": {},
		   "source": [
			"## Example 14.2: calculation_of_intensity_of_laser_beam.sce"
		   ]
		  },
  {
"cell_type": "code",
	   "execution_count": null,
	   "metadata": {
	    "collapsed": true
	   },
	   "outputs": [],
"source": [
"clc;clear;\n",
"//Example 14.2\n",
"//calculation of intensity of laser beam\n",
"\n",
"//given values\n",
"P=1*10^-3;//Power in Watt\n",
"l=6328*10^-10;//wavelength in m\n",
"A=l^2;//area in m^2\n",
"\n",
"\n",
"//calculation\n",
"I=P/A;\n",
"disp(I,'intensity (in W/m^2) is');"
   ]
   }
,
{
		   "cell_type": "markdown",
		   "metadata": {},
		   "source": [
			"## Example 14.3: calculation_of_coherence_length_bandwidth_and_line_width.sce"
		   ]
		  },
  {
"cell_type": "code",
	   "execution_count": null,
	   "metadata": {
	    "collapsed": true
	   },
	   "outputs": [],
"source": [
"clc;clear;\n",
"//Example 14.3\n",
"//calculation of coherence length,bandwidth and line width\n",
"\n",
"//given values\n",
"c=3*10^8;//velocity of light in m/s\n",
"t=.1*10^-9;//timedivision in s\n",
"l=6238*10^-10;//wavelength in m\n",
"\n",
"//calculation\n",
"x=c*t;\n",
"disp(x,'coherence length (in m) is');\n",
"d=1/t;\n",
"disp(d,'bandwidth (in Hz) is');\n",
"y=l^2*d/c;//line width in m\n",
"disp(y*10^10,'line width(in armstrong )is');"
   ]
   }
,
{
		   "cell_type": "markdown",
		   "metadata": {},
		   "source": [
			"## Example 14.4: calculation_of_frequency_difference.sce"
		   ]
		  },
  {
"cell_type": "code",
	   "execution_count": null,
	   "metadata": {
	    "collapsed": true
	   },
	   "outputs": [],
"source": [
"clc;clear;\n",
"//Example 14.4\n",
"//calculation of frequency difference\n",
"\n",
"//given values\n",
"c=3*10^8;//velocity of light in m/s\n",
"l=.5;//distance in m\n",
"\n",
"//calculation\n",
"f=c/(2*l);//in hertz\n",
"disp(f/10^6,'frequency difference (in MHz) is');"
   ]
   }
,
{
		   "cell_type": "markdown",
		   "metadata": {},
		   "source": [
			"## Example 14.5: calculation_of_frequency_difference.sce"
		   ]
		  },
  {
"cell_type": "code",
	   "execution_count": null,
	   "metadata": {
	    "collapsed": true
	   },
	   "outputs": [],
"source": [
"clc;clear;\n",
"//Example 14.5\n",
"//calculation of no of cavity modes\n",
"\n",
"//given values\n",
"c=3*10^8;//velocity of light in m/s\n",
"n=1.75;//refractive index\n",
"l=2*10^-2;//length of ruby rod in m\n",
"x=6943*10^-10;//wavelength in m\n",
"y=5.3*10^-10;//spread of wavelength in m\n",
"\n",
"//calculation\n",
"d=c/n/l;\n",
"f=c*y/x^2;\n",
"m=f/d;\n",
"disp(m,'no of modes is');"
   ]
   }
],
"metadata": {
		  "kernelspec": {
		   "display_name": "Scilab",
		   "language": "scilab",
		   "name": "scilab"
		  },
		  "language_info": {
		   "file_extension": ".sce",
		   "help_links": [
			{
			 "text": "MetaKernel Magics",
			 "url": "https://github.com/calysto/metakernel/blob/master/metakernel/magics/README.md"
			}
		   ],
		   "mimetype": "text/x-octave",
		   "name": "scilab",
		   "version": "0.7.1"
		  }
		 },
		 "nbformat": 4,
		 "nbformat_minor": 0
}
