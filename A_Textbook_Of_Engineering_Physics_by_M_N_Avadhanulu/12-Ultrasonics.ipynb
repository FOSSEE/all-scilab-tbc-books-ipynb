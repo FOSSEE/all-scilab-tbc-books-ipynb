{
"cells": [
 {
		   "cell_type": "markdown",
	   "metadata": {},
	   "source": [
       "# Chapter 12: Ultrasonics"
	   ]
	},
{
		   "cell_type": "markdown",
		   "metadata": {},
		   "source": [
			"## Example 12.1: calculation_of_natural_frequency.sce"
		   ]
		  },
  {
"cell_type": "code",
	   "execution_count": null,
	   "metadata": {
	    "collapsed": true
	   },
	   "outputs": [],
"source": [
"clc;clear;\n",
"//Example 12.1\n",
"//calculation of natural frequency,magnetostriction\n",
"\n",
"//given values\n",
"\n",
"l=40*10^-3;//length of pure iron rod\n",
"d=7.25*10^3;//density of iron in kg/m^3\n",
"Y=115*10^9;//Young's modulus in N/m^2 \n",
"\n",
"//calculation\n",
"f=(1*sqrt(Y/d))/(2*l);\n",
"disp(f*10^-3,'the natural frequency(in kHz) is');"
   ]
   }
,
{
		   "cell_type": "markdown",
		   "metadata": {},
		   "source": [
			"## Example 12.2: calculation_of_natural_frequency.sce"
		   ]
		  },
  {
"cell_type": "code",
	   "execution_count": null,
	   "metadata": {
	    "collapsed": true
	   },
	   "outputs": [],
"source": [
"clc;clear;\n",
"//Example 12.2\n",
"//calculation of natural frequency\n",
"\n",
"//given values\n",
"\n",
"t=5.5*10^-3;//thickness in m\n",
"d=2.65*10^3;//density in kg/m^3\n",
"Y=8*10^10;//Young's modulus in N/m^2 \n",
"\n",
"\n",
"//calculation\n",
"f=(sqrt(Y/d))/(2*t);//frequency in hertz\n",
"disp(f*10^-3,'the natural frequency(in kHz) is');"
   ]
   }
,
{
		   "cell_type": "markdown",
		   "metadata": {},
		   "source": [
			"## Example 12.3: calculation_of_depth_and_wavelength.sce"
		   ]
		  },
  {
"cell_type": "code",
	   "execution_count": null,
	   "metadata": {
	    "collapsed": true
	   },
	   "outputs": [],
"source": [
"clc;clear;\n",
"//Example 12.3\n",
"//calculation of depth and wavelength\n",
"\n",
"//given values\n",
"\n",
"f=.07*10^6;//frequency in Hz\n",
"t=.65;//time taken for pulse to return\n",
"v=1700;//velocity of sound in sea water in m/s\n",
"\n",
"//calculation\n",
"d=v*t/2;//\n",
"disp(d,'the depth of sea(in m) is');\n",
"l=v/f;//wavelenght of pulse in m\n",
"disp(l*10^2,'wavelength of pulse (in cm)is');"
   ]
   }
],
"metadata": {
		  "kernelspec": {
		   "display_name": "Scilab",
		   "language": "scilab",
		   "name": "scilab"
		  },
		  "language_info": {
		   "file_extension": ".sce",
		   "help_links": [
			{
			 "text": "MetaKernel Magics",
			 "url": "https://github.com/calysto/metakernel/blob/master/metakernel/magics/README.md"
			}
		   ],
		   "mimetype": "text/x-octave",
		   "name": "scilab",
		   "version": "0.7.1"
		  }
		 },
		 "nbformat": 4,
		 "nbformat_minor": 0
}
