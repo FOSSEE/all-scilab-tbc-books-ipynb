{
"cells": [
 {
		   "cell_type": "markdown",
	   "metadata": {},
	   "source": [
       "# Chapter 24: Fibre optics"
	   ]
	},
{
		   "cell_type": "markdown",
		   "metadata": {},
		   "source": [
			"## Example 24.1: Fiber_optics_numerical_aperture_calculation.sce"
		   ]
		  },
  {
"cell_type": "code",
	   "execution_count": null,
	   "metadata": {
	    "collapsed": true
	   },
	   "outputs": [],
"source": [
"clc;clear;\n",
"//Example 24.1\n",
"//Fiber optics\n",
"\n",
"//given values\n",
"n=1.5;//refractive index\n",
"x=.0005;//fractional index difference\n",
"\n",
"//calculation\n",
"u=n*(1-x);\n",
"disp(u,'cladding index is');\n",
"alpha=asin(u/n)*180/%pi;\n",
"disp(alpha,'critical internal reflection angle(in degree) is');\n",
"theta=asin(sqrt(n^2-u^2))*180/%pi;\n",
"disp(theta,'critical acceptance angle(in degree) is');\n",
"N=n*sqrt(2*x);\n",
"disp(N,'numerical aperture is');"
   ]
   }
,
{
		   "cell_type": "markdown",
		   "metadata": {},
		   "source": [
			"## Example 24.2: calculation_of_acceptance_angle.sce"
		   ]
		  },
  {
"cell_type": "code",
	   "execution_count": null,
	   "metadata": {
	    "collapsed": true
	   },
	   "outputs": [],
"source": [
"clc;clear;\n",
"//Example 24.2\n",
"//calculation of acceptance angle\n",
"\n",
"//given values\n",
"n=1.59;//cladding refractive index\n",
"u=1.33;//refractive index of water\n",
"N=.20;//numerical aperture offibre\n",
"//calculation\n",
"x=sqrt(N^2+n^2);//index of fibre\n",
"N1=sqrt(x^2-n^2)/u;//numerical aperture when fibre is in water\n",
"alpha=asin(N1)*180/%pi;\n",
"disp(alpha,'acceptance angle in degree is');"
   ]
   }
,
{
		   "cell_type": "markdown",
		   "metadata": {},
		   "source": [
			"## Example 24.3: calculation_of_normailsed_frequency.sce"
		   ]
		  },
  {
"cell_type": "code",
	   "execution_count": null,
	   "metadata": {
	    "collapsed": true
	   },
	   "outputs": [],
"source": [
"clc;clear;\n",
"//Example 24.3\n",
"//calculation of normalised frequency\n",
"\n",
"//given values\n",
"n=1.45;//core refractive index\n",
"d=.6;//core diametre in m\n",
"N=.16;//numerical aperture of fibre\n",
"l=.9*10^-6;//wavelength of light\n",
"\n",
"//calculation\n",
"u=sqrt(n^2+N^2);//index of glass fibre\n",
"V=%pi*d*sqrt(u^2-n^2)/l;\n",
"disp(V,'normalised frequency is');"
   ]
   }
,
{
		   "cell_type": "markdown",
		   "metadata": {},
		   "source": [
			"## Example 24.4: calculation_of_normailsed_frequency_and_no_of_modes.sce"
		   ]
		  },
  {
"cell_type": "code",
	   "execution_count": null,
	   "metadata": {
	    "collapsed": true
	   },
	   "outputs": [],
"source": [
"clc;clear;\n",
"//Example 24.4\n",
"//calculation of normailsed frequency and no of modes\n",
"\n",
"//given values\n",
"n=1.52;//core refractive index\n",
"d=29*10^-6;//core diametre in m\n",
"l=1.3*10^-6;//wavelength of light\n",
"x=.0007;//fractional refractive index\n",
"\n",
"//calculation\n",
"u=n*(1-x);//index of glass fibre\n",
"V=%pi*d*sqrt(n^2-u^2)/l;\n",
"disp(V,'normalised frequency is');\n",
"N=V^2/2;\n",
"disp(N,'no of modes is');"
   ]
   }
,
{
		   "cell_type": "markdown",
		   "metadata": {},
		   "source": [
			"## Example 24.5: calculation_of_numerical_aperture_and_maximum_acceptance_angle.sce"
		   ]
		  },
  {
"cell_type": "code",
	   "execution_count": null,
	   "metadata": {
	    "collapsed": true
	   },
	   "outputs": [],
"source": [
"clc;clear;\n",
"//Example 24.5\n",
"//calculation of numerical aperture and maximum acceptance angle\n",
"\n",
"//given values\n",
"n=1.480;//core refractive index\n",
"u=1.47;//index of glass\n",
"l=850*10^-9;//wavelength of light\n",
"V=2.405;//V-number\n",
"\n",
"//calculation\n",
"r=V*l/sqrt(n^2-u^2)/%pi/2;//in m\n",
"disp(r*10^6,'core radius in micrometre is');\n",
"N=sqrt(n^2-u^2);\n",
"disp(N,'numerical aperture is');\n",
"alpha=asin(N)*180/%pi;\n",
"disp(alpha,'max acceptance angle is');"
   ]
   }
,
{
		   "cell_type": "markdown",
		   "metadata": {},
		   "source": [
			"## Example 24.6: calculation_of_power_level.sce"
		   ]
		  },
  {
"cell_type": "code",
	   "execution_count": null,
	   "metadata": {
	    "collapsed": true
	   },
	   "outputs": [],
"source": [
"clc;clear;\n",
"//Example 24.6\n",
"//calculation of power level\n",
"\n",
"//given values\n",
"a=3.5;//attenuation in dB/km\n",
"Pi=.5*10^-3;//initial power level in W\n",
"l=4;//length of cable in km\n",
"\n",
"//calculation\n",
"Po=Pi*10^6/(10^(a*l/10));\n",
"disp(Po,'power level after km(in microwatt) is');"
   ]
   }
,
{
		   "cell_type": "markdown",
		   "metadata": {},
		   "source": [
			"## Example 24.7: calculation_of_power_loss.sce"
		   ]
		  },
  {
"cell_type": "code",
	   "execution_count": null,
	   "metadata": {
	    "collapsed": true
	   },
	   "outputs": [],
"source": [
"clc;clear;\n",
"//Example 24.7\n",
"//calculation of power loss\n",
"\n",
"//given values\n",
"Pi=1*10^-3;//initial power level in W\n",
"l=.5;//length of cable in km\n",
"Po=.85*Pi\n",
"\n",
"//calculation\n",
"a=(10/l)*log10(Pi/Po);\n",
"disp(a,'loss in dB/km is');"
   ]
   }
],
"metadata": {
		  "kernelspec": {
		   "display_name": "Scilab",
		   "language": "scilab",
		   "name": "scilab"
		  },
		  "language_info": {
		   "file_extension": ".sce",
		   "help_links": [
			{
			 "text": "MetaKernel Magics",
			 "url": "https://github.com/calysto/metakernel/blob/master/metakernel/magics/README.md"
			}
		   ],
		   "mimetype": "text/x-octave",
		   "name": "scilab",
		   "version": "0.7.1"
		  }
		 },
		 "nbformat": 4,
		 "nbformat_minor": 0
}
