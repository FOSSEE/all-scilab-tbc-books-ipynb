{
"cells": [
 {
		   "cell_type": "markdown",
	   "metadata": {},
	   "source": [
       "# Chapter 8: Polarization"
	   ]
	},
{
		   "cell_type": "markdown",
		   "metadata": {},
		   "source": [
			"## Example 8.2: Polarizer.sce"
		   ]
		  },
  {
"cell_type": "code",
	   "execution_count": null,
	   "metadata": {
	    "collapsed": true
	   },
	   "outputs": [],
"source": [
"clc;clear;\n",
"//Example 8.2\n",
"//Polarizer,calculation of angle\n",
"\n",
"//given values\n",
"Io=1;//intensity of polarised light\n",
"I1=Io/2;//intensity of beam polarised by first by first polariser\n",
"I2=Io/3;//intensity of light polarised by second polariser\n",
"\n",
"\n",
" //calculation\n",
"a=acos(sqrt(I2/I1));\n",
"alpha=a*180/%pi;//conversion of angle into degree\n",
"disp(alpha,'angle between characteristic directions  (in degree) is');"
   ]
   }
,
{
		   "cell_type": "markdown",
		   "metadata": {},
		   "source": [
			"## Example 8.3: calculation_of_birefringence.sce"
		   ]
		  },
  {
"cell_type": "code",
	   "execution_count": null,
	   "metadata": {
	    "collapsed": true
	   },
	   "outputs": [],
"source": [
"clc;clear;\n",
"//Example 8.3\n",
"//calculation of birefringence\n",
"\n",
"//given values\n",
"\n",
"l=6*10^-7;//wavelength of light in metre\n",
"d=3*10^-5;//thickness of crystal\n",
"\n",
"\n",
" //calculation\n",
" x=l/(4*d);\n",
"disp(x,'the birefringance of the crystal is');"
   ]
   }
],
"metadata": {
		  "kernelspec": {
		   "display_name": "Scilab",
		   "language": "scilab",
		   "name": "scilab"
		  },
		  "language_info": {
		   "file_extension": ".sce",
		   "help_links": [
			{
			 "text": "MetaKernel Magics",
			 "url": "https://github.com/calysto/metakernel/blob/master/metakernel/magics/README.md"
			}
		   ],
		   "mimetype": "text/x-octave",
		   "name": "scilab",
		   "version": "0.7.1"
		  }
		 },
		 "nbformat": 4,
		 "nbformat_minor": 0
}
