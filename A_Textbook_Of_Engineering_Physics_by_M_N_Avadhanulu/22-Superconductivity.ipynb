{
"cells": [
 {
		   "cell_type": "markdown",
	   "metadata": {},
	   "source": [
       "# Chapter 22: Superconductivity"
	   ]
	},
{
		   "cell_type": "markdown",
		   "metadata": {},
		   "source": [
			"## Example 22.1: calculation_of_magnetic_field.sce"
		   ]
		  },
  {
"cell_type": "code",
	   "execution_count": null,
	   "metadata": {
	    "collapsed": true
	   },
	   "outputs": [],
"source": [
"clc;clear;\n",
"//Example 22.1\n",
"//calculation of magnetic field\n",
"\n",
"//given values\n",
"\n",
"Tc=7.2;//transition temp in K\n",
"T=5;//temp in K\n",
"Hc=3.3*10^4;//magnetic field at T in A/m\n",
"\n",
"\n",
"//calculation\n",
"Hc0=Hc/(1-(T^2/Tc^2));\n",
"disp(Hc0,'max value of H at 0K (in A/m) is ');"
   ]
   }
,
{
		   "cell_type": "markdown",
		   "metadata": {},
		   "source": [
			"## Example 22.2: calculation_of_transition_temperature.sce"
		   ]
		  },
  {
"cell_type": "code",
	   "execution_count": null,
	   "metadata": {
	    "collapsed": true
	   },
	   "outputs": [],
"source": [
"clc;clear;\n",
"//Example 22.2\n",
"//calculation of transition temperature\n",
"\n",
"//given values\n",
"\n",
"T=8;//temp in K\n",
"Hc=1*10^5;//critical magnetic field at T in A/m\n",
"Hc0=2*10^5;//magnetic field at 0 K in A/m\n",
"\n",
"//calculation\n",
"Tc=T/(sqrt(1-Hc/Hc0));\n",
"disp(Tc,'transition temp in K is');"
   ]
   }
,
{
		   "cell_type": "markdown",
		   "metadata": {},
		   "source": [
			"## Example 22.3: calculation_of_temp_at_which_there_is_max_critical_field.sce"
		   ]
		  },
  {
"cell_type": "code",
	   "execution_count": null,
	   "metadata": {
	    "collapsed": true
	   },
	   "outputs": [],
"source": [
"clc;clear;\n",
"//Example 22.3\n",
"//calculation of temp at which there is  max critical field\n",
"\n",
"//given values\n",
"\n",
"Tc=7.26;//critical temp in K\n",
"Hc=8*10^5;//max critical magnetic field at T in A/m\n",
"H=4*10^4;// subjected magnetic field at in A/m\n",
"\n",
"//calculation\n",
"T=Tc*(sqrt(1-H/Hc));\n",
"disp(T,'max temp for superconductivity in K is');"
   ]
   }
],
"metadata": {
		  "kernelspec": {
		   "display_name": "Scilab",
		   "language": "scilab",
		   "name": "scilab"
		  },
		  "language_info": {
		   "file_extension": ".sce",
		   "help_links": [
			{
			 "text": "MetaKernel Magics",
			 "url": "https://github.com/calysto/metakernel/blob/master/metakernel/magics/README.md"
			}
		   ],
		   "mimetype": "text/x-octave",
		   "name": "scilab",
		   "version": "0.7.1"
		  }
		 },
		 "nbformat": 4,
		 "nbformat_minor": 0
}
