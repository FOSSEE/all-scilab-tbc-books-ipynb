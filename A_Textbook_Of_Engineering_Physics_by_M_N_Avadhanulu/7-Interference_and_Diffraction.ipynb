{
"cells": [
 {
		   "cell_type": "markdown",
	   "metadata": {},
	   "source": [
       "# Chapter 7: Interference and Diffraction"
	   ]
	},
{
		   "cell_type": "markdown",
		   "metadata": {},
		   "source": [
			"## Example 7.1: plane_parallel_thin_film.sce"
		   ]
		  },
  {
"cell_type": "code",
	   "execution_count": null,
	   "metadata": {
	    "collapsed": true
	   },
	   "outputs": [],
"source": [
"clc;clear;\n",
"//Example 7.1\n",
"//plane parallel thin film\n",
"\n",
"//given values\n",
"x=5890*10^-10;//wavelength of light in metre\n",
"n=1.5;//refractive index\n",
"r=60*%pi/180;//angle of refraction in degree\n",
" //calculation\n",
"t=x/(2*n*cos(r));\n",
"disp(t*10^6,'thickness of plate (in micrometre) is:');"
   ]
   }
,
{
		   "cell_type": "markdown",
		   "metadata": {},
		   "source": [
			"## Example 7.2: wedge_shaped_thin_film.sce"
		   ]
		  },
  {
"cell_type": "code",
	   "execution_count": null,
	   "metadata": {
	    "collapsed": true
	   },
	   "outputs": [],
"source": [
"clc;clear;\n",
"//Example 7.2\n",
"//wedge shaped thin film\n",
"\n",
"//given values\n",
"x=5893*10^-10;//wavelength of light in metre\n",
"n=1.5;//refractive index\n",
"y=.1*10^-3;//fringe spacing\n",
" //calculation\n",
"z=x/(2*n*y);//angle of wedge\n",
"alpha=z*180/%pi;//conversion of radian into degree\n",
"disp(alpha,'angle of wedge (in degree) is:');"
   ]
   }
,
{
		   "cell_type": "markdown",
		   "metadata": {},
		   "source": [
			"## Example 7.3: Newtons_ring_experiment.sce"
		   ]
		  },
  {
"cell_type": "code",
	   "execution_count": null,
	   "metadata": {
	    "collapsed": true
	   },
	   "outputs": [],
"source": [
"clc;clear;\n",
"//Example 7.3\n",
"//Newton's ring experiment- calculation of refractive index\n",
"\n",
"//given values\n",
"D1=1.5;//diametre (in cm)of tenth dark ring in air\n",
"D2=1.27;//diametre (in cm)of tenth dark ring in liquid\n",
"\n",
"\n",
" //calculation\n",
"n=D1^2/D2^2;\n",
"disp(n,'refractive index of liquid  is');"
   ]
   }
,
{
		   "cell_type": "markdown",
		   "metadata": {},
		   "source": [
			"## Example 7.4: nonreflecting_film.sce"
		   ]
		  },
  {
"cell_type": "code",
	   "execution_count": null,
	   "metadata": {
	    "collapsed": true
	   },
	   "outputs": [],
"source": [
"clc;clear;\n",
"//Example 7.4\n",
"//nonreflecting film\n",
"\n",
"//given values\n",
"l=5500*10^-10;//wavelength of light\n",
"n1=1.33;//refractive index of water\n",
"n2=1.52;//refractive index of glass window pane\n",
"x=sqrt(n1);//to check if it is nonreflecting\n",
"\n",
" //calculation\n",
"t=l/(4*n1);//thickness of water film required\n",
"disp(t*10^6,'minimum thickness of film (in metre) is');"
   ]
   }
],
"metadata": {
		  "kernelspec": {
		   "display_name": "Scilab",
		   "language": "scilab",
		   "name": "scilab"
		  },
		  "language_info": {
		   "file_extension": ".sce",
		   "help_links": [
			{
			 "text": "MetaKernel Magics",
			 "url": "https://github.com/calysto/metakernel/blob/master/metakernel/magics/README.md"
			}
		   ],
		   "mimetype": "text/x-octave",
		   "name": "scilab",
		   "version": "0.7.1"
		  }
		 },
		 "nbformat": 4,
		 "nbformat_minor": 0
}
