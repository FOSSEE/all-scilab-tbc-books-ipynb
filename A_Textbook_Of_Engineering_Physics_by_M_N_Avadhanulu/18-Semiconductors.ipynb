{
"cells": [
 {
		   "cell_type": "markdown",
	   "metadata": {},
	   "source": [
       "# Chapter 18: Semiconductors"
	   ]
	},
{
		   "cell_type": "markdown",
		   "metadata": {},
		   "source": [
			"## Example 18.2: calculation_of_probability.sce"
		   ]
		  },
  {
"cell_type": "code",
	   "execution_count": null,
	   "metadata": {
	    "collapsed": true
	   },
	   "outputs": [],
"source": [
"clc;clear;\n",
"//Example 18.2\n",
"//calculation of probability\n",
"\n",
"//given values\n",
"T=300;//temp in K\n",
"kT=.026;//temperture equivalent at room temp in eV\n",
"Eg=5.6;//forbidden gap in eV\n",
"\n",
"//calculation\n",
"f=1/(1+%e^(Eg/(2*kT)));\n",
"\n",
"disp(f,'probability of an e being thermally promoted to conduction band is');"
   ]
   }
,
{
		   "cell_type": "markdown",
		   "metadata": {},
		   "source": [
			"## Example 18.3: calculation_of_fraction_of_e_in_CB.sce"
		   ]
		  },
  {
"cell_type": "code",
	   "execution_count": null,
	   "metadata": {
	    "collapsed": true
	   },
	   "outputs": [],
"source": [
"clc;clear;\n",
"//Example 18.3\n",
"//calculation of fraction of e in CB\n",
"\n",
"//given values\n",
"T=300;//temp in K\n",
"kT=.026;//temperture equivalent at room temp in eV\n",
"Eg1=.72;//forbidden gap of germanium in eV\n",
"Eg2=1.1;//forbidden gap of silicon in eV\n",
"Eg3=5.6;//forbidden gap of diamond in eV\n",
"\n",
"//calculation\n",
"f1=%e^(-Eg1/(2*kT));\n",
"disp(f1,'fraction of e in  conduction band of germanium is');\n",
"f2=%e^(-Eg2/(2*kT));\n",
"disp(f2,'fraction of e in  conduction band of silicon is');\n",
"f3=%e^(-Eg3/(2*kT));\n",
"disp(f3,'fraction of e in  conduction band of diamond  is');"
   ]
   }
,
{
		   "cell_type": "markdown",
		   "metadata": {},
		   "source": [
			"## Example 18.4: calculation_of_fractionional_change_in_no_of_e.sce"
		   ]
		  },
  {
"cell_type": "code",
	   "execution_count": null,
	   "metadata": {
	    "collapsed": true
	   },
	   "outputs": [],
"source": [
"clc;clear;\n",
"//Example 18.3\n",
"//calculation of fractionional change in no of e\n",
"\n",
"//given values\n",
"T1=300;//temp in K\n",
"T2=310;//temp in K\n",
"Eg=1.1;//forbidden gap of silicon in eV\n",
"k=8.6*10^-5;//boltzmann's constant in eV/K\n",
"\n",
"//calculation\n",
"n1=(10^21.7)*(T1^(3/2))*10^(-2500*Eg/T1);//no of conduction e at T1\n",
"n2=(10^21.7)*(T2^(3/2))*10^(-2500*Eg/T2);//no of conduction e at T2\n",
"x=n2/n1;\n",
"disp(x,'fractional change in no of e is');"
   ]
   }
,
{
		   "cell_type": "markdown",
		   "metadata": {},
		   "source": [
			"## Example 18.5: calculation_of_resistivity.sce"
		   ]
		  },
  {
"cell_type": "code",
	   "execution_count": null,
	   "metadata": {
	    "collapsed": true
	   },
	   "outputs": [],
"source": [
"clc;clear;\n",
"//Example 18.5\n",
"//calculation of resistivity\n",
"\n",
"//given values\n",
"e=1.6*10^-19;\n",
"ni=2.5*10^19;//intrinsic density of carriers per m^3\n",
"ue=.39;//mobility of e \n",
"uh=.19;//mobility of hole\n",
"\n",
"\n",
"//calculation\n",
"c=e*ni*(ue+uh);//conductivity\n",
"r=1/c;//resistivity\n",
"disp(r,'resistivity in ohm m is');"
   ]
   }
,
{
		   "cell_type": "markdown",
		   "metadata": {},
		   "source": [
			"## Example 18.6: calculation_of_conductivity_of_intrinsic_and_doped_semiconductors.sce"
		   ]
		  },
  {
"cell_type": "code",
	   "execution_count": null,
	   "metadata": {
	    "collapsed": true
	   },
	   "outputs": [],
"source": [
"clc;clear;\n",
"//Example 18.6\n",
"//calculation of conductivity of intrinsic and doped semiconductors\n",
"\n",
"//given values\n",
"h=4.52*10^24;//no of holes per m^3\n",
"e=1.25*10^14;//no of electrons per m^3\n",
"ue=.38;//e mobility\n",
"uh=.18;//hole mobility\n",
"q=1.6*10^-19;//charge of e in C\n",
"//calculation\n",
"ni=sqrt(h*e);//intrinsic concentration\n",
"ci=q*ni*(ue+uh);\n",
"disp(ci,'conductivity of semiconductor(in S/m) is');\n",
"cp=q*h*uh;\n",
"disp(cp,'conductivity of doped semiconductor (in S/m) is');"
   ]
   }
,
{
		   "cell_type": "markdown",
		   "metadata": {},
		   "source": [
			"## Example 18.7: calculation_of_hole_concentration.sce"
		   ]
		  },
  {
"cell_type": "code",
	   "execution_count": null,
	   "metadata": {
	    "collapsed": true
	   },
	   "outputs": [],
"source": [
"clc;clear;\n",
"//Example 18.7\n",
"//calculation of hole concentration\n",
"\n",
"//given values\n",
"ni=2.4*10^19;//carrier concentration per m^3\n",
"N=4*10^28;//concentration of ge atoms per m^3\n",
"\n",
"//calculation\n",
"ND=N/10^6;//donor cocntrtn\n",
"n=ND;//no of electrones\n",
"\n",
"p=ni^2/n;\n",
"disp(p,'concentartion of holes per m^3 is');"
   ]
   }
,
{
		   "cell_type": "markdown",
		   "metadata": {},
		   "source": [
			"## Example 18.8: calculation_of_Hall_voltage.sce"
		   ]
		  },
  {
"cell_type": "code",
	   "execution_count": null,
	   "metadata": {
	    "collapsed": true
	   },
	   "outputs": [],
"source": [
"clc;clear;\n",
"//Example 18.8\n",
"//calculation of Hall voltage\n",
"\n",
"//given values\n",
"ND=10^21;//donor density per m^3\n",
"B=.5;//magnetic field in T\n",
"J=500;//current density in A/m^2\n",
"w=3*10^-3;//width in m\n",
"e=1.6*10^-19;//charge in C\n",
"\n",
"//calculation\n",
"\n",
"\n",
"V=B*J*w/(ND*e);//in volts\n",
"disp(V*10^3,'Hall voltage in mv is');"
   ]
   }
],
"metadata": {
		  "kernelspec": {
		   "display_name": "Scilab",
		   "language": "scilab",
		   "name": "scilab"
		  },
		  "language_info": {
		   "file_extension": ".sce",
		   "help_links": [
			{
			 "text": "MetaKernel Magics",
			 "url": "https://github.com/calysto/metakernel/blob/master/metakernel/magics/README.md"
			}
		   ],
		   "mimetype": "text/x-octave",
		   "name": "scilab",
		   "version": "0.7.1"
		  }
		 },
		 "nbformat": 4,
		 "nbformat_minor": 0
}
