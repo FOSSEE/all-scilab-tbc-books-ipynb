{
"cells": [
 {
		   "cell_type": "markdown",
	   "metadata": {},
	   "source": [
       "# Chapter 4: POLARISATION"
	   ]
	},
{
		   "cell_type": "markdown",
		   "metadata": {},
		   "source": [
			"## Example 4.10: Calculation_of_velocities_of_ordinary_and_extra_ordinary_rays.sce"
		   ]
		  },
  {
"cell_type": "code",
	   "execution_count": null,
	   "metadata": {
	    "collapsed": true
	   },
	   "outputs": [],
"source": [
"clc \n",
"  \n",
"// Given that\n",
"mu_o = 1.658 // refractive index of material for ordinary ray\n",
"mu_e = 1.486 // refractive index of material for extra ordinary ray\n",
"c = 3e8 // speed of light in m/sec\n",
"// Sample Problem 10 on page no. 216\n",
"printf('\n # PROBLEM 10 # \n')\n",
"v_o = c/mu_o // velocity of ordinary ray\n",
"v_e = c/mu_e // velocity of extra ordinary ray\n",
"printf('Standard formula used \n mu=tan(Ip)\n')\n",
"printf('\n Velocity of ordinary ray is %e m/sec \n Velocity of extra ordinary ray is %e m/sec',v_o,v_e)"
   ]
   }
,
{
		   "cell_type": "markdown",
		   "metadata": {},
		   "source": [
			"## Example 4.11: Comparison_of_intensities_of_ordinary_and_extra_ordinary_rays.sce"
		   ]
		  },
  {
"cell_type": "code",
	   "execution_count": null,
	   "metadata": {
	    "collapsed": true
	   },
	   "outputs": [],
"source": [
"clc \n",
"// Given that\n",
"k = 1 // constant\n",
"lambda = 6000 // wavelength of light in angstrom\n",
"mu_o = 1.5442 // refractive index of material for ordinary ray\n",
"mu_e = 1.5532 // refractive index of material for extra ordinary ray\n",
"theta = 30 // Angle of incidence in degree\n",
"// Sample Problem 11 on page no. 216\n",
"printf('\n # PROBLEM 11 # \n')\n",
"I_e =  k * (cos(theta*%pi/180))^2 // intensity of extra ordinary ray\n",
"I_o =  k * (sin(theta*%pi/180))^2 // intensity of ordinary ray\n",
"R = I_e/I_o // ratio of intensities\n",
"printf('Standard formula used \n I = A^2*cos^2(theta)\n')\n",
"printf('\n Ratio of intensities is %d:1.',R)"
   ]
   }
,
{
		   "cell_type": "markdown",
		   "metadata": {},
		   "source": [
			"## Example 4.12: Calculation_of_percentage_of_passed_light.sce"
		   ]
		  },
  {
"cell_type": "code",
	   "execution_count": null,
	   "metadata": {
	    "collapsed": true
	   },
	   "outputs": [],
"source": [
"clc \n",
"// Given that\n",
"I = 1 // Initial intensity\n",
"I_o = I/2 // Intensity after one reflection\n",
"lambda = 6000 // wavelength of light in angstrom\n",
"mu_o = 1.5442 // refractive index of material for ordinary ray\n",
"mu_e = 1.5532 // refractive index of material for extra ordinary ray\n",
"theta = 30 // Angle of between polaroid’s in degree\n",
"// Sample Problem 12 on page no. 217\n",
"printf('\n # PROBLEM 12 # \n')\n",
"I_theta =  I_o * (cos(theta*%pi/180))^2 // intensity of extra ordinary ray\n",
"I_per = I_theta *100/ I // Percentage of incident unpolarized light ray passing through second polaroid\n",
"printf('Standard formula used \n I = A^2*cos^2(theata)\n')\n",
"printf('\n Percentage of incident unpolarised light ray passing \n through second polaroid is %f.',I_per)"
   ]
   }
,
{
		   "cell_type": "markdown",
		   "metadata": {},
		   "source": [
			"## Example 4.13: Calculation_of_rotation_of_prism_required.sce"
		   ]
		  },
  {
"cell_type": "code",
	   "execution_count": null,
	   "metadata": {
	    "collapsed": true
	   },
	   "outputs": [],
"source": [
"clc \n",
"// Given that\n",
"I = 1 // Initial intensity after polarization \n",
"I_theta = I - I/4 // Initial intensity after polarization on rotation\n",
"// Sample Problem 13 on page no. 217\n",
"printf('\n # PROBLEM 13 # \n')\n",
"theta = acos(sqrt(I_theta/I))*180/%pi // Angle of rotation\n",
"printf('Standard formula used \n I = A^2*cos^2(theata)\n')\n",
"printf('\n Angle of rotation required is %d degree.',ceil(theta))"
   ]
   }
,
{
		   "cell_type": "markdown",
		   "metadata": {},
		   "source": [
			"## Example 4.14: Calculation_of_thickness_of_plate.sce"
		   ]
		  },
  {
"cell_type": "code",
	   "execution_count": null,
	   "metadata": {
	    "collapsed": true
	   },
	   "outputs": [],
"source": [
"clc \n",
"// Given that\n",
"lambda = 5.89e-7 // wavelength of light in meter\n",
"mu_o = 1.658 // refractive index for ordinary light\n",
"mu_e = 1.486 // refractive index for extraordinary light \n",
"// Sample Problem 14 on page no. 218\n",
"printf('\n # PROBLEM 14 # \n')\n",
"t = lambda / (4 * (mu_o - mu_e))\n",
"// calculation for thickness of plate of quartz\n",
"printf('\n Standard formula used \n t = lambda / (4 * (mu_o - mu_e)) ')\n",
"printf('\n Thickness of plate of calcite is %e meter.',t)"
   ]
   }
,
{
		   "cell_type": "markdown",
		   "metadata": {},
		   "source": [
			"## Example 4.15: Calculation_of_thickness_of_quarter_plate.sce"
		   ]
		  },
  {
"cell_type": "code",
	   "execution_count": null,
	   "metadata": {
	    "collapsed": true
	   },
	   "outputs": [],
"source": [
"clc \n",
"// Given that\n",
"lambda = 5.89e-7 // wavelength of light in meter\n",
"mu_o = 1.55 // refractive index for ordinary light\n",
"mu_e = 1.54 // refractive index for extraordinary light \n",
"// Sample Problem 15 on page no. 218\n",
"printf('\n # PROBLEM 15 # \n')\n",
"t = lambda / (4 * (mu_o - mu_e))\n",
"// calculation for thickness of plate of quartz\n",
"printf('\n Standard formula used \n t = lambda / (4 * (mu_o - mu_e)) ')\n",
"printf('\n Thickness of plate of calcite is %e meter.',t)"
   ]
   }
,
{
		   "cell_type": "markdown",
		   "metadata": {},
		   "source": [
			"## Example 4.16: Calculation_of_thickness_of_plate.sce"
		   ]
		  },
  {
"cell_type": "code",
	   "execution_count": null,
	   "metadata": {
	    "collapsed": true
	   },
	   "outputs": [],
"source": [
"clc \n",
"// Given that\n",
"lambda = 5e-7 // wavelength of light in meter\n",
"mu_o = 1.5442 // refractive index for ordinary light\n",
"mu_e = 1.5533 // refractive index for extraordinary light \n",
"// Sample Problem 16 on page no. 218\n",
"printf('\n # PROBLEM 16 # \n')\n",
"t1 = lambda/(2*(mu_e - mu_o))\n",
"t3 = 3*t1\n",
"t5 = 5*t1\n",
"// calculation for thickness of plate of quartz\n",
"printf('\n Standard formula used \n t = lambda / (4 * (mu_o - mu_e)) ')\n",
"printf('\n Thickness of plate of calcite is \n %e meter,\n %e meter, \n %e meter and so on .....',t1,t3,t5)"
   ]
   }
,
{
		   "cell_type": "markdown",
		   "metadata": {},
		   "source": [
			"## Example 4.17: Calculation_of_difference_in_refractive_indices.sce"
		   ]
		  },
  {
"cell_type": "code",
	   "execution_count": null,
	   "metadata": {
	    "collapsed": true
	   },
	   "outputs": [],
"source": [
"clc\n",
"// Given that\n",
"lambda = 5086 // Wavelength of light\n",
"s = 29.73 // Specific rotation of fluid in deg/mm\n",
"// Sample Problem 17 on page no. 219\n",
"printf('\n # PROBLEM 17 # \n')\n",
"del_mu = lambda*1e-7*s/180 // Calculation of differences in refractive index \n",
"printf('\n Standard formula used \n theta = pi*d*del_mu/lambda. \n')\n",
"printf('\n Differences in refractive indices is %e .',del_mu)\n",
""
   ]
   }
,
{
		   "cell_type": "markdown",
		   "metadata": {},
		   "source": [
			"## Example 4.18: Calculation_of_constants_and_thickness_of_plate.sce"
		   ]
		  },
  {
"cell_type": "code",
	   "execution_count": null,
	   "metadata": {
	    "collapsed": true
	   },
	   "outputs": [],
"source": [
"clc\n",
"// Given that\n",
"lambda1 = 5000 // Wavelength of light in angstrom\n",
"theta1 = 30 // Optical rotation for lambda1 in degree\n",
"lambda2 = 4000 // Wavelength of light in angstrom\n",
"theta2 = 50 // Optical rotation for lambda2 in degree\n",
"t = 1 // Thickness of plate in mm\n",
"theta_max = 90 // Angle between prisms for maximum trnsition in degree\n",
"// Sample Problem 18 on page no. 219\n",
"printf('\n # PROBLEM 18 # \n')\n",
"\n",
"printf('\n Standard formula used \n theta = a + b/(lambda)^2. \n')\n",
"b = (theta2-theta1)*(lambda1*1e-10*lambda2*1e-10)^2/((lambda1*1e-10)^2-(lambda2*1e-10)^2) // Calculation for constant b\n",
"a = theta1 -b/(lambda1*1e-10)^2 // Calculation of constant a\n",
"\n",
"t_min = t* theta_max/theta1 // calculation of thickness of material for maximum thickness in mm\n",
"printf('\n Contents are as : \n a = %f deg/mm \n b = %e deg/mm angestrom^2 \n Thickness of plate required is %dmm.',a,b*1e10^2,t_min)\n",
""
   ]
   }
,
{
		   "cell_type": "markdown",
		   "metadata": {},
		   "source": [
			"## Example 4.19: Calculation_of_rotation_of_plane_of_polarization.sce"
		   ]
		  },
  {
"cell_type": "code",
	   "execution_count": null,
	   "metadata": {
	    "collapsed": true
	   },
	   "outputs": [],
"source": [
"clc \n",
"// Given that\n",
"lambda = 7620 // Wavelength of light in angstrom\n",
"mu_r = 1.53914 // refractive index of quartz for right handed circularly polarized light\n",
"mu_l = 1.5392 // refractive index of quartz for left handed circularly polarized light\n",
"t = 0.5 // thickness of plate in mm\n",
"// Sample Problem 19 on page no. 220\n",
"printf('\n # PROBLEM 19 # \n')\n",
"theta = %pi*t*(mu_l-mu_r)/(lambda*1e-7)*180/%pi // Rotation of plane of polarization\n",
"printf('\n Standard formula used \n theta = pi*t*(mu_l-mu_r)/(lambda). \n')\n",
"printf('\n Rotation of plane of polarization is %f degree.',theta)"
   ]
   }
,
{
		   "cell_type": "markdown",
		   "metadata": {},
		   "source": [
			"## Example 4.1: Calculation_of_angle_of_polarization.sce"
		   ]
		  },
  {
"cell_type": "code",
	   "execution_count": null,
	   "metadata": {
	    "collapsed": true
	   },
	   "outputs": [],
"source": [
"clc  \n",
"// Given that\n",
"theta = 45 // Critical angle of light in a substance in degree\n",
"// Sample Problem 1 on page no. 213\n",
"printf('\n # PROBLEM 1 # \n')\n",
"mu = sin(45*%pi/180) // Refractive index of medium\n",
"Ip = atan(mu) * (180 / %pi) // by Brewster's law\n",
"printf('Standard formula used \n mu=tan(Ip)\n')\n",
"printf('\n  Brewster Angle = %f degree',Ip)"
   ]
   }
,
{
		   "cell_type": "markdown",
		   "metadata": {},
		   "source": [
			"## Example 4.20: Calculation_of_strength_of_solution.sce"
		   ]
		  },
  {
"cell_type": "code",
	   "execution_count": null,
	   "metadata": {
	    "collapsed": true
	   },
	   "outputs": [],
"source": [
"clc \n",
"// Given that\n",
"theta = 13 // rotation of plane of polarization in degree\n",
"s = 65 // specific rotation of sugar solution in degree per decimeter per unit concentration\n",
"l = 2 // length of Polari meter in decimeter\n",
"// Sample Problem 20 on page no. 221\n",
"printf('\n # PROBLEM 20 # \n')\n",
"c = theta / (s * l) // calculation for concentration of sugar solution\n",
"printf('\n Standard formula used \n c = theta / (s * l). \n')\n",
"printf('\n Concentration of sugar solution = %f gm/cc or %d percent.',c,c*100)"
   ]
   }
,
{
		   "cell_type": "markdown",
		   "metadata": {},
		   "source": [
			"## Example 4.21: Calculation_of_specific_rotation_of_solution.sce"
		   ]
		  },
  {
"cell_type": "code",
	   "execution_count": null,
	   "metadata": {
	    "collapsed": true
	   },
	   "outputs": [],
"source": [
"clc \n",
"// Given that\n",
"theta = 26.4 // rotation of plane of polarization in degree\n",
"c = 0.2 // Concentration of sugar solution in g/cm^3\n",
"l = 2 // length of Polari meter in decimeter\n",
"// Sample Problem 21 on page no. 221\n",
"printf('\n # PROBLEM 21 # \n')\n",
"s = theta/(c*l) // Specific rotation of sugar solution \n",
"printf('\n Standard formula used \n c = theta / (s * l). \n')\n",
"printf('\n Specific rotation of sugar solution is %d percent.',ceil(s))"
   ]
   }
,
{
		   "cell_type": "markdown",
		   "metadata": {},
		   "source": [
			"## Example 4.22: Calculation_of_differences_in_indices.sce"
		   ]
		  },
  {
"cell_type": "code",
	   "execution_count": null,
	   "metadata": {
	    "collapsed": true
	   },
	   "outputs": [],
"source": [
"clc \n",
"// Given that\n",
"lambda = 5086 // Wavelength of light in angstrom\n",
"s = 29.73 // specific rotation on deg/mm\n",
"// Sample Problem 22 on page no. 220\n",
"printf('\n # PROBLEM 22 # \n')\n",
"del_mu = lambda*1e-7*s/180 // Difference in indices \n",
"printf('\n Standard formula used \n theta = pi*t*(mu_l-mu_r)/(lambda). \n')\n",
"printf('\n Difference in indices is %e.',del_mu)"
   ]
   }
,
{
		   "cell_type": "markdown",
		   "metadata": {},
		   "source": [
			"## Example 4.23: Calculation_of_optical_rotation.sce"
		   ]
		  },
  {
"cell_type": "code",
	   "execution_count": null,
	   "metadata": {
	    "collapsed": true
	   },
	   "outputs": [],
"source": [
"clc \n",
"// Given that\n",
"theta1 = 13 // rotation of plane of polarization in degree\n",
"c1 = 1 // let concentration of solution is unity\n",
"c2 = c1/3 // concentration of final solution \n",
"l1 = 2 // length of Polari meter in decimeter in 1st case \n",
"l2 = 3 // length of Polari meter in decimeter in 2nd case \n",
"// Sample Problem 23 on page no. 221\n",
"printf('\n # PROBLEM 23 # \n')\n",
"s = theta1/(l1*c1) // Specific rotation of solution\n",
"theta2 = s*l2*c2 // // rotation of plane of polarization in degree\n",
"printf('\n Standard formula used \n c = theta / (s * l). \n')\n",
"printf('\n Rotation of plane of polarization is %f degree.',theta2)"
   ]
   }
,
{
		   "cell_type": "markdown",
		   "metadata": {},
		   "source": [
			"## Example 4.24: Calculation_of_percentage_purity_of_solution.sce"
		   ]
		  },
  {
"cell_type": "code",
	   "execution_count": null,
	   "metadata": {
	    "collapsed": true
	   },
	   "outputs": [],
"source": [
"clc \n",
"// Given that\n",
"m = 80 //  mass of sugar in gram\n",
"V = 1 // Volume of sugar in liter\n",
"theta = 9.9 // rotation of plane of polarization in degree\n",
"s = 66 // specific rotation of sugar in degree\n",
"l = 2 // length of Polari meter in decimeter  \n",
"// Sample Problem 24 on page no. 222\n",
"printf('\n # PROBLEM 24 # \n')\n",
"c = theta*1000/(l*s) // concentration of dissolved sugar\n",
"purity = c*V*100/m // purity percentage of solution \n",
"printf('\n Standard formula used \n c = theta / (s * l). \n')\n",
"printf('\n Purity percentage of solution is %f percent.',purity)"
   ]
   }
,
{
		   "cell_type": "markdown",
		   "metadata": {},
		   "source": [
			"## Example 4.2: Calculation_of_angle_of_refraction_and_refractive_index_of_water.sce"
		   ]
		  },
  {
"cell_type": "code",
	   "execution_count": null,
	   "metadata": {
	    "collapsed": true
	   },
	   "outputs": [],
"source": [
"clc \n",
"// Given that\n",
"theta_p = 53 // Polarizing angle of light in a substance in degree\n",
"// Sample Problem 2 on page no. 213\n",
"printf('\n # PROBLEM 2 # \n')\n",
"theta_r = 90- theta_p // Angle of refraction\n",
"mu = tan(theta_p*%pi/180)  // by Brewster's law\n",
"printf('Standard formula used \n mu=tan(Ip)\n')\n",
"printf('\n Angle of refraction is %ddegree. \n Refractive index of material is %f.',theta_r,mu)\n",
"  "
   ]
   }
,
{
		   "cell_type": "markdown",
		   "metadata": {},
		   "source": [
			"## Example 4.3: Calculation_of_angle_of_polarization_of_water.sce"
		   ]
		  },
  {
"cell_type": "code",
	   "execution_count": null,
	   "metadata": {
	    "collapsed": true
	   },
	   "outputs": [],
"source": [
"clc \n",
"// Given that\n",
"mu = 1.33 // refractive index of water \n",
"// Sample Problem 3 on page no. 214\n",
"printf('\n # PROBLEM 3 # \n')\n",
"p = atan(mu)*180/%pi // Polarization angle\n",
"printf('Standard formula used \n mu=tan(Ip)\n')\n",
"printf('\n Polarization angle of water is %d degree',p)"
   ]
   }
,
{
		   "cell_type": "markdown",
		   "metadata": {},
		   "source": [
			"## Example 4.4: Analysis_of_polarization_angle.sce"
		   ]
		  },
  {
"cell_type": "code",
	   "execution_count": null,
	   "metadata": {
	    "collapsed": true
	   },
	   "outputs": [],
"source": [
"clc \n",
"// Given that\n",
"mu_w = 1.33 // refractive index of water\n",
"mu_g = 1.54 // refractive index of glass\n",
"// Sample Problem 4 on page no. 3.24\n",
"printf('\n # PROBLEM 4 # \n')\n",
"Ip_1 = atan(mu_g / mu_w) * (180 / %pi)//calculation for polarizing angle for water\n",
"Ip_2 = atan(mu_w / mu_g) * (180 / %pi) // calculation for polarizing angle for glass\n",
"printf('Standard formula used \n mu=tan(Ip)\n')\n",
"printf('\n Polarizing angle for water to glass = %f degree,\n Polarizing angle for glass to water = %f degree',Ip_1,Ip_2)"
   ]
   }
,
{
		   "cell_type": "markdown",
		   "metadata": {},
		   "source": [
			"## Example 4.5: Calculation_of_refractive_index_of_glass.sce"
		   ]
		  },
  {
"cell_type": "code",
	   "execution_count": null,
	   "metadata": {
	    "collapsed": true
	   },
	   "outputs": [],
"source": [
"clc \n",
"// Given that\n",
"theta_p = 58.6 // Polarizing angle of light in glass plate in degree\n",
"// Sample Problem 5 on page no. 214\n",
"printf('\n # PROBLEM 5 # \n')\n",
"mu = tan(theta_p*%pi/180)  // by Brewster's law\n",
"printf('Standard formula used \n mu=tan(Ip)\n')\n",
"printf(' \n Refractive index of material is %f.',mu)"
   ]
   }
,
{
		   "cell_type": "markdown",
		   "metadata": {},
		   "source": [
			"## Example 4.6: Calculation_of_refractive_index_of_glass.sce"
		   ]
		  },
  {
"cell_type": "code",
	   "execution_count": null,
	   "metadata": {
	    "collapsed": true
	   },
	   "outputs": [],
"source": [
"clc \n",
"// Given that\n",
"theta_p = 51 // Polarizing angle of light in glass plate in degree\n",
"// Sample Problem 6 on page no. 214\n",
"printf('\n # PROBLEM 6 # \n')\n",
"mu = tan(theta_p*%pi/180)  // by Brewster's law\n",
"printf('Standard formula used \n mu=tan(Ip)\n')\n",
"printf(' \n Refractive index of material is %f.',mu)"
   ]
   }
,
{
		   "cell_type": "markdown",
		   "metadata": {},
		   "source": [
			"## Example 4.7: Calculation_of_polarization_angle.sce"
		   ]
		  },
  {
"cell_type": "code",
	   "execution_count": null,
	   "metadata": {
	    "collapsed": true
	   },
	   "outputs": [],
"source": [
"clc \n",
"// Given that\n",
"theta_c =45 // Critical angle of light in a substance in degree\n",
"// Sample Problem 7 on page no. 215\n",
"printf('\n # PROBLEM 7 # \n')\n",
"mu = sin(theta_c*%pi/180)  // by Brewster's law\n",
"p = atan(mu)*180/%pi // Polarization angle of light in a substance in degree\n",
"printf('Standard formula used \n mu=tan(Ip)\n')\n",
"printf(' \n Polarization angle of material is %f degree.',p)"
   ]
   }
,
{
		   "cell_type": "markdown",
		   "metadata": {},
		   "source": [
			"## Example 4.8: Calculation_of_angle_of_refraction.sce"
		   ]
		  },
  {
"cell_type": "code",
	   "execution_count": null,
	   "metadata": {
	    "collapsed": true
	   },
	   "outputs": [],
"source": [
"clc \n",
"// Given that\n",
"mu_g = 1.55 // refractive index of glass\n",
"// Sample Problem 8 on page no. 215\n",
"printf('\n # PROBLEM 8 # \n')\n",
"Ip = atan(mu_g) * (180 / %pi)//calculation for polarizing angle for glass\n",
"I_r = 90 - Ip // Angle of refraction\n",
"printf('Standard formula used \n mu=tan(Ip)\n')\n",
"printf('\n Polarizing angle for glass is %d degree.\n Corresponding angle of refraction is %d degree.',Ip,ceil(I_r))"
   ]
   }
,
{
		   "cell_type": "markdown",
		   "metadata": {},
		   "source": [
			"## Example 4.9: Calculation_of_angle_of_refraction_and_refractive_index_of_liquid.sce"
		   ]
		  },
  {
"cell_type": "code",
	   "execution_count": null,
	   "metadata": {
	    "collapsed": true
	   },
	   "outputs": [],
"source": [
"clc \n",
"// Given that\n",
"Ip = 53 // Angle of polarization of light\n",
"// Sample Problem 9 on page no. 216\n",
"printf('\n # PROBLEM 9 # \n')\n",
"I_r = 90 - Ip // Angle of refraction\n",
"mu = tan(Ip*%pi/180) // Refractive index of water\n",
"printf('Standard formula used \n mu=tan(Ip)\n')\n",
"printf('\nAngle of refraction is %d degree. \n Refractive index of material is %f',I_r,mu)"
   ]
   }
],
"metadata": {
		  "kernelspec": {
		   "display_name": "Scilab",
		   "language": "scilab",
		   "name": "scilab"
		  },
		  "language_info": {
		   "file_extension": ".sce",
		   "help_links": [
			{
			 "text": "MetaKernel Magics",
			 "url": "https://github.com/calysto/metakernel/blob/master/metakernel/magics/README.md"
			}
		   ],
		   "mimetype": "text/x-octave",
		   "name": "scilab",
		   "version": "0.7.1"
		  }
		 },
		 "nbformat": 4,
		 "nbformat_minor": 0
}
