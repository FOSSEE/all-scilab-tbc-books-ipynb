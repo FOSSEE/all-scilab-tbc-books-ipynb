{
"cells": [
 {
		   "cell_type": "markdown",
	   "metadata": {},
	   "source": [
       "# Chapter 1: Theory of relativity"
	   ]
	},
{
		   "cell_type": "markdown",
		   "metadata": {},
		   "source": [
			"## Example 1.10: Calculation_of_relative_velocity.sce"
		   ]
		  },
  {
"cell_type": "code",
	   "execution_count": null,
	   "metadata": {
	    "collapsed": true
	   },
	   "outputs": [],
"source": [
"clc \n",
" \n",
"// Given that\n",
"l_0 = 1// let initial length of rod in m\n",
"l = 0.99 // Observed length in m\n",
"c = 3e8 // speed of light in m/s\n",
"// Sample Problem 10 on page no. 27\n",
"printf('\n # PROBLEM 10 # \n')\n",
"printf(' Standard formula used \n')\n",
"printf(' l = l_0/((1-v^2/c^2)^1/2)  \n')\n",
"v = c* sqrt(1-(l/l_0)^2)// speed of rocket in m/s\n",
"printf('\n Speed of rocket is %e m/s.',v)"
   ]
   }
,
{
		   "cell_type": "markdown",
		   "metadata": {},
		   "source": [
			"## Example 1.11: Calculation_of_relative_velocity_of_circular_lamina.sce"
		   ]
		  },
  {
"cell_type": "code",
	   "execution_count": null,
	   "metadata": {
	    "collapsed": true
	   },
	   "outputs": [],
"source": [
"clc \n",
"// Given that\n",
"l_0 = 1// let initial length of rod in m\n",
"l = l_0/2 // Observed length in m\n",
"c = 3e8 // speed of light in m/s\n",
"// Sample Problem 11 on page no. 28\n",
"printf('\n # PROBLEM 11 # \n')\n",
"printf(' Standard formula used \n')\n",
"printf(' l = l_0/((1-v^2/c^2)^1/2)  \n')\n",
"v = c* sqrt(1-(l/l_0)^2)// speed of rocket in m/s\n",
"printf('\n Speed of moving lamina  is %e m/s.',v)"
   ]
   }
,
{
		   "cell_type": "markdown",
		   "metadata": {},
		   "source": [
			"## Example 1.12: Calculation_of_percentage_contraction_in_length.sce"
		   ]
		  },
  {
"cell_type": "code",
	   "execution_count": null,
	   "metadata": {
	    "collapsed": true
	   },
	   "outputs": [],
"source": [
"clc \n",
"// Given that\n",
"l_0 = 1// let initial length of rod in m\n",
"c = 3e8 // speed of light in m/s\n",
"v = 0.8*c //  speed of frame of reference in m/s\n",
"// Sample Problem 12 on page no. 29\n",
"printf('\n # PROBLEM 12 # \n')\n",
"printf(' Standard formula used \n')\n",
"printf(' l = l_0/((1-v^2/c^2)^1/2)  \n')\n",
"l = l_0*sqrt(1-(v/c)^2) // apparent length of rod in m\n",
"change_l_per = 100*(l_0-l)/l_0\n",
"printf('\n Percentage contraction in length is %d percent. ',change_l_per)"
   ]
   }
,
{
		   "cell_type": "markdown",
		   "metadata": {},
		   "source": [
			"## Example 1.13: Calculation_of_relative_velocity.sce"
		   ]
		  },
  {
"cell_type": "code",
	   "execution_count": null,
	   "metadata": {
	    "collapsed": true
	   },
	   "outputs": [],
"source": [
"clc \n",
"// Given that\n",
"l_0 = 100// let initial length of rod in m\n",
"l = 99 // Observed length in m\n",
"c = 3e8 // speed of light in m/s\n",
"// Sample Problem 13 on page no. 29\n",
"printf('\n # PROBLEM 13 # \n')\n",
"printf(' Standard formula used \n')\n",
"printf(' l = l_0/((1-v^2/c^2)^1/2)  \n')\n",
"v = c* sqrt(1-(l/l_0)^2)// speed of rocket in m/s\n",
"printf('\n Speed of rocket ship is %e m/s.',v)\n",
""
   ]
   }
,
{
		   "cell_type": "markdown",
		   "metadata": {},
		   "source": [
			"## Example 1.14: Calculation_of_percentage_contraction_in_rod.sce"
		   ]
		  },
  {
"cell_type": "code",
	   "execution_count": null,
	   "metadata": {
	    "collapsed": true
	   },
	   "outputs": [],
"source": [
"clc \n",
"// Given that\n",
"l = 100 // consider the length of the rod in meter\n",
"v = 2.4e8 // speed of rod in meter/sec\n",
"theta = %pi / 3 // direction of velocity of rod along its length in radian\n",
"// Sample Problem 14 on page no. 30\n",
"printf('\n # PROBLEM 14 # \n')\n",
"printf(' Standard formula used \n')\n",
"printf(' l = l_0/((1-v^2/c^2)^1/2)  \n l^2 = l_x^2 + l_y^2 \n')\n",
"Lx = l * cos(theta)\n",
"Ly = l * sin(theta)\n",
"L_x = Lx * sqrt(1 - (v / 3e8)^2)\n",
"L_y = Ly \n",
"L = sqrt(L_x^2 + L_y^2)\n",
"p_l = ((l - L) / l) * 100 \n",
"printf('\n Percentage length contraction is %f percent.',p_l)"
   ]
   }
,
{
		   "cell_type": "markdown",
		   "metadata": {},
		   "source": [
			"## Example 1.15: Calculation_of_relative_velocity.sce"
		   ]
		  },
  {
"cell_type": "code",
	   "execution_count": null,
	   "metadata": {
	    "collapsed": true
	   },
	   "outputs": [],
"source": [
"clc \n",
"// Given that\n",
"t_0 = 12*60*60 // time of 12 hours in sec\n",
"t = t_0+30 // lose in time in sec for 12 hours\n",
"c = 3e8 // speed of light in m/s\n",
"// Sample Problem 15 on page no. 38\n",
"printf('\n # PROBLEM 15 # \n')\n",
"printf(' Standard formula used \n')\n",
"printf(' t = t_0/((1-v^2/c^2)^1/2) \n')\n",
"v = c * sqrt(1 - (t_0/t)^2)\n",
"printf('\n Speed of clock is %e meter/sec.',v)"
   ]
   }
,
{
		   "cell_type": "markdown",
		   "metadata": {},
		   "source": [
			"## Example 1.16: Calculation_of_relative_velocity.sce"
		   ]
		  },
  {
"cell_type": "code",
	   "execution_count": null,
	   "metadata": {
	    "collapsed": true
	   },
	   "outputs": [],
"source": [
"clc \n",
"// Given that\n",
"t_0 = 24*60 // time of 24 hours in min\n",
"t = t_0+4 // lose in time in min for 24 hours\n",
"c = 3e8 // speed of light in m/s\n",
"// Sample Problem 16 on page no. 39\n",
"printf('\n # PROBLEM 16 # \n')\n",
"printf(' Standard formula used \n')\n",
"printf(' t = t_0/((1-v^2/c^2)^1/2) \n')\n",
"v = sqrt(2*(t/t_0 -1 ))*c // By binomial theoram\n",
"printf('\n Speed of clock is %e meter/sec.',v)"
   ]
   }
,
{
		   "cell_type": "markdown",
		   "metadata": {},
		   "source": [
			"## Example 1.17: Calculation_of_distance_traveled_by_meson.sce"
		   ]
		  },
  {
"cell_type": "code",
	   "execution_count": null,
	   "metadata": {
	    "collapsed": true
	   },
	   "outputs": [],
"source": [
"clc \n",
"// Given that\n",
"t_ = 5e-8 // proper life of pi+ mesons in sec\n",
"c = 3e8 // Speed of light in m/s\n",
"v = 0.8*c // velocity of meson beam in m/sec\n",
"r = 1 / exp(2) // ratio of final flux to initial flux of the meson beam\n",
"// Sample Problem 17 on page no. 36\n",
"printf('\n # PROBLEM 17 # \n')\n",
"printf(' Standard formula used \n')\n",
"printf(' t = t_0/((1-v^2/c^2)^1/2) \n N = N_0*e^(-t/tau) \n')\n",
"t = t_ / sqrt(1 - (v / 3e8)^2)\n",
"T = t * log(1 / r)\n",
"d = T * v\n",
"printf('\n Distance travel by the beam is %f meter.',d)"
   ]
   }
,
{
		   "cell_type": "markdown",
		   "metadata": {},
		   "source": [
			"## Example 1.18: Calculation_of_average_distance_traveled_by_meson.sce"
		   ]
		  },
  {
"cell_type": "code",
	   "execution_count": null,
	   "metadata": {
	    "collapsed": true
	   },
	   "outputs": [],
"source": [
"clc \n",
"// Given that\n",
"t_ = 2.2e-6 // proper life of mu mesons in sec\n",
"c = 3e8 // Speed of light in m/s\n",
"v = 0.8*c // velocity of meson beam in m/sec\n",
"// Sample Problem 18 on page no. 36\n",
"printf('\n # PROBLEM 18 # \n')\n",
"printf(' Standard formula used \n')\n",
"printf(' t = t_0/((1-v^2/c^2)^1/2) \n s = v*t \n')\n",
"t = t_ / sqrt(1 - (v / c)^2)\n",
"d = t * v\n",
"printf('\n Distance travel by the beam is %e meter.',d)"
   ]
   }
,
{
		   "cell_type": "markdown",
		   "metadata": {},
		   "source": [
			"## Example 1.19: EX1_19.sce"
		   ]
		  },
  {
"cell_type": "code",
	   "execution_count": null,
	   "metadata": {
	    "collapsed": true
	   },
	   "outputs": [],
"source": [
"clc \n",
" \n",
"// Given that\n",
"t_ = 5e-8 // proper life of +pi mesons in sec\n",
"c = 3e8 // Speed of light in m/s\n",
"v = 2.4e8 // velocity of meson beam in m/sec\n",
"// Sample Problem 19 on page no. 37\n",
"printf('\n # PROBLEM 19 # \n')\n",
"printf(' Standard formula used \n')\n",
"printf(' t = t_0/((1-v^2/c^2)^1/2) \n s = v*t \n')\n",
"t = t_ / sqrt(1 - (v / c)^2)\n",
"d = t * v\n",
"printf('\n Mean life of +pi meson is %e sec \n Distance travel by the beam is %f meter.',t,d)"
   ]
   }
,
{
		   "cell_type": "markdown",
		   "metadata": {},
		   "source": [
			"## Example 1.1: Calculation_of_fictitious_forces.sce"
		   ]
		  },
  {
"cell_type": "code",
	   "execution_count": null,
	   "metadata": {
	    "collapsed": true
	   },
	   "outputs": [],
"source": [
"clc\n",
"// Given that\n",
"m = 6 // mass of object in kg\n",
"a= 5 // acceleration of object in m/s^2\n",
"g = 9.8 // acceleration due to gravity in m/s^2\n",
"// Sample problem 1 on page no. 10\n",
"printf('\n # Problem 1 \n')\n",
"F_down = m*(g+a) // force acting on a particle going downwards in N\n",
"F_up = m*(g-a)//force acting on a particle going upwards in N\n",
"printf('\n  Force acting on a particle while going upward is %f N \n  Force acting on a particle while going downward is %f N',F_up,F_down)\n",
""
   ]
   }
,
{
		   "cell_type": "markdown",
		   "metadata": {},
		   "source": [
			"## Example 1.20: Calculation_of_relative_velocity.sce"
		   ]
		  },
  {
"cell_type": "code",
	   "execution_count": null,
	   "metadata": {
	    "collapsed": true
	   },
	   "outputs": [],
"source": [
"clc \n",
"// Given that\n",
"c = 3e8 // speed of light in m/s\n",
"u= -1*0.8*c // speed of particle A in m/s\n",
"v = 0.8*c // speed of particle B in m/s\n",
"// Sample Problem 20 on page no. 40\n",
"printf('\n # PROBLEM 20 # \n')\n",
"printf(' Standard formula used \n')\n",
"printf(' u_x = u_x_ + v / (1+ v*u_x_/c^2) \n ')\n",
"u1 = (u-v) / (1 - ((u * v) / (c)^2))\n",
"printf('\n Velocity of one particle relative to other is %e m/sec.',abs(u1))"
   ]
   }
,
{
		   "cell_type": "markdown",
		   "metadata": {},
		   "source": [
			"## Example 1.21: Calculation_of_relative_velocity_of_beta_particle_by_experimenter.sce"
		   ]
		  },
  {
"cell_type": "code",
	   "execution_count": null,
	   "metadata": {
	    "collapsed": true
	   },
	   "outputs": [],
"source": [
"clc \n",
"// Given that\n",
"c = 3e8 // speed of light in m/s\n",
"u= 0.25*c // speed of radioactive atom in m/sec\n",
"v = 0.9*c // speed of beta particle wrt to atom in same direction in m/sec\n",
"// Sample Problem 21 on page no. 41\n",
"printf('\n # PROBLEM 21 # \n')\n",
"printf(' Standard formula used \n')\n",
"printf(' u_x = u_x_ + v / (1+ v*u_x_/c^2) \n ')\n",
"u1 = (u+v) / (1 + ((u * v) / (c)^2))\n",
"printf('\n Velocity of one particle relative to other is %e m/sec.',abs(u1))"
   ]
   }
,
{
		   "cell_type": "markdown",
		   "metadata": {},
		   "source": [
			"## Example 1.22: Calculation_of_relative_velocity_vector_in_laboratory_frame.sce"
		   ]
		  },
  {
"cell_type": "code",
	   "execution_count": null,
	   "metadata": {
	    "collapsed": true
	   },
	   "outputs": [],
"source": [
"clc \n",
"// Given that\n",
"u_x_ = 3 //Particle velocity in X direction in m/sec\n",
"u_y_ = 4 //Particle velocity in Y direction in m/sec\n",
"u_z_ = 12 //Particle velocity in Z direction in m/sec\n",
"c= 3e8 // speed of light in m/sec\n",
"v = 0.8*c // velocity of frame of reference in m/sec\n",
"// Sample Problem 22 on page no. 42\n",
"printf('\n # PROBLEM 22 # \n')\n",
"printf(' Standard formula used \n')\n",
"printf(' u_x = u_x_ + v / (1+ v*u_x_/c^2) \n ')\n",
"u_x = (u_x_+v)/(1+v*u_x_/c^2) // velocity in X direction laboratory frame of reference in m/sec\n",
"u_y = u_y_*sqrt(1-(v/c)^2)/(1+v*u_x_/c^2) // velocity in Y direction laboratory frame of reference in m/sec\n",
"u_z = u_z_*sqrt(1-(v/c)^2)/(1+v*u_x_/c^2) // velocity in Z direction laboratory frame of reference in m/sec\n",
"printf('\n Velocity of particle is %e i+ %f j+ %f k ',u_x,u_y,u_z)"
   ]
   }
,
{
		   "cell_type": "markdown",
		   "metadata": {},
		   "source": [
			"## Example 1.24: Calculation_of_meter_stick_moving_a_higher_mass_than_rest_mass.sce"
		   ]
		  },
  {
"cell_type": "code",
	   "execution_count": null,
	   "metadata": {
	    "collapsed": true
	   },
	   "outputs": [],
"source": [
"clc \n",
"// Given that\n",
"m_0 = 1 // let mass of the rod in kg\n",
"m = 1.5*m_0 // mass of moving rod in kg\n",
"l_0 = 1 // length of meter stick in m \n",
"c = 3e8 // speed of light in m/sec\n",
"// Sample Problem 24 on page no. 52\n",
"printf('\n # PROBLEM 24 # \n')\n",
"printf(' Standard formula used \n')\n",
"printf(' l = l_0/((1-v^2/c^2)^1/2) \n m = m_0/((1-v^2/c^2)^1/2) \n')\n",
"v = c*sqrt(1-(m_0/m)^2) // velocity of moving rod in m/sec\n",
"L = l_0 * sqrt(1- (v / c)^2)\n",
"printf('\n Length as it appear to the observer is %f meter. ',L)"
   ]
   }
,
{
		   "cell_type": "markdown",
		   "metadata": {},
		   "source": [
			"## Example 1.25: EX1_25.sce"
		   ]
		  },
  {
"cell_type": "code",
	   "execution_count": null,
	   "metadata": {
	    "collapsed": true
	   },
	   "outputs": [],
"source": [
"clc \n",
"// Given that\n",
"m_0 = 1 // let mass of the particle in kg\n",
"c = 3e8 // speed of light in m/sec\n",
"v = c/sqrt(2) // velocity of moving particle in m/sec\n",
"// Sample Problem 25 on page no. 53\n",
"printf('\n # PROBLEM 25 # \n')\n",
"printf(' Standard formula used \n')\n",
"printf('\n m = m_0/((1-v^2/c^2)^1/2) \n')\n",
"m = m_0/sqrt(1-(v/c)^2) // mass of moving particle in kg\n",
"p = m*v // momentum of moving particle in kgm/sec\n",
"E = m*c^2 // total energy of particle in joule\n",
"KE = E - m_0*c^2 // kinetic energy in joule\n",
"printf('\n Mass of particle is %fm_0 \n momentum of particle is %f*m_0*c \n Kinetic energy of particle is %f*m_0*c^2',m,p/c,KE/c^2)"
   ]
   }
,
{
		   "cell_type": "markdown",
		   "metadata": {},
		   "source": [
			"## Example 1.26: EX1_26.sce"
		   ]
		  },
  {
"cell_type": "code",
	   "execution_count": null,
	   "metadata": {
	    "collapsed": true
	   },
	   "outputs": [],
"source": [
"clc \n",
"// Given that\n",
"m_0 = 9.1e-31 // let mass of electron in kg\n",
"m = 11*m_0 // mass of moving electron \n",
"c = 3e8 // speed of light in m/sec\n",
"// Sample Problem 26 on page no. 53\n",
"printf('\n # PROBLEM 26 # \n')\n",
"printf(' Standard formula used \n')\n",
"printf('\n m = m_0/((1-v^2/c^2)^1/2) \n')\n",
"v= c*sqrt(1-(m_0/m)^2) // velocity of moving electron in m/sec\n",
"p = m*v // momentum of moving particle in kgm/sec\n",
"E = m*c^2 // total energy of particle in joule\n",
"KE = (m - m_0)*c^2/1.6e-19// kinetic energy in eV\n",
"printf('\n  momentum of particle is %e kg m /sec \n Kinetic energy of particle is %e eV.',p,KE)"
   ]
   }
,
{
		   "cell_type": "markdown",
		   "metadata": {},
		   "source": [
			"## Example 1.27: Calculation_of_gain_in_mass_by_a_proton_accelerated_through_500MeV.sce"
		   ]
		  },
  {
"cell_type": "code",
	   "execution_count": null,
	   "metadata": {
	    "collapsed": true
	   },
	   "outputs": [],
"source": [
"clc \n",
"// Given that\n",
"m_0 = 1.6e-27 // mass of proton in kg\n",
"KE = 500 // kinetic energy of electron in MeV\n",
"c = 3e8 // speed of light in m/sec\n",
"// Sample Problem 27 on page no. 54\n",
"printf('\n # PROBLEM 27 # \n')\n",
"printf(' Standard formula used \n')\n",
"printf('\n E = m*c^2 \n')\n",
"del_m = KE*1e6*1.6e-19/c^2 // change in mass of proton in kg\n",
"printf('\n Change in mass of proton is %e kg. ',del_m)"
   ]
   }
,
{
		   "cell_type": "markdown",
		   "metadata": {},
		   "source": [
			"## Example 1.28: Calculation_of_speed_of_electron_for_which_its_mass_equals_rest_mass_of_proton.sce"
		   ]
		  },
  {
"cell_type": "code",
	   "execution_count": null,
	   "metadata": {
	    "collapsed": true
	   },
	   "outputs": [],
"source": [
"clc \n",
"// Given that\n",
"m_p = 1.6e-27 // mass of proton in kg\n",
"m_e = 9.1e-31 // mass of electron in kg\n",
"c = 3e8 // speed of light in m/sec\n",
"// Sample Problem 28 on page no. 54\n",
"printf('\n # PROBLEM 28 # \n')\n",
"printf(' Standard formula used \n')\n",
"printf('\n m = m_0/sqrt(1-(v/c)^2) \n')\n",
"v = c* sqrt(1-(m_e/m_p)^2) // velocity of moving electron in m/sec\n",
"printf('\n Velocity of moving electron is  %e m/sec. ',v) \n",
"// But real answer is 2.99e8 m/sec"
   ]
   }
,
{
		   "cell_type": "markdown",
		   "metadata": {},
		   "source": [
			"## Example 1.29: Calculation_of_speed_when_kinetic_energy_of_a_body_is_thrice_of_its_rest_mass.sce"
		   ]
		  },
  {
"cell_type": "code",
	   "execution_count": null,
	   "metadata": {
	    "collapsed": true
	   },
	   "outputs": [],
"source": [
"clc \n",
"// Given that\n",
"m_0 = 1 // let rest mass of a particle be unity\n",
"c = 3e8 // speed of light in m/sec\n",
"rest_mass_energy = m_0*c^2 // rest mass energy of particle \n",
"KE = 3*rest_mass_energy // kinetic energy of particle\n",
"// Sample Problem 29 on page no. 55\n",
"printf('\n # PROBLEM 29 # \n')\n",
"printf(' Standard formula used \n')\n",
"printf('\n E = m*c^2 \n')\n",
"E_total = KE+ rest_mass_energy // total energy of particle \n",
"v = c * sqrt(1-(rest_mass_energy/E_total)^2) // velocity of moving electron in m/sec\n",
"printf('\n Velocity of moving electron is  %e m/sec. ',v)"
   ]
   }
,
{
		   "cell_type": "markdown",
		   "metadata": {},
		   "source": [
			"## Example 1.2: Calculation_of_error_involved_I_position_of_particle.sce"
		   ]
		  },
  {
"cell_type": "code",
	   "execution_count": null,
	   "metadata": {
	    "collapsed": true
	   },
	   "outputs": [],
"source": [
"clc\n",
"// given that\n",
"R = 6.4e8 // radius of earth in cm\n",
"T = 24*60*60 // time period of one revolution of earth around its own axis\n",
"t = 1 // time of 1 sec\n",
"printf('\n # Problem 2 # \n')\n",
"omega = (2*%pi/T)// angular velocity of earth in theta/sec\n",
"alpha = omega^2 *R // Radial acceleration of earth in cm/sec^2\n",
"S = 1/2 * alpha*t^2 // altered distance of particle in one sec\n",
"printf('Error involved in measurement of position for one minute is %f cm.',S)"
   ]
   }
,
{
		   "cell_type": "markdown",
		   "metadata": {},
		   "source": [
			"## Example 1.30: Calculation_of_speed_when_total_energy_of_a_body_is_thrice_of_its_rest_mass.sce"
		   ]
		  },
  {
"cell_type": "code",
	   "execution_count": null,
	   "metadata": {
	    "collapsed": true
	   },
	   "outputs": [],
"source": [
"clc \n",
"// Given that\n",
"m_0 = 1 // let rest mass of a particle be unity\n",
"c = 3e8 // speed of light in m/sec\n",
"rest_mass_energy = m_0*c^2 // rest mass energy of particle \n",
"E_total = 3*rest_mass_energy // kinetic energy of particle\n",
"// Sample Problem 30 on page no. 55\n",
"printf('\n # PROBLEM 30 # \n')\n",
"printf(' Standard formula used \n')\n",
"printf('\n E = m*c^2 \n')\n",
"v = c * sqrt(1-(rest_mass_energy/E_total)^2) // velocity of moving electron in m/sec\n",
"printf('\n Velocity of moving electron is  %e m/sec. ',v)"
   ]
   }
,
{
		   "cell_type": "markdown",
		   "metadata": {},
		   "source": [
			"## Example 1.31: EX1_31.sce"
		   ]
		  },
  {
"cell_type": "code",
	   "execution_count": null,
	   "metadata": {
	    "collapsed": true
	   },
	   "outputs": [],
"source": [
"clc \n",
"// Given that\n",
"m_0 = 9.1e-31 // mass of electron in kg\n",
"c = 3e8 // speed of light in m/sec\n",
"KE = 1.5e6 // kinetic energy in eV\n",
"// Sample Problem 31 on page no. 56\n",
"printf('\n # PROBLEM 31 # \n')\n",
"printf(' Standard formula used \n')\n",
"printf('\n E = m*c^2 \n')\n",
"m = m_0+ KE*1.6e-19/c^2 // mass of moving electron in kg\n",
"v = c * sqrt(1-(m_0/m)^2) // velocity of moving electron in m/sec\n",
"printf('\n Mass of moving electron is %e kg \n Velocity of moving electron is  %e m/sec. ',m,v)"
   ]
   }
,
{
		   "cell_type": "markdown",
		   "metadata": {},
		   "source": [
			"## Example 1.32: Calculation_of_amount_of_work_done_to_increase_speed_of_an_electron.sce"
		   ]
		  },
  {
"cell_type": "code",
	   "execution_count": null,
	   "metadata": {
	    "collapsed": true
	   },
	   "outputs": [],
"source": [
"clc \n",
"// Given that\n",
"m_0 = 9.1e-31 // mass of electron in kg\n",
"c = 3e8 // speed of light in m/sec\n",
"v1 = 0.6*c // initial velocity of electron in m/sec\n",
"v2 = 0.8*c//final velocity of electron in m/sec \n",
"E_rest = 0.511 // rest mass energy of electron in MeV\n",
"// Sample Problem 32 on page no. 57\n",
"printf('\n # PROBLEM 32 # \n')\n",
"printf(' Standard formula used \n')\n",
"printf('\n E = m*c^2 \n')\n",
"KE1 = E_rest*1e6*((1-(v1/c)^2)^(-1/2) -1)// initial kinetic energy of particle\n",
"KE2 = E_rest*1e6*((1-(v2/c)^2)^(-0.5) -1)// final kinetic energy of particle\n",
"del_KE = (KE2 -KE1)*1.6e-19 // change in kinetic energy\n",
"printf('\n Amount of work to be done is equal to %e J. ',del_KE)"
   ]
   }
,
{
		   "cell_type": "markdown",
		   "metadata": {},
		   "source": [
			"## Example 1.33: EX1_33.sce"
		   ]
		  },
  {
"cell_type": "code",
	   "execution_count": null,
	   "metadata": {
	    "collapsed": true
	   },
	   "outputs": [],
"source": [
"clc \n",
"// Given that\n",
"m_0 = 9e-31 // mass of electron in kg\n",
"c = 3e8 // speed of light in m/sec\n",
"KE = 1e6 // kinetic energy of electron in volts\n",
"// Sample Problem 33 on page no. 59\n",
"printf('\n # PROBLEM 33 # \n')\n",
"printf(' Standard formula used \n')\n",
"printf('\n E = m*c^2 \n')\n",
"v = c* sqrt(1-(1/(1+KE*1.6e-19/(m_0*c^2)))^2) // velocity of electron in m/sec\n",
"printf('\n Velocity of electron is %e m/sec. ',v)"
   ]
   }
,
{
		   "cell_type": "markdown",
		   "metadata": {},
		   "source": [
			"## Example 1.34: EX1_34.sce"
		   ]
		  },
  {
"cell_type": "code",
	   "execution_count": null,
	   "metadata": {
	    "collapsed": true
	   },
	   "outputs": [],
"source": [
"clc \n",
"// Given that\n",
"m_0 = 9.11e-31 // mass of electron in kg\n",
"c = 3e8 // speed of light in m/sec\n",
"KE = 1e5 // kinetic energy of electron in volts\n",
"E_rest = 512000 // rest mass energy of electron in eV\n",
"// Sample Problem 34 on page no. 60\n",
"printf('\n # PROBLEM 34 # \n')\n",
"printf(' Standard formula used \n')\n",
"printf('\n KE = m*v^2 \n E_total = KE+E_rest \n')\n",
"v_c = sqrt(2*KE*1.6e-19/m_0) // classical velocity of electron\n",
"E_total = KE + E_rest // energy of a moving electron\n",
"v_r = c * sqrt (1-(E_rest/E_total)^2)// relativistic velocity of electron \n",
"printf('\n Classical velocity of electron is %e m/sec \n Relativistic velocity of electron is %e m/sec.',v_c, v_r)"
   ]
   }
,
{
		   "cell_type": "markdown",
		   "metadata": {},
		   "source": [
			"## Example 1.35: Calculation_of_loss_of_mass_in_formation_of_1_atom_of_hydrogen.sce"
		   ]
		  },
  {
"cell_type": "code",
	   "execution_count": null,
	   "metadata": {
	    "collapsed": true
	   },
	   "outputs": [],
"source": [
"clc \n",
"// Given that\n",
"BE = 13.6 // Binding energy of electron in eV\n",
"c = 3e8 // speed of light in m/sec\n",
"// Sample Problem 35 on page no. 60\n",
"printf('\n # PROBLEM 35 # \n')\n",
"printf(' Standard formula used \n')\n",
"printf('\n E = m*c^2 \n')\n",
"del_m = BE*1.6e-19/c^2 // loss of mass in kg\n",
"printf('\n Loss of mass in formation of one atom of hydrogen is %ekg.',del_m)\n",
"clc"
   ]
   }
,
{
		   "cell_type": "markdown",
		   "metadata": {},
		   "source": [
			"## Example 1.4: Calculation_of_fringe_shift.sce"
		   ]
		  },
  {
"cell_type": "code",
	   "execution_count": null,
	   "metadata": {
	    "collapsed": true
	   },
	   "outputs": [],
"source": [
"clc\n",
"//Given that\n",
"l = 9 // effective path length in m\n",
"lambda = 5000 // wavelength in angstrom \n",
"v = 3e4 // velocity of earth in m\n",
"c = 3e8 // Speed of light in m/s\n",
"// problem 4 page no 17\n",
"printf('\n # Problem 4 # \n')\n",
"del_n = 2*l*v^2/(c^2*lambda*1e-10) // fringe shift\n",
"printf('There will be a fringe shift of %f.', del_n)"
   ]
   }
,
{
		   "cell_type": "markdown",
		   "metadata": {},
		   "source": [
			"## Example 1.5: Calculation_of_relative_velocity.sce"
		   ]
		  },
  {
"cell_type": "code",
	   "execution_count": null,
	   "metadata": {
	    "collapsed": true
	   },
	   "outputs": [],
"source": [
"clc\n",
"//Given that\n",
"l = 9 // effective path length in m\n",
"lambda = 6000 // wavelength in angstrom \n",
"del_n = 0.4 // fringe shift\n",
"c = 3e8 // Speed of light in m/s\n",
"// problem 5 page no 17\n",
"printf('\n # Problem 5 # \n')\n",
"v = c*sqrt(lambda*1e-10*del_n/(2*l)) // Speed of earth wrt ether in m/s\n",
"printf('Relative velocity of earth and ether is %e m/s', v)\n",
"// Whereas answre in book is 3.30e+4 m/sec"
   ]
   }
,
{
		   "cell_type": "markdown",
		   "metadata": {},
		   "source": [
			"## Example 1.7: Calculation_of_relative_velocity.sce"
		   ]
		  },
  {
"cell_type": "code",
	   "execution_count": null,
	   "metadata": {
	    "collapsed": true
	   },
	   "outputs": [],
"source": [
"clc\n",
"// given that\n",
"del_D = 300 // Separation in distance in m\n",
"del_t = 4e-7 // separation in time in sec\n",
"c = 3e8 // speed of light in m/s\n",
"// Problem 7 on page 25\n",
"printf('\n # Problem 7 # \n')\n",
"v = del_t*c^2/del_D // velocity of one w.r.t other in m/s\n",
"printf('\n Velocity of one w.r.t other is %f*c m/s.',v/c)"
   ]
   }
],
"metadata": {
		  "kernelspec": {
		   "display_name": "Scilab",
		   "language": "scilab",
		   "name": "scilab"
		  },
		  "language_info": {
		   "file_extension": ".sce",
		   "help_links": [
			{
			 "text": "MetaKernel Magics",
			 "url": "https://github.com/calysto/metakernel/blob/master/metakernel/magics/README.md"
			}
		   ],
		   "mimetype": "text/x-octave",
		   "name": "scilab",
		   "version": "0.7.1"
		  }
		 },
		 "nbformat": 4,
		 "nbformat_minor": 0
}
