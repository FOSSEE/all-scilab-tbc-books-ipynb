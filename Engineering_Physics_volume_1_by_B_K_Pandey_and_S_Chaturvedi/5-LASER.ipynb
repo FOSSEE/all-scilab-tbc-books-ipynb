{
"cells": [
 {
		   "cell_type": "markdown",
	   "metadata": {},
	   "source": [
       "# Chapter 5: LASER"
	   ]
	},
{
		   "cell_type": "markdown",
		   "metadata": {},
		   "source": [
			"## Example 5.1: Calculation_of_number_of_oscillation_and_coherent_time.sce"
		   ]
		  },
  {
"cell_type": "code",
	   "execution_count": null,
	   "metadata": {
	    "collapsed": true
	   },
	   "outputs": [],
"source": [
"clc \n",
"     \n",
"// Given that\n",
"l = 2.945e-2 // coherent length of sodium light\n",
"lambda = 5890 // wavelength of light used in angstrom\n",
"c = 3e8 // speed of light\n",
"// Sample Problem 1 on page no. 242\n",
"printf('\n # PROBLEM 1 # \n')\n",
"n = l/(lambda*1e-10) // number of oscillation corresponding to coherent length\n",
"t = l/c // coherent time\n",
"printf('\n Number of oscillation corresponding to coherent length is %e \n Coherent time is %esec.',n,t)"
   ]
   }
,
{
		   "cell_type": "markdown",
		   "metadata": {},
		   "source": [
			"## Example 5.2: Angular_spread_of_beam.sce"
		   ]
		  },
  {
"cell_type": "code",
	   "execution_count": null,
	   "metadata": {
	    "collapsed": true
	   },
	   "outputs": [],
"source": [
"clc \n",
"// Given that\n",
"l = 4e5 // Distance of moon in km\n",
"lambda = 8e-7 // wavelength of light used\n",
"a = 5e-3 // Aperture of laser\n",
"c = 3e8 // speed of light\n",
"// Sample Problem 2 on page no. 242\n",
"printf('\n # PROBLEM 2 # \n')\n",
"theta = lambda/a  // Angular of spread \n",
"Areal_spread = (l*1000*theta)^2 // Areal spread\n",
"printf('\n Angular  spread  is %e rad. \n Areal spread is %em^2.',theta,Areal_spread)"
   ]
   }
,
{
		   "cell_type": "markdown",
		   "metadata": {},
		   "source": [
			"## Example 5.3: Calculation_of_number_of_oscillation_and_coherent_time.sce"
		   ]
		  },
  {
"cell_type": "code",
	   "execution_count": null,
	   "metadata": {
	    "collapsed": true
	   },
	   "outputs": [],
"source": [
"clc \n",
"// Given that\n",
"l = 2.945e-2 // coherent length of sodium light\n",
"lambda = 5890 // wavelength of light used\n",
"c = 3e8 // speed of light\n",
"// Sample Problem 3 on page no. 242\n",
"printf('\n # PROBLEM 3 # \n')\n",
"n = l/(lambda *1e-10) // number of oscillation corresponding to coherent length\n",
"t = l/c // coherent time\n",
"printf('\n Number of oscillation corresponding to coherent length is %e \n Coherent time is %esec.',n,t)"
   ]
   }
,
{
		   "cell_type": "markdown",
		   "metadata": {},
		   "source": [
			"## Example 5.4: Calculation_of_energy_difference_between_levels.sce"
		   ]
		  },
  {
"cell_type": "code",
	   "execution_count": null,
	   "metadata": {
	    "collapsed": true
	   },
	   "outputs": [],
"source": [
"clc \n",
"// Given that\n",
"k = 12400 // constant\n",
"lambda = 3.3913 // wavelength IR radiation\n",
"// Sample Problem 4 on page no. 243\n",
"printf('\n # PROBLEM 4 # \n')\n",
"E = k/(lambda*1e4) // Energy difference\n",
"printf('\n Energy difference is %feV.',E)"
   ]
   }
,
{
		   "cell_type": "markdown",
		   "metadata": {},
		   "source": [
			"## Example 5.5: Calculation_of_energy_of_one_photon_and_total_energy_available_per_laser_pulse.sce"
		   ]
		  },
  {
"cell_type": "code",
	   "execution_count": null,
	   "metadata": {
	    "collapsed": true
	   },
	   "outputs": [],
"source": [
"clc \n",
"k = 12400 // constant\n",
"lambda = 6943 // wavelength of radiation in angstrom\n",
"n = 3e19 // Total number of ions\n",
"// Sample Problem 5 on page no. 243\n",
"printf('\n # PROBLEM 5 # \n')\n",
"E = k/(lambda) // Energy difference\n",
"E_total = E*n*1.6e-19 // Total Energy emitted \n",
"printf('\n Energy of one photon  is %feV. \n Total energy is %fJ',E,E_total)"
   ]
   }
,
{
		   "cell_type": "markdown",
		   "metadata": {},
		   "source": [
			"## Example 5.6: Calculation_of_maximum_length_of_cavity.sce"
		   ]
		  },
  {
"cell_type": "code",
	   "execution_count": null,
	   "metadata": {
	    "collapsed": true
	   },
	   "outputs": [],
"source": [
"clc \n",
"// Given that\n",
"h_w = 2e-3 // half width of gain profile of laser in nm\n",
"mu = 1 // refractive index\n",
"lambda = 6328 // wavelength of light used in angstrom\n",
"// Sample Problem 6 on page no. 244\n",
"printf('\n # PROBLEM 6 # \n')\n",
"L = (lambda*1e-10)^2/(2*mu*h_w*1e-9) // Length of cavity \n",
"printf('\n Required length of cavity is %dcm.',L*100)"
   ]
   }
],
"metadata": {
		  "kernelspec": {
		   "display_name": "Scilab",
		   "language": "scilab",
		   "name": "scilab"
		  },
		  "language_info": {
		   "file_extension": ".sce",
		   "help_links": [
			{
			 "text": "MetaKernel Magics",
			 "url": "https://github.com/calysto/metakernel/blob/master/metakernel/magics/README.md"
			}
		   ],
		   "mimetype": "text/x-octave",
		   "name": "scilab",
		   "version": "0.7.1"
		  }
		 },
		 "nbformat": 4,
		 "nbformat_minor": 0
}
