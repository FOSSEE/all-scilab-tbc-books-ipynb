{
"cells": [
 {
		   "cell_type": "markdown",
	   "metadata": {},
	   "source": [
       "# Chapter 6: OPTICAL FIBRE"
	   ]
	},
{
		   "cell_type": "markdown",
		   "metadata": {},
		   "source": [
			"## Example 6.10: Calculation_of_total_number_of_propagating_modes.sce"
		   ]
		  },
  {
"cell_type": "code",
	   "execution_count": null,
	   "metadata": {
	    "collapsed": true
	   },
	   "outputs": [],
"source": [
"clc \n",
"// Given that\n",
"NA = 0.3 // numerical aperture of fiber\n",
"d = 200 // core diameter in micro meter\n",
"lambda = 0.9 // wavelength of propagating light in micro meter\n",
"// Sample Problem 10 on page no. 268\n",
"printf('\n # PROBLEM 10 # \n')\n",
"N_max = 2*(d/2)^2*%pi^2*NA^2/lambda^2\n",
"printf('\n Total number of propagating modes are %d.',N_max)"
   ]
   }
,
{
		   "cell_type": "markdown",
		   "metadata": {},
		   "source": [
			"## Example 6.11: Calculation_of_operating_wavelength_and_attenuation.sce"
		   ]
		  },
  {
"cell_type": "code",
	   "execution_count": null,
	   "metadata": {
	    "collapsed": true
	   },
	   "outputs": [],
"source": [
"clc\n",
"// given that\n",
"\n",
"d = 9 // Diameter of ore of wire in mm\n",
"P_b = 180 // Threshold optical power for Brillouin scattering in mW\n",
"P_r = 1.9 // Threshold optical power for Raman scattering  W\n",
"nu = 1 // Bandwidth in GHz\n",
" // Sample Problem 11 on page no. 278\n",
"printf('\n # PROBLEM 11 # \n')\n",
"ratio = P_b*1e-3/P_r // Calculation of ratios of powers\n",
"lambda = ratio*5.9*1e-2*(d*1e-3)^2/(4.4*1e-3*(d*1e-3)^2) // Calcualtion of wavelength\n",
"printf('\n Standard formula used \n P_b = 4.4*1e-3*d^2*lambda^2*alpha.\nP_r = 5.9*1e-3*d^2*lambda^2*alpha \n')\n",
"printf('\n wavelength of laser is %fmicron. ',lambda)"
   ]
   }
,
{
		   "cell_type": "markdown",
		   "metadata": {},
		   "source": [
			"## Example 6.12: Calculation_of_attenuation.sce"
		   ]
		  },
  {
"cell_type": "code",
	   "execution_count": null,
	   "metadata": {
	    "collapsed": true
	   },
	   "outputs": [],
"source": [
"clc \n",
"// Given that\n",
"P_in = 100 // power of input signal in mW\n",
"P_out = 50 // power of output signal in mW\n",
"// Sample Problem 12 on page no. 280\n",
"printf('\n # PROBLEM 12 # \n')\n",
"alpha = (10 * log10(P_in / P_out))//calculation for absorption coefficient\n",
"printf('\n Standard formula used \n alpha=10/L*log(Pi/Po).\n')\n",
"printf('\n Attenuation loss is %f dB. ',alpha)"
   ]
   }
,
{
		   "cell_type": "markdown",
		   "metadata": {},
		   "source": [
			"## Example 6.13: Calculation_of_losses.sce"
		   ]
		  },
  {
"cell_type": "code",
	   "execution_count": null,
	   "metadata": {
	    "collapsed": true
	   },
	   "outputs": [],
"source": [
"clc \n",
"// Given that\n",
"l = 150 // length of fiber in meter\n",
"P_in = 10 // power of input signal in micro Watt\n",
"P_out = 8 // power of output signal in micro Watt\n",
"// Sample Problem 13 on page no. 280\n",
"printf('\n # PROBLEM 13 # \n')\n",
"alpha = (10 * log10(P_in / P_out))/l //calculation for absorption coefficient\n",
"printf('\n Standard formula used \n alpha=10/L*log(Pi/Po).\n')\n",
"printf('\n Attenuation loss is %f dB/m. ',alpha)"
   ]
   }
,
{
		   "cell_type": "markdown",
		   "metadata": {},
		   "source": [
			"## Example 6.14: Calculation_of_fiber_losses.sce"
		   ]
		  },
  {
"cell_type": "code",
	   "execution_count": null,
	   "metadata": {
	    "collapsed": true
	   },
	   "outputs": [],
"source": [
"clc \n",
"    \n",
"// Given that\n",
"l = 1.5 // length of fiber in kilo meter\n",
"P_in = 1 // let power of input signal is unity\n",
"P_out = 1/4 // power of output signal in micro Watt\n",
"// Sample Problem 14 on page no. 281\n",
"printf('\n # PROBLEM 14 # \n')\n",
"alpha = (10 * log10(P_in / P_out))/l //calculation for absorption coefficient\n",
"printf('\n Standard formula used \n alpha=10/L*log(Pi/Po).\n')\n",
"printf('\n Attenuation loss is %d dB/km. ',alpha)"
   ]
   }
,
{
		   "cell_type": "markdown",
		   "metadata": {},
		   "source": [
			"## Example 6.15: Calculation_of_output_power.sce"
		   ]
		  },
  {
"cell_type": "code",
	   "execution_count": null,
	   "metadata": {
	    "collapsed": true
	   },
	   "outputs": [],
"source": [
"clc \n",
"// Given that\n",
"l = 10 // length of fiber in kilo meter\n",
"P_in = 900 // Power of input signal in micro watt\n",
"alpha = 2.3 // attenuation loss in dB\n",
"// Sample Problem 15 on page no. 281\n",
"printf('\n # PROBLEM 15 # \n')\n",
"P_out = P_in*10^(-alpha) // Power at output in microwatt\n",
"printf('\n Standard formula used \n alpha=10/L*log(Pi/Po).\n')\n",
"printf('\n Power at output end is %f micro Watt.',P_out)\n",
"// Answer given in book is 1.79 micro Watt"
   ]
   }
,
{
		   "cell_type": "markdown",
		   "metadata": {},
		   "source": [
			"## Example 6.16: Calculation_of_light_pulse_spread.sce"
		   ]
		  },
  {
"cell_type": "code",
	   "execution_count": null,
	   "metadata": {
	    "collapsed": true
	   },
	   "outputs": [],
"source": [
"clc \n",
"// Given that\n",
"l = 6 // length of fiber in kilo meter\n",
"mu1 = 1.48 // refractive index for core\n",
"NA = 0.28 // Numerical aperture\n",
"c = 3e8 // speed of light in m/sec\n",
"// Sample Problem 16 on page no. 284\n",
"printf('\n # PROBLEM 16 # \n')\n",
"t = l*1e3*(NA)^2/(2*c*mu1)\n",
"printf('\n Time taken by light pulse is %f nsec.',t*1e9)"
   ]
   }
,
{
		   "cell_type": "markdown",
		   "metadata": {},
		   "source": [
			"## Example 6.17: EX6_17.sce"
		   ]
		  },
  {
"cell_type": "code",
	   "execution_count": null,
	   "metadata": {
	    "collapsed": true
	   },
	   "outputs": [],
"source": [
"clc \n",
"// Given that\n",
"l = 8 // length of fiber in kilo meter\n",
"mu1 = 1.50 // refractive index for core\n",
"delta = 2/100 // relative refractive index\n",
"c = 3e8 // speed of light in m/sec\n",
"// Sample Problem 17 on page no. 285\n",
"printf('\n # PROBLEM 17 # \n')\n",
"t = l*1e3*mu1*delta/c * 1e9\n",
"sigma = t/(2*sqrt(3))\n",
"BT_max = 1/(2*t) // \n",
"Length = BT_max*1e3*l\n",
"printf('\n Time taken by light pulse is %f nsec. \n RPM pulse is %f nsec',t,sigma)\n",
"printf('\n Maximum bit rate is %f M bit/sec \n Bandwidth length product is %dMHz km', BT_max*1e3,Length)"
   ]
   }
,
{
		   "cell_type": "markdown",
		   "metadata": {},
		   "source": [
			"## Example 6.1: Calculation_of_numerical_aperture_and_acceptance_angle.sce"
		   ]
		  },
  {
"cell_type": "code",
	   "execution_count": null,
	   "metadata": {
	    "collapsed": true
	   },
	   "outputs": [],
"source": [
"clc\n",
"    \n",
"// Given that\n",
"mu1 = 1.42 // refractive index for core\n",
"mu2 = 1.40 // refractive index for cladding\n",
"// Sample Problem 1 on page no. 254\n",
"printf('\n # PROBLEM 1 # \n')\n",
"NA = sqrt(mu1^2 - mu2^2)\n",
"theta_0 = asin(NA) * (180 / %pi)\n",
"theta_deg = floor(theta_0)\n",
"theta_fract = theta_0 - floor(theta_0)\n",
"theta_min = theta_fract*60\n",
"printf('\n Standard formula used \n NA = sqrt(mu1^2 - mu2^2). \n theta_0 = asin(NA) * (180 / pi). \n')\n",
"printf('\n  \n Numerical aperture = %f,\n Maximum incidence angle = %d degree %d min.',NA,theta_deg,theta_min)"
   ]
   }
,
{
		   "cell_type": "markdown",
		   "metadata": {},
		   "source": [
			"## Example 6.2: Calculation_of_refractive_index_and_numerical_aperture_and_acceptance_angle.sce"
		   ]
		  },
  {
"cell_type": "code",
	   "execution_count": null,
	   "metadata": {
	    "collapsed": true
	   },
	   "outputs": [],
"source": [
"clc \n",
"// Given that\n",
"mu1 = 1.36 // refractive index for core\n",
"del_mu = 0.025 // relative refractive index\n",
"// Sample Problem  on page no. 255\n",
"printf('\n # PROBLEM 2 # \n')\n",
"mu2 = mu1*(1-del_mu) // refractive index of cladding\n",
"NA = mu1*sqrt(2*del_mu)\n",
"theta_0 = asin(NA) * (180 / %pi)\n",
"printf('\n Standard formula used \n theta_c = asin(mu2 / mu1) * (180 / pi). \n NA = sqrt(mu1^2 - mu2^2). \n theta_0 = asin(NA) * (180 / pi). \n')\n",
"printf('\n Refractive index of cladding is %f. \n Numerical aperture is %f.\n Acceptance angle is %f degree.',mu2,NA,theta_0)"
   ]
   }
,
{
		   "cell_type": "markdown",
		   "metadata": {},
		   "source": [
			"## Example 6.3: Calculation_of_acceptance_angle.sce"
		   ]
		  },
  {
"cell_type": "code",
	   "execution_count": null,
	   "metadata": {
	    "collapsed": true
	   },
	   "outputs": [],
"source": [
"clc \n",
"// Given that\n",
"mu2 = 1.59 // refractive index for cladding\n",
"NA = 0.2 // Numerical aperture\n",
"mu_water = 1.33 // refractive index of water\n",
"del_mu = 0.025 // relative refractive index\n",
"// Sample Problem 3 on page no. 256\n",
"printf('\n # PROBLEM 3 # \n')\n",
"mu1 = sqrt(NA^2+mu2^2) // refractive index of cladding\n",
"NA_w = sqrt(mu1^2 - mu2^2)/mu_water // Numerical aperture for water\n",
"theta_0 = asin(NA_w) * (180 / %pi) // Acceptance angle of fiber in water\n",
"printf('\n Standard formula used \n theta_c = asin(mu2 / mu1) * (180 / pi). \n NA = sqrt(mu1^2 - mu2^2). \n theta_0 = asin(NA) * (180 / pi). \n')\n",
"printf('\n Acceptance angle of fiber in water is %f degree.',theta_0)"
   ]
   }
,
{
		   "cell_type": "markdown",
		   "metadata": {},
		   "source": [
			"## Example 6.4: Calculation_of_numerical_aperture_and_acceptance_angle_and_number_of_reflections.sce"
		   ]
		  },
  {
"cell_type": "code",
	   "execution_count": null,
	   "metadata": {
	    "collapsed": true
	   },
	   "outputs": [],
"source": [
"clc \n",
"// Given that\n",
"mu1 = 1.55 // refractive index for core\n",
"mu2 = 1.50 // refractive index for cladding\n",
"d = 50 // core diameter in micro meter\n",
"// Sample Problem 4 on page no. 256\n",
"printf('\n # PROBLEM 4 # \n')\n",
"NA = sqrt(mu1^2 - mu2^2) // numerical aperture \n",
"theta_c = asin(mu2 / mu1) * (180 / %pi) // critical angle in degree\n",
"theta_0 = asin(NA) * (180 / %pi) // Acceptance angle in degree\n",
"x= d*1e-6*tan(theta_c*%pi/180) // distance travelled between two successive collisions\n",
"N = 1/x // No. of reflections per meter\n",
"printf('\n Standard formula used \n theta_c = asin(mu2 / mu1) * (180 / pi). \n NA = sqrt(mu1^2 - mu2^2). \n theta_0 = asin(NA) * (180 / pi). \n')\n",
"printf('\n Numerical aperture = %f,\n Acceptance angle is %f degree.\n No. of reflections per meter is %d',NA,theta_0,N)"
   ]
   }
,
{
		   "cell_type": "markdown",
		   "metadata": {},
		   "source": [
			"## Example 6.5: EX6_5.sce"
		   ]
		  },
  {
"cell_type": "code",
	   "execution_count": null,
	   "metadata": {
	    "collapsed": true
	   },
	   "outputs": [],
"source": [
"clc \n",
"// Given that\n",
"mu1 = 1.45 // refractive index for core\n",
"mu2 = 1.40 // refractive index for cladding\n",
"mu = 1 // refractive index for air\n",
"// Sample Problem 5 on page no. 256\n",
"printf('\n # PROBLEM 5 # \n')\n",
"theta_c = asin(mu2 / mu1) * (180 / %pi) // critical angle in degree\n",
"theta_c_ = asin(mu/mu2) * (180 / %pi) // Acceptance angle in degree\n",
"printf('\n Standard formula used \n theta_c = asin(mu2 / mu1) * (180 / pi). \n NA = sqrt(mu1^2 - mu2^2). \n theta_0 = asin(NA) * (180 / pi). \n')\n",
"printf('\n Critical angle at the core - cladding boundary is %f degree \n Critical angle at cladding - air boundary is %f degree',theta_c,theta_c_)"
   ]
   }
,
{
		   "cell_type": "markdown",
		   "metadata": {},
		   "source": [
			"## Example 6.6: Calculation_of_cut_off_perimeter_and_number_of_modes.sce"
		   ]
		  },
  {
"cell_type": "code",
	   "execution_count": null,
	   "metadata": {
	    "collapsed": true
	   },
	   "outputs": [],
"source": [
"clc \n",
"// Given that\n",
"mu1 = 1.50 // refractive index for core\n",
"mu2 = 1.48 // refractive index for cladding\n",
"a = 25 // core radius in micro meter\n",
"lambda = 830 // wavelength of propagating light in nano meter\n",
"al = 2 // for parabolic profile\n",
"// Sample Problem 6 on page no. 263\n",
"printf('\n # PROBLEM 6 # \n')\n",
"del = (mu1-mu2)/mu1 \n",
"N_graded = (al/(al+2))*(2*%pi*a*1e-6/(lambda*1e-9))^2 * mu1^2 * del // Number of modes for graded\n",
"N_step = (2*%pi*a*1e-6/(lambda*1e-9))^2 * (mu1^2 - mu2^2)/2 // number of modes for step graded\n",
"ratio = (N_step / N_graded)\n",
"printf('\n Number of modes in graded index fiber is %d.',N_graded)\n",
"printf('\n Number of modes in Step graded fiber is %d.',N_step)\n",
"printf('\n Approximate ratio of number of modes in different grade is %d.',ceil(ratio))"
   ]
   }
,
{
		   "cell_type": "markdown",
		   "metadata": {},
		   "source": [
			"## Example 6.7: Calculation_of_comparison_of_number_of_modes.sce"
		   ]
		  },
  {
"cell_type": "code",
	   "execution_count": null,
	   "metadata": {
	    "collapsed": true
	   },
	   "outputs": [],
"source": [
"clc \n",
"// Given that\n",
"mu1 = 1.566 // refractive index for core\n",
"mu2 = 1.56 // refractive index for cladding\n",
"d = 50 // core diameter in micro meter\n",
"lambda = 0.84 // wavelength of propagating light in micro meter\n",
"// Sample Problem 7 on page no. 265\n",
"printf('\n # PROBLEM 7 # \n')\n",
"v = %pi*d*sqrt(mu1^2 - mu2^2)/lambda  // cut off number\n",
"N_max = v^2/2 // maximum number of modes\n",
"printf('\n Cut off parameter of fiber is %f. \n Maximum number of modes is %d.',v,N_max)\n",
"    "
   ]
   }
,
{
		   "cell_type": "markdown",
		   "metadata": {},
		   "source": [
			"## Example 6.8: Calculation_of_cladding_index_and_maximum_acceptance_angle.sce"
		   ]
		  },
  {
"cell_type": "code",
	   "execution_count": null,
	   "metadata": {
	    "collapsed": true
	   },
	   "outputs": [],
"source": [
"clc \n",
"// Given that\n",
"mu1 = 1.55 // refractive index for core\n",
"v_max = 2.405 // Maximum cut off number\n",
"d = 10 // core diameter in micro meter\n",
"lambda = 1.8 // wavelength of propagating light in micro meter\n",
"// Sample Problem 8 on page no. 266\n",
"printf('\n # PROBLEM 8 # \n')\n",
"NA = v_max*lambda/(%pi*d)\n",
"delta = 0.5*(NA/mu1)^2 // Normalized index difference\n",
"mu2 = mu1*(1- delta) // refractive index of cladding\n",
"theta_max = asin(NA)*180/%pi // maximum acceptance angle in degree\n",
"printf('\n Required maximum value of normalized difference is %f. \n Refractive index of cladding is %f. \n Maximum acceptance angle is %f degree.',delta,mu2,theta_max)"
   ]
   }
,
{
		   "cell_type": "markdown",
		   "metadata": {},
		   "source": [
			"## Example 6.9: Calculation_of_critical_angle_and_numerical_aperture_and_acceptance_angle.sce"
		   ]
		  },
  {
"cell_type": "code",
	   "execution_count": null,
	   "metadata": {
	    "collapsed": true
	   },
	   "outputs": [],
"source": [
"clc \n",
"// Given that\n",
"mu1 = 1.466 // refractive index for core\n",
"mu2 = 1.46 // refractive index for cladding\n",
"lambda = 1200 // wavelength of light in nano meter\n",
"V = 2.405 // cut off parameter\n",
"// Sample Problem 9 on page no. 267\n",
"printf('\n # PROBLEM 9 # \n')\n",
"t = V*lambda*1e-9/(2*%pi*sqrt(mu1^2-mu2^2)) // maximum radius of fiber\n",
"theta_c = asin(mu2 / mu1) * (180 / %pi)\n",
"NA = sqrt(mu1^2 - mu2^2)\n",
"theta_0 = asin(NA) * (180 / %pi)\n",
"printf('\n Standard formula used \n theta_c = asin(mu2 / mu1) * (180 / pi). \n NA = sqrt(mu1^2 - mu2^2). \n theta_0 = asin(NA) * (180 / pi). \n')\n",
"printf('\n Maximum radius allowed for fiber is %f micro meter \nCritical angle = %f degree. \n Numerical aperture = %f,\n Maximum incidence angle = %f degree.',t*1e6,theta_c,NA,theta_0)"
   ]
   }
],
"metadata": {
		  "kernelspec": {
		   "display_name": "Scilab",
		   "language": "scilab",
		   "name": "scilab"
		  },
		  "language_info": {
		   "file_extension": ".sce",
		   "help_links": [
			{
			 "text": "MetaKernel Magics",
			 "url": "https://github.com/calysto/metakernel/blob/master/metakernel/magics/README.md"
			}
		   ],
		   "mimetype": "text/x-octave",
		   "name": "scilab",
		   "version": "0.7.1"
		  }
		 },
		 "nbformat": 4,
		 "nbformat_minor": 0
}
