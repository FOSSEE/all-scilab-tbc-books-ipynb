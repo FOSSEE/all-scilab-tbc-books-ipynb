{
"cells": [
 {
		   "cell_type": "markdown",
	   "metadata": {},
	   "source": [
       "# Chapter 3: Diffraction"
	   ]
	},
{
		   "cell_type": "markdown",
		   "metadata": {},
		   "source": [
			"## Example 3.10: Calculation_of_wavelength_of_light_and_missing_wavelengths.sce"
		   ]
		  },
  {
"cell_type": "code",
	   "execution_count": null,
	   "metadata": {
	    "collapsed": true
	   },
	   "outputs": [],
"source": [
"clc \n",
"   \n",
"// Given that\n",
"d = 0.4 // separation between slits in mm\n",
"e = 0.08 // width of slit in mm\n",
"D = 170 // Separation between screen and source in cm\n",
"Beta = 0.25 // Fringe width in cm\n",
"\n",
"// Sample Problem 10 on page no. 155\n",
"printf('\n # PROBLEM 10 # \n')\n",
"printf(' Standard formula used \n')\n",
"printf(' theta = 1.22*lambda/a  \n')\n",
"lambda = Beta*1e-2*d*1e-3/(d*1e-2) // Calculation of wavelength\n",
"ratio = (e+d)/e \n",
"printf('\n Missing order will be %d*n, where n is a natural number.',ratio)\n",
"\n",
"   "
   ]
   }
,
{
		   "cell_type": "markdown",
		   "metadata": {},
		   "source": [
			"## Example 3.11: Calculation_of_wavelength_of_light.sce"
		   ]
		  },
  {
"cell_type": "code",
	   "execution_count": null,
	   "metadata": {
	    "collapsed": true
	   },
	   "outputs": [],
"source": [
"clc \n",
"\n",
"// Given that\n",
"n = 2 // order\n",
"N = 5000 // no. of lines per cm\n",
"theta = 30 // angle of deviation in degree\n",
"// Sample Problem 11 on page no. 155\n",
"printf('\n # PROBLEM 11 # \n')\n",
"printf(' Standard formula used \n')\n",
"printf(' n*lambda= sin(theta)/N  \n')\n",
"lambda= sin(theta*%pi/180)/(n*N*1e2)\n",
"printf('\n Wavelength of spectral lines is %d angstrom.',ceil(lambda*1e10))"
   ]
   }
,
{
		   "cell_type": "markdown",
		   "metadata": {},
		   "source": [
			"## Example 3.12: Calculation_of_difference_in_deviation_in_first_and_third_order_spectra.sce"
		   ]
		  },
  {
"cell_type": "code",
	   "execution_count": null,
	   "metadata": {
	    "collapsed": true
	   },
	   "outputs": [],
"source": [
"clc \n",
"// Given that\n",
"lambda= 5000 // wavelength of light in angstrom\n",
"n1 = 1 // order\n",
"n3 = 3 // order\n",
"N = 6000 // no. of lines per cm\n",
"// Sample Problem 12 on page no. 156\n",
"printf('\n # PROBLEM 12 # \n')\n",
"printf(' Standard formula used \n')\n",
"printf(' n*lambda= sin(theta)/N  \n')\n",
"theta_1 = 180/%pi*asin(n1*lambda*1e-8*N) // Deviation of first order spectra\n",
"theta_3 = 180/%pi*asin(n3*lambda*1e-8*N) // Deviation of third order spectra\n",
"theta_dif = theta_3- theta_1 // Difference in deviation of first and third order spectra\n",
"printf('\n Difference in deviation of first and third order spectra is %f degree.',theta_dif)"
   ]
   }
,
{
		   "cell_type": "markdown",
		   "metadata": {},
		   "source": [
			"## Example 3.13: Calculation_of_number_of_visible_orders.sce"
		   ]
		  },
  {
"cell_type": "code",
	   "execution_count": null,
	   "metadata": {
	    "collapsed": true
	   },
	   "outputs": [],
"source": [
"clc \n",
"// Given that\n",
"lambda= 5000 // wavelength of light in angstrom\n",
"theta = 90 // for maximum order\n",
"X = 2620 // no. of lines per inch\n",
"// Sample Problem 13 on page no. 156\n",
"printf('\n # PROBLEM 13 # \n')\n",
"printf(' Standard formula used \n')\n",
"printf(' n*lambda= sin(theta)/N  \n')\n",
"N = X/2.54 // no. of lines per cm\n",
"n= sin(theta*%pi/180)/(N*lambda*1e-8) // order calculation\n",
"printf('\n Number of orders visible is %d.',n)\n",
""
   ]
   }
,
{
		   "cell_type": "markdown",
		   "metadata": {},
		   "source": [
			"## Example 3.14: Calculation_of_order_numbers_for_visible_spectrum.sce"
		   ]
		  },
  {
"cell_type": "code",
	   "execution_count": null,
	   "metadata": {
	    "collapsed": true
	   },
	   "outputs": [],
"source": [
"clc \n",
"// Given that\n",
"N = 4000 // Grating lines per cm\n",
"theta = 90 // for maximum order\n",
"lambda_min = 4000 // minimum wavelength of light in angstrom\n",
"lambda_max = 7500 // maximum wavelength of light in angstrom\n",
"// Sample Problem 14 on page no. 157\n",
"printf('\n # PROBLEM 14 # \n')\n",
"printf(' Standard formula used \n')\n",
"printf(' lambda/d_lambda = n*N  \n')\n",
"n_max= sin(theta*%pi/180)/(N*lambda_min*1e-8) // minimum order observed\n",
"n_min= sin(theta*%pi/180)/(N*lambda_max*1e-8) // maximum order observed\n",
"printf('Visible orders are form %d to %d.',n_min,n_max)\n",
""
   ]
   }
,
{
		   "cell_type": "markdown",
		   "metadata": {},
		   "source": [
			"## Example 3.15: Calculation_of_number_of_lines_per_centimeter.sce"
		   ]
		  },
  {
"cell_type": "code",
	   "execution_count": null,
	   "metadata": {
	    "collapsed": true
	   },
	   "outputs": [],
"source": [
"clc \n",
"// Given that\n",
"lambda_1 = 6000 // wavelength of light in angstrom\n",
"lambda_2 = 4500 // wavelength of light in angstrom\n",
"theta = 30 // Angle in degree\n",
"\n",
"// Sample Problem 15 on page no. 158\n",
"printf('\n # PROBLEM 15 # \n')\n",
"printf(' Standard formula used \n')\n",
"printf(' n*lambda= sin(theta)/N \n')\n",
"n = lambda_2/(lambda_1-lambda_2) // order calculation\n",
"e_d = n*lambda_1*1e-8/sin(theta*%pi/180) \n",
"N = 1/e_d // Number of lines per cm\n",
"printf(' \n Number of lines per cm is %d.\n',N )\n",
""
   ]
   }
,
{
		   "cell_type": "markdown",
		   "metadata": {},
		   "source": [
			"## Example 3.17: Calculation_of_angle_of_diffraction_for_maximum_intensity_in_first_order.sce"
		   ]
		  },
  {
"cell_type": "code",
	   "execution_count": null,
	   "metadata": {
	    "collapsed": true
	   },
	   "outputs": [],
"source": [
"clc \n",
"// Given that\n",
"lambda = 5000 // mean wavelength in angstrom\n",
"n_tot = 15000 // total number of lines\n",
"l = 3 // length in cm\n",
"n = 1 // order\n",
"// Sample Problem 17 on page no. 160\n",
"printf('\n # PROBLEM 17 # \n')\n",
"printf(' Standard formula used \n')\n",
"printf(' n*lambda= sin(theta)/N  \n')\n",
"e_d = l/n_tot\n",
"theta = 180/%pi*asin(n*lambda*1e-8/e_d) // Angle of diffraction for maximum intensity in first order\n",
"printf('\n Angle of diffraction for maximum intensity in first order \nis %f degree.',theta)"
   ]
   }
,
{
		   "cell_type": "markdown",
		   "metadata": {},
		   "source": [
			"## Example 3.18: Calculation_of_number_of_lines_per_centimeter_in_a_grating.sce"
		   ]
		  },
  {
"cell_type": "code",
	   "execution_count": null,
	   "metadata": {
	    "collapsed": true
	   },
	   "outputs": [],
"source": [
"clc \n",
"// Given that\n",
"lambda = 5000 // mean wavelength in angstrom\n",
"n = 2 // order\n",
"N = 5000 // Grating lines per cm\n",
"theta = 30 // Angle in degree\n",
"\n",
"// Sample Problem 18 on page no. 160\n",
"printf('\n # PROBLEM 18 # \n')\n",
"printf(' Standard formula used \n')\n",
"printf(' n*lambda= sin(theta)/N  \n')\n",
"e_d = n*lambda*1e-8/sin(theta*%pi/180) \n",
"N = 1/e_d // number of lines per unit length\n",
"printf('\n Number of lines per unit centimeter is %d lines/cm.',ceil(N))"
   ]
   }
,
{
		   "cell_type": "markdown",
		   "metadata": {},
		   "source": [
			"## Example 3.19: Calculation_for_the_overlapping_of_spectral_lines.sce"
		   ]
		  },
  {
"cell_type": "code",
	   "execution_count": null,
	   "metadata": {
	    "collapsed": true
	   },
	   "outputs": [],
"source": [
"clc \n",
"   \n",
"// Given that\n",
"lambda_1 = 5890 // wavelength of light in angstrom\n",
"m = 5 // order\n",
"n = 4 // order\n",
"\n",
"// Sample Problem 19 on page no. 161\n",
"printf('\n # PROBLEM 19 # \n')\n",
"printf(' Standard formula used \n')\n",
"printf(' n*lambda= sin(theta)/N \n')\n",
"lambda_2 = n*lambda_1/5\n",
"printf(' \n The wavelength of %dth order spectrum is %d angstrom.\n',m,lambda_2 )\n",
""
   ]
   }
,
{
		   "cell_type": "markdown",
		   "metadata": {},
		   "source": [
			"## Example 3.1: Calculation_of_angular_and_linear_width_of_central_maxima.sce"
		   ]
		  },
  {
"cell_type": "code",
	   "execution_count": null,
	   "metadata": {
	    "collapsed": true
	   },
	   "outputs": [],
"source": [
"clc \n",
"   \n",
"// Given that\n",
"lambda = 6000 // wavelength of light in angstrom\n",
"e = 0.1 // Width of slit in mm\n",
"d = 1 // Linear distance in mm\n",
"// Sample Problem 1 on page no. 137\n",
"printf('\n # PROBLEM 1 # \n')\n",
"printf(' Standard formula used \n')\n",
"printf(' lambda = e*sin(theta)  \n')\n",
"theta = asin(lambda*1e-10/(e*1e-3)) // Calculation of angle in radian\n",
"ang_wdt = 2*theta // Angular width of central maxima\n",
"y = d*ang_wdt // Total linear width of central maxima \n",
"printf('\n Total Angular width of central maxima is %erad  \n Total linear width of central maxima  %f cm.',ang_wdt,y*100)"
   ]
   }
,
{
		   "cell_type": "markdown",
		   "metadata": {},
		   "source": [
			"## Example 3.20: Calculation_of_grating_element.sce"
		   ]
		  },
  {
"cell_type": "code",
	   "execution_count": null,
	   "metadata": {
	    "collapsed": true
	   },
	   "outputs": [],
"source": [
"clc \n",
"// Given that\n",
"lambda_1 = 6000 // wavelength of light in angstrom\n",
"lambda_2 = 4800 // wavelength of light in angstrom\n",
"theta = asin(0.75) // Angle of diffraction\n",
"\n",
"// Sample Problem 20 on page no. 165\n",
"printf('\n # PROBLEM 20 # \n')\n",
"printf(' Standard formula used \n')\n",
"printf(' n*lambda= sin(theta)/N \n')\n",
"n = lambda_2/(lambda_1-lambda_2) // order calculation\n",
"e_d = (n+1)*lambda_2*1e-8/sin(theta) // Grating Element\n",
"printf(' \n Grating Element is %e cm.\n',e_d )\n",
""
   ]
   }
,
{
		   "cell_type": "markdown",
		   "metadata": {},
		   "source": [
			"## Example 3.21: Calculation_of_angle_of_diffraction.sce"
		   ]
		  },
  {
"cell_type": "code",
	   "execution_count": null,
	   "metadata": {
	    "collapsed": true
	   },
	   "outputs": [],
"source": [
"clc \n",
"// Given that\n",
"lambda = 6000 // wavelength of light in angstrom\n",
"N = 200 // Grating element\n",
"n = 3 // order\n",
"d = 0.025 // diameter of wire in mm\n",
"// Sample Problem 21 on page no. 165\n",
"printf('\n # PROBLEM 21 # \n')\n",
"printf(' Standard formula used \n')\n",
"printf(' n*lambda= sin(theta)/N \n')\n",
"theta = 180/%pi*asin(N*n*lambda*1e-8) \n",
"theta_deg = floor(theta)\n",
"theta_min = (theta - theta_deg)*60// Angle of diffraction \n",
"e = 1/N - d*1e-1 // width of slit\n",
"ratio = 1/(N*e)\n",
"m = 1 \n",
"n1 = ratio*m\n",
"printf(' \n Angle of diffraction for third order spectrum is %d degree and %f minute.\n',theta_deg, theta_min )\n",
"printf('\n For n = %d, m = 1 is considered \n because the higher value of m results the order \nof absent spectrum more than given order %d.',n1,n)\n",
""
   ]
   }
,
{
		   "cell_type": "markdown",
		   "metadata": {},
		   "source": [
			"## Example 3.22: Calculation_for_the_difference_between_two_wavelengths.sce"
		   ]
		  },
  {
"cell_type": "code",
	   "execution_count": null,
	   "metadata": {
	    "collapsed": true
	   },
	   "outputs": [],
"source": [
"clc \n",
"// Given that\n",
"lambda = 5000 // wavelength of light in angstrom\n",
"theta = 30 // angle in degree\n",
"d_theta = 0.01 // angular separation in radian\n",
"// Sample Problem 22 on page no. 165\n",
"printf('\n # PROBLEM 22 # \n')\n",
"printf(' Standard formula used \n')\n",
"printf(' d_theta /d_lambda = n/(e+d)*cos(theta)  \n')\n",
"d_lambda = lambda*cotg(theta*%pi/180)*d_theta\n",
"printf('\n Difference in two wavelengths is %f angstrom.',d_lambda)"
   ]
   }
,
{
		   "cell_type": "markdown",
		   "metadata": {},
		   "source": [
			"## Example 3.23: Calculation_of_dispersive_power_of_grating.sce"
		   ]
		  },
  {
"cell_type": "code",
	   "execution_count": null,
	   "metadata": {
	    "collapsed": true
	   },
	   "outputs": [],
"source": [
"clc \n",
"   \n",
"// Given that\n",
"N = 4000 // Grating lines per cm\n",
"n = 2 // order\n",
"lambda = 5000 // wavelength of light in angstrom\n",
"\n",
"// Sample Problem 23 on page no. 165\n",
"printf('\n # PROBLEM 23 # \n')\n",
"printf(' Standard formula used \n')\n",
"printf(' d_theta /d_lambda = n/(e+d)*cos(theta)  \n')\n",
"theta = asin(n*lambda*1e-8*N) // Calculation of angle in radian\n",
"ratio = n*N/(cos(theta)) // where ratio = d_theta /d_lambda\n",
"printf('Dispersive power of grating is %d.',ratio)"
   ]
   }
,
{
		   "cell_type": "markdown",
		   "metadata": {},
		   "source": [
			"## Example 3.24: Determination_of_observed_orders_due_to_grating.sce"
		   ]
		  },
  {
"cell_type": "code",
	   "execution_count": null,
	   "metadata": {
	    "collapsed": true
	   },
	   "outputs": [],
"source": [
"clc \n",
"// Given that\n",
"N = 4000 // Grating lines per cm\n",
"theta = 90 // for maximum order\n",
"lambda_min = 5000 // minimum wavelength of light in angestrom\n",
"lambda_max = 7500 // maximum wavelength of light in angestrom\n",
"// Sample Problem 24 on page no. 165\n",
"printf('\n # PROBLEM 24 # \n')\n",
"printf(' Standard formula used \n')\n",
"printf(' lambda/d_lambda = n*N  \n')\n",
"n_max= sin(theta*%pi/180)/(N*lambda_min*1e-8) // minimum order observed\n",
"n_min= sin(theta*%pi/180)/(N*lambda_max*1e-8) // maximum order observed\n",
"\n",
"\n",
"printf('Visible orders are form %d to %d.',n_min,n_max)"
   ]
   }
,
{
		   "cell_type": "markdown",
		   "metadata": {},
		   "source": [
			"## Example 3.25: Calculation_for_the_difference_between_two_wavelengths.sce"
		   ]
		  },
  {
"cell_type": "code",
	   "execution_count": null,
	   "metadata": {
	    "collapsed": true
	   },
	   "outputs": [],
"source": [
"clc \n",
"// Given that\n",
"lambda = 5893 // mean wavelength in angstrom\n",
"n = 2 // order\n",
"N = 5000 // Grating lines per cm\n",
"theta = 2.5 // Separation in second\n",
"\n",
"// Sample Problem 25 on page no. 166\n",
"printf('\n # PROBLEM 25 # \n')\n",
"d_theta = %pi/180*theta/60 // Angle in radian\n",
"d_lambda = d_theta*sqrt((1/(n*N)^2)-(lambda*1e-8)^2) // Difference in wavelengths\n",
"printf('Difference in wavelengths is %f angstrom.',d_lambda*1e8)\n",
""
   ]
   }
,
{
		   "cell_type": "markdown",
		   "metadata": {},
		   "source": [
			"## Example 3.26: Calculation_of_aperture_of_objective_of_telescope.sce"
		   ]
		  },
  {
"cell_type": "code",
	   "execution_count": null,
	   "metadata": {
	    "collapsed": true
	   },
	   "outputs": [],
"source": [
"clc \n",
"// Given that\n",
"theta = 4.88e-6 // Separation between two stars in radian\n",
"lambda = 6000 // wavelength of light in angstrom\n",
"// Sample Problem 26 on page no. 172\n",
"printf('\n # PROBLEM 26 # \n')\n",
"printf(' Standard formula used \n')\n",
"printf(' theta = 1.22*lambda/a  \n')\n",
"a = 1.22*lambda*1e-10/(theta)  // calculation of aperture of objective\n",
"printf('\n Aperture of objective is %d cm.',(a*100))"
   ]
   }
,
{
		   "cell_type": "markdown",
		   "metadata": {},
		   "source": [
			"## Example 3.27: Calculation_for_the_separation_between_two_points_on_moon.sce"
		   ]
		  },
  {
"cell_type": "code",
	   "execution_count": null,
	   "metadata": {
	    "collapsed": true
	   },
	   "outputs": [],
"source": [
"clc \n",
"// Given that\n",
"a = 500 // Aperture of telescope in cm\n",
"lambda = 5500 // wavelength of light in angstrom\n",
"R = 3.8e5 // Distance of moon in km\n",
"// Sample Problem 27 on page no. 172 \n",
"printf('\n # PROBLEM 27 # \n')\n",
"printf(' Standard formula used \n')\n",
"printf(' theta = 1.22*lambda/a  \n')\n",
"theta = 1.22*lambda*1e-10/(a*1e-2)  // calculation of angle in radians\n",
"x = R*1e3*theta // Calculation separation of two points in m\n",
"printf('\n Separation of two points is %fm.',x)"
   ]
   }
,
{
		   "cell_type": "markdown",
		   "metadata": {},
		   "source": [
			"## Example 3.28: Calculation_of_aperture_of_object.sce"
		   ]
		  },
  {
"cell_type": "code",
	   "execution_count": null,
	   "metadata": {
	    "collapsed": true
	   },
	   "outputs": [],
"source": [
"clc \n",
"// Given that\n",
"S = 5.55e-7 // separation between objects\n",
"lambda = 5461 // wavelength of light in angstrom\n",
"\n",
"// Sample Problem 28 on page no. 173\n",
"printf('\n # PROBLEM 28 # \n')\n",
"printf(' Standard formula used \n')\n",
"printf(' S = 1.22*lambda/(2*NA)  \n')\n",
"NA = 1.22*lambda*1e-10/(2*S) // Calculation of numerical aperture \n",
"printf('\n Numerical aperture is %f.',NA)"
   ]
   }
,
{
		   "cell_type": "markdown",
		   "metadata": {},
		   "source": [
			"## Example 3.29: Calculation_of_resolving_power_of_a_microscope.sce"
		   ]
		  },
  {
"cell_type": "code",
	   "execution_count": null,
	   "metadata": {
	    "collapsed": true
	   },
	   "outputs": [],
"source": [
"clc \n",
"// Given that\n",
"NA = 0.12 // Numerical aperture\n",
"lambda = 6e-5 // wavelength of light in cm\n",
"\n",
"// Sample Problem 29 on page no. 173\n",
"printf('\n # PROBLEM 29 # \n')\n",
"printf(' Standard formula used \n')\n",
"printf(' RP = 2*NA/lambda  \n')\n",
"RP = 2*NA/(lambda) // Resolving power for non self luminous objects\n",
"printf('\n Maximum resolution power is %d.',ceil(RP))"
   ]
   }
,
{
		   "cell_type": "markdown",
		   "metadata": {},
		   "source": [
			"## Example 3.2: Calculation_of_wavelength_of_light.sce"
		   ]
		  },
  {
"cell_type": "code",
	   "execution_count": null,
	   "metadata": {
	    "collapsed": true
	   },
	   "outputs": [],
"source": [
"clc \n",
"// Given that\n",
"lambda = 6000 // wavelength of light in angstrom\n",
"e = 0.14 // Width of slit in mm\n",
"y = 1.6 // Separation between second dark bend and center in cm\n",
"d = 2 // Linear distance in mm\n",
"// Sample Problem 2 on page no. 137\n",
"printf('\n # PROBLEM 2 # \n')\n",
"printf(' Standard formula used \n')\n",
"printf(' lambda = e*sin(theta)  \n')\n",
"theta = asin(y*1e-2/d) // Calculation of angle in radian\n",
"lambda = theta*e*1e-3/2 // Calculation of wavelength \n",
"printf('\n Calculation of wavelength %d angstrom.',lambda*1e+10)"
   ]
   }
,
{
		   "cell_type": "markdown",
		   "metadata": {},
		   "source": [
			"## Example 3.30: Calculation_of_maximum_resolving_power.sce"
		   ]
		  },
  {
"cell_type": "code",
	   "execution_count": null,
	   "metadata": {
	    "collapsed": true
	   },
	   "outputs": [],
"source": [
"clc \n",
"// Given that\n",
"N = 40000 // Total number of lines on grating\n",
"lambda = 5000 // wavelength of light in angstrom\n",
"e_d = 12.5e-5 // Separation between centers of slits in cm\n",
"// Sample Problem 30 on page no. 173\n",
"printf('\n # PROBLEM 30 # \n')\n",
"printf(' Standard formula used \n')\n",
"printf(' n = e_d/lambda  \n')\n",
"n = e_d*1e-2/(lambda*1e-10) // Maximum possible order calculation\n",
"P_res = floor(n)*N // Maximum resolution power\n",
"printf('\nMaximum resolution power is %d.',P_res)"
   ]
   }
,
{
		   "cell_type": "markdown",
		   "metadata": {},
		   "source": [
			"## Example 3.31: Calculation_of_minimum_number_of_lines_required.sce"
		   ]
		  },
  {
"cell_type": "code",
	   "execution_count": null,
	   "metadata": {
	    "collapsed": true
	   },
	   "outputs": [],
"source": [
"clc \n",
"// Given that\n",
"lambda_1 = 5890 // wavelength of light in angstrom\n",
"lambda_2 = 5896 // wavelength of light in angstrom\n",
"n = 2 // order\n",
"// Sample Problem 31 on page no. 174\n",
"printf('\n # PROBLEM 31 # \n')\n",
"printf(' Standard formula used \n')\n",
"printf(' RP = n*N  \n')\n",
"d_lambda = lambda_2-lambda_1 // Difference between wavelengths\n",
"lambda = (lambda_1+lambda_2)/2 // Average wavelength\n",
"N = lambda/(n*d_lambda) // Number of lines in grating \n",
"printf('\nMinimum number of grating required to resolve wavelengths is %d',N)\n",
"\n",
"   "
   ]
   }
,
{
		   "cell_type": "markdown",
		   "metadata": {},
		   "source": [
			"## Example 3.32: Determining_the_ability_of_telescope.sce"
		   ]
		  },
  {
"cell_type": "code",
	   "execution_count": null,
	   "metadata": {
	    "collapsed": true
	   },
	   "outputs": [],
"source": [
"clc \n",
"// Given that\n",
"f = 4 // Focal length of telescope objective in m\n",
"d = 80 // Distance of window in m\n",
"l = 2 // Separation between wires of mesh in cm\n",
"a = 3  // Diameter of lens of telescope in cm\n",
"lambda = 5500 // wavelength of light in angstrom\n",
"\n",
"// Sample Problem 32 on page no. 174\n",
"printf('\n # PROBLEM 32 # \n')\n",
"printf(' Standard formula used \n')\n",
"printf(' theta = 1.22*lambda/a  \n\n')\n",
"theta = 1.22*lambda*1e-10/(a*1e-2) // Angle which can be resolved\n",
"alpha = (l*1e-2/d) // Angle projected by wire mesh\n",
"if (theta<alpha) then\n",
"    printf('As theta = %e degree is smaller than alpha = %e degree\n so telescope will be able to observe wire mesh',theta,alpha)\n",
"else\n",
"   printf('As theta = %e degree is greater than alpha = %e degree so telescope will not be able to observe wire mesh',theta,alpha) \n",
"end\n",
"// alpha is 2.25e-4 degree in book"
   ]
   }
,
{
		   "cell_type": "markdown",
		   "metadata": {},
		   "source": [
			"## Example 3.33: Calculation_of_smallest_angle_between_two_stars.sce"
		   ]
		  },
  {
"cell_type": "code",
	   "execution_count": null,
	   "metadata": {
	    "collapsed": true
	   },
	   "outputs": [],
"source": [
"clc \n",
"// Given that\n",
"f = 4 // Focal length of telescope objective in m\n",
"d = 100 // Diameter of lens of telescope in inch\n",
"lambda = 5000 // mean wavelength of light in angstrom\n",
"\n",
"// Sample Problem 33 on page no. 175\n",
"printf('\n # PROBLEM 33 # \n')\n",
"printf(' Standard formula used \n')\n",
"printf(' theta = 1.22*lambda/a  \n')\n",
"a = d*2.54/100 // Diameter of lens of telescope in meter\n",
"theta = 1.22*lambda*1e-10/a  // Calculation of angle\n",
"printf('\n Smallest angle between two stars is %e rad.',theta)\n",
""
   ]
   }
,
{
		   "cell_type": "markdown",
		   "metadata": {},
		   "source": [
			"## Example 3.34: Calculation_of_distance_between_centers_of_two_stars_which_are_just_resolved.sce"
		   ]
		  },
  {
"cell_type": "code",
	   "execution_count": null,
	   "metadata": {
	    "collapsed": true
	   },
	   "outputs": [],
"source": [
"clc \n",
"// Given that\n",
"f = 4 // Focal length of telescope objective in m\n",
"a = 0.01 // Diameter of lens of telescope in m\n",
"lambda = 5500 // wavelength of light in angstrom\n",
"\n",
"// Sample Problem 34 on page no. 175\n",
"printf('\n # PROBLEM 34 # \n')\n",
"printf(' Standard formula used \n')\n",
"printf(' theta = 1.22*lambda/a  \n')\n",
"theta = 1.22*lambda*1e-10/(a) \n",
"x = f*theta // Separation between center of images in cm\n",
"printf('\n Separation between center of images is %e cm.',x*100)\n",
""
   ]
   }
,
{
		   "cell_type": "markdown",
		   "metadata": {},
		   "source": [
			"## Example 3.35: Calculation_for_the_required_objective_for_telescope.sce"
		   ]
		  },
  {
"cell_type": "code",
	   "execution_count": null,
	   "metadata": {
	    "collapsed": true
	   },
	   "outputs": [],
"source": [
"clc \n",
"// Given that\n",
"lambda = 5000 // wavelength of light in angstrom\n",
"theta = 1e-3 // Separation between stars in degree\n",
"// Sample Problem 35 on page no. 175\n",
"printf('\n # PROBLEM 35 # \n')\n",
"printf(' Standard formula used \n')\n",
"printf(' theta = 1.22*lambda/a  \n')\n",
"a = 1.22*lambda*1e-10/(theta*%pi/180) // Calculation of diameter of telescope\n",
"printf('\n Diameter of telescope is %f cm.',a*100)\n",
""
   ]
   }
,
{
		   "cell_type": "markdown",
		   "metadata": {},
		   "source": [
			"## Example 3.36: Calculation_of_limit_of_resolution.sce"
		   ]
		  },
  {
"cell_type": "code",
	   "execution_count": null,
	   "metadata": {
	    "collapsed": true
	   },
	   "outputs": [],
"source": [
"clc \n",
"// Given that\n",
"lambda = 5890 // wavelength of light in angstrom\n",
"a = 1 // Diameter of aperture in cm\n",
"// Sample Problem 36 on page no. 176\n",
"printf('\n # PROBLEM 36 # \n')\n",
"printf(' Standard formula used \n')\n",
"printf(' theta = 1.22*lambda/a  \n')\n",
"theta = 1.22*lambda*1e-10/(a*1e-2) // Calculation of resolving limit of telescope\n",
"printf('\n Resolving limit of telescope is %e rad.',theta)\n",
""
   ]
   }
,
{
		   "cell_type": "markdown",
		   "metadata": {},
		   "source": [
			"## Example 3.37: Calculation_of_resolving_power_of_grating_and_smallest_wavelength_difference.sce"
		   ]
		  },
  {
"cell_type": "code",
	   "execution_count": null,
	   "metadata": {
	    "collapsed": true
	   },
	   "outputs": [],
"source": [
"clc \n",
"// Given that\n",
"N = 15000 // Grating lines per inch\n",
"w = 10 // Width in cm\n",
"n = 2 // Order\n",
"m =3 // Order\n",
"lambda = 6000 // wavelength of light in angstrom\n",
"// Sample Problem 37 on page no. 176\n",
"printf('\n # PROBLEM 37 # \n')\n",
"printf(' Standard formula used \n')\n",
"printf(' lambda/d_lambda = n*N  \n')\n",
"P_res = n*N // resolving power in nth order \n",
"d_lambda = lambda/P_res // Resolving power of grating\n",
"printf('Resolving power in 2nd order is %e \n Smallest wavelength that can be resolved is %d Angstrom.',P_res,d_lambda*100)\n",
""
   ]
   }
,
{
		   "cell_type": "markdown",
		   "metadata": {},
		   "source": [
			"## Example 3.38: Estimation_of_resolving_limit_of_microscope.sce"
		   ]
		  },
  {
"cell_type": "code",
	   "execution_count": null,
	   "metadata": {
	    "collapsed": true
	   },
	   "outputs": [],
"source": [
"clc \n",
"// Given that\n",
"lambda = 5500 // wavelength of light in angstrom\n",
"theta = 30 // Semi angle of cone in degree\n",
"// Sample Problem 38 on page no. 138\n",
"printf('\n # PROBLEM 38 # \n')\n",
"printf(' Standard formula used \n')\n",
"printf(' S = 1.22*lambda/(2*sin(theta))  \n')\n",
"S = 1.22*lambda*1e-10/(2*sin(theta*%pi/180)) // Calculation of resolving limit of microscope\n",
"printf('\n Resolving limit of microscope is %e cm.',S*1e2)\n",
""
   ]
   }
,
{
		   "cell_type": "markdown",
		   "metadata": {},
		   "source": [
			"## Example 3.39: EX3_39.sce"
		   ]
		  },
  {
"cell_type": "code",
	   "execution_count": null,
	   "metadata": {
	    "collapsed": true
	   },
	   "outputs": [],
"source": [
"clc \n",
"// Given that\n",
"N = 6000 // Grating lines per cm\n",
"w = 10 // Width in cm\n",
"n = 2 // Order\n",
"m =3 // Order\n",
"lambda = 6000 // wavelength of light in angstrom\n",
"// Sample Problem 39 on page no. 177\n",
"printf('\n # PROBLEM 39 # \n')\n",
"printf(' Standard formula used \n')\n",
"printf(' lambda/d_lambda = n*N  \n')\n",
"n_tot = w*N // Total number of grating\n",
"P_res = n*n_tot // resolving power in nth order \n",
"d_lambda = lambda/(m*n_tot) // Resolving power of grating\n",
"printf('Resolving power in 2nd order is %e \n Smallest wavelength that can be resolved is %f Angstrom',P_res,d_lambda)"
   ]
   }
,
{
		   "cell_type": "markdown",
		   "metadata": {},
		   "source": [
			"## Example 3.3: Calculation_of_width_of_slit.sce"
		   ]
		  },
  {
"cell_type": "code",
	   "execution_count": null,
	   "metadata": {
	    "collapsed": true
	   },
	   "outputs": [],
"source": [
"clc \n",
"// Given that\n",
"lambda = 5000 // wavelength of light in angstrom\n",
"theta = 30 // Central maximum spread out at on side\n",
"// Sample Problem 3 on page no. 139\n",
"printf('\n # PROBLEM 3 # \n')\n",
"printf(' Standard formula used \n')\n",
"printf(' lambda = e*sin(theta)  \n')\n",
"e = lambda*1e-10 / sin(theta*%pi/180) // Calculation of width of slit\n",
"printf('\n Width of slit is %ecm.',e*1e+2)\n",
"\n",
"   "
   ]
   }
,
{
		   "cell_type": "markdown",
		   "metadata": {},
		   "source": [
			"## Example 3.4: Calculation_of_wavelength_of_light.sce"
		   ]
		  },
  {
"cell_type": "code",
	   "execution_count": null,
	   "metadata": {
	    "collapsed": true
	   },
	   "outputs": [],
"source": [
"clc \n",
"// Given that\n",
"e = 0.2 // Width of slit in mm\n",
"y = 0.5 // Separation between second dark bend and center in cm\n",
"d = 2 // Linear distance in mm\n",
"// Sample Problem 4 on page no. 140\n",
"printf('\n # PROBLEM 4 # \n')\n",
"printf(' Standard formula used \n')\n",
"printf(' lambda = e*sin(theta)  \n')\n",
"theta = y*1e-2/2 // Calculation of angle in radian\n",
"lambda = theta*e*1e-3 // Calculation of wavelength \n",
"printf('\n Calculation of wavelength %d angstrom.',lambda*1e+10)"
   ]
   }
,
{
		   "cell_type": "markdown",
		   "metadata": {},
		   "source": [
			"## Example 3.6: Calculation_of_wavelengths_of_light.sce"
		   ]
		  },
  {
"cell_type": "code",
	   "execution_count": null,
	   "metadata": {
	    "collapsed": true
	   },
	   "outputs": [],
"source": [
"clc \n",
"// Given that\n",
"f = 100 // focal length of lens in cm\n",
"y = 0.05 // Separation between second dark bend and center in cm\n",
"m = 4 // Order of minima\n",
"n = 5 // Order of minima\n",
"e = 0.5 // Distance of center of 5th minima from center of maxima in cm\n",
"// Sample Problem 6 on page no. 141\n",
"printf('\n # PROBLEM 6 # \n')\n",
"printf(' Standard formula used \n')\n",
"printf(' lambda = e*sin(theta)  \n')\n",
"theta = y*1e-2/(f*1e-2) // Calculation of angle in radian\n",
"lambda_1 = theta*e*1e-2/m // Calculation of wavelength 1\n",
"lambda_2 = lambda_1*m/n // Calculation of wavelength 2\n",
"printf('\n Wavelengths are %d and %d angestrom.',lambda_1*1e+10,lambda_2*1e+10)"
   ]
   }
,
{
		   "cell_type": "markdown",
		   "metadata": {},
		   "source": [
			"## Example 3.7: Calculation_of_half_angular_width.sce"
		   ]
		  },
  {
"cell_type": "code",
	   "execution_count": null,
	   "metadata": {
	    "collapsed": true
	   },
	   "outputs": [],
"source": [
"clc \n",
"   \n",
"// Given that\n",
"lambda = 6000 // wavelength of light in angstrom\n",
"e = 1.2e-4 // Width of slit in cm\n",
"\n",
"// Sample Problem 7 on page no. 142\n",
"printf('\n # PROBLEM 7 # \n')\n",
"printf(' Standard formula used \n')\n",
"printf(' lambda = e*sin(theta)  \n')\n",
"theta = asin(lambda*1e-10/(e*1e-2)) // Calculation of angle in radian\n",
"ang_wdt = theta*180/%pi // Angular width of central maxima\n",
"printf('\n Total Angular width of central maxima is %d degree.',ceil(ang_wdt))"
   ]
   }
,
{
		   "cell_type": "markdown",
		   "metadata": {},
		   "source": [
			"## Example 3.8: Calculation_of_angle_for_first_dark_band_and_next_bright_band.sce"
		   ]
		  },
  {
"cell_type": "code",
	   "execution_count": null,
	   "metadata": {
	    "collapsed": true
	   },
	   "outputs": [],
"source": [
"clc \n",
"// Given that\n",
"lambda = 6000 // wavelength of light in angstrom\n",
"e = 0.3 // Width of slit in mm\n",
"m = 1 // Order for first dark band\n",
"n = 3/2 // Order for first bright band\n",
"// Sample Problem 8 on page no. 143\n",
"printf('\n # PROBLEM 8 # \n')\n",
"printf(' Standard formula used \n')\n",
"printf(' lambda = e*sin(theta)  \n')\n",
"theta_d = m*asin(lambda*1e-10/(e*1e-3)) // Calculation of angle in radian\n",
"theta_b = n*asin(lambda*1e-10/(e*1e-3)) // Calculation of angle in radian\n",
"printf('\n First dark band is formed at angle %e rad. \n First bright band is formed at angle %e rad.',theta_d,theta_b)"
   ]
   }
,
{
		   "cell_type": "markdown",
		   "metadata": {},
		   "source": [
			"## Example 3.9: Calculation_of_distance_for_first_dark_band_and_next_bright_band.sce"
		   ]
		  },
  {
"cell_type": "code",
	   "execution_count": null,
	   "metadata": {
	    "collapsed": true
	   },
	   "outputs": [],
"source": [
"clc \n",
"// Given that\n",
"f = 50 // focal length of lens in cm\n",
"lambda = 5890 // Wavelength of light in angstrom\n",
"e = 0.03 // Width of slit in cm\n",
"m = 1 // Order for first dark band\n",
"n = 3/2 // Order for first bright band\n",
"// Sample Problem 9 on page no. 143\n",
"printf('\n # PROBLEM 9 # \n')\n",
"printf(' Standard formula used \n')\n",
"printf(' lambda = e*sin(theta)  \n')\n",
"\n",
"theta_d = m*asin(lambda*1e-10/(e*1e-3)) // Calculation of angle in radian\n",
"theta_b = n*asin(lambda*1e-10/(e*1e-3)) // Calculation of angle in radian\n",
"y_d = theta_d*f*1e-2 // Calculation of linear distance of first dark band from center in m\n",
"y_b = theta_b*f*1e-2 // Calculation of linear distance of first dark band from center in m\n",
"printf('\n Linear distance of first dark band from center is %f cm \n Linear distance of next bright band  is %f cm',y_d*10,y_b*10)"
   ]
   }
],
"metadata": {
		  "kernelspec": {
		   "display_name": "Scilab",
		   "language": "scilab",
		   "name": "scilab"
		  },
		  "language_info": {
		   "file_extension": ".sce",
		   "help_links": [
			{
			 "text": "MetaKernel Magics",
			 "url": "https://github.com/calysto/metakernel/blob/master/metakernel/magics/README.md"
			}
		   ],
		   "mimetype": "text/x-octave",
		   "name": "scilab",
		   "version": "0.7.1"
		  }
		 },
		 "nbformat": 4,
		 "nbformat_minor": 0
}
