{
"cells": [
 {
		   "cell_type": "markdown",
	   "metadata": {},
	   "source": [
       "# Chapter 2: Interference"
	   ]
	},
{
		   "cell_type": "markdown",
		   "metadata": {},
		   "source": [
			"## Example 2.10: Calculation_of_wavelength_of_light.sce"
		   ]
		  },
  {
"cell_type": "code",
	   "execution_count": null,
	   "metadata": {
	    "collapsed": true
	   },
	   "outputs": [],
"source": [
"clc \n",
"\n",
"// Given that\n",
"n = 4 // order of bright fringe\n",
"x_n = 10 // Separation of 4th bright fringe from center in mm\n",
"D = 1// Separation between source and screen in meter\n",
"d = 0.2 // Separation between coherent sources in mm\n",
"\n",
"// Sample Problem 10 on page no. 97\n",
"printf('\n # PROBLEM 10 # \n')\n",
"printf('\n Standard formula used \n x = D*n*lambda/d \n')\n",
"lambda = x_n*1e-3*d*1e-3/(n*D) // Calculation of wavelength of sauce in meter\n",
"printf('\n Wavelength of sauce is %d Angstrom.',lambda*1e10)\n",
""
   ]
   }
,
{
		   "cell_type": "markdown",
		   "metadata": {},
		   "source": [
			"## Example 2.11: Calculation_of_wavelength_of_light.sce"
		   ]
		  },
  {
"cell_type": "code",
	   "execution_count": null,
	   "metadata": {
	    "collapsed": true
	   },
	   "outputs": [],
"source": [
"clc \n",
"// Given that\n",
"n = 3 // order of dark fringe\n",
"m = 11 // Order of bight fringe\n",
"s = 8.835 // Separation between 4th dark and 11 bright fringe\n",
"D = 100 // Separation between source and screen in centimeter\n",
"d = 0.5 // Separation between coherent sources in mm\n",
"\n",
"// Sample Problem 11 on page no. 97\n",
"printf('\n # PROBLEM 11 # \n')\n",
"printf('\n Standard formula used \n x = D*n*lambda/d \n')\n",
"Beta = s*1e-3/(m - (2*n+1)/2) // Calculation of fringe width \n",
"lambda = Beta*d*1e-3/(D*1e-2) // Calculation of wavelength of sauce in meter\n",
"printf('\n Wavelength of sauce is %d Angstrom.',lambda*1e10)"
   ]
   }
,
{
		   "cell_type": "markdown",
		   "metadata": {},
		   "source": [
			"## Example 2.12: Calculation_of_changed_fringe_width.sce"
		   ]
		  },
  {
"cell_type": "code",
	   "execution_count": null,
	   "metadata": {
	    "collapsed": true
	   },
	   "outputs": [],
"source": [
"clc \n",
"  \n",
"// Given that\n",
"lambda1 = 6000 // Wavelength of first light in angstrom\n",
"lambda2 = 5000 // wavelength of second wave in angstrom\n",
"m = 0 // order of bright fringe\n",
"n = 10 // order of bright fringe\n",
"d1 = 12.34 // micrometer reading for first zero order in mm\n",
"d10 = 14.73 // micrometer reading for 10th order in mm\n",
"// Sample Problem 12 on page no. 98\n",
"printf('\n # PROBLEM 12 # \n')\n",
"printf('\n Standard formula used \n x = D*n*lambda/d \n')\n",
"s = d10 - d1 // Separation between zero order and 10th order fringe\n",
"Beta1 = s*1e-3/(n-m) // Calculation of fringe width for wavelength 1\n",
"Beta2 = (Beta1/lambda1)*lambda2 // Calculation of fringe width for wavelength 2\n",
"printf('\n Fringe width for wavelength %d angstrom is %f mm.',lambda2,Beta2*1e3)"
   ]
   }
,
{
		   "cell_type": "markdown",
		   "metadata": {},
		   "source": [
			"## Example 2.13: Calculation_of_distance_between_two_coherent_sources.sce"
		   ]
		  },
  {
"cell_type": "code",
	   "execution_count": null,
	   "metadata": {
	    "collapsed": true
	   },
	   "outputs": [],
"source": [
"clc \n",
"  \n",
"// Given that\n",
"lambda = 5890 // Wavelength of light in angstrom\n",
"d1 = 5 // separation between slit and biprism in cm\n",
"d2 = 75 // Distance between screen and biprism in cm\n",
"Beta = 9.424e-2 // Fringe width in cm\n",
"\n",
"// Sample Problem 13 on page no. 99\n",
"printf('\n # PROBLEM 13 # \n')\n",
"printf('\n Standard formula used \n x = D*n*lambda/d \n')\n",
"D = d1+ d2 // Separation between slit and screen in cm\n",
"d = D*1e-2*lambda*1e-10/(Beta*1e-2) // Calculation for separation between two coherent sources in m\n",
"printf('\n Separation between two coherent sources is %f cm.', d*1e2)"
   ]
   }
,
{
		   "cell_type": "markdown",
		   "metadata": {},
		   "source": [
			"## Example 2.14: Calculation_of_fringe_width.sce"
		   ]
		  },
  {
"cell_type": "code",
	   "execution_count": null,
	   "metadata": {
	    "collapsed": true
	   },
	   "outputs": [],
"source": [
"clc \n",
"\n",
"  \n",
"// Given that\n",
"mu = 1.5 // Refractive index of material\n",
"alpha = 1 // Refracting angle in degree\n",
"\n",
"lambda = 6900 // Wavelength of light in angstrom\n",
"d1 = 20 // separation between source and biprism in cm\n",
"d2 = 80 // separation between screen and biprism in cm\n",
"// Sample Problem 14 on page no. 99\n",
"printf('\n # PROBLEM 14 # \n')\n",
"printf('\n Standard formula used \n x = D*n*lambda/d \n')\n",
"D = d1+ d2 // Separation between slit and screen in cm\n",
"d = 2*(mu-1)*(alpha*%pi/180)*d1 // Separation between coherent sources\n",
"Beta = lambda*1e-10*D*1e-2/(d) // Calculation of fringe width in m\n",
"printf('\n Fringe width is %f cm.', Beta*1e2)"
   ]
   }
,
{
		   "cell_type": "markdown",
		   "metadata": {},
		   "source": [
			"## Example 2.15: Calculation_of_wavelength_of_light.sce"
		   ]
		  },
  {
"cell_type": "code",
	   "execution_count": null,
	   "metadata": {
	    "collapsed": true
	   },
	   "outputs": [],
"source": [
"clc \n",
"  \n",
"// Given that\n",
"D = 120 // Distance between eyepiece and screen in cm\n",
"d = 0.075 // DISTANCE BETWEEN TWO VIRTUAL COHERENT SOURCE in cm\n",
"x = 1.888 // Distance of 20th bright fringe from center in cm\n",
"n = 20 // Number of fringes\n",
"// Sample Problem 15 on page no. 99\n",
"printf('\n # PROBLEM 15 # \n')\n",
"printf('\n Standard formula used \n x = D*n*lambda/d \n')\n",
"Beta = x/n // Calculation of fringe width in m\n",
"lambda = Beta*d/D*1e-2 // Calculation of wavelength \n",
"printf('\n Wavelength of light is %d angstrom.', lambda*1e10)"
   ]
   }
,
{
		   "cell_type": "markdown",
		   "metadata": {},
		   "source": [
			"## Example 2.16: Calculation_of_thickness_of_plate.sce"
		   ]
		  },
  {
"cell_type": "code",
	   "execution_count": null,
	   "metadata": {
	    "collapsed": true
	   },
	   "outputs": [],
"source": [
"clc \n",
"// Given that\n",
"lambda = 5450 // Wavelength in angstrom\n",
"mu = 1.5 // Refractive index of material\n",
"n = 3 // order of fringe\n",
"\n",
"// Sample Problem 16 on page no. 100\n",
"printf('\n # PROBLEM 16 # \n')\n",
"printf('\n Standard formula used \n (mu - 1)*t = n*lambda\n')\n",
"t = n*lambda*1e-10/(mu-1) // Calculation of thickness of glass plate \n",
"printf('\n Thickness of glass plate is %f mm.', t*1e3)\n",
""
   ]
   }
,
{
		   "cell_type": "markdown",
		   "metadata": {},
		   "source": [
			"## Example 2.17: Calculation_of_refractive_index_of_sheet.sce"
		   ]
		  },
  {
"cell_type": "code",
	   "execution_count": null,
	   "metadata": {
	    "collapsed": true
	   },
	   "outputs": [],
"source": [
"clc \n",
"// Given that\n",
"lambda = 5460 // Wavelength in angstrom\n",
"t = 6.3e-4 // Thickness of plate in cm\n",
"n = 6 // order of fringe\n",
"\n",
"// Sample Problem 17 on page no. 100\n",
"printf('\n # PROBLEM 17 # \n')\n",
"printf('\n Standard formula used \n (mu - 1)*t = n*lambda\n')\n",
"mu = n*lambda*1e-10/(t*1e-2) +1 // Calculation of thickness of glass plate \n",
"printf('\n Refractive index of sheet is %f.', mu)"
   ]
   }
,
{
		   "cell_type": "markdown",
		   "metadata": {},
		   "source": [
			"## Example 2.18: Calculation_of_refractive_index_of_mica.sce"
		   ]
		  },
  {
"cell_type": "code",
	   "execution_count": null,
	   "metadata": {
	    "collapsed": true
	   },
	   "outputs": [],
"source": [
"clc \n",
"// Given that\n",
"lambda = 6e-5 // Wavelength in cm\n",
"t = 1.2e-6 // Thickness of plate in cm\n",
"n = 1 // order of fringe\n",
"\n",
"// Sample Problem 18 on page no. 100\n",
"printf('\n # PROBLEM 18 # \n')\n",
"printf('\n Standard formula used \n (mu - 1)*t = n*lambda\n')\n",
"mu = n*lambda*1e-2/(t) +1  // Calculation of thickness of glass plate \n",
"printf('\n Refractive index of sheet is %f.', mu)\n",
""
   ]
   }
,
{
		   "cell_type": "markdown",
		   "metadata": {},
		   "source": [
			"## Example 2.19: Calculation_of_intensity_at_central_maxima_and_its_lateral_shift.sce"
		   ]
		  },
  {
"cell_type": "code",
	   "execution_count": null,
	   "metadata": {
	    "collapsed": true
	   },
	   "outputs": [],
"source": [
"clc \n",
"// Given that\n",
"lambda = 5000 // Wavelength in angstrom\n",
"d = 5e-4 // Separation between slits in meter\n",
"D = 1//  Separation between screen and slit in m\n",
"t = 1.5e-6 // Thickness of plate in cm\n",
"mu = 1.5 // Refractive index of medium\n",
"a1 = 1 // let\n",
"a2 = a1 // let\n",
"// Sample Problem 19 on page no. 101\n",
"printf('\n # PROBLEM 19 # \n')\n",
"printf('\n Standard formula used \n (mu - 1)*t = n*lambda\n')\n",
"del_l = (mu -1)*t // Calculation of path difference\n",
"del_p = 2*%pi/(lambda*1e-10) * del_l // Calculation of phase difference\n",
"I = a1^2+a2^2+2*a1*a2*cos(del_p) // Intensity at center of screen\n",
"x = D*(mu-1)*t /d\n",
"printf('\n Intensity at center of screen is %d.',I)\n",
"printf('\n Shift due to sheet is %f mm.',x*1e3)\n",
""
   ]
   }
,
{
		   "cell_type": "markdown",
		   "metadata": {},
		   "source": [
			"## Example 2.1: Calculation_of_ratio_of_intensities.sce"
		   ]
		  },
  {
"cell_type": "code",
	   "execution_count": null,
	   "metadata": {
	    "collapsed": true
	   },
	   "outputs": [],
"source": [
"clc \n",
" \n",
"// Given that\n",
"lambda = 1 // let wavelength is unity\n",
"a = 1 // let amplitude is unity\n",
"del_x = lambda/8 // Path difference between two points on screen\n",
"// Problem 1 on page No. 82\n",
"printf('\n # Problem 1 # \n')\n",
"del_phase = 2*%pi*del_x/lambda // Phase difference \n",
"I1 = 2*a^2*(1+cos(del_phase)) // Intensity at that point\n",
"I0 = 4*a^2 // Intensity at center\n",
"ratio = I1/I0 // Ratio of intensities \n",
"printf('\n Ratio of intensities is %f',ratio)"
   ]
   }
,
{
		   "cell_type": "markdown",
		   "metadata": {},
		   "source": [
			"## Example 2.20: Calculation_of_thickness_of_mica_sheet.sce"
		   ]
		  },
  {
"cell_type": "code",
	   "execution_count": null,
	   "metadata": {
	    "collapsed": true
	   },
	   "outputs": [],
"source": [
"clc \n",
"// Given that\n",
"lambda = 5890 // Wavelength in angstrom\n",
"mu = 1.6 // Refractive index of material\n",
"n = 3 // order of fringe\n",
"// Sample Problem 20 on page no. 100\n",
"printf('\n # PROBLEM 20 # \n')\n",
"\n",
"printf('\n Standard formula used \n (mu - 1)*t = n*lambda\n')\n",
"t = n*lambda*1e-10/(mu-1) // Calculation of thickness of mica sheet\n",
"printf('\n Thickness of mica sheet is %e cm.', t*1e2)"
   ]
   }
,
{
		   "cell_type": "markdown",
		   "metadata": {},
		   "source": [
			"## Example 2.21: EX2_21.sce"
		   ]
		  },
  {
"cell_type": "code",
	   "execution_count": null,
	   "metadata": {
	    "collapsed": true
	   },
	   "outputs": [],
"source": [
"clc \n",
"// Given that\n",
"lambda = 5890 // Wavelength in angstrom\n",
"r = 60 // Angle of Refraction in degree \n",
"mu = 1.5 // Refractive index of material\n",
"n = 1 // order of fringe\n",
"\n",
"// Sample Problem 21 on page no. 108\n",
"printf('\n # PROBLEM 21 # \n')\n",
"printf('\n Standard formula used \n 2*mu*t*cos(r) = n*lambda\n')\n",
"t = n*lambda*1e-10/(2*mu*cos(r*%pi/180)) // Calculation of thickness of sheet\n",
"printf('\n Thickness of sheet is %e mm.', t*1e3)\n",
""
   ]
   }
,
{
		   "cell_type": "markdown",
		   "metadata": {},
		   "source": [
			"## Example 2.22: Calculation_of_least_thickness_for_black_and_bright.sce"
		   ]
		  },
  {
"cell_type": "code",
	   "execution_count": null,
	   "metadata": {
	    "collapsed": true
	   },
	   "outputs": [],
"source": [
"clc \n",
"// Given that\n",
"lambda = 5893 // Wavelength in angstrom\n",
"r = 0 // Angle of Refraction in degree \n",
"mu = 1.42 // Refractive index of material\n",
"n = 1 // order of fringe for black\n",
"m = 0.5 // order of bright fringe\n",
"\n",
"// Sample Problem 22 on page no. 108\n",
"printf('\n # PROBLEM 22 # \n')\n",
"printf('\n Standard formula used \n 2*mu*t*cos(r) = n*lambda\n')\n",
"t_n = n*lambda*1e-10/(2*mu*cos(r*%pi/180)) // Calculation of thickness of sheet for black\n",
"t_m = m*lambda*1e-10/(2*mu*cos(r*%pi/180)) // Calculation of thickness of sheet for bright\n",
"printf('\n Least thickness of sheet for \n Black : %e mm \n Bright: %e mm.', t_n*1e3,t_m*1e3)\n",
"\n",
"  "
   ]
   }
,
{
		   "cell_type": "markdown",
		   "metadata": {},
		   "source": [
			"## Example 2.23: Calculation_of_thickness_of_film.sce"
		   ]
		  },
  {
"cell_type": "code",
	   "execution_count": null,
	   "metadata": {
	    "collapsed": true
	   },
	   "outputs": [],
"source": [
"clc \n",
"// Given that\n",
"lambda1 = 6.1e-7 // Wavelength in angstrom\n",
"lambda2 = 6.0e-7 // Wavelength in angstrom\n",
"i = asin(4/5) // Angle of incidence \n",
"mu = 4/3 // Refractive index of material\n",
"\n",
"// Sample Problem 23 on page no. 109\n",
"printf('\n # PROBLEM 23 # \n')\n",
"\n",
"printf('\n Standard formula used \n 2*mu*t*cos(r) = n*lambda\n')\n",
"n = lambda2/(lambda1-lambda2) // Calculation of order\n",
"r = asin(sin(i)/mu)\n",
"t = n*lambda1/(2*mu*cos(r)) // Calculation of thickness film\n",
"printf('\n Thickness of film is %e mm.', t*1e3)\n",
""
   ]
   }
,
{
		   "cell_type": "markdown",
		   "metadata": {},
		   "source": [
			"## Example 2.24: Calculation_of_thickness_of_film.sce"
		   ]
		  },
  {
"cell_type": "code",
	   "execution_count": null,
	   "metadata": {
	    "collapsed": true
	   },
	   "outputs": [],
"source": [
"clc \n",
"// Given that\n",
"lambda = 5890 // Wavelength in angstrom\n",
"i = 45 // Angle of incidence in degree \n",
"mu = 1.33 // Refractive index of soap film\n",
"n = 1 // order\n",
"// Sample Problem 24 on page no. 100\n",
"printf('\n # PROBLEM 24 # \n')\n",
"printf('\n Standard formula used \n 2*mu*t*cos(r) = n*lambda\n')\n",
"r = asin(sin(45*%pi/180)/mu)\n",
"t = n*lambda*1e-10/(2*mu*cos(r)) // Calculation of thickness film\n",
"printf('\n Thickness of film is %e mm.', t*1e3)\n",
""
   ]
   }
,
{
		   "cell_type": "markdown",
		   "metadata": {},
		   "source": [
			"## Example 2.25: Calculation_of_angle_of_wedge.sce"
		   ]
		  },
  {
"cell_type": "code",
	   "execution_count": null,
	   "metadata": {
	    "collapsed": true
	   },
	   "outputs": [],
"source": [
"clc \n",
"// Given that\n",
"lambda = 6000 // Wavelength in angstrom\n",
"mu = 1.4 // Refractive index of soap film\n",
"Beta = 2 // Fringe width in mm\n",
"// Sample Problem 25 on page no. 100\n",
"printf('\n # PROBLEM 25 # \n')\n",
"printf('\n Standard formula used \n Beta = lambda/(2*mu*theta)\n')\n",
"theta = lambda*1e-10/(2*mu*Beta*1e-3) // Calculation of angle of wedge\n",
"printf('\n Angle of wedge is %e rad.', theta)"
   ]
   }
,
{
		   "cell_type": "markdown",
		   "metadata": {},
		   "source": [
			"## Example 2.26: Calculation_of_wavelength_of_light.sce"
		   ]
		  },
  {
"cell_type": "code",
	   "execution_count": null,
	   "metadata": {
	    "collapsed": true
	   },
	   "outputs": [],
"source": [
"clc \n",
"// Given that\n",
"theta = 10 // Angle in second\n",
"mu = 1.4 // Refractive index of soap film\n",
"Beta = 0.5 // Fringe width in cm\n",
"// Sample Problem 26 on page no. 100\n",
"printf('\n # PROBLEM 26 # \n')\n",
"printf('\n Standard formula used \n Beta = lambda/(2*mu*theta)\n')\n",
"lambda = (2*mu*Beta*1e-2*theta*(%pi/(60*60*180))) // Calculation of wavelength \n",
"printf('\n Wavelength of light is %d angstrom.',lambda*1e10)"
   ]
   }
,
{
		   "cell_type": "markdown",
		   "metadata": {},
		   "source": [
			"## Example 2.27: Calculation_of_wavelength_of_light.sce"
		   ]
		  },
  {
"cell_type": "code",
	   "execution_count": null,
	   "metadata": {
	    "collapsed": true
	   },
	   "outputs": [],
"source": [
"clc \n",
"// Given that\n",
"n = 15 // Order of ring\n",
"m = 5 // Order of ring\n",
"D_n = 0.59 // Diameter of 15th fringe in cm\n",
"D_m = 0.336 // Diameter of 5th fringe in cm\n",
"r = 100 // Radius of curvature of lens\n",
"\n",
"// Sample Problem 27 on page no. 100\n",
"printf('\n # PROBLEM 27 # \n')\n",
"printf('\n Standard formula used \n Beta = lambda/(2*mu*theta)\n')\n",
"p = n-m // Difference of orders\n",
"lambda = ((D_n*1e-2)^2 - (D_m*1e-2)^2)/(4*p*r*1e-2) // Calculation of wavelength \n",
"printf('\n Wavelength of light is %d angstrom.',lambda*1e10)"
   ]
   }
,
{
		   "cell_type": "markdown",
		   "metadata": {},
		   "source": [
			"## Example 2.28: Calculation_of_refractive_index_of_liquid.sce"
		   ]
		  },
  {
"cell_type": "code",
	   "execution_count": null,
	   "metadata": {
	    "collapsed": true
	   },
	   "outputs": [],
"source": [
"clc \n",
"  \n",
"// Given that\n",
"lambda = 6000 // Wavelength of light in angstrom\n",
"n = 6 // Order of ring\n",
"D_n = 3.1 // Diameter of 6th fringe in mm\n",
"r = 1 // Radius of curvature of curved surface\n",
"// Sample Problem 28 on page no. 100\n",
"printf('\n # PROBLEM 28 # \n')\n",
"printf('\n Standard formula used \n Beta = lambda/(2*mu*theta)\n')\n",
"mu = 2*(2*n-1)*lambda*1e-10*r/(D_n*1e-3)^2 // Calculation of refractive index of material\n",
"printf('\n Refractive index of material is %f.',mu)"
   ]
   }
,
{
		   "cell_type": "markdown",
		   "metadata": {},
		   "source": [
			"## Example 2.29: Calculation_of_radius_of_curvature_of_lens_and_thickness_of_air_film.sce"
		   ]
		  },
  {
"cell_type": "code",
	   "execution_count": null,
	   "metadata": {
	    "collapsed": true
	   },
	   "outputs": [],
"source": [
"clc \n",
"// Given that\n",
"lambda = 5900 // Wavelength of light in angstrom\n",
"n = 10 // Order of ring\n",
"D_n = 0.5 // Diameter of 10th fringe in cm\n",
"\n",
"// Sample Problem 29 on page no. 118\n",
"printf('\n # PROBLEM 29 # \n')\n",
"printf('\n Standard formula used \n Beta = lambda/(2*mu*theta)\n')\n",
"r = (D_n*1e-2)^2/(4*n*lambda*1e-10) // Calculation of diameter of dark ring\n",
"t = n*lambda*1e-10/2 // calculation of thickness of air column \n",
"printf('\n Diameter of dark ring is %f m \n Thickness of air column is %em.',r,t)"
   ]
   }
,
{
		   "cell_type": "markdown",
		   "metadata": {},
		   "source": [
			"## Example 2.2: Calculation_of_ratio_of_maximum_to_minimum_intensities.sce"
		   ]
		  },
  {
"cell_type": "code",
	   "execution_count": null,
	   "metadata": {
	    "collapsed": true
	   },
	   "outputs": [],
"source": [
"clc\n",
"// Given that\n",
"I1 = 1 // let intensity of one source is unity\n",
"I2 = 100*I1 // Intensity of second source\n",
"a1 = 1 // let amplitude of first source is unity\n",
"// Problem 2 on page No. 83\n",
"printf('\n # Problem 2 # \n')\n",
"amp_ratio = sqrt(I2/I1) // Amplitude ratio of sources \n",
"a2 = a1*amp_ratio // Amplitude of second source\n",
"I_max = (a1+a2)^2 // Maximum Intensity\n",
"I_min = (a2-a1)^2 // Minimum Intensity \n",
"I_ratio = I_max/I_min // Ratio of maximum to minimum intensity\n",
"printf('\n Ratio of intensities is %d : %d',I_max,I_min)\n",
""
   ]
   }
,
{
		   "cell_type": "markdown",
		   "metadata": {},
		   "source": [
			"## Example 2.30: Calculation_of_distance_from_apex.sce"
		   ]
		  },
  {
"cell_type": "code",
	   "execution_count": null,
	   "metadata": {
	    "collapsed": true
	   },
	   "outputs": [],
"source": [
"clc \n",
"// Given that\n",
"theta = 0.3 // Angle of wedge in degree\n",
"lambda1 = 5890 // Wavelength of light in angstrom\n",
"lambda2 = 5896 // Wavelength of light in angstrom\n",
"\n",
"// Sample Problem 30 on page no. 100\n",
"printf('\n # PROBLEM 30 # \n')\n",
"printf('\n Standard formula used \n 2*t = (2n+1)*lambda/2\n')\n",
"n = (3*lambda2-lambda1)/(2*(lambda1-lambda2)) // Calculation of order\n",
"t = (lambda1*1e-10*lambda2*1e-10)/(lambda2*1e-10-lambda1*1e-10) // Calculation of thickness \n",
"x = t/(2*theta*%pi/180) // Calculation of Distance from apex\n",
"printf('\n Distance from apex is %f cm.',x*1e2)\n",
"// Answer in book is 5.56 cm"
   ]
   }
,
{
		   "cell_type": "markdown",
		   "metadata": {},
		   "source": [
			"## Example 2.31: Calculation_of_radius_of_curvature_of_lens_and_thickness_of_film.sce"
		   ]
		  },
  {
"cell_type": "code",
	   "execution_count": null,
	   "metadata": {
	    "collapsed": true
	   },
	   "outputs": [],
"source": [
"clc \n",
"// Given that\n",
"lambda = 6000 // Wavelength of light in angstrom\n",
"n = 10 // Order of ring\n",
"D_n = 0.5 // Diameter of 10th fringe in m\n",
"// Sample Problem 31 on page no. 100\n",
"printf('\n # PROBLEM 31 # \n')\n",
"printf('\n Standard formula used \n Beta = lambda/(2*mu*theta)\n')\n",
"r = (D_n*1e-2)^2/(4*n*lambda*1e-10) // Calculation of diameter of dark ring\n",
"t = n*lambda*1e-10/2 // calculation of thickness of air column \n",
"printf('\n Diameter of dark ring is %f cm \n Thickness of air column is %e cm.',r*1e2,t*1e2)\n",
""
   ]
   }
,
{
		   "cell_type": "markdown",
		   "metadata": {},
		   "source": [
			"## Example 2.32: Calculation_of_diameter_of_dark_ring.sce"
		   ]
		  },
  {
"cell_type": "code",
	   "execution_count": null,
	   "metadata": {
	    "collapsed": true
	   },
	   "outputs": [],
"source": [
"clc \n",
"// Given that\n",
"n = 4 // Order of ring\n",
"m = 12 // Order of ring\n",
"o = 20 // Order of ring\n",
"D_n = 0.4 // Diameter of 4th fringe in cm\n",
"D_m = 0.7 // Diameter of 12th fringe in cm\n",
"\n",
"// Sample Problem 32 on page no. 100\n",
"printf('\n # PROBLEM 32 # \n')\n",
"printf('\n Standard formula used \n D_m^2 -D_n^2 = 4*p*r*lambda\n')\n",
"D_o = sqrt((4*(o-n)/(4*(m-n)))* ((D_m*1e-2)^2-(D_n*1e-2)^2) + (D_n*1e-2)^2)\n",
"printf('\n Diameter of 20th ring is %f cm',D_o*1e+2)\n",
""
   ]
   }
,
{
		   "cell_type": "markdown",
		   "metadata": {},
		   "source": [
			"## Example 2.33: Calculation_of_diameter_of_dark_ring.sce"
		   ]
		  },
  {
"cell_type": "code",
	   "execution_count": null,
	   "metadata": {
	    "collapsed": true
	   },
	   "outputs": [],
"source": [
"clc \n",
"// Given that\n",
"theta = 0.3 // Angle of wedge in degree\n",
"lambda1 = 6e-5 // Wavelength of light in cm\n",
"lambda2 = 4.5e-5 // Wavelength of light in cm\n",
"r = 90 // Radius of curvature in cm\n",
"// Sample Problem 33 on page no. 120\n",
"printf('\n # PROBLEM 33 # \n')\n",
"\n",
"printf('\n Standard formula used \n D_m^2 -D_n^2 = 4*p*r*lambda\n')\n",
"n = (lambda2*1e-2)/(lambda1*1e-2-lambda2*1e-2) // Calculation of order \n",
"D_n = sqrt(4*n*lambda1*1e-2*r*1e-2)\n",
"printf('\n Diameter of %dth dark ring is %f cm.',n,D_n*1e2)\n",
""
   ]
   }
,
{
		   "cell_type": "markdown",
		   "metadata": {},
		   "source": [
			"## Example 2.34: EX2_34.sce"
		   ]
		  },
  {
"cell_type": "code",
	   "execution_count": null,
	   "metadata": {
	    "collapsed": true
	   },
	   "outputs": [],
"source": [
"clc \n",
"// Given that\n",
"lambda1 = 6e-5 // Wavelength of light in cm\n",
"lambda2 = 4.5e-5 // Wavelength of light in cm\n",
"dif1 = 0.125 // Difference between square of diameter of two successive rings in cm^2\n",
"mu1 = 1 // Refractive index\n",
"mu2 = 1.33 // Refractive index of inserted medium\n",
"r1 = 1 // let initial radius is unity\n",
"r2 = 2*r1 // Final radius of lens\n",
"// Sample Problem 34 on page no. 120\n",
"printf('\n # PROBLEM 34 # \n')\n",
"printf('\n Standard formula used \n D_m^2 -D_n^2 = 4*p*r*lambda\n')\n",
"dif2 = lambda2*1e-2*dif1/lambda1*1e-2  // Calculation of difference between square of diameter of two successive rings in cm for lambda2\n",
"\n",
"dif3 = mu1/mu2 * dif1 // Calculation of difference between square of diameter of two successive rings in cm for mu2\n",
"dif4 = r2/r1 * dif1\n",
"printf('\n For \n 1. Wavelength = %e cm,Difference between square of diameter of two successive rings is %f cm^2 \n 2. Refractive index %f, Difference between square of diameter of two successive rings is %f cm^2 \n .',lambda1,dif2*1e4,mu2,dif3)\n",
"printf(' \n 3.On doubling the radius, Difference between square of diameter of two successive rings will be %f cm^2.',dif4)"
   ]
   }
,
{
		   "cell_type": "markdown",
		   "metadata": {},
		   "source": [
			"## Example 2.3: Calculation_of_ratio_of_relative_intensities_of_sources.sce"
		   ]
		  },
  {
"cell_type": "code",
	   "execution_count": null,
	   "metadata": {
	    "collapsed": true
	   },
	   "outputs": [],
"source": [
"clc\n",
"// Given that\n",
"I_avg = 100 // let it is average intensity \n",
"var = 5 // Intensity variation in percentage\n",
"a2 = 1 // let amplitude of one source is unity\n",
"// Problem 3 on page No. 83\n",
"printf('\n # Problem 3 # \n')\n",
"I_max = I_avg+var// maximum intensity\n",
"I_min = I_avg - var // minimum intensity\n",
"I_ratio = I_max/I_min // Ratio of maximum to minimum intensity\n",
"amp_ratio = (1+sqrt(I_max/I_min))/(sqrt(I_max/I_min)-1) // Amplitude ratio of sources \n",
"a1 = a2*amp_ratio // Amplitude of second source\n",
"i_ratio = (a1/a2)^2 // Intensity ratio of two sources\n",
"printf('\n Ratio of intensities of sources is %d:1',ceil(i_ratio/100)*100)"
   ]
   }
,
{
		   "cell_type": "markdown",
		   "metadata": {},
		   "source": [
			"## Example 2.5: Calculation_of_spacing_between_slit.sce"
		   ]
		  },
  {
"cell_type": "code",
	   "execution_count": null,
	   "metadata": {
	    "collapsed": true
	   },
	   "outputs": [],
"source": [
"clc \n",
"// Given that\n",
"ang_width = 0.1 // Angular width in degree\n",
"lambda = 6e-5 // wavelength of light in cm\n",
"// Sample Problem 5 on page no. 94\n",
"printf('\n # PROBLEM 5 # \n')\n",
"d = lambda/(ang_width*%pi/180) // Spacing between slit\n",
"printf('\n Standard formula used \n D = a + b. \n d = (lambda * D) / fringe_width.\n')\n",
"printf('\n Spacing between slit is %ecm. ',d)\n",
"\n",
"  "
   ]
   }
,
{
		   "cell_type": "markdown",
		   "metadata": {},
		   "source": [
			"## Example 2.6: Calculation_of_third_bright_fringe_and_coincidental_distance_for_two_wavelengths.sce"
		   ]
		  },
  {
"cell_type": "code",
	   "execution_count": null,
	   "metadata": {
	    "collapsed": true
	   },
	   "outputs": [],
"source": [
"clc \n",
"// Given that\n",
"lambda1 = 6500 // wavelength of first source in angstrom\n",
"lambda2 = 5200 // wavelength of second source in angstrom\n",
"d = 2 // Spacing between sources in mm\n",
"D = 1.2 // Distance between source and screen\n",
"n = 3 // Order of bright fringe\n",
"// Sample Problem 6 on page no. 95\n",
"printf('\n # PROBLEM 6 # \n')\n",
"printf('\n Standard formula used \n x = D*n*lambda/d \n')\n",
"x_3 = D*n*lambda1*1e-10 / (d*1e-3) // Distance of third bright fringe from center\n",
"m = lambda2/(lambda1-lambda2)\n",
"x = D*m*lambda1*1e-10 / (d*1e-3) // distance of common fringe from center\n",
"printf('\n Distance of third bright fringe from center is %fcm \n. Common fringe will be formed at distance %fcm from center',x_3*100,x*100)"
   ]
   }
,
{
		   "cell_type": "markdown",
		   "metadata": {},
		   "source": [
			"## Example 2.7: Calculation_of_refractive_index_of_transparent_material.sce"
		   ]
		  },
  {
"cell_type": "code",
	   "execution_count": null,
	   "metadata": {
	    "collapsed": true
	   },
	   "outputs": [],
"source": [
"clc \n",
"// Given that\n",
"lambda = 6000 // wavelength of first source in angstrom\n",
"\n",
"d = 2 // Spacing between sources in mm\n",
"D = 0.1 // Distance between source and screen in meter\n",
"t = 0.5 // Thickness of plate in mm\n",
"shift = 5 // Shift of fringe in mm\n",
"\n",
"// Sample Problem 7 on page no. 95\n",
"printf('\n # PROBLEM 7 # \n')\n",
"printf('\n Standard formula used \n x = D*(mu1)*n*lambda/d \n')\n",
"mu = 1+ shift*1e-3*d*1e-3/(D*t*1e-3) // Refractive index of Glass plate\n",
"printf('\n Refractive index of Glass plate is %f.',mu)"
   ]
   }
,
{
		   "cell_type": "markdown",
		   "metadata": {},
		   "source": [
			"## Example 2.8: Calculation_of_visible_order_in_wavelength_is_replaced.sce"
		   ]
		  },
  {
"cell_type": "code",
	   "execution_count": null,
	   "metadata": {
	    "collapsed": true
	   },
	   "outputs": [],
"source": [
"clc \n",
"  \n",
"// Given that\n",
"lambda1 = 7000 // wavelength of first source in angstrom\n",
"lambda2 = 5000 // wavelength of second source in angstrom\n",
"n = 10 // Order of bright fringe for first source\n",
"// Sample Problem 8 on page no. 96\n",
"printf('\n # PROBLEM 8 # \n')\n",
"printf('\n Standard formula used \n x = D*n*lambda/d \n')\n",
"x = n*lambda1*1e-10 // Path difference in m\n",
"m = x/(lambda2*1e-10)   // Order of bright fringe for second source\n",
"printf('\n Observed order will be %d.',m)\n",
""
   ]
   }
,
{
		   "cell_type": "markdown",
		   "metadata": {},
		   "source": [
			"## Example 2.9: Calculation_of_distance_between_two_coherent_sources.sce"
		   ]
		  },
  {
"cell_type": "code",
	   "execution_count": null,
	   "metadata": {
	    "collapsed": true
	   },
	   "outputs": [],
"source": [
"clc \n",
"// Given that\n",
"lambda = 6000 // wavelength of source in angstrom\n",
"D = 1 // Distance between source and screen\n",
"Beta  = 0.5 // fringe width in mm\n",
"// Sample Problem 9 on page no. 96\n",
"printf('\n # PROBLEM 9 # \n')\n",
"printf('\n Standard formula used \n x = D*n*lambda/d \n')\n",
"d = D*lambda*1e-10/(Beta*1e-3) // Separation between sources\n",
"printf('\n Separation between sources is %fcm.',d*100)\n",
"\n",
"  "
   ]
   }
],
"metadata": {
		  "kernelspec": {
		   "display_name": "Scilab",
		   "language": "scilab",
		   "name": "scilab"
		  },
		  "language_info": {
		   "file_extension": ".sce",
		   "help_links": [
			{
			 "text": "MetaKernel Magics",
			 "url": "https://github.com/calysto/metakernel/blob/master/metakernel/magics/README.md"
			}
		   ],
		   "mimetype": "text/x-octave",
		   "name": "scilab",
		   "version": "0.7.1"
		  }
		 },
		 "nbformat": 4,
		 "nbformat_minor": 0
}
