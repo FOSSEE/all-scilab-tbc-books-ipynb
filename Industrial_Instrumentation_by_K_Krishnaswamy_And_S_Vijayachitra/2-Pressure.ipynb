{
"cells": [
 {
		   "cell_type": "markdown",
	   "metadata": {},
	   "source": [
       "# Chapter 2: Pressure"
	   ]
	},
{
		   "cell_type": "markdown",
		   "metadata": {},
		   "source": [
			"## Example 2.10: Capacitance_calculation_for_variable_dielectric.sce"
		   ]
		  },
  {
"cell_type": "code",
	   "execution_count": null,
	   "metadata": {
	    "collapsed": true
	   },
	   "outputs": [],
"source": [
"// Example 2.10, page no-121\n",
"clear\n",
"clc\n",
"\n",
"c=0.57\n",
"\n",
"//(a)\n",
"d=0.1\n",
"di1=100\n",
"di2=1000\n",
"c1=c*di1*10/d\n",
"c1=ceil(c1)\n",
"printf('(a)\nC1=%d pf',c1)\n",
"\n",
"//(b)\n",
"c2=c*di2*10/d\n",
"printf('\n(b)\nC2=%d pf',c2)\n",
"\n",
"//(c)\n",
"ds=0.09\n",
"c11=c*di1*10/ds\n",
"c12=c*di2*10/ds\n",
"printf('\n(c)\nC1 = %.1f pf\nC2 = %d pf',c11,c12)"
   ]
   }
,
{
		   "cell_type": "markdown",
		   "metadata": {},
		   "source": [
			"## Example 2.11: pressure_gauge_caliberatio.sce"
		   ]
		  },
  {
"cell_type": "code",
	   "execution_count": null,
	   "metadata": {
	    "collapsed": true
	   },
	   "outputs": [],
"source": [
"// Example 2.11, page no-121\n",
"clear\n",
"clc\n",
"\n",
"A=1\n",
"p1=10\n",
"W1=A*p1\n",
"printf('W1 = %d kg',W1)\n",
"printf('\nWith the 4 standard weights of 10kg, 20kg, 30kg and 40kg  ')"
   ]
   }
,
{
		   "cell_type": "markdown",
		   "metadata": {},
		   "source": [
			"## Example 2.12: pressure_calculation_using_McLeod_gauge.sce"
		   ]
		  },
  {
"cell_type": "code",
	   "execution_count": null,
	   "metadata": {
	    "collapsed": true
	   },
	   "outputs": [],
"source": [
"// Example 2.12, page no-122\n",
"clear\n",
"clc\n",
"\n",
"p1=10^-2\n",
"h1=20\n",
"K=p1/h1^2\n",
"p2=K*30^2\n",
"p2=p2*100\n",
"printf('The unknown pressure p2 = %.2f * 10^-2 torr',p2)"
   ]
   }
,
{
		   "cell_type": "markdown",
		   "metadata": {},
		   "source": [
			"## Example 2.1: Pressure_conversion.sce"
		   ]
		  },
  {
"cell_type": "code",
	   "execution_count": null,
	   "metadata": {
	    "collapsed": true
	   },
	   "outputs": [],
"source": [
"// Example 2.1, page no-116\n",
"clear\n",
"clc\n",
"\n",
"//(a)\n",
"//1kg/cm^2=10000 mmWG\n",
"x=10000*10\n",
"printf('(a)\n 10kg/cm^2 = %d mmWG',x)\n",
"\n",
"//(b)\n",
"onemm_Hg=13.546\n",
"y=10^5/onemm_Hg\n",
"y=y/10^3\n",
"printf('\n(b)\n10kg/cm^2 = 10^5 mmWG = %.2f * 10^3 mmHg',y)\n",
"\n",
"//(c)\n",
"onebar=1.03 \n",
"z=10/onebar\n",
"printf('\n(c)\n10kg/cm^2 = %.2f bars',z)"
   ]
   }
,
{
		   "cell_type": "markdown",
		   "metadata": {},
		   "source": [
			"## Example 2.2: Gauge_and_absolute_pressure.sce"
		   ]
		  },
  {
"cell_type": "code",
	   "execution_count": null,
	   "metadata": {
	    "collapsed": true
	   },
	   "outputs": [],
"source": [
"// Example 2.2, page no-116\n",
"clear\n",
"clc\n",
"\n",
"//(a)\n",
"gamm=1000\n",
"d=35\n",
"dens_Hg=13.546\n",
"press_in_kg_cm=gamm*d*10^-4\n",
"press_in_mmHg=gamm*d/dens_Hg\n",
"press_in_mmHg=press_in_mmHg/10^3\n",
"printf('(a)\nThe pressure at depth of %d meters in a water tank=%.1f kg/cm^2 = %.2f*10^3 mmHg',d,press_in_kg_cm,press_in_mmHg)\n",
"\n",
"//(b)\n",
"press_atm=1.03\n",
"abspress=press_in_kg_cm+press_atm\n",
"abspress_mmHg=press_in_mmHg*1000+760\n",
"abspress_mmHg=abspress_mmHg/1000\n",
"printf('\n(b)\nAbsolute Pressure= %.2f kg/cm^2 Abs = %.2f*10^3 mmHg Abs',abspress,abspress_mmHg)"
   ]
   }
,
{
		   "cell_type": "markdown",
		   "metadata": {},
		   "source": [
			"## Example 2.3: Gauge_and_absolute_pressure.sce"
		   ]
		  },
  {
"cell_type": "code",
	   "execution_count": null,
	   "metadata": {
	    "collapsed": true
	   },
	   "outputs": [],
"source": [
"// Example 2.3, page no-116\n",
"clear\n",
"clc\n",
"\n",
"egp=260\n",
"abspress=760-egp\n",
"printf('Absolute Presssure = %d mmHg',abspress)"
   ]
   }
,
{
		   "cell_type": "markdown",
		   "metadata": {},
		   "source": [
			"## Example 2.4: pressure_measurement_using_U_tube_manometer.sce"
		   ]
		  },
  {
"cell_type": "code",
	   "execution_count": null,
	   "metadata": {
	    "collapsed": true
	   },
	   "outputs": [],
"source": [
"// Example 2.4, page no-117\n",
"clear\n",
"clc\n",
"\n",
"//(a)\n",
"p_diff=500\n",
"pdiff=p_diff*13.546/10000\n",
"printf('(a)\np1-p2 = %.3f kg/cm^2',pdiff)\n",
"\n",
"//(b)\n",
"p1=6770\n",
"p_atm=10300\n",
"abs_p1=p1+p_atm\n",
"printf('\n(b)If p2 is open to atmosphere:\nAbsolute Pressure P1 = %d mmWG abs.',abs_p1)\n",
"\n",
"//(c)\n",
"P1=500\n",
"P1_gauge=P1-760\n",
"printf('\n(c)If p2 is evacuated and sealed:\np1= %d mmHg gauge Pressure',P1_gauge)"
   ]
   }
,
{
		   "cell_type": "markdown",
		   "metadata": {},
		   "source": [
			"## Example 2.5: Specific_Gravity_and_weight_density.sce"
		   ]
		  },
  {
"cell_type": "code",
	   "execution_count": null,
	   "metadata": {
	    "collapsed": true
	   },
	   "outputs": [],
"source": [
"// Example 2.5, page no-117\n",
"clear\n",
"clc\n",
"\n",
"spe_grav_water=1\n",
"spe_grav_X=spe_grav_water*100/50\n",
"wt_dens_water=1000\n",
"wt_dens_X=wt_dens_water*2\n",
"printf('Weight Density of X = %d kg/m^3',wt_dens_X)"
   ]
   }
,
{
		   "cell_type": "markdown",
		   "metadata": {},
		   "source": [
			"## Example 2.6: water_flow_rate_using_mercury_manometer.sce"
		   ]
		  },
  {
"cell_type": "code",
	   "execution_count": null,
	   "metadata": {
	    "collapsed": true
	   },
	   "outputs": [],
"source": [
"// Example 2.6, page no-117\n",
"clear\n",
"clc\n",
"\n",
"A=1/20\n",
"p_diff=1500\n",
"printf('(a)\nAs Delta_h=A2/A1*h << h and normally negligiblefor well type manometer\nhence, p1-p2 = h = %d =111 mmHg',p_diff)\n",
"\n",
"printf('\n(b)\nh measured above the oriinal reference will be half of H, i.e. 111/2=55.5 mmHg\n(Since area of both legs are same)')"
   ]
   }
,
{
		   "cell_type": "markdown",
		   "metadata": {},
		   "source": [
			"## Example 2.7: readings_and_errors_in_Bourdon_gauge_reading.sce"
		   ]
		  },
  {
"cell_type": "code",
	   "execution_count": null,
	   "metadata": {
	    "collapsed": true
	   },
	   "outputs": [],
"source": [
"// Example 2.7, page no-119\n",
"clear\n",
"clc\n",
"\n",
"printf('1 kg/cm^2 = 10 mWG\n')\n",
"//(a)\n",
"press=10+2\n",
"printf('\n(a)Bourdon Gauge is mounted 20 meters below water line:\nPressure read by the Gauge = %d kg/cm^2',press)\n",
"\n",
"//(b)\n",
"press2=10-3\n",
"printf('\n\n(b)Bourdon Gauge is located 30 meters above the water line:\nPressure read by the Gauge = %d kg/cm^2',press2)"
   ]
   }
,
{
		   "cell_type": "markdown",
		   "metadata": {},
		   "source": [
			"## Example 2.8: Specific_Gravity_and_density_of_liquid.sce"
		   ]
		  },
  {
"cell_type": "code",
	   "execution_count": null,
	   "metadata": {
	    "collapsed": true
	   },
	   "outputs": [],
"source": [
"// Example 2.8, page no-120\n",
"clear\n",
"clc\n",
"\n",
"dens_water=1000\n",
"h1=125\n",
"h2=250\n",
"d2=(h1/h2)*dens_water\n",
"printf('(a)\nDensity of Liquid = %d kg/m^3',d2)\n",
"printf('\nSpecific Density of the liquid = %.1f',(h1/h2))\n",
"\n",
"//(b)\n",
"printf('\n\n(b)\nIf Values of water and liquid interchanged:\n')\n",
"d3=(h2/h1)*dens_water\n",
"printf('\nDensity of Liquid = %d kg/m^3',d3)\n",
"printf('\nSpecific Density of the liquid = %.1f',(h2/h1))"
   ]
   }
,
{
		   "cell_type": "markdown",
		   "metadata": {},
		   "source": [
			"## Example 2.9: strain_gauge_wire_length_and_cross_section_area.sce"
		   ]
		  },
  {
"cell_type": "code",
	   "execution_count": null,
	   "metadata": {
	    "collapsed": true
	   },
	   "outputs": [],
"source": [
"// Example 2.9, page no-120\n",
"clear\n",
"clc\n",
"\n",
"R=120\n",
"l=122\n",
"a=0.1\n",
"rho=R*a/l\n",
"R1=140\n",
"l1=sqrt(R1*a*l/rho)\n",
"l1=ceil(l1)\n",
"printf('Length l1 = %d meters',l1)\n",
"A1=a*l/l1\n",
"printf('\nArea A1 = %.4f mm^2',A1)"
   ]
   }
],
"metadata": {
		  "kernelspec": {
		   "display_name": "Scilab",
		   "language": "scilab",
		   "name": "scilab"
		  },
		  "language_info": {
		   "file_extension": ".sce",
		   "help_links": [
			{
			 "text": "MetaKernel Magics",
			 "url": "https://github.com/calysto/metakernel/blob/master/metakernel/magics/README.md"
			}
		   ],
		   "mimetype": "text/x-octave",
		   "name": "scilab",
		   "version": "0.7.1"
		  }
		 },
		 "nbformat": 4,
		 "nbformat_minor": 0
}
