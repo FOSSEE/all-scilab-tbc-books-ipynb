{
"cells": [
 {
		   "cell_type": "markdown",
	   "metadata": {},
	   "source": [
       "# Chapter 7: Viscosity Humidity and Moisture"
	   ]
	},
{
		   "cell_type": "markdown",
		   "metadata": {},
		   "source": [
			"## Example 7.10: percentage_relative_humidity.sce"
		   ]
		  },
  {
"cell_type": "code",
	   "execution_count": null,
	   "metadata": {
	    "collapsed": true
	   },
	   "outputs": [],
"source": [
"//Example 7.10, page no-442\n",
"clear\n",
"clc\n",
"pv=30\n",
"ps=60\n",
"Rh=(pv/ps)*100\n",
"printf('%%RH = %d%%',Rh)"
   ]
   }
,
{
		   "cell_type": "markdown",
		   "metadata": {},
		   "source": [
			"## Example 7.11: percentage_increase_in_moisture_content.sce"
		   ]
		  },
  {
"cell_type": "code",
	   "execution_count": null,
	   "metadata": {
	    "collapsed": true
	   },
	   "outputs": [],
"source": [
"//Example 7.11, page no-442\n",
"clear\n",
"clc\n",
"\n",
"i1=250\n",
"i2=350\n",
"m=(i2-i1)*100/i1\n",
"printf('%% increase in moisture content = %d%%',m)"
   ]
   }
,
{
		   "cell_type": "markdown",
		   "metadata": {},
		   "source": [
			"## Example 7.12: calculation_of_moisture_content.sce"
		   ]
		  },
  {
"cell_type": "code",
	   "execution_count": null,
	   "metadata": {
	    "collapsed": true
	   },
	   "outputs": [],
"source": [
"//Example 7.12, page no-443\n",
"clear\n",
"clc\n",
"\n",
"i2=150\n",
"i1=125\n",
"m=(i2-i1)*100/i1\n",
"printf('Moisture percentage = %d%%',m)"
   ]
   }
,
{
		   "cell_type": "markdown",
		   "metadata": {},
		   "source": [
			"## Example 7.1: calculation_of_absolute_viscosity.sce"
		   ]
		  },
  {
"cell_type": "code",
	   "execution_count": null,
	   "metadata": {
	    "collapsed": true
	   },
	   "outputs": [],
"source": [
"//Example 7.1, page no-436\n",
"clear\n",
"clc\n",
"f=2*9.8*10^5\n",
"A=100\n",
"V=20\n",
"l=10\n",
"mu=(f/A)/(V/l)\n",
"mu=mu/1000\n",
"printf('The absolute viscosity mu = %.1f*10^5 centipoises',mu)"
   ]
   }
,
{
		   "cell_type": "markdown",
		   "metadata": {},
		   "source": [
			"## Example 7.2: calculation_of_kinematic_relative_and_absolute_viscosity.sce"
		   ]
		  },
  {
"cell_type": "code",
	   "execution_count": null,
	   "metadata": {
	    "collapsed": true
	   },
	   "outputs": [],
"source": [
"//Example 7.2, page no-437\n",
"clear\n",
"clc\n",
"//(a)\n",
"v=10\n",
"F=1/v\n",
"printf('(a)\nFluidity = %.1f rhe',F)\n",
"\n",
"//(b)\n",
"mu=10\n",
"rho=0.8\n",
"ve=mu/rho\n",
"printf('\n(b)\nKinematic viscosity (v)= %.1f cm^2/sec',ve)\n",
"//(c)\n",
"ab=1000\n",
"abwt=1.002\n",
"rv=ab/abwt\n",
"printf('\n(c)\nRelative viscosity = %d centipoises',rv)\n",
"//(d)\n",
"PAS=10\n",
"printf('\n(c)\nAbsolute viscosity = 1000 centipoises =10 poises = 1PAS')"
   ]
   }
,
{
		   "cell_type": "markdown",
		   "metadata": {},
		   "source": [
			"## Example 7.3: Absolute_viscosity_of_the_Newtonian_fluid.sce"
		   ]
		  },
  {
"cell_type": "code",
	   "execution_count": null,
	   "metadata": {
	    "collapsed": true
	   },
	   "outputs": [],
"source": [
"//Example 7.3, page no-438\n",
"clear\n",
"clc\n",
"//(b)\n",
"R=0.5\n",
"L=5\n",
"p_diff=800\n",
"V=10\n",
"mu=(3.14*R^4)*p_diff/(8*V*L)\n",
"printf('(b)\nmu=%.4f poise =%.2f centipoise',mu,mu*100)"
   ]
   }
,
{
		   "cell_type": "markdown",
		   "metadata": {},
		   "source": [
			"## Example 7.4: kinematic_viscosity_and_density_calculation.sce"
		   ]
		  },
  {
"cell_type": "code",
	   "execution_count": null,
	   "metadata": {
	    "collapsed": true
	   },
	   "outputs": [],
"source": [
"//Example 7.4, page no-439\n",
"clear\n",
"clc\n",
"//(a)\n",
"g=980\n",
"h=4\n",
"R=0.5\n",
"t=1\n",
"V=10\n",
"l=5\n",
"v=(3.14*g*h*t*R^4)/(8*l*V)\n",
"printf('(a)\n v = %.2f stokes',v)\n",
"mu=0.3925\n",
"rho=mu/v\n",
"printf('\n(b)\n Density of the fluid rho = %.3f gm/cm^3',rho)"
   ]
   }
,
{
		   "cell_type": "markdown",
		   "metadata": {},
		   "source": [
			"## Example 7.5: Kinematic_Viscosity_in_Saybolts_Universal_viscometer.sce"
		   ]
		  },
  {
"cell_type": "code",
	   "execution_count": null,
	   "metadata": {
	    "collapsed": true
	   },
	   "outputs": [],
"source": [
"//Example 7.5, page no-440\n",
"clear\n",
"clc\n",
"//(a)\n",
"A=0.226\n",
"B=195\n",
"t=60\n",
"v=A*t-B/t\n",
"printf('(a) Fluid X\n v = %.2f centipoises',v)\n",
"A1=0.220\n",
"B1=135\n",
"t1=140\n",
"v1=A1*t1-B1/t1\n",
"printf('\n(b)Fluid Y\n v = %.1f centipoises',v1)"
   ]
   }
,
{
		   "cell_type": "markdown",
		   "metadata": {},
		   "source": [
			"## Example 7.6: calculation_of_absolute_viscosity.sce"
		   ]
		  },
  {
"cell_type": "code",
	   "execution_count": null,
	   "metadata": {
	    "collapsed": true
	   },
	   "outputs": [],
"source": [
"//Example 7.6, page no-441\n",
"clear\n",
"clc\n",
"t=12\n",
"Rsb=7\n",
"Rsf=1.12\n",
"B=1.5\n",
"mu=t*(Rsb-Rsf)*B\n",
"printf('mu= %.2f centipoises = %d centipoises(approx)',mu,ceil(mu))"
   ]
   }
,
{
		   "cell_type": "markdown",
		   "metadata": {},
		   "source": [
			"## Example 7.7: calculation_of_relative_humidity.sce"
		   ]
		  },
  {
"cell_type": "code",
	   "execution_count": null,
	   "metadata": {
	    "collapsed": true
	   },
	   "outputs": [],
"source": [
"//Example 7.7, page no-441\n",
"clear\n",
"clc\n",
"//(a)\n",
"B=45\n",
"W=25\n",
"printf('(a)\nPsychromatic differential : %d°C\n Relative humidity is 80%% corresponding to \ntemperature 45°C  and psychromatic differential 20°C',(B-W))\n",
"//(b)\n",
"//(a)\n",
"B1=30\n",
"W1=27\n",
"printf('\n(b)\nPsychromatic differential : %d°C\n Relative humidity is 80%% corresponding to \ntemperature 30°C  and psychromatic differential 3°C',(B1-W1))"
   ]
   }
,
{
		   "cell_type": "markdown",
		   "metadata": {},
		   "source": [
			"## Example 7.8: calculation_of_Relative_Humidity_dew_point_and_moisture_content.sce"
		   ]
		  },
  {
"cell_type": "code",
	   "execution_count": null,
	   "metadata": {
	    "collapsed": true
	   },
	   "outputs": [],
"source": [
"//Example 7.8, page no-441\n",
"clear\n",
"clc\n",
"D=80\n",
"W=66.5\n",
"//(a)\n",
"printf('(a)\nThe intersection point of DB temperature 80°F and WB temperature 66.5°F \nlines on the relative humidity curve for 50%%.\n RH = 50%% ')\n",
"//(b)\n",
"printf('\n(b)\nFrom the point of intersection of the dry and wet bulb curves, move left \nhorizontally to the dew point temperature curve where it meets at 60°F\nDew Point = 60°F')\n",
"//(c)\n",
"printf('\n(c)\nFrom the point of intersection of the dry and wet bulb curves,\nhorizontally to the right to the moisture content plot where it meets at 76.\nMoisture Content : 76 grains of water per pound of dry air.')"
   ]
   }
,
{
		   "cell_type": "markdown",
		   "metadata": {},
		   "source": [
			"## Example 7.9: calculation_of_relative_humidity.sce"
		   ]
		  },
  {
"cell_type": "code",
	   "execution_count": null,
	   "metadata": {
	    "collapsed": true
	   },
	   "outputs": [],
"source": [
"//Example 7.9, page no-442\n",
"clear\n",
"clc\n",
"\n",
"wt_vap=500\n",
"wt_vap_to_sat=1500\n",
"total=wt_vap+wt_vap_to_sat\n",
"Rh=(wt_vap/total)*100\n",
"printf('RH = %d%%',Rh)"
   ]
   }
],
"metadata": {
		  "kernelspec": {
		   "display_name": "Scilab",
		   "language": "scilab",
		   "name": "scilab"
		  },
		  "language_info": {
		   "file_extension": ".sce",
		   "help_links": [
			{
			 "text": "MetaKernel Magics",
			 "url": "https://github.com/calysto/metakernel/blob/master/metakernel/magics/README.md"
			}
		   ],
		   "mimetype": "text/x-octave",
		   "name": "scilab",
		   "version": "0.7.1"
		  }
		 },
		 "nbformat": 4,
		 "nbformat_minor": 0
}
