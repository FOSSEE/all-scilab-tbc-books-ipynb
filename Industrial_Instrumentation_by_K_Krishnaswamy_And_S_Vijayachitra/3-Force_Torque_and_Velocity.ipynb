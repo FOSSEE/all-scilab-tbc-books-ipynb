{
"cells": [
 {
		   "cell_type": "markdown",
	   "metadata": {},
	   "source": [
       "# Chapter 3: Force Torque and Velocity"
	   ]
	},
{
		   "cell_type": "markdown",
		   "metadata": {},
		   "source": [
			"## Example 3.1: Force_calculatio.sce"
		   ]
		  },
  {
"cell_type": "code",
	   "execution_count": null,
	   "metadata": {
	    "collapsed": true
	   },
	   "outputs": [],
"source": [
"// Example 3.1, page no-163\n",
"clear\n",
"clc\n",
"m1=20\n",
"a=5\n",
"F=m1*a\n",
"printf('F = %d Newtons',F)"
   ]
   }
,
{
		   "cell_type": "markdown",
		   "metadata": {},
		   "source": [
			"## Example 3.2: Weight_calculatio.sce"
		   ]
		  },
  {
"cell_type": "code",
	   "execution_count": null,
	   "metadata": {
	    "collapsed": true
	   },
	   "outputs": [],
"source": [
"// Example 3.2, page no-163\n",
"clear\n",
"clc\n",
"\n",
"m1=50\n",
"g1=9.8\n",
"W2=m1*g1\n",
"printf('W = %d Newtons = %d kgf',W2,m1)"
   ]
   }
,
{
		   "cell_type": "markdown",
		   "metadata": {},
		   "source": [
			"## Example 3.3: calculation_of_specific_gravity.sce"
		   ]
		  },
  {
"cell_type": "code",
	   "execution_count": null,
	   "metadata": {
	    "collapsed": true
	   },
	   "outputs": [],
"source": [
"// Example 3.3, page no-164\n",
"clear\n",
"clc\n",
"wt_material=2500\n",
"wt_water=1000\n",
"spe_grav=wt_material/wt_water\n",
"\n",
"printf('Specific gravity of the material = %.1f',spe_grav)"
   ]
   }
,
{
		   "cell_type": "markdown",
		   "metadata": {},
		   "source": [
			"## Example 3.4: Estimation_of_uncertainty_due_to_sensitivity.sce"
		   ]
		  },
  {
"cell_type": "code",
	   "execution_count": null,
	   "metadata": {
	    "collapsed": true
	   },
	   "outputs": [],
"source": [
"// Example 3.4, page no-164\n",
"clear\n",
"clc\n",
"\n",
"L=20\n",
"W=2000\n",
"db=0.02\n",
"Wb=100\n",
"dG=0.5\n",
"S=L/(2*W*db+Wb*dG)\n",
"printf('S = %.3f rad/g',S)\n",
"\n",
"fi=0.2\n",
"DeltaW=fi*3.14/(180*S)\n",
"printf('\nDeltaW = %.3f g',DeltaW)"
   ]
   }
,
{
		   "cell_type": "markdown",
		   "metadata": {},
		   "source": [
			"## Example 3.5: Torque_Calculatio.sce"
		   ]
		  },
  {
"cell_type": "code",
	   "execution_count": null,
	   "metadata": {
	    "collapsed": true
	   },
	   "outputs": [],
"source": [
"// Example 3.5, page no-164\n",
"clear\n",
"clc\n",
"hp=746\n",
"P=5*hp\n",
"N=1500\n",
"n=N/60\n",
"T=P*60/(2*3.14*n)\n",
"printf('T = %d Newton meters',T)"
   ]
   }
,
{
		   "cell_type": "markdown",
		   "metadata": {},
		   "source": [
			"## Example 3.6: Force_calculatio.sce"
		   ]
		  },
  {
"cell_type": "code",
	   "execution_count": null,
	   "metadata": {
	    "collapsed": true
	   },
	   "outputs": [],
"source": [
"// Example 3.6 page no-165\n",
"clear\n",
"clc\n",
"ch_l=0.075\n",
"orig_l=50\n",
"\n",
"S=ch_l/orig_l\n",
"E=9.66*10^5\n",
"stress=E*S\n",
"area=1.5\n",
"f=stress*area\n",
"printf('Strain = %.4f cm/cm\nStress =%d kg/cm^2\nForce = %.1f kg',S,stress,f)"
   ]
   }
,
{
		   "cell_type": "markdown",
		   "metadata": {},
		   "source": [
			"## Example 3.7: resistance_strain_gauge.sce"
		   ]
		  },
  {
"cell_type": "code",
	   "execution_count": null,
	   "metadata": {
	    "collapsed": true
	   },
	   "outputs": [],
"source": [
"// Example 3.7, page no-165\n",
"clear\n",
"clc\n",
"\n",
"//(a)\n",
"R1=120\n",
"R2=120\n",
"R3=120\n",
"R4=120\n",
"Rg=100\n",
"C=(R1*R2*R4)+(R1*R3*R4)+(R1*R2*R3)+(R2*R3*R4)+(Rg*(R1+R4)*(R2+R3))\n",
"C=C/10^7\n",
"printf('(a)\nC=%.3f*10^7',C)\n",
"E=10\n",
"F=E*R3*R1*2*10^3/(C*10^7)\n",
"printf('\nF = %.1f *10^3 A/mm = %.1f mA/mm',F,F)\n",
"\n",
"//(b)\n",
"Fe=2*10^-4\n",
"E=10\n",
"DeltaE=Fe*E/(4+4*10^-4)\n",
"DeltaE=DeltaE*10^3\n",
"printf('\n(b)\nDeltaEg=%.1f mV',DeltaE)"
   ]
   }
,
{
		   "cell_type": "markdown",
		   "metadata": {},
		   "source": [
			"## Example 3.8: speed_measurement_using_stroboscope.sce"
		   ]
		  },
  {
"cell_type": "code",
	   "execution_count": null,
	   "metadata": {
	    "collapsed": true
	   },
	   "outputs": [],
"source": [
"// Example 3.8, page no-167\n",
"clear\n",
"clc\n",
"\n",
"//(a)\n",
"r1=2500\n",
"r2=1500\n",
"n=(r1*r2)/(r1-r2)\n",
"printf('(a)\nn = %d rpm',n)\n",
"\n",
"//(b)\n",
"N=5\n",
"r5=n*r1/((r1*(N-1))+n)\n",
"r5=ceil(r5)\n",
"printf('\n(b)\nr5=%d',r5)"
   ]
   }
,
{
		   "cell_type": "markdown",
		   "metadata": {},
		   "source": [
			"## Example 3.9: speed_measurement_using_proximity.sce"
		   ]
		  },
  {
"cell_type": "code",
	   "execution_count": null,
	   "metadata": {
	    "collapsed": true
	   },
	   "outputs": [],
"source": [
"// Example 3.9, page no-167\n",
"clear\n",
"clc\n",
"rpm=1500\n",
"f=200\n",
"N=60*f/rpm\n",
"\n",
"printf('No of teeth on the wheel\nN=%d',N)"
   ]
   }
],
"metadata": {
		  "kernelspec": {
		   "display_name": "Scilab",
		   "language": "scilab",
		   "name": "scilab"
		  },
		  "language_info": {
		   "file_extension": ".sce",
		   "help_links": [
			{
			 "text": "MetaKernel Magics",
			 "url": "https://github.com/calysto/metakernel/blob/master/metakernel/magics/README.md"
			}
		   ],
		   "mimetype": "text/x-octave",
		   "name": "scilab",
		   "version": "0.7.1"
		  }
		 },
		 "nbformat": 4,
		 "nbformat_minor": 0
}
