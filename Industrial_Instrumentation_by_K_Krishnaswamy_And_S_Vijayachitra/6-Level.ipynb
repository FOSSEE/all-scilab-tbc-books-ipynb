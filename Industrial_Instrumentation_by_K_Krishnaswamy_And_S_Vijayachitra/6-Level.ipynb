{
"cells": [
 {
		   "cell_type": "markdown",
	   "metadata": {},
	   "source": [
       "# Chapter 6: Level"
	   ]
	},
{
		   "cell_type": "markdown",
		   "metadata": {},
		   "source": [
			"## Example 6.10: calculation_of_level_on_the_probe.sce"
		   ]
		  },
  {
"cell_type": "code",
	   "execution_count": null,
	   "metadata": {
	    "collapsed": true
	   },
	   "outputs": [],
"source": [
"// Example 6.10, page no-375\n",
"clear\n",
"clc\n",
"c2=100*10^-6\n",
"r1=10*10^3\n",
"r2=100*10^3\n",
"r3=50*10^3\n",
"Cx=r1*c2/r3\n",
"Cx=Cx*10^6\n",
"printf('Cx = %d microFarad',Cx)\n",
"c=5\n",
"l=Cx/c\n",
"printf('\nLevel on the probe = %dm',l)"
   ]
   }
,
{
		   "cell_type": "markdown",
		   "metadata": {},
		   "source": [
			"## Example 6.1: output_current_of_two_wire_pressure_transmitter.sce"
		   ]
		  },
  {
"cell_type": "code",
	   "execution_count": null,
	   "metadata": {
	    "collapsed": true
	   },
	   "outputs": [],
"source": [
"// Example 6.1, page no-370\n",
"clear\n",
"clc\n",
"//(a)\n",
"p=1.5\n",
"a=4\n",
"b=20\n",
"wh=(((b-a)/2)*p)+a\n",
"printf('(a)just at the bottom level of the tank\nWater head applied to the transmitter =%d mA ',wh)\n",
"//(b)\n",
"wh2=(((b-a)/2)*p)+2*a\n",
"printf('\n\n(b)5m below the bottom of the tank\nWater head applied to the transmitter =%d mA ',wh2)\n",
"//(c)\n",
"wh3=(((b-a)/2)*p)\n",
"printf('\n\n(c)5m above the bottom of the tank\nWater head applied to the transmitter =%d mA ',wh3)"
   ]
   }
,
{
		   "cell_type": "markdown",
		   "metadata": {},
		   "source": [
			"## Example 6.2: water_level_and_current_at_different_positions.sce"
		   ]
		  },
  {
"cell_type": "code",
	   "execution_count": null,
	   "metadata": {
	    "collapsed": true
	   },
	   "outputs": [],
"source": [
"// Example 6.2, page no-371\n",
"clear\n",
"clc\n",
"//(a)\n",
"b=20\n",
"a=4\n",
"op=16\n",
"p=(op-a)*2/(b-a)\n",
"p_h=p*10\n",
"h=p_h-2-5\n",
"printf('(a)\nh = %dm',h)\n",
"//(b)\n",
"p1=1\n",
"t_op=((b-a)/2)*p1+4\n",
"printf('\n(b)\nTransmitter output =%d mA',t_op)\n",
"//(c)\n",
"p2=0.5\n",
"t_op1=((b-a)/2)*p2+4\n",
"printf('\n(c)\nTransmitter output =%d mA',t_op1)"
   ]
   }
,
{
		   "cell_type": "markdown",
		   "metadata": {},
		   "source": [
			"## Example 6.3: Differential_pressure_output_at_different_levels.sce"
		   ]
		  },
  {
"cell_type": "code",
	   "execution_count": null,
	   "metadata": {
	    "collapsed": true
	   },
	   "outputs": [],
"source": [
"// Example 6.3, page no-372\n",
"clear\n",
"clc\n",
"//(a)\n",
"b=20\n",
"a=4\n",
"op=16\n",
"wt_l1=25\n",
"t_op=((b-a)/100)*(100-75)+4\n",
"printf('(a)\nWater level=+25cm\nTransmitter output = %d mA',t_op)\n",
"\n",
"//(b)\n",
"wt_l2=-25\n",
"t_op2=((b-a)/100)*(100-25)+4\n",
"printf('\n(b)\nWater level=-25cm\nTransmitter output = %d mA',t_op2)\n",
"\n",
"//(c)\n",
"t_op3=12\n",
"H=(100/(b-a))*(12-4)\n",
"printf('\n(c)\nHead Applied = %d cm\nLevel corresponding to 50 cm head =0 cm ',H)"
   ]
   }
,
{
		   "cell_type": "markdown",
		   "metadata": {},
		   "source": [
			"## Example 6.4: Displacer_with_spring_balance.sce"
		   ]
		  },
  {
"cell_type": "code",
	   "execution_count": null,
	   "metadata": {
	    "collapsed": true
	   },
	   "outputs": [],
"source": [
"// Example 6.4, page no-373\n",
"clear\n",
"clc\n",
"//(a)\n",
"a=5*10^-4\n",
"l=8\n",
"dens=6*1000\n",
"w=a*l*dens\n",
"printf('(a)\nWeight of the displacer if weighed in air = %d kg',w)\n",
"//(i)\n",
"sbr1=23\n",
"wloss1=w-sbr1\n",
"L1=wloss1/(1000*a)\n",
"printf('\n(i)\tL1=%dm',L1)\n",
"//(ii)\n",
"sbr2=22\n",
"wloss2=w-sbr2\n",
"L2=wloss2/(1000*a)\n",
"printf('\n(ii)\tL2=%dm',L2)\n",
"//(iii)\n",
"sbr3=21\n",
"wloss3=w-sbr3\n",
"L3=wloss3/(1000*a)\n",
"printf('\n(iii)\tL3=%dm',L3)\n",
"\n",
"//(b)\n",
"level=8\n",
"wt=a*level*1000\n",
"spring=w-wt\n",
"printf('\n(b):when the tank is full\nSpring Balance reading = %d kg',spring)"
   ]
   }
,
{
		   "cell_type": "markdown",
		   "metadata": {},
		   "source": [
			"## Example 6.5: Buoyancy_Force_calculation.sce"
		   ]
		  },
  {
"cell_type": "code",
	   "execution_count": null,
	   "metadata": {
	    "collapsed": true
	   },
	   "outputs": [],
"source": [
"// Example 6.5, page no-374\n",
"clear\n",
"clc\n",
"rho=1000\n",
"v=3\n",
"Bw=rho*v\n",
"printf('Buoyance Force(Bw) = %d kg',Bw)"
   ]
   }
,
{
		   "cell_type": "markdown",
		   "metadata": {},
		   "source": [
			"## Example 6.6: Determination_of_displaced_volume_from_Buoyancy_Force.sce"
		   ]
		  },
  {
"cell_type": "code",
	   "execution_count": null,
	   "metadata": {
	    "collapsed": true
	   },
	   "outputs": [],
"source": [
"// Example 6.6, page no-374\n",
"clear\n",
"clc\n",
"rho=1000\n",
"Bw=5000\n",
"v=Bw/rho\n",
"printf('V = %d m^3',v)\n",
""
   ]
   }
,
{
		   "cell_type": "markdown",
		   "metadata": {},
		   "source": [
			"## Example 6.7: Determination_of_hydrostatic_pressure_in_open_tank.sce"
		   ]
		  },
  {
"cell_type": "code",
	   "execution_count": null,
	   "metadata": {
	    "collapsed": true
	   },
	   "outputs": [],
"source": [
"// Example 6.7, page no-374\n",
"clear\n",
"clc\n",
"\n",
"rho=1000\n",
"h=10\n",
"P=rho*h\n",
"printf('P = %d kg/m^2 = %d kg/cm^2 ',P,P/10000)"
   ]
   }
,
{
		   "cell_type": "markdown",
		   "metadata": {},
		   "source": [
			"## Example 6.8: Determination_of_hydrostatic_pressure_in_closed_tank.sce"
		   ]
		  },
  {
"cell_type": "code",
	   "execution_count": null,
	   "metadata": {
	    "collapsed": true
	   },
	   "outputs": [],
"source": [
"// Example 6.8, page no-374\n",
"clear\n",
"clc\n",
"rho=1000\n",
"h=15\n",
"ex_p=1\n",
"P=(rho*h/10000)+ex_p\n",
"printf('P = %.1f kg/cm^2',P)"
   ]
   }
,
{
		   "cell_type": "markdown",
		   "metadata": {},
		   "source": [
			"## Example 6.9: Determination_of_height_from_hydrostatic_pressure.sce"
		   ]
		  },
  {
"cell_type": "code",
	   "execution_count": null,
	   "metadata": {
	    "collapsed": true
	   },
	   "outputs": [],
"source": [
"// Example 6.9, page no-374\n",
"clear\n",
"clc\n",
"rho=1000\n",
"ex_p=0.5*10^4\n",
"P=1.6*10^4//(rho*h/10000)+ex_p\n",
"h=(P-ex_p)/1000\n",
"printf('h = %d m',h)"
   ]
   }
],
"metadata": {
		  "kernelspec": {
		   "display_name": "Scilab",
		   "language": "scilab",
		   "name": "scilab"
		  },
		  "language_info": {
		   "file_extension": ".sce",
		   "help_links": [
			{
			 "text": "MetaKernel Magics",
			 "url": "https://github.com/calysto/metakernel/blob/master/metakernel/magics/README.md"
			}
		   ],
		   "mimetype": "text/x-octave",
		   "name": "scilab",
		   "version": "0.7.1"
		  }
		 },
		 "nbformat": 4,
		 "nbformat_minor": 0
}
