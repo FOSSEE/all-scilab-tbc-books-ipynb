{
"cells": [
 {
		   "cell_type": "markdown",
	   "metadata": {},
	   "source": [
       "# Chapter 5: Flow"
	   ]
	},
{
		   "cell_type": "markdown",
		   "metadata": {},
		   "source": [
			"## Example 5.11: detemination_of_flow_velocity.sce"
		   ]
		  },
  {
"cell_type": "code",
	   "execution_count": null,
	   "metadata": {
	    "collapsed": true
	   },
	   "outputs": [],
"source": [
"// Example 5.11, page no-314\n",
"clear\n",
"clc\n",
"dens=1026\n",
"p=25*10^3\n",
"V=sqrt(2*p/dens)\n",
"printf('V=%.2f m/sec =%.3f km/hr',V,V*18/5)"
   ]
   }
,
{
		   "cell_type": "markdown",
		   "metadata": {},
		   "source": [
			"## Example 5.12: calculation_of_flying_speed_of_aircraft.sce"
		   ]
		  },
  {
"cell_type": "code",
	   "execution_count": null,
	   "metadata": {
	    "collapsed": true
	   },
	   "outputs": [],
"source": [
"// Example 5.12, page no-314\n",
"clear\n",
"clc\n",
"dens=1.29\n",
"p=12.5*10^3\n",
"V=sqrt(2*p/dens)\n",
"printf('V=%.2f m/sec =%.2f km/hr',V,V*18/5)"
   ]
   }
,
{
		   "cell_type": "markdown",
		   "metadata": {},
		   "source": [
			"## Example 5.13: Maximum_fluid_handling_capacity_of_Rotameter.sce"
		   ]
		  },
  {
"cell_type": "code",
	   "execution_count": null,
	   "metadata": {
	    "collapsed": true
	   },
	   "outputs": [],
"source": [
"// Example 5.13, page no-315\n",
"clear\n",
"clc\n",
"Cd=0.6\n",
"Dp=0.05\n",
"Df=0.035\n",
"g=9.8\n",
"rho_f=3.9*10^3\n",
"rho=1000\n",
"Vf=3.36*10^-5\n",
"Q=Cd*((Dp^2-Df^2)/Df)*sqrt(3.14*g*Vf*(rho_f-rho)/(2*rho))\n",
"Q=Q*10000\n",
"printf(' Volumetric flow Q=%.4f *10^-4 m^3/sec',Q)"
   ]
   }
,
{
		   "cell_type": "markdown",
		   "metadata": {},
		   "source": [
			"## Example 5.14: Determination_of_range_of_flow_for_ratameter.sce"
		   ]
		  },
  {
"cell_type": "code",
	   "execution_count": null,
	   "metadata": {
	    "collapsed": true
	   },
	   "outputs": [],
"source": [
"// Example 5.14, page no-315\n",
"clear\n",
"clc\n",
"\n",
"Cd=1\n",
"Dp=0.018\n",
"Df=0.015\n",
"g=9.81\n",
"rho_f=2.7\n",
"rho=0.8\n",
"Vf=520*10^-9\n",
"//case 1\n",
"\n",
"Qmin=Cd*((Dp^2-Df^2)/Df)*sqrt(%pi*g*Vf*(rho_f-rho)/(2*rho))\n",
"Qmin=Qmin*100000\n",
"printf('Case 1: When float is at the bottom\n Volumetric flow Qmin=%.3f *10^-5 m^3/sec',Qmin)\n",
"\n",
"//case 2\n",
"Dp2=0.0617\n",
"Qmax=Cd*((Dp2^2-Df^2)/Df)*sqrt(%pi*g*Vf*(rho_f-rho)/(2*rho))\n",
"Qmax=Qmax*100000\n",
"printf('\n\nCase 2: When float is at the bottom\n Volumetric flow Qmax=%.2f *10^-5 m^3/sec',Qmax)"
   ]
   }
,
{
		   "cell_type": "markdown",
		   "metadata": {},
		   "source": [
			"## Example 5.15: calculation_of_coal_delivery_for_coal_conveyor_system.sce"
		   ]
		  },
  {
"cell_type": "code",
	   "execution_count": null,
	   "metadata": {
	    "collapsed": true
	   },
	   "outputs": [],
"source": [
"// Example 5.15, page no-316\n",
"clear\n",
"clc\n",
"W=165\n",
"R=328\n",
"L=16\n",
"Q=W*R/L\n",
"printf(' Flow Rate Q=%.2f kg/min =%.1f kg/hour',Q,Q/60)"
   ]
   }
,
{
		   "cell_type": "markdown",
		   "metadata": {},
		   "source": [
			"## Example 5.16: Fluid_velocity_calculatio.sce"
		   ]
		  },
  {
"cell_type": "code",
	   "execution_count": null,
	   "metadata": {
	    "collapsed": true
	   },
	   "outputs": [],
"source": [
"// Example 5.16, page no-316\n",
"clear\n",
"clc\n",
"f=100\n",
"d=300*10^-3\n",
"a=45\n",
"a_rad=45*%pi/180\n",
"v=f*d/(2*cos(a_rad))\n",
"printf(' Fluid Velocity V=%.1f m/sec',v)"
   ]
   }
,
{
		   "cell_type": "markdown",
		   "metadata": {},
		   "source": [
			"## Example 5.17: volume_flow_rate.sce"
		   ]
		  },
  {
"cell_type": "code",
	   "execution_count": null,
	   "metadata": {
	    "collapsed": true
	   },
	   "outputs": [],
"source": [
"// Example 5.17, page no-316\n",
"clear\n",
"clc\n",
"\n",
"r=150\n",
"v=120\n",
"Q=4*v*r\n",
"printf(' Volume flow rate Q=%d cm^3/min = %d litres/min',Q,Q/1000)"
   ]
   }
,
{
		   "cell_type": "markdown",
		   "metadata": {},
		   "source": [
			"## Example 5.18: induced_emf_in_electromagnetic_flow_meter.sce"
		   ]
		  },
  {
"cell_type": "code",
	   "execution_count": null,
	   "metadata": {
	    "collapsed": true
	   },
	   "outputs": [],
"source": [
"// Example 5.18, page no-317\n",
"clear\n",
"clc\n",
"Q=2500\n",
"d=2.75\n",
"a=(%pi*d^2)/4\n",
"v=Q/(60*a)\n",
"B=60\n",
"e=B*d*10^-2*v*10^-2\n",
"printf(' Induced emf e =%.4f V=%.1f mV',e,e*1000)"
   ]
   }
,
{
		   "cell_type": "markdown",
		   "metadata": {},
		   "source": [
			"## Example 5.19: velocity_of_flow_in_electromagnetic_flow_meter.sce"
		   ]
		  },
  {
"cell_type": "code",
	   "execution_count": null,
	   "metadata": {
	    "collapsed": true
	   },
	   "outputs": [],
"source": [
"//Example 5.19, page no-317\n",
"clear\n",
"clc\n",
"\n",
"e=0.2*10^-3\n",
"B=0.08\n",
"l=10*10^-2\n",
"v=e/(B*l)\n",
"printf('V = %.3f m/sec = %.2f cm/sec',v,v*100)"
   ]
   }
,
{
		   "cell_type": "markdown",
		   "metadata": {},
		   "source": [
			"## Example 5.1: flow_rate_calulatio.sce"
		   ]
		  },
  {
"cell_type": "code",
	   "execution_count": null,
	   "metadata": {
	    "collapsed": true
	   },
	   "outputs": [],
"source": [
"// Example 5.1, page no-310\n",
"clear\n",
"clc\n",
"//(i)\n",
"d=75*10^-3\n",
"a=3.141*d^2/4\n",
"v=760*10^-3\n",
"Q=v*a\n",
"Q=Q*10^3\n",
"printf('(i)\nVolume Flow Rate Q=%.3f *10^-3 m^3/sec',Q)\n",
"rho=1000\n",
"W=rho*Q*10^-3\n",
"printf('\n(ii)\nMass Flow rate W=%.3f kg/sec',W)"
   ]
   }
,
{
		   "cell_type": "markdown",
		   "metadata": {},
		   "source": [
			"## Example 5.20: average_velocity_of_flow_in_electromagnetic_flow_meter.sce"
		   ]
		  },
  {
"cell_type": "code",
	   "execution_count": null,
	   "metadata": {
	    "collapsed": true
	   },
	   "outputs": [],
"source": [
"//Example 5.20, page no-317\n",
"clear\n",
"clc\n",
"\n",
"ei=0.15*10^-3\n",
"em=2*ei\n",
"B=0.1\n",
"l=60*10^-3\n",
"v=em/(B*l)\n",
"printf('Velocity of flow V = %.2f m/sec = %.1f cm/sec',v,v*100)"
   ]
   }
,
{
		   "cell_type": "markdown",
		   "metadata": {},
		   "source": [
			"## Example 5.2: Volumetric_flow_rate_calculatio.sce"
		   ]
		  },
  {
"cell_type": "code",
	   "execution_count": null,
	   "metadata": {
	    "collapsed": true
	   },
	   "outputs": [],
"source": [
"// Example 5.2, page no-310\n",
"clear\n",
"clc\n",
"\n",
"D=40\n",
"d=20\n",
"mr=15\n",
"h=(13.6-1)*15*10\n",
"B=d/D\n",
"M=1/sqrt(1-B^4)\n",
"//printf('%f\n',B)\n",
"Cd=0.5999\n",
"x=sqrt(2*9.8*h*10^-3)\n",
"Q=x*Cd*M*(3.14*(20*10^-3)^2)/4\n",
"Q=Q*3600\n",
"printf('Volumetric flow rate Q= %.4f m^3/hr',Q)"
   ]
   }
,
{
		   "cell_type": "markdown",
		   "metadata": {},
		   "source": [
			"## Example 5.3: Nominal_flow_velocity.sce"
		   ]
		  },
  {
"cell_type": "code",
	   "execution_count": null,
	   "metadata": {
	    "collapsed": true
	   },
	   "outputs": [],
"source": [
"// Example 5.3, page no-310\n",
"clear\n",
"clc\n",
"Re=10^5\n",
"D=40*10^-3\n",
"v=10^-6\n",
"V1=Re*v/D\n",
"A1=(3.14*(40*10^-3)^2)/4\n",
"A2=(3.14*(20*10^-3)^2)/4\n",
"V2=V1*A1/A2\n",
"printf('V2=%.1f m/sec',V2)"
   ]
   }
,
{
		   "cell_type": "markdown",
		   "metadata": {},
		   "source": [
			"## Example 5.4: pressure_difference_calculation.sce"
		   ]
		  },
  {
"cell_type": "code",
	   "execution_count": null,
	   "metadata": {
	    "collapsed": true
	   },
	   "outputs": [],
"source": [
"// Example 5.4, page no-311\n",
"clear\n",
"clc\n",
"Cd=0.61\n",
"D=40*10^-3\n",
"d=20*10^-3\n",
"M=1/sqrt(1-(d/D)^4)\n",
"//printf('%.4f\n',M)\n",
"V2=10\n",
"rho=1000\n",
"g=9.8\n",
"X=V2*sqrt(rho/(2*g))/(Cd*M)\n",
"p_diff=X^2\n",
"\n",
"p_diff=floor(p_diff/100)\n",
"p_diff=p_diff/100\n",
"printf('P1-P2 = %.2f kg/cm^2',p_diff)"
   ]
   }
,
{
		   "cell_type": "markdown",
		   "metadata": {},
		   "source": [
			"## Example 5.5: volume_flow_rate_for_orifice_and_venturi_Tubes.sce"
		   ]
		  },
  {
"cell_type": "code",
	   "execution_count": null,
	   "metadata": {
	    "collapsed": true
	   },
	   "outputs": [],
"source": [
"// Example 5.5, page no-312\n",
"clear\n",
"clc\n",
"Cd=0.6\n",
"D=150*10^-3\n",
"d=75*10^-3\n",
"p=250\n",
"g=9.8\n",
"rho=1000\n",
"s=75*10^-3\n",
"//(a)\n",
"\n",
"Q=Cd*3.14*s^2*sqrt(2*g*p/rho)/(4*sqrt(1-(d/D)^4))\n",
"printf('(a) For orifice plate\nQ=%f m^3/sec = %.3f litres/sec',Q,Q*1000)\n",
"Cd1=0.99\n",
"Q2=Cd1*3.14*s^2*sqrt(2*g*p/rho)/(4*sqrt(1-(d/D)^4))\n",
"printf('\n\n(b)For venturi tube\nQ=%f m^3/sec = %.2f litres/sec',Q2,Q2*1000)"
   ]
   }
,
{
		   "cell_type": "markdown",
		   "metadata": {},
		   "source": [
			"## Example 5.6: determination_of_Reynolds_number.sce"
		   ]
		  },
  {
"cell_type": "code",
	   "execution_count": null,
	   "metadata": {
	    "collapsed": true
	   },
	   "outputs": [],
"source": [
"// Example 5.6, page no-312\n",
"clear\n",
"clc\n",
"\n",
"//(i)\n",
"V=0.02\n",
"d=10*10^-2\n",
"A=%pi*d^2/4\n",
"v=V/A\n",
"rho=1000\n",
"Re=rho*v*d/10^-3\n",
"Re=Re/100000\n",
"printf('(i)\nReynolds number(Re) = %.3f * 10^5',Re)\n",
"\n",
"//(ii)\n",
"Cd=0.98\n",
"D=20*10^-2\n",
"d=10*10^-2\n",
"M=1/sqrt(1-(d/D)^4)\n",
"a2=3.14*d^2/4\n",
"Q=0.02\n",
"g=9.8\n",
"X=Q*sqrt(rho)/(M*Cd*a2*sqrt(2*g))\n",
"p_diff=ceil(X^2)\n",
"printf('\n(ii)\nPressur_difference = %d kg/m^2 = %.4f kg/cm^2',p_diff,p_diff/10000)"
   ]
   }
,
{
		   "cell_type": "markdown",
		   "metadata": {},
		   "source": [
			"## Example 5.7: Fluid_velocity_and_Volumetric_flow_rate.sce"
		   ]
		  },
  {
"cell_type": "code",
	   "execution_count": null,
	   "metadata": {
	    "collapsed": true
	   },
	   "outputs": [],
"source": [
"// Example 5.7, page no-313\n",
"clear\n",
"clc\n",
"//1kg/m^2=10 meters water head\n",
"g=9.81\n",
"h=20\n",
"v=sqrt(2*g*h)\n",
"d=300*10^-3\n",
"A=(3.14*d^2)/4\n",
"A=floor(A*1000)\n",
"A=A/1000\n",
"Q=A*v\n",
"printf('Q=%.3f m^3/sec',Q)"
   ]
   }
,
{
		   "cell_type": "markdown",
		   "metadata": {},
		   "source": [
			"## Example 5.8: Fluid_velocity_calculatio.sce"
		   ]
		  },
  {
"cell_type": "code",
	   "execution_count": null,
	   "metadata": {
	    "collapsed": true
	   },
	   "outputs": [],
"source": [
"// Example 5.8, page no-313\n",
"clear\n",
"clc\n",
"Cd=0.6\n",
"g=9.8\n",
"h=400*10^-3\n",
"V=Cd*sqrt(2*g*h)\n",
"printf('V = %.2f m/sec',V)"
   ]
   }
,
{
		   "cell_type": "markdown",
		   "metadata": {},
		   "source": [
			"## Example 5.9: velocity_measurement_using_pilot_tube.sce"
		   ]
		  },
  {
"cell_type": "code",
	   "execution_count": null,
	   "metadata": {
	    "collapsed": true
	   },
	   "outputs": [],
"source": [
"// Example 5.9, page no-314\n",
"clear\n",
"clc\n",
"\n",
"Cd=0.98\n",
"g=9.8\n",
"h=900*10^-3\n",
"V=Cd*sqrt(2*g*h)\n",
"V=floor(V*100)\n",
"V=(V/100)\n",
"printf('V = %.2f m/sec',V)\n",
""
   ]
   }
],
"metadata": {
		  "kernelspec": {
		   "display_name": "Scilab",
		   "language": "scilab",
		   "name": "scilab"
		  },
		  "language_info": {
		   "file_extension": ".sce",
		   "help_links": [
			{
			 "text": "MetaKernel Magics",
			 "url": "https://github.com/calysto/metakernel/blob/master/metakernel/magics/README.md"
			}
		   ],
		   "mimetype": "text/x-octave",
		   "name": "scilab",
		   "version": "0.7.1"
		  }
		 },
		 "nbformat": 4,
		 "nbformat_minor": 0
}
