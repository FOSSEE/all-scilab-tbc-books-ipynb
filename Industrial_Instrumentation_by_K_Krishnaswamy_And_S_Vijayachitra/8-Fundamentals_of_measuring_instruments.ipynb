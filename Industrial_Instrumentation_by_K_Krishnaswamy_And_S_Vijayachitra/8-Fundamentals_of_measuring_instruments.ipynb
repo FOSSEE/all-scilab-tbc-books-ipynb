{
"cells": [
 {
		   "cell_type": "markdown",
	   "metadata": {},
	   "source": [
       "# Chapter 8: Fundamentals of measuring instruments"
	   ]
	},
{
		   "cell_type": "markdown",
		   "metadata": {},
		   "source": [
			"## Example 8.10: EX8_10.sce"
		   ]
		  },
  {
"cell_type": "code",
	   "execution_count": null,
	   "metadata": {
	    "collapsed": true
	   },
	   "outputs": [],
"source": [
"//Example 8.10, page no-512\n",
"clear\n",
"clc\n",
"R=0.15*10/50\n",
"K=1\n",
"tow=15\n",
"deg=K*R*tow\n",
"//(i)\n",
"a=15-deg\n",
"printf('(i)The actual temperature when instrument reads 15°C is %.2f°C\n The true temperature at 5000 metres = %.2f ',a,a)\n",
"\n",
"//(ii)\n",
"alt_red=deg*50/0.15\n",
"h=5000-alt_red\n",
"printf('\n(ii)\nThe true altitude at which 15°C occurs is %d metres',h)"
   ]
   }
,
{
		   "cell_type": "markdown",
		   "metadata": {},
		   "source": [
			"## Example 8.1: Flux_density_calculation.sce"
		   ]
		  },
  {
"cell_type": "code",
	   "execution_count": null,
	   "metadata": {
	    "collapsed": true
	   },
	   "outputs": [],
"source": [
"//Example 8.1, page no-507\n",
"clear\n",
"clc\n",
"fi=10*10^-6\n",
"inch=2.54*10^-2\n",
"A=inch^2\n",
"B =fi/A\n",
"printf('Flux Density B= %.1f mT',B*1000)"
   ]
   }
,
{
		   "cell_type": "markdown",
		   "metadata": {},
		   "source": [
			"## Example 8.2: Power_Dissipation_and_accuracy_of_result.sce"
		   ]
		  },
  {
"cell_type": "code",
	   "execution_count": null,
	   "metadata": {
	    "collapsed": true
	   },
	   "outputs": [],
"source": [
"//Example 8.2, page no-508\n",
"clear\n",
"clc\n",
"i=10*10^-3\n",
"R=1000\n",
"P=(i^2)*R\n",
"err_R=10\n",
"err_I=(2/100)*25*100/10\n",
"err_I2=2*err_I\n",
"err_p=err_I2+err_R\n",
"printf('%% error in I^2 = ± %d%%\n%% error in Power = ± %d%%',err_I2,err_p)"
   ]
   }
,
{
		   "cell_type": "markdown",
		   "metadata": {},
		   "source": [
			"## Example 8.3: max_and_min_levels_of_input_supply_current.sce"
		   ]
		  },
  {
"cell_type": "code",
	   "execution_count": null,
	   "metadata": {
	    "collapsed": true
	   },
	   "outputs": [],
"source": [
"//Example 8.3, page no-508\n",
"clear\n",
"clc\n",
"i1=37\n",
"i2=42\n",
"i3=13\n",
"i4=6.7\n",
"Imax=(i1+i2)+(i1+i2)*(3/100)+(i3+i4)+(i3+i4)*(1/100)\n",
"\n",
"Imin=(i1+i2)-(i1+i2)*(3/100)+(i3+i4)-(i3+i4)*(1/100)\n",
"\n",
"printf('Maximum level of total supply current = %.3f mA\nMinimum level of total supply current = %.3f mA',Imax,Imin)"
   ]
   }
,
{
		   "cell_type": "markdown",
		   "metadata": {},
		   "source": [
			"## Example 8.4: Time_constant_for_thermometer.sce"
		   ]
		  },
  {
"cell_type": "code",
	   "execution_count": null,
	   "metadata": {
	    "collapsed": true
	   },
	   "outputs": [],
"source": [
"//Example 8.4, page no-508\n",
"clear\n",
"clc\n",
"//(a)\n",
"T=200\n",
"T0=300\n",
"Ti=70\n",
"t=3\n",
"x=(T-T0)/(Ti-T0)\n",
"tow=-t/log(x)\n",
"printf('(a)\nTime constant  tow=%.1f s',tow)\n",
"//(b)\n",
"t1=5\n",
"T5=T0+((Ti-T0)*%e^(-t1/tow))\n",
"printf('\n(b)\nTemperature after 5 seconds T5 = %.2f°C',T5)"
   ]
   }
,
{
		   "cell_type": "markdown",
		   "metadata": {},
		   "source": [
			"## Example 8.5: Error_calculation_of_second_order_instrument.sce"
		   ]
		  },
  {
"cell_type": "code",
	   "execution_count": null,
	   "metadata": {
	    "collapsed": true
	   },
	   "outputs": [],
"source": [
"//Example 8.4, page no-509\n",
"clear\n",
"clc\n",
"w=9\n",
"wn=6\n",
"x=w/wn\n",
"dr=0.6\n",
"Ar=1/sqrt(((1-(x)^2)^2)+(2*dr*x)^2)\n",
"printf('A=%.3f',Ar)\n",
"err=(1-Ar)*100\n",
"printf('\nError = %.2f%%',err)"
   ]
   }
,
{
		   "cell_type": "markdown",
		   "metadata": {},
		   "source": [
			"## Example 8.6: Output_of_first_order_instrument_for_unit_step_input.sce"
		   ]
		  },
  {
"cell_type": "code",
	   "execution_count": null,
	   "metadata": {
	    "collapsed": true
	   },
	   "outputs": [],
"source": [
"//Example 8.6, page no-510\n",
"clear\n",
"clc\n",
"t=2\n",
"y=1-%e^(-(t-1.5)/0.5)\n",
"printf('y(t)at t=2 will be y(t)=%.3f',y)"
   ]
   }
,
{
		   "cell_type": "markdown",
		   "metadata": {},
		   "source": [
			"## Example 8.7: Calculation_of_different_parameters_from_given_frequency_distribution.sce"
		   ]
		  },
  {
"cell_type": "code",
	   "execution_count": null,
	   "metadata": {
	    "collapsed": true
	   },
	   "outputs": [],
"source": [
"//Example 8.7, page no-510\n",
"clear\n",
"clc\n",
"T=[98.5 99 99.5 100 100.5 101 101.5]\n",
"f=[4 13 19 35 17 10 2]\n",
"//(i)\n",
"k=0\n",
"a=0\n",
"for i=1:length(T)\n",
"k=k+(T(i)*f(i))\n",
"a=a+f(i)\n",
"end\n",
"x_bar=k/a\n",
"printf('(i)\nArithmatic Mean x_bar = %.2f°C',x_bar)\n",
"\n",
"//(ii)\n",
"m=0\n",
"n=0\n",
"for i=1:length(T)\n",
"x=(T(i)-x_bar)\n",
"if x<0 then\n",
"x=-x\n",
"end\n",
"m=m+(x*f(i))\n",
"n=n+f(i)\n",
"end\n",
"D=m/a\n",
"printf('\n(ii)\nAverage Deviation D = %.4f°C',D)\n",
"\n",
"//(iii)\n",
"\n",
"m=0\n",
"n=0\n",
"for i=1:length(T)\n",
"x=(T(i)-x_bar)\n",
"m=m+(x^2)*f(i)\n",
"n=n+f(i)\n",
"end\n",
"sigma=sqrt(m/n)\n",
"printf('\n(iii)\nStandard Deviation (Sigma) = %.3f°C',sigma)\n",
"\n",
"//(iv)\n",
"v=sigma^2\n",
"printf('\n(iv)\nVariancce= %.4f°C',v)\n",
"\n",
"//(v)\n",
"err=sigma*0.6745\n",
"printf('\n(v)\nProbable error = %.4f°C',err)"
   ]
   }
,
{
		   "cell_type": "markdown",
		   "metadata": {},
		   "source": [
			"## Example 8.8: EX8_8.sce"
		   ]
		  },
  {
"cell_type": "code",
	   "execution_count": null,
	   "metadata": {
	    "collapsed": true
	   },
	   "outputs": [],
"source": [
"//Example 8.8, page no-511\n",
"clear\n",
"clc\n",
"wn=sqrt(3)\n",
"x=3.2/(2*wn)\n",
"printf('Damping coefficient = %.3f\nNatural frequency of Oscillation = %.3f',x,wn)"
   ]
   }
,
{
		   "cell_type": "markdown",
		   "metadata": {},
		   "source": [
			"## Example 8.9: calculation_of_Amplitude_inaccuracy_and_phase_shift_from_transfer_function.sce"
		   ]
		  },
  {
"cell_type": "code",
	   "execution_count": null,
	   "metadata": {
	    "collapsed": true
	   },
	   "outputs": [],
"source": [
"//Example 8.9, page no-512\n",
"clear\n",
"clc\n",
"w=100\n",
"fi=-atan(0.1*w)-atan(0.5*w)\n",
"A=1/(sqrt(1+(0.1*w)^2)*(sqrt(1+(0.5*w)^2)))\n",
"A=1*1000/ceil(1000*A)\n",
"err=(1-1/A)*100\n",
"printf('A=K/%d\n%% error = %.1f%%\nfi=%.2f°',A,err,fi*180/%pi)"
   ]
   }
],
"metadata": {
		  "kernelspec": {
		   "display_name": "Scilab",
		   "language": "scilab",
		   "name": "scilab"
		  },
		  "language_info": {
		   "file_extension": ".sce",
		   "help_links": [
			{
			 "text": "MetaKernel Magics",
			 "url": "https://github.com/calysto/metakernel/blob/master/metakernel/magics/README.md"
			}
		   ],
		   "mimetype": "text/x-octave",
		   "name": "scilab",
		   "version": "0.7.1"
		  }
		 },
		 "nbformat": 4,
		 "nbformat_minor": 0
}
