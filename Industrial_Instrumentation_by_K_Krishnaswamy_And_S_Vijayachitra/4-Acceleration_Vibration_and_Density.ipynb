{
"cells": [
 {
		   "cell_type": "markdown",
	   "metadata": {},
	   "source": [
       "# Chapter 4: Acceleration Vibration and Density"
	   ]
	},
{
		   "cell_type": "markdown",
		   "metadata": {},
		   "source": [
			"## Example 4.10: Specific_Gravity_of_unknown_liquid.sce"
		   ]
		  },
  {
"cell_type": "code",
	   "execution_count": null,
	   "metadata": {
	    "collapsed": true
	   },
	   "outputs": [],
"source": [
"// Example 4.10, page no-212\n",
"clear\n",
"clc\n",
"Ww=12-2\n",
"dw=1000\n",
"v=Ww/dw\n",
"dx=(10-2)/v\n",
"sg=dx/dw\n",
"\n",
"printf('Specific Gravity of X =%.1f',sg)"
   ]
   }
,
{
		   "cell_type": "markdown",
		   "metadata": {},
		   "source": [
			"## Example 4.11: calculation_of_specific_gravity.sce"
		   ]
		  },
  {
"cell_type": "code",
	   "execution_count": null,
	   "metadata": {
	    "collapsed": true
	   },
	   "outputs": [],
"source": [
"// Example 4.11, page no-213\n",
"clear\n",
"clc\n",
"\n",
"//(a)\n",
"v_obj=2/1000\n",
"wt=1.5\n",
"dx=wt/v_obj\n",
"sg=dx/1000\n",
"printf('(a)\nSpecific Gravity = %.2f',sg)\n",
"\n",
"//(b)\n",
"sgl=0.8\n",
"dens=800\n",
"W1=dens*v_obj-wt\n",
"printf('\n(b)\nW1 = %.1f kg',W1)\n",
"\n",
"//(c)\n",
"sg2=1.2\n",
"dens2=1200\n",
"W2=dens2*v_obj-wt\n",
"printf('\n(c)\nW2 = %.1f kg',W2)"
   ]
   }
,
{
		   "cell_type": "markdown",
		   "metadata": {},
		   "source": [
			"## Example 4.1: mechanical_system_for_a_seismic_instrument.sce"
		   ]
		  },
  {
"cell_type": "code",
	   "execution_count": null,
	   "metadata": {
	    "collapsed": true
	   },
	   "outputs": [],
"source": [
"// Example 4.1, page no-209\n",
"clear\n",
"clc\n",
"\n",
"//(a)\n",
"k=50\n",
"m=0.005\n",
"wn=sqrt(k/m)\n",
"printf('(a)\nNatural frequency(wn)= %d rad/s',wn)\n",
"//(b)\n",
"Cc=2*sqrt(m*k)\n",
"printf('\n(b)\nCc=%d',Cc)"
   ]
   }
,
{
		   "cell_type": "markdown",
		   "metadata": {},
		   "source": [
			"## Example 4.2: Frequency_and_phase_angle_of_motion.sce"
		   ]
		  },
  {
"cell_type": "code",
	   "execution_count": null,
	   "metadata": {
	    "collapsed": true
	   },
	   "outputs": [],
"source": [
"// Example 4.2, page no-209\n",
"clear\n",
"clc\n",
"\n",
"//(a)\n",
"Cc=1.0\n",
"C=0.7*Cc\n",
"m=0.005\n",
"k=50\n",
"w=sqrt((k/m)-(C/(2*m))^2)\n",
"printf('(a)\nw=%.1f rad/s',w)\n",
"//(b)\n",
"w1=250\n",
"theta=C*w1/(k-m*w1^2)\n",
"printf('\ntheta=%f',theta)\n",
"fi=atan(-theta)\n",
"fi=fi*180/%pi\n",
"printf('\nfi = %d°',fi)"
   ]
   }
,
{
		   "cell_type": "markdown",
		   "metadata": {},
		   "source": [
			"## Example 4.3: time_calculation_for_exponetial_transient_term.sce"
		   ]
		  },
  {
"cell_type": "code",
	   "execution_count": null,
	   "metadata": {
	    "collapsed": true
	   },
	   "outputs": [],
"source": [
"// Example 4.3, page no-210\n",
"clear\n",
"clc\n",
"m=0.005\n",
"c=0.7\n",
"y=-log(0.01)\n",
"//printf('y=%.2f',y)\n",
"t=y*2*m/c\n",
"printf('t=%.4f Secs',t)"
   ]
   }
,
{
		   "cell_type": "markdown",
		   "metadata": {},
		   "source": [
			"## Example 4.4: Acceleration_measurement.sce"
		   ]
		  },
  {
"cell_type": "code",
	   "execution_count": null,
	   "metadata": {
	    "collapsed": true
	   },
	   "outputs": [],
"source": [
"// Example 4.4, page no-210\n",
"clear\n",
"clc\n",
"rg1=1200\n",
"rg2=1200\n",
"rg3=1200\n",
"rg4=1200\n",
"D1=rg1*5/100\n",
"D2=rg2*5/100\n",
"D3=rg3*5/100\n",
"D4=rg4*5/100\n",
"E=12\n",
"v=E*(((rg1+D1)/(rg1+D1+rg2-D2))-((rg4-D4)/(rg3+D3+rg4-D4)))\n",
"v=v*1000\n",
"printf('V0=%d mV',v)"
   ]
   }
,
{
		   "cell_type": "markdown",
		   "metadata": {},
		   "source": [
			"## Example 4.5: output_voltage_of_quartz_piezoelectric_crystal.sce"
		   ]
		  },
  {
"cell_type": "code",
	   "execution_count": null,
	   "metadata": {
	    "collapsed": true
	   },
	   "outputs": [],
"source": [
"// Example 4.5, page no-211\n",
"clear\n",
"clc\n",
"g=0.06\n",
"t=2.5*10^-3\n",
"p=20*9.8*10^4\n",
"E=g*t*p\n",
"printf('E=%d V',E)"
   ]
   }
,
{
		   "cell_type": "markdown",
		   "metadata": {},
		   "source": [
			"## Example 4.6: Differential_values_of_capacitor.sce"
		   ]
		  },
  {
"cell_type": "code",
	   "execution_count": null,
	   "metadata": {
	    "collapsed": true
	   },
	   "outputs": [],
"source": [
"// Example 4.6, page no-211\n",
"clear\n",
"clc\n",
"\n",
"c0=25\n",
"x0=0.5\n",
"x1=0.05\n",
"c1=c0*x0/(x0-x1)\n",
"c2=c0*x0/(x0+x1)\n",
"printf('C1=%.2f pF\nC2=%.2f pF',c1,c2)"
   ]
   }
,
{
		   "cell_type": "markdown",
		   "metadata": {},
		   "source": [
			"## Example 4.7: Specific_Gravity_Conversion.sce"
		   ]
		  },
  {
"cell_type": "code",
	   "execution_count": null,
	   "metadata": {
	    "collapsed": true
	   },
	   "outputs": [],
"source": [
"// Example 4.7, page no-211\n",
"clear\n",
"clc\n",
"\n",
"//(a)\n",
"sg_at_60=1.02\n",
"API=(141.5/sg_at_60)-131.5\n",
"printf('(a)\nDegrees API = %.2f°API',API)\n",
"//(b)\n",
"Be=145-145/sg_at_60\n",
"printf('\n(b)\nDegrees Baume(heavy) = %.1f°Be',Be)\n",
"//(c)\n",
"Bk=(sg_at_60-1)*1000\n",
"printf('\n(c)\nDegrees Barkometer = %d°Bk',Bk)\n",
"//(d)\n",
"Q=(sg_at_60-1)*1000\n",
"printf('\n(c)\nDegrees Quevenne = %d°Q',Q)\n",
"//(e)\n",
"Tw=200*(sg_at_60-1.0)\n",
"printf('\n(d)\nDegrees Twaddel = %d°Tw',Tw)"
   ]
   }
,
{
		   "cell_type": "markdown",
		   "metadata": {},
		   "source": [
			"## Example 4.8: calculation_of_the_volume_of_displacer.sce"
		   ]
		  },
  {
"cell_type": "code",
	   "execution_count": null,
	   "metadata": {
	    "collapsed": true
	   },
	   "outputs": [],
"source": [
"// Example 4.8, page no-212\n",
"clear\n",
"clc\n",
"T=0.5\n",
"sg1=1.02\n",
"sg2=0.98\n",
"wt=1000*10^-6\n",
"v=T/((sg1-sg2)*wt)\n",
"v=ceil(v)\n",
"printf('V=%d cm^3',v)"
   ]
   }
,
{
		   "cell_type": "markdown",
		   "metadata": {},
		   "source": [
			"## Example 4.9: Differential_pressure_Sensor.sce"
		   ]
		  },
  {
"cell_type": "code",
	   "execution_count": null,
	   "metadata": {
	    "collapsed": true
	   },
	   "outputs": [],
"source": [
"// Example 4.9, page no-212\n",
"clear\n",
"clc\n",
"sg1=0.85\n",
"sg2=0.8\n",
"span=150\n",
"H=span/(sg1-sg2)\n",
"printf('(a)\nH=%d mm = %dm',H,H/1000)\n",
"span_min=1500\n",
"span2=span_min*(sg1-sg2)\n",
"span2=ceil(span2)\n",
"printf('\n(b)\nD/P span = %d mm',span2)"
   ]
   }
],
"metadata": {
		  "kernelspec": {
		   "display_name": "Scilab",
		   "language": "scilab",
		   "name": "scilab"
		  },
		  "language_info": {
		   "file_extension": ".sce",
		   "help_links": [
			{
			 "text": "MetaKernel Magics",
			 "url": "https://github.com/calysto/metakernel/blob/master/metakernel/magics/README.md"
			}
		   ],
		   "mimetype": "text/x-octave",
		   "name": "scilab",
		   "version": "0.7.1"
		  }
		 },
		 "nbformat": 4,
		 "nbformat_minor": 0
}
