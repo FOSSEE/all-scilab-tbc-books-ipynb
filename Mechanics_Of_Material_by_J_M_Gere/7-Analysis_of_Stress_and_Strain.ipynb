{
"cells": [
 {
		   "cell_type": "markdown",
	   "metadata": {},
	   "source": [
       "# Chapter 7: Analysis of Stress and Strain"
	   ]
	},
{
		   "cell_type": "markdown",
		   "metadata": {},
		   "source": [
			"## Example 7.1: Determination_of_the_stresses_acting_on_an_inclined_element.sce"
		   ]
		  },
  {
"cell_type": "code",
	   "execution_count": null,
	   "metadata": {
	    "collapsed": true
	   },
	   "outputs": [],
"source": [
"// Let x1, y1 be the transformed direction inclined at 45 deegree to the original\n",
"sx = 16000; // Direct stress in x-direction in psi\n",
"sy = 6000; // Direct stress in y-direction ''\n",
"txy = 4000; // Shear stress in y-direction ''\n",
"tyx = txy ; // Shear stress in x-direction ''\n",
"t = 45 ; // Inclination pf plane in degree \n",
"sx1 = (sx+sy)/2 + ((sx-sy)*(cosd(2*t))/2) + txy*sind(2*t);   // Direct stress in x1-direction in psi\n",
"sy1 = (sx+sy)/2 - ((sx-sy)*(cosd(2*t))/2) - txy*sind(2*t);   // Direct stress in y1-direction in psi\n",
"tx1y1 =  - ((sx-sy)*(sind(2*t))/2) + txy*cosd(2*t)   // Shear stress in psi\n",
"disp('psi',sx1,'The direct stress on the element in x1-direction is')\n",
"disp('psi',sy1,'The direct stress on the element in y1-direction is')\n",
"disp('psi',tx1y1,'The shear stress on the element')\n",
"\n",
"\n",
""
   ]
   }
,
{
		   "cell_type": "markdown",
		   "metadata": {},
		   "source": [
			"## Example 7.2: Determination_of_stresses_acting_on_inclined_element.sce"
		   ]
		  },
  {
"cell_type": "code",
	   "execution_count": null,
	   "metadata": {
	    "collapsed": true
	   },
	   "outputs": [],
"source": [
"// Let x1, y1 be the transformed direction inclined at 15 deegree to the original\n",
"sx = -46e06; // Direct stress in x-direction in Pa\n",
"sy = 12e06; // Direct stress in y-direction ''\n",
"txy = -19e06; // Shear stress in y-direction ''\n",
"t = -15 ; // Inclination of plane in degree \n",
"sx1 = (sx+sy)/2 + ((sx-sy)*(cosd(2*t))/2) + txy*sind(2*t)   // Direct stress in x1-direction in Pa\n",
"sy1 = (sx+sy)/2 - ((sx-sy)*(cosd(2*t))/2) - txy*sind(2*t)   // Direct stress in y1-direction in Pa\n",
"tx1y1 =  - ((sx-sy)*(sind(2*t))/2) + txy*cosd(2*t)    // Shear stress in Pa\n",
"disp('Pa',sx1,'The direct stress on the element in x1-direction is')\n",
"disp('Pa',sy1,'The direct stress on the element in y1-direction is')\n",
"disp('Pa',tx1y1,'The shear stress on the element')\n",
""
   ]
   }
,
{
		   "cell_type": "markdown",
		   "metadata": {},
		   "source": [
			"## Example 7.3: Determination_of_stresses_acting_on_inclined_element.sce"
		   ]
		  },
  {
"cell_type": "code",
	   "execution_count": null,
	   "metadata": {
	    "collapsed": true
	   },
	   "outputs": [],
"source": [
"sx = 90e06; // Direct stress in x-direction in Pa\n",
"sy = 20e06; // Direct stress in y-direction in Pa\n",
"t = 30 ; // Inclination of element in degree\n",
"savg = (sx+sy)/2 ; // Average in-plane direct stress\n",
"txy = 0 ;\n",
"R = sqrt(((sx-sy)/2)^2+(txy)^2) // Radius of mohr circle\n",
"// Point D ; at 2t = 60\n",
"sx1 = savg + R*cosd(2*t) ; // Direct stress at point D \n",
"tx1y1 = -R*sind(2*t) ;  // shear stress at point D\n",
"disp('Pa',sx1,'The direct stress at point D is')\n",
"disp('Pa',tx1y1,'The shear stress at point D is')\n",
"// Point D' ; at 2t = 240\n",
"sx2 = savg + R*cosd(90 + t);  // Direct stress at point D \n",
"tx2y2 = R*sind(90 + t);   // shear stress at point D\n",
"disp('Pa',sx2,'The direct stress at point D_desh is')\n",
"disp('Pa',tx2y2,'The shear stress at point D_desh is')\n",
"\n",
""
   ]
   }
,
{
		   "cell_type": "markdown",
		   "metadata": {},
		   "source": [
			"## Example 7.4: Determination_of_stresses_acting_on_inclined_element_using_mohrs_circle.sce"
		   ]
		  },
  {
"cell_type": "code",
	   "execution_count": null,
	   "metadata": {
	    "collapsed": true
	   },
	   "outputs": [],
"source": [
"sx = 90e06; // Direct stress in x-direction in Pa\n",
"sy = 20e06; // Direct stress in y-direction in Pa\n",
"t = 30 ; // Inclination of element in degree\n",
"savg = (sx+sy)/2 ; // Average in-plane direct stress\n",
"txy = 0 ;\n",
"R = sqrt(((sx-sy)/2)^2+(txy)^2) // Radius of mohr circle\n",
"// Point D ; at 2t = 60\n",
"sx1 = savg + R*cosd(2*t) ; // Direct stress at point D \n",
"tx1y1 = -R*sind(2*t) ;  // shear stress at point D\n",
"// Point D ; at 2t = 240\n",
"sx2 = savg + R*cosd(90 + t);  // Direct stress at point D \n",
"tx2y2 = R*sind(90 + t);   // shear stress at point D\n",
"\n",
""
   ]
   }
,
{
		   "cell_type": "markdown",
		   "metadata": {},
		   "source": [
			"## Example 7.5: Determination_of_stresses_acting_on_inclined_element_using_Mohrs_circle.sce"
		   ]
		  },
  {
"cell_type": "code",
	   "execution_count": null,
	   "metadata": {
	    "collapsed": true
	   },
	   "outputs": [],
"source": [
"sx = 15000; // Direct stress in x-direction in psi\n",
"sy = 5000; // Direct stress in y-direction ''\n",
"txy = 4000 ; // Shear stress in y-direction ''\n",
"savg = (sx+sy)/2 ; // Average in-plane direct stress\n",
"sx1 = 15000; tx1y1 = 4000; // Stress acting on face at theta = 0 degree\n",
"sx1_ = 5000; tx1y1_ = -4000; // Stress acting on face at theta = 0 degree\n",
"R = sqrt(((sx-sy)/2)^2+(txy)^2) // Radius of mohr circle\n",
"// Part (a)\n",
"t = 40 ; // Inclination of the plane in degree\n",
"f1 = atand(4000/5000) ; // Angle between line CD and x1-axis\n",
"f2 = 80 - f1 ; // Angle between line CA and x1-axis\n",
"// Point D ; \n",
"sx1 = savg + R*cosd(f2);  // Direct stress at point D \n",
"tx1y1 = -R*sind(f2);   // shear stress at point D\n",
"disp('psi',sx1,'The direct stres at point D')\n",
"disp('psi',tx1y1,'The shear stress at point D')\n",
"// Point D' ; \n",
"sx2 = savg - R*cosd(f2)  // Direct stress at point D' \n",
"tx2y2 = R*sind(f2)   // shear stress at point D'\n",
"disp('psi',sx2,'The direct stres at point D_desh')\n",
"disp('psi',tx2y2,'The shear stress at point D_desh')\n",
"//Part (b)\n",
"sp1 = savg + R ; // Maximum direct stress in mohe circle (at point P1)\n",
"tp1 = f1/2 ; // Inclination of plane of maximum direct stress\n",
"disp('degree',tp1,'with angle','psi',sp1,'The maximum direct stress at P1 is ')\n",
"sp2 =  savg - R ; // Minimum direct stress in mohe circle (at point P2)\n",
"tp2 = (f1+180)/2 ; // Inclination of plane of minimum direct stress\n",
"disp('degree',tp2,'with angle','psi',sp2,'The maximum direct stress at P2 is ')\n",
"// Part (c)\n",
"tmax = R ;  // Maximum shear stress in mohe circle\n",
"ts1 = -(90 - f1)/2 // Inclination of plane of maximum shear stress\n",
"disp('degree',ts1,'with plane incilation of','psi',tmax,'The Maximum shear stress is ')\n",
"\n",
"\n",
"\n",
""
   ]
   }
,
{
		   "cell_type": "markdown",
		   "metadata": {},
		   "source": [
			"## Example 7.6: Determination_of_stresses_acting_on_inclined_element_using_mohrs_circle.sce"
		   ]
		  },
  {
"cell_type": "code",
	   "execution_count": null,
	   "metadata": {
	    "collapsed": true
	   },
	   "outputs": [],
"source": [
"sx = -50e06; // Direct stress in x-direction in psi\n",
"sy = 10e06; // Direct stress in y-direction ''\n",
"txy = -40e06 ; // Shear stress in y-direction ''\n",
"savg = (sx+sy)/2 ; // Average in-plane direct stress\n",
"sx1 = -50e06; tx1y1 = -40e06; // Stress acting on face at theta = 0 degree\n",
"sx1_ = 10e06; tx1y1_ = 40e06; // Stress acting on face at theta = 0 degree\n",
"R = sqrt(((sx-sy)/2)^2+(txy)^2); // Radius of mohr circle\n",
"// Part (a)\n",
"t = 45 ; // Inclination of the plane in degree\n",
"f1 = atand(40e06/30e06)  // Angle between line CD and x1-axis\n",
"f2 = 90 - f1 ; // Angle between line CA and x1-axis\n",
"// Point D ; \n",
"sx1 = savg - R*cosd(f2);  // Direct stress at point D \n",
"tx1y1 = R*sind(f2);   // shear stress at point D\n",
"disp('Pa',sx1,'The direct stres at point D')\n",
"disp('Pa',tx1y1,'The shear stress at point D')\n",
"// Point D' ; \n",
"sx2 = savg + R*cosd(f2);  // Direct stress at point D' \n",
"tx2y2 = -R*sind(f2);   // shear stress at point D'\n",
"disp('Pa',sx2,'The direct stres at point D_desh')\n",
"disp('Pa',tx2y2,'The shear stress at point D_desh')\n",
"//Part (b)\n",
"sp1 =  savg + R ;  // Maximum direct stress in mohe circle (at point P1)\n",
"tp1 =(f1+180)/2 ; // Inclination of plane of maximum direct stress\n",
"disp('degree',tp1,'with angle','Pa',sp1,'The maximum direct stress at P1 is ')\n",
"sp2 =  savg - R ; // Minimum direct stress in mohe circle (at point P2)\n",
"tp2 = f1/2 ; // Inclination of plane of minimum direct stress\n",
"disp('degree',tp2,'with angle','Pa',sp2,'The maximum direct stress at P2 is ')\n",
"// Part (c)\n",
"tmax = R ;  // Maximum shear stress in mohe circle\n",
"ts1 = (90 + f1)/2 ;// Inclination of plane of maximum shear stress\n",
"disp('degree',ts1,'with plane incilation of','Pa',tmax,'The Maximum shear stress is ')\n",
"\n",
"\n",
"\n",
""
   ]
   }
,
{
		   "cell_type": "markdown",
		   "metadata": {},
		   "source": [
			"## Example 7.7: Determination_of_various_strain_on_inclined_element.sce"
		   ]
		  },
  {
"cell_type": "code",
	   "execution_count": null,
	   "metadata": {
	    "collapsed": true
	   },
	   "outputs": [],
"source": [
"ex = 340e-06; // Strain in x-direction\n",
"ey = 110e-06; // Strain in y-direction\n",
"txy = 180e-06 ; // shear strain\n",
"// Part (a)\n",
"t = 30 ; // Inclination of the element in degree\n",
"ex1 = (ex+ey)/2 + ((ex-ey)/2)*cosd(2*t) + (txy/2)*(sind(2*t)); // Strain in x1 direction (located at 30 degree)\n",
"tx1y1 = 2*( -((ex-ey)/2)*sind(2*t) + (txy/2)*(cosd(2*t)) ); // Shear starin\n",
"ey1 = ex+ey-ex1 ; // Strain in y1 direction (located at 30 degree)\n",
"disp(ex1,' Strain in x1 direction (located at 30 degree) is')\n",
"disp(tx1y1,'shear strain is')\n",
"disp(ey1,' Strain in y1 direction (located at 30 degree) is')\n",
"// Part (b)\n",
"e1 = (ex+ey)/2 + sqrt(((ex-ey)/2)^2 + (txy/2)^2); // Principle stress\n",
"e2 = (ex+ey)/2 - sqrt(((ex-ey)/2)^2 + (txy/2)^2); // Principle stress\n",
"tp1 = (0.5)*atand(txy/(ex-ey)); // Angle to principle stress direction\n",
"tp2 = 90 + tp1 ; // Angle to principle stress direction\n",
"e1 = (ex+ey)/2 + ((ex-ey)/2)*cosd(2*tp1) + (txy/2)*(sind(2*tp1)); // Principle stress via another method\n",
"e2 = (ex+ey)/2 + ((ex-ey)/2)*cosd(2*tp2) + (txy/2)*(sind(2*tp2)); // Principle stress via another method\n",
"disp('degree',tp1,'with angle',e1,'The Principle stress is ')\n",
"disp('degree',tp2,'with angle',e2,'The Principle stress is ')\n",
"// Part (c)\n",
"tmax = 2*sqrt(((ex-ey)/2)^2 + (txy/2)^2); // Maxmum shear strain\n",
"ts = tp1 + 45 ; // Orientation of element having maximum shear stress \n",
"tx1y1_ =  2*( -((ex-ey)/2)*sind(2*ts) + (txy/2)*(cosd(2*ts)) );  // Shear starin assosiated with ts direction\n",
"disp('degree',ts,'with angle',tx1y1_,'The Maximum shear strain is ')\n",
"eavg = (e1+e2)/2 ; // Average atrain\n",
"disp(eavg,'The average strain is')"
   ]
   }
],
"metadata": {
		  "kernelspec": {
		   "display_name": "Scilab",
		   "language": "scilab",
		   "name": "scilab"
		  },
		  "language_info": {
		   "file_extension": ".sce",
		   "help_links": [
			{
			 "text": "MetaKernel Magics",
			 "url": "https://github.com/calysto/metakernel/blob/master/metakernel/magics/README.md"
			}
		   ],
		   "mimetype": "text/x-octave",
		   "name": "scilab",
		   "version": "0.7.1"
		  }
		 },
		 "nbformat": 4,
		 "nbformat_minor": 0
}
