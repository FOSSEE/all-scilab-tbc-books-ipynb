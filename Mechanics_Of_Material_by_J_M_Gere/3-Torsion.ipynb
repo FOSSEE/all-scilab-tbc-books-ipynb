{
"cells": [
 {
		   "cell_type": "markdown",
	   "metadata": {},
	   "source": [
       "# Chapter 3: Torsion"
	   ]
	},
{
		   "cell_type": "markdown",
		   "metadata": {},
		   "source": [
			"## Example 3.10: evaluation_of_the_strain_energy_for_different_cases.sce"
		   ]
		  },
  {
"cell_type": "code",
	   "execution_count": null,
	   "metadata": {
	    "collapsed": true
	   },
	   "outputs": [],
"source": [
"Ta = 100 ; // Torque in N-m at A\n",
"Tb = 150; // Torque in N-m at B\n",
"L = 1.6 ; // Length of shaft in meter\n",
"G = 80e09 ; // Modulus of elasticity\n",
"Ip = 79.52e-09; // polar moment of inertia in m4\n",
"Ua = ((Ta^2)*L)/(2*G*Ip) // Strain energy at A\n",
"disp('joule',Ua,'Torque acting at free end')\n",
"Ub = ((Tb^2)*L)/(4*G*Ip)  // Strain energy at B\n",
"disp('joule',Ub,'Torque acting at mid point')\n",
"a = (Ta*Tb*L)/(2*G*Ip) // dummy variabble\n",
"Uc = Ua+a+Ub ; // Strain energy at C\n",
"disp('joule',Uc,'Total torque')"
   ]
   }
,
{
		   "cell_type": "markdown",
		   "metadata": {},
		   "source": [
			"## Example 3.11: Evaluation_of_the_strain_energy_of_a_hollow_shaft.sce"
		   ]
		  },
  {
"cell_type": "code",
	   "execution_count": null,
	   "metadata": {
	    "collapsed": true
	   },
	   "outputs": [],
"source": [
"t = 480 ; // Torque of constant intensity\n",
"L = 144 ; // Length of bar\n",
"G = 11.5e06; // Modulus of elasticity in Psi\n",
"Ip = 17.18 ; // Polar moment of inertia\n",
"U = ((t^2)*(L^3))/(G*Ip*6) // strain energy in in-lb\n",
"disp('in-lb',U,'The strain energu for the hollow shaft is')"
   ]
   }
,
{
		   "cell_type": "markdown",
		   "metadata": {},
		   "source": [
			"## Example 3.1: Calculation_of_maximum_shear_stress_and_permissible_torque_in_the_bar.sce"
		   ]
		  },
  {
"cell_type": "code",
	   "execution_count": null,
	   "metadata": {
	    "collapsed": true
	   },
	   "outputs": [],
"source": [
"d = 1.5; // diameter of bar in inch\n",
"L = 54 ; // Length of bar in inch\n",
"G = 11.5e06 ; // modulus of elasticity in psi \n",
"// Part (a)\n",
"T = 250 ; // torque\n",
"t_max = (16*T*12)/(%pi*(d^3));  // maximum shear stress in bar\n",
"Ip = (%pi*(d^4))/32 ; // polar miment of inertia \n",
"f = (T*12*L)/(G*Ip) ; // twist in radian\n",
"f_ = (f*180)/%pi ; // twist in degree\n",
"disp('psi',t_max,'Maximum shear stress in the bar is ')\n",
"disp('degree',f_,'Angle of twist is')\n",
"//Part (b)\n",
"t_allow = 6000 ; // allowable shear stress\n",
"T1 = (%pi*(d^3)*t_allow)/16;  //allowable permissible torque in lb-in\n",
"T1_ = T1*0.0831658 ; //allowable permissible torque in lb-ft\n",
"f_allow = (2.5*%pi)/180 ; // allowable twist in radian\n",
"T2 = (G*Ip*f_allow)/L;  // allowable stress via a another method\n",
"T2_ = T2*0.0831658; //allowable permissible torque in lb-ft\n",
"T_max = min(T1_,T2_); // minimum of the two\n",
"disp('lb-ft',T_max,'Maximum permissible torque in the bar is')"
   ]
   }
,
{
		   "cell_type": "markdown",
		   "metadata": {},
		   "source": [
			"## Example 3.2: Calculation_of_required_diameter_for_solid_and_hollow_shaft.sce"
		   ]
		  },
  {
"cell_type": "code",
	   "execution_count": null,
	   "metadata": {
	    "collapsed": true
	   },
	   "outputs": [],
"source": [
"T = 1200 ; // allowable torque in N-m\n",
"t = 40e06 ; // allowable shear stress in Pa\n",
"f = (0.75*%pi)/180 ; // allowable rate of twist in rad/meter\n",
"G = 78e09; // modulus of elasticity\n",
"// Part (a) : Solid shaft\n",
"d0 = ((16*T)/(%pi*t))^(1/3)\n",
"Ip = T/(G*f) ; // polar moment of inertia\n",
"d01 = ((32*Ip)/(%pi))^(1/4); // from rate of twist definition\n",
"disp('m',d0,'The required diameter of the solid shaft is ')\n",
"// Part (b) : hollow shaft\n",
"d2 = (T/(0.1159*t))^(1/3) ; // Diamater of hollow shaft in meter\n",
"// The above equation comes from solving the following four equation \n",
"// t1 = 0.1*d2 ; thickness of shaft\n",
"// d1 = d2-(2*t1) ; // diameter of inner radius\n",
"// Ip = (%pi/32)*((d2^4)-(d1^4)); // Polar moment of inertia\n",
"// r = d2/2\n",
"// t = (T*r)/Ip ; // allowable shear stress\n",
"d2_ = (T/(0.05796*G*f))^(1/4) ; // Another value of d2 by definition of theta(allow), f = T/(G*Ip)\n",
"d1 = 0.8*d2_ ; // because rate of twist governs the design\n",
"disp('m',d2,'The required diameter of the hollow shaft is ')\n",
"// Part (c) : Ratio of diameter and weight\n",
"r1 = d2_/d01 ; // diameter ratio\n",
"r2 = ((d2_^2)-(d1^2))/(d01^2) ; // Weight Ratio\n",
"disp(r1,'Ratio of the diameter of the hollow and solid shaft is')\n",
"disp(r2,'Ratio of the weight of the hollow and solid shaft is')\n",
"\n",
"\n",
"\n",
""
   ]
   }
,
{
		   "cell_type": "markdown",
		   "metadata": {},
		   "source": [
			"## Example 3.4: EX3_4.sce"
		   ]
		  },
  {
"cell_type": "code",
	   "execution_count": null,
	   "metadata": {
	    "collapsed": true
	   },
	   "outputs": [],
"source": [
"d = 0.03 ; // diameter of the shaft in meter\n",
"T2 = 450 ; // Torque in N-m\n",
"T1 = 275 ; //\n",
"T3 = 175 ; //\n",
"Lbc = 0.5 ; // Length of shaft in meter\n",
"Lcd = 0.4 ; // Length of shaft in meter\n",
"G = 80e09 ; // Modulus of elasticity\n",
"Tcd = T2-T1 ; // torque in segment CD\n",
"Tbc = -T1 ; // torque in segment BC\n",
"tcd = (16*Tcd)/(%pi*(d^3)); // shear stress in cd segment\n",
"disp('Pa',tcd,'Shear stress in segment cd is')\n",
"tbc = (16*Tbc)/(%pi*(d^3)); // shear stress in bc segment\n",
"disp('Pa',tbc,'Shear stress in segment bc is')\n",
"Ip = (%pi/32)*(d^4); // Polar monent of inertia\n",
"fbc = (Tbc*Lbc)/(G*Ip); // angle of twist in radian\n",
"fcd = (Tcd*Lcd)/(G*Ip); // angle of twist in radian\n",
"fbd = fbc + fcd ; // angle of twist in radian\n",
"disp('radian',fbd,'Angles of twist in section BD')"
   ]
   }
,
{
		   "cell_type": "markdown",
		   "metadata": {},
		   "source": [
			"## Example 3.6: Calculation_of_various_stress_and_strain_in_circular_tube.sce"
		   ]
		  },
  {
"cell_type": "code",
	   "execution_count": null,
	   "metadata": {
	    "collapsed": true
	   },
	   "outputs": [],
"source": [
"d1 = 0.06 ; // Inner diameter in meter\n",
"d2 = 0.08 ; // Outer diameter in meter\n",
"r = d2/2; // Outer radius\n",
"G = 27e09 ; // Modulus of elasticity\n",
"T = 4000 ; // Torque in N-m\n",
"Ip = (%pi/32)*((d2^4)-(d1^4)); // Polar moment of inertia\n",
"t_max = (T*r)/Ip ; // maximum shear stress\n",
"disp('Pa',t_max,'Maximum shear stress in tube is ')\n",
"s_t = t_max ; // Maximum tensile stress\n",
"disp('Pa',s_t,'Maximum tensile stress in tube is ')\n",
"s_c = -(t_max); // Maximum compressive stress\n",
"disp('Pa',s_c,'Maximum compressive stress in tube is ')\n",
"g_max = t_max / G ; // Maximum shear strain in radian\n",
"disp('radian',g_max,'Maximum shear strain in tube is ')\n",
"e_t = g_max/2 ; // Maximum tensile strain in radian\n",
"disp('radian',e_t,'Maximum tensile strain in tube is ')\n",
"e_c = -g_max/2 ; // Maximum compressive strain in radian\n",
"disp('radian',e_c,'Maximum compressive strain in tube is ')\n",
""
   ]
   }
,
{
		   "cell_type": "markdown",
		   "metadata": {},
		   "source": [
			"## Example 3.7: Calculation_of_the_required_diameter_d_of_the_shaft.sce"
		   ]
		  },
  {
"cell_type": "code",
	   "execution_count": null,
	   "metadata": {
	    "collapsed": true
	   },
	   "outputs": [],
"source": [
"H = 40 ; // Power in hp\n",
"s = 6000 ; // allowable shear stress in steel in psi\n",
"// Part (a)\n",
"n = 500 ; // rpm\n",
"T = ((33000*H)/(2*%pi*n))*(5042/420); // Torque in lb-in\n",
"d = ((16*T)/(%pi*s))^(1/3); // diameter in inch\n",
"disp('inch',d,'Diameter of the shaft at 500 rpm')\n",
"// Part (b)\n",
"n1 = 3000 ; // rpm\n",
"T1 = ((33000*H)/(2*%pi*n1))*(5042/420); // Torque in lb-in\n",
"d1 = ((16*T1)/(%pi*s))^(1/3); // diameter in inch\n",
"disp('inch',d1,'Diameter of the shaft at 3000 rpm')"
   ]
   }
,
{
		   "cell_type": "markdown",
		   "metadata": {},
		   "source": [
			"## Example 3.8: Calculation_of_maximum_shear_stress_tmax_in_the_shaft_and_the_angle_of_twist.sce"
		   ]
		  },
  {
"cell_type": "code",
	   "execution_count": null,
	   "metadata": {
	    "collapsed": true
	   },
	   "outputs": [],
"source": [
"d = 0.05 ; // diameter of the shaft\n",
"Lab = 1 ; // Length of shaft ab in meter\n",
"Lbc = 1.2 ; // Length of shaft bc in meter\n",
"Pa = 50000; // Power in Watt at A\n",
"Pb = 35000; // Power in Watt at B\n",
"Ip = (%pi/32)*(d^4) ; // Polar moment of inertia\n",
"Pc = 15000; // Power in Watt at C\n",
"G = 80e09; // Modulus of elasticity\n",
"f = 10 ; // frequency in Hz \n",
"Ta = Pa/(2*%pi*f) // Torque in N-m at A\n",
"Tb = Pb/(2*%pi*f) // Torque in N-m at B\n",
"Tc = Pc/(2*%pi*f) // Torque in N-m at B\n",
"Tab = Ta ; // Torque in N-m in shaft ab\n",
"Tbc = Tc ; // Torque in N-m in shaft bc\n",
"tab = (16*Tab)/(%pi*(d^3)) ; // shear stress in ab segment\n",
"fab = (Tab*Lab)/(G*Ip); // angle of twist in radian\n",
"tbc = (16*Tbc)/(%pi*(d^3)); // shear stress in ab segment\n",
"fbc = (Tbc*Lbc)/(G*Ip); // angle of twist in radian\n",
"fac = (fab+fbc)*(180/%pi);  // angle of twist in degree in segment ac\n",
"tmax = Tab;  // Maximum shear stress\n",
"disp('Nm',tmax,'The maximum shear stress tmax in the shaft')\n",
"disp('degree',fac,'Angle of twist in segment AC')"
   ]
   }
],
"metadata": {
		  "kernelspec": {
		   "display_name": "Scilab",
		   "language": "scilab",
		   "name": "scilab"
		  },
		  "language_info": {
		   "file_extension": ".sce",
		   "help_links": [
			{
			 "text": "MetaKernel Magics",
			 "url": "https://github.com/calysto/metakernel/blob/master/metakernel/magics/README.md"
			}
		   ],
		   "mimetype": "text/x-octave",
		   "name": "scilab",
		   "version": "0.7.1"
		  }
		 },
		 "nbformat": 4,
		 "nbformat_minor": 0
}
