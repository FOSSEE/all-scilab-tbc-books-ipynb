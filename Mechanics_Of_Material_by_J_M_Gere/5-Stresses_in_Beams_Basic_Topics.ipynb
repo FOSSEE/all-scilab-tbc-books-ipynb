{
"cells": [
 {
		   "cell_type": "markdown",
	   "metadata": {},
	   "source": [
       "# Chapter 5: Stresses in Beams Basic Topics"
	   ]
	},
{
		   "cell_type": "markdown",
		   "metadata": {},
		   "source": [
			"## Example 5.11: Determination_of_the_normal_stress_and_shear_stress_at_point_C.sce"
		   ]
		  },
  {
"cell_type": "code",
	   "execution_count": null,
	   "metadata": {
	    "collapsed": true
	   },
	   "outputs": [],
"source": [
"L = 3 ; // Span of beam in ft\n",
"q = 160 ; // Uniform load intensity in lb/in\n",
"b = 1; // Width of cross section\n",
"h = 4; // Height of cross section\n",
"// Calculations from chapter 4\n",
"Mc = 17920 ; // Bending moment in ld-in\n",
"Vc = -1600 ; // Loading in lb\n",
"//\n",
"I = (b*(h^3))/12; // Moment of inertia in in4\n",
"sc = -(Mc*1)/I; // Compressive stress at point C in psi\n",
"Ac = 1*1 ; // Area of section C in inch2\n",
"yc = 1.5 ; // distance between midlayers od section C and cross section of beam\n",
"Qc = Ac*yc ; // First moment of C cross section in inch3\n",
"tc = (Vc*Qc)/(I*b); // Shear stress in Psi\n",
"disp('psi',sc,'Normal stress at C')\n",
"disp('psi',tc,'Shear stress at C')"
   ]
   }
,
{
		   "cell_type": "markdown",
		   "metadata": {},
		   "source": [
			"## Example 5.12: Determination_of_the_maximum_permissible_value_Pmax_of_the_loads.sce"
		   ]
		  },
  {
"cell_type": "code",
	   "execution_count": null,
	   "metadata": {
	    "collapsed": true
	   },
	   "outputs": [],
"source": [
"s = 11e06 ; // allowable tensile stress in pa\n",
"t = 1.2e06 ; // allowable shear stress in pa\n",
"b = 0.1 ; // Width of cross section in m\n",
"h = 0.15 ; // Height of cross section in m\n",
"a = 0.5 ; // in m\n",
"P_bending = (s*b*h^2)/(6*a); // Bending stress in N\n",
"P_shear = (2*t*b*h)/3;  // shear stress in N\n",
"Pmax = P_bending; // Because bending stress governs the design\n",
"disp('N',Pmax,'the maximum permissible value Pmax of the loads')"
   ]
   }
,
{
		   "cell_type": "markdown",
		   "metadata": {},
		   "source": [
			"## Example 5.13: EX5_13.sce"
		   ]
		  },
  {
"cell_type": "code",
	   "execution_count": null,
	   "metadata": {
	    "collapsed": true
	   },
	   "outputs": [],
"source": [
"d2 = 4; // Outer diameter in inch\n",
"d1 = 3.2; // Inner diameter in inch\n",
"r2 = d2/2; // Outer radius in inch\n",
"r1 = d1/2; // inner radius in inch\n",
"P = 1500 ; // Horizontal force in lb\n",
"// Part (a)\n",
"t_max = ((r2^2+(r2*r1)+r1^2)*4*P)/(3*%pi*((r2^4)-(r1^4))) ; // Mximum shear stress in Psi\n",
"disp('psi',t_max,'Maximum shear stress in the pole is')\n",
"// Part (b)\n",
"d0 = sqrt((16*P)/(3*%pi*t_max)) ; // Diameter of solid circular cross section in meter\n",
"disp('m',d0,'Diameter of solid circular cross section is ')"
   ]
   }
,
{
		   "cell_type": "markdown",
		   "metadata": {},
		   "source": [
			"## Example 5.14: EX5_14.sce"
		   ]
		  },
  {
"cell_type": "code",
	   "execution_count": null,
	   "metadata": {
	    "collapsed": true
	   },
	   "outputs": [],
"source": [
"b = 0.165 ; // in m\n",
"h = 0.320 ; // in m\n",
"h1 = 0.290 ; // in m\n",
"t = 0.0075; //  in m\n",
"V = 45000; // Vertical force in N\n",
"I = (1/12)*((b*(h^3))-(b*(h1^3))+(t*(h1^3))) // Moment of inertia of the cros section\n",
"t_max = (V/(8*I*t))*((b*(h^2))-(b*(h1^2))+(t*(h1^2))); // Maximum shear stress in Pa\n",
"t_min = ((V*b)/(8*I*t))*(h^2-h1^2); // Minimum shear stress in Pa\n",
"T = ((t*h1)/3)*(2*t_max + t_min); // Total shear force in Pa\n",
"t_avg = V/(t*h1) ; // Average shear stress in Pa\n",
"disp('Pa',t_max,'Maximum shear stress in the web is')\n",
"disp('Pa',t_min,'Minimum shear stress in the web is')\n",
"disp('Pa',T,'Total shear stress in the web is')"
   ]
   }
,
{
		   "cell_type": "markdown",
		   "metadata": {},
		   "source": [
			"## Example 5.15: EX5_15.sce"
		   ]
		  },
  {
"cell_type": "code",
	   "execution_count": null,
	   "metadata": {
	    "collapsed": true
	   },
	   "outputs": [],
"source": [
"V = 10000; // Vertical shear force in lb\n",
"b = 4; // in inch\n",
"t = 1; // in inch\n",
"h = 8; // in inch\n",
"h1 = 7; // in inch\n",
"A = b*(h-h1) + t*h1 ;// Area of cross section \n",
"Qaa = ((h+h1)/2)*b*(h-h1) + (h1/2)*(t*h1); // First moment of cross section\n",
"c2 = Qaa/A ; // Position of neutral axis in inch\n",
"c1 = h-c2 ; // Position of neutral axis in inch\n",
"Iaa = (b*h^3)/3 - ((b-t)*h1^3)/3 ; // Moment of inertia about the line aa\n",
"I = Iaa - A*c2^2 // Moment of inertia of crosssection\n",
"Q1 = b*(h-h1)*(c1-((h-h1)/2)) ; // First moment of area above the line nn\n",
"t1 = (V*Q1)/(I*t)  // Shear stress at the top of web in Psi\n",
"Qmax = (t*c2)*(c2/2); // Maximum first moment of inertia below neutral axis\n",
"t_max = (V*Qmax)/(I*t);  // Maximum Shear stress in Psi\n",
"disp('psi',t1,'Shear stress at the top of the web is')\n",
"disp('Psi',t_max,'Maximum Shear stress in the web is')\n",
"\n",
" "
   ]
   }
,
{
		   "cell_type": "markdown",
		   "metadata": {},
		   "source": [
			"## Example 5.16: determination_of_the_maximum_permissible_longitudinal_spacing_of_the_screws.sce"
		   ]
		  },
  {
"cell_type": "code",
	   "execution_count": null,
	   "metadata": {
	    "collapsed": true
	   },
	   "outputs": [],
"source": [
"Af = 40*180; // Area of flange in mm2\n",
"V = 10500 ; // Shear force acting on cross section\n",
"F = 800 ; // Allowable load in shear\n",
"df = 120 ; // Distance between centroid of flange and neutral axis in mm\n",
"Q = Af*df ; // First moment of cross section of flange\n",
"I = (1/12)*(210*280^3) - (1/12)*(180*200^3) ; // Moment of inertia of entire cross section in mm4\n",
"f = (V*Q)/I; // Shear flow\n",
"s = (2*F)/f  // Spacing between the screw\n",
"disp('mm',s,'The maximum permissible longitudinal spacing s of the screws is')"
   ]
   }
,
{
		   "cell_type": "markdown",
		   "metadata": {},
		   "source": [
			"## Example 5.17: EX5_17.sce"
		   ]
		  },
  {
"cell_type": "code",
	   "execution_count": null,
	   "metadata": {
	    "collapsed": true
	   },
	   "outputs": [],
"source": [
"L = 60 ; // Length of beam in inch\n",
"d = 5.5 ; // distance from the point of application of the load P to the longitudinal axis of the tube in inch\n",
"b = 6 ; // Outer dimension of tube in inch\n",
"A = 20 ; // Area of cross section of tube in inch\n",
"I = 86.67 ; // Moment of inertia in in4\n",
"P = 1000; // in lb\n",
"theta = 60 ; // in degree\n",
"Ph = P*sind(60); // Horizontal component\n",
"Pv = P*cosd(60); // Vertical component\n",
"M0 = Ph*d ; // Moment in lb-in\n",
"y = -3 ; // Point at which maximum tensile stress occur in inch\n",
"N = Ph ; // Axial force\n",
"M = 9870 ; // Moment in lb-in\n",
"st_max = (N/A)-((M*y)/I) ; // Maximum tensile stress in Psi\n",
"yc = 3 ; // in inch\n",
"M1 = 5110 ; // moment in lb-in\n",
"sc_left = (N/A)-((M*yc)/I) ; // Stress at the left of point C in Psi\n",
"sc_right = -(M1*yc)/I ; // Stress at the right of point C in Psi\n",
"sc_max = min(sc_left,sc_right) ; // Because both are negative quantities\n",
"disp('psi',sc_max,'The maximum compressive stress in the beam is')\n",
"disp('psi',st_max,'The maximum tensile stress in the beam is')"
   ]
   }
,
{
		   "cell_type": "markdown",
		   "metadata": {},
		   "source": [
			"## Example 5.1: Determination_of_radius_of_curvature_and_deflection_in_a_simply_supported_beam.sce"
		   ]
		  },
  {
"cell_type": "code",
	   "execution_count": null,
	   "metadata": {
	    "collapsed": true
	   },
	   "outputs": [],
"source": [
"L = 8 ; // length of beam in ft\n",
"h = 6 ; // Height of beam in inch\n",
"e = 0.00125 ; // elongation on the bottom surface of the beam\n",
"y = -3 ; // Distance of the bottom surface to the neutral surface of the beam in inch\n",
"r = -(y/e) ; // Radius of curvature\n",
"disp('ft',r,'radius of curvature is')\n",
"k = 1/r ; // curvature in in-1\n",
"disp('ft-1',k,'curvature')\n",
"theta = asind((L*12)/(2*r)) ; // angle in degree\n",
"disp('degree',theta,'Angle of twist')\n",
"del = r*(1-cosd(theta)); //Deflection in inch\n",
"\n",
"\n",
""
   ]
   }
,
{
		   "cell_type": "markdown",
		   "metadata": {},
		   "source": [
			"## Example 5.2: EX5_2.sce"
		   ]
		  },
  {
"cell_type": "code",
	   "execution_count": null,
	   "metadata": {
	    "collapsed": true
	   },
	   "outputs": [],
"source": [
"d = 0.004 ; // thickness of wire in m\n",
"R0 = 0.5 ; // radius of cylinder in m\n",
"E = 200e09 ; // Modulus of elasticity of steel\n",
"s = 1200e06 ; // proportional limit of steel\n",
"M = (%pi*E*d^4)/(32*(2*R0+d)) ; // Bending moment in wire in N-m\n",
"disp('N-m',M,'Bending moment in the wire is ')\n",
"s_max = (E*d)/(2*R0+d) ; // Maximum bending stress in wire in Pa\n",
"disp('Pa',s_max,'Maximum bending stress in the wire is ')"
   ]
   }
,
{
		   "cell_type": "markdown",
		   "metadata": {},
		   "source": [
			"## Example 5.3: EX5_3.sce"
		   ]
		  },
  {
"cell_type": "code",
	   "execution_count": null,
	   "metadata": {
	    "collapsed": true
	   },
	   "outputs": [],
"source": [
"L = 22 ; // Span of beam in ft\n",
"q = 1.5; // Uniform load intensity in k/ft\n",
"P = 12 ; // Concentrated in k\n",
"b = 8.75 ; // width of cross section of beam in inch\n",
"h = 27 ; // height of cross section of beam in inch\n",
"Ra = 23.59; // Reaction at point A\n",
"Rb = 21.41; // Reacyion at point B\n",
"Mmax = 151.6 ; // Maximum bending moment\n",
"S = (b*h^2)/6 ; // Section modulus\n",
"s = (Mmax*12)/S  // stress in k\n",
"st = s*1000 ; // Tensile stress\n",
"disp('psi',st,'Maximum tensile stress in the beam')\n",
"sc = -s*1000 ; // Compressive stress\n",
"disp('psi',sc,'Maximum compressive stress in the beam')"
   ]
   }
,
{
		   "cell_type": "markdown",
		   "metadata": {},
		   "source": [
			"## Example 5.4: EX5_4.sce"
		   ]
		  },
  {
"cell_type": "code",
	   "execution_count": null,
	   "metadata": {
	    "collapsed": true
	   },
	   "outputs": [],
"source": [
"q = 3200 ; // Uniform load intensity in N/m\n",
"b = 0.3; // width of beam in m\n",
"h = 0.08 ; // Height of the beam in m\n",
"t = 0.012 ; // thickness of beam in m\n",
"Ra = 3600 ; // Reaction at A in N\n",
"Rb = 10800 ; // Reaction at B in N\n",
"Mpos = 2025 ; // Moment in Nm\n",
"Mneg = -3600 ; // Moment in Nm\n",
"y1 = t/2;\n",
"A1 = (b-2*t)*t ; \n",
"y2 = h/2;\n",
"A2 = h*t ; \n",
"A3 = A2 ; \n",
"c1 = ((y1*A1)+(2*y2*A2))/((A1)+(2*A2));\n",
"c2 = h - c1 ;\n",
"Ic1 = (b-2*t)*(t^3)*(1/12);\n",
"d1 = c1-(t/2);\n",
"Iz1 = (Ic1)+(A1*(d1^2));\n",
"Iz2 = 956600e-12;\n",
"Iz3 = Iz2 ;\n",
"Iz = Iz1 + Iz2 + Iz3 ; // Moment of inertia of the beam cross section\n",
"// Section Modulli\n",
"S1 = Iz / c1 ; // for the top surface\n",
"S2 = Iz / c2 ; // for the bottom surface\n",
"// Maximum stresses for the positive section\n",
"st = Mpos / S2 ;\n",
"disp('Pa',st,'Maximum tensile stress in the beam in positive section is')\n",
"sc = -Mpos / S1 ;\n",
"disp('Pa',sc,'Maximum compressive stress in the beam in positive section is')\n",
"// Maximum stresses for the negative section\n",
"snt = -Mneg / S1 ;\n",
"disp('Pa',snt,'Maximum tensile stress in the beam in negative section is')\n",
"snc = Mneg / S2 ;\n",
"disp('Pa',snc,'Maximum compressive stress in the beam in negative section is')\n",
"// Conclusion\n",
"st_max = st;\n",
"sc_max = snc ;"
   ]
   }
,
{
		   "cell_type": "markdown",
		   "metadata": {},
		   "source": [
			"## Example 5.5: Selection_of_the_suitable_size_for_the_beam.sce"
		   ]
		  },
  {
"cell_type": "code",
	   "execution_count": null,
	   "metadata": {
	    "collapsed": true
	   },
	   "outputs": [],
"source": [
"L = 12 ; // Length of beam in ft\n",
"q = 420 ; // Uniform load intensity in lb/ft\n",
"s = 1800 ; // Allowable bending stress in psi\n",
"w = 35 ; // weight of wood in lb/ft3\n",
"M = (q*L^2*12)/8 ; // Bending moment in lb-in\n",
"S = M/s ; // Section Modulli in in3\n",
"// From Appendix F\n",
"q1 = 426.8; // New uniform load intensity in lb/ft\n",
"S1 = S*(q1/q); // New section modulli in in3\n",
"// From reference to appendix F, a beam of cross section 3*12 inch is selected\n",
"disp('Beam of crosssection 3*12 is sufficient')"
   ]
   }
,
{
		   "cell_type": "markdown",
		   "metadata": {},
		   "source": [
			"## Example 5.6: Calculation_of_minimum_required_diameter_in_the_wood_and_alluminium_rod.sce"
		   ]
		  },
  {
"cell_type": "code",
	   "execution_count": null,
	   "metadata": {
	    "collapsed": true
	   },
	   "outputs": [],
"source": [
"P = 12000; // Lataeral load at the upper end in N\n",
"h = 2.5 ; // Height of post in m\n",
"Mmax = P*h ; // Maximum bending moment in Nm\n",
"// Part (a) : Wood Post\n",
"s1 = 15e06 ; // Maximum allowable stress in Pa\n",
"S1 = Mmax/s1 ;// Section Modulli in m3\n",
"d1 = ((32*S1)/%pi)^(1/3); // diameter in m\n",
"disp('m',d1,'the minimum required diameter d1 of the wood post is')\n",
"// Part (b) : Alluminium tube\n",
"s2 = 50e06 ; // Maximum allowable stress in Pa\n",
"S2 = Mmax/s2; // Section Modulli in m3\n",
"d2 = (S2/0.06712)^(1/3); // diameter in meter.....(1) \n",
"// Here equation (1) , comes from solving following three equation \n",
"// c = d2/2 (radius of tube)\n",
"// I2 = (%pi/64)*((d2^4)-((0.75*d2)^4)) (Moment of inertia)\n",
"// S2 = I2/c ;\n",
"disp('m',d2,'minimum required outer diameter d2 of the aluminum tube is')"
   ]
   }
,
{
		   "cell_type": "markdown",
		   "metadata": {},
		   "source": [
			"## Example 5.7: Selection_of_the_steel_beam.sce"
		   ]
		  },
  {
"cell_type": "code",
	   "execution_count": null,
	   "metadata": {
	    "collapsed": true
	   },
	   "outputs": [],
"source": [
"q = 2000 ; // Uniform load intensity in lb/ft\n",
"s = 18000 ; // Maximum allowable load in Psi\n",
"Ra = 18860 ; // Reaction at point  A\n",
"Rb = 17140 ; // Reaction at point  B\n",
"x1 = Ra/q ; // Distance in ft from left end to the point of zero shear\n",
"Mmax = (Ra*x1)-((q*(x1^2))/2) ; // Maximum bending moment in lb-ft\n",
"S = (Mmax*12)/s; // Section Modulli in in3\n",
"// Trial Beam\n",
"Ra_t = 19380 ; // Reaction at point  A\n",
"Rb_t = 17670 ; // Reaction at point  B\n",
"x1_t = Ra_t/q ; // Distance in ft from left end to the point of zero shear\n",
"Mmax_t = (Ra_t*x1_t)-((q*(x1_t^2))/2) ; // Maximum bending moment in lb-ft\n",
"S_t = (Mmax_t*12)/s; // Section Modulli in in3\n",
"// From table E beam 12*50 is selected \n",
"disp('in3',S_t,'Beam of crosssection 12*50 is selected with section modulli')"
   ]
   }
,
{
		   "cell_type": "markdown",
		   "metadata": {},
		   "source": [
			"## Example 5.8: Determination_of_the_minimum_required_dimension_b_of_the_posts.sce"
		   ]
		  },
  {
"cell_type": "code",
	   "execution_count": null,
	   "metadata": {
	    "collapsed": true
	   },
	   "outputs": [],
"source": [
"g = 9810 ; // Specific weight of water in N/m3\n",
"h = 2; // Height of dam in m\n",
"s = 0.8 ; // Distance between square cross section in m\n",
"sa = 8e06 ; // Maximum allowable stress in Pa\n",
"b = ((g*(h^3)*s)/sa)^(1/3) ; // Dimension of croossection in m\n",
"disp('m',b,'the minimum required dimension b of the posts')"
   ]
   }
],
"metadata": {
		  "kernelspec": {
		   "display_name": "Scilab",
		   "language": "scilab",
		   "name": "scilab"
		  },
		  "language_info": {
		   "file_extension": ".sce",
		   "help_links": [
			{
			 "text": "MetaKernel Magics",
			 "url": "https://github.com/calysto/metakernel/blob/master/metakernel/magics/README.md"
			}
		   ],
		   "mimetype": "text/x-octave",
		   "name": "scilab",
		   "version": "0.7.1"
		  }
		 },
		 "nbformat": 4,
		 "nbformat_minor": 0
}
