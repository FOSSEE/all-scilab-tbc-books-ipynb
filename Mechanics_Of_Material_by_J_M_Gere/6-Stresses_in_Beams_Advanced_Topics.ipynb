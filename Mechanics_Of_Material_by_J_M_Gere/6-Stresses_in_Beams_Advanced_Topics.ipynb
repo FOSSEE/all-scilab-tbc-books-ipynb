{
"cells": [
 {
		   "cell_type": "markdown",
	   "metadata": {},
	   "source": [
       "# Chapter 6: Stresses in Beams Advanced Topics"
	   ]
	},
{
		   "cell_type": "markdown",
		   "metadata": {},
		   "source": [
			"## Example 6.1: Calculation_of_stresses_in_wood_and_steel.sce"
		   ]
		  },
  {
"cell_type": "code",
	   "execution_count": null,
	   "metadata": {
	    "collapsed": true
	   },
	   "outputs": [],
"source": [
"// 4*6 inch wood beam dimension\n",
"// 4*0.5 inch steel beam dimension\n",
"M = 60 ; // Moment in k-in\n",
"E1 = 1500 ; // in Ksi\n",
"E2 = 30000; // in Ksi\n",
"h1 = 5.031 ; // Distance between top surface and neutral axis of the beam in inch by solving 1500*(h1-3)*24 + 30000*(h1-6.25)*2 = 0\n",
"h2 = 6.5 - h1 ;\n",
"I1 = (1/12)*(4*6^3) + (4*6)*(h1-3)^2 ; // Momeny of inertia of the wooden cross section\n",
"I2 = (1/12)*(4*0.5^3) + (4*0.5)*(h2-0.25)^2 ; // Momeny of inertia of the steel cross section\n",
"I = I1 + I2 ; // Moment of inertia of whole cross section\n",
"// Material 1\n",
"s1a = -(M*h1*E1)/((E1*I1)+(E2*I2)) ; // Maximum compressive stress in ksi where y = h1\n",
"s1c = -(M*(-(h2-0.5))*E1)/((E1*I1)+(E2*I2)) ; // Maximum tensile stress in ksi where y = -(h2-0.5)\n",
"disp('ksi',s1a,' Maximum compressive stress in wood is')\n",
"disp('ksi',s1c,' Maximum tensile stress in wood is')\n",
"// Material 2\n",
"s2a = -(M*(-h2)*E2)/((E1*I1)+(E2*I2));  // Maximum tensile stress in ksi where y = -h2\n",
"s2c = -(M*(-(h2-0.5))*E2)/((E1*I1)+(E2*I2));  // Minimum tensile stress in ksi where y = -(h2-0.5)\n",
"disp('ksi',s2a,' Maximum tensile stress in steel is')\n",
"disp('ksi',s2c,' Minimum tensile stress in steel is')"
   ]
   }
,
{
		   "cell_type": "markdown",
		   "metadata": {},
		   "source": [
			"## Example 6.2: EX6_2.sce"
		   ]
		  },
  {
"cell_type": "code",
	   "execution_count": null,
	   "metadata": {
	    "collapsed": true
	   },
	   "outputs": [],
"source": [
"M = 3000 ; // moment in N-m\n",
"t = 0.005 ; // thickness of alluminiun in m\n",
"E1 = 72e09 ; // Modulus of elasticity of alluminium in Pa\n",
"E2 = 800e06 ; // Modulus of elasticity of Plastic core in Pa\n",
"b = 0.2 ; // Width of cross section in m\n",
"h = 0.160 ; // Height of cross section in m\n",
"hc = 0.150 ; // Height of Plastic core cross section in m\n",
"I1 = (b/12)*(h^3 - hc^3) ; // Moment of inertia of alluminium cross section\n",
"I2 = (b/12)*(hc^3) ; // Moment of inertia of Plastic core cross section\n",
"f = (E1*I1) + (E2*I2) ; // Flexural rigidity of the cross section\n",
"s1_max = (M*(h/2)*E1)/f ;\n",
"s1c = -s1_max ; // Maximum compressive stress in alluminium core in Pa\n",
"s1t = s1_max ;  // Maximum tensile stress in alluminium core in Pa\n",
"disp('Pa',s1c,' Maximum compressive stress on alluminium face by the general theory for composite beams is')\n",
"disp('Pa',s1t,' Maximum tensile stress on alluminium face by the general theory for composite beams is')\n",
"s2_max = (M*(hc/2)*E2)/f ;\n",
"s2c = -s2_max ; // Maximum compressive stress in Plastic core in Pa\n",
"s2t = s2_max ;  // Maximum tensile stress in Plastic core in Pa\n",
"disp('Pa',s2c,' Maximum compressive stress in plastic core by the general theory for composite beams is')\n",
"disp('Pa',s2t,' Maximum tensile stress in plastic core by the general theory for composite beams is')\n",
"// Part (b) : Calculation from approximate theory of sandwitch\n",
"s1_max1 = (M*h)/(2*I1) ;\n",
"s1c1 = -s1_max1 ; // Maximum compressive stress in alluminium core in Pa\n",
"s1t1 = s1_max1 ;  // Maximum tensile stress in alluminium core in Pa\n",
"disp('Pa',s1c1,' Maximum compressive stress on alluminium core by approximate theory of sandwitch is')\n",
"disp('Pa',s1t1,' Maximum tensile stress on alluminium core by approximate theory of sandwitch is')"
   ]
   }
,
{
		   "cell_type": "markdown",
		   "metadata": {},
		   "source": [
			"## Example 6.3: Calculation_of_stresses_in_wood_and_steel.sce"
		   ]
		  },
  {
"cell_type": "code",
	   "execution_count": null,
	   "metadata": {
	    "collapsed": true
	   },
	   "outputs": [],
"source": [
"// 4*6 inch wood beam dimension\n",
"// 4*0.5 inch steel beam dimension\n",
"M = 60 ; // Moment in k-in\n",
"E1 = 1500 ; // in Ksi\n",
"E2 = 30000; // in Ksi\n",
"b = 4; // width of crosssection in inch\n",
"// Transformed Section\n",
"n = E2/E1 ; // Modular ratio\n",
"b1 = n*4 ; // Increased width of transformed cross section\n",
"// Neutral axis\n",
"h1 = ((3*4*6)+(80*0.5*6.25))/((4*6)+(80*0.5)); // Distance between top surface and neutral axis of the beam in inch\n",
"h2 = 6.5 - h1 ; // in inch\n",
"// Moment of inertia\n",
"It = (1/12)*(4*6^3) + (4*6)*(h1-3)^2 + (1/12)*(80*0.5^3) + (80*0.5)*(h2-0.25)^2 ; // Moment of inertia of transformed cross section\n",
"// Material 1\n",
"s1a = -(M*h1)/It;  // Maximum tensile stress in ksi where y = h1\n",
"s1c = -(M*(-(h2-0.5)))/It;  // Maximum compressive stress in ksi where y = -(h2-0.5)\n",
"disp('psi',s1a*1000,'Maximum tensile stress in wood is')\n",
"disp('psi',s1c*1000,'Maximum compressive stress in wood is')\n",
"// Material 2\n",
"s2a = -(M*(-h2)*n)/It ; // Maximum tensile stress in ksi where y = -h2\n",
"s2c = -(M*(-(h2-0.5)*n))/It ; // Minimum tensile stress in ksi where y = -(h2-0.5)\n",
"disp('psi',s2a*1000,' Maximum tensile stress in steel')\n",
"disp('psi',s2c*1000,' Minimum tensile stress in steel')"
   ]
   }
,
{
		   "cell_type": "markdown",
		   "metadata": {},
		   "source": [
			"## Example 6.4: EX6_4.sce"
		   ]
		  },
  {
"cell_type": "code",
	   "execution_count": null,
	   "metadata": {
	    "collapsed": true
	   },
	   "outputs": [],
"source": [
"q = 3000 ; // Uniform load intensity in N/m\n",
"a = 26.57 ; // tilt of the beam in degree\n",
"b = 0.1; // width of the beam\n",
"h = 0.15; // height of the beam\n",
"L = 1.6 ; // Span of the beam\n",
"qy = q*cosd(a) ; // Component of q in y direction\n",
"qz = q*sind(a) ; // Component of q in z direction\n",
"My = (qz*L^2)/8 ; // Maximum bending moment in y direction\n",
"Mz = (qy*L^2)/8 ; // Maximum bending moment in z direction\n",
"Iy = (h*b^3)/12; // Moment of inertia along y\n",
"Iz = (b*h^3)/12; // Moment of inertia alon z\n",
"s = ((3*q*L^2)/(4*b*h))*((sind(a)/b)+(cosd(a)/h));\n",
"sc = -s ; // Maximum compressive stress\n",
"st = s; // Maximum tensile stress\n",
"disp('Pa',sc,'Maximum compressive stress in the beam is')\n",
"disp('Pa',st,'Maximum tensile stress in the beam is')\n",
"// Neutral axis\n",
"l = (h/b)^2;\n",
"t = sind(a)/cosd(a);\n",
"j = l*(sind(a)/cosd(a));\n",
"be = atand(j);  // Inclination of Neutral axis to z axis\n",
"disp('degree',be,'Inclination of Neutral axis to z axis is')"
   ]
   }
,
{
		   "cell_type": "markdown",
		   "metadata": {},
		   "source": [
			"## Example 6.5: Determination_of_the_maximum_bending_stresses_in_the_beam.sce"
		   ]
		  },
  {
"cell_type": "code",
	   "execution_count": null,
	   "metadata": {
	    "collapsed": true
	   },
	   "outputs": [],
"source": [
"L = 12 ; // Length of the beam in ft\n",
"P = 10 ; // Load in k acting in vertical direction\n",
"//Part (a)\n",
"h = 24 ; // Height of beam in inch\n",
"Iz = 2100 ; // Moment of inertia along z axis in in4\n",
"Iy = 42.2 ; // Moment of inertia along y axis in in4\n",
"s_max = (P*(h/2)*L*12)/Iz ; // Maximum stress in Ksi\n",
"disp('psi',s_max*1000,'Maximum tensile stress in the beam at the top of the beam')\n",
"disp('psi',-s_max*1000,'Maximum compressive stress in the beam at the bottom of the beam')\n",
"//Part (b)\n",
"a = 1 ; // Angle between y axis and the load\n",
"My = -(P*sind(a))*L*12 ; // Moment along y-axis in K-in\n",
"Mz = -(P*cosd(a))*L*12 ; // Moment along z-axis in K-in\n",
"ba = atand((My*Iz)/(Mz*Iy)); // Orientation of neutral axis\n",
"z = -3.5; y = 12 ; // Coordinates of the point A and B where maximum stress occur\n",
"s = ((My*z)/Iy)-((Mz*y)/Iz) ; // Stress in Ksi\n",
"sa = s ; // Tensile stress at A\n",
"sb = -s ; // Compressive stress in B\n",
"disp('psi',sa*1000,'The tensile stress at A is')\n",
"disp('psi',sb*1000,'The compressive stress at B is')\n",
"\n",
"\n",
"\n",
"\n",
""
   ]
   }
,
{
		   "cell_type": "markdown",
		   "metadata": {},
		   "source": [
			"## Example 6.6: Calculation_of_the_bending_stresses_and_location_of_neutral_axis.sce"
		   ]
		  },
  {
"cell_type": "code",
	   "execution_count": null,
	   "metadata": {
	    "collapsed": true
	   },
	   "outputs": [],
"source": [
"M = 15 ; // Bending moment in k-in\n",
"t = 10 ; // Angle between line of action of moment and z-axis\n",
"// Properties of cross section\n",
"c = 0.634 ; // Location of centroid on the axis of symmetry\n",
"Iy = 2.28; // Moment of inertia in y-direction in in4\n",
"Iz = 67.4; // Moment of inertia in z-direction in in4\n",
"ya = 5 ; za = -2.6+0.634 ; // Coordinates of point A\n",
"yb = -5 ; zb = 0.634 ; // Coordinates of point B\n",
"My = M*sind(t); // Moment along y-axis\n",
"Mz = M*cosd(t); // Moment along z-axis\n",
"sa = ((My*za)/Iy)-((Mz*ya)/Iz) ; // Bending stress at point A in ksi\n",
"sb = ((My*zb)/Iy)-((Mz*yb)/Iz) ; // Bending stress at point B in ksi\n",
"disp('psi',sa*1000,'The bending stress at point A is')\n",
"disp('psi',sb*1000,'The bending stress at point B is')\n",
"// Neutral axis\n",
"j = (Iz/Iy)*(sind(t)/cosd(t)); \n",
"be = atand(j); // Inclination of neutral axis to z-axis in degree\n",
"disp('degree',be,'Inclination of neutral axis to z-axis is')\n",
"\n",
" "
   ]
   }
,
{
		   "cell_type": "markdown",
		   "metadata": {},
		   "source": [
			"## Example 6.9: Determination_of_the_magnitude_of_the_moment.sce"
		   ]
		  },
  {
"cell_type": "code",
	   "execution_count": null,
	   "metadata": {
	    "collapsed": true
	   },
	   "outputs": [],
"source": [
"b = 5 ; // in inch\n",
"b1 = 4 ; // in inch\n",
"h = 9 ; // in inch\n",
"h1 = 7.5 ; // in inch\n",
"sy = 33 ; // stress along y axis in ksi\n",
"M = (sy/12)*((3*b*h^2)-(b+(2*b1))*(h1^2)) ; // Bending moment acting in k-in\n",
"disp('k-in',M,'the magnitude of the moment M is')"
   ]
   }
],
"metadata": {
		  "kernelspec": {
		   "display_name": "Scilab",
		   "language": "scilab",
		   "name": "scilab"
		  },
		  "language_info": {
		   "file_extension": ".sce",
		   "help_links": [
			{
			 "text": "MetaKernel Magics",
			 "url": "https://github.com/calysto/metakernel/blob/master/metakernel/magics/README.md"
			}
		   ],
		   "mimetype": "text/x-octave",
		   "name": "scilab",
		   "version": "0.7.1"
		  }
		 },
		 "nbformat": 4,
		 "nbformat_minor": 0
}
