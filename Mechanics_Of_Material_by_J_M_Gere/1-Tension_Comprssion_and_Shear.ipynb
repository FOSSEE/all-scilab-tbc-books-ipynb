{
"cells": [
 {
		   "cell_type": "markdown",
	   "metadata": {},
	   "source": [
       "# Chapter 1: Tension Comprssion and Shear"
	   ]
	},
{
		   "cell_type": "markdown",
		   "metadata": {},
		   "source": [
			"## Example 1.1: Determine_the_compressive_stress_and_strain_in_the_post.sce"
		   ]
		  },
  {
"cell_type": "code",
	   "execution_count": null,
	   "metadata": {
	    "collapsed": true
	   },
	   "outputs": [],
"source": [
"d_1 = 4 ; // inner diameter (inch)\n",
"d_2 = 4.5 ; //outer diameter (inch)\n",
"P = 26000 ; // pressure in pound\n",
"L = 16; // Length of cylinder (inch)\n",
"del = 0.012 ; // shortening of post (inch)\n",
"A = (%pi/4)*((d_2^2)-(d_1^2))  //Area (inch ^2)\n",
"s = P/A;  // stress\n",
"disp('psi',s,'compressive stress in the post is')\n",
"e = del / L;  // strain\n",
"disp(e,'compressive strain in the post is')"
   ]
   }
,
{
		   "cell_type": "markdown",
		   "metadata": {},
		   "source": [
			"## Example 1.2: Calculation_of_maximum_stress.sce"
		   ]
		  },
  {
"cell_type": "code",
	   "execution_count": null,
	   "metadata": {
	    "collapsed": true
	   },
	   "outputs": [],
"source": [
"W = 1500; // weight (Newton)\n",
"d = 0.008 ; //diameter(meter) \n",
"g = 77000; // Weight density of steel\n",
"L = 40 ; // Length of bar (m)\n",
"A = (%pi/4)*(d^2) // Area\n",
"s_max = (1500/A) + (g*L) // maximum stress\n",
"disp('Pa',s_max,'Therefore the maximum stress in the rod is')"
   ]
   }
,
{
		   "cell_type": "markdown",
		   "metadata": {},
		   "source": [
			"## Example 1.3: Determination_of_various_structural_properties_of_the_pipe.sce"
		   ]
		  },
  {
"cell_type": "code",
	   "execution_count": null,
	   "metadata": {
	    "collapsed": true
	   },
	   "outputs": [],
"source": [
"d1 = 4.5; // diameter in inch\n",
"d2 = 6 ; // diameter in inch\n",
"A = (%pi/4)*((d2^2)-(d1^2)) // Area\n",
"P = 140 ; // pressure in K\n",
"s = -P/A ; // stress (compression)\n",
"E = 30000 ; // young's modulus in Ksi\n",
"e = s/E ; // strain\n",
"// Part (a)\n",
"del = e*4*12  // del = e*L ;\n",
"disp(del,'Change in length of the pipe is')\n",
"// Part (b)\n",
"v = 0.30; // Poissio's ratio\n",
"e_ = -(v*e)\n",
"disp(e_,'Lateral strain in the pipe is')\n",
"// Part (c)\n",
"del_d2 = e_*d2 ;\n",
"del_d1 = e_*d1;\n",
"disp('inch',del_d1,'Increase in the inner diameter is ')\n",
"// Part (d)\n",
"t = 0.75;\n",
"del_t = e_*t ;\n",
"disp('inch',del_t,'Increase in the wall thicness is')\n",
"del_t1 = (del_d2-del_d1)/2 ;\n",
"disp('del_t1 = del_t')\n",
"\n",
"\n",
""
   ]
   }
,
{
		   "cell_type": "markdown",
		   "metadata": {},
		   "source": [
			"## Example 1.4: Calculation_of_average_shear_and_compressive_stress_in_a_punch.sce"
		   ]
		  },
  {
"cell_type": "code",
	   "execution_count": null,
	   "metadata": {
	    "collapsed": true
	   },
	   "outputs": [],
"source": [
"d = 0.02 ; // diameter in m\n",
"t = 0.008 ; // thickness in m\n",
"A = %pi*d*t ; // shear area\n",
"P = 110000 ; // prassure in Newton\n",
"A1 = (%pi/4)*(d^2); // Punch area\n",
"t_aver = P/A ; // Average shear stress \n",
"disp('Pa',t_aver,'Average shear stress in the plate is ')\n",
"s_c = P/A1 ; // compressive stress\n",
"disp('Pa',s_c,'Average compressive stress in the plate is ')"
   ]
   }
,
{
		   "cell_type": "markdown",
		   "metadata": {},
		   "source": [
			"## Example 1.5: Determination_of_various_structural_properties_of_the_pin.sce"
		   ]
		  },
  {
"cell_type": "code",
	   "execution_count": null,
	   "metadata": {
	    "collapsed": true
	   },
	   "outputs": [],
"source": [
"P = 12; // Pressure in K\n",
"t = 0.375 ; // thickness of wall in inch\n",
"theta = 40 ; // angle in degree\n",
"d_pin = 0.75 ; // diameter of pin in inch\n",
"t_G = 0.625 ; // thickness of gusset in inch\n",
"t_B = 0.375 ; //thickness of base plate in inch\n",
"d_b = 0.50 ; // diameter of bolt in inch\n",
"//Part (a)\n",
"s_b1 = P/(2*t*d_pin); // bearing stress\n",
"disp('ksi',s_b1,'Bearing stress between strut and pin')\n",
"//Part (b)\n",
"t_pin = (4*P)/(2*%pi*(d_pin^2));  // average shear stress in the \n",
"disp('ksi',t_pin,'Shear stress in pin is ')\n",
"// Part (c)\n",
"s_b2 = P/(2*t_G*d_pin); // bearing stress between pin and gusset\n",
"disp('ksi',s_b2,' Bearing stress between pin and gussets is')\n",
"// Part (d)\n",
"s_b3 = (P*cosd(40))/(4*t_B*d_b); // bearing stress between anchor bolt and base plate\n",
"disp('ksi',s_b3,'Bearing stress between anchor bolts and base plate')\n",
"// Part (e)\n",
"t_bolt = (4*cosd(40)*P)/(4*%pi*(d_b^2)); // shear stress in anchor bolt\n",
"disp('ksi',t_bolt,'Shear stress in anchor bolts is')"
   ]
   }
,
{
		   "cell_type": "markdown",
		   "metadata": {},
		   "source": [
			"## Example 1.7: Determination_of_allowable_tensile_load.sce"
		   ]
		  },
  {
"cell_type": "code",
	   "execution_count": null,
	   "metadata": {
	    "collapsed": true
	   },
	   "outputs": [],
"source": [
"b1 = 1.5 ; // width of rectangular crosssection in inch\n",
"t = 0.5 ; // thickness of rectangular crosssection in inch\n",
"b2 = 3 ; // width  of enlarged rectangular crosssection in inch\n",
"d = 1 ; // diameter in inch\n",
"// Part (a)\n",
"s_1 = 16000; // maximum allowable tensile stress in Psi\n",
"P_1 = s_1*t*b1 ;\n",
"disp('lb',P_1,'The allowable load  P1 is')\n",
"// Part (b)\n",
"s_2 = 11000; // maximum allowable tensile stress in Psi\n",
"P_2 = s_2*t*(b2-d) ;\n",
"disp('lb',P_2,'allowable load P2 at this section is')\n",
"//Part (c)\n",
"s_3 = 26000; // maximum allowable tensile stress in Psi\n",
"P_3 = s_3*t*d \n",
"disp('lb',P_3,'The allowable load based upon bearing between the hanger and the bolt is')\n",
"// Part (d)\n",
"s_4 = 6500; // maximum allowable tensile stress in Psi\n",
"P_4 = (%pi/4)*(d^2)*2*s_4 ;\n",
"disp('lb',P_4,'the allowable load  P4 based upon shear in the bolt is')\n",
""
   ]
   }
,
{
		   "cell_type": "markdown",
		   "metadata": {},
		   "source": [
			"## Example 1.8: Determination_of_required_cross_section_area_of_the_bar.sce"
		   ]
		  },
  {
"cell_type": "code",
	   "execution_count": null,
	   "metadata": {
	    "collapsed": true
	   },
	   "outputs": [],
"source": [
"// Horizontal component at A in N\n",
"R_ah = (2700*0.8 + 2700*2.6)/2 ;\n",
"// Horizontal component at C in N\n",
"R_ch = R_ah ;\n",
"// vertical component at C in N\n",
"R_cv = (2700*2.2 + 2700*0.4)/3 ;\n",
"// vertical component at A in N\n",
"R_av = 2700 + 2700 - R_cv ;\n",
"R_a = sqrt((R_ah^2)+(R_av^2))\n",
"R_c = sqrt((R_ch^2)+(R_cv^2))\n",
"Fab = R_a; // Tensile force in bar AB\n",
"Vc = R_c; // Shear force acting on the pin at C\n",
"s_allow = 125000000 ; // allowable stress in tension \n",
"t_allow = 45000000; // allowable stress in shear\n",
"Aab = Fab / s_allow;  // required area of bar \n",
"Apin = Vc / (2*t_allow);  // required area of pin\n",
"disp('m2',Apin,'Required area of bar is ')\n",
"d = sqrt((4*Apin)/%pi);   // diameter in meter\n",
"disp('m',d,'Required diameter of pin is')"
   ]
   }
],
"metadata": {
		  "kernelspec": {
		   "display_name": "Scilab",
		   "language": "scilab",
		   "name": "scilab"
		  },
		  "language_info": {
		   "file_extension": ".sce",
		   "help_links": [
			{
			 "text": "MetaKernel Magics",
			 "url": "https://github.com/calysto/metakernel/blob/master/metakernel/magics/README.md"
			}
		   ],
		   "mimetype": "text/x-octave",
		   "name": "scilab",
		   "version": "0.7.1"
		  }
		 },
		 "nbformat": 4,
		 "nbformat_minor": 0
}
