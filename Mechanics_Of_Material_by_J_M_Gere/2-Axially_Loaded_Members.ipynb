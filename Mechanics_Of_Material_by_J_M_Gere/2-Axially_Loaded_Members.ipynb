{
"cells": [
 {
		   "cell_type": "markdown",
	   "metadata": {},
	   "source": [
       "# Chapter 2: Axially Loaded Members"
	   ]
	},
{
		   "cell_type": "markdown",
		   "metadata": {},
		   "source": [
			"## Example 2.10: Determination_of_state_of_stress_in_a_bar.sce"
		   ]
		  },
  {
"cell_type": "code",
	   "execution_count": null,
	   "metadata": {
	    "collapsed": true
	   },
	   "outputs": [],
"source": [
"P = 90000; //newton\n",
"A = 1200e-6 // meter^2\n",
"s_x = -P/A ; //stress\n",
"t_1 = 25; //for the stresses on ab and cd plane\n",
"s_1 = s_x*(cosd(t_1)^2);\n",
"T_1 = -s_x*cosd(t_1)*sind(t_1) ;\n",
"t_2 = -65; //for the stresses on ad and bc plane\n",
"s_2 = s_x*(cosd(t_2)^2);\n",
"T_2 = -s_x*cosd(t_2)*sind(t_2) ;\n",
"disp('MPa respecively',s_1,T_1,' The normal and shear stresses on the plane ab and cd are')\n",
"disp('MPa respecively',s_2,T_2,' The normal and shear stresses on the plane ad and bc are')"
   ]
   }
,
{
		   "cell_type": "markdown",
		   "metadata": {},
		   "source": [
			"## Example 2.11: Determination_of_minimum_width_of_the_bar.sce"
		   ]
		  },
  {
"cell_type": "code",
	   "execution_count": null,
	   "metadata": {
	    "collapsed": true
	   },
	   "outputs": [],
"source": [
"// Value of s_x based on allowable stresses on glued joint\n",
"\n",
"s_t = -750; //psi\n",
"t = -50; //degree\n",
"T_t = -500; //psi\n",
"sg_x_1 = s_t/(cosd(t)^2)\n",
"sg_x_2 = -T_t/(cosd(t)*sind(t)) \n",
"\n",
"// Value of s_x based on allowable stresses on plastic\n",
"\n",
"sp_x_1 = -1100; //psi\n",
"T_t_p =600; //psi\n",
"t_p = 45; //degree\n",
"sp_x_2 = -T_t_p/(cosd(t_p)*sind(t_p)) \n",
"\n",
"// Minimum width of bar\n",
"\n",
"P = 8000; //lb\n",
"A = P/sg_x_2;\n",
"b_min = sqrt(A)  //inch\n",
"disp('inch',b_min,'The minimum width of the bar is')"
   ]
   }
,
{
		   "cell_type": "markdown",
		   "metadata": {},
		   "source": [
			"## Example 2.15: Comparison_of_energy_absorbing_capacity_of_the_three_bolt.sce"
		   ]
		  },
  {
"cell_type": "code",
	   "execution_count": null,
	   "metadata": {
	    "collapsed": true
	   },
	   "outputs": [],
"source": [
"//Bolt with reduced shank diameter\n",
"g = 1.50; // inch\n",
"d = 0.5; //inch\n",
"t = 0.25; //inch\n",
"d_r = 0.406; //inch\n",
"L = 13.5; //inch\n",
"ratio = ( (g*(d^2)) / ( ((g-t)*(d_r^2))+(t*(d^2))) ) //U2/U1\n",
"disp(ratio,'The energy absorbing capacity of the bolts with reduced shank diameter')\n",
"// Long bolts\n",
"ratio_1 = ( (((L-t)*(d_r^2))+(t*(d^2))) / ((2*(g-t)*(d_r^2))+2*(t*(d^2))) ); //U3/2U1\n",
"disp(ratio_1,'The energy absorbing capacity of the long bolts')\n",
""
   ]
   }
,
{
		   "cell_type": "markdown",
		   "metadata": {},
		   "source": [
			"## Example 2.16: Calculation_of_maximum_elongation_and_maximum_tensile_stress_in_a_bar.sce"
		   ]
		  },
  {
"cell_type": "code",
	   "execution_count": null,
	   "metadata": {
	    "collapsed": true
	   },
	   "outputs": [],
"source": [
"// Maximum elongation\n",
"M = 20; //kg\n",
"g = 9.81; //m/s^2\n",
"L = 2; //meter\n",
"E = 210e9; //210Gpa\n",
"h = 0.15; //meter\n",
"diameter = 0.015; //milimeter\n",
"A = (%pi/4)*(diameter^2) ; //area\n",
"D_st = ((M*g*L)/(E*A)) ;\n",
"D_max = D_st*(1+(1+(2*h/D_st))^0.5) ;\n",
"D_max_1 = sqrt(2*h*D_st) // another approach to find D_max\n",
"i = D_max / D_st // Impact factor\n",
"disp('mm',D_max,'Maximum elongation is')\n",
"// Maximum tensile stress\n",
"s_max = (E*D_max)/L ; //Maximum tensile stress\n",
"s_st = (M*g)/A ;//static stress\n",
"i_1 = s_max / s_st //Impact factor \n",
"disp('Pa',s_max,'Maximum tensile stress is')"
   ]
   }
,
{
		   "cell_type": "markdown",
		   "metadata": {},
		   "source": [
			"## Example 2.18: EX2_18.sce"
		   ]
		  },
  {
"cell_type": "code",
	   "execution_count": null,
	   "metadata": {
	    "collapsed": true
	   },
	   "outputs": [],
"source": [
"P1 = 108000; //Newton\n",
"P2 = 27000; //Newton\n",
"L = 2.2; //meter\n",
"A = 480; //mm^2\n",
"\n",
"// Displacement due to load P1 acting alone\n",
"\n",
"s = (P1/A) //stress in MPa\n",
"e = (s/70000) + (1/628.2)*((s/260)^10) //strain\n",
"D_b = e*L*1e3 //elongation in mm\n",
"disp('mm',D_b,'elongation when only P1 load acting is = ')\n",
"\n",
"// Displacement due to load P2 acting alone\n",
"\n",
"s_1 = (P2/A) //stress in MPa\n",
"e_1 = (s_1/70000) + (1/628.2)*((s_1/260)^10) //strain\n",
"D_b_1 = e_1*(L/2)*1e3 //elongation in mm (no elongation in lower half)\n",
"disp('mm',D_b_1,'elongation when only P2 load acting is = ')\n",
"\n",
"// Displacement due to both load acting simontaneously\n",
"\n",
"//upper half\n",
"s_2 = (P1/A) //stress in MPa\n",
"e_2 = (s_2/70000) + (1/628.2)*((s_2/260)^10) //strain\n",
"//lower half\n",
"s_3 = (P1+P2)/A //stress in MPa\n",
"e_3 = (s_3/70000) + (1/628.2)*((s_3/260)^10) //strain\n",
"D_b_2 = ( (e_2*L)/2 + (e_3*L)/2 ) * 1e3 // elongation in mm\n",
"disp('mm',D_b_2,'elongation when P1 and P2 both loads are acting is = ')"
   ]
   }
,
{
		   "cell_type": "markdown",
		   "metadata": {},
		   "source": [
			"## Example 2.1: EX2_1.sce"
		   ]
		  },
  {
"cell_type": "code",
	   "execution_count": null,
	   "metadata": {
	    "collapsed": true
	   },
	   "outputs": [],
"source": [
"W = 2 ; //lb\n",
"b = 10.5; //inch\n",
"c = 6.4 ; //inch\n",
"k = 4.2; //inch\n",
"p = 1/16; //inch\n",
"n = (W*b)/(c*k*p); //inch\n",
"disp(n,' No. of revolution required = ')"
   ]
   }
,
{
		   "cell_type": "markdown",
		   "metadata": {},
		   "source": [
			"## Example 2.2: Calculation_of_maximum_allowable_load.sce"
		   ]
		  },
  {
"cell_type": "code",
	   "execution_count": null,
	   "metadata": {
	    "collapsed": true
	   },
	   "outputs": [],
"source": [
"Fce_ = 2; //dummy variable\n",
"Fbd_ = 3; //dummy variable\n",
"Lbd = 480; //mm\n",
"Lce = 600; //mm\n",
"E = 205e6; //205Gpa\n",
"Abd = 1020; //mm\n",
"Ace = 520; //mm\n",
"Dbd_ = (Fbd_*Lbd)/(E*Abd); //dummy variable\n",
"Dce_ = (Fce_*Lce)/(E*Ace); //dummy variable\n",
"Da = 1; //limiting value\n",
"P = ( ( ((450+225)/225)*(Dbd_ + Dce_) - Dce_ )^(-1) ) * Da ; \n",
"Fce = 2*P; // Real value in newton\n",
"Fbd = 3*P; //real value in newton\n",
"Dbd = (Fbd*Lbd)/(E*Abd); //displacement in mm\n",
"Dce = (Fce*Lce)/(E*Ace); // displacement in mm\n",
"a = atand((Da+Dce)/675) ; //alpha in degree\n",
"disp('degree',a,'alpha = ')"
   ]
   }
,
{
		   "cell_type": "markdown",
		   "metadata": {},
		   "source": [
			"## Example 2.3: Calculation_of_vertical_displacement_at_point_C.sce"
		   ]
		  },
  {
"cell_type": "code",
	   "execution_count": null,
	   "metadata": {
	    "collapsed": true
	   },
	   "outputs": [],
"source": [
"P1 = 2100; //lb\n",
"P2 = 5600; //lb\n",
"b = 25; //inch\n",
"a = 28; //inch\n",
"A1 = 0.25; //inch^2\n",
"A2 = 0.15; //inch^2\n",
"L1 = 20; //inch\n",
"L2 = 34.8; //inch\n",
"E = 29e6; //29Gpa\n",
"P3 = (P2*b)/a ;\n",
"Ra = P3-P1;\n",
"N1 = -Ra ;\n",
"N2 = P1 ;\n",
"D = ((N1*L1)/(E*A1)) + ((N2*L2)/(E*A2)) ; //displacement\n",
"disp ('inch',D,'Downward displacement is = ')"
   ]
   }
,
{
		   "cell_type": "markdown",
		   "metadata": {},
		   "source": [
			"## Example 2.6: Calculation_of_the_allowable_load.sce"
		   ]
		  },
  {
"cell_type": "code",
	   "execution_count": null,
	   "metadata": {
	    "collapsed": true
	   },
	   "outputs": [],
"source": [
"//Numerical calculation of allowable load\n",
"d1 = 4; //mm\n",
"d2 = 3; //mm\n",
"A1 = (%pi*(d1^2))/4 ; //area\n",
"A2 = (%pi*(d2^2))/4 ; //area\n",
"L1 = 0.4; //meter\n",
"L2 = 0.3; //meter\n",
"E1 = 72e9 ; //Gpa\n",
"E2 = 45e9 ; //Gpa\n",
"f1 = L1/(E1*A1) * 1e6 ; // To cpmpensate for the mm^2\n",
"f2 = L2/(E2*A2) * 1e6 ;\n",
"s1 = 200e6; //stress\n",
"s2 = 175e6; //stress\n",
"P1 = ( (s1*A1*(4*f1 + f2))/(3*f2) ) * 1e-6 // To cpmpensate for the mm^2\n",
"P2 = ( (s2*A2*(4*f1 + f2))/(6*f1) ) * 1e-6 \n",
"disp( 'Newton',P2,'Minimum allowable stress aomong the two P1 and P2 is smaller one, therefore MAS = ')"
   ]
   }
],
"metadata": {
		  "kernelspec": {
		   "display_name": "Scilab",
		   "language": "scilab",
		   "name": "scilab"
		  },
		  "language_info": {
		   "file_extension": ".sce",
		   "help_links": [
			{
			 "text": "MetaKernel Magics",
			 "url": "https://github.com/calysto/metakernel/blob/master/metakernel/magics/README.md"
			}
		   ],
		   "mimetype": "text/x-octave",
		   "name": "scilab",
		   "version": "0.7.1"
		  }
		 },
		 "nbformat": 4,
		 "nbformat_minor": 0
}
