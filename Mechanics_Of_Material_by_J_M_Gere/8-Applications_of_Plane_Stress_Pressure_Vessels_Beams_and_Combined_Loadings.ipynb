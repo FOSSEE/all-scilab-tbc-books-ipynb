{
"cells": [
 {
		   "cell_type": "markdown",
	   "metadata": {},
	   "source": [
       "# Chapter 8: Applications of Plane Stress Pressure Vessels Beams and Combined Loadings"
	   ]
	},
{
		   "cell_type": "markdown",
		   "metadata": {},
		   "source": [
			"## Example 8.1: Calculation_of_maximum_permissible_pressure_under_various_conditions.sce"
		   ]
		  },
  {
"cell_type": "code",
	   "execution_count": null,
	   "metadata": {
	    "collapsed": true
	   },
	   "outputs": [],
"source": [
"d = 18 ; // inner idameter of the hemisphere in inch\n",
"t = 1/4 ; // thickness of the hemisphere in inch\n",
"// Part (a)\n",
"sa = 14000 ; // Allowable tensile stress in Psi\n",
"Pa = (2*t*sa)/(d/2); // Maximum permissible air pressure in Psi\n",
"disp('psi',Pa,' Maximum permissible air pressure in the tank (Part(a)) is')\n",
"// Part (b)\n",
"sb = 6000 ; // Allowable shear stress in Psi\n",
"Pb = (4*t*sb)/(d/2) ; // Maximum permissible air pressure in Psi\n",
"disp('psi',Pb,' Maximum permissible air pressure in the tank (Part(b)) is')\n",
"// Part (c)\n",
"e = 0.0003 ; // Allowable Strain in Outer sufrface of the hemisphere\n",
"E = 29e06 ; // Modulus of epasticity of the steel in Psi\n",
"v = 0.28 ; // Poissions's ratio of the steel\n",
"Pc = (2*t*E*e)/((d/2)*(1-v)) ; // Maximum permissible air pressure in Psi\n",
"disp('psi',Pc,' Maximum permissible air pressure in the tank (Part(c)) is')\n",
"// Part (d)\n",
"Tf = 8100 ; // failure tensile load in lb/in \n",
"n = 2.5 ; // Required factor of safetty against failure of the weld\n",
"Ta = Tf / n ; // Allowable load in ld/in \n",
"sd = (Ta*(1))/(t*(1)); // Allowable tensile stress in Psi\n",
"Pd = (2*t*sd)/(d/2); // Maximum permissible air pressure in Psi\n",
"disp('psi',Pd,' Maximum permissible air pressure in the tank (Part(d)) is')\n",
"// Part (e)\n",
"Pallow = Pb ; // Because Shear stress in the wall governs allowable pressure inside the tank\n",
"disp('Because Shear stress in the wall governs allowable pressure inside the tank','psi',Pallow,' Maximum permissible air pressure in the tank (Part(e)) is')\n",
""
   ]
   }
,
{
		   "cell_type": "markdown",
		   "metadata": {},
		   "source": [
			"## Example 8.2: Calculation_of_various_stresses_and_strain_in_cylindrical_part_of_the_vessel.sce"
		   ]
		  },
  {
"cell_type": "code",
	   "execution_count": null,
	   "metadata": {
	    "collapsed": true
	   },
	   "outputs": [],
"source": [
"a = 55 ; // Angle made by helix with longitudinal axis in degree\n",
"r = 1.8 ; // Inner radius of vessel in m\n",
"t = 0.02 ; // thickness of vessel in m\n",
"E = 200e09 ; // Modulus of ealsticity of steel in Pa\n",
"v = 0.3 ; // Poission's ratio of steel \n",
"P = 800e03 ; // Pressure inside the tank in Pa\n",
"// Part (a)\n",
"s1 = (P*r)/t ; // Circumferential stress in Pa\n",
"s2 = (P*r)/(2*t) ; // Longitudinal stress in Pa\n",
"// Part (b)\n",
"t_max_z = (s1-s2)/2 ; // Maximum inplane shear stress in Pa\n",
"t_max = s1/2 ; // Maximum out of plane shear stress in Pa\n",
"// Part (c)\n",
"e1 = (s1/(2*E))*(2-v) ; // Strain in circumferential direction \n",
"e2 = (s2/E)*(1-(2*v)); // Strain in longitudinal direction\n",
"// Part (d)\n",
"// x1 is the direction along the helix\n",
"theta = 90 - a ; \n",
"sx1 = ((P*r)/(4*t))*(3-cosd(2*theta)); // Stress along x1 direction\n",
"tx1y1 = ((P*r)/(4*t))*(sind(2*theta)); // Shear stress in x1y1 plane\n",
"sy1 = s1+s2-sx1 ; // Stress along y1 direction \n",
"// Mohr Circle Method\n",
"savg = (s1+s2)/2 ; // Average stress in Pa\n",
"R = (s1 - s2 )/2 ; // Radius of Mohr's Circle in Pa\n",
"sx1_ = savg - R*cosd(2*theta) ; // Stress along x1 direction\n",
"tx1y1_ = R*sind(2*theta); // Shear stress in x1y1 plane\n",
" \n",
"\n",
"\n",
""
   ]
   }
,
{
		   "cell_type": "markdown",
		   "metadata": {},
		   "source": [
			"## Example 8.3: EX8_3.sce"
		   ]
		  },
  {
"cell_type": "code",
	   "execution_count": null,
	   "metadata": {
	    "collapsed": true
	   },
	   "outputs": [],
"source": [
"L = 6 ; // Span of the beam in ft\n",
"P = 10800 ; // Pressure acting in lb\n",
"c = 2 ; // in ft\n",
"b = 2; // Width of cross section of the beam in inch\n",
"h = 6; // Height of the cross section of the beam in inch\n",
"x = 9 ; // in inch\n",
"Ra = P/3 ; // Reaction at point at A\n",
"V = Ra ; // Shear force at section mn \n",
"M = Ra*x ; // Bending moment at the section mn\n",
"I = (b*h^3)/12  // Moment of inertia in in4\n",
"y = -3:0.1:3 ; // Variation along height\n",
"sx = -(M/I)*y; // Normal stress on  crossection  mn\n",
"Q = (b*(h/2-y)).*(y+((((h/2)-y)/2))) ; // First moment of rectangular cross section\n",
"txy = (V*Q)/(I*b);// Shear stress acting on x face of the stress element\n",
"s1 = (sx/2)+sqrt((sx/2).^2+(txy).^2) ; // Principal Tesile stress on the cross section\n",
"s2 = (sx/2)-sqrt((sx/2).^2+(txy).^2) ; // Principal Compressive stress on the cross section\n",
"tmax = sqrt((sx/2).^2+(txy).^2); // Maximum shear stress on the cross section\n",
"plot(sx,y,'o')\n",
"plot(txy,y,'+')\n",
"plot(s1,y,'--')\n",
"plot(s2,y,'<')\n",
"plot(tmax,y)\n",
"disp('psi',s1,'Principal Tesile stress on the cross section')\n",
"disp('psi',s2,' Principal Compressive stress on the cross section')\n",
"// Conclusions \n",
"s1_max = 14400 ; // Maximum tensile stress in Psi\n",
"txy_max = 900 ; // Maximum shear stress in Psi\n",
"t_max = 14400/2 ; // Largest shear stress at 45 degree plane"
   ]
   }
,
{
		   "cell_type": "markdown",
		   "metadata": {},
		   "source": [
			"## Example 8.4: Determination_of_stresses_in_the_shaft.sce"
		   ]
		  },
  {
"cell_type": "code",
	   "execution_count": null,
	   "metadata": {
	    "collapsed": true
	   },
	   "outputs": [],
"source": [
"d = 0.05 ; // Diameter of shaft in m\n",
"T = 2400 ; // Torque transmitted by the shaft in N-m\n",
"P = 125000; // Tensile force\n",
"s0 = (4*P)/(%pi*d^2) // Tensile stress in\n",
"t0 = (16*T)/(%pi*d^3)  // Shear force \n",
"// Stresses along x and y direction\n",
"sx = 0 ;\n",
"sy = s0; \n",
"txy = -t0 ; \n",
"s1 = (sx+sy)/2 + sqrt(((sx-sy)/2)^2 + (txy)^2) ; // Maximum tensile stress \n",
"s2 = (sx+sy)/2 - sqrt(((sx-sy)/2)^2 + (txy)^2) ; // Maximum compressive stress \n",
"tmax =  sqrt(((sx-sy)/2)^2 + (txy)^2) ; // Maximum in plane shear stress \n",
"disp('Pa',s1,'Maximum tensile stress')\n",
"disp('Pa',s2,'Maximum compressive stress')\n",
"disp('Pa',tmax,'Maximum in plane shear stress')"
   ]
   }
,
{
		   "cell_type": "markdown",
		   "metadata": {},
		   "source": [
			"## Example 8.5: Determination_of_the_maximum_allowable_internal_pressure.sce"
		   ]
		  },
  {
"cell_type": "code",
	   "execution_count": null,
	   "metadata": {
	    "collapsed": true
	   },
	   "outputs": [],
"source": [
"P = 12 ; // Axial load in K\n",
"r = 2.1 ; // Inner radius of the cylinder in inch\n",
"t = 0.15 ; // Thickness of the cylinder in inch\n",
"ta = 6500 ; // Allowable shear stress in Psi\n",
"// From in plane sg=hear stress\n",
"p1 = (ta - 3032)/3.5 ; // allowable internal pressure\n",
"// Above equation comes from solving the following equation\n",
"// sx = (p*r)/(2*t) - (P)/(2*%pi*r*t) ;\n",
"// sy = (p*r)/t ;\n",
"// s1 = sy\n",
"// s2 = sx \n",
"// ta = (s1-s2)/2\n",
"\n",
"// From out of the plane shear stress\n",
"// ta = s1/2\n",
"p2 = (ta + 3032)/3.5 ; // allowable internal pressure\n",
"// ta = s2/2\n",
"p3 = 6500/7 ;  // allowable internal pressure\n",
"\n",
"p_allow = min(p1,p2,p3); // Minimum pressure would govern the design\n",
"disp('Becausem inimum pressure would govern the design','psi',p_allow,'Maximum allowable internal pressure ')\n",
"\n",
""
   ]
   }
,
{
		   "cell_type": "markdown",
		   "metadata": {},
		   "source": [
			"## Example 8.6: Determination_of_stresses_due_to_wind_pressure.sce"
		   ]
		  },
  {
"cell_type": "code",
	   "execution_count": null,
	   "metadata": {
	    "collapsed": true
	   },
	   "outputs": [],
"source": [
"d1 = 0.18 ; // Inner diameter of circular pole in m\n",
"d2 = 0.22 ; // Outer diameter of circular pole in m\n",
"P = 2000; // Pressure of wind in Pa\n",
"b = 1.5 ; // Distance between centre line of pole and board in m\n",
"h = 6.6 ; // Distance between centre line of board and bottom of the ploe in m\n",
"W = P*(2*1.2) ; // Force at the midpoint of sign \n",
"V = W ; // Load\n",
"T = W*b ; // Torque acting on the pole\n",
"M = W*h ; // Moment at the bottom of the pole\n",
"I = (%pi/64)*(d2^4-d1^4) ; // Momet of inertia of cross section of the pole\n",
"sa = (M*d2)/(2*I); // Tensile stress at A \n",
"Ip = (%pi/32)*(d2^4-d1^4) ; // Polar momet of inertia of cross section of the pole\n",
"t1 = (T*d2)/(2*Ip); // Shear stress at A and B\n",
"r1 = d1/2 ; // Inner radius of circular pole in m\n",
"r2 = d2/2 ; // Outer radius of circular pole in m\n",
"A = %pi*(r2^2-r1^2); // Area of the cross section\n",
"t2 = ((4*V)/(3*A))*((r2^2 + r1*r2 +r1^2)/(r2^2+r1^2)) ; // Shear stress at point B \n",
"// Principle stresses \n",
"sxa = 0 ; sya = sa ; txya = t1;\n",
"sxb = 0 ; syb = 0 ; txyb = t1+t2 ;\n",
"// Stresses at A\n",
"s1a = (sxa+sya)/2 + sqrt(((sxa-sya)/2)^2 + (txya)^2);  // Maximum tensile stress \n",
"s2a = (sxa+sya)/2 - sqrt(((sxa-sya)/2)^2 + (txya)^2) ; // Maximum compressive stress \n",
"tmaxa =  sqrt(((sxa-sya)/2)^2 + (txya)^2);  // Maximum in plane shear stress\n",
"disp('Pa',s1a,'Maximum tensile stress at point A is')\n",
"disp('Pa',s2a,'Maximum compressive stress at point A is')\n",
"disp('Pa',tmaxa,'Maximum in plane shear stress at point A is')\n",
"// Stress at B \n",
"s1b = (sxb+syb)/2 + sqrt(((sxb-syb)/2)^2 + (txyb)^2);  // Maximum tensile stress \n",
"s2b = (sxb+syb)/2 - sqrt(((sxb-syb)/2)^2 + (txyb)^2) ; // Maximum compressive stress \n",
"tmaxb =  sqrt(((sxb-syb)/2)^2 + (txyb)^2);  // Maximum in plane shear stress \n",
"disp('Pa',s1b,'Maximum tensile stress at point B is')\n",
"disp('Pa',s2b,'Maximum compressive stress at point B is')\n",
"disp('Pa',tmaxb,'Maximum in plane shear stress at point B is')\n",
"\n",
""
   ]
   }
,
{
		   "cell_type": "markdown",
		   "metadata": {},
		   "source": [
			"## Example 8.7: Determination_of_stresses_due_to_loads.sce"
		   ]
		  },
  {
"cell_type": "code",
	   "execution_count": null,
	   "metadata": {
	    "collapsed": true
	   },
	   "outputs": [],
"source": [
"b = 6 ; // Outer dimension of the pole in inch\n",
"t = 0.5 ; // thickness of the pole\n",
"P1 = 20*(6.75*24); // Load acting at the midpoint of the platform\n",
"d = 9 ; // Distance between longitudinal axis of the post and midpoint of platform\n",
"P2 = 800; // Load in lb\n",
"h = 52 ; // Distance between base and point of action of P2\n",
"M1 = P1*d; // Moment due to P1\n",
"M2 = P2*h; // Moment due to P2\n",
"A = b^2 - (b-2*t)^2; // Area of the cross section\n",
"sp1 = P1/A ; // Comoressive stress due to P1 at A and B\n",
"I = (1/12)*(b^4 - (b-2*t)^4); // Moment of inertia of the cross section\n",
"sm1 = (M1*b)/(2*I);// Comoressive stress due to M1 at A and B\n",
"Aweb = (2*t)*(b-(2*t)); // Area of the web\n",
"tp2 = P2/Aweb ; // Shear stress at point B by lpad P2\n",
"sm2 = (M2*b)/(2*I);// Comoressive stress due to M2 at A \n",
"sa = sp1+sm1+sm2 ; // Total Compressive stress at point A\n",
"sb = sp1+sm1; // Total compressive at point B \n",
"tb = tp2; // Shear stress at point B\n",
"// Principle stresses \n",
"sxa = 0 ; sya = -sa ; txya = 0;\n",
"sxb = 0 ; syb = -sb ; txyb = tp2 ;\n",
"// Stresses at A\n",
"s1a = (sxa+sya)/2 + sqrt(((sxa-sya)/2)^2 + (txya)^2);  // Maximum tensile stress \n",
"s2a = (sxa+sya)/2 - sqrt(((sxa-sya)/2)^2 + (txya)^2); // Maximum compressive stress \n",
"tmaxa =  sqrt(((sxa-sya)/2)^2 + (txya)^2);  // Maximum in plane shear stress\n",
"disp('Psi',s1a,'Maximum tensile stress at point A is')\n",
"disp('Psi',s2a,'Maximum compressive stress at point A is')\n",
"disp('Psi',tmaxa,'Maximum in plane shear stress at point A is')\n",
"// Stress at B \n",
"s1b = (sxb+syb)/2 + sqrt(((sxb-syb)/2)^2 + (txyb)^2);  // Maximum tensile stress \n",
"s2b = (sxb+syb)/2 - sqrt(((sxb-syb)/2)^2 + (txyb)^2);  // Maximum compressive stress \n",
"tmaxb =  sqrt(((sxb-syb)/2)^2 + (txyb)^2);  // Maximum in plane shear stress\n",
"disp('Psi',s1b,'Maximum tensile stress at point B is')\n",
"disp('Psi',s2b,'Maximum compressive stress at point B is')\n",
"disp('Psi',tmaxb,'Maximum in plane shear stress at point B is') \n",
""
   ]
   }
],
"metadata": {
		  "kernelspec": {
		   "display_name": "Scilab",
		   "language": "scilab",
		   "name": "scilab"
		  },
		  "language_info": {
		   "file_extension": ".sce",
		   "help_links": [
			{
			 "text": "MetaKernel Magics",
			 "url": "https://github.com/calysto/metakernel/blob/master/metakernel/magics/README.md"
			}
		   ],
		   "mimetype": "text/x-octave",
		   "name": "scilab",
		   "version": "0.7.1"
		  }
		 },
		 "nbformat": 4,
		 "nbformat_minor": 0
}
