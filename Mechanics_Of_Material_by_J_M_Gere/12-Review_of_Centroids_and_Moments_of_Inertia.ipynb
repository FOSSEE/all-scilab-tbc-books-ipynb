{
"cells": [
 {
		   "cell_type": "markdown",
	   "metadata": {},
	   "source": [
       "# Chapter 12: Review of Centroids and Moments of Inertia"
	   ]
	},
{
		   "cell_type": "markdown",
		   "metadata": {},
		   "source": [
			"## Example 12.2: Locating_centroid_C_of_the_cross_sectional_area.sce"
		   ]
		  },
  {
"cell_type": "code",
	   "execution_count": null,
	   "metadata": {
	    "collapsed": true
	   },
	   "outputs": [],
"source": [
"A1 = 6*0.5 ; // Partial Area in in2\n",
"A2 = 20.8 ; // from table E1 and E3\n",
"A3 = 8.82 ; // from table E1 and E3\n",
"y1 = (18.47/2) + (0.5/2) ; // Distance between centroid C1 and C2\n",
"y2 = 0 ; // Distance between centroid C2 and C2\n",
"y3 = (18.47/2) + 0.649 ; // Distance between centroid C3 and C2\n",
"A = A1 + A2 + A3 ; // Area of entire cross section\n",
"Qx = (y1*A1) + (y2*A2) - (y3*A3) ; // First moment of entire cross section\n",
"y_bar = Qx/A ; // Distance between x-axis and centroid of the cross section\n",
"disp('inch',-y_bar,'The distance between x-axis and centroid of the cross section is ')"
   ]
   }
,
{
		   "cell_type": "markdown",
		   "metadata": {},
		   "source": [
			"## Example 12.5: Determination_of_the_moment_of_inertia_Ic_with_respect_to_the_horizontal_axis.sce"
		   ]
		  },
  {
"cell_type": "code",
	   "execution_count": null,
	   "metadata": {
	    "collapsed": true
	   },
	   "outputs": [],
"source": [
"// Following variables are obtained from example 12.2\n",
"A1 = 6*0.5; // Partial Area in in2\n",
"A2 = 20.8; // from table E1 and E3\n",
"A3 = 8.82; // from table E1 and E3\n",
"y1 = (18.47/2) + (0.5/2); // Distance between centroid C1 and C2\n",
"y2 = 0 ; // Distance between centroid C2 and C2\n",
"y3 = (18.47/2) + 0.649; // Distance between centroid C3 and C2\n",
"A = A1 + A2 + A3; // Area of entire cross section\n",
"Qx = (y1*A1) + (y2*A2) - (y3*A3); // First moment of entire cross section\n",
"y_bar = Qx/A; // Distance between x-axis and centroid of the cross section\n",
"c_bar = -(y_bar);\n",
"//////////////////////////\n",
"I1 = (6*0.5^3)/12; // Moment of inertia of A1 \n",
"I2 = 1170; // Moment of inertia of A2 from table E1\n",
"I3 = 3.94; // Moment of inertia of A3 from table E3\n",
"Ic1 = I1 + (A1*(y1+c_bar)^2); // Moment of inertia about C-C axis of area C1\n",
"Ic2 = I2 + (A2*(y2+c_bar)^2); // Moment of inertia about C-C axis of area C2\n",
"Ic3 = I3 + (A3*(y3-c_bar)^2); // Moment of inertia about C-C axis of area C3\n",
"Ic = Ic1 + Ic2 + Ic3 ; // Moment of inertia about C-C axis of whole area\n",
"disp('in^4',Ic,'The moment of inertia of entire cross section area about its centroidal axis C-C')"
   ]
   }
,
{
		   "cell_type": "markdown",
		   "metadata": {},
		   "source": [
			"## Example 12.7: EX12_7.sce"
		   ]
		  },
  {
"cell_type": "code",
	   "execution_count": null,
	   "metadata": {
	    "collapsed": true
	   },
	   "outputs": [],
"source": [
"Ix = 29.29e06; // Moment of inertia of crosssection about x-axis\n",
"Iy = 5.667e06; // Moment of inertia of crosssection about y-axis\n",
"Ixy = -9.336e06; // Moment of inertia of crosssection \n",
"tp1 = (atand(-(2*Ixy)/(Ix-Iy)))/2 ; // Angle definig a Principle axix\n",
"tp2 = 90 + tp1  // '' \n",
"disp('degree',tp1,'The Principle axis is inclined at an angle')\n",
"disp('degree',tp2,'Second angle of inclination of Principle axis is')\n",
"Ix1 = (Ix+Iy)/2 + ((Ix-Iy)/2)*cosd(tp1) - Ixy*sind(tp1) ; // Principle Moment of inertia corresponding to tp1\n",
"Ix2 = (Ix+Iy)/2 + ((Ix-Iy)/2)*cosd(tp2) - Ixy*sind(tp2) ; // Principle Moment of inertia corresponding to tp2\n",
"disp('mm^4',Ix1,'Principle Moment of inertia corresponding to tp1')\n",
"disp('mm^4',Ix2,'Principle Moment of inertia corresponding to tp2')"
   ]
   }
],
"metadata": {
		  "kernelspec": {
		   "display_name": "Scilab",
		   "language": "scilab",
		   "name": "scilab"
		  },
		  "language_info": {
		   "file_extension": ".sce",
		   "help_links": [
			{
			 "text": "MetaKernel Magics",
			 "url": "https://github.com/calysto/metakernel/blob/master/metakernel/magics/README.md"
			}
		   ],
		   "mimetype": "text/x-octave",
		   "name": "scilab",
		   "version": "0.7.1"
		  }
		 },
		 "nbformat": 4,
		 "nbformat_minor": 0
}
