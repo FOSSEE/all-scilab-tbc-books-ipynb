{
"cells": [
 {
		   "cell_type": "markdown",
	   "metadata": {},
	   "source": [
       "# Chapter 4: Shear Forces and Bending Moments"
	   ]
	},
{
		   "cell_type": "markdown",
		   "metadata": {},
		   "source": [
			"## Example 4.3: Calculation_of_the_shear_force_and_the_bending_moment_of_the_cross_section.sce"
		   ]
		  },
  {
"cell_type": "code",
	   "execution_count": null,
	   "metadata": {
	    "collapsed": true
	   },
	   "outputs": [],
"source": [
"q = 0.2 ; // Uniform load intensity in K/ft\n",
"P = 14 ; // Concentrated load in k\n",
"Ra = 11 ; // Reaction at A from wquation of equilibrium\n",
"Rb = 9 ; // Reaction at B from wquation of equilibrium\n",
"V = 11 - 14 - (0.2*15) ; // shear force in k\n",
"disp('k',V,'Shear force at section D')\n",
"M = (11*15)-(14*6)-(0.2*15*7.5) ; // Bending moment in K-ft\n",
"disp('k-ft',M,'Bending moment at section D')\n",
"V1 = -9+(0.2*15); // Shear firce from alternative method in k\n",
"M1 = (9*9)-(0.2*7.5*15);  // Bending moment from alternative method in k-ft"
   ]
   }
,
{
		   "cell_type": "markdown",
		   "metadata": {},
		   "source": [
			"## Example 4.7: Shear_force_nd_bending_moment_diagramme.sce"
		   ]
		  },
  {
"cell_type": "code",
	   "execution_count": null,
	   "metadata": {
	    "collapsed": true
	   },
	   "outputs": [],
"source": [
"q = 1 ; // Uniform load intensity in k/ft\n",
"M0 = 12 ; // Couple in k-ft\n",
"Rb = 5.25 ; // Reaction at B in k\n",
"Rc = 1.25 ; // Reaction at C in k\n",
"b = 4 ; // Length of section AB in ft\n",
"Mb = -(q*(b^2))/2 ; // Moment acting at B\n",
"disp('k-ft',Mb,'Bending moment at B')"
   ]
   }
],
"metadata": {
		  "kernelspec": {
		   "display_name": "Scilab",
		   "language": "scilab",
		   "name": "scilab"
		  },
		  "language_info": {
		   "file_extension": ".sce",
		   "help_links": [
			{
			 "text": "MetaKernel Magics",
			 "url": "https://github.com/calysto/metakernel/blob/master/metakernel/magics/README.md"
			}
		   ],
		   "mimetype": "text/x-octave",
		   "name": "scilab",
		   "version": "0.7.1"
		  }
		 },
		 "nbformat": 4,
		 "nbformat_minor": 0
}
