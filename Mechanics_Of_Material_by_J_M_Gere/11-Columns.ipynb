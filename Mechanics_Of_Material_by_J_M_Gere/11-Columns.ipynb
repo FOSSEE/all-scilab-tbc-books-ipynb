{
"cells": [
 {
		   "cell_type": "markdown",
	   "metadata": {},
	   "source": [
       "# Chapter 11: Columns"
	   ]
	},
{
		   "cell_type": "markdown",
		   "metadata": {},
		   "source": [
			"## Example 11.1: EX11_1.sce"
		   ]
		  },
  {
"cell_type": "code",
	   "execution_count": null,
	   "metadata": {
	    "collapsed": true
	   },
	   "outputs": [],
"source": [
"E = 29000; // Modulus of elasticity in ksi\n",
"spl = 42 ; // Proportional limit in ksi\n",
"L = 25 ; // Total length of coloum in ft\n",
"n = 2.5 ; // factor of safety\n",
"I1 = 98 ; // Moment of inertia on horizontal axis\n",
"I2 = 21.7 ; // Moment of inertia on vertical axis\n",
"A = 8.25 ; // Area of the cross section\n",
"Pcr2 = (4*%pi^2*E*I2)/((L*12)^2) ; // Criticle load if column buckles in the plane of paper\n",
"Pcr1 = (%pi^2*E*I1)/((L*12)^2) ; // Criticle load if column buckles in the plane of paper\n",
"Pcr = min(Pcr1,Pcr2) ; // Minimum pressure would govern the design\n",
"scr = Pcr/A ; // Criticle stress\n",
"Pa = Pcr/n ; // Allowable load in k\n",
"disp('k',Pa,'The allowable load is ')\n",
" "
   ]
   }
,
{
		   "cell_type": "markdown",
		   "metadata": {},
		   "source": [
			"## Example 11.2: EX11_2.sce"
		   ]
		  },
  {
"cell_type": "code",
	   "execution_count": null,
	   "metadata": {
	    "collapsed": true
	   },
	   "outputs": [],
"source": [
"L = 3.25 ; // Length of alluminium pipe in m\n",
"d = 0.1 ; // Outer diameter of alluminium pipe\n",
"P = 100000; // Allowable compressive load in N\n",
"n =3 ; // Safety factor for eular buckling\n",
"E = 72e09 ; // Modulus of elasticity in Pa\n",
"l = 480e06 ; // Proportional limit\n",
"Pcr = n*P ; // Critic;e load\n",
"t = (0.1 - (55.6e-06)^(1/4) )/2 ; // Required thickness\n",
"// Above formula comes from solving following equation\n",
"// d2 = d ; d1 = d-2*t ; Pcr = n*P ; I = (%pi/64)*(d2^4-d1^4); Pcr = (2.406*%pi^2*E*I)/((L)^2) ;\n",
"tmin = t ;\n",
"disp('mm',tmin*1000,'The minimum required thickness of the coloumn is')\n",
"// Supplimentry calculatios \n",
"I = (%pi/64)*(d^4-(d-2*t)^4) ; // Moment of inertia\n",
"A = (%pi/4)*(d^2-(d-2*t)^2) ; // Area of cross section\n",
"r = sqrt(I/A);\n",
"s = L/r // slenderness ratio\n",
"scr = Pcr/A ; // Criticle stress "
   ]
   }
,
{
		   "cell_type": "markdown",
		   "metadata": {},
		   "source": [
			"## Example 11.3: Determination_of_longest_permissible_length_of_rod.sce"
		   ]
		  },
  {
"cell_type": "code",
	   "execution_count": null,
	   "metadata": {
	    "collapsed": true
	   },
	   "outputs": [],
"source": [
"P = 1500 ; // Load in lb\n",
"e = 0.45 ; // ecentricity in inch\n",
"h = 1.2 ; // Height of cross section in inch\n",
"b = 0.6 ; // Width of cross section in inch\n",
"E = 16e06 ; // Modulus of elasticity \n",
"del = 0.12 ; // Allowable deflection in inch\n",
"L = asec(1.2667)/0.06588 ; // Maximum allowable length possible\n",
"// Above formula comes from solving following equation\n",
"// Pcr = (%pi^2*E*I)/(4*(L)^2); I = (h*b^3)/12; del = e*(sec((%pi/2)*sqrt(P/Pcr))-1)\n",
"disp('inch',L,'The longest permissible length of the bar is')\n",
"\n",
""
   ]
   }
,
{
		   "cell_type": "markdown",
		   "metadata": {},
		   "source": [
			"## Example 11.4: Calculation_of_compressive_stress_and_factor_of_safety.sce"
		   ]
		  },
  {
"cell_type": "code",
	   "execution_count": null,
	   "metadata": {
	    "collapsed": true
	   },
	   "outputs": [],
"source": [
"L = 25 ; // Length of coloum in ft\n",
"P1 = 320 ; // Load in K\n",
"P2 = 40 ; // Load in K\n",
"E = 30000 ; // Modulus of elasticity of steel in Ksi\n",
"P = 360 ; // Euivalent load\n",
"e = 1.5 ; // Ecentricity of compressive load\n",
"A = 24.1 ; // Area of the Cross section\n",
"r = 6.05 ; // in inch\n",
"c = 7.155 ; // in inch\n",
"sy = 42 ;// Yeild stress of steel in Ksi\n",
"smax = (P/A)*(1+(((e*c)/r^2)*sec((L/(2*r))*sqrt(P/(E*A))))); // Maximum compressive stress\n",
"disp('ksi',smax,'The Maximum compressive stress in the column ')\n",
"// Bisection method method to solve for yeilding\n",
"function [x] = stress(a,b,f)\n",
"  N = 100;\n",
"  eps = 1e-5;\n",
"  if((f(a)*f(b))>0) then\n",
"    error('no root possible f(a)*f(b)>0');\n",
"    abort;\n",
"  end;\n",
"  if(abs(f(a))<eps) then\n",
"    error('solution at a');\n",
"    abort;\n",
"  end\n",
"  if(abs(f(b))<eps) then\n",
"    error('solution at b');\n",
"    abort;\n",
"  end\n",
"  while(N>0)\n",
"    c = (a+b)/2\n",
"    if(abs(f(c))<eps) then\n",
"      x = c ;\n",
"      x;\n",
"      return;\n",
"    end;\n",
"    if((f(a)*f(c))<0 ) then\n",
"      b = c ;\n",
"    else\n",
"      a = c ;\n",
"    end\n",
"    N = N-1;\n",
"  end\n",
"  error('no convergence');\n",
"  abort;\n",
"endfunction\n",
"\n",
"deff('[y]=p(x)',['y = x + (0.2939*x*sec(0.02916*sqrt(x))) - 1012 '])\n",
"x = stress(710,750,p);\n",
"Py = x ; // Yeilding load in K\n",
"n = Py/P; // Factor of safety against yeilding\n",
"disp(n,'The factor of safety against yeilding is')\n",
"\n",
"\n",
"    \n",
"    \n",
" "
   ]
   }
,
{
		   "cell_type": "markdown",
		   "metadata": {},
		   "source": [
			"## Example 11.5: Calculation_of_allowable_axial_load_and_maximum_permissible_length.sce"
		   ]
		  },
  {
"cell_type": "code",
	   "execution_count": null,
	   "metadata": {
	    "collapsed": true
	   },
	   "outputs": [],
"source": [
"E = 29000; // Modulus of elasticity in ksi\n",
"sy = 36 ; // Yeilding stress in ksi\n",
"L = 20 ; // Length of coloumn in ft\n",
"r = 2.57 ; // radius of gyration of coloumn\n",
"K = 1 ; // Effetive Length factor\n",
"s = sqrt((2*%pi^2*E)/sy) // Criticle slenderness ratio (K*L)/r\n",
"s_ = (L*12)/r; // Slenderness ratio\n",
"// Part(a)\n",
"n1 = (5/3)+((3/8)*(s_/s))-((1/8)*((s_^3)/(s^3)));// Factor of safety \n",
"sallow = (sy/n1)*(1-((1/2)*((s_^2)/(s^2)))); // Allowable axial load\n",
"A = 17.6; // Cross sectional area from table E1\n",
"Pallow = sallow*A ; // Allowable axial load\n",
"disp('k',Pallow,'Allowable axial load is')\n",
"// Part (b)\n",
"Pe = 200 ; // Permissible load in K\n",
"L_ = 25 ; // Assumed length in ft\n",
"s__ = (L_*12)/r; // Slenderness ratio\n",
"n1_ = (5/3)+((3/8)*(s__/s))-((1/8)*((s__^3)/(s^3)));// Factor of safety \n",
"sallow_ = (sy/n1_)*(1-((1/2)*((s__^2)/(s^2)))); // Allowable axial load\n",
"A = 17.6 ; // Area of the cross section in^2\n",
"Pallow = sallow_*A  // Allowable load\n",
"L1 = [24 24.4 25];\n",
"P1 = [201 194 190];\n",
"L_max = interpln([P1;L1],Pe); // Interpolation for getting the length correspondong to permissible load\n",
"disp('ft',L_max,'The maximum permissible length is')\n",
""
   ]
   }
,
{
		   "cell_type": "markdown",
		   "metadata": {},
		   "source": [
			"## Example 11.6: Finding_the_minimum_required_thickness_for_a_steel_pipe_column.sce"
		   ]
		  },
  {
"cell_type": "code",
	   "execution_count": null,
	   "metadata": {
	    "collapsed": true
	   },
	   "outputs": [],
"source": [
"L = 3.6 ; // Length of steel pipe coloumn\n",
"d = 0.16 ; // Outer diameter in m\n",
"P = 240e03; // Load in N\n",
"E = 200e09; // Modulus of elasticity in Pa\n",
"sy = 259e06 ; // yeilding stress in Pa\n",
"Le = 2*L ; // As it in fixed-free condition\n",
"sc = sqrt((2*%pi^2*E)/sy); // Critical slenderness ratio\n",
"K = 2;\n",
"// First trial\n",
"t = 0.007; // Assumed thick ness in m\n",
"I = (%pi/64)*(d^4-(d-2*t)^4) // Moment of inertia\n",
"A = (%pi/4)*(d^2-(d-2*t)^2)  // Area of cross section\n",
"r = sqrt(I/A) ; // Radius of gyration\n",
"sc_ = (K*L)/r ; // Slender ness ratio\n",
"n2 = 1.98 ; // From equation 11.80\n",
"sa = (sy/(2*n2))*(sc^2/sc_^2) // Allowable stress\n",
"Pa = sa*A ; // Allowable axial load in N\n",
"// Interpolation\n",
"t = [7 8 9];\n",
"Pa = [196 220 243];\n",
"t_min = interpln([Pa;t],240) ; // Interpolation for getting the minimum length\n",
"disp('mm',t_min,'The minimum required thickness of the steel pipe is')\n",
""
   ]
   }
,
{
		   "cell_type": "markdown",
		   "metadata": {},
		   "source": [
			"## Example 11.7: Determination_of_the_minimum_required_outer_diameter_of_aluminium_tube.sce"
		   ]
		  },
  {
"cell_type": "code",
	   "execution_count": null,
	   "metadata": {
	    "collapsed": true
	   },
	   "outputs": [],
"source": [
"L = 16 ; // Effective length in inch\n",
"P = 5 ; // axial load in K\n",
"// Bisection method for solvong the quaderatic\n",
"function [x] = stress(a,b,f)\n",
"  N = 100;\n",
"  eps = 1e-5;\n",
"  if((f(a)*f(b))>0) then\n",
"    error('no root possible f(a)*f(b)>0');\n",
"    abort;\n",
"  end;\n",
"  if(abs(f(a))<eps) then\n",
"    error('solution at a');\n",
"    abort;\n",
"  end\n",
"  if(abs(f(b))<eps) then\n",
"    error('solution at b');\n",
"    abort;\n",
"  end\n",
"  while(N>0)\n",
"    c = (a+b)/2\n",
"    if(abs(f(c))<eps) then\n",
"      x = c ;\n",
"      x;\n",
"      return;\n",
"    end;\n",
"    if((f(a)*f(c))<0 ) then\n",
"      b = c ;\n",
"    else\n",
"      a = c ;\n",
"    end\n",
"    N = N-1;\n",
"  end\n",
"  error('no convergence');\n",
"  abort;\n",
"endfunction\n",
"\n",
"deff('[y]=p(x)',['y = 30.7*x^2 - 11.49*x -17.69 '])\n",
"x = stress(0.9,1.1,p);\n",
"d = x; // Diameter in inch\n",
"sl = 49.97/d ; // Slenderness ration L/r\n",
"dmin = d ; // Minimum diameter\n",
"\n",
"// The above equation comes from solving the following equationd for d\n",
"// S_allow = 13.7 - 0.23*(L/r) = P/ A ;\n",
"// A = (%pi/4)*(d^2-(d-2t)^2)\n",
"// I = (%pi/64)*(d^4-(d-2t)^4)\n",
"// r = sqrt(I/A)\n",
"disp('inch',dmin,'The minimum required outer diameter of the tube is')\n",
"\n",
"\n",
"\n",
"\n",
"\n",
"\n",
"\n",
"\n",
"\n",
""
   ]
   }
,
{
		   "cell_type": "markdown",
		   "metadata": {},
		   "source": [
			"## Example 11.8: EX11_8.sce"
		   ]
		  },
  {
"cell_type": "code",
	   "execution_count": null,
	   "metadata": {
	    "collapsed": true
	   },
	   "outputs": [],
"source": [
"Fc = 11e06 ; // Compressive desing stress in Pa\n",
"E = 13e09 ; // Modulus of elasticity in Pa\n",
"// Part (a)\n",
"Kce = 0.3 ; \n",
"c = 0.8; \n",
"A = 0.12*0.16 ; // Area of cross section\n",
"Sl = 1.8/0.12 ; // Slenderness ratio\n",
"fi = (Kce*E)/(Fc*Sl^2) ; // ratio of stresses\n",
"Cp = ((1+fi)/(2*c)) - sqrt(((1+fi)/(2*c))^2-(fi/c)); // Coloumn stability factor \n",
"Pa = Fc*Cp*A ; // Allowable Axial load\n",
"disp('N',Pa,'The allowable axial load is')\n",
"// Part (b)\n",
"P = 100000; // Allowable Axial load\n",
"Cp_ = P/(Fc*A) ; // Coloumn stability factor\n",
"// Bisection method method to solve for fi\n",
"function [x] = stress(a,b,f)\n",
"  N = 100;\n",
"  eps = 1e-5;\n",
"  if((f(a)*f(b))>0) then\n",
"    error('no root possible f(a)*f(b)>0');\n",
"    abort;\n",
"  end;\n",
"  if(abs(f(a))<eps) then\n",
"    error('solution at a');\n",
"    abort;\n",
"  end\n",
"  if(abs(f(b))<eps) then\n",
"    error('solution at b');\n",
"    abort;\n",
"  end\n",
"  while(N>0)\n",
"    c = (a+b)/2\n",
"    if(abs(f(c))<eps) then\n",
"      x = c ;\n",
"      x;\n",
"      return;\n",
"    end;\n",
"    if((f(a)*f(c))<0 ) then\n",
"      b = c ;\n",
"    else\n",
"      a = c ;\n",
"    end\n",
"    N = N-1;\n",
"  end\n",
"  error('no convergence');\n",
"  abort;\n",
"endfunction\n",
"deff('[y]=p(x)',['y = ((1+x)/(2*c)) - sqrt(((1+x)/(2*c))^2-(x/c)) - Cp_ '])\n",
"x = stress(0.1,1,p); \n",
"fi_ = x \n",
"d_ = 0.12 ; // Diameter in m\n",
"L_max = d_*sqrt((Kce*E)/(fi_*Fc)); // Maximum length in m\n",
"disp('m',L_max,'The minimum allowable length is')\n",
"// Part (c)\n",
"b1 = [0.130 0.131 0.132]; // Two choices\n",
"Sl1 = 2.6./b1 // slenderness ratio\n",
"fi1 =  (Kce*E)./(Fc*Sl1^2)  // Ratio\n",
"Cp1 = ((1+fi1)/(2*c)) - sqrt(((1+fi1)/(2*c)).^2-(fi1/c)); // Coloumn stability factor \n",
"P1 = 11000.*Cp1.*b1^2 ;  // Allowable atress \n",
"Pa1 = 125; // Given allowable stress\n",
"// Does not require display of result analysis has been shown for b = 0.131\n",
" "
   ]
   }
],
"metadata": {
		  "kernelspec": {
		   "display_name": "Scilab",
		   "language": "scilab",
		   "name": "scilab"
		  },
		  "language_info": {
		   "file_extension": ".sce",
		   "help_links": [
			{
			 "text": "MetaKernel Magics",
			 "url": "https://github.com/calysto/metakernel/blob/master/metakernel/magics/README.md"
			}
		   ],
		   "mimetype": "text/x-octave",
		   "name": "scilab",
		   "version": "0.7.1"
		  }
		 },
		 "nbformat": 4,
		 "nbformat_minor": 0
}
