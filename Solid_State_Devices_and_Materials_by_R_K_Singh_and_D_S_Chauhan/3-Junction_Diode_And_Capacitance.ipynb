{
"cells": [
 {
		   "cell_type": "markdown",
	   "metadata": {},
	   "source": [
       "# Chapter 3: Junction Diode And Capacitance"
	   ]
	},
{
		   "cell_type": "markdown",
		   "metadata": {},
		   "source": [
			"## Example 3.10: Forward_and_reverse_resistance.sce"
		   ]
		  },
  {
"cell_type": "code",
	   "execution_count": null,
	   "metadata": {
	    "collapsed": true
	   },
	   "outputs": [],
"source": [
"// Exa 3.10\n",
"clc;\n",
"clear;\n",
"close;\n",
"// Given data\n",
"I_F= 100;// in mA\n",
"I_F=I_F*10^-3;// in A\n",
"V_F= 0.75;// in V\n",
"R_F= V_F/I_F;// in ohm\n",
"disp(R_F,'Forward resistance in ohm is ')\n",
"// At\n",
"V_R= 50;// in V\n",
"I_R= 100;// in nA\n",
"I_R= I_R*10^-9;// in A\n",
"R_R= V_R/I_R;// in ohm\n",
"disp(R_R*10^-6,'Reverse resistance in Mohm is ')"
   ]
   }
,
{
		   "cell_type": "markdown",
		   "metadata": {},
		   "source": [
			"## Example 3.11: Dynamic_resistance.sce"
		   ]
		  },
  {
"cell_type": "code",
	   "execution_count": null,
	   "metadata": {
	    "collapsed": true
	   },
	   "outputs": [],
"source": [
"// Exa 3.11\n",
"clc;\n",
"clear;\n",
"close;\n",
"// Given data\n",
"I_F= 70;// in mA\n",
"V_F= 26;// in mV\n",
"delta_I_F= 60;// in mA\n",
"delta_I_F=delta_I_F*10^-3;// in A\n",
"delta_V_F= 0.025;// in V\n",
"r_d= delta_V_F/delta_I_F;// in ohm\n",
"disp(r_d,'Dynamic resistance in ohm is : ')\n",
"// and the stimated value of the dynamic resistance is\n",
"r_d= V_F/I_F;// in ohm\n",
"disp(r_d,'The stimated value of the Dynamic resistance in ohm is : ')"
   ]
   }
,
{
		   "cell_type": "markdown",
		   "metadata": {},
		   "source": [
			"## Example 3.12: Forward_and_reverse_dynamic_resistance.sce"
		   ]
		  },
  {
"cell_type": "code",
	   "execution_count": null,
	   "metadata": {
	    "collapsed": true
	   },
	   "outputs": [],
"source": [
"// Exa 3.12\n",
"clc;\n",
"clear;\n",
"close;\n",
"// Given data\n",
"Io= 1;// in micro amp\n",
"Io=Io*10^-6;// in amp\n",
"V_F= 0.52;// in V\n",
"V_R= -0.52;// in V\n",
"nita= 1;\n",
"T=300;// in K\n",
"V_T= T/11600;// in volt\n",
"V_T=round(V_T*10^3);// in mV\n",
"\n",
"// (i)\n",
"r_F= nita*V_T*10^-3/(Io*%e^(V_F/(nita*V_T*10^-3)));\n",
"disp(r_F,'Dynamic resistance in the forward biased condition in ohm')\n",
"\n",
"// (ii)\n",
"r_r= nita*V_T*10^-3/(Io*%e^(V_R/(nita*V_T*10^-3)));\n",
"disp(r_r,'Dynamic resistance in the reverse biased condition in ohm')"
   ]
   }
,
{
		   "cell_type": "markdown",
		   "metadata": {},
		   "source": [
			"## Example 3.13: Static_and_dynamic_resistance.sce"
		   ]
		  },
  {
"cell_type": "code",
	   "execution_count": null,
	   "metadata": {
	    "collapsed": true
	   },
	   "outputs": [],
"source": [
"// Exa 3.13\n",
"clc;\n",
"clear;\n",
"close;\n",
"// Given data\n",
"V_F= 0.2;// in V\n",
"T=300;// in K\n",
"V_T= T/11600;// in volt\n",
"Io= 1;// in micro amp\n",
"Io=Io*10^-6;// in amp\n",
"Id= Io*(%e^(V_F/V_T)-1)\n",
"I_F=Id;\n",
"r_dc= V_F/I_F;// in ohm\n",
"disp(r_dc,'Dynamic resistance in ohm is : ')\n",
"r_ac= .026/I_F;// in ohm\n",
"disp(r_ac,'Static resistance in ohm is : ')"
   ]
   }
,
{
		   "cell_type": "markdown",
		   "metadata": {},
		   "source": [
			"## Example 3.14: DC_resistance_levels.sce"
		   ]
		  },
  {
"cell_type": "code",
	   "execution_count": null,
	   "metadata": {
	    "collapsed": true
	   },
	   "outputs": [],
"source": [
"// Exa 3.14\n",
"clc;\n",
"clear;\n",
"close;\n",
"// Given data\n",
"// Part (i)\n",
"I_D=2;// in mA\n",
"I_D=I_D*10^-3;// in amp\n",
"V_D= 0.5 ; // in volt\n",
"R_DC= V_D/I_D;// in ohm\n",
"disp(R_DC,'DC resistance levels for the diode in ohm')\n",
"\n",
"// Part (ii)\n",
"I_D=20;// in mA\n",
"I_D=I_D*10^-3;// in amp\n",
"V_D= 0.8 ; // in volt\n",
"R_DC= V_D/I_D;// in ohm\n",
"disp(R_DC,'DC resistance levels for the diode in ohm')\n",
"\n",
"// Part (iii)\n",
"I_D=-1;// in micro amp\n",
"I_D=I_D*10^-6;// in amp\n",
"V_D= -10 ; // in volt\n",
"R_DC= V_D/I_D;// in ohm\n",
"disp(R_DC*10^-6,'DC resistance levels for the diode in Mohm')"
   ]
   }
,
{
		   "cell_type": "markdown",
		   "metadata": {},
		   "source": [
			"## Example 3.15: Junction_dynamic_resistance.sce"
		   ]
		  },
  {
"cell_type": "code",
	   "execution_count": null,
	   "metadata": {
	    "collapsed": true
	   },
	   "outputs": [],
"source": [
"// Exa 3.15\n",
"clc;\n",
"clear;\n",
"close;\n",
"// Given data\n",
"T1= 25;// in °C\n",
"T2= 100;// in °C\n",
"deltaT= T2-T1;// in °C\n",
"deltaV_F= -1.8*10^-3;// in mV/°C\n",
"I_F= 26;// in mA\n",
"V_F1= 0.7;// in V (at T1)\n",
"V_F2= V_F1+(deltaT*deltaV_F);// in V (at T2)\n",
"// At 25°C\n",
"T= 25+273;// in K\n",
"rd= 26/I_F*T/298;// in Ω\n",
"disp(rd,'Junction dynamic resistance at 25°C in Ω is ')\n",
"// At 100°C\n",
"T= 100+273;// in K\n",
"rd= 26/I_F*T/298;// in Ω\n",
"disp(rd,'Junction dynamic resistance at 100°C in Ω is ')"
   ]
   }
,
{
		   "cell_type": "markdown",
		   "metadata": {},
		   "source": [
			"## Example 3.16: Dynamic_resistance_of_a_diode.sce"
		   ]
		  },
  {
"cell_type": "code",
	   "execution_count": null,
	   "metadata": {
	    "collapsed": true
	   },
	   "outputs": [],
"source": [
"// Exa 3.16\n",
"clc;\n",
"clear;\n",
"close;\n",
"// Given data\n",
"I= 2;// in mA\n",
"I=I*10^-3;// in A\n",
"V_T= 25;// in mV\n",
"V_T= V_T*10^-3;// in V\n",
"nita= 1;\n",
"r_F= nita*V_T/I;// in Ω\n",
"disp(r_F,'The dynamic resistance of a diode in Ω is :')"
   ]
   }
,
{
		   "cell_type": "markdown",
		   "metadata": {},
		   "source": [
			"## Example 3.17: Dynamic_resistance.sce"
		   ]
		  },
  {
"cell_type": "code",
	   "execution_count": null,
	   "metadata": {
	    "collapsed": true
	   },
	   "outputs": [],
"source": [
"// Exa 3.17\n",
"clc;\n",
"clear;\n",
"close;\n",
"// Given data\n",
"I= 30;// in µA\n",
"I=I*10^-6;// in A\n",
"T=125+273;// in K\n",
"r_F= T/(11600*I*%e^(-0.32/T)*11600);// in Ω\n",
"disp(r_F*10^3,'The dynamic resistance in mΩ is : ')\n",
"\n",
"// Note: There are two error in this example in the book. First one is this that putted value of T in first term of calculation (i.e 3.98/11600) is wrong (correct value is 398 not 3.98).\n",
"//            and second one error is this that calculaiton is also wrong for putted value"
   ]
   }
,
{
		   "cell_type": "markdown",
		   "metadata": {},
		   "source": [
			"## Example 3.1: The_transition_capacitance_of_diode.sce"
		   ]
		  },
  {
"cell_type": "code",
	   "execution_count": null,
	   "metadata": {
	    "collapsed": true
	   },
	   "outputs": [],
"source": [
"// Exa 3.1\n",
"clc;\n",
"clear;\n",
"close;\n",
"// Given data\n",
"Co= 20;// in pF\n",
"Vr= 5;// in V\n",
"V_T= 26;// in mV\n",
"V_T= V_T*10^-3;// in V\n",
"C_T= Co/(1+(Vr/V_T));// in pF\n",
"disp(C_T,'The transition capacitance of diode in pF')"
   ]
   }
,
{
		   "cell_type": "markdown",
		   "metadata": {},
		   "source": [
			"## Example 3.2: The_diffusion_capacitance_in_pn_junction_diode.sce"
		   ]
		  },
  {
"cell_type": "code",
	   "execution_count": null,
	   "metadata": {
	    "collapsed": true
	   },
	   "outputs": [],
"source": [
"// Exa 3.2\n",
"clc;\n",
"clear;\n",
"close;\n",
"// Given data\n",
"toh= 10^-6;// in sec\n",
"I=10;// in mA\n",
"I=I*10^-3;// in A\n",
"n=1;\n",
"V_T= 26;// in mV\n",
"V_T= V_T*10^-3;// in V\n",
"C_D= toh*I/(n*V_T);// in F\n",
"disp(C_D*10^9,'The diffusion capacitance in p-n junction diode in nF')\n",
"\n",
"// Note: There are two mistake in the book. First one is this that they put the wrong value of I to evaluating the value of C_D because the value of I is given 10mA (i.e. 10*10^-3= 10^-2 amp) but they put 10^-3 at place \n",
"//          of 10^-2 and second one is calculation error. So the answer in the book is wrong."
   ]
   }
,
{
		   "cell_type": "markdown",
		   "metadata": {},
		   "source": [
			"## Example 3.3: The_diode_current_for_the_forward_bias_voltage.sce"
		   ]
		  },
  {
"cell_type": "code",
	   "execution_count": null,
	   "metadata": {
	    "collapsed": true
	   },
	   "outputs": [],
"source": [
"// Exa 3.3\n",
"clc;\n",
"clear;\n",
"close;\n",
"// Given data\n",
"T=300;// in K\n",
"V_T= T/11600;// in V\n",
"v= 0.3;// forward bias voltage in volt\n",
"I= 10;// leakage current in micro amp\n",
"I=I*10^-6;// in amp\n",
"id= I*(%e^(v/V_T));// in amp\n",
"disp(id,'The diode current in amp')"
   ]
   }
,
{
		   "cell_type": "markdown",
		   "metadata": {},
		   "source": [
			"## Example 3.4: The_constant_n_for_the_diode.sce"
		   ]
		  },
  {
"cell_type": "code",
	   "execution_count": null,
	   "metadata": {
	    "collapsed": true
	   },
	   "outputs": [],
"source": [
"// Exa 3.4\n",
"clc;\n",
"clear;\n",
"close;\n",
"// Given data\n",
"Vd_1= 0.3;// in V\n",
"V_T= 25;// in mV\n",
"V_T= V_T*10^-3;// in V\n",
"// when Id_1= 1 mA\n",
"Id_1= 1;// in mA\n",
"Id_1=Id_1*10^-3;// in A\n",
"// Formula Id_1= Io*[%e^(Vd/(n*V_T))-1]= Io*[e^(Vd/(n*V_T))]\n",
"// Id_1= Io*[e^(Vd_1/(n*V_T))]            (i)\n",
"\n",
"// when Id_2= 200 mA\n",
"Id_2= 200;// in mA\n",
"Id_2=Id_2*10^-3;// in A\n",
"Vd_2= 0.45;// in V\n",
"// Id_2= Io*[e^(Vd_2/(n*V_T))]            (ii)\n",
"// Dividing (ii) by (i), we have\n",
"n= (Vd_2-Vd_1)/(log(Id_2/Id_1)*V_T);\n",
"disp(n,'The value of the constant for the diode is ')"
   ]
   }
,
{
		   "cell_type": "markdown",
		   "metadata": {},
		   "source": [
			"## Example 3.5: Voltage_to_be_applied_across_a_pn_junction.sce"
		   ]
		  },
  {
"cell_type": "code",
	   "execution_count": null,
	   "metadata": {
	    "collapsed": true
	   },
	   "outputs": [],
"source": [
"// Exa 3.5\n",
"clc;\n",
"clear;\n",
"close;\n",
"// Given data\n",
"T=300;// in K\n",
"V_T= T/11600;// in V\n",
"n=1;// assuming value\n",
"Jd=10^5;// in A/m^2\n",
"Jo=250;// in mA/m^2\n",
"Jo= Jo*10^-3;// in A/m^2\n",
"//Formula Id= Io*(%e^(Vd/V_T)-1) and after dividing both the sides by area of the junction, we have\n",
"// Jd= Jo*(%e^(Vd/V_T));// approx by neglecting 1 \n",
"Vd= V_T*log(Jd/Jo);// in volt\n",
"disp(Vd,'Voltage to be applied across a p-n junction in volt is : ')"
   ]
   }
,
{
		   "cell_type": "markdown",
		   "metadata": {},
		   "source": [
			"## Example 3.6: Voltage_to_be_applied_across_a_pn_junction.sce"
		   ]
		  },
  {
"cell_type": "code",
	   "execution_count": null,
	   "metadata": {
	    "collapsed": true
	   },
	   "outputs": [],
"source": [
"// Exa 3.6\n",
"clc;\n",
"clear;\n",
"close;\n",
"// Given data\n",
"J=10^4;// in A/m^2\n",
"Jo=200;// in mA/m^2\n",
"Jo= Jo*10^-3;// in A/m^2\n",
"T=300;// in K\n",
"V_T= T/11600;// in V\n",
"e=1.6*10^-19;// electrone charge\n",
"k= 1.38*10^-23;\n",
"n=1;// assuming value\n",
"//Formula I= Io*(%e^(e*V/(n*k*T))-1) and after dividing both the sides by area of the junction, we have\n",
"// J= Jo*(%e^(e*V/(n*k*T)));// approx by neglecting 1 \n",
"V= n*k*T*log(J/Jo)/e;\n",
"disp(V,'Voltage to be applied across the junction in volt is')\n",
"\n",
"// Note:- In the book, the value of T (i.e. 300) has not been putted to evaluate the value of V. So if we'll not put the value of T to evaluate the value of V, then the answer of coding will be same as book. Hence the \n",
"//              the answer in the book is wrong."
   ]
   }
,
{
		   "cell_type": "markdown",
		   "metadata": {},
		   "source": [
			"## Example 3.7: Junction_forward_bias_voltage.sce"
		   ]
		  },
  {
"cell_type": "code",
	   "execution_count": null,
	   "metadata": {
	    "collapsed": true
	   },
	   "outputs": [],
"source": [
"// Exa 3.7\n",
"clc;\n",
"clear;\n",
"close;\n",
"// Given data\n",
"n=2;\n",
"V_T=26;// in mV\n",
"Io= 30;// in mA\n",
"// (i) when\n",
"I_D= 0.1;// in mA\n",
"V_D= n*V_T*log(I_D/Io);// in mV\n",
"disp(V_D,'(i) When I_D is 0.1 mA, The junction forward-bias voltage in mV is : ')\n",
"// (ii) when\n",
"I_D= 10;// in mA\n",
"V_D= n*V_T*log(I_D/Io);// in mV\n",
"disp(V_D,'(ii) When I_D is 10 mA, The junction forward-bias voltage in mV is : ')\n",
"\n",
"// Note: There is calculation error in the book so answer in the book is wrong."
   ]
   }
,
{
		   "cell_type": "markdown",
		   "metadata": {},
		   "source": [
			"## Example 3.8: Voltage_at_which_the_reverse_in_a_Ge_diode.sce"
		   ]
		  },
  {
"cell_type": "code",
	   "execution_count": null,
	   "metadata": {
	    "collapsed": true
	   },
	   "outputs": [],
"source": [
"// Exa 3.8\n",
"clc;\n",
"clear;\n",
"close;\n",
"// Given data\n",
"I_by_Io= -0.9;\n",
"V_T=26;// in mV\n",
"V_T=V_T*10^-3;//in V\n",
"n=1;\n",
"// From Diode equation I= Io*[e^(e*V/(n*V_T))-1]\n",
"V= n*V_T*log(1+I_by_Io);// in volt\n",
"disp(V*10^3,'Voltage in mV is ')"
   ]
   }
,
{
		   "cell_type": "markdown",
		   "metadata": {},
		   "source": [
			"## Example 3.9: Factor_by_which_the_current_will_get_multiplied.sce"
		   ]
		  },
  {
"cell_type": "code",
	   "execution_count": null,
	   "metadata": {
	    "collapsed": true
	   },
	   "outputs": [],
"source": [
"// Exa 3.9\n",
"clc;\n",
"clear;\n",
"close;\n",
"// Given data\n",
"nita= 2;\n",
"T1= 25;// in °C\n",
"T2= 150;// in °C\n",
"k= 8.62*10^-5;\n",
"V_T150= k*(T2+273);// in V\n",
"V_T25= k*(T1+273);// in V\n",
"V= 0.4;// in V\n",
"// Io150= Io25*2^(T2-T1) \n",
"Io150byIo25= 2^((T2-T1)/10);\n",
"I150byI25= Io150byIo25 *( %e^(V/(nita*V_T150))-1)/( %e^(V/(nita*V_T25))-1);\n",
"disp(I150byI25,'The factor by which the current will get multiplied when its temperature is raised from 25°C to 150°C is : ')\n",
"\n",
"// Note : There is some difference between coding and the answer of the book because in the book the values of (  Io150byIo25, V_T150, V_T25 ) \n",
"// are putted (respectively 5800, 0.0364, 0.026) whereas the accurate values of these are \n",
"// 5792.6188 , 0.0364626 and 0.0256876\n",
""
   ]
   }
],
"metadata": {
		  "kernelspec": {
		   "display_name": "Scilab",
		   "language": "scilab",
		   "name": "scilab"
		  },
		  "language_info": {
		   "file_extension": ".sce",
		   "help_links": [
			{
			 "text": "MetaKernel Magics",
			 "url": "https://github.com/calysto/metakernel/blob/master/metakernel/magics/README.md"
			}
		   ],
		   "mimetype": "text/x-octave",
		   "name": "scilab",
		   "version": "0.7.1"
		  }
		 },
		 "nbformat": 4,
		 "nbformat_minor": 0
}
