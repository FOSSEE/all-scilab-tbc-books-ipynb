{
"cells": [
 {
		   "cell_type": "markdown",
	   "metadata": {},
	   "source": [
       "# Chapter 7: Voltage Regulator And Nonlinear Circuits"
	   ]
	},
{
		   "cell_type": "markdown",
		   "metadata": {},
		   "source": [
			"## Example 7.1: Base_emitter_and_zener_diode_current.sce"
		   ]
		  },
  {
"cell_type": "code",
	   "execution_count": null,
	   "metadata": {
	    "collapsed": true
	   },
	   "outputs": [],
"source": [
"// Exa 7.1\n",
"clc;\n",
"clear;\n",
"close;\n",
"// Given data\n",
"bita= 50;\n",
"R1= 1;// in kΩ\n",
"R1= R1*10^3;//in Ω\n",
"R2= 300;// in Ω\n",
"R3= 360;// in Ω\n",
"R4= 640;// in Ω\n",
"V1= 10;// in V\n",
"V2= 20;// in V\n",
"I_B1=19.2*10^-3;// in A\n",
"I_L= 1;//in A\n",
"V_Z= 5.6;// in V\n",
"V_B= R4*V1/(R3+R4);//in V\n",
"V_BE2= V_B-V_Z;// in V\n",
"V_A= V1-V_BE2;// in V\n",
"disp(V_A,'The value of V_A in volt is : ')\n",
"disp(V_B,'The value of V_B in volt is : ')\n",
"\n",
"// Part (ii)\n",
"I1= V1/(R3+R4);// in A\n",
"//I1= .01*10^-3;// in A\n",
"I2= (V2-V_A)/R2;// in A\n",
"I_C2= I2-I_B1;// in A\n",
"I_B1= (I1+I_L)/(1+bita);// in A\n",
"disp(I_B1*10^3,'The base current of T1 in mA is : ')\n",
"I_C2= I2-I_B1;// in A\n",
"I_E2= I_C2;// in A\n",
"disp(I_E2*10^3,'The emitter current of T2 in mA is : ')\n",
"\n",
"// part (iii)\n",
"I3= (V2-V_Z)/R1;// in A\n",
"I_Z= I3+I_E2;// in A\n",
"disp(I_Z*10^3,'Current through zener diode in mA is : ')\n",
"V_CE= V2-V1;// in V\n",
"I_C1= bita*I_B1;// in A\n",
"T1= V_CE*I_C1;// in W\n",
"disp(T1,'Power dissipation in watt is : ')"
   ]
   }
,
{
		   "cell_type": "markdown",
		   "metadata": {},
		   "source": [
			"## Example 7.2: Base_emitter_and_zener_diode_current.sce"
		   ]
		  },
  {
"cell_type": "code",
	   "execution_count": null,
	   "metadata": {
	    "collapsed": true
	   },
	   "outputs": [],
"source": [
"// Exa 7.2\n",
"clc;\n",
"clear;\n",
"close;\n",
"// Given data\n",
"bita= 100;\n",
"R1= 1;// in kΩ\n",
"R1= R1*10^3;//in Ω\n",
"R2= 300;// in Ω\n",
"R3= 360;// in Ω\n",
"R4= 640;// in Ω\n",
"V1= 10;// in V\n",
"V2= 20;// in V\n",
"I_B1=19.2*10^-3;// in A\n",
"I_L= 1;//in A\n",
"V_Z= 5.6;// in V\n",
"V_B= R4*V1/(R3+R4);//in V\n",
"V_BE2= V_B-V_Z;// in V\n",
"V_A= V1-V_BE2;// in V\n",
"disp(V_A,'The value of V_A in volt is : ')\n",
"disp(V_B,'The value of V_B in volt is : ')\n",
"\n",
"// Part (ii)\n",
"I1= V1/(R3+R4);// in A\n",
"//I1= .01*10^-3;// in A\n",
"I2= (V2-V_A)/R2;// in A\n",
"I_C2= I2-I_B1;// in A\n",
"I_B1= (I1+I_L)/(1+bita);// in A\n",
"disp(I_B1*10^3,'The base current of T1 in mA is : ')\n",
"I_C2= I2-I_B1;// in A\n",
"I_E2= I_C2;// in A\n",
"disp(I_E2*10^3,'The emitter current of T2 in mA is : ')\n",
"\n",
"// part (iii)\n",
"I3= (V2-V_Z)/R1;// in A\n",
"I_Z= I3+I_E2;// in A\n",
"disp(I_Z*10^3,'Current through zener diode in mA is : ')\n",
"V_CE= V2-V1;// in V\n",
"I_C1= bita*I_B1;// in A\n",
"T1= V_CE*I_C1;// in W\n",
"disp(T1,'Power dissipation in watt is : ')\n",
"\n",
"// Note: In the part (iv), the wrong value of I_B1 and bita is putted, these two value is putted of the Example 7.1\n",
"//          (i.e. I_B1= 19.8 mA and bita= 50) whereas in this example the value of bita is given 100 and the value of \n",
"//          of I_B1 is calculated as 10 mA. So the answer of the last part of this example is wrong.\n",
"\n",
"\n",
"\n",
"\n",
"\n",
""
   ]
   }
,
{
		   "cell_type": "markdown",
		   "metadata": {},
		   "source": [
			"## Example 7.3: Base_emitter_and_zener_diode_current.sce"
		   ]
		  },
  {
"cell_type": "code",
	   "execution_count": null,
	   "metadata": {
	    "collapsed": true
	   },
	   "outputs": [],
"source": [
"// Exa 7.3\n",
"clc;\n",
"clear;\n",
"close;\n",
"// Given data\n",
"bita= 50;\n",
"R1= 1;// in kΩ\n",
"R1= R1*10^3;//in Ω\n",
"R2= 500;// in Ω\n",
"R3= 400;// in Ω\n",
"R4= 600;// in Ω\n",
"V1= 10;// in V\n",
"V2= 20;// in V\n",
"I_B1=19.2*10^-3;// in A\n",
"I_L= 1;//in A\n",
"V_Z= 5;// in V\n",
"V_B= R4*V1/(R3+R4);//in V\n",
"V_BE2= V_B-V_Z;// in V\n",
"V_A= V1-V_BE2;// in V\n",
"disp(V_A,'The value of V_A in volt is : ')\n",
"disp(V_B,'The value of V_B in volt is : ')\n",
"\n",
"// Part (ii)\n",
"I1= V1/(R3+R4);// in A\n",
"//I1= .01*10^-3;// in A\n",
"I2= (V2-V_A)/R2;// in A\n",
"//I2= .042;\n",
"I_C2= I2-I_B1;// in A\n",
"I_B1= (I1+I_L)/(1+bita);// in A\n",
"disp(I_B1*10^3,'The base current of T1 in mA is : ')\n",
"I_C2= I2-I_B1;// in A\n",
"I_E2= I_C2;// in A\n",
"disp(I_E2*10^3,'The emitter current of T2 in mA is : ')\n",
"\n",
"// part (iii)\n",
"I3= (V2-V_Z)/R1;// in A\n",
"I_Z= I3+I_E2;// in A\n",
"disp(I_Z*10^3,'Current through zener diode in mA is : ')\n",
"V_CE= V2-V1;// in V\n",
"I_C1= bita*I_B1;// in A\n",
"T1= V_CE*I_C1;// in W\n",
"disp(T1,'Power dissipation in watt is : ')\n",
"\n",
"// Note: In the book, the evaluated value of emitter current of T2 i.e. I_E2 and current through zener diode i.e I_Z is wrong because\n",
"//          there is a calculation error to evaluate the value of I2 (  (20-9)/500 = 42 mA is wrong, correct value is 22 mA) \n",
"\n",
"\n",
"\n",
"\n",
"\n",
"\n",
"\n",
"\n",
""
   ]
   }
,
{
		   "cell_type": "markdown",
		   "metadata": {},
		   "source": [
			"## Example 7.4: Resistance_and_current.sce"
		   ]
		  },
  {
"cell_type": "code",
	   "execution_count": null,
	   "metadata": {
	    "collapsed": true
	   },
	   "outputs": [],
"source": [
"// Exa 7.4\n",
"clc;\n",
"clear;\n",
"close;\n",
"// Given data\n",
"Vmin= 2.2;// in V\n",
"Vmax= 4.0;// in V\n",
"I= 11;// in mA\n",
"I= I*10^-3;//in A\n",
"Resistance= Vmin/I;// in Ω\n",
"Current = Vmax/Resistance;// in A\n",
"disp(Resistance,'Resistance in Ω is : ')\n",
"disp(Current*10^3,'Current in mA is : ')"
   ]
   }
,
{
		   "cell_type": "markdown",
		   "metadata": {},
		   "source": [
			"## Example 7.5: Output_voltage.sce"
		   ]
		  },
  {
"cell_type": "code",
	   "execution_count": null,
	   "metadata": {
	    "collapsed": true
	   },
	   "outputs": [],
"source": [
"// Exa 7.5\n",
"clc;\n",
"clear;\n",
"close;\n",
"// Given data\n",
"V1= 6.2;// in V\n",
"V2= 0.6;// in V\n",
"V3= 0.6;// in V\n",
"Vout= V1-V2-V3;// in V\n",
"disp(Vout,'The output voltage in volts is : ')"
   ]
   }
],
"metadata": {
		  "kernelspec": {
		   "display_name": "Scilab",
		   "language": "scilab",
		   "name": "scilab"
		  },
		  "language_info": {
		   "file_extension": ".sce",
		   "help_links": [
			{
			 "text": "MetaKernel Magics",
			 "url": "https://github.com/calysto/metakernel/blob/master/metakernel/magics/README.md"
			}
		   ],
		   "mimetype": "text/x-octave",
		   "name": "scilab",
		   "version": "0.7.1"
		  }
		 },
		 "nbformat": 4,
		 "nbformat_minor": 0
}
