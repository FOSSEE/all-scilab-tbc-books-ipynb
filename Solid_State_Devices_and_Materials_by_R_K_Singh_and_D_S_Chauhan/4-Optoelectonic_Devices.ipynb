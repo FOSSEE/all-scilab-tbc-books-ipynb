{
"cells": [
 {
		   "cell_type": "markdown",
	   "metadata": {},
	   "source": [
       "# Chapter 4: Optoelectonic Devices"
	   ]
	},
{
		   "cell_type": "markdown",
		   "metadata": {},
		   "source": [
			"## Example 4.10: Minimum_and_maximum_values_of_LED_current.sce"
		   ]
		  },
  {
"cell_type": "code",
	   "execution_count": null,
	   "metadata": {
	    "collapsed": true
	   },
	   "outputs": [],
"source": [
"// Exa 4.10\n",
"clc;\n",
"clear;\n",
"close;\n",
"// Given data\n",
"V_Dmin= 1.5;// in V\n",
"V_Dmax= 2.3;// in V\n",
"Vs= 10;// in V\n",
"R1= 470;// in Ω\n",
"Imax= (Vs-V_Dmin)/R1;// in A\n",
"Imin=  (Vs-V_Dmax)/R1;// in A\n",
"disp(Imax*10^3,'The maximum value of current in mA is : ')\n",
"disp(Imin*10^3,'The minimum value of current in mA is : ')"
   ]
   }
,
{
		   "cell_type": "markdown",
		   "metadata": {},
		   "source": [
			"## Example 4.11: Supply_voltage.sce"
		   ]
		  },
  {
"cell_type": "code",
	   "execution_count": null,
	   "metadata": {
	    "collapsed": true
	   },
	   "outputs": [],
"source": [
"// Exa 4.11\n",
"clc;\n",
"clear;\n",
"close;\n",
"// Given data\n",
"V_Dmin= 1.8;// in V\n",
"V_Dmax= 3;// in V\n",
"// Case first\n",
"Vs= 24;// in V\n",
"R1= 820;// in Ω\n",
"Imin=  (Vs-V_Dmax)/R1;// in A\n",
"Imax= (Vs-V_Dmin)/R1;// in A\n",
"disp(Imax*10^3-Imin*10^3,'The variation in current in first case in mA is : ')\n",
"// Case second\n",
"Vs= 5;// in V\n",
"R1= 120;// in Ω\n",
"Imin=  (Vs-V_Dmax)/R1;// in A\n",
"Imax= (Vs-V_Dmin)/R1;// in A\n",
"disp(Imax*10^3-Imin*10^3,'The variation in current in first case in mA is : ')\n",
"disp('The variation in current in first case is smaller than in second case, So the brighness in the first case will remain constant , whereas in the second case it will be changing.')"
   ]
   }
,
{
		   "cell_type": "markdown",
		   "metadata": {},
		   "source": [
			"## Example 4.12: Smallest_standard_resistor_value.sce"
		   ]
		  },
  {
"cell_type": "code",
	   "execution_count": null,
	   "metadata": {
	    "collapsed": true
	   },
	   "outputs": [],
"source": [
"// Exa 4.12\n",
"clc;\n",
"clear;\n",
"close;\n",
"// Given data\n",
"Vout= 8;// in V\n",
"V_F= 1.8;// in V\n",
"Ip_max= 16;// in mA\n",
"Ip_max= Ip_max*10^-3;// in A\n",
"I_F= Ip_max;\n",
"Rs1= (Vout-V_F)/I_F;// in Ω\n",
"disp(Rs1,'If V_F= 1.8, then the value of Rs in Ω is :')\n",
"// If \n",
"V_F= 2.0;// in V\n",
"Rs2= (Vout-V_F)/I_F;// in Ω\n",
"disp(Rs2,'If V_F= 2.0, then the value of Rs in Ω is :')\n",
"disp('In either case, the smallest standard value resistor that has a value greater than '+string(Rs1)+ 'Ω and '+string(Rs2));\n",
"disp('ohm  resistor .is the 390 Ω')"
   ]
   }
,
{
		   "cell_type": "markdown",
		   "metadata": {},
		   "source": [
			"## Example 4.13: Responsivity_of_the_photo_diode.sce"
		   ]
		  },
  {
"cell_type": "code",
	   "execution_count": null,
	   "metadata": {
	    "collapsed": true
	   },
	   "outputs": [],
"source": [
"// Exa 4.13\n",
"clc;\n",
"clear;\n",
"close;\n",
"// Given data\n",
"Ip= 1;// in mA\n",
"Pop= 1.5;// in mW\n",
"R= Ip/Pop;// in A/W\n",
"disp(R,'The responsivity of the photodiode in A/W is : ')"
   ]
   }
,
{
		   "cell_type": "markdown",
		   "metadata": {},
		   "source": [
			"## Example 4.14: Power_radiated_by_an_LED.sce"
		   ]
		  },
  {
"cell_type": "code",
	   "execution_count": null,
	   "metadata": {
	    "collapsed": true
	   },
	   "outputs": [],
"source": [
"// Exa 4.14\n",
"clc;\n",
"clear;\n",
"close;\n",
"// Given data\n",
"lamda= 800;// in nm\n",
"EpIn_eV= 1248/lamda;// in eV\n",
"h_int= 5/100;\n",
"I=50;// in mA\n",
"P= h_int*EpIn_eV*I;// in mW\n",
"disp(P,'Power radiated by an LED in mW is : ')"
   ]
   }
,
{
		   "cell_type": "markdown",
		   "metadata": {},
		   "source": [
			"## Example 4.15: Internal_quantum_efficiency.sce"
		   ]
		  },
  {
"cell_type": "code",
	   "execution_count": null,
	   "metadata": {
	    "collapsed": true
	   },
	   "outputs": [],
"source": [
"// Exa 4.15\n",
"clc;\n",
"clear;\n",
"close;\n",
"// Given data\n",
"toh_r= 35;// in ns\n",
"toh_nr= 110;// in ns\n",
"toh= toh_r*toh_nr/(toh_r+toh_nr);// in ns\n",
"nita_int= toh/toh_r;\n",
"disp(nita_int,'The internal quantum efficiency is : ')\n",
"\n",
"// Note : There is a calculation error (or miss printed ) in evaluating the value of nita_int (internal quantum efficiency ) so the answer in the book is wrong"
   ]
   }
,
{
		   "cell_type": "markdown",
		   "metadata": {},
		   "source": [
			"## Example 4.16: Quantum_efficiency_of_photo_detector.sce"
		   ]
		  },
  {
"cell_type": "code",
	   "execution_count": null,
	   "metadata": {
	    "collapsed": true
	   },
	   "outputs": [],
"source": [
"// Exa 4.16\n",
"clc;\n",
"clear;\n",
"close;\n",
"// Given data\n",
"N1= 6*10^6;// Number of EHPs generated\n",
"N2= 8*10^6;// Number of incident photons\n",
"nita= N1/N2;\n",
"disp(nita*100,'The quantum efficiency of photon detector in % is : ')"
   ]
   }
,
{
		   "cell_type": "markdown",
		   "metadata": {},
		   "source": [
			"## Example 4.17: Responsivity_of_an_InGaAs_photo_diode.sce"
		   ]
		  },
  {
"cell_type": "code",
	   "execution_count": null,
	   "metadata": {
	    "collapsed": true
	   },
	   "outputs": [],
"source": [
"// Exa 4.17\n",
"clc;\n",
"clear;\n",
"close;\n",
"// Given data\n",
"e= 1.6*10^-19;// in C\n",
"Eg= 0.75*e;// in J\n",
"h= 6.62*10^-34; // in Js\n",
"c= 3*10^8;// in m/s\n",
"n=90/100;\n",
"// Formula Eg= h*c/lamda\n",
"lamda= h*c/Eg;// in m\n",
"lamda=lamda*10^9;// in nm\n",
"R= n*lamda/1248;// in A/W\n",
"disp(R,'Responsivity in A/W is : ')"
   ]
   }
,
{
		   "cell_type": "markdown",
		   "metadata": {},
		   "source": [
			"## Example 4.18: Minimum_and_maximum_values_of_LED_current.sce"
		   ]
		  },
  {
"cell_type": "code",
	   "execution_count": null,
	   "metadata": {
	    "collapsed": true
	   },
	   "outputs": [],
"source": [
"// Exa 4.18\n",
"clc;\n",
"clear;\n",
"close;\n",
"// Given data\n",
"V_Dmin= 1;// in V\n",
"V_Dmax= 2;// in V\n",
"Vs= 20;// in V\n",
"R1= 470;// in Ω\n",
"Imax= (Vs-V_Dmin)/R1;// in A\n",
"Imin=  (Vs-V_Dmax)/R1;// in A\n",
"disp(Imax*10^3,'The maximum value of current in mA');\n",
"disp(Imin*10^3,'The maximum value of current in mA');"
   ]
   }
,
{
		   "cell_type": "markdown",
		   "metadata": {},
		   "source": [
			"## Example 4.19: Supply_voltage.sce"
		   ]
		  },
  {
"cell_type": "code",
	   "execution_count": null,
	   "metadata": {
	    "collapsed": true
	   },
	   "outputs": [],
"source": [
"// Exa 4.19\n",
"clc;\n",
"clear;\n",
"close;\n",
"// Given data\n",
"V_Dmin= 2.5;// in V\n",
"V_Dmax= 5;// in V\n",
"// Case First\n",
"Vs= 25;// in V\n",
"Rs= 250;// in Ω\n",
"Imax= (Vs-V_Dmin)/Rs;// in A\n",
"Imin=  (Vs-V_Dmax)/Rs;// in A\n",
"disp(Imax*10^3-Imin*10^3,'The variation in current in first case in mA is : ')\n",
"// Case sec\n",
"Vs= 10;// in V\n",
"Rs= 130;// in Ω\n",
"Imax= (Vs-V_Dmin)/Rs;// in A\n",
"Imin=  (Vs-V_Dmax)/Rs;// in A\n",
"disp(Imax*10^3-Imin*10^3,'The variation in current in second case in mA is : ')\n",
"disp('Hence for the 25-V supply, the brightness of LED will be constant and for 10 V , it will be change')"
   ]
   }
,
{
		   "cell_type": "markdown",
		   "metadata": {},
		   "source": [
			"## Example 4.1: The_slope_efficiency.sce"
		   ]
		  },
  {
"cell_type": "code",
	   "execution_count": null,
	   "metadata": {
	    "collapsed": true
	   },
	   "outputs": [],
"source": [
"// Exa 4.1\n",
"clc;\n",
"clear;\n",
"close;\n",
"// Given data\n",
"Ep= 0.0153*10^-17;//in J\n",
"lamda= 1300;// in nm\n",
"nita_ext= 0.1;\n",
"e = 1.6*10^-19;//in C\n",
"Eg= 1.42*e;// in eV\n",
"S= nita_ext*Eg/e;// in W/A  (where S= deltaP/deltaI  )\n",
"disp(S,'Slope of efficiency in W/A is : ')\n",
"\n",
"// Note: In the book, the evaluated value of Eg/e is wrong because the value of 1.42*e/e = 1.42 not equal to 0.956 , Hence the answer in the book is wrong "
   ]
   }
,
{
		   "cell_type": "markdown",
		   "metadata": {},
		   "source": [
			"## Example 4.20: The_value_of_current_in_the_circuit.sce"
		   ]
		  },
  {
"cell_type": "code",
	   "execution_count": null,
	   "metadata": {
	    "collapsed": true
	   },
	   "outputs": [],
"source": [
"// Exa 4.20\n",
"clc;\n",
"clear;\n",
"close;\n",
"// Given data\n",
"V1= 0.3;// in V\n",
"V2= 0.7;// in V\n",
"R1= 6;// in kΩ\n",
"R2= 6;// in kΩ\n",
"Vs= 12;// in V\n",
"I1= (Vs-V1)/R1;// in mA\n",
"I2= (Vs-V2)/R2;// in mA\n",
"disp(I1,'The value of I1 in mA is : ')\n",
"disp(I2,'The value of I2 in mA is : ')"
   ]
   }
,
{
		   "cell_type": "markdown",
		   "metadata": {},
		   "source": [
			"## Example 4.21: Responsivity_and_received_optical_power.sce"
		   ]
		  },
  {
"cell_type": "code",
	   "execution_count": null,
	   "metadata": {
	    "collapsed": true
	   },
	   "outputs": [],
"source": [
"// Exa 4.21\n",
"clc;\n",
"clear;\n",
"close;\n",
"// Given data\n",
"n=40/100;\n",
"lamda= 800;// in nm\n",
"Ip = 2*10^-6;// in A\n",
"R= n*lamda/1248;\n",
"// part (b)\n",
"Pop= Ip/R;// in W\n",
"disp(R,'Responsivity is : ')\n",
"disp(Pop,'The received optical power in watt is : ')"
   ]
   }
,
{
		   "cell_type": "markdown",
		   "metadata": {},
		   "source": [
			"## Example 4.22: Internal_quantum_efficiency_and_optical_power_generated.sce"
		   ]
		  },
  {
"cell_type": "code",
	   "execution_count": null,
	   "metadata": {
	    "collapsed": true
	   },
	   "outputs": [],
"source": [
"// Exa 4.22\n",
"clc;\n",
"clear;\n",
"close;\n",
"// Given data\n",
"I=35;// in mA\n",
"I=I*10^-3;// in A\n",
"lamda=1300*10^-9;// in m\n",
"h= 6.62*10^-34; // in Js\n",
"c= 3*10^8;// in m/s\n",
"e= 1.6*10^-19;// in C\n",
"toh_r= 30;// in ns\n",
"toh_nr= 90;// in ns\n",
"toh= toh_r*toh_nr/(toh_r+toh_nr);// in ns\n",
"nita_int= toh/toh_r;\n",
"disp(nita_int,'The internal quantum efficiency is : ')\n",
"Ep= h*c/lamda;// in J\n",
"P= nita_int*Ep*I/e;// in W\n",
"disp(P*10^3,'The optical power generated internally to the LED in mW is : ');\n",
" "
   ]
   }
,
{
		   "cell_type": "markdown",
		   "metadata": {},
		   "source": [
			"## Example 4.23: Power_radiated_by_an_LED.sce"
		   ]
		  },
  {
"cell_type": "code",
	   "execution_count": null,
	   "metadata": {
	    "collapsed": true
	   },
	   "outputs": [],
"source": [
"// Exa 4.23\n",
"clc;\n",
"clear;\n",
"close;\n",
"// Given data\n",
"lamda= 600;// in nm\n",
"h_int= 4/100;\n",
"EpIn_eV= 1248/lamda;// in eV\n",
"I=50;// in mA\n",
"P= h_int*EpIn_eV*I;// in mW\n",
"disp(P,'Power radiated by an LED in mW is : ')"
   ]
   }
,
{
		   "cell_type": "markdown",
		   "metadata": {},
		   "source": [
			"## Example 4.24: Minimum_and_maximum_values_of_LED_current.sce"
		   ]
		  },
  {
"cell_type": "code",
	   "execution_count": null,
	   "metadata": {
	    "collapsed": true
	   },
	   "outputs": [],
"source": [
"// Exa 4.24\n",
"clc;\n",
"clear;\n",
"close;\n",
"// Given data\n",
"\n",
"V_Dmin= 2;// in V\n",
"V_Dmax= 4;// in V\n",
"Vs= 15;// in V\n",
"R1= 470;// in Ω\n",
"Imax= (Vs-V_Dmin)/R1;// in A\n",
"Imin=  (Vs-V_Dmax)/R1;// in A\n",
"disp(Imax*10^3,'The maximum value of current in mA is : ')\n",
"disp(Imin*10^3,'The minimum value of current in mA is : ')"
   ]
   }
,
{
		   "cell_type": "markdown",
		   "metadata": {},
		   "source": [
			"## Example 4.25: Smallest_standard_resistor_value.sce"
		   ]
		  },
  {
"cell_type": "code",
	   "execution_count": null,
	   "metadata": {
	    "collapsed": true
	   },
	   "outputs": [],
"source": [
"// Exa 4.25\n",
"clc;\n",
"clear;\n",
"close;\n",
"// Given data\n",
"Vout= 10;// in V\n",
"V_F= 2;// in V\n",
"Ip_max= 15;// in mA\n",
"Ip_max= Ip_max*10^-3;// in A\n",
"I_F= Ip_max;\n",
"Rs= (Vout-V_F)/I_F;// in Ω\n",
"disp(Rs,'The value of Rs in Ω is :')"
   ]
   }
,
{
		   "cell_type": "markdown",
		   "metadata": {},
		   "source": [
			"## Example 4.26: The_slope_efficiency.sce"
		   ]
		  },
  {
"cell_type": "code",
	   "execution_count": null,
	   "metadata": {
	    "collapsed": true
	   },
	   "outputs": [],
"source": [
"// Exa 4.26\n",
"clc;\n",
"clear;\n",
"close;\n",
"// Given data\n",
"Ep= 0.0153*10^-17;//in J\n",
"lamda= 1300;// in nm\n",
"nita_ext= 0.1;\n",
"e = 1.6*10^-19;//in C\n",
"Eg= 1.42*e;// in eV\n",
"S= nita_ext*Eg/e;// in W/A  (where S= deltaP/deltaI  )\n",
"disp(S,'Slope of efficiency in W/A is : ')\n",
"\n",
"// Note: In the book, the evaluated value of Eg/e is wrong because the value of 1.42*e/e = 1.42 not equal to 0.956 , Hence the answer in the book is wrong "
   ]
   }
,
{
		   "cell_type": "markdown",
		   "metadata": {},
		   "source": [
			"## Example 4.27: Power_efficiency_of_a_VCSEL_diode.sce"
		   ]
		  },
  {
"cell_type": "code",
	   "execution_count": null,
	   "metadata": {
	    "collapsed": true
	   },
	   "outputs": [],
"source": [
"// Exa 4.27\n",
"clc;\n",
"clear;\n",
"close;\n",
"// Given data\n",
"e = 1.6*10^-19;//in C\n",
"Eg= 1.48*e;// in J\n",
"R=1;// in Ω\n",
"i_p= 100;// in mA\n",
"i_p= i_p*10^-3;// in A\n",
"i_F= 10;// in mA\n",
"i_F= i_F*10^-3;// in A\n",
"Popt= 1.25;// in mW\n",
"Popt= Popt*10^-3;// in W\n",
"nitaP= Popt/((i_p^2*Eg/e)+i_F^2*R)*100;// in %\n",
"disp(nitaP,'Power efficiency in % is : ')\n",
""
   ]
   }
,
{
		   "cell_type": "markdown",
		   "metadata": {},
		   "source": [
			"## Example 4.28: Probability_of_exciting_electron.sce"
		   ]
		  },
  {
"cell_type": "code",
	   "execution_count": null,
	   "metadata": {
	    "collapsed": true
	   },
	   "outputs": [],
"source": [
"// Exa 4.28\n",
"clc;\n",
"clear;\n",
"close;\n",
"kT= 0.025;// in eV (Let as take T=300 K)\n",
"E= 1.42/2;// in ev (Let E = E_C-E_F)\n",
"FE= %e^(-E/kT);\n",
"disp(FE,'The probability of exciting electrons at conduction band will be ')"
   ]
   }
,
{
		   "cell_type": "markdown",
		   "metadata": {},
		   "source": [
			"## Example 4.29: Ratio_of_majority_to_minority_charge_carrier.sce"
		   ]
		  },
  {
"cell_type": "code",
	   "execution_count": null,
	   "metadata": {
	    "collapsed": true
	   },
	   "outputs": [],
"source": [
"// Exa 4.29\n",
"clc;\n",
"clear;\n",
"close;\n",
"k= 1.38*10^-23;\n",
"T= 300;// in K (assume)\n",
"V_D= 0.7;// The depletion voltage for silicon\n",
"e=1.6*10^-19;// in C\n",
"// n_n/n_p= p_p/p_n = %e^(e*V_D/(k*T))\n",
"ratio= %e^(e*V_D/(k*T));// ratio of majority to minority charge carriers in n and p of a silicon semiconductor\n",
"disp(ratio,'Ratio of majority to minority charge carriers in n and p of a silicon semiconductor is : ')"
   ]
   }
,
{
		   "cell_type": "markdown",
		   "metadata": {},
		   "source": [
			"## Example 4.2: Power_efficiency_of_a_VCSEL_diode.sce"
		   ]
		  },
  {
"cell_type": "code",
	   "execution_count": null,
	   "metadata": {
	    "collapsed": true
	   },
	   "outputs": [],
"source": [
"// Exa 4.2\n",
"clc;\n",
"clear;\n",
"close;\n",
"// Given data\n",
"e = 1.6*10^-19;//in C\n",
"Eg= 1.48*e;// in J\n",
"R=1;// in Ω\n",
"i_p= 100;// in mA\n",
"i_p= i_p*10^-3;// in A\n",
"i_F= 10;// in mA\n",
"i_F= i_F*10^-3;// in A\n",
"Popt= 1.25;// in mW\n",
"Popt= Popt*10^-3;// in W\n",
"nitaP= Popt/((i_p^2*Eg/e)+i_F^2*R)*100;// in %\n",
"disp(nitaP,'Power efficiency in % is : ')\n",
""
   ]
   }
,
{
		   "cell_type": "markdown",
		   "metadata": {},
		   "source": [
			"## Example 4.3: Power_radiated_by_an_LED.sce"
		   ]
		  },
  {
"cell_type": "code",
	   "execution_count": null,
	   "metadata": {
	    "collapsed": true
	   },
	   "outputs": [],
"source": [
"// Exa 4.3\n",
"clc;\n",
"clear;\n",
"close;\n",
"// Given data\n",
"lamda= 670;// in nm\n",
"h_int= 1/100;\n",
"EpIn_eV= 1248/lamda;// in eV\n",
"I=50;// in mA\n",
"P= h_int*EpIn_eV*I;// in mW\n",
"disp(P,'Power radiated by an LED in mW is : ')\n",
"\n",
"// Note : There is a calculation error in evaluating the value of P so the answer in the book is wrong"
   ]
   }
,
{
		   "cell_type": "markdown",
		   "metadata": {},
		   "source": [
			"## Example 4.4: Internal_quantum_efficiency_and_optical_power_generated.sce"
		   ]
		  },
  {
"cell_type": "code",
	   "execution_count": null,
	   "metadata": {
	    "collapsed": true
	   },
	   "outputs": [],
"source": [
"// Exa 4.4\n",
"clc;\n",
"clear;\n",
"close;\n",
"// Given data\n",
"I=40;// in mA\n",
"I=I*10^-3;// in A\n",
"lamda=1310*10^-9;// in m\n",
"h= 6.62*10^-34; // in Js\n",
"c= 3*10^8;// in m/s\n",
"e= 1.6*10^-19;// in C\n",
"toh_r= 30;// in ns\n",
"toh_nr= 100;// in ns\n",
"toh= toh_r*toh_nr/(toh_r+toh_nr);\n",
"nita_int= toh/toh_r;\n",
"disp(nita_int,'The internal quantum efficiency is : ')\n",
"Ep= h*c/lamda;// in J\n",
"P= nita_int*Ep*I/e;// in W\n",
"disp(P*10^3,'The optical power generated internally to the LED in mW is : ');\n",
" \n",
"// Note : There is a calculation error in evaluating the value of P so the answer in the book is wrong"
   ]
   }
,
{
		   "cell_type": "markdown",
		   "metadata": {},
		   "source": [
			"## Example 4.5: Photocurrent.sce"
		   ]
		  },
  {
"cell_type": "code",
	   "execution_count": null,
	   "metadata": {
	    "collapsed": true
	   },
	   "outputs": [],
"source": [
"// Exa 4.5\n",
"clc;\n",
"clear;\n",
"close;\n",
"// Given data\n",
"// Part (a)\n",
"R= 0.85;// in A/W\n",
"Pop= 1;// in mW\n",
"Ip= R*Pop;// in mA\n",
"disp(Ip,'Part (a)   The photocurrent in mA is : ')\n",
"disp('Part (b)  If the incident light power is 2mW then it is not proportional to Pop so it can not be found the value of photocurrent')"
   ]
   }
,
{
		   "cell_type": "markdown",
		   "metadata": {},
		   "source": [
			"## Example 4.6: Quantum_efficiency_of_photo_detector.sce"
		   ]
		  },
  {
"cell_type": "code",
	   "execution_count": null,
	   "metadata": {
	    "collapsed": true
	   },
	   "outputs": [],
"source": [
"// Exa 4.6\n",
"clc;\n",
"clear;\n",
"close;\n",
"// Given data\n",
"N1= 5.4*10^6;// Number of EHPs generated\n",
"N2= 6*10^6;// Number of incident photons\n",
"nita= N1/N2;\n",
"disp(nita*100,'The quantum efficiency at 1300 nm in % is : ')"
   ]
   }
,
{
		   "cell_type": "markdown",
		   "metadata": {},
		   "source": [
			"## Example 4.7: Responsivity_of_an_InGaAs_photo_diode.sce"
		   ]
		  },
  {
"cell_type": "code",
	   "execution_count": null,
	   "metadata": {
	    "collapsed": true
	   },
	   "outputs": [],
"source": [
"// Exa 4.7\n",
"clc;\n",
"clear;\n",
"close;\n",
"// Given data\n",
"e= 1.6*10^-19;// in C\n",
"Eg= 0.75*e;// in J\n",
"h= 6.62*10^-34; // in Js\n",
"c= 3*10^8;// in m/s\n",
"n=70/100;\n",
"// Formula Eg= h*c/lamda\n",
"lamda= h*c/Eg;// in m\n",
"lamda=lamda*10^9;// in nm\n",
"R= n*lamda/1248;// in A/W\n",
"disp(R,'Responsivity in A/W is : ')"
   ]
   }
,
{
		   "cell_type": "markdown",
		   "metadata": {},
		   "source": [
			"## Example 4.8: Responsivity.sce"
		   ]
		  },
  {
"cell_type": "code",
	   "execution_count": null,
	   "metadata": {
	    "collapsed": true
	   },
	   "outputs": [],
"source": [
"// Exa 4.8\n",
"clc;\n",
"clear;\n",
"close;\n",
"// Given data\n",
"n=50/100;\n",
"lamda= 900;// in nm\n",
"R= n*lamda/1248;// in A/W\n",
"disp(R,'Responsivity in A/W is : ')\n",
"\n",
"// Part (b)\n",
"Ip= 10^-6;// in A\n",
"Pop= Ip/R;// in W\n",
"disp(Pop,'The received optical power in W is : ')\n",
"\n",
"// Part (c)\n",
"h= 6.62*10^-34; // in Js\n",
"c= 3*10^8;// in m/s\n",
"// Pop= n*h*c/lamda\n",
"n= Pop*lamda*10^-9/(h*c);\n",
"disp(n,'The corresponding number of received photons is : ')\n",
"\n",
"// Note : There is a calculation error in evaluating the value of n (number of received photons) , so the answer in the book is wrong"
   ]
   }
,
{
		   "cell_type": "markdown",
		   "metadata": {},
		   "source": [
			"## Example 4.9: Currents_in_a_circuit.sce"
		   ]
		  },
  {
"cell_type": "code",
	   "execution_count": null,
	   "metadata": {
	    "collapsed": true
	   },
	   "outputs": [],
"source": [
"// Exa 4.9\n",
"clc;\n",
"clear;\n",
"close;\n",
"// Given data\n",
"V=4;// in V\n",
"Vr1= 0.7;// in V\n",
"Vr2= 0.3;// in V\n",
"R1= 4;// in kΩ\n",
"R2= 4;// in kΩ\n",
"I1= (V-Vr1)/R1;// in mA\n",
"I2= (V-Vr2)/R2;// in mA\n",
"disp(I1,'The value of I1 in mA is : ')\n",
"disp(I2,'The value of I2 in mA is : ')"
   ]
   }
],
"metadata": {
		  "kernelspec": {
		   "display_name": "Scilab",
		   "language": "scilab",
		   "name": "scilab"
		  },
		  "language_info": {
		   "file_extension": ".sce",
		   "help_links": [
			{
			 "text": "MetaKernel Magics",
			 "url": "https://github.com/calysto/metakernel/blob/master/metakernel/magics/README.md"
			}
		   ],
		   "mimetype": "text/x-octave",
		   "name": "scilab",
		   "version": "0.7.1"
		  }
		 },
		 "nbformat": 4,
		 "nbformat_minor": 0
}
