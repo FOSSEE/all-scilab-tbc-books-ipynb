{
"cells": [
 {
		   "cell_type": "markdown",
	   "metadata": {},
	   "source": [
       "# Chapter 1: Semiconductor And Magnetic Materials"
	   ]
	},
{
		   "cell_type": "markdown",
		   "metadata": {},
		   "source": [
			"## Example 1.10: Horizontal_component_of_the_magnetic_intensity.sce"
		   ]
		  },
  {
"cell_type": "code",
	   "execution_count": null,
	   "metadata": {
	    "collapsed": true
	   },
	   "outputs": [],
"source": [
"// Exa 1.10\n",
"clc;\n",
"clear;\n",
"close;\n",
"// Given data\n",
"format('v',13)\n",
"Bo= 1.7*10^-5;// in weber/meter^2\n",
"miu_o= 4*%pi*10^-7 ;// in weber/amp-meter\n",
"H= Bo/miu_o;//in A/m\n",
"disp(H,'The horizontal component of the magnetic intensity in A/m is : ')"
   ]
   }
,
{
		   "cell_type": "markdown",
		   "metadata": {},
		   "source": [
			"## Example 1.11: Current_sending_through_the_solenoid.sce"
		   ]
		  },
  {
"cell_type": "code",
	   "execution_count": null,
	   "metadata": {
	    "collapsed": true
	   },
	   "outputs": [],
"source": [
"// Exa 1.11\n",
"clc;\n",
"clear;\n",
"close;\n",
"// Given data\n",
"H= 5*10^3;// in amp/meter\n",
"N= 50;\n",
"l= 10;//in cm\n",
"l=l*10^-2;// in m\n",
"n=N/l;// in turns/meter\n",
"i= H/n;// in amp\n",
"disp(i,'Current should be sent through the solenoid in ampere is : ')"
   ]
   }
,
{
		   "cell_type": "markdown",
		   "metadata": {},
		   "source": [
			"## Example 1.12: Magnetic_moment_of_the_rod.sce"
		   ]
		  },
  {
"cell_type": "code",
	   "execution_count": null,
	   "metadata": {
	    "collapsed": true
	   },
	   "outputs": [],
"source": [
"// Exa 1.12\n",
"clc;\n",
"clear;\n",
"close;\n",
"// Given data\n",
"vol= 10^-4;// volume of the rod in m^3\n",
"i=0.5;// in amp\n",
"n= 5;// turns/cm\n",
"n= n*10^2;// turns/meter\n",
"miu_r= 1000;\n",
"//B= miu_o*(H+I)\n",
"// Where I= Bo/miu_o-H and B= miu*H = miu_r*miu_o*H\n",
"// Then I= miu_r*miu_o*H/miu_o - H = (miu_r-1)*H\n",
"// H= n*i\n",
"I= (miu_r-1)*n*i;// in amp/meter\n",
"MagMoment= I*vol;// in Am^2\n",
"disp(round(MagMoment),'Magnetic moment in Am^2 is : ')"
   ]
   }
,
{
		   "cell_type": "markdown",
		   "metadata": {},
		   "source": [
			"## Example 1.13: Relative_permeability.sce"
		   ]
		  },
  {
"cell_type": "code",
	   "execution_count": null,
	   "metadata": {
	    "collapsed": true
	   },
	   "outputs": [],
"source": [
"// Exa 1.13\n",
"clc;\n",
"clear;\n",
"close;\n",
"format('v',13);\n",
"// Given data\n",
"Xm= 9.48*10^-9;\n",
"miu_r= 1+Xm;//\n",
"disp(miu_r,'Relative permeability si : ')\n",
"disp('That is µr is slightly greater than 1');"
   ]
   }
,
{
		   "cell_type": "markdown",
		   "metadata": {},
		   "source": [
			"## Example 1.14: Flux_density.sce"
		   ]
		  },
  {
"cell_type": "code",
	   "execution_count": null,
	   "metadata": {
	    "collapsed": true
	   },
	   "outputs": [],
"source": [
"// Exa 1.14\n",
"clc;\n",
"clear;\n",
"close;\n",
"// Given data\n",
"fie_B= 2*10^-6;// in weber\n",
"A= 10^-4;// in m^2\n",
"N= 300;// number of turns\n",
"l=30;//in cm\n",
"l=l*10^-2;//in meter\n",
"i=0.032;// in amp\n",
"miu_o= 4*%pi*10^-7;\n",
"B=fie_B/A;// in weber/meter^2\n",
"disp(B,'Flux density in weber/meter^2 is : ')\n",
"H= N*i/l;// in amp-turn/meter\n",
"disp(H,'Magnetic intensity in amp-turn/meter is :')\n",
"miu= B/H;// in weber/amp-meter\n",
"disp(miu,'Pemeability in weber/amp-meter is :')\n",
"miu_r= miu/miu_o;\n",
"disp(miu_r,'Relative permeability is : ')"
   ]
   }
,
{
		   "cell_type": "markdown",
		   "metadata": {},
		   "source": [
			"## Example 1.15: Conductivity_of_a_bar.sce"
		   ]
		  },
  {
"cell_type": "code",
	   "execution_count": null,
	   "metadata": {
	    "collapsed": true
	   },
	   "outputs": [],
"source": [
"// Exa 1.15\n",
"clc;\n",
"clear;\n",
"close;\n",
"// Given data\n",
"q=1.6*10^-19;// in C\n",
"ni= 1.5*10^16;// in /m^3\n",
"miu_n= 0.13;// in m^3/vs\n",
"miu_p= 0.05;// in m^3/vs\n",
"sigma= q*ni*(miu_n+miu_p);// in Ω/m\n",
"disp(sigma,'The conductivity in Ω/m is : ')"
   ]
   }
,
{
		   "cell_type": "markdown",
		   "metadata": {},
		   "source": [
			"## Example 1.16: Hole_concentration_and_conductivity.sce"
		   ]
		  },
  {
"cell_type": "code",
	   "execution_count": null,
	   "metadata": {
	    "collapsed": true
	   },
	   "outputs": [],
"source": [
"// Exa 1.16\n",
"clc;\n",
"clear;\n",
"close;\n",
"// Given data\n",
"q=1.6*10^-19;// in C\n",
"n=4*10^22;// in /m^3\n",
"ni= 2.4*10^19;// in /m^3\n",
"miu_n= 3500;// in cm^2/vs\n",
"miu_n= miu_n*10^-4;// in m^2/vs\n",
"// Formula n*p= ni^2\n",
"p= ni^2/n;// in m^-3\n",
"disp(p,'Hole concentration in m^-3 is : ')\n",
"sigma=q*n*miu_n;// in (Ω-m)^-1\n",
"disp(sigma,'The conductivity of the extrinsic semiconductor in (Ωm)^-1 is :')\n",
"\n",
"// Note : There is miss print in the printed value of p and also calculation error in evaluating the value of p . So the answer in the book is wrong"
   ]
   }
,
{
		   "cell_type": "markdown",
		   "metadata": {},
		   "source": [
			"## Example 1.17: Hole_and_electron_concentration.sce"
		   ]
		  },
  {
"cell_type": "code",
	   "execution_count": null,
	   "metadata": {
	    "collapsed": true
	   },
	   "outputs": [],
"source": [
"// Exa 1.17\n",
"clc;\n",
"clear;\n",
"close;\n",
"// Given data\n",
"ni= 1.8*10^16;// in /m^3\n",
"q= 1.6*10^-19;// in C\n",
"em=0.14;// electron mobility in m^2/v-sec\n",
"hm=0.05;// hole mobility in m^2/v-sec\n",
"resistivity= 1.2;// in Ωm\n",
"n= 1/(q*em*resistivity);// in /m^3\n",
"disp(n,'The electron concenration in /m^3 is :')\n",
"p= ni^2/n;// in /m^3\n",
"disp(p,'The hole concentration in /m^3 is : ')"
   ]
   }
,
{
		   "cell_type": "markdown",
		   "metadata": {},
		   "source": [
			"## Example 1.18: Conductivity_of_the_material.sce"
		   ]
		  },
  {
"cell_type": "code",
	   "execution_count": null,
	   "metadata": {
	    "collapsed": true
	   },
	   "outputs": [],
"source": [
"// Exa 1.18\n",
"clc;\n",
"clear;\n",
"close;\n",
"// Given data\n",
"miu= 35.2*10^-4;// in m^2/vs\n",
"n=7.87*10^28;\n",
"e= 1.6*10^-19;// in C\n",
"sigma= n*e*miu;// in s/m\n",
"disp(sigma,'Conductivity in s/m is : ')"
   ]
   }
,
{
		   "cell_type": "markdown",
		   "metadata": {},
		   "source": [
			"## Example 1.19: Conductivity_of_intrinsic_Ge.sce"
		   ]
		  },
  {
"cell_type": "code",
	   "execution_count": null,
	   "metadata": {
	    "collapsed": true
	   },
	   "outputs": [],
"source": [
"// Exa 1.19\n",
"clc;\n",
"clear;\n",
"close;\n",
"// Given data\n",
"ni= 2.25*10^13;// in /cm^3\n",
"e= 1.6*10^-19;// in C\n",
"miu_n= 3800;// in cm^2/vs\n",
"miu_p= 1800;// in cm^2/vs\n",
"no=ni;\n",
"sigma= no*e*(miu_n+miu_p);// in s/cm\n",
"disp(sigma,'The intrinsic conductivity in s/cm is :')\n",
"\n",
"// Note: Answer in the book is wrong due to calculation error to evaluating the value of sigma"
   ]
   }
,
{
		   "cell_type": "markdown",
		   "metadata": {},
		   "source": [
			"## Example 1.20: Drift_velocity_of_free_electrons.sce"
		   ]
		  },
  {
"cell_type": "code",
	   "execution_count": null,
	   "metadata": {
	    "collapsed": true
	   },
	   "outputs": [],
"source": [
"// Exa 1.20\n",
"clc;\n",
"clear;\n",
"close;\n",
"// Given data\n",
"e= 1.6*10^-19;// in C\n",
"I=100;// in A\n",
"n_o= 8.5*10^28;// in m^-3\n",
"A=10^-5;// in m^2\n",
"// Formula I= n_o*A*e*Vd\n",
"Vd= I/(n_o*e*A);// in ms^-1\n",
"disp(Vd,'The drift velocity of free electron in ms^-1 is : ')"
   ]
   }
,
{
		   "cell_type": "markdown",
		   "metadata": {},
		   "source": [
			"## Example 1.21: Conductivity_of_Si_material.sce"
		   ]
		  },
  {
"cell_type": "code",
	   "execution_count": null,
	   "metadata": {
	    "collapsed": true
	   },
	   "outputs": [],
"source": [
"// Exa 1.21\n",
"clc;\n",
"clear;\n",
"close;\n",
"// Given data\n",
"miu_n= 0.13;// in m^2/v-sec\n",
"lip= 0.05;// in m^2/v-sec\n",
"n=5*10^28/10^9;// in /m^3\n",
"q= 1.6*10^-19;// in C\n",
"sigma= q*n*miu_n;// in (Ωm)^-1\n",
"disp(sigma,'The conductivity of silicon material in (Ωm)^-1 is : ')"
   ]
   }
,
{
		   "cell_type": "markdown",
		   "metadata": {},
		   "source": [
			"## Example 1.22: Conductivity_of_Si_material.sce"
		   ]
		  },
  {
"cell_type": "code",
	   "execution_count": null,
	   "metadata": {
	    "collapsed": true
	   },
	   "outputs": [],
"source": [
"// Exa 1.22\n",
"clc;\n",
"clear;\n",
"close;\n",
"// Given data\n",
"miu_p= 0.05;// in m^2/v-sec\n",
"rho=5*10^28/10^8;// in /m^3\n",
"q= 1.6*10^-19;// in C\n",
"sigma= q*rho*miu_p;// in (Ωm)^-1\n",
"disp(sigma,'The conductivity of silicon material in (Ωm)^-1 is : ')"
   ]
   }
,
{
		   "cell_type": "markdown",
		   "metadata": {},
		   "source": [
			"## Example 1.2: Conductivity_and_mobility.sce"
		   ]
		  },
  {
"cell_type": "code",
	   "execution_count": null,
	   "metadata": {
	    "collapsed": true
	   },
	   "outputs": [],
"source": [
"// Exa 1.2\n",
"clc;\n",
"clear;\n",
"close;\n",
"// Given data\n",
"format('v',13)\n",
"I=0.5;// in A\n",
"rho= 7.4;// in Ω/1000 ft\n",
"rho= rho/(3.05*10^4);// in Ω/cm\n",
"sigma= 1/rho;//in cm/Ω\n",
"disp(sigma,'Conductivity in Ω/cm is : ')\n",
"\n",
"// Part (ii)\n",
"n= 6.5*10^28;// in per meter cube\n",
"q= 1.6*10^-19;// in C\n",
"// Formula sigma= n*q*miu_n\n",
"miu_n= sigma/(n*q);// in cm^2/Vs\n",
"disp(miu_n,'Mobility in cm^2/Vs is : ')\n",
"\n",
"// Part (iii)\n",
"D= 2.5*10^-3;// in m\n",
"A= %pi*D^2/4;// in m^2\n",
"v_d= I/(n*q*A);// in m/s\n",
"disp(v_d,'Drift velocity in m/s is : ')"
   ]
   }
,
{
		   "cell_type": "markdown",
		   "metadata": {},
		   "source": [
			"## Example 1.3: Hole_and_electron_concentration.sce"
		   ]
		  },
  {
"cell_type": "code",
	   "execution_count": null,
	   "metadata": {
	    "collapsed": true
	   },
	   "outputs": [],
"source": [
"// Exa 1.3\n",
"clc;\n",
"clear;\n",
"close;\n",
"// Given data\n",
"format('v',13)\n",
"N_D= 6*10^18;// in per cube cm\n",
"N_A= 3*10^15;// in per cube cm\n",
"ni= 2.5*10^12;\n",
"Nn= N_D-N_A;// in per cube cm\n",
"rho_n= ni^2/Nn;// in per cube cm\n",
"// Part (i)\n",
"disp(rho_n,'The concentration of holes in n-type in per cm^3 is : ')\n",
"disp(Nn,'Concentration  of electrons in n-type in per cm^3 is : ')\n",
"// Part (ii)\n",
"disp('The material is of n-type')"
   ]
   }
,
{
		   "cell_type": "markdown",
		   "metadata": {},
		   "source": [
			"## Example 1.4: Conductivity_and_resistivity.sce"
		   ]
		  },
  {
"cell_type": "code",
	   "execution_count": null,
	   "metadata": {
	    "collapsed": true
	   },
	   "outputs": [],
"source": [
"// Exa 1.4\n",
"clc;\n",
"clear;\n",
"close;\n",
"// Given data\n",
"format('v',13)\n",
"ni= 2.5*10^19;\n",
"q= 1.6*10^-19;// in C\n",
"miu_n= 0.36;\n",
"miu_p= 0.17;\n",
"sigma= q*ni*(miu_n+miu_p);// in s/m\n",
"rho= 1/sigma;// in Ωm\n",
"disp(sigma,'The conductivity of Ge in s/m is ')\n",
"disp(rho,'The resistivity of Ge in Ωm is : ')"
   ]
   }
,
{
		   "cell_type": "markdown",
		   "metadata": {},
		   "source": [
			"## Example 1.5: Conductivity.sce"
		   ]
		  },
  {
"cell_type": "code",
	   "execution_count": null,
	   "metadata": {
	    "collapsed": true
	   },
	   "outputs": [],
"source": [
"// Exa 1.5\n",
"clc;\n",
"clear;\n",
"close;\n",
"// Given data\n",
"format('v',13)\n",
"e= 1.6*10^-19;// in C\n",
"ni= 1.5*10^16;\n",
"miu_n= 0.13;\n",
"miu_p= 0.05;\n",
"atomicDensity= 5*10^28;//atomic density of Si in /m^3\n",
"C= 1/(2*10^8);// concentration  \n",
"N_D= atomicDensity*C;// in /m^3\n",
"n=N_D;\n",
"p= ni^2/N_D;// in /m^3\n",
"sigma= e*(n*miu_n+p*miu_p);// in s/m\n",
"disp(sigma,'Conductivity of the extrinsic semiconductor in s/m is : ')\n",
""
   ]
   }
,
{
		   "cell_type": "markdown",
		   "metadata": {},
		   "source": [
			"## Example 1.6: Fraction_of_the_total_number_of_electrons.sce"
		   ]
		  },
  {
"cell_type": "code",
	   "execution_count": null,
	   "metadata": {
	    "collapsed": true
	   },
	   "outputs": [],
"source": [
"// Exa 1.6\n",
"clc;\n",
"clear;\n",
"close;\n",
"// Given data\n",
"format('v',13)\n",
"Eg= 0.72;// in eV\n",
"Ef= Eg/2;//in eV\n",
"K= 8.61*10^-5;// in eV/K\n",
"T=300;//in K\n",
"nc= 1;\n",
"n= 1+%e^((Eg-Ef)/(K*T));\n",
"ncBYn= nc/n;\n",
"disp(ncBYn,'The fraction of the total number or electrons is : ')"
   ]
   }
,
{
		   "cell_type": "markdown",
		   "metadata": {},
		   "source": [
			"## Example 1.7: Ratio_of_electron_to_hole_concentration.sce"
		   ]
		  },
  {
"cell_type": "code",
	   "execution_count": null,
	   "metadata": {
	    "collapsed": true
	   },
	   "outputs": [],
"source": [
"// Exa 1.7\n",
"clc;\n",
"clear;\n",
"close;\n",
"// Given data\n",
"format('v',13)\n",
"ni= 1.4*10^18;//in /m^3\n",
"N_D= 1.4*10^24;//in /m^3 \n",
"n=N_D;\n",
"p= ni^2/n;// in /m^3\n",
"nbyp= n/p;\n",
"disp(nbyp,'The ratio of electron to holes concentration is : ')"
   ]
   }
,
{
		   "cell_type": "markdown",
		   "metadata": {},
		   "source": [
			"## Example 1.8: Charge_density_of_free_electrons.sce"
		   ]
		  },
  {
"cell_type": "code",
	   "execution_count": null,
	   "metadata": {
	    "collapsed": true
	   },
	   "outputs": [],
"source": [
"// Exa 1.8\n",
"clc;\n",
"clear;\n",
"close;\n",
"// Given data\n",
"format('v',13)\n",
"d= 2;// in mm\n",
"d=d*10^-3;//in m\n",
"sigma= 5.8*10^7;// in s/m\n",
"miu_c= 0.0032;// in m^2/v-sec\n",
"E= 20;//in mV/m\n",
"E=E*10^-3;//in V/m\n",
"e= 1.6*10^-19;// in C\n",
"// Part (a)\n",
"n= sigma/(e*miu_c);//in /m^3\n",
"disp(n,'Charge density per meter cube is : ')\n",
"\n",
"// Part (b)\n",
"J= sigma*E;//in A/m^2\n",
"disp(J,'Current density in A/m^2 is : ')\n",
"\n",
"// Part (c)\n",
"Area= %pi*d^2/4;// in area of cross-section of wire in m^2\n",
"I= J*Area;// in A\n",
"disp(I,'Current flowing in the wire in amp is : ')\n",
"\n",
"// Part (d)\n",
"v= miu_c*E;// in m/sec\n",
"disp(v,'Electron drift velocity in m/sec is : ')"
   ]
   }
,
{
		   "cell_type": "markdown",
		   "metadata": {},
		   "source": [
			"## Example 1.9: Time_taken_by_the_electron_to_travel.sce"
		   ]
		  },
  {
"cell_type": "code",
	   "execution_count": null,
	   "metadata": {
	    "collapsed": true
	   },
	   "outputs": [],
"source": [
"// Exa 1.9\n",
"clc;\n",
"clear;\n",
"close;\n",
"// Given data\n",
"format('v',13)\n",
"rho= 0.5;// in Ω-m\n",
"miu_c= 0.4;// in m^2/v-sec\n",
"J=100;//in A/m^2\n",
"distance=10;// µm\n",
"distance=distance*10^-6;//in sec\n",
"// V= miu_c*E = miu_c*J/sigma = miu_c*J*rho \n",
"V=  miu_c*J*rho ;// in m/sec\n",
"disp(V,'Drift velocity in m/sec is : ')\n",
"T= distance/V;// in second\n",
"disp(T,'The time taken by the electron to travel 10 micro meter in the crystal in second is :  ')"
   ]
   }
],
"metadata": {
		  "kernelspec": {
		   "display_name": "Scilab",
		   "language": "scilab",
		   "name": "scilab"
		  },
		  "language_info": {
		   "file_extension": ".sce",
		   "help_links": [
			{
			 "text": "MetaKernel Magics",
			 "url": "https://github.com/calysto/metakernel/blob/master/metakernel/magics/README.md"
			}
		   ],
		   "mimetype": "text/x-octave",
		   "name": "scilab",
		   "version": "0.7.1"
		  }
		 },
		 "nbformat": 4,
		 "nbformat_minor": 0
}
