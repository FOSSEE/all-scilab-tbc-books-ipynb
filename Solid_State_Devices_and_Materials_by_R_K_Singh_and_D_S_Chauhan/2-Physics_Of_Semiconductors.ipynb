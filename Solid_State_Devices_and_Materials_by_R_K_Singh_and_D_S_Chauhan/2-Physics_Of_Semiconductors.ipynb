{
"cells": [
 {
		   "cell_type": "markdown",
	   "metadata": {},
	   "source": [
       "# Chapter 2: Physics Of Semiconductors"
	   ]
	},
{
		   "cell_type": "markdown",
		   "metadata": {},
		   "source": [
			"## Example 2.10: Minority_carrier_concentration.sce"
		   ]
		  },
  {
"cell_type": "code",
	   "execution_count": null,
	   "metadata": {
	    "collapsed": true
	   },
	   "outputs": [],
"source": [
"// Exa 2.10\n",
"clc;\n",
"clear;\n",
"close;\n",
"// Given data\n",
"ni= 1.8*10^15;// in /m^3\n",
"rho= 2*10^5;// in Ωm\n",
"q=1.6*10^-19;// in C\n",
"dopingConcentration= 10^25;// in /m^3\n",
"n=dopingConcentration;\n",
"MCC= ni^2/dopingConcentration; // Minority carrier concentration per cube meter\n",
"miu_n= 1/(2*rho*q*ni);// in m^3/Vs\n",
"disp(miu_n,'The value of µn in m^3/Vs is : ')\n",
"\n",
"// Part (b)\n",
"sigma= q*n*miu_n;//in (Ωm)^-1\n",
"rho= 1/sigma;// in Ωm\n",
"disp(rho,'Resistivity in Ωm is : ')\n",
"\n",
"// Part(c)\n",
"kT= 26*10^-3;//in V\n",
"no= n;// in /m^3\n",
"Shift_inFermiLevel= kT*log(no/ni);// in eV\n",
"disp(Shift_inFermiLevel,'Shift in Fermi level due to doping in eV is :')\n",
"disp('Hence, E_F lies '+string(Shift_inFermiLevel)+' eV above Fermi level Ei')\n",
"\n",
"// Part (d)\n",
"MCC= ni^2/dopingConcentration; // Minority carrier concentration per cube meter\n",
"disp(MCC,'Minority carrier concentration per cube meter when its temperature is increased is : ')"
   ]
   }
,
{
		   "cell_type": "markdown",
		   "metadata": {},
		   "source": [
			"## Example 2.11: Conductivity_and_resistivity_of_intrinsic_sample_of_Si.sce"
		   ]
		  },
  {
"cell_type": "code",
	   "execution_count": null,
	   "metadata": {
	    "collapsed": true
	   },
	   "outputs": [],
"source": [
"// Exa 2.11\n",
"clc;\n",
"clear;\n",
"close;\n",
"// Given data\n",
"miu_n= 1700;//in cm^2/Vs\n",
"miu_p= 560;//in cm^2/Vs\n",
"ni= 2.5*10^10;// in /cm^3\n",
"q=1.6*10^-19;// in C\n",
"sigma= q*ni*(miu_n+miu_p);//in (Ωcm)^-1\n",
"rho= 1/sigma;// in Ωcm\n",
"disp(sigma,'Conductivity of intrinsic sample in (Ωcm)^-1 is : ')\n",
"disp(rho,'Resistivity of intrinsic sample in Ωcm')"
   ]
   }
,
{
		   "cell_type": "markdown",
		   "metadata": {},
		   "source": [
			"## Example 2.12: Resistivity_of_Si.sce"
		   ]
		  },
  {
"cell_type": "code",
	   "execution_count": null,
	   "metadata": {
	    "collapsed": true
	   },
	   "outputs": [],
"source": [
"// Exa 2.12\n",
"clc;\n",
"clear;\n",
"close;\n",
"// Given data\n",
"ni= 1.45*10^10;// in /cm^3\n",
"q=1.6*10^-19;// in C\n",
"miu_n= 1300;// in cm^2/Vs\n",
"density= 5*10^22;// density of silicon atom in /cm^3\n",
"N_D= density/10^12;\n",
"n=N_D;\n",
"// n*p= ni^2\n",
"p= ni^2/n;//in /cm^3\n",
"sigma= q*n*miu_n;// in (Ωcm)^-1\n",
"rho= 1/sigma;// in Ωcm\n",
"disp(rho,'Resistivity of silicon in Ωcm is : ')\n",
"\n",
"// Note: The value of n is putted wrong (5*10^14 at place of 5*10^10) to evaluate the value of sigma. So the answer in the book is wrong ."
   ]
   }
,
{
		   "cell_type": "markdown",
		   "metadata": {},
		   "source": [
			"## Example 2.13: Total_conduction_current_density.sce"
		   ]
		  },
  {
"cell_type": "code",
	   "execution_count": null,
	   "metadata": {
	    "collapsed": true
	   },
	   "outputs": [],
"source": [
"// Exa 2.13\n",
"clc;\n",
"clear;\n",
"close;\n",
"// Given data\n",
"q=1.6*10^-19;// in C\n",
"rho=75;//in Ωcm\n",
"N_D= 10^13;// in /cm^3\n",
"N_A= 5*10^12;//in /cm^3\n",
"E=3;// in V/cm\n",
"ni= 2.7*10^12;// in /cm^3\n",
"sigma= 1/rho;// in (Ωcm)^-1\n",
"// miu_p/miu_n= 1/3 or miu_n=3*miu_p\n",
"// sigma= q*ni*(miu_n+miu_p) = q*ni*(3*miu_p+miu_p) = q*ni*(4*miu_p)\n",
"miu_p= sigma/(q*ni*4);\n",
"miu_n= 3*miu_p;\n",
"// n+N_A= p+N_D  or  n= p+N_D-N_A\n",
"// n*p= ni^2  or  (p+N_D-N_A)*p= ni^2\n",
"// p^2 + (N_D-N_A)*p-ni^2 =0\n",
"// values= [1 (N_D-N_A) -ni^2];\n",
"p = roots([1 5*10^12 -7.29*10^24])\n",
"p=p(2);//discarding -ve value\n",
"n=p+N_D-N_A;\n",
"I= q*(n*miu_n+p*miu_p)*E// in A/m^2\n",
"disp(I,'The total conduction current in A/m^2 is : ') \n",
"\n",
"// Note: There is some difference between book answer and coding. The reson behind this is that\n",
"//          The value of P is evaluated 1.8*10^12 while accurate value is 1.179674*10^12"
   ]
   }
,
{
		   "cell_type": "markdown",
		   "metadata": {},
		   "source": [
			"## Example 2.14: The_minority_carrier_concentration_at_room_temperature.sce"
		   ]
		  },
  {
"cell_type": "code",
	   "execution_count": null,
	   "metadata": {
	    "collapsed": true
	   },
	   "outputs": [],
"source": [
"// Exa 2.14\n",
"clc;\n",
"clear;\n",
"close;\n",
"// Given data\n",
"N_D= 10^20;// in /cm^3\n",
"ni= 2.5*10^12;// in /cm^3\n",
"kT=26;// in meV\n",
"kT=kT*10^-3;// in eV\n",
"n= N_D;// as N_D>>ni\n",
"p= ni^2/n;//in /cm^3\n",
"disp(p,'The minority carrier concentration per cm^3 is :')\n",
"\n",
"// Part (b)\n",
"LocationOfFermiLevel= kT*log(N_D/ni);// in eV\n",
"disp('The Fermi Level will be '+string(LocationOfFermiLevel)+' eV above Fermi level')\n",
"\n",
"//Note: The value of Minority carrier concentration of part(a) is calculated wrong because the value of (2.5*10^12)^2/(10^20) will be 62500 not 2.5*10^4"
   ]
   }
,
{
		   "cell_type": "markdown",
		   "metadata": {},
		   "source": [
			"## Example 2.15: Doping_level_and_drift_velocity.sce"
		   ]
		  },
  {
"cell_type": "code",
	   "execution_count": null,
	   "metadata": {
	    "collapsed": true
	   },
	   "outputs": [],
"source": [
"// Exa 2.15\n",
"clc;\n",
"clear;\n",
"close;\n",
"// Given data\n",
"miu_n= 1300;// in cm^2/Vs\n",
"q=1.6*10^-19;// in C\n",
"ni= 4.3*10^-6;// in /cm^3\n",
"V= 1;// in volt\n",
"L=8;// in cm\n",
"A=0.8*0.8;// in cm^2\n",
"I=4*10^-3;// in A\n",
"// R= rho*L/A = V/I\n",
"R= V/I;// in Ω\n",
"sigma= L/(R*A);// in (Ωcm)^-1\n",
"// sigma= q*n*miu_n\n",
"n= sigma/(q*miu_n);\n",
"N_D= n;\n",
"disp(N_D,'The value of N_D is :')\n",
"// Part (b)\n",
"d=L;\n",
"E= V/d;\n",
"vd=miu_n*E;// in cm/s\n",
"disp(vd,'Drift velocity in cm/s is : ')"
   ]
   }
,
{
		   "cell_type": "markdown",
		   "metadata": {},
		   "source": [
			"## Example 2.16: Relaxatime_and_drift_velocity_of_electron_in_copper.sce"
		   ]
		  },
  {
"cell_type": "code",
	   "execution_count": null,
	   "metadata": {
	    "collapsed": true
	   },
	   "outputs": [],
"source": [
"// Exa 2.16\n",
"clc;\n",
"clear;\n",
"close;\n",
"// Given data\n",
"E= 1;//in v/m\n",
"miu= 32*10^-4;// in m^2/Vs\n",
"m= 9.1*10^-28;// in gram\n",
"m=m*10^-3;// in kg\n",
"q=1.6*10^-19;// in C\n",
"toh_r= 2*miu*m/q;// in sec\n",
"Vd= miu*E;// in m/sec\n",
"disp(toh_r,'The relaxation time in sec is :')\n",
"disp(Vd*10^2,'Drift velocity in cm/sec is :')"
   ]
   }
,
{
		   "cell_type": "markdown",
		   "metadata": {},
		   "source": [
			"## Example 2.17: Resistivity_of_the_material.sce"
		   ]
		  },
  {
"cell_type": "code",
	   "execution_count": null,
	   "metadata": {
	    "collapsed": true
	   },
	   "outputs": [],
"source": [
"// Exa 2.17\n",
"clc;\n",
"clear;\n",
"close;\n",
"// Given data\n",
"miu_n= 0.145;// in m^2/Vs\n",
"miu_p= 0.05;// in m^2/Vs\n",
"q=1.6*10^-19;// in C\n",
"n=10^15;// per m^3\n",
"p=10^2;// per m^3\n",
"rho= 1/(q*(n*miu_n+p*miu_p));// in Ωm\n",
"disp(rho,'The resistivity in Ωm is :')"
   ]
   }
,
{
		   "cell_type": "markdown",
		   "metadata": {},
		   "source": [
			"## Example 2.18: Conductivity_of_Si_material.sce"
		   ]
		  },
  {
"cell_type": "code",
	   "execution_count": null,
	   "metadata": {
	    "collapsed": true
	   },
	   "outputs": [],
"source": [
"// Exa 2.18\n",
"clc;\n",
"clear;\n",
"close;\n",
"// Given data\n",
"miu_n= 0.13;// in m^2/Vs\n",
"miu_p= 0.05;// in m^2/Vs\n",
"q=1.6*10^-19;// in C\n",
"ni=1.5*10^16;// per m^3\n",
"sigma_intrinsic= q*ni*(miu_n+miu_p);// in (Ωm)^-1\n",
"disp(sigma_intrinsic,'The conductivity of silicon in Intrinsic condition in (Ωm)^-1 is : ')\n",
"\n",
"// Part (b)\n",
"n= 5*10^28/10^9;\n",
"sigma= q*n*miu_n;// in (Ωm)^-1\n",
"disp(sigma,'The conductivity with donar impurity in (Ωm)^-1 is : ')\n",
"\n",
"// Part (c)\n",
"p= 5*10^28/10^8;\n",
"sigma= q*p*miu_p;// in (Ωm)^-1\n",
"disp(sigma,'The conductivity with acceptor impurity in (Ωm)^-1 is : ')\n",
"\n",
"// Part (d)\n",
"p_desh= p-n;// in /m^3\n",
"sigma= q*p_desh*miu_p;// in (Ωm)^-1\n",
"disp(sigma,'The conductivity with donar and acceptor impurity in (Ωm)^-1 is : ')\n",
"\n",
"// Note : Answer in the book of part (a) may be miss printed or wrong"
   ]
   }
,
{
		   "cell_type": "markdown",
		   "metadata": {},
		   "source": [
			"## Example 2.19: Electron_hole_concentration_in_the_material.sce"
		   ]
		  },
  {
"cell_type": "code",
	   "execution_count": null,
	   "metadata": {
	    "collapsed": true
	   },
	   "outputs": [],
"source": [
"// Exa 2.19\n",
"clc;\n",
"clear;\n",
"close;\n",
"// Given data\n",
"rho= 1.2;// in Ωm\n",
"miu_n= 0.14;// in m^2/Vs\n",
"q=1.6*10^-19;// in C\n",
"ni= 1.8*10^16;// per m^3\n",
"// sigma = 1/rho = q*n*miu_n\n",
"n= 1/(rho*q*miu_n);// per m^3\n",
"p= ni^2/n;// per m^3\n",
"disp(n,'The value of n in per m^3 is :')\n",
"disp(p,'The value of p in per m^3 is :')"
   ]
   }
,
{
		   "cell_type": "markdown",
		   "metadata": {},
		   "source": [
			"## Example 2.1: Mobility_and_drift_velocity.sce"
		   ]
		  },
  {
"cell_type": "code",
	   "execution_count": null,
	   "metadata": {
	    "collapsed": true
	   },
	   "outputs": [],
"source": [
"// Exa 2.1\n",
"clc;\n",
"clear;\n",
"close;\n",
"// Given data\n",
"miu= 0.3;// in m^2/vs\n",
"V= 50;// in mV\n",
"V=V*10^-3;// in V\n",
"d=0.4;// in mm\n",
"d=d*10^-3;// in m\n",
"// Part (a)\n",
"// miu= vd/E and vd= miu*E, so\n",
"vd= miu*V/d;// in m/s\n",
"disp(vd,'Drift velocity in m/s is : ')\n",
"\n",
"// Part (b)\n",
"T= d/vd;// in sec\n",
"disp(T*10^6,'Time required for an electron to move in µs is :')"
   ]
   }
,
{
		   "cell_type": "markdown",
		   "metadata": {},
		   "source": [
			"## Example 2.20: Resistivity.sce"
		   ]
		  },
  {
"cell_type": "code",
	   "execution_count": null,
	   "metadata": {
	    "collapsed": true
	   },
	   "outputs": [],
"source": [
"// Exa 2.20\n",
"clc;\n",
"clear;\n",
"close;\n",
"// Given data\n",
"N_D= 5*10^22/10^8;\n",
"q=1.6*10^-19;// in C\n",
"ni= 1.45*10^10;// per m^3\n",
"miu_n= 1300;// in m^2/Vs\n",
"// n*p= ni^2 or N_D*p = ni^2\n",
"p= ni^2/N_D;// in /cm^3\n",
"sigma= q*miu_n*N_D;// in (Ωcm)^-1\n",
"rho= 1/sigma;//in Ωcm\n",
"disp(rho,'Resistivity in Ωcm is : ')"
   ]
   }
,
{
		   "cell_type": "markdown",
		   "metadata": {},
		   "source": [
			"## Example 2.21: Conductivity_and_mobility_for_a_copper_wire.sce"
		   ]
		  },
  {
"cell_type": "code",
	   "execution_count": null,
	   "metadata": {
	    "collapsed": true
	   },
	   "outputs": [],
"source": [
"// Exa 2.21\n",
"clc;\n",
"clear;\n",
"close;\n",
"// Given data\n",
"q=1.6*10^-19;// in C\n",
"n=8.4*10^28;\n",
"rho= 6.51;// in Ω/1000ft\n",
"rho= rho/(3.05*10^4);// in Ω/cm\n",
"sigma= 1/rho;// in mho/cm\n",
"sigma=sigma*10^2;// in mho/m\n",
"// sigma= n*q*miu\n",
"miu= sigma/(n*q);// in m^2/v-s\n",
"disp(sigma,'Conductivity in mho/m is : ')\n",
"disp(miu,'Mobility in m^2/v-s is : ')"
   ]
   }
,
{
		   "cell_type": "markdown",
		   "metadata": {},
		   "source": [
			"## Example 2.22: Conductivity_and_resistivity_of_an_intrinsic_Si.sce"
		   ]
		  },
  {
"cell_type": "code",
	   "execution_count": null,
	   "metadata": {
	    "collapsed": true
	   },
	   "outputs": [],
"source": [
"// Exa 2.22\n",
"clc;\n",
"clear;\n",
"close;\n",
"// Given data\n",
"miu_n= 1350;// in cm^2/v-sec\n",
"miu_p= 480;// in cm^2/v-sec\n",
"ni=1.52*10^10;// in /cm^3\n",
"q=1.6*10^-19;// in C\n",
"sigma= q*ni*(miu_n+miu_p);// in (Ωcm)^-1\n",
"rho= 1/sigma;// in Ωcm\n",
"disp(sigma,'Conductivity in (Ωcm)^-1 is : ')\n",
"disp(rho,'Resistivity in Ωcm is : ')"
   ]
   }
,
{
		   "cell_type": "markdown",
		   "metadata": {},
		   "source": [
			"## Example 2.23: The_value_of_intrinsic_conductivity.sce"
		   ]
		  },
  {
"cell_type": "code",
	   "execution_count": null,
	   "metadata": {
	    "collapsed": true
	   },
	   "outputs": [],
"source": [
"// Exa 2.23\n",
"clc;\n",
"clear;\n",
"close;\n",
"// Given data\n",
"ni=2.5*10^19;// in /m^3\n",
"miu_n= 0.38;// in m^2/v-sec\n",
"miu_p= 0.18;// in m^2/v-sec\n",
"q=1.6*10^-19;// in C\n",
"sigma= q*ni*(miu_n+miu_p);// in (Ωm)^-1\n",
"disp(sigma,'Conductivity in (Ωm)^-1 is : ')"
   ]
   }
,
{
		   "cell_type": "markdown",
		   "metadata": {},
		   "source": [
			"## Example 2.24: Intrinsic_carrier_concentration_of_Ge.sce"
		   ]
		  },
  {
"cell_type": "code",
	   "execution_count": null,
	   "metadata": {
	    "collapsed": true
	   },
	   "outputs": [],
"source": [
"// Exa 2.24\n",
"clc;\n",
"clear;\n",
"close;\n",
"// Given data\n",
"rho= 0.5;// in \n",
"miu_n= 0.39;// in m^2/v-sec\n",
"miu_p= 0.19;// in m^2/v-sec\n",
"q=1.6*10^-19;// in C\n",
"sigma= 1/rho;// in (Ωm)^-1\n",
"// Formula sigma= q*ni*(miu_n+miu_p)\n",
"ni= sigma/(q*(miu_n+miu_p));// in /m^3\n",
"disp(ni,'The intrinsic carrier concentration of germanium in /m^3 is : ')"
   ]
   }
,
{
		   "cell_type": "markdown",
		   "metadata": {},
		   "source": [
			"## Example 2.25: Conductivity_of_Si_sample.sce"
		   ]
		  },
  {
"cell_type": "code",
	   "execution_count": null,
	   "metadata": {
	    "collapsed": true
	   },
	   "outputs": [],
"source": [
"// Exa 2.25\n",
"clc;\n",
"clear;\n",
"close;\n",
"// Given data\n",
"q=1.6*10^-19;// in C\n",
"miu_n= 0.18;// in m^2/v-s\n",
"N_D= 10^21;// per m^3\n",
"N_A= 5*10^20;// per m^3\n",
"N_deshD= N_D-N_A;// per m^3\n",
"n=N_deshD;// per m^3\n",
"sigma= q*n*miu_n;// in (Ωm)^-1\n",
"disp(sigma,'Conductivity of the silicon sample in (Ωm)^-1 is : ')"
   ]
   }
,
{
		   "cell_type": "markdown",
		   "metadata": {},
		   "source": [
			"## Example 2.26: Conductivity_and_resistivity_of_Ge.sce"
		   ]
		  },
  {
"cell_type": "code",
	   "execution_count": null,
	   "metadata": {
	    "collapsed": true
	   },
	   "outputs": [],
"source": [
"// Exa 2.26\n",
"clc;\n",
"clear;\n",
"close;\n",
"// Given data\n",
"q=1.6*10^-19;// in C\n",
"miu_n= 0.36;// in m^2/v-s\n",
"miu_p= 0.17;// in m^2/v-s\n",
"ni= 2.5*10^19;// per m^3\n",
"sigma= q*ni*(miu_n+miu_p);// in s/m\n",
"rho= 1/sigma;// in Ωm\n",
"disp(sigma,'Conductivity of Ge in s/m is : ')\n",
"disp(rho,'Resistivity in Ωm is : ')"
   ]
   }
,
{
		   "cell_type": "markdown",
		   "metadata": {},
		   "source": [
			"## Example 2.27: Conductivity_of_extrinsic_semiconductor.sce"
		   ]
		  },
  {
"cell_type": "code",
	   "execution_count": null,
	   "metadata": {
	    "collapsed": true
	   },
	   "outputs": [],
"source": [
"// Exa 2.27\n",
"clc;\n",
"clear;\n",
"close;\n",
"// Given data\n",
"e=1.6*10^-19;// in C\n",
"miu_n= 0.13;// in m^2/v-s\n",
"miu_p= 0.05;// in m^2/v-s\n",
"N_D= 5*10^28/(2*10^8);// per m^3\n",
"n=N_D;// per m^3\n",
"ni= 1.5*10^16;// per m^3\n",
"p= ni^2/N_D;// per m^3\n",
"sigma= e*(n*miu_n+p*miu_p);// in s/m\n",
"disp(sigma,'Conductivity of the intrinsic semiconductor in s/m is ')"
   ]
   }
,
{
		   "cell_type": "markdown",
		   "metadata": {},
		   "source": [
			"## Example 2.28: Fraction_of_the_total_number_of_electrons.sce"
		   ]
		  },
  {
"cell_type": "code",
	   "execution_count": null,
	   "metadata": {
	    "collapsed": true
	   },
	   "outputs": [],
"source": [
"// Exa 2.28\n",
"clc;\n",
"clear;\n",
"close;\n",
"// Given data\n",
"format('v',13)\n",
"Eg= 0.72;// in eV\n",
"Ef= Eg/2;//in eV\n",
"K= 8.61*10^-5;// in eV/K\n",
"T=300;//in K\n",
"nc= 1;\n",
"n= 1+%e^((Eg-Ef)/(K*T));\n",
"ncBYn= nc/n;\n",
"disp(ncBYn,'The fraction of the total number or electrons is : ')"
   ]
   }
,
{
		   "cell_type": "markdown",
		   "metadata": {},
		   "source": [
			"## Example 2.29: Ratio_of_electron_to_hole_concentration.sce"
		   ]
		  },
  {
"cell_type": "code",
	   "execution_count": null,
	   "metadata": {
	    "collapsed": true
	   },
	   "outputs": [],
"source": [
"// Exa 2.29\n",
"clc;\n",
"clear;\n",
"close;\n",
"// Given data\n",
"N_D= 1.4*10^24;// per m^3\n",
"ni= 1.4*10^18;// per m^3\n",
"n=N_D;//per m^3\n",
"p=ni^2/n;// per m^3\n",
"R= n/p;// ratio of electron to holes concentration\n",
"disp(R,'Ratio of electron to holes concentraiton is : ')"
   ]
   }
,
{
		   "cell_type": "markdown",
		   "metadata": {},
		   "source": [
			"## Example 2.2: Value_of_intrinsic_conductivities.sce"
		   ]
		  },
  {
"cell_type": "code",
	   "execution_count": null,
	   "metadata": {
	    "collapsed": true
	   },
	   "outputs": [],
"source": [
"// Exa 2.2\n",
"clc;\n",
"clear;\n",
"close;\n",
"// Given data\n",
"miu_n= 0.36;// in m^2/vs\n",
"miu_p= 0.17;// in m^2/vs\n",
"ni= 2.9*10^19;// in /m^3\n",
"q=1.6*10^-19;// in C\n",
"sigma_i= q*ni*(miu_n+miu_p);// in (Ωm)^-1\n",
"disp(sigma_i,'Intrinsic conductivity of Ge in (Ωm)^-1 is :')"
   ]
   }
,
{
		   "cell_type": "markdown",
		   "metadata": {},
		   "source": [
			"## Example 2.30: Charge_density_of_free_electrons.sce"
		   ]
		  },
  {
"cell_type": "code",
	   "execution_count": null,
	   "metadata": {
	    "collapsed": true
	   },
	   "outputs": [],
"source": [
"// Exa 2.30\n",
"clc;\n",
"clear;\n",
"close;\n",
"// Given data\n",
"e=1.6*10^-19;// in C\n",
"miu_e= 0.0032;// in m^2/v-s\n",
"sigma= 5.8*10^7;// in s/m\n",
"E= 20*10^-3;// in V/m\n",
"d=0.002;// in m\n",
"Area= %pi*d^2/4;// in m^2\n",
"\n",
"// Part (a)\n",
"n= sigma/(e*miu_e);// per m^3\n",
"disp(n,'The charge density per meter cube is : ')\n",
"\n",
"// Part (b)\n",
"J= sigma*E;// in A/m^2\n",
"disp(J,'Current density in A/m^2 is : ')\n",
"\n",
"// Part (c)\n",
"I= J*Area;// in A\n",
"disp(I,'Current flowing in the wire in ampere is : ')\n",
"\n",
"// Part (d)\n",
"v=miu_e*E;// in m/sec\n",
"disp(v,'Electron drift velocity in m/sec is : ')"
   ]
   }
,
{
		   "cell_type": "markdown",
		   "metadata": {},
		   "source": [
			"## Example 2.31: Drift_velocity_and_time_taken_by_the_electron_to_travel.sce"
		   ]
		  },
  {
"cell_type": "code",
	   "execution_count": null,
	   "metadata": {
	    "collapsed": true
	   },
	   "outputs": [],
"source": [
"// Exa 2.31\n",
"clc;\n",
"clear;\n",
"close;\n",
"// Given data\n",
"format('v',13)\n",
"rho= 0.5;// in Ω-m\n",
"miu_c= 0.4;// in m^2/v-sec\n",
"J=100;//in A/m^2\n",
"distance=10;// µm\n",
"distance=distance*10^-6;//in sec\n",
"// V= miu_c*E = miu_c*J/sigma = miu_c*J*rho \n",
"V=  miu_c*J*rho ;// in m/sec\n",
"disp(V,'Drift velocity in m/sec is : ')\n",
"T= distance/V;// in second\n",
"disp(T,'The time taken by the electron to travel 10 micro meter in the crystal in second is :  ')"
   ]
   }
,
{
		   "cell_type": "markdown",
		   "metadata": {},
		   "source": [
			"## Example 2.32: Conductivity_of_intrinsic_Ge.sce"
		   ]
		  },
  {
"cell_type": "code",
	   "execution_count": null,
	   "metadata": {
	    "collapsed": true
	   },
	   "outputs": [],
"source": [
"// Exa 2.32\n",
"clc;\n",
"clear;\n",
"close;\n",
"// Given data\n",
"e=1.6*10^-19;// in C\n",
"miu_e= 3800;// in cm v-s\n",
"miu_p= 1800;// in cm v-s\n",
"ni= 2.5*10^13;// per cm^3\n",
"N_D= 4.4*10^22*10^-7;// per cm^3\n",
"n=N_D;// per cm^3\n",
"p= ni^2/N_D;// holes/cm^3\n",
"sigma_i= ni*e*(miu_e+miu_p);// in (Ωcm)^-1\n",
"sigma_n= e*N_D*miu_e;// in (Ωcm)^-1\n",
"disp(sigma_i,'Intrinsic conductivity in (Ωcm)^-1 is : ')\n",
"disp(n,'Concentration of electrons per cm^3 is : ')\n",
"disp(p,'Concentration of holes per cm^3 is : ')\n",
"disp(sigma_n,'The conductivity in n-type Ge semiconductor in (Ωcm)^-1 is : ')"
   ]
   }
,
{
		   "cell_type": "markdown",
		   "metadata": {},
		   "source": [
			"## Example 2.33: Electron_and_hole_drift_velocity.sce"
		   ]
		  },
  {
"cell_type": "code",
	   "execution_count": null,
	   "metadata": {
	    "collapsed": true
	   },
	   "outputs": [],
"source": [
"// Exa 2.33\n",
"clc;\n",
"clear;\n",
"close;\n",
"// Given data\n",
"e=1.6*10^-19;// in C\n",
"a= 0.004*0.0015;// in m^2\n",
"ni= 2.5*10^19;// per m^3\n",
"miu_e= 0.38;// in m^2/ v-s\n",
"miu_p= 0.18;// in m^2/v-s\n",
"V=10;// in V\n",
"i= 25;// in mm\n",
"i=i*10^-3;// in m\n",
"E= V/i;// in V/m\n",
"// Part (a)\n",
"ve= miu_e*E;// in m/sec\n",
"disp(ve,'Electric drift velocity in m/sec is : ')\n",
"vp= miu_p*E;// in m/sec\n",
"disp(vp,'Hole drift velocity in m/sec is : ')\n",
"\n",
"// Part (b)\n",
"sigma_i= ni*e*(miu_e+miu_p);// in (Ωcm)^-1\n",
"disp(sigma_i,'Intrinsic carrier conductivity of Ge in (Ωcm)^-1 is : ')\n",
"\n",
"// Part (c)\n",
"I= sigma_i*E*a;// in A\n",
"I=I*10^3;// in mA\n",
"disp(I,'Total current in mA is : ')"
   ]
   }
,
{
		   "cell_type": "markdown",
		   "metadata": {},
		   "source": [
			"## Example 2.34: Intrinsic_carrier_concentration_in_Si.sce"
		   ]
		  },
  {
"cell_type": "code",
	   "execution_count": null,
	   "metadata": {
	    "collapsed": true
	   },
	   "outputs": [],
"source": [
"// Exa 2.34\n",
"clc;\n",
"clear;\n",
"close;\n",
"// Given data\n",
"miu_e= 0.14;// in m^2/ v-s\n",
"miu_p= 0.05;// in m^2/v-s\n",
"e=1.6*10^-19;// in C\n",
"N=3*10^25;// per m^3\n",
"Eg= 1.1;// in eV\n",
"Eg= Eg*1.602*10^-19;// in J\n",
"k= 1.38*10^-23;// in J/K\n",
"T=300;// in K\n",
"ni= N*%e^(-Eg/(2*k*T));// in /m^3\n",
"sigma= ni*e*(miu_e+miu_p);// in s/m\n",
"disp(ni,'The intrinsic carrier concentration in Si in /m^3 is : ')\n",
"disp(sigma,'Conductivity of Si in s/m is : ')"
   ]
   }
,
{
		   "cell_type": "markdown",
		   "metadata": {},
		   "source": [
			"## Example 2.35: Junction_potential.sce"
		   ]
		  },
  {
"cell_type": "code",
	   "execution_count": null,
	   "metadata": {
	    "collapsed": true
	   },
	   "outputs": [],
"source": [
"// Exa 2.35\n",
"clc;\n",
"clear;\n",
"close;\n",
"// Given data\n",
"N_A= 4.4*10^22/10^8;// in /m^3\n",
"N_D= 10^3*N_A;// in /m^3\n",
"ni= 2.5*10^13;// /cm^3\n",
"Vt= 26;// in mV\n",
"Vt= Vt*10^-3;// in V\n",
"Vj= Vt*log(N_A*N_D/ni^2);// in V\n",
"disp(Vj,'The junction potential in volts is : ')"
   ]
   }
,
{
		   "cell_type": "markdown",
		   "metadata": {},
		   "source": [
			"## Example 2.36: Current_flowing_in_the_diode.sce"
		   ]
		  },
  {
"cell_type": "code",
	   "execution_count": null,
	   "metadata": {
	    "collapsed": true
	   },
	   "outputs": [],
"source": [
"// Exa 2.36\n",
"clc;\n",
"clear;\n",
"close;\n",
"// Given data\n",
"I_o= 0.3;// in µA\n",
"I_o= I_o*10^-6;// in A\n",
"V_F= 0.15;// in V\n",
"I= I_o*%e^(40*V_F);// in A\n",
"disp(I*10^6,'Current flowing in the diode in µA is : ')"
   ]
   }
,
{
		   "cell_type": "markdown",
		   "metadata": {},
		   "source": [
			"## Example 2.37: Forward_current_for_a_Ge_diode_at_room_temperature.sce"
		   ]
		  },
  {
"cell_type": "code",
	   "execution_count": null,
	   "metadata": {
	    "collapsed": true
	   },
	   "outputs": [],
"source": [
"// Exa 2.37\n",
"clc;\n",
"clear;\n",
"close;\n",
"// Given data\n",
"format('v',11)\n",
"Io= 1;// in nA\n",
"Io= Io*10^-9;// in A\n",
"T= 27+273;//in K\n",
"V_T= T/11600;// in V\n",
"V_F= 0.3;// in V\n",
"n=1;\n",
"I_F= Io*[%e^(V_F/(n*V_T))-1];// in A\n",
"disp(I_F,'The forward current of diode in ampere is : ')"
   ]
   }
,
{
		   "cell_type": "markdown",
		   "metadata": {},
		   "source": [
			"## Example 2.38: Dynamic_resistance_of_Ge_pn_junction_diode.sce"
		   ]
		  },
  {
"cell_type": "code",
	   "execution_count": null,
	   "metadata": {
	    "collapsed": true
	   },
	   "outputs": [],
"source": [
"// Exa 2.38\n",
"clc;\n",
"clear;\n",
"close;\n",
"// Given data\n",
"format('v',11)\n",
"I_F= 2;// in mA\n",
"I_F= I_F*10^-3;// in A\n",
"V_T= 25;// in mV\n",
"V_T=V_T*10^-3;// in V\n",
"n=1;\n",
"r_F= n*V_T/I_F;// in Ω\n",
"disp(r_F,'The dynamic resistance of a Ge p-n junction diode in Ω is : ')"
   ]
   }
,
{
		   "cell_type": "markdown",
		   "metadata": {},
		   "source": [
			"## Example 2.39: AC_resistance_of_a_semiconductor_diode.sce"
		   ]
		  },
  {
"cell_type": "code",
	   "execution_count": null,
	   "metadata": {
	    "collapsed": true
	   },
	   "outputs": [],
"source": [
"// Exa 2.39\n",
"clc;\n",
"clear;\n",
"close;\n",
"// Given data\n",
"T=300;// in K\n",
"n=1;\n",
"V_T= 26;// in mV\n",
"V_T=V_T*10^-3;// in V\n",
"V_F= 200;// in mV\n",
"V_F=V_F*10^-3;// in V\n",
"Io= 1;// in µA\n",
"Io= Io*10^-6;// in A\n",
"r_F= n*V_T/(Io*%e^(V_F/(n*V_T)));// in Ω\n",
"disp(r_F,'The ac resistance of a semiconductor diode in Ω')"
   ]
   }
,
{
		   "cell_type": "markdown",
		   "metadata": {},
		   "source": [
			"## Example 2.3: Free_electrons_and_hole_mobilities.sce"
		   ]
		  },
  {
"cell_type": "code",
	   "execution_count": null,
	   "metadata": {
	    "collapsed": true
	   },
	   "outputs": [],
"source": [
"// Exa 2.3\n",
"clc;\n",
"clear;\n",
"close;\n",
"// Given data\n",
"rho= 0.60;// in Ωm\n",
"q=1.6*10^-19;// in C\n",
"miu_n= 0.38;// in m^2/vs\n",
"miu_p= 0.18;// in m^2/vs\n",
"sigma= 1/rho;// in (Ωm)^-1\n",
"ni= sigma/(q*(miu_n+miu_p));// in /m^3\n",
"disp(ni,'The intrinsic carrier concentration per meter cube is :')"
   ]
   }
,
{
		   "cell_type": "markdown",
		   "metadata": {},
		   "source": [
			"## Example 2.40: Magnitude_of_r_for_the_Si_pn_junction.sce"
		   ]
		  },
  {
"cell_type": "code",
	   "execution_count": null,
	   "metadata": {
	    "collapsed": true
	   },
	   "outputs": [],
"source": [
"// Exa 2.40\n",
"clc;\n",
"clear;\n",
"close;\n",
"// Given data\n",
"n=2;\n",
"V_T= 26;// in mV\n",
"V_T=V_T*10^-3;// in V\n",
"I= 1;// in mA\n",
"I= I*10^-3;// in A\n",
"r= n*V_T/I;// in Ω\n",
"disp(r,'The magnitude of r in Ω is : ')"
   ]
   }
,
{
		   "cell_type": "markdown",
		   "metadata": {},
		   "source": [
			"## Example 2.4: Conductivity_of_Si_sample.sce"
		   ]
		  },
  {
"cell_type": "code",
	   "execution_count": null,
	   "metadata": {
	    "collapsed": true
	   },
	   "outputs": [],
"source": [
"// Exa 2.4\n",
"clc;\n",
"clear;\n",
"close;\n",
"// Given data\n",
"N_D= 10^21;// in /m^3\n",
"N_A= 2*10^20;// in /m^3\n",
"miu_n= 0.15;// in m^2/vs\n",
"N_DeshD= N_D-N_A;// in /m^3\n",
"n=N_DeshD;// in /m^3\n",
"q=1.6*10^-19;// in C\n",
"sigma= q*n*miu_n;// in (Ωm)^-1\n",
"disp(sigma,'Conductivity of silicon in (Ωm)^-1 is : ')"
   ]
   }
,
{
		   "cell_type": "markdown",
		   "metadata": {},
		   "source": [
			"## Example 2.5: Conductivity_of_copper.sce"
		   ]
		  },
  {
"cell_type": "code",
	   "execution_count": null,
	   "metadata": {
	    "collapsed": true
	   },
	   "outputs": [],
"source": [
"// Exa 2.5\n",
"clc;\n",
"clear;\n",
"close;\n",
"// Given data\n",
"n=6.023*10^23*7.4/63.54;\n",
"miu= 32.6;// in cm^2/Vs\n",
"q=1.6*10^-19;// in C\n",
"sigma= n*q*miu;// in (Ωcm)^-1\n",
"disp(sigma,'Conductivity of copper in (Ωcm)^-1 is : ')"
   ]
   }
,
{
		   "cell_type": "markdown",
		   "metadata": {},
		   "source": [
			"## Example 2.6: Conductivity_of_hole_and_electrons_in_an_n_typy_Si.sce"
		   ]
		  },
  {
"cell_type": "code",
	   "execution_count": null,
	   "metadata": {
	    "collapsed": true
	   },
	   "outputs": [],
"source": [
"// Exa 2.6\n",
"clc;\n",
"clear;\n",
"close;\n",
"// Given data\n",
"// For silicon\n",
"q=1.6*10^-19;// in C\n",
"ni= 2.5*10^12;// in /cm^3\n",
"miu_n= 1700;// in cm^2/Vs\n",
"miu_p= 600;// in cm^2/Vs\n",
"sigma= 0.2;// in (Ωm)^-1\n",
"// Formula sigma= q*n*miu_n\n",
"n= sigma/(q*miu_n);// in /cm^3\n",
"p= ni^2/n;// in /cm^3\n",
"disp('For silicon')\n",
"disp(n,'Concentration of electron in /cm^3 is : ')\n",
"disp(p,'Concentration of holes in /cm^3 is : ')\n",
"// For germanium\n",
"ni= 3.4*10^15;// in /cm^3\n",
"miu_n= 3600;// in cm^2/Vs\n",
"miu_p= 1600;// in cm^2/Vs\n",
"sigma= 150;// in (Ωm)^-1\n",
"p= sigma/(q*miu_p);// in /cm^3\n",
"n= ni^2/p;// in /cm^3\n",
"disp('For germanium')\n",
"disp(n,'Concentration of electron in /cm^3 is : ')\n",
"disp(p,'Concentration of holes in /cm^3 is : ')"
   ]
   }
,
{
		   "cell_type": "markdown",
		   "metadata": {},
		   "source": [
			"## Example 2.7: Resistivity_of_Ge_drops.sce"
		   ]
		  },
  {
"cell_type": "code",
	   "execution_count": null,
	   "metadata": {
	    "collapsed": true
	   },
	   "outputs": [],
"source": [
"// Exa 2.7\n",
"clc;\n",
"clear;\n",
"close;\n",
"// Given data\n",
"miu_n= 3900;// in cm^2/Vs\n",
"miu_p= 1900;// in cm^2/Vs\n",
"ni= 2.5*10^10;// in /cm^3\n",
"Nge= 4.41*10^22;// in /cm^3\n",
"q=1.6*10^-19;// in C\n",
"N_D= Nge/10^8;// in /cm^3\n",
"n=N_D;// approx\n",
"p= ni^2/N_D;// in /cm^2\n",
"sigma= q*n*miu_n;// in (Ωcm)^-1\n",
"rho= 1/sigma;// in Ωcm\n",
"disp(rho,'Resistivity of the doped germanium in Ωcm is : ')"
   ]
   }
,
{
		   "cell_type": "markdown",
		   "metadata": {},
		   "source": [
			"## Example 2.8: Resistivity_of_intrinsic_Si.sce"
		   ]
		  },
  {
"cell_type": "code",
	   "execution_count": null,
	   "metadata": {
	    "collapsed": true
	   },
	   "outputs": [],
"source": [
"// Exa 2.8\n",
"clc;\n",
"clear;\n",
"close;\n",
"// Given data\n",
"Nsi = 4.9*10^22;// in /cm^3\n",
"ni= 2.5*10^12;// in /cm^3\n",
"q=1.6*10^-19;// in C\n",
"miu_n= 1600;// in cm^2/Vs\n",
"miu_p= 400;// in cm^2/Vs\n",
"N_D= Nsi/(100*10^6);\n",
"sigma= q*ni*(miu_n+miu_p);// in (Ωcm)^-1\n",
"rho= 1/sigma;// in Ωcm\n",
"disp(rho,'Resistivity of silicon in Ωcm is :')\n",
"n=N_D;// approx\n",
"p= ni^2/n;// in /cm^3\n",
"sigma= q*n*miu_n;// in (Ωcm)-1\n",
"rho= 1/sigma;// in Ωcm\n",
"disp(rho,'Resistivity of doped silicon in Ωcm is :')"
   ]
   }
,
{
		   "cell_type": "markdown",
		   "metadata": {},
		   "source": [
			"## Example 2.9: The_value_of_temperature_at_which_the_Fermi_level_coincides.sce"
		   ]
		  },
  {
"cell_type": "code",
	   "execution_count": null,
	   "metadata": {
	    "collapsed": true
	   },
	   "outputs": [],
"source": [
"// Exa 2.9\n",
"clc;\n",
"clear;\n",
"close;\n",
"// Given data\n",
"N_D= 5*10^28/(20*10^6);// in /m^3\n",
"// For the Fermi level\n",
"// E_F= E_C if N_C= N_D,\n",
"// N_D= 4.82*10^21 * T^(3/2)  /m^3\n",
"T= (N_D/( 4.82*10^21 ))^(2/3);// in K\n",
"disp(T,'Temperature in K is : ')"
   ]
   }
],
"metadata": {
		  "kernelspec": {
		   "display_name": "Scilab",
		   "language": "scilab",
		   "name": "scilab"
		  },
		  "language_info": {
		   "file_extension": ".sce",
		   "help_links": [
			{
			 "text": "MetaKernel Magics",
			 "url": "https://github.com/calysto/metakernel/blob/master/metakernel/magics/README.md"
			}
		   ],
		   "mimetype": "text/x-octave",
		   "name": "scilab",
		   "version": "0.7.1"
		  }
		 },
		 "nbformat": 4,
		 "nbformat_minor": 0
}
