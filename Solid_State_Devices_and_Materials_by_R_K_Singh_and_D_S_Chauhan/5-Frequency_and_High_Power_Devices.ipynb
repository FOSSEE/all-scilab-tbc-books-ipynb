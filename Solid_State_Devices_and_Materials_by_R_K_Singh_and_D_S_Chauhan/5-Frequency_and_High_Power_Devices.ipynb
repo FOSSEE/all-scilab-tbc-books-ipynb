{
"cells": [
 {
		   "cell_type": "markdown",
	   "metadata": {},
	   "source": [
       "# Chapter 5: Frequency and High Power Devices"
	   ]
	},
{
		   "cell_type": "markdown",
		   "metadata": {},
		   "source": [
			"## Example 5.10: Tuning_range_for_the_circuit.sce"
		   ]
		  },
  {
"cell_type": "code",
	   "execution_count": null,
	   "metadata": {
	    "collapsed": true
	   },
	   "outputs": [],
"source": [
"// Exa 5.10\n",
"clc;\n",
"clear;\n",
"close;\n",
"// Given data\n",
"C1= 4;// in pF\n",
"C2= 60;// in pF\n",
"L=8*10^-3;// in H\n",
"C_Tmin= C1*C1/(C1+C1);// in pF\n",
"C_Tmin= C_Tmin*10^-12;// in F\n",
"C_Tmax= C2*C2/(C2+C2);// in pF\n",
"C_Tmax= C_Tmax*10^-12;// in F\n",
"Fc_max= 1/(2*%pi*sqrt(L*C_Tmin));// in Hz\n",
"Fc_min= 1/(2*%pi*sqrt(L*C_Tmax));// in Hz\n",
"disp(Fc_max*10^-6,'Maximum resonance frequency in MHz is :')\n",
"disp(Fc_min*10^-6,'Minimum resonance frequency in MHz is :')"
   ]
   }
,
{
		   "cell_type": "markdown",
		   "metadata": {},
		   "source": [
			"## Example 5.11: Tuning_range_for_the_circuit.sce"
		   ]
		  },
  {
"cell_type": "code",
	   "execution_count": null,
	   "metadata": {
	    "collapsed": true
	   },
	   "outputs": [],
"source": [
"// Exa 5.11\n",
"clc;\n",
"clear;\n",
"close;\n",
"// Given data\n",
"C1= 6;// in pF\n",
"C2= 50;// in pF\n",
"L=12*10^-3;// in H\n",
"C_Tmin= C1*C1/(C1+C1);// in pF\n",
"C_Tmin= C_Tmin*10^-12;// in F\n",
"C_Tmax= C2*C2/(C2+C2);// in pF\n",
"C_Tmax= C_Tmax*10^-12;// in F\n",
"Fc_max= 1/(2*%pi*sqrt(L*C_Tmin));// in Hz\n",
"Fc_min= 1/(2*%pi*sqrt(L*C_Tmax));// in Hz\n",
"disp(Fc_max*10^-6,'Maximum resonance frequency in MHz is :')\n",
"disp(Fc_min*10^-6,'Minimum resonance frequency in MHz is :')"
   ]
   }
,
{
		   "cell_type": "markdown",
		   "metadata": {},
		   "source": [
			"## Example 5.1: Tuning_range_for_the_circuit.sce"
		   ]
		  },
  {
"cell_type": "code",
	   "execution_count": null,
	   "metadata": {
	    "collapsed": true
	   },
	   "outputs": [],
"source": [
"// Exa 5.2\n",
"clc;\n",
"clear;\n",
"close;\n",
"// Given data\n",
"C1= 5; // in pF\n",
"C1= C1*10^-12;// in F\n",
"C2= 50; // in pF\n",
"C2= C2*10^-12;// in F\n",
"L= 10;// in mH\n",
"L= L*10^-3;// in H\n",
"TuningRange= 1/(2*%pi*sqrt(L*C1*C2/(C1+C2)));// in Hz\n",
"disp(TuningRange*10^-3,'The tuning range for the circuit in kHz is : ')\n",
"\n",
"// Note : In the book, this example is not solved. Only given data is shown."
   ]
   }
,
{
		   "cell_type": "markdown",
		   "metadata": {},
		   "source": [
			"## Example 5.2: The_value_of_CT.sce"
		   ]
		  },
  {
"cell_type": "code",
	   "execution_count": null,
	   "metadata": {
	    "collapsed": true
	   },
	   "outputs": [],
"source": [
"// Exa 5.2\n",
"clc;\n",
"clear;\n",
"close;\n",
"// Given data\n",
"C_T1= 15; // in pF\n",
"Vb1=8;// in V\n",
"Vb2= 12;  // in V\n",
"// As C_T proportional to 1/sqrt(Vb), and \n",
"// C_T1/C_T2= sqrt(Vb2/Vb1), so\n",
"C_T2= C_T1*sqrt(Vb1/Vb2);// in pF\n",
"disp(C_T2,'The value of C_T2 in pF is : ')"
   ]
   }
,
{
		   "cell_type": "markdown",
		   "metadata": {},
		   "source": [
			"## Example 5.3: Space_charge_capacitance.sce"
		   ]
		  },
  {
"cell_type": "code",
	   "execution_count": null,
	   "metadata": {
	    "collapsed": true
	   },
	   "outputs": [],
"source": [
"// Exa 5.3\n",
"clc;\n",
"clear;\n",
"close;\n",
"// Given data\n",
"epsilon_Ge= 16/(36*%pi*10^-11);// in f/C\n",
"A=10^-12;\n",
"d=2*10^-4;// in cm\n",
"// C_T= epsilon_0*A/d= epsilon_Ge*A/d\n",
"C_T= epsilon_Ge*A/d;//in pF\n",
"disp(C_T,'The space charge capacitance in pF')"
   ]
   }
,
{
		   "cell_type": "markdown",
		   "metadata": {},
		   "source": [
			"## Example 5.4: The_value_of_CT.sce"
		   ]
		  },
  {
"cell_type": "code",
	   "execution_count": null,
	   "metadata": {
	    "collapsed": true
	   },
	   "outputs": [],
"source": [
"// Exa 5.4\n",
"clc;\n",
"clear;\n",
"close;\n",
"// Given data\n",
"D= 0.102;// in cm\n",
"sigma_P= 0.286;// in Ωcm\n",
"q= 1.6*10^-19;// in C\n",
"miuP= 500;\n",
"Vb= 5+0.35;//in V\n",
"A= %pi*D^2/4;// in cm^2\n",
"N_A= sigma_P/(q*miuP);// at/c\n",
"C_T= 2.92*10^-4*(N_A/Vb)^(1/2)*A;// \n",
"disp(C_T,'The value of transition in pf/cm^2')"
   ]
   }
,
{
		   "cell_type": "markdown",
		   "metadata": {},
		   "source": [
			"## Example 5.5: The_depletion_layer_capacitance.sce"
		   ]
		  },
  {
"cell_type": "code",
	   "execution_count": null,
	   "metadata": {
	    "collapsed": true
	   },
	   "outputs": [],
"source": [
"// Exa 5.5\n",
"clc;\n",
"clear;\n",
"close;\n",
"// Given data\n",
"epsilon= 12/(36*%pi*10^11);// in F/cm  (value of epsilon for silicon)\n",
"q= 1.6*10^-19;// in C\n",
"// C_T= epsilon*A/d , where d= 2*epsilon*Vi/(q*NA)^(/2)\n",
"// Hence    C_T/A= epsilon/d= sqrt(q*epsilon/2)*sqrt(NA/Vi)\n",
"// Let \n",
"value = sqrt(q*epsilon/2);\n",
"disp('C_T= '+string(value*10^12)+' sqrt(NA/Vi) in pF/cm^2');"
   ]
   }
,
{
		   "cell_type": "markdown",
		   "metadata": {},
		   "source": [
			"## Example 5.6: Decrease_in_capacitance.sce"
		   ]
		  },
  {
"cell_type": "code",
	   "execution_count": null,
	   "metadata": {
	    "collapsed": true
	   },
	   "outputs": [],
"source": [
"// Exa 5.6\n",
"clc;\n",
"clear;\n",
"close;\n",
"// Given data\n",
"V1= 5;// in V\n",
"IncreaseInVolt= 1.5;// in V\n",
"C_T1= 20;// in pF\n",
"// Formula C_T= lamda/sqrt(V)\n",
"lamda= C_T1*sqrt(V1);\n",
"// When\n",
"V2= V1+IncreaseInVolt;// in V\n",
"C_T2= lamda/sqrt(V2);\n",
"disp(C_T1-C_T2,'The decrease in capacitance in pF is : ')"
   ]
   }
,
{
		   "cell_type": "markdown",
		   "metadata": {},
		   "source": [
			"## Example 5.7: Diffusion_capacitance_for_a_Si_diode.sce"
		   ]
		  },
  {
"cell_type": "code",
	   "execution_count": null,
	   "metadata": {
	    "collapsed": true
	   },
	   "outputs": [],
"source": [
"// Exa 5.7\n",
"clc;\n",
"clear;\n",
"close;\n",
"// Given data\n",
"Vf= 0.7;// in V\n",
"If= 10;// in mA\n",
"If= If*10^-3;// in A\n",
"toh= 70;// in ns\n",
"Cd= toh*If/Vf;// in nf\n",
"disp(Cd,'Diffusion capacitance for a si diode in nf is :')"
   ]
   }
,
{
		   "cell_type": "markdown",
		   "metadata": {},
		   "source": [
			"## Example 5.8: Transition_capacitance.sce"
		   ]
		  },
  {
"cell_type": "code",
	   "execution_count": null,
	   "metadata": {
	    "collapsed": true
	   },
	   "outputs": [],
"source": [
"// Exa 5.8\n",
"clc;\n",
"clear;\n",
"close;\n",
"// Given data\n",
"N_A= 4*10^20;// per m^3\n",
"Vi= 0.2;// in V\n",
"q= 1.6*10^-19;\n",
"V= -1;// in V\n",
"A= 0.8*10^-6;/// in m^2\n",
"epsilon_r= 16;\n",
"epsilon_o= 8.854*10^-12;// in F\n",
"epsilon= epsilon_o*epsilon_r;\n",
"d= [2*epsilon*(Vi-V)/(q*N_A)]^(1/2);\n",
"C_T= epsilon*A/d;// in F\n",
"disp(C_T*10^12,'The transition capacitance in pF is :')"
   ]
   }
,
{
		   "cell_type": "markdown",
		   "metadata": {},
		   "source": [
			"## Example 5.9: Decrease_in_capacitance.sce"
		   ]
		  },
  {
"cell_type": "code",
	   "execution_count": null,
	   "metadata": {
	    "collapsed": true
	   },
	   "outputs": [],
"source": [
"// Exa 5.9\n",
"clc;\n",
"clear;\n",
"close;\n",
"// Given data\n",
"V1= 5;// in V\n",
"V2 = V1+1;// in V\n",
"C_T1= 20;// in pF\n",
"// C_T2/C_T1 = sqrt(V1/V2)\n",
"C_T2= C_T1* sqrt(V1/V2);\n",
"disp(C_T2,'The capacitance for 1-V increase in bias in pF is : ')\n",
"disp(C_T1-C_T2,'Therefore, the decrease in capacitance in pF is :')\n",
"\n",
"// NOTE: The answer in the book is wrong due to calculation error to evalaute the value of C_T2."
   ]
   }
],
"metadata": {
		  "kernelspec": {
		   "display_name": "Scilab",
		   "language": "scilab",
		   "name": "scilab"
		  },
		  "language_info": {
		   "file_extension": ".sce",
		   "help_links": [
			{
			 "text": "MetaKernel Magics",
			 "url": "https://github.com/calysto/metakernel/blob/master/metakernel/magics/README.md"
			}
		   ],
		   "mimetype": "text/x-octave",
		   "name": "scilab",
		   "version": "0.7.1"
		  }
		 },
		 "nbformat": 4,
		 "nbformat_minor": 0
}
