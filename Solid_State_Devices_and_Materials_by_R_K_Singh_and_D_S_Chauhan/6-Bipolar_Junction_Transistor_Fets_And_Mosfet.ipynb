{
"cells": [
 {
		   "cell_type": "markdown",
	   "metadata": {},
	   "source": [
       "# Chapter 6: Bipolar Junction Transistor Fets And Mosfet"
	   ]
	},
{
		   "cell_type": "markdown",
		   "metadata": {},
		   "source": [
			"## Example 6.10: The_value_of_VGS.sce"
		   ]
		  },
  {
"cell_type": "code",
	   "execution_count": null,
	   "metadata": {
	    "collapsed": true
	   },
	   "outputs": [],
"source": [
"// Exa 6.10\n",
"clc;\n",
"clear;\n",
"close;\n",
"// Given data\n",
"I_DSS= 10;// in mA\n",
"I_DSS= I_DSS*10^-3;// in A\n",
"gm= 10;// in ms\n",
"gm=gm*10^-3;// in s\n",
"// V_GSoff = V_GS = Vp  so , gm = gmo = -2*I_DSS/V_GSSoff\n",
"V_GSoff= -2*I_DSS/gm;// in volt\n",
"disp(V_GSoff,'The value of V_GS(off) in volts is : ')"
   ]
   }
,
{
		   "cell_type": "markdown",
		   "metadata": {},
		   "source": [
			"## Example 6.11: Minimum_value_of_VDS.sce"
		   ]
		  },
  {
"cell_type": "code",
	   "execution_count": null,
	   "metadata": {
	    "collapsed": true
	   },
	   "outputs": [],
"source": [
"// Exa 6.11\n",
"clc;\n",
"clear;\n",
"close;\n",
"// Given data\n",
"I_DSS= 10;// in mA\n",
"I_DSS= I_DSS*10^-3;// in A\n",
"V_P= -4;// in V\n",
"V_GS= -2;// in V\n",
"I_DS= I_DSS*(1-V_GS/V_P)^2;// in A\n",
"V_DS= V_P;// in V\n",
"V_DSmin= V_P;// in volt\n",
"disp(I_DS*10^3,'The value of I_DS in mA is : ')\n",
"disp(V_DSmin,'The minimum value of V_DS in volts is : ')"
   ]
   }
,
{
		   "cell_type": "markdown",
		   "metadata": {},
		   "source": [
			"## Example 6.12: Effective_input_impedance.sce"
		   ]
		  },
  {
"cell_type": "code",
	   "execution_count": null,
	   "metadata": {
	    "collapsed": true
	   },
	   "outputs": [],
"source": [
"// Exa 6.12\n",
"clc;\n",
"clear;\n",
"close;\n",
"// Given data\n",
"R_G= 1;// in MΩ\n",
"R_G= R_G*10^6;// in Ω\n",
"V_DD= 24;// in V\n",
"R_D= 56;// in kΩ\n",
"R_D=R_D*10^3;// in Ω\n",
"Rs= 4;// kΩ\n",
"Rs= Rs*10^3;// in Ω\n",
"// Part (a)\n",
"I_DSS= 1;// in mA\n",
"I_DSS= I_DSS*10^-3;// in A\n",
"V_P= -1;// in V\n",
"V_D= 10;// in V\n",
"I_D= (V_DD-V_D)/R_D;// in A\n",
"// I_D= I_DSS*(1-V_GS/V_P)^2;// in A\n",
"V_GS= V_P*(1-sqrt(I_D/I_DSS));// in V\n",
"R1= abs(V_GS)/I_D;// in Ω\n",
"disp(R1*10^-3,'The value of R1 in kΩ is : ')\n",
"\n",
"// Part (b)\n",
"gmo= -2*I_DSS/V_P;// A/V\n",
"gm= gmo*(1-(V_GS)/V_P);// A/V;\n",
"Ri= R_G/(1-gm*Rs/(1+gm*Rs)*Rs/(Rs+R1));// in Ω\n",
"disp(Ri*10^-6,'The effective input impedence in MΩ is :')\n",
"\n",
""
   ]
   }
,
{
		   "cell_type": "markdown",
		   "metadata": {},
		   "source": [
			"## Example 6.13: q_value_of_VDS.sce"
		   ]
		  },
  {
"cell_type": "code",
	   "execution_count": null,
	   "metadata": {
	    "collapsed": true
	   },
	   "outputs": [],
"source": [
"// Exa 6.13\n",
"clc;\n",
"clear;\n",
"close;\n",
"// Given data\n",
"I_DSS= -4;// in mA\n",
"V_P= 4;// in V\n",
"R1= 1.3*10^6;// in Ω\n",
"R2= 200*10^3;// in Ω\n",
"V_DD= -60;// in V\n",
"R_D= 18;// in kΩ\n",
"R_D= R_D*10^3;// in Ω\n",
"Rs= 4;// in kΩ\n",
"Rs= Rs*10^3;// in Ω\n",
"V_GG= V_DD*R2/(R1+R2);// in V\n",
"R_G= R1*R2/(R1+R2);// in Ω\n",
"// V_GS= V_GG-V_P*I_D\n",
"//  I_D= I_DSS*(1-(V_GG-V_P*I_D)/V_P)^2;// in mA or\n",
"// I_D^2*I_DSS + I_D*(2*(1-V_GG/V_P)*I_DSS-1) +((1-V_GG/V_P)^2*I_DSS)\n",
"I_D= [I_DSS (2*(1-V_GG/V_P)*I_DSS-1) ((1-V_GG/V_P)^2*I_DSS)]\n",
"I_D=roots(I_D);\n",
"I_D=I_D(2);// in mA\n",
"I_D=I_D*10^-3;// in A\n",
"V_GS= V_GG-Rs*I_D;// in V\n",
"V_DS= V_DD-I_D*(R_D+Rs);// in V\n",
"disp(I_D*10^3,'The value of I_D in mA is : ')\n",
"disp(V_GS,'The value of V_GS in volts is ')\n",
"disp(V_DS,'The value of V_DS in volts is ')"
   ]
   }
,
{
		   "cell_type": "markdown",
		   "metadata": {},
		   "source": [
			"## Example 6.14: The_value_of_VGS_and_VDS.sce"
		   ]
		  },
  {
"cell_type": "code",
	   "execution_count": null,
	   "metadata": {
	    "collapsed": true
	   },
	   "outputs": [],
"source": [
"// Exa 6.14\n",
"clc;\n",
"clear;\n",
"close;\n",
"// Given data\n",
"I_DSS= 4;// in mA\n",
"I_DSS= I_DSS*10^-3;// in A\n",
"V_P= -2;// in V\n",
"V_DD= 10;// in V\n",
"V_SS= V_DD;// in V\n",
"V_GS2=0;// in V\n",
"I_D= I_DSS*(1-V_GS2/V_P)^2;// in A\n",
"// since I_D= I_DSS\n",
"V_GS= 0;// in volt\n",
"// Formula V_SS= V_DS-V_GS\n",
"V_DS= V_SS-V_GS;// in volt\n",
"disp(I_D*10^3,'The value of I_D in mA is :')\n",
"disp(V_GS,'The value of V_GS in volt is : ')\n",
"disp(V_DS,'The value of V_DS in volts is :')\n",
"\n",
"if V_DS > V_GS-V_P then\n",
"    disp('The active region operation of the upper JFET is confirmed ')\n",
"end"
   ]
   }
,
{
		   "cell_type": "markdown",
		   "metadata": {},
		   "source": [
			"## Example 6.15: The_value_of_VGS_and_ID.sce"
		   ]
		  },
  {
"cell_type": "code",
	   "execution_count": null,
	   "metadata": {
	    "collapsed": true
	   },
	   "outputs": [],
"source": [
"// Exa 6.15\n",
"clc;\n",
"clear;\n",
"close;\n",
"// Given data\n",
"I_DSS= 16;// in mA\n",
"I_DSS= I_DSS*10^-3;// in A\n",
"V_P= -4;// in V\n",
"V_DD= 18;// in V\n",
"V_GG= 0;// in V\n",
"R_D= 500;// in Ω\n",
"Rs= R_D;// in Ω\n",
"// V_GS= V_GG-V_P*I_D or = I_D= -V_GS/Rs  (as V_GSS= 0)     (i)\n",
"// I_D= I_DSS*(1-V_GS/V_P)^2            (ii)\n",
"// From (i) and (ii)\n",
"// V_GS^2*(1/V_P^2) + V_GS*(1/(I_DSS*Rs)-2/V_P) +1 =0\n",
"V_GS= [(1/V_P^2) (1/(I_DSS*Rs)-2/V_P) 1]\n",
"V_GS= roots(V_GS);\n",
"V_GS= V_GS(2);// since 0>= V_GS >=-4\n",
" I_D= I_DSS*(1-V_GS/V_P)^2;// in A\n",
" V_DS= V_DD-I_D*(R_D+Rs);// in V\n",
"disp(I_D*10^3,'The value of I_D in mA is : ') \n",
"disp(V_GS,'The value of V_GS in volts is : ');\n",
"disp('Since the value of V_DS is greater than the difference of V_GS and V_P, So the saturation region operation is confirmed ');"
   ]
   }
,
{
		   "cell_type": "markdown",
		   "metadata": {},
		   "source": [
			"## Example 6.16: The_value_of_VGS_and_ID.sce"
		   ]
		  },
  {
"cell_type": "code",
	   "execution_count": null,
	   "metadata": {
	    "collapsed": true
	   },
	   "outputs": [],
"source": [
"// Exa 6.16\n",
"clc;\n",
"clear;\n",
"close;\n",
"// Given data\n",
"\n",
"I_DSS= 10;// in mA\n",
"I_DSS= I_DSS*10^-3;// in A\n",
"V_P= -4;// in V\n",
"V_DD= 12;// in V\n",
"V_GG= 0;// in V\n",
"// Part (a) when\n",
"V_GS= -2;// in V\n",
"I_D= I_DSS*(1-V_GS/V_P)^2;// in A\n",
"disp(I_D*10^3,'When V_GS= -2 then, the value of I_D in mA ')\n",
"// Part (b) when\n",
"I_D= 9*10^-3;// in A\n",
"V_GS= V_P*(1-(sqrt(I_D/I_DSS)));// in V\n",
"disp(V_GS,'When I_D = 9 mA, then the value of V_GS in volts is : ')"
   ]
   }
,
{
		   "cell_type": "markdown",
		   "metadata": {},
		   "source": [
			"## Example 6.17: The_value_of_IDS_gmo_and_gm.sce"
		   ]
		  },
  {
"cell_type": "code",
	   "execution_count": null,
	   "metadata": {
	    "collapsed": true
	   },
	   "outputs": [],
"source": [
"// Exa 6.17\n",
"clc;\n",
"clear;\n",
"close;\n",
"// Given data\n",
"I_DSS= 8.7;// in mA\n",
"I_DSS= I_DSS*10^-3;// in A\n",
"V_P= -3;// in V\n",
"V_GS= -1;// in V\n",
"I_DS= I_DSS*(1-V_GS/V_P)^2;// in A\n",
"disp(I_DS*10^3,'The value of I_DS in mA is : ')\n",
"gmo= -2*I_DSS/V_P*1000;// ms\n",
"gm= gmo*(1-V_GS/V_P); // in ms\n",
"disp(gmo,'The value of gmo in ms is')\n",
"disp(gm,'The value of gm in ms is')\n",
""
   ]
   }
,
{
		   "cell_type": "markdown",
		   "metadata": {},
		   "source": [
			"## Example 6.1: Transfer_curve.sce"
		   ]
		  },
  {
"cell_type": "code",
	   "execution_count": null,
	   "metadata": {
	    "collapsed": true
	   },
	   "outputs": [],
"source": [
"// Exa 6.1\n",
"clc;\n",
"clear;\n",
"close;\n",
"// Given data\n",
"I_DSS= 10;// in mA\n",
"V_P= -4;// in V\n",
" V_GS=[-4:0.1:0];\n",
"//V_GS= -3;\n",
"I_D= I_DSS*(1-V_GS/V_P)^2\n",
"plot(V_GS,I_D);\n",
"xlabel('V_GS in volts');\n",
"ylabel('I_D in mA')\n",
"title('The transfer curve')\n",
"disp('Curve is shown in figure')"
   ]
   }
,
{
		   "cell_type": "markdown",
		   "metadata": {},
		   "source": [
			"## Example 6.20: The_value_of_VGS_and_ID.sce"
		   ]
		  },
  {
"cell_type": "code",
	   "execution_count": null,
	   "metadata": {
	    "collapsed": true
	   },
	   "outputs": [],
"source": [
"// Exa 6.20\n",
"clc;\n",
"clear;\n",
"close;\n",
"// Given data\n",
"I_DSS= 6;// in mA\n",
"I_DSS= I_DSS*10^-3;// in A\n",
"V_P= -4.5;// in V\n",
"// Part (i)\n",
"// At V_GS= -2V\n",
"V_GS= -2;// in V\n",
"I_DS= I_DSS*(1-V_GS/V_P)^2;// in A\n",
"disp(I_DS*10^3,'At V_GS= -2V, the value of I_DS in mA is : ')\n",
"// At V_GS= -3.6V\n",
"V_GS= -3.6;// in V\n",
"I_DS= I_DSS*(1-V_GS/V_P)^2;// in A\n",
"disp(I_DS*10^3,'At V_GS= -3.6V, the value of I_DS in mA is : ')\n",
"\n",
"// Part (ii)\n",
"// At I_DS= 3mA\n",
"I_DS= 3*10^-3;// in A\n",
"V_GS= V_P*(1-sqrt(I_DS/I_DSS));\n",
"disp(V_GS,'At I_DS= 3mA, the value of V_GS in volts is :')\n",
"// At I_DS= 5.5mA\n",
"I_DS= 5.5*10^-3;// in A\n",
"V_GS= V_P*(1-sqrt(I_DS/I_DSS));\n",
"disp(V_GS,'At I_DS= 5.5mA, the value of V_GS in volts is :')\n",
"\n",
"// Note: There is  calculation error in the second part to find the value of V_GS in both the condition . So the answer in the book is wrong"
   ]
   }
,
{
		   "cell_type": "markdown",
		   "metadata": {},
		   "source": [
			"## Example 6.21: Drain_source_resistance.sce"
		   ]
		  },
  {
"cell_type": "code",
	   "execution_count": null,
	   "metadata": {
	    "collapsed": true
	   },
	   "outputs": [],
"source": [
"// Exa 6.21\n",
"clc;\n",
"clear;\n",
"close;\n",
"// Given data\n",
"I_DSS= 10;// in mA\n",
"I_DSS= I_DSS*10^-3;// in A\n",
"V_P= -2;// in V\n",
"// Part (i)\n",
"// At V_GS= 0V\n",
"V_GS= 0;// in V\n",
"r_DS= V_P^2/(2*I_DSS*(V_GS-V_P));// in Ω\n",
"disp(r_DS,'At V_GS=0 , the drain source resistance in Ω is : ')\n",
"// Part (ii)\n",
"// At V_GS= -0.5V\n",
"V_GS= -0.5;// in V\n",
"r_DS= V_P^2/(2*I_DSS*(V_GS-V_P));// in Ω\n",
"disp(r_DS,'At V_GS=-0.5 , the drain source resistance in Ω is : ')"
   ]
   }
,
{
		   "cell_type": "markdown",
		   "metadata": {},
		   "source": [
			"## Example 6.22: The_value_of_Id_and_VDS.sce"
		   ]
		  },
  {
"cell_type": "code",
	   "execution_count": null,
	   "metadata": {
	    "collapsed": true
	   },
	   "outputs": [],
"source": [
"// Exa 6.22\n",
"clc;\n",
"clear;\n",
"close;\n",
"// Given data\n",
"I_DSS= 12;// in mA\n",
"I_DSS= I_DSS*10^-3;// in A\n",
"V_P= -4;// in V\n",
"R_D= 3;// in kΩ\n",
"R_D= R_D*10^3;// in Ω\n",
"Rs= 0;// in Ω\n",
"V_DD= 15;// in V\n",
"V_GS= -2;// in V\n",
"I_D= I_DSS*(1-V_GS/V_P)^2;// in A\n",
"disp(I_D*10^3,'The value of I_D in mA is :')\n",
"V_DS= -I_D*R_D+V_DD;// in V\n",
"disp(V_DS,'The value of V_DS in volts is :')\n",
"if V_DS>V_GS-V_P then\n",
"    disp('The device is operating in the saturation region')\n",
"end"
   ]
   }
,
{
		   "cell_type": "markdown",
		   "metadata": {},
		   "source": [
			"## Example 6.23: The_value_of_RD.sce"
		   ]
		  },
  {
"cell_type": "code",
	   "execution_count": null,
	   "metadata": {
	    "collapsed": true
	   },
	   "outputs": [],
"source": [
"// Exa 6.23\n",
"clc;\n",
"clear;\n",
"close;\n",
"// Given data\n",
"I_DSS= 12;// in mA\n",
"I_DSS= I_DSS*10^-3;// in A\n",
"V_P= -4;// in V\n",
"Rs= 0;// in Ω\n",
"V_DD= 15;// in V\n",
"V_DS= 0.1;// in V\n",
"V_GS= 0;// in V\n",
"if V_DS<V_GS-V_P then\n",
"    disp('The ohmic region is confirmed.')\n",
"I_D= I_DSS*(2*(1-V_GS/V_P)*V_DS/(-V_P)-(V_DS/V_P)^2);// in A\n",
"R_D= (V_DD-V_DS)/I_D;// in Ω\n",
"disp(I_D*10^6,'The value of I_D in µA is :')\n",
"disp(R_D*10^-3,'The value of R_D in kΩ is :')\n",
"end"
   ]
   }
,
{
		   "cell_type": "markdown",
		   "metadata": {},
		   "source": [
			"## Example 6.24: Channel_resistance.sce"
		   ]
		  },
  {
"cell_type": "code",
	   "execution_count": null,
	   "metadata": {
	    "collapsed": true
	   },
	   "outputs": [],
"source": [
"// Exa 6.24\n",
"clc;\n",
"clear;\n",
"close;\n",
"// Given data\n",
"ro=9;// in kΩ\n",
"ro= ro*10^3;// in Ω\n",
"V_P= -6;// in V\n",
"V_GS = -3;// in V\n",
"r= ro/(1-V_GS/V_P)^2;// in Ω\n",
"disp(r*10^-3,'The value of chanel resistance in kΩ is : ')\n",
"\n",
"// Note : The unit of chanel resistance i.e. unit of resistance in the book is wrong . It will be in kΩ not in Ω"
   ]
   }
,
{
		   "cell_type": "markdown",
		   "metadata": {},
		   "source": [
			"## Example 6.25: The_value_of_VGS.sce"
		   ]
		  },
  {
"cell_type": "code",
	   "execution_count": null,
	   "metadata": {
	    "collapsed": true
	   },
	   "outputs": [],
"source": [
"// Exa 6.25\n",
"clc;\n",
"clear;\n",
"close;\n",
"// Given data\n",
"ro=10;// in kΩ\n",
"ro= ro*10^3;// in Ω\n",
"r=90;// in kΩ\n",
"r= r*10^3;// in Ω\n",
"V_P= 5;// in V\n",
"// r= ro/(1-V_GS/V_P)^2;// in Ω\n",
"V_GS= V_P*(1-sqrt(ro/r));// in V\n",
"disp(V_GS,'The value of V_GS in volts is :')\n",
""
   ]
   }
,
{
		   "cell_type": "markdown",
		   "metadata": {},
		   "source": [
			"## Example 6.26: The_value_of_IDSS.sce"
		   ]
		  },
  {
"cell_type": "code",
	   "execution_count": null,
	   "metadata": {
	    "collapsed": true
	   },
	   "outputs": [],
"source": [
"// Exa 6.26\n",
"clc;\n",
"clear;\n",
"close;\n",
"// Given data\n",
"V_P= -5;// in V\n",
"I_D= 4;// in mA\n",
"V_GS= -2;// in V\n",
"// Formula I_D= I_DSS*(1-V_GS/V_P)^2\n",
"I_DSS= I_D/(1-V_GS/V_P)^2;// in mA\n",
"disp(I_DSS,'The value of I_DSS in mA is :')"
   ]
   }
,
{
		   "cell_type": "markdown",
		   "metadata": {},
		   "source": [
			"## Example 6.27: Minimum_value_of_VDS.sce"
		   ]
		  },
  {
"cell_type": "code",
	   "execution_count": null,
	   "metadata": {
	    "collapsed": true
	   },
	   "outputs": [],
"source": [
"// Exa 6.27\n",
"clc;\n",
"clear;\n",
"close;\n",
"// Given data\n",
"I_DSS= 8;// in mA\n",
"V_P= -5;// in V\n",
"V_GS= -2;// in V\n",
"// Formula V_GS+ V_DSmin = V_P\n",
"V_DSmin= abs(V_P-V_GS);// in V\n",
"disp(V_DSmin,'The minimum value of V_DS in volts is :')\n",
"I_DS= I_DSS*(1-V_GS/V_P)^2;// in mA\n",
"disp(I_DS,'The value of I_DS in mA is :')"
   ]
   }
,
{
		   "cell_type": "markdown",
		   "metadata": {},
		   "source": [
			"## Example 6.2: Transfer_curve.sce"
		   ]
		  },
  {
"cell_type": "code",
	   "execution_count": null,
	   "metadata": {
	    "collapsed": true
	   },
	   "outputs": [],
"source": [
"// Exa 6.2\n",
"clc;\n",
"clear;\n",
"close;\n",
"// Given data\n",
"I_DSS= 4;// in mA\n",
"V_P= 3;// in V\n",
" V_GS=[0:0.1:3];\n",
"//V_GS= -3;\n",
"I_D= I_DSS*(1-V_GS/V_P)^2\n",
"plot(V_GS,I_D);\n",
"xlabel('V_GS in volts');\n",
"ylabel('I_D in mA ')\n",
"title('Characteristic curve ')"
   ]
   }
,
{
		   "cell_type": "markdown",
		   "metadata": {},
		   "source": [
			"## Example 6.3: Value_of_Vgs_and_gm.sce"
		   ]
		  },
  {
"cell_type": "code",
	   "execution_count": null,
	   "metadata": {
	    "collapsed": true
	   },
	   "outputs": [],
"source": [
"// Exa 6.3\n",
"clc;\n",
"clear;\n",
"close;\n",
"// Given data\n",
"I_DSS= 1.65;// in mA\n",
"I_DSS=I_DSS*10^-3;// in A\n",
"V_P= -2;// in V\n",
"I_D= 0.8;// in mA\n",
"I_D=I_D*10^-3;// in A\n",
"V_BB= 24;// in V\n",
"// Part (a)\n",
"V_GS= V_P*(1-sqrt(I_D/I_DSS));// in V\n",
"disp(V_GS,'The value of V_GS in volts is : ')\n",
"\n",
"// Part (b)\n",
"gmo= -2*I_DSS/V_P*10^3;// in ms\n",
"gm= gmo*(1-(V_GS)/V_P);// in ms\n",
"disp(gm,'The value of gm is : ')"
   ]
   }
,
{
		   "cell_type": "markdown",
		   "metadata": {},
		   "source": [
			"## Example 6.4: value_of_Vgs.sce"
		   ]
		  },
  {
"cell_type": "code",
	   "execution_count": null,
	   "metadata": {
	    "collapsed": true
	   },
	   "outputs": [],
"source": [
"// Exa 6.4\n",
"clc;\n",
"clear;\n",
"close;\n",
"// Given data\n",
"I_DSS= -40;// in mA\n",
"I_DSS=I_DSS*10^-3;// in A\n",
"V_P= 5;// in V\n",
"I_D= -15;// in mA\n",
"I_D=I_D*10^-3;// in A\n",
"// Formula I_D= I_DSS*(1+V_GS/V_P)\n",
"V_GS= (sqrt(I_D/I_DSS)-1)*V_P;// in volt\n",
"disp(V_GS,'The value of V_GS in volts is : ')"
   ]
   }
,
{
		   "cell_type": "markdown",
		   "metadata": {},
		   "source": [
			"## Example 6.5: The_value_of_transconductance_of_a_FET.sce"
		   ]
		  },
  {
"cell_type": "code",
	   "execution_count": null,
	   "metadata": {
	    "collapsed": true
	   },
	   "outputs": [],
"source": [
"// Exa 6.5\n",
"clc;\n",
"clear;\n",
"close;\n",
"// Given data\n",
"delta_I_D= 1.9-1.0;// in mA\n",
"delta_V_GS= 3.3-3.0;// in V\n",
"gm= delta_I_D/delta_V_GS;//in mA/V\n",
"disp('The value of transconductance is '+string(gm)+' mA/V or '+string(gm*10^3)+' HmV10s')"
   ]
   }
,
{
		   "cell_type": "markdown",
		   "metadata": {},
		   "source": [
			"## Example 6.6: The_value_of_Vo_and_Vi.sce"
		   ]
		  },
  {
"cell_type": "code",
	   "execution_count": null,
	   "metadata": {
	    "collapsed": true
	   },
	   "outputs": [],
"source": [
"// Exa 6.6\n",
"clc;\n",
"clear;\n",
"close;\n",
"// Given data\n",
"I_DSS= 5.6*10^-3;// in A\n",
"V_P= 4;// in volt\n",
"Vi= 10;// in V\n",
"R1= 4.7;// in kΩ\n",
"R1= R1*10^3;// in Ω\n",
"Rs= 10;// in kΩ\n",
"Rs= Rs*10^3;// in Ω\n",
"V1=-24;// in V\n",
"Vs= 12;// in V\n",
"// Appling KVL to the gate source loop, we get,  Vs= I_D*Rs-V_GS\n",
"// V_GS= I_D*Rs-Vs          (i)\n",
"// I_D= I_DSS*(1-V_GS/V_P)^2 = I_DSS*(1-(I_D*Rs-Vs)/V_P)^2 \n",
"I_D= 1.49;// in mA\n",
"I_D= I_D*10^-3;// in A\n",
"V_GS= I_D*Rs-Vs;\n",
"Vo= Vs-I_D*Rs;// in volt\n",
"disp(V_GS,'The value of V_GS in volts is : ')\n",
"disp(Vo,'The value of Vo in volts is : ')\n",
""
   ]
   }
,
{
		   "cell_type": "markdown",
		   "metadata": {},
		   "source": [
			"## Example 6.7: Drain_to_source_voltage.sce"
		   ]
		  },
  {
"cell_type": "code",
	   "execution_count": null,
	   "metadata": {
	    "collapsed": true
	   },
	   "outputs": [],
"source": [
"// Exa 6.7\n",
"clc;\n",
"clear;\n",
"close;\n",
"// Given data\n",
"I_D= 5;// in mA\n",
"I_D=I_D*10^-3;// in A\n",
"V_DD= 10;// in V\n",
"R_D= 1;// in kΩ\n",
"R_D= R_D*10^3;// in Ω\n",
"Rs= 500;// in Ω\n",
"Vs= I_D*Rs;// in volt\n",
"V_D= V_DD-I_D*R_D;// in V\n",
"V_DS= V_D-Vs;// in V\n",
"V_GS= -Vs;// in V\n",
"disp(V_DS,'The value of drain-to-source voltage in volts is : ')\n",
"disp(V_GS,'The value of gate-to-sourcce voltage in volts is : ')"
   ]
   }
,
{
		   "cell_type": "markdown",
		   "metadata": {},
		   "source": [
			"## Example 6.8: Maximum_transconductance_of_a_certain_n_channel_JFET.sce"
		   ]
		  },
  {
"cell_type": "code",
	   "execution_count": null,
	   "metadata": {
	    "collapsed": true
	   },
	   "outputs": [],
"source": [
"// Exa 6.8\n",
"clc;\n",
"clear;\n",
"close;\n",
"// Given data\n",
"I_DSS= 20;// in mA\n",
"I_DSS=I_DSS*10^-3;// in A\n",
"gmo= 9.4;// in ms\n",
"gmo=gmo*10^-3;// in s\n",
"// Formula gmo= -2*I_DSS/V_P\n",
"V_P= -2*I_DSS/gmo;// in volts\n",
"disp(V_P,'Pinch off voltage in volts is : ')"
   ]
   }
,
{
		   "cell_type": "markdown",
		   "metadata": {},
		   "source": [
			"## Example 6.9: Transconductance.sce"
		   ]
		  },
  {
"cell_type": "code",
	   "execution_count": null,
	   "metadata": {
	    "collapsed": true
	   },
	   "outputs": [],
"source": [
"// Exa 6.9\n",
"clc;\n",
"clear;\n",
"close;\n",
"// Given data\n",
"I_DSS= 10;// in mA\n",
"I_DSS= I_DSS*10^-3;// in A\n",
"I_DS= 2.5;// in mA\n",
"I_DS= I_DS*10^-3;// in A\n",
"V_P= 4.5;// in V\n",
"// Formula I_DS= I_DSS*(1-V_GS/V_P)^2\n",
"V_GS= V_P*(1-sqrt(I_DS/I_DSS));// in volts\n",
"gm= 2*I_DSS/V_P*(1-V_GS/V_P);// in A/V\n",
"disp(gm*10^3,'Transconductance in mA/V is : ')"
   ]
   }
],
"metadata": {
		  "kernelspec": {
		   "display_name": "Scilab",
		   "language": "scilab",
		   "name": "scilab"
		  },
		  "language_info": {
		   "file_extension": ".sce",
		   "help_links": [
			{
			 "text": "MetaKernel Magics",
			 "url": "https://github.com/calysto/metakernel/blob/master/metakernel/magics/README.md"
			}
		   ],
		   "mimetype": "text/x-octave",
		   "name": "scilab",
		   "version": "0.7.1"
		  }
		 },
		 "nbformat": 4,
		 "nbformat_minor": 0
}
