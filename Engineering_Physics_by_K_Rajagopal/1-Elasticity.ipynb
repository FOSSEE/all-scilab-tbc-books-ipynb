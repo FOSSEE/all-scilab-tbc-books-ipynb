{
"cells": [
 {
		   "cell_type": "markdown",
	   "metadata": {},
	   "source": [
       "# Chapter 1: Elasticity"
	   ]
	},
{
		   "cell_type": "markdown",
		   "metadata": {},
		   "source": [
			"## Example 1.10: example_1.sce"
		   ]
		  },
  {
"cell_type": "code",
	   "execution_count": null,
	   "metadata": {
	    "collapsed": true
	   },
	   "outputs": [],
"source": [
"clc;\n",
"clear all;\n",
"n = 2.8e10; // Rigidity modulus in Newton per meter suquare\n",
"theta = 90; // In degress\n",
"theta1 = theta*(%pi/180); // in radians\n",
"l = 2; //Length of wire in meter\n",
"r = 0.5e-3; //  Radius of wire in meter\n",
" t = (%pi^2 * n *r^4)/(4*l);\n",
" disp('Nm',t,'Torque is');"
   ]
   }
,
{
		   "cell_type": "markdown",
		   "metadata": {},
		   "source": [
			"## Example 1.11: example_11.sce"
		   ]
		  },
  {
"cell_type": "code",
	   "execution_count": null,
	   "metadata": {
	    "collapsed": true
	   },
	   "outputs": [],
"source": [
"clc;\n",
"clear all;\n",
"l = 50*1e-2; // length of wire in m\n",
"a = 2e-3; // radius of wire in m\n",
"theta = 45; // In degree\n",
"theta1 = theta*(%pi/180); // In radian\n",
"n = 8*1e8 //Rigidity modulus in Newton per meter square\n",
"t = (0.5*%pi*n*a^4*theta1^2)/(2*l);\n",
"disp('J',t,'Torque is')"
   ]
   }
,
{
		   "cell_type": "markdown",
		   "metadata": {},
		   "source": [
			"## Example 1.12: example_12.sce"
		   ]
		  },
  {
"cell_type": "code",
	   "execution_count": null,
	   "metadata": {
	    "collapsed": true
	   },
	   "outputs": [],
"source": [
"clc;\n",
"clear all;\n",
"l = 1; // Length of wire in m\n",
"a = 2e-3; // Radius of wire in m\n",
"theta = %pi/2; // in radians\n",
"theta1=theta*(180/%pi);//in degrees\n",
"n = 5e10; // Rigidity modulus of wire in newton per square meter\n",
"t = (%pi*n*a^4*theta)/(2*l); \n",
"disp('Nm',t,'Torsional couple is ');\n",
"y=a*theta1/(2*l);//angle of shear at surface\n",
"disp('degree',y,'angle of shear at surface');\n",
"z=y/2;//angle of shear at midway\n",
"disp('degree',z,'angle of shear at midway');\n",
""
   ]
   }
,
{
		   "cell_type": "markdown",
		   "metadata": {},
		   "source": [
			"## Example 1.13: example_13.sce"
		   ]
		  },
  {
"cell_type": "code",
	   "execution_count": null,
	   "metadata": {
	    "collapsed": true
	   },
	   "outputs": [],
"source": [
"clc;\n",
"//t=(pi*n*((2*a)^4)*theta)/(2*2*l)=(pi*n*((4*a)^4)*theta1)/(2*4*l)\n",
"//by solving this we get : theta/theta1 = 256/16\n",
"theta = 90; //theta\n",
"theta1= 256/16;//theta/theta'\n",
"theta2=theta/theta1;//theta'\n",
"disp(+'degree',theta2,'The twist on the longer cylinder =')"
   ]
   }
,
{
		   "cell_type": "markdown",
		   "metadata": {},
		   "source": [
			"## Example 1.14: example_14.sce"
		   ]
		  },
  {
"cell_type": "code",
	   "execution_count": null,
	   "metadata": {
	    "collapsed": true
	   },
	   "outputs": [],
"source": [
"clc;\n",
"clear all;\n",
"l = 0.5; // Length of wire in meter\n",
"a = 2e-3; // Radius pf wire in meter\n",
"theta = 30; // In degree\n",
"Ashear = (a*theta)/l;//Angle of shear\n",
"disp('degree',Ashear,'Angle of shear is');"
   ]
   }
,
{
		   "cell_type": "markdown",
		   "metadata": {},
		   "source": [
			"## Example 1.15: example_15.sce"
		   ]
		  },
  {
"cell_type": "code",
	   "execution_count": null,
	   "metadata": {
	    "collapsed": true
	   },
	   "outputs": [],
"source": [
"clc;\n",
"clear all;\n",
"e = 1e-2; // Restoring couple per unit twist in Newton meter\n",
"a = 6e-2; // Radius of cyinder in meter\n",
"a1 = 0.10 // Internel diameter of hollow cylinder in meters\n",
"a2 = sqrt(a^2 + a1^2); // Externel Diameter in meter\n",
"disp(a2);\n",
"c = (e * (a2^2 - a1^2))/(a^4);//Restoring couple per unit twist for hollow cylinder\n",
"disp('Nm',c,'Restoring couple per unit twist for hollow cylinder is ');\n",
"//There is slight variation in answer than book's answer..verified in calculator too"
   ]
   }
,
{
		   "cell_type": "markdown",
		   "metadata": {},
		   "source": [
			"## Example 1.16: example_16.sce"
		   ]
		  },
  {
"cell_type": "code",
	   "execution_count": null,
	   "metadata": {
	    "collapsed": true
	   },
	   "outputs": [],
"source": [
"clc;\n",
"clear all;\n",
"l = 0.80; // Distance between the knife edges in meter\n",
"r = 0.75e-2; // Radius of rod in meter\n",
"m = 800e-3; // Mass of load in Kilogram\n",
"dp = 0.030e-2; //  depression on meter\n",
"g = 9.8; // Gravity constant\n",
"Y = (m*g*l^3)/(12*dp*%pi*r^4);\n",
"disp('N/m^2',Y,'Youngs modulus of the material is ');"
   ]
   }
,
{
		   "cell_type": "markdown",
		   "metadata": {},
		   "source": [
			"## Example 1.17: example_17.sce"
		   ]
		  },
  {
"cell_type": "code",
	   "execution_count": null,
	   "metadata": {
	    "collapsed": true
	   },
	   "outputs": [],
"source": [
"clc;\n",
"clear all;\n",
"l = 1; // Length of beam in meter\n",
"dp = 10e-3; // Depression in meter\n",
"x = 0.4 // Distance at which depression is to be found in meter\n",
"dpx = (dp*3*(x-x^2+x^3))/l^3;\n",
"disp('m',dpx,'Depression at x = 0.4m is ');\n",
"  "
   ]
   }
,
{
		   "cell_type": "markdown",
		   "metadata": {},
		   "source": [
			"## Example 1.18: example_18.sce"
		   ]
		  },
  {
"cell_type": "code",
	   "execution_count": null,
	   "metadata": {
	    "collapsed": true
	   },
	   "outputs": [],
"source": [
"clc;\n",
"clear all;\n",
"dp = 12e-3; // Depression for a cantilever os another cantilever of some material of length, width of thickness three times the first case\n",
"//delta=4mgl^3/ybd^3 here replace l=3l b=3b and d=3d so..\n",
"dpd = dp/3;\n",
"disp('m',dpd,'The depression in second cantilever is ');"
   ]
   }
,
{
		   "cell_type": "markdown",
		   "metadata": {},
		   "source": [
			"## Example 1.1: example_1.sce"
		   ]
		  },
  {
"cell_type": "code",
	   "execution_count": null,
	   "metadata": {
	    "collapsed": true
	   },
	   "outputs": [],
"source": [
"clc;\n",
"clear all;\n",
"Y = 2e12 // Youngs modulus of steel in dynes per cm square \n",
"g = 981; // Gravity Constant in am per second square\n",
"l = 400; // Length of wire in cm\n",
"r = 0.1; // Radius of wire in cm\n",
"deltaL = 0.1; // Change in length of wire in cm\n",
"M = (Y * %pi * r^2 * deltaL )/(g*l*1000);\n",
"disp('kg',M,'The mass to be added is',);\n",
"//There is slight variation in answer than book's answer..verified in calculator too"
   ]
   }
,
{
		   "cell_type": "markdown",
		   "metadata": {},
		   "source": [
			"## Example 1.2: example_2.sce"
		   ]
		  },
  {
"cell_type": "code",
	   "execution_count": null,
	   "metadata": {
	    "collapsed": true
	   },
	   "outputs": [],
"source": [
"clc; \n",
"clear all;\n",
"r = 0.15; // Radius of wire in cm\n",
"A = %pi* r^2; // Area of wirw in cm square\n",
"F = 200; // Force in dyne\n",
"Y = 12.5e11; // Young's modulus in dyne per cm square\n",
"t = ((F*9.8e5)/(A*Y))*100;\n",
"disp('%',t,'Percentage of increase is ');"
   ]
   }
,
{
		   "cell_type": "markdown",
		   "metadata": {},
		   "source": [
			"## Example 1.3: example_3.sce"
		   ]
		  },
  {
"cell_type": "code",
	   "execution_count": null,
	   "metadata": {
	    "collapsed": true
	   },
	   "outputs": [],
"source": [
"clc;\n",
"clear all;\n",
"lss = 5; // Length of steel wire in m \n",
"as = 4e-5; // Cross section area of steel wire in square meters\n",
"lc = 6; // Length of copper wire in m\n",
"ac = 5e-5; // Cross section area of copper wire in square meters\n",
"Ratio = (lss/as)*(ac/lc); // Ratio os youngs modulus of steel to copperAfter eliminating force and delta change\n",
"disp(Ratio,'The ratio of youngs modulus of steel to copper is '); "
   ]
   }
,
{
		   "cell_type": "markdown",
		   "metadata": {},
		   "source": [
			"## Example 1.4: example_4.sce"
		   ]
		  },
  {
"cell_type": "code",
	   "execution_count": null,
	   "metadata": {
	    "collapsed": true
	   },
	   "outputs": [],
"source": [
"clc;\n",
"clear all;\n",
"change = 0.01/100;\n",
"h = 1e5; // Height\n",
"rho = 1 // Density of water in gm per cm square\n",
"g = 980 // Gravity constant in am per square cm\n",
"deltap = h*g*rho;\n",
"k = deltap/change;\n",
"disp('dyne cm^-2',k,'Bulk modulus of sphere is ')"
   ]
   }
,
{
		   "cell_type": "markdown",
		   "metadata": {},
		   "source": [
			"## Example 1.5: example_5.sce"
		   ]
		  },
  {
"cell_type": "code",
	   "execution_count": null,
	   "metadata": {
	    "collapsed": true
	   },
	   "outputs": [],
"source": [
"clc;\n",
"clear all;\n",
"deltav = 0.5; // change in volume\n",
"v = 200; // initial volume in litres\n",
"deltap = 100*1.013e5 // change in pressure in Pa\n",
"k = (deltap/(deltav/v));\n",
"disp('Pa',k,'Bulk modulus of liquid is ')"
   ]
   }
,
{
		   "cell_type": "markdown",
		   "metadata": {},
		   "source": [
			"## Example 1.6: example_6.sce"
		   ]
		  },
  {
"cell_type": "code",
	   "execution_count": null,
	   "metadata": {
	    "collapsed": true
	   },
	   "outputs": [],
"source": [
"clc;\n",
"clear all;\n",
"l = 0.4 // Length in meter\n",
"A = 240e-4 // Area of slab in meter square\n",
"F = 1e5 // Shaering force in newton\n",
"n = 5.6e9 // Shear modulus in pa\n",
"deltal = (F*l)/(n*A);\n",
"disp('m',deltal,'The displacement is ')"
   ]
   }
,
{
		   "cell_type": "markdown",
		   "metadata": {},
		   "source": [
			"## Example 1.7: example_7.sce"
		   ]
		  },
  {
"cell_type": "code",
	   "execution_count": null,
	   "metadata": {
	    "collapsed": true
	   },
	   "outputs": [],
"source": [
"clc;\n",
"clear all;\n",
"l = 7; //  Length of rubber cube\n",
"n = 2e7; // Rigidity modulus in dyne per cm square\n",
"F = 200*1000*981; // Force in dyne\n",
"A = 49; // Area in cm square\n",
"theta = (F/(A*n));\n",
"disp('rad',theta,'Shearing stress is ' ) ;\n",
"deltal = l*theta;\n",
"disp('cm',deltal, 'Change is' );"
   ]
   }
,
{
		   "cell_type": "markdown",
		   "metadata": {},
		   "source": [
			"## Example 1.8: example_8.sce"
		   ]
		  },
  {
"cell_type": "code",
	   "execution_count": null,
	   "metadata": {
	    "collapsed": true
	   },
	   "outputs": [],
"source": [
"clc;\n",
"clear all;\n",
"A = 2e-4; // Area of steel wire in meter square\n",
"Y = 2e11 // Young's modulus in Newton per meter square\n",
"F = A*Y //l = L in this problem hence eliminating and rearranging equation of Y\n",
"disp('N',F,'The value of force is')"
   ]
   }
,
{
		   "cell_type": "markdown",
		   "metadata": {},
		   "source": [
			"## Example 1.9: example_9.sce"
		   ]
		  },
  {
"cell_type": "code",
	   "execution_count": null,
	   "metadata": {
	    "collapsed": true
	   },
	   "outputs": [],
"source": [
"clc;\n",
"clear all;\n",
"sigma = 0.2; // Poisson's ratio\n",
"changel = 2e-3; // longitudinal strain\n",
"changev = (changel-(2*sigma*changel))*100;\n",
"disp('%',changev,'Percentage change in volume is')"
   ]
   }
],
"metadata": {
		  "kernelspec": {
		   "display_name": "Scilab",
		   "language": "scilab",
		   "name": "scilab"
		  },
		  "language_info": {
		   "file_extension": ".sce",
		   "help_links": [
			{
			 "text": "MetaKernel Magics",
			 "url": "https://github.com/calysto/metakernel/blob/master/metakernel/magics/README.md"
			}
		   ],
		   "mimetype": "text/x-octave",
		   "name": "scilab",
		   "version": "0.7.1"
		  }
		 },
		 "nbformat": 4,
		 "nbformat_minor": 0
}
