{
"cells": [
 {
		   "cell_type": "markdown",
	   "metadata": {},
	   "source": [
       "# Chapter 5: Wave Optics"
	   ]
	},
{
		   "cell_type": "markdown",
		   "metadata": {},
		   "source": [
			"## Example 5.1: example_1.sce"
		   ]
		  },
  {
"cell_type": "code",
	   "execution_count": null,
	   "metadata": {
	    "collapsed": true
	   },
	   "outputs": [],
"source": [
"clc;\n",
"refractive_index=1.65 //refractive index\n",
"lamda=5893*1e-10;//wavelength\n",
"n=400;\n",
"t=n*lamda/(2*(refractive_index-1));//Thickness of film\n",
"disp(+'meter',t,'Thickness of film = ')"
   ]
   }
,
{
		   "cell_type": "markdown",
		   "metadata": {},
		   "source": [
			"## Example 5.2: example_2.sce"
		   ]
		  },
  {
"cell_type": "code",
	   "execution_count": null,
	   "metadata": {
	    "collapsed": true
	   },
	   "outputs": [],
"source": [
"clc;\n",
"clear all;\n",
"x=0.40*1e-3; //in meter\n",
"n=900;\n",
"lamda=2*x/n;//Wavelength of light in meters\n",
"lamda1=lamda/1e-10;//Wavelength of light in A\n",
"disp(+'Angstorm',lamda1,'Wavelength of light in A =')"
   ]
   }
,
{
		   "cell_type": "markdown",
		   "metadata": {},
		   "source": [
			"## Example 5.3: example_3.sce"
		   ]
		  },
  {
"cell_type": "code",
	   "execution_count": null,
	   "metadata": {
	    "collapsed": true
	   },
	   "outputs": [],
"source": [
"clc;\n",
"lamda=5893*1e-10;//wavelength of monocromatic light\n",
"n=4000;\n",
"x=n*lamda/2;//distance moved by mirror M1\n",
"disp(+'meter',x,'distance moved by mirror M1 =')"
   ]
   }
,
{
		   "cell_type": "markdown",
		   "metadata": {},
		   "source": [
			"## Example 5.4: example_4.sce"
		   ]
		  },
  {
"cell_type": "code",
	   "execution_count": null,
	   "metadata": {
	    "collapsed": true
	   },
	   "outputs": [],
"source": [
"clc;\n",
"clear all;\n",
"lamda=5461*1e-10;//wavelength of light\n",
"n=8;//no of frings\n",
"t=6*1e-6;//in meter\n",
"u=((n*lamda)/(2*t))+1;//refractive index of material\n",
"disp(u,'refractive index of material =');"
   ]
   }
,
{
		   "cell_type": "markdown",
		   "metadata": {},
		   "source": [
			"## Example 5.5: example_5.sce"
		   ]
		  },
  {
"cell_type": "code",
	   "execution_count": null,
	   "metadata": {
	    "collapsed": true
	   },
	   "outputs": [],
"source": [
"clc;\n",
"ue=1.553;//given ue\n",
"u0=1.544;//given uo\n",
"lamda=500*1e-9;//in meter\n",
"t=lamda/(4*(ue-u0));//The thickness of quarter wave plate\n",
"disp(+'meter',t,'The thickness of quarter wave plate =')"
   ]
   }
,
{
		   "cell_type": "markdown",
		   "metadata": {},
		   "source": [
			"## Example 5.6: example_6.sce"
		   ]
		  },
  {
"cell_type": "code",
	   "execution_count": null,
	   "metadata": {
	    "collapsed": true
	   },
	   "outputs": [],
"source": [
"clc;\n",
"lamda=5893*1e-10;//in meter\n",
"ue=1.55333;//given ue\n",
"u0=1.5442;//given u0\n",
"t=lamda/(2*(ue-u0));//Thicknesss of half wave plate\n",
"disp(+'meter',t,'Thicknesss of half wave plate =');"
   ]
   }
,
{
		   "cell_type": "markdown",
		   "metadata": {},
		   "source": [
			"## Example 5.7: example_7.sce"
		   ]
		  },
  {
"cell_type": "code",
	   "execution_count": null,
	   "metadata": {
	    "collapsed": true
	   },
	   "outputs": [],
"source": [
"clc;\n",
"u0=1.5442;//given u0\n",
"ue=1.5533;//given ue\n",
"lamda=5*1e-5;//wavelrngth in cm\n",
"t=lamda/(2*(ue-u0));//Thicknesss of half wave plate\n",
"disp(+'cm',t,'Thicknesss of half wave plate =')\n",
"//slight variation in ans than book.. checked in calculator also"
   ]
   }
,
{
		   "cell_type": "markdown",
		   "metadata": {},
		   "source": [
			"## Example 5.8: example_8.sce"
		   ]
		  },
  {
"cell_type": "code",
	   "execution_count": null,
	   "metadata": {
	    "collapsed": true
	   },
	   "outputs": [],
"source": [
"clc;\n",
"clear all;\n",
"u0=1.658;//given u0\n",
"ue=1.486;//given ue\n",
"lamda=5893*1e-8 //in cm\n",
"t=lamda/(4*(u0-ue));//Thicknesss of quarter wave plate \n",
"disp(+'cm',t,'Thicknesss of quarter wave plate =')"
   ]
   }
],
"metadata": {
		  "kernelspec": {
		   "display_name": "Scilab",
		   "language": "scilab",
		   "name": "scilab"
		  },
		  "language_info": {
		   "file_extension": ".sce",
		   "help_links": [
			{
			 "text": "MetaKernel Magics",
			 "url": "https://github.com/calysto/metakernel/blob/master/metakernel/magics/README.md"
			}
		   ],
		   "mimetype": "text/x-octave",
		   "name": "scilab",
		   "version": "0.7.1"
		  }
		 },
		 "nbformat": 4,
		 "nbformat_minor": 0
}
