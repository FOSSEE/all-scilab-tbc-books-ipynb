{
"cells": [
 {
		   "cell_type": "markdown",
	   "metadata": {},
	   "source": [
       "# Chapter 11: Semiconductors"
	   ]
	},
{
		   "cell_type": "markdown",
		   "metadata": {},
		   "source": [
			"## Example 11.10: example_10.sce"
		   ]
		  },
  {
"cell_type": "code",
	   "execution_count": null,
	   "metadata": {
	    "collapsed": true
	   },
	   "outputs": [],
"source": [
"clc;\n",
"clear all;\n",
"P=8.9*1e-3;//resistivity of doped sillicon\n",
"Rh=3.6*1e-4;//hall coefficient\n",
"e=1.6*1e-19;//charge of electron\n",
"ne=3*%pi/(8*Rh*e);//carrier density of electron\n",
"disp('m^-3',ne,'carrier density of electron is=');\n",
"ue=1/(P*ne*e);//mobility of electon\n",
"disp('m^2*V^-1*s^-1',ue,'mobility of electon is=')"
   ]
   }
,
{
		   "cell_type": "markdown",
		   "metadata": {},
		   "source": [
			"## Example 11.1: example_1.sce"
		   ]
		  },
  {
"cell_type": "code",
	   "execution_count": null,
	   "metadata": {
	    "collapsed": true
	   },
	   "outputs": [],
"source": [
"clc;\n",
"clear all;\n",
"Pi=0.47;//given resistivity of intrinsic germanium\n",
"sigmai=1/Pi;//conductance\n",
"e=1.6*1e-19;//charge of electron\n",
"ue=0.38;//electron mobility\n",
"up=0.18;//hole mobility\n",
"ni=sigmai/(e*(ue+up));//intrinsic carrier density at 300K \n",
"disp('m^-3',ni,'intrinsic carrier density at 300K temp=');"
   ]
   }
,
{
		   "cell_type": "markdown",
		   "metadata": {},
		   "source": [
			"## Example 11.2: example_2.sce"
		   ]
		  },
  {
"cell_type": "code",
	   "execution_count": null,
	   "metadata": {
	    "collapsed": true
	   },
	   "outputs": [],
"source": [
"clc;\n",
"clear all;\n",
"e=1.6*1e-19;//charge of electron\n",
"ue=0.39;//electron mobility\n",
"up=0.19;//hole mobility\n",
"ni=2.4*1e19;//intrinsic carrier density \n",
"sigma=ni*e*(up+ue);\n",
"disp('ohm^-1*m^-1',sigma,'conductivity of intrinsic semiconductor=');"
   ]
   }
,
{
		   "cell_type": "markdown",
		   "metadata": {},
		   "source": [
			"## Example 11.3: example_3.sce"
		   ]
		  },
  {
"cell_type": "code",
	   "execution_count": null,
	   "metadata": {
	    "collapsed": true
	   },
	   "outputs": [],
"source": [
"clc;\n",
"clear all;\n",
"m0=9.1*1e-31;\n",
"me=0.12*m0;\n",
"mp=0.28*m0;\n",
"Eg=0.67*1.6*1e-19\n",
"k=1.38*1e-23;//boltzman constant\n",
"h=6.62*1e-34;//plank's constant\n",
"T=300;\n",
"ni=2*((2*%pi*k*T/h^2)^(3/2))*((me*mp)^(3/4))*exp(-Eg/(2*k*T));//intrinsic carrier concentration\n",
"disp('m^-3',ni,'intrinsic carrier concentration is=');"
   ]
   }
,
{
		   "cell_type": "markdown",
		   "metadata": {},
		   "source": [
			"## Example 11.4: example_4.sce"
		   ]
		  },
  {
"cell_type": "code",
	   "execution_count": null,
	   "metadata": {
	    "collapsed": true
	   },
	   "outputs": [],
"source": [
"clc;\n",
"clear all;\n",
"Eg1=0.36*1.6*1e-19;\n",
"Eg2=0.72*1.6*1e-19\n",
"k=1.38*1e-23;//boltzman constant\n",
"T=300;//tempreture in kelvin\n",
"//in this formula ni=2*((2*%pi*k*T/h^2)^(3/2))*((me*mp)^(3/4))*exp(-Eg/(2*k*T))ratio of nip/niq is given by:\n",
"x=exp((Eg2-Eg1)/(2*k*T));//ratio of nip/niq\n",
"disp(x,'ratio of nip/niq is=');\n",
"//slight variation in ans than book.. checked in calculator also"
   ]
   }
,
{
		   "cell_type": "markdown",
		   "metadata": {},
		   "source": [
			"## Example 11.5: example_5.sce"
		   ]
		  },
  {
"cell_type": "code",
	   "execution_count": null,
	   "metadata": {
	    "collapsed": true
	   },
	   "outputs": [],
"source": [
"clc;\n",
"clear all;\n",
"e=1.6*1e-19;//charge of electron\n",
"ue=0.39;//electron mobility\n",
"up=0.19;//hole mobility\n",
"ni=2.5*1e19;//intrinsic carrier density \n",
"l=1e-2;//length of Ge rode\n",
"a=1e-4;//area of Ge rode\n",
"sigma=ni*e*(up+ue);//conductivity of intrinsic semiconductor\n",
"disp('ohm^-1*m^-1',sigma,'conductivity of intrinsic semiconductor=');\n",
"P=1/sigma;\n",
"R=P*l/a;//resistance of Ge rode\n",
"disp('ohm',R,'resistance of Ge rode');"
   ]
   }
,
{
		   "cell_type": "markdown",
		   "metadata": {},
		   "source": [
			"## Example 11.6: example_6.sce"
		   ]
		  },
  {
"cell_type": "code",
	   "execution_count": null,
	   "metadata": {
	    "collapsed": true
	   },
	   "outputs": [],
"source": [
"clc;\n",
"clear all;\n",
"ue=3850;//mobility of electron\n",
"sigma=5;//conductivity of ntype semiconductor\n",
"e=1.6*1e-19;//charge of electron\n",
"Nd=sigma/(e*ue);//density of donor atoms\n",
"disp('cm^-3',Nd,'density of donor atoms is=');"
   ]
   }
,
{
		   "cell_type": "markdown",
		   "metadata": {},
		   "source": [
			"## Example 11.7: example_7.sce"
		   ]
		  },
  {
"cell_type": "code",
	   "execution_count": null,
	   "metadata": {
	    "collapsed": true
	   },
	   "outputs": [],
"source": [
"clc;\n",
"clear all;\n",
"//let Ef-Ev=0.4eV=x and Ef1-Ev=y\n",
"x=0.4;//Ef-Ev in eV\n",
"k=1.38*1e-34;//boltzmann constant\n",
"T=300;//tempreture in kelvin\n",
"//now p=Nv*exp(-x/(k*T))=Na and p'=Nv*exp(-y/(k*T))=2Na so ratio of this 2 is 2=exp(x-y/(k*T))\n",
"y=x-k*T*log(2);//Ef1-Ev in eV\n",
"disp('eV',y,'Ef1-Ev in eV is=')"
   ]
   }
,
{
		   "cell_type": "markdown",
		   "metadata": {},
		   "source": [
			"## Example 11.8: example_8.sce"
		   ]
		  },
  {
"cell_type": "code",
	   "execution_count": null,
	   "metadata": {
	    "collapsed": true
	   },
	   "outputs": [],
"source": [
"clc;\n",
"clear all;\n",
"//let Ec1-Ef=0.3eV=x and Ec2-Ef=y\n",
"x=0.3;//Ec-Ef in eV\n",
"T1=300;//tempreture in kelvin\n",
"T2=330;//tempreture in kelvin\n",
"//Ec-Ef=k*T*log(Nc/Nd) so..\n",
"y=T2*x/T1;//Ec2-Ef in eV\n",
"disp('eV',y,'Ec2-Ef in eV is=');\n",
""
   ]
   }
,
{
		   "cell_type": "markdown",
		   "metadata": {},
		   "source": [
			"## Example 11.9: example_9.sce"
		   ]
		  },
  {
"cell_type": "code",
	   "execution_count": null,
	   "metadata": {
	    "collapsed": true
	   },
	   "outputs": [],
"source": [
"clc;\n",
"clear all;\n",
"B=0.5;//given flux density\n",
"d=3*1e-3;//given thickness\n",
"J=500;//given current density\n",
"n=1e21;//given donor density\n",
"e=1.6*1e-19;//charge of electron\n",
"Vh=(B*J*d/(n*e));//hall voltage\n",
"disp('V',Vh,'hall voltage is=');"
   ]
   }
],
"metadata": {
		  "kernelspec": {
		   "display_name": "Scilab",
		   "language": "scilab",
		   "name": "scilab"
		  },
		  "language_info": {
		   "file_extension": ".sce",
		   "help_links": [
			{
			 "text": "MetaKernel Magics",
			 "url": "https://github.com/calysto/metakernel/blob/master/metakernel/magics/README.md"
			}
		   ],
		   "mimetype": "text/x-octave",
		   "name": "scilab",
		   "version": "0.7.1"
		  }
		 },
		 "nbformat": 4,
		 "nbformat_minor": 0
}
