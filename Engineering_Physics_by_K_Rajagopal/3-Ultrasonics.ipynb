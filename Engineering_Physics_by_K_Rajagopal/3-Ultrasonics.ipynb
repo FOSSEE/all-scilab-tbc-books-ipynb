{
"cells": [
 {
		   "cell_type": "markdown",
	   "metadata": {},
	   "source": [
       "# Chapter 3: Ultrasonics"
	   ]
	},
{
		   "cell_type": "markdown",
		   "metadata": {},
		   "source": [
			"## Example 3.1: example_1.sce"
		   ]
		  },
  {
"cell_type": "code",
	   "execution_count": null,
	   "metadata": {
	    "collapsed": true
	   },
	   "outputs": [],
"source": [
"clc;\n",
"clear all;\n",
"t=1.6*1e-3 //thickness in meter\n",
"v=5760 //velocity in m/s\n",
"lemda=2*t//wavelength\n",
"f=v/lemda//fundamental frequency \n",
"disp(+'Hz',f,'fundamental frequency =')"
   ]
   }
,
{
		   "cell_type": "markdown",
		   "metadata": {},
		   "source": [
			"## Example 3.2: example_2.sce"
		   ]
		  },
  {
"cell_type": "code",
	   "execution_count": null,
	   "metadata": {
	    "collapsed": true
	   },
	   "outputs": [],
"source": [
"clc;\n",
"t=40*1e-2;\n",
"//pulse covers 2x distance in arriving back\n",
"//so,  30*1e-6=2*x/v\n",
"//and, 2nd pulse will cover a distance of 2*40 cm in 80*1e-6 seconds\n",
"//therfore,  80*1e-6=(2*40*1e-2)/v\n",
"//compare both equation\n",
"e1=30;\n",
"e2=40*2\n",
"x=e1*t*2/(2*e2);\n",
"disp(+'m',x,'distanc of the flow from near end =') "
   ]
   }
,
{
		   "cell_type": "markdown",
		   "metadata": {},
		   "source": [
			"## Example 3.3: example_3.sce"
		   ]
		  },
  {
"cell_type": "code",
	   "execution_count": null,
	   "metadata": {
	    "collapsed": true
	   },
	   "outputs": [],
"source": [
"clc;\n",
"f_diff=50*1e3 //in Hz\n",
"v=5000 //in m/s\n",
"//f1=v/2*t\n",
"//f2=2v/2t\n",
"//f2-f1=v/2t\n",
"t=v/(2*f_diff)\n",
"disp(+'meter',t,'Thickness of steel plate =')"
   ]
   }
,
{
		   "cell_type": "markdown",
		   "metadata": {},
		   "source": [
			"## Example 3.4: example_4.sce"
		   ]
		  },
  {
"cell_type": "code",
	   "execution_count": null,
	   "metadata": {
	    "collapsed": true
	   },
	   "outputs": [],
"source": [
"clc;\n",
"f=1e6 //frequency in Hz\n",
"L=1 //inductance in henry\n",
"//f=(1/2*pi)*(sqrt(1/(L*C)))\n",
"c=1/(4*%pi^2*f^2*L);//capacitance\n",
"disp(+'F',c,'capacitance =')"
   ]
   }
],
"metadata": {
		  "kernelspec": {
		   "display_name": "Scilab",
		   "language": "scilab",
		   "name": "scilab"
		  },
		  "language_info": {
		   "file_extension": ".sce",
		   "help_links": [
			{
			 "text": "MetaKernel Magics",
			 "url": "https://github.com/calysto/metakernel/blob/master/metakernel/magics/README.md"
			}
		   ],
		   "mimetype": "text/x-octave",
		   "name": "scilab",
		   "version": "0.7.1"
		  }
		 },
		 "nbformat": 4,
		 "nbformat_minor": 0
}
