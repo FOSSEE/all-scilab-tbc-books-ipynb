{
"cells": [
 {
		   "cell_type": "markdown",
	   "metadata": {},
	   "source": [
       "# Chapter 6: Lasers"
	   ]
	},
{
		   "cell_type": "markdown",
		   "metadata": {},
		   "source": [
			"## Example 6.1: example_1.sce"
		   ]
		  },
  {
"cell_type": "code",
	   "execution_count": null,
	   "metadata": {
	    "collapsed": true
	   },
	   "outputs": [],
"source": [
"clc;\n",
"clear all;\n",
"D=4*1e8;//distance between earth and moon in m\n",
"lemda=16000*1e-10;//wavelength in meters\n",
"d=1e-3;//aperture in meter\n",
"th=lemda/d;//angular speed\n",
"disp('rad',th,'angular speed is=');\n",
"aos=(D*th)^2;//area of spread \n",
"disp('m^2',aos,'area of spread is=');\n",
"//there is variation in the answer than book..checked in calculator too.."
   ]
   }
,
{
		   "cell_type": "markdown",
		   "metadata": {},
		   "source": [
			"## Example 6.2: example_2.sce"
		   ]
		  },
  {
"cell_type": "code",
	   "execution_count": null,
	   "metadata": {
	    "collapsed": true
	   },
	   "outputs": [],
"source": [
"clc;\n",
"clear all;\n",
"a1=2*1e-3;//distance from the laser\n",
"a2=3*1e-3;//distance from the laser\n",
"d1=2;//output beam spot diameter\n",
"d2=4;//output beam spot diameter\n",
"th=(a2-a1)/(2*(d2-d1));//angle of divergence\n",
"disp('rad',th,'angle of divergence');"
   ]
   }
,
{
		   "cell_type": "markdown",
		   "metadata": {},
		   "source": [
			"## Example 6.3: example_3.sce"
		   ]
		  },
  {
"cell_type": "code",
	   "execution_count": null,
	   "metadata": {
	    "collapsed": true
	   },
	   "outputs": [],
"source": [
"clc;\n",
"clear all;\n",
"D=0.1;//focal length of lens\n",
"lemda=14400*1e-10;//wavelength in meters\n",
"p=100*1e-3;//power of laser beam\n",
"d=10*1e-3;//aperture in meter\n",
"th=lemda/d;//angular speed\n",
"disp('rad',th,'angular speed is=');\n",
"aos=(D*th)^2;//area of spread \n",
"disp('m^2',aos,'area of spread is=');\n",
"I=p/aos;//'intensity\n",
"disp('W*m^-2',I,'intensity is=');\n",
""
   ]
   }
],
"metadata": {
		  "kernelspec": {
		   "display_name": "Scilab",
		   "language": "scilab",
		   "name": "scilab"
		  },
		  "language_info": {
		   "file_extension": ".sce",
		   "help_links": [
			{
			 "text": "MetaKernel Magics",
			 "url": "https://github.com/calysto/metakernel/blob/master/metakernel/magics/README.md"
			}
		   ],
		   "mimetype": "text/x-octave",
		   "name": "scilab",
		   "version": "0.7.1"
		  }
		 },
		 "nbformat": 4,
		 "nbformat_minor": 0
}
