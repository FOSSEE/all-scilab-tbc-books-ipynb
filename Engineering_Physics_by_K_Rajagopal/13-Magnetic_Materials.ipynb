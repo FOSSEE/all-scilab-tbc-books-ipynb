{
"cells": [
 {
		   "cell_type": "markdown",
	   "metadata": {},
	   "source": [
       "# Chapter 13: Magnetic Materials"
	   ]
	},
{
		   "cell_type": "markdown",
		   "metadata": {},
		   "source": [
			"## Example 13.1: example_1.sce"
		   ]
		  },
  {
"cell_type": "code",
	   "execution_count": null,
	   "metadata": {
	    "collapsed": true
	   },
	   "outputs": [],
"source": [
"clc;\n",
"clear all;\n",
"u0=4*%pi*1e-7;\n",
"H=1e7;//magnetic field strength\n",
"X=(-0.9)*1e-6;//magnetic suseptiblity\n",
"M=X*H;//magnetization of material\n",
"disp('A/m',M,'magnetization of material is=');\n",
"B=u0*H;//magnetic flux density\n",
"disp('Wb/m^2',B,'magnetic flux density is=');"
   ]
   }
,
{
		   "cell_type": "markdown",
		   "metadata": {},
		   "source": [
			"## Example 13.2: example_2.sce"
		   ]
		  },
  {
"cell_type": "code",
	   "execution_count": null,
	   "metadata": {
	    "collapsed": true
	   },
	   "outputs": [],
"source": [
"clc;\n",
"clear all;\n",
"X=2*1e-3;//magnetic suseptibility of material at room temp.\n",
"H=1e3;//magnetic field intrnsity of piece of ferricoxide\n",
"u0=4*%pi*1e-7;\n",
"M=X*H;//magnetization\n",
"disp('A/m',M,'magnetization is=');\n",
"ur=X+1;//relative permiability\n",
"B=u0*ur*H;//magnetic flux density\n",
"disp('W/m^2',B,'magnetic flux density is=');"
   ]
   }
,
{
		   "cell_type": "markdown",
		   "metadata": {},
		   "source": [
			"## Example 13.3: example_3.sce"
		   ]
		  },
  {
"cell_type": "code",
	   "execution_count": null,
	   "metadata": {
	    "collapsed": true
	   },
	   "outputs": [],
"source": [
"clc;\n",
"clear all;\n",
"M=2.74*1e8;//magnetization per atom in A/m\n",
"a=2.66*1e-10;//elementry cube edge\n",
"n=2;//Iron in BCC\n",
"B=(M*a*a*a)/2;//Am^2 per atom\n",
"disp('Am^2',B,'Am^2 per atom=');\n",
"//interms of bohr megneton\n",
"b=B/(9.27*1e-24);//dipole moment\n",
"disp('bohr megnaton/atom',b,'dipole moment is=');\n",
"//slight variation in ans than book.. checked in calculator also"
   ]
   }
,
{
		   "cell_type": "markdown",
		   "metadata": {},
		   "source": [
			"## Example 13.4: example_4.sce"
		   ]
		  },
  {
"cell_type": "code",
	   "execution_count": null,
	   "metadata": {
	    "collapsed": true
	   },
	   "outputs": [],
"source": [
"clc;\n",
"clear all;\n",
"u0=4*%pi*1e-7;\n",
"b=9.27*1e-24;\n",
"H=1e3;//homogeneous field\n",
"k=1.38*1e-23;//boltzmann constant\n",
"T=303;//temp in kelvin\n",
"T1 = T - 273; // Temp In Degree\n",
"x=u0*b*H/(k*T);//avg magnetic moment\n",
"disp('bohr magneton/spin',x,'avg magnetic moment is=');"
   ]
   }
,
{
		   "cell_type": "markdown",
		   "metadata": {},
		   "source": [
			"## Example 13.5: example_5.sce"
		   ]
		  },
  {
"cell_type": "code",
	   "execution_count": null,
	   "metadata": {
	    "collapsed": true
	   },
	   "outputs": [],
"source": [
"clc;\n",
"clear all;\n",
"ur=16;//relative permiability\n",
"I=3300;//intensity of magnetization\n",
"H=I/(ur-1);//strength of the field\n",
"disp('A/m',H,'strength of the field');"
   ]
   }
],
"metadata": {
		  "kernelspec": {
		   "display_name": "Scilab",
		   "language": "scilab",
		   "name": "scilab"
		  },
		  "language_info": {
		   "file_extension": ".sce",
		   "help_links": [
			{
			 "text": "MetaKernel Magics",
			 "url": "https://github.com/calysto/metakernel/blob/master/metakernel/magics/README.md"
			}
		   ],
		   "mimetype": "text/x-octave",
		   "name": "scilab",
		   "version": "0.7.1"
		  }
		 },
		 "nbformat": 4,
		 "nbformat_minor": 0
}
