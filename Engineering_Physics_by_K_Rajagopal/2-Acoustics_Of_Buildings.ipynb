{
"cells": [
 {
		   "cell_type": "markdown",
	   "metadata": {},
	   "source": [
       "# Chapter 2: Acoustics Of Buildings"
	   ]
	},
{
		   "cell_type": "markdown",
		   "metadata": {},
		   "source": [
			"## Example 2.10: example_10.sce"
		   ]
		  },
  {
"cell_type": "code",
	   "execution_count": null,
	   "metadata": {
	    "collapsed": true
	   },
	   "outputs": [],
"source": [
"clc;\n",
"clear all;\n",
"v=45*100*17.78;//in m^3\n",
"absorp1=(700*0.03)+(600*0.06)+(400*0.025)+(600*0.3);\n",
"absorp_p=600*4.3;\n",
"T1=(0.16*v)/(absorp1);//Reverbaration time (empty hall) \n",
"T2=(0.16*v)/(absorp_p+absorp1);//Reverbaration time with full capacity\n",
"disp(+'second',T1,'Reverbaration time (empty hall) =');\n",
"disp(+'second',T2,'Reverbaration time with full capacity =');\n",
"//There is slight variation in answer than book's answer..verified in calculator too.(mistake in textbook)"
   ]
   }
,
{
		   "cell_type": "markdown",
		   "metadata": {},
		   "source": [
			"## Example 2.1: example_1.sce"
		   ]
		  },
  {
"cell_type": "code",
	   "execution_count": null,
	   "metadata": {
	    "collapsed": true
	   },
	   "outputs": [],
"source": [
"clc;\n",
"//delta_L=L2-L1\n",
"//I proportional to square of amplitude so when amplitude is doubled intensity will becomes 4 times \n",
"//L1=10*l0g10(I1/I0)\n",
"//L2=10*log10(I2/I0)\n",
"//delta_L=L2-L1\n",
"//delta_L=10*log(I1/I0)-10*log(I2/I0)=10*log(I2/I1)\n",
"I21=4;//I2/I1=4 because intensity=amp^2\n",
"delta_L=10*log10(I21);//increase in intensity level\n",
"disp(+'dB',delta_L,'increase in intensity level =')"
   ]
   }
,
{
		   "cell_type": "markdown",
		   "metadata": {},
		   "source": [
			"## Example 2.2: example_2.sce"
		   ]
		  },
  {
"cell_type": "code",
	   "execution_count": null,
	   "metadata": {
	    "collapsed": true
	   },
	   "outputs": [],
"source": [
"clc;\n",
"//L2-L1=10*log10(I2/I1)\n",
"//so , we can write that \n",
"L2=40  //i dB\n",
"L1=10 //in dB \n",
"//where L1 and L2 are intensity level of two waves of same frequency\n",
"L=L2-L1;\n",
"//let I2/I1=I\n",
"I=10^(L/10);\n",
"//let a2/a1=a\n",
"a=sqrt(I);//Ratio of their amplitudes \n",
"disp(a,'Ratio of their amplitudes = ')"
   ]
   }
,
{
		   "cell_type": "markdown",
		   "metadata": {},
		   "source": [
			"## Example 2.3: example_3.sce"
		   ]
		  },
  {
"cell_type": "code",
	   "execution_count": null,
	   "metadata": {
	    "collapsed": true
	   },
	   "outputs": [],
"source": [
"clc;\n",
"clear all;\n",
"I1=25.2 //in Wm^-2\n",
"I2=0.90 //in Wm^-2\n",
"B=10*log10(I1/I2) //Relative loudness of sound in dB\n",
"disp(+'dB',B,'Relative loudness of sound = ')"
   ]
   }
,
{
		   "cell_type": "markdown",
		   "metadata": {},
		   "source": [
			"## Example 2.4: example_4.sce"
		   ]
		  },
  {
"cell_type": "code",
	   "execution_count": null,
	   "metadata": {
	    "collapsed": true
	   },
	   "outputs": [],
"source": [
"clc;\n",
"clear all;\n",
"I=1e4 //in W/(m*m)\n",
"I0=1e-12 //in W/(m*m)\n",
"B=10*log10(I/I0);//intensity level\n",
"disp(+'dB',B,'intensity level = ')"
   ]
   }
,
{
		   "cell_type": "markdown",
		   "metadata": {},
		   "source": [
			"## Example 2.5: example_5.sce"
		   ]
		  },
  {
"cell_type": "code",
	   "execution_count": null,
	   "metadata": {
	    "collapsed": true
	   },
	   "outputs": [],
"source": [
"clc;\n",
"B=5 // in dB\n",
"//B=10*log(I2/I1)\n",
"//let I2/I1=x\n",
"//10*log(x)=5\n",
"x=10^(5/10);\n",
"disp('times more intense than the unamplified sound',x,'Amplified sound is')"
   ]
   }
,
{
		   "cell_type": "markdown",
		   "metadata": {},
		   "source": [
			"## Example 2.6: example_6.sce"
		   ]
		  },
  {
"cell_type": "code",
	   "execution_count": null,
	   "metadata": {
	    "collapsed": true
	   },
	   "outputs": [],
"source": [
"clc;\n",
"d=198; //in meter\n",
"t=1.2;//in second\n",
"//velocity=distance/time\n",
"v=2*d/t;//velocity\n",
"disp(+'m/s',v,'velocity =');"
   ]
   }
,
{
		   "cell_type": "markdown",
		   "metadata": {},
		   "source": [
			"## Example 2.7: example_7.sce"
		   ]
		  },
  {
"cell_type": "code",
	   "execution_count": null,
	   "metadata": {
	    "collapsed": true
	   },
	   "outputs": [],
"source": [
"clc;\n",
"//need to find absorption coefficient\n",
"V=5600 //in  m^3\n",
"T=2 //in second\n",
"s=700 //in m^2\n",
"a=0.16*V/(s*T)\n",
"disp(a,'absorption coefficient =')"
   ]
   }
,
{
		   "cell_type": "markdown",
		   "metadata": {},
		   "source": [
			"## Example 2.8: example_8.sce"
		   ]
		  },
  {
"cell_type": "code",
	   "execution_count": null,
	   "metadata": {
	    "collapsed": true
	   },
	   "outputs": [],
"source": [
"clc;\n",
"absorp1=92.90; //in m^^2\n",
"absorp2=92.90;//in m^2\n",
"V=2265.6;//in m^3\n",
"T1=0.16*V/(absorp1);\n",
"T2=0.16*V/(absorp1+absorp2);\n",
"ans=T2/T1;//effect on Reverberation time\n",
"disp(+'of its original value',ans,'Reverberation time will reduced to ')"
   ]
   }
,
{
		   "cell_type": "markdown",
		   "metadata": {},
		   "source": [
			"## Example 2.9: example_9.sce"
		   ]
		  },
  {
"cell_type": "code",
	   "execution_count": null,
	   "metadata": {
	    "collapsed": true
	   },
	   "outputs": [],
"source": [
"clc;\n",
"clear all;\n",
"v=25.2*20.3*8.04 ;//in m^3\n",
"T=0.75; //in second\n",
"absorp1=500*0.3176 ;//in m^2\n",
"absorp2=(0.16*v)/T;\n",
"T1=(0.16*v)/(absorp1+absorp2);//reverbaration time\n",
"disp(+'second',T1,'reverbaration time =');"
   ]
   }
],
"metadata": {
		  "kernelspec": {
		   "display_name": "Scilab",
		   "language": "scilab",
		   "name": "scilab"
		  },
		  "language_info": {
		   "file_extension": ".sce",
		   "help_links": [
			{
			 "text": "MetaKernel Magics",
			 "url": "https://github.com/calysto/metakernel/blob/master/metakernel/magics/README.md"
			}
		   ],
		   "mimetype": "text/x-octave",
		   "name": "scilab",
		   "version": "0.7.1"
		  }
		 },
		 "nbformat": 4,
		 "nbformat_minor": 0
}
