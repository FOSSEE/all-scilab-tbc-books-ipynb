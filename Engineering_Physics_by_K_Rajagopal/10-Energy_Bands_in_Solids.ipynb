{
"cells": [
 {
		   "cell_type": "markdown",
	   "metadata": {},
	   "source": [
       "# Chapter 10: Energy Bands in Solids"
	   ]
	},
{
		   "cell_type": "markdown",
		   "metadata": {},
		   "source": [
			"## Example 10.1: example_1.sce"
		   ]
		  },
  {
"cell_type": "code",
	   "execution_count": null,
	   "metadata": {
	    "collapsed": true
	   },
	   "outputs": [],
"source": [
"clc;\n",
"//E=Ef+1% of Ef\n",
"k=1.38*1e-23;//boltzman constant\n",
"e=1.6*1e-19;//charge of electron\n",
"E=0.0555;\n",
"//0.1=1/[(exp((E*e)/(k*T)))+1]\n",
"T=E*e/(k*log(9));//Temprature\n",
"disp(+'kelvin',T,'Temprature = ');\n",
"//there is slight variation than book's answer.. checked in calculator also.(book's mistake)"
   ]
   }
,
{
		   "cell_type": "markdown",
		   "metadata": {},
		   "source": [
			"## Example 10.2: example_2.sce"
		   ]
		  },
  {
"cell_type": "code",
	   "execution_count": null,
	   "metadata": {
	    "collapsed": true
	   },
	   "outputs": [],
"source": [
"clc;\n",
"sx=0.01 //in ev. where x=E-Ef\n",
"x1=sx*1.6*1e-19 //converting it in joule\n",
"T=200 //in kelvin\n",
"Fe=1/(1+exp(x1/(1.38*1e-23*T)));//The value of F(E) \n",
"disp(Fe,'The value of F(E) =')"
   ]
   }
,
{
		   "cell_type": "markdown",
		   "metadata": {},
		   "source": [
			"## Example 10.3: example_3.sce"
		   ]
		  },
  {
"cell_type": "code",
	   "execution_count": null,
	   "metadata": {
	    "collapsed": true
	   },
	   "outputs": [],
"source": [
"clc;\n",
"density=7.13*1e3  //in kg/m^3\n",
"M=65.4\n",
"N=6.023*1e26 //avogedro number\n",
"n=(2*density*N)/M\n",
"n1=n^(2/3);\n",
"Ef=3.65*1e-19*n1; //in eV\n",
"Ef1=(3/5)*Ef //in eV\n",
"disp(+'eV',Ef,'fermi energy =');\n",
"disp(+'eV',Ef1,'Mean energy at T=0K =');\n",
"//there is slight variation in answer than book's answer.. checked in calculator too..(book's mistake)"
   ]
   }
,
{
		   "cell_type": "markdown",
		   "metadata": {},
		   "source": [
			"## Example 10.4: example_4.sce"
		   ]
		  },
  {
"cell_type": "code",
	   "execution_count": null,
	   "metadata": {
	    "collapsed": true
	   },
	   "outputs": [],
"source": [
"clc;\n",
"clear all;\n",
"Ef=5.51 //in eV\n",
"E=(3/5)*Ef;//The average energy of a free electron in silver at 0k\n",
"disp(+'eV',E,'The average energy of a free electron in silver at 0k =')"
   ]
   }
],
"metadata": {
		  "kernelspec": {
		   "display_name": "Scilab",
		   "language": "scilab",
		   "name": "scilab"
		  },
		  "language_info": {
		   "file_extension": ".sce",
		   "help_links": [
			{
			 "text": "MetaKernel Magics",
			 "url": "https://github.com/calysto/metakernel/blob/master/metakernel/magics/README.md"
			}
		   ],
		   "mimetype": "text/x-octave",
		   "name": "scilab",
		   "version": "0.7.1"
		  }
		 },
		 "nbformat": 4,
		 "nbformat_minor": 0
}
