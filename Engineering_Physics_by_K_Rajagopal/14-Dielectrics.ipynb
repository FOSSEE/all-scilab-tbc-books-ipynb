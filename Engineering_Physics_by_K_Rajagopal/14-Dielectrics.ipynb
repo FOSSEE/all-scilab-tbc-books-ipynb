{
"cells": [
 {
		   "cell_type": "markdown",
	   "metadata": {},
	   "source": [
       "# Chapter 14: Dielectrics"
	   ]
	},
{
		   "cell_type": "markdown",
		   "metadata": {},
		   "source": [
			"## Example 14.1: example_1.sce"
		   ]
		  },
  {
"cell_type": "code",
	   "execution_count": null,
	   "metadata": {
	    "collapsed": true
	   },
	   "outputs": [],
"source": [
"clc;\n",
"clear all;\n",
"er=1.0000684;//dielectric constant of helium \n",
"N=2.7*1e25;//atoms/m^3\n",
"r=(er-1)/(4*%pi*N);\n",
"R=r^(1/3); //radius of electron cloud\n",
"disp('m',R,'radius of electron cloud is');\n",
"//slight variation in ans than book.. checked in calculator also"
   ]
   }
,
{
		   "cell_type": "markdown",
		   "metadata": {},
		   "source": [
			"## Example 14.2: example_2.sce"
		   ]
		  },
  {
"cell_type": "code",
	   "execution_count": null,
	   "metadata": {
	    "collapsed": true
	   },
	   "outputs": [],
"source": [
"clc;\n",
"clear all;\n",
"k=1.38*1e-23;//boltzmann constant\n",
"N=1e27;//HCL molecule per cubic meter\n",
"E=1e6;//electric field of vapour\n",
"D=3.33*1e-30;\n",
"pHCL=1.04*D;\n",
"T=300;//tempreture in kelvin\n",
"alpha=(pHCL)^2/(3*k*T);\n",
"p0=N*alpha*E;//orientation polarization\n",
"disp('C/m^2',p0,'orientation polarization is=');"
   ]
   }
,
{
		   "cell_type": "markdown",
		   "metadata": {},
		   "source": [
			"## Example 14.3: example_3.sce"
		   ]
		  },
  {
"cell_type": "code",
	   "execution_count": null,
	   "metadata": {
	    "collapsed": true
	   },
	   "outputs": [],
"source": [
"clc;\n",
"clear all;\n",
"alpha=0.35*1e-40;//polarizability of gas\n",
"N=2.7*1e25;\n",
"e0=8.854*1e-12;//permittivity of vacume\n",
"er=1+(N*alpha/e0);//relative permittivity\n",
"disp(er,'relative permittivity is=');"
   ]
   }
,
{
		   "cell_type": "markdown",
		   "metadata": {},
		   "source": [
			"## Example 14.4: example_4.sce"
		   ]
		  },
  {
"cell_type": "code",
	   "execution_count": null,
	   "metadata": {
	    "collapsed": true
	   },
	   "outputs": [],
"source": [
"clc;\n",
"clear all;\n",
"er=12;//relative permittivity\n",
"N=5*1e28;//atoms/m^3\n",
"e0=8.854*1e-12;//permittivity of vacume\n",
"x=(er-1)/(er+2);\n",
"alpha=(3*e0/N)*x;//electrical polarizability\n",
"disp('F*m^2',alpha,'electrical polarizability');"
   ]
   }
,
{
		   "cell_type": "markdown",
		   "metadata": {},
		   "source": [
			"## Example 14.5: example_5.sce"
		   ]
		  },
  {
"cell_type": "code",
	   "execution_count": null,
	   "metadata": {
	    "collapsed": true
	   },
	   "outputs": [],
"source": [
"clc;\n",
"clear all;\n",
"C=2.4*1e-12;//given capacitance in F\n",
"e0=8.854*1e-12;//permittivity of vacume\n",
"a=4*1e-4;//area in m^2\n",
"d=0.5*1e-2;//thickness\n",
"tandelta=0.02;\n",
"er=(C*d)/(e0*a);//relative permittivity\n",
"disp(er,'relative permittivity is=');\n",
"lf=er*tandelta;//loss factor\n",
"disp(lf,'electric loss factor is=');\n",
"delta=atan(0.02);\n",
"PA=90-delta;//phase angle\n",
"disp(PA,'phase angle is=');\n",
"//slight variation in ans than book.. checked in calculator also"
   ]
   }
,
{
		   "cell_type": "markdown",
		   "metadata": {},
		   "source": [
			"## Example 14.6: example_6.sce"
		   ]
		  },
  {
"cell_type": "code",
	   "execution_count": null,
	   "metadata": {
	    "collapsed": true
	   },
	   "outputs": [],
"source": [
"clc;\n",
"clear all;\n",
"er=8;//relative permittivity\n",
"a=0.036;//area in m^2\n",
"e0=8.854*1e-12;//permittivity of vacume\n",
"C=6*1e-6;//capacitance in F\n",
"V=15;//potential difference\n",
"d=e0*er*a/C;\n",
"E=V/d;//field strength\n",
"disp('V/m',E,'field strength is=');\n",
"dpm=e0*(er-1)*E;//dipole moment/unit volume\n",
"disp('C/m^2',dpm,'dipole moment/unit volume=');\n",
"//slight variation in ans than book.. checked in calculator also(Mistake in textbook)"
   ]
   }
],
"metadata": {
		  "kernelspec": {
		   "display_name": "Scilab",
		   "language": "scilab",
		   "name": "scilab"
		  },
		  "language_info": {
		   "file_extension": ".sce",
		   "help_links": [
			{
			 "text": "MetaKernel Magics",
			 "url": "https://github.com/calysto/metakernel/blob/master/metakernel/magics/README.md"
			}
		   ],
		   "mimetype": "text/x-octave",
		   "name": "scilab",
		   "version": "0.7.1"
		  }
		 },
		 "nbformat": 4,
		 "nbformat_minor": 0
}
