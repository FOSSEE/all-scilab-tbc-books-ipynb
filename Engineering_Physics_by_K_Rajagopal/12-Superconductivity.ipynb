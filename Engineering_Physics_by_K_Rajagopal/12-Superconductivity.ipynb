{
"cells": [
 {
		   "cell_type": "markdown",
	   "metadata": {},
	   "source": [
       "# Chapter 12: Superconductivity"
	   ]
	},
{
		   "cell_type": "markdown",
		   "metadata": {},
		   "source": [
			"## Example 12.1: example_1.sce"
		   ]
		  },
  {
"cell_type": "code",
	   "execution_count": null,
	   "metadata": {
	    "collapsed": true
	   },
	   "outputs": [],
"source": [
"clc;\n",
"clear all;\n",
"Tc=7.26;//critical tempreture in kelvin\n",
"H0=8*1e5/(4*%pi);//magnetic field at 0K\n",
"T=5;//tempreture in kelvin\n",
"Hc=H0*(1-(T/Tc)^2);//megnrtic field at 5K\n",
"disp('A/m',Hc,'megnrtic field at 5K tempreture');\n",
"//there is variation in the answer than book.. checked in calculator too.."
   ]
   }
,
{
		   "cell_type": "markdown",
		   "metadata": {},
		   "source": [
			"## Example 12.2: example_2.sce"
		   ]
		  },
  {
"cell_type": "code",
	   "execution_count": null,
	   "metadata": {
	    "collapsed": true
	   },
	   "outputs": [],
"source": [
"clc;\n",
"clear all;\n",
"Tc=0.3;//given tempareture in kelvin\n",
"thetad=300;\n",
"//part a\n",
"N0g=-1/(log(Tc/thetad));\n",
"disp(N0g,'the value of N0g is');\n",
"//part b\n",
"kB=1.38*1e-23;//boltzmann constant\n",
"Eg=3.5*kB*Tc;//energy\n",
"disp('J',Eg,'energy is=');\n",
""
   ]
   }
,
{
		   "cell_type": "markdown",
		   "metadata": {},
		   "source": [
			"## Example 12.3: example_3.sce"
		   ]
		  },
  {
"cell_type": "code",
	   "execution_count": null,
	   "metadata": {
	    "collapsed": true
	   },
	   "outputs": [],
"source": [
"clc;\n",
"clear all;\n",
"H0=0.0306;//given constant characteristic of lead material\n",
"Tc=3.7;//given tempareture in kelvin\n",
"T=2;//given tempareture in kelvin\n",
"x=(T/Tc)*(T/Tc);\n",
"Hc=H0*(1-x);//value of magnetic field at 2K temp\n",
"disp('T',Hc,'value of magnetic field at 2K temp=');"
   ]
   }
,
{
		   "cell_type": "markdown",
		   "metadata": {},
		   "source": [
			"## Example 12.4: example_4.sce"
		   ]
		  },
  {
"cell_type": "code",
	   "execution_count": null,
	   "metadata": {
	    "collapsed": true
	   },
	   "outputs": [],
"source": [
"clc;\n",
"clear all;\n",
"HcT=2*1e5/(4*%pi);//magnetic field intensity at T K\n",
"Hc0=3*1e5/(4*%pi);//magnetic field intensity at T=0K\n",
"Tc=3.69;//given temperature in K\n",
"T=sqrt(1-(HcT/Hc0))*Tc;//tempreture in K\n",
"disp('K',T,'temperature of superconducture is=');"
   ]
   }
,
{
		   "cell_type": "markdown",
		   "metadata": {},
		   "source": [
			"## Example 12.5: example_5.sce"
		   ]
		  },
  {
"cell_type": "code",
	   "execution_count": null,
	   "metadata": {
	    "collapsed": true
	   },
	   "outputs": [],
"source": [
"clc;\n",
"clear all;\n",
"H0=6.5*1e4;//given constant characteristic of lead material\n",
"Tc=7.18;//given temprature in kelvin\n",
"T=4.2;//given temprature in kelvin\n",
"//part a\n",
"x=(T/Tc)*(T/Tc);\n",
"Hc=H0*(1-x);//value of magnetic field at 4.2K temp\n",
"disp('A/M',Hc,'value of magnetic field at 4.2K temp=');\n",
"//part b\n",
"r=1e-3/2;//given radius\n",
"Ic=2*%pi*r*Hc;//critical current\n",
"disp('A',Ic,'critical current is=');"
   ]
   }
,
{
		   "cell_type": "markdown",
		   "metadata": {},
		   "source": [
			"## Example 12.6: example_6.sce"
		   ]
		  },
  {
"cell_type": "code",
	   "execution_count": null,
	   "metadata": {
	    "collapsed": true
	   },
	   "outputs": [],
"source": [
"clc;\n",
"clear all;\n",
"lemdaT=750;//given penetration depth at T=3.5K\n",
"Tc=4.22;//given critical tempreture\n",
"T=3.5;////given tempareture\n",
"//part a\n",
"x=(T/Tc)^4;//temporary variable\n",
"lemda0=lemdaT/sqrt(1-x);//penetration depth at T=0K\n",
"disp('Angstrome',lemda0,'penetration depth at T=0K is=');\n",
"//part b\n",
"N=6.02*1e26;//given\n",
"alpha=13.55*1e3;//given\n",
"M=200.6;//given\n",
"n0=N*alpha/M;\n",
"disp('/m^3',n0,'molecular density=');\n",
"ns=n0*(1-(T/Tc)^4);//superconducting electron density\n",
"disp('/m^3',ns,'superconducting electron density=');\n",
"//Result printed wrong in book"
   ]
   }
],
"metadata": {
		  "kernelspec": {
		   "display_name": "Scilab",
		   "language": "scilab",
		   "name": "scilab"
		  },
		  "language_info": {
		   "file_extension": ".sce",
		   "help_links": [
			{
			 "text": "MetaKernel Magics",
			 "url": "https://github.com/calysto/metakernel/blob/master/metakernel/magics/README.md"
			}
		   ],
		   "mimetype": "text/x-octave",
		   "name": "scilab",
		   "version": "0.7.1"
		  }
		 },
		 "nbformat": 4,
		 "nbformat_minor": 0
}
