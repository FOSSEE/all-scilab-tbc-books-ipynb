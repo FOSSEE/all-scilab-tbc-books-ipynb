{
"cells": [
 {
		   "cell_type": "markdown",
	   "metadata": {},
	   "source": [
       "# Chapter 8: Conducting Materials "
	   ]
	},
{
		   "cell_type": "markdown",
		   "metadata": {},
		   "source": [
			"## Example 8.1: example_1.sce"
		   ]
		  },
  {
"cell_type": "code",
	   "execution_count": null,
	   "metadata": {
	    "collapsed": true
	   },
	   "outputs": [],
"source": [
"clc;\n",
"clear all;\n",
"n = 5.8*1e28; // Electrons density in electrons per cube meter\n",
"rho = 1.58*1e-8; //Resistivity of wire in ohm meter\n",
"m = 9.1*1e-31; // Mass of electron \n",
"e = 1.6*1e-19; // Charge of electron in coloumb\n",
"E = 1e2; // Electric field\n",
"t = m/(rho*n*e^2);\n",
"u = (e*t)/m;\n",
"v = u*E; \n",
"disp('s',t,'The relaxation time is ');\n",
"disp('m^2/volt sec',u,'The mobility of electrons ');\n",
"disp('m/s',v,'The average drift velocity for an electric field of 1V/cm is ');\n",
"//slight variation in ans than book.. checked in calculator also"
   ]
   }
,
{
		   "cell_type": "markdown",
		   "metadata": {},
		   "source": [
			"## Example 8.2: example_2.sce"
		   ]
		  },
  {
"cell_type": "code",
	   "execution_count": null,
	   "metadata": {
	    "collapsed": true
	   },
	   "outputs": [],
"source": [
"clc;\n",
"clear all;\n",
"e = 1.6*1e-19; // Charge on electron in coulumb\n",
"m = 9.1*1e-31; // Mass of electron in kg \n",
"rho =  1.54*1e-8; //Resistivity of material at room temperature in ohm . meter\n",
"n = 5.8*1e28; // Number of electrons per cubic meter\n",
"Ef = 5.5; // The fermi energy of the conductor in eV\n",
"vf = sqrt((2*Ef*e)/m);\n",
"t = (m/(n*e^2*rho));\n",
"MFP = vf*t;\n",
"disp('m/s',vf,'Velocity of electron is');\n",
"disp('m',MFP,'Mean free path of electron is');"
   ]
   }
,
{
		   "cell_type": "markdown",
		   "metadata": {},
		   "source": [
			"## Example 8.3: example_3.sce"
		   ]
		  },
  {
"cell_type": "code",
	   "execution_count": null,
	   "metadata": {
	    "collapsed": true
	   },
	   "outputs": [],
"source": [
"clc;\n",
"clear all;\n",
"m = 9.1*1e-31; //Mass of electron in kg\n",
"e = 1.6*1e-19; // Charge on electron in coulumb\n",
"t = 3*1e-14; // Relaxation time in seconds\n",
"n = 5.8*1e28; //Number of electrons in cubic meter\n",
"rho =m/(n*t*e*e);//The resistivity of metal \n",
"u = 1/(n*e*rho);//The mobility of electron \n",
"disp('Ohm.meter',rho,'The resistivity of metal is');\n",
"disp('sqaure meter per volt.second',u,'The mobility of electron is'); \n",
"//slight variation in ans than book.. checked in calculator also(Mistake in textbook)"
   ]
   }
,
{
		   "cell_type": "markdown",
		   "metadata": {},
		   "source": [
			"## Example 8.4: example_4.sce"
		   ]
		  },
  {
"cell_type": "code",
	   "execution_count": null,
	   "metadata": {
	    "collapsed": true
	   },
	   "outputs": [],
"source": [
"clc;\n",
"clear all;\n",
"e = 1.6*1e-19; // Charge of electrons in coloumbs\n",
"m = 9.1*1e-31; // Mass of electrons in Kg\n",
"Ef = 7*e ; //Fermi energy in electrons volt\n",
"t = 3*1e-14; // Relaxation time in seconds\n",
"vf = sqrt(Ef*2/m);\n",
"lambda = vf*t;//The mean free path of electrons \n",
"disp('Meters',lambda,'The mean free path of electrons is');"
   ]
   }
,
{
		   "cell_type": "markdown",
		   "metadata": {},
		   "source": [
			"## Example 8.5: example_5.sce"
		   ]
		  },
  {
"cell_type": "code",
	   "execution_count": null,
	   "metadata": {
	    "collapsed": true
	   },
	   "outputs": [],
"source": [
"clc;\n",
"clear all;\n",
"rhoC = 1.65*1e-8; // Electrical resistivity of cpooer in ohm meter\n",
"rhoN = 14*1e-8; // Electrical resistivity of Nickel in ohm meter\n",
"T = 300; // Room temperature in kelvin\n",
"KCu =(2.45*1e-8*T)/rhoC;//Thermal conductivity of Cu\n",
"KNi =2.45*1e-8*T/rhoN;//Thermal conductivity of Ni\n",
"disp('W/(m*degree)',KCu,'Thermal conductivity of Cu is ');\n",
"disp('W/(m*degree)',KNi,'Thermal conductivity of Ni is ');\n",
"//slight variation in ans than book.. checked in calculator also(Mistake in Textbbok)"
   ]
   }
],
"metadata": {
		  "kernelspec": {
		   "display_name": "Scilab",
		   "language": "scilab",
		   "name": "scilab"
		  },
		  "language_info": {
		   "file_extension": ".sce",
		   "help_links": [
			{
			 "text": "MetaKernel Magics",
			 "url": "https://github.com/calysto/metakernel/blob/master/metakernel/magics/README.md"
			}
		   ],
		   "mimetype": "text/x-octave",
		   "name": "scilab",
		   "version": "0.7.1"
		  }
		 },
		 "nbformat": 4,
		 "nbformat_minor": 0
}
