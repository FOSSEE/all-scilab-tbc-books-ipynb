{
"cells": [
 {
		   "cell_type": "markdown",
	   "metadata": {},
	   "source": [
       "# Chapter 9: Quantum Physics"
	   ]
	},
{
		   "cell_type": "markdown",
		   "metadata": {},
		   "source": [
			"## Example 9.10: example_10.sce"
		   ]
		  },
  {
"cell_type": "code",
	   "execution_count": null,
	   "metadata": {
	    "collapsed": true
	   },
	   "outputs": [],
"source": [
"clc;\n",
"clear all;\n",
"lemda=0.022*1e-10;//wavelength in meters\n",
"th=45;//angle in degree\n",
"m=9.1*1e-31;\n",
"c=3*1e8;//velocity of light in free space\n",
"h=6.62*1e-34;//plank's constant\n",
"x=cos(th);\n",
"disp(x);\n",
"dlemda=h*(1-cos(th))/(m*c);//delta lemda \n",
"disp('m',dlemda,'delta lemda is=');\n",
"//lemda-lemda1=dlemda s0.. lemda1=lemda-dlemda\n",
"lemda1=lemda-dlemda;//wavelength of incident X-rays\n",
"disp('m',lemda1,'wavelength of incident X-rays');\n",
"//there is variation in the answer than book.. checked in calculator too..(mistake of book)"
   ]
   }
,
{
		   "cell_type": "markdown",
		   "metadata": {},
		   "source": [
			"## Example 9.11: example_11.sce"
		   ]
		  },
  {
"cell_type": "code",
	   "execution_count": null,
	   "metadata": {
	    "collapsed": true
	   },
	   "outputs": [],
"source": [
"clc;\n",
"clear all;\n",
"a = 1e-10 // Width of box in meter\n",
"m = 9.1e-31; // Mass of electron in kg\n",
"h = 6.62e-34; // Planck's constant in Js\n",
"c = 3e8; // Velocity of light in vaccum\n",
"n = 1; // Single electron\n",
"E = (n^2 * h^2)/(8*m*a^2*1.6e-19);\n",
"disp('eV',E,'Energy of electron n^2*');"
   ]
   }
,
{
		   "cell_type": "markdown",
		   "metadata": {},
		   "source": [
			"## Example 9.12: example_12.sce"
		   ]
		  },
  {
"cell_type": "code",
	   "execution_count": null,
	   "metadata": {
	    "collapsed": true
	   },
	   "outputs": [],
"source": [
"clc;\n",
"clear all;\n",
"a = 1e-10 // Width of box in meter\n",
"m = 9.1e-31; // Mass of electron in kg\n",
"h = 6.62e-34; // Planck's constant in Js\n",
"c = 3e8; // Velocity of light in vaccum\n",
"n = 1; // Single electron\n",
"E = (h^2)/(8*m*a^2);//Energy of in lower level\n",
"p = h/(2*a);//Momentum \n",
"disp('J',E,'Energy of in lower level');\n",
"disp('(kg.m)/s',p,'Momentum is ');"
   ]
   }
,
{
		   "cell_type": "markdown",
		   "metadata": {},
		   "source": [
			"## Example 9.13: example_13.sce"
		   ]
		  },
  {
"cell_type": "code",
	   "execution_count": null,
	   "metadata": {
	    "collapsed": true
	   },
	   "outputs": [],
"source": [
"clc;\n",
"clear all;\n",
"a = 0.2e-9 // Width of box in meter\n",
"m = 9.1e-31; // Mass of electron in kg\n",
"h = 6.62e-34; // Planck's constant in Js\n",
"c = 3e8; // Velocity of light in vaccum\n",
"E5 = 230*1.6e-19 //  Energy of a particle in Volts in 5th antinode\n",
"n = 5;\n",
"E1 = E5/(n^2);\n",
"m = (h^2)/(8*E1*a^2);//Mass of electron \n",
"disp('kg',m,'Mass of electron is ');"
   ]
   }
,
{
		   "cell_type": "markdown",
		   "metadata": {},
		   "source": [
			"## Example 9.14: example_14.sce"
		   ]
		  },
  {
"cell_type": "code",
	   "execution_count": null,
	   "metadata": {
	    "collapsed": true
	   },
	   "outputs": [],
"source": [
"clc;\n",
"clear all;\n",
"n = 1; // Single particle\n",
"a = 50e-10; // Width of box in meter\n",
"deltax = 10e-10; // Intervel between particle\n",
"p = (2/a)*deltax;//The probability of finding the particle\n",
"disp('',p,'The probability of finding the particle is ');"
   ]
   }
,
{
		   "cell_type": "markdown",
		   "metadata": {},
		   "source": [
			"## Example 9.15: example_15.sce"
		   ]
		  },
  {
"cell_type": "code",
	   "execution_count": null,
	   "metadata": {
	    "collapsed": true
	   },
	   "outputs": [],
"source": [
"clc;\n",
"clear all;\n",
"h = 6.62*1e-34; // Planck's constant\n",
"m = 1e-9; // Mass of particle in kg\n",
"t = 100; //Time reqired by the particle to cross 1 mm distance\n",
"a = 1e-3 ; // Width of box in m\n",
"v = 1e-5; // Velocity of particle in m/s\n",
"E = (0.5*m*v^2);\n",
"n = sqrt(8*m*a^2*E/(h^2));//The quantum state\n",
"disp('',n,'The quantum state is ');"
   ]
   }
,
{
		   "cell_type": "markdown",
		   "metadata": {},
		   "source": [
			"## Example 9.16: example_16.sce"
		   ]
		  },
  {
"cell_type": "code",
	   "execution_count": null,
	   "metadata": {
	    "collapsed": true
	   },
	   "outputs": [],
"source": [
"clc;\n",
"clear all;\n",
"h = 6.62e-34; // Planck's constant in J.s\n",
"m = 9.1e-31 // Mass of electron in kg\n",
"nk =1;\n",
"nl = 1;\n",
"nm = 1;\n",
"a = 0.5e-10 // Width of cubical box in meter\n",
"E = (h^2*(nk^2+nl^2+nm^2))/(8*m*a^2*1.6e-19);//The lowest energy level will have energy\n",
"disp('eV',E,'The lowest energy level will have energy ');"
   ]
   }
,
{
		   "cell_type": "markdown",
		   "metadata": {},
		   "source": [
			"## Example 9.1: example_1.sce"
		   ]
		  },
  {
"cell_type": "code",
	   "execution_count": null,
	   "metadata": {
	    "collapsed": true
	   },
	   "outputs": [],
"source": [
"clc;\n",
"clear all;\n",
"e = 1.6e-19; // Charge of electron in Coloumb\n",
"lambda = 2e-10; // Wavelength of a photon in meters\n",
"h = 6.62e-34; // Planc's constant in Joule second\n",
"c = 3e8; // Velocity og light in air in meter per second\n",
"E = (h*c)/(lambda*e);//Thermal conductivity of Ni\n",
"p = h/lambda;//The momentum of photon \n",
"disp('eV',E,'The energy of photon is ');\n",
"disp('(kg.m)/s',p,'The momentum of photon is ');"
   ]
   }
,
{
		   "cell_type": "markdown",
		   "metadata": {},
		   "source": [
			"## Example 9.2: example_2.sce"
		   ]
		  },
  {
"cell_type": "code",
	   "execution_count": null,
	   "metadata": {
	    "collapsed": true
	   },
	   "outputs": [],
"source": [
"clc;\n",
"clear all;\n",
"h = 6.62e-34; // Planck's constant J.s\n",
"v = 440e3; // Operating frequency of radio in Hertz\n",
"P = 20e3 ; // Power of radio transmitter in Watts\n",
"n = P/(h*v);// Let n be the number of photons emitted per second\n",
"disp('',n,'Number of photon emitted per second is ');"
   ]
   }
,
{
		   "cell_type": "markdown",
		   "metadata": {},
		   "source": [
			"## Example 9.3: example_3.sce"
		   ]
		  },
  {
"cell_type": "code",
	   "execution_count": null,
	   "metadata": {
	    "collapsed": true
	   },
	   "outputs": [],
"source": [
"clc;\n",
"clear all;\n",
"h = 6.62e-34; // Planck's constant in J.s\n",
"c = 3e8; // Velocity of ligth in air\n",
"t = 18000; // Time of glow - (5*3600) in seconds\n",
"P = 30 //Power in watts\n",
"lambda = 5893e-10; // Wavelength of emitted ligth in meters\n",
"E = (h*c)/lambda; // Energy of a photon\n",
"n = (P*t)/E; // let n be the number of photons emitted in 5 hours\n",
"disp('',n,'Number of photons emitted in 5 hours is');"
   ]
   }
,
{
		   "cell_type": "markdown",
		   "metadata": {},
		   "source": [
			"## Example 9.4: example_4.sce"
		   ]
		  },
  {
"cell_type": "code",
	   "execution_count": null,
	   "metadata": {
	    "collapsed": true
	   },
	   "outputs": [],
"source": [
"clc;\n",
"clear all;\n",
"h = 6.62*1e-34; // Plancl's constant in J.s\n",
"c = 3*1e8; // Velocity of light in vacccum in m/s \n",
"m = 9.1*1e-31; // Mass of electron in Kg\n",
"lambda = 0.7078*1e-10 // Wavelength in meter\n",
"theta = 90;\n",
"delta = (h*(1-cosd(theta))/(m*c));\n",
"Nlambda = lambda + delta;\n",
"disp('meter',Nlambda,'The wavelength of scattered X-rays is ');"
   ]
   }
,
{
		   "cell_type": "markdown",
		   "metadata": {},
		   "source": [
			"## Example 9.5: example_5.sce"
		   ]
		  },
  {
"cell_type": "code",
	   "execution_count": null,
	   "metadata": {
	    "collapsed": true
	   },
	   "outputs": [],
"source": [
"clc;\n",
"clear all;\n",
"m = 9.1e-31; // Mass of electron in kg\n",
"h = 6.62e-34; // Planck's constant in J.s\n",
"c = 3e8; // Velocity of light in vaccum\n",
"lambda = 1.8e18; // Frequency of the incident rays\n",
"theta = 180;//angle in degree\n",
"lambda = c/lambda;\n",
"delta = (h*(1-cosd(theta)))/(m*c);\n",
"Nlambda = lambda+delta;//'Wavelength of scattered X-rays\n",
"disp('meter',Nlambda,'Wavelength of scattered X-rays is ');"
   ]
   }
,
{
		   "cell_type": "markdown",
		   "metadata": {},
		   "source": [
			"## Example 9.6: example_6.sce"
		   ]
		  },
  {
"cell_type": "code",
	   "execution_count": null,
	   "metadata": {
	    "collapsed": true
	   },
	   "outputs": [],
"source": [
"clc;\n",
"clear all;\n",
"m = 9.1e-31; // Mass of electron in kg\n",
"h = 6.62e-34; // Planck's constant in Js\n",
"c = 3e8; // Velocity of light in vaccum\n",
"lambda = 1.12e-10; // Wavelength of light in meters\n",
"theta = 90;\n",
"delta = (h*(1-cosd(theta)))/(m*c);\n",
"Nlambda = lambda + delta;//The wavelength of scattered X-rays \n",
"E = (h*c)*((1/lambda)-(1/Nlambda)) ;//Energy of electron\n",
"disp('meters',Nlambda,'The wavelength of scattered X-rays is');\n",
"disp('J',E,'Energy of electron is ');\n",
" "
   ]
   }
,
{
		   "cell_type": "markdown",
		   "metadata": {},
		   "source": [
			"## Example 9.7: example_7.sce"
		   ]
		  },
  {
"cell_type": "code",
	   "execution_count": null,
	   "metadata": {
	    "collapsed": true
	   },
	   "outputs": [],
"source": [
"clc;\n",
"clear all;\n",
"m = 9.1e-31; // Mass of electron in kg\n",
"h = 6.62e-34; // Planck's constant in Js\n",
"c = 3e8; // Velocity of light in vaccum\n",
"lambda = 0.03e-10; // Wavelength of light in meters\n",
"theta = 60;//angle in degree\n",
"delta = (h*(1-cosd(theta)))/(m*c);\n",
"Nlambda = lambda + delta;\n",
"E = ((h*c)*((1/lambda)-(1/Nlambda)))/1.6e-19 ;//Energy of recoiling electron\n",
"disp('eV',E,'Energy of recoiling electron is ');"
   ]
   }
,
{
		   "cell_type": "markdown",
		   "metadata": {},
		   "source": [
			"## Example 9.8: example_8.sce"
		   ]
		  },
  {
"cell_type": "code",
	   "execution_count": null,
	   "metadata": {
	    "collapsed": true
	   },
	   "outputs": [],
"source": [
"clc;\n",
"clear all;\n",
"m = 9.1e-31; // Mass of electron in kg\n",
"h = 6.62e-34; // Planck's constant in Js\n",
"c = 3e8; // Velocity of light in vaccum\n",
"lambda = 0.5e-10; // Wavelength of light in meters\n",
"theta = 90;\n",
"delta = (h*(1-cosd(theta)))/(m*c);\n",
"Nlambda = lambda + delta;\n",
"E = (h*c)*((1/lambda)-(1/Nlambda)) ;\n",
"disp('J',E,'Energy of electron is ');"
   ]
   }
,
{
		   "cell_type": "markdown",
		   "metadata": {},
		   "source": [
			"## Example 9.9: example_9.sce"
		   ]
		  },
  {
"cell_type": "code",
	   "execution_count": null,
	   "metadata": {
	    "collapsed": true
	   },
	   "outputs": [],
"source": [
"clc;\n",
"clear all;\n",
"m = 9.1e-31; // Mass of electron in kg\n",
"h = 6.62e-34; // Planck's constant in Js\n",
"c = 3e8; // Velocity of light in vaccum\n",
"lambda = 1.5e-10; // Wavelength of light in meters\n",
"E = 0.5e-16; // Energy of electron in J \n",
"Nlambda = ((h*c)/lambda)-E;//'Energy of scattered electron\n",
"disp('J',Nlambda,'Energy of scattered electron is ');"
   ]
   }
],
"metadata": {
		  "kernelspec": {
		   "display_name": "Scilab",
		   "language": "scilab",
		   "name": "scilab"
		  },
		  "language_info": {
		   "file_extension": ".sce",
		   "help_links": [
			{
			 "text": "MetaKernel Magics",
			 "url": "https://github.com/calysto/metakernel/blob/master/metakernel/magics/README.md"
			}
		   ],
		   "mimetype": "text/x-octave",
		   "name": "scilab",
		   "version": "0.7.1"
		  }
		 },
		 "nbformat": 4,
		 "nbformat_minor": 0
}
