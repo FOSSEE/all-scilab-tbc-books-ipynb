{
"cells": [
 {
		   "cell_type": "markdown",
	   "metadata": {},
	   "source": [
       "# Chapter 7: Optical Fiber Communication"
	   ]
	},
{
		   "cell_type": "markdown",
		   "metadata": {},
		   "source": [
			"## Example 7.1: example_1.sce"
		   ]
		  },
  {
"cell_type": "code",
	   "execution_count": null,
	   "metadata": {
	    "collapsed": true
	   },
	   "outputs": [],
"source": [
"clc;\n",
"clear all;\n",
"NA = 0.24;//Numerical Aperture\n",
"delta = 0.014;\n",
"n1 = (NA)/sqrt(2*delta);//Refractive index of first medium \n",
"disp('',n1,'Refractive index of first medium is ');\n",
"n2 = n1 - (delta*n1);//Refractive index of secong material\n",
"disp('',n2,'Refractive index of secong material is ');"
   ]
   }
,
{
		   "cell_type": "markdown",
		   "metadata": {},
		   "source": [
			"## Example 7.2: example_2.sce"
		   ]
		  },
  {
"cell_type": "code",
	   "execution_count": null,
	   "metadata": {
	    "collapsed": true
	   },
	   "outputs": [],
"source": [
"clc;\n",
"clear all;\n",
"n1 = 1.49; // Refractive index of first medium\n",
"n2 = 1.44; // Refractive index of second medium\n",
"delta = (n1-n2)/n1; // Index difference\n",
"NA = n1* sqrt(2*delta);\n",
"disp('',NA,'Numerical Aperture of fiber is');\n",
"thetaa = asind(NA);\n",
"disp('degree',thetaa,'Acceptance angle is ');"
   ]
   }
,
{
		   "cell_type": "markdown",
		   "metadata": {},
		   "source": [
			"## Example 7.3: example_3.sce"
		   ]
		  },
  {
"cell_type": "code",
	   "execution_count": null,
	   "metadata": {
	    "collapsed": true
	   },
	   "outputs": [],
"source": [
"clc;\n",
"clear all;\n",
"NA = 0.15 ; // Numerical Aperture of fiber\n",
"n2 = 1.55; // Refractive index of cladding\n",
"n0w = 1.33; // Refractive index of water\n",
"n0a = 1; // Refractive index of air\n",
"n1 = sqrt(NA^2 + n2^2);\n",
"NAW = (sqrt(n1^2 -n2^2))/n0w;\n",
"thetaa = asind(NAW);//Acceptance angle in water\n",
"disp('degree',thetaa,'Acceptance angle in water is '); "
   ]
   }
,
{
		   "cell_type": "markdown",
		   "metadata": {},
		   "source": [
			"## Example 7.4: example_4.sce"
		   ]
		  },
  {
"cell_type": "code",
	   "execution_count": null,
	   "metadata": {
	    "collapsed": true
	   },
	   "outputs": [],
"source": [
"clc;\n",
"clear all;\n",
"l = 16; // Length of optical fiber in Km\n",
"Pi = 240e-6; // Mean optical length launched in optical fiber in Watts\n",
"Po = 6e-6; // Mean optical power at the output in watts\n",
"alpha = 10*log10(Pi/Po);//Signal attenuation in fiber\n",
"disp('dB',alpha,'Signal attenuation in fiber')\n",
"alpha1 = alpha/l;//Signal attenuation per km of the fiber\n",
"disp('dB/km',alpha1,'Signal attenuation per km of the fiber');"
   ]
   }
,
{
		   "cell_type": "markdown",
		   "metadata": {},
		   "source": [
			"## Example 7.5: example_7.sce"
		   ]
		  },
  {
"cell_type": "code",
	   "execution_count": null,
	   "metadata": {
	    "collapsed": true
	   },
	   "outputs": [],
"source": [
"clc;\n",
"clear all;\n",
"Tf = 1400; // Fictive temperature of silicon in Kelvin\n",
"betai = 7e-11; // Isothermal compressibility square meter per newton\n",
"n = 1.46; // Refractive index of silicon\n",
"p = 0.286; // Photoelastic constant of silicon\n",
"lambda = 0.63e-6 // Wavelength in micrometer\n",
"kb = 1.38e-23 // Boltzmann constant in joule per kelvin\n",
"L = 1e3;\n",
"alphas = (8 * %pi^3 * n^8 * p^2 * kb * Tf * betai)/(3 * lambda^4);//Rayleigh scattering coefficient\n",
"alphars = exp(-alphas * L);//Loss factor\n",
"disp('meter^-1',alphas,'Rayleigh scattering coefficient is ');\n",
"disp('',alphars,'Loss factor is');"
   ]
   }
,
{
		   "cell_type": "markdown",
		   "metadata": {},
		   "source": [
			"## Example 7.6: example_6.sce"
		   ]
		  },
  {
"cell_type": "code",
	   "execution_count": null,
	   "metadata": {
	    "collapsed": true
	   },
	   "outputs": [],
"source": [
"clc;\n",
"clear all;\n",
"alpha = 0.5; // Attenuation of single mode optical fibre in dB per km\n",
"lambda = 1.4; // Operating wavelength of optical fiber in micrometer\n",
"d = 8 // Diameter of fiber in micrometer\n",
"y = 0.6; // Laser source frequency width\n",
"pb = 4.4e-3 * d^2 * lambda^2 * alpha * y;//Threshold optical power in SBS\n",
"prs = 5.9e-2 * d^2 * lambda * alpha;//Threshold optical power in SRS\n",
"disp('W',pb,'Threshold optical power in SBS');\n",
"disp('W',prs,'Threshold optical power in SRS');"
   ]
   }
,
{
		   "cell_type": "markdown",
		   "metadata": {},
		   "source": [
			"## Example 7.7: example_7.sce"
		   ]
		  },
  {
"cell_type": "code",
	   "execution_count": null,
	   "metadata": {
	    "collapsed": true
	   },
	   "outputs": [],
"source": [
"clc;\n",
"clear all;\n",
"n1 = 1.50; // Refreactive index of forst medium\n",
"delta = 0.003; // Index difference\n",
"lambda = 1.6*1e-6; // Operating wavelength of fober in meter\n",
"x=2*delta*n1*n1\n",
"n2 = sqrt(n1^2-x);//refractive index of cladding\n",
"disp(n2,'refractive index of cladding');\n",
"rc = (3*n1^2*lambda)/(4*%pi*sqrt(n1^2 - n2^2)^3);//The critical radius of curvature for which bending losses occur \n",
"disp('meter',rc,'The critical radius of curvature for which bending losses occur is ');\n",
"//there is variation in answer than book .. book's answer is wright but in scilab it is not coming..(scilab mistake)"
   ]
   }
],
"metadata": {
		  "kernelspec": {
		   "display_name": "Scilab",
		   "language": "scilab",
		   "name": "scilab"
		  },
		  "language_info": {
		   "file_extension": ".sce",
		   "help_links": [
			{
			 "text": "MetaKernel Magics",
			 "url": "https://github.com/calysto/metakernel/blob/master/metakernel/magics/README.md"
			}
		   ],
		   "mimetype": "text/x-octave",
		   "name": "scilab",
		   "version": "0.7.1"
		  }
		 },
		 "nbformat": 4,
		 "nbformat_minor": 0
}
