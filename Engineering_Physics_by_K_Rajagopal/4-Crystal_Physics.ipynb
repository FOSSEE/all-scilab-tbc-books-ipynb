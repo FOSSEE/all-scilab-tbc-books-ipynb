{
"cells": [
 {
		   "cell_type": "markdown",
	   "metadata": {},
	   "source": [
       "# Chapter 4: Crystal Physics"
	   ]
	},
{
		   "cell_type": "markdown",
		   "metadata": {},
		   "source": [
			"## Example 4.10: example_10.sce"
		   ]
		  },
  {
"cell_type": "code",
	   "execution_count": null,
	   "metadata": {
	    "collapsed": true
	   },
	   "outputs": [],
"source": [
"clc;\n",
"//let three intercepts are I1,I2,I3\n",
"I1=0.96;\n",
"I2=0.64;\n",
"I3=0.48;\n",
"//as they are ratios we will multiply by some some constants so that  it will become integers\n",
"I1=6;\n",
"I2=4;\n",
"I3=3 ;\n",
"//let their reciprocals are I1_1,I2_1,I3_1\n",
"I1_1=1/I1;\n",
"I2_1=1/I2;\n",
"I3_1=1/I3;\n",
"//LCM of I1_1,I2_1,I3_1 are 12. \n",
"//By multiply LCM with I1_!,I2_1,I3_1 we will get miller indices\n",
"LCM=12;\n",
"M_1=LCM*I1_1;\n",
"M_2=LCM*I2_1 ;\n",
"M_3=LCM*I3_1;\n",
"disp(M_1,'Miller indices of plane =');\n",
"disp(M_2);\n",
"disp(M_3);"
   ]
   }
,
{
		   "cell_type": "markdown",
		   "metadata": {},
		   "source": [
			"## Example 4.1: example_1.sce"
		   ]
		  },
  {
"cell_type": "code",
	   "execution_count": null,
	   "metadata": {
	    "collapsed": true
	   },
	   "outputs": [],
"source": [
"clc;\n",
"clear all;\n",
"r=1.278*1e-8 ;//atomic radius in cm\n",
"M=63.5; //atomic weight\n",
"N=6.023*1e23; //avogadro number\n",
"n=4//for fcc n=4\n",
"a=4*r/(sqrt(2));\n",
"density=n*M/(N*a^3);//Density of copper\n",
"disp(+'g/cc',density,'Density of copper =')"
   ]
   }
,
{
		   "cell_type": "markdown",
		   "metadata": {},
		   "source": [
			"## Example 4.2: example_2.sce"
		   ]
		  },
  {
"cell_type": "code",
	   "execution_count": null,
	   "metadata": {
	    "collapsed": true
	   },
	   "outputs": [],
"source": [
"clc;\n",
"M=58.45;//atomic mass\n",
"N=6.02*1e23;//avogadro number\n",
"density=2.17*1e3 ; //in kg/m^3\n",
"n=4 //Nacl is FCC\n",
"a=(n*M/(N*density))^(1/3);//lattice constant\n",
"disp(+'m',a,'lattice constant = ');\n",
"//slight variation in ans than book.. checked in calculator also"
   ]
   }
,
{
		   "cell_type": "markdown",
		   "metadata": {},
		   "source": [
			"## Example 4.3: example_3.sce"
		   ]
		  },
  {
"cell_type": "code",
	   "execution_count": null,
	   "metadata": {
	    "collapsed": true
	   },
	   "outputs": [],
"source": [
"clc;\n",
"//let three intercepts are I1,I2,I3\n",
"I1=3;\n",
"I2=-2;\n",
"I3=3/2;\n",
"//let their reciprocals are I1_1,I2_1,I3_1\n",
"I1_1=1/I1;\n",
"I2_1=1/I2;\n",
"I3_1=1/I3;\n",
"//LCM of I1_1,I2_1,I3_1 are 6 . \n",
"//By multiply LCM with I1_!,I2_1,I3_1 we will get miller indices\n",
"LCM=6;\n",
"M_1=LCM*I1_1;\n",
"M_2=LCM*I2_1 ;\n",
"M_3=LCM*I3_1;\n",
"disp(M_1,'Miller indices of plane =');\n",
"disp(M_2);\n",
"disp(M_3);"
   ]
   }
,
{
		   "cell_type": "markdown",
		   "metadata": {},
		   "source": [
			"## Example 4.4: example_4.sce"
		   ]
		  },
  {
"cell_type": "code",
	   "execution_count": null,
	   "metadata": {
	    "collapsed": true
	   },
	   "outputs": [],
"source": [
"clc;\n",
"r=1.246 //in A\n",
"a=4*r/sqrt(2)\n",
"d_200=3.52/sqrt(4+0+0)\n",
"disp(+'m',d_200*1e-10,'d200 = ')\n",
"d_220=3.52/sqrt(4+4)\n",
"disp(+'m',d_220*1e-10,'d220 = ')\n",
"d_111=3.52/sqrt(1+1+1)\n",
"disp(+'m',d_111*1e-10,'d111 = ')"
   ]
   }
,
{
		   "cell_type": "markdown",
		   "metadata": {},
		   "source": [
			"## Example 4.5: example_5.sce"
		   ]
		  },
  {
"cell_type": "code",
	   "execution_count": null,
	   "metadata": {
	    "collapsed": true
	   },
	   "outputs": [],
"source": [
"clc;\n",
"h=1\n",
"k=1\n",
"l=1\n",
"h1=1\n",
"k1=1\n",
"l1=1\n",
"a=((h*h1)-(k*k1)+(l*l1))/(sqrt((h*h)+(k*k)+(l*l))*sqrt((h1*h1)+(k1*k1)+(l1*l1)));\n",
"//cosine angle=a so angle=cosine inverse of a\n",
"thita=acosd(a);//angle between two planes\n",
"disp(+'degree',thita,'angle between two planes =')"
   ]
   }
,
{
		   "cell_type": "markdown",
		   "metadata": {},
		   "source": [
			"## Example 4.6: example_6.sce"
		   ]
		  },
  {
"cell_type": "code",
	   "execution_count": null,
	   "metadata": {
	    "collapsed": true
	   },
	   "outputs": [],
"source": [
"clc;\n",
"a=2.9*1e-8; //in cm\n",
"M=55.85;//atomic mass\n",
"density=7.87 //in g/cc\n",
"N=6.023*1e23;\n",
"n=(a^3*N*density)/M;//Number of atoms per unit cell\n",
"disp(n,'Number of atoms per unit cell =');\n",
"//slight variation in ans than book.. checked in calculator also"
   ]
   }
,
{
		   "cell_type": "markdown",
		   "metadata": {},
		   "source": [
			"## Example 4.7: example_7.sce"
		   ]
		  },
  {
"cell_type": "code",
	   "execution_count": null,
	   "metadata": {
	    "collapsed": true
	   },
	   "outputs": [],
"source": [
"clc;\n",
"M=55.85;//atomic mass\n",
"d=7.86 //density of iron in g/cc\n",
"N=6.023*1e23\n",
"n=2//BCC structure\n",
"a=((n*M)/(N*d))^(1/3);\n",
"r=(sqrt(3)*a)/4;//radius of iron atom \n",
"disp(+'cm',r,'radius of iron atom =')"
   ]
   }
,
{
		   "cell_type": "markdown",
		   "metadata": {},
		   "source": [
			"## Example 4.8: example_8.sce"
		   ]
		  },
  {
"cell_type": "code",
	   "execution_count": null,
	   "metadata": {
	    "collapsed": true
	   },
	   "outputs": [],
"source": [
"clc;\n",
"M=207.21;//atomic mass\n",
"d=11.34*1e3 //in kg/m^3\n",
"N=6.023*1e26 //in kg/m^3\n",
"n=4;//for FCC\n",
"a=((n*M)/(N*d))^(1/3);//lattice constant\n",
"r=(sqrt(2)*a)/4;//Atomic radius\n",
"disp(+'m',a,'lattice constant =');\n",
"disp(+'m',r,'Atomic radius =');"
   ]
   }
,
{
		   "cell_type": "markdown",
		   "metadata": {},
		   "source": [
			"## Example 4.9: example_9.sce"
		   ]
		  },
  {
"cell_type": "code",
	   "execution_count": null,
	   "metadata": {
	    "collapsed": true
	   },
	   "outputs": [],
"source": [
"clc;\n",
"n=1;\n",
"thita=30;//angle in degree\n",
"lamda=1.75; //in A\n",
"h=1;\n",
"k=1;\n",
"l=1;\n",
"//d111=a/sqrt((h*h)+(k*k)+(l*l))\n",
"//2dsin(thita)=n*lamda\n",
"d=n*lamda/(2*sind(thita));\n",
"a=sqrt(3)*d;//lattice constant \n",
"disp(+'meters',a*1e-10,'lattice constant =')"
   ]
   }
],
"metadata": {
		  "kernelspec": {
		   "display_name": "Scilab",
		   "language": "scilab",
		   "name": "scilab"
		  },
		  "language_info": {
		   "file_extension": ".sce",
		   "help_links": [
			{
			 "text": "MetaKernel Magics",
			 "url": "https://github.com/calysto/metakernel/blob/master/metakernel/magics/README.md"
			}
		   ],
		   "mimetype": "text/x-octave",
		   "name": "scilab",
		   "version": "0.7.1"
		  }
		 },
		 "nbformat": 4,
		 "nbformat_minor": 0
}
