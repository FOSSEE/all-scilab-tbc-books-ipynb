{
"cells": [
 {
		   "cell_type": "markdown",
	   "metadata": {},
	   "source": [
       "# Chapter 13: Propagation Path Loss and Propagation Models"
	   ]
	},
{
		   "cell_type": "markdown",
		   "metadata": {},
		   "source": [
			"## Example 13.1: Level_Crossing_Rate.sci"
		   ]
		  },
  {
"cell_type": "code",
	   "execution_count": null,
	   "metadata": {
	    "collapsed": true
	   },
	   "outputs": [],
"source": [
"//Determine level-crossing rate, avg. duration of fade for a cellular system and a vehicle speed.\n",
"\n",
"f = 900e+6;\n",
"c = 3e+8;\n",
"v = 6.67;\n",
"rho = 0.3162;\n",
"\n",
"lambda = c/f;\n",
"fm = v/lambda;\n",
" \n",
"n0 = sqrt(2*%pi)*fm;\n",
"Tr = (1.105-1)/(n0*rho);\n",
"Tr1 = (1/(3*v)) * (rho/sqrt(2*%pi));\n",
"\n",
"disp(n0, 'Level-crossing rate')\n",
"disp(Tr, 'Avg. duration of fade (in s)')\n",
"disp(Tr1, 'Avg. duration of fade, using appx. exp. (in s)')"
   ]
   }
,
{
		   "cell_type": "markdown",
		   "metadata": {},
		   "source": [
			"## Example 13.2: Received_Power.sci"
		   ]
		  },
  {
"cell_type": "code",
	   "execution_count": null,
	   "metadata": {
	    "collapsed": true
	   },
	   "outputs": [],
"source": [
"//Determine received signal power at MS receiver and SNR of received signal\n",
"\n",
"lamda = 0.2;\n",
"d = 8000;\n",
"Gt = 8;\n",
"L0 = 8;\n",
"T0 = 1.38e-23;\n",
"Bw = 0.2e+6;\n",
"T = 1160+290;\n",
"\n",
"\n",
"Lp = -20*log10(lamda/(4*%pi*d));\n",
"Pr = Lp + Gt - L0;\n",
"Pn1 = T0*T*Bw;\n",
"Pn = 10*log10(Pn1);\n",
"\n",
"SNR = -Pr-Pn;\n",
"\n",
"disp(-Pr, 'Recieved Signal power (in dBW)')\n",
"disp(SNR, 'SNR of received signal (in dB)')"
   ]
   }
,
{
		   "cell_type": "markdown",
		   "metadata": {},
		   "source": [
			"## Example 13.3: SNR.sci"
		   ]
		  },
  {
"cell_type": "code",
	   "execution_count": null,
	   "metadata": {
	    "collapsed": true
	   },
	   "outputs": [],
"source": [
"//Determine received signal power at MS receiver and SNR of received signal\n",
"\n",
"lamda = 30*3;\n",
"d = 8000;\n",
"Gt = 8;\n",
"L0 = 8;\n",
"T0 = 1.38e-23;\n",
"Bw = 0.2e+6;\n",
"T = 1160+290;\n",
"\n",
"\n",
"Lp = -20*log10(lamda/(d^2));\n",
"Pr = Lp + Gt - L0;\n",
"Pn1 = T0*T*Bw;\n",
"Pn = 10*log10(Pn1);\n",
"\n",
"SNR = -Pr-Pn;\n",
"\n",
"disp(-Pr, 'Recieved Signal power (in dBW)')\n",
"disp(SNR, 'SNR of received signal (in dB)')"
   ]
   }
,
{
		   "cell_type": "markdown",
		   "metadata": {},
		   "source": [
			"## Example 13.4: Signal_Sensitivity.sci"
		   ]
		  },
  {
"cell_type": "code",
	   "execution_count": null,
	   "metadata": {
	    "collapsed": true
	   },
	   "outputs": [],
"source": [
"//Determine the probability that the signal exceeds the receiver senstivity\n",
"\n",
"Smin = 100;\n",
"Pr = -110;\n",
"\n",
"Ps =  0.5 - 0.5*((Pr + Smin)/(10*1.414));\n",
"\n",
"disp(Ps, 'Probability that the signal exceeds the receiver senstivity is')"
   ]
   }
,
{
		   "cell_type": "markdown",
		   "metadata": {},
		   "source": [
			"## Example 13.5: Mean_Path_Loss.sci"
		   ]
		  },
  {
"cell_type": "code",
	   "execution_count": null,
	   "metadata": {
	    "collapsed": true
	   },
	   "outputs": [],
"source": [
"//Determine mean path loss by two models\n",
"\n",
"Lr = 31.7;\n",
"gamma1 = 5.22;\n",
"gamma2 = 3.27;\n",
"R = 30;\n",
"R0 = 1;\n",
"FAF = 24.4;\n",
"\n",
"\n",
"Ls1 = Lr + 10*gamma1*log10(R/R0) ;\n",
"Ls2 = Lr + 10*gamma1*log10(R/R0) + FAF ;\n",
"\n",
"disp(Ls1, 'Mean path loss by 1st model (in dB)')\n",
"disp(Ls2, 'Mean path loss by 2nd model (in dB)')"
   ]
   }
],
"metadata": {
		  "kernelspec": {
		   "display_name": "Scilab",
		   "language": "scilab",
		   "name": "scilab"
		  },
		  "language_info": {
		   "file_extension": ".sce",
		   "help_links": [
			{
			 "text": "MetaKernel Magics",
			 "url": "https://github.com/calysto/metakernel/blob/master/metakernel/magics/README.md"
			}
		   ],
		   "mimetype": "text/x-octave",
		   "name": "scilab",
		   "version": "0.7.1"
		  }
		 },
		 "nbformat": 4,
		 "nbformat_minor": 0
}
