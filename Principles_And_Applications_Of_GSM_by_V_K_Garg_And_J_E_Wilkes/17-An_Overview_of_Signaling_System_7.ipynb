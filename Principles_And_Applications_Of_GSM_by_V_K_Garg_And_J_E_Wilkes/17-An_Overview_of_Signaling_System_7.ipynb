{
"cells": [
 {
		   "cell_type": "markdown",
	   "metadata": {},
	   "source": [
       "# Chapter 17: An Overview of Signaling System 7"
	   ]
	},
{
		   "cell_type": "markdown",
		   "metadata": {},
		   "source": [
			"## Example 17.1: Mean_STP_message_transfer_time.sci"
		   ]
		  },
  {
"cell_type": "code",
	   "execution_count": null,
	   "metadata": {
	    "collapsed": true
	   },
	   "outputs": [],
"source": [
"//Determine the mean STP message transfer time using ITU-T recommendations\n",
"\n",
"Tph = 22;\n",
"Tod = 8.2;\n",
"\n",
"t = Tph + Tod ;\n",
"\n",
"disp(t, 'STP Message Transfer Time (in ms)')"
   ]
   }
,
{
		   "cell_type": "markdown",
		   "metadata": {},
		   "source": [
			"## Example 17.2: EN_Bloc_and_Overlap_Signalling.sci"
		   ]
		  },
  {
"cell_type": "code",
	   "execution_count": null,
	   "metadata": {
	    "collapsed": true
	   },
	   "outputs": [],
"source": [
"//Determine the no. of circuits for en bloc signaling and overlap signaling\n",
"\n",
"S = 0.7;\n",
"Hs = 150;\n",
"U = 1-S;\n",
"Hu = 20;\n",
"\n",
"SC = 0.8;\n",
"\n",
"Ns = 11;\n",
"Nu = 4;\n",
"\n",
"D = S*Hs + U*Hu ;\n",
"BHCA = (3600*SC)/D; //Using value from table - 3600\n",
"N = Ns*S + Nu*U ;\n",
"M1 = ( (95/2)*S + (63/2)*U );    //From Table given\n",
"M2 = ( (114/2)*S + (63/2)*U );\n",
"N1 = (8000*3600*0.2)/(M1*BHCA);\n",
"N2 = (8000*3600*0.2)/(M2*BHCA);\n",
"\n",
"disp(D, 'Mean duration of a call (in s)')\n",
"disp(BHCA, 'No. of Busy Hour Call Attempts (BHCA) per circuit')\n",
"disp(N+0.1, 'Mean no. of digits dialed per call (apprx.)')\n",
"disp(N1, 'No. of circuits serviced by En Bloc Signalling');\n",
"disp(N2, 'No. of circuits serviced by Overlap Signalling');"
   ]
   }
],
"metadata": {
		  "kernelspec": {
		   "display_name": "Scilab",
		   "language": "scilab",
		   "name": "scilab"
		  },
		  "language_info": {
		   "file_extension": ".sce",
		   "help_links": [
			{
			 "text": "MetaKernel Magics",
			 "url": "https://github.com/calysto/metakernel/blob/master/metakernel/magics/README.md"
			}
		   ],
		   "mimetype": "text/x-octave",
		   "name": "scilab",
		   "version": "0.7.1"
		  }
		 },
		 "nbformat": 4,
		 "nbformat_minor": 0
}
