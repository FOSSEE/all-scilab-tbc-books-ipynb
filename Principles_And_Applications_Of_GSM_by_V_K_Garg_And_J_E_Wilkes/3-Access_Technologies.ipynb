{
"cells": [
 {
		   "cell_type": "markdown",
	   "metadata": {},
	   "source": [
       "# Chapter 3: Access Technologies"
	   ]
	},
{
		   "cell_type": "markdown",
		   "metadata": {},
		   "source": [
			"## Example 3.1: Spectral_Efficiency.sci"
		   ]
		  },
  {
"cell_type": "code",
	   "execution_count": null,
	   "metadata": {
	    "collapsed": true
	   },
	   "outputs": [],
"source": [
"//Determine the spectral efficiency using the given parameters\n",
"\n",
"Bw = 12.5e+3;\n",
"Cd = 200;\n",
"\n",
"A = 8;\n",
"At = 4000;\n",
"N = 4;\n",
"F = 4;\n",
"\n",
"C = Bw/Cd;\n",
"Tc = C*A;\n",
"Ts = 3;\n",
"Tc1 = ((Tc/F) - Ts);\n",
"N1 = At/A;\n",
"T1 = 108.4\n",
"\n",
"N = (T1*N1*1e+3)/(At*Bw);\n",
"\n",
"disp(C, 'No. of 200 Khz channels')\n",
"disp(Tc, 'No. of traffic channels')\n",
"disp(Ts, 'No. of signaling channels')\n",
"disp(Tc1, 'No. of traffic channels per cell')\n",
"disp(N1 , 'No. of cells')\n",
"disp(T1, 'Total traffic carried by 121 channels with 2% blocking (using Erlang B Formula)')\n",
"\n",
"\n",
"disp(N, 'Efficiency (in Erlangs/Mhz/km2)')"
   ]
   }
,
{
		   "cell_type": "markdown",
		   "metadata": {},
		   "source": [
			"## Example 3.2: Spectral_Efficiency_of_TDMA.sci"
		   ]
		  },
  {
"cell_type": "code",
	   "execution_count": null,
	   "metadata": {
	    "collapsed": true
	   },
	   "outputs": [],
"source": [
"//Determine the efficiency of the TDMA system\n",
"\n",
"e = 13;\n",
"d = 16.2\n",
"Tf = 40;\n",
"Mt = 6;\n",
"Bu = 30;\n",
"Nu = 395;\n",
"Bw = 12.5e+3;\n",
"\n",
"t = (e/d)*(Tf/Mt);\n",
"Na = ((t*Mt)/Tf)*((Bu*Nu)/Bw)\n",
"Op = (1 - Na)*100;\n",
"\n",
"disp(t, 'Time slot duration (in ms)')\n",
"disp(Op, 'Percentage Overhead portion of the frame (in %)')"
   ]
   }
,
{
		   "cell_type": "markdown",
		   "metadata": {},
		   "source": [
			"## Example 3.3: Frame_Efficiency_of_TDMA.sci"
		   ]
		  },
  {
"cell_type": "code",
	   "execution_count": null,
	   "metadata": {
	    "collapsed": true
	   },
	   "outputs": [],
"source": [
"//Determine the capacity & spectral efficiency of a TDMA system\n",
"\n",
"Nb = 0.9;\n",
"u = 2;\n",
"Bw = 12.5e+6;\n",
"Vf = 1;\n",
"R = 16.2e+3;\n",
"N = 19;\n",
"\n",
"Nu = ( ((Nb*u)/Vf) * (Bw/(R*N)) );\n",
"N1 = ( (Nu*R) / (Bw) );\n",
"\n",
"disp(Nu, 'Nu')\n",
"disp(N1, 'Spectral Efficiency (in bits/sec/Hz)')"
   ]
   }
,
{
		   "cell_type": "markdown",
		   "metadata": {},
		   "source": [
			"## Example 3.4: Frame_Efficiency_of_TDMA.sci"
		   ]
		  },
  {
"cell_type": "code",
	   "execution_count": null,
	   "metadata": {
	    "collapsed": true
	   },
	   "outputs": [],
"source": [
"//Determine the frame efficiency & no. of channels per frame of GSM TDMA system\n",
"\n",
"Nr = 2;\n",
"Br = 148*8;\n",
"Nt = 24;\n",
"Bp = 34*8;\n",
"Bg = 8.25;\n",
"Tf = 120e-3;\n",
"Rrf = 270.8333e+3;\n",
"R = 22.8;\n",
"\n",
"B0 = ( (Nr*Br) + (Nt*Bp) + (Nt+Nr)*Bg );\n",
"Bt = Tf * Rrf;\n",
"N = (1 - (B0/Bt))*100 ;\n",
"Ncf = ( (N*Rrf)/(R*1e+5) ) ;\n",
"\n",
"disp(B0, 'B0')\n",
"disp(Bt, 'Bt')\n",
"disp(N, 'Frame Efficiency of TDMA system (in %)')\n",
"disp(Ncf, 'No. of channels/frame')"
   ]
   }
],
"metadata": {
		  "kernelspec": {
		   "display_name": "Scilab",
		   "language": "scilab",
		   "name": "scilab"
		  },
		  "language_info": {
		   "file_extension": ".sce",
		   "help_links": [
			{
			 "text": "MetaKernel Magics",
			 "url": "https://github.com/calysto/metakernel/blob/master/metakernel/magics/README.md"
			}
		   ],
		   "mimetype": "text/x-octave",
		   "name": "scilab",
		   "version": "0.7.1"
		  }
		 },
		 "nbformat": 4,
		 "nbformat_minor": 0
}
