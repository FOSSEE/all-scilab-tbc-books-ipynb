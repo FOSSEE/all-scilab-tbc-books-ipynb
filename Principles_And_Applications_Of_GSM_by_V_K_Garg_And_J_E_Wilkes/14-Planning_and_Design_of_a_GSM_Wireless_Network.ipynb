{
"cells": [
 {
		   "cell_type": "markdown",
	   "metadata": {},
	   "source": [
       "# Chapter 14: Planning and Design of a GSM Wireless Network"
	   ]
	},
{
		   "cell_type": "markdown",
		   "metadata": {},
		   "source": [
			"## Example 14.2: Planning_of_Wireless_Network.sci"
		   ]
		  },
  {
"cell_type": "code",
	   "execution_count": null,
	   "metadata": {
	    "collapsed": true
	   },
	   "outputs": [],
"source": [
"//Determine the following parameters.\n",
"\n",
"t = 120;\n",
"d = 24;\n",
"BH = 5;\n",
"BW = 5000;\n",
"RFw = 200;\n",
"S = 60000;\n",
"A = 500;\n",
"\n",
"E = t/(d*BH*60);\n",
"Nrf = BW/RFw;\n",
"Srf = Nrf/(4*3);\n",
"TCH = Srf*8;\n",
"Tbts = 9.82*3;  //Using Erlang B table\n",
"Sbts = (Tbts*1000)/TCH;\n",
"BTSn = S/Sbts;\n",
"R = sqrt(A/(BTSn*Srf));\n",
"\n",
"disp(E, 'Erlangs per subscriber')\n",
"disp(TCH, 'Traffic Channels per sector')\n",
"disp(BTSn, 'No. of BTS in a zone')\n",
"disp(R, 'Avg. Hexagonal cell radius (in Km)')"
   ]
   }
,
{
		   "cell_type": "markdown",
		   "metadata": {},
		   "source": [
			"## Example 14.3: Determine_Signal_power.sci"
		   ]
		  },
  {
"cell_type": "code",
	   "execution_count": null,
	   "metadata": {
	    "collapsed": true
	   },
	   "outputs": [],
"source": [
"//Determine the minimum signal power required\n",
"\n",
"K = 1.38e-20;\n",
"T = 290;\n",
"Nf = 5;\n",
"EbNt = 13.5;\n",
"Rb = 271;\n",
"Bc = 200;\n",
"Tg = 0;\n",
"Rg = 12;\n",
"Rl = 2.5;\n",
"Fm = 10;\n",
"\n",
"Nt = 10*log10(K*T) + Nf;\n",
"SNr = EbNt + 10*log10(Rb/Bc);\n",
"Smin = EbNt + 10*log10(Rb*1000) + Nt;\n",
"Lpmax = 30 - Smin + (Tg+Rg) - (Rl+Fm );\n",
"\n",
"disp(Smin, 'Min. Signal Power Required (in dBm)')\n",
"disp(Lpmax, 'Max. allowable path loss (in dB)')"
   ]
   }
,
{
		   "cell_type": "markdown",
		   "metadata": {},
		   "source": [
			"## Example 14.4: Cellular_System.sci"
		   ]
		  },
  {
"cell_type": "code",
	   "execution_count": null,
	   "metadata": {
	    "collapsed": true
	   },
	   "outputs": [],
"source": [
"//Design a cellular system using GMSK modulation\n",
"\n",
"Smin = -102;\n",
"fc = 900;\n",
"ht = 160;\n",
"ahr = 2.69;\n",
"d = 10;\n",
"Gt = 16;\n",
"Gr = 1;\n",
"Lft = 1;\n",
"Lfr = 1;\n",
"fm = 10.5;\n",
"\n",
"Lp = 69.55 + 26.16*log10(fc) - 13.83*log10(ht) - ahr + (44.9 - 6.55*log10(ht))*log10(d) ;\n",
"Pt = Smin - (Gt+Gr) + (Lft + Lfr + fm) + Lp;\n",
"\n",
"disp(Lp, 'Path Loss (in dB)')\n",
"disp(Pt, 'Required transmitted power for a GMSK MS (in dBm)')"
   ]
   }
,
{
		   "cell_type": "markdown",
		   "metadata": {},
		   "source": [
			"## Example 14.5: PCS_System.sci"
		   ]
		  },
  {
"cell_type": "code",
	   "execution_count": null,
	   "metadata": {
	    "collapsed": true
	   },
	   "outputs": [],
"source": [
"//Design a cellular system for PCS system using QPSK modulation\n",
"\n",
"Smin = -91.4;\n",
"fc = 1800;\n",
"ht = 50;\n",
"ahr = -4.53;\n",
"d = 1;\n",
"Gt = 12;\n",
"Gr = 0;\n",
"Lft = 1;\n",
"Lfr = 1;\n",
"fm = 10.5;\n",
"\n",
"Lp = 69.55 + 26.16*log10(fc) - 13.83*log10(ht) - ahr + (44.9 - 6.55*log10(ht))*log10(d) ;\n",
"Pt = Smin - (Gt+Gr) + (Lft + Lfr + fm) + Lp;\n",
"\n",
"disp(Lp, 'Path Loss (in dB)')\n",
"disp(Pt, 'Required transmitted power for a GMSK MS (in dBm)')"
   ]
   }
,
{
		   "cell_type": "markdown",
		   "metadata": {},
		   "source": [
			"## Example 14.6: TDMA_frame_for_Cellular_System.sci"
		   ]
		  },
  {
"cell_type": "code",
	   "execution_count": null,
	   "metadata": {
	    "collapsed": true
	   },
	   "outputs": [],
"source": [
"//Design a TDMA frame for a cellular system\n",
"\n",
"Nca1 = 1'\n",
"Nca2 = 2;\n",
"Rbmin = 8;\n",
"a1 = 0.1;\n",
"nf = 0.75;\n",
"Rc = 0.5;\n",
"\n",
"Nslot1 = 16/Nca1;\n",
"Nslot2 = 16/Nca2;\n",
"Rs1 = (Rbmin*(1+a1)*Nslot1)/(nf*Rc);\n",
"Rs2 = (Rbmin*(1+a1)*Nslot2)/(nf*Rc);\n",
"\n",
"disp(Nslot1, 'Nslot for Nca=1')\n",
"disp(Nslot2, 'Nslot for Nca=2')\n",
"disp(Rs1, 'Rs for Nca=1 (in ksymbols/s)')\n",
"disp(Rs2, 'Rs for Nca=2 (in ksymbols/s)')"
   ]
   }
],
"metadata": {
		  "kernelspec": {
		   "display_name": "Scilab",
		   "language": "scilab",
		   "name": "scilab"
		  },
		  "language_info": {
		   "file_extension": ".sce",
		   "help_links": [
			{
			 "text": "MetaKernel Magics",
			 "url": "https://github.com/calysto/metakernel/blob/master/metakernel/magics/README.md"
			}
		   ],
		   "mimetype": "text/x-octave",
		   "name": "scilab",
		   "version": "0.7.1"
		  }
		 },
		 "nbformat": 4,
		 "nbformat_minor": 0
}
