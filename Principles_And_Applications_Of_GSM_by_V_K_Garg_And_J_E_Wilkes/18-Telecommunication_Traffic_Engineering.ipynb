{
"cells": [
 {
		   "cell_type": "markdown",
	   "metadata": {},
	   "source": [
       "# Chapter 18: Telecommunication Traffic Engineering"
	   ]
	},
{
		   "cell_type": "markdown",
		   "metadata": {},
		   "source": [
			"## Example 18.1: Traffic_Measurement_Units.sci"
		   ]
		  },
  {
"cell_type": "code",
	   "execution_count": null,
	   "metadata": {
	    "collapsed": true
	   },
	   "outputs": [],
"source": [
"//Determine the usage in seconds,CCS and Erlangs which has accumulated on the piece of the equipment\n",
"\n",
"U = (450-0)*(5/3600)\n",
"\n",
"disp(U, 'Usage in Erlangs')\n",
"disp(U*36, 'Usage in CCS')\n",
"disp(U*36*100, 'Usage in seconds')"
   ]
   }
,
{
		   "cell_type": "markdown",
		   "metadata": {},
		   "source": [
			"## Example 18.2: Offered_Load.sci"
		   ]
		  },
  {
"cell_type": "code",
	   "execution_count": null,
	   "metadata": {
	    "collapsed": true
	   },
	   "outputs": [],
"source": [
"//Determine the offered load\n",
"\n",
"CCS = 2900;\n",
"p = 0.05;\n",
"\n",
"U = CCS/(1-p);\n",
"\n",
"disp(U, 'Offered Load (in CCS)');"
   ]
   }
,
{
		   "cell_type": "markdown",
		   "metadata": {},
		   "source": [
			"## Example 18.3: Traffic_Intensity.sci"
		   ]
		  },
  {
"cell_type": "code",
	   "execution_count": null,
	   "metadata": {
	    "collapsed": true
	   },
	   "outputs": [],
"source": [
"//Determine the traffic intensity\n",
"\n",
"t = 120;\n",
"\n",
"I = (2*t)/3600;\n",
"\n",
"disp(I*36, 'Traiffic Intensity (in CCS)');"
   ]
   }
,
{
		   "cell_type": "markdown",
		   "metadata": {},
		   "source": [
			"## Example 18.4: Traffic_Intensity.sci"
		   ]
		  },
  {
"cell_type": "code",
	   "execution_count": null,
	   "metadata": {
	    "collapsed": true
	   },
	   "outputs": [],
"source": [
"////Determine the traffic intensity in Erlangs and CCS\n",
"\n",
"n = 10;\n",
"t = 1.5;\n",
"Cd = 60+74+80+90+92+70+96+48+64+126;\n",
"\n",
"CAR = n/t;\n",
"Hbar = Cd/10; \n",
"\n",
"I = (CAR*Hbar)/3600;\n",
"\n",
"disp(I, 'Traiffic Intensity (in Erlangs)');\n",
"disp(I*36, 'Traiffic Intensity (in CCS)');"
   ]
   }
,
{
		   "cell_type": "markdown",
		   "metadata": {},
		   "source": [
			"## Example 18.5: Traffic_Intensity.sci"
		   ]
		  },
  {
"cell_type": "code",
	   "execution_count": null,
	   "metadata": {
	    "collapsed": true
	   },
	   "outputs": [],
"source": [
"////Determine the traffic intensity during the eight-hour period and the busy hour\n",
"\n",
"n = 11;\n",
"t = 8;\n",
"Cd1 = 3+10+7+10+5+5+1+5+15+34+5;\n",
"Cd2 = 34+5;\n",
"CAR2 = 2;\n",
"\n",
"CAR1 = n/t;\n",
"Hbar1 = Cd1/(n*60);\n",
"Hbar2 = Cd2/(CAR2*60);\n",
"\n",
"I1 = CAR1 * Hbar1 ;\n",
"I2 = CAR2 * Hbar2 ;\n",
"\n",
"disp(I1*36, 'Traiffic Intensity (in CCS)')\n",
"disp(I2*36, 'Traiffic Intensity during busy hour (in CCS)')"
   ]
   }
,
{
		   "cell_type": "markdown",
		   "metadata": {},
		   "source": [
			"## Example 18.6: Data_Collection_Categories.sci"
		   ]
		  },
  {
"cell_type": "code",
	   "execution_count": null,
	   "metadata": {
	    "collapsed": true
	   },
	   "outputs": [],
"source": [
"//Determine ABS/BH switch calling rate and CCS for a switch\n",
"\n",
"RL = 12000;\n",
"n = 80000;\n",
"BL = 64000;\n",
"HL = 4000;\n",
"CRr = 2;\n",
"CRb = 3;\n",
"CRh = 10;\n",
"HTr = 140;\n",
"HTb = 160;\n",
"HTh = 200;\n",
"\n",
"RLp = RL/n;\n",
"BLp = BL/n;\n",
"HLp = HL/n;\n",
"CCSrl = CRr * (HTr/100);\n",
"CCSbl = CRb * (HTb/100);\n",
"CCShl = CRh * (HTh/100);\n",
"SCR = (CRr*RLp) + (CRb*BLp) + (CRh*HLp) ;\n",
"Sccs = (CCSrl*RLp) + (CCSbl*BLp) + (CCShl*HLp) ;\n",
"\n",
"Aht = (Sccs/SCR)*100;\n",
"ABSc = SCR*n;\n",
"ABSu = (Sccs*n)/36;\n",
"\n",
"Dcc = 1.5*ABSc;\n",
"De = 1.5*ABSu;\n",
"\n",
"disp(Dcc, 'Design call capacity based on HD')\n",
"disp(De, 'Design erlangs based on HD')"
   ]
   }
,
{
		   "cell_type": "markdown",
		   "metadata": {},
		   "source": [
			"## Example 18.7: Offered_Load.sci"
		   ]
		  },
  {
"cell_type": "code",
	   "execution_count": null,
	   "metadata": {
	    "collapsed": true
	   },
	   "outputs": [],
"source": [
"//Determine the offered load and channels required\n",
"\n",
"CPH = 4000;\n",
"ACH = 150\n",
"\n",
"A = (CPH*ACH)/3600;\n",
"\n",
"disp(A, 'Offered Load');\n",
"disp(182, 'Channels REquired (using Erlang B table)')"
   ]
   }
,
{
		   "cell_type": "markdown",
		   "metadata": {},
		   "source": [
			"## Example 18.8: GSM_Users.sci"
		   ]
		  },
  {
"cell_type": "code",
	   "execution_count": null,
	   "metadata": {
	    "collapsed": true
	   },
	   "outputs": [],
"source": [
"//Determine the no. of users supported\n",
"\n",
"BHA = 1.2;\n",
"ACH = 120;\n",
"\n",
"C = 40.26;   //from Erlang B table\n",
"\n",
"At = (BHA*ACH)/3600;\n",
"N = C/At;\n",
"\n",
"disp(N, 'No. of users supported');"
   ]
   }
],
"metadata": {
		  "kernelspec": {
		   "display_name": "Scilab",
		   "language": "scilab",
		   "name": "scilab"
		  },
		  "language_info": {
		   "file_extension": ".sce",
		   "help_links": [
			{
			 "text": "MetaKernel Magics",
			 "url": "https://github.com/calysto/metakernel/blob/master/metakernel/magics/README.md"
			}
		   ],
		   "mimetype": "text/x-octave",
		   "name": "scilab",
		   "version": "0.7.1"
		  }
		 },
		 "nbformat": 4,
		 "nbformat_minor": 0
}
