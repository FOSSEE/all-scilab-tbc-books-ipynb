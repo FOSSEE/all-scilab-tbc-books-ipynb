{
"cells": [
 {
		   "cell_type": "markdown",
	   "metadata": {},
	   "source": [
       "# Chapter 6: Radio Link Features in GSM Systems"
	   ]
	},
{
		   "cell_type": "markdown",
		   "metadata": {},
		   "source": [
			"## Example 6.1: Adaptive_Array_Elements.sci"
		   ]
		  },
  {
"cell_type": "code",
	   "execution_count": null,
	   "metadata": {
	    "collapsed": true
	   },
	   "outputs": [],
"source": [
"//Consider GSM system with following data and show the advantage of adaptive array antennas\n",
"\n",
"kT = -174;\n",
"Bw = 200e+3;\n",
"F = 7;\n",
"SI = 12;\n",
"\n",
"W = 29;\n",
"Lc = 2;\n",
"fm = 10;\n",
"Gbs = 20;\n",
"Gm = 0;\n",
"\n",
"Gamma = 4;\n",
"PLmax = 139;\n",
"I0 = 80;\n",
"\n",
"Acover = 6e+4;\n",
"\n",
"PRmin = kT + (10*log10(Bw)) + F + SI ;\n",
"PLmax = W - PRmin - Lc - fm + Gbs + Gm ;\n",
"R = (PLmax - I0)^(1/4);\n",
"N = Acover/(2.6*R^2);\n",
"\n",
"disp(PRmin, 'Required minimum received power is (in dBm)')\n",
"disp(PLmax, 'Max. allowable path loss is (in dB)')\n",
"disp(R, 'Cell Radius (in miles)')\n",
"disp(N, 'No. of cells required')"
   ]
   }
],
"metadata": {
		  "kernelspec": {
		   "display_name": "Scilab",
		   "language": "scilab",
		   "name": "scilab"
		  },
		  "language_info": {
		   "file_extension": ".sce",
		   "help_links": [
			{
			 "text": "MetaKernel Magics",
			 "url": "https://github.com/calysto/metakernel/blob/master/metakernel/magics/README.md"
			}
		   ],
		   "mimetype": "text/x-octave",
		   "name": "scilab",
		   "version": "0.7.1"
		  }
		 },
		 "nbformat": 4,
		 "nbformat_minor": 0
}
