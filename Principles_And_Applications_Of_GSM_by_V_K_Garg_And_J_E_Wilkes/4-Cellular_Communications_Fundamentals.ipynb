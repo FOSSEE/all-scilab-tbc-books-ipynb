{
"cells": [
 {
		   "cell_type": "markdown",
	   "metadata": {},
	   "source": [
       "# Chapter 4: Cellular Communications Fundamentals"
	   ]
	},
{
		   "cell_type": "markdown",
		   "metadata": {},
		   "source": [
			"## Example 4.1: GSM_Parameters.sci"
		   ]
		  },
  {
"cell_type": "code",
	   "execution_count": null,
	   "metadata": {
	    "collapsed": true
	   },
	   "outputs": [],
"source": [
"//Determine following parameters\n",
"\n",
"N = 4;\n",
"Lo = 85.26;\n",
"\n",
"Cn = (Lo*3600)/120;\n",
"SI =  10*log10((3.5^4)/6);\n",
"\n",
"disp(Cn, 'No. of calls per cell site per hour')\n",
"disp(2558, 'No. of calls per cell site per hour (apprx.)')\n",
"\n",
"disp(SI, 'Mean S/I ratio for cell reuse factor 4 (in db)')"
   ]
   }
,
{
		   "cell_type": "markdown",
		   "metadata": {},
		   "source": [
			"## Example 4.2: GSM_Parameters.sci"
		   ]
		  },
  {
"cell_type": "code",
	   "execution_count": null,
	   "metadata": {
	    "collapsed": true
	   },
	   "outputs": [],
"source": [
"//Determine following parameters\n",
"\n",
"N = 4;\n",
"Lo = 107.8\n",
"\n",
"Cn = (Lo*3600)/120;\n",
"SI =  10*log10((3.5^4)/6);\n",
"\n",
"disp(Cn, 'No. of calls per cell site per hour')\n",
"disp(SI, 'Mean S/I ratio for cell reuse factor 4 (in db)')"
   ]
   }
,
{
		   "cell_type": "markdown",
		   "metadata": {},
		   "source": [
			"## Example 4.3: GSM_Parameters.sci"
		   ]
		  },
  {
"cell_type": "code",
	   "execution_count": null,
	   "metadata": {
	    "collapsed": true
	   },
	   "outputs": [],
"source": [
"//Determine following parameters\n",
"\n",
"N = 7;\n",
"A = 1200;\n",
"Ct = 395;\n",
"Ts = 9597;\n",
"Tc = 358;\n",
"Te = 287.9;\n",
"Nc = 8637;\n",
"\n",
"As = Ts/Tc;\n",
"E = Te/A;\n",
"Sd = Ts/A;\n",
"Cd = Nc/A;\n",
"Ae = A/N;\n",
"Cn = Tc/Ct;\n",
"\n",
"\n",
"disp(As, 'Avg. No. of subscribers/channel')\n",
"disp(E, 'Erlangs/mile2 )')\n",
"disp(Sd, 'Subscriber Density (in Subscribers/mile2)')\n",
"disp(Cd, 'Call Density (in calls/mile2)')\n",
"disp(Ae, 'Area of each cell (in miles2)')\n",
"disp(Cn, 'Channel Reuse factor')"
   ]
   }
,
{
		   "cell_type": "markdown",
		   "metadata": {},
		   "source": [
			"## Example 4.4: GSM_Parameters.sci"
		   ]
		  },
  {
"cell_type": "code",
	   "execution_count": null,
	   "metadata": {
	    "collapsed": true
	   },
	   "outputs": [],
"source": [
"//Determine following parameters\n",
"\n",
"N = 7;\n",
"C = 395;\n",
"\n",
"Nc = C/N;\n",
"Se1 = 39.8/63.1;\n",
"Se2 = 5.8648/1.384;\n",
"\n",
"disp(Nc, 'No. of voice channels/cell site')\n",
"disp(Se1, 'Spectral Efficiency in analog system')\n",
"\n",
"disp(Se2, 'Spectral Efficiency in digital system')"
   ]
   }
],
"metadata": {
		  "kernelspec": {
		   "display_name": "Scilab",
		   "language": "scilab",
		   "name": "scilab"
		  },
		  "language_info": {
		   "file_extension": ".sce",
		   "help_links": [
			{
			 "text": "MetaKernel Magics",
			 "url": "https://github.com/calysto/metakernel/blob/master/metakernel/magics/README.md"
			}
		   ],
		   "mimetype": "text/x-octave",
		   "name": "scilab",
		   "version": "0.7.1"
		  }
		 },
		 "nbformat": 4,
		 "nbformat_minor": 0
}
