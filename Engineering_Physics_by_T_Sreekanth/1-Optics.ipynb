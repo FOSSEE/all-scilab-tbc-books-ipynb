{
"cells": [
 {
		   "cell_type": "markdown",
	   "metadata": {},
	   "source": [
       "# Chapter 1: Optics"
	   ]
	},
{
		   "cell_type": "markdown",
		   "metadata": {},
		   "source": [
			"## Example 1.10: EX1_10.sce"
		   ]
		  },
  {
"cell_type": "code",
	   "execution_count": null,
	   "metadata": {
	    "collapsed": true
	   },
	   "outputs": [],
"source": [
"//clc();\n",
"clear;\n",
"// To determine the refractive index of the transparent sheet in Newton's ring experiment\n",
"lambda=5460*10^(-8);           //wavelength of light in centimetres\n",
"t=6.3*10^(-4);                  //thickness of the transparent material in centimetres\n",
"n=6;\n",
"mew=((n*lambda)/t)+1;\n",
"printf('the refractive index of the transparent sheet when the central bright fringe is occupied by the 6th bright fringe is mew=%f',mew);"
   ]
   }
,
{
		   "cell_type": "markdown",
		   "metadata": {},
		   "source": [
			"## Example 1.11: To_determine_the_thickness_of_the_glass_plate.sce"
		   ]
		  },
  {
"cell_type": "code",
	   "execution_count": null,
	   "metadata": {
	    "collapsed": true
	   },
	   "outputs": [],
"source": [
"//clc();\n",
"clear;\n",
"// To determine the thickness of the glass plate\n",
"mew=1.56;          //refractive index of the glass plate\n",
"lambda=5000*10^(-8);       //wavelength of the light in centimetres\n",
"n=16;\n",
"t=(n*lambda)/(mew-1);\n",
"printf('thickness of the glass plate in centimetres when 16 fringes are displaced is %f cm',t);"
   ]
   }
,
{
		   "cell_type": "markdown",
		   "metadata": {},
		   "source": [
			"## Example 1.12: To_determine_the_thickness_of_the_glass_plate.sce"
		   ]
		  },
  {
"cell_type": "code",
	   "execution_count": null,
	   "metadata": {
	    "collapsed": true
	   },
	   "outputs": [],
"source": [
"//clc();\n",
"clear;\n",
"// To determine the thickness of the glass plate\n",
"lambda=6000*10^(-8);         //wavelength of parallel beam of light in centimetres\n",
"mew=1.5;             //refractive index of glass plate\n",
"r=50;                //angle of refraction in degrees\n",
"n=1;                 //for least thickness\n",
"t=(n*lambda)/(2*mew*cosd(r));\n",
"printf('the least thickness of the glass plate in centimetres which will appear dark by reflection is %f cm',t);"
   ]
   }
,
{
		   "cell_type": "markdown",
		   "metadata": {},
		   "source": [
			"## Example 1.13: To_calculate_the_thickness_of_the_glass_plate.sce"
		   ]
		  },
  {
"cell_type": "code",
	   "execution_count": null,
	   "metadata": {
	    "collapsed": true
	   },
	   "outputs": [],
"source": [
"//clc();\n",
"clear;\n",
"// To calculate the thickness of the glass plate\n",
"lambda=5000*10^(-8);           //wavelength of light in centimetres\n",
"n=6;                   //shift of the central range or the ratio between S and beeta\n",
"mew=1.5;               //refractive index of glass plate\n",
"t=(n*lambda)/(mew-1);\n",
"printf('the thickness of the glass plate when the central fringe is shifted to the position of 6th bright fringe is %f cm',t);\n",
" "
   ]
   }
,
{
		   "cell_type": "markdown",
		   "metadata": {},
		   "source": [
			"## Example 1.14: To_determine_the_refractive_index_of_liquid_in_Newtons_ring.sce"
		   ]
		  },
  {
"cell_type": "code",
	   "execution_count": null,
	   "metadata": {
	    "collapsed": true
	   },
	   "outputs": [],
"source": [
"//clc();\n",
"clear;\n",
"// To determine the refractive index of liquid in Newton's ring\n",
"D8=1.42;          //diameter of the 8th ring in centimetres\n",
"D8new=1.25;       //new diameter of the 8th ring in centimetres\n",
"mew=(D8^2)/(D8new^2);\n",
"printf('refractive index of the liquid when the liquid is intoduced between the lens and glass plate is %f',mew);"
   ]
   }
,
{
		   "cell_type": "markdown",
		   "metadata": {},
		   "source": [
			"## Example 1.15: To_determine_the_thickness_of_the_thinnest_film.sce"
		   ]
		  },
  {
"cell_type": "code",
	   "execution_count": null,
	   "metadata": {
	    "collapsed": true
	   },
	   "outputs": [],
"source": [
"//clc();\n",
"clear;\n",
"// To determine the thickness of the thinnest film\n",
"n=1;\n",
"lambda=6000*10^(-8);          //wavelength of yellow light in centimetres\n",
"mew=1.33;             //refractive index of the film\n",
"r=0;                  //angle of refraction in degrees\n",
"t=(n*lambda)/(2*mew*cosd(r)*10^(-2));\n",
"printf('thickness of the thinnest film in which destructive interference takes place is %f cm',t);"
   ]
   }
,
{
		   "cell_type": "markdown",
		   "metadata": {},
		   "source": [
			"## Example 1.16: To_determine_the_radius_of_curvature_of_plano_convex_lens.sce"
		   ]
		  },
  {
"cell_type": "code",
	   "execution_count": null,
	   "metadata": {
	    "collapsed": true
	   },
	   "outputs": [],
"source": [
"//clc();\n",
"clear;\n",
"// To determine the radius of curvature of plano convex lens\n",
"lambda=6000*10^(-8);        //wavelength of light in centimetres\n",
"m=18;\n",
"n=8;\n",
"Dm=0.65;           //diameter of 18th ring in centimetres\n",
"Dn=0.35;            //diameter of 8th ring in centimetres\n",
"R=(Dm^2-Dn^2)/(4*lambda*(m-n));\n",
"printf('Radius of curvature of the plano convex lens when the wavelength of light used is 6000 Armstrong is %f cm',R)"
   ]
   }
,
{
		   "cell_type": "markdown",
		   "metadata": {},
		   "source": [
			"## Example 1.17: To_determine_the_refractive_index_of_the_liquid.sce"
		   ]
		  },
  {
"cell_type": "code",
	   "execution_count": null,
	   "metadata": {
	    "collapsed": true
	   },
	   "outputs": [],
"source": [
"//clc();\n",
"clear;\n",
"// To determine the refractive index of the liquid\n",
"D12air=1.45;            //diameter of 12th ring in air medium\n",
"D12liq=1.25;            //diameter of 12th ring in liquid\n",
"mew=(D12air^2)/(D12liq^2);\n",
"printf('refractive index of the liquid when liquid is introduced between the lens and glass plate is %f',mew);"
   ]
   }
,
{
		   "cell_type": "markdown",
		   "metadata": {},
		   "source": [
			"## Example 1.18: To_determine_the_diameter_of_a_ring_in_Newtons_rings_experiment.sce"
		   ]
		  },
  {
"cell_type": "code",
	   "execution_count": null,
	   "metadata": {
	    "collapsed": true
	   },
	   "outputs": [],
"source": [
"//clc();\n",
"clear;\n",
"//To determine the diameter of a ring in Newton's rings experiment\n",
"D5=0.3;         //diameter of 5th ring in centimetres\n",
"D15=0.62;       //diameter of 15th ring in centimetres\n",
"//The principle used here is Dm^2-Dn^2=4*lambda*R*(m-n).\n",
"//the product lambda*R is constant hence it can be eliminated.\n",
"aLHS=D15^2-D5^2;\n",
"aRHS=4*(15-5);            //By substituting the values of m and n in the principle equation\n",
"bRHS=4*(25-5);            //By substituting the values of m and n in the principle equation\n",
"c=bRHS/aRHS;\n",
"D25=sqrt((c*aLHS)+D5^2);\n",
"printf('diameter of 25th ring is %f cm',D25);\n",
""
   ]
   }
,
{
		   "cell_type": "markdown",
		   "metadata": {},
		   "source": [
			"## Example 1.19: To_determine_the_radius_of_curvature_of_convex_lens.sce"
		   ]
		  },
  {
"cell_type": "code",
	   "execution_count": null,
	   "metadata": {
	    "collapsed": true
	   },
	   "outputs": [],
"source": [
"//clc();\n",
"clear;\n",
"//To determine the radius of curvature of convex lens\n",
"lambda=5890*10^(-8);          //wavelength in centimetres\n",
"m=15;\n",
"n=5;\n",
"Dm=0.590;             //diameter of 15th ring in centimetres\n",
"Dn=0.336;             //diameter of 5th ring in centimetres\n",
"R=(Dm-Dn)/(4*lambda*(m-n));\n",
"printf('radius of curvature of convex lens is %f cm',R);"
   ]
   }
,
{
		   "cell_type": "markdown",
		   "metadata": {},
		   "source": [
			"## Example 1.1: To_calculate_intensity_ratio_of_bright_and_dark_fringes.sce"
		   ]
		  },
  {
"cell_type": "code",
	   "execution_count": null,
	   "metadata": {
	    "collapsed": true
	   },
	   "outputs": [],
"source": [
"//clc();\n",
"clear;\n",
"// To calculate the intensity ratio of bright and dark fringes\n",
"I1=1;\n",
"I2=25;\n",
"// Intensity is directly proportional to square of the amplitude\n",
"A1=sqrt(I1);\n",
"A2=sqrt(I2);\n",
"Imax=(A1+A2)^2;\n",
"Imin=(A1-A2)^2;\n",
"I=Imax/Imin;\n",
"printf('The intensity ratio of bright and dark fringes is %f',I);\n",
""
   ]
   }
,
{
		   "cell_type": "markdown",
		   "metadata": {},
		   "source": [
			"## Example 1.20: To_determine_the_wavelength_of_the_light_used.sce"
		   ]
		  },
  {
"cell_type": "code",
	   "execution_count": null,
	   "metadata": {
	    "collapsed": true
	   },
	   "outputs": [],
"source": [
"//clc();\n",
"clear;\n",
"//To determine the wavelength of the light used\n",
"R=70;          //radius of curvature of the lens in centimetres\n",
"n=10;\n",
"Dn=0.433      //diameter of 10th dark ring in centimetres\n",
"lambda=(Dn^2)/(4*R*n);\n",
"printf('the wavelength of the light used when a convex lens is exposed by a monochromatic light is %f cm',lambda);"
   ]
   }
,
{
		   "cell_type": "markdown",
		   "metadata": {},
		   "source": [
			"## Example 1.21: To_determine_the_slit_width.sce"
		   ]
		  },
  {
"cell_type": "code",
	   "execution_count": null,
	   "metadata": {
	    "collapsed": true
	   },
	   "outputs": [],
"source": [
"//clc();\n",
"clear;\n",
"//To determine the slit width\n",
"theta=15;             //angle in degrees\n",
"lambda=6500*10^(-8);          //wavelength in centimetres\n",
"n=1;\n",
"a=(n*lambda)/sind(theta);\n",
"printf('slit width illuminated by white light is %f cm',a);"
   ]
   }
,
{
		   "cell_type": "markdown",
		   "metadata": {},
		   "source": [
			"## Example 1.22: To_determine_the_wavelength_of_light.sce"
		   ]
		  },
  {
"cell_type": "code",
	   "execution_count": null,
	   "metadata": {
	    "collapsed": true
	   },
	   "outputs": [],
"source": [
"//clc();\n",
"clear;\n",
"//To determine the wavelength of light\n",
"theta=15;            //first diffraction maxima in degrees\n",
"a=2.5*10^(-6);       //slit width in metres\n",
"lambda=(a*sind(theta)*10^10)/1.43;\n",
"printf('wavelength of light is %f Armstrong',lambda);"
   ]
   }
,
{
		   "cell_type": "markdown",
		   "metadata": {},
		   "source": [
			"## Example 1.23: To_determine_the_wavelength_of_spectral_line.sce"
		   ]
		  },
  {
"cell_type": "code",
	   "execution_count": null,
	   "metadata": {
	    "collapsed": true
	   },
	   "outputs": [],
"source": [
"//clc();\n",
"clear;\n",
"//To determine the wavelength of spectral line\n",
"n=2;\n",
"N=4250;           //grating in lines per centimetre\n",
"theta=30;         //angle in degrees\n",
"e=1/N;\n",
"lambda=(e*sind(theta)*10^8)/n;\n",
"printf('wavelength of the spectral line when a plane transmission grating is illuminated with a sodium light  is %f Armstrong',lambda);"
   ]
   }
,
{
		   "cell_type": "markdown",
		   "metadata": {},
		   "source": [
			"## Example 1.24: To_determine_the_angular_seperation.sce"
		   ]
		  },
  {
"cell_type": "code",
	   "execution_count": null,
	   "metadata": {
	    "collapsed": true
	   },
	   "outputs": [],
"source": [
"//clc();\n",
"clear;\n",
"//To determine the angular seperation\n",
"lambda=600*10^(-9);           //wavelength of light in metres\n",
"a=1*10^(-6);                  //slit width in metres\n",
"n=1;\n",
"theta=asind((n*lambda)/a);\n",
"printf('the angular seperation between the first order minima and central maxima of either side is %f degrees',theta);"
   ]
   }
,
{
		   "cell_type": "markdown",
		   "metadata": {},
		   "source": [
			"## Example 1.25: To_determine_the_visible_number_of_orders.sce"
		   ]
		  },
  {
"cell_type": "code",
	   "execution_count": null,
	   "metadata": {
	    "collapsed": true
	   },
	   "outputs": [],
"source": [
"//clc();\n",
"clear;\n",
"//To determine the visible number of orders\n",
"N=10520;            //grating lines in lines per centimetre\n",
"theta=90;           //angle in degrees\n",
"lambda=5*10^(-5);         //wavelength of light in centimetres\n",
"e=1/N;\n",
"n=(e*sind(theta))/lambda;\n",
"printf('the number of orders visible in grating spectra is %f',n);"
   ]
   }
,
{
		   "cell_type": "markdown",
		   "metadata": {},
		   "source": [
			"## Example 1.26: To_determine_the_slit_width.sce"
		   ]
		  },
  {
"cell_type": "code",
	   "execution_count": null,
	   "metadata": {
	    "collapsed": true
	   },
	   "outputs": [],
"source": [
"//clc();\n",
"clear;\n",
"//To determine the slit width\n",
"x=4.2*10^(-3);        //distance between central max to first max in metres\n",
"D=0.6;                 //distance between screen and slit in metres\n",
"lambda=6000*10^(-10);          //wavelength of light in metres\n",
"d=(D*lambda)/x;\n",
"printf('the slit width in a single slit diffraction pattern is %f m',d);"
   ]
   }
,
{
		   "cell_type": "markdown",
		   "metadata": {},
		   "source": [
			"## Example 1.27: To_calculate_the_possible_order_of_spectra.sce"
		   ]
		  },
  {
"cell_type": "code",
	   "execution_count": null,
	   "metadata": {
	    "collapsed": true
	   },
	   "outputs": [],
"source": [
"//clc();\n",
"clear;\n",
"//To calculate the possible order of spectra\n",
"N=5.905*10^3;          //grating lines in lines per centimetre\n",
"lambda=6000*10^(-8);      //wavelength of light in centimetres\n",
"d=1/N;\n",
"m=d/lambda;\n",
"printf('the possible order of spectra with a plane transmission grating is %f',m);"
   ]
   }
,
{
		   "cell_type": "markdown",
		   "metadata": {},
		   "source": [
			"## Example 1.28: To_determine_the_wavelength_of_light_in_Fraulhofer_double_slit_diffraction.sce"
		   ]
		  },
  {
"cell_type": "code",
	   "execution_count": null,
	   "metadata": {
	    "collapsed": true
	   },
	   "outputs": [],
"source": [
"//clc();\n",
"clear;\n",
"//To determine the wavelength of light in Fraulhofer double slit diffraction\n",
"D=150;              //distance between slit and screen in centimetres\n",
"d=0.03;              //seperation between slits in centimetres\n",
"beeta=0.3;          //fringe seperation in centimetres\n",
"lambda=(beeta*d*10^8)/D;\n",
"printf('wavelength of light if fringe seperation is 0.3 cm is %f Armstrong',lambda);\n",
""
   ]
   }
,
{
		   "cell_type": "markdown",
		   "metadata": {},
		   "source": [
			"## Example 1.2: To_determine_the_order_that_will_be_visible_at_a_point.sce"
		   ]
		  },
  {
"cell_type": "code",
	   "execution_count": null,
	   "metadata": {
	    "collapsed": true
	   },
	   "outputs": [],
"source": [
"//clc();\n",
"clear;\n",
"// To determine the order that will be visible at a point\n",
"n1=21;\n",
"lambda1=6000*10^(-8);            // The 21st order maximum is observed for source of light in centimetres\n",
"lambda2=4500*10^(-8);\n",
"n2=(n1*lambda1)/(lambda2);\n",
"printf('The order that will be visible if the source is replaced by 4500 Armstrong is %f',n2);"
   ]
   }
,
{
		   "cell_type": "markdown",
		   "metadata": {},
		   "source": [
			"## Example 1.3: To_determine_the_slit_seperation_in_Youngs_double_slit_experiment.sce"
		   ]
		  },
  {
"cell_type": "code",
	   "execution_count": null,
	   "metadata": {
	    "collapsed": true
	   },
	   "outputs": [],
"source": [
"//clc();\n",
"clear;\n",
"// To determine the slit seperation in Young's double slit experiment\n",
"lambda=5100*10^(-8);         //A source of light in centimetres\n",
"D=200;               // Seperation between screen and slit in centimetres\n",
"beeta=0.01;          // Overall seperation from double slit in metres\n",
"d=(lambda*D)/beeta;\n",
"printf('The seperation between slits if the source of light is incident from a narrow slit on a double slit is %f m',d);\n",
"\n",
""
   ]
   }
,
{
		   "cell_type": "markdown",
		   "metadata": {},
		   "source": [
			"## Example 1.4: To_determine_the_thickness_of_the_mica_sheet.sce"
		   ]
		  },
  {
"cell_type": "code",
	   "execution_count": null,
	   "metadata": {
	    "collapsed": true
	   },
	   "outputs": [],
"source": [
"//clc();\n",
"clear;\n",
"// To determine the thickness of the mica sheet\n",
"mew=1.58;    // Refractive index of mica sheet\n",
"d=0.1;      // Seperation between slits in centimetres\n",
"x=0.2;      // Fringe shifted by a distance in centimetres\n",
"D=50;       // Distance of the screen from slits in centimetres\n",
"t=(x*d)/(D*(mew-1));\n",
"printf('The thickness of the mica sheet is %f cm',t);"
   ]
   }
,
{
		   "cell_type": "markdown",
		   "metadata": {},
		   "source": [
			"## Example 1.5: To_determine_the_fringe_width.sce"
		   ]
		  },
  {
"cell_type": "code",
	   "execution_count": null,
	   "metadata": {
	    "collapsed": true
	   },
	   "outputs": [],
"source": [
"//clc();\n",
"clear;\n",
"// To determine the fringe width\n",
"lambda=5000*10^(-8);         //Wavelength of light in centimetres\n",
"D=50;        // Distance between the slit and screen in centimetres\n",
"d=0.05;      // Seperation between two slits in centimetres\n",
"beeta=(lambda*D)/d;\n",
"printf('the fringe width is %f cm',beeta);"
   ]
   }
,
{
		   "cell_type": "markdown",
		   "metadata": {},
		   "source": [
			"## Example 1.6: To_determine_the_wavelength_of_source_of_light.sce"
		   ]
		  },
  {
"cell_type": "code",
	   "execution_count": null,
	   "metadata": {
	    "collapsed": true
	   },
	   "outputs": [],
"source": [
"//clc();\n",
"clear;\n",
"// To determine the wavelength of source of light\n",
"beeta=0.30;       // fringe spacing in centimtres\n",
"d=0.04;        // distance between two slits in centimtres\n",
"D=180;        // distance between the slit and screen in centimetres\n",
"lambda=(beeta*d*10^8)/D;\n",
"printf('the wavelength of source of light is %f Armstrong',lambda);"
   ]
   }
,
{
		   "cell_type": "markdown",
		   "metadata": {},
		   "source": [
			"## Example 1.7: To_calculate_the_wavelength_of_monochromatic_light.sce"
		   ]
		  },
  {
"cell_type": "code",
	   "execution_count": null,
	   "metadata": {
	    "collapsed": true
	   },
	   "outputs": [],
"source": [
"//clc();\n",
"clear;\n",
"// To calculate the wavelength of monochromatic light\n",
"beeta=0.04;     // fringe width in centimetres\n",
"d=0.1;         // seperation between slits in centimetres\n",
"D=80;          //distance between slits and screen in centimetres\n",
"lambda=(d*beeta*10^8)/D;\n",
"printf('the wavelength of monochromatic light is %f Armstrong',lambda);"
   ]
   }
,
{
		   "cell_type": "markdown",
		   "metadata": {},
		   "source": [
			"## Example 1.8: To_determine_the_fringe_width.sce"
		   ]
		  },
  {
"cell_type": "code",
	   "execution_count": null,
	   "metadata": {
	    "collapsed": true
	   },
	   "outputs": [],
"source": [
"//clc();\n",
"clear;\n",
"// To determine the fringe width\n",
"lambda=5000*10^(-8);        //wavelength of monochromatic light in centimetres\n",
"d=0.05;          // seperation between two slits in centimetres\n",
"D=50;            // distance between slit and screen in centimetres\n",
"beeta=(lambda*D)/d;\n",
"printf('the fringe width is %f cm',beeta);"
   ]
   }
,
{
		   "cell_type": "markdown",
		   "metadata": {},
		   "source": [
			"## Example 1.9: To_determine_the_thickness_of_a_soap_film.sce"
		   ]
		  },
  {
"cell_type": "code",
	   "execution_count": null,
	   "metadata": {
	    "collapsed": true
	   },
	   "outputs": [],
"source": [
"//clc();\n",
"clear;\n",
"// To determine the thickness of a soap film\n",
"mew=1.33;           //refractive index of soap film\n",
"n=2;\n",
"lambda=7000*10^(-8);       //wavelength of red light in centimetres\n",
"t=(((2*n)+1)*(lambda/2))/(2*mew);\n",
"printf('thickness of the soap film which gives constructive second order interference is %f cm',t);"
   ]
   }
],
"metadata": {
		  "kernelspec": {
		   "display_name": "Scilab",
		   "language": "scilab",
		   "name": "scilab"
		  },
		  "language_info": {
		   "file_extension": ".sce",
		   "help_links": [
			{
			 "text": "MetaKernel Magics",
			 "url": "https://github.com/calysto/metakernel/blob/master/metakernel/magics/README.md"
			}
		   ],
		   "mimetype": "text/x-octave",
		   "name": "scilab",
		   "version": "0.7.1"
		  }
		 },
		 "nbformat": 4,
		 "nbformat_minor": 0
}
