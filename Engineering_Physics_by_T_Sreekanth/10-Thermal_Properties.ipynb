{
"cells": [
 {
		   "cell_type": "markdown",
	   "metadata": {},
	   "source": [
       "# Chapter 10: Thermal Properties"
	   ]
	},
{
		   "cell_type": "markdown",
		   "metadata": {},
		   "source": [
			"## Example 10.1: To_determine_the_specific_heat_per_Kmol_and_highest_lattice_frequency.sce"
		   ]
		  },
  {
"cell_type": "code",
	   "execution_count": null,
	   "metadata": {
	    "collapsed": true
	   },
	   "outputs": [],
"source": [
"//clc();\n",
"clear;\n",
"//To determine the specific heat per Kmol and highest lattice frequency\n",
"T=20;         //specific heat\n",
"Td=1850;          //numerical temperature\n",
"K=1.38*10^-23;\n",
"N=6.02*10^26;\n",
"R=K*N;\n",
"a=%pi^4;\n",
"b=12*a*R*T^3;\n",
"Cv=b/(5*Td^3);\n",
"printf('specific heat in Joule/kmol-k is');\n",
"disp(Cv);\n",
"h=6.626*10^-34;\n",
"Vd=(K*Td)/h;\n",
"printf('highest lattice frquency in sec -1 is');\n",
"disp(Vd);"
   ]
   }
,
{
		   "cell_type": "markdown",
		   "metadata": {},
		   "source": [
			"## Example 10.2: To_estimate_the_heat_required_to_raise_the_temperature.sce"
		   ]
		  },
  {
"cell_type": "code",
	   "execution_count": null,
	   "metadata": {
	    "collapsed": true
	   },
	   "outputs": [],
"source": [
"//clc();\n",
"clear;\n",
"//To estimate the heat required to raise the temperature\n",
"m=2;        //mass in k mol\n",
"TD=281;       //debye's temperature in K\n",
"A=%pi^4;\n",
"R=8.3*10^3;\n",
"function Q=f(T),Q=m*12*A*(R/5)*((T/TD)^3),endfunction\n",
"I=intg(10,50,f)\n",
"printf('the heat required in Joule is');\n",
"disp(I);"
   ]
   }
,
{
		   "cell_type": "markdown",
		   "metadata": {},
		   "source": [
			"## Example 10.3: To_compute_the_lattice_specific_heat_and_estimate_the_electronic_specific_heat.sce"
		   ]
		  },
  {
"cell_type": "code",
	   "execution_count": null,
	   "metadata": {
	    "collapsed": true
	   },
	   "outputs": [],
"source": [
"//clc();\n",
"clear;\n",
"//To compute the lattice specific heat and estimate the electronic specific heat\n",
"T=300;          //specific heat at constant volume\n",
"Td=418;         //debye temperature\n",
"Ef=11.7;        //fermi energy in ev\n",
"R=1.99;\n",
"p1=(%pi)^4;\n",
"Cv=(12*p1*R*(T^3))/(5*(Td^3));\n",
"printf('vibrational specific heat in cal/mol-k is');\n",
"disp(Cv);\n",
"Ef=Ef*4.2*1.6*10^-19;      //converting from eV to cal\n",
"k=5.796*10^-23;         //boltzmann constant in cal/k\n",
"Tf=Ef/k;\n",
"p2=(%pi)^2;\n",
"Ce=(p2*R*T)/(2*Tf);\n",
"printf('electronic specific heat in cal/mol-k is');\n",
"disp(Ce);\n",
"\n",
"//answer in book is wrong"
   ]
   }
,
{
		   "cell_type": "markdown",
		   "metadata": {},
		   "source": [
			"## Example 10.4: To_estimate_the_lattice_heat_capacity.sce"
		   ]
		  },
  {
"cell_type": "code",
	   "execution_count": null,
	   "metadata": {
	    "collapsed": true
	   },
	   "outputs": [],
"source": [
"//clc();\n",
"clear;\n",
"//To estimate the lattice heat capacity\n",
"Td1s1=300;       //debye temperature of s1\n",
"Td2s2=250;       //debye temperature of s2\n",
"Cvs15=0.05;         //heat capacity of s1 at 5k\n",
"Cvs2=Cvs15*(Td1s1/Td2s2)^3;\n",
"printf('lattice heat capacity of s2 in J/mol-k is');\n",
"disp(Cvs2);\n",
"Cvs12=Cvs15*(2/5)^3;\n",
"printf('lattice heat capacity of s1 at 2k in J/mol-k is');\n",
"disp(Cvs12);"
   ]
   }
],
"metadata": {
		  "kernelspec": {
		   "display_name": "Scilab",
		   "language": "scilab",
		   "name": "scilab"
		  },
		  "language_info": {
		   "file_extension": ".sce",
		   "help_links": [
			{
			 "text": "MetaKernel Magics",
			 "url": "https://github.com/calysto/metakernel/blob/master/metakernel/magics/README.md"
			}
		   ],
		   "mimetype": "text/x-octave",
		   "name": "scilab",
		   "version": "0.7.1"
		  }
		 },
		 "nbformat": 4,
		 "nbformat_minor": 0
}
