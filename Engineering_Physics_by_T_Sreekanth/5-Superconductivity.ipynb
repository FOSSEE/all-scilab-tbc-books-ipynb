{
"cells": [
 {
		   "cell_type": "markdown",
	   "metadata": {},
	   "source": [
       "# Chapter 5: Superconductivity"
	   ]
	},
{
		   "cell_type": "markdown",
		   "metadata": {},
		   "source": [
			"## Example 5.10: To_determine_the_maximum_critical_temperature.sce"
		   ]
		  },
  {
"cell_type": "code",
	   "execution_count": null,
	   "metadata": {
	    "collapsed": true
	   },
	   "outputs": [],
"source": [
"//clc();\n",
"clear;\n",
"//To determine the maximum critical temperature\n",
"Tc=8.7;         //first critical temperature in K\n",
"Hc=6*10^5;        //critical magnetic field in A/m at Tc \n",
"H0=3*10^6;        //critical magnetic field in A/m at 0K\n",
"A=1-(Hc/H0);\n",
"T=Tc*sqrt(A);\n",
"printf('maximum critical temperature is %f K',T);\n",
" "
   ]
   }
,
{
		   "cell_type": "markdown",
		   "metadata": {},
		   "source": [
			"## Example 5.1: To_determine_magnitude_of_critical_magnitutic_field.sce"
		   ]
		  },
  {
"cell_type": "code",
	   "execution_count": null,
	   "metadata": {
	    "collapsed": true
	   },
	   "outputs": [],
"source": [
"//clc();\n",
"clear;\n",
"//To determine magnitude of critical magnitutic field\n",
"Tc=7.2;          //critical temperature in K\n",
"H0=6.5*10^3;      //critical magnetic field in A/m\n",
"T=5;              //temperature in K\n",
"A=1-(T/Tc)^2;\n",
"Hc=H0*A;\n",
"printf('magnitude is %f A/m',Hc);"
   ]
   }
,
{
		   "cell_type": "markdown",
		   "metadata": {},
		   "source": [
			"## Example 5.2: To_determine_the_value_of_critical_field.sce"
		   ]
		  },
  {
"cell_type": "code",
	   "execution_count": null,
	   "metadata": {
	    "collapsed": true
	   },
	   "outputs": [],
"source": [
"//clc();\n",
"clear;\n",
"//To determine the value of critical field\n",
"H0=3.2*10^3;        //critical magnetic field in A/m\n",
"Tc=3.5;             //critical temperature in K\n",
"T=2.5;              //temperature in K\n",
"A=1-(T/Tc)^2;\n",
"Hc=H0*A;\n",
"printf('value of critical field is %f A/m',Hc);"
   ]
   }
,
{
		   "cell_type": "markdown",
		   "metadata": {},
		   "source": [
			"## Example 5.3: To_determine_transition_temperature.sce"
		   ]
		  },
  {
"cell_type": "code",
	   "execution_count": null,
	   "metadata": {
	    "collapsed": true
	   },
	   "outputs": [],
"source": [
"//clc();\n",
"clear;\n",
"//To determine transition temperature\n",
"Hc=5*10^3;         //critical magnetic field in A/m\n",
"H0=2*10^4;      //critical field in A/m\n",
"T=6;              //temperature in K\n",
"A=sqrt(1-(Hc/H0));\n",
"Tc=T/A;\n",
"printf('transition temperature is %f K',Tc);"
   ]
   }
,
{
		   "cell_type": "markdown",
		   "metadata": {},
		   "source": [
			"## Example 5.4: To_determine_critical_current_value.sce"
		   ]
		  },
  {
"cell_type": "code",
	   "execution_count": null,
	   "metadata": {
	    "collapsed": true
	   },
	   "outputs": [],
"source": [
"//clc();\n",
"clear;\n",
"//To determine critical current value\n",
"Hc=2*10^3;           //critical magnetic field in A/m\n",
"r=0.02;              //radius of ring in m\n",
"Ic=2*%pi*r*Hc;\n",
"printf('critical current value is %f Amp',Ic);"
   ]
   }
,
{
		   "cell_type": "markdown",
		   "metadata": {},
		   "source": [
			"## Example 5.5: To_determine_isotopic_mass.sce"
		   ]
		  },
  {
"cell_type": "code",
	   "execution_count": null,
	   "metadata": {
	    "collapsed": true
	   },
	   "outputs": [],
"source": [
"//clc();\n",
"clear;\n",
"//To determine isotopic mass\n",
"M1=199.5;         //isotopic mass in a.m.u\n",
"T1=5;             //first critical temperature in K\n",
"T2=5.1;           //second critical temperature in K\n",
"M2=M1*(T1/T2)^2;\n",
"printf('isotopic mass at 5.1 K is %f a.m.u',M2);"
   ]
   }
,
{
		   "cell_type": "markdown",
		   "metadata": {},
		   "source": [
			"## Example 5.6: To_determine_critical_current_for_a_wire.sce"
		   ]
		  },
  {
"cell_type": "code",
	   "execution_count": null,
	   "metadata": {
	    "collapsed": true
	   },
	   "outputs": [],
"source": [
"//clc();\n",
"clear;\n",
"//To determine critical current for a wire\n",
"d=3*10^-3;        //diameter of wire in m\n",
"r=d/2;\n",
"Tc=8;          //critical temperature in K\n",
"H0=5*10^4;      //magnetic field in A/m\n",
"T=5;              //temperature in K\n",
"A=1-(T/Tc)^2;\n",
"Hc=H0*A;\n",
"printf('magnitude is %f A/m',Hc);\n",
"Ic=2*%pi*r*Hc;\n",
"printf('critical current is %f Amp',Ic);"
   ]
   }
,
{
		   "cell_type": "markdown",
		   "metadata": {},
		   "source": [
			"## Example 5.7: To_determine_critical_temperature.sce"
		   ]
		  },
  {
"cell_type": "code",
	   "execution_count": null,
	   "metadata": {
	    "collapsed": true
	   },
	   "outputs": [],
"source": [
"//clc();\n",
"clear;\n",
"//To determine critical temperature\n",
"M1=199.5;          //isotopic mass in a.m.u\n",
"M2=203.4;          //isotopic mass in a.m.u\n",
"Tc1=4.185;         //first critical temperature\n",
"Tc2=Tc1*sqrt(M1/M2);\n",
"printf('critical temperature is %f K',Tc2);"
   ]
   }
,
{
		   "cell_type": "markdown",
		   "metadata": {},
		   "source": [
			"## Example 5.8: To_determine_generating_EM_waves_frequency.sce"
		   ]
		  },
  {
"cell_type": "code",
	   "execution_count": null,
	   "metadata": {
	    "collapsed": true
	   },
	   "outputs": [],
"source": [
"//clc();\n",
"clear;\n",
"//To determine generating EM waves frequency\n",
"V=8.50*10^-6;         //voltage of Josephson junction in V\n",
"e=1.6*10^-19;         //charge of electron in C\n",
"h=6.626*10^-24;       //plank constant\n",
"new=(2*e*V)/h;\n",
"printf('EM waves frequency is %f Hz',new);\n",
"\n",
"//answer in book is wrong"
   ]
   }
,
{
		   "cell_type": "markdown",
		   "metadata": {},
		   "source": [
			"## Example 5.9: To_determine_critical_temperature.sce"
		   ]
		  },
  {
"cell_type": "code",
	   "execution_count": null,
	   "metadata": {
	    "collapsed": true
	   },
	   "outputs": [],
"source": [
"//clc();\n",
"clear;\n",
"//To determine critical temperature\n",
"Tc1=5;          //first critical temperature in K\n",
"P1=1;           //first pressure in mm\n",
"P2=6;           //second pressure in mm\n",
"Tc2=Tc1*(P2/P1);\n",
"printf('critical temperature is %f K',Tc2);"
   ]
   }
],
"metadata": {
		  "kernelspec": {
		   "display_name": "Scilab",
		   "language": "scilab",
		   "name": "scilab"
		  },
		  "language_info": {
		   "file_extension": ".sce",
		   "help_links": [
			{
			 "text": "MetaKernel Magics",
			 "url": "https://github.com/calysto/metakernel/blob/master/metakernel/magics/README.md"
			}
		   ],
		   "mimetype": "text/x-octave",
		   "name": "scilab",
		   "version": "0.7.1"
		  }
		 },
		 "nbformat": 4,
		 "nbformat_minor": 0
}
