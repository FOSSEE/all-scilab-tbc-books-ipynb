{
"cells": [
 {
		   "cell_type": "markdown",
	   "metadata": {},
	   "source": [
       "# Chapter 6: Crystal structure and X ray diffraction"
	   ]
	},
{
		   "cell_type": "markdown",
		   "metadata": {},
		   "source": [
			"## Example 6.10: To_calculate_the_angle_at_which_third_order_reflection_can_occur.sce"
		   ]
		  },
  {
"cell_type": "code",
	   "execution_count": null,
	   "metadata": {
	    "collapsed": true
	   },
	   "outputs": [],
"source": [
"//clc();\n",
"clear;\n",
"//To calculate the angle at which third order reflection can occur\n",
"n=3;      //diffraction order\n",
"lambda=0.79*10^-10;      //wavelength in m\n",
"d=3.04*10^-10;          //spacing in m\n",
"theta=asind((n*lambda)/(2*d));\n",
"printf('braggs angle in degrees is');\n",
"disp(theta);"
   ]
   }
,
{
		   "cell_type": "markdown",
		   "metadata": {},
		   "source": [
			"## Example 6.11: To_calculate_the_glancing_angle.sce"
		   ]
		  },
  {
"cell_type": "code",
	   "execution_count": null,
	   "metadata": {
	    "collapsed": true
	   },
	   "outputs": [],
"source": [
"//clc();\n",
"clear;\n",
"//To calculate the glancing angle\n",
"lambda=0.071*10^-9;        //wavelength in m\n",
"//miller indices of diffraction plane\n",
"h=1;\n",
"k=1;\n",
"l=0;\n",
"a=0.28*10^-9;         //lattice constant in m\n",
"n=2;\n",
"d=a/sqrt((h^2)+(k^2)+(l^2));\n",
"disp(d);\n",
"theta=asind((n*lambda)/(2*d));\n",
"printf('glancing angle in degrees is');\n",
"disp(theta);"
   ]
   }
,
{
		   "cell_type": "markdown",
		   "metadata": {},
		   "source": [
			"## Example 6.12: To_calculate_the_space_of_the_reflecting_plane_and_volume.sce"
		   ]
		  },
  {
"cell_type": "code",
	   "execution_count": null,
	   "metadata": {
	    "collapsed": true
	   },
	   "outputs": [],
"source": [
"//clc();\n",
"clear;\n",
"//To calculate the space of the reflecting plane and volume\n",
"lambda=3*10^-10;      //wavelength in m\n",
"h=1;\n",
"k=0;\n",
"l=0;\n",
"theta=40;          //glancing angle in degrees\n",
"n=1;             //diffraction order\n",
"d=(n*lambda)/(2*sind(theta));\n",
"printf('space of the reflecting plane in m is');\n",
"disp(d);\n",
"x=sqrt(h^2+k^2+l^2);\n",
"a=d*x;\n",
"V=a^3;\n",
"printf('volume of unit cell in m^3 is');\n",
"disp(V);"
   ]
   }
,
{
		   "cell_type": "markdown",
		   "metadata": {},
		   "source": [
			"## Example 6.13: To_calculate_miller_indices_of_reflecting_planes.sce"
		   ]
		  },
  {
"cell_type": "code",
	   "execution_count": null,
	   "metadata": {
	    "collapsed": true
	   },
	   "outputs": [],
"source": [
"//clc();\n",
"clear;\n",
"//To calculate miller indices of reflecting planes\n",
"lambda=0.82;       //wavelength in Angstrom\n",
"theta=75.86;              //glancing angle in degrees\n",
"n=1;        //diffraction order\n",
"a=3;        //lattice constant in Angstrom\n",
"d=(n*lambda)/(2*sind(theta));\n",
"disp(d);\n",
"//but d!=a\n",
"//answer in book is wrong"
   ]
   }
,
{
		   "cell_type": "markdown",
		   "metadata": {},
		   "source": [
			"## Example 6.14: To_calculate_the_inter_planar_spacing_of_reflection_planes.sce"
		   ]
		  },
  {
"cell_type": "code",
	   "execution_count": null,
	   "metadata": {
	    "collapsed": true
	   },
	   "outputs": [],
"source": [
"//clc();\n",
"clear;\n",
"//To calculate the inter planar spacing of reflection planes\n",
"KE=3.76*10^-17;         //kinetic energy of electron in J\n",
"n=1;\n",
"//theta=9.12'.25'\n",
"theta=9.20694;         //by converting to degrees\n",
"h=6.625*10^-34;\n",
"m=9.1*10^-31;\n",
"a=sqrt(2*m*KE);\n",
"lambda=h/a;\n",
"lambda=lambda*10^10;     //converting from metres to angstrom\n",
"disp(lambda);\n",
"d=(n*lambda)/(2*sind(theta));\n",
"printf('inter planar spacing in Angstrom is');\n",
"disp(d);"
   ]
   }
,
{
		   "cell_type": "markdown",
		   "metadata": {},
		   "source": [
			"## Example 6.15: To_calculate_the_wavelength_and_energy_of_X_ray_beam.sce"
		   ]
		  },
  {
"cell_type": "code",
	   "execution_count": null,
	   "metadata": {
	    "collapsed": true
	   },
	   "outputs": [],
"source": [
"//clc();\n",
"clear;\n",
"//To calculate the wavelength and energy of X-ray beam\n",
"theta=27.5;      //diffraction angle in degrees\n",
"n=1;           //diffracted order\n",
"h=1;\n",
"k=1;\n",
"l=1;\n",
"H=6.625*10^-34;      //plancks constant\n",
"c=3*10^10;           //velocity of light\n",
"a=5.63*10^-10;         //lattice constant in m\n",
"d=a/(sqrt(h^2+k^2+l^2));\n",
"lambda=(2*d*sind(theta))/n;\n",
"printf('wavelength in metres is');\n",
"disp(lambda);\n",
"E=(H*c)/lambda;\n",
"E=E/(1.6*10^-19);         //converting from J to eV\n",
"printf('energy of X-ray beam in eV is');\n",
"disp(E);\n",
"\n",
"//answer in book is wrong"
   ]
   }
,
{
		   "cell_type": "markdown",
		   "metadata": {},
		   "source": [
			"## Example 6.16: To_calculate_the_spacing_of_the_crystal.sce"
		   ]
		  },
  {
"cell_type": "code",
	   "execution_count": null,
	   "metadata": {
	    "collapsed": true
	   },
	   "outputs": [],
"source": [
"//clc();\n",
"clear;\n",
"//To calculate the spacing of the crystal\n",
"V=854;        //accelerated voltage in V\n",
"theta=56;       //glancing angle in degrees\n",
"n=1;\n",
"h=6.625*10^-34;\n",
"m=9.1*10^-31;\n",
"e=1.6*10^-19;\n",
"lambda=h/(sqrt(2*m*e*V));\n",
"disp(lambda);       //wavelength in m\n",
"d=(n*lambda)/(2*sind(theta));\n",
"printf('spacing of crystal in metres is');\n",
"disp(d);"
   ]
   }
,
{
		   "cell_type": "markdown",
		   "metadata": {},
		   "source": [
			"## Example 6.17: To_calculate_the_lattice_parameter_of_lead.sce"
		   ]
		  },
  {
"cell_type": "code",
	   "execution_count": null,
	   "metadata": {
	    "collapsed": true
	   },
	   "outputs": [],
"source": [
"//clc();\n",
"clear;\n",
"//To calculate the lattice parameter of lead\n",
"lambda=1.5*10^-10;\n",
"h=2;\n",
"k=0;\n",
"l=2;\n",
"theta=34;     //bragg angle in degrees\n",
"n=1;\n",
"d=(n*lambda)/(2*sind(theta));\n",
"disp(d);\n",
"a=d*(sqrt(h^2+k^2+l^2));\n",
"a=a*10^10;      //converting from metres into angstrom\n",
"printf('lattice parameter in angstrom is');\n",
"disp(a);"
   ]
   }
,
{
		   "cell_type": "markdown",
		   "metadata": {},
		   "source": [
			"## Example 6.18: To_calculate_braggs_angle_for_first_order_of_reflection.sce"
		   ]
		  },
  {
"cell_type": "code",
	   "execution_count": null,
	   "metadata": {
	    "collapsed": true
	   },
	   "outputs": [],
"source": [
"//clc();\n",
"clear;\n",
"//To calculate braggs angle for first order of reflection\n",
"V=5000;        //potential difference in V\n",
"n=1;\n",
"h=1;\n",
"k=1;\n",
"l=1;\n",
"d=0.204*10^-9;     //inter planar spacing in m\n",
"H=6.625*10^-34;     //plancks constant in J\n",
"m=9.1*10^-31;\n",
"e=1.6*10^-19;\n",
"lambda=H/(sqrt(2*m*e*V));\n",
"disp(lambda);\n",
"a=(n*lambda)/(2*d);\n",
"theta=asind(a);\n",
"printf('bragg angle in degrees is');\n",
"disp(theta);"
   ]
   }
,
{
		   "cell_type": "markdown",
		   "metadata": {},
		   "source": [
			"## Example 6.1: To_determine_density.sce"
		   ]
		  },
  {
"cell_type": "code",
	   "execution_count": null,
	   "metadata": {
	    "collapsed": true
	   },
	   "outputs": [],
"source": [
"//clc();\n",
"clear;\n",
"//To determine density\n",
"n=8;                //number of atoms per unit cell\n",
"a=5.6*10^-10;       //lattice constant in m\n",
"M=710.59;           //atomic weight of Germanium in a.m.u\n",
"N=6.02*10^26;       //avagadro number in kg/mol\n",
"rho=(n*M)/(N*a^3);\n",
"printf('density in kg/m^3 is ');\n",
"disp(rho);"
   ]
   }
,
{
		   "cell_type": "markdown",
		   "metadata": {},
		   "source": [
			"## Example 6.2: To_determine_the_lattice_constant.sce"
		   ]
		  },
  {
"cell_type": "code",
	   "execution_count": null,
	   "metadata": {
	    "collapsed": true
	   },
	   "outputs": [],
"source": [
"//clc();\n",
"clear;\n",
"//To determine the lattice constant\n",
"n=2;                //number of atoms per unit cell\n",
"M=55.85;           //atomic weight in a.m.u\n",
"N=6.02*10^26;      //avagadro number in kg/mol\n",
"rho=7860;          //density in kg/m^3; \n",
"a=((n*M)/(N*rho))^(1/3);\n",
"printf('lattice constant in m is ');\n",
"disp(a);\n",
"\n",
"//answer in book is wrong"
   ]
   }
,
{
		   "cell_type": "markdown",
		   "metadata": {},
		   "source": [
			"## Example 6.3: To_determine_the_lattice_constant.sce"
		   ]
		  },
  {
"cell_type": "code",
	   "execution_count": null,
	   "metadata": {
	    "collapsed": true
	   },
	   "outputs": [],
"source": [
"//clc();\n",
"clear;\n",
"//To determine the lattice constant\n",
"n=2;                //number of atoms per unit cell\n",
"M=6.94;           //atomic weight in a.m.u\n",
"N=6.02*10^26;      //avagadro number in kg/mol\n",
"rho=530;          //density in kg/m^3; \n",
"a0=((n*M)/(N*rho))^(1/3);\n",
"a=a0*10^10;\n",
"printf('lattice constant in Armstrong is ');\n",
"disp(a);"
   ]
   }
,
{
		   "cell_type": "markdown",
		   "metadata": {},
		   "source": [
			"## Example 6.4: To_calculate_the_number_of_atoms_per_unit_cell.sce"
		   ]
		  },
  {
"cell_type": "code",
	   "execution_count": null,
	   "metadata": {
	    "collapsed": true
	   },
	   "outputs": [],
"source": [
"//clc();\n",
"clear;\n",
"//To calculate the number of atoms per unit cell\n",
"a=2.9*10^-10;      //lattice parameter in m\n",
"M=55.85;           //molecular weight in kg/m^3\n",
"N=6.02*10^26;      //avagadro number in kg/mol\n",
"rho=7870;          //density in kg/m^3; \n",
"n=(rho*N*(a^3))/M;\n",
"printf('number of atoms is ');\n",
"disp(n);"
   ]
   }
,
{
		   "cell_type": "markdown",
		   "metadata": {},
		   "source": [
			"## Example 6.5: To_calculate_the_density.sce"
		   ]
		  },
  {
"cell_type": "code",
	   "execution_count": null,
	   "metadata": {
	    "collapsed": true
	   },
	   "outputs": [],
"source": [
"//clc();\n",
"clear;\n",
"//To calculate the density\n",
"r=0.1278*10^-9;     //atomic radius in m\n",
"n=4;                //number of atoms per unit volume\n",
"M=63.5;           //atomic weight in a.m.u\n",
"N=6.02*10^26;      //avagadro number in kg/mol\n",
"a=sqrt(8)*r;\n",
"rho=(n*M)/(N*(a^3));\n",
"printf('density in kg/m^3 is ');\n",
"disp(rho);"
   ]
   }
,
{
		   "cell_type": "markdown",
		   "metadata": {},
		   "source": [
			"## Example 6.6: To_calculate_the_percentage_of_volume_change.sce"
		   ]
		  },
  {
"cell_type": "code",
	   "execution_count": null,
	   "metadata": {
	    "collapsed": true
	   },
	   "outputs": [],
"source": [
"//clc();\n",
"clear;\n",
"//To calculate the percentage of volume change\n",
"T=910;         //temperature in C\n",
"r1=1.258;      //initial atomic radius in Armstrong\n",
"r2=1.292;      //latter atomic radius in Armstrong\n",
"a1=(4*r1)/sqrt(3);    //lattice constant in BCC structure\n",
"Vu1=a1^3;    //volume of unit cell of BCC\n",
"n1=2;\n",
"V1=Vu1/n1;\n",
"disp(V1);\n",
"a2=2*sqrt(2)*r2;    //lattice constant in FCC structure\n",
"Vu2=a2^3;    //volume of unit cell of FCC\n",
"n2=4;\n",
"V2=Vu2/n2;\n",
"disp(V2);\n",
"PV=(V1-V2)*100/V2;\n",
"printf('percentage volume change is')\n",
"disp(PV);"
   ]
   }
,
{
		   "cell_type": "markdown",
		   "metadata": {},
		   "source": [
			"## Example 6.7: To_calculate_the_maximum_radius_of_sphere.sce"
		   ]
		  },
  {
"cell_type": "code",
	   "execution_count": null,
	   "metadata": {
	    "collapsed": true
	   },
	   "outputs": [],
"source": [
"//clc();\n",
"clear;\n",
"//To calculate the maximum radius of sphere\n",
"//for FCC structure a=(4*r)/sqrt(2)\n",
"//R=(a/2)-r\n",
"//hence R=0.414*r on simplification"
   ]
   }
,
{
		   "cell_type": "markdown",
		   "metadata": {},
		   "source": [
			"## Example 6.8: To_calculate_the_distance_between_two_adjacent_atoms.sce"
		   ]
		  },
  {
"cell_type": "code",
	   "execution_count": null,
	   "metadata": {
	    "collapsed": true
	   },
	   "outputs": [],
"source": [
"//clc();\n",
"clear;\n",
"//To calculate the distance between two adjacent atoms\n",
"MW=23+35.5;     //Molecular weight of NaCl\n",
"N=6.023*10^23;\n",
"M=MW/N;        //mass of NaCl molecule in gm\n",
"m=2.18;        //mass of unit volume of NaCl in gm\n",
"Nm=m/M;\n",
"disp(Nm);\n",
"Na=2*Nm;       //number of atoms per unit volume\n",
"V=1;          //volume of unit cube in cm^3\n",
"//V=n^3*a^3\n",
"//n^3=Na\n",
"a=(1/Na)^(1/3);\n",
"printf('distance between two adjacent atoms in cm is ')\n",
"disp(a);"
   ]
   }
,
{
		   "cell_type": "markdown",
		   "metadata": {},
		   "source": [
			"## Example 6.9: To_calculate_the_wavelength_of_X_rays_and_maximum_order_of_diffraction.sce"
		   ]
		  },
  {
"cell_type": "code",
	   "execution_count": null,
	   "metadata": {
	    "collapsed": true
	   },
	   "outputs": [],
"source": [
"//clc();\n",
"clear;\n",
"//To calculate the wavelength of X-rays and maximum order of diffraction\n",
"d=0.282*10^-9;          //lattice spacing in m\n",
"theta1=8.58333;     //glancing angle in degrees\n",
"n1=1;\n",
"lambda=(2*d*sind(theta1))/n1;\n",
"printf('wavelength in Armstrong is ');\n",
"disp(lambda);\n",
"theta=90;          //bragg's angle for maximum order of diffraction\n",
"n=(2*d*sind(theta))/lambda;\n",
"printf('maximum order of diffraction possible is ');\n",
"disp(n);"
   ]
   }
],
"metadata": {
		  "kernelspec": {
		   "display_name": "Scilab",
		   "language": "scilab",
		   "name": "scilab"
		  },
		  "language_info": {
		   "file_extension": ".sce",
		   "help_links": [
			{
			 "text": "MetaKernel Magics",
			 "url": "https://github.com/calysto/metakernel/blob/master/metakernel/magics/README.md"
			}
		   ],
		   "mimetype": "text/x-octave",
		   "name": "scilab",
		   "version": "0.7.1"
		  }
		 },
		 "nbformat": 4,
		 "nbformat_minor": 0
}
