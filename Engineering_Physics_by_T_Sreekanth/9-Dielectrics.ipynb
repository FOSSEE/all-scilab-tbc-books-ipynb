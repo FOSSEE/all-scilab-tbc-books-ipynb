{
"cells": [
 {
		   "cell_type": "markdown",
	   "metadata": {},
	   "source": [
       "# Chapter 9: Dielectrics"
	   ]
	},
{
		   "cell_type": "markdown",
		   "metadata": {},
		   "source": [
			"## Example 9.10: To_determine_the_polarisability_of_He_and_its_relative_permittivity.sce"
		   ]
		  },
  {
"cell_type": "code",
	   "execution_count": null,
	   "metadata": {
	    "collapsed": true
	   },
	   "outputs": [],
"source": [
"//clc();\n",
"clear;\n",
"//To determine the polarisability of He and its relative permittivity\n",
"R=0.55*10^-10;        //radius of He atom in m\n",
"N=2.7*10^25;          //density in atoms/m^3;\n",
"epsilon0=8.85*10^-12;\n",
"alphae=4*%pi*epsilon0*R^3;\n",
"printf('polarisability in Fm^2 is ');\n",
"disp(alphae);\n",
"epsilonr=((N*alphae)/epsilon0)+1;\n",
"printf('relative permittivity in Fm^2 is');\n",
"disp(epsilonr);"
   ]
   }
,
{
		   "cell_type": "markdown",
		   "metadata": {},
		   "source": [
			"## Example 9.11: To_determine_field_strength_and_total_dipole_moment.sce"
		   ]
		  },
  {
"cell_type": "code",
	   "execution_count": null,
	   "metadata": {
	    "collapsed": true
	   },
	   "outputs": [],
"source": [
"//clc();\n",
"clear;\n",
"//To determine field strength and total dipole moment\n",
"A=180*10^-4;         //area of capacitor in m\n",
"C=3*10^-6;           //capacitance in F\n",
"epsilonr=8;          //relative permittivity\n",
"V=10;                //potential in V\n",
"epsilon0=8.85*10^-12;\n",
"E=(V*C)/(epsilon0*epsilonr);\n",
"printf('field strength in V/m is');\n",
"disp(E);\n",
"T=epsilon0*(epsilonr-1)*E*A;\n",
"printf('total dipole moment in Coul m is ');\n",
"disp(T);\n",
"\n",
"//answer in book is wrong"
   ]
   }
,
{
		   "cell_type": "markdown",
		   "metadata": {},
		   "source": [
			"## Example 9.1: To_determine_the_electronic_polarisability.sce"
		   ]
		  },
  {
"cell_type": "code",
	   "execution_count": null,
	   "metadata": {
	    "collapsed": true
	   },
	   "outputs": [],
"source": [
"//clc();\n",
"clear;\n",
"//To determine the electronic polarisability\n",
"epsilonr=3.75;        //relative dielectric constant\n",
"T=27;               //temperature in C\n",
"gama=1/3;           //internal field constant\n",
"rho=2050;           //density of sulphur in kg/m^3\n",
"Ma=32;              //atomic weight of sulphur in a.m.u\n",
"epsilon0=8.85*10^-12;\n",
"Na=6.022*10^23;\n",
"A=(epsilonr-1)/(epsilonr+2);\n",
"printf('%f',A);\n",
"alphae=(A*3*epsilon0*Ma)/(rho*Na);\n",
"printf('electronic polarisability of sulphur in Fm^2 is');\n",
"disp(alphae);"
   ]
   }
,
{
		   "cell_type": "markdown",
		   "metadata": {},
		   "source": [
			"## Example 9.2: To_determine_the_capacitance_and_charge_on_the_plates.sce"
		   ]
		  },
  {
"cell_type": "code",
	   "execution_count": null,
	   "metadata": {
	    "collapsed": true
	   },
	   "outputs": [],
"source": [
"//clc();\n",
"clear;\n",
"//To determine the capacitance and charge on the plates\n",
"A=10^-2;            //area of capacitor m^2\n",
"d=10^-2;            //seperation of capacitor plates in m\n",
"V=100;              //potential in V\n",
"epsilon0=8.85*10^-12;\n",
"C=(A*epsilon0)/d;\n",
"C=C*10^12;          //converting into PF\n",
"printf('capacitance of the capacitor is %f PF',C);\n",
"C=8.85*10^-12;\n",
"Q=C*V;\n",
"printf('charge on plates in C is');\n",
"disp(Q);"
   ]
   }
,
{
		   "cell_type": "markdown",
		   "metadata": {},
		   "source": [
			"## Example 9.3: To_determine_the_electronic_polarisability_of_He_atoms.sce"
		   ]
		  },
  {
"cell_type": "code",
	   "execution_count": null,
	   "metadata": {
	    "collapsed": true
	   },
	   "outputs": [],
"source": [
"//clc();\n",
"clear;\n",
"//To determine the electronic polarisability of He atoms\n",
"epsilonr=1.0000684;       //dielectric constant\n",
"N=2.7*10^25;              //number of atoms per unit volume\n",
"epsilon0=8.85*10^-12;\n",
"alphae=(epsilon0*(epsilonr-1))/N;\n",
"printf('electronic polarizability in Fm^2 is ');\n",
"disp(alphae);"
   ]
   }
,
{
		   "cell_type": "markdown",
		   "metadata": {},
		   "source": [
			"## Example 9.4: To_determine_dielectric_constant_of_the_material.sce"
		   ]
		  },
  {
"cell_type": "code",
	   "execution_count": null,
	   "metadata": {
	    "collapsed": true
	   },
	   "outputs": [],
"source": [
"//clc();\n",
"clear;\n",
"//To determine dielectric constant of the material\n",
"N=3*10^28;          //density of atoms in atoms/m^3\n",
"alphae=10^-40;      //electronic constant polarizability in Fm^2\n",
"epsilon0=8.85*10^-12;\n",
"//consider A=(epsilonr-1)/(epsilonr+2)\n",
"A=(N*alphae)/(3*epsilon0);\n",
"epsilonr=((2*A)+1)/(1-A);\n",
"printf('dielectric constant of the material is %f F/m',epsilonr);\n",
"\n",
"//answer in book is wrong"
   ]
   }
,
{
		   "cell_type": "markdown",
		   "metadata": {},
		   "source": [
			"## Example 9.5: To_determine_resultant_voltage_across_the_capacitor.sce"
		   ]
		  },
  {
"cell_type": "code",
	   "execution_count": null,
	   "metadata": {
	    "collapsed": true
	   },
	   "outputs": [],
"source": [
"//clc();\n",
"clear;\n",
"//To determine resultant voltage across the capacitor\n",
"A=650*10^-4;        //area of capacitor plate in m^2\n",
"d=4*10^-2;          //seperation of parallel plate capacitor in m\n",
"Q=2*10^-10;         //charge on capacitor in C\n",
"epsilonr=3.5;       //dielectric constant of material\n",
"epsilon0=8.85*10^-12;\n",
"C=(A*epsilon0)/d;\n",
"disp(C);\n",
"V=Q/C;\n",
"printf('resultant voltage across capacitor in V is ');\n",
"disp(V);"
   ]
   }
,
{
		   "cell_type": "markdown",
		   "metadata": {},
		   "source": [
			"## Example 9.6: To_compute_the_polarisatio.sce"
		   ]
		  },
  {
"cell_type": "code",
	   "execution_count": null,
	   "metadata": {
	    "collapsed": true
	   },
	   "outputs": [],
"source": [
"//clc();\n",
"clear;\n",
"//To compute the polarisation\n",
"A=6.45*10^-4;         //area of capacitor plates in m^2\n",
"d=2*10^-3;            //capacitor plates seperation in m\n",
"V=12;                 //potential in V\n",
"epsilonr=5.0;         //dielectric constant\n",
"N=6.023*10^23;        //avagadro number in mol inverse\n",
"epsilon0=8.85*10^-12;\n",
"alphae=(epsilon0*(epsilonr-1))/N;\n",
"printf('polarisation in Fm^2 is ');\n",
"disp(alphae);\n",
"\n",
"//answer in book is wrong"
   ]
   }
,
{
		   "cell_type": "markdown",
		   "metadata": {},
		   "source": [
			"## Example 9.7: To_determine_the_displacement_when_He_atom_is_subjected_to_a_field.sce"
		   ]
		  },
  {
"cell_type": "code",
	   "execution_count": null,
	   "metadata": {
	    "collapsed": true
	   },
	   "outputs": [],
"source": [
"//clc();\n",
"clear;\n",
"//To determine the displacement when He atom is subjected to a field\n",
"epsilonr=1.0000684;         //dielectric constant\n",
"Na=2.7*10^25;               //density of atoms in atoms/m^3\n",
"E=10^6;          //electric field in V/m\n",
"e=1.6*10^-19;\n",
"Z=2;             //atomic number\n",
"r03=(epsilonr-1)/(4*%pi*Na);\n",
"r0=(r03)^(1/3);\n",
"printf('radius of electron cloud is');\n",
"disp(r0);\n",
"//displacement(X)=(4*pi*epsilon0*E*r03)/(Z*e)\n",
"//but 4*pi*epsilon0=1/(9*10^9). Let A=4*pi*epsilon0\n",
"A=1/(9*(10^9));\n",
"X=(A*E*r03)/(Z*e);\n",
"printf('displacement in metres when He atom is subjected to a field is');\n",
"disp(X);"
   ]
   }
,
{
		   "cell_type": "markdown",
		   "metadata": {},
		   "source": [
			"## Example 9.8: To_determine_the_atomic_polarizability.sce"
		   ]
		  },
  {
"cell_type": "code",
	   "execution_count": null,
	   "metadata": {
	    "collapsed": true
	   },
	   "outputs": [],
"source": [
"//clc();\n",
"clear;\n",
"//To determine the atomic polarizability\n",
"epsilonr=4;        //relative permeability\n",
"epsilon0=8.85*10^-12;\n",
"N=2.08*10^3;       //density of atoms in kg/m^3\n",
"Ma=32;             //atomic weight in a.m.u\n",
"A=(epsilonr-1)/(epsilonr+2);\n",
"disp(A);\n",
"alpha=(A*3*epsilon0)/N;\n",
"printf('atomic polarizability in Fm^2 is');\n",
"disp(alpha);\n",
"\n",
"//answer in book is wrong"
   ]
   }
,
{
		   "cell_type": "markdown",
		   "metadata": {},
		   "source": [
			"## Example 9.9: To_determine_energy_stored_in_the_condenser.sce"
		   ]
		  },
  {
"cell_type": "code",
	   "execution_count": null,
	   "metadata": {
	    "collapsed": true
	   },
	   "outputs": [],
"source": [
"//clc();\n",
"clear;\n",
"//To determine energy stored in the condenser\n",
"C=4*10^-6;         //capacitance of condenser in F\n",
"epsilonr=200;      //relative permeability\n",
"V=2000;            //applied voltage in V\n",
"C0=C/epsilonr;\n",
"disp(C0);\n",
"E=(1/2)*C0*(V);\n",
"printf('energy stored in Joule is')\n",
"disp(E);\n",
"\n",
"//answer in book is wrong"
   ]
   }
],
"metadata": {
		  "kernelspec": {
		   "display_name": "Scilab",
		   "language": "scilab",
		   "name": "scilab"
		  },
		  "language_info": {
		   "file_extension": ".sce",
		   "help_links": [
			{
			 "text": "MetaKernel Magics",
			 "url": "https://github.com/calysto/metakernel/blob/master/metakernel/magics/README.md"
			}
		   ],
		   "mimetype": "text/x-octave",
		   "name": "scilab",
		   "version": "0.7.1"
		  }
		 },
		 "nbformat": 4,
		 "nbformat_minor": 0
}
