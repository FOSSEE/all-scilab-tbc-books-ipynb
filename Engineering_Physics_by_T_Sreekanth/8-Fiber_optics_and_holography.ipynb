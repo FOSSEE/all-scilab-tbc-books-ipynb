{
"cells": [
 {
		   "cell_type": "markdown",
	   "metadata": {},
	   "source": [
       "# Chapter 8: Fiber optics and holography"
	   ]
	},
{
		   "cell_type": "markdown",
		   "metadata": {},
		   "source": [
			"## Example 8.10: To_calculate_numerical_aperture.sce"
		   ]
		  },
  {
"cell_type": "code",
	   "execution_count": null,
	   "metadata": {
	    "collapsed": true
	   },
	   "outputs": [],
"source": [
"//clc();\n",
"clear;\n",
"//To calculate numerical aperture\n",
"theta0=26.80;          //acceptance angle in degrees\n",
"NA=sind(theta0);\n",
"printf('numerical aperture is %f',NA);"
   ]
   }
,
{
		   "cell_type": "markdown",
		   "metadata": {},
		   "source": [
			"## Example 8.1: To_calculate_refractive_index_of_material_of_the_core.sce"
		   ]
		  },
  {
"cell_type": "code",
	   "execution_count": null,
	   "metadata": {
	    "collapsed": true
	   },
	   "outputs": [],
"source": [
"//clc();\n",
"clear;\n",
"//To calculate refractive index of material of the core\n",
"NA=0.39;        //numerical aperture \n",
"delta=0.05;     //fractional index change\n",
"A=sqrt(2*delta);\n",
"n1=NA/A;\n",
"printf('refractive index of the core is %f',n1);"
   ]
   }
,
{
		   "cell_type": "markdown",
		   "metadata": {},
		   "source": [
			"## Example 8.2: To_calculate_the_fractional_index_change.sce"
		   ]
		  },
  {
"cell_type": "code",
	   "execution_count": null,
	   "metadata": {
	    "collapsed": true
	   },
	   "outputs": [],
"source": [
"//clc();\n",
"clear;\n",
"//To calculate the fractional index change \n",
"n1=1.563;          //core refractive index\n",
"n2=1.498;          //cladding refractive index\n",
"delta=(n1-n2)/n1;\n",
"printf('fractional index change is %f',delta);"
   ]
   }
,
{
		   "cell_type": "markdown",
		   "metadata": {},
		   "source": [
			"## Example 8.3: To_calculate_numerical_aperture.sce"
		   ]
		  },
  {
"cell_type": "code",
	   "execution_count": null,
	   "metadata": {
	    "collapsed": true
	   },
	   "outputs": [],
"source": [
"//clc();\n",
"clear;\n",
"//To calculate numerical aperture\n",
"n1=1.55;         //refractive index of core\n",
"n2=1.50;         //refractive index of cladding\n",
"n0=1;\n",
"NA=sqrt(n1^2-n2^2)/n0;\n",
"printf('numerical aperture is %f',NA);"
   ]
   }
,
{
		   "cell_type": "markdown",
		   "metadata": {},
		   "source": [
			"## Example 8.4: To_calculate_angle_of_acceptance.sce"
		   ]
		  },
  {
"cell_type": "code",
	   "execution_count": null,
	   "metadata": {
	    "collapsed": true
	   },
	   "outputs": [],
"source": [
"//clc();\n",
"clear;\n",
"//To calculate angle of acceptance\n",
"n1=1.563;         //refractive index of core\n",
"n2=1.498;         //refractive index of cladding\n",
"NA=sqrt(n1^2-n2^2);\n",
"theta0=asind(NA);\n",
"printf('angle of acceptance is %f degrees',theta0);"
   ]
   }
,
{
		   "cell_type": "markdown",
		   "metadata": {},
		   "source": [
			"## Example 8.5: To_calculate_critical_angle.sce"
		   ]
		  },
  {
"cell_type": "code",
	   "execution_count": null,
	   "metadata": {
	    "collapsed": true
	   },
	   "outputs": [],
"source": [
"//clc();\n",
"clear;\n",
"//To calculate critical angle\n",
"n1=1.53;         //refractive index of core\n",
"n2=1.42;         //refractive index of cladding\n",
"thetac=asind(n2/n1);\n",
"printf('critical angle is %f degrees',thetac);"
   ]
   }
,
{
		   "cell_type": "markdown",
		   "metadata": {},
		   "source": [
			"## Example 8.6: To_calculate_numerical_aperture_and_acceptance_angle.sce"
		   ]
		  },
  {
"cell_type": "code",
	   "execution_count": null,
	   "metadata": {
	    "collapsed": true
	   },
	   "outputs": [],
"source": [
"//clc();\n",
"clear;\n",
"//To calculate numerical aperture and acceptance angle\n",
"n1=1.6;        //refractive index of core\n",
"n2=1.4;        //refractive index of cladding\n",
"n0=1.33;       //water refractive index\n",
"NA=sqrt(n1^2-n2^2)/n0;\n",
"printf('numerical aperture is %f',NA);\n",
"theta0=asind(NA);\n",
"printf('acceptance angle is %f degrees',theta0);"
   ]
   }
,
{
		   "cell_type": "markdown",
		   "metadata": {},
		   "source": [
			"## Example 8.7: To_calculate_fractional_index_change.sce"
		   ]
		  },
  {
"cell_type": "code",
	   "execution_count": null,
	   "metadata": {
	    "collapsed": true
	   },
	   "outputs": [],
"source": [
"//clc();\n",
"clear;\n",
"//To calculate fractional index change\n",
"n1=1.5;          //core refractive index\n",
"n2=1.3;          //cladding refractive index\n",
"delta=(n1-n2)/n1;\n",
"printf('fractional index change is %f',delta);"
   ]
   }
,
{
		   "cell_type": "markdown",
		   "metadata": {},
		   "source": [
			"## Example 8.8: To_calculate_angle_of_refraction_at_the_interface.sce"
		   ]
		  },
  {
"cell_type": "code",
	   "execution_count": null,
	   "metadata": {
	    "collapsed": true
	   },
	   "outputs": [],
"source": [
"//clc();\n",
"clear;\n",
"//To calculate angle of refraction at the interface\n",
"n1=1.6;          //refractive index of medium\n",
"n2=1.55;         //refractive index of core\n",
"theta1=60;       //angle of incidence in degrees\n",
"A=sind(theta1);\n",
"disp(A);\n",
"theta2=asind(n1*A/n2);\n",
"printf('angle of refraction is %f degrees',theta2);\n",
"\n",
"//answer in book is wrong"
   ]
   }
,
{
		   "cell_type": "markdown",
		   "metadata": {},
		   "source": [
			"## Example 8.9: To_calculate_refrative_index_of_core.sce"
		   ]
		  },
  {
"cell_type": "code",
	   "execution_count": null,
	   "metadata": {
	    "collapsed": true
	   },
	   "outputs": [],
"source": [
"//clc();\n",
"clear;\n",
"//To calculate refrative index of core\n",
"delta=0.14;          //fractional index change\n",
"n2=1.3;              //refractive index of cladding\n",
"n1=n2/(1-delta);\n",
"printf('refractive index of core is %f',n1);"
   ]
   }
],
"metadata": {
		  "kernelspec": {
		   "display_name": "Scilab",
		   "language": "scilab",
		   "name": "scilab"
		  },
		  "language_info": {
		   "file_extension": ".sce",
		   "help_links": [
			{
			 "text": "MetaKernel Magics",
			 "url": "https://github.com/calysto/metakernel/blob/master/metakernel/magics/README.md"
			}
		   ],
		   "mimetype": "text/x-octave",
		   "name": "scilab",
		   "version": "0.7.1"
		  }
		 },
		 "nbformat": 4,
		 "nbformat_minor": 0
}
