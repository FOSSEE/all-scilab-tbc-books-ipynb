{
"cells": [
 {
		   "cell_type": "markdown",
	   "metadata": {},
	   "source": [
       "# Chapter 7: Laser"
	   ]
	},
{
		   "cell_type": "markdown",
		   "metadata": {},
		   "source": [
			"## Example 7.1: To_determine_matter_wave_energy.sce"
		   ]
		  },
  {
"cell_type": "code",
	   "execution_count": null,
	   "metadata": {
	    "collapsed": true
	   },
	   "outputs": [],
"source": [
"//clc();\n",
"clear;\n",
"//To determine matter wave energy\n",
"V=3*10^3;        //velocity of matter wave in m/s\n",
"lambda=600*10^-9;        //wavelength in m\n",
"h=6.6*10^-34;            //planck's constant in Js\n",
"E=(h*V)/lambda;\n",
"printf('matter wave energy in J is');\n",
"disp(E);\n",
"\n",
"//answer in book is wrong"
   ]
   }
,
{
		   "cell_type": "markdown",
		   "metadata": {},
		   "source": [
			"## Example 7.2: To_calculate_wavelength_of_emitted_photons.sce"
		   ]
		  },
  {
"cell_type": "code",
	   "execution_count": null,
	   "metadata": {
	    "collapsed": true
	   },
	   "outputs": [],
"source": [
"//clc();\n",
"clear;\n",
"//To calculate wavelength of emitted photons\n",
"Eg=3*1.6*10^-19;            //energy gap in J\n",
"C=3*10^8;        //velocity of photon in m/s\n",
"h=6.6*10^-34;       //plank's constant in Js\n",
"lambda=(h*C)/Eg;\n",
"printf('wavelength of emitted photons in m is');\n",
"disp(lambda);\n",
"lambda=lambda*10^9;       //converting into nm\n",
"printf('wavelength of emitted photons in nm is');\n",
"disp(lambda);\n",
"\n",
"//answer in book is wrong"
   ]
   }
,
{
		   "cell_type": "markdown",
		   "metadata": {},
		   "source": [
			"## Example 7.3: To_determine_the_ratio_in_higher_energy_and_lower_energy.sce"
		   ]
		  },
  {
"cell_type": "code",
	   "execution_count": null,
	   "metadata": {
	    "collapsed": true
	   },
	   "outputs": [],
"source": [
"//clc();\n",
"clear;\n",
"//To determine the ratio in higher energy and lower energy\n",
"Eg=3*1.6*10^-19;         //energy gap in J\n",
"T=50+273;                //temperature in kelvin\n",
"Kb=1.38*10^-23;          //boltzmann constant in J/K\n",
"A=Eg/(Kb*T);\n",
"R=exp(-A);\n",
"printf('ratio in higher energy and lower energy is ');\n",
"disp(R);\n",
"\n",
"//answer in book is wrong"
   ]
   }
,
{
		   "cell_type": "markdown",
		   "metadata": {},
		   "source": [
			"## Example 7.4: To_determine_the_ratio_of_stimulated_emission_rate_to_spontaneous_emission.sce"
		   ]
		  },
  {
"cell_type": "code",
	   "execution_count": null,
	   "metadata": {
	    "collapsed": true
	   },
	   "outputs": [],
"source": [
"//clc();\n",
"clear;\n",
"//To determine the ratio of stimulated emission rate to spontaneous emission \n",
"lambda=0.5*10^-9;         //wavelength in nm\n",
"h=6.626*10^-34;           //plank constant in Js\n",
"T=1000;                   //temperature in K\n",
"Kb=1.381*10^-23;          //boltzmann constant in J/K\n",
"c=3*10^8;\n",
"new=c/lambda;\n",
"disp(new);\n",
"A=(h*new)/(Kb*T);\n",
"disp(A);\n",
"X=1/(exp(A)-1);\n",
"printf('ratio is');\n",
"disp(X);\n",
"\n",
"//answer in book is wrong"
   ]
   }
,
{
		   "cell_type": "markdown",
		   "metadata": {},
		   "source": [
			"## Example 7.5: To_determine_the_wavelength.sce"
		   ]
		  },
  {
"cell_type": "code",
	   "execution_count": null,
	   "metadata": {
	    "collapsed": true
	   },
	   "outputs": [],
"source": [
"//clc();\n",
"clear;\n",
"//To determine the wavelength\n",
"Eg=1.43*1.602*10^-19;        //band gap energy in J\n",
"T=300;                       //temperature in K\n",
"h=6.626*10^-34;\n",
"c=3*10^8;\n",
"lambda=(h*c)/Eg;\n",
"disp(lambda);\n",
"lambda=lambda*10^6;        //converting into micrometre\n",
"printf('the GaAs photodetector will cease to operate above in micrometre is');\n",
"disp(lambda);"
   ]
   }
],
"metadata": {
		  "kernelspec": {
		   "display_name": "Scilab",
		   "language": "scilab",
		   "name": "scilab"
		  },
		  "language_info": {
		   "file_extension": ".sce",
		   "help_links": [
			{
			 "text": "MetaKernel Magics",
			 "url": "https://github.com/calysto/metakernel/blob/master/metakernel/magics/README.md"
			}
		   ],
		   "mimetype": "text/x-octave",
		   "name": "scilab",
		   "version": "0.7.1"
		  }
		 },
		 "nbformat": 4,
		 "nbformat_minor": 0
}
