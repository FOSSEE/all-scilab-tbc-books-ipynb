{
"cells": [
 {
		   "cell_type": "markdown",
	   "metadata": {},
	   "source": [
       "# Chapter 4: Magnetic properties"
	   ]
	},
{
		   "cell_type": "markdown",
		   "metadata": {},
		   "source": [
			"## Example 4.10: To_determine_hysteresis_power_loss_in_watt_per_cubic_meter_and_in_watt_per_kg.sce"
		   ]
		  },
  {
"cell_type": "code",
	   "execution_count": null,
	   "metadata": {
	    "collapsed": true
	   },
	   "outputs": [],
"source": [
"//clc();\n",
"clear;\n",
"//To determine hysteresis power loss in watt per cubic meter and in watt per kg\n",
"HC=200;          //hysteresis loss per cycle in J/m^3\n",
"A=7650;          //atomic weight in kg/m^3\n",
"M=100;           //magnetisation cycles per sec\n",
"L=HC*M;\n",
"P=L/A;\n",
"printf('hysteresis power loss per second is %f watt/m^3',L);\n",
"printf('power loss is %f watt/kg',P);"
   ]
   }
,
{
		   "cell_type": "markdown",
		   "metadata": {},
		   "source": [
			"## Example 4.1: To_determine_the_change_in_magnetic_moment.sce"
		   ]
		  },
  {
"cell_type": "code",
	   "execution_count": null,
	   "metadata": {
	    "collapsed": true
	   },
	   "outputs": [],
"source": [
"//clc();\n",
"clear;\n",
"//To determine the change in magnetic moment\n",
"r=0.052*(10^-9);            //radius of orbit in m\n",
"B=1;                     //magnetic field of induction in Web/m^2\n",
"e=1.6*(10^-19);            //electron charge in C\n",
"m=9.1*(10^-31);            //mass of electron in kg\n",
"A=(e^2)*(r^2)*B;\n",
"dmew=A/(4*m);\n",
"printf('change in magnetic moment is');\n",
"disp(dmew);\n",
"\n",
"//answer in book is wrong"
   ]
   }
,
{
		   "cell_type": "markdown",
		   "metadata": {},
		   "source": [
			"## Example 4.2: To_determine_intensity_of_magnetisation_and_magnetic_flux_density.sce"
		   ]
		  },
  {
"cell_type": "code",
	   "execution_count": null,
	   "metadata": {
	    "collapsed": true
	   },
	   "outputs": [],
"source": [
"//clc();\n",
"clear;\n",
"//To determine intensity of magnetisation and magnetic flux density\n",
"ki=-0.5*10^-5;            //magnetic susceptibility\n",
"H=9.9*10^4;               //magnetic field of intensity in Amp/m\n",
"I=ki*H;\n",
"mew0=(4*%pi*10^-7);        //mew0 in H/m\n",
"B=mew0*H*(1+ki);\n",
"printf('intensity of magnetisation is %f amp/m',I);\n",
"printf('magnetic flux density is %f wb/m^2',B);\n",
"\n",
"//answer in book is wrong"
   ]
   }
,
{
		   "cell_type": "markdown",
		   "metadata": {},
		   "source": [
			"## Example 4.3: To_determine_relative_permeability_of_a_ferromagnetic_material.sce"
		   ]
		  },
  {
"cell_type": "code",
	   "execution_count": null,
	   "metadata": {
	    "collapsed": true
	   },
	   "outputs": [],
"source": [
"//clc();\n",
"clear;\n",
"//To determine relative permeability of a ferromagnetic material\n",
"H=220;         //magnetic field strength in amp/m\n",
"I=3300;        //magnetisation in amp/m\n",
"mewr=1+(I/H);\n",
"printf('relative permeability is %f',mewr);"
   ]
   }
,
{
		   "cell_type": "markdown",
		   "metadata": {},
		   "source": [
			"## Example 4.4: To_determine_magnetic_induction_and_dipole_moment.sce"
		   ]
		  },
  {
"cell_type": "code",
	   "execution_count": null,
	   "metadata": {
	    "collapsed": true
	   },
	   "outputs": [],
"source": [
"//clc();\n",
"clear;\n",
"//To determine magnetic induction and dipole moment\n",
"r=6.1*10^-11;           //radius of hydrogen atom in m\n",
"new=8.8*10^15;          //frequency in revolution per sec\n",
"e=1.6*10^-19;           //electron charge in C\n",
"i=e*new;\n",
"mew0=(4*%pi*10^-7);        //mew0 in H/m\n",
"B=(mew0*i)/(2*r);\n",
"mew=i*%pi*(r^2);\n",
"printf('magnetic induction at the centre is %f Web/m^2',B);\n",
"printf('dipole moment in amp m^2 is');\n",
"disp(mew);"
   ]
   }
,
{
		   "cell_type": "markdown",
		   "metadata": {},
		   "source": [
			"## Example 4.5: To_determine_average_number_of_Bohr_magnetons.sce"
		   ]
		  },
  {
"cell_type": "code",
	   "execution_count": null,
	   "metadata": {
	    "collapsed": true
	   },
	   "outputs": [],
"source": [
"//clc();\n",
"clear;\n",
"//To determine average number of Bohr magnetons\n",
"Is=1.96*10^6;         //saturation magnetisation in amp/m\n",
"a=3;            //cube edge of iron\n",
"A0=3*10^-10;       //A0 in m\n",
"mewB=9.27*10^-24;        //bohr magneton in amp/m^2\n",
"N=2/(A0^a);\n",
"mewbar=Is/N;\n",
"mewAB=mewbar/mewB;\n",
"printf('average number of bohr magnetons is %f Bohr magneton/atom',mewAB); "
   ]
   }
,
{
		   "cell_type": "markdown",
		   "metadata": {},
		   "source": [
			"## Example 4.6: To_determine_magnetic_force_and_relative_permeability_of_material.sce"
		   ]
		  },
  {
"cell_type": "code",
	   "execution_count": null,
	   "metadata": {
	    "collapsed": true
	   },
	   "outputs": [],
"source": [
"//clc();\n",
"clear;\n",
"//To determine magnetic force and relative permeability of material\n",
"I=3000;         //magnetisation in amp/m\n",
"B=0.005;        //flux density in weber/m^2\n",
"mew0=(4*%pi*10^-7);        //mew0 in H/m\n",
"H=(B/mew0)-I;\n",
"mewr=(I/H)+1;\n",
"printf('magnetizing force is %f amp/m',H);\n",
"printf('relative permeability is %f',mewr);"
   ]
   }
,
{
		   "cell_type": "markdown",
		   "metadata": {},
		   "source": [
			"## Example 4.7: To_determine_permeability.sce"
		   ]
		  },
  {
"cell_type": "code",
	   "execution_count": null,
	   "metadata": {
	    "collapsed": true
	   },
	   "outputs": [],
"source": [
"//clc();\n",
"clear;\n",
"//To determine permeability\n",
"H=1800;       //magnetizing field in amp/m\n",
"phi=3*10^-5;        //magnetic flux in wb\n",
"A=0.2*10^-4;        //cross-sectional area in m^2;\n",
"B=phi/A;\n",
"mew=B/H;\n",
"printf('permeability is %f Henry/m',mew);\n",
"\n",
"//answer in book is wrong"
   ]
   }
,
{
		   "cell_type": "markdown",
		   "metadata": {},
		   "source": [
			"## Example 4.8: To_determine_the_magnetic_dipole_moment_and_torque.sce"
		   ]
		  },
  {
"cell_type": "code",
	   "execution_count": null,
	   "metadata": {
	    "collapsed": true
	   },
	   "outputs": [],
"source": [
"//clc();\n",
"clear;\n",
"//To determine the magnetic dipole moment and torque\n",
"r=0.04;       //radius of circular loop in m\n",
"i=1;       //current in A\n",
"B=10^-3;      //magnetic flux density in Wb/m^2\n",
"theta=45;      //angle in degrees\n",
"A=%pi*(r^2);\n",
"mew=i*A;\n",
"tow=i*B*cosd(theta);\n",
"//disp(mew);\n",
"//disp(tow);\n",
"printf('magnetic dipole moment is %f amp m^2',mew);\n",
"printf('torque on the coil is %f Nm',tow);"
   ]
   }
,
{
		   "cell_type": "markdown",
		   "metadata": {},
		   "source": [
			"## Example 4.9: To_determine_the_hysteresis_loss_per_cycle.sce"
		   ]
		  },
  {
"cell_type": "code",
	   "execution_count": null,
	   "metadata": {
	    "collapsed": true
	   },
	   "outputs": [],
"source": [
"//clc();\n",
"clear;\n",
"//To determine the hysteresis loss per cycle\n",
"A=100;         //area of hysteresis loop in m^2\n",
"B=0.01;        //flux density in Wb/m^2\n",
"H=40;          //magnetic field in amp/m\n",
"M=7650;        //atomic weight in kg/m^3\n",
"L=A*B*H;\n",
"printf('hysteresis loss per cycle is %f J/m^3',L);"
   ]
   }
],
"metadata": {
		  "kernelspec": {
		   "display_name": "Scilab",
		   "language": "scilab",
		   "name": "scilab"
		  },
		  "language_info": {
		   "file_extension": ".sce",
		   "help_links": [
			{
			 "text": "MetaKernel Magics",
			 "url": "https://github.com/calysto/metakernel/blob/master/metakernel/magics/README.md"
			}
		   ],
		   "mimetype": "text/x-octave",
		   "name": "scilab",
		   "version": "0.7.1"
		  }
		 },
		 "nbformat": 4,
		 "nbformat_minor": 0
}
