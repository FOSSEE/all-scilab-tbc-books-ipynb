{
"cells": [
 {
		   "cell_type": "markdown",
	   "metadata": {},
	   "source": [
       "# Chapter 3: Acoustics of buildings"
	   ]
	},
{
		   "cell_type": "markdown",
		   "metadata": {},
		   "source": [
			"## Example 3.1: To_determine_the_total_absorption_in_the_hall.sce"
		   ]
		  },
  {
"cell_type": "code",
	   "execution_count": null,
	   "metadata": {
	    "collapsed": true
	   },
	   "outputs": [],
"source": [
"//clc();\n",
"clear;\n",
"//To determine the total absorption in the hall\n",
"V=7500;              //Volume of cinema hall in m^3\n",
"T=1.5;               //Reverberation time in seconds\n",
"A=(0.165*V)/T;\n",
"printf('total absorption in hall is %f O.W.U or Sabine',A);"
   ]
   }
,
{
		   "cell_type": "markdown",
		   "metadata": {},
		   "source": [
			"## Example 3.2: To_determine_reverberation_time_of_hall.sce"
		   ]
		  },
  {
"cell_type": "code",
	   "execution_count": null,
	   "metadata": {
	    "collapsed": true
	   },
	   "outputs": [],
"source": [
"//clc();\n",
"clear;\n",
"//To determine reverberation time of hall\n",
"V=1500;              //Volume of hall in m^3\n",
"S=120;               //Seating capacity\n",
"S1=112;              //Area of plastered wall in m^2\n",
"C1=0.03;             //Coefficient of absorption of plastered wall in O.W.U\n",
"S2=130;              //Area of wooden floor in m^2\n",
"C2=0.06;             //Coefficient of absorption of wooden floor in O.W.U\n",
"S3=20;               //Area of wooden door in m^2\n",
"C3=0.06;             //Coefficient of absorption of wooden door in O.W.U\n",
"S4=170;              //Area of plastered ceiling in m^2\n",
"C4=0.04;             //Coefficient of absorption of plastered ceiling in O.W.U\n",
"S5=100;              //Area of cushioned chairs in m^2\n",
"C5=1.0;              //Coefficient of absorption of cushioned chairs in O.W.U\n",
"S6=120;              //Area of audience in m^2\n",
"C6=4.7;              //Coefficient of absorption of audience in O.W.U\n",
"A1=S1*C1;            //Absorption due to plastered wall\n",
"A2=S2*C2;            //Absorption due to wooden floor\n",
"A3=S3*C3;            //Absorption due to wooden door\n",
"A4=S4*C4;            //Absorption due to plastered ceiling\n",
"A5=S5*C5;            //Absorption due to cushioned chairs\n",
"A6=S6*C6;            //Absorption due to 120 persons\n",
"A=A1+A2+A3+A4+A5;\n",
"T1=(0.165*V)/A;\n",
"printf('Reverberation time when hall is empty is %f sec',T1);\n",
"T2=(0.165*V)/(A6+A);\n",
"printf('Reverberation time when hall is with full capacity of audience is %f sec',T2);\n",
"A7=100*C6;          //Absorption due to 100 persons\n",
"T3=(0.165*V)/(A7+A);\n",
"printf('Reverberation time when hall is with audience occupying only cushioned seats is %f sec',T3);"
   ]
   }
,
{
		   "cell_type": "markdown",
		   "metadata": {},
		   "source": [
			"## Example 3.3: To_determine_average_absorbing_power_of_surfaces.sce"
		   ]
		  },
  {
"cell_type": "code",
	   "execution_count": null,
	   "metadata": {
	    "collapsed": true
	   },
	   "outputs": [],
"source": [
"//clc();\n",
"clear;\n",
"//To determine average absorbing power of surfaces\n",
"V=120000;        //Volume of hall in m^3\n",
"T=1.5;           //Reverberation time in sec\n",
"S=25000;         //Total sound absorbing surface in m^2\n",
"a=(0.165*V)/(T*S);\n",
"printf('average absorbing power of surface is %f O.W.U or sabine',a);"
   ]
   }
,
{
		   "cell_type": "markdown",
		   "metadata": {},
		   "source": [
			"## Example 3.4: To_determine_the_effect_on_reverberation_time.sce"
		   ]
		  },
  {
"cell_type": "code",
	   "execution_count": null,
	   "metadata": {
	    "collapsed": true
	   },
	   "outputs": [],
"source": [
"//clc();\n",
"clear;\n",
"//To determine the effect on reverberation time\n",
"V=2265;         //volume of hall in m^3\n",
"A=92.9;         //Total absorption in m^2\n",
"T1=(0.165*V)/A;\n",
"//when one audien fill the hall then total absorption will be 2*A\n",
"T2=(0.165*V)/(2*A);\n",
"printf('T1=%f sec',T1);\n",
"printf('when one audien fill the hall then total absorption is %f sec',T2);\n",
"printf('thus reverberation time is reduced to one-half of its initial value');"
   ]
   }
,
{
		   "cell_type": "markdown",
		   "metadata": {},
		   "source": [
			"## Example 3.5: To_determine_reverberation_time_of_the_hall.sce"
		   ]
		  },
  {
"cell_type": "code",
	   "execution_count": null,
	   "metadata": {
	    "collapsed": true
	   },
	   "outputs": [],
"source": [
"//clc();\n",
"clear;\n",
"//To determine reverberation time of the hall\n",
"V=1000;            //volume of hall in m^3\n",
"A1=400;            //area of wall in m^2\n",
"A2=100;            //area of floor in m^2\n",
"A3=100;            //area of ceiling in m^2\n",
"N=0.02;            //number of cushion chairs of wall \n",
"a1=0.01;           //absorption coefficient of ceiling\n",
"a2=0.05;           //absorption coefficient of floor\n",
"a3=1.0;            //absorption coefficient of each cushion chair\n",
"T=(0.165*V)/((A1*N)+(A2*a1)+(A2*a2)+(A3*a3))\n",
"printf('reverberation time of the hall is %f sec',T);"
   ]
   }
],
"metadata": {
		  "kernelspec": {
		   "display_name": "Scilab",
		   "language": "scilab",
		   "name": "scilab"
		  },
		  "language_info": {
		   "file_extension": ".sce",
		   "help_links": [
			{
			 "text": "MetaKernel Magics",
			 "url": "https://github.com/calysto/metakernel/blob/master/metakernel/magics/README.md"
			}
		   ],
		   "mimetype": "text/x-octave",
		   "name": "scilab",
		   "version": "0.7.1"
		  }
		 },
		 "nbformat": 4,
		 "nbformat_minor": 0
}
