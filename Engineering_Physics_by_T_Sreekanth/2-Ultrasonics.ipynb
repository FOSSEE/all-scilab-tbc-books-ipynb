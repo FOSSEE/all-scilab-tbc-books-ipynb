{
"cells": [
 {
		   "cell_type": "markdown",
	   "metadata": {},
	   "source": [
       "# Chapter 2: Ultrasonics"
	   ]
	},
{
		   "cell_type": "markdown",
		   "metadata": {},
		   "source": [
			"## Example 2.1: To_determine_the_fundamental_frequency_of_crystal.sce"
		   ]
		  },
  {
"cell_type": "code",
	   "execution_count": null,
	   "metadata": {
	    "collapsed": true
	   },
	   "outputs": [],
"source": [
"//clc();\n",
"clear;\n",
"//To determine the fundamental frequency of crystal\n",
"t=0.002;            //thickness of the crystal in metres\n",
"V=5750;             //velocity of sound waves in metres per sec\n",
"new=V*10^(-6)/(2*t);\n",
"printf('fundamental frequency of the piezo electric crystal is %f MHz',new);\n",
""
   ]
   }
,
{
		   "cell_type": "markdown",
		   "metadata": {},
		   "source": [
			"## Example 2.2: To_determine_the_frequency_of_the_fundamental_note.sce"
		   ]
		  },
  {
"cell_type": "code",
	   "execution_count": null,
	   "metadata": {
	    "collapsed": true
	   },
	   "outputs": [],
"source": [
"//clc();\n",
"clear;\n",
"//To determine the frequency of the fundamental note\n",
"l=3*10^(-3);           //vibrating length in metres\n",
"Y=8*10^10;             //Youngs modulus in N/m^2\n",
"rho=2.5*10^3;          //density of crystal in kg/cm^3\n",
"new=(sqrt(Y/rho))/(2*l);\n",
"printf('the frequency of the fundamental note emitted by piezo-electric crystal is %f Hz',new);"
   ]
   }
,
{
		   "cell_type": "markdown",
		   "metadata": {},
		   "source": [
			"## Example 2.3: To_determine_the_natural_frequency_of_ultrasonic_waves.sce"
		   ]
		  },
  {
"cell_type": "code",
	   "execution_count": null,
	   "metadata": {
	    "collapsed": true
	   },
	   "outputs": [],
"source": [
"//clc();\n",
"clear;\n",
"//To determine the natural frequency of ultrasonic waves\n",
"l=5.5*10^(-3);           //thickness of quartz plate in metres\n",
"Y=8.0*10^10;             //youngs modulus of quartz in N/m^2\n",
"rho=2.65*10^3;           //density in kg/m^3\n",
"new=(sqrt(Y/rho))*10^(-3)/(2*l);\n",
"printf('natural frequency of ultrasonic waves is %f KHz',new);"
   ]
   }
,
{
		   "cell_type": "markdown",
		   "metadata": {},
		   "source": [
			"## Example 2.4: To_determine_the_natural_frequency_of_iron.sce"
		   ]
		  },
  {
"cell_type": "code",
	   "execution_count": null,
	   "metadata": {
	    "collapsed": true
	   },
	   "outputs": [],
"source": [
"//clc();\n",
"clear;\n",
"//To determine the natural frequency of iron\n",
"l=40*10^(-3);           //length of pure iron rod in metres\n",
"rho=7.25*10^3;          //density of pure iron in kg/m^3\n",
"Y=115*10^9;             //youngs modulus in N/m^2\n",
"new=(sqrt(Y/rho))*10^(-3)/(2*l);\n",
"printf('the natural frequency of pure iron is %f KHz',new);"
   ]
   }
,
{
		   "cell_type": "markdown",
		   "metadata": {},
		   "source": [
			"## Example 2.5: To_determine_the_capacitance.sce"
		   ]
		  },
  {
"cell_type": "code",
	   "execution_count": null,
	   "metadata": {
	    "collapsed": true
	   },
	   "outputs": [],
"source": [
"//clc();\n",
"clear;\n",
"//To determine the capacitance\n",
"new=10^6;            //frequency of ultrasonics in Hz\n",
"L=1;                 //Inductance in Henry\n",
"A=4*(%pi^2)*(new^2)*L;\n",
"C=10^12/A;\n",
"printf('the capacitance to produce ultrasonic waves is %f PF',C);"
   ]
   }
,
{
		   "cell_type": "markdown",
		   "metadata": {},
		   "source": [
			"## Example 2.6: To_determine_the_fundamental_frequency.sce"
		   ]
		  },
  {
"cell_type": "code",
	   "execution_count": null,
	   "metadata": {
	    "collapsed": true
	   },
	   "outputs": [],
"source": [
"//clc();\n",
"clear;\n",
"//To determine the fundamental frequency\n",
"l=3*10^(-3);           //vibrating length of piezo electric crystal in metres\n",
"rho=3.5*10^3;          //density of piezo electric crystal in kg/m^3\n",
"Y=8*10^10;             //youngs modulus in N/m^2\n",
"new=((10^-3)*(sqrt(Y/rho))*10^(-3))/(2*l);\n",
"printf('the fundamental frequency is %f Hz',new);"
   ]
   }
,
{
		   "cell_type": "markdown",
		   "metadata": {},
		   "source": [
			"## Example 2.7: To_determine_the_fundamental_frequency.sce"
		   ]
		  },
  {
"cell_type": "code",
	   "execution_count": null,
	   "metadata": {
	    "collapsed": true
	   },
	   "outputs": [],
"source": [
"//clc();\n",
"clear;\n",
"//To determine the fundamental frequency\n",
"t=0.001;           //thickness of the crystal in metres\n",
"rho=2650;          //density of quartz in kg/m^3\n",
"Y=7.9*10^10;             //youngs modulus in N/m^2\n",
"V=sqrt(Y/rho);\n",
"printf('the fundamental frequency is %f m/s',V);\n",
"//For fundamental mode of vibration, the thickness must be equal to lambda/2\n",
"lambda=2*t;\n",
"new=V/lambda;\n",
"printf('the fundamental frequency is %f Hz',new);"
   ]
   }
],
"metadata": {
		  "kernelspec": {
		   "display_name": "Scilab",
		   "language": "scilab",
		   "name": "scilab"
		  },
		  "language_info": {
		   "file_extension": ".sce",
		   "help_links": [
			{
			 "text": "MetaKernel Magics",
			 "url": "https://github.com/calysto/metakernel/blob/master/metakernel/magics/README.md"
			}
		   ],
		   "mimetype": "text/x-octave",
		   "name": "scilab",
		   "version": "0.7.1"
		  }
		 },
		 "nbformat": 4,
		 "nbformat_minor": 0
}
