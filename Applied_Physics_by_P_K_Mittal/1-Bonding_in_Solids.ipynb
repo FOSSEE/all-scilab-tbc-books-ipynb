{
"cells": [
 {
		   "cell_type": "markdown",
	   "metadata": {},
	   "source": [
       "# Chapter 1: Bonding in Solids"
	   ]
	},
{
		   "cell_type": "markdown",
		   "metadata": {},
		   "source": [
			"## Example 1.3: calculate_potential_energy.sce"
		   ]
		  },
  {
"cell_type": "code",
	   "execution_count": null,
	   "metadata": {
	    "collapsed": true
	   },
	   "outputs": [],
"source": [
"//chapter 1\n",
"//example 1.3\n",
"//calculate potential energy\n",
"//page 15\n",
"clear;\n",
"clc;\n",
"//given\n",
"r=2; //in angstrom(distance)\n",
"e=1.6E-19; // in C (charge of electron)\n",
"E_o= 8.85E-12;// absolute premittivity\n",
"//calculate\n",
"r=2*1E-10; // since r is in angstrom\n",
"V=-e^2/(4*%pi*E_o*r); // calculate potential\n",
"printf('\nThe potential energy is \tV=%3.3E J',V);\n",
"V=V/e; // changing to eV\n",
"printf('\nIn electron-Volt,\tV=%.2f eV',V); \n",
"// Note: the answer in the book is wrong due to calculation mistake"
   ]
   }
,
{
		   "cell_type": "markdown",
		   "metadata": {},
		   "source": [
			"## Example 1.4: calculate_bond_energy_for_NaCl.sce"
		   ]
		  },
  {
"cell_type": "code",
	   "execution_count": null,
	   "metadata": {
	    "collapsed": true
	   },
	   "outputs": [],
"source": [
"//chapter 1\n",
"//example 1.4\n",
"//calculate bond energy for NaCl\n",
"//page 15-16\n",
"clear;\n",
"clc;\n",
"//given\n",
"r0=0.236; //in nanometer(interionic distance)\n",
"e=1.6E-19; // in C (charge of electron)\n",
"E_o= 8.85E-12;// absolute premittivity\n",
"N=8; // Born constant\n",
"IE=5.14;// in eV (ionisation energy of sodium)\n",
"EA=3.65;// in eV (electron affinity of Chlorine)\n",
"pi=3.14; // value of pi used in the solution\n",
"//calculate\n",
"r0=r0*1E-9; // since r is in nanometer\n",
"PE=(e^2/(4*pi*E_o*r0))*(1-1/N); // calculate potential energy\n",
"PE=PE/e; //changing unit from J to eV\n",
"printf('\nThe potential energy is\tPE=%.2f eV',PE); \n",
"NE=IE-EA;// calculation of Net energy\n",
"printf('\nThe net energy is\tNE=%.2f eV',NE);\n",
"BE=PE-NE;// calculation of Bond Energy\n",
"printf('\nThe bond energy is\tBE=%.2f eV',BE);\n",
"// Note: (1)-In order to make the answer prcatically feasible and avoid the unusual answer, I have used r_0=0.236 nm instead of 236 nm. because using this value will give very much irrelevant answer.\n",
"//       (2) There is slight variation in the answer due to round off."
   ]
   }
,
{
		   "cell_type": "markdown",
		   "metadata": {},
		   "source": [
			"## Example 1.5: calculate_compressibility.sce"
		   ]
		  },
  {
"cell_type": "code",
	   "execution_count": null,
	   "metadata": {
	    "collapsed": true
	   },
	   "outputs": [],
"source": [
"//chapter 1\n",
"//example 1.5\n",
"//calculate compressibility\n",
"//page 16\n",
"clear;\n",
"clc;\n",
"//given\n",
"r_0=.41; //in mm(lattice constant)\n",
"e=1.6E-19; // in C (charge of electron)\n",
"E_o= 8.85E-12;// absolute premittivity\n",
"n=0.5; // repulsive exponent value\n",
"alpha=1.76; // Madelung constant\n",
"pi=3.14; // value of pi used in the solution\n",
"//calculate\n",
"r=.41*1E-3; // since r is in mm\n",
"Beta=72*pi*E_o*r^4/(alpha*e^2*(n-1)); // calculation compressibility\n",
"printf('\nThe compressibility  is\tBeta=%1.2E ',Beta); \n",
"// Note: the answer in the book is wrong due to calculation mistake"
   ]
   }
,
{
		   "cell_type": "markdown",
		   "metadata": {},
		   "source": [
			"## Example 1.6: calculate_ionic_cohesive_energy_and_atomic_cohesive_energy.sce"
		   ]
		  },
  {
"cell_type": "code",
	   "execution_count": null,
	   "metadata": {
	    "collapsed": true
	   },
	   "outputs": [],
"source": [
"//chapter 1\n",
"//example 1.6\n",
"//calculate ionic cohesive energy and atomic cohesive energy\n",
"//page 16\n",
"clear;\n",
"clc;\n",
"//given\n",
"r_0=3.56; // in Angstrom\n",
"e=1.6E-19; // in C (charge of electron)\n",
"IE=3.89; //in eV (ionisation energy of Cs)\n",
"EA=-3.61; // in eV (electron affinity of Cl)\n",
"n=10.5; // Born constant\n",
"E_o= 8.85E-12;// absolute premittivity\n",
"alpha=1.763; // Madelung constant\n",
"pi=3.14; // value of pi used in the solution\n",
"//calculate\n",
"r_0=r_0*1E-10; // since r is in nanometer\n",
"U=-alpha*(e^2/(4*pi*E_o*r_0))*(1-1/n); // calculate potential energy\n",
"U=U/e; //changing unit from J to eV\n",
"printf('\nThe ionic cohesive energy is\t%.2f eV',U); \n",
"ACE=U+EA+IE; // calculation of atomic cohesive energy\n",
"printf('\nThe atomic cohesive energy is\t%.2f eV',ACE); "
   ]
   }
,
{
		   "cell_type": "markdown",
		   "metadata": {},
		   "source": [
			"## Example 1.7: calculate_contribution_per_ions_to_the_cohesive_energy.sce"
		   ]
		  },
  {
"cell_type": "code",
	   "execution_count": null,
	   "metadata": {
	    "collapsed": true
	   },
	   "outputs": [],
"source": [
"//chapter 1\n",
"//example 1.7\n",
"//calculate contribution per ions to the cohesive energy\n",
"//page 17\n",
"clear;\n",
"clc;\n",
"//given\n",
"r_0=2.81; // in Angstrom\n",
"e=1.6E-19; // in C (charge of electron)\n",
"n=9; // Born constant\n",
"E_o= 8.85E-12;// absolute premittivity\n",
"alpha=1.748; // Madelung constant\n",
"pi=3.14; // value of pi used in the solution\n",
"//calculate\n",
"r_0=r_0*1E-10; // since r is in nanometer\n",
"V=-alpha*(e^2/(4*pi*E_o*r_0))*(1-1/n); // calculate potential energy\n",
"V=V/e; //changing unit from J to eV\n",
"printf('\nThe potential energy is\tV=%.2f eV',V); \n",
"V_1=V/2; // Since only half of the energy contribute per ion to the cohecive energy therfore\n",
"printf('\nThe energy contributing per ions to the cohesive energy is \t%.2f eV',V_1);\n",
" // Note: Answer in the book is wroong due to calculation mistake"
   ]
   }
],
"metadata": {
		  "kernelspec": {
		   "display_name": "Scilab",
		   "language": "scilab",
		   "name": "scilab"
		  },
		  "language_info": {
		   "file_extension": ".sce",
		   "help_links": [
			{
			 "text": "MetaKernel Magics",
			 "url": "https://github.com/calysto/metakernel/blob/master/metakernel/magics/README.md"
			}
		   ],
		   "mimetype": "text/x-octave",
		   "name": "scilab",
		   "version": "0.7.1"
		  }
		 },
		 "nbformat": 4,
		 "nbformat_minor": 0
}
