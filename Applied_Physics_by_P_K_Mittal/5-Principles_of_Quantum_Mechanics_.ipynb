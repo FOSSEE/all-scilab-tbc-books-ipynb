{
"cells": [
 {
		   "cell_type": "markdown",
	   "metadata": {},
	   "source": [
       "# Chapter 5: Principles of Quantum Mechanics "
	   ]
	},
{
		   "cell_type": "markdown",
		   "metadata": {},
		   "source": [
			"## Example 5.10: Calculate_wavelength.sce"
		   ]
		  },
  {
"cell_type": "code",
	   "execution_count": null,
	   "metadata": {
	    "collapsed": true
	   },
	   "outputs": [],
"source": [
"//chapter 5\n",
"//example 5.10\n",
"//Calculate wavelength\n",
"//page 106\n",
"clear;\n",
"clc;\n",
"//given\n",
"V=10000; // in V (Potential)\n",
"//calculate\n",
"lambda=12.27/sqrt(V); // calculation of wavelength in Angstrom\n",
"printf('\nThe wavelength is\t=%.3f Angstrom',lambda);"
   ]
   }
,
{
		   "cell_type": "markdown",
		   "metadata": {},
		   "source": [
			"## Example 5.11: Calculate_glancing_angle.sce"
		   ]
		  },
  {
"cell_type": "code",
	   "execution_count": null,
	   "metadata": {
	    "collapsed": true
	   },
	   "outputs": [],
"source": [
"//chapter 5\n",
"//example 5.11\n",
"//Calculate glancing angle\n",
"//page 107\n",
"clear;\n",
"clc;\n",
"//given\n",
"V=100; // in V (Potential)\n",
"n=1; // order of diffraction\n",
"d=2.15; // in Angstrom (lattice spacing)\n",
"//calculate\n",
"lambda=12.27/sqrt(V); // calculation of wavelength in Angstrom\n",
"printf('\nThe wavelength is\t=%.3f Angstrom',lambda);\n",
"// Since 2*d*sind(theta)=n*lambda\n",
"//therefore we have\n",
"theta=asind(n*lambda/(2*d)); // calculation of glancing angle\n",
"printf('\nThe glancing angle is\t=%.1f degree',theta);\n",
"// Note: In question V=100 eV but the solution is using V=100V in the book and I have also used V=100V"
   ]
   }
,
{
		   "cell_type": "markdown",
		   "metadata": {},
		   "source": [
			"## Example 5.12: Calculate_spacing_of_crystal.sce"
		   ]
		  },
  {
"cell_type": "code",
	   "execution_count": null,
	   "metadata": {
	    "collapsed": true
	   },
	   "outputs": [],
"source": [
"//chapter 5\n",
"//example 5.12\n",
"//Calculate spacing of crystal\n",
"//page 107\n",
"clear;\n",
"clc;\n",
"//given\n",
"V=344; // in V (Potential)\n",
"n=1; // order of diffraction\n",
"theta=60; // in degree (glancing angle)\n",
"//calculate\n",
"lambda=12.27/sqrt(V); // calculation of wavelength in Angstrom\n",
"printf('\nThe wavelength is\t\t=%.3f Angstrom',lambda);\n",
"// Since 2*d*sind(theta)=n*lambda\n",
"//therefore we have\n",
"d=n*lambda/(2*sind(theta)); // calculation of spacing constant\n",
"printf('\nThe spacing of the crystal is\td=%.4f Angstrom',d);"
   ]
   }
,
{
		   "cell_type": "markdown",
		   "metadata": {},
		   "source": [
			"## Example 5.13: Calculate_velocity_of_electro.sce"
		   ]
		  },
  {
"cell_type": "code",
	   "execution_count": null,
	   "metadata": {
	    "collapsed": true
	   },
	   "outputs": [],
"source": [
"//chapter 5\n",
"//example 5.13\n",
"//Calculate velocity of electron\n",
"//page 107-108\n",
"clear;\n",
"clc;\n",
"//given\n",
"r=0.53E-10; // in m (radius of first Bohr orbit)\n",
"h=6.6E-34; // in J-s (Planck's constant)\n",
"m=9.1E-31; // in Kg (mass of electron)\n",
"n=1; // First Bohr orbit\n",
"pi=3.14; // value of pi used in the solution\n",
"//calculate\n",
"// Since 2*pi*r=n*lambda  and  lambda=h/(m*v)\n",
"//Threfore we have v=h*n/(2*pi*r*m)\n",
"v=h*n/(2*pi*r*m); //calculation of velocity\n",
"printf('\nThe velocity of electron is\tv=%1.1E m/s',v);"
   ]
   }
,
{
		   "cell_type": "markdown",
		   "metadata": {},
		   "source": [
			"## Example 5.14: Calculate_uncertainty_in_the_momentum_and_uncertainty_in_the_velocity.sce"
		   ]
		  },
  {
"cell_type": "code",
	   "execution_count": null,
	   "metadata": {
	    "collapsed": true
	   },
	   "outputs": [],
"source": [
"//chapter 5\n",
"//example 5.14\n",
"//Calculate uncertainty in the momentum and uncertainty in the velocity\n",
"//page 108\n",
"clear;\n",
"clc;\n",
"//given\n",
"dx=0.2; // in Angstrom (uncertainty in the position)\n",
"h=6.6E-34; // in J-s (Planck's constant)\n",
"m0=9.1E-31; // in Kg (mass of electron)\n",
"pi=3.14; // value of pi used in the solution\n",
"//calculate\n",
"dx=dx*1E-10; //since dx is in Angstrom\n",
"// Since dx*dp=h/4*pi  (uncertainty relation)\n",
"dp=h/(4*pi*dx); // calculation of uncertainty in the momentum\n",
"printf('\nThe uncertainty in the momentum is\tdp=%1.2E Kg-m/s',dp);\n",
"//since dp=m*dv\n",
"dv=dp/m0; // calculation of uncertainty in the velocity\n",
"printf('\nThe uncertainty in the velocity is\tdv=%1.2E m/s',dv);"
   ]
   }
,
{
		   "cell_type": "markdown",
		   "metadata": {},
		   "source": [
			"## Example 5.15: Compare_uncertainty_in_the_velocity_of_electron_and_proton.sce"
		   ]
		  },
  {
"cell_type": "code",
	   "execution_count": null,
	   "metadata": {
	    "collapsed": true
	   },
	   "outputs": [],
"source": [
"//chapter 5\n",
"//example 5.15\n",
"//Compare uncertainty in the velocity of electron and proton\n",
"//page 108\n",
"clear;\n",
"clc;\n",
"//given\n",
"m_e=9.1E-31; // in Kg (mass of electron)\n",
"m_p=1.67E-27; // in Kg (mass of proton)\n",
"dx_p=1; // in nanometer (uncertainty in position of electron)\n",
"dx_n=1; // in nanometer (uncertainty in position of proton)\n",
"//calculate\n",
"// since dp=h/(4*pi*dx)\n",
"// since h/(4*pi) is constant and dx is same for electron and proton \n",
"// therefor both electron and proton have same uncertainty in the momentum\n",
"// since dv=dp/m  and  dp is same for both\n",
"// therefore dv_e/dv_p=m_p/m_e\n",
"// therefore\n",
"K=m_p/m_e; // ratio of uncertainty in the velocity of electron and proton\n",
"printf('\nThe ratio of uncertainty in the velocity of electron to that of proton is\t=%.f',K);"
   ]
   }
,
{
		   "cell_type": "markdown",
		   "metadata": {},
		   "source": [
			"## Example 5.16: EX5_16.sce"
		   ]
		  },
  {
"cell_type": "code",
	   "execution_count": null,
	   "metadata": {
	    "collapsed": true
	   },
	   "outputs": [],
"source": [
"//chapter 5\n",
"//example 5.16\n",
"//Calculate minimum uncertainty in the momentum and minimum kinetic energy of proton\n",
"//page 108-109\n",
"clear;\n",
"clc;\n",
"//given\n",
"dx=5E-15; // in m (radius of nucleus or uncertainty in the position)\n",
"h=6.6E-34; // in J-s (Planck's constant)\n",
"m=1.67E-27; // in Kg (mass of proton)\n",
"pi=3.14; // value of pi used in the solution\n",
"e=1.6E-19; // in C (charge of electron)\n",
"//calculate\n",
"// Since dx*dp=h/4*pi  (uncertainty relation)\n",
"dp=h/(4*pi*dx); // calculation of uncertainty in the momentum\n",
"printf('\nThe minimum uncertainty in the momentum of proton is\tdp=%1.2E Kg-m/s',dp);\n",
"p=dp; // minimum value of momentum to calculate mimimum kinetic energy\n",
"K=p^2/(2*m); // calculation of minimum kinetic energy of proton\n",
"printf('\nThe minimum kinetic energy of proton is\tK=%1.1E J',K);\n",
"K=K/e; //changing unit from J to eV\n",
"printf('\n\t\t\t\t\t=%1.1E eV',K);\n",
"K=K/1E6; // changing unit from eV to MeV\n",
"printf('\n\t\t\t\t\t=%.1f MeV',K);"
   ]
   }
,
{
		   "cell_type": "markdown",
		   "metadata": {},
		   "source": [
			"## Example 5.17: Calculate_percentage_of_uncertainty_in_the_momentum_of_electron.sce"
		   ]
		  },
  {
"cell_type": "code",
	   "execution_count": null,
	   "metadata": {
	    "collapsed": true
	   },
	   "outputs": [],
"source": [
"//chapter 5\n",
"//example 5.17\n",
"//Calculate percentage of uncertainty in the momentum of electron\n",
"//page 109\n",
"clear;\n",
"clc;\n",
"//given\n",
"K=1; // in KeV (kinetic energy of electron)\n",
"dx=1; // in Angstrom (uncertainty in the position)\n",
"h=6.63E-34; // in J-s (Planck's constant)\n",
"m=9.1E-31; // in Kg (mass of electron)\n",
"pi=3.14; // value of pi used in the solution\n",
"e=1.6E-19; // in C (charge of electron)\n",
"//calculate\n",
"dx=dx*1E-10; // since dx is in Angstrom\n",
"// Since dx*dp=h/4*pi  (uncertainty relation)\n",
"dp=h/(4*pi*dx); // calculation of uncertainty in the momentum\n",
"printf('\nThe uncertainty in the momentum of electron is\tdp=%1.2E Kg-m/s',dp);\n",
"K=K*1E3*1.6E-19; // changing unit from KeV to J\n",
"p=sqrt(2*m*K); // calculation of momentum \n",
"printf('\nThe momentum of electron is\t\t\t p=%1.2E Kg-m/s',p);\n",
"poc=(dp/p)*100; // calculation of percentage of uncertainty\n",
"printf('\nThe percentage of uncertainty in the momentum  is =%.1f',poc);"
   ]
   }
,
{
		   "cell_type": "markdown",
		   "metadata": {},
		   "source": [
			"## Example 5.18: Calculate_uncertainty_in_the_position_of_electron.sce"
		   ]
		  },
  {
"cell_type": "code",
	   "execution_count": null,
	   "metadata": {
	    "collapsed": true
	   },
	   "outputs": [],
"source": [
"//chapter 5\n",
"//example 5.18\n",
"//Calculate uncertainty in the position of electron\n",
"//page 109-110\n",
"clear;\n",
"clc;\n",
"//given\n",
"v=6.6E4; // m/s (speed of electron)\n",
"poc=0.01; // percentage of uncertainty\n",
"h=6.63E-34; // in J-s (Planck's constant)\n",
"m=9E-31; // in Kg (mass of electron)\n",
"pi=3.14; // value of pi used in the solution\n",
"//calculate\n",
"p=m*v; // calculation of momentum\n",
"printf('\nThe momentum of electron is \t\t\tp=%1.2E Kg-m/s',p);\n",
"dp=(poc/100)*p; // calculation of uncertainty in the momentum\n",
"printf('\nThe uncertainty in the momentum of electron is\tdp=%1.2E Kg-m/s',dp);\n",
"// Since dx*dp=h/4*pi  (uncertainty relation)\n",
"dx=h/(4*pi*dp); // calculation of uncertainty in the position\n",
"printf('\nThe uncertainty in the position of electron is\tdx=%1.2E Kg-m/s',dx);\n",
"// Note; solution is incomplete in the book"
   ]
   }
,
{
		   "cell_type": "markdown",
		   "metadata": {},
		   "source": [
			"## Example 5.19: Calculate_uncertainty_in_the_position_of_X_ray_photon.sce"
		   ]
		  },
  {
"cell_type": "code",
	   "execution_count": null,
	   "metadata": {
	    "collapsed": true
	   },
	   "outputs": [],
"source": [
"//chapter 5\n",
"//example 5.19\n",
"//Calculate uncertainty in the position of X-ray photon\n",
"//page 111-112\n",
"clear;\n",
"clc;\n",
"//given\n",
"lambda=1; // in Angstrom (wavelength)\n",
"pi=3.14; // value of pi used in the solution\n",
"dlambda=1E-6; // uncertainty in wavelength\n",
"//calculate\n",
"lambda=lambda*1E-10; // sinc lambda is in Angstrom\n",
"// By uncertainty principle, dx*dp>=h/(4*pi)  --(1)\n",
"// since p=h/lambda  -----(2)\n",
"// Or p*lambda=h \n",
"// diffrentiting this equation\n",
"// p*dlambda+lambda*dp=0\n",
"// dp=-p*dlambda/lambda     ----(3)\n",
"//from (2) and (3)  dp=-h*dlambda/lambda^2   ---(4)\n",
"// from (1) and(4)  dx*dlambda>=lambda^2/4*pi\n",
"// Or dx=lambda^2/(4*pi*dlambda)\n",
"dx=lambda^2/(4*pi*dlambda); //calculation of uncertainty in the position\n",
"printf('\nThe uncertainty in the position of X-ray photon is \tdx=%1.0E m',dx);\n",
"// Note: 1. In the question, wavelength accuracy is given as 1 in 1E8 but in book solution has used 1 in 1E6 and same has been used by me.\n",
"//       2. ANSWEER IS WRONG DUE TO CALCULATION MISTAKE"
   ]
   }
,
{
		   "cell_type": "markdown",
		   "metadata": {},
		   "source": [
			"## Example 5.1: Find_velocity_and_kinetic_energy.sce"
		   ]
		  },
  {
"cell_type": "code",
	   "execution_count": null,
	   "metadata": {
	    "collapsed": true
	   },
	   "outputs": [],
"source": [
"//chapter 5\n",
"//example 5.1\n",
"//Find velocity and kinetic energy\n",
"//page 102-103\n",
"clear;\n",
"clc;\n",
"//given\n",
"lambda=1; //in Angstrom (wavelength)\n",
"m=1.67E-27; // in Kg (mass of neutron)\n",
"h=6.625E-34; // in J-s (Planck's constant)\n",
"e=1.6E-19; // in C (charge of electron)\n",
"//calculate\n",
"lambda=lambda*1E-10; //since lambda is in Angstrom\n",
"// Since lambda=h/(m*v)\n",
"// Therefore we have\n",
"v=h/(m*lambda); //calculation of velocity\n",
"printf('\nThe velocity is \t v=%1.2E m/s',v);\n",
"K=m*v^2/2; //calculation of kinetic energy\n",
"printf('\nThe kinetic energy is\tK=%1.2E J',K);\n",
"K=K/e; //changing unit fro J to eV\n",
"printf('\n\t\t\t=%.4f eV',K);\n",
"//Note: Due to round off, there is slight variation in the answer"
   ]
   }
,
{
		   "cell_type": "markdown",
		   "metadata": {},
		   "source": [
			"## Example 5.20: Compare_minimum_uncertainty_in_the_frequency_of_the_photon.sce"
		   ]
		  },
  {
"cell_type": "code",
	   "execution_count": null,
	   "metadata": {
	    "collapsed": true
	   },
	   "outputs": [],
"source": [
"//chapter 5\n",
"//example 5.20\n",
"//Compare minimum uncertainty in the frequency of the photon \n",
"//page 111\n",
"clear;\n",
"clc;\n",
"//given\n",
"dt=1E-8; // in sec (average life time)\n",
"pi=3.14; // value of pi used in the solution\n",
"//calculate\n",
"// Since dE*dt>=h/(4*pi)  (uncertainty relation for energy)\n",
"// and E=h*v      v is the frequency\n",
"// therefore we have dv>=1/(4*pi*dt)\n",
"dv=1/(4*pi*dt); // calculation of minimum uncertainty in the frequency\n",
"printf('\nThe minimum uncertainty in the frequency of the photon is \tdv=%1.1E sec^-1',dv);"
   ]
   }
,
{
		   "cell_type": "markdown",
		   "metadata": {},
		   "source": [
			"## Example 5.21: Calculate_uncertainty_in_the_energy_of_the_photon.sce"
		   ]
		  },
  {
"cell_type": "code",
	   "execution_count": null,
	   "metadata": {
	    "collapsed": true
	   },
	   "outputs": [],
"source": [
"//chapter 5\n",
"//example 5.21\n",
"//Calculate uncertainty in the energy of the photon \n",
"//page 111\n",
"clear;\n",
"clc;\n",
"//given\n",
"dt=1E-12; // in sec (average life time)\n",
"h=6.63E-34; // in J-s (Planck'c constant)\n",
"pi=3.14; // value of pi used in the solution\n",
"e=1.6*1E-19; // in C (charge of electron)\n",
"//calculate\n",
"// Since dE*dt>=h/(4*pi)  (uncertainty relation for energy)\n",
"dE=h/(4*pi*dt); // calculation of minimum uncertainty in the energy\n",
"printf('\nThe uncertainty in the energy of the photon is \tdE=%1.2E J',dE);\n",
"dE=dE/e; //changing unit from J to eV\n",
"printf('\n\t\t\t\t\t\t  =%1.1E eV',dE);"
   ]
   }
,
{
		   "cell_type": "markdown",
		   "metadata": {},
		   "source": [
			"## Example 5.22: Calculate_minimum_error_in_the_energy.sce"
		   ]
		  },
  {
"cell_type": "code",
	   "execution_count": null,
	   "metadata": {
	    "collapsed": true
	   },
	   "outputs": [],
"source": [
"//chapter 5\n",
"//example 5.22\n",
"//Calculate minimum error in the energy\n",
"//page 111-112\n",
"clear;\n",
"clc;\n",
"//given\n",
"dT=2.5E-14; // in sec (average life time)\n",
"h=6.63E-34; // in J-s (Planck'c constant)\n",
"pi=3.14; // value of pi used in the solution\n",
"e=1.6*1E-19; // in C (charge of electron)\n",
"//calculate\n",
"// Since dE*dt>=h/(4*pi)  (uncertainty relation for energy)\n",
"dE=h/(4*pi*dT); // calculation of minimum uncertainty in the energy\n",
"printf('\nThe uncertainty in the energy of the photon is \tdE=%1.1E J',dE);\n",
"dE=dE/e; //changing unit from J to eV\n",
"printf('\n\t\t\t\t\t\t  =%1.1E eV',dE);"
   ]
   }
,
{
		   "cell_type": "markdown",
		   "metadata": {},
		   "source": [
			"## Example 5.23: Calculate_energy_corresponding_to_the_2nd_and_4th_quantum_states.sce"
		   ]
		  },
  {
"cell_type": "code",
	   "execution_count": null,
	   "metadata": {
	    "collapsed": true
	   },
	   "outputs": [],
"source": [
"//chapter 5\n",
"//example 5.23\n",
"//Calculate energy corresponding to the 2nd and 4th quantum states\n",
"//page 112\n",
"clear;\n",
"clc;\n",
"//given\n",
"a=2; // in Angstrom (length of the box)\n",
"m=9.1E-31; // in Kg (mass of electron)\n",
"h=6.626E-34; // in J-s (Planck'c constant)\n",
"n2=2, n4=4; //  two quantum states\n",
"e=1.6*1E-19; // in C (charge of electron)\n",
"//calculate\n",
"a=a*1E-10; // since a is in Angstrom \n",
"// Since  E_n=n^2*h^2/(8*m*a^2)   (Energy corresponding to nth quantum state)\n",
"E2=n2^2*h^2/(8*m*a^2); // calculation of energy corresponding to the 2nd quantum state\n",
"printf('\nThe energy corresponding to the 2nd quantum state is \tE2=%1.3E J',E2);\n",
"E2=E2/e; //changing unit from J to eV\n",
"printf('\n\t\t\t\t\t\t\t  =%1.4E eV',E2);\n",
"E4=n4^2*h^2/(8*m*a^2); // calculation of energy corresponding to the 4nd quantum state\n",
"printf('\nThe energy corresponding to the 4nd quantum state is \tE4=%1.3E J',E4);\n",
"E4=E4/e; //changing unit from J to eV\n",
"printf('\n\t\t\t\t\t\t\t  =%1.4E eV',E4);\n",
"// Note: The answer in the book is wrong due to calculation mistake"
   ]
   }
,
{
		   "cell_type": "markdown",
		   "metadata": {},
		   "source": [
			"## Example 5.24: Calculate_energy_corresponding_to_the_ground_and_first_two_excited_states.sce"
		   ]
		  },
  {
"cell_type": "code",
	   "execution_count": null,
	   "metadata": {
	    "collapsed": true
	   },
	   "outputs": [],
"source": [
"//chapter 5\n",
"//example 5.24\n",
"//Calculate energy corresponding to the ground and first two excited states\n",
"//page 113\n",
"clear;\n",
"clc;\n",
"//given\n",
"a=1E-10; // in m (width of the well)\n",
"m=9.1E-31; // in Kg (mass of electron)\n",
"h=6.626E-34; // in J-s (Planck'c constant)\n",
"n1=1, n2=2, n3=3; //  ground and first two excited states\n",
"e=1.6*1E-19; // in C (charge of electron)\n",
"//calculate\n",
"// Since  E_n=n^2*h^2/(8*m*a^2)   (Energy corresponding to nth quantum state)\n",
"E1=n1^2*h^2/(8*m*a^2); // calculation of energy corresponding to the Ground state\n",
"printf('\nThe energy corresponding to the ground state is \tE1=%1.3E J',E1);\n",
"E1=E1/e; //changing unit from J to eV\n",
"printf('\n\t\t\t\t\t\t\t  =%.2f eV',E1);\n",
"E2=n2^2*h^2/(8*m*a^2); // calculation of energy corresponding to the 1st excited state\n",
"printf('\nThe energy corresponding to the 1st excited state is \tE2=%1.3E J',E2);\n",
"E2=E2/e; //changing unit from J to eV\n",
"printf('\n\t\t\t\t\t\t\t  =%.2f eV',E2);\n",
"E3=n3^2*h^2/(8*m*a^2); // calculation of energy corresponding to the 2nd excited state\n",
"printf('\nThe energy corresponding to the 2nd excited state is \tE3=%1.3E J',E3);\n",
"E3=E3/e; //changing unit from J to eV\n",
"printf('\n\t\t\t\t\t\t\t  =%.2f eV',E3);\n",
"// Note: There is slight variation in the answer due to round off"
   ]
   }
,
{
		   "cell_type": "markdown",
		   "metadata": {},
		   "source": [
			"## Example 5.25: Calculate_minimum_uncertainty_in_the_velocity_of_electron.sce"
		   ]
		  },
  {
"cell_type": "code",
	   "execution_count": null,
	   "metadata": {
	    "collapsed": true
	   },
	   "outputs": [],
"source": [
"//chapter 5\n",
"//example 5.25\n",
"//Calculate minimum uncertainty in the velocity of electron \n",
"//page 113\n",
"clear;\n",
"clc;\n",
"//given\n",
"dx=1E-8; // in m (length of box or uncertainty in the position)\n",
"h=6.626E-34; // in J-s (Planck'c constant)\n",
"m=9.1E-31; // in Kg (mass of electron)\n",
"//calculate\n",
"// From uncertainty principle dx*dp=h and dp=m*dv\n",
"// therefore we have\n",
"dv=h/(m*dx); // calculation of minimum uncertainty in the velocity\n",
"printf('\nThe minimum uncertainty in the velocity of electron is \t dv=%1.2E m/s',dv);\n",
"dv=dv*1E-3; // changing unit from m/s to Km/s\n",
"printf('\n\t\t\t\t\t\t\t   =%.1f Km/s',dv);\n",
"// Note: There is slight variation in the answer due to round off"
   ]
   }
,
{
		   "cell_type": "markdown",
		   "metadata": {},
		   "source": [
			"## Example 5.26: Calculate_minimum_energy_of_electron.sce"
		   ]
		  },
  {
"cell_type": "code",
	   "execution_count": null,
	   "metadata": {
	    "collapsed": true
	   },
	   "outputs": [],
"source": [
"//chapter 5\n",
"//example 5.26\n",
"//Calculate minimum energy of electron\n",
"//page 113-114\n",
"clear;\n",
"clc;\n",
"//given\n",
"a=4E-10; // in m (length of the box)\n",
"m=9.1E-31; // in Kg (mass of electron)\n",
"h=6.626E-34; // in J-s (Planck'c constant)\n",
"n1=1; //  ground state\n",
"e=1.6*1E-19; // in C (charge of electron)\n",
"//calculate\n",
"// Since  E_n=n^2*h^2/(8*m*a^2)   (Energy corresponding to nth quantum state)\n",
"E1=n1^2*h^2/(8*m*a^2); // calculation of energy corresponding to the ground state\n",
"printf('\nThe minimum energy of electron is \tE1=%1.3E J',E1);\n",
"E1=E1/e; //changing unit from J to eV\n",
"printf('\n\t\t\t\t\t  =%.3f eV',E1);\n",
"// Note: The answer in the book corresponding to J is wrong due to printing error."
   ]
   }
,
{
		   "cell_type": "markdown",
		   "metadata": {},
		   "source": [
			"## Example 5.2: Calculate_deBroglie_wavelength.sce"
		   ]
		  },
  {
"cell_type": "code",
	   "execution_count": null,
	   "metadata": {
	    "collapsed": true
	   },
	   "outputs": [],
"source": [
"//chapter 5\n",
"//example 5.2\n",
"//Calculate de-Broglie wavelength\n",
"//page 103-104\n",
"clear;\n",
"clc;\n",
"//given\n",
"K=50; // in eV (Kinetic energy)\n",
"m0=9.1E-31; // in Kg (mass of electron)\n",
"h=6.625E-34; // in J-s (Planck's constant)\n",
"e=1.6E-19; // in C (charge of electron)\n",
"//calculate\n",
"K=K*e; //changing unit from eV to J\n",
"//Since K=m*v^2/2\n",
"// Therefore v=sqrt(2*K/m)\n",
"// Since lambda=h/(m*v)\n",
"// Therefore we have\n",
"lambda=h/sqrt(2*m0*K); //calculation of wavelength\n",
"printf('\nThe wavelength is\t=%1.3E m',lambda);\n",
"lambda=lambda*1E10; //changing unit from m to Angstrom\n",
"printf('\n\t\t\t=%.3f Angstrom',lambda);"
   ]
   }
,
{
		   "cell_type": "markdown",
		   "metadata": {},
		   "source": [
			"## Example 5.3: Calculate_wavelength.sce"
		   ]
		  },
  {
"cell_type": "code",
	   "execution_count": null,
	   "metadata": {
	    "collapsed": true
	   },
	   "outputs": [],
"source": [
"//chapter 5\n",
"//example 5.3\n",
"//Calculate  wavelength\n",
"//page 104\n",
"clear;\n",
"clc;\n",
"//given\n",
"E=2000; // in eV (Kinetic energy)\n",
"m=9.1E-31; // in Kg (mass of electron)\n",
"h=6.625E-34; // in J-s (Planck's constant)\n",
"e=1.6E-19; // in C (charge of electron)\n",
"//calculate\n",
"E=E*e; //changing unit from eV to J\n",
"//Since E=m*v^2/2\n",
"// Therefore v=sqrt(2*E/m)\n",
"// Since lambda=h/(m*v)\n",
"// Therefore we have\n",
"lambda=h/sqrt(2*m*E); //calculation of wavelength\n",
"printf('\nThe wavelength is\t=%1.3E m',lambda);\n",
"lambda=lambda*1E9; //changing unit from m to nanometer\n",
"printf('\n\t\t\t=%.4f nm',lambda);"
   ]
   }
,
{
		   "cell_type": "markdown",
		   "metadata": {},
		   "source": [
			"## Example 5.4: Calculate_deBroglie_wavelength.sce"
		   ]
		  },
  {
"cell_type": "code",
	   "execution_count": null,
	   "metadata": {
	    "collapsed": true
	   },
	   "outputs": [],
"source": [
"//chapter 5\n",
"//example 5.3\n",
"//Calculate de-Broglie wavelength\n",
"//page 104\n",
"clear;\n",
"clc;\n",
"//given\n",
"m_e=9.1E-31; // in Kg (mass of electron)\n",
"m_n=1.676E-27; // in Kg (mass of neutron)\n",
"h=6.625E-34; // in J-s (Planck's constant)\n",
"c=3E8; // in m/s (velocity of light)\n",
"//calculate\n",
"E_e=m_e*c^2; // rest mass energy of electron\n",
"E_n=2*E_e; // given (kinetic energy of neutron)\n",
"//Since K=m*v^2/2\n",
"// Therefore v=sqrt(2*K/m)\n",
"// Since lambda=h/(m*v)\n",
"// Therefore we have\n",
"lambda=h/sqrt(2*m_n*E_n); //calculation of wavelength\n",
"printf('\nThe wavelength is\t=%1.1E m',lambda);\n",
"lambda=lambda*1E10; //changing unit from m to Angstrom\n",
"printf('\n\t\t\t=%1.1E Angstrom',lambda);"
   ]
   }
,
{
		   "cell_type": "markdown",
		   "metadata": {},
		   "source": [
			"## Example 5.5: Calculate_wavelength.sce"
		   ]
		  },
  {
"cell_type": "code",
	   "execution_count": null,
	   "metadata": {
	    "collapsed": true
	   },
	   "outputs": [],
"source": [
"//chapter 5\n",
"//example 5.4\n",
"//Calculate wavelength\n",
"//page 104\n",
"clear;\n",
"clc;\n",
"//given\n",
"V=1600; // in V (Potential)\n",
"//calculate\n",
"lambda=12.27/sqrt(V); // calculation of wavelength in Angstrom\n",
"printf('\nThe wavelength is\t=%.3f Angstrom',lambda);\n",
"// Note: The answer in the book is wrong due to calculation mistake"
   ]
   }
,
{
		   "cell_type": "markdown",
		   "metadata": {},
		   "source": [
			"## Example 5.6: Calculate_wavelength_for_photon_and_electron.sce"
		   ]
		  },
  {
"cell_type": "code",
	   "execution_count": null,
	   "metadata": {
	    "collapsed": true
	   },
	   "outputs": [],
"source": [
"//chapter 5\n",
"//example 5.6\n",
"//Calculate wavelength for photon and electron\n",
"//page 105\n",
"clear;\n",
"clc;\n",
"//given\n",
"E=1000; // in eV (Kinetic energy of photon)\n",
"K=1000; // in eV (Kinetic energy of electron)\n",
"m0=9.1E-31; // in Kg (mass of electron)\n",
"h=6.6E-34; // in J-s (Planck's constant)\n",
"c=3E8; // in m/s (velocity of light)\n",
"e=1.6E-19; // in C (charge on electron)\n",
"//calculate\n",
"E=E*e; // changing unit from eV to J\n",
"lambda_p=h*c/E; // For photon E=hc/lambda\n",
"printf('\nFor photon,the wavelength is\t=%1.2E m',lambda_p);\n",
"lambda_p=lambda_p*1E10; //changing unit from m to Angstrom\n",
"printf('\n\t\t\t\t=%.1f Angstrom',lambda_p)\n",
"//Since K=m*v^2/2\n",
"// Therefore v=sqrt(2*K/m)\n",
"// Since lambda=h/(m*v)\n",
"// Therefore we have\n",
"K=K*e; // changing unit from eV to J\n",
"lambda_e=h/sqrt(2*m0*K); //calculation of wavelength\n",
"printf('\nFor electron,the wavelength is\t=%1.1E m',lambda_e);\n",
"lambda_e=lambda_e*1E10; //changing unit from m to Angstrom\n",
"printf('\n\t\t\t\t=%.2f Angstrom',lambda_e);\n",
"// Note: The answer in the book is wrong because K=1.6E-16 J but the solution is using K=2.4*E-15 J"
   ]
   }
,
{
		   "cell_type": "markdown",
		   "metadata": {},
		   "source": [
			"## Example 5.7: Calculate_velocity_and_kinetic_energy.sce"
		   ]
		  },
  {
"cell_type": "code",
	   "execution_count": null,
	   "metadata": {
	    "collapsed": true
	   },
	   "outputs": [],
"source": [
"//chapter 5\n",
"//example 5.7\n",
"//Calculate velocity and kinetic energy\n",
"//page 105\n",
"clear;\n",
"clc;\n",
"//given\n",
"lambda=1.66E-10; // in m (wavelength)\n",
"m=9.1E-31; // in Kg (mass of electron)\n",
"h=6.626E-34; // in J-s (Planck's constant)\n",
"e=1.6E-19; // in C (charge on electron)\n",
"//calculate\n",
"// Since lambda=h/(m*v)\n",
"// Therefore we have\n",
"v=h/(m*lambda); // calculation of velocity\n",
"printf('\nThe velocity of electron is \tv=%1.3E m/s',v);\n",
"K=m*v^2/2;//calculation of kinetic energy\n",
"printf('\nThe kinetic energy is \tK=%1.4E J',K);\n",
"K=K/e; // changing unit from J to eV\n",
"printf('\n\t\t\t=%.3f eV',K);\n",
"// Note: The answer in the book for kinetic energy is wrong due to calculation mistake"
   ]
   }
,
{
		   "cell_type": "markdown",
		   "metadata": {},
		   "source": [
			"## Example 5.8: Calculate_deBroglie_wavelength.sce"
		   ]
		  },
  {
"cell_type": "code",
	   "execution_count": null,
	   "metadata": {
	    "collapsed": true
	   },
	   "outputs": [],
"source": [
"//chapter 5\n",
"//example 5.8\n",
"//Calculate de-Broglie wavelength\n",
"//page 106\n",
"clear;\n",
"clc;\n",
"//given\n",
"T=400; // in K (temperature)\n",
"m=6.7E-27; // in Kg (mass of He-atom)\n",
"h=6.6E-34; // in J-s (Planck's constant)\n",
"k=1.376E-23; // in J/degree (Boltzmann constant)\n",
"//calculate\n",
"// Since lambda=h/(m*v)\n",
"// E=mv^2/2;\n",
"// Therefore lambda=h/sqrt(2*m*E)\n",
"//E=kT\n",
"//Therefore lambda=h/sqrt(2*m*k*T)\n",
"lambda=h/sqrt(2*m*k*T)\n",
"printf('\nThe de-Broglie wavelength of He-atom is \t=%1.4E m',lambda);\n",
"lambda=lambda*1E10; //changing unit from m to Angstrom\n",
"printf('\n\t\t\t\t\t\t=%.4f Angstrom',lambda);"
   ]
   }
,
{
		   "cell_type": "markdown",
		   "metadata": {},
		   "source": [
			"## Example 5.9: Calculate_deBroglie_wavelength_of_proton.sce"
		   ]
		  },
  {
"cell_type": "code",
	   "execution_count": null,
	   "metadata": {
	    "collapsed": true
	   },
	   "outputs": [],
"source": [
"//chapter 5\n",
"//example 5.9\n",
"//Calculate de-Broglie wavelength of proton\n",
"//page 106\n",
"clear;\n",
"clc;\n",
"//given\n",
"m_e=9.1E-31; // in Kg (mass of electron)\n",
"m_p=1.6E-27; // in Kg (mass of proton)\n",
"h=6.626E-34; // in J-s (Planck's constant)\n",
"c=3E8; // in m/s (velocity of light)\n",
"//calculate\n",
"E=m_e*c^2; // in J (rest energy of electron)\n",
"// Since lambda=h/(m*v)\n",
"// E=mv^2/2;\n",
"// Therefore lambda=h/sqrt(2*m*E)\n",
"// Also E=m_e*c^2;\n",
"// therefore lambda=h/sqrt(2*m_p*m_e*c^2)\n",
"lambda=h/sqrt(2*m_p*m_e*c^2); // calculation of wavelength\n",
"printf('\nThe de-Broglie wavelength of proton is \t=%1.4E m',lambda);\n",
"lambda=lambda*1E10; //changing unit from m to Angstrom\n",
"printf('\n\t\t\t\t\t=%1.4E Angstrom',lambda);"
   ]
   }
],
"metadata": {
		  "kernelspec": {
		   "display_name": "Scilab",
		   "language": "scilab",
		   "name": "scilab"
		  },
		  "language_info": {
		   "file_extension": ".sce",
		   "help_links": [
			{
			 "text": "MetaKernel Magics",
			 "url": "https://github.com/calysto/metakernel/blob/master/metakernel/magics/README.md"
			}
		   ],
		   "mimetype": "text/x-octave",
		   "name": "scilab",
		   "version": "0.7.1"
		  }
		 },
		 "nbformat": 4,
		 "nbformat_minor": 0
}
