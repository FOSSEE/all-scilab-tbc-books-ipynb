{
"cells": [
 {
		   "cell_type": "markdown",
	   "metadata": {},
	   "source": [
       "# Chapter 9: Semiconductors"
	   ]
	},
{
		   "cell_type": "markdown",
		   "metadata": {},
		   "source": [
			"## Example 9.10: Find_the_electron_and_hole_concentrations_and_the_resistivity.sce"
		   ]
		  },
  {
"cell_type": "code",
	   "execution_count": null,
	   "metadata": {
	    "collapsed": true
	   },
	   "outputs": [],
"source": [
"// chapter 9\n",
"// example 9.10\n",
"// Find the electron and hole concentrations and the resistivity\n",
"// page 276\n",
"clear;\n",
"clc;\n",
"//given\n",
"rho=2300; // in ohm-m (resistivity of pure silicon)\n",
"ue=0.135; // in m^2/V-s (mobility of electron)\n",
"uh=0.048; // in m^2/V-s (mobility of electron)\n",
"Nd=1E19;// in /m^3 (doping concentration)\n",
"e=1.6E-19;// in C (charge of electron)\n",
"//calculate\n",
"// since sigma=ni*e*(ue+uh) and sigma=1/rho\n",
"// therefore ni=1/(rho*e*(ue+uh))\n",
"ni=1/(rho*e*(ue+uh)); // calculation of intrinsic concentration\n",
"ne=Nd; // calculation of electron concentration\n",
"printf('\nThe electron concentration is \tne=%1.1E /m^3',ne);\n",
"nh=ni^2/Nd; // calculation of hole concentration\n",
"printf('\nThe hole concentration is \tnh=%1.1E /m^3',nh);\n",
"sigma=ne*ue*e+nh*uh*e; // calculation of conductivity\n",
"rho=1/sigma; // calculation of resistivity\n",
"printf('\nThe resistivity of the specimen  is \t%.2f  ohm-m',rho);\n",
"\n",
""
   ]
   }
,
{
		   "cell_type": "markdown",
		   "metadata": {},
		   "source": [
			"## Example 9.11: Find_the_conductivity_of_p_type_Ge_crystal.sce"
		   ]
		  },
  {
"cell_type": "code",
	   "execution_count": null,
	   "metadata": {
	    "collapsed": true
	   },
	   "outputs": [],
"source": [
"// chapter 9\n",
"// example 9.11\n",
"// Find the conductivity of p-type Ge crystal\n",
"// page 276-277\n",
"clear;\n",
"clc;\n",
"//given\n",
"uh=1900; // in cm^2/V-s (mobility of electron)\n",
"Na=2E17;// in /m^3 (acceptor doping concentration)\n",
"e=1.6E-19; // in C(charge of electron)\n",
"//calculate\n",
"uh=uh*1E-4; // changing unit from cm^2/V-s to m^2/V-s\n",
"Na=Na*1E6; // changing unit from 1/cm^3 to 1/m^3\n",
"nh=Na; // hole concentration \n",
"// since sigma=ne*ue*e+nh*uh*e and nh>>ne\n",
"// therefore sigma=nh*uh*e\n",
"sigma=nh*uh*e; // calculation of conductivity\n",
"printf('\nThe conductivity of p-type Ge crystal is \t%.f  /ohm-m',sigma);\n",
"// Note: there is slight variation in the answer due to round off calculation"
   ]
   }
,
{
		   "cell_type": "markdown",
		   "metadata": {},
		   "source": [
			"## Example 9.12: Find_the_diffusion_coefficient_of_electron_in_silicon.sce"
		   ]
		  },
  {
"cell_type": "code",
	   "execution_count": null,
	   "metadata": {
	    "collapsed": true
	   },
	   "outputs": [],
"source": [
"// chapter 9\n",
"// example 9.12\n",
"// Find the diffusion co-efficient of electron in silicon\n",
"// page 277\n",
"clear;\n",
"clc;\n",
"//given\n",
"ue=0.19; // in m^2/V-s (mobility of electron)\n",
"T=300; // in K (temperature)\n",
"k=1.38E-23; // in J/K (Boltzmann’s constant)\n",
"e=1.6E-19; // in C(charge of electron)\n",
"//calculate\n",
"Dn=ue*k*T/e; // calculation of diffusion co-efficient\n",
"printf('\nThe diffusion co-efficient of electron in silicon is \tDn=%1.1E m^2/s',Dn);"
   ]
   }
,
{
		   "cell_type": "markdown",
		   "metadata": {},
		   "source": [
			"## Example 9.13: Find_the_probability_of_occupation_of_lowest_level_in_conduction_band.sce"
		   ]
		  },
  {
"cell_type": "code",
	   "execution_count": null,
	   "metadata": {
	    "collapsed": true
	   },
	   "outputs": [],
"source": [
"// chapter 9\n",
"// example 9.13\n",
"// Find the probability of occupation of lowest level in conduction band\n",
"// page 277-278\n",
"clear;\n",
"clc;\n",
"//given\n",
"Eg=0.4; // in eV (Band gap of semiconductor)\n",
"k=1.38E-23; // in J/K (Boltzmann’s constant)\n",
"T1=0; // in degree Celcius (first temperature)\n",
"T2=50; // in degree Celcius (second temperature)\n",
"T3=100; // in degree Celcius (third temperature)\n",
"e=1.602E-19; //in C (charge of electron)\n",
"// calculate\n",
"T1=T1+273; // changing temperature form Celcius to Kelvin\n",
"T2=T2+273; // changing temperature form Celcius to Kelvin\n",
"T3=T3+273; // changing temperature form Celcius to Kelvin\n",
"Eg=Eg*e; // changing unit from eV to Joule\n",
"//Using F_E=1/(1+exp(Eg/2*k*T))\n",
"F_E1=1/(1+exp(Eg/(2*k*T1))); // calculation of probability of occupation of lowest level at 0 degree Celcius\n",
"F_E2=1/(1+exp(Eg/(2*k*T2))); // calculation of probability of occupation of lowest level at 50 degree Celcius\n",
"F_E3=1/(1+exp(Eg/(2*k*T3))); // calculation of probability of occupation of lowest level at 100 degree Celcius\n",
"printf('\nThe probability of occupation of lowest level in conduction band is\n\n');\n",
"printf('\t\t at 0 degree Celcius, F_E=%1.3E eV\n',F_E1);\n",
"printf('\t\t at 50 degree Celcius, F_E=%1.2E eV\n',F_E2);\n",
"printf('\t\t at 100 degree Celcius, F_E=%1.3E eV',F_E3);"
   ]
   }
,
{
		   "cell_type": "markdown",
		   "metadata": {},
		   "source": [
			"## Example 9.14: Find_the_ratio_of_conductivity_at_600K_and_at_300K.sce"
		   ]
		  },
  {
"cell_type": "code",
	   "execution_count": null,
	   "metadata": {
	    "collapsed": true
	   },
	   "outputs": [],
"source": [
"// chapter 9\n",
"// example 9.14\n",
"// Find the ratio of conductivity at 600K and at 300K\n",
"// page 278\n",
"clear;\n",
"clc;\n",
"//given\n",
"Eg=1.2; // in eV (Energy band gap)\n",
"k=1.38E-23; // in J/K (Boltzmann’s constant)\n",
"T1=600, T2=300; // in K (two temperatures)\n",
"e=1.6E-19; // in C (charge of electron)\n",
"// calculate\n",
"Eg=Eg*e; // changing unit from eV to Joule\n",
"// since sigma is proportional to exp(-Eg/(2*k*T))\n",
"// therefore ratio=sigma1/sigma2=exp(-Eg/(2*k*((1/T1)-(1/T2))));\n",
"ratio= exp((-Eg/(2*k))*((1/T1)-(1/T2))); // calculation of ratio of conductivity at 600K and at 300K\n",
"printf('\nThe ratio of conductivity at 600K and at 300K is \t%1.2E',ratio);"
   ]
   }
,
{
		   "cell_type": "markdown",
		   "metadata": {},
		   "source": [
			"## Example 9.15: Find_the_electron_and_hole_densities_and_conductivity_and_the_resistance.sce"
		   ]
		  },
  {
"cell_type": "code",
	   "execution_count": null,
	   "metadata": {
	    "collapsed": true
	   },
	   "outputs": [],
"source": [
"// chapter 9\n",
"// example 9.15\n",
"// Find the electron and hole densities  and conductivity and the resistance\n",
"// page 278-279\n",
"clear;\n",
"clc;\n",
"//given\n",
"ue=0.39; // in m^2/V-s (mobility of electron)\n",
"n=5E13;//  number of donor atoms\n",
"ni=2.4E19; // in atoms/m^3 (intrinsic carrier density)\n",
"l=10; // in mm (length of rod)\n",
"a=1; // in mm (side of square cross-section)\n",
"e=1.6E-19;// in C (charge of electron)\n",
"//calculate\n",
"l=l*1E-3; // changing unit from mm to m\n",
"a=a*1E-3; // changing unit from mm to m\n",
"A=a^2; // calculation of cross-section area\n",
"Nd=n/(l*A); // calculation of donor concentration\n",
"ne=Nd; // calculation of electron density\n",
"nh=ni^2/Nd; // calculation of hole density\n",
"printf('\nThe electron density is \tne=%1.0E /m^3',ne);\n",
"printf('\nThe hole density is \tnh=%1.2E /m^3',nh);\n",
"// since sigma=ne*e*ue+nh*e*ue and since ne>>nh\n",
"// therefore sigma=ne*e*ue\n",
"sigma=ne*e*ue; // calculation of conductivity\n",
"printf('\nThe conductivity is \t%.f /ohm-m',sigma);\n",
"rho=1/sigma; // calculation of resistivity\n",
"R=rho*l/A; // calculation of resistance \n",
"printf('\nThe resistance is \tR=%.f ohm',R);"
   ]
   }
,
{
		   "cell_type": "markdown",
		   "metadata": {},
		   "source": [
			"## Example 9.16: Find_the_mobility_and_density.sce"
		   ]
		  },
  {
"cell_type": "code",
	   "execution_count": null,
	   "metadata": {
	    "collapsed": true
	   },
	   "outputs": [],
"source": [
"// chapter 9\n",
"// example 9.16\n",
"// Find the mobility and density\n",
"// page 279\n",
"clear;\n",
"clc;\n",
"//given\n",
"RH=3.66E-4; // in m^3/C (Hall coefficient)\n",
"rho=8.93E-3; // in ohm-m (resistivity)\n",
"e=1.6E-19; // in C (charge of electron)\n",
"// calculate\n",
"u=RH/rho; // calculation of mobility\n",
"n=1/(RH*e); // calculation of density\n",
"printf('\nThe mobility is \tu=%.4f m^2/(V-s)',u);\n",
"printf('\nThe density is \tn=%1.1E /m^3',n);"
   ]
   }
,
{
		   "cell_type": "markdown",
		   "metadata": {},
		   "source": [
			"## Example 9.17: Find_the_mobility_and_density_of_charge_carrier.sce"
		   ]
		  },
  {
"cell_type": "code",
	   "execution_count": null,
	   "metadata": {
	    "collapsed": true
	   },
	   "outputs": [],
"source": [
"// chapter 9\n",
"// example 9.17\n",
"// Find the mobility and density of charge carrier\n",
"// page 279-280\n",
"clear;\n",
"clc;\n",
"//given\n",
"RH=3.66E-4; // in m^3/C (Hall coefficient)\n",
"rho=8.93E-3; // in ohm-m (resistivity)\n",
"e=1.6E-19; // in C (charge of electron)\n",
"// calculate\n",
"nh=1/(RH*e); // calculation of density of charge carrier\n",
"uh=1/(rho*nh*e); // calculation of mobility of charge carrier\n",
"printf('\nThe density of charge carrier is \tnh=%1.4E /m^3',nh);\n",
"printf('\nThe mobility of charge carrier is \tuh=%.3f m^2/(V-s)',uh);"
   ]
   }
,
{
		   "cell_type": "markdown",
		   "metadata": {},
		   "source": [
			"## Example 9.2: Find_the_temperature_at_which_number_of_electrons_becomes_10_times.sce"
		   ]
		  },
  {
"cell_type": "code",
	   "execution_count": null,
	   "metadata": {
	    "collapsed": true
	   },
	   "outputs": [],
"source": [
"// chapter 9\n",
"// example 9.2\n",
"// Find the temperature at which number of electrons becomes 10 times\n",
"// page 272\n",
"clear;\n",
"clc;\n",
"//given\n",
"Eg=0.67; // in eV (Energy band gap)\n",
"k=1.38E-23; // in J/K (Boltzmann’s constant)\n",
"T1=298; // in K (room temperature)\n",
"e=1.6E-19; // in C (charge of electron)\n",
"K=10; // ratio of number of electrons at different temperature\n",
"// calculate\n",
"Eg=Eg*e; // changing unit from eV to Joule\n",
"// since ne=Ke*exp(-Eg/(2*k*T))\n",
"// and ne/ne1=exp(-Eg/(2*k*T))/exp(-Eg/(2*k*T1)) and ne/ne1=K=10\n",
"// therefore we have 10=exp(-Eg/(2*k*T))/exp(-Eg/(2*k*T1))\n",
"// re-arranging the equation for T, we get T2=1/((1/T1)-((2*k*log(10))/Eg))\n",
"T=1/((1/T1)-((2*k*log(10))/Eg)); // calculation of the temperature\n",
"printf('\nThe temperature at which number of electrons in the conduction band of a semiconductor increases by a factor of 10 is \tT=%.f K',T);\n",
"// Note: there s slight variation in the answer due to round off calculation"
   ]
   }
,
{
		   "cell_type": "markdown",
		   "metadata": {},
		   "source": [
			"## Example 9.3: find_the_resistance_of_intrinsic_germanium.sce"
		   ]
		  },
  {
"cell_type": "code",
	   "execution_count": null,
	   "metadata": {
	    "collapsed": true
	   },
	   "outputs": [],
"source": [
"// chapter 9\n",
"// example 9.3\n",
"// find the resistance of intrinsic germanium\n",
"// page 272-273\n",
"// given\n",
"clear;\n",
"clc;\n",
"ni=2.5E13; // in /cm^3 (intrinsic carrier density)\n",
"ue=3900; // in cm^2/(V-s) (electron mobilities)\n",
"uh=1900; // in cm^2/(V-s) (hole mobilities)\n",
"e=1.6E-19; // in C (charge of electron)\n",
"l=1; // in cm (lenght of the box)\n",
"b=1,h=1; // in mm (dimensions of germanium rod )\n",
"// calculate\n",
"ni=ni*1E6; // changing unit from 1/cm^3 to 1/m^3\n",
"ue=ue*1E-4; // changing unit from cm^2 to m^2\n",
"uh=uh*1E-4; // changing unit from cm^2 to m^2\n",
"sigma=ni*e*(ue+uh); // calculation of conductivity\n",
"rho=1/sigma; // calculation of resistivity\n",
"l=l*1E-2; // changing unit from mm to m for length\n",
"A=(b*1E-3)*(h*1E-3); // changing unit from mm to m for width and height and calculation of cross-sectional area\n",
"R=rho*l/A; // calculation of resistance\n",
"printf('\nThe resistance of intrinsic germanium is \tR=%1.1E ohm',R);\n",
""
   ]
   }
,
{
		   "cell_type": "markdown",
		   "metadata": {},
		   "source": [
			"## Example 9.4: find_the_electrical_conductivity_and_resistivity_of_germanium.sce"
		   ]
		  },
  {
"cell_type": "code",
	   "execution_count": null,
	   "metadata": {
	    "collapsed": true
	   },
	   "outputs": [],
"source": [
"// chapter 9\n",
"// example 9.4\n",
"// find the electrical conductivity and resistivity of germanium\n",
"// page 273\n",
"clear;\n",
"clc;\n",
"// given\n",
"ne=2.5E19; // in /m^3 (electron  density)\n",
"nh=2.5E19; // in /m^3 (hole density)\n",
"ue=0.36; // in m^2/(V-s) (electron mobilities)\n",
"uh=0.17; // in m^2/(V-s) (hole mobilities)\n",
"e=1.6E-19; // in C (charge of electron)\n",
"// calculate\n",
"// since ne=nh=ni,  therefore we have \n",
"ni=nh;\n",
"sigma=ni*e*(ue+uh); // calculation of conductivity\n",
"printf('\nThe conductivity of germanium is  %.2f /ohm-m',sigma);\n",
"rho=1/sigma; // calculation of resistivity\n",
"printf('\nThe resistivity of germanium is  %.2f ohm-m',rho);\n",
"// Note:  In the question, the value of ni has been misprinted as 2.5E-19 /m^3 rather it should be 2.5E19 /m^3. I have used 2.5E19 /m^3\n",
"\n",
""
   ]
   }
,
{
		   "cell_type": "markdown",
		   "metadata": {},
		   "source": [
			"## Example 9.5: find_the_equilibrium_hole_concentration_and_conductivity.sce"
		   ]
		  },
  {
"cell_type": "code",
	   "execution_count": null,
	   "metadata": {
	    "collapsed": true
	   },
	   "outputs": [],
"source": [
"// chapter 9\n",
"// example 9.5\n",
"// find the equilibrium hole concentration and conductivity\n",
"// page 273-274\n",
"clear;\n",
"clc;\n",
"// given\n",
"ni=1.5E16; // in /m^3 (intrinsic carrier density)\n",
"ue=0.135; // in m^2/(V-s) (electron mobilities)\n",
"uh=0.048; // in m^2/(V-s) (hole mobilities)\n",
"e=1.6E-19; // in C (charge of electron)\n",
"ND=1E23; // in atom/m^3 (doping concentration)\n",
"// calculate\n",
"sigma_i=ni*e*(ue+uh); // calculation of intrinsic conductivity\n",
"printf('\nThe intrinsic conductivity for silicon is  %1.2E S',sigma_i);\n",
"sigma=ND*ue*e; // calculation of conductivity after doping\n",
"printf('\n\nThe conductivity after doping with phosphorus atoms is  %1.2E S',sigma);\n",
"rho=ni^2/ND; // calculation of equilibrium hole concentration\n",
"printf('\n\nThe equilibrium hole concentration is  %1.2E /m^3',rho);"
   ]
   }
,
{
		   "cell_type": "markdown",
		   "metadata": {},
		   "source": [
			"## Example 9.6: find_intrinsic_concuctivity_and_doping_conductivity.sce"
		   ]
		  },
  {
"cell_type": "code",
	   "execution_count": null,
	   "metadata": {
	    "collapsed": true
	   },
	   "outputs": [],
"source": [
"// chapter 9\n",
"// example 9.6\n",
"// find intrinsic concuctivity and doping conductivity\n",
"// page 274\n",
"clear;\n",
"clc;\n",
"// given\n",
"ni=1.5E16; // in /m^3 (intrinsic carrier density)\n",
"ue=0.13; // in m^2/(V-s) (electron mobilities)\n",
"uh=0.05; // in m^2/(V-s) (hole mobilities)\n",
"e=1.6E-19; // in C (charge of electron)\n",
"ne=5E20; // in /m^3 (concentration of donor type impurity)\n",
"nh=5E20; // in /m^3 (concentration of acceptor type impurity)\n",
"// calculate\n",
"// part-i\n",
"sigma=ni*e*(ue+uh); // calculation of intrinsic conductivity\n",
"printf('\nThe intrinsic conductivity for silicon is  %1.2E (ohm-m)^-1',sigma);\n",
"// part-ii	\n",
"// since 1 donor atom is in 1E8 Si atoms, hence holes concentration can be neglected\n",
"sigma=ne*e*ue; // calculation of conductivity after doping with donor type impurity\n",
"printf('\n\nThe conductivity after doping with donor type impurity is  %.1f (ohm-m)^-1',sigma);\n",
"// part-iii\n",
"// since 1 acceptor atom is in 1E8 Si atoms, hence electron concentration can be neglected\n",
"sigma=nh*e*uh; // calculation of conductivity after doping with acceptor type impurity\n",
"printf('\n\nThe conductivity after doping with acceptor type impurity is  %.f (ohm-m)^-1',sigma);\n",
"// Note: In question the value of  ne and nh has been misprinted as 5E28 atoms/m^3 which is too big but the solution has used the correct value 5E20 atoms/m^3. I have also used this value. "
   ]
   }
,
{
		   "cell_type": "markdown",
		   "metadata": {},
		   "source": [
			"## Example 9.7: find_density_of_hole_carriers_at_room_temperature.sce"
		   ]
		  },
  {
"cell_type": "code",
	   "execution_count": null,
	   "metadata": {
	    "collapsed": true
	   },
	   "outputs": [],
"source": [
"// chapter 9\n",
"// example 9.7\n",
"// find density of hole carriers at room temperature\n",
"// page 274-275\n",
"clear;\n",
"clc;\n",
"// given\n",
"ni=1E20; // in /m^3 (intrinsic carrier density)\n",
"ND=1E21; // in /m^3 (donor impurity concentration)\n",
"// calculate\n",
"nh=ni^2/ND; // calculation of density of hole carriers at room temperature\n",
"printf('\nThe density of hole carriers at room temperature is \tnh=%1.0E /m^3',nh);\n",
"// Note: answer in the book is wrong due to printing mistake"
   ]
   }
,
{
		   "cell_type": "markdown",
		   "metadata": {},
		   "source": [
			"## Example 9.8: find_intrinsic_carrier_density_and_conductivity_at_300K_in_germanium.sce"
		   ]
		  },
  {
"cell_type": "code",
	   "execution_count": null,
	   "metadata": {
	    "collapsed": true
	   },
	   "outputs": [],
"source": [
"// chapter 9\n",
"// example 9.8\n",
"// find intrinsic carrier density and conductivity at 300K in germanium\n",
"// page 275\n",
"clear;\n",
"clc;\n",
"M=72.6; // atomic mass of germanium\n",
"P=5400; // in Kg/m^3 (density)\n",
"ue=0.4; // in m^2/V-s (mobility of electrons)\n",
"uh=0.2; // in m^2/V-s (mobility of holes)\n",
"Eg=0.7; // in eV (Band gap)\n",
"m=9.1E-31; // in Kg (mass of electron)\n",
"k=1.38E-23; // in J/K (Boltzmann’s constant)\n",
"T=300; // in K (temperature)\n",
"h=6.63E-34;// in J/s (Planck’s constant)\n",
"pi=3.14; // value of pi used in the solution\n",
"e=1.6E-19; // in C(charge of electron)\n",
"// calculate\n",
"Eg=Eg*e; // changing unit from eV to J\n",
"ni=2*(2*pi*m*k*T/h^2)^(3/2)*exp(-Eg/(2*k*T));\n",
"printf('\nThe intrinsic carrier density for germanium at 300K is \tni=%1.1E /m^3',ni);\n",
"sigma=ni*e*(ue+uh);\n",
"printf('\nThe conductivity of germanium is \t%1.2f (ohm-m)^-1',sigma);\n",
"// Note: Answer in the book is wrong due to calculation mistake"
   ]
   }
,
{
		   "cell_type": "markdown",
		   "metadata": {},
		   "source": [
			"## Example 9.9: Find_the_energy_band_gap.sce"
		   ]
		  },
  {
"cell_type": "code",
	   "execution_count": null,
	   "metadata": {
	    "collapsed": true
	   },
	   "outputs": [],
"source": [
"// chapter 9\n",
"// example 9.9\n",
"// Find the energy band gap\n",
"// page 275\n",
"clear;\n",
"clc;\n",
"//given\n",
"rho1=4.5;// in ohm-m (resistivity at 20 degree Celcius)\n",
"rho2=2.0;// in ohm-m (resistivity at 32 degree Celcius)\n",
"k=1.38E-23; // in J/K (Boltzmann’s constant)\n",
"T1=20, T2=32; // in degree Celcius (two temperatures)\n",
"e=1.6E-19; // in C (charge of electron)\n",
"// calculate\n",
"T1=T1+273;// changing unit from degree Celius to K\n",
"T2=T2+273;// changing unit from degree Celius to K\n",
"// since sigma=e*u*C*T^(3/2)*exp(-Eg/(2*k*T))\n",
"// therefore sigma1/sigma2=(T1/T2)^3/2*exp((-Eg/(2*k)*((1/T1)-(1/T2))\n",
"// and sigma=1/rho \n",
"// therefore we have rho2/rho1=(T1/T2)^3/2*exp((-Eg/(2*k)*((1/T1)-(1/T2))\n",
"// re-arranging above equation for Eg, we get Eg=(2*k/((1/T1)-(1/T2)))*((3/2)*log(T1/T2)-log(rho2/rho1))\n",
"Eg=(2*k/((1/T1)-(1/T2)))*((3/2)*log(T1/T2)-log(rho2/rho1));\n",
"printf('\nThe energy band gap is \tEg=%1.2E J',Eg);\n",
"Eg=Eg/e;// changing unit from J to eV\n",
"printf('\n\t\t\t  =%.2f eV',Eg);"
   ]
   }
],
"metadata": {
		  "kernelspec": {
		   "display_name": "Scilab",
		   "language": "scilab",
		   "name": "scilab"
		  },
		  "language_info": {
		   "file_extension": ".sce",
		   "help_links": [
			{
			 "text": "MetaKernel Magics",
			 "url": "https://github.com/calysto/metakernel/blob/master/metakernel/magics/README.md"
			}
		   ],
		   "mimetype": "text/x-octave",
		   "name": "scilab",
		   "version": "0.7.1"
		  }
		 },
		 "nbformat": 4,
		 "nbformat_minor": 0
}
