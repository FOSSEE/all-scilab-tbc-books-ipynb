{
"cells": [
 {
		   "cell_type": "markdown",
	   "metadata": {},
	   "source": [
       "# Chapter 6: Electron Theory and Band Theory of Metals"
	   ]
	},
{
		   "cell_type": "markdown",
		   "metadata": {},
		   "source": [
			"## Example 6.10: Calculate_mobility_of_electrons.sce"
		   ]
		  },
  {
"cell_type": "code",
	   "execution_count": null,
	   "metadata": {
	    "collapsed": true
	   },
	   "outputs": [],
"source": [
"//chapter 6\n",
"//example 6.10\n",
"//Calculate mobility of electrons\n",
"//page 149-150\n",
"clear;\n",
"clc;\n",
"//given\n",
"n=9E28; // in 1/m^3 (density of valence electrons)\n",
"sigma=6E7; // in mho/m (conductivity of copper)\n",
"e=1.6E-19; // in C (charge of electron)\n",
"//calculate\n",
"// Since sigma=n*e*mu  therefore\n",
"mu=sigma/(n*e); // calculation of mobility of electron\n",
"printf('\n\nThe mobility of electrons is \t%1.2E  m^2/V-s',mu);"
   ]
   }
,
{
		   "cell_type": "markdown",
		   "metadata": {},
		   "source": [
			"## Example 6.11: EX6_11.sce"
		   ]
		  },
  {
"cell_type": "code",
	   "execution_count": null,
	   "metadata": {
	    "collapsed": true
	   },
	   "outputs": [],
"source": [
"//chapter 6\n",
"//example 6.11\n",
"//Calculate average energy of free electron at 0K and corresponding temperature for a classical particle (an ideal gas)\n",
"//page 150\n",
"clear;\n",
"clc;\n",
"//given\n",
"E_F=5.51; // in eV (Fermi energy in Silver)\n",
"k=1.38E-23; // in J/K (Boltzmann's constant)\n",
"e=1.6E-19; // in C (charge of electron)\n",
"//calculate\n",
"// part-(a)\n",
"Eo=(3/5)*E_F; // calculation of average energy of free electron at 0K\n",
"printf('\n\nThe average energy of free electron at 0K is \tEo=%.3f eV',Eo);\n",
"// part-(b)\n",
"Eo=Eo*e; // changing unit from eV to J\n",
"// Since for a classical particle E=(3/2)*k*T\n",
"// therefroe we have\n",
"T=(2/3)*Eo/k; // calculation of temperature for a classical particle (an ideal gas)\n",
"printf('\n\nThe temperature at which a classical particle have this much energy is \t T=%1.3E K',T);"
   ]
   }
,
{
		   "cell_type": "markdown",
		   "metadata": {},
		   "source": [
			"## Example 6.12: Calculate_electron_density_for_a_metal.sce"
		   ]
		  },
  {
"cell_type": "code",
	   "execution_count": null,
	   "metadata": {
	    "collapsed": true
	   },
	   "outputs": [],
"source": [
"//chapter 6\n",
"//example 6.12\n",
"//Calculate electron density for a metal\n",
"//page 150\n",
"clear;\n",
"clc;\n",
"//given\n",
"E_F_L=4.7; // in eV (Fermi energy in Lithium)\n",
"E_F_M=2.35; // in eV (Fermi energy in a metal)\n",
"n_L=4.6E28; // in 1/m^3 (density of electron in Lithium)\n",
"//calculate\n",
"// Since n=((2*m/h)^3/2)*E_F^(3/2)*(8*pi/3) and all things except E_F are constant\n",
"// Therefore we have n=C*E_F^(3/2)   where C is proportionality constant\n",
"// n1/n2=(E_F_1/E_F_2)^(3/2)\n",
"// Therefore we have\n",
"n_M=n_L*(E_F_M/E_F_L); // calculation of electron density for a metal\n",
"printf('\nThe lectron density for a metal is \t=%1.1E 1/m^3', n_M);\n",
"//Note: Answer in the book is wrong due to priting error"
   ]
   }
,
{
		   "cell_type": "markdown",
		   "metadata": {},
		   "source": [
			"## Example 6.1: Calculate_mean_free_path_of_electron.sce"
		   ]
		  },
  {
"cell_type": "code",
	   "execution_count": null,
	   "metadata": {
	    "collapsed": true
	   },
	   "outputs": [],
"source": [
"//chapter 6\n",
"//example 6.1\n",
"//Calculate mean free path of electron\n",
"//page 146\n",
"clear;\n",
"clc;\n",
"//given\n",
"n=8.5E28; // in 1/m^3 (density of electron)\n",
"m_e=9.11E-31; // in Kg (mass of electron)\n",
"k=1.38E-23; // in J/K (Boltzmann's constant)\n",
"e=1.6E-19; // in C (charge of electron)\n",
"T=300; // in K (temperature)\n",
"p=1.69E-8; // in ohm-m (resistivity)\n",
"//calculate\n",
"lambda=sqrt(3*k*m_e*T)/(n*e^2*p); // calculation of mean free path\n",
"printf('\nThe mean free path of electron is \t=%1.2E m',lambda);\n",
"lambda=lambda*1E9; // changing unit from m to nanometer\n",
"printf('\n\t\t\t\t\t=%.2f nm',lambda);\n",
"// Note: answer in the book is wrong due to printing mistake"
   ]
   }
,
{
		   "cell_type": "markdown",
		   "metadata": {},
		   "source": [
			"## Example 6.2: Calculate_the_temperature.sce"
		   ]
		  },
  {
"cell_type": "code",
	   "execution_count": null,
	   "metadata": {
	    "collapsed": true
	   },
	   "outputs": [],
"source": [
"//chapter 6\n",
"//example 6.2\n",
"//Calculate the temperature\n",
"//page 146\n",
"clear;\n",
"clc;\n",
"//given\n",
"\n",
"k=1.38E-23; // in J/K (Boltzmann's constant)\n",
"e=1.6E-19; // in C (charge of electron)\n",
"P_E=1; // in percentage (probability that a state with an energy 0.5 eV above Fermi energy will be occupied)\n",
"E=0.5; // in eV (energy above Fermi level)\n",
"//calculate\n",
"P_E=1/100; // changing percentage into ratio\n",
"E=E*e; // changing unit from eV to J\n",
"// P_E=1/(1+exp((E-E_F)/k*T))\n",
"// Rearranging this equation, we get\n",
"// T=(E-E_F)/k*log((1/P_E)-1)\n",
"// Since E-E_F has been denoted by E  therefore\n",
"T=E/(k*log((1/P_E)-1));\n",
"printf('\nThe temperature is \tT=%.f K',T);\n",
"// Note: There is slight variation in the answer due to logarithm function"
   ]
   }
,
{
		   "cell_type": "markdown",
		   "metadata": {},
		   "source": [
			"## Example 6.3: Calculate_relaxation_time_of_conduction_electrons.sce"
		   ]
		  },
  {
"cell_type": "code",
	   "execution_count": null,
	   "metadata": {
	    "collapsed": true
	   },
	   "outputs": [],
"source": [
"//chapter 6\n",
"//example 6.3\n",
"//Calculate relaxation time of conduction electrons\n",
"//page 147\n",
"clear;\n",
"clc;\n",
"//given\n",
"n=5.8E28; // in 1/m^3 (density of electron)\n",
"m=9.1E-31; // in Kg (mass of electron)\n",
"e=1.6E-19; // in C (charge of electron)\n",
"p=1.54E-8; // in ohm-m (resistivity)\n",
"//calculate\n",
"t=m/(n*e^2*p); // calculation of relaxation time\n",
"printf('\nThe relaxation time of conduction electrons is %1.2E sec',t);"
   ]
   }
,
{
		   "cell_type": "markdown",
		   "metadata": {},
		   "source": [
			"## Example 6.4: Calculate_mean_free_path_traveeled_by_the_electrons.sce"
		   ]
		  },
  {
"cell_type": "code",
	   "execution_count": null,
	   "metadata": {
	    "collapsed": true
	   },
	   "outputs": [],
"source": [
"//chapter 6\n",
"//example 6.4\n",
"//Calculate mean free path traveeled by the electrons\n",
"//page 147\n",
"clear;\n",
"clc;\n",
"//given\n",
"n=8.5E28; // in 1/m^3 (density of electron)\n",
"m=9.1E-31; // in Kg (mass of electron)\n",
"e=1.6E-19; // in C (charge of electron)\n",
"sigma=6E7; // in 1/ohm-m (conductivity)\n",
"E_F=7; // in E=eV (Fermi energy of Copper)\n",
"//calculate\n",
"E_F=E_F*e; // changing unit from eV to J\n",
"v_F=sqrt(2*E_F/m); // calculation of velocity of electrons\n",
"printf('\nThe velocity of the electrons is \t\t\tv_F=%1.1E m/s',v_F);\n",
"// Since sigma=n*e^2*lambda/(2*m*v_F)\n",
"// Therefore we have\n",
"lambda=2*m*v_F*sigma/(n*e^2); // calculation of mean free path\n",
"lambda=lambda*1E10; // changing unit from m to Angstrom\n",
"printf('\n\nThe mean free path traveled by the electrons is \t%.f Angstrom',lambda);\n",
"// Note: Answer in the book is wrong due to the use of round-off value of v_F as calculated in the first part."
   ]
   }
,
{
		   "cell_type": "markdown",
		   "metadata": {},
		   "source": [
			"## Example 6.5: Calculate_relaxation_time_of_conduction_electrons.sce"
		   ]
		  },
  {
"cell_type": "code",
	   "execution_count": null,
	   "metadata": {
	    "collapsed": true
	   },
	   "outputs": [],
"source": [
"//chapter 6\n",
"//example 6.5\n",
"//Calculate relaxation time of conduction electrons\n",
"//page 147-148\n",
"clear;\n",
"clc;\n",
"//given\n",
"n=6.5E28; // in 1/m^3 (density of electron)\n",
"m=9.1E-31; // in Kg (mass of electron)\n",
"e=1.6E-19; // in C (charge of electron)\n",
"p=1.43E-8; // in ohm-m (resistivity)\n",
"//calculate\n",
"t=m/(n*e^2*p); // calculation of relaxation time\n",
"printf('\nThe relaxation time of conduction electrons is %1.2E sec',t);"
   ]
   }
,
{
		   "cell_type": "markdown",
		   "metadata": {},
		   "source": [
			"## Example 6.6: Calculate_average_kinetic_energy_and_velocity_of_molecules.sce"
		   ]
		  },
  {
"cell_type": "code",
	   "execution_count": null,
	   "metadata": {
	    "collapsed": true
	   },
	   "outputs": [],
"source": [
"//chapter 6\n",
"//example 6.6\n",
"//Calculate average kinetic energy and velocity of molecules\n",
"//page 148\n",
"clear;\n",
"clc;\n",
"//given\n",
"T=30; // in Celcius (temperature)\n",
"k=1.38E-23; // in J/K (Boltzmann's constant)\n",
"m_p=1.67E-27; // in Kg (mass of proton)\n",
"e=1.6E-19; // in C (charge of electron)\n",
"//calculate\n",
"T=T+273; // changing temperature from Celcius to Kelvin\n",
"KE=(3/2)*k*T; // calculation of average kinetic energy\n",
"printf('\nThe average kinetic energy of gas ,molecules is \tKE=%3.2E J',KE);\n",
"KE=KE/e; // changing unit from J to eV\n",
"printf('\n\t\t\t\t\t\t\t  =%f eV',KE);\n",
"m=1.008*2*m_p; // calculating mass of hydrogen gas molecule\n",
"c=sqrt(3*k*T/m); // calculation of velocity\n",
"printf('\n\nThe velocity of molecules is \tc=%.2f m/s',c);\n",
"// Note: There is calculation mistake in the answer of energy given in eV and that of velocity"
   ]
   }
,
{
		   "cell_type": "markdown",
		   "metadata": {},
		   "source": [
			"## Example 6.7: Calculate_velocity_of_electron_and_proton.sce"
		   ]
		  },
  {
"cell_type": "code",
	   "execution_count": null,
	   "metadata": {
	    "collapsed": true
	   },
	   "outputs": [],
"source": [
"//chapter 6\n",
"//example 6.7\n",
"//Calculate velocity of electron and proton\n",
"//page 148-149\n",
"clear;\n",
"clc;\n",
"//given\n",
"E=10; // in eV (kinetic energy for each electron and proton)\n",
"m_e=9.1E-31; // in Kg (mass of electron)\n",
"m_p=1.67E-27; // in Kg (mass of proton)\n",
"e=1.6E-19; // in C (charge of electron)\n",
"//calculate\n",
"E=E*e; // changing unit from eV to J\n",
"// since E=m*v^2/2\n",
"// therefore  v=sqrt(2E/m)\n",
"v_e=sqrt(2*E/m_e); // calculation of kinetic energy of electron\n",
"printf('\nThe kinetic energy of electron is \tv_e=%1.3E m/s',v_e);\n",
"v_p=sqrt(2*E/m_p); // calculation of kinetic energy of proton\n",
"printf('\nThe kinetic energy of proton is \tv_p=%1.3E m/s',v_p);\n",
"// Note: The answer in the book for both kinetic energy of electron and that of proton is wrong due to calculation mistake"
   ]
   }
,
{
		   "cell_type": "markdown",
		   "metadata": {},
		   "source": [
			"## Example 6.8: Calculate_drift_velocity_of_free_electrons.sce"
		   ]
		  },
  {
"cell_type": "code",
	   "execution_count": null,
	   "metadata": {
	    "collapsed": true
	   },
	   "outputs": [],
"source": [
"//chapter 6\n",
"//example 6.8\n",
"//Calculate drift velocity of free electrons\n",
"//page 149\n",
"clear;\n",
"clc;\n",
"//given\n",
"I=100; // in A (current in the wire)\n",
"e=1.6E-19; // in C (charge of electron)\n",
"A=10; // in mm^2 (cross-sectional area)\n",
"n=8.5E28; // in 1/m^3 (density of electron)\n",
"//calculate\n",
"A=A*1E-6; // changing unit from mm^2 to m^2\n",
"v_d=I/(n*A*e);\n",
"printf('\nThe drift velocity of free electrons is \tv_d=%1.3E m/s',v_d);"
   ]
   }
,
{
		   "cell_type": "markdown",
		   "metadata": {},
		   "source": [
			"## Example 6.9: Calculate_average_drift_velocity_of_electrons.sce"
		   ]
		  },
  {
"cell_type": "code",
	   "execution_count": null,
	   "metadata": {
	    "collapsed": true
	   },
	   "outputs": [],
"source": [
"//chapter 6\n",
"//example 6.9\n",
"//Calculate average drift velocity of electrons\n",
"//page 149\n",
"clear;\n",
"clc;\n",
"//given\n",
"I=4; // in A (current in the conductor)\n",
"e=1.6E-19; // in C (charge of electron)\n",
"A=1E-6; // in m^2 (cross-sectional area)\n",
"N_A=6.02E23; // in atoms/gram-atom (Avogadro's number)\n",
"p=8.9; // in g/cm^3 (density)\n",
"M=63.6; // atomic mass of copper\n",
"//calculate\n",
"n=N_A*p/M; // Calculation of density of electrons in g/cm^3\n",
"printf('\nThe density of copper atoms is \tn=%1.2E atoms/m^3',n);\n",
"n=n*1E6; // changing unit from g/cm^3 to g/m^3\n",
"printf('\n\t\t\t\t =%1.2E atoms/m^3',n);\n",
"v_d=I/(n*A*e);\n",
"printf('\n\nThe average drift velocity of free electrons is \tv_d=%1.1E m/s',v_d);"
   ]
   }
],
"metadata": {
		  "kernelspec": {
		   "display_name": "Scilab",
		   "language": "scilab",
		   "name": "scilab"
		  },
		  "language_info": {
		   "file_extension": ".sce",
		   "help_links": [
			{
			 "text": "MetaKernel Magics",
			 "url": "https://github.com/calysto/metakernel/blob/master/metakernel/magics/README.md"
			}
		   ],
		   "mimetype": "text/x-octave",
		   "name": "scilab",
		   "version": "0.7.1"
		  }
		 },
		 "nbformat": 4,
		 "nbformat_minor": 0
}
