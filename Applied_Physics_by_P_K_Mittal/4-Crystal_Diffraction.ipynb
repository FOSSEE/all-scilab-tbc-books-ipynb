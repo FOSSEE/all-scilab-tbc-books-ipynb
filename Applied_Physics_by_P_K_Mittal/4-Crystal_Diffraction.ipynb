{
"cells": [
 {
		   "cell_type": "markdown",
	   "metadata": {},
	   "source": [
       "# Chapter 4: Crystal Diffraction"
	   ]
	},
{
		   "cell_type": "markdown",
		   "metadata": {},
		   "source": [
			"## Example 4.1: Find_spacing_constant.sce"
		   ]
		  },
  {
"cell_type": "code",
	   "execution_count": null,
	   "metadata": {
	    "collapsed": true
	   },
	   "outputs": [],
"source": [
"//chapter 4\n",
"//example 4.1\n",
"//Find spacing constant\n",
"//page 75\n",
"clear;\n",
"clc;\n",
"//given\n",
"lambda=2.6; // in Angstrom (wavelength)\n",
"theta=20; // in Degree (angle)\n",
"n=2;\n",
"//calculate\n",
"lambda=lambda*1E-10; // since lambda is in Angstrom\n",
"// Since 2dsin(theta)=n(lambda)\n",
"// therefore d=n(lambda)/2sin(theta)\n",
"d=n*lambda/(2*sind(theta));\n",
"printf('\nThe spacing constant is \td=%1.1E m',d);\n",
"d=d*1E10; // changing unit from m to Angstrom\n",
"printf('\n\t\t\t\td=%.1f Angstrom',d);"
   ]
   }
,
{
		   "cell_type": "markdown",
		   "metadata": {},
		   "source": [
			"## Example 4.2: Find_glancing_angle.sce"
		   ]
		  },
  {
"cell_type": "code",
	   "execution_count": null,
	   "metadata": {
	    "collapsed": true
	   },
	   "outputs": [],
"source": [
"//chapter 4\n",
"//example 4.2\n",
"//Find glancing angle\n",
"//page 75\n",
"clear;\n",
"clc;\n",
"//given\n",
"h=1,k=1,l=0; //miller indices\n",
"a=0.26; // in nanometer (lattice constant)\n",
"lambda=0.065; // in nanometer (wavelength)\n",
"n=2; // order\n",
"//calculate\n",
"d=a/sqrt(h^2+k^2+l^2); // calculation of interlattice spacing\n",
"// Since 2dsin(theta)=n(lambda)\n",
"// therefore we have\n",
"theta=asind(n*lambda/(2*d));\n",
"printf('\nThe glancing angle is \t%.2f degree',theta);\n",
"//Note: there is slight variation in the answer due to round off"
   ]
   }
,
{
		   "cell_type": "markdown",
		   "metadata": {},
		   "source": [
			"## Example 4.3: Find_glancing_angle.sce"
		   ]
		  },
  {
"cell_type": "code",
	   "execution_count": null,
	   "metadata": {
	    "collapsed": true
	   },
	   "outputs": [],
"source": [
"//chapter 4\n",
"//example 4.3\n",
"//Find glancing angle\n",
"//page 75-76\n",
"clear;\n",
"clc;\n",
"//given\n",
"d=3.04E-10; // in mm (spacing constant)\n",
"lambda=0.79; // in Angstrom (wavelength)\n",
"n=3; // order\n",
"//calculate\n",
"// Since 2dsin(theta)=n(lambda)\n",
"// therefore we have\n",
"lambda=lambda*1E-10; //since lambda is in angstrom\n",
"theta=asind(n*lambda/(2*d));\n",
"printf('\nThe glancing angle is \t%.3f degree',theta);\n",
"//Note: In question the value of d=3.04E-9 cm but in solution is using d=3.04E-10 m.\n",
"// I have used d=3.04E-10 cm as used in the solution"
   ]
   }
,
{
		   "cell_type": "markdown",
		   "metadata": {},
		   "source": [
			"## Example 4.4: Find_wavelength_and_maximum_order_possible.sce"
		   ]
		  },
  {
"cell_type": "code",
	   "execution_count": null,
	   "metadata": {
	    "collapsed": true
	   },
	   "outputs": [],
"source": [
"//chapter 4\n",
"//example 4.4\n",
"//Find wavelength and maximum order possible\n",
"//page 76\n",
"clear;\n",
"clc;\n",
"//given\n",
"d=0.282; // in nanometer (spacing constant)\n",
"n=1; // order\n",
"theta=8.35; // in degree (glancing angle)\n",
"//calculate\n",
"d=d*1E-9; // since d is in nanometer\n",
"// Since 2dsin(theta)=n(lambda)\n",
"// therefore we have\n",
"lambda=2*d*sind(theta)/n; \n",
"printf('\nThe wavelength is \t%1.2E m',lambda);\n",
"lambda_1=lambda*1E10; //changing unit from m to Angstrom\n",
"printf('\n\t\t\t=%.3f Angstrom',lambda_1);\n",
"theta_1=90; // in degree (for maximum order theta=90)\n",
"n_max=2*d*sind(theta_1)/lambda; // calculation of maximum order. \n",
"printf('\nThe maximum order possible is \tn=%.f',n_max);\n",
"//Note: In question value of theta=8 degree and 35 minutes but solution uses theta=8.35 degree\n",
"// I am using theta=8.35 degree"
   ]
   }
,
{
		   "cell_type": "markdown",
		   "metadata": {},
		   "source": [
			"## Example 4.5: Find_wavelength_in_XU.sce"
		   ]
		  },
  {
"cell_type": "code",
	   "execution_count": null,
	   "metadata": {
	    "collapsed": true
	   },
	   "outputs": [],
"source": [
"//chapter 4\n",
"//example 4.5\n",
"//Find wavelength in X.U.\n",
"//page 76-77\n",
"clear;\n",
"clc;\n",
"//given\n",
"theta=6; // in degree (glancing angle)\n",
"p=2170; // in Kg/m^3 (density)\n",
"M=58.46; // Molecular weight of NaCl\n",
"N=6.02E26; // in Kg-molecule (Avogadro's number)\n",
"n=1; // order\n",
"XU=1E-12; //since 1X.U.= 1E-12m\n",
"//calculate\n",
"d=(M/(2*N*p))^(1/3);//calclation of lattice constant\n",
"printf('\nThe spacing constant is \td=%1.3E m',d);\n",
"// Since 2dsin(theta)=n(lambda)\n",
"// therefore we have\n",
"lambda=2*d*sind(theta)/n; //calculation of wavelength\n",
"printf('\n\nThe wavelength is \t\t=%1.2E m',lambda);\n",
"lambda=lambda/XU;\n",
"printf('\n\t\t\t\t=%.1f X.U.',lambda);\n",
"// Note: The  answer in the book is wrong due to calculation mistake"
   ]
   }
,
{
		   "cell_type": "markdown",
		   "metadata": {},
		   "source": [
			"## Example 4.6: find_wavelength_and_energy.sce"
		   ]
		  },
  {
"cell_type": "code",
	   "execution_count": null,
	   "metadata": {
	    "collapsed": true
	   },
	   "outputs": [],
"source": [
"//chapter 4\n",
"//example 4.6\n",
"//find wavelength and energy\n",
"//page 77\n",
"clear;\n",
"clc;\n",
"//given\n",
"h=1,k=1,l=1; // miller indices\n",
"a=5.63; // in Angstrom  (lattice constant)\n",
"theta=27.5; // in degree (Glancing angle)\n",
"n=1; //order\n",
"H=6.625E-34; // in J-s (Plank's constant)\n",
"c=3E8; // in m/s (velocity of light)\n",
"e=1.6E-19;// charge of electron\n",
"//calculate\n",
"d=a/sqrt(h^2+k^2+l^2); // calculation for interplanar spacing\n",
"printf('\nThe lattice spacing is\td=%.2f Angstrom',d); \n",
"// Since 2dsin(theta)=n(lambda)\n",
"// therefore we have\n",
"lambda=2*d*sind(theta)/n; // calculation for wavelength\n",
"printf('\nThe wavelength is\t=%.f Angstrom',lambda);\n",
"E=H*c/(lambda*1E-10); //calculation of Energy\n",
"printf('\nThe energy of X-rays is E=%1.3E J',E);\n",
"E=E/e; // changing unit from J to eV\n",
"printf('\n\t\tE=%1.3E eV',E);\n",
"// Note: c=3E8 m/s but in solution c=3E10 m/s has been used that's why answer is different"
   ]
   }
,
{
		   "cell_type": "markdown",
		   "metadata": {},
		   "source": [
			"## Example 4.7: calculate_interpalanr_spacing.sce"
		   ]
		  },
  {
"cell_type": "code",
	   "execution_count": null,
	   "metadata": {
	    "collapsed": true
	   },
	   "outputs": [],
"source": [
"//chapter 4\n",
"//example 4.7\n",
"//calculate interpalanr spacing\n",
"//page 77-78\n",
"clear;\n",
"clc;\n",
"//given\n",
"V=344; // in V (accelerating voltage)\n",
"theta=60; // in degree (glancing angle)\n",
"m=9.1E-31; // in Kg (mass of electron)\n",
"h=6.625e-34; // in J-s (Plank's constant)\n",
"n=1; //order\n",
"e=1.6E-19; // charge on electron\n",
"//calculate\n",
"//Since K=m*v^2/2=e*V\n",
"// therefore  v=sqrt(2*e*V/m)\n",
"// since lambda=h/(m*v)\n",
"//therefore we have lambda=h/sqrt(2*m*e*V)\n",
"lambda=h/sqrt(2*m*e*V); // calculation of lambda\n",
"printf('\nThe wavelength is \t\t =%1.2E m',lambda);\n",
"lambda=lambda*1E10; //changing unit from m to Angstrom\n",
"printf('\n\t\t\t\t =%.2f Angstrom',lambda);\n",
"// Since 2dsin(theta)=n(lambda)\n",
"// therefore we have\n",
"d=n*lambda/(2*sind(theta));\n",
"printf('\nThe interplanar spacing  is \t d=%.2f Angstrom',d);\n",
""
   ]
   }
,
{
		   "cell_type": "markdown",
		   "metadata": {},
		   "source": [
			"## Example 4.8: calculate_angle_of_first_order_diffraction_maximum.sce"
		   ]
		  },
  {
"cell_type": "code",
	   "execution_count": null,
	   "metadata": {
	    "collapsed": true
	   },
	   "outputs": [],
"source": [
"//chapter 4\n",
"//example 4.8\n",
"//calculate angle of first order diffraction maximum\n",
"//page 78-79\n",
"clear;\n",
"clc;\n",
"//given\n",
"K=0.02; // in eV (kinetic energy)\n",
"d=2.0; // in Angstrom (Bragg's spacing)\n",
"m=1.00898; // in amu (mass of neutron)\n",
"amu=1.66E-27; // in Kg (1amu=1.66E-27 Kg)\n",
"h=6.625e-34; // in J-s (Plank's constant)\n",
"n=1; //order\n",
"e=1.6E-19; // charge on electron\n",
"//calculate\n",
"//Since K=m*v^2/2\n",
"// therefore  v=sqrt(2*K/m)\n",
"// since lambda=h/(m*v)\n",
"//therefore we have lambda=h/sqrt(2*m*K)\n",
"m=m*amu; //changing unit from amu to Kg\n",
"K=K*e; //changing unit to J from eV\n",
"lambda=h/sqrt(2*m*K); // calculation of lambda\n",
"printf('\nThe wavelength is \t\t =%1.1E m',lambda);\n",
"lambda=lambda*1E10; //changing unit from m to Angstrom\n",
"printf('\n\t\t\t\t =%.1f Angstrom',lambda);\n",
"// Since 2dsin(theta)=n(lambda)\n",
"// therefore we have\n",
"theta=asind(n*lambda/(2*d)); // calculation of angle of first order diffraction maximum\n",
"printf('\nThe angle of first order diffraction maximum is %.f Degree',theta);"
   ]
   }
,
{
		   "cell_type": "markdown",
		   "metadata": {},
		   "source": [
			"## Example 4.9: EX4_9.sce"
		   ]
		  },
  {
"cell_type": "code",
	   "execution_count": null,
	   "metadata": {
	    "collapsed": true
	   },
	   "outputs": [],
"source": [
"//chapter 4\n",
"//example 4.9\n",
"//Show that given angles are successive order of difraction and find spacing constant\n",
"//page 79\n",
"clear;\n",
"clc;\n",
"//given\n",
"lambda=0.586; // in Angstrom (wavelength of X-rays)\n",
"n1=1, n2=2, n3=3; // orders of diffraction\n",
"theta1=5+(58/60); // in degree (Glancing angle for first order of diffraction)\n",
"theta2=12+(01/60); //in degree (Glancing angle for second order of diffraction)\n",
"theta3=18+(12/60); //in degree (Glancing angle for third order of diffraction)\n",
"//calculate\n",
"K1=sind(theta1);\n",
"K2=sind(theta2);\n",
"K3=sind(theta3);\n",
"printf('The value of sine of different angle of diffraction is\nK1=%.4f\nK2=%.4f\nK3=%.4f',K1,K2,K3);\n",
"// Taking the ratios of K1:K2:K3\n",
"// We get K1:K2:K3=1:2:3\n",
"//Therefore we have\n",
"printf('\n\nOr we have \tK1:K2:K3=1:2:3');\n",
"printf('\nHence these angles of incidence are for Ist, 2nd and 3rd order reflections respectively');\n",
"// Since 2dsin(theta)=n(lambda)\n",
"// therefore we have\n",
"d1=n1*lambda/(2*K1);\n",
"d2=n2*lambda/(2*K2);\n",
"d3=n3*lambda/(2*K3);\n",
"d1=d1*1E-10; //changing unit from Angstrom to m\n",
"d2=d2*1E-10; //changing unit from Angstrom to m\n",
"d3=d3*1E-10; //changing unit from Angstrom to m\n",
"printf('\n\nThe spacing constants are \nd1=%1.3E m\nd2=%1.3E m\nd3=%1.3E m',d1,d2,d3);\n",
"d=(d1+d2+d3)/3;\n",
"printf('\n\nThe mean value of crystal spacing is d=%1.3E m',d);"
   ]
   }
],
"metadata": {
		  "kernelspec": {
		   "display_name": "Scilab",
		   "language": "scilab",
		   "name": "scilab"
		  },
		  "language_info": {
		   "file_extension": ".sce",
		   "help_links": [
			{
			 "text": "MetaKernel Magics",
			 "url": "https://github.com/calysto/metakernel/blob/master/metakernel/magics/README.md"
			}
		   ],
		   "mimetype": "text/x-octave",
		   "name": "scilab",
		   "version": "0.7.1"
		  }
		 },
		 "nbformat": 4,
		 "nbformat_minor": 0
}
