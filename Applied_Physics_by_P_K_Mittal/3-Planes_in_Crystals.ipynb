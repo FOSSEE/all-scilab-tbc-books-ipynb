{
"cells": [
 {
		   "cell_type": "markdown",
	   "metadata": {},
	   "source": [
       "# Chapter 3: Planes in Crystals"
	   ]
	},
{
		   "cell_type": "markdown",
		   "metadata": {},
		   "source": [
			"## Example 3.11: calculate_bond_energy_for_NaCl.sce"
		   ]
		  },
  {
"cell_type": "code",
	   "execution_count": null,
	   "metadata": {
	    "collapsed": true
	   },
	   "outputs": [],
"source": [
"//chapter 3\n",
"//example 3.11\n",
"//calculate interplanar spacing\n",
"//page 61\n",
"clear;\n",
"clc;\n",
"//given\n",
"h=3,k=2,l=1; // miller indices\n",
"a=4.2E-8; // in cm (lattice constant)\n",
"//calculate\n",
"d=a/sqrt(h^2+k^2+l^2); // calculation for interplanar spacing\n",
"printf('\nThe interplanar spacing is\td=%1.2E cm',d); \n",
"d=d*1E8; //changing unit from cm to Angstrom\n",
"printf('\n\t\t\t\td=%.2f Angstrom',d); "
   ]
   }
,
{
		   "cell_type": "markdown",
		   "metadata": {},
		   "source": [
			"## Example 3.12: calculate_lattice_spacing.sce"
		   ]
		  },
  {
"cell_type": "code",
	   "execution_count": null,
	   "metadata": {
	    "collapsed": true
	   },
	   "outputs": [],
"source": [
"//chapter 3\n",
"//example 3.12\n",
"//calculate lattice spacing\n",
"//page 61\n",
"clear;\n",
"clc;\n",
"//given\n",
"h=1,k=1,l=1; // miller indices\n",
"a=2.5,b=2.5,c=1.8; // in Angstrom (lattice constants for tetragonal lattice )\n",
"//calculate\n",
"d=1/sqrt((h/a)^2+(k/b)^2+(l/c)^2); // calculation for interplanar spacing\n",
"printf('\nThe lattice spacing is\td=%.2f Angstrom',d); "
   ]
   }
,
{
		   "cell_type": "markdown",
		   "metadata": {},
		   "source": [
			"## Example 3.15: calculate_density.sce"
		   ]
		  },
  {
"cell_type": "code",
	   "execution_count": null,
	   "metadata": {
	    "collapsed": true
	   },
	   "outputs": [],
"source": [
"//chapter 3\n",
"//example 3.15\n",
"//calculate density\n",
"//page 63\n",
"clear;\n",
"clc;\n",
"//given\n",
"h=1,k=0,l=0; // miller indices\n",
"a=2.5; // in Angstrom (lattice constant)\n",
"//calculate\n",
"a=a*1E-10; //hence a is in Angstrom\n",
"d=a/sqrt(h^2+k^2+l^2); // calculation for interplanar spacing\n",
"p=d/a^3;\n",
"printf('\nThe density is\tp=%1.1E lattice points/m^2',p); "
   ]
   }
],
"metadata": {
		  "kernelspec": {
		   "display_name": "Scilab",
		   "language": "scilab",
		   "name": "scilab"
		  },
		  "language_info": {
		   "file_extension": ".sce",
		   "help_links": [
			{
			 "text": "MetaKernel Magics",
			 "url": "https://github.com/calysto/metakernel/blob/master/metakernel/magics/README.md"
			}
		   ],
		   "mimetype": "text/x-octave",
		   "name": "scilab",
		   "version": "0.7.1"
		  }
		 },
		 "nbformat": 4,
		 "nbformat_minor": 0
}
