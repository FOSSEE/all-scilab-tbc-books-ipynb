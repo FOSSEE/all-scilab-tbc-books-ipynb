{
"cells": [
 {
		   "cell_type": "markdown",
	   "metadata": {},
	   "source": [
       "# Chapter 2: Crystal Structure"
	   ]
	},
{
		   "cell_type": "markdown",
		   "metadata": {},
		   "source": [
			"## Example 2.1: calculate_lattice_constant.sce"
		   ]
		  },
  {
"cell_type": "code",
	   "execution_count": null,
	   "metadata": {
	    "collapsed": true
	   },
	   "outputs": [],
"source": [
"//chapter 2\n",
"//example 2.1\n",
"//calculate lattice constant\n",
"//page 40-41\n",
"clear;\n",
"clc;\n",
"//given\n",
"N=6.02E26; // in /Kg-molecule (Avogadro's number)\n",
"n=4; // number of molecules per unit cell ofr NaCl\n",
"M=58.5; // in Kg/Kg-molecule (molecular weight of NaCl)\n",
"p=2189; // in Kg/m^3 (density)\n",
"//calculate\n",
"a=nthroot((n*M/(N*p)),3);\n",
"printf('\nThe lattice constant is\ta=%1.2E m',a); \n",
"a=a*1E10; // changing unit to Angstrom\n",
"printf('\n\t\t\ta=%.2f Angstrom',a); "
   ]
   }
,
{
		   "cell_type": "markdown",
		   "metadata": {},
		   "source": [
			"## Example 2.2: calculate_distance_between_two_nearest_Cu_atoms.sce"
		   ]
		  },
  {
"cell_type": "code",
	   "execution_count": null,
	   "metadata": {
	    "collapsed": true
	   },
	   "outputs": [],
"source": [
"//chapter 2\n",
"//example 2.2\n",
"//calculate distance between two nearest Cu atoms\n",
"//page 41\n",
"clear;\n",
"clc;\n",
"//given\n",
"N=6.02E23; // in /gram-atom (Avogadro's number)\n",
"n=4; // number of atom per unit cell for fcc structure\n",
"M=63.5; //in gram/gram-atom (atomic weight of Cu)\n",
"p=8.96; // in g/cm^3 (density)\n",
"//calculate\n",
"a=nthroot((n*M/(N*p)),3);\n",
"printf('\nThe lattice constant is\ta=%1.2E cm',a); \n",
"a=a*1E8; // changing unit from cm to Angstrom\n",
"printf('\n\t\t\ta=%.2f Angstrom',a); \n",
"d=a/sqrt(2); // distance infcc lattice\n",
"printf('\nThe distance between two nearest Cu atoms is \td=%.2f Angstrom',d);"
   ]
   }
,
{
		   "cell_type": "markdown",
		   "metadata": {},
		   "source": [
			"## Example 2.3: calculate_lattice_constant.sce"
		   ]
		  },
  {
"cell_type": "code",
	   "execution_count": null,
	   "metadata": {
	    "collapsed": true
	   },
	   "outputs": [],
"source": [
"//chapter 2\n",
"//example 2.3\n",
"//calculate lattice constant\n",
"//page 41-42\n",
"clear;\n",
"clc;\n",
"//given\n",
"N=6.02E26; // in /Kg-atom (Avogadro's number)\n",
"n=2; // number of molecules per unit cell for bcc lattice\n",
"M=55.85; // in Kg/Kg-atom (atomic weight of Iron)\n",
"p=7860; // in Kg/m^3 (density)\n",
"//calculate\n",
"a=nthroot((n*M/(N*p)),3);\n",
"printf('\nThe lattice constant is\ta=%1.3E m',a); \n",
"a=a*1E10; // changing unit to Angstrom\n",
"printf('\n\t\t\ta=%.3f Angstrom',a); "
   ]
   }
,
{
		   "cell_type": "markdown",
		   "metadata": {},
		   "source": [
			"## Example 2.4: calculate_lattice_constant.sce"
		   ]
		  },
  {
"cell_type": "code",
	   "execution_count": null,
	   "metadata": {
	    "collapsed": true
	   },
	   "outputs": [],
"source": [
"//chapter 2\n",
"//example 2.4\n",
"//calculate lattice constant\n",
"//page 42\n",
"clear;\n",
"clc;\n",
"//given\n",
"N=6.02E26; // in /Kg-atom (Avogadro's number)\n",
"n=2; // number of molecules per unit cell for bcc lattice\n",
"M=6.94; // in Kg/Kg-atom (atomic weight of Iron)\n",
"p=530; // in Kg/m^3 (density)\n",
"//calculate\n",
"a=nthroot((n*M/(N*p)),3);\n",
"printf('\nThe lattice constant is\ta=%1.3E m',a); \n",
"a=a*1E10; // changing unit to Angstrom\n",
"printf('\n\t\t\ta=%.3f Angstrom',a); "
   ]
   }
,
{
		   "cell_type": "markdown",
		   "metadata": {},
		   "source": [
			"## Example 2.5: calculate_distance_between_adjacent_atoms_in_NaCl.sce"
		   ]
		  },
  {
"cell_type": "code",
	   "execution_count": null,
	   "metadata": {
	    "collapsed": true
	   },
	   "outputs": [],
"source": [
"//chapter 2\n",
"//example 2.5\n",
"//calculate distance between adjacent atoms in NaCl\n",
"//page 42-43\n",
"clear;\n",
"clc;\n",
"//given\n",
"N=6.02E23; // in /gram-molecule (Avogadro's number)\n",
"M=58.5; //in gram/gram-molecule (atomic weight of NaCl)\n",
"p=2.17; // in g/cm^3 (density)\n",
"//calculate\n",
"// since V=M/p\n",
"// (1/d)^-3=2N/V=2Np/M\n",
"// therefore d= (M/2Np)^-3\n",
"d=nthroot((M/(2*N*p)),3);\n",
"printf('\nThe distance between two adjacent atoms of NaCl is \td=%1.2E cm',d); \n",
"d=d*1E8; // changing unit from cm to Angstrom\n",
"printf('\n\t\t\t\t\t\t\td=%.2f Angstrom',d);"
   ]
   }
,
{
		   "cell_type": "markdown",
		   "metadata": {},
		   "source": [
			"## Example 2.6: calculate_packing_fraction_and_density.sce"
		   ]
		  },
  {
"cell_type": "code",
	   "execution_count": null,
	   "metadata": {
	    "collapsed": true
	   },
	   "outputs": [],
"source": [
"//chapter 2\n",
"//example 2.6\n",
"//calculate packing fraction and density\n",
"//page 43\n",
"clear;\n",
"clc;\n",
"//given\n",
"r_Na=0.98; // in Angstrom (radius of sodium ion)\n",
"r_Cl=1.81; // in Angstrom (radius of chloride ion)\n",
"M_Na=22.99; // in amu (atomic mass of sodium)\n",
"M_Cl=35.45; // in amu (atomic mass of chlorine)\n",
"//calculate\n",
"a=2*(r_Na+r_Cl); // lattice parameter\n",
"printf('\nLattice constant  is \ta=%.2f Angstrom',a);\n",
"//PF=volume of ions present in the unit cell/volume of unit cell\n",
"PF=((4*(4/3)*%pi)*r_Na^3+(4*(4/3)*%pi)*r_Cl^3)/a^3;\n",
"printf('\nPacking fraction is %.3f',PF);\n",
"//Density=mass of unit cell/volume of unit cell\n",
"p=4*(M_Na+M_Cl)*1.66E-27/(a*1E-10)^3;\n",
"printf('\nDensity is \tp=%.f Kg/m^3',p);\n",
"p=p*1E-3; //changing unit to gm/cm^-3\n",
"printf('\nDensity is \tp=%.2f g/cm^3',p);"
   ]
   }
],
"metadata": {
		  "kernelspec": {
		   "display_name": "Scilab",
		   "language": "scilab",
		   "name": "scilab"
		  },
		  "language_info": {
		   "file_extension": ".sce",
		   "help_links": [
			{
			 "text": "MetaKernel Magics",
			 "url": "https://github.com/calysto/metakernel/blob/master/metakernel/magics/README.md"
			}
		   ],
		   "mimetype": "text/x-octave",
		   "name": "scilab",
		   "version": "0.7.1"
		  }
		 },
		 "nbformat": 4,
		 "nbformat_minor": 0
}
