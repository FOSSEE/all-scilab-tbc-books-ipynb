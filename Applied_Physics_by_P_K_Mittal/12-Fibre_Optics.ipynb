{
"cells": [
 {
		   "cell_type": "markdown",
	   "metadata": {},
	   "source": [
       "# Chapter 12: Fibre Optics"
	   ]
	},
{
		   "cell_type": "markdown",
		   "metadata": {},
		   "source": [
			"## Example 12.1: calculate_fractional_index_change_for_a_given_optical_fibre.sce"
		   ]
		  },
  {
"cell_type": "code",
	   "execution_count": null,
	   "metadata": {
	    "collapsed": true
	   },
	   "outputs": [],
"source": [
"//  chapter 12\n",
"// example 12.1\n",
"// calculate fractional index change for a given optical fibre\n",
"// page 360\n",
"clear;\n",
"clc;\n",
"// given\n",
"u1=1.563; // refractive index of core\n",
"u2=1.498; // refractive index of cladding\n",
"//calculate\n",
"d=(u1-u2)/u1; // calculation of fractional index change\n",
"printf('\nThe fractional index change for a given optical fibre is %.4f',d);\n",
"\n",
""
   ]
   }
,
{
		   "cell_type": "markdown",
		   "metadata": {},
		   "source": [
			"## Example 12.2: calculate_numerical_aperture_and_the_acceptance_angle_of_an_optical_fibre.sce"
		   ]
		  },
  {
"cell_type": "code",
	   "execution_count": null,
	   "metadata": {
	    "collapsed": true
	   },
	   "outputs": [],
"source": [
"//  chapter 12\n",
"// example 12.2\n",
"// calculate numerical aperture and the acceptance angle of an optical fibre\n",
"// page 360\n",
"clear;\n",
"clc;\n",
"// given\n",
"u1=1.55; // refractive index of core\n",
"u2=1.50; // refractive index of cladding\n",
"//calculate\n",
"d=(u1-u2)/u1; // calculation of fractional index change\n",
"NA=u1*sqrt(2*d); // calculation of numerical aperture\n",
"printf('\nThe numerical aperture of the fibre is \tNA=%.3f',NA);\n",
"theta=asind(NA); // calculation of acceptance angle\n",
"printf('\nThe acceptance angle of the optical fibre is \t%.1f degree',theta);"
   ]
   }
,
{
		   "cell_type": "markdown",
		   "metadata": {},
		   "source": [
			"## Example 12.3: calculate_the_acceptance_angle_of_an_optical_fibre.sce"
		   ]
		  },
  {
"cell_type": "code",
	   "execution_count": null,
	   "metadata": {
	    "collapsed": true
	   },
	   "outputs": [],
"source": [
"//  chapter 12\n",
"// example 12.3\n",
"// calculate the acceptance angle of an optical fibre\n",
"// page 360\n",
"// given\n",
"clear;\n",
"clc;\n",
"u1=1.563; // refractive index of core\n",
"u2=1.498; // refractive index of cladding\n",
"//calculate\n",
"NA=sqrt(u1^2-u2^2); // calculation of numerical aperture\n",
"printf('\nThe numerical aperture of the fibre is \tNA=%.4f',NA);\n",
"theta=asind(NA); // calculation of acceptance angle\n",
"printf('\nThe acceptance angle of the optical fibre is \t%.2f degree',theta);\n",
"\n",
""
   ]
   }
,
{
		   "cell_type": "markdown",
		   "metadata": {},
		   "source": [
			"## Example 12.4: calculate_refractive_index_of_material_of_the_core.sce"
		   ]
		  },
  {
"cell_type": "code",
	   "execution_count": null,
	   "metadata": {
	    "collapsed": true
	   },
	   "outputs": [],
"source": [
"//  chapter 12\n",
"// example 12.4\n",
"// calculate refractive index of material of the core\n",
"// page 360-361\n",
"clear;\n",
"clc;\n",
"// given\n",
"NA=0.39; //numerical aperture of the optical fibre\n",
"d=0.05; // difference in the refractive index of the material of the core and cladding\n",
"//calculate\n",
"// since NA=u1*sqrt(2*d)\n",
"//we have u1=NA/sqrt(2*d)\n",
"u1= NA/sqrt(2*d); // calculation of refractive index of  material of the core\n",
"printf('\nThe refractive index of  material of the core is \tu1=%.3f',u1);\n",
"\n",
""
   ]
   }
,
{
		   "cell_type": "markdown",
		   "metadata": {},
		   "source": [
			"## Example 12.5: EX12_5.sce"
		   ]
		  },
  {
"cell_type": "code",
	   "execution_count": null,
	   "metadata": {
	    "collapsed": true
	   },
	   "outputs": [],
"source": [
"//  chapter 12\n",
"// example 12.5\n",
"// calculate numerical aperture,acceptance angle and the critical angle of the optical fibre\n",
"// page 361\n",
"clear;\n",
"clc;\n",
"// given\n",
"u1=1.50; // refractive index of core\n",
"u2=1.45; // refractive index of cladding\n",
"//calculate\n",
"d=(u1-u2)/u1; // calculation of fractional index change\n",
"NA=u1*sqrt(2*d); // calculation of numerical aperture\n",
"printf('\nThe numerical aperture of the fibre is \tNA=%.3f',NA);\n",
"theta_0=asind(NA); // calculation of acceptance angle\n",
"printf('\nThe acceptance angle of the optical fibre is \t%.2f degree',theta_0);\n",
"theta_c=asind(u2/u1); // calculation of critical angle\n",
"printf('\nThe critical angle of the optical fibre is \t%.1f degree',theta_c);\n",
""
   ]
   }
,
{
		   "cell_type": "markdown",
		   "metadata": {},
		   "source": [
			"## Example 12.6: calculate_refractive_index_of_the_core_and_cladding_material_of_a_fibre.sce"
		   ]
		  },
  {
"cell_type": "code",
	   "execution_count": null,
	   "metadata": {
	    "collapsed": true
	   },
	   "outputs": [],
"source": [
"//  chapter 12\n",
"// example 12.6\n",
"// calculate refractive index of the core and cladding material of a fibre\n",
"// page 361\n",
"clear;\n",
"clc;\n",
"// given\n",
"NA=0.33; // numerical aperture\n",
"d=0.02; // difference in the refractive index of the core and cladding of the material\n",
"//calculate\n",
"// since NA=u1*sqrt(2*d)\n",
"// therefore we have\n",
"u1=NA/sqrt(2*d); // calculation of refractive index of the core\n",
"// since d=(u1-u2)/u2\n",
"// therefore we have\n",
"u2=(1-d)*u1; // calculation of refractive index of the cladding\n",
"printf('\nThe refractive index of the core is \tu1=%.1f',u1);\n",
"printf('\nThe refractive index of the cladding is \tu2=%.3f',u2);\n",
"// Note:  In the question, it is given that NA=0.33 but in the book NA=0.22 has been used in the solution. That's why answer in the book is different from that of generated from the code"
   ]
   }
,
{
		   "cell_type": "markdown",
		   "metadata": {},
		   "source": [
			"## Example 12.7: calculate_numerical_aperture_and_acceptance_angle_of_the_symmetrical_fibre.sce"
		   ]
		  },
  {
"cell_type": "code",
	   "execution_count": null,
	   "metadata": {
	    "collapsed": true
	   },
	   "outputs": [],
"source": [
"//  chapter 12\n",
"// example 12.7\n",
"// calculate numerical aperture and acceptance angle of the symmetrical fibre\n",
"// page 361\n",
"clear;\n",
"clc;\n",
"// given\n",
"u1=3.5; // refractive index of core\n",
"u2=3.45; // refractive index of cladding\n",
"u0=1; // refractive index of the air\n",
"//calculate\n",
"NA=sqrt(u1^2-u2^2); // calculation of numerical aperture\n",
"NA=NA/u0;\n",
"printf('\nThe numerical aperture of the fibre is \tNA=%.2f',NA);\n",
"alpha=asind(NA); // calculation of acceptance angle\n",
"printf('\nThe acceptance angle of the optical fibre is \t%.2f degre',alpha);\n",
""
   ]
   }
,
{
		   "cell_type": "markdown",
		   "metadata": {},
		   "source": [
			"## Example 12.8: calculate_numerical_aperture_and_acceptance_angle_of_the_symmetrical_fibre.sce"
		   ]
		  },
  {
"cell_type": "code",
	   "execution_count": null,
	   "metadata": {
	    "collapsed": true
	   },
	   "outputs": [],
"source": [
"//  chapter 12\n",
"// example 12.8\n",
"// calculate numerical aperture and acceptance angle of an optical fibre\n",
"// page 361-362\n",
"clear;\n",
"clc;\n",
"// given\n",
"u1=1.48; // refractive index of core\n",
"u2=1.45; // refractive index of cladding\n",
"//calculate\n",
"NA=sqrt(u1^2-u2^2); // calculation of numerical aperture\n",
"printf('\nThe numerical aperture of the fibre is \tNA=%.3f',NA);\n",
"theta=asind(NA); // calculation of acceptance angle\n",
"printf('\nThe acceptance angle of the optical fibre is \t%.2f degree',theta);\n",
"// Note: there is slight variation in the answer due to round off"
   ]
   }
],
"metadata": {
		  "kernelspec": {
		   "display_name": "Scilab",
		   "language": "scilab",
		   "name": "scilab"
		  },
		  "language_info": {
		   "file_extension": ".sce",
		   "help_links": [
			{
			 "text": "MetaKernel Magics",
			 "url": "https://github.com/calysto/metakernel/blob/master/metakernel/magics/README.md"
			}
		   ],
		   "mimetype": "text/x-octave",
		   "name": "scilab",
		   "version": "0.7.1"
		  }
		 },
		 "nbformat": 4,
		 "nbformat_minor": 0
}
