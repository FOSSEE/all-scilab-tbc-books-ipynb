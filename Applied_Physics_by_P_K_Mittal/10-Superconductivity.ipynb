{
"cells": [
 {
		   "cell_type": "markdown",
	   "metadata": {},
	   "source": [
       "# Chapter 10: Superconductivity"
	   ]
	},
{
		   "cell_type": "markdown",
		   "metadata": {},
		   "source": [
			"## Example 10.1: Calculate_magnitude_of_critical_magnetic_field.sce"
		   ]
		  },
  {
"cell_type": "code",
	   "execution_count": null,
	   "metadata": {
	    "collapsed": true
	   },
	   "outputs": [],
"source": [
"//chapter 10\n",
"//example 10.1\n",
"//Calculate magnitude of critical magnetic field\n",
"//page 313\n",
"clear;\n",
"clc;\n",
"//given\n",
"Tc=7.2; // in K (critical temperature)\n",
"T=5; // in K (given temperature)\n",
"H0=6.5E3; // in A/m (critical magnetic field at 0K)\n",
"//calculate\n",
"Hc=H0*(1-(T/Tc)^2); // calculation of magnitude of critical magnetic field\n",
"printf('\nThe magnitude of critical magnetic field is \tHc=%1.3E A/m',Hc);"
   ]
   }
,
{
		   "cell_type": "markdown",
		   "metadata": {},
		   "source": [
			"## Example 10.2: Calculate_critical_current_value.sce"
		   ]
		  },
  {
"cell_type": "code",
	   "execution_count": null,
	   "metadata": {
	    "collapsed": true
	   },
	   "outputs": [],
"source": [
"//chapter 10\n",
"//example 10.2\n",
"//Calculate critical current value\n",
"//page 313\n",
"clear;\n",
"clc;\n",
"//given\n",
"r=0.02; // in m (radius of ring)\n",
"Hc=2E3; // in A/m (critical magnetic field at 5K)\n",
"pi=3.14; // value of pi used in the solutiion\n",
"//calculate\n",
"Ic=2*pi*r*Hc; // calculation of critical current value\n",
"printf('\nThe critical current value is \tIc=%.1f A',Ic);"
   ]
   }
,
{
		   "cell_type": "markdown",
		   "metadata": {},
		   "source": [
			"## Example 10.3: calculate_isotropic_mass.sce"
		   ]
		  },
  {
"cell_type": "code",
	   "execution_count": null,
	   "metadata": {
	    "collapsed": true
	   },
	   "outputs": [],
"source": [
"//  chapter 10\n",
"// example 10.3\n",
"// calculate isotropic mass at 5.1K\n",
"// page 313\n",
"clear;\n",
"clc;\n",
"// given\n",
"M1=199.5; // in amu (isotropic mass at 5K)\n",
"T1=5; // in K (first critical temperature)\n",
"T2=5.1; // in K (second critical temperature)\n",
"//calculate\n",
"// since Tc=C*(1/sqrt(M)\n",
"// therefore T1*sqrt(M1)=T2*sqrt(M2)\n",
"// therefore we have M2=(T1/T2)^2*M1\n",
"M2=(T1/T2)^2*M1; //calculation of isotropic mass at 5.1K\n",
"printf('\nThe isotropic mass at 5.1K is \t M2=%.3f a.m.u.',M2);\n",
""
   ]
   }
,
{
		   "cell_type": "markdown",
		   "metadata": {},
		   "source": [
			"## Example 10.4: calculate_transition_temperature.sce"
		   ]
		  },
  {
"cell_type": "code",
	   "execution_count": null,
	   "metadata": {
	    "collapsed": true
	   },
	   "outputs": [],
"source": [
"//  chapter 10\n",
"// example 10.4\n",
"// calculate transition temperature\n",
"// page 314\n",
"// given\n",
"clear;\n",
"clc;\n",
"T=6; // in K (given temperature)\n",
"Hc=5E3; // in A/m (critical magnetic field at 5K)\n",
"H0=2E4; // in A/m (critical magnetic field at 0K)\n",
"//calculate\n",
"// since Hc=H0*(1-(T/Tc)^2)\n",
"// therefor we have Tc=T/sqrt(1-(Hc/H)^2)\n",
"Tc=T/sqrt(1-(Hc/H0)); // calculation of transition temperature\n",
"printf('\nThe transition temperature is \tTc=%.3f K',Tc);\n",
"// Note: answer in the book is wrong due to calculation mistake"
   ]
   }
,
{
		   "cell_type": "markdown",
		   "metadata": {},
		   "source": [
			"## Example 10.5: calculate_critical_current_at_5K.sce"
		   ]
		  },
  {
"cell_type": "code",
	   "execution_count": null,
	   "metadata": {
	    "collapsed": true
	   },
	   "outputs": [],
"source": [
"//  chapter 10\n",
"// example 10.5\n",
"// calculate  critical current at 5K\n",
"// page 314\n",
"// given\n",
"clear;\n",
"clc;\n",
"T=5; // in K (given temperature)\n",
"d=3; // in mm (diameter of the wire)\n",
"Tc=8; // in K (critical temperature for Pb)\n",
"H0=5E4; // in A/m (critical magnetic field at 0K)\n",
"pi=3.14; // value of pi used in the solution\n",
"//calculate\n",
" Hc=H0*(1-(T/Tc)^2); // calculation of critical magnetic field at 5K\n",
"printf('\nThe critical magnetic field at 5K is \tHc=%1.3E A/m',Hc);\n",
"r=(d*1E-3)/2; // calculation of radius in m\n",
"Ic=2*pi*r*Hc; // calculation of critical current at 5K\n",
"printf('\nThe critical current at 5K is \tIc=%.4f A',Ic);\n",
"//Note: there is slight variation in the answer due to round off"
   ]
   }
,
{
		   "cell_type": "markdown",
		   "metadata": {},
		   "source": [
			"## Example 10.6: calculate_frequency_of_EM_waves.sce"
		   ]
		  },
  {
"cell_type": "code",
	   "execution_count": null,
	   "metadata": {
	    "collapsed": true
	   },
	   "outputs": [],
"source": [
"//  chapter 10\n",
"// example 10.6\n",
"// calculate  frequency of EM waves \n",
"// page 314\n",
"clear;\n",
"clc;\n",
"// given\n",
"V=8.50; // in micro V (voltage across Josephson junction )\n",
"e=1.6E-19; // in C (charge of electron)\n",
"h=6.626E-34; // in J/s (Planck’s constant)\n",
"//calculate\n",
"V=V*1E-6; // changing unit from V to microVolt\n",
" v=2*e*V/h; // calculation of frequency of EM waves\n",
"printf('\nThe frequency of EM waves is \tv=%1.3E Hz',v);\n",
"// Note: the answer in the book is wrong due to calculation misatke"
   ]
   }
,
{
		   "cell_type": "markdown",
		   "metadata": {},
		   "source": [
			"## Example 10.7: calculate_transition_temperature_of_the_isotopes.sce"
		   ]
		  },
  {
"cell_type": "code",
	   "execution_count": null,
	   "metadata": {
	    "collapsed": true
	   },
	   "outputs": [],
"source": [
"//  chapter 10\n",
"// example 10.7\n",
"// calculate transition temperature of the isotopes\n",
"// page 315\n",
"clear;\n",
"clc;// given\n",
"M1=200.59; // in amu (average atomic mass  at 4.153K)\n",
"Tc1=4.153; // in K (first critical temperature)\n",
"M2=204; // in amu (average atomic mass of isotopes)\n",
"//calculate\n",
"// since Tc=C*(1/sqrt(M)\n",
"// therefore T1*sqrt(M1)=T2*sqrt(M2)\n",
"// therefore we have Tc2=Tc1*sqrt(M1/M2)\n",
"Tc2=Tc1*sqrt(M1/M2); //calculation of transition temperature of the isotopes\n",
"printf('\nThe transition temperature of the isotopes is \t Tc2=%.3f K',Tc2);\n",
""
   ]
   }
],
"metadata": {
		  "kernelspec": {
		   "display_name": "Scilab",
		   "language": "scilab",
		   "name": "scilab"
		  },
		  "language_info": {
		   "file_extension": ".sce",
		   "help_links": [
			{
			 "text": "MetaKernel Magics",
			 "url": "https://github.com/calysto/metakernel/blob/master/metakernel/magics/README.md"
			}
		   ],
		   "mimetype": "text/x-octave",
		   "name": "scilab",
		   "version": "0.7.1"
		  }
		 },
		 "nbformat": 4,
		 "nbformat_minor": 0
}
