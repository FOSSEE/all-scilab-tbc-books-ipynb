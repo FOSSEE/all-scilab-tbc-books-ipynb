{
"cells": [
 {
		   "cell_type": "markdown",
	   "metadata": {},
	   "source": [
       "# Chapter 7: Dielectric Properties"
	   ]
	},
{
		   "cell_type": "markdown",
		   "metadata": {},
		   "source": [
			"## Example 7.10: determine_the_percentage_of_ionic_polarisability_in_sodium_crystal.sce"
		   ]
		  },
  {
"cell_type": "code",
	   "execution_count": null,
	   "metadata": {
	    "collapsed": true
	   },
	   "outputs": [],
"source": [
"// chapter 7\n",
"// example 7.10\n",
"// determine the percentage of ionic polarisability in sodium crystal \n",
"// page 191-192\n",
"clear;\n",
"clc;\n",
"// given\n",
"n=1.5; // refractive index\n",
"Er=5.6;// dielectric constant\n",
"//calculate\n",
"// since (Er-1)/(Er+2)=N*(alpha_e+alpha_i)/(3*E0)   Clausius-Mossotti equation\n",
"// and  (n^2-1)/(n^2+2)=N*alpha_e/(3*E0) \n",
"// from above two equations, we get  ((n^2-1)/(n^2+2))*((Er+2)/(Er-1))=alpha_e/(alpha_e+alpha_i)\n",
"// or alpha_i/ (alpha_e+alpha_i)= 1-((n^2-1)/(n^2+2))*((Er+2)/(Er-1))= (say P)\n",
"// where P is fractional ionisational polarisability\n",
"P=1-((n^2-1)/(n^2+2))*((Er+2)/(Er-1)); // calculation of fractional ionisational polarisability\n",
"P=P*100; // calculation of percentage of  ionisational polarisability\n",
"printf('\nThe percentage of  ionisational polarisability is \t%.1f percent',P);"
   ]
   }
,
{
		   "cell_type": "markdown",
		   "metadata": {},
		   "source": [
			"## Example 7.1: Calculate_the_capacitance_of_capacitor_and_charge_on_the_plates.sce"
		   ]
		  },
  {
"cell_type": "code",
	   "execution_count": null,
	   "metadata": {
	    "collapsed": true
	   },
	   "outputs": [],
"source": [
"//chapter 7\n",
"//example 7.1\n",
"//Calculate the capacitance of capacitor and charge on the plates\n",
"//page 187\n",
"clear;\n",
"clc;\n",
"//given\n",
"A=100; // in cm^2 (cross-sectional area)\n",
"d=1; // in cm (seperation between plates)\n",
"Eo=8.85E-12; // in F/m (absolute permittivity)\n",
"V=100; // in V (potential difference)\n",
"//calculate\n",
"A=A*1E-4; // changing unit from cm^2 to m^2\n",
"d=d*1E-2; // changing unit from cm to m\n",
"C=Eo*A/d;// calculation of capacitance\n",
"Q=C*V; // calculation of charge\n",
"printf('\nThe capacitance of capacitor is \t C=%1.2E C',C);\n",
"C=C*1E12; // changing unit of capacitance from F to pF\n",
"printf('\n\t\t\t\t\t  =%.2f pF',C);\n",
"printf('\n\nThe charge on the plates is \t\t Q=%1.2E C',Q);\n",
""
   ]
   }
,
{
		   "cell_type": "markdown",
		   "metadata": {},
		   "source": [
			"## Example 7.2: Calculate_the_resultant_voltage_across_the_capacitor.sce"
		   ]
		  },
  {
"cell_type": "code",
	   "execution_count": null,
	   "metadata": {
	    "collapsed": true
	   },
	   "outputs": [],
"source": [
"//chapter 7\n",
"//example 7.2\n",
"//Calculate the resultant voltage across the capacitor\n",
"//page 187\n",
"clear;\n",
"clc;\n",
"//given\n",
"A=650; // in mm^2 (cross-sectional area)\n",
"d=4; // in mm (seperation between plates)\n",
"Eo=8.85E-12; // in F/m (absolute permittivity)\n",
"Er=3.5; // di-electric constant of the material\n",
"Q=2E-10; // in C (charge on plates)\n",
"//calculate\n",
"A=A*1E-6; // changing unit from mm^2 to m^2\n",
"d=d*1E-3; // changing unit from mm to m\n",
"C=Er*Eo*A/d;// calculation of capacitance\n",
"V=Q/C; // calculation of charge\n",
"printf('\nThe capacitance of capacitor is \t C=%1.2E C',C);\n",
"C=C*1E12; // changing unit of capacitance from F to pF\n",
"printf('\n\t\t\t\t\t  =%.2f pF',C);\n",
"printf('\n\nThe resultant voltage across the capacitor is \t V=%.2f V',V);\n",
"// NOTE: The answer is wrong due to calculation mistake. The mistake is that in the book Value of cross-sectional area and seperation\n",
"//       between plates is considered in cm and di-electric constant has not been considered."
   ]
   }
,
{
		   "cell_type": "markdown",
		   "metadata": {},
		   "source": [
			"## Example 7.3: Calculate_the_radius_of_electron_cloud_and_dispalcement.sce"
		   ]
		  },
  {
"cell_type": "code",
	   "execution_count": null,
	   "metadata": {
	    "collapsed": true
	   },
	   "outputs": [],
"source": [
"//chapter 7\n",
"//example 7.3\n",
"//Calculate the radius of electron cloud and dispalcement\n",
"//page 188\n",
"clear;\n",
"clc;\n",
"//given\n",
"N=2.7E25; // in 1/m^3 (density of atoms)\n",
"E=1E6; // in V/m (electric field)\n",
"Z=2; // atomic number of Helium \n",
"Eo=8.85E-12; // in F/m (absolute permittivity)\n",
"Er=1.0000684; // (dielectric constant of the material)\n",
"e=1.6E-19; // in C (charge of electron)\n",
"pi=3.14; // value of pi used in the solution\n",
"//calculate\n",
"// since  alpha=Eo*(Er-1)/N=4*pi*Eo*r_0^3 \n",
"// Therefore we have r_0^3=(Er-1)/(4*pi*N)\n",
"r_0=((Er-1)/(4*pi*N))^(1/3);// calculation of radius of electron cloud\n",
"printf('\nThe radius of electron cloud is \t r_0=%1.2E m',r_0);\n",
"x=4*pi*Eo*E*r_0/(Z*e); // calculation of dispalcement\n",
"printf('\n\nThe displacement is x=%1.2E m',x);\n",
"// NOTE: The answer is wrong due to calculation mistake."
   ]
   }
,
{
		   "cell_type": "markdown",
		   "metadata": {},
		   "source": [
			"## Example 7.4: Calculate_the_dipole_moment_induced_in_each_atom_and_atomic_polarisability.sce"
		   ]
		  },
  {
"cell_type": "code",
	   "execution_count": null,
	   "metadata": {
	    "collapsed": true
	   },
	   "outputs": [],
"source": [
"//chapter 7\n",
"//example 7.4\n",
"//Calculate the dipole moment induced in each atom and atomic polarisability\n",
"//page 188-189\n",
"clear;\n",
"clc;\n",
"//given\n",
"K=1.000134; // di-elecrtic constant of the neon gas at NTP\n",
"E=90000; // in V/m (electric field)\n",
"Eo=8.85E-12; // in C/N-m^2 (absolute premittivity)\n",
"N_A=6.023E26; // in atoms/Kg-mole (Avogadro's number)\n",
"V=22.4; // in m^3 (volume of gas at NTP\n",
"//calculate\n",
"n=N_A/V; // calculaton of density of atoms\n",
"// Since P=n*p=(k-1)*Eo*E\n",
"// therefore we have\n",
"p=(K-1)*Eo*E/n; // calculation of dipole moment induced\n",
"printf('\nThe dipole moment induced in each atom is \tp=%1.2E C-m',p);\n",
"alpha=p/E; // calculation of atomic polarisability\n",
"printf('\n\nThe atomic polarisability of neon is \t=%1.2E c-m^2/V',alpha);\n",
"// NOTE: The answer of atomic polarisability is wrong due to printing error"
   ]
   }
,
{
		   "cell_type": "markdown",
		   "metadata": {},
		   "source": [
			"## Example 7.5: Calculate_the_electronic_polarisability_of_sulphur.sce"
		   ]
		  },
  {
"cell_type": "code",
	   "execution_count": null,
	   "metadata": {
	    "collapsed": true
	   },
	   "outputs": [],
"source": [
"//chapter 7\n",
"//example 7.5\n",
"//Calculate the electronic polarisability of sulphur\n",
"//page 189\n",
"clear;\n",
"clc;\n",
"//given\n",
"Er=3.75; // di-elecrtic constant of sulphur at 27 degree Celcius\n",
"gama=1/3; // internal field constant\n",
"p=2050; // in Kg/m^3 (density)\n",
"M_A=32; // in amu (atomic weight of sulphur)\n",
"Eo=8.85E-12; // in F/m (absolute permittivity)\n",
"N=6.022E23; // Avogadro's number\n",
"//calculate\n",
"// Since ((Er-1)/(Er+2))*(M_A/p)=(N/(3*Eo))*alpha_e\n",
"// therefore we have\n",
"alpha_e=((Er-1)/(Er+2))*(M_A/p)*(3*Eo/N); // calculation of electronic polarisability of sulphur\n",
"printf('\nThe electronic polarisability of sulphur is \t=%1.2E Fm^2',alpha_e);\n",
"// NOTE: There is slight variation in the answer due to round off"
   ]
   }
,
{
		   "cell_type": "markdown",
		   "metadata": {},
		   "source": [
			"## Example 7.6: Calculate_the_electronic_polarisability_of_Helium_atoms.sce"
		   ]
		  },
  {
"cell_type": "code",
	   "execution_count": null,
	   "metadata": {
	    "collapsed": true
	   },
	   "outputs": [],
"source": [
"//chapter 7\n",
"//example 7.6\n",
"//Calculate the electronic polarisability of Helium atoms\n",
"//page 189-190\n",
"clear;\n",
"clc;\n",
"//given\n",
"Er=1.0000684; // di-elecrtic constant of Helium gas at NTP\n",
"Eo=8.85E-12; // in F/m (absolute permittivity)\n",
"N=2.7E25; // number of atomsper unit volume\n",
"//calculate\n",
"// Since Er-1=(N/Eo)*alpha_e\n",
"// therefore we have\n",
"alpha_e=Eo*(Er-1)/N; // calculation of electronic polarisability of Helium\n",
"printf('\nThe electronic polarisability of Helium gas is \t=%1.2E Fm^2',alpha_e);\n",
"// NOTE: There is slight variation in the answer due to round off"
   ]
   }
,
{
		   "cell_type": "markdown",
		   "metadata": {},
		   "source": [
			"## Example 7.7: Calculate_the_dielectric_constant_of_the_material.sce"
		   ]
		  },
  {
"cell_type": "code",
	   "execution_count": null,
	   "metadata": {
	    "collapsed": true
	   },
	   "outputs": [],
"source": [
"//chapter 7\n",
"//example 7.7\n",
"//Calculate the dielectric constant of the material\n",
"//page 190\n",
"clear;\n",
"clc;\n",
"//given\n",
"N=3E28; // in atoms/m^3 (density of atoms)\n",
"alpha_e=1E-40; // in F-m^2 (electronic polarisability)\n",
"Eo=8.85E-12; // in F/m (absolute permittivity)\n",
"//calculate\n",
"// Since (Er-1)/(Er+2)=N*alpha_e/(3*Eo)\n",
"// therefore we have\n",
"Er=(2*(N*alpha_e/(3*Eo))+1)/(1-(N*alpha_e/(3*Eo)));\n",
" // calculation of dielectric constant of the material\n",
"printf('\nThe dielectric constant of the material is \tEr=%.3f F/m',Er);\n",
"// NOTE: The answer in the book is wrong due to calculation mistake"
   ]
   }
,
{
		   "cell_type": "markdown",
		   "metadata": {},
		   "source": [
			"## Example 7.8: Calculate_the_atomic_polarisability_of_sulphur.sce"
		   ]
		  },
  {
"cell_type": "code",
	   "execution_count": null,
	   "metadata": {
	    "collapsed": true
	   },
	   "outputs": [],
"source": [
"//chapter 7\n",
"//example 7.8\n",
"//Calculate the atomic polarisability of sulphur\n",
"//page 190\n",
"clear;\n",
"clc;\n",
"//given\n",
"Er=4; // relative permittivity of sulphur\n",
"Eo=8.85E-12; // in F/m (absolute permittivity)\n",
"NA=2.08E3; // in Kg/m^3 (density of atoms in sulphur)\n",
"//calculate\n",
"// Since ((Er-1)/(Er+2))*(M_A/p)=(N/(3*Eo))*alpha_e\n",
"// therefore we have\n",
"alpha_e=((Er-1)/(Er+2))*(3*Eo/NA); // calculation of electronic polarisability of sulphur\n",
"printf('\nThe electronic polarisability of sulphur is \t=%1.2E Fm^2',alpha_e);\n",
"// NOTE: The answer in the book is wrong due to calculation mistake. Also one point to be mentioned is that wrong formula has been used in the solution but i have used the formula as used in the solution."
   ]
   }
,
{
		   "cell_type": "markdown",
		   "metadata": {},
		   "source": [
			"## Example 7.9: EX7_9.sce"
		   ]
		  },
  {
"cell_type": "code",
	   "execution_count": null,
	   "metadata": {
	    "collapsed": true
	   },
	   "outputs": [],
"source": [
"// chapter 7\n",
"// example 7.9\n",
"// calculate polarisability due to permanent dipole moment and due to deformation of the molecules\n",
"// page 190-191\n",
"clear;\n",
"clc;\n",
"// given\n",
"alpha1=2.5E-39; // in C^2-m/N (dielectric constant at 300K)\n",
"alpha2=2.0E-39; // in C^2-m/N (dielectric constant at 400K)\n",
"T1=300; // in K(first temperature)\n",
"T2=400; // in K(second temperature)\n",
"//calculate\n",
"// since alpha=alpha_d+alpha0 and alpha0=Beta/T\n",
"// therefore alpha=alpha_d+(Beta/T)\n",
"// since alpha1=alpha_d+(Beta/T1)  and alpha2=alpha_d+(Beta/T2)\n",
"// therefore alpha1-apha2=Beta*((1/T1)-(1/T2))\n",
"// or Beta= (alpha1-apha2)/ ((1/T1)-(1/T2))\n",
"Beta= (alpha1-alpha2)/ ((1/T1)-(1/T2)); // calculation of Beta\n",
"alpha_d=alpha1-(Beta/T1); // calculation of polarisability due to defromation\n",
"alpha0_1=Beta/T1; // calculation of polarisability due to permanent dipole moment at 300K\n",
"alpha0_2=Beta/T2;  // calculation of polarisability due to permanent dipole moment at 400K\n",
"printf('\nThe polarisability due to permanent dipole moment at 300K is \t %1.2E C^2-m/N',alpha0_1);\n",
"printf('\nThe polarisability due to permanent dipole moment at 400K is \t %1.2E C^2-m/N',alpha0_2);\n",
"printf('\n\nThe polarisability due to deformation of the molecules is \t %1.2E C^2-m/N',alpha_d);"
   ]
   }
],
"metadata": {
		  "kernelspec": {
		   "display_name": "Scilab",
		   "language": "scilab",
		   "name": "scilab"
		  },
		  "language_info": {
		   "file_extension": ".sce",
		   "help_links": [
			{
			 "text": "MetaKernel Magics",
			 "url": "https://github.com/calysto/metakernel/blob/master/metakernel/magics/README.md"
			}
		   ],
		   "mimetype": "text/x-octave",
		   "name": "scilab",
		   "version": "0.7.1"
		  }
		 },
		 "nbformat": 4,
		 "nbformat_minor": 0
}
