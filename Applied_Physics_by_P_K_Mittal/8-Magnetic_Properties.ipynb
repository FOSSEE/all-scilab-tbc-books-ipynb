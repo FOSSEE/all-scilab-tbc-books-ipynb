{
"cells": [
 {
		   "cell_type": "markdown",
	   "metadata": {},
	   "source": [
       "# Chapter 8: Magnetic Properties"
	   ]
	},
{
		   "cell_type": "markdown",
		   "metadata": {},
		   "source": [
			"## Example 8.1: Calculate_intensity_of_magnetism_and_magnetic_flux_density.sce"
		   ]
		  },
  {
"cell_type": "code",
	   "execution_count": null,
	   "metadata": {
	    "collapsed": true
	   },
	   "outputs": [],
"source": [
"//chapter 8\n",
"//example 8.1\n",
"//Calculate intensity of magnetism and magnetic flux density\n",
"//page 236\n",
"clear;\n",
"clc;\n",
"//given\n",
"X=-0.5E-5; // magnetic susceptibility of silicon\n",
"H=0.9E4; // in A/m (magnetic field intensity)\n",
"mu0=4*%pi*1E-7; // in H/m (absolute permeability)\n",
"//calculate\n",
"I=X*H; // calculation of intensity of magnetism\n",
"printf('\nThe intensity of magnetism is \tI=%.3f A/m',I);\n",
"B=mu0*H*(1+X); // calculation of magnetic flux density\n",
"printf('\nThe magnetic flux density is \tB=%.3f Wb/m^2',B);\n",
"// Note: The answer in the book is wrong. This is because the value of H given in the question is H=0.9E4 A/m but in the solution the value of H that has been used is H=9.9E4 A/m. "
   ]
   }
,
{
		   "cell_type": "markdown",
		   "metadata": {},
		   "source": [
			"## Example 8.2: Calculate_change_in_magnetic_moment.sce"
		   ]
		  },
  {
"cell_type": "code",
	   "execution_count": null,
	   "metadata": {
	    "collapsed": true
	   },
	   "outputs": [],
"source": [
"//chapter 8\n",
"//example 8.2\n",
"//Calculate change in magnetic moment\n",
"//page 236\n",
"clear;\n",
"clc;\n",
"//given\n",
"r=0.052; // in nm (radius of orbit)\n",
"B=1; // in Wb/m^2 (magnetic field of induction)\n",
"e=1.6E-19; // in C (charge of electron)\n",
"m=9.1E-31; // in Kg (mass of electron)\n",
"//calculate\n",
"r=0.052*1E-9; // changing unit from nm to m\n",
"d_mu=(e^2*r^2*B)/(4*m); // calculation of change in magnetic moment\n",
"printf('\nThe change in magnetic moment is \t%1.4E Am^2',d_mu);\n",
"// Note: The answer in the book is wrong due to caluclation mistake "
   ]
   }
,
{
		   "cell_type": "markdown",
		   "metadata": {},
		   "source": [
			"## Example 8.3: Calculate_relative_permeability_of_a_ferromagentic_material.sce"
		   ]
		  },
  {
"cell_type": "code",
	   "execution_count": null,
	   "metadata": {
	    "collapsed": true
	   },
	   "outputs": [],
"source": [
"//chapter 8\n",
"//example 8.3\n",
"//Calculate relative permeability of a ferromagentic material\n",
"//page 236\n",
"clear;\n",
"clc;\n",
"//given\n",
"H=220; // in A/m (magnetic field intensity)\n",
"I=3300; // in A/m (intensity of magnetisation)\n",
"//calculate\n",
"mu_r=1+(I/H); // calculation of relative permeability\n",
"printf('\nThe relative permeability of a ferromagentic material is  %.f',mu_r);"
   ]
   }
,
{
		   "cell_type": "markdown",
		   "metadata": {},
		   "source": [
			"## Example 8.4: Calculate_magnetic_force_and_relative_permeability.sce"
		   ]
		  },
  {
"cell_type": "code",
	   "execution_count": null,
	   "metadata": {
	    "collapsed": true
	   },
	   "outputs": [],
"source": [
"//chapter 8\n",
"//example 8.4\n",
"//Calculate magnetic force and relative permeability\n",
"//page 236-237\n",
"clear;\n",
"clc;\n",
"//given\n",
"I=3000; // in A/m (intensity of magnetisation)\n",
"B=0.005; // in Wb/m^2 (magnetic flus intensity)\n",
"pi=3.14;// value of pi used in the solution\n",
"mu0=4*pi*1E-7; // in H/m (absolute permeability)\n",
"//calculate\n",
"H=(B/mu0)-I; // calculation of magnetic force\n",
"printf('\nThe magnetic force is  \tH=%.3f',H);\n",
"mu_r=(I/H)+1; // calculation of relative permeability\n",
"printf('\nThe relative permeability is \t%.3f',mu_r);"
   ]
   }
,
{
		   "cell_type": "markdown",
		   "metadata": {},
		   "source": [
			"## Example 8.5: Calculate_current_through_the_solenoid.sce"
		   ]
		  },
  {
"cell_type": "code",
	   "execution_count": null,
	   "metadata": {
	    "collapsed": true
	   },
	   "outputs": [],
"source": [
"//chapter 8\n",
"//example 8.5\n",
"//Calculate current through the solenoid\n",
"//page 237\n",
"clear;\n",
"clc;\n",
"//given\n",
"H=4E3; // in A/m (magnetic field intensity)\n",
"N=60; // number of turns\n",
"l=12; // in cm (length of solenoid)\n",
"//calculate\n",
"n=N/(l*1E-2); // calculation of number of turns per unit metre\n",
"// Snice H=n*i;\n",
"i=H/n; // calculation of current through the solenoid\n",
"printf('\nThe current through the solenoid is \ti=%.f A',i);"
   ]
   }
,
{
		   "cell_type": "markdown",
		   "metadata": {},
		   "source": [
			"## Example 8.6: Calculate_flux_density_magnetic_intensity_and_relative_permeability.sce"
		   ]
		  },
  {
"cell_type": "code",
	   "execution_count": null,
	   "metadata": {
	    "collapsed": true
	   },
	   "outputs": [],
"source": [
"//chapter 8\n",
"//example 8.6\n",
"//Calculate flux density, magnetic intensity and relative permeability\n",
"//page 237\n",
"clear;\n",
"clc;\n",
"//given\n",
"l=30; // in cm (length of solenoid)\n",
"A=1; // in cm^2 (cross-sectional area)\n",
"N=300; // number of turns\n",
"i=0.032; // in A (current through the winding)\n",
"phi_B=2E-6; // in Wb (magnetic flux)\n",
"pi=3.14;// value of pi used in the solution\n",
"mu0=4*pi*1E-7; // in H/m (absolute permeability)\n",
"//calculate\n",
"l=l*1E-2; // changing unit from cm to m\n",
"A=A*1E-4; // changing unit from cm^2 to m^2\n",
"B=phi_B/A; // calculation of flux density\n",
"printf('\nThe flux density is \tB=%1.0E Wb/m^2',B);\n",
"H=N*i/l; // calculation of magnetic intensity\n",
"printf('\nThe magnetic intensity is \tH=%.f A-turns/m',H);\n",
"mu=B/H; // calcluation of absolute permeability of iron\n",
"mu_r=mu/mu0; // calcluation of relative permeability of iron\n",
"printf('\nThe relative permeability of iron is \t%.f',mu_r);\n",
"// Note: The value of relative permeability varies slightly due to the use of round off value mu as calculated"
   ]
   }
,
{
		   "cell_type": "markdown",
		   "metadata": {},
		   "source": [
			"## Example 8.7: Calculate_Hystersis_loss_per_cycle.sce"
		   ]
		  },
  {
"cell_type": "code",
	   "execution_count": null,
	   "metadata": {
	    "collapsed": true
	   },
	   "outputs": [],
"source": [
"//chapter 8\n",
"//example 8.7\n",
"//Calculate Hystersis loss per cycle\n",
"//page 238\n",
"clear;\n",
"clc;\n",
"//given\n",
"A=100; // in m^2 (area of Hysteresis loop)\n",
"B=0.01; // in Wb/m^2 (unit space along vertical axis or magnetic flux density)\n",
"H=40; // in A/m (unit space along horizontal axis or magnetic fild ntensity)\n",
"//calculate\n",
"H_L=A*B*H; // calculation of magnetic intensity\n",
"printf('\nThe Hystersis loss per cycle is  %.f J/m^2',H_L);"
   ]
   }
],
"metadata": {
		  "kernelspec": {
		   "display_name": "Scilab",
		   "language": "scilab",
		   "name": "scilab"
		  },
		  "language_info": {
		   "file_extension": ".sce",
		   "help_links": [
			{
			 "text": "MetaKernel Magics",
			 "url": "https://github.com/calysto/metakernel/blob/master/metakernel/magics/README.md"
			}
		   ],
		   "mimetype": "text/x-octave",
		   "name": "scilab",
		   "version": "0.7.1"
		  }
		 },
		 "nbformat": 4,
		 "nbformat_minor": 0
}
