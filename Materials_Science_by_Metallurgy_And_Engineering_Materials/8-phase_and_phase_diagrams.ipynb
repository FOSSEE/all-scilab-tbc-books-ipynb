{
"cells": [
 {
		   "cell_type": "markdown",
	   "metadata": {},
	   "source": [
       "# Chapter 8: phase and phase diagrams"
	   ]
	},
{
		   "cell_type": "markdown",
		   "metadata": {},
		   "source": [
			"## Example 8.1: gibbs_phase_rule.sce"
		   ]
		  },
  {
"cell_type": "code",
	   "execution_count": null,
	   "metadata": {
	    "collapsed": true
	   },
	   "outputs": [],
"source": [
"//example-8.1\n",
"//page no-227\n",
"//given\n",
"//according to reduced phase rule, we have\n",
"//D=C-P+2\n",
"C=2  // for two component system\n",
"P=1\n",
"for P=1:5\n",
"     //no of variables\n",
"    V=P*(C-1)+2\n",
"    //degrees of freedom\n",
"    D=C-P+2\n",
"end\n",
" printf ('we can see that for P=5 we have D=-1 i.e non existent so,two components cannot have more than 4 phases in equilibrium')"
   ]
   }
,
{
		   "cell_type": "markdown",
		   "metadata": {},
		   "source": [
			"## Example 8.2: composition_of_alloy.sce"
		   ]
		  },
  {
"cell_type": "code",
	   "execution_count": null,
	   "metadata": {
	    "collapsed": true
	   },
	   "outputs": [],
"source": [
"//example-8.2\n",
"//page no-235\n",
"//given\n",
"//density of alpha and beta phases\n",
"rhoalpha=10300  //kg/m^3\n",
"rhobeta=7300  //kg/m^3\n",
"//refer to fig-8.5 in book\n",
"//at point B, the composition of lead in alpha-phase is 82% and that of tin in alpha-phase is 18%\n",
"leadalpha=82\n",
"tinalpha=18\n",
"//so we get\n",
"//82/rholead+18/rhotin=100/rhoalpha   -----------(1)\n",
"//similarly at point E\n",
"//the composition of tin and lead resp are 97% and 3%\n",
"leadbeta=3\n",
"tinbeta=97\n",
"//so we get\n",
"//3/rholead+97/rhotin=100/rhobeta  ------(2)\n",
"//solving 1 and 2\n",
"//we get\n",
"rholead=11364.1  //kg/m^3\n",
"rhotin=7220.14  //kg/m^3\n",
"//let density of eutectic composition is rhoe. knowing the compositions at point D, we can write\n",
"//38/rholead+62/rhotin=100/rhoe\n",
"//so \n",
"rhoe=100/(38/rholead+62/rhotin)   //kg/m^3\n",
"//it is given that there is 88% eutectic composition by volume. its conversion in weight proportions yeild\n",
"W=88/100*rhoe  //kgf\n",
"Wlead=38/100*W  //Kgf\n",
"Wtin=62/100*W   //kgf\n",
"//there is 12% beta phase by volume which on converion to weight proportion gives\n",
"Wdash=12/100*rhobeta  //Kgf\n",
"Wdashlead=3/100*Wdash  //kgf\n",
"Wdashtin=97/100*Wdash  //kgf\n",
"//total weight of lead and tin can be estimated now as\n",
"Wddashlead=Wlead+Wdashlead  //kgf\n",
"Wddashtin=Wtin+Wdashtin  //kgf\n",
"//percentafe of tin\n",
"percenttin=Wddashtin/(Wddashtin+Wddashlead)*100 \n",
"printf ('percentace of tin is %f',percenttin)"
   ]
   }
,
{
		   "cell_type": "markdown",
		   "metadata": {},
		   "source": [
			"## Example 8.4: peritectic_system.sce"
		   ]
		  },
  {
"cell_type": "code",
	   "execution_count": null,
	   "metadata": {
	    "collapsed": true
	   },
	   "outputs": [],
"source": [
"//example-8.4\n",
"//page no-242\n",
"//given\n",
"//melting point of A and B\n",
"MptA=1250   //degrees celcius\n",
"MptB=1900   //degrees celcius\n",
"//part(a)\n",
"//according to the conditions given in question phase diagram can be drawn as shown in fig 8.10 given in book\n",
"//part(b)\n",
"//at 1250 degrees celcius , it is a peritectic solution\n",
"//equation representing the equilibrium is given in the book which denotes forward reaction as cooling and backward as heating\n",
"//part (c)\n",
"//we are just considering a tie line just above the peritectic line at temp 1251 degrees celcius\n",
"//at this point\n",
"Cs1=80\n",
"Cl1=30 \n",
"C01=75\n",
"//point below peritectic line has temp as 1249 degrees celcius\n",
"Cs2=80\n",
"Cl2=50 \n",
"C02=75\n",
"//weight fraction of the phase present in the material of overall composition 75% B at 1251 degrees celcius and 75%  B at 1249 degrees \n",
"f_alpha1=(Cs1-C01)/(Cs1-Cl1)*100   //%\n",
"f_beta1=(C01-Cl1)/(Cs1-Cl1)*100   //%\n",
"f_alpha2=(Cs2-C02)/(Cs2-Cl2)*100   //%\n",
"f_beta2=(C02-Cl2)/(Cs2-Cl2)*100  //%\n",
"//part (d)\n",
"// 75% B at room temp\n",
"Cs3=90\n",
"Cl3=30 \n",
"C03=75\n",
"f_alpha3=(Cs3-C03)/(Cs3-Cl3)*100   //%\n",
"f_beta3=(C03-Cl3)/(Cs3-Cl3)*100   //%\n",
"//the microstructure is also shown in book at page no 243\n",
"printf ('weight fraction of the phase present in the material of overall composition 75 percent B at 1251 degrees celcius and 75percent  B at 1249 degrees are %d %d %f %f  and at 75 percent concentration of B at room temp is %d %d',f_alpha1,f_beta1,f_alpha2,f_beta2,f_alpha3,f_beta3)"
   ]
   }
,
{
		   "cell_type": "markdown",
		   "metadata": {},
		   "source": [
			"## Example 8.5: eutectic_system.sce"
		   ]
		  },
  {
"cell_type": "code",
	   "execution_count": null,
	   "metadata": {
	    "collapsed": true
	   },
	   "outputs": [],
"source": [
"//example-8.5\n",
"//page no-246\n",
"//given\n",
"//according to the given conditions in the ques the graph can be drawn as shown in fig 8.12\n",
"//the given temp 576.9 degees celcius is just below the eutectic temp 577 degres celcius\n",
"//from the graph, we can have the following values\n",
"C_beta_e=100\n",
"C_e=1.65\n",
"C_0=10\n",
"//hence weight fraction is given by\n",
"W_alpha=(C_beta_e-C_0)/(C_beta_e-C_e)\n",
"printf ('the weight fraction of alpha in an alloy containing 10percent Si at 576.9 degrees celcius is %f ',W_alpha)"
   ]
   }
,
{
		   "cell_type": "markdown",
		   "metadata": {},
		   "source": [
			"## Example 8.6: eutectic_system.sce"
		   ]
		  },
  {
"cell_type": "code",
	   "execution_count": null,
	   "metadata": {
	    "collapsed": true
	   },
	   "outputs": [],
"source": [
"//example-8.6\n",
"//page no-247\n",
"//given\n",
"//weight percent of tin and lead are\n",
"W1=90\n",
"W2=10\n",
"//let the amount of tin that can be added to the crucible without  changing the system's solidificarion is 'm' \n",
"//eutectic arm extends to 97% tin\n",
"//therefore, with the addition of 'm' gram of tin, the composition of alloy should not exceed 97% tin\n",
"//therefore\n",
"//(900+m)/(1000+m)=97/100\n",
"//so\n",
"m=(97/100*1000-900)/(1-97/100)/1000  //kg because 1kg=1000g\n",
"printf ('maximum %f kg of tin can be added without changing the systems temperature',m)"
   ]
   }
,
{
		   "cell_type": "markdown",
		   "metadata": {},
		   "source": [
			"## Example 8.7: eutectoid_mixture_of_pearlite.sce"
		   ]
		  },
  {
"cell_type": "code",
	   "execution_count": null,
	   "metadata": {
	    "collapsed": true
	   },
	   "outputs": [],
"source": [
"//example-8.7\n",
"//page no-250\n",
"//given\n",
"//the eutectoidal mixture of pearlite consists of two phases viz. alpha (ferrite) and Fe3C (cementite). the eutectoid composition contains 0.83% carbon. the lever rule is applied in which the lever arm has ferrite (=0% carbon) at one end and cementite  (6.67% carbon) at the other end. the fulcrum is taken at 0.83% carbon. hence by applying lever rule, we get\n",
"Walpha=(6.67-0.83)/(6.67-0.00)\n",
"WFe3C=(0.83-0.0)/(6.67-0.0)\n",
"printf ('the weight fractions of ferrite and cementite are %f and %f resp',Walpha,WFe3C)"
   ]
   }
],
"metadata": {
		  "kernelspec": {
		   "display_name": "Scilab",
		   "language": "scilab",
		   "name": "scilab"
		  },
		  "language_info": {
		   "file_extension": ".sce",
		   "help_links": [
			{
			 "text": "MetaKernel Magics",
			 "url": "https://github.com/calysto/metakernel/blob/master/metakernel/magics/README.md"
			}
		   ],
		   "mimetype": "text/x-octave",
		   "name": "scilab",
		   "version": "0.7.1"
		  }
		 },
		 "nbformat": 4,
		 "nbformat_minor": 0
}
