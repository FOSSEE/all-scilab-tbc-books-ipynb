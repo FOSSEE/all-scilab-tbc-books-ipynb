{
"cells": [
 {
		   "cell_type": "markdown",
	   "metadata": {},
	   "source": [
       "# Chapter 10: Mechanical Tests and Factors Affecting Mechanical Properties"
	   ]
	},
{
		   "cell_type": "markdown",
		   "metadata": {},
		   "source": [
			"## Example 10.16: ASTM_Number.sce"
		   ]
		  },
  {
"cell_type": "code",
	   "execution_count": null,
	   "metadata": {
	    "collapsed": true
	   },
	   "outputs": [],
"source": [
"//example-10.16\n",
"//page no-332\n",
"//given\n",
"//ASTM number\n",
"n=4\n",
"//as we know that\n",
"N=2^(n-1)  //per inch^2 at a magnification of 100\n",
"//let r be the radius of grain\n",
"//so\n",
"//N*A=1/100 inch^2  where A=(%pi)*r^2\n",
"//so\n",
"r=sqrt(1/100/N/(%pi))   //inch\n",
"//radius of grain in mm\n",
"R=r*25.4  //mm\n",
"printf ('the radius of grain is %f mm', R)"
   ]
   }
,
{
		   "cell_type": "markdown",
		   "metadata": {},
		   "source": [
			"## Example 10.1: stress_strai.sce"
		   ]
		  },
  {
"cell_type": "code",
	   "execution_count": null,
	   "metadata": {
	    "collapsed": true
	   },
	   "outputs": [],
"source": [
"//example-10.1\n",
"//page no-298\n",
"//given\n",
"//initial gauge length of the specimen\n",
"l0=50*10^-3   //m\n",
"//initia;l gauge diameter of the specimen\n",
"d0=12*10^-3  //m\n",
"//extended gauge length of fracture\n",
"lf=58*10^-3   //m\n",
"//reduced gauge diameter\n",
"df=7*10^-3  //m\n",
"//initial an final cross sectional areas are\n",
"A_i=3.14/4*d0^2   //m^2\n",
"A_f=3.14/4*df^2   //m^2\n",
"//various applied loads are in k N\n",
"P1=0\n",
"P2=5\n",
"P3=10\n",
"P4=15\n",
"P5=20\n",
"P6=25\n",
"P7=30\n",
"P8=32\n",
"P9=33\n",
"P10=32\n",
"P11=31\n",
"P12=35\n",
"P13=40\n",
"P16=130\n",
"//corresponding to these load we have recorded elongation as\n",
"delta1=0\n",
"delta2=0.011\n",
"delta3=0.022\n",
"delta4=0.035\n",
"delta5=0.048\n",
"delta6=0.059\n",
"delta7=0.073\n",
"delta8=0.088\n",
"delta9=0.100\n",
"delta10=0.125\n",
"delta11=0.150\n",
"delta12=0.230\n",
"delta13=0.400\n",
"delta16=8.000\n",
"//stress and strain corresponding to these loads and elongations are\n",
"sigma1=P1/A_i\n",
"strain1=delta1/l0\n",
"sigma2=P2/A_i\n",
"strain2=delta2/l0\n",
"sigma3=P3/A_i\n",
"strain3=delta3/l0\n",
"sigma4=P4/A_i\n",
"strain4=delta4/l0\n",
"sigma5=P5/A_i\n",
"strain5=delta5/l0\n",
"sigma6=P6/A_i\n",
"strain6=delta6/l0\n",
"sigma7=P7/A_i\n",
"strain7=delta7/l0\n",
"sigma8=P8/A_i\n",
"strain8=delta8/l0\n",
"sigma9=P9/A_i\n",
"strain9=delta9/l0\n",
"sigma10=P10/A_i\n",
"strain10=delta10/l0\n",
"sigma11=P11/A_i\n",
"strain11=delta11/l0\n",
"sigma12=P12/A_i\n",
"strain12=delta12/l0\n",
"sigma13=P13/A_i\n",
"strain13=delta13/l0\n",
"sigma16=P16/A_i\n",
"strain16=delta16/l0\n",
"//part(a)\n",
"//modulus of elasticity\n",
"E=(sigma4-sigma1)/(strain4-strain1)/10^3   //G Pa\n",
"//part(b)\n",
"//ultimate stress (maximum)\n",
"ultimate_sigma=P16/A_i*10^3/10^6   //M N/m^3\n",
"//part (c)\n",
"//upper yield point at C (shown in fig 10.3)\n",
"u_yield=P9/A_i*1000/10^6   //M N/m^2\n",
"//lower yield point at D (shown in fig 10.3)\n",
"l_yield=P11/A_i*1000/10^6   //M N/m^2\n",
"//part(d)\n",
"//percentage reduction in area\n",
"percent_A=(d0^2-df^2)/d0^2*100  //%\n",
"//part (e)\n",
"//percentage elongation\n",
"percent_l=(lf-l0)/l0*100  //%\n",
"//part(f)\n",
"//apparent breaking stress\n",
"app_breaking_stress=P16*1000/A_i/10^6   //M N/m^2\n",
"//actual breaking stress\n",
"actual_breaking_stress=P16*1000/A_f/10^6   //M N/m^2\n",
"printf ('the modulus of elasticity is %f G Pa \n the ultimate (maximum) stress is %f M n/m^2 \n,upper yield point is %f M N/m^2 \n lower yield point is %f M n/m^2\n percentage reduction in area is %f \n percentage elongation in length %f\n apparent breaking stress is %f M n/mm^2\n actual breaking point is %f M n/m^2',E,ultimate_sigma,u_yield,l_yield,percent_A,percent_l,app_breaking_stress,actual_breaking_stress)"
   ]
   }
,
{
		   "cell_type": "markdown",
		   "metadata": {},
		   "source": [
			"## Example 10.2: stress_strai.sce"
		   ]
		  },
  {
"cell_type": "code",
	   "execution_count": null,
	   "metadata": {
	    "collapsed": true
	   },
	   "outputs": [],
"source": [
"//example-10.2\n",
"//page no-303\n",
"//given\n",
"//initial length of the specimen\n",
"h0=24.02*10^-3   //m\n",
"//initial gauge diameter of the specimen\n",
"d0=18.74*10^-3  //m\n",
"//final length of specimen\n",
"hf=18.70*10^-3   //m\n",
"//final diameter\n",
"df=21.54*10^-3  //m\n",
"//initial an final cross sectional areas are\n",
"A_i=3.14/4*d0^2   //m^2\n",
"A_f=3.14/4*df^2   //m^2\n",
"//various applied loads are in k N\n",
"P1=0\n",
"P2=5\n",
"P3=10\n",
"P4=15\n",
"P5=20\n",
"P6=25\n",
"P7=30\n",
"P8=35\n",
"P9=40\n",
"P10=45\n",
"P11=50\n",
"P12=55\n",
"P13=60\n",
"P14=65\n",
"P15=70\n",
"P16=75\n",
"P17=80\n",
"P18=85\n",
"P19=131\n",
"//corresponding to these load we have recorded contraction as\n",
"delta1=0\n",
"delta2=0.004\n",
"delta3=0.008\n",
"delta4=0.012\n",
"delta5=0.015\n",
"delta6=0.017\n",
"delta7=0.020\n",
"delta8=0.023\n",
"delta9=0.025\n",
"delta10=0.028\n",
"delta11=0.032\n",
"delta12=0.036\n",
"delta13=0.040\n",
"delta14=0.044\n",
"delta15=0.049\n",
"delta16=0.054\n",
"delta17=0.061\n",
"delta18=0.069\n",
"//stress and strain corresponding to these loads and elongations are\n",
"sigma1=P1/A_i\n",
"strain1=delta1/h0\n",
"sigma2=P2/A_i\n",
"strain2=delta2/h0\n",
"sigma3=P3/A_i\n",
"strain3=delta3/h0\n",
"sigma4=P4/A_i\n",
"strain4=delta4/h0\n",
"sigma5=P5/A_i\n",
"strain5=delta5/h0\n",
"sigma6=P6/A_i\n",
"strain6=delta6/h0\n",
"sigma7=P7/A_i\n",
"strain7=delta7/h0\n",
"sigma8=P8/A_i\n",
"strain8=delta8/h0\n",
"sigma9=P9/A_i\n",
"strain9=delta9/h0\n",
"sigma10=P10/A_i\n",
"strain10=delta10/h0\n",
"sigma11=P11/A_i\n",
"strain11=delta11/h0\n",
"sigma12=P12/A_i\n",
"strain12=delta12/h0\n",
"sigma13=P13/A_i\n",
"strain13=delta13/h0\n",
"sigma14=P14/A_i\n",
"strain14=delta14/h0\n",
"sigma15=P15/A_i\n",
"strain15=delta15/h0\n",
"sigma16=P16/A_i\n",
"strain16=delta16/h0\n",
"sigma17=P17/A_i\n",
"strain17=delta17/h0\n",
"sigma18=P18/A_i\n",
"strain18=delta18/h0\n",
"//part(a)\n",
"//modulus of elasticity\n",
"E=(sigma13-sigma1)/(strain13-strain1)/10^3   //G Pa\n",
"//part(b)\n",
"// yield stress at D (shown in fig 10.6)\n",
"yield=P15/A_i*1000/10^6   //M N/m^2\n",
"//part (c)\n",
"//ultimate stress (maximum)\n",
"ultimate_sigma=P19/A_i*10^3/10^6   //M N/m^3\n",
"//part (d)\n",
"//percentage contraction\n",
"percent_l=(h0-hf)/h0*100  //%\n",
"//part(e)\n",
"//percentage increase in area\n",
"percent_A=(df^2-d0^2)/d0^2*100  //%\n",
"//part(f)\n",
"//apparent breaking stress\n",
"app_breaking_stress=P19*1000/A_i/10^6   //M N/m^2\n",
"//actual breaking stress\n",
"actual_breaking_stress=P19*1000/A_f/10^6   //M N/m^2\n",
"printf ('the modulus of elasticity is %f G Pa \n , yield stress is %f M n/m^2\nthe ultimate (maximum) stress is %f M n/m^2 \n  percentage contraction in length %f\n percentage increase in area is %f \n apparent breaking stress is %f M n/mm^2\n actual breaking point is %f M n/m^2',E,yield,ultimate_sigma,percent_l,percent_A,app_breaking_stress,actual_breaking_stress)"
   ]
   }
,
{
		   "cell_type": "markdown",
		   "metadata": {},
		   "source": [
			"## Example 10.3: Mechanical_properties.sce"
		   ]
		  },
  {
"cell_type": "code",
	   "execution_count": null,
	   "metadata": {
	    "collapsed": true
	   },
	   "outputs": [],
"source": [
"//example-10.3\n",
"//page no-307\n",
"//given\n",
"//length of glass piece\n",
"l=1.1*10^3  //mm\n",
"//width of glass piece\n",
"b=225   //mm\n",
"//height or thicness of plate\n",
"h=10  //mm\n",
"//load\n",
"P=250  //N\n",
"//for a simply supported beam subjected to concentrated load in the middle  of its span,\n",
"M=P*l/4  //N mm\n",
"//and force\n",
"F=P/2  //N\n",
"//part(a)\n",
"//flexure strength\n",
"sigma=6*M/b/h^2  //N/mm^2\n",
"//part (b)\n",
"//shear strength\n",
"tau=3*F/2/b/h  //N/mm^2\n",
"//part (c)\n",
"P1=350  //N\n",
"M1=P1*l/4\n",
"//ineria\n",
"I=b*h^3/12  //mm^4\n",
"y=h/2  //mm\n",
"//the modulus of rupture  is given by\n",
"sigmar=M1*y/I\n",
"printf ('the flexture strength, shear strength and modulus of rupture are %f N/mm^2, %f N/mm^2 and %f N/mm^2 resp',sigma, tau, sigmar)"
   ]
   }
,
{
		   "cell_type": "markdown",
		   "metadata": {},
		   "source": [
			"## Example 10.4: BHN_Number.sce"
		   ]
		  },
  {
"cell_type": "code",
	   "execution_count": null,
	   "metadata": {
	    "collapsed": true
	   },
	   "outputs": [],
"source": [
"//example-10.4\n",
"//page no-313\n",
"//given\n",
"//diameter of ball\n",
"D=0.5*10   //mm\n",
"//indentation diameter\n",
"d=32.5/10  //mm (diveided by 10 because it is 10 times magnified)\n",
"//from table- 10.3 of book , the load for steel specimen is\n",
"P=30*D^2  //kg f\n",
"//hardness\n",
"BHN=P/[(%pi)*D/2*{D-sqrt(D^2-d^2)}]  \n",
"printf ('the hardness is %f' ,BHN)"
   ]
   }
,
{
		   "cell_type": "markdown",
		   "metadata": {},
		   "source": [
			"## Example 10.5: mechanical_properties.sce"
		   ]
		  },
  {
"cell_type": "code",
	   "execution_count": null,
	   "metadata": {
	    "collapsed": true
	   },
	   "outputs": [],
"source": [
"//example-10.5\n",
"//page no-321\n",
"//given\n",
"//dimension of steel specimen\n",
"l=75  //mm\n",
"b=10  //mm\n",
"t=10  //mm\n",
"//depth of V-notch is t/5\n",
"//in the absence of specimen, frictional and windage loss\n",
"L1=0.1  //kg f.m\n",
"//in the presence ofspecimen, which is placed on support breaks\n",
"L2=5.9  //kg f m\n",
"//rupture energy\n",
"U=L2-L1  //kg f m\n",
"//since the depth of V-notch is t/5\n",
"//so t/5=2\n",
"te=t-2  //mm\n",
"//volume of specimen\n",
"Ve=l*b*te*10^-9  //m^3\n",
"//modulus of rupture\n",
"Ur=U/Ve  //kg f/m^2\n",
"//effective area of cross section\n",
"Ae=b*te*10^-6  //m^2\n",
"//notch impact strength\n",
"Is=U/Ae  //kg/m\n",
"//given that \n",
"Ui=30   //kg f.m\n",
"alpha=160*(%pi)/180  //radians\n",
"//swing diameter\n",
"D=1600  //mm\n",
"R=D/2*10^-3  //m\n",
"//weight of hammer\n",
"//as we know that\n",
"//Ut=W*R(1-cos(aplha))\n",
"//so\n",
"W=Ui/R/(1-cos(alpha))  //kg f.m\n",
"//capacity of izod impact testing machine\n",
"L3=30  //kg f.m\n",
"//so Uf will be\n",
"Uf=L3-L2   //kbg f.m\n",
"//we know that energy after rupture\n",
"//Uf=W*R(1-cos(beta))\n",
"bet=acos(1-Uf/W/R)  //radins\n",
"//beta in degrees\n",
"Beta=bet*180/(%pi)  //degrees\n",
"//also we know that Uf=W*hf\n",
"//so hf will be\n",
"hf=Uf/W  //m\n",
"printf ('rupture energy is %f kg f.m \n, modulus of rupture %f kg f/m^2 \n, notch impact strength %f kg/m \n, angle of hammer after striking %f degrees \n and height risen by hammer after breaking %f m',U,Ur,Is,Beta,hf)"
   ]
   }
,
{
		   "cell_type": "markdown",
		   "metadata": {},
		   "source": [
			"## Example 10.6: endurance_stress.sce"
		   ]
		  },
  {
"cell_type": "code",
	   "execution_count": null,
	   "metadata": {
	    "collapsed": true
	   },
	   "outputs": [],
"source": [
"//example-10.6\n",
"//page no-323\n",
"//given\n",
"//diameter  of circular section of bean\n",
"d=60  //mm\n",
"//length of circular section of beam\n",
"l=500  //mm\n",
"//maximum and minimum load \n",
"Pmin= 20  //kN\n",
"Pmax= 50  //kN\n",
"//ultimate strength\n",
"sigmau=650  //MPa\n",
"//yoeld strength\n",
"sigmay=520  //MPa\n",
"//factor of safety\n",
"fos=1.8\n",
"//maximum bending moment\n",
"Mmax=Pmax*l/4  //kN mm\n",
"//minimum bending moment\n",
"Mmin=Pmin*l/4  //kN mm\n",
"//mean bending moment\n",
"Mm=(Mmax+Mmin)/2  //kN mm\n",
"//alerting (variable) bending moment\n",
"Ma=(Mmax-Mmin)/2  //kN mm\n",
"//section modulus of beam\n",
"Z=(%pi)*d^3/32  //mm^3\n",
"//mean bending stress\n",
"sigmam=Mm/Z*1000  //MPa\n",
"//variable bending stress\n",
"sigmaa=Ma/Z*1000    //MPa\n",
"//endurance stress from\n",
"//(i) gerber's parabolic relation\n",
"sigmae1=sigmaa/[1/fos-(sigmam/sigmau)^2*fos]  //MPa\n",
"//(ii) goodman's straight line relation\n",
"sigmae2=sigmaa/[1/fos-sigmam/sigmau]  //MPa\n",
"//(iii) soderberg's straight line realtion\n",
"sigmae3=sigmaa/[1/fos-sigmam/sigmay]  //MPa\n",
"printf ('sndurance strength of the material are \n Gerbers parabolic fomula %f MPa\n, goodmans straight line formula %f MPa\n and sodergerbs straight line relation %f MPa ',sigmae1,sigmae2,sigmae3)"
   ]
   }
,
{
		   "cell_type": "markdown",
		   "metadata": {},
		   "source": [
			"## Example 10.7: yield_strength.sce"
		   ]
		  },
  {
"cell_type": "code",
	   "execution_count": null,
	   "metadata": {
	    "collapsed": true
	   },
	   "outputs": [],
"source": [
"//example-10.7\n",
"//page no-329\n",
"//given\n",
"//yeild strength of polycrystalline material increases from sigmay1 to sigmay2\n",
"sigmay1=118  //MPa\n",
"sigmay2=207  //MPa\n",
"//decreasing grain diameter from d1 to d2\n",
"d1=0.253*10^-3   //m\n",
"d2=0.0224*10^-3  //m\n",
"//to find the yield strngth at \n",
"d=0.095*10^-3  //m\n",
"//as we know that according to hall and petch equation,\n",
"//sigmay=sigma0+C/sqrt(d)\n",
"//putting sigmay1,sigmay2,d1 and d2.. we get 2 equations\n",
"//sigma0+C/sqrt(d1)=sigmay1  -------(1)\n",
"//and sigma0+C/sqrt(d2)=sigmay2    -----(2)\n",
"//solving equation 1 and 2 we get\n",
"sigma0=80.3  //MPa\n",
"//and\n",
"C=0.1896  //MN/m^(3/2)\n",
"//so the yield stress for the grain size\n",
"d=0.095*10^-3  //m\n",
"sigma=sigma0+C/sqrt(d)  //MPa\n",
"printf ('the yield stress for a grainof size of 0.095 mm is %f MPa',sigma)\n",
""
   ]
   }
,
{
		   "cell_type": "markdown",
		   "metadata": {},
		   "source": [
			"## Example 10.8: ASTM_Number.sce"
		   ]
		  },
  {
"cell_type": "code",
	   "execution_count": null,
	   "metadata": {
	    "collapsed": true
	   },
	   "outputs": [],
"source": [
"//example-10.8\n",
"//page no-330\n",
"//given\n",
"//ASTM number\n",
"n=12\n",
"//as we know that\n",
"N=2^(n-1) \n",
"//1 square inch=645 mm^2\n",
"//so grain diameter for ASTM number 12 will be\n",
"d=1/sqrt((N/645)*10^4)  //mm\n",
"printf ('the grain diameter of ASTM number 12 is %f mm',d)"
   ]
   }
,
{
		   "cell_type": "markdown",
		   "metadata": {},
		   "source": [
			"## Example 10.9: ASTM_Number.sce"
		   ]
		  },
  {
"cell_type": "code",
	   "execution_count": null,
	   "metadata": {
	    "collapsed": true
	   },
	   "outputs": [],
"source": [
"//example-10.9\n",
"//page no-330\n",
"//given\n",
"//ASTM number of grain\n",
"n=5\n",
"//as we know that\n",
"N=2^(n-1) //grains/inche^2 at magnification 100*\n",
"// as lineal and areal magnifications are related as *100=10,000 areal\n",
"N1=N/0.01/0.01  //grains/inch^2 at 1*\n",
"//average area of one grain\n",
"A=2.54*2.54/N1  //cm^2\n",
"//now N1 grains/ inch^2 of surface is = sqrt(160,000)=400 grain/inch of length and this is equal to =(400)^3=6.4*10^7  grains/m^3 of volume\n",
"//surface area of eaxh cubic surface\n",
"S=(1/400)^2  //inch^2\n",
"//there are 6 surfaces in a cubic grain\n",
"//so total surface area of each grain\n",
"TS=6*S  //inch^2\n",
"//each boundary is composed of two grain surfaces, therefore , total boundary in the volume is\n",
"TotS=1/2*TS*(400)^3  //inch^2 boundary per cubic of steel\n",
"//total suface area in cm^2\n",
"TotalS=TotS/(2.54)  //cm^2 boundary per cubic cm of steel\n",
"printf ('total boundary in the volume is %f cm^2 per cm^3 of steel',TotalS)"
   ]
   }
],
"metadata": {
		  "kernelspec": {
		   "display_name": "Scilab",
		   "language": "scilab",
		   "name": "scilab"
		  },
		  "language_info": {
		   "file_extension": ".sce",
		   "help_links": [
			{
			 "text": "MetaKernel Magics",
			 "url": "https://github.com/calysto/metakernel/blob/master/metakernel/magics/README.md"
			}
		   ],
		   "mimetype": "text/x-octave",
		   "name": "scilab",
		   "version": "0.7.1"
		  }
		 },
		 "nbformat": 4,
		 "nbformat_minor": 0
}
