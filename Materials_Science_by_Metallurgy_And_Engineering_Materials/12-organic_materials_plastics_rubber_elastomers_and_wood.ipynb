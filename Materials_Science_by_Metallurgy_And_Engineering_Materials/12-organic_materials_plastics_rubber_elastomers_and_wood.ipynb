{
"cells": [
 {
		   "cell_type": "markdown",
	   "metadata": {},
	   "source": [
       "# Chapter 12: organic materials plastics rubber elastomers and wood"
	   ]
	},
{
		   "cell_type": "markdown",
		   "metadata": {},
		   "source": [
			"## Example 12.1: polymers.sce"
		   ]
		  },
  {
"cell_type": "code",
	   "execution_count": null,
	   "metadata": {
	    "collapsed": true
	   },
	   "outputs": [],
"source": [
"//example-12.1\n",
"//page no-382\n",
"//given\n",
"//degree of polymerization of styrene\n",
"DOP=10000\n",
"//formula of styrene= C8H8\n",
"//molecular weight of styrene monomer\n",
"Mm=12*8+1*8\n",
"//molecular weight of polymer\n",
"Mp=DOP*Mm\n",
"printf ('the molecular weight of styrene polymer is %d',Mp)"
   ]
   }
,
{
		   "cell_type": "markdown",
		   "metadata": {},
		   "source": [
			"## Example 12.2: polymers.sce"
		   ]
		  },
  {
"cell_type": "code",
	   "execution_count": null,
	   "metadata": {
	    "collapsed": true
	   },
	   "outputs": [],
"source": [
"//example-12.2\n",
"//page no-382\n",
"//given\n",
"//degree of polymerization of teflon\n",
"DOP=100000\n",
"//chemical formula of teflon is C2F4\n",
"//molecular weight of monomer teflon\n",
"Mm=2*12+4*19\n",
"//molecular weight of teflon polymer\n",
"Mp=DOP*Mm\n",
"//molecular weight of polythene monomer i.ee C2H4\n",
"MmP=2*12+4*1\n",
"//molecular weight of polythene polymer\n",
"MpP=DOP*MmP\n",
"printf ('molecular weight of PTFE anf Polythene are %d and %d',Mm,MpP)\n",
"//ratio of molecular weight of PTFE and Polythene\n",
"R=Mp/MpP\n",
"printf ('the ration of molecular weight of PTFE and Polythene having same DOP is %f',R)"
   ]
   }
,
{
		   "cell_type": "markdown",
		   "metadata": {},
		   "source": [
			"## Example 12.3: natural_rubber.sce"
		   ]
		  },
  {
"cell_type": "code",
	   "execution_count": null,
	   "metadata": {
	    "collapsed": true
	   },
	   "outputs": [],
"source": [
"//example-12.3\n",
"//page no-396\n",
"//given\n",
"//the molecular weight of polyisoprene monomer\n",
"Mm=68  //gm\n",
"//after vulcanisation with sulphur, it is observedthat the 2 molecules of isoprene monimer require 2 molecules of sulphur\n",
"//hence for full cross linking ,(68*2) gm of isoprene requires (32*2)gm of sulphur. therefore 68kg of isoprene requires\n",
"M=32*2*68/68/2  //kg of sulphur\n",
"printf ('the weight of sulphur required for cross link polymerization of polyisoprene is %d of sulphur',M)\n",
"printf ('the fully cross linked product will be EBONITE')"
   ]
   }
,
{
		   "cell_type": "markdown",
		   "metadata": {},
		   "source": [
			"## Example 12.4: vulcanization_of_rubber.sce"
		   ]
		  },
  {
"cell_type": "code",
	   "execution_count": null,
	   "metadata": {
	    "collapsed": true
	   },
	   "outputs": [],
"source": [
"//example-12.4\n",
"//page no-396\n",
"//given\n",
"//molecular weight of butdiene,isoprene,sulhur and carbon black are\n",
"MB=4*12+6*1\n",
"MI=68\n",
"MS=32\n",
"MC=12\n",
"//percentages of diiferent constituents in rubber\n",
"PB=27/MB\n",
"PI=51/MI\n",
"PS=16/MS\n",
"PC=6/MC\n",
"//percentage of coss linking\n",
"percent=PS/(PI+PB)*100\n",
"printf ('the percentage of cross linking is %d',percent)"
   ]
   }
],
"metadata": {
		  "kernelspec": {
		   "display_name": "Scilab",
		   "language": "scilab",
		   "name": "scilab"
		  },
		  "language_info": {
		   "file_extension": ".sce",
		   "help_links": [
			{
			 "text": "MetaKernel Magics",
			 "url": "https://github.com/calysto/metakernel/blob/master/metakernel/magics/README.md"
			}
		   ],
		   "mimetype": "text/x-octave",
		   "name": "scilab",
		   "version": "0.7.1"
		  }
		 },
		 "nbformat": 4,
		 "nbformat_minor": 0
}
