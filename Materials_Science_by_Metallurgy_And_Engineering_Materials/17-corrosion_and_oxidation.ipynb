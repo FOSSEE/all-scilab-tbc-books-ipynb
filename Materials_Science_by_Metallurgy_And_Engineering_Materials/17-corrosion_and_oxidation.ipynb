{
"cells": [
 {
		   "cell_type": "markdown",
	   "metadata": {},
	   "source": [
       "# Chapter 17: corrosion and oxidation"
	   ]
	},
{
		   "cell_type": "markdown",
		   "metadata": {},
		   "source": [
			"## Example 17.1: oxidation_of_nickel.sce"
		   ]
		  },
  {
"cell_type": "code",
	   "execution_count": null,
	   "metadata": {
	    "collapsed": true
	   },
	   "outputs": [],
"source": [
"//example-17.1\n",
"//page no-511\n",
"//given\n",
"//density of nickel and nickel oxide (NiO)\n",
"rhom=8900  //kg/m^3\n",
"rhoc=7080  //kg/m^3\n",
"//molecular weight of nickel and nickel oxide\n",
"Mm=58.51\n",
"Mc=74.71\n",
"//molar volumes are\n",
"Vm=Mm/rhom  //m^3/mol\n",
"Vc=Mc/rhoc  //m^3/mol\n",
"printf ('it is clear that Vc>Vm, so a protective film will form over nickel')"
   ]
   }
,
{
		   "cell_type": "markdown",
		   "metadata": {},
		   "source": [
			"## Example 17.2: laws_of_corrosio.sce"
		   ]
		  },
  {
"cell_type": "code",
	   "execution_count": null,
	   "metadata": {
	    "collapsed": true
	   },
	   "outputs": [],
"source": [
"//example-17.2\n",
"//page no-513\n",
"//given\n",
"//oxidation loss on the copper surface is 0.1 mm in 25 hours\n",
"t1=25  //hours\n",
"x1=0.1  //mm\n",
"//to find the loss in 300 hours\n",
"t2=300  //hours\n",
"// as we know that oxidation loss is given by\n",
"//x^2=Cp*t\n",
"//for t1 and t2 we have following equations\n",
"//x1^2=Cp*t1  -------(1)\n",
"//x2^2=Cp*t2   -----------(2)\n",
"//dividing equation 1 by 2\n",
"//we get\n",
"x2=x1*sqrt(t2/t1)   //mm\n",
"printf ('loss in 300 hours is %f mm',x2)"
   ]
   }
,
{
		   "cell_type": "markdown",
		   "metadata": {},
		   "source": [
			"## Example 17.3: protection_against_corrosion.sce"
		   ]
		  },
  {
"cell_type": "code",
	   "execution_count": null,
	   "metadata": {
	    "collapsed": true
	   },
	   "outputs": [],
"source": [
"//example-17.3\n",
"//page no-515\n",
"//given\n",
"//atomic weight  and density of magnesium\n",
"MMg=24.3  //gm\n",
"rhoMg=1.740  //g/cm^3\n",
"//molecular weight and density of MgO\n",
"MMgO=40.3  //gm\n",
"rhoMgO=3.650  //g/cm^3\n",
"//volume of Mg and Mgo\n",
"VMg=MMg/rhoMg  //cm^3\n",
"VMgO=MMgO/rhoMgO  //cm^3\n",
"//we know that pilling-bedworth ratio is given by\n",
"PBR=VMgO/VMg  \n",
"printf ('since PBR is less than 1 so the film formed is not protective ')"
   ]
   }
,
{
		   "cell_type": "markdown",
		   "metadata": {},
		   "source": [
			"## Example 17.4: protection_against_corrosion.sce"
		   ]
		  },
  {
"cell_type": "code",
	   "execution_count": null,
	   "metadata": {
	    "collapsed": true
	   },
	   "outputs": [],
"source": [
"//example-17.4\n",
"//page no-526\n",
"//given\n",
"//one mole of magnesium weighs\n",
"MMg=0.0243  //Kg\n",
"//current density\n",
"I=20*10^-3   //A/m^2\n",
"//design life of 15 years\n",
"t=15*365*24*3600  //sec\n",
"//charge= 2 faradya\n",
"Q=2*96490  //C\n",
"//charge needed per m^2 of structure's for design life\n",
"q=I*t  //A s\n",
"//the amount of magnesium needed\n",
"AMg=MMg*q/Q  //kg/m^2\n",
"printf('the amount of magnesiun meeded is %f kg/m?^2',AMg)"
   ]
   }
],
"metadata": {
		  "kernelspec": {
		   "display_name": "Scilab",
		   "language": "scilab",
		   "name": "scilab"
		  },
		  "language_info": {
		   "file_extension": ".sce",
		   "help_links": [
			{
			 "text": "MetaKernel Magics",
			 "url": "https://github.com/calysto/metakernel/blob/master/metakernel/magics/README.md"
			}
		   ],
		   "mimetype": "text/x-octave",
		   "name": "scilab",
		   "version": "0.7.1"
		  }
		 },
		 "nbformat": 4,
		 "nbformat_minor": 0
}
