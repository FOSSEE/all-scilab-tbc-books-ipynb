{
"cells": [
 {
		   "cell_type": "markdown",
	   "metadata": {},
	   "source": [
       "# Chapter 11: Theories of Inelastic Anelastic and Viscoelastic Deformations and Fractura"
	   ]
	},
{
		   "cell_type": "markdown",
		   "metadata": {},
		   "source": [
			"## Example 11.10: griffiths_energy.sce"
		   ]
		  },
  {
"cell_type": "code",
	   "execution_count": null,
	   "metadata": {
	    "collapsed": true
	   },
	   "outputs": [],
"source": [
"//example-11.10\n",
"//page no-370\n",
"//given\n",
"E=70*10^9  //Pa\n",
"gammae=0.85  //J/m^2\n",
"l=2*10^-6  //m\n",
"//necessary stress to satisfy the griffith's energy\n",
"sigmaf=sqrt(2*E*gammae/(%pi)/l)/10^6 //Pa\n",
"printf ('the necessary stress is %f MPa',sigmaf)"
   ]
   }
,
{
		   "cell_type": "markdown",
		   "metadata": {},
		   "source": [
			"## Example 11.11: crack_length.sce"
		   ]
		  },
  {
"cell_type": "code",
	   "execution_count": null,
	   "metadata": {
	    "collapsed": true
	   },
	   "outputs": [],
"source": [
"//example-11.11\n",
"//page 371\n",
"//given\n",
"E=72*10^9  //Pa\n",
"gammae=0.9  //J/m^2\n",
"sigmaf=17.5*10^6  //Pa\n",
"//as we know that\n",
"//sigmaf=sqrt(2*E*gammae/(%pi)/l) //N/m^2\n",
"//so\n",
"l=2*E*gammae/(%pi)/(sigmaf)^2*1000  //mm\n",
"//length of intenal crack\n",
"L=2*l  //m\n",
"printf ('length of crack on the outer surface is %f mm \n and length of crack internally %f mm',l,L)"
   ]
   }
,
{
		   "cell_type": "markdown",
		   "metadata": {},
		   "source": [
			"## Example 11.1: shear_stress.sce"
		   ]
		  },
  {
"cell_type": "code",
	   "execution_count": null,
	   "metadata": {
	    "collapsed": true
	   },
	   "outputs": [],
"source": [
"//example-11.1\n",
"//page no- 343\n",
"//given\n",
"//applied stress\n",
"sigmax=3.5  //MPa\n",
"//aluminium crystal slips from (111) plane in the direction [110] when the stess is applied to (1-11)\n",
"//so\n",
"h1=1\n",
"k1=1\n",
"l1=1\n",
"h2=1\n",
"k2=-1\n",
"l2=1\n",
"//magnitude of plane (111)\n",
"M1=sqrt(h1^2+k1^2+l1^2)\n",
"//magnitude of (1-11)\n",
"M2=sqrt(h2^2+k2^2+l2^2)\n",
"//direction [110]\n",
"h3=1\n",
"k3=1\n",
"l3=0\n",
"//magnitude of direction[110]\n",
"M3=sqrt(h3^2+k3^2+l3^2)\n",
"//the angle between the planes (111) and (1-11) is \n",
"cosphie=[{h1*h2+k1*k2+l1*l2}/(M1*M2)]\n",
"sinphie=sqrt(1-(cosphie)^2)\n",
"//similarly angle between the plane (111) and the direction [110] is given by\n",
"costheta=[(h1*h3+k1*k3+l1*l3)/(M1*M3)]  \n",
"//critical resolved shear stress\n",
"taucr=sigmax*2*sinphie*cosphie*costheta/2  //MPa\n",
"printf ('the critical resolved shear stress is %f MPa',taucr)"
   ]
   }
,
{
		   "cell_type": "markdown",
		   "metadata": {},
		   "source": [
			"## Example 11.2: plastic_deformatio.sce"
		   ]
		  },
  {
"cell_type": "code",
	   "execution_count": null,
	   "metadata": {
	    "collapsed": true
	   },
	   "outputs": [],
"source": [
"//exaplme-11.2\n",
"//page no-351\n",
"//given\n",
"//shera stress\n",
"tau=715*10^6  //Pa\n",
"//shear modulus\n",
"G=25*10^9  //Pa\n",
"//atomic radius\n",
"b=4.05*10^-10  //m\n",
"//as we know that \n",
"//tau=G*b/l\n",
"//so\n",
"l=G*b/tau  //m\n",
"printf ('the length of frank- read source in aluminium crystal is %.10f m',l)"
   ]
   }
,
{
		   "cell_type": "markdown",
		   "metadata": {},
		   "source": [
			"## Example 11.3: dislocation_density.sce"
		   ]
		  },
  {
"cell_type": "code",
	   "execution_count": null,
	   "metadata": {
	    "collapsed": true
	   },
	   "outputs": [],
"source": [
"//example-11.2\n",
"//page no-351\n",
"//given\n",
"//shear modulous\n",
"G=25*10^9  //Pa\n",
"//shear stress\n",
"tau=50*10^6  //Pa\n",
"//lattice constant of aluminium is\n",
"a=4.05*10^-10  //m\n",
"//burger's vector for aluminium is 1/2(110)\n",
"h=1\n",
"k=1\n",
"l=0\n",
"//atomic radius of aluminium \n",
"b=a/sqrt(h^2+k^2+l^2) // m\n",
"//as we know that\n",
"//tau=G*b/L\n",
"//so\n",
"L=G*b/tau  //m\n",
"//disloaction density is rhoD (let)\n",
"rhoD =1/L^2  // per m^2   (calculation mistake, there in book formula written is correct but calculation is wrong)\n",
"printf ('the dislocation density is %e per m^2',rhoD)"
   ]
   }
,
{
		   "cell_type": "markdown",
		   "metadata": {},
		   "source": [
			"## Example 11.4: rate_of_straining.sce"
		   ]
		  },
  {
"cell_type": "code",
	   "execution_count": null,
	   "metadata": {
	    "collapsed": true
	   },
	   "outputs": [],
"source": [
"//example-11.4\n",
"//page no-352\n",
"//given\n",
"//burger vector\n",
"b=4*10^-10  //m\n",
"//density\n",
"N=10^13  //lines/m^2\n",
"//velocity\n",
"v=10^-5  //m/s\n",
"//rate of straining\n",
"epsilonP=N*b*v  //lines/sec\n",
"printf ('the rate of starining is %f lines/sec',epsilonP)"
   ]
   }
,
{
		   "cell_type": "markdown",
		   "metadata": {},
		   "source": [
			"## Example 11.5: stress_and_strain.sce"
		   ]
		  },
  {
"cell_type": "code",
	   "execution_count": null,
	   "metadata": {
	    "collapsed": true
	   },
	   "outputs": [],
"source": [
"//example-11.5\n",
"//page no-357\n",
"//given\n",
"//conventional stress\n",
"sigmac=98.9  //MPa\n",
"//conventional strain\n",
"epsilonc=0.35  //mm/mm\n",
"//as we know that\n",
"epsilont=log(1+epsilonc)   //mm/mm\n",
"//also\n",
"//sigmac=sigmat*exp(-epsilont)  \n",
"//so\n",
"sigmat=sigmac/exp(-epsilont)  //MPa\n",
"printf ('the true strees is %f MPa\n and true strain is %f mm/mm',sigmat,epsilont)"
   ]
   }
,
{
		   "cell_type": "markdown",
		   "metadata": {},
		   "source": [
			"## Example 11.6: stress_strai.sce"
		   ]
		  },
  {
"cell_type": "code",
	   "execution_count": null,
	   "metadata": {
	    "collapsed": true
	   },
	   "outputs": [],
"source": [
"//example-11.6\n",
"//page no-357\n",
"//given\n",
"//material constant\n",
"K=500  //MPa\n",
"//strain hardenening coefficient\n",
"n=0.20\n",
"//according to true stress-strain relation\n",
"//sigmat=d sigmat/d epsilont=d(Kepsilont^n)/d epsilont\n",
"//so we get\n",
"//sigmat=n*K*epsilont^(n-1)  -----(1)\n",
"//also we know that\n",
"//sigmat=K*epsilont^n  ------------(2)\n",
"//equating (1) and (2)\n",
"epsilont=n\n",
"//also we know that\n",
"//epsilont=log (1+epsilonc)\n",
"//so\n",
"epsilonc=exp(epsilont)-1  \n",
"//now\n",
"sigmat=K*epsilont^n  //MPa\n",
"printf ('the maximum tensile strength %f \n and the linear strain are %f MPa ',epsilonc,sigmat)"
   ]
   }
,
{
		   "cell_type": "markdown",
		   "metadata": {},
		   "source": [
			"## Example 11.7: relaxation_time.sce"
		   ]
		  },
  {
"cell_type": "code",
	   "execution_count": null,
	   "metadata": {
	    "collapsed": true
	   },
	   "outputs": [],
"source": [
"//exapmle-11.7\n",
"//page no-363\n",
"//given\n",
"//applied strain\n",
"epsilon=0.4\n",
"//immediate stress\n",
"sigmai=10*10^9  //Pa\n",
"//after 42 days stress is\n",
"sigma=5*10^9  //Pa\n",
"t=42  //days\n",
"//as we know that\n",
"//sigma=sigmai*exp(-t/tr)\n",
"//so\n",
"tr=t/log(sigmai/sigma)   //days\n",
"//stress after 90 days\n",
"t90=90 //days\n",
"sigma90=sigmai*exp(-t90/tr)*10^-9   //MPa\n",
"printf ('relaxation time for the tensile stress to decrease from 10 to 5 MPa is %fdays\n and the stress after 90 days is %f MPa',tr,sigma90)"
   ]
   }
,
{
		   "cell_type": "markdown",
		   "metadata": {},
		   "source": [
			"## Example 11.8: youngs_modulus.sce"
		   ]
		  },
  {
"cell_type": "code",
	   "execution_count": null,
	   "metadata": {
	    "collapsed": true
	   },
	   "outputs": [],
"source": [
"//example-11.8\n",
"//page no-370\n",
"//given\n",
"//crack length of glass piece\n",
"l=3*10^-6/2  //m divided by 2 because min general we consider 2*l be the length of crack\n",
"//young modulus\n",
"E=70*10^9  //Pa\n",
"//specific surface energy\n",
"gammae=1.05  ///J/m^2\n",
"//fracture strength\n",
"sigmaf=sqrt(2*E*gammae/(%pi)/l) //N/m^2\n",
"//ratio of strength and young's modulus\n",
"R=sigmaf/E   \n",
"printf ('fracture strength is %f N/m^2 \n and the ratio of strength and youngs modulus is %f ',sigmaf,R)"
   ]
   }
,
{
		   "cell_type": "markdown",
		   "metadata": {},
		   "source": [
			"## Example 11.9: surface_energy.sce"
		   ]
		  },
  {
"cell_type": "code",
	   "execution_count": null,
	   "metadata": {
	    "collapsed": true
	   },
	   "outputs": [],
"source": [
"//exaple-11.9\n",
"//page no-370\n",
"//given\n",
"//young's modulus\n",
"E=71*10^9   //Pa\n",
"//fracture strength\n",
"sigmaf=115*10^6  //Pa\n",
"//lenght of crack\n",
"//2l=6 micro m\n",
"//so\n",
"l=6/2*10^-6  //m\n",
"//as we know that\n",
"//sigmaf=sqrt(2*E*sigmac/(%pi)/l)\n",
"//so\n",
"sigmac=(sigmaf)^2*(%pi)*l/2/E  //J/m^2 \n",
"printf ('surface energy of the etched glass is %f J/m^2',sigmac)"
   ]
   }
],
"metadata": {
		  "kernelspec": {
		   "display_name": "Scilab",
		   "language": "scilab",
		   "name": "scilab"
		  },
		  "language_info": {
		   "file_extension": ".sce",
		   "help_links": [
			{
			 "text": "MetaKernel Magics",
			 "url": "https://github.com/calysto/metakernel/blob/master/metakernel/magics/README.md"
			}
		   ],
		   "mimetype": "text/x-octave",
		   "name": "scilab",
		   "version": "0.7.1"
		  }
		 },
		 "nbformat": 4,
		 "nbformat_minor": 0
}
