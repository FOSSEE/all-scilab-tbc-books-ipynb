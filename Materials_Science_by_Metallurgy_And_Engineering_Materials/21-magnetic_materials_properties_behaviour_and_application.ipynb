{
"cells": [
 {
		   "cell_type": "markdown",
	   "metadata": {},
	   "source": [
       "# Chapter 21: magnetic materials properties behaviour and application"
	   ]
	},
{
		   "cell_type": "markdown",
		   "metadata": {},
		   "source": [
			"## Example 21.11: eddy_current_loss.sce"
		   ]
		  },
  {
"cell_type": "code",
	   "execution_count": null,
	   "metadata": {
	    "collapsed": true
	   },
	   "outputs": [],
"source": [
"//example-21.11\n",
"//page no-650\n",
"//given\n",
"//frequency\n",
"f=50  //Hz\n",
"//eddy current loss in transformer\n",
"We=100  //W\n",
"//to find eddy current loss at frequencies\n",
"f1=60  //Hz\n",
"f2=100  //Hz\n",
"//as we know that\n",
"//We is directly proportional to f^2\n",
"We1=f1^2*We/f^2  //W\n",
"//similarly\n",
"We2=f2^2*We/f^2  //W\n",
"printf ('the eddy current loss at 60 Hz is %f W \n and at 100 Hz is %f W',We1,We2)"
   ]
   }
,
{
		   "cell_type": "markdown",
		   "metadata": {},
		   "source": [
			"## Example 21.15: magnetic_field_strength_and_flux_density.sce"
		   ]
		  },
  {
"cell_type": "code",
	   "execution_count": null,
	   "metadata": {
	    "collapsed": true
	   },
	   "outputs": [],
"source": [
"//example-21.15\n",
"//page no-651\n",
"//given\n",
"//length of wire\n",
"l=250*10^-3  //m\n",
"//no of turns\n",
"N=400\n",
"//current\n",
"I=15  //A\n",
"//permeability in vaccum\n",
"mu0=1.2457*10^-6  //H/m\n",
"//relative permeability\n",
"mur=1\n",
"//magnetic field strength \n",
"H=N*I/l  //AT/m\n",
"//flux density is\n",
"B=mu0*mur*H  //Wb/m^2\n",
"printf ('the magnetic field strength is %f AT/m and flux density is %f Wb/m',H,B)"
   ]
   }
,
{
		   "cell_type": "markdown",
		   "metadata": {},
		   "source": [
			"## Example 21.1: magnetic_field.sce"
		   ]
		  },
  {
"cell_type": "code",
	   "execution_count": null,
	   "metadata": {
	    "collapsed": true
	   },
	   "outputs": [],
"source": [
"//example-21.1\n",
"//page no-621\n",
"//given\n",
"//magnetic field\n",
"H=2400  //A/m\n",
"//susceptibilty\n",
"kie=1500\n",
"//part(a)\n",
"//relative permeability is given by\n",
"mur=1+kie\n",
"//part(b)\n",
"//intensity of magnetization \n",
"M=kie*H  //A/m\n",
"//part(c)\n",
"//permeability\n",
"mu0=4*(%pi)*10^-7\n",
"//remanance\n",
"B=mu0*mur*H  //T\n",
"printf ('the realative permeability is %f \n, the intensity of magnetisation is %f A/m \n and the remanance is %f',mur,M,B)"
   ]
   }
,
{
		   "cell_type": "markdown",
		   "metadata": {},
		   "source": [
			"## Example 21.2: magnetic_field.sce"
		   ]
		  },
  {
"cell_type": "code",
	   "execution_count": null,
	   "metadata": {
	    "collapsed": true
	   },
	   "outputs": [],
"source": [
"//example-21.2\n",
"//page no-621\n",
"//given\n",
"//relative permeability of superalloy\n",
"mur=200000\n",
"mu0=4*(%pi)*10^-7  //henry/m\n",
"//intensity of magnetisation\n",
"M=6000  //A/m\n",
"//magnetic field is given by\n",
"H=M/(mur-1)  //A/m\n",
"//strength of magnet\n",
"B=mu0*mur*H  //tesla\n",
"printf ('the strength of magnet is %f T',B)"
   ]
   }
,
{
		   "cell_type": "markdown",
		   "metadata": {},
		   "source": [
			"## Example 21.3: magnetic_field.sce"
		   ]
		  },
  {
"cell_type": "code",
	   "execution_count": null,
	   "metadata": {
	    "collapsed": true
	   },
	   "outputs": [],
"source": [
"//example-21.3\n",
"//page no-621\n",
"//given\n",
"//magnetic moment is 0.6 times bohr magneton and we know that beta is 9.27*10^-24 Am^2\n",
"beta=9.27*10^-24  //A/m^2\n",
"M=0.6*beta  //A/m^2\n",
"//attice constant \n",
"a=0.35*10^-9  //m\n",
"//no of atoms per unit cell is given by\n",
"Ne=4\n",
"//saturation magnetisation for FCC unit cell is given by\n",
"Ms=Ne*M/a^3  //A/m\n",
"printf ('he saturation magnetisation is %f A/m',Ms)"
   ]
   }
,
{
		   "cell_type": "markdown",
		   "metadata": {},
		   "source": [
			"## Example 21.4: B_H_curve.sce"
		   ]
		  },
  {
"cell_type": "code",
	   "execution_count": null,
	   "metadata": {
	    "collapsed": true
	   },
	   "outputs": [],
"source": [
"//example-21.4\n",
"//page no-632\n",
"//given\n",
"//refer to fig-21.6\n",
"//width of loop\n",
"//W=(OA+OB)  \n",
"//so \n",
"W=80*2  //A/m\n",
"//height of loop\n",
"//H=(OC+OD)  //wb/m^2\n",
"//so\n",
"H=0.15*2  //Wb/m^2\n",
"//area of loop\n",
"A=W*H  //T A/m or J\n",
"printf ('the energy loss per ubitvolume of the magnetic material during one cycle is %f J',A)"
   ]
   }
,
{
		   "cell_type": "markdown",
		   "metadata": {},
		   "source": [
			"## Example 21.5: eddy_current.sce"
		   ]
		  },
  {
"cell_type": "code",
	   "execution_count": null,
	   "metadata": {
	    "collapsed": true
	   },
	   "outputs": [],
"source": [
"//example-21.5.\n",
"//page no-633\n",
"//given\n",
"//volume\n",
"V=0.01  //m^3\n",
"//frequency\n",
"f=50  //Hz\n",
"//area of loop\n",
"A=600   //J/m^2\n",
"//as we know that\n",
"//A=mu*Bmax^16\n",
"//also power loss is given by\n",
"//P=mu*Bmax^16*f*V\n",
"//so \n",
"P=A*f*V  //watt\n",
"printf ('the power loss due to hysteresis is %f W',P)"
   ]
   }
,
{
		   "cell_type": "markdown",
		   "metadata": {},
		   "source": [
			"## Example 21.6: eddy_current.sce"
		   ]
		  },
  {
"cell_type": "code",
	   "execution_count": null,
	   "metadata": {
	    "collapsed": true
	   },
	   "outputs": [],
"source": [
"//example-21.6\n",
"//page no-633\n",
"//given\n",
"//hysteresis loss is\n",
"W1=300  //W\n",
"//max flux density is \n",
"Bmax1=0.9  //Wb/m^2\n",
"Bmax2=1.1  //Wb/m^2\n",
"//frequency\n",
"f1=50  //Hz\n",
"f2=40  //Hz\n",
"//we know that\n",
"//W=nu*(Bmax)^1.7*f*V\n",
"//s0 \n",
"//W1=nu*(Bmax1)^1.7*f1*V   ---------(1)\n",
"//W2=nu*(Bmax2)^1.7*f*V   -------(2)\n",
"//from one and 2 we get\n",
"W2=W1*(Bmax2)^1.7*f2/((Bmax1)^1.7*f1)  //W\n",
"printf ('The hysteresis loss at 40 Hz frequency is %f W',W2)"
   ]
   }
,
{
		   "cell_type": "markdown",
		   "metadata": {},
		   "source": [
			"## Example 21.7: hysteresis_loss.sce"
		   ]
		  },
  {
"cell_type": "code",
	   "execution_count": null,
	   "metadata": {
	    "collapsed": true
	   },
	   "outputs": [],
"source": [
"//example-21.7\n",
"//page no=634\n",
"//given\n",
"//flux density\n",
"Bm=1.10  //Wb/m^2\n",
"//frequency\n",
"f=50  //Hz\n",
"//thickness of sheet\n",
"t=0.5*10^-3  //m\n",
"//resistivity\n",
"rho=30*10^-8  //per ohm m\n",
"//density\n",
"rhodash=7800  //kg/m^3\n",
"//mass\n",
"m=1  //kg\n",
"//volume of material\n",
"V=m/rhodash  //m^3\n",
"//and \n",
"k=1.11\n",
"//hysteresis loss in each cycle\n",
"Wh=380  //W s/m^3\n",
"//loss per kg of specimen is given by\n",
"We=4/3*(Bm*f*t*k)^2*V/(rho)   //watt/kg\n",
"printf ('the loss is %f watt/kg',We)"
   ]
   }
,
{
		   "cell_type": "markdown",
		   "metadata": {},
		   "source": [
			"## Example 21.8: hysteresis_loss.sce"
		   ]
		  },
  {
"cell_type": "code",
	   "execution_count": null,
	   "metadata": {
	    "collapsed": true
	   },
	   "outputs": [],
"source": [
"//example-21.8\n",
"//page no-634\n",
"//given\n",
"//frequency\n",
"f=50  //Hz\n",
"//mass\n",
"m=50  //kg\n",
"//density\n",
"rho=7500  //kg/m^3\n",
"//volume of material\n",
"V=m/rho  //m^3\n",
"//hysteresis loop area\n",
"A=150  //m^2\n",
"//scale factor\n",
"//1 cm=0.008 Wb/m^2 on y-axis and 1cm=20 A/m on x-axis\n",
"//energy lost during each cycle\n",
"E=A*0.008*20*10^4  //J/m^3\n",
"//poer loss due to hysteresis\n",
"P=E*f*V  //J/s\n",
"//energy lost in one hour\n",
"Wh=P*(60*60)  //J\n",
"printf ('the energy lost in one hour is %e J',Wh)"
   ]
   }
],
"metadata": {
		  "kernelspec": {
		   "display_name": "Scilab",
		   "language": "scilab",
		   "name": "scilab"
		  },
		  "language_info": {
		   "file_extension": ".sce",
		   "help_links": [
			{
			 "text": "MetaKernel Magics",
			 "url": "https://github.com/calysto/metakernel/blob/master/metakernel/magics/README.md"
			}
		   ],
		   "mimetype": "text/x-octave",
		   "name": "scilab",
		   "version": "0.7.1"
		  }
		 },
		 "nbformat": 4,
		 "nbformat_minor": 0
}
