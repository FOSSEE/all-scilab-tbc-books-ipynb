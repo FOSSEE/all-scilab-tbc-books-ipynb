{
"cells": [
 {
		   "cell_type": "markdown",
	   "metadata": {},
	   "source": [
       "# Chapter 15: Phase Transformation"
	   ]
	},
{
		   "cell_type": "markdown",
		   "metadata": {},
		   "source": [
			"## Example 15.1: arrhenius_concept.sce"
		   ]
		  },
  {
"cell_type": "code",
	   "execution_count": null,
	   "metadata": {
	    "collapsed": true
	   },
	   "outputs": [],
"source": [
"//example-15.1\n",
"//page no-461\n",
"//given\n",
"//reaction comlete in 500 mins at 10 degree celcius and in 1 min at 80 degrees celcius\n",
"//so\n",
" t1=1  //min\n",
" t2=500  //min\n",
" T1=273+80  //kelvin\n",
" T2=273+10  //Kelvin\n",
" //gas constant \n",
" R=8.314\n",
" //as we know that phie=1/t*\n",
" //so\n",
" //log(phie1/phie2)=log(t2/t1)\n",
" //so we get\n",
" //log(t2/t1)=Ea/2.303*(1/T1-1/T2)\n",
" //so Ea is given by\n",
" Ea=2.303*log(t2/t1)*(1/(1/T1-1/T2))*R\n",
" //to find the reaction completion time when temperature is 40 degrees celcius\n",
" //so\n",
" T3=273+40   //Kelvin\n",
" t3=t1*exp(Ea/2.303/R*(1/T1-1/T3))  //min\n",
" printf ('the reaction completion tym at 40 degree celcius is %f min',t3)"
   ]
   }
,
{
		   "cell_type": "markdown",
		   "metadata": {},
		   "source": [
			"## Example 15.2: homogeneous_nucleation.sce"
		   ]
		  },
  {
"cell_type": "code",
	   "execution_count": null,
	   "metadata": {
	    "collapsed": true
	   },
	   "outputs": [],
"source": [
"//example-15.2\n",
"//page no-463\n",
"//given\n",
"//temp\n",
"T=983+273  //K\n",
"Tm=1083+273  //K\n",
"deltaT=Tm-T  //K\n",
"//given that\n",
"//latent heat of fusion of copper\n",
"deltaHm=1.88*10^9  //J/m^3\n",
"//interface energy/unit area\n",
"gammasL=0.144  //J/m^2\n",
"//change in free energy of vapour\n",
"deltaGv=deltaHm*deltaT/Tm    //J/m^3\n",
"//critical radius of copper during solidification\n",
"//for notation only we are using r*=R\n",
"R=2*gammasL/deltaGv*10^10  //A\n",
"printf ('the critical radius of copper during solidification is %f A',R)"
   ]
   }
,
{
		   "cell_type": "markdown",
		   "metadata": {},
		   "source": [
			"## Example 15.3: homogenous_nucleation.sce"
		   ]
		  },
  {
"cell_type": "code",
	   "execution_count": null,
	   "metadata": {
	    "collapsed": true
	   },
	   "outputs": [],
"source": [
"//example-15.3\n",
"//page no-463\n",
"//given\n",
"//latent heat of fusion of pure gold\n",
"deltaHf=-1.16*10^9  //J/m^2\n",
"//surface free energy\n",
"gama=0.132  //J/m^2\n",
"//melting point of gold\n",
"Tm=1064+273  //K\n",
"//supercooling value\n",
"deltaT=230  //K\n",
"//critical radius is given by R intead of r* just for notation\n",
"R=(-2*gama*Tm/deltaHf)*(1/deltaT)*10^9  //nm\n",
"printf ('critical radius of pure gold at 230 degree celcius is %f nm',R)\n",
"//change in free energy of vapours is\n",
"deltaGv=deltaHf*deltaT/Tm  //J/m^3\n",
"//activation free energy\n",
"//for notation deltaG* we  use deltaG\n",
"deltaG=16*(%pi)*(gama)^3/3/(deltaGv)^2  //J\n",
"printf ('the activation free energy is %e J',deltaG)"
   ]
   }
,
{
		   "cell_type": "markdown",
		   "metadata": {},
		   "source": [
			"## Example 15.5: strengthening.sce"
		   ]
		  },
  {
"cell_type": "code",
	   "execution_count": null,
	   "metadata": {
	    "collapsed": true
	   },
	   "outputs": [],
"source": [
"//example-15.5\n",
"//page no-472\n",
"//given\n",
"//diameter of hard inert particle\n",
"D=2  //m\n",
"//average centre to centre distance between the particles\n",
"l=20*10^-6   //m becaus 1 micro m=10^-6 m\n",
"//shear modulus of copper\n",
"G=41*10^9  //Pa\n",
"//burgers vector\n",
"b=0.64*10^-9  //m\n",
"//contribution of these particles on the yeild strength of material\n",
"tau=G*b/l/10^6  //MPa\n",
"printf ('the contribution of these particles on the yeild strength of material is %f MPa',tau)"
   ]
   }
,
{
		   "cell_type": "markdown",
		   "metadata": {},
		   "source": [
			"## Example 15.7: recovery.sce"
		   ]
		  },
  {
"cell_type": "code",
	   "execution_count": null,
	   "metadata": {
	    "collapsed": true
	   },
	   "outputs": [],
"source": [
"//example-15.7\n",
"//page no-474\n",
"//given\n",
"//heat for recovery of yeild point in zinc\n",
"Q=83.14*10^3  //J/mole\n",
"//gas constant\n",
"R=8.314*10^3  //J/mol K\n",
"//temperature\n",
"T1=0+273  //K\n",
"T2=27+273  //K\n",
"//recovery time at 0 degree celcius\n",
"t2=5  //min\n",
"//the recovery time for the two different temp is given by\n",
"//1/t1=A*exp(-Q/R/T1)   --------------(1)\n",
"//1/t2=A*exp(-Q/R/T2)  -----------(2)\n",
"//taking ratio of (1) to (2)\n",
"//we get\n",
"t1=t2*exp(Q/R*(1/T1-1/T2))  //min (there is calculation mistake I myself have checked from calculator too)\n",
"printf ('the recovery time at 27 degree celcius is %f min',t2)"
   ]
   }
],
"metadata": {
		  "kernelspec": {
		   "display_name": "Scilab",
		   "language": "scilab",
		   "name": "scilab"
		  },
		  "language_info": {
		   "file_extension": ".sce",
		   "help_links": [
			{
			 "text": "MetaKernel Magics",
			 "url": "https://github.com/calysto/metakernel/blob/master/metakernel/magics/README.md"
			}
		   ],
		   "mimetype": "text/x-octave",
		   "name": "scilab",
		   "version": "0.7.1"
		  }
		 },
		 "nbformat": 4,
		 "nbformat_minor": 0
}
