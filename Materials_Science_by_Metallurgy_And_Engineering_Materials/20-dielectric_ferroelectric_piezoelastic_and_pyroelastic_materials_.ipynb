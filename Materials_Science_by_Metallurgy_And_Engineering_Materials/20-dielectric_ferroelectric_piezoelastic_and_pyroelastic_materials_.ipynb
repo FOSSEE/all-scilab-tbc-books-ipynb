{
"cells": [
 {
		   "cell_type": "markdown",
	   "metadata": {},
	   "source": [
       "# Chapter 20: dielectric ferroelectric piezoelastic and pyroelastic materials "
	   ]
	},
{
		   "cell_type": "markdown",
		   "metadata": {},
		   "source": [
			"## Example 20.10: capacitor.sce"
		   ]
		  },
  {
"cell_type": "code",
	   "execution_count": null,
	   "metadata": {
	    "collapsed": true
	   },
	   "outputs": [],
"source": [
"//example-20.10.sce\n",
"//page no-614\n",
"//given\n",
"//capacitance of capacitor\n",
"C=0.2*10^-6  //F\n",
"//loss factor\n",
"//tan delta=0.004\n",
"// for notation let us use tan delta=delta\n",
"delta=0.004\n",
"//voltage\n",
"V=240  //V\n",
"//frequency\n",
"f=50  //Hz\n",
"//and \n",
"omega=2*(%pi)*f\n",
"//power loss is given by\n",
"P=V^2*omega*C*delta  //W \n",
"printf ('power loss in the capacitor is %f W',P)"
   ]
   }
,
{
		   "cell_type": "markdown",
		   "metadata": {},
		   "source": [
			"## Example 20.1: dielectric_strength.sce"
		   ]
		  },
  {
"cell_type": "code",
	   "execution_count": null,
	   "metadata": {
	    "collapsed": true
	   },
	   "outputs": [],
"source": [
"//example-20.1\n",
"//page no-593\n",
"//given\n",
"//dielecric strength of natural rubber\n",
"DS=40000  //volts/mm\n",
"//current \n",
"I=33*10^3  //V\n",
"//required thickness of insulation\n",
"t=I/DS  //mm\n",
"printf ('the thickness of wire required for insulation is %f mm',t)"
   ]
   }
,
{
		   "cell_type": "markdown",
		   "metadata": {},
		   "source": [
			"## Example 20.2: dielectric_loss.sce"
		   ]
		  },
  {
"cell_type": "code",
	   "execution_count": null,
	   "metadata": {
	    "collapsed": true
	   },
	   "outputs": [],
"source": [
"//example-20.2\n",
"//page no-594\n",
"//given\n",
"//capacitance of capacitor\n",
"C=0.025*10^-6  //F\n",
"//power factor\n",
"//tan delta=0.0005\n",
"//for notation let tan delta=delta\n",
"delta=0.0005\n",
"//current\n",
"I=200  //A\n",
"//frequency\n",
"f=25*10^3  //Hz\n",
"//volatge across a capacitor is\n",
"V=I/(2*(%pi)*f*C)  //V\n",
"//dielectric loss\n",
"P=V*I*delta  // W\n",
"printf ('the dielectric loss is %f Watt',P)"
   ]
   }
,
{
		   "cell_type": "markdown",
		   "metadata": {},
		   "source": [
			"## Example 20.3: polarizatio.sce"
		   ]
		  },
  {
"cell_type": "code",
	   "execution_count": null,
	   "metadata": {
	    "collapsed": true
	   },
	   "outputs": [],
"source": [
"//example-20.3\n",
"//page no-596\n",
"//given\n",
"//electric field\n",
"E=600  //V/m\n",
"//dielectric constant\n",
"Er=6.1\n",
"E0=8.85*10^-12  \n",
"//polarization is given by\n",
"P=E*E0*(Er-1)  //V/m\n",
"printf ('the polarization produced is %e V/m',P)"
   ]
   }
,
{
		   "cell_type": "markdown",
		   "metadata": {},
		   "source": [
			"## Example 20.4: measurement_of_polarization.sce"
		   ]
		  },
  {
"cell_type": "code",
	   "execution_count": null,
	   "metadata": {
	    "collapsed": true
	   },
	   "outputs": [],
"source": [
"//example-20.4\n",
"//page no-596\n",
"//given\n",
"//charge\n",
"Q=10*10^-6  //C\n",
"//voltage\n",
"V=10*10^3  //V\n",
"//seperation betweemn the plates\n",
"d=5*10^-4  //m\n",
"//dielectric eonstant\n",
"Er=10\n",
"E0=8.854*10^-12\n",
"//we know that\n",
"//Q=C*V\n",
"//so\n",
"C=Q/V  //F\n",
"//also we know that\n",
"//C=Er*E0*A/d\n",
"//so\n",
"A=C*d/Er/E0  //m^2\n",
"printf ('area between the plates is %f m^2',A)"
   ]
   }
,
{
		   "cell_type": "markdown",
		   "metadata": {},
		   "source": [
			"## Example 20.5: measurement_of_polarization.sce"
		   ]
		  },
  {
"cell_type": "code",
	   "execution_count": null,
	   "metadata": {
	    "collapsed": true
	   },
	   "outputs": [],
"source": [
"//example-20.5\n",
"//page no-597\n",
"//given\n",
"//area of plate\n",
"A=10*10*10^-6  //m^2\n",
"//capacitance\n",
"C=10^-9  //F\n",
"//distance between the plates\n",
"d=2*10^-3  //m\n",
"//contant\n",
"E0=8.854*10^-12  //F/m\n",
"//dielectric constant\n",
"Er=C*d/(E0*A)  \n",
"printf ('the cielectric constant of the crystal is %f',Er)"
   ]
   }
,
{
		   "cell_type": "markdown",
		   "metadata": {},
		   "source": [
			"## Example 20.6: measurement_of_polarization.sce"
		   ]
		  },
  {
"cell_type": "code",
	   "execution_count": null,
	   "metadata": {
	    "collapsed": true
	   },
	   "outputs": [],
"source": [
"//example-20.6\n",
"//page no-597\n",
"//given\n",
"//dielectric constant\n",
"Er1=6.0\n",
"Er2=3.0\n",
"//thickness of plates\n",
"d1=0.25*10^-3  //m\n",
"d2=0.1*10^-3  //m\n",
"//taking A1=A2\n",
"//we know that \n",
"//C=Er*E0*A/d\n",
"//for plate1\n",
"//C1=Er1*E0*A1/d1     -----------(1)\n",
"//for plate 2\n",
"//C2=Er1*E0*A2/d2   --------------(2)\n",
"//dividing 1 and 2\n",
"//we get\n",
"//C1/C2=Er1*d2/(Er2*d1)\n",
"//let C1/C2=c\n",
"C=Er1*d2/(Er2*d1)  \n",
"//so we get\n",
"//C1=0.8*C2\n",
"printf ('the plastic film wil hold more charge')"
   ]
   }
,
{
		   "cell_type": "markdown",
		   "metadata": {},
		   "source": [
			"## Example 20.7: potential_differnce.sce"
		   ]
		  },
  {
"cell_type": "code",
	   "execution_count": null,
	   "metadata": {
	    "collapsed": true
	   },
	   "outputs": [],
"source": [
"//example-20.7\n",
"//page no-609\n",
"//given\n",
"//thickness of BaTiO3 wafer\n",
"t=0.15*10^-3  //m\n",
"//compressive strength\n",
"sigma=25*10^6  //N/m^2\n",
"//young's modulus of elasticity\n",
"Y=70*10^9  //N/m^2\n",
"//electric field E produced by the stress sigma is related as\n",
"//E=sigma*lambda  where lambda is constant known as voltage output coefficient\n",
"lambda=1*10^-10  //m/V\n",
"//and modulus of elasticity is gven by\n",
"//Y=1/(lambda*t)\n",
"//so we get from 1 and 2\n",
"//E=sigma/(Y*t)\n",
"//also E=V/t\n",
"//so\n",
"V=sigma*t/(lambda*Y)  //V\n",
"printf ('potential difference producd across tha wafer is %f V',V)"
   ]
   }
,
{
		   "cell_type": "markdown",
		   "metadata": {},
		   "source": [
			"## Example 20.8: thickness_of_crystal.sce"
		   ]
		  },
  {
"cell_type": "code",
	   "execution_count": null,
	   "metadata": {
	    "collapsed": true
	   },
	   "outputs": [],
"source": [
"//example-20.8\n",
"//page no-613\n",
"//given\n",
"//vibration frequency\n",
"f=434*10^3 //Hz\n",
"//young's modulus of elasticity\n",
"E=80*10^9   //Pa\n",
"//density\n",
"rho=2655  //kg/m^3\n",
"//and fundamental overtones may be 1,2,3.......\n",
"//so\n",
"n=1\n",
"//we konow tha\n",
"//f=n/(2*t)*sqrt(E/rho) wher t is the thickness of crystal\n",
"//so\n",
"t=n/(2*f)*sqrt(E/rho)*10^3  //mm\n",
"printf ('the thickness of crystal is %f mm',t)"
   ]
   }
,
{
		   "cell_type": "markdown",
		   "metadata": {},
		   "source": [
			"## Example 20.9: capacitor.sce"
		   ]
		  },
  {
"cell_type": "code",
	   "execution_count": null,
	   "metadata": {
	    "collapsed": true
	   },
	   "outputs": [],
"source": [
"//example=20.9\n",
"//page no-613\n",
"//given\n",
"//capacitance of paper capacitance\n",
"C=0.02*10^-6  //F\n",
"//thickness of capacitor\n",
"d=1*10^-3  //m\n",
"//relative permitivity\n",
"Er=2.6\n",
"E0=8.85*10^-12\n",
"//dielectric strength\n",
"k=1.8*10^7   //V/m\n",
"//area of capacitor is given by\n",
"A=C*d/(Er*E0)*10^4  //cm^2\n",
"//breakdown volatage\n",
"Vbreakdown=k*d  //V\n",
"printf ('the area of capacitor is %f am^2 \n and breakdown volatage is %f V',A,Vbreakdown)"
   ]
   }
],
"metadata": {
		  "kernelspec": {
		   "display_name": "Scilab",
		   "language": "scilab",
		   "name": "scilab"
		  },
		  "language_info": {
		   "file_extension": ".sce",
		   "help_links": [
			{
			 "text": "MetaKernel Magics",
			 "url": "https://github.com/calysto/metakernel/blob/master/metakernel/magics/README.md"
			}
		   ],
		   "mimetype": "text/x-octave",
		   "name": "scilab",
		   "version": "0.7.1"
		  }
		 },
		 "nbformat": 4,
		 "nbformat_minor": 0
}
