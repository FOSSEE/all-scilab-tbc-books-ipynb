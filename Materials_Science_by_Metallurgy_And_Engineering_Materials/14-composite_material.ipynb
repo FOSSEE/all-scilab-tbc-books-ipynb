{
"cells": [
 {
		   "cell_type": "markdown",
	   "metadata": {},
	   "source": [
       "# Chapter 14: composite material"
	   ]
	},
{
		   "cell_type": "markdown",
		   "metadata": {},
		   "source": [
			"## Example 14.1: composite_material.sce"
		   ]
		  },
  {
"cell_type": "code",
	   "execution_count": null,
	   "metadata": {
	    "collapsed": true
	   },
	   "outputs": [],
"source": [
"//example-14.1\n",
"//page no-429\n",
"//given\n",
"//part(a)\n",
"//thickness of GRPS sheet\n",
"ts=3  //mm\n",
"//depth of this skin\n",
"tc=24  //mm\n",
"//breadth of skin\n",
"b=100  //mm\n",
"d=(ts+tc)/2  //mm\n",
"//moduli of polyster skin and foamare\n",
"Es=7000  //N/mm^2\n",
"Ec=20  //N/mm^2\n",
"//values of Is and Ic are \n",
"Is=2*(b*ts^3/12+b*ts*d^2)   //mm^4\n",
"Ic=b*tc^3/12  //mmm^4\n",
"//as we know that flexure rigidity is D, flexure rigidity of skin is Ds and that of core is Dc\n",
"//D=Ds+Dc \n",
"D=2*Es*Is+Ec*Ic  //mm^2 for two skins  ---------------(1)\n",
"//part(b)\n",
"ts1=6  //mm\n",
"//Ds1=Es*Is1 \n",
"Ds1=Es*b*ts1^2/12  //Nmm^2   --------------(2) (there is calculation mistake I myself have checked from calculator too)\n",
"//ratio of (1) and (2) is R (let)\n",
"R=D/Ds1   \n",
"printf ('flexure rigidity of sandwich beam is %d times more',R)"
   ]
   }
,
{
		   "cell_type": "markdown",
		   "metadata": {},
		   "source": [
			"## Example 14.2: composite_material.sce"
		   ]
		  },
  {
"cell_type": "code",
	   "execution_count": null,
	   "metadata": {
	    "collapsed": true
	   },
	   "outputs": [],
"source": [
"//example-14.2\n",
"//page no-441\n",
"//given\n",
"//young's modulus of aluminium, iron and boron are resp\n",
"//here we are representing a,b and c for aluminum, iron and boron resp.\n",
"Ea=71*10^9  //Pa\n",
"Eb=210*10^9  //Pa\n",
"Ec=440*10^9  //Pa\n",
"//as we know that Ec=Ef*Vf+Em*Vm where Ef and Em are the young's modulus of fibre and matrix resp.\n",
"//so we get\n",
"//210=71*Va+440*Vb   --------------(1)\n",
"//assumin void volume is zero and we know that\n",
"//Va+Vb=1\n",
"//so Vb=1-Va  ---------------(2)\n",
"//on solving 1 and 2 we get\n",
"Va=31.8  \n",
"Vb=68.2\n",
"//ratio of Va and Vb\n",
"R=Va/Vb\n",
"printf ('the volume ratio of aluminium and boron in aluminium boron composite %d',R)"
   ]
   }
,
{
		   "cell_type": "markdown",
		   "metadata": {},
		   "source": [
			"## Example 14.3: composite_material.sce"
		   ]
		  },
  {
"cell_type": "code",
	   "execution_count": null,
	   "metadata": {
	    "collapsed": true
	   },
	   "outputs": [],
"source": [
"//example-14.3\n",
"//page no-442\n",
"//given\n",
"//elastic moduli of carbon fibre and epoxy resin\n",
"Ef=430  //GPa\n",
"E=3.6  ///GPa\n",
"//modular ratio\n",
"Pf=Ef/E\n",
"//part(a)\n",
"Vf1=0.15\n",
"Vm1=1-Vf1\n",
"R1=Vm1/Vf1\n",
"Pc1=Pf+R1\n",
"volume_fibre1=Pf/Pc1\n",
"//part(b)\n",
"Vf2=0.65\n",
"Vm2=1-Vf2\n",
"R2=Vm2/Vf2\n",
"Pc2=Pf+R2\n",
"volume_fibre2=Pf/Pc2\n",
"printf ('the fraction of load carried by fibre in carbon-epoxy matrix composite containing 15 percent fibre by volume is %f\n and that by 65 percent fibre by volume is %f',volume_fibre1,volume_fibre2)"
   ]
   }
,
{
		   "cell_type": "markdown",
		   "metadata": {},
		   "source": [
			"## Example 14.4: composite.sce"
		   ]
		  },
  {
"cell_type": "code",
	   "execution_count": null,
	   "metadata": {
	    "collapsed": true
	   },
	   "outputs": [],
"source": [
"//example-14.4\n",
"//page no-442\n",
"//given\n",
"Vf=.65\n",
"Vm=1-Vf\n",
"//part(a)\n",
"//longitudinal strength is determined by\n",
"//sigmac=sigmaf*Vf+sigmam*Vm\n",
"//here according to table given in question we have\n",
"sigmaf=2.8\n",
"sigmam=0.0025\n",
"sigmac=sigmaf*Vf+sigmam*Vm  //GPa\n",
"//part(b)\n",
"//longitudinal modulus is given by\n",
"//Ec=Ef*Vf+Em*Vm\n",
"//here according to table\n",
"Ef=130\n",
"Em=3.5\n",
"Ec=(Ef*Vf+Em*Vm)  //GPa\n",
"//part(c)\n",
"//transverse modulus is given by\n",
"//1/EC=Vf/Ef+Vm/Em\n",
"EC=(Vf/Ef+Vm/Em)^-1  //GPa\n",
"//part(d)\n",
"//poisson ratio\n",
"//nuLT=nuf*Vf+num*Vm\n",
"//here according to the table\n",
"nuf=0.34\n",
"num=0.36\n",
"nuLT=nuf*Vf+num*Vm  \n",
"//part(e)\n",
"//shear modulus\n",
"//1/Glt=Vf/Gf+Vm/Gm\n",
"// here according to the table \n",
"Gf=2.2\n",
"Gm=1.2\n",
"GLT=(Vf/Gf+Vm/Gm)^-1  //GPa\n",
"printf ('the longitudinal strength is %f GPa\n, the logitudinal modulus is %f GPa\n , the transvrse modulus is %f GPa\n , the  poissons ratio is %f\n and sher modulus is %f GPa',sigmac,Ec,EC,nuLT,GLT)"
   ]
   }
,
{
		   "cell_type": "markdown",
		   "metadata": {},
		   "source": [
			"## Example 14.5: longitudinal_strength_and_modulus.sce"
		   ]
		  },
  {
"cell_type": "code",
	   "execution_count": null,
	   "metadata": {
	    "collapsed": true
	   },
	   "outputs": [],
"source": [
"//example-14.5\n",
"//page no-444\n",
"//given\n",
"//content of polyster\n",
"Vm=0.45\n",
"Vf=1-Vm\n",
"//longitudinal strength and modulus are calculated using following formulas\n",
"//sigmac=nu*sigmaf*Vf+singmam*Vm\n",
"//Ec=nu*Ef*Vf+Em*Vm\n",
"//according to the table given in the ques\n",
"Ef=240  //GPa\n",
"Em=4.5  //GPa\n",
"sigmaf=1.7  //GPa\n",
"sigmam=0.0029  //GPa\n",
"Gf=1.7\n",
"Gm=1.4\n",
"nuf=0.28\n",
"num=0.32\n",
"//values of nu\n",
"nu1=1\n",
"nu2=1/2\n",
"nu3=1/4\n",
"nu4=3/8\n",
"nu5=1/6\n",
"//now longitudinal strength for differnt nu\n",
"sigmac1=nu1*(sigmaf*Vf+sigmam*Vm)    //GPa\n",
"sigmac2=nu2*(sigmaf*Vf+sigmam*Vm)    //GPa      \n",
"sigmac3=nu3*(sigmaf*Vf+sigmam*Vm)    //GPa\n",
"sigmac4=nu4*(sigmaf*Vf+sigmam*Vm)    //GPa\n",
"sigmac5=nu5*(sigmaf*Vf+sigmam*Vm)    //GPa\n",
"//liongitudina modulus for differnt nu\n",
"EC1=nu1*(Ef*Vf+Em*Vf)    //GPa\n",
"EC2=nu2*(Ef*Vf+Em*Vf)    //GPa\n",
"EC3=nu3*(Ef*Vf+Em*Vf)    //GPa\n",
"EC4=nu4*(Ef*Vf+Em*Vf)    //GPa\n",
"EC5=nu5*(Ef*Vf+Em*Vf)    //GPa\n",
"printf ('longitudinal strength and longitudinal modulus for nu=1     is %f GPa     and     %f GPa\n longitudinal strength and longitudinal modulus for nu=1/2    is %f GPa     and     %f GPa\n longitudinal strength and longitudinal modulus for nu=1/4     is %f GPa    and     %f GPa\n longitudinal strength and longitudinal modulus for nu=3/8      is %f GPa      and     %f GPa\n longitudinal strength and longitudinal modulus for nu=1/6      is %f GPa    and      %f     GPa\n',sigmac1,EC1,sigmac2,EC2,sigmac3,EC3,sigmac4,EC4,sigmac5,EC5)"
   ]
   }
],
"metadata": {
		  "kernelspec": {
		   "display_name": "Scilab",
		   "language": "scilab",
		   "name": "scilab"
		  },
		  "language_info": {
		   "file_extension": ".sce",
		   "help_links": [
			{
			 "text": "MetaKernel Magics",
			 "url": "https://github.com/calysto/metakernel/blob/master/metakernel/magics/README.md"
			}
		   ],
		   "mimetype": "text/x-octave",
		   "name": "scilab",
		   "version": "0.7.1"
		  }
		 },
		 "nbformat": 4,
		 "nbformat_minor": 0
}
