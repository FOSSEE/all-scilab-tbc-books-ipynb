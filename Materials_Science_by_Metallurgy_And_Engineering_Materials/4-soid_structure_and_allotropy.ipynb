{
"cells": [
 {
		   "cell_type": "markdown",
	   "metadata": {},
	   "source": [
       "# Chapter 4: soid structure and allotropy"
	   ]
	},
{
		   "cell_type": "markdown",
		   "metadata": {},
		   "source": [
			"## Example 4.1: structural_transformation.sce"
		   ]
		  },
  {
"cell_type": "code",
	   "execution_count": null,
	   "metadata": {
	    "collapsed": true
	   },
	   "outputs": [],
"source": [
"//example-4.1\n",
"//page no-110\n",
"//given\n",
"//atomic radii of iron in BCC and FCC at 910 degrees celcius temp are\n",
"rBCC=1.258  //A\n",
"rFCC=1.292  //A\n",
"//latice side\n",
"aBCC=4*rBCC/sqrt(3)\n",
"aFCC=2*sqrt(2)*rFCC\n",
"//effective number of atoms in BCC and FCC \n",
"nBCC=2\n",
"nFCC=4\n",
"//volume\n",
"VBCC=nBCC/2*(aBCC)^3\n",
"VFCC=nFCC/4*(aFCC)^3\n",
"//change in volume percent\n",
"deltaV=(-1+VFCC/VBCC)*100\n",
"printf ('tha volume change percentage is -0.49 and here negative sign indicates that the volume decreases during polymorphism transformation')"
   ]
   }
,
{
		   "cell_type": "markdown",
		   "metadata": {},
		   "source": [
			"## Example 4.2: HCP_Structure.sce"
		   ]
		  },
  {
"cell_type": "code",
	   "execution_count": null,
	   "metadata": {
	    "collapsed": true
	   },
	   "outputs": [],
"source": [
"//example-4.2\n",
"//page no-115\n",
"//given\n",
"//height of zinc unit cell\n",
"h=4.935*10^-10  //m\n",
"//side of the lattice\n",
"a=2.66*10^-10  //m\n",
"//as we know that zinc has HCP unit cell. \n",
"//the number of effective atoms\n",
"Ne=6 \n",
"//as we know \n",
"//tan(%pi/3)=x/(a/2)\n",
"//so\n",
"x=a/2*tan (%pi/3)  //m\n",
"//area of basal plane\n",
"Ar=6*a*x/2  //m^2\n",
"//volume of the unit cell\n",
"V=Ar*h  //m^3\n",
"//atomic weight of zinc\n",
"Aw=65.37\n",
"//avogadro's number\n",
"NA=6.023*10^23\n",
"//density of zinc\n",
"rho=Aw*Ne/(NA*V)/1000  //kg/m^3\n",
"printf ('the no of effective atoms, the volume of unit cell and density of zinc  are 6, 9.07*10^-29 and 7180 kg/m^3 resp')"
   ]
   }
,
{
		   "cell_type": "markdown",
		   "metadata": {},
		   "source": [
			"## Example 4.3: radius_of_catio.sce"
		   ]
		  },
  {
"cell_type": "code",
	   "execution_count": null,
	   "metadata": {
	    "collapsed": true
	   },
	   "outputs": [],
"source": [
"//example-4.3\n",
"//page no-121\n",
"//given\n",
"//ionic radius of anion is \n",
"ra=2.11*10^-10  //m\n",
"//given that the atom has eight fold ligancy with the anion\n",
"//so, we know that for this\n",
"//rc/ra=0.732\n",
"rc=0.732*ra  //m\n",
"printf ('the radius of smallest cation is 1.54 A')"
   ]
   }
,
{
		   "cell_type": "markdown",
		   "metadata": {},
		   "source": [
			"## Example 4.6: density_of_crystal.sce"
		   ]
		  },
  {
"cell_type": "code",
	   "execution_count": null,
	   "metadata": {
	    "collapsed": true
	   },
	   "outputs": [],
"source": [
"//example-4.6\n",
"//page no-125\n",
"//given\n",
"//radii of cation and anion in CaO\n",
"rc=0.94*10^-10  //m\n",
"ra=1.32*10^-10  //m\n",
"//so the lattice side will be\n",
"a=2*(rc+ra)  //m\n",
"//effective no of atoms in FCC lattice structure\n",
"Ne=4  //because CuO has FCC cubic structure\n",
"//molecular weight of CuO\n",
"Aw=40.08+16\n",
"//atomic weight unit\n",
"amu=1.66*10^-27  //amu\n",
"//mass of atom per unit cell\n",
"M=Aw*amu\n",
"//density\n",
"rho=M*Ne/a^3   //kg/m^3\n",
"printf ('density of CuO is 4032 Kg/m^3')"
   ]
   }
,
{
		   "cell_type": "markdown",
		   "metadata": {},
		   "source": [
			"## Example 4.7: density_of_crystal.sce"
		   ]
		  },
  {
"cell_type": "code",
	   "execution_count": null,
	   "metadata": {
	    "collapsed": true
	   },
	   "outputs": [],
"source": [
"//example-4.7\n",
"//page  no-126\n",
"//given\n",
"//radii of cation and anion in MgO\n",
"rc=0.78*10^-10  //m\n",
"ra=1.32*10^-10  //m\n",
"//so the lattice side will be\n",
"a=2*(rc+ra)  //m\n",
"//effective no of atoms in FCC lattice structure\n",
"Ne=4  //because MgO has FCC cubic structure\n",
"//molecular weight of MgO\n",
"Aw=24.3+16\n",
"//atomic weight unit\n",
"amu=1.66*10^-27  //amu\n",
"//mass of atom per unit cell\n",
"M=Aw*amu\n",
"//density\n",
"rho=M*Ne/a^3   //kg/m^3\n",
"printf ('density of MgO is 3611.813 Kg/m^3')"
   ]
   }
],
"metadata": {
		  "kernelspec": {
		   "display_name": "Scilab",
		   "language": "scilab",
		   "name": "scilab"
		  },
		  "language_info": {
		   "file_extension": ".sce",
		   "help_links": [
			{
			 "text": "MetaKernel Magics",
			 "url": "https://github.com/calysto/metakernel/blob/master/metakernel/magics/README.md"
			}
		   ],
		   "mimetype": "text/x-octave",
		   "name": "scilab",
		   "version": "0.7.1"
		  }
		 },
		 "nbformat": 4,
		 "nbformat_minor": 0
}
