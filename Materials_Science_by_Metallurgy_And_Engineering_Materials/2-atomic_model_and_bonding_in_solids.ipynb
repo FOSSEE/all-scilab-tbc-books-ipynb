{
"cells": [
 {
		   "cell_type": "markdown",
	   "metadata": {},
	   "source": [
       "# Chapter 2: atomic model and bonding in solids"
	   ]
	},
{
		   "cell_type": "markdown",
		   "metadata": {},
		   "source": [
			"## Example 2.10: ionization_potential.sce"
		   ]
		  },
  {
"cell_type": "code",
	   "execution_count": null,
	   "metadata": {
	    "collapsed": true
	   },
	   "outputs": [],
"source": [
"//example-2.10\n",
"//page no- 57\n",
"//given\n",
"//ionization potential of hydrogen\n",
"E1=13.6  //eV\n",
"//when \n",
"n=3\n",
"E3=-E1/n^2  //eV\n",
"//when \n",
"n=5\n",
"E5=-E1/n^2  //eV\n",
"printf ('energy of 3rd and 5th orbits are %f eV and %f eV',E3,E5)"
   ]
   }
,
{
		   "cell_type": "markdown",
		   "metadata": {},
		   "source": [
			"## Example 2.11: dipole_moment.sce"
		   ]
		  },
  {
"cell_type": "code",
	   "execution_count": null,
	   "metadata": {
	    "collapsed": true
	   },
	   "outputs": [],
"source": [
"//example-2.11\n",
"//page no-59\n",
"//given\n",
"//dipole moment og HF is\n",
"DM=6.375*10^(-30)  //Cm\n",
"//intermolecular distance\n",
"r=0.9178*10^(-10)  //m\n",
"//charge on an electron\n",
"e=1.67*10^(-19)  //C\n",
"//since the HF posses ionic characters\n",
"//so\n",
"//Hf in fully ionic state has dipole moment as\n",
"DM2=r*e  //Cm\n",
"//percentage ionic characters\n",
"percentage=DM/DM2*100  //%\n",
"printf ('the percentage ionic character is %f approx.',percentage)"
   ]
   }
,
{
		   "cell_type": "markdown",
		   "metadata": {},
		   "source": [
			"## Example 2.12: ionic_character.sce"
		   ]
		  },
  {
"cell_type": "code",
	   "execution_count": null,
	   "metadata": {
	    "collapsed": true
	   },
	   "outputs": [],
"source": [
"//example-2.12\n",
"//page no-60\n",
"//given\n",
"//elctronegativity of In\n",
"EnIn=1.5\n",
"//elctronegativity of As\n",
"EnAs=2.2\n",
"//elctronegativity of Ga\n",
"EnGa=1.8\n",
"//for InAs\n",
"%ionic_charater1=[1-(%e)^((-0.25)*(EnAs-EnIn)^2)]*100\n",
"//for GaAs\n",
"%ionic_charater2=[1-(%e)^((-0.25)*(EnAs-EnGa)^2)]*100\n",
"printf ('percent ionic character in InAs and GaAs are %f and %f',%ionic_charater1,%ionic_charater2)"
   ]
   }
,
{
		   "cell_type": "markdown",
		   "metadata": {},
		   "source": [
			"## Example 2.1: distance_of_closest_approach.sce"
		   ]
		  },
  {
"cell_type": "code",
	   "execution_count": null,
	   "metadata": {
	    "collapsed": true
	   },
	   "outputs": [],
"source": [
"//example-2.1\n",
"//page no-28\n",
"//given\n",
"//atomic no. of gold\n",
"Z=79\n",
"//kinetic energy of alpha particle\n",
"E=7.68*1.6*(10)^(-13)  //J because [1MeV=1.6*(10)^(-13)]\n",
"e=1.6*10^(-19)  //C\n",
"E0=8.854*10^(-12)  //F/m\n",
"//the distance of closest approach is given by:\n",
"d0=2*e*Z*e/(4*(%pi)*E0*E)  //m\n",
"printf ('the closest approach of alpha particle is %.20f m',d0)"
   ]
   }
,
{
		   "cell_type": "markdown",
		   "metadata": {},
		   "source": [
			"## Example 2.2: scattering_angles.sce"
		   ]
		  },
  {
"cell_type": "code",
	   "execution_count": null,
	   "metadata": {
	    "collapsed": true
	   },
	   "outputs": [],
"source": [
"//example-2.2\n",
"//page no-29\n",
"//given\n",
"//IN THE RUTHERFORD SCATTERING EXPERIMENT\n",
"//the no of particles scattered at\n",
"theta1=(%pi)/2  //radians\n",
"//is\n",
"N90=44  //per minute\n",
"//the number of particles scattered particales N is given by\n",
"//N=C*(1/(sin(theta/2))^4)  where C is propotionality constant\n",
"//solving above equation for C\n",
"C=N90*(sin(theta1/2))^4  \n",
"// now to find the no of particles scatering at 75 and 135 degrees\n",
"theta2=75*(%pi)/180  //radians\n",
"N75=C*(1/(sin(theta2/2))^4)  //per minute\n",
"theta3=135*(%pi)/180  //radians\n",
"N135=C*(1/(sin(theta3/2))^4)  //per minute\n",
"printf ('the no of particles scattered at 75 and 135 degrees are %d per minute and %d per minutes',N75,N135)"
   ]
   }
,
{
		   "cell_type": "markdown",
		   "metadata": {},
		   "source": [
			"## Example 2.3: Bohrs_theory.sce"
		   ]
		  },
  {
"cell_type": "code",
	   "execution_count": null,
	   "metadata": {
	    "collapsed": true
	   },
	   "outputs": [],
"source": [
"//example-2.3\n",
"//ppage no-32\n",
"//given\n",
"//mass of electron\n",
"m=9.11*10^(-31)  //kg\n",
"//charge on an electron\n",
"e=1.6*10^(-19)  //C\n",
"//plank's constant\n",
"h=6.62*10^(-34)\n",
"E0=8.85*10^(-12) \n",
"//NO OF ELECTRONS SHELLS IN HYDROZEN ATOm\n",
"n=1\n",
"//atomic number of hydrogen\n",
"Z=1\n",
"//radius of first orbit of hydrogen is given by\n",
"r1=n^2*E0*h^2/((%pi)*m*Z*e^2)  //m\n",
"printf ('the radius of the first orbit of the electron in the hydrogen atom %.20f',r1)"
   ]
   }
,
{
		   "cell_type": "markdown",
		   "metadata": {},
		   "source": [
			"## Example 2.4: bohrs_theory.sce"
		   ]
		  },
  {
"cell_type": "code",
	   "execution_count": null,
	   "metadata": {
	    "collapsed": true
	   },
	   "outputs": [],
"source": [
"//example-2.4\n",
"//page no-32\n",
"//given\n",
"//mass of electron\n",
"m=9.11*10^(-31)  //kg\n",
"//charge on an electron\n",
"e=1.6*10^(-19)  //C\n",
"//plank's constant\n",
"h=6.62*10^(-34)\n",
"E0=8.85*10^(-12) \n",
"//NO OF ELECTRONS SHELLS IN HYDROZEN ATOm\n",
"n=1\n",
"//atomic number of hydrogen\n",
"Z=1\n",
"//ionization potential energy of hydrogen atom is given by\n",
"E=m*Z^2*e^4/(8*(E0)^2*h^2*n^2)  //J\n",
"//energy in eV\n",
"EV=E/e  //eV\n",
"printf ('the ionization potential for hydrogen atom is %f V',EV)"
   ]
   }
,
{
		   "cell_type": "markdown",
		   "metadata": {},
		   "source": [
			"## Example 2.5: relativistic_atomic_model.sce"
		   ]
		  },
  {
"cell_type": "code",
	   "execution_count": null,
	   "metadata": {
	    "collapsed": true
	   },
	   "outputs": [],
"source": [
"//example-2.5\n",
"//page no-34\n",
"//given\n",
"n=4\n",
"//the geometery of elliptical path is obtained by\n",
"//b/a=(l+1)/n\n",
"//let b/a=t just for notation\n",
"//for s suborbit\n",
"l1=0\n",
"t1=(l1+1)/n\n",
"//so b=a/4\n",
"//for p orbit\n",
"l2=1\n",
"t2=(l2+1)/n\n",
"//so b=a/2\n",
"//for d suborbit\n",
"l3=2\n",
"t3=(l3+1)/n\n",
"//so b=3*a/4\n",
"//for f suborbit\n",
"l4=3\n",
"t4=(l4+1)/n\n",
"//so b=a\n",
"printf ('hence the dimension of elliptical locus of different suborbits are given as above')"
   ]
   }
,
{
		   "cell_type": "markdown",
		   "metadata": {},
		   "source": [
			"## Example 2.6: uncertainity_principle.sce"
		   ]
		  },
  {
"cell_type": "code",
	   "execution_count": null,
	   "metadata": {
	    "collapsed": true
	   },
	   "outputs": [],
"source": [
"//example-2.6\n",
"//page no-36\n",
"//given\n",
"//uncertainity in the momentum\n",
"deltap=10^-27  //kg ms^-1\n",
"//according to uncertainity principle\n",
"//deltap* deltax >=h/(2*(%pi))\n",
"//we know that \n",
"h=6.626*10^-34  //Js\n",
"//here instead of inequality we are using only equality just for notation otherwise it is greater than equal to as mentioned above\n",
"//now deltax is given by\n",
"deltax=h/(2*(%pi)*deltap)  //m\n",
"printf ('the minimum uncertainity is %.10f m',deltax)"
   ]
   }
],
"metadata": {
		  "kernelspec": {
		   "display_name": "Scilab",
		   "language": "scilab",
		   "name": "scilab"
		  },
		  "language_info": {
		   "file_extension": ".sce",
		   "help_links": [
			{
			 "text": "MetaKernel Magics",
			 "url": "https://github.com/calysto/metakernel/blob/master/metakernel/magics/README.md"
			}
		   ],
		   "mimetype": "text/x-octave",
		   "name": "scilab",
		   "version": "0.7.1"
		  }
		 },
		 "nbformat": 4,
		 "nbformat_minor": 0
}
