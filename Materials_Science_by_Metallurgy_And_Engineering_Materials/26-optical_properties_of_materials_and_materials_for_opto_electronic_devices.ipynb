{
"cells": [
 {
		   "cell_type": "markdown",
	   "metadata": {},
	   "source": [
       "# Chapter 26: optical properties of materials and materials for opto electronic devices"
	   ]
	},
{
		   "cell_type": "markdown",
		   "metadata": {},
		   "source": [
			"## Example 26.1: energy_of_photon.sce"
		   ]
		  },
  {
"cell_type": "code",
	   "execution_count": null,
	   "metadata": {
	    "collapsed": true
	   },
	   "outputs": [],
"source": [
"//example-26.1\n",
"//page no-769\n",
"//given\n",
"//wavelength of light\n",
"lambda=5.893*10^-7  //m\n",
"//plank's constant\n",
"h=6.626*10^-34  //J s\n",
"//velocity of light \n",
"c=3*10^8  //m/s\n",
"//energy of photon\n",
"Ephoton=h*c/lambda  //J\n",
"//we know that 1eV=1.6*10^-19 J\n",
"//so\n",
"EPhoton=Ephoton/(1.6*10^-19)  //eV\n",
"printf ('the energy of photon is %.23f J or %f eV',Ephoton,EPhoton)"
   ]
   }
,
{
		   "cell_type": "markdown",
		   "metadata": {},
		   "source": [
			"## Example 26.2: absorptio.sce"
		   ]
		  },
  {
"cell_type": "code",
	   "execution_count": null,
	   "metadata": {
	    "collapsed": true
	   },
	   "outputs": [],
"source": [
"//example-26.2\n",
"//page no-769\n",
"//given\n",
"////thickness of sample\n",
"t=0.45*10^-4  //cm\n",
"//energy of light\n",
"E1=3  //eV\n",
"//absorption coefficient\n",
"alpha=50000  //per cm\n",
"//incident power on the sample\n",
"I0=15*10^-3  //W\n",
"//we know that\n",
"//intensity of transmitted light is given by\n",
"It=I0*exp(-alpha*t)  //W or J/s\n",
"//thus total energy absorbed is \n",
"Iabsorbed=I0-It  //W or J/s\n",
"printf ('total energy absorbed is %e J/s',Iabsorbed)\n",
"//plank's constant\n",
"h=6.626*10^-34  //J s\n",
"//energy of outgoing radiation\n",
"E2=2.35  //eV\n",
"//fraction of each photon energy unit which is converted ton heat\n",
"E=(E1-E2)/E1  \n",
"//therefore total amount of energy converted to heat per second is\n",
"EC=E*Iabsorbed  //J/s\n",
"printf ('total amount of energy coverted to heat is %e J/s',EC)\n",
"//charge on an electron\n",
"e=1.6*10^-19  //C\n",
"//no of photons = nphoton \n",
"nphoton=Iabsorbed/(e*E1)  //photons/sec  (calculation mistake is there in book)\n",
"printf ('the no of photon given off from recombination is %e photons/sec',nphoton)"
   ]
   }
,
{
		   "cell_type": "markdown",
		   "metadata": {},
		   "source": [
			"## Example 26.3: energy_of_photon.sce"
		   ]
		  },
  {
"cell_type": "code",
	   "execution_count": null,
	   "metadata": {
	    "collapsed": true
	   },
	   "outputs": [],
"source": [
"//example-26.3\n",
"//page no-783\n",
"//given\n",
"//energy of photon\n",
"E=1.5*10^-19  //J\n",
"//quantum eficiency\n",
"muquantam=0.6\n",
"//photon current\n",
"Iopc=3*10^-6  //A\n",
"//speed of light\n",
"c=3*10^8  //m/s\n",
"//plank's constant\n",
"h=6.626*10^-34  //J s\n",
"//wavelength at which the photodiode is operatng\n",
"lambda=h*c/E*10^6  //micro m\n",
"//responsivity of diode\n",
"R=0.64\n",
"//incident optical power is given by\n",
"Piop=Iopc/R*10^6  //micro W\n",
"printf ('wavelength at which photodiode is operating is %f micro m \n and incident optical power is %f micro W',lambda,Piop)"
   ]
   }
,
{
		   "cell_type": "markdown",
		   "metadata": {},
		   "source": [
			"## Example 26.4: optical_fibre.sce"
		   ]
		  },
  {
"cell_type": "code",
	   "execution_count": null,
	   "metadata": {
	    "collapsed": true
	   },
	   "outputs": [],
"source": [
"//example-26.4\n",
"//page no-784\n",
"//given\n",
"//refractive index of core and cladding\n",
"mucladding=1.47\n",
"mucore=1.50\n",
"//critocal angle at the core cladding interface\n",
"thetac=asin(mucladding/mucore) *180/(%pi) //degrees\n",
"printf ('the critical angle at core cladding interface is %f degrees',thetac)"
   ]
   }
,
{
		   "cell_type": "markdown",
		   "metadata": {},
		   "source": [
			"## Example 26.5: energy_of_absorbed_light.sce"
		   ]
		  },
  {
"cell_type": "code",
	   "execution_count": null,
	   "metadata": {
	    "collapsed": true
	   },
	   "outputs": [],
"source": [
"//example-26.5\n",
"//page no-784\n",
"//given\n",
"//energy band gap\n",
"Eg=0.75*1.6*10^-19  //J\n",
"//plank's constant\n",
"h=6.626*10^-34  //Js\n",
"//speed of light\n",
"c=3*10^8  //m/s\n",
"//wavelength of light\n",
"lambda=h*c/Eg*10^10  //A\n",
"printf ('wavelength of light is %f A',lambda)"
   ]
   }
,
{
		   "cell_type": "markdown",
		   "metadata": {},
		   "source": [
			"## Example 26.7: energy_of_photoelectron.sce"
		   ]
		  },
  {
"cell_type": "code",
	   "execution_count": null,
	   "metadata": {
	    "collapsed": true
	   },
	   "outputs": [],
"source": [
"//example-26.7\n",
"//page no-784\n",
"//given\n",
"//frequency of light\n",
"f=1.5*10^9*10^6  //Hz\n",
"//pank's constant\n",
"h=6.626*10^-34  //J s\n",
"//threshold frequency is\n",
"f0=1.2*10^9*10^6  //Hz\n",
"//maximum energy of emitted photoelectron is\n",
"Emax=h*(f-f0)/(1.6*10^-19)  //eV\n",
"printf ('the maximum enery of the emitted photoe;lectron is %f eV',Emax)"
   ]
   }
],
"metadata": {
		  "kernelspec": {
		   "display_name": "Scilab",
		   "language": "scilab",
		   "name": "scilab"
		  },
		  "language_info": {
		   "file_extension": ".sce",
		   "help_links": [
			{
			 "text": "MetaKernel Magics",
			 "url": "https://github.com/calysto/metakernel/blob/master/metakernel/magics/README.md"
			}
		   ],
		   "mimetype": "text/x-octave",
		   "name": "scilab",
		   "version": "0.7.1"
		  }
		 },
		 "nbformat": 4,
		 "nbformat_minor": 0
}
