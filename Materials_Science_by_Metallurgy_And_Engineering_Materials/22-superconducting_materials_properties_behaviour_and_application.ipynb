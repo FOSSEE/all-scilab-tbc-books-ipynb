{
"cells": [
 {
		   "cell_type": "markdown",
	   "metadata": {},
	   "source": [
       "# Chapter 22: superconducting materials properties behaviour and application"
	   ]
	},
{
		   "cell_type": "markdown",
		   "metadata": {},
		   "source": [
			"## Example 22.10: superconductors.sce"
		   ]
		  },
  {
"cell_type": "code",
	   "execution_count": null,
	   "metadata": {
	    "collapsed": true
	   },
	   "outputs": [],
"source": [
"//example-22.10\n",
"//page no-673\n",
"//given\n",
"//critical field at 3K and 14 K are 21 A/m and 10 A/m\n",
"T1=7  //K\n",
"T2=14  //K\n",
"Hc1=21  //A/m\n",
"Hc2=10  //A/m\n",
"//DETERMINING CRITICAL TEMP\n",
"//as we know that H=H0*(1-T^2/Tc^2)\n",
"//so we get\n",
"//71=H0*(1-7^2/Tc^2)  ----(1)\n",
"//10=H0*(1-14^2/Tc^2) --(2)\n",
"//dividing 1 and 2 we get\n",
"//71/10=(Tc^2-7^2)/(Tc^2-14^2)\n",
"//on solving we get\n",
"Tc=sqrt(3626/11)  //K\n",
"//DETERMINING CRITICAL FIELD AT 0K\n",
"H0=Hc1/(1-T1^2/Tc^2)  //A/m\n",
"//DETERMINING CRITICAL FIELD AT \n",
"T=4.2   //K\n",
"Hc=H0*(1-T^2/Tc^2)  //A/m\n",
"printf ('the critical temp is %f K\n, the critical field at 0K is %f A/m and critical field at 4.2 K is %f A/m',Tc,H0,Hc)"
   ]
   }
,
{
		   "cell_type": "markdown",
		   "metadata": {},
		   "source": [
			"## Example 22.11: superconductors.sce"
		   ]
		  },
  {
"cell_type": "code",
	   "execution_count": null,
	   "metadata": {
	    "collapsed": true
	   },
	   "outputs": [],
"source": [
"//example-22.11\n",
"//page no-674\n",
"//given\n",
"//depth of penetration at 3K is 39.8 nm and at 7.1 K is 1730 A\n",
"T1=3  //K\n",
"T2=7.1  //K\n",
"dp1=39.6*10^-9  //m\n",
"dp2=1730*10^-10  //m\n",
"//as we know that depth of penetration and temp are related as\n",
"//(dp(T)/dp(T0))=1/(1-t^4/Tc^4)\n",
"//so we get\n",
"//at 3K\n",
"//let dp(T0)=dp0\n",
"//dp0=sqrt(dp1^2*(1-T1^4/Tc^4))  -(1)\n",
"//also\n",
"//dp0=sqrt(dp2^2*(1-T2^4/Tc^4))  .----(2)\n",
"//solving 1 and 2 we get\n",
"//((Tc^4-81)/(Tc^4-(7.1)^4))=(173)^2/(39.6)^2\n",
"//so we get\n",
"Tc=(48417.9/18.085)^(1/4)  //K\\n",
"//depth of penetration at absolute zero willbe\n",
"dp0=sqrt(dp1^2*(1-T1^4/Tc^4))*10^9  //nm\n",
"printf ('critica temp is %f K\n and depth of penetration at critica zero is %f nm',Tc,dp0)"
   ]
   }
,
{
		   "cell_type": "markdown",
		   "metadata": {},
		   "source": [
			"## Example 22.2: critical_field.sce"
		   ]
		  },
  {
"cell_type": "code",
	   "execution_count": null,
	   "metadata": {
	    "collapsed": true
	   },
	   "outputs": [],
"source": [
"//example-22.2\n",
"//page no-660\n",
"//given\n",
"//critical  temp of Pb\n",
"T0=7.17  //K\n",
"//critical field\n",
"H0=0.0803  //A/m\n",
"//to find the critical field at \n",
"T1=3 //K\n",
"T2=10  //K\n",
"//critical field at T1\n",
"Hc1=H0*(1-T1^2/T0^2)  //A/m\n",
"//critical field at T2\n",
"Hc2=H0*(1-T2^2/T0^2)  //A/m\n",
"printf ('the critical field at 3K temp is %f A/m and at 10K ia %f A/m',Hc1,Hc2)"
   ]
   }
,
{
		   "cell_type": "markdown",
		   "metadata": {},
		   "source": [
			"## Example 22.3: critical_current.sce"
		   ]
		  },
  {
"cell_type": "code",
	   "execution_count": null,
	   "metadata": {
	    "collapsed": true
	   },
	   "outputs": [],
"source": [
"//example-22.3\n",
"//page no-660\n",
"//given\n",
"//critical magnetic field\n",
"Hc=7.9*10^3  //A/m\n",
"//diameter of aluminium wire\n",
"d=1*10^-3   //m\n",
"//critical current is give by\n",
"Ic=2*(%pi)*d*Hc  //A\n",
"printf ('the critical current which can pass through a long thin superconducting wire of aluminium is %f A',Ic)"
   ]
   }
,
{
		   "cell_type": "markdown",
		   "metadata": {},
		   "source": [
			"## Example 22.4: superconducting_material.sce"
		   ]
		  },
  {
"cell_type": "code",
	   "execution_count": null,
	   "metadata": {
	    "collapsed": true
	   },
	   "outputs": [],
"source": [
"//example-22.4\n",
"//page no-667\n",
"//given\n",
"//specific density of lead\n",
"sd=11.4\n",
"//density of lead\n",
"rho=sd*10^3  //kg/m^3\n",
"//atomic weight of lead\n",
"Aw=207.2  //kg/kg-mol\n",
"//velocity of sound in lead\n",
"v=1200  //m/s\n",
"NA=6.023*10^26  //particles/kg-mol (avogadro's number)\n",
"e=1.602*10^-19  //C/electrons  (charge on an electron)\n",
"m=9.1*10^-31  //kg  (mass of electron)\n",
"mu0=4*(%pi)*10^-7  //H/m  (permeability)\n",
"//since lead is type I superconductor, so  London's theory of superconductivity is applicable\n",
"//so\n",
"ne=2*rho*NA/Aw  //electrons/m^3\n",
"//critical current density\n",
"Ied=ne*e*v  //A/m^2\n",
"//depth of penetration at the surface of lead\n",
"dp=sqrt(m/(mu0*ne*e^2))*10^10  //A\n",
"printf ('the electron density is %e electrons/m^3\n, the critical current density is %e A/m^2\n and the depth of penetration is %e A',ne,Ied,dp)"
   ]
   }
,
{
		   "cell_type": "markdown",
		   "metadata": {},
		   "source": [
			"## Example 22.9: magnetic_field.sce"
		   ]
		  },
  {
"cell_type": "code",
	   "execution_count": null,
	   "metadata": {
	    "collapsed": true
	   },
	   "outputs": [],
"source": [
"//example-22.9\n",
"//page no-673\n",
"//given\n",
"//magnetic field at 0K temp \n",
"H0=65*10^3  //A/m\n",
"//critical temp \n",
"Tc=7.18  //K\n",
"//diameter of wire\n",
"d=1*10^-3  //m\n",
"//radius of wire\n",
"r=d/2  //m\n",
"//area of cross section\n",
"A=(%pi)*r^2  //m^2\n",
"//to find the current density at 4.2 K\n",
"//since it is given that Hc is parabolicaly dependent on T, so\n",
"T=4.2  //K\n",
"Hc=H0*(1-T^2/Tc^2)  //A/m\n",
"//critical current\n",
"Ic=2*(%pi)*r*Hc  //A\n",
"//critical current density Jc\n",
"Jc=Ic/A  //A/m^2\n",
"printf ('the critical current density of lead is %e A/m^2',Jc)"
   ]
   }
],
"metadata": {
		  "kernelspec": {
		   "display_name": "Scilab",
		   "language": "scilab",
		   "name": "scilab"
		  },
		  "language_info": {
		   "file_extension": ".sce",
		   "help_links": [
			{
			 "text": "MetaKernel Magics",
			 "url": "https://github.com/calysto/metakernel/blob/master/metakernel/magics/README.md"
			}
		   ],
		   "mimetype": "text/x-octave",
		   "name": "scilab",
		   "version": "0.7.1"
		  }
		 },
		 "nbformat": 4,
		 "nbformat_minor": 0
}
