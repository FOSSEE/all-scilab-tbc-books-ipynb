{
"cells": [
 {
		   "cell_type": "markdown",
	   "metadata": {},
	   "source": [
       "# Chapter 16: Heat Treatment"
	   ]
	},
{
		   "cell_type": "markdown",
		   "metadata": {},
		   "source": [
			"## Example 16.1: allotropy.sce"
		   ]
		  },
  {
"cell_type": "code",
	   "execution_count": null,
	   "metadata": {
	    "collapsed": true
	   },
	   "outputs": [],
"source": [
"//example-16.1\n",
"//page no- 484\n",
"//given\n",
"//atomic radiii of gamma-iron having FCC lattice\n",
"rFCC=1.26  //A\n",
"//atomic radius of alpha-iron having BCC lattica\n",
"rBCC=1.24  //A\n",
"//as we know that FCC and BCC has effective no of atoms 4 and 2 resp\n",
"//so\n",
"aBCC=4/sqrt(3)*rBCC  //A\n",
"aFCC=2*sqrt(2)*rFCC  //A\n",
"//volume of lattice for FCC and BCC\n",
"VFCC=(aFCC)^3  //A^3\n",
"VBCC=(aBCC)^3  //A^3\n",
"//percentage change in volume during phase transformation of gamma-iron to alpha-iron is given by\n",
"percent_vol_change=(VFCC/4-VBCC/2)/(VFCC/4)*100\n",
"printf('the percentage volume change during phase transformation of gamma-iron to alpha-iron is %f',percent_vol_change)"
   ]
   }
,
{
		   "cell_type": "markdown",
		   "metadata": {},
		   "source": [
			"## Example 16.3: annealing.sce"
		   ]
		  },
  {
"cell_type": "code",
	   "execution_count": null,
	   "metadata": {
	    "collapsed": true
	   },
	   "outputs": [],
"source": [
"//example-16.3\n",
"//page no-495\n",
"//given\n",
"//young's modulus \n",
"E=51*10^9  //Pa\n",
"//poisson's ratio\n",
"nu=0.22\n",
"//magnitude of burger's vector\n",
"b=2*10^-10  //m\n",
"//we know that shear modulus is given by\n",
"G=E/2/(1-nu)  //Pa\n",
"//elastic strain energy of dislocation in cold worked tin\n",
"Ue=1/2*G*b^2*10^12  //Pa m\n",
"//the strain energy in tin before cold working may be neglected as it is smaller by three orders of magnitude.\n",
"printf ('the change in energy during recrystallization is %f Pa m',Ue)"
   ]
   }
],
"metadata": {
		  "kernelspec": {
		   "display_name": "Scilab",
		   "language": "scilab",
		   "name": "scilab"
		  },
		  "language_info": {
		   "file_extension": ".sce",
		   "help_links": [
			{
			 "text": "MetaKernel Magics",
			 "url": "https://github.com/calysto/metakernel/blob/master/metakernel/magics/README.md"
			}
		   ],
		   "mimetype": "text/x-octave",
		   "name": "scilab",
		   "version": "0.7.1"
		  }
		 },
		 "nbformat": 4,
		 "nbformat_minor": 0
}
