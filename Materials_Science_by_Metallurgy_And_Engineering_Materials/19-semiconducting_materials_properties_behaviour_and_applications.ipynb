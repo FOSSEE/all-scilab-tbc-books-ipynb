{
"cells": [
 {
		   "cell_type": "markdown",
	   "metadata": {},
	   "source": [
       "# Chapter 19: semiconducting materials properties behaviour and applications"
	   ]
	},
{
		   "cell_type": "markdown",
		   "metadata": {},
		   "source": [
			"## Example 19.13: hall_effect.sce"
		   ]
		  },
  {
"cell_type": "code",
	   "execution_count": null,
	   "metadata": {
	    "collapsed": true
	   },
	   "outputs": [],
"source": [
"//example-19.13\n",
"//page no-583\n",
"//given\n",
"//electron mobility\n",
"mue=1.065*10^-3  //m^2/V s\n",
"//relaxation time\n",
"tau=6*10^-15  //s\n",
"//charge on electron\n",
"e=1.6*10^-19  //C\n",
"//no of electrons\n",
"n=1 \n",
"//mass of electron\n",
"me=9.1*10^-31  //kg\n",
"//as we know that \n",
"//mue=sigma*HC and sigma=n*e^2*tau/me\n",
"//so \n",
"//mue=n*e^2*tau*HC/me\n",
"//from above equation we can get\n",
"HC=mue*me/n/e^2/tau   //V m^3/A Wb  \n",
"//condustivity\n",
"sigma=mue/HC  //per ohm m   (calculation mistake in book)\n",
"printf ('the hall coefficient is %e V m^3/A Wb and conductivity is %e per ohm m',HC,sigma)"
   ]
   }
,
{
		   "cell_type": "markdown",
		   "metadata": {},
		   "source": [
			"## Example 19.14: hall_effect.sce"
		   ]
		  },
  {
"cell_type": "code",
	   "execution_count": null,
	   "metadata": {
	    "collapsed": true
	   },
	   "outputs": [],
"source": [
"//example-19.14\n",
"//page no-583\n",
"//given\n",
"//electron mobility\n",
"mue=1.065*10^-3   //m^2/Vs\n",
"//relaxation time\n",
"tau=6*10^-15  //sec\n",
"//charge on an electron\n",
"e=1.6*10^-19  //C\n",
"//mass of electron\n",
"me=9.1*10^-31  //Kg\n",
"n=1\n",
"//as we know that\n",
"//mue=sigma*Hc and sigma=n*e^2*tau/me\n",
"//so \n",
"//mue=n*e^2*tau*Hc/me\n",
"//upon rearrangement\n",
"Hc=mue*me/n/e^2/tau   \n",
"//and  \n",
"sigma=mue/Hc   //(ohm m)^-1  //(ohm m)^-1  (calulation mistake is there in book)\n",
"printf ('the hall coefficent is %e \n and conductivity of Al sample is %e (ohm m)^-1 ',Hc,sigma)"
   ]
   }
,
{
		   "cell_type": "markdown",
		   "metadata": {},
		   "source": [
			"## Example 19.15: hall_angle.sce"
		   ]
		  },
  {
"cell_type": "code",
	   "execution_count": null,
	   "metadata": {
	    "collapsed": true
	   },
	   "outputs": [],
"source": [
"//example-19.15\n",
"//page no-584\n",
"//given\n",
"//magnetic flux density\n",
"betaz=0.5  //T or Wb/m^2\n",
"//hall coefficient\n",
"HC=3.66*10^-4  //m^3/C\n",
"//resistivity of semiconductors \n",
"rho=0.00893  //ohm m\n",
"//hall angle\n",
"thetaH={atan(HC*betaz/rho)}*180/(%pi)   //degrees\n",
"printf ('the hall angle is %f degrees',thetaH)"
   ]
   }
,
{
		   "cell_type": "markdown",
		   "metadata": {},
		   "source": [
			"## Example 19.18: fermienergy.sce"
		   ]
		  },
  {
"cell_type": "code",
	   "execution_count": null,
	   "metadata": {
	    "collapsed": true
	   },
	   "outputs": [],
"source": [
"//example-19.18\n",
"//page no-585\n",
"//given\n",
"//fermi velocity of electron\n",
"VF=0.85*10^6  //m/s\n",
"//rest mass of electron\n",
"m0=9.109*10^-31  //kg\n",
"//charge on an electron\n",
"e=1.602*10^-19  //C\n",
"//fermi energy is\n",
"EF=1/2*m0*(VF)^2  // J\n",
"//energy in eV\n",
"E=EF/e //eV\n",
"printf ('the fermi energy value indicate that the metal is potassium')\n",
"//speed of light\n",
"c=3*10^8  //m/s\n",
"//varying mass of electron can bee calculated as\n",
"m=m0*sqrt(1-(VF/c)^2)  //kg\n",
"//fermi energy \n",
"EF=1/2*m*(VF)^2  //J\n",
"//energy in eV\n",
"E=EF/e  //eV\n",
"printf ('the fermi energy value indicate that the metal is potassium')"
   ]
   }
,
{
		   "cell_type": "markdown",
		   "metadata": {},
		   "source": [
			"## Example 19.19: band_gap.sce"
		   ]
		  },
  {
"cell_type": "code",
	   "execution_count": null,
	   "metadata": {
	    "collapsed": true
	   },
	   "outputs": [],
"source": [
"//example-19.19\n",
"//page no-586\n",
"//given\n",
"//wavelength of the edge of the absorption edge of a semiconductor material is \n",
"lambda=1771*10^-9  //m\n",
"//plank's constant\n",
"h=6.626*10^-34\n",
"//speed of light\n",
"c=3*10^8  //m/s\n",
"//band gap energy\n",
"Eg=h*c/lambda  //J\n",
"//charge on electron\n",
"e=1.602*10^-19  //C\n",
"//energy in eV\n",
"E=Eg/e  //eV\n",
"printf ('the band gap energy is %f eV',E)"
   ]
   }
,
{
		   "cell_type": "markdown",
		   "metadata": {},
		   "source": [
			"## Example 19.1: fermi_energy.sce"
		   ]
		  },
  {
"cell_type": "code",
	   "execution_count": null,
	   "metadata": {
	    "collapsed": true
	   },
	   "outputs": [],
"source": [
"//example-19.1\n",
"//page no-561\n",
"//given\n",
"pE=0.05\n",
"//let E-Ef=EE\n",
"EE=0.4  //eV\n",
"k=8.614*10^-5\n",
"//we know that\n",
"//p(E)=1/exp((E-EF)/k/T)\n",
"//putting above values in above equation we get\n",
"T=EE/k/log(1/pE-1)  //K\n",
"printf ('the temperature at which there is a probability of 5 percent for an electron to occupy energy state which is 0.4 eV above the fermi level is %f K',T)"
   ]
   }
,
{
		   "cell_type": "markdown",
		   "metadata": {},
		   "source": [
			"## Example 19.2: intrinsic_charge_carriers.sce"
		   ]
		  },
  {
"cell_type": "code",
	   "execution_count": null,
	   "metadata": {
	    "collapsed": true
	   },
	   "outputs": [],
"source": [
"//example-19.2\n",
"//page no-563\n",
"//given\n",
"//resistivity of pure silicon is \n",
"rho= 3000  //ohm m\n",
"//conductivity of pure silicon is reciproca of resistivity\n",
"sigma=1/rho  //(ohm m)^-1\n",
"//mobility of electrons and holes\n",
"muh=0.05  //m^2/V s\n",
"mue=0.14  //m^2/V s\n",
"//charge on elctron\n",
"e=1.602*10^-19  //C\n",
"// we know that\n",
"//sigme=ne*ee*mue+nh*eh*muh\n",
"//here we have ne=nh=n and ee=eh=e\n",
"//so we have sigma=n*e*muh+n*e*mue\n",
"//so \n",
"n=sigma/(e*muh+e*mue)  //ohm m^2/(C V s)\n",
"printf ('the density of intrensic carriers is %e /m^3',n)"
   ]
   }
,
{
		   "cell_type": "markdown",
		   "metadata": {},
		   "source": [
			"## Example 19.3: resistivity.sce"
		   ]
		  },
  {
"cell_type": "code",
	   "execution_count": null,
	   "metadata": {
	    "collapsed": true
	   },
	   "outputs": [],
"source": [
"//example-19.3\n",
"//page no-563\n",
"//given\n",
"//mobility of silicon\n",
"mue=0.17  //m^2/V s\n",
"//mobility of holes\n",
"muh=0.035  //m^2/V s\n",
"//carrier density\n",
"n=1.1*10^16  //per m^3 (here ne=nh=n)\n",
"//electronic charge\n",
"e=1.602*10^-19  //C (here ee=eh)\n",
"//as we know that\n",
"//sigma=ne*ee*mue+nh*eh*muh\n",
"//so we get\n",
"sigma=n*e*(mue+muh)  //per ohm m\n",
"//resistivity\n",
"rho=1/sigma  //ohm m\n",
"printf ('the resistivity of silicon is %f ohm m approx.',rho)"
   ]
   }
,
{
		   "cell_type": "markdown",
		   "metadata": {},
		   "source": [
			"## Example 19.4: extrinsic_semiconductor.sce"
		   ]
		  },
  {
"cell_type": "code",
	   "execution_count": null,
	   "metadata": {
	    "collapsed": true
	   },
	   "outputs": [],
"source": [
"//example-19.4\n",
"//page no-565\n",
"//given\n",
"//resistivity\n",
"rho=2*10^-3  //ohm m\n",
"//conductivity\n",
"sigma=1/rho  //per ohm m\n",
"//electrons and holes mobility\n",
"mue=0.3  //m^2/V s\n",
"muh=0.1  //m^2/V s\n",
"//charge on holes and electrons are same so\n",
"e=1.602*10^-19  //C\n",
"//we know that\n",
"//sigma=ne*e*mue+nh*e*muh\n",
"//here ne=nh=n\n",
"//so\n",
"n=sigma/(e*(mue+muh))  //per m^3  (some approximation is done in book)\n",
"printf ('the carrier density is %e per m^3',n)"
   ]
   }
,
{
		   "cell_type": "markdown",
		   "metadata": {},
		   "source": [
			"## Example 19.5: extrinsic_semiconductor.sce"
		   ]
		  },
  {
"cell_type": "code",
	   "execution_count": null,
	   "metadata": {
	    "collapsed": true
	   },
	   "outputs": [],
"source": [
"//example-19.5\n",
"//page no-566\n",
"//given\n",
"//current density\n",
"Id=1000  //A/m^2\n",
"//resistivity\n",
"rho=0.05  //ohm m\n",
"//conductivity\n",
"sigma=1/rho  //per ohm m\n",
"//electron mobility\n",
"mue=0.4  //m^2/V m\n",
"//length of crystal\n",
"l=100*10^-6  //m\n",
"//charge on electron\n",
"e=1.602*10^-19  //C\n",
"//in n-type semiconductor ne>>>nh\n",
"//so\n",
"n=sigma/e/mue  //per m^3\n",
"//also we know that\n",
"//Ie=n*e*vd\n",
"//so\n",
"vd=Id/n/e  //m/s\n",
"//the distance l travelled in time t at drift velocity vd, by an electron is given by\n",
"//l=t*vd\n",
"//so\n",
"t=l/vd*10^6  //micro sec\n",
"printf ('the velocity and time taken by the electron to travel 100 m in the crystal is %d m/s and %d micro sec',vd,t)"
   ]
   }
,
{
		   "cell_type": "markdown",
		   "metadata": {},
		   "source": [
			"## Example 19.6: extrinsic_semiconductor.sce"
		   ]
		  },
  {
"cell_type": "code",
	   "execution_count": null,
	   "metadata": {
	    "collapsed": true
	   },
	   "outputs": [],
"source": [
"//example-19.6\n",
"//page no-567\n",
"//given\n",
"//electronic charge\n",
"e=1.602*10^-19  //C\n",
"//lengthof rod\n",
"l=10*10^-3  //m\n",
"//diameter of rod \n",
"d=1*10^-3  //m\n",
"//area of cross section\n",
"A=(%pi)/4*d^2  //m^2\n",
"//resistance of wire\n",
"R=100  //ohm\n",
"//mobility of holes \n",
"muh=0.19  //m^2/V s\n",
"//resistivity of wire\n",
"rho=R*A/l  //ohm m\n",
"//conductivity\n",
"sigma=1/rho  //per ohm m\n",
"//we know that i p-type semiconductore nh>>>ne and eh=e\n",
"//so\n",
"//sigma=nh*e*muh\n",
"//so\n",
"nh=sigma/e/muh  //per m^3\n",
"printf ('the impurity conc in the rod is %e per m^3',nh)"
   ]
   }
,
{
		   "cell_type": "markdown",
		   "metadata": {},
		   "source": [
			"## Example 19.7: density_of_state.sce"
		   ]
		  },
  {
"cell_type": "code",
	   "execution_count": null,
	   "metadata": {
	    "collapsed": true
	   },
	   "outputs": [],
"source": [
"//example-19.7\n",
"//page no569\n",
"//given\n",
"//hole density \n",
"n=10^19  //per m^3\n",
"//intrinsic carriers concentration\n",
"ni=1.5*10^16  // per m^3\n",
"//no of conduction electrons are given by\n",
"p=(ni)^2/n  //per m^3\n",
"printf ('the no of intrinsic carrier are %e per m^3',p)"
   ]
   }
,
{
		   "cell_type": "markdown",
		   "metadata": {},
		   "source": [
			"## Example 19.8: density_of_state.sce"
		   ]
		  },
  {
"cell_type": "code",
	   "execution_count": null,
	   "metadata": {
	    "collapsed": true
	   },
	   "outputs": [],
"source": [
"//example-19.8\n",
"//page no-569\n",
"//given\n",
"//hole density in silicon\n",
"ND=10^17  //per cm^3\n",
"//intrinsic carrier concentretion\n",
"ni=1.5*10^10  //per cm^3\n",
"//since ND>>>> ni, so ne=ND\n",
"ne=ND\n",
"//the holes concentration\n",
"nh=(ni)^2/ne  //per cm^3\n",
"printf ('the hole concentration is %f per cm^3',nh)\n",
"//relative location of EF and Ei are found from\n",
"//EF-Ei=k*Tlog (ne/ni)\n",
"//let us assume for notation\n",
"//EF-Ei=EE\n",
"//temp\n",
"T=300  //K\n",
"k=8.614*10^-5  //eV\n",
"//so now \n",
"EE=k*T*log(ne/ni)  //eV\n",
"printf ('EF is located at %f eV away from Ei, toeards Ec side as denoted in book',EE)"
   ]
   }
,
{
		   "cell_type": "markdown",
		   "metadata": {},
		   "source": [
			"## Example 19.9: hall_effect.sce"
		   ]
		  },
  {
"cell_type": "code",
	   "execution_count": null,
	   "metadata": {
	    "collapsed": true
	   },
	   "outputs": [],
"source": [
"//example-19.9\n",
"//page no-582\n",
"//given\n",
"//deimension of aluminium piece\n",
"t=15*10^-3  //m (thickness)\n",
"b=60*10^-3  //m (width)\n",
"l=180*10^-3  //m (length)\n",
"//magnetic field\n",
"betaz=0.6  //T (tesla)\n",
"//current\n",
"I=25  //A\n",
"//hole mobility\n",
"sigmah=0.0012\n",
"//electrical conductivity\n",
"sigma=3.8*10^7  // per ohm m\n",
"//part(a)\n",
"//hall coefficient\n",
"HC=sigmah/sigma  //Vm/AT\n",
"//part(b)\n",
"//hall voltage\n",
"VAB=HC*I*betaz/t  //V\n",
"//part(c)\n",
"//resistance\n",
"R=l/sigma/b/t  //ohm\n",
"printf ('the hall coefficient is %.12f Vm/AT\n, hall voltage is %.9f V\n and resistance is %.6f ohm',HC,VAB,R)"
   ]
   }
],
"metadata": {
		  "kernelspec": {
		   "display_name": "Scilab",
		   "language": "scilab",
		   "name": "scilab"
		  },
		  "language_info": {
		   "file_extension": ".sce",
		   "help_links": [
			{
			 "text": "MetaKernel Magics",
			 "url": "https://github.com/calysto/metakernel/blob/master/metakernel/magics/README.md"
			}
		   ],
		   "mimetype": "text/x-octave",
		   "name": "scilab",
		   "version": "0.7.1"
		  }
		 },
		 "nbformat": 4,
		 "nbformat_minor": 0
}
