{
"cells": [
 {
		   "cell_type": "markdown",
	   "metadata": {},
	   "source": [
       "# Chapter 5: Material Characterization"
	   ]
	},
{
		   "cell_type": "markdown",
		   "metadata": {},
		   "source": [
			"## Example 5.1: diffractio.sce"
		   ]
		  },
  {
"cell_type": "code",
	   "execution_count": null,
	   "metadata": {
	    "collapsed": true
	   },
	   "outputs": [],
"source": [
"//example-5.1\n",
"//page no-136\n",
"//given\n",
"//wavelength of X-rays beams of light\n",
"lambda=0.824*10^-10  //m\n",
"//glancing angle of the incident light\n",
"theta1=(8+35/60)*(%pi)/180  //radians\n",
"n1=1\n",
"//to find theta3 i.e at\n",
"n3=3\n",
"//as we know that\n",
"//2*d*sin(theta)=n*lambda\n",
"//so for n1 and n3 we get in the same way and solving together we get \n",
"theta3=asin(3*sin(theta1))\n",
"//so \n",
"d=lambda/2/sin(theta1)\n",
"printf ('the galncing angle for thethird order diffraction is and interplanar spacing of the crystal is 2.761 A')"
   ]
   }
,
{
		   "cell_type": "markdown",
		   "metadata": {},
		   "source": [
			"## Example 5.2: lattice_parameter_and_miller_indices.sce"
		   ]
		  },
  {
"cell_type": "code",
	   "execution_count": null,
	   "metadata": {
	    "collapsed": true
	   },
	   "outputs": [],
"source": [
"//example-5.2\n",
"//page no-141\n",
"//given\n",
"//bragg's angle of reflection\n",
"theta1=17.03*(%pi)/180  //radians\n",
"//wavelength of light\n",
"lambda=0.71  //A\n",
"//according to bragg's equation \n",
"//n*lambda=2*d*sin(theta)\n",
"//for n=1\n",
"d=lambda/2/sin(theta1)  //A\n",
"//given that h^2+k^2+l^2=8\n",
"//let (h^2+k^2+l^2)^1/2=H\n",
"//we get\n",
"H=sqrt(8)\n",
"a=d*H  //A\n",
"//since h^2+k^2+l^2=8 ,hence the reflecting planes will be (220). family of planes (220) include (220), (202), (022) ,etc."
   ]
   }
,
{
		   "cell_type": "markdown",
		   "metadata": {},
		   "source": [
			"## Example 5.3: miller_indices_of_reflecting_planes.sce"
		   ]
		  },
  {
"cell_type": "code",
	   "execution_count": null,
	   "metadata": {
	    "collapsed": true
	   },
	   "outputs": [],
"source": [
"//example-5.3\n",
"//page n0-141\n",
"//given\n",
"//lattice constant\n",
"a=1.54  //A\n",
"//wavelength of beam of light\n",
"lambda=1.54 //A\n",
"//according to bragg's equation\n",
"//n*lambda=2*d*sin(theta)\n",
"//following angles are given\n",
"theta1=20.3*(%pi)/180\n",
"theta2=29.2*(%pi)/180\n",
"theta3=36.7*(%pi)/180\n",
"theta4=43.6*(%pi)/180\n",
"//interplaner spadcing is \n",
"d1=lambda/(2*sin(theta1))  //A\n",
"d2=lambda/(2*sin(theta2))  //A\n",
"d3=lambda/(2*sin(theta3))  //A\n",
"d4=lambda/(2*sin(theta4))  //A\n",
"//magnitude of bragg's \n",
"//we have h^2+k^2+l^2=a^2/d^2\n",
"//let a^2/d^2= D for notation only\n",
"//so\n",
"D1=2\n",
"D2=4\n",
"D3=6\n",
"D4=8\n",
"//so from bragg's magnitude we can get (hkl)\n",
"//(hkl1)=(110)\n",
"//(hkl3)=(200)\n",
"//(hkl3)=(211)\n",
"//(hkl4)=(220)\n",
"printf ('the reflection will take from {110},{200},{211} and (220)')"
   ]
   }
,
{
		   "cell_type": "markdown",
		   "metadata": {},
		   "source": [
			"## Example 5.5: structure_and_lattice_parameter_of_a_material.sce"
		   ]
		  },
  {
"cell_type": "code",
	   "execution_count": null,
	   "metadata": {
	    "collapsed": true
	   },
	   "outputs": [],
"source": [
"//example-5.5\n",
"//page no-146\n",
"//given\n",
"//wavelength of X-ray\n",
"lambda=1.54  //A\n",
"//diameter of powder camera\n",
"D=114.6  //mm\n",
"//radius of powder camera\n",
"R=D/2  //mm\n",
"//value of l\n",
"l1=86\n",
"l2=100\n",
"l3=148\n",
"l4=180\n",
"l5=188\n",
"l6=232\n",
"l7=272\n",
"//we know that\n",
"//theta=l/4\n",
"//so\n",
"theta1=l1/4*(%pi)/180   //radians\n",
"theta2=l2/4*(%pi)/180   //radians\n",
"theta3=l3/4*(%pi)/180   //radians\n",
"theta4=l4/4*(%pi)/180   //radians\n",
"theta5=l5/4*(%pi)/180   //radians\n",
"theta6=l6/4*(%pi)/180   //radians\n",
"theta7=l7/4*(%pi)/180   //radians\n",
"//now values of sin (theta) and sin(theta2)\n",
"S1=sin(theta1)\n",
"SS1=(sin(theta1))^2\n",
"S2=sin(theta1)\n",
"SS2=(sin(theta1))^2\n",
"S3=sin(theta1)\n",
"SS3=(sin(theta1))^2\n",
"S4=sin(theta1)\n",
"SS4=(sin(theta1))^2\n",
"S5=sin(theta1)\n",
"SS5=(sin(theta1))^2\n",
"S6=sin(theta1)\n",
"SS6=(sin(theta1))^2\n",
"S7=sin(theta1)\n",
"SS7=(sin(theta1))^2\n",
"//so the ratio can be expressed as\n",
"//3:4:8:11:12:16:19\n",
"printf ('from the extinction rule, we notice that this is an FCC Structure')\n",
"//the lattice parameter for highest bragg's angle is\n",
"//a=lambda*sqrt(h^2+k^2+l^2)/(2*sin(theta))\n",
"//here h^2+k^2+l^2=19\n",
"//and let h^2+k^2+l^2 =M for notation\n",
"M=19\n",
"a=lambda*sqrt(M)/(2*sin(theta6))  //A\n",
"printf ('lattice parameter of material is %f A',a)"
   ]
   }
,
{
		   "cell_type": "markdown",
		   "metadata": {},
		   "source": [
			"## Example 5.6: ASTM_Number.sce"
		   ]
		  },
  {
"cell_type": "code",
	   "execution_count": null,
	   "metadata": {
	    "collapsed": true
	   },
	   "outputs": [],
"source": [
"//example-5.6\n",
"//page no-158\n",
"//given\n",
"//ASTM number\n",
"n=12\n",
"//as we know that the number of grains N observed on photomicrograph is given by\n",
"N=2^(n-1)\n",
"//as we know that grain size diameter is given by\n",
"d=1/sqrt((N/645)*10^4)  //mm  because 1 square inch=645 mm^2\n",
"printf ('the grain diameter for an ASTM number 12 is %f mm',d)"
   ]
   }
,
{
		   "cell_type": "markdown",
		   "metadata": {},
		   "source": [
			"## Example 5.7: area_density_and_grain_size_of_grains.sce"
		   ]
		  },
  {
"cell_type": "code",
	   "execution_count": null,
	   "metadata": {
	    "collapsed": true
	   },
	   "outputs": [],
"source": [
"//example-5.7\n",
"//page no-158\n",
"//given\n",
"//no of grains within the view of a micrograph\n",
"n1=41\n",
"//no of grains cut by circumference\n",
"n2=42\n",
"//diameter of circular area\n",
"d=1  //inch\n",
"//area\n",
"A=(%pi)/4*d^2  //inch^2\n",
"//the area density of grains\n",
"\n",
"N=(n1+n2/2)/A  //grains/inch^2\n",
"//grain size\n",
"n=log(N)/log(2)+1  \n",
"printf ('the area density of grains is %f grains/inch^2 and grain size is 8',N)"
   ]
   }
,
{
		   "cell_type": "markdown",
		   "metadata": {},
		   "source": [
			"## Example 5.8: boundary_area_using_ASTM_Number.sce"
		   ]
		  },
  {
"cell_type": "code",
	   "execution_count": null,
	   "metadata": {
	    "collapsed": true
	   },
	   "outputs": [],
"source": [
"//example-5.8\n",
"//page no-159\n",
"//given\n",
"//ASTM no of grains\n",
"ASTM=5\n",
"//area density of grains\n",
"N=2^(ASTM-1)  //grains/inch^2 at magnification of 100*\n",
"//as we know that lineal and areal magnification are related as\n",
"//*100 lineal=*10000 areal\n",
"//therefore\n",
"Nnew=N/0.01/0.01  //grains/inch^2 at 1*\n",
"//average area of one grain\n",
"A=1/Nnew*(2.54)^2  //cm^2\n",
"//now 160000 grains/inch^2 of surface is sqrt(160000)=400 grains/inch of length and this is equal to=(400)^3==6.4*10^7 grains/m^3 of volume\n",
"//surface area of each cubic surface\n",
"S=(1/400)^2  //inch^2\n",
"//there are 6 surfaces in accubic grain\n",
"//thus total surface area of each grain\n",
"T=1/2*6*S*(400)^3/2.54  //cm^2 boundary per cubic cm of steel\n",
"printf ('the boumdary area per cubic centimeter of steel is %f cm^2 boundary per cubic centimeter of steel',T)"
   ]
   }
],
"metadata": {
		  "kernelspec": {
		   "display_name": "Scilab",
		   "language": "scilab",
		   "name": "scilab"
		  },
		  "language_info": {
		   "file_extension": ".sce",
		   "help_links": [
			{
			 "text": "MetaKernel Magics",
			 "url": "https://github.com/calysto/metakernel/blob/master/metakernel/magics/README.md"
			}
		   ],
		   "mimetype": "text/x-octave",
		   "name": "scilab",
		   "version": "0.7.1"
		  }
		 },
		 "nbformat": 4,
		 "nbformat_minor": 0
}
