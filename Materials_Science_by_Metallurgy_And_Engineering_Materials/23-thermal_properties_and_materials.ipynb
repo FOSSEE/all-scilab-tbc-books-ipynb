{
"cells": [
 {
		   "cell_type": "markdown",
	   "metadata": {},
	   "source": [
       "# Chapter 23: thermal properties and materials"
	   ]
	},
{
		   "cell_type": "markdown",
		   "metadata": {},
		   "source": [
			"## Example 23.1: coefficient_of_linear_expansion.sce"
		   ]
		  },
  {
"cell_type": "code",
	   "execution_count": null,
	   "metadata": {
	    "collapsed": true
	   },
	   "outputs": [],
"source": [
"//example-23.1\n",
"//page no-681\n",
"//given\n",
"//length of glass rod and steel rod is equal at 273 K and differ by 1.2 mm at 373 K\n",
"T1=273  //K\n",
"T2=373  //K\n",
"//coefficients of linear expansion af glass and steel are\n",
"alphaG=8*10^-6  //per degree C\n",
"alphaS=12*10^-6   //per degrees C\n",
"//we know that\n",
"//lT2=lT1*(1+alpha(T2-T1))\n",
"//so for glass rod\n",
"//l100G=l0*(1+(alpha1)*(T2-T1))\n",
"//similarly for steel rod\n",
"//l100G=1.0008*l0   ----(1)\n",
"//l100S=lo*(1+(alpha2)*(T2-T1))\n",
"//l100S=1.0012*l0  ----------(2)\n",
"//we have given that\n",
"//l100S-l100G=1.2 mm  ---(3)\n",
"//from 1 and 2 put in 3, we get\n",
"//1.0012*l0-1.0008*l0=1.2\n",
"//so\n",
"l0=1.2*10^-3/(0.0012-.0008)  //m\n",
"printf ('the length of rod at 0 degrees celcius is %f m',l0)"
   ]
   }
,
{
		   "cell_type": "markdown",
		   "metadata": {},
		   "source": [
			"## Example 23.2: stress_strai.sce"
		   ]
		  },
  {
"cell_type": "code",
	   "execution_count": null,
	   "metadata": {
	    "collapsed": true
	   },
	   "outputs": [],
"source": [
"//example-23.2\n",
"//page no-684\n",
"//given\n",
"//coefficient of linear expansion of Cu and steel are\n",
"alphaCu=18*10^-6  //cm/cm/degree C\n",
"alphaSteel=14*10^-6  //cm/cm/degree C\n",
"//young's modulus of elasticity\n",
"ECu=106*10^9  //Pa\n",
"ESteel=200*10^9  //Pa\n",
"//part(a)\n",
"//since alphaCu>alphaSteel\n",
"//so steel will contract less. \n",
"printf ('Hence strip will bend in the direction of copper')\n",
"//part(b)\n",
"//annealing temp\n",
"T2=530  //degrees celcius\n",
"//room temp\n",
"T1=30  //degrees celcius\n",
"//difference in temp\n",
"T=T2-T1  //degrees celcius\n",
"//differnce in values of coefficient of linear expansion\n",
"alpha=alphaCu-alphaSteel  //cm/cm/degrees celcius\n",
"//differential contraction\n",
"contraction=T*alpha  //cm/cm\n",
"//since the two metals in the strip have equal dimension\n",
"//sigmaCu=sigmaSteel=sigma\n",
"//strain in copper\n",
"//eCu=sigma/Ecu    -----(1)\n",
"//strain in steel\n",
"//eSteel=sigma/ESteel   ---(2)\n",
"//sum of strains given by equation 1 and 2\n",
"sigma=contraction*ESteel*ECu/(ESteel+ECu)*10^-6  // MPa\n",
"printf ('the stresses in each metal is %f MPa',sigma)"
   ]
   }
],
"metadata": {
		  "kernelspec": {
		   "display_name": "Scilab",
		   "language": "scilab",
		   "name": "scilab"
		  },
		  "language_info": {
		   "file_extension": ".sce",
		   "help_links": [
			{
			 "text": "MetaKernel Magics",
			 "url": "https://github.com/calysto/metakernel/blob/master/metakernel/magics/README.md"
			}
		   ],
		   "mimetype": "text/x-octave",
		   "name": "scilab",
		   "version": "0.7.1"
		  }
		 },
		 "nbformat": 4,
		 "nbformat_minor": 0
}
