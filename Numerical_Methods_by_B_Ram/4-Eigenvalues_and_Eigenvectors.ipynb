{
"cells": [
 {
		   "cell_type": "markdown",
	   "metadata": {},
	   "source": [
       "# Chapter 4: Eigenvalues and Eigenvectors"
	   ]
	},
{
		   "cell_type": "markdown",
		   "metadata": {},
		   "source": [
			"## Example 4.10: Givens_Method.sce"
		   ]
		  },
  {
"cell_type": "code",
	   "execution_count": null,
	   "metadata": {
	    "collapsed": true
	   },
	   "outputs": [],
"source": [
"//Example 4.10\n",
"//Givens Method\n",
"//Page no. 105\n",
"clc;close;clear;\n",
"\n",
"A=[8,-6,2;-6,7,-4;2,-4,3];\n",
"n=3;\n",
"for k=1:1\n",
"    max1=0\n",
"i1=2;j1=3;\n",
"fi=(atan((2*A(i1,j1))/(A(i1,i1)-A(j1,j1)+10^-20)))/2\n",
"disp(fi,'fi = ')\n",
"O1=eye(n,n)\n",
"O1(i1,j1)=-sin(fi)\n",
"O1(j1,i1)=sin(fi)\n",
"O1(i1,i1)=cos(fi)\n",
"O1(j1,j1)=cos(fi)\n",
"disp(O1,'O1 = ')\n",
"A=inv(O1)*A*O1\n",
"disp(A,'B = ')\n",
"end\n",
"printf('\n\n')\n",
"l=poly(0,'lb')\n",
"A=A-l*eye(n,n)\n",
"disp(det(A),'Characteristic Equation = ')\n",
"A=roots(det(A))\n",
"printf('\n\n The eigenvalues are : \n\n')\n",
"for i=1:n\n",
"    printf('\tl%i = %g\t',i,A(i))\n",
"end"
   ]
   }
,
{
		   "cell_type": "markdown",
		   "metadata": {},
		   "source": [
			"## Example 4.11: Givens_Method.sce"
		   ]
		  },
  {
"cell_type": "code",
	   "execution_count": null,
	   "metadata": {
	    "collapsed": true
	   },
	   "outputs": [],
"source": [
"//Example 4.11\n",
"//Givens Method\n",
"//Page no. 106\n",
"clc;close;clear;\n",
"\n",
"A=[1,2,2;2,1,2;2,2,1];\n",
"n=3;\n",
"for k=1:1\n",
"    max1=0\n",
"i1=2;j1=3;\n",
"fi=(atan((2*A(i1,j1))/(A(i1,i1)-A(j1,j1)+10^-20)))/2\n",
"disp(fi,'fi = ')\n",
"O1=eye(n,n)\n",
"O1(i1,j1)=-sin(fi)\n",
"O1(j1,i1)=sin(fi)\n",
"O1(i1,i1)=cos(fi)\n",
"O1(j1,j1)=cos(fi)\n",
"disp(O1,'O1 = ')\n",
"A=inv(O1)*A*O1\n",
"disp(A,'B = ')\n",
"end\n",
"printf('\n\n')\n",
"l=poly(0,'lb')\n",
"A=A-l*eye(n,n)\n",
"disp(-det(A),'Characteristic Equation = ')\n",
"A=roots(det(A))\n",
"printf('\n\n The eigenvalues are : \n\n')\n",
"for i=1:n\n",
"    printf('\tl%i = %g\t',i,A(i))\n",
"end"
   ]
   }
,
{
		   "cell_type": "markdown",
		   "metadata": {},
		   "source": [
			"## Example 4.12: Givens_Method.sce"
		   ]
		  },
  {
"cell_type": "code",
	   "execution_count": null,
	   "metadata": {
	    "collapsed": true
	   },
	   "outputs": [],
"source": [
"//Example 4.12\n",
"//Givens Method\n",
"//Page no. 107\n",
"clc;close;clear;\n",
"\n",
"A=[1,2,2,2;2,1,2,2;2,2,1,3;2,2,3,1];\n",
"n=4;\n",
"for k=1:3\n",
"    max1=0\n",
"    if k==1 then\n",
"        i1=2;j1=3;\n",
"    elseif k==2\n",
"        i1=2;j1=4;\n",
"    else\n",
"        i1=3;j1=4;\n",
"    end\n",
"fi=(atan((2*A(i1,j1))/(A(i1,i1)-A(j1,j1)+10^-20)))/2\n",
"disp(fi,'fi = ')\n",
"O1=eye(n,n)\n",
"O1(i1,j1)=-sin(fi)\n",
"O1(j1,i1)=sin(fi)\n",
"O1(i1,i1)=cos(fi)\n",
"O1(j1,j1)=cos(fi)\n",
"disp(O1,'O1 = ')\n",
"A=inv(O1)*A*O1\n",
"disp(A,'B = ')\n",
"end\n",
"printf('\n\n')\n",
"l=poly(0,'lb')\n",
"A=A-l*eye(n,n)\n",
"disp(-det(A),'Characteristic Equation = ')\n",
"A=roots(det(A))\n",
"printf('\n\n The eigenvalues are : \n\n')\n",
"for i=1:n\n",
"    printf('\tl%i = %g\t',i,A(i))\n",
"end"
   ]
   }
,
{
		   "cell_type": "markdown",
		   "metadata": {},
		   "source": [
			"## Example 4.13: House_Holder_Transformation.sce"
		   ]
		  },
  {
"cell_type": "code",
	   "execution_count": null,
	   "metadata": {
	    "collapsed": true
	   },
	   "outputs": [],
"source": [
"//Example 4.13\n",
"//House Holder Transformation\n",
"//Page no. 113\n",
"clc;clear;close;\n",
"\n",
"A=[3,2,1;2,3,2;1,2,3]\n",
"disp(A,'A=')\n",
"k=0;\n",
"for j=2:3\n",
"    k=k+A(j,1)^2;\n",
"end\n",
"a=A(2,1)*abs(1/A(2,1))*sqrt(k);\n",
"disp(a,'alpha=')\n",
"U=[0;a+A(2,1);A(3,1)];\n",
"disp(U,'U=')\n",
"U1=U'*U;\n",
"disp(U1,'UT*U=')\n",
"U2=U*U';\n",
"disp(U2,'U*UT=')\n",
"P=eye(3,3)-(2*U2)/U1;\n",
"disp(P,'P=');\n",
"B=P*A*P;\n",
"disp(B,'B=');"
   ]
   }
,
{
		   "cell_type": "markdown",
		   "metadata": {},
		   "source": [
			"## Example 4.14: House_Holder_Transformation.sce"
		   ]
		  },
  {
"cell_type": "code",
	   "execution_count": null,
	   "metadata": {
	    "collapsed": true
	   },
	   "outputs": [],
"source": [
"//Example 4.14\n",
"//House Holder Transformation\n",
"//Page no. 114\n",
"clc;clear;close;\n",
"\n",
"A=[1,3,4;3,1,2;4,2,1]\n",
"disp(A,'A=')\n",
"k=0;\n",
"for j=2:3\n",
"    k=k+A(j,1)^2;\n",
"end\n",
"a=A(2,1)*abs(1/A(2,1))*sqrt(k);\n",
"disp(a,'alpha=')\n",
"U=[0;a+A(2,1);A(3,1)];\n",
"disp(U,'U=')\n",
"U1=U'*U;\n",
"disp(U1,'UT*U=')\n",
"U2=U*U';\n",
"disp(U2,'U*UT=')\n",
"P=eye(3,3)-(2*U2)/U1;\n",
"disp(P,'P=');\n",
"B=P*A*P;\n",
"disp(B,'B=');"
   ]
   }
,
{
		   "cell_type": "markdown",
		   "metadata": {},
		   "source": [
			"## Example 4.15: Strum_Sequence.sce"
		   ]
		  },
  {
"cell_type": "code",
	   "execution_count": null,
	   "metadata": {
	    "collapsed": true
	   },
	   "outputs": [],
"source": [
"//Example 4.15\n",
"//Strum Sequence\n",
"//Page no. 116\n",
"clc;clear;close;\n",
"\n",
"A=[1,2,2;2,1,2;2,2,1]\n",
"disp(A,'A=')\n",
"k=0;\n",
"for j=2:3\n",
"    k=k+A(j,1)^2;\n",
"end\n",
"a=A(2,1)*abs(1/A(2,1))*sqrt(k);\n",
"U=[0;a+A(2,1);A(3,1)];\n",
"U1=U'*U;\n",
"U2=U*U';\n",
"P=eye(3,3)-(2*U2)/U1;\n",
"B=P*A*P;\n",
"disp(B,'Reduced Matrix = ');\n",
"lb=poly(0,'lb')\n",
"f0l=1;                                //strum sequence\n",
"f1l=(B(1,1)-lb)*f0l;\n",
"f2l=(B(2,2)-lb)*f1l-B(1,2)^2*f0l\n",
"f3l=(B(3,3)-lb)*f2l-B(2,3)^2*f1l\n",
"disp(f3l,'f3(lambda) = ')\n",
"disp(roots(f3l),'Therefore the eigenvalues are : ')"
   ]
   }
,
{
		   "cell_type": "markdown",
		   "metadata": {},
		   "source": [
			"## Example 4.16: Strum_Sequence.sce"
		   ]
		  },
  {
"cell_type": "code",
	   "execution_count": null,
	   "metadata": {
	    "collapsed": true
	   },
	   "outputs": [],
"source": [
"//Example 4.16\n",
"//Strum Sequence\n",
"//Page no. 117\n",
"clc;clear;close;\n",
"\n",
"A=[8,-6,2;-6,7,-4;2,-4,3]\n",
"disp(A,'A=')\n",
"k=0;\n",
"for j=2:3\n",
"    k=k+A(j,1)^2;\n",
"end\n",
"a=A(2,1)*abs(1/A(2,1))*sqrt(k);\n",
"U=[0;a+A(2,1);A(3,1)];\n",
"U1=U'*U;\n",
"U2=U*U';\n",
"P=eye(3,3)-(2*U2)/U1;\n",
"B=P*A*P;\n",
"disp(B,'Reduced Matrix = ');\n",
"lb=poly(0,'lb')\n",
"f0l=1;                                //strum sequence\n",
"f1l=(B(1,1)-lb)*f0l;\n",
"f2l=(B(2,2)-lb)*f1l-B(1,2)^2*f0l\n",
"f3l=(B(3,3)-lb)*f2l-B(2,3)^2*f1l\n",
"disp(f3l,'f3(lambda) = ')\n",
"disp(roots(f3l),'Therefore the eigenvalues are : ')"
   ]
   }
,
{
		   "cell_type": "markdown",
		   "metadata": {},
		   "source": [
			"## Example 4.17: Gerschgorin_Circles.sce"
		   ]
		  },
  {
"cell_type": "code",
	   "execution_count": null,
	   "metadata": {
	    "collapsed": true
	   },
	   "outputs": [],
"source": [
"//Example 4.17\n",
"//Gerschgorin Circles\n",
"//Page no. 118\n",
"clc;clear;close;\n",
"\n",
"A=[1,2,3;2,4,6;3,6,1];\n",
"j=2;\n",
"k=3;\n",
"printf('The Gerschgorin Circles are : \n\n  A =' )\n",
"for i=1:3\n",
"    printf('\t|z-%i| = |%i| + |%i| = %i\n',A(i,i),A(i,j),A(i,k),A(i,j)+A(i,k))\n",
"    if j~=1 then\n",
"        j=j-1\n",
"    end\n",
"    if i==2 then\n",
"        k=k-1\n",
"    end\n",
"end"
   ]
   }
,
{
		   "cell_type": "markdown",
		   "metadata": {},
		   "source": [
			"## Example 4.1: Power_Method.sce"
		   ]
		  },
  {
"cell_type": "code",
	   "execution_count": null,
	   "metadata": {
	    "collapsed": true
	   },
	   "outputs": [],
"source": [
"//Example 4.1\n",
"//Power Method\n",
"//Page no. 89\n",
"clc;close;clear;\n",
"\n",
"A=[1,3,-1;3,2,4;-1,4,10];\n",
"e=0.001;\n",
"q0=[0;0;1];\n",
"for i=1:5\n",
"    q1=A*q0;\n",
"    a=max(q1)\n",
"    for j=1:3\n",
"        q2(j)=q1(j)/a;\n",
"    end\n",
"    printf('\nq(%i) = %.4f     a = %.4f      Scaled q(%i) = %.3f\n       %.3f                                     %.3f\n       %.3f                                      %i\n\n',i,q1(1),a,i,q2(1),q1(2),q2(2),q1(3),q2(3))\n",
"    q1=q2;\n",
"    q0=q1;\n",
"end\n",
"printf('Hence the largest eigenvalue is %.2f with the corresponding eigenvector as %.3f\n                                                                            %.3f\n                                                                              %i',a,q0(1),q0(2),q0(3))"
   ]
   }
,
{
		   "cell_type": "markdown",
		   "metadata": {},
		   "source": [
			"## Example 4.2: Power_Method.sce"
		   ]
		  },
  {
"cell_type": "code",
	   "execution_count": null,
	   "metadata": {
	    "collapsed": true
	   },
	   "outputs": [],
"source": [
"//Example 4.2\n",
"//Power Method\n",
"//Page no. 90\n",
"clc;close;clear;\n",
"\n",
"A=[1,-3,2;4,4,-1;6,3,5];\n",
"e=0.001;\n",
"q0=[1;1;1];\n",
"for i=1:9\n",
"    q1=A*q0;\n",
"    a=max(q1)\n",
"    for j=1:3\n",
"        q2(j)=q1(j)/a;\n",
"    end\n",
"    printf('\nq(%i) = %.4f     a = %.4f      Scaled q(%i) = %.3f\n       %.3f                                    %.3f\n       %.3f                                      %i\n\n',i,q1(1),a,i,q2(1),q1(2),q2(2),q1(3),q2(3))\n",
"    q1=q2;\n",
"    q0=q1;\n",
"end\n",
"q0=q0*30\n",
"printf('Hence the largest eigenvalue is %.1g with the corresponding eigenvector as %.1g\n                                                                        %.1g\n                                                                        %i',a,q0(1),q0(2),q0(3))"
   ]
   }
,
{
		   "cell_type": "markdown",
		   "metadata": {},
		   "source": [
			"## Example 4.3: Power_Method.sce"
		   ]
		  },
  {
"cell_type": "code",
	   "execution_count": null,
	   "metadata": {
	    "collapsed": true
	   },
	   "outputs": [],
"source": [
"//Example 4.3\n",
"//Power Method\n",
"//Page no. 91\n",
"clc;close;clear;\n",
"\n",
"A=[2,-1,0;-1,2,-1;0,-1,2];\n",
"e=0.001;\n",
"q0=[1;1;1];\n",
"for i=1:6\n",
"    q1=A*q0;\n",
"    a=max(q1)\n",
"    for j=1:3\n",
"        q2(j)=q1(j)/a;\n",
"    end\n",
"    printf('\nq(%i) = %.4f     a = %.4f      Scaled q(%i) = %.3f\n       %.3f                                  %.3f\n       %.3f                                      %i\n\n',i,q1(1),a,i,q2(1),q1(2),q2(2),q1(3),q2(3))\n",
"    q1=q2;\n",
"    q0=q1;\n",
"end\n",
"q0=-q0/q0(2)\n",
"printf('Hence the largest eigenvalue is %.3f with the corresponding eigenvector as %.1f\n                                                                            %.1g\n                                                                            %.1f',a,q0(1),q0(2),q0(3))"
   ]
   }
,
{
		   "cell_type": "markdown",
		   "metadata": {},
		   "source": [
			"## Example 4.4: Power_Method.sce"
		   ]
		  },
  {
"cell_type": "code",
	   "execution_count": null,
	   "metadata": {
	    "collapsed": true
	   },
	   "outputs": [],
"source": [
"//Example 4.4\n",
"//Power Method\n",
"//Page no. 93\n",
"clc;close;clear;\n",
"\n",
"A=[3,-1,0;-1,2,-1;0,-1,3];\n",
"e=0.001;\n",
"q0=[1;1;1];\n",
"for i=1:5\n",
"    q1=A*q0;\n",
"    a=max(q1)\n",
"    for j=1:3\n",
"        q2(j)=q1(j)/a;\n",
"    end\n",
"    printf('\nq(%i) = %.4f     a = %.4f      Scaled q(%i) = %.3f\n       %.3f                                  %.3f\n       %.3f                                      %i\n\n',i,q1(1),a,i,q2(1),q1(2),q2(2),q1(3),q2(3))\n",
"    q1=q2;\n",
"    q0=q1;\n",
"end\n",
"q0=-q0/q0(2)\n",
"printf('Hence the largest eigenvalue is %.1g with the corresponding eigenvector as %.1g\n                                                                       %.1g\n                                                                        %.1g',a,q0(1),q0(2),q0(3))"
   ]
   }
,
{
		   "cell_type": "markdown",
		   "metadata": {},
		   "source": [
			"## Example 4.5: Jacobi_Method.sce"
		   ]
		  },
  {
"cell_type": "code",
	   "execution_count": null,
	   "metadata": {
	    "collapsed": true
	   },
	   "outputs": [],
"source": [
"//Example 4.5\n",
"//Jacobi Method\n",
"//Page no. 95\n",
"clc;close;clear;\n",
"\n",
"A=[10,7,8,7;7,5,6,5;8,6,10,9;7,5,9,10];\n",
"n=4;\n",
"for k=1:14\n",
"    max1=0\n",
"for i=1:n\n",
"    for j=1:n\n",
"        if A(i,j)>max1 & i~=j then\n",
"            max1=A(i,j)\n",
"            i1=i;j1=j;\n",
"        end\n",
"    end\n",
"end\n",
"fi=(atan((2*A(i1,j1))/(A(i1,i1)-A(j1,j1)+10^-20)))/2\n",
"disp(fi,'fi = ')\n",
"O1=eye(n,n)\n",
"O1(i1,j1)=-sin(fi)\n",
"O1(j1,i1)=sin(fi)\n",
"O1(i1,i1)=cos(fi)\n",
"O1(j1,j1)=cos(fi)\n",
"disp(O1,'O1 = ')\n",
"A=inv(O1)*A*O1\n",
"disp(A,'A1 = ')\n",
"end\n",
"printf('\n\n The eigenvalues are : \n\n')\n",
"for i=1:n\n",
"    printf('\tl%i = %g\t',i,A(i,i))\n",
"end\n",
"printf('\n\n')\n",
"l=poly(0,'lb')\n",
"A=A-l*eye(n,n)\n",
"disp(det(A),'Characteristic Equation = ')\n",
"printf('\n\n\n\n\nNote : Computation Errors in some parts in calculation performed in book')"
   ]
   }
,
{
		   "cell_type": "markdown",
		   "metadata": {},
		   "source": [
			"## Example 4.6: Jacobi_Method.sce"
		   ]
		  },
  {
"cell_type": "code",
	   "execution_count": null,
	   "metadata": {
	    "collapsed": true
	   },
	   "outputs": [],
"source": [
"//Example 4.6\n",
"//Jacobi Method\n",
"//Page no. 97\n",
"clc;close;clear;\n",
"\n",
"A=[1,sqrt(2),2;sqrt(2),3,sqrt(2);2,sqrt(2),1];\n",
"C=A;\n",
"V=[sqrt(2),0,1/2;sqrt(2),0,1/4;3/(4*sqrt(2)),-1/(4*sqrt(2)),2]\n",
"S=eye(3,3)\n",
"disp(A,'A =')\n",
"VI=0;\n",
"for i=1:3\n",
"    for j=1:3\n",
"        if(i~=j)\n",
"            VI=VI+A(i,j)^2                          //initial off diag norm\n",
"        end\n",
"    end\n",
"end\n",
"VI=sqrt(VI);\n",
"VF=VI*10^-7;       //final threshold\n",
"V1=VI/3;\n",
"o=poly(0,'o');\n",
"for i=1:3\n",
"for q=2:3\n",
"    for p=q-1:-1:1\n",
"        if(A(p,q)>V1)\n",
"            a=-A(p,q);\n",
"            b=(A(p,p)-A(q,q))/2\n",
"            if(b~=0)\n",
"                w=b*abs(1/b)*(a/sqrt(a^2+b^2));\n",
"            else\n",
"                w=(a/sqrt(a^2+b^2));\n",
"            end\n",
"            sin0=w/sqrt(2*(1+sqrt(1-w^2)));\n",
"            cos0=sqrt(1-sin0^2)\n",
"        end\n",
"        B(p,p)=A(p,p)*cos0^2+A(q,q)*sin0^2-2*A(p,q)*sin0*cos0\n",
"            B(q,q)=A(p,p)*sin0^2+A(q,q)*cos0^2+2*A(p,q)*sin0*cos0\n",
"            B(p,q)=(A(p,p)-A(q,q))*sin0*cos0+A(p,q)*(cos0^2-sin0^2)\n",
"            S(i,i)=S(i,i)\n",
"            S(i,p)=S(i,p)*cos0-S(i,q)*sin0\n",
"            S(i,q)=S(i,p)*sin0+S(i,q)*cos0\n",
"            \n",
"    end\n",
"end\n",
"end\n",
"disp(B,'B =')\n",
"disp(S,'S =')\n",
"printf('\n\n\nComputation error in the solution provided by book')"
   ]
   }
,
{
		   "cell_type": "markdown",
		   "metadata": {},
		   "source": [
			"## Example 4.7: Jacobi_Method.sce"
		   ]
		  },
  {
"cell_type": "code",
	   "execution_count": null,
	   "metadata": {
	    "collapsed": true
	   },
	   "outputs": [],
"source": [
"//Example 4.7\n",
"//Jacobi Method\n",
"//Page no. 99\n",
"clc;close;clear;\n",
"\n",
"A=[2,3,1;3,2,2;1,2,1];\n",
"n=3;\n",
"for k=1:10\n",
"    max1=0\n",
"for i=1:n\n",
"    for j=1:n\n",
"        if A(i,j)>max1 & i~=j then\n",
"            max1=A(i,j)\n",
"            i1=i;j1=j;\n",
"        end\n",
"    end\n",
"end\n",
"fi=(atan((2*A(i1,j1))/(A(i1,i1)-A(j1,j1)+10^-20)))/2\n",
"disp(fi,'fi = ')\n",
"O1=eye(n,n)\n",
"O1(i1,j1)=-sin(fi)\n",
"O1(j1,i1)=sin(fi)\n",
"O1(i1,i1)=cos(fi)\n",
"O1(j1,j1)=cos(fi)\n",
"disp(O1,'O1 = ')\n",
"A=inv(O1)*A*O1\n",
"disp(A,'A1 = ')\n",
"end\n",
"printf('\n\n The eigenvalues are : \n\n')\n",
"for i=1:n\n",
"    printf('\tl%i = %g\t',i,A(i,i))\n",
"end"
   ]
   }
,
{
		   "cell_type": "markdown",
		   "metadata": {},
		   "source": [
			"## Example 4.8: Jacobi_Method.sce"
		   ]
		  },
  {
"cell_type": "code",
	   "execution_count": null,
	   "metadata": {
	    "collapsed": true
	   },
	   "outputs": [],
"source": [
"//Example 4.8\n",
"//Givens Method\n",
"//Page no. 103\n",
"clc;close;clear;\n",
"\n",
"A=[2,3,1;3,2,2;1,2,1];\n",
"n=3;\n",
"for k=1:1\n",
"    max1=0\n",
"i1=2;j1=3;\n",
"fi=(atan((2*A(i1,j1))/(A(i1,i1)-A(j1,j1)+10^-20)))/2\n",
"disp(fi,'fi = ')\n",
"O1=eye(n,n)\n",
"O1(i1,j1)=-sin(fi)\n",
"O1(j1,i1)=sin(fi)\n",
"O1(i1,i1)=cos(fi)\n",
"O1(j1,j1)=cos(fi)\n",
"disp(O1,'O1 = ')\n",
"A=inv(O1)*A*O1\n",
"disp(A,'B = ')\n",
"end\n",
"printf('\n\n')\n",
"l=poly(0,'lb')\n",
"A=A-l*eye(n,n)\n",
"disp(-det(A),'Characteristic Equation = ')\n",
"A=roots(det(A))\n",
"printf('\n\n The approximate roots of characteristic equation are: \n\n')\n",
"for i=1:n\n",
"    printf('\tl%i = %g\t',i,A(i))\n",
"end"
   ]
   }
,
{
		   "cell_type": "markdown",
		   "metadata": {},
		   "source": [
			"## Example 4.9: Givens_Method.sce"
		   ]
		  },
  {
"cell_type": "code",
	   "execution_count": null,
	   "metadata": {
	    "collapsed": true
	   },
	   "outputs": [],
"source": [
"//Example 4.9\n",
"//Givens Method\n",
"//Page no. 104\n",
"clc;close;clear;\n",
"\n",
"A=[3,2,1;2,3,2;1,2,3];\n",
"n=3;\n",
"for k=1:1\n",
"    max1=0\n",
"i1=2;j1=3;\n",
"fi=(atan((2*A(i1,j1))/(A(i1,i1)-A(j1,j1)+10^-20)))/2\n",
"disp(fi,'fi = ')\n",
"O1=eye(n,n)\n",
"O1(i1,j1)=-sin(fi)\n",
"O1(j1,i1)=sin(fi)\n",
"O1(i1,i1)=cos(fi)\n",
"O1(j1,j1)=cos(fi)\n",
"disp(O1,'O1 = ')\n",
"A=inv(O1)*A*O1\n",
"disp(A,'B = ')\n",
"end\n",
"printf('\n\n')\n",
"l=poly(0,'lb')\n",
"A=A-l*eye(n,n)\n",
"disp(-det(A),'Characteristic Equation = ')\n",
"A=roots(det(A))\n",
"printf('\n\n The eigenvalues are : \n\n')\n",
"for i=1:n\n",
"    printf('\tl%i = %g\t',i,A(i))\n",
"end"
   ]
   }
],
"metadata": {
		  "kernelspec": {
		   "display_name": "Scilab",
		   "language": "scilab",
		   "name": "scilab"
		  },
		  "language_info": {
		   "file_extension": ".sce",
		   "help_links": [
			{
			 "text": "MetaKernel Magics",
			 "url": "https://github.com/calysto/metakernel/blob/master/metakernel/magics/README.md"
			}
		   ],
		   "mimetype": "text/x-octave",
		   "name": "scilab",
		   "version": "0.7.1"
		  }
		 },
		 "nbformat": 4,
		 "nbformat_minor": 0
}
