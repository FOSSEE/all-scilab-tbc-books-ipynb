{
"cells": [
 {
		   "cell_type": "markdown",
	   "metadata": {},
	   "source": [
       "# Chapter 2: Non Linear Equations"
	   ]
	},
{
		   "cell_type": "markdown",
		   "metadata": {},
		   "source": [
			"## Example 2.10: Newton_Raphson_Method.sce"
		   ]
		  },
  {
"cell_type": "code",
	   "execution_count": null,
	   "metadata": {
	    "collapsed": true
	   },
	   "outputs": [],
"source": [
"//Example 2.10\n",
"//Newton Raphson Method\n",
"//Page no. 22\n",
"clc;clear;close;\n",
"deff('x=f(x)','x=3*x-cos(x)-1')\n",
"deff('x=f1(x)','x=3+sin(x)')\n",
"printf('n\txn\t\t\f(xn)\t\tf1(xn)\t\tXn+1\t\tError\n')\n",
"printf('-----------------------------------------------------------------------------------------------------\n')\n",
"x0=0.6;e=0.00001\n",
"for i=1:3\n",
"    x1=x0-f(x0)/f1(x0)\n",
"    e1=abs(x0-x1)\n",
"    printf(' %i\t%.10f\t%.10f\t%.10f\t%.10f\t%.10f\n',i-1,x0,f(x0),f1(x0),x1,e1)\n",
"    x0=x1;\n",
"    if abs(x0)<e then\n",
"        break;\n",
"    end\n",
"end\n",
"printf('\n\nTherefore, this is convergent and root = %.4f',x0)"
   ]
   }
,
{
		   "cell_type": "markdown",
		   "metadata": {},
		   "source": [
			"## Example 2.11: Newton_Raphson_Method.sce"
		   ]
		  },
  {
"cell_type": "code",
	   "execution_count": null,
	   "metadata": {
	    "collapsed": true
	   },
	   "outputs": [],
"source": [
"//Example 2.11\n",
"//Newton Raphson Method\n",
"//Page no. 23\n",
"clc;clear;close;\n",
"deff('x=f(x)','x=x*sin(x)+cos(x)')\n",
"deff('x=f1(x)','x=x*cos(x)')\n",
"printf('n\txn\t\t\f(xn)\t\tf1(xn)\t\tXn+1\t\tError\n')\n",
"printf('-----------------------------------------------------------------------------------------------------\n')\n",
"x0=%pi;e=0.00001\n",
"for i=1:6\n",
"    x1=x0-f(x0)/f1(x0)\n",
"    e1=abs(x0-x1)\n",
"    printf(' %i\t%.10f\t%.10f\t%.10f\t%.10f\t%.10f\n',i-1,x0,f(x0),f1(x0),x1,e1)\n",
"    x0=x1;\n",
"    if abs(x0)<e then\n",
"        break;\n",
"    end\n",
"end\n",
"printf('\n\nTherefore, the root is %.4f',x0)"
   ]
   }
,
{
		   "cell_type": "markdown",
		   "metadata": {},
		   "source": [
			"## Example 2.12: Iteration_Formula.sce"
		   ]
		  },
  {
"cell_type": "code",
	   "execution_count": null,
	   "metadata": {
	    "collapsed": true
	   },
	   "outputs": [],
"source": [
"//Example 2.12\n",
"//Iteration Formula\n",
"//Page no. 28\n",
"clc;clear;close;\n",
"deff('x=f(x)','x=1/sqrt(1+x)')\n",
"printf('n\txn\t\t\f(xn)\t\tXn+1\t\tError\n')\n",
"printf('---------------------------------------------------------------------------\n')\n",
"x0=0.75;e=0.00001\n",
"for i=1:8\n",
"    x1=f(x0)\n",
"    e1=abs(x0-x1)\n",
"    printf(' %i\t%.10f\t%.10f\t%.10f\t%.10f\n',i-1,x0,f(x0),x1,e1)\n",
"    x0=x1;\n",
"    if abs(x0)<e then\n",
"        break;\n",
"    end\n",
"end\n",
"printf('\n\nTherefore, the root is %.6f',x0)"
   ]
   }
,
{
		   "cell_type": "markdown",
		   "metadata": {},
		   "source": [
			"## Example 2.13: Iteration_Formula.sce"
		   ]
		  },
  {
"cell_type": "code",
	   "execution_count": null,
	   "metadata": {
	    "collapsed": true
	   },
	   "outputs": [],
"source": [
"//Example 2.13\n",
"//Iteration Formula\n",
"//Page no. 28\n",
"clc;clear;close;\n",
"deff('x=f(x)','x=(log10(x)+7)/2')\n",
"printf('n\txn\t\t\f(xn)\t\tXn+1\t\tError\n')\n",
"printf('---------------------------------------------------------------------------\n')\n",
"x0=3.8;e=0.00001\n",
"for i=1:6\n",
"    x1=f(x0)\n",
"    e1=abs(x0-x1)\n",
"    printf(' %i\t%.10f\t%.10f\t%.10f\t%.10f\n',i-1,x0,f(x0),x1,e1)\n",
"    x0=x1;\n",
"    if abs(x0)<e then\n",
"        break;\n",
"    end\n",
"end\n",
"printf('\n\nTherefore, the root is %.6f',x0)"
   ]
   }
,
{
		   "cell_type": "markdown",
		   "metadata": {},
		   "source": [
			"## Example 2.14: Iteration_Formula.sce"
		   ]
		  },
  {
"cell_type": "code",
	   "execution_count": null,
	   "metadata": {
	    "collapsed": true
	   },
	   "outputs": [],
"source": [
"//Example 2.14\n",
"//Iteration Formula\n",
"//Page no. 29\n",
"clc;clear;close;\n",
"deff('x=f(x)','x=exp(x)/5')\n",
"printf('n\txn\t\t\f(xn)\t\tXn+1\t\tError\n')\n",
"printf('---------------------------------------------------------------------------\n')\n",
"x0=0.3;e=0.00001\n",
"for i=1:11\n",
"    x1=f(x0)\n",
"    e1=abs(x0-x1)\n",
"    printf(' %i\t%.10f\t%.10f\t%.10f\t%.10f\n',i-1,x0,f(x0),x1,e1)\n",
"    x0=x1;\n",
"    if abs(x0)<e then\n",
"        break;\n",
"    end\n",
"end\n",
"printf('\n\nTherefore, the root is %.6f',x0)"
   ]
   }
,
{
		   "cell_type": "markdown",
		   "metadata": {},
		   "source": [
			"## Example 2.15: Newton_Raphshon_Method.sce"
		   ]
		  },
  {
"cell_type": "code",
	   "execution_count": null,
	   "metadata": {
	    "collapsed": true
	   },
	   "outputs": [],
"source": [
"//Example 2.15\n",
"//Newton Raphshon Method\n",
"//Page no. 30\n",
"clc;clear;close;\n",
"h=0.001\n",
"deff('x=f(x)','x=x^4-5*x^3-12*x^2+76*x-79')\n",
"deff('x=f1(x)','x=(f(x+h)-f(x))/h')\n",
"deff('x=f2(x)','x=(f1(x+h)-f1(x))/h')\n",
"printf('n\txn\t\t\f(xn)\t\tXn+1\t\tError\n')\n",
"printf('---------------------------------------------------------------------------\n')\n",
"x=2;e=0.00001\n",
"e2=sqrt((-2*f(x))/f2(x))\n",
"x0=x+e2\n",
"for i=1:4\n",
"    x1=x0-f(x0)/f1(x0)\n",
"    e1=abs(x0-x1)\n",
"    printf(' %i\t%.10f\t%.10f\t%.10f\t%.10f\n',i-1,x0,f(x0),x1,e1)\n",
"    x0=x1;\n",
"    if abs(x0)<e then\n",
"        break;\n",
"    end\n",
"end\n",
"printf('\n\nTherefore, the root is %.4f\n\n\n\n',x0)\n",
"\n",
"x0=x-e2\n",
"for i=1:4\n",
"    x1=x0-f(x0)/f1(x0)\n",
"    e1=abs(x0-x1)\n",
"    printf(' %i\t%.10f\t%.10f\t%.10f\t%.10f\n',i-1,x0,f(x0),x1,e1)\n",
"    x0=x1;\n",
"    if abs(x0)<e then\n",
"        break;\n",
"    end\n",
"end\n",
"printf('\n\nTherefore, the root is %.4f',x0)"
   ]
   }
,
{
		   "cell_type": "markdown",
		   "metadata": {},
		   "source": [
			"## Example 2.16: Newton_Raphshon_Method.sce"
		   ]
		  },
  {
"cell_type": "code",
	   "execution_count": null,
	   "metadata": {
	    "collapsed": true
	   },
	   "outputs": [],
"source": [
"//Example 2.16\n",
"//Newton Raphshon Method\n",
"//Page no. 31\n",
"clc;clear;close;\n",
"h=0.001\n",
"deff('x=f(x)','x=x^3-5*x^2+8*x-4')\n",
"deff('x=f1(x)','x=(f(x+h)-f(x))/h')\n",
"deff('x=f2(x)','x=(f1(x+h)-f1(x))/h')\n",
"printf('n\txn\t\t\f(xn)\t\tXn+1\t\tError\n')\n",
"printf('---------------------------------------------------------------------------\n')\n",
"x0=1.8;e=0.00001\n",
"for i=1:10\n",
"    x1=x0-2*f(x0)/f1(x0)\n",
"    e1=abs(x0-x1)\n",
"    printf(' %i\t%.10f\t%.10f\t%.10f\t%.10f\n',i-1,x0,f(x0),x1,e1)\n",
"    x0=x1;\n",
"    if abs(x0)<e then\n",
"        break;\n",
"    end\n",
"end\n",
"printf('\n\nTherefore, the root is %.4f\n\n\n\n',x0)"
   ]
   }
,
{
		   "cell_type": "markdown",
		   "metadata": {},
		   "source": [
			"## Example 2.17: Newton_Raphshon_Method.sce"
		   ]
		  },
  {
"cell_type": "code",
	   "execution_count": null,
	   "metadata": {
	    "collapsed": true
	   },
	   "outputs": [],
"source": [
"//Example 2.17\n",
"//Newton Raphshon Method\n",
"//Page no. 32\n",
"clc;clear;close;\n",
"h=0.001\n",
"deff('x=f(x)','x=x^3-x^2-x+1')\n",
"deff('x=f1(x)','x=(f(x+h)-f(x))/h')\n",
"deff('x=f2(x)','x=(f1(x+h)-f1(x))/h')\n",
"printf('n\txn\t\t\f(xn)\t\tXn+1\t\tError\n')\n",
"printf('---------------------------------------------------------------------------\n')\n",
"x0=0.8;e=0.00001\n",
"for i=1:10\n",
"    x1=x0-2*f(x0)/f1(x0)\n",
"    e1=abs(x0-x1)\n",
"    printf(' %i\t%.10f\t%.10f\t%.10f\t%.10f\n',i-1,x0,f(x0),x1,e1)\n",
"    x0=x1;\n",
"    if abs(x0)<e then\n",
"        break;\n",
"    end\n",
"end\n",
"printf('\n\nTherefore, the root is %.4f\n\n\n\n',x0)"
   ]
   }
,
{
		   "cell_type": "markdown",
		   "metadata": {},
		   "source": [
			"## Example 2.18: Newton_Raphshon_Method_for_simultaneous_equations.sce"
		   ]
		  },
  {
"cell_type": "code",
	   "execution_count": null,
	   "metadata": {
	    "collapsed": true
	   },
	   "outputs": [],
"source": [
"//Example 2.18\n",
"//Newton Raphshon Method for simultaneous equations\n",
"//Page no. 33\n",
"clc;clear;close;\n",
"\n",
"deff('y=f1(x,y)','y=x+3*log10(x)-y^2');\n",
"deff('y=f2(x,y)','y=2*x^2-x*y-5*x+1');\n",
"h=0.01;\n",
"function u=f3(x,y,z)\n",
"    if z==1 then\n",
"        u=(f1(x+h,y)-f1(x,y))/h\n",
"    elseif z==2\n",
"        u=(f1(x,y+h)-f1(x,y))/h\n",
"    elseif z==3\n",
"        u=(f2(x+h,y)-f2(x,y))/h\n",
"    else\n",
"        u=(f2(x,y+h)-f2(x,y))/h\n",
"    end\n",
"endfunction\n",
"x=3.4;y=2.2;\n",
"for i=1:4\n",
"    printf('\n\tx%i = %g\t\ty%i = %g\n',i-1,x,i-1,y)\n",
"    printf('\nfi(x0,y0) = %g',f1(x,y));\n",
"printf('\nomega(x0,y0) = %g',f2(x,y));\n",
"printf('\nd(fi)/dx = %g',f3(x,y,1));\n",
"printf('\nd(fi)/dy = %g',f3(x,y,2));\n",
"printf('\nd(omega)/dx = %g',f3(x,y,3));\n",
"printf('\nd(omega)/dy = %g',f3(x,y,4));\n",
"A=[f3(x,y,1),f3(x,y,2);f3(x,y,3),f3(x,y,4)];\n",
"B=[-f1(x,y);-f2(x,y)];\n",
"C=inv(A)*B;\n",
"x=x+C(1);\n",
"y=y+C(2);\n",
"printf('\n\n\th%i = %g\t\tk%i = %g\n\n',i,C(1),i,C(2));\n",
"end\n",
"printf('\n\tx%i = %g\t\ty%i = %g\n\n\n\nNote : Computational Errors in Book',i,x,i,y)"
   ]
   }
,
{
		   "cell_type": "markdown",
		   "metadata": {},
		   "source": [
			"## Example 2.19: Newton_Raphshon_Method_for_simultaneous_equations.sce"
		   ]
		  },
  {
"cell_type": "code",
	   "execution_count": null,
	   "metadata": {
	    "collapsed": true
	   },
	   "outputs": [],
"source": [
"//Example 2.19\n",
"//Newton Raphshon Method for simultaneous equations\n",
"//Page no. 35\n",
"clc;clear;close;\n",
"\n",
"deff('y=f1(x,y)','y=1+x^2-y^2');\n",
"deff('y=f2(x,y)','y=2*x*y');\n",
"h=0.01;\n",
"function u=f3(x,y,z)\n",
"    if z==1 then\n",
"        u=(f1(x+h,y)-f1(x,y))/h\n",
"    elseif z==2\n",
"        u=(f1(x,y+h)-f1(x,y))/h\n",
"    elseif z==3\n",
"        u=(f2(x+h,y)-f2(x,y))/h\n",
"    else\n",
"        u=(f2(x,y+h)-f2(x,y))/h\n",
"    end\n",
"endfunction\n",
"x=0.5;y=0.5;\n",
"for i=1:3\n",
"    printf('\n\tx%i = %g\t\ty%i = %g\n',i-1,x,i-1,y)\n",
"    printf('\nfi(x0,y0) = %g',f1(x,y));\n",
"printf('\nomega(x0,y0) = %g',f2(x,y));\n",
"printf('\nd(fi)/dx = %g',f3(x,y,1));\n",
"printf('\nd(fi)/dy = %g',f3(x,y,2));\n",
"printf('\nd(omega)/dx = %g',f3(x,y,3));\n",
"printf('\nd(omega)/dy = %g',f3(x,y,4));\n",
"A=[f3(x,y,1),f3(x,y,2);f3(x,y,3),f3(x,y,4)];\n",
"B=[-f1(x,y);-f2(x,y)];\n",
"C=inv(A)*B;\n",
"x=x+C(1);\n",
"y=y+C(2);\n",
"printf('\n\n\th%i = %g\t\tk%i = %g\n\n',i,C(1),i,C(2));\n",
"end\n",
"printf('\n\tx%i = %g\t\ty%i = %g\n',i,x,i,y)"
   ]
   }
,
{
		   "cell_type": "markdown",
		   "metadata": {},
		   "source": [
			"## Example 2.1: Bisection_Method.sce"
		   ]
		  },
  {
"cell_type": "code",
	   "execution_count": null,
	   "metadata": {
	    "collapsed": true
	   },
	   "outputs": [],
"source": [
"//Example 2.1\n",
"//Bisection Method\n",
"//Page no. 14\n",
"clc;clear;close;\n",
"deff('y=f(x)','y=x^3+x^2-1')\n",
"x1=0.5;x2=1;e=0.0001;i=0;\n",
"printf('Iteration\tx1\t\tx2\t\tz\t\tf(z)\n')\n",
"printf('--------------------------------------------------------------------------\n')\n",
"while abs(x1-x2)>e\n",
"    z=(x1+x2)/2\n",
"    printf('     %i\t\t%f\t%f\t%f\t%f\n',i,x1,x2,z,f(z))\n",
"    if f(z)*f(x1)>0\n",
"        x1=z\n",
"    else\n",
"        x2=z\n",
"    end\n",
"    i=i+1\n",
"end\n",
"printf('\n\nThe solution of this equation is %g after %i Iterations',z,i-1)"
   ]
   }
,
{
		   "cell_type": "markdown",
		   "metadata": {},
		   "source": [
			"## Example 2.20: Graeffe_Method.sce"
		   ]
		  },
  {
"cell_type": "code",
	   "execution_count": null,
	   "metadata": {
	    "collapsed": true
	   },
	   "outputs": [],
"source": [
"//Example 2.20\n",
"//Graeffe Method\n",
"//Page no. 38\n",
"clc;clear;close;\n",
"\n",
"a=[1,-5,-17,20]\n",
"k=0;\n",
"for k=2:6\n",
"    for i=1:4\n",
"        a(k,i)=(-1)^(i-1)*(a(k-1,i))^2\n",
"        j=1;\n",
"        while i+j<5 & i+j>2\n",
"            a(k,i)=a(k,i)+(-1)^(i-j-1)*2*(a(k-1,i-j))*a(k-1,i+j)\n",
"            break\n",
"            j=j+1;\n",
"        end\n",
"    end\n",
"end\n",
"printf('\t\t\t\ta1\t\t\t\ta2\t\t\t\ta3\n k\ta0\ta1\t\t--\t\ta2\t\t--\t\ta3\t\t--\t\n\t\t\t\ta0\t\t\t\ta1\t\t\t\ta2')\n",
"printf('\n----------------------------------------------------------------------------------------------------\n')\n",
"for i=1:4\n",
"    printf(' %i\t%g\t%.4g\t\t%.5g\t\t%.9g\t\t%.8g\t%g\t\t%.10g\n',i-1,a(i,1),a(i,2),abs(a(i,2)/a(i,1))^(1/(2^(i-1))),a(i,3),abs(a(i,3)/a(i,2))^(1/(2^(i-1))),a(i,4),abs(a(i,4)/a(i,3))^(1/(2^(i-1))))\n",
"end\n",
"for i=5:6\n",
"    printf(' %i\t%g\t%.4g\t%.5g\t\t%.9g\t%.8g\t%.7g\t%.10g\n',i-1,a(i,1),a(i,2),abs(a(i,2)/a(i,1))^(1/(2^(i-1))),a(i,3),abs(a(i,3)/a(i,2))^(1/(2^(i-1))),a(i,4),abs(a(i,4)/a(i,3))^(1/(2^(i-1))))\n",
"end\n",
"printf('\n\nThe Absolute Values of the roots are %g, %.8g and %g',abs(a(i,2)/a(i,1))^(1/(2^(i-1))),abs(a(i,3)/a(i,2))^(1/(2^(i-1))),abs(a(i,4)/a(i,3))^(1/(2^(i-1))))"
   ]
   }
,
{
		   "cell_type": "markdown",
		   "metadata": {},
		   "source": [
			"## Example 2.21: Graeffe_Method.sce"
		   ]
		  },
  {
"cell_type": "code",
	   "execution_count": null,
	   "metadata": {
	    "collapsed": true
	   },
	   "outputs": [],
"source": [
"//Example 2.21\n",
"//Graeffe Method\n",
"//Page no. 39\n",
"clc;clear;close;\n",
"\n",
"a=[1,-2,-5,6]\n",
"k=0;\n",
"for k=2:6\n",
"    for i=1:4\n",
"        a(k,i)=(-1)^(i-1)*(a(k-1,i))^2\n",
"        j=1;\n",
"        while i+j<5 & i+j>2\n",
"            a(k,i)=a(k,i)+(-1)^(i-j-1)*2*(a(k-1,i-j))*a(k-1,i+j)\n",
"            break\n",
"            j=j+1;\n",
"        end\n",
"    end\n",
"end\n",
"printf('\t\t\t\ta1\t\t\t\ta2\t\t\t\ta3\n k\ta0\ta1\t\t--\t\ta2\t\t--\t\ta3\t\t--\t\n\t\t\t\ta0\t\t\t\ta1\t\t\t\ta2')\n",
"printf('\n----------------------------------------------------------------------------------------------------\n')\n",
"for i=1:4\n",
"    printf(' %i\t%g\t%.4g\t\t%.5g\t\t%.9g\t\t%.8g\t%g\t\t%.10g\n',i-1,a(i,1),a(i,2),abs(a(i,2)/a(i,1))^(1/(2^(i-1))),a(i,3),abs(a(i,3)/a(i,2))^(1/(2^(i-1))),a(i,4),abs(a(i,4)/a(i,3))^(1/(2^(i-1))))\n",
"end\n",
"for i=5:6\n",
"    printf(' %i\t%g\t%.4g\t%.5g\t\t%.9g\t%.8g\t%.7g\t%.10g\n',i-1,a(i,1),a(i,2),abs(a(i,2)/a(i,1))^(1/(2^(i-1))),a(i,3),abs(a(i,3)/a(i,2))^(1/(2^(i-1))),a(i,4),abs(a(i,4)/a(i,3))^(1/(2^(i-1))))\n",
"end\n",
"printf('\n\nThe Absolute Values of the roots are %g, %.8g and %g',abs(a(i,2)/a(i,1))^(1/(2^(i-1))),abs(a(i,3)/a(i,2))^(1/(2^(i-1))),abs(a(i,4)/a(i,3))^(1/(2^(i-1))))"
   ]
   }
,
{
		   "cell_type": "markdown",
		   "metadata": {},
		   "source": [
			"## Example 2.22: Graeffe_Method.sce"
		   ]
		  },
  {
"cell_type": "code",
	   "execution_count": null,
	   "metadata": {
	    "collapsed": true
	   },
	   "outputs": [],
"source": [
"//Example 2.22\n",
"//Graeffe Method\n",
"//Page no. 40\n",
"clc;clear;close;\n",
"\n",
"a=[1,-4,5,-2]\n",
"k=0;\n",
"for k=2:6\n",
"    for i=1:4\n",
"        a(k,i)=(-1)^(i-1)*(a(k-1,i))^2\n",
"        j=1;\n",
"        while i+j<5 & i+j>2\n",
"            a(k,i)=a(k,i)+(-1)^(i-j-1)*2*(a(k-1,i-j))*a(k-1,i+j)\n",
"            break\n",
"            j=j+1;\n",
"        end\n",
"    end\n",
"end\n",
"printf('\t\t\t\ta1\t\t\t\ta2\t\t\t\ta3\n k\ta0\ta1\t\t--\t\ta2\t\t--\t\ta3\t\t--\t\n\t\t\t\ta0\t\t\t\ta1\t\t\t\ta2')\n",
"printf('\n----------------------------------------------------------------------------------------------------\n')\n",
"for i=1:4\n",
"    printf(' %i\t%g\t%.4g\t\t%.5g\t\t%.9g\t\t%.8g\t%g\t\t%.10g\n',i-1,a(i,1),a(i,2),abs(a(i,2)/a(i,1))^(1/(2^(i-1))),a(i,3),abs(a(i,3)/a(i,2))^(1/(2^(i-1))),a(i,4),abs(a(i,4)/a(i,3))^(1/(2^(i-1))))\n",
"end\n",
"for i=5:6\n",
"    printf(' %i\t%g\t%.4g\t%.5g\t\t%.9g\t%.8g\t%.7g\t%.10g\n',i-1,a(i,1),a(i,2),abs(a(i,2)/a(i,1))^(1/(2^(i-1))),a(i,3),abs(a(i,3)/a(i,2))^(1/(2^(i-1))),a(i,4),abs(a(i,4)/a(i,3))^(1/(2^(i-1))))\n",
"end\n",
"printf('\n\nThe Absolute Values of the roots are %g, %.8g and %g',abs(a(i,2)/a(i,1))^(1/(2^(i-1))),abs(a(i,3)/a(i,2))^(1/(2^(i-1))),abs(a(i,4)/a(i,3))^(1/(2^(i-1))))"
   ]
   }
,
{
		   "cell_type": "markdown",
		   "metadata": {},
		   "source": [
			"## Example 2.23: Mullers_Method.sce"
		   ]
		  },
  {
"cell_type": "code",
	   "execution_count": null,
	   "metadata": {
	    "collapsed": true
	   },
	   "outputs": [],
"source": [
"//Example 2.23\n",
"//Mullers Method\n",
"//Page no. 41\n",
"clc;clear;close;\n",
"\n",
"deff('y=f(x)','y=x^3-x-1')\n",
"zi=[1;2;3];\n",
"s=['i','z2','z0','z1','f2','f0','f1','a0','a1','a2','zr+','zr-']\n",
"li(1)=(zi(3,1)-zi(2,1))/(zi(2,1)-zi(1,1))\n",
"hi(1)=zi(3,1)-zi(2,1);\n",
"for i=2:6\n",
"    for j=1:3\n",
"       fz(j,i-1)=f(zi(j,i-1))\n",
"    end\n",
"    di(i-1)=1+li(i-1)\n",
"    gi(i-1)=fz(1,i-1)*li(i-1)^2-fz(2,i-1)*di(i-1)^2+fz(3,i-1)*(li(i-1)+di(i-1))\n",
"    D1(i-1)=gi(i-1)+sqrt(gi(i-1)^2-4*fz(3,i-1)*di(i-1)*li(i-1)*(fz(1,i-1)*li(i-1)-fz(2,i-1)*di(i-1)+fz(3,i-1)))\n",
"    D2(i-1)=gi(i-1)-sqrt(gi(i-1)^2-4*fz(3,i-1)*di(i-1)*li(i-1)*(fz(1,i-1)*li(i-1)-fz(2,i-1)*di(i-1)+fz(3,i-1)))\n",
"    if abs(D1(i-1))>abs(D2(i-1)) then\n",
"        li(i)=-2*fz(3,i-1)*di(i-1)/D1(i-1)\n",
"    else\n",
"        li(i)=-2*fz(3,i-1)*di(i-1)/D2(i-1)\n",
"    end\n",
"    hi(i)=li(i)*hi(i-1);\n",
"    z(i-1)=zi(3,i-1)+hi(i)\n",
"    for j=1:2\n",
"        zi(j,i)=zi(j+1,i-1)\n",
"    end\n",
"    zi(3,i)=z(i-1)\n",
"end\n",
"for i=1:12\n",
"    if i==1 then\n",
"        printf(s(i))\n",
"        for j=1:5\n",
"            printf('\t\t\t%i',j-1)\n",
"        end\n",
"    elseif i<=4\n",
"        printf('\n %s',s(i))\n",
"        for j=1:5\n",
"            printf('\t\t%.10f',zi(i-1,j))\n",
"        end\n",
"    elseif i<=7\n",
"        printf('\n %s',s(i))\n",
"        for j=1:5\n",
"            printf('\t\t%.10f',fz(i-4,j))\n",
"        end\n",
"    elseif i<=8\n",
"        printf('\n %s',s(i))\n",
"        for j=1:5\n",
"            printf('\t\t%.10f',li(j))\n",
"        end\n",
"    elseif i<=9\n",
"        printf('\n %s',s(i))\n",
"        for j=1:5\n",
"            printf('\t\t%.10f',di(j))\n",
"        end\n",
"    elseif i<=10\n",
"        printf('\n %s',s(i))\n",
"        for j=1:5\n",
"            printf('\t\t%.10f',gi(j))\n",
"        end\n",
"    elseif i<=11\n",
"        printf('\n %s',s(i))\n",
"        for j=1:5\n",
"            printf('\t\t%.10f',z(j))\n",
"        end\n",
"    elseif i<=12\n",
"        printf('\n %s',s(i))\n",
"        for j=1:5\n",
"            printf('\t\t%.10f',zi(j))\n",
"        end\n",
"    end\n",
"end\n",
"printf('\n\nAt the end of the %i iteration, the root of the equation is %.10f',j-2,z(j))"
   ]
   }
,
{
		   "cell_type": "markdown",
		   "metadata": {},
		   "source": [
			"## Example 2.24: Mullers_Method.sce"
		   ]
		  },
  {
"cell_type": "code",
	   "execution_count": null,
	   "metadata": {
	    "collapsed": true
	   },
	   "outputs": [],
"source": [
"//Example 2.24\n",
"//Mullers Method\n",
"//Page no. 42\n",
"clc;clear;close;\n",
"\n",
"deff('y=f(x)','y=x^3-x-2')\n",
"zi=[1.4;1.5;1.6];\n",
"s=['i','z2','z0','z1','f2','f0','f1','a0','a1','a2','zr+','zr-']\n",
"li(1)=(zi(3,1)-zi(2,1))/(zi(2,1)-zi(1,1))\n",
"hi(1)=zi(3,1)-zi(2,1);\n",
"for i=2:6\n",
"    for j=1:3\n",
"       fz(j,i-1)=f(zi(j,i-1))\n",
"    end\n",
"    di(i-1)=1+li(i-1)\n",
"    gi(i-1)=fz(1,i-1)*li(i-1)^2-fz(2,i-1)*di(i-1)^2+fz(3,i-1)*(li(i-1)+di(i-1))\n",
"    D1(i-1)=gi(i-1)+sqrt(gi(i-1)^2-4*fz(3,i-1)*di(i-1)*li(i-1)*(fz(1,i-1)*li(i-1)-fz(2,i-1)*di(i-1)+fz(3,i-1)))\n",
"    D2(i-1)=gi(i-1)-sqrt(gi(i-1)^2-4*fz(3,i-1)*di(i-1)*li(i-1)*(fz(1,i-1)*li(i-1)-fz(2,i-1)*di(i-1)+fz(3,i-1)))\n",
"    if abs(D1(i-1))>abs(D2(i-1)) then\n",
"        li(i)=-2*fz(3,i-1)*di(i-1)/D1(i-1)\n",
"    else\n",
"        li(i)=-2*fz(3,i-1)*di(i-1)/D2(i-1)\n",
"    end\n",
"    hi(i)=li(i)*hi(i-1);\n",
"    z(i-1)=zi(3,i-1)+hi(i)\n",
"    for j=1:2\n",
"        zi(j,i)=zi(j+1,i-1)\n",
"    end\n",
"    zi(3,i)=z(i-1)\n",
"end\n",
"for i=1:12\n",
"    if i==1 then\n",
"        printf(s(i))\n",
"        for j=1:5\n",
"            printf('\t\t\t%i',j-1)\n",
"        end\n",
"    elseif i<=4\n",
"        printf('\n %s',s(i))\n",
"        for j=1:5\n",
"            printf('\t\t%.10f',zi(i-1,j))\n",
"        end\n",
"    elseif i<=7\n",
"        printf('\n %s',s(i))\n",
"        for j=1:5\n",
"            printf('\t\t%.10f',fz(i-4,j))\n",
"        end\n",
"    elseif i<=8\n",
"        printf('\n %s',s(i))\n",
"        for j=1:5\n",
"            printf('\t\t%.10f',li(j))\n",
"        end\n",
"    elseif i<=9\n",
"        printf('\n %s',s(i))\n",
"        for j=1:5\n",
"            printf('\t\t%.10f',di(j))\n",
"        end\n",
"    elseif i<=10\n",
"        printf('\n %s',s(i))\n",
"        for j=1:5\n",
"            printf('\t\t%.10f',gi(j))\n",
"        end\n",
"    elseif i<=11\n",
"        printf('\n %s',s(i))\n",
"        for j=1:5\n",
"            printf('\t\t%.10f',z(j))\n",
"        end\n",
"    elseif i<=12\n",
"        printf('\n %s',s(i))\n",
"        for j=1:5\n",
"            printf('\t\t%.10f',zi(j))\n",
"        end\n",
"    end\n",
"end\n",
"printf('\n\nAt the end of the %i iteration, the root of the equation is %.10f',j-2,z(j))"
   ]
   }
,
{
		   "cell_type": "markdown",
		   "metadata": {},
		   "source": [
			"## Example 2.25: Mullers_Method.sce"
		   ]
		  },
  {
"cell_type": "code",
	   "execution_count": null,
	   "metadata": {
	    "collapsed": true
	   },
	   "outputs": [],
"source": [
"//Example 2.25\n",
"//Mullers Method\n",
"//Page no. 43\n",
"clc;clear;close;\n",
"\n",
"deff('y=f(x)','y=cos(x)-x*exp(x)')\n",
"zi=[-1;0;1];\n",
"s=['i','z2','z0','z1','f2','f0','f1','a0','a1','a2','zr+','zr-']\n",
"li(1)=(zi(3,1)-zi(2,1))/(zi(2,1)-zi(1,1))\n",
"hi(1)=zi(3,1)-zi(2,1);\n",
"for i=2:7\n",
"    for j=1:3\n",
"       fz(j,i-1)=f(zi(j,i-1))\n",
"    end\n",
"    di(i-1)=1+li(i-1)\n",
"    gi(i-1)=fz(1,i-1)*li(i-1)^2-fz(2,i-1)*di(i-1)^2+fz(3,i-1)*(li(i-1)+di(i-1))\n",
"    D1(i-1)=gi(i-1)+sqrt(gi(i-1)^2-4*fz(3,i-1)*di(i-1)*li(i-1)*(fz(1,i-1)*li(i-1)-fz(2,i-1)*di(i-1)+fz(3,i-1)))\n",
"    D2(i-1)=gi(i-1)-sqrt(gi(i-1)^2-4*fz(3,i-1)*di(i-1)*li(i-1)*(fz(1,i-1)*li(i-1)-fz(2,i-1)*di(i-1)+fz(3,i-1)))\n",
"    if abs(D1(i-1))>abs(D2(i-1)) then\n",
"        li(i)=-2*fz(3,i-1)*di(i-1)/D1(i-1)\n",
"    else\n",
"        li(i)=-2*fz(3,i-1)*di(i-1)/D2(i-1)\n",
"    end\n",
"    hi(i)=li(i)*hi(i-1);\n",
"    z(i-1)=zi(3,i-1)+hi(i)\n",
"    for j=1:2\n",
"        zi(j,i)=zi(j+1,i-1)\n",
"    end\n",
"    zi(3,i)=z(i-1)\n",
"end\n",
"for i=1:12\n",
"    if i==1 then\n",
"        printf(s(i))\n",
"        for j=1:6\n",
"            printf('\t\t\t%i',j-1)\n",
"        end\n",
"    elseif i<=4\n",
"        printf('\n %s',s(i))\n",
"        for j=1:6\n",
"            printf('\t\t%.10f',zi(i-1,j))\n",
"        end\n",
"    elseif i<=7\n",
"        printf('\n %s',s(i))\n",
"        for j=1:6\n",
"            printf('\t\t%.10f',fz(i-4,j))\n",
"        end\n",
"    elseif i<=8\n",
"        printf('\n %s',s(i))\n",
"        for j=1:6\n",
"            printf('\t\t%.10f',li(j))\n",
"        end\n",
"    elseif i<=9\n",
"        printf('\n %s',s(i))\n",
"        for j=1:6\n",
"            printf('\t\t%.10f',di(j))\n",
"        end\n",
"    elseif i<=10\n",
"        printf('\n %s',s(i))\n",
"        for j=1:6\n",
"            printf('\t\t%.10f',gi(j))\n",
"        end\n",
"    elseif i<=11\n",
"        printf('\n %s',s(i))\n",
"        for j=1:6\n",
"            printf('\t\t%.10f',z(j))\n",
"        end\n",
"    elseif i<=12\n",
"        printf('\n %s',s(i))\n",
"        for j=1:6\n",
"            printf('\t\t%.10f',zi(j))\n",
"        end\n",
"    end\n",
"end\n",
"printf('\n\nAt the end of the %i iteration, the root of the equation is %.10f',j-2,z(j))"
   ]
   }
,
{
		   "cell_type": "markdown",
		   "metadata": {},
		   "source": [
			"## Example 2.26: Mullers_Method.sce"
		   ]
		  },
  {
"cell_type": "code",
	   "execution_count": null,
	   "metadata": {
	    "collapsed": true
	   },
	   "outputs": [],
"source": [
"//Example 2.26\n",
"//Mullers Method\n",
"//Page no. 44\n",
"clc;clear;close;\n",
"\n",
"deff('y=f(x)','y=x^3-x^2-x-1')\n",
"zi=[0;1;2];\n",
"s=['i','z2','z0','z1','f2','f0','f1','a0','a1','a2','zr+','zr-']\n",
"li(1)=(zi(3,1)-zi(2,1))/(zi(2,1)-zi(1,1))\n",
"hi(1)=zi(3,1)-zi(2,1);\n",
"for i=2:7\n",
"    for j=1:3\n",
"       fz(j,i-1)=f(zi(j,i-1))\n",
"    end\n",
"    di(i-1)=1+li(i-1)\n",
"    gi(i-1)=fz(1,i-1)*li(i-1)^2-fz(2,i-1)*di(i-1)^2+fz(3,i-1)*(li(i-1)+di(i-1))\n",
"    D1(i-1)=gi(i-1)+sqrt(gi(i-1)^2-4*fz(3,i-1)*di(i-1)*li(i-1)*(fz(1,i-1)*li(i-1)-fz(2,i-1)*di(i-1)+fz(3,i-1)))\n",
"    D2(i-1)=gi(i-1)-sqrt(gi(i-1)^2-4*fz(3,i-1)*di(i-1)*li(i-1)*(fz(1,i-1)*li(i-1)-fz(2,i-1)*di(i-1)+fz(3,i-1)))\n",
"    if abs(D1(i-1))>abs(D2(i-1)) then\n",
"        li(i)=-2*fz(3,i-1)*di(i-1)/D1(i-1)\n",
"    else\n",
"        li(i)=-2*fz(3,i-1)*di(i-1)/D2(i-1)\n",
"    end\n",
"    hi(i)=li(i)*hi(i-1);\n",
"    z(i-1)=zi(3,i-1)+hi(i)\n",
"    for j=1:2\n",
"        zi(j,i)=zi(j+1,i-1)\n",
"    end\n",
"    zi(3,i)=z(i-1)\n",
"end\n",
"for i=1:12\n",
"    if i==1 then\n",
"        printf(s(i))\n",
"        for j=1:6\n",
"            printf('\t\t\t%i',j-1)\n",
"        end\n",
"    elseif i<=4\n",
"        printf('\n %s',s(i))\n",
"        for j=1:6\n",
"            printf('\t\t%.10f',zi(i-1,j))\n",
"        end\n",
"    elseif i<=7\n",
"        printf('\n %s',s(i))\n",
"        for j=1:6\n",
"            printf('\t\t%.10f',fz(i-4,j))\n",
"        end\n",
"    elseif i<=8\n",
"        printf('\n %s',s(i))\n",
"        for j=1:6\n",
"            printf('\t\t%.10f',li(j))\n",
"        end\n",
"    elseif i<=9\n",
"        printf('\n %s',s(i))\n",
"        for j=1:6\n",
"            printf('\t\t%.10f',di(j))\n",
"        end\n",
"    elseif i<=10\n",
"        printf('\n %s',s(i))\n",
"        for j=1:6\n",
"            printf('\t\t%.10f',gi(j))\n",
"        end\n",
"    elseif i<=11\n",
"        printf('\n %s',s(i))\n",
"        for j=1:6\n",
"            printf('\t\t%.10f',z(j))\n",
"        end\n",
"    elseif i<=12\n",
"        printf('\n %s',s(i))\n",
"        for j=1:6\n",
"            printf('\t\t%.10f',zi(j))\n",
"        end\n",
"    end\n",
"end\n",
"printf('\n\nAt the end of the %i iteration, the root of the equation is %.10f',j-2,z(j))"
   ]
   }
,
{
		   "cell_type": "markdown",
		   "metadata": {},
		   "source": [
			"## Example 2.27: Bairstow_Method.sce"
		   ]
		  },
  {
"cell_type": "code",
	   "execution_count": null,
	   "metadata": {
	    "collapsed": true
	   },
	   "outputs": [],
"source": [
"//Example 2.27\n",
"//Bairstow Method\n",
"//Page no. 48\n",
"clc;clear;close;\n",
"deff('y=f(x,p,q)','y=x^4+5*x^3+p*x^2-5*x-9')\n",
"n=4;\n",
"a=[1,5,3,-5,-9];\n",
"p0=a(3);q0=a(4);\n",
"b(1)=0;b(2)=1;c(1)=0;c(2)=1;\n",
"for j=1:4\n",
"    for i=1:5\n",
"    printf('\t\t%i',a(i))\n",
"end\n",
"       for k=3:6\n",
"           b(k)=a(k-1)-p0*b(k-1)-q0*b(k-2)\n",
"           c(k)=b(k)-p0*c(k-1)-q0*c(k-2)\n",
"       end\n",
"      \n",
"\n",
"printf('\n  %.4f\t',-p0);\n",
"for i=1:4\n",
"    printf('\t\t%.4f',-p0*b(i+1))\n",
"end\n",
"printf('\n  %.4f\t\t\t',-q0);\n",
"for i=1:3\n",
"    printf('\t\t%.4f',-q0*b(i+1))\n",
"end\n",
"printf('\n------------------------------------------------------------------------------------------\n')\n",
"for i=1:5\n",
"    printf('\t\t%.2f=b%i',b(i+1),i-1)\n",
"end\n",
"printf('\n  %.4f\t',-p0);\n",
"for i=1:3\n",
"    printf('\t\t%.4f',-p0*c(i+1))\n",
"end\n",
"printf('\n  %.4f\t\t\t',-q0);\n",
"for i=1:2\n",
"    printf('\t\t%.4f',-q0*c(i+1))\n",
"end\n",
"printf('\n------------------------------------------------------------------------------------------\n')\n",
"for i=1:4\n",
"    printf('\t\t%.2f=c%i',c(i+1),i-1)\n",
"end\n",
"printf('\n\n')\n",
"cb=c(n+1)-b(n+1);\n",
"      dp=-(b(n+2)*c(n-1)-b(n+1)*c(n))/(c(n)^2-cb*c(n-1))\n",
"      dq=-(b(n+1)*cb-b(n+2)*c(n))/(c(n)^2-cb*c(n-1))\n",
"     p0=p0+dp;\n",
"     q0=q0+dq;\n",
"     printf('\n dp = %.6f\t\tdq = %.6f\n p%i = %.6f\t\tq%i = %.6f\n\n\n',dp,dq,j,p0,j,q0);\n",
"end"
   ]
   }
,
{
		   "cell_type": "markdown",
		   "metadata": {},
		   "source": [
			"## Example 2.2: Bisection_Method.sce"
		   ]
		  },
  {
"cell_type": "code",
	   "execution_count": null,
	   "metadata": {
	    "collapsed": true
	   },
	   "outputs": [],
"source": [
"//Example 2.2\n",
"//Bisection Method\n",
"//Page no. 15\n",
"clc;clear;close;\n",
"deff('y=f(x)','y=x^3-3*x-5')\n",
"x1=2;x2=2.5;e=0.0001;i=0;\n",
"printf('Iteration\tx1\t\tx2\t\tz\t\tf(z)\n')\n",
"printf('--------------------------------------------------------------------------\n')\n",
"while abs(x1-x2)>e\n",
"    z=(x1+x2)/2\n",
"    printf('     %i\t\t%f\t%f\t%f\t%f\n',i,x1,x2,z,f(z))\n",
"    if f(z)*f(x1)>0\n",
"        x1=z\n",
"    else\n",
"        x2=z\n",
"    end\n",
"    i=i+1\n",
"end\n",
"printf('\n\nThe solution of this equation is %.4g after %i Iterations',z,i-1)"
   ]
   }
,
{
		   "cell_type": "markdown",
		   "metadata": {},
		   "source": [
			"## Example 2.3: Regula_Falsi_Method.sce"
		   ]
		  },
  {
"cell_type": "code",
	   "execution_count": null,
	   "metadata": {
	    "collapsed": true
	   },
	   "outputs": [],
"source": [
"//Example 2.3\n",
"//Regula Falsi Method\n",
"//Page no. 17\n",
"clc;clear;close;\n",
"deff('y=f(x)','y=x^3-5*x-7')\n",
"x1=2;x2=3;e=0.01\n",
"printf('n\tx1\t\tf(x1)\t\tx2\t\tf(x2)\t\tx3\t\tf(x3)')\n",
"printf('\n-------------------------------------------------------------------------------------------------\n')\n",
"for i=0:19\n",
"    x3=x2*f(x1)/(f(x1)-f(x2))+x1*f(x2)/(f(x2)-f(x1))\n",
"    printf(' %i\t%f\t%f\t%f\t%f\t%f\t%f\n',i,x1,f(x1),x2,f(x2),x3,f(x3))\n",
"    if f(x1)*f(x3)>0 then\n",
"        x1=x3\n",
"    else\n",
"        x2=x3\n",
"    end\n",
"    if abs(f(x3))<e then\n",
"        break\n",
"    end\n",
"end\n",
"printf('\n\nThus the root is %.3f correct upto three places of decimal',x3)"
   ]
   }
,
{
		   "cell_type": "markdown",
		   "metadata": {},
		   "source": [
			"## Example 2.4: Regula_Falsi_Method.sce"
		   ]
		  },
  {
"cell_type": "code",
	   "execution_count": null,
	   "metadata": {
	    "collapsed": true
	   },
	   "outputs": [],
"source": [
"//Example 2.4\n",
"//Regula Falsi Method\n",
"//Page no. 18\n",
"clc;clear;close;\n",
"deff('y=f(x)','y=x*log10(x)-1.2')\n",
"x1=2;x2=3;e=0.000001\n",
"printf('n\tx1\t\tf(x1)\t\tx2\t\tf(x2)\t\tx3\t\tf(x3)')\n",
"printf('\n-------------------------------------------------------------------------------------------------\n')\n",
"for i=0:19\n",
"    x3=x2*f(x1)/(f(x1)-f(x2))+x1*f(x2)/(f(x2)-f(x1))\n",
"    printf(' %i\t%f\t%f\t%f\t%f\t%f\t%f\n',i,x1,f(x1),x2,f(x2),x3,f(x3))\n",
"    if f(x1)*f(x3)>0 then\n",
"        x1=x3\n",
"    else\n",
"        x2=x3\n",
"    end\n",
"    if abs(f(x3))<e then\n",
"        break\n",
"    end\n",
"end\n",
"printf('\n\nThus the root is %.3f correct upto three places of decimal',x3)"
   ]
   }
,
{
		   "cell_type": "markdown",
		   "metadata": {},
		   "source": [
			"## Example 2.5: Regula_Falsi_Method.sce"
		   ]
		  },
  {
"cell_type": "code",
	   "execution_count": null,
	   "metadata": {
	    "collapsed": true
	   },
	   "outputs": [],
"source": [
"//Example 2.5\n",
"//Regula Falsi Method\n",
"//Page no. 19\n",
"clc;clear;close;\n",
"deff('y=f(x)','y=log10(x)-cos(x)')\n",
"x1=1;x2=1.5;e=0.00000001\n",
"printf('n\tx1\t\tf(x1)\t\tx2\t\tf(x2)\t\tx3\t\tf(x3)')\n",
"printf('\n-------------------------------------------------------------------------------------------------\n')\n",
"for i=0:19\n",
"    x3=x2*f(x1)/(f(x1)-f(x2))+x1*f(x2)/(f(x2)-f(x1))\n",
"    printf(' %i\t%f\t%f\t%f\t%f\t%f\t%f\n',i,x1,f(x1),x2,f(x2),x3,f(x3))\n",
"    if f(x1)*f(x3)>0 then\n",
"        x1=x3\n",
"    else\n",
"        x2=x3\n",
"    end\n",
"    if abs(f(x3))<e then\n",
"        break\n",
"    end\n",
"end\n",
"printf('\n\nThus the root is %.4f correct upto four places of decimal',x3)"
   ]
   }
,
{
		   "cell_type": "markdown",
		   "metadata": {},
		   "source": [
			"## Example 2.6: Secant_Method.sce"
		   ]
		  },
  {
"cell_type": "code",
	   "execution_count": null,
	   "metadata": {
	    "collapsed": true
	   },
	   "outputs": [],
"source": [
"//Example 2.6\n",
"//Secant Method\n",
"//Page no. 19\n",
"clc;clear;close;\n",
"deff('x=f(x)','x=cos(x)-x*exp(x)')\n",
"deff('x=f1(x)','x=-sin(x)-exp(x)-x*exp(x)')\n",
"printf('n\txn\t\tf(xn)\t\tXn+1\t\tf(Xn+1)\t\tXn+2\t\tError\n')\n",
"printf('----------------------------------------------------------------------------------------------------------\n')\n",
"x0=0;x1=1;e=0.00001\n",
"for i=1:6\n",
"    x2=x1-f(x1)*(x1-x0)/(f(x1)-f(x0))\n",
"    e1=abs(x0-x2)\n",
"    printf(' %i\t%.10f\t%.10f\t%.10f\t%.10f\t%.10f\t%.10f\n',i-1,x0,f(x0),x1,f(x1),x2,e1)\n",
"    x0=x1;\n",
"    x1=x2\n",
"    if abs(x0)<e then\n",
"        break;\n",
"    end\n",
"end\n",
"printf('\n\nTherefore, the root is %.4f correct upto 4 decimal places',x2)"
   ]
   }
,
{
		   "cell_type": "markdown",
		   "metadata": {},
		   "source": [
			"## Example 2.7: Newton_Raphson_Method.sce"
		   ]
		  },
  {
"cell_type": "code",
	   "execution_count": null,
	   "metadata": {
	    "collapsed": true
	   },
	   "outputs": [],
"source": [
"//Example 2.7\n",
"//Newton Raphson Method\n",
"//Page no. 21\n",
"clc;clear;close;\n",
"deff('x=f(x)','x=x^3-5*x+3')\n",
"deff('x=f1(x)','x=3*x^2-5')\n",
"printf('n\txn\t\t\f(xn)\t\tf1(xn)\t\tXn+1\t\tError\n')\n",
"printf('-----------------------------------------------------------------------------------------------------\n')\n",
"x0=1;e=0.00001\n",
"for i=1:6\n",
"    x1=x0-f(x0)/f1(x0)\n",
"    e1=abs(x0-x1)\n",
"    printf(' %i\t%.10f\t%.10f\t%.10f\t%.10f\t%.10f\n',i-1,x0,f(x0),f1(x0),x1,e1)\n",
"    x0=x1;\n",
"    if abs(x0)<e then\n",
"        break;\n",
"    end\n",
"end\n",
"printf('\n\nTherefore, this is convergent')"
   ]
   }
,
{
		   "cell_type": "markdown",
		   "metadata": {},
		   "source": [
			"## Example 2.8: Newton_Raphson_Method.sce"
		   ]
		  },
  {
"cell_type": "code",
	   "execution_count": null,
	   "metadata": {
	    "collapsed": true
	   },
	   "outputs": [],
"source": [
"//Example 2.8\n",
"//Newton Raphson Method\n",
"//Page no. 21\n",
"clc;clear;close;\n",
"deff('x=f(x)','x=x^4-3*x^3+2*x^2+2*x-7')\n",
"deff('x=f1(x)','x=4*x^3-9*x^2+4*x+2')\n",
"printf('n\txn\t\t\f(xn)\t\tf1(xn)\t\tXn+1\t\tError\n')\n",
"printf('-----------------------------------------------------------------------------------------------------\n')\n",
"x0=2.1;e=0.00001\n",
"for i=1:6\n",
"    x1=x0-f(x0)/f1(x0)\n",
"    e1=abs(x0-x1)\n",
"    printf(' %i\t%.10f\t%.10f\t%.10f\t%.10f\t%.10f\n',i-1,x0,f(x0),f1(x0),x1,e1)\n",
"    x0=x1;\n",
"    if abs(x0)<e then\n",
"        break;\n",
"    end\n",
"end\n",
"printf('\n\nTherefore, this is convergent and root = %.8f',x0)"
   ]
   }
,
{
		   "cell_type": "markdown",
		   "metadata": {},
		   "source": [
			"## Example 2.9: Newton_Raphson_Method.sce"
		   ]
		  },
  {
"cell_type": "code",
	   "execution_count": null,
	   "metadata": {
	    "collapsed": true
	   },
	   "outputs": [],
"source": [
"//Example 2.9\n",
"//Newton Raphson Method\n",
"//Page no. 22\n",
"clc;clear;close;\n",
"deff('x=f(x)','x=exp(x)-5*x')\n",
"deff('x=f1(x)','x=exp(x)-5')\n",
"printf('n\txn\t\t\f(xn)\t\tf1(xn)\t\tXn+1\t\tError\n')\n",
"printf('-----------------------------------------------------------------------------------------------------\n')\n",
"x0=0.4;e=0.00001\n",
"for i=1:5\n",
"    x1=x0-f(x0)/f1(x0)\n",
"    e1=abs(x0-x1)\n",
"    printf(' %i\t%.10f\t%.10f\t%.10f\t%.10f\t%.10f\n',i-1,x0,f(x0),f1(x0),x1,e1)\n",
"    x0=x1;\n",
"    if abs(x0)<e then\n",
"        break;\n",
"    end\n",
"end\n",
"printf('\n\nTherefore, this is convergent and the root is %.10f',x0)"
   ]
   }
],
"metadata": {
		  "kernelspec": {
		   "display_name": "Scilab",
		   "language": "scilab",
		   "name": "scilab"
		  },
		  "language_info": {
		   "file_extension": ".sce",
		   "help_links": [
			{
			 "text": "MetaKernel Magics",
			 "url": "https://github.com/calysto/metakernel/blob/master/metakernel/magics/README.md"
			}
		   ],
		   "mimetype": "text/x-octave",
		   "name": "scilab",
		   "version": "0.7.1"
		  }
		 },
		 "nbformat": 4,
		 "nbformat_minor": 0
}
