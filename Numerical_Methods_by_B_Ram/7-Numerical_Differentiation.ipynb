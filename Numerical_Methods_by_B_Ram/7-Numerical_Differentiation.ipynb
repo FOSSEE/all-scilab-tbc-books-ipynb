{
"cells": [
 {
		   "cell_type": "markdown",
	   "metadata": {},
	   "source": [
       "# Chapter 7: Numerical Differentiation"
	   ]
	},
{
		   "cell_type": "markdown",
		   "metadata": {},
		   "source": [
			"## Example 7.10: Lagranges_Differentiation.sce"
		   ]
		  },
  {
"cell_type": "code",
	   "execution_count": null,
	   "metadata": {
	    "collapsed": true
	   },
	   "outputs": [],
"source": [
"//Example 7.10\n",
"//Lagrange's Differentiation\n",
"//Page no. 246\n",
"clc;close;clear;\n",
"\n",
"z=[0,0.989992;0.1,0.999135;0.2,0.998295;0.3,0.987480];\n",
"h=0.1;\n",
"deff('y=f(x)','y=(-3*z(x,2)+4*z(x+1,2)-z(x+2,2))/(2*h)')\n",
"printf('\n f`(0) = %g\n\n f`(0.1) = %g',f(1),f(2))"
   ]
   }
,
{
		   "cell_type": "markdown",
		   "metadata": {},
		   "source": [
			"## Example 7.11: Newtons_Divided_Difference_Interpolation.sce"
		   ]
		  },
  {
"cell_type": "code",
	   "execution_count": null,
	   "metadata": {
	    "collapsed": true
	   },
	   "outputs": [],
"source": [
"//Example 7.11\n",
"//Newton's Divided Difference Interpolation\n",
"//Page no. 247\n",
"clc;close;clear;\n",
"\n",
"x=[-1,1,2,3]\n",
"y=[-21,15,12,3];\n",
"y1=y;h=0.0000001\n",
"deff('yi=P(a,b,d,e)','yi=(b(d+1)-b(d))/(a(d+e)-a(d))')  //function for finding polynomials\n",
"for i=1:3\n",
"    for j=1:4-i\n",
"        z(j,i)=P(x,y,j,i)\n",
"         y(j)=z(j,i)\n",
"    end\n",
"end\n",
"z(6,1)=0;\n",
"printf('x    y      f(x0,x1)        f(x0,x1,x3)    f(x0,x1,x2,x3)\n')\n",
"printf('---------------------------------------------------------\n')\n",
"    for j=1:4\n",
"        printf(' %i    %i \t%i\t\t%i\t\t%i\n',x(1,j),y1(1,j),z(j,1),z(j,2),z(j,3))\n",
"    end\n",
"x1=poly(0,'x');\n",
"p=1;f=y1(1);\n",
"for i=1:3\n",
"    for j=1:i\n",
"        p=p*(x1-x(j))\n",
"    end\n",
"    p=p*z(1,i)\n",
"    f=f+p\n",
"    p=1;\n",
"end\n",
"disp(f,'f(x) = ')\n",
"f1=y1(1)\n",
"x2=poly(h,'x');\n",
"for i=1:3\n",
"    for j=1:i\n",
"        p=p*(x2-x(j))\n",
"    end\n",
"    p=p*z(1,i)\n",
"    f1=f1+p\n",
"    p=1;\n",
"end\n",
"f1=(f1-f)/h\n",
"disp(f1,'f`(x) = ')\n",
"r=roots(f1)\n",
"disp(r,'Roots = ')\n",
"x1=r(2)\n",
"p=1;f=y1(1);\n",
"for i=1:3\n",
"    for j=1:i\n",
"        p=p*(x1-x(j))\n",
"    end\n",
"    p=p*z(1,i)\n",
"    f=f+p\n",
"    p=1;\n",
"end\n",
"disp(f,'Maximum Value = ')"
   ]
   }
,
{
		   "cell_type": "markdown",
		   "metadata": {},
		   "source": [
			"## Example 7.12: Stirlings_Central_Difference_Derivatives.sce"
		   ]
		  },
  {
"cell_type": "code",
	   "execution_count": null,
	   "metadata": {
	    "collapsed": true
	   },
	   "outputs": [],
"source": [
"//Example 7.12\n",
"//Stirlings Central Difference Derivatives\n",
"//Page no. 248\n",
"clc;close;clear;\n",
"printf('   x\t    y\t    d\t    d2\t    d3\t    d4\n')\n",
"printf('------------------------------------------------')\n",
"function [x]=f(x1)\n",
"    x=0;\n",
"    for i=3:6\n",
"        x=x+(-1)^(i-1)*(z(x1,i))/((i-2)*h)\n",
"    end\n",
"endfunction\n",
"h=1;\n",
"z=[-3,-33;-2,-12;-1,-3;0,0;1,3;2,12;3,33];\n",
"for i=3:6\n",
"    for j=1:9-i\n",
"        z(j,i)=z(j+1,i-1)-z(j,i-1)\n",
"    end\n",
"end\n",
"printf('\n')\n",
"for i=1:7\n",
"    for j=1:6\n",
"        if j==1\n",
"            printf('   %g\t    ',z(i,j))\n",
"        else\n",
"            printf('%i\t    ',z(i,j))\n",
"        end\n",
"    end\n",
"    printf('\n')\n",
"end\n",
"printf('\n\nf`(-3) = %g\n\nf`(0) = %g',f(1),f(4))"
   ]
   }
,
{
		   "cell_type": "markdown",
		   "metadata": {},
		   "source": [
			"## Example 7.13: Newtons_Backward_Formula.sce"
		   ]
		  },
  {
"cell_type": "code",
	   "execution_count": null,
	   "metadata": {
	    "collapsed": true
	   },
	   "outputs": [],
"source": [
"//Example 7.13\n",
"//Newtons Backward Formula\n",
"//Page no. 248\n",
"clc;close;clear;\n",
"printf('   x\t  y\t  d\t  d2\t  d3\t  d4\t  d5\n')\n",
"printf('--------------------------------------------------------')\n",
"h=0.5;\n",
"deff('y=f2(x)','y=(z(x,4)-z(x,5)+z(x,6))/h^2')\n",
"z=[1.5,3.375;2,7;2.5,13.625;3,24;3.5,38.875;4,59];\n",
"for i=1:6\n",
"    for j=3:7\n",
"        z(i,j)=-1\n",
"    end\n",
"end\n",
"for i=3:7\n",
"    for j=1:8-i\n",
"        z(j,i)=z(j+1,i-1)-z(j,i-1)\n",
"    end\n",
"end\n",
"printf('\n')\n",
"for i=1:6\n",
"    for j=1:7\n",
"        if z(i,j)==-1 then\n",
"            printf(' \t')\n",
"        elseif j==1\n",
"            printf('   %.1f\t',z(i,j))\n",
"        else\n",
"            printf('%.3f\t',z(i,j))\n",
"        end\n",
"    end\n",
"    printf('\n')\n",
"end\n",
"\n",
"j=1;y1=0;\n",
"for i=3:6\n",
"    y1=y1+(-1)^(i-1)*z(j,i)/(i-2)\n",
"end\n",
"y1=y1/h;\n",
"y2(7)=f2(1);\n",
"printf('\n\n f`(1.5)= %g',y1)\n",
"printf('\n\n f``(1.5) = %g',y2(7))\n",
""
   ]
   }
,
{
		   "cell_type": "markdown",
		   "metadata": {},
		   "source": [
			"## Example 7.14: Newtons_Divided_Difference.sce"
		   ]
		  },
  {
"cell_type": "code",
	   "execution_count": null,
	   "metadata": {
	    "collapsed": true
	   },
	   "outputs": [],
"source": [
"//Example 7.14\n",
"//Newtons Divided Difference\n",
"//Page no. 249\n",
"clc;close;clear;\n",
"\n",
"x=[3,5,11,27,34]\n",
"y=[-13,23,899,17315,35606]\n",
"deff('y=f(x1)','y=a1+a2*((x1-x(2))+(x1-x(3)))')\n",
"a1=(y(3)-y(2))/(x(3)-x(2))\n",
"a2=((y(4)-y(3))/(x(4)-x(3))-(y(3)-y(2))/(x(3)-x(2)))/(x(4)-x(2))\n",
"disp(y,'y:',x,'x:')\n",
"printf('\n\n a1 = %g\t\ta2 = %g\n\n',a1,a2)\n",
"disp(f(10),'f`(10) = ')"
   ]
   }
,
{
		   "cell_type": "markdown",
		   "metadata": {},
		   "source": [
			"## Example 7.1: Differentiation.sce"
		   ]
		  },
  {
"cell_type": "code",
	   "execution_count": null,
	   "metadata": {
	    "collapsed": true
	   },
	   "outputs": [],
"source": [
"//Example 7.1\n",
"//Differentiation\n",
"//Page no. 230\n",
"clc;close;clear;\n",
"deff('y=f(x)','y=sin(x)')\n",
"deff('y=f1(x,h)','y=(f(x+h)-f(x-h))/(2*h)')\n",
"deff('y=f2(x,h)','y=(-f(x+2*h)+8*f(x+h)-8*f(x-h)+f(x-2*h))/(12*h)')\n",
"h=0.01;x=0.5\n",
"d=f1(x,h)\n",
"d1=f2(x,h)\n",
"printf('Centred Formula of Order O(h2) = %g\n',d)\n",
"printf('\n Centred Formula of Order O(h4) = %g',d1)"
   ]
   }
,
{
		   "cell_type": "markdown",
		   "metadata": {},
		   "source": [
			"## Example 7.2: Differentiation.sce"
		   ]
		  },
  {
"cell_type": "code",
	   "execution_count": null,
	   "metadata": {
	    "collapsed": true
	   },
	   "outputs": [],
"source": [
"//Example 7.2\n",
"//Differentiation\n",
"//Page no. 232\n",
"clc;close;clear;\n",
"\n",
"t=[1,1.1,1.2,1.3,1.4]\n",
"I=[8.2277,7.2428,5.9908,4.5260,2.9122]\n",
"L=0.05;R=2;h=0.1;\n",
"deff('y=f(x)','y=L*i1(x)+R*I(x)')\n",
"deff('y=f1(x,h1)','y=(I(x+h1)-I(x-h1))/(2*h)')\n",
"deff('y=f2(x,h1)','y=(-I(x+2*h1)+8*I(x+h1)-8*I(x-h1)+I(x-2*h1))/(12*h)')\n",
"x=3;h1=1;\n",
"i1(x)=f1(x,h1)\n",
"E=f(x)\n",
"printf('Using Centred Tendency of Order O(h2)\n')\n",
"printf('I`(1.2) = %g\n',i1(x))\n",
"printf('\n E(1.2) = %g',E)\n",
"i1(x)=f2(x,h1)\n",
"E=f(x)\n",
"printf('\n\n\nUsing Centred Tendency of Order O(h4)\n')\n",
"printf('I`(1.2) = %g\n',i1(x))\n",
"printf('\n E(1.2) = %g',E)"
   ]
   }
,
{
		   "cell_type": "markdown",
		   "metadata": {},
		   "source": [
			"## Example 7.3: Richardson_Extrapolation.sce"
		   ]
		  },
  {
"cell_type": "code",
	   "execution_count": null,
	   "metadata": {
	    "collapsed": true
	   },
	   "outputs": [],
"source": [
"//Example 7.3\n",
"//Richardson Extrapolation\n",
"//Page no. 233\n",
"clc;close;clear;\n",
"\n",
"t=[1,1.1,1.2,1.3,1.4]\n",
"I=[8.2277,7.2428,5.9908,4.5260,2.9122]\n",
"h=0.1;\n",
"deff('y=f1(x,h1)','y=(I(x+h1)-I(x-h1))/(2*h)')\n",
"deff('y=f2(x,h1)','y=(I(x+2*h1)-I(x-2*h1))/(4*h)')\n",
"deff('y=f3(x,h1)','y=(I(x+h1)-I(x-h1))/(2*h)')\n",
"x=3;h1=1;\n",
"D0h=f1(x,h1)\n",
"printf('\nD0(h) = %g\n',D0h)\n",
"D02h=f2(x,h1)\n",
"printf('\nD0(2h) = %g\n',D02h)\n",
"I1=(4*D0h-D02h)/x\n",
"printf('\nI` (1.2) = %g',I1)"
   ]
   }
,
{
		   "cell_type": "markdown",
		   "metadata": {},
		   "source": [
			"## Example 7.4: Differentiation.sce"
		   ]
		  },
  {
"cell_type": "code",
	   "execution_count": null,
	   "metadata": {
	    "collapsed": true
	   },
	   "outputs": [],
"source": [
"//Example 7.4\n",
"//Differentiation\n",
"//Page no. 233\n",
"clc;close;clear;\n",
"\n",
"t=[1.2,1.3,1.4,1.5,1.6]\n",
"I=[1.5095,1.6984,1.9043,2.1293,2.3756]\n",
"h=0.1;\n",
"deff('y=f2(x,h1)','y=(-I(x+2*h1)+8*I(x+h1)-8*I(x-h1)+I(x-2*h1))/(12*h)')\n",
"x=3;h1=1;\n",
"i1(x)=f2(x,h1)\n",
"printf('\nUsing Centred Tendency of Order O(h4)\n')\n",
"printf('f`(1.4) = %g\n',i1(x))"
   ]
   }
,
{
		   "cell_type": "markdown",
		   "metadata": {},
		   "source": [
			"## Example 7.5: Stirlings_Central_Difference_Derivatives.sce"
		   ]
		  },
  {
"cell_type": "code",
	   "execution_count": null,
	   "metadata": {
	    "collapsed": true
	   },
	   "outputs": [],
"source": [
"//Example 7.5\n",
"//Stirlings Central Difference Derivatives\n",
"//Page no. 238\n",
"clc;close;clear;\n",
"printf('   x\t\t    y\t\t    d\t\t    d2\t\t    d3\t\t    d4\n')\n",
"printf('-----------------------------------------------------------------------------------------')\n",
"h=0.1;s=1;\n",
"e=[1,6,30]\n",
"deff('y=f1(x,s)','y=((z(x,3)+z(x-1,3))/2+s*z(x-1,4)+(z(x-1,5)+z(x-2,5))*(3*s^2-1)/12)/h')\n",
"deff('y=f2(x,s)','y=(z(x-1,4))/h^2')\n",
"deff('y=f3(x,s)','y=(z(x-1,5)+z(x-2,5))/(2*h^3)')\n",
"z=[0.7,0.644218;0.8,0.717356;0.9,0.783327;1,0.841471;1.1,0.891207;1.2,0.932039;1.3,0.963558];\n",
"for i=3:6\n",
"    for j=1:9-i\n",
"        z(j,i)=z(j+1,i-1)-z(j,i-1)\n",
"    end\n",
"end\n",
"printf('\n')\n",
"for i=1:7\n",
"    for j=1:6\n",
"        if z(i,j)==0 then\n",
"            printf(' \t')\n",
"        elseif j==1\n",
"            printf('   %.1f\t\t',z(i,j))\n",
"        else\n",
"            printf('%.6f\t',z(i,j))\n",
"        end\n",
"    end\n",
"    printf('\n')\n",
"end\n",
"fp=0;i=5;\n",
"for j=2:2:6\n",
"    fp=fp+((-1)^(j/2+1))*(z(i,j)-z(i-2,j))/(2*h*e(j/2))\n",
"    i=i-1;\n",
"end\n",
"printf('\n\nf`p (sin`(x))= %g',fp)"
   ]
   }
,
{
		   "cell_type": "markdown",
		   "metadata": {},
		   "source": [
			"## Example 7.6: Stirlings_Central_Difference_Derivatives.sce"
		   ]
		  },
  {
"cell_type": "code",
	   "execution_count": null,
	   "metadata": {
	    "collapsed": true
	   },
	   "outputs": [],
"source": [
"//Example 7.6\n",
"//Stirlings Central Difference Derivatives\n",
"//Page no. 239\n",
"clc;close;clear;\n",
"printf('   x\t\t    y\t\t    d\t\t    d2\t\t    d3\t\t    d4\t\t    d5\n')\n",
"printf('----------------------------------------------------------------------------------------------------------')\n",
"h=0.2;s=1;\n",
"deff('y=f1()','y=(z(4,3)+(3*p^2-1)*z(4,4)/factorial(3)-(3*p^2-6*p+2)*z(3,4)/factorial(3))/h')\n",
"z=[0.2,2.10022;0.4,1.98730;0.6,1.90940;0.8,1.86672;1,1.85937;1.2,1.88737;1.4,1.95063];\n",
"x0=0.8;p=poly(0,'p');\n",
"for i=3:7\n",
"    for j=1:9-i\n",
"        z(j,i)=z(j+1,i-1)-z(j,i-1)\n",
"    end\n",
"end\n",
"printf('\n')\n",
"for i=1:7\n",
"    for j=1:7\n",
"        if z(i,j)==0 then\n",
"            printf(' \t')\n",
"        elseif j==1\n",
"            printf('   %.1f\t\t',z(i,j))\n",
"        else\n",
"            printf('%.6f\t',z(i,j))\n",
"        end\n",
"    end\n",
"    printf('\n')\n",
"end\n",
"f1p=f1()\n",
"disp(f1p)\n",
"r=roots(f1p);\n",
"for i=1:2\n",
"    if abs(r(i))==r(i) then\n",
"        r1=r(i)\n",
"        disp(r(i),'p = ')\n",
"    end\n",
"end\n",
"x=x0+r1*h;\n",
"disp(x,'x = ')"
   ]
   }
,
{
		   "cell_type": "markdown",
		   "metadata": {},
		   "source": [
			"## Example 7.7: Stirlings_Central_Difference_Derivatives.sce"
		   ]
		  },
  {
"cell_type": "code",
	   "execution_count": null,
	   "metadata": {
	    "collapsed": true
	   },
	   "outputs": [],
"source": [
"//Example 7.7\n",
"//Stirlings Central Difference Derivatives\n",
"//Page no. 240\n",
"clc;close;clear;\n",
"printf('   x\t\t    y\t\t    d\t\t    d2\t\t    d3\t\t    d4\n')\n",
"printf('------------------------------------------------------------------------------------------')\n",
"h=0.2;s=1;\n",
"a=poly(0,'a');\n",
"b=poly(0,'b');\n",
"deff('y=f3(x)','y=z(x,1)*y2(x)+(z(x,1)-b)*z(x,2)')\n",
"deff('y=f4(x)','y=y1(x)*a')\n",
"deff('y=f1(x)','y=(z(x+1,2)-z(x-1,2)-(z(x,4)-z(x-2,4))/factorial(3)+4*(z(x-1,6)-z(x-3,6))/factorial(5))/(2*h)')\n",
"deff('y=f2(x)','y=(z(x-1,4)-2*(z(x-2,6))/factorial(4))/h^2')\n",
"z=[0.8,1.73036;1,1.95532;1.2,2.19756;1.4,2.45693;1.6,2.73309;1.8,3.02549;2,3.33334;2.2,3.65563];\n",
"x0=0.8;\n",
"for i=3:6\n",
"    for j=1:10-i\n",
"        z(j,i)=z(j+1,i-1)-z(j,i-1)\n",
"    end\n",
"end\n",
"printf('\n')\n",
"for i=1:8\n",
"    for j=1:6\n",
"        if z(i,j)==0 then\n",
"            printf(' \t')\n",
"        elseif j==1\n",
"            printf('   %.1f\t\t',z(i,j))\n",
"        else\n",
"            printf('%.6f\t',z(i,j))\n",
"        end\n",
"    end\n",
"    printf('\n')\n",
"end\n",
"y1(4)=f1(4);\n",
"y2(4)=f2(4);\n",
"y1(5)=f1(5);\n",
"y2(5)=f2(5);\n",
"g=f3(4)\n",
"printf('\n\ny`(1.4) = %g\n\ny``(1.4) = %g\n\ny`(1.6) = %g\n\ny``(1.6) = %g\n\n',y1(4),y2(4),y1(5),y2(5))\n",
"disp(f3(4),f4(4))\n",
"printf('\n\n')\n",
"A=[y1(4),z(4,2);y1(5),z(5,2)];\n",
"B=[z(4,1)*(y2(4)+z(4,2));z(5,1)*(y2(5)+z(5,2))];\n",
"disp(f3(5),f4(5))\n",
"\n",
"C=inv(A)*B;\n",
"printf('\n\n a = %g\n\n b = %g',C(1),C(2))"
   ]
   }
,
{
		   "cell_type": "markdown",
		   "metadata": {},
		   "source": [
			"## Example 7.8: Stirlings_Central_Difference_Derivatives.sce"
		   ]
		  },
  {
"cell_type": "code",
	   "execution_count": null,
	   "metadata": {
	    "collapsed": true
	   },
	   "outputs": [],
"source": [
"//Example 7.8\n",
"//Stirlings Central Difference Derivatives\n",
"//Page no. 242\n",
"clc;close;clear;\n",
"printf('   x\t\t    y\t\t    d\t\t    d2\t\t    d3\t\t    d4\n')\n",
"printf('------------------------------------------------------------------------------------------')\n",
"h=0.01;\n",
"a=poly(0,'n');\n",
"deff('y=f3(x)','y=z(x,1)^2*y2(x)+z(x,1)*y1(x)+(z(x,1)^2-a^2)*z(x,2)')\n",
"deff('y=f1(x)','y=(z(x+1,2)-z(x-1,2)-(z(x,4)-z(x-2,4))/factorial(3))/(2*h)')\n",
"deff('y=f2(x)','y=(z(x-1,4)-2*(z(x-2,6))/factorial(4))/h^2')\n",
"z=[85,0.0353878892;85.01,0.0346198696;85.02,0.0338490002;85.03,0.0330753467;85.04,0.032298975];\n",
"for i=3:6\n",
"    for j=1:7-i\n",
"        z(j,i)=z(j+1,i-1)-z(j,i-1)\n",
"    end\n",
"end\n",
"printf('\n')\n",
"for i=1:5\n",
"    for j=1:6\n",
"        if z(i,j)==0 then\n",
"            printf(' \t')\n",
"        elseif j==1\n",
"            printf('   %.2f\t',z(i,j))\n",
"        else\n",
"            printf('%.10f\t',z(i,j))\n",
"        end\n",
"    end\n",
"    printf('\n')\n",
"end\n",
"y1(3)=f1(3);\n",
"y2(3)=f2(3);\n",
"\n",
"printf('\n\ny`(85.02) = %g\n\ny``(85.02) = %.7g\n\n',y1(3),y2(3))\n",
"n=f3(3)\n",
"disp(n,'0 =')\n",
"n=roots(n)\n",
"for i=1:2\n",
"    if abs(n(i))==n(i) then\n",
"        n1=n(i)\n",
"    end\n",
"end\n",
"printf('\n\nn = %.2g',n1)"
   ]
   }
,
{
		   "cell_type": "markdown",
		   "metadata": {},
		   "source": [
			"## Example 7.9: Newtons_Backward_Formula.sce"
		   ]
		  },
  {
"cell_type": "code",
	   "execution_count": null,
	   "metadata": {
	    "collapsed": true
	   },
	   "outputs": [],
"source": [
"//Example 7.9\n",
"//Newtons Backward Formula\n",
"//Page no. 243\n",
"clc;close;clear;\n",
"printf('   x\t  y\t  d\t  d2\t  d3\t  d4\t  d5\t  d6\n')\n",
"printf('---------------------------------------------------------------')\n",
"h=0.1;\n",
"deff('y=f2(x)','y=(z(x-2,4)+z(x-3,5)+z(x-4,6))/h^2')\n",
"z=[1,7.989;1.1,8.403;1.2,8.781;1.3,9.129;1.4,9.451;1.5,9.750;1.6,10.031];\n",
"for i=3:8\n",
"    for j=1:9-i\n",
"        z(j,i)=z(j+1,i-1)-z(j,i-1)\n",
"    end\n",
"end\n",
"printf('\n')\n",
"for i=1:7\n",
"    for j=1:8\n",
"        if z(i,j)==0 then\n",
"            printf(' \t')\n",
"        elseif j==1\n",
"            printf('   %.1f\t',z(i,j))\n",
"        else\n",
"            printf('%.3f\t',z(i,j))\n",
"        end\n",
"    end\n",
"    printf('\n')\n",
"end\n",
"\n",
"j=6;y1=0;\n",
"for i=3:6\n",
"    y1=y1+z(j,i)/(i-2)\n",
"j=j-1 \n",
"end\n",
"y1=y1/h;\n",
"y2(7)=f2(7);\n",
"printf('\n\n dy\n -- = %.10g\n dx',y1)\n",
"printf('\n\n\n d2y\n --- = %.5g\n dx2',y2(7))\n",
""
   ]
   }
],
"metadata": {
		  "kernelspec": {
		   "display_name": "Scilab",
		   "language": "scilab",
		   "name": "scilab"
		  },
		  "language_info": {
		   "file_extension": ".sce",
		   "help_links": [
			{
			 "text": "MetaKernel Magics",
			 "url": "https://github.com/calysto/metakernel/blob/master/metakernel/magics/README.md"
			}
		   ],
		   "mimetype": "text/x-octave",
		   "name": "scilab",
		   "version": "0.7.1"
		  }
		 },
		 "nbformat": 4,
		 "nbformat_minor": 0
}
