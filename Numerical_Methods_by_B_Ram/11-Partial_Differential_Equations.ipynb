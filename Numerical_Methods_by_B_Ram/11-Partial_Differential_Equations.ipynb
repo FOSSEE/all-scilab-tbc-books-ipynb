{
"cells": [
 {
		   "cell_type": "markdown",
	   "metadata": {},
	   "source": [
       "# Chapter 11: Partial Differential Equations"
	   ]
	},
{
		   "cell_type": "markdown",
		   "metadata": {},
		   "source": [
			"## Example 11.10: Gauss_Seidel_Method.sce"
		   ]
		  },
  {
"cell_type": "code",
	   "execution_count": null,
	   "metadata": {
	    "collapsed": true
	   },
	   "outputs": [],
"source": [
"//Example 11.10\n",
"//Gauss Seidel Method\n",
"//Page no. 382\n",
"clc;clear;close;\n",
"\n",
"O=0.5;\n",
"A=[-8,8,0;2,-8,4;0,4,-8];       //equation matrix\n",
"B=[-1;-1;-1];      //solution matrix\n",
"Ov=inv(A)*B;\n",
"disp(Ov,'Values = ')\n",
"Ox=Ov(1)+(Ov(1)-O)/3\n",
"disp(Ox,'O* = ')"
   ]
   }
,
{
		   "cell_type": "markdown",
		   "metadata": {},
		   "source": [
			"## Example 11.11: Eigenvalue_Problem.sce"
		   ]
		  },
  {
"cell_type": "code",
	   "execution_count": null,
	   "metadata": {
	    "collapsed": true
	   },
	   "outputs": [],
"source": [
"//Example 11.11\n",
"//Eigenvalue Problem\n",
"//Page no. 383\n",
"clc;clear;close;\n",
"h1=1;h2=3/4;\n",
"lbd1=2;\n",
"lbd=poly(0,'lbd')\n",
"mu=9*lbd/16;\n",
"A=[4-mu,-2,0;-2,4-mu,-1;0,-4,4-mu];\n",
"disp(determ(A),'Characteristic Equation = ');\n",
"r=roots(determ(A))\n",
"disp(r,'Roots = ')\n",
"r1=r(3)\n",
"Q=((h1/h2)^2*r1-lbd1)/((h1/h2)^2-1)\n",
"disp(Q,'Q12 = ')"
   ]
   }
,
{
		   "cell_type": "markdown",
		   "metadata": {},
		   "source": [
			"## Example 11.12: Eigenvalue_Problem.sce"
		   ]
		  },
  {
"cell_type": "code",
	   "execution_count": null,
	   "metadata": {
	    "collapsed": true
	   },
	   "outputs": [],
"source": [
"//Example 11.12\n",
"//Eigenvalue Problem\n",
"//Page no. 385\n",
"clc;clear;close;\n",
"\n",
"h1=1/4;h2=1/5;\n",
"lbd=poly(0,'lbd')\n",
"mu=9*lbd/16;\n",
"A=[lbd-64,16;32,lbd-64];\n",
"disp(determ(A),'Characteristic Equation = ');\n",
"r=roots(determ(A))\n",
"disp(r,'Roots = ')\n",
"r1(1)=r(2)\n",
"A=[lbd-100,0,25;0,lbd-100,50;25,50,lbd-100];\n",
"disp(determ(A),'Characteristic Equation = ');\n",
"r=roots(determ(A))\n",
"disp(r,'Roots = ')\n",
"r1(2)=r(3)\n",
"Q=((h1/h2)^2*r1(2)-r1(1))/((h1/h2)^2-1)\n",
"disp(Q,'Q12 = ')"
   ]
   }
,
{
		   "cell_type": "markdown",
		   "metadata": {},
		   "source": [
			"## Example 11.13: Eigenvalue_Problem.sce"
		   ]
		  },
  {
"cell_type": "code",
	   "execution_count": null,
	   "metadata": {
	    "collapsed": true
	   },
	   "outputs": [],
"source": [
"//Example 11.13\n",
"//Eigenvalue Problem\n",
"//Page no. 387\n",
"clc;clear;close;\n",
"\n",
"h1=1/2;h2=1/3;\n",
"lbd=poly(0,'lbd')\n",
"mu=9*lbd/16;\n",
"r1(1)=64\n",
"A=[2*lbd-324,81;243,lbd-324];\n",
"disp(determ(A),'Characteristic Equation = ');\n",
"r=roots(determ(A))\n",
"disp(r,'Roots = ')\n",
"r1(2)=r(2)\n",
"Q=((h1/h2)^2*r1(2)-r1(1))/((h1/h2)^2-1)\n",
"disp(Q,'Q12 = ')"
   ]
   }
,
{
		   "cell_type": "markdown",
		   "metadata": {},
		   "source": [
			"## Example 11.14: Crank_Nicolson_Method.sce"
		   ]
		  },
  {
"cell_type": "code",
	   "execution_count": null,
	   "metadata": {
	    "collapsed": true
	   },
	   "outputs": [],
"source": [
"//Example 11.14\n",
"//Crank Nicolson Method\n",
"//Page no. 390\n",
"clc;clear;close;\n",
"h=1/2;k=1/8;\n",
"r=k/h^2;\n",
"for i=1:3\n",
"    for j=1:2\n",
"        if i==1 | j==1 then\n",
"            u(i,j)=0;\n",
"        end\n",
"        if i==3 then\n",
"            u(i,j)=(j-1)*k\n",
"        end\n",
"    end\n",
"end\n",
"for j=2:2\n",
"        u(2,j)=(u(1,j-1)+2*u(2,j-1)+u(3,j-1)+u(1,j)+u(3,j))/6\n",
"end\n",
"u=u'\n",
"printf('\nfor h = 1/2 and k=1/8\n\n')\n",
"printf('i\\j --> ')\n",
"for i=1:1\n",
"    printf('\tu%i\t',i)\n",
"end\n",
"printf('\n----------------------------------------------\n')\n",
"for i=2:2\n",
"    for j=2:2\n",
"        printf('\t   %.9f',u(i,j))\n",
"    end\n",
"end\n",
"\n",
"\n",
"\n",
"\n",
"h=1/4;k=1/8;\n",
"r=k/h^2;\n",
"for i=1:5\n",
"    for j=1:5\n",
"        if i==1 | j==1 then\n",
"            u(i,j)=0;\n",
"        end\n",
"        if i==5 then\n",
"            u(i,j)=(j-1)*k\n",
"        end\n",
"    end\n",
"end\n",
"a=[3,-1,0;-1,3,-1;0,-1,3];\n",
"a=inv(a);\n",
"for j=2:5\n",
"        b=[u(1,j-1)-u(2,j-1)+u(3,j-1)+u(1,j);u(2,j-1)-u(3,j-1)+u(4,j-1);u(3,j-1)-u(4,j-1)+u(5,j-1)+u(5,j)]\n",
"    x=a*b\n",
"    u(2,j)=x(1);u(3,j)=x(2);u(4,j)=x(3);\n",
"end\n",
"u=u'\n",
"printf('\n\n\n\n\nfor h = 1/4 and k=1/8\n\n')\n",
"printf('i\\j --> ')\n",
"for i=1:3\n",
"    printf('\tu%i\t',i)\n",
"end\n",
"printf('\n--------------------------------------------------------\n')\n",
"for i=2:2\n",
"    for j=2:4\n",
"        printf('\t   %.9f',u(i,j))\n",
"    end\n",
"end\n",
"\n",
"\n",
"\n",
"\n",
"\n",
"h=1/4;k=1/16;\n",
"r=k/h^2;\n",
"for i=1:5\n",
"    for j=1:3\n",
"        if i==1 | j==1 then\n",
"            u(i,j)=0;\n",
"        end\n",
"        if i==5 then\n",
"            if j==3 then\n",
"                k=1/8;\n",
"            end\n",
"            u(i,j)=(j-1)*k\n",
"        end\n",
"    end\n",
"end\n",
"a=[4,-1,0;-1,4,-1;0,-1,4];\n",
"a=inv(a);\n",
"for j=2:3\n",
"        b=[u(1,j-1)-u(2,j-1)+u(3,j-1)+u(1,j);u(2,j-1)-u(3,j-1)+u(4,j-1);u(3,j-1)-u(4,j-1)+u(5,j-1)+u(5,j)]\n",
"    x=a*b\n",
"    u(2,j)=x(1);u(3,j)=x(2);u(4,j)=x(3);\n",
"end\n",
"u=u'\n",
"printf('\n\n\n\n\nfor h = 1/4 and k=1/16\n\n')\n",
"printf('i\\j --> ')\n",
"for i=1:3\n",
"    printf('\tu%i\t',i)\n",
"end\n",
"printf('\n---------------------------------------------------------\n')\n",
"for i=2:3\n",
"    printf('\n')\n",
"    for j=2:4\n",
"        printf('\t   %.9f',u(i,j))\n",
"    end\n",
"end"
   ]
   }
,
{
		   "cell_type": "markdown",
		   "metadata": {},
		   "source": [
			"## Example 11.15: Bender_Schmidt_Method.sce"
		   ]
		  },
  {
"cell_type": "code",
	   "execution_count": null,
	   "metadata": {
	    "collapsed": true
	   },
	   "outputs": [],
"source": [
"//Example 11.15\n",
"//Bender Schmidt Method\n",
"//Page no. 393\n",
"clc;clear;close;\n",
"\n",
"h=1;k=1;c=1/sqrt(2);\n",
"r=k*c^2/h^2;\n",
"for i=1:5\n",
"    u(4,i)=i-1;\n",
"end\n",
"k=0;\n",
"for i=4:-1:1\n",
"    u(i,1)=0\n",
"    k=k+1;\n",
"end\n",
"k=1;\n",
"for i=2:5\n",
"    u(4,i)=k*(4-k)\n",
"    k=k+1;\n",
"end\n",
"disp(u,'u = ')\n",
"k=1;\n",
"printf('\n\n')\n",
"for i=3:-1:1\n",
"    for j=2:4\n",
"        u(i,j)=(u(i+1,j-1)+u(i+1,j+1))/2\n",
"        printf('\n\tu%i = %g\n',k,u(i,j))\n",
"        k=k+1;\n",
"    end\n",
"end"
   ]
   }
,
{
		   "cell_type": "markdown",
		   "metadata": {},
		   "source": [
			"## Example 11.16: Crank_Nicolson_Method.sce"
		   ]
		  },
  {
"cell_type": "code",
	   "execution_count": null,
	   "metadata": {
	    "collapsed": true
	   },
	   "outputs": [],
"source": [
"//Example 11.16\n",
"//Crank Nicolson Method\n",
"//Page no. 394\n",
"clc;clear;close;\n",
"//case 1\n",
"h=1/4;k=1/8;\n",
"r=k/h^2;\n",
"n=1/h+1;\n",
"for i=1:2\n",
"    for j=1:n\n",
"        if i==2 then\n",
"            u(i,j)=sin(%pi*(j-1)*h)\n",
"        end\n",
"        if j==1 | j==n then\n",
"            u(i,j)=0;\n",
"        end\n",
"    end\n",
"end\n",
"\n",
"a=[3,-1,0;-1,3,-1;0,-1,3];\n",
"a=inv(a);\n",
"for j=2:4\n",
"    \n",
"end\n",
"for i=2:-1:2\n",
"    for j=2:4\n",
"      b(j-1)=u(i,j-1)+(1-r)*u(i,j)+u(i,j+1)\n",
"    end\n",
"    x=a*b\n",
"    u(i-1,2)=x(1);u(i-1,3)=x(2);u(i-1,4)=x(3);\n",
"end\n",
"printf('\nfor h = 1/4 and k=1/8\n\n')\n",
"for i=1:1\n",
"    for j=2:4\n",
"        printf('\t  u%i  = %.9f',j-1,u(i,j))\n",
"    end\n",
"end\n",
"printf('\n\n\n')\n",
"\n",
"\n",
"\n",
"//case 2\n",
"h=1/4;k=1/16;\n",
"r=k/h^2;\n",
"n=1/h+1;\n",
"for i=1:3\n",
"    for j=1:n\n",
"        if i==3 then\n",
"            u(i,j)=sin(%pi*(j-1)*h)\n",
"        end\n",
"        if j==1 | j==n then\n",
"            u(i,j)=0;\n",
"        end\n",
"    end\n",
"end\n",
"\n",
"a=[4,-1,0;-1,4,-1;0,-1,4];\n",
"a=inv(a);\n",
"for j=2:4\n",
"    \n",
"end\n",
"for i=3:-1:2\n",
"    for j=2:4\n",
"      b(j-1)=u(i,j-1)+(1-r)*u(i,j)+u(i,j+1)\n",
"    end\n",
"    x=a*b\n",
"    u(i-1,2)=x(1);u(i-1,3)=x(2);u(i-1,4)=x(3);\n",
"end\n",
"printf('\nfor h = 1/4 and k=1/16\n\n')\n",
"l=1;\n",
"for i=2:-1:1\n",
"    for j=2:4\n",
"        printf('\t  u%i  = %.9f',j+l-i,u(i,j))\n",
"    end\n",
"    printf('\n')\n",
"    l=3;\n",
"end\n",
"printf('\n\n\n')\n",
"printf('The Anlytical Solution u1 = %g',exp(-%pi^2*k)*sin(%pi*h))\n",
"printf('\n\n\n\nNote : Computation Errors in the book')"
   ]
   }
,
{
		   "cell_type": "markdown",
		   "metadata": {},
		   "source": [
			"## Example 11.17: Bender_Schmidt_Method.sce"
		   ]
		  },
  {
"cell_type": "code",
	   "execution_count": null,
	   "metadata": {
	    "collapsed": true
	   },
	   "outputs": [],
"source": [
"//Example 11.17\n",
"//Bender Schmidt Method\n",
"//Page no. 396\n",
"clc;clear;close;\n",
"\n",
"h=1;k=1/10;c=sqrt(5);\n",
"r=k*c^2/h^2;\n",
"for i=1:6\n",
"    if i<4 then\n",
"        u(6,i)=20*(i-1)\n",
"    else\n",
"        u(6,i)=60\n",
"    end\n",
"end\n",
"disp(u,'u = ')\n",
"k=1;\n",
"printf('\n\n')\n",
"for i=5:-1:1\n",
"    for j=2:6\n",
"        if j~=6 then\n",
"            u(i,j)=(u(i+1,j-1)+u(i+1,j+1))/2\n",
"        else\n",
"            u(i,j)=60\n",
"        end\n",
"        printf('\t u%i = %g \t',k,u(i,j))\n",
"        k=k+1;\n",
"    end\n",
"end\n",
"printf('\n')\n",
"printf('\n\n j\\i |\t')\n",
"for i=1:6\n",
"    printf('%i\t',i-1)\n",
"end\n",
"printf('\n')\n",
"for i=1:51\n",
"    printf('_')\n",
"end\n",
"\n",
"k=0;\n",
"for i=6:-1:1\n",
"    printf('\n %i   |\t',k)\n",
"    for j=1:6\n",
"        printf('%g\t',u(i,j))\n",
"    end\n",
"    k=k+1;\n",
"end"
   ]
   }
,
{
		   "cell_type": "markdown",
		   "metadata": {},
		   "source": [
			"## Example 11.18: Bender_Schmidt_Method.sce"
		   ]
		  },
  {
"cell_type": "code",
	   "execution_count": null,
	   "metadata": {
	    "collapsed": true
	   },
	   "outputs": [],
"source": [
"//Example 11.18\n",
"//Bender Schmidt Method\n",
"//Page no. 398\n",
"clc;clear;close;\n",
"\n",
"h=1;k=1/8;c=sqrt(4);\n",
"r=k*c^2/h^2;\n",
"deff('y=f(x)','y=4*x-x^2/2')\n",
"for i=1:9\n",
"    if i~=1 & i~=9 then\n",
"        u(6,i)=f(i-1)\n",
"    else\n",
"        u(6,i)=0\n",
"    end\n",
"end\n",
"k=1;\n",
"printf('\n\n')\n",
"for i=5:-1:1\n",
"    for j=2:8\n",
"            u(i,j)=(u(i+1,j-1)+u(i+1,j+1))/2\n",
"        printf('\t u%i = %.4f \t',k,u(i,j))\n",
"        k=k+1;\n",
"    end\n",
"end\n",
"printf('\n')\n",
"printf('\n\n j\\i |\t')\n",
"for i=1:9\n",
"    printf('  %i\t',i-1)\n",
"end\n",
"printf('\n')\n",
"for i=1:80\n",
"    printf('_')\n",
"end\n",
"\n",
"k=0;\n",
"for i=6:-1:1\n",
"    printf('\n %i   |\t',k)\n",
"    for j=1:9\n",
"        printf('%.4f\t',u(i,j))\n",
"    end\n",
"    k=k+1;\n",
"end"
   ]
   }
,
{
		   "cell_type": "markdown",
		   "metadata": {},
		   "source": [
			"## Example 11.19: Gauss_Seidel_Method.sce"
		   ]
		  },
  {
"cell_type": "code",
	   "execution_count": null,
	   "metadata": {
	    "collapsed": true
	   },
	   "outputs": [],
"source": [
"//Example 11.19\n",
"//Gauss Seidel Method\n",
"//Page no. 399\n",
"clc;clear;close;\n",
"\n",
"h=0.2;k=0.02;r=k/h^2;\n",
"deff('y=f(x)','y=sin(%pi*x)')\n",
"n=1/h+1;\n",
"for i=1:n\n",
"    u(n,i)=f((i-1)*h)\n",
"end\n",
"disp(u)\n",
"m=1;l=1;\n",
"printf('\n\n')\n",
"for i=5:-1:1\n",
"    for j=2:5\n",
"        u(i,j)=(u(i,j-1)+u(i+1,j+1))/6+2*(u(i+1+l-1,j)+r*(u(i+1+l-1,j-1)-2*(u(i+1+l-1,j))+u(i+1+l-1,j+1))/2)/3\n",
"        printf(' u%i(%i) = %g \t',m,l,u(i,j))\n",
"        m=m+1;\n",
"    end\n",
"    printf('\n')\n",
"    l=l+1\n",
"end\n",
"printf('\n\n\n')\n",
"printf('The Anlytical Solution u1 = %g',exp(-%pi^2*k)*sin(%pi*h))"
   ]
   }
,
{
		   "cell_type": "markdown",
		   "metadata": {},
		   "source": [
			"## Example 11.1: Gauss_Seidel_Method.sce"
		   ]
		  },
  {
"cell_type": "code",
	   "execution_count": null,
	   "metadata": {
	    "collapsed": true
	   },
	   "outputs": [],
"source": [
"//Example 11.1\n",
"//Gauss-Seidel Method\n",
"//Page no. 366\n",
"clc;clear;close;\n",
"\n",
"U=[50,100,100,50;0,0,0,0;0,0,0,0;0,0,0,0]\n",
"A=[4,0,0,-1;0,4,-1,0;0,-1,4,0;-1,0,0,4]          //equation matrix\n",
"B=[150;150;0;0]          //solution matrix\n",
"X=inv(A)*B\n",
"for i=1:4\n",
"    printf('\n U%i = %g\n',i,X(i))\n",
"end\n",
"\n",
"//Jacobi method\n",
"\n",
"for k=1:2\n",
"    printf('\n')\n",
"    p=0;\n",
"for i=1:2\n",
"    for j=1:2\n",
"        U(i+1,j+1)=X(i+p)\n",
"    end\n",
"    p=2;\n",
"end\n",
"p=3;\n",
"for i=2:3\n",
"    for j=2:3\n",
"        X(i+j-p)=(U(i,j-1)+U(i,j+1)+U(i-1,j)+U(i+1,j))/4\n",
"    end\n",
"    p=2;\n",
"end\n",
"for i=1:4\n",
"    printf('\n U%i(%i) = %g\n',i,k,X(i))\n",
"end\n",
"printf('\n')\n",
"end\n",
"printf('\nHence the solution is : \n\n')\n",
"for i=1:4\n",
"    printf(' U%i = %g, ',i,X(i))\n",
"end"
   ]
   }
,
{
		   "cell_type": "markdown",
		   "metadata": {},
		   "source": [
			"## Example 11.20: Finite_Difference_Method.sce"
		   ]
		  },
  {
"cell_type": "code",
	   "execution_count": null,
	   "metadata": {
	    "collapsed": true
	   },
	   "outputs": [],
"source": [
"//Example 11.20\n",
"//Finite Difference Method\n",
"//Page no. 403\n",
"clc;clear;close;\n",
"\n",
"h=1;k=0.5;c=sqrt(4);\n",
"r=k^2*c^2/h^2;\n",
"for i=2:5\n",
"    if i<5 then\n",
"        u(4,i)=(i-1)*(4-(i-1))\n",
"        u(5,i)=(i-1)*(4-(i-1))\n",
"    else\n",
"        u(5,i)=0\n",
"    end\n",
"end\n",
"disp(u,'u = ')\n",
"k=2;\n",
"printf('\n\n')\n",
"for i=3:-1:1\n",
"    for j=2:4\n",
"        u(i,j)=u(i+1,j-1)+u(i+1,j+1)-u(i+2,j)\n",
"        printf('\tu%i,%i = %g',j-1,k,u(i,j))\n",
"    end\n",
"    k=k+1;\n",
"    printf('\n')\n",
"end"
   ]
   }
,
{
		   "cell_type": "markdown",
		   "metadata": {},
		   "source": [
			"## Example 11.21: Finite_Difference_Method.sce"
		   ]
		  },
  {
"cell_type": "code",
	   "execution_count": null,
	   "metadata": {
	    "collapsed": true
	   },
	   "outputs": [],
"source": [
"//Example 11.21\n",
"//Finite Difference Method\n",
"//Page no. 404\n",
"clc;clear;close;\n",
"\n",
"h=1;k=0.25;c=sqrt(16);\n",
"r=k^2*c^2/h^2;\n",
"for i=2:6\n",
"    if i<6 then\n",
"        u(6,i)=(i-1)^2*(5-(i-1))\n",
"        u(5,i)=(i-1)^2*(5-(i-1))\n",
"    else\n",
"        u(5,i)=0\n",
"    end\n",
"end\n",
"disp(u,'u = ')\n",
"k=2;\n",
"printf('\n\n')\n",
"for i=4:-1:1\n",
"    for j=2:5\n",
"        u(i,j)=u(i+1,j-1)+u(i+1,j+1)-u(i+2,j)\n",
"        printf('\tu%i,%i = %g',j-1,k,u(i,j))\n",
"    end\n",
"    k=k+1;\n",
"    printf('\n')\n",
"end"
   ]
   }
,
{
		   "cell_type": "markdown",
		   "metadata": {},
		   "source": [
			"## Example 11.2: Gauss_Seidel_Method.sce"
		   ]
		  },
  {
"cell_type": "code",
	   "execution_count": null,
	   "metadata": {
	    "collapsed": true
	   },
	   "outputs": [],
"source": [
"//Example 11.2\n",
"//Gauss-Seidel Method\n",
"//Page no. 368\n",
"clc;clear;close;\n",
"\n",
"U=[0,1,2,0;1,0,0,4;2,0,0,5;0,4,5,0]\n",
"k=1;\n",
"for i=2:3\n",
"    for j=2:3\n",
"        if (i==2 & j==3) | (i==3 & j==2) then\n",
"            U(i,j)=0\n",
"        else\n",
"            U(i,j)=(U(i-1,j)+U(i+1,j)+U(i,j-1)+U(i,j+1))/4\n",
"        end\n",
"        printf(' u%i=%g, ',k,U(i,j))\n",
"        k=k+1\n",
"    end\n",
"end\n",
"for l=1:7\n",
"    printf('\n\n')\n",
"    k=1;\n",
"    for i=2:3\n",
"    for j=2:3\n",
"        U(i,j)=(U(i-1,j)+U(i+1,j)+U(i,j-1)+U(i,j+1))/4\n",
"        printf('\n u%i(%i)=%.13g\n',k,l,U(i,j))\n",
"        k=k+1\n",
"    end\n",
"end\n",
"end"
   ]
   }
,
{
		   "cell_type": "markdown",
		   "metadata": {},
		   "source": [
			"## Example 11.3: Gauss_Seidel_Method.sce"
		   ]
		  },
  {
"cell_type": "code",
	   "execution_count": null,
	   "metadata": {
	    "collapsed": true
	   },
	   "outputs": [],
"source": [
"//Example 11.3\n",
"//Gauss-Seidel Method\n",
"//Page no. 370\n",
"clc;clear;close;\n",
"\n",
"U=[60,60,60,60;40,0,0,50;20,0,0,40;0,10,20,30]\n",
"deff('y=d(i,j)','y=(U(i-1,j-1)+U(i+1,j+1)+U(i-1,j+1)+U(i+1,j-1))/4')         //diagonal 5 point  formula\n",
"deff('y=s(i,j)','y=(U(i-1,j)+U(i+1,j)+U(i,j-1)+U(i,j+1))/4')         //std 5 point formula\n",
"U(2,2)=d(2,2);\n",
"for k=0:5\n",
"    for i=2:3\n",
"        p=3;\n",
"        for j=2:3\n",
"            if k==0 & i==2 & j==2 then\n",
"                U(i,j)=d(i,j)\n",
"            else\n",
"                U(i,j)=s(i,j)\n",
"            end\n",
"            if k==0 then\n",
"                printf('\n U%i = %g\n',i+j-p,U(i,j))\n",
"            else\n",
"                printf('\n U%i(%i) = %g\n',i+j-p,k,U(i,j))\n",
"            end\n",
"        end\n",
"        p=2;\n",
"    end\n",
"    printf('\n\n')\n",
"end\n",
"printf('\nHence the solution is : \n\n')\n",
"for i=2:3\n",
"    for j=2:3\n",
"        printf(' U%i = %g, ',i,U(i,j))\n",
"    end\n",
"end"
   ]
   }
,
{
		   "cell_type": "markdown",
		   "metadata": {},
		   "source": [
			"## Example 11.4: Gauss_Seidel_Method.sce"
		   ]
		  },
  {
"cell_type": "code",
	   "execution_count": null,
	   "metadata": {
	    "collapsed": true
	   },
	   "outputs": [],
"source": [
"//Example 11.4\n",
"//Gauss-Seidel Method\n",
"//Page no. 372\n",
"clc;clear;close;\n",
"\n",
"U=[1,2,2,2;0,0,0,2;0,0,0,2;0,0,0,1]\n",
"deff('y=d(i,j)','y=(U(i-1,j-1)+U(i+1,j+1)+U(i-1,j+1)+U(i+1,j-1))/4')         //diagonal 5 point  formula\n",
"deff('y=s(i,j)','y=(U(i-1,j)+U(i+1,j)+U(i,j-1)+U(i,j+1))/4')         //std 5 point formula\n",
"U(2,2)=d(2,2);\n",
"for k=0:4\n",
"    for i=2:3\n",
"        p=3;\n",
"        for j=2:3\n",
"            if k==0 & i==2 & j==2 then\n",
"                U(i,j)=d(i,j)\n",
"            else\n",
"                U(i,j)=s(i,j)\n",
"            end\n",
"            if k==0 then\n",
"                printf('\n U%i = %g\n',i+j-p,U(i,j))\n",
"            else\n",
"                printf('\n U%i(%i) = %g\n',i+j-p,k,U(i,j))\n",
"            end\n",
"        end\n",
"        p=2;\n",
"    end\n",
"    printf('\n\n')\n",
"end\n",
"printf('\nHence the solution is : \n\n')\n",
"for i=2:3\n",
"    for j=2:3\n",
"        printf(' U%i = %.3f, ',i,U(i,j))\n",
"    end\n",
"end"
   ]
   }
,
{
		   "cell_type": "markdown",
		   "metadata": {},
		   "source": [
			"## Example 11.5: Gauss_Seidel_Method.sce"
		   ]
		  },
  {
"cell_type": "code",
	   "execution_count": null,
	   "metadata": {
	    "collapsed": true
	   },
	   "outputs": [],
"source": [
"//Example 11.5\n",
"//Gauss-Seidel Method\n",
"//Page no. 373\n",
"clc;clear;close;\n",
"\n",
"U=[0,500,1000,500,0;1000,0,0,0,1000;2000,0,0,0,2000;1000,0,0,0,1000;0,500,1000,500,0]\n",
"deff('y=d(i,j)','y=(U(i-1,j-1)+U(i+1,j+1)+U(i-1,j+1)+U(i+1,j-1))/4')         //diagonal 5 point  formula\n",
"deff('y=s(i,j,l)','y=(U(i-l,j)+U(i+l,j)+U(i,j-l)+U(i,j+l))/4')         //std 5 point formula\n",
"U(3,3)=s(3,3,2);\n",
"for k=0:10\n",
"    p=3;\n",
"    for i=2:4\n",
"        for j=2:4\n",
"            if k==0 & (i==3 & j==3) | (i==2 & j==4) | (i==4 & j==2) | (i==4 & j==4) then\n",
"                printf('\n U%i(%i) = %g\n',i+j-p,k,U(i,j))\n",
"                continue\n",
"            end\n",
"            if k==0 & i==2 & j==2 then\n",
"                U(i,j)=d(i,j)\n",
"            else\n",
"                U(i,j)=s(i,j,1)\n",
"            end\n",
"            if i==2 & j==2 then\n",
"                U(2,4)=U(2,2);\n",
"                U(4,2)=U(2,2);\n",
"                U(4,4)=U(2,2);\n",
"            end\n",
"            if k==0 then\n",
"                printf('\n U%i = %g\n',i+j-p,U(i,j))\n",
"            else\n",
"                printf('\n U%i(%i) = %g\n',i+j-p,k,U(i,j))\n",
"            end\n",
"        end\n",
"        p=p-2;\n",
"    end\n",
"    printf('\n\n')\n",
"end\n",
"printf('\nHence the solution is : \n\n')\n",
"p=3;\n",
"for i=2:4\n",
"    for j=2:4\n",
"        printf(' U%i = %.3f, ',i+j-p,U(i,j))\n",
"    end\n",
"    p=p-2\n",
"end"
   ]
   }
,
{
		   "cell_type": "markdown",
		   "metadata": {},
		   "source": [
			"## Example 11.6: Gaussian_Elimination_Method.sce"
		   ]
		  },
  {
"cell_type": "code",
	   "execution_count": null,
	   "metadata": {
	    "collapsed": true
	   },
	   "outputs": [],
"source": [
"//Example 11.6\n",
"//Gaussian Elimination Method\n",
"//Page no. 374\n",
"clc;clear;close;\n",
"A=[-4,1,1,0,-80;1,-4,0,1,-10;1,0,-4,1,-160;0,1,1,-4,-90]          //augmented matrix\n",
"disp(A,'Augmented Matrix=')\n",
"C=A;\n",
"//triangularization\n",
"for i=1:4\n",
"    for j=1:5\n",
"        if i==1 then\n",
"            B(i,j)=A(i,j)\n",
"        elseif i==2\n",
"            B(i,j)=A(i,j)-A(i,1)*A(i-1,j)/A(1,1)\n",
"            B(i+1,j)=A(i+1,j)-A(i+1,1)*A(i-1,j)/A(1,1)\n",
"            B(i+2,j)=A(i+2,j)-A(i+2,1)*A(i-1,j)/A(1,1)\n",
"        elseif i==3\n",
"            if j==1 then\n",
"                C=B\n",
"            else\n",
"                B(i,j)=B(i,j)-C(i,2)*B(i-1,j)/B(2,2)\n",
"                B(i+1,j)=C(i+1,j)-C(i+1,2)*C(i-1,j)/C(2,2)\n",
"            end\n",
"        else\n",
"            if j==1 then\n",
"                C=B\n",
"            end\n",
"                B(i,j)=B(i,j)-C(i,3)*B(i-1,j)/B(3,3)\n",
"        end\n",
"    end\n",
"end\n",
"\n",
"disp(B,'Triangulated Matrix=')\n",
"//back substitution\n",
"x(4)=B(4,5)/B(4,4);\n",
"printf('\n p(4) = %.2f\n',x(4))\n",
"for i=3:-1:1\n",
"    k=0\n",
"    for j=i+1:4\n",
"       k=k+B(i,j)*x(j)\n",
"    end\n",
"    x(i)=(1/B(i,i))*(B(i,5)-k)\n",
"     printf('\n p(%i) = %.2f\n',i,x(i))\n",
"end"
   ]
   }
,
{
		   "cell_type": "markdown",
		   "metadata": {},
		   "source": [
			"## Example 11.7: Relaxation_Method.sce"
		   ]
		  },
  {
"cell_type": "code",
	   "execution_count": null,
	   "metadata": {
	    "collapsed": true
	   },
	   "outputs": [],
"source": [
"//Example 11.7\n",
"//Relaxation Method\n",
"//Page no. 376\n",
"clc;clear;close;\n",
"\n",
"for i=0:4\n",
"    for j=0:4\n",
"        if i==0 | j==0 then\n",
"            U(5-i,j+1)=0\n",
"        elseif i==4 | j==4\n",
"            U(5-i,j+1)=(i*j)^2\n",
"        else\n",
"            U(5-i,j+1)=0;\n",
"        end\n",
"    end\n",
"end\n",
"S=['A','B','C','D','E','F','G','H','I']\n",
"disp(U)\n",
"deff('y=d(i,j)','y=(U(i-1,j-1)+U(i+1,j+1)+U(i-1,j+1)+U(i+1,j-1))/4')         //diagonal 5 point  formula\n",
"deff('y=s(i,j,l)','y=(U(i-l,j)+U(i+l,j)+U(i,j-l)+U(i,j+l))/4')         //std 5 point formula\n",
"U(3,3)=s(3,3,2);\n",
"for k=0:0\n",
"    p=3;\n",
"    for i=2:4\n",
"        for j=2:4\n",
"            if k==0 & (i==3 & j==3) then\n",
"                printf('\n U %s(%i) = %g\n',S(i+j-p),k,U(i,j))\n",
"                continue\n",
"            end\n",
"            if k==0 & i==4 & j==2 then\n",
"                U(i,j)=d(i,j)\n",
"            else\n",
"                U(i,j)=s(i,j,1)\n",
"            end\n",
"            if k==0 then\n",
"                printf('\n U %s = %g\n',S(i+j-p),U(i,j))\n",
"            else\n",
"                printf('\n U %s(%i) = %g\n',S(i+j-p),k,U(i,j))\n",
"            end\n",
"        end\n",
"        p=p-2;\n",
"    end\n",
"    printf('\n\n')\n",
"end\n",
"printf('\nHence the solution is : \n\n')\n",
"p=3;\n",
"for i=2:4\n",
"    for j=2:4\n",
"        printf(' U%s = %.3f, ',S(i+j-p),U(i,j))\n",
"    end\n",
"    p=p-2\n",
"end"
   ]
   }
,
{
		   "cell_type": "markdown",
		   "metadata": {},
		   "source": [
			"## Example 11.8: Relaxation_Method.sce"
		   ]
		  },
  {
"cell_type": "code",
	   "execution_count": null,
	   "metadata": {
	    "collapsed": true
	   },
	   "outputs": [],
"source": [
"//Example 11.7\n",
"//Relaxation Method\n",
"//Page no. 378\n",
"clc;clear;close;\n",
"h=1/3;k=1/3;\n",
"for i=0:3\n",
"    for j=0:3\n",
"        if i==0 | j==0 then\n",
"            U(4-i,j+1)=i*h+j*k\n",
"        elseif i==3 | j==3\n",
"            U(4-i,j+1)=i*h+j*k\n",
"        end\n",
"    end\n",
"end\n",
"//disp(U,'U = ')\n",
"for i=1:4\n",
"    for j=1:4\n",
"        if U(i,j)==0 then\n",
"            U(i,j)=1;\n",
"        end\n",
"    end\n",
"end\n",
"U(3,2)=U(3,2)-1/3;\n",
"U(2,2)=U(2,2)-1/3;\n",
"U(3,3)=U(3,3)-1/3;\n",
"U(3,2)=U(3,2)-1/3;\n",
"U(2,3)=U(2,3)+1/3;\n",
"//disp(U,'U = ')\n",
"for i=2:3\n",
"    for j=2:3\n",
"        U1(i,j)=U(i+1,j)+U(i-1,j)+U(i,j+1)+U(i,j-1)-4*U(i,j)\n",
"    end\n",
"end\n",
"for i=2:3\n",
"    for j=2:3\n",
"        U(i,j)=U1(i,j)\n",
"    end\n",
"end\n",
"//disp(U,'U = ')\n",
"disp(U,'U = ')\n",
"disp(' ')\n",
"k=1;\n",
"for i=2:3\n",
"    for j=2:3\n",
"        printf('\t u%i = %g ,',k,U(i,j))\n",
"        k=k+1\n",
"    end\n",
"end"
   ]
   }
,
{
		   "cell_type": "markdown",
		   "metadata": {},
		   "source": [
			"## Example 11.9: Gauss_Seidel_Method.sce"
		   ]
		  },
  {
"cell_type": "code",
	   "execution_count": null,
	   "metadata": {
	    "collapsed": true
	   },
	   "outputs": [],
"source": [
"//Example 11.9\n",
"//Gauss-Seidel Method\n",
"//Page no. 380\n",
"clc;clear;close;\n",
"\n",
"U=eye(4,4)-eye(4,4)\n",
"U(2,1)=150;U(3,1)=120;\n",
"U(2,4)=180;U(3,4)=150\n",
"deff('y=d(i,j)','y=(U(i-1,j-1)+U(i+1,j+1)+U(i-1,j+1)+U(i+1,j-1))/4')         //diagonal 5 point  formula\n",
"deff('y=s(i,j)','y=(U(i-1,j)+U(i+1,j)+U(i,j-1)+U(i,j+1))/4')         //std 5 point formula\n",
"for k=1:6\n",
"    for i=2:3\n",
"        p=3;\n",
"        for j=2:3\n",
"                U(i,j)=s(i,j)\n",
"                if i==2 & j==2 then\n",
"                    U(i+1,j+1)=U(i,j)\n",
"                elseif i==3 & j==3\n",
"                    continue\n",
"                end\n",
"                printf('\n U%i(%i) = %g\n',i+j-p,k,U(i,j))\n",
"        end\n",
"        p=2;\n",
"    end\n",
"    printf('\n\n')\n",
"end\n",
"printf('\nHence the solution is : \n\n')\n",
"    p=3;\n",
"for i=2:3\n",
"\n",
"    for j=2:3\n",
"        printf(' U%i = %.3f, ',i+j-p,U(i,j))\n",
"    end\n",
"    p=2\n",
"end"
   ]
   }
],
"metadata": {
		  "kernelspec": {
		   "display_name": "Scilab",
		   "language": "scilab",
		   "name": "scilab"
		  },
		  "language_info": {
		   "file_extension": ".sce",
		   "help_links": [
			{
			 "text": "MetaKernel Magics",
			 "url": "https://github.com/calysto/metakernel/blob/master/metakernel/magics/README.md"
			}
		   ],
		   "mimetype": "text/x-octave",
		   "name": "scilab",
		   "version": "0.7.1"
		  }
		 },
		 "nbformat": 4,
		 "nbformat_minor": 0
}
