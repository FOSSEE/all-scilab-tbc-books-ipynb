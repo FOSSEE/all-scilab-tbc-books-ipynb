{
"cells": [
 {
		   "cell_type": "markdown",
	   "metadata": {},
	   "source": [
       "# Chapter 9: Difference Equations"
	   ]
	},
{
		   "cell_type": "markdown",
		   "metadata": {},
		   "source": [
			"## Example 9.10: Particular_Solutio.sce"
		   ]
		  },
  {
"cell_type": "code",
	   "execution_count": null,
	   "metadata": {
	    "collapsed": true
	   },
	   "outputs": [],
"source": [
"//Example 9.10\n",
"//Particular Solution\n",
"//Page no. 294\n",
"clc;clear;close;\n",
"\n",
"x=poly(0,'x')\n",
"n=2;\n",
"f=x^(n)-0*x^(n-1)-4*x^(n-2);\n",
"z=roots(f)\n",
"disp(z,f)\n",
"printf('\n\n')\n",
"printf('            n       n\nC.F. = ')\n",
"for i=1:n\n",
"    printf('c%i(%g)',i,z(i))\n",
"    if i~=n then\n",
"        printf(' + ')\n",
"    end\n",
"end\n",
"A=[-3,0,0;4,-3,0;4,2,-3];\n",
"B=[9;0;0];\n",
"C=inv(A)*B;\n",
"printf('\n\n\t   2\nP.I = (%g)n+(%g)n+(%g)',C(1),C(2),C(3))"
   ]
   }
,
{
		   "cell_type": "markdown",
		   "metadata": {},
		   "source": [
			"## Example 9.11: Particular_Solutio.sce"
		   ]
		  },
  {
"cell_type": "code",
	   "execution_count": null,
	   "metadata": {
	    "collapsed": true
	   },
	   "outputs": [],
"source": [
"//Example 9.11\n",
"//Particular Solution\n",
"//Page no. 294\n",
"clc;clear;close;\n",
"\n",
"x=poly(0,'x')\n",
"n=2;\n",
"f=x^(n)-0*x^(n-1)-4*x^(n-2);\n",
"z=roots(f)\n",
"disp(z,f)\n",
"printf('\n\n')\n",
"printf('            n       n\nC.F.  = ')\n",
"for i=1:n\n",
"    printf('c%i(%g)',i,z(i))\n",
"    if i~=n then\n",
"        printf(' + ')\n",
"    end\n",
"end\n",
"A=[-3,0,0;4,-3,0;4,2,-3];\n",
"B=[1;1;-1];\n",
"C=inv(A)*B;\n",
"printf('\n\n\t  \t  2\nP.I = (%g)n+(%g)n+(%g)',C(1),C(2),C(3))"
   ]
   }
,
{
		   "cell_type": "markdown",
		   "metadata": {},
		   "source": [
			"## Example 9.12: Particular_Solutio.sce"
		   ]
		  },
  {
"cell_type": "code",
	   "execution_count": null,
	   "metadata": {
	    "collapsed": true
	   },
	   "outputs": [],
"source": [
"//Example 9.12\n",
"//Particular Solution\n",
"//Page no. 295\n",
"clc;clear;close;\n",
"\n",
"x=poly(0,'x')\n",
"n=2;s=['+','-'];\n",
"f=x^(n)-4*x^(n-1)+5*x^(n-2);\n",
"z=roots(f)\n",
"disp(z,f)\n",
"printf('\n\n')\n",
"printf('                n           n\nC.F. = ')\n",
"for i=1:n\n",
"    printf('c%i(%g %s i)',i,z(i),s(i))\n",
"    if i~=n then\n",
"        printf(' + ')\n",
"    end\n",
"end\n",
"C=1;\n",
"printf('\n\n\t   \nP.I = %g',C)"
   ]
   }
,
{
		   "cell_type": "markdown",
		   "metadata": {},
		   "source": [
			"## Example 9.13: Particular_Solutio.sce"
		   ]
		  },
  {
"cell_type": "code",
	   "execution_count": null,
	   "metadata": {
	    "collapsed": true
	   },
	   "outputs": [],
"source": [
"//Example 9.13\n",
"//Particular Solution\n",
"//Page no. 295\n",
"clc;clear;close;\n",
"\n",
"x=poly(0,'x')\n",
"n=2;\n",
"f=x^(n)-7*x^(n-1)+10*x^(n-2);\n",
"z=roots(f)\n",
"disp(z,f)\n",
"printf('\n\n')\n",
"printf('            n       n\nC.F. = ')\n",
"for i=1:n\n",
"    printf('c%i(%g)',i,z(i))\n",
"    if i~=n then\n",
"        printf(' + ')\n",
"    end\n",
"end\n",
"C=-6;\n",
"printf('\n\n\t   n\t   \nP.I = %g(4)',C)"
   ]
   }
,
{
		   "cell_type": "markdown",
		   "metadata": {},
		   "source": [
			"## Example 9.14: Particular_Solutio.sce"
		   ]
		  },
  {
"cell_type": "code",
	   "execution_count": null,
	   "metadata": {
	    "collapsed": true
	   },
	   "outputs": [],
"source": [
"//Example 9.14\n",
"//Particular Solution\n",
"//Page no. 296\n",
"clc;clear;close;\n",
"\n",
"x=poly(0,'x')\n",
"n=2;\n",
"f=x^(n)+5*x^(n-1)+4*x^(n-2);\n",
"z=roots(f)\n",
"disp(z,f)\n",
"printf('\n\n')\n",
"printf('             n        n\nC.F. = ')\n",
"for i=1:n\n",
"    printf('c%i(%g)',i,z(i))\n",
"    if i~=n then\n",
"        printf(' + ')\n",
"    end\n",
"end\n",
"C=18;\n",
"printf('\n\n\t   n\t   \nP.I = %g(3)',C)"
   ]
   }
,
{
		   "cell_type": "markdown",
		   "metadata": {},
		   "source": [
			"## Example 9.15: Particular_Solutio.sce"
		   ]
		  },
  {
"cell_type": "code",
	   "execution_count": null,
	   "metadata": {
	    "collapsed": true
	   },
	   "outputs": [],
"source": [
"//Example 9.15\n",
"//Particular Solution\n",
"//Page no. 296\n",
"clc;clear;close;\n",
"\n",
"x=poly(0,'x')\n",
"n=2;\n",
"f=x^(n)-1*x^(n-1)-2*x^(n-2);\n",
"z=roots(f)\n",
"disp(z,f)\n",
"printf('\n\n')\n",
"printf('            n        n\nC.F. = ')\n",
"for i=1:n\n",
"    printf('c%i(%g)',i,z(i))\n",
"    if i~=n then\n",
"        printf(' + ')\n",
"    end\n",
"end\n",
"A=[5/8,0;1/2,5/8];\n",
"B=[3;0]\n",
"C=inv(A)*B;\n",
"printf('\n\n\t \t    n\t   \nP.I = (%gn%g)(4)',C(1),C(2))"
   ]
   }
,
{
		   "cell_type": "markdown",
		   "metadata": {},
		   "source": [
			"## Example 9.16: Particular_Solutio.sce"
		   ]
		  },
  {
"cell_type": "code",
	   "execution_count": null,
	   "metadata": {
	    "collapsed": true
	   },
	   "outputs": [],
"source": [
"//Example 9.16\n",
"//Particular Solution\n",
"//Page no. 297\n",
"clc;clear;close;\n",
"\n",
"x=poly(0,'x')\n",
"n=2;\n",
"f=x^(n)-2*x^(n-1)+x^(n-2);\n",
"z=roots(f)\n",
"disp(z,f)\n",
"printf('\t\t\nC.F. = (c1+n*c2) (%g)',z(1))\n",
"A=[1,0,0;8,1,0;12,4,1];\n",
"B=[1;0;0];\n",
"C=inv(A)*B;\n",
"printf('\n\n\t  2\nP.I = (%g)n+(%g)n+(%g)',C(1),C(2),C(3))"
   ]
   }
,
{
		   "cell_type": "markdown",
		   "metadata": {},
		   "source": [
			"## Example 9.17: Particular_Solutio.sce"
		   ]
		  },
  {
"cell_type": "code",
	   "execution_count": null,
	   "metadata": {
	    "collapsed": true
	   },
	   "outputs": [],
"source": [
"//Example 9.17\n",
"//Particular Solution\n",
"//Page no. 298\n",
"clc;clear;close;\n",
"\n",
"x=poly(0,'x')\n",
"n=2;\n",
"f=x^(n)-3*x^(n-1)+2*x^(n-2);\n",
"z=roots(f)\n",
"disp(z,f)\n",
"printf('\t\t    n\nC.F. = (c1+n*c2) (%g)',z(1))\n",
"A=[-4,0;2,-2];\n",
"B=[2;0];\n",
"C=inv(A)*B;\n",
"printf('\n\n\t     2\nP.I = (%g)n+(%g)n',C(1),C(2))"
   ]
   }
,
{
		   "cell_type": "markdown",
		   "metadata": {},
		   "source": [
			"## Example 9.18: Particular_Solutio.sce"
		   ]
		  },
  {
"cell_type": "code",
	   "execution_count": null,
	   "metadata": {
	    "collapsed": true
	   },
	   "outputs": [],
"source": [
"//Example 9.16\n",
"//Particular Solution\n",
"//Page no. 297\n",
"clc;clear;close;\n",
"\n",
"x=poly(0,'x')\n",
"n=1;\n",
"f=x^(n)-4*x^(n-1);\n",
"z=roots(f)\n",
"disp(z,f)\n",
"printf('\t       n\nC.F. = (c1) (%g)',z(1))\n",
"A=[1,1;0,1];\n",
"B=[6;0];\n",
"C=inv(A)*B;\n",
"printf('\n\n\t \t     n\nP.I = ((%g)n+(%g)n)*(4)',C(1),C(2))"
   ]
   }
,
{
		   "cell_type": "markdown",
		   "metadata": {},
		   "source": [
			"## Example 9.1: Recurrence_formula.sce"
		   ]
		  },
  {
"cell_type": "code",
	   "execution_count": null,
	   "metadata": {
	    "collapsed": true
	   },
	   "outputs": [],
"source": [
"//Example 9.1\n",
"//Recurrence formula\n",
"//Page no. 288\n",
"clc;clear;close;\n",
"\n",
"y(1)=5;\n",
"for i=2:7\n",
"    y(i)=2*y(i-1)\n",
"    printf('\ny(%i) = %g\n',i-1,y(i-1))\n",
"end"
   ]
   }
,
{
		   "cell_type": "markdown",
		   "metadata": {},
		   "source": [
			"## Example 9.2: Recurrence_formula.sce"
		   ]
		  },
  {
"cell_type": "code",
	   "execution_count": null,
	   "metadata": {
	    "collapsed": true
	   },
	   "outputs": [],
"source": [
"//Example 9.3\n",
"//Recurrence formula\n",
"//Page no. 291\n",
"clc;clear;close;\n",
"\n",
"x=poly(0,'x')\n",
"f=16*x^2-8*x+1;\n",
"z=roots(f)\n",
"disp(z,f)\n",
"printf('\t\tn\n(c1+n*c2) (%g)',z(1))"
   ]
   }
,
{
		   "cell_type": "markdown",
		   "metadata": {},
		   "source": [
			"## Example 9.3: Recurrence_formula.sce"
		   ]
		  },
  {
"cell_type": "code",
	   "execution_count": null,
	   "metadata": {
	    "collapsed": true
	   },
	   "outputs": [],
"source": [
"//Example 9.3\n",
"//Recurrence formula\n",
"//Page no. 291\n",
"clc;clear;close;\n",
"\n",
"x=poly(0,'x')\n",
"f=16*x^2-8*x+1;\n",
"z=roots(f)\n",
"disp(z,f)\n",
"printf('\t\tn\n(c1+n*c2) (%g)',z(1))"
   ]
   }
,
{
		   "cell_type": "markdown",
		   "metadata": {},
		   "source": [
			"## Example 9.4: Recurrence_formula.sce"
		   ]
		  },
  {
"cell_type": "code",
	   "execution_count": null,
	   "metadata": {
	    "collapsed": true
	   },
	   "outputs": [],
"source": [
"//Example 9.4\n",
"//Recurrence formula\n",
"//Page no. 291\n",
"clc;clear;close;\n",
"\n",
"x=poly(0,'x')\n",
"n=3;\n",
"f=x^(n)-2*x^(n-1)-x^(n-2)+2;\n",
"z=roots(f)\n",
"disp(z,f)\n",
"printf('\n\n')\n",
"printf('      n       n       n\n')\n",
"for i=1:n\n",
"    printf('c%i(%g)',i,z(i))\n",
"    if i~=n then\n",
"        printf(' + ')\n",
"    end\n",
"end"
   ]
   }
,
{
		   "cell_type": "markdown",
		   "metadata": {},
		   "source": [
			"## Example 9.5: Difference_Equation.sce"
		   ]
		  },
  {
"cell_type": "code",
	   "execution_count": null,
	   "metadata": {
	    "collapsed": true
	   },
	   "outputs": [],
"source": [
"//Example 9.5\n",
"//Difference Equation\n",
"//Page no. 291\n",
"clc;clear;close;\n",
"\n",
"y(1)=1.5;y(2)=3;\n",
"n=poly(0,'n')\n",
"x=poly(0,'x')\n",
"f=x^2-2*x+1;\n",
"disp(f)\n",
"x=roots(f)\n",
"disp(x,'x = ')\n",
"A=[1,1;1,2];\n",
"B=[y(1);y(2)]\n",
"C=inv(A)*B\n",
"for i=1:2\n",
"    printf('\nc(%i) = %g\n',i,C(i))\n",
"end\n",
"yn=C(1)+C(2)*n\n",
"disp(yn,'yn = ')"
   ]
   }
,
{
		   "cell_type": "markdown",
		   "metadata": {},
		   "source": [
			"## Example 9.6: Difference_Equation.sce"
		   ]
		  },
  {
"cell_type": "code",
	   "execution_count": null,
	   "metadata": {
	    "collapsed": true
	   },
	   "outputs": [],
"source": [
"//Example 9.6\n",
"//Recurrence formula\n",
"//Page no. 292\n",
"clc;clear;close;\n",
"\n",
"x=poly(0,'x')\n",
"f=x^2-2*x+2;\n",
"z=roots(f)\n",
"disp(z,f)\n",
"r=z(1)*z(2);\n",
"r=sqrt(r);\n",
"theta=atan(real(z(1)));\n",
"printf('\n\n\t n\n(%g)   (c1*cos(n*%g)+c2*sin(n*%g)) ',r,theta,theta)"
   ]
   }
,
{
		   "cell_type": "markdown",
		   "metadata": {},
		   "source": [
			"## Example 9.8: Recurrence_formula.sce"
		   ]
		  },
  {
"cell_type": "code",
	   "execution_count": null,
	   "metadata": {
	    "collapsed": true
	   },
	   "outputs": [],
"source": [
"//Example 9.8\n",
"//Recurrence formula\n",
"//Page no. 292\n",
"clc;clear;close;\n",
"\n",
"x=poly(0,'x')\n",
"n=2;\n",
"f=x^(n)-5*x^(n-1)+6*x^(n-2);\n",
"z=roots(f)\n",
"disp(z,f)\n",
"printf('\n\n')\n",
"printf('            n       n\nf(n) = ')\n",
"for i=1:n\n",
"    printf('c%i(%g)',i,z(i))\n",
"    if i~=n then\n",
"        printf(' + ')\n",
"    end\n",
"end"
   ]
   }
,
{
		   "cell_type": "markdown",
		   "metadata": {},
		   "source": [
			"## Example 9.9: Particular_Solutio.sce"
		   ]
		  },
  {
"cell_type": "code",
	   "execution_count": null,
	   "metadata": {
	    "collapsed": true
	   },
	   "outputs": [],
"source": [
"//Example 9.9\n",
"//Particular Solution\n",
"//Page no. 293\n",
"clc;clear;close;\n",
"\n",
"x=poly(0,'x')\n",
"n=2;\n",
"f=x^(n)-x^(n-1)-2*x^(n-2);\n",
"z=roots(f)\n",
"disp(z,f)\n",
"printf('\n\n')\n",
"printf('            n       n\nC.F. = ')\n",
"for i=1:n\n",
"    printf('c%i(%g)',i,z(i))\n",
"    if i~=n then\n",
"        printf(' + ')\n",
"    end\n",
"end\n",
"A=[-2,0,0;10,-2,0;9,-5,2];\n",
"B=[2;0;0];\n",
"C=inv(A)*B;\n",
"printf('\n\n\t   2\nP.I = (%g)n+(%g)n+(%g)',C(1),C(2),C(3))"
   ]
   }
],
"metadata": {
		  "kernelspec": {
		   "display_name": "Scilab",
		   "language": "scilab",
		   "name": "scilab"
		  },
		  "language_info": {
		   "file_extension": ".sce",
		   "help_links": [
			{
			 "text": "MetaKernel Magics",
			 "url": "https://github.com/calysto/metakernel/blob/master/metakernel/magics/README.md"
			}
		   ],
		   "mimetype": "text/x-octave",
		   "name": "scilab",
		   "version": "0.7.1"
		  }
		 },
		 "nbformat": 4,
		 "nbformat_minor": 0
}
