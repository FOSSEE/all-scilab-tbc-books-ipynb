{
"cells": [
 {
		   "cell_type": "markdown",
	   "metadata": {},
	   "source": [
       "# Chapter 1: Preliminaries"
	   ]
	},
{
		   "cell_type": "markdown",
		   "metadata": {},
		   "source": [
			"## Example 1.1: Rounding_off_Numbers.sce"
		   ]
		  },
  {
"cell_type": "code",
	   "execution_count": null,
	   "metadata": {
	    "collapsed": true
	   },
	   "outputs": [],
"source": [
"//Example 1.1\n",
"//Rounding off Numbers\n",
"//Page no. 2\n",
"clc;clear;close;\n",
"a=[81.9773;48.365;21.385;12.865;27.553]\n",
"for i=1:5\n",
"    printf('\n%g becomes %.4g\n',a(i),a(i))\n",
"end"
   ]
   }
,
{
		   "cell_type": "markdown",
		   "metadata": {},
		   "source": [
			"## Example 1.2: Relative_Maximum_Error.sce"
		   ]
		  },
  {
"cell_type": "code",
	   "execution_count": null,
	   "metadata": {
	    "collapsed": true
	   },
	   "outputs": [],
"source": [
"//Example 1.2\n",
"//Relative Maximum Error\n",
"//Page no. 5\n",
"clc;clear;close;\n",
"h=0.001;\n",
"x=1;y=1;z=1;dx=0.001;dy=0.001;dz=0.001;\n",
"deff('u=f(x,y,z)','u=(5*x*y^2)/z^3')\n",
"du=abs(f(x+h,y,z)-f(x,y,z))*dx+abs(f(x,y+h,z)-f(x,y,z))*dy+abs(f(x,y,z+h)-f(x,y,z))*dz;\n",
"du=du/h;\n",
"Er=du/f(x,y,z)\n",
"printf('\nMaximum Error = %.3f\n\nRelative maximum error = %.3f',du,Er)"
   ]
   }
,
{
		   "cell_type": "markdown",
		   "metadata": {},
		   "source": [
			"## Example 1.3: Absolute_Error.sce"
		   ]
		  },
  {
"cell_type": "code",
	   "execution_count": null,
	   "metadata": {
	    "collapsed": true
	   },
	   "outputs": [],
"source": [
"//Example 1.3\n",
"//Absolute Error\n",
"//Page no. 6\n",
"clc;clear;close;\n",
"a=10;b=0.0356;c=15300;d=62000;\n",
"ea=0.05;eb=0.0002;ec=100;ed=500;\n",
"e=ea+eb+ec+ed;\n",
"printf('\nMaximum Absolute Error of a+b+c+d = %f\n\n',e)\n",
"E=(c+2*ec)^3-(c+ec)^3\n",
"printf('                           3\nMaximum Absolute Error of c = %f',E)"
   ]
   }
],
"metadata": {
		  "kernelspec": {
		   "display_name": "Scilab",
		   "language": "scilab",
		   "name": "scilab"
		  },
		  "language_info": {
		   "file_extension": ".sce",
		   "help_links": [
			{
			 "text": "MetaKernel Magics",
			 "url": "https://github.com/calysto/metakernel/blob/master/metakernel/magics/README.md"
			}
		   ],
		   "mimetype": "text/x-octave",
		   "name": "scilab",
		   "version": "0.7.1"
		  }
		 },
		 "nbformat": 4,
		 "nbformat_minor": 0
}
