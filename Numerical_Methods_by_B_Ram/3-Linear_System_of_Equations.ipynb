{
"cells": [
 {
		   "cell_type": "markdown",
	   "metadata": {},
	   "source": [
       "# Chapter 3: Linear System of Equations"
	   ]
	},
{
		   "cell_type": "markdown",
		   "metadata": {},
		   "source": [
			"## Example 3.10: Triangularization_Method.sce"
		   ]
		  },
  {
"cell_type": "code",
	   "execution_count": null,
	   "metadata": {
	    "collapsed": true
	   },
	   "outputs": [],
"source": [
"//Example 3.10\n",
"//Triangularization Method\n",
"//Page no. 62\n",
"clc;clear;close;\n",
"\n",
"A=[2,4,-6;1,5,3;1,3,2];\n",
"B=[-4;10;5];\n",
"printf('A can be factorizaed as follows:\n')\n",
"printf('\tL\t\t  *\t\tU\t\t  =\t\tA')\n",
"U(2,1)=0;U(3,1)=0;U(3,2)=0;\n",
"L(1,2)=0;L(1,3)=0;L(2,3)=0;\n",
"for i=1:3\n",
"    L(i,i)=1\n",
"end\n",
"for i=1:3\n",
"    U(1,i)=A(1,i)\n",
"end\n",
"L(2,1)=1/U(1,1);\n",
"for i=2:3\n",
"    U(2,i)=A(2,i)-U(1,i)*L(2,1);\n",
"end\n",
"L(3,1)=1/U(1,1);\n",
"L(3,2)=(A(3,2)-U(1,2)*L(3,1))/U(2,2);\n",
"U(3,3)=A(3,3)-U(1,3)*L(3,1)-U(2,3)*L(3,2);\n",
"printf('\n')\n",
"for i=1:3\n",
"    for j=1:3\n",
"        printf('%.2f\t',L(i,j))\n",
"    end\n",
"    \n",
"    if(i==2)\n",
"        printf('  *     ')\n",
"    else\n",
"        printf('\t')\n",
"    end\n",
"    \n",
"    for j=1:3\n",
"        printf('%.2f\t',U(i,j))\n",
"    end\n",
"    if(i==2)\n",
"        printf('  =     ')\n",
"    else\n",
"        printf('\t')\n",
"    end\n",
"    for j=1:3\n",
"        printf('%.2f\t',A(i,j))\n",
"    end\n",
"    printf('\n')\n",
"end\n",
"printf('\nY=U*X')\n",
"    Y=inv(L)*B\n",
"    X=inv(U)*Y\n",
"printf('\n\nX=')\n",
"for i=1:3\n",
"    printf('\n   %i',X(i,1))\n",
"end"
   ]
   }
,
{
		   "cell_type": "markdown",
		   "metadata": {},
		   "source": [
			"## Example 3.11: Triangularization_Method.sce"
		   ]
		  },
  {
"cell_type": "code",
	   "execution_count": null,
	   "metadata": {
	    "collapsed": true
	   },
	   "outputs": [],
"source": [
"//Example 3.11\n",
"//Triangularization Method\n",
"//Page no. 63\n",
"clc;clear;close;\n",
"\n",
"A=[1,3,8;1,4,3;1,3,4];\n",
"B=[4;-2;1];\n",
"printf('A can be factorizaed as follows:\n')\n",
"printf('\tL\t\t  *\t\tU\t\t  =\t\tA')\n",
"U(2,1)=0;U(3,1)=0;U(3,2)=0;\n",
"L(1,2)=0;L(1,3)=0;L(2,3)=0;\n",
"for i=1:3\n",
"    L(i,i)=1\n",
"end\n",
"for i=1:3\n",
"    U(1,i)=A(1,i)\n",
"end\n",
"L(2,1)=1/U(1,1);\n",
"for i=2:3\n",
"    U(2,i)=A(2,i)-U(1,i)*L(2,1);\n",
"end\n",
"L(3,1)=1/U(1,1);\n",
"L(3,2)=(A(3,2)-U(1,2)*L(3,1))/U(2,2);\n",
"U(3,3)=A(3,3)-U(1,3)*L(3,1)-U(2,3)*L(3,2);\n",
"printf('\n')\n",
"for i=1:3\n",
"    for j=1:3\n",
"        printf('%.2f\t',L(i,j))\n",
"    end\n",
"    \n",
"    if(i==2)\n",
"        printf('  *     ')\n",
"    else\n",
"        printf('\t')\n",
"    end\n",
"    \n",
"    for j=1:3\n",
"        printf('%.2f\t',U(i,j))\n",
"    end\n",
"    if(i==2)\n",
"        printf('  =     ')\n",
"    else\n",
"        printf('\t')\n",
"    end\n",
"    for j=1:3\n",
"        printf('%.2f\t',A(i,j))\n",
"    end\n",
"    printf('\n')\n",
"end\n",
"printf('\nY=U*X')\n",
"    Y=inv(L)*B\n",
"    X=inv(U)*Y\n",
"printf('\n\nX=')\n",
"for i=1:3\n",
"    printf('\n   %.2f',X(i,1))\n",
"end"
   ]
   }
,
{
		   "cell_type": "markdown",
		   "metadata": {},
		   "source": [
			"## Example 3.12: Triangularization_Method.sce"
		   ]
		  },
  {
"cell_type": "code",
	   "execution_count": null,
	   "metadata": {
	    "collapsed": true
	   },
	   "outputs": [],
"source": [
"//Example 3.12\n",
"//Triangularization Method\n",
"//Page no. 63\n",
"clc;clear;close;\n",
"\n",
"A=[4,-1,2;-1,5,3;2,3,6];\n",
"B=[12;10;18];\n",
"printf('A can be factorizaed as follows:\n')\n",
"printf('\tL\t\t  *\t\tU\t\t  =\t\tA')\n",
"U(2,1)=0;U(3,1)=0;U(3,2)=0;\n",
"L(1,2)=0;L(1,3)=0;L(2,3)=0;\n",
"for i=1:3\n",
"    L(i,i)=1\n",
"end\n",
"for i=1:3\n",
"    U(1,i)=A(1,i)\n",
"end\n",
"L(2,1)=1/U(1,1);\n",
"for i=2:3\n",
"    U(2,i)=A(2,i)-U(1,i)*L(2,1);\n",
"end\n",
"L(3,1)=1/U(1,1);\n",
"L(3,2)=(A(3,2)-U(1,2)*L(3,1))/U(2,2);\n",
"U(3,3)=A(3,3)-U(1,3)*L(3,1)-U(2,3)*L(3,2);\n",
"printf('\n')\n",
"for i=1:3\n",
"    for j=1:3\n",
"        printf('%.2f\t',L(i,j))\n",
"    end\n",
"    \n",
"    if(i==2)\n",
"        printf('  *     ')\n",
"    else\n",
"        printf('\t')\n",
"    end\n",
"    \n",
"    for j=1:3\n",
"        printf('%.2f\t',U(i,j))\n",
"    end\n",
"    if(i==2)\n",
"        printf('  =     ')\n",
"    else\n",
"        printf('\t')\n",
"    end\n",
"    for j=1:3\n",
"        printf('%.2f\t',A(i,j))\n",
"    end\n",
"    printf('\n')\n",
"end\n",
"printf('\nY=U*X')\n",
"    Y=inv(L)*B\n",
"    X=inv(U)*Y\n",
"printf('\n\nX=')\n",
"for i=1:3\n",
"    printf('\n   %.2f',X(i,1))\n",
"end"
   ]
   }
,
{
		   "cell_type": "markdown",
		   "metadata": {},
		   "source": [
			"## Example 3.13: Crout_Method.sce"
		   ]
		  },
  {
"cell_type": "code",
	   "execution_count": null,
	   "metadata": {
	    "collapsed": true
	   },
	   "outputs": [],
"source": [
"//Example 3.13\n",
"//Crout Method\n",
"//Page no. 67\n",
"clc;clear;close;\n",
"\n",
"A=[1,2,3,1;3,1,1,0;2,1,1,0]\n",
"for i=1:3\n",
"    for j=1:4\n",
"        if j==1 then\n",
"            M(i,j)=A(i,j)\n",
"        elseif i==1\n",
"            M(i,j)=A(i,j)/A(1,1)\n",
"        elseif j==2\n",
"            M(i,j)=A(i,j)-M(1,j)*M(i,j-1)\n",
"        elseif i==2\n",
"            M(i,j)=(A(i,j)-M(i,1)*M(i-1,j))/M(i,2)\n",
"        elseif j==3\n",
"            M(i,j)=A(i,j)-(M(i,j-2)*M(i-2,j)+M(i,j-1)*M(i-1,j))\n",
"        else\n",
"            M(i,j)=(A(i,j)-(M(i,j-3)*M(i-2,j)+M(i,j-2)*M(i-1,j)))/M(i,j-1)\n",
"        end\n",
"    end\n",
"end\n",
"disp(M,'M = ')\n",
"for i=1:3\n",
"    for j=1:4\n",
"        if j~=4 then\n",
"            U1(i,j)=M(i,j)\n",
"        else\n",
"            Y(i,1)=M(i,j)\n",
"        end\n",
"    end\n",
"end\n",
"U=eye(3,3)\n",
"for i=1:3\n",
"    for j=1:3\n",
"        if j>i then\n",
"            U(i,j)=U1(i,j)\n",
"        end\n",
"    end\n",
"end\n",
"disp(U,'U = ')\n",
"disp(Y,'Y = ')\n",
"X=inv(U)*Y\n",
"printf('\n\nHence, the solution is : \t')\n",
"for i=1:3\n",
"    printf('x%i = %i\t\t',i,X(i))\n",
"end"
   ]
   }
,
{
		   "cell_type": "markdown",
		   "metadata": {},
		   "source": [
			"## Example 3.14: Crout_Method.sce"
		   ]
		  },
  {
"cell_type": "code",
	   "execution_count": null,
	   "metadata": {
	    "collapsed": true
	   },
	   "outputs": [],
"source": [
"//Example 3.14\n",
"//Crout Method\n",
"//Page no. 68\n",
"clc;clear;close;\n",
"\n",
"A=[2,1,4,12;8,-3,2,20;4,11,-1,33]\n",
"for i=1:3\n",
"    for j=1:4\n",
"        if j==1 then\n",
"            M(i,j)=A(i,j)\n",
"        elseif i==1\n",
"            M(i,j)=A(i,j)/A(1,1)\n",
"        elseif j==2\n",
"            M(i,j)=A(i,j)-M(1,j)*M(i,j-1)\n",
"        elseif i==2\n",
"            M(i,j)=(A(i,j)-M(i,1)*M(i-1,j))/M(i,2)\n",
"        elseif j==3\n",
"            M(i,j)=A(i,j)-(M(i,j-2)*M(i-2,j)+M(i,j-1)*M(i-1,j))\n",
"        else\n",
"            M(i,j)=(A(i,j)-(M(i,j-3)*M(i-2,j)+M(i,j-2)*M(i-1,j)))/M(i,j-1)\n",
"        end\n",
"    end\n",
"end\n",
"disp(M,'M = ')\n",
"for i=1:3\n",
"    for j=1:4\n",
"        if j~=4 then\n",
"            U1(i,j)=M(i,j)\n",
"        else\n",
"            Y(i,1)=M(i,j)\n",
"        end\n",
"    end\n",
"end\n",
"U=eye(3,3)\n",
"for i=1:3\n",
"    for j=1:3\n",
"        if j>i then\n",
"            U(i,j)=U1(i,j)\n",
"        end\n",
"    end\n",
"end\n",
"disp(U,'U = ')\n",
"disp(Y,'Y = ')\n",
"X=inv(U)*Y\n",
"printf('\n\nHence, the solution is : \t')\n",
"for i=1:3\n",
"    printf('x%i = %i\t\t',i,X(i))\n",
"end"
   ]
   }
,
{
		   "cell_type": "markdown",
		   "metadata": {},
		   "source": [
			"## Example 3.15: Crout_Method.sce"
		   ]
		  },
  {
"cell_type": "code",
	   "execution_count": null,
	   "metadata": {
	    "collapsed": true
	   },
	   "outputs": [],
"source": [
"//Example 3.15\n",
"//Crout Method\n",
"//Page no. 69\n",
"clc;clear;close;\n",
"\n",
"A=[1,2,-12,8,27;5,4,7,-2,4;-3,7,9,5,11;6,-12,-8,3,49]\n",
"for i=1:4\n",
"    for j=1:5\n",
"        if j==1 then\n",
"            M(i,j)=A(i,j)\n",
"        elseif i==1\n",
"            M(i,j)=A(i,j)/A(1,1)\n",
"        elseif j==2\n",
"            M(i,j)=A(i,j)-M(1,j)*M(i,j-1)\n",
"        elseif i==2\n",
"            M(i,j)=(A(i,j)-M(i,1)*M(i-1,j))/M(i,2)\n",
"        elseif j==3\n",
"            M(i,j)=A(i,j)-(M(i,j-2)*M(1,j)+M(i,j-1)*M(2,j))\n",
"        elseif i==3\n",
"            M(i,j)=(A(i,j)-(M(i,1)*M(i-2,j)+M(i,2)*M(i-1,j)))/M(i,3)\n",
"        elseif j==4\n",
"            M(i,j)=A(i,j)-(M(i,j-2)*M(i-2,j)+M(i,j-1)*M(i-1,j)+M(i,j-3)*M(i-3,j))\n",
"        else\n",
"            M(i,j)=(A(i,j)-(M(i,j-2)*M(i-1,j)+M(i,j-3)*M(i-2,j)+M(i,j-4)*M(i-3,j)))/M(i,j-1)\n",
"        end\n",
"    end\n",
"end\n",
"disp(M,'M = ')\n",
"for i=1:4\n",
"    for j=1:5\n",
"        if j~=5 then\n",
"            U1(i,j)=M(i,j)\n",
"        else\n",
"            Y(i,1)=M(i,j)\n",
"        end\n",
"    end\n",
"end\n",
"U=eye(4,4)\n",
"for i=1:4\n",
"    for j=1:4\n",
"        if j>i then\n",
"            U(i,j)=U1(i,j)\n",
"        end\n",
"    end\n",
"end\n",
"disp(U,'U = ')\n",
"disp(Y,'Y = ')\n",
"X=inv(U)*Y\n",
"printf('\n\nHence, the solution is : \t')\n",
"for i=1:4\n",
"    printf('x%i = %i  \t',i,X(i))\n",
"end"
   ]
   }
,
{
		   "cell_type": "markdown",
		   "metadata": {},
		   "source": [
			"## Example 3.16: Jacobi_Method.sce"
		   ]
		  },
  {
"cell_type": "code",
	   "execution_count": null,
	   "metadata": {
	    "collapsed": true
	   },
	   "outputs": [],
"source": [
"//Example 3.16\n",
"//Jacobi Method\n",
"//Page no. 72\n",
"clc;clear;close;\n",
"\n",
"x0=0;y0=0;z0=0;\n",
"deff('x=f1(y,z)','x=(y-z+10)/5')\n",
"deff('y=f2(x,z)','y=(-2*x+z+11)/8')\n",
"deff('z=f3(x,y)','z=(x-y+3)/4')\n",
"for i=1:13\n",
"    x1=f1(y0,z0);\n",
"    y1=f2(x0,z0);\n",
"    z1=f3(x0,y0);\n",
"    printf('\tx(%i) = %g\n\n\ty(%i) = %g\n\n\tz(%i) = %g\n\n\n\n',i,x1,i,y1,i,z1)\n",
"    x0=x1;y0=y1;z0=z1;\n",
"end\n",
"printf('Thus we find that solution converges to %g,%g and %g',x0,y0,z0)"
   ]
   }
,
{
		   "cell_type": "markdown",
		   "metadata": {},
		   "source": [
			"## Example 3.17: Gauss_Seidel_Method.sce"
		   ]
		  },
  {
"cell_type": "code",
	   "execution_count": null,
	   "metadata": {
	    "collapsed": true
	   },
	   "outputs": [],
"source": [
"//Example 3.17\n",
"//Gauss Seidel Method\n",
"//Page no. 73\n",
"clc;clear;close;\n",
"\n",
"x0=0;y0=0;z0=0;\n",
"deff('x=f1(y,z)','x=(y-z+10)/5')\n",
"deff('y=f2(x,z)','y=(-2*x+z+11)/8')\n",
"deff('z=f3(x,y)','z=(x-y+3)/4')\n",
"for i=1:8\n",
"    x0=f1(y0,z0);\n",
"    y0=f2(x0,z0);\n",
"    z0=f3(x0,y0);\n",
"    printf('\tx(%i) = %g\n\n\ty(%i) = %g\n\n\tz(%i) = %g\n\n\n\n',i,x0,i,y0,i,z0)\n",
"end\n",
"printf('Thus we find that solution converges to %g, %g and %g',x0,y0,z0)"
   ]
   }
,
{
		   "cell_type": "markdown",
		   "metadata": {},
		   "source": [
			"## Example 3.18: Gauss_Seidel_Method.sce"
		   ]
		  },
  {
"cell_type": "code",
	   "execution_count": null,
	   "metadata": {
	    "collapsed": true
	   },
	   "outputs": [],
"source": [
"//Example 3.18\n",
"//Gauss Seidel Method\n",
"//Page no. 74\n",
"clc;clear;close;\n",
"\n",
"x0=0;y0=0;z0=0;\n",
"deff('x=f1(y,z)','x=(110-y-z)/54')\n",
"deff('y=f2(x,z)','y=(72-2*x-6*z)/15')\n",
"deff('z=f3(x,y)','z=(85+x-6*y)/27')\n",
"for i=1:5\n",
"    x0=f1(y0,z0);\n",
"    y0=f2(x0,z0);\n",
"    z0=f3(x0,y0);\n",
"    printf('\tx(%i) = %g\n\n\ty(%i) = %g\n\n\tz(%i) = %g\n\n\n\n',i,x0,i,y0,i,z0)\n",
"end\n",
"printf('Thus we find that solution converges to %.3f, %.3f and %.3f',x0,y0,z0)"
   ]
   }
,
{
		   "cell_type": "markdown",
		   "metadata": {},
		   "source": [
			"## Example 3.19: Gauss_Seidel_Method.sce"
		   ]
		  },
  {
"cell_type": "code",
	   "execution_count": null,
	   "metadata": {
	    "collapsed": true
	   },
	   "outputs": [],
"source": [
"//Example 3.19\n",
"//Gauss Seidel Method\n",
"//Page no. 75\n",
"clc;clear;close;\n",
"\n",
"x0=0;y0=0;z0=0;\n",
"deff('x=f1(y,z)','x=(32-4*y+z)/28')\n",
"deff('y=f2(x,z)','y=(35-2*x-4*z)/17')\n",
"deff('z=f3(x,y)','z=(24-x-3*y)/10')\n",
"for i=1:6\n",
"    x0=f1(y0,z0);\n",
"    y0=f2(x0,z0);\n",
"    z0=f3(x0,y0);\n",
"    printf('\tx(%i) = %g\n\n\ty(%i) = %g\n\n\tz(%i) = %g\n\n\n\n',i,x0,i,y0,i,z0)\n",
"end\n",
"printf('Thus we find that solution converges to %.4f, %.4f and %.4f',x0,y0,z0)"
   ]
   }
,
{
		   "cell_type": "markdown",
		   "metadata": {},
		   "source": [
			"## Example 3.1: Direct_Method.sce"
		   ]
		  },
  {
"cell_type": "code",
	   "execution_count": null,
	   "metadata": {
	    "collapsed": true
	   },
	   "outputs": [],
"source": [
"//Example 3.1\n",
"//Direct Method\n",
"//Page no. 3.1\n",
"clc;clear;close;\n",
"\n",
"A=[1,1,2;1,2,3;2,3,1];         //Parameter Matrix\n",
"B=[1;1;2]\n",
"C=inv(A)*B;\n",
"disp(C,'Solution Matrix = ')"
   ]
   }
,
{
		   "cell_type": "markdown",
		   "metadata": {},
		   "source": [
			"## Example 3.20: Gauss_Seidel_Method.sce"
		   ]
		  },
  {
"cell_type": "code",
	   "execution_count": null,
	   "metadata": {
	    "collapsed": true
	   },
	   "outputs": [],
"source": [
"//Example 3.20\n",
"//Gauss Seidel Method\n",
"//Page no. 75\n",
"clc;clear;close;\n",
"\n",
"x0=0;y0=0;z0=0;\n",
"deff('x=f1(y,z)','x=(17-y+2*z)/20')\n",
"deff('y=f2(x,z)','y=(-18-3*x+z)/20')\n",
"deff('z=f3(x,y)','z=(25-3*x+3*y)/20')\n",
"for i=1:3\n",
"    x0=f1(y0,z0);\n",
"    y0=f2(x0,z0);\n",
"    z0=f3(x0,y0);\n",
"    printf('\tx(%i) = %g\n\n\ty(%i) = %g\n\n\tz(%i) = %g\n\n\n\n',i,x0,i,y0,i,z0)\n",
"end\n",
"printf('Thus we find that solution converges to %.1g, %.1g and %.1g',x0,y0,z0)"
   ]
   }
,
{
		   "cell_type": "markdown",
		   "metadata": {},
		   "source": [
			"## Example 3.21: Relaxation_Method.sce"
		   ]
		  },
  {
"cell_type": "code",
	   "execution_count": null,
	   "metadata": {
	    "collapsed": true
	   },
	   "outputs": [],
"source": [
"//Example 3.21\n",
"//Relaxation Method\n",
"//Page no. 79\n",
"clc;clear;close;\n",
"\n",
"A=[10,-2,-2,-6;-1,10,-2,-7;-1,-1,10,-8]\n",
"deff('y=R(i,x,y,z)','y=A(i,1)*x+A(i,2)*y+A(i,3)*z+A(i,4)')\n",
"printf('dx\tdy\tdz\tdR1\tdR2\tdR3\n---------------------------------------------')\n",
"I=eye(3,3)\n",
"for i=1:3\n",
"    printf('\n')\n",
"    for j=1:3\n",
"        printf(' %g\t',I(i,j))\n",
"    end\n",
"    for j=1:3\n",
"        printf('%g\t',A(j,i))\n",
"    end\n",
"end\n",
"printf('\n\n\n\n\n xi\tyi\tzi\tR1\tR2\tR3\n---------------------------------------------\n')\n",
"I1=[0,0,0;0,0,1;0,1,0;1,0,0]\n",
"for i=1:4\n",
"    for j=1:3\n",
"        l=0;\n",
"        for k=1:i\n",
"            l=l+I1(k,j)\n",
"        end\n",
"        I(i,j)=l\n",
"    end\n",
"end\n",
"X=eye(1,6)-eye(1,6)\n",
"for i=1:4\n",
"    printf('\n')\n",
"    for j=1:3\n",
"        printf(' %g\t',I1(i,j))\n",
"        X(j)=X(j)+I1(i,j)\n",
"    end\n",
"    for j=1:3\n",
"        printf('%g\t',R(j,I(i,1),I(i,2),I(i,3)))\n",
"        if i==4 then\n",
"            X(j+3)=X(j+3)+R(j,I(i,1),I(i,2),I(i,3))\n",
"        end\n",
"    end\n",
"end\n",
"printf('\n---------------------------------------------\n')\n",
"for i=1:6\n",
"    printf(' %g\t',X(i))\n",
"end\n",
"printf('\n\n\nHence the solution is \n\t x = %g\n\t y = %g\n\t z = %g',X(1),X(2),X(3))"
   ]
   }
,
{
		   "cell_type": "markdown",
		   "metadata": {},
		   "source": [
			"## Example 3.22: Relaxation_Method.sce"
		   ]
		  },
  {
"cell_type": "code",
	   "execution_count": null,
	   "metadata": {
	    "collapsed": true
	   },
	   "outputs": [],
"source": [
"//Example 3.22\n",
"//Relaxation Method\n",
"//Page no. 80\n",
"clc;clear;close;\n",
"\n",
"A=[10,-2,1,-12;1,9,-1,-10;2,-1,11,-20]\n",
"deff('y=R(i,x,y,z)','y=A(i,1)*x+A(i,2)*y+A(i,3)*z+A(i,4)')\n",
"printf('dx\tdy\tdz\tdR1\tdR2\tR3\n---------------------------------------------')\n",
"I=eye(3,3)\n",
"for i=1:3\n",
"    printf('\n')\n",
"    for j=1:3\n",
"        printf(' %g\t',I(i,j))\n",
"    end\n",
"    for j=1:3\n",
"        printf('%g\t',A(j,i))\n",
"    end\n",
"end\n",
"printf('\n\n\n\n\n xi\tyi\tzi\tR1\tR2\tR3\n---------------------------------------------\n')\n",
"I1=[0,0,0;0,0,2;0,1,0;1,0,0;0,0,-0.3;0.2,0,0;0,0.2,0;0,-0.03,0;-0.016,0,0;0,0,0.009]\n",
"for i=1:10\n",
"    for j=1:3\n",
"        l=0;\n",
"        for k=1:i\n",
"            l=l+I1(k,j)\n",
"        end\n",
"        I(i,j)=l\n",
"    end\n",
"end\n",
"X=eye(1,6)-eye(1,6)\n",
"for i=1:10\n",
"    printf('\n')\n",
"    for j=1:3\n",
"        printf(' %g\t',I1(i,j))\n",
"        X(j)=X(j)+I1(i,j)\n",
"    end\n",
"    for j=1:3\n",
"        printf('%g\t',R(j,I(i,1),I(i,2),I(i,3)))\n",
"        if i==10 then\n",
"            X(j+3)=X(j+3)+R(j,I(i,1),I(i,2),I(i,3))\n",
"        end\n",
"    end\n",
"end\n",
"printf('\n---------------------------------------------\n')\n",
"for i=1:6\n",
"    printf(' %g\t',X(i))\n",
"end\n",
"printf('\n\n\nHence the solution is \n\t x = %g\n\t y = %g\n\t z = %g',X(1),X(2),X(3))"
   ]
   }
,
{
		   "cell_type": "markdown",
		   "metadata": {},
		   "source": [
			"## Example 3.23: Relaxation_Method.sce"
		   ]
		  },
  {
"cell_type": "code",
	   "execution_count": null,
	   "metadata": {
	    "collapsed": true
	   },
	   "outputs": [],
"source": [
"//Example 3.23\n",
"//Relaxation Method\n",
"//Page no. 81\n",
"clc;clear;close;\n",
"\n",
"A=[10,-2,-3,-205;-2,10,-2,-154;-2,-1,10,-120]\n",
"deff('y=R(i,x,y,z)','y=A(i,1)*x+A(i,2)*y+A(i,3)*z+A(i,4)')\n",
"printf('dx\tdy\tdz\tdR1\tdR2\tdR3\n---------------------------------------------')\n",
"I=eye(3,3)\n",
"for i=1:3\n",
"    printf('\n')\n",
"    for j=1:3\n",
"        printf(' %g\t',I(i,j))\n",
"    end\n",
"    for j=1:3\n",
"        printf('%g\t',A(j,i))\n",
"    end\n",
"end\n",
"printf('\n\n\n\n\n xi\tyi\tzi\tR1\tR2\tR3\n---------------------------------------------\n')\n",
"I1=[0,0,0;20,0,0;0,19,0;0,0,18;10,0,0;0,6,0;0,0,2;2,0,0;0,0,1;0,1,0]\n",
"for i=1:10\n",
"    for j=1:3\n",
"        l=0;\n",
"        for k=1:i\n",
"            l=l+I1(k,j)\n",
"        end\n",
"        I(i,j)=l\n",
"    end\n",
"end\n",
"X=eye(1,6)-eye(1,6)\n",
"for i=1:10\n",
"    printf('\n')\n",
"    for j=1:3\n",
"        printf(' %g\t',I1(i,j))\n",
"        X(j)=X(j)+I1(i,j)\n",
"    end\n",
"    for j=1:3\n",
"        printf('%g\t',R(j,I(i,1),I(i,2),I(i,3)))\n",
"        if i==10 then\n",
"            X(j+3)=X(j+3)+R(j,I(i,1),I(i,2),I(i,3))\n",
"        end\n",
"    end\n",
"end\n",
"printf('\n---------------------------------------------\n')\n",
"for i=1:6\n",
"    printf(' %g\t',X(i))\n",
"end\n",
"printf('\n\n\nHence the solution is \n\t x = %g\n\t y = %g\n\t z = %g',X(1),X(2),X(3))"
   ]
   }
,
{
		   "cell_type": "markdown",
		   "metadata": {},
		   "source": [
			"## Example 3.2: Gaussian_Elimination_Method.sce"
		   ]
		  },
  {
"cell_type": "code",
	   "execution_count": null,
	   "metadata": {
	    "collapsed": true
	   },
	   "outputs": [],
"source": [
"//Example 3.2\n",
"//Gaussian Elimination Method\n",
"//Page no. 54\n",
"clc;clear;close;\n",
"\n",
"A=[2,4,-6,-4;1,5,3,10;1,3,2,5];           //augmented matrix\n",
"\n",
"//triangularization\n",
"for i=1:3\n",
"    for j=1:4\n",
"        if i==1 then\n",
"            B(i,j)=A(i,j)\n",
"        elseif i==2\n",
"            B(i,j)=A(i,j)-A(i,1)*A(i-1,j)/A(1,1)\n",
"            B(i+1,j)=A(i+1,j)-A(i+1,1)*A(i-1,j)/A(1,1)\n",
"        elseif i==3\n",
"            if j==1 then\n",
"                A=B\n",
"            end\n",
"            B(i,j)=B(i,j)-A(i,2)*B(i-1,j)/B(2,2)\n",
"        end\n",
"    end\n",
"end\n",
"disp(A,'Augmented Matrix=')\n",
"disp(B,'Triangulated Matrix=')\n",
"//back substitution\n",
"x(3)=B(3,4)/B(3,3);\n",
"printf('\nx(3)= %i\n',x(3))\n",
"for i=2:-1:1\n",
"    k=0\n",
"    for j=i+1:3\n",
"       k=k+B(i,j)*x(j)\n",
"    end\n",
"    x(i)=(1/B(i,i))*(B(i,4)-k)\n",
"     printf('\nx(%i)= %i\n',i,x(i))\n",
"end"
   ]
   }
,
{
		   "cell_type": "markdown",
		   "metadata": {},
		   "source": [
			"## Example 3.3: Gaussian_Elimination_Method.sce"
		   ]
		  },
  {
"cell_type": "code",
	   "execution_count": null,
	   "metadata": {
	    "collapsed": true
	   },
	   "outputs": [],
"source": [
"//Example 3.3\n",
"//Gaussian Elimination Method\n",
"//Page no. 54\n",
"clc;clear;close;\n",
"\n",
"A=[10,-7,3,5,6;-6,8,-1,-4,5;3,1,4,11,2;5,-9,-2,4,7];           //augmented matrix\n",
"disp(A,'Augmented Matrix=')\n",
"C=A;\n",
"//triangularization\n",
"for i=1:4\n",
"    for j=1:5\n",
"        if i==1 then\n",
"            B(i,j)=A(i,j)\n",
"        elseif i==2\n",
"            B(i,j)=A(i,j)-A(i,1)*A(i-1,j)/A(1,1)\n",
"            B(i+1,j)=A(i+1,j)-A(i+1,1)*A(i-1,j)/A(1,1)\n",
"            B(i+2,j)=A(i+2,j)-A(i+2,1)*A(i-1,j)/A(1,1)\n",
"        elseif i==3\n",
"            if j==1 then\n",
"                C=B\n",
"            else\n",
"                B(i,j)=B(i,j)-C(i,2)*B(i-1,j)/B(2,2)\n",
"                B(i+1,j)=C(i+1,j)-C(i+1,2)*C(i-1,j)/C(2,2)\n",
"            end\n",
"        else\n",
"            if j==1 then\n",
"                C=B\n",
"            end\n",
"                B(i,j)=B(i,j)-C(i,3)*B(i-1,j)/B(3,3)\n",
"        end\n",
"    end\n",
"end\n",
"\n",
"disp(B,'Triangulated Matrix=')\n",
"//back substitution\n",
"x(4)=B(4,5)/B(4,4);\n",
"printf('\nx(4) = %.0f\n',x(4))\n",
"for i=3:-1:1\n",
"    k=0\n",
"    for j=i+1:4\n",
"       k=k+B(i,j)*x(j)\n",
"    end\n",
"    x(i)=(1/B(i,i))*(B(i,5)-k)\n",
"     printf('\nx(%i) = %.0f\n',i,x(i))\n",
"end"
   ]
   }
,
{
		   "cell_type": "markdown",
		   "metadata": {},
		   "source": [
			"## Example 3.4: Gaussian_Elimination_Method.sce"
		   ]
		  },
  {
"cell_type": "code",
	   "execution_count": null,
	   "metadata": {
	    "collapsed": true
	   },
	   "outputs": [],
"source": [
"//Example 3.4\n",
"//Gaussian Elimination Method\n",
"//Page no. 55\n",
"clc;clear;close;\n",
"\n",
"A=[2,1,1,10;3,2,3,18;1,4,9,16];           //augmented matrix\n",
"disp(A,'Augmented Matrix=')\n",
"//triangularization\n",
"for i=1:3\n",
"    for j=1:4\n",
"        if i==1 then\n",
"            B(i,j)=A(i,j)\n",
"        elseif i==2\n",
"            B(i,j)=A(i,j)-A(i,1)*A(i-1,j)/A(1,1)\n",
"            B(i+1,j)=A(i+1,j)-A(i+1,1)*A(i-1,j)/A(1,1)\n",
"        elseif i==3\n",
"            if j==1 then\n",
"                A=B\n",
"            end\n",
"            B(i,j)=B(i,j)-A(i,2)*B(i-1,j)/B(2,2)\n",
"        end\n",
"    end\n",
"end\n",
"\n",
"disp(B,'Triangulated Matrix=')\n",
"//back substitution\n",
"x(3)=B(3,4)/B(3,3);\n",
"printf('\nx(3)= %i\n',x(3))\n",
"for i=2:-1:1\n",
"    k=0\n",
"    for j=i+1:3\n",
"       k=k+B(i,j)*x(j)\n",
"    end\n",
"    x(i)=(1/B(i,i))*(B(i,4)-k)\n",
"     printf('\nx(%i)= %i\n',i,x(i))\n",
"end"
   ]
   }
,
{
		   "cell_type": "markdown",
		   "metadata": {},
		   "source": [
			"## Example 3.5: Gauss_Jordan_Method.sce"
		   ]
		  },
  {
"cell_type": "code",
	   "execution_count": null,
	   "metadata": {
	    "collapsed": true
	   },
	   "outputs": [],
"source": [
"//Example 3.5\n",
"//Gauss-Jordan Method\n",
"//Page no. 57\n",
"\n",
"clc;clear;close;\n",
"\n",
"A=[1,2,1,8;2,3,4,20;4,3,2,16];     //augmented matrix\n",
"\n",
"for i=1:3\n",
"    j=i\n",
"    while (A(i,i)==0 & j<=3)\n",
"        for k=1:4\n",
"            B(1,k)=A(j+1,k)\n",
"            A(j+1,k)=A(i,k)\n",
"            A(i,k)=B(1,k)\n",
"        end\n",
"        disp(A)\n",
"        j=j+1\n",
"    end\n",
"    for k=4:-1:i\n",
"        A(i,k)=A(i,k)/A(i,i)\n",
"    end\n",
"    disp(A)\n",
"    for k=1:3\n",
"        if(k~=i) then\n",
"           l=A(k,i)/A(i,i)\n",
"           for m=i:4\n",
"               A(k,m)=A(k,m)-l*A(i,m)\n",
"           end\n",
"        end\n",
"       \n",
"    end\n",
"    disp(A)\n",
"end\n",
"\n",
"for i=1:3\n",
"    printf('\nx(%i) = %g\n',i,A(i,4))\n",
"end"
   ]
   }
,
{
		   "cell_type": "markdown",
		   "metadata": {},
		   "source": [
			"## Example 3.6: Gauss_Jordan_Method.sce"
		   ]
		  },
  {
"cell_type": "code",
	   "execution_count": null,
	   "metadata": {
	    "collapsed": true
	   },
	   "outputs": [],
"source": [
"//Example 3.6\n",
"//Gauss-Jordan Method\n",
"//Page no. 57\n",
"\n",
"clc;clear;close;\n",
"\n",
"A=[10,1,1,12;1,10,1,12;1,1,10,12];     //augmented matrix\n",
"\n",
"for i=1:3\n",
"    j=i\n",
"    while (A(i,i)==0 & j<=3)\n",
"        for k=1:4\n",
"            B(1,k)=A(j+1,k)\n",
"            A(j+1,k)=A(i,k)\n",
"            A(i,k)=B(1,k)\n",
"        end\n",
"        disp(A)\n",
"        j=j+1\n",
"    end\n",
"    for k=4:-1:i\n",
"        A(i,k)=A(i,k)/A(i,i)\n",
"    end\n",
"    disp(A)\n",
"    for k=1:3\n",
"        if(k~=i) then\n",
"           l=A(k,i)/A(i,i)\n",
"           for m=i:4\n",
"               A(k,m)=A(k,m)-l*A(i,m)\n",
"           end\n",
"        end\n",
"       \n",
"    end\n",
"    disp(A)\n",
"end\n",
"\n",
"for i=1:3\n",
"    printf('\nx(%i) = %g\n',i,A(i,4))\n",
"end"
   ]
   }
,
{
		   "cell_type": "markdown",
		   "metadata": {},
		   "source": [
			"## Example 3.7: Gauss_Jordan_Method.sce"
		   ]
		  },
  {
"cell_type": "code",
	   "execution_count": null,
	   "metadata": {
	    "collapsed": true
	   },
	   "outputs": [],
"source": [
"//Example 3.7\n",
"//Gauss-Jordan Method\n",
"//Page no. 58\n",
"\n",
"clc;clear;close;\n",
"\n",
"A=[1,1,1,9;2,-3,4,13;3,4,5,40];     //augmented matrix\n",
"\n",
"for i=1:3\n",
"    j=i\n",
"    while (A(i,i)==0 & j<=3)\n",
"        for k=1:4\n",
"            B(1,k)=A(j+1,k)\n",
"            A(j+1,k)=A(i,k)\n",
"            A(i,k)=B(1,k)\n",
"        end\n",
"        disp(A)\n",
"        j=j+1\n",
"    end\n",
"    for k=4:-1:i\n",
"        A(i,k)=A(i,k)/A(i,i)\n",
"    end\n",
"    disp(A)\n",
"    for k=1:3\n",
"        if(k~=i) then\n",
"           l=A(k,i)/A(i,i)\n",
"           for m=i:4\n",
"               A(k,m)=A(k,m)-l*A(i,m)\n",
"           end\n",
"        end\n",
"       \n",
"    end\n",
"    disp(A)\n",
"end\n",
"\n",
"for i=1:3\n",
"    printf('\nx(%i) = %g\n',i,A(i,4))\n",
"end"
   ]
   }
,
{
		   "cell_type": "markdown",
		   "metadata": {},
		   "source": [
			"## Example 3.8: Triangularization_Method.sce"
		   ]
		  },
  {
"cell_type": "code",
	   "execution_count": null,
	   "metadata": {
	    "collapsed": true
	   },
	   "outputs": [],
"source": [
"//Example 3.8\n",
"//Triangularization Method\n",
"//Page no. 60\n",
"clc;clear;close;\n",
"\n",
"A=[1,2,3;2,5,2;3,1,5];\n",
"B=[14;18;20];\n",
"printf('A can be factorizaed as follows:\n')\n",
"printf('\tL\t\t  *\t\tU\t\t  =\t\tA')\n",
"U(2,1)=0;U(3,1)=0;U(3,2)=0;\n",
"L(1,2)=0;L(1,3)=0;L(2,3)=0;\n",
"for i=1:3\n",
"    L(i,i)=1\n",
"end\n",
"for i=1:3\n",
"    U(1,i)=A(1,i)\n",
"end\n",
"L(2,1)=A(1,2)/U(1,1);\n",
"for i=2:3\n",
"    U(2,i)=A(2,i)-U(1,i)*L(2,1);\n",
"end\n",
"L(3,1)=A(1,3)/U(1,1);\n",
"L(3,2)=(A(3,2)-U(1,2)*L(3,1))/U(2,2);\n",
"U(3,3)=A(3,3)-U(1,3)*L(3,1)-U(2,3)*L(3,2);\n",
"printf('\n')\n",
"for i=1:3\n",
"    for j=1:3\n",
"        printf('%.2f\t',L(i,j))\n",
"    end\n",
"    \n",
"    if(i==2)\n",
"        printf('  *     ')\n",
"    else\n",
"        printf('\t')\n",
"    end\n",
"    \n",
"    for j=1:3\n",
"        printf('%.2f\t',U(i,j))\n",
"    end\n",
"    if(i==2)\n",
"        printf('  =     ')\n",
"    else\n",
"        printf('\t')\n",
"    end\n",
"    for j=1:3\n",
"        printf('%.2f\t',A(i,j))\n",
"    end\n",
"    printf('\n')\n",
"end\n",
"printf('\nY=U*X')\n",
"    Y=inv(L)*B\n",
"    X=inv(U)*Y\n",
"printf('\n\nX=')\n",
"for i=1:3\n",
"    printf('\n   %i',X(i,1))\n",
"end"
   ]
   }
,
{
		   "cell_type": "markdown",
		   "metadata": {},
		   "source": [
			"## Example 3.9: Triangularization_Method.sce"
		   ]
		  },
  {
"cell_type": "code",
	   "execution_count": null,
	   "metadata": {
	    "collapsed": true
	   },
	   "outputs": [],
"source": [
"//Example 3.9\n",
"//Triangularization Method\n",
"//Page no. 61\n",
"clc;clear;close;\n",
"\n",
"A=[1,2,3;2,5,2;3,1,5];\n",
"B=[14;18;20];\n",
"printf('A =\n')\n",
"\n",
"U(2,1)=0;U(3,1)=0;U(3,2)=0;\n",
"L(1,2)=0;L(1,3)=0;L(2,3)=0;\n",
"for i=1:3\n",
"    L(i,i)=1\n",
"end\n",
"for i=1:3\n",
"    U(1,i)=A(1,i)\n",
"end\n",
"L(2,1)=A(1,2)/U(1,1);\n",
"for i=2:3\n",
"    U(2,i)=A(2,i)-U(1,i)*L(2,1);\n",
"end\n",
"L(3,1)=A(1,3)/U(1,1);\n",
"L(3,2)=(A(3,2)-U(1,2)*L(3,1))/U(2,2);\n",
"U(3,3)=A(3,3)-U(1,3)*L(3,1)-U(2,3)*L(3,2);\n",
"printf('\n')\n",
"for i=1:3\n",
"    for j=1:3\n",
"        printf('%.2f\t',L(i,j))\n",
"    end\n",
"    \n",
"    if(i==2)\n",
"        printf('  *     ')\n",
"    else\n",
"        printf('\t')\n",
"    end\n",
"    \n",
"    for j=1:3\n",
"        printf('%.2f\t',U(i,j))\n",
"    end\n",
"    printf('\n')\n",
"end\n",
"\n",
"    Y=inv(L)*B\n",
"    X=inv(U)*Y\n",
"printf('\n\nX=')\n",
"for i=1:3\n",
"    printf('\n   %i',X(i,1))\n",
"end"
   ]
   }
],
"metadata": {
		  "kernelspec": {
		   "display_name": "Scilab",
		   "language": "scilab",
		   "name": "scilab"
		  },
		  "language_info": {
		   "file_extension": ".sce",
		   "help_links": [
			{
			 "text": "MetaKernel Magics",
			 "url": "https://github.com/calysto/metakernel/blob/master/metakernel/magics/README.md"
			}
		   ],
		   "mimetype": "text/x-octave",
		   "name": "scilab",
		   "version": "0.7.1"
		  }
		 },
		 "nbformat": 4,
		 "nbformat_minor": 0
}
