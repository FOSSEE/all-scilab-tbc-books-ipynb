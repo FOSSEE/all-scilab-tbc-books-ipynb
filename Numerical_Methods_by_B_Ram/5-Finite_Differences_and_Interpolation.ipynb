{
"cells": [
 {
		   "cell_type": "markdown",
	   "metadata": {},
	   "source": [
       "# Chapter 5: Finite Differences and Interpolation"
	   ]
	},
{
		   "cell_type": "markdown",
		   "metadata": {},
		   "source": [
			"## Example 5.11: Finite_Differences.sce"
		   ]
		  },
  {
"cell_type": "code",
	   "execution_count": null,
	   "metadata": {
	    "collapsed": true
	   },
	   "outputs": [],
"source": [
"//Example 5.11\n",
"//Finite Differences\n",
"//Page no. 136\n",
"clc;close;clear;\n",
"printf('   x\t f(x)\tdf(x)  d2f(x)  d3f(x) d4f(x)\n')\n",
"printf('------------------------------------------------------------------------------------------')\n",
"x=[0,-5;1,1;2,9;3,25;4,55;5,105]\n",
"for i=3:6\n",
"    for j=1:8-i\n",
"        x(j,i)=x(j+1,i-1)-x(j,i-1)\n",
"    end\n",
"end\n",
"disp(x)\n",
"x1=poly(0,'x')\n",
"fx=x(1,2)+x1*x(1,3)+(x1^2-x1)*x(1,4)/2+(x1^3-3*x1^2+2*x1)*x(1,5)/6\n",
"disp('is the required polynomial',fx)"
   ]
   }
,
{
		   "cell_type": "markdown",
		   "metadata": {},
		   "source": [
			"## Example 5.16: Finite_Differences.sce"
		   ]
		  },
  {
"cell_type": "code",
	   "execution_count": null,
	   "metadata": {
	    "collapsed": true
	   },
	   "outputs": [],
"source": [
"//Example 5.16\n",
"//Finite Differences\n",
"//Page no. 138\n",
"clc;close;clear;\n",
"\n",
"printf('   x\tf(x)\tdf(x)  d2f(x)  d3f(x) d4f(x)\n')\n",
"printf('----------------------------------------------\n')\n",
"x=[0,1;1,-1;2,1;3,-1;4,1;5,0;6,0;7,0];\n",
"for i=3:6\n",
"    for j=1:8-i\n",
"        if x(j+1,i-1)~=0 then\n",
"            x(j,i)=x(j+1,i-1)-x(j,i-1)\n",
"        end\n",
"    end\n",
"end\n",
"k=-9;\n",
"for i=1:8\n",
"    printf('    ')\n",
"    for j=1:6\n",
"        if i==j+k then\n",
"            break\n",
"        elseif x(i,j)==0 & j~=1 & j~=2 then\n",
"            printf('d%iy%i\t',j-1,i-1)\n",
"        elseif x(i,j)==0 & i~=1\n",
"            printf('y%i\t',i-1)\n",
"        else\n",
"            printf('%i\t',x(i,j))\n",
"        end\n",
"    end\n",
"    printf('\n')\n",
"    k=k+2\n",
"end\n",
"x1=poly(0,'x')\n",
"fx=x(1,2)+x1*x(1,3)+(x1^2-x1)*x(1,4)/2+(x1^3-3*x1^2+2*x1)*x(1,5)/6\n",
"for i=1:3\n",
"    x(1+i,6)=16;\n",
"    printf('\nd5y%i = 16',i)\n",
"end\n",
"printf('\nElements should be constant\n\n');\n",
"i=1;k=2;\n",
"for j=5:-1:2\n",
"    while i<4\n",
"        x(k+1,j)=x(k,j)+x(k,j+1);\n",
"        if j>2 then\n",
"            printf('\nd%iy%i = %i',j-1,k,x(k+1,j))\n",
"        else\n",
"            printf('\ny%i = %i',k,x(k+1,j))\n",
"        end\n",
"        k=k+1;\n",
"        i=i+1;\n",
"    end\n",
"    i=1;k=k-2;\n",
"end"
   ]
   }
,
{
		   "cell_type": "markdown",
		   "metadata": {},
		   "source": [
			"## Example 5.17: Error_Propagatio.sce"
		   ]
		  },
  {
"cell_type": "code",
	   "execution_count": null,
	   "metadata": {
	    "collapsed": true
	   },
	   "outputs": [],
"source": [
"//Example 5.17\n",
"//Error Propagation\n",
"//Page no. 140\n",
"clc;close;clear;\n",
"printf('   x\t     y\t\tdy\td2y\t   d3y\t        d4y\t  d5y\n')\n",
"printf('------------------------------------------------------------------------------------------')\n",
"x=[1,1;1.1,1.5191;1.2,2.0736;1.3,2.6611;1.4,3.2816;1.5,3.9375;1.6,4.6363;1.7,5.3771;1.8,6.1776;1.9,7.0471;2,8]\n",
"for i=3:7\n",
"    for j=1:13-i\n",
"        x(j,i)=x(j+1,i-1)-x(j,i-1)\n",
"    end\n",
"end\n",
"disp(x)\n",
"for i=1:11\n",
"    if abs(x(i,7))<10^-5 then\n",
"        continue\n",
"    else\n",
"        break\n",
"    end\n",
"end\n",
"printf('\n\Therefore the error is in the value corresponding to %g i.e. %g',x(i+5,1),x(i+5,2))"
   ]
   }
,
{
		   "cell_type": "markdown",
		   "metadata": {},
		   "source": [
			"## Example 5.18: Error_Propagatio.sce"
		   ]
		  },
  {
"cell_type": "code",
	   "execution_count": null,
	   "metadata": {
	    "collapsed": true
	   },
	   "outputs": [],
"source": [
"//Example 5.18\n",
"//Error Propagation\n",
"//Page no. 141\n",
"clc;close;clear;\n",
"printf('   x\t     y\t\tdy\td2y\t   d3y\t        d4y\t  d5y\n')\n",
"printf('------------------------------------------------------------------------------------------')\n",
"x=[0,2;1,5;2,8;3,17;4,38;5,75;6,140;7,233;8,362;9,533;10,752]\n",
"for i=3:6\n",
"    for j=1:13-i\n",
"        x(j,i)=x(j+1,i-1)-x(j,i-1)\n",
"    end\n",
"end\n",
"disp(x)\n",
"for i=1:11\n",
"    if abs(x(i,6))<10^-5 then\n",
"        continue\n",
"    else\n",
"        break\n",
"    end\n",
"end\n",
"printf('\n\Therefore the error is in the value corresponding to %g i.e. %g',x(i+4,1),x(i+4,2))"
   ]
   }
,
{
		   "cell_type": "markdown",
		   "metadata": {},
		   "source": [
			"## Example 5.1: Backward_Difference_Formula.sce"
		   ]
		  },
  {
"cell_type": "code",
	   "execution_count": null,
	   "metadata": {
	    "collapsed": true
	   },
	   "outputs": [],
"source": [
"//Example 5.1\n",
"//Backward Difference Formula\n",
"//Page no. 124\n",
"clc;close;clear;\n",
"printf('\tx\t\ty\t1st Difference    2nd Difference  3rd Difference  4th Difference\n')\n",
"printf('-------------------------------------------------------------------------------------------------')\n",
"h=0.02;\n",
"z=[-1;0;1;2;3;4;5]\n",
"deff('y=f(x)','y=x^3-3*x^2+5*x-7')\n",
"for i=1:7\n",
"    z(i,2)=f(z(i,1))\n",
"end\n",
"for i=3:8\n",
"    for j=1:9-i\n",
"        z(j,i)=z(j+1,i-1)-z(j,i-1)\n",
"    end\n",
"end\n",
"printf('\n')\n",
"for i=1:7\n",
"    for j=1:6\n",
"        if z(i,j)==0 then\n",
"            printf('\t%i\t',z(i,j))\n",
"        else\n",
"            printf('\t%i\t',z(i,j))\n",
"        end\n",
"    end\n",
"    printf('\n')\n",
"end"
   ]
   }
,
{
		   "cell_type": "markdown",
		   "metadata": {},
		   "source": [
			"## Example 5.20: Newtons_Forward_Difference_Formula.sce"
		   ]
		  },
  {
"cell_type": "code",
	   "execution_count": null,
	   "metadata": {
	    "collapsed": true
	   },
	   "outputs": [],
"source": [
"//Example 5.20\n",
"//Newtons Forward Difference Formula\n",
"//Page no. 144\n",
"clc;close;clear;\n",
"printf(' x\t  sin x\t\t   1st\t\t   2nd\t\t   3rd\t\t   4th\t\t   5th\n\t\t\tdifference\tdifference\tdifference\tdifference\tdifference\t')\n",
"printf('\n---------------------------------------------------------------------------------------------------')\n",
"h=0.2;\n",
"z=[0.5,0.47943;0.7,0.64422;0.9,0.78333;1.1,0.89121;1.3,0.96356;1.5,0.99749]\n",
"deff('y=f(x,p)','y=z(x,2)+p*z(x,3)+p*(p+1)*z(x,4)/2+p*(p+1)*(p+2)*z(x,5)/6+p*(p+1)*(p+2)*(p+3)*z(x,6)/24')\n",
"deff('y=f1(x,p)','y=z(x,2)+p*z(x,3)+p*(p-1)*z(x,4)/2+p*(p-1)*(p-2)*z(x,5)/6+p*(p-1)*(p-2)*(p-3)*z(x,6)/24+p*(p-1)*(p-2)*(p-3)*(p-4)*z(x,7)/120')\n",
"x01=0.5;x11=0.54;\n",
"x02=1.3;x12=1.36\n",
"for i=3:7\n",
"    for j=1:8-i\n",
"        z(j,i)=z(j+1,i-1)-z(j,i-1)\n",
"    end\n",
"end\n",
"printf('\n')\n",
"for i=1:6\n",
"    for j=1:7\n",
"        if z(i,j)==0 then\n",
"            printf(' \t')\n",
"        else\n",
"            if j==1 then\n",
"                printf(' %.1f\t',z(i,j))\n",
"            else\n",
"                printf('%.7f\t',z(i,j))\n",
"            end\n",
"        end\n",
"    end\n",
"    printf('\n')\n",
"end\n",
"p=(x11-x01)/h;\n",
"disp(f1(1,p),'fp (0.54) =');\n",
"p=(x12-x02)/h;\n",
"disp(f(5,p),'fp (1.36) =');"
   ]
   }
,
{
		   "cell_type": "markdown",
		   "metadata": {},
		   "source": [
			"## Example 5.21: Newtons_Forward_Difference_Formula.sce"
		   ]
		  },
  {
"cell_type": "code",
	   "execution_count": null,
	   "metadata": {
	    "collapsed": true
	   },
	   "outputs": [],
"source": [
"//Example 5.21\n",
"//Newton's Forward Difference Formula\n",
"//Page no. 145\n",
"clc;close;clear;\n",
"printf(' x\t  f(x)\t\t   1st\t\t   2nd\t\t   3rd\t\t\n\t\t\tdifference\tdifference\tdifference\t')\n",
"printf('\n---------------------------------------------------------------------------------------------------')\n",
"h=1;\n",
"z=[0,-4;1,-1;2,2;3,11;4,32;5,71]\n",
"deff('y=f1(x,p)','y=z(x,2)+p*z(x,3)+p*(p-1)*z(x,4)/2+p*(p-1)*(p-2)*z(x,5)/6')\n",
"x01=0;x11=6;\n",
"x02=2;x12=2.5\n",
"for i=3:7\n",
"    for j=1:8-i\n",
"        z(j,i)=z(j+1,i-1)-z(j,i-1)\n",
"    end\n",
"end\n",
"printf('\n')\n",
"for i=1:6\n",
"    for j=1:5\n",
"        if z(i,j)==0 & i~=1 then\n",
"            printf(' \t')\n",
"        else\n",
"            if j==1 then\n",
"                printf(' %.1f\t',z(i,j))\n",
"            else\n",
"                printf('%.7f\t',z(i,j))\n",
"            end\n",
"        end\n",
"    end\n",
"    printf('\n')\n",
"end\n",
"x=poly(0,'x')\n",
"l=z(1,2)+x*z(1,3)+x*(x-1)*z(1,4)/2+x*(x-1)*(x-2)*z(1,5)/6\n",
"disp(l,'The required equation is :')\n",
"p=(x11-x01)/h;\n",
"disp(f1(1,p),'fp (6) =');\n",
"p=(x12-x02)/h;\n",
"disp(f1(3,p),'fp (2.5) =');"
   ]
   }
,
{
		   "cell_type": "markdown",
		   "metadata": {},
		   "source": [
			"## Example 5.22: Newtons_Forward_Difference_Formula.sce"
		   ]
		  },
  {
"cell_type": "code",
	   "execution_count": null,
	   "metadata": {
	    "collapsed": true
	   },
	   "outputs": [],
"source": [
"//Example 5.22\n",
"//Newton's Forward Difference Formula\n",
"//Page no. 147\n",
"clc;close;clear;\n",
"printf(' x\t  y\t\t   1st\t\t   2nd\t\t   3rd\t\t\n\t\t\tdifference\tdifference\tdifference\t')\n",
"printf('\n---------------------------------------------------------------------------------------------------')\n",
"h=1;\n",
"z=[0,-3;1,3;2,11;3,27;4,57;5,107]\n",
"deff('y=f1(x,p)','y=z(x,2)+p*z(x,3)+p*(p-1)*z(x,4)/2+p*(p-1)*(p-2)*z(x,5)/6')\n",
"x01=0;x11=6;\n",
"x02=2;x12=2.5\n",
"for i=3:7\n",
"    for j=1:8-i\n",
"        z(j,i)=z(j+1,i-1)-z(j,i-1)\n",
"    end\n",
"end\n",
"printf('\n')\n",
"for i=1:6\n",
"    for j=1:5\n",
"        if z(i,j)==0 & i~=1 then\n",
"            printf(' \t')\n",
"        else\n",
"            if j==1 then\n",
"                printf(' %.1f\t',z(i,j))\n",
"            else\n",
"                printf('%.7f\t',z(i,j))\n",
"            end\n",
"        end\n",
"    end\n",
"    printf('\n')\n",
"end\n",
"x=poly(0,'x')\n",
"l=z(1,2)+x*z(1,3)+x*(x-1)*z(1,4)/2+x*(x-1)*(x-2)*z(1,5)/6\n",
"disp(l,'The required equation is :')"
   ]
   }
,
{
		   "cell_type": "markdown",
		   "metadata": {},
		   "source": [
			"## Example 5.23: Newtons_Forward_Difference_Formula.sce"
		   ]
		  },
  {
"cell_type": "code",
	   "execution_count": null,
	   "metadata": {
	    "collapsed": true
	   },
	   "outputs": [],
"source": [
"//Example 5.23\n",
"//Newton's Forward Difference Formula\n",
"//Page no. 147\n",
"clc;close;clear;\n",
"printf(' x\t  y\t d1\td2\td3\td4\t')\n",
"printf('\n--------------------------------------------------------------------')\n",
"h=5;\n",
"z=[80,5026;85,5674;90,6362;95,7088;100,7854]\n",
"deff('y=f(x,p)','y=z(x,2)+p*z(x-1,3)+p*(p+1)*z(x-2,4)/2+p*(p+1)*(p+2)*z(x-3,5)/6+p*(p+1)*(p+2)*(p+3)*z(x-4,6)/24')\n",
"x01=100;x11=105;\n",
"for i=3:7\n",
"    for j=1:7-i\n",
"        z(j,i)=z(j+1,i-1)-z(j,i-1)\n",
"    end\n",
"end\n",
"printf('\n')\n",
"for i=1:5\n",
"    for j=1:6\n",
"        if z(i,j)==0 then\n",
"            printf(' \t')\n",
"        else\n",
"            if j==1 then\n",
"                printf(' %i\t',z(i,j))\n",
"            else\n",
"                printf('%i\t',z(i,j))\n",
"            end\n",
"        end\n",
"    end\n",
"    printf('\n')\n",
"end\n",
"x=poly(0,'x')\n",
"l=z(1,2)+x*z(1,3)+x*(x-1)*z(1,4)/2+x*(x-1)*(x-2)*z(1,5)/6\n",
"disp(l,'The required equation is :')\n",
"p=(x11-x01)/h;\n",
"disp(f(5,p),'fp (105) =');"
   ]
   }
,
{
		   "cell_type": "markdown",
		   "metadata": {},
		   "source": [
			"## Example 5.24: Central_Difference_Derivatives.sce"
		   ]
		  },
  {
"cell_type": "code",
	   "execution_count": null,
	   "metadata": {
	    "collapsed": true
	   },
	   "outputs": [],
"source": [
"//Example 5.24\n",
"//Central Difference Derivatives\n",
"//Page no. 160\n",
"clc;close;clear;\n",
"printf('   x\t\t    y\t\t    d\t\t    d2\t\t    d3\t\t    d4\n')\n",
"printf('---------------------------------------------------------------------------------------------')\n",
"h=0.01;s=0.5;\n",
"deff('y=f1(x,p)','y=z(x,2)+p*z(x,3)+p*(p-1)*(z(x,4)+z(x-1,4))/4')\n",
"z=[0.01,98.4342;0.02,48.4392;0.03,31.7775;0.04,23.4492;0.05,18.4542];\n",
"for i=3:6\n",
"    for j=1:7-i\n",
"        z(j,i)=z(j+1,i-1)-z(j,i-1)\n",
"    end\n",
"end\n",
"printf('\n')\n",
"for i=1:5\n",
"    for j=1:6\n",
"        if z(i,j)==0 then\n",
"            printf(' \t')\n",
"        else\n",
"            printf('%.7f\t',z(i,j))\n",
"        end\n",
"    end\n",
"    printf('\n')\n",
"end\n",
"x00=0.03;x01=0.0341;\n",
"p=(x01-x00)/h\n",
"printf('\n\nf(0.0341) = %g',f1(3,p))"
   ]
   }
,
{
		   "cell_type": "markdown",
		   "metadata": {},
		   "source": [
			"## Example 5.27: Central_Difference_Derivatives.sce"
		   ]
		  },
  {
"cell_type": "code",
	   "execution_count": null,
	   "metadata": {
	    "collapsed": true
	   },
	   "outputs": [],
"source": [
"//Example 5.27\n",
"//Divided Difference Interpolation\n",
"//Page no. 165\n",
"clc;close;clear;\n",
"\n",
"x=[-4,-1,0,2,5]\n",
"y=[1245,33,5,9,1335];\n",
"y1=y;\n",
"deff('yi=P(a,b,d,e)','yi=(b(d+1)-b(d))/(a(d+e)-a(d))')  //function for finding polynomials\n",
"for i=1:4\n",
"    for j=1:5-i\n",
"        z(j,i)=P(x,y,j,i)\n",
"         y(j)=z(j,i)\n",
"    end\n",
"end\n",
"z(6,1)=0;\n",
"printf('x\ty      f(x0,x1)     f(x0,x1,x3)    f(x0,x1,x2,x3)    f(x0,x1,x2,x3,x4)\n')\n",
"printf('---------------------------------------------------------------------------------\n')\n",
"    for j=1:5\n",
"        printf(' %i\t%i \t%i\t\t%i\t\t%i\t\t     %i\n',x(1,j),y1(1,j),z(j,1),z(j,2),z(j,3),z(j,4))\n",
"    end\n",
"    x1=poly(0,'x')\n",
"    fx=y1(1)+(x1-x(1))*z(1,1)+(x1-x(1))*(x1-x(2))*z(1,2)+(x1-x(1))*(x1-x(2))*(x1-x(3))*z(1,3)+(x1-x(1))*(x1-x(2))*(x1-x(3))*(x1-x(4))*z(1,4)\n",
"    disp(fx,'The Required Equation = ')"
   ]
   }
,
{
		   "cell_type": "markdown",
		   "metadata": {},
		   "source": [
			"## Example 5.28: Divided_Difference_Interpolation.sce"
		   ]
		  },
  {
"cell_type": "code",
	   "execution_count": null,
	   "metadata": {
	    "collapsed": true
	   },
	   "outputs": [],
"source": [
"//Example 5.28\n",
"//Divided Difference Interpolation\n",
"//Page no. 167\n",
"clc;close;clear;\n",
"\n",
"x=[-1,0,3,6,7]\n",
"y=[3,-6,39,822,1611];\n",
"y1=y;\n",
"deff('yi=P(a,b,d,e)','yi=(b(d+1)-b(d))/(a(d+e)-a(d))')  //function for finding polynomials\n",
"for i=1:4\n",
"    for j=1:5-i\n",
"        z(j,i)=P(x,y,j,i)\n",
"         y(j)=z(j,i)\n",
"    end\n",
"end\n",
"z(6,1)=0;\n",
"printf('x\ty      f(x0,x1)     f(x0,x1,x3)    f(x0,x1,x2,x3)    f(x0,x1,x2,x3,x4)\n')\n",
"printf('---------------------------------------------------------------------------------\n')\n",
"    for j=1:5\n",
"        printf(' %i\t%i \t%i\t\t%i\t\t%i\t\t     %i\n',x(1,j),y1(1,j),z(j,1),z(j,2),z(j,3),z(j,4))\n",
"    end\n",
"    x1=poly(0,'x')\n",
"    fx=y1(1)+(x1-x(1))*z(1,1)+(x1-x(1))*(x1-x(2))*z(1,2)+(x1-x(1))*(x1-x(2))*(x1-x(3))*z(1,3)+(x1-x(1))*(x1-x(2))*(x1-x(3))*(x1-x(4))*z(1,4)\n",
"    disp(fx,'The Required Equation = ')"
   ]
   }
,
{
		   "cell_type": "markdown",
		   "metadata": {},
		   "source": [
			"## Example 5.29: Divided_Difference_Interpolation.sce"
		   ]
		  },
  {
"cell_type": "code",
	   "execution_count": null,
	   "metadata": {
	    "collapsed": true
	   },
	   "outputs": [],
"source": [
"//Example 5.29\n",
"//Divided Difference Interpolation\n",
"//Page no. 167\n",
"clc;close;clear;\n",
"\n",
"x=[4,5,7,10,11,13]\n",
"y=[48,100,294,900,1210,2028];\n",
"y1=y;\n",
"deff('yi=P(a,b,d,e)','yi=(b(d+1)-b(d))/(a(d+e)-a(d))')  //function for finding polynomials\n",
"for i=1:6\n",
"    for j=1:6-i\n",
"        z(j,i)=P(x,y,j,i)\n",
"         y(j)=z(j,i)\n",
"    end\n",
"end\n",
"z(6,1)=0;\n",
"printf('x\ty      f(x0,x1)     f(x0,x1,x3)    f(x0,x1,x2,x3)    f(x0,x1,x2,x3,x4)\n')\n",
"printf('---------------------------------------------------------------------------------\n')\n",
"    for j=1:5\n",
"        printf(' %i\t%i \t%i\t\t%i\t\t%i\t\t     %i     %i\n',x(1,j),y1(1,j),z(j,1),z(j,2),z(j,3),z(j,4),z(j,5))\n",
"    end\n",
"    deff('y=f(x1)','y=y1(1)+(x1-x(1))*z(1,1)+(x1-x(1))*(x1-x(2))*z(1,2)+(x1-x(1))*(x1-x(2))*(x1-x(3))*z(1,3)')\n",
"    printf('\n\nf(8) = %g',f(8))\n",
"    printf('\n\nf(15) = %i',f(15))"
   ]
   }
,
{
		   "cell_type": "markdown",
		   "metadata": {},
		   "source": [
			"## Example 5.30: Maximum_Error_in_Interpolation.sce"
		   ]
		  },
  {
"cell_type": "code",
	   "execution_count": null,
	   "metadata": {
	    "collapsed": true
	   },
	   "outputs": [],
"source": [
"//Example 5.30\n",
"//Maximum Error in Interpolation\n",
"//Page no. 169\n",
"clc;close;clear;\n",
"s=1;\n",
"for i=0:6\n",
"    s=s*((5*%pi)/24-i*%pi/12)\n",
"end\n",
"s=s/factorial(7)\n",
"printf('Maximum Error = %g',s)"
   ]
   }
,
{
		   "cell_type": "markdown",
		   "metadata": {},
		   "source": [
			"## Example 5.32: Divided_Difference_Interpolation.sce"
		   ]
		  },
  {
"cell_type": "code",
	   "execution_count": null,
	   "metadata": {
	    "collapsed": true
	   },
	   "outputs": [],
"source": [
"//Example 5.32\n",
"//Divided Difference Interpolation\n",
"//Page no. 170\n",
"clc;close;clear;\n",
"\n",
"x=[0,1,2,4]\n",
"y=[1,3,9,81];\n",
"y1=y;\n",
"deff('yi=P(a,b,d,e)','yi=(b(d+1)-b(d))/(a(d+e)-a(d))')  //function for finding polynomials\n",
"for i=1:4\n",
"    for j=1:4-i\n",
"        z(j,i)=P(x,y,j,i)\n",
"         y(j)=z(j,i)\n",
"    end\n",
"end\n",
"z(6,1)=0;\n",
"printf('x\ty      f(x0,x1)     f(x0,x1,x3)    f(x0,x1,x2,x3)\n')\n",
"printf('-----------------------------------------------------------\n')\n",
"    for j=1:3\n",
"        printf(' %i\t%i \t%i\t\t%i\t\t%i\t\t\n',x(1,j),y1(1,j),z(j,1),z(j,2),z(j,3))\n",
"    end\n",
"    deff('y=f(x1)','y=y1(1)+(x1-x(1))*z(1,1)+(x1-x(1))*(x1-x(2))*z(1,2)+(x1-x(1))*(x1-x(2))*(x1-x(3))*z(1,3)')\n",
"    printf('\n\nf(3) = %g',f(3))"
   ]
   }
,
{
		   "cell_type": "markdown",
		   "metadata": {},
		   "source": [
			"## Example 5.36: Lagranges_Interpolation_Method.sce"
		   ]
		  },
  {
"cell_type": "code",
	   "execution_count": null,
	   "metadata": {
	    "collapsed": true
	   },
	   "outputs": [],
"source": [
"//Example 5.36\n",
"//Lagrange's Interpolation Method\n",
"//Page no. 176\n",
"clc;close;clear;\n",
"\n",
"x=[7,8,9,10]\n",
"y=[3,1,1,9]\n",
"x0=9.5\n",
"printf('\tx\ty=f(x)\n-----------------------\n')\n",
"for i=1:4\n",
"    printf('x%i\t%i\t  %i\n',i-1,x(i),y(i))\n",
"end\n",
"p=1;p1=1;i=1;\n",
"for k=1:4\n",
"    for j=1:4\n",
"        if k~=j then\n",
"            p=p*(x0-x(j))\n",
"            p1=p1*(x(k)-x(j))\n",
"        end\n",
"end\n",
"L(k)=p/p1\n",
"p=1;p1=1;\n",
"end\n",
"p=0;\n",
"for i=1:4\n",
"    printf('\n L%i (x) = %g\n',i-1,L(i))\n",
"    p=p+L(i)*y(i)\n",
"end\n",
"disp(p,'P(9.5) = ')"
   ]
   }
,
{
		   "cell_type": "markdown",
		   "metadata": {},
		   "source": [
			"## Example 5.37: Lagranges_Interpolation_Method.sce"
		   ]
		  },
  {
"cell_type": "code",
	   "execution_count": null,
	   "metadata": {
	    "collapsed": true
	   },
	   "outputs": [],
"source": [
"//Example 5.37\n",
"//Lagranges Interpolation Method\n",
"//Page no. 177\n",
"clc;close;clear;\n",
"\n",
"x=[0,1,2,5]\n",
"y=[2,3,12,147]\n",
"x0=poly(0,'x')\n",
"printf('\tx\ty=f(x)\n-----------------------\n')\n",
"for i=1:4\n",
"    printf('x%i\t%i\t  %i\n',i-1,x(i),y(i))\n",
"end\n",
"p=1;p1=1;i=1;\n",
"for k=1:4\n",
"    for j=1:4\n",
"        if k~=j then\n",
"            p=p*(x0-x(j))\n",
"            p1=p1*(x(k)-x(j))\n",
"        end\n",
"end\n",
"L(k)=p/p1\n",
"p=1;p1=1;\n",
"end\n",
"p=0;\n",
"for i=1:4\n",
"    disp(L(i),'L(x) = ')\n",
"    p=p+L(i)*y(i)\n",
"end\n",
"disp(p,'P(x) = ')"
   ]
   }
,
{
		   "cell_type": "markdown",
		   "metadata": {},
		   "source": [
			"## Example 5.38: Lagranges_Interpolation_Method.sce"
		   ]
		  },
  {
"cell_type": "code",
	   "execution_count": null,
	   "metadata": {
	    "collapsed": true
	   },
	   "outputs": [],
"source": [
"//Example 5.38\n",
"//Lagranges Interpolation Method\n",
"//Page no. 178\n",
"clc;close;clear;\n",
"\n",
"x=[1,2,3,4,7]\n",
"y=[2,4,8,16,128]\n",
"x0=5\n",
"printf('\tx\ty=f(x)\n-----------------------\n')\n",
"for i=1:5\n",
"    printf('x%i\t%i\t  %i\n',i-1,x(i),y(i))\n",
"end\n",
"p=1;p1=1;i=1;\n",
"for k=1:5\n",
"    for j=1:5\n",
"        if k~=j then\n",
"            p=p*(x0-x(j))\n",
"            p1=p1*(x(k)-x(j))\n",
"        end\n",
"end\n",
"L(k)=p/p1\n",
"p=1;p1=1;\n",
"end\n",
"p=0;\n",
"for i=1:5\n",
"    printf('\n L%i (x) = %g\n',i-1,L(i))\n",
"    p=p+L(i)*y(i)\n",
"end\n",
"disp(p,'P(5) = ')"
   ]
   }
,
{
		   "cell_type": "markdown",
		   "metadata": {},
		   "source": [
			"## Example 5.39: Hermite_Interpolation_Method.sce"
		   ]
		  },
  {
"cell_type": "code",
	   "execution_count": null,
	   "metadata": {
	    "collapsed": true
	   },
	   "outputs": [],
"source": [
"//Example 5.39\n",
"//Hermite Interpolation Method\n",
"//Page no. 181\n",
"clc;close;clear;\n",
"\n",
"x=[-1,0,1]\n",
"y=[-10,-4,-2]\n",
"y1=[10,3,2]\n",
"x0=poly(0,'x')\n",
"printf('\tx\ty=f(x)\n-----------------------\n')\n",
"for i=1:3\n",
"    printf('x%i\t%i\t  %i\n',i-1,x(i),y(i))\n",
"end\n",
"p=1;p1=1;i=1;\n",
"for k=1:3\n",
"    for j=1:3\n",
"        if k~=j then\n",
"            p=p*(x0-x(j))\n",
"            p1=p1*(x(k)-x(j))\n",
"        end\n",
"end\n",
"L(k)=p/p1\n",
"p=1;p1=1;\n",
"end\n",
"p=0;\n",
"L1=[-3/2,0,3/2]\n",
"for i=1:3\n",
"    disp(L(i),'L(x) = ')\n",
"    p=p+(1-2*L1(i)*(x0-x(i)))*L(i)^2*y(i)+(x0-x(i))*((L(i))^2)*y1(i)\n",
"end\n",
"disp(p,'P(x) = ')"
   ]
   }
,
{
		   "cell_type": "markdown",
		   "metadata": {},
		   "source": [
			"## Example 5.3: Factorial_Notation_Method.sce"
		   ]
		  },
  {
"cell_type": "code",
	   "execution_count": null,
	   "metadata": {
	    "collapsed": true
	   },
	   "outputs": [],
"source": [
"//Example 5.3\n",
"//Factorial Notation Method\n",
"//Page no. 131\n",
"clc;close;clear;\n",
"\n",
"h=0.00000001;h1=0000000.1\n",
"deff('y=f(x)','y=x^3-2*x^2+x-1')\n",
"deff('y=f1(x)','y=x*(x-1)*(x-2)')\n",
"deff('y=f2(x)','y=x*(x-1)')\n",
"for i=0:2\n",
"    A(i+1,1)=f2(i);\n",
"    A(i+1,2)=i;\n",
"    A(i+1,3)=1\n",
"    B(i+1,1)=f(i)-f1(i)\n",
"end\n",
"x=poly(0,'x')\n",
"C=inv(A)*B\n",
"disp(C(3),'+',C(2)*x,'+',C(1)*f2(x),'+',f(x))\n",
"printf('\n\nf(x) = ')\n",
"deff('y=f3(x)','y=C(3)+C(2)*x+C(1)*f2(x)+f(x)')\n",
"disp(f3(x))\n",
"deff('y=f4(x)','y=(f3(x+h)-f3(x))/h')   //1st derivative\n",
"disp(f4(x),'dx = ')\n",
"deff('y=f5(x)','y=(f4(x+h1)-f4(x))/h1')   //2nd derivative\n",
"disp(f5(x),'d2x = ')\n",
"deff('y=f6(x)','y=(f5(x+h1)-f5(x))/h1')   //3rd derivative\n",
"disp(f6(x),'d3x = ')\n",
"deff('y=f7(x)','y=(f6(x+h1)-f6(x))/h1')   //4th derivative\n",
"disp(f7(x),'d4x = ')"
   ]
   }
,
{
		   "cell_type": "markdown",
		   "metadata": {},
		   "source": [
			"## Example 5.40: Hermite_Interpolation_Method.sce"
		   ]
		  },
  {
"cell_type": "code",
	   "execution_count": null,
	   "metadata": {
	    "collapsed": true
	   },
	   "outputs": [],
"source": [
"//Example 5.40\n",
"//Hermite Interpolation Method\n",
"//Page no. 182\n",
"clc;close;clear;\n",
"\n",
"x=[0,1,2]\n",
"y=[1,3,21]\n",
"y1=[0,6,36]\n",
"x0=poly(0,'x')\n",
"printf('\tx\ty=f(x)\n-----------------------\n')\n",
"for i=1:3\n",
"    printf('x%i\t%i\t  %i\n',i-1,x(i),y(i))\n",
"end\n",
"p=1;p1=1;i=1;\n",
"for k=1:3\n",
"    for j=1:3\n",
"        if k~=j then\n",
"            p=p*(x0-x(j))\n",
"            p1=p1*(x(k)-x(j))\n",
"        end\n",
"end\n",
"L(k)=p/p1\n",
"p=1;p1=1;\n",
"end\n",
"p=0;\n",
"L1=[-3/2,0,3/2]\n",
"for i=1:3\n",
"    disp(L(i),'L(x) = ')\n",
"    p=p+(1-2*L1(i)*(x0-x(i)))*L(i)^2*y(i)+(x0-x(i))*((L(i))^2)*y1(i)\n",
"end\n",
"disp(p,'P(x) = ')"
   ]
   }
,
{
		   "cell_type": "markdown",
		   "metadata": {},
		   "source": [
			"## Example 5.41: Piecewise_Cubic_Hermite_Interpolation_Method.sce"
		   ]
		  },
  {
"cell_type": "code",
	   "execution_count": null,
	   "metadata": {
	    "collapsed": true
	   },
	   "outputs": [],
"source": [
"//Example 5.41\n",
"//Piecewise Cubic Hermite Interpolation Method\n",
"//Page no. 182\n",
"clc;close;clear;\n",
"\n",
"x=[0,1]\n",
"y=[1,3]\n",
"y1=[0,6]\n",
"x0=poly(0,'x')\n",
"printf('\tx\ty=f(x)\n-----------------------\n')\n",
"for i=1:2\n",
"    printf('x%i\t%i\t  %i\n',i-1,x(i),y(i))\n",
"end\n",
"p=1;p1=1;i=1;\n",
"for k=1:2\n",
"    for j=1:2\n",
"        if k~=j then\n",
"            p=p*(x0-x(j))\n",
"            p1=p1*(x(k)-x(j))\n",
"        end\n",
"end\n",
"L(k)=p/p1\n",
"p=1;p1=1;\n",
"end\n",
"p=0;\n",
"L1=[-1,1]\n",
"for i=1:2\n",
"    disp(L(i),'L(x) = ')\n",
"    p=p+(1-2*L1(i)*(x0-x(i)))*L(i)^2*y(i)+(x0-x(i))*((L(i))^2)*y1(i)\n",
"end\n",
"disp(p,'P2(x) = ')\n",
"printf('\n\n\n\n\n')\n",
"x=[1,2]\n",
"y=[3,21]\n",
"y1=[6,36]\n",
"x0=poly(0,'x')\n",
"printf('\tx\ty=f(x)\n-----------------------\n')\n",
"for i=1:2\n",
"    printf('x%i\t%i\t  %i\n',i-1,x(i),y(i))\n",
"end\n",
"p=1;p1=1;i=1;\n",
"for k=1:2\n",
"    for j=1:2\n",
"        if k~=j then\n",
"            p=p*(x0-x(j))\n",
"            p1=p1*(x(k)-x(j))\n",
"        end\n",
"end\n",
"L(k)=p/p1\n",
"p=1;p1=1;\n",
"end\n",
"p=0;\n",
"L1=[-1,1]\n",
"for i=1:2\n",
"    disp(L(i),'L(x) = ')\n",
"    p=p+(1-2*L1(i)*(x0-x(i)))*L(i)^2*y(i)+(x0-x(i))*((L(i))^2)*y1(i)\n",
"end\n",
"disp(p,'P3(x) = ')"
   ]
   }
,
{
		   "cell_type": "markdown",
		   "metadata": {},
		   "source": [
			"## Example 5.43: Inverse_Interpolation_using_Newtons_Forward_Difference_Formula.sce"
		   ]
		  },
  {
"cell_type": "code",
	   "execution_count": null,
	   "metadata": {
	    "collapsed": true
	   },
	   "outputs": [],
"source": [
"//Example 5.43\n",
"//Inverse Interpolation using Newton's Forward Difference Formula\n",
"//Page no. 189\n",
"clc;close;clear;\n",
"printf(' \tx\ty\td\td2\td3\n')\n",
"printf('\t-----------------------------------')\n",
"h=1;\n",
"z=[2,8;3,27;4,64;5,125];\n",
"deff('y=f1(x,s)','y=(z(x,3)+(s-1/2)*z(x,4)+z(x,5)*(3*s^2-6*s+2)/6)/h')\n",
"deff('y=f2(x,s)','y=(z(x,4)+z(x,5)*(s-1))/h^2')\n",
"deff('y=f3(x,s)','y=z(x,5)/h^3')\n",
"for i=3:5\n",
"    for j=1:6-i\n",
"        z(j,i)=z(j+1,i-1)-z(j,i-1)\n",
"    end\n",
"end\n",
"printf('\n')\n",
"for i=1:4\n",
"    for j=1:5\n",
"        if z(i,j)==0 then\n",
"            printf(' \t')\n",
"        else\n",
"            printf('\t%g',z(i,j))\n",
"        end\n",
"    end\n",
"    printf('\n')\n",
"end\n",
"fp=10;\n",
"f0=z(1,2);x0=z(1,1);x=fp-f0;p=(z(2,1)-z(1,1))/h;y=0;k=1;p=1;\n",
"for i=1:5\n",
"    if i>3 then\n",
"        l=3;\n",
"    else\n",
"        l=i;\n",
"    end\n",
"    for j=1:l\n",
"        for k=j:-1:2\n",
"            if k==j then\n",
"                y=1;\n",
"            end\n",
"            y=y*(p-(k-1))\n",
"        end\n",
"        y=y*z(1,j+2)*p/factorial(j);\n",
"        x=x-y;\n",
"    end\n",
"    p=(x)/z(1,3)\n",
"    x=fp-f0;y=0;\n",
"    printf('\n  p%i = %g\n',i,p)\n",
"end\n",
"printf('\n\n  Hence, x = x0+ph = %g ',x+p*h)"
   ]
   }
,
{
		   "cell_type": "markdown",
		   "metadata": {},
		   "source": [
			"## Example 5.44: Inverse_Interpolation_using_Everett_Formula.sce"
		   ]
		  },
  {
"cell_type": "code",
	   "execution_count": null,
	   "metadata": {
	    "collapsed": true
	   },
	   "outputs": [],
"source": [
"//Example 5.44\n",
"//Inverse Interpolation using Everett Formula\n",
"//Page no. 191\n",
"clc;close;clear;\n",
"printf(' \tx\td(log(x!)/dx)\t\td2\t    d4\n')\n",
"printf('\t----------------------------------------------------')\n",
"x=[0.46,-0.0015805620,-0.0000888096,-0.000000396;0.47,0.0080664890,-0.0000872716,-0.0000000383];\n",
"h=0.001\n",
"for i=1:2\n",
"    printf('\n')\n",
"    for j=1:4\n",
"        printf('\t%g',x(i,j))\n",
"    end\n",
"end\n",
"p(1)=-(x(1,2))/(x(2,2)-x(1,2))\n",
"for i=1:2\n",
"    p(i+1)=(-x(1,2)-(p(i)^3-p(i))*x(1,3)/6-(-p(i)^3+3*p(i)^2-2*p(i))*x(1,3)/6)/(x(2,2)-x(1,2))\n",
"end\n",
"for i=1:3\n",
"    printf('\n\n p(%i) = %g',i,p(i))\n",
"end\n",
"x=x(1,1)+p(3)*h\n",
"printf('\n\n   x = x0 + ph = %.8g',x);"
   ]
   }
,
{
		   "cell_type": "markdown",
		   "metadata": {},
		   "source": [
			"## Example 5.45: Inverse_Lagrange_Method.sce"
		   ]
		  },
  {
"cell_type": "code",
	   "execution_count": null,
	   "metadata": {
	    "collapsed": true
	   },
	   "outputs": [],
"source": [
"//Example 5.45\n",
"//Inverse Lagrange Method\n",
"//Page no. 192\n",
"clc;close;clear;\n",
"\n",
"x=[30,34,38,42];\n",
"y=[-30,-13,3,18];\n",
"P=0;\n",
"y1=0;\n",
"for k=0:3\n",
"    p=1\n",
"    for j=0:3\n",
"        if(j~=k)\n",
"            p=p*((y1-y(j+1))/(y(k+1)-y(j+1)))\n",
"        end\n",
"    end\n",
"    printf('\n  L%i(f) = %g\n',k,p)\n",
"    p=p*x(k+1)\n",
"    P=P+p;\n",
"end\n",
"disp(P,'Inverse Lagrange interpolation x=')"
   ]
   }
,
{
		   "cell_type": "markdown",
		   "metadata": {},
		   "source": [
			"## Example 5.46: Newtons_Divided_Difference_Interpolation.sce"
		   ]
		  },
  {
"cell_type": "code",
	   "execution_count": null,
	   "metadata": {
	    "collapsed": true
	   },
	   "outputs": [],
"source": [
"//Example 5.46\n",
"//Newton's Divided Difference Interpolation\n",
"//Page no. 192\n",
"clc;close;clear;\n",
"\n",
"x=[3,3.6,3.8]\n",
"y=[0.13515,0.83059,0.26253];\n",
"deff('y=f1(x1,x2,y1,y2)','y=(y2-y1)/(x2-x1)');\n",
"deff('y=f2(x1,x2,x3,y1,y2,y3)','y=(f1(x2,x3,y2,y3)-f1(x1,x2,y1,y2))/(x3-x1)');\n",
"function [x]=f(x1,x2,x3,y1,y2,y3)\n",
"    x=(x1+2*x2+x3)/4-(f1(x1,x2,y1,y2)+f1(x2,x3,y2,y3))/(4*f2(x1,x2,x3,y1,y2,y3))\n",
"endfunction\n",
"disp(f1(x(1),x(2),y(1),y(2)),' f(x1,x2) = ')\n",
"disp(f1(x(2),x(3),y(2),y(3)),' f(x2,x3) = ')\n",
"disp(f2(x(1),x(2),x(3),y(1),y(2),y(3)),' f(x1,x2,x3) = ')\n",
"disp(f(x(1),x(2),x(3),y(1),y(2),y(3)),' x0 = ')"
   ]
   }
,
{
		   "cell_type": "markdown",
		   "metadata": {},
		   "source": [
			"## Example 5.47: Bessel_Interpolation.sce"
		   ]
		  },
  {
"cell_type": "code",
	   "execution_count": null,
	   "metadata": {
	    "collapsed": true
	   },
	   "outputs": [],
"source": [
"//Example 5.47\n",
"//Bessel Interpolation\n",
"//Page no. 194\n",
"clc;close;clear;\n",
"\n",
"deff('y=f(x)','y=x^3-15*x+4');\n",
"h=0.02;p=1;\n",
"for i=1:9\n",
"    z(i,1)=0.22+(i-1)*h\n",
"    z(i,2)=f(z(i))\n",
"end\n",
"printf('   x\t\t   f(x) \t    d\t\t    d2\t\t    d3\t\t    d4\n')\n",
"printf('--------------------------------------------------------------------------------------------')\n",
"for i=3:6\n",
"    for j=1:11-i\n",
"        z(j,i)=z(j+1,i-1)-z(j,i-1)\n",
"    end\n",
"end\n",
"printf('\n')\n",
"for i=1:9\n",
"    for j=1:6\n",
"        if z(i,j)==0 then\n",
"            printf(' \t')\n",
"        else\n",
"            printf('%.7f\t',z(i,j))\n",
"        end\n",
"    end\n",
"    printf('\n')\n",
"end\n",
"for l=1:8\n",
"    if abs(z(l+1,2))/z(l+1,2)~=abs(z(l,2))/z(l,2) then\n",
"        break;\n",
"    else\n",
"        l=9;\n",
"    end\n",
"end\n",
"function [y]=f1(x,p1)\n",
"    if x==1 then\n",
"        y=z(l,2)\n",
"    elseif x==2\n",
"        y=z(l,2)+(p1*(p1-1))/factorial(2)*((z(l-1,4)+z(l,4))/2)\n",
"    elseif x==3\n",
"        y=z(l,2)+(p1*(p1-1))/factorial(2)*((z(l-1,4)+z(l,4))/2)+(p1*(p1-1)*(p1-0.5))/factorial(3)*(z(l,5))\n",
"    end\n",
"endfunction\n",
"for i=1:3\n",
"    p=-(f1(i,p))/z(l,3)\n",
"    printf('\n   p%i = %g\n',i,p)\n",
"end\n",
"x=z(l,1)+p*h;\n",
"printf(' \n\n   x = x0 + ph = %g+(%g)(%g) = %g',z(l,1),p,h,x)"
   ]
   }
,
{
		   "cell_type": "markdown",
		   "metadata": {},
		   "source": [
			"## Example 5.48: Chebyshev_Polynomial.sce"
		   ]
		  },
  {
"cell_type": "code",
	   "execution_count": null,
	   "metadata": {
	    "collapsed": true
	   },
	   "outputs": [],
"source": [
"//Example 5.48\n",
"//Chebyshev Polynomial\n",
"//Page no. 199\n",
"clc;close;clear;\n",
"\n",
"deff('y=f(x)','y=4*x^3+2*x^2');\n",
"n=4;\n",
"for i=3:-1:0\n",
"    x(i+1)=cosd(((2*i+1)*%pi)/(2*n))\n",
"    printf('\n  x(%i) = %g\n',i,x(i+1))\n",
"end"
   ]
   }
,
{
		   "cell_type": "markdown",
		   "metadata": {},
		   "source": [
			"## Example 5.50: Spline_Interpolation.sce"
		   ]
		  },
  {
"cell_type": "code",
	   "execution_count": null,
	   "metadata": {
	    "collapsed": true
	   },
	   "outputs": [],
"source": [
"//Example 5.50\n",
"//Spline Interpolation\n",
"//Page no. 204\n",
"clc;close;clear;\n",
"\n",
"xi=[1,2,3];\n",
"yi=[-1,4,21];\n",
"x=poly(0,'x')\n",
"deff('y=S(x0,x1)','y=(x-xi(x1))*yi(x0)/(xi(x0)-xi(x1))+(x-xi(x0))*yi(x1)/(xi(x1)-xi(x0))');\n",
"S1=S(1,2);\n",
"S2=S(2,3);\n",
"printf('\n The required Spline is : \n')\n",
"disp(S2,'S2 = ',S1,'S1 = ');"
   ]
   }
,
{
		   "cell_type": "markdown",
		   "metadata": {},
		   "source": [
			"## Example 5.51: Spline_Interpolation.sce"
		   ]
		  },
  {
"cell_type": "code",
	   "execution_count": null,
	   "metadata": {
	    "collapsed": true
	   },
	   "outputs": [],
"source": [
"//Example 5.51\n",
"//Spline Interpolation\n",
"//Page no. 204\n",
"clc;close;clear;\n",
"\n",
"xi=[1,2,3];\n",
"yi=[-6,-1,16];\n",
"h=1;n=2;\n",
"x=poly(0,'x')\n",
"m(2)=(6*(yi(3)-2*yi(2)+yi(1)))/4\n",
"m(1)=0;m(3)=0;\n",
"function [y]=S(i,x)\n",
"    y=m(i)*(xi(i+1)-x)^3/(6*h)\n",
"    y=y+m(i+1)*(x-xi(i))^3/(6*h)\n",
"    y=y+(yi(i)/h-(m(i)*h)/6)*(xi(i+1)-x)\n",
"    y=y+(yi(i+1)/h-(m(i+1)*h)/6)*(-xi(i)+x)\n",
"endfunction\n",
"for i=1:2\n",
"    S1(i)=S(i);\n",
"end\n",
"printf('\n The required Spline is : \n')\n",
"disp(' ','2<x<=3',S1(2),'S2 = ',' ','1<=x<=2',S1(1),'S1 = ');\n",
"x=1.5;\n",
"if x>=1 & x<=2 then\n",
"    i=1;\n",
"else x>2 & x<=3\n",
"    i=2;\n",
"end\n",
"disp(S(i,x),'y(1.5) = ')\n",
"x=2;h1=0.01;\n",
"for i=1:2\n",
"   Sd(i,x)=(S(i,x+h1)-S(i,x))/h1 \n",
"end\n",
"disp(Sd(2,2),Sd(1,2),'y`(2) = ')"
   ]
   }
,
{
		   "cell_type": "markdown",
		   "metadata": {},
		   "source": [
			"## Example 5.52: Spline_Interpolation.sce"
		   ]
		  },
  {
"cell_type": "code",
	   "execution_count": null,
	   "metadata": {
	    "collapsed": true
	   },
	   "outputs": [],
"source": [
"//Example 5.52\n",
"//Spline Interpolation\n",
"//Page no. 205\n",
"clc;close;clear;\n",
"deff('y=S1(x)','y=18-(75*x)/2+26*x^2-11*x^3/2')\n",
"deff('y=S2(x)','y=-70+(189*x)/2-(40*x^2)+(11*x^3)/2')\n",
"x=2;h=0.01;\n",
"S=[S1(x),S2(x)]\n",
"for i=1:2\n",
"    printf('\n  S%i (%i) = %g\n',i-1,x,S(i))\n",
"end\n",
"deff('y=S3(x)','y=(S1(x+h)-S1(x))/h')\n",
"deff('y=S4(x)','y=(S2(x+h)-S2(x))/h')\n",
"S=[S3(x),S4(x)]\n",
"for i=1:2\n",
"    printf('\n  S`%i (%i) = %g\n',i-1,x,S(i))\n",
"end\n",
"deff('y=S5(x)','y=(S3(x+h)-S3(x))/h')\n",
"deff('y=S6(x)','y=(S4(x+h)-S4(x))/h')\n",
"S=[S5(x),S6(x)]\n",
"for i=1:2\n",
"    printf('\n  S``%i (%i) = %g\n',i-1,x,S(i))\n",
"end\n",
"printf('\n\n')\n",
"for i=1:2\n",
"    for j=1:3\n",
"        if i==1 then\n",
"            printf('\t%i',j)\n",
"        elseif j<3\n",
"            printf('\t%g',S1(j))\n",
"        else\n",
"            printf('\t%g',S2(j))\n",
"        end\n",
"    end\n",
"    printf('\n')\n",
"end\n",
"x=[1:0.1:2]\n",
"plot(x,S1(x))\n",
"x=[2:0.1:3]\n",
"plot(x,S2(x))"
   ]
   }
,
{
		   "cell_type": "markdown",
		   "metadata": {},
		   "source": [
			"## Example 5.53: Spline_Interpolation.sce"
		   ]
		  },
  {
"cell_type": "code",
	   "execution_count": null,
	   "metadata": {
	    "collapsed": true
	   },
	   "outputs": [],
"source": [
"//Example 5.53\n",
"//Spline Interpolation\n",
"//Page no. 206\n",
"clc;close;clear;\n",
"\n",
"xi=[1,2,3];\n",
"yi=[-3,4,23];\n",
"h=1;n=2;\n",
"x=poly(0,'x')\n",
"m(2)=(6*(yi(3)-2*yi(2)+yi(1)))/4\n",
"m(1)=0;m(3)=0;\n",
"function [y]=S(i,x)\n",
"    y=m(i)*(xi(i+1)-x)^3/(6*h)\n",
"    y=y+m(i+1)*(x-xi(i))^3/(6*h)\n",
"    y=y+(yi(i)/h-(m(i)*h)/6)*(xi(i+1)-x)\n",
"    y=y+(yi(i+1)/h-(m(i+1)*h)/6)*(-xi(i)+x)\n",
"endfunction\n",
"for i=1:2\n",
"    S1(i)=S(i);\n",
"end\n",
"printf('\n The required Spline is : \n')\n",
"disp(' ','2<x<=3',S1(2),'S2 = ',' ','1<=x<=2',S1(1),'S1 = ');\n",
"x=1.5;\n",
"if x>=1 & x<=2 then\n",
"    i=1;\n",
"else x>2 & x<=3\n",
"    i=2;\n",
"end\n",
"disp(S(i,x),'y(1.5) = ')\n",
"x=1;h1=0.01;\n",
"for i=1:1\n",
"   Sd(i,x)=(S(i,x+h1)-S(i,x))/h1 \n",
"end\n",
"disp(Sd(1,1),'y`(1) = ')"
   ]
   }
,
{
		   "cell_type": "markdown",
		   "metadata": {},
		   "source": [
			"## Example 5.54: Spline_Interpolation.sce"
		   ]
		  },
  {
"cell_type": "code",
	   "execution_count": null,
	   "metadata": {
	    "collapsed": true
	   },
	   "outputs": [],
"source": [
"//Example 5.54\n",
"//Spline Interpolation\n",
"//Page no. 207\n",
"clc;close;clear;\n",
"\n",
"xi=[0,1,2,3];\n",
"yi=[1,-1,-1,0];\n",
"h=1;n=3;\n",
"x=poly(0,'x')\n",
"m=[4,1;1,4];\n",
"mb=[12;6];\n",
"m=inv(m)*mb\n",
"m(3)=m(2);\n",
"m(2)=m(1);\n",
"m(1)=0;m(4)=0;\n",
"function [y]=S(i,x)\n",
"    y=m(i)*(xi(i+1)-x)^3/(6*h)\n",
"    y=y+m(i+1)*(x-xi(i))^3/(6*h)\n",
"    y=y+(yi(i)/h-(m(i)*h)/6)*(xi(i+1)-x)\n",
"    y=y+(yi(i+1)/h-(m(i+1)*h)/6)*(-xi(i)+x)\n",
"endfunction\n",
"for i=1:3\n",
"    S1(i)=S(i);\n",
"end\n",
"printf('\n The required Spline is : \n')\n",
"disp(' ',S1(3),'S3 = ',' ',S1(2),'S2 = ',' ',S1(1),'S1 = ');"
   ]
   }
,
{
		   "cell_type": "markdown",
		   "metadata": {},
		   "source": [
			"## Example 5.5: Finite_Differences.sce"
		   ]
		  },
  {
"cell_type": "code",
	   "execution_count": null,
	   "metadata": {
	    "collapsed": true
	   },
	   "outputs": [],
"source": [
"//Example 5.5\n",
"//Finite Differences\n",
"//Page no. 132\n",
"clc;close;clear;\n",
"printf('   x\t f(x)\tdf(x)\t    d2f(x)\td3f(x)\t        d4f(x)\n')\n",
"printf('------------------------------------------------------------------------------------------')\n",
"x=[0,1;1,3;2,9;3,poly(0,'y3');4,81]\n",
"for i=3:6\n",
"    for j=1:7-i\n",
"        x(j,i)=x(j+1,i-1)-x(j,i-1)\n",
"    end\n",
"end\n",
"disp(x)\n",
"disp(roots(x(1,6)),'y3 = ')"
   ]
   }
,
{
		   "cell_type": "markdown",
		   "metadata": {},
		   "source": [
			"## Example 5.6: Finite_Differences.sce"
		   ]
		  },
  {
"cell_type": "code",
	   "execution_count": null,
	   "metadata": {
	    "collapsed": true
	   },
	   "outputs": [],
"source": [
"//Example 5.6\n",
"//Finite Differences\n",
"//Page no. 132\n",
"clc;close;clear;\n",
"printf('   x\t f(x)\t  df(x)\t   d2f(x)    d3f(x)   d4f(x)\n')\n",
"printf('------------------------------------------------------------------------------------------')\n",
"x=[0,3;1,12;2,81;3,2000;4,100]\n",
"for i=3:6\n",
"    for j=1:7-i\n",
"        x(j,i)=x(j+1,i-1)-x(j,i-1)\n",
"    end\n",
"end\n",
"disp(x)\n",
"disp(x(1,6),'d4 y(0) = ')"
   ]
   }
],
"metadata": {
		  "kernelspec": {
		   "display_name": "Scilab",
		   "language": "scilab",
		   "name": "scilab"
		  },
		  "language_info": {
		   "file_extension": ".sce",
		   "help_links": [
			{
			 "text": "MetaKernel Magics",
			 "url": "https://github.com/calysto/metakernel/blob/master/metakernel/magics/README.md"
			}
		   ],
		   "mimetype": "text/x-octave",
		   "name": "scilab",
		   "version": "0.7.1"
		  }
		 },
		 "nbformat": 4,
		 "nbformat_minor": 0
}
