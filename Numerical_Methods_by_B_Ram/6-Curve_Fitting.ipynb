{
"cells": [
 {
		   "cell_type": "markdown",
	   "metadata": {},
	   "source": [
       "# Chapter 6: Curve Fitting"
	   ]
	},
{
		   "cell_type": "markdown",
		   "metadata": {},
		   "source": [
			"## Example 6.10: Least_Square_Fit.sce"
		   ]
		  },
  {
"cell_type": "code",
	   "execution_count": null,
	   "metadata": {
	    "collapsed": true
	   },
	   "outputs": [],
"source": [
"//Example 6.10\n",
"//Least Square Fit\n",
"//Page no. 224\n",
"clc;close;clear;\n",
"\n",
"x=[1,2,3,4]\n",
"y=[0.3,0.64,1.32,5.4]\n",
"n=1;\n",
"printf('\t\t 2\t 3\t 4\t\t\t 2\n n\tx\tx\tx\tx\ty\txy\tx y\n----------------------------------------------------------------\n')\n",
"x1=0;x2=0;x3=0;x4=0;x5=0;x6=0;x7=0;x8=0;\n",
"for i=1:4\n",
"    printf(' %g\t%g\t%g\t%g\t%g\t%g\t%g\t%g\n',n,x(i),x(i)^2,x(i)^3,x(i)^4,y(i),y(i)*x(i),x(i)^2*y(i))\n",
"    x1=x1+n;\n",
"    x2=x2+x(i);\n",
"    x3=x3+x(i)^2;\n",
"    x4=x4+x(i)^3;\n",
"    x5=x5+x(i)^4;\n",
"    x6=x6+y(i);\n",
"    x7=x7+y(i)*x(i);\n",
"    x8=x8+x(i)^2*y(i)\n",
"end\n",
"printf('----------------------------------------------------------------\n %g\t%g\t%g\t%g\t%g\t%g\t%g\t%g\n',x1,x2,x3,x4,x5,x6,x7,x8)\n",
"A=[x1,x2,x3;x2,x3,x4;x3,x4,x5]\n",
"B=[x6;x7;x8]\n",
"C=inv(A)*B;\n",
"disp(C)\n",
"x=poly(0,'x')\n",
"y=C(1)+C(2)*x+C(3)*x^2\n",
"disp(y,'y =')"
   ]
   }
,
{
		   "cell_type": "markdown",
		   "metadata": {},
		   "source": [
			"## Example 6.11: Least_Square_Fit.sce"
		   ]
		  },
  {
"cell_type": "code",
	   "execution_count": null,
	   "metadata": {
	    "collapsed": true
	   },
	   "outputs": [],
"source": [
"//Example 6.9\n",
"//Least Square Fit\n",
"//Page no. 224\n",
"clc;close;clear;\n",
"\n",
"x=[2,4,6,8,10]\n",
"y=[3.07,12.85,31.47,57.38,91.29]\n",
"n=1;\n",
"printf('\t\t 2\t 3\t 4\t\t\t 2\n n\tx\tx\tx\tx\ty\txy\tx y\n----------------------------------------------------------------\n')\n",
"x1=0;x2=0;x3=0;x4=0;x5=0;x6=0;x7=0;x8=0;\n",
"for i=1:5\n",
"    printf(' %g\t%g\t%g\t%g\t%g\t%g\t%g\t%g\n',n,x(i),x(i)^2,x(i)^3,x(i)^4,y(i),y(i)*x(i),x(i)^2*y(i))\n",
"    x1=x1+n;\n",
"    x2=x2+x(i);\n",
"    x3=x3+x(i)^2;\n",
"    x4=x4+x(i)^3;\n",
"    x5=x5+x(i)^4;\n",
"    x6=x6+y(i);\n",
"    x7=x7+y(i)*x(i);\n",
"    x8=x8+x(i)^2*y(i)\n",
"end\n",
"printf('----------------------------------------------------------------\n %g\t%g\t%g\t%g\t%g\t%g\t%g\t%g\n',x1,x2,x3,x4,x5,x6,x7,x8)\n",
"A=[x1,x2,x3;x2,x3,x4;x3,x4,x5]\n",
"B=[x6;x7;x8]\n",
"C=inv(A)*B;\n",
"disp(C)\n",
"x=poly(0,'x')\n",
"y=C(1)+C(2)*x+C(3)*x^2\n",
"disp(y,'y =')"
   ]
   }
,
{
		   "cell_type": "markdown",
		   "metadata": {},
		   "source": [
			"## Example 6.12: Least_Square_Fit.sce"
		   ]
		  },
  {
"cell_type": "code",
	   "execution_count": null,
	   "metadata": {
	    "collapsed": true
	   },
	   "outputs": [],
"source": [
"//Example 6.12\n",
"//Least Square Fit\n",
"//Page no. 224\n",
"clc;close;clear;\n",
"\n",
"x=[10,20,30,40,50]\n",
"y=[8,10,15,21,30]\n",
"n=1;\n",
"printf('\t\t 2\t 4\t\t\t 2\n n\tx\tx\tx\t\ty\tx y\n----------------------------------------------------------------\n')\n",
"x1=0;x2=0;x3=0;x4=0;x5=0;x6=0;x7=0;x8=0;\n",
"for i=1:5\n",
"    printf(' %g\t%g\t%g\t%.9g\t\t%g\t%g\n',n,x(i),x(i)^2,x(i)^4,y(i),x(i)^2*y(i))\n",
"    x1=x1+n;\n",
"    x2=x2+x(i);\n",
"    x3=x3+x(i)^2;\n",
"    x4=x4+x(i)^4;\n",
"    x5=x5+y(i);\n",
"    x6=x6+x(i)^2*y(i)\n",
"end\n",
"printf('----------------------------------------------------------------\n %g\t%g\t%g\t%.9g\t\t%g\t%g\n',x1,x2,x3,x4,x5,x6)\n",
"A=[x1,x3;x3,x4;]\n",
"B=[x5;x6]\n",
"C=inv(A)*B;\n",
"disp(C)\n",
"x=poly(0,'x')\n",
"y=C(1)+C(2)*x^2\n",
"disp(y,'y =')"
   ]
   }
,
{
		   "cell_type": "markdown",
		   "metadata": {},
		   "source": [
			"## Example 6.2: Least_Line_Square_Approximation.sce"
		   ]
		  },
  {
"cell_type": "code",
	   "execution_count": null,
	   "metadata": {
	    "collapsed": true
	   },
	   "outputs": [],
"source": [
"//Example 6.2\n",
"//Least Line Square Approximation\n",
"//Page no. 216\n",
"clc;close;clear;\n",
"\n",
"x=[2;5;6;9;11];\n",
"y=[2;4;6;9;10];n=1;\n",
"printf('\t 2\t\t\t  2\nn\tx\tx\ty\txy\ty\n--------------------------------------------\n')\n",
"x1=0;x2=0;x3=0;x4=0;x5=0;x6=0;\n",
"for i=1:5\n",
"    printf(' %i\t%i\t%i\t%i\t%i\t%i\n',n,x(i),x(i)^2,y(i),x(i)*y(i),y(i)^2)\n",
"    x1=x1+n;\n",
"    x2=x2+x(i);\n",
"    x3=x3+x(i)^2;\n",
"    x4=x4+y(i);\n",
"    x5=x5+x(i)*y(i);\n",
"    x6=x6+y(i)^2;\n",
"end\n",
"printf('--------------------------------------------\n %i\t%i\t%i\t%i\t%i\t%i\n',x1,x2,x3,x4,x5,x6)\n",
"\n",
"A=[x1,x2;x2,x3]\n",
"B=[x4;x5]\n",
"C=inv(A)*B;\n",
"x7=poly(0,'x')\n",
"y=C(1)+C(2)*x7\n",
"disp(y,'y=')\n",
"x0=x2/x1;\n",
"y0=x4/x1;\n",
"A=x3-x1*x0^2;\n",
"B=x5-x1*x0*y0;\n",
"C=x6-x1*y0^2;\n",
"x7=poly(0,'b')\n",
"y=x7^2+(A-C)*x7/B-1\n",
"b=roots(y)\n",
"a=y0-b(2)*x0\n",
"x7=poly(0,'x')\n",
"disp('is the required least line',a+b(2)*x7,'y = ')"
   ]
   }
,
{
		   "cell_type": "markdown",
		   "metadata": {},
		   "source": [
			"## Example 6.3: Least_Square_Method.sce"
		   ]
		  },
  {
"cell_type": "code",
	   "execution_count": null,
	   "metadata": {
	    "collapsed": true
	   },
	   "outputs": [],
"source": [
"//Example 6.3\n",
"//Least Square Method\n",
"//Page no. 217\n",
"clc;close;clear;\n",
"\n",
"x=[1,2,3,4,5,6,7,8];\n",
"y=[3,3,4,5,5,6,6,7];n=1;\n",
"printf('\t 2\t\t 2\n n\tx\tx\ty\txy\ty\n--------------------------------------------\n')\n",
"x1=0;x2=0;x3=0;x4=0;x5=0;x6=0;\n",
"for i=1:8\n",
"    printf(' %i\t%i\t%i\t%i\t%i\t%i\n',n,x(i),x(i)^2,y(i),x(i)*y(i),y(i)^2)\n",
"    x1=x1+n;\n",
"    x2=x2+x(i);\n",
"    x3=x3+x(i)^2;\n",
"    x4=x4+y(i);\n",
"    x5=x5+x(i)*y(i);\n",
"    x6=x6+y(i)^2;\n",
"end\n",
"printf('--------------------------------------------\n %i\t%i\t%i\t%i\t%i\t%i\n',x1,x2,x3,x4,x5,x6)\n",
"x0=x2/x1;\n",
"y0=x4/x1;\n",
"A=x3-x1*x0^2;\n",
"B=x5-x1*x0*y0;\n",
"C=x6-x1*y0^2;\n",
"x7=poly(0,'b')\n",
"y=x7^2+(A-C)*x7/B-1\n",
"b=roots(y)\n",
"a=y0-b(2)*x0\n",
"x7=poly(0,'x')\n",
"disp('is the required least line',a+b(2)*x7,'y = ')"
   ]
   }
,
{
		   "cell_type": "markdown",
		   "metadata": {},
		   "source": [
			"## Example 6.4: Least_Square_Method.sce"
		   ]
		  },
  {
"cell_type": "code",
	   "execution_count": null,
	   "metadata": {
	    "collapsed": true
	   },
	   "outputs": [],
"source": [
"//Example 6.4\n",
"//Least Square Method\n",
"//Page no. 219\n",
"clc;close;clear;\n",
"\n",
"t=[0.2,0.4,0.6,0.8,1]\n",
"h=[0.196,0.785,1.7665,3.1406,4.9075]\n",
"m=2;\n",
"for i=1:5\n",
"    t1(i)=t(i)^(2*m)\n",
"    h1(i)=h(i)*t(i)^2\n",
"end\n",
"g=sum(h1)/sum(t1)\n",
"disp(g,'y = ')\n",
"g=g*2\n",
"disp(g,'Gravitational Constatnt :')"
   ]
   }
,
{
		   "cell_type": "markdown",
		   "metadata": {},
		   "source": [
			"## Example 6.5: Power_Fit_Method.sce"
		   ]
		  },
  {
"cell_type": "code",
	   "execution_count": null,
	   "metadata": {
	    "collapsed": true
	   },
	   "outputs": [],
"source": [
"//Example 6.5\n",
"//Power Fit Method\n",
"//Page no. 220\n",
"clc;close;clear;\n",
"\n",
"x=[2,2.3,2.6,2.9,3.2]\n",
"y=[5.1,7.5,10.6,14.4,19]\n",
"printf('\t 2\t 3\t 4\t 6\t\t  2\t  3\n x\tx\tx\tx\tx\ty\tyx\tyx\n----------------------------------------------------------------\n')\n",
"x1=0;x2=0;x3=0;x4=0;\n",
"for i=1:5\n",
"    printf(' %g\t%g\t%g\t%g\t%g\t%g\t%g\t%g\n',x(i),x(i)^2,x(i)^3,x(i)^4,x(i)^6,y(i),x(i)^2*y(i),y(i)*x(i)^3)\n",
"    x1=x1+x(i)^4;\n",
"    x2=x2+x(i)^6;\n",
"    x3=x3+x(i)^2*y(i);\n",
"    x4=x4+y(i)*x(i)^3;\n",
"end\n",
"printf('----------------------------------------------------------------\n \t\t\t%g\t%g\t\t%g\t%g\n',x1,x2,x3,x4)\n",
"a(1)=x3/x1;\n",
"x5=poly(0,'x')\n",
"disp(a(1)*x5^2,'The power fit, y =')\n",
"a(2)=x4/x2;\n",
"disp(a(2)*x5^3,'The power fit, y =')\n",
"e=[0,0]\n",
"for i=1:2\n",
"    for j=1:5\n",
"        e(i)=e(i)+(a(i)*x(j)^(i+1)-y(j))^2\n",
"    end\n",
"    e(i)=sqrt(e(i)/5)\n",
"    printf('\n\nerror%i = %.2g\n',i,e(i))\n",
"end\n",
"if e(1)>e(2) then\n",
"    disp(a(2)*x5^3,'y = ','Hence the best power fir curve is')\n",
"else\n",
"    disp(a(1)*x5^2,'y = ','Hence the best power fir curve is')\n",
"end"
   ]
   }
,
{
		   "cell_type": "markdown",
		   "metadata": {},
		   "source": [
			"## Example 6.6: Least_Square_Method.sce"
		   ]
		  },
  {
"cell_type": "code",
	   "execution_count": null,
	   "metadata": {
	    "collapsed": true
	   },
	   "outputs": [],
"source": [
"//Example 6.6\n",
"//Least Square Method\n",
"//Page no. 221\n",
"clc;close;clear;\n",
"\n",
"x=[2,3,4,5];\n",
"y=[27.8,62.1,110,161];\n",
"printf('\t 2\t 4\t\t  2\nx\tx\tx\ty\tyx\n----------------------------------------\n')\n",
"x1=0;x2=0;\n",
"for i=1:4\n",
"    printf(' %g\t%g\t%g\t%g\t%g\n',x(i),x(i)^2,x(i)^4,y(i),y(i)*x(i)^2)\n",
"    x1=x1+x(i)^4;\n",
"    x2=x2+y(i)*x(i)^2;\n",
"end\n",
"printf('----------------------------------------\n \t\t%g\t\t%g\n',x1,x2)\n",
"a=x2/x1;\n",
"x1=poly(0,'x')\n",
"disp(a*x1^2,'y = ')"
   ]
   }
,
{
		   "cell_type": "markdown",
		   "metadata": {},
		   "source": [
			"## Example 6.7: Parabola_Best_Fit.sce"
		   ]
		  },
  {
"cell_type": "code",
	   "execution_count": null,
	   "metadata": {
	    "collapsed": true
	   },
	   "outputs": [],
"source": [
"//Example 6.7\n",
"//Parabola Best Fit\n",
"//Page no. 222\n",
"clc;close;clear;\n",
"\n",
"x=[0,1,2,3,4]\n",
"y=[-2.1,-0.4,2.1,3.6,9.9]\n",
"n=1;\n",
"printf('\t\t 2\t 3\t 4\t\t\t 2\n n\tx\tx\tx\tx\ty\txy\tx y\n----------------------------------------------------------------\n')\n",
"x1=0;x2=0;x3=0;x4=0;x5=0;x6=0;x7=0;x8=0;\n",
"for i=1:5\n",
"    printf(' %g\t%g\t%g\t%g\t%g\t%g\t%g\t%g\n',n,x(i),x(i)^2,x(i)^3,x(i)^4,y(i),y(i)*x(i),x(i)^2*y(i))\n",
"    x1=x1+n;\n",
"    x2=x2+x(i);\n",
"    x3=x3+x(i)^2;\n",
"    x4=x4+x(i)^3;\n",
"    x5=x5+x(i)^4;\n",
"    x6=x6+y(i);\n",
"    x7=x7+y(i)*x(i);\n",
"    x8=x8+x(i)^2*y(i)\n",
"end\n",
"printf('----------------------------------------------------------------\n %g\t%g\t%g\t%g\t%g\t%g\t%g\t%g\n',x1,x2,x3,x4,x5,x6,x7,x8)\n",
"A=[x1,x2,x3;x2,x3,x4;x3,x4,x5]\n",
"B=[x6;x7;x8]\n",
"C=inv(A)*B;\n",
"disp(C)\n",
"x=poly(0,'x')\n",
"y=C(1)+C(2)*x+C(3)*x^2\n",
"disp(y,'y =')"
   ]
   }
,
{
		   "cell_type": "markdown",
		   "metadata": {},
		   "source": [
			"## Example 6.8: Parabola_Best_Fit.sce"
		   ]
		  },
  {
"cell_type": "code",
	   "execution_count": null,
	   "metadata": {
	    "collapsed": true
	   },
	   "outputs": [],
"source": [
"//Example 6.8\n",
"//Parabola Best Fit\n",
"//Page no. 223\n",
"clc;close;clear;\n",
"\n",
"x=[0.78,1.56,2.34,3.12,3.81]\n",
"y=[2.5,1.2,1.12,2.25,4.28]\n",
"n=1;\n",
"for i=1:5\n",
"    x(i)=(x(i)-2.34)/0.78\n",
"end\n",
"printf('\t\t 2\t 3\t 4\t\t\t 2\n n\tX\tX\tX\tX\ty\tXy\tX y\n----------------------------------------------------------------\n')\n",
"x1=0;x2=0;x3=0;x4=0;x5=0;x6=0;x7=0;x8=0;\n",
"for i=1:5\n",
"    printf(' %.2g\t%.2g\t%.2g\t%.2g\t%.2g\t%.2g\t%.2g\t%.2g\n',n,x(i),x(i)^2,x(i)^3,x(i)^4,y(i),y(i)*x(i),x(i)^2*y(i))\n",
"    x1=x1+n;\n",
"    x2=x2+x(i);\n",
"    x3=x3+x(i)^2;\n",
"    x4=x4+x(i)^3;\n",
"    x5=x5+x(i)^4;\n",
"    x6=x6+y(i);\n",
"    x7=x7+y(i)*x(i);\n",
"    x8=x8+x(i)^2*y(i)\n",
"end\n",
"printf('----------------------------------------------------------------\n %.2f\t%.2f\t%.2f\t%.2f\t%.2f\t%.2f\t%.2f\t%.2f\n',x1,x2,x3,x4,x5,x6,x7,x8)\n",
"A=[x1,x2,x3;x2,x3,x4;x3,x4,x5]\n",
"B=[x6;x7;x8]\n",
"C=inv(A)*B;\n",
"disp(C)\n",
"x=poly(0,'X')\n",
"y=C(1)+C(2)*x+C(3)*x^2\n",
"disp(y,'y =')"
   ]
   }
,
{
		   "cell_type": "markdown",
		   "metadata": {},
		   "source": [
			"## Example 6.9: Least_Square_Fit.sce"
		   ]
		  },
  {
"cell_type": "code",
	   "execution_count": null,
	   "metadata": {
	    "collapsed": true
	   },
	   "outputs": [],
"source": [
"//Example 6.9\n",
"//Least Square Fit\n",
"//Page no. 224\n",
"clc;close;clear;\n",
"\n",
"x=[-3,-1,1,3]\n",
"y=[15,5,1,5]\n",
"n=1;\n",
"printf('\t\t 2\t 3\t 4\t\t\t 2\n n\tx\tx\tx\tx\ty\txy\tx y\n----------------------------------------------------------------\n')\n",
"x1=0;x2=0;x3=0;x4=0;x5=0;x6=0;x7=0;x8=0;\n",
"for i=1:4\n",
"    printf(' %g\t%g\t%g\t%g\t%g\t%g\t%g\t%g\n',n,x(i),x(i)^2,x(i)^3,x(i)^4,y(i),y(i)*x(i),x(i)^2*y(i))\n",
"    x1=x1+n;\n",
"    x2=x2+x(i);\n",
"    x3=x3+x(i)^2;\n",
"    x4=x4+x(i)^3;\n",
"    x5=x5+x(i)^4;\n",
"    x6=x6+y(i);\n",
"    x7=x7+y(i)*x(i);\n",
"    x8=x8+x(i)^2*y(i)\n",
"end\n",
"printf('----------------------------------------------------------------\n %g\t%g\t%g\t%g\t%g\t%g\t%g\t%g\n',x1,x2,x3,x4,x5,x6,x7,x8)\n",
"A=[x1,x2,x3;x2,x3,x4;x3,x4,x5]\n",
"B=[x6;x7;x8]\n",
"C=inv(A)*B;\n",
"disp(C)\n",
"x=poly(0,'x')\n",
"y=C(1)+C(2)*x+C(3)*x^2\n",
"disp(y,'y =')"
   ]
   }
],
"metadata": {
		  "kernelspec": {
		   "display_name": "Scilab",
		   "language": "scilab",
		   "name": "scilab"
		  },
		  "language_info": {
		   "file_extension": ".sce",
		   "help_links": [
			{
			 "text": "MetaKernel Magics",
			 "url": "https://github.com/calysto/metakernel/blob/master/metakernel/magics/README.md"
			}
		   ],
		   "mimetype": "text/x-octave",
		   "name": "scilab",
		   "version": "0.7.1"
		  }
		 },
		 "nbformat": 4,
		 "nbformat_minor": 0
}
