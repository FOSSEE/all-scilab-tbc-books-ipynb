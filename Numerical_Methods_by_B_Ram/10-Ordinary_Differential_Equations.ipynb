{
"cells": [
 {
		   "cell_type": "markdown",
	   "metadata": {},
	   "source": [
       "# Chapter 10: Ordinary Differential Equations"
	   ]
	},
{
		   "cell_type": "markdown",
		   "metadata": {},
		   "source": [
			"## Example 10.10: Picard_Method.sce"
		   ]
		  },
  {
"cell_type": "code",
	   "execution_count": null,
	   "metadata": {
	    "collapsed": true
	   },
	   "outputs": [],
"source": [
"//Example 10.10\n",
"//Picard Method\n",
"//Page no. 314\n",
"clc;clear;close;\n",
"deff('y=f(x,y)','y=1+x*y')\n",
"y(1)=1;\n",
"for i=1:5\n",
"    y(i+1)=y(1)+integrate('f(x,y(i))','x',0,0.1)\n",
"    printf('\n y%g = %.10g\n',i,y(i+1))\n",
"end"
   ]
   }
,
{
		   "cell_type": "markdown",
		   "metadata": {},
		   "source": [
			"## Example 10.11: Heun_Method.sce"
		   ]
		  },
  {
"cell_type": "code",
	   "execution_count": null,
	   "metadata": {
	    "collapsed": true
	   },
	   "outputs": [],
"source": [
"//Example 10.11\n",
"//Heun Method\n",
"//Page no. 316\n",
"clc;clear;close;\n",
"deff('y=f(x,y)','y=(x-y)/2')\n",
"y=1;\n",
"h=0.5;\n",
"for i=1:4\n",
"    x=(i-1)*h\n",
"    x1=x+h\n",
"    p=y+h*f(x,y)\n",
"    y=y+h*(f(x,y)+f(x1,p))/2\n",
"    printf('\n  p(%g) = %g\n  y(%g) = %g\n\n',i,p,i,y)\n",
"    \n",
"end"
   ]
   }
,
{
		   "cell_type": "markdown",
		   "metadata": {},
		   "source": [
			"## Example 10.12: Third_Order_Runge_Kutta_Method.sce"
		   ]
		  },
  {
"cell_type": "code",
	   "execution_count": null,
	   "metadata": {
	    "collapsed": true
	   },
	   "outputs": [],
"source": [
"//Example 10.12\n",
"//Third Order Runge Kutta Method\n",
"//Page no. 322\n",
"clc;clear;close;\n",
"deff('y=f(x,y)','y=x^2-y')\n",
"y=1;h=0.1;\n",
"for i=1:2\n",
"    x=(i-1)*h\n",
"K1=h*f(x,y);\n",
"K2=h*f(x+h/2,y+K1/2);\n",
"K3=h*f(x+h,y+K2);\n",
"y=y+(K1+4*K2+K3)/6\n",
"printf('\ny(%g) = %.9f\n\n',x+h,y)\n",
"end"
   ]
   }
,
{
		   "cell_type": "markdown",
		   "metadata": {},
		   "source": [
			"## Example 10.13: Fourth_Order_Runge_Kutta_Method.sce"
		   ]
		  },
  {
"cell_type": "code",
	   "execution_count": null,
	   "metadata": {
	    "collapsed": true
	   },
	   "outputs": [],
"source": [
"//Example 10.13\n",
"//Fourth Order Runge Kutta Method\n",
"//Page no. 323\n",
"clc;clear;close;\n",
"deff('y=f(x,y)','y=x+y')\n",
"y=1;x=0;h=0.1;\n",
"K1=h*f(x,y);\n",
"K2=h*f(x+h/2,y+K1/2);\n",
"K3=h*f(x+h/2,y+K2/2);\n",
"K4=h*f(x+h,y+K3);\n",
"disp(K4,'K4 =',K3,'K3 =',K2,'K2 =',K1,'K1 =')\n",
"y1=y+(K1+2*K2+2*K3+K4)/6\n",
"printf('\ny(1.1) = %.8f\n\n',y1)"
   ]
   }
,
{
		   "cell_type": "markdown",
		   "metadata": {},
		   "source": [
			"## Example 10.14: Fourth_Order_Runge_Kutta_Method_for_higher_order_equations.sce"
		   ]
		  },
  {
"cell_type": "code",
	   "execution_count": null,
	   "metadata": {
	    "collapsed": true
	   },
	   "outputs": [],
"source": [
"//Example 10.18\n",
"//Fourth Order Runge Kutta Method for higher order equations\n",
"//Page no. 328\n",
"clc;clear;close;\n",
"deff('y=f(x,y,z)','y=z')\n",
"deff('y=g(x,y,z)','y=(x^2-y^2)/(1+z^2)')\n",
"y=1;h=0.5;z=0;\n",
"for i=1:2\n",
"    x=(i-1)*h\n",
"    K(1)=h*f(x,y,z);\n",
"    L(1)=h*g(x,y,z);\n",
"    K(2)=h*f(x+h/2,y+K(1)/2,z+L(1)/2);\n",
"    L(2)=h*g(x+h/2,y+K(1)/2,z+L(1)/2);\n",
"    K(3)=h*f(x+h/2,y+K(2)/2,z+L(2)/2);\n",
"    L(3)=h*g(x+h/2,y+K(2)/2,z+L(2)/2);\n",
"    K(4)=h*f(x+h,y+K(3),z+L(3));\n",
"    L(4)=h*g(x+h,y+K(3),z+L(3));\n",
"    y=y+(K(1)+2*K(2)+2*K(3)+K(4))/6\n",
"    z=z+(L(1)+2*L(2)+2*L(3)+L(4))/6\n",
"    for j=1:4\n",
"        printf('\n K%i = %g\t\tL%i = %g\n',j,K(j),j,L(j))\n",
"    end\n",
"    printf('\ny(%g) = %.8f\t\tz(%g) = %.8f\n\n\n\n',x+h,y,x+h,z)\n",
"end"
   ]
   }
,
{
		   "cell_type": "markdown",
		   "metadata": {},
		   "source": [
			"## Example 10.15: Fourth_Order_Runge_Kutta_Method.sce"
		   ]
		  },
  {
"cell_type": "code",
	   "execution_count": null,
	   "metadata": {
	    "collapsed": true
	   },
	   "outputs": [],
"source": [
"//Example 10.15\n",
"//Fourth Order Runge Kutta Method\n",
"//Page no. 324\n",
"clc;clear;close;\n",
"deff('y=f(x,y)','y=x^2+y^2')\n",
"y=1;h=0.1;\n",
"for i=1:2\n",
"    x=(i-1)*h\n",
"    K1=h*f(x,y);\n",
"K2=h*f(x+h/2,y+K1/2);\n",
"K3=h*f(x+h/2,y+K2/2);\n",
"K4=h*f(x+h,y+K3);\n",
"disp(K4,'K4 =',K3,'K3 =',K2,'K2 =',K1,'K1 =')\n",
"y=y+(K1+2*K2+2*K3+K4)/6\n",
"printf('\ny(%g) = %.13f\n\n\n\n',x+h,y)\n",
"end"
   ]
   }
,
{
		   "cell_type": "markdown",
		   "metadata": {},
		   "source": [
			"## Example 10.16: Fourth_Order_Runge_Kutta_Method.sce"
		   ]
		  },
  {
"cell_type": "code",
	   "execution_count": null,
	   "metadata": {
	    "collapsed": true
	   },
	   "outputs": [],
"source": [
"//Example 10.16\n",
"//Fourth Order Runge Kutta Method\n",
"//Page no. 326\n",
"clc;clear;close;\n",
"deff('y=f(x,y)','y=(2*x*y+exp(x))/(x^2+x*exp(x))')\n",
"y=0;h=0.2;\n",
"for i=1:2\n",
"    x=1+(i-1)*h\n",
"    K1=h*f(x,y);\n",
"K2=h*f(x+h/2,y+K1/2);\n",
"K3=h*f(x+h/2,y+K2/2);\n",
"K4=h*f(x+h,y+K3);\n",
"disp(K4,'K4 =',K3,'K3 =',K2,'K2 =',K1,'K1 =')\n",
"y=y+(K1+2*K2+2*K3+K4)/6\n",
"printf('\ny(%g) = %.13f\n\n\n\n',x+h,y)\n",
"end"
   ]
   }
,
{
		   "cell_type": "markdown",
		   "metadata": {},
		   "source": [
			"## Example 10.17: Fourth_Order_Runge_Kutta_Method_for_system_of_1st_order_equations.sce"
		   ]
		  },
  {
"cell_type": "code",
	   "execution_count": null,
	   "metadata": {
	    "collapsed": true
	   },
	   "outputs": [],
"source": [
"//Example 10.17\n",
"//Fourth Order Runge Kutta Method for system of 1st order equations\n",
"//Page no. 327\n",
"clc;clear;close;\n",
"deff('y=f(x,y,z)','y=x+z')\n",
"deff('y=g(x,y,z)','y=x-y')\n",
"y=0;h=0.1;z=1;\n",
"for i=1:2\n",
"    x=(i-1)*h\n",
"    K(1)=h*f(x,y,z);\n",
"    L(1)=h*g(x,y,z);\n",
"    K(2)=h*f(x+h/2,y+K(1)/2,z+L(1)/2);\n",
"    L(2)=h*g(x+h/2,y+K(1)/2,z+L(1)/2);\n",
"    K(3)=h*f(x+h/2,y+K(2)/2,z+L(2)/2);\n",
"    L(3)=h*g(x+h/2,y+K(2)/2,z+L(2)/2);\n",
"    K(4)=h*f(x+h,y+K(3),z+L(3));\n",
"    L(4)=h*g(x+h,y+K(3),z+L(3));\n",
"    y=y+(K(1)+2*K(2)+2*K(3)+K(4))/6\n",
"    z=z+(L(1)+2*L(2)+2*L(3)+L(4))/6\n",
"    for j=1:4\n",
"        printf('\n K%i = %g\t\tL%i = %g\n',j,K(j),j,L(j))\n",
"    end\n",
"    printf('\ny(%g) = %.8f\t\tz(%g) = %.8f\n\n\n\n',x+h,y,x+h,z)\n",
"end"
   ]
   }
,
{
		   "cell_type": "markdown",
		   "metadata": {},
		   "source": [
			"## Example 10.18: Fourth_Order_Runge_Kutta_Method_for_higher_order_equations.sce"
		   ]
		  },
  {
"cell_type": "code",
	   "execution_count": null,
	   "metadata": {
	    "collapsed": true
	   },
	   "outputs": [],
"source": [
"//Example 10.18\n",
"//Fourth Order Runge Kutta Method for higher order equations\n",
"//Page no. 328\n",
"clc;clear;close;\n",
"deff('y=f(x,y,z)','y=z')\n",
"deff('y=g(x,y,z)','y=(x^2-y^2)/(1+z^2)')\n",
"y=1;h=0.5;z=0;\n",
"for i=1:2\n",
"    x=(i-1)*h\n",
"    K(1)=h*f(x,y,z);\n",
"    L(1)=h*g(x,y,z);\n",
"    K(2)=h*f(x+h/2,y+K(1)/2,z+L(1)/2);\n",
"    L(2)=h*g(x+h/2,y+K(1)/2,z+L(1)/2);\n",
"    K(3)=h*f(x+h/2,y+K(2)/2,z+L(2)/2);\n",
"    L(3)=h*g(x+h/2,y+K(2)/2,z+L(2)/2);\n",
"    K(4)=h*f(x+h,y+K(3),z+L(3));\n",
"    L(4)=h*g(x+h,y+K(3),z+L(3));\n",
"    y=y+(K(1)+2*K(2)+2*K(3)+K(4))/6\n",
"    z=z+(L(1)+2*L(2)+2*L(3)+L(4))/6\n",
"    for j=1:4\n",
"        printf('\n K%i = %g\t\tL%i = %g\n',j,K(j),j,L(j))\n",
"    end\n",
"    printf('\ny(%g) = %.8f\t\tz(%g) = %.8f\n\n\n\n',x+h,y,x+h,z)\n",
"end"
   ]
   }
,
{
		   "cell_type": "markdown",
		   "metadata": {},
		   "source": [
			"## Example 10.19: Adams_Basforth_formula.sce"
		   ]
		  },
  {
"cell_type": "code",
	   "execution_count": null,
	   "metadata": {
	    "collapsed": true
	   },
	   "outputs": [],
"source": [
"//Example 10.19\n",
"//Adams Basforth formula\n",
"//Page no. 333\n",
"clc;clear;close;\n",
"x=[0,0.1,0.2,0.3,0.4];i=5;\n",
"y=[1,1.0025,1.0101,1.0228];\n",
"h=0.1;\n",
"deff('y=f(x,y)','y=x*y/2')\n",
"//adams basforth formula\n",
"y(i)=y(i-1)+h*(55*f(x(i-1),y(i-1))-59*(f(x(i-2),y(i-2)))+37*f(x(i-3),y(i-3))-9*f(x(i-4),y(i-4)))/24\n",
"disp(y(i),'By Adams Basforth Formula : ')\n",
"//adams moulton formula\n",
"y(i)=y(i-1)+h*(9*f(x(i),y(i))+19*f(x(i-1),y(i-1))-5*(f(x(i-2),y(i-2)))+f(x(i-3),y(i-3)))/24\n",
"disp(y(i),'By Adams Moulton Formula : ')"
   ]
   }
,
{
		   "cell_type": "markdown",
		   "metadata": {},
		   "source": [
			"## Example 10.1: Taylor_Method.sce"
		   ]
		  },
  {
"cell_type": "code",
	   "execution_count": null,
	   "metadata": {
	    "collapsed": true
	   },
	   "outputs": [],
"source": [
"//Example 10.1\n",
"//Taylor Method\n",
"//Page no. 302\n",
"clc;clear;close;\n",
"\n",
"deff('y=f1(x,y)','y=y-2*x/y')\n",
"deff('y=f2(x,y)','y=(2*y*f1(x,y)-2-f1(x,y)^2)/y')\n",
"deff('y=f3(x,y)','y=(2*y*f2(x,y)-3*f1(x,y)*f2(x,y)+2*f1(x,y)^2)/y')\n",
"h=0.1;y=1;\n",
"    x=[0.1;-0.1]\n",
"    for i=1:2\n",
"    k=y;\n",
"    for j=1:3\n",
"    if j==1 then\n",
"        k=k+(-1)^((i-1)*j)*(h^j)*f1(0,y)/factorial(j)\n",
"    elseif j==2\n",
"        k=k+(-1)^((i-1)*j)*(h^j)*f2(0,y)/factorial(j)\n",
"    elseif j==3\n",
"        k=k+(-1)^((i-1)*j)*(h^j)*f3(0,y)/factorial(j)\n",
"    end\n",
"end\n",
"printf('\ny(%g) = %g\n\n',x(i),k)\n",
"end"
   ]
   }
,
{
		   "cell_type": "markdown",
		   "metadata": {},
		   "source": [
			"## Example 10.20: Adams_Moulton_formula.sce"
		   ]
		  },
  {
"cell_type": "code",
	   "execution_count": null,
	   "metadata": {
	    "collapsed": true
	   },
	   "outputs": [],
"source": [
"//Example 10.20\n",
"//Adams Moulton formula\n",
"//Page no. 334\n",
"clc;clear;close;\n",
"x=[1,1.1,1.2,1.3,1.4];i=5;\n",
"y=[1,1.233,1.548488,1.978921];\n",
"h=0.1;\n",
"deff('y=f(x,y)','y=x^2*y+x^2')\n",
"//adams basforth formula\n",
"y(i)=y(i-1)+h*(55*f(x(i-1),y(i-1))-59*(f(x(i-2),y(i-2)))+37*f(x(i-3),y(i-3))-9*f(x(i-4),y(i-4)))/24\n",
"disp(y(i),'By Adams Basforth Formula : ')\n",
"//adams moulton formula\n",
"y(i)=y(i-1)+h*(9*f(x(i),y(i))+19*f(x(i-1),y(i-1))-5*(f(x(i-2),y(i-2)))+f(x(i-3),y(i-3)))/24\n",
"disp(y(i),'By Adams Moulton Formula : ')"
   ]
   }
,
{
		   "cell_type": "markdown",
		   "metadata": {},
		   "source": [
			"## Example 10.21: Adams_formula.sce"
		   ]
		  },
  {
"cell_type": "code",
	   "execution_count": null,
	   "metadata": {
	    "collapsed": true
	   },
	   "outputs": [],
"source": [
"//Example 10.21\n",
"//Adams formula\n",
"//Page no. 335\n",
"clc;clear;close;\n",
"h=0.1;\n",
"deff('y=f(x,y)','y=x-y^2')\n",
"y(1)=1;\n",
"for i=1:5\n",
"    x(i)=(i-1)*h\n",
"    K(1)=h*f(x(i),y(i));\n",
"K(2)=h*f(x(i)+h/2,y(i)+K(1)/2);\n",
"K(3)=h*f(x(i)+h/2,y(i)+K(2)/2);\n",
"K(4)=h*f(x(i)+h,y(i)+K(3));\n",
"y(i+1)=y(i)+(K(1)+2*K(2)+2*K(3)+K(4))/6\n",
"printf('\ny(%g) = %.13f\n\n',x(i)+h,y(i+1))\n",
"end\n",
"i=5;\n",
"//adams basforth formula\n",
"y(i)=y(i-1)+h*(55*f(x(i-1),y(i-1))-59*(f(x(i-2),y(i-2)))+37*f(x(i-3),y(i-3))-9*f(x(i-4),y(i-4)))/24\n",
"disp(y(i),'By Adams Basforth Formula : ')\n",
"//adams moulton formula\n",
"y(i)=y(i-1)+h*(9*f(x(i),y(i))+19*f(x(i-1),y(i-1))-5*(f(x(i-2),y(i-2)))+f(x(i-3),y(i-3)))/24\n",
"disp(y(i),'By Adams Moulton Formula : ')"
   ]
   }
,
{
		   "cell_type": "markdown",
		   "metadata": {},
		   "source": [
			"## Example 10.22: Milne_Simpson_Predictor_Corrector_Method.sce"
		   ]
		  },
  {
"cell_type": "code",
	   "execution_count": null,
	   "metadata": {
	    "collapsed": true
	   },
	   "outputs": [],
"source": [
"//Example 10.22\n",
"//Milne Simpson Predictor Corrector Method\n",
"//Page no. 336\n",
"clc;clear;close;\n",
"deff('y=f11(x,y)','y=x^2+y^2-2')\n",
"deff('y=f22(x,y)','y=2*x+2*y*f11(x,y)')\n",
"deff('y=f33(x,y)','y=2+2*y*f22(x,y)+2*f11(x,y)^2')\n",
"deff('y=f44(x,y)','y=2*y*f33(x,y)+6*f11(x,y)*f22(x,y)')\n",
"h=0.1;\n",
"y=1;y1=y;\n",
"x(1)=0;k=y;\n",
"for i=2:3\n",
"    x(i)=x(i-1)+h\n",
"    for j=1:4\n",
"    if j==1 then\n",
"        k=k+(h^j)*f11(x(i-1),y)/factorial(j)\n",
"    elseif j==2\n",
"        k=k+(h^j)*f22(x(i-1),y)/factorial(j)\n",
"    elseif j==3\n",
"        k=k+(h^j)*f33(x(i-1),y)/factorial(j)\n",
"    elseif j==4\n",
"        k=k+(h^j)*f44(x(i-1),y)/factorial(j)\n",
"    end\n",
"end\n",
"printf('\ny%i = %g\n\n',i-1,k)\n",
"if i==2 then\n",
"    y=k;\n",
"else\n",
"    y2=k;\n",
"end\n",
"end\n",
"k=y1;\n",
"for j=1:4\n",
"    if j==1 then\n",
"        k=k+(-h^j)*f11(x(1),y1)/factorial(j)\n",
"    elseif j==2\n",
"        k=k+(-h^j)*f22(x(1),y1)/factorial(j)\n",
"    elseif j==3\n",
"        k=k+(-h^j)*f33(x(1),y1)/factorial(j)\n",
"    elseif j==4\n",
"        k=k+(-h^j)*f44(x(1),y1)/factorial(j)\n",
"    end\n",
"end\n",
"printf('\ny%i = %g\n\n',-1,k)\n",
"y3=k+4*h*(2*f11(x(1),y1)-f11(x(2),y)+2*f11(x(3),y2))/3\n",
"printf('\nPredictor y(0.3) = %.9f\n\n',y3)\n",
"y4=y+h*(f11(x(3),y)+4*f11(x(3)+h,y2)+f11(x(3)+2*h,y3))/3\n",
"printf('Corrector y(0.3) = %.9f',y4)\n",
"y3=y1+4*h*(2*f11(x(2),y)-f11(x(3),y2)+2*f11(x(3)+h,y3))/3\n",
"printf('\n\nPredictor y(0.4) = %.9f\n\n',y3)\n",
"y4=y2+h*(f11(x(3)+h,y2)+4*f11(x(3)+2*h,y3)+f11(x(3)+3*h,y3))/3\n",
"printf('Corrector y(0.4) = %.9f',y4)"
   ]
   }
,
{
		   "cell_type": "markdown",
		   "metadata": {},
		   "source": [
			"## Example 10.23: Milne_Simpson_Predictor_Corrector_Method.sce"
		   ]
		  },
  {
"cell_type": "code",
	   "execution_count": null,
	   "metadata": {
	    "collapsed": true
	   },
	   "outputs": [],
"source": [
"//Example 10.23\n",
"//Milne Simpson Predictor Corrector Method\n",
"//Page no. 338\n",
"clc;clear;close;\n",
"deff('y=f11(y)','y=2*y-y^2')\n",
"h=0.05;\n",
"y=[1,1.0499584,1.0996680,1.1488850]\n",
"for i=1:6\n",
"    x(i)=(i-1)*h\n",
"end\n",
"for i=5:6\n",
"    y(i)=y(i-4)+4*h*(2*f11(y(i-1))-f11(y(i-2))+2*f11(y(i-3)))/3\n",
"    printf('\nPredictor y(%g) = %.9f\n\n',x(i),y(i))\n",
"    y(i)=y(i-2)+h*(f11(y(i-2))+4*f11(y(i-1))+f11(y(i)))/3\n",
"    printf('Corrector y(%g) = %.9f\n\n',x(i),y(i))\n",
"end"
   ]
   }
,
{
		   "cell_type": "markdown",
		   "metadata": {},
		   "source": [
			"## Example 10.24: Milne_Simpson_Predictor_Corrector_Method.sce"
		   ]
		  },
  {
"cell_type": "code",
	   "execution_count": null,
	   "metadata": {
	    "collapsed": true
	   },
	   "outputs": [],
"source": [
"//Example 10.24\n",
"//Milne Simpson Predictor Corrector Method\n",
"//Page no. 339\n",
"clc;clear;close;\n",
"deff('y=f11(x,y)','y=1+x*y^2')\n",
"h=0.1;\n",
"y=[1,1.105,1.223,1.355]\n",
"for i=1:5\n",
"    x(i)=(i-1)*h\n",
"end\n",
"i=5;\n",
"    y(i)=y(i-4)+4*h*(2*f11(x(i-1),y(i-1))-f11(x(i-2),y(i-2))+2*f11(x(i-3),y(i-3)))/3\n",
"    printf('\nPredictor y(%g) = %.9f\n\n',x(i),y(i))\n",
"    y(i)=y(i-2)+h*(f11(x(i-2),y(i-2))+4*f11(x(i-1),y(i-1))+f11(x(i),y(i)))/3\n",
"    printf('Corrector y(%g) = %.9f\n\n',x(i),y(i))"
   ]
   }
,
{
		   "cell_type": "markdown",
		   "metadata": {},
		   "source": [
			"## Example 10.25: Milne_Simpsons_formula.sce"
		   ]
		  },
  {
"cell_type": "code",
	   "execution_count": null,
	   "metadata": {
	    "collapsed": true
	   },
	   "outputs": [],
"source": [
"//Example 10.25\n",
"//Milne Simpsons formula\n",
"//Page no. 340\n",
"clc;clear;close;\n",
"h=0.1;\n",
"deff('y=f(x,y)','y=x*y+y^2')\n",
"y(1)=1;\n",
"for i=1:5\n",
"    x(i)=(i-1)*h\n",
"end\n",
"for i=1:3\n",
"    K(1)=h*f(x(i),y(i));\n",
"    K(2)=h*f(x(i)+h/2,y(i)+K(1)/2);\n",
"    K(3)=h*f(x(i)+h/2,y(i)+K(2)/2);\n",
"    K(4)=h*f(x(i)+h,y(i)+K(3));\n",
"    y(i+1)=y(i)+(K(1)+2*K(2)+2*K(3)+K(4))/6\n",
"    for j=1:4\n",
"        printf('\n K%i = %.4g\n',j,K(j))\n",
"    end\n",
"    printf('\ny(%g) = %.4f\n\n',x(i)+h,y(i+1))\n",
"end\n",
"i=5;\n",
"    y(i)=y(i-4)+4*h*(2*f(x(i-1),y(i-1))-f(x(i-2),y(i-2))+2*f(x(i-3),y(i-3)))/3\n",
"    printf('\nPredictor y(%g) = %.4f\n\n',x(i),y(i))\n",
"    y(i)=y(i-2)+h*(f(x(i-2),y(i-2))+4*f(x(i-1),y(i-1))+f(x(i),y(i)))/3\n",
"    printf('Corrector y(%g) = %.4f\n\n',x(i),y(i))"
   ]
   }
,
{
		   "cell_type": "markdown",
		   "metadata": {},
		   "source": [
			"## Example 10.26: Mullers_Method.sce"
		   ]
		  },
  {
"cell_type": "code",
	   "execution_count": null,
	   "metadata": {
	    "collapsed": true
	   },
	   "outputs": [],
"source": [
"//Example 10.26\n",
"//Milne Simpson and Picard Method\n",
"//Page no. 341\n",
"clc;clear;close;\n",
"deff('y=f(x,y)','y=x-y^2')\n",
"y(1)=0;h=0.2;\n",
"for i=1:4\n",
"    x(i)=(i-1)*h\n",
"    y(i+1)=y(1)+integrate('f(x,y(i))','x',0,x(i))\n",
"    printf('\n y%g = %.4g\n\n y`%g = %.4g\n\n',i-1,y(i+1),i-1,f(x(i),y(i+1)))\n",
"end\n",
"for i=5:6\n",
"    x(i)=(i-1)*h\n",
"    if i==5 then\n",
"        y1=y(i)\n",
"    else\n",
"        y1=y(i-1)\n",
"    end\n",
"    y(i)=y(i-3)+4*h*(2*f(x(i-1),y(i-(i-5)))-f(x(i-2),y(i-1))+2*f(x(i-3),y(i-2)))/3\n",
"    printf('\nPredictor y(%g) = %.4f\n\n',x(i),y(i))\n",
"    y(i)=y(i-1)+h*(f(x(i-2),y(i-2))+4*f(x(i-1),y1)+f(x(i),y(i)))/3\n",
"    \n",
"    printf('Corrector y(%g) = %.4f\n\n',x(i),y(i))\n",
"end\n",
"printf('\n\n\n\nNote : Computation error in book while calculation of predictor and corrector')"
   ]
   }
,
{
		   "cell_type": "markdown",
		   "metadata": {},
		   "source": [
			"## Example 10.2: Taylor_Method.sce"
		   ]
		  },
  {
"cell_type": "code",
	   "execution_count": null,
	   "metadata": {
	    "collapsed": true
	   },
	   "outputs": [],
"source": [
"//Example 10.2\n",
"//Taylor Method\n",
"//Page no. 303\n",
"clc;clear;close;\n",
"\n",
"deff('y=f1(x,y)','y=x-y^2')\n",
"deff('y=f2(x,y)','y=1-2*x*y+2*y^3')\n",
"deff('y=f3(x,y)','y=-2*(y-4*x*y^2+3*y^4+x^2)')\n",
"deff('y=f4(x,y)','y=-2*y*f3(x,y)-6*f1(x,y)*f2(x,y)')\n",
"h=0.2;y=1;\n",
"    x=[0.2,0.4]\n",
"    for i=1:2\n",
"        if i==1 then\n",
"            k=y;\n",
"        end\n",
"    for j=1:4\n",
"    if j==1 then\n",
"        k=k+(h^j)*f1((i-1)*h,y)/factorial(j)\n",
"    elseif j==2\n",
"        k=k+(h^j)*f2((i-1)*h,y)/factorial(j)\n",
"    elseif j==3\n",
"        k=k+(h^j)*f3((i-1)*h,y)/factorial(j)\n",
"    elseif j==4\n",
"        k=k+(h^j)*f4((i-1)*h,y)/factorial(j)\n",
"    end\n",
"end\n",
"printf('\ny(%g) = %g\n\n',x(i),k)\n",
"y=k\n",
"end"
   ]
   }
,
{
		   "cell_type": "markdown",
		   "metadata": {},
		   "source": [
			"## Example 10.33: Numerov_Method.sce"
		   ]
		  },
  {
"cell_type": "code",
	   "execution_count": null,
	   "metadata": {
	    "collapsed": true
	   },
	   "outputs": [],
"source": [
"//Example 10.33\n",
"//Numerov Method\n",
"//Page no. 350\n",
"clc;clear;close;\n",
"k=0.5;h=%pi/6\n",
"y(1)=0;y(2)=k;\n",
"deff('y=f2(x,y)','y=-y')\n",
"deff('y=g()','y=-1')\n",
"fi=acos(((2+5*h^2*g()/6)-(1-h^2*g()/12)*y(1))/(2*(1-h^2*g()/12)))\n",
"y6=k*(sin(6*fi)/sin(fi))\n",
"disp(y6,'y6 = ')"
   ]
   }
,
{
		   "cell_type": "markdown",
		   "metadata": {},
		   "source": [
			"## Example 10.34: Numerov_Method.sce"
		   ]
		  },
  {
"cell_type": "code",
	   "execution_count": null,
	   "metadata": {
	    "collapsed": true
	   },
	   "outputs": [],
"source": [
"//Example 10.34\n",
"//Numerov Method\n",
"//Page no. 351\n",
"clc;clear;close;\n",
"k=0.42;h=0.5\n",
"y(1)=0.5;y(2)=k;\n",
"deff('y=f2(x,y)','y=-y')\n",
"deff('y=g(x)','y=(x-1)*(x-2)')\n",
"for i=1:4\n",
"    x(i)=(i-1)*h\n",
"end\n",
"\n",
"for i=3:4\n",
"    y(i)=((2+5*h^2*g(x(i-1))/6)*y(i-1)-(1-h^2*g(x(i-2))/12)*y(i-2))/(1-h^2*g(x(i))/12)\n",
"    printf('\ny(%g) = %.6g\n',x(i),y(i))\n",
"end"
   ]
   }
,
{
		   "cell_type": "markdown",
		   "metadata": {},
		   "source": [
			"## Example 10.36: Finite_Difference_Method.sce"
		   ]
		  },
  {
"cell_type": "code",
	   "execution_count": null,
	   "metadata": {
	    "collapsed": true
	   },
	   "outputs": [],
"source": [
"//Example 10.36\n",
"//Finite Difference Method\n",
"//Page no. 353\n",
"clc;close;clear;\n",
"\n",
"h=0.2;\n",
"y(1)=0;\n",
"deff('y=f2(x,y)','y=x+y')\n",
"for i=1:4\n",
"    x(i)=i*h\n",
"end\n",
"for i=1:4\n",
"    B(i,1)=h^2*x(i)\n",
"    if i==4 then\n",
"        B(4,1)=1-B(4,1)\n",
"    end\n",
"    printf('\ny%i - 2.04y%i + y%i = %g\n',i-1,i,i+1,B(i,1))\n",
"end\n",
"A=[-2-h^2,1,0,0;1,-2-h^2,1,0;0,1,-2-h^2,1;0,0,1,-2-h^2]\n",
"C=inv(A)*B;\n",
"printf('\n\n')\n",
"for i=1:4\n",
"    printf('\ny%i = %g\n',i,C(i))\n",
"end"
   ]
   }
,
{
		   "cell_type": "markdown",
		   "metadata": {},
		   "source": [
			"## Example 10.37: Finite_Difference_Method.sce"
		   ]
		  },
  {
"cell_type": "code",
	   "execution_count": null,
	   "metadata": {
	    "collapsed": true
	   },
	   "outputs": [],
"source": [
"//Example 10.37\n",
"//Finite Difference Method\n",
"//Page no. 354\n",
"clc;close;clear;\n",
"\n",
"h=0.2;\n",
"y(1)=1;y(2)=1;\n",
"deff('y=f2(x,y)','y=x+y')\n",
"for i=1:4\n",
"    x(i)=i*h\n",
"end\n",
"A=[0,1,0,0;1,0,1,0;0,1,0,1;0,0,1,0]\n",
"j=1;\n",
"for i=1:4\n",
"    A(i,i)=-(1.96+2*x(i)^2)/(1+x(i)^2)\n",
"end\n",
"for i=1:4\n",
"    B(i,1)=7*h^2*x(i)\n",
"    if i==4 then\n",
"        B(4,1)=2-B(4,1)\n",
"    end\n",
"    printf('\ny%i %gy%i + y%i = %g\n',i-1,A(i,i),i,i+1,B(i,1))\n",
"end\n",
"C=inv(A)*B;\n",
"printf('\n\n')\n",
"for i=1:4\n",
"    printf('\ny%i = %g\n',i,C(i))\n",
"end"
   ]
   }
,
{
		   "cell_type": "markdown",
		   "metadata": {},
		   "source": [
			"## Example 10.38: Finite_Difference_Method.sce"
		   ]
		  },
  {
"cell_type": "code",
	   "execution_count": null,
	   "metadata": {
	    "collapsed": true
	   },
	   "outputs": [],
"source": [
"//Example 10.38\n",
"//Finite Difference Method\n",
"//Page no. 354\n",
"clc;close;clear;\n",
"\n",
"h=0.25;\n",
"y(1)=0;\n",
"deff('y=f2(x,y)','y=x+y')\n",
"for i=1:3\n",
"    x(i)=i*h\n",
"end\n",
"A=[0,1,0;1,0,1;0,1,0]\n",
"j=1;\n",
"for i=1:3\n",
"    A(i,i)=-(2-h^2*x(i)^2)\n",
"end\n",
"for i=1:3\n",
"    B(i,1)=0\n",
"    if i==3 then\n",
"        B(3,1)=-1\n",
"    end\n",
"    printf('\ny%i %gy%i + y%i = %g\n',i-1,A(i,i),i,i+1,B(i,1))\n",
"end\n",
"C=inv(A)*B;\n",
"printf('\n\n')\n",
"for i=1:3\n",
"    printf('\ny%i = %g\n',i,C(i))\n",
"end"
   ]
   }
,
{
		   "cell_type": "markdown",
		   "metadata": {},
		   "source": [
			"## Example 10.39: Finite_Difference_Method.sce"
		   ]
		  },
  {
"cell_type": "code",
	   "execution_count": null,
	   "metadata": {
	    "collapsed": true
	   },
	   "outputs": [],
"source": [
"//Example 10.39\n",
"//Finite Difference Method\n",
"//Page no. 355\n",
"clc;close;clear;\n",
"\n",
"h=0.25;\n",
"y(1)=0;\n",
"deff('y=f2(x,y)','y=x+y')\n",
"for i=1:3\n",
"    x(i)=i*h\n",
"end\n",
"A=[0,1,0;1,0,1;0,1,0]\n",
"j=1;\n",
"for i=1:3\n",
"    A(i,i)=-(2+64*h^2)\n",
"end\n",
"for i=1:3\n",
"    B(i,1)=-10*h^2\n",
"    printf('\ny%i %gy%i + y%i = %g\n',i-1,A(i,i),i,i+1,B(i,1))\n",
"end\n",
"C=inv(A)*B;\n",
"printf('\n\n')\n",
"for i=1:3\n",
"    printf('\ny%i = %g\n',i,C(i))\n",
"end"
   ]
   }
,
{
		   "cell_type": "markdown",
		   "metadata": {},
		   "source": [
			"## Example 10.3: Taylor_Method.sce"
		   ]
		  },
  {
"cell_type": "code",
	   "execution_count": null,
	   "metadata": {
	    "collapsed": true
	   },
	   "outputs": [],
"source": [
"//Example 10.3\n",
"//Taylor Method\n",
"//Page no. 304\n",
"clc;clear;close;\n",
"\n",
"deff('y=f1(x,y)','y=1')\n",
"deff('y=f2(x,y)','y=x*y')\n",
"deff('y=f3(x,y)','y=x*f1(x,y)+y')\n",
"deff('y=f4(x,y)','y=x*f2(x,y)+2*f1(x,y)')\n",
"deff('y=f5(x,y)','y=x*f3(x,y)+3*f2(x,y)')\n",
"h=0.5;y=0;\n",
"    x=[0.5,1]\n",
"    for i=1:2\n",
"        if i==1 then\n",
"            k=y;\n",
"        end\n",
"    for j=1:5\n",
"    if j==1 then\n",
"        k=k+(h^j)*f1((i-1)*h,y)/factorial(j)\n",
"    elseif j==2\n",
"        k=k+(h^j)*f2((i-1)*h,y)/factorial(j)\n",
"    elseif j==3\n",
"        k=k+(h^j)*f3((i-1)*h,y)/factorial(j)\n",
"    elseif j==4\n",
"        k=k+(h^j)*f4((i-1)*h,y)/factorial(j)\n",
"    elseif j==5\n",
"        k=k+(h^j)*f5((i-1)*h,y)/factorial(j)\n",
"    end\n",
"end\n",
"printf('\ny(%g) = %g\n\n',x(i),k)\n",
"y=k\n",
"end"
   ]
   }
,
{
		   "cell_type": "markdown",
		   "metadata": {},
		   "source": [
			"## Example 10.40: Formula_Method.sce"
		   ]
		  },
  {
"cell_type": "code",
	   "execution_count": null,
	   "metadata": {
	    "collapsed": true
	   },
	   "outputs": [],
"source": [
"//Example 10.40\n",
"//Formula Method\n",
"//Page no. 355\n",
"clc;clear;close;\n",
"\n",
"deff('y=f(x,y)','y=x*y')\n",
"y(1)=0;y(6)=1;h=0.2;\n",
"for i=1:6\n",
"    x(i)=(i-1)*h\n",
"end\n",
"A=eye(4,5)-eye(4,5)\n",
"B=eye(4,1)-eye(4,1)\n",
"B(4,1)=-y(6)\n",
"for i=1:4\n",
"        A(i,i)=1;\n",
"        A(i,i+1)=-2-h^2*x(i+1)\n",
"        A(i,i+2)=1;\n",
"end\n",
"for i=1:4\n",
"    for j=1:4\n",
"        C(i,j)=A(i,j+1)\n",
"    end\n",
"end\n",
"printf('\n\n')\n",
"A=C;\n",
"D=inv(A)*B\n",
"for i=1:4\n",
"    y(i+1)=D(i);\n",
"    printf('\ty%i = %.5f\t',i,y(i+1))\n",
"end\n",
"printf('\n\n-------------------------------\n')\n",
"k=0;\n",
"for i=1:6\n",
"    for j=1:3\n",
"        if j==1 then\n",
"            D(i,j)=x(i)*y(i)\n",
"            printf(' f%i\t%.4f\t',i-1,D(i,j))\n",
"        elseif (i~=1 & i~=2) | k==1\n",
"            D(i,j)=D(i,j-1)-D(i-1,j-1)\n",
"            printf('%.4f\t',D(i,j))\n",
"            if i==2 then\n",
"                k=2;\n",
"            end\n",
"        end\n",
"    end\n",
"    if i==1 then\n",
"        k=1;\n",
"    end\n",
"    printf('\n')\n",
"end\n",
"printf('-------------------------------\n')\n",
"for i=1:4\n",
"    B(i)=D(i+2,3)*(h^2)/12\n",
"end\n",
"\n",
"B(4,1)=-(B(4,1)-y(6))\n",
"printf('\n\n')\n",
"for i=1:4\n",
"    A(i,i)=-2\n",
"end\n",
"z=inv(A)*B\n",
"for i=1:4\n",
"    printf('\tz%i = %.5f\t',i,z(i))\n",
"end\n",
"printf('\n\n')\n",
"for i=1:4\n",
"    y(i+1)=y(i+1)+z(i);\n",
"    printf('\ty%i = %.5f\t',i,y(i+1))\n",
"end\n",
"printf('\n\n\n\n\n Note : Computation errors in book')"
   ]
   }
,
{
		   "cell_type": "markdown",
		   "metadata": {},
		   "source": [
			"## Example 10.41: Eigenvalue_Problem.sce"
		   ]
		  },
  {
"cell_type": "code",
	   "execution_count": null,
	   "metadata": {
	    "collapsed": true
	   },
	   "outputs": [],
"source": [
"//Example 10.41\n",
"//Eigenvalue Priblem\n",
"//Page no. 359\n",
"clc;close;clear;\n",
"\n",
"h=0.25;\n",
"y(1)=0;\n",
"l=poly(0,'lbd')\n",
"deff('y=f2(x,y)','y=x+y')\n",
"for i=1:3\n",
"    x(i)=i*h\n",
"end\n",
"A=[0,1,0;1,0,1;0,1,0]\n",
"j=1;\n",
"for i=1:3\n",
"    A(i,i)=-(2-l*h^2)\n",
"end\n",
"for i=1:3\n",
"    B(i,1)=0\n",
"    printf('\ny%i -(2-0.0625*lbd)y%i + y%i = %g\n',i-1,i,i+1,B(i,1))\n",
"end\n",
"disp(A)\n",
"disp(det(A),'Determinant of A =')\n",
"disp(roots(det(A)),'Roots = ')\n",
"a=roots(det(A))\n",
"disp(a(3),'Minimum Value =')"
   ]
   }
,
{
		   "cell_type": "markdown",
		   "metadata": {},
		   "source": [
			"## Example 10.4: Euler_Method.sce"
		   ]
		  },
  {
"cell_type": "code",
	   "execution_count": null,
	   "metadata": {
	    "collapsed": true
	   },
	   "outputs": [],
"source": [
"//Example 10.4\n",
"//Euler Method\n",
"//Page no. 309\n",
"clc;clear;close;\n",
"deff('y=f(x,y)','y=(x-y)/2')\n",
"y(1)=1;\n",
"h=0.5;\n",
"for i=1:7\n",
"    printf('\ny(%g) = %g\n',(i-1)*h,y(i))\n",
"    y(i+1)=y(i)+h*f((i-1)*h,y(i))\n",
"    \n",
"end"
   ]
   }
,
{
		   "cell_type": "markdown",
		   "metadata": {},
		   "source": [
			"## Example 10.5: Euler_Method.sce"
		   ]
		  },
  {
"cell_type": "code",
	   "execution_count": null,
	   "metadata": {
	    "collapsed": true
	   },
	   "outputs": [],
"source": [
"//Example 10.5\n",
"//Euler Method\n",
"//Page no. 309\n",
"clc;clear;close;\n",
"deff('y=f(x,y)','y=(y-x)/(x+y)')\n",
"y(1)=1;\n",
"h=0.02;\n",
"for i=1:6\n",
"    printf('\ny(%g) = %g\n',(i-1)*h,y(i))\n",
"    y(i+1)=y(i)+h*f((i-1)*h,y(i))\n",
"    \n",
"end"
   ]
   }
,
{
		   "cell_type": "markdown",
		   "metadata": {},
		   "source": [
			"## Example 10.6: Euler_and_Modified_Euler_Method.sce"
		   ]
		  },
  {
"cell_type": "code",
	   "execution_count": null,
	   "metadata": {
	    "collapsed": true
	   },
	   "outputs": [],
"source": [
"//Example 10.6\n",
"//Euler and Modified Euler Method\n",
"//Page no. 311\n",
"clc;clear;close;\n",
"deff('y=f(x,y)','y=y-x^2')\n",
"y(1)=1;\n",
"h=0.2;\n",
"for i=1:4\n",
"    printf('\ny(%g) = %g\n',(i-1)*h,y(i))\n",
"    y(i+1)=y(i)+h*f((i-1)*h,y(i))\n",
"end\n",
"printf('\n\n\n By Modified Euler Method\n')\n",
"for i=1:4\n",
"    printf('\ny(%g) = %g\n',(i-1)*h,y(i))\n",
"    y(i+1)=y(i)+h*f((i-1)*h+h/2,y(i)+h*f((i-1)*h,y(i))/2)\n",
"end"
   ]
   }
,
{
		   "cell_type": "markdown",
		   "metadata": {},
		   "source": [
			"## Example 10.7: Modified_Euler_Method.sce"
		   ]
		  },
  {
"cell_type": "code",
	   "execution_count": null,
	   "metadata": {
	    "collapsed": true
	   },
	   "outputs": [],
"source": [
"//Example 10.7\n",
"//Modified Euler Method\n",
"//Page no. 312\n",
"clc;clear;close;\n",
"deff('y=f(x,y)','y=x+abs(sqrt(y))')\n",
"y(1)=1;\n",
"h=0.2;\n",
"for i=1:4\n",
"    printf('\ny(%g) = %g\n',(i-1)*h,y(i))\n",
"    y(i+1)=y(i)+h*f((i-1)*h+h/2,y(i)+h*f((i-1)*h,y(i))/2)\n",
"end\n",
"disp('Computation Error in book solved example 10.7')"
   ]
   }
,
{
		   "cell_type": "markdown",
		   "metadata": {},
		   "source": [
			"## Example 10.8: Picard_Method.sce"
		   ]
		  },
  {
"cell_type": "code",
	   "execution_count": null,
	   "metadata": {
	    "collapsed": true
	   },
	   "outputs": [],
"source": [
"//Example 10.8\n",
"//Picard Method\n",
"//Page no. 313\n",
"clc;clear;close;\n",
"deff('y=f(x,y)','y=x^2-y')\n",
"y(1)=1;\n",
"for i=1:5\n",
"    y(i+1)=y(1)+integrate('f(x,y(i))','x',0,0.2)\n",
"    printf('\n y%g = %g\n',i,y(i+1))\n",
"end"
   ]
   }
,
{
		   "cell_type": "markdown",
		   "metadata": {},
		   "source": [
			"## Example 10.9: Picard_Method.sce"
		   ]
		  },
  {
"cell_type": "code",
	   "execution_count": null,
	   "metadata": {
	    "collapsed": true
	   },
	   "outputs": [],
"source": [
"//Example 10.9\n",
"//Picard Method\n",
"//Page no. 313\n",
"clc;clear;close;\n",
"x=poly(0,'x')\n",
"deff('y=f1(x,y)','y=x^2')\n",
"deff('y=f2(x,y)','y=2*x*y')\n",
"y(1)=0;\n",
"h=poly(0,'x')\n",
"for i=1:4\n",
"    for j=1:i\n",
"        if j==1 then\n",
"            y1(j)=y(1)+integrate('f1(x,y(j))','x',0,1)\n",
"        else\n",
"            y1(j)=integrate('f2(x,y1(j)*(x^(2*j-1)))','x',0,1)\n",
"        end\n",
"    end\n",
"    \n",
"    printf('\n\n y%i = ',i)\n",
"    for j=1:i\n",
"        if j==i then\n",
"            printf('x^%i * %g',2*j+1,y1(j))\n",
"        else\n",
"            printf('x^%i * %g + ',2*j+1,y1(j))\n",
"        end\n",
"    end\n",
"    for j=i:-1:1\n",
"        y1(j+1)=y1(j)\n",
"    end\n",
"end"
   ]
   }
],
"metadata": {
		  "kernelspec": {
		   "display_name": "Scilab",
		   "language": "scilab",
		   "name": "scilab"
		  },
		  "language_info": {
		   "file_extension": ".sce",
		   "help_links": [
			{
			 "text": "MetaKernel Magics",
			 "url": "https://github.com/calysto/metakernel/blob/master/metakernel/magics/README.md"
			}
		   ],
		   "mimetype": "text/x-octave",
		   "name": "scilab",
		   "version": "0.7.1"
		  }
		 },
		 "nbformat": 4,
		 "nbformat_minor": 0
}
