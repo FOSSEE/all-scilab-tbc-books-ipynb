{
"cells": [
 {
		   "cell_type": "markdown",
	   "metadata": {},
	   "source": [
       "# Chapter 2: Diode Fundamentals"
	   ]
	},
{
		   "cell_type": "markdown",
		   "metadata": {},
		   "source": [
			"## Example 2.10: Reverse_saturation_point_of_current.sce"
		   ]
		  },
  {
"cell_type": "code",
	   "execution_count": null,
	   "metadata": {
	    "collapsed": true
	   },
	   "outputs": [],
"source": [
"// Reverse saturation point of current\n",
"// Basic Electronics\n",
"// By Debashis De\n",
"// First Edition, 2010\n",
"// Dorling Kindersley Pvt. Ltd. India\n",
"// Example 2-10 in page 93\n",
"\n",
"clear; clc; close;\n",
"\n",
"// Given data\n",
"b=2.11; // Constant\n",
"Lsigma=3*10^-4; // Constant\n",
"Vt=0.026; // Threshold voltage in V\n",
"A=1.5*10^-6; // Cross sectional area in mm^2\n",
"sigmai=2.24; // Intrinsic conductivity /ohm-cm\n",
"\n",
"// Calculation\n",
"I_0=((A*Vt*b*sigmai^2)/(1+b)^2)*((1/0.45)+(1/0.015));\n",
"\n",
"printf('Reverse saturation point of current is %0.2e A',I_0);\n",
"\n",
"// Result\n",
"// Reverse saturation point of current is 2.94 mu-A"
   ]
   }
,
{
		   "cell_type": "markdown",
		   "metadata": {},
		   "source": [
			"## Example 2.12: Find_reverse_saturation_current.sce"
		   ]
		  },
  {
"cell_type": "code",
	   "execution_count": null,
	   "metadata": {
	    "collapsed": true
	   },
	   "outputs": [],
"source": [
"// Find reverse saturation current\n",
"// Basic Electronics\n",
"// By Debashis De\n",
"// First Edition, 2010\n",
"// Dorling Kindersley Pvt. Ltd. India\n",
"// Example 2-12 in page 94\n",
"\n",
"clear; clc; close;\n",
"\n",
"// Given data\n",
"A=5*10^-2; // Cross sectional area in m^2\n",
"b=2.6; // Constant of calculation\n",
"Lsigma=10^-4; // Constant of calculation\n",
"sigmai=4.32*10^-6; // Intrinsic conductivity in ohm/cm\n",
"Vt=0.026; // Constant in eV\n",
"\n",
"// Calculation\n",
"I_0=A*Vt*(b/(1+b)^2)*sigmai^2*(2*10^4);\n",
"\n",
"printf('The reverse saturation current = %0.2e A',I_0);\n",
"\n",
"// Result\n",
"// The reverse saturation current = 97.25 pA"
   ]
   }
,
{
		   "cell_type": "markdown",
		   "metadata": {},
		   "source": [
			"## Example 2.13: Ratio_of_reverse_saturation_current.sce"
		   ]
		  },
  {
"cell_type": "code",
	   "execution_count": null,
	   "metadata": {
	    "collapsed": true
	   },
	   "outputs": [],
"source": [
"// Ratio of reverse saturation current\n",
"// Basic Electronics\n",
"// By Debashis De\n",
"// First Edition, 2010\n",
"// Dorling Kindersley Pvt. Ltd. India\n",
"// Example 2-13 in page 95\n",
"\n",
"clear; clc; close;\n",
"\n",
"// Given data\n",
"b1=2.6; // Constant of calculation\n",
"b2=2.11;// Constant of calculation\n",
"sigmai1=4.32*10^-6; // Intrinsic conductivity for Si /ohm-cm\n",
"sigmai2=2.24*10^-2; // Intrinsic conductivity for Ge /ohm-cm\n",
"\n",
"// Calculation\n",
"printf('For Si:\n');\n",
"Y1=((b1*sigmai1^2)/(1+b1)^2)*(2*10^4);\n",
"printf('Y_Si = %0.2e ohm-cm^2\n',Y1);\n",
"printf('For Ge:\n');\n",
"Y2=((b2*sigmai2^2)/(1+b2)^2)*(2*10^2);\n",
"printf('Y_Ge = %0.2e ohm-cm^2\n',Y2);\n",
"Y=Y2/Y1;\n",
"printf('Therefore the ratio is %0.1e',Y);\n",
"\n",
"\n",
"// Result\n",
"// Y_Si = 7.49*10^-8 ohm-cm^2\n",
"// Y_Ge = 2.189*10^-2 ohm-cm^2\n",
"// Ratio = 0.29*10^6"
   ]
   }
,
{
		   "cell_type": "markdown",
		   "metadata": {},
		   "source": [
			"## Example 2.14: Calculate_the_current_flowing.sce"
		   ]
		  },
  {
"cell_type": "code",
	   "execution_count": null,
	   "metadata": {
	    "collapsed": true
	   },
	   "outputs": [],
"source": [
"// Calculate the current flowing\n",
"// Basic Electronics\n",
"// By Debashis De\n",
"// First Edition, 2010\n",
"// Dorling Kindersley Pvt. Ltd. India\n",
"// Example 2-14 in page 96\n",
"\n",
"clear; clc; close;\n",
"\n",
"// Given data\n",
"I_0=9*10^-7; // Current flowing in A\n",
"V=0.1; // Applied forward bias in V\n",
"\n",
"// Calculation\n",
"I=I_0*(exp(40*V)-1);\n",
"printf('Current flowing through diode = %0.2e A',I);\n",
"\n",
"// Result\n",
"// Current flowing through the diode under forward bias = 48.15 mu-A"
   ]
   }
,
{
		   "cell_type": "markdown",
		   "metadata": {},
		   "source": [
			"## Example 2.15: Find_voltage_to_be_applied.sce"
		   ]
		  },
  {
"cell_type": "code",
	   "execution_count": null,
	   "metadata": {
	    "collapsed": true
	   },
	   "outputs": [],
"source": [
"// Find voltage to be applied\n",
"// Basic Electronics\n",
"// By Debashis De\n",
"// First Edition, 2010\n",
"// Dorling Kindersley Pvt. Ltd. India\n",
"// Example 2-15 in page 96\n",
"\n",
"clear; clc; close;\n",
"\n",
"// Given data\n",
"J_0=500*10^-3; // Saturation current density in mA/m^2\n",
"J=10^5; // Forward current density in A/m^2\n",
"e=1.6*10^-19; // Charge on an electron in C\n",
"etaK=1.38*10^-23; // Constant of calculation\n",
"T=350; // Temperature in K\n",
"\n",
"// Calculation\n",
"A=2.303*log10(2*10^5);\n",
"V=(A*etaK*T)/e;\n",
"\n",
"printf('Voltage to be applied = %0.4f V',V);\n",
"\n",
"// Result\n",
"// The voltage to be applied = 0.3685 V"
   ]
   }
,
{
		   "cell_type": "markdown",
		   "metadata": {},
		   "source": [
			"## Example 2.16: Find_current_when_forward_biased.sce"
		   ]
		  },
  {
"cell_type": "code",
	   "execution_count": null,
	   "metadata": {
	    "collapsed": true
	   },
	   "outputs": [],
"source": [
"// Find current when forward biased\n",
"// Basic Electronics\n",
"// By Debashis De\n",
"// First Edition, 2010\n",
"// Dorling Kindersley Pvt. Ltd. India\n",
"// Example 2-16 in page 97\n",
"\n",
"clear; clc; close;\n",
"\n",
"// Given data\n",
"k_T=1.38*10^-23; // Constant of calculation\n",
"T=293; // Temperature in K\n",
"I_s=1.5*10^-13; // Saturation current in A\n",
"e=1.6*10^-19; // Charge on an electron in C\n",
"V=0.55; // Forward bias voltage in V\n",
"\n",
"// Calculation\n",
"printf('At T = 20 degrees:\n');\n",
"V_T=(k_T*T)/e;\n",
"I=I_s*(exp(V/0.02527)-1);\n",
"printf('V_T = %0.4f V\n',V_T);\n",
"printf('(a)I = %0.3e A\n',I);\n",
"printf('At T = 100 degrees:\n');\n",
"V_T=(k_T*373)/e;\n",
"printf('V_T = %0.4f V\n',V_T);\n",
"printf('I_s doubles 8 times ie I_s = 256.Therefore,\n');\n",
"I=1.5*256*10^-13*(exp(0.55/0.032)-1);\n",
"printf('(b)I = %0.3f A',I);\n",
"\n",
"// Result\n",
"// (a) At T=20 degrees, I = 4.251*10^-4 A\n",
"// (b) At T=100 degrees, I = 0.001 A"
   ]
   }
,
{
		   "cell_type": "markdown",
		   "metadata": {},
		   "source": [
			"## Example 2.17: Calculate_current_and_voltage.sce"
		   ]
		  },
  {
"cell_type": "code",
	   "execution_count": null,
	   "metadata": {
	    "collapsed": true
	   },
	   "outputs": [],
"source": [
"// Calculate current and voltage \n",
"// Basic Electronics\n",
"// By Debashis De\n",
"// First Edition, 2010\n",
"// Dorling Kindersley Pvt. Ltd. India\n",
"// Example 2-17 in page 97\n",
"\n",
"clear; clc; close;\n",
"\n",
"// Given data\n",
"I1=2*10^-6; // Saturation current in A\n",
"I2=4*10^-6; // Saturation current in A\n",
"Vz=100; // Breakdown voltages are equal\n",
"eta=2; // Constant of calculation \n",
"\n",
"// Calculation\n",
"printf('At V=90V,none of the diodes will break down.I is determined by the diode with the smallest I_0\n');\n",
"printf('Thus for D1,I = 1 mu-A and for D2,I = -1 mu-A\n');\n",
"V2=eta*0.026*log(1-(I1/I2));\n",
"printf('(a)V2 = %0.1e V\n',V2);\n",
"printf('(b)V1 = -89.964 V');\n",
"\n",
"// Result\n",
"// (a) V2 = -36 mV\n",
"// (b) V1 = -89.964 V"
   ]
   }
,
{
		   "cell_type": "markdown",
		   "metadata": {},
		   "source": [
			"## Example 2.18: Calculate_forward_currents_for_voltages.sce"
		   ]
		  },
  {
"cell_type": "code",
	   "execution_count": null,
	   "metadata": {
	    "collapsed": true
	   },
	   "outputs": [],
"source": [
"// Calculate forward currents for voltages\n",
"// Basic Electronics\n",
"// By Debashis De\n",
"// First Edition, 2010\n",
"// Dorling Kindersley Pvt. Ltd. India\n",
"// Example 2-18 in page 98\n",
"\n",
"clear; clc; close;\n",
"\n",
"// Given data\n",
"Vt=0.026; // Thermal voltage at room temperature in eV\n",
"V=[0.1 0.2 0.3]; // Given voltages in V\n",
"\n",
"// Calculation\n",
"V1=0.026*-2.3;\n",
"printf('(a)V=%0.2f V\n',V1);\n",
"R=(exp(1.92)-1)/(exp(-1.92)-1);\n",
"printf('(b)Ration of forward bias current to reverse bias current=%0.2f\n',R);\n",
"printf('(c):\n')\n",
"for i=1:3\n",
"    I=15*(exp(V(i)/0.026)-1);\n",
"    printf('I = %0.3e A\n',I);\n",
"end\n",
"\n",
"// Result\n",
"// (a) V = -0.060 V\n",
"// (b) Ratio = -6.83\n",
"// (c) Forward currents = 0.687 mA, 32.86 mA and 1.539 A respectively"
   ]
   }
,
{
		   "cell_type": "markdown",
		   "metadata": {},
		   "source": [
			"## Example 2.19: Factor_to_be_multiplied_with_reverse_saturation_current.sce"
		   ]
		  },
  {
"cell_type": "code",
	   "execution_count": null,
	   "metadata": {
	    "collapsed": true
	   },
	   "outputs": [],
"source": [
"// Factor to be multiplied with reverse saturation current\n",
"// Basic Electronics\n",
"// By Debashis De\n",
"// First Edition, 2010\n",
"// Dorling Kindersley Pvt. Ltd. India\n",
"// Example 2-19 in page 98\n",
"\n",
"clear; clc; close;\n",
"\n",
"// Given data\n",
"T1=25; // Initial temperature for Ge in degree celcius\n",
"T2=70; // Final temperature for Ge in degree celcius\n",
"T_2=150; // Final temperature for Si in degree celcius\n",
"\n",
"// Calculation\n",
"printf('(a)Let the reverse saturation current for Ge at 25 degrees be Io(25)\n');\n",
"A=2^((T2-T1)/10);\n",
"printf('The factor to be multiplied when temperature is raised to 70 degrees is %0.0f\n',A);\n",
"printf('Therefore, Io(70) = %0.0f*Io(25)\n\n',A);\n",
"printf('(b)Let the reverse saturation current for Si at 25 degrees be Io(25)\n');\n",
"A1=2^((T_2-T1)/10);\n",
"printf('The factor to be multiplied when temperature is raised to 150 degrees is %0.0f\n',A1);\n",
"printf('Therefore, Io(150) = %0.0f*Io(25)',A1);\n",
"\n",
"// Results\n",
"// (a) Io(70) = 23*Io(25)\n",
"// (b) Io(150) = 5793*Io(25)"
   ]
   }
,
{
		   "cell_type": "markdown",
		   "metadata": {},
		   "source": [
			"## Example 2.1: Calculate_width_of_depletion_layer.sce"
		   ]
		  },
  {
"cell_type": "code",
	   "execution_count": null,
	   "metadata": {
	    "collapsed": true
	   },
	   "outputs": [],
"source": [
"// Calculate height of potential-energy barrier\n",
"// Basic Electronics\n",
"// By Debashis De\n",
"// First Edition, 2010\n",
"// Dorling Kindersley Pvt. Ltd. India\n",
"// Example 2-1 in page 77\n",
"\n",
"clear; clc; close;\n",
"\n",
"// Given data\n",
"rho1=1.5; // Resistivity of p-side of Ge diode in ohm-cm\n",
"rho2=1; // Resistivity of n-side of Ge diode in ohm-cm\n",
"e=1.6*10^-19; // Charge on an electron in C\n",
"mu_p=1800; // Mobility of holes\n",
"mu_n=3800; // Mobility of electrons\n",
"\n",
"// Calculation\n",
"N_A=1/(rho1*e*mu_p);\n",
"N_D=1/(rho2*e*mu_n);\n",
"printf('(a) rho = 2 ohm-cm\n');\n",
"printf('N_A=%0.2e /cm^3\n',N_A);\n",
"printf('N_D=%0.2e /cm^3\n',N_D);\n",
"printf('The height of the potential energy barrier is:\n');\n",
"V_0=0.026*log((N_A*N_D)/(2.5*10^13)^2);\n",
"printf('V_0=%0.3f eV\n\n',V_0);\n",
"printf('(b)For silicon:\n');\n",
"N_A1=1/(rho1*e*500);\n",
"N_D1=1/(2*e*1300);\n",
"printf('N_A=%0.2e /cm^3\n',N_A1);\n",
"printf('N_D=%0.2e /cm^3\n',N_D1);\n",
"V_01=0.026*log((N_A1*N_D1)/(1.5*10^10)^2);\n",
"printf('The height of the potential energy barrier is:\n');\n",
"printf('V_0=%0.3f eV',V_01);\n",
"\n",
"// Result\n",
"// (a) For Ge, V_0 = 0.226 eV \n",
"// (b) For Si, V_0 = 0.655 eV"
   ]
   }
,
{
		   "cell_type": "markdown",
		   "metadata": {},
		   "source": [
			"## Example 2.20: Leakage_resistance_shunting_the_diode.sce"
		   ]
		  },
  {
"cell_type": "code",
	   "execution_count": null,
	   "metadata": {
	    "collapsed": true
	   },
	   "outputs": [],
"source": [
"// Leakage resistance shunting the diode\n",
"// Basic Electronics\n",
"// By Debashis De\n",
"// First Edition, 2010\n",
"// Dorling Kindersley Pvt. Ltd. India\n",
"// Example 2-20 in page 99\n",
"\n",
"clear; clc; close;\n",
"\n",
"// Given data\n",
"// Kirchoff's law has been applied and equations solved to get final expression\n",
"\n",
"// Calculation\n",
"I_R=(0.08*5*10^-6)/0.15;\n",
"R=10/I_R;\n",
"printf('Leakage resistance = %0.2e Mohm',R);\n",
"\n",
"// Result\n",
"// Leakage resistance shunting the diode = 3.75 Mohm"
   ]
   }
,
{
		   "cell_type": "markdown",
		   "metadata": {},
		   "source": [
			"## Example 2.21: Maximum_reverse_bias_voltage_to_be_maintained.sce"
		   ]
		  },
  {
"cell_type": "code",
	   "execution_count": null,
	   "metadata": {
	    "collapsed": true
	   },
	   "outputs": [],
"source": [
"// Maximum reverse-bias voltage to be maintained\n",
"// Basic Electronics\n",
"// By Debashis De\n",
"// First Edition, 2010\n",
"// Dorling Kindersley Pvt. Ltd. India\n",
"// Example 2-21 in page 99\n",
"\n",
"clear; clc; close;\n",
"\n",
"// Given data\n",
"Rt=0.15*10^-3; // Thermal resistance of mechanical contact between diode and surroundings in mW/degree celcius\n",
"T1=25; // Ambient temperature in degree celcius\n",
"T2=35; // Rise in ambient temperature in degree celcius\n",
"I_25=5*10^-6; // Reverse saturation current at 25 degrees in mu-A\n",
"\n",
"// Calculation\n",
"Po=Rt*(T2-T1);\n",
"printf('P_out = %0.2e mW\n',Po);\n",
"printf('We know that reverse saturation current doubles for every 10 degree rise in temperature\n');\n",
"I_35=2*I_25;\n",
"V=Po/I_35;\n",
"printf('Thus the maximum reverse bias voltage to be maintained is %0.0f V',V);\n",
"\n",
"// Result\n",
"// Maximum reverse bias voltage that can be maintained across diode is 150V"
   ]
   }
,
{
		   "cell_type": "markdown",
		   "metadata": {},
		   "source": [
			"## Example 2.22: Factor_to_be_multiplied_with_current.sce"
		   ]
		  },
  {
"cell_type": "code",
	   "execution_count": null,
	   "metadata": {
	    "collapsed": true
	   },
	   "outputs": [],
"source": [
"// Factor to be multiplied with current\n",
"// Basic Electronics\n",
"// By Debashis De\n",
"// First Edition, 2010\n",
"// Dorling Kindersley Pvt. Ltd. India\n",
"// Example 2-22 in page 100\n",
"\n",
"clear; clc; close;\n",
"\n",
"// Given data\n",
"V_T=0.0364; // Thermal voltage in V\n",
"// Simplified expression for I has been derived\n",
"I_25=0.01; // Current at 25 degrees in mA\n",
"I_150=2.42; // Current at 150 degrees in mA\n",
"\n",
"// Calculation\n",
"printf('At 150 degrees:\n');\n",
"I=5792*(exp(0.4/0.0728)-1);\n",
"printf('I = %0.0f * Io(25)\n',I);\n",
"printf('At 25 degrees:\n');\n",
"I=exp(0.4/0.0514)-1;\n",
"printf('I = %0.0f * Io(25)\n',I);\n",
"R=I_150/I_25;\n",
"printf('Factor to be multiplied with current = %0.0f',R);\n",
"\n",
"// Result\n",
"// When temp is increased from 25-150 degrees,current has to be multiplied by 242"
   ]
   }
,
{
		   "cell_type": "markdown",
		   "metadata": {},
		   "source": [
			"## Example 2.24: Find_the_diffusion_length.sce"
		   ]
		  },
  {
"cell_type": "code",
	   "execution_count": null,
	   "metadata": {
	    "collapsed": true
	   },
	   "outputs": [],
"source": [
"// Find the diffusion length\n",
"// Basic Electronics\n",
"// By Debashis De\n",
"// First Edition, 2010\n",
"// Dorling Kindersley Pvt. Ltd. India\n",
"// Example 2-24 in page 101\n",
"\n",
"clear; clc; close;\n",
"\n",
"// Given data\n",
"C_D=1.5*10^-6; // Diffusion capacitance in F\n",
"D_p=13; // Constant \n",
"eta=2; // Constant\n",
"V_t=0.026; // Voltage at room temperature in V\n",
"I=1*10^-3; // Current in mA\n",
"\n",
"// Calculation\n",
"L_p=sqrt((C_D*D_p*eta*V_t)/I);\n",
"\n",
"printf('Diffusion length = %0.3e m',L_p);\n",
"\n",
"// Result\n",
"// Diffusion length = 31.84*10^-3 m"
   ]
   }
,
{
		   "cell_type": "markdown",
		   "metadata": {},
		   "source": [
			"## Example 2.25: Find_static_resistance.sce"
		   ]
		  },
  {
"cell_type": "code",
	   "execution_count": null,
	   "metadata": {
	    "collapsed": true
	   },
	   "outputs": [],
"source": [
"// Find static resistance\n",
"// Basic Electronics\n",
"// By Debashis De\n",
"// First Edition, 2010\n",
"// Dorling Kindersley Pvt. Ltd. India\n",
"// Example 2-25 in page 103\n",
"\n",
"clear; clc; close;\n",
"\n",
"// Given data\n",
"I_0=20*10^-6; // Current in micro A\n",
"V_F=0.2; // Forward voltage in V\n",
"\n",
"// Calculation\n",
"I=I_0*(exp(40*V_F)-1);\n",
"r_dc=(0.0343/(80*10^-6))*exp(0.2/0.0343);\n",
"\n",
"printf('Forward current through the diode = %0.3e A\n',I);\n",
"printf('Static resistance = %0.3e ohm',r_dc);\n",
"\n",
"// Result\n",
"// Forward current = 59.599 mA\n",
"// Static resistance = 0.146 Mohm"
   ]
   }
,
{
		   "cell_type": "markdown",
		   "metadata": {},
		   "source": [
			"## Example 2.26: Dynamic_resistance_in_Forward_Reverse_direction.sce"
		   ]
		  },
  {
"cell_type": "code",
	   "execution_count": null,
	   "metadata": {
	    "collapsed": true
	   },
	   "outputs": [],
"source": [
"// Dynamic resistance in forward,reverse direction\n",
"// Basic Electronics\n",
"// By Debashis De\n",
"// First Edition, 2010\n",
"// Dorling Kindersley Pvt. Ltd. India\n",
"// Example 2-26 in page 103\n",
"\n",
"clear; clc; close;\n",
"\n",
"// Given data\n",
"T=398; // Temperature in K\n",
"I_0=80*10^-6; // Current in micro A\n",
"eta=1; // Constant\n",
"V_F=[-0.2 0.2]; // Forward voltages in Volts\n",
"V_T=0.0343; // Thermal voltage in volts\n",
"\n",
"// Calculation\n",
"alp=[1 2];\n",
"for i=1:2\n",
"    R_ac=(V_T/I_0)*exp(V_F(i)/V_T);\n",
"    printf('(%0.0f)Dynamic resistance = %0.3e ohm\n',alp(i),R_ac);\n",
"end\n",
"\n",
"// Result\n",
"// (a) Dynamic resistance in forward direction = 1.258 ohm\n",
"// (b) Dynamic resistance in reverse direction = 0.146 Mohm"
   ]
   }
,
{
		   "cell_type": "markdown",
		   "metadata": {},
		   "source": [
			"## Example 2.27: Dynamic_resistance_at_forward_bias.sce"
		   ]
		  },
  {
"cell_type": "code",
	   "execution_count": null,
	   "metadata": {
	    "collapsed": true
	   },
	   "outputs": [],
"source": [
"// Dynamic resistance at forward bias\n",
"// Basic Electronics\n",
"// By Debashis De\n",
"// First Edition, 2010\n",
"// Dorling Kindersley Pvt. Ltd. India\n",
"// Example 2-27 in page 103\n",
"\n",
"clear; clc; close;\n",
"\n",
"// Given data\n",
"k_BT=25.86*10^-3; // Constant\n",
"I_0=1.5*10^-6; // Current in microA\n",
"V=0.15; // Forward bias voltage in volts\n",
"V_T=0.02586; // Thermal voltage in volts\n",
"\n",
"// Calculation\n",
"R_ac=k_BT/(I_0*exp(V/V_T));\n",
"\n",
"printf('Dynamic resistance = %0.2f W',R_ac);\n",
"\n",
"// Result\n",
"// Dynamic resistance at forward bias = 52.17 W"
   ]
   }
,
{
		   "cell_type": "markdown",
		   "metadata": {},
		   "source": [
			"## Example 2.28: Maximum_forward_current_forward_resistance.sce"
		   ]
		  },
  {
"cell_type": "code",
	   "execution_count": null,
	   "metadata": {
	    "collapsed": true
	   },
	   "outputs": [],
"source": [
"// Maximum forward current,forward resistance\n",
"// Basic Electronics\n",
"// By Debashis De\n",
"// First Edition, 2010\n",
"// Dorling Kindersley Pvt. Ltd. India\n",
"// Example 2-28 in page 104\n",
"\n",
"clear; clc; close;\n",
"\n",
"// Given data\n",
"P_max=2.5; // Maximum power in watt\n",
"V_f=0.9; // Forward voltage in V\n",
"I_max=2.2; // Maximum current in A\n",
"\n",
"// Calculation\n",
"I_fmax=P_max/V_f;\n",
"R_f=P_max/(I_max)^2;\n",
"\n",
"printf('(a)Maximum forward current = %0.2f A\n',I_fmax);\n",
"printf('(b)Forward diode resistance = %0.3f ohm',R_f);\n",
"\n",
"// Result\n",
"// Forward current = 2.78 A\n",
"// Diode forward resistance = 0.517 ohm"
   ]
   }
,
{
		   "cell_type": "markdown",
		   "metadata": {},
		   "source": [
			"## Example 2.29: Height_of_potential_energy_barrier.sce"
		   ]
		  },
  {
"cell_type": "code",
	   "execution_count": null,
	   "metadata": {
	    "collapsed": true
	   },
	   "outputs": [],
"source": [
"// Height of potential energy barrier\n",
"// Basic Electronics\n",
"// By Debashis De\n",
"// First Edition, 2010\n",
"// Dorling Kindersley Pvt. Ltd. India\n",
"// Example 2-29 in page 104\n",
"\n",
"clear; clc; close;\n",
"\n",
"// Given data\n",
"rho1=2; // Resistivity of p-side in ohm-cm\n",
"rho2=1; // Resistivity of n-side in ohm-cm\n",
"e=1.6*10^-19; // Charge on an electron in C\n",
"\n",
"// Calculation\n",
"N_A1=1/(rho1*e*1800); \n",
"N_D1=1/(rho2*e*3800); \n",
"N_A2=1/(rho1*e*500);\n",
"N_D2=1/(rho2*e*1300); \n",
"V_01=0.026*log((N_A1*N_D1)/(2.5*10^13)^2);\n",
"V_02=0.026*log((N_A2*N_D2)/(1.5*10^10)^2);\n",
"printf('(a)For Ge:\n');\n",
"printf('N_A = %0.2e /cm^3\nN_D = %0.2e /cm^3\n',N_A1,N_D1);\n",
"printf('Therefore barrier potential energy for Ge = %0.2f eV\n\n',V_01);\n",
"printf('(b)For Si:\n');\n",
"printf('N_A = %0.2e /cm^3\nN_D = %0.2e /cm^3\n',N_A2,N_D2);\n",
"printf('Therefore barrier potential energy for Si = %0.3f eV',V_02);\n",
"\n",
"// Result\n",
"// (a) Height of barrier potential energy for Ge = 0.22 eV\n",
"// (b) Height of barrier potential energy for Si = 0.667 eV"
   ]
   }
,
{
		   "cell_type": "markdown",
		   "metadata": {},
		   "source": [
			"## Example 2.2: Width_of_depletion_zone_at_300K.sce"
		   ]
		  },
  {
"cell_type": "code",
	   "execution_count": null,
	   "metadata": {
	    "collapsed": true
	   },
	   "outputs": [],
"source": [
"// Width of depletion zone at 300K\n",
"// Basic Electronics\n",
"// By Debashis De\n",
"// First Edition, 2010\n",
"// Dorling Kindersley Pvt. Ltd. India\n",
"// Example 2-2 in page 83\n",
"\n",
"clear; clc; close;\n",
"\n",
"// Given data\n",
"N_d=10^16; // Donor concentration /cm^3\n",
"N_a=5*10^18; // Acceptor concentration /cm^3\n",
"ni=1.5*10^10; // Intrinsic concentration /cm^3\n",
"e=1.6*10^-19; // Charge on an electron in C\n",
"epsln=11.8*8.85*10^-14; // Constant of calculation\n",
"\n",
"// Calculation\n",
"V_0=0.0259*log((N_d*N_a)/(ni^2));\n",
"printf('The height of the barrier energy is %0.2f V\n',V_0);\n",
"\n",
"W=sqrt(2*((epsln*V_0)/(e)*((1/N_a)+(1/N_d))));\n",
"printf('Width of depletion zone is %0.3e cm',W);\n",
"\n",
"// Result\n",
"// The height of the barrier energy is 0.86 V\n",
"// Width of depletion zone in n-type Si is 3.354*10^-5 cm"
   ]
   }
,
{
		   "cell_type": "markdown",
		   "metadata": {},
		   "source": [
			"## Example 2.30: Dynamic_resistance_in_forward_reverse_direction.sce"
		   ]
		  },
  {
"cell_type": "code",
	   "execution_count": null,
	   "metadata": {
	    "collapsed": true
	   },
	   "outputs": [],
"source": [
"// Dynamic resistance in forward,reverse direction\n",
"// Basic Electronics\n",
"// By Debashis De\n",
"// First Edition, 2010\n",
"// Dorling Kindersley Pvt. Ltd. India\n",
"// Example 2-30 in page 105\n",
"\n",
"clear; clc; close;\n",
"\n",
"// Given data\n",
"V_T=0.0343; // Thermal voltage at 398K in V\n",
"eta=1; // Constant for Ge\n",
"\n",
"// Calculation\n",
"// Final expression for r derived after differentiating w.r.t V\n",
"r1=((35*10^-6)/(34.3*10^-3))*exp(5.83);\n",
"A1=1/r1;\n",
"r2=3.185*10^-6\n",
"A2=1/r2;\n",
"\n",
"printf('(a)Dynamic resistance in forward direction = %0.3f ohm\n',A1);\n",
"printf('(b)Dynamic resistance in reverse direction = %0.3e ohm',A2);\n",
"\n",
"// Result\n",
"// (a) Resistance in forward direction = 2.879 ohm\n",
"// (b) Resistance in reverse direction = 0.314 Mohm"
   ]
   }
,
{
		   "cell_type": "markdown",
		   "metadata": {},
		   "source": [
			"## Example 2.31: Maximum_and_minimum_Zener_currents.sce"
		   ]
		  },
  {
"cell_type": "code",
	   "execution_count": null,
	   "metadata": {
	    "collapsed": true
	   },
	   "outputs": [],
"source": [
"// Maximum and minimum Zener currents\n",
"// Basic Electronics\n",
"// By Debashis De\n",
"// First Edition, 2010\n",
"// Dorling Kindersley Pvt. Ltd. India\n",
"// Example 2-31 in page 110\n",
"\n",
"clear; clc; close;\n",
"\n",
"// Given data\n",
"V_z=10; // Zener voltage in V\n",
"R_s=1*10^3; // Shunt resistance in K-ohm\n",
"R_l=10*10^3; // Load resistance in K-ohm\n",
"Vi_max=40; // Maximum input voltage in V\n",
"Vi_min=25; // Minimum input voltage in V\n",
"\n",
"// Calculation\n",
"I_zmax=((Vi_max-V_z)/1000)-(5*10^-3);\n",
"I_zmin=((Vi_min-V_z)/R_s)-(5*10^-3);\n",
"\n",
"printf('Maximum value of zener current = %0.2e A\n',I_zmax);\n",
"printf('Minimum value of zener current = %0.2e A',I_zmin);\n",
"\n",
"// Result\n",
"// Maximum zener current = 25 mA\n",
"// Minimum zener current = 10 mA"
   ]
   }
,
{
		   "cell_type": "markdown",
		   "metadata": {},
		   "source": [
			"## Example 2.32: Find_the_range_for_R.sce"
		   ]
		  },
  {
"cell_type": "code",
	   "execution_count": null,
	   "metadata": {
	    "collapsed": true
	   },
	   "outputs": [],
"source": [
"// Find the range for R\n",
"// Basic Electronics\n",
"// By Debashis De\n",
"// First Edition, 2010\n",
"// Dorling Kindersley Pvt. Ltd. India\n",
"// Example 2-32 in page 110\n",
"\n",
"clear; clc; close;\n",
"\n",
"// Given data\n",
"P=250; // Maximum power dissipation in mW\n",
"V=15; // Supply voltage in V\n",
"\n",
"// Caluclation\n",
"I=(250*10^-3)/5;\n",
"printf('Maximum permissible current = %0.3e A\n',I);\n",
"printf('10 percent of 50mA = 5mA\n');\n",
"I1=I-(5*10^-3);\n",
"printf('Maximum current through diode to maintain constant voltage = %0.1e A',I1);\n",
"\n",
"// Result\n",
"// Maximum current to maintain constant voltage = 45mA"
   ]
   }
,
{
		   "cell_type": "markdown",
		   "metadata": {},
		   "source": [
			"## Example 2.33: Find_breakdown_voltage.sce"
		   ]
		  },
  {
"cell_type": "code",
	   "execution_count": null,
	   "metadata": {
	    "collapsed": true
	   },
	   "outputs": [],
"source": [
"// Find breakdown voltage\n",
"// Basic Electronics\n",
"// By Debashis De\n",
"// First Edition, 2010\n",
"// Dorling Kindersley Pvt. Ltd. India\n",
"// Example 2-33 in page 111\n",
"\n",
"clear; clc; close;\n",
"\n",
"// Given data\n",
"E=1.5*10^5; // Electric field in V/cm\n",
"epsln=11.9*8.854*10^-16; // Constant\n",
"e=1.6*10^-19; // Charge on an electron in eV\n",
"N_d=2*10^15; // Doping concentration /cm^3\n",
"\n",
"// Calculation\n",
"W=(E*epsln)/(e*N_d);\n",
"V_b=(W*E)/2;\n",
"\n",
"printf('Width of depletion region = %0.3e m\n',W);\n",
"printf('Therefore,breakdown voltage Vbr = %0.4f V',V_b);\n",
"\n",
"// Result\n",
"// Breakdown voltage = 0.3704 V"
   ]
   }
,
{
		   "cell_type": "markdown",
		   "metadata": {},
		   "source": [
			"## Example 2.35: Calculate_Vz.sce"
		   ]
		  },
  {
"cell_type": "code",
	   "execution_count": null,
	   "metadata": {
	    "collapsed": true
	   },
	   "outputs": [],
"source": [
"// Calculate V_z\n",
"// Basic Electronics\n",
"// By Debashis De\n",
"// First Edition, 2010\n",
"// Dorling Kindersley Pvt. Ltd. India\n",
"// Example 2-35 in page 112\n",
"\n",
"clear; clc; close;\n",
"\n",
"// Given data\n",
"// (a) Proof of V_z=51/sigma has been given\n",
"sigmai=1/45; // Intrinsic conductivity in 1/ohm-cm\n",
"sigmap=1/3.9; // Conductivity of p material in1/ohm-cm\n",
"I_0=6*10^-6; // Current in microA\n",
"\n",
"// Calculation\n",
"Vz1=51/sigmai;\n",
"Vz2=51/sigmap;\n",
"I=I_0*(exp(100/26)-1);\n",
"printf('(a)Proof of V_z=51/sigmap has been given\n');\n",
"printf('(b)When material is intrinsic, Vz = %0.3f V\n',Vz1);\n",
"printf('(c)When resistivity drops, Vz = %0.1f V\n',Vz2);\n",
"printf('(d)I = %0.3e A',I);\n",
"\n",
"// Result\n",
"// (a) Vz = 51/sigmap is proved\n",
"// (b) Vz1 = 2300V\n",
"// (c) Vz2 = 198.9V\n",
"// (d) I = 0.274 mA"
   ]
   }
,
{
		   "cell_type": "markdown",
		   "metadata": {},
		   "source": [
			"## Example 2.37: Find_the_ideality_factor.sce"
		   ]
		  },
  {
"cell_type": "code",
	   "execution_count": null,
	   "metadata": {
	    "collapsed": true
	   },
	   "outputs": [],
"source": [
"// Find the ideality factor\n",
"// Basic Electronics\n",
"// By Debashis De\n",
"// First Edition, 2010\n",
"// Dorling Kindersley Pvt. Ltd. India\n",
"// Example 2-37 in page 112\n",
"\n",
"clear; clc; close;\n",
"\n",
"// Given data\n",
"I1=0.5*10^-3; // Diode current in mA at 340mV\n",
"I2=15*10^-3; // Diode current in mA at 465mV\n",
"kb_T=5*10^-3; // Constant in mV\n",
"\n",
"// Calculation\n",
"// After simplifying the current equation we get an expression for eta\n",
"eta=5/(2.303*log10(30));\n",
"\n",
"printf('Ideality factor = %0.2f',eta);\n",
"\n",
"// Result\n",
"// Ideality factor = 1.47"
   ]
   }
,
{
		   "cell_type": "markdown",
		   "metadata": {},
		   "source": [
			"## Example 2.38: Temperature_coefficient_of_Avalanche_diode.sce"
		   ]
		  },
  {
"cell_type": "code",
	   "execution_count": null,
	   "metadata": {
	    "collapsed": true
	   },
	   "outputs": [],
"source": [
"// Temperature coefficient of Avalanche diode\n",
"// Basic Electronics\n",
"// By Debashis De\n",
"// First Edition, 2010\n",
"// Dorling Kindersley Pvt. Ltd. India\n",
"// Example 2-38 in page 113\n",
"\n",
"clear; clc; close;\n",
"\n",
"// Given data\n",
"V=12; // Voltage of avalanche diode in V\n",
"T=1.7*10^-3; // Temperature coeff of Si diode\n",
"\n",
"// Calculation\n",
"A=(T/V)*100;\n",
"printf('Temperature coeff in percentage = %0.4f percent/degree-C',A);\n",
"\n",
"// Result\n",
"// Temperature coeff in percentage = 0.0142 %/degree-C"
   ]
   }
,
{
		   "cell_type": "markdown",
		   "metadata": {},
		   "source": [
			"## Example 2.39: Limits_for_varying_V.sce"
		   ]
		  },
  {
"cell_type": "code",
	   "execution_count": null,
	   "metadata": {
	    "collapsed": true
	   },
	   "outputs": [],
"source": [
"// Limits for varying V\n",
"// Basic Electronics\n",
"// By Debashis De\n",
"// First Edition, 2010\n",
"// Dorling Kindersley Pvt. Ltd. India\n",
"// Example 2-39 in page 113\n",
"\n",
"clear; clc; close;\n",
"\n",
"// Given data\n",
"I_d=5*10^-3; // Diode current in mA\n",
"R=2.5*10^3; // Resistance in K-ohm\n",
"I_T=40*10^-3; // Diode current in mA\n",
"\n",
"// Calculation\n",
"I_max=I_T-I_d;\n",
"printf('(a)I_max = %0.2e A\n',I_max);\n",
"printf('(b)Minimum I_d for good regulation is 5 mA,hence I_T=30 mA\n');\n",
"V_max1=(30*3.5)+60;\n",
"printf('V_max = %0.0f V\n',V_max1);\n",
"printf('Maximum I_d for good regulation is 40 mA,hence I_T=65 mA\n');\n",
"V_max2=(65*3.5)+60;\n",
"printf('V_max = %0.1f V',V_max2);\n",
"\n",
"// Result\n",
"// (a) I_max = 35 mA\n",
"// (b) V_max1 = 165 V \n",
"// (c) V_max2 = 287.5 V"
   ]
   }
,
{
		   "cell_type": "markdown",
		   "metadata": {},
		   "source": [
			"## Example 2.3: Find_thermal_and_barrier_volatge.sce"
		   ]
		  },
  {
"cell_type": "code",
	   "execution_count": null,
	   "metadata": {
	    "collapsed": true
	   },
	   "outputs": [],
"source": [
"// Find thermal and barrier volatge\n",
"// Basic Electronics\n",
"// By Debashis De\n",
"// First Edition, 2010\n",
"// Dorling Kindersley Pvt. Ltd. India\n",
"// Example 2-3 in page 84\n",
"\n",
"clear; clc; close;\n",
"\n",
"// Given data\n",
"T=303; // Temperature in K\n",
"ni=1.5*10^16; // Intrinsic concentration /cm^3\n",
"e=1.6*10^-19; // Charge on an electron in C\n",
"k_BT=1.38*10^-23; // Measured in eV at 303K\n",
"N_A=10^22; // Acceptor concentration /cm^3\n",
"N_D=1.2*10^21; // Donor concentration /cm^3\n",
"\n",
"// Calculation\n",
"V_T=(k_BT*T)/e;\n",
"printf('Thermal voltage = %0.2e V\n',V_T);\n",
"ni1=ni^2;\n",
"printf('ni^2 = %0.3e\n',ni1);\n",
"V_0=V_T*log((N_A*N_D)/(ni1));\n",
"printf('Barrier voltage = %0.3f V',V_0);\n",
"\n",
"// Result\n",
"// Thermal voltage = 26.1 mV\n",
"// Barrier voltage = 0.635 V"
   ]
   }
,
{
		   "cell_type": "markdown",
		   "metadata": {},
		   "source": [
			"## Example 2.4: Barrier_potential_for_silicon_junction.sce"
		   ]
		  },
  {
"cell_type": "code",
	   "execution_count": null,
	   "metadata": {
	    "collapsed": true
	   },
	   "outputs": [],
"source": [
"// Barrier potential for silicon junction\n",
"// Basic Electronics\n",
"// By Debashis De\n",
"// First Edition, 2010\n",
"// Dorling Kindersley Pvt. Ltd. India\n",
"// Example 2-4 in page 84\n",
"\n",
"clear; clc; close;\n",
"\n",
"// Given data\n",
"t=[70 0]; // Declaring the variables\n",
"t1=25; // Given temperature in K\n",
"\n",
"// Calculation\n",
"alp=[1 2];\n",
"for i=1:2\n",
"delta_V=-0.002*(t(i)-t1);\n",
"Vb=0.7+delta_V;\n",
"printf('(%0.0f)delta_V at %d degrees = %0.2f V\n',alp(i),t(i),delta_V);\n",
"printf('Thus the barrier potential at %d degress = %0.2f V\n',t(i),Vb);\n",
"end\n",
"\n",
"// Result\n",
"// (a) Barrier potential at 70 degrees is 0.61 V\n",
"// (b) Barrier potential at 0 degrees is 0.75 V"
   ]
   }
,
{
		   "cell_type": "markdown",
		   "metadata": {},
		   "source": [
			"## Example 2.5: Find_depletion_layer_capacitance.sce"
		   ]
		  },
  {
"cell_type": "code",
	   "execution_count": null,
	   "metadata": {
	    "collapsed": true
	   },
	   "outputs": [],
"source": [
"// Find depletion layer capacitance\n",
"// Basic Electronics\n",
"// By Debashis De\n",
"// First Edition, 2010\n",
"// Dorling Kindersley Pvt. Ltd. India\n",
"// Example 2-5 in page 86\n",
"\n",
"clear; clc; close;\n",
"\n",
"// Given data\n",
"epsln=12/(36*%pi*10^11); // Constant for Si in F/cm\n",
"A=8.11058*10^-1; // Cross sectional area in m^2\n",
"mu_p=500; // Mobility of holes\n",
"e=1.6*10^-19; // Charge on an electron in C\n",
"V_j=4.9; // Junction potential in V\n",
"\n",
"// Calculation\n",
"printf('(a)We have C_t/A = sqrt((e*epsnl)/2)*sqrt(Na/Vj)\n');\n",
"K=sqrt((e*epsln)/2);\n",
"printf('sqrt((e*epsln)/2) = %0.2e\n',K);\n",
"printf('Hence C_t = %0.2e * sqrt(Na/Vj) F/cm^2\n',K);\n",
"K1=K*10^12;\n",
"printf('Or C_t = %0.2e * sqrt(Na/Vj) pF/cm^2\n',K1);\n",
"N_A=1/(3*mu_p*e);\n",
"C_T=(2.9*10^-4)*sqrt(N_A/V_j)*(8.14*10^-3);\n",
"printf('(b)The depletion layer capacitance = %0.2f pF',C_T);\n",
"\n",
"// Result\n",
"// (a) The expression for depletion layer capacitance is proved\n",
"// (b) The depletion layer capacitance in silicon is 68.84 pF"
   ]
   }
,
{
		   "cell_type": "markdown",
		   "metadata": {},
		   "source": [
			"## Example 2.6: Compute_decrease_in_capacitance.sce"
		   ]
		  },
  {
"cell_type": "code",
	   "execution_count": null,
	   "metadata": {
	    "collapsed": true
	   },
	   "outputs": [],
"source": [
"// Compute decrease in capacitance\n",
"// Basic Electronics\n",
"// By Debashis De\n",
"// First Edition, 2010\n",
"// Dorling Kindersley Pvt. Ltd. India\n",
"// Example 2-6 in page 87\n",
"\n",
"clear; clc; close;\n",
"\n",
"// Given data\n",
"V=6.5; // Incresed bias voltage in V\n",
"lambda=(20*sqrt(5)); // Constant of calculation\n",
"\n",
"// Calculation\n",
"C_T=lambda/sqrt(V);\n",
"\n",
"printf('Transition capacitance of abrupt junction at 6.5 V = %0.2f pF\n',C_T);\n",
"printf('This corresponds to a decrese of 2.46 pF');\n",
"\n",
"// Result\n",
"// Transition capacitance = 17.54 pF\n",
"// This corresponds to a decrese of 2.46 pF"
   ]
   }
,
{
		   "cell_type": "markdown",
		   "metadata": {},
		   "source": [
			"## Example 2.7: Calculate_barrier_capacitance_of_Ge.sce"
		   ]
		  },
  {
"cell_type": "code",
	   "execution_count": null,
	   "metadata": {
	    "collapsed": true
	   },
	   "outputs": [],
"source": [
"// Calculate barrier capacitance of Ge\n",
"// Basic Electronics\n",
"// By Debashis De\n",
"// First Edition, 2010\n",
"// Dorling Kindersley Pvt. Ltd. India\n",
"// Example 2-7 in page 87\n",
"\n",
"clear; clc; close;\n",
"\n",
"// Given data\n",
"epsln=1.41*10^-12; // Dielectric constant\n",
"A=0.0225; // Junction area in cm^2\n",
"W=2*10^-4; // Space-charge thickness in cm\n",
"\n",
"// Calculation\n",
"C_T=epsln*(A/W);\n",
"\n",
"printf('Barrier capacitance = %0.2e F',C_T);\n",
"\n",
"// Result\n",
"// Barrier capacitance = 159.3 pF"
   ]
   }
,
{
		   "cell_type": "markdown",
		   "metadata": {},
		   "source": [
			"## Example 2.8: Calculate_width_of_depletion_layer.sce"
		   ]
		  },
  {
"cell_type": "code",
	   "execution_count": null,
	   "metadata": {
	    "collapsed": true
	   },
	   "outputs": [],
"source": [
"// Calculate width of depletion layer\n",
"// Basic Electronics\n",
"// By Debashis De\n",
"// First Edition, 2010\n",
"// Dorling Kindersley Pvt. Ltd. India\n",
"// Example 2-8 in page 87\n",
"\n",
"clear; clc; close;\n",
"\n",
"// Given data\n",
"V=[10.2 0.3 0.1]; // Applied voltages in V\n",
"epsln=16; // Constant of calculation\n",
"A=1*10^-6; // Cross sectional area in m^2\n",
"\n",
"// Calculation\n",
"alp=[1 2 3];\n",
"for i=1:3\n",
"    W=sqrt((V(i)*10^-10)/14.3);\n",
"    printf('(%0.0f)Width of depletion layer for %0.2f V = %0.2e mu-m\n\n',alp(i),V(i),W);\n",
"end\n",
"W=[8.5 1.45];\n",
"alp1=[1 2];\n",
"for j=1:2\n",
"    C_T=(epsln*10^-9)/(36*%pi*W(j));\n",
"    printf('(%0.0f)Space charge capacitance for %0.2f mu-m = %0.2e F\n\n',alp(j),W(j),C_T);\n",
"end\n",
"\n",
"// Result\n",
"// Widths of depletion layer are: \n",
"// (a) 8.5 mu-m\n",
"// (b) 1.45 mu-m \n",
"// (c) 0.84 mu-m respectively\n",
"// Space charge capacitances are:\n",
"// (a) 16.65 pF \n",
"// (b) 97.6 pF respectively"
   ]
   }
],
"metadata": {
		  "kernelspec": {
		   "display_name": "Scilab",
		   "language": "scilab",
		   "name": "scilab"
		  },
		  "language_info": {
		   "file_extension": ".sce",
		   "help_links": [
			{
			 "text": "MetaKernel Magics",
			 "url": "https://github.com/calysto/metakernel/blob/master/metakernel/magics/README.md"
			}
		   ],
		   "mimetype": "text/x-octave",
		   "name": "scilab",
		   "version": "0.7.1"
		  }
		 },
		 "nbformat": 4,
		 "nbformat_minor": 0
}
