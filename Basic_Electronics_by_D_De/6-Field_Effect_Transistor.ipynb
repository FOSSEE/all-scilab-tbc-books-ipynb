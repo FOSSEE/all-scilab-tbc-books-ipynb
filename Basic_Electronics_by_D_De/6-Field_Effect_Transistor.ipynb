{
"cells": [
 {
		   "cell_type": "markdown",
	   "metadata": {},
	   "source": [
       "# Chapter 6: Field Effect Transistor"
	   ]
	},
{
		   "cell_type": "markdown",
		   "metadata": {},
		   "source": [
			"## Example 6.10: Find_pinch_off_saturation_voltage.sce"
		   ]
		  },
  {
"cell_type": "code",
	   "execution_count": null,
	   "metadata": {
	    "collapsed": true
	   },
	   "outputs": [],
"source": [
"// Find pinch off,saturation voltage\n",
"// Basic Electronics\n",
"// By Debashis De\n",
"// First Edition, 2010\n",
"// Dorling Kindersley Pvt. Ltd. India\n",
"// Example 6-10 in page 279\n",
"\n",
"clear; clc; close;\n",
"\n",
"// Given data\n",
"Nd=3*10^21; // Donor concentration in /m^3\n",
"epsln=12; // Dielectric constant of silicon\n",
"epsln_0=12*8.85*10^-12; // Constant of calculation\n",
"e=1.6*10^-19; // Charge on an electron in C\n",
"a=2*10^-6; // Constant of calculation\n",
"\n",
"// Calculation\n",
"Vp=(e*Nd*(a)^2)/(2*epsln_0);\n",
"printf('(a)Pinch off voltage = %0.3f V\n',Vp);\n",
"Vds=Vp-2;\n",
"printf('(b)Saturation voltage = %0.3f V',Vds);\n",
"\n",
"// Result\n",
"// (a) Pinch off voltage = 9.040 V\n",
"// (b) Saturation voltage = 7.040 V"
   ]
   }
,
{
		   "cell_type": "markdown",
		   "metadata": {},
		   "source": [
			"## Example 6.11: Determine_drain_source_resistance.sce"
		   ]
		  },
  {
"cell_type": "code",
	   "execution_count": null,
	   "metadata": {
	    "collapsed": true
	   },
	   "outputs": [],
"source": [
"// Determine drain-source resistance\n",
"// Basic Electronics\n",
"// By Debashis De\n",
"// First Edition, 2010\n",
"// Dorling Kindersley Pvt. Ltd. India\n",
"// Example 6-11 in page 287\n",
"\n",
"clear; clc; close;\n",
"\n",
"// Given data\n",
"Ids=10*10^-3; // Drain current in mA\n",
"Vp=-2; // Peak voltage in V\n",
"Vgs=[1 2]; // Gate-source voltage in V\n",
"\n",
"// Calculation\n",
"for i=1:2\n",
"    rds=Vp^2/(2*Ids*(Vgs(i)-Vp));\n",
"    printf('Rds = %0.1f ohm\n',rds);\n",
"end\n",
"\n",
"// Result\n",
"// Rds = 66.7 ohm, 50 ohm"
   ]
   }
,
{
		   "cell_type": "markdown",
		   "metadata": {},
		   "source": [
			"## Example 6.12: Determine_approximate_Rds.sce"
		   ]
		  },
  {
"cell_type": "code",
	   "execution_count": null,
	   "metadata": {
	    "collapsed": true
	   },
	   "outputs": [],
"source": [
"// Determine approximate Rds\n",
"// Basic Electronics\n",
"// By Debashis De\n",
"// First Edition, 2010\n",
"// Dorling Kindersley Pvt. Ltd. India\n",
"// Example 6-12 in page 287\n",
"\n",
"clear; clc; close;\n",
"\n",
"// Given data\n",
"K=0.25*10^-3; // Constant in mA/V^2\n",
"Vt=2; // Voltage in V\n",
"Vgs=[4 6 10]; // Drain-source voltage in V\n",
"\n",
"// Calculation\n",
"for i=1:3\n",
"    rds=1/(2*K*(Vgs(i)-Vt));\n",
"    printf('Rds = %0.0f ohm\n',rds);\n",
"end\n",
"\n",
"// Result\n",
"// Rds = 1 K-ohm, 500 ohm, 250 ohm"
   ]
   }
,
{
		   "cell_type": "markdown",
		   "metadata": {},
		   "source": [
			"## Example 6.13: Find_Vgs_operating_region_Id_Rd.sce"
		   ]
		  },
  {
"cell_type": "code",
	   "execution_count": null,
	   "metadata": {
	    "collapsed": true
	   },
	   "outputs": [],
"source": [
"// Find Vgs,operating region,Id,Rd\n",
"// Basic Electronics\n",
"// By Debashis De\n",
"// First Edition, 2010\n",
"// Dorling Kindersley Pvt. Ltd. India\n",
"// Example 6-13 in page 288\n",
"\n",
"clear; clc; close;\n",
"\n",
"// Given data\n",
"Vdd=10; // Drain voltage in in V\n",
"Vds=6; // Drain-source voltage in V\n",
"K=0.2*10^-3; // Constant in mA/V^2\n",
"Vt=1; // Voltage given\n",
"\n",
"// Calculation\n",
"Vgs=Vds;\n",
"printf('(a)Vgs = %0.0f V\n',Vgs);\n",
"printf('Vds=6V>Vgs-Vt=5V\n');\n",
"Id=K*(Vgs-Vt)^2;\n",
"Rd=(Vdd-Vds)/Id;\n",
"printf('(b)Id = %0.0e A\n',Id);\n",
"printf('(c)Rd = %0.0f ohms',Rd);\n",
"\n",
"// Result\n",
"// (a) Vgs = 6 V\n",
"// (b) Id = 5 mA\n",
"// (c) Rd = 800 ohms"
   ]
   }
,
{
		   "cell_type": "markdown",
		   "metadata": {},
		   "source": [
			"## Example 6.14: Find_operating_region_Vgs_Vds_Rd.sce"
		   ]
		  },
  {
"cell_type": "code",
	   "execution_count": null,
	   "metadata": {
	    "collapsed": true
	   },
	   "outputs": [],
"source": [
"// Find operating region,Vgs,Vds,Rd\n",
"// Basic Electronics\n",
"// By Debashis De\n",
"// First Edition, 2010\n",
"// Dorling Kindersley Pvt. Ltd. India\n",
"// Example 6-14 in page 288\n",
"\n",
"clear; clc; close;\n",
"\n",
"// Given data\n",
"K=0.2*10^-3; // Constant in mA/V^2\n",
"Vt=1; // Given voltage in V\n",
"Vdd=10; // Drain voltage in V\n",
"Id=3.2*10^-3; // Drain current in mA\n",
"\n",
"// Calculation\n",
"printf('Vds=Vgs>Vgs-Vt=Active region operation\n');\n",
"Vgs=Vt+sqrt(Id/K);\n",
"Vds=Vgs;\n",
"Rd=(Vdd-Vds)/Id;\n",
"printf('(a)Vgs = %0.0f V,\n(b)Vds = %0.0f V,\n(c)Rd = %0.2e ohm',Vgs,Vds,Rd);\n",
"\n",
"// Result\n",
"// (a) Vgs = 5 V\n",
"// (b) Vds = 5 V\n",
"// (c) Rd = 1.56 K-ohms"
   ]
   }
,
{
		   "cell_type": "markdown",
		   "metadata": {},
		   "source": [
			"## Example 6.15: Find_Id_when_Vgs_equals_4V.sce"
		   ]
		  },
  {
"cell_type": "code",
	   "execution_count": null,
	   "metadata": {
	    "collapsed": true
	   },
	   "outputs": [],
"source": [
"// Find Id when Vgs=4V\n",
"// Basic Electronics\n",
"// By Debashis De\n",
"// First Edition, 2010\n",
"// Dorling Kindersley Pvt. Ltd. India\n",
"// Example 6-15 in page 288\n",
"\n",
"clear; clc; close;\n",
"\n",
"// Given data\n",
"K=0.15*10^-3; // Constant in mA/V^2\n",
"Vt=2; // Given voltgae in V\n",
"Vdd=12; // Drain voltage in V\n",
"Vgs=4; // Gate-source voltage in V\n",
"\n",
"// Calculation\n",
"Vgg=sqrt(5.4/0.15)+2;\n",
"Id=K*(Vgs-Vt)^2;\n",
"printf('(a)Vgg = %0.0f V,\n(b)Id = %0.1e A',Vgg,Id);\n",
"\n",
"// Result\n",
"// (a) Vgg = 8 V\n",
"// (b) Id = 0.6 mA"
   ]
   }
,
{
		   "cell_type": "markdown",
		   "metadata": {},
		   "source": [
			"## Example 6.16: Determine_Rd.sce"
		   ]
		  },
  {
"cell_type": "code",
	   "execution_count": null,
	   "metadata": {
	    "collapsed": true
	   },
	   "outputs": [],
"source": [
"// Determine Rd\n",
"// Basic Electronics\n",
"// By Debashis De\n",
"// First Edition, 2010\n",
"// Dorling Kindersley Pvt. Ltd. India\n",
"// Example 6-16 in page 289\n",
"\n",
"clear; clc; close;\n",
"\n",
"// Given data\n",
"K=0.25*10^-3; // Constant in mA/V^2\n",
"Vt=2; // Voltage given in V\n",
"Vdd=16; // Drain voltage in V\n",
"Vgg=[4 10]; // Gate voltage values in V\n",
"\n",
"// Calculation\n",
"for i=1:2\n",
"    id=K*(Vgg(i)-2)^2;\n",
"    rd=(16-(Vgg(i)-2))/id;\n",
"    printf('Rd when Vgg is %d V = %0.1e ohm\n',Vgg(i),rd);\n",
"end\n",
"\n",
"// Result\n",
"// (a) Rd = 14 K-ohm\n",
"// (b) 500 ohm"
   ]
   }
,
{
		   "cell_type": "markdown",
		   "metadata": {},
		   "source": [
			"## Example 6.17: Determine_Rd.sce"
		   ]
		  },
  {
"cell_type": "code",
	   "execution_count": null,
	   "metadata": {
	    "collapsed": true
	   },
	   "outputs": [],
"source": [
"// Determine Rd\n",
"// Basic Electronics\n",
"// By Debashis De\n",
"// First Edition, 2010\n",
"// Dorling Kindersley Pvt. Ltd. India\n",
"// Example 6-17 in page 289\n",
"\n",
"clear; clc; close;\n",
"\n",
"// Given data\n",
"K=0.25*10^-3; // Constant in mA/V^2;\n",
"Vt=2; // Given voltage in V\n",
"Rd=1*10^3; // Drain resistance in ohms\n",
"Vdd=16; // Drain voltage in V\n",
"Vgg=4; // Gate voltage in V\n",
"\n",
"// Calculation\n",
"id=K*(4-Vt)^2;\n",
"Vd=(-1*10^3*id)+16;\n",
"printf('(a)Id = %0.0e A,\n(b)Vd = %0.0f V\n',id,Vd);\n",
"printf('Since Vds=15>Vgs-Vt=2,active region operation is confirmed');\n",
"\n",
"// Result\n",
"// (a) Id = 1 mA\n",
"// (b) Vds = 15 V"
   ]
   }
,
{
		   "cell_type": "markdown",
		   "metadata": {},
		   "source": [
			"## Example 6.18: Find_Id_Vds1_Vds2.sce"
		   ]
		  },
  {
"cell_type": "code",
	   "execution_count": null,
	   "metadata": {
	    "collapsed": true
	   },
	   "outputs": [],
"source": [
"// Find Id,Vds1,Vds2\n",
"// Basic Electronics\n",
"// By Debashis De\n",
"// First Edition, 2010\n",
"// Dorling Kindersley Pvt. Ltd. India\n",
"// Example 6-18 in page 289\n",
"\n",
"clear; clc; close;\n",
"\n",
"// Given data\n",
"Ids1=8*10-3; // Drain-source current of M1 in mA\n",
"Vp=-4; // Peak voltage in V\n",
"Ids2=16*10^-3; // Drain-source current of M2 in mA\n",
"Vdd=11; // Drain voltage in V\n",
"Vgg=10; // Gate voltage in V\n",
"\n",
"// Calculation\n",
"Id=Ids2;\n",
"printf('(a)Id = %0.2e A\n',Id);\n",
"Vds=(28+sqrt(28^2-128))/2;\n",
"Vds1=(28-sqrt(28^2-128))/2;\n",
"printf('(b)Vds1 = %0.2f V, %0.2f V\n',Vds,Vds1);\n",
"printf('For ohmic operation Vds1 = 1.19 V\n');\n",
"Vds2=Vdd-1.19;\n",
"printf('(c)Vds2 = %0.2f V',Vds2);\n",
"\n",
"// Result\n",
"// (a) Id = 16 mA\n",
"// (b) Vds1 = 1.19 V\n",
"// (c) Vds2 = 9.81 V"
   ]
   }
,
{
		   "cell_type": "markdown",
		   "metadata": {},
		   "source": [
			"## Example 6.19: Find_operating_region_Vgs_Vds_Id.sce"
		   ]
		  },
  {
"cell_type": "code",
	   "execution_count": null,
	   "metadata": {
	    "collapsed": true
	   },
	   "outputs": [],
"source": [
"// Find operating region,Vgs,Vds,Id\n",
"// Basic Electronics\n",
"// By Debashis De\n",
"// First Edition, 2010\n",
"// Dorling Kindersley Pvt. Ltd. India\n",
"// Example 6-19 in page 290\n",
"\n",
"clear; clc; close;\n",
"\n",
"// Given data\n",
"Ids = 4*10^-3; // Drain-source current in mA\n",
"Vp=-4; // Peak voltage in V\n",
"Vdd=10; // Drain voltage in V\n",
"Rd=1*10^3; // Drain resistance in K-ohms\n",
"\n",
"// Calculation\n",
"printf('(a)Vd=Vgs<Vgs-Vp.Hence ohmic region operation is confirmed\n');\n",
"Vgs1=(-12+sqrt(12^2+160))/2;\n",
"Vgs2=(-12-sqrt(12^2+160))/2;\n",
"printf('(b)Vgs = %0.2f V,%0.2f V\n',Vgs1,Vgs2);\n",
"Vds=Vgs1;\n",
"id=(10-Vds)/(1*10^3);\n",
"printf('(c)Vds = %0.2f V,\n(d)Id = %0.2e A',Vds,id);\n",
"\n",
"// Result\n",
"// (a) Ohmic region operation is confirmed\n",
"// (b) Vgs = 2.72V\n",
"// (c) Vds = 2.72V\n",
"// (d) Id = 7.28mA"
   ]
   }
,
{
		   "cell_type": "markdown",
		   "metadata": {},
		   "source": [
			"## Example 6.1: Determine_approximate_drain_source_resistance.sce"
		   ]
		  },
  {
"cell_type": "code",
	   "execution_count": null,
	   "metadata": {
	    "collapsed": true
	   },
	   "outputs": [],
"source": [
"// Determine approximate drain-source resistance\n",
"// Basic Electronics\n",
"// By Debashis De\n",
"// First Edition, 2010\n",
"// Dorling Kindersley Pvt. Ltd. India\n",
"// Example 6-1 in page 274\n",
"\n",
"clear; clc; close;\n",
"\n",
"// Given data\n",
"I_ds=10*10^-3; // Drain current in mA\n",
"Vp=-2; // Peak voltage in V\n",
"Vgs=[0 -0.5]; // Values of Vgs in V\n",
"\n",
"// Calculation\n",
"alp=[1 2];\n",
"for i=1:2\n",
"    r=Vp^2/(2*I_ds*(Vgs(i)-Vp));\n",
"    printf('(%0.0f)r_ds when Vgs = %d V is %0.2f ohm\n',alp(i),Vgs(i),r);\n",
"end\n",
"\n",
"// Result\n",
"// (a) When Vgs = 0 V, r_ds = 100 ohms\n",
"// (b) When Vgs = 0.5 V, r_ds = 133.33 ohms"
   ]
   }
,
{
		   "cell_type": "markdown",
		   "metadata": {},
		   "source": [
			"## Example 6.20: Find_Vgs_Id_operating_region.sce"
		   ]
		  },
  {
"cell_type": "code",
	   "execution_count": null,
	   "metadata": {
	    "collapsed": true
	   },
	   "outputs": [],
"source": [
"// Find Vgs,Id,operating region\n",
"// Basic Electronics\n",
"// By Debashis De\n",
"// First Edition, 2010\n",
"// Dorling Kindersley Pvt. Ltd. India\n",
"// Example 6-20 in page 290\n",
"\n",
"clear; clc; close;\n",
"\n",
"// Given data\n",
"Ids=4*10^-3; // Drain-source current in mA\n",
"Vp=-4; // Peak voltage in V\n",
"Vdd=10; // Drain voltage in V\n",
"Vds=6; // Drain-source voltage in V\n",
"\n",
"// Calculation\n",
"Vgs=Vds;\n",
"printf('(a)Vgs = %0.0f V\n',Vgs);\n",
"printf('(b)Vds=Vgs<Vgs-Vp.Hence ohmic region operation\n');\n",
"Id=4*10^-3*((2*(5/2)*(3/2))-(9/4));\n",
"printf('(c)Id = %0.1e A',Id);\n",
"\n",
"// Result\n",
"// (a) Vgs = 6 V\n",
"// Ohmic region operation is confirmed\n",
"// (c) Id = 21 mA"
   ]
   }
,
{
		   "cell_type": "markdown",
		   "metadata": {},
		   "source": [
			"## Example 6.21: Find_operating_region_Vgs_Vds_Id.sce"
		   ]
		  },
  {
"cell_type": "code",
	   "execution_count": null,
	   "metadata": {
	    "collapsed": true
	   },
	   "outputs": [],
"source": [
"// Find operating region,Vgs,Vds,Id\n",
"// Basic Electronics\n",
"// By Debashis De\n",
"// First Edition, 2010\n",
"// Dorling Kindersley Pvt. Ltd. India\n",
"// Example 6-21 in page 290\n",
"\n",
"clear; clc; close;\n",
"\n",
"// Given data\n",
"K=0.2*10^-3; // Constant in mA/V^2\n",
"Vt=1; // Voltage in V\n",
"Vdd=10; // Drain voltage in V\n",
"Rd=1*10^3; // Drain resistance in ohms\n",
"\n",
"// Calculation\n",
"printf('(a)Vds=Vgs>Vgs-Vt.Hence active region operation\n');\n",
"printf('0.2*Vgs^2+0.6*Vgs-9.8=0\n');\n",
"Vgs1=(-0.6+sqrt(0.6^2-4*0.2*-9.8))/(2*0.2);\n",
"Vgs2=(-0.6-sqrt(0.6^2-4*0.2*-9.8))/(2*0.2);\n",
"printf('(b)Vgs = %0.2f V or %0.2f V\n',Vgs1,Vgs2);\n",
"printf('Since 0<Vgs<10, Vgs = %0.2f V\n',Vgs1);\n",
"Id=(Vdd-5.66)/Rd;\n",
"printf('(c)Vds = Vgs = 5.66 V\n(d)Id = %0.2e A',Id);\n",
"\n",
"//Result\n",
"// (a) The region of operation is active\n",
"// (b) Vgs = 5.66 V\n",
"// (c) Vds = 5.66 V\n",
"// (c) Id = 4.34 mA"
   ]
   }
,
{
		   "cell_type": "markdown",
		   "metadata": {},
		   "source": [
			"## Example 6.2: Find_Id_and_Vds.sce"
		   ]
		  },
  {
"cell_type": "code",
	   "execution_count": null,
	   "metadata": {
	    "collapsed": true
	   },
	   "outputs": [],
"source": [
"// Find Id and Vds\n",
"// Basic Electronics\n",
"// By Debashis De\n",
"// First Edition, 2010\n",
"// Dorling Kindersley Pvt. Ltd. India\n",
"// Example 6-2 in page 274\n",
"\n",
"clear; clc; close;\n",
"\n",
"// Given data\n",
"Ids=12*10^-3; // Drain current in mA\n",
"Vp=-4; // Peak voltage in V\n",
"Vgs=-2; // Gate to source voltage in V\n",
"Rd=3*10^3; // Drain resistance in K-ohms\n",
"Vcc=15; // Supply voltage in V\n",
"\n",
"// Calculation\n",
"id=Ids*(1-(Vgs/Vp))^2;\n",
"Vds=-id*Rd+Vcc;\n",
"\n",
"printf('(a)Id = %0.0e A\n',id);\n",
"printf('(b)Vds = %0.0f V',Vds);\n",
"\n",
"// Result\n",
"// (a) Id = 3mA\n",
"// (b) Vds = 6V"
   ]
   }
,
{
		   "cell_type": "markdown",
		   "metadata": {},
		   "source": [
			"## Example 6.3: Find_the_value_of_Rd.sce"
		   ]
		  },
  {
"cell_type": "code",
	   "execution_count": null,
	   "metadata": {
	    "collapsed": true
	   },
	   "outputs": [],
"source": [
"// Find the value of Rd\n",
"// Basic Electronics\n",
"// By Debashis De\n",
"// First Edition, 2010\n",
"// Dorling Kindersley Pvt. Ltd. India\n",
"// Example 6-3 in page 275\n",
"\n",
"clear; clc; close;\n",
"\n",
"// Given data\n",
"Ids=12*10^-3; // Drain current in mA\n",
"Vp=-4; // Peak voltage in V\n",
"Rs=0; // Source resistance in ohms\n",
"Vds=0.1; // Drain-source voltage in V\n",
"Vgg=0; // Gate voltage in V\n",
"\n",
"// Calculation\n",
"id=Ids*(50*10^-3-625*10^-6);\n",
"Rd=(15-Vds)/id;\n",
"\n",
"printf('(a)i_d = %0.3e A\n',id);\n",
"printf('(b)Rd = %0.3e ohm',Rd);\n",
"\n",
"// Result\n",
"// (a) i_d = 592.6 mu-A\n",
"// (b) Rd = 25.15 k-ohm"
   ]
   }
,
{
		   "cell_type": "markdown",
		   "metadata": {},
		   "source": [
			"## Example 6.4: Find_id_Vds_slope_of_operation_of_JFET.sce"
		   ]
		  },
  {
"cell_type": "code",
	   "execution_count": null,
	   "metadata": {
	    "collapsed": true
	   },
	   "outputs": [],
"source": [
"// Find id,Vds,slope of operation of JFET\n",
"// Basic Electronics\n",
"// By Debashis De\n",
"// First Edition, 2010\n",
"// Dorling Kindersley Pvt. Ltd. India\n",
"// Example 6-4 in page 275\n",
"\n",
"clear; clc; close;\n",
"\n",
"// Given data\n",
"Ids=12*10^-3; // Drain current in mA\n",
"Vp=-4; // Peak voltage in V\n",
"Rd=1*10^3; // Drain resistance in k-ohm\n",
"Vdd=15; // Drain voltage in V\n",
"\n",
"// Calculation\n",
"Id=Ids;\n",
"Vds=(-Rd*Id)+Vdd;\n",
"printf('Id = %0.2e A\n',Id);\n",
"printf('Vds = %0.0f V\n',Vds);\n",
"printf('Consider it to be operating in the ohmic region\n');\n",
"Vds1=(7+sqrt(49-45))/(3/2);\n",
"Vds2=(7-sqrt(49-45))/(3/2);\n",
"printf('Then Vds = %0.2f V,%0.2f V\n',Vds1,Vds2);\n",
"printf('6V is neglected since it is lesser than -Vp\n');\n",
"id=(15-Vds2)/(1*10^3);\n",
"Vds=Vds2;\n",
"printf('(a)Id = %0.3e A\n',id);\n",
"printf('(b)Vds = %0.2f V',Vds);\n",
"printf('Since Vds<Vgs-Vp,operation region is confirmed in the ohmic region');\n",
"\n",
"// Result\n",
"// (a) Id = 11.67 mA\n",
"// (b) Vds = 3.33 V\n",
"// (c) Operation region is in the ohmic region"
   ]
   }
,
{
		   "cell_type": "markdown",
		   "metadata": {},
		   "source": [
			"## Example 6.5: Find_id_Vgs_Rd_Vds.sce"
		   ]
		  },
  {
"cell_type": "code",
	   "execution_count": null,
	   "metadata": {
	    "collapsed": true
	   },
	   "outputs": [],
"source": [
"// Find id,Vgs,Rd,Vds\n",
"// Basic Electronics\n",
"// By Debashis De\n",
"// First Edition, 2010\n",
"// Dorling Kindersley Pvt. Ltd. India\n",
"// Example 6-5 in page 276\n",
"\n",
"clear; clc; close;\n",
"\n",
"// Given data\n",
"Ids=10*10^-3; // Drain current in mA\n",
"Vp=-4; // Peak voltage in V\n",
"Vdd=12; // Drain voltage in V\n",
"Vgg=0; // Gate voltage in V\n",
"\n",
"// Calculation\n",
"id=10*10^-3*(1-(2/4))^2;\n",
"Vgs=(sqrt(9/10)-1)*4;\n",
"Rd=(12-7.5)/(0.625*10^-3);\n",
"Vds=12-2-(3*0.625);\n",
"printf('(a)Id = %0.2e A\n',id);\n",
"printf('(b)Vgs = %0.3f V\n',Vgs);\n",
"printf('(c)Rd = %0.2e ohm\n',Rd);\n",
"printf('(d)Vds = %0.3f V',Vds);\n",
"\n",
"// Result\n",
"// (a) Id = 2.5 mA\n",
"// Vgs = -0.205 V \n",
"// (c) Rd = 7.2 k-ohm \n",
"// (d) Vds = 8.125 V"
   ]
   }
,
{
		   "cell_type": "markdown",
		   "metadata": {},
		   "source": [
			"## Example 6.6: Determine_Vgs_Id_Vds_operating_region.sce"
		   ]
		  },
  {
"cell_type": "code",
	   "execution_count": null,
	   "metadata": {
	    "collapsed": true
	   },
	   "outputs": [],
"source": [
"// Determine Vgs,Id,Vds,operating region\n",
"// Basic Electronics\n",
"// By Debashis De\n",
"// First Edition, 2010\n",
"// Dorling Kindersley Pvt. Ltd. India\n",
"// Example 6-6 in page 276\n",
"\n",
"clear; clc; close;\n",
"\n",
"// Given data\n",
"Ids=16*10^-3; // Drain current in mA\n",
"Vp=-4; // Peak voltage in V\n",
"Vdd=18; // Drain voltage in V\n",
"Rd=500; // Drain resistance in ohms\n",
"\n",
"// Calculation\n",
"vgs1=(-10+sqrt(100-64))/2;\n",
"vgs2=(-10-sqrt(100-64))/2;\n",
"printf('(a)Vgs = %d V,%d V\n',vgs1,vgs2);\n",
"id=-vgs1/500;\n",
"Vds=18-((1*10^3)*(4*10^-3));\n",
"printf('(b)id = %0.0e A\n',id);\n",
"printf('(c)Vds = %0.0f V\n',Vds);\n",
"printf('Saturation region operation is confirmed from above results');\n",
"\n",
"// Result\n",
"// (a) Vgs = -2V\n",
"// (b) Id = 4 mA, \n",
"// (c) Vds = 14 V, "
   ]
   }
,
{
		   "cell_type": "markdown",
		   "metadata": {},
		   "source": [
			"## Example 6.7: Determine_Vgs_Id_Vds.sce"
		   ]
		  },
  {
"cell_type": "code",
	   "execution_count": null,
	   "metadata": {
	    "collapsed": true
	   },
	   "outputs": [],
"source": [
"// Determine Vgs,Id,Vds\n",
"// Determine Vgs,Id,Vds,operating region\n",
"// Basic Electronics\n",
"// By Debashis De\n",
"// First Edition, 2010\n",
"// Dorling Kindersley Pvt. Ltd. India\n",
"// Example 6-7 in page 277\n",
"\n",
"clear; clc; close;\n",
"\n",
"// Given data\n",
"Ids=8*10^-3; // Drain current in mA\n",
"Vp=-4; // Peak voltage in V\n",
"Vdd=18; // Drain voltage in V\n",
"Rd=8*10^3; // Drain resistance in K-ohms\n",
"\n",
"// Calculation\n",
"vgs1=(-214+sqrt(214^2-(4*63*180)))/(2*63);\n",
"vgs2=(-214-sqrt(214^2-(4*63*180)))/(2*63);\n",
"printf('(a)Vgs = %0.2f V,%0.2f V\n',vgs1,vgs2);\n",
"id1=-vgs1/(1*10^3);\n",
"id2=-vgs2/(1*10^3);\n",
"printf('(b)Id = %0.2e A,%0.2e A\n',id1,id2);\n",
"Vds1=((-9*10^3)*id1)+18;\n",
"Vds2=((-9*10^3)*id2)+18;\n",
"printf('(c)Vds = %0.2f V,%0.2f V',Vds1,Vds2);\n",
"\n",
"// Result\n",
"// (a) Vgs = -1.53 V,-1.86 V\n",
"// (b) Id = 1.53 mA,1.86 mA\n",
"// (c) Vds = 4.23 V,1.26 V"
   ]
   }
,
{
		   "cell_type": "markdown",
		   "metadata": {},
		   "source": [
			"## Example 6.8: Determine_R_Ids_Vgs.sce"
		   ]
		  },
  {
"cell_type": "code",
	   "execution_count": null,
	   "metadata": {
	    "collapsed": true
	   },
	   "outputs": [],
"source": [
"// Determine R,Ids,Vgs\n",
"// Determine Vgs,Id,Vds,operating region\n",
"// Basic Electronics\n",
"// By Debashis De\n",
"// First Edition, 2010\n",
"// Dorling Kindersley Pvt. Ltd. India\n",
"// Example 6-8 in page 277\n",
"\n",
"clear; clc; close;\n",
"\n",
"// Given data\n",
"Vp=-3; // Peak voltage in V\n",
"Vgg=5; // Gate voltage in V\n",
"Ids=10*10^-3; // Drain current in mA\n",
"\n",
"// Calculation\n",
"R=5/(10*10^-3);\n",
"printf('(a)R = %0.0f ohm\n',R);\n",
"Ids=5/400;\n",
"Vds=(2*Ids*R)+15;\n",
"printf('(b)Idss = %0.2e A\n',Ids);\n",
"printf('(c)Vds = %0.0f V\n',Vds);\n",
"printf('This confirms active region\n');\n",
"Rid=14/2;\n",
"Vgs=Vgg-Rid;\n",
"printf('(d)Vgs = %0.0f V\n',Vgs);\n",
"printf('Vds=2>Vgs-Vp=-1.5+3=1.5 -> Active region');\n",
"\n",
"// Result\n",
"// (a) R = 500ohm, \n",
"// (b) Ids = 12.5mA,\n",
"// (c) Vgs = -2V"
   ]
   }
,
{
		   "cell_type": "markdown",
		   "metadata": {},
		   "source": [
			"## Example 6.9: Find_Id_Vgs_Vds_region_of_operation.sce"
		   ]
		  },
  {
"cell_type": "code",
	   "execution_count": null,
	   "metadata": {
	    "collapsed": true
	   },
	   "outputs": [],
"source": [
"// Find Id,Vgs,Vds,region of operation\n",
"// Basic Electronics\n",
"// By Debashis De\n",
"// First Edition, 2010\n",
"// Dorling Kindersley Pvt. Ltd. India\n",
"// Example 6-9 in page 277\n",
"\n",
"clear; clc; close;\n",
"\n",
"// Given data\n",
"Idss=4*10^-3; // Drain current in mA\n",
"Vp=-2; // Peak voltage in V\n",
"Vdd=10; // Supply voltage in V\n",
"Vgs=0; // Gate source voltage in V\n",
"\n",
"// Calculation\n",
"Id=Idss*(1-(Vgs/Vp));\n",
"printf('(a)Id = %0.0e A\n',Id);\n",
"printf('(b)Since Id=Idss, Vgs=0 V\n');\n",
"Vds=10-Vgs;\n",
"printf('(c)Vds = %0.0f V\n',Vds);\n",
"printf('Since Vds=10V>Vgs-Vp=2V,Active region operation of upper JFET is confirmed');\n",
"\n",
"// Result\n",
"// (a) Id = 4 mA,\n",
"// (b) Vgs = 0 V,\n",
"// (c) Vds = 10 V"
   ]
   }
],
"metadata": {
		  "kernelspec": {
		   "display_name": "Scilab",
		   "language": "scilab",
		   "name": "scilab"
		  },
		  "language_info": {
		   "file_extension": ".sce",
		   "help_links": [
			{
			 "text": "MetaKernel Magics",
			 "url": "https://github.com/calysto/metakernel/blob/master/metakernel/magics/README.md"
			}
		   ],
		   "mimetype": "text/x-octave",
		   "name": "scilab",
		   "version": "0.7.1"
		  }
		 },
		 "nbformat": 4,
		 "nbformat_minor": 0
}
