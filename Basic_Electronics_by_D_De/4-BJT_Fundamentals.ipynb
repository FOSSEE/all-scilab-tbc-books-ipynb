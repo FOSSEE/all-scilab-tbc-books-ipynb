{
"cells": [
 {
		   "cell_type": "markdown",
	   "metadata": {},
	   "source": [
       "# Chapter 4: BJT Fundamentals"
	   ]
	},
{
		   "cell_type": "markdown",
		   "metadata": {},
		   "source": [
			"## Example 4.10: Measurement_of_Circuit_Voltage_changes.sce"
		   ]
		  },
  {
"cell_type": "code",
	   "execution_count": null,
	   "metadata": {
	    "collapsed": true
	   },
	   "outputs": [],
"source": [
"// Measurement of Circuit Voltage changes\n",
"// Basic Electronics\n",
"// By Debashis De\n",
"// First Edition, 2010\n",
"// Dorling Kindersley Pvt. Ltd. India\n",
"// Example 4-10 in page 211\n",
"\n",
"clear; clc; close;\n",
"\n",
"// Given Data\n",
"Vb=-5; // Base Voltage of BJT in V\n",
"Rc=1*10^3; // Collector Resistance in K-ohms\n",
"Ie=2*10^-3; // Emitter Current of BJT in mA\n",
"delB=+0.4; // Change in Base Voltage\n",
"\n",
"// Calculations\n",
"delE=+0.4; \n",
"delC=0; \n",
"\n",
"printf('(a)Change in Emitter voltage is +%0.2f V\n',delE);\n",
"printf('(b)Change in Collector Voltage is %0.2f V\n',delC);\n",
"\n",
"// Results\n",
"// (a) Change in Emitter Voltage in the Circuit = +0.4 V\n",
"// (b) Change in Collector Voltage in the Circuit = 0.0 V"
   ]
   }
,
{
		   "cell_type": "markdown",
		   "metadata": {},
		   "source": [
			"## Example 4.11: To_Determine_mode_of_operation_of_BJT.sce"
		   ]
		  },
  {
"cell_type": "code",
	   "execution_count": null,
	   "metadata": {
	    "collapsed": true
	   },
	   "outputs": [],
"source": [
"// Determine mode of operation of BJT\n",
"// Basic Electronics\n",
"// By Debashis De\n",
"// First Edition, 2010\n",
"// Dorling Kindersley Pvt. Ltd. India\n",
"// Example 4-11 in page 212\n",
"\n",
"clear; clc; close;\n",
"\n",
"// Given Data\n",
"Vbe=0.7; // Base-Emitter Voltage in V\n",
"beta_bjt=100; // beta gain of BJ\n",
"\n",
"// Calculation\n",
"printf('Assume active mode for circuit 1\n');\n",
"Vb1=2; \n",
"Ve_1=Vb1-Vbe; \n",
"Ie1=1*10^-3;\n",
"Ic1=Ie1*(beta_bjt/(1+beta_bjt));\n",
"Ve1=6-(3*0.99);\n",
"printf('(a)Ve = %0.2f V\n(b)Ic = %0.2e A\n(c)Ve = %0.2f V\n',Ve_1,Ic1,Ve1);\n",
"printf('Thus the circuit operates in an active mode\n\n');\n",
"\n",
"printf('For circuit 2,assume active mode\n');\n",
"Vcc=1;\n",
"Ve2=Vcc+Vbe;\n",
"Ie2=(6-Ve2)/(10*10^3);\n",
"Vc=0+(10*0.43);\n",
"printf('(a)Ve = %0.1f V\n(b)Ie = %0.2e A\n(c)Vc = %0.2f V\n',Ve2,Ie2,Vc);\n",
"printf('This circuit operates in a saturated mode\n\n');\n",
"\n",
"printf('For circuit 3,assume active mode\n');\n",
"Ve3=-5+Vbe;\n",
"Ie3=(9.5-Ve3)/(200*10^3);\n",
"Ic=Ie3*(beta_bjt/(1+beta_bjt));\n",
"Vc3=-50+(0.492*20);\n",
"printf('(a)Ve = %0.1f V\n(b)Ie = %0.4e A\n(c)Ic = %0.3e A\n(d)Vc = %0.1f V\n',Ve3,Ie3,Ic,Vc3);\n",
"printf('The circuit operates in an active mode\n\n');\n",
"\n",
"printf('For circuit 4,assume active mode\n');\n",
"Ve4=-20.7;\n",
"Ie4=(30+Ve4)/(5*10^3);\n",
"Vc4=(-Ie4*(beta_bjt/(1+beta_bjt))*(2*10^3))-10;\n",
"printf('(a)Ie = %0.2e A\n(b)Vc = %0.2f V\n',Ie4,Vc4);\n",
"printf('The circuit operates in an active mode');\n",
"\n",
"// Result\n",
"// (a) Circuit 1 operates in active mode\n",
"// (b) Circuit 2 operates in saturation mode\n",
"// (c) Circuit 3 operates in active mode\n",
"// (d) Circuit 4 operates in active mode"
   ]
   }
,
{
		   "cell_type": "markdown",
		   "metadata": {},
		   "source": [
			"## Example 4.1: Calculate_Base_and_Collector_Currents.sce"
		   ]
		  },
  {
"cell_type": "code",
	   "execution_count": null,
	   "metadata": {
	    "collapsed": true
	   },
	   "outputs": [],
"source": [
"// Calculate Base and Collector Currents\n",
"// Basic Electronics\n",
"// By Debashis De\n",
"// First Edition, 2010\n",
"// Dorling Kindersley Pvt. Ltd. India\n",
"// Example 4-1 in page 208\n",
"\n",
"clear; clc; close;\n",
"\n",
"// Given Data\n",
"alpha=0.90; // Current Gain in CB mode\n",
"Ico=15*10^-6; // Reverse saturation Current in micro-A\n",
"Ie=4*10^-3; // Emitter Current in mA\n",
"\n",
"// Calculations\n",
"Ic=Ico+(alpha*Ie);\n",
"Ib=Ie-Ic; \n",
"\n",
"printf('(a)The value of the Base Current is %0.2e A \n',Ib);\n",
"printf('(b)The value of the Collector Current is %0.3e A \n',Ic);\n",
"\n",
"// Results\n",
"// (a) The value of the Base Current is 385 mu-A\n",
"// (b) The value of the Collector Current is 3.615 mA"
   ]
   }
,
{
		   "cell_type": "markdown",
		   "metadata": {},
		   "source": [
			"## Example 4.2: Calculate_alpha_using_beta.sce"
		   ]
		  },
  {
"cell_type": "code",
	   "execution_count": null,
	   "metadata": {
	    "collapsed": true
	   },
	   "outputs": [],
"source": [
"// Calculate alpha using beta\n",
"// Basic Electronics\n",
"// By Debashis De\n",
"// First Edition, 2010\n",
"// Dorling Kindersley Pvt. Ltd. India\n",
"// Example 4-2 in page 209\n",
"\n",
"clear; clc; close;\n",
"\n",
"// Given Data\n",
"beta_bjt=90; // beta gain for the BJT\n",
"Ic=4*10^-3; // Collector Current in mA\n",
"\n",
"// Calculations\n",
"alpha=beta_bjt/(1+beta_bjt); \n",
"Ib=Ic/beta_bjt; \n",
"Ie=Ic+Ib; \n",
"\n",
"printf('(a)The Current gain alpha for BJT is %0.3f \n',alpha);\n",
"printf('(b)The value of the base Current is %0.2e A \n',Ib);\n",
"printf('(c)The value of the Emitter Current is %0.2e A \n',Ie);\n",
"\n",
"// Results\n",
"// (a) The Current Gain alpha for BJT is 0.989\n",
"// (b) The value of the Base Current is 44.44 mu-A\n",
"// (c) The value of the Emitter Current is 4.04 mA"
   ]
   }
,
{
		   "cell_type": "markdown",
		   "metadata": {},
		   "source": [
			"## Example 4.3: Collector_Current_in_C_E_mode.sce"
		   ]
		  },
  {
"cell_type": "code",
	   "execution_count": null,
	   "metadata": {
	    "collapsed": true
	   },
	   "outputs": [],
"source": [
"// Collector Current in C-E mode\n",
"// Basic Electronics\n",
"// By Debashis De\n",
"// First Edition, 2010\n",
"// Dorling Kindersley Pvt. Ltd. India\n",
"// Example 4-3 in page 209\n",
"\n",
"clear; clc; close;\n",
"\n",
"// Given Data\n",
"alpha=0.90; // Current Gain of BJT\n",
"Ico=15*10^-6; // Reverse Saturation Current of BJT in micro-A\n",
"Ib=0.5*10^-3; // Base Current in C-E mode in mA\n",
"\n",
"// Calculations\n",
"beta_bjt=alpha/(1-alpha);\n",
"Ic=(beta_bjt*Ib)+(beta_bjt+1)*Ico; \n",
"\n",
"printf('(a)The value of Current gain beta for BJT is %0.0f \n',beta_bjt);\n",
"printf('(b)The value of the Collector Current is %0.2e A \n',Ic);\n",
"\n",
"// Results\n",
"// (a) The value of Current Gain beta for BJT is 9\n",
"// (b) The value of the Collector Current is 4.65 mA"
   ]
   }
,
{
		   "cell_type": "markdown",
		   "metadata": {},
		   "source": [
			"## Example 4.4: Calculate_beta_for_the_BJT.sce"
		   ]
		  },
  {
"cell_type": "code",
	   "execution_count": null,
	   "metadata": {
	    "collapsed": true
	   },
	   "outputs": [],
"source": [
"// Calculate beta for the BJT\n",
"// Basic Electronics\n",
"// By Debashis De\n",
"// First Edition, 2010\n",
"// Dorling Kindersley Pvt. Ltd. India\n",
"// Example 4-4 in page 209\n",
"\n",
"clear; clc; close;\n",
"\n",
"// Given Data\n",
"Ib=20*10^-6; // Base current in micro-A\n",
"Ic=5*10^-3; // Collector Current in mA\n",
"\n",
"// Calculations\n",
"beta_bjt=Ic/Ib;\n",
"\n",
"printf('The Current gain beta for the Device is %0.0f \n',beta_bjt);\n",
"\n",
"// Results\n",
"// The Current Gain beta for the Device is 250"
   ]
   }
,
{
		   "cell_type": "markdown",
		   "metadata": {},
		   "source": [
			"## Example 4.5: To_Compute_Alpha_Beta_and_Emitter_Current.sce"
		   ]
		  },
  {
"cell_type": "code",
	   "execution_count": null,
	   "metadata": {
	    "collapsed": true
	   },
	   "outputs": [],
"source": [
"// To Compute alpha, beta and Emitter Current\n",
"// Basic Electronics\n",
"// By Debashis De\n",
"// First Edition, 2010\n",
"// Dorling Kindersley Pvt. Ltd. India\n",
"// Example 4-5 in page 209\n",
"\n",
"clear; clc; close;\n",
"\n",
"// Given Data\n",
"Ib=50*10^-6; // Base Current in mu-A\n",
"Ic=5*10^-3; // Collector Current in mA\n",
"\n",
"// Calculations\n",
"Ie=Ic+Ib; \n",
"beta_bjt=Ic/Ib;\n",
"alpha=Ic/Ie;\n",
"\n",
"printf('(a)The value of the Emitter Current is %0.2e A \n',Ie);\n",
"printf('(b)The value of beta gain of the BJT is %0.0f \n',beta_bjt);\n",
"printf('(c)The value of alpha gain of the BJT is %0.3f \n',alpha);\n",
"\n",
"// Results\n",
"// (a) The value of the Emitter Current is 5.05 mA\n",
"// (b) The value of the beta gain of the BJT is 100\n",
"// (c) The value of the alpha gain of the BJT is 0.990"
   ]
   }
,
{
		   "cell_type": "markdown",
		   "metadata": {},
		   "source": [
			"## Example 4.6: Calculate_alpha_reverse_and_beta_reverse.sce"
		   ]
		  },
  {
"cell_type": "code",
	   "execution_count": null,
	   "metadata": {
	    "collapsed": true
	   },
	   "outputs": [],
"source": [
"// Calculate alpha reverse and beta reverse\n",
"// Basic Electronics\n",
"// By Debashis De\n",
"// First Edition, 2010\n",
"// Dorling Kindersley Pvt. Ltd. India\n",
"// Example 4-6 in page 210\n",
"\n",
"clear; clc; close;\n",
"\n",
"// Given Data\n",
"Ie=10*10^-3; // Emitter Current in mA\n",
"Ib=5*10^-3; // Base Current in mu-A\n",
"\n",
"// Calculations\n",
"Ic=Ie-Ib; \n",
"beta_reverse=Ib/Ic; \n",
"alpha_reverse=Ie/Ic; \n",
"\n",
"printf('The value of inverse beta of the BJT is %0.0f \n',beta_reverse);\n",
"printf('The value of inverse alpha of the BJT is %0.0f \n',alpha_reverse);\n",
"\n",
"// Results\n",
"// The value of inverse beta of the BJT is 1\n",
"// The value of inverse alpha of the BJT is 2"
   ]
   }
,
{
		   "cell_type": "markdown",
		   "metadata": {},
		   "source": [
			"## Example 4.7: Calculate_Labeled_Currents_and_Voltages.sce"
		   ]
		  },
  {
"cell_type": "code",
	   "execution_count": null,
	   "metadata": {
	    "collapsed": true
	   },
	   "outputs": [],
"source": [
"// Calculate Labeled Currents and Voltages\n",
"// Basic Electronics\n",
"// By Debashis De\n",
"// First Edition, 2010\n",
"// Dorling Kindersley Pvt. Ltd. India\n",
"// Example 4-7 in page 210\n",
"\n",
"clear; clc; close;\n",
"\n",
"// Given Data\n",
"beta_bjt=100; // beta gain of BJT\n",
"Vbe=0.7; // Base-Emitter voltage of BJT in V\n",
"\n",
"//Calculation\n",
"Vcc1=10; \n",
"Vee1=-10; \n",
"Ve1=-0.7; \n",
"R1=10*10^3; \n",
"Ie1=(Vcc1-Vbe)/R1; \n",
"Ib1=Ie1/(beta_bjt+1);\n",
"Vc1=Vcc1-R1*(Ie1-Ib1); \n",
"Vcc2=10; \n",
"Vee2=-15; \n",
"Ve2=-0.7; \n",
"R2=5*10^3; \n",
"Ie2=(Vcc2-Vbe)/R2; \n",
"Ic2=(beta_bjt/(beta_bjt+1))*Ie2; \n",
"Vc2=Vee2+R2*(Ie2); \n",
"printf('Circuit 1:\n(a)Emitter Current=%0.2e A\n(b)Base Current=%0.2e A\n(c)Collector Voltage=%0.3f V\n\n',Ie1,Ib1,Vc1);\n",
"printf('Circuit 2:\n(a)Emitter Current=%0.2e A\n(b)Collector Current=%0.3e A\n(c)Collector Voltage=%0.3f V\n',Ie2,Ic2,Vc2);\n",
"\n",
"// Results\n",
"// (a) Circuit 1 : Emitter Current = 0.93 mA\n",
"// (b) Circuit 1 : Base Current = 9.2 mu-A\n",
"//(c) Circuit 1 : Collector Voltage = 0.792 V\n",
"\n",
"//(a) Circuit 2 : Emitter Current = 1.86 mA\n",
"//(b) Circuit 2 : Collector Current = 1.842 mA\n",
"//(c) Circuit 2 : Collector Voltage : -5.7 V\n",
" "
   ]
   }
,
{
		   "cell_type": "markdown",
		   "metadata": {},
		   "source": [
			"## Example 4.8: Calculate_labeled_Voltages.sce"
		   ]
		  },
  {
"cell_type": "code",
	   "execution_count": null,
	   "metadata": {
	    "collapsed": true
	   },
	   "outputs": [],
"source": [
"// Calculate labeled Voltages\n",
"// Basic Electronics\n",
"// By Debashis De\n",
"// First Edition, 2010\n",
"// Dorling Kindersley Pvt. Ltd. India\n",
"// Example 4-8 in page 211\n",
"\n",
"clear; clc; close;\n",
"\n",
"// Given Data\n",
"Vbe=0.7; // Base-Emitter voltage of BJT in V\n",
"Vcc2=10; // DC voltage across Collector in V\n",
"Vee2=-15; // DC voltage across Emitter in V\n",
"Rc2=5*10^3; // Collector Resistance in K-ohms\n",
"// Beta Current Gain of BJT is Infinity\n",
"\n",
"// Calculations\n",
"Vb1=0; \n",
"Ve1=-0.7;\n",
"Ve2=0.7; \n",
"Vc2=Vee2+Rc2*((Vcc2-Vbe)/Rc2); \n",
"\n",
"printf('Circuit 1:\n(a)Base Voltage = %0.1f V\n(b)Emitter Voltage = %0.1f V\n',Vb1,Ve1);\n",
"printf('Circuit 2:\n(a)Emitter Voltage = %0.1f V\n(b)Collector Voltage = %0.1f V\n',Ve2,Vc2);\n",
"\n",
"//Results\n",
"// Circuit 1 : Base Voltage = 0 V\n",
"// Circuit 1 : Emitter Voltage = -0.7 V\n",
"// Circuit 2 : Emitter Voltage = 0.7 V\n",
"// Circuit 2 : Collector Voltage = -5.7 V"
   ]
   }
,
{
		   "cell_type": "markdown",
		   "metadata": {},
		   "source": [
			"## Example 4.9: Calculating_BJT_parameters_assuming_Vbe.sce"
		   ]
		  },
  {
"cell_type": "code",
	   "execution_count": null,
	   "metadata": {
	    "collapsed": true
	   },
	   "outputs": [],
"source": [
"// Calculating BJT parameters assuming Vbe\n",
"// Basic Electronics\n",
"// By Debashis De\n",
"// First Edition, 2010\n",
"// Dorling Kindersley Pvt. Ltd. India\n",
"// Example 4-9 in page 211\n",
"\n",
"clear; clc; close;\n",
"\n",
"// Given Data\n",
"Ve=1; // Emitter Voltage of BJT in V\n",
"Vbe=0.7; // Base-Emitter Voltage of BJT in V\n",
"Rb=20*10^3; // Base Resistance of Circuit in K-ohms\n",
"Rc=5*10^3; // Collector Resistance of Circuit in K-ohms\n",
"Re=5*10^3; // Emitter Resistance of Circuit in K-ohms\n",
"Vcc=5; // DC voltage across Collector in V\n",
"Vee=-5; // DC voltage across Emitter in V\n",
"\n",
"// Calculations\n",
"Vb=Ve-Vbe;\n",
"Ib=Vb/Rb; \n",
"Ie=(Vcc-1)/Re; \n",
"Ic=Ie-Ib;\n",
"Vc=(Rc*Ic)-Vcc;\n",
"beta_bjt=Ic/Ib;\n",
"alpha=Ic/Ie; \n",
"\n",
"printf('Circuit Parameters:\n(a)Base Voltage = %0.3f V\n(b)Base Current = %0.3e A\n(c)Emitter Current = %0.3e A\n(d)Collector Current = %0.3e A\n(e)Collector Voltage = %0.3f V\n(f)beta gain = %0.3f\n(g)alpha gain = %0.3f\n',Vb,Ib,Ie,Ic,Vc,beta_bjt,alpha);\n",
"\n",
"// Results\n",
"// For the BJT Circuit,\n",
"// (a) Base Voltage = 0.3 V\n",
"// (b) Base Current = 0.015 mA\n",
"// (c) Emitter Current = 0.8 mA\n",
"// (d) Collector Current = 0.785 mA\n",
"// (e) Collector Voltage = -1.075 volt\n",
"// (f) Beta gain = 52.3\n",
"// (g) Alpha gain = 0.98"
   ]
   }
],
"metadata": {
		  "kernelspec": {
		   "display_name": "Scilab",
		   "language": "scilab",
		   "name": "scilab"
		  },
		  "language_info": {
		   "file_extension": ".sce",
		   "help_links": [
			{
			 "text": "MetaKernel Magics",
			 "url": "https://github.com/calysto/metakernel/blob/master/metakernel/magics/README.md"
			}
		   ],
		   "mimetype": "text/x-octave",
		   "name": "scilab",
		   "version": "0.7.1"
		  }
		 },
		 "nbformat": 4,
		 "nbformat_minor": 0
}
