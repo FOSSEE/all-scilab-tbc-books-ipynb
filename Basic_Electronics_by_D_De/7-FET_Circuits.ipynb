{
"cells": [
 {
		   "cell_type": "markdown",
	   "metadata": {},
	   "source": [
       "# Chapter 7: FET Circuits"
	   ]
	},
{
		   "cell_type": "markdown",
		   "metadata": {},
		   "source": [
			"## Example 7.11: Find_voltage_gain_output_impedance.sce"
		   ]
		  },
  {
"cell_type": "code",
	   "execution_count": null,
	   "metadata": {
	    "collapsed": true
	   },
	   "outputs": [],
"source": [
"// Find voltage gain,output impedance\n",
"// Basic Electronics\n",
"// By Debashis De\n",
"// First Edition, 2010\n",
"// Dorling Kindersley Pvt. Ltd. India\n",
"// Example 7-11 in page 320\n",
"\n",
"clear; clc; close;\n",
"\n",
"// Given data\n",
"// The Thevenin equivalent of fig. is derived\n",
"\n",
"// Calculation\n",
"A=(9.5*10)/(10+20);\n",
"R_0=(1/(10*10^3))+(1/(20*10^3));\n",
"R=1/R_0;\n",
"printf('(a)Voltage gain = %0.2f\n',A);\n",
"printf('(b)Output impedance = %0.2e',R);\n",
"\n",
"// Result\n",
"// (a) A = 3.17\n",
"// (b) R_0 = 6.67 K"
   ]
   }
,
{
		   "cell_type": "markdown",
		   "metadata": {},
		   "source": [
			"## Example 7.12: Find_voltage_gain_A1_and_A2.sce"
		   ]
		  },
  {
"cell_type": "code",
	   "execution_count": null,
	   "metadata": {
	    "collapsed": true
	   },
	   "outputs": [],
"source": [
"// Find voltage gain A1 and A2\n",
"// Basic Electronics\n",
"// By Debashis De\n",
"// First Edition, 2010\n",
"// Dorling Kindersley Pvt. Ltd. India\n",
"// Example 7-12 in page 321\n",
"\n",
"clear; clc; close;\n",
"\n",
"// Given data\n",
"Rd=30*10^3; // Drain resistance in K-ohm\n",
"Rs=2*10^3; // Source resistance in K-ohm\n",
"mu=19; // Constant for FET\n",
"rd=10*10^3; // Dynamic resistance in K-ohm\n",
"\n",
"// Calculation\n",
"A1=(-mu*(Rd+rd+((mu+1)*Rs))*Rd)/((rd+Rd)*(Rd+rd+(2*(mu+1)*Rs)));\n",
"A2=(mu*(mu+1)*Rs*Rd)/((rd+Rd)*(Rd+rd+(2*(mu+1)*Rs)));\n",
"printf('(a)For the given values of Rd,Rs,rd and mu we have:\n');\n",
"printf('A1 = %0.2f\nA2 = %0.2f\n\n',A1,A2);\n",
"printf('(b)If Rs-->infinity,\n');\n",
"A_1=(-mu*Rd)/(2*(rd+Rd));\n",
"printf('A1 = %0.2f = -A2\nOr A1 = -A2 = %0.2f',A_1,A_1);\n",
"\n",
"// Result\n",
"// (a) A1 = -9.5; A2 = 4.75\n",
"// (b) A1 = -A2 = -7.13"
   ]
   }
,
{
		   "cell_type": "markdown",
		   "metadata": {},
		   "source": [
			"## Example 7.13: Determine_Vgs_Id_Vds_Av.sce"
		   ]
		  },
  {
"cell_type": "code",
	   "execution_count": null,
	   "metadata": {
	    "collapsed": true
	   },
	   "outputs": [],
"source": [
"// Determine Vgs,Id,Vds,Av\n",
"// Basic Electronics\n",
"// By Debashis De\n",
"// First Edition, 2010\n",
"// Dorling Kindersley Pvt. Ltd. India\n",
"// Example 7-13 in page 322\n",
"\n",
"clear; clc; close;\n",
"\n",
"// Given data\n",
"Rd=12; // Drain resistance in K-ohms\n",
"Rg=1; // Gate resistance in M-ohms\n",
"Rs=0.47; // Source resistance in ohms\n",
"Vdd=30; // Drain voltage in volts\n",
"Idds=3*10^-3; // Drain-source current in mA\n",
"\n",
"// Calculation\n",
"printf('Vgs=-1.41* (1+ 2Vgs/2.4 + Vgs^2/2.4)\n');\n",
"Vgs1=(-1.175+sqrt(1.175^2-4*0.245*1.41))/(2*0.245);\n",
"Vgs2=(-1.175-sqrt(1.175^2-4*0.245*1.41))/(2*0.245);\n",
"printf('(a)Upon solving we get Vgs = %0.3f V or %0.3f V\n',Vgs1,Vgs2);\n",
"Id=3*(1-(2.398/2.4))^2;\n",
"Vds=Vdd-Id*(Rd+Rs);\n",
"gm=((2*Idds)/2.4)*(1-(2.398/2.4));\n",
"Av=gm*12;\n",
"printf('(b)Drain current Ids = %0.1e A\n',Id);\n",
"printf('(c)Vds = %0.2f V\n',Vds);\n",
"printf('(d)Small signal voltage gain Av = %0.2e',Av);\n",
"\n",
"// Result\n",
"// (a) Vgs = -2.398 V\n",
"// (b) Ids = 2.1*10^-6 A\n",
"// (c) Vds = 30 V\n",
"// (d) Av = 2.5*10^-5"
   ]
   }
,
{
		   "cell_type": "markdown",
		   "metadata": {},
		   "source": [
			"## Example 7.14: Find_the_value_of_R1.sce"
		   ]
		  },
  {
"cell_type": "code",
	   "execution_count": null,
	   "metadata": {
	    "collapsed": true
	   },
	   "outputs": [],
"source": [
"// Find the value of R1\n",
"// Basic Electronics\n",
"// By Debashis De\n",
"// First Edition, 2010\n",
"// Dorling Kindersley Pvt. Ltd. India\n",
"// Example 7-14 in page 322\n",
"\n",
"clear; clc; close;\n",
"\n",
"// Given data\n",
"Idss=2*10^-3; // Drain-source current in mA\n",
"Vp=-1; // Voltage in volts\n",
"Rd=56*10^3; // Drain resistance in K-ohms\n",
"Vdn=10; // Drain to ground voltage in volts\n",
"Vdd=24; // Drain voltage in volts\n",
"\n",
"// Calculation\n",
"Id=(Vdd-Vdn)/Rd;\n",
"Vgs=-0.65;\n",
"R1=-Vgs/Id;\n",
"printf('R1 = %0.1e ohms',R1);\n",
"\n",
"// Result\n",
"// R1 = 2.6 K-ohms"
   ]
   }
,
{
		   "cell_type": "markdown",
		   "metadata": {},
		   "source": [
			"## Example 7.15: Find_Vo_for_given_Vi.sce"
		   ]
		  },
  {
"cell_type": "code",
	   "execution_count": null,
	   "metadata": {
	    "collapsed": true
	   },
	   "outputs": [],
"source": [
"// Find Vo for given Vi\n",
"// Basic Electronics\n",
"// By Debashis De\n",
"// First Edition, 2010\n",
"// Dorling Kindersley Pvt. Ltd. India\n",
"// Example 7-15 in page 323\n",
"\n",
"clear; clc; close;\n",
"\n",
"// Given data\n",
"Idss=5.6*10^-3; // Drain-source current in mA\n",
"Vp=-4; // Peak voltage in V\n",
"Vi=[0 10]; // Input voltage values in V\n",
"\n",
"// Calculation\n",
"alp=[1 2];\n",
"for i=1:2\n",
"    Vg=(-2.8+sqrt(2.8^2-(4*0.35*5.6)))/(2*0.35);\n",
"    Id=(Vi(i)+12-Vg)/10;\n",
"    Vo=(10*Id)-12;\n",
"    printf('(%0.0f)For Vi = %d V, Vo = %0.1f V\n',alp(i),Vi(i),Vo);\n",
"end\n",
"printf('If Vo = 0,\n');\n",
"Vgs=4*(sqrt(0.214)-1);\n",
"printf('(3)Then Vi = Vgs = %0.2f V',Vgs);\n",
"\n",
"// Result\n",
"// When Vi=0,Vo=4V\n",
"// When Vi=10,Vo=14V\n",
"// When Vo=0,Vi=-2.15V"
   ]
   }
,
{
		   "cell_type": "markdown",
		   "metadata": {},
		   "source": [
			"## Example 7.16: Calculate_quiescent_values_of_Id_Vgs_Vds.sce"
		   ]
		  },
  {
"cell_type": "code",
	   "execution_count": null,
	   "metadata": {
	    "collapsed": true
	   },
	   "outputs": [],
"source": [
"// Calculate quiescent values of Id,Vgs,Vds\n",
"// Basic Electronics\n",
"// By Debashis De\n",
"// First Edition, 2010\n",
"// Dorling Kindersley Pvt. Ltd. India\n",
"// Example 7-16 in page 324\n",
"\n",
"clear; clc; close;\n",
"\n",
"// Given data\n",
"// We find Thevenins equivalent to the left of the gate\n",
"\n",
"// Calculation\n",
"Rth=(1/(200*10^3))+(1/(1.3*10^6));\n",
"A=1/Rth;\n",
"Vth=(200/1500)*60;\n",
"printf('(a)Rth = %0.3e ohms and Vth = %0.0f V\n',A,Vth);\n",
"Vgs=(8+sqrt(8^2-(4*16)))/2;\n",
"Id=-2-(Vgs/4);\n",
"printf('(b)Vgs = %0.0f V and Id = %0.2f mA\n',Vgs,Id);\n",
"Vds=-60+((18+4)*2.25);\n",
"printf('(c)Vds = %0.1f V',Vds);\n",
"\n",
"// Result\n",
"// (a) Id = -3 mA\n",
"// (b) Vgs = 4 V\n",
"// (c) Vds = -10.5 V"
   ]
   }
,
{
		   "cell_type": "markdown",
		   "metadata": {},
		   "source": [
			"## Example 7.20: Calculate_transconductance_amplification_factor.sce"
		   ]
		  },
  {
"cell_type": "code",
	   "execution_count": null,
	   "metadata": {
	    "collapsed": true
	   },
	   "outputs": [],
"source": [
"// Calculate transconductance,amplification factor\n",
"// Basic Electronics\n",
"// By Debashis De\n",
"// First Edition, 2010\n",
"// Dorling Kindersley Pvt. Ltd. India\n",
"// Example 7-20 in page 328\n",
"\n",
"clear; clc; close;\n",
"\n",
"// Given data\n",
"Id=2*10^-3; // Drain current in mA\n",
"Vgs=2; // Gate-source voltage in V\n",
"Rd=200*10^3; // Drain resistance in K-ohms\n",
"\n",
"// Calculation\n",
"gm=Id/Vgs;\n",
"mu=gm*Rd;\n",
"printf('(a)Transconductance gm = %0.0e A/V\n',gm);\n",
"printf('(b)Amplification factor mu = %0.0f',mu);\n",
"\n",
"// Result\n",
"// (a) gm = 1 mA/V\n",
"// (b) mu = 200"
   ]
   }
,
{
		   "cell_type": "markdown",
		   "metadata": {},
		   "source": [
			"## Example 7.21: Calculate_dynamic_resistance.sce"
		   ]
		  },
  {
"cell_type": "code",
	   "execution_count": null,
	   "metadata": {
	    "collapsed": true
	   },
	   "outputs": [],
"source": [
"// Calculate dynamic resistance\n",
"// Basic Electronics\n",
"// By Debashis De\n",
"// First Edition, 2010\n",
"// Dorling Kindersley Pvt. Ltd. India\n",
"// Example 7-21 in page 328\n",
"\n",
"clear; clc; close;\n",
"\n",
"// Given data\n",
"mu=80; // Amplification factor\n",
"gm=400*10^-6; // Transconductance in micro-mho\n",
"\n",
"// Calculation\n",
"rd=mu/gm;\n",
"printf('Dynamic resistance Rd = %0.1e ohm',rd);\n",
"\n",
"// Result\n",
"// Rd = 0.2*10^6 ohm"
   ]
   }
,
{
		   "cell_type": "markdown",
		   "metadata": {},
		   "source": [
			"## Example 7.22: Calculate_Rd_gm_mu.sce"
		   ]
		  },
  {
"cell_type": "code",
	   "execution_count": null,
	   "metadata": {
	    "collapsed": true
	   },
	   "outputs": [],
"source": [
"// Calculate Rd,gm,mu\n",
"// Basic Electronics\n",
"// By Debashis De\n",
"// First Edition, 2010\n",
"// Dorling Kindersley Pvt. Ltd. India\n",
"// Example 7-22 in page 329\n",
"\n",
"clear; clc; close;\n",
"\n",
"// Given data\n",
"Vds1=6; // Drain-source voltage when Vgs is zero\n",
"Vds2=16; // Drain-source voltage when Vgs is 0.3\n",
"Id1=12*10^-3; // Drain current in mA when Vgs is zero\n",
"Id2=12.3*10^-3; // Drain current in mA when Vgs is zero\n",
"\n",
"// Calculation\n",
"rd=(Vds2-Vds1)/(Id2-Id1);\n",
"gm=(Id2-Id1)/(0-0.3*10^-3);\n",
"mu=-gm*rd*10^-4;\n",
"printf('(a)Drain resistance Rd = %0.2e ohms\n',rd);\n",
"printf('(b)Transconductance gm = %0.0f(neglecting the sign)\n',-gm);\n",
"printf('(c)Amplification factor mu = %0.2f',mu);\n",
"\n",
"// Result\n",
"// (a) Rd = 33.33k-ohms\n",
"// (b) gm = 1\n",
"// (c) mu = 3.33"
   ]
   }
,
{
		   "cell_type": "markdown",
		   "metadata": {},
		   "source": [
			"## Example 7.23: Find_the_value_of_Rs.sce"
		   ]
		  },
  {
"cell_type": "code",
	   "execution_count": null,
	   "metadata": {
	    "collapsed": true
	   },
	   "outputs": [],
"source": [
"// Find the value of Rs\n",
"// Basic Electronics\n",
"// By Debashis De\n",
"// First Edition, 2010\n",
"// Dorling Kindersley Pvt. Ltd. India\n",
"// Example 7-23 in page 329\n",
"\n",
"clear; clc; close;\n",
"\n",
"// Given data\n",
"Vgs=1.5; // Gate-source voltage in V\n",
"Id=2*10^-3; // Drain saturation current in mA\n",
"\n",
"// Calculation\n",
"Rs=Vgs/Id;\n",
"printf('Rs = %0.0f ohm',Rs);\n",
"\n",
"// Result\n",
"// Rs = 750 ohm"
   ]
   }
,
{
		   "cell_type": "markdown",
		   "metadata": {},
		   "source": [
			"## Example 7.24: Find_voltage_gain_of_amplifier.sce"
		   ]
		  },
  {
"cell_type": "code",
	   "execution_count": null,
	   "metadata": {
	    "collapsed": true
	   },
	   "outputs": [],
"source": [
"// Find voltage gain of amplifier\n",
"// Basic Electronics\n",
"// By Debashis De\n",
"// First Edition, 2010\n",
"// Dorling Kindersley Pvt. Ltd. India\n",
"// Example 7-24 in page 329\n",
"\n",
"clear; clc; close;\n",
"\n",
"// Given data\n",
"Rl=250; // Load resistance in k-ohms\n",
"gm=0.5; // Transconductance in mA/V\n",
"rd=200; // Dynamic resistance in k-ohms\n",
"\n",
"// Calculation\n",
"mu=rd*gm;\n",
"Av=(-mu*Rl)/(rd+Rl);\n",
"printf('Voltage gain Av = %0.2f',Av);\n",
"\n",
"// Result\n",
"// Voltage gain Av = -55.55"
   ]
   }
,
{
		   "cell_type": "markdown",
		   "metadata": {},
		   "source": [
			"## Example 7.25: Find_pinch_off_voltage.sce"
		   ]
		  },
  {
"cell_type": "code",
	   "execution_count": null,
	   "metadata": {
	    "collapsed": true
	   },
	   "outputs": [],
"source": [
"// Find pinch off voltage\n",
"// Basic Electronics\n",
"// By Debashis De\n",
"// First Edition, 2010\n",
"// Dorling Kindersley Pvt. Ltd. India\n",
"// Example 7-25 in page 330\n",
"\n",
"clear; clc; close;\n",
"\n",
"// Given data\n",
"Idss=10; // Drain-source current in mA\n",
"Vp=-4; // Original pinch off voltage in V\n",
"Vgs=-2; // Gate-source voltage in V\n",
"gm=4; // Transcondonductance in m-mho\n",
"\n",
"// Calculation\n",
"Ids=Idss*(1-(Vgs/Vp))^2;\n",
"A=(-2*Ids)/gm;\n",
"printf('Pinch off voltage Vp = %0.0f V',A);\n",
"\n",
"// Result\n",
"// Vp at gm = 4 m-mho is -1V"
   ]
   }
,
{
		   "cell_type": "markdown",
		   "metadata": {},
		   "source": [
			"## Example 7.26: Calculate_quiescent_values_of_Id_Vds_Vgs.sce"
		   ]
		  },
  {
"cell_type": "code",
	   "execution_count": null,
	   "metadata": {
	    "collapsed": true
	   },
	   "outputs": [],
"source": [
"// Calculate quiescent values of Id,Vds,Vgs\n",
"// Basic Electronics\n",
"// By Debashis De\n",
"// First Edition, 2010\n",
"// Dorling Kindersley Pvt. Ltd. India\n",
"// Example 7-26 in page 330\n",
"\n",
"clear; clc; close;\n",
"\n",
"// Given data\n",
"Ids=20*10^-3; // Drain-souce current in mA\n",
"Vp=-4; // Pinch off voltage in volts\n",
"\n",
"// Calculation\n",
"printf('We get the equation:\n0.3125*Id^2-6*Id+20=0\n');\n",
"Id1=(6+sqrt(6^2-4*0.3125*20))/(2*0.3125);\n",
"Id2=(6-sqrt(6^2-4*0.3125*20))/(2*0.3125);\n",
"printf('Id = %0.1f mA and %0.1f mA\n',Id1,Id2);\n",
"printf('We consider only %0.1f mA\n',Id2);\n",
"Vgs=-Id2*0.5;\n",
"Vds=30-(Id2*(5+0.5));\n",
"printf('Vgs = %0.2f V\n(c)Vds = %0.2f V',Vgs,Vds);\n",
"\n",
"// Result\n",
"// Id = 4.3 mA\n",
"// Vgs = -2.15 V\n",
"// Vds = 6.35 V"
   ]
   }
,
{
		   "cell_type": "markdown",
		   "metadata": {},
		   "source": [
			"## Example 7.27: Find_Id_Vds_Vgs_Av.sce"
		   ]
		  },
  {
"cell_type": "code",
	   "execution_count": null,
	   "metadata": {
	    "collapsed": true
	   },
	   "outputs": [],
"source": [
"// Find Id,Vds,Vgs,Av\n",
"// Basic Electronics\n",
"// By Debashis De\n",
"// First Edition, 2010\n",
"// Dorling Kindersley Pvt. Ltd. India\n",
"// Example 7-27 in page 331\n",
"\n",
"clear; clc; close;\n",
"\n",
"// Given data\n",
"Idss=3; // Drain-source current in mA\n",
"Vp=-2.4; // Pinch off voltage in volts\n",
"\n",
"// Calculation\n",
"printf('Id^2-6.73*Id+5.76=0\n');\n",
"Id1=(6.73+sqrt(6.73^2-4*1*5.76))/2;\n",
"Id2=(6.73-sqrt(6.73^2-4*1*5.76))/2;\n",
"printf('Id = %0.2f mA or %0.2f mA\n',Id1,Id2);\n",
"printf('(a)The possible value is 1.01 mA\n');\n",
"Vgs=-Id2*1;\n",
"Vds=20-(1.09*(1+10));\n",
"printf('Vgs = %0.2f V\nVds = %0.2f V\n',Vgs,Vds);\n",
"gm=(-2/Vp)*sqrt(Id2*Idss);\n",
"Av=gm*10;\n",
"printf('(b)Voltage gain Av = %0.1f',Av);\n",
"\n",
"// Result\n",
"// Id = 1.01 mA\n",
"// Vgs = -1.01 V\n",
"// (a) Vds = 8.01 V\n",
"// (b) Av = 14.5"
   ]
   }
,
{
		   "cell_type": "markdown",
		   "metadata": {},
		   "source": [
			"## Example 7.28: Calculate_Av_Zo_Zi.sce"
		   ]
		  },
  {
"cell_type": "code",
	   "execution_count": null,
	   "metadata": {
	    "collapsed": true
	   },
	   "outputs": [],
"source": [
"// Calculate Av,Zo,Zi\n",
"// Basic Electronics\n",
"// By Debashis De\n",
"// First Edition, 2010\n",
"// Dorling Kindersley Pvt. Ltd. India\n",
"// Example 7-28 in page 332\n",
"\n",
"clear; clc; close;\n",
"\n",
"// Given data\n",
"Rd=15; // Drain resistance in k-ohms\n",
"Rg=1; // Gate resistance in M-ohms\n",
"rd=5; // Dynamic resistance in k-ohms\n",
"gm=5; // Transconductance in m-mho\n",
"Vdd=20; // Drain voltage in volts\n",
"\n",
"// Calculation\n",
"mu=rd*gm;\n",
"Av=(mu*Rd)/(rd+Rd);\n",
"Zo=rd;\n",
"Zi=Rg;\n",
"printf('(a)Av = %0.2f\n(b)Zo = %0.0f k-ohms\n(c)Zi = %0.0f M-ohms',Av,Zo,Zi);\n",
"\n",
"// Result\n",
"// (a) Av = 18.75\n",
"// (b) Zo = 5 K-ohms\n",
"// (c) Zi = 1 M-ohms"
   ]
   }
,
{
		   "cell_type": "markdown",
		   "metadata": {},
		   "source": [
			"## Example 7.29: Calculate_Vo_Vi.sce"
		   ]
		  },
  {
"cell_type": "code",
	   "execution_count": null,
	   "metadata": {
	    "collapsed": true
	   },
	   "outputs": [],
"source": [
"// Calculate Vo,Vi\n",
"// Basic Electronics\n",
"// By Debashis De\n",
"// First Edition, 2010\n",
"// Dorling Kindersley Pvt. Ltd. India\n",
"// Example 7-29 in page 333\n",
"\n",
"clear; clc; close;\n",
"\n",
"// Given data\n",
"Idss=5*10^-3; // Drain-source current in mA\n",
"Vp=-4.5; // Pinch off voltage in V\n",
"\n",
"// Calculation\n",
"printf('When Vi is zero:\n');\n",
"Vgs1=(-25.67+sqrt(25.67^2-(4*2.963*55)))/(2*2.963);\n",
"Vgs2=(-25.67-sqrt(25.67^2-(4*2.963*55)))/(2*2.963);\n",
"printf('(a)Vgs = %0.2f V or %0.2f V\n',Vgs1,Vgs2);\n",
"printf('Since the gate is connected to ground,Vo = -Vgs.Hence Vo = %0.2f V or %0.2f V\n',-Vgs1,-Vgs2);\n",
"printf('When Vo is zero:\n');\n",
"Id=5/(12*10^3);\n",
"Vgs=4.5*(0.288-1);\n",
"Vi=Vgs;\n",
"printf('(b)Vi = %0.1f V',Vi);\n",
"\n",
"// Result\n",
"// (a) When Vi is zero, Vo = 4.78V or 3.88V\n",
"// (b) When Vo is zero, Vi = -3.2V"
   ]
   }
,
{
		   "cell_type": "markdown",
		   "metadata": {},
		   "source": [
			"## Example 7.2: Find_amplification.sce"
		   ]
		  },
  {
"cell_type": "code",
	   "execution_count": null,
	   "metadata": {
	    "collapsed": true
	   },
	   "outputs": [],
"source": [
"// Find amplification\n",
"// Basic Electronics\n",
"// By Debashis De\n",
"// First Edition, 2010\n",
"// Dorling Kindersley Pvt. Ltd. India\n",
"// Example 7-2 in page 312\n",
"\n",
"clear; clc; close;\n",
"\n",
"// Given data\n",
"mu=30; // FET parameter\n",
"rd=5; // FET parameter\n",
"Rd=10; // FET parameter value in ohms\n",
"R=50; // Resistor value in ohms\n",
"\n",
"// Calculation\n",
"Av=(-299/50)/((1/rd)+(1/Rd)+(1/R));\n",
"printf('Amplification Av = %0.1f',Av);\n",
"\n",
"// Result\n",
"// Av = -18.7"
   ]
   }
,
{
		   "cell_type": "markdown",
		   "metadata": {},
		   "source": [
			"## Example 7.30: Calculate_Av_Zo.sce"
		   ]
		  },
  {
"cell_type": "code",
	   "execution_count": null,
	   "metadata": {
	    "collapsed": true
	   },
	   "outputs": [],
"source": [
"// Calculate Av,Zo\n",
"// Basic Electronics\n",
"// By Debashis De\n",
"// First Edition, 2010\n",
"// Dorling Kindersley Pvt. Ltd. India\n",
"// Example 7-30 in page 334\n",
"\n",
"clear; clc; close;\n",
"\n",
"// Given data\n",
"gm=5; // Transconductance in mA/V\n",
"rd=10*10^3; // Dynamic resistance in K-ohms\n",
"mu=50; // Amplification factor\n",
"Rd=5*10^3; // Drain resistance in K-ohms\n",
"\n",
"// Calculation\n",
"Av=(-mu*Rd)/(rd+Rd+((mu+1)*0.1*10^3));\n",
"Avs=Av*(100/110);\n",
"Zo=rd+((mu+1)*0.1*10^3);\n",
"Zo1=(1/15.1)+(1/5);\n",
"A=1/Zo1;\n",
"printf('Av = %0.2f\n',Av);\n",
"printf('Over all voltage gain Avs = %0.1f\n',Avs);\n",
"printf('Output impedance = %0.2e K\n',Zo);\n",
"printf('Effective output impedance Zo = %0.2f k-ohms',A);\n",
"\n",
"// Result\n",
"// (a) Avs = -11.3\n",
"// (b) Zo = 3.75 K-ohms"
   ]
   }
,
{
		   "cell_type": "markdown",
		   "metadata": {},
		   "source": [
			"## Example 7.31: Calculate_Vgsq_gm_Rs_Vdsq_Rl.sce"
		   ]
		  },
  {
"cell_type": "code",
	   "execution_count": null,
	   "metadata": {
	    "collapsed": true
	   },
	   "outputs": [],
"source": [
"// Calculate Vgsq,gm,Rs,Vdsq,Rl\n",
"// Basic Electronics\n",
"// By Debashis De\n",
"// First Edition, 2010\n",
"// Dorling Kindersley Pvt. Ltd. India\n",
"// Example 7-31 in page 335\n",
"clear; clc; close;\n",
"// Given data\n",
"Vp=-4; // Pinch off voltage in V\n",
"Idss=1.65*10^-3; // Drain-source current in mA\n",
"Idq=0.8*10^-3; // Desired operating point of current in mA\n",
"Av=10; // Voltage gain in dB\n",
"// Calculation\n",
"printf('We know that Id = Idss*(1-(Vgs/Vp))^2\n');\n",
"Vgs=4*(sqrt(0.485)-1);\n",
"gmo=(-2*Idss)/Vp;\n",
"gm=gmo*(1-(Vgs/Vp));\n",
"Rs=Vgs/-Idq;\n",
"Rl=Av/gm;\n",
"Vds=24-(Idq*Rl)-(Idq*Rs);\n",
"printf('(a)Vgsq = %0.3f V\n(b)gm = %0.3e A/V\n(c)Rs = %0.3e ohms\n(d)Rl = %0.2e ohms\n(e)Vds = %0.3f V\n',Vgs,gm,Rs,Rl,Vds);\n",
"printf('Therefore,\n(e)Vdsq = 16.48 V');\n",
"// Result\n",
"// (a) Vgsq = -1.214 V\n",
"// (b) gm = 0.575 mA/V\n",
"// (c) Rs = 1.518 K-ohm\n",
"// (d) Rl = 17.4 K-ohm\n",
"// (e) Vdsq = 16.48 V"
   ]
   }
,
{
		   "cell_type": "markdown",
		   "metadata": {},
		   "source": [
			"## Example 7.32: Calculate_Zo_for_rd_equals_50_k_ohms.sce"
		   ]
		  },
  {
"cell_type": "code",
	   "execution_count": null,
	   "metadata": {
	    "collapsed": true
	   },
	   "outputs": [],
"source": [
"// Calculate Zo for rd=50k-ohms\n",
"// Basic Electronics\n",
"// By Debashis De\n",
"// First Edition, 2010\n",
"// Dorling Kindersley Pvt. Ltd. India\n",
"// Example 7-32 in page 337\n",
"\n",
"clear; clc; close;\n",
"\n",
"// Given data\n",
"rd=50*10^3; // Dynamic resistance in K-ohms\n",
"Rd=20*10^3; // Drain resistance in K-ohms\n",
"\n",
"// Calculation\n",
"Zo=(rd*Rd)/(rd+Rd);\n",
"printf('Output impedance Zo = %0.3e ohms',Zo);\n",
"\n",
"// Result\n",
"// Zo = 14.28 K-ohms"
   ]
   }
,
{
		   "cell_type": "markdown",
		   "metadata": {},
		   "source": [
			"## Example 7.33: Find_voltage_gain_Current_gain_ratio.sce"
		   ]
		  },
  {
"cell_type": "code",
	   "execution_count": null,
	   "metadata": {
	    "collapsed": true
	   },
	   "outputs": [],
"source": [
"// Find voltage gain,Current gain ratio\n",
"// Basic Electronics\n",
"// By Debashis De\n",
"// First Edition, 2010\n",
"// Dorling Kindersley Pvt. Ltd. India\n",
"// Example 7-33 in page 337\n",
"\n",
"clear; clc; close;\n",
"\n",
"// Given data\n",
"Rd=5*10^3; // Drain resistance in K-ohms\n",
"Rg=500*10^3; // Gate resistance in K-ohms\n",
"mu=60; // Amplification factor\n",
"rds=30*10^3; // Dynamic resistance in K-ohms\n",
"\n",
"// Calculation\n",
"Av=(mu*Rd)/(Rd+rds);\n",
"Ai=(mu*Rg)/(rds+Rd);\n",
"printf('(a)Voltage gain Av = %0.2f\n(b)Current gain Ai = %0.2f',Av,Ai);\n",
"\n",
"// Reuslt\n",
"// (a) Av = 8.57\n",
"// (b) Ai = 857.14"
   ]
   }
,
{
		   "cell_type": "markdown",
		   "metadata": {},
		   "source": [
			"## Example 7.34: Determine_Zo_draw_small_signal_model.sce"
		   ]
		  },
  {
"cell_type": "code",
	   "execution_count": null,
	   "metadata": {
	    "collapsed": true
	   },
	   "outputs": [],
"source": [
"// Determine Zo,draw small signal model\n",
"// Basic Electronics\n",
"// By Debashis De\n",
"// First Edition, 2010\n",
"// Dorling Kindersley Pvt. Ltd. India\n",
"// Example 7-34 in page 338\n",
"\n",
"clear; clc; close;\n",
"\n",
"// Given data\n",
"gm=1; // Transconductance in m-mho\n",
"rd=50*10^3; // Dynamic resistance in K-ohms\n",
"Rd=5*10^3; // Drain resistance in K-ohms\n",
"\n",
"// Calculation\n",
"printf('The equivalent circuit at low-frequency small signal model is as shown in the figure\n');\n",
"Zo=(rd*Rd)/(Rd+rd);\n",
"printf('Zo = %0.2e ohms',Zo);\n",
"\n",
"// Result\n",
"// Zo = 4.54 K-ohms"
   ]
   }
,
{
		   "cell_type": "markdown",
		   "metadata": {},
		   "source": [
			"## Example 7.35: Find_values_of_R2_Vdd_Vds.sce"
		   ]
		  },
  {
"cell_type": "code",
	   "execution_count": null,
	   "metadata": {
	    "collapsed": true
	   },
	   "outputs": [],
"source": [
"// Find values of R2,Vdd,Vds\n",
"// Basic Electronics\n",
"// By Debashis De\n",
"// First Edition, 2010\n",
"// Dorling Kindersley Pvt. Ltd. India\n",
"// Example 7-35 in page 338\n",
"\n",
"clear; clc; close;\n",
"\n",
"// Given data\n",
"Vp=-5; // Pinch off voltage in V\n",
"Idss=12*10^-3; // Drain-source current in mA\n",
"Vdd=18; // Drain voltage in V\n",
"Rs=2*10^3; // Source resistance in K-ohms\n",
"Rd=2*10^3; // Drain resistance in K-ohms\n",
"R2=90*10^3; // Original value of R2 in K-ohms\n",
"\n",
"// Calculation\n",
"Vgs1=(-5.3+sqrt(5.3^2-(4*0.48*10.35)))/(2*0.48);\n",
"Vgs2=(-5.3-sqrt(5.3^2-(4*0.48*10.35)))/(2*0.48);\n",
"printf('Vgs = %0.2f V or %0.2f V\nTherefore Vgs = -2.53 V\n',Vgs1,Vgs2);\n",
"Id=(3.306-Vgs2)/2;\n",
"Vds=18-(Id*Rd)-(Id*Rs);\n",
"r2=(13.47*400)/4.53;\n",
"vdd=((16-2.53)*(400+90))/90;\n",
"vds=vdd-16-16;\n",
"printf('(a)The new value of R2 is %0.1f K-ohm\n',r2);\n",
"printf('(b)The new value of Vdd = %0.2f V\n',vdd);\n",
"printf('(c)The new value of Vds = %0.2f V',vds);\n",
"\n",
"// Result\n",
"// (a) R2 = 1189.4 K-ohm\n",
"// (b) Vdd = 73.34 V\n",
"// (c) Vds = 41.34 V"
   ]
   }
,
{
		   "cell_type": "markdown",
		   "metadata": {},
		   "source": [
			"## Example 7.36: Equation_for_drain_current.sce"
		   ]
		  },
  {
"cell_type": "code",
	   "execution_count": null,
	   "metadata": {
	    "collapsed": true
	   },
	   "outputs": [],
"source": [
"// Equation for drain current\n",
"// Basic Electronics\n",
"// By Debashis De\n",
"// First Edition, 2010\n",
"// Dorling Kindersley Pvt. Ltd. India\n",
"// Example 7-36 in page 340\n",
"\n",
"clear; clc; close;\n",
"\n",
"// Given\n",
"Idss=12; // Drain source current in mA\n",
"Vgs=-5; // Gate source voltage in V when off\n",
"\n",
"// Calculation\n",
"printf('Equation for drain current:Id = %0.0f*(1-(Vgs/%0.0f))^2',Idss,Vgs);\n",
"x=[-5 -4 -3 -2 -1 0];\n",
"y=[12 11 10 9 8 7 6 5 4 3 2 1 0];\n",
"y=12*(1+(x/5))^2;\n",
"plot(x,y);\n",
"xlabel('Vgs');\n",
"ylabel('Id');\n",
"title('Transfer characteristics of FET');\n",
"\n",
"// Result\n",
"// Graph shows the transfer characteristics of FET for the given values\n",
"// Set axis properties to 'origin' to view graph correctly"
   ]
   }
,
{
		   "cell_type": "markdown",
		   "metadata": {},
		   "source": [
			"## Example 7.37: Find_Vgs_Vp.sce"
		   ]
		  },
  {
"cell_type": "code",
	   "execution_count": null,
	   "metadata": {
	    "collapsed": true
	   },
	   "outputs": [],
"source": [
"// Find Vgs,Vp\n",
"// Basic Electronics\n",
"// By Debashis De\n",
"// First Edition, 2010\n",
"// Dorling Kindersley Pvt. Ltd. India\n",
"// Example 7-37 in page 340\n",
"\n",
"clear; clc; close;\n",
"\n",
"// Given data\n",
"Idss=12; // Drain-source current in mA\n",
"Vgs_off=-6; // Gate-source voltage when FET is off\n",
"\n",
"// Calculation\n",
"Vgs=6*(sqrt(5/12)-1);\n",
"Vp=Vgs_off;\n",
"printf('(a)Vgs = %0.2f V\n(b)Vp = -Vgs(off) = 6V',Vgs);\n",
"\n",
"// Result\n",
"// (a) Vgs = -2.13 V\n",
"// (b) Vp = 6 V"
   ]
   }
,
{
		   "cell_type": "markdown",
		   "metadata": {},
		   "source": [
			"## Example 7.38: Find_the_values_of_Rs_and_Rd.sce"
		   ]
		  },
  {
"cell_type": "code",
	   "execution_count": null,
	   "metadata": {
	    "collapsed": true
	   },
	   "outputs": [],
"source": [
"// Find the values of Rs and Rd\n",
"// Basic Electronics\n",
"// By Debashis De\n",
"// First Edition, 2010\n",
"// Dorling Kindersley Pvt. Ltd. India\n",
"// Example 7-38 in page 341\n",
"\n",
"clear; clc; close;\n",
"\n",
"// Given data\n",
"Id=1.5*10^-3; // Drain current in mA\n",
"Vds=10; // Drain-source voltage in V\n",
"Idss=5*10^-3; // Drain-source current in mA\n",
"Vp=-2; // Pinch off voltage in V\n",
"Vdd=20; // Drain voltage in V\n",
"\n",
"// Calculation\n",
"Vgs=2*(sqrt(1.5/5)-1);\n",
"Vs=-Vgs;\n",
"Rs=Vs/Id;\n",
"Rd=(20-10.9)/Id;\n",
"printf('Rs = %0.1e ohms\nRd = %0.2e ohms',Rs,Rd);\n",
"\n",
"// Result\n",
"// Rs = 0.6 K-ohms\n",
"// Rd = 6.06 K-ohms"
   ]
   }
,
{
		   "cell_type": "markdown",
		   "metadata": {},
		   "source": [
			"## Example 7.39: Find_the_value_of_Rs.sce"
		   ]
		  },
  {
"cell_type": "code",
	   "execution_count": null,
	   "metadata": {
	    "collapsed": true
	   },
	   "outputs": [],
"source": [
"// Find the value of Rs\n",
"// Basic Electronics\n",
"// By Debashis De\n",
"// First Edition, 2010\n",
"// Dorling Kindersley Pvt. Ltd. India\n",
"// Example 7-39 in page 341\n",
"\n",
"clear; clc; close;\n",
"\n",
"// Given data\n",
"Id=2.5*10^-3; // Drain current in mA\n",
"Vds=8; // Drain-source voltage in V\n",
"Vdd=30; // Drain voltage in V\n",
"R1=1*10^6; // R1 value in M-ohms\n",
"R2=500*10^3; // R2 value in K-ohms\n",
"Idss=15*10^-3; // Drain-source current in mA\n",
"Vp=-5; // Pinch off voltage in volts\n",
"\n",
"// Calculation\n",
"Vgs=5*(sqrt(5/30)-1);\n",
"V2=(Vdd*R2)/(R1+R2);\n",
"Rs=(V2-Vgs)/Id;\n",
"printf('Rs = %0.2e ohms\n',Rs);\n",
"Rd=(Vdd-Vds-(Id*Rs))/Id;\n",
"printf('Rd = %0.2e ohms',Rd);\n",
"\n",
"// Result\n",
"// Rs = 5.18 K-ohms\n",
"// Rd = 3.62 K-ohms"
   ]
   }
,
{
		   "cell_type": "markdown",
		   "metadata": {},
		   "source": [
			"## Example 7.3: Find_amplification_with_40k_resistor_instead.sce"
		   ]
		  },
  {
"cell_type": "code",
	   "execution_count": null,
	   "metadata": {
	    "collapsed": true
	   },
	   "outputs": [],
"source": [
"// Find amplification with 40k resistor instead\n",
"// Basic Electronics\n",
"// By Debashis De\n",
"// First Edition, 2010\n",
"// Dorling Kindersley Pvt. Ltd. India\n",
"// Example 7-3 in page 313\n",
"\n",
"clear; clc; close;\n",
"\n",
"// Given data\n",
"Av=-18.7; // Amplification from prev problem\n",
"R1=2.54; // Resistance value in ohms\n",
"R=40; // Load resistor in K-ohms\n",
"\n",
"// Calculation\n",
"Avs=(Av)*(R1/(R1+R));\n",
"printf('Amplification Avs = %0.2f',Avs);\n",
"\n",
"// Result\n",
"// Avs = -1.11"
   ]
   }
,
{
		   "cell_type": "markdown",
		   "metadata": {},
		   "source": [
			"## Example 7.40: Calculate_voltage_gain_Av.sce"
		   ]
		  },
  {
"cell_type": "code",
	   "execution_count": null,
	   "metadata": {
	    "collapsed": true
	   },
	   "outputs": [],
"source": [
"// Calculate voltage gain Av\n",
"// Basic Electronics\n",
"// By Debashis De\n",
"// First Edition, 2010\n",
"// Dorling Kindersley Pvt. Ltd. India\n",
"// Example 7-40 in page 342\n",
"\n",
"clear; clc; close;\n",
"\n",
"// Given data\n",
"gm=2*10^-3; // Transconductance in mA/V\n",
"rd=10*10^3; // Dynamic resistance in K-ohms\n",
"Zc=31.83*10^3; // Capacitive impedance in K-ohms\n",
"Vth=16.67; // Thevenin voltage in V at 1 KHz\n",
"\n",
"// Calculation\n",
"R=(rd*25*10^3)/(rd+(25*10^3));\n",
"Av=-gm*R;\n",
"printf('(a)Av after neglecting capacitance = %0.2f\n',Av);\n",
"Rth=(rd*50*10^3)/(rd+50*10^3);\n",
"Av1=(-50*10^3*Vth)/((50*10^3+Rth)-%i*Zc);\n",
"printf('(b)Av after considering capacitance = %0.2f',Av1);\n",
"\n",
"// Result\n",
"// Av after neglecting capacitance = -14.28\n",
"// Av after considering capacitance = -11.01"
   ]
   }
,
{
		   "cell_type": "markdown",
		   "metadata": {},
		   "source": [
			"## Example 7.41: Calculate_voltage_amplification_in_circuit.sce"
		   ]
		  },
  {
"cell_type": "code",
	   "execution_count": null,
	   "metadata": {
	    "collapsed": true
	   },
	   "outputs": [],
"source": [
"// Calculate voltage amplification in circuit\n",
"// Basic Electronics\n",
"// By Debashis De\n",
"// First Edition, 2010\n",
"// Dorling Kindersley Pvt. Ltd. India\n",
"// Example 7-41 in page 343\n",
"\n",
"clear; clc; close;\n",
"\n",
"// Given data\n",
"gfs=2*10^-3; // Transconductance in mS\n",
"Rl=10*10^3; // Load resistance\n",
"\n",
"// Calculation\n",
"Av=gfs*Rl;\n",
"printf('Av = %0.0f',Av);\n",
"\n",
"// Result \n",
"// Av = 20"
   ]
   }
,
{
		   "cell_type": "markdown",
		   "metadata": {},
		   "source": [
			"## Example 7.43: Find_the_value_of_Rs.sce"
		   ]
		  },
  {
"cell_type": "code",
	   "execution_count": null,
	   "metadata": {
	    "collapsed": true
	   },
	   "outputs": [],
"source": [
"// Find the value of Rs\n",
"// Basic Electronics\n",
"// By Debashis De\n",
"// First Edition, 2010\n",
"// Dorling Kindersley Pvt. Ltd. India\n",
"// Example 7-43 in page 344\n",
"\n",
"clear; clc; close;\n",
"\n",
"// Given data\n",
"Idss=10*10^-3; // Drain-source current in mA\n",
"Vp=-5; // Pinch off voltage in V\n",
"\n",
"// Calculation\n",
"Vgs = 5*(sqrt(6.4/10)-1);\n",
"Rs=-Vgs/(6.4*10^-3);\n",
"printf('Rs = %0.0f ohms',Rs);\n",
"\n",
"// Result\n",
"// Rs = 156 ohms"
   ]
   }
,
{
		   "cell_type": "markdown",
		   "metadata": {},
		   "source": [
			"## Example 7.44: Calculate_value_of_Id_Vgs_Vds.sce"
		   ]
		  },
  {
"cell_type": "code",
	   "execution_count": null,
	   "metadata": {
	    "collapsed": true
	   },
	   "outputs": [],
"source": [
"// Calculate value of Id,Vgs,Vds\n",
"// Basic Electronics\n",
"// By Debashis De\n",
"// First Edition, 2010\n",
"// Dorling Kindersley Pvt. Ltd. India\n",
"// Example 7-44 in page 345\n",
"\n",
"clear; clc; close;\n",
"\n",
"// Given data\n",
"Idss=4*10^-3; // Drain-source current in mA\n",
"Vp=4; // Pinch off voltage in V\n",
"\n",
"// Calculation\n",
"Rth=(200*10^3*1.3*10^6)/((200*10^3)+(1.3*10^6));\n",
"Vth=(200/1500)*(1-60);\n",
"Vgs=1;\n",
"Id=(-8-Vgs)/4;\n",
"Vds=-60-((18+4)*Id);\n",
"printf('Id = %0.2f mA\nVgs = %0.0f V\nVds = %0.1f V',Id,Vgs,Vds);\n",
"\n",
"// Result\n",
"// Vgs = 1 V\n",
"// Vds = -10.5 V\n",
"// Id = -2.25 mA"
   ]
   }
,
{
		   "cell_type": "markdown",
		   "metadata": {},
		   "source": [
			"## Example 7.45: Calculate_input_admittance.sce"
		   ]
		  },
  {
"cell_type": "code",
	   "execution_count": null,
	   "metadata": {
	    "collapsed": true
	   },
	   "outputs": [],
"source": [
"// Calculate input admittance\n",
"// Basic Electronics\n",
"// By Debashis De\n",
"// First Edition, 2010\n",
"// Dorling Kindersley Pvt. Ltd. India\n",
"// Example 7-45 in page 348\n",
"\n",
"clear; clc; close;\n",
"\n",
"// Given data\n",
"mu=20; // Amplification factor\n",
"rd=10*10^3; // Dynamic resistance in K-ohms\n",
"gm=2*10^-3; // Transconductance in mA/V\n",
"Cgs=3*10^-12; // Gate-source capacitance in pF\n",
"Cds=1*10^-12; // Drain-source capacitance in pF\n",
"Cgd=2*10^-12; // Gate-drain capacitance in pF\n",
"\n",
"// Calculation\n",
"printf('(a)Rd = 50 K\n');\n",
"printf('At f=1000Hz\n');\n",
"Ygs=%i*2*%pi*10^3*Cgs;\n",
"Yds=%i*2*%pi*10^3*Cds;\n",
"Ygd=%i*2*%pi*10^3*Cgd;\n",
"Yd=2*10^-6;\n",
"gd=10^-4;\n",
"Av=(-gm+Ygd)/(gd+Yd+Yds+Ygs);\n",
"C1=Cgs+(17.7*Cgd);\n",
"printf('Av = %0.1f\nC1 = %0.1e F\n\n',Av,C1);\n",
"printf('At f=10^6Hz\n');\n",
"Ygs1=%i*1.88*10^-6;\n",
"Yds1=%i*0.628*10^-6;\n",
"Ygd1=%i*1.26*10^-6;\n",
"Av1=(-gm+Ygd1)/(gd+Yd+Yds+Ygs);\n",
"R1=10^6/2.48;\n",
"C2=37.6*10^-12;\n",
"printf('Av = %0.1f\nR1 = %0.2e ohm\nC1=%0.1e F\n\n',Av1,R1,C2);\n",
"Zl=%i*5*10^4;\n",
"Yl=%i*2*10^-6;\n",
"printf('(b)Zl = j5*10^4;Yl = j2*10^-6\n');\n",
"printf('For f=1000Hz\n');\n",
"Av2=-gm/(gd+Yl);\n",
"C3=Cgs+(20.2*Cgd);\n",
"R2=20.8*10^6;\n",
"printf('Av = %0.2f\nR1 = %0.2e ohm\nC1 = %0.1e F\n\n',Av2,R2,C3);\n",
"printf('For f=10^6Hz\n');\n",
"Av3=(-200+(%i*1.26))/(10+(%i*3.88));\n",
"C4=Cgs+(18.4*Cgd);\n",
"R3=10^6/8.64;\n",
"printf('Av = %0.2f\nR1 = %0.2e ohm\nC1 = %0.2e F',Av3,R3,C4);\n",
"\n",
"// Result\n",
"// (a)Rd = 50 K\n",
"// At f=1000Hz\n",
"// Av = -19.6\n",
"// C1 = 3.8e-011 F\n",
"\n",
"// At f=10^6Hz\n",
"// Av = -19.6\n",
"// R1 = 4.03e+005 ohm\n",
"// C1=3.8e-011 F\n",
"\n",
"// (b)Zl = j5*10^4;Yl = j2*10^-6\n",
"// For f=1000Hz\n",
"// Av = -19.99\n",
"// R1 = 2.08e+007 ohm\n",
"// C1 = 4.3e-011 F\n",
"\n",
"// For f=10^6Hz\n",
"// Av = -17.34\n",
"// R1 = 1.16e+005 ohm\n",
"// C1 = 3.98e-011 F "
   ]
   }
,
{
		   "cell_type": "markdown",
		   "metadata": {},
		   "source": [
			"## Example 7.47: Calculate_gain_and_frequency.sce"
		   ]
		  },
  {
"cell_type": "code",
	   "execution_count": null,
	   "metadata": {
	    "collapsed": true
	   },
	   "outputs": [],
"source": [
"// Calculate gain and frequency\n",
"// Basic Electronics\n",
"// By Debashis De\n",
"// First Edition, 2010\n",
"// Dorling Kindersley Pvt. Ltd. India\n",
"// Example 7-47 in page 351\n",
"\n",
"clear; clc; close;\n",
"\n",
"// Given data\n",
"gm=2*10^-3; // Transconductance in mA/V\n",
"Rs=100*10^3; // Source resistance in K-ohms\n",
"rd=50*10^3; // Dynamic resistance in K-ohms\n",
"Ct=9*10^-12; // Total capacitance in pF\n",
"gd=2*10^-5; // Constant\n",
"\n",
"// Calculation\n",
"omega=(gm+gd)/Ct;\n",
"f=omega/(2*%pi);\n",
"printf('(a)f = %0.1e Hz\n',f);\n",
"Av=gm*Rs/(1+(gm+gd)*Rs);\n",
"printf('For f=35.6MHz,\n');\n",
"Av1=(10^2*(sqrt(4.45)))/(202*sqrt(2));\n",
"printf('(b)Av = %0.3f',Av1);\n",
"\n",
"// Result\n",
"// (a) f = 35.6 MHz\n",
"// (b) Av = 0.738"
   ]
   }
,
{
		   "cell_type": "markdown",
		   "metadata": {},
		   "source": [
			"## Example 7.48: Calculate_the_values_of_Id_Vgs_Vds.sce"
		   ]
		  },
  {
"cell_type": "code",
	   "execution_count": null,
	   "metadata": {
	    "collapsed": true
	   },
	   "outputs": [],
"source": [
"// Calculate the values of Id,Vgs,Vds\n",
"// Basic Electronics\n",
"// By Debashis De\n",
"// First Edition, 2010\n",
"// Dorling Kindersley Pvt. Ltd. India\n",
"// Example 7-48 in page 351\n",
"\n",
"clear; clc; close;\n",
"\n",
"// Given data\n",
"Vp=3; // Pinch off voltage in V\n",
"// Id = 0.2(Vgs-3)^2\n",
"\n",
"// Calculation\n",
"Id1=(25+7)/10;\n",
"Id2=(25-7)/10;\n",
"printf('Id = %0.1f mA or %0.1f mA\n',Id1,Id2);\n",
"printf('FET will be cut off at Id=3.2mA.Hence Id=1.8mA\n');\n",
"Vgs=0.5*(30-18);\n",
"Vds=30-(1.8*10);\n",
"printf('Vgs = %0.0f V\nVds = %0.0f V',Vgs,Vds);\n",
"\n",
"// Result\n",
"// Id = 1.8 mA\n",
"// Vgs = 6 V\n",
"// Vds = 12 V"
   ]
   }
,
{
		   "cell_type": "markdown",
		   "metadata": {},
		   "source": [
			"## Example 7.52: Calculate_complex_voltage_gain_Input_admittance.sce"
		   ]
		  },
  {
"cell_type": "code",
	   "execution_count": null,
	   "metadata": {
	    "collapsed": true
	   },
	   "outputs": [],
"source": [
"// Calculate complex voltage gain,Input admittance\n",
"// Basic Electronics\n",
"// By Debashis De\n",
"// First Edition, 2010\n",
"// Dorling Kindersley Pvt. Ltd. India\n",
"// Example 7-52 in page 355\n",
"\n",
"clear; clc; close;\n",
"\n",
"// Given data\n",
"mu=100; // Amplification factor\n",
"rd=40*10^3; // Dynamic resistance in K-ohms\n",
"gm=2.5*10^-3; // Transconductance in mA/V\n",
"Cgs=4*10^-12; // Gate-source capacitance in pF\n",
"Cds=0.6*10^-12; // Drain-source capacitance in pF\n",
"Cgd=2.4*10^-12; // Gate-drain capacitance in pF\n",
"\n",
"// Calculation\n",
"Ygs=%i*2*%pi*10^2*4*10^-12;\n",
"Yds=%i*2*%pi*10^2*0.6*10^-12;\n",
"Ygd=%i*2*%pi*10^2*2.4*10^-12;\n",
"gd=2.5*10^-5;\n",
"Yd=10^-5;\n",
"Av=(-2.5/3.5)*10^2;\n",
"Ci=Cgs+(1-Av)*Cgd;\n",
"printf('Av = %0.2f\nCi = %0.3e F\n',Av,Ci);\n",
"printf('For f=10^6 Hz,\n');\n",
"Ygs1=%i*2.51*10^-6;\n",
"Yds1=%i*0.377*10^-6;\n",
"Ygd=%i*1.51*10^-6;\n",
"Av=((-2.5*3.5*10^2)/12.30)+%i*((2.5*0.188*10^2)/12.30);\n",
"C1=Cgs+(72*Cgd);\n",
"G1=2*%pi*2.4*10^-12*3.82;\n",
"R1=1/G1;\n",
"printf('Av =');\n",
"disp(Av);\n",
"printf('C1 = %0.3e F\nR1 = %0.3e ohms',C1,R1);\n",
"\n",
"// Result\n",
"// Av = -71.4\n",
"// Ci = 177.8 pF\n",
"// At f=10^6 Hz,\n",
"// Av = -71.2+j3.82\n",
"// C1 = 177 pF\n",
"// R1 = 173.5 K-ohms"
   ]
   }
,
{
		   "cell_type": "markdown",
		   "metadata": {},
		   "source": [
			"## Example 7.54: Find_the_maximum_transconductance.sce"
		   ]
		  },
  {
"cell_type": "code",
	   "execution_count": null,
	   "metadata": {
	    "collapsed": true
	   },
	   "outputs": [],
"source": [
"// Find the maximum transconductance\n",
"// Basic Electronics\n",
"// By Debashis De\n",
"// First Edition, 2010\n",
"// Dorling Kindersley Pvt. Ltd. India\n",
"// Example 7-54 in page 358\n",
"clear; clc; close;\n",
"// Given data\n",
"Idss=1*10^-3; // Drain-source current in mA\n",
"Vp=-5; // Pinch off voltage in V\n",
"// Calculation\n",
"gm=(2*Idss)/-Vp;\n",
"printf('gm = %0.1e mho',gm);\n",
"// Result\n",
"// gm = 0.4 m-mho"
   ]
   }
,
{
		   "cell_type": "markdown",
		   "metadata": {},
		   "source": [
			"## Example 7.55: Evaluate_Vds_and_Rd.sce"
		   ]
		  },
  {
"cell_type": "code",
	   "execution_count": null,
	   "metadata": {
	    "collapsed": true
	   },
	   "outputs": [],
"source": [
"// Evaluate Vds and Rd\n",
"// Basic Electronics\n",
"// By Debashis De\n",
"// First Edition, 2010\n",
"// Dorling Kindersley Pvt. Ltd. India\n",
"// Example 7-55 in page 358\n",
"\n",
"clear; clc; close;\n",
"\n",
"// Given data\n",
"b=10^-4; // Constant in A/V^2\n",
"Vdd=10; // Drain voltage in V\n",
"Vt=1; // Voltage expressed in volts\n",
"Ids=0.5*10^-3; // Drain-source current in mA\n",
"\n",
"// Calculation\n",
"Vds=1+sqrt(5);\n",
"Rd=(Vdd-Vds)/Ids;\n",
"printf('Vds = Vgs = %0.2f V\nRd = %0.2e ohm',Vds,Rd);\n",
"\n",
"// Result\n",
"// Vds = 3.24 V\n",
"// Rd = 13.5 K-ohm"
   ]
   }
,
{
		   "cell_type": "markdown",
		   "metadata": {},
		   "source": [
			"## Example 7.56: Verify_FET_operation_in_pinch_off_region.sce"
		   ]
		  },
  {
"cell_type": "code",
	   "execution_count": null,
	   "metadata": {
	    "collapsed": true
	   },
	   "outputs": [],
"source": [
"// Verify FET operation in pinch-off region\n",
"// Basic Electronics\n",
"// By Debashis De\n",
"// First Edition, 2010\n",
"// Dorling Kindersley Pvt. Ltd. India\n",
"// Example 7-56 in page 358\n",
"\n",
"clear; clc; close;\n",
"\n",
"// Given data\n",
"Vp=-2; // Pinch off voltage in V\n",
"Idss=4*10^-3; // Drain-source current in mA\n",
"Rd=910; // Drain resistance in ohms\n",
"Rs=3*10^3; // Source resistance in K-ohms\n",
"R1=12*10^6; // R1 value in M-ohms\n",
"R2=8.57*10^6; // R2 value in M-ohms\n",
"Vdd=24; // Drain voltage in V\n",
"\n",
"// Calculation\n",
"Vgg = Vdd*R2/(R1+R2);\n",
"Id1=(73+sqrt(73^2-(4*9*144)))/(2*9);\n",
"Id2=(73-sqrt(73^2-(4*9*144)))/(2*9);\n",
"printf('Id = %0.2e A or %0.2e A\n',Id1,Id2);\n",
"printf('A value of 3.39 mA is selected\n');\n",
"Vgsq=10-(3.39*10^-3*3*10^3);\n",
"Vdsq=Vdd-(3.39*10^-3*3.91*10^3);\n",
"Vdgq=Vdsq-Vgsq;\n",
"printf('Vgsq = %0.2fV\nVdsq = %0.2fV\nVdgq = %0.3f V\n',Vgsq,Vdsq,Vdgq);\n",
"printf('Vdgq>Vd.Hence the FET is in the pinch off region');\n",
"\n",
"// Result\n",
"// FET operates in the pinch off region"
   ]
   }
,
{
		   "cell_type": "markdown",
		   "metadata": {},
		   "source": [
			"## Example 7.57: Calculate_voltage_gain_Av.sce"
		   ]
		  },
  {
"cell_type": "code",
	   "execution_count": null,
	   "metadata": {
	    "collapsed": true
	   },
	   "outputs": [],
"source": [
"// Calculate voltage gain Av\n",
"// Basic Electronics\n",
"// By Debashis De\n",
"// First Edition, 2010\n",
"// Dorling Kindersley Pvt. Ltd. India\n",
"// Example 7-57 in page 359\n",
"\n",
"clear; clc; close;\n",
"\n",
"// Given data\n",
"gm=2*10^-3; // Transconductance in mA/V\n",
"rd=10*10^3; // Dynamic resistance in K-ohms\n",
"C=0.025*10^-6; // Capacitance in microF \n",
"\n",
"// Calculation\n",
"Rl=(30*30)/(30+30);\n",
"Av=(-gm*rd*Rl*10^3)/(Rl+rd);\n",
"f1=1/(2*%pi*37.5*10^3*C);\n",
"Avl=Av/sqrt(1+(f1/(5*10^3))^2);\n",
"printf('(a)Av = %0.0f\n(b)Avl = %0.2f',Av,Avl);\n",
"\n",
"// Result\n",
"// (a) Av = -30\n",
"// (b) Avl = -29.94"
   ]
   }
,
{
		   "cell_type": "markdown",
		   "metadata": {},
		   "source": [
			"## Example 7.59: Design_a_source_follower.sce"
		   ]
		  },
  {
"cell_type": "code",
	   "execution_count": null,
	   "metadata": {
	    "collapsed": true
	   },
	   "outputs": [],
"source": [
"// Design a source follower\n",
"// Basic Electronics\n",
"// By Debashis De\n",
"// First Edition, 2010\n",
"// Dorling Kindersley Pvt. Ltd. India\n",
"// Example 7-59 in page 361\n",
"\n",
"clear; clc; close;\n",
"\n",
"// Given data\n",
"Vds=14; // Drain-source voltage in V\n",
"Idq=3*10^-3; // Drain-source current in mA\n",
"Vdd=20; // Drain voltage in V\n",
"gm=2*10^-3; // Transconductance in mS\n",
"rd=50*10^3; // Dynamic resistance in K-ohms\n",
"Vgs=-1.5; // Gate-source voltage in V\n",
"\n",
"// Calculation\n",
"R=(20-14)/Idq;\n",
"R1=Vgs/-Idq;\n",
"R2=R-R1;\n",
"Ro=1/gm;\n",
"Av=R/(R+Ro);\n",
"R_1=1/(1-(Av*(R2/R)));\n",
"printf('R1 = %0.1e ohms\nR2 = %0.1e ohms\nRo = %0.1e ohms\n',R1,R2,Ro);\n",
"printf('Av = %0.1f*Av1\n',Av);\n",
"printf('Effective input resistance R1 = %0.1f*R3',R_1);\n",
"\n",
"// Result\n",
"// R1 = 0.5 K\n",
"// R2 = 1.5 K\n",
"// Ro = 0.5 K\n",
"// Av = 0.8*Av'\n",
"// R1(effective) = 2.5*R3"
   ]
   }
,
{
		   "cell_type": "markdown",
		   "metadata": {},
		   "source": [
			"## Example 7.6: Find_gain_if_v2_v1_are_zero.sce"
		   ]
		  },
  {
"cell_type": "code",
	   "execution_count": null,
	   "metadata": {
	    "collapsed": true
	   },
	   "outputs": [],
"source": [
"// Find gain if v2,v1 are zero\n",
"// Basic Electronics\n",
"// By Debashis De\n",
"// First Edition, 2010\n",
"// Dorling Kindersley Pvt. Ltd. India\n",
"// Example 7-6 in page 315\n",
"\n",
"clear; clc; close;\n",
"\n",
"// Given data\n",
"mu=30; // FET parameter\n",
"rd=15; // Resistance value in k-ohms\n",
"Rd=1; // Drain resistance value in k-ohms\n",
"Rs=0.5; // Source resistance in k-ohms\n",
"\n",
"// Calculation\n",
"Av1=(-mu*(rd+Rd))/(Rd+((mu+1)^2*Rs)+((mu+2)*rd));\n",
"Av2=((mu/(mu+1))*(((mu+1)*Rs)+rd))/(((Rd+rd)/(mu+1))+((mu+1)*Rs)+rd);\n",
"printf('(a)Av when v2 is zero = %0.3f\n',Av1);\n",
"printf('(b)Av when v1 is zero = %0.3f',Av2);\n",
"\n",
"// Result\n",
"// (a) Av1 = -0.499\n",
"// (b) Av2 = 0.952"
   ]
   }
],
"metadata": {
		  "kernelspec": {
		   "display_name": "Scilab",
		   "language": "scilab",
		   "name": "scilab"
		  },
		  "language_info": {
		   "file_extension": ".sce",
		   "help_links": [
			{
			 "text": "MetaKernel Magics",
			 "url": "https://github.com/calysto/metakernel/blob/master/metakernel/magics/README.md"
			}
		   ],
		   "mimetype": "text/x-octave",
		   "name": "scilab",
		   "version": "0.7.1"
		  }
		 },
		 "nbformat": 4,
		 "nbformat_minor": 0
}
