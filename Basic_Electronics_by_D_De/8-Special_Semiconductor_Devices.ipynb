{
"cells": [
 {
		   "cell_type": "markdown",
	   "metadata": {},
	   "source": [
       "# Chapter 8: Special Semiconductor Devices"
	   ]
	},
{
		   "cell_type": "markdown",
		   "metadata": {},
		   "source": [
			"## Example 8.10: Design_of_Triggering_Circuit_for_a_UJT.sce"
		   ]
		  },
  {
"cell_type": "code",
	   "execution_count": null,
	   "metadata": {
	    "collapsed": true
	   },
	   "outputs": [],
"source": [
"// Design of Triggering Circuit for a UJT\n",
"// Basic Electronics\n",
"// By Debashis De\n",
"// First Edition, 2010\n",
"// Dorling Kindersley Pvt. Ltd. India\n",
"// Example 8-10 in page 390\n",
"\n",
"clear; clc; close;\n",
"\n",
"// Given Data\n",
"Vs=30; // DC source voltage in V\n",
"eta=0.51; // Intrinsic stand off ratio\n",
"Ip=10*10^-6; // Peak Emitter current of UJT in mu-A\n",
"Vv=3.5; // Valley voltage in V\n",
"Iv=10*10^-3; // Valley current in A\n",
"f=60; // Source frequency in Hz\n",
"tg=50*10^-6; // width of triggering pulse in seconds\n",
"C=0.5*10^-6; // Assumption for circuit Capacitance in mu-F\n",
"Vd=0.5; // Fixed value of Vb in V\n",
"\n",
"// Calculations\n",
"Vp=(eta*Vs)+Vd;\n",
"Rlow=(Vs-Vp)/Ip; \n",
"Rup=(Vs-Vv)/Iv;\n",
"tou=1/f;\n",
"R=(tou/C)*(1/log(1/(1-eta))); \n",
"Rb1=tg/C; \n",
"Rb2=10^4/(eta*Vs); \n",
"\n",
"printf('(a)The value of Base-1 Resistance of UJT is %0.2f ohm \n',Rb1);\n",
"printf('(b)The value of Base-2 Resistance of UJT is %0.2f ohm \n',Rb2);\n",
"printf('(c)Circuit resistance of the arrangement is %0.2e ohm \n',R);\n",
"\n",
"// Results\n",
"// (a) The value of Base-1 Resistance of UJT is 100 ohm\n",
"// (b) The value of Base-2 Resistance of UJT is 654 ohm\n",
"// (c) Circuit resistance of the arrangement is 46.7 K-ohm"
   ]
   }
,
{
		   "cell_type": "markdown",
		   "metadata": {},
		   "source": [
			"## Example 8.11: To_determine_Emitter_source_voltage_of_UJT.sce"
		   ]
		  },
  {
"cell_type": "code",
	   "execution_count": null,
	   "metadata": {
	    "collapsed": true
	   },
	   "outputs": [],
"source": [
"// To determine Emitter source voltage of UJT\n",
"// Basic Electronics\n",
"// By Debashis De\n",
"// First Edition, 2010\n",
"// Dorling Kindersley Pvt. Ltd. India\n",
"// Example 8-11 in page 391\n",
"\n",
"clear; clc; close;\n",
"\n",
"// Given Data\n",
"Re=1*10^3; // Emitter Resistance of UJT in ohm\n",
"Iv=5*10^-3; // Valley current of UJT in A\n",
"Vv=2; // Valley voltage of UJT in V\n",
"\n",
"// Calculations\n",
"Ve=Vv;\n",
"Ie=Iv; \n",
"Vee=(Ie*Re)+Ve;\n",
"\n",
"printf('The value of Emitter source voltage of UJT for turn-off is %0.2f V',Vee);\n",
"\n",
"// Results\n",
"// The value of Emitter source voltage of UJT for turn-off is 7 V"
   ]
   }
,
{
		   "cell_type": "markdown",
		   "metadata": {},
		   "source": [
			"## Example 8.1: Calculate_the_Gate_Source_Resistance.sce"
		   ]
		  },
  {
"cell_type": "code",
	   "execution_count": null,
	   "metadata": {
	    "collapsed": true
	   },
	   "outputs": [],
"source": [
"// Calculate the Gate Source Resistance\n",
"// Basic Electronics\n",
"// By Debashis De\n",
"// First Edition, 2010\n",
"// Dorling Kindersley Pvt. Ltd. India\n",
"// Example 8-1 in page 376\n",
"\n",
"clear; clc; close;\n",
"\n",
"// Given Data\n",
"P=0.5; // Value of Allowable Gate Power Dissipation in watt\n",
"Es=14; // Trigger Source Voltage in V\n",
"slope=130; // Slope of Gate-Cathode Characteristic line\n",
"\n",
"// Calculations\n",
"Ig=sqrt(P/slope); \n",
"Vg=slope*Ig;\n",
"Rs=(Es-Vg)/Ig; \n",
"\n",
"printf('(a)The value of Gate Resistance for the Circuit is %0.2e ohm \n',Rs);\n",
"printf('(b)The value of the Gate Voltage is %0.2e V \n',Vg);\n",
"printf('(c)The value of the Gate Current is %0.2e A \n',Ig);\n",
"\n",
"// Results\n",
"// (a) The value of Gate Resistance for the Circuit is 95.3 ohm\n",
"// (b) The value of the Gate Voltage is 8.06 V\n",
"// (c) The value of the Gate Current is 62 mA"
   ]
   }
,
{
		   "cell_type": "markdown",
		   "metadata": {},
		   "source": [
			"## Example 8.2: Firing_angle_of_Thyristor.sce"
		   ]
		  },
  {
"cell_type": "code",
	   "execution_count": null,
	   "metadata": {
	    "collapsed": true
	   },
	   "outputs": [],
"source": [
"// Firing angle of Thyristor\n",
"// Basic Electronics\n",
"// By Debashis De\n",
"// First Edition, 2010\n",
"// Dorling Kindersley Pvt. Ltd. India\n",
"// Example 8-2 in page 377\n",
"\n",
"clear; clc; close;\n",
"\n",
"// Given Data\n",
"Il=50^10*-3; // Latching current of the Thyristor in mA\n",
"t=50^10*-6; // Duration of firing pulse in second\n",
"Es=50; // DC voltage of the circuit in V\n",
"R=10; // Resistance of the circuit in ohm\n",
"L=0.25; // Inductance of the circuit in H\n",
"e=2.718282; // Constant of calculation\n",
"\n",
"// Calculations\n",
"tou=0.025; \n",
"i=(Es/R)*(1-exp((-(50*10^-6))/tou));\n",
"printf('(a) i = %0.3e A\n',i); \n",
"\n",
"if(i<Il)\n",
" printf('Since the Gate current is less than Latching Current, SCR will not get fired \n');\n",
"else\n",
" printf('Since the Gate current is more than Latching Current, SCR will get fired \n');\n",
"end\n",
"\n",
"// Results\n",
"// SCR will not get fired in the Circuit"
   ]
   }
,
{
		   "cell_type": "markdown",
		   "metadata": {},
		   "source": [
			"## Example 8.3: Calculate_width_of_Gating_pulse.sce"
		   ]
		  },
  {
"cell_type": "code",
	   "execution_count": null,
	   "metadata": {
	    "collapsed": true
	   },
	   "outputs": [],
"source": [
"// Calculate width of Gating pulse\n",
"// Basic Electronics\n",
"// By Debashis De\n",
"// First Edition, 2010\n",
"// Dorling Kindersley Pvt. Ltd. India\n",
"// Example 8-3 in page 377\n",
"\n",
"clear; clc; close;\n",
"\n",
"// Given Data\n",
"Il=4*10^-3; // Latching current of SCR in A\n",
"V=100; // DC voltage of the circuit in V\n",
"L=0.1; // Inductance of the circuit in H\n",
"\n",
"// Calculations\n",
"t=(L/V)*Il;\n",
"\n",
"printf('Required width of the gating pulse is %0.2e s',t);\n",
"\n",
"// Results\n",
"// Required width of the gating pulse is 4 mu-s"
   ]
   }
,
{
		   "cell_type": "markdown",
		   "metadata": {},
		   "source": [
			"## Example 8.4: To_calculate_required_Gate_source_Resistance.sce"
		   ]
		  },
  {
"cell_type": "code",
	   "execution_count": null,
	   "metadata": {
	    "collapsed": true
	   },
	   "outputs": [],
"source": [
"// To calculate required Gate source Resistance\n",
"// Basic Electronics\n",
"// By Debashis De\n",
"// First Edition, 2010\n",
"// Dorling Kindersley Pvt. Ltd. India\n",
"// Example 8-4 in page 378\n",
"\n",
"clear; clc; close;\n",
"\n",
"// Given Data\n",
"P=0.012; // Value of Allowable Gate Power Dissipation in watt\n",
"Es=10; // Trigger Source Voltage in V\n",
"slope=3*10^3; // Slope of Gate-Cathode Characteristic line\n",
"\n",
"// Calculations\n",
"Ig=sqrt(P/slope); \n",
"Vg=slope*Ig; \n",
"Rs=(Es-Vg)/Ig; \n",
"\n",
"printf('(a)The value of Gate Resistance for the Circuit is %0.0f ohm \n',Rs);\n",
"printf('(b)The value of the Gate Voltage is %0.2e V \n',Vg);\n",
"printf('(c)The value of the Gate Current is %0.2e A \n',Ig);\n",
"\n",
"\n",
"// Results\n",
"// (a) The value of Gate Resistance for the Circuit is 2 K-ohm\n",
"// (b) The value of the Gate Voltage is 6 V\n",
"// (c) The value of the Gate Current is 2 mA"
   ]
   }
,
{
		   "cell_type": "markdown",
		   "metadata": {},
		   "source": [
			"## Example 8.5: To_calculate_series_Resistance_across_SCR.sce"
		   ]
		  },
  {
"cell_type": "code",
	   "execution_count": null,
	   "metadata": {
	    "collapsed": true
	   },
	   "outputs": [],
"source": [
"// To calculate series Resistance across SCR\n",
"// Basic Electronics\n",
"// By Debashis De\n",
"// First Edition, 2010 \n",
"// Dorling Kindersley Pvt. Ltd. India\n",
"// Example 8-5 in page 378\n",
"\n",
"clear; clc; close;\n",
"\n",
"// Given Data\n",
"Ig_min=0.5; // Minimum gate current for quick ON, in A\n",
"Vs=15; // Gate source voltage in V\n",
"slope=16; // Slope of Gate-Cathode Characteristic line\n",
"\n",
"// Calculations\n",
"Vg=slope*Ig_min; \n",
"Rg=(Vs-Vg)/Ig_min; \n",
"\n",
"printf('The value of Gate Resistance is %0.2f ohm \n',Rg);\n",
"\n",
"// Results\n",
"// The value of Gate Resistance is 14 ohm"
   ]
   }
,
{
		   "cell_type": "markdown",
		   "metadata": {},
		   "source": [
			"## Example 8.6: To_determine_critical_value_of_dv_by_dt.sce"
		   ]
		  },
  {
"cell_type": "code",
	   "execution_count": null,
	   "metadata": {
	    "collapsed": true
	   },
	   "outputs": [],
"source": [
"// To determine critical value of dv/dt\n",
"// Basic Electronics\n",
"// By Debashis De\n",
"// First Edition, 2010\n",
"// Dorling Kindersley Pvt. Ltd. India\n",
"// Example 8-6 in page 379\n",
"\n",
"clear; clc; close;\n",
"\n",
"// Given Data\n",
"ij2=32*10^-3; // Limiting value of the charging current in A\n",
"Cj2=40*10^-12; // Capacitance of reverse biased junction J2 in F\n",
"\n",
"// Calculations\n",
"dv_dt=ij2/Cj2; \n",
"\n",
"printf('The value of dv/dt of the given SCR is %0.2e volt/second \n',dv_dt);\n",
"\n",
"// Results\n",
"// The value of dv/dt of the given SCR is 800 V/mu-s"
   ]
   }
,
{
		   "cell_type": "markdown",
		   "metadata": {},
		   "source": [
			"## Example 8.7: Calculate_surge_current_and_I2t_ratings.sce"
		   ]
		  },
  {
"cell_type": "code",
	   "execution_count": null,
	   "metadata": {
	    "collapsed": true
	   },
	   "outputs": [],
"source": [
"// Calculate surge current & I2t ratings\n",
"// Basic Electronics\n",
"// By Debashis De\n",
"// First Edition, 2010\n",
"// Dorling Kindersley Pvt. Ltd. India\n",
"// Example 8-7 in page 379\n",
"\n",
"clear; clc; close;\n",
"\n",
"// Given Data\n",
"ish=3000; // half cycle surge current rating of SCR in A\n",
"f=50; // Frequency of operation of supply in Hz\n",
"\n",
"// Calculations\n",
"I=ish*sqrt(2*f)/sqrt(4*f); \n",
"I2t_rate=(I*I)/(2*f); \n",
"\n",
"printf('(a)The surge current rating of one cycle for the SCR is %0.2f A \n',I);\n",
"printf('(b)The I2t rating of one cycle for the SCR is %0.2f A^2-second \n',I2t_rate);\n",
"\n",
"// Results\n",
"// (a) The surge current rating of one cycle for the SCR is 2121.32 A\n",
"// (b) The I2t rating of one cycle for the SCR is 45000 A^2-second"
   ]
   }
,
{
		   "cell_type": "markdown",
		   "metadata": {},
		   "source": [
			"## Example 8.8: Max_and_Min_firing_delays.sce"
		   ]
		  },
  {
"cell_type": "code",
	   "execution_count": null,
	   "metadata": {
	    "collapsed": true
	   },
	   "outputs": [],
"source": [
"// Max and Min firing delays\n",
"// Basic Electronics\n",
"// By Debashis De\n",
"// First Edition, 2010\n",
"// Dorling Kindersley Pvt. Ltd. India\n",
"// Example 8-8 in page 386\n",
"\n",
"clear; clc; close;\n",
"\n",
"// Given Data\n",
"Vc=40; // Breakdown voltage of DIAC in V\n",
"C=470*10^-9; // Capacitance in nF\n",
"E=240; // Rms voltage at 50 Hz in V\n",
"omga=2*%pi*50; // Angular frequency\n",
"\n",
"// Calculation\n",
"printf('When DIAC is not conducting:\n')\n",
"A=asind(40/335.8)+8.4;\n",
"Z=1/(omga*C);\n",
"R1=atand(1/(omga*1000*C));\n",
"Zd=sqrt(R1^(2+(1/omga^2*C^2)));\n",
"printf('Minimum delay = %0.2f degrees\n\n',A);\n",
"printf('When DIAC conducts:\n');\n",
"A1=asind(40/88.6)+74.84;\n",
"printf('Maximum delay = %0.2f degrees',A1);\n",
"\n",
"// Result\n",
"// Minimum delay = 15.24 degrees\n",
"// Maximum delay = 101.6 degrees"
   ]
   }
],
"metadata": {
		  "kernelspec": {
		   "display_name": "Scilab",
		   "language": "scilab",
		   "name": "scilab"
		  },
		  "language_info": {
		   "file_extension": ".sce",
		   "help_links": [
			{
			 "text": "MetaKernel Magics",
			 "url": "https://github.com/calysto/metakernel/blob/master/metakernel/magics/README.md"
			}
		   ],
		   "mimetype": "text/x-octave",
		   "name": "scilab",
		   "version": "0.7.1"
		  }
		 },
		 "nbformat": 4,
		 "nbformat_minor": 0
}
