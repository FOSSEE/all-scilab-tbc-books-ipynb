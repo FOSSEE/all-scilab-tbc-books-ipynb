{
"cells": [
 {
		   "cell_type": "markdown",
	   "metadata": {},
	   "source": [
       "# Chapter 3: Diode Circuits"
	   ]
	},
{
		   "cell_type": "markdown",
		   "metadata": {},
		   "source": [
			"## Example 3.10: Full_scale_reading_of_dc_meter.sce"
		   ]
		  },
  {
"cell_type": "code",
	   "execution_count": null,
	   "metadata": {
	    "collapsed": true
	   },
	   "outputs": [],
"source": [
"// Full scale reading of dc metere\n",
"// Basic Electronics\n",
"// By Debashis De\n",
"// First Edition, 2010\n",
"// Dorling Kindersley Pvt. Ltd. India\n",
"// Example 3-10 in page 158\n",
"\n",
"clear; clc; close;\n",
"\n",
"// Given data\n",
"R=5020; // Total resistance in ohm\n",
"Vrms=5.58; // Input rms voltage in V\n",
"// Calculation\n",
"I_dc=(2*sqrt(2)*Vrms)/(%pi*5020);\n",
"V_0=R*I_dc;\n",
"printf('Full scale reading = %0.2f V',V_0);\n",
"\n",
"// Result\n",
"// Full scale reading = 5.58 V"
   ]
   }
,
{
		   "cell_type": "markdown",
		   "metadata": {},
		   "source": [
			"## Example 3.11: Find_dc_output_Peak_inverse_voltage.sce"
		   ]
		  },
  {
"cell_type": "code",
	   "execution_count": null,
	   "metadata": {
	    "collapsed": true
	   },
	   "outputs": [],
"source": [
"// Find dc output,Peak inverse voltage\n",
"// Basic Electronics\n",
"// By Debashis De\n",
"// First Edition, 2010\n",
"// Dorling Kindersley Pvt. Ltd. India\n",
"// Example 3-11 in page 159\n",
"\n",
"clear; clc; close;\n",
"\n",
"// Given data\n",
"Vi=220; // AC input voltage in V\n",
"N=10; // Turn ratio of transformer\n",
"\n",
"// Calculation\n",
"V2=Vi/N;\n",
"Vm=sqrt(2)*V2;\n",
"V_dc=0.318*Vm;\n",
"PIV=Vm;\n",
"\n",
"printf('(a)DC output voltage = %0.2f V\n',V_dc);\n",
"printf('(b)PIV = %0.2f V',Vm);\n",
"\n",
"// Result\n",
"// (a) Dc output voltage = 9.89V\n",
"// (b) PIV = 31.11 V"
   ]
   }
,
{
		   "cell_type": "markdown",
		   "metadata": {},
		   "source": [
			"## Example 3.12: Determine_maximum_and_average_values_of_power.sce"
		   ]
		  },
  {
"cell_type": "code",
	   "execution_count": null,
	   "metadata": {
	    "collapsed": true
	   },
	   "outputs": [],
"source": [
"// Determine maximum and average values of power\n",
"// Basic Electronics\n",
"// By Debashis De\n",
"// First Edition, 2010\n",
"// Dorling Kindersley Pvt. Ltd. India\n",
"// Example 3-12 in page 159\n",
"\n",
"clear; clc; close;\n",
"\n",
"// Given data\n",
"V1=230; // Input voltage in V\n",
"N=1/3; // Turn ratio\n",
"Rl=200; // Load resistance in ohms\n",
"\n",
"// Calculation\n",
"V2=V1*N;\n",
"Vm=sqrt(2)*V2;\n",
"Im=Vm/Rl;\n",
"P=Im^2*Rl;\n",
"Vdc=0.318*Vm;\n",
"Idc=Vdc/Rl;\n",
"Pdc=Idc^2*Rl;\n",
"printf('Maximum load power = %0.2f W\n',P);\n",
"printf('Average load power = %0.2f W',Pdc);\n",
"\n",
"// Result\n",
"// Maximum power = 58.78 W\n",
"// Average power = 5.94 W"
   ]
   }
,
{
		   "cell_type": "markdown",
		   "metadata": {},
		   "source": [
			"## Example 3.13: Find_maximum_value_of_ac_voltage.sce"
		   ]
		  },
  {
"cell_type": "code",
	   "execution_count": null,
	   "metadata": {
	    "collapsed": true
	   },
	   "outputs": [],
"source": [
"// Find maximum value of ac voltage\n",
"// Basic Electronics\n",
"// By Debashis De\n",
"// First Edition, 2010\n",
"// Dorling Kindersley Pvt. Ltd. India\n",
"// Example 3-13 in page 160\n",
"\n",
"clear; clc; close;\n",
"\n",
"// Given data\n",
"Vdc=30; // DC voltage in V\n",
"Rf=25; // Internal resistance in ohms\n",
"Rl=500; // Load resistance in ohms\n",
"\n",
"// Calculation\n",
"Idc=Vdc/Rl;\n",
"Im=%pi*Idc;\n",
"Vi=Im^2*(Rf+Rl);\n",
"printf('Voltage required at the input = %0.2f V',Vi);\n",
"\n",
"// Result\n",
"// Voltage required at the input is = 18.65 V"
   ]
   }
,
{
		   "cell_type": "markdown",
		   "metadata": {},
		   "source": [
			"## Example 3.14: Calculate_ac_voltage_rectification_efficiency.sce"
		   ]
		  },
  {
"cell_type": "code",
	   "execution_count": null,
	   "metadata": {
	    "collapsed": true
	   },
	   "outputs": [],
"source": [
"// Calculate ac voltage,rectification efficiency\n",
"// Basic Electronics\n",
"// By Debashis De\n",
"// First Edition, 2010\n",
"// Dorling Kindersley Pvt. Ltd. India\n",
"// Example 3-14 in page 160\n",
"\n",
"clear; clc; close;\n",
"\n",
"// Given data\n",
"Vdc=100; // DC voltage in V\n",
"Rl=500; // Load resistance in ohms\n",
"Rf=20; // Internal resistance in ohms\n",
"\n",
"// Calculation\n",
"Idc=Vdc/Rl;\n",
"Im=Idc*%pi;\n",
"Vm=Im*(Rl+Rf);\n",
"eta=(0.406/(1+(Rf/Rl)))*100;\n",
"\n",
"printf('(a)AC voltage required = %0.2f V\n',Vm);\n",
"printf('(b)Rectification efficiency = %0.0f percent',eta);\n",
"\n",
"// Result\n",
"// (a) Vm = 326.73V\n",
"// (b) Rectification efficiency = 39 percent"
   ]
   }
,
{
		   "cell_type": "markdown",
		   "metadata": {},
		   "source": [
			"## Example 3.15: Find_current_dc_voltage_voltage_across_load.sce"
		   ]
		  },
  {
"cell_type": "code",
	   "execution_count": null,
	   "metadata": {
	    "collapsed": true
	   },
	   "outputs": [],
"source": [
"// Find current,dc voltage,voltage across load\n",
"// Basic Electronics\n",
"// By Debashis De\n",
"// First Edition, 2010\n",
"// Dorling Kindersley Pvt. Ltd. India\n",
"// Example 3-15 in page 150\n",
"\n",
"clear; clc; close;\n",
"\n",
"// Given data\n",
"Vm=50; // Maximum voltage in V\n",
"f=50; // Frequency in Hz\n",
"Rf=20; // Internal resistance in ohms\n",
"Rl=5000; // Load resistance in ohms\n",
"\n",
"// Calculation\n",
"Im=Vm/(Rl+Rf);\n",
"printf('Since diode conducts only during pisitive half of the input,Im = %0.0e A\n',Im);\n",
"printf('(a)Hence i = 10*sin100*pi*t\n');\n",
"Vdc=(Im/%pi)*Rl;\n",
"printf('(b)V_dc = %0.1f V\n',Vdc);\n",
"printf('Hence V_0v=15.9sin100*pi*t\n');\n",
"printf('(c)When diode is reverse biased,voltage across diode = %0.1f*sin100*pi*t for 0<100*pi*t<pi and 0 for pi,100*pi*t<2*pi',Vdc);\n",
"\n",
"// Result\n",
"// (a) Current in the circuit = 10sin100*pi*t\n",
"// (b) DC output voltage across load = 15.9sin100*pi*t\n",
"// (c) Voltage across diode = 15.9sin100*pi*t for 0<100*pi*t and 0 for pi<100*pi*t<2*pi"
   ]
   }
,
{
		   "cell_type": "markdown",
		   "metadata": {},
		   "source": [
			"## Example 3.16: Estimate_value_of_capacitance_needed.sce"
		   ]
		  },
  {
"cell_type": "code",
	   "execution_count": null,
	   "metadata": {
	    "collapsed": true
	   },
	   "outputs": [],
"source": [
"// Estimate value of capacitance needed\n",
"// Basic Electronics\n",
"// By Debashis De\n",
"// First Edition, 2010\n",
"// Dorling Kindersley Pvt. Ltd. India\n",
"// Example 3-16 in page 161\n",
"\n",
"clear; clc; close;\n",
"\n",
"// Given data\n",
"Vrms=230; // RMS voltage in V\n",
"f=50; // Frequency in Hz\n",
"gamma_hwr=0.003; // Ripple factor assumed\n",
"I=0.5; // Load current in A\n",
"\n",
"// Calculation\n",
"Vm=sqrt(2)*Vrms;\n",
"Vdc=(Vm/%pi);\n",
"Rl=Vdc/I;\n",
"C=1/(2*sqrt(3)*f*gamma_hwr*Rl);\n",
"printf('Capacitance needed = %0.2e F',C);\n",
"\n",
"// Result\n",
"// Capacitance needed = 9.29 mF"
   ]
   }
,
{
		   "cell_type": "markdown",
		   "metadata": {},
		   "source": [
			"## Example 3.17: Calculate_the_ripple_factor.sce"
		   ]
		  },
  {
"cell_type": "code",
	   "execution_count": null,
	   "metadata": {
	    "collapsed": true
	   },
	   "outputs": [],
"source": [
"// Calculate the ripple factor\n",
"// Basic Electronics\n",
"// By Debashis De\n",
"// First Edition, 2010\n",
"// Dorling Kindersley Pvt. Ltd. India\n",
"// Example 3-17 in page 161\n",
"\n",
"clear; clc; close;\n",
"\n",
"// Given data\n",
"Rl=3.15*10^3; // Load resistance in K-ohms\n",
"Rf=20; // Internal resistance in ohms\n",
"Vm=230; // Maximum voltage in volts\n",
"f=50; // Frequency in Hertz\n",
"\n",
"// Calculation\n",
"Irms=0.707*(Vm/(Rl+Rf));\n",
"Idc=0.637*(Vm/(Rl+Rf));\n",
"gamma_fwr=sqrt((Irms/Idc)^2-(1));\n",
"\n",
"printf('Ripple factor = %0.2f',gamma_fwr);\n",
"\n",
"// Result\n",
"// Ripple factor = 0.48"
   ]
   }
,
{
		   "cell_type": "markdown",
		   "metadata": {},
		   "source": [
			"## Example 3.18: Find_DC_output_voltage_pulse_frequency.sce"
		   ]
		  },
  {
"cell_type": "code",
	   "execution_count": null,
	   "metadata": {
	    "collapsed": true
	   },
	   "outputs": [],
"source": [
"// Find DC output voltage,pulse frequency\n",
"// Basic Electronics\n",
"// By Debashis De\n",
"// First Edition, 2010\n",
"// Dorling Kindersley Pvt. Ltd. India\n",
"// Example 3-18 in page 162\n",
"\n",
"clear; clc; close;\n",
"\n",
"// Given data\n",
"Vp=230; // Peak voltage in V\n",
"f=50; // Frequency in Hz\n",
"Rl=200; // Load resistance in ohms\n",
"N=1/4; // Turn ratio\n",
"\n",
"// Calculation\n",
"Vs=Vp*N;\n",
"Vm=Vs*sqrt(2);\n",
"Idc=(2*Vm)/(%pi*Rl);\n",
"Vdc=Idc*Rl;\n",
"fout=2*f;\n",
"printf('(a)DC output voltage = %0.2f V\n',Vdc);\n",
"printf('(b)Pulse frequency of output = %0.0f Hz',fout);\n",
"\n",
"// Result\n",
"// (a) Vdc = 51.77 V\n",
"// (b) F_out = 100 HZ"
   ]
   }
,
{
		   "cell_type": "markdown",
		   "metadata": {},
		   "source": [
			"## Example 3.19: Find_maximum_dc_voltage.sce"
		   ]
		  },
  {
"cell_type": "code",
	   "execution_count": null,
	   "metadata": {
	    "collapsed": true
	   },
	   "outputs": [],
"source": [
"// Find maximum dc voltage\n",
"// Basic Electronics\n",
"// By Debashis De\n",
"// First Edition, 2010\n",
"// Dorling Kindersley Pvt. Ltd. India\n",
"// Example 3-19 in page 162\n",
"\n",
"clear; clc; close;\n",
"\n",
"// Given data\n",
"Vp=220; // Peak voltage in V\n",
"f=50; // Frequency in Hz\n",
"Rl=1.5*10^3; // Load resistance in ohms\n",
"N=0.1; // Turn ratio\n",
"\n",
"// Calculation\n",
"Vs=Vp*N;\n",
"Vrms=Vs*sqrt(2);\n",
"Vm=Vrms/2;\n",
"Idc=(2*Vm)/(%pi*Rl);\n",
"Vdc=Idc*Rl;\n",
"printf('Maximum dc output voltage = %0.2f V',Vdc);\n",
"\n",
"// Result\n",
"// Dc output voltage = 9.9 V"
   ]
   }
,
{
		   "cell_type": "markdown",
		   "metadata": {},
		   "source": [
			"## Example 3.1: Calculate_the_dc_load_current.sce"
		   ]
		  },
  {
"cell_type": "code",
	   "execution_count": null,
	   "metadata": {
	    "collapsed": true
	   },
	   "outputs": [],
"source": [
"// Find current if diode is forwar-biased\n",
"// Basic Electronics\n",
"// By Debashis De\n",
"// First Edition, 2010\n",
"// Dorling Kindersley Pvt. Ltd. India\n",
"// Example 3-1 in page 143\n",
"\n",
"clear; clc; close;\n",
"\n",
"// Given data\n",
"I=29.8*10^-3; // Current in mA\n",
"V=0.208; // Voltage in V\n",
"\n",
"// Calculation\n",
"I=(45-V)/(1.5*10^3);\n",
"printf('I = %0.2e A\n',I);\n",
"printf('For this current,V = 0.2 V\n');\n",
"printf('(a)Therefore I = 29.8 mA\n');\n",
"printf('(b)If battery is inserted with reverse polarity,voltage drop across the 1.5 K resistors is only 15 mV and may be neglected\n');\n",
"printf('(c)In forward direction, I=29.8 mA\n');\n",
"printf('In reverse direction we draw a load line from V=-30 V to I=-30 mA\n');\n",
"y=[-30 -25 -20 -15 -10 -5 0];\n",
"x=[-30 -25 -20 -15 -10 -5 0];\n",
"x=-30-y;\n",
"plot(x,y);\n",
"xlabel('Voltage');\n",
"ylabel('Current');\n",
"title('Current in forward direction');\n",
"I=-30*(20/30);\n",
"printf('Then,I = %0.0f mA\n',I);\n",
"printf('Current=20 mA as there is a 10 V drop');\n",
"\n",
"// Result\n",
"// Graph shows current in reverse direction\n",
"// I' = -20 mA\n",
"// Set axis positions to 'origin' in axis properties to view the graph correctly"
   ]
   }
,
{
		   "cell_type": "markdown",
		   "metadata": {},
		   "source": [
			"## Example 3.20: Calculate_input_voltage_value_of_filter.sce"
		   ]
		  },
  {
"cell_type": "code",
	   "execution_count": null,
	   "metadata": {
	    "collapsed": true
	   },
	   "outputs": [],
"source": [
"// Calculate input voltage,value of filter\n",
"// Basic Electronics\n",
"// By Debashis De\n",
"// First Edition, 2010\n",
"// Dorling Kindersley Pvt. Ltd. India\n",
"// Example 3-20 in page 163\n",
"\n",
"clear; clc; close;\n",
"\n",
"// Given data\n",
"Vdc=30; // DC voltage in volts\n",
"Rl=1000; // Load resistance in ohms\n",
"gamma_fwr=0.015; // Ripple factor\n",
"\n",
"// Calculation\n",
"Idc=Vdc/Rl;\n",
"C=2900/(gamma_fwr*Rl);\n",
"Vm=Vdc+((5000*Idc)/C);\n",
"Vi=(2*Vm)/sqrt(2);\n",
"printf('Value of capacitor filter = %0.0f mu-F',C);\n",
"printf('Input voltage required = %0.2f V\n',Vi);\n",
"\n",
"\n",
"// Result\n",
"// V_in = 43.52 V\n",
"// C = 193 mu-F"
   ]
   }
,
{
		   "cell_type": "markdown",
		   "metadata": {},
		   "source": [
			"## Example 3.21: Calculate_inductance_for_L_section_filter.sce"
		   ]
		  },
  {
"cell_type": "code",
	   "execution_count": null,
	   "metadata": {
	    "collapsed": true
	   },
	   "outputs": [],
"source": [
"// Calculate inductance for L-section filter\n",
"// Basic Electronics\n",
"// By Debashis De\n",
"// First Edition, 2010\n",
"// Dorling Kindersley Pvt. Ltd. India\n",
"// Example 3-21 in page 163\n",
"\n",
"clear; clc; close;\n",
"\n",
"// Given data\n",
"C=40*10^-6; // Capacitance in micro-F\n",
"r=0.0001; // Ripple factor\n",
"Vm=40; // Maximum voltage in V\n",
"Idc=0.1; // DC current in A\n",
"R=40; // Circuit resistance in ohms\n",
"\n",
"// Calculation\n",
"L=(1.76/C)*sqrt(0.472/r);\n",
"Vdc=((2*sqrt(2)*Vm)/%pi)-(Idc*R);\n",
"\n",
"printf('(a)Inductance L = %0.2e H\n',L);\n",
"printf('(b)Output voltage = %0.0f V',Vdc);\n",
"\n",
"// Result\n",
"// (a) L = 3.02*10^6 H\n",
"// (b) V_dc = 32 V"
   ]
   }
,
{
		   "cell_type": "markdown",
		   "metadata": {},
		   "source": [
			"## Example 3.22: DC_output_voltage_and_ripple_voltage.sce"
		   ]
		  },
  {
"cell_type": "code",
	   "execution_count": null,
	   "metadata": {
	    "collapsed": true
	   },
	   "outputs": [],
"source": [
"// DC output voltage and ripple voltage\n",
"// Basic Electronics\n",
"// By Debashis De\n",
"// First Edition, 2010\n",
"// Dorling Kindersley Pvt. Ltd. India\n",
"// Example 3-22 in page 164\n",
"\n",
"clear; clc; close;\n",
"\n",
"// Given data\n",
"C=4; // Capacitances in micro-F\n",
"L=20; // Inductance choke in H\n",
"Il=50*10^-6; // Load current in micro-A\n",
"R=200; // Resistance of choke in ohm\n",
"\n",
"// Calculation\n",
"Vdc=(300*sqrt(2))-((4170/C)*0.05)-(0.05*R);\n",
"r=(3300*0.05)/(4*4*20*353);\n",
"Vrms=r*Vdc;\n",
"\n",
"printf('(a)Output voltage = %0.2f V\n',Vdc);\n",
"printf('(b)Ripple voltage = %0.3f V',Vrms);\n",
"\n",
"// Result\n",
"// (a) Output voltage = 362.13 V\n",
"// (b) Ripple voltage = 0.529 V"
   ]
   }
,
{
		   "cell_type": "markdown",
		   "metadata": {},
		   "source": [
			"## Example 3.23: Sketch_steady_state_output.sce"
		   ]
		  },
  {
"cell_type": "code",
	   "execution_count": null,
	   "metadata": {
	    "collapsed": true
	   },
	   "outputs": [],
"source": [
"// Sketch steady state output\n",
"// Basic Electronics\n",
"// By Debashis De\n",
"// First Edition, 2010\n",
"// Dorling Kindersley Pvt. Ltd. India\n",
"// Example 3-23 in page 168\n",
"\n",
"clear; clc; close;\n",
"\n",
"// Given data\n",
"Rf=0; // Forward resistance of diode\n",
"Rr=2*10^6; // Reverse resistance of diode\n",
"\n",
"// Calculation\n",
"printf('Diode conducts when Vi<2.5 V\n');\n",
"printf('Diode is open when Vi>2.5 V and Vo = 2.5+((Vi-2.5)/3)\n');\n",
"printf('Diode conducts when Vi>2.5 V');\n",
"\n",
"// Result\n",
"// Diagram shows the output of the clipping circuit to a sinusoidal input"
   ]
   }
,
{
		   "cell_type": "markdown",
		   "metadata": {},
		   "source": [
			"## Example 3.24: Sketch_output_voltage_Vo.sce"
		   ]
		  },
  {
"cell_type": "code",
	   "execution_count": null,
	   "metadata": {
	    "collapsed": true
	   },
	   "outputs": [],
"source": [
"// Sketch output voltage Vo\n",
"// Basic Electronics\n",
"// By Debashis De\n",
"// First Edition, 2010\n",
"// Dorling Kindersley Pvt. Ltd. India\n",
"// Example 3-24 in page 169\n",
"\n",
"clear; clc; close;\n",
"\n",
"// Given data\n",
"// Data is provided in the diagrams\n",
"\n",
"// Calculation\n",
"printf('(a)When Vi<50 V, Second diode conducts\n');\n",
"Vo=100-((2/3)*27);\n",
"printf('Vo = %0.0f V\n',Vo);\n",
"printf('When 50<Vi<100 both diodes conduct and Vo=Vi.When Vi>100, only the first diode conducts.Hence Vo = 100 V\n');\n",
"printf('(b)When Vi<25 V,neither diodes conduct and Vo = 25 V.When Vi>25,upper diode conducts\n');\n",
"Vi=((100-25)*(3/2))+25;\n",
"printf('When Vo reaches 100 V, Vi rises to %0.1f V',Vi);\n",
"\n",
"// Result\n",
"// The output voltage is shown in the xcos diagrams"
   ]
   }
,
{
		   "cell_type": "markdown",
		   "metadata": {},
		   "source": [
			"## Example 3.25: Devise_a_circuit.sce"
		   ]
		  },
  {
"cell_type": "code",
	   "execution_count": null,
	   "metadata": {
	    "collapsed": true
	   },
	   "outputs": [],
"source": [
"// Devise a circuit\n",
"// Basic Electronics\n",
"// By Debashis De\n",
"// First Edition, 2010\n",
"// Dorling Kindersley Pvt. Ltd. India\n",
"// Example 3-25 in page 169\n",
"\n",
"clear; clc; close;\n",
"\n",
"// The xcos diagram shows the devised circuit"
   ]
   }
,
{
		   "cell_type": "markdown",
		   "metadata": {},
		   "source": [
			"## Example 3.27: Find_currents_and_voltages.sce"
		   ]
		  },
  {
"cell_type": "code",
	   "execution_count": null,
	   "metadata": {
	    "collapsed": true
	   },
	   "outputs": [],
"source": [
"// Find currents and voltages\n",
"// Basic Electronics\n",
"// By Debashis De\n",
"// First Edition, 2010\n",
"// Dorling Kindersley Pvt. Ltd. India\n",
"// Example 3-27 in page 179\n",
"\n",
"clear; clc; close;\n",
"\n",
"// Given data\n",
"//Diode acts as short circuited.Both diodes are forward biased\n",
"V1=0; // Voltage at junction 1 in V\n",
"V2=0; // Voltage at junction 2 in V\n",
" \n",
"//Calculation\n",
"I1=(20-V1)/(20*10^3);\n",
"I2=(V2-(-10))/(20*10^3);\n",
"\n",
"printf('I1 = %0.0e A\n',I1);\n",
"printf('I2 = %0.1e A',I2);\n",
"\n",
"// Result\n",
"// I1 = 1 mA\n",
"// I2 = 0.5 mA"
   ]
   }
,
{
		   "cell_type": "markdown",
		   "metadata": {},
		   "source": [
			"## Example 3.28: Find_voltage_across_diode.sce"
		   ]
		  },
  {
"cell_type": "code",
	   "execution_count": null,
	   "metadata": {
	    "collapsed": true
	   },
	   "outputs": [],
"source": [
"// Find voltage across diode\n",
"// Basic Electronics\n",
"// By Debashis De\n",
"// First Edition, 2010\n",
"// Dorling Kindersley Pvt. Ltd. India\n",
"// Example 3-28 in page 180\n",
"\n",
"clear; clc; close;\n",
"\n",
"// Given data\n",
"I=0.1075; // Cirremt across diode in A\n",
"Rd=1; // Internal resistance of diode in ohm\n",
"\n",
"// Calculation\n",
"Vd=I*Rd;\n",
"printf('Voltage across diode = %0.4f V',Vd);\n",
"\n",
"// Result\n",
"// Voltage across diode = 0.1075 V"
   ]
   }
,
{
		   "cell_type": "markdown",
		   "metadata": {},
		   "source": [
			"## Example 3.2: Find_the_diode_currents.sce"
		   ]
		  },
  {
"cell_type": "code",
	   "execution_count": null,
	   "metadata": {
	    "collapsed": true
	   },
	   "outputs": [],
"source": [
"// Find the diode currents\n",
"// Basic Electronics\n",
"// By Debashis De\n",
"// First Edition, 2010\n",
"// Dorling Kindersley Pvt. Ltd. India\n",
"// Example 3-2 in page 144\n",
"\n",
"clear; clc; close;\n",
"\n",
"// Given data\n",
"R=10*10^3; // Resistance in K-ohms\n",
"\n",
"// Calculation\n",
"printf('(a) R = 10K.Assume both diodes are conducting.We have:\n');\n",
"printf('100 = 10.02*I1 + 10*I2 + 0.2\n 100 = 10.01*I2 + 10*I1 + 0.6\n');\n",
"function y=f(i);\n",
"    y(1)=10.02*i(1)+10*i(2)+0.2-100\n",
"    y(2)=10.015*i(2)+10*i(1)+0.6-100\n",
"endfunction\n",
"ans=fsolve([0.1;0.1],f);\n",
"I1=ans([1]);\n",
"I2=ans([2]);\n",
"printf('I1 = %0.3f A,I2 = %0.3f A\n',I1,I2);\n",
"printf('Solving,we find I2<0.Thus D is not ON\n');\n",
"I1=(100-0.2)/10.02;\n",
"printf('I1 = %0.2e A and I2 = 0\n\n',I1);\n",
"printf('(b) R=1K.Assume both diodes are ON,we have:\n');\n",
"printf('100 = 1.52*I1 + 1.5*I2 + 0.2\n 100 = 1.515*I2 + 1.5*I1 + 0.6\n');\n",
"function y1=g(j);\n",
"    y1(1)=1.52*j(1)+1.5*j(2)+0.2-100\n",
"    y1(2)=1.515*j(2)+1.5*j(1)+0.6-100\n",
"endfunction\n",
"ans1=fsolve([0.1;0.1],g);\n",
"I1=ans1([1]);\n",
"I2=ans1([2]);\n",
"printf('Solving,we find\nI1 = %0.3f A and I2 = %0.3f A.Hence assumption is valid',I1,I2);\n",
"\n",
"// Result\n",
"// Since both currents are positive,assumption is valid for I1 = 39.717 mA and I2 = 26.287 mA"
   ]
   }
,
{
		   "cell_type": "markdown",
		   "metadata": {},
		   "source": [
			"## Example 3.30: Calculate_R_Il_max.sce"
		   ]
		  },
  {
"cell_type": "code",
	   "execution_count": null,
	   "metadata": {
	    "collapsed": true
	   },
	   "outputs": [],
"source": [
"// Calculate R,I_l(max)\n",
"// Basic Electronics\n",
"// By Debashis De\n",
"// First Edition, 2010\n",
"// Dorling Kindersley Pvt. Ltd. India\n",
"// Example 3-30 in page 181\n",
"\n",
"clear; clc; close;\n",
"\n",
"// Given data\n",
"V_0=50; // Zener diode voltage in V\n",
"I_L=0; // Load current in A\n",
"\n",
"// Calculation\n",
"R=(150)/(40*10^-3);\n",
"printf('(a)R = %0.2e ohm\n',R);\n",
"printf('I_L = I_max when Id = Id_min = 10mA\n');\n",
"I_Lmax=40-10;\n",
"printf('(b)Maximum load current = %0.0f mA',I_Lmax);\n",
"\n",
"// Result\n",
"// (a) R = 3.75 K-ohms\n",
"// (b) I_Lmax = 30 mA"
   ]
   }
,
{
		   "cell_type": "markdown",
		   "metadata": {},
		   "source": [
			"## Example 3.3: Calculate_break_regio.sce"
		   ]
		  },
  {
"cell_type": "code",
	   "execution_count": null,
	   "metadata": {
	    "collapsed": true
	   },
	   "outputs": [],
"source": [
"// Calculate break region\n",
"// Basic Electronics\n",
"// By Debashis De\n",
"// First Edition, 2010\n",
"// Dorling Kindersley Pvt. Ltd. India\n",
"// Example 3-3 in page 145\n",
"\n",
"clear; clc; close;\n",
"\n",
"// Given data\n",
"R=10^4; // Factor multiplied with dynamic resistance of diode\n",
"Vt=26; // Thermal voltage in volts\n",
"eta1=2; // Constant at room temperature for Si\n",
"eta2=1; // Constant at room temperature for Ge\n",
"\n",
"// Calculation\n",
"printf('r1/r2 = 10^4\n');\n",
"V1=eta1*Vt*4*2.3;\n",
"V2=eta2*Vt*4*2.3;\n",
"printf('Break region for silicon = %0.0f mV\n',V1);\n",
"printf('Break region for Germanium = %0.0f mV',V2);\n",
"\n",
"// Result\n",
"// Break region for silicon = 478 mV\n",
"// Break region for Germanium = 239 mV "
   ]
   }
,
{
		   "cell_type": "markdown",
		   "metadata": {},
		   "source": [
			"## Example 3.4: Calculate_the_peak_load_current.sce"
		   ]
		  },
  {
"cell_type": "code",
	   "execution_count": null,
	   "metadata": {
	    "collapsed": true
	   },
	   "outputs": [],
"source": [
"// Calculate the peak load current\n",
"// Basic Electronics\n",
"// By Debashis De\n",
"// First Edition, 2010\n",
"// Dorling Kindersley Pvt. Ltd. India\n",
"// Example 3-4 in page 153\n",
"\n",
"clear; clc; close;\n",
"\n",
"// Given data\n",
"Rf=30; // Internal resistance in ohms\n",
"Rl=990; // Load resistance in ohms\n",
"Vm=110; // Rms supply voltage in in V\n",
"\n",
"// Calculation\n",
"Im=(Vm/2)/(Rf+Rl);\n",
"I_dc=Im/%pi;\n",
"I_rms=Im/2;\n",
"V_dc=(Im*Rl)/%pi;\n",
"Pi=I_rms^2*(Rf+Rl);\n",
"R=(((Vm/%pi)-(I_dc*Rl))/(I_dc*Rl))*100;\n",
"\n",
"printf('(a)Im = %0.2e A\n',Im);\n",
"printf('(b)I_dc = %0.2e A\n',I_dc);\n",
"printf('(c)I_rms = %0.2e A\n',I_rms);\n",
"printf('(d)V_dc = %0.3e V\n',V_dc);\n",
"printf('(e)Input power = %0.2f W\n',Pi);\n",
"printf('(f)Percentage regulation = %0.3f percent',R);\n",
"\n",
"// Result\n",
"// (a) Im=53.9mA\n",
"// (b) Idc=17.2mA\n",
"// (c) Irms=27mA\n",
"// (d) Vdc=16.99V \n",
"// (e) Pi=0.74W \n",
"// (f) Percentage regulation=106%"
   ]
   }
,
{
		   "cell_type": "markdown",
		   "metadata": {},
		   "source": [
			"## Example 3.8: Calculate_the_dc_load_current.sce"
		   ]
		  },
  {
"cell_type": "code",
	   "execution_count": null,
	   "metadata": {
	    "collapsed": true
	   },
	   "outputs": [],
"source": [
"// Calculate the dc load current\n",
"// Basic Electronics\n",
"// By Debashis De\n",
"// First Edition, 2010\n",
"// Dorling Kindersley Pvt. Ltd. India\n",
"// Example 3-8 in page 157\n",
"\n",
"clear; clc; close;\n",
"\n",
"// Given data\n",
"Vm=280; // Supply voltage in V\n",
"Rl=2000; // Load resistance in ohms\n",
"Rf=500; // Internal resistance of the diodes in ohms\n",
"\n",
"// Calculation\n",
"Idc=(2*Vm)/(%pi*2500);\n",
"Idc_t=Idc/2;\n",
"printf('(a)I_dc = %0.2e A\n(b)I_dc(tube) = %0.2e A\n',Idc,Idc_t);\n",
"printf('(c)Voltage across conducting diode is sinusoidal with a peak value 0.2 Vm\n');\n",
"V_rms=0.905*(280*sqrt(2));\n",
"Pdc=Idc^2*Rl;\n",
"R=(Rf/Rl)*100;\n",
"printf('Rms voltage V_rms = %0.0f V\n',V_rms);\n",
"printf('(d)DC output power = %0.1f W\n',Pdc);\n",
"printf('(e)Percentage regulation = %0.0f percent',R);\n",
"\n",
"// Result\n",
"// (a) Idc = 71 mA,\n",
"// (b) Idc_tube = 35.7 mA, \n",
"// (c) V_rms = 358 V,\n",
"// (d) P_dc = 10.167W, \n",
"// (e) Percentage regulation = 25%"
   ]
   }
],
"metadata": {
		  "kernelspec": {
		   "display_name": "Scilab",
		   "language": "scilab",
		   "name": "scilab"
		  },
		  "language_info": {
		   "file_extension": ".sce",
		   "help_links": [
			{
			 "text": "MetaKernel Magics",
			 "url": "https://github.com/calysto/metakernel/blob/master/metakernel/magics/README.md"
			}
		   ],
		   "mimetype": "text/x-octave",
		   "name": "scilab",
		   "version": "0.7.1"
		  }
		 },
		 "nbformat": 4,
		 "nbformat_minor": 0
}
