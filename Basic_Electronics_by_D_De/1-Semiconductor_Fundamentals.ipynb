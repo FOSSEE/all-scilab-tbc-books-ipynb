{
"cells": [
 {
		   "cell_type": "markdown",
	   "metadata": {},
	   "source": [
       "# Chapter 1: Semiconductor Fundamentals"
	   ]
	},
{
		   "cell_type": "markdown",
		   "metadata": {},
		   "source": [
			"## Example 1.10: Position_of_Fermi_energy_at_0K.sce"
		   ]
		  },
  {
"cell_type": "code",
	   "execution_count": null,
	   "metadata": {
	    "collapsed": true
	   },
	   "outputs": [],
"source": [
"//Position of Fermi energy at 0K\n",
"// Basic Electronics\n",
"// By Debashis De\n",
"// First Edition, 2010\n",
"// Dorling Kindersley Pvt. Ltd. India\n",
"// Example 1-10 in page 34\n",
"\n",
"clear; clc; close;\n",
"\n",
"// Data given\n",
"h=1.5*10^-34; // Constant of calculation in Js\n",
"m_c=0.067*0.91*10^-30; // Effective mass of conduction electron in Kg\n",
"n_0=10^24; // Electron concentration at 0K /m^3\n",
"\n",
"// Calculation\n",
"E_f= ((h^2*(3*%pi^2*n_0)^(2/3))/(2*m_c));\n",
"A=E_f/(1.6*10^-19);\n",
"\n",
"printf('Position of Fermi level at 0K is %0.4f eV',A);\n",
"\n",
"// Result\n",
"// Fermi energy at 0K as measured from edge of conduction band is 0.11 eV\n",
"// Fermi energy is placed 0.11 eV above the edge of conduction band\n",
"// Fermi energy is within the conduction band"
   ]
   }
,
{
		   "cell_type": "markdown",
		   "metadata": {},
		   "source": [
			"## Example 1.11: Time_taken_to_reach_Brillouin_zone.sce"
		   ]
		  },
  {
"cell_type": "code",
	   "execution_count": null,
	   "metadata": {
	    "collapsed": true
	   },
	   "outputs": [],
"source": [
"// Time taken to reach Brillouin zone\n",
"// Basic Electronics\n",
"// By Debashis De\n",
"// First Edition, 2010\n",
"// Dorling Kindersley Pvt. Ltd. India\n",
"// Example 1-11 in page 46\n",
"\n",
"clear; clc; close;\n",
"\n",
"// Data given\n",
"h=1.05*10^-34; // Constant of calculation in Js\n",
"Kb=1.112*10^8; // Wave vector at Brillouin xone along x-axis /cm\n",
"E_0=10^4; // External electric field applied in V/cm\n",
"e=1.6*10^-19; // Charge on an electron in C\n",
"\n",
"// Calculation\n",
"tou=(h*Kb)/(e*E_0);\n",
"\n",
"printf('Time taken by electron is %0.3e s',tou);\n",
"\n",
"// Result\n",
"// Time taken by electron to reach Brillouin zone is 7.297 ps"
   ]
   }
,
{
		   "cell_type": "markdown",
		   "metadata": {},
		   "source": [
			"## Example 1.12: Calculate_drift_velocity.sce"
		   ]
		  },
  {
"cell_type": "code",
	   "execution_count": null,
	   "metadata": {
	    "collapsed": true
	   },
	   "outputs": [],
"source": [
"// Calculate drift velocity\n",
"// Basic Electronics\n",
"// By Debashis De\n",
"// First Edition, 2010\n",
"// Dorling Kindersley Pvt. Ltd. India\n",
"// Example 1-12 in page 46\n",
"\n",
"clear; clc; close;\n",
"\n",
"// Data given\n",
"m_c=0.067*0.91*10^-30; // Effective electron mass in Kg\n",
"e=1.6*10^-19; // Charge on an electron in C\n",
"E_0=10^5; // External electric field in KV/m\n",
"tou1=10^-13; // First Brillouin zone time in s\n",
"tou2=10^-12; // Second Brillouin zone time in s\n",
"tou3=10^-11; // Third Brillouin zone time in s\n",
"\n",
"// Calculation\n",
"v_01=(e*tou1*E_0)/m_c;\n",
"v_02=(e*tou2*E_0)/m_c;\n",
"v_03=(e*tou3*E_0)/m_c;\n",
"\n",
"printf('(a)Drift velocity in first case is %0.2e m/s\n',v_01);\n",
"printf('(b)Drift velocity in second case is %0.2e m/s\n',v_02);\n",
"printf('(c)Drift velocity in third case is %0.2e m/s',v_03);\n",
"\n",
"// Result\n",
"// (a) Drift velocity in first case is 2.62*10^4 cm/s\n",
"// (b) Drift velocity in second case is 2.62*10^5 cm/s\n",
"// (c) Drift velocity in third case is 2.62*10^6 cm/s"
   ]
   }
,
{
		   "cell_type": "markdown",
		   "metadata": {},
		   "source": [
			"## Example 1.13: Compute_conductivity_drift_velocity_current_density.sce"
		   ]
		  },
  {
"cell_type": "code",
	   "execution_count": null,
	   "metadata": {
	    "collapsed": true
	   },
	   "outputs": [],
"source": [
"// Compute conductivity,drift velocity,current density\n",
"// Basic Electronics\n",
"// By Debashis De\n",
"// First Edition, 2010\n",
"// Dorling Kindersley Pvt. Ltd. India\n",
"// Example 1-13 in page 47\n",
"\n",
"clear; clc; close;\n",
"\n",
"// Data given\n",
"mu=35.2*10^-4; // Mobility of electrons in m^2/Vs\n",
"n_0=7.87*10^28; // Number of free electrons per cubic meter\n",
"e=1.6*10^-19; // Charge on an electron in C\n",
"E_0=30*10^2; // External electric field applied in V/m\n",
"\n",
"// Calculation\n",
"sigma=n_0*e*mu;\n",
"printf('(a)Mobility = %0.1e m^2/Vs\n',mu);\n",
"printf('Conductivity of the specimen is %0.2e s/m\n\n',sigma);\n",
"V_0=mu*E_0;\n",
"J=sigma*E_0;\n",
"printf('(b)Electric field Eo = %0.0e V/m\n',E_0);\n",
"printf('Drift velocity of free electrons is %0.2f m/s\n',V_0);\n",
"printf('Current density is %0.2e A/meter^3',J);\n",
"\n",
"// Result\n",
"// (a) Conductivity of specimen is 4.43*10^7 s/m\n",
"// (b) Drift velocity of free electrons is 10.56 m/s\n",
"// (c) Current density is 13.3*10^10 A/meter cube"
   ]
   }
,
{
		   "cell_type": "markdown",
		   "metadata": {},
		   "source": [
			"## Example 1.14: Calculate_drift_velocity_in_copper_conductor.sce"
		   ]
		  },
  {
"cell_type": "code",
	   "execution_count": null,
	   "metadata": {
	    "collapsed": true
	   },
	   "outputs": [],
"source": [
"// Calculate drift velocity in copper conductor\n",
"// Basic Electronics\n",
"// By Debashis De\n",
"// First Edition, 2010\n",
"// Dorling Kindersley Pvt. Ltd. India\n",
"// Example 1-14 in page 47\n",
"\n",
"clear; clc; close;\n",
"\n",
"// Data given\n",
"A=10^-5; // Cross sectional area in m^2\n",
"I=100; // Current flowing in  A\n",
"n_0=8.5*10^28; // Free electron concentration of copper per cubic meter\n",
"e=1.6*10^-19; // Charge on an electron in C\n",
"\n",
"// Calculation\n",
"V_d=I/(n_0*A*e);\n",
"\n",
"printf('The drift velocity in copper is %0.3e m/s',V_d);\n",
"\n",
"// Result\n",
"// Drift velocity in copper is 7.353*10^-4 m/s"
   ]
   }
,
{
		   "cell_type": "markdown",
		   "metadata": {},
		   "source": [
			"## Example 1.16: Calculate_drift_velocity_in_copper.sce"
		   ]
		  },
  {
"cell_type": "code",
	   "execution_count": null,
	   "metadata": {
	    "collapsed": true
	   },
	   "outputs": [],
"source": [
"// Calculate drift velocity in copper\n",
"// Basic Electronics\n",
"// By Debashis De\n",
"// First Edition, 2010\n",
"// Dorling Kindersley Pvt. Ltd. India\n",
"// Example 1-16 in page 47\n",
"\n",
"clear; clc; close;\n",
"\n",
"// Data given\n",
"tou=10^-14; // Relaxation time in s\n",
"m_c=0.02*9.1*10^-31; // Effective mass of electron in Kg\n",
"E_0=0.1; // Electric field across conductor in V/m\n",
"e=1.6*10^-19; // Charge on an electron in C\n",
"\n",
"// Calculation\n",
"V_0=(e*E_0*tou)/m_c;\n",
"\n",
"printf('The drift velocity of electrons in copper is %0.3f m/s',V_0);\n",
"\n",
"// Result\n",
"// Drift velocity of electrons in copper is 0.009 m/s"
   ]
   }
,
{
		   "cell_type": "markdown",
		   "metadata": {},
		   "source": [
			"## Example 1.17: Equilibrium_hole_concentration_in_Si.sce"
		   ]
		  },
  {
"cell_type": "code",
	   "execution_count": null,
	   "metadata": {
	    "collapsed": true
	   },
	   "outputs": [],
"source": [
"// Equilibrium hole concentration in Si\n",
"// Basic Electronics\n",
"// By Debashis De\n",
"// First Edition, 2010\n",
"// Dorling Kindersley Pvt. Ltd. India\n",
"// Example 1-17 in page 48\n",
"\n",
"clear; clc; close;\n",
"\n",
"// Data given\n",
"n_0=10^17; // Free electron concentration /cm^3\n",
"n_i=1.5*10^10; // Constant of calculation\n",
"// Calculation\n",
"p_0= n_i^2/n_0;\n",
"\n",
"printf('Equilibrium hole concentration is %0.2e cm^-3',p_0);\n",
"\n",
"// Result\n",
"// Equilibrium hole concentration in Si sample is 2.25*10^3 cm^-3"
   ]
   }
,
{
		   "cell_type": "markdown",
		   "metadata": {},
		   "source": [
			"## Example 1.18: Time_taken_to_reach_Brillouin_zone.sce"
		   ]
		  },
  {
"cell_type": "code",
	   "execution_count": null,
	   "metadata": {
	    "collapsed": true
	   },
	   "outputs": [],
"source": [
"// Time taken to reach Brillouin zone\n",
"// Basic Electronics\n",
"// By Debashis De\n",
"// First Edition, 2010\n",
"// Dorling Kindersley Pvt. Ltd. India\n",
"// Example 1-18 in page 48\n",
"\n",
"clear; clc; close;\n",
"\n",
"// Data given\n",
"h=1.05*10^-34; // Constant of calculation in Js\n",
"kB=1.112*10^8; // Brillouin zone edge along x-axis\n",
"e=1.6*10^-19; // Charge on an electron in C\n",
"E_0=10^4; // External electric field in V/m\n",
"\n",
"// Calculation\n",
"tou=(h*kB)/(e*E_0);\n",
"printf('Time taken to reach Brillouin zone is %0.3e s',tou);\n",
"\n",
"// Result\n",
"// Time taken by GaAs electron to reach Brillouin zone is 7.298 ps"
   ]
   }
,
{
		   "cell_type": "markdown",
		   "metadata": {},
		   "source": [
			"## Example 1.1: Calculate_wave_vector_carried_by_photo.sce"
		   ]
		  },
  {
"cell_type": "code",
	   "execution_count": null,
	   "metadata": {
	    "collapsed": true
	   },
	   "outputs": [],
"source": [
"// Calculate wave vector carried by photon\n",
"// Basic Electronics\n",
"// By Debashis De\n",
"// First Edition, 2010\n",
"// Dorling Kindersley Pvt. Ltd. India\n",
"// Example 1-1 in page 7\n",
"\n",
"clear; clc; close;\n",
"\n",
"// Given data\n",
"c=3*10^8; // Speed of light in m/s\n",
"h=6.64*10^-34;// Planks constant in Js\n",
"E_photon=2*1.6*10^-19; // Energy of photon in J\n",
"\n",
"//Calculations\n",
"lambda=(c*h)/E_photon; \n",
"k=(2*%pi/lambda);\n",
"\n",
"printf('The wavelenght of a 2.0eV photon = %0.3e m\n',lambda);\n",
"printf('The magnitude of k vector = %0.2e m^-1',k);\n",
"\n",
"// Results\n",
"// The wavelength of a 2.0 eV photon is 6225 Angstrom\n",
"// The magnitude of k-vector is 1.01 * 10^7 m^-1"
   ]
   }
,
{
		   "cell_type": "markdown",
		   "metadata": {},
		   "source": [
			"## Example 1.20: Electron_hole_concentration_at_minimum_conductivity.sce"
		   ]
		  },
  {
"cell_type": "code",
	   "execution_count": null,
	   "metadata": {
	    "collapsed": true
	   },
	   "outputs": [],
"source": [
"// Electron,hole concentration at minimum conductivity\n",
"// Basic Electronics\n",
"// By Debashis De\n",
"// First Edition, 2010\n",
"// Dorling Kindersley Pvt. Ltd. India\n",
"// Example 1-20 in page 49\n",
"\n",
"clear; clc; close;\n",
"\n",
"// Data given\n",
"mu_n=1350; // Mobility of electrons in cm^2/Vs\n",
"mu_p=450; // Movility of holes in cm^2/Vs\n",
"n_i=1.5*10^10; // Intrinsic carrier concentration /cm^3\n",
"\n",
"// Calculation\\n",
"//Minimum conductivity of Si when slightly p-type has been proved in text\n",
"//Thus the electron and hole concentrations are derived as below\n",
"n_0=n_i*sqrt(mu_p/mu_n); \n",
"p_0=n_i*sqrt(mu_n/mu_p); \n",
"\n",
"printf('(a)Electron concentration is %0.2e cm^-3\n',n_0);\n",
"printf('(b)Hole concentration is %0.2e cm^-3',p_0);\n",
"\n",
"// Result \n",
"// (a) Electron concentration is 8.66*10^9 cm^-3\n",
"// (b) Hole concentration is 2.6*10^10 cm^-3"
   ]
   }
,
{
		   "cell_type": "markdown",
		   "metadata": {},
		   "source": [
			"## Example 1.21: Position_of_Fermi_level_at_room_temperature.sce"
		   ]
		  },
  {
"cell_type": "code",
	   "execution_count": null,
	   "metadata": {
	    "collapsed": true
	   },
	   "outputs": [],
"source": [
"// Position of Fermi level at room temperature\n",
"// Basic Electronics\n",
"// By Debashis De\n",
"// First Edition, 2010\n",
"// Dorling Kindersley Pvt. Ltd. India\n",
"// Example 1-22 in page 50\n",
"\n",
"clear; clc; close;\n",
"\n",
"// Data given\n",
"C_Ge=4.41*10^22; // Concentration of Ge atom /cm^3\n",
"N_D=4.41*10^15; // Number of free donor atoms \n",
"N_C=8.87*10^18; // Number of conduction electrons assuming full ionization\n",
"K_BT=0.026; // Measured in eV at room temperature\n",
"\n",
"// Calculation\n",
"E_F=K_BT*log(N_D/N_C);\n",
"\n",
"printf('Position of fermi level is %0.4f',E_F);\n",
"\n",
"// Result\n",
"// Position of Fermi level from edge of conduction band is -0.1977\n",
"// Thus E_F is below E_C"
   ]
   }
,
{
		   "cell_type": "markdown",
		   "metadata": {},
		   "source": [
			"## Example 1.22: Mobility_of_free_electrons_in_Alluminium.sce"
		   ]
		  },
  {
"cell_type": "code",
	   "execution_count": null,
	   "metadata": {
	    "collapsed": true
	   },
	   "outputs": [],
"source": [
"// Mobility of free electrons in Alluminium\n",
"// Basic Electronics\n",
"// By Debashis De\n",
"// First Edition, 2010\n",
"// Dorling Kindersley Pvt. Ltd. India\n",
"// Example 1-22 in page 50\n",
"\n",
"clear; clc; close;\n",
"\n",
"// Data given\n",
"n_0=18*10^28; // Derived from the given formula in textbook\n",
"rho=3.44*10^-6; // Resistivity in ohm-cm\n",
"e=1.6*10^-19; // Charge on an electron in C\n",
"\n",
"// Calculation\n",
"mu=10^2/(n_0*e*rho);\n",
"\n",
"printf('Mobility of free electrons is %0.0e m^2/V-s',mu);\n",
"\n",
"// Result\n",
"// Mobility of free electrons in Alluminium is 10^-3 m^2/V-s"
   ]
   }
,
{
		   "cell_type": "markdown",
		   "metadata": {},
		   "source": [
			"## Example 1.23: Percentage_of_increse_in_carrier_concentration.sce"
		   ]
		  },
  {
"cell_type": "code",
	   "execution_count": null,
	   "metadata": {
	    "collapsed": true
	   },
	   "outputs": [],
"source": [
"// Percentage of increse in carrier concentration\n",
"// Basic Electronics\n",
"// By Debashis De\n",
"// First Edition, 2010\n",
"// Dorling Kindersley Pvt. Ltd. India\n",
"// Example 1-23 in page 51\n",
"\n",
"clear; clc; close;\n",
"\n",
"// Data given\n",
"kT=0.026; // Value at T=300K\n",
"T=300; // Room temperature in K\n",
"dT=1/300; // Rate of change of temperature\n",
"E_g=0.785; // Band gap energy in germanium in eV\n",
"\n",
"// Calculation\n",
"dni=((1.5+(E_g/(2*kT)))*dT)*100; \n",
"\n",
"printf('Rise in intrinsic carrier concentration is %0.1f percent/degree',dni);\n",
"\n",
"// Result\n",
"// Percentage rise in intrinsic carrier concentration is 5.5 %/degree"
   ]
   }
,
{
		   "cell_type": "markdown",
		   "metadata": {},
		   "source": [
			"## Example 1.24: Previous_problem_calculated_for_intrinsic_silicon.sce"
		   ]
		  },
  {
"cell_type": "code",
	   "execution_count": null,
	   "metadata": {
	    "collapsed": true
	   },
	   "outputs": [],
"source": [
"// Previous problem calculated for intrinsic silicon\n",
"// Basic Electronics\n",
"// By Debashis De\n",
"// First Edition, 2010\n",
"// Dorling Kindersley Pvt. Ltd. India\n",
"// Example 1-24 in page 51\n",
"\n",
"clear; clc; close;\n",
"\n",
"// Data given\n",
"kT=0.026; // Value at T=300K\n",
"T=300; // Room temperature in K\n",
"dT=1/300; // Rate of change of temperature\n",
"E_g=1.21; // Band gap energy in silicon in eV\n",
"\n",
"// Calculation\n",
"dni=((1.5+(E_g/(2*kT)))*dT)*100; \n",
"\n",
"printf('Rise in intrinsic carrier concentration is %0.1f percent/degree',dni);\n",
"\n",
"// Result\n",
"// Percentage rise in intrinsic carrier concentration is 8.3 %/degree"
   ]
   }
,
{
		   "cell_type": "markdown",
		   "metadata": {},
		   "source": [
			"## Example 1.25: Find_drift_velocity_mobility_conductivity.sce"
		   ]
		  },
  {
"cell_type": "code",
	   "execution_count": null,
	   "metadata": {
	    "collapsed": true
	   },
	   "outputs": [],
"source": [
"// Find drift velocity,mobility,conductivity\n",
"// Basic Electronics\n",
"// By Debashis De\n",
"// First Edition, 2010\n",
"// Dorling Kindersley Pvt. Ltd. India\n",
"// Example 1-25 in page 51\n",
"\n",
"clear; clc; close;\n",
"\n",
"// Data given\n",
"A=0.835*10^-6; // Cross section of wire in m^2\n",
"J=2.4*10^6; // Current density in A/m^2\n",
"n_0=8.4*10^27; // Concentration of electrons in copper in electrons/m^3\n",
"e=1.6*10^-19; // Charge on an electron in C\n",
"ohm=0.0214; // Resistance per meter\n",
"E_0=2*ohm; // Electric field in V/m\n",
"\n",
"// Calculations\n",
"v_0=(J)/(n_0*e);\n",
"printf('(a)The drift velocity is %0.2e m/s\n',v_0);\n",
"mu=v_0/E_0;\n",
"printf('(b)The mobility of electrons is %0.2e m^2/V-s\n',mu);\n",
"sigma=(n_0*10*e*mu);\n",
"printf('(c)Therefore the conductivity is %0.2e /ohm-m',sigma);\n",
"\n",
"// Result\n",
"// (a) The drift velocity is 1.78*10^-3 m/s\n",
"// (b) Mobility in this case is 4.16*10^-2 m^2/V-s\n",
"// (c) Conductivity is 5.61*10^8 1/ohm-m"
   ]
   }
,
{
		   "cell_type": "markdown",
		   "metadata": {},
		   "source": [
			"## Example 1.26: Determine_concentration_of_electrons_and_holes.sce"
		   ]
		  },
  {
"cell_type": "code",
	   "execution_count": null,
	   "metadata": {
	    "collapsed": true
	   },
	   "outputs": [],
"source": [
"// Determine concentration of electrons and holes\n",
"// Basic Electronics\n",
"// By Debashis De\n",
"// First Edition, 2010\n",
"// Dorling Kindersley Pvt. Ltd. India\n",
"// Example 1-26 in page 52\n",
"\n",
"clear; clc; close;\n",
"\n",
"// Data given\n",
"N_D=2*10^14; // Number of donor atoms in atoms/cm^2\n",
"N_A=3*10^14; // Number of acceptor atoms in atoms/cm^2\n",
"ni=2.5*10^19; // number of intrinsic atoms in atoms/cm^2\n",
"\n",
"// Calculation\n",
"p_0=(0.5*10^14)+sqrt(0.25*10^28 + 6.25*10^26);\n",
"n_0=-(0.5*10^14)+sqrt(0.25*10^28 + 6.25*10^26);\n",
"printf('(a)Concentration of free electrons is %0.3e cm^-3\n',n_0);\n",
"printf('(b)Concentration of holes is %0.3e cm^-3\n',p_0);\n",
"printf('since p_0>n_0 the sample is p-type\n');\n",
"printf('When N_A=N_D=10^15,\n n_0=p_0 from the neutrality equation\n');\n",
"printf('Thus the germanium sample in this question is intrinsic by compensation');\n",
"printf('When N_D=10^16,\n');\n",
"p_0=(6.25*10^26)/10^16;\n",
"printf('(c)p_0=%0.2e cm^-3\n',p_0);\n",
"printf('Since n_0>p_0,germanium sample in this case is n-type');\n",
"\n",
"// Result\n",
"// (a) Number of free electrons are 0.058*10^14 cm^-3 \n",
"// (b) Number of holes are 1.058*10^14 cm^-3\n",
"// Semiconductor can be made intrinsic without doping or by equal doping"
   ]
   }
,
{
		   "cell_type": "markdown",
		   "metadata": {},
		   "source": [
			"## Example 1.27: Concentration_of_holes_and_electrons.sce"
		   ]
		  },
  {
"cell_type": "code",
	   "execution_count": null,
	   "metadata": {
	    "collapsed": true
	   },
	   "outputs": [],
"source": [
"// Concentration of holes and electrons\n",
"// Basic Electronics\n",
"// By Debashis De\n",
"// First Edition, 2010\n",
"// Dorling Kindersley Pvt. Ltd. India\n",
"// Example 1-27 in page 52\n",
"\n",
"clear; clc; close;\n",
"\n",
"// Data given\n",
"sigma=100; // Conductivity of p-type germanium\n",
"e=1.6*10^-19; // Charge on an electron in eV\n",
"mu_p=1800; // Mobility of holes in cm^2/Vs\n",
"ni=2.5*10^13; // Number of intrinsic atoms in germanium\n",
"mu_n=1300; // Mobility of electrons in cm^2/Vs\n",
"sigma1=0.1; // Conductivity in n-type silicon in /ohm-cm\n",
"ni1=1.5*10^10; // Number of intrinsic atoms in silicon\n",
"P_p=3.47*10^17; // Constant of calculation\n",
"\n",
"// Calculation\n",
"printf('For Germanium:\n');\n",
"p_0=sigma/(e*mu_p);\n",
"n_0=(ni^2)/P_p;\n",
"printf('(a)Concentration of holes is %0.2e cm^-3\n',p_0);\n",
"printf('(b)Concentration of electrons is %0.2e m^-3\n',n_0);\n",
"printf('For Silicon:\n');\n",
"n_0=sigma1/(e*mu_n);\n",
"p_0=(ni1^2)/(4.81*10^14);\n",
"printf('(c)Concentration of electrons is %0.2e cm^-3\n',n_0);\n",
"printf('(d)Concentration of holes is %0.2e m^-3',p_0);\n",
"\n",
"// Result\n",
"// (a) For Ge,Hole conc. = 3.47*10^17 cm^-3, Electron conc. = 1.8*10^15 m^-3\n",
"// (b) For Si,Hole conc. = 4.68*10^5 cm^-3, Electron conc. = 4.81*10^14 cm^-3"
   ]
   }
,
{
		   "cell_type": "markdown",
		   "metadata": {},
		   "source": [
			"## Example 1.28: To_prove_resistivity_is_45_ohm_cm.sce"
		   ]
		  },
  {
"cell_type": "code",
	   "execution_count": null,
	   "metadata": {
	    "collapsed": true
	   },
	   "outputs": [],
"source": [
"// To prove,resistivity is 45 ohm-cm\n",
"// Basic Electronics\n",
"// By Debashis De\n",
"// First Edition, 2010\n",
"// Dorling Kindersley Pvt. Ltd. India\n",
"// Example 1-28 in page 53\n",
"\n",
"clear; clc; close;\n",
"\n",
"// Data given\n",
"ni=2.5*10^13; // Intrinsic concentration /cm^3\n",
"mu=5600; // Sum of mobilities of holes and electrons\n",
"e=1.6*10^-19; // Charge on an electron in C \n",
"\n",
"// Calculation\n",
"sigma=e*ni*mu;\n",
"printf('Conductivity of germanium is %0.3f (s/cm)^-1\n',sigma);\n",
"rho=1/sigma;\n",
"printf('Therefore resistivity is %0.1f ohm-cm',rho);\n",
"\n",
"// Result\n",
"// Conductivity of germanium = 0.0232 (s/cm)^-1\n",
"// Resistivity = 44.6 ohm-cm"
   ]
   }
,
{
		   "cell_type": "markdown",
		   "metadata": {},
		   "source": [
			"## Example 1.29: Find_conductivity_of_intrinsic_germanium.sce"
		   ]
		  },
  {
"cell_type": "code",
	   "execution_count": null,
	   "metadata": {
	    "collapsed": true
	   },
	   "outputs": [],
"source": [
"// Find conductivity of intrinsic germanium\n",
"// Basic Electronics\n",
"// By Debashis De\n",
"// First Edition, 2010\n",
"// Dorling Kindersley Pvt. Ltd. India\n",
"// Example 1-29 in page 53\n",
"\n",
"clear; clc; close;\n",
"\n",
"// Data given\n",
"ni=2.5*10^13; // Intrinsic concentration /cm^3\n",
"e=1.6*10^-19; // Charge on an electron in C\n",
"mu_n=3800; // Mobility of electrons in cm^2/Vs\n",
"mu_p=1800; // Mobility of holes in cm^2/Vs\n",
"N_D=4.41*10^15; // Concentration of donor atoms in Ge /cm^3\n",
"\n",
"// Calculation\n",
"sigma=(ni*e)*(mu_n+mu_p);\n",
"printf('(a)Intrinsic conductivity=%0.4f s/cm\n',sigma);\n",
"p_0=(ni^2)/N_D;\n",
"printf('p_0=%0.2e /cm^3\n',p_0);\n",
"sigma1=N_D*e*mu_n;\n",
"printf('(b)Since n_0>p_0, Conductivity=%0.2f s/cm\n',sigma1);\n",
"n_0=(ni^2)/N_D;\n",
"printf('With given acceptor impurity,\nn_0=%0.2e /cm^3\n',n_0);\n",
"sigma2=N_D*e*mu_p;\n",
"printf('(c)Since p_0>n_0, Conductivity=%0.2f s/cm',sigma2);\n",
"\n",
"// Result\n",
"// (a) Conductivity in first case is 0.0224 s/cm\n",
"// (b) Conductivity in second case is 2.68 s/cm\n",
"// (c) Conductivity in third case is 1.27 s/cm"
   ]
   }
,
{
		   "cell_type": "markdown",
		   "metadata": {},
		   "source": [
			"## Example 1.2: Calculate_semiconductor_band_gap.sce"
		   ]
		  },
  {
"cell_type": "code",
	   "execution_count": null,
	   "metadata": {
	    "collapsed": true
	   },
	   "outputs": [],
"source": [
"// Calculate semiconductor band gap\n",
"// Basic Electronics\n",
"// By Debashis De\n",
"// First Edition, 2010\n",
"// Dorling Kindersley Pvt. Ltd. India\n",
"// Example 1-2 in page 7\n",
"\n",
"clear; clc; close;\n",
"\n",
"// Data given\n",
"lambda=0.5*10^-6; // Wavelength of emitted light in m\n",
"c=3*10^8; // Speed of light in vacuum in m/s\n",
"h=1.05*10^-34;// Constant of calculation\n",
"\n",
"// Calculation\n",
"E_g= (2*%pi*h*c)/lambda;\n",
"A= E_g*10^19/1.6;\n",
"\n",
"printf('The material band gap has to be %0.3f eV',A);\n",
"\n",
"// Result\n",
"//The material band gap is 2.474 eV\n",
"// Semiconductors like C,BN,GaN,SiC meet this criterion"
   ]
   }
,
{
		   "cell_type": "markdown",
		   "metadata": {},
		   "source": [
			"## Example 1.3: Calculate_E_k_relation_of_conduction_electrons.sce"
		   ]
		  },
  {
"cell_type": "code",
	   "execution_count": null,
	   "metadata": {
	    "collapsed": true
	   },
	   "outputs": [],
"source": [
"// Calculate E-k relation of conduction electrons\n",
"// Basic Electronics\n",
"// By Debashis De\n",
"// First Edition, 2010\n",
"// Dorling Kindersley Pvt. Ltd. India\n",
"// Example 1-3 in page 20\n",
"\n",
"clear; clc; close;\n",
"\n",
"// Data given\n",
"m_c=0.1*0.91*10^-30; // Effective mass of conduction electron in kg\n",
"k=0.3*10^10; // Wave vector in /m\n",
"h=1.05*10^-34; // Constant of calculation in Js\n",
"\n",
"// Calculation\n",
"E= (h^2*k^2)/(2*m_c);\n",
"A= E/(1.6*10^-19);\n",
"\n",
"printf('Energy of conduction electrons = %0.1f eV',A);\n",
"\n",
"// Result\n",
"//Energy of the conduction electrons in vertically upward direction is 3.4 eV"
   ]
   }
,
{
		   "cell_type": "markdown",
		   "metadata": {},
		   "source": [
			"## Example 1.4: Energies_of_electrons_in_conduction_band.sce"
		   ]
		  },
  {
"cell_type": "code",
	   "execution_count": null,
	   "metadata": {
	    "collapsed": true
	   },
	   "outputs": [],
"source": [
"// Energies of electrons in conduction band\n",
"// Basic Electronics\n",
"// By Debashis De\n",
"// First Edition, 2010\n",
"// Dorling Kindersley Pvt. Ltd. India\n",
"// Example 1-4 in page 21\n",
"\n",
"clear; clc; close;\n",
"\n",
"// Data given\n",
"k=0.01*10^10; // k-vector value /m\n",
"h=1.05*10^-34; // Constant of calculation Js\n",
"m_0=0.91*10^-30; // Mass of conduction electron Kg\n",
"m_c1=0.067*m_0; // Effective mass of GaAs conduction electron Kg\n",
"m_c2=0.01*m_0; // Effective mass if InAs conduction electron Kg\n",
"\n",
"// Calculation\n",
"E_1=(h^2*(9*k^2))/(2*m_c1);\n",
"A_1=(E_1)/(1.6*10^-19);\n",
"\n",
"printf('(a)Energy of conduction electron in GaAs = %0.2e eV\n',A_1);\n",
"\n",
"E_2=(h^2*(9*k^2))/(2*m_c2);\n",
"A_2=(E_2)/(1.6*10^-19);\n",
"\n",
"printf('(b)Energy of conduction electron in InAs = %0.3e eV',A_2);\n",
"\n",
"// Results\n",
"// (a) Energy of conduction electron in GaAs is 50.9 meV\n",
"// (b) Energy of conduction electron in InAs is 340.7 meV\n",
""
   ]
   }
,
{
		   "cell_type": "markdown",
		   "metadata": {},
		   "source": [
			"## Example 1.5: Energies_of_electrons_in_conduction_band.sce"
		   ]
		  },
  {
"cell_type": "code",
	   "execution_count": null,
	   "metadata": {
	    "collapsed": true
	   },
	   "outputs": [],
"source": [
"// Energies of electrons in conduction band\n",
"// Basic Electronics\n",
"// By Debashis De\n",
"// First Edition, 2010\n",
"// Dorling Kindersley Pvt. Ltd. India\n",
"// Example 1-5 in page 21\n",
"\n",
"clear; clc; close;\n",
"\n",
"// Data given\n",
"h=1.05*10^-34; // Constant of calculation Js\n",
"k=0.1,0.1,0,0; // Values of k-vector\n",
"m_c=0.067*0.091*10^-30; // Effective mass of conduction electron\n",
"\n",
"// Calculation\n",
"E=(h^2*(((0.1*10^10)^2)+((0.1*10^10)^2)))/(2*m_c);\n",
"A= E/(1.6*10^-19);\n",
"\n",
"printf('Energy of conduction electron is %0.3f eV',A);\n",
"\n",
"// Result\n",
"// Energy of conduction electron in the vertically upward direction = 11.302 eV\n",
"// The non parabolic E-k dispersion relation is more appropriate here"
   ]
   }
,
{
		   "cell_type": "markdown",
		   "metadata": {},
		   "source": [
			"## Example 1.6: Estimation_of_smallest_k_vector_along_x_direction.sce"
		   ]
		  },
  {
"cell_type": "code",
	   "execution_count": null,
	   "metadata": {
	    "collapsed": true
	   },
	   "outputs": [],
"source": [
"// Estimation of smallest k-vector along x-direction\n",
"// Basic Electronics\n",
"// By Debashis De\n",
"// First Edition, 2010\n",
"// Dorling Kindersley Pvt. Ltd. India\n",
"// Example 1-6 in page 21\n",
"\n",
"clear; clc; close;\n",
"\n",
"// Data given\n",
"x=1; // x-coordiante\n",
"y=1; // y-coordinate\n",
"z=1; // z-coordinate\n",
"E=0.3*1.6*10^-19; // Energy separation in eV\n",
"m_c=0.067*0.91*10^-30; // Effective mass of conduction electron in kg\n",
"h=1.05*10^-34; // Constant of calculation in Js\n",
"\n",
"// Calculation\n",
"k_x=(2*m_c*E)/(3*h^2);\n",
"A=sqrt(k_x);\n",
"\n",
"printf('K vector along (111) direction is %0.1e m^-1',A);\n",
"\n",
"// Result\n",
"//Value of k-vector along (111) direction is 4.2*10^8 m^-1\n",
"//Parabolic expression has been used to compute the k-vector"
   ]
   }
,
{
		   "cell_type": "markdown",
		   "metadata": {},
		   "source": [
			"## Example 1.7: Energies_of_electrons_in_conduction_band.sce"
		   ]
		  },
  {
"cell_type": "code",
	   "execution_count": null,
	   "metadata": {
	    "collapsed": true
	   },
	   "outputs": [],
"source": [
"// Energies of electrons in conduction band\n",
"// Basic Electronics\n",
"// By Debashis De\n",
"// First Edition, 2010\n",
"// Dorling Kindersley Pvt. Ltd. India\n",
"// Example 1-7 in page 22\n",
"\n",
"clear; clc; close;\n",
"\n",
"// Data given\n",
"k=0.01*10^10; // k-vector value /m\n",
"h=1.05*10^-34; // Constant of calculation Js\n",
"m_0=0.91*10^-30; // Mass of conduction electron Kg\n",
"m_c1=0.067*m_0; // Effective mass of GaAs conduction electron Kg\n",
"m_c2=0.01*m_0; // Effective mass if InAs conduction electron Kg\n",
"\n",
"// Calculation\n",
"E_1=(h^2*(9*k^2))/(2*m_c1);\n",
"A_1=(E_1)/(1.6*10^-19);\n",
"\n",
"printf('(a)Energy of conduction electron in GaAs = %0.2e eV\n',A_1);\n",
"\n",
"E_2=(h^2*(9*k^2))/(2*m_c2);\n",
"A_2=(E_2)/(1.6*10^-19);\n",
"\n",
"printf('(b)Energy of conduction electron in InAs = %0.3e eV',A_2);\n",
"\n",
"// Results\n",
"// (a) Energy of conduction electron in GaAs is 50.9 meV\n",
"// (b) Energy of conduction electron in InAs is 340.7 meV"
   ]
   }
,
{
		   "cell_type": "markdown",
		   "metadata": {},
		   "source": [
			"## Example 1.8: Find_position_of_Fermi_level.sce"
		   ]
		  },
  {
"cell_type": "code",
	   "execution_count": null,
	   "metadata": {
	    "collapsed": true
	   },
	   "outputs": [],
"source": [
"// Find position of Fermi level\n",
"// Basic Electronics\n",
"// By Debashis De\n",
"// First Edition, 2010\n",
"// Dorling Kindersley Pvt. Ltd. India\n",
"// Example 1-8 in page 33\n",
"\n",
"clear; clc; close;\n",
"\n",
"// Data given\n",
"n_0=6*10^17; // Electron concentration in the conduction band /cm^3\n",
"k_bT=0.026; // Expressed in eV at room temperature\n",
"N_c=4.45*10^17; // Constant of Calculation /cm^3\n",
"\n",
"// Calculation\n",
"E_f=k_bT*log(n_0/N_c);\n",
"A=E_f*10^3;\n",
"\n",
"printf('Position of Fermi level is %0.2f meV',A);\n",
"\n",
"// Result\n",
"// Position of Fermi level is 7.77 meV\n",
"// Intrinsic carrier density is lesser than dopant density\n",
"// Hence semiconductor is non-degenerate"
   ]
   }
,
{
		   "cell_type": "markdown",
		   "metadata": {},
		   "source": [
			"## Example 1.9: Find_Fermi_level_at_room_temperature.sce"
		   ]
		  },
  {
"cell_type": "code",
	   "execution_count": null,
	   "metadata": {
	    "collapsed": true
	   },
	   "outputs": [],
"source": [
"// Find Fermi level at room temperature\n",
"// Basic Electronics\n",
"// By Debashis De\n",
"// First Edition, 2010\n",
"// Dorling Kindersley Pvt. Ltd. India\n",
"// Example 1-9 in page 34\n",
"\n",
"clear; clc; close;\n",
"\n",
"// Data given\n",
"k=1; // Assumed constant \n",
"m_e=2*k; // Effective mass of an electron in Kg\n",
"m_h=k; // Effective mass of only heavy hole in Kg\n",
"k_bT=0.026; // Expressed in eV at room temperature\n",
"\n",
"// Calculation\n",
"E_f=(3/4)*0.026*log(m_e/m_h);\n",
"printf('E_f = ((-E_g/2) - %0.3f) eV\n',E_f);\n",
"printf('Thus Fermi level is below center of forbidden gap by 0.014 eV');\n",
"\n",
"// Result\n",
"// Fermi level in the intrinsic semiconductor is ((-E_g/2) - 0.014) eV"
   ]
   }
],
"metadata": {
		  "kernelspec": {
		   "display_name": "Scilab",
		   "language": "scilab",
		   "name": "scilab"
		  },
		  "language_info": {
		   "file_extension": ".sce",
		   "help_links": [
			{
			 "text": "MetaKernel Magics",
			 "url": "https://github.com/calysto/metakernel/blob/master/metakernel/magics/README.md"
			}
		   ],
		   "mimetype": "text/x-octave",
		   "name": "scilab",
		   "version": "0.7.1"
		  }
		 },
		 "nbformat": 4,
		 "nbformat_minor": 0
}
