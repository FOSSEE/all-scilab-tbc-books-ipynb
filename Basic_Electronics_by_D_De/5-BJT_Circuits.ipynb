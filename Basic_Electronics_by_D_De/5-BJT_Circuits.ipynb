{
"cells": [
 {
		   "cell_type": "markdown",
	   "metadata": {},
	   "source": [
       "# Chapter 5: BJT Circuits"
	   ]
	},
{
		   "cell_type": "markdown",
		   "metadata": {},
		   "source": [
			"## Example 5.1: Calculate_BJT_parameters_using_beta_gain.sce"
		   ]
		  },
  {
"cell_type": "code",
	   "execution_count": null,
	   "metadata": {
	    "collapsed": true
	   },
	   "outputs": [],
"source": [
"// Calculate BJT parameters using beta gain\n",
"// Basic Electronics\n",
"// By Debashis De\n",
"// First Edition, 2010\n",
"// Dorling Kindersley Pvt. Ltd. India\n",
"// Example 5-1 in page 235\n",
"\n",
"clear; clc; close;\n",
"\n",
"// Part 1\n",
"// Given Data\n",
"beta_bjt=100; // Beta Gain of BJT\n",
"Vcc=10; // DC voltage across Collector in V\n",
"Rb=100000; // Base Resistance of BJT in ohm\n",
"Rc=2000; // Collector Resistance of BJT in ohm\n",
"Vbe=0.7; // Base-Emitter voltage of BJT\n",
"\n",
"// Calculations\n",
"Ib=(Vcc-Vbe)/((beta_bjt*Rc)+Rc+Rb); \n",
"Ic=beta_bjt*Ib;\n",
"\n",
"Vce=Vcc-(Ib+Ic)*Rc;\n",
"\n",
"printf('Part 1 \n');\n",
"printf('(a)The value of Base Current in the BJT circuit is %0.3e A \n',Ib);\n",
"printf('(b)The value of Collector Current in the BJT circuit is %0.3e A \n',Ic);\n",
"printf('(c)The value of Collector-Emitter voltage in the circuit is %0.3f V \n',Vce);\n",
"\n",
"// Part 2\n",
"// Given Data\n",
"Vce2=7; // Collector-Emitter voltage of BJT\n",
"Vcc=10; // DC voltage across Collector in V\n",
"Rc=2000; // Collector Resistance of BJT in ohm\n",
"Vbe=0.7; // Base-Emitter voltage of BJT\n",
"Rc2=2000; // Collector Resistance of BJT in ohm\n",
"\n",
"// Calculations\n",
"constant=(Vcc-Vce2)/Rc;\n",
"Ib2=constant/101;\n",
"Ic2=100*Ib2; \n",
"Rb2=(Vcc-Vbe-(Rc2*constant))/Ib2;\n",
"\n",
"printf('\nPart 2 \n');\n",
"printf('(a)The value of the Base Resistance of the Circuit is %0.3e ohm \n ',Rb2);\n",
"\n",
"// Results\n",
"// Circuit 1: Value of Base Current of circuit = 0.031 mA\n",
"// Circuit 1: Value of Collector Current of circuit = 3.1 mA\n",
"// Circuit 1: Value of Collector-Emitter voltage of BJT circuit = 3.779 V\n",
"// Circuit 2: Value of BAse Resistance required = 424.24 K-ohm"
   ]
   }
,
{
		   "cell_type": "markdown",
		   "metadata": {},
		   "source": [
			"## Example 5.4: To_establish_Operating_Point_and_Stability_Factor.sce"
		   ]
		  },
  {
"cell_type": "code",
	   "execution_count": null,
	   "metadata": {
	    "collapsed": true
	   },
	   "outputs": [],
"source": [
"// To establish Operating Point & Stability Factor\n",
"// Basic Electronics\n",
"// By Debashis De\n",
"// First Edition, 2010\n",
"// Dorling Kindersley Pvt. Ltd. India\n",
"// Example 5-4 in page 238\n",
"\n",
"clear; clc; close;\n",
"\n",
"// Given Data\n",
"beta_bjt=50; // Beta Gain of the BJT circuit\n",
"Vbe=0.7; // Base-Emitter voltage of BJT in V\n",
"Vcc=22.5; // DC voltage across Collector in V\n",
"Rc=5600; // Resistance across Collector in ohm\n",
"Vce=12; // Operating Collector-Emitter voltage of circuit in V\n",
"Ic=1.5*10^-3; // Operating Collector current of circuit in mA\n",
"sfactor=3; // Stability factor of the circuit\n",
"\n",
"// Calculations\n",
"Re=((Vcc-Vce)/Ic)-Rc; \n",
"constant=((beta_bjt+1)*(sfactor-1))/((beta_bjt+1)-sfactor); \n",
"Rb=constant*Re; \n",
"Ib=Ic/beta_bjt;\n",
"voltage=(Ib*Rb)+Vbe+((Ib+Ic)*Re); \n",
"R1=Rb*(Vcc/voltage); \n",
"R2=(R1*voltage)/(Vcc-voltage); \n",
"\n",
"printf('(a)The value of Emitter Resistance of the BJT circuit is %0.2e ohm \n',Re);\n",
"printf('(b)The value of Resistance-1 of the BJT circuit is %0.2e ohm \n',R1);\n",
"printf('(c)The value of Resistance-2 of the BJT circuit is %0.2e ohm \n',R2);\n",
"\n",
"// Results\n",
"// The value of Emitter Resistance of the BJT circuit is 1.4 K-ohm\n",
"// The value of Resistance-1 of the BJT circuit is 22.8 K-ohm\n",
"// The value of Resistance-2 of the BJT circuit is 3.4 K-ohm"
   ]
   }
,
{
		   "cell_type": "markdown",
		   "metadata": {},
		   "source": [
			"## Example 5.5: Design_Bias_Circuit_for_given_Stability_Factor.sce"
		   ]
		  },
  {
"cell_type": "code",
	   "execution_count": null,
	   "metadata": {
	    "collapsed": true
	   },
	   "outputs": [],
"source": [
"// Design Bias Circuit for given Stability Factor\n",
"// Basic Electronics\n",
"// By Debashis De\n",
"// First Edition, 2010\n",
"// Dorling Kindersley Pvt. Ltd. India\n",
"// Example 5-5 in page 239\n",
"\n",
"clear; clc; close;\n",
"\n",
"// Given data\n",
"Vcc=20; // Supply DC Voltage in V\n",
"Rc=1.5*10^3; // Collector Resistance in ohm\n",
"Vce=8; // Collector-Emitter Resistance in V\n",
"Ic=4*10^-3; // Collector Current in A\n",
"S=12; // Stability Factor of circuit\n",
"beta_bjt=50; // Beta Gain of BJT\n",
"\n",
"// Calculations\n",
"Ib=Ic/beta_bjt;\n",
"Re=(Vcc-Vce-Ic*Rc)/(Ib+Ic);\n",
"Rb=Re*((S*beta_bjt)/((beta_bjt+1)-S));\n",
"Ie=Ic+Ib;\n",
"Vbn=0.2+Ie*Re;\n",
"Vth=Vbn+Ib*Rb;\n",
"R1=(Vcc*Rb)/Vth;\n",
"Ir1=(Vcc-Vbn)/R1;\n",
"Ir2=Ir1-Ib;\n",
"R2=Vbn/Ir2;\n",
"\n",
"// For S=3\n",
"S_2=3;\n",
"Rc_2=1.47*10^3;\n",
"Re_2=Re;\n",
"Rb_2=Re*((S_2*beta_bjt)/((beta_bjt+1)-S_2));\n",
"Vth_2=Vbn+(Ib*Rb_2)+6.16;\n",
"R1_2=(Vcc*Rb_2)/Vth_2;\n",
"Ir1_2=(Vcc-Vbn)/R1_2;\n",
"Ir2_2=Ir1_2-Ib;\n",
"R2_2=Vbn/Ir2-2;\n",
"\n",
"printf('For S=12 \n');\n",
"printf('(a)Ib = %0.2e A \n(b)Ir1 = %0.2e A \n(c)Ir2 = %0.2e A \n',Ib,Ir1,Ir2);\n",
"printf('(d)Re = %0.2e ohm \n(e)Rb = %0.2e ohm \n(f)R1 = %0.2e ohm \n(g)R2 = %0.2e ohm \n',Re,Rb,R1,R2);\n",
"printf('(h)Base-Ground Voltage Vbn = %0.2f V \n(i)Thevenin Voltage Vth = %0.2f V \n',Vbn,Vth);\n",
"printf('\n For S=3 \n');\n",
"printf('(a)Re = %0.2e ohm \n(b)Rb = %0.2e ohm \n(c)R1 = %0.2e ohm \n(d)R2 = %0.2e ohm \n',Re_2,Rb_2,R1_2,R2_2);\n",
"printf('(e)Thevenin Voltage Vth = %0.2f V \n(f)Ir1 = %0.2e A \n(g)Ir2 = %0.2e A \n',Vth_2,Ir1_2,Ir2_2);\n",
"\n",
"// Results\n",
"//  S=12\n",
"// (a) Ib=80 mu-A\n",
"// (b) Re=1.47 K-ohm\n",
"// (c) Rb=21.17 K-ohm\n",
"// (d) Vbn=5.91 V\n",
"// (e) Vth=7.60 V\n",
"// (f) R1=55.71 K-ohm\n",
"// (g) R2=37.16 K-ohm\n",
"// (h) IR1=0.253 mA\n",
"// (i) IR2=0.173 mA\n",
"// S=3\n",
"// (a) Rb=3.13 K-ohm\n",
"// (b) R1=10.16 K-ohm\n",
"// (c) IR1=1.387 mA\n",
"// (d) R2=4.52 K-ohm\n",
"// (e) IR2=1.307 mA"
   ]
   }
,
{
		   "cell_type": "markdown",
		   "metadata": {},
		   "source": [
			"## Example 5.8: Calculate_circuit_parameters_of_a_Emitter_Follower.sce"
		   ]
		  },
  {
"cell_type": "code",
	   "execution_count": null,
	   "metadata": {
	    "collapsed": true
	   },
	   "outputs": [],
"source": [
"// Calculate circuit parameters of a Emitter Follower\n",
"// Basic Electronics\n",
"// By Debashis De\n",
"// First Edition, 2010\n",
"// Dorling Kindersley Pvt. Ltd. India\n",
"// Example 5-8 in page 251\n",
"\n",
"clear; clc; close;\n",
"\n",
"// Given data\n",
"Rs=0.5*10^3; // Source resistance in ohm\n",
"Rl=5*10^3; // Load resistance in ohm\n",
"hfe=50; // h-parameter value of the BJT\n",
"hie=1*10^3; // h-parameter value of the BJT in ohm\n",
"hoe=25*10^-6; // h-parameter value of the BJT in A/V\n",
"\n",
"// Calculations\n",
"Ai=(1+hfe)/(1+hoe*Rl);\n",
"Ri=hie+Ai*Rl;\n",
"Av=1-(hie/Ri);\n",
"Avs=Av*(Ri/(Ri+Rs));\n",
"\n",
"printf('(a)The current gain of circuit Ai = %0.1f \n',Ai);\n",
"printf('(b)The input resistance of circuit Ri = %0.2e ohm \n',Ri);\n",
"printf('(c)The voltage gain of circuit Av = %0.4f \n',Av);\n",
"printf('(d)The voltage gain of circuit Avs = %0.4f \n',Avs);\n",
"\n",
"// Results\n",
"// (a) The current gain of circuit Ai=45.3\n",
"// (b) The input resistance of circuit Ri=227 ohm\n",
"// (c) The voltage gain of circuit Av=0.9956\n",
"// (d) The voltage gain of circuit Avs=0.9934"
   ]
   }
,
{
		   "cell_type": "markdown",
		   "metadata": {},
		   "source": [
			"## Example 5.9: Design_of_an_Emitter_Follower.sce"
		   ]
		  },
  {
"cell_type": "code",
	   "execution_count": null,
	   "metadata": {
	    "collapsed": true
	   },
	   "outputs": [],
"source": [
"// Design of an Emitter Follower\n",
"// Basic Electronics\n",
"// By Debashis De\n",
"// First Edition, 2010\n",
"// Dorling Kindersley Pvt. Ltd. India\n",
"// Example 5-9 in page 252\n",
"\n",
"clear; clc; close;\n",
"\n",
"// Given data\n",
"Ri=500*10^3; // Input Resistance in ohm\n",
"Ro=20; // Output Resistance in ohm\n",
"hfe=50; // h-parameter of BJT\n",
"hie=1*10^3; // h-parameter of BJT in ohm\n",
"hoe=25*10^-6; // h-parameter of BJT in A/V\n",
"const=499*10^3; // Product of Ai and Rl in ohm\n",
"Av=0.999; // Voltage gain of circuit\n",
"const_2=10^6; // Product of Ai and Rl in ohm for Av=0.999\n",
"\n",
"// Calculations\n",
"Ai=1+hfe-(const*hoe);\n",
"Rl=const/Ai;\n",
"Rs=((hfe+1)*hoe*Ro)-hie;\n",
"Ri_2=hie/(1-Av);\n",
"Rl_2=(((1+hfe)/const_2)-1)/hoe;\n",
"\n",
"printf('The current gain of circuit=%0.1f \n',Ai);\n",
"printf('When Av=0.999, \n(a)Ri=%0.2e ohm \n(b)Rl=%0.2e ohm \n',Ri_2,Rl_2);\n",
"\n",
"// Results\n",
"// The current gain of circuit = 38.5\n",
"// For Av = 0.999, \n",
"// (a) Ri = 1 M-ohm, \n",
"// (b) Rl = -40.0 K-ohm"
   ]
   }
],
"metadata": {
		  "kernelspec": {
		   "display_name": "Scilab",
		   "language": "scilab",
		   "name": "scilab"
		  },
		  "language_info": {
		   "file_extension": ".sce",
		   "help_links": [
			{
			 "text": "MetaKernel Magics",
			 "url": "https://github.com/calysto/metakernel/blob/master/metakernel/magics/README.md"
			}
		   ],
		   "mimetype": "text/x-octave",
		   "name": "scilab",
		   "version": "0.7.1"
		  }
		 },
		 "nbformat": 4,
		 "nbformat_minor": 0
}
