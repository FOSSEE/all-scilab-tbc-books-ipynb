{
"cells": [
 {
		   "cell_type": "markdown",
	   "metadata": {},
	   "source": [
       "# Chapter 15: Digital Electronics"
	   ]
	},
{
		   "cell_type": "markdown",
		   "metadata": {},
		   "source": [
			"## Example 15.10: Multiplication_of_two_binary_numbers.sce"
		   ]
		  },
  {
"cell_type": "code",
	   "execution_count": null,
	   "metadata": {
	    "collapsed": true
	   },
	   "outputs": [],
"source": [
"// Scilab code Ex15.10 :Pg:773(2008)\n",
"clc;clear;\n",
"function [bini]= decimal_binary(ni) // Function to convert decimal to binary\n",
"    bini = 0;\n",
"    i = 1;\n",
"    while (ni <> 0)\n",
"      rem = ni-fix(ni./2).*2; \n",
"      ni = int(ni/2);\n",
"      bini = bini + rem*i;\n",
"      i = i * 10;\n",
"    end\n",
"endfunction   \n",
"\n",
"function [deci]= binary_decimal(ni) // Function to convert binary to decimal\n",
"    deci = 0;\n",
"    i = 0;\n",
"    while (ni <> 0)\n",
"      rem = ni-fix(ni./10).*10; \n",
"      ni = int(ni/10);\n",
"      deci = deci + rem*2.^i;\n",
"      i = i + 1;\n",
"    end\n",
"endfunction  \n",
"\n",
"function binp = bin_product(op1, op2)\n",
"    binp = decimal_binary(binary_decimal(op1)*binary_decimal(op2));   \n",
"endfunction\n",
"\n",
"mul1 = 1101;    // Initialize the first binary multiplicand\n",
"mul2 = 1100;    // Initialize the second binary multiplicand\n",
"product = bin_product(mul1, mul2);\n",
"\n",
"printf('%4d X %4d = %8d', mul1, mul2, product);\n",
"\n",
"// Result\n",
"//  1101 X 1100 = 10011100 "
   ]
   }
,
{
		   "cell_type": "markdown",
		   "metadata": {},
		   "source": [
			"## Example 15.11: Binary_division_of_two_numbers.sce"
		   ]
		  },
  {
"cell_type": "code",
	   "execution_count": null,
	   "metadata": {
	    "collapsed": true
	   },
	   "outputs": [],
"source": [
"// Scilab code Ex15.11 : Pg:774(2008)\n",
"clc;clear;\n",
"function [bini]= decimal_binary(ni) // Function to convert decimal to binary\n",
"    bini = 0;\n",
"    i = 1;\n",
"    while (ni <> 0)\n",
"      rem = ni-fix(ni./2).*2; \n",
"      ni = int(ni/2);\n",
"      bini = bini + rem*i;\n",
"      i = i * 10;\n",
"    end\n",
"endfunction   \n",
"\n",
"function [deci]= binary_decimal(ni) // Function to convert binary to decimal\n",
"    deci = 0;\n",
"    i = 0;\n",
"    while (ni <> 0)\n",
"      rem = ni-fix(ni./10).*10; \n",
"      ni = int(ni/10);\n",
"      deci = deci + rem*2.^i;\n",
"      i = i + 1;\n",
"    end\n",
"endfunction  \n",
"\n",
"function binp = bin_division(op1, op2)\n",
"    binp = decimal_binary(binary_decimal(op1)/binary_decimal(op2));   \n",
"endfunction\n",
"\n",
"dividend = 11001 ;    // Initialize the first binary multiplicand\n",
"divisor = 101;    // Initialize the second binary multiplicand\n",
"product = bin_division(dividend, divisor);\n",
"\n",
"printf('%5d divided by %3d gives %3d', dividend, divisor, product);\n",
"\n",
"// Result\n",
"// 11001 divided by 101 gives 101 "
   ]
   }
,
{
		   "cell_type": "markdown",
		   "metadata": {},
		   "source": [
			"## Example 15.1: Binary_equivalent_of_decimal_number.sce"
		   ]
		  },
  {
"cell_type": "code",
	   "execution_count": null,
	   "metadata": {
	    "collapsed": true
	   },
	   "outputs": [],
"source": [
"// Scilab code Ex15.1 : Pg:771(2011)\n",
"clc;clear;\n",
"function [bin]= decimal_binary(n) // Function to convert decimal to binary\n",
"    bin = 0;\n",
"    i = 1;\n",
"    while (n <> 0)\n",
"      rem = n-fix(n./2).*2; \n",
"      n = int(n/2);\n",
"      bin = bin + rem*i;\n",
"      i = i * 10;\n",
"    end\n",
"endfunction    \n",
"\n",
"n = 25;    // Initialize the decimal number\n",
"printf('Binary equivalent of %d = %d', n, decimal_binary(n)); \n",
"\n",
"// Result\n",
"// Binary equivalent of 25 = 11001"
   ]
   }
,
{
		   "cell_type": "markdown",
		   "metadata": {},
		   "source": [
			"## Example 15.2: Decimal_equivalent_of_6_bit_binary_number.sce"
		   ]
		  },
  {
"cell_type": "code",
	   "execution_count": null,
	   "metadata": {
	    "collapsed": true
	   },
	   "outputs": [],
"source": [
"// Scilab code Ex15.2 : Pg:771(2011)\n",
"clc;clear;\n",
"function [deci]= binary_decimal(ni) // Function to convert binary to decimal\n",
"    deci = 0;\n",
"    i = 0;\n",
"    while (ni <> 0)\n",
"      rem = ni-fix(ni./10).*10; \n",
"      ni = int(ni/10);\n",
"      deci = deci + rem*2.^i;\n",
"      i = i + 1;\n",
"    end\n",
"endfunction   \n",
"\n",
"function [decf]= binfrac_decifrac(nf) // Function to convert binary fraction to decimal fraction\n",
"    decf = 0;\n",
"    i = -1;\n",
"    while (i >= -3)\n",
"      nf = nf*10;\n",
"      rem = round(nf);    \n",
"      nf = nf-rem;\n",
"      decf = decf + rem*2.^i;\n",
"      i = i - 1;\n",
"    end\n",
"endfunction   \n",
"\n",
"n = 101.101;    // Initialize the binary number\n",
"n_int = int(n);     // Extract the integral part\n",
"n_frac = n-n_int;   // Extract the fractional part\n",
"printf('Decimal equivalent of %7.3f = %5.3f', n, binary_decimal(n_int)+binfrac_decifrac(n_frac)); \n",
"\n",
"// Result\n",
"// Decimal equivalent of 101.101 = 5.625 "
   ]
   }
,
{
		   "cell_type": "markdown",
		   "metadata": {},
		   "source": [
			"## Example 15.3: Decimal_equivalent_of_octal_number.sce"
		   ]
		  },
  {
"cell_type": "code",
	   "execution_count": null,
	   "metadata": {
	    "collapsed": true
	   },
	   "outputs": [],
"source": [
"// Scilab code Ex15.3 : Pg:772(2011)\n",
"clc;clear;\n",
"function [dec]= octal_decimal(n) // Function to convert binary to decimal\n",
"    dec = 0;\n",
"    i = 0;\n",
"    while (n <> 0)\n",
"      rem = n-fix(n./10).*10; \n",
"      n = int(n/10);\n",
"      dec = dec + rem*8.^i;\n",
"      i = i + 1;\n",
"    end\n",
"endfunction   \n",
"\n",
"n = 173;    // Initialize the octal number\n",
"printf('Decimal equivalent of %d = %d', n, octal_decimal(n)); \n",
"\n",
"// Result\n",
"// Decimal equivalent of 173 = 123 "
   ]
   }
,
{
		   "cell_type": "markdown",
		   "metadata": {},
		   "source": [
			"## Example 15.4: Octal_equivalent_of_decimal_number.sce"
		   ]
		  },
  {
"cell_type": "code",
	   "execution_count": null,
	   "metadata": {
	    "collapsed": true
	   },
	   "outputs": [],
"source": [
"// Scilab code Ex15.4 : Pg:772(2011)\n",
"clc;clear;\n",
"function octal = decimal_octal(n)  // Function to convert decimal to octal\n",
"    i=1; octal = 0;\n",
"    while (n<>0)\n",
"        rem = n-fix(n./8).*8; \n",
"        octal = octal + rem*i;\n",
"        n = int(n/8);\n",
"        i = i*10;\n",
"    end\n",
"endfunction   \n",
"\n",
"n = 278;    // Initialize the octal number\n",
"printf('The octal equivalent of %d = %d', n, decimal_octal(n)); \n",
"\n",
"// Result\n",
"// The octal equivalent of 278 = 426"
   ]
   }
,
{
		   "cell_type": "markdown",
		   "metadata": {},
		   "source": [
			"## Example 15.5: Hexadecimal_equivalent_of_binary_numbers.sce"
		   ]
		  },
  {
"cell_type": "code",
	   "execution_count": null,
	   "metadata": {
	    "collapsed": true
	   },
	   "outputs": [],
"source": [
"// Scilab code Ex15.5 :Pg:772(2011)\n",
"clc;clear;\n",
"function hex = binary_hex(n) // Function to convert decimal to hexadecimal\n",
"    hex = emptystr();\n",
"    while (n <>0)\n",
"        rem = n-fix(n./10000).*10000;   // Division Algorithm\n",
"        if  rem == 0 then\n",
"            hex = hex+'0';\n",
"        elseif rem == 1 then    \n",
"            hex = hex+'1';\n",
"        elseif rem == 10 then    \n",
"            hex = hex+'2';\n",
"        elseif rem == 11 then    \n",
"            hex = hex+'3';\n",
"        elseif rem == 100 then    \n",
"            hex = hex+'4';\n",
"        elseif rem == 101 then    \n",
"            hex = hex+'5';\n",
"        elseif rem == 110 then    \n",
"            hex = hex+'6';    \n",
"        elseif rem == 111 then    \n",
"            hex = hex+'7';\n",
"        elseif rem == 1000 then    \n",
"            hex = hex+'8';\n",
"        elseif rem == 1001 then    \n",
"            hex = hex+'9';\n",
"        elseif rem == 1010 then    \n",
"            hex=hex+'A';\n",
"        elseif rem == 1011 then\n",
"            hex=hex+'B';     \n",
"        elseif rem == 1100 then\n",
"            hex=hex+'C';     \n",
"        elseif rem == 1101 then\n",
"            hex=hex+'D';     \n",
"        elseif rem == 1110 then\n",
"            hex=hex+'E';     \n",
"        elseif rem == 1111 then\n",
"            hex=hex+'F';\n",
"        end // If statement ends         \n",
"        n = int(n/10000);\n",
"    end // While loop ends\n",
"    hex = strrev(hex);   // Reverse string\n",
"endfunction  \n",
"\n",
"n = [10001100, 1011010111];    // Initialize the binary numbers\n",
"printf('\nThe hex equivalent of %d = %s', n(1), binary_hex(n(1))); \n",
"printf('\nThe hex equivalent of %d = %s', n(2), binary_hex(n(2))); \n",
"\n",
"// Result\n",
"// The hex equivalent of 10001100 = 8C\n",
"// The hex equivalent of 1011010111 = 2D7 "
   ]
   }
,
{
		   "cell_type": "markdown",
		   "metadata": {},
		   "source": [
			"## Example 15.6: Hexadecimal_equivalent_of_decimal_numbers.sce"
		   ]
		  },
  {
"cell_type": "code",
	   "execution_count": null,
	   "metadata": {
	    "collapsed": true
	   },
	   "outputs": [],
"source": [
"// Scilab code Ex15.6 : Pg:772(2011)\n",
"clc;clear;\n",
"function hex = decimal_hex(n) // Function to convert decimal to hexadecimal\n",
"    hex = emptystr();\n",
"    while (n <>0)\n",
"        rem = n-fix(n./16).*16; \n",
"        if rem == 10 then \n",
"            hex(i)=hex+'A';\n",
"        elseif rem == 11 then\n",
"            hex=hex+'B';     \n",
"        elseif rem == 12 then\n",
"            hex=hex+'C';     \n",
"        elseif rem == 13 then\n",
"            hex=hex+'D';     \n",
"        elseif rem == 14 then\n",
"            hex=hex+'E';     \n",
"        elseif rem == 15 then\n",
"            hex=hex+'F';     \n",
"        else \n",
"            hex=hex+string(rem);\n",
"        end\n",
"        n = int(n/16);\n",
"    end\n",
"    hex = strrev(hex);   // Reverse string\n",
"endfunction\n",
"\n",
"n = 72905;    // Initialize the binary numbers\n",
"printf('\nThe hex equivalent of %d = %s', n, decimal_hex(n)); \n",
"\n",
"\n",
"// Result\n",
"// The hex equivalent of 72905 = 11CC9 "
   ]
   }
,
{
		   "cell_type": "markdown",
		   "metadata": {},
		   "source": [
			"## Example 15.7: Addition_of_two_binary_numbers.sce"
		   ]
		  },
  {
"cell_type": "code",
	   "execution_count": null,
	   "metadata": {
	    "collapsed": true
	   },
	   "outputs": [],
"source": [
"// Scilab code Ex15.7 : Pg:773(2011)\n",
"clc;clear;\n",
"function [bini]= decimal_binary(ni) // Function to convert decimal to binary\n",
"    bini = 0;\n",
"    i = 1;\n",
"    while (ni <> 0)\n",
"      rem = ni-fix(ni./2).*2; \n",
"      ni = int(ni/2);\n",
"      bini = bini + rem*i;\n",
"      i = i * 10;\n",
"    end\n",
"endfunction   \n",
"\n",
"function [deci]= binary_decimal(ni) // Function to convert binary to decimal\n",
"    deci = 0;\n",
"    i = 0;\n",
"    while (ni <> 0)\n",
"      rem = ni-fix(ni./10).*10; \n",
"      ni = int(ni/10);\n",
"      deci = deci + rem*2.^i;\n",
"      i = i + 1;\n",
"    end\n",
"endfunction   \n",
"\n",
"num1 = 11101;    // Initialize the first binary number\n",
"num2 = 10111;    // Initialize the second binary number\n",
"\n",
"printf('%6d + %6d = %7d', num1, num2, decimal_binary(binary_decimal(num1)+binary_decimal(num2))); \n",
"\n",
"// Result\n",
"// 11101 +  10111 =  110100 "
   ]
   }
,
{
		   "cell_type": "markdown",
		   "metadata": {},
		   "source": [
			"## Example 15.8: Addition_of_two_binary_numbers_with_fractions.sce"
		   ]
		  },
  {
"cell_type": "code",
	   "execution_count": null,
	   "metadata": {
	    "collapsed": true
	   },
	   "outputs": [],
"source": [
"// Scilab code Ex15.8 : Pg:773(2011)\n",
"clc;clear;\n",
"function [bini]= decimal_binary(ni) // Function to convert decimal to binary\n",
"    bini = 0;\n",
"    i = 1;\n",
"    while (ni <> 0)\n",
"      rem = ni-fix(ni./2).*2; \n",
"      ni = int(ni/2);\n",
"      bini = bini + rem*i;\n",
"      i = i * 10;\n",
"    end\n",
"endfunction  \n",
"\n",
"function [binf]= decifrac_binfrac(nf) // Function to convert binary fraction to decimal fraction\n",
"    binf = 0; i = 0.1;\n",
"    while (nf <> 0)\n",
"      nf = nf*2;\n",
"      rem = int(nf); \n",
"      nf = nf-rem;\n",
"      binf = binf + rem*i;\n",
"      i = i/10;\n",
"    end\n",
"endfunction   \n",
"\n",
"function [deci]= binary_decimal(ni) // Function to convert binary to decimal\n",
"    deci = 0;\n",
"    i = 0;\n",
"    while (ni <> 0)\n",
"      rem = ni-fix(ni./10).*10; \n",
"      ni = int(ni/10);\n",
"      deci = deci + rem*2.^i;\n",
"      i = i + 1;\n",
"    end\n",
"endfunction  \n",
"\n",
"function [decf]= binfrac_decifrac(nf) // Function to convert binary fraction to decimal fraction\n",
"    decf = 0;\n",
"    i = -1;\n",
"    while (i >= -3)\n",
"      nf = nf*10;\n",
"      rem = round(nf);    \n",
"      nf = nf-rem;\n",
"      decf = decf + rem*2.^i;\n",
"      i = i - 1;\n",
"    end\n",
"endfunction   \n",
"\n",
"bin1 = 1011.11;    // Initialize the first binary binber\n",
"bin2 = 1011.01;    // Initialize the second binary binber\n",
"bin1_int = int(bin1);     // Extract the integral part for first\n",
"bin1_frac = bin1-bin1_int;   // Extract the fractional part for second\n",
"bin2_int = int(bin2);     // Extract the integral part for first\n",
"bin2_frac = bin2-bin2_int;   // Extract the fractional part for second\n",
"dec1 = binary_decimal(bin1_int)+binfrac_decifrac(bin1_frac);\n",
"dec2 = binary_decimal(bin2_int)+binfrac_decifrac(bin2_frac);\n",
"dec = dec1+dec2;\n",
"dec_int = int(dec);\n",
"dec_frac = dec-dec_int;\n",
"printf('%7.2f + %7.2f = %8.2f', bin1, bin2, decimal_binary(dec_int)+decifrac_binfrac(dec_frac)); \n",
"\n",
"// Result\n",
"// 1011.11 + 1011.01 = 10111.00"
   ]
   }
,
{
		   "cell_type": "markdown",
		   "metadata": {},
		   "source": [
			"## Example 15.9: Subtraction_of_two_binary_numbers.sce"
		   ]
		  },
  {
"cell_type": "code",
	   "execution_count": null,
	   "metadata": {
	    "collapsed": true
	   },
	   "outputs": [],
"source": [
"// Scilab code Ex15.9 : Pg:773(2011)\n",
"clc;clear;\n",
"function [bini]= decimal_binary(ni) // Function to convert decimal to binary\n",
"    bini = 0;\n",
"    i = 1;\n",
"    while (ni <> 0)\n",
"      rem = ni-fix(ni./2).*2; \n",
"      ni = int(ni/2);\n",
"      bini = bini + rem*i;\n",
"      i = i * 10;\n",
"    end\n",
"endfunction   \n",
"function [deci]= binary_decimal(ni) // Function to convert binary to decimal\n",
"    deci = 0;\n",
"    i = 0;\n",
"    while (ni <> 0)\n",
"      rem = ni-fix(ni./10).*10; \n",
"      ni = int(ni/10);\n",
"      deci = deci + rem*2.^i;\n",
"      i = i + 1;\n",
"    end\n",
"endfunction   \n",
"num1 = 1001;    // Initialize the first binary number\n",
"num2 = 0111;    // Initialize the second binary number\n",
"printf('%4d - 0%3d = 00%2d', num1, num2, decimal_binary(binary_decimal(num1)-binary_decimal(num2))); \n",
"// Result\n",
"// 1001 - 0111 = 0010"
   ]
   }
],
"metadata": {
		  "kernelspec": {
		   "display_name": "Scilab",
		   "language": "scilab",
		   "name": "scilab"
		  },
		  "language_info": {
		   "file_extension": ".sce",
		   "help_links": [
			{
			 "text": "MetaKernel Magics",
			 "url": "https://github.com/calysto/metakernel/blob/master/metakernel/magics/README.md"
			}
		   ],
		   "mimetype": "text/x-octave",
		   "name": "scilab",
		   "version": "0.7.1"
		  }
		 },
		 "nbformat": 4,
		 "nbformat_minor": 0
}
