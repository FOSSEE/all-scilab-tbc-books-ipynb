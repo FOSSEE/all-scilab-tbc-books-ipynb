{
"cells": [
 {
		   "cell_type": "markdown",
	   "metadata": {},
	   "source": [
       "# Chapter 8: Ultrasonics"
	   ]
	},
{
		   "cell_type": "markdown",
		   "metadata": {},
		   "source": [
			"## Example 8.1: Frequency_of_the_fundamental_mode_of_ultrasonic_wave.sce"
		   ]
		  },
  {
"cell_type": "code",
	   "execution_count": null,
	   "metadata": {
	    "collapsed": true
	   },
	   "outputs": [],
"source": [
"// Scilab Code Ex8.1: Page-429 (2011)\n",
"clc;clear;\n",
"d = 8e-004;....// Thickness of the piece of piezoelectric crystal, m\n",
"v = 5760;....// Velocity of ultrasonic waves in the piece of piezoelectric crystal, m/s\n",
"n = v/(2*d);    // The frequency of the fundamental mode of ultrasonic wave, Hz\n",
"printf('\nThe frequency of the fundamental mode of ultrasonic wave = %3.1f MHz', n/1e+006);\n",
"\n",
"4// Result\n",
"// The frequency of the fundamental mode of ultrasonic wave = 3.6 MHz \n",
" "
   ]
   }
,
{
		   "cell_type": "markdown",
		   "metadata": {},
		   "source": [
			"## Example 8.2: Fundamental_frequency_of_quarts_crystal.sce"
		   ]
		  },
  {
"cell_type": "code",
	   "execution_count": null,
	   "metadata": {
	    "collapsed": true
	   },
	   "outputs": [],
"source": [
"// Scilab Code Ex8.2: Page-430 (2011) \n",
"clc;clear;\n",
"d = 2e-003;....// Thickness of the piece of quarts crystal, m\n",
"rho = 2650;....// Density of the crystal, kg/meter-cube\n",
"Y = 7.9e+010;....// Value of Youngs Modulus, N/metre-square\n",
"n = 1/(2*d)*sqrt(Y/rho);    //The frequency of the fundamental mode of vibration, Hz\n",
"printf('\nThe frequency of the fundamental mode of vibration in quatrz crystal = %5.3f Hz', n/1e+006);\n",
"\n",
"// Result\n",
"// The frequency of the fundamental mode of vibration in quatrz crystal = 1.365 Hz "
   ]
   }
,
{
		   "cell_type": "markdown",
		   "metadata": {},
		   "source": [
			"## Example 8.3: Thickness_of_steel_plate_using_ultrasonic_beam.sce"
		   ]
		  },
  {
"cell_type": "code",
	   "execution_count": null,
	   "metadata": {
	    "collapsed": true
	   },
	   "outputs": [],
"source": [
"// Scilab Code Ex8.3: Page-430 (2011)\n",
"clc;clear;\n",
"v = 5e+003;....// Velocity of ultrasonic beam in steel plate, m/s\n",
"n = 25e+003;....// Difference between two neighbouring harmonic frequencies (Nm - Nm_minus1), Hz  \n",
"d = v/(2*n);    // The thickness of steel plate, m\n",
"printf('\nThe thickness of steel plate = %3.1f m', d);\n",
"\n",
"// Result\n",
"// The thickness of steel plate = 0.1 m "
   ]
   }
,
{
		   "cell_type": "markdown",
		   "metadata": {},
		   "source": [
			"## Example 8.4: Inductance_of_an_inductor_to_produce_ultrasonic_waves.sce"
		   ]
		  },
  {
"cell_type": "code",
	   "execution_count": null,
	   "metadata": {
	    "collapsed": true
	   },
	   "outputs": [],
"source": [
"// Scilab Code Ex8.4: Page-430 (2011)\n",
"clc;clear;\n",
"n = 1e+006;....// Frequency of Ultrasonic waves, Hz  \n",
"C = 2.5e-014;....// Capcitance of capacitor, F\n",
"// Frequency of elecric oscillations is given by n = 1/(2*%pi)*sqrt(1/(L*C)), solving for L\n",
"L = 1/(4*%pi^2*n^2*C);    // The inductance of an inductor to produce ultrasonic waves, henry\n",
"printf('\nThe inductance of an inductor to produce ultrasonic waves = %d henry', L);\n",
"\n",
"// Result\n",
"// The inductance of an inductor to produce ultrasonic waves = 1 henry \n",
" "
   ]
   }
,
{
		   "cell_type": "markdown",
		   "metadata": {},
		   "source": [
			"## Example 8.5: Position_of_imperfection_and_the_velocity_of_pulse_inside_the_rod.sce"
		   ]
		  },
  {
"cell_type": "code",
	   "execution_count": null,
	   "metadata": {
	    "collapsed": true
	   },
	   "outputs": [],
"source": [
"// Scilab Code Ex8.5: Page-431 (2011)\n",
"clc;clear;\n",
"d = 50e-002;....// Thickness of the metallic rod, m\n",
"t1 = 30e-006;....// Arrival time for first pulse, s\n",
"t2 = 80e-006;....    // Arrival time for second pulse, s\n",
"v = 2*d/t2;.....// Velocity of ultrasonic waves, m/s\n",
"printf('\nThe velocity of pulse inside the rod = %4.2e m/s', v); \n",
"x = t1*v/2;\n",
"printf('\nThe position of pulse inside the rod = %6.4f m', x); \n",
"\n",
"// Result\n",
"// The velocity of pulse inside the rod = 1.25e+004 m/s\n",
"// The position of pulse inside the rod = 0.1875 m "
   ]
   }
,
{
		   "cell_type": "markdown",
		   "metadata": {},
		   "source": [
			"## Example 8.6: Maximum_acceleration_and_displacement_of_a_quartz_ultrasonic_transducer.sce"
		   ]
		  },
  {
"cell_type": "code",
	   "execution_count": null,
	   "metadata": {
	    "collapsed": true
	   },
	   "outputs": [],
"source": [
"// Scilab Code Ex8.6: Page-431 (2011)\n",
"clc;clear;\n",
"I = 2.5e+004;....// Sound intensity, W/meter-square\n",
"v = 1480;....// Sound velocity, m/s\n",
"rho_w = 1000;....// Density of water, kg/meter-cube\n",
"rho_c = 2650;....// Density of crystal of transducer, kg/meter-cube\n",
"d = 0.001;....// Thickness of the quartz, m\n",
"f = 20e+003;....// Frequency of sound in water, Hz\n",
"// As sound intensity, I = p^2/(2*rho1*v), solving for p\n",
"p = sqrt(2*rho_w*v*I);    // Pressure in the medium, N/metre-square\n",
"a = p/(d*rho_c);    // Maximum acceleration of the quartz ultrasonic transducer, metre/second-square\n",
"printf('\nThe maximum acceleration produced in quartz transducer = %4.2e metre/second-square', a);\n",
"y = a/(2*%pi*f)^2;    // Maximum displacement of the quartz transducer, m\n",
"printf('\nThe maximum displacement of quartz transducer = %3.1f micron', y/1e-006);\n",
"\n",
"// Result\n",
"// The maximum acceleration produced in quartz transducer = 1.03e+005 metre/second-square\n",
"// The maximum displacement of quartz transducer = 6.5 micron"
   ]
   }
,
{
		   "cell_type": "markdown",
		   "metadata": {},
		   "source": [
			"## Example 8.7: Fundamental_frequency_of_a_magnetostrictive_hydrophone.sce"
		   ]
		  },
  {
"cell_type": "code",
	   "execution_count": null,
	   "metadata": {
	    "collapsed": true
	   },
	   "outputs": [],
"source": [
"// Scilab Code Ex8.7: Page-432 (2011)\n",
"clc;clear;\n",
"L = 0.2;....// Length of a magnetostrictive hydrophone, m\n",
"lambda = 2*L;....// Wavelength of ultrasonic wave, m\n",
"v = 4900;....// Velocity of ultrasonic beam in water, m/s\n",
"f = v/lambda;....// Fundamental frequency of ultrasonic, KHz\n",
"printf('\nThe fundamental frequency of a magnetostrictive hydrophone = %4.2f KHz', f/1e+03);\n",
"\n",
"// Result\n",
"// The fundamental frequency of a magnetostrictive hydrophone = 12.25 KHz "
   ]
   }
,
{
		   "cell_type": "markdown",
		   "metadata": {},
		   "source": [
			"## Example 8.8: Length_of_the_copper_wire_used_to_introduce_ultrasonic_delay.sce"
		   ]
		  },
  {
"cell_type": "code",
	   "execution_count": null,
	   "metadata": {
	    "collapsed": true
	   },
	   "outputs": [],
"source": [
"// Scilab Code Ex8.8: Page-432 (2011)\n",
"clc;clear;\n",
"v = 3700;....// Velocity of ultrasonic beam in copper, m/s\n",
"t = 1e-006;....// Delay time for ultrasonic beam, s\n",
"L = v*t;    // // Length of a copper wire required for a delay, m\n",
"printf('\nThe length of a copper wire required for a delay = %6.4f m', L);\n",
"\n",
"// Result\n",
"// The length of a copper wire required for a delay = 0.0037 m "
   ]
   }
],
"metadata": {
		  "kernelspec": {
		   "display_name": "Scilab",
		   "language": "scilab",
		   "name": "scilab"
		  },
		  "language_info": {
		   "file_extension": ".sce",
		   "help_links": [
			{
			 "text": "MetaKernel Magics",
			 "url": "https://github.com/calysto/metakernel/blob/master/metakernel/magics/README.md"
			}
		   ],
		   "mimetype": "text/x-octave",
		   "name": "scilab",
		   "version": "0.7.1"
		  }
		 },
		 "nbformat": 4,
		 "nbformat_minor": 0
}
