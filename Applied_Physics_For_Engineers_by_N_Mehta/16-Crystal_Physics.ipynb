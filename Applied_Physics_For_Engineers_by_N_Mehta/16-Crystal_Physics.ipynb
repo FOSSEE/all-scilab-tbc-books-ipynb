{
"cells": [
 {
		   "cell_type": "markdown",
	   "metadata": {},
	   "source": [
       "# Chapter 16: Crystal Physics"
	   ]
	},
{
		   "cell_type": "markdown",
		   "metadata": {},
		   "source": [
			"## Example 16.10: Interplanar_spacing_in_tetragonal_crystal_lattice.sce"
		   ]
		  },
  {
"cell_type": "code",
	   "execution_count": null,
	   "metadata": {
	    "collapsed": true
	   },
	   "outputs": [],
"source": [
"// Scilab Code Ex16.10 : Page-824 (2011)\n",
"clc; clear;\n",
"a = 2.5, b = 2.5, c = 1.8;    // Lattice parameter of tetragonal crystal, angstrom\n",
"h = 1; k = 1; l = 1; // Miller Indices for planes in a tetragonal crystal\n",
"d_hkl = 1/sqrt((h/a)^2+(k/b)^2+(l/c)^2);  // The interplanar spacing for tetragonal crystals, m\n",
"printf('\nThe interplanar spacing between consecutive (111) planes = %4.2f angstrom', d_hkl);\n",
"\n",
"// Result \n",
"// The interplanar spacing between consecutive (111) planes = 1.26 angstrom "
   ]
   }
,
{
		   "cell_type": "markdown",
		   "metadata": {},
		   "source": [
			"## Example 16.1: Miller_indices_of_the_crystal_plane.sce"
		   ]
		  },
  {
"cell_type": "code",
	   "execution_count": null,
	   "metadata": {
	    "collapsed": true
	   },
	   "outputs": [],
"source": [
"// Scilab Code Ex16.1 : Page-820 (2011)\n",
"clc; clear;\n",
"p = 1; q = 2; r = 3; // Coefficients of intercepts along three axes\n",
"p_inv = 1/p;        // Reciprocate the first coefficient\n",
"q_inv = 1/q;        // Reciprocate the second coefficient\n",
"r_inv = 1/r;        // Reciprocate the third coefficient\n",
"mul_fact = double(lcm(int32([p,q,r]))); // Find l.c.m. of m,n and p\n",
"m1 = p_inv*mul_fact;    // Clear the first fraction\n",
"m2 = q_inv*mul_fact;    // Clear the second fraction\n",
"m3 = r_inv*mul_fact;    // Clear the third fraction\n",
"printf('\nThe required miller indices are : (%d %d %d) ', m1,m2,m3);\n",
"\n",
"// Result \n",
"// The required miller indices are : (6 3 2)  "
   ]
   }
,
{
		   "cell_type": "markdown",
		   "metadata": {},
		   "source": [
			"## Example 16.2: Miller_indices_of_the_lattice_plane.sce"
		   ]
		  },
  {
"cell_type": "code",
	   "execution_count": null,
	   "metadata": {
	    "collapsed": true
	   },
	   "outputs": [],
"source": [
"// Scilab Code Ex16.2 : Page-820 (2011)\n",
"clc; clear;\n",
"p = 2; q = 3; r = -4; // Coefficients of intercepts along three axes\n",
"p_inv = 1/p;        // Reciprocate the first coefficient\n",
"q_inv = 1/q;        // Reciprocate the second coefficient\n",
"r_inv = 1/r;        // Reciprocate the third coefficient\n",
"mul_fact = double(lcm(int32([p,q,abs(r)]))); // Find l.c.m. of m,n and p\n",
"m1 = p_inv*mul_fact;    // Clear the first fraction\n",
"m2 = q_inv*mul_fact;    // Clear the second fraction\n",
"m3 = r_inv*mul_fact;    // Clear the third fraction\n",
"printf('\nThe miller indices of laticce plane are : (%d %d %d) ', m1,m2,m3);\n",
"\n",
"// Result \n",
"// The miller indices of laticce plane are : (6 4 -3)  "
   ]
   }
,
{
		   "cell_type": "markdown",
		   "metadata": {},
		   "source": [
			"## Example 16.3: Miller_indices_of_the_set_of_parallel_planes.sce"
		   ]
		  },
  {
"cell_type": "code",
	   "execution_count": null,
	   "metadata": {
	    "collapsed": true
	   },
	   "outputs": [],
"source": [
"// Scilab Code Ex16.3 : Page-821 (2011)\n",
"clc; clear;\n",
"p = 3; q = 4; r = %inf; // Coefficients of intercepts along three axes\n",
"p_inv = 1/p;        // Reciprocate the first coefficient\n",
"q_inv = 1/q;        // Reciprocate the second coefficient\n",
"r_inv = 1/r;        // Reciprocate the third coefficient\n",
"mul_fact = double(lcm(int32([p,q]))); // Find l.c.m. of m,n and p\n",
"m1 = p_inv*mul_fact;    // Clear the first fraction\n",
"m2 = q_inv*mul_fact;    // Clear the second fraction\n",
"m3 = r_inv*mul_fact;    // Clear the third fraction\n",
"printf('\nThe miller indices of the given planes are : (%d %d %d) ', m1,m2,m3);\n",
"\n",
"// Result \n",
"// The miller indices of the given planes are : (4 3 0)  "
   ]
   }
,
{
		   "cell_type": "markdown",
		   "metadata": {},
		   "source": [
			"## Example 16.4: Length_of_the_intercepts_on_Y_and_Z_axes.sce"
		   ]
		  },
  {
"cell_type": "code",
	   "execution_count": null,
	   "metadata": {
	    "collapsed": true
	   },
	   "outputs": [],
"source": [
"// Scilab Code Ex16.4 : Page-822 (2011)\n",
"clc; clear;\n",
"p = 1.2;  // First coefficient of intercept along X-axis, angstrom\n",
"a = 1.2, b = 1.8, c = 2.0;    // Lattice parameters along three axes, angstrom\n",
"h = 2, k = 3, l = 1;    // Miller indices of lattice plane\n",
"// As p:q:r = a/h:b/k:c/l, solving for q and r\n",
"q = p*(b/k)/(a/h); // Second coefficient of intercept along X-axis, angstrom   \n",
"r = p*(c/l)/(a/h); // Third coefficient of intercept along X-axis, angstrom   \n",
"printf('\nThe lengths of the intercepts on Y and Z axes are %3.1f angstrom and %3.1f angstrom respectively', q, r);\n",
"\n",
"// Result \n",
"// The lengths of the intercepts on Y and Z axes are 1.2 angstrom and 4.0 angstrom respectively "
   ]
   }
,
{
		   "cell_type": "markdown",
		   "metadata": {},
		   "source": [
			"## Example 16.5: Lattice_constant_for_NaCl_crystal.sce"
		   ]
		  },
  {
"cell_type": "code",
	   "execution_count": null,
	   "metadata": {
	    "collapsed": true
	   },
	   "outputs": [],
"source": [
"// Scilab Code Ex16.5 : Page-822 (2011)\n",
"clc; clear;\n",
"M = 58.5;        // Molecular weight of NaCl, g-mole\n",
"rho = 2.198e+03;    // Density of Nacl, kg per metre cube\n",
"n = 4;    // No. of atoms per unit cell for an fcc lattice of NaCl crystal\n",
"NA = 6.023D+26;    // Avogadro's No., atoms/k-mol\n",
"// Volume of the unit cell is given by\n",
"// a^3 = M*n/(N*d)\n",
"// Solving for a\n",
"a = (n*M/(rho*NA))^(1/3);    // Lattice constant of unit cell of NaCl\n",
"printf('\nLattice constant for the NaCl crystal = %4.2f angstrom', a/1e-010);\n",
"\n",
"// Result \n",
"// Lattice constant for the NaCl crystal = 5.61 angstrom "
   ]
   }
,
{
		   "cell_type": "markdown",
		   "metadata": {},
		   "source": [
			"## Example 16.6: Lattice_constant_for_KBr_crystal.sce"
		   ]
		  },
  {
"cell_type": "code",
	   "execution_count": null,
	   "metadata": {
	    "collapsed": true
	   },
	   "outputs": [],
"source": [
"// Scilab Code Ex16.6 :Page-823 (2011)\n",
"clc; clear;\n",
"M = 119;        // Molecular weight of KBr, g-mole\n",
"rho = 2.7;    // Density of KBr, g per cm-cube\n",
"n = 4;    // No. of atoms per unit cell for an fcc lattice of KBr crystal\n",
"NA = 6.023D+23;    // Avogadro's No., atoms/mol\n",
"// Volume of the unit cell is given by\n",
"// a^3 = M*n/(N*d)\n",
"// Solving for a\n",
"a = (n*M/(rho*NA))^(1/3);    // Lattice constant of unit cell of KBr\n",
"printf('\nLattice constant for the KBr crystal = %4.2f angstrom', a/1e-008);\n",
"\n",
"// Result \n",
"// Lattice constant for the KBr crystal = 6.64 angstrom "
   ]
   }
,
{
		   "cell_type": "markdown",
		   "metadata": {},
		   "source": [
			"## Example 16.7: Lattice_constant_for_Cu_and_distance_between_the_two_nearest_Cu_atoms.sce"
		   ]
		  },
  {
"cell_type": "code",
	   "execution_count": null,
	   "metadata": {
	    "collapsed": true
	   },
	   "outputs": [],
"source": [
"// Scilab Code Ex16.7 : Page-823 (2011)\n",
"clc; clear;\n",
"M = 63.5;        // Molecular weight of Cu, g-mole\n",
"rho = 8.96;    // Density of Cu, g per cm-cube\n",
"n = 4;    // No. of atoms per unit cell for an fcc lattice of Cu \n",
"NA = 6.023D+23;    // Avogadro's No., atoms/mol\n",
"// Volume of the unit cell is given by\n",
"// a^3 = M*n/(N*d)\n",
"// Solving for a\n",
"a = (n*M/(rho*NA))^(1/3);    // Lattice constant of unit cell of Cu\n",
"d = a/sqrt(2);    // Distance between the two nearest Cu atoms, angstrom \n",
"printf('\nLattice constant for the Cu crystal = %4.2f angstrom', a/1e-008);\n",
"printf('\nThe distance between the two nearest Cu atoms = %4.2f angstrom', d/1e-008);\n",
"\n",
"// Result \n",
"// Lattice constant for the Cu crystal = 3.61 angstrom\n",
"// The distance between the two nearest Cu atoms = 2.55 angstrom "
   ]
   }
,
{
		   "cell_type": "markdown",
		   "metadata": {},
		   "source": [
			"## Example 16.8: Inter_planar_spacing_for_lattice_planes.sce"
		   ]
		  },
  {
"cell_type": "code",
	   "execution_count": null,
	   "metadata": {
	    "collapsed": true
	   },
	   "outputs": [],
"source": [
"// Scilab Code Ex16.8 : Page-824 (2011)\n",
"clc; clear;\n",
"a = 1;    // For simplicity assume lattice parameter of cubic crystal to be unity, unit\n",
"// For (011) planes\n",
"h = 0; k = 1; l = 1; // Miller Indices for planes in a cubic crystal\n",
"d_011 = a/(h^2+k^2+l^2)^(1/2);  // The interplanar spacing for cubic crystals, m\n",
"printf('\nThe interplanar spacing between consecutive (011) planes = a/sqrt(%d)', 1/d_011^2);\n",
"\n",
"// For (101) planes\n",
"h = 1; k = 0; l = 1; // Miller Indices for planes in a cubic crystal\n",
"d_101 = a/(h^2+k^2+l^2)^(1/2);  // The interplanar spacing for cubic crystals, m\n",
"printf('\nThe interplanar spacing between consecutive (101) planes = a/sqrt(%d)', 1/d_101^2);\n",
"\n",
"// For (112) planes\n",
"h = 1; k = 1; l = 2; // Miller Indices for planes in a cubic crystal\n",
"d_112 = a/(h^2+k^2+l^2)^(1/2);  // The interplanar spacing for cubic crystals, m\n",
"printf('\nThe interplanar spacing between consecutive (112) planes = a/sqrt(%d)', 1/d_112^2);\n",
"\n",
"// Result \n",
"// The interplanar spacing between consecutive (011) planes = a/sqrt(2)\n",
"// The interplanar spacing between consecutive (101) planes = a/sqrt(2)\n",
"// The interplanar spacing between consecutive (112) planes = a/sqrt(5) "
   ]
   }
,
{
		   "cell_type": "markdown",
		   "metadata": {},
		   "source": [
			"## Example 16.9: Interplanar_spacing_in_cubic_crystal.sce"
		   ]
		  },
  {
"cell_type": "code",
	   "execution_count": null,
	   "metadata": {
	    "collapsed": true
	   },
	   "outputs": [],
"source": [
"// Scilab Code Ex16.9 : Page-824 (2011)\n",
"clc; clear;\n",
"a = 4.2e-010;    // Lattice parameter of cubic crystal, m\n",
"h = 3; k = 2; l = 1; // Miller Indices for planes in a cubic crystal\n",
"d_321 = a/(h^2+k^2+l^2)^(1/2);  // The interplanar spacing for cubic crystals, m\n",
"printf('\nThe interplanar spacing between consecutive (321) planes = %4.2f angstrom', d_321/1e-010);\n",
"\n",
"// Result \n",
"// The interplanar spacing between consecutive (321) planes = 1.12 angstrom "
   ]
   }
],
"metadata": {
		  "kernelspec": {
		   "display_name": "Scilab",
		   "language": "scilab",
		   "name": "scilab"
		  },
		  "language_info": {
		   "file_extension": ".sce",
		   "help_links": [
			{
			 "text": "MetaKernel Magics",
			 "url": "https://github.com/calysto/metakernel/blob/master/metakernel/magics/README.md"
			}
		   ],
		   "mimetype": "text/x-octave",
		   "name": "scilab",
		   "version": "0.7.1"
		  }
		 },
		 "nbformat": 4,
		 "nbformat_minor": 0
}
