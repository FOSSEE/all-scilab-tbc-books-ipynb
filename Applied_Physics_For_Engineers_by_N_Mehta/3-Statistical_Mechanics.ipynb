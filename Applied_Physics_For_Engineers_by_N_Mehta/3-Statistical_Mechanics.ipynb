{
"cells": [
 {
		   "cell_type": "markdown",
	   "metadata": {},
	   "source": [
       "# Chapter 3: Statistical Mechanics"
	   ]
	},
{
		   "cell_type": "markdown",
		   "metadata": {},
		   "source": [
			"## Example 3.11: Fermi_energy_of_the_Na_at_absolute_zero.sce"
		   ]
		  },
  {
"cell_type": "code",
	   "execution_count": null,
	   "metadata": {
	    "collapsed": true
	   },
	   "outputs": [],
"source": [
"// Scilab Code Ex3.11: Page:138 (2011) \n",
"clc;clear;\n",
"r = 1.86e-10;....// Radius of Na, angstrom\n",
"m = 9.1e-31;....// Mass of electron,in kg\n",
"h = 6.62e-34;....// Planck's constant, J-s\n",
"N = 2;....// Number of free electrons in a unit cell of Na\n",
"a = 4*r/sqrt(3);....// Volume of Na, m\n",
"V = a^3;....// Volume of the unit cell of Na, meter cube\n",
"E = h^2/(2*m)*(3*N/(8*%pi*V))^(2/3);\n",
"printf('\nThe fermi energy of the Na at absolute zero is = %4.2e J', E);\n",
"\n",
"// Result\n",
"// The fermi energy of the Na at absolute zero = 5.02e-019 J "
   ]
   }
,
{
		   "cell_type": "markdown",
		   "metadata": {},
		   "source": [
			"## Example 3.12: Fermi_energy_of_silver_in_metallic_state.sce"
		   ]
		  },
  {
"cell_type": "code",
	   "execution_count": null,
	   "metadata": {
	    "collapsed": true
	   },
	   "outputs": [],
"source": [
"// Scilab Code Ex3.12:Page-139 (2011) \n",
"clc;clear;\n",
"m = 9.1e-31;....// mass of electron, kg\n",
"h = 6.62e-34;....// Planck's constant, J-s\n",
"V = 108/10.5*1e-06;....// Volume of 1 gm mole of silver, metre-cube\n",
"N = 6.023e+023;    // Avogadro's number\n",
"E_F = h^2/(2*m)*(3*N/(8*%pi*V))^(2/3);    // Fermi energy at absolute zero, J\n",
"printf('\nThe fermi energy of the silver at absolute zero = %4.2e J',E_F);  \n",
"\n",
"// Result\n",
"// The fermi energy of the silver at absolute zero = 8.80e-019 J "
   ]
   }
,
{
		   "cell_type": "markdown",
		   "metadata": {},
		   "source": [
			"## Example 3.13: Fermi_energy_of_free_electrons_in_cesium.sce"
		   ]
		  },
  {
"cell_type": "code",
	   "execution_count": null,
	   "metadata": {
	    "collapsed": true
	   },
	   "outputs": [],
"source": [
"// Scilab Code Ex3.14: Electron density in lithium at absolute zero: Page:140 (2011) \n",
"clc;clear;\n",
"e = 1.6e-019;    // Energy equivalent of 1 eV, J/eV\n",
"m = 9.1e-31;....// Mass of the elecron, kg \n",
"h = 6.63e-34;    // Planck's constant, Js\n",
"EF = 4.72*e;....// Fermi energy of free electrons in Li, J\n",
"rho = 8*%pi/3*(2*m*EF/h^2)^(3/2);    // Electron density at absolute zero, electrons/metre-cube\n",
"printf('\nThe electron density in lithium at absolute zero = %4.2e electrons/metre-cube', rho);\n",
"\n",
"// Result\n",
"// The electron density in lithium at absolute zero = 4.63e+028 electrons/metre-cube "
   ]
   }
,
{
		   "cell_type": "markdown",
		   "metadata": {},
		   "source": [
			"## Example 3.15: Temperature_at_which_the_level_above_the_fermi_level_is_occupied_by_the_electro.sce"
		   ]
		  },
  {
"cell_type": "code",
	   "execution_count": null,
	   "metadata": {
	    "collapsed": true
	   },
	   "outputs": [],
"source": [
"// Scilab Code Ex3.15: Page:140 (2011) \n",
"clc;clear;\n",
"e = 1.6e-019;    // Energy equivalent of 1 eV, J/eV\n",
"k_B = 1.38e-023;    // Boltzmann constant, J/K\n",
"f_E = 0.01;....// Probability that a state with energy 0.5 eV above the Fermi energy is occupied by an electron, eV \n",
"delta_E = 0.5;    // Energy difference (E-Ef)of fermi energy, eV\n",
"// Since f_E = 1/(exp((E-Ef)/(k_B*T))+1), solvinf for T \n",
"T = delta_E/(log((1-f_E)/f_E)*k_B/e);  // Temperature at which the level above the fermi level is occupied by the electron, K\n",
"\n",
"printf('\nThe temperature at which the level above the fermi level is occupied by the electron = %4d K', ceil(T));\n",
"\n",
"// Result\n",
"// The temperature at which the level above the fermi level is occupied by the electron = 1262 K "
   ]
   }
,
{
		   "cell_type": "markdown",
		   "metadata": {},
		   "source": [
			"## Example 3.1: Probability_of_existence_of_oxygen_molecules_within_the_given_velocity_range.sce"
		   ]
		  },
  {
"cell_type": "code",
	   "execution_count": null,
	   "metadata": {
	    "collapsed": true
	   },
	   "outputs": [],
"source": [
"// Scilab Code Ex3.1: Page:132 (2011) \n",
"clc;clear;\n",
"m = 5.32e-26;   // Mass of one oxygen molecule, kg\n",
"k_B = 1.38e-23;  // Boltzmann constant, J/K\n",
"T = 200;    // Temperature of the system, K\n",
"v = 100;    // Speed of the oxygen molecules, m/s\n",
"dv = 1;     // Increase in speed of the oxygen molecules, m/s\n",
"P = 4*%pi*(m/(2*%pi*k_B*T))^(3/2)*exp(-m*v^2/(2*k_B*T))*v^2*dv;\n",
"printf('\nThe probability that the speed of oxygen molecule is %4.2e', P) ;\n",
"\n",
"// Result\n",
"// The probability that the speed of oxygen molecule is 6.13e-04 "
   ]
   }
,
{
		   "cell_type": "markdown",
		   "metadata": {},
		   "source": [
			"## Example 3.2: Probability_that_the_speed_of_oxygen_molecules.sce"
		   ]
		  },
  {
"cell_type": "code",
	   "execution_count": null,
	   "metadata": {
	    "collapsed": true
	   },
	   "outputs": [],
"source": [
"// Scilab Code Ex3.2 : Page:132 (2011)\n",
"clc;clear;\n",
"A = 32;     // Gram atomic mass of oxygen, g/mol\n",
"N_A = 6.023e+026;   // Avogadro's number, per kmol\n",
"m = A/N_A;....//mass of the molecule, kg\n",
"k_B = 1.38e-23;....// Boltzmann constant, J/K \n",
"T = 273;....// Temperature of the gas, K\n",
"v_av = 1.59*sqrt(k_B*T/m);....// Average speed of oxygen molecule, m/s\n",
"printf('\nThe average speed of oxygen molecule is = %3d m/s', v_av);\n",
"v_rms = 1.73*sqrt(k_B*T/m);....// The mean square speed of oxygen molecule, m/s \n",
"printf('\nThe root mean square speed of oxygen gas molecule is = %3d m/s', ceil(v_rms))\n",
"v_mp = 1.41*sqrt(k_B*T/m);....// The most probable speed of oxygen molecule, m/s \n",
"printf('\nThe most probable speed of oxygen molecule is = %3d m/s', ceil(v_mp));\n",
"\n",
"// Result\n",
"// The average speed of oxygen molecule is = 423 m/s\n",
"// The root mean square speed of oxygen gas molecule is = 461 m/s\n",
"// The most probable speed of oxygen molecule is = 376 m/s "
   ]
   }
,
{
		   "cell_type": "markdown",
		   "metadata": {},
		   "source": [
			"## Example 3.3: Temperature_to_produce_invariant_average_speed_of_hydrogen_molecule.sce"
		   ]
		  },
  {
"cell_type": "code",
	   "execution_count": null,
	   "metadata": {
	    "collapsed": true
	   },
	   "outputs": [],
"source": [
"// Scilab Code Ex3.3: Page:133 (2011) \n",
"clc;clear;\n",
"m_H = 2;    // Gram molecular mass of hydrogen, g\n",
"m_O = 32;   // Gram molecular mass of oxygen, g\n",
"k_B = 1.38e-23;....// Boltzmann constant, J/K \n",
"v_avO = 1;....// For simplicity average speed of oxygen gas molecule is assumed to be unity, m/s\n",
"v_avH = 2*v_avO;....// The average speed of hydrrogen gas molecule, m/s\n",
"T_O = 300;  // Temperature of oxygen gas, K\n",
"// As v_avO/v_av_H = sqrt(T_O/T_H)*sqrt(m_H/m_O), solving for T_H\n",
"T_H = (v_avH/v_avO*sqrt(m_H/m_O)*sqrt(T_O))^2; // Temperature at which the average speed of hydrogen gas molecules is the same as that of oxygen gas molecules, K\n",
"printf('\nTemperature at which the average speed of hydrogen gas molecules is the same as that of oxygen gas molecules at 300 K = %2d', T_H); \n",
"\n",
"// Result\n",
"// Temperature at which the average speed of hydrogen gas molecules is the same as that of oxygen gas molecules at 300 K = 75 \n",
"\n",
"\n",
"\n",
"\n",
""
   ]
   }
,
{
		   "cell_type": "markdown",
		   "metadata": {},
		   "source": [
			"## Example 3.4: Fraction_of_oxygen_gas_molecules_within_one_percent_of_most_probable_speed.sce"
		   ]
		  },
  {
"cell_type": "code",
	   "execution_count": null,
	   "metadata": {
	    "collapsed": true
	   },
	   "outputs": [],
"source": [
"// Scilab Code Ex3.4: Page:133 (2011) \n",
"clc;clear;\n",
"v_mp = 1;   // Most probable speed of gas molecules, m/s\n",
"dv = 1.01*v_mp-0.99*v_mp;   // Change in most probable speed, m/s\n",
"v = v_mp;   // Speed of the gas molecules, m/s\n",
"Frac = 4/sqrt(%pi)*1/v_mp^3*exp(-v^2/v_mp^2)*v^2*dv; \n",
"printf('\nThe fraction of oxygen gas molecules within one percent of most probable speed = %5.3f', Frac);\n",
"\n",
"// Result \n",
"// The fraction of oxygen gas molecules within one percent of most probable speed = 0.017 \n",
"\n",
"\n",
""
   ]
   }
,
{
		   "cell_type": "markdown",
		   "metadata": {},
		   "source": [
			"## Example 3.5: Most_probable_distribution_of_5_distinguishable_particles_among_3_cells.sce"
		   ]
		  },
  {
"cell_type": "code",
	   "execution_count": null,
	   "metadata": {
	    "collapsed": true
	   },
	   "outputs": [],
"source": [
"// Scilab Code Ex3.5: Page:134 (2011) \n",
"clc;clear;\n",
"n = 5;  // Number of distinguishable particles which are to be distributed among cells\n",
"n1 = [5 4 3 3 2];   // Possible occupancy of particles in first cell\n",
"n2 = [0 1 2 1 2];   // Possible occupancy of particles in second cell\n",
"n3 = [0 0 0 1 1];   // Possible occupancy of particles in third cell\n",
"BIG_W = 0;\n",
"printf('\n_____________________________________');\n",
"printf('\nn1      n2      n3      5/(n1!n2!n3!)');\n",
"printf('\n_____________________________________');\n",
"for i = 1:1:5\n",
"W = factorial(n)/(factorial(n1(i))*factorial(n2(i))*factorial(n3(i)));\n",
"if BIG_W < W then\n",
"    BIG_W = W;\n",
"    ms = [n1(i) n2(i) n3(i)];\n",
"end\n",
"printf('\n%d      %d      %d          %d', n1(i), n2(i), n3(i), W);\n",
"end\n",
"printf('\n_____________________________________');\n",
"printf('\nThe macrostates of most probable distribution with thermodynamic probability %d are:', BIG_W);\n",
"printf('\n(%d, %d, %d), (%d, %d, %d) and (%d, %d, %d)', ms(1), ms(2), ms(3), ms(2), ms(3), ms(1),ms(3), ms(1), ms(2));\n",
"\n",
"// Result\n",
"// _____________________________________\n",
"// n1      n2      n3      5/(n1!n2!n3!)\n",
"// _____________________________________\n",
"//5      0      0          1\n",
"// 4      1      0          5\n",
"// 3      2      0          10\n",
"// 3      1      1          20\n",
"// 2      2      1          30\n",
"// _____________________________________\n",
"// The macrostates of most probable distribution with thermodynamic probability 30 are:\n",
"// (2, 2, 1), (2, 1, 2) and (1, 2, 2) "
   ]
   }
,
{
		   "cell_type": "markdown",
		   "metadata": {},
		   "source": [
			"## Example 3.6: EX3_6.sce"
		   ]
		  },
  {
"cell_type": "code",
	   "execution_count": null,
	   "metadata": {
	    "collapsed": true
	   },
	   "outputs": [],
"source": [
"// Scilab Code Ex3.6: Page:135 (2011) \n",
"clc;clear;\n",
"g1 = 4;     // Intrinsic probability of first cell\n",
"g2 = 2;     // Intrinsic probability of second cell\n",
"k = 2;      // Number of cells \n",
"n = 8;     // Number of distinguishable particles\n",
"n1 = 8;     // Number of cells in first compartment\n",
"n2 = n - n1;     // Number of cells in second compartment\n",
"W = factorial(n)*1/factorial(n1)*1/factorial(n2)*(g1)^n1*(g2)^n2;\n",
"printf('\nThe thermodynamic probability of the macrostate (8,0) = %5d', W); \n",
"\n",
"// Result\n",
"// The thermodynamic probability of the macrostate (8,0) = 65536 \n",
"\n",
""
   ]
   }
,
{
		   "cell_type": "markdown",
		   "metadata": {},
		   "source": [
			"## Example 3.7: Three_particles_obeying_Bose_Einstein_statistics_distributed_in_three_cells.sce"
		   ]
		  },
  {
"cell_type": "code",
	   "execution_count": null,
	   "metadata": {
	    "collapsed": true
	   },
	   "outputs": [],
"source": [
"// Scilab Code Ex3.7 : Page:135 (2011) \n",
"clc;clear;\n",
"function str = st(val)\n",
"    str = emptystr();\n",
"    if val == 3 then\n",
"        str = 'aaa';\n",
"    elseif val == 2 then\n",
"        str = 'aa'; \n",
"    elseif val == 1 then\n",
"        str = 'a';\n",
"    elseif val == 0 then \n",
"        str = '0';           \n",
"    end\n",
"endfunction\n",
"\n",
"g = 3; // Number of cells in first compartment\n",
"n = 3; // Number of bosons\n",
"p = 3;\n",
"r = 1;   // Index for number of rows\n",
"clc;\n",
"printf('\nAll possible meaningful arrangements of three particles in three cells are:')\n",
"printf('\n__________________________');\n",
"printf('\nCell 1    Cell 2    Cell 3');\n",
"printf('\n__________________________');\n",
"for i = 0:1:g\n",
"    for j = 0:1:n\n",
"        for k = 0:1:p\n",
"            if (i+j+k == 3) then\n",
"      printf('\n%4s     %4s      %4s', st(i), st(j), st(k));  \n",
"            end\n",
"        end\n",
"    end\n",
"end\n",
"printf('\n__________________________');\n",
"\n",
"// Result\n",
"// All possible meaningful arrangements of three particles in three cells are:\n",
"// __________________________\n",
"// Cell 1    Cell 2    Cell 3\n",
"// __________________________\n",
"//   0        0       aaa\n",
"//    0        a        aa\n",
"//    0       aa         a\n",
"//    0      aaa         0\n",
"//    a        0        aa\n",
"//    a        a         a\n",
"//    a       aa         0\n",
"//   aa        0         a\n",
"//   aa        a         0\n",
"//  aaa        0         0\n",
"// __________________________ "
   ]
   }
,
{
		   "cell_type": "markdown",
		   "metadata": {},
		   "source": [
			"## Example 3.8: Probability_of_macrostate.sce"
		   ]
		  },
  {
"cell_type": "code",
	   "execution_count": null,
	   "metadata": {
	    "collapsed": true
	   },
	   "outputs": [],
"source": [
"// Scilab Code Ex3.8 : Page:136 (2011) \n",
"clc;clear;\n",
"g1 = 3; // Number of cells in first compartment\n",
"g2 = 4; // Number of cells in second compartment\n",
"k = 2;  // Number of compartments\n",
"n1 = 5; // Number of bosons\n",
"n2 = 0; // Number of with no bosons\n",
"W_50 = factorial(g1+n1-1)*factorial(g2+n2-1)/(factorial(n1)*factorial(g1-1)*factorial(n2)*factorial(g2-1));\n",
"printf('\nThe probability for the macrostate (5,0) is = %2d', W_50); \n",
"\n",
"// Result\n",
"// The probability for the macrostate (5,0) is = 21 "
   ]
   }
],
"metadata": {
		  "kernelspec": {
		   "display_name": "Scilab",
		   "language": "scilab",
		   "name": "scilab"
		  },
		  "language_info": {
		   "file_extension": ".sce",
		   "help_links": [
			{
			 "text": "MetaKernel Magics",
			 "url": "https://github.com/calysto/metakernel/blob/master/metakernel/magics/README.md"
			}
		   ],
		   "mimetype": "text/x-octave",
		   "name": "scilab",
		   "version": "0.7.1"
		  }
		 },
		 "nbformat": 4,
		 "nbformat_minor": 0
}
