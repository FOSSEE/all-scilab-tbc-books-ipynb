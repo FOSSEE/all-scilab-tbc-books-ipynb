{
"cells": [
 {
		   "cell_type": "markdown",
	   "metadata": {},
	   "source": [
       "# Chapter 12: Magnetic Properties of Materials"
	   ]
	},
{
		   "cell_type": "markdown",
		   "metadata": {},
		   "source": [
			"## Example 12.10: Change_in_the_magnetic_dipole_moment_of_the_electron.sce"
		   ]
		  },
  {
"cell_type": "code",
	   "execution_count": null,
	   "metadata": {
	    "collapsed": true
	   },
	   "outputs": [],
"source": [
"// Scilab Code Ex12.10 : Page-608 (2011)\n",
"clc; clear;\n",
"e = 1.6e-19;....// Charge on anlectron, C\n",
"m = 9.1e-31;....// Mass of the electron, kg\n",
"r = 5.1e-11;....// Radius of the electronic orbit, m\n",
"B = 2.0;....// Applied magnetic field, weber per metre-square\n",
"delta_pm = e^2*r^2*B/(4*m);\n",
"printf('\nThe change in the magnetic dipole moment of the electron = %3.1e A-metre square', delta_pm);\n",
"\n",
"// Result\n",
"// The change in the magnetic dipole moment of the electron = 3.7e-29 A-metre square "
   ]
   }
,
{
		   "cell_type": "markdown",
		   "metadata": {},
		   "source": [
			"## Example 12.1: Current_through_the_solenoid.sce"
		   ]
		  },
  {
"cell_type": "code",
	   "execution_count": null,
	   "metadata": {
	    "collapsed": true
	   },
	   "outputs": [],
"source": [
"// Scilab Code Ex12.1 Page-603 (2011)\n",
"clc; clear;\n",
"H = 5e+3;....// Coercivity of a bar magnet, A/m\n",
"L = 0.1;....// Length of the solenoid, m\n",
"N = 50;....// Turns in solenoid\n",
"n = 500;....// Turns/m\n",
"// Using the relation\n",
"I = H/n;....// where I is the current through the solenoid\n",
"printf('\nThe current through the solenoid is = %2d A', I);\n",
"\n",
"// Result\n",
"// The current through the solenoid is = 10 A"
   ]
   }
,
{
		   "cell_type": "markdown",
		   "metadata": {},
		   "source": [
			"## Example 12.2: Magnetic_moment_of_the_iron_rod.sce"
		   ]
		  },
  {
"cell_type": "code",
	   "execution_count": null,
	   "metadata": {
	    "collapsed": true
	   },
	   "outputs": [],
"source": [
"// Scilab Code Ex12.2 : Page-603 (2011)\n",
"clc; clear;\n",
"n = 500;....// Number of turns wound per metre on the solenoid\n",
"i = 0.5;....// Current through the solenoid, A\n",
"V = 1e-03;....// Volume of iron rod, per metre cube\n",
"mu_r = 1200;    // Relative permeability of the iron\n",
"H = n*i;    // Magnetic intensity inside solenoid, ampere-turn per metre\n",
"// As B = mu_o * (H + I) => I = B/mu_o -  H \n",
"// But B = mu_o * mu_r * H and solving for I \n",
"I = (mu_r - 1) * H;\n",
"printf('\nThe Intensity of magnetisation inside the solenoid, I = %5.3e A/m', I);\n",
"M = I * V;    // Magnetic moment of the rod, ampere metre square \n",
"printf('\nThe magnetic moment of the rod, M = %3d ampere metre square', M)\n",
"\n",
"//Result\n",
"// The Intensity of magnetisation inside the solenoid, I = 2.998e+005 A/m\n",
"// The magnetic moment of the rod, M = 299 ampere metre square "
   ]
   }
,
{
		   "cell_type": "markdown",
		   "metadata": {},
		   "source": [
			"## Example 12.3: Magnetic_moment_of_the_rod_placed_inside_the_solenoid.sce"
		   ]
		  },
  {
"cell_type": "code",
	   "execution_count": null,
	   "metadata": {
	    "collapsed": true
	   },
	   "outputs": [],
"source": [
"// Scilab Code Ex12.3 : Page-604 (2011)\n",
"clc; clear;\n",
"n = 300;....// Number of turns wound per metre on the solenoid\n",
"i = 0.5;....// Current through the solenoid, A\n",
"V = 1e-03;....// Volume of iron rod, per metre cube\n",
"mu_r = 100;    // Relative permeability of the iron\n",
"H = n*i;    // Magnetic intensity inside solenoid, ampere-turn per metre\n",
"// As, I = (B-mu_o* H)/mu_o\n",
"//But, B= mu * H = mu_r * mu_o * H and I = (mu_r-1)* H\n",
"I = (mu_r-1)*n*i; \n",
"printf('\nThe Intensity of magnetisation inside the solenoid, I = %5.3e A/m', I);\n",
"l = 0.2;....//length of the rod,m\n",
"r = 5e-3;....//radius of the rod,m\n",
"V = 1.57e-5;....//V=%pi*r^2*l where the volume of the rod having radius r and length,m\n",
" M = I * V ;    // Magnetic moment of the rod, ampere metre square\n",
"printf('\nThe magnetic moment of the rod, M = %5.3f ampere metre square',M)\n",
"\n",
"//Result\n",
"// The Intensity of magnetisation inside the solenoid, I = 1.485e+004 A/m\n",
"// The magnetic moment of the rod, M = 0.233 ampere metre square "
   ]
   }
,
{
		   "cell_type": "markdown",
		   "metadata": {},
		   "source": [
			"## Example 12.4: Magnetizing_force_and_relative_permeability_of_the_material.sce"
		   ]
		  },
  {
"cell_type": "code",
	   "execution_count": null,
	   "metadata": {
	    "collapsed": true
	   },
	   "outputs": [],
"source": [
"// Scilab Code Ex12.4 : Page-605 (2011)\n",
"clc; clear;\n",
"B = 0.0044;....// Magnetic flux density, weber/meter square\n",
"mu_o = 4*%pi*1e-07;....// Relative permeability of the material, henery/m \n",
"I = 3300;....// Magnetization of a magnetic material, A/m\n",
"//B = mu_o*(I+H), solving for H  \n",
"H = (B/mu_o)- I;....// Magnetizing force ,A/m\n",
"printf('\nThe magnetic intensity,H = %3d A/m',H);\n",
"// Relation between intensity of magnetization and relative permeability \n",
"mu_r = (I/H)+1;....//substitute the value of I and H \n",
"printf('\nThe relative permeability, mu_r = %5.2f',mu_r);\n",
"\n",
"//Result\n",
"// The magnetic intensity,H = 201 A/m\n",
"// The relative permeability, mu_r = 17.38 \n",
""
   ]
   }
,
{
		   "cell_type": "markdown",
		   "metadata": {},
		   "source": [
			"## Example 12.5: Magnetic_flux_density_and_magnetic_intensity.sce"
		   ]
		  },
  {
"cell_type": "code",
	   "execution_count": null,
	   "metadata": {
	    "collapsed": true
	   },
	   "outputs": [],
"source": [
"// Scilab Code Ex12.5 : Page-605 (2011)\n",
"clc; clear;\n",
"mu_o = 4*%pi*1e-07;....// Magnetic permeability of the free space, henery/m\n",
"mu_r = 600;\n",
"mu = mu_o*mu_r;     // Magnetic permeability of the medium, henery/m\n",
"n = 500;...// Turns in a wire\n",
"i = 0.3;....// Current flows through a ring,amp\n",
"r = 12e-02/2;....// Mean radius of a ring, m\n",
"B = mu_o*mu_r*n*i/(2*%pi*r);\n",
"printf('\nThe magnetic flux density = %2.1f weber/meter-square', B);\n",
"H = B/mu;   // Magnetic intensity, ampere-turns/m\n",
"printf('\nThe magnetic intensity = %5.1f ampere-turns/m', H);\n",
"// As B = mu_o*(I + H) => mu_o*I = B - mu_o*H\n",
"printf('\nThe percentage magnetic flux density due to electronic loop currents = %5.2f percent', (B - mu_o*H)/B*100);\n",
"\n",
"// Result\n",
"// The magnetic flux density = 0.3 weber/meter-square\n",
"// The magnetic intensity = 397.9 ampere-turns/m\n",
"// The percentage magnetic flux density due to electronic loop currents = 99.83 percent "
   ]
   }
,
{
		   "cell_type": "markdown",
		   "metadata": {},
		   "source": [
			"## Example 12.6: Total_dipole_moment_of_the_sample.sce"
		   ]
		  },
  {
"cell_type": "code",
	   "execution_count": null,
	   "metadata": {
	    "collapsed": true
	   },
	   "outputs": [],
"source": [
"// Scilab Code Ex12.6 : Page-606 (2011)\n",
"clc; clear;\n",
"M_i = 4.5;....// Intial value of total dipole moment of the sample\n",
"H_i = 0.84;....// External magnetic field, tesla\n",
"T_i = 4.2;....// Cooling temerature of the sample, K\n",
"H_f = 0.98;....// External magnetic field, tesla\n",
"T_f = 2.8;....// Cooling temerature of the sample, K\n",
"// According to the curie's law, Mf/Mi = (Hf/Hi)*(Ti/Tf)\n",
"M_f = M_i*H_f/H_i*T_i/T_f;\n",
"printf('\nThe total dipole moment of the sample = %5.3f joule/tesla',M_f);\n",
"\n",
"// Result\n",
"// The total dipole moment of the sample = 7.875 joule/tesla "
   ]
   }
,
{
		   "cell_type": "markdown",
		   "metadata": {},
		   "source": [
			"## Example 12.7: Magnetization_and_magnetic_moment_in_the_bar.sce"
		   ]
		  },
  {
"cell_type": "code",
	   "execution_count": null,
	   "metadata": {
	    "collapsed": true
	   },
	   "outputs": [],
"source": [
"// Scilab Code Ex12.7 : Page-606 (2011)\n",
"clc; clear;\n",
"mu_o = 4*%pi*1e-07;....// Magnetic permeability of free space, henry/m\n",
"n = 1e+29;....// Number density of atoms of iron, per metre cube \n",
"p_m = 1.8e-23;....// Magnetic moment of each atom, ampere-metre square  \n",
"k_B = 1.38e-23;....// Boltzmann constant, J/K\n",
"B = 0.1;    // Magnetic flux density, weber per metre square\n",
"T = 300;....// Absolute room temperature, K\n",
"l = 10e-02; // Length of the iron bar, m\n",
"a = 1e-04;  // Area of cross-section of the iron bar, metre square\n",
"V = l*a;    // Voluem of the iron bar, metre cube\n",
"chi = n*p_m^2*mu_o/(3*k_B*T);\n",
"printf('\nThe paramagnetic susceptibility of a material = %5.3e', chi);\n",
"pm_mean = p_m^2*B/(3*k_B*T); // Mean dipole moment of an iron atom, ampere metre-square\n",
"P_m = n*pm_mean;  // Dipole moment of the bar, ampere metre-square\n",
"I = n*p_m;  // Magnetization of the bar in one domain, ampere/metre\n",
"M = I*V;    // Magnetic moment of the bar, ampere metre-square\n",
"printf('\nThe dipole moment of the bar = %5.3e ampere metre-square', P_m);\n",
"printf('\nThe magnetization of the bar in one domain = %3.1e ampere/metre', I);\n",
"printf('\nThe magnetic moment of the bar = %2d ampere metre-square', M);\n",
"\n",
"// Result\n",
"// The paramagnetic susceptibility of a material = 3.278e-03\n",
"// The dipole moment of the bar = 2.609e+02 ampere metre-square\n",
"// The magnetization of the bar in one domain = 1.8e+06 ampere/metre\n",
"// The magnetic moment of the bar = 18 ampere metre-square "
   ]
   }
,
{
		   "cell_type": "markdown",
		   "metadata": {},
		   "source": [
			"## Example 12.8: Hysteresis_loss_of_energy_per_hour_in_the_iron_core_of_the_transformer.sce"
		   ]
		  },
  {
"cell_type": "code",
	   "execution_count": null,
	   "metadata": {
	    "collapsed": true
	   },
	   "outputs": [],
"source": [
"// Scilab Code Ex12.8 :Page-607 (2011)\n",
"clc; clear;\n",
"A = 500;....// Area of the B-H loop, joule per metre cube\n",
"n = 50;....// Total number of cycles, Hz\n",
"m = 9;....// Mass of the core, kg\n",
"d = 7.5e+3;....// Density of the core, kg/metre cube\n",
"t = 3600;....// Time during which the energy loss takes place, s\n",
"V = m/d;....// Volume of the core, metre cube\n",
"E = n*V*A*t;....// Hystersis loss of energy per hour, joule\n",
"printf('\nThe hystersis loss per hour = %5.2eJ', E);\n",
"\n",
"// Result\n",
"// The hystersis loss per hour = 1.08e+005J "
   ]
   }
,
{
		   "cell_type": "markdown",
		   "metadata": {},
		   "source": [
			"## Example 12.9: Hystersis_loss_from_BH_loop.sce"
		   ]
		  },
  {
"cell_type": "code",
	   "execution_count": null,
	   "metadata": {
	    "collapsed": true
	   },
	   "outputs": [],
"source": [
"// Scilab Code Ex12.9 : Page-607 (2011)\n",
"clc; clear;\n",
"n = 50;....// Total number of cycles per sec, Hz\n",
"V = 1e-03;....// Volume of the specimen, metre cube\n",
"t = 1;....// Time during which the loss occurs, s\n",
"A = 0.25e+03;....// Area of B-H loop, joule per metre cube\n",
"E = n*V*A*t;    // Energy loss due to hysteresis, J/s\n",
"printf('\nThe hystersis loss = %4.1f J/s', E); \n",
"\n",
"// Result\n",
"// The hystersis loss = 12.5 J/s "
   ]
   }
],
"metadata": {
		  "kernelspec": {
		   "display_name": "Scilab",
		   "language": "scilab",
		   "name": "scilab"
		  },
		  "language_info": {
		   "file_extension": ".sce",
		   "help_links": [
			{
			 "text": "MetaKernel Magics",
			 "url": "https://github.com/calysto/metakernel/blob/master/metakernel/magics/README.md"
			}
		   ],
		   "mimetype": "text/x-octave",
		   "name": "scilab",
		   "version": "0.7.1"
		  }
		 },
		 "nbformat": 4,
		 "nbformat_minor": 0
}
