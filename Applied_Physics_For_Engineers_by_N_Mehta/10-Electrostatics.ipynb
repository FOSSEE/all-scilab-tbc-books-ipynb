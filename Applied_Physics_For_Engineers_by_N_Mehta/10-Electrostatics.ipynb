{
"cells": [
 {
		   "cell_type": "markdown",
	   "metadata": {},
	   "source": [
       "# Chapter 10: Electrostatics"
	   ]
	},
{
		   "cell_type": "markdown",
		   "metadata": {},
		   "source": [
			"## Example 10.11: Electric_field_strength_due_to_spherical_charge_distribution.sce"
		   ]
		  },
  {
"cell_type": "code",
	   "execution_count": null,
	   "metadata": {
	    "collapsed": true
	   },
	   "outputs": [],
"source": [
"// Scilab Code Ex10.11: Page:514 (2011) \n",
"clc;clear;\n",
"function e = E(r)\n",
"    a = 1;    // For convenience assume radius of sphere to be unity \n",
"    r = poly(0, 'r');\n",
"    e = r/3-r^3/(5*a^2);\n",
"endfunction\n",
"\n",
"rho_0 = 1;    // For convenience assume charge density to be unity\n",
"epsilon_0 = 1;    // For convenience assume permittivity to be unity\n",
"r = poly(0, 'r');\n",
"E_int = rho_0/epsilon_0*E('r');\n",
"delta_E = derivat(E_int);\n",
"r = roots(delta_E);\n",
"printf('\nThe electric field strength is maximum at an internal point at a distance r = sqrt(%g)a/3 from the centre', (3*r(1))^2);\n",
"\n",
"// Result\n",
"// The electric field strength is maximum at an internal point at a distance r = sqrt(5)a/3 from the centre "
   ]
   }
,
{
		   "cell_type": "markdown",
		   "metadata": {},
		   "source": [
			"## Example 10.12: Maximum_electric_field_strength_at_an_internal_point.sce"
		   ]
		  },
  {
"cell_type": "code",
	   "execution_count": null,
	   "metadata": {
	    "collapsed": true
	   },
	   "outputs": [],
"source": [
"// Scilab Code Ex10.12: Page:517 (2011) \n",
"clc;clear;\n",
"function e = E(r)\n",
"    a = 1;    // For convenience assume radius of sphere to be unity \n",
"    r = poly(0, 'r');\n",
"    e = r/3-r^2/(4*a);\n",
"endfunction\n",
"\n",
"rho_0 = 1;    // For convenience assume charge density to be unity\n",
"epsilon_0 = 1;    // For convenience assume permittivity to be unity\n",
"r = poly(0, 'r');\n",
"E_int = rho_0/epsilon_0*E('r');\n",
"delta_E = derivat(E_int);\n",
"r = roots(delta_E);\n",
"printf('\nThe electric field strength is maximum at an internal point at a distance r = %da/3 from the centre', 3*r);\n",
"\n",
"// Result\n",
"// The electric field strength is maximum at an internal point at a distance r = 2a/3 from the centre"
   ]
   }
,
{
		   "cell_type": "markdown",
		   "metadata": {},
		   "source": [
			"## Example 10.1: Potential_difference_between_the_two_charged_horizontal_plates.sce"
		   ]
		  },
  {
"cell_type": "code",
	   "execution_count": null,
	   "metadata": {
	    "collapsed": true
	   },
	   "outputs": [],
"source": [
"// Scilab Code Ex10.1: Page-507 (2011)\n",
"clc;clear;\n",
"m = 4e-013;....// Mass of the particle, kg\n",
"q = 2.4e-019;....// Charge on particle, C\n",
"d = 2e-002;....// Distance between the two horizontally charged plates, m\n",
"g = 9.8;....//`Acceleration due to gravity, m/sec-square\n",
"E = m*g/q ;....// Electric field strength, N/C\n",
"V = E*d;.....// Potential difference between the two charged horizontal plates, V\n",
"printf('\nThe potential difference between the two horizontally charged plates = %3.1e V', V);\n",
"\n",
"// Result\n",
"// The potential difference between the two horizontally charged plates = 3.3e+005 V \n",
"\n",
""
   ]
   }
,
{
		   "cell_type": "markdown",
		   "metadata": {},
		   "source": [
			"## Example 10.2: Electric_potential_at_a_point_equidistant_from_the_three_corners_of_a_triangle.sce"
		   ]
		  },
  {
"cell_type": "code",
	   "execution_count": null,
	   "metadata": {
	    "collapsed": true
	   },
	   "outputs": [],
"source": [
"// Scilab Code Ex10.2: Page-507 (2011)\n",
"clc;clear;\n",
"q1 = 1e-009;    // Charge at first corner, C\n",
"q2 = 2e-009;    // Charge at second corner, C\n",
"q3 = 3e-009;    // Charge at third corner, C\n",
"d = 1;....// Side of the equilateral triangle, m\n",
"theta = 30;....// Angle at which line joining the observation point to the source charge makes with the side, degrees\n",
"r = (d/2)/cosd(theta);....// Distance of observation point from the charges, m\n",
"//since,1/4*%pi*%eps = 9e+009;\n",
"V = (q1+q2+q3)*(9e+009)/r;.....// Elecric potential, V\n",
"printf('\nThe electric potential at the point equidistant from the three corners of the triangle = %4.1f V', V); \n",
"\n",
"// Result\n",
"// The electric potential at the point equidistant from the three corners of the triangle = 93.5 V \n",
"\n",
"\n",
""
   ]
   }
,
{
		   "cell_type": "markdown",
		   "metadata": {},
		   "source": [
			"## Example 10.3: Electric_potential_at_the_centre_of_a_square.sce"
		   ]
		  },
  {
"cell_type": "code",
	   "execution_count": null,
	   "metadata": {
	    "collapsed": true
	   },
	   "outputs": [],
"source": [
"// Scilab Code Ex10.3: Page-507 (2011)\n",
"clc;clear;\n",
"q = 2e-008;    \n",
"q1 = q;        // Charge at first corner, C\n",
"q2 = -2*q;     // Charge at second corner, C\n",
"q3 = 3*q;      // Charge at third corner, C\n",
"q4 = 2*q;      // Charge at fourth corner, C\n",
"d = 1;....    // Side of the square, m\n",
"r = d*sin(2*%pi/8);....// Distance of centre of the square from each corner, m\n",
"V = (q1+q2+q3+q4)*(9e+009)/r;.....// Elecric potential at the centre of the square, V \n",
"printf('\nThe electric potential at the centre of the square = %4d V', V); \n",
"\n",
"// Result\n",
"// The electric potential at the centre of square = 1018 V \n",
"\n",
"\n",
"\n",
"\n",
""
   ]
   }
,
{
		   "cell_type": "markdown",
		   "metadata": {},
		   "source": [
			"## Example 10.6: New_potential_when_the_two_charged_drops_coalesce_to_form_a_bigger_drop.sce"
		   ]
		  },
  {
"cell_type": "code",
	   "execution_count": null,
	   "metadata": {
	    "collapsed": true
	   },
	   "outputs": [],
"source": [
"// Scilab Code Ex10.6: Page-512 (2011)\n",
"clc;clear;\n",
"V = 60;....// Electric potential of smaller drop, volt\n",
"r = 1;....// For simplcity assume radius of each small drop to be unity, unit\n",
"q = 1;....// For simplicity assume charge on smaller drop to be unity, C\n",
"k = 1;....// For simplicity assume Coulomb's constant to be unity, unit\n",
"R = 2^(1/3)*r;.....// Radius of bigger drop, unit\n",
"Q = 2*q;....// Charge on bigger drop, C\n",
"V_prime = k*Q/R*V;....// Electric potential of bigger drop, volt\n",
"printf('\nThe electric potential of new drop = %4.1f V', V_prime);\n",
"\n",
"// Result\n",
"// The electric potential of new drop = 95.2 V"
   ]
   }
,
{
		   "cell_type": "markdown",
		   "metadata": {},
		   "source": [
			"## Example 10.7: EX10_7.sce"
		   ]
		  },
  {
"cell_type": "code",
	   "execution_count": null,
	   "metadata": {
	    "collapsed": true
	   },
	   "outputs": [],
"source": [
"// Scilab Code Ex10.7: Page-512 (2011)\n",
"clc;clear;\n",
"m = 9.1e-031;....// Mass of the electron, kg\n",
"e = 1.6e-019;....// Charge on an electron, C\n",
"g = 9.8;....// Acceleration due to gravity, m/sec-square\n",
"// Electric force, F = e*E, where F = m*g or e*E = m*g\n",
"E = m*g/e;    // Electric field which would balance the weight of an electron placed in it, N/C\n",
"printf('\nThe required electric field strength = %3.1e N/C', E);\n",
"printf('\nThis field acts opposite to the direction of weight');\n",
"\n",
"// Result\n",
"// The required electric field strength = 5.6e-011 N/C\n",
"// This field acts opposite to the direction of weight \n",
"\n",
"\n",
""
   ]
   }
,
{
		   "cell_type": "markdown",
		   "metadata": {},
		   "source": [
			"## Example 10.8: EX10_8.sce"
		   ]
		  },
  {
"cell_type": "code",
	   "execution_count": null,
	   "metadata": {
	    "collapsed": true
	   },
	   "outputs": [],
"source": [
"// Scilab Code Ex10.8: Page-512 (2011)\n",
"clc;clear;\n",
"q1 = 8e-007;....// First Charge, C\n",
"q2 = -8e-007;....// Second Charge, C\n",
"r = 15e-002;....// Distance between the two charges, m\n",
"k = 9e+009; // Coulomb's constant, N-metre-square/coulomb-square\n",
"E1 = k*q1/r^2;....// Electric field strength due to charge 8e-007 C\n",
"printf('\nThe electric field strength at midpoint = %3.1e N/C', E1); \n",
"E2 = abs(k*q2/r^2);....// Electric field strength -8e-007 C \n",
"printf('\nThe electric field strength at midpoint = %3.1e N/C', E2); \n",
"// Total electric field strength at the mid-point is\n",
"E = E1+E2;      // Net electric field at mid point, N/C\n",
"printf('\nThe net electric field strength at midpoint = %3.1e N/C', E);\n",
"\n",
"// Result\n",
"// The electric field strength at midpoint = 3.2e+05 N/C\n",
"// The electric field strength at midpoint = 3.2e+05 N/C\n",
"// The net electric field strength at midpoint = 6.4e+05 N/C "
   ]
   }
,
{
		   "cell_type": "markdown",
		   "metadata": {},
		   "source": [
			"## Example 10.9: Electric_field_strength_at_a_point.sce"
		   ]
		  },
  {
"cell_type": "code",
	   "execution_count": null,
	   "metadata": {
	    "collapsed": true
	   },
	   "outputs": [],
"source": [
"// Scilab Code Ex10.9: Page:513 (2011) \n",
"clc;clear;\n",
"x = poly(0, 'x');\n",
"V = 1000/x+1500/x^2+500/x^3;    // Given electric potential at a point (x,0,0), V\n",
"E = -1*derivat(V);  // Electric field at a point as gradient of scalar potential, N/C\n",
"E_x = horner(E, 1);     // Electric field at the point x = 1, N/C\n",
"printf('\nThe electric field strength at point x = 1 is %4di V/m', E_x);\n",
"\n",
"// Result\n",
"// The electric field strength at point x = 1 is 5500i V/m "
   ]
   }
],
"metadata": {
		  "kernelspec": {
		   "display_name": "Scilab",
		   "language": "scilab",
		   "name": "scilab"
		  },
		  "language_info": {
		   "file_extension": ".sce",
		   "help_links": [
			{
			 "text": "MetaKernel Magics",
			 "url": "https://github.com/calysto/metakernel/blob/master/metakernel/magics/README.md"
			}
		   ],
		   "mimetype": "text/x-octave",
		   "name": "scilab",
		   "version": "0.7.1"
		  }
		 },
		 "nbformat": 4,
		 "nbformat_minor": 0
}
