{
"cells": [
 {
		   "cell_type": "markdown",
	   "metadata": {},
	   "source": [
       "# Chapter 9: Fibre Optics"
	   ]
	},
{
		   "cell_type": "markdown",
		   "metadata": {},
		   "source": [
			"## Example 9.10: Cut_off_parameter_or_v_number_of_modes_supported_by_the_fibre.sce"
		   ]
		  },
  {
"cell_type": "code",
	   "execution_count": null,
	   "metadata": {
	    "collapsed": true
	   },
	   "outputs": [],
"source": [
"// Scilab Code Ex9.10: Page-467 (2011)\n",
"clc;clear;\n",
"mu1 = 1.52;....// Refractive index of core\n",
"a = 14.5e-006;....// Radius of the fibre core, m\n",
"del = 0.0007;....// Fractional index difference\n",
"lambda = 1.3e-006;....// Operating wavelength of optical fibre, m\n",
"mu2 = mu1*(1-del);      // Refractive index of cladding\n",
"v = 2*%pi*a*sqrt(mu1^2-mu2^2)/lambda;     // Cut-off parameter v of the optical fibre\n",
"printf('\nThe cut-off parameter of the optical fibre = %5.3f', v);\n",
"//The is number of modes supported by the fibre given by,\n",
"n = v^2/2;\n",
"printf('\nThe number of modes supported by the fibre = %d', ceil(n));\n",
"\n",
"// Result\n",
"// The cut-off parameter of the optical fibre = 3.985\n",
"// The number of modes supported by the fibre = 8 "
   ]
   }
,
{
		   "cell_type": "markdown",
		   "metadata": {},
		   "source": [
			"## Example 9.11: Power_output_through_optical_fibre.sce"
		   ]
		  },
  {
"cell_type": "code",
	   "execution_count": null,
	   "metadata": {
	    "collapsed": true
	   },
	   "outputs": [],
"source": [
"// Scilab Code Ex9.11: Page-468 (2011)\n",
"clc;clear;\n",
"alpha = 3.5;....// Attenuation of the optical fibre, dB/km\n",
"Pi = 0.5;....// Input power of optical fibre, mW\n",
"L = 4;....    // Distance through the optical wave transmits through the fibre, km\n",
"// As alpha = 10/L*log10(Pi/Po), solving for Po\n",
"Po = Pi/exp(alpha*L*2.3026/10); // Output power of optical fibre, mW\n",
"printf('\nThe output power of optical fibre = %4.1f micro-watt', Po/1e-003);\n",
"\n",
"// Result\n",
"// The output power of optical fibre = 19.9 micro-watt "
   ]
   }
,
{
		   "cell_type": "markdown",
		   "metadata": {},
		   "source": [
			"## Example 9.12: Attenuation_of_power_through_optical_fibre.sce"
		   ]
		  },
  {
"cell_type": "code",
	   "execution_count": null,
	   "metadata": {
	    "collapsed": true
	   },
	   "outputs": [],
"source": [
"// Scilab Code Ex9.12: Page-468 (2011)\n",
"clc;clear;\n",
"Pi =1;....// Input power of optical fibre, mW\n",
"Po = 0.85;....// Outptu power of optical fibre, mW\n",
"L = 0.5;....//The distance through the optical wave transmits through the fibre, km \n",
"alpha = (10/L)*log10(Pi/Po);      // The attenuation of power through the optical fibre\n",
"printf('\nThe attenuation of power through the optical fibre = %5.3f dB/km', alpha);\n",
"\n",
"// Result\n",
"// The attenuation of power through the optical fibre = 1.412 dB/km "
   ]
   }
,
{
		   "cell_type": "markdown",
		   "metadata": {},
		   "source": [
			"## Example 9.13: Minimum_optical_power_input_to_an_optical_fibre.sce"
		   ]
		  },
  {
"cell_type": "code",
	   "execution_count": null,
	   "metadata": {
	    "collapsed": true
	   },
	   "outputs": [],
"source": [
"// Scilab Code Ex9.13: Page-469 (2011)\n",
"clc;clear;\n",
"C = 0.8;    // Connector loss per km, dB\n",
"F = 1.5;    // Fibre loss per km, dB\n",
"alpha = C + F;....// Attenuation of power the optical fibre, dB/km\n",
"Po = 0.3e-006;....// Output power of optical fibre, W\n",
"L = 15;....// The distance through the optical wave transmits through the fibre, km\n",
"//As the attenuation, alpha = 10/L*log(Pi/Po), solving for Pi\n",
"Pi = Po*exp(2.3026*alpha*L/10);     // Input power of optical fibre, mW\n",
"printf('\nThe minimum input power to optical fibre = %5.3f mW', Pi/1e-003);\n",
"\n",
"// Result\n",
"// The minimum input power to optical fibre = 0.846 mW\n",
""
   ]
   }
,
{
		   "cell_type": "markdown",
		   "metadata": {},
		   "source": [
			"## Example 9.1: NA_and_the_acceptance_angle_of_optical_fibre.sce"
		   ]
		  },
  {
"cell_type": "code",
	   "execution_count": null,
	   "metadata": {
	    "collapsed": true
	   },
	   "outputs": [],
"source": [
"// Scilab Code Ex9.1: Page-463 (2011) \n",
"clc;clear;\n",
"mu_1 = 1.55;....// Refractive index of the core \n",
"mu_2 = 1.50;....// Refractive indices of cladding \n",
"NA = mu_1*sqrt(2*(mu_1-mu_2)/mu_1); \n",
"printf('\nThe NA of the optical fibre = %5.3f', NA); \n",
"theta_a = asind(NA);    // The acceptance angle of optical fibre, degrees\n",
"printf('\nThe acceptance angle of the optical fibre is = %4.1f degrees', theta_a); \n",
"\n",
"// Result\n",
"// The NA of the optical fibre = 0.394\n",
"// The acceptance angle of the optical fibre is = 23.2 degrees "
   ]
   }
,
{
		   "cell_type": "markdown",
		   "metadata": {},
		   "source": [
			"## Example 9.2: NA_acceptance_angle_and_the_critical_angle_of_optical_fibre.sce"
		   ]
		  },
  {
"cell_type": "code",
	   "execution_count": null,
	   "metadata": {
	    "collapsed": true
	   },
	   "outputs": [],
"source": [
"// Scilab Code Ex9.2: Page-463 (2011)\n",
"clc;clear;\n",
"mu_1 = 1.50;....// Refractive index of the core \n",
"mu_2 = 1.45;....// Refractive index cladding\n",
"NA = mu_1*sqrt(2*(mu_1-mu_2)/mu_1);     // Numerical aperture of optical fibre\n",
"printf('\n The NA of the optical fibre = %5.3f', NA); \n",
"theta_a = asind(NA);        // The acceptance angle of optical fibre, degrees\n",
"printf('\n The acceptance angle of the optical fibre = %5.2f degrees', theta_a); \n",
"theta_c = asind(mu_2/mu_1); // The critical angle of the optical fibre, degrees\n",
"printf('\n The acceptance angle of the optical fibre = %4.1f degrees', theta_c);\n",
" \n",
"// Result\n",
"// The NA of the optical fibre = 0.387\n",
"// The acceptance angle of the optical fibre = 22.8 degrees\n",
"// The acceptance angle of the optical fibre = 75.2 degrees "
   ]
   }
,
{
		   "cell_type": "markdown",
		   "metadata": {},
		   "source": [
			"## Example 9.3: Acceptance_angle_for_the_optical_fibre_in_water.sce"
		   ]
		  },
  {
"cell_type": "code",
	   "execution_count": null,
	   "metadata": {
	    "collapsed": true
	   },
	   "outputs": [],
"source": [
"// Scilab Code Ex9.3: Page-464 (2011)\n",
"clc;clear;\n",
"mu0 = 1;....// Refactive index of fibre in air\n",
"mu2 = 1.59;....// Refactive index of the cladding \n",
"NA = 0.2;....// Numerial aperture of optical fibre\n",
"mu1 = sqrt(NA^2+mu2^2);  // Refractive index of core\n",
"mu0 = 1.33;     // Refactive index of fibre in water\n",
"NA = sqrt(mu1^2-mu2^2)/mu0;    // Numerial aperture of optical fibre in water\n",
"theta_a = asind(NA);    // Acceptance angle for the fibre in water\n",
"printf('\nThe acceptance angle for the optical fibre in water = %3.1f degrees', theta_a);\n",
" \n",
"// Result\n",
"// The acceptance angle for the optical fibre in water = 8.6 degrees "
   ]
   }
,
{
		   "cell_type": "markdown",
		   "metadata": {},
		   "source": [
			"## Example 9.4: The_characteristics_of_glass_clad_fibre.sce"
		   ]
		  },
  {
"cell_type": "code",
	   "execution_count": null,
	   "metadata": {
	    "collapsed": true
	   },
	   "outputs": [],
"source": [
"// Scilab Code Ex9.4: Page-464 (2011)\n",
"clc;clear;\n",
"mu0 = 1;        // Refractive index of air\n",
"mu1 = 1.50;....// Refractive index of glass core`\n",
"del = 0.005;....// Fractional change in refractive index\n",
"mu2 = mu1*(1-del);      // Refractive index of cladding\n",
"printf('\nThe refractive index of cladding =%6.4f', mu2);\n",
"theta_c = asind(mu2/mu1);   // Critical angle, degrees\n",
"printf('\nThe critical angle = %5.2f degrees', theta_c);\n",
"theta_a = asind(sqrt(mu1^2-mu2^2)/mu0);     // Acceptance angle, degrees\n",
"printf('\nThe value of acceptance angle is = %4.2f degrees', theta_a); \n",
"NA = mu1*sqrt(2*del);      // Numerical aperture of optical fibre\n",
"printf('\nThe NA of the optical fibre = %4.2f', NA);\n",
" \n",
"// Result\n",
"// The refractive index of cladding =1.4925\n",
"// The critical angle = 84.27 degrees\n",
"// The value of acceptance angle is = 8.62 degrees\n",
"// The NA of the optical fibre = 0.15 "
   ]
   }
,
{
		   "cell_type": "markdown",
		   "metadata": {},
		   "source": [
			"## Example 9.5: Refractive_index_of_core_and_cladding_of_an_optical_fibre.sce"
		   ]
		  },
  {
"cell_type": "code",
	   "execution_count": null,
	   "metadata": {
	    "collapsed": true
	   },
	   "outputs": [],
"source": [
"// Scilab Code Ex9.5: Page-465 (2011)\n",
"clc;clear;\n",
"NA = 0.22;      // Numerical aperture of the optical fibre\n",
"del = 0.012;....// Fractional difference between the refractive index of core and cladding\n",
"mu1 = NA/sqrt(2*del);   // The refractive index of core of optical fibre\n",
"printf('\nThe refractive index of core = %4.2f', mu1);\n",
"mu2 = mu1*(1-del);  // The refractive index of cladding of optical fibre\n",
"printf('\nThe refractive index of cladding = %4.2f', mu2); \n",
"\n",
"// Result\n",
"// he refractive index of core = 1.42\n",
"// The refractive index of cladding = 1.40"
   ]
   }
,
{
		   "cell_type": "markdown",
		   "metadata": {},
		   "source": [
			"## Example 9.6: NA_and_the_core_radius_of_an_optical_fibre.sce"
		   ]
		  },
  {
"cell_type": "code",
	   "execution_count": null,
	   "metadata": {
	    "collapsed": true
	   },
	   "outputs": [],
"source": [
"// Scilab Code Ex9.6: Page-466 (2011)\n",
"clc;clear;\n",
"mu1 = 1.466;   // Refractive index of core\n",
"mu2 = 1.460;   // Refractive index of cladding\n",
"v = 2.4;....// Cut-off parameter of the optical fibre\n",
"lambda = 0.8e-006;....// Operating wavelength, m\n",
"NA = sqrt(mu1^2-mu2^2);\n",
"printf('\nThe NA of optical fibre = %4.2f', NA) ;\n",
"// Asthe cut-off parameter v of the optical fibre, v = 2*%pi*a*sqrt(mu1^2-mu2^2)/lambda, solving for a\n",
"a = lambda*v/(2*%pi*sqrt(mu1^2-mu2^2));\n",
"printf('\nThe core radius of the optical fibre = %4.2e micron', a/1e-006);\n",
"\n",
"// Result\n",
"// The NA of optical fibre = 0.13\n",
"// The core radius of the optical fibre = 2.31e+00 micron "
   ]
   }
,
{
		   "cell_type": "markdown",
		   "metadata": {},
		   "source": [
			"## Example 9.7: v_number_and_the_number_of_modes_supported_by_the_optical_fibre.sce"
		   ]
		  },
  {
"cell_type": "code",
	   "execution_count": null,
	   "metadata": {
	    "collapsed": true
	   },
	   "outputs": [],
"source": [
"// Scilab Code Ex9.7: Page-466 (2011)\n",
"clc;clear;\n",
"mu1 = 1.54;    // The refractive index of core\n",
"mu2 = 1.50;    // The refractive index of cladding\n",
"lambda = 1.3e-006;....// Operating wavelength of optical fibre, m\n",
"a = 25e-006;....// Radius of fibre core, m\n",
"v = 2*%pi*a*sqrt(mu1^2-mu2^2)/lambda;   // V-number of optical fibre \n",
"printf('\nThe cut-off parameter of the optical fibre = %5.2f', v);\n",
"n = v^2/2;      // The number of modes supported by the fibre \n",
"printf('\nThe number of modes supported by the fibre = %3d', ceil(n));\n",
"\n",
"// Result\n",
"// The cut-off parameter of the optical fibre = 42.14\n",
"// The number of modes supported by the fibre = 888 "
   ]
   }
,
{
		   "cell_type": "markdown",
		   "metadata": {},
		   "source": [
			"## Example 9.8: EX9_8.sce"
		   ]
		  },
  {
"cell_type": "code",
	   "execution_count": null,
	   "metadata": {
	    "collapsed": true
	   },
	   "outputs": [],
"source": [
"// Scilab Code Ex9.8: Page-466 (2011)\n",
"clc;clear;\n",
"mu1 = 1.54;....// Refractive index of core\n",
"v = 2.405;....// Cut-off parameter of optical fibre\n",
"lambda = 1.3e-006;....// Operating wavelength of optical fibre, m\n",
"a = 1e-006;....// Radius of the core, \n",
"NA = v*lambda/(2*%pi*a);    // Numerical aperture of optical fibre\n",
"del = 1/2*(NA/mu1)^2;   //  Fractional change in refractive index of core and cladding\n",
"printf('\nThe fractional difference of refractive indices of core and cladding = %7.5f', del);\n",
"mu2 = mu1*(1-del);     // Maximum value of refractive index of cladding\n",
"printf('\nThe maximum refractive index of cladding = %5.3f', mu2);\n",
"\n",
"// Result\n",
"// The fractional difference of refractive indices of core and cladding = 0.05220\n",
"// The maximum refractive index of cladding = 1.460 "
   ]
   }
,
{
		   "cell_type": "markdown",
		   "metadata": {},
		   "source": [
			"## Example 9.9: Normalized_frequency_for_the_optical_fibre.sce"
		   ]
		  },
  {
"cell_type": "code",
	   "execution_count": null,
	   "metadata": {
	    "collapsed": true
	   },
	   "outputs": [],
"source": [
"// Scilab Code Ex9.9: Page-467 (2011)\n",
"clc;clear;\n",
"mu1 = 1.45;....// Index of refraction of core\n",
"NA = 0.16;....// Numerical aperture of step index fibre\n",
"a = 3e-006;....// Radius of the core, m\n",
"lambda = 0.9e-006;....// Operating wavelength of optical fibre, m\n",
"v = 2*%pi*a*NA/lambda;      // The normalized frequency or v-number of optical fibre\n",
"printf('\nThe normalized frequency of the optical fibre = %5.2f', v);\n",
"\n",
"// Result\n",
"// The normalized frequency of the optical fibre =  3.35 \n",
"\n",
"\n",
""
   ]
   }
],
"metadata": {
		  "kernelspec": {
		   "display_name": "Scilab",
		   "language": "scilab",
		   "name": "scilab"
		  },
		  "language_info": {
		   "file_extension": ".sce",
		   "help_links": [
			{
			 "text": "MetaKernel Magics",
			 "url": "https://github.com/calysto/metakernel/blob/master/metakernel/magics/README.md"
			}
		   ],
		   "mimetype": "text/x-octave",
		   "name": "scilab",
		   "version": "0.7.1"
		  }
		 },
		 "nbformat": 4,
		 "nbformat_minor": 0
}
