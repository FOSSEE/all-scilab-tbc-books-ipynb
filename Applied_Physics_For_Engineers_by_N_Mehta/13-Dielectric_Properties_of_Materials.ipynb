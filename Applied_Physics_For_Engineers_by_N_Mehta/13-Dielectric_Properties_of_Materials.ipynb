{
"cells": [
 {
		   "cell_type": "markdown",
	   "metadata": {},
	   "source": [
       "# Chapter 13: Dielectric Properties of Materials"
	   ]
	},
{
		   "cell_type": "markdown",
		   "metadata": {},
		   "source": [
			"## Example 13.10: Atomic_radius_of_He.sce"
		   ]
		  },
  {
"cell_type": "code",
	   "execution_count": null,
	   "metadata": {
	    "collapsed": true
	   },
	   "outputs": [],
"source": [
"// Scilab Code Ex13.10: Page-652 (2011)\n",
"clc;clear;\n",
"K = 1.0000684;....// Dielectric constant of He at 1 atm\n",
"n = 2.7e+25;....// Density of He at 1 atm and 273 K, atoms/meter-cube\n",
"// The atomic polarizibility, alpha = eps_0*(K-1)/n \n",
"// In terms of atomic radius, alpha = 4*%pi*eps_0*R^3 so, we have\n",
"R = ((K-1)/(4*%pi*n))^(1/3);    // Radius of He atom, m\n",
"printf('\nThe atomic radius of He = %4.2e m ', R);\n",
"\n",
"// Result\n",
"// The atomic radius of He = 5.86e-011 m  \n",
"\n",
""
   ]
   }
,
{
		   "cell_type": "markdown",
		   "metadata": {},
		   "source": [
			"## Example 13.11: Percentage_of_ionic_polarizability_in_NaCl_crystal.sce"
		   ]
		  },
  {
"cell_type": "code",
	   "execution_count": null,
	   "metadata": {
	    "collapsed": true
	   },
	   "outputs": [],
"source": [
"// Scilab Code Ex13.11: Page-652 (2011)\n",
"clc;clear;\n",
"mu = 1.5;....// Optical index of refraction of NaCl crystal\n",
"K = 5.6;....// Static dielectric constant of NaCl crystal\n",
"P_IP = (1-((mu^2-1)*(K+2))/((mu^2+2)*(K-1)))*100;\n",
"printf('\nThe percentage of ionic polarizibility in NaCl crystal = %4.1f percent ', P_IP);\n",
"\n",
"// Result\n",
"// The percentage of ionic polarizibility in NaCl crystal = 51.4 percent    \n",
"\n",
""
   ]
   }
,
{
		   "cell_type": "markdown",
		   "metadata": {},
		   "source": [
			"## Example 13.12: Determine_the_dipole_moment.sce"
		   ]
		  },
  {
"cell_type": "code",
	   "execution_count": null,
	   "metadata": {
	    "collapsed": true
	   },
	   "outputs": [],
"source": [
"// Scilab Code Ex13.12: Page-653 (2011)\n",
"clc;clear;\n",
"K_B = 1.38e-23;....// Boltzmann constant, J/mol/K\n",
"T = 300;....// Room temperature, K \n",
"eps_0 = 8.85e-12;....// Electric permittivity of free space, F/m\n",
"N_A = 6.0e+23;    // Avogadro's number\n",
"n2 = N_A*1000;     // Number of molecules of non-polar substance in 1000 cc volume\n",
"p_0 = sqrt((9*K_B*T*eps_0*0.023)/n2);    // Dipole moment of polar molecules, C-m\n",
"printf('\nThe dipole moment of polar molecules = %5.3e C-m', p_0);\n",
"\n",
"// Result\n",
"// The dipole moment of polar molecules = 3.555e-030 C-m "
   ]
   }
,
{
		   "cell_type": "markdown",
		   "metadata": {},
		   "source": [
			"## Example 13.1: Electric_dipole_placed_in_a_uniform_electric_field.sce"
		   ]
		  },
  {
"cell_type": "code",
	   "execution_count": null,
	   "metadata": {
	    "collapsed": true
	   },
	   "outputs": [],
"source": [
"// Scilab Code Ex13.1: Page-648 (2011) \n",
"clc;clear;\n",
"q = 1e-006;    // Electric charge on either side of the dipole, C\n",
"l = 2e-02;    // Dipole length, m\n",
"p = q*l;....// Dipole moment for the pair of opposite charges, C-m\n",
"E = 1e+005;....// External electric field, N/C\n",
"theta = 90;....// Angle which the dipole makes with the external field, degrees\n",
"tau = p*E*sind(theta);....// The maximum torque on dipole placed in external electric field, Nm\n",
"printf('\nThe maximum torque = %1.0e N-m', tau); \n",
"W = integrate('p*E*sin(thet)', 'thet', 0, %pi);    // The work done in rotating the dipole direction = %1.0e J', W\n",
"printf('\nThe work done in rotating the dipole direction = %1.0e J', W);\n",
"\n",
"// Result\n",
"// The maximum torque = 2e-003 N-m\n",
"// The work done in rotating the dipole direction = 4e-003 J "
   ]
   }
,
{
		   "cell_type": "markdown",
		   "metadata": {},
		   "source": [
			"## Example 13.2: EX13_2.sce"
		   ]
		  },
  {
"cell_type": "code",
	   "execution_count": null,
	   "metadata": {
	    "collapsed": true
	   },
	   "outputs": [],
"source": [
"// Scilab Code Ex13.2:Page-648 (2011)\n",
"clc;clear;\n",
"Q = 8e-019;....// Charge of the nucleus, C\n",
"p = 3.2e-029;....// Electric dipole moment, C-m\n",
"r = 1e-10;    // Distance of dipole relative to the nucleus, m\n",
"k = 9e+9;....// Coulomb constant, N-meter-square/C-square\n",
"theta = 0;....// Angle for radial direction, radian \n",
"F = k*p*Q*sqrt(3*cos(theta^2)+1)/r^3;    // The force acting on the dipole in the radial direction, N\n",
"printf('\nThe force acting on the dipole in the radial direction = %3.1e N', F);\n",
"theta = %pi/2;....// Angle for perpendicular direction, radian\n",
"F = k*p*Q*sqrt(3*cos(theta)^2+1)/r^3;\n",
"printf('\nThe force acting on the dipole in the direction perpendicular to radial direction = %3.1e N', F); \n",
"\n",
"// Result\n",
"// The force acting on the dipole in the radial direction = 4.6e-007 N\n",
"// The force acting on the dipole in the direction perpendicular to radial direction = 2.3e-007 N "
   ]
   }
,
{
		   "cell_type": "markdown",
		   "metadata": {},
		   "source": [
			"## Example 13.3: Dielectric_constant_and_the_electric_permittivity_of_the_material.sce"
		   ]
		  },
  {
"cell_type": "code",
	   "execution_count": null,
	   "metadata": {
	    "collapsed": true
	   },
	   "outputs": [],
"source": [
"// Scilab Code Ex13.3: Page-649 (2011)\n",
"clc;clear;\n",
"chi_e = 35.4e-12;....// Susceptability of the material, C-square/N-meter-square\n",
"eps_0 = 8.85e-12;....// Electric permittivity in free space, C-squre/N-meter-square\n",
"K = 1 + (chi_e/eps_0);\n",
"printf('\nThe dielectric constant = %d ',K);\n",
"eps = (eps_0*K); \n",
"printf('\nThe electric permittivity  = %5.3e C-square/N-meter square ',eps);\n",
"\n",
"// Result\n",
"// The dielectric constant = 5 \n",
"// The electric permittivity  = 4.425e-011 C-square/N-meter square  \n",
" "
   ]
   }
,
{
		   "cell_type": "markdown",
		   "metadata": {},
		   "source": [
			"## Example 13.4: Dielectric_constant_and_the_electric_susceptability_of_diamond.sce"
		   ]
		  },
  {
"cell_type": "code",
	   "execution_count": null,
	   "metadata": {
	    "collapsed": true
	   },
	   "outputs": [],
"source": [
"// Scilab Code Ex13.4:Page-649 (2011) \n",
"clc;clear;\n",
"eps = 1.46e-10;....// Electric permittivity, C-square/n-meter-square\n",
"eps_0 = 8.85e-12;....// Permittivity in free space, C-squre/N-meter-square\n",
"K = (eps/eps_0);\n",
"printf('\nThe dielectric constant = %4.1f ', K);\n",
"chi_e = eps_0*(K-1);....// Susceptability,in C-square/N-meter-square\n",
"printf('\nThe electric susceptability = %4.2e C-square/N-meter square ', chi_e);\n",
"\n",
"// Result\n",
"// The dielectric constant = 16.5 \n",
"// The electric susceptability = 1.37e-010 C-square/N-meter square  "
   ]
   }
,
{
		   "cell_type": "markdown",
		   "metadata": {},
		   "source": [
			"## Example 13.5: Calculate_the_values_of_E_D_and_P.sce"
		   ]
		  },
  {
"cell_type": "code",
	   "execution_count": null,
	   "metadata": {
	    "collapsed": true
	   },
	   "outputs": [],
"source": [
"// Scilab Code Ex13.5 Page-650 (2011) \n",
"clc;clear;\n",
"K = 7.0;....// Dielectric constant of the slab\n",
"d = 0.01;....// Distance between the two parallel plates, m\n",
"V_0 = 100;....// Potential difference across the plates, V\n",
"eps_0 = 8.85e-12;....// Electric permability of the free space, C-square/N-meter-square\n",
"E_0 = V_0/d;....// Electric intensity in the absence of dielectric slab, V/m\n",
"E = E_0/K;    // Electric intensity with dielectric slab introduced between the plates, V/m\n",
"printf('\nThe electric field intensity in the presence of the dielectric slab = %4.2e V/m ', E);\n",
"D = (eps_0*K*E);    // Electric displacement, C-square/m-square\n",
"printf('\nThe electric displacement in the dielectric slab = %4.2e C-square/meter-square ',D);\n",
"P = eps_0*(K-1)*E;    // Electric polarization in the dielectric slab, C-square/m-square\n",
"printf('\nThe electric polarization in the dielectric slab = %3.1e C-square/meter-square ',P);\n",
"\n",
"// Result\n",
"// The electric field intensity in the presence of the dielectric slab = 1.43e+003 V/m \n",
"// The electric displacement in the dielectric slab = 8.85e-008 C-square/meter-square \n",
"// The electric polarization in the dielectric slab = 7.6e-008 C-square/meter-square  "
   ]
   }
,
{
		   "cell_type": "markdown",
		   "metadata": {},
		   "source": [
			"## Example 13.6: Dipole_moment_induced_in_He_atom.sce"
		   ]
		  },
  {
"cell_type": "code",
	   "execution_count": null,
	   "metadata": {
	    "collapsed": true
	   },
	   "outputs": [],
"source": [
"// Scilab Code Ex13.6: Page-650 (2011)\n",
"clc;clear;\n",
"K = 1.000074;....// Dielectric constant of the He\n",
"n = 2.69e+025;....// Atomic density of He, atoms/meter-cube\n",
"eps_0 = 8.85e-012;....// Electric permability of the free space, C-square/N-meter-square\n",
"E = 1;....// Electric field strength, V/m\n",
"p = (eps_0*(K-1)*E)/n;    // Dipole moment induced in He, C-m\n",
"printf('\nThe dipole moment induced in each He atom = %4.2e C-m ', p);\n",
"\n",
"// Result\n",
"// The dipole moment induced in each He atom = 2.43e-041 C-m  "
   ]
   }
,
{
		   "cell_type": "markdown",
		   "metadata": {},
		   "source": [
			"## Example 13.7: Induced_dipole_moment_and_atomic_polarizability_of_neon_gas.sce"
		   ]
		  },
  {
"cell_type": "code",
	   "execution_count": null,
	   "metadata": {
	    "collapsed": true
	   },
	   "outputs": [],
"source": [
"// Scilab Code Ex13.7: Page-650 (2011) \n",
"clc;clear;\n",
"K = 1.000134;....// Dielectric constant of the neon\n",
"n = 2.69e+25;....// Atomic density of argon,atoms/meter-cube\n",
"eps_0 = 8.85e-12;....// Electric Permability in the free space, C-square/N-meter-square\n",
"E = 90e+03;    // External electric field, V/m\n",
"p = eps_0*(K-1)*E/n;    // Dipole moment induced in each neon atom, C-m\n",
"alpha = p/E;    // Atomic polarizability of neon gas, C-metre-square/V\n",
"printf('\nThe induced dipole moment of noen atom = %4.2e C-m', p) ;\n",
"printf('\nThe electronic polarizability of neon gas = %3.1e C-m-square/V ', alpha);\n",
"\n",
"// Result\n",
"// The induced dipole moment of noen atom = 3.97e-036 C-m\n",
"// The electronic polarizability of neon gas = 4.4e-041 C-m-square/V  "
   ]
   }
,
{
		   "cell_type": "markdown",
		   "metadata": {},
		   "source": [
			"## Example 13.8: Electronic_polarizability_of_argon_atom.sce"
		   ]
		  },
  {
"cell_type": "code",
	   "execution_count": null,
	   "metadata": {
	    "collapsed": true
	   },
	   "outputs": [],
"source": [
"// Scilab Code Ex13.8: Page-651 (2011) \n",
"clc;clear;\n",
"K = 1.0024;....// Dielectric constant of the argon\n",
"n = 2.7e+25;....// Atomic density of argon,atoms/meter-cube\n",
"eps_0 = 8.85e-12;....// Electric Permability in the free space, C-square/N-meter-square\n",
"alpha = eps_0*(K-1)/n;\n",
"printf('\nThe electronic polarizability of argon atom = %4.1e C-m-square/V ', alpha);\n",
"\n",
"// Result\n",
"// The electronic polarizability of argon atom = 7.9e-040 C-m-square/V  "
   ]
   }
,
{
		   "cell_type": "markdown",
		   "metadata": {},
		   "source": [
			"## Example 13.9: Individual_dipole_moment_of_carbon_tetrachloride.sce"
		   ]
		  },
  {
"cell_type": "code",
	   "execution_count": null,
	   "metadata": {
	    "collapsed": true
	   },
	   "outputs": [],
"source": [
"// Scilab Code Ex13.9: Page-651 (2011)\n",
"clc;clear;\n",
"K = 2.24;....// Dielectric constant \n",
"eps_0 = 8.85e-12;....// Electric permability in the free space, C-square/N-meter-square\n",
"rho = 1.6e+003;....// Density of CCl4, kg/meter-cube\n",
"M = 156;....// Molecular weight of CCl4\n",
"E = 1e+007;....// External electric field strength, V/m\n",
"N_A = 6.02e+26;    // Avogadro's number, per kmol\n",
"rho_M = rho*N_A/M;     // Molecular density of CCl4\n",
"p = eps_0*(K-1)*E/rho_M;    // Individual dipole moment of CCL4 molecule, C-m\n",
"printf('\nIndividual dipole moment of CCL4 molecule = %4.2e C-m ', p);\n",
"\n",
"// Result\n",
"// Individual dipole moment of CCL4 molecule = 1.78e-032 C-m  "
   ]
   }
],
"metadata": {
		  "kernelspec": {
		   "display_name": "Scilab",
		   "language": "scilab",
		   "name": "scilab"
		  },
		  "language_info": {
		   "file_extension": ".sce",
		   "help_links": [
			{
			 "text": "MetaKernel Magics",
			 "url": "https://github.com/calysto/metakernel/blob/master/metakernel/magics/README.md"
			}
		   ],
		   "mimetype": "text/x-octave",
		   "name": "scilab",
		   "version": "0.7.1"
		  }
		 },
		 "nbformat": 4,
		 "nbformat_minor": 0
}
