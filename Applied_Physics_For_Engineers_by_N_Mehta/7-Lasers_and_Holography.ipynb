{
"cells": [
 {
		   "cell_type": "markdown",
	   "metadata": {},
	   "source": [
       "# Chapter 7: Lasers and Holography"
	   ]
	},
{
		   "cell_type": "markdown",
		   "metadata": {},
		   "source": [
			"## Example 7.1: Energy_of_the_laser_pulse.sce"
		   ]
		  },
  {
"cell_type": "code",
	   "execution_count": null,
	   "metadata": {
	    "collapsed": true
	   },
	   "outputs": [],
"source": [
"// Scilab Code Ex 7.1: Page-411 (2011)\n",
"clc;clear;\n",
"e = 1.6e-019;....// Charge on an electron, eV \n",
"h = 6.62e-034;....// Planck's constant, J-s\n",
"c = 3e+008;....// Speed of light in vacuum, m/s\n",
"n = 2.8e+019;....// Number of photons in laser pulse\n",
"lambda = 7e-007;....// Wavelength of the radiation emited by the laser, m\n",
"E = h*c/(lambda*e);....// Energy of the photon in the laser light, eV\n",
"del_E = E*n;....// The energy of laser pulse having n photons, eV\n",
"printf('\nThe energy of the laser pulse = %4.2e eV', del_E); \n",
"\n",
"// Result\n",
"// The energy of the laser pulse = 4.97e+019 eV "
   ]
   }
,
{
		   "cell_type": "markdown",
		   "metadata": {},
		   "source": [
			"## Example 7.2: Coherence_length_resultant_bandwidth_and_line_width_of_laser_beam.sce"
		   ]
		  },
  {
"cell_type": "code",
	   "execution_count": null,
	   "metadata": {
	    "collapsed": true
	   },
	   "outputs": [],
"source": [
"// Scilab Code Ex7.2: Page-411 (2011)\n",
"clc;clear;\n",
"c = 3e+008;....// Speed of light in vacuum, m/s\n",
"lambda = 6.5e-007;....// Wavelength of the pulse, m\n",
"t = 0.5e-009;....// Time interval between successive pulses, s\n",
"L_c = c*t;....// Coherence length of laser pulse, m\n",
"printf('\nThe coherence length of the pulse = %4.2f m', L_c);\n",
"del_nu = 1/t;....// Resultant bandwidth of laser pulse, Hz\n",
"printf('\nThe bandwidth of the laser pulse = %1.0e Hz', del_nu);\n",
"del_lambda = lambda^2*del_nu/c;....// Linewidth of laser beam, m\n",
"printf('\nThe linewidth of the pulse = %5.3f angstrom', del_lambda/1e-010);\n",
"\n",
"// Result\n",
"// The coherence length of the pulse = 0.15 m\n",
"// The bandwidth of the laser pulse = 2e+009 Hz\n",
"// The linewidth of the pulse = 0.028 angstrom "
   ]
   }
,
{
		   "cell_type": "markdown",
		   "metadata": {},
		   "source": [
			"## Example 7.3: Angular_spread_and_areal_spread_of_laser_beam.sce"
		   ]
		  },
  {
"cell_type": "code",
	   "execution_count": null,
	   "metadata": {
	    "collapsed": true
	   },
	   "outputs": [],
"source": [
"// Scilab Code Ex7.3: Page-411 (2011)\n",
"clc;clear;\n",
"a = 4e-003;....// Coherence width of laser source, m\n",
"lambda = 6e-007;....// Wavelength of the pulse, m\n",
"D = 100;....// Distance of the surface from laser source, m\n",
"A = 2*lambda/a;    // Angular spread of laser beam, radian\n",
"printf('\nThe angular spread = %1.0e radian', A);\n",
"theta = A/2;    // Semi angle, radian\n",
"A_s = %pi*(D*theta)^2;....// Areal spread of laser beam, Sq.m\n",
"printf('\nThe areal spread = %1.0e Sq.m', A_s);\n",
"\n",
"// Result\n",
"// The angular spread = 3e-004 radian\n",
"// The areal spread = 7e-004 Sq.m "
   ]
   }
],
"metadata": {
		  "kernelspec": {
		   "display_name": "Scilab",
		   "language": "scilab",
		   "name": "scilab"
		  },
		  "language_info": {
		   "file_extension": ".sce",
		   "help_links": [
			{
			 "text": "MetaKernel Magics",
			 "url": "https://github.com/calysto/metakernel/blob/master/metakernel/magics/README.md"
			}
		   ],
		   "mimetype": "text/x-octave",
		   "name": "scilab",
		   "version": "0.7.1"
		  }
		 },
		 "nbformat": 4,
		 "nbformat_minor": 0
}
