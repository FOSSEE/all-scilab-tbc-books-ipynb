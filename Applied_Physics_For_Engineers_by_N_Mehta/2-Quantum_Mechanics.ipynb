{
"cells": [
 {
		   "cell_type": "markdown",
	   "metadata": {},
	   "source": [
       "# Chapter 2: Quantum Mechanics"
	   ]
	},
{
		   "cell_type": "markdown",
		   "metadata": {},
		   "source": [
			"## Example 2.10: Lowest_two_permitted_energy_values_of_an_electron.sce"
		   ]
		  },
  {
"cell_type": "code",
	   "execution_count": null,
	   "metadata": {
	    "collapsed": true
	   },
	   "outputs": [],
"source": [
"// Scilab Code Ex2.10: Page:83 (2011) \n",
"clc;clear;\n",
"n = [1,2];....// Shell numbers for two lowest permitted energy of the electron \n",
"m0 = 9.1e-31;....// Mass of the electron, kg\n",
"a = 2.5e-10;....// Width of the box, m\n",
"h = 6.63e-34;....// Planck's constant, J-s\n",
"e = 1.6e-19;....// Charge on electron, C\n",
"E = (n^2*h^2)/(8*m0*a^2*e);\n",
"printf('\nThe lowest two permitted energy values of an electron are');\n",
"printf(' %d eV and %d eV respectively', E(1), E(2));\n",
"\n",
"// Result\n",
"// The lowest two permitted energy values of an electron are 6 eV and 24 eV respectively "
   ]
   }
,
{
		   "cell_type": "markdown",
		   "metadata": {},
		   "source": [
			"## Example 2.11: Lowest_energy_of_the_neutron_confined_to_the_nucleus.sce"
		   ]
		  },
  {
"cell_type": "code",
	   "execution_count": null,
	   "metadata": {
	    "collapsed": true
	   },
	   "outputs": [],
"source": [
"// Scilab Code Ex2.11: Page:83 (2011)\n",
"clc;clear;\n",
"m0 = 1.67e-27;....// Rest mass,in kg\n",
"a = 1e-14;....//  Size of the box\n",
"h = 6.63e-34;....// Planck's constant,in J-s\n",
"n = 1;  // Quantum number for lowest energy state\n",
"E_n = n^2*h^2/(8*m0*a^2);\n",
"printf('\nThe lowest energy of the neutron confined to the nucleus = %4.2e J', E_n);\n",
" \n",
"// Result\n",
"// The lowest energy of the neutron confined to the nucleus = 3.29e-13 J "
   ]
   }
,
{
		   "cell_type": "markdown",
		   "metadata": {},
		   "source": [
			"## Example 2.12: EX2_12.sce"
		   ]
		  },
  {
"cell_type": "code",
	   "execution_count": null,
	   "metadata": {
	    "collapsed": true
	   },
	   "outputs": [],
"source": [
"// Scilab Code Ex2.12: Page:83 (2011)\n",
"clc;clear;\n",
"m0 = 9.1e-31;....// Rest mass, kg\n",
"a = 1e-10;....// Length of the box, m\n",
"h = 6.62e-34;....// Planck's constat, J-s\n",
"n1 = 1;....// Ground state\n",
"n2 = 2;....// First excited state\n",
"e = 1.6e-19;....// Charge on electron, C\n",
"E1 = (n1^2*h^2)/(8*m0*a^2*e);\n",
"E2 = (n2^2*h^2)/(8*m0*a^2*e);\n",
"del_E = E2-E1; \n",
"printf('\nThe energy difference between the ground state and the first excited state = %5.1f eV',del_E);\n",
"\n",
"//Result\n",
"// The energy difference between the ground state and the first excited state = 112.9 eV "
   ]
   }
,
{
		   "cell_type": "markdown",
		   "metadata": {},
		   "source": [
			"## Example 2.1: de_broglie_wavelength_of_an_electron.sce"
		   ]
		  },
  {
"cell_type": "code",
	   "execution_count": null,
	   "metadata": {
	    "collapsed": true
	   },
	   "outputs": [],
"source": [
"// Scilab Code Ex2.1: Page:79 (2011)\n",
"clc;clear;\n",
"V = 50;....// Given potential difference, V\n",
"lambda = 12.24/sqrt(V);....// Wavelength of the light, angstrom\n",
"printf('\nThe de-broglie wavelength of electron = %4.2f angstrom', lambda);\n",
"\n",
"// Result\n",
"// The de-broglie wavelength of electron = 1.73 angstrom "
   ]
   }
,
{
		   "cell_type": "markdown",
		   "metadata": {},
		   "source": [
			"## Example 2.2: de_broglie_wavelength_associated_with_a_proton.sce"
		   ]
		  },
  {
"cell_type": "code",
	   "execution_count": null,
	   "metadata": {
	    "collapsed": true
	   },
	   "outputs": [],
"source": [
"// Scilab Code Ex2.2: Page:79 (2011)\n",
"clc;clear;\n",
"h = 6.62e-34;   // Planck's constant, J-s\n",
"m0 = 1.6e-27;   // Rest mass of proton, kg\n",
"c = 3e+8;   // Speed of light, in m/s\n",
"v = c/20;    // Velocity of the proton, in m/s\n",
"lambda = (h*sqrt(1-v^2/c^2))/(m0*v);\n",
"printf('\nThe de broglie wavelength associated with the proton = %4.2e m',lambda);\n",
"\n",
"// Result\n",
"//  The de broglie wavelength associated with the proton = 2.75e-14 m "
   ]
   }
,
{
		   "cell_type": "markdown",
		   "metadata": {},
		   "source": [
			"## Example 2.3: Wavelength_of_the_matter_wave_associated_with_a_proton.sce"
		   ]
		  },
  {
"cell_type": "code",
	   "execution_count": null,
	   "metadata": {
	    "collapsed": true
	   },
	   "outputs": [],
"source": [
"// Scilab Code Ex2.3: Page:79 (2011) \n",
"clc;clear;\n",
"c = 3e+8;....// Speed of light, m/s\n",
"v = 2e+8;....// Velocity of the proton, m/s\n",
"m0 = 1.6e-27;....// Rest mass of proton, kg\n",
"h = 6.62e-34;....// Plancks constant,J-s\n",
"lambda = (h*sqrt(1-v^2/c^2))/(m0*v);\n",
"printf('\nThe wavelength of matter wave associated with the proton = %5.3e m', lambda);\n",
"\n",
"// Result\n",
"//  The wavelength of matter wave associated with the proton = 1.542e-15 m "
   ]
   }
,
{
		   "cell_type": "markdown",
		   "metadata": {},
		   "source": [
			"## Example 2.5: Uncertainity_in_determining_the_position_of_the_electron.sce"
		   ]
		  },
  {
"cell_type": "code",
	   "execution_count": null,
	   "metadata": {
	    "collapsed": true
	   },
	   "outputs": [],
"source": [
"// Scilab Code Ex2.5: Page:80 (2011)\n",
"clc;clear;\n",
"a = 0.003;....// Accuracy of the electron,in percent\n",
"s = 5e+03;....// Speed of the electron,in m/s\n",
"del_v = (a/100)*s;....// Change in velocity,in m/s\n",
"m0 = 9.1e-31;....// Rest mass of the electron,in kg\n",
"hcut = 1.054e-34;....// Plancks constant,J-s\n",
"del_x = hcut/(2*del_v*m0);\n",
"printf('\nThe uncertainity in the position of the electron = %4.2e m', del_x);\n",
"\n",
"// Result \n",
"// The uncertainity in the position of the electron = 3.86e-004 m "
   ]
   }
,
{
		   "cell_type": "markdown",
		   "metadata": {},
		   "source": [
			"## Example 2.6: Minimum_error_in_measurement_of_lifetime_of_excited_state_of_hydrogen_atom.sce"
		   ]
		  },
  {
"cell_type": "code",
	   "execution_count": null,
	   "metadata": {
	    "collapsed": true
	   },
	   "outputs": [],
"source": [
"// Scilab Code Ex2.6 : Page:81 (2011)\n",
"clc;clear;\n",
"del_t = 2.5e-14;....// Lifetime of the hydrogen atom in excited state\n",
"hcut = 1.054e-34;....// Planck's constant,in J-s\n",
"e = 1.6e-19;....// Charge on electron,in C\n",
"del_E = hcut/(2*del_t*e);....// Energy of the state, in eV\n",
"printf('\nThe minimum error in measurement of lifetime of excited state of hydrogen atom = %6.4f eV',del_E); \n",
"\n",
"// Result\n",
"// The minimum error in measurement of lifetime of excited state of hydrogen atom = 0.0132 eV "
   ]
   }
,
{
		   "cell_type": "markdown",
		   "metadata": {},
		   "source": [
			"## Example 2.7: Uncertainity_in_the_velocity_of_an_electron.sce"
		   ]
		  },
  {
"cell_type": "code",
	   "execution_count": null,
	   "metadata": {
	    "collapsed": true
	   },
	   "outputs": [],
"source": [
"// Scilab Code Ex2.7 : Page:81 (2011)\n",
"clc;clear;\n",
"del_x = 1e-09;     // Uncertainty in position of the electron, m\n",
"m0 = 9.1e-031;....// Rest mass of an electron, kg\n",
"hcut = 1.054e-034;....// Planck's constant,in J-s\n",
"del_v = hcut/(2*del_x*m0);....// Uncertainity in velocity of the electron\n",
"printf('\nThe uncertainity in the velocity of an electron = %4.2e m/s',del_v);\n",
" \n",
"// Result\n",
"// The uncertainity in the velocity of an electron = 5.79e+04 m/s "
   ]
   }
,
{
		   "cell_type": "markdown",
		   "metadata": {},
		   "source": [
			"## Example 2.8: Smallest_possible_uncertainity_in_position_of_an_electron.sce"
		   ]
		  },
  {
"cell_type": "code",
	   "execution_count": null,
	   "metadata": {
	    "collapsed": true
	   },
	   "outputs": [],
"source": [
"// Scilab Code Ex2.8 : Page:81 (2011) \n",
"clc;clear;\n",
"hcut = 1.054e-34;   // Reduced Planck's constant, Js\n",
"v = 3e+07;....// Velocity of the electron, m/s\n",
"c = 3e+08;....// Speed of light in vacuum, m/s\n",
"m0 = 9.1e-31;....// Rest mass of an electron, kg\n",
"del_v = 3e+08;....// Uncertainty in velocity of the electron, m/s\n",
"del_x = (hcut*sqrt(1-v^2/c^2))/(2*m0*del_v);\n",
"printf('\nThe smallest possible uncertainity in position of the electron = %6.4f angstrom', del_x/1e-010);\n",
"\n",
"// Result\n",
"// The smallest possible uncertainity in position of the electron = 0.0019 angstrom "
   ]
   }
,
{
		   "cell_type": "markdown",
		   "metadata": {},
		   "source": [
			"## Example 2.9: Energy_of_an_electron_moving_in_1D_infinetly_high_potential_box.sce"
		   ]
		  },
  {
"cell_type": "code",
	   "execution_count": null,
	   "metadata": {
	    "collapsed": true
	   },
	   "outputs": [],
"source": [
"//Scilab Code Ex2.9 :Page:82 (2011) \n",
"clc;clear;\n",
"n = 1;\n",
"m0 = 9.1e-031;....// Mass of the electron, kg\n",
"a = 1e-10;....// Width of the box, m\n",
"h = 6.63e-034;....// Planck's constant, J-s\n",
"E = n^2*h^2/(8*m0*a^2);\n",
"printf('\n The energy of the electron moving in 1D infinetly high potential box = %5.2e J', E);\n",
"\n",
"// Result\n",
"//  The energy of the electron moving in 1D infinetly high potential box = 6.04e-18 J "
   ]
   }
],
"metadata": {
		  "kernelspec": {
		   "display_name": "Scilab",
		   "language": "scilab",
		   "name": "scilab"
		  },
		  "language_info": {
		   "file_extension": ".sce",
		   "help_links": [
			{
			 "text": "MetaKernel Magics",
			 "url": "https://github.com/calysto/metakernel/blob/master/metakernel/magics/README.md"
			}
		   ],
		   "mimetype": "text/x-octave",
		   "name": "scilab",
		   "version": "0.7.1"
		  }
		 },
		 "nbformat": 4,
		 "nbformat_minor": 0
}
