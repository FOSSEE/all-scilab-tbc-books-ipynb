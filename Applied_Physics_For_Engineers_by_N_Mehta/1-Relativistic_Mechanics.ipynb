{
"cells": [
 {
		   "cell_type": "markdown",
	   "metadata": {},
	   "source": [
       "# Chapter 1: Relativistic Mechanics"
	   ]
	},
{
		   "cell_type": "markdown",
		   "metadata": {},
		   "source": [
			"## Example 1.10: Distance_that_the_meson_beam_can_travel_before_reduction_in_its_flux.sce"
		   ]
		  },
  {
"cell_type": "code",
	   "execution_count": null,
	   "metadata": {
	    "collapsed": true
	   },
	   "outputs": [],
"source": [
"// Scilab Code Ex1.10: Page:30 (2011) \n",
"clc;clear;\n",
"c = 3e+008;    // Speed of light in vacuum, m/s\n",
"tau0 = 2.5e-008;    // Mean lifetime of meson at rest, m/s\n",
"v = 0.8*c;    // Velocity of moving meason, m/s\n",
"tau = tau0/sqrt(1-v^2/c^2);    // Mean lifetime of meson in motion, m/s\n",
"N0 = 1;    // Assume initial flux of meson beam to be unity, watt/Sq.m\n",
"N = N0*%e^(-2);    // Meson flux after time t, watt/Sq.m\n",
"// As N = N0*e^(-t/tau), which on comparing gives\n",
"t = 2*tau;    // Time during which the meson beam flux reduces, s\n",
"d = 0.8*c*t;    // The distance that the meson beam can travel before reduction in its flux, m\n",
"printf('\nThe distance that the meson beam can travel before reduction in its flux = %2d m', d);\n",
"\n",
"// Result\n",
"// The distance that the meson beam can travel before reduction in its flux = 20 m "
   ]
   }
,
{
		   "cell_type": "markdown",
		   "metadata": {},
		   "source": [
			"## Example 1.11: Velocity_of_the_particle_when_its_total_energy_is_thrice_its_rest_energy.sce"
		   ]
		  },
  {
"cell_type": "code",
	   "execution_count": null,
	   "metadata": {
	    "collapsed": true
	   },
	   "outputs": [],
"source": [
"// Scilab Code Ex1.11: Page:31 (2011) \n",
"clc;clear;\n",
"c = 3e+008;    // Speed of light in vacuum, m/s\n",
"E0 = 1;    // Rest energy of particle, unit\n",
"E = 3*E0;    // Energy of relativistically moving particle, unit\n",
"// E = m*c^2 and E0 = m0*c^2\n",
"// With m = m0/sqrt(1-v^2/c^2), we have\n",
"v = c*sqrt(1-(E0/E)^2);    // Velocity of the moving particle, m/s\n",
"printf('\nThe velocity of the moving particle = %4.2e m/s', v);\n",
"\n",
"// Result\n",
"// The velocity of the moving particle = 2.83e+008 m/s "
   ]
   }
,
{
		   "cell_type": "markdown",
		   "metadata": {},
		   "source": [
			"## Example 1.12: Kinetic_energy_and_momentum_of_moving_electron.sce"
		   ]
		  },
  {
"cell_type": "code",
	   "execution_count": null,
	   "metadata": {
	    "collapsed": true
	   },
	   "outputs": [],
"source": [
"// Scilab Code Ex1.12: Page:32 (2011) \n",
"clc;clear;\n",
"c = 3e+008;    // Speed of light in vacuum, m/s\n",
"m0 = 9.1e-031;    // Rest mass of electron, kg\n",
"m = 11*m0;    // Mass of relativistically moving electron, kg\n",
"E_k = (m-m0)*c^2/(1.6e-019*1e+06);    // Kinetic energy of moving electron, MeV\n",
"// As m = m0/sqrt(1-v^2/c^2), solving for v\n",
"v = c*sqrt(1-(m0/m)^2);    // The velocity of the moving electron, m/s\n",
"p = m*v;    // Momentum of moving electron, kg-m/s\n",
"printf('\nThe kinetic energy of moving electron = %4.2f MeV', E_k);\n",
"printf('\nThe momentum of moving electron = %4.2e kg-m/s', p);\n",
"\n",
"// Result\n",
"// The kinetic energy of moving electron = 5.12 MeV\n",
"// The momentum of moving electron = 2.99e-021 kg-m/s "
   ]
   }
,
{
		   "cell_type": "markdown",
		   "metadata": {},
		   "source": [
			"## Example 1.13: Amount_of_work_to_be_done_to_increase_the_speed_of_an_electron.sce"
		   ]
		  },
  {
"cell_type": "code",
	   "execution_count": null,
	   "metadata": {
	    "collapsed": true
	   },
	   "outputs": [],
"source": [
"// Scilab Code Ex1.13: Page:32 (2011) \n",
"clc;clear;\n",
"c = 3e+008;    // Speed of light in vacuum, m/s\n",
"E0 = 0.5;    // Rest energy of the electron, MeV\n",
"v1 = 0.6*c;    // Initial velocity of the electron, m/s\n",
"v2 = 0.8*c;    // Final velocity of the electron, m/s\n",
"W = (1/sqrt(1-v2^2/c^2)-1/sqrt(1-v1^2/c^2))*E0;    // The amount of work to be done to increase the speed of the electron, MeV\n",
"printf('\nThe amount of work to be done to increase the speed of an electron = %4.2e J', W*1e+06*1.6e-019);\n",
"\n",
"// Result\n",
"// The amount of work to be done to increase the speed of an electron = 3.33e-014 J "
   ]
   }
,
{
		   "cell_type": "markdown",
		   "metadata": {},
		   "source": [
			"## Example 1.14: Particle_moving_with_relativistic_speed.sce"
		   ]
		  },
  {
"cell_type": "code",
	   "execution_count": null,
	   "metadata": {
	    "collapsed": true
	   },
	   "outputs": [],
"source": [
"// Scilab Code Ex1.14: Page:33 (2011) \n",
"clc;clear;\n",
"c = 1;    // Assume speed of light in vacuum to be unity, unit\n",
"m0 = 1;    // For simplicity assume rest mass of the particle to be unity, unit\n",
"v = c/sqrt(2);    // Given speed of the particle, m/s\n",
"gama = 1/sqrt(1-v^2/c^2);    // Relativistic factor\n",
"m = gama*m0;   // The relativistic mass of the particle, unit\n",
"p = m*v;    // The relativistic momentum of the particle, unit\n",
"E = m*c^2;    // The relativistic total eneryg of the particle, unit\n",
"E_k = (m-m0)*c^2;    // The relativistic kinetic energy of the particle, unit\n",
"printf('\nThe relativistic mass of the particle = %5.3fm0', m);\n",
"printf('\nThe relativistic momentum of the particle = %1.0gm0c', p);\n",
"printf('\nThe relativistic total energy of the particle = %5.3fm0c^2', E);\n",
"printf('\nThe relativistic kinetic energy of the particle = %5.3fm0c^2', E_k);\n",
"\n",
"// Result\n",
"// The relativistic mass of the particle = 1.414m0\n",
"// The relativistic momentum of the particle = 1m0c\n",
"// The relativistic total energy of the particle = 1.414m0c^2\n",
"// The relativistic kinetic energy of the particle = 0.414m0c^2 "
   ]
   }
,
{
		   "cell_type": "markdown",
		   "metadata": {},
		   "source": [
			"## Example 1.15: Speed_of_the_electron_in_order_to_have_its_mass_equal_to_mass_of_a_proton.sce"
		   ]
		  },
  {
"cell_type": "code",
	   "execution_count": null,
	   "metadata": {
	    "collapsed": true
	   },
	   "outputs": [],
"source": [
"// Scilab Code Ex1.15: Page:34 (2011) \n",
"clc;clear;\n",
"c = 3e+008;    // Speed of light in vacuum, unit\n",
"m0 = 9.1e-031;    // Rest mass of the electron, kg\n",
"m = 1.67e-027;    // Rest mass of the proton, kg\n",
"// As m = m0/sqrt(1-v^2/c^2), solving for v\n",
"v = c*sqrt(1-(m0/m)^2);    // Velocity of the electron, m/s\n",
"printf('\nThe velocity of the electron to have its mass equal to mass of the proton = %5.3e m/s', v);\n",
"\n",
"// Result\n",
"// The velocity of the electron to have its mass equal to mass of the proton = 3.000e+008 m/s "
   ]
   }
,
{
		   "cell_type": "markdown",
		   "metadata": {},
		   "source": [
			"## Example 1.17: Classical_and_relativistic_speed_of_an_electron_of_given_kinetic_energy.sce"
		   ]
		  },
  {
"cell_type": "code",
	   "execution_count": null,
	   "metadata": {
	    "collapsed": true
	   },
	   "outputs": [],
"source": [
"// Scilab Code Ex1.17: Page:35 (2011) \n",
"clc;clear;\n",
"c = 3e+008;    // Speed of light in vacuum, unit\n",
"m0 = 9.1e-031;    // Rest mass of the electron, kg\n",
"E_k = 0.1*1e+006*1.6e-019;    // Kinetic energy of the electron, J\n",
"v = sqrt(2*E_k/m0);    // Classical speed of the electron, m/s\n",
"printf('\nThe classical speed of the electron = %5.3e m/s', v);\n",
"// As E_k = (m-m0)*c^2 = (1/sqrt(1-v^2/c^2)-1)*m0*c^2, solving for v\n",
"v = c*sqrt(1-(m0*c^2/(E_k+m0*c^2))^2);    // Relativistic speed of the electron, m/s\n",
"printf('\nThe relativistic speed of the electron = %5.3e m/s', v);\n",
"\n",
"// Result\n",
"// The classical speed of the electron = 1.875e+008 m/s\n",
"// The relativistic speed of the electron = 1.644e+008 m/s "
   ]
   }
,
{
		   "cell_type": "markdown",
		   "metadata": {},
		   "source": [
			"## Example 1.2: Lorentz_transformations_for_space_and_time.sce"
		   ]
		  },
  {
"cell_type": "code",
	   "execution_count": null,
	   "metadata": {
	    "collapsed": true
	   },
	   "outputs": [],
"source": [
"// Scilab Code Ex1.2: Page:26 (2011)\n",
"clc;clear;\n",
"c = 3e+008;    // Speed of light in vacuum, m/s\n",
"delta_x = 2.45e+03;    // Space difference, m\n",
"delta_t = 5.35e-06;    // Time difference, s\n",
"v = 0.855*c;    // Speed of frame S_prime, m/s\n",
"delta_x_prime = 1/sqrt(1-v^2/c^2)*(delta_x - v*(delta_t))*1e-03;    // Distance between two flashes as measured in S_prime frame, km\n",
"delta_t_prime = 1/sqrt(1-v^2/c^2)*(delta_t - v/c^2*delta_x)*1e+006;    // Time between two flashes as measured in S_prime\n",
"printf('\nThe distance between two flashes as measured in S_prime frame = %4.2f km', delta_x_prime);\n",
"printf('\nThe time between two flashes as measured in S_prime frame = %4.2f micro-second', delta_t_prime);\n",
"\n",
"// Result\n",
"// The distance between two flashes as measured in S_prime frame = 2.08 km\n",
"// The time between two flashes as measured in S_prime frame = -3.15 micro-second "
   ]
   }
,
{
		   "cell_type": "markdown",
		   "metadata": {},
		   "source": [
			"## Example 1.4: Relative_speed_of_one_photon_with_respect_to_another.sce"
		   ]
		  },
  {
"cell_type": "code",
	   "execution_count": null,
	   "metadata": {
	    "collapsed": true
	   },
	   "outputs": [],
"source": [
"// Scilab Code Ex1.4: Page:27 (2011) \n",
"clc;clear;\n",
"c = 1;....// Speed of light in vacuum, m/s\n",
"u_x_prime = c;    // Velocity of photon as measured in S_prime frame, m/s\n",
"v = c;    // Velocity of frame S_prime relative to S frame, m/s\n",
"u_x = (u_x_prime + v)/(1+v*u_x_prime/c^2);\n",
"if u_x == 1 then\n",
"    ux = 'c';\n",
"else \n",
"    ux = string(u_x)+'c';    \n",
"end\n",
"printf('\nThe speed of one photon as observed by the other is %c', ux);\n",
"\n",
"// Result\n",
"// The speed of one photon as observed by the other is c "
   ]
   }
,
{
		   "cell_type": "markdown",
		   "metadata": {},
		   "source": [
			"## Example 1.6: Areal_contraction_of_moving_circular_lamina.sce"
		   ]
		  },
  {
"cell_type": "code",
	   "execution_count": null,
	   "metadata": {
	    "collapsed": true
	   },
	   "outputs": [],
"source": [
"// Scilab Code Ex1.6 : Page:28 (2011)\n",
"clc;clear;\n",
"a = 1;    // For simplicity assume length of semi minor axis to be unity, m\n",
"c = 3e+08;    // Speed of light, m/s\n",
"v = poly(0, 'v');    // Declare velocity variable, m/s\n",
"// As b = a*sqrt(1-v^2/c^2), length of semi-major axis\n",
"// Also A_c = %pi*a^2, area of the lamina in its own frame and\n",
"// A_e = %pi*a*b, area of the lamina in stationary frame S, so with A_c = A_e\n",
"v = roots(1-v^2/c^2 - 1/4);    // Velocity at which surface area of lamina reduces to half in S-frame, m/s\n",
"printf('\nThe velocity at which surface area of lamina reduces to half in S-frame = %4.2e', v(1));\n",
"\n",
"// Result\n",
"// The velocity at which surface area of lamina reduces to half in S-frame = 2.60e+008 "
   ]
   }
,
{
		   "cell_type": "markdown",
		   "metadata": {},
		   "source": [
			"## Example 1.7: Length_of_a_one_metre_stick_moving_parallel_to_its_length.sce"
		   ]
		  },
  {
"cell_type": "code",
	   "execution_count": null,
	   "metadata": {
	    "collapsed": true
	   },
	   "outputs": [],
"source": [
"// Scilab Code Ex1.7 : Page:29 (2011)\n",
"clc;clear;\n",
"m0 = 1;    // For simplicity assume the rest mass of stick to be unity, kg\n",
"m = 1.5*m0;    // Mass of the moving stick, kg\n",
"L0 = 1;    // Assume resting length of the stick to be unity, m\n",
"// As m = m0/sqrt(1-v^2/c^2) = m0*gama, solving for gama\n",
"gama = m/m0;    // Relativistic factor\n",
"L = L0/gama;    // Contracted length of the metre stick, m\n",
"printf('\nThe contracted length of the metre stick = %4.2f m', L);\n",
" \n",
"// Result\n",
"// The contracted length of the metre stick = 0.67 m "
   ]
   }
,
{
		   "cell_type": "markdown",
		   "metadata": {},
		   "source": [
			"## Example 1.8: Mean_lifetime_of_meson_in_motion.sce"
		   ]
		  },
  {
"cell_type": "code",
	   "execution_count": null,
	   "metadata": {
	    "collapsed": true
	   },
	   "outputs": [],
"source": [
"// Scilab Code Ex1.8: Page:29 (2011) \n",
"clc;clear;\n",
"c = 3e+008;    // Speed of light in vacuum, m/s\n",
"tau0 = 2e-008;    // Mean lifetime of meson at rest, m/s\n",
"v = 0.8*c;    // Velocity of moving meason, m/s\n",
"tau = tau0/sqrt(1-v^2/c^2);    // Mean lifetime of meson in motion, m/s\n",
"printf('\nThe mean lifetime of meson in motion = %4.2e s', tau);\n",
"\n",
"// Result\n",
"// The mean lifetime of meson in motion = 3.33e-008 s "
   ]
   }
,
{
		   "cell_type": "markdown",
		   "metadata": {},
		   "source": [
			"## Example 1.9: Speed_at_which_a_moving_clock_ticks_slow.sce"
		   ]
		  },
  {
"cell_type": "code",
	   "execution_count": null,
	   "metadata": {
	    "collapsed": true
	   },
	   "outputs": [],
"source": [
"// Scilab Code Ex1.9: Page:30 (2011) \n",
"clc;clear;\n",
"c = 3e+008;    // Speed of light in vacuum, m/s\n",
"delta_t0 = 59;    // Reading of the moving clock for each hour, min\n",
"delta_t = 60;    // Reading of the stationary clock for each hour, min\n",
"// As from Time Dilation, delta_t = delta_t0/sqrt(1-v^2/c^2), solving for v\n",
"v = c*sqrt(1-(delta_t0/delta_t)^2);\n",
"printf('\nThe speed at which the moving clock ticks slow = %4.2e m/s', v);\n",
"\n",
"// Result\n",
"// The speed at which the moving clock ticks slow = 5.45e+007 m/s "
   ]
   }
],
"metadata": {
		  "kernelspec": {
		   "display_name": "Scilab",
		   "language": "scilab",
		   "name": "scilab"
		  },
		  "language_info": {
		   "file_extension": ".sce",
		   "help_links": [
			{
			 "text": "MetaKernel Magics",
			 "url": "https://github.com/calysto/metakernel/blob/master/metakernel/magics/README.md"
			}
		   ],
		   "mimetype": "text/x-octave",
		   "name": "scilab",
		   "version": "0.7.1"
		  }
		 },
		 "nbformat": 4,
		 "nbformat_minor": 0
}
