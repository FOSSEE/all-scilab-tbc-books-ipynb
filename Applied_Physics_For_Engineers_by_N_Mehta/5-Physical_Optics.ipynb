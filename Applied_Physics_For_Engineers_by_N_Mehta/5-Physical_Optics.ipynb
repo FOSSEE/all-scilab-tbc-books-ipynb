{
"cells": [
 {
		   "cell_type": "markdown",
	   "metadata": {},
	   "source": [
       "# Chapter 5: Physical Optics"
	   ]
	},
{
		   "cell_type": "markdown",
		   "metadata": {},
		   "source": [
			"## Example 5.10: Radius_of_the_curvature_of_the_lens_and_the_thickness_of_the_air_film.sce"
		   ]
		  },
  {
"cell_type": "code",
	   "execution_count": null,
	   "metadata": {
	    "collapsed": true
	   },
	   "outputs": [],
"source": [
"// Scilab Code Ex5.10: Page:301 (2011)\n",
"clc;clear;\n",
"D10 = 0.005;....// Diameter of Newton's 5th ring, m \n",
"n = 10;....// Order of the ring\n",
"lambda = 6.0e-007;....// Wavelength of the light used, m\n",
"R = (D10^2)/(4*n*lambda);    // Radius of the curvature of the lens, m\n",
"printf('\nThe radius of the curvature of the lens = %6.4f m', R);\n",
"t = D10^2/(8*R);  \n",
"printf('\nThe thickness of the corresponding air film = %3.1e m',t);\n",
"\n",
"// Result\n",
"// The radius of the curvature of the lens = 1.0417 m\n",
"// The thickness of the corresponding air film = 3.0e-006 m m "
   ]
   }
,
{
		   "cell_type": "markdown",
		   "metadata": {},
		   "source": [
			"## Example 5.11: Thickness_of_the_soap_film.sce"
		   ]
		  },
  {
"cell_type": "code",
	   "execution_count": null,
	   "metadata": {
	    "collapsed": true
	   },
	   "outputs": [],
"source": [
"// Scilab Code Ex5.11: Page-301 (2011)\n",
"clc;clear;\n",
"mu = 1.43;....// Refractive index of the soap film\n",
"n = 0;    // Order of fringes for smallest thickness\n",
"i = 30;    // Angle of incidence, degrees\n",
"// As sin(i)/sin(r) = mu, cos(r)\n",
"cosr = sqrt(1-(sind(i)/mu)^2);    // Cosine of angle r\n",
"lambda = 6.0e-007;....// Wavelength of the light, m\n",
"t = (2*n+1)*lambda/(4*mu*cosr);....// Thickness of the soap film, m\n",
"printf('\nThe thickness of the soap film = %4.2e m', t);\n",
"\n",
"// Result\n",
"// The thickness of the soap film = 1.12e-007 m "
   ]
   }
,
{
		   "cell_type": "markdown",
		   "metadata": {},
		   "source": [
			"## Example 5.12: Least_thickness_of_the_soap_film_that_will_appear_bright_dark.sce"
		   ]
		  },
  {
"cell_type": "code",
	   "execution_count": null,
	   "metadata": {
	    "collapsed": true
	   },
	   "outputs": [],
"source": [
"// Scilab Code Ex5.12: Page:301 (2011)\n",
"clc;clear;\n",
"lambda = 5.893e-007;....// Wavelength of the sodium light, m\n",
"mu = 1.42;....// Refractive index of the soap film\n",
"r = 0;    // Angle of refraction, degrees\n",
"n = 0;    // Order of diffraction for least thickness of dark film\n",
"t = (2*n+1)*lambda/(4*mu*cosd(r));    // Least thickness of the film that will apear bright, m\n",
"printf('\nThe least thickness of the film that will appear bright = %5.1f m', t/1e-010);\n",
"n = 1;    // Order of diffraction for least thickness of bright film\n",
"t = n*lambda/(2*mu*cosd(r));    // Least thickness of the film that will apear dark, m \n",
"printf('\nThe least thickness of the film that will appear dark = %6.2f m',t/1e-010);\n",
"\n",
"// Result\n",
"// The least thickness of the film that will appear bright = 1037.5 m\n",
"// The least thickness of the film that will appear dark = 2075.00 m "
   ]
   }
,
{
		   "cell_type": "markdown",
		   "metadata": {},
		   "source": [
			"## Example 5.13: Thickness_of_the_wire_separating_edges_of_two_plane_glass_surfaces.sce"
		   ]
		  },
  {
"cell_type": "code",
	   "execution_count": null,
	   "metadata": {
	    "collapsed": true
	   },
	   "outputs": [],
"source": [
"// Scilab Code Ex5.13: Page:302 (2011)\n",
"clc;clear;\n",
"lambda = 5.893e-007;....// Wavelength of the sodium light, m\n",
"// As fringe width of the thin wedge-shaped air film is\n",
"// W = lambda/(2*t/20*W), solving for t\n",
"t = (10*lambda);    // Thickness of the wire separating edges of two plane glass surfaces, m\n",
"printf('\nThe thickness of the wire = %5.3e m', t);\n",
"\n",
"// Result\n",
"// The thickness of the wire = 5.893e-006 m "
   ]
   }
,
{
		   "cell_type": "markdown",
		   "metadata": {},
		   "source": [
			"## Example 5.14: Radius_of_curvature_of_the_lens_and_the_thickness_of_the_corresponding_air_film.sce"
		   ]
		  },
  {
"cell_type": "code",
	   "execution_count": null,
	   "metadata": {
	    "collapsed": true
	   },
	   "outputs": [],
"source": [
"// Scilab Code Ex5.14: Page:303 (2011)\n",
"clc;clear;\n",
"lambda = 5.9e-007;....// Wavelength of the reflected light, m\n",
"n = 10;....// Order of the ring\n",
"D10 = 0.005;....// Diameter of the 10th ring,in m \n",
"R = (D10^2)/(4*n*lambda);    // Radius of curvature of the lens, m\n",
"printf('\nThe radius of curvature of the lens = %6.4f m', R);\n",
"t = (D10^2)/(8*R);    // Thickness of the corresponding air film, m\n",
"printf('\nThe thickness of the corresponding air film = %4.2e m',t);\n",
"\n",
"// Result\n",
"// The radius of curvature of the lens = 1.0593 m\n",
"// The thickness of the corresponding air film = 2.95e-006 m "
   ]
   }
,
{
		   "cell_type": "markdown",
		   "metadata": {},
		   "source": [
			"## Example 5.16: Angles_at_which_first_and_second_order_maxima_can_be_observed.sce"
		   ]
		  },
  {
"cell_type": "code",
	   "execution_count": null,
	   "metadata": {
	    "collapsed": true
	   },
	   "outputs": [],
"source": [
"// Scilab Code Ex5.16: Page:304 (2011)\n",
"clc;clear;\n",
"lambda = 6.328e-007;....// Wavelength of monochromatic light from He laser, m\n",
"n1 = 1;....// First order \n",
"n2 = 2;....// Second order\n",
"l = 6000;....// Lines/cm of the diffraction grating\n",
"A= 1.66e-6;\n",
"theta = asind(n1*lambda/A);\n",
"printf('\n The first order maximum angle = %4.1f degrees',theta);\n",
"theta = asind(n2*lambda/A);\n",
"printf('\n The second order maximum angle = %4.1f degrees',theta);\n",
"\n",
"// Result\n",
"// The first order maximum angle = 22.4 degrees\n",
"// The second order maximum angle = 49.7 degrees "
   ]
   }
,
{
		   "cell_type": "markdown",
		   "metadata": {},
		   "source": [
			"## Example 5.17: EX5_17.sce"
		   ]
		  },
  {
"cell_type": "code",
	   "execution_count": null,
	   "metadata": {
	    "collapsed": true
	   },
	   "outputs": [],
"source": [
"// Scilab Code Ex5.17: Page:305 (2011)\n",
"clc;clear;\n",
"a = 1;    // For simplicity assume slit width to be unity, unit\n",
"theta = 1; // For simplicity assume diffraction angle to be unity, unit\n",
"// As a*sin(theta) = m*lambda, solving for lambdas\n",
"lambda1 = a*sin(theta);    // First wavelength, angstrom\n",
"lambda2 = a*sin(theta)/2;    // First wavelength, angstrom\n",
"printf('\nlambda1 = %d*lambda2', lambda1/lambda2);\n",
"\n",
"// Result\n",
"// lambda1 = 2*lambda2 "
   ]
   }
,
{
		   "cell_type": "markdown",
		   "metadata": {},
		   "source": [
			"## Example 5.18: Angular_position_of_the_first_two_minima_on_either_side_of_a_central_maxima.sce"
		   ]
		  },
  {
"cell_type": "code",
	   "execution_count": null,
	   "metadata": {
	    "collapsed": true
	   },
	   "outputs": [],
"source": [
"// Scilab Code Ex5.18: Page:305 (2011)\n",
"clc;clear;\n",
"function [deg, minute] = deg2degmin(theta)\n",
"    deg = int(theta);\n",
"    minute = (theta - deg)*60;\n",
"endfunction\n",
"\n",
"lambda = 5.5e-007;....// Wavelength of light, m\n",
"a = 2.2e-006;....// Width of the slit, m\n",
"l = 6000;....// Lines /cm of the diffraction grating\n",
"// In a single slit diffraction pattern the directions of minimum intensity are given by a*sintheta = m*lambda where m = 1,2,3....\n",
"// For m = 1\n",
"m = 1;....// First order\n",
"theta = asind(m*lambda/a);    // Angular position of first minima on either side of the central maxima, degrees\n",
"[deg, minute] = deg2degmin(theta);    // Degree to deg-min conversion\n",
"printf('\nThe angular position of first minima on either side of the central maxima = %2d degrees %2d minutes', deg, minute);\n",
"// For m = 2\n",
"m = 2;....// Second order\n",
"theta = asind(m*lambda/a);\n",
"[deg, minute] = deg2degmin(theta);    // Degree to deg-min conversion\n",
"printf('\nThe angular position of second minima on either side of the central maxima = %2d degrees %2d minutes', deg, minute);\n",
"\n",
"// Result\n",
"// "
   ]
   }
,
{
		   "cell_type": "markdown",
		   "metadata": {},
		   "source": [
			"## Example 5.19: Wavelength_of_light_and_the_missing_order_of_Fraunhofer_diffraction.sce"
		   ]
		  },
  {
"cell_type": "code",
	   "execution_count": null,
	   "metadata": {
	    "collapsed": true
	   },
	   "outputs": [],
"source": [
"// Scilab Code Ex5.19: Page:306 (2011)\n",
"clc;clear;\n",
"D = 1.7;....// Distance between the slit and the screen, m\n",
"W = 2.5e-003;....// Given fringe width, m \n",
"a = 8e-005;....// Width of the first slit, m\n",
"b = 4e-004;....// Width of the second slit, m\n",
"n = b;    //      \n",
"p = [1 2 3 4 5 6];\n",
"// In a double slit experiment Fraunhoffer diffraction pattern,the fringe width is given by W = lambda*D/n \n",
"lambda = b*W/D;    // Wavelength of the light used, m\n",
"printf('\nThe wavelength of light = %4d angstrom', lambda/1e-010);\n",
"printf('\nThe missing orders are:\n');\n",
"for i = 1:1:6\n",
"s = [(a+b)/a]*p(i);\n",
"printf('\t%d', s);\n",
"end\n",
"printf('  etc.')\n",
"// Result\n",
"// The wavelength of light = 5882 angstrom\n",
"// The missing orders are:\n",
"// 	6	12	18	24	30	36  etc. \n",
" "
   ]
   }
,
{
		   "cell_type": "markdown",
		   "metadata": {},
		   "source": [
			"## Example 5.1: Order_of_interference_maximum_with_different_wavelength.sce"
		   ]
		  },
  {
"cell_type": "code",
	   "execution_count": null,
	   "metadata": {
	    "collapsed": true
	   },
	   "outputs": [],
"source": [
"// Scilab Code Ex5.1: Page:297 (2011) \n",
"clc;clear;\n",
"n1 = 10;....// Order of interference maximum for lambda = 7000 angstrom\n",
"lambda1 = 7000;....// Wavelength of the light, angstrom\n",
"lambda2 = 5000;....// Wavelength of the light, angstrom\n",
"// As W = D*lambda/(2*d) then, x = n1*D*lambda1/(2*d) = n2*D*lambda2/(2*d), solving for n2\n",
"n2 = n1*lambda1/lambda2;    // Order of interference maximum for lambda = 5000 angstrom\n",
"printf('\nThe order of interference maximum for wavelength of 5000 angstrom = %2d ', n2);\n",
"\n",
"// Result\n",
"// The order of interference maximum for wavelength of 5000 angstrom = 14  "
   ]
   }
,
{
		   "cell_type": "markdown",
		   "metadata": {},
		   "source": [
			"## Example 5.20: Deduction_of_wavelength_of_the_light_from_given_data.sce"
		   ]
		  },
  {
"cell_type": "code",
	   "execution_count": null,
	   "metadata": {
	    "collapsed": true
	   },
	   "outputs": [],
"source": [
"//Scilab Code Ex5.20: Page-306 (2011)\n",
"clc;clear;\n",
"D = 2;....// Distance of the screen from the slit, m\n",
"x = 1.6e-02;....// Position of centre of the second dark band, m\n",
"m = 2;    // Order of diffraction\n",
"a = 1.4e-04;....// Width of the slit, m\n",
"lambda = a*x/(m*D);    // Wavelength of light, m\n",
"printf('\n The wavelength of the light = %4d angstrom', ceil(lambda/1e-010));\n",
"\n",
"// Result\n",
"// The wavelength of the light = 5600 angstrom "
   ]
   }
,
{
		   "cell_type": "markdown",
		   "metadata": {},
		   "source": [
			"## Example 5.21: Minimum_number_of_lines_in_a_grating.sce"
		   ]
		  },
  {
"cell_type": "code",
	   "execution_count": null,
	   "metadata": {
	    "collapsed": true
	   },
	   "outputs": [],
"source": [
"// Scilab Code Ex5.21: Page:307 (2011)\n",
"clc;clear;\n",
"lambda1 = 5890;....// Wavelength of the line, angstrom\n",
"lambda2 = 5896;....// Wavelength of the line, angstrom\n",
"d_lambda = lambda2 - lambda1;....// Wavelength difference, angstrom\n",
"n = 2;....// Order of diffraction\n",
"N = lambda2/(n*d_lambda);    // Minimum no. of lines in a grating\n",
"printf('\nThe minimum number of lines in the grating = %3d lines', N);\n",
"\n",
"// Result\n",
"// The minimum number of lines in the grating = 491 lines "
   ]
   }
,
{
		   "cell_type": "markdown",
		   "metadata": {},
		   "source": [
			"## Example 5.22: Maximum_number_of_visible_orders.sce"
		   ]
		  },
  {
"cell_type": "code",
	   "execution_count": null,
	   "metadata": {
	    "collapsed": true
	   },
	   "outputs": [],
"source": [
"// Scilab Code 5.22: Page:307 (2011) \n",
"clc;clear;\n",
"lambda = 5.0e-07;....// Wavelength of the radiation, m\n",
"a_plus_b = 2.54e-02/2620;....// The grating element, m\n",
"theta_max = 90;    // Maximum value of angle of diffraction, degrees\n",
"n_max = a_plus_b/lambda*sind(theta_max);    // Maximum number of visible orders \n",
"printf('\nThe number of visible orders = %2d ', n_max);\n",
"\n",
"// Result\n",
"// The number of visible orders = 19  "
   ]
   }
,
{
		   "cell_type": "markdown",
		   "metadata": {},
		   "source": [
			"## Example 5.23: Grating_element_of_diffraction_grating.sce"
		   ]
		  },
  {
"cell_type": "code",
	   "execution_count": null,
	   "metadata": {
	    "collapsed": true
	   },
	   "outputs": [],
"source": [
"// Scilab Code 5.23: Page:307 (2011)\n",
"clc;clear;\n",
"lambda1 = 6000;....// Wavelength of yellow line, angstrom\n",
"lambda2 = 4800;....// Wavelength of blue line, angstrom\n",
"theta = asin(3/4);    // Angle of diffraction, radian\n",
"// As a_plus_b*sin_theta) = n*lambda, so n*lambda1 = (n+1)*lambda2, solving for n\n",
"n = poly(0, 'n');\n",
"n = roots(n*6000 - (n+1)*4800);    // Order of diffraction\n",
"a_plus_b = n*6000/sin(theta);    // Grating element of diffraction grating, m\n",
"printf('\nThe Grating element of diffraction grating = %3.1e m', a_plus_b*1e-010);\n",
"\n",
"// Result\n",
"// The Grating element of diffraction grating = 3.2e-006 m "
   ]
   }
,
{
		   "cell_type": "markdown",
		   "metadata": {},
		   "source": [
			"## Example 5.26: Coinciding_spectral_lines.sce"
		   ]
		  },
  {
"cell_type": "code",
	   "execution_count": null,
	   "metadata": {
	    "collapsed": true
	   },
	   "outputs": [],
"source": [
"// Scilab Code Ex5.26: Page:310 (2011)\n",
"clc;clear;\n",
"n = 5;....// Order for given wavelength\n",
"m = [4 5 6 7 8];    // Orders of spectral lines in the visible range\n",
"lambda1 = 6000;....// Wavelength of the spectral line in visible range, angstrom\n",
"lambda2 = zeros(5);\n",
"printf('\n The spectral lines in visible ranges are:\n');\n",
"for i=1:1:5\n",
"l2 = (n*lambda1)/m(i);\n",
"lambda2(i) = l2;    // Preserve the lambda value\n",
"printf('%4d angstrom\n', ceil(l2));\n",
"end\n",
"printf('\nThe other spectral lines in the visible range 4000A to 7000A are');\n",
"for i=1:1:5\n",
"    if lambda2(i) < 7000 & lambda2(i) > 4000 then\n",
"        if lambda2(i) == 6000 then\n",
"            continue\n",
"        end\n",
"          printf('\n%4dA', ceil(lambda2(i)));\n",
"    end\n",
"end\n",
"\n",
"// Result\n",
"// The spectral lines in visible ranges are:\n",
"// 7500 angstrom\n",
"// 6000 angstrom\n",
"// 5000 angstrom\n",
"// 4285 angstrom\n",
"// 3750 angstrom\n",
"\n",
"// The other spectral lines in the visible range 4000A to 7000A are\n",
"// 5000A\n",
"// 4286A "
   ]
   }
,
{
		   "cell_type": "markdown",
		   "metadata": {},
		   "source": [
			"## Example 5.27: Resolution_of_D1_and_D2_lines_of_sodium.sce"
		   ]
		  },
  {
"cell_type": "code",
	   "execution_count": null,
	   "metadata": {
	    "collapsed": true
	   },
	   "outputs": [],
"source": [
"// Scilab Code Ex5.27: Page:310 (2011)\n",
"clc;clear;\n",
"N = 4500;....// Number of lines in grating\n",
"n = 2;....// Order of diffraction\n",
"lambda1 = 5890;....// Wavelength, angstrom\n",
"lambda2 = 5896;....// Wavelength, angstrom\n",
"RP2 = n*N;    // Resolving power of grating in the second order\n",
"lambda = (lambda1+lambda2)/2;    // Mean wavelength of sodium light, angstrom\n",
"d_lambda = lambda2 - lambda1;    // Wavelength difference, angstrom\n",
"RP = lambda/d_lambda;    // Calculated resolving power of grating \n",
"if RP2 <> RP then\n",
"    printf('\nThe D1 and D2 lines of Na light cannot be resolved in second order');\n",
"end\n",
"\n",
"// Result\n",
"// The D1 and D2 lines of Na light cannot be resolved in second order "
   ]
   }
,
{
		   "cell_type": "markdown",
		   "metadata": {},
		   "source": [
			"## Example 5.28: Distance_between_two_stars_which_are_just_resolved.sce"
		   ]
		  },
  {
"cell_type": "code",
	   "execution_count": null,
	   "metadata": {
	    "collapsed": true
	   },
	   "outputs": [],
"source": [
"// Scilab Code Ex5.28: Page:311 (2011) \n",
"clc;clear;\n",
"lambda = 5.5e-07;....// Wavelength of light used, m\n",
"f = 3.0;....// Focal length of telescope objective, m \n",
"a = 0.01;....// Diameter of the telescope objective, m\n",
"// As x/f = 1.22*lambda/a, the Rayleigh criterian for resolution, solving for x\n",
"x = 1.22*f*lambda/a;    // Distance between two stars just seen as separate, m\n",
"printf('\nThe distance between two stars just seen as separate = %3.1e m ', x);\n",
"\n",
"// Result\n",
"// The distance between two stars just seen as separate = 2.0e-004 m  "
   ]
   }
,
{
		   "cell_type": "markdown",
		   "metadata": {},
		   "source": [
			"## Example 5.29: Numerical_aperature_of_the_objective_of_microscope.sce"
		   ]
		  },
  {
"cell_type": "code",
	   "execution_count": null,
	   "metadata": {
	    "collapsed": true
	   },
	   "outputs": [],
"source": [
"// Scilab Code Ex5.29: Page:311 (2011)\n",
"clc;clear;\n",
"lambda = 5.461e-07;....// Wavelength of light used, m\n",
"d = 4.0e-07;....// Distance between the two luminous objects, m\n",
"// As d = 1.22*lambda/(2*mu*sin(alpha)) = 1.22*lambda/(2*NA), solving for NA\n",
"NA = 1.22*lambda/(2*d);     // Numerical aperature of the objective of microscope \n",
"printf('\nThe numerical aperature of the objective of microscope = %5.3f ', NA);\n",
"\n",
"// Result\n",
"// The numerical aperature of the objective of microscope = 0.833  "
   ]
   }
,
{
		   "cell_type": "markdown",
		   "metadata": {},
		   "source": [
			"## Example 5.2: Angle_of_the_biprism.sce"
		   ]
		  },
  {
"cell_type": "code",
	   "execution_count": null,
	   "metadata": {
	    "collapsed": true
	   },
	   "outputs": [],
"source": [
"// Scilab Code Ex5.2: Page:297 (2011) \n",
"clc;clear;\n",
"D = 1.6;....// Distance between the slit and the screen, m\n",
"a = 0.4;....// Distance between the slit and the biprism, m\n",
"mu = 1.52;....// Refractive index of the material of biprism\n",
"W = 1e-004;    // Fringe width, m\n",
"lambda = 5.893e-007;....// Wavelength of light used, m\n",
"// As W = lambda*D/(2*a(mu-1)*alpha then\n",
"alpha = ((lambda*D)/(2*a*(mu-1)*W))*180/%pi;    // Angle of biprism, degrees\n",
"printf('\nThe angle of the biprism = %3.1f degrees', alpha);\n",
"\n",
"// Result\n",
"// The angle of the biprism = 1.3 degrees "
   ]
   }
,
{
		   "cell_type": "markdown",
		   "metadata": {},
		   "source": [
			"## Example 5.30: Aperture_of_the_objective_of_a_telescope.sce"
		   ]
		  },
  {
"cell_type": "code",
	   "execution_count": null,
	   "metadata": {
	    "collapsed": true
	   },
	   "outputs": [],
"source": [
"// Scilab Code Ex5.30: Page:312 (2011)\n",
"clc;clear;\n",
"lambda = 6.0e-07;....// Wavelength of light used, m\n",
"d_theta = 2.44e-06;....// Angular separation between the two stars, radian\n",
"a = 1.22*lambda/d_theta;    // Aperature of the objective of a telescope from Rayleigh criterian, m\n",
"printf('\nThe aperature of the objective of the telescope = %3.1f m ', a)\n",
"\n",
"// Result\n",
"// The aperature of the objective of the telescope = 0.3 m  "
   ]
   }
,
{
		   "cell_type": "markdown",
		   "metadata": {},
		   "source": [
			"## Example 5.31: Minimum_distance_from_the_telescope_at_which_the_the_pinhole_can_be_resolved.sce"
		   ]
		  },
  {
"cell_type": "code",
	   "execution_count": null,
	   "metadata": {
	    "collapsed": true
	   },
	   "outputs": [],
"source": [
"// Scilab Code Ex5.31:Page:312 (2011)\n",
"clc;clear;\n",
"lambda = 5.5e-007;....// Wavelength of light used, m\n",
"x = 1.5e-003;....// Distance between the two pinholes, m\n",
"a = 4.0e-003;....// Diameter of objective, m\n",
"D = a*x/(1.22*lambda);    // Minimum distance from the telescope at which the the pinhole can be resolved from Rayleigh criterian, m \n",
"printf('\nThe minimum distance from the telescope at which the the pinhole can be resolved = %4.2f m ', D);\n",
"\n",
"// Result\n",
"// The minimum distance from the telescope at which the the pinhole can be resolved = 8.9"
   ]
   }
,
{
		   "cell_type": "markdown",
		   "metadata": {},
		   "source": [
			"## Example 5.32: Numerical_aperature_of_the_objective_of_microscope_for_given_wavelength_of_light.sce"
		   ]
		  },
  {
"cell_type": "code",
	   "execution_count": null,
	   "metadata": {
	    "collapsed": true
	   },
	   "outputs": [],
"source": [
"// Scilab Code Ex5.32: Page:312 (2011)\n",
"clc;clear;\n",
"lambda = 5.461e-07;....// Wavelength of light used, m\n",
"d = 5.55e-07;....// Distance between the two luminous objects, m\n",
"// As d = 1.22*lambda/(2*mu*sin(alpha)) = 1.22*lambda/(2*NA), solving for NA\n",
"NA = 1.22*lambda/(2*d);     // Numerical aperature of the objective of microscope \n",
"printf('\nThe numerical aperature of the objective of microscope = %4.2f ', NA);\n",
"\n",
"// Result\n",
"// The numerical aperature of the objective of microscope = 0.60  "
   ]
   }
,
{
		   "cell_type": "markdown",
		   "metadata": {},
		   "source": [
			"## Example 5.33: Angle_of_minimum_deviation_for_green_light_for_its_passage_through_a_prism.sce"
		   ]
		  },
  {
"cell_type": "code",
	   "execution_count": null,
	   "metadata": {
	    "collapsed": true
	   },
	   "outputs": [],
"source": [
"// Scilab Code Ex5.33: Page:313 (2011)\n",
"clc;clear;\n",
"i = 60;    // Angle of incidence, degrees\n",
"mu = tand(i);    // Brewester's Law to calculate refractive index\n",
"A = 60;....// Angle of prism, degrees\n",
"// As mu = sind((A+delta_m)/2)/sind(A/2), solving for delta_m\n",
"delta_m = 2*asind(mu*sind(A/2))-A;    // Angle of minimum deviation for green light for its passage through a prism, degrees\n",
"printf('\nThe angle of minimum deviation for green light for its passage through a prism = %2d degrees', ceil(delta_m));\n",
"\n",
"// Result\n",
"// The angle of minimum deviation for green light for its passage through a prism = 60 de"
   ]
   }
,
{
		   "cell_type": "markdown",
		   "metadata": {},
		   "source": [
			"## Example 5.34: Thicknass_of_quarter_wave_plate.sce"
		   ]
		  },
  {
"cell_type": "code",
	   "execution_count": null,
	   "metadata": {
	    "collapsed": true
	   },
	   "outputs": [],
"source": [
"// Scilab Code Ex5.34: Page:313 (2011)\n",
"clc;clear;\n",
"lambda = 5.89e-07;....// Wavelength of light used, m\n",
"mu_O = 1.55;    // Refractive index of ordinary light\n",
"mu_E = 1.54;    // Refractive index of extraordinary light\n",
"tQ = lambda/(4*(mu_O-mu_E));    // The thickness of the quarter wave plate, m\n",
"printf('\nThe thickness of the quarter plate is = %6.4e m', tQ);\n",
"\n",
"// Result\n",
"// The thickness of the quarter plate is = 1.4725e-005 m "
   ]
   }
,
{
		   "cell_type": "markdown",
		   "metadata": {},
		   "source": [
			"## Example 5.35: Percentage_purity_of_the_sugar_sample.sce"
		   ]
		  },
  {
"cell_type": "code",
	   "execution_count": null,
	   "metadata": {
	    "collapsed": true
	   },
	   "outputs": [],
"source": [
"// Scilab Code Ex5.35: Page:313 (2011)\n",
"clc;clear;\n",
"theta = 9.9;....// Optical rotation of solution, degrees\n",
"l = 20;....// Length of the tube, cm\n",
"S = 66;....// Specific rotation of pure sugar solution, degree per dm-(g/cc)\n",
"// As the specific rotation, S = 10*theta/l*c, solving for c\n",
"c = 10*theta/(l*S);    // Concentration of solution for pure sugar, g/cc\n",
"c_prime = 0.080;    // Concentration of solution for impure sugar, g/cc\n",
"Percentage_purity = c*100/c_prime;    // Percentage purity of sugar sample\n",
"printf('\nThe percentage_purity of the sugar sample = %5.2f percent', Percentage_purity);\n",
"\n",
"// Result\n",
"// The percentage_purity of the sugar sample = 93.75 percent "
   ]
   }
,
{
		   "cell_type": "markdown",
		   "metadata": {},
		   "source": [
			"## Example 5.36: Specific_rotation_of_sugar_solution_for_given_plane_of_polarization.sce"
		   ]
		  },
  {
"cell_type": "code",
	   "execution_count": null,
	   "metadata": {
	    "collapsed": true
	   },
	   "outputs": [],
"source": [
"// Scilab Code Ex5.36: Page:314 (2011)\n",
"clc;clear;\n",
"theta = 26.4;....// Optical rotation of sugar solution, degrees\n",
"l = 20;....// Length of the tube, cm\n",
"c = 0.20;....// Concentration of the solution, g/cc\n",
"S = 10*theta/(l*c);    // The specific rotation of the sugar solution, degree per dm per (g/cc) \n",
"printf('\nThe specific rotation of the sugar solution = %2d degrees',S);\n",
"\n",
"// Result\n",
"// The specific rotation of the sugar solution = 66 degrees "
   ]
   }
,
{
		   "cell_type": "markdown",
		   "metadata": {},
		   "source": [
			"## Example 5.37: Angle_of_rotation_produced_by_quartz_plate.sce"
		   ]
		  },
  {
"cell_type": "code",
	   "execution_count": null,
	   "metadata": {
	    "collapsed": true
	   },
	   "outputs": [],
"source": [
"// Scilab Code Ex5.37: Page:315 (2011)\n",
"clc;clear;\n",
"// Function to convert degrees to deg-min\n",
"function [d,m] = deg2degmin(deg)\n",
"    d = int(deg);\n",
"    m = (deg-d)*60;\n",
"endfunction\n",
"\n",
"lambda = 7.62e-07;....// Wavelength of the polarized light, m\n",
"mu_R = 1.53914;    // Refractive index of quartz for right-handed circularly polarized light\n",
"mu_L = 1.53920;    // Refractive index of quartz for left-handed circularly polarized light\n",
"t = 5.0e-004;....// Thickness of the plate, m\n",
"theta = %pi*t*(mu_L-mu_R)/lambda;     // The angle of optical rotation, radian\n",
"[d,m] = deg2degmin(theta*180/%pi);    // Call the conversion function\n",
"printf('\nThe angle of rotation produced by its plate = %6.4f radians = %d degrees %d minutes', theta, d, m);\n",
"\n",
"// Result\n",
"// The angle of rotation produced by its plate = 0.1237 radians = 7 degrees 5 minutes \n",
""
   ]
   }
,
{
		   "cell_type": "markdown",
		   "metadata": {},
		   "source": [
			"## Example 5.38: Optical_rotation_produced_by_new_length_of_sugar_solution.sce"
		   ]
		  },
  {
"cell_type": "code",
	   "execution_count": null,
	   "metadata": {
	    "collapsed": true
	   },
	   "outputs": [],
"source": [
"// Scilab Code Ex5.38: Page:315 (2011) \n",
"clc;clear;\n",
"theta = 13;....// Optical rotation of the solution, degrees\n",
"l = 20;....// Length of the tube, cm\n",
"l_prime = 30;....// New length of the tube, cm\n",
"c = 1;    // For simplicity assume concentration of sugar solution to be unity, g/cc\n",
"c_prime = c/3;    // New concentration of sugar solution, g/cc\n",
"// As, S = 10*theta/(l*c) so 10*theta/(l*c) = 10*theta_prime/(l_prime*c_prime)\n",
"// Solving for theta_prime\n",
"theta_prime = theta/(l*c)*l_prime*c_prime;    // The optical rotation produced by new length of sugar solution, degrees\n",
"printf('\nThe optical rotation of %d cm length of sugar solution = %3.1f degrees', l_prime, theta_prime);\n",
"\n",
"// Result\n",
"// The optical rotation of 30 cm length of sugar solution = 6.5 degrees "
   ]
   }
,
{
		   "cell_type": "markdown",
		   "metadata": {},
		   "source": [
			"## Example 5.39: Strength_of_the_solution.sce"
		   ]
		  },
  {
"cell_type": "code",
	   "execution_count": null,
	   "metadata": {
	    "collapsed": true
	   },
	   "outputs": [],
"source": [
"// Scilab Code Ex5.39: Page:315 (2011)\n",
"clc;clear;\n",
"theta = 11;....// Optical rotation of sugar solution, degrees\n",
"l = 20;....// Length of the tube, cm\n",
"S = 66;....// Specific rotation of sugar solution, degrees\n",
"c = theta*10/(l*S);    // The concentration of sugar solution, g/cc\n",
"printf('\nThe strength of the solution = %6.4f g/cc', c);\n",
"\n",
"// Result\n",
"// The strength of the solution = 0.0833 g/cc "
   ]
   }
,
{
		   "cell_type": "markdown",
		   "metadata": {},
		   "source": [
			"## Example 5.3: Thickness_of_the_mica_sheet.sce"
		   ]
		  },
  {
"cell_type": "code",
	   "execution_count": null,
	   "metadata": {
	    "collapsed": true
	   },
	   "outputs": [],
"source": [
"// Scilab Code Ex5.3 : Page:298 (2011)\n",
"clc;clear;\n",
"lambda = 5.890e-7;....// Wavelength of source of light, m \n",
"mu = 1.6;....//refractive index of the mica sheet\n",
"// As del_x = W*(mu-1)*t/lambda, where del_x = 3*W, solving for t\n",
"t = 3*lambda/(mu-1);    // Thickness of the mica sheet, m  \n",
"printf('\nThe thickness of the mica sheet = %5.3e cm', t/1e-02);\n",
"\n",
"// Result\n",
"// The thickness of the mica plate is = 2.945e-004 cm "
   ]
   }
,
{
		   "cell_type": "markdown",
		   "metadata": {},
		   "source": [
			"## Example 5.40: Length_of_sugar_solution_for_given_concentration_and_optical_rotation.sce"
		   ]
		  },
  {
"cell_type": "code",
	   "execution_count": null,
	   "metadata": {
	    "collapsed": true
	   },
	   "outputs": [],
"source": [
"// Scilab Code Ex5.40: Page:316 (2011)\n",
"clc;clear;\n",
"theta = 20;....// Optical rotation of sugar solution, degrees\n",
"theta_prime = 35;....// New optical rotation of sugar solution, degrees\n",
"c = 5;....// Percentage concentration of the solution\n",
"c_prime = 10;  // New percentage concentration of the solution\n",
"l = 1;       // For simplicity assume length of the sugar solution to be unity\n",
"l_prime = theta_prime*l*c/(c_prime*theta);\n",
"printf('\nThe length of sugar solution for %d percent concentration and %d degrees optical rotation = %5.3f*l ', c_prime, theta_prime, l_prime);\n",
"\n",
"// Result\n",
"// The length of sugar solution for 10 percent concentration and 35 degrees optical rotation = 0.875*l  \n",
""
   ]
   }
,
{
		   "cell_type": "markdown",
		   "metadata": {},
		   "source": [
			"## Example 5.4: Distance_between_the_two_coherent_sources.sce"
		   ]
		  },
  {
"cell_type": "code",
	   "execution_count": null,
	   "metadata": {
	    "collapsed": true
	   },
	   "outputs": [],
"source": [
"//Scilab Code Ex5.4: Page:298 (2011) \n",
"clc;clear;\n",
"lambda = 6.0e-7;....// Wavelength of the monochromatic light, m\n",
"D = 1;....// Distance between the screen and the two coherent sources, m \n",
"W = 5e-004;....// Fringe width, m\n",
"d = lambda*D/(W*1e-03);    // Distance between two coherent sources, mm\n",
"printf('\nThe distance between the two coherent sources = %3.1f mm', d);\n",
"\n",
"// Result\n",
"// The distance between the two coherent sources = 1.2 mm   "
   ]
   }
,
{
		   "cell_type": "markdown",
		   "metadata": {},
		   "source": [
			"## Example 5.5: Wavelength_of_light_used_in_a_biprism_experiment.sce"
		   ]
		  },
  {
"cell_type": "code",
	   "execution_count": null,
	   "metadata": {
	    "collapsed": true
	   },
	   "outputs": [],
"source": [
"// Scilab Code Ex5.5: Page:298 (2011) \n",
"clc;clear;\n",
"D = 1;....// Distance between slits and the screen, m\n",
"mu = 1.5;    // Refractive index of the material of biprism\n",
"a = 0.5;....// The distance between the slit and the biprism, m \n",
"W = 1.35e-004;....// Width of the fringes, m\n",
"alpha = (180-179)/2*%pi/180;    // Acute angle of biprism, radian\n",
"lambda = 2*a*(mu-1)*alpha*W/D;    // Wavelength of light used, m\n",
"printf('\nThe wavelength of light used = %4d angstrom', lambda/1e-10);\n",
"\n",
"// Result\n",
"// The wavelength of light used = 5890 angstrom "
   ]
   }
,
{
		   "cell_type": "markdown",
		   "metadata": {},
		   "source": [
			"## Example 5.6: Distance_between_the_slits.sce"
		   ]
		  },
  {
"cell_type": "code",
	   "execution_count": null,
	   "metadata": {
	    "collapsed": true
	   },
	   "outputs": [],
"source": [
"// Scilab Code Ex5.6: Page:299 (2011) \n",
"clc;clear;\n",
"lambda = 6.328e-007;....// Wavelength of the monochromatic light, m\n",
"D = 40;....// Distance between the slits and the screen, m \n",
"W = 0.1;....// Distance between the interference maxima, m\n",
"d = lambda*D/W;    // Distance between the slits, m\n",
"printf('\nThe distance between the slits = %6.4f mm',d/1e-03);\n",
"\n",
"// Result\n",
"// The distance between the slits = 0.2531 mm "
   ]
   }
,
{
		   "cell_type": "markdown",
		   "metadata": {},
		   "source": [
			"## Example 5.7: Lateral_shift_of_central_maximum.sce"
		   ]
		  },
  {
"cell_type": "code",
	   "execution_count": null,
	   "metadata": {
	    "collapsed": true
	   },
	   "outputs": [],
"source": [
"// Scilab Code Ex5.7: Page:299 (2011)\n",
"clc;clear;\n",
"lambda = 5.0e-007;....// Wavelength of the monochromatic light, m\n",
"D = 1;....// Distance between the silts and the screen, m\n",
"d = 5e-004/2;....// Half of the distance between the two slits, m\n",
"mu = 1.5;....// Refractive index of glass\n",
"t = 1.5e-006;....// Thickness of thin glass plate, m\n",
"del_x = D*(mu-1)*t/(2*d);\n",
"printf('\nThe lateral shift of central maximum = %3.1f m', del_x/1e-03);\n",
"\n",
"// Result\n",
"// The lateral shift of central maximum = 1.5 m "
   ]
   }
,
{
		   "cell_type": "markdown",
		   "metadata": {},
		   "source": [
			"## Example 5.8: Thickness_of_a_soap_bubble_film.sce"
		   ]
		  },
  {
"cell_type": "code",
	   "execution_count": null,
	   "metadata": {
	    "collapsed": true
	   },
	   "outputs": [],
"source": [
"// Scilab Code Ex5.8: Page:300 (2011)\n",
"clc;clear;\n",
"lambda = 6.0e-007;....// Wavelength of the light, m\n",
"mu = 1.463;....// Refrctive index of a soap bubble film\n",
"n = 0;    // Value of n for smallest thickness\n",
"r = 0;    // Angle of refraction for normal incidence\n",
"// As 2*mu*t*cos(r) = (2*n+1)*lambda/2, solving for t\n",
"t = (2*n+1)*lambda/(4*mu*cos(r));    // The thickness of a soap bubble film, m \n",
"printf('\nThe thickness of a soap bubble film = %5.1f angstrom', t/1e-010);\n",
"\n",
"// Result\n",
"// The thickness of a soap bubble film = 1025.3 angstrom "
   ]
   }
,
{
		   "cell_type": "markdown",
		   "metadata": {},
		   "source": [
			"## Example 5.9: Wavelength_of_the_light_used_in_Newton_rings_experiment.sce"
		   ]
		  },
  {
"cell_type": "code",
	   "execution_count": null,
	   "metadata": {
	    "collapsed": true
	   },
	   "outputs": [],
"source": [
"// Scilab Code Ex5.9: Page:300 (2011)\n",
"clc;clear;\n",
"D5 = 3.36e-003;....// Diameter of Newton's 5th ring, m \n",
"D15 = 5.90e-003;....// Diameter of Newton's 15th ring, m \n",
"m = 10;    // Number of ring\n",
"R = 1;....// Radius of the plano-convex lens, m\n",
"lambda = (D15^2-D5^2)/(4*m*R);\n",
"printf('\nThe wavelength of the light used = %4d angstrom', lambda/1e-010);\n",
"\n",
"// Result\n",
"// The wavelength of the light used = 5880 angstrom "
   ]
   }
],
"metadata": {
		  "kernelspec": {
		   "display_name": "Scilab",
		   "language": "scilab",
		   "name": "scilab"
		  },
		  "language_info": {
		   "file_extension": ".sce",
		   "help_links": [
			{
			 "text": "MetaKernel Magics",
			 "url": "https://github.com/calysto/metakernel/blob/master/metakernel/magics/README.md"
			}
		   ],
		   "mimetype": "text/x-octave",
		   "name": "scilab",
		   "version": "0.7.1"
		  }
		 },
		 "nbformat": 4,
		 "nbformat_minor": 0
}
