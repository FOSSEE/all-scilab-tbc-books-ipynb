{
"cells": [
 {
		   "cell_type": "markdown",
	   "metadata": {},
	   "source": [
       "# Chapter 6: X Rays"
	   ]
	},
{
		   "cell_type": "markdown",
		   "metadata": {},
		   "source": [
			"## Example 6.1: Electrons_striking_the_target_in_X_ray_coolidge_tube.sce"
		   ]
		  },
  {
"cell_type": "code",
	   "execution_count": null,
	   "metadata": {
	    "collapsed": true
	   },
	   "outputs": [],
"source": [
"// Scilab Code Ex6.1: Page-369 (2011) \n",
"clc;clear;\n",
"i = 2e-003;....// Current through X-ray tube, A\n",
"e = 1.6e-019;....// Charge on an electron, C\n",
"V = 12.4e+003;....// Potential difference applied across X-ray tube, V \n",
"m0 = 9.1e-031;....// Rest mass of the electron, Kg \n",
"n = i/e;    // Number of electrons striking the target per second\n",
"printf('\nThe number of electrons striking the target per sec = %4.2e electrons', n);\n",
"v = sqrt(2*e*V/m0);....// Velocity of the electrons, m/s\n",
"printf('\nThe speed with which electrons strike the target = %4.2e m/s', v);\n",
"\n",
"// Result\n",
"// The number of electrons striking the target per sec = 1.25e+016 electrons\n",
"// The speed with which electrons strike the target = 6.60e+007 m/s "
   ]
   }
,
{
		   "cell_type": "markdown",
		   "metadata": {},
		   "source": [
			"## Example 6.2: Maximum_speed_of_the_electron_striking_the_target.sce"
		   ]
		  },
  {
"cell_type": "code",
	   "execution_count": null,
	   "metadata": {
	    "collapsed": true
	   },
	   "outputs": [],
"source": [
"// Scilab Code Ex6.2: Page-370 (2011) \n",
"clc;clear;\n",
"e = 1.6e-019;....// Charge on an electron, C\n",
"V = 13.6e+003;....// Potential difference applied across X-ray tube, V \n",
"m0 = 9.1e-031;....// Rest mass of the electron, Kg \n",
"v = sqrt(2*e*V/m0);....// Velocity of the electron, m/s \n",
"printf('\nThe maximum speed with which the electrons strike the target = %4.2e m/s', v);\n",
"\n",
"// Result\n",
"// The maximum speed with which the electrons strike the target = 6.92e+007 m/s "
   ]
   }
,
{
		   "cell_type": "markdown",
		   "metadata": {},
		   "source": [
			"## Example 6.3: Longest_wavelength_that_can_be_analysed_by_a_rock_salt_crystal.sce"
		   ]
		  },
  {
"cell_type": "code",
	   "execution_count": null,
	   "metadata": {
	    "collapsed": true
	   },
	   "outputs": [],
"source": [
"// Scilab Code Ex6.3: Page-370 (2011)\n",
"clc;clear;\n",
"d = 2.82e-010;....// Spacing of the rock-salt, m \n",
"n = 2;....// Order of diffraction\n",
"theta = %pi/2;    // Angle of diffraction, radian\n",
"// Braggs equation for X-rays of wavelength lambda is n*lambda = 2*d*sin(theta), solving for lambda\n",
"lambda = 2*d*sin(theta)/n;    // Wavelength of X-ray using Bragg's law, m\n",
"printf('\nThe longest wavelength that can be analysed by a rock-salt crystal = %4.2f angstrom', lambda/1e-010);\n",
"\n",
"// Result\n",
"// The longest wavelength that can be analysed by a rock-salt crystal = 2.82 angstrom "
   ]
   }
,
{
		   "cell_type": "markdown",
		   "metadata": {},
		   "source": [
			"## Example 6.4: Angles_at_which_the_second_and_the_third_Bragg_diffraction_maxima_are_observed.sce"
		   ]
		  },
  {
"cell_type": "code",
	   "execution_count": null,
	   "metadata": {
	    "collapsed": true
	   },
	   "outputs": [],
"source": [
"// Scilab Code Ex6.4: Page-371 (2011)\n",
"clc;clear;\n",
"lambda = 3e-011;....// Wavelength of the X-ray, m\n",
"d = 5e-011;....// Lattice spacing, m \n",
"n = [2 3];....// Orders of diffraction\n",
"// Bragg's equation for X-rays of wavelength lambda is n*lambda = 2*d*sin(theta), solving for thetas\n",
"for i = 1:1:2\n",
"theta = asind(n(i)*lambda/(2*d));    \n",
"printf('\nFor n = %d, theta = %4.1f degrees', n(i), theta);\n",
"end\n",
"\n",
"// Result\n",
"// For n = 2, theta = 36.9 degrees\n",
"// For n = 3, theta = 64.2 degrees "
   ]
   }
,
{
		   "cell_type": "markdown",
		   "metadata": {},
		   "source": [
			"## Example 6.5: Interplanar_sepration_of_atomic_planes_in_the_crystal.sce"
		   ]
		  },
  {
"cell_type": "code",
	   "execution_count": null,
	   "metadata": {
	    "collapsed": true
	   },
	   "outputs": [],
"source": [
"// Scilab Code Ex6.5: Page-371 (2011)\n",
"clc;clear;\n",
"lambda = 3.6e-011;....// Wavelength of X-rays, m\n",
"n = 1;    // Order of diffraction\n",
"theta = 4.8;    // Angle of diffraction, degrees\n",
"// Braggs equation for X-rays is n*lambda = 2*d*sin(theta), solving for d\n",
"d = n*lambda/(2*sind(theta));    // Interplanar spacing, m\n",
"printf('\nThe interplanar separation of atomic planes in the crystal = %4.2f angstrom', d/1e-010);\n",
"\n",
"// Result\n",
"// The interplanar separation of atomic planes in the crystal = 2.15 angstrom "
   ]
   }
,
{
		   "cell_type": "markdown",
		   "metadata": {},
		   "source": [
			"## Example 6.6: Wavelength_of_K_alpha_radiation_in_copper_for_its_given_value_in_Mo.sce"
		   ]
		  },
  {
"cell_type": "code",
	   "execution_count": null,
	   "metadata": {
	    "collapsed": true
	   },
	   "outputs": [],
"source": [
"// Scilab Code Ex6.6: Page-371 (2011)\n",
"clc;clear;\n",
"lambda1 = 0.71;....// Wavelength of k alpha line in molybdenum, angstrom\n",
"Z1 = 42;        // Atomic number of Mo\n",
"Z2 = 29;        // Atomic number of Cu\n",
"// Wavelength of characteristic X-ray for K-alpha spectral line is given by \n",
"// 1/lambda = 3/4*R*(Z-1)^2 then\n",
"lambda2 = lambda1*(Z1-1)^2/(Z2-1)^2;    // The wavelength of K alpha radiation in copper, m\n",
"printf('\nThe wavelength of K-alpha radiation in copper = %4.2f angstrom', lambda2);\n",
"\n",
"// Result\n",
"// The wavelength of K-alpha radiation in copper = 1.52 angstrom "
   ]
   }
,
{
		   "cell_type": "markdown",
		   "metadata": {},
		   "source": [
			"## Example 6.7: Wavelength_of_gamma_radiation_at_90_degree.sce"
		   ]
		  },
  {
"cell_type": "code",
	   "execution_count": null,
	   "metadata": {
	    "collapsed": true
	   },
	   "outputs": [],
"source": [
"// Scilab Code Ex6.7: Page-372 (2011)\n",
"clc;clear;\n",
"phi = %pi/2;    // Scattering angle, degrees\n",
"m0 = 9.1e-031;....// Rest mass of an electron, kg\n",
"h =  6.62e-034;....// Planck's constant, J-s\n",
"c = 3e+008;....// Speed of light in vacuum, m/s \n",
"E = 8.16e-014;....// Energy of gamma radiation, J\n",
"lambda = h*c/(E*1e-010);    // Wavelength of incident photon, angstrom \n",
"lambda_prime = lambda+h*(1-cos(phi))/(m0*c*1e-010);    // Wavelength of scattered photon, angstrom\n",
"printf('\nThe wavelength of radiation at 90 degrees = %6.4f angstrom', lambda_prime);\n",
"\n",
"// Result\n",
"// The wavelength of radiation at 90 degrees = 0.0486 angstrom "
   ]
   }
,
{
		   "cell_type": "markdown",
		   "metadata": {},
		   "source": [
			"## Example 6.8: Compton_shift_from_a_carbon_block.sce"
		   ]
		  },
  {
"cell_type": "code",
	   "execution_count": null,
	   "metadata": {
	    "collapsed": true
	   },
	   "outputs": [],
"source": [
"// Scilab Code Ex6.8: Page-372 (2011)\n",
"clc;clear;\n",
"phi = %pi/2;    // Scattering angle, radian\n",
"m0 = 9.1e-031;....// Rest mass of the electron, kg\n",
"h =  6.62e-034;....// Planck's constant, J-s\n",
"c = 3e+008;....// Speed of light in vacuum, m/s \n",
"lambda = 1.00 ;....// Wavelength of incident photon,in angstrom\n",
"del_lambda = h*(1-cos(phi))/(m0*c*1e-010);    // Compton shift, angstrom\n",
"printf('\nThe Compton shift = %6.4f angstrom', del_lambda);\n",
"\n",
"// Result\n",
"// The Compton shift = 0.0242 angstrom "
   ]
   }
,
{
		   "cell_type": "markdown",
		   "metadata": {},
		   "source": [
			"## Example 6.9: Wavelength_of_incident_photon.sce"
		   ]
		  },
  {
"cell_type": "code",
	   "execution_count": null,
	   "metadata": {
	    "collapsed": true
	   },
	   "outputs": [],
"source": [
"// Scilab Code Ex6.9: Page-373 (2011)\n",
"clc;clear;\n",
"phi = %pi/2;       // Scattering angle, radian\n",
"m0 = 9.1e-031;....// Rest mass of the electron, kg\n",
"h =  6.62e-034;....// Planck's constant, J-s\n",
"c = 3e+008;....// Speed of light in vacuum, m/s \n",
"// As Compton shift = del_lambda = lambda, so\n",
"lambda = h*(1-cos(phi))/(m0*c*1e-010);    // Wavelength of incident photon, angstrom\n",
"printf('\nThe wavelength of incident radiation = %6.4f angstrom', lambda);\n",
"\n",
"// Result\n",
"// The wavelength of incident radiation = 0.0242 angstrom "
   ]
   }
],
"metadata": {
		  "kernelspec": {
		   "display_name": "Scilab",
		   "language": "scilab",
		   "name": "scilab"
		  },
		  "language_info": {
		   "file_extension": ".sce",
		   "help_links": [
			{
			 "text": "MetaKernel Magics",
			 "url": "https://github.com/calysto/metakernel/blob/master/metakernel/magics/README.md"
			}
		   ],
		   "mimetype": "text/x-octave",
		   "name": "scilab",
		   "version": "0.7.1"
		  }
		 },
		 "nbformat": 4,
		 "nbformat_minor": 0
}
