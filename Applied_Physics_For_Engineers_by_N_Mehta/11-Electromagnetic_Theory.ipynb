{
"cells": [
 {
		   "cell_type": "markdown",
	   "metadata": {},
	   "source": [
       "# Chapter 11: Electromagnetic Theory"
	   ]
	},
{
		   "cell_type": "markdown",
		   "metadata": {},
		   "source": [
			"## Example 11.10: Phase_difference_between_electric_and_magentic_field_vectors_of_an_EM_wave.sce"
		   ]
		  },
  {
"cell_type": "code",
	   "execution_count": null,
	   "metadata": {
	    "collapsed": true
	   },
	   "outputs": [],
"source": [
"// Scilab Code Ex 11.10: Page-568 (2011)\n",
"clc;clear;\n",
"function s = sine(x)\n",
"    s = x - x^3/factorial(3) + x^5/factorial(5) - x^7/factorial(7) + x^9/factorial(9);\n",
"endfunction\n",
"\n",
"function s = cosine(x)\n",
"    s = 1 - x^2/factorial(2) + x^4/factorial(4) - x^6/factorial(6) + x^8/factorial(8);\n",
"endfunction\n",
"    \n",
"k = 1;  // For simplicity assume constant of proportionality to be unity, units\n",
"for theta = 1:1:45\n",
"alpha = k*cosd(theta);\n",
"b = k*sind(theta); \n",
"    if alpha == b then\n",
"        phi = atand(b/alpha);\n",
"        break;\n",
"    end\n",
"end\n",
"//printf('\nThe phase difference between electric and magentic field vectors = %4.2f rad', phi); \n",
"\n",
"\n",
"// Result\n",
"// The skin depth of an EM-wave in Al = 0.000010 m "
   ]
   }
,
{
		   "cell_type": "markdown",
		   "metadata": {},
		   "source": [
			"## Example 11.12: Skin_depth_of_an_EM_wave_in_Al.sce"
		   ]
		  },
  {
"cell_type": "code",
	   "execution_count": null,
	   "metadata": {
	    "collapsed": true
	   },
	   "outputs": [],
"source": [
"// Scilab Code Ex11.12: Page-569 (2011)\n",
"clc;clear;\n",
"sigma = 3.54e+007;....// Electrical conductivity of Al, mho per metre \n",
"mu = 12.56e-007;....// Permeability of the medium, weber/A-m\n",
"f = 71.6e+06;    // Frequency of the wave, Hz\n",
"omega = 2*%pi*f;....// Angular frequency of the wave, rad per sec\n",
"delta = sqrt(2/(sigma*mu*omega));    // Skin depth of the EM wave in Al, m\n",
"printf('\nThe skin depth of an EM-wave in Al = %2.0f micron', delta/1e-06); \n",
"\n",
"// Result\n",
"// The skin depth of an EM-wave in Al = 10 micron "
   ]
   }
,
{
		   "cell_type": "markdown",
		   "metadata": {},
		   "source": [
			"## Example 11.14: Skin_depth_and_attenuation_constant_of_sea_water.sce"
		   ]
		  },
  {
"cell_type": "code",
	   "execution_count": null,
	   "metadata": {
	    "collapsed": true
	   },
	   "outputs": [],
"source": [
"// Scilab Code Ex11.14: Page-571 (2011)\n",
"clc;clear;\n",
"sigma = 5;....// Electrical conductivity, mho per metre \n",
"mu = 12.56e-007;....// Permeability of the medium, weber/A-m\n",
"eps_0 = 8.85e-012;....// Electric permittivity of free space, C-square/N-m-square\n",
"eps = 70*eps_0;    // Electric permittivity of the medium, C-square/N-m-square\n",
"delta = 2/sigma*sqrt(eps/mu); // The skin depth and attenuation constant of sea water\n",
"printf('\nThe skin depth of an EM-wave in sea water = %6.4f m', delta);\n",
"Beta = 1/delta;    // The attenuation constant of sea water, per metre\n",
"printf('\nThe attenuation constant of the sea water = %6.2f m', Beta); \n",
"\n",
"// Result\n",
"// The skin depth of an EM-wave in sea water = 0.0089 m\n",
"// The attenuation constant of the sea water = 112.57 m "
   ]
   }
,
{
		   "cell_type": "markdown",
		   "metadata": {},
		   "source": [
			"## Example 11.1: Amplitude_of_field_vector_E_in_free_space.sce"
		   ]
		  },
  {
"cell_type": "code",
	   "execution_count": null,
	   "metadata": {
	    "collapsed": true
	   },
	   "outputs": [],
"source": [
"// Scilab Code Ex11.1: Page-559 (2011)\n",
"clc;clear;\n",
"H_0 = 1;....// Amplitude off field vector,in A/m\n",
"mu_0 = 12.56e-7;....// Permeability,in weber/A-m \n",
"eps = 8.85e-12;....// Permittivity in free space,in C/N-meter-square\n",
"// From the relation between the amplitude of the field vector E and vector H of an EM wave in free space \n",
"E_0 = H_0*(sqrt(mu_0/eps));\n",
"printf('\nThe amplitude of field vector E in free space = %5.1f V/m',E_0); \n",
"\n",
"\n",
"// Result\n",
"// The amplitude of field vector E in free space = 376.7 V/m "
   ]
   }
,
{
		   "cell_type": "markdown",
		   "metadata": {},
		   "source": [
			"## Example 11.2: Maximum_value_of_magnetic_induction_vector.sce"
		   ]
		  },
  {
"cell_type": "code",
	   "execution_count": null,
	   "metadata": {
	    "collapsed": true
	   },
	   "outputs": [],
"source": [
"// Scilab Code Ex11.2: Page-560 (2011)\n",
"clc;clear;\n",
"E_o = 1e+3;....// Amplitude field vector in free space,N/C\n",
"c = 3e+8;....// Speed of light,in m/s\n",
"// From the relation between the amplitude of the field vector E and vector H of an EM wave in free space E_o = H_o*(sqrt(mu_o/eps))and B_o = mu_o*H_o, we have\n",
"B_o = E_o/c;\n",
"printf('\nThe maximum value of magnetic induction vector = %4.2e weber/A-m',B_o); \n",
"\n",
"// Result\n",
"// The maximum value of magnetic induction vector = 3.33e-006 weber/A-m "
   ]
   }
,
{
		   "cell_type": "markdown",
		   "metadata": {},
		   "source": [
			"## Example 11.3: Conduction_and_displacement_current_densities_in_the_conducting_medium.sce"
		   ]
		  },
  {
"cell_type": "code",
	   "execution_count": null,
	   "metadata": {
	    "collapsed": true
	   },
	   "outputs": [],
"source": [
"// Scilab Code Ex11.3: Page-560 (2011)\n",
"clc;clear;\n",
"sigma = 5;....// Conductivity of the conducting medium, mho/m\n",
"eps_r = 8.85e-12;....// Relative electrical permittivity of medium, F/m\n",
"eps_0 = 1;    // Electrical permittivity of free space, F/m\n",
"E0 = 250;   // Amplitude of applied electric field, V/m\n",
"J = sigma*E0;    // Amplitude of conduction current density, A/metre-square\n",
"J_D = eps_r*eps_0*E0*1e+010;   // Amplitude of displacement current density, A/metre-square\n",
"omega = sigma/(eps_0*eps_r);    // Frequency at which J = J_D\n",
"printf('\nThe conduction current density = %3dsin(10^10t) A/metre-quare', J);\n",
"printf('\nThe displacement current density = %5.3fcos(10^10t) A/metre-quare', J_D);\n",
"printf('\nThe frequency at which J = J_D is %3.1e Hz', omega);\n",
"\n",
"// Result\n",
"// The conduction current density = 1250sin(10^10t) A/metre-quare\n",
"// The displacement current density = 22.125cos(10^10t) A/metre-quare\n",
"// The frequency at which J = J_D is 5.6e+11 Hz \n",
"\n",
"\n",
"\n",
"\n",
""
   ]
   }
,
{
		   "cell_type": "markdown",
		   "metadata": {},
		   "source": [
			"## Example 11.8: Average_value_of_the_intensity_of_electric_field_of_radiation.sce"
		   ]
		  },
  {
"cell_type": "code",
	   "execution_count": null,
	   "metadata": {
	    "collapsed": true
	   },
	   "outputs": [],
"source": [
"// Scilab Code Ex11.8 :Page-565 (2011)\n",
"clc;clear;\n",
"P = 1000;....// Energy radiated by the lamp, watt\n",
"r = 2;....// Distance from the source at which the electric field intensity is given, m\n",
"S = P/(4*%pi*r^2);      // Magnitude of Poynting vector, W/metre-square\n",
"// As wave imepdence, Z0 = E/H = 377 and H = E/377, so that with E*H = S we have\n",
"E = poly(0, 'E');\n",
"E = roots(E*E/377-S);\n",
"printf('\nThe average value of the intensity of electric field of radiation = %4.1f V/m', E(2)); \n",
"\n",
"// Result\n",
"// The average value of the intensity of electric field of radiation = 86.6 V/m \n",
"\n",
""
   ]
   }
,
{
		   "cell_type": "markdown",
		   "metadata": {},
		   "source": [
			"## Example 11.9: Amplitude_of_electric_and_magnetic_fields_of_radiation.sce"
		   ]
		  },
  {
"cell_type": "code",
	   "execution_count": null,
	   "metadata": {
	    "collapsed": true
	   },
	   "outputs": [],
"source": [
"// Scilab Code Ex11.9: Page-566 (2011)\n",
"clc;clear;\n",
"S = 2*4.186/60*1e+04;....// Solar constant, J/s/metre-square\n",
"// From the poynting vector S = E*H \n",
"C = 377;....// Wave Impedence, ohm\n",
"E = sqrt(S*C);      // Electric field of radiation, V/m\n",
"H = E/C;            // Magnetic field of radiation, A/m\n",
"E0 = E*sqrt(2);     // Amplitude of electric field of radiation, V/m \n",
"H0 = H*sqrt(2);     // Amplitude of magnetic field of radiation, A/m\n",
"printf('\nThe amplitude of electric field of radiation = %6.1f V/m', E0); \n",
"printf('\nThe amplitude of magnetic field of radiation = %5.3f V/m', H0); \n",
"\n",
"\n",
"// Result\n",
"// The amplitude of electric field of radiation = 1025.7 V/m\n",
"// The amplitude of magnetic field of radiation = 2.721 V/m "
   ]
   }
],
"metadata": {
		  "kernelspec": {
		   "display_name": "Scilab",
		   "language": "scilab",
		   "name": "scilab"
		  },
		  "language_info": {
		   "file_extension": ".sce",
		   "help_links": [
			{
			 "text": "MetaKernel Magics",
			 "url": "https://github.com/calysto/metakernel/blob/master/metakernel/magics/README.md"
			}
		   ],
		   "mimetype": "text/x-octave",
		   "name": "scilab",
		   "version": "0.7.1"
		  }
		 },
		 "nbformat": 4,
		 "nbformat_minor": 0
}
