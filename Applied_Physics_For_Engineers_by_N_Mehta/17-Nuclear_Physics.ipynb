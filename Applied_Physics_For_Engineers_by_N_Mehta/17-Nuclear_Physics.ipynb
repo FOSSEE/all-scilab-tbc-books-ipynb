{
"cells": [
 {
		   "cell_type": "markdown",
	   "metadata": {},
	   "source": [
       "# Chapter 17: Nuclear Physics"
	   ]
	},
{
		   "cell_type": "markdown",
		   "metadata": {},
		   "source": [
			"## Example 17.10: Rate_of_fission_of_U235.sce"
		   ]
		  },
  {
"cell_type": "code",
	   "execution_count": null,
	   "metadata": {
	    "collapsed": true
	   },
	   "outputs": [],
"source": [
"// Scilab code Ex17.10 : Pg:894 (2011)\n",
"clc;clear;\n",
"e = 1.6e-019;    // Energy equivalent of 1 eV, J/eV\n",
"E = 3.2e+07;    // Energy released per second by the reactor, J\n",
"E_f = 200*1e+06*e;    // Energy released per fission, J\n",
"N = E/E_f;    // Number of fissions per second of U235, per second\n",
"printf('\nThe number of U235 atoms undergoing fissions per second = %1.0e', N);\n",
"\n",
"// Result\n",
"// The number of U235 atoms undergoing fissions per second = 1e+018 "
   ]
   }
,
{
		   "cell_type": "markdown",
		   "metadata": {},
		   "source": [
			"## Example 17.11: Rate_of_fission_and_energy_released_in_the_complete_fissioning_of_U235.sce"
		   ]
		  },
  {
"cell_type": "code",
	   "execution_count": null,
	   "metadata": {
	    "collapsed": true
	   },
	   "outputs": [],
"source": [
"// Scilab code Ex17.11 : Pg:894 (2011)\n",
"clc;clear;\n",
"e = 1.6e-019;    // Energy equivalent of 1 eV, J/eV\n",
"N_A = 6.023e+026;    // Avogadro's number, per kmol\n",
"P = 2;    // Power produced by the fission of U235, watt\n",
"E_f = 200*1e+06*e;    // Energy released per fission, J\n",
"FR = P/E_f;    // Fission rate of U235, fission/sec\n",
"N = 0.5/235*N_A;    // Number of U235 nuclei in 0.5 kg of U235\n",
"E = 200*N;    // Energy released in the complete fissioning of 0.5 kg of U235, MeV\n",
"printf('\nThe fission rate of U235 = %4.2e fissions/sec', FR);\n",
"printf('\nThe energy released in the complete fissioning of 0.5 kg of U235 = %1.0e kcal', E*1e+06*e/(1000*4.186));\n",
"\n",
"// Result\n",
"// The fission rate of U235 = 6.25e+010 fissions/sec\n",
"// The energy released in the complete fissioning of 0.5 kg of U235 = 1e+010 kcal "
   ]
   }
,
{
		   "cell_type": "markdown",
		   "metadata": {},
		   "source": [
			"## Example 17.12: EX17_12.sce"
		   ]
		  },
  {
"cell_type": "code",
	   "execution_count": null,
	   "metadata": {
	    "collapsed": true
	   },
	   "outputs": [],
"source": [
"// Scilab code Ex17.12 : Pg:894 (2011)\n",
"clc;clear;\n",
"e = 1.6e-019;    // Energy equivalent of 1 eV, J/eV\n",
"R_max = 0.6;    // Radius of two dees of the cyclotron, m\n",
"B = 1.6;    // Strength of pole pieces of the cyclotron, tesla\n",
"// For proton\n",
"m = 1.67e-027;    // Mass of the proton, kg\n",
"q = 1.6e-019;    // Charge on a proton, C\n",
"E = 1/2*q^2*R_max^2*B^2/(m*e*1e+06);    // Energy of the proton, MeV\n",
"f_proton = q*B/(2*%pi*m*1e+06);    // Cyclotron oscillator frequency for the proton, MHz\n",
"printf('\nEnergy of the proton = %5.2f MeV', E);\n",
"printf('\nCyclotron frequency for proton = %5.2f MHz', f_proton);\n",
"// For deuteron\n",
"m = 2*1.67e-027;    // Mass of the deuteron, kg\n",
"q = 1.6e-019;    // Charge on a deuteron, C\n",
"E = 1/2*q^2*R_max^2*B^2/(m*e*1e+06);    // Energy of the deuteron, MeV\n",
"f_deuteron = q*B/(2*%pi*m*1e+06);    // Cyclotron oscillator frequency for the deuteron, MHz\n",
"printf('\nEnergy of the deuteron = %5.2f MeV', E);\n",
"printf('\nCyclotron frequency for deuteron = %5.2f MHz', f_deuteron);\n",
"// For alpha-particle\n",
"m = 4*1.67e-027;    // Mass of the alpha-particle, kg\n",
"q = 2*1.6e-019;    // Charge on a alpha-particle, C\n",
"E = 1/2*q^2*R_max^2*B^2/(m*e*1e+06);    // Energy of the deuteron, MeV\n",
"f_alpha = q*B/(2*%pi*m*1e+06);    // Cyclotron oscillator frequency for the alpha-particle, MHz\n",
"printf('\nEnergy of the alpha-particle = %5.2f MeV', E);\n",
"printf('\nCyclotron frequency for alpha-particle = %5.2f MHz', f_alpha);\n",
"\n",
"// Result\n",
"// Energy of the proton = 44.15 MeV\n",
"// Cyclotron frequency for proton = 24.40 MHz\n",
"// Energy of the deuteron = 22.07 MeV\n",
"// Cyclotron frequency for deuteron = 12.20 MHz\n",
"// Energy of the alpha-particle = 44.15 MeV\n",
"// Cyclotron frequency for alpha-particle = 12.20 MHz "
   ]
   }
,
{
		   "cell_type": "markdown",
		   "metadata": {},
		   "source": [
			"## Example 17.13: Energy_of_the_protons_issuing_out_of_the_cyclotron.sce"
		   ]
		  },
  {
"cell_type": "code",
	   "execution_count": null,
	   "metadata": {
	    "collapsed": true
	   },
	   "outputs": [],
"source": [
"// Scilab code Ex17.13 : Pg:895 (2011)\n",
"clc;clear;\n",
"e = 1.6e-019;    // Energy equivalent of 1 eV, J/eV\n",
"R_max = 0.75;    // Radius of two dees of the cyclotron, m\n",
"f = 15e+06;    // Frequency of alternating potential, Hz\n",
"m = 1.67e-027;    // Mass of the proton, kg\n",
"// As E = 1/2*q^2*R_max^2*B^2/(m*e) and f = q*B/(2*%pi*m), solving for E\n",
"E = 2*%pi^2*m*f^2*R_max^2/(e*1e+06);\n",
"disp(E)\n",
"printf('\nEnergy of the protons issuing out of the cyclotron = %6.4f MeV', E);\n",
"\n",
"// Result\n",
"// Energy of the protons issuing out of the cyclotron = 26.0754 MeV  "
   ]
   }
,
{
		   "cell_type": "markdown",
		   "metadata": {},
		   "source": [
			"## Example 17.14: Energy_gained_per_turn_and_maximum_energy_of_the_electron_in_a_betatron.sce"
		   ]
		  },
  {
"cell_type": "code",
	   "execution_count": null,
	   "metadata": {
	    "collapsed": true
	   },
	   "outputs": [],
"source": [
"// Scilab code Ex17.14 : Pg:896 (2011)\n",
"clc;clear;\n",
"e = 1.6e-019;    // Charge on an electron, C    \n",
"c = 3e+08;        // Speed of light, m/s\n",
"B_orbit = 0.5;    // Magnetic field at the orbit of the betatron, T\n",
"f = 60;    // Operating frequency of the betatron, Hz\n",
"omega = 2*%pi*f;    // Angular frequency of operation, rad/s\n",
"r = 1.6/2;    // Radius of stable orbit, m\n",
"K_av = 4*omega*e*r^2*B_orbit/1.6e-019;    // Average energy gained by the electron per turn, eV\n",
"K_max = c*e*r*B_orbit/1.6e-019;    // Maximum energy gained by the eectron, eV\n",
"printf('\nThe average energy gained by the electron per turn = %5.1f eV', K_av);\n",
"printf('\nThe maximum energy gained by the electron = %5.1e eV', K_max);\n",
"\n",
"// Result\n",
"// The average energy gained by the electron per turn = 482.5 eV\n",
"// The maximum energy gained by the electron = 1.2e+008 eV "
   ]
   }
,
{
		   "cell_type": "markdown",
		   "metadata": {},
		   "source": [
			"## Example 17.15: EX17_15.sce"
		   ]
		  },
  {
"cell_type": "code",
	   "execution_count": null,
	   "metadata": {
	    "collapsed": true
	   },
	   "outputs": [],
"source": [
"// Scilab code Ex17.15 : Pg:896 (2011)\n",
"clc;clear;\n",
"q = 1.6e-019;    // Charge on a deuteron, C    \n",
"amu = 931.5;    // Energy equivalent of 1 amu, MeV\n",
"m0 = 2.0141;    // Rest mass of a deuteron, kg\n",
"B0 = 1.5;    // Magnetic field at the centre of the synchrocyclotron, T\n",
"B = 1.431;    // Magnetic field at the periphery of the synchrocyclotron, T  \n",
"f0 = q*B0/(2*3.14*m0*1.67e-027*1e+06);    // Maximum frequency of Dee voltage of synhrocyclotron, MHz\n",
"f = 1e+07;    // Minimum frequency of Dee voltage, Hz \n",
"m = q*B/(2*3.14*f*1.67e-027);    // Mass of deuteron at the periphery of the Dee, amu\n",
"K = (m-m0)*amu;    // Gain in energy of the deuteron, MeV\n",
"printf('\nThe maximum frequency of Dee voltage = %5.2f MHz', f0);\n",
"printf('\nThe gain in energy of the deuteron = %6.2f MeV', K);\n",
"\n",
"// Result\n",
"// The maximum frequency of Dee voltage = 11.36 MHz\n",
"// The gain in energy of the deuteron = 157.47 MeV  "
   ]
   }
,
{
		   "cell_type": "markdown",
		   "metadata": {},
		   "source": [
			"## Example 17.16: Maximum_radial_field_and_the_life_of_a_GM_counter.sce"
		   ]
		  },
  {
"cell_type": "code",
	   "execution_count": null,
	   "metadata": {
	    "collapsed": true
	   },
	   "outputs": [],
"source": [
"// Scilab code Ex17.16 : Pg:897 (2011)\n",
"clc;clear;\n",
"V = 1000;    // Operating voltage of the GM counter, volt\n",
"a = 1e-04'    // Radius of GM counter wire, m\n",
"b = 2e-02;    // Radius of cathode, m\n",
"E = V/(2.3026*a*log10(b/a));    // Maximum radial field at the surface of central wire of GM tube, V/m\n",
"tau = 1e+09;    // Life time of GM tube, counts\n",
"N = tau/(50*60*60*2000);    // Life of the GM counter, years\n",
"printf('\nThe maximum radial field at the surface of central wire of GM tube = %4.2e V/m', E);\n",
"printf('\nThe life of the GM counter = %4.2f years', N);\n",
"\n",
"// Result\n",
"// The maximum radial field at the surface of central wire of GM tube = 1.89e+006 V/m\n",
"// The life of the GM counter = 2.78 years  "
   ]
   }
,
{
		   "cell_type": "markdown",
		   "metadata": {},
		   "source": [
			"## Example 17.17: Avalanche_voltage_in_a_GM_tube.sce"
		   ]
		  },
  {
"cell_type": "code",
	   "execution_count": null,
	   "metadata": {
	    "collapsed": true
	   },
	   "outputs": [],
"source": [
"// Scilab code Ex17.17 : Pg:898 (2011)\n",
"clc;clear;\n",
"I = 15.7;    // Ionization potential of argon in GM counter, volt\n",
"a = 0.012/2*1e-02;    // Radius of GM counter wire, m\n",
"b = 5/2*1e-02;    // Radius of cathode, m\n",
"lambda = 7.8e-006;    // Mean free path of argon in GM counter, m\n",
"// As E*lambda = I = V*lambda/(2.3026*a*log10(b/a)), solving for V\n",
"V = 2.3026*a*I*log10(b/a)/lambda;    // Voltage that must be applied to produce an avalanche in GM tube, volt\n",
"printf('\nThe voltage that must be applied to produce an avalanche in GM tube = %6.2f volt', V);\n",
"\n",
"// Result\n",
"// The voltage that must be applied to produce an avalanche in GM tube = 728.52 volt "
   ]
   }
,
{
		   "cell_type": "markdown",
		   "metadata": {},
		   "source": [
			"## Example 17.18: Maximum_permissible_voltage_fluctuation_in_a_GM_counter.sce"
		   ]
		  },
  {
"cell_type": "code",
	   "execution_count": null,
	   "metadata": {
	    "collapsed": true
	   },
	   "outputs": [],
"source": [
"// Scilab code Ex17.18 : Pg:898 (2011)\n",
"clc;clear;\n",
"count_err = 1e-03;    // Fractional error in counting\n",
"m = 3;    // Plateau slope\n",
"delta_V = count_err*100/m*100;    // Maximum permissible voltage fluctuation in a GM counter, volt\n",
"printf('\nThe maximum permissible voltage fluctuation in a GM counter = %3.1f volts', delta_V);\n",
"\n",
"// Result\n",
"// The maximum permissible voltage fluctuation in a GM counter = 3.3 volts "
   ]
   }
,
{
		   "cell_type": "markdown",
		   "metadata": {},
		   "source": [
			"## Example 17.1: Binding_energy_per_nucleon_for_the_deutron.sce"
		   ]
		  },
  {
"cell_type": "code",
	   "execution_count": null,
	   "metadata": {
	    "collapsed": true
	   },
	   "outputs": [],
"source": [
"// Scilab code Ex17.1 : Pg:888 (2011)\n",
"clc;clear;\n",
"e = 1.6e-019;   // Energy equivalent of 1 eV, J/eV\n",
"m_n = 1.675e-027;   // Mass of the neutron, kg\n",
"m_p = 1.672e-027;   // Mass of the proton, kg\n",
"M_D = 3.343e-027;   // Mass of the deutron, kg\n",
"c = 3e+08;  // Speed of light, m/s\n",
"delta_m = m_n + m_p - M_D;  // Mass defect in the formation of deuterium, kg\n",
"BE = delta_m*c^2;   // Binding energy of the deuterium, J\n",
"BE_bar = BE/2;      // Binding energy per nucleon of deuterium, J\n",
"printf('\nBinding energy per nucleon for the deutron = %5.3f MeV', BE_bar/(e*1e+06)); \n",
"\n",
"// Result\n",
"// Binding energy per nucleon for the deutron = 1.125 MeV "
   ]
   }
,
{
		   "cell_type": "markdown",
		   "metadata": {},
		   "source": [
			"## Example 17.2: Binding_energy_for_an_alpha_particle.sce"
		   ]
		  },
  {
"cell_type": "code",
	   "execution_count": null,
	   "metadata": {
	    "collapsed": true
	   },
	   "outputs": [],
"source": [
"// Scilab code Ex17.2 : Pg:889 (2011)\n",
"clc;clear;\n",
"amu = 931.5;    // Energy equivalent of 1 amu, MeV\n",
"m_n = 1.008665;   // Mass of the neutron, amu\n",
"m_p = 1.007825;   // Mass of the proton, amu\n",
"M_He = 4.002870;   // Mass of the heluim nucleus, amu\n",
"c = 3e+08;  // Speed of light, m/s\n",
"BE = (2*m_n+2*m_p - M_He)*amu;  // Binding energy for the alpha particle, MeV\n",
"printf('\nThe binding energy for the alpha particle = %2d MeV', BE); \n",
"\n",
"// Result\n",
"// The binding energy for the alpha particle = 28 MeV "
   ]
   }
,
{
		   "cell_type": "markdown",
		   "metadata": {},
		   "source": [
			"## Example 17.3: Weizsacker_formula_for_stability_of_nuclei.sce"
		   ]
		  },
  {
"cell_type": "code",
	   "execution_count": null,
	   "metadata": {
	    "collapsed": true
	   },
	   "outputs": [],
"source": [
"// Scilab code Ex17.3 :Pg:889 (2011)\n",
"clc;clear;\n",
"A = 1;  // For simplicity assume mass number to be unity\n",
"nucleus = cell(4,3);\n",
"nucleus(1,1).entries = 'He';\n",
"nucleus(1,2).entries = 2;\n",
"nucleus(1,3).entries = 6;\n",
"nucleus(2,1).entries = 'Be';\n",
"nucleus(2,2).entries = 4;\n",
"nucleus(2,3).entries = 6;\n",
"nucleus(3,1).entries = 'Li';\n",
"nucleus(3,2).entries = 3;\n",
"nucleus(3,3).entries = 6;\n",
"a_c = 0.7053;   // Asymmetry energy constant, MeV\n",
"a_a = 23.702;   // Coulomb energy constant, MeV\n",
"Z = A/(2+a_c/(2*a_a)*A^(2/3));\n",
"for i = 1:1:3\n",
"    if abs(nucleus(i,2).entries/nucleus(i,3).entries - Z) < 0.005 then\n",
"        printf('\n%s(%d,%d) is more stable than other two nuclei', nucleus(i,1).entries, nucleus(i,2).entries, nucleus(i,3).entries);\n",
"    end\n",
"end\n",
"\n",
"// Result\n",
"// Li(3,6) is more stable than other two nuclei "
   ]
   }
,
{
		   "cell_type": "markdown",
		   "metadata": {},
		   "source": [
			"## Example 17.4: Nuclei_stability.sce"
		   ]
		  },
  {
"cell_type": "code",
	   "execution_count": null,
	   "metadata": {
	    "collapsed": true
	   },
	   "outputs": [],
"source": [
"// Scilab code Ex17.4 : Pg:890 (2011)\n",
"clc;clear;\n",
"nucleus = cell(4,3);\n",
"// For Li nuclides\n",
"nucleus(1,1).entries = 'Li';\n",
"nucleus(1,2).entries = 3;\n",
"nucleus(1,3).entries = 7;\n",
"nucleus(2,1).entries = 'Li';\n",
"nucleus(2,2).entries = 3;\n",
"nucleus(2,3).entries = 8;\n",
"// For Be nuclides\n",
"nucleus(3,1).entries = 'Be';\n",
"nucleus(3,2).entries = 4;\n",
"nucleus(3,3).entries = 9;\n",
"nucleus(4,1).entries = 'Be';\n",
"nucleus(4,2).entries = 4;\n",
"nucleus(4,3).entries = 10;\n",
"a_c = 0.7053;   // Asymmetry energy constant, MeV\n",
"a_a = 23.702;   // Coulomb energy constant, MeV\n",
"for i = 1:1:4\n",
"    Z = nucleus(i,3).entries/(2+a_c/(2*a_a)*nucleus(i,3).entries^(2/3));\n",
"    if abs(Z-int(Z)) < 0.5 then\n",
"        printf('\n%s(%d,%d) is more stable', nucleus(i,1).entries, nucleus(i,2).entries, nucleus(i,3).entries);\n",
"    end\n",
"end\n",
"\n",
"// Result\n",
"// Li(3,7) is more stable\n",
"// Be(4,9) is more stable "
   ]
   }
,
{
		   "cell_type": "markdown",
		   "metadata": {},
		   "source": [
			"## Example 17.5: Exothermicity_and_endothermicity_of_nuclear_reactions.sce"
		   ]
		  },
  {
"cell_type": "code",
	   "execution_count": null,
	   "metadata": {
	    "collapsed": true
	   },
	   "outputs": [],
"source": [
"// Scilab code Ex17.5 : Pg:891 (2011)\n",
"clc;clear;\n",
"c = 1;  // For simplicity assume speed of light to be unity, unit\n",
"nucleus = cell(4,4);\n",
"// For first reaction\n",
"nucleus(1,1).entries = 'N';\n",
"nucleus(1,2).entries = 7;\n",
"nucleus(1,3).entries = 14;\n",
"nucleus(1,4).entries = 14.00753;\n",
"nucleus(2,1).entries = 'He';\n",
"nucleus(2,2).entries = 2;\n",
"nucleus(2,3).entries = 4;\n",
"nucleus(2,4).entries = 4.00206;\n",
"nucleus(3,1).entries = 'O';\n",
"nucleus(3,2).entries = 8;\n",
"nucleus(3,3).entries = 17;\n",
"nucleus(3,4).entries = 17.00450;\n",
"nucleus(4,1).entries = 'H';\n",
"nucleus(4,2).entries = 1;\n",
"nucleus(4,3).entries = 1;\n",
"nucleus(4,4).entries = 1.00814;\n",
"Q = (nucleus(1,4).entries + nucleus(2,4).entries)*c^2 - (nucleus(3,4).entries + nucleus(4,4).entries)*c^2;\n",
"if Q < 0 then\n",
"    T_state = 'endothermic';\n",
"   elseif Q > 0\n",
"    T_state = 'exothermic';  \n",
"end\n",
"printf('\nThe reaction');\n",
"printf('\n%s(%d,%d) + %s(%d,%d) --> %s(%d,%d) + %s(%d,%d) is %s', nucleus(1,1).entries, nucleus(1,2).entries, nucleus(1,3).entries, nucleus(2,1).entries, nucleus(2,2).entries, nucleus(2,3).entries, nucleus(3,1).entries, nucleus(3,2).entries, nucleus(3,3).entries, nucleus(4,1).entries, nucleus(4,2).entries, nucleus(4,3).entries, T_state);\n",
"// For second reaction\n",
"nucleus(1,1).entries = 'Li';\n",
"nucleus(1,2).entries = 3;\n",
"nucleus(1,3).entries = 7;\n",
"nucleus(1,4).entries = 7.01822;\n",
"nucleus(2,1).entries = 'H';\n",
"nucleus(2,2).entries = 1;\n",
"nucleus(2,3).entries = 1;\n",
"nucleus(2,4).entries = 1.00814;\n",
"nucleus(3,1).entries = 'He';\n",
"nucleus(3,2).entries = 2;\n",
"nucleus(3,3).entries = 4;\n",
"nucleus(3,4).entries = 4.00206;\n",
"Q = (nucleus(1,4).entries + nucleus(2,4).entries)*c^2 - (nucleus(3,4).entries + nucleus(3,4).entries)*c^2;\n",
"if Q < 0 then\n",
"    T_state = 'endothermic';\n",
"   elseif Q > 0\n",
"    T_state = 'exothermic';  \n",
"end\n",
"printf('\nThe reaction');\n",
"printf('\n%s(%d,%d) + %s(%d,%d) --> %s(%d,%d) + %s(%d,%d) is %s', nucleus(1,1).entries, nucleus(1,2).entries, nucleus(1,3).entries, nucleus(2,1).entries, nucleus(2,2).entries, nucleus(2,3).entries, nucleus(3,1).entries, nucleus(3,2).entries, nucleus(3,3).entries, nucleus(4,1).entries, nucleus(4,2).entries, nucleus(4,3).entries, T_state);\n",
"\n",
"// Result\n",
"//  \n",
"// The reaction\n",
"// N(7,14) + He(2,4) --> O(8,17) + H(1,1) is endothermic\n",
"// The reaction\n",
"// Li(3,7) + H(1,1) --> He(2,4) + H(1,1) is exothermic "
   ]
   }
,
{
		   "cell_type": "markdown",
		   "metadata": {},
		   "source": [
			"## Example 17.6: Q_value_of_the_formation_of_P30_in_ground_state.sce"
		   ]
		  },
  {
"cell_type": "code",
	   "execution_count": null,
	   "metadata": {
	    "collapsed": true
	   },
	   "outputs": [],
"source": [
"// Scilab code Ex17.6 : Pg:891 (2011)\n",
"clc;clear;\n",
"nucleus = cell(4,3);\n",
"nucleus(1,1).entries = 'Si';\n",
"nucleus(1,2).entries = 14;\n",
"nucleus(1,3).entries = 29;\n",
"nucleus(2,1).entries = 'H';\n",
"nucleus(2,2).entries = 1;\n",
"nucleus(2,3).entries = 2;\n",
"nucleus(3,1).entries = 'P';\n",
"nucleus(3,2).entries = 15;\n",
"nucleus(3,3).entries = 30;\n",
"nucleus(4,1).entries = 'n';\n",
"nucleus(4,2).entries = 0;\n",
"nucleus(4,3).entries = 1;\n",
"Q = 2*23.834-44.359;    // Q-value of the reaction, MeV\n",
"printf('\nThe reaction');\n",
"printf('\n%s(%d,%d) + %s(%d,%d) --> %s(%d,%d) + %s(%d,%d)', nucleus(1,1).entries, nucleus(1,2).entries, nucleus(1,3).entries, nucleus(2,1).entries, nucleus(2,2).entries, nucleus(2,3).entries, nucleus(3,1).entries, nucleus(3,2).entries, nucleus(3,3).entries, nucleus(4,1).entries, nucleus(4,2).entries, nucleus(4,3).entries);\n",
"printf('\nhas the Q-value : %5.3f MeV', Q);\n",
"\n",
"// Result\n",
"// The reaction\n",
"// Si(14,29) + H(1,2) --> P(15,30) + n(0,1)\n",
"// has the Q-value : 3.309 MeV "
   ]
   }
,
{
		   "cell_type": "markdown",
		   "metadata": {},
		   "source": [
			"## Example 17.7: Threshold_energy_required_to_initiate_the_reaction.sce"
		   ]
		  },
  {
"cell_type": "code",
	   "execution_count": null,
	   "metadata": {
	    "collapsed": true
	   },
	   "outputs": [],
"source": [
"// Scilab code Ex17.7 : Pg:892 (2011)\n",
"clc;clear;\n",
"amu = 931.5;    // Energy equivalent of 1 amu, MeV\n",
"nucleus = cell(4,3);\n",
"nucleus(1,1).entries = 'P';\n",
"nucleus(1,2).entries = 15;\n",
"nucleus(1,3).entries = 31;\n",
"nucleus(1,4).entries = 30.98356;\n",
"nucleus(2,1).entries = 'n';\n",
"nucleus(2,2).entries = 0;\n",
"nucleus(2,3).entries = 1;\n",
"nucleus(2,4).entries = 1.00898;\n",
"nucleus(3,1).entries = 'Si';\n",
"nucleus(3,2).entries = 14;\n",
"nucleus(3,3).entries = 31;\n",
"nucleus(3,4).entries = 30.98515;\n",
"nucleus(4,1).entries = 'p';\n",
"nucleus(4,2).entries = 1;\n",
"nucleus(4,3).entries = 1;\n",
"nucleus(4,4).entries = 1.00814;\n",
"Q = ((nucleus(1,4).entries + nucleus(2,4).entries)-(nucleus(3,4).entries + nucleus(4,4).entries))*amu;    // Q-value of the reaction, MeV\n",
"E_th = -1*Q*(nucleus(1,4).entries+nucleus(2,4).entries)/nucleus(1,4).entries;\n",
"printf('\nThe threshold energy required to initiate the reaction');\n",
"printf('\n\t%s(%d,%d) + %s(%d,%d) --> %s(%d,%d) + %s(%d,%d)', nucleus(1,1).entries, nucleus(1,2).entries, nucleus(1,3).entries, nucleus(2,1).entries, nucleus(2,2).entries, nucleus(2,3).entries, nucleus(3,1).entries, nucleus(3,2).entries, nucleus(3,3).entries, nucleus(4,1).entries, nucleus(4,2).entries, nucleus(4,3).entries);\n",
"printf('\nis %5.3f MeV', E_th);\n",
"\n",
"// Result\n",
"// The threshold energy required to initiate the reaction\n",
"//     P(15,31) + n(0,1) --> Si(14,31) + p(1,1)\n",
"// is 0.721 MeV "
   ]
   }
,
{
		   "cell_type": "markdown",
		   "metadata": {},
		   "source": [
			"## Example 17.8: Kinetic_energy_of_emitted_protons_and_threshold_energy.sce"
		   ]
		  },
  {
"cell_type": "code",
	   "execution_count": null,
	   "metadata": {
	    "collapsed": true
	   },
	   "outputs": [],
"source": [
"// Scilab code Ex17.8 : Pg:892 (2011)\n",
"clc;clear;\n",
"amu = 931.5;    // Energy equivalent of 1 amu, MeV\n",
"nucleus = cell(4,3);\n",
"nucleus(1,1).entries = 'F';\n",
"nucleus(1,2).entries = 9;\n",
"nucleus(1,3).entries = 19;\n",
"M_P = 19.0457;    // Mass of product nucleus, amu\n",
"nucleus(2,1).entries = 'n';\n",
"nucleus(2,2).entries = 0;\n",
"nucleus(2,3).entries = 1;\n",
"m_i = 1.0087;    // Mass of incident particle, amu\n",
"nucleus(3,1).entries = 'O';\n",
"nucleus(3,2).entries = 8;\n",
"nucleus(3,3).entries = 19;\n",
"nucleus(4,1).entries = 'H';\n",
"nucleus(4,2).entries = 1;\n",
"nucleus(4,3).entries = 1;\n",
"m_e = 1.00728;    // Mass of emitted particle, amu\n",
"K_i = 15;    // Kinetic energy of incident neutrons, MeV\n",
"Q = -7.6342;    // Q-value of the reaction, MeV\n",
"K_e = (Q*M_P-(m_i-M_P)*K_i)/(m_e+M_P);    // Kinetic energy of emitted photon, MeV\n",
"E_th = -1*Q*(M_P+m_i)/M_P;    // Threshold energy required to initiate the reaction, MeV\n",
"printf('\nThe kinetic energy of emitted photon = %5.3f MeV', K_e);\n",
"printf('\nThe threshold energy required to initiate the reaction');\n",
"printf('\n\t%s(%d,%d) + %s(%d,%d) --> %s(%d,%d) + %s(%d,%d)', nucleus(1,1).entries, nucleus(1,2).entries, nucleus(1,3).entries, nucleus(2,1).entries, nucleus(2,2).entries, nucleus(2,3).entries, nucleus(3,1).entries, nucleus(3,2).entries, nucleus(3,3).entries, nucleus(4,1).entries, nucleus(4,2).entries, nucleus(4,3).entries);\n",
"printf('\nis %5.3f MeV', E_th);\n",
"\n",
"// Result\n",
"// The kinetic energy of emitted photon = 6.241 MeV\n",
"// The threshold energy required to initiate the reaction\n",
"// 	F(9,19) + n(0,1) --> O(8,19) + H(1,1)\n",
"// is 8.039 MeV"
   ]
   }
,
{
		   "cell_type": "markdown",
		   "metadata": {},
		   "source": [
			"## Example 17.9: Energy_released_by_the_fission_of_1_kg_of_U235.sce"
		   ]
		  },
  {
"cell_type": "code",
	   "execution_count": null,
	   "metadata": {
	    "collapsed": true
	   },
	   "outputs": [],
"source": [
"// Scilab code Ex17.9 : Pg:893 (2011)\n",
"clc;clear;\n",
"e = 1.6e-019;    // Energy equivalent of 1 eV, J/eV\n",
"N_A = 6.023e+023;    // Avogadro's number\n",
"E_f = 200*1e+06*e;    // Energy released per fission, J\n",
"E_mol = E_f*N_A;    // Energy released by one mole of U235, J\n",
"E = E_mol*1000/235;    // Energy released by the fission of 1 kg of U235, J\n",
"printf('\nThe Energy released by the fission of 1 kg of U235 = %4.2e kWh', E/(1000*3600));\n",
"\n",
"// Result\n",
"// The Energy released by the fission of 1 kg of U235 = 2.28e+007 kWh "
   ]
   }
],
"metadata": {
		  "kernelspec": {
		   "display_name": "Scilab",
		   "language": "scilab",
		   "name": "scilab"
		  },
		  "language_info": {
		   "file_extension": ".sce",
		   "help_links": [
			{
			 "text": "MetaKernel Magics",
			 "url": "https://github.com/calysto/metakernel/blob/master/metakernel/magics/README.md"
			}
		   ],
		   "mimetype": "text/x-octave",
		   "name": "scilab",
		   "version": "0.7.1"
		  }
		 },
		 "nbformat": 4,
		 "nbformat_minor": 0
}
