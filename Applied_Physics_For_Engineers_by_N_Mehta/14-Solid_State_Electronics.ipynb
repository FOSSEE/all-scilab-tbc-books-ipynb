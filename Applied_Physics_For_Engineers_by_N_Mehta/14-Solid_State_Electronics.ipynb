{
"cells": [
 {
		   "cell_type": "markdown",
	   "metadata": {},
	   "source": [
       "# Chapter 14: Solid State Electronics"
	   ]
	},
{
		   "cell_type": "markdown",
		   "metadata": {},
		   "source": [
			"## Example 14.10: Full_wave_rectifier_parameters.sce"
		   ]
		  },
  {
"cell_type": "code",
	   "execution_count": null,
	   "metadata": {
	    "collapsed": true
	   },
	   "outputs": [],
"source": [
"// Scilab code Ex14.10 : Pg:724(2011)\n",
"clc;clear;\n",
"R_L = 980; // Load resistance across FWR, ohm\n",
"R_F = 20;   // Internal resistance of two crystal diodes in FWR, ohm\n",
"V_rms = 50;    // Rms value of voltage supply, V\n",
"V0 = sqrt(2)*V_rms; // Peak value of voltage, V\n",
"I0 = V0/((R_L+R_F)*1e-03);    // Peak value of current, mA\n",
"I_dc = 2*I0/%pi;  // Average value of current, mA\n",
"I_rms = I0/sqrt(2);   // Rms value of current, mA\n",
"V_dc = I_dc*R_L/1e+03;    // Dc output voltage, V\n",
"eta = 81.2/(1+R_F/R_L);     // Rectification efficiency\n",
"PIV = 2*V0;   // Peak inverse voltage, V\n",
"printf('\nThe average value of current = %2d mA', I_dc);\n",
"printf('\nThe rms value of current = %2d mA', I_rms);\n",
"printf('\nThe dc output voltage = %4.1f V', V_dc/1);\n",
"printf('\nThe rectification efficiency = %4.1f percent', eta);\n",
"printf('\nPIV = %5.1f V', PIV);\n",
"\n",
"\n",
"// Result\n",
"// The average value of current = 45 mA\n",
"// The rms value of current = 50 mA\n",
"// The dc output voltage = 44.1 V\n",
"// The rectification efficiency = 79.6 percent\n",
"// PIV = 141.4 V "
   ]
   }
,
{
		   "cell_type": "markdown",
		   "metadata": {},
		   "source": [
			"## Example 14.11: Current_gains_in_BJT.sce"
		   ]
		  },
  {
"cell_type": "code",
	   "execution_count": null,
	   "metadata": {
	    "collapsed": true
	   },
	   "outputs": [],
"source": [
"// Scilab code Ex14.11 : Pg:725(2011)\n",
"clc;clear;\n",
"delta_IC = 1e-03;   // Change in collector current, A\n",
"delta_IB = 50e-06;   // Change in base current, A\n",
"bta = delta_IC/delta_IB;  // Base current amplification factor\n",
"alpha = bta/(1+bta);    // Emitter current amplification factor\n",
"printf('\nAlpha of BJT = %4.2f', alpha);\n",
"printf('\nBeta of BJT = %2d', bta);\n",
"\n",
"\n",
"// Result\n",
"// Alpha of BJT = 0.95\n",
"// Beta of BJT = 20 "
   ]
   }
,
{
		   "cell_type": "markdown",
		   "metadata": {},
		   "source": [
			"## Example 14.12: Base_current_of_BJT_in_CB_mode.sce"
		   ]
		  },
  {
"cell_type": "code",
	   "execution_count": null,
	   "metadata": {
	    "collapsed": true
	   },
	   "outputs": [],
"source": [
"// Scilab code Ex14.12 : Pg:725(2011)\n",
"clc;clear;\n",
"I_E = 2;    // Emitter current, mA\n",
"alpha = 0.88;   // Emitter current amplification factor\n",
"I_C = alpha*I_E;    // Collector current, mA\n",
"I_B = I_E - I_C;        // Base current of BJT in CB mode, mA\n",
"printf('\nThe base current of BJT in CB mode = %4.2f mA', I_B);\n",
"\n",
"\n",
"// Result\n",
"// The base current of BJT in CB mode = 0.24 mA"
   ]
   }
,
{
		   "cell_type": "markdown",
		   "metadata": {},
		   "source": [
			"## Example 14.13: Current_gain_and_base_current_of_BJT_in_CB_mode.sce"
		   ]
		  },
  {
"cell_type": "code",
	   "execution_count": null,
	   "metadata": {
	    "collapsed": true
	   },
	   "outputs": [],
"source": [
"// Scilab code Ex14.13 : Pg:725(2011)\n",
"clc;clear;\n",
"I_CBO = 12.5e-03;   // Reverse saturation current, mA\n",
"I_E = 2;    // Emitter current, mA\n",
"I_C = 1.97; // Collector current, mA\n",
"// As I_C = alpha*I_E+I_CBO, solving for alpha\n",
"alpha = (I_C - I_CBO)/I_E;  // Emitter current gain\n",
"I_B = I_E - I_C;    // Base current, mA\n",
"printf('\nThe emitter current gain = %5.3f', alpha);\n",
"printf('\nThe base current = %4.2f mA', I_B);\n",
"\n",
"\n",
"// Result\n",
"// The emitter current gain = 0.979\n",
"// The base current = 0.03 mA "
   ]
   }
,
{
		   "cell_type": "markdown",
		   "metadata": {},
		   "source": [
			"## Example 14.14: Current_gain_and_leakage_current_of_BJT_in_CE_mode.sce"
		   ]
		  },
  {
"cell_type": "code",
	   "execution_count": null,
	   "metadata": {
	    "collapsed": true
	   },
	   "outputs": [],
"source": [
"// Scilab code Ex14.14 : Pg:726(2011)\n",
"clc;clear;\n",
"alpha = 0.98;   // Emitter current amplification factor\n",
"bta = alpha/(1-alpha);  // Emitter current amplification factor\n",
"I_CBO = 5e-06;  // Reverse saturation current, A\n",
"I_CEO = 1/(1-alpha)*I_CBO;  // Leakage current of BJT in CE mode, mA\n",
"printf('\nThe base current gain = %2g', bta);\n",
"printf('\nThe leakage current of BJT in CE mode = %4.2f mA', I_CEO/1e-03);\n",
"\n",
"\n",
"// Result\n",
"// The base current gain = 49\n",
"// The leakage current of BJT in CE mode = 0.25 mA "
   ]
   }
,
{
		   "cell_type": "markdown",
		   "metadata": {},
		   "source": [
			"## Example 14.15: Voltage_and_power_gain_of_PNP_transistor_in_CB_mode.sce"
		   ]
		  },
  {
"cell_type": "code",
	   "execution_count": null,
	   "metadata": {
	    "collapsed": true
	   },
	   "outputs": [],
"source": [
"// Scilab code Ex14.15 : Pg:726(2011)\n",
"clc;clear;\n",
"R_i = 50;   // Dynamic input resistance of PNP transistor, ohm\n",
"R_L = 5e+03;    // Load resistance in collector circuit, ohm\n",
"alpha = 0.96;   // Emitter current amplification factor\n",
"A_v = alpha*R_L/R_i;    // Voltage gain\n",
"A_p = alpha*A_v;    // Power gain\n",
"printf('\nThe voltage gain = %2g', A_v);\n",
"printf('\nThe power gain = %2d', A_p);\n",
"\n",
"\n",
"// Result\n",
"// The voltage gain = 96\n",
"// The power gain = 92 "
   ]
   }
,
{
		   "cell_type": "markdown",
		   "metadata": {},
		   "source": [
			"## Example 14.1: Density_of_impurity_atoms_to_N_type_and_P_type_silicon.sce"
		   ]
		  },
  {
"cell_type": "code",
	   "execution_count": null,
	   "metadata": {
	    "collapsed": true
	   },
	   "outputs": [],
"source": [
"// Scilab code Ex14.1 : Pg:718(2011)\n",
"clc;clear;\n",
"e = 1.6e-019;   // Charge on an electron, C\n",
"mu_h = 0.048;  // Mobility of holes, metre square/volt-s\n",
"mu_e = 0.135;  // Mobility of electrons, metre square/volt-s \n",
"// For P-type semiconductor\n",
"rho_p = 1e-01;  // Resistivity of P type silicon, omh-m\n",
"// As rho_p = 1/(e*N_a*mu_h), solving for N_a\n",
"N_a = 1/(e*rho_p*mu_h); // Density of acceptor atoms, per metre cube\n",
"// For N-type semiconductor\n",
"rho_n = 1e-01;  // Resistivity of N type silicon, omh-m\n",
"// As rho_n = 1/(e*N_d*mu_h), solving for N_d\n",
"N_d = 1/(e*rho_n*mu_e); // Density of donor atoms, per metre cube\n",
"printf('\nDensity of acceptor atoms = %4.2e per metre cube', N_a); \n",
"printf('\nDensity of donor atoms = %4.2e per metre cube', N_d); \n",
"\n",
"// Result\n",
"// Density of acceptor atoms = 1.30e+21 per metre cube\n",
"// Density of donor atoms = 4.63e+20 per metre cube "
   ]
   }
,
{
		   "cell_type": "markdown",
		   "metadata": {},
		   "source": [
			"## Example 14.2: Electrical_conductivity_and_resistivity_of_intrinsic_germanium_sample.sce"
		   ]
		  },
  {
"cell_type": "code",
	   "execution_count": null,
	   "metadata": {
	    "collapsed": true
	   },
	   "outputs": [],
"source": [
"// Scilab code Ex14.2 : Pg:718(2011)\n",
"clc;clear;\n",
"e = 1.6e-019;   // Charge on an electron, C\n",
"mu_e = 0.36;    // Mobility of an electron, metre square/V-s\n",
"mu_h = 0.17;    // Mobility of a hole, metre square/V-s\n",
"n_i = 2.5e+018; // Intrinsic concentration of Ge sample, per metre cube\n",
"sigma = e*n_i*(mu_h+mu_e);  // Electrical conductivity of Ge sample, mho per metre\n",
"rho = 1/sigma;  // Electrical resistivity of Ge, ohm-m\n",
"printf('\nThe electrical conductivity of intrinsic germanium sample = %5.3f mho/m', sigma); \n",
"printf('\nThe electrical resistivity of intrinsic germanium sample = %3.1f ohm-m', rho); \n",
"\n",
"// Result\n",
"// The electrical conductivity of intrinsic germanium sample = 0.212 mho/m\n",
"// The electrical resistivity of intrinsic germanium sample = 4.7 ohm-m "
   ]
   }
,
{
		   "cell_type": "markdown",
		   "metadata": {},
		   "source": [
			"## Example 14.3: Electrical_conductivity_of_undoped_and_doped_silicon.sce"
		   ]
		  },
  {
"cell_type": "code",
	   "execution_count": null,
	   "metadata": {
	    "collapsed": true
	   },
	   "outputs": [],
"source": [
"// Scilab code Ex14.3 : Pg:719(2011)\n",
"clc;clear;\n",
"e = 1.6e-019;   // Charge on an electron, C\n",
"mu_e = 0.13;    // Mobility of an electron, metre square/V-s\n",
"mu_h = 0.05;    // Mobility of a hole, metre square/V-s\n",
"n_i = 1.5e+016; // Intrinsic concentration of Si, per metre cube\n",
"// Pure Si\n",
"sigma = e*n_i*(mu_h+mu_e);  // Electrical conductivity of Si, mho per metre\n",
"// Pure Si doped with donor impurity\n",
"n_e = 5e+028/1e+09;     // Concentration of electrons, per metre cube\n",
"sigma_n = e*n_e*mu_e;   // Electrical conductivity of Si doped with donor impurity, mho per metre\n",
"// Pure Si doped with acceptor impurity\n",
"n_h = 5e+028/1e+09;     // Concentration of holes, per metre cube\n",
"sigma_p = e*n_h*mu_h;   // Electrical conductivity of Si doped with acceptor impurity, mho per metre\n",
"printf('\nThe electrical conductivity of pure Si = %4.2e mho/m', sigma); \n",
"printf('\nThe electrical conductivity of Si doped with donor impurity = %4.2f mho/m', sigma_n);\n",
"printf('\nThe electrical conductivity of Si doped with acceptor impurity= %4.2f mho/m', sigma_p);\n",
"\n",
"// Result\n",
"// The electrical conductivity of pure Si = 4.32e-04 mho/m\n",
"// The electrical conductivity of Si doped with donor impurity = 1.04 mho/m\n",
"// The electrical conductivity of Si doped with acceptor impurity= 0.40 mho/m "
   ]
   }
,
{
		   "cell_type": "markdown",
		   "metadata": {},
		   "source": [
			"## Example 14.4: Shift_in_Fermi_level_due_to_change_in_density_of_donor_atoms.sce"
		   ]
		  },
  {
"cell_type": "code",
	   "execution_count": null,
	   "metadata": {
	    "collapsed": true
	   },
	   "outputs": [],
"source": [
"// Scilab code Ex14.4 : Pg:720(2011)\n",
"clc;clear;\n",
"Nd = 1;     // For simplicity assume donor concentration to be unity, per metre cube\n",
"Nd_prime = 3*Nd;   // Thrice the donor concentration, per metre cube\n",
"dE_CF1 = 0.5;  // Energy difference between normal Fermi level and conduction level, eV\n",
"k_BT = 0.03;    // Thermal energy at room temperature, eV\n",
"// As Nd_prime/Nd = exp((dE_CF1 - dE_CF2))/k_BT, solving for dE_CF2\n",
"dE_CF2 = dE_CF1-k_BT*log(Nd_prime/Nd);  // Energy difference between new postion of Fermi level and conduction level, eV\n",
"printf('\nThe new postion of Fermi level when donor concentration is trebled = %5.3f eV', dE_CF2);\n",
"\n",
"// Result\n",
"// The new postion of Fermi level when donor concentration is trebled = 0.467 eV "
   ]
   }
,
{
		   "cell_type": "markdown",
		   "metadata": {},
		   "source": [
			"## Example 14.5: Voltage_required_to_cause_a_forward_current_density_in_pn_junction_diode.sce"
		   ]
		  },
  {
"cell_type": "code",
	   "execution_count": null,
	   "metadata": {
	    "collapsed": true
	   },
	   "outputs": [],
"source": [
"// Scilab code Ex14.5 :Pg:721(2011)\n",
"clc;clear;\n",
"e = 1.6e-019;   // Charge on an electron, C\n",
"T = 300;    // Room temperature, K\n",
"J0 = 300e-03;   // Saturation current density of the pn junction diode, A/metre square\n",
"J = 1e+05;  // Forward current density of pn junction diode, A/metre square\n",
"k_B = 1.38e-023;    // Boltzmann constant, J/K\n",
"eta = 1;    // Ideality factor for Ge diode\n",
"// As J = J0*exp(e*V/(eta*k_B*T)), solving for V\n",
"V = eta*k_B*T/e*log(J/J0);   // Voltage required to cause a forward current density in pn junction diode, volt\n",
"printf('\nThe voltage required to cause a forward current density in pn junction diode = %5.3f V', V);\n",
"\n",
"// Result\n",
"// The voltage required to cause a forward current density in pn junction diode = 0.329 V  "
   ]
   }
,
{
		   "cell_type": "markdown",
		   "metadata": {},
		   "source": [
			"## Example 14.6: Applied_voltage_for_forward_current_density.sce"
		   ]
		  },
  {
"cell_type": "code",
	   "execution_count": null,
	   "metadata": {
	    "collapsed": true
	   },
	   "outputs": [],
"source": [
"// Scilab code Ex14.6 : Pg:721(2011)\n",
"clc;clear;\n",
"e = 1.6e-019;   // Charge on an electron, C\n",
"T = 300;    // Room temperature, K\n",
"J0 = 200e-03;   // Saturation current density of the pn junction diode, A/metre square\n",
"J = 5e+04;  // Forward current density of pn junction diode, A/metre square\n",
"k_B = 1.38e-023;    // Boltzmann constant, J/K\n",
"eta = 1;    // Ideality factor for Ge diode\n",
"// As J = J0*exp(e*V/(eta*k_B*T)), solving for V\n",
"V = eta*k_B*T/e*log(J/J0);   // Voltage required to cause a forward current density in pn junction diode, volt\n",
"printf('\nThe voltage required to cause a forward current density in pn junction diode = %5.3f V', V);\n",
"\n",
"// Result\n",
"// The voltage required to cause a forward current density in pn junction diode = 0.322 V "
   ]
   }
,
{
		   "cell_type": "markdown",
		   "metadata": {},
		   "source": [
			"## Example 14.7: Forward_voltage_to_increase_the_current_density_of_Si_diode.sce"
		   ]
		  },
  {
"cell_type": "code",
	   "execution_count": null,
	   "metadata": {
	    "collapsed": true
	   },
	   "outputs": [],
"source": [
"// Scilab code Ex14.7 : Pg:722(2011)\n",
"clc;clear;\n",
"e = 1.6e-019;   // Charge on an electron, C\n",
"T = 300;    // Room temperature, K\n",
"J0 = 300e-03;   // Saturation current density of the pn junction diode, A/metre square\n",
"J = 1e+05;  // Forward current density of pn junction diode, A/metre square\n",
"k_B = 1.38e-023;    // Boltzmann constant, J/K\n",
"eta = 2;    // Ideality factor for Ge diode\n",
"// As J = J0*exp(e*V/(eta*k_B*T)), solving for V\n",
"V = eta*k_B*T/e*log(J/J0);   // Voltage required to cause a forward current density in pn junction diode, volt\n",
"printf('\nThe voltage required to cause a forward current density in Si iode = %5.3f V', V);\n",
"\n",
"// Result\n",
"// The voltage required to cause a forward current density in Si diode = 0.658 V "
   ]
   }
,
{
		   "cell_type": "markdown",
		   "metadata": {},
		   "source": [
			"## Example 14.8: Static_and_dynamic_values_of_diode_resistance.sce"
		   ]
		  },
  {
"cell_type": "code",
	   "execution_count": null,
	   "metadata": {
	    "collapsed": true
	   },
	   "outputs": [],
"source": [
"// Scilab code Ex14.8 : Pg:723(2011)\n",
"clc;clear;\n",
"I = 55e-03;     // Forward current through Si diode, A\n",
"V = 3;          // Forward bias across Si diode, V\n",
"eta = 2;    // Ideality factor for Si diode\n",
"R_dc = V/I;     // Static diode resistance, ohm\n",
"R_ac = 0.026*eta/I;    // Dynamic diode resistance, ohm\n",
"printf('\nThe static diode resistance = %4.1f ohm', R_dc);\n",
"printf('\nThe dynamic diode resistance = %5.3f ohm', R_ac);\n",
"\n",
"// Result\n",
"// The static diode resistance = 54.5 ohm\n",
"// The dynamic diode resistance = 0.945 ohm "
   ]
   }
,
{
		   "cell_type": "markdown",
		   "metadata": {},
		   "source": [
			"## Example 14.9: Half_wave_rectifier_parameters.sce"
		   ]
		  },
  {
"cell_type": "code",
	   "execution_count": null,
	   "metadata": {
	    "collapsed": true
	   },
	   "outputs": [],
"source": [
"// Scilab code Ex14.9 : Pg:723(2011)\n",
"clc;clear;\n",
"R_L = 1000; // Load resistance across HWR, ohm\n",
"V_rms = 200;    // Rms value of voltage supply, V\n",
"V0 = sqrt(2)*V_rms; // Peak value of voltage, V\n",
"I0 = V0/(R_L*1e-03);    // Peak value of current, mA\n",
"I_dc = I0/%pi;  // Average value of current, mA\n",
"I_rms = I0/2;   // Rms value of current, mA\n",
"V_dc = I_dc*R_L/1e+03;    // Dc output voltage, V\n",
"PIV = V0;   // Peak inverse voltage, V\n",
"printf('\nThe average value of current = %2d mA', I_dc);\n",
"printf('\nThe rms value of current = %5.1f mA', I_rms);\n",
"printf('\nThe dc output voltage = %2d V', V_dc/1);\n",
"printf('\nPIV = %5.1f V', PIV);\n",
"\n",
"\n",
"// Result\n",
"// The average value of current = 90 mA\n",
"// The rms value of current = 141.4 mA\n",
"// The dc output voltage = 90 V\n",
"// PIV = 282.8 V "
   ]
   }
],
"metadata": {
		  "kernelspec": {
		   "display_name": "Scilab",
		   "language": "scilab",
		   "name": "scilab"
		  },
		  "language_info": {
		   "file_extension": ".sce",
		   "help_links": [
			{
			 "text": "MetaKernel Magics",
			 "url": "https://github.com/calysto/metakernel/blob/master/metakernel/magics/README.md"
			}
		   ],
		   "mimetype": "text/x-octave",
		   "name": "scilab",
		   "version": "0.7.1"
		  }
		 },
		 "nbformat": 4,
		 "nbformat_minor": 0
}
