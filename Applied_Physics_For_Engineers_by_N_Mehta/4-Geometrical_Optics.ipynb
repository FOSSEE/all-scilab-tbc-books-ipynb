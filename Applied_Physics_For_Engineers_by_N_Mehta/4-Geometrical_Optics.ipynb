{
"cells": [
 {
		   "cell_type": "markdown",
	   "metadata": {},
	   "source": [
       "# Chapter 4: Geometrical Optics"
	   ]
	},
{
		   "cell_type": "markdown",
		   "metadata": {},
		   "source": [
			"## Example 4.10: Focal_length_of_the_two_component_lens_of_an_achromatic_doublet.sce"
		   ]
		  },
  {
"cell_type": "code",
	   "execution_count": null,
	   "metadata": {
	    "collapsed": true
	   },
	   "outputs": [],
"source": [
"// Scilab Code Ex4.10: Page-197  \n",
"clc;clear;\n",
"w1 = 0.02;....// Magnitude of the dispersive power of first lens\n",
"w2 = 0.04;....// Magnitude of the dispersive power of second lens\n",
"// Let 1/f1 = x and 1/f2 = y, then\n",
"// The condition for achromatic combination of two lenses, w1/f1 + w2/f2 = 0 => w1*x + w2*y = 0    --- (I)\n",
"F = 20;....// Given focal length of achromatic doublet, cm\n",
"// Also F = 1/f1 + 1/f2 => F = x + y    ---- (II)\n",
"A = [w1 w2; 1 1];      // Square matrix\n",
"B = [0;1/F];    // Column vector\n",
"X = inv(A)*B;    // Characteristic roots of the simultaneous equations, cm\n",
"f1 = 1/X(1);    // Focal length of convex lens, cm\n",
"f2 = 1/X(2);    // Focal length of concave lens, cm\n",
"\n",
"printf('\nThe focal length of convex lens = %2d cm', ceil(f1));\n",
"printf('\nThe focal length of concave lens = %2d cm', ceil(f2));\n",
"\n",
"// Result\n",
"// The focal length of convex lens = 10 cm\n",
"// The focal length of concave lens = -20 cm "
   ]
   }
,
{
		   "cell_type": "markdown",
		   "metadata": {},
		   "source": [
			"## Example 4.11: EX4_11.sce"
		   ]
		  },
  {
"cell_type": "code",
	   "execution_count": null,
	   "metadata": {
	    "collapsed": true
	   },
	   "outputs": [],
"source": [
"// Scilab Code Ex4.11: Page-197  \n",
"clc;clear;\n",
"w1 = 0.017;....// Magnitude of the dispersive power of first lens\n",
"w2 = 0.034;....// Magnitude of the dispersive power of second lens\n",
"// Let 1/f1 = x and 1/f2 = y, then\n",
"// The condition for achromatic combination of two lenses, w1/f1 + w2/f2 = 0 => w1*x + w2*y = 0    --- (I)\n",
"F = 40;....// Given focal length of achromatic doublet, cm\n",
"// Also F = 1/f1 + 1/f2 => F = x + y    ---- (II)\n",
"A = [w1 w2; 1 1];      // Square matrix\n",
"B = [0;1/F];    // Column vector\n",
"X = inv(A)*B;    // Characteristic roots of the simultaneous equations, cm\n",
"f1 = 1/X(1);    // Focal length of convex lens, cm\n",
"f2 = 1/X(2);    // Focal length of concave lens, cm\n",
"// For the convex lens\n",
"R2 = -25;    // Radius of curvature of the contact surface, cm \n",
"mu = 1.5;    // Mean refractive index of crown glass\n",
"// From the Lens Maker formula, 1/f = (mu - 1)*(1/R1-1/R2), solving for R1\n",
"f = f1;\n",
"R1 = 1/(1/(f*(mu-1))+1/R2);    // Radius of curvature of second surface of first lens, cm\n",
"printf('\nThe radius of curvature of second surface of first lens = %5.2f cm', R1);\n",
"// For the concave lens\n",
"R1 = -25;    // Radius of curvature of the contact surface, cm \n",
"mu = 1.7;    // Mean refractive index of flint glass\n",
"// From the Lens Maker formula, 1/f = (mu - 1)*(1/R1-1/R2), solving for R1\n",
"f = f2;\n",
"R2 = 1/(1/R1-1/(f*(mu-1)));    // Radius of curvature of second surface of second lens, cm\n",
"printf('\nThe radius of curvature of second surface of second lens = %5.2f cm', R2);\n",
"\n",
"// Result\n",
"// The radius of curvature of second surface of first lens = 16.67 cm\n",
"// The radius of curvature of second surface of second lens = -233.33 cm "
   ]
   }
,
{
		   "cell_type": "markdown",
		   "metadata": {},
		   "source": [
			"## Example 4.12: Focal_length_of_the_convergent_lens_for_C_line.sce"
		   ]
		  },
  {
"cell_type": "code",
	   "execution_count": null,
	   "metadata": {
	    "collapsed": true
	   },
	   "outputs": [],
"source": [
"// Scilab Code Ex4.12: Page-199  \n",
"clc;clear;\n",
"// For flint glass\n",
"mu_C = 1.665;    // Refractive index of flint glass for C line\n",
"mu_F = 1.700;    // Refractive index of flint glass for F line\n",
"mu_D = (mu_F+mu_C)/2;    // Refractive index of flint glass for D line\n",
"w2 = (mu_F-mu_C)/(mu_D-1);....// Magnitude of the dispersive power of second lens of flint glass\n",
"// For crown glass\n",
"mu_C = 1.510;    // Refractive index of crown glass for C line\n",
"mu_F = 1.536;    // Refractive index of crown glass for F line\n",
"mu_D = (mu_F+mu_C)/2;    // Refractive index of flint glass for D line\n",
"w1 = (mu_F-mu_C)/(mu_D-1);....// Magnitude of the dispersive power of second lens of crown glass\n",
"f = 50;    // Focal length of acromatic doublet, cm\n",
"FD = f*(w2-w1)/w2;    // Focal length of D line of the Fraunhofer spectrum due to convex lens of crown glass\n",
"FC = FD*(mu_D - 1)/(mu_C - 1);    // Focal length of C component of converging lens, cm\n",
"printf('\nThe focal length of C component of converging lens = %4.2f cm', FC);\n",
"\n",
"// Result\n",
"// The focal length of C component of converging lens = 1.57 cm "
   ]
   }
,
{
		   "cell_type": "markdown",
		   "metadata": {},
		   "source": [
			"## Example 4.13: Focal_length_of_two_lenses_with_no_aberration.sce"
		   ]
		  },
  {
"cell_type": "code",
	   "execution_count": null,
	   "metadata": {
	    "collapsed": true
	   },
	   "outputs": [],
"source": [
"// Scilab Code Ex4.13 Page-200  \n",
"clc;clear;\n",
"F = 50;....// Equivalent focal length of combination of two lenses, cm\n",
"//d = f1+f2/2, condition for no chromatic aberration....(1)\n",
"//d = f2-f1, condition for minimum spherical aberration....(2)\n",
"// From (1) and (2), f1 = 3*d/2, f2 = d/2\n",
"// As 1/F = 1/f1 + 1/f2 - d/(f1*f2), solving for d\n",
"d = 4/3*50;    // Distance of separation betwen two lenses, cm\n",
"f1 = 3*d/2, f2 = d/2;\n",
"printf('\nf1 = %3d cm, f2 = %5.2f cm', ceil(f1), f2);\n",
"\n",
"// Result\n",
"// f1 = 100 cm, f2 = 33.33 cm "
   ]
   }
,
{
		   "cell_type": "markdown",
		   "metadata": {},
		   "source": [
			"## Example 4.14: Longitudinal_chromatic_aberration_for_an_object_at_infinity.sce"
		   ]
		  },
  {
"cell_type": "code",
	   "execution_count": null,
	   "metadata": {
	    "collapsed": true
	   },
	   "outputs": [],
"source": [
"// Scilab Code Ex4.14 : Page-200 (2011)\n",
"clc;clear;\n",
"mu_R = 1.5230;    // Refractive index for red wavelength\n",
"mu_V = 1.5145;    // Refractive index for violet wavelength\n",
"R1 = 40;    // Radius of curvature for red wavelength, cm\n",
"R2 = -10;    // Radius of curvature for violet wavelength, cm\n",
"// As 1/f = (mu - 1)*(1/R1 - 1/R2), solving for fV and fR\n",
"fV = 1/((mu_V-1)*(1/R1-1/R2));    // Focal length for violet wavelength, cm \n",
"fR = 1/((mu_R-1)*(1/R1-1/R2));    // Focal length for violet wavelength, cm \n",
"l = fR - fV;    // Longitudinal chromatic aberration, cm\n",
"printf('\nThe longitudinal chromatic aberration = %5.3f cm', abs(l));\n",
"\n",
"// Result\n",
"// The longitudinal chromatic aberration = 0.253 cm "
   ]
   }
,
{
		   "cell_type": "markdown",
		   "metadata": {},
		   "source": [
			"## Example 4.15: Focal_length_of_component_lenses_of_a_convergent_doublet.sce"
		   ]
		  },
  {
"cell_type": "code",
	   "execution_count": null,
	   "metadata": {
	    "collapsed": true
	   },
	   "outputs": [],
"source": [
"// Scilab Code Ex4.15: Page-202  (2011)\n",
"clc;clear;\n",
"F = 10;....// Equivalent focal length of a combination of two lenses, cm\n",
"d = 2;....// Separation distance between two lenses, cm\n",
"// As d = f1-f2, condition for minimum spherical aberration => f1 = d+f2\n",
"// and F = f1*f2/(f1+f2-d), so solving for f2\n",
"f2 = 2*F-d;    // Focal length of second lens, cm\n",
"f1 = d+f2;    // Focal length of first lens, cm\n",
"printf('\nf1 = %2d cm, f2 = %2d cm', f1, f2);\n",
"\n",
"// Result\n",
"// f1 = 20 cm, f2 = 18 cm "
   ]
   }
,
{
		   "cell_type": "markdown",
		   "metadata": {},
		   "source": [
			"## Example 4.16: Radii_of_Aplanatic_surfaces_and_lateral_magnification_of_the_image.sce"
		   ]
		  },
  {
"cell_type": "code",
	   "execution_count": null,
	   "metadata": {
	    "collapsed": true
	   },
	   "outputs": [],
"source": [
"// Scilab Code Ex4.16: Page-202  (2011)\n",
"clc;clear;\n",
"mu = 1.6;....// Refractive index of aplanatic surface\n",
"R = 3.2;....// Radius of curvature, cm\n",
"R1 = R/mu;....// First radius of the aplanatic surface, cm \n",
"printf('\nR1 = %3.1f cm', R1);\n",
"R2 = R*mu;....// Second radius of the aplanatic surface, cm \n",
"printf('\nR2 = %4.2f cm', R2); \n",
"//Since the image of an object at one aplanatic point will be formed by the sphere at the other aplantic point,so the  is\n",
"m = mu^2;    // The lateral magnification of the image\n",
"printf('\nThe lateral magnification of the image = %4.2f', m);\n",
"\n",
"// Result\n",
"// R1 = 2.0 cm\n",
"// R2 = 5.12 cm\n",
"// The lateral magnification of the image = 2.56 "
   ]
   }
,
{
		   "cell_type": "markdown",
		   "metadata": {},
		   "source": [
			"## Example 4.17: Aplanatic_surface.sce"
		   ]
		  },
  {
"cell_type": "code",
	   "execution_count": null,
	   "metadata": {
	    "collapsed": true
	   },
	   "outputs": [],
"source": [
"// Scilab Code Ex4.17: Page-203  (2011)\n",
"clc;clear;\n",
"mu = 1.52;....// Refractive index of aplanatic surface\n",
"R = 30;....// Radius of curvature, cm\n",
"R1 = R/mu;....// First radius of the aplanatic surface, cm \n",
"printf('\nR1 = %5.2f cm', R1);\n",
"R2 = R*mu;....// Second radius of the aplanatic surface, cm \n",
"printf('\nR2 = %4.1f cm', R2); \n",
"//Since the image of an object at one aplanatic point will be formed by the sphere at the other aplantic point,so the  is\n",
"m = mu^2;    // The lateral magnification of the image\n",
"printf('\nThe lateral magnification of the image = %4.2f', m);\n",
"\n",
"// Result\n",
"// R1 = 19.74 cm\n",
"// R2 = 45.6 cm\n",
"// The lateral magnification of the image = 2.31 "
   ]
   }
,
{
		   "cell_type": "markdown",
		   "metadata": {},
		   "source": [
			"## Example 4.18: Focal_length_of_the_field_lens.sce"
		   ]
		  },
  {
"cell_type": "code",
	   "execution_count": null,
	   "metadata": {
	    "collapsed": true
	   },
	   "outputs": [],
"source": [
"// Scilab Code Ex4.18: Page-203  (2011)\n",
"clc;clear;\n",
"F = 5;....// Equivalent focal length of Huygens eyepiece, cm\n",
"// as f1 = 3*f, f2 = f and d = 2*f, therefore\n",
"f = 2/3*F;    // Focal length of base lens, cm\n",
"f1 = 3*f;    // Focal length of field lens, cm\n",
"printf('\nThe focal length of the field lens = %2d cm', f1);\n",
"\n",
"// Result\n",
"// The focal length of the field lens = 10 cm "
   ]
   }
,
{
		   "cell_type": "markdown",
		   "metadata": {},
		   "source": [
			"## Example 4.19: Equivalent_focal_length_of_a_Ramsden_eyepiece.sce"
		   ]
		  },
  {
"cell_type": "code",
	   "execution_count": null,
	   "metadata": {
	    "collapsed": true
	   },
	   "outputs": [],
"source": [
"// Scilab Code Ex4.19: Page-204 (2011)\n",
"clc;clear;\n",
"f = 10;....// Given focal length of each lens, cm\n",
"f1 = f;    // Focal length of first lens, cm \n",
"f2 = f;    // Focal length of second lens, cm\n",
"d = 2/3*f;  // Separation distance between two lenses, cm\n",
"F = f1*f2/(f1+f2-d);    // Equivalent focal length of Ramsden eyepiece, cm\n",
"printf('\nThe equivalent focal length of the field lenses is = %3.1f cm', F);\n",
"\n",
"// Result\n",
"// The equivalent focal length of the field lenses is = 7.5 cm "
   ]
   }
,
{
		   "cell_type": "markdown",
		   "metadata": {},
		   "source": [
			"## Example 4.1: Actual_path_of_light_using_Fermat_principle.sce"
		   ]
		  },
  {
"cell_type": "code",
	   "execution_count": null,
	   "metadata": {
	    "collapsed": true
	   },
	   "outputs": [],
"source": [
"// Scilab Code Ex4.1: Page:189 (2011) \n",
"clc;clear;\n",
"// Declare cosine function\n",
"function r = cosine(t)\n",
"    t = poly(0,t);\n",
"    r = 1-t^2/factorial(2)+t^4/factorial(4)-t^6/factorial(6)+t^8/factorial(8)-t^10/factorial(10)+t^12/factorial(12)-t^14/factorial(14);\n",
"endfunction\n",
"\n",
"// Declare sine function\n",
"function r = sine(t)\n",
"    t = poly(0,t);\n",
"    r = t-t^3/factorial(3)+t^5/factorial(5)-t^7/factorial(7)+t^9/factorial(9)-t^11/factorial(11)+t^13/factorial(13)-t^15/factorial(15);\n",
"endfunction\n",
"\n",
"r = 1;  // For convenience assume radius of the circle to be unity, unit\n",
"thet = poly(0,'thet');  // Declare a variable\n",
"l = 2*r*(cosine('thet')+sine('thet'));  // Length of actual path, unit\n",
"theta = 45*%pi/180;     // Angle which the chord PQ makes with the diameter, radian\n",
"d_diff = derivat(derivat(l));   // Double derivative of 'l' w.r.t. theta\n",
"printf('\nl = %5.3fr', horner(l,theta));\n",
"printf('\nDouble_diff of l at theta = 45 degrees = %5.3fr \nwhich is negative, so the actual path is maximum', horner(d_diff, theta));\n",
"\n",
"// Result\n",
"// l = 2.828r\n",
"// Double_diff of l at theta = 45 degrees = -2.828r \n",
"// which is negative, so the actual path is maximum \n",
"\n",
""
   ]
   }
,
{
		   "cell_type": "markdown",
		   "metadata": {},
		   "source": [
			"## Example 4.20: Focal_lengths_of_the_lenses_and_the_eyepiece.sce"
		   ]
		  },
  {
"cell_type": "code",
	   "execution_count": null,
	   "metadata": {
	    "collapsed": true
	   },
	   "outputs": [],
"source": [
"// Scilab Code Ex4.20 : Page-204 (2011)\n",
"clc;clear;\n",
"d = 10;....// Distance between the two thin plano convex lenses in the Huygens eyepiece, \n",
"f = d/2;    // Base focal length\n",
"f1 = 3*f;   // Focal length of the first component lens, cm\n",
"printf('\nf1 = %d cm', f1);\n",
"f2 = f;     // Focal length of the second component lens, cm\n",
"printf('\nf2 = %d cm', f2);\n",
"F = 3/2*f;  // Equivalent focal length of the lens, cm\n",
"printf('\nF = %3.1f cm', F);\n",
"\n",
"// Result\n",
"// f1 = 15 cm\n",
"// f2 = 5 cm\n",
"// F = 7.5 cm "
   ]
   }
,
{
		   "cell_type": "markdown",
		   "metadata": {},
		   "source": [
			"## Example 4.21: Focal_length_of_the_component_lenses_and_the_sepration_between_them.sce"
		   ]
		  },
  {
"cell_type": "code",
	   "execution_count": null,
	   "metadata": {
	    "collapsed": true
	   },
	   "outputs": [],
"source": [
"// Scilab Code Ex4.21: Page-204 (2011)\n",
"clc;clear;\n",
"F = 4.2;....// Equivalent focal length of Ramsden eyepiece, cm\n",
"//F = 3/4*f, Equivalent focal length of Ramsden eyepiece, \n",
"f = 5.6;....//focal length,in cm\n",
"f1 = f;\n",
"f2 = f;\n",
"printf('\nf1 = %3.1f cm', f1);\n",
"printf('\nf2 = %3.1f cm', f2);\n",
"d = 2/3*f;\n",
"printf('\nd = %4.2f cm', d);\n",
"\n",
"// Result\n",
"// f1 = 5.6 cm\n",
"// f2 = 5.6 cm\n",
"// d = 3.73 cm "
   ]
   }
,
{
		   "cell_type": "markdown",
		   "metadata": {},
		   "source": [
			"## Example 4.2: Light_reflected_from_the_inner_surface_of_spherical_shell.sce"
		   ]
		  },
  {
"cell_type": "code",
	   "execution_count": null,
	   "metadata": {
	    "collapsed": true
	   },
	   "outputs": [],
"source": [
"// Scilab Code Ex4.2: Page:191 (2011) \n",
"clc;clear;\n",
"r = 1;  // For convenience assume radius of the circle to be unity, unit\n",
"alpha = 0.8*r;  // Distance of light source from the centre of the spherical shell, unit\n",
"cos_phi_by_2 = sqrt((alpha+1)/(4*alpha));\n",
"printf('\ncos(phi/2) = %d/4', cos_phi_by_2*4);\n",
"\n",
"// Result\n",
"// alpha^2+1-2*alpha*cosine('phi')\n",
"\n",
""
   ]
   }
,
{
		   "cell_type": "markdown",
		   "metadata": {},
		   "source": [
			"## Example 4.3: Equivalent_focal_length_of_the_combinations_of_lenses.sce"
		   ]
		  },
  {
"cell_type": "code",
	   "execution_count": null,
	   "metadata": {
	    "collapsed": true
	   },
	   "outputs": [],
"source": [
"// Scilab Code Ex4.3: Page:193 (2011)\n",
"clc;clear;\n",
"f1 = 5;....// Focal length of thin convex lens, cm \n",
"f2 = 3;....// Focal length of thin convex lens, cm \n",
"d = 2;....// Separation between the lenses, cm\n",
"F = f1*f2/(f1+f2-d);....// Equivalent focal length of a combination of the two lenses, cm\n",
"printf('\nThe equivalent focal length of the combination of lenses = %3.1f cm', F) \n",
"\n",
"// Result\n",
"// The equivalent focal length of the combination of lenses = 2.5 cm "
   ]
   }
,
{
		   "cell_type": "markdown",
		   "metadata": {},
		   "source": [
			"## Example 4.4: Focal_length_of_the_combination_of_lenses_of_given_powers.sce"
		   ]
		  },
  {
"cell_type": "code",
	   "execution_count": null,
	   "metadata": {
	    "collapsed": true
	   },
	   "outputs": [],
"source": [
"// Scilab Code Ex4.4: Page:194 (2011) \n",
"clc;clear;\n",
"P1 = 5;....// Power of first converging lens, diopter\n",
"P2 = 4;....// Power of second converging lens, diopter\n",
"d = 0.1;....// Separation distance between two lenses, cm\n",
"P = P1+P2-d*P1*P2;\n",
"f = 1/P*100;....// The corresponding value of the focal length of the lens combination, cm\n",
"printf('\nThe focal length of the combination of lenses of given powers = %5.2f cm', f);\n",
"\n",
"// Result\n",
"// The focal length of the combination of lenses of given powers = 14.29 cm "
   ]
   }
,
{
		   "cell_type": "markdown",
		   "metadata": {},
		   "source": [
			"## Example 4.5: Focal_length_of_the_combination_of_coaxially_placed_thi_convex_lenses.sce"
		   ]
		  },
  {
"cell_type": "code",
	   "execution_count": null,
	   "metadata": {
	    "collapsed": true
	   },
	   "outputs": [],
"source": [
"// Scilab Code Ex4.5: Page:194 (2011)\n",
"clc;clear;\n",
"f1 = 30;....// Focal length first convex lens, cm \n",
"f2 = -50;....// Focal length of second convex lens, cm \n",
"d = 20;....// Separation distance between lenses, cm  \n",
"F = f1*f2/(f1+f2-d);....// Equivalent focal length of a combination of the two lenses, cm\n",
"printf('\nThe equivalent focal length of the combination = %4.1f cm', F);\n",
"\n",
"// Result\n",
"// The equivalent focal length of the combination = 37.5 cm "
   ]
   }
,
{
		   "cell_type": "markdown",
		   "metadata": {},
		   "source": [
			"## Example 4.7: Locations_of_principal_points_and_focal_points.sce"
		   ]
		  },
  {
"cell_type": "code",
	   "execution_count": null,
	   "metadata": {
	    "collapsed": true
	   },
	   "outputs": [],
"source": [
"// Scilab Code Ex4.7 : Page-195  \n",
"clc;clear;\n",
"f1 = 4;....// Focal length of thin convex lens, cm \n",
"f2 = 12;....// Focal length of thin convex lens, cm \n",
"d = 8;....// Separation distance between the lenses, cm\n",
"F = f1*f2/(f1+f2-d);....// Equivalent focal length of the combination, cm\n",
"L1H1 = d*F/f2;    // Distance of first principal point H1 from first lens, cm\n",
"printf('\nThe distance of the first principal point H1 from the first lens = %d cm', L1H1);\n",
"L2H2 = -d*F/f1;    // Distance of first principal point H2 from second lens, cm\n",
"printf('\nThe distance of the second principal point H2 from the second lens = %d cm', L2H2);\n",
"L1F1 = -F*(1-d/f2);    // Distance of first focal point F1 from first lens, cm\n",
"printf('\nThe distance of the first focal point F1 from the first lens = %d cm', L1F1);\n",
"L2F2 = F*(1-d/f1);    // Distance of second focal point F2 from first lens, cm\n",
"printf('\nThe distance of the second focal point F2 from the second lens= %d cm', L2F2);\n",
"\n",
"// Result\n",
"// The distance of the first principal point H1 from the first lens = 4 cm\n",
"// The distance of the second principal point H2 from the second lens = -12 cm\n",
"// The distance of the first focal point F1 from the first lens = -2 cm\n",
"// The distance of the second focal point F2 from the second lens= -6 cm "
   ]
   }
,
{
		   "cell_type": "markdown",
		   "metadata": {},
		   "source": [
			"## Example 4.8: Position_of_principal_points_and_focal_points_for_two_coaxially_placed_lenses.sce"
		   ]
		  },
  {
"cell_type": "code",
	   "execution_count": null,
	   "metadata": {
	    "collapsed": true
	   },
	   "outputs": [],
"source": [
"// Scilab Code Ex4.8: Page-195 (2011)\n",
"clc;clear;\n",
"f1 = 25;....// Focal length of thin convex lens, cm \n",
"f2 = -15;....// Focal length of thin concave lens, cm \n",
"d = 15;....// Separation distance between the lenses, cm  \n",
"// We know that, F = f1*f2/f1+f2-d then\n",
"F = f1*f2/(f1+f2-d);....// The equivalent focal length of the combination\n",
"L1H1 = d*F/f2;    // The distance of the first principal point H1 from the first lens, cm\n",
"printf('\nThe distance of the first principal point H1 from the first lens = %d cm', L1H1);\n",
"L2H2 = -d*F/f1;    // The distance of the second principal point H2 from the first lens, cm\n",
"printf('\nThe distance of the second principal point H2 from the second lens = %d cm', L2H2);\n",
"L1F1 = -F*(1-d/f2);    // The distance of the first focal point F1 from the first lens, cm\n",
"printf('\nThe distance of the first focal point H1 from the first lens = %d cm', L1F1);\n",
"L2F2 = F*(1-d/f1);    // The distance of the second principal point F2 from the first lens, cm\n",
"printf('\nThe distance of the second focal point H2 from the second lens= %d cm', L2F2);\n",
"\n",
"//Result\n",
"// The distance of the first principal point H1 from the first lens = -75 cm\n",
"// The distance of the second principal point H2 from the second lens = -45 cm\n",
"// The distance of the first focal point H1 from the first lens = -150 cm\n",
"// The distance of the second focal point H2 from the second lens= 30 cm "
   ]
   }
,
{
		   "cell_type": "markdown",
		   "metadata": {},
		   "source": [
			"## Example 4.9: Focal_lengths_from_dispersive_powers_of_achromatic_combination_of_lenses.sce"
		   ]
		  },
  {
"cell_type": "code",
	   "execution_count": null,
	   "metadata": {
	    "collapsed": true
	   },
	   "outputs": [],
"source": [
"// Scilab Code Ex4.9 : Page-196  \n",
"clc;clear;\n",
"w1 = 0.024;....// Magnitude of the dispersive power of first lens\n",
"w2 = 0.036;....// Magnitude of the dispersive power of second lens\n",
"// Let 1/f1 = x and 1/f2 = y, then\n",
"// The condition for achromatic combination of two lenses, w1/f1 + w2/f2 = 0 => w1*x + w2*y = 0    --- (I)\n",
"F = 90;....// Given focal length, cm\n",
"// Also F = 1/f1 + 1/f2 => F = x + y    ---- (II)\n",
"A = [w1 w2; 1 1];      // Square matrix\n",
"B = [0;1/F];    // Column vector\n",
"X = inv(A)*B;    // Characteristic roots of the simultaneous equations, cm\n",
"f1 = 1/X(1);    // Focal length of convex lens, cm\n",
"f2 = 1/X(2);    // Focal length of concave lens, cm\n",
"\n",
"printf('\nThe focal length of convex lens = %2d cm', ceil(f1));\n",
"printf('\nThe focal length of concave lens = %2d cm', ceil(f2));\n",
"\n",
"// Result\n",
"// The focal length of convex lens = 30 cm\n",
"// The focal length of concave lens = -44 cm "
   ]
   }
],
"metadata": {
		  "kernelspec": {
		   "display_name": "Scilab",
		   "language": "scilab",
		   "name": "scilab"
		  },
		  "language_info": {
		   "file_extension": ".sce",
		   "help_links": [
			{
			 "text": "MetaKernel Magics",
			 "url": "https://github.com/calysto/metakernel/blob/master/metakernel/magics/README.md"
			}
		   ],
		   "mimetype": "text/x-octave",
		   "name": "scilab",
		   "version": "0.7.1"
		  }
		 },
		 "nbformat": 4,
		 "nbformat_minor": 0
}
