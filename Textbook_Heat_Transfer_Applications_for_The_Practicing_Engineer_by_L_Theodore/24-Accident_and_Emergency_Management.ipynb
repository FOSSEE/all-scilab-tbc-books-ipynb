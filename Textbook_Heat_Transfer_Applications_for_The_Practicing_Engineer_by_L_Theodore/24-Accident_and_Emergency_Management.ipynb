{
"cells": [
 {
		   "cell_type": "markdown",
	   "metadata": {},
	   "source": [
       "# Chapter 24: Accident and Emergency Management"
	   ]
	},
{
		   "cell_type": "markdown",
		   "metadata": {},
		   "source": [
			"## Example 24.10: Example.sce"
		   ]
		  },
  {
"cell_type": "code",
	   "execution_count": null,
	   "metadata": {
	    "collapsed": true
	   },
	   "outputs": [],
"source": [
"//variable Declaration:\n",
"mTa = [100,100,100,100,100,100,100,100,100,100]                   //Mean weeks for thermometer failure(A)\n",
"mTb = [90,90,90,90,90,90,90,90,90,90]                    //Mean weeks for thermometer failure(B)\n",
"mTc = [80,80,80,80,80,80,80,80,80,80]                    //Mean weeks for thermometer failure(C)\n",
"sTa = 30                                //Standard deviation (weeks) for thermometer failure(A)\n",
"sTb = 20                                //Standard deviation (weeks) for thermometer failure(B)\n",
"sTc = 10                                //Standard deviation (weeks) for thermometer failure(C)\n",
"Ra = [0.52,0.80,0.45,0.68,0.59,0.01,0.50,0.29,0.34,0.46]         //Random No corrosponding to A\n",
"Rb = [0.77,0.54,0.96,0.02,0.73,0.67,0.31,0.34,0.00,0.48]         //Random No corrosponding to B\n",
"Rc = [0.14,0.39,0.06,0.86,0.87,0.90,0.28,0.51,0.56,0.82]         //Random No corrosponding to B\n",
"Za = [0.05,0.84,-0.13,0.47,0.23,-2.33,0.00,-0.55,-0.41,-0.10]    //Normal variable corrosponding to random No for A\n",
"Zb = [0.74,0.10,1.75,-2.05,0.61,0.44,-0.50,-0.41,-3.90,-0.05]    //Normal variable corrosponding to random No for B\n",
"Zc = [-1.08,-0.28,-1.56,1.08,1.13,1.28,-0.58,0.03,0.15,0.92]     //Normal variable corrosponding to random No for C\n",
"//Calculations:\n",
"Ta = mTa+sTa*Za\n",
"Tb = mTb+sTb*Zb\n",
"Tc = mTc+sTc*Zc\n",
"Ts = min(list(Ta,Tb))\n",
"Ts = min(list(Ts,Tc))\n",
"k = sum(Ts)/length(Ts)\n",
"m = [k,k,k,k,k,k,k,k,k,k]\n",
"s = sqrt(sum((Ts-m)**2)/(length(Ts)-1))\n",
"//Results:\n",
"printf('Standard deviation : %.1f Weeks',s)"
   ]
   }
,
{
		   "cell_type": "markdown",
		   "metadata": {},
		   "source": [
			"## Example 24.15: Example.sce"
		   ]
		  },
  {
"cell_type": "code",
	   "execution_count": null,
	   "metadata": {
	    "collapsed": true
	   },
	   "outputs": [],
"source": [
"//Variable declaration:\n",
"t = 273                     //Standard temperature (K)\n",
"v = 0.0224                  //Volume of air occupied by 1 gmol of ideal gas (m^3)\n",
"V = 1100                    //Volume of heat exchanger (m^3)\n",
"T = 22+273                  //Temperature of heat exchanger (K)\n",
"x1 = 0.75                   //gmols of hydrocarbon leaking from the exchanger (gmol)\n",
"//Calculation:\n",
"n = V*(1/v)*(t/T)           //Total number of gmols of air in the room (gmol)\n",
"xHC = (x1/(n+x1))*10**6     //The mole fraction of hydrocarbon in the room (ppm)\n",
"ans = round((xHC*1000)*10**-1)/10**-1\n",
"//Result:\n",
"printf('1. The mole fraction of hydrocarbon in the room is : %f ppb .',ans)"
   ]
   }
,
{
		   "cell_type": "markdown",
		   "metadata": {},
		   "source": [
			"## Example 24.4: Example.sce"
		   ]
		  },
  {
"cell_type": "code",
	   "execution_count": null,
	   "metadata": {
	    "collapsed": true
	   },
	   "outputs": [],
"source": [
"//Variable declaration:\n",
"fm = 30/100                         //Mole fraction of methane\n",
"fe = 50/100                         //Mole fraction of ethane\n",
"fp = 20/100                         //Mole fraction of pentane\n",
"LFLm = 0.046                        //Lower flammability limit for methane\n",
"LFLe = 0.035                         //Lower flammability limit for ethane\n",
"LFLp = 0.014                        //Lower flammability limit for propane\n",
"UFLm = 0.142                        //Upper flammability limit for methane\n",
"UFLe = 0.151                        //Upper flammability limit for ethane\n",
"UFLp = 0.078                        //Upper flammability limit for propane\n",
"//Calculation:\n",
"LFLmix = 1/((fm/LFLm)+(fe/LFLe)+(fp/LFLp))  //Lower flammability limit of gas mixture\n",
"UFLmix = 1/((fm/UFLm)+(fe/UFLe)+(fp/UFLp))  //Upper flammability limit of gas mixture\n",
"//Result:\n",
"printf('The upper flammability limit (UFL) of the gas mixture is : %.2f %%',UFLmix*100)\n",
"printf('The lower flammability limit (LFL) of the gas mixture is : %.2f %%',LFLmix*100)\n",
"printf('There is a printing mistake in book.')"
   ]
   }
,
{
		   "cell_type": "markdown",
		   "metadata": {},
		   "source": [
			"## Example 24.5: Example.sce"
		   ]
		  },
  {
"cell_type": "code",
	   "execution_count": null,
	   "metadata": {
	    "collapsed": true
	   },
	   "outputs": [],
"source": [
"//Variable declaration:\n",
"P_A = 10/100                               //Probability that the first tube is defective if the first is replaced\n",
"P_B = 10/100                               //Probability that the second tube is defective if the first is replaced\n",
"//Calculation:\n",
"P_AB = P_A*P_B                             //Probability that the two tubes are defective if the first is replaced\n",
"P_B_A = 9/99                               //Probability that the second tube is defective if the first tube is not replaced\n",
"Pd_AB = P_A*P_B_A                          //Probability that both tubes are defective if the first tube is not replaced\n",
"//Result:\n",
"printf('The probability that both tubes are defective if :')\n",
"printf('(a) the first is replaced before the second is drawn is : %f',P_AB)\n",
"printf('(b) the first is not replaced before the second is drawn is : %f',Pd_AB)"
   ]
   }
,
{
		   "cell_type": "markdown",
		   "metadata": {},
		   "source": [
			"## Example 24.6: Example.sce"
		   ]
		  },
  {
"cell_type": "code",
	   "execution_count": null,
	   "metadata": {
	    "collapsed": true
	   },
	   "outputs": [],
"source": [
"//Variable declaration:\n",
"syms X                                  //Range of X\n",
"Px = 1.7*(exp(-1.7*X))                  //Probability distribution function\n",
"//Calculation:\n",
"P = eval(integrate(Px, X,2,6))              //Probability that X will have a value between 2 and 6\n",
"//Result:\n",
"printf('The probability that X will have a value between 2 and 6 is : %.4f',P)"
   ]
   }
,
{
		   "cell_type": "markdown",
		   "metadata": {},
		   "source": [
			"## Example 24.7: Example.sce"
		   ]
		  },
  {
"cell_type": "code",
	   "execution_count": null,
	   "metadata": {
	    "collapsed": true
	   },
	   "outputs": [],
"source": [
"//Variable Declaration:\n",
"n = 20                  //Total number of components\n",
"p = 0.1                 //Probability of success\n",
"//Calculations:\n",
"function [ans]= binomial(n,p,x)\n",
"    P=0\n",
"    for x = 0:x-1\n",
"        P = P + p**x*(1-p)**(n-x)*factorial(n)/(factorial(x)*factorial(n-x))\n",
"    end\n",
"    disp(P);\n",
"    ans = P\n",
"endfunction\n",
"//Results:\n",
"printf('Probability that the sprinkler system fails : %.2f %%',(1-binomial(n,p,4))*100)"
   ]
   }
,
{
		   "cell_type": "markdown",
		   "metadata": {},
		   "source": [
			"## Example 24.8: Example.sce"
		   ]
		  },
  {
"cell_type": "code",
	   "execution_count": null,
	   "metadata": {
	    "collapsed": true
	   },
	   "outputs": [],
"source": [
"//Variable declaration:\n",
"a = 1.3*10^-3                      //Constant a\n",
"B = 0.77                            //Constant B\n",
"syms t                              //Time (h)\n",
"Ft = a*B*t^(B-1)*(exp(-a*t^B))     //Pdf for heat exchanger tube\n",
"Pt = eval(integrate(Ft, 't',0,1000))      //Probability that a heat exchanger will fail within 100 hours\n",
"//Result:\n",
"printf('The probability that a tube in a heat exchanger will fail in 1000 hours is : %.2f',Pt)"
   ]
   }
,
{
		   "cell_type": "markdown",
		   "metadata": {},
		   "source": [
			"## Example 24.9: Example.sce"
		   ]
		  },
  {
"cell_type": "code",
	   "execution_count": null,
	   "metadata": {
	    "collapsed": true
	   },
	   "outputs": [],
"source": [
"//Variable declaration:\n",
"m = 0.4008                     //Mean(inch)\n",
"s = 0.0004                   //Standard Deviation(inch)\n",
"UL = 0.4000+0.001            //Upper Limit\n",
"LL = 0.4000-0.001            //Upper Limit\n",
"//Calculation:\n",
"Ps = cdfnor('PQ',UL,m,s)-cdfnor('PQ',LL,m,s)//Probability of meeting specs\n",
"Pd = 1-Ps                    //Probability of defect\n",
"//Results:\n",
"printf('Probability of meeting specifications: %.2f %%',Ps*100)\n",
"printf('Probability of Defect: %.2f %%',Pd*100)"
   ]
   }
],
"metadata": {
		  "kernelspec": {
		   "display_name": "Scilab",
		   "language": "scilab",
		   "name": "scilab"
		  },
		  "language_info": {
		   "file_extension": ".sce",
		   "help_links": [
			{
			 "text": "MetaKernel Magics",
			 "url": "https://github.com/calysto/metakernel/blob/master/metakernel/magics/README.md"
			}
		   ],
		   "mimetype": "text/x-octave",
		   "name": "scilab",
		   "version": "0.7.1"
		  }
		 },
		 "nbformat": 4,
		 "nbformat_minor": 0
}
