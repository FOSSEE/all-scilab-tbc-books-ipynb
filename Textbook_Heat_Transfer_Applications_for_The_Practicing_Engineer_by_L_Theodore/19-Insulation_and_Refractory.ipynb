{
"cells": [
 {
		   "cell_type": "markdown",
	   "metadata": {},
	   "source": [
       "# Chapter 19: Insulation and Refractory"
	   ]
	},
{
		   "cell_type": "markdown",
		   "metadata": {},
		   "source": [
			"## Example 19.10: Example.sce"
		   ]
		  },
  {
"cell_type": "code",
	   "execution_count": null,
	   "metadata": {
	    "collapsed": true
	   },
	   "outputs": [],
"source": [
"//Variable declaration:\n",
"r1 = 1.1/100                    //Inside radius of %pipe (m)\n",
"r2 = 1.3/100                    //Outside radius of %pipe (m)\n",
"r3 = 3.8/100                    //Outside radius of asbestos insulation (m)\n",
"L = 1                           //Length of tube (m)\n",
"h1 = 190                        //Heat transfer coefficient from ethylene glycol to the stainless steel %pipe (W/m^2.K)\n",
"k2 = 19                         //Thermal conductivity of %pipe (W/m.K)\n",
"h2 = 14                         //Outside heat transfer coefficient from the air to the surface of the insulation (W/m^2.K)\n",
"k3 = 0.2                        //Thermal conductivity of asbestos (W/m.K)\n",
"T1 = 124                        //Hot ethylene glycol temperature ( C)\n",
"T5 = 2                          //Surrounding air temperature ( C)\n",
"k4 = 0.0242                     //Thermal conductivity of air (W/m.K)\n",
"//Calculation:\n",
"A1 = 2*%pi*r1*L                  //Inside surface area of %pipe (m^2) (part1)\n",
"A2 = 2*%pi*r2*L                  //Outside surface area of %pipe (m^2)\n",
"A3 = 2*%pi*r3*L                  //Outside surface area of asbestos insulation (m^2)\n",
"R1 = 1/(h1*A1)                  //Inside convection resistance ( C/W)\n",
"R2 = log(r2/r1)/(2*%pi*k2*L)     //Conduction resistance through the tube ( C/W)\n",
"R3 = 1/(h2*A2)                  //Outside convection resistance ( C/W)\n",
"Rt1 = R1+R2+R3                  //Total resistance without insulation ( C/W)\n",
"Q1 = (T1 - T5)/Rt1              //Heat transfer rate without insulation (W)\n",
"R4 = log(r3/r2)/(2*%pi*k3*L)     //Conduction resistance associated with the insulation ( C/W) (part 2)\n",
"R5 = 1/(h2*A3)                  //Outside convection resistance ( C/W)\n",
"Rt2 = R1+R2+R4+R5               //Total rsistance with the insulation ( C/W)\n",
"Q2 = (T1-T5)/Rt2                //Heat transfer rate with the insulation (W)\n",
"U1 = 1/(Rt2*A1)                 //Overall heat transfer coefficient based on the inside area (W/m^2.K) (part 3)\n",
"U3 = 1/(Rt2*A3)                 //Overall heat transfer coefficient based on the outside area (W/m^2.K) (part 4)\n",
"T3 = T1-(R1+R2)*Q2              //Temperature at the steelu2013insulation interface ( C) (part 5)\n",
"Bi1 = h2*(2*r3)/k3              //Outside Biot number (part 6)\n",
"Bi2 = h1*(2*r1)/k2              //Inside Biot number\n",
"Nu = h1*(2*r1)/k4               //Nusselt number of the air\n",
"rlm = (r3-r2)/log(r3/r2)        //Log mean radius of the insulation (m) (part 7)\n",
"//Result:\n",
"printf('1. The rate of heat transfer without insulation is : %.1f W.',Q1)\n",
"printf('2. The rate of heat transfer with insulation is : %.1f W.',Q2)\n",
"printf('3. The overall heat transfer coefficient based on the inside area of the tube is : %.2f W/m^2.K .',U1)\n",
"printf('4. The overall heat transfer coefficient based on the outside area of the insulation is : %.1f W/m^2.K .',U3)\n",
"printf('5. The temperature, T3, at the steelu2013insulation interface is : %.1f C.',T3)\n",
"printf('6. The inside Biot numbers is : %.2f',Bi2)\n",
"printf('   The outside Biot numbers is : %.2f',Bi1)\n",
"printf('   The Nusselt number is : %.1f',Nu)\n",
"printf('7. The log mean radius of insulation is : %.2f cm.',rlm*100)\n",
"printf('There is a printing mistake in book for unit in part 7.')"
   ]
   }
,
{
		   "cell_type": "markdown",
		   "metadata": {},
		   "source": [
			"## Example 19.11: Example.sce"
		   ]
		  },
  {
"cell_type": "code",
	   "execution_count": null,
	   "metadata": {
	    "collapsed": true
	   },
	   "outputs": [],
"source": [
"//Variable declaration:\n",
"h1 = 800                        //Heat transfer coefficient for steam condensing inside coil (Btu/h.ft^2. F)\n",
"h2 = 40                         //Heat transfer coefficient for oil outside coil (Btu/h.ft^2. F)\n",
"h3 = 40                         //Heat transfer coefficient for oil inside tank wal (Btu/h.ft^2. F)\n",
"h4 = 2                          //Heat transfer coefficient for outer tank wall to ambient air (Btu/h.ft^2. F)\n",
"k1 = 0.039                      //Thermal conductivity of insulation layer (Btu/h.ft. F)\n",
"l1 = 2/12                       //Thickness of insulation layer (ft)\n",
"D = 10                          //Diameter of tank (ft)\n",
"H = 30                          //Height of tank (ft)\n",
"k2 = 224                        //Thermal conductivity of copper tube (Btu/h.ft. F)\n",
"l2 = (3/4)/12                   //Thickness of insulation layer (ft)\n",
"T1 = 120                        //Temperature of tank ( F)\n",
"T2 = 5                          //Outdoor temperature ( F)\n",
"//Calculation:\n",
"Uo1 = 1/(1/h3+(l1/k1)+1/h4)     //Overall heat transfer coefficient for tank (Btu/h.ft^2. F)\n",
"At = %pi*(D+2*l1)*H              //Surface area of tank (ft^2)\n",
"Q = Uo1*At*(T1-T2)              //Heat transfer rate lost from the tank (Btu/h)\n",
"//From table 6.3:\n",
"l2 = 0.049/12                   //Thickness of coil (ft)\n",
"A = 0.1963                      //Area of 18 guage, 3/4-inch copper tube (ft^2/ft)\n",
"Uo2 = 1/(1/h2+(l2/k2)+1/h1)     //Overall heat transfer coefficient for coil (Btu/h.ft^2. F)\n",
"//From steam tables:\n",
"Tst = 240                       //Temperature for 10 psia (24.7 psia) steam ( F)\n",
"Ac = Q/(Uo2*(Tst-T1))           //Area of tube (ft^2)\n",
"L = Ac/A                        //Lengt of tube (ft)\n",
"//Result:\n",
"printf('The length ofcopper tubing required is : %.1f ft',L)"
   ]
   }
,
{
		   "cell_type": "markdown",
		   "metadata": {},
		   "source": [
			"## Example 19.12: Example.sce"
		   ]
		  },
  {
"cell_type": "code",
	   "execution_count": null,
	   "metadata": {
	    "collapsed": true
	   },
	   "outputs": [],
"source": [
"//Variable declaration:\n",
"//For 1-inch %pipe schedule 40:\n",
"Di = 1.049/12                   //Inside diameter (ft)\n",
"Do = 1.315/12                   //Outside diameter (ft)\n",
"L = 8000                        //Length of %pipe (ft)\n",
"hi = 2000                       //Heat transfer coefficient inside of the %pipe (Btu/h.ft^2. F)\n",
"ho = 100                        //Outside heat transfer coefficient (Btu/h.ft. F)\n",
"kl = 0.01                       //Thermal conductivity of insulation (Btu/h.ft. F)\n",
"T1 = 240                        //Steam temperature ( F)\n",
"T2 = 20                         //Air temperature ( F)\n",
"k = 24.8                        //Thermal conductivity for steel (Btu/h.ft. F)\n",
"Dxl = ([3/8,1/2,3/4,1])/12      //thickness(ft)\n",
"amt = ([1.51,3.54,5.54,8.36])/6     //Cost per feet($)   \n",
"//Calculation:\n",
"D_ = (Do-Di)/log(Do/Di)         //log-mean diameter of the %pipe (ft)\n",
"Dl = Do+2*(Dxl)                 //Insulation thickness (ft)\n",
"D_l = [ 0.13849079  0.14734319  0.16423045  0.18025404]\n",
"//D_l = (Dl-Do)/log(Dl/Do)        //log mean diameter of %pipe (ft)\n",
"Dxw = (Do-Di)/2                 //%pipe thickness (ft)\n",
"Rw = Dxw/(k*%pi*D_*L)            //Wall resistance ((Btu/h. F)^-1)\n",
"Ri = 1/(hi*%pi*Di*L)             //Inside steam convection resistance ((Btu/h. F)^-1)\n",
"Rl = [ 0.00089782  0.00112517  0.00151421  0.00183947] //Dxl/(kl*%pi*D_l*L)          //Insulation resistance ((Btu/h. F)^-1)\n",
"Ro = [  2.31217835e-06   2.06248306e-06   1.69614504e-06   1.44031623e-06] //1/(ho*%pi*Dl*L)             //Outside air convection resistance ((Btu/h. F)^-1)\n",
"R = [ 0.00090054, 0.00112764,0.00151632,0.00184132]                //Total resistance  ((Btu/h. F)^-1)\n",
"Uo = [ 0.25675435  0.18290211  0.11185958  0.07822176]     //Overall outside heat transfer coefficient (Btu/h.ft^2. F)\n",
"Ui = [ 0.50543158  0.40364002  0.30017609  0.24719271]     //Overall inside heat transfer coefficient (Btu/h.ft^2. F)\n",
"dT = T1-T2\n",
"Ai = %pi*Di*L                    //Inside area (ft^2)\n",
"Q = Ui*Ai*dT                   //Energy loss (Btu/h)\n",
"function [a] =energyPerDollar(Q1,Q2,amt1,amt2)\n",
"    a = ((Q1-Q2)/(8000*(amt2-amt1)))\n",
"endfunction\n",
"//Results:\n",
"printf('Energy saved per dollar ingoing from 3/8 to 1/2 inch is : %.1f Btu/h.$',energyPerDollar(Q(1),Q(2),amt(1),amt(2)))\n",
"printf('Energy saved per dollar ingoing from 1/2 to 3/4 inch is : %.1f Btu/h.$',energyPerDollar(Q(2),Q(3),amt(2),amt(3)))\n",
"printf('Energy saved per dollar ingoing from 3/4 to 1 inch is : %.1f Btu/h.$',energyPerDollar(Q(3),Q(4),amt(3),amt(4)))"
   ]
   }
,
{
		   "cell_type": "markdown",
		   "metadata": {},
		   "source": [
			"## Example 19.16: Example.sce"
		   ]
		  },
  {
"cell_type": "code",
	   "execution_count": null,
	   "metadata": {
	    "collapsed": true
	   },
	   "outputs": [],
"source": [
"//Variable declaration:\n",
"ki = 0.44                       //Thermal conductivity of insulation (Btu/h.ft. F)\n",
"ho = 1.32                       //Air flow coefficient (Btu/h.ft^2. F)\n",
"OD = 2                          //Outside diameter of pipe (in)\n",
"//Calculation:\n",
"rc = (ki/ho)*12                 //Outer critical radius of insulation (in)\n",
"ro = OD/2                       //Outside radius of pipe (in)\n",
"L = rc-ro                       //Critical insulation thickness (in)\n",
"//Result:\n",
"printf('The outer critical radius of insulation is : %.0f in .',rc)\n",
"if ro<rc then\n",
"    printf('Since, ro<rc, the heat loss will increase as insulation is added.')\n",
"else \n",
"    printf('Sice, ro>rc, the heat loss will decrease as insulation is added.')\n",
"end"
   ]
   }
,
{
		   "cell_type": "markdown",
		   "metadata": {},
		   "source": [
			"## Example 19.18: Example.sce"
		   ]
		  },
  {
"cell_type": "code",
	   "execution_count": null,
	   "metadata": {
	    "collapsed": true
	   },
	   "outputs": [],
"source": [
"//Variable declaration:\n",
"Lf = 6/12                           //Length of firebrick (ft)\n",
"kf = 0.61                           //Thermal conductivity of firebrick (Btu/h.ft. F)\n",
"A = 480                             //Surface area of wall (ft^2)\n",
"Lw = 8/12                           //Length of rock wool (ft)\n",
"kw = 0.023                          //Thermal conductivity of rock wool (Btu/h.ft. F)\n",
"T1 = 1900                           //Temperature of insulation of firebrick ( F)\n",
"T2 = 140                            //Temperature of insulation of rock wool ( F)\n",
"//Calculation:\n",
"Rf = Lf/(kf*A)                      //Resistance of firebrick (h. F/Btu)\n",
"Rw = Lw/(kw*A)                      //Resistance of rock wool (h. F/Btu)\n",
"R = Rf+Rw                           //Total resitance (h. F/Btu)\n",
"Q = (T1-T2)/R                       //Heat loss through the wall (Btu/h)\n",
"//Result:\n",
"printf('The heat loss through the wall is : %.0f Btu/h .',Q)"
   ]
   }
,
{
		   "cell_type": "markdown",
		   "metadata": {},
		   "source": [
			"## Example 19.19: Example.sce"
		   ]
		  },
  {
"cell_type": "code",
	   "execution_count": null,
	   "metadata": {
	    "collapsed": true
	   },
	   "outputs": [],
"source": [
"//Variable declaration:\n",
"h1 = 1700                       //Steam heat-transfer coefficient (Btu/h.ft^2. F)\n",
"h2 = 2                          //Air heat-transfer coefficient (Btu/h.ft^2. F)\n",
"A = 1                           //Area of base (ft^2) (assumption)\n",
"k1 = 26                         //Thermal conductivity of steel (Btu/h.ft. F)\n",
"k2 = 218                        //Thermal conductivity of copper (Btu/h.ft. F)\n",
"t = 0.375                       //Thickness of steel sheet (in)\n",
"h3 = 2500                       //Increased steam heat-transfer coefficient (Btu/h.ft^2. F)\n",
"h4 = 12                         //Increased air heat-transfer coefficient (Btu/h.ft^2. F)\n",
"//Calculation:\n",
"R1 = 1/(h1*A)                   //Steam resistance (h. F/Btu)\n",
"R2 = 1/(h2*A)                   //Air resistance (h. F/Btu)\n",
"R3 = (t/12)/(k1*A)              //Steel resistance (h. F/Btu)\n",
"Rt1 = R1+R2+R3                  //Total resistance (with steel) (h. F/Btu)\n",
"R4 = (t/12)/(k2*A)              //Copper resistance (h. F/Btu) (part 1)\n",
"Rt2 = R1+R2+R4                  //Total resistance (with copper) (h. F/Btu)\n",
"R5 = 1/(h1*A)                   //New steam resistance (h. F/Btu)\n",
"Rt3 = R5+R2+R3                  //Total resistance after increasing the steam coefficient (h. F/Btu)\n",
"R6 = 1/(h4*A)                   //Air resistance (h. F/Btu)\n",
"Rt4 = R1+R6+R3                  //Total resistance after increasing the air coefficient (h. F/Btu)\n",
"//Result:\n",
"if (Rt1==Rt2) then\n",
"    printf('1.The rate of heat transfer is essentially unaffected.')\n",
"else\n",
"    printf('1. The rate of heat transfer is essentially affected.')\n",
"end\n",
"    \n",
"if (Rt1==Rt3) then\n",
"    printf('2. The rate is again unaffected.')\n",
"else \n",
"    printf('2. The rate is again affected.')\n",
"end    \n",
"if (Rt1==Rt4) then\n",
"    printf('3. The rate is unaffected for this case.')\n",
"else \n",
"    printf('3. The rate is affected for this case.')\n",
"end    "
   ]
   }
,
{
		   "cell_type": "markdown",
		   "metadata": {},
		   "source": [
			"## Example 19.1: Example.sce"
		   ]
		  },
  {
"cell_type": "code",
	   "execution_count": null,
	   "metadata": {
	    "collapsed": true
	   },
	   "outputs": [],
"source": [
"//Variable declaration:\n",
"H = 2.5                         //Height of wall (m)\n",
"W = 4                           //Width of wall (m)\n",
"h = 11                          //Convective heat transfer coefficient (W/m^2.K)\n",
"T1 = 24                         //Outside surface temperature ( C)\n",
"T3 = -15                        //Outside air temperature ( C)\n",
"L = 7.62/10**3                  //Insulation thickness (m)\n",
"k = 0.04                        //Thermal conductivity of wool (W/m.K)\n",
"//Calculation:\n",
"A = H*W                         //Heat transfer area (m^2)\n",
"Q = h*A*(T1-T3)                 //Heat transfer rate (W)\n",
"Ri = L/(k*A)                    //Insuation resistance (K/W)\n",
"Rc = 1/(h*A)                    //Convective resitance (K/W)\n",
"R = Ri+Rc                       //Total resistance (K/W)\n",
"Qt = (T1-T3)/R                  //Revised heat transfer rate (Btu/h)\n",
" \n",
"//Result:\n",
"printf('1. The heat transfer rate without insulation is : %.0f W .',Q)\n",
"printf('Or, the heat transfer rate without insulation is : %.0f Btu/h .',Q*3.412)\n",
"printf('2. The revised heat transfer rate with insulation is : %.0f W .',Qt)\n",
"printf('Or, the revised heat transfer rate with insulation is : %.0f Btu/h .',Qt*3.412)\n",
"printf('There is a calculation mistake in book.')"
   ]
   }
,
{
		   "cell_type": "markdown",
		   "metadata": {},
		   "source": [
			"## Example 19.20: Example.sce"
		   ]
		  },
  {
"cell_type": "code",
	   "execution_count": null,
	   "metadata": {
	    "collapsed": true
	   },
	   "outputs": [],
"source": [
"//Variable declaration:\n",
"rfo = 12/2                      //Outside radius of firebrick (ft)\n",
"rfi = 5.167                     //Inside radius of firebrick (ft)\n",
"rso = 6.479                     //Outside radius of sil-o-cel (ft)\n",
"rsi = 6.063                     //Inside radius of fsil-o-cel (ft)\n",
"L = 30                          //Length of incinerator (ft)\n",
"kf = 0.608                      //Thermal conductivity of firebrick (Btu/h.ft. F)\n",
"ks = 0.035                      //Thermal conductivity of sil-o-cel (Btu/h.ft. F)\n",
"//Calculation:\n",
"Rf= log(rfo/rfi)/(2*%pi*L*kf)    //Resistance of firebrick (h.ft. F/Btu)\n",
"Rs= log(rso/rsi)/(2*%pi*L*ks)    //Resistance of sil-o-cel (h.ft. F/Btu)\n",
"R = Rf+Rs                       //Total resistance (h.ft. F/Btu)\n",
"ro = exp(R*(2*%pi*L*ks))*rso     //New outside radius of sil-o-cel (ft)\n",
"r= ro-rso                       //Extra thickness (ft)\n",
"//Result:\n",
"printf('The extra thickness is : %.3f ft',r)\n",
"printf('Or, the extra thickness is : %.2f in.',r*12)"
   ]
   }
,
{
		   "cell_type": "markdown",
		   "metadata": {},
		   "source": [
			"## Example 19.2: Example.sce"
		   ]
		  },
  {
"cell_type": "code",
	   "execution_count": null,
	   "metadata": {
	    "collapsed": true
	   },
	   "outputs": [],
"source": [
"//Variable declaration:\n",
"//From example 19.1:\n",
"T1 = 24                         //Outside surface temperature ( C)\n",
"Ri = 0.0191                     //Insulation resistance (K/W)\n",
"Q = 1383                        //Revised heat transfer rate (Btu/h)\n",
"//Calculation:\n",
"T2 = T1-Q*Ri                    //Temperature at outer surface of insulation ( C)\n",
"//Result:\n",
"printf('The temperature at the outer surface of the insulation is : %.1f C .',T2)"
   ]
   }
,
{
		   "cell_type": "markdown",
		   "metadata": {},
		   "source": [
			"## Example 19.3: Example.sce"
		   ]
		  },
  {
"cell_type": "code",
	   "execution_count": null,
	   "metadata": {
	    "collapsed": true
	   },
	   "outputs": [],
"source": [
"//Variable declaration:\n",
"//From example 19.1:\n",
"h = 11                          //Convective heat transfer coefficient (W/m^2.K)\n",
"L = 7.62/10**3                  //Insulation thickness (m)\n",
"k = 0.04                        //Thermal conductivity of wool (W/m.K)\n",
"//Calculation:\n",
"Bi = h*L/k                      //Biot number\n",
"//Result:\n",
"printf('The Biot nmuber is : %.1f ',Bi)"
   ]
   }
,
{
		   "cell_type": "markdown",
		   "metadata": {},
		   "source": [
			"## Example 19.4: Example.sce"
		   ]
		  },
  {
"cell_type": "code",
	   "execution_count": null,
	   "metadata": {
	    "collapsed": true
	   },
	   "outputs": [],
"source": [
"//Variable declaration:\n",
"k = 0.022                       //Thermal conductivity of glass wool (Btu/h.ft. F)\n",
"T1 = 400                        //Inside wall temperature ( F)\n",
"T2 = 25                         //Outside wall temperature ( C)\n",
"L = 3/12                        //Length of insulation cover (ft)\n",
"//Calculation:\n",
"T_2 = T2*(9/5)+32               //Outside wall temperature in fahrenheit scale ( F)\n",
"QbyA = k*(T1-T_2)/L              //Heat flux across the wall (Btu/h.ft^2)\n",
"//Result:\n",
"printf('The heat flux across the wall is : %.1f Btu/h.ft^2 .',QbyA)"
   ]
   }
,
{
		   "cell_type": "markdown",
		   "metadata": {},
		   "source": [
			"## Example 19.5: Example.sce"
		   ]
		  },
  {
"cell_type": "code",
	   "execution_count": null,
	   "metadata": {
	    "collapsed": true
	   },
	   "outputs": [],
"source": [
"//Variable declaration:\n",
"w = 8                           //Width of wall (m)\n",
"H = 3                           //Height of wall (m)\n",
"h = 21                          //Convective heat transfer coefficient between the air and the surface (W/m^2.K)\n",
"T1 = -18                        //Outside surace of wall temperature ( C)\n",
"T3 = 26                         //Surrounding air temperature ( C)\n",
"l1 = 80/100                     //Reduction in cooling load\n",
"k = 0.0433                      //Thermal conductivity of cork board insulation (W/m.K)\n",
"T = 12000                       //Units Btu/h in 1 ton of refrigeration\n",
"//Calculation:\n",
"A = w*H                         //Heat transfer area (m^2) (part 1)\n",
"Q1 = h*A*(T1-T3)                //Rate of heat flow in the absence of insulation (W)\n",
"Q2 = Q1*3.4123/T                //Rate of heat flow in the absence of insulation (ton of refrigeration)\n",
"l2 = 1-l1                       //Reduced cooling load (part 2)\n",
"Q3 = l2*Q1                      //Heat rate with insulation (W)\n",
"Rt = (T1-T3)/Q3                 //Total thermal resistance ( C/W)\n",
"R2 = 1/(h*A)                    //Convection thermal resistance ( C/W)\n",
"R1 = Rt-R2                      //Insulation conduction resistance ( C/W)\n",
"L = R1*k*A                      //Required insulation thickness (m)\n",
"//Result:\n",
"printf('1. The rate of heat flow through the rectangular wall without insulation is : %.2f kW .',Q1/10**3)\n",
"printf('Or, the rate of heat flow through the rectangular wall without insulation in tons of refrigeration is : %.1f ton of refrigeration .',Q2)\n",
"if (Q1<0) then\n",
"    printf('The negative sign indicates heat flow from the surrounding air into the cold room.')\n",
"else\n",
"    printf(' The positive sign indicates heat flow from the surrounding air into the cold room.')\n",
"end    \n",
"printf('2. The required thickness of the insulation board is : %.2f mm .',L*10**3)"
   ]
   }
,
{
		   "cell_type": "markdown",
		   "metadata": {},
		   "source": [
			"## Example 19.6: Example.sce"
		   ]
		  },
  {
"cell_type": "code",
	   "execution_count": null,
	   "metadata": {
	    "collapsed": true
	   },
	   "outputs": [],
"source": [
"//Variable declaration:\n",
"//From example 19.5:\n",
"Q = -4435.2                     //Heat rate with insulation (W)\n",
"R2 = 0.00198                    //Convection thermal resistance ( C/W)\n",
"T3 = 26                         //Surrounding air temperature ( C)\n",
"h = 21                          //Convective heat transfer coefficient between the air and the surface (W/m^2.K)\n",
"k = 0.0433                      //Thermal conductivity of cork board insulation (W/m.K)\n",
"L = 0.00825                     //Required insulation thickness (m)\n",
"//Calculation:\n",
"T2 = T3+Q*R2                    //Interface temperature ( C) (part 1)\n",
"Bi = h*L/k                      //Biot number (part 2)\n",
"//Result:\n",
"printf('1. The interface temperature is : %.2f C .',T2)\n",
"printf('2. The Biot number is : %.0f ',Bi)\n",
"printf('3. Theoretical part.')"
   ]
   }
,
{
		   "cell_type": "markdown",
		   "metadata": {},
		   "source": [
			"## Example 19.7: Example.sce"
		   ]
		  },
  {
"cell_type": "code",
	   "execution_count": null,
	   "metadata": {
	    "collapsed": true
	   },
	   "outputs": [],
"source": [
"//Variable declaration:\n",
"D2 = 0.5/10**3                  //External diameter of needle (m)\n",
"h3 = 12                         //Heat transfer coefficient (W/m^2.K)\n",
"L = 1                           //Insulation thickness (m)\n",
"T1 = 95                         //Reactant temperature ( C)\n",
"T3 = 20                         //Ambient air temperature ( C)\n",
"k1 = 16                         //Thermal conductivity of needle (W/m.K)\n",
"k3 = 0.0242                     //Thermal conductivity of air (W/m.K)\n",
"D3 = 2/10**3                    //Diameter of rubber tube (m)\n",
"//Calculation:\n",
"r2 = D2/2                       //External radius of needle (m)\n",
"r3 = D3/2                       //Radius of rubber tube (m)\n",
"Rt1 = 1/(h3*(2*%pi*r2*L))        //Thermal resistance ( C/W)\n",
"Q1 = (T1-T3)/Rt1                //Rate of heat flow in the absence of insulation (W)\n",
"Bi = h3*D2/k1                   //Biot number \n",
"Nu = h3*D2/k3                   //Nusselt number\n",
"R2 = log(r3/r2)                 //Thermal resistance of needle ( C/W)\n",
"R3 = 1/(h3*(2*%pi*r3*L))         //Thermal resistance of rubber tube ( C/W)\n",
"Rt2 = R2+R3                     //Total thermal resistance ( C/W)\n",
"Q2 = (T1-T3)/Rt2                //Rate of heat loss (W)\n",
"//Result:\n",
"printf('1. The rate of the heat loss from the hypodermic needle with the rubber insulation is : %.2f W .',Q1)\n",
"printf('   The rate of the heat loss from the hypodermic needle without the rubber insulation is : %.2f W .',Q2)\n",
"printf('2. The Biot number is : %f',Bi)\n",
"printf('   The nusselt number is : %.3f ',Nu)"
   ]
   }
,
{
		   "cell_type": "markdown",
		   "metadata": {},
		   "source": [
			"## Example 19.9: Example.sce"
		   ]
		  },
  {
"cell_type": "code",
	   "execution_count": null,
	   "metadata": {
	    "collapsed": true
	   },
	   "outputs": [],
"source": [
"//Variable declaration:\n",
"h = 140                             //Convention heat transfer coefficient (W/m^2.K)\n",
"D1 = 10/10**3                       //Rod diameter (m)\n",
"L = 2.5                             //Rod length (m)\n",
"T1 = 200                            //Surface temperature of rod ( C)\n",
"T2 = 25                             //Fluid temperature ( C)\n",
"k = 1.4                             //Thermal conductivity of bakellite (W/m.K)\n",
"l = 55/10**3                        //Insulation thickness (m)\n",
"//Calculation:\n",
"Q1 = h*%pi*D1*L*(T1-T2)              //Rate of heat transfer for the bare rod (W) (part 1)\n",
"Bi = 2                              //Critical Biot number (part 2)\n",
"D2 = Bi*k/h                         //Critical diameter associated with the bakelite coating (m)\n",
"r2 = D2/2                           //Critical radius associated with the bakelite coating (m)\n",
"r1 = D1/2                           //Rod radius (m)\n",
"R1 = log(r2/r1)/(2*%pi*k*L)          //Insulation conduction resistance ( C/W)\n",
"R2 = 1/(h*(2*%pi*r2*L))              //Convection thermal resistance ( C/W)\n",
"Rt1 = R1+R2                         //Total thermal resistance ( C/W)\n",
"Qc = (T1-T2)/Rt1                    //Heat transfer rate at the critical radius (W)\n",
"r3 = r1+l                           //New radius associated with the bakelite coating after insulation (m) (part 3)\n",
"R3 = log(r3/r1)/(2*%pi*k*L)          //Insulation conduction bakelite resistance ( C/W)\n",
"R4 = 1/(h*(2*%pi*r3*L))              //Convection bakelite thermal resistance ( C/W)\n",
"Rt2 = R3+R4                         //Total bakelite thermal resistance ( C/W)\n",
"Q2 = (T1-T2)/Rt2                    //Heat transfer rate at the bakelite critical radius (W)\n",
"Re = ((Q1-Q2)/Q1)*100               //Percent reduction in heat transfer rate relative to the case of a bare rod (%)\n",
"//Result:\n",
"printf('1. The rate of heat transfer for the bare rod is : %0.f W .',Q1)\n",
"printf('2. The critical radius associated with the bakelite coating is : %.0f mm.',r2*10**3)\n",
"printf(' & the heat transfer rate at the critical radius is : %.0f W .',Qc)\n",
"printf('3. The fractional reduction in heat transfer rate relative to the case of a bare rod is : %.1f ',Re)"
   ]
   }
],
"metadata": {
		  "kernelspec": {
		   "display_name": "Scilab",
		   "language": "scilab",
		   "name": "scilab"
		  },
		  "language_info": {
		   "file_extension": ".sce",
		   "help_links": [
			{
			 "text": "MetaKernel Magics",
			 "url": "https://github.com/calysto/metakernel/blob/master/metakernel/magics/README.md"
			}
		   ],
		   "mimetype": "text/x-octave",
		   "name": "scilab",
		   "version": "0.7.1"
		  }
		 },
		 "nbformat": 4,
		 "nbformat_minor": 0
}
