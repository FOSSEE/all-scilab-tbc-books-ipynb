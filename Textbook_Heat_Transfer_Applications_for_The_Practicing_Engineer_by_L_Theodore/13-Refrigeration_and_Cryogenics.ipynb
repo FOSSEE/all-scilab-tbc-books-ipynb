{
"cells": [
 {
		   "cell_type": "markdown",
	   "metadata": {},
	   "source": [
       "# Chapter 13: Refrigeration and Cryogenics"
	   ]
	},
{
		   "cell_type": "markdown",
		   "metadata": {},
		   "source": [
			"## Example 13.10: Example.sce"
		   ]
		  },
  {
"cell_type": "code",
	   "execution_count": null,
	   "metadata": {
	    "collapsed": true
	   },
	   "outputs": [],
"source": [
"//Variable declaration:\n",
"//From example 13.9:\n",
"TS = -10.0+273.0                    //Fluid’s saturation temperature expressed in Kelvin (K)\n",
"QC = 160.0                          //Heat absorbed by the evaporator (kJ/kg)\n",
"//Calcuation:\n",
"DS = QC/TS                          //Fluid’s change in entropy(kJ/kg.K)\n",
"//Result:\n",
"printf('The fluids change in entropy across the evaporator is : %.2f kJ/kg.K.',DS)"
   ]
   }
,
{
		   "cell_type": "markdown",
		   "metadata": {},
		   "source": [
			"## Example 13.11: Example.sce"
		   ]
		  },
  {
"cell_type": "code",
	   "execution_count": null,
	   "metadata": {
	    "collapsed": true
	   },
	   "outputs": [],
"source": [
"//Variable declaration:\n",
"//From figure 13.2:\n",
"h1 = 390.0                      //Fluid enthalpy on entering the compressor (kJ/kg)\n",
"h2 = 430.0                      //Fluid enthalpy on leaving the compressor (kJ/kg)\n",
"h3 = 230.0                      //Fluid enthalpy on leaving the condenser (kJ/kg)\n",
"//Calculation:\n",
"QH = h2 - h3                    //Heat rejected from the condenser (kJ/kg)\n",
"W_in = h2 - h1                  //Change in enthalpy across the compressor (kJ/kg)\n",
"QC = QH - W_in                  //Heat absorbed by the evaporator (kJ/kg)\n",
"//Result:\n",
"printf('The heat absorbed by the evaporator of the refrigerator is : %.0f kJ/kg.',QC)"
   ]
   }
,
{
		   "cell_type": "markdown",
		   "metadata": {},
		   "source": [
			"## Example 13.12: Example.sce"
		   ]
		  },
  {
"cell_type": "code",
	   "execution_count": null,
	   "metadata": {
	    "collapsed": true
	   },
	   "outputs": [],
"source": [
"//Variable declaration:\n",
"//From example 13.11:\n",
"W_in = 40.0                  //Change in enthalpy across the compressor (kJ/kg)\n",
"QC = 160.0                   //Heat absorbed by the evaporator (kJ/kg)\n",
"//Calculation:\n",
"COP = QC/W_in               //Refrigerator’s C.O.P.\n",
"//Result:\n",
"printf('the refrigerators C.O.P. is : %.0f .',COP)"
   ]
   }
,
{
		   "cell_type": "markdown",
		   "metadata": {},
		   "source": [
			"## Example 13.13: Example.sce"
		   ]
		  },
  {
"cell_type": "code",
	   "execution_count": null,
	   "metadata": {
	    "collapsed": true
	   },
	   "outputs": [],
"source": [
"//Variable declaration:\n",
"h1 = 548.0                          //Steam enthalpy at the entry and exit to the boiler (kJ/kg)\n",
"h2 = 3989.0                         //Steam enthalpy at the entry and exit to the turbine (kJ/kg)\n",
"h3 = 2491.0                         //Steam enthalpy at the entry and exit to the pump (kJ/kg)\n",
"QH = 2043.0                         //Heat rejected by the condenser (kJ/kg)\n",
"//Calculation:\n",
"h4 = h3 - QH                        //Steam enthalpy at the entry and exit to the condenser (kJ/kg)\n",
"Qb = h2 - h1                        //Enthalpy change across the boiler (kJ/kg)\n",
"//Result:\n",
"printf('The enthalpy change across the boiler is : %.0f kJ/kg.',Qb)"
   ]
   }
,
{
		   "cell_type": "markdown",
		   "metadata": {},
		   "source": [
			"## Example 13.14: Example.sce"
		   ]
		  },
  {
"cell_type": "code",
	   "execution_count": null,
	   "metadata": {
	    "collapsed": true
	   },
	   "outputs": [],
"source": [
"//Variable declaration:\n",
"//From example 13.4:\n",
"h1 = 548.0                          //Steam enthalpy at the entry and exit to the boiler (kJ/kg)\n",
"h2 = 3989.0                         //Steam enthalpy at the entry and exit to the turbine (kJ/kg)\n",
"h3 = 2491.0                         //Steam enthalpy at the entry and exit to the pump (kJ/kg)\n",
"h4 = 448.0                          //Steam enthalpy at the entry and exit to the condenser (kJ/kg)\n",
"Qb = 3441.0                         //Enthalpy change across the boiler (kJ/kg)\n",
"//Calculation:\n",
"Wt = h2 - h3                        //Work produced by the turbine (kJ/kg)\n",
"Wp = h1 - h4                        //Work used by the pump (kJ/kg)\n",
"W_net = Wt - Wp                     //Net work by subtracting the pump work from the turbine work (kJ/kg)\n",
"n_th = W_net/Qb                     //Thermal efficiency\n",
"//Result:\n",
"printf('The thermal efficiency is : %.1f %%.',n_th*100)"
   ]
   }
,
{
		   "cell_type": "markdown",
		   "metadata": {},
		   "source": [
			"## Example 13.15: Example.sce"
		   ]
		  },
  {
"cell_type": "code",
	   "execution_count": null,
	   "metadata": {
	    "collapsed": true
	   },
	   "outputs": [],
"source": [
"//Variable declaration:\n",
"//From table 13.4:\n",
"x3 = 0.9575                         //Mass fraction vapour at point 3\n",
"h3 = 2491.0                         //Steam enthalpy at the entry and exit to the pump (kJ/kg)\n",
"s3 = 7.7630                         //Entropy at the entry and exit to the pump (kJ/kg.K)\n",
"s4 = 1.4410                         //Entropy at the entry and exit to the condenser (kJ/kg.K)\n",
"//From example13.14:\n",
"h4 = 448.0                          //Steam enthalpy at the entry and exit to the condenser (kJ/kg)\n",
"//Calculation:\n",
"Q_out = h3 - h4                     //Heat rejected (kJ/kg)\n",
"DS = s3 - s4                        //Process change in entropy (kJ/kg)\n",
"T3 = Q_out/DS                       //Temperature at point 3 (K)\n",
"//Result:\n",
"printf('The temperature at point 3 is : %.0f  K.',T3)\n",
"printf('Or, the temperature at point 3 is : %.0f °C.',T3-273)"
   ]
   }
,
{
		   "cell_type": "markdown",
		   "metadata": {},
		   "source": [
			"## Example 13.1: Example.sce"
		   ]
		  },
  {
"cell_type": "code",
	   "execution_count": null,
	   "metadata": {
	    "collapsed": true
	   },
	   "outputs": [],
"source": [
"//Variable declaration:\n",
"LR = 7.5/12.0                           //Thickness of refractory (ft)\n",
"LI = 3.0/12.0                           //Thickness of insulation (ft)\n",
"LS = 0.25/12.0                          //Thickness of steel (ft)\n",
"kR = 0.75                               //Thermal conductivity of refractory\n",
"kI = 0.08                               //Thermal conductivity of insulation\n",
"kS = 26.0                               //Thermal conductivity of steel\n",
"TR = 2000.0                             //Average surface temperature of the inner face of the refractory (°F)\n",
"TS = 220.0                              //Average surface temperature of the outer face of the steel (°F)\n",
"//Calculation:\n",
"DT = TR-TS                              //Temperature difference (°F)\n",
"Q = DT/(LR/kR+LI/kI+LS/kS)              //Heat loss (Btu/h.ft^2)(here representing Qdot/A)\n",
"//Result:\n",
"printf('The heat loss is : %.0f Btu/h.ft^2 .',Q)"
   ]
   }
,
{
		   "cell_type": "markdown",
		   "metadata": {},
		   "source": [
			"## Example 13.2: Example.sce"
		   ]
		  },
  {
"cell_type": "code",
	   "execution_count": null,
	   "metadata": {
	    "collapsed": true
	   },
	   "outputs": [],
"source": [
"//Variable declaration:\n",
"LR = 7.5/12.0                           //Thickness of refractory (ft)\n",
"kR = 0.75                               //Thermal conductivity of refractory\n",
"TR = 2000.0                             //Average surface temperature of the inner face of the refractory (°F)\n",
"Q = 450.0                               //Heat loss (Btu/h.ft^2)\n",
"//Calculation:\n",
"TI = TR - Q*(LR/kR)                     //Temperature of the boundary where the refractory meets the insulation (°F)\n",
"//Result:\n",
"printf('The temperature of the boundary where the refractory meets the insulation is : %.0f °F .',TI)"
   ]
   }
,
{
		   "cell_type": "markdown",
		   "metadata": {},
		   "source": [
			"## Example 13.3: Example.sce"
		   ]
		  },
  {
"cell_type": "code",
	   "execution_count": null,
	   "metadata": {
	    "collapsed": true
	   },
	   "outputs": [],
"source": [
"//Variable declaration:\n",
"QbyA = 70000.0                    //Total heat loss (Btu/h)\n",
"Q = 450.0                       //Heat loss (Btu/h.ft^2)\n",
"//Calculation:\n",
"A = QbyA/Q                        //Area available for heat transfer (ft^2)\n",
"//Result:\n",
"printf('The area available for heat transfer is : %.1f ft^2 .',A)"
   ]
   }
,
{
		   "cell_type": "markdown",
		   "metadata": {},
		   "source": [
			"## Example 13.9: Example.sce"
		   ]
		  },
  {
"cell_type": "code",
	   "execution_count": null,
	   "metadata": {
	    "collapsed": true
	   },
	   "outputs": [],
"source": [
"//Variable declaration:\n",
"h_out = 390.0                   //Enthalpy of the fluid that exits from the evaporator (kJ/kg)\n",
"h_in = 230.0                    //Enthalpy of the fluid that enters the unit (kJ/kg)\n",
"//Calculation:\n",
"QC = h_out - h_in               //Heat absorbed by the evaporator (kJ/kg)\n",
"//Result:\n",
"printf('The heat absorbed by the evaporator is : %.0f kJ/kg.',QC)"
   ]
   }
],
"metadata": {
		  "kernelspec": {
		   "display_name": "Scilab",
		   "language": "scilab",
		   "name": "scilab"
		  },
		  "language_info": {
		   "file_extension": ".sce",
		   "help_links": [
			{
			 "text": "MetaKernel Magics",
			 "url": "https://github.com/calysto/metakernel/blob/master/metakernel/magics/README.md"
			}
		   ],
		   "mimetype": "text/x-octave",
		   "name": "scilab",
		   "version": "0.7.1"
		  }
		 },
		 "nbformat": 4,
		 "nbformat_minor": 0
}
