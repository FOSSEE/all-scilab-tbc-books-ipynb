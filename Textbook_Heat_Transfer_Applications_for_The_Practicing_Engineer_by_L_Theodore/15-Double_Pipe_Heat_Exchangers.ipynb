{
"cells": [
 {
		   "cell_type": "markdown",
	   "metadata": {},
	   "source": [
       "# Chapter 15: Double Pipe Heat Exchangers"
	   ]
	},
{
		   "cell_type": "markdown",
		   "metadata": {},
		   "source": [
			"## Example 15.10: Example.sce"
		   ]
		  },
  {
"cell_type": "code",
	   "execution_count": null,
	   "metadata": {
	    "collapsed": true
	   },
	   "outputs": [],
"source": [
"//Variable declaration:\n",
"MC = 2000.0     \n",
"mc = 1000.0\n",
"U = 2000.0\n",
"A = 10.0\n",
"T1 = 300.0\n",
"t1 = 60.0\n",
"e = %e\n",
"//Calculation:\n",
"B = 1.0/mc \n",
"b = 1.0/MC\n",
"x = B/b\n",
"y = U*(B-b)\n",
"T2 = ((x-y)*T1 + x*(e-y)*t1)/(2*e-1)\n",
"t2 = t1+(T1-T2)/x\n",
"//Result:\n",
"printf('T2 = : %.0f ',T2)\n",
"printf('t2 = : %.0f ',t2)"
   ]
   }
,
{
		   "cell_type": "markdown",
		   "metadata": {},
		   "source": [
			"## Example 15.11: Example.sce"
		   ]
		  },
  {
"cell_type": "code",
	   "execution_count": null,
	   "metadata": {
	    "collapsed": true
	   },
	   "outputs": [],
"source": [
"//Variable declaration:\n",
"h1 = 1200.0                         //Hot film coefficient (Btu/h.ft^2..)\n",
"h2 = 1175.0                         //Cold film coefficient (Btu/h.ft^2..)\n",
"L = 200.0                           //Length of pipe (ft)\n",
"MC = 30000.0\n",
"mc = 22300.0\n",
"T1 = 300.0                          //Inlet temperature of hot fluid in pipe (.)\n",
"t1 = 60.0                           //Inlet temperature of cold fluid in pipe (.)\n",
"syms T2                            //Outlet temperature of hot fluid .\n",
"syms t2                            //Outlet temperature of cold fluid .\n",
"//From table 6.2:\n",
"ID = 2.067                          //Inside diameter of pipe (in)\n",
"OD = 2.375                          //Outside diameter of pipe (in)\n",
"Dx = 0.154                          //Thickness of pipe (in)\n",
"Ai = 0.541                          //Inside sectional area of pipe (ft^2/ft)\n",
"k = 25.0                            //Thermal conductivity of pipe (Btu/h)\n",
"//Calculation:\n",
"Ui = 1.0/((1.0/h1) +(Dx/(k*12.0))+(1.0/(h2*(OD/ID))))    //Overall heat transfer coefficient (Btu/h.ft^2..)\n",
"Ai1 = Ai*L                          //Inside area of pipe (ft^3/ft)\n",
"QH = MC*(T1-T2)                     //Heat transfer rate of hot fluid (Btu/h)\n",
"QC = mc*(t2-t1)                     //Heat transfer rate of cold fluid (Btu/h)\n",
"t2ht = 195                          //t2 by hit and trial\n",
"[x] = fsolve(T2,QC-QH)\n",
"T2 = x(1)\n",
"DTlm = (T1-t1-T2+t2)/log((T1-t1)/(T2-t2))  //Log mean temperature difference (.)\n",
"Q = Ui*Ai1*subst(t2ht,t2,DTlm)       //Total heat transfer rate (Btu/h)\n",
"//Result:\n",
"disp('T2 :')\n",
"disp(subst(t2ht,t2,T2))\n",
"disp('t2 :')\n",
"disp(subst(t2ht,t2,t2))\n",
"disp('Qdot :')\n",
"disp(Q/10**6) \n",
"disp('x 10**6 Btu/h')"
   ]
   }
,
{
		   "cell_type": "markdown",
		   "metadata": {},
		   "source": [
			"## Example 15.12: Example.sce"
		   ]
		  },
  {
"cell_type": "code",
	   "execution_count": null,
	   "metadata": {
	    "collapsed": true
	   },
	   "outputs": [],
"source": [
"//Variable declaration:\n",
"B = 3.33*10**-5\n",
"b = 4.48*10**-5\n",
"//From example 15.11:\n",
"A = 108.2                           //Inside area of pipe (ft^3/ft)\n",
"U = 482                             //Overall heat transfer coefficient (Btu/h.ft^2..)\n",
"MC = 30000.0\n",
"mc = 23000.0\n",
"T1 = 300.0                          //Inlet temperature of hot fluid in pipe (.)\n",
"t1 = 60.0                           //Inlet temperature of cold fluid in pipe (.)\n",
"e = %e\n",
"//Calculation:\n",
"//From equation 15.28:\n",
"T2 = ((B/b)*(e**(U*A*(B-b))-1)*t1+T1*(B/b-1))/((B/b)*e**(U*A*(B-b))-1) //Outlet temperature of hot fluid (.)\n",
"//From equation 15.32:\n",
"t2 = ((b/B)*(e**(U*A*(b-B))-1)*T1+t1*(b/B-1))/((b/B)*e**(U*A*(b-B))-1) //Outlet temperature of cold fluid (.)\n",
"DT = ((T2-t1)-(T1-t2))/(log((T2-t1)/(T1-t2))) //Log mean difference temperature (.)\n",
"Q1 = U*A*DT                         //Heat transfer rate of hot fluid (Btu/h)\n",
"Q2 = MC*(T1-T2)                     //Heat transfer rate of cold fluid (Btu/h)\n",
"Q2 = round(Q2 * 10**-3)/10**-3\n",
"//Result:\n",
"printf('The heat load is : %f Btu/h.',Q2)"
   ]
   }
,
{
		   "cell_type": "markdown",
		   "metadata": {},
		   "source": [
			"## Example 15.14: Example.sce"
		   ]
		  },
  {
"cell_type": "code",
	   "execution_count": null,
	   "metadata": {
	    "collapsed": true
	   },
	   "outputs": [],
"source": [
"//Variable declaration:\n",
"Ts = 100.0                      //Saturation temperature (u00b0C)\n",
"t1 = 25.0                       //Initial temperature of water (u00b0C)\n",
"t2 = 73.0                       //Final temperature of water (u00b0C)\n",
"m = 228.0/3600.0                //Mass flow rate of water (kg/s)\n",
"cp = 4174.0                     //Heat capacity of water (J/kg.K)\n",
"m_s = 55.0/3600.0               //Mass flow rate of steam (kg/s)\n",
"h_vap = 2.26*10**26             //Latent heat of condensation (J/kg)\n",
"k = 54.0                        //Thermal conductivity for 0.5% carbon steel (W/m.K)\n",
"rii = 0.013                     //Inner radius of inner %pipe of the double %pipe heat exchanger (m)\n",
"roi = 0.019                     //Outer radius of inner %pipe of the double %pipe heat exchanger (m)\n",
"Rf = 0.0002                     //Fouling factor (m^2.K/W)\n",
"Uc = 0.00045                    //Clean overall heat transfer coefficient (W/m^2.K)\n",
"//Calculation:\n",
"DT1 = Ts-t1                     //Temperature driving force at end 1 (K)\n",
"DT2 = Ts-t2                     //Temperature driving force at end 2 (K)\n",
"DTlm = (DT1-DT2)/(log(DT1/DT2))   //Log mean difference temperature (u00b0C)\n",
"Cw =m*cp                        //Capacitance rate of water (W/K)\n",
"Q = Cw*(t2-t1)                  //Heat transfer rate (W)\n",
"Qmax1 = Cw*(Ts-t1)              //Maximum heat term from the water stream (W)\n",
"Qmax2 = m_s*h_vap               //Maximum heat term from the steam (W)\n",
"E = Q/Qmax1                     //Effectiveness\n",
"Lmin = (Q*(log(roi/rii)))/(2*%pi*k*(Ts-t1))    //Minimum required length of heat exchanger (m)\n",
"Ud = 1.0/(1.0/Uc+Rf)            //Dirty overall heat transfer coefficient (W/m^2.K)\n",
"ud = round(1/Ud * 10**-1)/10**-1\n",
"//Result:\n",
"printf('1. The temperature profile of the water and steam along the length of the exchanger is : %.0f C .',DTlm)\n",
"printf('2. Effectiveness of energy from steam to heat the water is : %.3f .',E)\n",
"printf('3. The minimum length of the heat exchanger is : %.3f m .',Lmin)\n",
"printf('4. The dirty overall heat transfer coefficient : %.5f W/m^2.K',Ud)\n",
"printf('5. U_dirty: %f  W/m^2.K',ud)"
   ]
   }
,
{
		   "cell_type": "markdown",
		   "metadata": {},
		   "source": [
			"## Example 15.15: Example.sce"
		   ]
		  },
  {
"cell_type": "code",
	   "execution_count": null,
	   "metadata": {
	    "collapsed": true
	   },
	   "outputs": [],
"source": [
"//Variable declaration:\n",
"Q = 12700.0                 //Heat transfer rate (W)\n",
"Ud = 2220.0                 //Dirty overall heat transfer coefficient (W/m^2.K)\n",
"DTlm = 47.0                 //Log mean difference temperature (u00b0C)\n",
"rii = 0.013                 //Inner radius of inner %pipe of the double %pipe heat exchanger (m)\n",
"//Calculation:\n",
"A = Q/(Ud*DTlm)             //Heat transfer area (m^2)\n",
"L = A/(2*%pi*rii)            //Tube length (m)\n",
"//Result:\n",
"printf('The heat transfer area is : %.4f m^2.',A)\n",
"printf('The length of the heat exchanger is : %.2f m.',L)"
   ]
   }
,
{
		   "cell_type": "markdown",
		   "metadata": {},
		   "source": [
			"## Example 15.16: Example.sce"
		   ]
		  },
  {
"cell_type": "code",
	   "execution_count": null,
	   "metadata": {
	    "collapsed": true
	   },
	   "outputs": [],
"source": [
"//Variable declaration:\n",
"Ud = 2220.0                 //Dirty overall heat transfer coefficient (W/m^2.K)\n",
"A = 0.1217                  //Heat transfer area (m^2)\n",
"Cw = 264.0                  //Capacitance rate of water (W/K)\n",
"//Calculation:\n",
"NTU = (Ud*A)/Cw             //Number of transfer units of the exchanger\n",
"//Result:\n",
"printf('The number of transfer units (NTU) of the exchanger is : %.2f .',NTU)"
   ]
   }
,
{
		   "cell_type": "markdown",
		   "metadata": {},
		   "source": [
			"## Example 15.18: Example.sce"
		   ]
		  },
  {
"cell_type": "code",
	   "execution_count": null,
	   "metadata": {
	    "collapsed": true
	   },
	   "outputs": [],
"source": [
"//Variable declaration:\n",
"Ao = 1.85                           //Area of heat exchanger (ft^2)\n",
"//Calculation:\n",
"//From figure 15.6:\n",
"y = 0.560*10**-3                    //Intercept 1/UoAo (..h/Btu)\n",
"ho = 1.0/(Ao*y)                     //Thermal conductivity for heat exchanger (Btu/h.ft^2..)\n",
"//Result:\n",
"printf('Thermal conductivity for the heat exchanger is : %.0f Btu/h.ft^2.. .',ho)"
   ]
   }
,
{
		   "cell_type": "markdown",
		   "metadata": {},
		   "source": [
			"## Example 15.19: Example.sce"
		   ]
		  },
  {
"cell_type": "code",
	   "execution_count": null,
	   "metadata": {
	    "collapsed": true
	   },
	   "outputs": [],
"source": [
"//Variable declaration:\n",
"//From figure 15.7:\n",
"a = 0.00126\n",
"b = 0.0276\n",
"//Calculation:\n",
"ho = 1.0/a                          //The value of ho (Btu/h.ft^2..)\n",
"//Result:\n",
"printf('Thermal conductivity is : %.0f Btu/h.ft^2.. .',ho)"
   ]
   }
,
{
		   "cell_type": "markdown",
		   "metadata": {},
		   "source": [
			"## Example 15.20: Example.sce"
		   ]
		  },
  {
"cell_type": "code",
	   "execution_count": null,
	   "metadata": {
	    "collapsed": true
	   },
	   "outputs": [],
"source": [
"//Variable declaration:\n",
"Di = 0.902/12.0                     //Inside diameter of tube (ft)\n",
"Do = 1.0/12.0                       //Outside diameter of tube (ft)\n",
"k = 60.0                            //Thermal conductivity of tube (Btu/h.ft^2..)                         \n",
"//Calculation:\n",
"//From example 15.19:\n",
"a = 0.00126\n",
"Dr = (Do - Di)/2.0                  //Radial thickness of tube wall  (ft)\n",
"Rw = Dr/k                           //Resistance of wall (Btu/h..)\n",
"ho = 1.0/(a-Rw)                     //The revised ho (Btu/h.ft^2..)\n",
"//Result:\n",
"printf('The revised ho is : %.0f Btu/h.ft^2.. .',ho)"
   ]
   }
,
{
		   "cell_type": "markdown",
		   "metadata": {},
		   "source": [
			"## Example 15.21: Example.sce"
		   ]
		  },
  {
"cell_type": "code",
	   "execution_count": null,
	   "metadata": {
	    "collapsed": true
	   },
	   "outputs": [],
"source": [
"//Variable declaration:\n",
"a1 = 0.00044                //Term 'a' for U_clean\n",
"a2 = 0.00089                //Term 'a' for U_dirty\n",
"//Calculation:\n",
"Rs = a2 - a1                //Resistance associated with the scale\n",
"hs = 1.0/Rs                 //Scale film coefficient (Btu/h.ft^2..)\n",
"//Result:\n",
"printf('The scale film coefficient neglecting the wall resistance is: %.0f Btu/h.ft^2.. .',hs)"
   ]
   }
,
{
		   "cell_type": "markdown",
		   "metadata": {},
		   "source": [
			"## Example 15.2: Example.sce"
		   ]
		  },
  {
"cell_type": "code",
	   "execution_count": null,
	   "metadata": {
	    "collapsed": true
	   },
	   "outputs": [],
"source": [
"//Variable declaration:\n",
"Q = 12000.0                     //Heat transfer rate (Btu/h)\n",
"U = 48.0                        //Overall heat coefficient (Btu/ft^2.h..)\n",
"DTlm = 50.0                     //Log mean temperature difference (.)\n",
"//Calculation:\n",
"A = Q/(U*DTlm)                  //Area of exchanger (ft^2)\n",
"//Result:\n",
"printf('The area of the exchanger is : %.0f ft^2 .',A)"
   ]
   }
,
{
		   "cell_type": "markdown",
		   "metadata": {},
		   "source": [
			"## Example 15.3: Example.sce"
		   ]
		  },
  {
"cell_type": "code",
	   "execution_count": null,
	   "metadata": {
	    "collapsed": true
	   },
	   "outputs": [],
"source": [
"//Variable declaration:\n",
"Q = 56760                           //Heat transfer rate (Btu/h)\n",
"U = 35.35                           //Overall heat coefficient (Btu/ft.h..)\n",
"A = 32.1                            //Area of exachanger (ft^2)\n",
"t1 = 63.0                           //Outlet cold water temperature (.)\n",
"T1 = 164                            //Outlet hot water temperature (.)\n",
"T2 = 99                             //Inlet hot water temperature (.)\n",
"syms t2                           //Inlet cold water temperature (.)\n",
"//Calculation:\n",
"DTlm = Q/(U*A)                      //Log mean temperature difference (.)\n",
"dT1 = T1-t1                         //Temperature approach at pipe outlet (.)\n",
"dT2 = T2-t2                         //Temperature approach at pipe inlet (.)\n",
"Eq = (dT2-dT1)/log(dT2/dT1)-DTlm\n",
"R = eval(subst(0,t2,Eq))                    //Inlet cold water temperature (.)\n",
"//Result:\n",
"disp('The inlet cold water temperature is : ')\n",
"disp(round(R))\n",
"// There is some mistake in calculation in book. Please calculate manually."
   ]
   }
,
{
		   "cell_type": "markdown",
		   "metadata": {},
		   "source": [
			"## Example 15.4: Example.sce"
		   ]
		  },
  {
"cell_type": "code",
	   "execution_count": null,
	   "metadata": {
	    "collapsed": true
	   },
	   "outputs": [],
"source": [
"//Variable declaration:\n",
"m = 14.6                         //Flow rate of water inside the tube (lb/min)\n",
"Cp = 1                           //Heat capacity of water (Btu/lb..)\n",
"t2 = 79                          //Initial temperature of water (.)\n",
"t1 = 63                          //Final temperature of water (.)\n",
"//From example 15.3:\n",
"Q1 = 56760                       //Old heat transfer rate (Btu/h)\n",
"//Calculation:\n",
"Q2 = m*Cp*(t2-t1)                //New heat transfer rate (Btu/min)\n",
"//Result:\n",
"printf('The new heat transfer rate is : %.0f Btu/min.',Q2)\n",
"printf('Or, the new heat transfer rate is : %.0f Btu/h.',Q2*60)\n",
"if (Q1==Q2) then\n",
"    printf('This result agree with the Qu02d9 provided in the problem statement. Shakespeare is wrong, nothing is rotten there.')\n",
"else \n",
"    printf('This result does not agree with the Qu02d9 provided in the problem statement. Shakespeare is right, something is indeed rotten.')\n",
"end"
   ]
   }
,
{
		   "cell_type": "markdown",
		   "metadata": {},
		   "source": [
			"## Example 15.5: Example.sce"
		   ]
		  },
  {
"cell_type": "code",
	   "execution_count": null,
	   "metadata": {
	    "collapsed": true
	   },
	   "outputs": [],
"source": [
"//Variable declaration:\n",
"T1 = 210.0                          //Initial temperature of oil (.)\n",
"T2 = 170.0                          //Final temperature of oil (.)\n",
"T3 = 60.0                           //Surface temperature of oil (.)\n",
"m = 8000.0                          //Flow rate of oil inside tube (lb/h)\n",
"cp = 0.55                           //Heat capacity of oil (Btu/lb..)\n",
"U = 63.0                            //Overall heat teansfer coefficient (Btu.h.ft^2..)\n",
"//Calculation:\n",
"DT1 = T1-T3                         //Temperature difference 1 (.)\n",
"DT2 = T2-T3                         //Temperature difference 2 (.)\n",
"DTlm = (DT1-DT2)/log(DT1/DT2)       //Log mean temerature difference (.)\n",
"Q = m*cp*(T1-T2)                    //Heat transferred (Btu/h)\n",
"A = Q/(U*DTlm)                      //Heat transfer area (ft^2)\n",
"//Result:\n",
"printf('The required heat transfer area is : %.2f ft^2 .',A)"
   ]
   }
,
{
		   "cell_type": "markdown",
		   "metadata": {},
		   "source": [
			"## Example 15.6: Example.sce"
		   ]
		  },
  {
"cell_type": "code",
	   "execution_count": null,
	   "metadata": {
	    "collapsed": true
	   },
	   "outputs": [],
"source": [
"//Variable declaration:\n",
"T1 = 140.0                          //Initial temperature of hot water (.)\n",
"T2 = 110.0                          //Final temperature of hot water (.)\n",
"T3 = 60.0                           //Initial temperature of cold water (.)\n",
"T4 = 90.0                           //Initial temperature of cold water (.)\n",
"DTlm2 = 50.0                        //Log mean temerature difference for countercurrent flow, a constant (.) (part 2)\n",
"m = 100.0*60                        //Water flow rate (lb/h)\n",
"cp = 1.0                            ////Heat capacity of water (Btu/lb..)\n",
"U = 750.0                           //Overall heat teansfer coefficient (Btu.h.ft^2..)\n",
"//Calculation:\n",
"DT1 = T1-T3                         //Temperature difference 1 (.) (part 1)\n",
"DT2 = T2-T4                         //Temperature difference 2 (.)\n",
"DTlm1 = (DT1-DT2)/log(DT1/DT2)      //Log mean temerature difference (.)\n",
"Q = m*cp*(T1-T2)                    //Heat transferred (Btu/h)\n",
"Ap = Q/(U*DTlm1)                     //Heat transfer area for parallel flow (ft^2)\n",
"Ac = Q/(U*DTlm2)                    //Heat transfer area for counter flow (ft^2)\n",
"//Result:\n",
"printf('1. The double pipe co-current flow is : %.2f ft^2 .',Ap)\n",
"printf('1. The double pipe countercurrent flow is : %.2f ft^2 .',Ac)"
   ]
   }
,
{
		   "cell_type": "markdown",
		   "metadata": {},
		   "source": [
			"## Example 15.8: Example.sce"
		   ]
		  },
  {
"cell_type": "code",
	   "execution_count": null,
	   "metadata": {
	    "collapsed": true
	   },
	   "outputs": [],
"source": [
"//Variable declaration:\n",
"uC = 3.7*10**-4                            	    //Viscosity of benzene (lb/ft.s)\n",
"uH = 2.05*10**-4                          	    //Viscosity of water @200 . (lb/ft.s)\n",
"u2 = 2.16*10**-4 				                 //Viscosity of water @192 . (lb/ft.s)\n",
"pC = 54.8                                       //Density of benzene (lb/ft^3)\n",
"pH = 60.13                                      //Density of water (lb/ft^3)\n",
"cpC = 0.415                                     //Specific heat capacity of benzene (Btu/lb..)\n",
"cpH = 1                                         //Specific heat capacity of water (Btu/lb..)\n",
"sgC = 0.879                                     \n",
"kC = 0.092                                      //Thermal conductivity of benzene (Btu/h.ft..)\n",
"kH = 0.392                                      //Thermal conductivity of water @200 .  (Btu/h.ft..)\n",
"k2 = 0.390					                 //Thermal conductivity of water @192 .  (Btu/h.ft..)\n",
"mC = 2500	 			                     //Flow rate of benzene (lb/s)\n",
"mH = 4000                                       //Flow rate of water (lb/s)\n",
"Re = 13000                                      //Reynolds number\n",
"dTc = 120-60					                 //Difference in temperature heating for benzene\n",
"Tw = 200				                          //Temperatperature of hot water (.)\n",
"//For 2-inch schedule 40 pipe\n",
"Ai = 0.541                                      //Inside area of pipe (ft^2/ft)\n",
"Ao = 0.622                                      //Outside area of pipe (ft^2/ft)\n",
"Di = 2.067                                      //Inside diameter of pipe (inch)\n",
"Do =  2.375                                     //Outside diameter of pipe (inch)\n",
"Si = 0.0233                                     //Inside surface area of pipe (ft^2)\n",
"dXw = 0.128                                     //Width of pipe (ft)\n",
"pi = %pi\n",
"//For 4-inch schedule 40 pipe\n",
"Dio = 4.026                                     //Inside diameter of pipe (inch)\n",
"Doi = Do                                        //Outside diameter of pipe (inch)\n",
"kw = 26                                         \n",
"//Calculations:\n",
"function [a] = St(Re,Pr)				                 //Dittus Boelter equation\n",
"	a = 0.023*Re**-0.2*Pr**-0.667\n",
"endfunction\n",
"    \n",
"//For inside tubes:\n",
"Dicalc = 4*mC/(Re*pi*uC)/3600                   //Inside diameter (ft)\n",
"mHcalc = Re*pi*uH*(Doi+Dio)/4*3600/12           //Mass flow rate of water (lb/h)\n",
"Q = mC*cpC*dTc					             //Heat in water (Btu/h)\n",
"dTH = Q/mH                                      //Temperature difference of water (.)\n",
"THo = Tw - dTH                                  //Outlet temperature of water (.)\n",
"THav = (Tw+THo)/2                               //Average temperature of water (.) \n",
"//For benzene:\n",
"PrC = cpC*uC/kC*3600                            //Prandtl number\n",
"StC = round(St(13000, PrC) * 10**5)/10**5                   //Stanton number\n",
"hi = StC*cpC*mC/Si                              //Heat transfer coefficient (Btu/h.ft^2..)\n",
"//For water:\n",
"ReH = 4*mH/3600/(pi*u2*(Doi+Dio)/12)            //Reynolds number\n",
"PrH = cpH*(u2)/k2*3600                          //Prandtl number\n",
"StH = round(St(ReH, PrH) * 10**5)/10**5            //Stanton number\n",
"Sann = pi/4*(Dio**2-Doi**2)/144                 //Surface area of annulus (ft^2)\n",
"ho = round(StH*cpH*mH/Sann)                     //Heat transfer coefficient (Btu/h.ft^2..)\n",
"//For pipe:\n",
"Dlm = (Do-Di)/log(Do/Di)*12               //Log mean difference in diameter (ft)\n",
"Uo = 1/(Do/Di/hi + dXw*Do/kw/Dlm + 1/ho)        //Overall heat transfer coefficient (Btu/h.ft^2..)\n",
"dTlm = (124.4-80)/log(124.4/80)                 //Log mean temperature difference (.)\n",
"L = Q/(Uo*0.622*dTlm)                           //Length of pipe (ft)\n",
"//Result:\n",
"printf('The required length of pipe: %.1f ft',L)"
   ]
   }
],
"metadata": {
		  "kernelspec": {
		   "display_name": "Scilab",
		   "language": "scilab",
		   "name": "scilab"
		  },
		  "language_info": {
		   "file_extension": ".sce",
		   "help_links": [
			{
			 "text": "MetaKernel Magics",
			 "url": "https://github.com/calysto/metakernel/blob/master/metakernel/magics/README.md"
			}
		   ],
		   "mimetype": "text/x-octave",
		   "name": "scilab",
		   "version": "0.7.1"
		  }
		 },
		 "nbformat": 4,
		 "nbformat_minor": 0
}
