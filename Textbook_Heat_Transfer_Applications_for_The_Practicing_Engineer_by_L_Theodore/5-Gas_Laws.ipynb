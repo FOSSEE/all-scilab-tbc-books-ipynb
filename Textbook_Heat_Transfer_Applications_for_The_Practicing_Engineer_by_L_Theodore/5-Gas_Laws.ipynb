{
"cells": [
 {
		   "cell_type": "markdown",
	   "metadata": {},
	   "source": [
       "# Chapter 5: Gas Laws"
	   ]
	},
{
		   "cell_type": "markdown",
		   "metadata": {},
		   "source": [
			"## Example 5.10: Example.sce"
		   ]
		  },
  {
"cell_type": "code",
	   "execution_count": null,
	   "metadata": {
	    "collapsed": true
	   },
	   "outputs": [],
"source": [
"//Variable declaration:\n",
"qs1 = 5000.0                    //Volumetric flow rate of C6H5Cl at standard conditions (scfm)\n",
"qs2 = 3000.0                    //Volumetric flow rate of air at standard conditions (scfm)\n",
"Ta = 70+460.0                   //Actual absolute temperature in Rankine scale (°R)\n",
"Ts = 60+460.0                   //Standard absolute temperature in Rankine scale (°R)\n",
"V = 387.0                       //Volume occupied by one lbmol of any ideal gas (ft^3)\n",
"M1 = 112.5                      //Molecular weight of C6H5Cl (lb/lbmol)\n",
"M2 = 29.0                       //Molecular weight of air (lb/lbmol)\n",
"T = 60.0                        //Absolute temperature (°F)\n",
"//Calculations:\n",
"qa1 = qs1*(Ta/Ts)               //Volumetric flow rate of C6H5Cl at actual conditions (acfm)\n",
"qa2 = qs2*(Ta/Ts)               //Volumetric flow rate of air at actual conditions (acfm)\n",
"n1 = qa1/V                      //Molar flow rate of C6H5Cl (lbmol/min)\n",
"n2 = qa2/V                      //Molar flow rate of air (lbmol/min)\n",
"m1 = n1*M1*T                    //Mass flow rate of C6H5Cl (lb/h)\n",
"m2 = n2*M2*T                    //Mass flow rate of air (lb/h)\n",
"m_in = m1+m2                    //Total mass flow rate of both streams entering the oxidizer (lb/h)\n",
"m_out = m_in                    //Total mass flow rate of both streams exit the cooler (lb/h)\n",
"//Result:\n",
"printf('The rate of the products exit the cooler is : %.0f lb/h',m_out)"
   ]
   }
,
{
		   "cell_type": "markdown",
		   "metadata": {},
		   "source": [
			"## Example 5.11: Example.sce"
		   ]
		  },
  {
"cell_type": "code",
	   "execution_count": null,
	   "metadata": {
	    "collapsed": true
	   },
	   "outputs": [],
"source": [
"//Variable declaration:\n",
"p = 0.15                        //Partial pressure of SO3 (mm Hg)\n",
"P = 760.0                       //Atmospheric pressure (mm Hg)\n",
"m = 10**6                       //Particles in a million\n",
"//Calculation:\n",
"y = p/P                         //Mole fraction of SO3\n",
"ppm = y*m                       //Parts per million of SO3 (ppm)\n",
"//Result:\n",
"printf('The parts per million of SO3 in the exhaust is : %.0f ppm.',ppm)"
   ]
   }
,
{
		   "cell_type": "markdown",
		   "metadata": {},
		   "source": [
			"## Example 5.1: Example.sce"
		   ]
		  },
  {
"cell_type": "code",
	   "execution_count": null,
	   "metadata": {
	    "collapsed": true
	   },
	   "outputs": [],
"source": [
"//Variable declaration:\n",
"qi = 3500                       //Initial volumetric flow rate of gas (acfm)\n",
"Ti = 100.0                      //Initial temperature (°F)\n",
"Tf = 300.0                      //Final temperature (°F)\n",
"//Calculation:\n",
"Ti_R = Ti+460                   //Initial temperatur in Rankine scale (°R)\n",
"Tf_R = Tf+460                   //Final temperatur in Rankine scale (°R)\n",
"qf = qi*(Tf_R/Ti_R)             //Final volumetric flow rate of gas (acfm)\n",
"//Result:\n",
"printf('The final volumetric flow rate of gas is : %.0f acfm',qf)"
   ]
   }
,
{
		   "cell_type": "markdown",
		   "metadata": {},
		   "source": [
			"## Example 5.2: Example.sce"
		   ]
		  },
  {
"cell_type": "code",
	   "execution_count": null,
	   "metadata": {
	    "collapsed": true
	   },
	   "outputs": [],
"source": [
"//Variable declaration:\n",
"qi = 3500                       //Initial volumetric flow rate of gas (acfm)\n",
"Pi = 1.0                        //Iitial pressure (atm)\n",
"Pf = 3.0                        //Final pressure (atm)\n",
"//Calculation:\n",
"qf = qi*(Pi/Pf)                 //Final volumetric flow rate of gas (acfm)\n",
"//Result:\n",
"printf('The volumetric flow rate of the gas (100°F, 1 atm) is: %.0f acfm',qf)"
   ]
   }
,
{
		   "cell_type": "markdown",
		   "metadata": {},
		   "source": [
			"## Example 5.3: Example.sce"
		   ]
		  },
  {
"cell_type": "code",
	   "execution_count": null,
	   "metadata": {
	    "collapsed": true
	   },
	   "outputs": [],
"source": [
"//Variable declaration:\n",
"qi = 3500                       //Initial volumetric flow rate of the gas (acfm)\n",
"Pi = 1.0                        //Initial pressure (atm)\n",
"Pf = 3.0                        //Final pressure (atm)\n",
"Tf = 300.0+460.0                //Final temperature in Rankine scale (°R)\n",
"Ti = 100.0+460.0                //Initial temperature in Rankine scale (°R)\n",
"//Calculation:\n",
"qf = qi*(Pi/Pf)*(Tf/Ti)         //Final volumetric flow rate of the gas (acfm)\n",
"//Result:\n",
"printf('The volumetric flow rate of the gas at 300°F temperature is : %.0f acfm',qf)"
   ]
   }
,
{
		   "cell_type": "markdown",
		   "metadata": {},
		   "source": [
			"## Example 5.4: Example.sce"
		   ]
		  },
  {
"cell_type": "code",
	   "execution_count": null,
	   "metadata": {
	    "collapsed": true
	   },
	   "outputs": [],
"source": [
"//Variable declaration:\n",
"P = 14.7                    //Absolute pressure of air (psia)\n",
"MW = 29                     //Molecular weight of air (lb/lbmol)\n",
"T = 75+460                  //Temperature in Rankine scale (°R)\n",
"R = 10.73                   //Universal gas constant (ft^3.psi/lbmol.°R)\n",
"//Calculation:\n",
"p = P*MW/R/T                //Density of air (lb/ft^3)\n",
"//Result:\n",
"printf('The density of air at 75°F and 14.7 psia is : %.4f lb/ft^3',p)"
   ]
   }
,
{
		   "cell_type": "markdown",
		   "metadata": {},
		   "source": [
			"## Example 5.5: Example.sce"
		   ]
		  },
  {
"cell_type": "code",
	   "execution_count": null,
	   "metadata": {
	    "collapsed": true
	   },
	   "outputs": [],
"source": [
"//Variable declaration:\n",
"n = 1                           //Molar flow rate of gas (lbmol/h)\n",
"R = 10.73                       //Universal gas constant (ft^3.psi/lbmol.°R)\n",
"T = 60+460                      //Temperature in Rankine scale (°R)\n",
"P = 14.7                        //Absolute pressure of gas (psia)\n",
"//Calculation:\n",
"V = n*R*T/P                     //Volume of gas (ft^3)\n",
"//Result:\n",
"printf('The volume of given ideal gas is : %.1f ft^3',V)"
   ]
   }
,
{
		   "cell_type": "markdown",
		   "metadata": {},
		   "source": [
			"## Example 5.6: Example.sce"
		   ]
		  },
  {
"cell_type": "code",
	   "execution_count": null,
	   "metadata": {
	    "collapsed": true
	   },
	   "outputs": [],
"source": [
"//Variable declaration:\n",
"P = 1.2                         //Abslute pressure of gas (psia)\n",
"MW = 29                         //Molecular weight of gas (g/gmol)\n",
"R = 82.06                       //Universal gas constant (atm.cm^3/gmol.K)\n",
"T = 20+273                      //Temperature in Kelvin (K)\n",
"//Calculation:\n",
"p = P*MW/R/T                    //Dendity of gas (g/cm^3)\n",
"//Result:\n",
"printf('The density of given gas is : %.5f g/cm^3',p)"
   ]
   }
,
{
		   "cell_type": "markdown",
		   "metadata": {},
		   "source": [
			"## Example 5.7: Example.sce"
		   ]
		  },
  {
"cell_type": "code",
	   "execution_count": null,
	   "metadata": {
	    "collapsed": true
	   },
	   "outputs": [],
"source": [
"//Variable declaration:\n",
"R = 10.73                       //Universal gas constant (psia . ft^3/lbmol .°R)\n",
"T = 70+460                      //Temperature in Rankine scale (°R)\n",
"v = 10.58                       //Specific volume (ft^3/lb)\n",
"P = 14.7                        //Absolute pressure (psia)\n",
"//Calculation:\n",
"MW = R*T/v/P                    //Molecular weight of gas (lb/lbmol)\n",
"//Result:\n",
"printf('The molecular weight of the gas is : %.2f lb/lbmol.',MW)\n",
"printf('It appears that the gas is HCl (i.e., hydrogen chloride).')"
   ]
   }
,
{
		   "cell_type": "markdown",
		   "metadata": {},
		   "source": [
			"## Example 5.8: Example.sce"
		   ]
		  },
  {
"cell_type": "code",
	   "execution_count": null,
	   "metadata": {
	    "collapsed": true
	   },
	   "outputs": [],
"source": [
"//Variable declaration:\n",
"qs = 30000                      //Volumetric flow rate at standard conditions (scfm)\n",
"Ta = 1100+460                   //Actual absolute temperature in Rankine scale (°R)\n",
"Ts = 60+460                     //Standard absolute temperature in Rankine scale (°R)\n",
"//Calculation:\n",
"qa = qs*Ta/Ts                   //Volumetric flow rate at actual conditions (acfm)\n",
"//Result:\n",
"printf('The volumetric flow rate in actual cubic feet per minute is : %.0f acfm',qa)"
   ]
   }
,
{
		   "cell_type": "markdown",
		   "metadata": {},
		   "source": [
			"## Example 5.9: Example.sce"
		   ]
		  },
  {
"cell_type": "code",
	   "execution_count": null,
	   "metadata": {
	    "collapsed": true
	   },
	   "outputs": [],
"source": [
"//Variable declaration:\n",
"qs = 1000                       //Volumetric flow rate at standard conditions (scfm)\n",
"Ta = 300+460                    //Actual absolute temperature in Rankine scale (°R)\n",
"Ts = 70+460                     //Standard absolute temperature in Rankine scale (°R)\n",
"A = 2.0                         //Inlet area of stack (ft^2)\n",
"//Calculations:\n",
"qa = qs*Ta/Ts                   //Volumetric flow rate at actual conditions (acfm)\n",
"v = qa/A/60                     //Velocity of gas (ft/s)\n",
"//Result:\n",
"printf('The velocity of the gas through the stack inlet is : %.0f ft/s',v)"
   ]
   }
],
"metadata": {
		  "kernelspec": {
		   "display_name": "Scilab",
		   "language": "scilab",
		   "name": "scilab"
		  },
		  "language_info": {
		   "file_extension": ".sce",
		   "help_links": [
			{
			 "text": "MetaKernel Magics",
			 "url": "https://github.com/calysto/metakernel/blob/master/metakernel/magics/README.md"
			}
		   ],
		   "mimetype": "text/x-octave",
		   "name": "scilab",
		   "version": "0.7.1"
		  }
		 },
		 "nbformat": 4,
		 "nbformat_minor": 0
}
