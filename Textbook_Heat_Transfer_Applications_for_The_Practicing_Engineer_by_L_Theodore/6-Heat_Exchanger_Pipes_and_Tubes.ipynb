{
"cells": [
 {
		   "cell_type": "markdown",
	   "metadata": {},
	   "source": [
       "# Chapter 6: Heat Exchanger Pipes and Tubes"
	   ]
	},
{
		   "cell_type": "markdown",
		   "metadata": {},
		   "source": [
			"## Example 6.11: Example.sce"
		   ]
		  },
  {
"cell_type": "code",
	   "execution_count": null,
	   "metadata": {
	    "collapsed": true
	   },
	   "outputs": [],
"source": [
"//Variable declaration:\n",
"a = 1                           //Length of cross-section (m)\n",
"b = 0.25                        //Width of cross-section (m)\n",
"v = 1*10**-5                    //Kinematic viscosity of air (m^2/s)\n",
"Re = 2300.0                     //Reynolds Number\n",
"cm = 100                        //Cenitmeters in a meter\n",
"//Calculation:\n",
"Dh = 2*a*b/(a+b)                //Hydraulic diameter of duct (m)\n",
"V = Re*v/Dh*cm                  //Maximum air velocity (cm/s)\n",
"//Result:\n",
"printf('The maximum air velocity before the flow becomes turbulent is : %.1f cm/s.',V)"
   ]
   }
,
{
		   "cell_type": "markdown",
		   "metadata": {},
		   "source": [
			"## Example 6.12: Example.sce"
		   ]
		  },
  {
"cell_type": "code",
	   "execution_count": null,
	   "metadata": {
	    "collapsed": true
	   },
	   "outputs": [],
"source": [
"//Variable declaration:\n",
"q = 0.486                       //Flow rate of fluid (ft^3/s)\n",
"D = 2.0/12.0                    //Diameter of tube in feet (ft)\n",
"pi = 3.14                       //Value of pi\n",
"p = 70.0                        //Density of fluid (lb/ft^3)\n",
"u = 0.1806                      //Viscosity of fluid (lb/ft)\n",
"//Calculation:\n",
"V = 4*q/pi/D**2                 //Flow velocity (ft/s)\n",
"Re = D*V*p/u                    //Reynolds Number\n",
"//Result:\n",
"if(Re<2100) then\n",
"    printf('The flow is laminar.')\n",
"elseif(Re>2100) then\n",
"    printf('The flow is turbulant.')\n",
"end"
   ]
   }
,
{
		   "cell_type": "markdown",
		   "metadata": {},
		   "source": [
			"## Example 6.13: Example.sce"
		   ]
		  },
  {
"cell_type": "code",
	   "execution_count": null,
	   "metadata": {
	    "collapsed": true
	   },
	   "outputs": [],
"source": [
"//Variable declaration:\n",
"//From example 6.12, we have:\n",
"D = 2.0/12.0                    //Diameter of pipe in feet (ft)\n",
"Re = 1440.0                     //Reynolds number\n",
"//Calculation:\n",
"Lc = 0.05*D*Re                  //Length of pipe (ft)\n",
"//Result:\n",
"printf('The pipe length to ensure a fully developed flow is: %f ft.',Lc)\n",
"printf('This is an abnormally long calming length for a pipe (or tube) in a heat exchanger.')"
   ]
   }
,
{
		   "cell_type": "markdown",
		   "metadata": {},
		   "source": [
			"## Example 6.14: Example.sce"
		   ]
		  },
  {
"cell_type": "code",
	   "execution_count": null,
	   "metadata": {
	    "collapsed": true
	   },
	   "outputs": [],
"source": [
"//Variable declaration:\n",
"u = 6.72*10**-4                     //Viscosity of water (lb/ft.s)\n",
"p = 62.4                            //Density of water (lb/ft^3)\n",
"//For laminar flow:\n",
"Re = 2100.0                        //Reynolds number\n",
"//From table 6.2, we have:\n",
"D = 2.067/12.0                      //Inside diameter of pipe (ft)\n",
"//Calculation:\n",
"V = Re*u/D/p                        //Average velocity of water flowing (ft/s)\n",
"//Result:\n",
"printf('The average velocity of water flowing is: %.2f ft/s.',V)"
   ]
   }
,
{
		   "cell_type": "markdown",
		   "metadata": {},
		   "source": [
			"## Example 6.1: Example.sce"
		   ]
		  },
  {
"cell_type": "code",
	   "execution_count": null,
	   "metadata": {
	    "collapsed": true
	   },
	   "outputs": [],
"source": [
"//Variable declaration:\n",
"NPS = 2                     //Nominal pipe size (inch)\n",
"SN = 40                     //Schedule number\n",
"//Calculation:\n",
"//From Table 6.2, we obtain that the inside diameter of steel pipe is ID = 2.067 in.\n",
"ID = 2.067\n",
"//Result:\n",
"printf('The inside diameter of steel pipe is : %f in.',ID)"
   ]
   }
,
{
		   "cell_type": "markdown",
		   "metadata": {},
		   "source": [
			"## Example 6.2: Example.sce"
		   ]
		  },
  {
"cell_type": "code",
	   "execution_count": null,
	   "metadata": {
	    "collapsed": true
	   },
	   "outputs": [],
"source": [
"//Variable declaration:\n",
"NPS = 3                     //Nominal pipe size (inch)\n",
"SN = 40                     //Schedule number\n",
"//Calculation:\n",
"//From Table 6.2, we obtain that the inside diameter of steel pipe is ID = 3.068 in, outside diameter OD = 3.5 in, wal thickness WT = 0.216 in, and pipe weight PW = 7.58 lb/ft.\n",
"ID = 3.068\n",
"OD = 3.5\n",
"WT = 0.216\n",
"PW = 7.58\n",
"//Result:\n",
"printf('The inside diameter of steel pipe is : %f in',ID)\n",
"printf('The outside diameter of steel pipe is : %f in',OD)\n",
"printf('The wall thickness of steel pipe is : %f in',WT)\n",
"printf('The weight of steel pipe is : %f  lb/ft.',PW)"
   ]
   }
,
{
		   "cell_type": "markdown",
		   "metadata": {},
		   "source": [
			"## Example 6.3: Example.sce"
		   ]
		  },
  {
"cell_type": "code",
	   "execution_count": null,
	   "metadata": {
	    "collapsed": true
	   },
	   "outputs": [],
"source": [
"//Variable declaration:\n",
"ID = 0.957                  //Inside diameter of pipe (in)\n",
"OD = 1.315                  //Outside diameter of pipe (in)\n",
"WT = 0.179                  //Wall thickness of pipe (in)\n",
"PW = 2.17                   //Weight of pipe (lb/ft)\n",
"//Calculation:\n",
"//From Table 6.2, it indicates that the steel pipe is 1 inch schedule 80.\n",
"NSP = 1\n",
"SN = 80\n",
"//Result:\n",
"printf('The nominal size of the pipe is : %f in.',NSP)\n",
"printf('The schedule number of the pipe is: %f .',SN)"
   ]
   }
,
{
		   "cell_type": "markdown",
		   "metadata": {},
		   "source": [
			"## Example 6.4: Example.sce"
		   ]
		  },
  {
"cell_type": "code",
	   "execution_count": null,
	   "metadata": {
	    "collapsed": true
	   },
	   "outputs": [],
"source": [
"//Variable declaration:\n",
"S = 3/4                         //Tube size (in)\n",
"BWG = 16                        //Birmingham Wire Gauge number (gauge)\n",
"//calculation:\n",
"//From table 6.3, we get:\n",
"ID = 0.620                      //Internal diameter of tube (in)\n",
"WT = 0.065                      //Wall thickness of tube (in)\n",
"OD = ID+2*WT                    //Outside diameter of tube (in)\n",
"EA = 0.1963                     //External area per foot (ft)\n",
"//Result:\n",
"printf('The inside diameter is : %f in',ID)\n",
"printf('The wall thickness is : %f in',WT)\n",
"printf('The outside diamater is : %f in',OD)\n",
"printf('The external area per foot per foot : %f ft',EA)"
   ]
   }
],
"metadata": {
		  "kernelspec": {
		   "display_name": "Scilab",
		   "language": "scilab",
		   "name": "scilab"
		  },
		  "language_info": {
		   "file_extension": ".sce",
		   "help_links": [
			{
			 "text": "MetaKernel Magics",
			 "url": "https://github.com/calysto/metakernel/blob/master/metakernel/magics/README.md"
			}
		   ],
		   "mimetype": "text/x-octave",
		   "name": "scilab",
		   "version": "0.7.1"
		  }
		 },
		 "nbformat": 4,
		 "nbformat_minor": 0
}
