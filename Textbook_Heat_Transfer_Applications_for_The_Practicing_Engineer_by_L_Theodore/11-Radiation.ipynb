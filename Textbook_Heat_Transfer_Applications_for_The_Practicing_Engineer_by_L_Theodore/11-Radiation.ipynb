{
"cells": [
 {
		   "cell_type": "markdown",
	   "metadata": {},
	   "source": [
       "# Chapter 11: Radiation"
	   ]
	},
{
		   "cell_type": "markdown",
		   "metadata": {},
		   "source": [
			"## Example 11.10: Example.sce"
		   ]
		  },
  {
"cell_type": "code",
	   "execution_count": null,
	   "metadata": {
	    "collapsed": true
	   },
	   "outputs": [],
"source": [
"//Variable declaration:\n",
"TH = 140.0+460.0                    //Absolute outside temperature of pipe (ft^2)\n",
"TC = 60.0+460.0                     //Absolute temperature of surrounding atmosphere (ft^2)\n",
"A = 10.0                            //Area of pipe (ft^2)\n",
"E = 0.9                             //Emissivity of pipe\n",
"//Calculation:\n",
"Q = E*A*0.173*((TH/100.0)**4-(TC/100.0)**4) //Heat loss due to radiation (Btu/h)\n",
"Q = round(Q*10**-1)/10**-1\n",
"//Result:\n",
"printf('The heat loss due to radiation is : %f Btu/h.',Q)"
   ]
   }
,
{
		   "cell_type": "markdown",
		   "metadata": {},
		   "source": [
			"## Example 11.11: Example.sce"
		   ]
		  },
  {
"cell_type": "code",
	   "execution_count": null,
	   "metadata": {
	    "collapsed": true
	   },
	   "outputs": [],
"source": [
"//Variable declaration:\n",
"//Froma example 11.10:\n",
"Q = 880.0                   //Heat loss due to radiation (Btu/h)\n",
"A = 10.0                    //Area of pipe (ft^2)\n",
"TH = 140.0                  //Absolute outside temperature of pipe (°F)\n",
"TC = 60.0                   //Absolute temperature of surrounding atmosphere (°F)\n",
"//Calculation:\n",
"hr = Q/(A*(TH-TC))          //Radiation heat transfer coefficient (Btu/h.ft^2.°F)\n",
"//Result:\n",
"printf('The radiation heat transfer coefficient is : %.1f Btu/h.ft^2.°F.',hr)"
   ]
   }
,
{
		   "cell_type": "markdown",
		   "metadata": {},
		   "source": [
			"## Example 11.12: Example.sce"
		   ]
		  },
  {
"cell_type": "code",
	   "execution_count": null,
	   "metadata": {
	    "collapsed": true
	   },
	   "outputs": [],
"source": [
"//Variable declaration:\n",
"D = 0.0833                          //Diameter of tube (ft)\n",
"L = 2.0                             //Length of tube (ft)\n",
"h = 2.8                             //Heat transfer coefficient (Btu/h.ft^2.°F)\n",
"Ta1 = 1500.0+460.0                  //Temperature of hot air in furnace (°R)\n",
"Ta2 = 1350.0+460.0                  //Temperature of hot air in the furnace brick walls (°R)\n",
"Tt = 600.0+460.0                    //Surface temperature of tube (°R)\n",
"E = 0.6                             //Surface emissivity of tube\n",
"s = 0.1713*10**-8                   //Stefan-Boltzmann constant\n",
"pi = %pi\n",
"//Calculation:\n",
"//Case 1:\n",
"A = pi*D*L                          //Area of tube (ft^2)\n",
"Qc = round(h*A*(Ta1-Tt)*10**-1)/10**-1         //Convection heat transfer from air to tube (Btu/h)\n",
"Qr = round(E*s*A*(Ta2**4-Tt**4)*10**-2)/10**-2 //Radiation feat transfer from wall to tube (Btu/h)\n",
"Q = Qr+Qc                           //Total heat transfer (Btu/h)\n",
"//Case 2:\n",
"Qp = Qr/Q*100                       //Radiation percent \n",
"//Case 3:\n",
"hr = Qr/(A*(Ta2-Tt))                //Radiation heat transfer coefficient (Btu/h.ft^2.°F)\n",
"//Case 4:\n",
"T = Ta2-Tt                          //Temperature difference (°F)\n",
"//Result:\n",
"printf('1. The convective heat transferred to the metal tube is : %f Btu/h.',Qc)\n",
"printf('   The radiative heat transferred to the metal tube is : %f Btu/h.',Qr)\n",
"printf('   The total heat transferred to the metal tube is : %f Btu/h .',Q)\n",
"printf('2. The percent of total heat transferred by radiation is : %.1f %%.',Qp)\n",
"printf('3. The radiation heat transfer coefficient is : %.1f Btu/h.ft^2.°F.',hr)\n",
"if (T > 200) then\n",
"    printf('4. The use of the approximation Equation (11.30), hr = 4EsTav^3, is not appropriate.')\n",
"elseif (T < 200) then\n",
"    printf('4. The use of the approximation Equation (11.30), hr = 4EsTav^3, is appropriate.')\n",
"end"
   ]
   }
,
{
		   "cell_type": "markdown",
		   "metadata": {},
		   "source": [
			"## Example 11.13: Example.sce"
		   ]
		  },
  {
"cell_type": "code",
	   "execution_count": null,
	   "metadata": {
	    "collapsed": true
	   },
	   "outputs": [],
"source": [
"//Variable declaration:\n",
"Q = 5.0                         //Radiation heat transfer (W)\n",
"E = 1.0                         //Emissivity of filament\n",
"s = 5.669*10**-8                //Stefan-Boltzmann constant\n",
"T1 = 900.0+273.0                //Light bulb temperature (K)\n",
"T2 = 150.0+273.0                //Glass bulb temperature (K)\n",
"//Calculation:\n",
"A = Q/(E*s*(T1**4-T2**4))       //Surface area of the filament (m^2)\n",
"//Result:\n",
"printf('The surface area of the filament is : %.2f cm^2',A*10**4)"
   ]
   }
,
{
		   "cell_type": "markdown",
		   "metadata": {},
		   "source": [
			"## Example 11.14: Example.sce"
		   ]
		  },
  {
"cell_type": "code",
	   "execution_count": null,
	   "metadata": {
	    "collapsed": true
	   },
	   "outputs": [],
"source": [
"//Variable declaration:\n",
"T1 = 127.0+273.0                    //Surface temperature (K)\n",
"T2 = 20.0+273.0                     //Wall temperature (K)\n",
"T3 = 22.0+273.0                     //Air temperature (K)\n",
"s = 5.669*10**-8                    //Stefan-Boltzmann constant\n",
"e = 0.76                            //Surface emissivity of anodized aluminium\n",
"D = 0.06                            //Diameter of %pipe (m)\n",
"L = 100.0                           //Length of %pipe (m)\n",
"h = 15.0                            //%pipe convective heat transfer coefficient (W/m^2.K)\n",
"//Calculation:\n",
"Eb = s*T1**4                        //Emissive energy of %pipe (W/m^2)\n",
"E = e*Eb                            //Emissive power from surface of %pipe (W/m^2)\n",
"A = %pi*D*L                          //Surface area of %pipe (m^2)\n",
"Qc = h*A*(T1-T3)                    //Convection heat transfer to air (W)\n",
"Qr = e*s*A*(T1**4-T2**4)            //Radiation heat transfer rate (W)\n",
"Q = Qc+Qr                           //Total heat transfer rate (Btu/h)\n",
"Tav = (T1+T2)/2.0                   //Average temperature (K)\n",
"hr = 4*e*s*Tav**3                   //Radiation heat transfer coefficient (W/m^2.K)\n",
"//Result:\n",
"printf('The emissive power from surface of %%pipe is : %.0f W/m^2.',E)\n",
"printf('The convection heat transfer to air is : %.1f kW.',Qc/10**3)\n",
"printf('The radiation heat transfer rate is : %.1f kW',Qr/10**3)\n",
"printf('The radiation heat transfer coefficient is : %.1f W/m^2.K.',hr)"
   ]
   }
,
{
		   "cell_type": "markdown",
		   "metadata": {},
		   "source": [
			"## Example 11.15: Example.sce"
		   ]
		  },
  {
"cell_type": "code",
	   "execution_count": null,
	   "metadata": {
	    "collapsed": true
	   },
	   "outputs": [],
"source": [
"//Variable declaration:\n",
"//From example 11.14:\n",
"Qc = 15.0                       //Convection heat transfer coefficient (W/m^2.K)\n",
"hr = 7.2                        //Radiation heat transfer coefficient (W/m^2.K)\n",
"//Calculation:\n",
"X = hr/(Qc+hr)*100.0            //Percent heat transfer by radiation (%)\n",
"//Result:\n",
"printf('The percent heat transfer by radiation is : %.1f %%.',X)"
   ]
   }
,
{
		   "cell_type": "markdown",
		   "metadata": {},
		   "source": [
			"## Example 11.16: Example.sce"
		   ]
		  },
  {
"cell_type": "code",
	   "execution_count": null,
	   "metadata": {
	    "collapsed": true
	   },
	   "outputs": [],
"source": [
"//Variable declaration:\n",
"FV = 1.0                            //Correction factor\n",
"//From example 11.9:\n",
"FE = 0.358                          //Emissivity correction factor\n",
"TH = 300.0+460.0                    //Absolute temperature of external surface (°R)\n",
"TC = 75.0+460.0                     //Absolute temperature of duct (°R)\n",
"AH = 0.622                          //Area of pipe (ft^2)\n",
"s = 0.173*10**-8                    //Stefan-Boltzmann constant\n",
"//Calculation:\n",
"Q = FV*FE*AH*s*(TH**4-TC**4)        //Heat transfer rate (Btu/h.ft)\n",
"//Result:\n",
"printf('The heat transfer rate is : %.2f Btu/h.ft',Q)\n",
"printf('Since, Q obtained in (11.9) is 96.96 Btu/h.ft, the solution does not match with book.')"
   ]
   }
,
{
		   "cell_type": "markdown",
		   "metadata": {},
		   "source": [
			"## Example 11.17: Example.sce"
		   ]
		  },
  {
"cell_type": "code",
	   "execution_count": null,
	   "metadata": {
	    "collapsed": true
	   },
	   "outputs": [],
"source": [
"//Variable declaration:\n",
"//From figure 11.2:\n",
"L = 1.0                                 //Space between plates (m)\n",
"X = 0.5                                 //Length of plate (m)\n",
"Y = 2.0                                 //Width of plate (m)\n",
"s = 5.669*10**-8                        //Stefan-Boltzmann constant\n",
"TH = 2000.0+273.0                       //Temperature of hotter plate (K)\n",
"TC = 1000.0+273.0                       //Temperature of colder plate (K)\n",
"Btu = 0.2934*10**-3                     //Btu/h in a KW\n",
"//Calculation:\n",
"A = X*Y                                 //Area of plate (m^2)\n",
"Z1 = Y/L                                //Ratio of width with space\n",
"Z2 = X/L                                //Ratio of length with space\n",
"//From figure 11.2:\n",
"FV = 0.18                               //Correction factor\n",
"FE = 1.0                                //Emissivity correction factor\n",
"Q1 = FV*FE*s*A*(TH**4-TC**4)            //Net radiant heat exchange between plates (kW)\n",
"Q2 = Q1/Btu                             //Net radiant heat exchange between plates in Btu/h (Btu/h)\n",
"Q1 = round(Q1*10**-2)/10**-2\n",
"//Result:\n",
"printf('The net radiant heat exchange between plates is : %f kW.',Q1)\n",
"printf('The net radiant heat exchange between plates in Btu/h is : %.2f  x 10^8 Btu/h.',Q2/10**8)"
   ]
   }
,
{
		   "cell_type": "markdown",
		   "metadata": {},
		   "source": [
			"## Example 11.3: Example.sce"
		   ]
		  },
  {
"cell_type": "code",
	   "execution_count": null,
	   "metadata": {
	    "collapsed": true
	   },
	   "outputs": [],
"source": [
"//Variable declaration:\n",
"syms l                                 //Wavelength (mu.m)\n",
"I = 40*exp(-l**2)                       //Intensity of radiation (Btu/h.ft^2.mu.m)\n",
"//Calculation:\n",
"E = eval(integrate(I, l,0,%inf))                 //Total emissive power (Btu/h.ft^2)\n",
"//Result:\n",
"printf('The total emissive power is : %.1f Btu/h.ft^2.',E)"
   ]
   }
,
{
		   "cell_type": "markdown",
		   "metadata": {},
		   "source": [
			"## Example 11.4: Example.sce"
		   ]
		  },
  {
"cell_type": "code",
	   "execution_count": null,
	   "metadata": {
	    "collapsed": true
	   },
	   "outputs": [],
"source": [
"//Variable declaration:\n",
"l = 0.25                            //Wavelength (mu.m)\n",
"//From equation 11.4:\n",
"lT = 2884                           //Product of wavelength and absolute temperature (mu.m.°R)\n",
"//Calculation:\n",
"T = lT/l                            //Sun's temperature (°R)\n",
"T1 = round(T * 10**-2)/10**-2\n",
"T = T - 460\n",
"T460 = round(T * 10**-3)/10**-3\n",
"//Result:\n",
"printf('The Sun s temperature is : %f  °R.',T1)\n",
"printf('The Sun s temperature in fahrenheit scale is : %f °F.',T460)"
   ]
   }
,
{
		   "cell_type": "markdown",
		   "metadata": {},
		   "source": [
			"## Example 11.5: Example.sce"
		   ]
		  },
  {
"cell_type": "code",
	   "execution_count": null,
	   "metadata": {
	    "collapsed": true
	   },
	   "outputs": [],
"source": [
"//Variable declaration:\n",
"T1 = 1500.0+460.0                   //Absolute temperature 1 (°R)\n",
"T2 = 1000.0+460.0                   //Absolute temperature 2 (°R)\n",
"//Calculation:\n",
"X = T1**4/T2**4                     //Ratio of quantity of heat transferred\n",
"x = 100*(T1**4-T2**4)/T2**4         //Percentage increase in heat transfer (%)\n",
"//Result:\n",
"printf('The ratio of the quantity/rate of heat transferred is : %.2f .',X)\n",
"printf('The percentage increase in heat transfer is : %.0f %%',x)"
   ]
   }
,
{
		   "cell_type": "markdown",
		   "metadata": {},
		   "source": [
			"## Example 11.6: Example.sce"
		   ]
		  },
  {
"cell_type": "code",
	   "execution_count": null,
	   "metadata": {
	    "collapsed": true
	   },
	   "outputs": [],
"source": [
"//Variable declaration:\n",
"T1 = 1200.0+460.0                       //Absolute temperature of wall 1 (°R)\n",
"T2 = 800.0+460.0                        //Absolute temperature of wall 2 (°R)\n",
"//Calculation:\n",
"//From equation 11.23:\n",
"X = 0.173*((T1/100.0)**4-(T2/100.0)**4) //Heat removed from colder wall (Btu/h.ft^2)\n",
"//Result:\n",
"printf('The heat removed from the colder wall to maintain a steady-state is : %.0f Btu/h.ft^2.',X)"
   ]
   }
,
{
		   "cell_type": "markdown",
		   "metadata": {},
		   "source": [
			"## Example 11.7: Example.sce"
		   ]
		  },
  {
"cell_type": "code",
	   "execution_count": null,
	   "metadata": {
	    "collapsed": true
	   },
	   "outputs": [],
"source": [
"//Variable declaration:\n",
"s = 0.173                       //Stefan-Boltzmann constant (Btu/h.ft^2.°R)\n",
"EH = 0.5                        //Energy transferred from hotter body (Btu/h.ft^2)\n",
"EC = 0.75                       //Energy transferred to colder body (Btu/h.ft^2)\n",
"TH = 1660.0                     //Absolute temperature of hotter body (°R)\n",
"TC = 1260.0                     //Absolute temperature of colder body (°R)\n",
"//Calculation:\n",
"E = s*((TH/100.0)**4-(TC/100.0)**4)/((1.0/EH)+(1.0/EC)-1.0) //Net energy exchange per unit area (Btu/h.ft^2)\n",
"E = round(E*10**-1)/10**-1\n",
"//Result:\n",
"printf('The net energy exchange per unit area is : %f Btu/h.ft^2.',E)"
   ]
   }
,
{
		   "cell_type": "markdown",
		   "metadata": {},
		   "source": [
			"## Example 11.8: Example.sce"
		   ]
		  },
  {
"cell_type": "code",
	   "execution_count": null,
	   "metadata": {
	    "collapsed": true
	   },
	   "outputs": [],
"source": [
"//Variable declaration:\n",
"//From example 11.6-11.7:\n",
"E1 = 8776.0                     //Energy exchange between black bodies (Btu/h.ft^2)\n",
"E2 = 3760.0                     //Energy exchange between non-black bodies (Btu/h.ft^2)\n",
"//Calculation:\n",
"D = (E1-E2)/E1*100              //Percent difference in energy (%)\n",
"//Result:\n",
"printf('The percent difference relative to the black body is: %.1f %%.',D)"
   ]
   }
,
{
		   "cell_type": "markdown",
		   "metadata": {},
		   "source": [
			"## Example 11.9: Example.sce"
		   ]
		  },
  {
"cell_type": "code",
	   "execution_count": null,
	   "metadata": {
	    "collapsed": true
	   },
	   "outputs": [],
"source": [
"//Variable declaration:\n",
"s = 0.173*10**-8                        //Stefan-Boltzmann constant (Btu/h.ft^2.°R)\n",
"TH = 300.0+460.0                        //Absolute temperature of external surface (°R)\n",
"TC = 75.0+460.0                         //Absolute temperature of duct (°R)\n",
"//From Table 6.2:\n",
"AH = 0.622                              //External surface area of pipe (ft^2)\n",
"//From Table 11.2:\n",
"EH = 0.44                               //Emissivity of oxidized steel\n",
"AC = 4.0*1.0*1.0                        //External surface area of duct (ft^2)\n",
"EC = 0.23                               //Emissivity of galvanized zinc\n",
"//Calculation:\n",
"FE = 1.0/(1.0/EH+((AH/AC)*(1.0/EC-1.0))) //Emissivity correction factor\n",
"Q = FE*AH*s*(TH**4-TC**4)                //Net radiation heat transfer (Btu/h.ft)\n",
"//Result:\n",
"printf('The net radiation heat transfer is : %.2f Btu/h.ft^2.',Q)\n",
"printf('There is a calculation error in book.')"
   ]
   }
],
"metadata": {
		  "kernelspec": {
		   "display_name": "Scilab",
		   "language": "scilab",
		   "name": "scilab"
		  },
		  "language_info": {
		   "file_extension": ".sce",
		   "help_links": [
			{
			 "text": "MetaKernel Magics",
			 "url": "https://github.com/calysto/metakernel/blob/master/metakernel/magics/README.md"
			}
		   ],
		   "mimetype": "text/x-octave",
		   "name": "scilab",
		   "version": "0.7.1"
		  }
		 },
		 "nbformat": 4,
		 "nbformat_minor": 0
}
