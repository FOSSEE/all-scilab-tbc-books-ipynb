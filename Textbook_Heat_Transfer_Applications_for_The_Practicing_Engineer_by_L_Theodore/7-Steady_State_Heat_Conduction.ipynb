{
"cells": [
 {
		   "cell_type": "markdown",
	   "metadata": {},
	   "source": [
       "# Chapter 7: Steady State Heat Conduction"
	   ]
	},
{
		   "cell_type": "markdown",
		   "metadata": {},
		   "source": [
			"## Example 7.1: Example.sce"
		   ]
		  },
  {
"cell_type": "code",
	   "execution_count": null,
	   "metadata": {
	    "collapsed": true
	   },
	   "outputs": [],
"source": [
"//Variable declaration:\n",
"Q = 3000.0              //The rate of heat flow through the glass window (W)\n",
"L = 0.01                //Thickness of glass window (m)\n",
"A = 3.0                 //Area of heat transfer (m^2)\n",
"TC = 10+273             //Temperature at the outside surface (K)\n",
"k = 1.4                 //Thermal onductivity of glass (W/m.K)\n",
"//Calculation:\n",
"TH = TC+Q*L/k/A         //Temperature at the inner surface (K)\n",
"//Result:\n",
"printf('The temperature at the inner surface is : %.1f K',TH)\n",
"printf('The temperature at the inner surface is : %.1f °C',TH-273)"
   ]
   }
,
{
		   "cell_type": "markdown",
		   "metadata": {},
		   "source": [
			"## Example 7.2: Example.sce"
		   ]
		  },
  {
"cell_type": "code",
	   "execution_count": null,
	   "metadata": {
	    "collapsed": true
	   },
	   "outputs": [],
"source": [
"//Variable declaration:\n",
"k = 0.026               //Thermal conductivity of insulating material (Btu/ft.h.°F)\n",
"L = 1.0                 //Thickness of insulating material (ft)\n",
"TC = 70.0               //Temperature on the cold side surface (°F)\n",
"TH = 210.0              //Temperature on the hot side surface (°F)\n",
"c = 0.252               //Kilocalorie per hour in a Btu per hour\n",
"m = 0.093               //meter square in a feet square\n",
"//Calculation:\n",
"DT = TH-TC              //Change in temperature (°F)\n",
"Q1 = k*DT/L             //Rate of heat flux throughthe wall (Btu/f^t2.h.)\n",
"Q2 = Q1*c/m             //Rate of heat flux throughthe wall in SI units (kcal/m^2.h)\n",
"//Result:\n",
"printf('The rate of heat flux in Btu/ft^2.h is : %.3f Btu/ft^2.h.',Q1)\n",
"printf('The rate of heat flux in SI units is : %.3f kcal/m^2.h.',Q2)"
   ]
   }
,
{
		   "cell_type": "markdown",
		   "metadata": {},
		   "source": [
			"## Example 7.3: Example.sce"
		   ]
		  },
  {
"cell_type": "code",
	   "execution_count": null,
	   "metadata": {
	    "collapsed": true
	   },
	   "outputs": [],
"source": [
"//Variable declaration:\n",
"TH = 1592.0                     //Temperature of inside surface (K)\n",
"TC = 1364.0                     //Temperature of outside surface (K)\n",
"H = 3.0                         //Height of furnace wall (m)\n",
"W = 1.2                         //Width of furnace wall (m)\n",
"L = 0.17                        //Thickness furnace wall (m)\n",
"m = 0.0929                      //Meter square per second in a feet square per second\n",
"Btu = 3.412                     //Btu per hour in a Watt\n",
"Btu2 = 0.3171                   //Btu per feet square hour in a watt per meter square\n",
"//Calculation:\n",
"Tav = (TH+TC)/2                 //Average wall temperature (K)\n",
"//From Table in Appendix:\n",
"p = 2645.0                      //Density of material (kg/m^3)\n",
"k = 1.8                         //Thermal conductivity (W/m.K)\n",
"Cp = 960.0                      //Heat capacity of material (J/kg.K)\n",
"a = k/(p*Cp)/m                  //Thermal diffusivity (ft^2/s)\n",
"t = (TC-TH)/L                   //Temperature gradient (°C/m)\n",
"A = H*W                         //Heat transfer area (m^2)\n",
"Q1 = k*A*(TH-TC)/L*Btu          //Heat transfer rate (Btu/h)\n",
"Q2 = k*(TH-TC)/L*Btu2           //Heat transfer flux (Btu/h.ft^2)\n",
"R = L/(k*A)                     //Thermal resistance (°C/W)\n",
"//Result:\n",
"printf('The temperature gradient is : %.0f °C/m.',t)\n",
"printf('The heat transfer rate is : %.0f Btu/h',Q1)\n",
"printf('The heat transfer flux is : %.1f Btu/h.ft^2.',Q2)"
   ]
   }
,
{
		   "cell_type": "markdown",
		   "metadata": {},
		   "source": [
			"## Example 7.4: Example.sce"
		   ]
		  },
  {
"cell_type": "code",
	   "execution_count": null,
	   "metadata": {
	    "collapsed": true
	   },
	   "outputs": [],
"source": [
"//Variable declaration:\n",
"TH = 25.0                   //Temperature at inner suface of wall (°C)\n",
"TC = -15.0                  //Temperature at outer suface of wall (°C)\n",
"L = 0.3                     //Thickness of wall (m)\n",
"k = 1.0                     //Thermal conductivity of concrete (W/m)\n",
"A = 30.0                    //Sueface area of wall (m^2)\n",
"//Calculation:\n",
"DT = TH-TC                  //Driving force for heat transfer (°C) (part 2)\n",
"R = L/(k*A)                 //Thermal resistance (°C/W) (part 3)\n",
"Q = DT/R/10**3              //Heat loss through the wall (kW)\n",
"//Result:\n",
"printf('1. Theoretical part.')\n",
"printf('2. The driving force for heat transfer is : %f °C.',DT)\n",
"printf('3. The heat loss through the wall is : %f kW.',Q)"
   ]
   }
,
{
		   "cell_type": "markdown",
		   "metadata": {},
		   "source": [
			"## Example 7.5: Example.sce"
		   ]
		  },
  {
"cell_type": "code",
	   "execution_count": null,
	   "metadata": {
	    "collapsed": true
	   },
	   "outputs": [],
"source": [
"//Variable declaration:\n",
"TC = 27.0                   //Inside temperature of walls (°C)\n",
"TH = 68.7                   //Outside temperature of walls (°C)\n",
"LC = 6*0.0254               //Thickness of concrete (m)\n",
"LB = 8*0.0254               //Thickness of cork-board (m)\n",
"LW = 1*0.0254               //Thickness of wood (m)\n",
"kC = 0.762                  //Thermal conductivity of concrete (W/m.K)\n",
"kB = 0.0433                 //Thermal conductivity of cork-board (W/m.K)\n",
"kW = 0.151                  //Thermal conductivity of wood (W/m.K)\n",
"//Calculation:\n",
"RC = LC/kC                  //Thermal resistance of concrete (K/W)\n",
"RB = LB/kB                  //Thermal resistance of cork-board (K/W)\n",
"RW = LW/kW                  //Thermal resistance of wood (K/W)\n",
"Q = (TC-TH)/(RC+RB+RW)      //Heat transfer rate across the wall (W)\n",
"T = -(Q*RW-TC)              //Interface temperature between wood and cork-board (K)\n",
"//Result:\n",
"printf('The heat transfer rate across the wall is : %.3f  W.',Q)\n",
"printf('The interface temperature between wood and cork-board is : %.1f  °C.',T)\n",
"printf('The interface temperature between wood and cork-board is : %.1f  K.',T+273)"
   ]
   }
,
{
		   "cell_type": "markdown",
		   "metadata": {},
		   "source": [
			"## Example 7.6: Example.sce"
		   ]
		  },
  {
"cell_type": "code",
	   "execution_count": null,
	   "metadata": {
	    "collapsed": true
	   },
	   "outputs": [],
"source": [
"//Variable declaration:\n",
"D1s = 4.0                               //Glass wool inside diameter (in)\n",
"D2s = 8.0                               //Glass wool outside diameter (in)\n",
"D1a = 3.0                               //Asbestos inside diameter (in)\n",
"D2a = 4.0                               //Asbestos outside diameter (in)\n",
"TH = 500.0                              //Outer surface temperature of pipe (°F)\n",
"TC = 100.0                              //Outer surface temperature of glass wool (°F)\n",
"La = 0.5/12.0                           //Thickness of asbestos (ft)\n",
"Lb = 2.0/12.0                           //Thickness of glss wool (ft)\n",
"ka = 0.120                              //Thermal conductivity of asbestos (Btu/h.ft.°F)\n",
"kb = 0.0317                             //Thermal conductivity of asbestos (Btu/h.ft.°F)\n",
"pi = %pi\n",
"//Calculation:\n",
"Aa = (pi*(D2a-D1a)/12.0)/log(D2a/D1a) //Area of asbestos (ft^2)\n",
"Ab = (pi*(D2s-D1s)/12.0)/log(D2s/D1s) //Area of glass wool (ft^2)\n",
"Q1 = (TH-TC)/(La/(ka*Aa)+Lb/(kb*Ab))    //Steady-state heat transfer per foot of pipe (Btu/h.)\n",
"Q2 = Q1\n",
"//Result:\n",
"printf('The steady-state heat transfer per foot of pipe, Z, is : %.1f  x z Btu/h.',Q1)\n",
"printf('The steady-state heat transfer factorizating out Z is : %.1f  Btu/h.ft.',Q2)"
   ]
   }
,
{
		   "cell_type": "markdown",
		   "metadata": {},
		   "source": [
			"## Example 7.7: Example.sce"
		   ]
		  },
  {
"cell_type": "code",
	   "execution_count": null,
	   "metadata": {
	    "collapsed": true
	   },
	   "outputs": [],
"source": [
"//Variable declaration:\n",
"//From example 7.6:\n",
"TH = 500                                //Outer surface temperature of pipe (°F)\n",
"Lb = 2.0/12.0                           //Thickness of glss wool (ft)\n",
"kb = 0.0317                             //Thermal conductivity of asbestos (Btu/h.ft.°F)\n",
"Ab = 1.51                               //Area of glass wool (ft^2)\n",
"Q = 103.5                               //Steady-state heat transfer per foot of pipe (Btu/h.)\n",
"La = 0.5/12.0                           //Thickness of asbestos (ft)\n",
"ka = 0.120                              //Thermal conductivity of asbestos (Btu/h.ft.°F)\n",
"Aa = 0.91                               //Area of asbestos (ft^2)\n",
"TC = 100                                //Outer surface temperature of glass wool (°F)\n",
"//Calculation:\n",
"Ti_b = -((Lb*Q)/(kb*Ab)-TH)             //Interfacial temperature of glass wool layer (°F)\n",
"Ti_a = (Q*La)/(ka*Aa)+TC                //Interfacial temperature of asbestos layer (°F)\n",
"//Result:\n",
"printf('The interfacial temperature of glass wool layer is : %.0f  °F.',Ti_b)\n",
"printf('The interfacial temperature of asbestos layer is : %.1f  °F.',Ti_a)"
   ]
   }
,
{
		   "cell_type": "markdown",
		   "metadata": {},
		   "source": [
			"## Example 7.8: Example.sce"
		   ]
		  },
  {
"cell_type": "code",
	   "execution_count": null,
	   "metadata": {
	    "collapsed": true
	   },
	   "outputs": [],
"source": [
"//Variable declaration:\n",
"syms z\n",
"syms h\n",
"syms k\n",
"pi = %pi\n",
"T = 100*cos((pi*z)/(2*h))       //Temperature of solid slab\n",
"//Calculation:\n",
"DT = diff(T,z)                  //Temperature at z\n",
"Q = -k*(DT)                     //Heat flux in slab (Btu/s.ft^2)\n",
"disp(typeof(Q))\n",
"Q1 = subst(0,z,Q)               //Heat flux in slab at z =  Btu/s.ft^2)\n",
"Q2 = subst(h,z,Q)                //Heat flux in slab at z = h (Btu/s.ft^2)\n",
"//Result:\n",
"disp('The heat flux in slab is : ')\n",
"disp(Q)\n",
"disp('Btu/s.ft^2.')\n",
"disp('The heat flux in slab at z = 0 is : ')\n",
"disp(Q1)\n",
"disp('Btu/s.ft^2.')\n",
"disp('The heat flux in slab at z = h is :5  ')\n",
"disp(Q2)\n",
"disp(' Btu/s.ft^2.')"
   ]
   }
],
"metadata": {
		  "kernelspec": {
		   "display_name": "Scilab",
		   "language": "scilab",
		   "name": "scilab"
		  },
		  "language_info": {
		   "file_extension": ".sce",
		   "help_links": [
			{
			 "text": "MetaKernel Magics",
			 "url": "https://github.com/calysto/metakernel/blob/master/metakernel/magics/README.md"
			}
		   ],
		   "mimetype": "text/x-octave",
		   "name": "scilab",
		   "version": "0.7.1"
		  }
		 },
		 "nbformat": 4,
		 "nbformat_minor": 0
}
