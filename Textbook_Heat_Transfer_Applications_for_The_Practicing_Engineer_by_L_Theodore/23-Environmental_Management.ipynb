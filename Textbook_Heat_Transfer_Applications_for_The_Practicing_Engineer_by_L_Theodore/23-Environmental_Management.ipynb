{
"cells": [
 {
		   "cell_type": "markdown",
	   "metadata": {},
	   "source": [
       "# Chapter 23: Environmental Management"
	   ]
	},
{
		   "cell_type": "markdown",
		   "metadata": {},
		   "source": [
			"## Example 23.6: Example.sce"
		   ]
		  },
  {
"cell_type": "code",
	   "execution_count": null,
	   "metadata": {
	    "collapsed": true
	   },
	   "outputs": [],
"source": [
"//Variable declaration:\n",
"Q = 20000                   //Fuel input (Btu)\n",
"e = 1                       //Energy produced (kW.h)\n",
"Btu = 3412                  //Units Btu in 1 kW.h\n",
"//Calulation:\n",
"ER = Q/Btu                  //Energy requirement in 1990 (kW.h)\n",
"E = e/ER*100                //Efficiency of energy conversion (%)\n",
"//Result:\n",
"printf('The efficiency of energy conversion is : %.1f %%',E)"
   ]
   }
,
{
		   "cell_type": "markdown",
		   "metadata": {},
		   "source": [
			"## Example 23.7: Example.sce"
		   ]
		  },
  {
"cell_type": "code",
	   "execution_count": null,
	   "metadata": {
	    "collapsed": true
	   },
	   "outputs": [],
"source": [
"//Variable declaration:\n",
"ADL1 = 2                        //Average daily load (MW)\n",
"R = 25/100                      //Reduction in electrical load (%)\n",
"//Calculation:\n",
"L = 1-R                         //New load fraction\n",
"ADL2 = ADL1*L                   //New average daily load (MW)\n",
"AR = ADL1-ADL2                  //Average reduction in electrical load (MW)\n",
"//Result:\n",
"printf('The new Average daily load for the plant is : %f MW.',ADL2)\n",
"printf('The average reduction in electrical load is : %f MW.',AR)"
   ]
   }
],
"metadata": {
		  "kernelspec": {
		   "display_name": "Scilab",
		   "language": "scilab",
		   "name": "scilab"
		  },
		  "language_info": {
		   "file_extension": ".sce",
		   "help_links": [
			{
			 "text": "MetaKernel Magics",
			 "url": "https://github.com/calysto/metakernel/blob/master/metakernel/magics/README.md"
			}
		   ],
		   "mimetype": "text/x-octave",
		   "name": "scilab",
		   "version": "0.7.1"
		  }
		 },
		 "nbformat": 4,
		 "nbformat_minor": 0
}
