{
"cells": [
 {
		   "cell_type": "markdown",
	   "metadata": {},
	   "source": [
       "# Chapter 22: Design Principles and Industrial Applications"
	   ]
	},
{
		   "cell_type": "markdown",
		   "metadata": {},
		   "source": [
			"## Example 22.10: Example.sce"
		   ]
		  },
  {
"cell_type": "code",
	   "execution_count": null,
	   "metadata": {
	    "collapsed": true
	   },
	   "outputs": [],
"source": [
"//Variable declaration:\n",
"//From example 22.9:\n",
"t1 = 23.5                           //Initial temperature of oil ( C)\n",
"t2 = 27                             //Final temperature of oil ( C)\n",
"T1 = 93                             //Water heating temperature of water ( C)\n",
"T2 = 88.16                          //Minimum temperature of heating water ( C)\n",
"U = 34.6                            //Overall heat transfer coefficient (W/m^2. C)\n",
"Q = 7227.2                          //Duty of exchanger (W)\n",
"D = 6*0.0254                        //Inside diameter of %pipe (m)\n",
"l = 6.68                            //Previous heat transfer length (m)\n",
"//Calculation:\n",
"DT1 = T1-t1                         //Inlet temperature difference ( C)\n",
"DT2 = T2-t2                         //Outlet temperature difference ( C)\n",
"DTlm = (DT1-DT2)/log(DT1/DT2)       //Log mean temperature difference ( C)\n",
"A = Q/(U*DTlm)                      //Required heat transfer area (m^2)\n",
"L = A/(%pi*D)                        //Required heat transfer length (m)\n",
"//Result:\n",
"printf('The length of the parallel %%pipe heat exchanger is : %.2f ',L)\n",
"if L>l then\n",
"    printf('The tube length would increase slightly.')\n",
"elseif L<l then\n",
"    printf('The tube length would decrease slightly.')\n",
"end    "
   ]
   }
,
{
		   "cell_type": "markdown",
		   "metadata": {},
		   "source": [
			"## Example 22.12: Example.sce"
		   ]
		  },
  {
"cell_type": "code",
	   "execution_count": null,
	   "metadata": {
	    "collapsed": true
	   },
	   "outputs": [],
"source": [
"//Variable declaration:\n",
"T = 80                                //Pipe surface temperature ( F)\n",
"t1 = 10                               //Inlet temperature of brine solution ( F)\n",
"m = 1200                              //mass flowrate of solution (kg/s)\n",
"c = 0.99                              //Heat capacity of brine solution (Btu/lb. F)\n",
"A = 2.5                               //Heat transfer area (ft^2)\n",
"U1 = 150                              //Overall heat transfer coefficient at temperature approach (Btu/h.ft^2. F)\n",
"U2 = 140                              //Overall heat transfer coefficient at inlet brine temperature (Btu/h.ft^2. F)\n",
"//Calculation:\n",
"DT1 = T-t1                            //Temperature approach at the pipe entrance ( F)\n",
"function [ans] = equation(DT2)\n",
"	Q1 = m*c*(DT1-DT2)               //Energy balance to the brine solution across the full length of the pipe (Btu/h)\n",
"	DTlm = (DT1-DT2)*log(DT2/DT1)    //Log mean temperature difference ( F)\n",
"	Q2 = A*(U2*DT1-U1*DT2)/log((U2*DT1)/(U1*DT2)) //Heat transfer rate (Btu/h)\n",
"	ans = Q2-Q1\n",
"endfunction\n",
"t2 = T-fsolve(1,equation)	   //The temperature of the brine solution ( F)\n",
"//Results:\n",
"printf('The temperature of brine solution is:  %.0f C',(t2-32)/1.8)"
   ]
   }
,
{
		   "cell_type": "markdown",
		   "metadata": {},
		   "source": [
			"## Example 22.13: Example.sce"
		   ]
		  },
  {
"cell_type": "code",
	   "execution_count": null,
	   "metadata": {
	    "collapsed": true
	   },
	   "outputs": [],
"source": [
"//Variable declaration:\n",
"m = 1200                            //mass flowrate of solution (kg/s)\n",
"c = 0.99                            //Heat capacity of brine solution (Btu/lb. F)\n",
"DT1 = 70                            //Temperature approach at the pipe entrance ( F)\n",
"DT2 = 51.6                          //Temperature difference at the pipe exit ( F)\n",
"//Calculation:\n",
"Q = m*c*(DT1-DT2)                   //Heat transfer rate (Btu/h)\n",
"DTlm = (DT1-DT2)/log(DT1/DT2)       //Log mean temperature difference ( F)\n",
"Q1 = round(Q*10**-1)/10**-1\n",
"//Result:\n",
"printf('1. The rate of heat transfer is : %f Btu/h.',Q1)\n",
"printf('Or, the rate of heat transfer is : %.0f W.',Q/3.412)\n",
"printf('2. The log mean temperature difference is : %.1f F.',DTlm)\n",
"printf('Or, the log mean temperature difference is : %.1f C.',DTlm/1.8)"
   ]
   }
,
{
		   "cell_type": "markdown",
		   "metadata": {},
		   "source": [
			"## Example 22.23: Example.sce"
		   ]
		  },
  {
"cell_type": "code",
	   "execution_count": null,
	   "metadata": {
	    "collapsed": true
	   },
	   "outputs": [],
"source": [
"//Variable declaration:\n",
"Too = 100                           //Steam temperature ( C)\n",
"Ti = 18                             //Initial temperature of liquid TCA ( C)\n",
"Tf = 74                             //Final temperature of liquid TCA ( C)\n",
"t = 180                             //Heating time (s)\n",
"p = 87.4                            //Density of TCA (lb/ft^3)\n",
"V = 18                              //Kinematic viscosity of TCA (m^2/s)\n",
"cp = 0.23                           //Heat capacity of TCA (Btu/lb. F)\n",
"U = 200                             //Overall heat transfer coefficient (Btu/h.ft^2. F)\n",
"//Calculation:\n",
"ui = Too-Ti                         //Initial excess temperature ( C)\n",
"uf = Too-Tf                         //Final excess temperature ( C)\n",
"R = log(ui/uf)                      //Ratio t/r\n",
"r = t/R                             //Thermal time constant (s)\n",
"A = p*V*cp/(3600*U*r)               //Required heating area (ft^3)\n",
"Ti_F = Ti*9/5+32                    //Initial temperature in fahrenheit scale ( F)\n",
"Tf_F = Tf*9/5+32                    //Final temperature in fahrenheit scale ( F)\n",
"Q = p*V*cp*(Tf_F-Ti_F)              //Total amount of heat added (Btu)\n",
"//Result:\n",
"printf('1. The required surface area of the heating coil is : %e ft^3',A)\n",
"printf('2. The total heat added to the liquid TCA is : %.0f Btu',Q)"
   ]
   }
,
{
		   "cell_type": "markdown",
		   "metadata": {},
		   "source": [
			"## Example 22.24: Example.sce"
		   ]
		  },
  {
"cell_type": "code",
	   "execution_count": null,
	   "metadata": {
	    "collapsed": true
	   },
	   "outputs": [],
"source": [
"//Variable declaration:\n",
"m1 = 62000                      //Mass flowrate of alcohol (lb/h)\n",
"h1 = 365                        //Enthalpy of vapour (Btu/lb)\n",
"cp = 1                          //Heat capacity of water (Btu/lb. F)\n",
"T1 = 85                         //Entering temperature of water ( F)\n",
"T2 = 120                        //Exit temperature of water ( F)\n",
"a1 = 2.11                       //Flow area for the shell side (ft^2)\n",
"N = 700                         //Total number of tubes\n",
"a2 = 0.546                      //Flow area per tube (in^2/tube)\n",
"n = 4                           //Number of tube passes\n",
"p = 62.5                        //Density of water (lb/ft^3)\n",
"L = 16                          //Length of condenser (ft)\n",
"hio = 862.4                     //Cooling water inside film coefficient (Btu/h.ft^2. F)\n",
"g = 9.8                         //Gravitational accleration (m^2/s)\n",
"Rf = 0.003                      //Fouling factor (Btu/h.ft^2. F)\n",
"//Calculation:\n",
"Q1 = m1*h1                      //Heat loss from alcohol (Btu/h)\n",
"Q2 = Q1                         //Heat gained by water (Btu/h)\n",
"DT = T2-T1                      //Temperature difference ( F)\n",
"m2 = Q2/(cp*DT)                 //Water mass flow rate (lb/h)\n",
"LMTD = ((T2-32)-(T1-32))/log((T2-32)/(T1-32))   //Log mean temperature difference ( F)\n",
"at = (N*a2)/(144*n)             //Total flow area for tube side (ft^2)\n",
"G1 = m1/a1                      //Mass velocity of flow in shell side (lb/h.ft^2)\n",
"G2 = m2/at                      //Mass velocity of flow in tube side (lb/h.ft^2)\n",
"V = G2/(3600*p)                 //Velocity of water (ft/s)\n",
"G3 = m1/(L*N)**(2/3)            //Loading G (lb/h.ft)\n",
"//For alcohol:\n",
"kf = 0.105                      //Thermal conductivity (Btu/h.ft. F)\n",
"muf = 0.55*2.42                 //Dynamic viscosity (lb/ft.h)\n",
"sf = 0.79                       //\n",
"pf = sf*p                       //Density (lb/ft^3)\n",
"h = 151*(((kf**3)*(pf**2)*g*muf)/((muf**2)*n*G3))**(1/3)   //Heat transfer coefficient for the shell side (Btu/h.ft^2. F)\n",
"ho = h                          //Outside heat transfer coefficient of the tube bundle (Btu/h.ft^2. F)\n",
"Uc = (hio*ho)/(hio+ho)          //Overall heat transfer coefficient for a new (clean) heat exchanger (Btu/h.ft^2. F)\n",
"A = N*L*0.2618                  //Area for heat transfer (ft^2)\n",
"Ud = Q1/(A*DT)                  //Design (D) overall heat transfer coefficient (Btu/h.ft^2. F)\n",
"Rd = (Uc-Ud)/(Uc*Ud)            //Dirt (d) factor (Btu/h.ft^2. F)\n",
"//Result:\n",
"printf('The dirt (d) factor is : %.4f Btu/h.ft^2. F .',Rd)\n",
"if (Rd>Rd) then\n",
"    printf('Therefore, the exchanger as specified is unsuitable for these process conditions since the fouling factor is above the recommended value. Cleaning is recommended.')\n",
"else\n",
"    printf('Therefore, the exchanger as specified is suitable for these process conditions since the fouling factor is below the recommended value. Cleaning is not recommended.')\n",
"end"
   ]
   }
,
{
		   "cell_type": "markdown",
		   "metadata": {},
		   "source": [
			"## Example 22.6: Example.sce"
		   ]
		  },
  {
"cell_type": "code",
	   "execution_count": null,
	   "metadata": {
	    "collapsed": true
	   },
	   "outputs": [],
"source": [
"							//Variable declaration:\n",
"//From steam tables:\n",
"h1 = 1572                           //Enthalpy for super heated steam at (P = 40 atm, T = 1000 F) (Btu/lb)\n",
"h2 = 1316                           //Enthalpy for super heated steam at (P = 20 atm, T = 600 F) (Btu/lb)\n",
"h3 = 1151                           //Enthalpy for saturated steam (Btu/lb)\n",
"h4 = 28.1                           //Enthalpy for saturated water (Btu/lb)\n",
"m1 = 1000                           //Mass flowrate of  steam (lb/h)\n",
"syms m                              //Mass flow rate of steam (lb/h)\n",
"//Calculation:\n",
"Dh1 = m1*(h3-h4)                    //The change in enthalpy for the vaporization of the water stream (Btu/h)\n",
"Dh2 = m*(h1-h2)                     //The change in enthalpy for the cooling of the water stream (Btu/h)\n",
"x = eval(solve(Dh1-Dh2,m))                //Mass flowrate of steam (lb/h)\n",
"m2 = x;                          //Mass flowrate of steam (lb/h)\n",
"//Result:\n",
"disp('The mass flowrate of the utility steam required is : ')\n",
"disp(m2)\n",
"disp(' lb/h.')\n",
"				"
   ]
   }
,
{
		   "cell_type": "markdown",
		   "metadata": {},
		   "source": [
			"## Example 22.7: Example.sce"
		   ]
		  },
  {
"cell_type": "code",
	   "execution_count": null,
	   "metadata": {
	    "collapsed": true
	   },
	   "outputs": [],
"source": [
"//Variable declaration:\n",
"//From table 22.1:\n",
"QH1 = 12*10**6                  //Heat duty for process unit 1 (Btu/h)\n",
"QH2 = 6*10**6                   //Heat duty for process unit 2 (Btu/h)\n",
"QH3 = 23.5*10**6                //Heat duty for process unit 3 (Btu/h)\n",
"QH4 = 17*10**6                  //Heat duty for process unit 4 (Btu/h)\n",
"QH5 = 31*10**6                  //Heat duty for process unit 5 (Btu/h)\n",
"T1 = 90                         //Supply water temperature ( F)\n",
"T2 = 115                        //Return water temperature ( F)\n",
"cP = 1                          //Cooling water heat capacity (Btu/(lb. F))\n",
"p = 62*0.1337                   //Density of water (lb/gal)\n",
"BDR = 5/100                     //Blow-down rate\n",
"//Calculation:\n",
"QHL = (QH1+QH2+QH3+QH4+QH5)/60  //Heat load (Btu/min)\n",
"DT = T2-T1                      //Change in temperature ( F)\n",
"qCW = round(QHL*10**-5)/10**-5/(DT*cP*p)   //Required cooling water flowrate (gpm)\n",
"qBD = BDR*qCW                   //Blow-down flow (gpm)\n",
"qCW = round(qCW*10**-1)/10**-1\n",
"//Result:\n",
"printf('The total flowrate of cooling water required for the services is : %f gpm.',qCW)\n",
"printf('The required blow-down flow is : %.0f gpm.',qBD)"
   ]
   }
,
{
		   "cell_type": "markdown",
		   "metadata": {},
		   "source": [
			"## Example 22.8: Example.sce"
		   ]
		  },
  {
"cell_type": "code",
	   "execution_count": null,
	   "metadata": {
	    "collapsed": true
	   },
	   "outputs": [],
"source": [
"//Variable declaration:\n",
"Q1 = 10*10**6                       //Unit heat duty for process unit 1 (Btu/h)\n",
"Q2 = 8*10**6                        //Unit heat duty for process unit 2 (Btu/h)\n",
"Q3 = 12*10**6                       //Unit heat duty for process unit 3 (Btu/h)\n",
"Q4 = 20*10**6                       //Unit heat duty for process unit 4 (Btu/h)\n",
"hv = 751                            //Enthalpy of vaporization for pressure 500 psig (Btu/lb)\n",
"//Calculation:\n",
"mB1 = Q1/hv                         //Mass flowrate of 500 psig steam through unit 1 (lb/h)\n",
"mB2 = Q2/hv                         //Mass flowrate of 500 psig steam through unit 2 (lb/h)\n",
"mB3 = Q3/hv                         //Mass flowrate of 500 psig steam through unit 3 (lb/h)\n",
"mB4 = Q4/hv                         //Mass flowrate of 500 psig steam through unit 4 (lb/h)\n",
"mBT = mB1+mB2+mB3+mB4               //Total steam required (lb/h)\n",
"mBT = round(mBT*10**-1)/10**-1\n",
"//Result:\n",
"printf('The total steam required is : %f lb/h.',mBT)"
   ]
   }
,
{
		   "cell_type": "markdown",
		   "metadata": {},
		   "source": [
			"## Example 22.9: Example.sce"
		   ]
		  },
  {
"cell_type": "code",
	   "execution_count": null,
	   "metadata": {
	    "collapsed": true
	   },
	   "outputs": [],
"source": [
"//Variable declaration:\n",
"po = 53*16.0185                     //Density of oil (kg/m^3)\n",
"co = 0.46*4186.7                    //Heat capacity of oil (J/kg. C)\n",
"pi = %pi\n",
"muo = 150/1000                      //Dynamic viscosity of oil (kg/m.s)\n",
"ko = 0.11*1.7303                    //Thermal conductivity of oil (W/m. C)\n",
"qo = 28830*4.381*10**-8             //Volumetric flowrate of oil (m^3/s)\n",
"pw = 964                            //Density of water (kg/m^3)\n",
"cw = 4204                           //Heat capacity of water (J/kg. C)\n",
"muw = 0.7/3600*1.4881               //Dynamic viscosity of water (kg/m.s)\n",
"kw = 0.678                          //Thermal conductivity of water (W/m. C)\n",
"qw = 8406*4.381*10**-8              //Volumetric flowrate of water (m^3/s)\n",
"t1 = 23.5                           //Initial temperature of oil ( C)\n",
"t2 = 27                             //Final temperature of oil ( C)\n",
"T1 = 93                             //Water heating temperature of water ( C)\n",
"syms T2                               //Minimum temperature of heating water ( C)\n",
"syms A                              //Heat transfer area (m^2)\n",
"Uc = 35.4                           //Clean heat transfer coefficient (W/m^2.K)\n",
"Rf = 0.0007                         //Thermal resistance (m^2.K/W)\n",
"D = 6*0.0254                        //Inside diameter of pipe (m)\n",
"//Calculation:\n",
"vo = muo/po                         //Kinematic viscosity of oil (m^2/s)\n",
"mo = po*qo                          //Mass flowrate of oil (kg/s)\n",
"vw = muw/pw                         //Kinematic viscosity of  (m^2/s)\n",
"mw = pw*qw                          //Masss flow rate of water (kg/s)\n",
"Q1 = mo*co*(t2-t1)                  //Duty of exchanger of oil (W)\n",
"T2m = t1                            //Lowest possible temperature of the water ( C) (part 1)\n",
"Qmw = mw*cw*(T1-T2m)                //Maximum duty of exchanger of water (W) (part 2)\n",
"Q2 = mw*cw*(T1-T2)                  //Duty of exchanger of water in terms of T2 (W)\n",
"x = eval(solve(Q1-Q2,T2))                 //Solving value for T2 ( C)\n",
"T3 = x;                          //Minimum temperature of heating water ( C)\n",
"DT1 = T3-t1                         //Inlet temperature difference ( C)\n",
"DT2 = T1-t2                         //Outlet temperature difference ( C)\n",
"DTlm = (DT1-DT2)/log(DT1/DT2)       //Log mean temperature difference ( C)\n",
"Ud1 = 1/Uc+Rf                       //Dirty heat transfer coefficient (W/m^2.K) (part 3)\n",
"Ud2 = 34.6                          //Dirty heat transfer coefficient (W/m^2. C)\n",
"Q3 = Ud2*A*DTlm                     //Duty of exchanger (W) (part 4)\n",
"y = eval(solve(Q1-Q3,A))                  //Heat transfer area (m^2)\n",
"A1 = y                          //Required heat transfer area (m^2)\n",
"L = A1/(pi*D)                       //Required heat transfer length (m)\n",
"Qmo = mo*co*(T1-t1)                 //Maximum duty of exchanger of oil (W) (part 5)\n",
"Qm = Qmw                            //Maximum duty of exchanger (W)\n",
"E = Q1/Qm*100                       //Effectiveness (%)\n",
"NTU = Ud2*A1/(mw*cw)                //Number of transfer units\n",
"//Result:\n",
"disp('1. The lowest possible temperature of the water is :')\n",
"disp(T2m) \n",
"disp(' C .')\n",
"disp('2. The log mean temperature difference is : ')\n",
"disp (DTlm)\n",
"disp(' C .')\n",
"disp('3. The overall heat transfer coefficient for the new clean exchanger is : ')\n",
"disp (Ud2)\n",
"disp ('W/m^2. C .')\n",
"disp('4. The length of the double pipe heat exchanger is : ')\n",
"disp(L)\n",
"disp (' m .')\n",
"disp('5. The effectiveness of the exchanger is : ')\n",
"disp(E)\n",
"disp('%')\n",
"disp('The NTU of the exchanger is : ')\n",
"disp(NTU)\n",
"// Answers are correct. Please calculate manually."
   ]
   }
],
"metadata": {
		  "kernelspec": {
		   "display_name": "Scilab",
		   "language": "scilab",
		   "name": "scilab"
		  },
		  "language_info": {
		   "file_extension": ".sce",
		   "help_links": [
			{
			 "text": "MetaKernel Magics",
			 "url": "https://github.com/calysto/metakernel/blob/master/metakernel/magics/README.md"
			}
		   ],
		   "mimetype": "text/x-octave",
		   "name": "scilab",
		   "version": "0.7.1"
		  }
		 },
		 "nbformat": 4,
		 "nbformat_minor": 0
}
