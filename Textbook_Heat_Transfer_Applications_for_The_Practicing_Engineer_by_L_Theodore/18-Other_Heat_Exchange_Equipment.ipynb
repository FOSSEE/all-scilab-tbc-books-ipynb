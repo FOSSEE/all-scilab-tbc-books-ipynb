{
"cells": [
 {
		   "cell_type": "markdown",
	   "metadata": {},
	   "source": [
       "# Chapter 18: Other Heat Exchange Equipment"
	   ]
	},
{
		   "cell_type": "markdown",
		   "metadata": {},
		   "source": [
			"## Example 18.10: Example.sce"
		   ]
		  },
  {
"cell_type": "code",
	   "execution_count": null,
	   "metadata": {
	    "collapsed": true
	   },
	   "outputs": [],
"source": [
"//Variable declaration:\n",
"T1 = 2000                       //Hot gas temperature ( F)\n",
"T2 = 550                        //Cool gas temperature ( F)\n",
"T3 = 330                        //Steam temperature ( F)\n",
"T4 = 140                        //Water temperature ( F)\n",
"m = 30000                       //Mass flow rate of steam (lb/h)\n",
"cp = 0.279                      //Average heat capacity of gas (Btu/lb. F)\n",
"N = 800                         //Number of boiler tubes\n",
"//Calculation:\n",
"DT = (T1-T3)/(T2-T3)            //Temperature difference ratio\n",
"Tav = (T1+T2)/2                 //Average gas temperature ( F)\n",
"//From steam tables (Appendix):\n",
"hs = 1187.7                     //Steam enthalpy (Btu/lb)\n",
"hw = 107.89                     //Water enthalpy (Btu/lb)\n",
"Q = m*(hs-hw)                   //Heat duty (Btu/h)\n",
"mh = Q/cp*(T1-T2)               //Mass flow rate of gas (lb/h)\n",
"x = mh/N                        //Gas mass flow rate per tube (lb/h)\n",
"//From figure 18.5:\n",
"L = 15                          //Length of boiler tubes (ft)\n",
"//Result:\n",
"printf('The length of boiler tubes is : %f ft .',L)"
   ]
   }
,
{
		   "cell_type": "markdown",
		   "metadata": {},
		   "source": [
			"## Example 18.12: Example.sce"
		   ]
		  },
  {
"cell_type": "code",
	   "execution_count": null,
	   "metadata": {
	    "collapsed": true
	   },
	   "outputs": [],
"source": [
"//Variable declaration:\n",
"T1 = 1800                       //Hot gas temperature ( F)\n",
"T2 = 500                        //Cool gas temperature ( F)\n",
"//From steam tables:\n",
"Tw = 312                        //Boiling point of water at 80 psia ( F)\n",
"m1 = 120000                     //Mass flow rate of flue gas (lb/h)\n",
"D = 2/12                        //Inside diameter of tube (ft)\n",
"cp = 0.26                       //Average heat capacity of flue gas (Btu/lb. F)\n",
"//Calculation:\n",
"DT = (T1-Tw)/(T2-Tw)            //Temperature difference ratio\n",
"Tav = (T1+T2)/2                 //Average gas temperature ( F)\n",
"//From figure 18.4:\n",
"x = 150                         //Gas mass flow rate per tube (m/N) (lb/h)\n",
"N = m1/x                        //Number of tubes\n",
"L = 21.5                        //Length of tubes (ft)\n",
"A = N*L*D                       //Total heat transfer area (ft^2)\n",
"Q = m1*cp*(T1-T2)               //Heat duty (Btu/h)\n",
"//From steam tables (Appendix):\n",
"hs = 1183.1                     //Steam enthalpy at 80 psia (Btu/lb)\n",
"hw = 168.1                      //Water enthalpy at 200 F (Btu/lb)\n",
"m2 = Q/(hs-hw)                  //Mass flow rate of water (lb/h)\n",
"m2 = round(m2*10**-4)/10**-4\n",
"//Result:\n",
"printf('The required heat transfer area is : %.0f ft^2 .',A)\n",
"printf('The tube length is : %f ft .',L)\n",
"printf('The heat duty is : %.2f x 10^7 .',Q/10**7)\n",
"printf('The water mass flow rate is : %f lb/h .',m2)"
   ]
   }
,
{
		   "cell_type": "markdown",
		   "metadata": {},
		   "source": [
			"## Example 18.18: Example.sce"
		   ]
		  },
  {
"cell_type": "code",
	   "execution_count": null,
	   "metadata": {
	    "collapsed": true
	   },
	   "outputs": [],
"source": [
"//Variable declaration:\n",
"m1 = 144206                     //Mass flow rate of flue gas (lb/h)\n",
"cp = 0.3                        //Average flue gas heat capacity (Btu/lb. F)\n",
"T1 = 2050                       //Initial temperature of gas ( F)\n",
"T2 = 560                        //Final temperature of gas ( F)\n",
"T3 = 70                         //Ambient air temperature ( F)\n",
"//Calculation:\n",
"Q = m1*cp*(T1-T2)               //Duty rate (Btu/h)\n",
"//From appendix:\n",
"cpa = 0.243                     //Average ambient air heat capacity 70 F (Btu/lb. F)\n",
"MW = 29                         //Molecular weight of air at 70 F\n",
"Q5 = round(Q*10**-5)/10**-5\n",
"ma = Q5/(cpa*(T2-T3))  //Mass of air required (lb/h)\n",
"m2 = round(ma)/MW               //Moles of air required (lb mol/h)\n",
"m3 = round(ma)*13.32            //Volume of air required (ft^3/h)\n",
"ma = round(ma*10**-2)/10**-2\n",
"m2 = round(m2*10**-1)/10**-1\n",
"m3 = round(m3*10**-3)/10**-3\n",
"//Result:\n",
"printf('The mass of air required is : %f lb/h .',ma)\n",
"printf('The moles of air required is : %f lb mol/h .',m2)\n",
"printf('The volume of air required is : %f ft^3/h .',m3)"
   ]
   }
,
{
		   "cell_type": "markdown",
		   "metadata": {},
		   "source": [
			"## Example 18.19: Example.sce"
		   ]
		  },
  {
"cell_type": "code",
	   "execution_count": null,
	   "metadata": {
	    "collapsed": true
	   },
	   "outputs": [],
"source": [
"//Variable declaration:\n",
"//From example 18.19:\n",
"m1 = 144200                     //Mass flow rate of flue gas (lb/h)\n",
"m2 = 541700                     //Mass flow rate of air (lb/h)\n",
"R = 0.73                        //Universal gas constant (psia.ft^3/lbmol. R)\n",
"P = 1                           //Absolute pressure (psia)\n",
"T = 1020                        //Absolute temperature ( R)\n",
"MW = 29                         //Molecular weight of air\n",
"t = 1.5                         //Residence time (s)\n",
"//Calculation:\n",
"m = m1+m2                       //Total mass flow rate of the gas (lb/h)\n",
"q = m*R*T/(P*MW)                //Volumetric flow at 560 F (ft^3/h)\n",
"V = q*t/3600                    //Volume of tank (ft^3)\n",
"m = round(m*10**-2)/10**-2\n",
"//Result:\n",
"printf('The total mass flow rate of the gas is : %f lb/h .',m)\n",
"printf('The volumetric flow at 560 F is : %.2f  x 10^7 ft^3/h',q/10**7)\n",
"printf('The volume of tank is : %.0f ft^3 .',V)"
   ]
   }
,
{
		   "cell_type": "markdown",
		   "metadata": {},
		   "source": [
			"## Example 18.20: Example.sce"
		   ]
		  },
  {
"cell_type": "code",
	   "execution_count": null,
	   "metadata": {
	    "collapsed": true
	   },
	   "outputs": [],
"source": [
"//Variable declaration:\n",
"//Fro example 18.20:\n",
"V = 7335                    //Volume of tank (ft^3)\n",
"//Calculation:\n",
"D = (4*V/%pi)**(1/3)         //Diameter of tank (ft)\n",
"H = D                       //Height of tube (ft)\n",
"//Result:\n",
"printf('The diameter of tank is : %.2f ft .',H)\n",
"printf('The height of tube is : %.2f ft .',D)"
   ]
   }
,
{
		   "cell_type": "markdown",
		   "metadata": {},
		   "source": [
			"## Example 18.21: Example.sce"
		   ]
		  },
  {
"cell_type": "code",
	   "execution_count": null,
	   "metadata": {
	    "collapsed": true
	   },
	   "outputs": [],
"source": [
"//Variable declaration:\n",
"m1 = 144206                     //Mass flow rate of flue gas (lb/h)\n",
"cp1 = 0.3                       //Average heat capacities of the flue gas (Btu/lb F)\n",
"cp2 = 0.88                      //Average heat capacities of the solid (Btu/lb F)\n",
"//From example 18.18:\n",
"T1 = 550                        //Initial temperature of gas ( F)\n",
"T2 = 2050                       //Final temperature of gas ( F)\n",
"T3 = 70                         //Initial temperature of solid ( F)\n",
"T4 = 550-40                     //Final temperature of solid ( F)\n",
"//Calculation:\n",
"Dhf = m1*cp1*(T2-T1)            //For the flue gas, the enthalpy change for one hour of operation (Btu)\n",
"Dhs = round(Dhf*10**-4)/10**-4  //For the solids, the enthalpy change for one hour of operation (Btu)\n",
"m2 = Dhs/(cp2*(T4-T3))          //Mass of solid (lb)\n",
"//Result:\n",
"printf('The mass of solid is : %.0f lb .',m2)"
   ]
   }
,
{
		   "cell_type": "markdown",
		   "metadata": {},
		   "source": [
			"## Example 18.22: Example.sce"
		   ]
		  },
  {
"cell_type": "code",
	   "execution_count": null,
	   "metadata": {
	    "collapsed": true
	   },
	   "outputs": [],
"source": [
"//Variable declaration:\n",
"//From example 18.21:\n",
"m = 144206                      //Mass flow rate of flue gas (lb/h)\n",
"cp = 0.3                        //Average heat capacities of the flue gas (Btu/lb F)\n",
"T1 = 2050                       //Initial temperature of gas ( F)\n",
"T2 = 180                        //Final temperature of gas ( F)\n",
"T3 = 60                         //Ambient air temperature ( F)\n",
"U = 1.5                         //Overall heat transfer coefficient for cooler (Btu/h.ft^2. F)\n",
"MW = 28.27                      //Molecular weight of gas\n",
"R = 379                         //Universal gas constant (psia.ft^3/lbmol. R)\n",
"v = 60                          //Duct or pipe velcity at inlet (2050 F) (ft/s)\n",
"pi = %pi\n",
"//Calculation:\n",
"Q = m*cp*(T1-T2)                //Heat duty (Btu/h)\n",
"DTlm = ((T1-T3)-(T2-T3))/log((T1-T3)/(T2-T3))   //Log-mean temperature difference ( F)\n",
"A1 = round(Q * 10**-5)/10**-5/(U*round(DTlm))                 //Radiative surface area (ft^2)\n",
"q = m*R*(T1+460)/(T3+460)/MW    //Volumetric flow at inlet (ft^3/h)\n",
"A2 = q/(v*3600)                 //Duct area (ft^2)\n",
"D = sqrt(A2*4/pi)               //Duct diameter (ft)\n",
"L = A1/(pi*D)                   //Length of required heat exchange ducting (ft)\n",
"A1 = round(A1*10**-1)/10**-1\n",
"//Result:\n",
"printf(' The radiative surface area required is : %f ft^2 .',A1)\n",
"printf(' The length of required heat exchange ducting is : %.0f ft .',L)"
   ]
   }
,
{
		   "cell_type": "markdown",
		   "metadata": {},
		   "source": [
			"## Example 18.2: Example.sce"
		   ]
		  },
  {
"cell_type": "code",
	   "execution_count": null,
	   "metadata": {
	    "collapsed": true
	   },
	   "outputs": [],
"source": [
"//Variable declaration:\n",
"T1 = 25                      //Temperature of H2SO4 ( C)\n",
"m = 50+200                   //Mass of H2SO4 (lb)\n",
"//From figure 18.2:\n",
"W1 = 50+100                  //Weight of H2SO4 (lb)\n",
"W2 = 100                     //Weight of H2O (lb)\n",
"//Calculation:\n",
"m = W1/(W1+W2)*100          //Percent weight of H2SO4 (%)\n",
"m2 = W1+W2                  //Mass of mixture (lb)\n",
"//From fgure 18.2:\n",
"T2 = 140                    //Final temperature between the 50% solution and pure H2SO4 at  25 C ( F)\n",
"h1 = -86                    //Specific heat capacity of H2O (Btu/lb)\n",
"h2 = -121.5                 //Specific heat capacity of H2SO4 (Btu/lb)\n",
"Q = m2*(h2-h1)              //Heat transferred (Btu)\n",
"//Result:\n",
"printf('The final temperature between the 50%% solution and pure H2SO4 at  25 C is : %.0f F .',T2)\n",
"printf('The heat transferred is : %.0f Btu .',Q)"
   ]
   }
,
{
		   "cell_type": "markdown",
		   "metadata": {},
		   "source": [
			"## Example 18.3: Example.sce"
		   ]
		  },
  {
"cell_type": "code",
	   "execution_count": null,
	   "metadata": {
	    "collapsed": true
	   },
	   "outputs": [],
"source": [
"//Variable declaration:\n",
"F = 10000                       //Mass flow rate of NaOH (lb/h)\n",
"C1 = 10                         //Old concentration of NaOH solution (%)\n",
"C2 = 75                         //New concentration of NaOH solution (%)\n",
"h1 = 1150                       //Enthalpy of saturated steam at 14.7 psia (Btu/lb)\n",
"U = 500                         //Overall heat transfer coefficient (Btu/h.ft^2. F)\n",
"T1 = 212                        //Absolute temperature of evaporator ( F)\n",
"T2 = 340                        //Saturated steam temperature ( F)\n",
"//Calculation:\n",
"L = F*(C1/100)/(C2/100)         //Flow rate of steam leaving the evaporator (lb/h)\n",
"V = F-L                         //Overall material balance (lb/h)\n",
"//From figure 18.3:\n",
"hF = 81                         //Enthalpy of solution entering the unit (Btu/lb)\n",
"hL = 395                        //Enthalpy of the 75% NaOH solution (Btu/lb)\n",
"Q = round(V)*h1+round(L)*hL-F*hF    //Evaporator heat required (Btu/h)\n",
"A = Q/(U*(T2-T1))               //Area of the evaporaor (ft^2)\n",
"Q = round(Q*10**-2)/10**-2\n",
"//Result:\n",
"printf('The heat transfer rate required for the evaporator is : %f Btu/h ',Q)\n",
"printf('The area requirement in the evaporator is : %.1f ft^2 .',A)"
   ]
   }
,
{
		   "cell_type": "markdown",
		   "metadata": {},
		   "source": [
			"## Example 18.4: Example.sce"
		   ]
		  },
  {
"cell_type": "code",
	   "execution_count": null,
	   "metadata": {
	    "collapsed": true
	   },
	   "outputs": [],
"source": [
"//Variable declaration:\n",
"U1 = 240                    //Overall heat transfer coefficient for first effect (Btu/h.ft^2. F)\n",
"U2 = 200                    //Overall heat transfer coefficient for second effect (Btu/h.ft^2. F)\n",
"U3 = 125                    //Overall heat transfer coefficient for third effect (Btu/h.ft^2. F)\n",
"A1 = 125                    //Heating surface area in first effect (ft^3)\n",
"A2 = 150                    //Heating surface area in second effect (ft^3)\n",
"A3 = 160                    //Heating surface area in third effect (ft^3)\n",
"T1 = 400                    //Condensation stream temperature in the first effect ( F)\n",
"T2 = 120                    //Vapor leaving temperature in the first effect ( F)\n",
"//Calculation:\n",
"R1 = 1/(U1*A1)              //Resistance across first effect\n",
"R2 = 1/(U2*A2)              //Resistance across second effect\n",
"R3 = 1/(U3*A3)              //Resistance across third effect\n",
"R = R1+R2+R3                //Total resistance\n",
"DT1 = (R1/R)*(T1-T2)        //Temperature drop across the heating surface in the first effect ( F)\n",
"//Result:\n",
"printf('The temperature drop across the heating surface in the first effect is : %.0f F .',DT1)"
   ]
   }
,
{
		   "cell_type": "markdown",
		   "metadata": {},
		   "source": [
			"## Example 18.6: Example.sce"
		   ]
		  },
  {
"cell_type": "code",
	   "execution_count": null,
	   "metadata": {
	    "collapsed": true
	   },
	   "outputs": [],
"source": [
"//Variable declaration:\n",
"F = 5000                        //Mass of soltuion fed in the evaporator (lb)\n",
"xF = 2/100                      //Concentration of feed\n",
"xL = 5/100                      //Concentration of liquor\n",
"U = 280                         //Overall heat transfer coefficient (Btu/h.ft^2. F)\n",
"//From figure 18.1 & 18.3:\n",
"TF = 100                        //Feed temperature ( F)\n",
"TS = 227                        //Steam temperature ( F)\n",
"TV = 212                        //Vapour temperature ( F)\n",
"TL = 212                        //Liquor temperature ( F)\n",
"TC = 227                        //Condensate temperature ( F)\n",
"//Calculation:\n",
"//From steam tables:\n",
"hF = 68                         //Enthalpy of feed (Btu/lb)\n",
"hL = 180                        //Enthalpy of liquor (Btu/lb)\n",
"hV = 1150                       //Enthalpy of vapour (Btu/lb)\n",
"hS = 1156                       //Enthalpy of steam (Btu/lb)\n",
"hC = 195                        //Enthalpy of condensate (Btu/lb)\n",
"s1 = F*xF                       //Total solids in feed (lb)\n",
"w = F-s1                        //Total water in feed (lb)\n",
"s2 = F*xF                       //Total solids in liquor (lb)\n",
"L = s2/xL                       //Total water in liquor (lb)\n",
"V = F-L                         //Overall balance (lb)\n",
"S = (V*hV+L*hL-F*hF)/(hS-hC)    //Mass of steam (lb)\n",
"Q = S*(hS-hC)                   //Total heat requirement (Btu)\n",
"A = Q/(U*(TS-TL))               //Required surface aea (ft^2)\n",
"//Result:\n",
"printf('The mass of vapor produced is : %.0f lb .',V)\n",
"printf('The total mass of steam required is : %.0f lb .',S)\n",
"printf('The surface area required is : %.0f ft^2 .',A)"
   ]
   }
,
{
		   "cell_type": "markdown",
		   "metadata": {},
		   "source": [
			"## Example 18.7: Example.sce"
		   ]
		  },
  {
"cell_type": "code",
	   "execution_count": null,
	   "metadata": {
	    "collapsed": true
	   },
	   "outputs": [],
"source": [
"//Variable declaration:\n",
"F = 5000                        //Mass flow rate of NaOH (lb/h)\n",
"xF = 20/100                     //Old concentration of NaOH solution\n",
"TF = 100                        //Feed temperature ( F)\n",
"xL = 40/100                     //New concentration of NaOH solution\n",
"xv = 0                          //Vapour concentration at x\n",
"yv = 0                          //Vapour concentration at y\n",
"T1 = 198                        //Boiling temperature of solution in the evaporator ( F)\n",
"T2 = 125                        //Saturated steam temperature ( F)\n",
"U = 400                         //Overall heat transfer coefficient (Btu/h.ft^2. F)\n",
"Ts = 228                        //Steam temperature ( F)\n",
"//Calculation:\n",
"//From steam tables at 228 F and 5 psig:\n",
"hS = 1156                       //Enthalpy of steam (Btu/lb)\n",
"hC = 196                        //Enthalpy of condensate (Btu/lb)\n",
"hV = hS-hC                      //Enthalpy of vapour (Btu/lb)\n",
"Tw = 125.4                      //Boiling point of water at 4 in Hg absolute ( F)\n",
"hS2 = 1116                      //Enthalpy of saturated steam at 125 F (Btu/lb)\n",
"hs = 0.46                       //Heat capacity of superheated steam (Btu/lb. F)\n",
"//From figure 18.3:\n",
"hF = 55                         //Enthalpy of feed (Btu/lb)\n",
"hL = 177                        //Enthalpy of liquor (Btu/lb)\n",
"L = F*xF/xL                     //Mass of liquor (lb)\n",
"V = L                           //Mass of vapour (lb)\n",
"hV = hS2+hs*(T1-T2)             //Enthalpy of vapour leaving the solution (Btu/lb)\n",
"S = (V*hV+L*hL-F*hF)/(hS-hC)    //Mass flow rate of steam (lb/h)\n",
"Q = S*(hS-hC)                   //Total heat requirement (Btu)\n",
"A = Q/(U*(Ts-T1))               //Required heat transfer area (ft^2)\n",
"S = round(S*10**-1)/10**-1\n",
"//Result:\n",
"printf('The steam flow rate is : %f lb/h .',S)\n",
"printf('The required heat transfer area is : %.0f ft^2 .',A)"
   ]
   }
],
"metadata": {
		  "kernelspec": {
		   "display_name": "Scilab",
		   "language": "scilab",
		   "name": "scilab"
		  },
		  "language_info": {
		   "file_extension": ".sce",
		   "help_links": [
			{
			 "text": "MetaKernel Magics",
			 "url": "https://github.com/calysto/metakernel/blob/master/metakernel/magics/README.md"
			}
		   ],
		   "mimetype": "text/x-octave",
		   "name": "scilab",
		   "version": "0.7.1"
		  }
		 },
		 "nbformat": 4,
		 "nbformat_minor": 0
}
