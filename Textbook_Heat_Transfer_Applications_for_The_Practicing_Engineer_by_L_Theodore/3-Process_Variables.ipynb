{
"cells": [
 {
		   "cell_type": "markdown",
	   "metadata": {},
	   "source": [
       "# Chapter 3: Process Variables"
	   ]
	},
{
		   "cell_type": "markdown",
		   "metadata": {},
		   "source": [
			"## Example 3.11: Example.sce"
		   ]
		  },
  {
"cell_type": "code",
	   "execution_count": null,
	   "metadata": {
	    "collapsed": true
	   },
	   "outputs": [],
"source": [
"//Variable declaration:\n",
"D = 5                       //Diameter of pipe (ft)\n",
"V = 10                      //Fluid velocity (ft/s)\n",
"p = 50                      //Fluid density (lb/ft^3)\n",
"u = 0.65                    //Fluid viscosity (lb/ft.s)\n",
"F = 1.0/12.0                //Feet in an inch\n",
"VCp = 6.72*10**-4           //Viscosity of centipoise (lb/ft.s)\n",
" \n",
"//Calculation:\n",
"A = D*V*p*F/u/VCp           //Reynolds Number\n",
" \n",
"//Result:\n",
"if(A>2100) then\n",
"    printf('The Reynolds number is :%.0f  therefore, the flow is turbulent.',A)\n",
"else\n",
"    if(A<2100) then\n",
"     printf('The Reynolds number is : %f therefore, the flow is not turbulent.',A)\n",
"end\n",
"end;"
   ]
   }
,
{
		   "cell_type": "markdown",
		   "metadata": {},
		   "source": [
			"## Example 3.12: Example.sce"
		   ]
		  },
  {
"cell_type": "code",
	   "execution_count": null,
	   "metadata": {
	    "collapsed": true
	   },
	   "outputs": [],
"source": [
"//Variable declaration:\n",
"//For the problem at hand, take as a basis 1 kilogram of water and assume the potential energy to be zero at ground level conditions.\n",
"z1 = 0                      //Intial height from ground level (m)\n",
"z2 = 10                     //Final height from ground level (m)\n",
"PE1 = 0                     //Initial potential energy at z1 (J)\n",
"m = 1                       //Mass of water (kg)\n",
"g = 9.8                     //Gravitational acceleration (m/s^2)\n",
"gc = 1                      //Conversion factor\n",
" \n",
"//Calculations:\n",
"PE2 = m*(g/gc)*z2           //Final potential energy at z2 (J)\n",
" \n",
"//Result:\n",
"disp('The potential energy of water is :')\n",
"disp(PE2)\n",
"disp('J ')"
   ]
   }
,
{
		   "cell_type": "markdown",
		   "metadata": {},
		   "source": [
			"## Example 3.2: Example2.sce"
		   ]
		  },
  {
"cell_type": "code",
	   "execution_count": null,
	   "metadata": {
	    "collapsed": true
	   },
	   "outputs": [],
"source": [
" \n",
"//Variable Declaration:\n",
"Q1 = 8.03                       //Years(part 1)\n",
"D = 365                         //Days in a year\n",
"H = 24                          //Hours in a day\n",
"M = 60                          //Minutes in an hour\n",
"S = 60                          //Seconds in a minute\n",
"Q2 = 150                        //Miles per hour(part 2)\n",
"FM = 5280                       //Feet in a mile\n",
"YF = 1.0/3.0                    //Yard in a feet\n",
"Q3 = 100                        //Meter per second square(part 3)\n",
"Cmm = 100                       //Centimeter in a meter\n",
"FC = 1.0/30.48                  //Feet in a centimeter\n",
"SsMs = 60**2                    //Second square in a minute square\n",
"Q4 = 0.03                       //Gram per centimeter cube (part 4)\n",
"PG = 1.0/454.0                  //Pound  in a gram\n",
"CF = (30.48)**3                 //Centimeter in a feet\n",
" \n",
"//Calculation:\n",
"A1 = Q1*D*H*M*S                 //Seconds (s)\n",
"A2 = Q2*FM*YF                   //Yards per hour (yd/hr)\n",
"A3 = Q3*Cmm*FC*SsMs             //Feet per min square (ft/min^2)\n",
"A4 = Q4*PG*CF                   //Pound per feet cube (lb/ft^3)\n",
" \n",
"//Results:\n",
"printf('1. Seconds in %f year is: %f x 10**8 s',Q1,A1/10**8)\n",
"printf('2. Yards per hour in %f miles per hour is: %f x 10**5 yd/h',Q2,A2/10**5)\n",
"printf('3. Feets per minute square in %f meter per square is: %f  x 10**6 ft/min^2',Q3,A3/10**6)\n",
"printf('4. Pounds per feet cube in %f gram per centimeter cube is: %.0f lb/ft^3',Q4,A4)"
   ]
   }
,
{
		   "cell_type": "markdown",
		   "metadata": {},
		   "source": [
			"## Example 3.3: Example.sce"
		   ]
		  },
  {
"cell_type": "code",
	   "execution_count": null,
	   "metadata": {
	    "collapsed": true
	   },
	   "outputs": [],
"source": [
"//Variable Declaration:\n",
"Q1 = 32.2                   //Gravitational acceleration (ft/s^2) (part 1)\n",
"CF = 32.2                   //Conversion factor (lb.ft/lbf.s^2)\n",
"M = 100                     //Mass (lb)\n",
"SA = 3                      //Surface area (in^2)\n",
"FsIs = (1.0/12.0)**2        //Feet square in a inch square\n",
"Q2 = 14.7                   //Atmospheric pressure (psi) (part 2)\n",
"GP = 35                     //Gauge Pressure (psig)\n",
" \n",
"//Caculations:\n",
"F = M*Q1/CF                 //Force (lbf)\n",
"P = F/SA/FsIs               //Pressure at the base (lbf/ft^2)\n",
"Pa = GP+Q2                  //Absolute pressure (psia)\n",
" \n",
"//Results:\n",
"disp('1. Pressure at the base is:')\n",
"disp(P)\n",
"disp('lbf/ft^2')\n",
"disp('2. Absolute pressure is:')\n",
"disp(Pa)\n",
"disp('psia')"
   ]
   }
,
{
		   "cell_type": "markdown",
		   "metadata": {},
		   "source": [
			"## Example 3.4: Example_4.sce"
		   ]
		  },
  {
"cell_type": "code",
	   "execution_count": null,
	   "metadata": {
	    "collapsed": true
	   },
	   "outputs": [],
"source": [
"//Variable Declaration:\n",
"Q1 = 20.0                   //Mass (lb) (part 1)\n",
"MH = 1.008                  //Molecular weight of H (lb/lbmol)\n",
"MO = 15.999                 //Molecular weight of O (lb/lbmol)\n",
"Q2 = 454                    //Gram in pound (part 2)\n",
"Q3 = 6.023*10**23           //Avogadro nuber (part 3)\n",
" \n",
"//Calculations:\n",
"Mol = 2*MH+MO               //Molecular weight of water (lb/lbmol)\n",
"A1 = Q1/Mol                 //Pound.moles of water (lbmol)\n",
"A2 = Q1*Q2/Mol              //Gram.moles of water (gmol)\n",
"A3 = A2*Q3                  //Molecules of water (molecules)\n",
" \n",
"//Results:\n",
"disp('1. Pound.moles of water is:')\n",
"disp(A1)\n",
"disp('lbmol water')\n",
"disp('2. Gram.moles of water is:')\n",
"disp(A2)\n",
"disp('gmol water')\n",
"disp('3. Molecules of water is:')\n",
"disp(A3/10**26)\n",
"disp(' x 10**26 molecules')"
   ]
   }
,
{
		   "cell_type": "markdown",
		   "metadata": {},
		   "source": [
			"## Example 3.5: Example_5.sce"
		   ]
		  },
  {
"cell_type": "code",
	   "execution_count": null,
	   "metadata": {
	    "collapsed": true
	   },
	   "outputs": [],
"source": [
"//Variable declaration:\n",
"SG = 0.92               //Specific gavity of liquid, methanol\n",
"DW = 62.4               //Density of reference substance, water (lb/ft^3)\n",
" \n",
"//Calculation:\n",
"DM = SG*DW              //Density of methanol (lb/ft^3)\n",
" \n",
"//Result:\n",
"disp('Density of methanol is:')\n",
"disp(DM)\n",
"disp('lb/ft^3')"
   ]
   }
,
{
		   "cell_type": "markdown",
		   "metadata": {},
		   "source": [
			"## Example 3.6: Example_6.sce"
		   ]
		  },
  {
"cell_type": "code",
	   "execution_count": null,
	   "metadata": {
	    "collapsed": true
	   },
	   "outputs": [],
"source": [
"//Variable declaration:\n",
"SG = 0.8                    //Specific Gravity\n",
"AV = 0.02                   //Absolute Viscosity (cP)\n",
"cP = 1                      //Viscosity of centipoise (cP)\n",
"VcP = 6.72 * 10**-4         //Pound per feet.sec in a centipoise (lb/ft.s)\n",
"pR = 62.43                  //Reference density (lb/ft^3)\n",
" \n",
"//Calculations:\n",
"u = AV*VcP/cP               //Viscosity of gas (lb/ft.s)\n",
"p = SG*pR                   //Density of gas (lb/ft^3)\n",
"v = u/p                     //Kinematic viscosity of gas (ft^2/s)\n",
" \n",
"//Result:\n",
"disp('Kinematic viscosity of gas is:')\n",
"disp(v/10**-7)\n",
"disp ('x 10**-7 ft^2/s')"
   ]
   }
,
{
		   "cell_type": "markdown",
		   "metadata": {},
		   "source": [
			"## Example 3.7: Example.sce"
		   ]
		  },
  {
"cell_type": "code",
	   "execution_count": null,
	   "metadata": {
	    "collapsed": true
	   },
	   "outputs": [],
"source": [
"//Variable declaration:\n",
"X = 7.0                     //Coordinate X of H2SO4\n",
"Y = 24.8                    //Coordinate Y of H2SO4\n",
"S = 45                      //Slope\n",
" \n",
"//Calculations:\n",
"//From the figure C.1 we found the intersection of curves mu = 12cP\n",
"mu = 12\n",
" \n",
"//Results:\n",
"disp('Absolute viscosity of a 98% sulfuric acid solution at 45° C is :')\n",
"disp(mu*10**-2)\n",
"disp(' g/cm.s')"
   ]
   }
,
{
		   "cell_type": "markdown",
		   "metadata": {},
		   "source": [
			"## Example 3.8: Example.sce"
		   ]
		  },
  {
"cell_type": "code",
	   "execution_count": null,
	   "metadata": {
	    "collapsed": true
	   },
	   "outputs": [],
"source": [
"//Variable declaration:\n",
"CpM = 0.61                  //Heat capacity of methanol (cal/g.°C)\n",
"G = 454                     //Grams in a pound\n",
"B = 1.0/252.0               //Btu in a calorie\n",
"C = 1.0/1.8                 //Degree celsius in a degree fahrenheit\n",
" \n",
"//Calculation:\n",
"Cp = CpM*G*B*C              //Heat capacity in English units (Btu/lb.°F)\n",
" \n",
"//Result:\n",
"disp('Heat capacity in English units is: ')\n",
"disp(Cp)\n",
"disp(' Btu/lb.°F')"
   ]
   }
,
{
		   "cell_type": "markdown",
		   "metadata": {},
		   "source": [
			"## Example 3.9: Example.sce"
		   ]
		  },
  {
"cell_type": "code",
	   "execution_count": null,
	   "metadata": {
	    "collapsed": true
	   },
	   "outputs": [],
"source": [
"//Variable declaration:\n",
"kM = 0.0512                 //Thermal conductivity of methanol (cal/m.s°C)\n",
"B = 1.0/252.0               //Btu in a calorie\n",
"M = 0.3048                  //Meters in a feet\n",
"S = 3600                    //Seconds in an hour\n",
"C = 1.0/1.8                 //Degree celsius in a degree fahrenheit\n",
" \n",
"//Calculation:\n",
"k = kM*B*M*S*C              //Thermal conductivity in English units (Btu/ft.h.°F)\n",
" \n",
"//Result:\n",
"disp('Thermal coductivity in English units is:')\n",
"disp(k)\n",
"disp('Btu/ft.h.°F')"
   ]
   }
],
"metadata": {
		  "kernelspec": {
		   "display_name": "Scilab",
		   "language": "scilab",
		   "name": "scilab"
		  },
		  "language_info": {
		   "file_extension": ".sce",
		   "help_links": [
			{
			 "text": "MetaKernel Magics",
			 "url": "https://github.com/calysto/metakernel/blob/master/metakernel/magics/README.md"
			}
		   ],
		   "mimetype": "text/x-octave",
		   "name": "scilab",
		   "version": "0.7.1"
		  }
		 },
		 "nbformat": 4,
		 "nbformat_minor": 0
}
