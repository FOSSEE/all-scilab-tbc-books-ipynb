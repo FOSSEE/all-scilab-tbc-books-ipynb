{
"cells": [
 {
		   "cell_type": "markdown",
	   "metadata": {},
	   "source": [
       "# Chapter 4: The Conservation Law for Momentum"
	   ]
	},
{
		   "cell_type": "markdown",
		   "metadata": {},
		   "source": [
			"## Example 4.10: Example.sce"
		   ]
		  },
  {
"cell_type": "code",
	   "execution_count": null,
	   "metadata": {
	    "collapsed": true
	   },
	   "outputs": [],
"source": [
"//Variable declaration:\n",
"T_c1 = 20                               //Initial cold fluid temperature (°C)\n",
"T_h1 = 82                               //Initial hot fluid temperature (°C)\n",
"T_h2 = 94                               //Final hot fluid temperature (°C)\n",
"//Calculation:\n",
"T_c2 = (T_h2 - T_h1 + T_c1)             //Final cold fluid temperature (°C)\n",
"//Result:\n",
"printf ('The heat transfer rate is: %.0f  °C',T_c2)\n",
"printf ('There is a printing mistake in book regarding unit of the final result.')"
   ]
   }
,
{
		   "cell_type": "markdown",
		   "metadata": {},
		   "source": [
			"## Example 4.11: Example.sce"
		   ]
		  },
  {
"cell_type": "code",
	   "execution_count": null,
	   "metadata": {
	    "collapsed": true
	   },
	   "outputs": [],
"source": [
"//Variable declaration:\n",
"Q = -5.5*10**6                  //The heat transferred out from the gas (W)\n",
"Cp = 1090.0                     //The average heat capacity of the gas (J/(kg . °C))\n",
"m = 9.0                         //The gas mass flow rate (kg/s)\n",
"T1 = 650                        //The gas inlet temperature (°C)\n",
"//Calculation:\n",
"T2 = Q/(m*Cp)+T1                //The gas outlet temperature (°C)\n",
"//Result:\n",
"printf ('The gas outlet temperature is : %.0f  °C',T2)"
   ]
   }
,
{
		   "cell_type": "markdown",
		   "metadata": {},
		   "source": [
			"## Example 4.12: Example.sce"
		   ]
		  },
  {
"cell_type": "code",
	   "execution_count": null,
	   "metadata": {
	    "collapsed": true
	   },
	   "outputs": [],
"source": [
"//Variable declaration:\n",
"n = 3500.0                      //Inlet flowrate of water (gal/min)\n",
"Cp_W = 75.4                     //Heat capacity of water (J/(gmol . °C)\n",
"p = 62.4                        //Density of water (lb/ft^3)\n",
"M = 24*60.0                     //Minutes in a day (min/day)\n",
"G = 7.48                        //Gallons in a feet cube (gal/ft^3)\n",
"gm = 454.0                      //Grams in a pound (g/lb)\n",
"J = 1054.0                      //Joules in a Btu (J/Btu)\n",
"g = 18.0                        //Grams in a gmol (g/gmol)\n",
"F = 1.8                         //Degree fahrenheit in a degree celcius (°F)\n",
"Ti = 38.0                       //Initial temperature (°F)\n",
"Tf = 36.2                       //Final temperature (°F)\n",
"//Calculations:\n",
"T= Ti-Tf                        //Temperature loss (°F)\n",
"m = n*p*M/G                     //Mass flow rate of water (lb/day)\n",
"Cp = Cp_W*gm/J/g/F              //Heat capacity in cosistent units (Btu/(lb.°F))\n",
"Q = m*Cp*T                      //Rate of heat flow from water (Btu/day)\n",
"//Result:\n",
"printf ('The rate of Btu removed from the water per day is : %.2f  x 10**8 Btu/day.',Q/10**8)\n",
"printf ('There is a calculation mistake in the book regarding the final result.')"
   ]
   }
,
{
		   "cell_type": "markdown",
		   "metadata": {},
		   "source": [
			"## Example 4.1: Example.sce"
		   ]
		  },
  {
"cell_type": "code",
	   "execution_count": null,
	   "metadata": {
	    "collapsed": true
	   },
	   "outputs": [],
"source": [
"//Variable declaration:\n",
"Vx_in = 420                     //Entry Velocity in X direction (m/s)\n",
"Vx_out = 0                      //Exit Velocity in X direction (m/s)\n",
"Vy_in = 0                       //Entry Velocity in Y direction (m/s)\n",
"Vy_out = 420                    //Exit Velocity in Y direction (m/s)\n",
"m =  0.15                       //Rate of water entrained by the steam (kg/s)\n",
"lb = 1.0/4.46                   //Pound force in a newton force\n",
"//Calculations:\n",
"Mx_out = m*Vx_out               //Rate of change of momentum at entry in x-direction (kg.m)\n",
"Mx_in = m*Vx_in                 //Rate of change of momentum at exit in x-direction  (kg.m)\n",
"My_out = m*Vy_out               //Rate of change of momentum at entry in y-direction (kg.m)\n",
"My_in = m*Vy_in                 //Rate of change of momentum at exit in y-direction  (kg.m)\n",
"Fxgc = (Mx_out - Mx_in)*lb      //Force in X direction (lbf)\n",
"Fygc = (My_out - My_in)*lb      //Force in X direction (lbf)\n",
"//Results:\n",
"if Fxgc < 1 then\n",
"    printf ('The x-direction supporting force acting on the 90° elbow is : %.1f lbf acting toward the left.',-Fxgc)\n",
"else\n",
"    printf ('The x-direction supporting force acting on the 90° elbow is : %.1f lbf acting toward the right.',Fxgc)\n",
"end\n",
"    \n",
"if Fygc < 1 then\n",
"    printf ('The y-direction supporting force acting on the 90° elbow is : %.1f lbf acting downwards.',-Fygc)\n",
"else\n",
"    printf ('The y-direction supporting force acting on the 90° elbow is : %.1f lbf acting upwards.',Fygc)\n",
"end"
   ]
   }
,
{
		   "cell_type": "markdown",
		   "metadata": {},
		   "source": [
			"## Example 4.2: Example.sce"
		   ]
		  },
  {
"cell_type": "code",
	   "execution_count": null,
	   "metadata": {
	    "collapsed": true
	   },
	   "outputs": [],
"source": [
"//Variable declaration:\n",
"Fx = -63                                //Force component in X direction (N)\n",
"Fy = 63                                 //Force component in Y direction (N)\n",
"lbf = 0.22481                           //Pound-forrce in unit newton (lbf)\n",
"//Calculations:\n",
"Fr = sqrt(Fx**2 + Fy**2)*lbf            //The resultant supporting force (lbf)\n",
"u = atand(Fy,Fx)               //Angle between the positive x axis and the direction of the force (degrees)\n",
"//Result: \n",
"if ( 0<u & u<90 ) then\n",
"    printf ('The supporting force is : %.1f lbf acting at %f ° i.e in the northeast direction.',Fr,u)\n",
"elseif (90<u & u<180) then\n",
"    printf ('The supporting force is : %.1f lbf acting at %f ° i.e in the northwest direction.',Fr,u)\n",
"elseif (180<u & u<270) then\n",
"    printf ('The supporting force is : %.1f lbf acting at %f ° i.e in the southwest direction.',Fr,u)\n",
"elseif (270<u & u<360) then\n",
"    printf ('The supporting force is : %.1f lbf acting at %f ° i.e in the southeast direction.',Fr,u)\n",
"end"
   ]
   }
,
{
		   "cell_type": "markdown",
		   "metadata": {},
		   "source": [
			"## Example 4.3: Example.sce"
		   ]
		  },
  {
"cell_type": "code",
	   "execution_count": null,
	   "metadata": {
	    "collapsed": true
	   },
	   "outputs": [],
"source": [
"//Variable declaration:\n",
"R1_in = 10000                   //Rate of fuel fed into the boiler (lb/h)\n",
"R2_1n = 20000                   //Rate of air fed into the boiler (lb/h)\n",
"R3_in = 2000                    //Rate of methane fed into the boiler (lb/h)\n",
"//Calculations:\n",
"m_in = R1_in + R2_1n + R3_in    //Rate of mass in (lb/h)\n",
"m_out = m_in                    //Rate of mass out (lb/h)\n",
"//Result:\n",
"printf ('The rate of the product gases exit from the incinerator is : %.0f lb/h',m_in)"
   ]
   }
,
{
		   "cell_type": "markdown",
		   "metadata": {},
		   "source": [
			"## Example 4.4: Example.sce"
		   ]
		  },
  {
"cell_type": "code",
	   "execution_count": null,
	   "metadata": {
	    "collapsed": true
	   },
	   "outputs": [],
"source": [
"//Variable declaration:\n",
"E1 = 65                             //Efficiency of spray tower (%)\n",
"E2 = 98                             //Efficiency of packed column (%)\n",
"m_in = 76                           //Mass flow rate of HCl entering the system (lb/h)\n",
"//Calculations:\n",
"m1_out = (1 - E1/100.0)*m_in        //Mass flow rate of HCl leaving the spray tower (lb/h)\n",
"m2_out = (1 - E2/100.0)*m1_out      //Mass flow rate of HCl entering the packed column (lb/h)\n",
"E = (m_in - m2_out)/m_in            //Overall fractional efficiency (%)\n",
"//Result:\n",
"printf ('The mass flow rate of HCl leaving the spray tower is : %.2f lb/h HCL',m1_out)\n",
"printf ('The mass flow rate of HCl entering the packed column is : %.3f lb/h HCL',m2_out)\n",
"printf ('The overall fractional efficiency is : %.2f %%',E*100)"
   ]
   }
,
{
		   "cell_type": "markdown",
		   "metadata": {},
		   "source": [
			"## Example 4.5: Example.sce"
		   ]
		  },
  {
"cell_type": "code",
	   "execution_count": null,
	   "metadata": {
	    "collapsed": true
	   },
	   "outputs": [],
"source": [
"//Variable declaration:\n",
"m1 = 1000                   //Flowrate data 1 (lb/min)\n",
"m2 = 1000                   //Flowrate data 2 (lb/min)\n",
"m4 = 200                    //Flowrate data 4 (lb/min)\n",
"//Calculations:\n",
"m5 = m1 + m2 - m4           //Flowrate data 5 (lb/min)\n",
"m6 = m2                     //Flowrate data 6 (lb/min)\n",
"m = m5 - m6                 //Flowrate of water lost in operation (lb/min)\n",
"//Result:\n",
"printf ('The amount of water lost by evaporation in the operation is %.0f lb/min',m)"
   ]
   }
,
{
		   "cell_type": "markdown",
		   "metadata": {},
		   "source": [
			"## Example 4.6: Example.sce"
		   ]
		  },
  {
"cell_type": "code",
	   "execution_count": null,
	   "metadata": {
	    "collapsed": true
	   },
	   "outputs": [],
"source": [
"//Variable declaration:\n",
"q1 = 1000.0                   //Volumetric flowrate from tank 1 (gal/day)\n",
"q2 = 1000.0                   //Volumetric flowrate from tank 2 (gal/day)\n",
"q3 = 2000.0                   //Volumetric flowrate from tank 3 (gal/day)\n",
"q4 = 200.0                    //Volumetric flowrate from tank 4 (gal/day)\n",
"q5 = 1800.0                   //Volumetric flowrate from tank 5 (gal/day)\n",
"q6 = 1000.0                   //Volumetric flowrate from tank 6 (gal/day)\n",
"C1 = 4.0                      //Phosphate concentration in tank 1 (ppm)\n",
"C2 = 0.0                      //Phosphate concentration in tank 2 (ppm)\n",
"C3 = 2.0                      //Phosphate concentration in tank 3 (ppm)\n",
"C4 = 20.0                     //Phosphate concentration in tank 4 (ppm)\n",
"C5 = 0.0                      //Phosphate concentration in tank 5 (ppm)\n",
"C6 = 0.0                      //Phosphate concentration in tank 6 (ppm)\n",
"Cf = 120000.0                 //conversion factor for water (gal/10**6lb)\n",
"//Calculations:\n",
"C1q1 = C1*q1/Cf             //Data 1 (lb/day)\n",
"C2q2 = C2*q2/Cf             //Data 2 (lb/day)\n",
"C3q3 = C3*q3/Cf             //Data 3 (lb/day)\n",
"C4q4 = C4*q4/Cf             //Data 4 (lb/day)\n",
"C5q5 = C5*q5/Cf             //Data 5 (lb/day)\n",
"C6q6 = C6*q6/Cf             //Data 6 (lb/day)\n",
"//Results:\n",
"if (((C1q1 + C2q2) == C3q3) &  C3q3 == (C4q4 + C5q5) & C5q5 == C6q6 & C2q2 == C6q6) then\n",
"     printf('The data appear to be consistent .')\n",
"else\n",
"     printf ('The data appear to be inconsistent .')\n",
"end    "
   ]
   }
,
{
		   "cell_type": "markdown",
		   "metadata": {},
		   "source": [
			"## Example 4.7: Example.sce"
		   ]
		  },
  {
"cell_type": "code",
	   "execution_count": null,
	   "metadata": {
	    "collapsed": true
	   },
	   "outputs": [],
"source": [
"//Variable declaration:\n",
"Dz = 3000                       //Height (ft)\n",
"V0 = 500000                     //Flowrate of water (gal/min)\n",
"n = 30                          //Turbine efficiency (%)\n",
"m = 0.3048                      //Meters in a feet\n",
"m3 = 0.00378                    //Meters-cube in a gallon\n",
"g = 9.8                         //Gravitational acceleration (m/s^2)\n",
"gc = 1                          //Conversion factor\n",
"MW = 10**(-6)                   //Megawatt in newton-meter-per-second\n",
"//Calculations:\n",
"V1 = (V0*m3)*1000.0/60.0        //The mass flow rate of the water in kilograms/second (kg/s)\n",
"DPE = V1*g*Dz*m/gc*MW           //The loss in potential energy (MW)\n",
"AP = n/100.0*DPE                //The actual power output (MW)\n",
"//Result:\n",
"printf ('The power generated by the lake located is : %.1f MW',AP)"
   ]
   }
,
{
		   "cell_type": "markdown",
		   "metadata": {},
		   "source": [
			"## Example 4.8: Example.sce"
		   ]
		  },
  {
"cell_type": "code",
	   "execution_count": null,
	   "metadata": {
	    "collapsed": true
	   },
	   "outputs": [],
"source": [
"//Variable declaration:\n",
"n = 111.4                   //Flowrate of air stream (lbmol/min)\n",
"H1 = 1170                   //Average heat capacity at 200°F (Btu/lbmol)\n",
"H2 = 4010                   //Average heat capacity at 600°F (Btu/lbmol)\n",
"//Calculation:\n",
"Q = n*(H2 - H1)             //The heat transfer rate (Btu/min)\n",
"//Result:\n",
"printf ('The heat transfer rate required is: %.2f x 10**5 Btu/min',Q/10**5)"
   ]
   }
,
{
		   "cell_type": "markdown",
		   "metadata": {},
		   "source": [
			"## Example 4.9: Example.sce"
		   ]
		  },
  {
"cell_type": "code",
	   "execution_count": null,
	   "metadata": {
	    "collapsed": true
	   },
	   "outputs": [],
"source": [
"//Variable declaration:\n",
"n = 600                     //The mass flow rate of fluid (lbmol/min)\n",
"Cp_AV = 0.271               //Heat capacity (Btu/lbmol . °F)\n",
"T1 = 200                    //Initial temperature(°F)\n",
"T2 = 600                    //Final temperature(°F)\n",
"//Calcultaion:\n",
"Q = n*Cp_AV*(T2 - T1)       //The required heat rate (Btu/min)\n",
"Q = Q - modulo(Q,1000)\n",
"//Result:\n",
"printf ('The required heat rate is : %.0f Btu/min',Q)"
   ]
   }
],
"metadata": {
		  "kernelspec": {
		   "display_name": "Scilab",
		   "language": "scilab",
		   "name": "scilab"
		  },
		  "language_info": {
		   "file_extension": ".sce",
		   "help_links": [
			{
			 "text": "MetaKernel Magics",
			 "url": "https://github.com/calysto/metakernel/blob/master/metakernel/magics/README.md"
			}
		   ],
		   "mimetype": "text/x-octave",
		   "name": "scilab",
		   "version": "0.7.1"
		  }
		 },
		 "nbformat": 4,
		 "nbformat_minor": 0
}
