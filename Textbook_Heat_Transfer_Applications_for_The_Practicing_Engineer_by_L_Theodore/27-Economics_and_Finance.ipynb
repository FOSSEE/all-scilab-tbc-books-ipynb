{
"cells": [
 {
		   "cell_type": "markdown",
	   "metadata": {},
	   "source": [
       "# Chapter 27: Economics and Finance"
	   ]
	},
{
		   "cell_type": "markdown",
		   "metadata": {},
		   "source": [
			"## Example 27.10: Example.sce"
		   ]
		  },
  {
"cell_type": "code",
	   "execution_count": null,
	   "metadata": {
	    "collapsed": true
	   },
	   "outputs": [],
"source": [
"//Variable declaration:\n",
"f = 100000                        //Flow rate of flue gas (acfm)\n",
"i = 0.1                           //Interest rate\n",
"//From table 27.4:\n",
"//For finned preheater:\n",
"ac1 = 3.1                         //Equipment cost ($/acfm)\n",
"ac2 = 0.8                         //Installation cost ($/acfm)\n",
"ac3 = 0.06                        //Operating cost ($/acfm-yr)\n",
"ac4 = 14000                       //Maintenance cost ($/yr)\n",
"an = 20                           //Lifetime (yr)\n",
"//For 4-pass preheater:\n",
"bc1 = 1.9                         //Equipment cost ($/acfm)\n",
"bc2 = 1.4                         //Installation cost ($/acfm)\n",
"bc3 = 0.06                        //Operating cost for ($/acfm-yr)\n",
"bc4 = 28000                       //Maintenance cost ($/yr)\n",
"bn = 15                           //Lifetime of (yr)\n",
"//For 2-pass preheater:\n",
"cc1 = 2.5                         //Equipment cost ($/acfm)\n",
"cc2 = 1.0                         //Installation cost ($/acfm)\n",
"cc3 = 0.095                       //Operating cost for ($/acfm-yr)\n",
"cc4 = 9500                        //Maintenance cost for ($/yr)\n",
"cn = 20                           //Lifetime of (yr)\n",
"//Calculation:\n",
"//For Finned preheater:\n",
"aEC = f*ac1                        //Total equipment cost ($)\n",
"aIC = f*ac2                        //Total installation cost ($)\n",
"aOC = f*ac3                        //Total operating cost ($)\n",
"aMC = f*ac4                        //Total maintenance cost ($)\n",
"aCRF = (i*(1+i)**an)/((1+i)**an-1) //Capital recovery factor\n",
"aAEC = aEC*aCRF                    //Equipment annual cost ($/yr)\n",
"aAIC = aIC*aCRF                    //Installation annual cost($/yr)\n",
"aAOC = ac3*f                       //Annual operating cost ($)\n",
"aAMC = ac4                         //Annual maintenance cost ($)\n",
"aTAC = aAEC+aAIC+aAOC+aAMC         //Total annual cost ($)\n",
"//For 4-pass preheater:\n",
"bEC = f*bc1                        //Total equipment cost ($)\n",
"bIC = f*bc2                        //Total installation cost ($)\n",
"bOC = f*bc3                        //Total operating cost ($)\n",
"bMC = f*bc4                        //Total maintenance cost ($)\n",
"bCRF = (i*(1+i)**bn)/((1+i)**bn-1) //Capital recovery factor\n",
"bAEC = bEC*bCRF                    //Equipment annual cost ($/yr)\n",
"bAIC = bIC*bCRF                    //Installation annual cost($/yr)\n",
"bAOC = bc3*f                       //Annual operating cost ($)\n",
"bAMC = bc4                         //Annual maintenance cost ($)\n",
"bTAC = bAEC+bAIC+bAOC+bAMC         //Total annual cost ($)\n",
"//For 2-pass preheater:\n",
"cEC = f*cc1                        //Total equipment cost ($)\n",
"cIC = f*cc2                        //Total installation cost ($)\n",
"cOC = f*cc3                        //Total operating cost ($)\n",
"cMC = f*cc4                        //Total maintenance cost ($)\n",
"cCRF = (i*(1+i)**cn)/((1+i)**cn-1) //Capital recovery factor\n",
"cAEC = cEC*cCRF                    //Equipment annual cost ($/yr)\n",
"cAIC = cIC*cCRF                    //Installation annual cost($/yr)\n",
"cAOC = cc3*f                       //Annual operating cost ($)\n",
"cAMC = cc4                         //Annual maintenance cost ($)\n",
"cTAC = cAEC+cAIC+cAOC+cAMC         //Total annual cost ($)\n",
"//Result:\n",
"printf('Total annual cost for finned preheater is : $ %.0f',aTAC)\n",
"printf('Total annual cost for 4-pass preheater is : $ %.0f',bTAC)\n",
"printf('Total annual cost for 2-pass preheater is : $ %.0f',cTAC)\n",
"if (cTAC<aTAC & cTAC<bTAC) then\n",
"    printf('According to the analysis, the 2-pass exchanger is the most economically attractive device since the annual cost is the lowest.')\n",
"elseif (bTAC<aTAC & bTAC<cTAC) then\n",
"    printf('According to the analysis, the 4-pass exchanger is the most economically attractive device since the annual cost is the lowest.')\n",
"elseif (aTAC<cTAC & aTAC<bTAC) then\n",
"    printf('According to the analysis, the finned exchanger is the most economically attractive device since the annual cost is the lowest.')\n",
"end    "
   ]
   }
,
{
		   "cell_type": "markdown",
		   "metadata": {},
		   "source": [
			"## Example 27.12: Example.sce"
		   ]
		  },
  {
"cell_type": "code",
	   "execution_count": null,
	   "metadata": {
	    "collapsed": true
	   },
	   "outputs": [],
"source": [
"//Variable declaration:\n",
"TH = 500                        //Hot stream temperature at exchanger 1 ( F)\n",
"tc = 100                        //Cold stream temperature at exchanger 2 ( F)\n",
"A = 10                          //Constant A\n",
"B1 = 100000                     //Constant B1\n",
"B2 = 4000                       //Constant B2\n",
"B3 = 400000                     //Constant B3\n",
"//Calculations:\n",
"//It forms equation fo form t^2 - t(Th-tc) +tcTH +B/A\n",
"t1 = roots([1, -(TH+tc),(tc*TH + B1/A) ]); //Roots\n",
"tmax1 = TH - sqrt(B1/A)         //Upon maximising profit\n",
"t2 = roots([1, -(TH+tc),(tc*TH + B2/A) ]); //Roots\n",
"tmax2 = TH - sqrt(B2/A)         //Upon maximising profit\n",
"t3 = roots([1, -(TH+tc),(tc*TH + B3/A) ]); //Roots\n",
"tmax3 = TH - sqrt(B3/A)         //Upon maximising profit\n",
"//Results:\n",
"printf('tBE for case 1: %.0f F %.0f F',t1(1),t1(2))\n",
"printf('tmax1: %.0f F',tmax1)\n",
"printf('tBE for case 2: %.0f F %.0f F',t2(1),t2(2))\n",
"printf('tmax1: %.0f F',tmax2)\n",
"printf('tBE for case 1: %.0f F %.0f F',t3(1),t3(2))\n",
"printf('tmax1 : %.0f F',tmax3)"
   ]
   }
,
{
		   "cell_type": "markdown",
		   "metadata": {},
		   "source": [
			"## Example 27.15: Example.sce"
		   ]
		  },
  {
"cell_type": "code",
	   "execution_count": null,
	   "metadata": {
	    "collapsed": true
	   },
	   "outputs": [],
"source": [
"//Key:\n",
"//f(x) : Objective Function\n",
"//ci(x)'s : Constraints\n",
"//Variable Declaration:\n",
"function [ans] = f(x)\n",
"    ans = -1.70*x(1) - 2*x(2)\n",
"endfunction\n",
"//Calculation\n",
"X = [7500,6000]\n",
"//Result:\n",
"printf('Maximum Profit is $ %.1f /day or $ %.1f /year',-f(X),-365*f(X))"
   ]
   }
,
{
		   "cell_type": "markdown",
		   "metadata": {},
		   "source": [
			"## Example 27.5: Example.sce"
		   ]
		  },
  {
"cell_type": "code",
	   "execution_count": null,
	   "metadata": {
	    "collapsed": true
	   },
	   "outputs": [],
"source": [
"//Variable declaration:\n",
"i = 0.03375                     //Rate of interest (%)\n",
"n = 9                           //Years to the end of life (yr)\n",
"P = 60000                       //Cost of exchanger ($)\n",
"L = 500                         //Salvage value ($)\n",
"x = 5                           //Time after 5 years (yr)\n",
"//Calculation:\n",
"SFDF = i/((1+i)**n-1)           //Sinking fund depreciation factor\n",
"UAP = (P-L)*SFDF                //Uniform annual payment ($)\n",
"B = ceil(P-((P-L)/n)*x)               //Appraisal value after 5 years ($)\n",
"//Result:\n",
"printf('1. The uniform annual payment made into the fund at the of the year is : $ %.0f',UAP)\n",
"printf('2. The appraisal value of the exchanger at the end of the fifth year is : $ %.0f',B)"
   ]
   }
,
{
		   "cell_type": "markdown",
		   "metadata": {},
		   "source": [
			"## Example 27.6: Example.sce"
		   ]
		  },
  {
"cell_type": "code",
	   "execution_count": null,
	   "metadata": {
	    "collapsed": true
	   },
	   "outputs": [],
"source": [
"//Variable declaration:\n",
"C = 150000                      //Capital cost ($)\n",
"i = 7/100                       //Interest rate\n",
"n = 5                           //Time (yr)\n",
"OC = 15000                      //Operating cost ($)\n",
"A = 75000                       //Annual cost for the old process ($)\n",
"//Calculation:\n",
"CRF = (i*(1+i)**n)/((1+i)**n-1) //Capital recovery factor\n",
"IC = CRF*C                      //Initial cost ($)\n",
"AC = IC+OC                      //Total annualized cost ($)\n",
"//Result:\n",
"printf('The annualized cost for the new heating system is : $ %.0f',AC)\n",
"if (AC<A) then\n",
"    printf('Since this cost is lower than the annual cost of $75,000 for the old process, the proposed plan should be implemented.')\n",
"else \n",
"    printf('Since this cost is higher than the annual cost of $75,000 for the old process, the proposed plan should not be implemented.')\n",
"end"
   ]
   }
,
{
		   "cell_type": "markdown",
		   "metadata": {},
		   "source": [
			"## Example 27.7: Example.sce"
		   ]
		  },
  {
"cell_type": "code",
	   "execution_count": null,
	   "metadata": {
	    "collapsed": true
	   },
	   "outputs": [],
"source": [
"//Variable declaration:\n",
"i = 12/100                          //Intersest rate\n",
"n = 12                              //Lifetime period (yr)\n",
"CC = 2625000                        //Capital cost ($)\n",
"IC = 1575000                        //Installation cost ($)\n",
"//From table 27.3:\n",
"Ic1 = 2000000                       //Income credit for double pipe ($/yr)\n",
"Ic2 = 2500000                       //Income credit for Shell-and-tube ($/yr)\n",
"AC1 = 1728000                       //Total annual cost for double pipe ($/yr)\n",
"AC2 = 2080000                       //Total annual cost for Shell-and-tube ($/yr)\n",
"//Calculation:\n",
"CRF = i/(1-(1+i)**-n)               //Capital recovery factor\n",
"DPc = (CC+IC)*CRF                   //Annual capital and installation costs for the DP unit ($/yr)\n",
"STc = (CC+IC)*CRF                   //Annual capital and installation costs for the ST unit ($/yr)\n",
"DPp = Ic1-AC1                       //Profit for the DP unit ($/yr)\n",
"STp = Ic2-AC2                       //Profit for the ST unit ($/yr)\n",
"//Result:\n",
"printf('The profit for the shell-and-tube unit is : $ %.0f /yr .',DPp)\n",
"printf('The profit for the double pipe unit is : $ %.0f /yr .',STp)\n",
"if (STp>DPp) then\n",
"    printf('A shell-and-tube heat exchanger should therefore be selected based on the above economic analysis.')\n",
"else\n",
"    printf('A double pipe heat exchanger should therefore be selected based on the above economic analysis.')\n",
"end    "
   ]
   }
,
{
		   "cell_type": "markdown",
		   "metadata": {},
		   "source": [
			"## Example 27.8: Example.sce"
		   ]
		  },
  {
"cell_type": "code",
	   "execution_count": null,
	   "metadata": {
	    "collapsed": true
	   },
	   "outputs": [],
"source": [
"//Variable declaration:\n",
"m = 50000                       //Mass flowrate of the organic fluid (lb/h)\n",
"cP = 0.6                        //The heat capacity of the organic liquid (Btu/lb. F)\n",
"T1 = 150                        //Initial temperature of organic fluid ( F)\n",
"T2 = 330                        //Final temperature of organic fluid ( F)\n",
"Ts1 = 358                       //Saturation temperature for 150 psia ( F)\n",
"Ts2 = 417                       //Saturation temperature for 300 psia ( F)\n",
"L1 = 863.6                      //Latent heat for 150 psia (Btu/lb)\n",
"L2 = 809                        //Latent heat for 300 psia (Btu/lb)\n",
"c1 = 5.20/1000                  //Cost for 150 psia ($/lb)\n",
"c2 = 5.75/1000                  //Cost for 300 psia ($/lb)\n",
"CI1 = 230                       //Cost index in 1998 \n",
"CI2 = 360                       //Cost index in 2011\n",
"IF = 3.29                       //Installation factor\n",
"PF1 = 1.15                      //Pressure factors for 100 to 200 psig\n",
"PF2 = 1.20                      //Pressure factors for 200 to 300 psig\n",
"OP = 90/100                     //Plant on-stream operation factor\n",
"h = 365*24                      //Hours in a year (h)\n",
"//Calculation:\n",
"Q = m*cP*(T2-T1)                //Overall heta duty (Btu/h)\n",
"DT1 = Ts1-T1                    //Temperature driving force 1 for 150 psia ( F)\n",
"DT2 = Ts1-T2                    //Temperature driving force 2 for 150 psia ( F)\n",
"LMTD1 = (DT1-DT2)/log(DT1/DT2)  //Log-mean temperature difference for 150 psia ( F)\n",
"DT3 = Ts2-T1                    //Temperature driving force 1 for 300 psia ( F)\n",
"DT4 = Ts2-T2                    //Temperature driving force 2 for 300 psia ( F)\n",
"LMTD2 = (DT3-DT4)/log(DT3/DT4)  //Log-mean temperature difference for 1300 psia ( F)\n",
"A1 = Q/(138*LMTD1)              //Required heat transfer area for 150 psia (ft^2)\n",
"A2 = Q/(138*LMTD2)              //Required heat transfer area for 300 psia (ft^2)\n",
"BC1 = 117*A1**0.65              //Base cost for 150 psia ($)\n",
"BC2 = 117*A2**0.65              //Base cost for 13000 psia ($)\n",
"C1 = BC1*(CI2/CI1)*IF*PF1       //Capital cost for 150 psia ($)\n",
"C2 = BC2*(CI2/CI1)*IF*PF2       //Capital cost for 300 psia ($)\n",
"S1 = Q*(h*OP)/L1                //Steam requirement for 150 psia (lb/yr)\n",
"S2 = Q*(h*OP)/L2                //Steam requirement for 300 psia (lb/yr)\n",
"SC1 = S1*c1                     //Annual steam cost for 150 psia ($/yr)\n",
"SC2 = S2*c2                     //Annual steam cost for 300 psia ($/yr)\n",
"C1 = round(C1*10**-3)/10**-3\n",
"C2 = round(C2*10**-3)/10**-3\n",
"SC1 = round(SC1*10**-3)/10**-3\n",
"SC2 = round(SC2*10**-3)/10**-3\n",
"//Result:\n",
"printf('1. The capital cost for 150 psia is : $ %f',C1)\n",
"printf('   The capital cost for 300 psia is : $ %f',C2)\n",
"printf('2. The annual steam cost for 150 psia is : $ %f /yr .',SC1)\n",
"printf('   The annual steam cost for 300 psia is : $ %f /yr .',SC2)\n",
"if (C1<C2 & SC1>SC2) then\n",
"    printf('The 300-psia exchanger costs less to purchase and install, but it costs more to operate. Choosing the more expensive, 150-psia exchanger is the obvious choice.')\n",
"else if (C1>C2 & SC1<SC2) then\n",
"    printf('The 150-psia exchanger costs less to purchase and install, but it costs more to operate. Choosing the more expensive, 300-psia exchanger is the obvious choice.')\n",
"end"
   ]
   }
,
{
		   "cell_type": "markdown",
		   "metadata": {},
		   "source": [
			"## Example 27.9: Example.sce"
		   ]
		  },
  {
"cell_type": "code",
	   "execution_count": null,
	   "metadata": {
	    "collapsed": true
	   },
	   "outputs": [],
"source": [
"//Variable declaration:\n",
"TCC_TB = 2500000                   //Total capital cost ($)\n",
"R_TB = 3600000                     //R_TBevenue generated from the facility ($)\n",
"AOC_TB = 1200000                   //Annual operating costs ($)\n",
"TCC_FB = 3500000                   //Total capital cost ($)\n",
"R_FB = 5300000                     //R_TBevenue generated from the facility ($)\n",
"AOC_FB = 1400000                   //Annual operating costs ($)\n",
"n = 10                          	//Time of facility (yr)\n",
"//Calculation:\n",
"D = 0.1*TCC_TB                     //Depriciation ($)\n",
"WC = 0.1*TCC_TB                    //Working capital ($)\n",
"TI = R_TB-AOC_TB-D                 //Taxable income ($)\n",
"IT = 0.5*TI                        //Income tax to be paid ($)\n",
"A = R_TB-AOC_TB-IT                 //After-tax cash flow ($)\n",
"function [ans] = eqTB(i)\n",
"	x = (((1+i)**n-1)/(i*(1+i)**n))*A + (1/(1+i)**n)*WC    //Equation for computing rate of return for TB unit\n",
"	y = WC + 0.5*TCC_TB + 0.5*TCC_TB*(1+i)**1              //Equation for computing rate of return for TB unit\n",
"	ans = x-y\n",
"endfunction    \n",
"iTB = ceil(fsolve(0.8,eqTB)*100)   //Rate of return for TB unit (%)\n",
"D = 0.1*TCC_FB                     //Depriciation ($)\n",
"WC = 0.1*TCC_FB                    //Working capital ($)\n",
"TI = R_FB-AOC_FB-D                 //Taxable income ($)\n",
"IT = 0.5*TI                        //Income tax to be paid ($)\n",
"A = R_FB-AOC_FB-IT                 //After-tax cash flow ($)\n",
"function [ans] = eqFB(i)\n",
"	x = (((1+i)**n-1)/(i*(1+i)**n))*A + (1/(1+i)**n)*WC    //Equation for computing rate of return for FB unit\n",
"	y = WC + 0.5*TCC_FB + 0.5*TCC_FB*(1+i)**1              //Equation for computing rate of return for FB unit\n",
"	ans = x-y\n",
"endfunction    \n",
"iFB = fsolve(0.8,eqFB)*100 //Rate of return for FB unit (%)\n",
"//Results:\n",
"printf('The rate of return for TB unit is: %.0f %%',iTB)\n",
"printf('The rate of return for FB unit is: %.1f %%',iFB)"
   ]
   }
],
"metadata": {
		  "kernelspec": {
		   "display_name": "Scilab",
		   "language": "scilab",
		   "name": "scilab"
		  },
		  "language_info": {
		   "file_extension": ".sce",
		   "help_links": [
			{
			 "text": "MetaKernel Magics",
			 "url": "https://github.com/calysto/metakernel/blob/master/metakernel/magics/README.md"
			}
		   ],
		   "mimetype": "text/x-octave",
		   "name": "scilab",
		   "version": "0.7.1"
		  }
		 },
		 "nbformat": 4,
		 "nbformat_minor": 0
}
