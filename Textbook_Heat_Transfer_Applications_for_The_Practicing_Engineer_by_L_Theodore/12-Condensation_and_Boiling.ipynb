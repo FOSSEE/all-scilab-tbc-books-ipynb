{
"cells": [
 {
		   "cell_type": "markdown",
	   "metadata": {},
	   "source": [
       "# Chapter 12: Condensation and Boiling"
	   ]
	},
{
		   "cell_type": "markdown",
		   "metadata": {},
		   "source": [
			"## Example 12.10: Example.sce"
		   ]
		  },
  {
"cell_type": "code",
	   "execution_count": null,
	   "metadata": {
	    "collapsed": true
	   },
	   "outputs": [],
"source": [
"//Variable declaration:\n",
"//From example 12.9:\n",
"Ts1 = 102.0                         //Original surface temperature (°C)\n",
"Ts2 = 103.0                         //New surface temperature (°C)\n",
"Tsat = 100.0                        //Saturation temperature (°C)\n",
"//Calculation:\n",
"DTe1 = (Ts1 - Tsat)                 //Original excess temperature (°C)\n",
"DTe2 = (Ts2 - Tsat)                 //New excess temperature (°C)\n",
"//Result:\n",
"printf('The original excess temperature is: DTe = %f °C .',DTe1)\n",
"printf('The new excess temperature is: DTe = %f °C .',DTe2)\n",
"if ((DTe1 < 5) & (DTe2 < 5)) then\n",
"    printf('The assumption of the free convection mechanism is valid since DTe < 5°C.')\n",
"end"
   ]
   }
,
{
		   "cell_type": "markdown",
		   "metadata": {},
		   "source": [
			"## Example 12.11: Example.sce"
		   ]
		  },
  {
"cell_type": "code",
	   "execution_count": null,
	   "metadata": {
	    "collapsed": true
	   },
	   "outputs": [],
"source": [
"//Variable declaration:\n",
"//From example 12.9:\n",
"Cp = 4127.0                         //heat capacity (J/kg . K)\n",
"DTe = 3.0                           //New excess temperature (°C)\n",
"h_vap = 2.26*10**6                  //latent heat of vaporization (J/kg)\n",
"//Calculation:\n",
"Ja_L = Cp*DTe/h_vap                 //Liquid Jakob number\n",
"//Result:\n",
"printf('The liquid Jakob number is : %.5f',Ja_L)"
   ]
   }
,
{
		   "cell_type": "markdown",
		   "metadata": {},
		   "source": [
			"## Example 12.12: Example.sce"
		   ]
		  },
  {
"cell_type": "code",
	   "execution_count": null,
	   "metadata": {
	    "collapsed": true
	   },
	   "outputs": [],
"source": [
"//Variable declaration:\n",
"Ts = 106.0                      //Surface temperature (°C)\n",
"Tsat = 100.0                    //Saturation temperature (°C)\n",
"//Calculation:\n",
"DTe = Ts-Tsat                   //Excess temperature (°C)\n",
"//From table 12.5:\n",
"C1 = 5.56                       //Constant C1\n",
"n1 = 3.0                        //Constant n1\n",
"C2 = 1040.0                     //Constant C2\n",
"n2 = 1.0/3.0                    //Constant n2\n",
"P = 1.0                         //Absolute pressure (atm)\n",
"Pa = 1.0                        //Ambient absolute pressure (atm)\n",
"//Calculation:\n",
"h1 = C1*DTe**n1*(P/Pa)**0.4     //Boiling water heat transfer coefficient (W/m^2)\n",
"Qs1 = h1*DTe                    //Surface flux (W/m^2)\n",
"h2 = C2*DTe**n2*(P/Pa)**0.4     //Second Boiling water heat transfer coefficient (W/m^2)\n",
"Qs2 = h2*DTe                   //Second Surface flux (W/m^2) \n",
"//Result:\n",
"   \n",
"if (Qs1/10**3 > 15.8 & Qs1/10**3 < 236) then\n",
"    printf('The boiling regime is : %.1f kW/m^2 .',Qs1/10**3)\n",
"    printf('The heat transfer coefficient is : %.0f W/m^2 .',h1)\n",
"elseif (Qs1/10**3 < 15.8) then\n",
"    printf('The boiling regime is : %.2f kW/m^2 .',Qs2/10**3)\n",
"    printf('The heat transfer coefficient is : %.0f  W/m^2.',h2)\n",
"end"
   ]
   }
,
{
		   "cell_type": "markdown",
		   "metadata": {},
		   "source": [
			"## Example 12.13: Example.sce"
		   ]
		  },
  {
"cell_type": "code",
	   "execution_count": null,
	   "metadata": {
	    "collapsed": true
	   },
	   "outputs": [],
"source": [
"//Variable declaration:\n",
"//From example 12.12:\n",
"Qs1 = 11340.0                   //Surface flux (W/m^2)\n",
"D = 0.3                         //Diameter of electric heater (m)\n",
"//Calculation:\n",
"A = %pi*(D/2.0)**2               //Surface area of heater (m^2)\n",
"Qs = Qs1*A                      //Heat transfer rate (W)\n",
"//Result:\n",
"printf('The rate of heat transfer is : %.0f W.',Qs)"
   ]
   }
,
{
		   "cell_type": "markdown",
		   "metadata": {},
		   "source": [
			"## Example 12.2: Example.sce"
		   ]
		  },
  {
"cell_type": "code",
	   "execution_count": null,
	   "metadata": {
	    "collapsed": true
	   },
	   "outputs": [],
"source": [
"//Variable declaration:\n",
"C = 1                       //Number of constituents\n",
"P = 1                       //Number of phases\n",
"//Calculation:\n",
"F = C-P+2                   //Number of degrees of freedom\n",
"//Result:\n",
"printf('The number of degrees of freedom is : %.2f .',F)"
   ]
   }
,
{
		   "cell_type": "markdown",
		   "metadata": {},
		   "source": [
			"## Example 12.4: Example.sce"
		   ]
		  },
  {
"cell_type": "code",
	   "execution_count": null,
	   "metadata": {
	    "collapsed": true
	   },
	   "outputs": [],
"source": [
"//Variable declaration:\n",
"//From steam tables:\n",
"U1 = 1237.1                     //Internnal energy of gas (Btu/lb)\n",
"U2_g = 1112.2                   //Internal energy of gas (Btu/lb)\n",
"U2_l = 343.15                   //Internal energy of liquid (Btu/lb)\n",
"//Calculation:\n",
"Q = 0.5*(U2_g+U2_l)-1*U1        //Heat removed (Btu/lb)\n",
"//Result:\n",
"printf('Heat removed from the system during the process is : %.1f Btu/lb.',Q)"
   ]
   }
,
{
		   "cell_type": "markdown",
		   "metadata": {},
		   "source": [
			"## Example 12.5: Example.sce"
		   ]
		  },
  {
"cell_type": "code",
	   "execution_count": null,
	   "metadata": {
	    "collapsed": true
	   },
	   "outputs": [],
"source": [
"//Variable declaration:\n",
"T1 = 99.0                           //Mean film temperature (°C)\n",
"T2 = 98.0                           //Plate surface temperature (°C)\n",
"g = 9.807                           //Gravitational acceleration (m/s^2)\n",
"//From Appendix:\n",
"T3 = 100.0                          //Saturation temperatre (°C)\n",
"h_vap1 = 970.3                      //Latent heat of steam in Btu/lb (Btu/lb)\n",
"h_vap2 = 2.255*10**6                //Latent heat of steam in J/kg (J/kg)\n",
"p_v = 0.577                         //Density of steam (kg/m^3)\n",
"p_l = 960.0                         //Density of liquid water condensate (kg/m^3)\n",
"mu_l = 2.82*10**-4                  //Absolute viscosity of liquid water condensate (kg/m.s)\n",
"k = 0.68                            //Thermal conductivity of water (W/m.K)\n",
"//From table 12.2\n",
"Z = 0.4                             //Height of rectangular plate (m)\n",
"Pw = 0.2                            //Wetted perimeter of rectangular plate (m)\n",
"syms h                              //Average heat transfer coefficient (W/m^2.K)\n",
"//Calculation:\n",
"A = Z*Pw                            //Heat transfer area of plate (m^2)\n",
"R = A/Pw                            //Ratio A/Pw (m)\n",
"v_l = mu_l/p_l                      //Kinematic viscosity of liquid water condensate (m^2/s)\n",
"Co1 = (h/k)*(v_l**2/g/(1-p_v/p_l))**(1/3)    //Condensation number (in terms of the average heat transfer coefficient)\n",
"Re = 4*h*Z*(T3-T2)/(mu_l*h_vap2)    //Reynolds number in terms of the average heat transfer coefficient\n",
"//From equation 12.14:\n",
"CO1 = 0.0077*Re**Z                  //Co in terms of Reynolds number for flow type 1\n",
"x1 = solve(h,Co1-CO1)               //Solving heat transfer coefficient (W/m^2.K)\n",
"h1 =x1(2);                          //Average heat transfer coefficient for flow type 1 (W/m^2.K)\n",
"Re1 = subst(h1,h,Re)                //Reynolds number for flow type 1\n",
"CO2 = 1.874*Re**(-1/3)              //Co in terms of Reynolds number for flow tupe 2\n",
"x2 = solve(Co1-CO2,h)               //Solving average heat transfer coefficient for flow type 2 (W/m^2.K)\n",
"h2 = x2(1);                         //Average heat transfer coefficient for flow type 2 (W/m^2.K)\n",
"Re2 = subst(h2,h,Re)                 //Reynolds number for flow type 2\n",
"h2 = round(h2*10**-1)/10**-1\n",
"//Result:\n",
"printf('The type of condensation flow type 2 is laminar.')\n",
"disp('And the condensation heat transfer coefficient is : ')\n",
"disp(h2)\n",
"disp('W/m^2.K.')"
   ]
   }
,
{
		   "cell_type": "markdown",
		   "metadata": {},
		   "source": [
			"## Example 12.6: Example.sce"
		   ]
		  },
  {
"cell_type": "code",
	   "execution_count": null,
	   "metadata": {
	    "collapsed": true
	   },
	   "outputs": [],
"source": [
"//Variable declaration:\n",
"//From example 12.5:\n",
"Re = 73.9                       //Reynolds number\n",
"mu_l = 2.82*10**-4              //Absolute viscosity of liquid water condensate (kg/m.s)\n",
"Pw = 0.2                        //Wetted perimeter of rectangular plate (m)\n",
"h = 14700.0                     //Heat transfer coefficient (W/m^2.K)\n",
"T_sat = 100.0                   //Saturation temperature (°C)\n",
"Ts = 98.0                       //Surface temperature (°C)\n",
"A = 0.2*0.4                     //Heat transfer area of plate (m^2) \n",
"//Calculation:\n",
"m1 = Re*mu_l/4.0                //Mass flow rate of condensate (kg/m.s)\n",
"m = Pw*m1                       //Mass flow rate of condensate (kg/s)\n",
"Co = (3.038*10**-5)*h           //Condensation number\n",
"Q = h*A*(T_sat-Ts)              //Heat transfer rate (W)\n",
"//Result:\n",
"printf('1. The mass flow rate of condensate is : %.4f kg/m.s.',m1)\n",
"printf('2. The heat transfer rate is : %.2f kW.',Q/10**3)"
   ]
   }
,
{
		   "cell_type": "markdown",
		   "metadata": {},
		   "source": [
			"## Example 12.7: Example.sce"
		   ]
		  },
  {
"cell_type": "code",
	   "execution_count": null,
	   "metadata": {
	    "collapsed": true
	   },
	   "outputs": [],
"source": [
"//Variable declaration:\n",
"T_sat = 126.0                   //Saturation temperature (°F)\n",
"T = 64.0                        //Surface temperature of tube (°F)\n",
"g = 32.2                        //Gravitational acceleration (ft^2/s)\n",
"D = 4.0/12.0                    //Outside diameter of tube (ft)\n",
"//Calculation:\n",
"Tf = (T_sat+T)/2.0               //Mean film temperature (°F)\n",
"//From approximate values of key properties:\n",
"h_vap = 1022.0                  //Latent heat of steam (Btu/lb)\n",
"p_v = 0.00576                   //Density of steam (lb/ft^3)\n",
"p_l = 62.03                     //Density of liquid (lb/ft^3)\n",
"k_l = 0.364                     //Thermal conductivity of liquid (Btu/h.ft.°F)\n",
"mu_l = 4.26*10**-4              //Absolute viscosity of liquid water condensate (lb/ft.s)\n",
"h = 0.725*((p_l*(p_l-p_v)*g*h_vap*k_l**3)/(mu_l*D*(T_sat-T)/3600.0))**(1.0/4.0)   //Average heat transfer coefficient (Btu/h.ft^2.°F)\n",
"//Result:\n",
"printf('The average heat transfer coefficient is : %.1f Btu/h.ft^2.°F.',h)"
   ]
   }
,
{
		   "cell_type": "markdown",
		   "metadata": {},
		   "source": [
			"## Example 12.9: Example.sce"
		   ]
		  },
  {
"cell_type": "code",
	   "execution_count": null,
	   "metadata": {
	    "collapsed": true
	   },
	   "outputs": [],
"source": [
"//Variable declaration:\n",
"Qs1 = 9800.0                        //Heat flux (W/m^2)\n",
"Ts1 = 102.0                         //Original surface temperature (°C)\n",
"Ts2 = 103.0                         //New surface temperature (°C)\n",
"Tsat = 100.0                        //Saturation temperature (°C)\n",
"//Calculation:\n",
"h1 = Qs1/(Ts1-Tsat)                 //Original heat transfer coefficient (W/m^2.K)\n",
"DT1 = (Ts1 - Tsat)                  //Original excess temperature (°C)\n",
"DT2 = (Ts2 - Tsat)                  //New excess temperature (°C)\n",
"n = 0.25                            //Value of n for laminar flow\n",
"h2 = h1*(DT2/DT1)**(n)              //New heat transfer coefficient (W/m^2.K)\n",
"Qs2 = h2*(Ts2-Tsat)                 //New heat flux (W/m^2)\n",
"//Result:\n",
"printf('The new heat flux is : %.0f W/m^2.K .',Qs2)"
   ]
   }
],
"metadata": {
		  "kernelspec": {
		   "display_name": "Scilab",
		   "language": "scilab",
		   "name": "scilab"
		  },
		  "language_info": {
		   "file_extension": ".sce",
		   "help_links": [
			{
			 "text": "MetaKernel Magics",
			 "url": "https://github.com/calysto/metakernel/blob/master/metakernel/magics/README.md"
			}
		   ],
		   "mimetype": "text/x-octave",
		   "name": "scilab",
		   "version": "0.7.1"
		  }
		 },
		 "nbformat": 4,
		 "nbformat_minor": 0
}
