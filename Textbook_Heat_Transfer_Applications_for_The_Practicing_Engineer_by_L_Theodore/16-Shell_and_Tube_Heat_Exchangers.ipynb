{
"cells": [
 {
		   "cell_type": "markdown",
	   "metadata": {},
	   "source": [
       "# Chapter 16: Shell and Tube Heat Exchangers"
	   ]
	},
{
		   "cell_type": "markdown",
		   "metadata": {},
		   "source": [
			"## Example 16.10: Example.sce"
		   ]
		  },
  {
"cell_type": "code",
	   "execution_count": null,
	   "metadata": {
	    "collapsed": true
	   },
	   "outputs": [],
"source": [
"//Variable declaration:\n",
"t2 = 84.0                       //Temperature of water leaving the tube ( C)\n",
"t1 = 16.0                       //Temperature of water entering the tube ( C)\n",
"m1 = 10000.0/3600.0             //Mass flowrate of water (kg/s)\n",
"T2 = 94.0                       //Temperature of oil leaving the shell ( C)\n",
"T1 = 160.0                      //Temperature of oil entering the shell ( C)\n",
"//Calculation:\n",
"Tw = (t1+t2)/2.0                //Average bulk temperature of water ( C)\n",
"To = (T1+T2)/2.0                //Average bulk temperature of oil ( C)\n",
"//From table 16.1:\n",
"p1 = 987.0                      //Density of water (kg/m^3)\n",
"cp1 = 4176.0                    //Heat capacity of water (J/kg. C)\n",
"p2 = 822.0                      //Density of oil (kg/m^3)\n",
"Q = m1*cp1*(t2-t1)              //Heat load (W)\n",
"cp2 = 4820.0                    //Heat capacity of oil (J/kg. C)\n",
"m2 = Q/(cp2*(T1-T2))            //Mass flowrate of oil (kg/s)\n",
"DT1 = T2-t1                     //Temperature driving force 1 ( C)\n",
"DT2 = T1-t2                     //Temperature driving force 2 ( C)\n",
"DTlm1 = ((DT1-DT2)/log(DT1/DT2))  //Log mean temperature driving force for ideal countercurrent heat exchanger ( C)\n",
"P = (t2-t1)/(T1 - t1)           //Dimensionless ratio P\n",
"R = (T1-T2)/(t2-t1)             //Dimensionless ratio R\n",
"//From figure 16.7:\n",
"F = 0.965                       //Correction factor\n",
"DTlm2 = F*DTlm1                 //Log mean temperature driving force for 1-4 shell and tube exchanger ( C)\n",
"//Result:\n",
"printf('1. The heat load is : %.3f  MW .',Q/10**6)\n",
"printf('2. The countercurrent flow log mean temperature difference is : %.0f C .',DTlm1)\n",
"printf('3. The F correction factor and the corrected log mean temperature difference is : %.1f C .',DTlm2)"
   ]
   }
,
{
		   "cell_type": "markdown",
		   "metadata": {},
		   "source": [
			"## Example 16.11: Example.sce"
		   ]
		  },
  {
"cell_type": "code",
	   "execution_count": null,
	   "metadata": {
	    "collapsed": true
	   },
	   "outputs": [],
"source": [
"//Variable declaration:\n",
"//From example 16.10:\n",
"U = 350.0                       //Over all heat transfer coefficient (W/m^2. C)\n",
"DTlm = 74.3                     //Log mean temperature driving force for 1-4 shell and tube exchanger ( C)\n",
"Q = 788800.0                    //Heat load (W)\n",
"Nt = 11.0                       //Number of tubes per pass\n",
"Np = 4.0                        //Number of passes\n",
"Di = 0.0229                     //Inside diameter of tube (m)\n",
"pi = %pi\n",
"//Calculation:\n",
"A = Q/(U*DTlm)                  //Heat transfer area required for heat exchanger (m^2)\n",
"N = Nt*Np                       //Total number of tubes\n",
"L = A/(pi*Di*N)                 //Tube length (m)\n",
"//Result:\n",
"printf('The heat transfer area required for the heat exchanger is : %.2f m^2 .',A)\n",
"printf('The length of the tubes required for the heat exchanger is : %.1f ft',L*3.28)"
   ]
   }
,
{
		   "cell_type": "markdown",
		   "metadata": {},
		   "source": [
			"## Example 16.18: Example.sce"
		   ]
		  },
  {
"cell_type": "code",
	   "execution_count": null,
	   "metadata": {
	    "collapsed": true
	   },
	   "outputs": [],
"source": [
"//Variable declaration:\n",
"//From example 16.10:\n",
"m1 = 2.778                      //Mass flowrate of water (kg/s)\n",
"cp1 = 4176.0                    //Heat capacity of water (J/kg. C)\n",
"cp2 = 4820.0                    //Heat capacity of oil (J/kg. C)\n",
"m2 = 2.48                       //Mass flowrate of oil (kg/s)\n",
"t2 = 84.0                       //Temperature of water leaving the tube ( C)\n",
"t1 = 16.0                       //Temperature of water entering the tube ( C)\n",
"T2 = 94.0                       //Temperature of oil leaving the shell ( C)\n",
"T1 = 160.0                      //Temperature of oil entering the shell ( C)\n",
"U = 350.0                       //Over all heat transfer coefficient (W/m^2. C)\n",
"A = 30.33                       //Heat transfer area required for heat exchanger (m^2)\n",
"//Calculation:\n",
"C1 = m1*cp1                     //Capacitance rate of water (W/ C)\n",
"C2 = m2*cp2                     //Capacitance rate of oil (W/ C)\n",
"Q = C1*(t2-t1)                  //Heat load of water (W)\n",
"Qmax = C1*(T1-t1)               //Maximum heat load of water (W)\n",
"E = Q/Qmax                      //Effectiveness\n",
"if (C1<C2) then\n",
"    Cmin = C1                   //Minimum capacitance rate (W/ C)\n",
"    Cmax = C2                   //Maximum capacitance rate (W/ C)\n",
"else\n",
"    Cmin = C2                   //Minimum capacitance rate (W/ C)\n",
"    Cmax = C1                   //Maximum capacitance rate (W/ C)\n",
"end    \n",
"NTU = U*A/Cmin                  //Number of transfer units\n",
"C = Cmin/Cmax                   //Capacitance rate ratio\n",
"//Result:\n",
"printf('The effectiveness is : %.3f .',E)\n",
"printf('The number of transfer units is : %.3f',NTU)\n",
"printf('The capacitance rate ratio is : %.3f',C)"
   ]
   }
,
{
		   "cell_type": "markdown",
		   "metadata": {},
		   "source": [
			"## Example 16.19: Example.sce"
		   ]
		  },
  {
"cell_type": "code",
	   "execution_count": null,
	   "metadata": {
	    "collapsed": true
	   },
	   "outputs": [],
"source": [
"//Variable declaration:\n",
"//From table 16.4:\n",
"Cw = 11680.3                    //Capacitance rate of water (W/ C)\n",
"t2 = 65.0                       //Temperature of water leaving the tube ( C)\n",
"t1 = 20.0                       //Temperature of water entering the tube ( C)\n",
"T2 = 107.3                      //Temperature of steam leaving the shell ( C)\n",
"T1 = 107.3                      //Temperature of steam entering the shell ( C)\n",
"hv = 2.238*10**6                //Latenet heat of condensation for steam (J/kg)\n",
"U = 2000.0                      //Overall heat transfer coefficient (W/m^2. C)\n",
"//Calculation:\n",
"Q = Cw*(t2-t1)                  //Heat load (W)\n",
"m2 = Q/hv                       //Steam condensation rate (kg/s)\n",
"DT1 = T2-t1                     //Temperature driving force 1 ( C)\n",
"DT2 = T1-t2                     //Temperature driving force 2 ( C)\n",
"DTlm1 = ((DT1-DT2)/log(DT1/DT2))  //Log mean temperature driving force for ideal countercurrent heat exchanger ( C)\n",
"F = 1.0                         //Correction factor (since, T2 = T1)\n",
"DTlm2 = F*DTlm1                 //Log mean temperature driving force for shell and tube exchanger ( C)\n",
"A1 = Q/(U*DTlm2)                //Heat transfer area using LMTD method (m^2)\n",
"E = (t2-t1)/(T1-t1)             //Effectiveness\n",
"//From figure 16.18:\n",
"NTU = 0.7                       //Number of transfer units\n",
"A2 = (NTU*Cw)/U                 //Heat transfer area using E-NTU method (m^2)\n",
"//Result:\n",
"printf('The heat transfr area for the exchanger (using LMTD method) is : %.2f m^2 .',A1)\n",
"printf('The heat transfr area for the exchanger (using E-NTU method) is : %.1f m^2',A2)"
   ]
   }
,
{
		   "cell_type": "markdown",
		   "metadata": {},
		   "source": [
			"## Example 16.21: Example.sce"
		   ]
		  },
  {
"cell_type": "code",
	   "execution_count": null,
	   "metadata": {
	    "collapsed": true
	   },
	   "outputs": [],
"source": [
"//Variable declaration:\n",
"//From table 16.5:\n",
"t2 = 75.0                       //Temperature of water leaving the shell ( C)\n",
"t1 = 35.0                       //Temperature of water entering the shell ( C\n",
"T2 = 75.0                       //Temperature of oil leaving the tube ( C)\n",
"T1 = 110.0                      //Temperature of oil entering the tube ( C)\n",
"mw = 1.133                      //Mass flowrtae of water (kg/s)\n",
"cpw = 4180.0                    //Heat capacity of water (J/kg.K)\n",
"cpo = 1900.0                    //Heat capacity of oil (J/kg.K)\n",
"p = 850.0                       //Density of oil (kg/m^3)\n",
"Di = 0.01905                    //Inside diameter of tube (m)\n",
"V = 0.3                         //Average velocity of oil flow inside the tube (m/s)\n",
"Np = 2.0                        //Number of passes\n",
"Uc = 350.0                      //Overall heat transfer coefficient for clean heat exchanger (W/m^2)\n",
"Rf = 0.00027                    //Fouling factor (m^2.K/w)\n",
"pi = %pi\n",
"//Calculation:\n",
"Cw = mw*cpw                     //Water capacitance rate (W/K)\n",
"Q = Cw*(t2-t1)                  //Heat load (W)\n",
"Co = Q/(T1-T2)                  //Oil capacitance rate (W/K)\n",
"mo = Co/cpo                     //Total flowrate of oil (kg/s)\n",
"if (Cw<Co) then\n",
"    Cmin = Cw                   //Minimum capacitance rate (W/K)\n",
"    Cmax = Co                   //Maximum capacitance rate (W/K)\n",
"else\n",
"    Cmin = Co                   //Minimum capacitance rate (W/K)\n",
"    Cmax = Cw                   //Maximum capacitance rate (W/K)\n",
"end    \n",
"m_ot = p*V*(pi/4.0)*Di**2       //Oil flowrate per tube (kg/s)\n",
"Nt = mo/m_ot                    //Number of tubes per pass\n",
"N = Nt*Np                       //Number of tubes\n",
"DT1 = T2-t1                     //Temperature driving force 1 ( C)\n",
"DT2 = T1-t2                     //Temperature driving force 2 ( C)\n",
"DTlm1 = ((DT1-DT2)/log(DT1/DT2))  //Log mean temperature driving force for ideal countercurrent heat exchanger ( C)\n",
"P = (t2-t1)/(T1 - t1)           //Dimensionless parameter P\n",
"R = (T1-T2)/(t2-t1)             //Dimensionless parameter R\n",
"//From figure 16.7:\n",
"F = 0.81                        //Correction factor\n",
"DTlm2 = F*DTlm1                 //Log mean temperature driving force for shell and tube exchanger ( C)\n",
"Ud = 1.0/(1.0/Uc+Rf)            //Dirty overall heat transfer coefficient (W/m^2.K)\n",
"A = Q/(Ud*DTlm2)                //Required heat transfer area (m^2)\n",
"L = A/(N*pi*Di)                 //Tube length (m)\n",
"N = round(N*10**-1)/10**-1\n",
"//Result:\n",
"printf('1. The mass flow rate of the oil is : %.2f kg/s .',mo)\n",
"printf('2. The minimum and maximum heat capacity rate is : %.0f and %.1f  W/K',Cmin,Cmax)\n",
"printf('3. The heat load, Q is : %.0f W .',Q)\n",
"printf('4. The total number of tubes is : %f ',N)\n",
"printf('5. The tube length is : %.1f m .',L)"
   ]
   }
,
{
		   "cell_type": "markdown",
		   "metadata": {},
		   "source": [
			"## Example 16.22: Example.sce"
		   ]
		  },
  {
"cell_type": "code",
	   "execution_count": null,
	   "metadata": {
	    "collapsed": true
	   },
	   "outputs": [],
"source": [
"//Variable declaration:\n",
"//From example 16.22:\n",
"t2 = 75.0                       //Temperature of water leaving the shell ( F)\n",
"t1 = 35.0                       //Temperature of water entering the shell ( F)\n",
"T2 = 75.0                       //Temperature of oil leaving the tube ( F)\n",
"T1 = 110.0                      //Temperature of oil entering the tube ( F)\n",
"U = 320.0                       //Overall heat transfer coefficient (W/m^2.K)\n",
"A = 19.5                        //Required heat transfer area (m^2)\n",
"Cmin = 4736.0                   //Minimum capacitance rate (W/K)\n",
"//Calculation:\n",
"DT1 = t2-t1                     //Actual water temperature change ( F)\n",
"DT2 = T1 - t1                   //Maximum water temperature change ( F)\n",
"E = DT1/DT2                     //Effectiveness\n",
"NTU = (U*A)/Cmin                //Number of transfer units\n",
"//Result:\n",
"printf('The effectiveness is : %.3f .',E)\n",
"printf('The NTU is : %.3f',NTU)"
   ]
   }
,
{
		   "cell_type": "markdown",
		   "metadata": {},
		   "source": [
			"## Example 16.5: Example.sce"
		   ]
		  },
  {
"cell_type": "code",
	   "execution_count": null,
	   "metadata": {
	    "collapsed": true
	   },
	   "outputs": [],
"source": [
"//Variable declaration:\n",
"//From figure 16.13, for ideal countercurrent heat exchanger:\n",
"T1 = 150.0                      //Inlet temperature of hot fluid ( F)\n",
"T2 = 100.0                      //Outet temperature of hot fluid ( F)\n",
"t1 = 50.0                       //Inlet temperature of cold fluid ( F)\n",
"t2 = 80.0                       //Outet temperature of hot fluid ( F)\n",
"//From figure 16.14, for shell and tube exchanger:\n",
"T_1 = 50.0                      //Inlet temperature of cold fluid ( F)\n",
"T_2 = 80.0                      //Outet temperature of hot fluid ( F)\n",
"t_1 = 150.0                     //Inlet temperature of hot fluid ( F)\n",
"t_2 = 100.0                     //Outet temperature of hot fluid ( F)\n",
"//Calculation:\n",
"DT1 = T1 - t2                      //Temperature driving force 1 ( F)\n",
"DT2 = T2 - t1                       //Temperature driving force 1 ( F)\n",
"DTlm1 = ((DT1-DT2)/log(DT1/DT2))  //Log mean temperature driving force for ideal countercurrent heat exchanger ( F)\n",
"P = (t2-t1)/(T1 - t1)           //Dimensionless ratio P\n",
"R = (T1-T2)/(t2-t1)             //Dimensionless ratio R\n",
"//From figure 16.7:\n",
"F = 0.925                       //Correction Factor\n",
"DTlm2 = F*DTlm1                 //Log mean temperature driving force for shell and tube exchanger ( F)\n",
"//Result:\n",
"printf('The log mean temperature difference for ideal system is : %.1f F.',DTlm1)\n",
"printf('The log mean temperature difference for real system is : %.2f F.',DTlm2)"
   ]
   }
,
{
		   "cell_type": "markdown",
		   "metadata": {},
		   "source": [
			"## Example 16.6: Example.sce"
		   ]
		  },
  {
"cell_type": "code",
	   "execution_count": null,
	   "metadata": {
	    "collapsed": true
	   },
	   "outputs": [],
"source": [
"//Variable declaration:\n",
"T1 = 400.0                      //Temperature of fluid entering the shell ( F)\n",
"T2 = 250.0                      //Temperature of fluid leaving the shell ( F)\n",
"t1 = 100.0                      //Temperature of fluid entering the tube ( F)\n",
"t2 = 175.0                      //Temperature of fluid leaving the tube ( F)\n",
"//Calculation:\n",
"DT1 = T1 - T2                   //Temperature driving force 1 ( F)\n",
"DT2 = t2 - t1                   //Temperature driving force 1 ( F)\n",
"DTlm1 = ((DT1-DT2)/log(DT1/DT2))  //Log mean temperature driving force for ideal countercurrent heat exchanger ( F)\n",
"P = (t2-t1)/(T1 - t1)           //Dimensionless ratio P\n",
"R = (T1-T2)/(t2-t1)             //Dimensionless ratio R\n",
"//From figure 16.8:\n",
"F = 0.985                       //Correction factor\n",
"DTlm2 = F*DTlm1                 //Log mean temperature driving force for shell and tube exchanger ( F)\n",
"//Result:\n",
"printf('The log mean temperature difference between the hot fluid and the cold fluid is : %.1f F.',DTlm2)"
   ]
   }
,
{
		   "cell_type": "markdown",
		   "metadata": {},
		   "source": [
			"## Example 16.7: Example.sce"
		   ]
		  },
  {
"cell_type": "code",
	   "execution_count": null,
	   "metadata": {
	    "collapsed": true
	   },
	   "outputs": [],
"source": [
"//Variable declaration:\n",
"//From example 16.5:\n",
"P1 = 0.30                        //Dimensionless ratio P\n",
"R1 = 1.67                        //Dimensionless ratio R\n",
"//From example 16.6:\n",
"P2 = 0.30                        //Dimensionless ratio P\n",
"R2 = 1.67                        //Dimensionless ratio R\n",
"//Calculation:\n",
"//Applying Equation 16.27:\n",
"F1 = 0.92                        //Correction Factor\n",
"//Applying Equation 16.33:\n",
"F2 = 0.985                       //Correction Factor\n",
"//From example 16.6:\n",
"LMTD1 = 59.4                      //Log mean temperature driving force 1 for ideal countercurrent heat exchanger ( F)\n",
"LMTD2 = 108.0                     //Log mean temperature driving force 2 for ideal countercurrent heat exchanger ( F)\n",
"DTlm1 = F1*LMTD1                  //Log mean temperature driving force 1 for shell and tube exchanger ( F)\n",
"DTlm2 = F2*LMTD2                  //Log mean temperature driving force 2 for shell and tube exchanger ( F)\n",
"//Result:\n",
"printf('The log mean temperature difference for real system (in example 16.5) is : %.2f F.',DTlm1)\n",
"printf('The log mean temperature difference for real system (in example 16.6) is : %.1f F .',DTlm2)"
   ]
   }
,
{
		   "cell_type": "markdown",
		   "metadata": {},
		   "source": [
			"## Example 16.8: Example.sce"
		   ]
		  },
  {
"cell_type": "code",
	   "execution_count": null,
	   "metadata": {
	    "collapsed": true
	   },
	   "outputs": [],
"source": [
"//Variable declaration:\n",
"t2 = 75.0                       //Temperature of water leaving the shell ( C)\n",
"t1 = 35.0                       //Temperature of water enteringing the shell ( C)\n",
"T2 = 75.0                       //Temperature of oil leaving the tube ( C)\n",
"T1 = 110.0                      //Temperature of oil entering the tube ( C)\n",
"m = 1.133                       //Mass flowrate of water (kg/s)\n",
"cp = 4180.0                     //Heat capacity of water (J/kg.K)\n",
"F = 0.965                       //Correction factor\n",
"U = 350.0                       //Overall heat transfer coefficient (W/m^2.K)\n",
"//Calculation:\n",
"Q = m*cp*(t2-t1)                //Heat load (W)\n",
"DT1 = T1-t2                     //Temperature driving force 1 ( C)\n",
"DT2 = T2-t1                     //Temperature driving force 2 ( C)\n",
"DTlm1 = (DT1-DT2)/log(DT1/DT2)+273.0  //Countercurrent log-mean temperature difference (K)\n",
"DTlm2 = F*DTlm1                 //Corrected log-mean temperature difference (K)\n",
"A = Q/(U*DTlm2)                 //Required heat transfer area (m^2)\n",
"//Result:\n",
"printf('The required heat-transfer area is : %.3f m^2.',A)"
   ]
   }
],
"metadata": {
		  "kernelspec": {
		   "display_name": "Scilab",
		   "language": "scilab",
		   "name": "scilab"
		  },
		  "language_info": {
		   "file_extension": ".sce",
		   "help_links": [
			{
			 "text": "MetaKernel Magics",
			 "url": "https://github.com/calysto/metakernel/blob/master/metakernel/magics/README.md"
			}
		   ],
		   "mimetype": "text/x-octave",
		   "name": "scilab",
		   "version": "0.7.1"
		  }
		 },
		 "nbformat": 4,
		 "nbformat_minor": 0
}
