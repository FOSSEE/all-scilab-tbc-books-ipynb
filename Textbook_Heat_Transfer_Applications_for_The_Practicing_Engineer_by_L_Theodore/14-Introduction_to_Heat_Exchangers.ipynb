{
"cells": [
 {
		   "cell_type": "markdown",
	   "metadata": {},
	   "source": [
       "# Chapter 14: Introduction to Heat Exchangers"
	   ]
	},
{
		   "cell_type": "markdown",
		   "metadata": {},
		   "source": [
			"## Example 14.10: Example.sce"
		   ]
		  },
  {
"cell_type": "code",
	   "execution_count": null,
	   "metadata": {
	    "collapsed": true
	   },
	   "outputs": [],
"source": [
"//Variable declaration:\n",
"A = 1.0                         //Surface area of glass (m^2)\n",
"h1 = 11.0                       //Heat transfer coefficient inside room (W/m^2.K)\n",
"L2 = 0.125*0.0254               //Thickness of glass (m)\n",
"k2 = 1.4                        //Thermal conductivity of glass (W/m.K)\n",
"h3 = 9.0                        //Heat transfer coefficient from window to surrounding cold air (W/m^2.K)\n",
"//Calculation:\n",
"R1 = 1.0/(h1*A)                 //Internal convection resistance (K/W)\n",
"R2 = L2/(k2*A)                  //Conduction resistance through glass panel (K/W)\n",
"R3 = 1.0/(h3*A)                 //Outside convection resistance (K/W)\n",
"Rt = R1+R2+R3                   //Total thermal resistance (K/W)\n",
"U = 1.0/(A*Rt)                  //Overall heat transfer coefficient (W/m^2.K)\n",
"//Result:\n",
"printf('The overall heat transfer coefficient is : %.1f W/m^2.K.',U)"
   ]
   }
,
{
		   "cell_type": "markdown",
		   "metadata": {},
		   "source": [
			"## Example 14.11: Example.sce"
		   ]
		  },
  {
"cell_type": "code",
	   "execution_count": null,
	   "metadata": {
	    "collapsed": true
	   },
	   "outputs": [],
"source": [
"//Variable declaration:\n",
"Dx = 0.049/12.0                     //Thickness of copper plate (ft)\n",
"h1 = 208.0                          //Film coefficient of surface one (Btu/h.ft^2.°F)\n",
"h2 = 10.8                           //Film coefficient of surface two (Btu/h.ft^2.°F)\n",
"k = 220.0                           //Thermal conductivity for copper (W/m.K)\n",
"//Calculation:\n",
"U = 1.0/(1.0/h1+Dx/k+1.0/h2)        //Overall heat transfer coefficient (Btu/h.ft^2.°F)\n",
"//Result:\n",
"printf('The overall heat transfer coefficient is : %.2f Btu/h.ft^2.°F.',U)"
   ]
   }
,
{
		   "cell_type": "markdown",
		   "metadata": {},
		   "source": [
			"## Example 14.12: Example.sce"
		   ]
		  },
  {
"cell_type": "code",
	   "execution_count": null,
	   "metadata": {
	    "collapsed": true
	   },
	   "outputs": [],
"source": [
"//Variable declaration:\n",
"Do = 0.06                        //Outside diameter of pipe (m)\n",
"Di = 0.05                        //Inside diameter of pipe (m)\n",
"ho = 8.25                        //Outside coefficient (W/m^2.K)\n",
"hi = 2000.0                      //Inside coefficient (W/m^2.K)\n",
"R = 1.33*10**-4                  //Resistance for steel (m^2.K/W)\n",
"//Calculation:\n",
"U = 1.0/(Do/(hi*Di)+R+1.0/ho)    //Overall heat transfer coefficient (W/m^2.°K)\n",
"//Result:\n",
"printf('The overall heat transfer coefficient is : %.2f W/m^2.°K.',U)"
   ]
   }
,
{
		   "cell_type": "markdown",
		   "metadata": {},
		   "source": [
			"## Example 14.14: Example.sce"
		   ]
		  },
  {
"cell_type": "code",
	   "execution_count": null,
	   "metadata": {
	    "collapsed": true
	   },
	   "outputs": [],
"source": [
"//Variable declaration:\n",
"Di = 0.825/12.0                         //Pipe inside diameter (ft)\n",
"Do = 1.05/12.0                          //Pipe outside diameter (ft)\n",
"Dl = 4.05/12.0                           //Insulation thickness (ft)\n",
"l = 1.0                                 //Pipe length (ft)\n",
"kp = 26.0                               //Thermal conductivity of pipe (Btu/h.ft.°F)\n",
"kl = 0.037                              //Thermal conductivity of insulation (Btu/h.ft.°F)\n",
"hi = 800.0                              //Steam film coefficient (Btu/h.ft^2.°F)\n",
"ho = 2.5                                //Air film coefficient (Btu/h.ft^2.°F)\n",
"pi = %pi\n",
"//Calculation:\n",
"ri = Di/2.0                             //Pipe inside radius (ft)\n",
"ro = Do/2.0                             //Pipe outside radius (ft)\n",
"rl = Dl/2.0                             //Insulation radius (ft)\n",
"Ai = pi*Di*l                            //Inside area of pipe (ft^2)\n",
"Ao = pi*Do*l                            //Outside area of pipe (ft^2)\n",
"Al = pi*Dl*l                            //Insulation area of pipe (ft^2)\n",
"A_Plm = (Ao-Ai)/log(Ao/Ai)              //Log mean area for steel pipe (ft^2)\n",
"A_Ilm = (Al-Ao)/log(Al/Ao)              //Log mean area for insulation (ft^2)\n",
"Ri = 1.0/(hi*Ai)                        //Air resistance (m^2.K/W)\n",
"Ro = 1.0/(ho*Al)                        //Steam resistance (m^2.K/W)\n",
"Rp = (ro-ri)/(kp*A_Plm)                 //Pipe resistance (m^2.K/W)\n",
"Rl = (rl-ro)/(kl*A_Ilm)                 //Insulation resistance (m^2.K/W)\n",
"U = 1.0/(Ai*(Ri+Rp+Ro+Rl))              //Overall heat coefficient based on the inside area (Btu/h.ft^2.°F)\n",
"//Result:\n",
"printf('The overall heat transfer coefficient based on the inside area of the pipe is : %.3f  Btu/h.ft^2.°F .',U)"
   ]
   }
,
{
		   "cell_type": "markdown",
		   "metadata": {},
		   "source": [
			"## Example 14.15: Example.sce"
		   ]
		  },
  {
"cell_type": "code",
	   "execution_count": null,
	   "metadata": {
	    "collapsed": true
	   },
	   "outputs": [],
"source": [
"//Variable declaration:\n",
"//From example 14.14:\n",
"Di = 0.825/12.0                         //%pipe inside diameter (ft)\n",
"L = 1.0                                 //%pipe length (ft)\n",
"Ui = 0.7492                             //Overall heat coefficient (Btu/h.ft^2.°F)\n",
"Ts = 247.0                              //Steam temperature (°F)\n",
"ta = 60.0                               //Air temperature (°F)\n",
"//Calculation:\n",
"Ai = %pi*Di*L                            //Inside area of %pipe (ft^2)\n",
"Q = Ui*Ai*(Ts-ta)                       //Heat transfer rate (Btu/h)\n",
"//Result:\n",
"printf('The heat transfer rate is : %.1f Btu/h.',Q)"
   ]
   }
,
{
		   "cell_type": "markdown",
		   "metadata": {},
		   "source": [
			"## Example 14.16: Example.sce"
		   ]
		  },
  {
"cell_type": "code",
	   "execution_count": null,
	   "metadata": {
	    "collapsed": true
	   },
	   "outputs": [],
"source": [
"//Variable declaration:\n",
"hw = 200.0                      //Water heat coefficient (Btu/h.ft^2.°F)\n",
"ho = 50.0                       //Oil heat coefficient (Btu/h.ft^2.°F)\n",
"hf = 1000.0                     //Fouling heat coefficient (Btu/h.ft^2.°F)\n",
"DTlm = 90.0                     //Log mean temperature difference (°F)\n",
"A = 15.0                        //Area of wall (ft^2)\n",
"//Calculation:\n",
"X = 1.0/hw+1.0/ho+1.0/hf        //Equation 14.34 for constant A\n",
"U = 1.0/X                       //Overall heat coeffocient (Btu/h.ft^2.°F)\n",
"Q = U*A*DTlm                    //Heat transfer rate (Btu/h)\n",
"Q = round(Q*10**-1)/10**-1\n",
"//Result:\n",
"printf('The heat transfer rate is : %f Btu/h.',Q)"
   ]
   }
,
{
		   "cell_type": "markdown",
		   "metadata": {},
		   "source": [
			"## Example 14.17: Example.sce"
		   ]
		  },
  {
"cell_type": "code",
	   "execution_count": null,
	   "metadata": {
	    "collapsed": true
	   },
	   "outputs": [],
"source": [
"																					//Variable declaration:\n",
"T = 80.0                        //Pipe surface temperature (°F)\n",
"t1 = 10.0                       //Brine inlet temperature (°F)\n",
"syms DT2                        //Discharge temperature of the brine solution (°F)\n",
"m = 20*60                       //Flowrate of brine solution (lb/h)\n",
"Cp = 0.99                       //Heat capacity of brine solution (Btu/lb.°F)\n",
"U1 = 150                        //Overall heat transfer coefficient at brine solution entrance (Btu/h.ft^2.°F)\n",
"U2 = 140                        //Overall heat transfer coefficientat at brine solution exit (Btu/h.ft^2.°F)\n",
"A = 2.5                         //Pipe surface area for heat transfer (ft^2)\n",
"//Calculation:\n",
"DT1 = T-t1                      //Temperature approach at the pipe entrance (°F)\n",
"Q = m*Cp*(DT1-DT2)              //Energy balance to the brine solution across the full length of the pipe (Btu/h)\n",
"DT1m = (DT1-DT2)/log(DT1/DT2)   //Equation for the LMTD\n",
"QQ = A*(U2*DT1-U1*DT2)/log(U2*DT1/U1/DT2)   //Equation for the heat transfer rate (Btu/h)\n",
"E = QQ-Q                        //Energy balance equation\n",
"R = integrate(E,DT2,1.2)\n",
"     //\n",
"DT = 51.6254331484575                      //Log mean temperature difference\n",
"t2 = T-DT                       //In discharge temperature of the brine solution (°F)\n",
"t2c = 5/9*(t2-32)               //In discharge temperature of the brine solution in °C (c/5 = (F-32)/9)\n",
"_Q_ = eval(subst(DT,DT2,Q))            //Heat transfer rate (Btu/h)\n",
"Q1 = round(_Q_*10**-1)/10**-1\n",
"Q2 = round(_Q_/3.412*10**-2)/10**-2\n",
"//Result:\n",
"printf('The temperature approach at the brine inlet side is : %.1f  °F.',DT1)\n",
"printf('Or, the temperature approach at the brine inlet side is : %.1f °C.',DT1/1.8)\n",
"printf('The exit temperature of the brine solution is : %.2f °F.',t2)\n",
"printf('Or, the exit temperature of the brine solution is : %.1f °C.',(t2-32)/1.8)\n",
"printf('The rate of heat transfer is : %f Btu/h.',Q1)\n",
"printf('Or, the rate of heat transfer is : %f W.',Q2)\n",
"				\n",
"								"
   ]
   }
,
{
		   "cell_type": "markdown",
		   "metadata": {},
		   "source": [
			"## Example 14.1: Example.sce"
		   ]
		  },
  {
"cell_type": "code",
	   "execution_count": null,
	   "metadata": {
	    "collapsed": true
	   },
	   "outputs": [],
"source": [
"//Variable declaration:\n",
"scfm = 20000.0                  //Volumetric flow rate of air at standard conditions (scfm)\n",
"H1 = 1170.0                     //Enthalpy at 200°F (Btu/lbmol)\n",
"H2 = 14970.0                    //Enthalpy at 2000°F (Btu/lbmol)\n",
"Cp = 7.53                       //Average heat capacity (Btu/lbmol.°F)\n",
"T1 = 200.0                      //Initial temperature (°F)\n",
"T2 = 2000.0                     //Final temperature (°F)\n",
"//Calculation:\n",
"n = scfm/359.0                  //Flow rate of air in a molar flow rate (lbmol/min)\n",
"DH = H2 - H1                    //Change in enthalpy (Btu/lbmol)\n",
"DT = T2 - T1                    //Change in temperature (°F)\n",
"Q1 = n*DH                       //Heat transfer rate using enthalpy data (Btu/min)\n",
"Q2 = n*Cp*DT                    //Heat transfer rate using the average heat capacity data (Btu/min)\n",
"//Result:\n",
"printf('The heat transfer rate using enthalpy data is : %.2f x 10^5 Btu/min.',Q1/10**5)\n",
"printf('The heat transfer rate using the average heat capacity data is : %.2f  x 10^5 Btu/min.',Q2/10**5)"
   ]
   }
,
{
		   "cell_type": "markdown",
		   "metadata": {},
		   "source": [
			"## Example 14.2: Example.sce"
		   ]
		  },
  {
"cell_type": "code",
	   "execution_count": null,
	   "metadata": {
	    "collapsed": true
	   },
	   "outputs": [],
"source": [
"//Variable declaration:\n",
"n = 1200.0                  //Flow rate of air in a molar flow rate (lbmol/min)\n",
"Cp = 0.26                   //Average heat capacity (Btu/lbmol.°F)\n",
"T1 = 200.0                  //Initial temperature (°F)\n",
"T2 = 1200.0                 //Final temperature (°F)\n",
"//Calculation:\n",
"DT = T2 - T1                //Change in temperature (°F)\n",
"Q = n*Cp*DT                 //Required heat rate (Btu/min)\n",
"//Result:\n",
"printf('The required heat rate is : %.2f x 10^5 Btu/min.',Q/10**5)"
   ]
   }
,
{
		   "cell_type": "markdown",
		   "metadata": {},
		   "source": [
			"## Example 14.3: Example.sce"
		   ]
		  },
  {
"cell_type": "code",
	   "execution_count": null,
	   "metadata": {
	    "collapsed": true
	   },
	   "outputs": [],
"source": [
"//Variable declaration:\n",
"Tc1 = 25.0                  //Initial temperature of cold fluid (°C)\n",
"Th1 = 72.0                  //Initial temperature of hot fluid (°C)\n",
"Th2 = 84.0                  //Final temperature of hot fluid (°C)\n",
"//Calculation:\n",
"//From equation 14.2:\n",
"Tc2 = (Th2-Th1)+Tc1         //Final temperature of cold fluid (°C)\n",
"//Result:\n",
"printf('The final temperature of the cold liquid is : %f °C.',Tc2)\n",
"printf('There is a printing mistake in unit of final temperature in book.')"
   ]
   }
,
{
		   "cell_type": "markdown",
		   "metadata": {},
		   "source": [
			"## Example 14.4: Example.sce"
		   ]
		  },
  {
"cell_type": "code",
	   "execution_count": null,
	   "metadata": {
	    "collapsed": true
	   },
	   "outputs": [],
"source": [
"//Variable declaration:\n",
"Ts = 100.0                  //Steam temperature at 1 atm (°C)\n",
"Tl = 25.0                   //Fluid temperature (°C)\n",
"//Calculation:\n",
"DTlm = Ts - Tl              //Log mean temperature difference (°C)\n",
"//Result:\n",
"printf('The LMTD is : %f °C.',DTlm)"
   ]
   }
,
{
		   "cell_type": "markdown",
		   "metadata": {},
		   "source": [
			"## Example 14.5: Example.sce"
		   ]
		  },
  {
"cell_type": "code",
	   "execution_count": null,
	   "metadata": {
	    "collapsed": true
	   },
	   "outputs": [],
"source": [
"//Variable declaration:\n",
"Ts = 100.0                      //Steam temperature at 1 atm (°C)\n",
"T1 = 25.0                       //Initial fluid temperature (°C)\n",
"T2 = 80.0                       //Final fluid temperature (°C)\n",
"//Calculation:\n",
"DT1 = Ts - T1                   //Temperature difference driving force at the fluid entrance (°C)\n",
"DT2 = Ts - T2                   //Temperature driving force at the fluid exit (°C)\n",
"DTlm = (DT1 - DT2)/log(DT1/DT2) //Log mean temperature difference (°C)\n",
"//Result:\n",
"printf('The LMTD is : %.1f °C.',DTlm)\n",
"printf('There is a calculation mistake regarding final result in book.')"
   ]
   }
,
{
		   "cell_type": "markdown",
		   "metadata": {},
		   "source": [
			"## Example 14.6: Example.sce"
		   ]
		  },
  {
"cell_type": "code",
	   "execution_count": null,
	   "metadata": {
	    "collapsed": true
	   },
	   "outputs": [],
"source": [
"//Variable declaration:\n",
"T1 = 500.0                      //Temperature of hot fluid entering the heat exchanger (°F)\n",
"T2 = 400.0                      //Temperature of hot fluid exiting the heat exchanger (°F)\n",
"t1 = 120.0                      //Temperature of cold fluid entering the heat exchanger (°F)\n",
"t2 = 310.0                      //Temperature of cold fluid exiting the heat exchanger (°F)\n",
"//Calculation:\n",
"DT1 = T1 - t2                   //Temperature difference driving force at the heat exchanger entrance (°F)\n",
"DT2 = T2 - t1                   //Temperature difference driving force at the heat exchanger exit (°F)\n",
"DTlm = (DT1 - DT2)/(log(DT1/DT2))   //LMTD (driving force) for the heat exchanger (°F)\n",
"//Result:\n",
"printf('The LMTD (driving force) for the heat exchanger is : %.0f  °F.',DTlm)"
   ]
   }
,
{
		   "cell_type": "markdown",
		   "metadata": {},
		   "source": [
			"## Example 14.7: Example.sce"
		   ]
		  },
  {
"cell_type": "code",
	   "execution_count": null,
	   "metadata": {
	    "collapsed": true
	   },
	   "outputs": [],
"source": [
"//Variable declaration:\n",
"m = 8000.0                  //Rate of oil flow inside the tube (lb/h)\n",
"Cp = 0.55                   //Heat capacity of oil (Btu/lb.°F)\n",
"T1 = 210.0                  //Initial temperature of oil (°F)\n",
"T2 = 170.0                  //Final temperature of oil (°F)\n",
"t = 60.0                    //Tube surface temperature (°F)\n",
"//Calculation:\n",
"DT = T2 - T1                //Change in temperature (°F)\n",
"Q = m*Cp*DT                 //Heat transferred from the heavy oil (Btu/h)\n",
"DT1 = T1 - t                //Temperature difference driving force at the pipe entrance (°F)\n",
"DT2 = T2 - t                //Temperature difference driving force at the pipe exit (°F)\n",
"DTlm = (DT1 - DT2)/(log(DT1/DT2))   //LMTD (driving force) for the heat exchanger (°F)\n",
"//Result:\n",
"printf('The heat transfer rate is : %.0f Btu/h.',Q)\n",
"printf('The LMTD for the heat exchanger is : %.0f °F.',DTlm)"
   ]
   }
,
{
		   "cell_type": "markdown",
		   "metadata": {},
		   "source": [
			"## Example 14.8: Example.sce"
		   ]
		  },
  {
"cell_type": "code",
	   "execution_count": null,
	   "metadata": {
	    "collapsed": true
	   },
	   "outputs": [],
"source": [
"//Variable declaration:\n",
"T1 = 138.0                  //Temperature of oil entering the cooler (°F)\n",
"T2 = 103.0                  //Temperature of oil leaving the cooler (°F)\n",
"t1 = 88.0                   //Temperature of coolant entering the cooler (°F)\n",
"t2 = 98.0                   //Temperature of coolant leaving the cooler (°F)\n",
"//Calculation:\n",
"//For counter flow unit:\n",
"DT1 = T1 - t2               //Temperature difference driving force at the cooler entrance (°F)\n",
"DT2 = T2 - t1               //Temperature difference driving force at the cooler exit (°F)\n",
"DTlm1 = (DT1 - DT2)/(log(DT1/DT2))   //LMTD (driving force) for the heat exchanger (°F)\n",
"//For parallel flow unit:\n",
"DT3 = T1 - t1               //Temperature difference driving force at the cooler entrance (°F)\n",
"DT4 = T2 - t2               //Temperature difference driving force at the cooler exit (°F)\n",
"DTlm2 = (DT3 - DT4)/(log(DT3/DT4))   //LMTD (driving force) for the heat exchanger (°F)\n",
"//Result:\n",
"printf('The LMTD for counter-current flow unit is : %.1f °F.',DTlm1)\n",
"printf('The LMTD for parallel flow unit is : %.1f °F.',DTlm2)"
   ]
   }
],
"metadata": {
		  "kernelspec": {
		   "display_name": "Scilab",
		   "language": "scilab",
		   "name": "scilab"
		  },
		  "language_info": {
		   "file_extension": ".sce",
		   "help_links": [
			{
			 "text": "MetaKernel Magics",
			 "url": "https://github.com/calysto/metakernel/blob/master/metakernel/magics/README.md"
			}
		   ],
		   "mimetype": "text/x-octave",
		   "name": "scilab",
		   "version": "0.7.1"
		  }
		 },
		 "nbformat": 4,
		 "nbformat_minor": 0
}
