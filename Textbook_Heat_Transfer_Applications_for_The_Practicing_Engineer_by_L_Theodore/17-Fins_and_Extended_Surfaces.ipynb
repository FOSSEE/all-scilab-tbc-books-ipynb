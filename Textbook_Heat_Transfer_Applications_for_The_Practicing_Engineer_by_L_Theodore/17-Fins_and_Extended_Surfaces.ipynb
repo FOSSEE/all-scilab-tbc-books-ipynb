{
"cells": [
 {
		   "cell_type": "markdown",
	   "metadata": {},
	   "source": [
       "# Chapter 17: Fins and Extended Surfaces"
	   ]
	},
{
		   "cell_type": "markdown",
		   "metadata": {},
		   "source": [
			"## Example 17.10: Example.sce"
		   ]
		  },
  {
"cell_type": "code",
	   "execution_count": null,
	   "metadata": {
	    "collapsed": true
	   },
	   "outputs": [],
"source": [
"//Variable declaration:\n",
"Do = 2.5/100                    //Outside diameter of tube (m)\n",
"t = 1/10**3                     //Thickness of fin (m)\n",
"T = 25                          //Fluid temperature ( C)\n",
"Tb = 170                        //Surface temperature ( C)\n",
"h = 130                         //Heat transfer coefficient (W/m^2.K)\n",
"k = 200                         //Thermal conductivity of fin (W/m.K)\n",
"rf = 2.75/100                   //Outside radius of fin (m)\n",
"//Calculation:\n",
"ro = Do/2                       //Radius of tube (m)\n",
"Ab = 2*%pi*ro*t                  //Area of the base of the fin (m^2)\n",
"Te = Tb-T                       //Excess temperature at the base of the fin (K)\n",
"Q1 = h*Ab*Te                    //Total heat transfer rate without the fin (W)\n",
"Bi = h*(t/2)/k                  //Biot number\n",
"L = rf-ro                       //Fin height (m)\n",
"rc = rf+t/2                     //Corrected radius (m)\n",
"Lc = L+t/2                      //Corrected height (m)\n",
"Ap = Lc*t                       //Profile area (m^2)\n",
"Af = 2*%pi*(rc**2-ro**2)         //Fin surface area (m^2)\n",
"Qm = h*Af*Te                    //Maximum fin heat transfer rate (W)\n",
"A = sqrt(Lc**3*h/(k*Ap))        //Abscissa of fin efficiency\n",
"C = rf/ro                       //Curve parameter of fin efficiency\n",
"//From figure 17.4:\n",
"nf = 0.86                       //Fin efficiency\n",
"Qf = nf*Qm                      //Fin heat transfer rate (W)\n",
"R = Te/Qf                       //Fin resistance (K/W)\n",
"//Result:\n",
"printf('1. The heat transfer rate without the fin is : %.2f W .',Q1)\n",
"printf('Or, the heat transfer rate without the fin is : %.0f Btu/h .',Q1*3.412)\n",
"printf('2. The corrected length is : %.4f m .',Lc)\n",
"printf('3. The outer radius is : %.3f m ',rc)\n",
"printf('4. The maximum heat transfer rate from the fin is : %.2f W .',Qm)\n",
"printf('5. The fin efficiency is : %.0f %%',nf*100)\n",
"printf('6. The fin heat transfer rate is : %.0f %%',Qf)\n",
"printf('Or, the fin heat transfer rate is : %.0f %%',Qf*3.412)\n",
"printf('7. The fin thermal resistance is : %.2f K/W .',R)"
   ]
   }
,
{
		   "cell_type": "markdown",
		   "metadata": {},
		   "source": [
			"## Example 17.11: Example.sce"
		   ]
		  },
  {
"cell_type": "code",
	   "execution_count": null,
	   "metadata": {
	    "collapsed": true
	   },
	   "outputs": [],
"source": [
"//Variable declaration:\n",
"//From example 17.10:\n",
"Qf = 64                     //Fin heat transfer rate (W)\n",
"Q1 = 1.48                   //Total heat transfer rate without the fin (W)\n",
"//Calculation:\n",
"E = Qf/Q1                   //Fin effectiveness\n",
"//Result:\n",
"printf('The fin effectiveness is : %.1f',E)\n",
"if E>2 then\n",
"    printf('Hence, the use of the fin is justified.')\n",
"end    "
   ]
   }
,
{
		   "cell_type": "markdown",
		   "metadata": {},
		   "source": [
			"## Example 17.12: Example.sce"
		   ]
		  },
  {
"cell_type": "code",
	   "execution_count": null,
	   "metadata": {
	    "collapsed": true
	   },
	   "outputs": [],
"source": [
"//Variable declaration:\n",
"w = 1                           //Length of tube (m)\n",
"S = 10/10**3                    //Fin patch (m)\n",
"//From example 17.10:\n",
"t = 1/10**3                     //Thickness of fin (m)\n",
"ro = 0.0125                     //Radius of tube (m)\n",
"Af = 3.94*10**-3                //Fin surface area (m^2)\n",
"Tb = 145                        //Excess temperature at the base of the fin (K)\n",
"h = 130                         //Heat transfer coefficient (W/m^2.K)\n",
"Qf = 64                         //Fin heat transfer rate (W)\n",
"//Calculation:\n",
"Nf = w/S                        //Number of fins in tube length\n",
"wb = w-Nf*t                     //Unfinned base length (m)\n",
"Ab = 2*%pi*ro*wb                 //Unfinned base area (m^2)\n",
"At =Ab+Nf*Af                    //Total transfer surface area (m^2)\n",
"Qt = h*(2*%pi*ro*w*Tb)           //Total heat rate without fins (W)\n",
"Qb = h*Ab*Tb                    //Heat flow rate from the exposed tube base (W)\n",
"Qft = Nf*Qf                     //Heat flow rate from all the fins (W)\n",
"Qt2 = Qb+Qft                    //Total heat flow rate (W)\n",
"Qm = h*At*Tb                    //Maximum heat transfer rate (W)\n",
"no = Qt2/Qm                     //Overall fin efficiency\n",
"Eo = Qt2/Qt                     //Overall effectiveness\n",
"Rb = 1/(h*Ab)                   //Thermal resistance of base (K/W)\n",
"Rf = 1/(h*Nf*Af*no)             //Thermal resistance of fins (K/W)\n",
"//Result:\n",
"printf('1. The total surface area for heat transfer is : %.3f m^2 .',At)\n",
"printf('2. The exposed tube base total heat transfer rate is : %.1f W .',Qb)\n",
"printf('Or, the exposed tube base total heat transfer rate is : %.0f Btu/h .',Qb*3.412)\n",
"printf('3. The overall efficiency of the surface is : %.1f %%',no*100)\n",
"printf('4. The overall surface effectiveness is : %.2f .',Eo)"
   ]
   }
,
{
		   "cell_type": "markdown",
		   "metadata": {},
		   "source": [
			"## Example 17.13: Example.sce"
		   ]
		  },
  {
"cell_type": "code",
	   "execution_count": null,
	   "metadata": {
	    "collapsed": true
	   },
	   "outputs": [],
"source": [
"//Variable declaration:\n",
"w = 1                           //Width of single of fin (m)\n",
"t = 2/10**3                     //Fin base thickness (m)\n",
"l = 6/10**3                     //Fin length thickness (m)\n",
"T1 = 250                        //Surface temperature ( C)\n",
"T2 = 20                         //Ambient air temperature ( C)\n",
"h = 40                          //Surface convection coefficient (W/m^2.K)\n",
"k = 240                         //Thermal conductivity of fin (W/m.K)\n",
"//Calculation:\n",
"Ab = t*w                        //Base area of the fin (m^2)\n",
"Te = T1-T2                      //Excess temperature at the base of the fin (K)\n",
"Qw = h*Ab*Te                    //Heat transfer rate without a fin (W)\n",
"Af = 2*w*(sqrt(l**2-(t/2)**2))  //Fin surface area (m^2)\n",
"Qm = h*Af*Te                    //Maximum heat transfer rate (m^2)\n",
"Bi = h*(t/2)/k                  //Biot number\n",
"Lc = l                          //Corrected length (m)\n",
"Ap = l*t/2                      //Profile area (m^2)\n",
"A = sqrt((Lc**3*h)/k*Ap)        //Abscissa for the fin efficiency figure\n",
"//From figure 17.4:\n",
"nf = 0.99                       //Fin efficiency\n",
"Qf = nf*Qm                      //Fin heat transfer rate (W)\n",
"R = Te/Qf                       //Fin thermal resistance (K/W)\n",
"E = Qf/Qw                       //Fin effectiveness\n",
"Qm = round(Qm*10**-1)/10**-1\n",
"//Result:\n",
"printf('1. The heat transfer rate without the fin is : %.1f W .',Qw)\n",
"printf('2. The maximum heat transfer rate from the fin is : %f W .',Qm)\n",
"printf('3. The fin efficiency is : %.0f %%',nf*100)\n",
"printf('   The fin thermal resistance is : %.1f C/W .',R)\n",
"printf('   The fin effectiveness is : %.1f .',E)"
   ]
   }
,
{
		   "cell_type": "markdown",
		   "metadata": {},
		   "source": [
			"## Example 17.14: Example.sce"
		   ]
		  },
  {
"cell_type": "code",
	   "execution_count": null,
	   "metadata": {
	    "collapsed": true
	   },
	   "outputs": [],
"source": [
"//Variable declaration:\n",
"//From example 17.13:\n",
"Qf = 108.9                  //Fin heat transfer rate (W)\n",
"Qw = 18.4                   //Total heat transfer rate without the fin (W)\n",
"//Calculation:\n",
"E = Qf/Qw                   //Fin effectiveness\n",
"//Result:\n",
"printf('The fin effectiveness is : %.2f .',E)\n",
"if E>2 then\n",
"    printf('Hence, the use of the fin is justified.')\n",
"end    "
   ]
   }
,
{
		   "cell_type": "markdown",
		   "metadata": {},
		   "source": [
			"## Example 17.15: Example.sce"
		   ]
		  },
  {
"cell_type": "code",
	   "execution_count": null,
	   "metadata": {
	    "collapsed": true
	   },
	   "outputs": [],
"source": [
"//Variable declaration:\n",
"Do = 50/10**3                   //Outside diameter of tube (m)\n",
"t = 4/10**3                     //Thickness of fin (m)\n",
"T = 20                          //Fluid temperature ( C)\n",
"Tb = 200                        //Surface temperature ( C)\n",
"h = 40                          //Heat transfer coefficient (W/m^2.K)\n",
"k = 240                         //Thermal conductivity of fin (W/m.K)\n",
"l = 15/10**3                    //Length of fin (m)\n",
"//Calculation:\n",
"ro = Do/2                       //Radius of tube (m)\n",
"rf = ro+l                       //Outside radius of fin (m)\n",
"Ab = 2*%pi*ro*t                  //Area of the base of the fin (m^2)\n",
"Te = Tb-T                       //Excess temperature at the base of the fin (K)\n",
"Q1 = h*Ab*Te                    //Total heat transfer rate without the fin (W)\n",
"Bi = h*(t/2)/k                  //Biot number\n",
"L = rf-ro                       //Fin height (m)\n",
"rc = rf+t/2                     //Corrected radius (m)\n",
"Lc = L+t/2                      //Corrected height (m)\n",
"Ap = Lc*t                       //Profile area (m^2)\n",
"Af = 2*%pi*(rc**2-ro**2)         //Fin surface area (m^2)\n",
"Qm = h*Af*Te                    //Maximum fin heat transfer rate (W)\n",
"A = sqrt(Lc**3*h/(k*Ap))        //Abscissa of fin efficiency\n",
"C = rf/ro                       //Curve parameter of fin efficiency\n",
"//From figure 17.4:\n",
"nf = 0.97                       //Fin efficiency\n",
"Qf = nf*Qm                      //Fin heat transfer rate (W)\n",
"R = Te/Qf                       //Fin resistance (K/W)\n",
"E = Qf/Q1                       //Fin effectiveness\n",
"//Result:\n",
"printf('The fin efficiency is : %.0f %%',nf*100)\n",
"printf('The fin thermal resistance is : %.1f C/W.',R)\n",
"printf('The fin effectiveness is : %.2f .',E)\n",
"printf('The maximum heat transfer rate from a single fin is : %.2f W .',Qm)\n",
"if E>2 then\n",
"    printf('Since Ef = FCP>2, the use of the fin is justified.')\n",
"end    "
   ]
   }
,
{
		   "cell_type": "markdown",
		   "metadata": {},
		   "source": [
			"## Example 17.16: Example.sce"
		   ]
		  },
  {
"cell_type": "code",
	   "execution_count": null,
	   "metadata": {
	    "collapsed": true
	   },
	   "outputs": [],
"source": [
"//Variable declaration:\n",
"Nf = 125                        //Array of fins per meter\n",
"w = 1                           //Length of fin (m)\n",
"//From example 17.15:\n",
"t = 4/10**3                     //Thickness of fin (m)\n",
"Do = 50/10**3                   //Outside diameter of tube (m)\n",
"Af = 7.157*10**-3               //Fin surface area (m^2)\n",
"h = 40                          //Heat transfer coefficient (W/m^2.K)\n",
"DTb = 180                       //Excess temperature at the base of the fin (K)\n",
"Qf = 50                         //Fin heat transfer rate (W)\n",
"//Calculation:\n",
"ro = Do/2                       //Radius of tube (m)\n",
"wb = w-Nf*t                     //Unfinned exposed base length (m)\n",
"Ab = 2*%pi*ro*wb                 //Area of the base of the fin (m^2)\n",
"At = Ab+Nf*Af                   //Total heat transfer surface area (m^2)\n",
"Qw = h*(2*%pi*ro*w)*DTb          //Heat rate without fin (W)\n",
"Qb = h*Ab*DTb                   //Heat rate from the base (W)\n",
"Qft = Nf*Qf                     //Heat rate from the fin (W)\n",
"Qt = Qb+Qft                     //Total heat rate (W)\n",
"Qm = h*At*DTb                   //Maximum heat transfer rate (W)\n",
"n = Qt/Qm                       //Overall fin efficiency\n",
"E = Qt/Qw                       //Overall fin effectiveness\n",
"Rb = 1/(h*Ab)                   //Thermal resistance of base ( C/W)\n",
"Rf = 1/(h*Nf*Af*n)              //Thermal resistance of fin ( C/W)\n",
"//Result:\n",
"printf('The rate of heat transfer per unit length of tube is : %.1f W .',Qt)\n",
"printf('Or, the rate of heat transfer per unit length of tube is : %.2f kW .',Qt/10**3)\n",
"printf('The overall fin efficiency is : %.1f %%',n*100)\n",
"printf('The overall fin effectiveness is : %.2f .',E)"
   ]
   }
,
{
		   "cell_type": "markdown",
		   "metadata": {},
		   "source": [
			"## Example 17.17: Example.sce"
		   ]
		  },
  {
"cell_type": "code",
	   "execution_count": null,
	   "metadata": {
	    "collapsed": true
	   },
	   "outputs": [],
"source": [
"//Variable declaration:\n",
"printf('Analytical Solution')"
   ]
   }
,
{
		   "cell_type": "markdown",
		   "metadata": {},
		   "source": [
			"## Example 17.18: Example.sce"
		   ]
		  },
  {
"cell_type": "code",
	   "execution_count": null,
	   "metadata": {
	    "collapsed": true
	   },
	   "outputs": [],
"source": [
"//Variable declaration:\n",
"//From example 17.18:\n",
"T = 250                         //Base temperature of fin ( F)\n",
"h = 15                          //Convection coefficient of heat transfer (Btu/h.ft. F)\n",
"w = 1                           //Base width of fin (ft)\n",
"t = 1                           //Thickness of fin (in)\n",
"H = 1/8                         //Height of fin (in)\n",
"l = 1                           //Length of fin (in)\n",
"Q = 357.2                       //Heat transfer rate (Btu/h.ft)\n",
"//Calculation:\n",
"A = (l*w+t*w+H*w)/12            //Heat transfer area of fin (ft^2)\n",
"Qm = h*A*(T-70)                 //Maximum heat transfer rate (Btu/h.ft)\n",
"n = Q/Qm*100                    //Fin efficiency\n",
"//Result:\n",
"printf('The fin efficiency is : %.1f %%',n)"
   ]
   }
,
{
		   "cell_type": "markdown",
		   "metadata": {},
		   "source": [
			"## Example 17.1: Example.sce"
		   ]
		  },
  {
"cell_type": "code",
	   "execution_count": null,
	   "metadata": {
	    "collapsed": true
	   },
	   "outputs": [],
"source": [
"//Variable declaration:\n",
"w1 = 1.5                    //Thicknessof fin (in)\n",
"L = 12.0                    //Length of fin (in)\n",
"w2 = 0.1                    //Thickness of fin(in)\n",
"//Calculation:\n",
"Af = 2*w1*L                  //Face area of fin (in^2)\n",
"At = Af + L*w2               //Total area of fin (in^2)\n",
"//Result:\n",
"printf('The face area of the fin is : %.0f in^2 ',Af)\n",
"printf('The face area of the fin is : %.2f ft^2 .',Af/12**2)\n",
"printf('The total area of the fin is : %.1f in^2 .',At)\n",
"printf('The total area of the fin is : %.3f ft^2 .',At/12**2)"
   ]
   }
,
{
		   "cell_type": "markdown",
		   "metadata": {},
		   "source": [
			"## Example 17.3: Example.sce"
		   ]
		  },
  {
"cell_type": "code",
	   "execution_count": null,
	   "metadata": {
	    "collapsed": true
	   },
	   "outputs": [],
"source": [
"//Variable declaration:\n",
"rf = 6.0/12.0               //Outside radius of fin (ft)\n",
"ro = 4.0/12.0               //Outside radius of %pipe (ft)\n",
"t = 0.1/12.0                //Thickness of fin (ft)\n",
"//Calculation:\n",
"Af = 2*%pi*(rf**2-ro**2)     //Face area of fin (ft^2)\n",
"At = Af + 2*%pi*rf*t         //Total area of fin (ft^2)\n",
"//Result:\n",
"printf('The total fin area is : %.3f ft^2 .',At)"
   ]
   }
,
{
		   "cell_type": "markdown",
		   "metadata": {},
		   "source": [
			"## Example 17.4: Example.sce"
		   ]
		  },
  {
"cell_type": "code",
	   "execution_count": null,
	   "metadata": {
	    "collapsed": true
	   },
	   "outputs": [],
"source": [
"//Variable declaration:\n",
"L = 3.0*0.0254                  //Height of fin (m)\n",
"t = 1.0*0.0254                  //Thickness of fin (m)\n",
"h = 15.0                        //Heat transfer coefficient (W/m^2.K)\n",
"k = 300.0                       //Thermal conductivity (W/m.K)\n",
"//Calculation:\n",
"Lc = L + t/2.0                  //Corrected height of fin (m)\n",
"Ap = Lc*t                       //Profile area of fin (m^2)\n",
"x = sqrt((Lc**3*h)/(k*Ap))      //x-coordinate of figure 17.3\n",
"//From figure 17.3:\n",
"nf = 98.0                       //Fin efficiency\n",
"//Result:\n",
"printf('The fin efficiency is : %f %%',nf)"
   ]
   }
,
{
		   "cell_type": "markdown",
		   "metadata": {},
		   "source": [
			"## Example 17.5: Example.sce"
		   ]
		  },
  {
"cell_type": "code",
	   "execution_count": null,
	   "metadata": {
	    "collapsed": true
	   },
	   "outputs": [],
"source": [
"//Variable declaration:\n",
"//From example 17.4:\n",
"X = 0.1246                      //X-coordinate of figure 17.3\n",
"//Calculation:\n",
"//Applying equation (A) from Table 17.3:\n",
"Y = 4.5128*X**3 - 10.079*X**2 - 31.413*X + 101.47\n",
"//Result:\n",
"printf('The fin efficiency is : %.1f %%',Y)"
   ]
   }
,
{
		   "cell_type": "markdown",
		   "metadata": {},
		   "source": [
			"## Example 17.6: Example.sce"
		   ]
		  },
  {
"cell_type": "code",
	   "execution_count": null,
	   "metadata": {
	    "collapsed": true
	   },
	   "outputs": [],
"source": [
"//Variable declaration:\n",
"w = 0.2/100.0           //Width of fin (m)\n",
"t = 0.2/100.0           //Thickness of fin (m)\n",
"L = 1.0/100.0           //Length of fin (m)\n",
"h = 16.0                //Heat transfer coefficient (W/m^2.K)\n",
"k = 400.0               //Thermal conductivity of fin (W/m.K)\n",
"Tc = 100.0              //Circuit temperature ( C)\n",
"Ta = 25.0               //Air temperature ( C)\n",
"//Calculation:\n",
"P = 4*w                 //Fin cross-section parameter (m)\n",
"Ac = w*t                //Cross-sectional area of fin (m^2)\n",
"Lc = L+Ac/P             //Corrected height of fin (m)\n",
"m = sqrt((h*P)/(k*Ac))  //Location of minimum temperature (m^-1)\n",
"Q = (sqrt(h*P*k*Ac))*(Tc-Ta)*atan(h)*(m*Lc)     //Heat transfer from each micro-fin (W)\n",
"//Result:\n",
"printf('The heat transfer from each micro-fin is : %.2f W .',Q)"
   ]
   }
,
{
		   "cell_type": "markdown",
		   "metadata": {},
		   "source": [
			"## Example 17.8: Example.sce"
		   ]
		  },
  {
"cell_type": "code",
	   "execution_count": null,
	   "metadata": {
	    "collapsed": true
	   },
	   "outputs": [],
"source": [
"//Variable declaration:\n",
"h1 = 13.0                       //Air-side heat transfer coefficient (W/m^2.K)\n",
"A = 1.0                         //Base wall area (m^2)\n",
"L = 2.5/100                     //Length of steel fins (m)\n",
"L2 = 1.5/10**3                  //Length of steel wall (m)\n",
"k = 13.0                        //Thermal conductivity of fin (W/m.K)\n",
"k1 = 38.0                       //Thermal conductivity of steel wall (W/m.K)\n",
"h2 = 260.0                      //Water side heat transfer coefficient (W/m^2.K)\n",
"T4 = 19.0                       //Air temperature ( C)\n",
"T1 = 83.0                       //Water temperature ( C)\n",
"t = 1.3/10**3                   //Thickness of steel fins (m)\n",
"w = 1.0                         //Width of wall (m)\n",
"S = 1.3/100                     //Fin pitch(m)\n",
"//Calculation:\n",
"R1 = 1/(h1*A)                   //Air resistance ( C/W) (part 1)\n",
"R2 = L2/(k1*A)                  //Conduction resistance ( C/W)\n",
"R3 = 1/(h2*A)                   //Water resistance ( C/W)\n",
"Rt = (R1+R3)                    //Total resistance ( C/W) (part 2)\n",
"Q = (T1-T4)/Rt                  //Total heat transfer (W)\n",
"Nf = 1/S                        //Number of fins (part 3)\n",
"Lbe = w - Nf*t                  //Unfinned exposed base surface\n",
"Abe = w*Lbe                     //Exposed base surface area (m^2)\n",
"Lc = L+t/2                      //Corrected length (m)\n",
"Ap = Lc*t                       //Profile area (m^2)\n",
"Af = 2*w*Lc                     //Fin surface area (m^2)\n",
"Bi = h1*(t/2)/k1                //Biot number\n",
"a = sqrt(Lc**3*h1/(k*Ap))       //Abscissa of the fin efficiency\n",
"//From figure 17.3:\n",
"nf = 0.88                       //Fin efficiency\n",
"Rb = 1/(h1*Abe)                 //Air thermal resistance of base wall ( C/W)\n",
"Rf = 1/(h1*Nf*Af*nf)            //Air thermal resistance of fins ( C/W)\n",
"RT1 = 1/(1/Rb+1/Rf)             //Total outside resistance of the fin array ( C/W)\n",
"Rt3 = RT1+R3                    //Total resistance on air side fins ( C/W)\n",
"Qt = (T1-T4)/Rt3       //Heat transfer rate on air side fins (W)\n",
"I = (Qt/Q - 1)*100              //Percent increase in heat transfer rate to air side fins (W)\n",
"A = sqrt(Lc**3*h2/(k1*Ap))      //Abscissa of the new fin efficiency (part 4)\n",
"//From figure 17.3:\n",
"nf2 = 38.0                      //New fin efficiency\n",
"Rb2 = 1/(h2*Abe)                //Thermal resistance of base wall ( C/W)\n",
"Rf2 = 1/(h2*Nf*Af*nf2)          //Thermal resistance of fins ( C/W)\n",
"Rt4 = 1/(1/Rb2+1/Rf2)           //Total resistance of the finned surface ( C/W)\n",
"Rt5 = R1+Rt4                    //Total resistance on water side fins ( C/W)\n",
"QT1 = (T1-T4)/Rt5               //Heat transfer rate on water side fins (W)\n",
"I2 = (QT1/Q - 1)*100            //Percent increase in heat transfer rate to water side fins (W)\n",
"//Result:\n",
"if (R2<R1 | R2<R3) then\n",
"    printf('1. The conduction resistance may be neglected.')\n",
"else\n",
"    printf('1. The conduction resistance can not be neglected.')\n",
"end    \n",
"printf('2. The rate of heat transfer from water to air is : %.1f W .',Q)\n",
"printf('3. The percent increase in steady-state heat transfer rate by adding fins to the air side of the plane wall is : %.1f %%',I)\n",
"printf('4. The percent increase in steady-state heat transfer rate by adding fins to the water side of the plane wall is : %.1f %%',I2)\n",
"printf('____There is a calculation mistake in book in calculating Qt(83-19/0.0214 = 2999), hence slight differences in answer______')"
   ]
   }
],
"metadata": {
		  "kernelspec": {
		   "display_name": "Scilab",
		   "language": "scilab",
		   "name": "scilab"
		  },
		  "language_info": {
		   "file_extension": ".sce",
		   "help_links": [
			{
			 "text": "MetaKernel Magics",
			 "url": "https://github.com/calysto/metakernel/blob/master/metakernel/magics/README.md"
			}
		   ],
		   "mimetype": "text/x-octave",
		   "name": "scilab",
		   "version": "0.7.1"
		  }
		 },
		 "nbformat": 4,
		 "nbformat_minor": 0
}
