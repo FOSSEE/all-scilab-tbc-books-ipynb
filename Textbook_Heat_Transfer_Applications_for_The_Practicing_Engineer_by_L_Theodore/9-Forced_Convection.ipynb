{
"cells": [
 {
		   "cell_type": "markdown",
	   "metadata": {},
	   "source": [
       "# Chapter 9: Forced Convection"
	   ]
	},
{
		   "cell_type": "markdown",
		   "metadata": {},
		   "source": [
			"## Example 9.10: Example.sce"
		   ]
		  },
  {
"cell_type": "code",
	   "execution_count": null,
	   "metadata": {
	    "collapsed": true
	   },
	   "outputs": [],
"source": [
"//Variable declaration:\n",
"D = 0.902/12.0                  //Inside diameter of tube (ft)\n",
"T_in = 60.0                     //Temperature water entering the tube (°F)\n",
"T_out = 70.0                    //Temperature water leaving the tube (°F)\n",
"V = 7.0                         //Average wave velocity water (ft/s)\n",
"p = 62.3                        //Density of water (lb/ft^3)\n",
"mu = 2.51/3600.0                //Dynamic viscosity of water (lb/ft.s)\n",
"Cp = 1.0                        //Viscosity of centipoise (Btu/lb.°F)\n",
"k = 0.34                        //Thermal conductivity of water (Btu/h.ft.°F)\n",
"//Calculation:\n",
"Re = D*V*p/mu                   //Reynolds Number\n",
"Pr = Cp*mu/k*3600               //Prandtl number\n",
"//From equation 9.26:\n",
"Nu = 0.023*(Re**0.8)*(Pr**0.4)  //Nusselt number\n",
"h = (k/D)*Nu                    //Average film heat transfer coefficient (Btu/h.ft^2.°F)\n",
"//Result:\n",
"printf('The required average film heat transfer coefficient is : %.0f  Btu/h.ft^2.°F.',h)"
   ]
   }
,
{
		   "cell_type": "markdown",
		   "metadata": {},
		   "source": [
			"## Example 9.11: Example.sce"
		   ]
		  },
  {
"cell_type": "code",
	   "execution_count": null,
	   "metadata": {
	    "collapsed": true
	   },
	   "outputs": [],
"source": [
"//Variable declaration:\n",
"P = 1.0132 * 10**5              //Air pressure (Pa)\n",
"T = 300.0+273.0                 //Air temperature (K)\n",
"V = 5.0                         //Air flow velocity (m/s)\n",
"D = 2.54/100.0                  //Diameter of tube (m)\n",
"R = 287.0                       //Gas constant (m^2/s^2.K)\n",
"//From Appendix:\n",
"Pr = 0.713                      //Prandtl number of nitrogen\n",
"mu = 1.784*10**(-5)             //Dynamic viscosity of nitrogen (kg/m.s)\n",
"k = 0.0262                      //Thermal conductivity of nitrogen (W/m.K)\n",
"Cp = 1.041                      //Heat capacity of nitrogen (kJ/kg.K)\n",
"//Calculation:\n",
"p = P/(R*T)                     //Density of air\n",
"Re = D*V*p/mu                   //Reynolds number\n",
"//From table 9.5:\n",
"Nu = 0.023*(Re**0.8)*(Pr**0.3)  //Nusselt number\n",
"h = (k/D)*Nu                    //Heat transfer coefficient (W/m^2.K)\n",
"//Result:\n",
"printf('The required Heat transfer coefficient is : %.2f  W/m^2.K.',h)"
   ]
   }
,
{
		   "cell_type": "markdown",
		   "metadata": {},
		   "source": [
			"## Example 9.12: Example.sce"
		   ]
		  },
  {
"cell_type": "code",
	   "execution_count": null,
	   "metadata": {
	    "collapsed": true
	   },
	   "outputs": [],
"source": [
"//Variable declaration:\n",
"T1 = 15.0                   //Water entering temperature (°C)\n",
"T2 = 60.0                   //Water leaving temperature (°C)\n",
"D = 0.022                   //Inside diameter of tube (m)\n",
"V = 0.355                   //Average water flow velocity (m/s)\n",
"TC = 150.0                  //Outside wall temperature (°C)\n",
"//From Appendix:\n",
"p = 993.0                   //Density of water (kg/m^3)\n",
"mu = 0.000683               //Dynamic viscosity of water (kg/m.s)\n",
"Cp = 4.17*10**3             //Heat capacity of water (J/kg.K)\n",
"k = 0.63                    //Thermal conductivity of water (W/m.K)\n",
"//Calculation:\n",
"Tav1 = (T1+T2)/2.0          //Average bulk temperature of water (°C)\n",
"Re = D*V*p/mu               //Reynolds number\n",
"Pr = Cp*mu/k                //Prandtl number\n",
"Tav2 = (Tav1+TC)/2.0        //Fluid's average wall temperature (°C)\n",
"//From Appendix:\n",
"mu_w = 0.000306             //Dynamic viscosity of fluid at wall (kg/m.s)\n",
"//From Table 9.5:\n",
"h = (k/D)*0.027*Re**0.8*Pr**0.33*(mu/mu_w)**0.14    //Heat transfer coefficient for water (W/m^2.K)\n",
"//Result:\n",
"printf('The heat transfer coefficient for water is : %.1f  W/m^2.K.',h)"
   ]
   }
,
{
		   "cell_type": "markdown",
		   "metadata": {},
		   "source": [
			"## Example 9.13: Example.sce"
		   ]
		  },
  {
"cell_type": "code",
	   "execution_count": null,
	   "metadata": {
	    "collapsed": true
	   },
	   "outputs": [],
"source": [
"//Variable declaration:\n",
"//From example 9.7:\n",
"h = 38.7                    //Average heat transfer coefficient (W/m^2.K)\n",
"L = 1.2                     //Length of plate (m)\n",
"k = 0.025                   //Thermal conductivity of air (W/m)\n",
"//Calculation:\n",
"Bi = h*L/k                  //Average Biot number\n",
"//Result:\n",
"printf('The average Biot number is : %.0f ',Bi)"
   ]
   }
,
{
		   "cell_type": "markdown",
		   "metadata": {},
		   "source": [
			"## Example 9.14: Example.sce"
		   ]
		  },
  {
"cell_type": "code",
	   "execution_count": null,
	   "metadata": {
	    "collapsed": true
	   },
	   "outputs": [],
"source": [
"//Variable declaration:\n",
"k = 60.0                    //Thermal conductivity of rod (W/m.K)\n",
"p = 7850.0                  //Density of rod (kg/m^3)\n",
"Cp = 434.0                  //Heat capacity of rod (J/kg.K)\n",
"h = 140.0                   //Convection heat transfer coefficient (W/m^2.K)\n",
"D = 0.01                    //Diameter of rod (m)\n",
"kf = 0.6                    //Thermal conductivity of fluid (W/m.K)\n",
"L = 2.5                     //Length of rod (m)\n",
"Ts = 250.0                  //Surface temperature of rod (°C)\n",
"Tf = 25.0                   //Fluid temperature (°C)\n",
"//Calculation:\n",
"//Case 1:\n",
"a = k/(p*Cp)                //Thermal diffusivity of bare rod (m^2/s)\n",
"//Case 2:\n",
"Nu = h*D/kf                 //Nusselt number\n",
"//Case 3:\n",
"Bi = h*D/k                  //Biot number of bare rod\n",
"//Case 4:\n",
"Q = h*(%pi*D*L)*(Ts-Tf)      //Heat transferred from rod to fluid (W)\n",
"//Result:\n",
"printf('1. The thermal diffusivity of the bare rod is : %.2f  x 10^-5 m^2/s.',a/10**-5)\n",
"printf('2. The nusselt number is : %.2f .',Nu)\n",
"printf('3. The Biot number is : %.4f .',Bi)\n",
"printf('4. The heat transferred from the rod to the fluid is : %.0f  W.',Q)"
   ]
   }
,
{
		   "cell_type": "markdown",
		   "metadata": {},
		   "source": [
			"## Example 9.1: Example.sce"
		   ]
		  },
  {
"cell_type": "code",
	   "execution_count": null,
	   "metadata": {
	    "collapsed": true
	   },
	   "outputs": [],
"source": [
"//Variable declaration:\n",
"D = 1.0                     //Diamete of vessel (ft)\n",
"L = 1.5                     //Length of vessel (ft)\n",
"T1 = 390.0                  //Surface temperature of vessel (°F)\n",
"T2 = 50.0                   //Surrounding temperature of vessel (°F)\n",
"h = 4.0                     //Convective heat transfer coefficient (Btu/h.ft.°F)\n",
"pi = %pi\n",
"//Calculation:\n",
"A = pi*D*L+2*pi*(D/2)**2    //Total heat transfer area (ft^2)\n",
"Q = h*A*(T1-T2)             //Rate of heat transfer (Btu/h)\n",
"R = 1/(h*A)                 //Thermal resistance (°F.h/Btu)\n",
"//Result:\n",
"printf('The thermal resistance of vessel wal is : %.4f  °F.h/Btu.',R)"
   ]
   }
,
{
		   "cell_type": "markdown",
		   "metadata": {},
		   "source": [
			"## Example 9.2: Example.sce"
		   ]
		  },
  {
"cell_type": "code",
	   "execution_count": null,
	   "metadata": {
	    "collapsed": true
	   },
	   "outputs": [],
"source": [
"//Variable declaration:\n",
"//From example 9.1:\n",
"R = 0.0398                      //Theral resistance (°F.h/Btu)\n",
"Btu = 3.412                     //Btu/h in a watt\n",
"C = 1.8                         //Change in degree fahrenheit for a degree change in celsius\n",
"K = 1                           //Change in degree celsius for a unit change in Kelvin\n",
"//Calculation:\n",
"Rc = R*Btu/C                    //Thermal resistance in degree cesius per watt (°C/W)\n",
"Rk = Rc/K                       //Thermal resistance in Kelvin per watt (K/W)\n",
"//Result:\n",
"printf('The thermal resistance in °C/W is : %.3f  °C/W.',Rc)\n",
"printf('The thermal resistance in K/W is : %.3f  K/W.',Rk)"
   ]
   }
,
{
		   "cell_type": "markdown",
		   "metadata": {},
		   "source": [
			"## Example 9.3: Example.sce"
		   ]
		  },
  {
"cell_type": "code",
	   "execution_count": null,
	   "metadata": {
	    "collapsed": true
	   },
	   "outputs": [],
"source": [
"//Variable declaration:\n",
"h = 48.0                    //Convective heat transfer coefficient (Btu/h.ft.°F)\n",
"A = 2*1.5                   //Total heat transfer area (ft^2)\n",
"Ts = 530.0                  //Surface temperature of plate (°F)\n",
"Tm = 105.0                  //Maintained temperature of opposite side of plate (°F)\n",
"kW = 3.4123*10**3           //Units kW in a Btu/h\n",
"//Calculation:\n",
"Q = h*A*(Ts-Tm)             //Heat transfer rate in Btu/h (Btu/h)\n",
"Q1 = Q/kW                   //Heat transfer rate in kW (kW)\n",
"//Result:\n",
"printf('The heat transfer rate in Btu/h is : %f  Btu/h.',Q)\n",
"printf('The heat transfer rate in kW is : %.2f  kW.',Q1)"
   ]
   }
,
{
		   "cell_type": "markdown",
		   "metadata": {},
		   "source": [
			"## Example 9.4: Example.sce"
		   ]
		  },
  {
"cell_type": "code",
	   "execution_count": null,
	   "metadata": {
	    "collapsed": true
	   },
	   "outputs": [],
"source": [
"//Variable declaration:\n",
"TS = 10+273                     //Outer surface temperature of wall (K)\n",
"Q = 3000.0                      //Heat transfer rate (W)\n",
"h = 100.0                       //Convection coefficient of air (W/m^2)\n",
"A = 3.0                         //Area of glass window (m^2)\n",
"//Calculation:\n",
"TM = TS-Q/(h*A)                 //Bulk temperature of fluid (K)\n",
"//Result:\n",
"printf('The bulk temperature of fluid is : %f  K.',TM)\n",
"printf('The bulk temperature of fluid is : %f  °C.',TM-273)"
   ]
   }
,
{
		   "cell_type": "markdown",
		   "metadata": {},
		   "source": [
			"## Example 9.5: Example.sce"
		   ]
		  },
  {
"cell_type": "code",
	   "execution_count": null,
	   "metadata": {
	    "collapsed": true
	   },
	   "outputs": [],
"source": [
"//Variable declaration:\n",
"h = 24.0                    //Plant operating hour per day (h/day)\n",
"d = 350.0                   //Plant operating day per year (day/yr)\n",
"//Calculation:\n",
"N = h*d                     //Operating hours per year (h/yr)\n",
"//From example 9.1:\n",
"Q = 8545.0                  //Rate of energy loss (Btu/h)\n",
"Qy = Q*N                    //Steady-state energy loss yearly (Btu/yr)\n",
"//Result:\n",
"printf('The yearly steady-state energy loss is : %.2f  x 10^7 Btu/yr.',Qy/10**7)"
   ]
   }
,
{
		   "cell_type": "markdown",
		   "metadata": {},
		   "source": [
			"## Example 9.7: Example.sce"
		   ]
		  },
  {
"cell_type": "code",
	   "execution_count": null,
	   "metadata": {
	    "collapsed": true
	   },
	   "outputs": [],
"source": [
"//Variable declaration:\n",
"x = 0.3                         //Length from the leading age of the plate (m)\n",
"L = 1.2                         //Length of plate (m)\n",
"TS = 58.0                       //Surface temperature of plate (°C)\n",
"Ta = 21.0                       //Temperature of flowing air (°C)\n",
"//Calculation:\n",
"hx = 25/x**0.4                  //Local heat transfer coefficient at 0.3m (W/m^2.K) (Part 1)\n",
"syms y                          //Length\n",
"hy = 25/y**0.4                  //hx at the end of the plate (W/m^2.K)\n",
"h = integrate(hy, y,0,L)/L    //Average heat transfer coefficient (W/m^2.K)\n",
"Q = hx*(TS-Ta)                  //Heat flux at 0.3m from leading edge of plate (W/m^2)\n",
"hL = 25/L**0.4                  //Local heat transfer coefficient at plate end (W/m^2.K) (Part 2) \n",
"r = h/hL                        //Ratio h/hL at the end of the plate\n",
"//Result:\n",
"printf('1. The heat flux at 0.3 m from the leading edge of the plate is : %.0f  W/m^2.',Q)\n",
"printf('2. The local heat transfer coefficient at the end of the plate is : %.1f  W/m^2.K.',hL)\n",
"disp('3. The ratio h/hL at the end of plate is : ')\n",
"disp(r)"
   ]
   }
,
{
		   "cell_type": "markdown",
		   "metadata": {},
		   "source": [
			"## Example 9.8: Example.sce"
		   ]
		  },
  {
"cell_type": "code",
	   "execution_count": null,
	   "metadata": {
	    "collapsed": true
	   },
	   "outputs": [],
"source": [
"//Variable declaration:\n",
"//From example 9.7:\n",
"b = 1.0                     //Width of plate (m)\n",
"L = 1.2                     //Length of plate (m)\n",
"TS = 58.0                   //Surface temperture of plate (°C)\n",
"Ta = 21.0                   //Air flow temperature (°C)\n",
"h = 38.7                    //Average heat transfer coefficient (W/m^2.K)\n",
"//Calculation:\n",
"A = b*L                     //Area for heat transfer for the entire plate (m^2)\n",
"Q = h*A*(TS-Ta)             //Rate of heat transfer over the whole length of the plate (W)\n",
"Q = round(Q*10**-1)/10**-1\n",
"//Result:\n",
"printf('The rate of heat transfer over the whole length of the plate is : %.1f W.',Q)"
   ]
   }
,
{
		   "cell_type": "markdown",
		   "metadata": {},
		   "source": [
			"## Example 9.9: Example.sce"
		   ]
		  },
  {
"cell_type": "code",
	   "execution_count": null,
	   "metadata": {
	    "collapsed": true
	   },
	   "outputs": [],
"source": [
"//Variable declaration:\n",
"m = 0.075                           //Mass rate of air flow (kg/s)\n",
"D = 0.225                           //Diameter of tube (m)\n",
"mu = 208*10**-7                     //Dynamic viscosity of fluid (N)\n",
"Pr = 0.71                           //Prandtl number\n",
"k = 0.030                           //Thermal conductivity of air (W/m.K)\n",
"//Calculation:\n",
"Re = 4*m/(%pi*D*mu)                  //Reynolds number\n",
"//From equation 9.26:\n",
"Nu = 0.023*(Re**0.8)*(Pr**0.3)      //Nusselt number\n",
"h = (k/D)*Nu                        //Heat transfer coefficient of air (W/m^2.K)\n",
"//Result:\n",
"printf('The Heat transfer coefficient of air is : %.2f  W/m^2.K.',h)"
   ]
   }
],
"metadata": {
		  "kernelspec": {
		   "display_name": "Scilab",
		   "language": "scilab",
		   "name": "scilab"
		  },
		  "language_info": {
		   "file_extension": ".sce",
		   "help_links": [
			{
			 "text": "MetaKernel Magics",
			 "url": "https://github.com/calysto/metakernel/blob/master/metakernel/magics/README.md"
			}
		   ],
		   "mimetype": "text/x-octave",
		   "name": "scilab",
		   "version": "0.7.1"
		  }
		 },
		 "nbformat": 4,
		 "nbformat_minor": 0
}
