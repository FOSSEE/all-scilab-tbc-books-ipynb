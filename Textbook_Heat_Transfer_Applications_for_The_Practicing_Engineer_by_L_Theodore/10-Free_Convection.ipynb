{
"cells": [
 {
		   "cell_type": "markdown",
	   "metadata": {},
	   "source": [
       "# Chapter 10: Free Convection"
	   ]
	},
{
		   "cell_type": "markdown",
		   "metadata": {},
		   "source": [
			"## Example 10.10: Example.sce"
		   ]
		  },
  {
"cell_type": "code",
	   "execution_count": null,
	   "metadata": {
	    "collapsed": true
	   },
	   "outputs": [],
"source": [
"//Variable declaration:\n",
"//From example 10.9:\n",
"h = 9.01                    //Heat transferred from bulb (W/m^2.K)\n",
"D = 0.06                    //Diameter of sphere (m)\n",
"Ts = 113.0+273.0            //Surface temperature of bulb (K)\n",
"Too = 31.0+273.0            //Ambient air temperature (K)\n",
"//Calculation:\n",
"A = %pi*D**2                 //Surface area of bulb (m^2)\n",
"Q = h*A*(Ts-Too)            //Heat transfer lost by free convection from light bulb (W)\n",
"//Result:\n",
"printf('The heat transfer lost by free convection from light bulb is : %.2f  W .',Q)"
   ]
   }
,
{
		   "cell_type": "markdown",
		   "metadata": {},
		   "source": [
			"## Example 10.11: Example.sce"
		   ]
		  },
  {
"cell_type": "code",
	   "execution_count": null,
	   "metadata": {
	    "collapsed": true
	   },
	   "outputs": [],
"source": [
"//Variable declaration:\n",
"//From example 10.9-10.10:\n",
"Q = 8.36                        //Heat transfer lost by free convection from light bulb (W)\n",
"//Calculation:\n",
"E = Q/100.0*(100.0)             //Percent energy lost by free convection (%)\n",
"//Result:\n",
"printf('The percentage of the energy lost by free convection is : %.2f  %%.',E)\n",
"printf('The energy lost fraction is : %.4f .',E/100.0)"
   ]
   }
,
{
		   "cell_type": "markdown",
		   "metadata": {},
		   "source": [
			"## Example 10.13: Example.sce"
		   ]
		  },
  {
"cell_type": "code",
	   "execution_count": null,
	   "metadata": {
	    "collapsed": true
	   },
	   "outputs": [],
"source": [
"//Variable declaration:\n",
"F = 50.0                        //Buoyancy flux of gas (m^4/s^3)\n",
"u = 4.0                         //wind speed (m/s)\n",
"//Calculation:\n",
"xc = 14*F**(5.0/8.0)            //Downward distance (m)\n",
"xf = 3.5*xc                     //distance of transition from first stage of rise to the second stage of rise (m)\n",
"Dh = 1.6*F**(1.0/3.0)*u**-1*xf**(2.0/3.0)   //Plume rise (m)\n",
"//Result:\n",
"printf('The plume rise is : %.0f m .',Dh)"
   ]
   }
,
{
		   "cell_type": "markdown",
		   "metadata": {},
		   "source": [
			"## Example 10.1: Example.sce"
		   ]
		  },
  {
"cell_type": "code",
	   "execution_count": null,
	   "metadata": {
	    "collapsed": true
	   },
	   "outputs": [],
"source": [
"//Variable declaration:\n",
"Gr = 100.0                  //Grashof number\n",
"Re = 50.0                   //Reynolds number\n",
"//Calculation:\n",
"LT = Gr/Re**2               //Measure of influence of convection effect\n",
"//Result:\n",
"if (LT<1.0) then\n",
"    printf('The free convection effects can be neglected.')\n",
"elseif (LT>1.0) then\n",
"    printf('The free convection effects can not be neglected.')\n",
"end    "
   ]
   }
,
{
		   "cell_type": "markdown",
		   "metadata": {},
		   "source": [
			"## Example 10.2: Example.sce"
		   ]
		  },
  {
"cell_type": "code",
	   "execution_count": null,
	   "metadata": {
	    "collapsed": true
	   },
	   "outputs": [],
"source": [
"//Variable declaration:\n",
"Ts = 110.0+273.0                //Surface temperature of plate (K)\n",
"Too = 30.0+273.0                //Ambient air temperature (K)\n",
"L = 3.5                         //Height of plate (m)\n",
"g = 9.807                       //Gravitational acceleration (m^2/s)\n",
"//Calculation:\n",
"Tf = (Ts+Too)/2                 //Film temperature (K)\n",
"DT = Ts - Too                   //Temperature difference between surface and air (K)\n",
"//From appendix:\n",
"v = 2.0*10**-5                  //Kinematic viscosity for air (m^2/s)\n",
"k = 0.029                       //Thermal conductivity for air (W/m.K)\n",
"Pr = 0.7                        //Prandtl number\n",
"B = 1.0/Tf                      //Coefficient of expansion (K^-1)\n",
"Gr = g*B*DT*L**3/v**2           //Grashof number\n",
"Ra = Gr*Pr                      //Rayleigh number\n",
"//Result:\n",
"printf('The Grashof number is : %.2f  x 10^11 .',Gr/10**11)\n",
"printf('The Rayleigh number is : %.2f  x 10^11 .',Ra/10**11)"
   ]
   }
,
{
		   "cell_type": "markdown",
		   "metadata": {},
		   "source": [
			"## Example 10.3: Example.sce"
		   ]
		  },
  {
"cell_type": "code",
	   "execution_count": null,
	   "metadata": {
	    "collapsed": true
	   },
	   "outputs": [],
"source": [
"//Variable declaration:\n",
"//From example 10.2:\n",
"Ra = 1.71*10**11                //Rayleigh number\n",
"//Result:\n",
"if (Ra>10**9) then\n",
"    printf('The convection flow category is turbulent.')\n",
"elseif(Ra<10**9) then\n",
"    printf('The convection flow category is laminar.')\n",
"end    "
   ]
   }
,
{
		   "cell_type": "markdown",
		   "metadata": {},
		   "source": [
			"## Example 10.4: Example.sce"
		   ]
		  },
  {
"cell_type": "code",
	   "execution_count": null,
	   "metadata": {
	    "collapsed": true
	   },
	   "outputs": [],
"source": [
"//Variable declaration:\n",
"//From Table 10.1:\n",
"c = 0.1                             //Constant c\n",
"m = 1.0/3.0                         //Constant for turbulent free conection\n",
"//From example 10.2:\n",
"Ra = 1.71*10**11                    //Rayleigh number\n",
"k = 0.029                           //Thermal conductivity (W/m.K)\n",
"L = 3.5                             //Thickness of plate (m)\n",
"//Calculation:\n",
"Nu = c*Ra**m                        //Average Nusselt number\n",
"h = Nu*k/L                          //Average heat transfer coefficient (W/m^2.K)\n",
"//Result:\n",
"printf('The average heat transfer coefficient is : %.1f W/m^2.K .',h)"
   ]
   }
,
{
		   "cell_type": "markdown",
		   "metadata": {},
		   "source": [
			"## Example 10.6: Example.sce"
		   ]
		  },
  {
"cell_type": "code",
	   "execution_count": null,
	   "metadata": {
	    "collapsed": true
	   },
	   "outputs": [],
"source": [
"//Variable declaration:\n",
"Ts = 200.0+460.0                //Surface temperature of pipe (°R)\n",
"Too = 70.0+460.0                //Air temperature (°R)\n",
"D = 0.5                         //Diameter of pipe (ft)\n",
"R = 0.73                        //Universal gas constant (ft^3.atm.R^−1.lb.mol^−1)\n",
"P = 1.0                         //Atmospheric pressure (Pa)\n",
"MW = 29.0                       //Molecular weight of fluid (mol)\n",
"//From Appendix:\n",
"mu = 1.28*10**-5                //Absolute viscosity (lb/ft.s)\n",
"k = 0.016/3600.0                //Thermal conductivity (Btu/s.ft.°F)\n",
"g = 32.174                      //Gravitational acceleration (ft/s^2)\n",
"//Calculation:\n",
"Tav = (Ts+Too)/2                //Average temperature (°R)\n",
"v = R*Tav/P                     //kinematic viscosity (ft^3/lbmol)\n",
"p = MW/v                        //Air density (lb/ft^3)\n",
"B = 1.0/Tav                     //Coefficient of expansion (°R^-1)\n",
"DT = Ts-Too                     //Temperature difference (°R)\n",
"Gr = D**3*p**2*g*B*DT/mu**2     //Grashof number\n",
"//From equation 10.5:\n",
"Cp = 0.25                       //Air heat capacity (Btu/lb.°F)\n",
"Pr = Cp*mu/k                    //Prandtl number\n",
"GrPr = 10**8.24                 //Rayleigh number\n",
"//From Holman^(3):\n",
"Nu = 10**(1.5)                  //Nusselt number\n",
"h = Nu*(k/D)*3600.0             //Air heat transfer film coefficient (Btu/h.ft.°F)\n",
"//Result:\n",
"printf('The required air heat transfer film coefficient is : %.2f Btu/h.ft.°F .',h)"
   ]
   }
,
{
		   "cell_type": "markdown",
		   "metadata": {},
		   "source": [
			"## Example 10.7: Example.sce"
		   ]
		  },
  {
"cell_type": "code",
	   "execution_count": null,
	   "metadata": {
	    "collapsed": true
	   },
	   "outputs": [],
"source": [
"//Variable declaration:\n",
"Ts = 120.0+460                  //Surface temperature of plate (°R)\n",
"Too = 60.0+460                  //Ambient temperature of nitrogen (°R)\n",
"L = 6                           //Height of plate (ft)\n",
"//From Appendix:\n",
"p = 0.0713                      //Air density (lb/ft^3)\n",
"k = 0.01514                     //Thermal conductivity (Btu/h.ft.°F)\n",
"v = 16.82*10**-5                //Kinematic viscosity (ft^2/s)\n",
"Pr = 0.713                      //Prandtl number\n",
"g = 32.2                        //Gravitational acceleration (ft/s^2)\n",
"//Calculation:\n",
"Tf = (Ts+Too)/2                 //Mean film temperature (°R)\n",
"B = 1.0/Tf                      //Coefficient of expansion (°R^-1)\n",
"Gr = g*B*(Ts-Too)*L**3/v**2     //Grashof number\n",
"Ra = Gr*Pr                      //Rayleigh number\n",
"//From equation 10.13(Table 10.2) and costants from Table 10.1:\n",
"h = 0.10*(k/L)*Ra**(1.0/3.0)    //Free convection heat transfer coefficient (Btu/h.ft^2.°F)\n",
"//Result:\n",
"printf('The free convection heat transfer coefficient is : %.3f Btu/h.ft^2.°F .',h)\n",
"printf('There is a calculation mistake in the book for calculating Gr, so, value of h alters from that given.')"
   ]
   }
,
{
		   "cell_type": "markdown",
		   "metadata": {},
		   "source": [
			"## Example 10.8: Example.sce"
		   ]
		  },
  {
"cell_type": "code",
	   "execution_count": null,
	   "metadata": {
	    "collapsed": true
	   },
	   "outputs": [],
"source": [
"//Variable declaration:\n",
"//From example:\n",
"h = 0.675                       //Free convection heat transfer coefficient (Btu/h.ft^2.°F)\n",
"A = 6.0*8.0                     //Area of plate (ft^2)\n",
"Ts = 120.0                      //Surface temperature of plate (°F)\n",
"Too = 60.0                      //Ambient temperature of nitrogen (°F)\n",
"//Calculation:\n",
"Q = h*A*(Ts-Too)                //Heat loss (Btu/h)\n",
"Q = round(Q * 10**-1)/10**-1\n",
"//Result:\n",
"printf('The heat loss is : %f  Btu/h .',Q)\n",
"printf(' The h obtained in the previous example differs, therefore, Q obtained here also differs from that given in book.')"
   ]
   }
,
{
		   "cell_type": "markdown",
		   "metadata": {},
		   "source": [
			"## Example 10.9: Example.sce"
		   ]
		  },
  {
"cell_type": "code",
	   "execution_count": null,
	   "metadata": {
	    "collapsed": true
	   },
	   "outputs": [],
"source": [
"//Variable declaration:\n",
"Ts = 113.0+273.0                    //Surface temperature of bulb (K)\n",
"Too = 31.0+273.0                    //Ambient air temperature (K)\n",
"D = 0.06                            //Diameter of sphere (m)\n",
"g = 9.8                             //Gravitational acceleration (m/s^2)\n",
"//Calculation:\n",
"Tf = (Ts+Too)/2                     //Mean temperature (K)\n",
"//From Appendix:\n",
"v = (22.38*10**-5)*0.0929           //Kinematic viscosity (m^2/s)\n",
"Pr = 0.70                           //Prandtl number\n",
"k = 0.01735*1.729                   //Thermal conductivity (W/m.K)\n",
"B = 1.0/(Tf)                        //Coefficient of expansion (K^-1)\n",
"Gr = g*B*(Ts-Too)*D**3/v**2         //Grashof number\n",
"Ra = Gr*Pr                          //Rayleigh number\n",
"//From equation 10.13:\n",
"h = (k/D)*0.6*Ra**(1.0/4.0)         //Heat transferred from bulb (W/m^2.K)\n",
"//Result:\n",
"printf('The heat transferred from bulb to air is : %.2f  W/m^2.K.',h)"
   ]
   }
],
"metadata": {
		  "kernelspec": {
		   "display_name": "Scilab",
		   "language": "scilab",
		   "name": "scilab"
		  },
		  "language_info": {
		   "file_extension": ".sce",
		   "help_links": [
			{
			 "text": "MetaKernel Magics",
			 "url": "https://github.com/calysto/metakernel/blob/master/metakernel/magics/README.md"
			}
		   ],
		   "mimetype": "text/x-octave",
		   "name": "scilab",
		   "version": "0.7.1"
		  }
		 },
		 "nbformat": 4,
		 "nbformat_minor": 0
}
