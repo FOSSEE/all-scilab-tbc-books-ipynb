{
"cells": [
 {
		   "cell_type": "markdown",
	   "metadata": {},
	   "source": [
       "# Chapter 28: Open Ended Problems"
	   ]
	},
{
		   "cell_type": "markdown",
		   "metadata": {},
		   "source": [
			"## Example 28.11: Example.sce"
		   ]
		  },
  {
"cell_type": "code",
	   "execution_count": null,
	   "metadata": {
	    "collapsed": true
	   },
	   "outputs": [],
"source": [
"//Variable declaration:\n",
"//From table 28.3:\n",
"//For stream 1 to be heated:\n",
"hm1 = 50000                      //Mass flowrate (lb/h)\n",
"hcP1 = 0.65                      //Heat capacity (Btu/lb. F)\n",
"hTi1 = 70                        //Inlet temperature ( F)\n",
"hTo1 = 300                       //Outlet temperature ( F)\n",
"//For stream 2 to be heated:\n",
"hm2 = 60000                      //Mass flowrate (lb/h)\n",
"hcP2 = 0.58                      //Heat capacity (Btu/lb. F)\n",
"hTi2 = 120                       //Inlet temperature ( F)\n",
"hTo2 = 310                       //Outlet temperature ( F)\n",
"//For stream 3 to be heated:\n",
"hm3 = 80000                      //Mass flowrate (lb/h)\n",
"hcP3 = 0.78                      //Heat capacity (Btu/lb. F)\n",
"hTi3 = 90                        //Inlet temperature ( F)\n",
"hTo3 = 250                       //Outlet temperature ( F)\n",
"//From table 28.4:\n",
"//For stream 1 to be cooled:\n",
"cm1 = 60000                      //Mass flowrate (lb/h)\n",
"ccP1 = 0.70                      //Heat capacity (Btu/lb. F)\n",
"cTi1 = 420                       //Inlet temperature ( F)\n",
"cTo1 = 120                       //Outlet temperature ( F)\n",
"//For stream 2 to be cooled:\n",
"cm2 = 40000                      //Mass flowrate (lb/h)\n",
"ccP2 = 0.52                      //Heat capacity (Btu/lb. F)\n",
"cTi2 = 300                       //Inlet temperature ( F)\n",
"cTo2 = 100                       //Outlet temperature ( F)\n",
"//For stream 3 to be cooled:\n",
"cm3 = 35000                      //Mass flowrate (lb/h)\n",
"ccP3 = 0.60                      //Heat capacity (Btu/lb. F)\n",
"cTi3 = 240                       //Inlet temperature ( F)\n",
"cTo3 = 90                        //Outlet temperature ( F)\n",
"//Calculation:\n",
"H1 = hm1*hcP1*(hTo1-hTi1)        //Heating duty for stream 1 (Btu/h)\n",
"H2 = hm2*hcP2*(hTo2-hTi2)        //Heating duty for stream 2 (Btu/h)\n",
"H3 = hm3*hcP3*(hTo3-hTi3)        //Heating duty for stream 1 (Btu/h)\n",
"H = H1+H2+H3                     //Total heating duty (Btu/h)\n",
"C1 = cm1*ccP1*(cTi1-cTo1)        //Cooling duty for stream 1 (Btu/h)\n",
"C2 = cm2*ccP2*(cTi2-cTo2)        //Cooling duty for stream 2 (Btu/h)\n",
"C3 = cm3*ccP3*(cTi3-cTo3)        //Cooling duty for stream 1 (Btu/h)\n",
"C = C1+C2+C3                     //Total Cooling duty (Btu/h)\n",
"//Result:\n",
"printf('Table: Duty Requirements.')\n",
"printf('Stream                   Duty, Btu/h')\n",
"printf('1                       %.0f',H1)\n",
"printf('2                       %.0f',H2)\n",
"printf('3                       %.0f',H3)\n",
"printf('4                       %.0f',C1)\n",
"printf('5                       %.0f',C2)\n",
"printf('6                       %.0f',C3)"
   ]
   }
],
"metadata": {
		  "kernelspec": {
		   "display_name": "Scilab",
		   "language": "scilab",
		   "name": "scilab"
		  },
		  "language_info": {
		   "file_extension": ".sce",
		   "help_links": [
			{
			 "text": "MetaKernel Magics",
			 "url": "https://github.com/calysto/metakernel/blob/master/metakernel/magics/README.md"
			}
		   ],
		   "mimetype": "text/x-octave",
		   "name": "scilab",
		   "version": "0.7.1"
		  }
		 },
		 "nbformat": 4,
		 "nbformat_minor": 0
}
