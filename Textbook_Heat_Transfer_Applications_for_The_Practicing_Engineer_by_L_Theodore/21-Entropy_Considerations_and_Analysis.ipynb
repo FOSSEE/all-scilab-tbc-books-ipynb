{
"cells": [
 {
		   "cell_type": "markdown",
	   "metadata": {},
	   "source": [
       "# Chapter 21: Entropy Considerations and Analysis"
	   ]
	},
{
		   "cell_type": "markdown",
		   "metadata": {},
		   "source": [
			"## Example 21.1: Example.sce"
		   ]
		  },
  {
"cell_type": "code",
	   "execution_count": null,
	   "metadata": {
	    "collapsed": true
	   },
	   "outputs": [],
"source": [
"//Variable declaration:\n",
"m = 1                           //Mass flowrate (lb)\n",
"cP = 1                          //Heat capacity (Btu/lb. F)\n",
"//From figure 21.3:\n",
"T1 = 300                        //Temperature of hot fluid leaving exchanger ( F)\n",
"T2 = 540                        //Temperature of hot fluid entering exchanger ( F)\n",
"T3 = 60                         //Temperature of cold fluid leaving exchanger ( F)\n",
"T4 = 300                        //Temperature of cold fluid entering exchanger ( F)\n",
"//Calculation:\n",
"DSh = m*cP*log((T1+460)/(T2+460))      //Entropy for hot fluid (Btu/ F)\n",
"DSc = m*cP*log((T4+460)/(T3+460))      //Entropy for cold fluid (Btu/ F)\n",
"DSa = DSh+DSc                   //Entropy for one exchanger (Btu/ F)\n",
"DSt = DSa*2                     //Total entropy change (Btu/ F)\n",
"//Result:\n",
"printf('The entropy chage is : %.4f Btu/ F .',DSt)\n",
"if (DSt>0) then\n",
"    printf('There is a positive entropy change.')\n",
"else \n",
"    printf('There is a negative entropy change.')\n",
"end    "
   ]
   }
,
{
		   "cell_type": "markdown",
		   "metadata": {},
		   "source": [
			"## Example 21.2: Example.sce"
		   ]
		  },
  {
"cell_type": "code",
	   "execution_count": null,
	   "metadata": {
	    "collapsed": true
	   },
	   "outputs": [],
"source": [
"//Variable declaration:\n",
"//From example 21.1:\n",
"DSh = -0.2744                   //Entropy for hot fluid (Btu/ F)\n",
"DSc = 0.3795                    //Entropy for cold fluid (Btu/ F)\n",
"m = 1                           //Mass flowrate (lb)\n",
"cP = 1                          //Heat capacity (Btu/lb. F)\n",
"//From figure 21.4:\n",
"DT = 0                          //Temperature difference driving force ( F)\n",
"DS_D = 0                        //Entropy for D exchanger (Btu/ F)\n",
"//Calculation:\n",
"DS_C = DSh+DSc                  //Entropy for C exchanger (Btu/ F)\n",
"DSt = DS_C+DS_D                 //Total entropy change of exchangers (Btu/ F)\n",
"//Result:\n",
"printf('The total entropy change is : %f Btu/ F .',DSt)"
   ]
   }
,
{
		   "cell_type": "markdown",
		   "metadata": {},
		   "source": [
			"## Example 21.3: Example.sce"
		   ]
		  },
  {
"cell_type": "code",
	   "execution_count": null,
	   "metadata": {
	    "collapsed": true
	   },
	   "outputs": [],
"source": [
"//Variable declaration:\n",
"//From figure 21.5:\n",
"m = 2                           //Mass flowrate (lb)\n",
"cP = 1                          //Heat capacity (Btu/lb. F)\n",
"DS1 = -0.2744                   //Entropy for hot fluid for E exchanger (Btu/ F)\n",
"T1 = 180                        //Temperature cold fluid entering the E exchabger ( F)\n",
"T2 = 60                         //Temperature cold fluid leaving the E exchabger ( F)\n",
"//Calculation:\n",
"DS2 = m*cP*log((T1+460)/(T2+460))   //Entropy for cold fluid for E exchanger (Btu/ F)\n",
"DS_E = DS1+DS2                  //Entropy for E exchanger (Btu/ F)\n",
"DS_F = DS_E                     //Entropy for F exchanger (Btu/ F)\n",
"DSt = DS_F+DS_E                 //Entropy change in exchangers E and F (Btu/ F)\n",
"//Result:\n",
"printf('The entropy change in exchangers E and F is : %.4f Btu/ F',DSt)"
   ]
   }
],
"metadata": {
		  "kernelspec": {
		   "display_name": "Scilab",
		   "language": "scilab",
		   "name": "scilab"
		  },
		  "language_info": {
		   "file_extension": ".sce",
		   "help_links": [
			{
			 "text": "MetaKernel Magics",
			 "url": "https://github.com/calysto/metakernel/blob/master/metakernel/magics/README.md"
			}
		   ],
		   "mimetype": "text/x-octave",
		   "name": "scilab",
		   "version": "0.7.1"
		  }
		 },
		 "nbformat": 4,
		 "nbformat_minor": 0
}
