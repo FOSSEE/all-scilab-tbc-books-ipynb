{
"cells": [
 {
		   "cell_type": "markdown",
	   "metadata": {},
	   "source": [
       "# Chapter 8: Unsteady State Heat Conduction"
	   ]
	},
{
		   "cell_type": "markdown",
		   "metadata": {},
		   "source": [
			"## Example 8.4: Example.sce"
		   ]
		  },
  {
"cell_type": "code",
	   "execution_count": null,
	   "metadata": {
	    "collapsed": true
	   },
	   "outputs": [],
"source": [
"//Variable declaration:\n",
"k = 9.1                 //Thermal coductivity of steel rod (Btu/h.ft.°F)\n",
"p = 0.29*1728           //Density of steel rod (lb/ft^3)\n",
"Cp = 0.12               //Heat capacity of steel rod (Btu/lb.°F)\n",
"P = 15+14.7             //Absolute pressure (psia)\n",
"Ta = 71.0               //Initial temperature (°F)\n",
"L = 20.0/12.0           //Length of rod (ft)\n",
"t = 30.0/60.0           //Time taken (h)\n",
"x = 0.875/12.0          //Length from one of end (ft)\n",
"pi = %pi\n",
"e = %e\n",
"//From assumption:\n",
"n = 1.0                 //First term\n",
"//From tables in Appendix:\n",
"Ts = 249.7              //Saturated steam temperature (°F)\n",
"//Calculation:\n",
"a = k/(p*Cp)            //Thermal diffusivity  (ft^2/s)\n",
"T = Ts+(Ta-Ts)*(((n+1)*(-1)**2 + 1 )/pi)*e**((-a*((n*pi)/L)**2)*t)*sin((n*pi*x)/L) //Temperature 0.875 inches from one of the ends after 30 minutes (°F)\n",
"//Result:\n",
"printf ('The temperature 0.875 inches from one of the ends after 30 minutes is : %.0f  °F.',T)"
   ]
   }
],
"metadata": {
		  "kernelspec": {
		   "display_name": "Scilab",
		   "language": "scilab",
		   "name": "scilab"
		  },
		  "language_info": {
		   "file_extension": ".sce",
		   "help_links": [
			{
			 "text": "MetaKernel Magics",
			 "url": "https://github.com/calysto/metakernel/blob/master/metakernel/magics/README.md"
			}
		   ],
		   "mimetype": "text/x-octave",
		   "name": "scilab",
		   "version": "0.7.1"
		  }
		 },
		 "nbformat": 4,
		 "nbformat_minor": 0
}
