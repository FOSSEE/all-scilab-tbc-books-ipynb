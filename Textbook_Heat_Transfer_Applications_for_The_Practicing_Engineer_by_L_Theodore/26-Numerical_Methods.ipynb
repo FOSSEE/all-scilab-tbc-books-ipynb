{
"cells": [
 {
		   "cell_type": "markdown",
	   "metadata": {},
	   "source": [
       "# Chapter 26: Numerical Methods"
	   ]
	},
{
		   "cell_type": "markdown",
		   "metadata": {},
		   "source": [
			"## Example 26.11: Example.sce"
		   ]
		  },
  {
"cell_type": "code",
	   "execution_count": null,
	   "metadata": {
	    "collapsed": true
	   },
	   "outputs": [],
"source": [
"//Key:\n",
"//f(x) : Objective Function\n",
"//ci(x)'s : Constraints\n",
"//Variable Declaration:\n",
"function [a] = f(x)\n",
"    a = -2.0*x(1) - 1.6*x(2)\n",
"endfunction\n",
"//Calculation\n",
"X = [16820,1152]\n",
"//Result:\n",
"printf('Maximum Profit is $ %.0f /day or $ %f /year',-f(X),-365*f(X))"
   ]
   }
,
{
		   "cell_type": "markdown",
		   "metadata": {},
		   "source": [
			"## Example 26.8: Example.sce"
		   ]
		  },
  {
"cell_type": "code",
	   "execution_count": null,
	   "metadata": {
	    "collapsed": true
	   },
	   "outputs": [],
"source": [
"//Variable Declaration:\n",
"syms A\n",
"syms B\n",
"syms r\n",
"syms C\n",
"//Calculation:\n",
"res = solve([A + B*log(2)-log(3),A + B*log(4)-log(12)],[A,B])\n",
"A = -0.2877\n",
"B = round(float(res[B]))\n",
"kA = round(exp(A),2)\n",
"a = B\n",
"//Result:\n",
"disp('The equation for rate of reaction is: %f kA*C**a ')\n",
"disp(-r)"
   ]
   }
,
{
		   "cell_type": "markdown",
		   "metadata": {},
		   "source": [
			"## Example 26.9: Example.sce"
		   ]
		  },
  {
"cell_type": "code",
	   "execution_count": null,
	   "metadata": {
	    "collapsed": true
	   },
	   "outputs": [],
"source": [
"//Variable Declaration:\n",
"T = [-40,-20,0,10,12,30,40,50,60,80,100,150,200,250,300,400,500]\n",
"u = [1.51,1.61,1.71,1.76,1.81,1.86,1.90,1.95,2.00,2.09,2.17,2.38,2.57,2.75,2.93,3.25,3.55]\n",
"//Calculations:\n",
"[B,A] = reglin(T,u)\n",
"//Results:\n",
"printf('The value of A in regression model is: %.4f',A)\n",
"printf('The value of B in regression model is: %.4f',B)"
   ]
   }
],
"metadata": {
		  "kernelspec": {
		   "display_name": "Scilab",
		   "language": "scilab",
		   "name": "scilab"
		  },
		  "language_info": {
		   "file_extension": ".sce",
		   "help_links": [
			{
			 "text": "MetaKernel Magics",
			 "url": "https://github.com/calysto/metakernel/blob/master/metakernel/magics/README.md"
			}
		   ],
		   "mimetype": "text/x-octave",
		   "name": "scilab",
		   "version": "0.7.1"
		  }
		 },
		 "nbformat": 4,
		 "nbformat_minor": 0
}
