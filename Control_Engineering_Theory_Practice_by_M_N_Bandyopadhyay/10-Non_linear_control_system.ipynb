{
"cells": [
 {
		   "cell_type": "markdown",
	   "metadata": {},
	   "source": [
       "# Chapter 10: Non linear control system"
	   ]
	},
{
		   "cell_type": "markdown",
		   "metadata": {},
		   "source": [
			"## Example 10.1_1: Mass_dashpot_and_spring_arrangement.sce"
		   ]
		  },
  {
"cell_type": "code",
	   "execution_count": null,
	   "metadata": {
	    "collapsed": true
	   },
	   "outputs": [],
"source": [
"//Example sec 10.1.1\n",
"//mass, dashpot, spring arrangement.\n",
"clear;clc;\n",
"xdel(winsid());\n",
"M=1\n",
"K=2\n",
"F=2\n",
"A=[0 1;-2 -2]\n",
"C=eye(A)\n",
"s=%s\n",
"D=s*C-A\n",
"X=inv(D)*[1;1]\n",
"//taking the laplace transform of X\n",
"disp('X(t)=sqrt(5)*sin(t+inv(tan 0.5));sqrt(10)*sin(t+inv(tan -1/3))')\n",
"disp('The system is asymptotically stable')"
   ]
   }
,
{
		   "cell_type": "markdown",
		   "metadata": {},
		   "source": [
			"## Example 10.3: determination_of_quadratic_form.sce"
		   ]
		  },
  {
"cell_type": "code",
	   "execution_count": null,
	   "metadata": {
	    "collapsed": true
	   },
	   "outputs": [],
"source": [
"//Example 10.3\n",
"//determination of quadratic form\n",
"clear;clc;\n",
"xdel(winsid());\n",
"//from the given euation we get the following \n",
"A=[9 1 -2;1 4 -1;-2 -1 1]\n",
"det(A)\n",
"A1=[9 1;1 4]\n",
"det(A1)\n",
"//since determinant of A and A1 is positive\n",
"//therefore W is positive definite.\n",
"disp('W is positive definite')"
   ]
   }
,
{
		   "cell_type": "markdown",
		   "metadata": {},
		   "source": [
			"## Example 10.4: Lipunovs_method.sce"
		   ]
		  },
  {
"cell_type": "code",
	   "execution_count": null,
	   "metadata": {
	    "collapsed": true
	   },
	   "outputs": [],
"source": [
"//Example 10.4\n",
"//Lipunov's method\n",
"clear;clc;\n",
"xdel(winsid());\n",
"\n",
"x1=poly(0,'x1');\n",
"x2=poly(0,'x2');\n",
"x11=poly(0,'x11');\n",
"x22=poly(0,'x22');\n",
"x2=x11\n",
"//assuming K1 and K2 equal to one.\n",
"disp('W=x1^2+x2^2')\n",
"//'W=x1^2+x2^2' is Liapunov's function \n",
"//W is chosen arbitrarily, since there no standard procedure for selecting W.\n",
"disp('dW/dt=2*x1*x11+2*x2*x22=-2*(x2^2+x2^4)')\n",
"disp('This will be negative semidefinite and therefore the system will be stable')"
   ]
   }
],
"metadata": {
		  "kernelspec": {
		   "display_name": "Scilab",
		   "language": "scilab",
		   "name": "scilab"
		  },
		  "language_info": {
		   "file_extension": ".sce",
		   "help_links": [
			{
			 "text": "MetaKernel Magics",
			 "url": "https://github.com/calysto/metakernel/blob/master/metakernel/magics/README.md"
			}
		   ],
		   "mimetype": "text/x-octave",
		   "name": "scilab",
		   "version": "0.7.1"
		  }
		 },
		 "nbformat": 4,
		 "nbformat_minor": 0
}
