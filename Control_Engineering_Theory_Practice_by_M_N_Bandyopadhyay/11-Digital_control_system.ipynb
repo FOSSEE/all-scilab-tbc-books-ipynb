{
"cells": [
 {
		   "cell_type": "markdown",
	   "metadata": {},
	   "source": [
       "# Chapter 11: Digital control system"
	   ]
	},
{
		   "cell_type": "markdown",
		   "metadata": {},
		   "source": [
			"## Example 11.6: Jurys_stability_test.sce"
		   ]
		  },
  {
"cell_type": "code",
	   "execution_count": null,
	   "metadata": {
	    "collapsed": true
	   },
	   "outputs": [],
"source": [
"//Example 11.6\n",
"//Jury's stability test\n",
"clear;clc;\n",
"xdel(winsid());\n",
"\n",
"z=%z;\n",
"F=4*z^4+6*z^3+12*z^2+5*z+1\n",
"//equating the equation F with a4*z^4+a3*z^3+a2*z^2+a1*z3+a0.\n",
"a0=1\n",
"a1=5\n",
"a2=12\n",
"a3=6\n",
"a4=4\n",
"\n",
"b0=[a0 a4;a4 a0]\n",
"det(b0)\n",
"b1=[a0 a3;a4 a1]\n",
"det(b1)\n",
"b2=[a0 a2;a4 a2]\n",
"det(b2)\n",
"b3=[a0 a1;a4 a3]\n",
"det(b3)\n",
"\n",
"c0=[det(b0) det(b3);det(b3) det(b0)]\n",
"det(c0)\n",
"c1=[det(b0) det(b2);det(b3) det(b1)]\n",
"det(c1)\n",
"c2=[det(b0) det(b1);det(b3) det(b2)]\n",
"det(c2)\n",
"\n",
"disp('det(a0)<det(a4)=satisfied')\n",
"disp('det(b0)>det(b3)=satisfied')\n",
"disp('det(c0)<det(c3)=not satisfied')\n",
"\n",
"disp('The system is unstable')\n",
""
   ]
   }
,
{
		   "cell_type": "markdown",
		   "metadata": {},
		   "source": [
			"## Example 11.9_2a: stability_of_linear_continuous_system.sce"
		   ]
		  },
  {
"cell_type": "code",
	   "execution_count": null,
	   "metadata": {
	    "collapsed": true
	   },
	   "outputs": [],
"source": [
"//Example sec 11.9.2 a\n",
"//stability of linear continuous system\n",
"clear;clc;\n",
"xdel(winsid());\n",
"\n",
"s=%s;\n",
"G=1/(s*(s+1)*(s+2))\n",
"G1=pfss(G)\n",
"//taking Z transform of G1\n",
"z=%z;\n",
"G2=(z/(2*(z+1)))-(z/(z+%e^(-1)))+(z/(2*(z+%e^(-2))))\n",
"//upon simplification we get the following characteristic equation\n",
"B=z^3-(1.3*z^2)+0.85*z-0.5\n",
"//substituting 'z=(1+r/1-r)' in B\n",
"//the resultant equation is B1\n",
"r=poly(0,'r');\n",
"B1=3.65*r^3+1.95*r^2+2.35*r+0.05\n",
"routh_t(B1)\n",
"disp('The system is stable')"
   ]
   }
,
{
		   "cell_type": "markdown",
		   "metadata": {},
		   "source": [
			"## Example 11.9_2b: stability_of_linear_continuous_system.sce"
		   ]
		  },
  {
"cell_type": "code",
	   "execution_count": null,
	   "metadata": {
	    "collapsed": true
	   },
	   "outputs": [],
"source": [
"//Example sec 11.9.2 b\n",
"//stability of linear continuous system\n",
"clear;clc;\n",
"xdel(winsid());\n",
"\n",
"s=%s;\n",
"G=5/(s*(s+1)*(s+2))\n",
"G1=pfss(G)\n",
"//taking Z transform of G1\n",
"z=%z;\n",
"G2=5*((z/(2*(z+1)))-(z/(z+%e^(-1)))+(z/(2*(z+%e^(-2)))))\n",
"//upon simplification we get the following characteristic equation\n",
"B=z^3-(0.5*z^2)+2.49*z-0.496\n",
"//substituting 'z=(1+r/1-r)' in B\n",
"//the resultant equation is B1\n",
"r=poly(0,'r')\n",
"B1=3.5*r^3-2.5*r^2+0.5*r+2.5\n",
"routh_t(B1)\n",
"disp('The system is unstable')"
   ]
   }
,
{
		   "cell_type": "markdown",
		   "metadata": {},
		   "source": [
			"## Example 11.9_3: Schurcohn_stability_test.sce"
		   ]
		  },
  {
"cell_type": "code",
	   "execution_count": null,
	   "metadata": {
	    "collapsed": true
	   },
	   "outputs": [],
"source": [
"//Example sec 11.9.3 \n",
"//Schurcohn stability test \n",
"clear;clc;\n",
"xdel(winsid());\n",
"\n",
"z=%z\n",
"G=1/(1-((7/4)*(z^-1))-((1/2)*(z^-2)))\n",
"A2=1-((7/4)*(z^-1))-((1/2)*(z^-2))\n",
"//K2=coefficient of z^-2\n",
"K2=-0.5\n",
"B2=-0.5-1.75*(z^-1)+z^-2\n",
"\n",
"A1=(A2-K2*B2)/(1-K2^2)\n",
"//K1=coefficient of z^-1\n",
"K1=-3.5\n",
"//mod(K1)>1 and mod(K2)<1\n",
"disp('The sytem is unstable')"
   ]
   }
],
"metadata": {
		  "kernelspec": {
		   "display_name": "Scilab",
		   "language": "scilab",
		   "name": "scilab"
		  },
		  "language_info": {
		   "file_extension": ".sce",
		   "help_links": [
			{
			 "text": "MetaKernel Magics",
			 "url": "https://github.com/calysto/metakernel/blob/master/metakernel/magics/README.md"
			}
		   ],
		   "mimetype": "text/x-octave",
		   "name": "scilab",
		   "version": "0.7.1"
		  }
		 },
		 "nbformat": 4,
		 "nbformat_minor": 0
}
