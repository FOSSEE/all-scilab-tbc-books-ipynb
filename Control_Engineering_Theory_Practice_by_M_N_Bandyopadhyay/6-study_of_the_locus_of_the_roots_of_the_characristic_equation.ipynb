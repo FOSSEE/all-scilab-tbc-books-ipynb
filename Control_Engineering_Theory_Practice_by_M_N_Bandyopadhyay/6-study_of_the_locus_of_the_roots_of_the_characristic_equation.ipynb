{
"cells": [
 {
		   "cell_type": "markdown",
	   "metadata": {},
	   "source": [
       "# Chapter 6: study of the locus of the roots of the characristic equation"
	   ]
	},
{
		   "cell_type": "markdown",
		   "metadata": {},
		   "source": [
			"## Example 6.2_2: location_of_the_root_locus_between_poles_and_zeros.sce"
		   ]
		  },
  {
"cell_type": "code",
	   "execution_count": null,
	   "metadata": {
	    "collapsed": true
	   },
	   "outputs": [],
"source": [
"//Example sec 6.2.2\n",
"// location of root locus in between poles and zeros.\n",
"clear; clc; \n",
" xdel(winsid());\n",
"s=%s; \n",
"num=((s+1)*(s+2)); \n",
"den=(s*(s+3)*(s+4)); \n",
"G=syslin('c',num/den); \n",
"clf(); \n",
"evans(G); \n",
"axes_handle.grid=[1 1]\n",
"mtlb_axis([-5 5 -5 5]);"
   ]
   }
,
{
		   "cell_type": "markdown",
		   "metadata": {},
		   "source": [
			"## Example 6.2: Root_locus_in_scilab.sce"
		   ]
		  },
  {
"cell_type": "code",
	   "execution_count": null,
	   "metadata": {
	    "collapsed": true
	   },
	   "outputs": [],
"source": [
"//Example 6.2\n",
"// Plotting root locus\n",
"clear; clc; \n",
" xdel(winsid());\n",
"s=%s; \n",
"num=1; \n",
"den=s*(s+3)^2; \n",
"G=syslin('c',num/den); \n",
"clf(); \n",
"evans(G); \n",
"axes_handle.grid=[1 1]\n",
"mtlb_axis([-5 5 -5 5]);\n",
"//form the graph it can be seen that the break away point is at '-1'\n",
"disp('Break away point=-1')"
   ]
   }
,
{
		   "cell_type": "markdown",
		   "metadata": {},
		   "source": [
			"## Example 6.3: Root_locus.sce"
		   ]
		  },
  {
"cell_type": "code",
	   "execution_count": null,
	   "metadata": {
	    "collapsed": true
	   },
	   "outputs": [],
"source": [
"//Example 6.3\n",
"// Plotting root locus\n",
"clear; clc; \n",
" xdel(winsid());\n",
"s=%s; \n",
"num=(s+2); \n",
"den1=(s+1+(%i*sqrt(3)))*(s+1+(%i*sqrt(3))); \n",
"//upon simplification the denominator becomes\n",
"den2=(s^2+2*s+4)\n",
"G=syslin('c',num/den2); \n",
"clf(); \n",
"evans(G); \n",
"axes_handle.grid=[1 1]\n",
"mtlb_axis([-5 5 -5 5]);"
   ]
   }
,
{
		   "cell_type": "markdown",
		   "metadata": {},
		   "source": [
			"## Example 6.4: root_locus.sce"
		   ]
		  },
  {
"cell_type": "code",
	   "execution_count": null,
	   "metadata": {
	    "collapsed": true
	   },
	   "outputs": [],
"source": [
"//Example 6.4\n",
"// Plotting root locus\n",
"clear; clc; \n",
" xdel(winsid());\n",
"s=%s; \n",
"num=-(s+2); \n",
"den1=(s+1+(%i*sqrt(3)))*(s+1+(%i*sqrt(3))); \n",
"//upon simplification the denominator becomes\n",
"den2=(s^2+2*s+4)\n",
"G=syslin('c',num/den2); \n",
"clf(); \n",
"evans(G); \n",
"axes_handle.grid=[1 1];\n",
"mtlb_axis([-3 3 -3 3]);"
   ]
   }
,
{
		   "cell_type": "markdown",
		   "metadata": {},
		   "source": [
			"## Example 6.5: Root_locus.sce"
		   ]
		  },
  {
"cell_type": "code",
	   "execution_count": null,
	   "metadata": {
	    "collapsed": true
	   },
	   "outputs": [],
"source": [
"//Example 6.5\n",
"// Plotting root locus\n",
"clear; clc; \n",
" xdel(winsid());\n",
"s=%s; \n",
"num=1; \n",
"den=s*(s+4)*(s^2+4*s+20); \n",
"G=syslin('c',num/den); \n",
"clf; \n",
"evans(G); \n",
"axes_handle.grid=[1 1]\n",
"mtlb_axis([-5 5 -5 5]);\n",
""
   ]
   }
,
{
		   "cell_type": "markdown",
		   "metadata": {},
		   "source": [
			"## Example 6.6: Root_locus.sce"
		   ]
		  },
  {
"cell_type": "code",
	   "execution_count": null,
	   "metadata": {
	    "collapsed": true
	   },
	   "outputs": [],
"source": [
"//Example 6.6\n",
"// Plotting root loci in scilab\n",
"clear; clc; \n",
" xdel(winsid());\n",
"s=%s; \n",
"num=(s+2); \n",
"den=(s+1)^2; \n",
"t=syslin('c',num/den); \n",
"clf; \n",
"evans(t); \n",
"axes_handle.grid=[1 1]\n",
"mtlb_axis([-4 4 -4 4]);"
   ]
   }
,
{
		   "cell_type": "markdown",
		   "metadata": {},
		   "source": [
			"## Example 6.7: Root_locus.sce"
		   ]
		  },
  {
"cell_type": "code",
	   "execution_count": null,
	   "metadata": {
	    "collapsed": true
	   },
	   "outputs": [],
"source": [
"//Example 6.7\n",
"// Plotting root locus\n",
"clear; clc; \n",
" xdel(winsid());\n",
" Beta=0\n",
"s=%s; \n",
"num=1; \n",
"den=s*(s+1)*(s+Beta); \n",
"G=syslin('c',num/den); \n",
"clf(); \n",
"evans(G); \n",
"axes_handle.grid=[1 1]\n",
"mtlb_axis([-4 4 -4 4]);"
   ]
   }
],
"metadata": {
		  "kernelspec": {
		   "display_name": "Scilab",
		   "language": "scilab",
		   "name": "scilab"
		  },
		  "language_info": {
		   "file_extension": ".sce",
		   "help_links": [
			{
			 "text": "MetaKernel Magics",
			 "url": "https://github.com/calysto/metakernel/blob/master/metakernel/magics/README.md"
			}
		   ],
		   "mimetype": "text/x-octave",
		   "name": "scilab",
		   "version": "0.7.1"
		  }
		 },
		 "nbformat": 4,
		 "nbformat_minor": 0
}
