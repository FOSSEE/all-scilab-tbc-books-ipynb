{
"cells": [
 {
		   "cell_type": "markdown",
	   "metadata": {},
	   "source": [
       "# Chapter 8: stability in frequency response systems"
	   ]
	},
{
		   "cell_type": "markdown",
		   "metadata": {},
		   "source": [
			"## Example 8.1: Nyquist_plot.sce"
		   ]
		  },
  {
"cell_type": "code",
	   "execution_count": null,
	   "metadata": {
	    "collapsed": true
	   },
	   "outputs": [],
"source": [
"//Example 8.1\n",
"//Nyquist plot\n",
"clear; clc; \n",
"xdel(winsid());\n",
"\n",
" s = %s/2/%pi; \n",
" num=(1);\n",
" den=s*(s+1);\n",
" G=syslin('c',num,den)\n",
" clf();\n",
" nyquist(G)\n",
" "
   ]
   }
,
{
		   "cell_type": "markdown",
		   "metadata": {},
		   "source": [
			"## Example 8.2: Nyquist_plot.sce"
		   ]
		  },
  {
"cell_type": "code",
	   "execution_count": null,
	   "metadata": {
	    "collapsed": true
	   },
	   "outputs": [],
"source": [
"//Example 8.2\n",
"//Nyquist plot\n",
"clear; clc; \n",
"xdel(winsid());\n",
"\n",
" s = %s/2/%pi;\n",
" //since the value of 'K' and 'tau' in the given transfer function is constant\n",
" // thus assuming 'K=1' and 'tau=1' \n",
" //the resulting transfer function is,\n",
" num2=(1);\n",
" den2=(s+1)^2;\n",
" G=syslin('c',num2,den2)\n",
" clf();\n",
" nyquist(G)\n",
" "
   ]
   }
,
{
		   "cell_type": "markdown",
		   "metadata": {},
		   "source": [
			"## Example 8.3: Nyquist_plot.sce"
		   ]
		  },
  {
"cell_type": "code",
	   "execution_count": null,
	   "metadata": {
	    "collapsed": true
	   },
	   "outputs": [],
"source": [
"//Example 8.3\n",
"//Nyquist plot\n",
"clear; clc; \n",
"xdel(winsid());\n",
"\n",
" s = %s /2 /%pi; \n",
" num=(s+3);\n",
" den=(s+1)*(s-1)\n",
" G=syslin('c',num,den)\n",
"clf();\n",
"nyquist(G)"
   ]
   }
],
"metadata": {
		  "kernelspec": {
		   "display_name": "Scilab",
		   "language": "scilab",
		   "name": "scilab"
		  },
		  "language_info": {
		   "file_extension": ".sce",
		   "help_links": [
			{
			 "text": "MetaKernel Magics",
			 "url": "https://github.com/calysto/metakernel/blob/master/metakernel/magics/README.md"
			}
		   ],
		   "mimetype": "text/x-octave",
		   "name": "scilab",
		   "version": "0.7.1"
		  }
		 },
		 "nbformat": 4,
		 "nbformat_minor": 0
}
