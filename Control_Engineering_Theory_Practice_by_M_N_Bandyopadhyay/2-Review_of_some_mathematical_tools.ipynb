{
"cells": [
 {
		   "cell_type": "markdown",
	   "metadata": {},
	   "source": [
       "# Chapter 2: Review of some mathematical tools"
	   ]
	},
{
		   "cell_type": "markdown",
		   "metadata": {},
		   "source": [
			"## Example 2.10: Inverse_of_z_transform_using_scilab.sce"
		   ]
		  },
  {
"cell_type": "code",
	   "execution_count": null,
	   "metadata": {
	    "collapsed": true
	   },
	   "outputs": [],
"source": [
"//Example 2.10\n",
"//inverse Z transform of 1/(1-a*z^-1)\n",
"clear;clc;\n",
"xdel(winsid());\n",
"\n",
"// a=1\n",
"function y=f(z);\n",
"    y=z/(z-1) //upon simplification of the given equation \n",
"endfunction\n",
"intc(1+%i,2-%i,f)"
   ]
   }
,
{
		   "cell_type": "markdown",
		   "metadata": {},
		   "source": [
			"## Example 2.11: Inverse_of_z_transform_by_power_expansion_series.sce"
		   ]
		  },
  {
"cell_type": "code",
	   "execution_count": null,
	   "metadata": {
	    "collapsed": true
	   },
	   "outputs": [],
"source": [
"//Example 2.11\n",
"//inverse z transform by power series expansion\n",
"clear;clc;\n",
"xdel(winsid());\n",
"\n",
"z=%z;\n",
"num=2;\n",
"den=(2-(3*z^-1)+z^-2);\n",
"X=syslin('c',num/den)\n",
"//dividing the numerator and denominator by 2\n",
"num1=1;\n",
"den1=1-(1.5*(z^-1))+(0.5*(z^-2));\n",
"X1=syslin('c',(num1)/(den1))\n",
"//when mod(z)>1\n",
"//developing series expansion in negative power of z\n",
"A1=(num1)-(den1)\n",
" // multiplying the den2 by 1 and subtracting it from num1\n",
"B1=((1.5*(z^-1))-(0.5*(z^-2)))-((1.5*(z^-1))*den1) \n",
"// multiplying the den2 by (1.5*z^-1) and subtracting it from reminder of A1\n",
"C1=((1.75*z^-2)-(0.75*z^-3))-((1.75*z^-2)*den1)  \n",
"// multiplying the den2 by (1.75*z^-2) and subtracting it from reminder of A1\n",
"D1=((1.875*z^-3)-(0.875*z^-4))-((1.875*z^-3)*den1) \n",
" // multiplying the den2 by (1.875*z^-3) and subtracting it from reminder of A1\n",
"E1=((1.9375*z^-4)-(0.9375*z^-5))-((1.9375*z^-4)*den1) \n",
"// multiplying the den2 by (1.9375*z^-4) and subtracting it from reminder of A1\n",
"disp('x1(n)=1,1.5,1.75,1.875,1.9375,........')\n",
"\n",
"//when mod(z)<0.5\n",
"//developing series expansion in positive power of z\n",
"A2=(num)-((2*z^2)*den) //multiplyong the den by 2*(z^2) and subtracting it from num\n",
"B2=A2-(6*z^3*den)\n",
"//multiplyong the den by 2*(z^2) and subtracting it from A2\n",
"C2=B2-(14*z^4*den)\n",
"//multiplyong the den by 2*(z^2) and subtracting it from B2\n",
"D2=C2-(30*z^5*den)\n",
"//multiplyong the den by 2*(z^2) and subtracting it from C2\n",
"E2=D2-(62*z^6*den)\n",
"//multiplyong the den by 2*(z^2) and subtracting it from D2\n",
"disp('X2(z)=2*z^2+6*z^3+14*z^4+30*z^5+62*z^6+........')\n",
"disp('x2(n)=.....,62,30,14,6,2,0,0')"
   ]
   }
,
{
		   "cell_type": "markdown",
		   "metadata": {},
		   "source": [
			"## Example 2.12: inverse_of_Z_transform_by_partial_fraction_method.sce"
		   ]
		  },
  {
"cell_type": "code",
	   "execution_count": null,
	   "metadata": {
	    "collapsed": true
	   },
	   "outputs": [],
"source": [
"//Example 2.12\n",
"//inverse z transform by partial fraction method\n",
"clear;clc;\n",
"xdel(winsid());\n",
"\n",
"z=%z;\n",
"num=1;\n",
"den=((1-z^-1)^2)*(1+z^-1);\n",
"X=syslin('c',num/den)\n",
"X1=X/z\n",
"pfss(X1)\n",
"// by partial fraction the X1 will be factorised as (in terms of z)\n",
"disp('X(z)=(0.25*z/(z+1))+(0.75*z/(z-1))+(0.5*z/(z-1)^2)')\n",
"disp('X(z)=(0.25/(1+z^-1))+(0.75/(1-z^-1))+(0.5*z/(z-1)^2)')\n",
"// 0.25/(1+z^-1) is the z transform of '0.25*(-1)^n*u(n)'\n",
"// (0.75/(1-z^-1)) is the z transform of '0.75*u(n)'\n",
"//(0.5*z/(z-1)^2) is the z transform of '0.5*n*u(n)'\n",
"disp('x(n)=0.25*((-1)^n)*u(n)+0.75*u(n)+0.5*n*u(n)')"
   ]
   }
,
{
		   "cell_type": "markdown",
		   "metadata": {},
		   "source": [
			"## Example 2.1: solving_differential_equation_using_scilab.sce"
		   ]
		  },
  {
"cell_type": "code",
	   "execution_count": null,
	   "metadata": {
	    "collapsed": true
	   },
	   "outputs": [],
"source": [
"//Example 2.1\n",
"//solving differential equation in scilab\n",
"clear;clc;\n",
"xdel(winsid());\n",
"\n",
"function ydot=f(t, y)\n",
"ydot=(10/4)-(3*y/4)\n",
"endfunction\n",
"y0=1;\n",
"t0=0;\n",
"t=0:5:10;\n",
"y=ode(y0,t0,t,f)\n",
"//since't=0;5;10'\n",
"//the answer is calculated for t=0:5:10'\n",
"//thus the value of 'y'can be calculated at any value of 't'.\n",
""
   ]
   }
,
{
		   "cell_type": "markdown",
		   "metadata": {},
		   "source": [
			"## Example 2.2: inverse_of_laplace_transform_using_scilab.sce"
		   ]
		  },
  {
"cell_type": "code",
	   "execution_count": null,
	   "metadata": {
	    "collapsed": true
	   },
	   "outputs": [],
"source": [
"//Example 2.2\n",
"//Inverse laplace transform using scilab\n",
"clear;clc;\n",
"xdel(winsid());\n",
"s=%s;\n",
"num=(s+6);\n",
"den=(s^2+2*s+10);\n",
"F1=syslin('c',num,den)\n",
"F=pfss(F1)\n",
"//since pfss(F1) is not able to factorise F1,therefore,\n",
"//Rewriting numerator as, (s+6)=(s+1+5);\n",
"//Rewriting the denominator as, (s^2+2*s+6)=(s+1)^2+3^2;\n",
"disp('F=[((s+1)/(s+1)^2+3^2)+(5/3)*(3/(s+1)^2+3^2)]')\n",
"//From the standard formula of inverse laplace transform;\n",
"//(s+1)/(s+1)^2+3^2=%e^-t*(cos3t);\n",
"//(5/3)*(3/(s+1)^2+3^2)=(5/3)*%e^-t*(sin3t);\n",
"disp('f(t)=(%e^-t)*(cos3t)+(5/3)*(%e^-t)*(sin3t)')"
   ]
   }
,
{
		   "cell_type": "markdown",
		   "metadata": {},
		   "source": [
			"## Example 2.3: computing_initial_value_using_scilab.sce"
		   ]
		  },
  {
"cell_type": "code",
	   "execution_count": null,
	   "metadata": {
	    "collapsed": true
	   },
	   "outputs": [],
"source": [
"//Example 2.3\n",
"//computing initial value using scilab\n",
"clear;clc;\n",
"xdel(winsid());\n",
"s=%s\n",
"n3=(3*s+2)\n",
"d3=s*(s^2+4*s+5)\n",
"F=n3/d3\n",
"//Applying initial value theorem\n",
"//when limit 's' tends to infinity, final value of 'F' becomes '0'\n",
"\n",
"disp(0,'Final value=')"
   ]
   }
,
{
		   "cell_type": "markdown",
		   "metadata": {},
		   "source": [
			"## Example 2.4_1: eigen_values_using_scilab.sce"
		   ]
		  },
  {
"cell_type": "code",
	   "execution_count": null,
	   "metadata": {
	    "collapsed": true
	   },
	   "outputs": [],
"source": [
"//Example sec 2.4. a\n",
"//eigen values\n",
"clear;clc;\n",
"xdel(winsid());\n",
"\n",
"A=[1 -1;0 -1]\n",
"B=spec(A)\n",
"disp(B,'Eigen values=')"
   ]
   }
,
{
		   "cell_type": "markdown",
		   "metadata": {},
		   "source": [
			"## Example 2.4_b: eigen_values_using_scilab.sce"
		   ]
		  },
  {
"cell_type": "code",
	   "execution_count": null,
	   "metadata": {
	    "collapsed": true
	   },
	   "outputs": [],
"source": [
"//Example sec 2.4.2\n",
"//eigen values\n",
"clear;clc;\n",
"xdel(winsid());\n",
"\n",
"A=[0 6 -5;1 0 2;3 2 4]\n",
"B=spec(A)\n",
"disp(B,'Eigen values=')"
   ]
   }
,
{
		   "cell_type": "markdown",
		   "metadata": {},
		   "source": [
			"## Example 2.4: computing_initial_value_of_transfer_function.sce"
		   ]
		  },
  {
"cell_type": "code",
	   "execution_count": null,
	   "metadata": {
	    "collapsed": true
	   },
	   "outputs": [],
"source": [
"//Example 2.4\n",
"//computing f'(0+) and f''(0+) using scilab\n",
"clear;clc;\n",
"xdel(winsid());\n",
"\n",
"s=%s;\n",
"n4=(4*s+1);\n",
"d4=s*(s^2+4*s+5);\n",
"F=n4/d4\n",
"// As per initial value theorem, limit 't' tends to zero and limit 's' tends to infinity\n",
"\n",
"//for f'(0+)\n",
"F1=s*F+0  \n",
"\n",
"for s=%inf\n",
"    disp('f''(0+)=4')\n",
"end\n",
"//for f''(0+)\n",
"s=%s;\n",
"F2=((s*(F1))-(4))\n",
"\n",
"for s=%inf\n",
"    disp('f''''(0+)=-15')\n",
"end"
   ]
   }
,
{
		   "cell_type": "markdown",
		   "metadata": {},
		   "source": [
			"## Example 2.5: computing_initial_value_of_function_F_in_scilab.sce"
		   ]
		  },
  {
"cell_type": "code",
	   "execution_count": null,
	   "metadata": {
	    "collapsed": true
	   },
	   "outputs": [],
"source": [
"//Example 2.5\n",
"//computing final value of function F using scilab\n",
"clear;clc;\n",
"xdel(winsid());\n",
"\n",
"s=%s;\n",
"n5=(8*s+5);\n",
"d5=s*(s+1)*(s^2+4*s+5);\n",
"F=n5/d5\n",
"F1=s*F\n",
"//for final value limit 't' tends to infinity and limit 's' tends to zero.\n",
"//When s=0, the value of F1 will be '(5/5)=1'\n",
"for s=0\n",
"    disp('Final value=1') \n",
"end"
   ]
   }
,
{
		   "cell_type": "markdown",
		   "metadata": {},
		   "source": [
			"## Example 2.6: computing_final_value_of_function_F_using_scilab.sce"
		   ]
		  },
  {
"cell_type": "code",
	   "execution_count": null,
	   "metadata": {
	    "collapsed": true
	   },
	   "outputs": [],
"source": [
"//Example 2.6\n",
"//computing final value of function F using scilab\n",
"clear;clc;\n",
"xdel(winsid());\n",
"s=%s;\n",
"n6=(5);\n",
"d6=s*(s^2+49);\n",
"F=n6/d6\n",
"F1=s*F\n",
"\n",
"disp('THE SYSTEM HAS POLES ON IMAGINARY AXIS. THEREFORE f(t) HAS NO FINAL VALUE')"
   ]
   }
,
{
		   "cell_type": "markdown",
		   "metadata": {},
		   "source": [
			"## Example 2.7: Inverse_laplace_transform_using_scilab.sce"
		   ]
		  },
  {
"cell_type": "code",
	   "execution_count": null,
	   "metadata": {
	    "collapsed": true
	   },
	   "outputs": [],
"source": [
"//Example 2.7\n",
"//Inverse laplace transform of '2/(s^2*(s+1))' using scilab\n",
"clear;clc;\n",
"xdel(winsid());\n",
"s=%s;\n",
"num=2;\n",
"den=(s^2)*(s+1);\n",
"F1=syslin('c',num,den)\n",
"F=pfss(F1)\n",
"//from the partial fraction decomposition, taking out 2 as common term.\n",
"//The result would be in the form of'F(s)=2*(1/s^2-1/s+(1/s+1))'\n",
"disp('F(s)=2*((1/s^2)-(1/s)+(1/(s+1)))')\n",
"//From the standard formula of inverse laplace transform;\n",
"//(1/s^2)=t;(1/s)=1;(1/(s+1))=%e^-t\n",
"disp('f(t)=2*(t-1+e^-t)')"
   ]
   }
,
{
		   "cell_type": "markdown",
		   "metadata": {},
		   "source": [
			"## Example 2.8: Z_transform_of_the_signal.sce"
		   ]
		  },
  {
"cell_type": "code",
	   "execution_count": null,
	   "metadata": {
	    "collapsed": true
	   },
	   "outputs": [],
"source": [
"//Example 2.8\n",
"//Z transform of the signal x(n)=(0.5)^n*u(n)\n",
"clear;clc;\n",
"xdel(winsid());\n",
"\n",
"//u(n)is unit step input \n",
"n=2;\n",
"x=(0.5)^n;\n",
"m=1;\n",
"w=1;\n",
"phi=tand(0);\n",
"a=1;\n",
"theta=tand(45);\n",
"[cxz]=czt(x,m,w,phi,a,theta)"
   ]
   }
,
{
		   "cell_type": "markdown",
		   "metadata": {},
		   "source": [
			"## Example 2.9: z_transform_of_the_signal_using_scilab.sce"
		   ]
		  },
  {
"cell_type": "code",
	   "execution_count": null,
	   "metadata": {
	    "collapsed": true
	   },
	   "outputs": [],
"source": [
"//Example 2.9\n",
"//Z transform of the signal x(n)=(a)^n*u(n)+(b)^n*u(-n-1).\n",
"clear;clc;\n",
"xdel(winsid());\n",
"\n",
"//u(n)is unit step input \n",
"//a=0.5 and b=0.6\n",
"n1=2;\n",
"x1=(0.5)^n1;\n",
"m1=1;\n",
"w1=1;\n",
"phi1=tand(0);\n",
"a1=1;\n",
"theta1=tand(45);\n",
"[X1]=czt(x1,m1,w1,phi1,a1,theta1)\n",
"n2=2;\n",
"x2=(0.6)^n2;\n",
"m2=1;\n",
"w2=-1;\n",
"phi2=tand(-45);\n",
"a2=1;\n",
"theta2=tand(45);\n",
"[X2]=czt(x2,m2,w2,phi2,a2,theta2)\n",
"X=X1+X2;\n",
"disp(X,'ans=')"
   ]
   }
],
"metadata": {
		  "kernelspec": {
		   "display_name": "Scilab",
		   "language": "scilab",
		   "name": "scilab"
		  },
		  "language_info": {
		   "file_extension": ".sce",
		   "help_links": [
			{
			 "text": "MetaKernel Magics",
			 "url": "https://github.com/calysto/metakernel/blob/master/metakernel/magics/README.md"
			}
		   ],
		   "mimetype": "text/x-octave",
		   "name": "scilab",
		   "version": "0.7.1"
		  }
		 },
		 "nbformat": 4,
		 "nbformat_minor": 0
}
