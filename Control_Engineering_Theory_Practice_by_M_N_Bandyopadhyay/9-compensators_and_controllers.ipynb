{
"cells": [
 {
		   "cell_type": "markdown",
	   "metadata": {},
	   "source": [
       "# Chapter 9: compensators and controllers"
	   ]
	},
{
		   "cell_type": "markdown",
		   "metadata": {},
		   "source": [
			"## Example 9.1: compensation_in_open_loop_control_system.sce"
		   ]
		  },
  {
"cell_type": "code",
	   "execution_count": null,
	   "metadata": {
	    "collapsed": true
	   },
	   "outputs": [],
"source": [
"//Example sec 9.1\n",
"//compensation in open loop control system\n",
"clear;clc;\n",
"xdel(winsid());\n",
"\n",
"s=%s;\n",
"disp('G=(60*k)/s*(s+1)*(s+6)')\n",
"//velocity error constant 'Kv' when unit ramp input is applied to G is '5k'.\n",
"//If 'k=1',then,steady state error is 0.2.\n",
"// when 'k=35/60' G becomes \n",
"\n",
"num=35;\n",
"den=s*(s+2)*(s+6);\n",
"G1=syslin('c',num,den);\n",
"subplot(1,2,1);\n",
"evans(G1)\n",
"// From the figure 9.1\n",
"OA=sqrt((0.3)^2+(2.8)^2);\n",
"wn1=OA\n",
"theta=84 // analytically calculated\n",
"zeta1=cosd(theta)\n",
"Ts1=4/(zeta1*wn1) // Ts1=settling time in seconds\n",
"//For zeta to be 0.6 and settling time less than 0.4 sec\n",
"a=acosd(0.6)\n",
"//By drawing angle 'a' on the root locus \n",
"OB=1.26;\n",
"wn2=OB; \n",
"Ts2=4/(0.6*1.26) //in seconds\n",
"k=10.5/60;\n",
"//substituting 's=0' and '60k=10.5' in the equation for G.\n",
"Kv1=10.5/12 //Kv= velocity error coefficient\n",
"Ess1= 1/Kv1  //Ess= steady state error\n",
"//To get the required value of the zeta, steady state error increases and settling time improves.\n",
"\n",
"//inserting one zero in the expression for 'G'\n",
"disp('G2=60*k*(s+3)/s*(s+2)*(s+6)')\n",
"//considering k=1\n",
"num1=60*(s+3);\n",
"den1=(s*(s+1)*(s+6));\n",
"G3=syslin('c',num1,den1);\n",
"subplot(1,2,2);\n",
"evans(G3);\n",
"//considering 'zeta=0.6' and drawing line OA at an angle 53.13, on the root locus.\n",
"zeta=0.6;\n",
"OA1=3.4;\n",
"wn=OA1\n",
"K=16/60\n",
"Kv=(60*K*3)/(2*6)\n",
"Ts=4/(zeta*wn) //in seconds\n",
"Ess=1/Kv"
   ]
   }
],
"metadata": {
		  "kernelspec": {
		   "display_name": "Scilab",
		   "language": "scilab",
		   "name": "scilab"
		  },
		  "language_info": {
		   "file_extension": ".sce",
		   "help_links": [
			{
			 "text": "MetaKernel Magics",
			 "url": "https://github.com/calysto/metakernel/blob/master/metakernel/magics/README.md"
			}
		   ],
		   "mimetype": "text/x-octave",
		   "name": "scilab",
		   "version": "0.7.1"
		  }
		 },
		 "nbformat": 4,
		 "nbformat_minor": 0
}
