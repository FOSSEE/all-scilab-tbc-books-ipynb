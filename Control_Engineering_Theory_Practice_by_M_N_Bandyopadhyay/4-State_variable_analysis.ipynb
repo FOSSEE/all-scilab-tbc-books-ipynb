{
"cells": [
 {
		   "cell_type": "markdown",
	   "metadata": {},
	   "source": [
       "# Chapter 4: State variable analysis"
	   ]
	},
{
		   "cell_type": "markdown",
		   "metadata": {},
		   "source": [
			"## Example 4.10: Controllable_companion_form.sce"
		   ]
		  },
  {
"cell_type": "code",
	   "execution_count": null,
	   "metadata": {
	    "collapsed": true
	   },
	   "outputs": [],
"source": [
"//Example sec 4.10\n",
"//Controllable companion form\n",
"clear;clc;\n",
"xdel(winsid());\n",
"A=[1 0 0;0 2 0;0 0 3]\n",
"B=[1 0;0 1;1 1]\n",
"b1=[1;0;1]\n",
"b2=[0;1;1]\n",
"u=[B A*B A^2 B]\n",
"u1=[1 0 1;0 1 0;1 1 3]\n",
"// u1 is arranged from [b1 A^(v1-1)*b1 A^(v2-1)*b2]\n",
"// v1 and v2 are controllability indices.\n",
"u1=[b1 A*b1 b2]\n",
"v1=2;\n",
"v2=1;\n",
"inv(u1)\n",
"\n",
"p1=[-0.5 -0.5 0.5]\n",
"p2=[0 1 0]\n",
"P=[p1;p1*A;p2]\n",
"A1=P*A*inv(P)\n",
"B1=P*B\n",
"C=eye(3,3)\n",
"s=%s\n",
"D=s*C-A1\n",
"E=det(D)\n",
"routh_t(E)\n",
"//to get equation E, A must be equal to\n",
"A2=[0 1 0;0 0 1;-6 -11 -6]\n",
"B2=[0 0;1 0.5;0 1]\n",
"N1=[6 1.5 4.5;-6 -11 8]\n",
"N=N1*P"
   ]
   }
,
{
		   "cell_type": "markdown",
		   "metadata": {},
		   "source": [
			"## Example 4.1: State_equatio.sce"
		   ]
		  },
  {
"cell_type": "code",
	   "execution_count": null,
	   "metadata": {
	    "collapsed": true
	   },
	   "outputs": [],
"source": [
"//Example 4.1\n",
"//state equation\n",
"clear;clc;\n",
"xdel(winsid());\n",
"\n",
"A=[0 1;-2 -3]\n",
"B=[0;1]\n",
"C=[0]\n",
"[Ac Bc U ind]=canon(A,B);\n",
"disp(clean(Ac),'Ac=');\n",
"disp(clean(Bc),'Bc=');\n",
"disp(U,'transformation matrix U=');"
   ]
   }
,
{
		   "cell_type": "markdown",
		   "metadata": {},
		   "source": [
			"## Example 4.3: Eigen_values.sce"
		   ]
		  },
  {
"cell_type": "code",
	   "execution_count": null,
	   "metadata": {
	    "collapsed": true
	   },
	   "outputs": [],
"source": [
"//Example 4.3\n",
"//for given matrix 'A' proving eigen values of 'A'='t^-1*A*T'\n",
"clear;clc;\n",
"xdel(winsid());\n",
"A=[0 1 0;0 0 1;-6 -11 -6] \n",
"P=bdiag(A) //eigen values of 'A'\n",
"\n",
"T=[1 1 1;-1 -2 -3; 1 4 9] //vandermode matrix\n",
"inv(T)\n",
"\n",
"A1=inv(T)*A*T  //diagonal canonical form of A\n",
"\n",
"//thus 'P=A1' is proved.\n",
"\n",
"\n",
""
   ]
   }
,
{
		   "cell_type": "markdown",
		   "metadata": {},
		   "source": [
			"## Example 4.6_a: Canonical_form.sce"
		   ]
		  },
  {
"cell_type": "code",
	   "execution_count": null,
	   "metadata": {
	    "collapsed": true
	   },
	   "outputs": [],
"source": [
"//Example sec 4.6a\n",
"//example of canonical form\n",
"clear;clc;\n",
"xdel(winsid());\n",
"A=[1 2 1;0 1 3;1 1 1];\n",
"B=[1;0;1];\n",
"C=[1 0 0;0 1 0;0 0 1]\n",
"S=cont_mat(A,B)\n",
"s=%s;\n",
"D=s*C-A\n",
"det(D)\n",
"//the characteristic equation i.e. det(D)=s^3-3*s^2-s-3=0 is of the form of\n",
"//s^3+a2*S^2+a1*s+a0=0. therefore comparing two equation.\n",
"a2=-3\n",
"a1=-1\n",
"a0=-3\n",
"M=[a1 a2 1;a2 1 0;1 0 0]\n",
"P=S*M\n",
"A1=inv(P)*A*P\n",
"B1=inv(P)*B"
   ]
   }
,
{
		   "cell_type": "markdown",
		   "metadata": {},
		   "source": [
			"## Example 4.6_b: Canonical_form.sce"
		   ]
		  },
  {
"cell_type": "code",
	   "execution_count": null,
	   "metadata": {
	    "collapsed": true
	   },
	   "outputs": [],
"source": [
"//Example sec 4.6b\n",
"//example of canonical form\n",
"clear;clc;\n",
"xdel(winsid());\n",
"A=[1 2 1;0 1 3;1 1 1];\n",
"B=[1;0;1];\n",
"C=[1 1 0];\n",
"V=[C;C*A;C*A^2]\n",
"\n",
"D=eye(3,3)\n",
"s=%s\n",
"E=s*D-A\n",
"det(E)\n",
"\n",
"//the characteristic equation i.e. det(E)=s^3-3*s^2-s-3=0 is of the form of\n",
"//s^3+a2*S^2+a1*s+a0=0. therefore comparing two equation.\n",
"\n",
"a2=-3\n",
"a1=-1\n",
"a0=-3\n",
"M=[a1 a2 1;a2 1 0;1 0 0]\n",
"F=M*V\n",
"Q=inv(F)\n",
"A1=inv(Q)*A*Q\n",
"B1=inv(Q)*B\n",
"C1=C*Q"
   ]
   }
,
{
		   "cell_type": "markdown",
		   "metadata": {},
		   "source": [
			"## Example 4.8: Jordan_canonical_form.sce"
		   ]
		  },
  {
"cell_type": "code",
	   "execution_count": null,
	   "metadata": {
	    "collapsed": true
	   },
	   "outputs": [],
"source": [
"//Example sec 4.8\n",
"//Jordan canonical form\n",
"clear;clc;\n",
"xdel(winsid());\n",
"A=[0 6 -5;1 0 2;3 2 4]\n",
"B=spec(A)\n",
"//Eigen vectors corresponding to eigen values of A are\n",
"p1=[2;-1;-2];\n",
"p2=[1;-0.4285;-0.7142];\n",
"p3=[1;-0.4489;-0.93877];\n",
"T=[p1 p2 p3];\n",
"A1=inv(T)*A*T"
   ]
   }
],
"metadata": {
		  "kernelspec": {
		   "display_name": "Scilab",
		   "language": "scilab",
		   "name": "scilab"
		  },
		  "language_info": {
		   "file_extension": ".sce",
		   "help_links": [
			{
			 "text": "MetaKernel Magics",
			 "url": "https://github.com/calysto/metakernel/blob/master/metakernel/magics/README.md"
			}
		   ],
		   "mimetype": "text/x-octave",
		   "name": "scilab",
		   "version": "0.7.1"
		  }
		 },
		 "nbformat": 4,
		 "nbformat_minor": 0
}
