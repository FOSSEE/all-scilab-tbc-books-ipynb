{
"cells": [
 {
		   "cell_type": "markdown",
	   "metadata": {},
	   "source": [
       "# Chapter 5: stability of linear control system"
	   ]
	},
{
		   "cell_type": "markdown",
		   "metadata": {},
		   "source": [
			"## Example 5.1: Hurwitz_stability_test.sce"
		   ]
		  },
  {
"cell_type": "code",
	   "execution_count": null,
	   "metadata": {
	    "collapsed": true
	   },
	   "outputs": [],
"source": [
"//Example 5.1\n",
"//Hurwitz stability test in scilab\n",
"clear;clc;\n",
"xdel(winsid());\n",
"\n",
"s=%s\n",
"A=s^4+8*s^3+18*s^2+16*s+4 //characteristic equation\n",
"\n",
"//coefficients of characteristic equation\n",
"a0=det(coeff(A,4))\n",
"a1=det(coeff(A,3))\n",
"a2=det(coeff(A,2))\n",
"a3=det(coeff(A,1))\n",
"a4=det(coeff(A,0))\n",
"\n",
"D=[a1 a0 0 0;a3 a2 a1 a0;0 a4 a3 a2;0 0 0 a4]//Hurwitz determinant\n",
"\n",
"//minors of hurwitz determinant\n",
"D1=[a1]\n",
"det(D1)\n",
"D2=[a1 a0;a3 a2]\n",
"det(D2)\n",
"D3=[a1 a0 0;a3 a2 a1;0 a4 a3]\n",
"det(D3)\n",
"D4=[a1 a0 0 0;a3 a2 a1 a0;0 a4 a3 a2;0 0 0 a4]\n",
"det(D2)"
   ]
   }
,
{
		   "cell_type": "markdown",
		   "metadata": {},
		   "source": [
			"## Example 5.2_2a: Routh_array.sce"
		   ]
		  },
  {
"cell_type": "code",
	   "execution_count": null,
	   "metadata": {
	    "collapsed": true
	   },
	   "outputs": [],
"source": [
"//Example sec 5.2.2 a\n",
"//Routh array in scilab\n",
"clear;clc;\n",
"xdel(winsid());\n",
"\n",
"s=poly(0,'s')\n",
"A=s^5+s^4+2*s^3+2*s^2+4*s+6\n",
"routh_t(A)\n",
"\n",
""
   ]
   }
,
{
		   "cell_type": "markdown",
		   "metadata": {},
		   "source": [
			"## Example 5.2_2b: Routh_array.sce"
		   ]
		  },
  {
"cell_type": "code",
	   "execution_count": null,
	   "metadata": {
	    "collapsed": true
	   },
	   "outputs": [],
"source": [
"//Example sec 5.2.2 b\n",
"//Routh array in scilab\n",
"clear;clc;\n",
"xdel(winsid());\n",
"\n",
"s=poly(0,'s')\n",
"B=s^5+2*s^4+6*s^3+12*s^2+8*s+16\n",
"routh_t(B)\n",
"// In this example a row of zero forms at s^3.\n",
"//The function automatically the derivative of the\n",
"//auxillary polynomial 2*s^4+12*s^2+16\n",
"//viz=8*s^3+24*s"
   ]
   }
,
{
		   "cell_type": "markdown",
		   "metadata": {},
		   "source": [
			"## Example 5.2_2c: Routh_array.sce"
		   ]
		  },
  {
"cell_type": "code",
	   "execution_count": null,
	   "metadata": {
	    "collapsed": true
	   },
	   "outputs": [],
"source": [
"//Example sec 5.2.2 c\n",
"//Routh array in scilab\n",
"clear;clc;\n",
"xdel(winsid());\n",
"\n",
"s=poly(0,'s')\n",
"p=poly(0,'p')\n",
"C=s^5+s^4+2*s^3+2*s^2+3*s+5\n",
"\n",
"//substituting 's=(1/p)' in B\n",
"//The resulting characteristic equation is\n",
"\n",
"C1=5*p^5+3*p^4+2*p^3+2*p^2+p+1\n",
"routh_t(C1)"
   ]
   }
,
{
		   "cell_type": "markdown",
		   "metadata": {},
		   "source": [
			"## Example 5.2_2d: Routh_array.sce"
		   ]
		  },
  {
"cell_type": "code",
	   "execution_count": null,
	   "metadata": {
	    "collapsed": true
	   },
	   "outputs": [],
"source": [
"//Example sec 5.2.2 d\n",
"//Routh array in scilab\n",
"clear;clc;\n",
"xdel(winsid());\n",
"\n",
"s=poly(0,'s')\n",
"D=2*s^6+2*s^5+3*s^4+3*s^3+2*s^2+s+1\n",
"routh_t(D)\n",
"\n",
"D1=s^2+1\n",
"//dividing the main polynomial D by the auxillary polynomial D1\n",
"D/D1\n",
"D2=2*s^4+2*s^3+s^2+s+1\n",
"routh_t(D2)"
   ]
   }
,
{
		   "cell_type": "markdown",
		   "metadata": {},
		   "source": [
			"## Example 5.2: Routh_array.sce"
		   ]
		  },
  {
"cell_type": "code",
	   "execution_count": null,
	   "metadata": {
	    "collapsed": true
	   },
	   "outputs": [],
"source": [
"//Example 5.2\n",
"//constructing Routh array in scilab\n",
" clear; clc; \n",
"xdel(winsid());\n",
"mode(0);\n",
"\n",
"s=%s;\n",
"\n",
"A=s^4+4*s^3+4*s^2+3*s; // characteristic equation\n",
"\n",
"k=poly(0,'k')\n",
"\n",
"routh_t((1)/A,poly(0,'k'))\n",
"disp('0<k<2.4375')\n",
"\n",
"//the function will automatically computes Routh array\n",
"//from the Routh array the value of 'k' lies between 0 and 2.4375\n",
"\n",
""
   ]
   }
,
{
		   "cell_type": "markdown",
		   "metadata": {},
		   "source": [
			"## Example 5.3: Routh_array.sce"
		   ]
		  },
  {
"cell_type": "code",
	   "execution_count": null,
	   "metadata": {
	    "collapsed": true
	   },
	   "outputs": [],
"source": [
"// Example 5.3 \n",
" // Constructing Routh array in scilab\n",
"  \n",
"clear;clc\n",
"xdel(winsid());\n",
"mode(0);\n",
"\n",
"s=%s;\n",
"\n",
"A=s^4+4*s^3+4*s^2+3*s;  // characteristic equation after simplification\n",
"\n",
"k=poly(0,'k')\n",
"\n",
"routh_t((1)/A,poly(0,'k'))\n",
"\n",
"//system will construct Routh array and \n",
"//from Routh array 'k' must lie between 0&39/16 i.e (0<k<2.4375)\n",
"\n",
"disp('0<k<39/16')"
   ]
   }
,
{
		   "cell_type": "markdown",
		   "metadata": {},
		   "source": [
			"## Example 5.4: Routh_array.sce"
		   ]
		  },
  {
"cell_type": "code",
	   "execution_count": null,
	   "metadata": {
	    "collapsed": true
	   },
	   "outputs": [],
"source": [
"//example5.4\n",
"//constructing Routh array in scilab\n",
"clear;clc\n",
"xdel(winsid());//close all windows\n",
"mode(0);\n",
"s=%s;\n",
"A=s^3+8*s^2+26*s+40;\n",
"\n",
"//consider p-plane is located to the left of the s-plane. \n",
"//distance between p-plane and s-plane is 1.\n",
"//if the origin is shifted from s-plane to the p-plane,then, s=p-1\n",
"\n",
"z=%z\n",
"B=z^3+5*z^2+13*z+21;//substituting s=p-1 in the equation of A, the resulting equation will be\n",
"routh_t(B)"
   ]
   }
,
{
		   "cell_type": "markdown",
		   "metadata": {},
		   "source": [
			"## Example 5.5: Routh_array.sce"
		   ]
		  },
  {
"cell_type": "code",
	   "execution_count": null,
	   "metadata": {
	    "collapsed": true
	   },
	   "outputs": [],
"source": [
"//Example 5.5 a\n",
"//constructing Routh array in scilab\n",
"clear;clc\n",
"xdel(winsid());//close all windows\n",
"mode(0);\n",
"s=%s;\n",
"A=s^3+s^2-s+1\n",
"routh_t(A)\n",
"\n",
"//Example 5.5 b\n",
"\n",
"s=%s;\n",
"B=s^4-s^2-2*s+2\n",
"routh_t(B)\n",
"//in this example 0 occurs in the first column of the array\n",
"// for which system assumes any small value 'eps' and computes the array automatically."
   ]
   }
,
{
		   "cell_type": "markdown",
		   "metadata": {},
		   "source": [
			"## Example 5.6: Routh_array.sce"
		   ]
		  },
  {
"cell_type": "code",
	   "execution_count": null,
	   "metadata": {
	    "collapsed": true
	   },
	   "outputs": [],
"source": [
"//Example 5.6\n",
"//constructing Routh array in scilab\n",
" clear; clc; \n",
"xdel(winsid());\n",
"mode(0);\n",
"\n",
"s=%s;\n",
"\n",
"A=s^4+8*s^3+24*s^2+32*s; //characteristic equation\n",
"k=poly(0,'k')\n",
"\n",
"routh_t((1)/A,poly(0,'k'))\n",
"disp(k=80)\n",
"\n",
"//since from the fourth row of the Routh array \n",
"// the positive value 'k=80' will give roots with zero real part.\n",
"\n",
""
   ]
   }
],
"metadata": {
		  "kernelspec": {
		   "display_name": "Scilab",
		   "language": "scilab",
		   "name": "scilab"
		  },
		  "language_info": {
		   "file_extension": ".sce",
		   "help_links": [
			{
			 "text": "MetaKernel Magics",
			 "url": "https://github.com/calysto/metakernel/blob/master/metakernel/magics/README.md"
			}
		   ],
		   "mimetype": "text/x-octave",
		   "name": "scilab",
		   "version": "0.7.1"
		  }
		 },
		 "nbformat": 4,
		 "nbformat_minor": 0
}
