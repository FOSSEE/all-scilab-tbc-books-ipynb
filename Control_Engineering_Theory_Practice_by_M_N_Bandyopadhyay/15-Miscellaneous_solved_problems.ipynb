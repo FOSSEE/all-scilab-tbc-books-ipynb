{
"cells": [
 {
		   "cell_type": "markdown",
	   "metadata": {},
	   "source": [
       "# Chapter 15: Miscellaneous solved problems"
	   ]
	},
{
		   "cell_type": "markdown",
		   "metadata": {},
		   "source": [
			"## Example 15.12: solution_of_polynolynomial_equation.sce"
		   ]
		  },
  {
"cell_type": "code",
	   "execution_count": null,
	   "metadata": {
	    "collapsed": true
	   },
	   "outputs": [],
"source": [
"//Example 15.12\n",
"//prove the solution of the equation\n",
"clear;clc;\n",
"xdel(winsid());\n",
"//assuming n=1\n",
"n=1;\n",
"z=%z;\n",
"y(n)=z^n;\n",
"y(n+1)=z^(n+1);\n",
"y(n+2)=z^(n+2);\n",
"A=y(n+2)+3*y(n+1)+2*y(n)\n",
"B=A/z\n",
"roots(z^2+3*z+2)\n",
"disp('y(n)=z^n is solution of polynomial equation (z+2)*(z+1)=0')"
   ]
   }
,
{
		   "cell_type": "markdown",
		   "metadata": {},
		   "source": [
			"## Example 15.13: Time_domain_specifications.sce"
		   ]
		  },
  {
"cell_type": "code",
	   "execution_count": null,
	   "metadata": {
	    "collapsed": true
	   },
	   "outputs": [],
"source": [
"//Example 15.13\n",
"//Time domain specifications\n",
"clear;clc;\n",
"xdel(winsid());\n",
"\n",
"J=5.5*10^-2;\n",
"f=3.0*10^-4;\n",
"disp('wn=sqrt(k/J)=10^3*sqrt(k/5.5)')\n",
"disp('zeta=sqrt(4.9*10^-3/k)')\n",
"//at critically damped condition 'zeta=1', therefore\n",
"k=4.09*10^-3\n",
"//when k=1.5*10^-2\n",
"zeta=sqrt((4.09*10^-3)/(1.5*10^-2))\n",
"wn=10^3*sqrt(1.5*10^-2/5.5)\n",
"wd=(wn/(2*%pi))*sqrt(1-zeta^2)\n",
"//wd=frequency of damped oscillation\n",
"Pwd=1/wd\n",
"//Pwd=period of damped oscillation"
   ]
   }
,
{
		   "cell_type": "markdown",
		   "metadata": {},
		   "source": [
			"## Example 15.14: Position_servomotor.sce"
		   ]
		  },
  {
"cell_type": "code",
	   "execution_count": null,
	   "metadata": {
	    "collapsed": true
	   },
	   "outputs": [],
"source": [
"//Example 15.14\n",
"//position servomoter\n",
"clear;clc;\n",
"xdel(winsid());\n",
"//Mil= motor inertia referred tothe load side\n",
"Mil=20^2*0.45*10^-6  //unit= kg.m^2\n",
"//Tr= Transformation ratio of gear train between the loadshaft and the tachogenerator\n",
"Tr=20*2  \n",
"//til= tachogenerator inertia referred to the load side\n",
"til=40^2*0.35*10^-6  //unit= kg.m^2\n",
"//Til= total inertia referred to the load side\n",
"Til=(20*10^-6)+(1.8*10^-4)+(5.6*10^-4)  //unit= kg.m^2\n",
"//Mi= inertia referred to the motor side\n",
"Mi=(760*10^-6)/400  //unit= kg.m^2"
   ]
   }
,
{
		   "cell_type": "markdown",
		   "metadata": {},
		   "source": [
			"## Example 15.15: steady_output_speed_of_DC_motor.sce"
		   ]
		  },
  {
"cell_type": "code",
	   "execution_count": null,
	   "metadata": {
	    "collapsed": true
	   },
	   "outputs": [],
"source": [
"//Example 15.15\n",
"//steady output speed of DC motor\n",
"clear;clc;\n",
"xdel(winsid());\n",
"\n",
"//Jm= moment of inertia of motor\n",
"Jm=6.5*10^-2;\n",
"//Fm= friction of motor\n",
"Fm=3.5*10^-3;\n",
"//a=gear ratio\n",
"a=1/100;\n",
"//Jl= inertia of load\n",
"Jl=420;\n",
"//Fl= friction of load\n",
"Fl=220;\n",
"//J= total moment of inertia\n",
"J=Jm+(a^2*Jl)   //unit=kg.m^2\n",
"//F= total friction\n",
"F=Fm+(a^2*Fl)  //unit=kg.m^2\n",
"s=%s\n",
"//wm1=Angular velocity in frequency domain\n",
"wm1=2/(s*((J*s)+F))\n",
"t=1;\n",
"//wm2=Angular velocity in time domain\n",
"//since 't=1', wm2 is initial value of angular velocity\n",
"wm2=(2/F)*(1-(%e^((-5.7*10^-2)/(10.7*10^-2))*t))  //unit=rad/sec\n",
"//Nm1=motor speed in rps(initial speed)\n",
"Nm1=wm2/(2*%pi);\n",
"//Nm2=motor speed in rpm\n",
"Nm2=(wm2/(2*%pi))*60;  //unit=rpm\n",
"//Nl=load speed\n",
"Nl=(1/100)*((wm2/(2*%pi))*60) //unit=rpm\n",
"//Nos= steady output speed\n",
"//since Nos is steady speed, the exponential term of wn2 becomes 0.\n",
"Nos=(1/100)*(60/(2*%pi))*(2/(5.7*10^-2))  //unit=rpm\n",
""
   ]
   }
,
{
		   "cell_type": "markdown",
		   "metadata": {},
		   "source": [
			"## Example 15.26: Routh_array.sce"
		   ]
		  },
  {
"cell_type": "code",
	   "execution_count": null,
	   "metadata": {
	    "collapsed": true
	   },
	   "outputs": [],
"source": [
"// Example 15.26\n",
"// Constructing Routh array in scilab\n",
"  \n",
"clear;clc\n",
"xdel(winsid());\n",
"mode(0);\n",
"\n",
"A=[5 -6 -12;-1 1 2;5 -6 -11]\n",
"B=eye(3,3)\n",
"s=%s\n",
"C=s*B-A\n",
"D=s^3+5*s^2+5*s+1;  // characteristic equation after simplification\n",
"routh_t(D)\n",
"disp('No sign change in the first column, hence the system is asymptotically stable')\n",
"\n",
""
   ]
   }
,
{
		   "cell_type": "markdown",
		   "metadata": {},
		   "source": [
			"## Example 15.27: To_check_reachability_of_the_system.sce"
		   ]
		  },
  {
"cell_type": "code",
	   "execution_count": null,
	   "metadata": {
	    "collapsed": true
	   },
	   "outputs": [],
"source": [
"// Example 15.27\n",
" // To check whether the system is reachable or not\n",
"\n",
"clear;clc\n",
"xdel(winsid());\n",
"mode(0);\n",
"A=[1 0;0 1]\n",
"B=[1;1]\n",
"Wc=[A*B B]\n",
"disp('The rank of Wc=(1*1-1*1)=0,and not equal to 2. Thus the given system is not reachable ')"
   ]
   }
,
{
		   "cell_type": "markdown",
		   "metadata": {},
		   "source": [
			"## Example 15.28: Determine_the_stability_of_the_system.sce"
		   ]
		  },
  {
"cell_type": "code",
	   "execution_count": null,
	   "metadata": {
	    "collapsed": true
	   },
	   "outputs": [],
"source": [
"// Example 15.28\n",
"// Determine the stability of the system.\n",
"  \n",
"clear;clc\n",
"xdel(winsid());\n",
"mode(0);\n",
"\n",
"\n",
"z=%z\n",
"\n",
"D=z^3+6*z^2+8*z-0.04;  // characteristic equation after simplification\n",
"routh_t(D)\n",
"disp('There is sign change in the first column, hence the system is unstable')"
   ]
   }
,
{
		   "cell_type": "markdown",
		   "metadata": {},
		   "source": [
			"## Example 15.2: Time_domain_specifications_of_second_order_system.sce"
		   ]
		  },
  {
"cell_type": "code",
	   "execution_count": null,
	   "metadata": {
	    "collapsed": true
	   },
	   "outputs": [],
"source": [
" //Example 15.2\n",
" //time domain specifications of second order system\n",
" clear;clc;\n",
" xdel(winsid());\n",
" mode(0);\n",
" \n",
" //converting the given differential equation in 's' domain\n",
" //since x and y are constants\n",
" //therefoere considering 'x=y=1' \n",
" \n",
"s=%s;\n",
"g=s^2+2*s; \n",
"x=roots(g)\n",
"wn=sqrt (abs(x(1))) //undamped natural frequency\n",
"zeta=(1/wn) //damping ratio\n",
"wd=wn*sqrt(1-zeta^2)//damped natural frequency\n",
"Dc=(zeta*wn) //Dc=damping coefficient\n",
"Tc=1/(zeta*wn)//Tc=time constant of the system"
   ]
   }
,
{
		   "cell_type": "markdown",
		   "metadata": {},
		   "source": [
			"## Example 15.31: Time_domain_specifications_of_second_order_system.sce"
		   ]
		  },
  {
"cell_type": "code",
	   "execution_count": null,
	   "metadata": {
	    "collapsed": true
	   },
	   "outputs": [],
"source": [
"//Example 15.31\n",
" //time domain specifications of second order system\n",
" clear;clc;\n",
" xdel(winsid());\n",
" mode(0);\n",
" \n",
" //converting the given differential equation in 's' domain\n",
" //since x and y are constants\n",
" //therefoere considering 'x=y=1' \n",
" \n",
"s=%s;\n",
"g=s^2+5*s+7; \n",
"x=coeff(g)\n",
"//comparing with the standard equation of second order system.\n",
"wn=sqrt(x(:,1)) //undamped natural frequency\n",
"zeta=(5/(2*wn)) //damping ratio\n",
"wd=wn*sqrt(1-zeta^2)//damped natural frequency\n",
"Tc=1/(zeta*wn)//Tc=time constant of the system"
   ]
   }
,
{
		   "cell_type": "markdown",
		   "metadata": {},
		   "source": [
			"## Example 15.33: Lipunovs_method.sce"
		   ]
		  },
  {
"cell_type": "code",
	   "execution_count": null,
	   "metadata": {
	    "collapsed": true
	   },
	   "outputs": [],
"source": [
"//Example 15.33\n",
"//Lipunov's method\n",
"clear;clc;\n",
"xdel(winsid());\n",
"\n",
"x1=poly(0,'x1');\n",
"x2=poly(0,'x2');\n",
"x11=poly(0,'x11');\n",
"x22=poly(0,'x22');\n",
"x2=x11\n",
"disp('x22+x2+x2^3+x1=0')\n",
"//(x1,x2) has singular point at (0,0)\n",
"disp('V=x1^2+x2^2')\n",
"//'V=x1^2+x2^2' is Liapunov's function \n",
"//V is positive for all values of x1 and x2, except at x1=x2=0\n",
"disp('dV/dt=2*x1*x2-2*x1*x2-2*x2^2-2*x2^4=-2*x2^2-2*x2^4')\n",
"disp('dV/dt will never be positive hence origin is stable')"
   ]
   }
,
{
		   "cell_type": "markdown",
		   "metadata": {},
		   "source": [
			"## Example 15.34: Find_bandwidth_of_the_transfer_function.sce"
		   ]
		  },
  {
"cell_type": "code",
	   "execution_count": null,
	   "metadata": {
	    "collapsed": true
	   },
	   "outputs": [],
"source": [
"//Example 15.34\n",
"//find bandwidth of the transfer function\n",
"clear;clc;\n",
"xdel(winsid());\n",
"\n",
"s=%s\n",
"A=1\n",
"B=(s+1)\n",
"tf=A/B\n",
"\n",
"disp('when A/B(jw)=1/sqrt(2), w=w1')\n",
"\n",
"w1=(1/0.707)^2-1\n",
"//w1=bandwidth of the transfer function\n",
"\n",
"disp('Hence the bandwidth is 1 rad/sec')"
   ]
   }
,
{
		   "cell_type": "markdown",
		   "metadata": {},
		   "source": [
			"## Example 15.36: Impulse_response_of_the_transfer_function.sce"
		   ]
		  },
  {
"cell_type": "code",
	   "execution_count": null,
	   "metadata": {
	    "collapsed": true
	   },
	   "outputs": [],
"source": [
"//Example 15.36\n",
"//impulse response transfer function\n",
"clear;clc;\n",
"xdel(winsid());\n",
"\n",
"s=%s;\n",
"G=syslin('c',25,s^2+4*s+25);\n",
"t=0:0.05:5;\n",
"y=csim('impuls',t,G);\n",
"plot(t,y)\n",
"xtitle('Impulse response 25/(s^2+4*s+25)','t sec','Response');"
   ]
   }
,
{
		   "cell_type": "markdown",
		   "metadata": {},
		   "source": [
			"## Example 15.37: step_response_of_the_transfer_function.sce"
		   ]
		  },
  {
"cell_type": "code",
	   "execution_count": null,
	   "metadata": {
	    "collapsed": true
	   },
	   "outputs": [],
"source": [
"//Example 15.37\n",
"//step response transfer function\n",
"clear;clc;\n",
"xdel(winsid());\n",
"\n",
"s=%s;\n",
"G=syslin('c',25,s^2+4*s+25);\n",
"t=0:0.05:5;\n",
"y=csim('step',t,G);\n",
"plot(t,y)\n",
"xtitle('step response 25/(s^2+4*s+25)','t sec','Response');"
   ]
   }
,
{
		   "cell_type": "markdown",
		   "metadata": {},
		   "source": [
			"## Example 15.38: Roots_of_characteristic_equatio.sce"
		   ]
		  },
  {
"cell_type": "code",
	   "execution_count": null,
	   "metadata": {
	    "collapsed": true
	   },
	   "outputs": [],
"source": [
"//Example 15.38\n",
"//find roots of characteristic equation\n",
"\n",
"clear;clc;\n",
"xdel(winsid());\n",
"s=poly(0,'s')\n",
"G=s^4+2*s^3+s^2-2*s-1\n",
"roots(G)"
   ]
   }
,
{
		   "cell_type": "markdown",
		   "metadata": {},
		   "source": [
			"## Example 15.39: Bode_plot.sce"
		   ]
		  },
  {
"cell_type": "code",
	   "execution_count": null,
	   "metadata": {
	    "collapsed": true
	   },
	   "outputs": [],
"source": [
"//Example:15.39\n",
"// Bode plot in scilab\n",
" clear; clc; \n",
"  xdel(winsid()); \n",
"\n",
"s=poly(0,'s');\n",
"G=syslin('c',(25),s^2+4*s+25);\n",
"clf();\n",
"bode(G,0.01,1000);\n",
"\n",
""
   ]
   }
,
{
		   "cell_type": "markdown",
		   "metadata": {},
		   "source": [
			"## Example 15.40: Nyquist_plot.sce"
		   ]
		  },
  {
"cell_type": "code",
	   "execution_count": null,
	   "metadata": {
	    "collapsed": true
	   },
	   "outputs": [],
"source": [
"//Example 15.40\n",
"//Nyquist plot\n",
"clear; clc; \n",
"xdel(winsid());\n",
"\n",
" s = %s/2/%pi; \n",
" num=(1);\n",
" den=(s^2+0.8*s+1);\n",
" G=syslin('c',num,den)\n",
" clf();\n",
" nyquist(G)\n",
" "
   ]
   }
,
{
		   "cell_type": "markdown",
		   "metadata": {},
		   "source": [
			"## Example 15.41: Nyquist_plot.sce"
		   ]
		  },
  {
"cell_type": "code",
	   "execution_count": null,
	   "metadata": {
	    "collapsed": true
	   },
	   "outputs": [],
"source": [
"//Example 15.41\n",
"//Nyquist plot\n",
"clear; clc; \n",
"xdel(winsid());\n",
"\n",
" s = %s/2/%pi; \n",
" num=(s+2);\n",
" den=(s+1)*(s+1);\n",
" G=syslin('c',num,den)\n",
" clf();\n",
" nyquist(G)\n",
" "
   ]
   }
,
{
		   "cell_type": "markdown",
		   "metadata": {},
		   "source": [
			"## Example 15.42: Bode_plot.sce"
		   ]
		  },
  {
"cell_type": "code",
	   "execution_count": null,
	   "metadata": {
	    "collapsed": true
	   },
	   "outputs": [],
"source": [
"//Example:15.42\n",
"// Bode plot in scilab\n",
" clear; clc; \n",
"  xdel(winsid()); \n",
"\n",
"s=poly(0,'s');\n",
"G=syslin('c',(64*(s+2)),(s*(s+0.5)*(s^2+3.2*s+64)));\n",
"clf();\n",
"bode(G,0.01,1000);\n",
""
   ]
   }
,
{
		   "cell_type": "markdown",
		   "metadata": {},
		   "source": [
			"## Example 15.43: Eigen_values_of_matrix.sce"
		   ]
		  },
  {
"cell_type": "code",
	   "execution_count": null,
	   "metadata": {
	    "collapsed": true
	   },
	   "outputs": [],
"source": [
"//Example:15.43\n",
"//eigen values of matrix A\n",
"clear;clc;\n",
"xdel(winsid());\n",
"\n",
"A=[0 6 -5;1 0 2;3 2 4];\n",
"spec(A)"
   ]
   }
,
{
		   "cell_type": "markdown",
		   "metadata": {},
		   "source": [
			"## Example 15.44: State_space_representation_of_LTI_system.sce"
		   ]
		  },
  {
"cell_type": "code",
	   "execution_count": null,
	   "metadata": {
	    "collapsed": true
	   },
	   "outputs": [],
"source": [
"//Example 15.44\n",
"//state space representation of LTI system\n",
"clear;clc;\n",
"xdel(winsid());\n",
"A=[0 1;-2 -3];\n",
"B=[0;1];\n",
"C=[1 1];\n",
"D=[0];\n",
"E=[0];\n",
"H=syslin('c',A,B,C);\n",
"s=%s;\n",
"g=eye(2,2);\n",
"P=(-s*g)-A\n",
"sm=[P B;C D];\n",
"H1=sm2ss(sm)"
   ]
   }
,
{
		   "cell_type": "markdown",
		   "metadata": {},
		   "source": [
			"## Example 15.45: Covariant_matrix_of_A.sce"
		   ]
		  },
  {
"cell_type": "code",
	   "execution_count": null,
	   "metadata": {
	    "collapsed": true
	   },
	   "outputs": [],
"source": [
"//Example 15.45\n",
"// Covariant matrix of 'A'\n",
"clear;clc;\n",
"xdel(winsid());\n",
"A=[1 0 0;0 2 0;0 0 3]\n",
"mvvacov(A)"
   ]
   }
,
{
		   "cell_type": "markdown",
		   "metadata": {},
		   "source": [
			"## Example 15.49: Root_locus_of_the_transfer_function.sce"
		   ]
		  },
  {
"cell_type": "code",
	   "execution_count": null,
	   "metadata": {
	    "collapsed": true
	   },
	   "outputs": [],
"source": [
"//Example 15.49\n",
"// Plotting root loci of the transfer function k/s*(s+4)*(s^2+4*s+20)\n",
"clear; clc; \n",
" xdel(winsid());\n",
"s=%s; \n",
"num=(1); \n",
"den=s*(s+3)*(s^2+2*s+2); \n",
"G=syslin('c',num/den); \n",
"clf; \n",
"evans(G); \n",
"mtlb_axis([-5 5 -5 5]);"
   ]
   }
,
{
		   "cell_type": "markdown",
		   "metadata": {},
		   "source": [
			"## Example 15.4: transfer_function_of_gyroscope.sce"
		   ]
		  },
  {
"cell_type": "code",
	   "execution_count": null,
	   "metadata": {
	    "collapsed": true
	   },
	   "outputs": [],
"source": [
"//Example 15.4\n",
"//Transfer function of Gyroscope\n",
"clear;clc;\n",
"xdel(winsid());\n",
"//in case of Gyroscope the equation is\n",
"\n",
"disp('(J*s^2+B*s+K)theta(s)=H*w(s)')\n",
"//therefore\n",
"disp('theta(s)/w(s)=H/J*s^2+B*s+K')"
   ]
   }
,
{
		   "cell_type": "markdown",
		   "metadata": {},
		   "source": [
			"## Example 15.50: Bode_plot.sce"
		   ]
		  },
  {
"cell_type": "code",
	   "execution_count": null,
	   "metadata": {
	    "collapsed": true
	   },
	   "outputs": [],
"source": [
"//Example:15.50\n",
"// Bode plot in scilab\n",
" clear; clc; \n",
"  xdel(winsid()); \n",
"\n",
"s=poly(0,'s');\n",
"G=syslin('c',(16*(s+2)),(s*(s+0.5)*(s^2+3.2*s+64)));\n",
"clf();\n",
"bode(G,0.01,1000);"
   ]
   }
,
{
		   "cell_type": "markdown",
		   "metadata": {},
		   "source": [
			"## Example 15.53: Statespace_model_of_the_differential_equation.sce"
		   ]
		  },
  {
"cell_type": "code",
	   "execution_count": null,
	   "metadata": {
	    "collapsed": true
	   },
	   "outputs": [],
"source": [
"//Example 15 53\n",
"//state space model of differential equation.\n",
"clear;clc;\n",
"xdel(winsid());\n",
"\n",
"// converting the differential equation in terms of transfer function.\n",
"s=%s\n",
"//transfer function\n",
"A=1/(s^3+6*s^2+11*s+6)\n",
"B=tf2ss(A)"
   ]
   }
,
{
		   "cell_type": "markdown",
		   "metadata": {},
		   "source": [
			"## Example 15.54: Nyquist_plot.sce"
		   ]
		  },
  {
"cell_type": "code",
	   "execution_count": null,
	   "metadata": {
	    "collapsed": true
	   },
	   "outputs": [],
"source": [
"//Example 15.54\n",
"//Nyquist plot\n",
"clear; clc; \n",
"xdel(winsid());\n",
"\n",
" s = %s/2/%pi; \n",
" num=(2);\n",
" den=s*(s^2+2*s+2);\n",
" G=syslin('c',num,den)\n",
" clf();\n",
" nyquist(G)\n",
" "
   ]
   }
,
{
		   "cell_type": "markdown",
		   "metadata": {},
		   "source": [
			"## Example 15.57: determination_of_zeta_and_wn.sce"
		   ]
		  },
  {
"cell_type": "code",
	   "execution_count": null,
	   "metadata": {
	    "collapsed": true
	   },
	   "outputs": [],
"source": [
"//Example 15.57\n",
"//determination of zeta & wn\n",
"clear;clc;\n",
"xdel(winsid());\n",
"\n",
"s=%s\n",
"num=10;\n",
"den=s^2+2*s+10;  //since k=0\n",
"G=num/den;\n",
"B=coeff(den)\n",
"//wn= undamped natural ftrquency\n",
"wn=sqrt(B(:,1))\n",
"// zeta= damping ratio\n",
"zeta=2/(2*sqrt(wn))\n",
"// when time t tends to infinity, static error viz.ess tends to 0.\n",
"ess=0\n",
"// when 'zeta=0.65' i.e.(zeta1=0.65)\n",
"zeta1=0.65\n",
"k0=2*zeta1*wn-2"
   ]
   }
,
{
		   "cell_type": "markdown",
		   "metadata": {},
		   "source": [
			"## Example 15.59: transfer_function_of_signal_flow_graph.sce"
		   ]
		  },
  {
"cell_type": "code",
	   "execution_count": null,
	   "metadata": {
	    "collapsed": true
	   },
	   "outputs": [],
"source": [
"//Example 15.59\n",
"// transfer function of signal flow graph\n",
"clear;clc;\n",
"xdel(winsid());\n",
"\n",
"k1=1;\n",
"k2=5;\n",
"k3=5;\n",
"s=%s;\n",
"// From the graph the transfer function is\n",
"T=(k3*k1)/(s^3+s^2+(k3*k1)+(k1*k2*s^2)+5)\n",
"// substitutins 's=0'in the equation of T\n",
"// and differentiating and simplifying the equation\n",
"// the following value of T will appear\n",
"T1=1/(1+k1)\n",
""
   ]
   }
,
{
		   "cell_type": "markdown",
		   "metadata": {},
		   "source": [
			"## Example 15.5: Transfer_function_of_system.sce"
		   ]
		  },
  {
"cell_type": "code",
	   "execution_count": null,
	   "metadata": {
	    "collapsed": true
	   },
	   "outputs": [],
"source": [
"//Example 15.5  (fig 15.4)\n",
"//transfer function of the system\n",
"clear;clc;\n",
"xdel(winsid());\n",
"mode(0);\n",
"\n",
"s=poly(0,'s');\n",
"//G1 and G2 are connected in series\n",
"G1=s^2/(s+4)^2\n",
"G2=(s+1)/(s^3*(s+3))\n",
"//H1 is feedback loop\n",
"H1=(s^2+s+1)/(s*(s+3))\n",
"// Tf=transfer function\n",
"Tf=(G1*G2*H1) \n",
"A=type(s);\n",
"disp(A,'Type of the system=')\n",
""
   ]
   }
,
{
		   "cell_type": "markdown",
		   "metadata": {},
		   "source": [
			"## Example 15.60: root_locus.sce"
		   ]
		  },
  {
"cell_type": "code",
	   "execution_count": null,
	   "metadata": {
	    "collapsed": true
	   },
	   "outputs": [],
"source": [
"//Example 15.60\n",
"//root locus\n",
"clear;clc;\n",
"xdel(winsid());\n",
"\n",
"s=%s;\n",
"//substituting 'a=15' in the numerator\n",
"num=2*(s+15);\n",
"den=s*(s+2)*(s+10);\n",
"G=syslin('c',num/den);\n",
"evans(G);\n",
"axes_handle.grid=[1 1]\n",
"mtlb_axis([-5 5 -5 5]);"
   ]
   }
,
{
		   "cell_type": "markdown",
		   "metadata": {},
		   "source": [
			"## Example 15.6: comparison_of_sensitivities_of_two_systems.sce"
		   ]
		  },
  {
"cell_type": "code",
	   "execution_count": null,
	   "metadata": {
	    "collapsed": true
	   },
	   "outputs": [],
"source": [
"//Example 15.6\n",
"//comparison of sensivity of the two system\n",
"clear;clc;\n",
"xdel(winsid());\n",
"//k1 andk2 are series blocks of the transfer function\n",
"k1=100\n",
"k2=100\n",
"//transfer function of fig.15.5\n",
"T1=k1*k2/(1+(0.0099*k1*k2))\n",
"//transfer function of fig.15.6\n",
"T2=(k1/(1+(0.09*k1)))*(k2/(1+(0.09*k2)))\n",
"disp('both transfer function are equal')\n",
"//sensitivity of the transfer function T1 with respect to k1\n",
"T11=1/(1+(0.0099*k1*k2))\n",
"//sensitivity of the transfer function T2 with respect to k1\n",
"T12=1/(1+(0.09*k1))\n",
"disp('The system of fig 15.6 is 10 times more sensitive than system of fig 15.5 with respect to variations in k1')"
   ]
   }
,
{
		   "cell_type": "markdown",
		   "metadata": {},
		   "source": [
			"## Example 15.7: To_find_bandwidth_of_the_transfer_function.sce"
		   ]
		  },
  {
"cell_type": "code",
	   "execution_count": null,
	   "metadata": {
	    "collapsed": true
	   },
	   "outputs": [],
"source": [
"//Example 15.7\n",
"//find bandwidth of the transfer function\n",
"clear;clc;\n",
"xdel(winsid());\n",
"\n",
"s=%s;\n",
"O=1;\n",
"R=(s+1);\n",
"tf=O/R\n",
"disp('when O/R(jw)=0.707, w=wc')\n",
"\n",
"wc=(1/0.707)^2-1\n",
"//wc=bandwidth of the transfer function\n",
"\n",
"disp('Hence the bandwidth is 1 rad/sec')"
   ]
   }
,
{
		   "cell_type": "markdown",
		   "metadata": {},
		   "source": [
			"## Example 15.8: Bandwidth_of_the_transfer_function.sce"
		   ]
		  },
  {
"cell_type": "code",
	   "execution_count": null,
	   "metadata": {
	    "collapsed": true
	   },
	   "outputs": [],
"source": [
"//Example 15.8\n",
"//find bandwidth of the transfer function\n",
"clear;clc;\n",
"xdel(winsid());\n",
"\n",
"s=%s;\n",
"O=6;\n",
"R=(s^2+2*s+6);\n",
"tf=O/R\n",
"\n",
"disp('when O/R(jw)=6/sqrt(w^4-8*w+36)')\n",
"\n",
"w=[+2 -2] //after differentiation and simplification\n",
"\n",
"disp('when O/R(jw)=6/sqrt(w^4-8*w+36), At w=+-2')\n",
"\n",
"peak=3/sqrt(5)\n",
"\n",
""
   ]
   }
,
{
		   "cell_type": "markdown",
		   "metadata": {},
		   "source": [
			"## Example 15.9: Nyquist_plot.sce"
		   ]
		  },
  {
"cell_type": "code",
	   "execution_count": null,
	   "metadata": {
	    "collapsed": true
	   },
	   "outputs": [],
"source": [
"//Example 15.9\n",
"//Nyquist plot\n",
"clear; clc; \n",
"xdel(winsid());\n",
"\n",
" s = %s/2/%pi; \n",
" num=(1);\n",
" den=s^3*(s+1);\n",
" G=syslin('c',num,den)\n",
" clf()\n",
" nyquist(G)\n",
" "
   ]
   }
],
"metadata": {
		  "kernelspec": {
		   "display_name": "Scilab",
		   "language": "scilab",
		   "name": "scilab"
		  },
		  "language_info": {
		   "file_extension": ".sce",
		   "help_links": [
			{
			 "text": "MetaKernel Magics",
			 "url": "https://github.com/calysto/metakernel/blob/master/metakernel/magics/README.md"
			}
		   ],
		   "mimetype": "text/x-octave",
		   "name": "scilab",
		   "version": "0.7.1"
		  }
		 },
		 "nbformat": 4,
		 "nbformat_minor": 0
}
