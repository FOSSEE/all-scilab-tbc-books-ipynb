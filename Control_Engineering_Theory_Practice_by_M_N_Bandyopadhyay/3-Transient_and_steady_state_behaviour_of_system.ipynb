{
"cells": [
 {
		   "cell_type": "markdown",
	   "metadata": {},
	   "source": [
       "# Chapter 3: Transient and steady state behaviour of system"
	   ]
	},
{
		   "cell_type": "markdown",
		   "metadata": {},
		   "source": [
			"## Example 3.1: Type_of_the_system.sce"
		   ]
		  },
  {
"cell_type": "code",
	   "execution_count": null,
	   "metadata": {
	    "collapsed": true
	   },
	   "outputs": [],
"source": [
" //Example 3.1\n",
" //type of the system\n",
"clear; clc; \n",
"xdel(winsid());\n",
"\n",
"// fig(3.14)\n",
"s=%s;\n",
"n1=(2);\n",
"d1=((s)*(s^2+2*s+2));\n",
"A=n1/d1\n",
"disp('since one integration is being observed, it is TYPE 1 system')\n",
"\n",
"//fig(3.15)\n",
"s=%s;\n",
"n2=(5);\n",
"d2=((s+2)*(s^2+2*s+3));\n",
"B=n2/d2\n",
"disp('since no integration is being observed, it is TYPE 0 system')\n",
"\n",
"//fig(3.16)\n",
"s=%s;\n",
"n3=(s+1);\n",
"d3=((s^2)*(s+2));\n",
"C=n3/d3\n",
"disp('since two integration is being observed, it is TYPE 2 system')"
   ]
   }
],
"metadata": {
		  "kernelspec": {
		   "display_name": "Scilab",
		   "language": "scilab",
		   "name": "scilab"
		  },
		  "language_info": {
		   "file_extension": ".sce",
		   "help_links": [
			{
			 "text": "MetaKernel Magics",
			 "url": "https://github.com/calysto/metakernel/blob/master/metakernel/magics/README.md"
			}
		   ],
		   "mimetype": "text/x-octave",
		   "name": "scilab",
		   "version": "0.7.1"
		  }
		 },
		 "nbformat": 4,
		 "nbformat_minor": 0
}
