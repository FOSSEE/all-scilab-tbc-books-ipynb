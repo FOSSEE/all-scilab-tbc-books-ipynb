{
"cells": [
 {
		   "cell_type": "markdown",
	   "metadata": {},
	   "source": [
       "# Chapter 7: Analysis of frequency response"
	   ]
	},
{
		   "cell_type": "markdown",
		   "metadata": {},
		   "source": [
			"## Example 7.3_1a: Bode_plot.sce"
		   ]
		  },
  {
"cell_type": "code",
	   "execution_count": null,
	   "metadata": {
	    "collapsed": true
	   },
	   "outputs": [],
"source": [
"//Example 7.3.1 a\n",
"// Bode plot in scilab\n",
" clear; clc; \n",
"xdel(winsid()); \n",
"\n",
"s=poly(0,'s');\n",
"H=syslin('c',(10*(1+s)),s^2*(1+.25*s+0.0625*s^2));\n",
"clf();\n",
"bode(H,0.1,1000)"
   ]
   }
,
{
		   "cell_type": "markdown",
		   "metadata": {},
		   "source": [
			"## Example 7.3_1b: Bode_plot.sce"
		   ]
		  },
  {
"cell_type": "code",
	   "execution_count": null,
	   "metadata": {
	    "collapsed": true
	   },
	   "outputs": [],
"source": [
"//Example:(i) 7.3.1 b\n",
"// Bode plot in scilab\n",
" clear; clc; \n",
"  xdel(winsid()); \n",
"\n",
"s=poly(0,'s');\n",
"G=syslin('c',(8*(1+0.5*s)),s*(1+2*s)*(1+0.05*s+0.0625*s^2));\n",
"clf();\n",
"bode(G,0.01,1000);\n",
"\n",
""
   ]
   }
],
"metadata": {
		  "kernelspec": {
		   "display_name": "Scilab",
		   "language": "scilab",
		   "name": "scilab"
		  },
		  "language_info": {
		   "file_extension": ".sce",
		   "help_links": [
			{
			 "text": "MetaKernel Magics",
			 "url": "https://github.com/calysto/metakernel/blob/master/metakernel/magics/README.md"
			}
		   ],
		   "mimetype": "text/x-octave",
		   "name": "scilab",
		   "version": "0.7.1"
		  }
		 },
		 "nbformat": 4,
		 "nbformat_minor": 0
}
