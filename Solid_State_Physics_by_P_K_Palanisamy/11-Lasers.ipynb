{
"cells": [
 {
		   "cell_type": "markdown",
	   "metadata": {},
	   "source": [
       "# Chapter 11: Lasers"
	   ]
	},
{
		   "cell_type": "markdown",
		   "metadata": {},
		   "source": [
			"## Example 11.1: Ratio_of_relative_populatio.sce"
		   ]
		  },
  {
"cell_type": "code",
	   "execution_count": null,
	   "metadata": {
	    "collapsed": true
	   },
	   "outputs": [],
"source": [
"// Scilab Code Ex11.1:  Page-11.5(2004)\n",
"clc;clear;\n",
"h = 6.626e-034;    // Planck's constant, Js\n",
"c = 3e+08;    // Speed of light in free space, m/s\n",
"k = 8.61e-5;    // Boltzmann constant, J/K\n",
"T = 300;    // Temperature at absolute scale, K\n",
"lambda = 6943e-10;    // Wavelength of visible light, m\n",
"E = h*c/(lambda*1.6e-19); //  Energy in eV\n",
"rate_ratio = exp(-E/(k*T));    // Ratio of spontaneous emission to stimulated emission\n",
"\n",
"printf('\nThe ratio of relative population = %3.2e', rate_ratio);\n",
"printf('\nEnergy = %3.2f eV', E);\n",
"\n",
"// Results\n",
"//  The ratio of relative population = 8.20e-31\n",
"// Energy = 1.79 eV "
   ]
   }
,
{
		   "cell_type": "markdown",
		   "metadata": {},
		   "source": [
			"## Example 11.2: Energy_of_excited_state_of_laser_system.sce"
		   ]
		  },
  {
"cell_type": "code",
	   "execution_count": null,
	   "metadata": {
	    "collapsed": true
	   },
	   "outputs": [],
"source": [
"// Scilab Code Ex11.2:  Page-11.16 (2004)\n",
"clc;clear;\n",
"a1 = 4; //  diameter of laser beam for distance first, m\n",
"a2 = 6; //  diameter of laser beam from second distance\n",
"d1 = 1; //  First distance from laser to output beam spot, m\n",
"d2 = 2; //  Second distance from laser to output beam spot, m\n",
"Div = (a2-a1)/(2*(d2-d1));\n",
"printf('\nDivergence in radian = %d milliradian', Div);\n",
"\n",
"// Result\n",
"// Divergence in radian = 1 milliradian "
   ]
   }
],
"metadata": {
		  "kernelspec": {
		   "display_name": "Scilab",
		   "language": "scilab",
		   "name": "scilab"
		  },
		  "language_info": {
		   "file_extension": ".sce",
		   "help_links": [
			{
			 "text": "MetaKernel Magics",
			 "url": "https://github.com/calysto/metakernel/blob/master/metakernel/magics/README.md"
			}
		   ],
		   "mimetype": "text/x-octave",
		   "name": "scilab",
		   "version": "0.7.1"
		  }
		 },
		 "nbformat": 4,
		 "nbformat_minor": 0
}
