{
"cells": [
 {
		   "cell_type": "markdown",
	   "metadata": {},
	   "source": [
       "# Chapter 4: Line Defects and Crystal Structure Determination"
	   ]
	},
{
		   "cell_type": "markdown",
		   "metadata": {},
		   "source": [
			"## Example 4.1: Wavelength_of_X_ray_and_order_of_diffraction.sce"
		   ]
		  },
  {
"cell_type": "code",
	   "execution_count": null,
	   "metadata": {
	    "collapsed": true
	   },
	   "outputs": [],
"source": [
"// Scilab Code Ex4.1 : Page-4.13 (2004)\n",
"clc;clear;\n",
"function thet = degree_minute (d, m)\n",
"    thet = d + m/60; \n",
"endfunction\n",
"deg = 8, minutes = 35;   // Given glancing angle, degrees-minutes\n",
"theta = degree_minute (deg, minutes);    // Convert degree-minutes to degrees\n",
"d = 0.282;    // lattice spacing for NaCl crystal, nm\n",
"n = 1;       // Order of diffraction\n",
"lambda = 2*d*sind(theta)/n;   // Wavelength from Bragg's law, nm\n",
"printf('\nWavelength of X rays = %6.4f nm ', lambda);\n",
"theta = 90; // maximum possible value for theta for maximum order of diffraction\n",
"n = 2*d*sind(theta)/lambda;  // order of diffraction from Bragg's law\n",
"printf('\nMaximum possible order of diffraction = %1d', n);\n",
"\n",
"// Result \n",
"// Wavelength of X rays = 0.0842 nm \n",
"// Maximum possible order of diffraction = 6 "
   ]
   }
,
{
		   "cell_type": "markdown",
		   "metadata": {},
		   "source": [
			"## Example 4.2: Ratio_of_interplanar_spacing_in_simple_cube.sce"
		   ]
		  },
  {
"cell_type": "code",
	   "execution_count": null,
	   "metadata": {
	    "collapsed": true
	   },
	   "outputs": [],
"source": [
"// Scilab Code Ex4.2 : Page-4.13 (2004)\n",
"clc;clear;\n",
"a = 1;  // For simplicity we assume a to be unity, unit\n",
"h1 = 1, k1 = 0, l1 = 0;    // Indices of first set of parallel planes\n",
"d_100 = a/sqrt(h1^2 + k1^2 + l1^2);    // Interplanar spacing for (100) planes, unit\n",
"h2 = 1, k2 = 1, l2 = 0;    // Indices of second set of parallel planes\n",
"d_110 = a/sqrt(h2^2 + k2^2 + l2^2);    // Interplanar spacing for (110) planes, unit\n",
"h3 = 1, k3 = 1, l3 = 1;    // Indices of third set of parallel planes\n",
"d_111 = a/sqrt(h3^2 + k3^2 + l3^2);    // Interplanar spacing for (111) planes, unit\n",
"printf('\nd_100 : d_110 : d_111 = %1d : %4.2f : %4.2f', d_100, d_110, d_111);\n",
"\n",
"// Result \n",
"// d_100 : d_110 : d_111 = 1 : 0.71 : 0.58 "
   ]
   }
,
{
		   "cell_type": "markdown",
		   "metadata": {},
		   "source": [
			"## Example 4.3: Wavelength_of_X_ray_from_Bragg_Law.sce"
		   ]
		  },
  {
"cell_type": "code",
	   "execution_count": null,
	   "metadata": {
	    "collapsed": true
	   },
	   "outputs": [],
"source": [
"// Scilab Code Ex4.3 : Page-4.14 (2004)\n",
"clc;clear;\n",
"function thet = degree_minute (d, m)\n",
"    thet = d + m/60; \n",
"endfunction\n",
"\n",
"degr = 8, minutes = 35;   // Given glancing angle, degrees-minutes\n",
"theta = degree_minute (degr, minutes);    // Convert degree-minutes to degrees\n",
"d = 0.282;    // lattice spacing for NaCl crystal, nm\n",
"n = 1;       // Order of diffraction\n",
"lambda = 2*d*sind(theta)/n;   // Wavelength from Bragg's law, nm\n",
"\n",
"printf('\nWavelength of X rays = %6.4f nm ', lambda);\n",
"\n",
"// Result \n",
"// Wavelength of X rays = 0.0842 nm \n",
""
   ]
   }
,
{
		   "cell_type": "markdown",
		   "metadata": {},
		   "source": [
			"## Example 4.4: Interatomic_spacing.sce"
		   ]
		  },
  {
"cell_type": "code",
	   "execution_count": null,
	   "metadata": {
	    "collapsed": true
	   },
	   "outputs": [],
"source": [
"// Scilab Code Ex4.4 : Page-4.14 (2004)\n",
"clc;clear;\n",
"theta = 30; // bragg's angle, degree\n",
"lambda = 1.5418e-10;    // X-ray wavelength, m\n",
"n = 1;       // Order of diffraction\n",
"d = (n*lambda)/(2*sind(theta));   // Wavelength from Bragg's law, nm\n",
"h = 1, k = 1, l = 1;  // plane\n",
"a = d*(h^2+k^2+l^2)^(1/2); // interatomic spacing, angstrom\n",
"printf('\nWavelength of X rays = %6.4e m ', d);\n",
"printf('\nInteratomic spacing = %5.3f angstrom', a/1e-10);\n",
"\n",
"// Result \n",
"// Wavelength of X rays = 1.5418e-10 m \n",
"//  Interatomic spacing = 2.670 angstrom "
   ]
   }
,
{
		   "cell_type": "markdown",
		   "metadata": {},
		   "source": [
			"## Example 4.5: Glancing_angle_for_second_order_diffraction.sce"
		   ]
		  },
  {
"cell_type": "code",
	   "execution_count": null,
	   "metadata": {
	    "collapsed": true
	   },
	   "outputs": [],
"source": [
"// Scilab Code Ex4.5 : Page-4.14 (2004)\n",
"clc;clear;\n",
"lambda = 0.071;    // X-ray wavelength, nm\n",
"n = 2;       // Second order of diffraction\n",
"d_100 = 0.28;   // Interplanar spacing for (100) plane, nm\n",
"d_110 = d_100/sqrt(2);  // Interplanar spacing for (110) plane, nm\n",
"x = n*lambda/(2*d_110);   // sine of angle , degree\n",
"theta = asind(x);   // Glancing angle for second order diffraction  \n",
"\n",
"printf('\nGlancing angle for second order diffraction  = %d degree ', round(theta));\n",
"\n",
"// Result \n",
"// Glancing angle for second order diffraction  = 21 degree  "
   ]
   }
,
{
		   "cell_type": "markdown",
		   "metadata": {},
		   "source": [
			"## Example 4.6: Distance_between_two_adjacent_atoms_in_NaCl.sce"
		   ]
		  },
  {
"cell_type": "code",
	   "execution_count": null,
	   "metadata": {
	    "collapsed": true
	   },
	   "outputs": [],
"source": [
"// Scilab Code Ex4.6 : Page-4.15 (2004)\n",
"clc;clear;\n",
"n = 4;       // Second order of diffraction\n",
"M = 58.5;   // Molecular weight of crystal\n",
"d = 2180;  // Density of crystal, kg per cm cube\n",
"N = 6.02e+26;   // Avogadro number , k / mol\n",
"a = ((n*M)/(d*N))^(1/3);    // Distance between two adjacent atoms of same kind, nm\n",
"b = a/2;    // Distance between two adjacent atoms of different kind, nm\n",
"printf('\nDistance between two adjacent atoms of same kind = %5.3f nm ', a/1e-9);\n",
"printf('\nDistance between two adjacent atoms of different kind  = %5.3f nm ', b/1e-9);\n",
"// Result \n",
"\n",
"//  Distance between two adjacent atoms of same kind = 0.563 nm \n",
"//  Distance between two adjacent atoms of different kind  = 0.281 nm  "
   ]
   }
,
{
		   "cell_type": "markdown",
		   "metadata": {},
		   "source": [
			"## Example 4.7: Distance_between_110_plane.sce"
		   ]
		  },
  {
"cell_type": "code",
	   "execution_count": null,
	   "metadata": {
	    "collapsed": true
	   },
	   "outputs": [],
"source": [
"// Scilab Code Ex4.7  Page-4.16 (2004)\n",
"clc;clear;\n",
"a = 0.38;    // Lattice constant of copper, nm\n",
"h =1, k = 1, l = 0; // Miller Indices (hkl)= (110)\n",
"d = a/sqrt(h^2 + k^2 + l^2);    // Interplanar spacing for (110) plane, unit\n",
"printf('\nInterplanar spacing for (110) plane = %4.2f nm', d);\n",
"\n",
"// Result \n",
"// Interplanar spacing for (110) plane = 0.27 nm "
   ]
   }
,
{
		   "cell_type": "markdown",
		   "metadata": {},
		   "source": [
			"## Example 4.8: Density_of_Iron.sce"
		   ]
		  },
  {
"cell_type": "code",
	   "execution_count": null,
	   "metadata": {
	    "collapsed": true
	   },
	   "outputs": [],
"source": [
"// Scilab Code Ex4.8 : Page-4.16 (2004)\n",
"clc;clear;\n",
"r = 0.123e-9;   // Atomic radius of iron, m\n",
"n = 4;       // Second order of diffraction\n",
"M = 55.8;   // Molecular weight of crystal\n",
"a = 2*r*sqrt(2);  // lattice constant, m\n",
"N = 6.023e+26;   // Avogadro number , k / mol\n",
"d = n*M/(N*a^3);    // Density of iron, kg /m-cube\n",
"printf('\nDensity of iron = %5.4d kg/metrecube ', d);\n",
"\n",
"// Result \n",
"// Density of iron =  8800 kg/metrecube  "
   ]
   }
],
"metadata": {
		  "kernelspec": {
		   "display_name": "Scilab",
		   "language": "scilab",
		   "name": "scilab"
		  },
		  "language_info": {
		   "file_extension": ".sce",
		   "help_links": [
			{
			 "text": "MetaKernel Magics",
			 "url": "https://github.com/calysto/metakernel/blob/master/metakernel/magics/README.md"
			}
		   ],
		   "mimetype": "text/x-octave",
		   "name": "scilab",
		   "version": "0.7.1"
		  }
		 },
		 "nbformat": 4,
		 "nbformat_minor": 0
}
