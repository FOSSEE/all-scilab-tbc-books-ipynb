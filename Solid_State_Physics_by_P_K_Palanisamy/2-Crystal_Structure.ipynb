{
"cells": [
 {
		   "cell_type": "markdown",
	   "metadata": {},
	   "source": [
       "# Chapter 2: Crystal Structure"
	   ]
	},
{
		   "cell_type": "markdown",
		   "metadata": {},
		   "source": [
			"## Example 2.1: Maximum_radius_of_interstitial_sphere_in_BCC.sce"
		   ]
		  },
  {
"cell_type": "code",
	   "execution_count": null,
	   "metadata": {
	    "collapsed": true
	   },
	   "outputs": [],
"source": [
"// Scilab Code Ex2.1 Page-2.21 (2004)\n",
"clc;clear;\n",
"r = 1;  // For simplicity assume radius of atom to be unity, unit\n",
"a = 4*r/sqrt(3);  // Lattice constant, unit\n",
"R = (a-2*r)/2;      // R be the radius of interstitial sphere that can fit into void, unit\n",
"\n",
"printf ('\nRadius of interstitial sphere that can fit into void R = %5.3fr', R);\n",
"\n",
"//  Result\n",
"//  Radius of interstitial sphere that can fit into void R = 0.155r  "
   ]
   }
,
{
		   "cell_type": "markdown",
		   "metadata": {},
		   "source": [
			"## Example 2.2: Volume_Phase_change_BCC_to_FCC.sce"
		   ]
		  },
  {
"cell_type": "code",
	   "execution_count": null,
	   "metadata": {
	    "collapsed": true
	   },
	   "outputs": [],
"source": [
"// Scilab Code Ex2.2 : Page-2.22 (2004)\n",
"clc;clear;\n",
"r1 = 1.258e-10; // Radius of atom for BCC, m\n",
"a = 4*r1/(3^(0.5));  // Lattice constant for BCC atom, m\n",
"V_bcc = a^3; //  Volume of unit cell of BCC , in m^3\n",
"V_one = V_bcc/2; // Volume occupied by one atom in BCC, in m^3\n",
"r2 =    1.292e-10;  //  Radius of atom for FCC, m\n",
"b = 2*(sqrt(2))*r2    //  Lattice constant for FCC atom\n",
"V_fcc = b^3; //  Volume of unit cell of FCC , in m^3\n",
"V_two = V_bcc/4; //  Volume occupied by one atom in FCC, in m^3\n",
"DV = (V_one-V_two)/V_one; // Change in volume , percentage\n",
"\n",
"printf('\nChange in volume DV =%3.1f percentage.', DV);\n",
"\n",
"// Result \n",
"// Change in volume DV =0.5 percentage. "
   ]
   }
,
{
		   "cell_type": "markdown",
		   "metadata": {},
		   "source": [
			"## Example 2.3: Calculation_of_volume_and_density_of_Zinc.sce"
		   ]
		  },
  {
"cell_type": "code",
	   "execution_count": null,
	   "metadata": {
	    "collapsed": true
	   },
	   "outputs": [],
"source": [
"// Scilab Code Ex2.3 :  Page-2.23 (2004)\n",
"clc;clear;\n",
"a = 0.27e-9; // Nearest neighbour distance, m\n",
"c = 0.494e-9;   // Height of unit cell, m\n",
"V = 3*(sqrt(3))*(a^2)*c/2; //  Volume of unit cell of HCP , in metre cube\n",
"N = 6.023e+26; // Avodagro number , per k-mol \n",
"M = 65.37;  //  Atomic weight of zinc, \n",
"rho = 6*M/(V*N);    //  Density of zinc, kg per metre cube\n",
"printf('\nVolume  = %4.3e metre cube', V);\n",
"printf('\nDensity of zinc = %d kg per metre cube', rho);\n",
"\n",
"// Result \n",
"//  Volume  = 9.356e-29 metre cube\n",
"//  Density of zinc = 6960 kg per metre cube"
   ]
   }
,
{
		   "cell_type": "markdown",
		   "metadata": {},
		   "source": [
			"## Example 2.4: Maximum_radius_of_interstitial_sphere_in_FCC.sce"
		   ]
		  },
  {
"cell_type": "code",
	   "execution_count": null,
	   "metadata": {
	    "collapsed": true
	   },
	   "outputs": [],
"source": [
"// Scilab Code Ex2.4 : Page-2.23 (2004)\n",
"clc;clear;\n",
"r = 1;  // For simplicity assume radius of atom to be unity, unit\n",
"a = 4*r/sqrt(2);  // Lattice constant, unit\n",
"R = (a/2)-r;      // R be the radius of interstitial sphere that can fit into void, unit\n",
"\n",
"printf ('\nMaximum Radius of interstitial sphere that can fit into FCC = %5.3fr', R);\n",
"\n",
"//  Result\n",
"//  Maximum Radius of interstitial sphere that can fit into FCC = 0.414r "
   ]
   }
,
{
		   "cell_type": "markdown",
		   "metadata": {},
		   "source": [
			"## Example 2.5: Density_of_diamond.sce"
		   ]
		  },
  {
"cell_type": "code",
	   "execution_count": null,
	   "metadata": {
	    "collapsed": true
	   },
	   "outputs": [],
"source": [
"// Scilab Code Ex2.5 : Page-2.24 (2004)\n",
"clc;clear;\n",
"a = 0.356e-9;   // Cube edge of diamond, m\n",
"n = 8/a^3;    // Number of atoms per unit volume, per metre cube\n",
"M = 12.01;  // Atomic weight of Carbon, g per mol\n",
"N = 6.023e+26;  //  Avagadro number, per kmol\n",
"m = M/N;    // Mass of one carbon atom, kg\n",
"rho = m*n;   // Density of diamond, kg per metre cube\n",
"printf('\nDensity of diamond = %4.0f kg per metre cube', round(rho));\n",
"\n",
"// Result \n",
"// Density of diamond = 3536 kg per metre cube "
   ]
   }
,
{
		   "cell_type": "markdown",
		   "metadata": {},
		   "source": [
			"## Example 2.6: Distance_between_two_adjacent_atoms_in_NaCl.sce"
		   ]
		  },
  {
"cell_type": "code",
	   "execution_count": null,
	   "metadata": {
	    "collapsed": true
	   },
	   "outputs": [],
"source": [
"// Scilab Code Ex2.6 : Page-2.25 (2004)\n",
"clc;clear;\n",
"M = 58.5;  // Molecular weight of Carbon, g per mol\n",
"N = 6.023e+23;  //  Avagadro number, per mol\n",
"m = M/N;    // Mass of one NaCl molecule, g\n",
"n = 2.18/m;   // Number of NaCl molecules per unit volume, molecules per cm cube\n",
"n1 = 2*n;   // Since NaCl is a diatomic, number of atoms per unit volume is twice\n",
"a = 1/n1^(1/3); // Distance between two adjacent atoms in NaCl, angstrom\n",
"\n",
"printf('\nDistance between two adjacent atoms in NaCl = %4.2f angstrom', a/1e-8);\n",
"\n",
"// Result \n",
"//  Distance between two adjacent atoms in NaCl = 2.81 angstrom "
   ]
   }
,
{
		   "cell_type": "markdown",
		   "metadata": {},
		   "source": [
			"## Example 2.7: Density_of_copper_crystal.sce"
		   ]
		  },
  {
"cell_type": "code",
	   "execution_count": null,
	   "metadata": {
	    "collapsed": true
	   },
	   "outputs": [],
"source": [
"// Scilab Code Ex2.7: Page-2.25 (2004)\n",
"clc;clear;\n",
"M = 63.5;  // Atomic weight of Copper, g per mol\n",
"N = 6.023e+23;  //  Avagadro number, per mol\n",
"r = 1.278e-8;   // Atomic radius of copper, cm\n",
"m = M/N;    // Mass of one Cu atom, kg\n",
"a = (4*r)/sqrt(2); // Distance between two adjacent atom in Cu, angstrom\n",
"n1 = 4*m;   // Since number of atom per unit cell is 4\n",
"d = n1/a^3;   // Density of copper, kg per metre cube\n",
"\n",
"printf('\nDensity of copper = %4.2f g per cm cube', d);\n",
"\n",
"// Result \n",
"//  Density of copper = 8.93 g per cm cube "
   ]
   }
],
"metadata": {
		  "kernelspec": {
		   "display_name": "Scilab",
		   "language": "scilab",
		   "name": "scilab"
		  },
		  "language_info": {
		   "file_extension": ".sce",
		   "help_links": [
			{
			 "text": "MetaKernel Magics",
			 "url": "https://github.com/calysto/metakernel/blob/master/metakernel/magics/README.md"
			}
		   ],
		   "mimetype": "text/x-octave",
		   "name": "scilab",
		   "version": "0.7.1"
		  }
		 },
		 "nbformat": 4,
		 "nbformat_minor": 0
}
