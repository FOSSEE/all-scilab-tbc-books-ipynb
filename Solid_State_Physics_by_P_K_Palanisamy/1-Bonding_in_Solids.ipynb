{
"cells": [
 {
		   "cell_type": "markdown",
	   "metadata": {},
	   "source": [
       "# Chapter 1: Bonding in Solids"
	   ]
	},
{
		   "cell_type": "markdown",
		   "metadata": {},
		   "source": [
			"## Example 1.1: Stability_of_gaseous_molecules.sce"
		   ]
		  },
  {
"cell_type": "code",
	   "execution_count": null,
	   "metadata": {
	    "collapsed": true
	   },
	   "outputs": [],
"source": [
"// Scilab Code Ex1.1 : Page-1.8 (2004)\n",
"clc;clear;\n",
"N = 6.022e+23;      //  Avogadro Number; /mol\n",
"E_A = 502;          // First ionization energy of A atom, kJ/mol\n",
"E_B = -335;       // Electron affinity for B atom, kJ\n",
"r = 3e-10;        // Velocity of the particle at the mean position, angstrom\n",
"E_o = 8.85e-12; //Permittivity of free space, C/N^2-m^2\n",
"e = 1.6e-19;    // Electronic charge, C\n",
"E_C = N*(-e^2)/(4*%pi*E_o*r)*1e-03;   // The coulombic electrostatic attaction energy, kJ/mol\n",
"E = E_A + E_B + E_C;    // Net change in energy per mol, kJ/mol  \n",
"printf('\nNet change in energy per mol = %3d kJ/mol', E);\n",
"disp('Since net change in energy is negative, the molecule A+B- is stable.');\n",
"\n",
"// Result\n",
"// Net change in energy per mol = -295 kJ/mol \n",
"// Since net change in energy is negative, the molecule A+B- is stable.   \n",
" \n",
""
   ]
   }
,
{
		   "cell_type": "markdown",
		   "metadata": {},
		   "source": [
			"## Example 1.2: Energy_and_separation_in_KCl_ion_pair.sce"
		   ]
		  },
  {
"cell_type": "code",
	   "execution_count": null,
	   "metadata": {
	    "collapsed": true
	   },
	   "outputs": [],
"source": [
"// Scilab Code Ex1.2 : Page-1.8 (2004)\n",
"clc;clear;\n",
"A = 4.1;    // Ionization energy of K, eV\n",
"B = 3.6;    // Electron affinity of Cl, eV\n",
"C = A - B;    // Net energy to produce the ion pair, eV\n",
"E = C;     // Coulomb energy, eV\n",
"e = 1.6e-19;    // Electronic charge, C\n",
"E_o = 8.85e-12; //Permittivity of free space, C/N^2-m^2\n",
"R = e/(4*%pi*E_o*C);   //  R is the separation between K and Cl , nm\n",
"printf('\nThe coulomb energy E = %3.1f eV', E);\n",
"printf('\nSeparation between K and Cl, R = %4.2f nm', R/1e-09);\n",
"\n",
"// Result \n",
"//  The coulomb energy E = 0.5 eV\n",
"// Separation between K and Cl, R = 2.88 nm "
   ]
   }
,
{
		   "cell_type": "markdown",
		   "metadata": {},
		   "source": [
			"## Example 1.3: Bond_energy_of_NaCl_molecule.sce"
		   ]
		  },
  {
"cell_type": "code",
	   "execution_count": null,
	   "metadata": {
	    "collapsed": true
	   },
	   "outputs": [],
"source": [
"// Scilab Code Ex1.3 : Bond energy of NaCl molecule  Page-1.9 (2004)\n",
"clc;clear;\n",
"A = 5.14;    // Ionization energy of Na, eV\n",
"B = 3.65;    // Electron affinity of Cl, eV\n",
"r0 = 236e-12;  // Inter ionic equilibrium distance, m\n",
"e = 1.6e-19;    // Electronic charge, C\n",
"E_o = 8.85e-12; //Permittivity of free space, C/N^2-m^2\n",
"Ue = -e/(4*%pi*E_o*r0);    // Potential energy to produce the ion pair, eV\n",
"BE = -Ue-A+B\n",
"printf('\nThe potential energy Ue = %2.1f eV',Ue);\n",
"printf('\nThe Binding energy BE = %4.2f eV',BE);\n",
"\n",
"// Result \n",
"//  The potential energy Ue = -6.1 eV\n",
"//  The Binding energy BE = 4.61 eV "
   ]
   }
],
"metadata": {
		  "kernelspec": {
		   "display_name": "Scilab",
		   "language": "scilab",
		   "name": "scilab"
		  },
		  "language_info": {
		   "file_extension": ".sce",
		   "help_links": [
			{
			 "text": "MetaKernel Magics",
			 "url": "https://github.com/calysto/metakernel/blob/master/metakernel/magics/README.md"
			}
		   ],
		   "mimetype": "text/x-octave",
		   "name": "scilab",
		   "version": "0.7.1"
		  }
		 },
		 "nbformat": 4,
		 "nbformat_minor": 0
}
