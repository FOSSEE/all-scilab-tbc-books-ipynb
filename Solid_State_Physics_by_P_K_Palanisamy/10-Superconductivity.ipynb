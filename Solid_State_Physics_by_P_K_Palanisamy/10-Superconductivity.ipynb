{
"cells": [
 {
		   "cell_type": "markdown",
	   "metadata": {},
	   "source": [
       "# Chapter 10: Superconductivity"
	   ]
	},
{
		   "cell_type": "markdown",
		   "metadata": {},
		   "source": [
			"## Example 10.1: Critical_field.sce"
		   ]
		  },
  {
"cell_type": "code",
	   "execution_count": null,
	   "metadata": {
	    "collapsed": true
	   },
	   "outputs": [],
"source": [
"// Scilab Code Ex10.1: Page-10.3 (2004)\n",
"clc;clear;\n",
"Tc = 3.7;   // Critical temperature, K\n",
"Ho = 0.0306;    //  Critical field at zero kelvin, tesla\n",
"T = 2;  // temperature at which filed being calculated, K\n",
"Hc = Ho*[1-(T/Tc)^2]; //    Critical Magnetic field, tesla\n",
"printf('\nThe Critical field at two kelvin = %f tesla' , Hc);\n",
"\n",
"// Result\n",
"// The Critical field at two kelvin = 0.021659 tesla "
   ]
   }
,
{
		   "cell_type": "markdown",
		   "metadata": {},
		   "source": [
			"## Example 10.2: Critical_current_and_Critical_field.sce"
		   ]
		  },
  {
"cell_type": "code",
	   "execution_count": null,
	   "metadata": {
	    "collapsed": true
	   },
	   "outputs": [],
"source": [
"// Scilab Code Ex10.2: Page-10.5 (2004)\n",
"clc;clear;\n",
"Tc = 7.18;   // Critical temperature, K\n",
"r = 1e-003; // diameter of wire, m\n",
"Ho = 6.5e+004;    //  Critical field at zero kelvin, A/m\n",
"T = 4.2;  // temperature at which filed being calculated, K\n",
"Hc = Ho*[1-(T/Tc)^2];\n",
"ic = %pi*r*Hc;    //  critical current , A\n",
"printf('\nThe Critical field  = %e A/m' , Hc);\n",
"printf('\nThe Critical current = %f A' , ic);\n",
"\n",
"// Result\n",
"// The Critical field  = 4.275855e+04 A/m\n",
"//  The Critical current = 134.329954 A "
   ]
   }
],
"metadata": {
		  "kernelspec": {
		   "display_name": "Scilab",
		   "language": "scilab",
		   "name": "scilab"
		  },
		  "language_info": {
		   "file_extension": ".sce",
		   "help_links": [
			{
			 "text": "MetaKernel Magics",
			 "url": "https://github.com/calysto/metakernel/blob/master/metakernel/magics/README.md"
			}
		   ],
		   "mimetype": "text/x-octave",
		   "name": "scilab",
		   "version": "0.7.1"
		  }
		 },
		 "nbformat": 4,
		 "nbformat_minor": 0
}
