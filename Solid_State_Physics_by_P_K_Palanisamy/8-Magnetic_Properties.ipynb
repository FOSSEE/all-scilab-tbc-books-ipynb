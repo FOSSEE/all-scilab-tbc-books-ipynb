{
"cells": [
 {
		   "cell_type": "markdown",
	   "metadata": {},
	   "source": [
       "# Chapter 8: Magnetic Properties"
	   ]
	},
{
		   "cell_type": "markdown",
		   "metadata": {},
		   "source": [
			"## Example 8.1: Relative_permeability.sce"
		   ]
		  },
  {
"cell_type": "code",
	   "execution_count": null,
	   "metadata": {
	    "collapsed": true
	   },
	   "outputs": [],
"source": [
"// Scilab Code Ex8.1:  Page-8.33 (2004)\n",
"clc;clear;\n",
"M = 3300;    // Magnetization of ferromagnetic material, amp/metre\n",
"H = 220;    // Magnetic field strength, amp/metre\n",
"mu_r = M/H+1;    // Relative permeability, unitless\n",
"printf('\nRelative permeability = %d', mu_r);\n",
"\n",
"// Result\n",
"// Relative permeability = 16 "
   ]
   }
,
{
		   "cell_type": "markdown",
		   "metadata": {},
		   "source": [
			"## Example 8.2: Magnetization_and_flux_density_of_ferromagnetic_material.sce"
		   ]
		  },
  {
"cell_type": "code",
	   "execution_count": null,
	   "metadata": {
	    "collapsed": true
	   },
	   "outputs": [],
"source": [
"// Scilab Code Ex8.2: Page-8.33 (2004)\n",
"clc;clear;\n",
"H = 10^6;    // Magnetic field strength, amp/metre\n",
"ki = 1.5e-3;    //  Magnetic  susceptibility, units\n",
"M = ki*H;    // Magnetization of ferromagnetic material, amp/metre\n",
"muo = 4*%pi*1e-7;   //  Magnetic permeability, henry/metre\n",
"B = muo*(M+H);  //  Flux density,tesla\n",
"printf('\nMagnetization of ferromagnetic material, = %3.1e amp/metre', M);\n",
"printf('\nFlux density of ferromagnetic material, = %5.3f tesla', B);\n",
"\n",
"// Result\n",
"\n",
"//  Magnetization of ferromagnetic material, = 1.5e+03 amp/metre\n",
"//  Flux density of ferromagnetic material, = 1.259 tesla "
   ]
   }
,
{
		   "cell_type": "markdown",
		   "metadata": {},
		   "source": [
			"## Example 8.3: Magnetization_and_flux_density.sce"
		   ]
		  },
  {
"cell_type": "code",
	   "execution_count": null,
	   "metadata": {
	    "collapsed": true
	   },
	   "outputs": [],
"source": [
"// Scilab Code Ex8.3 :  Page-8.34 (2004)\n",
"clc;clear;\n",
"H = 10^4;    // Magnetic field strength, amp/metre\n",
"ki = 3.7e-3;    //  Magnetic susceptibility, units \n",
"M = ki*H;    // Magnetization of ferromagnetic material, amp/metre\n",
"muo = 4*%pi*1e-7;   //  Magnetic perbeability, henry/metre\n",
"B = muo*(M+H);  //  Flux density, weber/square meter\n",
"printf('\nMagnetization of ferromagnetic material, = %d amp/metre', M);\n",
"printf('\nFlux density of ferromagnetic material, = %3.4f weber/squaremetre ', B);\n",
"\n",
"// Result\n",
"\n",
"//  Magnetization of ferromagnetic material, = 37 amp/metre\n",
"//  Flux density of ferromagnetic material, = 0.0126 weber/squaremetre"
   ]
   }
,
{
		   "cell_type": "markdown",
		   "metadata": {},
		   "source": [
			"## Example 8.4: Magnetic_moment.sce"
		   ]
		  },
  {
"cell_type": "code",
	   "execution_count": null,
	   "metadata": {
	    "collapsed": true
	   },
	   "outputs": [],
"source": [
"// Scilab Code Ex8.4: Page-8.34 (2004)\n",
"clc;clear;\n",
"d = 8906;   //  Density of nickel, kg metrecube\n",
"An = 6.025e+26; //  Avogadro number, per kmol\n",
"W = 58.7;   // Atomic weight, kg\n",
"N = d*An/W; //  Number of nickel atom, per cubemetre\n",
"Bs = 0.65;  // Saturation magnetic, weber per squaremetre\n",
"muo = (4*%pi*1e-7);   //  Magnetic perbeability, henry/metre\n",
"mum = Bs/(N*muo);  // Magnetic moment, ampere per sqauremetre\n",
"X = mum/(9.27e-24); // magnetic moment, bohr magneton\n",
"\n",
"printf('\nNumber of nickel atom per cubemetre = %3.3e /cubemetre', N);\n",
"printf('\nMagnetic moment = %1.2e bohr magneton', X);\n",
"\n",
"// Result\n",
"\n",
"//  Number of nickel atom per cubemetre = 9.141e+28 /cubemetre\n",
"//  Magnetic moment = 6.10e-01 bohr magneton "
   ]
   }
,
{
		   "cell_type": "markdown",
		   "metadata": {},
		   "source": [
			"## Example 8.5: Calculation_of_temperature_using_classical_statistics.sce"
		   ]
		  },
  {
"cell_type": "code",
	   "execution_count": null,
	   "metadata": {
	    "collapsed": true
	   },
	   "outputs": [],
"source": [
"// Scilab Code Ex8.5: Page-8.35 (2004)\n",
"clc;clear;\n",
"mu = 9.4e-24;    // Magnetic moment, ampere metre square\n",
"H = 2;  //  Magnetic field , weber per squaremetre \n",
"k = 1.38e-23;   // Boltzmann Constant, joule per kelvin\n",
"T = (2*mu*H)/(log(2)*k);  //Temperature using classical statistics, K\n",
"\n",
"printf('\nTemperature using classical statistics = %3.1f K', T);\n",
"\n",
"// Result\n",
"// Temperature using classical statistics = 3.9 K "
   ]
   }
,
{
		   "cell_type": "markdown",
		   "metadata": {},
		   "source": [
			"## Example 8.6: Saturation_magnetization.sce"
		   ]
		  },
  {
"cell_type": "code",
	   "execution_count": null,
	   "metadata": {
	    "collapsed": true
	   },
	   "outputs": [],
"source": [
"// Scilab Code Ex8.6: Page-8.36 (2004)\n",
"clc;clear;\n",
"A = 6.025e+26; //  Avogadro number, per k mol\n",
"W = 157.26;   // Atomic weight, kg\n",
"d = 7.8e+3;   // Density of nickel,kg metrecube\n",
"N = d*A/(W*1000);  //  No of atoms, per gm metrecube\n",
"muo = 4*%pi*1e-7;   //  Magnetic perbeability, henry per m\n",
"mum = N*7.1*(9.27e-24);  // Magnetic moment, ampere metersquare\n",
"Bs = mum*muo;  // Saturation magnetization, weber/squaremetre\n",
"printf('\nMagnetic moment = %6.4e ampere meter square', mum);\n",
"printf('\nSaturation magnetization = %6.4e weber/squaremetre', Bs);\n",
"\n",
"// Result\n",
"//  Magnetic moment = 1.9669e+03 ampere meter square\n",
"//  Saturation magnetization = 2.4716e-03 weber/squaremetre \n",
""
   ]
   }
,
{
		   "cell_type": "markdown",
		   "metadata": {},
		   "source": [
			"## Example 8.7: Magnetic_moment_of_nickel_in_Bohr_Magneton.sce"
		   ]
		  },
  {
"cell_type": "code",
	   "execution_count": null,
	   "metadata": {
	    "collapsed": true
	   },
	   "outputs": [],
"source": [
"// Scilab Code Ex8.7:  Page-8.36 (2004)\n",
"clc;clear;\n",
"d = 8906;   //  Density of nickel,  kg per metrecube\n",
"An = 6.025e+26; //  Avogadro number, per k mol\n",
"W = 58.7;   // Atomic weight, kg\n",
"N = d*An/W; //  Number density of nickel atom,  per cubemetre\n",
"Bs = 0.65;  // Saturation magnetization,  wb per squaremetre\n",
"muo = (4*%pi*1e-7);   //  magnetic perbeability, henry/metre\n",
"mum = Bs/(N*muo);  // magnetic moment, ampere per squaremetre\n",
"X = mum/(9.27e-24); // magnetic moment, bohr magneton\n",
"\n",
"printf('\nNumber density of nickel atom = %3.3e /cubemetre', N);\n",
"printf('\nMagnetic moment = %1.2f bohr magneton', X);\n",
"\n",
"// Result\n",
"\n",
"//  Number density of nickel atom per cubemetre = 9.141e+28 /cubemetre\n",
"//  Magnetic moment = 6.10e-01 bohr magneton "
   ]
   }
],
"metadata": {
		  "kernelspec": {
		   "display_name": "Scilab",
		   "language": "scilab",
		   "name": "scilab"
		  },
		  "language_info": {
		   "file_extension": ".sce",
		   "help_links": [
			{
			 "text": "MetaKernel Magics",
			 "url": "https://github.com/calysto/metakernel/blob/master/metakernel/magics/README.md"
			}
		   ],
		   "mimetype": "text/x-octave",
		   "name": "scilab",
		   "version": "0.7.1"
		  }
		 },
		 "nbformat": 4,
		 "nbformat_minor": 0
}
