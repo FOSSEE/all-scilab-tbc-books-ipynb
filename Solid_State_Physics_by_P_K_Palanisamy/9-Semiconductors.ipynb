{
"cells": [
 {
		   "cell_type": "markdown",
	   "metadata": {},
	   "source": [
       "# Chapter 9: Semiconductors"
	   ]
	},
{
		   "cell_type": "markdown",
		   "metadata": {},
		   "source": [
			"## Example 9.10: Conductivity_and_Position_of_Ef_above_the_intrinsic_level.sce"
		   ]
		  },
  {
"cell_type": "code",
	   "execution_count": null,
	   "metadata": {
	    "collapsed": true
	   },
	   "outputs": [],
"source": [
"// Scilab Code Ex9.10: Page-9.31 ; (2004)\n",
"clc;clear;\n",
"ni = 1.5e+16;  // Intrinsic Carrier concentration at room temperature\n",
"mu_e = 0.135;    //  Mobility of electron; m^2V^-1s^-1\n",
"e = 1.6e-19;    //  Electronic charge, C\n",
"Nd = 1e+23;  // Impurity atoms , per metrecube\n",
"T = 300;    // Temperature, Kelvin \n",
"k = 1.38e-23;    // Boltzman constant,joule per kelvin\n",
"mu_h = 0.048;    //  Mobility of holes, m^2V^-1s^-1\n",
"sigma = ni*e*(mu_e+mu_h);  // Conductivity, mho per meter\n",
"p = ni^2/Nd;    // Hole concentration, per metrecube\n",
"sigma_ex = Nd*e*mu_e;  // Conductivity with donor type impurities, mho per meter\n",
"E_F =(3/(4*e))*k*T*(log(0.135/0.048)); // Position of fermi level above the intrinsic level, eV \n",
"// mu is inversely propotional to mass \n",
"printf('\nConductivity of silicon = %3.2e mho per meter', sigma);\n",
"printf('\nHole concentration = %4.2e per metrecube', p);\n",
"printf('\nConductivity with donor type impurities = %4.2e mho per meter', sigma_ex);\n",
"printf('\nPosition of fermi level above the intrinsic level = %4.2f eV', E_F);\n",
"\n",
"//Results\n",
"//  Conductivity of silicon = 4.39e-04 mho per meter\n",
"//  Hole concentration = 2.25e+09 per metrecube\n",
"//  Conductivity with donor type impurities = 2.16e+03 mho per meter\n",
"//    Position of fermi level above the intrinsic level = 0.02 eV "
   ]
   }
,
{
		   "cell_type": "markdown",
		   "metadata": {},
		   "source": [
			"## Example 9.11: Intrinsic_carrier_concentration_and_conductivity_in_germanium.sce"
		   ]
		  },
  {
"cell_type": "code",
	   "execution_count": null,
	   "metadata": {
	    "collapsed": true
	   },
	   "outputs": [],
"source": [
"// Scilab Code Ex9.11: Page-9.32 ; (2004)\n",
"clc;clear;\n",
"e = 1.6e-19;    //  Electronic charge, C\n",
"Eg = 0.7*e;  // Band gap energy, joules\n",
"mu_e = 0.4;    //  Mobility of electron; m^2V^-1s^-1\n",
"mu_h = 0.2;    //  Mobility of holes, m^2V^-1s^-1\n",
"m   = 9.1e-31;  //  Mass of electron, kg\n",
"h = 6.63e-34;   // Plancks Constant, Js\n",
"T = 300;    // Temperature, Kelvin \n",
"k = 1.38e-23;    // Boltzman constant,joule per kelvin\n",
"C = 2*(2*%pi*T*m*k/h^2)^(3/2); // Constant parameter\n",
"ni = C*exp((-Eg)/(2*k*T));    // Carrier concentration at room temperature\n",
"sigma = ni*e*(mu_e+mu_h);  // Conductivity, mho per meter\n",
"printf('\nCarrier concentration at room temperature = %4.2e per metrecube', ni);\n",
"printf('\nConductivity of silicon = %3.2f mho per meter', sigma);\n",
"\n",
"\n",
"//Results\n",
"//  Carrier concentration at room temperature = 3.34e+19 per metrecube\n",
"//  Conductivity of silicon = 3.20 mho per meter "
   ]
   }
,
{
		   "cell_type": "markdown",
		   "metadata": {},
		   "source": [
			"## Example 9.12: Forbidden_energy_band_gap.sce"
		   ]
		  },
  {
"cell_type": "code",
	   "execution_count": null,
	   "metadata": {
	    "collapsed": true
	   },
	   "outputs": [],
"source": [
"// Scilab Code Ex9.12: Page-9.32 ; (2004)\n",
"clc;clear;\n",
"e = 1.6e-19;    //  Electronic charge, C\n",
"mu_e = 0.36;    //  Mobility of electron; m^2V^-1s^-1\n",
"mu_h = 0.17;    //  Mobility of holes, m^2V^-1s^-1\n",
"rho = 2.12;     // Resistivity of sample, ohm metre \n",
"sigma = 1/rho;  // Conductivity of sample, mho per meter\n",
"m   = 9.1e-31;  //  Mass of electron, kg\n",
"h = 6.63e-34;   // Plancks Constant, Js\n",
"T = 300;    // Temperature, Kelvin \n",
"k = 1.38e-23;    // Boltzman constant,joule per kelvin\n",
"// But  ni = C*exp((-Eg)/(2*k*T));    // Carrier concentration at room temperature, therefore\n",
"C = 2*(2*%pi*T*m*k/h^2)^(3/2); // Constant parameter\n",
"ni = sigma/(e*(mu_e+mu_h));  // Carrier concentration, per metercube\n",
"b = C/ni;   // Ratio for simplicity\n",
"Eg = 2/e*k*T*log(b); // Band gap energy, joules\n",
"\n",
"printf('\nBand gap energy = %5.4f eV', Eg);\n",
"\n",
"//Result\n",
"//  Band gap energy= 0.7927 eV "
   ]
   }
,
{
		   "cell_type": "markdown",
		   "metadata": {},
		   "source": [
			"## Example 9.13: Hall_Voltage_of_a_semiconductor.sce"
		   ]
		  },
  {
"cell_type": "code",
	   "execution_count": null,
	   "metadata": {
	    "collapsed": true
	   },
	   "outputs": [],
"source": [
"// Scilab Code Ex9.13:  Page-9.45 ; (2004)\n",
"clc;clear;\n",
"RH = 3.66e-4;    // Hall coefficent, meter cube/C\n",
"t = 1e-03;  //  thickness of the specimen, m\n",
"Bz = 0.5;   // Magnetic flux density, wb per meter square\n",
"Ix = 1e-2; //  Current , A\n",
"VH = RH*Ix*Bz/t;    // Voltage across specimen, volt\n",
"printf('\nVoltage across specimen = %3.2f  millivolt', VH/1e-3);\n",
"\n",
"// Result\n",
"// Voltage across specimen = 1.83  millivolt"
   ]
   }
,
{
		   "cell_type": "markdown",
		   "metadata": {},
		   "source": [
			"## Example 9.14: Hall_coefficient_of_a_semiconductor.sce"
		   ]
		  },
  {
"cell_type": "code",
	   "execution_count": null,
	   "metadata": {
	    "collapsed": true
	   },
	   "outputs": [],
"source": [
"// Scilab Code Ex9.14: Hall coefficent of a semiconductor : Page-9.46 ; (2004)\n",
"clc;clear;\n",
"Vy = 37e-06;    // Voltage across specimen, volt\n",
"t = 1e-03;  //  thickness of the specimen, m\n",
"Bz = 0.5;   // Magnetic flux density, wb per meter square\n",
"Ix = 20e-3; //  Current , A\n",
"RH = Vy*t/(Ix*Bz);    // Hall coefficent, meter cube/C\n",
"printf('\nHall coefficent, meter cube/C = %3.1e  meter cube/C', RH);\n",
"\n",
"// Result\n",
"// Hall coefficent, meter cube/C = 3.7e-06  meter cube/C "
   ]
   }
,
{
		   "cell_type": "markdown",
		   "metadata": {},
		   "source": [
			"## Example 9.15: Mobility_density_and_nature_of_semiconductor.sce"
		   ]
		  },
  {
"cell_type": "code",
	   "execution_count": null,
	   "metadata": {
	    "collapsed": true
	   },
	   "outputs": [],
"source": [
"// Scilab Code Ex9.15: Page-9.46 ; (2004)\n",
"clc;clear;\n",
"e = 1.6e-19;    //  Electronic charge, C\n",
"RH = -7.35e-5;    // Hall coefficent, meter cube/C\n",
"sigma = 200; //  Conductivity of the Si specimen, per ohm per metre\n",
"n = -1/(RH*e);   // Electron density, per metre cube\n",
"mu = sigma/(n*e);    //  Mobility of the charge carriers, square meter per voly per sec\n",
"printf('\nElectron density = %3.3e per metre cube', n);\n",
"printf('\nMobility = %3.3f square meter per volt per sec', mu);\n",
"printf('\nAs the RH is negative, so specimen is n-type');\n",
"\n",
"//Result\n",
"//  Electron density = 8.503e+22 per metre cube\n",
"//  Mobility = 0.015 square meter per volt per sec\n",
"//  As the RH is negative, so specimen is n-type  "
   ]
   }
,
{
		   "cell_type": "markdown",
		   "metadata": {},
		   "source": [
			"## Example 9.16: Hall_Voltage.sce"
		   ]
		  },
  {
"cell_type": "code",
	   "execution_count": null,
	   "metadata": {
	    "collapsed": true
	   },
	   "outputs": [],
"source": [
"// Scilab Code Ex9.16: Page-9.47 ; (2004)\n",
"clc;clear;\n",
"e = 1.6e-19;    //  Electronic charge, C\n",
"B = 1.5;  // Magnetic field, tesla\n",
"I = 50; //  Current, ampere\n",
"n = 8.4e+28;    // Electron density, per metre cube\n",
"t = 0.5e-2; //  thickness of slab, metre\n",
"RH = 1/(n*e);   // Hall coefficent\n",
"V_H = RH*I*B/t;    //  Hall voltage, volt \n",
"printf('\nHall Voltage = %3.3f micro volt', V_H/1e-6);\n",
"\n",
"//Result\n",
"//  Hall Voltage = 1.116 micro volt "
   ]
   }
,
{
		   "cell_type": "markdown",
		   "metadata": {},
		   "source": [
			"## Example 9.17: Mobility_and_number_of_Charge_carrier.sce"
		   ]
		  },
  {
"cell_type": "code",
	   "execution_count": null,
	   "metadata": {
	    "collapsed": true
	   },
	   "outputs": [],
"source": [
"// Scilab Code Ex9.17: Mobility and no of Charge carrier : Page-9.48 ; (2004)\n",
"clc;clear;\n",
"RH = 3.66e-4;  // Hall Coefficient, metrcube/C\n",
"e = 1.6e-19;    //  Electronic charge, C\n",
"rho = 8.93e-3;  // Resistivity of sample, ohm meter \n",
"n = 1/(RH*e);   // Number of charge carrier, per metre cube\n",
"mu_e = RH/rho;    //  Mobility of electron, m^2 per volt per sec\n",
"printf('\nNumber of charge carrier = %3.3e per metre cube', n);\n",
"printf('\nMobility of electron = %4.5f squaremetre per volt per sec', mu_e);\n",
"\n",
"//Results\n",
"//  Number of charge carrier = 1.708e+22 per metre cube\n",
"//  Mobility of electron = 0.04099 m^2 per volt per sec "
   ]
   }
,
{
		   "cell_type": "markdown",
		   "metadata": {},
		   "source": [
			"## Example 9.1: Resistivity.sce"
		   ]
		  },
  {
"cell_type": "code",
	   "execution_count": null,
	   "metadata": {
	    "collapsed": true
	   },
	   "outputs": [],
"source": [
"// Scilab Code Ex9.1:  Page-9.24 ; (2004)\n",
"clc;clear;\n",
"ni = 2.37e+19;  // Carrier concentration at room temperature\n",
"mu_e = 0.38;    //  mobility of electron; m^2V^-1s^-1\n",
"e = 1.6e-19;    //  electronic charge, C\n",
"mu_h = 0.18;    //  mobility of holes; m^2V^-1s^-1\n",
"sigma = ni*e*(mu_e+mu_h);  // conductivity, mho.m^-1\n",
"rho = 1/sigma;  //  Resistivity in Ge, ohm.m\n",
"printf('\nConductivity in Ge = %4.2f mho.per m', sigma);\n",
"printf('\nResistivity in Ge = %5.3f ohm.m', rho);\n",
"\n",
"//Results\n",
"//  Conductivity in Ge = 2.12 mho.per m\n",
"//  Resistivity in Ge = 0.471 ohm.m  "
   ]
   }
,
{
		   "cell_type": "markdown",
		   "metadata": {},
		   "source": [
			"## Example 9.2: Determination_of_Fermi_level.sce"
		   ]
		  },
  {
"cell_type": "code",
	   "execution_count": null,
	   "metadata": {
	    "collapsed": true
	   },
	   "outputs": [],
"source": [
"// Scilab Code Ex9.2:  Page-9.24 (2004)\n",
"clc;clear;\n",
"Eg = 1.12;    // Bandgap of silicon, eV\n",
"me = 0.12*9.1e-031;    // Effective Mass of the electron, kg\n",
"e = 1.6e-19; //  Electronic charge, C\n",
"mh = 0.28*9.1e-031;    // Effective Mass of the hole, kg\n",
"k = 1.38e-23;    // Boltzman constant,  joule per kelvin\n",
"T = 300;        //  temperature, K\n",
"EF = (Eg/2)+3/4*k*T*(log(2.333))/e; // EF = E(Eg/2)+3/4*k*T*(log(2.333))/e;  Formula\n",
"\n",
"printf('\nThe position of Fermi Level = %4.3f eV', EF);\n",
"\n",
"// Result\n",
"// The position of Fermi Level = 0.576 eV "
   ]
   }
,
{
		   "cell_type": "markdown",
		   "metadata": {},
		   "source": [
			"## Example 9.3: Number_of_intrinsic_carriers_at_300K.sce"
		   ]
		  },
  {
"cell_type": "code",
	   "execution_count": null,
	   "metadata": {
	    "collapsed": true
	   },
	   "outputs": [],
"source": [
"// Scilab Code Ex9.3: Number of intrinsic carriers at 300K: Page-9.26 ; (2004)\n",
"clc;clear;\n",
"e = 1.6e-19;    //  Electronic charge, C\n",
"m   = 9.1e-31;  //  Mass of electron, kg\n",
"T = 300;    // Room temperature, K\n",
"k = 1.38e-23;   //  Boltzmann Constant, joule per kelvin \n",
"Eg = 0.7*e;   // Energy band gap of silicon, J\n",
"h = 6.626e-34;   // Plancks Constant, Js\n",
"C = 2*(2*%pi*m*k/h^2)^(3/2);    // A constant \n",
"ni = C*T^(3/2)*exp((-Eg)/(2*k*T));    // formula for carrier concentration at room temperature\n",
"printf('\nNumber of intrinsic carriers at 300K = %3.1e per cubemetre ', ni);\n",
"\n",
"//Results\n",
"//  Number of intrinsic carriers at 300K = 3.3e+19 per cubemetre "
   ]
   }
,
{
		   "cell_type": "markdown",
		   "metadata": {},
		   "source": [
			"## Example 9.4: Resistivity_of_Ge_sample.sce"
		   ]
		  },
  {
"cell_type": "code",
	   "execution_count": null,
	   "metadata": {
	    "collapsed": true
	   },
	   "outputs": [],
"source": [
"// Scilab Code Ex9.4:  Page-9.26 ; (2004)\n",
"clc;clear;\n",
"ni = 2.4e+19;  // Carrier concentration at room temperature\n",
"mu_e = 0.39;    //  Mobility of electron; m^2V^-1s^-1\n",
"e = 1.6e-19;    //  Electronic charge, C\n",
"mu_h = 0.19;    //  Mobility of holes, m^2V^-1s^-1\n",
"sigma = ni*e*(mu_e+mu_h);  // Conductivity, mho.m^-1\n",
"rho = 1/sigma;  //  Resistivity in Ge, ohm.m\n",
"printf('\nConductivity in Ge = %4.4f mho.per m', sigma);\n",
"printf('\nResistivity in Ge = %5.3f ohm.m', rho);\n",
"\n",
"\n",
"//Results\n",
"//  Conductivity in Ge = 2.2272 mho.per m\n",
"//  Resistivity in Ge = 0.449 ohm.m "
   ]
   }
,
{
		   "cell_type": "markdown",
		   "metadata": {},
		   "source": [
			"## Example 9.5: Resistance_of_Ge_rod.sce"
		   ]
		  },
  {
"cell_type": "code",
	   "execution_count": null,
	   "metadata": {
	    "collapsed": true
	   },
	   "outputs": [],
"source": [
"// Scilab Code Ex9.5: Page-9.26 ; (2004)\n",
"clc;clear;\n",
"ni = 2.5e+19;  // Carrier concentration at room temperature\n",
"mu_e = 0.39;    //  Mobility of electron; m^2V^-1s^-1\n",
"e = 1.6e-19;    //  Electronic charge, C\n",
"l = 1e-2;   //  length of Ge rod, m\n",
"w = 1e-3;   // width of Ge rod,m\n",
"t = 1e-3;   //  thickness of Ge rod, m\n",
"A = w*t;    // Area of Ge rod, meter square \n",
"mu_h = 0.19;    //  Mobility of holes, m^2V^-1s^-1\n",
"sigma = ni*e*(mu_e+mu_h);  // Conductivity, mho.m^-1\n",
"R = l/(sigma*A);  //  Resistivity in Ge, ohm.m\n",
"printf('\nResistance of Ge rod = %4.2e ohm', R);\n",
"\n",
"//Results\n",
"//  Resistance of Ge rod = 4.31e+03 ohm "
   ]
   }
,
{
		   "cell_type": "markdown",
		   "metadata": {},
		   "source": [
			"## Example 9.6: Conductivity_of_Si.sce"
		   ]
		  },
  {
"cell_type": "code",
	   "execution_count": null,
	   "metadata": {
	    "collapsed": true
	   },
	   "outputs": [],
"source": [
"// Scilab Code Ex9.6: Page-9.27 ; (2004)\n",
"clc;clear;\n",
"mu_e = 0.48;    //  Mobility of electron; m^2V^-1s^-1\n",
"e = 1.6e-19;    //  Electronic charge, C\n",
"m   = 9.1e-31;  //  Mass of electron, kg\n",
"mu_h = 0.013;    //  Mobility of holes, m^2V^-1s^-1\n",
"T = 300;    // Room temperature, K\n",
"k = 1.38e-23;   //  Boltzmann Constant, joule per kelvin \n",
"Eg = 1.1*e;   // Energy band gap of silicon, J\n",
"h = 6.626e-34;   // Plancks Constant, Js\n",
"C = 2*(2*%pi*m*k/h^2)^(3/2);    // A constant \n",
"ni = C*T^(3/2)*exp((-Eg)/(2*k*T));    // formula for carrier concentration at room temperature\n",
"sigma = ni*e*(mu_e+mu_h);  // Conductivity, mho per metre\n",
"\n",
"printf('\nConductivity = %3.1e mho per metre ', sigma);\n",
"\n",
"//Results\n",
"//  Conductivity = 1.2e-03 mho per metre  "
   ]
   }
,
{
		   "cell_type": "markdown",
		   "metadata": {},
		   "source": [
			"## Example 9.7: Electron_and_hole_concentration_in_silicon.sce"
		   ]
		  },
  {
"cell_type": "code",
	   "execution_count": null,
	   "metadata": {
	    "collapsed": true
	   },
	   "outputs": [],
"source": [
"// Scilab Code Ex9.7: Page-9.27 ; (2004)\n",
"clc;clear;\n",
"Na = 5e+23; // Concentration of boron atoms, per metrecube\n",
"Nd = 3e+23; // Concentration of arsenic atoms, per metrecube\n",
"p = Na-Nd;  // Hole concentration, per metrecube\n",
"ni = 2e+16; //  Intrinsic concentration ,per metrecube\n",
"n = ni^2/p; //  Electron concentration, per metrecube\n",
"\n",
"printf('\nHole concentration = %3.1e per metrecube ', p);\n",
"printf('\nElectron concentration = %3.1e per metrecube ', n);\n",
"\n",
"//Results\n",
"//  Hole concentration = 2.0e+23 per metrecube \n",
"//  Electron concentration = 2.0e+09 per metrecube "
   ]
   }
,
{
		   "cell_type": "markdown",
		   "metadata": {},
		   "source": [
			"## Example 9.8: Temperature_that_shift_the_fermi_level.sce"
		   ]
		  },
  {
"cell_type": "code",
	   "execution_count": null,
	   "metadata": {
	    "collapsed": true
	   },
	   "outputs": [],
"source": [
"// Scilab Code Ex9.8:  Page-9.28 (2004)\n",
"clc;clear;\n",
"Eg = 1;    // Bandgap of silicon, eV\n",
"e = 1.6e-19; //  Electronic charge, C\n",
"k = 1.38e-23;    // Boltzman constant,joule per kelvin\n",
"E_F = (0.6-0.5)*e;  // Fermi energy, joules\n",
"// E_F =((Ev+Ec)/2)+3/4*k*T1*(log(4));   // Ev & Ec= valance and conduction band energies (formula) \n",
"T = 4*E_F/(3*k*log(4)); //Temperature that shift the fermi level, K\n",
"\n",
"printf('\nTemperature that shift the fermi level = %4.3d K', T);\n",
"\n",
"// Result\n",
"// Temperature that shift the fermi level = 1115 K "
   ]
   }
,
{
		   "cell_type": "markdown",
		   "metadata": {},
		   "source": [
			"## Example 9.9: Conductivity_of_intrinsic_silicon_at_300_K.sce"
		   ]
		  },
  {
"cell_type": "code",
	   "execution_count": null,
	   "metadata": {
	    "collapsed": true
	   },
	   "outputs": [],
"source": [
"// Scilab Code Ex9.9: Page-9.29 ; (2004)\n",
"clc;clear;\n",
"ni = 1.5e+16;  // Intrinsic Carrier concentration at room temperature\n",
"mu_e = 0.13;    //  Mobility of electron; m^2V^-1s^-1\n",
"e = 1.6e-19;    //  Electronic charge, C\n",
"Nd = 4.99e+20;  // Impurity atoms , per metrecube\n",
"mu_h = 0.05;    //  Mobility of holes, m^2V^-1s^-1\n",
"sigma = ni*e*(mu_e+mu_h);  // Conductivity, mho per meter\n",
"sigma_d = Nd*e*mu_e;  // Conductivity with donor type impurities, mho per meter\n",
"sigma_a = Nd*e*mu_h;  // Conductivity with acceptor type impurities, mho per meter\n",
"printf('\nConductivity of silicon = %3.2e mho per meter', sigma);\n",
"printf('\nConductivity with donor type impurities = %4.2f mho per meter', sigma_d);\n",
"printf('\nConductivity with acceptor type impurities= %4.2f mho per meter', sigma_a);\n",
"\n",
"//Results\n",
"// Conductivity of silicon = 4.32e-04 mho per meter\n",
"// Conductivity with donor type impurities = 10.38 mho per meter\n",
"// Conductivity with acceptor type impurities= 3.99 mho per meter "
   ]
   }
],
"metadata": {
		  "kernelspec": {
		   "display_name": "Scilab",
		   "language": "scilab",
		   "name": "scilab"
		  },
		  "language_info": {
		   "file_extension": ".sce",
		   "help_links": [
			{
			 "text": "MetaKernel Magics",
			 "url": "https://github.com/calysto/metakernel/blob/master/metakernel/magics/README.md"
			}
		   ],
		   "mimetype": "text/x-octave",
		   "name": "scilab",
		   "version": "0.7.1"
		  }
		 },
		 "nbformat": 4,
		 "nbformat_minor": 0
}
