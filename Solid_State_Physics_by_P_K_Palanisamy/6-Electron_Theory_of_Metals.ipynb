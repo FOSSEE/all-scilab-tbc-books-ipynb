{
"cells": [
 {
		   "cell_type": "markdown",
	   "metadata": {},
	   "source": [
       "# Chapter 6: Electron Theory of Metals"
	   ]
	},
{
		   "cell_type": "markdown",
		   "metadata": {},
		   "source": [
			"## Example 6.10: Temperature_for_occupation_of_a_state_above_Fermi_level.sce"
		   ]
		  },
  {
"cell_type": "code",
	   "execution_count": null,
	   "metadata": {
	    "collapsed": true
	   },
	   "outputs": [],
"source": [
"// Scilab Code Ex 6.10: Page-6.18 (2004)\n",
"clc;clear;\n",
"k = 1.38e-23;       //  Boltzmann constant, joule per kelvin\n",
"T = 300;    // For simplicity room temperature is taken, kelvin\n",
"e = 1.6e-19;    // Charge on electron, C\n",
"EF = 5.5;    //  Fermi Energy, eV\n",
"E = EF+(EF/100);    // New energy, eV\n",
"F_E = 0.1;  // Fermi function, unitless\n",
"T = e*(E-EF)/(k*log((1-F_E)/F_E));  //Temperature for 10% probabilty that electron in silver have an energy 1% above the fermi energy, kelvin\n",
"\n",
"printf('\nTemperature = %5.1f kelvin', T);\n",
"\n",
"// Results\n",
"//  Temperature = 290.2 kelvin "
   ]
   }
,
{
		   "cell_type": "markdown",
		   "metadata": {},
		   "source": [
			"## Example 6.11: Number_of_energy_state_in_unit_volume.sce"
		   ]
		  },
  {
"cell_type": "code",
	   "execution_count": null,
	   "metadata": {
	    "collapsed": true
	   },
	   "outputs": [],
"source": [
"// Scilab Code Ex 6.11: Page-6.22 (2004)\n",
"clc;clear;\n",
"h = 6.62e-34;  // Planck's constant, Js\n",
"m = 9.14e-31;   //  Mass of the electron, kg\n",
"e = 1.6e-19;    // Charge on electron, C\n",
"E1=3.22*e;      //  First state energy, joules\n",
"E2=3.24*e;      //  Second state energy, joules\n",
"n = 8*%pi*(2*m)^(3/2)*(E2^(3/2)-E1^(3/2))/(3*h^3);  // Number of energy state in unit volume\n",
"printf('\nNumber of energy state in unit volume= %4.3e ', n);\n",
"//Result\n",
"// Number of energy state in unit volume= 2.463e+26 "
   ]
   }
,
{
		   "cell_type": "markdown",
		   "metadata": {},
		   "source": [
			"## Example 6.12: Temperature_needed_to_fill_a_state_above_Fermi_level.sce"
		   ]
		  },
  {
"cell_type": "code",
	   "execution_count": null,
	   "metadata": {
	    "collapsed": true
	   },
	   "outputs": [],
"source": [
"// Scilab Code Ex 6.12: Page-6.22 (2004)\n",
"clc;clear;\n",
"k = 1.38e-23;       //  Boltzmann constant, joule per kelvin\n",
"T = 300;    // For simplicity room temperature is taken, kelvin\n",
"e = 1.6e-19;    // Charge on electron, C\n",
"EF = 1;    //  For simplicity Fermi Energy is taken as unity, eV\n",
"E = EF+0.5;    // New energy, eV\n",
"F_E = 0.01;  // Fermi function, unitless\n",
"T = e*(E-EF)/(k*log((1-F_E)/F_E));  //Temperature for 1% probabilty that electron have an energy 0.5eV above the fermi energy, kelvin\n",
"\n",
"printf('\nTemperature = %d kelvin', round(T));\n",
"\n",
"// Results\n",
"//  Temperature = 1262 kelvin "
   ]
   }
,
{
		   "cell_type": "markdown",
		   "metadata": {},
		   "source": [
			"## Example 6.1: Electron_Density_and_mobility_in_silver.sce"
		   ]
		  },
  {
"cell_type": "code",
	   "execution_count": null,
	   "metadata": {
	    "collapsed": true
	   },
	   "outputs": [],
"source": [
"// Scilab Code Ex6.1 :  Page-6.8 (2004)\n",
"clc;clear;\n",
"M = 107.9;        // Molecular weight of silver, kg\n",
"d = 10.5e+03;    // Density of of silver, kg per metrecube\n",
"N = 6.023D+26;    // Avogadro's Number., atoms/k-mol\n",
"a = 6.8e+07;    // conductivity of silver, per ohm per sec\n",
"e = 1.6e-19;    //  charge of electron, C\n",
"n = d*N/M;  //  Density of electron\n",
"mu = a/(n*e);   // Mobility of electron\n",
"printf('\nDensity of electron = %4.2e ', n);\n",
"printf('\nMobility of electron = %5.3e metersquare per volt per sec', mu);\n",
"\n",
"// Result \n",
"// Density of electron = 5.86e+28 \n",
"// Mobility of electron = 7.251e-03 metersquare per volt per sec "
   ]
   }
,
{
		   "cell_type": "markdown",
		   "metadata": {},
		   "source": [
			"## Example 6.2: Mobility_and_average_time_of_collision_in_copper.sce"
		   ]
		  },
  {
"cell_type": "code",
	   "execution_count": null,
	   "metadata": {
	    "collapsed": true
	   },
	   "outputs": [],
"source": [
"// Scilab Code Ex6.2 :  Page-6.9 (2004)\n",
"clc;clear;\n",
"M = 63.5;        // Molecular weight of copper, kg\n",
"d = 8.92e+03;    // Density of of copper, kg per metrecube\n",
"rho = 1.73e-8;    // Resistivity of copper, ohm m\n",
"m = 9.1e-31;    //  Mass of electron, kg\n",
"N = 6.023D+26;    // Avogadro's No., atoms/k-mol\n",
"e = 1.6e-19;    //  Charge of electron, C\n",
"n = d*N/M;  //  Density of electron\n",
"mu = 1/(rho*n*e);   // Mobility of electron\n",
"t = m/(n*(e^2)*rho);    // Average time of collision, sec\n",
"printf('\nNumber Density of electron = %4.2e ', n);\n",
"printf('\nMobility of electron = %3.3e meter per volt per sec', mu);\n",
"printf('\naverage time of collision = %3.2e sec', t);\n",
"\n",
"// Result \n",
"//  Number Density of electron = 8.46e+28 \n",
"//  Mobility of electron = 4.270e-03 meter per volt per sec\n",
"//  average time of collision = 2.429e-14 sec "
   ]
   }
,
{
		   "cell_type": "markdown",
		   "metadata": {},
		   "source": [
			"## Example 6.3: Electrical_resistivity_in_Sodium_metal.sce"
		   ]
		  },
  {
"cell_type": "code",
	   "execution_count": null,
	   "metadata": {
	    "collapsed": true
	   },
	   "outputs": [],
"source": [
"// Scilab Code Ex6.3 : Page-6.10 (2004)\n",
"clc;clear;\n",
"t = 3e-14;  // Mean free time, sec\n",
"m = 9.1e-31;    //  Mass of electron, kg\n",
"e = 1.6e-19;    // Charge of electron, C\n",
"r = 1.85e-10;   //  Radius of sodium atom, m \n",
"a = 4*r/sqrt(3);    //  Sodium has BCC structure\n",
"n = 2/(a^3);  //  Number of electron per unit volume\n",
"rho = m/(n*(e^2)*t);    // Electrical resistivity, ohm m\n",
"\n",
"printf('\nElectrical resistivity  = %3.3e ohm m', rho);\n",
"\n",
"// Result \n",
"//  Electrical resistivity  = 4.620e-08 ohm m "
   ]
   }
,
{
		   "cell_type": "markdown",
		   "metadata": {},
		   "source": [
			"## Example 6.4: Resistivity_of_sodium_at_zero_degree_Celsius.sce"
		   ]
		  },
  {
"cell_type": "code",
	   "execution_count": null,
	   "metadata": {
	    "collapsed": true
	   },
	   "outputs": [],
"source": [
"// Scilab Code Ex6.4:  Page-6.11 (2004)\n",
"clc;clear;\n",
"t = 3.1e-14;  // Mean free time, sec\n",
"m = 9.1e-31;    //  Mass of electron, kg\n",
"e = 1.6e-19;    //  Charge of electron, C\n",
"r = 0.429e-9;   //  Side of the unit cell. m \n",
"n = 2/(r^3);  //  Number of electron per unit cubemetre\n",
"rho = m/(n*(e^2)*t);    // Electrical resistivity, ohm m\n",
"printf('\nElectrical resistivity of sodium at zero degree Celsius = %2.3e ohm m', rho);\n",
"\n",
"// Result \n",
"//  Electrical resistivity of sodium at zero degree Celsius = 4.527e-08 ohm m "
   ]
   }
,
{
		   "cell_type": "markdown",
		   "metadata": {},
		   "source": [
			"## Example 6.5: Next_Lowest_Energy_level_for_electron_confinement.sce"
		   ]
		  },
  {
"cell_type": "code",
	   "execution_count": null,
	   "metadata": {
	    "collapsed": true
	   },
	   "outputs": [],
"source": [
"// Scilab Code Ex 6.5 : Page-6.15 (2004)\n",
"clc;clear;\n",
"h = 6.62e-34;  // Planck's const, Js\n",
"m = 9.1e-31;    // Mass of electron in kg\n",
"L = 0.1e-9;  //  Side of the box in m\n",
"n1 = 1;      //   nx box lowest quantum number\n",
"n2 = 1;      //   ny box lowest quantum number\n",
"n3 = 1;     //   nz box lowest quantum number\n",
"e = 1.6e-19;    // Charge on electron, C\n",
"E = (h^2)/(8*e*m*L^2)*((n1)^2+(n2)^2+(n3)^2);   //Lowest Energy level for electron confinement , in eV\n",
"printf('\nLowest Energy level for electron confinement = %2.1f eV', E);\n",
"\n",
"// Results\n",
"// Lowest Energy level for electron confinement = 112.9 eV \n",
""
   ]
   }
,
{
		   "cell_type": "markdown",
		   "metadata": {},
		   "source": [
			"## Example 6.7: Energy_level_for_electron_confinement_and_equivalent_temperature.sce"
		   ]
		  },
  {
"cell_type": "code",
	   "execution_count": null,
	   "metadata": {
	    "collapsed": true
	   },
	   "outputs": [],
"source": [
"// Scilab Code Ex 6.7: Page-6.17 (2004)\n",
"clc;clear;\n",
"h = 6.62e-34;    // Planck's const, Js\n",
"m = 9.1e-31;    // Mass of electron in kg\n",
"L = 1e-9;     //  length of cube box , m\n",
"n1 = 1;         //   nx box quantum number\n",
"n2 = 1;         //   ny box lowest quantum number\n",
"n3 = 2;         //   nz box quantum number\n",
"k = 1.38e-23;       //  Boltzmann constant, joule per kelvin\n",
"e = 1.6e-19;    // Charge on electron, C\n",
"E = (h^2)/(8*m*L^2)*((n1)^2+(n2)^2+(n3)^2);   //Lowest Energy level for electron confinement , in joule\n",
"T = 2*E/(3*k);    // Equivalent temperature of the molecules, kelvin\n",
"\n",
"printf('\nEnergy for electron confinement = %5.3e joule', E);\n",
"printf('\nEquivalent temperature of the molecules = %5.3e kelvin', T);\n",
"\n",
"// Results\n",
"//  Energy for electron confinement = 3.61e-19 joule\n",
"// Equivalent temperature of the molecules = 1.74e+04 kelvin "
   ]
   }
,
{
		   "cell_type": "markdown",
		   "metadata": {},
		   "source": [
			"## Example 6.9: Temperature_from_Fermi_function.sce"
		   ]
		  },
  {
"cell_type": "code",
	   "execution_count": null,
	   "metadata": {
	    "collapsed": true
	   },
	   "outputs": [],
"source": [
"// Scilab Code Ex 6.9: Page-6.18 (2004)\n",
"clc;clear;\n",
"k = 1.38e-23;       //  Boltzmann constant, joule per kelvin\n",
"T = 300;    // For simplicity room temperature is taken, kelvin\n",
"e = 1.6e-19;    // Charge on electron, C\n",
"E = k*T;    //  Given Energy, eV\n",
"F_E = 1/(1+exp(E/(k*T)));   //Fermi function , unitless\n",
"T = 300;    // For simplicity room temperature is taken, kelvin\n",
"printf('\nFermi fucntion = %5.3f ', F_E);\n",
"\n",
"// Results\n",
"//  Fermi fucntion = 0.269  \n",
""
   ]
   }
],
"metadata": {
		  "kernelspec": {
		   "display_name": "Scilab",
		   "language": "scilab",
		   "name": "scilab"
		  },
		  "language_info": {
		   "file_extension": ".sce",
		   "help_links": [
			{
			 "text": "MetaKernel Magics",
			 "url": "https://github.com/calysto/metakernel/blob/master/metakernel/magics/README.md"
			}
		   ],
		   "mimetype": "text/x-octave",
		   "name": "scilab",
		   "version": "0.7.1"
		  }
		 },
		 "nbformat": 4,
		 "nbformat_minor": 0
}
