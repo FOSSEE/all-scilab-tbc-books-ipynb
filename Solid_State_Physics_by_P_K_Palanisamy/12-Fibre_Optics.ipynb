{
"cells": [
 {
		   "cell_type": "markdown",
	   "metadata": {},
	   "source": [
       "# Chapter 12: Fibre Optics"
	   ]
	},
{
		   "cell_type": "markdown",
		   "metadata": {},
		   "source": [
			"## Example 12.1: Numerical_aperture_and_acceptance_angle_of_optical_fibre.sce"
		   ]
		  },
  {
"cell_type": "code",
	   "execution_count": null,
	   "metadata": {
	    "collapsed": true
	   },
	   "outputs": [],
"source": [
"// Scilab Code Ex12.1: Page-12.6 (2004)\n",
"clc;clear;\n",
"n1 = 1.54;    // Refractive index of fibre core\n",
"n2 = 1.50;    // Refractive index of fibre cladding\n",
"NA = sqrt(n1^2 - n2^2);    // Numerical aperture for optical fibre\n",
"// As sin(theta_a) = sqrt(n1^2 - n2^2), solving for theta_a\n",
"theta_a = asind(sqrt(n1^2 - n2^2));    //  acceptance angle of optical fibre, degrees\n",
"printf('\nNumerical aperture for optical fibre = %5.3f', NA);\n",
"printf('\nThe acceptance angle of optical fibre = %4.1f degrees', theta_a);\n",
"\n",
"// Result\n",
"//  Numerical aperture for optical fibre = 0.349\n",
"//  The acceptance angle of optical fibre = 20.4 degrees \n",
""
   ]
   }
,
{
		   "cell_type": "markdown",
		   "metadata": {},
		   "source": [
			"## Example 12.2: V_and_mode_of_optical_fibre.sce"
		   ]
		  },
  {
"cell_type": "code",
	   "execution_count": null,
	   "metadata": {
	    "collapsed": true
	   },
	   "outputs": [],
"source": [
"// Scilab Code Ex12.2: Page-12.13 (2004)\n",
"clc;clear;\n",
"n1 = 1.53;    // Refractive index of fibre core\n",
"n2 = 1.50;    // Refractive index of fibre cladding\n",
"lamb = 1e-6;   // absolute wavelength. m\n",
"d = 50e-6;  //  radius of core in m\n",
"V = 2*%pi/lamb*d*sqrt(n1^2 - n2^2);    // volume of opical fibre\n",
"N = V^2/2;  //  no. of possible modes\n",
"printf('\nV of opical fibre = %6.2f ', V);\n",
"printf('\nNo. of possible modes = %5.3f ', N);\n",
"\n",
"// Results\n",
"// V of opical fibre =  94.72 \n",
"// No. of possible modes = 4485.735  "
   ]
   }
,
{
		   "cell_type": "markdown",
		   "metadata": {},
		   "source": [
			"## Example 12.3: Loss_in_signal.sce"
		   ]
		  },
  {
"cell_type": "code",
	   "execution_count": null,
	   "metadata": {
	    "collapsed": true
	   },
	   "outputs": [],
"source": [
"// Scilab Code Ex12.3: Page-12.20 (2004)\n",
"clc;clear;\n",
"po = 40;    // Refractive index of fibre core\n",
"pi = 100;    // Refractive index of fibre cladding\n",
"p = po/pi;  // ratio of powers\n",
"L = -10*(log(po/pi));    // Refractive index of medium\n",
"\n",
"printf('\nLoss in dB = %f dB', L);\n",
"\n",
"// Result\n",
"// Loss in dB = 9.162907 dB"
   ]
   }
],
"metadata": {
		  "kernelspec": {
		   "display_name": "Scilab",
		   "language": "scilab",
		   "name": "scilab"
		  },
		  "language_info": {
		   "file_extension": ".sce",
		   "help_links": [
			{
			 "text": "MetaKernel Magics",
			 "url": "https://github.com/calysto/metakernel/blob/master/metakernel/magics/README.md"
			}
		   ],
		   "mimetype": "text/x-octave",
		   "name": "scilab",
		   "version": "0.7.1"
		  }
		 },
		 "nbformat": 4,
		 "nbformat_minor": 0
}
