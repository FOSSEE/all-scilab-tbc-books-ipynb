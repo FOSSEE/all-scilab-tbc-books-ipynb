{
"cells": [
 {
		   "cell_type": "markdown",
	   "metadata": {},
	   "source": [
       "# Chapter 5: Principles of Quantum Mechanics"
	   ]
	},
{
		   "cell_type": "markdown",
		   "metadata": {},
		   "source": [
			"## Example 5.10: Minimum_Energy.sce"
		   ]
		  },
  {
"cell_type": "code",
	   "execution_count": null,
	   "metadata": {
	    "collapsed": true
	   },
	   "outputs": [],
"source": [
"// Scilab Code Ex 5.10 : Page-5.24 (2004)\n",
"clc;clear;\n",
"h = 6.626e-34; // Planck's const, Js\n",
"m = 9.1e-31;    // Mass of electron, kg\n",
"L = 4e-10; //  Side of the box, m\n",
"n1 = 1; //   nx box lowest quantum number\n",
"E = (h^2)/(8*m*(L^2))*((n1)^2);   //Lowest Energy level for electron confinement , in eV\n",
"printf('\nMinimum Energy = %2.3e joule', E);\n",
"\n",
"// Results\n",
"// Minimum Energy  = 3.769e-19 joule"
   ]
   }
,
{
		   "cell_type": "markdown",
		   "metadata": {},
		   "source": [
			"## Example 5.11: Energy_of_ground_and_first_and_second_state.sce"
		   ]
		  },
  {
"cell_type": "code",
	   "execution_count": null,
	   "metadata": {
	    "collapsed": true
	   },
	   "outputs": [],
"source": [
"// Scilab Code Ex 5.11 : Page-5.24 (2004)\n",
"clc;clear;\n",
"h = 6.626e-34; // Planck's const, Js\n",
"m = 9.1e-31;    // Mass of electron in kg\n",
"L = 1e-10; //  Side of the box in m\n",
"n1 = 1; //   Ground state quantum number\n",
"n2 = 2; //  first quantum number\n",
"n3 = 3;     //  second quantum number\n",
"e = 1.6e-19;    // charge on electron, C\n",
"E1 = (h^2)/(8*m*(L^2))*((n1)^2);   //Ground state Energy , joule\n",
"E2 = (h^2)/(8*m*(L^2))*((n2)^2);   //first state Energy , joule\n",
"E3 = (h^2)/(8*m*(L^2))*((n3)^2);   //second state Energy , joule\n",
"\n",
"printf('\nGround state Energy = %2.3e joule', E1);\n",
"printf('\nFirst state Energy = %2.3e joule', E2);\n",
"printf('\nSecond state Energy = %2.3e joule', E3);\n",
"\n",
"\n",
"// Results\n",
"// Ground state Energy = 6.031e-18 joule\n",
"// First state Energy = 2.412e-17 joule\n",
"// Second state Energy = 5.428e-17 joule"
   ]
   }
,
{
		   "cell_type": "markdown",
		   "metadata": {},
		   "source": [
			"## Example 5.12: Velocity_and_energy_of_electron.sce"
		   ]
		  },
  {
"cell_type": "code",
	   "execution_count": null,
	   "metadata": {
	    "collapsed": true
	   },
	   "outputs": [],
"source": [
"// Scilab Code Ex5.12 : Page-5.25 (2004)\n",
"clc;clear;\n",
"h = 6.626e-34;  //  Planck's const in Js\n",
"m = 9.1e-31;  // Mass of the electron in kg\n",
"lam = 1.66e-10;   //  de Broglie wavelength, m\n",
"e = 1.6e-19;    // Charge on electron, C\n",
"v = h/(m*lam);    // Velocity of electron, m/s\n",
"E = (m*v^2)/(2*e);  //  Kinetic energy of the electron in eV\n",
"\n",
"printf('\nVelocity of electron = %d km/s', v/1000);\n",
"printf('\nKinetic energy of the electron = %5.2f eV', E);\n",
"\n",
"// Result \n",
"//  Velocity of electron = 4386 km/s\n",
"//  Kinetic energy of the electron = 54.71 eV "
   ]
   }
,
{
		   "cell_type": "markdown",
		   "metadata": {},
		   "source": [
			"## Example 5.13: Wavelength_of_electron_waves.sce"
		   ]
		  },
  {
"cell_type": "code",
	   "execution_count": null,
	   "metadata": {
	    "collapsed": true
	   },
	   "outputs": [],
"source": [
"// Scilab Code Ex5.13 : Page-5.25 (2004)\n",
"clc;clear;\n",
"V = 15000;    // Accelerating potential, volts\n",
"lam = 12.26/sqrt(V);    // de Broglie wavelength, angstrom\n",
"printf('\nde Broglie wavelength of electron wave = %5.1f angstrom', lam);\n",
"\n",
"// Result \n",
"// de Broglie wavelength of electron wave =   0.1 angstrom"
   ]
   }
,
{
		   "cell_type": "markdown",
		   "metadata": {},
		   "source": [
			"## Example 5.14: Uncertainty_in_momentum_of_electron.sce"
		   ]
		  },
  {
"cell_type": "code",
	   "execution_count": null,
	   "metadata": {
	    "collapsed": true
	   },
	   "outputs": [],
"source": [
"// Scilab Code Ex5.14 : Page-5.26 (2004)\n",
"clc;clear;\n",
"h = 6.62e-34 // Planck's const, Js\n",
"delx = 1e-8 // Uncertainity in position, m\n",
"m = 9.1e-31;    //  Mass of electron, kg\n",
"delv =  h/(m*delx); // Uncertainty in velocity, km/s\n",
"\n",
"printf('\nUncertainty in velocity = %3.2f km/sec', delv/1000);\n",
"\n",
"//Results\n",
"//  Uncertainty in velocity = 72.75 km/sec\n",
"\n",
""
   ]
   }
,
{
		   "cell_type": "markdown",
		   "metadata": {},
		   "source": [
			"## Example 5.1: de_Broglie_wavelength_of_proton.sce"
		   ]
		  },
  {
"cell_type": "code",
	   "execution_count": null,
	   "metadata": {
	    "collapsed": true
	   },
	   "outputs": [],
"source": [
"// Scilab Code Ex5.1 : Page-5.7 (2004)\n",
"clc;clear;\n",
"h = 6.626e-34;  //  Planck's const in Js\n",
"m = 1.67e-27;  // Mass of the proton in kg\n",
"c = 3e+8;    //  Charge of electron in C\n",
"v = c/10;   //  Proton velocity 1/10th of c\n",
"E = 0.025;  //  Kinetic energy of the neutron in J\n",
"lam = h/(m*v);    // de Broglie wavelength in m\n",
"printf('\nde Broglie wavelength = %5.3e m', lam);\n",
"\n",
"// Result \n",
"// de Broglie wavelength = 1.323e-14 m "
   ]
   }
,
{
		   "cell_type": "markdown",
		   "metadata": {},
		   "source": [
			"## Example 5.2: de_Broglie_wavelength_of_electron.sce"
		   ]
		  },
  {
"cell_type": "code",
	   "execution_count": null,
	   "metadata": {
	    "collapsed": true
	   },
	   "outputs": [],
"source": [
"// Scilab Code Ex5.2 : de Broglie wavelength of electron: Page-5.8 (2004)\n",
"clc;clear;\n",
"V = 400;    // Accelerating potential, volts\n",
"lam = 12.26/sqrt(V);    // de Broglie wavelength, angstrom\n",
"printf('\nde Broglie wavelength = %5.3f angstrom', lam);\n",
"\n",
"// Result \n",
"// de Broglie wavelength = 0.613 angstrom \n",
" "
   ]
   }
,
{
		   "cell_type": "markdown",
		   "metadata": {},
		   "source": [
			"## Example 5.3: de_Broglie_wavelength_of_neutron.sce"
		   ]
		  },
  {
"cell_type": "code",
	   "execution_count": null,
	   "metadata": {
	    "collapsed": true
	   },
	   "outputs": [],
"source": [
"// Scilab Code Ex5.3 : Page-5.8 (2004)\n",
"clc;clear;\n",
"h = 6.626e-34;  //  Planck's const in Js\n",
"m = 1.67e-27;  // Mass of the neutron in kg\n",
"e = 1.6e-19;    //  charge of electron in C\n",
"E = 0.025;  //  kinetic energy of the neutron in J\n",
"lam = h/(sqrt(2*m*E*e));    // de Broglie wavelength in m\n",
"printf('\nde Broglie wavelength = %5.3f nm', lam/1e-9);\n",
"\n",
"// Result \n",
"// de Broglie wavelength = 0.181 nm "
   ]
   }
,
{
		   "cell_type": "markdown",
		   "metadata": {},
		   "source": [
			"## Example 5.4: Uncertainty_in_momentum_of_electron.sce"
		   ]
		  },
  {
"cell_type": "code",
	   "execution_count": null,
	   "metadata": {
	    "collapsed": true
	   },
	   "outputs": [],
"source": [
"// Scilab Code Ex5.4 : Uncertainty in momentum of electron: Page-5.13 (2004)\n",
"clc;clear;\n",
"h = 6.62e-34 // Planck's const, Js\n",
"delx = 4e-10 // Uncertainty in position, m\n",
"delp =  h/(delx); // Uncertainity principle\n",
"\n",
"printf('\nUncertainty in momentum = %5.3e kg m/sec', delp);\n",
"\n",
"//Results\n",
"//  Uncertainty in momentum = 1.655000e-24 kg m/sec \n",
""
   ]
   }
,
{
		   "cell_type": "markdown",
		   "metadata": {},
		   "source": [
			"## Example 5.5: Uncertainty_in_velocity_of_electron.sce"
		   ]
		  },
  {
"cell_type": "code",
	   "execution_count": null,
	   "metadata": {
	    "collapsed": true
	   },
	   "outputs": [],
"source": [
"// Scilab Code Ex5.5 : Page-5.13 (2004)\n",
"clc;clear;\n",
"h = 6.62e-34; // Planck's const, Js\n",
"me = 9.1e-31; //Mass of electron, kg\n",
"delx = 1e-9; // Uncertainty in position, m\n",
"delp =  h/(delx); // Uncertainty principle\n",
"delv =  (delp/me); // Uncertainty in velocity, m/sec\n",
"\n",
"printf ('\nUncertainty in velocity = %4.2e m/sec', delv)\n",
"\n",
"// Result\n",
"// Uncertainty in velocity=7.2747e+05 m/sec "
   ]
   }
,
{
		   "cell_type": "markdown",
		   "metadata": {},
		   "source": [
			"## Example 5.6: Uncertainty_in_time.sce"
		   ]
		  },
  {
"cell_type": "code",
	   "execution_count": null,
	   "metadata": {
	    "collapsed": true
	   },
	   "outputs": [],
"source": [
"// Scilab Code Ex 5.6 : Uncertainty in time : Page-5.13 (2004)\n",
"clc;clear;\n",
"h = 6.62e-34; // planck's const, Js\n",
"n1 = 1; //  first state\n",
"n2 = 2; //  second state\n",
"En = (-13.6/n2^2)+(13.6/n1);   //Energy for transition, in eV\n",
"e = 1.6e-19;    //  Charge of electron , C\n",
"E2 = e*En;     // Energy for transition, J\n",
"delE = E2/100; // Uncertainty in position, m\n",
"delt =  h/(delE); // Uncertainty principle\n",
"printf('\nUncertainty in time = %1.3e sec', delt);\n",
"\n",
"// Results\n",
"// Uncertainity in time = 4.056e-14 sec "
   ]
   }
,
{
		   "cell_type": "markdown",
		   "metadata": {},
		   "source": [
			"## Example 5.7: Lowest_Energy_for_electron_confinement.sce"
		   ]
		  },
  {
"cell_type": "code",
	   "execution_count": null,
	   "metadata": {
	    "collapsed": true
	   },
	   "outputs": [],
"source": [
"// Scilab Code Ex 5.7 : Lowest Energy for electron confinement: Page-5.22 (2004)\n",
"clc;clear;\n",
"h = 6.62e-34; // Planck's const, Js\n",
"m = 9.1e-31;    // Mass of electron in kg\n",
"L = 0.1e-9; //  Side of the box in m\n",
"n1 = 1; //   nx box lowest quantum number\n",
"n2 = 1; //   ny box lowest quantum number\n",
"n3 = 1; //   nz box lowest quantum number\n",
"e = 1.6e-19;    // Charge on electron in C\n",
"E = (h^2)/(8*e*m*L^2)*((n1)^2+(n2)^2+(n3)^2);   //Lowest Energy for electron confinement , in eV\n",
"printf('\nLowest Energy for electron confinement = %5.1f eV', E);\n",
"\n",
"\n",
"// Results\n",
"// Lowest Energy for electron confinement = 112.9 eV "
   ]
   }
,
{
		   "cell_type": "markdown",
		   "metadata": {},
		   "source": [
			"## Example 5.8: Next_Lowest_Energy_level_for_electron_confinement.sce"
		   ]
		  },
  {
"cell_type": "code",
	   "execution_count": null,
	   "metadata": {
	    "collapsed": true
	   },
	   "outputs": [],
"source": [
"// Scilab Code Ex 5.8 : Page-5.22 (2004)\n",
"clc;clear;\n",
"h = 6.62e-34; // Planck's constant, Js\n",
"m = 9.1e-31;    // Mass of electron, kg\n",
"L = 0.1e-9; //  Side of the box, m\n",
"n1 = 1; //   nx box lowest quantum number\n",
"n2 = 1; //   ny box lowest quantum number\n",
"n3 = 2; //   nz box lowest quantum number\n",
"e = 1.6e-19;    // Charge on electron, C\n",
"E = (h^2)/(8*e*m*L^2)*((n1)^2+(n2)^2+(n3)^2);   //Lowest Energy level for electron confinement , in eV\n",
"\n",
"printf('\nLowest Energy level for electron confinement = %6.2f eV', E);\n",
"\n",
"// Result\n",
"// Lowest Energy level for electron confinement = 225.74 eV "
   ]
   }
,
{
		   "cell_type": "markdown",
		   "metadata": {},
		   "source": [
			"## Example 5.9: de_Broglie_wavelength_from_energy.sce"
		   ]
		  },
  {
"cell_type": "code",
	   "execution_count": null,
	   "metadata": {
	    "collapsed": true
	   },
	   "outputs": [],
"source": [
"// Scilab Code Ex5.9 : Page-5.23 (2004)\n",
"clc;clear;\n",
"h = 6.626e-34;  //  Planck's const in Js\n",
"m = 9.1e-31;  // Mass of the neutron in kg\n",
"e = 1.6e-19;    //  Charge of electron in C\n",
"E = 2000;  //  Kinetic energy of the neutron in eV\n",
"lam = h/(sqrt(2*m*E*e));    // de Broglie wavelength in m\n",
"printf('\nde Broglie wavelength of electron = %6.4f nm', lam/1e-9);\n",
"\n",
"// Result \n",
"// de Broglie wavelength of electron = 0.0275 nm "
   ]
   }
],
"metadata": {
		  "kernelspec": {
		   "display_name": "Scilab",
		   "language": "scilab",
		   "name": "scilab"
		  },
		  "language_info": {
		   "file_extension": ".sce",
		   "help_links": [
			{
			 "text": "MetaKernel Magics",
			 "url": "https://github.com/calysto/metakernel/blob/master/metakernel/magics/README.md"
			}
		   ],
		   "mimetype": "text/x-octave",
		   "name": "scilab",
		   "version": "0.7.1"
		  }
		 },
		 "nbformat": 4,
		 "nbformat_minor": 0
}
