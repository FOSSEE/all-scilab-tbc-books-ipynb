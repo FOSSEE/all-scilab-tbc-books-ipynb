{
"cells": [
 {
		   "cell_type": "markdown",
	   "metadata": {},
	   "source": [
       "# Chapter 7: Dielectric Properties"
	   ]
	},
{
		   "cell_type": "markdown",
		   "metadata": {},
		   "source": [
			"## Example 7.1: Net_energy_stored_in_capacitor.sce"
		   ]
		  },
  {
"cell_type": "code",
	   "execution_count": null,
	   "metadata": {
	    "collapsed": true
	   },
	   "outputs": [],
"source": [
"// Scilab Code Ex7.1:  Page-7.23 (2004)\n",
"clc;clear;\n",
"C = 2e-6;    // Capacitance, farad\n",
"V = 1000;    // Applied Voltage, volt\n",
"W = C*V^2/2;    // Energy stored in capacitor, joule\n",
"er = 100;   //Electric permittivity\n",
"Co = C/er;  //  New Capacitance without dielectric, farad\n",
"Wo = Co*V^2/2;  //  New Energy without dielectric, farad\n",
"Wt = W-Wo;  // Net energy stored in capacitor, joules\n",
"printf('\nNet energy stored in capacitor = %3.2f joules', Wt);\n",
"\n",
"// Result\n",
"// Net energy stored in capacitor = 0.99 joules "
   ]
   }
,
{
		   "cell_type": "markdown",
		   "metadata": {},
		   "source": [
			"## Example 7.2: Ratio_of_polarizatio.sce"
		   ]
		  },
  {
"cell_type": "code",
	   "execution_count": null,
	   "metadata": {
	    "collapsed": true
	   },
	   "outputs": [],
"source": [
"// Scilab Code Ex7.2:  Page-7.24 (2004)\n",
"clc;clear;\n",
"er = 4.94;   //Electric permittivity\n",
"n = sqrt(2.69); //  Index of refration, unitless\n",
"a = (n^2-1)/(n^2+2);    //  Variable 1\n",
"b = (er-1)/(er+2);  // Variable 2 \n",
"alpha = (b/a)-1;    // Ratio between ionic and electrical polarization\n",
"alp = 1/alpha;      //Ratio between electrical and ionic  polarization\n",
"\n",
"printf('\nRatio between ionic and electrical polarization = %3.3f ', alpha);\n",
"printf('\nRatio between electrical and ionic  polarization = %3.3f ', alp);\n",
"\n",
"// Result\n",
"//  Ratio between ionic and electrical polarization = 0.576 \n",
"//  Ratio between electrical and ionic  polarization = 1.738  "
   ]
   }
,
{
		   "cell_type": "markdown",
		   "metadata": {},
		   "source": [
			"## Example 7.3: Parallel_loss_resistance_and_capacitance.sce"
		   ]
		  },
  {
"cell_type": "code",
	   "execution_count": null,
	   "metadata": {
	    "collapsed": true
	   },
	   "outputs": [],
"source": [
"// Scilab Code Ex7.3:  Page-7.25 (2004)\n",
"clear;clc;\n",
"er = 2.56;   // Relative permittivity\n",
"tan_deta = 0.7e-4;  // Loss tangent\n",
"f = 1e+6;   // frequency, Hz\n",
"er2 = er*tan_deta;  // Imaginary part of relative permittivity\n",
"A = 8e-4;   // Area between plates, squaremetre\n",
"eo = 8.854e-12; //Permittivity of the free space, farad per metre\n",
"w = 2*%pi*f;    // angular frequency, Hz\n",
"d = 0.08e-3;    // Distance between plates, m\n",
"Rp = d/(w*eo*er2*A);    // Parallel loss resistance, ohm\n",
"Cp = A*eo*er/d;         // Capacitance , farad\n",
"\n",
"printf('\nParallel loss resistance = %3.3e ohm', Rp);\n",
"printf('\nCapacitance  = %3.3e farad', Cp);\n",
"\n",
"// Result\n",
"//Parallel loss resistance = 1.003e+07 ohm\n",
"//Capacitance  = 2.267e-10 farad "
   ]
   }
,
{
		   "cell_type": "markdown",
		   "metadata": {},
		   "source": [
			"## Example 7.4: Dielectric_constant_of_the_material.sce"
		   ]
		  },
  {
"cell_type": "code",
	   "execution_count": null,
	   "metadata": {
	    "collapsed": true
	   },
	   "outputs": [],
"source": [
"// Scilab Code Ex7.4:  Page-7.26 (2004)\n",
"clc;clear;\n",
"N = 3e+28;   // Number density, atoms per metrecube\n",
"eo = 8.854e-12; //Permittivity of the free space, farad per metre\n",
"alpha = 10e-40;    // Electrical polarization, farad metresquare\n",
"er = 1+(N*alpha/eo);    // Dielectric constant of the material\n",
"printf('\nDielectric constant of the material = %3.3f ', er);\n",
"\n",
"\n",
"// Result\n",
"//  Dielectric constant of the material = 4.388 "
   ]
   }
,
{
		   "cell_type": "markdown",
		   "metadata": {},
		   "source": [
			"## Example 7.5: Electric_polarizability_of_He_atoms.sce"
		   ]
		  },
  {
"cell_type": "code",
	   "execution_count": null,
	   "metadata": {
	    "collapsed": true
	   },
	   "outputs": [],
"source": [
"// Scilab Code Ex7.5:  Page-7.26 (2004)\n",
"clc;clear;\n",
"N = 2.7e+25;   // Number density, atoms per metrecube\n",
"eo = 8.854e-12; //Permittivity of the free space, farad per metre\n",
"er = 1.0000684;    // Dielectric constant of the material\n",
"alpha = eo*(er-1)/N;    // Electrical polarization, farad metresquare\n",
"\n",
"printf('\nElectrical polarization = %3.3e farad metresquare', alpha);\n",
"\n",
"// Result\n",
"//  Electrical polarization = 2.243e-41 farad metresquare"
   ]
   }
,
{
		   "cell_type": "markdown",
		   "metadata": {},
		   "source": [
			"## Example 7.6: Capacitance_and_charge_on_the_plates.sce"
		   ]
		  },
  {
"cell_type": "code",
	   "execution_count": null,
	   "metadata": {
	    "collapsed": true
	   },
	   "outputs": [],
"source": [
"// Scilab Code Ex7.6:  Page-7.27 (2004)\n",
"clc;clear;\n",
"A = 100e-4;     //  Area of parallel plates, squaremetre\n",
"d = 1e-2;       //  Distance between plates, metre\n",
"eo = 8.854e-12; //  Permittivity of the free space, farad per metre\n",
"V = 100;        // Potential, volt\n",
"C = eo*A/d;     //  Capacitance, farad\n",
"Q = C*V;        // Charge on the plates of capacitor, C\n",
"printf('\nCapacitance = %5.3e F ', C);\n",
"printf('\nCharge on the plates of capacitor = %3.3e C', Q);\n",
"\n",
"// Result\n",
"//  Capacitance = 8.854e-12 F\n",
"//  Charge on the plates of capacitor = 8.854e-10 C "
   ]
   }
,
{
		   "cell_type": "markdown",
		   "metadata": {},
		   "source": [
			"## Example 7.7: Electric_polarizability_of_sulphur_atoms.sce"
		   ]
		  },
  {
"cell_type": "code",
	   "execution_count": null,
	   "metadata": {
	    "collapsed": true
	   },
	   "outputs": [],
"source": [
"// Scilab Code Ex7.7:  Page-7.28 (2004)\n",
"clc;clear;\n",
"N = 385.66e+26;   // Number density, atoms per metrecube\n",
"eo = 8.854e-12; //Permittivity of the free space, farad per metre\n",
"er = 3.75;    // Dielectric constant of the material\n",
"alpha = 3*eo*(er-1)/(N*(er+2)); // Electric polarizability of sulphur atoms\n",
"printf('\nElectric polarizability of sulphur atoms = %3.3e farad metresquare', alpha);\n",
"\n",
"// Result\n",
"//  Electric polarizability of sulphur atoms = 3.294e-40 farad metresquare "
   ]
   }
],
"metadata": {
		  "kernelspec": {
		   "display_name": "Scilab",
		   "language": "scilab",
		   "name": "scilab"
		  },
		  "language_info": {
		   "file_extension": ".sce",
		   "help_links": [
			{
			 "text": "MetaKernel Magics",
			 "url": "https://github.com/calysto/metakernel/blob/master/metakernel/magics/README.md"
			}
		   ],
		   "mimetype": "text/x-octave",
		   "name": "scilab",
		   "version": "0.7.1"
		  }
		 },
		 "nbformat": 4,
		 "nbformat_minor": 0
}
