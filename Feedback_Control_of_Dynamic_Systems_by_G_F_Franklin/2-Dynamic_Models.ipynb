{
"cells": [
 {
		   "cell_type": "markdown",
	   "metadata": {},
	   "source": [
       "# Chapter 2: Dynamic Models"
	   ]
	},
{
		   "cell_type": "markdown",
		   "metadata": {},
		   "source": [
			"## Example 2.1_b: step_response_of_Cruise_control_system.sce"
		   ]
		  },
  {
"cell_type": "code",
	   "execution_count": null,
	   "metadata": {
	    "collapsed": true
	   },
	   "outputs": [],
"source": [
"//Example 2.1\n",
"//(b) step response of Cruise control system\n",
"\n",
"xdel(winsid())//close all graphics Windows\n",
"clear;\n",
"clc;\n",
"\n",
"//------------------------------------------------------------------\n",
"//Cruise control parameters\n",
"m=1000;\n",
"b=50;\n",
"u=500;\n",
"\n",
"// Transfer function\n",
"s=%s; // or \n",
"s=poly(0,'s');\n",
"sys=syslin('c',(1/m)/(s+b/m))\n",
"\n",
"//step response to u=500;\n",
"t=0:0.5:100;\n",
"v=csim('step',t,u*sys);\n",
"plot2d(t,v,2)\n",
"\n",
"//Title, labels and grid to the figure\n",
"exec .\fig_settings.sci; //custom script for setting figure properties\n",
"title('Responses of car velocity to a step in u','fontsize',3)\n",
"xlabel('Time t (sec.)','fontsize',2)\n",
"ylabel('Amplitude','fontsize',2)\n",
"\n",
"//------------------------------------------------------------------"
   ]
   }
,
{
		   "cell_type": "markdown",
		   "metadata": {},
		   "source": [
			"## Example 2.5_b: step_response_of_pendulum.sce"
		   ]
		  },
  {
"cell_type": "code",
	   "execution_count": null,
	   "metadata": {
	    "collapsed": true
	   },
	   "outputs": [],
"source": [
"//Example 2.5\n",
"//(b) step response of pendulum\n",
"\n",
"xdel(winsid())//close all graphics Windows\n",
"clear;\n",
"clc;\n",
"\n",
"//------------------------------------------------------------------\n",
"//Pendulum parameters\n",
"m=0.5;\n",
"l=1;\n",
"g=9.81;\n",
"\n",
"// Transfer function\n",
"s=%s;\n",
"sys=syslin('c',(1/(m*l^2))/(s^2+g/l));\n",
"\n",
"//step response to u=500;\n",
"t=0:0.02:10;\n",
"theta=csim('step',t,sys);\n",
"plot(t,theta*57.3);\n",
"\n",
"//Title, labels and grid to the figure\n",
"exec .\fig_settings.sci; // custom script to set figure properties\n",
"title('Response of pendulum to a step input in the applied torque',...\n",
"'fontsize',3);\n",
"xlabel('Time t (sec.)','fontsize',2);\n",
"ylabel('Pendulum angle (degree)','fontsize',2);\n",
"\n",
"//------------------------------------------------------------------"
   ]
   }
],
"metadata": {
		  "kernelspec": {
		   "display_name": "Scilab",
		   "language": "scilab",
		   "name": "scilab"
		  },
		  "language_info": {
		   "file_extension": ".sce",
		   "help_links": [
			{
			 "text": "MetaKernel Magics",
			 "url": "https://github.com/calysto/metakernel/blob/master/metakernel/magics/README.md"
			}
		   ],
		   "mimetype": "text/x-octave",
		   "name": "scilab",
		   "version": "0.7.1"
		  }
		 },
		 "nbformat": 4,
		 "nbformat_minor": 0
}
