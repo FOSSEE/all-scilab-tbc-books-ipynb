{
"cells": [
 {
		   "cell_type": "markdown",
	   "metadata": {},
	   "source": [
       "# Chapter 3: Dynamic Responses"
	   ]
	},
{
		   "cell_type": "markdown",
		   "metadata": {},
		   "source": [
			"## Example 3.10: Incorrect_use_of_final_value_theorem.sce"
		   ]
		  },
  {
"cell_type": "code",
	   "execution_count": null,
	   "metadata": {
	    "collapsed": true
	   },
	   "outputs": [],
"source": [
"//Example 3.10\n",
"\n",
"//Computing final value for unstable system to show the incorrect \n",
"// use of final value theorem.\n",
"clear;\n",
"clc;\n",
"//------------------------------------------------------------------\n",
"s=poly(0,'s');\n",
"num=3;\n",
"den=s*(s-2);\n",
"Ys=syslin('c',num/den);\n",
"\n",
"//final value theorem, lim s-->0 in s*Y(s)\n",
"Y_final=horner(s*Ys,0);\n",
"disp(Y_final,'The final value of the output y is:');\n",
"disp('The final value computed is incorrect as the system...\n",
" response is unbounded');\n",
"//------------------------------------------------------------------"
   ]
   }
,
{
		   "cell_type": "markdown",
		   "metadata": {},
		   "source": [
			"## Example 3.11: DC_gain_of_the_system.sce"
		   ]
		  },
  {
"cell_type": "code",
	   "execution_count": null,
	   "metadata": {
	    "collapsed": true
	   },
	   "outputs": [],
"source": [
"//Example 3.11\n",
"//Computing DC gain of the system.\n",
"\n",
"clear;\n",
"clc;\n",
"//------------------------------------------------------------------\n",
"//Transfer Function\n",
"s=poly(0,'s');\n",
"num=3*(s+2);\n",
"den=(s^2+2*s+10);\n",
"Ys=syslin('c',num/den);\n",
"\n",
"//The DC gain of the system Y(s) as s-->0 is\n",
"DC_Gain=horner(Ys,0)\n",
"disp(DC_Gain,'The DC gain of the system is:')\n",
"//------------------------------------------------------------------"
   ]
   }
,
{
		   "cell_type": "markdown",
		   "metadata": {},
		   "source": [
			"## Example 3.14: Partial_fraction_expansion_for_distinct_real_roots.sce"
		   ]
		  },
  {
"cell_type": "code",
	   "execution_count": null,
	   "metadata": {
	    "collapsed": true
	   },
	   "outputs": [],
"source": [
"//Example 3.14\n",
"//Partial fraction expansion for distinct real roots\n",
"clear;\n",
"clc;\n",
"//------------------------------------------------------------------\n",
"// Transfer function\n",
"s=%s;\n",
"num=2;\n",
"p1=(s+1);\n",
"p2=(s+2);\n",
"p3=(s+4);\n",
"sys=syslin('c',num/(p1*p2*p3))\n",
"\n",
"//Partial fraction expansion is: sys= r1/p1 + r2/p2 + r3/p3\n",
"//residue calculation\n",
"r1=residu(num,p1,(p2*p3))\n",
"r2=residu(num,p2,(p1*p3))\n",
"r3=residu(num,p3,(p1*p2))\n",
"\n",
"disp([r1 r2 r3]','Residues of the poles p1, p2 and p3 are')\n",
"disp([roots(p1), roots(p2), roots(p3)]','Poles p1, p2 and p3 are at')\n",
"disp('k=[]')\n",
"//------------------------------------------------------------------"
   ]
   }
,
{
		   "cell_type": "markdown",
		   "metadata": {},
		   "source": [
			"## Example 3.15: Cruise_Control_Transfer_Function.sce"
		   ]
		  },
  {
"cell_type": "code",
	   "execution_count": null,
	   "metadata": {
	    "collapsed": true
	   },
	   "outputs": [],
"source": [
"//Example 3.15 Cruise Control Transfer Function.\n",
"//Coefficients of numerator and denominator of the transfer function\n",
"\n",
"clear;\n",
"clc;\n",
"//------------------------------------------------------------------\n",
"// Transfer function coefficients\n",
"num=[0.001 0];\n",
"den=[0 0.05 1];\n",
"\n",
"// Transfer function\n",
"Ns=poly(num,'s','coeff');\n",
"Ds=poly(den,'s','coeff');\n",
"sys=syslin('c',Ns/Ds);\n",
"\n",
"//gain (K) pole (P) and zeros (Z) of the system\n",
"temp=polfact(Ns);\n",
"Z=roots(Ns); //locations of zeros\n",
"P=roots(Ds); //locations of poles\n",
"K=temp(1); //first entry is always gain\n",
"disp( K,'Gain', P, 'Poles',Z,'Zeros',)\n",
"\n",
"//------------------------------------------------------------------"
   ]
   }
,
{
		   "cell_type": "markdown",
		   "metadata": {},
		   "source": [
			"## Example 3.16: DC_Motor_Transfer_Function.sce"
		   ]
		  },
  {
"cell_type": "code",
	   "execution_count": null,
	   "metadata": {
	    "collapsed": true
	   },
	   "outputs": [],
"source": [
"//Example 3.16 DC Motor Transfer Function.\n",
"\n",
"xdel(winsid())//close all graphics Windows\n",
"clear;\n",
"clc;\n",
"//------------------------------------------------------------------\n",
"//Coefficients of numerator and denominator of the transfer function\n",
"numb=[100];\n",
"denb=[0 101 10.1 1];\n",
"\n",
"// Transfer function\n",
"Ns=poly(numb,'s','coeff');\n",
"Ds=poly(denb,'s','coeff');\n",
"sysb=syslin('c',Ns/Ds);\n",
"\n",
"//gain (K) pole (P) and zeros (Z) of the system\n",
"temp=polfact(Ns);\n",
"Z=roots(Ns); //locations of zeros\n",
"P=roots(Ds); //locations of poles\n",
"K=temp(1); //first entry is always gain\n",
"disp( K,'Gain', P, 'Poles',Z,'Zeros',)\n",
"\n",
"//Transient response of DC Motor (consider velocity as output)\n",
"s=%s;\n",
"t=linspace(0,5,501);\n",
"y=csim('step',t,sysb*s) \n",
"plot(t,y)\n",
"exec .\fig_settings.sci; //custom script for setting figure properties\n",
"title('Transient response of DC Motor','fontsize',3)\n",
"xlabel('$Time\,\, t(sec.)$','fontsize',3)\n",
"ylabel('$\omega\,\,(rad/sec)$','fontsize',3)\n",
"//------------------------------------------------------------------"
   ]
   }
,
{
		   "cell_type": "markdown",
		   "metadata": {},
		   "source": [
			"## Example 3.17: Transformations.sce"
		   ]
		  },
  {
"cell_type": "code",
	   "execution_count": null,
	   "metadata": {
	    "collapsed": true
	   },
	   "outputs": [],
"source": [
"//Example 3.17 Transformations\n",
"\n",
"clear;\n",
"clc;\n",
"//-------------------------------------------------------------------\n",
"//Coefficients of numerator and denominator of the transfer function\n",
"numG=[9 3];\n",
"denG=[25 6 1];\n",
"\n",
"// Transfer function\n",
"Ns=poly(numG,'s','coeff');\n",
"Ds=poly(denG,'s','coeff');\n",
"sysG=syslin('c',Ns/Ds);\n",
"\n",
"//gain (K) pole (P) and zeros (Z) of the system\n",
"temp=polfact(Ns);\n",
"Z=roots(Ns); //locations of zeros\n",
"P=roots(Ds); //locations of poles\n",
"K=temp(1); //first entry is always gain\n",
"disp( K,'Gain', P, 'Poles',Z,'Zeros',)\n",
"//------------------------------------------------------------------"
   ]
   }
,
{
		   "cell_type": "markdown",
		   "metadata": {},
		   "source": [
			"## Example 3.18: Satellite_Transfer_Function.sce"
		   ]
		  },
  {
"cell_type": "code",
	   "execution_count": null,
	   "metadata": {
	    "collapsed": true
	   },
	   "outputs": [],
"source": [
"//Example 3.18 Satellite Transfer Function\n",
"\n",
"xdel(winsid())//close all graphics Windows\n",
"clear;\n",
"clc;\n",
"//------------------------------------------------------------------\n",
"//(a)\n",
"//Given\n",
"d=1 //meters\n",
"I=5000 //Kg-meter^2\n",
"\n",
"//Coefficients of numerator and denominator of the transfer function\n",
"// of satellite\n",
"numG=[d/I 0];\n",
"denG=[0 0 1];\n",
"\n",
"// Transfer function\n",
"Ns=poly(numG,'s','coeff');\n",
"Ds=poly(denG,'s','coeff');\n",
"sysG=syslin('c',Ns/Ds);\n",
"t=0:0.01:10;\n",
"[i j]=size(t);\n",
"\n",
"//------------------------------------------------------------------\n",
"//(b)\n",
"// Thrust input after 5 sec.\n",
"u=zeros(1,j);\n",
"w=find(t>=5 & t<=5+0.1);\n",
"u(w)=25;\n",
"plot(t,u);\n",
"exec .\fig_settings.sci; //custom script for setting figure properties\n",
"title('Transient response of the satellite...\n",
" (a) Thrust input','fontsize',3);\n",
"xlabel('Time t (sec.)','fontsize',2)\n",
"ylabel('Fc','fontsize',2)\n",
"\n",
"//Transient response of the satellite to the thrust input as a pulse \n",
"sysd=dscr(sysG,0.01); //sample data system model\n",
"y=flts(u,sysd);        //impulse response \n",
"figure, plot(t,y*180/%pi);\n",
"exec .\fig_settings.sci; //custom script for setting figure properties\n",
"title('Transient response of the satellite(double-pulse)...\n",
" (b) satellite attitude','fontsize',3);\n",
"xlabel('Time t (sec.)','fontsize',2)\n",
"ylabel('$\theta(deg)$','fontsize',2)\n",
"//------------------------------------------------------------------\n",
"// Thrust input double-pulse.\n",
"u=zeros(1,j);\n",
"w1=find(t>=5 & t<=5+0.1);\n",
"u(w1)=25;\n",
"w2=find(t>=6.1 & t<=6.1+0.1);\n",
"u(w2)=-25;\n",
"figure,\n",
"plot(t,u);\n",
"exec .\fig_settings.sci; //custom script for setting figure properties\n",
"title('Transient response of the satellite (double-pulse)...\n",
" (a) Thrust input','fontsize',3);\n",
"xlabel('Time t (sec.)','fontsize',2)\n",
"ylabel('Fc','fontsize',2)\n",
"\n",
"//Transient response of the satellite to the thrust input as a pulse \n",
"sysd=dscr(sysG,0.01); //sample data system model\n",
"y=flts(u,sysd);        //impulse response \n",
"figure, plot(t,y*180/%pi);\n",
"exec .\fig_settings.sci; //custom script for setting figure properties\n",
"title('Transient response of the satellite(double-pulse)...\n",
" (b) satellite attitude','fontsize',3);\n",
"xlabel('Time t (sec.)','fontsize',2)\n",
"ylabel('$\theta(deg)$','fontsize',2)\n",
"\n",
"//------------------------------------------------------------------"
   ]
   }
,
{
		   "cell_type": "markdown",
		   "metadata": {},
		   "source": [
			"## Example 3.21: Transfer_function_of_a_simple_system.sce"
		   ]
		  },
  {
"cell_type": "code",
	   "execution_count": null,
	   "metadata": {
	    "collapsed": true
	   },
	   "outputs": [],
"source": [
"//Example 3.21\n",
"//Series, Parallel and Feedback connections of TF blocks \n",
"//to get effective TF.\n",
"\n",
"clear;\n",
"clc;\n",
"//------------------------------------------------------------------\n",
"//Transfer function block G1\n",
"num1=[2];\n",
"den1=[1];\n",
"Ns=poly(num1,'s','coeff');\n",
"Ds=poly(den1,'s','coeff');\n",
"sysG1=syslin('c',Ns/Ds);\n",
"\n",
"//Transfer function block G2\n",
"num2=[4];\n",
"den2=[0 1];\n",
"Ns=poly(num2,'s','coeff');\n",
"Ds=poly(den2,'s','coeff'); \n",
"sysG2=syslin('c',Ns/Ds);\n",
"\n",
"//Transfer function block G4\n",
"num4=[1];\n",
"den4=[0 1];\n",
"Ns=poly(num4,'s','coeff');\n",
"Ds=poly(den4,'s','coeff');\n",
"sysG4=syslin('c',Ns/Ds);\n",
"\n",
"//Transfer function block G6\n",
"num6=[1];\n",
"den6=[1];\n",
"Ns=poly(num6,'s','coeff');\n",
"Ds=poly(den6,'s','coeff');\n",
"sysG6=syslin('c',Ns/Ds);\n",
"\n",
"//Effective transfer function\n",
"// (+) operator for paralle connection, \n",
"// (*) operator for series connection\n",
"// (/.)operator for feedback connection\n",
"sysG=(sysG1 + sysG2) * sysG4 /. sysG6\n",
"disp(sysG, 'The effective transfer function is')\n",
"//------------------------------------------------------------------"
   ]
   }
,
{
		   "cell_type": "markdown",
		   "metadata": {},
		   "source": [
			"## Example 3.22: Response_Versus_Pole_Locations_Real_Roots.sce"
		   ]
		  },
  {
"cell_type": "code",
	   "execution_count": null,
	   "metadata": {
	    "collapsed": true
	   },
	   "outputs": [],
"source": [
"//Example 3.22 Response Versus Pole Locations, Real Roots\n",
"\n",
"xdel(winsid())//close all graphics Windows\n",
"clear;\n",
"clc;\n",
"//------------------------------------------------------------------\n",
"//Transfer function\n",
"numH=[1 2];\n",
"denH=[2 3 1];\n",
"Ns=poly(numH,'s','coeff');\n",
"Ds=poly(denH,'s','coeff');\n",
"sysH=syslin('c',Ns/Ds);\n",
"\n",
"//Pole-zero locations\n",
"//Partial fraction method to see the effect of sperated poles\n",
"temp=polfact(Ds);\n",
"p1s=temp(2);\n",
"p2s=temp(3);\n",
"\n",
"//residues at poles\n",
"r1=residu(Ns,p1s,p2s);\n",
"r2=residu(Ns,p2s,p1s);\n",
"\n",
"//Note that - H1(s)+H2(s)=H(s)\n",
"H1s=syslin('c',r1/p1s);\n",
"H2s=syslin('c',r2/p2s);\n",
"\n",
"//impulse response of the H1(s), H2(s) and H(s)\n",
"t=0:0.02:10;\n",
"h1=csim('impuls',t,H1s);\n",
"h2=csim('impuls',t,H2s);\n",
"h=csim('impuls',t,sysH);\n",
"figure, \n",
"plot(t,h1,'r--',t,h2,'m-.', t, h, 'b')\n",
"plot(t,h2,'m-.')\n",
"plot(t,h)\n",
"\n",
"exec .\fig_settings.sci; //custom script for setting figure properties\n",
"title(['impulse response of the system and subsystems with...\n",
" independent poles.';'(h1(t) is faster than h2(t))'],'fontsize',3)\n",
"xlabel('Time t (sec.)','fontsize',2)\n",
"ylabel('h(t), h1(t), h2(t)','fontsize',2)\n",
"h=legend('h1(t) with pole at -2','h2(t) with pole at -1'...\n",
",'h(t)=h1(t)+h2(t)')\n",
"h.legend_location = 'in_upper_right'\n",
"h.fill_mode='off'\n",
"//------------------------------------------------------------------"
   ]
   }
,
{
		   "cell_type": "markdown",
		   "metadata": {},
		   "source": [
			"## Example 3.23: Oscillatory_Time_Response.sce"
		   ]
		  },
  {
"cell_type": "code",
	   "execution_count": null,
	   "metadata": {
	    "collapsed": true
	   },
	   "outputs": [],
"source": [
"//Example 3.23 Oscillatory Time Response\n",
"\n",
"xdel(winsid())//close all graphics Windows\n",
"clear;\n",
"clc;\n",
"//------------------------------------------------------------------\n",
"//Transfer function of second order underdamped system\n",
"numH=[1 2];\n",
"denH=[5 2 1];\n",
"Ns=poly(numH,'s','coeff');\n",
"Ds=poly(denH,'s','coeff');\n",
"sysH=syslin('c',Ns/Ds);\n",
"\n",
"//damping factor (xi) and natural frequency (wn)\n",
"[wn xi]=damp(sysH);\n",
"wn=wn(1);\n",
"xi=xi(1);\n",
"sigma=xi*wn;\n",
"wd=wn*sqrt(1-xi^2);\n",
"\n",
"//denominator in sigma-wn form H(s)=H1(s)+H2(s)\n",
"s=%s;\n",
"p=(s+sigma)^2+wd^2\n",
"temp=polfact(Ns);\n",
"k=temp(1),zr=temp(2);\n",
"h1=(s+sigma)/p;\n",
"h2=-((s+sigma)-temp(2))*wd/p;\n",
"H1s=syslin('c',k*h1);\n",
"H2s=syslin('c',k*h2/wd);\n",
"\n",
"// responses with exponential envelope\n",
"Env=syslin('c',k/(s+sigma));\n",
"t=0:0.02:10;\n",
"//impulse response\n",
"ht=csim('impuls',t,sysH);\n",
"envt=csim('impuls',t,Env);\n",
"envt_neg=csim('impuls',t,-Env);\n",
"\n",
"plot(t,ht)\n",
"plot(t,envt,'r--')\n",
"plot(t,envt_neg,'r--')\n",
"exec .\fig_settings.sci; //custom script for setting figure properties\n",
"title('Impulse response of the underdamped system','fontsize',3)\n",
"xlabel('Time t (sec.)','fontsize',2)\n",
"ylabel('h(t)','fontsize',2)\n",
"xset('font',1,2)\n",
"xstring(1,0.75,'$e^{-\sigma t}$',0,0)\n",
"xstring(1,-0.85,'$-e^{-\sigma t}$',0,0)\n",
"//------------------------------------------------------------------"
   ]
   }
,
{
		   "cell_type": "markdown",
		   "metadata": {},
		   "source": [
			"## Example 3.25: Aircraft_Response.sce"
		   ]
		  },
  {
"cell_type": "code",
	   "execution_count": null,
	   "metadata": {
	    "collapsed": true
	   },
	   "outputs": [],
"source": [
"//Example 3.25 Aircraft Response\n",
"xdel(winsid())//close all graphics Windows\n",
"clear;\n",
"clc;\n",
"//------------------------------------------------------------------\n",
"//(a)impulse response of aircraft\n",
"\n",
"//Transfer function of aircraft\n",
"numG=[-6 1];\n",
"denG=[0 13 4 1];\n",
"Ns=30*poly(numG,'s','coeff');\n",
"Ds=poly(denG,'s','coeff');\n",
"u=-1 //impulsive elevator input of 1 degree\n",
"sysG=syslin('c',u*Ns/Ds);\n",
"\n",
"//impulse response\n",
"t=0:0.02:10;\n",
"gt=csim('impuls',t,sysG);\n",
"plot(t,gt)\n",
"exec .\fig_settings.sci; //custom script for setting figure properties\n",
"title('Response of an airplanes altitude to an impulsive elevator input','fontsize',3)\n",
"xlabel('Time (sec.)','fontsize',2)\n",
"ylabel('Altitude (ft)','fontsize',2)\n",
"\n",
"//final value theorem, lim s-->0 in s*G(s)\n",
"s=%s;\n",
"gt_final=horner(s*sysG,0)\n",
"disp(gt_final,'The final value of the output altitude is:')\n",
"//------------------------------------------------------------------\n",
"//(b)response specifications\n",
"\n",
"//damping factor (xi) and natural frequency (wn)\n",
"[wn xi]=damp(sysG);\n",
"wn=wn(2);//natural frequency (wn)\n",
"xi=xi(2);//damping factor\n",
"disp(wn,xi,'Damping factor and natural frequency (rad)...\n",
" of the response are:')\n",
"\n",
"tr=1.8/wn; //rise time\n",
"disp(tr,'Rise time (sec) of the response is:')\n",
"\n",
"sigma=xi*wn\n",
"ts=4.6/sigma; //settling time\n",
"disp(ts,'Settling time (sec) of the response is:')\n",
"\n",
"Mp=exp(-xi*%pi/sqrt(1-xi^2))\n",
"wd=wn*sqrt(1-xi^2);\n",
"tp=%pi/wd;\n",
"disp(tp, Mp,'Overshoot and time of overshoot (sec)...\n",
" in the response are:')\n",
"\n",
"//------------------------------------------------------------------"
   ]
   }
,
{
		   "cell_type": "markdown",
		   "metadata": {},
		   "source": [
			"## Example 3.29: Stability_versus_parameter_range.sce"
		   ]
		  },
  {
"cell_type": "code",
	   "execution_count": null,
	   "metadata": {
	    "collapsed": true
	   },
	   "outputs": [],
"source": [
"//Example 3.29 \n",
"//Stability versus parameter range\n",
"\n",
"xdel(winsid())//close all graphics Windows\n",
"clear;\n",
"clc;\n",
"//------------------------------------------------------------------\n",
"//Stability versus parameter range\n",
"\n",
"numT=[-1];//zeros\n",
"denT=[1 0 -6];//poles\n",
"Ns=poly(numT,'s','roots');\n",
"Ds=poly(denT,'s','roots'); \n",
"Gfs=syslin('c',Ns/Ds); //forward transfer function block\n",
"\n",
"num=[1];\n",
"den=[1 0];\n",
"Ns=poly(num,'s','coeff');\n",
"Ds=poly(den,'s','coeff');\n",
"Hs=syslin('c',Ns/Ds); //feedback transfer function block\n",
"\n",
"//check the step responses with the forward path gain K=7.5, 13, 25\n",
"t=0:0.02:12;\n",
"i=1;\n",
"\n",
"for K=[7.5, 13, 25]\n",
"    sysT= (K * Gfs) /. Hs;\n",
"    yt(i,:)=csim('step',t,sysT);\n",
"    i=i+1;\n",
"end\n",
"//Step response\n",
"plot(t',yt')\n",
"exec .\fig_settings.sci; //custom script for setting figure properties\n",
"title('Transient response for different values of K','fontsize',3);\n",
"xlabel('Time t (sec.)','fontsize',2)\n",
"ylabel('y(t)','fontsize',2)\n",
"h=legend('K=7.5','K=13', 'K=25')\n",
"h.legend_location = 'in_upper_right'\n",
"h.fill_mode='off'\n",
"//------------------------------------------------------------------"
   ]
   }
,
{
		   "cell_type": "markdown",
		   "metadata": {},
		   "source": [
			"## Example 3.30: Stability_versus_two_parameter_ranges.sce"
		   ]
		  },
  {
"cell_type": "code",
	   "execution_count": null,
	   "metadata": {
	    "collapsed": true
	   },
	   "outputs": [],
"source": [
"//Example 3.30\n",
"//Stability versus two parameter ranges\n",
"xdel(winsid())//close all graphics Windows\n",
"clear;\n",
"clc;\n",
"//------------------------------------------------------------------\n",
"//Stability versus parameter ranges\n",
"\n",
"num=[1 0];//zeros\n",
"den=[-1 -2];//poles\n",
"Ns=poly(num,'s','coeff');\n",
"Ds=poly(den,'s','roots'); \n",
"Gfs=syslin('c',Ns/Ds); //forward transfer function block\n",
"\n",
"num=[1];\n",
"den=[1 0];\n",
"Ns=poly(num,'s','coeff');\n",
"Ds=poly(den,'s','coeff');\n",
"Hs=syslin('c',Ns/Ds); //feedback transfer function block\n",
"\n",
"//check the step responses with the forward, path gain K=7.5, 13, 25\n",
"t=0:0.02:12;\n",
"i=1;\n",
"num=[5 10;1 1;0 1];\n",
"\n",
"for i=1:3\n",
"    den=[0 1];\n",
"    Ns=poly(num(i,:),'s','coeff');\n",
"    Ds=poly(den,'s','coeff');\n",
"    Gcs=syslin('c',Ns/Ds); //Controller transfer function block\n",
"    sysT= Gcs * Gfs /. Hs;\n",
"    yt(i,:)=csim('step',t,sysT);\n",
"    i=i+1;\n",
"end\n",
"\n",
"//Transient response for different values of K and Ki\n",
"plot(t',yt')\n",
"exec .\fig_settings.sci; //custom script for setting figure properties\n",
"title('Transient response for the system','fontsize',3);\n",
"xlabel('Time t (sec.)','fontsize',2)\n",
"ylabel('y(t)','fontsize',2)\n",
"xset('font',1,1)\n",
"xstring(1.4,1.05,'$K=10,K_I=5$');\n",
"xstring(3.3,0.8,'$K=1,K_I=1$');\n",
"xstring(5.5,0.35,'$K=1,K_I=0$') \n",
"//------------------------------------------------------------------"
   ]
   }
,
{
		   "cell_type": "markdown",
		   "metadata": {},
		   "source": [
			"## Example 3.4: Frequency_response.sce"
		   ]
		  },
  {
"cell_type": "code",
	   "execution_count": null,
	   "metadata": {
	    "collapsed": true
	   },
	   "outputs": [],
"source": [
"//Example 3.4\n",
"//Frequency response\n",
"\n",
"xdel(winsid())//close all graphics Windows\n",
"clear;\n",
"clc;\n",
"//------------------------------------------------------------------\n",
"//(a) Frequency response of 1/(s+k)\n",
"k=1;\n",
"fmin=1e-2;\n",
"fmax=1e2;\n",
"// Transfer function\n",
"s=poly(0,'s');\n",
"sysH=syslin('c',1/(s+k))\n",
"\n",
"//Frequency response for k=1 \n",
"//Note that - magnitude plot semilog plot unlike log-log plot in the book.\n",
"bode(sysH,fmin,fmax)\n",
"title('Frequency response for k=1','fontsize',3)\n",
"\n",
"//------------------------------------------------------------------\n",
"//(b) Response to u=sin(10*t);\n",
"t=0:0.02:10;\n",
"u=sin(10*t);\n",
"y=csim(u,t,sysH);\n",
"figure, plot(t,y)\n",
"\n",
"//Title, labels and grid to the figure\n",
"exec .\fig_settings.sci; // custom script for setting figure properties\n",
"title('Complete transient response','fontsize',3)\n",
"xlabel('Time (sec.)','fontsize',2)\n",
"ylabel('Output','fontsize',2)\n",
"\n",
"//phase lag\n",
"figure, plot(t,y)\n",
"plot(t,u,'r')\n",
"zoom_rect([9 -1 10 1])\n",
"exec .\fig_settings.sci; // custom script for setting figure properties\n",
"title('Phase lag between output and input','fontsize',3)\n",
"xlabel('Time (sec.)','fontsize',2)\n",
"ylabel('Output, Input','fontsize',2)\n",
"h=legend('y(t)','u(t)')\n",
"h.legend_location = 'in_upper_right'\n",
"h.fill_mode='off'\n",
"\n",
"// time lag\n",
"w=find(t>=9.4 & t<=10);\n",
"T=t(w);\n",
"Y=y(w);\n",
"U=u(w);\n",
"wu=find(U==max(U))\n",
"wy=find(Y==max(Y))\n",
"\n",
"//Responses\n",
"plot2d3(T(wy),Y(wy))\n",
"plot2d3(T(wu),U(wu))\n",
"delta_t=T(wu)-T(wy); //time lag sec.\n",
"xstring(9.64,-0.1,'$\delta t$',0,0)\n",
"xarrows([9.58;9.72], [0;0], 0.7, 1)\n",
"xarrows([9.72;9.58], [0;0], 0.7, 1)\n",
"t=get('hdl') \n",
"disp(abs(delta_t), 'Time lag of output in sec. is')\n",
"disp(abs(delta_t)*10, 'Phase lag of output in radians is')\n",
"\n",
"//------------------------------------------------------------------"
   ]
   }
,
{
		   "cell_type": "markdown",
		   "metadata": {},
		   "source": [
			"## Example 3.8: Partial_fraction_expansion_for_distinct_real_roots.sce"
		   ]
		  },
  {
"cell_type": "code",
	   "execution_count": null,
	   "metadata": {
	    "collapsed": true
	   },
	   "outputs": [],
"source": [
"//Example 3.8\n",
"//Partial fraction expansion for distinct real roots.\n",
"\n",
"clear;\n",
"clc;\n",
"//------------------------------------------------------------------\n",
"//Partial fraction expansion for distinct real roots\n",
"// Transfer function\n",
"s=%s;\n",
"num=(s+2)*(s+4)\n",
"p1=s;\n",
"p2=(s+1);\n",
"p3=(s+3);\n",
"sys=syslin('c',num/(p1*p2*p3))\n",
"//------------------------------------------------------------------\n",
"//Partial fraction expansion is: sys= r1/p1 + r2/p2 + r3/p3\n",
"//residue calculation\n",
"r1=residu(num,p1,(p2*p3))\n",
"r2=residu(num,p2,(p1*p3))\n",
"r3=residu(num,p3,(p1*p2))\n",
"\n",
"disp([r1 r2 r3]','Residues of the poles p1, p2 and p3 are')\n",
"disp([roots(p1), roots(p2), roots(p3)]','Poles p1, p2 and p3 are at')\n",
"disp('k=[]')\n",
"\n",
"//------------------------------------------------------------------"
   ]
   }
,
{
		   "cell_type": "markdown",
		   "metadata": {},
		   "source": [
			"## Example 3.9: Final_value_theorem.sce"
		   ]
		  },
  {
"cell_type": "code",
	   "execution_count": null,
	   "metadata": {
	    "collapsed": true
	   },
	   "outputs": [],
"source": [
"//Example 3.9\n",
"//Computing final value (use of final value theorem).\n",
"\n",
"clear;\n",
"clc;\n",
"\n",
"//------------------------------------------------------------------\n",
"\n",
"//Computing final value (use of final value theorem)\n",
"// Output of the system\n",
"s=poly(0,'s');\n",
"num=3*(s+2);\n",
"den=s*(s^2+2*s+10);\n",
"Ys=syslin('c',num/den);\n",
"\n",
"\n",
"//final value theorem, lim s-->0 in s*Y(s)\n",
"\n",
"Y_final=horner(s*Ys,0)\n",
"disp(Y_final,'The final value of the output y is:')\n",
"\n",
"//------------------------------------------------------------------"
   ]
   }
],
"metadata": {
		  "kernelspec": {
		   "display_name": "Scilab",
		   "language": "scilab",
		   "name": "scilab"
		  },
		  "language_info": {
		   "file_extension": ".sce",
		   "help_links": [
			{
			 "text": "MetaKernel Magics",
			 "url": "https://github.com/calysto/metakernel/blob/master/metakernel/magics/README.md"
			}
		   ],
		   "mimetype": "text/x-octave",
		   "name": "scilab",
		   "version": "0.7.1"
		  }
		 },
		 "nbformat": 4,
		 "nbformat_minor": 0
}
