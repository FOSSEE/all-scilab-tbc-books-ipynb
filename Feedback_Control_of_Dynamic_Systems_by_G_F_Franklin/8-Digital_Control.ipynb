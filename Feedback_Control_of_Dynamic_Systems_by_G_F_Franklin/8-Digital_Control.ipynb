{
"cells": [
 {
		   "cell_type": "markdown",
	   "metadata": {},
	   "source": [
       "# Chapter 8: Digital Control"
	   ]
	},
{
		   "cell_type": "markdown",
		   "metadata": {},
		   "source": [
			"## Example 8.1: Digital_Controller_using_tustin_approximation.sce"
		   ]
		  },
  {
"cell_type": "code",
	   "execution_count": null,
	   "metadata": {
	    "collapsed": true
	   },
	   "outputs": [],
"source": [
"///Example 8.1\n",
"// Digital Controller using tustin approximation.\n",
"xdel(winsid())//close all graphics Windows\n",
"clear;\n",
"clc;\n",
"//------------------------------------------------------------------\n",
"//Cntroller\n",
"s=poly(0,'s');\n",
"numD=s/2+1;\n",
"denD=s/10+1;\n",
"D=10*numD/denD;\n",
"Ds=syslin('c',D);\n",
"//sampling freq. = 25 times bandwidth\n",
"Wbw=10;\n",
"Ws=25*Wbw;\n",
"fs=Ws/2/%pi;\n",
"T=1/fs; //sampling time\n",
"a=1;b=-1;\n",
"c=1;d=1;\n",
"//Digital controller\n",
"z=poly(0,'z');\n",
"Dz=horner(Ds,2/T*(a*z+b)/(c*z+d));\n",
"disp(Dz,'Digital Controller : ')\n",
"//------------------------------------------------------------------\n",
"//step response and control efforts.\n",
"figure(0);\n",
"importXcosDiagram('.\Ex8_1_model.xcos')\n",
" //The diagram data structure\n",
"xcos_simulate(scs_m,4);\n",
"scs_m.props.context\n",
"plot(yt.time,yt.values(:,1),'r--')\n",
"plot(yt.time,yt.values(:,2),2)\n",
"xlabel('Time (sec.)');\n",
"ylabel('Position, y');\n",
"title(['Comparison between digital and continuous controller step...\n",
" response';'with a sample rate 25 times bandwidth';'(a) Position '],...\n",
" 'fontsize',3);\n",
"exec .\fig_settings.sci; // custom script for setting figure properties\n",
"//control effort\n",
"figure(1);\n",
"plot(ut.time,ut.values(:,1),'r--')\n",
"plot2d2(ut.time,ut.values(:,2),2)\n",
"xlabel('Time (sec.)');\n",
"ylabel('Control, u');\n",
"title(['Comparison between digital and continuous controller step...\n",
" response';'with a sample rate 25 times bandwidth';'(b) Control '],...\n",
" 'fontsize',3);\n",
"exec .\fig_settings.sci; // custom script for setting figure properties\n",
"//------------------------------------------------------------------"
   ]
   }
,
{
		   "cell_type": "markdown",
		   "metadata": {},
		   "source": [
			"## Example 8.2: Design_of_a_Space_Station_Attitude_Digital_Controller_using_Discrete_Equivalents.sce"
		   ]
		  },
  {
"cell_type": "code",
	   "execution_count": null,
	   "metadata": {
	    "collapsed": true
	   },
	   "outputs": [],
"source": [
"//Example 8.2\n",
"// Design of a Space Station Attitude Digital Controller using\n",
"// Discrete Equivalents\n",
"xdel(winsid())//close all graphics Windows\n",
"clear;\n",
"clc;\n",
"//------------------------------------------------------------------\n",
"// State space representation of continuous time system\n",
"s=poly(0,'s');\n",
"num=1;\n",
"den=(s^2);\n",
"Gs=syslin('c',num/den);\n",
"Ds=0.81*(s+0.2)/(s+2);\n",
"Ds=syslin('c',Ds);\n",
"sysc=Gs*Ds;\n",
"//Root locus\n",
"evans(sysc)\n",
"zoom_rect([-2 -0.4 0.5 0.4])\n",
"f=gca();\n",
"f.x_location = 'origin'\n",
"f.y_location = 'origin'\n",
"h=legend('');\n",
"h.visible = 'off'\n",
"exec .\fig_settings.sci; //custom script for setting figure properties\n",
"title('s-plane locus with respect to K','fontsize',3)\n",
"//------------------------------------------------------------------\n",
"//Contonuous time response of the system\n",
"figure,\n",
"tc=0:0.1:30;\n",
"syscl=sysc/(1+sysc)\n",
"yc=csim('step',tc,syscl);\n",
"plot(tc,yc,'b')\n",
"//------------------------------------------------------------------\n",
"// Discretization of the system at\n",
"z=poly(0,'z')\n",
"// sampling time Ts=1 sec\n",
"Ts=1;\n",
"Dz1=horner(Ds,2/Ts*(z-1)/(z+1))\n",
"disp(Dz1,'Dz1=','Discrete-time controller with Ts=1 sec.')\n",
"// sampling time Ts=0.5 sec\n",
"Ts2=0.5;\n",
"Dz2=horner(Ds,2/Ts2*(z-1)/(z+1))\n",
"disp(Dz2,'Dz2=','Discrete-time controller with Ts=0.5 sec.')\n",
"//discrete-time response of the system.\n",
"importXcosDiagram('.\Ex8_2_model.xcos')\n",
" //The diagram data structure\n",
"xcos_simulate(scs_m,4);\n",
"//scs_m.props.context\n",
"plot(yt1.time,yt1.values,'m-.') //with Ts=1sec.\n",
"plot(yt2.time,yt2.values,'r--') //with Ts=0.5 sec.\n",
"//------------------------------------------------------------------------------\n",
"title('step responses of continous and digital implementations','fontsize',3)\n",
"exec .\fig_settings.sci; // custom script for setting figure properties\n",
"xlabel('Time (sec)','fontsize',2)\n",
"ylabel('Plant output','fontsize',2)\n",
"legend('Continuous design','Discrete equivalent design, T=1 sec.'...\n",
",'Discrete equivalent design, T=0.5 sec.',4)\n",
"//------------------------------------------------------------------------------"
   ]
   }
],
"metadata": {
		  "kernelspec": {
		   "display_name": "Scilab",
		   "language": "scilab",
		   "name": "scilab"
		  },
		  "language_info": {
		   "file_extension": ".sce",
		   "help_links": [
			{
			 "text": "MetaKernel Magics",
			 "url": "https://github.com/calysto/metakernel/blob/master/metakernel/magics/README.md"
			}
		   ],
		   "mimetype": "text/x-octave",
		   "name": "scilab",
		   "version": "0.7.1"
		  }
		 },
		 "nbformat": 4,
		 "nbformat_minor": 0
}
