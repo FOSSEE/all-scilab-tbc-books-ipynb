{
"cells": [
 {
		   "cell_type": "markdown",
	   "metadata": {},
	   "source": [
       "# Chapter 11: Thermodynamics Some Basic Concepts"
	   ]
	},
{
		   "cell_type": "markdown",
		   "metadata": {},
		   "source": [
			"## Example 11.1: chapter_11_example_1.sce"
		   ]
		  },
  {
"cell_type": "code",
	   "execution_count": null,
	   "metadata": {
	    "collapsed": true
	   },
	   "outputs": [],
"source": [
"clc\n",
"//initialisation of variables\n",
"T= 25 //C\n",
"T1= 75 //C\n",
"k= 6.45 //cal per mole per degree\n",
"k1= 1.41*10^-3 //cal per mole per degree k^-1\n",
"k2= -8.1*10^-8 //cal per mole per degree k^-2\n",
"m= 14 //gms\n",
"M= 28 //gms\n",
"//CALCULATIONS\n",
"Cp= k+k1*(273+T)+k2*(273+T)^2\n",
"Cp1= k+k1*(273+T1)+k2*(273+T1)^2\n",
"cp= (Cp+Cp1)/2\n",
"H= (m/M)*cp*(T1-T)\n",
"H1= (m/M)*(k*(T1-T)+(k1/2)*((273+T1)^2-(273+T)^2)+(k2/3)*((273+T1)^3-(273+T)^3))\n",
"//RESULTS\n",
"printf (' Heat required= %.1f cal',H)\n",
"printf (' \n value of dH= %.1f cal',H1)"
   ]
   }
,
{
		   "cell_type": "markdown",
		   "metadata": {},
		   "source": [
			"## Example 11.2: chapter_11_example_2.sce"
		   ]
		  },
  {
"cell_type": "code",
	   "execution_count": null,
	   "metadata": {
	    "collapsed": true
	   },
	   "outputs": [],
"source": [
"clc\n",
"//initialisation of variables\n",
"m= 64 //gms\n",
"M= 32 //gms\n",
"T= 100 //C\n",
"T1= 0 //C\n",
"cp= 7.05 //cal per mole per degree\n",
"cp1= 5.06 //cal per mole per degree\n",
"//CALCULATIONS\n",
"H= cp*(m/M)*(T-T1)\n",
"E= cp1*(m/M)*(T-T1)\n",
"//RESULTS\n",
"printf (' value of dH= %.f cal',H)\n",
"printf (' \n value of dE= %.f cal',E)"
   ]
   }
,
{
		   "cell_type": "markdown",
		   "metadata": {},
		   "source": [
			"## Example 11.3: chapter_11_example_3.sce"
		   ]
		  },
  {
"cell_type": "code",
	   "execution_count": null,
	   "metadata": {
	    "collapsed": true
	   },
	   "outputs": [],
"source": [
"clc\n",
"//initialisation of variables\n",
"n= 2 //moles\n",
"R= 1.99 //cal er mole per degree\n",
"T= 80 //C\n",
"H1= 94.3 //cal per gram\n",
"M= 78 //gms per mole\n",
"//CALCULATIONS\n",
"w= n*R*(273+T)\n",
"H= n*M*H1\n",
"E= H-w\n",
"//RESULTS\n",
"printf (' value of dH= %.f cal',H)\n",
"printf (' \n value of dE= %.f cal',E)"
   ]
   }
,
{
		   "cell_type": "markdown",
		   "metadata": {},
		   "source": [
			"## Example 11.4: chapter_11_example_4.sce"
		   ]
		  },
  {
"cell_type": "code",
	   "execution_count": null,
	   "metadata": {
	    "collapsed": true
	   },
	   "outputs": [],
"source": [
"clc\n",
"//initialisation of variables\n",
"m= 9 //gms\n",
"T= -10 //C\n",
"T1= 0 //C\n",
"R= 0.5 //cal per gram per degree\n",
"H= 79.7 //cal per gram\n",
"R1= 1 //cal per gram per degree\n",
"T2= 100 //C\n",
"H1= 539.7 //cal per gm\n",
"R2= 8.11 //cal per gram per degree\n",
"M= 18 //gms\n",
"T3= 40 //C\n",
"//CALCULATIONS\n",
"dH= m*R*(T1-T)\n",
"dH1= m*H\n",
"dH2= m*R1*(T2-T1)\n",
"dH3= m*H1\n",
"dH4= (m/M)*R2*(T3-T1)\n",
"dH5= dH+dH1+dH2+dH3+dH4\n",
"//RESULTS\n",
"printf (' value of dH= %.1f cal',dH5)"
   ]
   }
],
"metadata": {
		  "kernelspec": {
		   "display_name": "Scilab",
		   "language": "scilab",
		   "name": "scilab"
		  },
		  "language_info": {
		   "file_extension": ".sce",
		   "help_links": [
			{
			 "text": "MetaKernel Magics",
			 "url": "https://github.com/calysto/metakernel/blob/master/metakernel/magics/README.md"
			}
		   ],
		   "mimetype": "text/x-octave",
		   "name": "scilab",
		   "version": "0.7.1"
		  }
		 },
		 "nbformat": 4,
		 "nbformat_minor": 0
}
