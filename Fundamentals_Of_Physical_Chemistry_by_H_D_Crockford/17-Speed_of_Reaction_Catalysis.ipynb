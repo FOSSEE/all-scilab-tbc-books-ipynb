{
"cells": [
 {
		   "cell_type": "markdown",
	   "metadata": {},
	   "source": [
       "# Chapter 17: Speed of Reaction Catalysis"
	   ]
	},
{
		   "cell_type": "markdown",
		   "metadata": {},
		   "source": [
			"## Example 17.1: chapter_17_example_1.sce"
		   ]
		  },
  {
"cell_type": "code",
	   "execution_count": null,
	   "metadata": {
	    "collapsed": true
	   },
	   "outputs": [],
"source": [
"clc\n",
"//initialisation of variables\n",
"t= 40 //min\n",
"r= 0.274\n",
"t1= 50 //min\n",
"//CALCULATIONS\n",
"k= 2.3*log10(1/(1-r))/t\n",
"R=10^( -k*t1/2.3)\n",
"R1= 1-R\n",
"//RESULTS\n",
"printf (' velocity constant= %.4f min^-1',k)\n",
"printf (' \n fraction decomposed= %.3f ',R1)"
   ]
   }
,
{
		   "cell_type": "markdown",
		   "metadata": {},
		   "source": [
			"## Example 17.3: chapter_17_example_3.sce"
		   ]
		  },
  {
"cell_type": "code",
	   "execution_count": null,
	   "metadata": {
	    "collapsed": true
	   },
	   "outputs": [],
"source": [
"clc\n",
"//initialisation of variables\n",
"t= 10 //min\n",
"c= 0.01 //molar\n",
"c1= 0.00464 //molar\n",
"//CALCULATIONS\n",
"k= (c-c1)/(c*c1*t)\n",
"T= 1/(k*0.01)\n",
"//RESULTS\n",
"printf (' velocity constant= %.1f min^-1',k)\n",
"printf (' \n half-time period= %.1f min',T)"
   ]
   }
],
"metadata": {
		  "kernelspec": {
		   "display_name": "Scilab",
		   "language": "scilab",
		   "name": "scilab"
		  },
		  "language_info": {
		   "file_extension": ".sce",
		   "help_links": [
			{
			 "text": "MetaKernel Magics",
			 "url": "https://github.com/calysto/metakernel/blob/master/metakernel/magics/README.md"
			}
		   ],
		   "mimetype": "text/x-octave",
		   "name": "scilab",
		   "version": "0.7.1"
		  }
		 },
		 "nbformat": 4,
		 "nbformat_minor": 0
}
