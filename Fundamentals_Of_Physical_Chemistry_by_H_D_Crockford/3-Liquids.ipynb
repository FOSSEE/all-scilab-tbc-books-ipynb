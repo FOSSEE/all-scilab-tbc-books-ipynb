{
"cells": [
 {
		   "cell_type": "markdown",
	   "metadata": {},
	   "source": [
       "# Chapter 3: Liquids"
	   ]
	},
{
		   "cell_type": "markdown",
		   "metadata": {},
		   "source": [
			"## Example 3.1: chapter_3_example_1.sce"
		   ]
		  },
  {
"cell_type": "code",
	   "execution_count": null,
	   "metadata": {
	    "collapsed": true
	   },
	   "outputs": [],
"source": [
"clc\n",
"//initialisation of variables\n",
"p= 388.6 //mm\n",
"p1=26.5 //mm\n",
"T= 60 //C\n",
"R= 1.99 //cal mole^-1 A^-1\n",
"//CALCULATIONS\n",
"Lv= log10(p/p1)*2.303*R*273*(273+T)/(T)\n",
"//RESULTS\n",
"printf (' heat of vapourisation of benzene= %.f cal per mole',Lv+2)"
   ]
   }
,
{
		   "cell_type": "markdown",
		   "metadata": {},
		   "source": [
			"## Example 3.2: chapter_3_example_2.sce"
		   ]
		  },
  {
"cell_type": "code",
	   "execution_count": null,
	   "metadata": {
	    "collapsed": true
	   },
	   "outputs": [],
"source": [
"clc\n",
"//initialisation of variables\n",
"d= 0.789 //gram per cc\n",
"r= 0.010 //cm\n",
"h= 5.76 //cm\n",
"g= 980.7 // cm /sec^2\n",
"//CALCULATIONS\n",
"R= d*h*r*g/2\n",
"//RESULTS\n",
"printf (' Surface tension= %.1f dynes per cm',R)"
   ]
   }
,
{
		   "cell_type": "markdown",
		   "metadata": {},
		   "source": [
			"## Example 3.3: chapter_3_example_3.sce"
		   ]
		  },
  {
"cell_type": "code",
	   "execution_count": null,
	   "metadata": {
	    "collapsed": true
	   },
	   "outputs": [],
"source": [
"clc\n",
"//initialisation of variables\n",
"W= 0.220 //gms\n",
"g= 980.7 //cm per sec62\n",
"f= 0.98\n",
"l= 4 //cm\n",
"//CALCULATIONS\n",
"T= W*g/(2*l)\n",
"Tc= T*f\n",
"//RESULTS\n",
"printf (' apparent surface tension= %.1f dynes per cm',T)\n",
"printf (' \n exact surface tension= %.1f dynes per cm',Tc)"
   ]
   }
,
{
		   "cell_type": "markdown",
		   "metadata": {},
		   "source": [
			"## Example 3.4: chapter_3_example_4.sce"
		   ]
		  },
  {
"cell_type": "code",
	   "execution_count": null,
	   "metadata": {
	    "collapsed": true
	   },
	   "outputs": [],
"source": [
"clc\n",
"//initialisation of variables\n",
"n2= 10.05*10^-3 //poise\n",
"d1= 0.879 //gms cm^-3\n",
"t= 88 //sec\n",
"d2= 1 //gms cm^-3\n",
"t1= 120 //sec\n",
"//CALCULATIONS\n",
"n1= d1*t/(d2*t1)\n",
"//RESULTS\n",
"printf (' relative viscosity= %.3f ',n1)"
   ]
   }
],
"metadata": {
		  "kernelspec": {
		   "display_name": "Scilab",
		   "language": "scilab",
		   "name": "scilab"
		  },
		  "language_info": {
		   "file_extension": ".sce",
		   "help_links": [
			{
			 "text": "MetaKernel Magics",
			 "url": "https://github.com/calysto/metakernel/blob/master/metakernel/magics/README.md"
			}
		   ],
		   "mimetype": "text/x-octave",
		   "name": "scilab",
		   "version": "0.7.1"
		  }
		 },
		 "nbformat": 4,
		 "nbformat_minor": 0
}
