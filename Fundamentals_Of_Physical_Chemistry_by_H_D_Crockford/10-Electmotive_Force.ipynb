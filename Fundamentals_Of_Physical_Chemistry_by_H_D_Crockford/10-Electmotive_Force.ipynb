{
"cells": [
 {
		   "cell_type": "markdown",
	   "metadata": {},
	   "source": [
       "# Chapter 10: Electmotive Force"
	   ]
	},
{
		   "cell_type": "markdown",
		   "metadata": {},
		   "source": [
			"## Example 10.1: chapter_10_example_1.sce"
		   ]
		  },
  {
"cell_type": "code",
	   "execution_count": null,
	   "metadata": {
	    "collapsed": true
	   },
	   "outputs": [],
"source": [
"clc\n",
"//initialisation of variables\n",
"T= 25 //C\n",
"M= 0.08 //m\n",
"P= 1 //atm\n",
"F= 96500 //coloumbs\n",
"R= 8.31 //J/mol K\n",
"//CALCULATIONS\n",
"E= -R*(273+T)*2.3*log10(M)/F\n",
"//RESULTS\n",
"printf (' oxidation potential of hydrogen elctrode = %.4f v',E)"
   ]
   }
,
{
		   "cell_type": "markdown",
		   "metadata": {},
		   "source": [
			"## Example 10.2: chapter_10_example_2.sce"
		   ]
		  },
  {
"cell_type": "code",
	   "execution_count": null,
	   "metadata": {
	    "collapsed": true
	   },
	   "outputs": [],
"source": [
"clc\n",
"//initialisation of variables\n",
"E= -0.337 //v\n",
"R= 8.31 //J/mol K\n",
"T= 25 //C\n",
"F= 96500 //coloums\n",
"M= 0.12 //m\n",
"//CALCULATIONS\n",
"E1= E-(R*(273+T)*2.3*log10(M)/(2*F))\n",
"//RESULTS\n",
"printf (' oxidation potential of copper elctrode = %.3f v',E1)"
   ]
   }
,
{
		   "cell_type": "markdown",
		   "metadata": {},
		   "source": [
			"## Example 10.3: chapter_10_example_3.sce"
		   ]
		  },
  {
"cell_type": "code",
	   "execution_count": null,
	   "metadata": {
	    "collapsed": true
	   },
	   "outputs": [],
"source": [
"clc\n",
"//initialisation of variables\n",
"E= -0.771 //v\n",
"R= 8.31 //J/mol K\n",
"T= 25 //C\n",
"F= 96500 //coloums\n",
"M= 0.02 //m\n",
"M1= 0.1 //m\n",
"//CALCULATIONS\n",
"E1= E-(R*(273+T)*2.3*log10(M/M1)/F)\n",
"//RESULTS\n",
"printf (' oxidation potential of copper elctrode = %.3f v',E1)"
   ]
   }
,
{
		   "cell_type": "markdown",
		   "metadata": {},
		   "source": [
			"## Example 10.4: chapter_10_example_4.sce"
		   ]
		  },
  {
"cell_type": "code",
	   "execution_count": null,
	   "metadata": {
	    "collapsed": true
	   },
	   "outputs": [],
"source": [
"clc\n",
"//initialisation of variables\n",
"E= 0.763 //v\n",
"R= 8.31 //J/mol K\n",
"T= 25 //C\n",
"F= 96500 //coloums\n",
"M= 0.1 //m\n",
"M1= 0.01 //m\n",
"//CALCULATIONS\n",
"E1= E-(R*(273+T)*2.3*log10(M)/(2*F))+R*(273+T)*2.3*log10(M1)/F\n",
"//RESULTS\n",
"printf (' oxidation potential of copper elctrode = %.3f v',E1)"
   ]
   }
,
{
		   "cell_type": "markdown",
		   "metadata": {},
		   "source": [
			"## Example 10.5: chapter_10_example_5.sce"
		   ]
		  },
  {
"cell_type": "code",
	   "execution_count": null,
	   "metadata": {
	    "collapsed": true
	   },
	   "outputs": [],
"source": [
"clc\n",
"//initialisation of variables\n",
"E1= 0.126 //v\n",
"E2= -1.360 //v\n",
"M= 0.02 //m\n",
"M1= 1/0.1 //m\n",
"R= 8.31 //J/mol K\n",
"T= 25 //C\n",
"F= 96500 //coloums\n",
"//CALCULATIONS\n",
"E= (E1-R*(273+T)*2.3*log10(M)/(2*F))-(E2-R*(273+T)*2.3*log10(M1)/(F))\n",
"//RESULTS\n",
"printf (' oxidation potential of copper elctrode = %.3f v',E)"
   ]
   }
,
{
		   "cell_type": "markdown",
		   "metadata": {},
		   "source": [
			"## Example 10.6: chapter_10_example_6.sce"
		   ]
		  },
  {
"cell_type": "code",
	   "execution_count": null,
	   "metadata": {
	    "collapsed": true
	   },
	   "outputs": [],
"source": [
"clc\n",
"//initialisation of variables\n",
"E1= 0.763 //v\n",
"c= 0.1 //mol/lit\n",
"c1= 0.01 //mol/lit\n",
"R= 8.31 //J/mol K\n",
"T= 25 //C\n",
"F= 96500 //coloums\n",
"c2= 1 //molar\n",
"c3= 1 //molar\n",
"//CALCULATIONS\n",
"E= E1-(log10(c*c2/(c1^2*c3))*R*(273+T)*2.3/(2*F))\n",
"//RESULTS\n",
"printf (' potential of the cell = %.3f v',E)"
   ]
   }
,
{
		   "cell_type": "markdown",
		   "metadata": {},
		   "source": [
			"## Example 10.7: chapter_10_example_7.sce"
		   ]
		  },
  {
"cell_type": "code",
	   "execution_count": null,
	   "metadata": {
	    "collapsed": true
	   },
	   "outputs": [],
"source": [
"clc\n",
"//initialisation of variables\n",
"R= 8.31 //J/mol K\n",
"T= 25 //C\n",
"F= 96500 //coloums\n",
"c= 0.02 //molar\n",
"c1= 0.1 //molar\n",
"c2= 1 //molar\n",
"c3= 1 //molar\n",
"E1= 1.486 //v\n",
"//CALCULATIONS\n",
"E= E1-R*(273+T)*2.3*log10(c*c1^2/(c2*c3))/(2*F)\n",
"//RESULTS\n",
"printf (' potential of the cell = %.3f v',E)"
   ]
   }
,
{
		   "cell_type": "markdown",
		   "metadata": {},
		   "source": [
			"## Example 10.8: chapter_10_example_8.sce"
		   ]
		  },
  {
"cell_type": "code",
	   "execution_count": null,
	   "metadata": {
	    "collapsed": true
	   },
	   "outputs": [],
"source": [
"clc\n",
"//initialisation of variables\n",
"R= 8.31 //J/mol K\n",
"T= 25 //C\n",
"F= 96500 //coloums\n",
"c= 0.08 //molar\n",
"c1= 0.04 //molar\n",
"//CALCULATIONS\n",
"E= R*(T+273)*log(c/c1)/(2*F)\n",
"E1= 2*E\n",
"//RESULTS\n",
"printf (' potential of the cell = %.4f v',E)\n",
"printf (' \n potential of the cell = %.4f v',E1)"
   ]
   }
],
"metadata": {
		  "kernelspec": {
		   "display_name": "Scilab",
		   "language": "scilab",
		   "name": "scilab"
		  },
		  "language_info": {
		   "file_extension": ".sce",
		   "help_links": [
			{
			 "text": "MetaKernel Magics",
			 "url": "https://github.com/calysto/metakernel/blob/master/metakernel/magics/README.md"
			}
		   ],
		   "mimetype": "text/x-octave",
		   "name": "scilab",
		   "version": "0.7.1"
		  }
		 },
		 "nbformat": 4,
		 "nbformat_minor": 0
}
