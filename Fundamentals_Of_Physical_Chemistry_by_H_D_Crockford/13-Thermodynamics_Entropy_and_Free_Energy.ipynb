{
"cells": [
 {
		   "cell_type": "markdown",
	   "metadata": {},
	   "source": [
       "# Chapter 13: Thermodynamics Entropy and Free Energy"
	   ]
	},
{
		   "cell_type": "markdown",
		   "metadata": {},
		   "source": [
			"## Example 13.10: chapter_13_example_10.sce"
		   ]
		  },
  {
"cell_type": "code",
	   "execution_count": null,
	   "metadata": {
	    "collapsed": true
	   },
	   "outputs": [],
"source": [
"clc\n",
"//initialisation of variables\n",
"F= 18430 //cal\n",
"F1= -31350 //cal\n",
"F2= 26224 //cal\n",
"R= 1.99 //cal/mole K\n",
"T= 25 //C\n",
"//CALCULATIONS\n",
"F3= F+F1+F2\n",
"Ksp= 10^(-F3/(R*(273+T)*2.303))\n",
"//RESULTS\n",
"printf (' solubility product = %.1e ',Ksp)"
   ]
   }
,
{
		   "cell_type": "markdown",
		   "metadata": {},
		   "source": [
			"## Example 13.11: chapter_13_example_11.sce"
		   ]
		  },
  {
"cell_type": "code",
	   "execution_count": null,
	   "metadata": {
	    "collapsed": true
	   },
	   "outputs": [],
"source": [
"clc\n",
"//initialisation of variables\n",
"F= -51108 //cal\n",
"f= 96500 //coloumbs\n",
"n= 2 //moles\n",
"//CALCULATIONS\n",
"E= -F*4.184/(n*f)\n",
"//RESULTS\n",
"printf (' value of E = %.3f v',E)"
   ]
   }
,
{
		   "cell_type": "markdown",
		   "metadata": {},
		   "source": [
			"## Example 13.12: chapter_13_example_12.sce"
		   ]
		  },
  {
"cell_type": "code",
	   "execution_count": null,
	   "metadata": {
	    "collapsed": true
	   },
	   "outputs": [],
"source": [
"clc\n",
"//initialisation of variables\n",
"F1= 31350 //cal\n",
"F2= 26224 //cal\n",
"F= 96500 //coloumbs\n",
"//CALCULATIONS\n",
"F3= -F1+F2\n",
"E= F3*4.184/F\n",
"//RESULTS\n",
"printf (' value of E = %.4f cal',E)"
   ]
   }
,
{
		   "cell_type": "markdown",
		   "metadata": {},
		   "source": [
			"## Example 13.13: chapter_13_example_13.sce"
		   ]
		  },
  {
"cell_type": "code",
	   "execution_count": null,
	   "metadata": {
	    "collapsed": true
	   },
	   "outputs": [],
"source": [
"clc\n",
"//initialisation of variables\n",
"T= 25 //C\n",
"a= 0.2 //molar\n",
"P= 1 //atm\n",
"F1= -5126 //cal\n",
"R= 2 //cal/mole K\n",
"//CALCULATIONS\n",
"F= F1+R*(273+T)*2.303*log10(a^2)\n",
"//RESULTS\n",
"printf (' value of F = %.f cal',F)"
   ]
   }
,
{
		   "cell_type": "markdown",
		   "metadata": {},
		   "source": [
			"## Example 13.14: chapter_13_example_14.sce"
		   ]
		  },
  {
"cell_type": "code",
	   "execution_count": null,
	   "metadata": {
	    "collapsed": true
	   },
	   "outputs": [],
"source": [
"clc\n",
"//initialisation of variables\n",
"T= 25 //C\n",
"F= 1160 //cal\n",
"P= 0.1 //atm\n",
"P1= 1 //atm\n",
"R= 2 //cal/mole K\n",
"//CALCULATIONS\n",
"F1= F+R*(273+T)*log(P/P1^2)\n",
"F2= F+R*(273+T)*log(P1/P^2)\n",
"//RESULTS\n",
"printf (' value of F = %.f cal',F1)\n",
"printf (' \n value of F = %.f cal',F2)"
   ]
   }
,
{
		   "cell_type": "markdown",
		   "metadata": {},
		   "source": [
			"## Example 13.15: chapter_13_example_15.sce"
		   ]
		  },
  {
"cell_type": "code",
	   "execution_count": null,
	   "metadata": {
	    "collapsed": true
	   },
	   "outputs": [],
"source": [
"clc\n",
"//initialisation of variables\n",
"T= 25 //C\n",
"H= -94.05 //kcal\n",
"H1= -26.42 //kcal\n",
"S= 51.06 //cal per degree\n",
"S1= -47.3 //cal per degree\n",
"S2= -24.5 //cal per degree\n",
"//CALCULATIONS\n",
"dH= (H-H1)*1000\n",
"dS= S+S1+S2\n",
"F= dH-(273+T)*dS\n",
"//RESULTS\n",
"printf (' value of F = %.f cal',F)"
   ]
   }
,
{
		   "cell_type": "markdown",
		   "metadata": {},
		   "source": [
			"## Example 13.1: chapter_13_example_1.sce"
		   ]
		  },
  {
"cell_type": "code",
	   "execution_count": null,
	   "metadata": {
	    "collapsed": true
	   },
	   "outputs": [],
"source": [
"clc\n",
"//initialisation of variables\n",
"H= 540 //cal per gram\n",
"m= 9 //gms\n",
"T= 100 //C\n",
"//CALCULATIONS\n",
"S= H*m/(273+T)\n",
"//RESULTS\n",
"printf (' Entropy change = %.2f E.U',S)"
   ]
   }
,
{
		   "cell_type": "markdown",
		   "metadata": {},
		   "source": [
			"## Example 13.2: chapter_13_example_2.sce"
		   ]
		  },
  {
"cell_type": "code",
	   "execution_count": null,
	   "metadata": {
	    "collapsed": true
	   },
	   "outputs": [],
"source": [
"clc\n",
"//initialisation of variables\n",
"m= 9 //gms\n",
"H= 79.7 //cal per gram\n",
"T= 0 //C\n",
"//CALCULATIONS\n",
"S= m*H/(273+T)\n",
"//RESULTS\n",
"printf (' Entropy change = %.2f E.U',S)"
   ]
   }
,
{
		   "cell_type": "markdown",
		   "metadata": {},
		   "source": [
			"## Example 13.3: chapter_13_example_3.sce"
		   ]
		  },
  {
"cell_type": "code",
	   "execution_count": null,
	   "metadata": {
	    "collapsed": true
	   },
	   "outputs": [],
"source": [
"clc\n",
"//initialisation of variables\n",
"m= 14 //gms\n",
"M= 28 //gms\n",
"R= 1.99 // cal per mole per degree\n",
"V= 30 //lit\n",
"v1= 10 //lit\n",
"//CALCULATIONS\n",
"S1= (m/M)*R*2.303*log10(V/V1)\n",
"//RESULTS\n",
"printf (' Entropy change = %.2f E.U',S1)"
   ]
   }
,
{
		   "cell_type": "markdown",
		   "metadata": {},
		   "source": [
			"## Example 13.4: chapter_13_example_4.sce"
		   ]
		  },
  {
"cell_type": "code",
	   "execution_count": null,
	   "metadata": {
	    "collapsed": true
	   },
	   "outputs": [],
"source": [
"clc\n",
"//initialisation of variables\n",
"m= 14 //gms\n",
"M= 28 //gms\n",
"S= 6.94 //cal per mole\n",
"T= 127 //C\n",
"T1= 27 //C\n",
"S1= 4.94 //cal per mole\n",
"//CALCULATIONS\n",
"dS= (m/M)*S*log((273+T)/(273+T1))\n",
"dS1= (m/M)*S1*log((273+T)/(273+T1))\n",
"//RESULTS\n",
"printf (' Entropy change = %.2f E.U',dS-0.01)\n",
"printf (' \n Entropy change = %.2f E.U',dS1)"
   ]
   }
,
{
		   "cell_type": "markdown",
		   "metadata": {},
		   "source": [
			"## Example 13.5: chapter_13_example_5.sce"
		   ]
		  },
  {
"cell_type": "code",
	   "execution_count": null,
	   "metadata": {
	    "collapsed": true
	   },
	   "outputs": [],
"source": [
"clc\n",
"//initialisation of variables\n",
"Scl= 53.29 //E.U\n",
"Sag= 10.21 //E.U\n",
"Sagcl= 22.97 //E.U\n",
"//CALCULATIONS\n",
"dS= Sagcl-Sag-0.5*Scl\n",
"//RESULTS\n",
"//RESULTS\n",
"printf (' Entropy change = %.2f E.U',dS)"
   ]
   }
,
{
		   "cell_type": "markdown",
		   "metadata": {},
		   "source": [
			"## Example 13.6: chapter_13_example_6.sce"
		   ]
		  },
  {
"cell_type": "code",
	   "execution_count": null,
	   "metadata": {
	    "collapsed": true
	   },
	   "outputs": [],
"source": [
"clc\n",
"//initialisation of variables\n",
"Scl= 13.17 //E.U\n",
"Sag= 17.67 //E.U\n",
"Sagcl= 22.97 //E.U\n",
"//CALCULATIONS\n",
"dS= Scl+Sag-Sagcl\n",
"//RESULTS\n",
"printf (' Entropy change = %.2f E.U',dS)"
   ]
   }
,
{
		   "cell_type": "markdown",
		   "metadata": {},
		   "source": [
			"## Example 13.7: chapter_13_example_7.sce"
		   ]
		  },
  {
"cell_type": "code",
	   "execution_count": null,
	   "metadata": {
	    "collapsed": true
	   },
	   "outputs": [],
"source": [
"clc\n",
"//initialisation of variables\n",
"F1= -94260 //cal\n",
"F2= -56690 //cal\n",
"F3= -7860 //cal\n",
"//CALCULATIONS\n",
"F= 2*F1+3*F2-F3\n",
"//RESULTS\n",
"printf (' value of dF = %.f ',F)"
   ]
   }
,
{
		   "cell_type": "markdown",
		   "metadata": {},
		   "source": [
			"## Example 13.8: chapter_13_example_8.sce"
		   ]
		  },
  {
"cell_type": "code",
	   "execution_count": null,
	   "metadata": {
	    "collapsed": true
	   },
	   "outputs": [],
"source": [
"clc\n",
"//initialisation of variables\n",
"T= 25 //C\n",
"F1= -35180 //cal\n",
"//CALCULATIONS\n",
"F= F1\n",
"//RESULTS\n",
"printf (' value of dF = %.f ',F)"
   ]
   }
,
{
		   "cell_type": "markdown",
		   "metadata": {},
		   "source": [
			"## Example 13.9: chapter_13_example_9.sce"
		   ]
		  },
  {
"cell_type": "code",
	   "execution_count": null,
	   "metadata": {
	    "collapsed": true
	   },
	   "outputs": [],
"source": [
"clc\n",
"//initialisation of variables\n",
"F= -51180 //cal\n",
"T= 25 //C\n",
"R= 1.99 //cal/mole K\n",
"//CALCULATIONS\n",
"K= 10^(-F/(R*(273+T)*2.303))\n",
"//RESULTS\n",
"printf (' equilibrium constant = %.e ',K)"
   ]
   }
],
"metadata": {
		  "kernelspec": {
		   "display_name": "Scilab",
		   "language": "scilab",
		   "name": "scilab"
		  },
		  "language_info": {
		   "file_extension": ".sce",
		   "help_links": [
			{
			 "text": "MetaKernel Magics",
			 "url": "https://github.com/calysto/metakernel/blob/master/metakernel/magics/README.md"
			}
		   ],
		   "mimetype": "text/x-octave",
		   "name": "scilab",
		   "version": "0.7.1"
		  }
		 },
		 "nbformat": 4,
		 "nbformat_minor": 0
}
