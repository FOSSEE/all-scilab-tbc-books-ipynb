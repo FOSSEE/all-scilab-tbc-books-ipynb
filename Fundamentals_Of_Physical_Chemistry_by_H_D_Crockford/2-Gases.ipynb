{
"cells": [
 {
		   "cell_type": "markdown",
	   "metadata": {},
	   "source": [
       "# Chapter 2: Gases"
	   ]
	},
{
		   "cell_type": "markdown",
		   "metadata": {},
		   "source": [
			"## Example 2.10: chapter_2_example_10.sce"
		   ]
		  },
  {
"cell_type": "code",
	   "execution_count": null,
	   "metadata": {
	    "collapsed": true
	   },
	   "outputs": [],
"source": [
"clc\n",
"//initialisation of variables\n",
"V= 0.5 //lit\n",
"T= 50 //C\n",
"n= 1//mole\n",
"R= 0.0821 //lit atm mole^-1\n",
"a= 4.28*10^-2 //litres mole^-1\n",
"b= 3.6 //arm mole^-2 lit^2\n",
"//CALCULATIONS\n",
"P= n*R*(273+T)/V\n",
"P1= (n*R*(T+273)/(V-n*a))-(b/V^2)\n",
"//RESULTS\n",
"printf (' Pressure = %.f atm',P)\n",
"printf (' \n Pressure using vanderwals equation= %.1f atm',P1)"
   ]
   }
,
{
		   "cell_type": "markdown",
		   "metadata": {},
		   "source": [
			"## Example 2.1: chapter_2_example_1.sce"
		   ]
		  },
  {
"cell_type": "code",
	   "execution_count": null,
	   "metadata": {
	    "collapsed": true
	   },
	   "outputs": [],
"source": [
"clc\n",
"//initialisation of variables\n",
"P= 730 //mm\n",
"V= 20 //litres\n",
"T= -20 //C\n",
"P1= 760 //mm\n",
"T1= 0 //C\n",
"//CALCULATIONS\n",
"V1= P*V*(273+T1)/((273+T)*760)\n",
"//RESULTS\n",
"printf (' volume at STP = %.1f litres',V1)"
   ]
   }
,
{
		   "cell_type": "markdown",
		   "metadata": {},
		   "source": [
			"## Example 2.2: chapter_2_example_2.sce"
		   ]
		  },
  {
"cell_type": "code",
	   "execution_count": null,
	   "metadata": {
	    "collapsed": true
	   },
	   "outputs": [],
"source": [
"clc\n",
"//initialisation of variables\n",
"N= 6*10^23 //molcules\n",
"R= 0.0821 //lit atm mole^-1\n",
"V= 20 //lit\n",
"P= 730 //mm of Hg\n",
"T= -20 //C\n",
"//CALCULATIONS\n",
"M= N*P*V/(760*R*(273+T))\n",
"//RESULTS\n",
"printf (' Molecules = %.2e molecules',M)"
   ]
   }
,
{
		   "cell_type": "markdown",
		   "metadata": {},
		   "source": [
			"## Example 2.3: chapter_2_example_3.sce"
		   ]
		  },
  {
"cell_type": "code",
	   "execution_count": null,
	   "metadata": {
	    "collapsed": true
	   },
	   "outputs": [],
"source": [
"clc\n",
"//initialisation of variables\n",
"P= 100 //cm\n",
"m= 2*10^20 //molecules\n",
"N= 6*10^23\n",
"R= 0.0821 //lit atm mole^-1\n",
"T= 27 //C\n",
"//CALCULATIONS\n",
"V= m*R*(T+273)*760*100/(N*P)\n",
"//RESULTS\n",
"printf (' Volume = %.2f cm^3',V)"
   ]
   }
,
{
		   "cell_type": "markdown",
		   "metadata": {},
		   "source": [
			"## Example 2.4: chapter_2_example_4.sce"
		   ]
		  },
  {
"cell_type": "code",
	   "execution_count": null,
	   "metadata": {
	    "collapsed": true
	   },
	   "outputs": [],
"source": [
"clc\n",
"//initialisation of variables\n",
"P= 752 //mm\n",
"V= 0.2 //lit\n",
"T= 21 //C\n",
"R= 0.0821 //lit atm mole^-1\n",
"m= 0.980 //gms\n",
"//CALCULATIONS\n",
"M= m*R*(T+273)*760/(V*P)\n",
"//RESULTS\n",
"printf (' molecular weight of chloroform = %.1f gmsper mole',M)"
   ]
   }
,
{
		   "cell_type": "markdown",
		   "metadata": {},
		   "source": [
			"## Example 2.5: chapter_2_example_5.sce"
		   ]
		  },
  {
"cell_type": "code",
	   "execution_count": null,
	   "metadata": {
	    "collapsed": true
	   },
	   "outputs": [],
"source": [
"clc\n",
"//initialisation of variables\n",
"m= 7 //gms\n",
"m1= 16 //gms\n",
"m2= 3.03 //gms\n",
"M= 32 //gms\n",
"M1= 28 //gms\n",
"M2= 2.02 //gms\n",
"T= 50 //C\n",
"V= 80 //lit\n",
"R= 0.0821 //atm lit mole^-1\n",
"//CALCULATIONS\n",
"Pn= m*R*(T+273)/(M1*V)\n",
"Po= m1*R*(T+273)/(M*V)\n",
"Ph= m2*R*(T+273)/(M2*V)\n",
"P= Pn+Po+Ph\n",
"//RESULTS\n",
"printf (' Partial pressure of nitrogen = %.3f atm',Pn)\n",
"printf (' \n Partial pressure of oxygen = %.3f atm',Po)\n",
"printf (' \n Partial pressure of hydrogen = %.3f atm',Ph)\n",
"printf (' \n total pressure = %.3f atm',P)"
   ]
   }
,
{
		   "cell_type": "markdown",
		   "metadata": {},
		   "source": [
			"## Example 2.6: chapter_2_example_6.sce"
		   ]
		  },
  {
"cell_type": "code",
	   "execution_count": null,
	   "metadata": {
	    "collapsed": true
	   },
	   "outputs": [],
"source": [
"clc\n",
"//initialisation of variables\n",
"P= 23.8 //mm\n",
"V= 0.5 //lit\n",
"R= 0.0821 //lit atm mole^-1\n",
"T= 25 //C\n",
"//CALCULATIONS\n",
"P1= 760-P\n",
"n= P1*V/(760*R*(273+T))\n",
"V1= V*1000*P1*273/(760*(T+273))\n",
"//RESULTS\n",
"printf (' Volume of oxygen = %.f ml',V1)"
   ]
   }
,
{
		   "cell_type": "markdown",
		   "metadata": {},
		   "source": [
			"## Example 2.7: chapter_2_example_7.sce"
		   ]
		  },
  {
"cell_type": "code",
	   "execution_count": null,
	   "metadata": {
	    "collapsed": true
	   },
	   "outputs": [],
"source": [
"clc\n",
"//initialisation of variables\n",
"t= 20 //min\n",
"t1= 19.4 //min\n",
"M= 32 //gms\n",
"//CALCULATIONS\n",
"x= M*t1^2/t^2\n",
"//RESULTS\n",
"printf (' molecular weight of ethane = %.1f gms',x)"
   ]
   }
,
{
		   "cell_type": "markdown",
		   "metadata": {},
		   "source": [
			"## Example 2.8: chapter_2_example_8.sce"
		   ]
		  },
  {
"cell_type": "code",
	   "execution_count": null,
	   "metadata": {
	    "collapsed": true
	   },
	   "outputs": [],
"source": [
"clc\n",
"//initialisation of variables\n",
"R= 8.31*10^7 //ergs mole^-1\n",
"T= 27 //C\n",
"M= 28 //gram per mole\n",
"//CALCULATIONS\n",
"c= sqrt(3*R*(273+T)/M)\n",
"//RESULTS\n",
"printf (' root-mean-square velocity = %.2e cm per sec',c)"
   ]
   }
,
{
		   "cell_type": "markdown",
		   "metadata": {},
		   "source": [
			"## Example 2.9: chapter_2_example_9.sce"
		   ]
		  },
  {
"cell_type": "code",
	   "execution_count": null,
	   "metadata": {
	    "collapsed": true
	   },
	   "outputs": [],
"source": [
"clc\n",
"//initialisation of variables\n",
"V= 5.16*10^14 //cm per sec\n",
"M2= 28 //gms\n",
"M1= 2.02 //gms\n",
"//CALCULATIONS\n",
"c1= V*sqrt(M2/M1)\n",
"//RESULTS\n",
"printf (' Velocity of hydrogen molecule = %.1e cm per sec',c1)"
   ]
   }
],
"metadata": {
		  "kernelspec": {
		   "display_name": "Scilab",
		   "language": "scilab",
		   "name": "scilab"
		  },
		  "language_info": {
		   "file_extension": ".sce",
		   "help_links": [
			{
			 "text": "MetaKernel Magics",
			 "url": "https://github.com/calysto/metakernel/blob/master/metakernel/magics/README.md"
			}
		   ],
		   "mimetype": "text/x-octave",
		   "name": "scilab",
		   "version": "0.7.1"
		  }
		 },
		 "nbformat": 4,
		 "nbformat_minor": 0
}
