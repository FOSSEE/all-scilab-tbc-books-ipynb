{
"cells": [
 {
		   "cell_type": "markdown",
	   "metadata": {},
	   "source": [
       "# Chapter 8: Chemical Equlibrium"
	   ]
	},
{
		   "cell_type": "markdown",
		   "metadata": {},
		   "source": [
			"## Example 8.1: chapter_8_example_1.sce"
		   ]
		  },
  {
"cell_type": "code",
	   "execution_count": null,
	   "metadata": {
	    "collapsed": true
	   },
	   "outputs": [],
"source": [
"clc\n",
"//initialisation of variables\n",
"x= 3.33\n",
"n= 5 //moles\n",
"//CALCULATIONS\n",
"N= x^2/(n-x)^2\n",
"//RESULTS\n",
"printf (' moles of water and ester formed= %.f ',N)"
   ]
   }
,
{
		   "cell_type": "markdown",
		   "metadata": {},
		   "source": [
			"## Example 8.2: chapter_8_example_2.sce"
		   ]
		  },
  {
"cell_type": "code",
	   "execution_count": null,
	   "metadata": {
	    "collapsed": true
	   },
	   "outputs": [],
"source": [
"clc\n",
"//initialisation of variables\n",
"n= 1 //mole\n",
"x= 3\n",
"y= 4\n",
"//CALCULATIONS\n",
"r= x^2/n^2\n",
"z= n/x\n",
"n= n+z\n",
"n1= x-z\n",
"//RESULTS\n",
"printf (' moles of acid and alcohol= %.2f moles',n)\n",
"printf (' \n moles of ester and water= %.2f moles',n1)"
   ]
   }
,
{
		   "cell_type": "markdown",
		   "metadata": {},
		   "source": [
			"## Example 8.3: chapter_8_example_3.sce"
		   ]
		  },
  {
"cell_type": "code",
	   "execution_count": null,
	   "metadata": {
	    "collapsed": true
	   },
	   "outputs": [],
"source": [
"clc\n",
"//initialisation of variables\n",
"k= 1.1*10^-5\n",
"V= 600 //ml\n",
"n= 0.4 //mole\n",
"//CALCULATIONS\n",
"m= n*1000/V\n",
"x= (-k+sqrt(k^2+4*4*0.67*k))/(2*4)\n",
"M= 2*x\n",
"P= x*100/m\n",
"//RESULTS\n",
"printf (' molar concentration of NO2= %.1e mol per litre',M)\n",
"printf (' \n per cent dissociation= %.2f per cent',P)"
   ]
   }
,
{
		   "cell_type": "markdown",
		   "metadata": {},
		   "source": [
			"## Example 8.4: chapter_8_example_4.sce"
		   ]
		  },
  {
"cell_type": "code",
	   "execution_count": null,
	   "metadata": {
	    "collapsed": true
	   },
	   "outputs": [],
"source": [
"clc\n",
"//initialisation of variables\n",
"pno2= 0.31 //atm\n",
"pn2o2= 0.69 //atm\n",
"p= 10 //atm\n",
"//CALCULATIONS\n",
"Kp= pno2^2/pn2o2\n",
"x= (-Kp+sqrt(Kp^2+4*4*p*Kp))/(2*4)\n",
"p1= p-x\n",
"p2= 2*x\n",
"//RESULTS\n",
"printf (' Kp= %.2f ',Kp)\n",
"printf (' \n N2O4= %.2f ',p1)\n",
"printf (' \n NO2= %.2f ',p2)"
   ]
   }
,
{
		   "cell_type": "markdown",
		   "metadata": {},
		   "source": [
			"## Example 8.5: chapter_8_example_5.sce"
		   ]
		  },
  {
"cell_type": "code",
	   "execution_count": null,
	   "metadata": {
	    "collapsed": true
	   },
	   "outputs": [],
"source": [
"clc\n",
"//initialisation of variables\n",
"T= 65 //C\n",
"R= 1.98 //cal/mol K\n",
"kp= 2.8\n",
"kp1= 0.141\n",
"T1= 25 //C\n",
"//CALCULATIONS\n",
"H= log10(kp/kp1)*2.303*R*(273+T1)*(273+T)/(T-T1)\n",
"//RESULTS\n",
"printf (' average heat of reaction= %.f cal',H+62)"
   ]
   }
],
"metadata": {
		  "kernelspec": {
		   "display_name": "Scilab",
		   "language": "scilab",
		   "name": "scilab"
		  },
		  "language_info": {
		   "file_extension": ".sce",
		   "help_links": [
			{
			 "text": "MetaKernel Magics",
			 "url": "https://github.com/calysto/metakernel/blob/master/metakernel/magics/README.md"
			}
		   ],
		   "mimetype": "text/x-octave",
		   "name": "scilab",
		   "version": "0.7.1"
		  }
		 },
		 "nbformat": 4,
		 "nbformat_minor": 0
}
