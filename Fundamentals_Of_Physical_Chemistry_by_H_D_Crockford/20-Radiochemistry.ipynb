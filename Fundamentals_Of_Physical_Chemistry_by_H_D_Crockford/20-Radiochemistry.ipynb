{
"cells": [
 {
		   "cell_type": "markdown",
	   "metadata": {},
	   "source": [
       "# Chapter 20: Radiochemistry"
	   ]
	},
{
		   "cell_type": "markdown",
		   "metadata": {},
		   "source": [
			"## Example 20.1: chapter_20_example_1.sce"
		   ]
		  },
  {
"cell_type": "code",
	   "execution_count": null,
	   "metadata": {
	    "collapsed": true
	   },
	   "outputs": [],
"source": [
"clc\n",
"//initialisation of variables\n",
"t= 4.5*10^9 //years\n",
"t1= 1590 //years\n",
"//CALCULATIONS\n",
"l= log10(2)/(t*0.4343)\n",
"l1= log10(2)/(t1*0.4343)\n",
"r= l1/l\n",
"r1= t/t1\n",
"//RESULTS\n",
"printf (' disintegration constant= %.2e yr^-1',l)\n",
"printf (' \n disintegration constant= %.2e yr^-1',l1)\n",
"printf (' \n relative proportion= %.2e ',r)\n",
"printf (' \n relative proportion= %.2e ',r1)"
   ]
   }
],
"metadata": {
		  "kernelspec": {
		   "display_name": "Scilab",
		   "language": "scilab",
		   "name": "scilab"
		  },
		  "language_info": {
		   "file_extension": ".sce",
		   "help_links": [
			{
			 "text": "MetaKernel Magics",
			 "url": "https://github.com/calysto/metakernel/blob/master/metakernel/magics/README.md"
			}
		   ],
		   "mimetype": "text/x-octave",
		   "name": "scilab",
		   "version": "0.7.1"
		  }
		 },
		 "nbformat": 4,
		 "nbformat_minor": 0
}
