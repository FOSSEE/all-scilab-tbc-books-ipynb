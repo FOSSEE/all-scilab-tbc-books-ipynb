{
"cells": [
 {
		   "cell_type": "markdown",
	   "metadata": {},
	   "source": [
       "# Chapter 5: Solutions Osmotic Pressure"
	   ]
	},
{
		   "cell_type": "markdown",
		   "metadata": {},
		   "source": [
			"## Example 5.1: chapter_5_example_1.sce"
		   ]
		  },
  {
"cell_type": "code",
	   "execution_count": null,
	   "metadata": {
	    "collapsed": true
	   },
	   "outputs": [],
"source": [
"clc\n",
"//initialisation of variables\n",
"T= 20 //C\n",
"R= 0.082 //li-atm per mole per degree\n",
"V= 2 //lit\n",
"m= 6 //gms\n",
"M= 60 //gms\n",
"//CALCULATIONS\n",
"P= m*R*(273+T)/(M*V)\n",
"//RESULTS\n",
"printf (' osmotic pressure= %.1f atm',P)"
   ]
   }
,
{
		   "cell_type": "markdown",
		   "metadata": {},
		   "source": [
			"## Example 5.2: chapter_5_example_2.sce"
		   ]
		  },
  {
"cell_type": "code",
	   "execution_count": null,
	   "metadata": {
	    "collapsed": true
	   },
	   "outputs": [],
"source": [
"clc\n",
"//initialisation of variables\n",
"T= -0.2 //C\n",
"T1= 25 //C\n",
"T2= 1.86 //C\n",
"R= 0.082 //li-atm per mole per degree\n",
"//CALCULATIONS\n",
"P= -T*R*(T1+273)/T2\n",
"//RESULTS\n",
"printf (' osmotic pressure= %.2f atm',P)"
   ]
   }
],
"metadata": {
		  "kernelspec": {
		   "display_name": "Scilab",
		   "language": "scilab",
		   "name": "scilab"
		  },
		  "language_info": {
		   "file_extension": ".sce",
		   "help_links": [
			{
			 "text": "MetaKernel Magics",
			 "url": "https://github.com/calysto/metakernel/blob/master/metakernel/magics/README.md"
			}
		   ],
		   "mimetype": "text/x-octave",
		   "name": "scilab",
		   "version": "0.7.1"
		  }
		 },
		 "nbformat": 4,
		 "nbformat_minor": 0
}
