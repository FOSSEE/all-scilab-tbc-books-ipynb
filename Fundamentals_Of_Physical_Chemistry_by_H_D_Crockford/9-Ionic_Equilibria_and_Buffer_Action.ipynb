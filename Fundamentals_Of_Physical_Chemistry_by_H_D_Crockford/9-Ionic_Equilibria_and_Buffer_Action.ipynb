{
"cells": [
 {
		   "cell_type": "markdown",
	   "metadata": {},
	   "source": [
       "# Chapter 9: Ionic Equilibria and Buffer Action"
	   ]
	},
{
		   "cell_type": "markdown",
		   "metadata": {},
		   "source": [
			"## Example 9.10: chapter_9_example_10.sce"
		   ]
		  },
  {
"cell_type": "code",
	   "execution_count": null,
	   "metadata": {
	    "collapsed": true
	   },
	   "outputs": [],
"source": [
"clc\n",
"//initialisation of variables\n",
"c= 0.1 //M\n",
"Kb= 1.8*10^-5\n",
"Kw= 10^-14\n",
"//CALCULATIONS\n",
"C= sqrt(c*Kw/Kb)\n",
"//RESULTS\n",
"printf (' concentration of hydronium ion = %.1e mol per litre',C)"
   ]
   }
,
{
		   "cell_type": "markdown",
		   "metadata": {},
		   "source": [
			"## Example 9.11: chapter_9_example_11.sce"
		   ]
		  },
  {
"cell_type": "code",
	   "execution_count": null,
	   "metadata": {
	    "collapsed": true
	   },
	   "outputs": [],
"source": [
"clc\n",
"//initialisation of variables\n",
"c= 0.050 //M\n",
"Kb= 1.8*10^-5\n",
"T= 25 //C\n",
"Kw= 10^-14\n",
"//CALCULATIONS\n",
"C= sqrt(Kw*c/Kb)\n",
"//RESULTS\n",
"printf (' concentration of hydronium ion = %.1e mol per litre',C)"
   ]
   }
,
{
		   "cell_type": "markdown",
		   "metadata": {},
		   "source": [
			"## Example 9.12: chapter_9_example_12.sce"
		   ]
		  },
  {
"cell_type": "code",
	   "execution_count": null,
	   "metadata": {
	    "collapsed": true
	   },
	   "outputs": [],
"source": [
"clc\n",
"//initialisation of variables\n",
"kw= 10^-14\n",
"Ka= 1.8*10^-5\n",
"//CALCULATIONS\n",
"Kb= Ka\n",
"B= sqrt(kw/(Ka*Kb))\n",
"//RESULTS\n",
"printf (' degree of hydrolysis = %.1e ',B)"
   ]
   }
,
{
		   "cell_type": "markdown",
		   "metadata": {},
		   "source": [
			"## Example 9.13: chapter_9_example_13.sce"
		   ]
		  },
  {
"cell_type": "code",
	   "execution_count": null,
	   "metadata": {
	    "collapsed": true
	   },
	   "outputs": [],
"source": [
"clc\n",
"//initialisation of variables\n",
"k1= 3.5*10^-7\n",
"k2= 4.4*10^-11\n",
"//CALCULATIONS\n",
"c= sqrt(k1*k2)\n",
"//RESULTS\n",
"printf (' concentration of solution = %.1e mol per litre',c)"
   ]
   }
,
{
		   "cell_type": "markdown",
		   "metadata": {},
		   "source": [
			"## Example 9.14: chapter_9_example_14.sce"
		   ]
		  },
  {
"cell_type": "code",
	   "execution_count": null,
	   "metadata": {
	    "collapsed": true
	   },
	   "outputs": [],
"source": [
"clc\n",
"//initialisation of variables\n",
"c= 1.92*10^-5 //mole per litre\n",
"//CALCULATIONS\n",
"pH= -log10(c)\n",
"//RESULTS\n",
"printf (' pH of solution = %.2f ',pH)"
   ]
   }
,
{
		   "cell_type": "markdown",
		   "metadata": {},
		   "source": [
			"## Example 9.15: chapter_9_example_15.sce"
		   ]
		  },
  {
"cell_type": "code",
	   "execution_count": null,
	   "metadata": {
	    "collapsed": true
	   },
	   "outputs": [],
"source": [
"clc\n",
"//initialisation of variables\n",
"pH= 7.36\n",
"//CALCULATIONS\n",
"C= 10^-pH\n",
"//RESULTS\n",
"printf (' concentration of solution = %.2e mol per litre',C)"
   ]
   }
,
{
		   "cell_type": "markdown",
		   "metadata": {},
		   "source": [
			"## Example 9.16: chapter_9_example_16.sce"
		   ]
		  },
  {
"cell_type": "code",
	   "execution_count": null,
	   "metadata": {
	    "collapsed": true
	   },
	   "outputs": [],
"source": [
"clc\n",
"//initialisation of variables\n",
"c= 1 //M\n",
"Kb= 5.3*10^-5\n",
"pKw= 14\n",
"//CALCULATIONS\n",
"pH= pKw+0.5*log10(Kb)+0.5*log10(c)\n",
"//RESULTS\n",
"printf (' pH of solution = %.2f ',pH)"
   ]
   }
,
{
		   "cell_type": "markdown",
		   "metadata": {},
		   "source": [
			"## Example 9.17: chapter_9_example_17.sce"
		   ]
		  },
  {
"cell_type": "code",
	   "execution_count": null,
	   "metadata": {
	    "collapsed": true
	   },
	   "outputs": [],
"source": [
"clc\n",
"//initialisation of variables\n",
"c= 0.1 //M\n",
"Ka= 6.3*10^-5\n",
"pKw= 14\n",
"//CALCULATIONS\n",
"pH= -0.5*log10(Ka)+0.5*pKw+0.5*log10(c)\n",
"//RESULTS\n",
"printf (' pH of a buffer solution = %.2f ',pH)"
   ]
   }
,
{
		   "cell_type": "markdown",
		   "metadata": {},
		   "source": [
			"## Example 9.18: chapter_9_example_18.sce"
		   ]
		  },
  {
"cell_type": "code",
	   "execution_count": null,
	   "metadata": {
	    "collapsed": true
	   },
	   "outputs": [],
"source": [
"clc\n",
"//initialisation of variables\n",
"Ka= 1.8*10^-5\n",
"a= 0.1 //molar\n",
"//CALCULATIONS\n",
"pH= -log10(Ka)\n",
"//RESULTS\n",
"printf (' pH of a buffer solution = %.2f ',pH)"
   ]
   }
,
{
		   "cell_type": "markdown",
		   "metadata": {},
		   "source": [
			"## Example 9.19: chapter_9_example_19.sce"
		   ]
		  },
  {
"cell_type": "code",
	   "execution_count": null,
	   "metadata": {
	    "collapsed": true
	   },
	   "outputs": [],
"source": [
"clc\n",
"//initialisation of variables\n",
"pH= 7.10\n",
"pH1= 7.21\n",
"//CALCULATIONS\n",
"r= 10^(pH-pH1)\n",
"//RESULTS\n",
"printf (' ratio of salt to acid = %.3f ',r)"
   ]
   }
,
{
		   "cell_type": "markdown",
		   "metadata": {},
		   "source": [
			"## Example 9.1: chapter_9_example_1.sce"
		   ]
		  },
  {
"cell_type": "code",
	   "execution_count": null,
	   "metadata": {
	    "collapsed": true
	   },
	   "outputs": [],
"source": [
"clc\n",
"//initialisation of variables\n",
"c= 0.1 //M\n",
"p= 1.34 //per cent\n",
"T= 25 //C\n",
"//CALCULATIONS\n",
"C1= c*p/100\n",
"C2= c*p/100\n",
"C3= c-C1\n",
"Ka= C1*C2/C3\n",
"//RESULTS\n",
"printf (' ionization constant = %.2e ',Ka)"
   ]
   }
,
{
		   "cell_type": "markdown",
		   "metadata": {},
		   "source": [
			"## Example 9.2: chapter_9_example_2.sce"
		   ]
		  },
  {
"cell_type": "code",
	   "execution_count": null,
	   "metadata": {
	    "collapsed": true
	   },
	   "outputs": [],
"source": [
"clc\n",
"//initialisation of variables\n",
"k= 1.8*10^-5\n",
"C= 0.2 //M\n",
"T= 25 //C\n",
"//CALCULATIONS\n",
"x= sqrt(C*k)\n",
"a= x/C\n",
"C1= a*C\n",
"//RESULTS\n",
"printf (' hydronium-ion concentration = %.1e mole per litre',C1)"
   ]
   }
,
{
		   "cell_type": "markdown",
		   "metadata": {},
		   "source": [
			"## Example 9.3: chapter_9_example_3.sce"
		   ]
		  },
  {
"cell_type": "code",
	   "execution_count": null,
	   "metadata": {
	    "collapsed": true
	   },
	   "outputs": [],
"source": [
"clc\n",
"//initialisation of variables\n",
"K= 1.8*10^-5\n",
"V= 500 //ml\n",
"c1= 0.3 //M\n",
"c2= 0.2 //M\n",
"//CALCULATIONS\n",
"x= V*c1/1000\n",
"y= V*c2/1000\n",
"C= K*y/x\n",
"//RESULTS\n",
"printf (' hydronium-ion concentration = %.1e mole per litre',C)"
   ]
   }
,
{
		   "cell_type": "markdown",
		   "metadata": {},
		   "source": [
			"## Example 9.4: chapter_9_example_4.sce"
		   ]
		  },
  {
"cell_type": "code",
	   "execution_count": null,
	   "metadata": {
	    "collapsed": true
	   },
	   "outputs": [],
"source": [
"clc\n",
"//initialisation of variables\n",
"K= 1.4*10^-5\n",
"T= 25 //C\n",
"V= 200 //ml\n",
"m= 3.7 //gms\n",
"m1= 4.8 //gms\n",
"M= 74 //gms\n",
"M1= 96 //gms\n",
"//CALCULATIONS\n",
"x= m*1000/(V*M)\n",
"y= m1*1000/(V*M1)\n",
"X= K*x/y\n",
"//RESULTS\n",
"printf (' hydronium-ion concentration = %.1e mole per litre',X)"
   ]
   }
,
{
		   "cell_type": "markdown",
		   "metadata": {},
		   "source": [
			"## Example 9.5: chapter_9_example_5.sce"
		   ]
		  },
  {
"cell_type": "code",
	   "execution_count": null,
	   "metadata": {
	    "collapsed": true
	   },
	   "outputs": [],
"source": [
"clc\n",
"//initialisation of variables\n",
"c= 0.050 //M\n",
"Ksp= 4.3*10^-7\n",
"//CALCULATIONS\n",
"C= sqrt(Ksp*c)\n",
"//RESULTS\n",
"printf (' concentration of hydronium-ion = %.1e mole per litre',C)"
   ]
   }
,
{
		   "cell_type": "markdown",
		   "metadata": {},
		   "source": [
			"## Example 9.6: chapter_9_example_6.sce"
		   ]
		  },
  {
"cell_type": "code",
	   "execution_count": null,
	   "metadata": {
	    "collapsed": true
	   },
	   "outputs": [],
"source": [
"clc\n",
"//initialisation of variables\n",
"C= 0.050 //M\n",
"K= 2.4*10^-17\n",
"c= 0.1 //M\n",
"//CALCULATIONS\n",
"c1= K*C/c^2\n",
"//RESULTS\n",
"printf (' concentration of carbonate-ion = %.1e mole per litre',c1)"
   ]
   }
,
{
		   "cell_type": "markdown",
		   "metadata": {},
		   "source": [
			"## Example 9.7: chapter_9_example_7.sce"
		   ]
		  },
  {
"cell_type": "code",
	   "execution_count": null,
	   "metadata": {
	    "collapsed": true
	   },
	   "outputs": [],
"source": [
"clc\n",
"//initialisation of variables\n",
"n= 1.31*10^-4 //mole\n",
"T= 25 //C\n",
"//CALCULATIONS\n",
"N= 2*n\n",
"Ksp= N^2*n\n",
"//RESULTS\n",
"printf (' Ksp = %.e ',Ksp)"
   ]
   }
,
{
		   "cell_type": "markdown",
		   "metadata": {},
		   "source": [
			"## Example 9.8: chapter_9_example_8.sce"
		   ]
		  },
  {
"cell_type": "code",
	   "execution_count": null,
	   "metadata": {
	    "collapsed": true
	   },
	   "outputs": [],
"source": [
"clc\n",
"//initialisation of variables\n",
"Ksp= 1.4*10^-11\n",
"V= 200 //ml\n",
"M= 24.3 //gms\n",
"//CALCULATIONS\n",
"x= (Ksp/4)^(1/3)\n",
"m= x*M*V/1000\n",
"//RESULTS\n",
"printf (' grams of Mg+2 present = %.1e gms per mol',m)"
   ]
   }
,
{
		   "cell_type": "markdown",
		   "metadata": {},
		   "source": [
			"## Example 9.9: chapter_9_example_9.sce"
		   ]
		  },
  {
"cell_type": "code",
	   "execution_count": null,
	   "metadata": {
	    "collapsed": true
	   },
	   "outputs": [],
"source": [
"clc\n",
"//initialisation of variables\n",
"c= 0.010 //M\n",
"Ksp= 1.56*10^-10\n",
"M= 108 //gms\n",
"C= 10^-3 //M\n",
"//CALCULATIONS\n",
"K= Ksp/C\n",
"m= M*K\n",
"m1= M*c\n",
"//RESULTS\n",
"printf (' quantity = %.2e gms',m)\n",
"printf (' \n quantity = %.2f gms',m1)"
   ]
   }
],
"metadata": {
		  "kernelspec": {
		   "display_name": "Scilab",
		   "language": "scilab",
		   "name": "scilab"
		  },
		  "language_info": {
		   "file_extension": ".sce",
		   "help_links": [
			{
			 "text": "MetaKernel Magics",
			 "url": "https://github.com/calysto/metakernel/blob/master/metakernel/magics/README.md"
			}
		   ],
		   "mimetype": "text/x-octave",
		   "name": "scilab",
		   "version": "0.7.1"
		  }
		 },
		 "nbformat": 4,
		 "nbformat_minor": 0
}
