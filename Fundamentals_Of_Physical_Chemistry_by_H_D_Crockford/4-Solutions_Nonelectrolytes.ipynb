{
"cells": [
 {
		   "cell_type": "markdown",
	   "metadata": {},
	   "source": [
       "# Chapter 4: Solutions Nonelectrolytes"
	   ]
	},
{
		   "cell_type": "markdown",
		   "metadata": {},
		   "source": [
			"## Example 4.1: chapter_4_example_1.sce"
		   ]
		  },
  {
"cell_type": "code",
	   "execution_count": null,
	   "metadata": {
	    "collapsed": true
	   },
	   "outputs": [],
"source": [
"clc\n",
"//initialisation of variables\n",
"m= 164.2 //gms\n",
"M= 60 //gms\n",
"V= 0.8 //lit\n",
"d= 1.026 //g/cc\n",
"mw= 18.02 //gms\n",
"//CALCULATIONS\n",
"M1= m/M\n",
"n= M1/V\n",
"G= V*1000*d\n",
"G1= G-m\n",
"m1= M1*1000/G1\n",
"n1= G1/mw\n",
"x= M1/(M1+n1)\n",
"y= 1-x\n",
"p= x*100\n",
"p1= y*100\n",
"P= m*100/G\n",
"//RESULTS\n",
"printf (' molarity= %.3f M',n)\n",
"printf (' \n molality= %.3f m',m1)\n",
"printf (' \n mole fraction of solute= %.4f ',x)\n",
"printf (' \n mol per cent of solute= %.2f per cent',p)\n",
"printf (' \n mol per cent of solvent= %.2f per cent',p1)\n",
"printf (' \n mol per cent acetic acid by weight= %.2f per cent',P)"
   ]
   }
,
{
		   "cell_type": "markdown",
		   "metadata": {},
		   "source": [
			"## Example 4.2: chapter_4_example_2.sce"
		   ]
		  },
  {
"cell_type": "code",
	   "execution_count": null,
	   "metadata": {
	    "collapsed": true
	   },
	   "outputs": [],
"source": [
"clc\n",
"//initialisation of variables\n",
"m= 0.0346 //gms\n",
"V= 800 //ml\n",
"P= 742 //mm\n",
"M= 32 //gms\n",
"p= 400 //mm\n",
"//CALCULATIONS\n",
"c= m*1000/V\n",
"g= c*760/(P*M)\n",
"K= g*22.4\n",
"k= c/P\n",
"c1= k*p\n",
"//RESULTS\n",
"printf (' concentration of oxygen= %.4f gram per litre',c)\n",
"printf (' \n moles dissolved = %.5f moles',g)\n",
"printf (' \n Bunsen absorption = %.4f litre',K)\n",
"printf (' \n grams of oxygen dissolved = %.4f gram per litre',c1)"
   ]
   }
,
{
		   "cell_type": "markdown",
		   "metadata": {},
		   "source": [
			"## Example 4.3: chapter_4_example_3.sce"
		   ]
		  },
  {
"cell_type": "code",
	   "execution_count": null,
	   "metadata": {
	    "collapsed": true
	   },
	   "outputs": [],
"source": [
"clc\n",
"//initialisation of variables\n",
"mn= 0.0134 //gms\n",
"mo= 0.0261 //gms\n",
"mh= 0.0081 //gms\n",
"T= 30 //C\n",
"P= 3 //atm\n",
"r= 4/5\n",
"//CALCULATIONS\n",
"V= mn*(273+T)*1000/273\n",
"V1= V*r\n",
"V2= V1*P\n",
"V3= mo*(273+T)*(1-r)*P*1000/273\n",
"V4= mh*(273+T)*r*1000/273\n",
"V5= V4*P\n",
"V6= V2-V1\n",
"V7= V5-V4\n",
"//RESULTS\n",
"printf (' volume of oxygen= %.1f ml',V)\n",
"printf (' \n volume of nitrogen= %.1f ml',V3)\n",
"printf (' \n volume of helium = %.1f ml',V5)\n",
"printf (' \n volume of nitrogen and helium would be expelled = %.1f ml',V7)"
   ]
   }
,
{
		   "cell_type": "markdown",
		   "metadata": {},
		   "source": [
			"## Example 4.4: Chapter_4_example_4.sce"
		   ]
		  },
  {
"cell_type": "code",
	   "execution_count": null,
	   "metadata": {
	    "collapsed": true
	   },
	   "outputs": [],
"source": [
"clc\n",
"//initialisation of variables\n",
"p= 214 //mm\n",
"M= 112.5 //gms\n",
"m= 18 //gms\n",
"m1= 10 //gms\n",
"//CALCULATIONS\n",
"P= 760-p\n",
"M1= m1*P*m/(p*M)\n",
"//RESULTS\n",
"printf (' quantity of water= %.2f gms',M1)"
   ]
   }
,
{
		   "cell_type": "markdown",
		   "metadata": {},
		   "source": [
			"## Example 4.5: chapter_4_example_5.sce"
		   ]
		  },
  {
"cell_type": "code",
	   "execution_count": null,
	   "metadata": {
	    "collapsed": true
	   },
	   "outputs": [],
"source": [
"clc\n",
"//initialisation of variables\n",
"p = 17.4 //mm\n",
"m= 1000 //gms\n",
"M= 18 //gms\n",
"n= 2 //moles\n",
"//CALCULATIONS\n",
"P= p*((m/M)/((m/M)+n))\n",
"P1= p*(n/((m/M)+n))\n",
"dp= p-P1\n",
"//RESULTS\n",
"printf (' vapour pressure of solution= %.2f mm',P1)"
   ]
   }
,
{
		   "cell_type": "markdown",
		   "metadata": {},
		   "source": [
			"## Example 4.6: chapter_4_example_6.sce"
		   ]
		  },
  {
"cell_type": "code",
	   "execution_count": null,
	   "metadata": {
	    "collapsed": true
	   },
	   "outputs": [],
"source": [
"clc\n",
"//initialisation of variables\n",
"m= 92.13 //gms\n",
"M= 78.11 //gms\n",
"n= 1 //moles\n",
"p= 119.6 //mm\n",
"p1= 36.7 //mm\n",
"//CALCULATIONS\n",
"n1= m/M\n",
"x= n/(n+n1)\n",
"y= 1-x\n",
"P= y*p\n",
"P1= x*p1\n",
"P2= P+P1\n",
"m1= P/P2\n",
"m2= 1-m1\n",
"//RESULTS\n",
"printf (' mole fraction of benzene= %.3f ',m1)\n",
"printf (' \n mole fraction of toulene= %.3f ',m2)"
   ]
   }
],
"metadata": {
		  "kernelspec": {
		   "display_name": "Scilab",
		   "language": "scilab",
		   "name": "scilab"
		  },
		  "language_info": {
		   "file_extension": ".sce",
		   "help_links": [
			{
			 "text": "MetaKernel Magics",
			 "url": "https://github.com/calysto/metakernel/blob/master/metakernel/magics/README.md"
			}
		   ],
		   "mimetype": "text/x-octave",
		   "name": "scilab",
		   "version": "0.7.1"
		  }
		 },
		 "nbformat": 4,
		 "nbformat_minor": 0
}
