{
"cells": [
 {
		   "cell_type": "markdown",
	   "metadata": {},
	   "source": [
       "# Chapter 6: Solutions Solutions of Electrolytes"
	   ]
	},
{
		   "cell_type": "markdown",
		   "metadata": {},
		   "source": [
			"## Example 6.1: chapter_6_example_1.sce"
		   ]
		  },
  {
"cell_type": "code",
	   "execution_count": null,
	   "metadata": {
	    "collapsed": true
	   },
	   "outputs": [],
"source": [
"clc\n",
"//initialisation of variables\n",
"T= 25 //C\n",
"R= 0.0821 //li-atm per mole per degree\n",
"M= 0.5 //m\n",
"n= 2\n",
"m= 0.680\n",
"V= 1 //lit\n",
"//CALCULATIONS\n",
"P= R*(273+T)*M*n*m/V\n",
"//RESULTS\n",
"printf (' osmotic pressure= %.2f atm',P)"
   ]
   }
,
{
		   "cell_type": "markdown",
		   "metadata": {},
		   "source": [
			"## Example 6.2: chapter_6_example_2.sce"
		   ]
		  },
  {
"cell_type": "code",
	   "execution_count": null,
	   "metadata": {
	    "collapsed": true
	   },
	   "outputs": [],
"source": [
"clc\n",
"//initialisation of variables\n",
"M= 0.001 //molar\n",
"M1= 0.002 //molar\n",
"M2= 0.004 //molar\n",
"n= 1 //moles\n",
"n1= 2 //moles\n",
"v= 0.509\n",
"//CALCULATIONS\n",
"Is= 0.5*(M*n^2+M1*n^2+M1*n1^2+M2*n^2)\n",
"r= 10^(-v*n^2*sqrt(Is))*M\n",
"r1= 10^(-v*n1^2*sqrt(Is))*M1\n",
"//RESULTS\n",
"printf (' ionic strength= %.3f ',Is)\n",
"printf (' \n activity of sodium = %.4f molar',r)\n",
"printf (' \n activity of barium = %.4f molar',r1)"
   ]
   }
],
"metadata": {
		  "kernelspec": {
		   "display_name": "Scilab",
		   "language": "scilab",
		   "name": "scilab"
		  },
		  "language_info": {
		   "file_extension": ".sce",
		   "help_links": [
			{
			 "text": "MetaKernel Magics",
			 "url": "https://github.com/calysto/metakernel/blob/master/metakernel/magics/README.md"
			}
		   ],
		   "mimetype": "text/x-octave",
		   "name": "scilab",
		   "version": "0.7.1"
		  }
		 },
		 "nbformat": 4,
		 "nbformat_minor": 0
}
