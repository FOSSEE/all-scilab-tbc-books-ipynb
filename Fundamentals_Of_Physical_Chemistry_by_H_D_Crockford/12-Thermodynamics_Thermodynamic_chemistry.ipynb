{
"cells": [
 {
		   "cell_type": "markdown",
	   "metadata": {},
	   "source": [
       "# Chapter 12: Thermodynamics Thermodynamic chemistry"
	   ]
	},
{
		   "cell_type": "markdown",
		   "metadata": {},
		   "source": [
			"## Example 12.1: chapter_12_example_1.sce"
		   ]
		  },
  {
"cell_type": "code",
	   "execution_count": null,
	   "metadata": {
	    "collapsed": true
	   },
	   "outputs": [],
"source": [
"clc\n",
"//initialisation of variables\n",
"H= -771400 //cal\n",
"n= 7 //moles\n",
"n1= 7.5 //moles\n",
"T= 25 //C\n",
"R= 2 //cal mole per degree\n",
"//CALCULATIONS\n",
"E= H-(n-n1)*R*(273+T)\n",
"//RESULTS\n",
"printf (' difference between the heat of combustion = %.f cal',E)"
   ]
   }
,
{
		   "cell_type": "markdown",
		   "metadata": {},
		   "source": [
			"## Example 12.2: chapter_12_example_2.sce"
		   ]
		  },
  {
"cell_type": "code",
	   "execution_count": null,
	   "metadata": {
	    "collapsed": true
	   },
	   "outputs": [],
"source": [
"clc\n",
"//initialisation of variables\n",
"H= -94.052 //kcal\n",
"H1= -68.317 //kcal\n",
"H2= -780.98 //kcal\n",
"//CALCULATIONS\n",
"H3= 6*H+3*H1-H2\n",
"//RESULTS\n",
"printf (' Heat of formation = %.3f kcal',H3)"
   ]
   }
,
{
		   "cell_type": "markdown",
		   "metadata": {},
		   "source": [
			"## Example 12.3: chapter_12_example_3.sce"
		   ]
		  },
  {
"cell_type": "code",
	   "execution_count": null,
	   "metadata": {
	    "collapsed": true
	   },
	   "outputs": [],
"source": [
"clc\n",
"//initialisation of variables\n",
"H= -94.052 //kcal\n",
"H1= -68.32 //kcal\n",
"H2= 11.718 //kcal\n",
"//CALCULATIONS\n",
"H3= 6*H+3*H1-H2\n",
"//RESULTS\n",
"printf (' heat of combustion of benzene = %.f cal',H3)"
   ]
   }
,
{
		   "cell_type": "markdown",
		   "metadata": {},
		   "source": [
			"## Example 12.4: chapter_12_example_4.sce"
		   ]
		  },
  {
"cell_type": "code",
	   "execution_count": null,
	   "metadata": {
	    "collapsed": true
	   },
	   "outputs": [],
"source": [
"clc\n",
"//initialisation of variables\n",
"H= -66.36 //kcal\n",
"H1= 12.5 //k cal\n",
"H2= -68.317 //kcal\n",
"//CALCULATIONS\n",
"H3= H-H1-H2\n",
"//RESULTS\n",
"printf (' heat of reaction= %.2f cal',H3)"
   ]
   }
,
{
		   "cell_type": "markdown",
		   "metadata": {},
		   "source": [
			"## Example 12.5: chapter_12_example_5.sce"
		   ]
		  },
  {
"cell_type": "code",
	   "execution_count": null,
	   "metadata": {
	    "collapsed": true
	   },
	   "outputs": [],
"source": [
"clc\n",
"//initialisation of variables\n",
"T= 90 //C\n",
"T1= 25 //C\n",
"Cp= 6.9 //cal per mole per degree\n",
"CP1= 7.05 //cal per mole per degree\n",
"Cp2= 18 //cal per mole per degree\n",
"H= -68.37 //kcal\n",
"//CALCULATIONS\n",
"H1= H+(Cp2-Cp-0.5*Cp1)*((T-T1)/1000)\n",
"//RESULTS\n",
"printf (' heat of formation= %.2f cal',H1)"
   ]
   }
,
{
		   "cell_type": "markdown",
		   "metadata": {},
		   "source": [
			"## Example 12.6: chapter_12_example_6.sce"
		   ]
		  },
  {
"cell_type": "code",
	   "execution_count": null,
	   "metadata": {
	    "collapsed": true
	   },
	   "outputs": [],
"source": [
"clc\n",
"//initialisation of variables\n",
"Cp= 2.7 //cal per mole per degree\n",
"CP1= 6.9 //cal per mole per degree\n",
"Cp2= 15.4 //cal per mole per degree\n",
"H= -20.24 //kcal\n",
"T= 200 //C\n",
"T1= 25 //C\n",
"//CALCULATIONS\n",
"H1= H+(Cp2-2*Cp-3*Cp1)*((T-T1)/1000)\n",
"//RESULTS\n",
"printf (' heat of formation= %.2f cal',H1)"
   ]
   }
],
"metadata": {
		  "kernelspec": {
		   "display_name": "Scilab",
		   "language": "scilab",
		   "name": "scilab"
		  },
		  "language_info": {
		   "file_extension": ".sce",
		   "help_links": [
			{
			 "text": "MetaKernel Magics",
			 "url": "https://github.com/calysto/metakernel/blob/master/metakernel/magics/README.md"
			}
		   ],
		   "mimetype": "text/x-octave",
		   "name": "scilab",
		   "version": "0.7.1"
		  }
		 },
		 "nbformat": 4,
		 "nbformat_minor": 0
}
