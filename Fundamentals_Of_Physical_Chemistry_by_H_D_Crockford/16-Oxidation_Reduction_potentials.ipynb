{
"cells": [
 {
		   "cell_type": "markdown",
	   "metadata": {},
	   "source": [
       "# Chapter 16: Oxidation Reduction potentials"
	   ]
	},
{
		   "cell_type": "markdown",
		   "metadata": {},
		   "source": [
			"## Example 16.1: chapter_16_example_1.sce"
		   ]
		  },
  {
"cell_type": "code",
	   "execution_count": null,
	   "metadata": {
	    "collapsed": true
	   },
	   "outputs": [],
"source": [
"clc\n",
"//initialisation of variables\n",
"x= 0.02 //m\n",
"y= 0.4 //m\n",
"R= 0.0592\n",
"e= -0.771 //V\n",
"e1= -1.520 //v\n",
"n= 5 //electrons\n",
"z= 0.80 //m\n",
"z1= 0.5 //m\n",
"//CALCULATIONS\n",
"E= e-R*log10(x/y)\n",
"E1= e1-(R/n)*log10(z1*z^8/x)\n",
"E2= E-E1\n",
"//RESULTS\n",
"printf (' Redox potential of sample= %.3f v',E)\n",
"printf (' \n Redox potential of sample= %.3f v',E1)\n",
"printf (' \n Redox potential of sample= %.3f v',E2)"
   ]
   }
,
{
		   "cell_type": "markdown",
		   "metadata": {},
		   "source": [
			"## Example 16.2: chapter_16_example_2.sce"
		   ]
		  },
  {
"cell_type": "code",
	   "execution_count": null,
	   "metadata": {
	    "collapsed": true
	   },
	   "outputs": [],
"source": [
"clc\n",
"//initialisation of variables\n",
"E= 0.3500 //v\n",
"E1= -0.2788 //v\n",
"//CALCULATIONS\n",
"e= E+E1\n",
"//RESULTS\n",
"printf (' Redox potential of sample= %.4f v',e)"
   ]
   }
,
{
		   "cell_type": "markdown",
		   "metadata": {},
		   "source": [
			"## Example 16.3: chapter_16_example_3.sce"
		   ]
		  },
  {
"cell_type": "code",
	   "execution_count": null,
	   "metadata": {
	    "collapsed": true
	   },
	   "outputs": [],
"source": [
"clc\n",
"//initialisation of variables\n",
"p= 60 //percent\n",
"x= 0.030 //v\n",
"E= -0.039 //v\n",
"//CALCULATIONS\n",
"V= E-x*log10((1-(p/100))/(p/100))\n",
"//RESULTS\n",
"printf (' Redox potential of sample= %.3f v',V)"
   ]
   }
],
"metadata": {
		  "kernelspec": {
		   "display_name": "Scilab",
		   "language": "scilab",
		   "name": "scilab"
		  },
		  "language_info": {
		   "file_extension": ".sce",
		   "help_links": [
			{
			 "text": "MetaKernel Magics",
			 "url": "https://github.com/calysto/metakernel/blob/master/metakernel/magics/README.md"
			}
		   ],
		   "mimetype": "text/x-octave",
		   "name": "scilab",
		   "version": "0.7.1"
		  }
		 },
		 "nbformat": 4,
		 "nbformat_minor": 0
}
