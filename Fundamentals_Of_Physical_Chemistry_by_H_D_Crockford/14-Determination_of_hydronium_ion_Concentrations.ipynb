{
"cells": [
 {
		   "cell_type": "markdown",
	   "metadata": {},
	   "source": [
       "# Chapter 14: Determination of hydronium ion Concentrations"
	   ]
	},
{
		   "cell_type": "markdown",
		   "metadata": {},
		   "source": [
			"## Example 14.1: chapter_14_example_1.sce"
		   ]
		  },
  {
"cell_type": "code",
	   "execution_count": null,
	   "metadata": {
	    "collapsed": true
	   },
	   "outputs": [],
"source": [
"clc\n",
"//initialisation of variables\n",
"E= 0.232 //v\n",
"R= 0.0592\n",
"p= 1 //atm\n",
"R1= 0.0296\n",
"P= 740 //atm\n",
"//CALCULATIONS\n",
"pH= E/R\n",
"pH1= (E-R1*log10(P/760))/R\n",
"e= pH1-pH\n",
"//RESULTS\n",
"printf (' error in pH of solution= %.3f ',e-0.002)"
   ]
   }
,
{
		   "cell_type": "markdown",
		   "metadata": {},
		   "source": [
			"## Example 14.2: chapter_14_example_2.sce"
		   ]
		  },
  {
"cell_type": "code",
	   "execution_count": null,
	   "metadata": {
	    "collapsed": true
	   },
	   "outputs": [],
"source": [
"clc\n",
"//initialisation of variables\n",
"e= 0.266 //v\n",
"R= 0.0592\n",
"//CALCULATIONS\n",
"pH= e/R\n",
"//RESULTS\n",
"printf (' pH of the unkown solution= %.2f ',pH)"
   ]
   }
,
{
		   "cell_type": "markdown",
		   "metadata": {},
		   "source": [
			"## Example 14.3: chapter_14_example_3.sce"
		   ]
		  },
  {
"cell_type": "code",
	   "execution_count": null,
	   "metadata": {
	    "collapsed": true
	   },
	   "outputs": [],
"source": [
"clc\n",
"//initialisation of variables\n",
"e= 0.323 //v\n",
"R= 0.0592\n",
"c= 0.001 //molar\n",
"//CALCULATIONS\n",
"pH= (e-R*log10(c))/R\n",
"//RESULTS\n",
"printf (' pH of the unkown solution= %.2f ',pH)"
   ]
   }
,
{
		   "cell_type": "markdown",
		   "metadata": {},
		   "source": [
			"## Example 14.4: chapter_14_example_4.sce"
		   ]
		  },
  {
"cell_type": "code",
	   "execution_count": null,
	   "metadata": {
	    "collapsed": true
	   },
	   "outputs": [],
"source": [
"clc\n",
"//initialisation of variables\n",
"E= 0.527 //v\n",
"T= 25 //C\n",
"R= 0.0592\n",
"e= -0.246 //v\n",
"//CALCULATIONS\n",
"pH= -(-E-e)/R\n",
"//RESULTS\n",
"printf (' pH of the unkown solution= %.2f ',pH)"
   ]
   }
,
{
		   "cell_type": "markdown",
		   "metadata": {},
		   "source": [
			"## Example 14.5: chapter_14_example_5.sce"
		   ]
		  },
  {
"cell_type": "code",
	   "execution_count": null,
	   "metadata": {
	    "collapsed": true
	   },
	   "outputs": [],
"source": [
"clc\n",
"//initialisation of variables\n",
"E= 0.034 //v\n",
"E1= -0.280 //v\n",
"E2= -0.699 //v\n",
"E3= 0.0592\n",
"//CALCULATIONS\n",
"pH= (E1-E-E2)/E3\n",
"pH1= (E-E2+E1)/E3\n",
"//RESULTS\n",
"printf (' pH of the unkown solution= %.2f ',pH)\n",
"printf (' \n pH of the unkown solution= %.2f ',pH1)\n",
""
   ]
   }
],
"metadata": {
		  "kernelspec": {
		   "display_name": "Scilab",
		   "language": "scilab",
		   "name": "scilab"
		  },
		  "language_info": {
		   "file_extension": ".sce",
		   "help_links": [
			{
			 "text": "MetaKernel Magics",
			 "url": "https://github.com/calysto/metakernel/blob/master/metakernel/magics/README.md"
			}
		   ],
		   "mimetype": "text/x-octave",
		   "name": "scilab",
		   "version": "0.7.1"
		  }
		 },
		 "nbformat": 4,
		 "nbformat_minor": 0
}
