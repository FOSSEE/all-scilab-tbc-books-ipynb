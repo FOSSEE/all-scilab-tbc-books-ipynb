{
"cells": [
 {
		   "cell_type": "markdown",
	   "metadata": {},
	   "source": [
       "# Chapter 7: Conductivity"
	   ]
	},
{
		   "cell_type": "markdown",
		   "metadata": {},
		   "source": [
			"## Example 7.1: chapter_7_example_1.sce"
		   ]
		  },
  {
"cell_type": "code",
	   "execution_count": null,
	   "metadata": {
	    "collapsed": true
	   },
	   "outputs": [],
"source": [
"clc\n",
"//initialisation of variables\n",
"R= 10 //ohms\n",
"V= 5 //v\n",
"t= 20 //min\n",
"//CALCULATIONS\n",
"I= V/R\n",
"Q= I*t*60\n",
"E= Q*V\n",
"//RESULTS\n",
"printf (' current= %.1f amp',I)\n",
"printf (' \n coloumbs of electricity will pass= %.f coloumbs',Q)\n",
"printf (' \n energy expended= %.f joules',E)"
   ]
   }
,
{
		   "cell_type": "markdown",
		   "metadata": {},
		   "source": [
			"## Example 7.2: chapter_7_example_2.sce"
		   ]
		  },
  {
"cell_type": "code",
	   "execution_count": null,
	   "metadata": {
	    "collapsed": true
	   },
	   "outputs": [],
"source": [
"clc\n",
"//initialisation of variables\n",
"I= 50 //amp\n",
"t= 1 //hr\n",
"F= 96500 //amp-sec\n",
"mh= 1.01 //gms\n",
"mc= 35.46 //gms\n",
"ms= 107.88 //gms\n",
"mb= 79.9 //gms\n",
"mf= 55.85 //gms\n",
"V= 11.2 //lit\n",
"e= 8 //v\n",
"//CALCULATIONS\n",
"N= I*t*60*60/F\n",
"Mh= mh*N\n",
"Mc= mc*N\n",
"Ms= ms*N\n",
"Mb= mb*N\n",
"Mf= mf*N\n",
"v= N*V\n",
"E= e*I*60*60\n",
"//RESULTS\n",
"printf (' quantity of hydrogen produced= %.2f gms',Mh)\n",
"printf (' \n quantity of chlorine produced= %.2f gms',Mc)\n",
"printf (' \n quantity of silver produced= %.2f gms',Ms)\n",
"printf (' \n quantity of bromine produced= %.2f gms',Mb)\n",
"printf (' \n quantity of ferrous ion  produced= %.2f gms',Mf)\n",
"printf (' \n Volume occupied by gases= %.1f lit',v)\n",
"printf (' \n energy expenditure= %.f joules',E)"
   ]
   }
,
{
		   "cell_type": "markdown",
		   "metadata": {},
		   "source": [
			"## Example 7.3: chapter_7_example_3.sce"
		   ]
		  },
  {
"cell_type": "code",
	   "execution_count": null,
	   "metadata": {
	    "collapsed": true
	   },
	   "outputs": [],
"source": [
"clc\n",
"//initialisation of variables\n",
"i= 20 //amp\n",
"t= 50 //min\n",
"F= 96500 //coloumb\n",
"we= 8 //gms\n",
"Mo= 32 //gms\n",
"M= 27 //gms\n",
"n= 3\n",
"//CALCULATIONS\n",
"nf= i*t*60/F\n",
"V= we*22.4/Mo*nf\n",
"G= M/n\n",
"q= G*nf\n",
"//RESULTS\n",
"printf (' volume of oxygen produced= %.2f lit',V)\n",
"printf (' \n quantity of aluminium produced= %.2f grams',q)"
   ]
   }
,
{
		   "cell_type": "markdown",
		   "metadata": {},
		   "source": [
			"## Example 7.4: chapter_7_example_4.sce"
		   ]
		  },
  {
"cell_type": "code",
	   "execution_count": null,
	   "metadata": {
	    "collapsed": true
	   },
	   "outputs": [],
"source": [
"clc\n",
"//initialisation of variables\n",
"L= 0.025 //ohms\n",
"k= 0.0112 //ohms\n",
"//CALCULATIONS\n",
"C= k/L\n",
"//RESULTS\n",
"printf (' cell constant= %.3f ',C)"
   ]
   }
,
{
		   "cell_type": "markdown",
		   "metadata": {},
		   "source": [
			"## Example 7.5: chapter_7_example_5.sce"
		   ]
		  },
  {
"cell_type": "code",
	   "execution_count": null,
	   "metadata": {
	    "collapsed": true
	   },
	   "outputs": [],
"source": [
"clc\n",
"//initialisation of variables\n",
"m= 0.01 //M\n",
"CB= 235 //mm\n",
"R= 426.3 //ohms\n",
"M= 265 \n",
"C= 0.448\n",
"//CALCULATIONS\n",
"k= M*C/(R*CB)\n",
"A= k*1000/m\n",
"//RESULTS\n",
"printf (' equivalent conductance= %.1f ohms',A)"
   ]
   }
],
"metadata": {
		  "kernelspec": {
		   "display_name": "Scilab",
		   "language": "scilab",
		   "name": "scilab"
		  },
		  "language_info": {
		   "file_extension": ".sce",
		   "help_links": [
			{
			 "text": "MetaKernel Magics",
			 "url": "https://github.com/calysto/metakernel/blob/master/metakernel/magics/README.md"
			}
		   ],
		   "mimetype": "text/x-octave",
		   "name": "scilab",
		   "version": "0.7.1"
		  }
		 },
		 "nbformat": 4,
		 "nbformat_minor": 0
}
