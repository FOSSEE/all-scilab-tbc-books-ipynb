{
"cells": [
 {
		   "cell_type": "markdown",
	   "metadata": {},
	   "source": [
       "# Chapter 6: single stage integrated circuit amplifiers"
	   ]
	},
{
		   "cell_type": "markdown",
		   "metadata": {},
		   "source": [
			"## Example 6.10: To_determine_AM_ft_fZ_f3dB.sce"
		   ]
		  },
  {
"cell_type": "code",
	   "execution_count": null,
	   "metadata": {
	    "collapsed": true
	   },
	   "outputs": [],
"source": [
"// Example 6.10 : To determine A_M, f_t, f_Z, f_3dB\n",
"// Consider the CS amplifier\n",
"A_M=-12.3;// (V/V) found from Example 6.9\n",
"C_L=25*10^-15; // (F)\n",
"C_gd=5*10^-15; // (F)\n",
"R_L=9.82*10^3; // (F)\n",
"g_m=1.25*10^-3; // (mho)\n",
"f_H=1/(2*%pi*(C_L+C_gd)*R_L); // 3dB frequency\n",
"disp(f_H,'f_H (Hz)')\n",
"f_t=-A_M*f_H; // Unity-gain frequency - sign to make gain positive as only magnitude is considered\n",
"disp(f_t,'f_t (Hz)')\n",
"f_Z=g_m/(2*%pi*C_gd); // frequency of the zero\n",
"disp(f_Z,'f_Z (Hz)')\n",
"I_D=400*10^-6; // I_D must be quadrupled by changing I_REF to 400uF\n",
"V_OV=0.32; \n",
"g_m=I_D/(V_OV/2);\n",
"disp(g_m,'g_m (A/V)')\n",
"r_o1=5*0.36/(0.4*10^-3);\n",
"disp(r_o1,'r_o1 (ohm)')\n",
"r_o2=6*0.36/(0.4*10^-3);\n",
"disp(r_o2,'r_o2 (ohm)')\n",
"R_L=(r_o1*r_o2)/(r_o1+r_o2);\n",
"disp(R_L,'R_L (ohm)')\n",
"A_M=-g_m*R_L;\n",
"disp(A_M,'A_M (V/V)')\n",
"f_H=1/(2*%pi*(C_L+C_gd)*R_L);\n",
"disp(f_H,'f_H (Hz)')\n",
"f_t=f_H*-A_M; // Unity gain frequency\n",
"disp(f_t,'f_t (Hz)')"
   ]
   }
,
{
		   "cell_type": "markdown",
		   "metadata": {},
		   "source": [
			"## Example 6.11: Avo_Rin_Rout_Gi_Gis_Gv_fH.sce"
		   ]
		  },
  {
"cell_type": "code",
	   "execution_count": null,
	   "metadata": {
	    "collapsed": true
	   },
	   "outputs": [],
"source": [
"// Example 6.11 : Avo Rin Rout Gi Gis Gv fH\n",
"// Consider the common gate amplifier\n",
"g_m=1.25*10^-3; // (A/V)\n",
"r_o=18000; // (ohm)\n",
"I_D=100*10^-6; // (A)\n",
"X=0.2;\n",
"R_S=10*10^3; // (ohm)\n",
"R_L=100*10^3; // (ohm)\n",
"C_gs=20*10^-15;// (F)\n",
"C_gd=5*10^-15;// (F)\n",
"C_L=0; // (F)\n",
"gmplusgmb=g_m+0.2*g_m; // gmplusgmb=g_m+g_mb\n",
"A_vo=1+(gmplusgmb)*r_o;\n",
"disp(A_vo,'A_vo (V/V)')\n",
"R_in=(r_o+R_L)/A_vo;\n",
"disp(R_in,'R_in (ohm)')\n",
"R_out=r_o+A_vo*R_S;\n",
"disp(R_out,'ohm')\n",
"G_v=A_vo*R_L/(R_L+R_out);\n",
"disp(G_v,'G_v (V/V)')\n",
"G_is=A_vo*R_S/R_out;\n",
"disp(G_is,'G_is (A/A)')\n",
"G_i=G_is*R_out/(R_out+R_L)\n",
"disp(G_i,'G_i (A/A)')\n",
"R_gs=R_S*R_in/(R_S+R_in);\n",
"R_gd=R_L*R_out/(R_L+R_out);\n",
"T_H=C_gs*R_gs+C_gd*R_gd;\n",
"f_H=1/(2*%pi*T_H);\n",
"disp(f_H,'f_H (Hz)')"
   ]
   }
,
{
		   "cell_type": "markdown",
		   "metadata": {},
		   "source": [
			"## Example 6.12: Comparison_between_Cascode_amplifier_and_CS_amplif.sce"
		   ]
		  },
  {
"cell_type": "code",
	   "execution_count": null,
	   "metadata": {
	    "collapsed": true
	   },
	   "outputs": [],
"source": [
"// Example 6.12 : Comparison between Cascode amplifier and CS amplifier\n",
"// 6.12a \n",
"// CS amplifier\n",
"g_m=1.25*10^-3;\n",
"r_o=20*10^3;\n",
"R_L=r_o*r_o/(r_o+r_o);\n",
"C_gs=20*10^-15;\n",
"R_sig=10000;\n",
"C_gd=5*10^-15;\n",
"C_L=5*10^-15;\n",
"C_db=5*10^-15;\n",
"A_o=g_m*r_o;\n",
"disp(A_o,'A_o (V/V)')\n",
"A_v=-A_o/2;\n",
"disp(A_v,'A_v (V/V)')\n",
"T_H=C_gs*R_sig+C_gd*[(1+g_m*R_L)*R_sig+R_L]+(C_L+C_db)*R_L;\n",
"disp(T_H,'T_H (s)')\n",
"f_H=1/(2*%pi*T_H);\n",
"disp(f_H,'f_H (Hz)')\n",
"f_t=-A_v*f_H;\n",
"disp(f_t,'f_t (Hz)')\n",
"// Cascode amplifier\n",
"g_m1=1.25*10^-3;\n",
"r_o1=20000;\n",
"X=0.2;\n",
"r_o2=20000;\n",
"R_L=20000;\n",
"A_o1=g_m1*r_o1;\n",
"disp(A_o1,'A_o1 (V/V)')\n",
"gm2plusgmb2=g_m1+X*g_m;\n",
"A_vo2=1+(gm2plusgmb2)*r_o2;\n",
"disp(A_vo2,'A_vo2 (V/V)')\n",
"R_out1=r_o1;\n",
"R_in2=1/(gm2plusgmb2)+R_L/A_vo2;\n",
"disp(R_in2,'R_in2 (ohm)')\n",
"R_d1=R_out1*R_in2/(R_out1+R_in2);\n",
"disp(R_d1,'R_d1 (ohm)')\n",
"R_out=r_o2+A_vo2*r_o1;\n",
"disp(R_out,'R_out (ohm)')\n",
"vo1byvi=-g_m1*R_d1;\n",
"disp(vo1byvi,'(v_o1/v_i) (V/V)')\n",
"A_v=-A_o1*A_vo2*R_L/(R_L+R_out);\n",
"disp(A_v,'A_v (V/V)')\n",
"C_gs1=20*10^-15;\n",
"R_sig=10*10^3;\n",
"gm1Rd1=1.5;\n",
"C_gd1=5*10^-15;\n",
"C_gs2=20*10^-15;\n",
"C_db2=5*10^-15;\n",
"C_gd2=5*10^-15;\n",
"C_db1=5*10^-15;\n",
"T_H=R_sig*[C_gs1+C_gd1*(1+gm1Rd1)]+R_d1*(C_gd1+C_db1+C_gs2)+((R_L*R_out)/(R_L+R_out))*(C_L+C_db2+C_gd2);\n",
"f_H=1/(2*%pi*T_H);\n",
"disp(T_H,'T_H (s)')\n",
"disp(f_H,'f_H (Hz)')\n",
"f_t=-A_v*f_H;\n",
"disp(f_t,'f_t (Hz)')\n",
"// 6.12b \n",
"// CS amplifier\n",
"A_v=-12.5;\n",
"R_L=10*10^3;\n",
"disp(A_v,'A_v (V/V)')\n",
"T_H=(C_gd+C_L+C_db)*R_L;\n",
"disp(T_H,'T_H (s)')\n",
"f_H=1/(2*%pi*T_H);\n",
"disp(f_H,'F_H (Hz)')\n",
"f_t=-A_v*f_H;\n",
"disp(f_t,'f_t (Hz)')\n",
"// Cascode amplifier\n",
"R_L=640*10^3;\n",
"R_out=640*10^3;\n",
"R_out1=20*10^3;\n",
"A_v=-A_o1*A_vo2*R_L/(R_L+R_out);\n",
"disp(A_v,'A_v (V/V)')\n",
"R_in2=1/gm2plusgmb2+R_L/A_vo2;\n",
"disp(R_in2,'R_in2 (ohm)')\n",
"R_d1=R_in2*R_out1/(R_in2+R_out1);\n",
"disp(R_d1,'R_d1 (ohm)')\n",
"T_H=R_d1*(C_gd1+C_db1+C_gs2)+(R_L*R_out/(R_L+R_out))*(C_L+C_gd2+C_db2);\n",
"disp(T_H,'T_H (s)')\n",
"f_H=1/(2*%pi*T_H);\n",
"disp(f_H,'f_H (Hz)')\n",
"f_t=-A_v*f_H;\n",
"disp(f_t,'f_t (Hz)')"
   ]
   }
,
{
		   "cell_type": "markdown",
		   "metadata": {},
		   "source": [
			"## Example 6.13: Analysis_of_CC_CE_amplifier.sce"
		   ]
		  },
  {
"cell_type": "code",
	   "execution_count": null,
	   "metadata": {
	    "collapsed": true
	   },
	   "outputs": [],
"source": [
"// Example 6.13: Analysis of CC-CE amplifier\n",
"// Consider a CC-CE amplifier\n",
"// at an emitter bias current of 1mA for Q_1 and Q_2\n",
"g_m=40*10^-3; // (A/V)\n",
"r_e=25; // (ohm)\n",
"B=100; // beta value\n",
"C_u=2*10^-12; // (F)\n",
"f_T=400*10^6 // (Hz)\n",
"r_pi= B/g_m; \n",
"disp(r_pi,'r_pi (ohm)')\n",
"C_pi=g_m/(2*%pi*f_T)-C_u;\n",
"disp(C_pi,'C_pi (F)')\n",
"R_in2=2500; // (ohm)\n",
"r_pi2=2500; // (ohm)\n",
"r_pi1=2500; // (ohm)\n",
"r_e1=0.025; // (ohm)\n",
"B_1=100; // beta value\n",
"R_in=(B_1+1)*(r_e1+R_in2);\n",
"disp(R_in,'R_in (ohm)')\n",
"R_sig=4*10^3; // (ohm)\n",
"R_L=4000; // (ohm)\n",
"Vb1byVsig=R_in/(R_in+R_sig); // (V_b1/V_sig)\n",
"disp(Vb1byVsig,'(V_b1/V_sig) (V/V)')\n",
"Vb2plusVb1=R_in2/(R_in2+r_e1); // (V_b2/V_b1)\n",
"disp(Vb2plusVb1,'(V_b2/V_b1) (V/V)')\n",
"VobyVb2=-g_m*R_L; // (V_o/V_b2)\n",
"disp(VobyVb2,'(V_o/V_b2) (V/V)')\n",
"A_M=VobyVb2*Vb2plusVb1*Vb2plusVb1;\n",
"disp(A_M,'A_M (V/V)')\n",
"R_u1=R_sig*R_in/(R_sig+R_in);\n",
"disp(R_u1,'R_u1 (ohm)')\n",
"R_pi1=(R_sig+R_in2)/(1+(R_sig/r_pi1)+(R_in2/r_e1)); // C_pi1 sees a resistance R_pi1\n",
"disp(R_pi1,'R_pi1 (ohm)')\n",
"R_out1=25+4000/101;\n",
"R_pi2=R_in2*R_out1/(R_in2+R_out1); // C_pi2 sees a resistance R_pi2\n",
"disp(R_pi2,'R_pi2 (ohm)')\n",
"R_u2=(1+g_m*R_L)*R_pi2+R_L;\n",
"disp(R_u2,'R_u2 (ohm)')\n",
"C_u1=2*10^-12; // (F)\n",
"R_u1=3940; // (ohm)\n",
"C_pi1=13.9*10^-12; // (F)\n",
"C_u2=2*10^-12; // (F)\n",
"C_pi2=13.9*10^-12; // (F)\n",
"T_H=C_u1*R_u1+C_pi1*R_pi1+C_u2*R_u2+C_pi2*R_pi2;\n",
"disp(T_H,'T_H (s)')\n",
"f_H=1/(2*%pi*T_H);\n",
"disp(f_H,'f_H (Hz)')\n",
"A_M=r_pi*(-g_m*R_L)/(r_pi+R_sig);\n",
"disp(A_M,'A_M (V/V)')\n",
"R_pi=r_pi*R_sig/(r_pi+R_sig); \n",
"disp(R_pi,'R_pi (ohm)')\n",
"R_u=(1+g_m*R_L)*R_pi +R_L;\n",
"disp(R_u,'R_u (ohm)')\n",
"T_H=C_pi*R_pi+C_u*R_u;\n",
"disp(T_H,'T_H (s)')\n",
"f_H=1/(2*%pi*T_H);\n",
"disp(f_H,'f_H (Hz)')"
   ]
   }
,
{
		   "cell_type": "markdown",
		   "metadata": {},
		   "source": [
			"## Example 6.14: To_determine_required_resistor_values.sce"
		   ]
		  },
  {
"cell_type": "code",
	   "execution_count": null,
	   "metadata": {
	    "collapsed": true
	   },
	   "outputs": [],
"source": [
"// Example 6.14 : To determine required resistor values\n",
"//  The circuits generate a constant current I_D=10uA which operate at a supply of 10V\n",
"V_BE=0.7; // (V)\n",
"V_t=0.025; // (V)\n",
"I_REF=10*10^-6; // (A)\n",
"V_DD=10; // (V)\n",
"I=1*10^-3; // (A)\n",
"V_BE1=V_BE+V_t*log(I_REF/I); // Voltage drop across Q_1\n",
"disp(V_BE1,'V_BE1 (V)')\n",
"R_1=(V_DD-V_BE1)/(I_REF); // For the Widlar circuit we decide I_REF=1mA and V_BE1=0.7V\n",
"disp(R_1,'R_1 (ohm)')\n",
"R_2=(V_DD-V_BE)/I;\n",
"disp(R_2,'R_2 (ohm)')\n",
"R_3=(V_t/I_REF)*log(I/I_REF);\n",
"disp(R_3,'R_3 (ohm)')"
   ]
   }
,
{
		   "cell_type": "markdown",
		   "metadata": {},
		   "source": [
			"## Example 6.1: To_find_the_operating_point_of_NMOS_transistor.sce"
		   ]
		  },
  {
"cell_type": "code",
	   "execution_count": null,
	   "metadata": {
	    "collapsed": true
	   },
	   "outputs": [],
"source": [
"// Example 6.1: To find the operating point of NMOS transistor\n",
"// Consider NMOS transistor\n",
"\n",
"// 6.1a\n",
"I_D=100*10^-6; // (A)\n",
"K_n=387*10^-6*10; // K_n=u_n*C_ox(W/L) (A/V^2) \n",
"V_th=0.48; // (V)\n",
"V_OV=sqrt(2*I_D/K_n);\n",
"disp(V_OV,'V_OV (V)')\n",
"V_GS=V_th+V_OV;\n",
"disp(V_GS,'V_GS (V)')\n",
"\n",
"// 6.1b\n",
"I_C=100*10^-6; // (A)\n",
"I_S=6*10^-18 // (A)\n",
"V_T=0.025; // (V)\n",
"V_BE=V_T*log(I_C/I_S);\n",
"disp(V_BE,'V_BE (V)')"
   ]
   }
,
{
		   "cell_type": "markdown",
		   "metadata": {},
		   "source": [
			"## Example 6.2: Comparison_between_NMOS_transistor_and_npn_transis.sce"
		   ]
		  },
  {
"cell_type": "code",
	   "execution_count": null,
	   "metadata": {
	    "collapsed": true
	   },
	   "outputs": [],
"source": [
"// Example 6.2 : Comparison between NMOS transistor and npn transistor\n",
"\n",
"disp('For NMOS transistor')\n",
"I_D=100*10^-6; // (A)\n",
"V_a=5; // V'_A=V_a (A)\n",
"L=0.4; // (um)\n",
"K_n=267*4/0.4*10^-6; // K_n=u_n*C_ox*(W/L) (A/V^2)\n",
"V_OV=sqrt(2*I_D/K_n);\n",
"g_m=sqrt(2*K_n*I_D)\n",
"disp(g_m,'g_m (A/V)')\n",
"disp('R_in is infinite')\n",
"r_o=V_a*L/I_D;\n",
"disp(r_o,'r_o (ohm)')\n",
"A_O=g_m*r_o;\n",
"disp(A_O,'A_O (V/V)')\n",
"disp('For npn transistor')\n",
"I_C=0.1*10^-3; // collector current \n",
"B_o=100; // beta value\n",
"V_A=35; // (V)\n",
"g_m=I_C/V_T;\n",
"disp(g_m,'g_m (A/V)')\n",
"R_in=B_o/g_m;\n",
"disp(R_in,'R_in (ohm)')\n",
"r_o=V_A/I_C;\n",
"disp(r_o,'r_o (ohm)')\n",
"A_O=g_m*r_o;\n",
"disp(A_O,'A_O (V/V)')"
   ]
   }
,
{
		   "cell_type": "markdown",
		   "metadata": {},
		   "source": [
			"## Example 6.3: Comparison_between_NMOS_transistor_and_npn_transis.sce"
		   ]
		  },
  {
"cell_type": "code",
	   "execution_count": null,
	   "metadata": {
	    "collapsed": true
	   },
	   "outputs": [],
"source": [
"// Example 6.3 : Comparison between NMOS transistor and npn transistor\n",
"// For npn transistor\n",
"disp('For npn transistor')\n",
"I_C=10*10^-6; // (A)\n",
"V_T=0.025; // (V)\n",
"V_A=35; // (V)\n",
"C_jeO=5*10^-15; // (F)\n",
"C_uO=5*10^-15; // (F)\n",
"C_L=1*10^-12; // (F)\n",
"disp('The data calculated for I_C=10uA')\n",
"g_m=I_C/V_T;\n",
"disp(g_m,'g_m (A/V)')\n",
"r_o=V_A/I_C;\n",
"disp(r_o,'r_o (ohm)')\n",
"A_O=V_A/V_T;\n",
"disp(A_O,'A_O (V/V)')\n",
"T_F=10*10^-12;\n",
"C_de=T_F*g_m;\n",
"disp(C_de,'C_de (F)')\n",
"C_je=2*C_jeO;\n",
"disp(C_je,'C_je (F)')\n",
"C_pi=C_de+C_je;\n",
"disp(C_pi,'C_pi (F)')\n",
"C_u=C_uO;\n",
"disp(C_u,'C_u (F)')\n",
"f_T=g_m/(2*%pi*(C_pi+C_u));\n",
"disp(f_T,'f_T (Hz)')\n",
"f_t=g_m/(2*%pi*C_L);\n",
"disp(f_t,'f_t (Hz)')\n",
"disp('The data calculated for I_C=100uA')\n",
"I_C=100*10^-6;\n",
"g_m=I_C/V_T;\n",
"disp(g_m,'g_m (A/V)')\n",
"r_o=V_A/I_C;\n",
"disp(r_o,'r_o (ohm)')\n",
"A_O=V_A/V_T;\n",
"disp(A_O,'A_O (V/V)')\n",
"T_F=10*10^-12;\n",
"C_de=T_F*g_m;\n",
"disp(C_de,'C_de (F)')\n",
"C_je=2*C_jeO;\n",
"disp(C_je,'C_je (F)')\n",
"C_pi=C_de+C_je;\n",
"disp(C_pi,'C_pi (F)')\n",
"C_u=C_uO;\n",
"disp(C_u,'C_u (F)')\n",
"f_T=g_m/(2*%pi*(C_pi+C_u));\n",
"disp(f_T,'f_T (Hz)')\n",
"f_t=g_m/(2*%pi*C_L);\n",
"disp(f_t,'f_t (Hz)')\n",
"disp('The data calculated for I_C=1mA')\n",
"I_C=1*10^-3;\n",
"g_m=I_C/V_T;\n",
"disp(g_m,'g_m (A/V)')\n",
"r_o=V_A/I_C;\n",
"disp(r_o,'r_o (ohm)')\n",
"A_O=V_A/V_T;\n",
"disp(A_O,'A_O (V/V)')\n",
"T_F=10*10^-12;\n",
"C_de=T_F*g_m;\n",
"disp(C_de,'C_de (F)')\n",
"C_je=2*C_jeO;\n",
"disp(C_je,'C_je (F)')\n",
"C_pi=C_de+C_je;\n",
"disp(C_pi,'C_pi (F)')\n",
"C_u=C_uO;\n",
"disp(C_u,'C_u (F)')\n",
"f_T=g_m/(2*%pi*(C_pi+C_u));\n",
"disp(f_T,'f_T (Hz)')\n",
"f_t=g_m/(2*%pi*C_L);\n",
"disp(f_t,'f_t (Hz)')\n",
"// For NMOS transistor\n",
"L=0.4*10^-6; // (m)\n",
"C_L=1*10^-12; // (F)\n",
"disp('The data calculated for I_D = 10uA')\n",
"I_D=10*10^-6; // (A)\n",
"WbyL=0.12*I_D; // WbyL=(W/L)\n",
"disp(WbyL*10^6,'(W/L)')\n",
"g_m=8*I_D;\n",
"disp(g_m,'g_m (A/V)')\n",
"r_o=2/I_D;\n",
"disp(r_o,'r_o (ohm)')\n",
"A_O=g_m*r_o;\n",
"disp(A_O,'A_O (V/V)')\n",
"C_gs=(2/3)*WbyL*0.4*0.4*5.8+0.6*WbyL*0.4;\n",
"disp(C_gs,'C_gs (fF)')\n",
"C_gd=0.6*WbyL*0.4;\n",
"disp(C_gd,'C_gd (fF)')\n",
"f_T=g_m/(2*%pi*(C_gs*10^-15+C_gd*10^-15));\n",
"disp(f_T,'f_T (Hz)')\n",
"f_t=g_m/(2*%pi*C_L)\n",
"disp(f_t,'f_t (Hz)')\n",
"disp('The data calculated for I_D = 100uA')\n",
"I_D=100*10^-6; // (A)\n",
"WbyL=0.12*I_D; // WbyL=(W/L)\n",
"disp(WbyL*10^6,'(W/L)')\n",
"g_m=8*I_D;\n",
"disp(g_m,'g_m (A/V)')\n",
"r_o=2/I_D;\n",
"disp(r_o,'r_o (ohm)')\n",
"A_O=g_m*r_o;\n",
"disp(A_O,'A_O (V/V)')\n",
"C_gs=(2/3)*WbyL*0.4*0.4*5.8+0.6*WbyL*0.4;\n",
"disp(C_gs,'C_gs (fF)')\n",
"C_gd=0.6*WbyL*0.4;\n",
"disp(C_gd,'C_gd (fF)')\n",
"f_T=g_m/(2*%pi*(C_gs*10^-15+C_gd*10^-15));\n",
"disp(f_T,'f_T (Hz)')\n",
"f_t=g_m/(2*%pi*C_L)\n",
"disp(f_t,'f_t (Hz)')\n",
"disp('The data calculated for I_D = 1mA')\n",
"I_D=1*10^-3; // (A)\n",
"WbyL=0.12*I_D; // WbyL=(W/L)\n",
"disp(WbyL*10^6,'(W/L)')\n",
"g_m=8*I_D;\n",
"disp(g_m,'g_m (A/V)')\n",
"r_o=2/I_D;\n",
"disp(r_o,'r_o (ohm)')\n",
"A_O=g_m*r_o;\n",
"disp(A_O,'A_O (V/V)')\n",
"C_gs=(2/3)*WbyL*0.4*0.4*5.8+0.6*WbyL*0.4;\n",
"disp(C_gs,'C_gs (fF)')\n",
"C_gd=0.6*WbyL*0.4;\n",
"disp(C_gd,'C_gd (fF)')\n",
"f_T=g_m/(2*%pi*(C_gs*10^-15+C_gd*10^-15));\n",
"disp(f_T,'f_T (Hz)')\n",
"f_t=g_m/(2*%pi*C_L)\n",
"disp(f_t,'f_t (Hz)')"
   ]
   }
,
{
		   "cell_type": "markdown",
		   "metadata": {},
		   "source": [
			"## Example 6.4: Design_of_the_circuit_with_output_current_100uA.sce"
		   ]
		  },
  {
"cell_type": "code",
	   "execution_count": null,
	   "metadata": {
	    "collapsed": true
	   },
	   "outputs": [],
"source": [
"// Example 6.4 : Design of the circuit with output current =100uA\n",
"\n",
"V_DD=3; // (V)\n",
"I_REF=100*10^-6; // (A)\n",
"I_D1=100*10^-6; // (A)\n",
"L=1*10^-6; // (m)\n",
"W=10*10^-6; // (m)\n",
"V_t=0.7; // (V)\n",
"k_n=200*10^-6; // k_n=k'_n (A/V^2)\n",
"V_A=20; // V_A=V'_A (V)\n",
"V_OV=sqrt(I_D1*2*L/(k_n*W));\n",
"V_GS=V_t+V_OV;\n",
"R=(V_DD-V_GS)/I_REF;\n",
"V_Omin=V_OV;\n",
"disp(V_Omin,'V_min (V)')\n",
"r_o2=V_A/I_REF;\n",
"disp(r_o2,'r_o2 (ohm)')\n",
"V_O=V_GS;\n",
"deltaV_O=1; // Change in V_O (V)\n",
"deltaI_O=deltaV_O/r_o2; // Corresponding change in I_O (A)\n",
"disp(deltaI_O,'The correspondng change in I_O (A)')"
   ]
   }
,
{
		   "cell_type": "markdown",
		   "metadata": {},
		   "source": [
			"## Example 6.5: Determine_3dB_frequency.sce"
		   ]
		  },
  {
"cell_type": "code",
	   "execution_count": null,
	   "metadata": {
	    "collapsed": true
	   },
	   "outputs": [],
"source": [
"// Example 6.5 : Determine 3dB frequency \n",
"// High frequency response of an amplifier can be characterized by th transfer function\n",
"// F_H(s)=(1-s/10^5)/(1+s/10^4)(1+s/4*10^4)\n",
"w_H=1/sqrt(1/10^8+1/(16*10^8)-2/10^10); // w_H=1/sqrt(1/w_P1^2+1/w_P2^2-2/w_Z1^2-2w_Z2^2)\n",
"disp(w_H,'w_H (rad/s)')"
   ]
   }
,
{
		   "cell_type": "markdown",
		   "metadata": {},
		   "source": [
			"## Example 6.6: To_determine_midband_gain_and_upper_3dB_frequency.sce"
		   ]
		  },
  {
"cell_type": "code",
	   "execution_count": null,
	   "metadata": {
	    "collapsed": true
	   },
	   "outputs": [],
"source": [
"// Example 6.6 : To determine midband gain and upper 3dB frequency\n",
"R_in=420*10^3; // (ohm)\n",
"R_sig=100*10^3; // (ohm)\n",
"g_m=4*10^-3; // (mho)\n",
"R_L=3.33*10^3; // R_L=R'_L (ohm)\n",
"C_gs=1*10^-12; // F\n",
"C_gd=C_gs; \n",
"A_M=-R_in*g_m*R_L/(R_in+R_sig)\n",
"disp(A_M,'Midband frequency gain A_M (V/V)')\n",
"R_gs=R_in*R_sig/(R_in+R_sig);\n",
"R=R_gs; //R=R'\n",
"T_gs=C_gs*R_gs; // Oen circuit time constant of C_gs (s)\n",
"R_gd=R+R_L+g_m*R_L*R;\n",
"T_gd=R_gd*C_gd; // open circuit time constant of C_gd (s)\n",
"w_H=1/(T_gs+T_gd); // upper 3dB frequency w_H\n",
"f_H=w_H/(2*%pi);\n",
"disp(f_H,'Upper 3dB frequency f_H (Hz)')"
   ]
   }
,
{
		   "cell_type": "markdown",
		   "metadata": {},
		   "source": [
			"## Example 6.7: Application_of_miller_theorem.sce"
		   ]
		  },
  {
"cell_type": "code",
	   "execution_count": null,
	   "metadata": {
	    "collapsed": true
	   },
	   "outputs": [],
"source": [
"// Example 6.7 : Application of miller's theorem\n",
"\n",
"// 6.7a\n",
"// By miller's theorem\n",
"Z=1000*10^3; // (ohm)\n",
"K=-100; // (V/V)\n",
"R_sig=10*10^3; // (ohm)\n",
"Z_1=Z/(1-K);\n",
"disp(Z_1,'Z_1 (ohm)')\n",
"Z_2=Z/(1-(1/K));\n",
"disp(Z_2,'Z_2 (ohm)')\n",
"VobyVsig=-100*Z_1/(Z_1+R_sig); // VobyVsig=(V_o/V_sig)\n",
"disp(VobyVsig,'(V_o/V_sig) (V/V)')\n",
"\n",
"//6.7b\n",
"// Applying miller's theorem\n",
"f_3dB=1/(2*%pi*1.01*10^-6);\n",
"disp(f_3dB,'f_3dB (Hz)')"
   ]
   }
,
{
		   "cell_type": "markdown",
		   "metadata": {},
		   "source": [
			"## Example 6.8: Analysis_of_CMOS_CS_amplifier.sce"
		   ]
		  },
  {
"cell_type": "code",
	   "execution_count": null,
	   "metadata": {
	    "collapsed": true
	   },
	   "outputs": [],
"source": [
"// Example 6.8 : Analysis of CMOS CS amplifier\n",
"k_n=200*10^-6; // (A/V^2)\n",
"W=4*10^-6; // (m)\n",
"L=0.4*10^-6; // (m)\n",
"I_REF=100*10^-6; // (A)\n",
"V_An=20; // (A)\n",
"I_D1=0.1*10^-3; // (A)\n",
"V_Ap=10; // (V)\n",
"V_DD=3; // (V)\n",
"I_D2=0.1*10^-3; // (A)\n",
"V_tp=0.6; // (V)\n",
"V_tn=0.6; // (V)\n",
"g_m1=sqrt(2*k_n*(W/L)*I_REF);\n",
"disp(g_m1,'g_m1 (A/V)')\n",
"r_o1=V_An/I_D1;\n",
"disp(r_o1,'r_o1 (ohm)')\n",
"r_o2=V_Ap/I_D2;\n",
"disp(r_o2,'r_o2 (ohm)')\n",
"A_v=-g_m1*r_o1*r_o2/(r_o1+r_o2);\n",
"disp(A_v,'A_v (v/V)')\n",
"I_D=100*10^-6; // (A)\n",
"k_n=65*10^-6; // (A/V^2)\n",
"V_OV3=0.53; // (V)\n",
"V_SG=V_tp+V_OV3;\n",
"disp(V_SG,'V_SG (V)')\n",
"V_OA=V_DD-V_OV3;\n",
"disp(V_OA,'V_OA (V)')\n",
"V_IB=0.93; // (V)\n",
"V_IA=0.88; // (V)\n",
"disp(V_IA,V_IB,'Coordinates of the extremities of the amplifier V_IB and V_IA')\n",
"deltavI=V_IB-V_IA; // width of amplifier region\n",
"V_OB=0.33; // (V)\n",
"deltavO=V_OB-V_OA; // corresponding output range (V)\n",
"deltavObydeltavI=-deltavO/deltavI; // Large signal voltage gain (V/V)\n",
"disp(deltavObydeltavI,'Large signal voltage gain (V/V)')"
   ]
   }
,
{
		   "cell_type": "markdown",
		   "metadata": {},
		   "source": [
			"## Example 6.9: Analysis_of_CMOS_CS_amplifier.sce"
		   ]
		  },
  {
"cell_type": "code",
	   "execution_count": null,
	   "metadata": {
	    "collapsed": true
	   },
	   "outputs": [],
"source": [
"// Example 6.9: Analysis of CMOS CS amplifier\n",
"// Consider CMOS open source amplifier\n",
"I_D=100*10^-6; // (A)\n",
"I_REF=I_D; \n",
"uC_n=387*10^-6; // u_n*C_ox=uC_n (A/V^2)\n",
"uC_p=86*10^-6; // u_n*C_ox=uC_n (A/V^2)\n",
"W=7.2*10^-6; // (m)\n",
"L=0.36*10^-6; // (m)\n",
"V_An=5*10^-6; // (A)\n",
"R_sig=10*10^3; // (ohm)\n",
"V_OV=sqrt(2*I_D*L/(W*uC_n));\n",
"g_m=I_D/(V_OV/2);\n",
"disp(g_m,'g_m (A/V)')\n",
"r_o1=5*0.36/(0.1*10^-3);\n",
"disp(r_o1,'r_o1 (ohm)')\n",
"r_o2=6*0.36/(.1*10^-3);\n",
"disp(r_o2,'r_o2 (ohm)')\n",
"R_L=r_o1*r_o2/(r_o1+r_o2);\n",
"disp(R_L,'R_L (ohm)')\n",
"A_m=-g_m*R_L;\n",
"disp(A_m,'A_m (V/V)')\n",
"C_gs=20*10^-15; // (F)\n",
"C_gd=5*10^-15; // (F)\n",
"C_in=C_gs+C_gd*(1+g_m*R_L); // using miller equivalence\n",
"disp(C_in,'C_in (F)')\n",
"f_H=1/(2*%pi*C_in*R_sig);\n",
"disp(f_H,'f_H (Hz)')\n",
"R_gs=10*10^3; // (ohm) using open circuit  time constants methods\n",
"R_L=9.82*10^3; // (ohm)\n",
"R_gd=R_sig*(1+g_m*R_L) + R_L;\n",
"disp(R_gd,'R_gd (ohm)')\n",
"R_CL=R_L;\n",
"T_gs=C_gs*R_gs;\n",
"disp(T_gs,'T_gs (s)')\n",
"T_gd=C_gd*R_gd;\n",
"disp(T_gd,'T_gd (s)')\n",
"C_L=25*10^-15;\n",
"T_CL=C_L*R_CL;\n",
"disp(T_CL,'T_CL (s)')\n",
"T_H=T_gs+T_gd+T_CL;\n",
"disp(T_H,'T_H (s)')\n",
"f_H=1/(2*%pi*T_H); // 3dB frequency\n",
"disp(f_H,'f_H (Hz)')\n",
"f_Z=g_m/(2*%pi*C_gd); // frequency of the zero\n",
"disp(f_Z,'f_Z (Hz)')\n",
"// Denominator polynomial\n",
"p=poly([1 1.16*10^-9 0.0712*10^-18],'s','coeff')\n",
"disp(p,'Denominator polynomial')\n",
"s=roots(p);\n",
"f_P2=s(2)/(-2*%pi);\n",
"f_P1=s(1)/(-2*%pi)\n",
"disp(f_P2,f_P1, 'The frequencies f_P1  (Hz) and f_P2 (Hz) are found as the roots of the denominator frequency')\n",
"f_H=f_P1;\n",
"disp(f_H,'Another estimate for f_H (Hz)')"
   ]
   }
],
"metadata": {
		  "kernelspec": {
		   "display_name": "Scilab",
		   "language": "scilab",
		   "name": "scilab"
		  },
		  "language_info": {
		   "file_extension": ".sce",
		   "help_links": [
			{
			 "text": "MetaKernel Magics",
			 "url": "https://github.com/calysto/metakernel/blob/master/metakernel/magics/README.md"
			}
		   ],
		   "mimetype": "text/x-octave",
		   "name": "scilab",
		   "version": "0.7.1"
		  }
		 },
		 "nbformat": 4,
		 "nbformat_minor": 0
}
