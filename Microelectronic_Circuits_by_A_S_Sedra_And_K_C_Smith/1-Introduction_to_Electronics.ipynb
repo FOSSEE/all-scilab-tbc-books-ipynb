{
"cells": [
 {
		   "cell_type": "markdown",
	   "metadata": {},
	   "source": [
       "# Chapter 1: Introduction to Electronics"
	   ]
	},
{
		   "cell_type": "markdown",
		   "metadata": {},
		   "source": [
			"## Example 1.1: Amplifier_gain_power_and_eficiency.sce"
		   ]
		  },
  {
"cell_type": "code",
	   "execution_count": null,
	   "metadata": {
	    "collapsed": true
	   },
	   "outputs": [],
"source": [
"// Example1.1: Amplifier gain, power and eficiency\n",
"// Amplifier operates at +10-V/-10-V power supply.\n",
"A_v=9/1; // sinusoidal voltage input of 1V peak and sinusoidal output voltage of 9V peak\n",
"I_o=9/1000; // 1 kilo ohms load\n",
"disp(A_v,'Voltage gain (V/V) =') \n",
"disp(20*log10(A_v),'Voltage gain (dB) =') \n",
"I_i=0.0001 // sinusoidal current input of 0.1mA peak\n",
"A_i=I_o/I_i;\n",
"disp(A_i,'Current gain (A/A) =')\n",
"disp(20*log10(A_i),'Current gain (dB) =')\n",
"V_orms = 9/sqrt(2);\n",
"I_orms = 9/sqrt(2);\n",
"P_L=V_orms*I_orms; // output power in mW\n",
"V_irms=1/sqrt(2);\n",
"I_irms=0.1/sqrt(2);\n",
"P_I=V_irms*I_irms; // input power in mW\n",
"A_p=P_L/P_I; \n",
"disp(A_p,'Power gain (W/W) =')\n",
"disp(10*log10(A_p),'Power gain (dB) =')\n",
"P_dc=10*9.5+10*9.5; // amplifier draws a current of 9.5mA from each of its two power supplies\n",
"disp(P_dc,'Power drawn from the dc supplies (mW) =')\n",
"P_dissipated=P_dc+P_I-P_L;\n",
"disp(P_dissipated,'Power dissipated in the amplifier (mW)')\n",
"n=P_L/P_dc*100;\n",
"disp(n,'Amplifier efficiency in percentage')"
   ]
   }
,
{
		   "cell_type": "markdown",
		   "metadata": {},
		   "source": [
			"## Example 1.2: Gain_of_transistor_amplifier.sce"
		   ]
		  },
  {
"cell_type": "code",
	   "execution_count": null,
	   "metadata": {
	    "collapsed": true
	   },
	   "outputs": [],
"source": [
"// Example 1.2: Gain of transistor amplifier\n",
"// Amplifier has transfer characteristics v_O=10-(10^-11)*(exp^40*v_1) applies for v_1 is greater than or equal 0V and v_o is greater than or equal to 0.3V\n",
"L_l = 0.3; // limit L_-\n",
"disp(L_l,'The limit L_- (V) =')\n",
"v_I=1/40*log((10-0.3)/10^-11); // from the transfer characteristics and v_o=0.3V\n",
"disp(v_I,'v_I in volts =')\n",
"L_u=10-10^-11; // obtained by v_I=0 in transfer characteristics\n",
"disp(L_u,'the limit L_+ (V) =')\n",
"V_I=1/40*log((10-5)/10^-11); // V_O=5V\n",
"disp(V_I,'The value of the dc bias voltage that results in V_O=5V (V)=')\n",
"A_v=-10^-11*exp(40*V_I)*40; // A_v=dv_O/dv_I\n",
"disp(A_v,'Gain at the operating point (V/V) =')\n",
"disp('NOTE the gain is negative that implies the amplifier is an inverting amplifier')"
   ]
   }
,
{
		   "cell_type": "markdown",
		   "metadata": {},
		   "source": [
			"## Example 1.3: Overall_voltage_gain_of_three_stage_amplifier.sce"
		   ]
		  },
  {
"cell_type": "code",
	   "execution_count": null,
	   "metadata": {
	    "collapsed": true
	   },
	   "outputs": [],
"source": [
"// Example 1.3 : Overall voltage gain of cthree-stage amplifier\n",
"gainloss_in=10^6/(1*10^6+100*10^3); // fraction of input signal is obtained using voltage divider rule , gainloss_in= v_i1/v_s\n",
"A_v1=10*100000/(100000+1000); // A_v1 = v_i2/v_i1 is the voltage gain at first stage\n",
"A_v2=100*10000/(10000+1000); // A_v2 = v_i3/v_i2 is the voltage gain at second stage\n",
"A_v3=100/(100+10); // A_v3 = v_L/v_i3 is the voltage gain at the output stage\n",
"A_v=A_v1*A_v2*A_v3; // A_v is the total voltage gain \n",
"disp(A_v,'The overall voltage gain (V/V) =')\n",
"disp(20*log10(A_v),'The overall voltage gain (dB) =')\n",
"gain_src_ld=A_v*gainloss_in;\n",
"disp(gain_src_ld,'The voltage gain from source to gain (V/V) =')\n",
"disp(20*log10(gain_src_ld),'The voltage gain from source to load (dB) =')\n",
"A_i=10^4*A_v; // A_i=i_o/i_i=(v_L/100)/(v_i1/10^6)\n",
"disp(A_i,'The current gain (A/A)=')\n",
"disp(20*log10(A_i),'The current gain (dB) =')\n",
"A_p=818*818*10^4; // A_p=P_L/P_I=v_L*i_o/v_i1*i_i\n",
"disp(A_p,'The power gain (W/W) =')\n",
"disp(10*log10(A_p),'The power gain (dB) =')"
   ]
   }
,
{
		   "cell_type": "markdown",
		   "metadata": {},
		   "source": [
			"## Example 1.4: Bipolar_junction_transistor.sce"
		   ]
		  },
  {
"cell_type": "code",
	   "execution_count": null,
	   "metadata": {
	    "collapsed": true
	   },
	   "outputs": [],
"source": [
"// Example1.4 : Bipolar junction transistor\n",
"\n",
"// 1,4a\n",
"// using voltage divider rule the fraction of input signal v_be=v_s*r_pi/(r_pi+R_s)\n",
"// output voltage v_o=-g_mv_be(R_L||r_o)\n",
"r_pi=2.5*10^3; // (ohm)\n",
"R_s=5*10^3; // (ohm)\n",
"R_L=5*10^3 // (ohm)\n",
"g_m=40*10^-3; // (mho)\n",
"r_o=100*10^3; // (ohm)\n",
"gain=-(r_pi*g_m*(R_L*r_o/(R_L+r_o)))/(r_pi+R_s); // gain=v_o/v_s\n",
"disp(gain,'The voltage gain (V/V) =')\n",
"gain_negl_r_o=-r_pi*g_m*R_L/(r_pi+R_s);\n",
"disp(gain_negl_r_o,'Gain neglecting the effect of r_o (V/V) =')\n",
"\n",
"// 1.4b\n",
"// Bi_b=g_m*v_be\n",
"// B is short circuit gain\n",
"B=g_m*r_pi;\n",
"disp(B,'The short circuit gain (A/A) =')"
   ]
   }
,
{
		   "cell_type": "markdown",
		   "metadata": {},
		   "source": [
			"## Example 1.5: DC_gain_3dB_frequency_and_frequency_at_which_gain.sce"
		   ]
		  },
  {
"cell_type": "code",
	   "execution_count": null,
	   "metadata": {
	    "collapsed": true
	   },
	   "outputs": [],
"source": [
"// Example 1.5 :  DC gain, 3dB frequency and frequency at which gain=0 of voltage amplifier\n",
"\n",
"// 1.5b\n",
"R_s =20*10^3; // (ohm)\n",
"R_i =100*10^3; // (ohm)\n",
"C_i =60*10^-12; // (ohm)\n",
"u = 144; // (V/V)\n",
"R_o = 200; // (ohm)\n",
"R_L = 1000; // (ohm)\n",
"K=u/((1+R_s/R_i)*(1+R_o/R_L));\n",
"disp(K,'The dc gain (V/V)= ')\n",
"disp(20*log10(K),' The dc gain (dB) =')\n",
"w_o=1/(C_i*R_s*R_i/(R_s+R_i));\n",
"disp(w_o,'The 3-dB frequency (rad/s) =')\n",
"f_o= w_o/2/%pi;\n",
"disp(f_o,'Frequency (Hz) =')\n",
"disp(100*w_o,'unity gain frequency (rad/s)=',100*f_o,'Unity gain frequency (Hz)')"
   ]
   }
,
{
		   "cell_type": "markdown",
		   "metadata": {},
		   "source": [
			"## Example 1.6: Evaluation_of_tPHL.sce"
		   ]
		  },
  {
"cell_type": "code",
	   "execution_count": null,
	   "metadata": {
	    "collapsed": true
	   },
	   "outputs": [],
"source": [
"// Example 1.6: Time for the output to reach (V_OH+V_OL)/2\n",
"V_DD=5; // (V)\n",
"R=1000; // (ohm)\n",
"R_on=100; // (ohm)\n",
"V_offset=0.1; // (V)\n",
"C=10*10^-12; // (F)\n",
"V_OH=5; // (V)\n",
"V_OL=V_offset+(V_DD-V_offset)*R_on/(R+R_on);\n",
"T=R*C;\n",
"v_o_t_PLH=(V_OH+V_OL)/2; //to find t_PLH \n",
"t_PLH=0.69*T;// t_PLH is low to high propogtion delay\n",
"disp(t_PLH,'time required for he output to reach (V_OH+V_OL)/2 (seconds) =')"
   ]
   }
],
"metadata": {
		  "kernelspec": {
		   "display_name": "Scilab",
		   "language": "scilab",
		   "name": "scilab"
		  },
		  "language_info": {
		   "file_extension": ".sce",
		   "help_links": [
			{
			 "text": "MetaKernel Magics",
			 "url": "https://github.com/calysto/metakernel/blob/master/metakernel/magics/README.md"
			}
		   ],
		   "mimetype": "text/x-octave",
		   "name": "scilab",
		   "version": "0.7.1"
		  }
		 },
		 "nbformat": 4,
		 "nbformat_minor": 0
}
