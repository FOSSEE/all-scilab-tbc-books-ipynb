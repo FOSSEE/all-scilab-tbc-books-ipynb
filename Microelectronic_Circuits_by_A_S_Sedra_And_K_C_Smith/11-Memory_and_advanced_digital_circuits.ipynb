{
"cells": [
 {
		   "cell_type": "markdown",
	   "metadata": {},
	   "source": [
       "# Chapter 11: Memory and advanced digital circuits"
	   ]
	},
{
		   "cell_type": "markdown",
		   "metadata": {},
		   "source": [
			"## Example 11.1: Min_WbyL_ratio_to_ensure_flip_flop_will_switch.sce"
		   ]
		  },
  {
"cell_type": "code",
	   "execution_count": null,
	   "metadata": {
	    "collapsed": true
	   },
	   "outputs": [],
"source": [
"// Example 10.1 : To determine t_PHL, t_PLH and t_P\n",
"// Consider CMOS inverter\n",
"C_ox=6*10^-15; // (F/um^2)\n",
"uC_n=115*10^-6; //uC_n=u_n*C_ox (A/V^2)\n",
"uC_p=30*10^-6; //uC_p=u_p*C_ox (A/V^2)\n",
"V_tn=0.4; // (V)\n",
"V_tp=-0.4; // (V)\n",
"V_DD=2.5; // (V)\n",
"W_n=0.375*10^-6; // W for Q_N\n",
"L_n=0.25*10^-6; // L for Q_N\n",
"W_p=1.125*10^-6; // W for Q_P\n",
"L_p=0.25*10^-6; // L for Q_P\n",
"C_gd1=0.3*W_n*10^-9; // (F)\n",
"C_gd2=0.3*W_p*10^-9; // (F)\n",
"C_db1=10^-15; // (F)\n",
"C_db2=10^-15; // (F)\n",
"C_g3= 0.375*0.25*6*10^-15+2*0.3*0.375*10^-15; // (F)\n",
"C_g4=1.125*0.25*6*10^-15+2*0.3*1.125*10^-15; // (F)\n",
"C_w=0.2*10^-15; // (F)\n",
"C=2*C_gd1+2*C_gd2+C_db1+C_db2+C_g3+C_g4+C_w; // (F)\n",
"i_DN0=uC_n*W_n*(V_DD-V_tn)^2/(2*L_n); // i_DN0 = i_DN(0) (A)\n",
"i_DNtPHL=uC_n*W_n*((V_DD-V_tn)*V_DD/2-((V_DD/2)^2)/2)/L_n; // i_DNtPHL = i_DN(t_PHL) (A)\n",
"i_DNav=(i_DN0+i_DNtPHL)/2; // i_DN|av (A)\n",
"t_PHL=C*(V_DD/2)/i_DNav;\n",
"disp(t_PHL,'t_PHL (s)')\n",
"t_PLH=1.3*t_PHL; // Since W_p/W_n=3 and u_n/u_p=3.83 thus t_PLH is greater than t_PHL by 3.83/3\n",
"disp(t_PLH,'t_PLH (s)')\n",
"t_P=(t_PHL+t_PLH)/2; \n",
"disp(t_P,'t_P (s)')"
   ]
   }
,
{
		   "cell_type": "markdown",
		   "metadata": {},
		   "source": [
			"## Example 11.2: Design_of_two_stage_CMOS_op_amp.sce"
		   ]
		  },
  {
"cell_type": "code",
	   "execution_count": null,
	   "metadata": {
	    "collapsed": true
	   },
	   "outputs": [],
"source": [
"// Example 11.2 Design of two-stage CMOS op-amp \n",
"\n",
"uC_n=50*10^-6; // u_n*C_ox (A/V^2)\n",
"uC_p=20*10^-6; // u_p*C_ox (A/V^2)\n",
"V_tn0=1; // (V)\n",
"V_tp0=-1; // (V)\n",
"fie_f=0.6/2; // (V)\n",
"y=0.5; // (V^1/2)\n",
"V_DD=5; // (V)\n",
"W_n=4*10^-6; // (m)\n",
"L_n=2*10^-6; // (m)\n",
"W_p=10*10^-6; // (m)\n",
"L_p=2*10^-6; // (m)\n",
"W=10*10^-6; // (m)\n",
"L=10*10^-6; // (m)\n",
"C_B=1*10^-12; // bit line capacitance (F)\n",
"deltaV=0.2; // 0.2 V decrement\n",
"WbyL_eq=1/(L_p/W_p+L_n/W_n); // WbyL_eq=(W/L)_eq\n",
"// Equivalent transistor will operate in saturation\n",
"I=(uC_n*WbyL_eq*(V_DD-V_tn0)^2)/2\n",
"r_DS=1/(uC_n*(W_n/L_n)*(V_DD-V_tn0));\n",
"v_Q=r_DS*I; // v_Q=r_DS*I\n",
"I_5=0.5*10^-3; // (A) \n",
"deltat=C_B*deltaV/I_5;\n",
"disp(deltat, 'The time (s) required to develop an output voltage of 0.2V')"
   ]
   }
,
{
		   "cell_type": "markdown",
		   "metadata": {},
		   "source": [
			"## Example 11.3: Time_required.sce"
		   ]
		  },
  {
"cell_type": "code",
	   "execution_count": null,
	   "metadata": {
	    "collapsed": true
	   },
	   "outputs": [],
"source": [
"// Example 11.3 : Time required for v_B to reach 4.5V\n",
"// Consider sense-amplifier circuit\n",
"uC_n=50*10^-6; //uC_n=u_n*C_ox (A/V^2)\n",
"uC_p=20*10^-6; //uC_p=u_p*C_ox (A/V^2)\n",
"W_n=12*10^-6; // (m)\n",
"L_n=4*10^-6; // (m)\n",
"W_p=30*10^-6; // (m)\n",
"L_p=4*10^-6; // (m)\n",
"v_B=4.5; // (V)\n",
"C_B=1*10^-12; // (F)\n",
"V_GS=2.5; // (V)\n",
"V_t=1; // (V)\n",
"deltaV=0.1; // (V)\n",
"g_mn=uC_n*(W_n/L_n)*(V_GS-V_t); // (A/V)\n",
"g_mp=uC_p*(W_p/L_p)*(V_GS-V_t); // (A/V)\n",
"G_m=g_mn+g_mp; // (A/V)\n",
"T=C_B/G_m; // (s)\n",
"deltat=T*(log(v_B/V_GS)-log(deltaV));\n",
"disp(deltat,'The time for v_B to reach 4.5V (s)')"
   ]
   }
],
"metadata": {
		  "kernelspec": {
		   "display_name": "Scilab",
		   "language": "scilab",
		   "name": "scilab"
		  },
		  "language_info": {
		   "file_extension": ".sce",
		   "help_links": [
			{
			 "text": "MetaKernel Magics",
			 "url": "https://github.com/calysto/metakernel/blob/master/metakernel/magics/README.md"
			}
		   ],
		   "mimetype": "text/x-octave",
		   "name": "scilab",
		   "version": "0.7.1"
		  }
		 },
		 "nbformat": 4,
		 "nbformat_minor": 0
}
