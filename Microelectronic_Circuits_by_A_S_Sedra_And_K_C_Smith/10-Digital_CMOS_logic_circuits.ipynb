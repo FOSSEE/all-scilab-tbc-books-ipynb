{
"cells": [
 {
		   "cell_type": "markdown",
	   "metadata": {},
	   "source": [
       "# Chapter 10: Digital CMOS logic circuits"
	   ]
	},
{
		   "cell_type": "markdown",
		   "metadata": {},
		   "source": [
			"## Example 10.1: To_determine_tPHL_tPLH_and_tP.sce"
		   ]
		  },
  {
"cell_type": "code",
	   "execution_count": null,
	   "metadata": {
	    "collapsed": true
	   },
	   "outputs": [],
"source": [
"// Example 10.1 : To determine t_PHL, t_PLH and t_P\n",
"// Consider CMOS inverter\n",
"C_ox=6*10^-15; // (F/um^2)\n",
"uC_n=115*10^-6; //uC_n=u_n*C_ox (A/V^2)\n",
"uC_p=30*10^-6; //uC_p=u_p*C_ox (A/V^2)\n",
"V_tn=0.4; // (V)\n",
"V_tp=-0.4; // (V)\n",
"V_DD=2.5; // (V)\n",
"W_n=0.375*10^-6; // W for Q_N\n",
"L_n=0.25*10^-6; // L for Q_N\n",
"W_p=1.125*10^-6; // W for Q_P\n",
"L_p=0.25*10^-6; // L for Q_P\n",
"C_gd1=0.3*W_n*10^-9; // (F)\n",
"C_gd2=0.3*W_p*10^-9; // (F)\n",
"C_db1=10^-15; // (F)\n",
"C_db2=10^-15; // (F)\n",
"C_g3= 0.375*0.25*6*10^-15+2*0.3*0.375*10^-15; // (F)\n",
"C_g4=1.125*0.25*6*10^-15+2*0.3*1.125*10^-15; // (F)\n",
"C_w=0.2*10^-15; // (F)\n",
"C=2*C_gd1+2*C_gd2+C_db1+C_db2+C_g3+C_g4+C_w; // (F)\n",
"i_DN0=uC_n*W_n*(V_DD-V_tn)^2/(2*L_n); // i_DN0 = i_DN(0) (A)\n",
"i_DNtPHL=uC_n*W_n*((V_DD-V_tn)*V_DD/2-((V_DD/2)^2)/2)/L_n; // i_DNtPHL = i_DN(t_PHL) (A)\n",
"i_DNav=(i_DN0+i_DNtPHL)/2; // i_DN|av (A)\n",
"t_PHL=C*(V_DD/2)/i_DNav;\n",
"disp(t_PHL,'t_PHL (s)')\n",
"t_PLH=1.3*t_PHL; // Since W_p/W_n=3 and u_n/u_p=3.83 thus t_PLH is greater than t_PHL by 3.83/3\n",
"disp(t_PLH,'t_PLH (s)')\n",
"t_P=(t_PHL+t_PLH)/2; \n",
"disp(t_P,'t_P (s)')"
   ]
   }
,
{
		   "cell_type": "markdown",
		   "metadata": {},
		   "source": [
			"## Example 10.2: WbyL_ratios_for_the_logic_circuit.sce"
		   ]
		  },
  {
"cell_type": "code",
	   "execution_count": null,
	   "metadata": {
	    "collapsed": true
	   },
	   "outputs": [],
"source": [
"// Example 10.2 : W/L ratios for the logic circuit\n",
"//For basic inverter\n",
"n=1.5;\n",
"p=5;\n",
"L=0.25*10^-6; // (m)\n",
"WbyL=2*n; // W/L for Q_NB , Q_NC , Q_ND\n",
"disp(WbyL,'W/L ratio for Q_NB')\n",
"disp(WbyL,'W/L ratio for Q_NC')\n",
"disp(WbyL,'W/L ratio for Q_ND')\n",
"WbyL=n; // W/L ratio for Q_NA\n",
"disp(WbyL,'W/L ratio for Q_NA')\n",
"WbyL=3*p; // W/L for Q_PA, Q_PC , Q_PD\n",
"disp(WbyL,'W/L ratio for Q_PA') \n",
"disp(WbyL,'W/L ratio for Q_PC')\n",
"disp(WbyL,'W/L ratio for Q_PD')"
   ]
   }
,
{
		   "cell_type": "markdown",
		   "metadata": {},
		   "source": [
			"## Example 10.3: To_determine_the_parameters_of_pseudo_NMOS_inverte.sce"
		   ]
		  },
  {
"cell_type": "code",
	   "execution_count": null,
	   "metadata": {
	    "collapsed": true
	   },
	   "outputs": [],
"source": [
"// Example 10.3 : To determine the parameters of pseudo NMOS inverter\n",
"// Consider a pseudo NMOS inverter\n",
"uC_n=115*10^-6; //uC_n=u_n*C_ox (A/V^2)\n",
"uC_p=30*10^-6; //uC_p=u_p*C_ox (A/V^2)\n",
"V_tn=0.4; // (V)\n",
"V_tp=-0.4; // (V)\n",
"V_DD=2.5; // (V)\n",
"W_n=0.375*10^-6; // W for Q_N (m)\n",
"L_n=0.25*10^-6; // L for Q_N (m)\n",
"r=9;\n",
"\n",
"// 10.3a\n",
"V_OH=V_DD;\n",
"disp(V_OH,'V_OH (V)')\n",
"V_OL=(V_DD-V_tn)*(1-sqrt(1-1/r));\n",
"disp(V_OL,'V_OL (V)')\n",
"V_IL=V_tn+(V_DD-V_tn)/sqrt(r*(r+1));\n",
"disp(V_IL,'V_IL (V)')\n",
"V_IH=V_tn+2*(V_DD-V_tn)/(sqrt(3*r));\n",
"disp(V_IH,'V_IH (V)')\n",
"V_M=V_tn+(V_DD-V_tn)/sqrt(r+1);\n",
"disp(V_M,'V_M (V)')\n",
"NM_H=V_OH-V_IH;\n",
"NM_L=V_IL-V_OL;\n",
"disp(NM_L,NM_H,'The highest and the lowest values of allowable noise margin (V)')\n",
"\n",
"// 10.3b\n",
"WbyL_p=uC_n*(W_n/L_n)/(uC_p*r); // WbyL_p=(W/L)_p\n",
"disp(WbyL_p,'(W/L)_p')\n",
"\n",
"//10.3c\n",
"I_stat=(uC_p*WbyL_p*(V_DD-V_tn)^2)/2;\n",
"disp(I_stat,'I_stat (A)')\n",
"P_D=I_stat*V_DD;\n",
"disp(P_D,'Static power dissipation P_D (W)')\n",
"\n",
"//10.3d\n",
"C=7*10^-15;\n",
"t_PLH=1.7*C/(uC_p*WbyL_p*V_DD);\n",
"disp(t_PLH,'t_PLH (s)')\n",
"t_PHL=1.7*C/(uC_n*(W_n/L_n)*sqrt(1-0.46/r)*V_DD);\n",
"disp(t_PHL,('t_PHL (s)'))\n",
"t_p=(t_PHL+t_PLH)/2;\n",
"disp(t_p,'t_p (s)')"
   ]
   }
,
{
		   "cell_type": "markdown",
		   "metadata": {},
		   "source": [
			"## Example 10.4: To_determine_parameters_for_NMOS_transistor.sce"
		   ]
		  },
  {
"cell_type": "code",
	   "execution_count": null,
	   "metadata": {
	    "collapsed": true
	   },
	   "outputs": [],
"source": [
"// Example 10.4 : To determine parameters for NMOS transistor\n",
"// Consider NMOS transistor switch\n",
"uC_n=50*10^-6; //uC_n=u_n*C_ox (A/V^2)\n",
"uC_p=20*10^-6; //uC_px    `=u_p*C_ox (A/V^2)\n",
"V_tO=1; // (V)\n",
"y=0.5; // (V^1/2)\n",
"fie_f=0.6/2; // (V)\n",
"V_DD=5; // (V)\n",
"W_n=4*10^-6; // (m)\n",
"L_n=2*10^-6; // (m)\n",
"C=50*10^-15; // (F)\n",
"\n",
"// 10.4a\n",
"V_t=1.6; // (V)\n",
"V_OH=V_DD-V_t; // V_OH is the value of v_O at which Q stops conducting (V)\n",
"disp(V_OH,'V_OH (V)')\n",
" \n",
"// 10.4b\n",
"W_p=10*10^-6; // (m)\n",
"L_p=2*10^-6; // (m)\n",
"i_DP=uC_p*W_p*((V_DD-V_OH-V_tO)^2)/(2*L_p);\n",
"disp(i_DP,'Static current of the inverter (A)')\n",
"P_D=V_DD*i_DP;\n",
"disp(P_D,'Power dissipated (W)')\n",
"V_O=0.08; // Output voltage (V) found by equating the current of Q_N=18uA\n",
"disp(V_O,' The output voltage of the inverter (V) ')\n",
"\n",
"// 10.4c\n",
"i_D0=uC_n*W_n*((V_DD-V_tO)^2)/(2*2*10^-6); // i_D0=i_D(0) (A) current i_D at t=0\n",
"v_O=2.5; // (V)\n",
"V_t=V_tO+0.5*(sqrt(v_O+2*fie_f)-sqrt(2*fie_f)); // at v_O=2.5V\n",
"i_DtPLH=(uC_n*W_n*(V_DD-v_O-V_t)^2)/(2*L_n); // i_DtPLH=i_D(t_PLH) (A) current i_D at t=t_PLH\n",
"i_Dav=(i_D0+i_DtPLH)/2; // i_Dav=i_D|av (A) average discharge current\n",
"t_PLH=C*(V_DD/2)/i_Dav;\n",
"disp(t_PLH,'t_PHL (s)')\n",
"\n",
"// 10.4d\n",
"// Case with v_t going low\n",
"i_D0=uC_n*W_n*((V_DD-V_tO)^2)/(2*2*10^-6); // i_D0=i_D(0) (A) current i_D at t=0\n",
"i_DtPHL=uC_n*W_n*((V_DD-V_tO)*v_O-(v_O^2)/2)/(L_n); // i_DtPHL=i_D(t_PHL) (A) current i_D at t=T_PHL\n",
"i_Dav=(i_D0+i_DtPHL)/2; // i_Dav=i_D|av (A) average discarge current\n",
"t_PHL=C*(V_DD/2)/i_Dav;\n",
"disp(t_PHL,'t_PHL (s)')\n",
"\n",
"// 10.4e\n",
"t_P=(t_PHL+t_PLH)/2;\n",
"disp(t_P,'t_P (s)')"
   ]
   }
],
"metadata": {
		  "kernelspec": {
		   "display_name": "Scilab",
		   "language": "scilab",
		   "name": "scilab"
		  },
		  "language_info": {
		   "file_extension": ".sce",
		   "help_links": [
			{
			 "text": "MetaKernel Magics",
			 "url": "https://github.com/calysto/metakernel/blob/master/metakernel/magics/README.md"
			}
		   ],
		   "mimetype": "text/x-octave",
		   "name": "scilab",
		   "version": "0.7.1"
		  }
		 },
		 "nbformat": 4,
		 "nbformat_minor": 0
}
