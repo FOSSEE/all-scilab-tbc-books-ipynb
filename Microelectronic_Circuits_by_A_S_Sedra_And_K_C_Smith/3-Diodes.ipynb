{
"cells": [
 {
		   "cell_type": "markdown",
	   "metadata": {},
	   "source": [
       "# Chapter 3: Diodes"
	   ]
	},
{
		   "cell_type": "markdown",
		   "metadata": {},
		   "source": [
			"## Example 3.1: Peak_value_of_diode_current_and_maximum_reverse_vo.sce"
		   ]
		  },
  {
"cell_type": "code",
	   "execution_count": null,
	   "metadata": {
	    "collapsed": true
	   },
	   "outputs": [],
"source": [
"//Example 3.1: Peak value of diode current and maximum reverse voltage\n",
"//v_s is sinusoidal input voltage with peak 24V\n",
"//battery charges to 12V\n",
"I_d=(24-12)/100\n",
"max_v_rev=24+12;\n",
"disp(I_d,'peak value of diode current (A)', max_v_rev,'maximum reverse voltage acrossthe diode (V)')"
   ]
   }
,
{
		   "cell_type": "markdown",
		   "metadata": {},
		   "source": [
			"## Example 3.2: Values_of_Iand_V_for_the_circuit_given.sce"
		   ]
		  },
  {
"cell_type": "code",
	   "execution_count": null,
	   "metadata": {
	    "collapsed": true
	   },
	   "outputs": [],
"source": [
"//Example 3.2 : Values of Iand V for the circuit given\n",
"disp('Consider fig 3.6(a). Assume both diodes are conducting')\n",
"I_D2=(10-0)/10;\n",
"I=(0-(-10))/5-I_D2; // node eqution at B for fig 3.6(a)\n",
"V_B=0;\n",
"V=0;\n",
"disp(I,'I (mA)=', V,'V (V)' ,'D_1 is conducting as assumed originally')\n",
"disp('Consider fig 3.6(a). Assume both diodes are conducting')\n",
"I_D2=(10-0)/5;\n",
"I=(0-(-10))/10-2; // node eqution at B for fig 3.6(b)\n",
"disp(I,'I (mA)=', V,('V (V)'))\n",
"disp('Implies assumption is wrong. lets assume D_1 is off and D_2 is on')\n",
"I_D2=(10-(-10))/15;\n",
"V_B=-10+10*I_D2;\n",
"I=0;\n",
"disp(I,'I (mA)', V_B,'V (V)' ,'D_1 is reverse biased')"
   ]
   }
,
{
		   "cell_type": "markdown",
		   "metadata": {},
		   "source": [
			"## Example 3.3: Evaluating_junction_scaling_constant.sce"
		   ]
		  },
  {
"cell_type": "code",
	   "execution_count": null,
	   "metadata": {
	    "collapsed": true
	   },
	   "outputs": [],
"source": [
"//Example 3.3 : Evaluating junction scaling constant\n",
"//i-I_S*exp(v/(n*V_T)) implies I_S=i*exp(-v/(n*V_T))\n",
"n=1;\n",
"i=10^-3; // (A)\n",
"v=700; // (V)\n",
"V_T=25; // (V)\n",
"I_S=i*exp(-v/(n*V_T))\n",
"disp(I_S,'I_S (A) for n=1')\n",
"n=2;\n",
"I_S=i*exp(-v/(n*V_T))\n",
"disp(I_S,'I_S (A) for n=2')\n",
"disp('These values implies I_S is 1000 times greater ')"
   ]
   }
,
{
		   "cell_type": "markdown",
		   "metadata": {},
		   "source": [
			"## Example 3.4: To_determine_ID_and_VD.sce"
		   ]
		  },
  {
"cell_type": "code",
	   "execution_count": null,
	   "metadata": {
	    "collapsed": true
	   },
	   "outputs": [],
"source": [
"//Example 3.4: To determine I_D and V_D\n",
"V_DD=5; // (V)\n",
"R=1000; // (ohm)\n",
"I_1=1*10^-3; // (A)\n",
"V_D=0.7; // (V)\n",
"V_1=V_D;\n",
"I_D=(V_DD-V_D)/R;\n",
"I_2=I_D;\n",
"V_2=V_1+0.1*log10(I_2/I_1);\n",
"I_D=(V_DD-V_2)/R;\n",
"disp(I_D,'The diode current (A)')\n",
"V_D=V_2+0.1*log10(I_D/I_2)\n",
"disp(V_D,'The diode volage (V)')"
   ]
   }
,
{
		   "cell_type": "markdown",
		   "metadata": {},
		   "source": [
			"## Example 3.5: Repeating_example_4_using_piecewise_linear_model.sce"
		   ]
		  },
  {
"cell_type": "code",
	   "execution_count": null,
	   "metadata": {
	    "collapsed": true
	   },
	   "outputs": [],
"source": [
"// Example 3.5 : Repeating example 3.4 using piecewise linear model\n",
"V_D0=0.65; // (V)\n",
"r_D=20; // (ohm)\n",
"R=1000; // (ohm)\n",
"V_DD=5; // (V)\n",
"I_D=(V_DD-V_D0)/(R+r_D);\n",
"disp(I_D,'I_D (A)')\n",
"V_D=V_D0+I_D*r_D;\n",
"disp(V_D,'The diod voltage (V)')"
   ]
   }
,
{
		   "cell_type": "markdown",
		   "metadata": {},
		   "source": [
			"## Example 3.6: Power_supply_ripple.sce"
		   ]
		  },
  {
"cell_type": "code",
	   "execution_count": null,
	   "metadata": {
	    "collapsed": true
	   },
	   "outputs": [],
"source": [
"// Example 3.6 : Power supply ripple\n",
"V_S=10; // V_S=V_+\n",
"V_D=0.7; // (V)\n",
"R=10*10^3; // (ohm)\n",
"n=2;\n",
"V_T=25*10^-3; // (V)\n",
"V_s=1; // (V)\n",
"I_D=(V_S - V_D)/R;\n",
"r_D=n*V_T/I_D;\n",
"v_d=V_s*r_D/(R+r_D);\n",
"disp(v_d,'v_d(peak (V))')"
   ]
   }
,
{
		   "cell_type": "markdown",
		   "metadata": {},
		   "source": [
			"## Example 3.7: Percentage_change_in_regulated_voltage.sce"
		   ]
		  },
  {
"cell_type": "code",
	   "execution_count": null,
	   "metadata": {
	    "collapsed": true
	   },
	   "outputs": [],
"source": [
"// Example 3.7 : Percentage change in regulated voltage\n",
"V_DD=10; // (V)\n",
"V_D=0.7*3; // string of 3 diodes provide this constant voltage\n",
"R=1*10^3;\n",
"I_D=(V_DD-V_D)/R;\n",
"n=2;\n",
"V_T= 25*10^-3; // (V)\n",
"r_d=n*V_T/I_D; // incremental resistance \n",
"r=3*r_d; // total incremental resistance\n",
"deltav_O=2*r/(r+R); // deltav is peak to peak change in output voltage\n",
"disp(deltav_O,'Percentage change (V) in regulated voltage caused by 10% change in power supply')\n",
"I=2.1*10^-3; // The current drawn from the diode string\n",
"deltav_O=-I*r; // Decrease in voltage across diode string\n",
"disp(deltav_O,'Decrease in voltage across diode string (V)')"
   ]
   }
,
{
		   "cell_type": "markdown",
		   "metadata": {},
		   "source": [
			"## Example 3.8: line_regulation_load_regulation.sce"
		   ]
		  },
  {
"cell_type": "code",
	   "execution_count": null,
	   "metadata": {
	    "collapsed": true
	   },
	   "outputs": [],
"source": [
"// Example 3.8 : line regulation load regulation\n",
"\n",
"V_Z=6.8; // (V)\n",
"I_Z=0.005; // (A)\n",
"r_Z=20; // (ohm)\n",
"V=10; // V=V_+\n",
"R=0.5*10^3; // (ohm)\n",
"\n",
"// 3.8a\n",
"V_ZO=V_Z-r_Z*I_Z;\n",
"I_Z=(V-V_ZO)/(R+r_Z)\n",
"V_O=V_ZO+I_Z*r_Z;\n",
"disp(V_O,'V_O (V)')\n",
"\n",
"// 3.8b\n",
"deltaV=1; // change in V is +1 and -1\n",
"deltaV_O=deltaV*r_Z/(R+r_Z); // corresponding change in output voltage\n",
"disp(deltaV_O,'Line regulation (V/V)')\n",
"\n",
"// 3.8c\n",
"I_L=1*10^-3; // load current\n",
"deltaI_L=1*10^-3;\n",
"deltaI_Z=-1*10^-3; // change in zener current\n",
"deltaV_O=r_Z*deltaI_Z;\n",
"disp(deltaV_O,'Load regulation (V/A)')\n",
"\n",
"// 3.8d\n",
"I_L=6.8/2000; // load current with load resistance of 2000\n",
"deltaI_Z=-I_L;\n",
"deltaV_O=r_Z*deltaI_Z;\n",
"disp(deltaV_O,'Corresponding change in zener voltage (V) for zener current change of -3.4mA')\n",
"\n",
"// 3.8e\n",
"R_L=0.5*10^3; // (ohm)\n",
"V_O=V*R_L/(R+R_L);\n",
"disp(V_O,'V_O (V) for R_L=0.5K ohm')\n",
"\n",
"// 3.8f\n",
"I_Z=0.2*10^-3; // Zener t be at the edge of breakdown I_Z=I_ZK\n",
"V_Z=6.7; // V_Z=V_ZK\n",
"I_Lmin=(9-6.7)/0.5; // Lowest current supplied to R\n",
"I_L=I_Lmin-I_Z; // load current\n",
"R_L=V_Z/I_L;\n",
"disp(R_L,'R_L (ohm)')"
   ]
   }
,
{
		   "cell_type": "markdown",
		   "metadata": {},
		   "source": [
			"## Example 3.9: Value_of_capacitance_C_that_will_result_in_peak_pe.sce"
		   ]
		  },
  {
"cell_type": "code",
	   "execution_count": null,
	   "metadata": {
	    "collapsed": true
	   },
	   "outputs": [],
"source": [
"// Example 3.9 : Value of capacitance C that will result in peak-peak ripple of 2V\n",
"V_P=100; // (V)\n",
"V_r=2; // (V)\n",
"f=60; // (Hz)\n",
"R=10*10^3; // (ohm)\n",
"I_L=V_P/R;\n",
"C=V_P/(V_r*f*R);\n",
"disp(C,'C (V)')\n",
"wdeltat=sqrt(2*V_r/V_P);\n",
"disp(wdeltat,'Conduction angle (rad)')\n",
"i_Dav=I_L*(1+%pi*sqrt(2*V_P/V_r));\n",
"disp(i_Dav,'i_Dav (A)')\n",
"i_Dmax=I_L*(1+2*%pi*sqrt(2*V_P/V_r));\n",
"disp(i_Dmax,'i_Dmax (A)')"
   ]
   }
],
"metadata": {
		  "kernelspec": {
		   "display_name": "Scilab",
		   "language": "scilab",
		   "name": "scilab"
		  },
		  "language_info": {
		   "file_extension": ".sce",
		   "help_links": [
			{
			 "text": "MetaKernel Magics",
			 "url": "https://github.com/calysto/metakernel/blob/master/metakernel/magics/README.md"
			}
		   ],
		   "mimetype": "text/x-octave",
		   "name": "scilab",
		   "version": "0.7.1"
		  }
		 },
		 "nbformat": 4,
		 "nbformat_minor": 0
}
