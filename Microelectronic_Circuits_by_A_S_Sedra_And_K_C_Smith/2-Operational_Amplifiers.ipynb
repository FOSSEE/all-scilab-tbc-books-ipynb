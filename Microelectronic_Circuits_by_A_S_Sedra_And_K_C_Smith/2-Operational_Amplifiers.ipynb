{
"cells": [
 {
		   "cell_type": "markdown",
	   "metadata": {},
	   "source": [
       "# Chapter 2: Operational Amplifiers"
	   ]
	},
{
		   "cell_type": "markdown",
		   "metadata": {},
		   "source": [
			"## Example 2.1: Closed_loop_and_open_loop_gain.sce"
		   ]
		  },
  {
"cell_type": "code",
	   "execution_count": null,
	   "metadata": {
	    "collapsed": true
	   },
	   "outputs": [],
"source": [
"// Example 2.1 : Closed loop and open loop gain\n",
"// Consider inverting configuration\n",
"\n",
"// 2.1a\n",
"R_1=1000; // (ohm)\n",
"R_2=100*10^3; // (ohm)\n",
"A=10^3; // (V/V)\n",
"disp(A,'A (V/V)')\n",
"G=-R_2/R_1/(1+(1+R_2/R_1)/A);\n",
"disp(-G,'G')\n",
"e=(-G-(R_2/R_1))/(R_2/R_1)*100;\n",
"disp(e,'e (%)')\n",
"v_1=0.1; // (V)\n",
"v_1=G*v_1/A;\n",
"disp(v_1,'v_1 (V)')\n",
"A=10^4; // (V/V)\n",
"disp(A,'A (V/V)')\n",
"G=-R_2/R_1/(1+(1+R_2/R_1)/A);\n",
"disp(-G,'G')\n",
"e=(-G-(R_2/R_1))/(R_2/R_1)*100;\n",
"disp(e,'e (%)')\n",
"v_1=0.1; // (V)\n",
"v_1=G*v_1/A;\n",
"disp(v_1,'v_1 (V)')\n",
"A=10^5; // (V/V)\n",
"disp(A,'A (V/V)')\n",
"G=-R_2/R_1/(1+(1+R_2/R_1)/A);\n",
"disp(-G,'G')\n",
"e=(-G-(R_2/R_1))/(R_2/R_1)*100;\n",
"disp(e,'e (%)')\n",
"v_1=0.1; // (V)\n",
"v_1=G*v_1/A;\n",
"disp(v_1,'v_1 (V)')\n",
"\n",
"// 2.1b\n",
"A=50000; // (V/V)\n",
"disp(A,'A (V/V)')\n",
"G=-R_2/R_1/(1+(1+R_2/R_1)/A);\n",
"disp(-G,'G')\n",
"disp('Thus a -50% change in the open loop gain results in only -0.1% in the closed loop gain')"
   ]
   }
,
{
		   "cell_type": "markdown",
		   "metadata": {},
		   "source": [
			"## Example 2.3: Design_instrumentation_amplifier.sce"
		   ]
		  },
  {
"cell_type": "code",
	   "execution_count": null,
	   "metadata": {
	    "collapsed": true
	   },
	   "outputs": [],
"source": [
"// Example 2.3 : Design instrumentation amplifier\n",
"R_2=1-50000-1/1000+50;\n",
"disp(R_2,'R_2 (ohm)')\n",
"R_1=2*R_2/999;\n",
"disp(R_1,'R_1 (ohm)')"
   ]
   }
],
"metadata": {
		  "kernelspec": {
		   "display_name": "Scilab",
		   "language": "scilab",
		   "name": "scilab"
		  },
		  "language_info": {
		   "file_extension": ".sce",
		   "help_links": [
			{
			 "text": "MetaKernel Magics",
			 "url": "https://github.com/calysto/metakernel/blob/master/metakernel/magics/README.md"
			}
		   ],
		   "mimetype": "text/x-octave",
		   "name": "scilab",
		   "version": "0.7.1"
		  }
		 },
		 "nbformat": 4,
		 "nbformat_minor": 0
}
