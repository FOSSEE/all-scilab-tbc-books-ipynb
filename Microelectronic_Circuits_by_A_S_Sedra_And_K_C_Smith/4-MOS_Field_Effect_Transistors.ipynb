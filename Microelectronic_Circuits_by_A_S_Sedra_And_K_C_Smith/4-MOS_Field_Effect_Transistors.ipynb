{
"cells": [
 {
		   "cell_type": "markdown",
	   "metadata": {},
	   "source": [
       "# Chapter 4: MOS Field Effect Transistors"
	   ]
	},
{
		   "cell_type": "markdown",
		   "metadata": {},
		   "source": [
			"## Example 4.10: Small_signal_analysis.sce"
		   ]
		  },
  {
"cell_type": "code",
	   "execution_count": null,
	   "metadata": {
	    "collapsed": true
	   },
	   "outputs": [],
"source": [
"// Example 4.10 : Small signal analysis\n",
"V_t=1.5; // (V)\n",
"K=0.00025;//K= k_nW/L (A/V^2)\n",
"V_A=50; // (V)\n",
"I_D=1.06*10^-3; // (A)\n",
"V_D=4.4; // (V)\n",
"R_D=10000; // (ohm)\n",
"R_L=10000; // (ohm)\n",
"V_GS=V_D;\n",
"g_m=K*(V_GS-V_t);\n",
"r_o=V_A/I_D;\n",
"A_v=-g_m*(R_L*R_D*r_o)/(R_D*R_L+R_D*r_o+R_L*r_o);\n",
"disp(A_v,'Voltage gain (V/V)')\n",
"R_G=10*10^6; //(ohm)\n",
"// i_i=v_i*(1-A_v)/R_G\n",
"R_in=R_G/(1-(A_v));\n",
"disp(R_in,'Input resistance (ohm)')\n",
"// v_DSmin=v_GSmin-V_t\n",
"v_i=V_t/(1+(-A_v)); // - sign to make A_v positive\n",
"disp(v_i,' Largest allowable input signal (V)')"
   ]
   }
,
{
		   "cell_type": "markdown",
		   "metadata": {},
		   "source": [
			"## Example 4.11: To_determine_all_parameters_of_transistor_amplifie.sce"
		   ]
		  },
  {
"cell_type": "code",
	   "execution_count": null,
	   "metadata": {
	    "collapsed": true
	   },
	   "outputs": [],
"source": [
"// Example 4.11: To determine all parameters of transistor amplifier\n",
"v_o=90; // (V)\n",
"v_i=9; // (V)\n",
"R_sig=100*10^3; // (ohm)\n",
"R_L=10*10^3; // (ohm)\n",
"v_sig=10; // (V)\n",
"A_vo=v_o/v_i;\n",
"disp(A_vo,'A_vo (V/V)')\n",
"G_vo=v_o/A_vo;\n",
"disp(G_vo,'G_vo (V/V)')\n",
"R_i=G_vo*R_sig/(A_vo-G_vo)\n",
"disp(R_i,'R_i')\n",
"disp('assume R_L = 10 kilo ohm is connected')\n",
"v_o=70; // (V)\n",
"v_i=8; // (V)\n",
"A_v=v_o/v_i;\n",
"disp(A_v,'A_v (V/V)')\n",
"G_v=v_o/A_vo;\n",
"disp(G_v,'G_v (V/V)')\n",
"R_o=R_L*(A_vo-A_v)/A_v;\n",
"disp(R_o,'R_o (ohm)')\n",
"R_out=R_L*(G_vo-G_v)/G_v;\n",
"disp(R_out,'R_out (ohm)')\n",
"R_in=(v_i*100)/(v_sig-v_i);\n",
"disp(R_in,'R_in (ohm)')\n",
"G_m=A_vo/R_o;\n",
"disp(G_m,'G_m (mho)')\n",
"A_i=A_v*R_in/R_L;\n",
"disp(A_i,'A_i (V/V)')\n",
"R_inL0=R_sig/((1+R_sig/R_i)*(R_out/R_o)-1); // R_in|R_L=0 (ohm)\n",
"disp(R_inL0,'R_in at R_L=0')\n",
"A_is=A_vo*R_inL0/R_o;\n",
"disp(A_is,'A_is (A/A)')"
   ]
   }
,
{
		   "cell_type": "markdown",
		   "metadata": {},
		   "source": [
			"## Example 4.12: Midband_gain_and_upper_3dB_frequency.sce"
		   ]
		  },
  {
"cell_type": "code",
	   "execution_count": null,
	   "metadata": {
	    "collapsed": true
	   },
	   "outputs": [],
"source": [
"// Example 4.12 : Midband gain and upper 3dB frequency\n",
"R_sig= 100*10^3; // (ohm)\n",
"R_G=4.7*10^6; // (ohm)\n",
"R_D=15*10^3; // (ohm)\n",
"R_l=15*10^3; // (ohm)\n",
"g_m=1*10^-3; // (mho)\n",
"r_o=150*10^3; // (ohm)\n",
"C_gs=1*10^-12; // (F)\n",
"C_gd=0.4*10^-12; // (F)\n",
"R_L= 1/(1/r_o + 1/R_D + 1/R_l)\n",
"A_M=R_G/(R_G + R_sig)*g_m*R_L;\n",
"disp(A_M,'midband gain A_M (V/V)')\n",
"C_eq=(1+g_m*R_L)*C_gd;\n",
"C_in=C_gs+C_eq;\n",
"f_H=(R_G+R_sig)/(2*%pi*C_in*R_sig*R_G);\n",
"disp(f_H,'f_H (Hz)')"
   ]
   }
,
{
		   "cell_type": "markdown",
		   "metadata": {},
		   "source": [
			"## Example 4.13: Coupling_capacitor_values.sce"
		   ]
		  },
  {
"cell_type": "code",
	   "execution_count": null,
	   "metadata": {
	    "collapsed": true
	   },
	   "outputs": [],
"source": [
"// Example 4.13 : Coupling capacitor values\n",
"R_G=4.7*10^6; // (ohm)\n",
"R_D=15*10^3; // (ohm)\n",
"R_L=15*10^3; // (ohm)\n",
"R_sig=100*10^3; // (ohm)\n",
"g_m=1*10^-3; // (mho)\n",
"f_L=100; // (Hz)\n",
"C_S=g_m/(2*%pi*f_L)\n",
"disp(C_S,'C_S (F)')\n",
"f_P2=1/(2*%pi*C_S/g_m);\n",
"f_P1=10; // (Hz)\n",
"f_P2=10; // (Hz)\n",
"C_C1=1/(2*%pi*(R_G+R_sig)*10)\n",
"disp(C_C1,'C_C1 (F)')\n",
"C_C2=1/(2*%pi*(R_D+R_L)*10)\n",
"disp(C_C2,'C_C2 (F)')"
   ]
   }
,
{
		   "cell_type": "markdown",
		   "metadata": {},
		   "source": [
			"## Example 4.1: To_determine_operating_point_parameters.sce"
		   ]
		  },
  {
"cell_type": "code",
	   "execution_count": null,
	   "metadata": {
	    "collapsed": true
	   },
	   "outputs": [],
"source": [
"// Example 4.1 : To determine operating point parameters\n",
"L_min=0.4*10^-6; // (m)\n",
"t_ox=8*10^-9; // (s)\n",
"u_n=450*10^-4; // (A/V^2)\n",
"V_t=0.7; // (V)\n",
"e_ox=3.45*10^-11; \n",
"\n",
"// 4.1a\n",
"C_ox=e_ox/t_ox;\n",
"disp(C_ox,'C_ox (F/m^2)')\n",
"k_n=u_n*C_ox;\n",
"disp(k_n,'k_n (A/V^2)')\n",
"\n",
"// 4.1b \n",
"// Operation in saturation region\n",
"W=8*10^-6; // (m)\n",
"L=0.8*10^-6; // (m)\n",
"i_D=100*10^-6; // (A)\n",
"V_GS=sqrt(2*L*i_D/(k_n*W)) +V_t;\n",
"disp(V_GS,'V_GS (V)')\n",
"V_DSmin=V_GS-V_t;\n",
"disp(V_DSmin,'V_DSmin (V)')\n",
"\n",
"// 4.1c\n",
"// MOSFET in triode region\n",
"r_DS=1000; // (ohm)\n",
"V_GS=1/(k_n*(W/L)*r_DS)+V_t;\n",
"disp(V_GS,'V_GS (V)')"
   ]
   }
,
{
		   "cell_type": "markdown",
		   "metadata": {},
		   "source": [
			"## Example 4.2: Design_of_given_circuit.sce"
		   ]
		  },
  {
"cell_type": "code",
	   "execution_count": null,
	   "metadata": {
	    "collapsed": true
	   },
	   "outputs": [],
"source": [
"// Example 4.2: Design of given circuit to obtain I_D=0.4mA and V_D=0.5V\n",
"// NMOS transistor is operating in saturation region\n",
"I_D=0.4*10^-3; // (A)\n",
"V_D=0.5; // (V)\n",
"V_t=0.7; // (V)\n",
"uC_n=100*10^-6; // (A/V^2)\n",
"L=1*10^-6; // (m)\n",
"W=32*10^-6; // (m)\n",
"V_SS=-2.5; // (V)\n",
"V_DD=2.5; // (V)\n",
"V_OV=sqrt(I_D*2*L/(uC_n*W));\n",
"V_GS=V_t+V_OV;\n",
"disp(V_GS,'V_t (V)')\n",
"V_S=-1.2; // (V)\n",
"R_S=(V_S-V_SS)/I_D;\n",
"disp(R_S,'R_S (ohm)')\n",
"V_D=0.5; // (V)\n",
"R_D=(V_DD-V_D)/I_D;\n",
"disp(R_D,'R_D (ohm)')"
   ]
   }
,
{
		   "cell_type": "markdown",
		   "metadata": {},
		   "source": [
			"## Example 4.3: Design_of_given_circuit.sce"
		   ]
		  },
  {
"cell_type": "code",
	   "execution_count": null,
	   "metadata": {
	    "collapsed": true
	   },
	   "outputs": [],
"source": [
"// Example 4.3: Design of given circuit to obtain I_D=80uA\n",
"// FET is operating in saturation region\n",
"I_D=80*10^-6; // (A)\n",
"V_t=0.6; // (V)\n",
"uC_n=200*10^-6; // (A/V^2)\n",
"L=0.8*10^-6; // (m)\n",
"W=4*10^-6; // (m)\n",
"V_DD=3; // (V)\n",
"V_OV=sqrt(2*I_D/(uC_n*(W/L)));\n",
"V_GS=V_t+V_OV;\n",
"V_DS=V_GS;\n",
"V_D=V_DS;\n",
"disp(V_D,'V_D (V)')\n",
"R=(V_DD-V_D)/I_D;\n",
"disp(R,'R (ohm)')"
   ]
   }
,
{
		   "cell_type": "markdown",
		   "metadata": {},
		   "source": [
			"## Example 4.4: Design_of_given_circuit.sce"
		   ]
		  },
  {
"cell_type": "code",
	   "execution_count": null,
	   "metadata": {
	    "collapsed": true
	   },
	   "outputs": [],
"source": [
"// Example 4.4 :  Design of given circuit to obtain V_D=0.1V\n",
"// MOSFET is operating in triode region\n",
"V_D=0.1; // (V)\n",
"V_DD=5; // (V)\n",
"V_t=1; // (V)\n",
"K=1*10^-3; // K=k'_n(W/L)\n",
"V_GS=5; // (V)\n",
"V_DS=0.1; // (V)\n",
"I_D=K*((V_GS-V_t)*V_DS-(V_DS^2)/2);\n",
"disp(I_D,'I_D (A)')\n",
"R_D=(V_DD-V_D)/I_D;\n",
"disp(R_D,'R_D (ohm)')\n",
"r_DS=V_DS/I_D;\n",
"disp(r_DS,'r_DS (ohm)')"
   ]
   }
,
{
		   "cell_type": "markdown",
		   "metadata": {},
		   "source": [
			"## Example 4.5: To_determine_all_node_voltages_and_currents_throug.sce"
		   ]
		  },
  {
"cell_type": "code",
	   "execution_count": null,
	   "metadata": {
	    "collapsed": true
	   },
	   "outputs": [],
"source": [
"// Example 4.5: To determine all node voltages and currents through all branches\n",
"V_t=1; // (V)\n",
"K=1*10^-3; // K=k'_n(W/L)\n",
"V_DD=10; // (V)\n",
"R_G1=10*10^6; // (ohm)\n",
"R_G2=10*10^6; // (ohm)\n",
"R_D=6*10^3; // (ohm)\n",
"R_S=6*10^3; // (ohm)\n",
"p=poly([8 -25 18],'I_D', 'coeff');\n",
"I_D=roots(p);\n",
"// I_D=0.89mA will result in transistor cut off hence we take the other root of the equation\n",
"V_G=V_DD*R_G2/(R_G2+R_G1);\n",
"I_D=I_D(1)*10^-3;\n",
"disp(I_D,'I_D (A)')\n",
"V_S=I_D*R_S;\n",
"disp(V_S,'V_S (V)')\n",
"V_GS=V_G-V_S;\n",
"disp(V_GS,'V_GS (V)')\n",
"V_D=V_DD-R_D*I_D;\n",
"disp(V_D,'V_D (V)')\n",
"// V_D>V_G-V_t the transistor is operating in saturation as initially assumed"
   ]
   }
,
{
		   "cell_type": "markdown",
		   "metadata": {},
		   "source": [
			"## Example 4.6: Design_of_given_circuit.sce"
		   ]
		  },
  {
"cell_type": "code",
	   "execution_count": null,
	   "metadata": {
	    "collapsed": true
	   },
	   "outputs": [],
"source": [
"// Example 4.6;  Design of given circuit to obtain I_D=0.5mA and V_D=3V\n",
"// MOSFET is in saturation\n",
"V_DD=5; // (V)\n",
"V_D=3; // (V)\n",
"I_D=0.5*10^-3; // (A)\n",
"V_t=-1; // (V)\n",
"K=1*10^-3; // K=k'_n(W/L)\n",
"V_OV=sqrt(2*I_D/K);\n",
"V_GS=V_t+(-V_OV)\n",
"R_D=V_D/I_D;\n",
"V_Dmax=V_D-V_t; // - sign as magnitude of V_t is considered\n",
"R_D=V_Dmax/I_D;\n",
"disp(R_D,'R_D (ohm)')"
   ]
   }
,
{
		   "cell_type": "markdown",
		   "metadata": {},
		   "source": [
			"## Example 4.7: To_determine_drain_currents_and_output_voltage.sce"
		   ]
		  },
  {
"cell_type": "code",
	   "execution_count": null,
	   "metadata": {
	    "collapsed": true
	   },
	   "outputs": [],
"source": [
"// Example 4.7: To determine drain currents and output voltage\n",
"K_n =1*10^-3; // K_n=k_n*W_n/L_n (A/V^2)\n",
"K_p = 1*10^-3; // K_p=k_p*W_p/L_p (A/V^2)\n",
"V_tn= 1; // (V)\n",
"V_tp= -1; // (V)\n",
"V_I=-2.5:2.5:2.5; // (V)\n",
"V_DD=2.5; // (V)\n",
"R=10;// (kilo ohm)\n",
"// For V_I=0\n",
"I_DP=(K_p*(V_DD-V_tn)^2)/2;\n",
"I_DN=I_DP;\n",
"disp(I_DP,I_DN,'I_DP (A) and I_DN (A) for V_I=0V')\n",
"disp(0,'V_O for V_I =0V')\n",
"// For V_I=2.5V\n",
"// I_DN=K_N(V_GS-V_tn)V_DS\n",
"// I_DN=v_O/R\n",
"// Solving the two equations we get\n",
"I_DN=0.244*10^-3; // (V)\n",
"V_O=-2.44; // (V)\n",
"disp(I_DN,V_O,'V_O and I_DN for V_I=2.5V')\n",
"// For V_I=-2.5V Q_N is cut off\n",
"I_DP=2.44*10^-3; // (A)\n",
"V_O=2.44; // (V)\n",
"disp(0,I_DP,V_O,'V_O(V), I_DP (A) and I_DN (A) for V_I=-2.5V')"
   ]
   }
,
{
		   "cell_type": "markdown",
		   "metadata": {},
		   "source": [
			"## Example 4.9: Design_of_given_circuit.sce"
		   ]
		  },
  {
"cell_type": "code",
	   "execution_count": null,
	   "metadata": {
	    "collapsed": true
	   },
	   "outputs": [],
"source": [
"// Example 4.9 : Design of given circuit to obtain I_D=0.5mA\n",
"I_d=0.5*10^-3; // (A)\n",
"I_S=0.5*10^-3; // (A)\n",
"V_t=1:0.5:1.5; // (V)\n",
"K_n=1*10^-3; // K_n=k_n*W/L (A/V^2)\n",
"V_DD=15; // (V)\n",
"V_D=10; // (V)\n",
"V_S=5; // (V)\n",
"R_D=(V_DD-V_D)/I_d;\n",
"R_S=V_S/I_S;\n",
"V_OV=sqrt(I_d*2/K_n);\n",
"V_GS=V_t+V_OV;\n",
"V_G=V_S+V_GS;\n",
"// V_t=1.5V\n",
"// I_D=K(V_GS-V_t)^2/2\n",
"// 7=V_GS+10I_D\n",
"// solving above equations \n",
"I_D=0.455*10^-3;\n",
"deltaI_D=I_D-I_d; // Change in I_D (A)\n",
"change=deltaI_D*100/I_d; // Change in %\n",
"disp(change,'Change in I_D (%)')"
   ]
   }
],
"metadata": {
		  "kernelspec": {
		   "display_name": "Scilab",
		   "language": "scilab",
		   "name": "scilab"
		  },
		  "language_info": {
		   "file_extension": ".sce",
		   "help_links": [
			{
			 "text": "MetaKernel Magics",
			 "url": "https://github.com/calysto/metakernel/blob/master/metakernel/magics/README.md"
			}
		   ],
		   "mimetype": "text/x-octave",
		   "name": "scilab",
		   "version": "0.7.1"
		  }
		 },
		 "nbformat": 4,
		 "nbformat_minor": 0
}
