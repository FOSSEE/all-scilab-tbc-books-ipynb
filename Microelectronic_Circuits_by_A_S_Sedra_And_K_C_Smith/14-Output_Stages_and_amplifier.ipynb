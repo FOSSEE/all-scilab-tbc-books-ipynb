{
"cells": [
 {
		   "cell_type": "markdown",
	   "metadata": {},
	   "source": [
       "# Chapter 14: Output Stages and amplifier"
	   ]
	},
{
		   "cell_type": "markdown",
		   "metadata": {},
		   "source": [
			"## Example 14.1: To_design_a_Class_B_Output_Amplifier.sce"
		   ]
		  },
  {
"cell_type": "code",
	   "execution_count": null,
	   "metadata": {
	    "collapsed": true
	   },
	   "outputs": [],
"source": [
"// Example 14.1 To design a Class B Output Amplifier\n",
"\n",
"P_L=20; // Average power (W) \n",
"R_L=8; // Load resistance (ohm)\n",
"V_o=sqrt(2*P_L*R_L); \n",
"disp(V_o,'Supply voltage required (V)')\n",
"V_CC=23; // We select this voltage (V)\n",
"I_o=V_o/R_L;\n",
"disp(I_o,'Peak current drawn from each supply (A)')\n",
"P_Sav=V_CC*I_o/%pi; // P_S+ = P_S- = P_Sav\n",
"P_S=P_Sav+P_Sav; // Total supply power\n",
"disp(P_S,'The total power supply (W)')\n",
"n=P_L/P_S; // n is power conversion efficiency\n",
"disp(n*100,'Power conversion efficiency %')\n",
"P_DPmax=V_CC^2/(%pi^2*R_L);\n",
"P_DNmax=P_DPmax;\n",
"disp(P_DPmax,'Maximun power dissipated in each transistor (W)')"
   ]
   }
,
{
		   "cell_type": "markdown",
		   "metadata": {},
		   "source": [
			"## Example 14.2: To_determine_quiescent_current_and_power.sce"
		   ]
		  },
  {
"cell_type": "code",
	   "execution_count": null,
	   "metadata": {
	    "collapsed": true
	   },
	   "outputs": [],
"source": [
"// Example 14.2 To determine quiescent current and power\n",
"// Consider Class AB Amplifier\n",
"V_CC=15; // (V)\n",
"R_L=100; // (ohm)\n",
"v_O=-10:10:10; // Amplitude of sinusoidal output voltage (V)\n",
"I_S=10^-13; // (A)\n",
"V_T=25*10^-3; // (V)\n",
"B=50; // Beta value\n",
"i_Lmax=10/(0.1*10^3); // Maximum current through Q_N (A)\n",
"// Implies max base curent  in Q_N is approximately 2mA\n",
"I_BIAS=3*10^-3; // We select I_BIAS=3mA in order to maintain a minimum of 1mA through the diodes\n",
"I_Q=9*10^-3; // The area ratio of 3 yeilds quiescent current of 9mA\n",
"P_DQ=2*V_CC*I_Q;\n",
"disp(P_DQ,'Quiescent power dissipation (W)')\n",
"//For v_O=0V base current of Q_N is 9/51=0.18 mA\n",
"// Leaves a current of 3-0.18=2.83mA to flow through the diodes\n",
"I_S= (10^-13)/3; // Diodes have I_S = (1*10^-13)/3 \n",
"V_BB=2*V_T*log((2.83*10^-3)/I_S);\n",
"disp(V_BB,'V_BB (V) for v_O = 0V')\n",
"// For v_O=+10V, current through the diodes will decrease to 1mA\n",
"V_BB=2*V_T*log((1*10^-3)/I_S);\n",
"disp(V_BB,'V_BB (V) for v_O = +10V')\n",
"// For v_O=-10V , Q_N will conduct very small current thus base current is negligible\n",
"// All of the I_BIAS(3mA) flows through the diodes\n",
"V_BB=2*V_T*log((3*10^-3)/I_S);\n",
"disp(V_BB,'V_BB (V) for v_O = -10V')"
   ]
   }
,
{
		   "cell_type": "markdown",
		   "metadata": {},
		   "source": [
			"## Example 14.3: Redesign_the_output_stage_of_Example_2.sce"
		   ]
		  },
  {
"cell_type": "code",
	   "execution_count": null,
	   "metadata": {
	    "collapsed": true
	   },
	   "outputs": [],
"source": [
"// Example 14.3 Redesign the output stage of Example 14.2\n",
"V_T=25*10^-3; // (V)\n",
"I_S=10^-14; // (A)\n",
"I_Q=2*10^-3; // Required quiescent current (A)\n",
"// We select I_BIAS=3mA which is divided between I_R and I_C1\n",
"// Thus we select I_R=0.5mA and I_C1=2.5mA\n",
"V_BB=2*V_T*log(I_Q/10^-13);\n",
"disp(V_BB,'V_BB (V)')\n",
"I_R=0.5*10^-3;\n",
"R1plusR2=V_BB/I_R; // R1plusR2 = R_1+R_2\n",
"I_C1=2.5*10^-3;\n",
"V_BE1=V_T*log(I_C1/I_S);\n",
"disp(V_BE1,'V_BE1 (V)')\n",
"R_1=V_BE1/I_R;\n",
"disp(R_1,'R_1 (ohm)')\n",
"R_2=R1plusR2-R_1;\n",
"disp(R_2,'R_2 (ohm)')"
   ]
   }
,
{
		   "cell_type": "markdown",
		   "metadata": {},
		   "source": [
			"## Example 14.4: To_determine_thermal_resistance_junction_temperat.sce"
		   ]
		  },
  {
"cell_type": "code",
	   "execution_count": null,
	   "metadata": {
	    "collapsed": true
	   },
	   "outputs": [],
"source": [
"// Example 14.4 To determine thermal resistance, junction temperature \n",
"// Consider BJT with following  specifications\n",
"P_D0=2; // Maximum power dissipation (W)\n",
"T_A0=25; // Ambient temperature (degree celcius)\n",
"T_Jmax=150; // maximum junction temperature (degree celcius) \n",
"\n",
"// 14.4a \n",
"theta_JA=(T_Jmax-T_A0)/P_D0; // Thermal resistance\n",
"disp(theta_JA,'The thermal resistance (degree celsius/W)')\n",
"\n",
"// 14.4b\n",
"T_A=50; // (degree celcius)\n",
"P_Dmax=(T_Jmax-T_A)/theta_JA; \n",
"disp(P_Dmax,'Maximum power that can be dissipated at an ambient temperature of 50 degree celsius (W)')\n",
"\n",
"// 14.4c\n",
"T_A=25; // (degree celcius) \n",
"P_D=1; // (W)\n",
"T_J=T_A+theta_JA*P_D;\n",
"disp(T_J,'Junction temperature (degree celcius) if the device is operating at T_A=25 degree celsius and is dissipating 1W')"
   ]
   }
,
{
		   "cell_type": "markdown",
		   "metadata": {},
		   "source": [
			"## Example 14.5: To_determine_the_maximum_power_dissipated.sce"
		   ]
		  },
  {
"cell_type": "code",
	   "execution_count": null,
	   "metadata": {
	    "collapsed": true
	   },
	   "outputs": [],
"source": [
"// Example 14.5 To determine the maximum power dissipated \n",
"// Consider a BJT with following specifications\n",
"T_Jmax=150; // (degree celcius)\n",
"T_A=50; // (degree celcius)\n",
"\n",
"// 14.5a\n",
"theta_JA=62.5; // (degree celcius/W)\n",
"P_Dmax=(T_Jmax-T_A)/theta_JA;\n",
"disp(P_Dmax,'The maximum power (W) that can be dissipated safely by the transistor when operated in free air')\n",
"\n",
"//14.5b\n",
"theta_CS=0.5; // (degree celcius/W)\n",
"theta_SA=4; // (degree celcius/W)\n",
"theta_JC=3.12; // (degree celcius/W)\n",
"theta_JA=theta_JC+theta_CS+theta_SA;\n",
"P_Dmax=(T_Jmax-T_A)/theta_JA\n",
"disp(P_Dmax,'The maximum power (W) that can be dissipated safely by the transistor when operated at an ambient temperature of 50 degree celcius but with a heat sink for which theta_CS= 0.5 (degree celcius/W) and theta_SA = 4 (degree celcius/W) (W)')\n",
"\n",
"// 14.5c\n",
"theta_CA=0 // since infinite heat sink\n",
"P_Dmax=(T_Jmax-T_A)/theta_JC;\n",
"disp(P_Dmax,'The maximum power (W) that can be dissipated safely if an infinite heat sink is used and T_A=50 (degree celcius)')"
   ]
   }
],
"metadata": {
		  "kernelspec": {
		   "display_name": "Scilab",
		   "language": "scilab",
		   "name": "scilab"
		  },
		  "language_info": {
		   "file_extension": ".sce",
		   "help_links": [
			{
			 "text": "MetaKernel Magics",
			 "url": "https://github.com/calysto/metakernel/blob/master/metakernel/magics/README.md"
			}
		   ],
		   "mimetype": "text/x-octave",
		   "name": "scilab",
		   "version": "0.7.1"
		  }
		 },
		 "nbformat": 4,
		 "nbformat_minor": 0
}
