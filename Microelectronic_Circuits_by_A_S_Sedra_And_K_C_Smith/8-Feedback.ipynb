{
"cells": [
 {
		   "cell_type": "markdown",
	   "metadata": {},
	   "source": [
       "# Chapter 8: Feedback"
	   ]
	},
{
		   "cell_type": "markdown",
		   "metadata": {},
		   "source": [
			"## Example 8.1: Analysis_of_op_amp_connected_in_an_inverting_conf.sce"
		   ]
		  },
  {
"cell_type": "code",
	   "execution_count": null,
	   "metadata": {
	    "collapsed": true
	   },
	   "outputs": [],
"source": [
"// Example 8.1: Analysis of op amp connected in an inverting configuration\n",
"// By inspection we can write down the expressions for A, B , closed loop gain , the input resistance and the output resistance\n",
"u=10^4; // (ohm)\n",
"R_id=100*10^3; // (ohm)\n",
"r_o=1000; // (ohm)\n",
"R_L=2000; // (ohm)\n",
"R_1=1000; // (ohm)\n",
"R_2=10^6; // (ohm)\n",
"R_S=10000; // (ohm)\n",
"A=u*(R_L*(R_1+R_2)/(R_L+R_1+R_2))*R_id/(((R_L*(R_1+R_2))/(R_L+R_1+R_2)+r_o)*(R_id+R_S+(R_1*R_2)/(R_1+R_2)))\n",
"disp(A,'Voltage gain without feedback (V/V)')\n",
"B=R_1/(R_1+R_2); // Beta value\n",
"disp(B, 'Beta value ')\n",
"A_f=A/(1+A*B);\n",
"disp(A_f,'Voltage gain with feedback (V/V)')\n",
"R_i=R_S+R_id+(R_1*R_2/(R_1+R_2))// Input resistance of the A circuit in fig 8.12a of textbook\n",
"R_if=R_i*7;\n",
"R_in=R_if-R_S;\n",
"disp(R_in,'Input resistance (ohm)')\n",
"R_o=1/(1/r_o+1/R_L+1/(R_1+R_2));\n",
"R_of=R_o/(1+A*B); \n",
"R_out=R_of*R_L/(R_L-R_of);\n",
"disp(R_out,'the output resistance (ohm)')"
   ]
   }
,
{
		   "cell_type": "markdown",
		   "metadata": {},
		   "source": [
			"## Example 8.2: Feedback_triple.sce"
		   ]
		  },
  {
"cell_type": "code",
	   "execution_count": null,
	   "metadata": {
	    "collapsed": true
	   },
	   "outputs": [],
"source": [
"// Example 8.2: Feedback triple\n",
"// Consider the given three stage series-series feedback\n",
"h_fe=100;\n",
"g_m2=40*10^-3; // (A/V)\n",
"r_e1=41.7; // (ohm)\n",
"a_1=0.99; // alpha value\n",
"R_C1=9000; // (ohm)\n",
"R_E1=100; //(ohm)\n",
"R_F=640; // (ohm)\n",
"R_E2=100; //(ohm)\n",
"r_pi2=h_fe/g_m2;\n",
"R_C2=5000; // (ohm)\n",
"r_e3=6.25; // (ohm)\n",
"R_C3=800; //(ohm)\n",
"// First stage gain A_1=V_c1/V_i\n",
"A_1=-a_1*R_C1*r_pi2/((R_C1+r_pi2)*(r_e1+((R_E1*(R_F+R_E2))/(R_E1+R_F+R_E2)))) \n",
"disp(A_1,'The voltage gain of the first stage (V/V)')\n",
"// Gain of the second stage A_2=Vc2/V_c1\n",
"A_2=-g_m2*{(R_C2*(h_fe+1)/(R_C2+h_fe+1))*[r_e3+(R_E2*(R_F+R_E1))/(R_E2+R_F+R_E1)]}\n",
"disp(A_2,'The second stage gain (V/V)')\n",
"// Third stage gain A_3 I_O/V_i\n",
"A_3=1/(r_e3+(R_E2*(R_F+R_E1)/(R_E2+R_F+R_E1)));\n",
"disp(A_3,'The third stage gain (V/V)')\n",
"A=A_1*A_2*A_3; // combined gain\n",
"disp(A,'Combined gain (V/V)')\n",
"B=R_E1*R_E2/(R_E2+R_F+R_E1);\n",
"disp(B,'Beta value')\n",
"A_f=A/(1+A*B);\n",
"disp(A_f,'Closed loop gain (A/V)')\n",
"A_v=-A_f*R_C3; // Voltage gain\n",
"disp(A_v,'Voltage gain (V/V)')\n",
"R_i=(h_fe+1)*(r_e1+(R_E1*(R_F+R_E2))/(R_E1+R_F+R_E2));\n",
"R_if=R_i*(1+A*B);\n",
"disp(R_if,'Input resistance (ohm)')\n",
"R_o=(R_E2*(R_F+R_E1)/(R_F+R_E1+R_E2))+r_e3+R_C2/(h_fe+1);\n",
"R_of=R_o*(1+A*B);\n",
"disp(R_of,'Output voltage (ohm)')\n",
"r_o=25000; // (ohm)\n",
"g_m3=160*10^-3; // (mho)\n",
"r_pi3=625; // (ohm)\n",
"R_out=r_o+(1+g_m3*r_o)*R_of*r_pi3/(R_of+r_pi3);\n",
"disp(R_out,'R_out (ohm)')"
   ]
   }
,
{
		   "cell_type": "markdown",
		   "metadata": {},
		   "source": [
			"## Example 8.3: Small_signal_analysis.sce"
		   ]
		  },
  {
"cell_type": "code",
	   "execution_count": null,
	   "metadata": {
	    "collapsed": true
	   },
	   "outputs": [],
"source": [
"// Example 8.3 : Small signal analysis\n",
"B=100; // beta value\n",
"I_B=0.015*10^-3; // (A)\n",
"I_C=1.5*10^-3; // (A)\n",
"V_C=4.7; // (V)\n",
"g_m=40*10^-3;\n",
"R_f=47000;\n",
"R_S=10000;\n",
"R_C=4700;\n",
"r_pi=B/g_m;\n",
"A=-358.7*10^3; // V_o/I_i= -g_m(R_f||R_C)(R_S||R_F||r_pi)\n",
"R_i=1400; // R_i=R_S||R_f||r_pi (ohm)\n",
"R_o=R_C*R_f/(R_C+R_f); \n",
"B=-1/R_f;\n",
"A_f=A/(1+A*B); // V_o/I_s\n",
"A_v=A_f/R_S; // V_o/V_s\n",
"disp(A_v,'The gain (V/V)')\n",
"R_if=R_i/(1+A*B);\n",
"disp(R_if,'R_if (ohm)')\n",
"R_of=R_o/(1+A*B);\n",
"disp(R_of,'R_of (ohm)')"
   ]
   }
,
{
		   "cell_type": "markdown",
		   "metadata": {},
		   "source": [
			"## Example 8.4: Small_signal_analysis.sce"
		   ]
		  },
  {
"cell_type": "code",
	   "execution_count": null,
	   "metadata": {
	    "collapsed": true
	   },
	   "outputs": [],
"source": [
"// Example 8.4: Small signal analysis\n",
"R_S=10*10^3; // (ohm)\n",
"R_B1=100*10^3; // (ohm)\n",
"R_B2=15*10^3; // (ohm)\n",
"R_C1=10*10^3; // (ohm)\n",
"R_E1=870; // (ohm)\n",
"R_E2=3400; // (ohm)\n",
"R_C2=8000; // (ohm)\n",
"R_L=1000; // (ohm)\n",
"R_f=10000; // (ohm)\n",
"B=100; // beta value\n",
"V_A=75; // (V)\n",
"A=-201.45 // I_o/I_i (A/A)\n",
"R_i=1535; // (ohm)\n",
"R_o=2690; // (ohm)\n",
"B=-R_E2/(R_E2+R_f);\n",
"R_if=R_i/(1+A*B);\n",
"disp(R_if)\n",
"R_in=1/((1/R_if)-(1/R_S));\n",
"disp(R_in, 'R_in (ohm)')\n",
"A_f=A/(1+A*B); // I_o/I_S\n",
"gain=R_C2*A_f/(R_C2+R_L); // I_o/I_S\n",
"disp(gain,'I_o/I_S (A/A)')\n",
"R_of=R_o*(1+A*B); // (ohm)\n",
"r_o2=75/0.0004; // (ohm)\n",
"g_m2=0.016; // (A/V)\n",
"r_pi2=6250; // (ohm)\n",
"R_out=r_o2*[1+g_m2*(r_pi2*R_of/(r_pi2+R_of))]\n",
"disp(R_out,'R_out (ohm)')"
   ]
   }
],
"metadata": {
		  "kernelspec": {
		   "display_name": "Scilab",
		   "language": "scilab",
		   "name": "scilab"
		  },
		  "language_info": {
		   "file_extension": ".sce",
		   "help_links": [
			{
			 "text": "MetaKernel Magics",
			 "url": "https://github.com/calysto/metakernel/blob/master/metakernel/magics/README.md"
			}
		   ],
		   "mimetype": "text/x-octave",
		   "name": "scilab",
		   "version": "0.7.1"
		  }
		 },
		 "nbformat": 4,
		 "nbformat_minor": 0
}
