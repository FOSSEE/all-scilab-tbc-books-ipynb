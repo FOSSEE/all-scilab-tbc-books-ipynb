{
"cells": [
 {
		   "cell_type": "markdown",
	   "metadata": {},
	   "source": [
       "# Chapter 5: Bipolar Junction Transistor"
	   ]
	},
{
		   "cell_type": "markdown",
		   "metadata": {},
		   "source": [
			"## Example 5.10: Analyse_the_circuit_to_find_node_voltages_and_bran.sce"
		   ]
		  },
  {
"cell_type": "code",
	   "execution_count": null,
	   "metadata": {
	    "collapsed": true
	   },
	   "outputs": [],
"source": [
"// Exampe 5.10 : Analyse the circuit to find node voltages and branch currents\n",
"V_CC=15; // (V)\n",
"R_C=5000; // (ohm)\n",
"R_B1=100*10^3; // (ohm)\n",
"R_B2=50*10^3; // (ohm)\n",
"R_E=3000; // (ohm)\n",
"V_BE=0.7; // (V)\n",
"B=100; // beta value\n",
"V_BB=V_CC*R_B2/(R_B1+R_B2);\n",
"disp(V_BB,'V_BB (V)')\n",
"R_BB=R_B1*R_B2/(R_B1+R_B2);\n",
"disp(R_BB,'R_BB (ohm)')\n",
"I_B=I_E/(B+1);\n",
"disp(I_B,'Base current (A)')\n",
"I_E=(V_BB-V_BE)/(R_E +(R_BB/(B+1)))\n",
"disp(I_E,'Emiter current (A)')\n",
"I_B=I_E/(B+1)\n",
"disp(I_B,'Base current (A)')\n",
"V_B=V_BE+I_E*R_E;\n",
"disp(V_B,'Base voltage (V)')\n",
"a=B/(B+1); // alpha value\n",
"I_C=a*I_E\n",
"disp(I_C,'Collector current (A)')\n",
"V_C=V_CC-I_C*R_C;\n",
"disp(V_C,'Collector voltage (V))')"
   ]
   }
,
{
		   "cell_type": "markdown",
		   "metadata": {},
		   "source": [
			"## Example 5.11: Analyse_the_circuit_to_find_node_voltages_and_bran.sce"
		   ]
		  },
  {
"cell_type": "code",
	   "execution_count": null,
	   "metadata": {
	    "collapsed": true
	   },
	   "outputs": [],
"source": [
"// Example 5.11 :Analyse the circuit to find node voltages and branch currents\n",
"V_CC=15; // (V)\n",
"R_C1=5000; // (ohm)\n",
"R_B1=100*10^3; // (ohm)\n",
"R_B2=50*10^3; // (ohm)\n",
"R_E=3000; // (ohm)\n",
"V_BE=0.7; // (V)\n",
"R_E2=2000; // (ohm)\n",
"R_C2=2700; // (ohm)\n",
"V_EB=0.7; // (V)\n",
"B=100; // beta value\n",
"V_BB=V_CC*R_B2/(R_B1+R_B2);\n",
"R_BB=R_B1*R_B2/(R_B1+R_B2);\n",
"I_E1=(V_BB-V_BE)/(R_E +(R_BB/(B+1)))\n",
"disp(I_E1,'I_E1 (A)')\n",
"I_B1=I_E1/(B+1)\n",
"disp(I_B1,'I_B1 (A)')\n",
"V_B1=V_BE+I_E*R_E;\n",
"disp(V_B1,'V_B1 (V)')\n",
"a=B/(B+1); // alpha value\n",
"// beta and alpha values are same for the two transistors\n",
"I_C1=a*I_E\n",
"disp(I_C1,'IC1 (A)')\n",
"V_C1=V_CC-I_C1*R_C1;\n",
"disp(V_C1,'V_C1 (V))')\n",
"V_E2=V_C1+V_EB;\n",
"disp(V_E2,'V_E2(V)')\n",
"I_E2=(V_CC-V_E2)/R_E2;\n",
"disp(I_E2,'I_E2 (A)')\n",
"I_C2=a*I_E2;\n",
"disp(I_C2,'I_C2 (A)')\n",
"V_C2=I_C2*R_C2;\n",
"disp(V_C2,'V_C2 (V)')\n",
"I_B2=I_E2/(B+1);\n",
"disp(I_B2,'I_B2 (A)')"
   ]
   }
,
{
		   "cell_type": "markdown",
		   "metadata": {},
		   "source": [
			"## Example 5.13: Design_of_bias_network_of_the_amplifier.sce"
		   ]
		  },
  {
"cell_type": "code",
	   "execution_count": null,
	   "metadata": {
	    "collapsed": true
	   },
	   "outputs": [],
"source": [
"// Example 5.13 : Design of bias network of the amplifier\n",
"I_E=1*10^-3; // (A)\n",
"V_CC=12; // (V)\n",
"B=100; // beta value\n",
"V_B=4; // (V)\n",
"V_BE=0.7; // (V)\n",
"R1=80; // (ohm)\n",
"R2=40; // (ohm)\n",
"V_C=8; // (V)\n",
"V_E=V_B-V_BE;\n",
"disp(V_E,'Emitter voltage (V)')\n",
"R_E=V_E/I_E;\n",
"disp(R_E,'Emitter resistance (ohm)')\n",
"I_E=(V_B-V_BE)/(R_E+(R1*R2/(R1+R2))/(B+1));\n",
"disp(I_E,'more accurate value for I_E (A) for R1=80 ohm and R2=40 ohm')\n",
"R1=8; // (ohm)\n",
"R2=4; // (ohm)\n",
"I_E=(V_B-V_BE)/(R_E+(R1*R2/(R1+R2))/(B+1));\n",
"disp(I_E,'more accurate value for I_E (A) for R1=8 ohm and R2=4 ohm')\n",
"R_C=(V_CC-V_C)/I_E; // I_E=I_C\n",
"disp(R_C,'Collector resistor (ohm)')"
   ]
   }
,
{
		   "cell_type": "markdown",
		   "metadata": {},
		   "source": [
			"## Example 5.14: Analysis_of_transistor_amplifier.sce"
		   ]
		  },
  {
"cell_type": "code",
	   "execution_count": null,
	   "metadata": {
	    "collapsed": true
	   },
	   "outputs": [],
"source": [
"// Example 5.14 : Analysis of transistor amplifier\n",
"V_CC=10; // (V)\n",
"R_C=3000; // (ohm)\n",
"R_BB=100*10^3; // (ohm)\n",
"V_BB=3; // (V)\n",
"V_BE=0.7; // (V)\n",
"V_T=25*10^-3; // (V)\n",
"I_B=(V_BB-V_BE)/R_BB;\n",
"disp(I_B,'Base current (A)')\n",
"I_C=B*I_B;\n",
"disp(I_C,'Collector current (A)')\n",
"V_C=V_CC-I_C*R_C;\n",
"disp(V_C,'Collecor voltage (V)')\n",
"I_E=B*I_C/(B+1);\n",
"r_e=V_T/I_E;\n",
"disp(r_e,'r_e (ohm)')\n",
"g_m=I_C/V_T;\n",
"disp(g_m,'g_m (mho)')\n",
"r_pi=B/g_m;\n",
"disp(r_pi,'r_pi (ohm)')\n",
"// v_i is input voltage let us assume it to be 1 V\n",
"v_i=1;\n",
"v_be=v_i*r_pi/(r_pi+R_BB)\n",
"disp(v_be,'v_be')\n",
"v_o=-g_m*R_C*v_be;\n",
"disp(v_o,'Output voltage (V)')\n",
"A_v=v_o/v_i;\n",
"disp(A_v,'Voltage gain')"
   ]
   }
,
{
		   "cell_type": "markdown",
		   "metadata": {},
		   "source": [
			"## Example 5.17: Amplifier_parameters.sce"
		   ]
		  },
  {
"cell_type": "code",
	   "execution_count": null,
	   "metadata": {
	    "collapsed": true
	   },
	   "outputs": [],
"source": [
"// Example 5.17 : Amplifier parameters\n",
"// Transistor amplifier is having a open circuit voltage of v_sig of 10mV\n",
"v_sig=10*10^-3; // (V)\n",
"R_L=10*10^3; // (ohm)\n",
"R_sig=100*10^3; // (ohm)\n",
"disp('Calculation with R_L infinite')\n",
"v_i=9; // (V)\n",
"v_o=90; // (V)\n",
"A_vo=v_o/v_i;\n",
"disp(A_vo,'A_vo (V/V)')\n",
"G_vo=v_o/A_vo;\n",
"disp(G_vo,'G_vo (V/V)')\n",
"R_i=G_vo*R_sig/(A_vo-G_vo)\n",
"disp(R_i,'R_i (ohm)')\n",
"disp('Calculations with R_L = 10k ohm')\n",
"v_o=70*10^-3; // (V)\n",
"v_i=8*10^-3; // (V)\n",
"A_v=v_o/v_i;\n",
"disp(A_v,'Voltage gain A_v (V/V)')\n",
"G_v=v_o*10^3/10;\n",
"disp(G_v,'G_v (V/V)')\n",
"R_o=(A_vo-A_v)*R_L/A_v;\n",
"disp(R_o,'R_o (ohm)')\n",
"R_out=(G_vo-G_v)*R_L/G_v;\n",
"disp(R_out,'R_out (ohm)')\n",
"R_in=v_i*R_sig/(v_sig-v_i);\n",
"disp(R_in,'R_in (ohm)')\n",
"G_m=A_vo/R_o;\n",
"disp(G_m,'G_m (A/V)')\n",
"A_i=A_v*R_in/R_L;\n",
"disp(A_i,'A_i (A/A)')\n",
"R_ino=R_sig/((1+R_sig/R_i)*(R_out/R_o)-1); // R_ino is R_in at R_L=0\n",
"disp(R_ino,'R_in at R_L =0')\n",
"A_is=A_vo*R_ino/R_o;\n",
"disp(A_is,'A_is (A/A)')"
   ]
   }
,
{
		   "cell_type": "markdown",
		   "metadata": {},
		   "source": [
			"## Example 5.18: Midband_gain_and_3dB_frequency.sce"
		   ]
		  },
  {
"cell_type": "code",
	   "execution_count": null,
	   "metadata": {
	    "collapsed": true
	   },
	   "outputs": [],
"source": [
"//Example 5.18 : Midband gain and 3dB frequency\n",
"// Transistor is biased at I_C=1mA\n",
"V_CC=10; // (V)\n",
"V_EE=10; // (V)\n",
"I=0.001; // (A)\n",
"R_B=100000; // (ohm)\n",
"R_C=8000; // (ohm)\n",
"R_sig=5000; //(ohm)\n",
"R_L=5000; // (ohm)\n",
"B=100; // beta value\n",
"V_A=100; // (V)\n",
"C_u=1*10^-12; // (F)\n",
"f_T=800*10^6; // (Hz)\n",
"I_C=0.001; // (A)\n",
"r_x=50; // (ohm)\n",
"// Values of hybrid pi model parameters\n",
"g_m=I_C/V_T;\n",
"r_pi=B/g_m;\n",
"r_o=V_A/I_C;\n",
"w_T=2*%pi*f_T;\n",
"CpiplusCu=g_m/w_T; // C_u+C_pi\n",
"C_pi=CpiplusCu-C_u;\n",
"R_l=r_o*R_C*R_L/(r_o*R_C+R_C*R_L+R_L*r_o) // R_l=R_L'\n",
"A_M=R_B*r_pi*g_m*R_l/((R_B+R_sig)*(r_pi+r_x+(R_B*R_sig/(R_B+R_sig))));\n",
"disp(A_M,'Midband gain (V/V)')\n",
"R_seff=(r_pi*(r_x+R_B*R_sig/(R_B+R_sig)))/(r_pi+r_x+R_B*R_sig/(R_B+R_sig)); // Effective source resistance R_seff=R'_sig\n",
"C_in=C_pi+C_u*(1+R_l*g_m);\n",
"f_H=1/(2*%pi*C_in*R_seff);\n",
"disp(f_H,'3dB frequency (Hz)')"
   ]
   }
,
{
		   "cell_type": "markdown",
		   "metadata": {},
		   "source": [
			"## Example 5.19: To_select_values_of_capacitance_required.sce"
		   ]
		  },
  {
"cell_type": "code",
	   "execution_count": null,
	   "metadata": {
	    "collapsed": true
	   },
	   "outputs": [],
"source": [
"// Example 5.19 : To select values of capacitance required\n",
"R_B=100000; // (ohm)\n",
"r_pi=2500; // (ohm)\n",
"R_C=8000; // (ohm)\n",
"R_L=5000; // (ohm)\n",
"R_sig=5000; // (ohm)\n",
"B=100; // beta value\n",
"g_m=0.04; // (A/V)\n",
"r_pi=2500; //(ohm)\n",
"f_L=100; // (Hz)\n",
"r_e=25; // (ohm)\n",
"R_C1=R_B*r_pi/(R_B+r_pi)+R_sig; // Resistance seen by C_C1 \n",
"R_E=r_e+R_B*R_sig/((R_B+R_sig)*(B+1)); // Resistance seen by C_E\n",
"R_C2=R_C+R_L;// Resistance seen by C_C2\n",
"w_L=2*%pi*f_L;\n",
"C_E=1/(R_E*0.8*w_L); //C_E is to contribute only 80% of the value of w_L\n",
"disp(C_E,'C_E (F)') \n",
"C_C1=1/(R_C1*0.1*w_L); //C_C1 is to contribute only 10% of the value of f_L\n",
"disp(C_C1,'C_C1 (F)')\n",
"C_C2=1/(R_C2*0.1*w_L); //C_C2 should contribute only 10% of the value of f_L\n",
"disp(C_C2,'C_C2 (F)')"
   ]
   }
,
{
		   "cell_type": "markdown",
		   "metadata": {},
		   "source": [
			"## Example 5.1: Design_of_given_circuit_with_current_2mA.sce"
		   ]
		  },
  {
"cell_type": "code",
	   "execution_count": null,
	   "metadata": {
	    "collapsed": true
	   },
	   "outputs": [],
"source": [
"// Example 5.1 : Design of given circuit with current 2mA\n",
"// BJT will be operating in active mode\n",
"B=100; // B is beta value\n",
"a=B/(B+1); // a is alpha value\n",
"v_BE=0.7; // v_BE (V) at i_C=1mA\n",
"i_C=1*10^-3:1*10^-3:2*10^-3; // (A)\n",
"I_C=2*10^-3; // (A)\n",
"V_T=25*10^-3; // (V)\n",
"V_C=5; // (V)\n",
"V_CC=15; // (V)\n",
"V_B=0; // (V)\n",
"V_RC=V_CC-V_C;// V_RC is the voltage drop across resistor R_C\n",
"R_C=V_RC/I_C;\n",
"disp(R_C,'Collector Resistance R_C (ohm)')\n",
"V_BE=v_BE+V_T*log(i_C(2)/i_C(1));\n",
"disp(V_BE,'Base emitter voltage V_BE (V) at i_C=2mA')\n",
"V_E=V_B-V_BE;\n",
"disp(V_E,'Emitter voltage V_E (V)')\n",
"I_E=I_C/a;\n",
"disp(I_E,'Emitter current I_E (A)')\n",
"R_E=(V_E-(-V_CC))/I_E;\n",
"disp(R_E,'Emitter resistance R_C (ohm)')"
   ]
   }
,
{
		   "cell_type": "markdown",
		   "metadata": {},
		   "source": [
			"## Example 5.2: Consider_a_common_Emitter_circuit.sce"
		   ]
		  },
  {
"cell_type": "code",
	   "execution_count": null,
	   "metadata": {
	    "collapsed": true
	   },
	   "outputs": [],
"source": [
"// Example 5.2 : Consider a common Emitter circuit\n",
"I_S=10^-15; // (A)\n",
"R_C=6.8*10^3; // (ohm)\n",
"V_CC=10; // (V)\n",
"V_CE=3.2; // (V)\n",
"V_T=25*10^-3; // (V)\n",
"\n",
"// 5.2a\n",
"I_C=(V_CC-V_CE)/R_C;\n",
"disp(I_C,'Collector current (A)')\n",
"V_BE=V_T*log(I_C/I_S);\n",
"disp(V_BE,'V_BE (V)')\n",
"\n",
"// 5.2b\n",
"V_in=5*10^-3; // sinuosoidal input 0f peak amplitide 5mv\n",
"A_v=-(V_CC-V_CE)/V_T;\n",
"disp(A_v,'Voltage gain')\n",
"V_o=-A_v*V_in; // negative sign to make positive value of voltage gain\n",
"disp(V_o,'Amplitude of output voltage (V)')\n",
"\n",
"// 5.2c\n",
"v_CE=0.3// (V)\n",
"i_C=(V_CC-v_CE)/R_C;\n",
"disp(i_C,'i_C (A)')\n",
"v_be=V_T*log(i_C/I_C); // v_BE is positive increment in v_BE\n",
"disp(v_be,'required increment (V)')\n",
"\n",
"// 5.2d\n",
"v_O=0.99*V_CC;\n",
"R_C=6.8*10^3; // (ohm)\n",
"i_C=(V_CC-v_O)/R_C;\n",
"I_C=1*10^-3; // (A)\n",
"disp(i_C,'i_C (A)')\n",
"v_be=V_T*log(i_C/I_C);\n",
"disp(v_be,'negative increment in v_BE (V)')"
   ]
   }
,
{
		   "cell_type": "markdown",
		   "metadata": {},
		   "source": [
			"## Example 5.3: Determine_RB.sce"
		   ]
		  },
  {
"cell_type": "code",
	   "execution_count": null,
	   "metadata": {
	    "collapsed": true
	   },
	   "outputs": [],
"source": [
"// Example 5.3 :Determine R_B \n",
"// transistor is specified to have B value in the range of 50 to 150\n",
"V_C=0.2; // V_C=V_CEsat\n",
"V_CC=10; // (V)\n",
"R_C=10^3; // (ohm)\n",
"V_BB=5; // (V)\n",
"V_BE=0.7; // (V)\n",
"bmin=50; // range of bete is 50 to 150\n",
"I_Csat=(V_CC-V_C)/R_C;\n",
"I_BEOS=I_Csat/bmin; // I_B(EOS)=I_BEOS\n",
"I_B=10*I_BEOS; // base current for an overdrive factor 10\n",
"R_B=(V_BB-V_BE)/I_B;\n",
"disp(R_B,'Value of R_B (ohm)')"
   ]
   }
,
{
		   "cell_type": "markdown",
		   "metadata": {},
		   "source": [
			"## Example 5.4: Analyse_the_circuit_to_find_node_voltages_and_bran.sce"
		   ]
		  },
  {
"cell_type": "code",
	   "execution_count": null,
	   "metadata": {
	    "collapsed": true
	   },
	   "outputs": [],
"source": [
"// Example 5.4 : Analyse the circuit to find node voltages and branch currents\n",
"V_BB= 4; // (V)\n",
"V_CC=10; // (V)\n",
"V_BE=0.7; // (V)\n",
"b=100; // beta = 100\n",
"R_E=3.3*10^3; // (ohm)\n",
"R_C=4.7*10^3; // (ohm)\n",
"V_E=V_BB-V_BE;\n",
"disp(V_E,'Emitter voltage (V)')\n",
"I_E=(V_E-0)/R_E;\n",
"disp(I_E,'Emitter current (A)')\n",
"a=b/(b+1) // alpha value\n",
"I_C=I_E*a;\n",
"disp(I_C,'Collector current (A)')\n",
"V_C=V_CC-I_C*R_C; // Applying ohm's law \n",
"disp(V_C,'Collector voltage (V)')\n",
"I_B=I_E/(b+1);\n",
"disp(I_B,'Base current (A)')"
   ]
   }
,
{
		   "cell_type": "markdown",
		   "metadata": {},
		   "source": [
			"## Example 5.5: Analyse_the_circuit_to_find_node_voltages_and_bran.sce"
		   ]
		  },
  {
"cell_type": "code",
	   "execution_count": null,
	   "metadata": {
	    "collapsed": true
	   },
	   "outputs": [],
"source": [
"// Example 5.5 : Analyse the circuit to find node voltages and branch currents\n",
"disp('Assuming active mode operation')\n",
"V_CC=10; // (V)\n",
"R_C=4.7*10^3; // (V)\n",
"R_E=3.3*10^3; // (ohm)\n",
"V_BE=0.7; // (V)\n",
"V_BB=6; // (V)\n",
"V_CEsat=0.2; // (V)\n",
"V_E=V_BB-V_BE; \n",
"disp(V_E,'Emitter voltage (V)')\n",
"I_E=V_E/R_E;\n",
"disp(I_E,'Emitter current (A)')\n",
"V_C=V_CC-I_E*R_C; // I_E=I_C\n",
"disp(V_C,'Collector voltage (V)')\n",
"disp('Since V_C < V_B our assumption is wrong\n Hence its saturation mode operation')\n",
"V_E=V_BB-V_BE;\n",
"disp(V_E,'Emitter voltage (V)')\n",
"I_E=V_E/R_E;\n",
"disp(I_E,'Emitter current (A)')\n",
"V_C=V_E+V_CEsat;\n",
"disp(V_C,'Collector voltage (V)')\n",
"I_C=(V_CC-V_C)/R_C;\n",
"disp(I_C,'Collector current (A)')\n",
"I_B=I_E-I_C;\n",
"disp(I_B,'Base current (A)')\n",
"Bforced=I_C/I_B; // transistor is made to operate at a forced beta value\n",
"disp(Bforced,'forced beta')"
   ]
   }
,
{
		   "cell_type": "markdown",
		   "metadata": {},
		   "source": [
			"## Example 5.7: Analyse_the_circuit_to_find_node_voltages_and_bran.sce"
		   ]
		  },
  {
"cell_type": "code",
	   "execution_count": null,
	   "metadata": {
	    "collapsed": true
	   },
	   "outputs": [],
"source": [
"// Example 5.7: Analyse the circuit to find node voltages and branch currents\n",
"V_CC=-10; // (V)\n",
"R_E=2000; // (ohm)\n",
"R_C=1000; // (ohm)\n",
"V_EE=10; // (V)\n",
"V_E=0.7; // (V) emitter base junction will be forward biased with V_E=V_EB=0.7V\n",
"disp(V_E,'Emitter base junction is forward biased with V_E (V)')\n",
"I_E=(V_EE-V_E)/R_E;\n",
"disp(I_E,'Emitter current (A)')\n",
"B=100; // Assuming beta 100\n",
"a=B/(B+1);\n",
"I_C=a*I_E; // Assuming the transistor to operate in active mode\n",
"disp(I_C,'Collector current (A)')\n",
"V_C=V_CC+I_C*R_C;\n",
"disp(V_C,'Collector voltage (V)')\n",
"I_B=I_E/(B+1);\n",
"disp(I_B,'Base current (A)')"
   ]
   }
,
{
		   "cell_type": "markdown",
		   "metadata": {},
		   "source": [
			"## Example 5.8: Analyse_the_circuit_to_find_node_voltages_and_bran.sce"
		   ]
		  },
  {
"cell_type": "code",
	   "execution_count": null,
	   "metadata": {
	    "collapsed": true
	   },
	   "outputs": [],
"source": [
"// Example 5.8 : Analyse the circuit to find node voltages and branch currents\n",
"V_CC= 10; // (V)\n",
"R_C=2000; // (ohm)\n",
"V_BB=5; // (V)\n",
"R_B=100*10^3; // (ohm)\n",
"B=100; // beta value\n",
"I_B=(V_BB-V_BE)/R_B;\n",
"disp(I_B,'Base current (A)')\n",
"I_C=B*I_B;\n",
"disp(I_C,'Collector current (A)')\n",
"V_C=V_CC-I_C*R_C;\n",
"disp(V_C,'Collector voltage (V)')\n",
"V_B=0.7 ; // V_B=V_BE\n",
"disp(V_B,'Base voltage (V)')\n",
"I_E=(B+1)*I_B;\n",
"disp(I_E,'Emitter current (A)')"
   ]
   }
,
{
		   "cell_type": "markdown",
		   "metadata": {},
		   "source": [
			"## Example 5.9: Analyse_the_circuit_to_find_node_voltages_and_bran.sce"
		   ]
		  },
  {
"cell_type": "code",
	   "execution_count": null,
	   "metadata": {
	    "collapsed": true
	   },
	   "outputs": [],
"source": [
"// Example 5.9 :Analyse the circuit to find node voltages and branch currents\n",
"// assuming that the transistor is saturated \n",
"V_CC=-5; // (V)\n",
"V_EE=5; // (V)\n",
"R_B=10000; // (ohm)\n",
"R_C=10000; // (ohm)\n",
"R_E=1000; // (ohm)\n",
"V_EB=0.7; // (V)\n",
"V_ECsat=0.2; // (V)\n",
"// using the relation I_E=I_C+I_B\n",
"V_B=3.75/1.2; //(V)\n",
"disp(V_B,'Base voltage (V)')\n",
"V_E=V_B+V_EB;\n",
"disp(V_E,'Emitter voltage (V)')\n",
"V_C=V_E-V_ECsat;\n",
"disp(V_C,'Collector voltage (V)')\n",
"I_E=(V_EE-V_E)/R_E;\n",
"disp(I_E,'Emitter current (A)')\n",
"I_B=V_B/R_B;\n",
"disp(I_B,'Base current (A)')\n",
"I_C=(V_C-V_CC)/R_C;\n",
"disp(I_C,'Collector current (A)')\n",
"Bforced=I_C/I_B; // Value of forced beta\n",
"disp(Bforced, 'Forced Beta value')"
   ]
   }
],
"metadata": {
		  "kernelspec": {
		   "display_name": "Scilab",
		   "language": "scilab",
		   "name": "scilab"
		  },
		  "language_info": {
		   "file_extension": ".sce",
		   "help_links": [
			{
			 "text": "MetaKernel Magics",
			 "url": "https://github.com/calysto/metakernel/blob/master/metakernel/magics/README.md"
			}
		   ],
		   "mimetype": "text/x-octave",
		   "name": "scilab",
		   "version": "0.7.1"
		  }
		 },
		 "nbformat": 4,
		 "nbformat_minor": 0
}
