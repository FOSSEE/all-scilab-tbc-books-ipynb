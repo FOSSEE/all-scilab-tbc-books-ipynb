{
"cells": [
 {
		   "cell_type": "markdown",
	   "metadata": {},
	   "source": [
       "# Chapter 12: Filters and tuned amplifiers"
	   ]
	},
{
		   "cell_type": "markdown",
		   "metadata": {},
		   "source": [
			"## Example 12.4: To_design_tuned_amplifier.sce"
		   ]
		  },
  {
"cell_type": "code",
	   "execution_count": null,
	   "metadata": {
	    "collapsed": true
	   },
	   "outputs": [],
"source": [
"// Example 12.4 To design tuned amplifier\n",
"\n",
"cfg=-10; // Center frequency gain (V/V)\n",
"g_m=0.005; // (A/V)\n",
"r_o=10000; // (ohm)\n",
"f_o=1*10^6; // (Hz)\n",
"B=2*%pi*10^4; // Bandwidth\n",
"R=-cfg/g_m;\n",
"R_L=R*r_o/(r_o-R);\n",
"disp(R_L,'R_L (ohm)')\n",
"C=1/(R*B)\n",
"disp(C,'C (F)')\n",
"w_o=2*%pi*f_o;\n",
"L=1/(w_o^2*C);\n",
"disp(L,'L (H)')"
   ]
   }
],
"metadata": {
		  "kernelspec": {
		   "display_name": "Scilab",
		   "language": "scilab",
		   "name": "scilab"
		  },
		  "language_info": {
		   "file_extension": ".sce",
		   "help_links": [
			{
			 "text": "MetaKernel Magics",
			 "url": "https://github.com/calysto/metakernel/blob/master/metakernel/magics/README.md"
			}
		   ],
		   "mimetype": "text/x-octave",
		   "name": "scilab",
		   "version": "0.7.1"
		  }
		 },
		 "nbformat": 4,
		 "nbformat_minor": 0
}
