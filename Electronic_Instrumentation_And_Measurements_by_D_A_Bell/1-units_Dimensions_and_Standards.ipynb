{
"cells": [
 {
		   "cell_type": "markdown",
	   "metadata": {},
	   "source": [
       "# Chapter 1: units Dimensions and Standards"
	   ]
	},
{
		   "cell_type": "markdown",
		   "metadata": {},
		   "source": [
			"## Example 1.1: Flux_density.sce"
		   ]
		  },
  {
"cell_type": "code",
	   "execution_count": null,
	   "metadata": {
	    "collapsed": true
	   },
	   "outputs": [],
"source": [
"// Example 1-1 in page 8\n",
"// Given data\n",
"clc;\n",
"phi=500*10^-8;// one maxwell=10^-8 Wb, phi=total flux\n",
"Area=(2.54*10^-2)^2;// area in m^2, cross section is one inch and 1inch=2.54cm\n",
"// Calculation\n",
"B=phi/Area; //flux density(B) in tesla\n",
"printf('total flux density=%.2f mT',B*1000);\n",
"// Result\n",
"// the toatal flux density is 7.75 mT"
   ]
   }
,
{
		   "cell_type": "markdown",
		   "metadata": {},
		   "source": [
			"## Example 1.2: temparature_conversion.sce"
		   ]
		  },
  {
"cell_type": "code",
	   "execution_count": null,
	   "metadata": {
	    "collapsed": true
	   },
	   "outputs": [],
"source": [
"//example 1-2 in page 8\n",
"clc;\n",
"//given data\n",
"body_temp=98.6;//human body temperature is 98.6 degree fahrenheit\n",
"//calculations\n",
"cel_temp=(body_temp-32)/1.8;//temperature in celsius\n",
"kel_temp=cel_temp+273.15;// temperature in kelvin\n",
"printf('celsius temperature=%.0f degree celsius \n',cel_temp);\n",
"printf('kelvin temperature=%.2f K',kel_temp);\n",
"//result\n",
"//the celsius temperature=37 degree celsius\n",
"//the kelvin temperature=310.15 K"
   ]
   }
],
"metadata": {
		  "kernelspec": {
		   "display_name": "Scilab",
		   "language": "scilab",
		   "name": "scilab"
		  },
		  "language_info": {
		   "file_extension": ".sce",
		   "help_links": [
			{
			 "text": "MetaKernel Magics",
			 "url": "https://github.com/calysto/metakernel/blob/master/metakernel/magics/README.md"
			}
		   ],
		   "mimetype": "text/x-octave",
		   "name": "scilab",
		   "version": "0.7.1"
		  }
		 },
		 "nbformat": 4,
		 "nbformat_minor": 0
}
