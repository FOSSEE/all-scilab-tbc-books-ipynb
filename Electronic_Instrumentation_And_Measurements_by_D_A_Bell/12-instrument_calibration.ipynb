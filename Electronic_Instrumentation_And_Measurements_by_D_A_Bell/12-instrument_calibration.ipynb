{
"cells": [
 {
		   "cell_type": "markdown",
	   "metadata": {},
	   "source": [
       "# Chapter 12: instrument calibration"
	   ]
	},
{
		   "cell_type": "markdown",
		   "metadata": {},
		   "source": [
			"## Example 12.1: accuracy.sce"
		   ]
		  },
  {
"cell_type": "code",
	   "execution_count": null,
	   "metadata": {
	    "collapsed": true
	   },
	   "outputs": [],
"source": [
"//to find the accuracy as a percentage of reading and percentage of full scale\n",
"// example 12-1 in page 355\n",
"clc;\n",
"// Data given\n",
"r=[10 50];//scale readings\n",
"c=[-0.5 1.7];// respective correction\n",
"f=100;//full scale reading\n",
"//calculation\n",
"for n=1:2\n",
"    pr=c(n)*100/r(n);// accuracy as a percentage of reading\n",
"    pf=c(n)*100/f;//accuracy as a percentage of full scale\n",
"    printf('accuracy as a percentage of reading for scale reading %d= %.1f percent\n',r(n),pr);\n",
"    printf('accuracy as a percentage of full scale= %.1f percent\n',pf);\n",
"end\n",
"//result\n",
"//accuracy as a percentage of reading for scale reading 10= -5.0\n",
"//accuracy as a percentage of full scale= -0.5\n",
"//accuracy as a percentage of reading for scale reading 50= 3.4\n",
"//accuracy as a percentage of full scale= 1.7"
   ]
   }
,
{
		   "cell_type": "markdown",
		   "metadata": {},
		   "source": [
			"## Example 12.2: error_and_correction_figure.sce"
		   ]
		  },
  {
"cell_type": "code",
	   "execution_count": null,
	   "metadata": {
	    "collapsed": true
	   },
	   "outputs": [],
"source": [
"// to find the wattmeter error and the correction figure\n",
"// example 12-2 in page 357\n",
"clc;\n",
"//Data given\n",
"V=114;// measured voltage in volt\n",
"P=120;// indicated power in watt\n",
"I=1;// current in ampere\n",
"//calculation\n",
"cf=V*I-P;// here power = v*i, capacitance in farad\n",
"e=cf*100/P;//percentage error\n",
"printf('correction figure=%d W\n',cf);\n",
"printf('wattmeter error=%d percent',e);\n",
"//result\n",
"//correction figure=-6 W\n",
"//wattmeter error=-5 percent "
   ]
   }
,
{
		   "cell_type": "markdown",
		   "metadata": {},
		   "source": [
			"## Example 12.4: resistance_voltage_and_current.sce"
		   ]
		  },
  {
"cell_type": "code",
	   "execution_count": null,
	   "metadata": {
	    "collapsed": true
	   },
	   "outputs": [],
"source": [
"// to find the resistance.,voltage and current in fig 12-8\n",
"//examole 12-4 in page364\n",
"clc;\n",
"// Data given\n",
"V=1.0190;// the standard cell voltage in volt, VBC=VB2=V\n",
"VB1=3;// terminal voltage of battery B1 in volt\n",
"RAB=100; l=100D-2;  //resistance in ohm and length in meter of the wire AB\n",
"lBC=50.95D-2;//length of BC in meter\n",
"//calculation\n",
"printf('At calibiration,\n');\n",
"VAB=l*V/lBC;// voltage accross AB in volt where V/lBC is the volatge per unit length\n",
"I=VAB/RAB;// current in ampere\n",
"printf('current through AB=%d mA\n',I*1000);\n",
"R1=(VB1-VAB)/I;// resistance in ohm\n",
"printf('Resistance R1=%d ohm\n\n',R1);// R=V/I ohm\n",
"printf('Vx=%.2f V\n',94D-2*V/lBC);//volatge Vx in volt when null is obtained at 94.3cm\n",
"printf('\nR2=%d K-ohm',(VB1+V)/(20D-6*1000));// R2 in ohm to limit the standard cell current to a maximum of 20 micro-A\n",
"//result\n",
"//At calibiration,\n",
"//current through AB=20 mA\n",
"//Resistance R1=50\n",
"//Vx=1.88 V\n",
"//R2=200 K-ohm "
   ]
   }
,
{
		   "cell_type": "markdown",
		   "metadata": {},
		   "source": [
			"## Example 12.5: maximum_voltage_and_instrument_resolution.sce"
		   ]
		  },
  {
"cell_type": "code",
	   "execution_count": null,
	   "metadata": {
	    "collapsed": true
	   },
	   "outputs": [],
"source": [
"// to find the maximum measurable voltage and the instrument resolution\n",
"// example 12-5 in page 367\n",
"clc;\n",
"// Data given\n",
"V=1.0190;// Standard cell voltage V=VR3=VB2 in volt\n",
"R13=100; R3=509.5; R4=290.5;// R13 is the slider resistance and resistance R3 and R4 all in ohm\n",
"R=100;// resistances R6 through R12 in ohm\n",
"l=100D-2;// length of the sliding wire in meter\n",
"// claculaion\n",
"VAE=(V/R3)*(R3+R4);// maximum measurable voltage in volt where I1=V/R3\n",
"printf('Maximum measurable voltage=%.1f V\n',VAE);\n",
"I2=VAE/(8*R);//current I2 in ampere\n",
"VAB=I2*R13;//voltage across R13 in volt\n",
"Vpl=VAB/l;// slide wire voltage per unit length in volt/meter\n",
"printf('instrument resolution=(+/-)%.1f mV',Vpl)\n",
"//result\n",
"//Maximum measurable voltage=1.6 V\n",
"//instrument resolution=(+/-)0.2 mV "
   ]
   }
],
"metadata": {
		  "kernelspec": {
		   "display_name": "Scilab",
		   "language": "scilab",
		   "name": "scilab"
		  },
		  "language_info": {
		   "file_extension": ".sce",
		   "help_links": [
			{
			 "text": "MetaKernel Magics",
			 "url": "https://github.com/calysto/metakernel/blob/master/metakernel/magics/README.md"
			}
		   ],
		   "mimetype": "text/x-octave",
		   "name": "scilab",
		   "version": "0.7.1"
		  }
		 },
		 "nbformat": 4,
		 "nbformat_minor": 0
}
