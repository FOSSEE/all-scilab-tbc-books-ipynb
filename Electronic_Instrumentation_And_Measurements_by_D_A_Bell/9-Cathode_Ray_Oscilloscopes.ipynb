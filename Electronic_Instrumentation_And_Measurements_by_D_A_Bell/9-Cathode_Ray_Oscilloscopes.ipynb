{
"cells": [
 {
		   "cell_type": "markdown",
	   "metadata": {},
	   "source": [
       "# Chapter 9: Cathode Ray Oscilloscopes"
	   ]
	},
{
		   "cell_type": "markdown",
		   "metadata": {},
		   "source": [
			"## Example 9.10: find_the_frequency.sce"
		   ]
		  },
  {
"cell_type": "code",
	   "execution_count": null,
	   "metadata": {
	    "collapsed": true
	   },
	   "outputs": [],
"source": [
"// to find the frequency\n",
"// example 9-10 in page 268\n",
"clc;\n",
"// data given\n",
"C=13D-12; Rs=600; // input capacitance in farad and source resistance in ohm\n",
"//calculation\n",
"printf('frequency=%.1f MHz',1/(2*%pi*C*Rs*10^6));\n",
"//result\n",
"//frequency=20.4 MHz "
   ]
   }
,
{
		   "cell_type": "markdown",
		   "metadata": {},
		   "source": [
			"## Example 9.11: find_the_frequency.sce"
		   ]
		  },
  {
"cell_type": "code",
	   "execution_count": null,
	   "metadata": {
	    "collapsed": true
	   },
	   "outputs": [],
"source": [
"// to determine the frequency\n",
"// example 9-11 in page 269\n",
"clc;\n",
"// Data Given\n",
"C=3.5D-12; Rs=600; // capacitance in farad and source resistance in ohm\n",
"//calculation\n",
"printf('frequency=%.1f MHz',1/(2*%pi*C*Rs*10^6));\n",
"//result\n",
"//frequency=75.8 MHz "
   ]
   }
,
{
		   "cell_type": "markdown",
		   "metadata": {},
		   "source": [
			"## Example 9.12: minimum_time_per_sensitivity.sce"
		   ]
		  },
  {
"cell_type": "code",
	   "execution_count": null,
	   "metadata": {
	    "collapsed": true
	   },
	   "outputs": [],
"source": [
"// to find the minimum time/division sensitivity\n",
"// example 9-12 in page 278\n",
"clc;\n",
"//Data Given\n",
"f=50e+6;// frequency of the waveform in hertz\n",
"//calculation\n",
"T=1/f;//time period in seconds\n",
"printf('using the five times magnifier,\n');\n",
"printf('minimum time/div setting=%d ns/div',5*(T/4)*10^9);// here one cycle occupies 4 horizontal divisions\n",
"//result\n",
"//using the five times magnifier,\n",
"//minimum time/div setting=25 ns/div "
   ]
   }
,
{
		   "cell_type": "markdown",
		   "metadata": {},
		   "source": [
			"## Example 9.13: raise_time.sce"
		   ]
		  },
  {
"cell_type": "code",
	   "execution_count": null,
	   "metadata": {
	    "collapsed": true
	   },
	   "outputs": [],
"source": [
"// to determine the raise time  displayed waveform\n",
"// example9-13 in page 279\n",
"clc;\n",
"// Data given\n",
"fH=[20e+6 50e+6];// upper cut-off frequency in hertz\n",
"tri=21D-9;// input raise time in seconds\n",
"// calculation\n",
"for n=1:2\n",
"    tro=0.35/fH(n);// tro is the raise time in seconds\n",
"    trd=sqrt(tri^2+tro^2);// trd is the fall time in seconds\n",
"    printf('for fH=%d MHz,\ntrd=%d ns\n',fH(n)/10^6,trd*10^9);\n",
"end\n",
"//result\n",
"//for fH=20 MHz,\n",
"//trd=27 ns\n",
"//for fH=50 MHz,\n",
"//trd=22 ns"
   ]
   }
,
{
		   "cell_type": "markdown",
		   "metadata": {},
		   "source": [
			"## Example 9.2: peak_to_peak_voltage_and_time_period.sce"
		   ]
		  },
  {
"cell_type": "code",
	   "execution_count": null,
	   "metadata": {
	    "collapsed": true
	   },
	   "outputs": [],
"source": [
"// to find the peak to peak voltage and the time period for the sweep generator circuit in fig 9-7\n",
"// example 9-2 in page 243\n",
"clc;\n",
"// Given Data\n",
"R3=4.2e+3; C1=0.25D-6; Vb1=4.9; Vbe=0.7;//resistance in ohm, capacitance in farad and voltages in volt respectively \n",
"UL=2;// UTP,LTP=(+/-)2 V\n",
"//Calculation\n",
"dV=2*UL;//peak-peak voltage in volt\n",
"Ic1=(Vb1-Vbe)/R3;//current in ampere\n",
"T=dV*C1/Ic1;// time period in seconds\n",
"printf('peak-peak voltage=%d V p-to-p\n',dV);\n",
"printf('time period=%d ms',T*1000);\n",
"//result\n",
"//peak-peak voltage=4 V p-to-p\n",
"//time period=1 ms\n",
"x=linspace(0,1,100);\n",
"y=4*x-2;\n",
"plot(x,y);\n",
"xlabel('Time period in ms');\n",
"ylabel('voltage in V');\n",
"set(gca(),'grid',[1 1]);"
   ]
   }
,
{
		   "cell_type": "markdown",
		   "metadata": {},
		   "source": [
			"## Example 9.3: amplitude_freuency_and_phase_difference.sce"
		   ]
		  },
  {
"cell_type": "code",
	   "execution_count": null,
	   "metadata": {
	    "collapsed": true
	   },
	   "outputs": [],
"source": [
"// to find the amplitude,frequency and the phase difference b/w two waveforms in the figure 9-20\n",
"// example 9-3 in page 256\n",
"clc;\n",
"//Data Given\n",
"x=['A' 'B'];\n",
"V=200D-3;// volatge/division=200mV\n",
"T=0.1D-3;//time/division=0.1ms\n",
"one_cycle=360;// one cycle=360 degree\n",
"Vd=[6 2.4];// vertical divisions of A and B respectively\n",
"Hd=[6 7];// horizontal divisions of A and B respectively\n",
"//calculation\n",
"for n=1:2\n",
"    Vp=Vd(n)*V;// V peak-to-peak\n",
"    Tp=T*Hd(n);// time period\n",
"    f=1/Tp;//frequency\n",
"    printf('V peak-peak of wave from %c=%.2f V\n',x(n),Vp);\n",
"    printf('frequency of wave form %c=%.0f Hz\n',x(n),f);\n",
"end\n",
"phase_diff=Hd(2)-Hd(1);\n",
"phase_diff=one_cycle*phase_diff/6;// here one cycle makes 6 horizontal divisions\n",
"printf('phase difference=%d degree',phase_diff);\n",
"//result\n",
"//V peak-peak of wave from A=1.20 V\n",
"//frequency of wave form A=1667 Hz\n",
"//V peak-peak of wave from B=0.48 V\n",
"//frequency of wave form B=1429 Hz\n",
"//phase difference=60 degree "
   ]
   }
,
{
		   "cell_type": "markdown",
		   "metadata": {},
		   "source": [
			"## Example 9.4: pulse_amplitude_frequency_raise_and_fall_time.sce"
		   ]
		  },
  {
"cell_type": "code",
	   "execution_count": null,
	   "metadata": {
	    "collapsed": true
	   },
	   "outputs": [],
"source": [
"// to find the pulse amplitude,frequency,rise time and fall time of fig9-22\n",
"// example 9-3 in page 259\n",
"clc;\n",
"// Data given\n",
"Vpd=2; // voltage/division=2 V\n",
"Hpd=5D-6;// time/division=5 micro seconds per division\n",
"Vd=4;// number of vertical divisions\n",
"Hd=5.6// number of horizontal divisions\n",
"// calculation\n",
"printf('Pulse amplitude=%d V\n',Vd*Vpd);\n",
"printf('frequency=%.1f kHz\n',(1/(Hd*Hpd))/10^3);\n",
"printf('raise time=%.1f micro-s\nfall time=%d micro-s',0.5*Hpd*10^6,10^6*0.6*Hpd);\n",
"//result\n",
"//Pulse amplitude=8 V\n",
"//frequency=35.7 kHz\n",
"//raise time=2.5 micro-s\n",
"//fall time=3.0 micro-s "
   ]
   }
,
{
		   "cell_type": "markdown",
		   "metadata": {},
		   "source": [
			"## Example 9.5: longest_pulse_width.sce"
		   ]
		  },
  {
"cell_type": "code",
	   "execution_count": null,
	   "metadata": {
	    "collapsed": true
	   },
	   "outputs": [],
"source": [
"// to find the longest pulse width\n",
"// example 9-5 in page 261\n",
"clc;\n",
"//Given data\n",
"Ri=10e+6;// input resistance in ohm\n",
"Cc=0.1e-6;// coaxial cable capacitance in farad\n",
"//calculation\n",
"printf('pulse width=%.1f s',Ri*Cc/10);// here pulse width=tou/10 seconds\n",
"//result\n",
"//pulse width=0.1 s "
   ]
   }
,
{
		   "cell_type": "markdown",
		   "metadata": {},
		   "source": [
			"## Example 9.6: shortest_pulse_width.sce"
		   ]
		  },
  {
"cell_type": "code",
	   "execution_count": null,
	   "metadata": {
	    "collapsed": true
	   },
	   "outputs": [],
"source": [
"// to find the shortest pulse width that can be displayed\n",
"// example 9-6 in page 262\n",
"clc;\n",
"//DATA GIVEN\n",
"Rs=3.3e+3; Ci=15D-12;// source resistance in ohm and input capacitance in farad\n",
"//calculation\n",
"printf('shortest pulse width=%.3f micro-second',10*Rs*Ci*2.2*10^6);//here shortest pulse width =10*tuo in seconds where tuo is the rise time imposed by the oscilloscope\n",
"//result\n",
"//shortest pulse width=1.089 micro-second "
   ]
   }
,
{
		   "cell_type": "markdown",
		   "metadata": {},
		   "source": [
			"## Example 9.7: raise_time.sce"
		   ]
		  },
  {
"cell_type": "code",
	   "execution_count": null,
	   "metadata": {
	    "collapsed": true
	   },
	   "outputs": [],
"source": [
"//to find the raise time of the displayed waveform\n",
"// example 9-7 in page 262\n",
"clc;\n",
"//Data given\n",
"Rs=3.3e+3; Ci=15D-12;//source resistance in ohm and input capacitance in farad\n",
"tri=[109e-9 327e-9];//input raise times in seconds for which trd is to be determined\n",
"//calculations\n",
"tuo=2.2*Rs*Ci;//tuo is the rise time in seconds imposed by the ossciloscope\n",
"for n=1:2\n",
"    trd=sqrt(tri(n)^2+tuo^2); // displayed raise time in seconds\n",
"    printf('the displayed raise time for input pulse raise time %d ns=%d ns\n',tri(n)*10^9,trd*10^9);\n",
"end\n",
"//result\n",
"//the displayed raise time for input pulse raise time 109 ns=154 ns\n",
"//the displayed raise time for input pulse raise time 327 ns=344 ns"
   ]
   }
,
{
		   "cell_type": "markdown",
		   "metadata": {},
		   "source": [
			"## Example 9.8: terminal_oscilloscope_voltage_and_frequency.sce"
		   ]
		  },
  {
"cell_type": "code",
	   "execution_count": null,
	   "metadata": {
	    "collapsed": true
	   },
	   "outputs": [],
"source": [
"//to find the terminal oscilloscope voltage and its frequency\n",
"// exmaple 9-8 in page 264\n",
"clc;\n",
"//Data given\n",
"Vs=1; //supply voltage in volt\n",
"Rs=600;//source resistance in ohm\n",
"Ri=1e+6;//input resistance in ohm \n",
"Ci=30D-12;//input parallel capacitance in farad\n",
"Ccc=100D-12;//coaxial cable capacitance in farad\n",
"f=100;// signal frequency in hertz\n",
"//calculation\n",
"Vi=Vs*Ri/(Rs+Ri);// input voltage in volts\n",
"Xc=1/(2*%pi*f*(Ci+Ccc));//capacitive reactance in ohm for total capacitance \n",
"printf('the input terminal voltage at 100 Hz =%.4f V\n',Vi);\n",
"printf('when Vi=(Vs-3 dB),\n');\n",
"f=1/(2*%pi*(Ci+Ccc)*Rs);// frequency in hertz\n",
"printf('frequency=%.2f MHz',f/10^6);\n",
"//result\n",
"//the input terminal voltage at 100 Hz =0.9994 V\n",
"//when Vi=(Vs-3 dB),\n",
"//frequency=2.04 MHz "
   ]
   }
,
{
		   "cell_type": "markdown",
		   "metadata": {},
		   "source": [
			"## Example 9.9: find_the_capacitance.sce"
		   ]
		  },
  {
"cell_type": "code",
	   "execution_count": null,
	   "metadata": {
	    "collapsed": true
	   },
	   "outputs": [],
"source": [
"// to find the capacitance to compensate a probe and input capacitance\n",
"//example 9-9 in page 267\n",
"clc;\n",
"//data given\n",
"Ci=30D-12;// input capacitance in farad\n",
"Ccc=100D-12;// coaxial cable capacitance in farad\n",
"R1=9e+6; Ri=1e+6;// resistances in ohm\n",
"//calculation\n",
"C2=Ccc+Ci;// capacitance in farad\n",
"C1=C2*Ri/R1;// capacitance in farad\n",
"printf('C1=%.1f pF\n',C1*10^12);\n",
"printf('The probe input capacitance as seen from the source=%d pF',(C1*C2)*10^12/(C1+C2))\n",
"//result\n",
"//C1=14.4 pF\n",
"//The probe input capacitance as seen from the source=13 pF "
   ]
   }
],
"metadata": {
		  "kernelspec": {
		   "display_name": "Scilab",
		   "language": "scilab",
		   "name": "scilab"
		  },
		  "language_info": {
		   "file_extension": ".sce",
		   "help_links": [
			{
			 "text": "MetaKernel Magics",
			 "url": "https://github.com/calysto/metakernel/blob/master/metakernel/magics/README.md"
			}
		   ],
		   "mimetype": "text/x-octave",
		   "name": "scilab",
		   "version": "0.7.1"
		  }
		 },
		 "nbformat": 4,
		 "nbformat_minor": 0
}
