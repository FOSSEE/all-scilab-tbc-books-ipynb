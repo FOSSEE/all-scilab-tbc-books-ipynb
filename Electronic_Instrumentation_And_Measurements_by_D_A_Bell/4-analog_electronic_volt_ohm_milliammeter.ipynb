{
"cells": [
 {
		   "cell_type": "markdown",
	   "metadata": {},
	   "source": [
       "# Chapter 4: analog electronic volt ohm milliammeter"
	   ]
	},
{
		   "cell_type": "markdown",
		   "metadata": {},
		   "source": [
			"## Example 4.1: meter_current_and_voltage_input_resistance.sce"
		   ]
		  },
  {
"cell_type": "code",
	   "execution_count": null,
	   "metadata": {
	    "collapsed": true
	   },
	   "outputs": [],
"source": [
"// To find the meter current and the voltmeter resistance\n",
"//example 4-1 in page 88\n",
"clc;\n",
"\n",
"//given data\n",
"Vcc=20;//Vcc in volts\n",
"R=9.3e+3;// R=Rs+Rm=9.3 K-ohm\n",
"Im=1e-3'// Im=1 mA\n",
"hfe=100;\n",
"E=10;// E in volts\n",
"Vb=0.7;//voltage drop across base in volts\n",
"\n",
"// calculation\n",
"Ve=E-Vb;// emitter voltage in volts\n",
"printf('meter current=%d mA\n',Ve*1000/R);\n",
"Ib=Im/hfe;// base current\n",
"printf('input resistance with transistor = %d M-ohm\n',E/(Ib*1000000));\n",
"printf('input resistance with out transistor = %.1f K-ohm\n',R/1000);\n",
"//result\n",
"//meter current = 1 mA\n",
"//input resistance with transistor = 1 M-ohm\n",
"//input resistance with out transistor = 9300 ohm"
   ]
   }
,
{
		   "cell_type": "markdown",
		   "metadata": {},
		   "source": [
			"## Example 4.2: meter_circuit_voltage_and_currents.sce"
		   ]
		  },
  {
"cell_type": "code",
	   "execution_count": null,
	   "metadata": {
	    "collapsed": true
	   },
	   "outputs": [],
"source": [
"// To find currents I2 and I3 and calculate the meter circuit voltage in the given circuit\n",
"//example 4-2 in page 89\n",
"clc;\n",
"//Given data\n",
"R2=3.9e+3;//resistance R2=R3=3.9 K-ohm\n",
"R3=R2;\n",
"Vcc=12;//Vcc in volt\n",
"Vee=-12;// Vee in volt\n",
"Vbe=0.7;// voltage drop across the base_emitter\n",
"Vp=0;// base voltage of transistor 2\n",
"//calculation\n",
"VR2=0-Vbe-Vee;\n",
"VR3=VR2;\n",
"I2=VR2/R2;\n",
"I3=I2;\n",
"printf('I2=I3=%.1f mA\n',I2*1000);\n",
"for E=1:-0.5:0.5// voltage applied to the base of transistor 1 in volts\n",
"    Ve1=E-Vbe;// emitter voltage of transistor 1\n",
"    Ve2=Vp-Vbe;// emitter voltage of transistor 2\n",
"    V=Ve1-Ve2;// voltage difference b/w the two emitters\n",
"    printf('when E=%.1f V,\n',E);\n",
"    printf('circuit voltage (V)=%.1f V\n',V);\n",
"end\n",
"//result\n",
"//I2=I3=2.9 mA\n",
"//when E=1.0 V,\n",
"//circuit voltage (V)=1.0 V\n",
"//when E=0.5 V,\n",
"//circuit voltage (V)=0.5 V"
   ]
   }
,
{
		   "cell_type": "markdown",
		   "metadata": {},
		   "source": [
			"## Example 4.3: meter_reading_and_gate_source_voltage.sce"
		   ]
		  },
  {
"cell_type": "code",
	   "execution_count": null,
	   "metadata": {
	    "collapsed": true
	   },
	   "outputs": [],
"source": [
"// example 4-3 in page 93\n",
"clc;\n",
"//Given data\n",
"Range=10;//range in volts\n",
"Ra=800e+3; Rb=100e+3; Rc=60e+3; Rd=40e+3; // given resistance values in ohm\n",
"E=7.5; //battery voltage in volts\n",
"Vgs=-5;// gate source voltage in volts\n",
"Vp=5;// base voltage of transistor 2 in volts\n",
"R=1e+3;// R=Rs+Rm=1 K-ohm\n",
"Im=1e-3;//FSD=1 mA\n",
"Vbe=0.7//base emitter voltage in volt\n",
"//calculation\n",
"Eg=E*((Rc+Rd)/(Ra+Rb+Rc+Rd));//gate voltage\n",
"Vs=Eg-Vgs;//souce voltage\n",
"Ve1=Vs-Vbe;// emitter voltage of transistor 1\n",
"Ve2=Vp-Vbe;//emitter voltage of transistor 2\n",
"V=Ve1-Ve2;// voltage difference b/w the two emitters\n",
"I=V/R;\n",
"P=I/Im;//P% of full scale\n",
"printf('THE METER READING=%.1f V\n',P*Range);\n",
"//result\n",
"//THE METER READING=7.500000 V"
   ]
   }
,
{
		   "cell_type": "markdown",
		   "metadata": {},
		   "source": [
			"## Example 4.4: suitable_resistance_values.sce"
		   ]
		  },
  {
"cell_type": "code",
	   "execution_count": null,
	   "metadata": {
	    "collapsed": true
	   },
	   "outputs": [],
"source": [
"// to determine the resistance values for the circuit in the figure4-7\n",
"//example 4-4 in page 97\n",
"clc;\n",
"//Given data\n",
"E=20e-3;//maximum input voltage = 20 mV\n",
"Ib=0.2e-6;//op-amp input current 0.2 micro amps\n",
"Im=100e-6;//FSD=100 micro amps\n",
"Rm=10e+3;// coil resistance in 10 k-ohm\n",
"//As I4>>Ib select \n",
"I4=1000*Ib;// current in ampere\n",
"// at full scale Im=100 micro-A\n",
"Vout=Im*Rm;\n",
"printf('R3=%d ohm\n',E/I4);\n",
"printf('R4=%.1f K-ohm\n',(Vout-E)/(1000*I4));\n",
"//result\n",
"//R3=100 ohm\n",
"//R4=4900 ohm"
   ]
   }
,
{
		   "cell_type": "markdown",
		   "metadata": {},
		   "source": [
			"## Example 4.5: value_of_resistance_and_voltage_at_output.sce"
		   ]
		  },
  {
"cell_type": "code",
	   "execution_count": null,
	   "metadata": {
	    "collapsed": true
	   },
	   "outputs": [],
"source": [
"//example 4-5 in page 98\n",
"clc;\n",
"//data given\n",
"E=1;// E=1 V\n",
"Im=1e-3;//FSD=1 mA\n",
"Rm=100;// Rm in ohm\n",
"//calculation\n",
"R3=E/Im;\n",
"printf('R3=%d K-ohm\n',R3/1000);\n",
"printf('Vout=%.1f V\n',Im*(R3+Rm));\n",
"//result\n",
"//R3=1 K-ohm\n",
"//Vout=1.1 V"
   ]
   }
,
{
		   "cell_type": "markdown",
		   "metadata": {},
		   "source": [
			"## Example 4.6: resistance_scale_marking.sce"
		   ]
		  },
  {
"cell_type": "code",
	   "execution_count": null,
	   "metadata": {
	    "collapsed": true
	   },
	   "outputs": [],
"source": [
"// example 4-6 in page 100\n",
"clc;\n",
"// data give\n",
"Eb=1.5;// Full scale voltage in volts\n",
"R1=1e+3;//R1=1 K-ohm\n",
"//calculation\n",
"for n=1:2\n",
"    E=Eb*(n/3);// 1/3rd and 2/3rd value of full scale\n",
"    Rx=R1/((Eb/E)-1);\n",
"    printf('at %d/3 FSD, Rx=%d ohm\n',n,Rx)   \n",
"end"
   ]
   }
,
{
		   "cell_type": "markdown",
		   "metadata": {},
		   "source": [
			"## Example 4.7: value_of_R3_and_deflection.sce"
		   ]
		  },
  {
"cell_type": "code",
	   "execution_count": null,
	   "metadata": {
	    "collapsed": true
	   },
	   "outputs": [],
"source": [
"// example 4-7 in page 107\n",
"clc;\n",
"// Given data\n",
"Iav=1e-3;//for, FSD the average meter current is 1 mA\n",
"Rm=1.2e+3;// coil resistance 1.2 K-ohm\n",
"E=100e-3;// ac input rms voltage=100 mV\n",
"//calculations\n",
"Ip=(2/0.637)*Iav;// peak current for half wave rectifier\n",
"Ep=E/0.707;// input peak voltage\n",
"R3=Ep/Ip;\n",
"printf('R3=%d ohm\n\n',R3);\n",
"printf('When E=50 mV,\n');\n",
"Ep=(50e-3)/0.707;\n",
"Ip=Ep/R3;\n",
"printf('meter deflection=Iav=%.1f mA\n',(0.637/2)*Ip*1000);//half scale"
   ]
   }
],
"metadata": {
		  "kernelspec": {
		   "display_name": "Scilab",
		   "language": "scilab",
		   "name": "scilab"
		  },
		  "language_info": {
		   "file_extension": ".sce",
		   "help_links": [
			{
			 "text": "MetaKernel Magics",
			 "url": "https://github.com/calysto/metakernel/blob/master/metakernel/magics/README.md"
			}
		   ],
		   "mimetype": "text/x-octave",
		   "name": "scilab",
		   "version": "0.7.1"
		  }
		 },
		 "nbformat": 4,
		 "nbformat_minor": 0
}
