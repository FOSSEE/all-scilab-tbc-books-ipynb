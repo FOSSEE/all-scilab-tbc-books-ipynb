{
"cells": [
 {
		   "cell_type": "markdown",
	   "metadata": {},
	   "source": [
       "# Chapter 3: Electromechanical Instruments"
	   ]
	},
{
		   "cell_type": "markdown",
		   "metadata": {},
		   "source": [
			"## Example 3.10: sensitivity_of_the_voltmeter.sce"
		   ]
		  },
  {
"cell_type": "code",
	   "execution_count": null,
	   "metadata": {
	    "collapsed": true
	   },
	   "outputs": [],
"source": [
"//To find the sensitivity\n",
"//example 3-10 in page 54\n",
"clc;\n",
"//given data\n",
"Im=157e-6;// peak current=157 micro ampere\n",
"Vrms=100;// FSD rms voltage in volt\n",
"//calculation\n",
"Irms=0.707*Im;//FSD rms current\n",
"R=Vrms/Irms;// total circuit resistance\n",
"S=R/Vrms;//sensitivity\n",
"printf('sensitivity=%d K-ohm/volt\n',S/1000);\n",
"//result\n",
"//sensitivity=9 k-ohm/Volt "
   ]
   }
,
{
		   "cell_type": "markdown",
		   "metadata": {},
		   "source": [
			"## Example 3.11: value_of_given_resistances.sce"
		   ]
		  },
  {
"cell_type": "code",
	   "execution_count": null,
	   "metadata": {
	    "collapsed": true
	   },
	   "outputs": [],
"source": [
"//To find  resistance Rs and Rsh in the given ciruit\n",
"// example 3-10 in page 55\n",
"clc;\n",
"//data given\n",
"Iav=50e-6;//average current through PMCC instrument=50 micro ampere\n",
"Rm=1700;// coil resistance in ohm\n",
"Vf=0.7;// diode forward drop in volts\n",
"If=100e-6;// forward current = 100 micro-ampere\n",
"Vrms=50;// ac rms voltage in volts\n",
"// calculation\n",
"Im=Iav/(0.5*0.637);//peak current in ampere\n",
"Ifp=(100/20)*If;//at 20% of FSD, diode peak current(If) must be at least 100 micro ampere; therefore, at 100% of FSD,\n",
"Ishp=Ifp-Im;// peak current through Rsh in ampere\n",
"Vm=Im*Rm;// peak voltage in volts\n",
"Rsh=Vm/Ishp;\n",
"Rs=(1.414*Vrms-Vm-Vf)/Ifp;\n",
"printf('Rsh=%d ohm\n',Rsh);\n",
"printf('Rs=%.1f K-ohm\n',Rs/1000);\n",
"//result\n",
"//Rsh=778 ohm\n",
"//Rs=139.5 K-ohm"
   ]
   }
,
{
		   "cell_type": "markdown",
		   "metadata": {},
		   "source": [
			"## Example 3.12: calculate_the_value_of_Rl.sce"
		   ]
		  },
  {
"cell_type": "code",
	   "execution_count": null,
	   "metadata": {
	    "collapsed": true
	   },
	   "outputs": [],
"source": [
"//To find the the resistance Rl\n",
"// example 3-12 in page 58\n",
"clc;\n",
"// Given data\n",
"Iav=1e-3;// Average current through the PMCC = 1 mA\n",
"Ip=250e-3;// primary current= 250 mA\n",
"Rm=1700;// coil resistance in ohm\n",
"Ns=500;// number of secondary turns\n",
"Np=4;//number of primary turns\n",
"Vf=0.7;//diode forward drop in volts\n",
"Rs=20e+3;// Rs=20 k ohm\n",
"//calculation\n",
"Im=Iav/0.637;//peak current\n",
"Em=(Im*(Rs+Rm))+(2*Vf);//secondary peak voltage\n",
"Es=Em*0.707;//secondary rms voltage\n",
"Irms=1.11*Iav;// RMS meter current\n",
"Is=Ip*(Np/Ns);//transformer rms secondary current\n",
"Il=Is-Irms;//current through Rl\n",
"Rl=Es/Il;\n",
"printf('Rl=%.1f K-ohm\n',Rl/1000);\n",
"//result\n",
"//Rl=28.2 K-ohm"
   ]
   }
,
{
		   "cell_type": "markdown",
		   "metadata": {},
		   "source": [
			"## Example 3.13: percentage_error.sce"
		   ]
		  },
  {
"cell_type": "code",
	   "execution_count": null,
	   "metadata": {
	    "collapsed": true
	   },
	   "outputs": [],
"source": [
"//Given Data\n",
"clc;\n",
"Im=100e-6;// FSD=100 micro amps\n",
"e=1;// specified accuracy \n",
"//calculation\n",
"for n=1:2\n",
"    I=Im/n;//indicated current\n",
"    Ie=(e/100)*Im;//error current\n",
"    Imax=I+Ie;//actual measured maximum current\n",
"    Imin=I-Ie;//actual measured minimum current\n",
"    eI=(Ie/I)*100;//Percentage error in the measured currrent\n",
"    printf('At %.1f FSD\n',1/n);\n",
"printf('Actual measured current=%d to %d micro-A\n',Imin*(1e+6),Imax*(1e+6));\n",
"printf('error=(+/-)%d persent of measured current\n',eI);\n",
"printf('\n');\n",
"end\n",
"//result\n",
"// At 1.000000 FSD\n",
"//Actual measured current=99 to 101 micro-A\n",
"//error=(+/-)1 persent of measured current\n",
"//At 0.500000 FSD\n",
"//Actual measured current=49 to 51 micro-A\n",
"//error=(+/-)2 persent of measured current"
   ]
   }
,
{
		   "cell_type": "markdown",
		   "metadata": {},
		   "source": [
			"## Example 3.14: instrument_indication_and_resistance_scale.sce"
		   ]
		  },
  {
"cell_type": "code",
	   "execution_count": null,
	   "metadata": {
	    "collapsed": true
	   },
	   "outputs": [],
"source": [
"// example 3-14 in page 61\n",
"clc;\n",
"//Given Data\n",
"Eb=1.5;//battery rating in volts\n",
"Im=100e-6;// FSD=100 micro ampere\n",
"R=15e+3;// R1+Rx=15 K-ohm\n",
"//calculation\n",
"printf('meter indication when Rx=0 is %d micro-A (FSD)\n',(Eb/R+0)*10^6);// here Rx=0\n",
"for n=0.25:0.25:0.75//FSD's in ampere at which resistance Rx should be calculated\n",
"    Rx=(Eb/(n*Im))-R;// resistance in ohm\n",
"    printf('Rx for %.2f FSD=%.0f K-ohm \n',n,Rx/1000);\n",
"end\n",
"//result\n",
"// meter indication when Rx=0 is 100 micro A (FSD)\n",
"//Rx for 0.25 FSD=45 K-ohm \n",
"//Rx for 0.5 FSD=15 K-ohm \n",
"//Rx for 0.75 FSD=5 K-ohm "
   ]
   }
,
{
		   "cell_type": "markdown",
		   "metadata": {},
		   "source": [
			"## Example 3.15: to_find_the_resistance.sce"
		   ]
		  },
  {
"cell_type": "code",
	   "execution_count": null,
	   "metadata": {
	    "collapsed": true
	   },
	   "outputs": [],
"source": [
"//example3-15 in page 63\n",
"clc;\n",
"//Given data\n",
"R1=15e+3; // resistance R1=15 K-ohm\n",
"Rm=50;// coil resistance in ohm\n",
"R2=50;// resistance R2 in ohm\n",
"Im=50e-6;// FSD=50 micro-ampere\n",
"//calculations\n",
"printf('at Rx=0 &amp; Eb=1.3 V,\n');\n",
" Rx=0; Eb=1.3;\n",
" Ib=Eb/(Rx+R1);\n",
" I2=Ib-Im;\n",
" Vm=Im*Rm;\n",
" R21=Vm/I2;// the resistance R2 in ohm\n",
" printf('R2=%.2f ohm\n',R21);\n",
" for Eb=1.5:-0.2:1.3,// To find Rx\n",
"     Vm=0.5*Im*Rm;\n",
"     if Eb==1.3\n",
"         R2=R21;\n",
"     end\n",
"     I2=Vm/R2;\n",
"     Ib=I2+Im*0.5;\n",
"     Rx=(Eb/Ib)-R1;\n",
"     printf('At 0.5 FSD with Eb=%.1f V,\n',Eb);\n",
"     printf('Rx=%d K-ohm \n',Rx/1000);\n",
" end\n",
" //result\n",
"//at Rx=0 &amp; Eb=1.3 V\n",
"//R2=68.181818 ohm\n",
"//At 0.5 FSD with Eb=1.5V,\n",
"//Rx=15 K-ohm \n",
"//At 0.5 FSD with Eb=1.3 V,\n",
"//Rx=15 K-ohm "
   ]
   }
,
{
		   "cell_type": "markdown",
		   "metadata": {},
		   "source": [
			"## Example 3.16: ohmeter_indication_and_the_resistance.sce"
		   ]
		  },
  {
"cell_type": "code",
	   "execution_count": null,
	   "metadata": {
	    "collapsed": true
	   },
	   "outputs": [],
"source": [
"// example 3-16 in page65\n",
"clc;\n",
"//Given data\n",
"//the equivalent circuit is derived as shown in the fig3-24 from the R X 1 range ohmmeter circuit\n",
"E=1.5;// battery rating in volts\n",
"//calculation\n",
"for Rx=0:24:24,//Rx in ohm\n",
"   Ib=E/(Rx+14+((10*(9990+2875+3820))/(9990+2875+3820)));\n",
"  \n",
"   Im=Ib*(10/(10+9990+2875+3820));// meter current\n",
"   printf('meter current when Rx=%d ohm is %.2f micro-A\n',Rx,Im*1e+6);\n",
"end"
   ]
   }
,
{
		   "cell_type": "markdown",
		   "metadata": {},
		   "source": [
			"## Example 3.1: torque_on_the_coil.sce"
		   ]
		  },
  {
"cell_type": "code",
	   "execution_count": null,
	   "metadata": {
	    "collapsed": true
	   },
	   "outputs": [],
"source": [
"// To find the Torque on the coil\n",
"// example3-1 in page 37\n",
"clc;\n",
"//Given data\n",
"N=100;//Number of turns\n",
"B=0.2;//Magnetic flux density of 0.2 tesla\n",
"D=0.01; l=0.015; //diameter and length of the coil in meters\n",
"I=.001;// current=1 mA\n",
"//calculation\n",
"T=B*l*I*N*D;// torque in N-m\n",
"printf('Torque=%f N-m',T);\n",
"//result\n",
"//Torque=0.000003 N-m"
   ]
   }
,
{
		   "cell_type": "markdown",
		   "metadata": {},
		   "source": [
			"## Example 3.2: voltage_and_megohm_sensitivity.sce"
		   ]
		  },
  {
"cell_type": "code",
	   "execution_count": null,
	   "metadata": {
	    "collapsed": true
	   },
	   "outputs": [],
"source": [
"//To find the voltage sensitivity and Megohm sensitivity\n",
"// Example3-2 in page 39\n",
"clc;\n",
"//Given data\n",
"Is=(1*10^-6)/(10^-3);// current sensitivity in A/m\n",
"R=1000;// critical damping resistance of 1 kohm\n",
"//calculation\n",
"Vs=R*Is;//voltage sensitivity in mV/mm\n",
"Rs=Vs/Is;// megohm sensitivity i M-ohm\n",
"printf('Voltage sensitivity=%d mV/mm\n',Vs);\n",
"printf('megohm sensitivity=%d M-ohm',Rs/1000);\n",
"//result\n",
"//Voltage sensitivity=1 mV/mm\n",
"//Megohm sensitivity=1 Kohm"
   ]
   }
,
{
		   "cell_type": "markdown",
		   "metadata": {},
		   "source": [
			"## Example 3.3: total_current_through_the_ammeter.sce"
		   ]
		  },
  {
"cell_type": "code",
	   "execution_count": null,
	   "metadata": {
	    "collapsed": true
	   },
	   "outputs": [],
"source": [
"//example 3-3 in page 41\n",
"clc;\n",
"//Given Data\n",
"A=['a' 'b' 'c'];\n",
"m=0;\n",
"Rm=99;//coil resistance in ohm\n",
"IM=0.1e-3;//FSD(IM)=0.1 mA\n",
"Rs=1;//shunt resistance in ohm\n",
"//calculation\n",
"n=2;//initialisation\n",
"while n&gt;0.25,\n",
"    n=n/2;\n",
"    Im=IM*n;\n",
"    Vm=Im*Rm;// Meter voltage in volts\n",
"    Is=Vm/Rs;//current throught the shunt resistance in ampere\n",
"    I=Im+Is;//toatal current through the ammeter I=Im+Is in ampere\n",
"    m=m+1;\n",
"    printf('(%c) current through the ammeter at %.2f FSD=%.1f mA\n',A(m),n,I*1000);\n",
"end"
   ]
   }
,
{
		   "cell_type": "markdown",
		   "metadata": {},
		   "source": [
			"## Example 3.4: shunt_resistance.sce"
		   ]
		  },
  {
"cell_type": "code",
	   "execution_count": null,
	   "metadata": {
	    "collapsed": true
	   },
	   "outputs": [],
"source": [
"// To find the Shut resistance of the ammeter\n",
"// example 3-4 in paage 43\n",
"clc;\n",
"//Given data\n",
"A=['b' 'a'];\n",
"Im=100*10^-6;// FSD(Im) in ampere\n",
"Rm=1000;// Coil resistance is 1 K-ohm\n",
"// calculation\n",
"I=10;// FSD initialisation\n",
"m=0;\n",
"while I&gt;0.1,\n",
"    I=I/10;\n",
"    Vm=Im*Rm;//voltage across the meter in volts\n",
"    Is=I-Im;//current through shunt resistance in ampere\n",
"    Rs=Vm/Is;//shunt resistance in ohm\n",
"    m=m+1;\n",
"    printf('(%c) shunt resistance value for %.1f A FSD is %f ohm\n ',A(m),I,Rs);\n",
"end"
   ]
   }
,
{
		   "cell_type": "markdown",
		   "metadata": {},
		   "source": [
			"## Example 3.5: ammeter_range.sce"
		   ]
		  },
  {
"cell_type": "code",
	   "execution_count": null,
	   "metadata": {
	    "collapsed": true
	   },
	   "outputs": [],
"source": [
"//Theory problem"
   ]
   }
,
{
		   "cell_type": "markdown",
		   "metadata": {},
		   "source": [
			"## Example 3.6: multiplier_resistance_and_applied_voltage.sce"
		   ]
		  },
  {
"cell_type": "code",
	   "execution_count": null,
	   "metadata": {
	    "collapsed": true
	   },
	   "outputs": [],
"source": [
"//Theory"
   ]
   }
,
{
		   "cell_type": "markdown",
		   "metadata": {},
		   "source": [
			"## Example 3.7: multiplier_resistances.sce"
		   ]
		  },
  {
"cell_type": "code",
	   "execution_count": null,
	   "metadata": {
	    "collapsed": true
	   },
	   "outputs": [],
"source": [
"// To find the required multiplier resistance for the two given circuits\n",
"//Example3-7 in page 49\n",
"clc;\n",
"//Given data\n",
"V=[10 50 100];// voltage ranges in volt\n",
"Im=50e-6;// FSD=50 micro-A\n",
"Rm=1700;// coil resistance in ohm\n",
"//calculation\n",
"printf('for circuit as in figure 3-16(a)\n');\n",
"for n=1:3\n",
"    R=(V(n)/Im)-Rm;\n",
"    printf('R%d=%.4f M ohm\n',n,R/10^6);\n",
"end\n",
"printf('for circuit as in figure 3-16(b)\n');\n",
"R=zeros(1,3);\n",
"for n=1:3\n",
"    R(n)=(V(n)/Im)-Rm-R(1)-R(2);\n",
"    printf('R%d=%.4f M ohm \n',n,R(n)/10^6);\n",
"end\n",
"//result\n",
"// for circuit as in figure 3-16(a)\n",
"//R1=198300 ohm\n",
"//R2=998300 ohm\n",
"//R3=1998300 ohm\n",
"//for circuit as in figure 3-16(b)\n",
"//R1=198300 ohm \n",
"//R2=800000 ohm \n",
"//R3=1000000 ohm "
   ]
   }
,
{
		   "cell_type": "markdown",
		   "metadata": {},
		   "source": [
			"## Example 3.8: multiplier_resistance.sce"
		   ]
		  },
  {
"cell_type": "code",
	   "execution_count": null,
	   "metadata": {
	    "collapsed": true
	   },
	   "outputs": [],
"source": [
"// To find the required multiplier resistance for the two given circuits\n",
"//Example3-7 in page 49\n",
"clc;\n",
"//Given data\n",
"V=[10 50 100];// voltage ranges in volt\n",
"Im=50e-6;// FSD=50 micro-A\n",
"Rm=1700;// coil resistance in ohm\n",
"//calculation\n",
"printf('for circuit as in figure 3-16(a)\n');\n",
"for n=1:3\n",
"    R=(V(n)/Im)-Rm;\n",
"    printf('R%d=%.4f M ohm\n',n,R/10^6);\n",
"end\n",
"printf('for circuit as in figure 3-16(b)\n');\n",
"R=zeros(1,3);\n",
"for n=1:3\n",
"    R(n)=(V(n)/Im)-Rm-R(1)-R(2);\n",
"    printf('R%d=%.4f M ohm \n',n,R(n)/10^6);\n",
"end"
   ]
   }
,
{
		   "cell_type": "markdown",
		   "metadata": {},
		   "source": [
			"## Example 3.9: pointer_indication_for_the_voltmeter.sce"
		   ]
		  },
  {
"cell_type": "code",
	   "execution_count": null,
	   "metadata": {
	    "collapsed": true
	   },
	   "outputs": [],
"source": [
"// example 3-9 in page 53\n",
"clc;\n",
"//given data\n",
"A=['a' 'b'];\n",
"Rm=1e+3;// coil resistance of 1 k ohm\n",
"Rs=890.7e+3;//multiplier resistance in ohm\n",
"Vf=0.7;//voltage drop across the diode in volt\n",
"//calculation\n",
"m=0;// reference to indicate a and b respectively\n",
"for n=75:-25:50 //voltages 50 and 75 volts\n",
"    Iav=(0.637)*(((1.414*n)-2*Vf)/(Rs+Rm));// average current through pmcc instrument in ampere\n",
"    m=m+1;\n",
"    printf('(%c),\nIav for %d V is %.2f micro-A\n',A(m),n,Iav*10^6);\n",
"    printf('pointer indication for %d V is %.2f FSD\n',n,10000*Iav);\n",
"end"
   ]
   }
],
"metadata": {
		  "kernelspec": {
		   "display_name": "Scilab",
		   "language": "scilab",
		   "name": "scilab"
		  },
		  "language_info": {
		   "file_extension": ".sce",
		   "help_links": [
			{
			 "text": "MetaKernel Magics",
			 "url": "https://github.com/calysto/metakernel/blob/master/metakernel/magics/README.md"
			}
		   ],
		   "mimetype": "text/x-octave",
		   "name": "scilab",
		   "version": "0.7.1"
		  }
		 },
		 "nbformat": 4,
		 "nbformat_minor": 0
}
