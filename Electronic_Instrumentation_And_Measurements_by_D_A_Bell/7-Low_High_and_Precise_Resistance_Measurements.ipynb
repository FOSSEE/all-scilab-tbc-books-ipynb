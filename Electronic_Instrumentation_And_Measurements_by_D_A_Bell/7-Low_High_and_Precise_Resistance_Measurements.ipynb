{
"cells": [
 {
		   "cell_type": "markdown",
	   "metadata": {},
	   "source": [
       "# Chapter 7: Low High and Precise Resistance Measurements"
	   ]
	},
{
		   "cell_type": "markdown",
		   "metadata": {},
		   "source": [
			"## Example 7.1: Caption_find_the_resistance.sce"
		   ]
		  },
  {
"cell_type": "code",
	   "execution_count": null,
	   "metadata": {
	    "collapsed": true
	   },
	   "outputs": [],
"source": [
"// To find the value of measured Resistance R\n",
"// example 7-1 in page 165\n",
"clc;\n",
"// Given data\n",
"I=0.5;//measured current in amps\n",
"V=500;// voltmeter indication in volts\n",
"Ra=10;//ammeter resistance in ohms\n",
"//calculation\n",
"R=(V/I)-Ra;// measured resistance\n",
"printf('The value of R=%d ohm',R);\n",
"//result\n",
"// The value of R=990 ohm "
   ]
   }
,
{
		   "cell_type": "markdown",
		   "metadata": {},
		   "source": [
			"## Example 7.2: ammeter_and_ohmeter_indications.sce"
		   ]
		  },
  {
"cell_type": "code",
	   "execution_count": null,
	   "metadata": {
	    "collapsed": true
	   },
	   "outputs": [],
"source": [
"// To find the ammeter and ohmeter indication for the circuit 7-1(a)\n",
"// example 7-2 in page 166\n",
"clc;\n",
"//Data given\n",
"V=1000; S=10e+3; // voltmeter range and sensitivity in volt and ohm/volt\n",
"R=990;// the resistance measured\n",
"E=500;// supply voltage in volts\n",
"Ra=10;// ammeter resistance in ohm\n",
"//calculaTION\n",
"Rv=V*S;// voltmeter resistance\n",
"R1=(R*Rv)/(R+Rv);// as voltmeter is connected in parallel with the measured resistance, the equivalent resistance is the parallel combination of both resistancs\n",
"Ev=(E*R1)/(R1+Ra);// voltmeter reading using voltage divider formula\n",
"I=Ev/R1;// ammeter reading \n",
"printf('voltmeter reading=%.0f V\nAmmeter reading=%.1f A\n',Ev,I);\n",
"//result\n",
"//voltmeter reading=495 V\n",
"//Ammeter reading=0.5 A "
   ]
   }
,
{
		   "cell_type": "markdown",
		   "metadata": {},
		   "source": [
			"## Example 7.3: accuracy.sce"
		   ]
		  },
  {
"cell_type": "code",
	   "execution_count": null,
	   "metadata": {
	    "collapsed": true
	   },
	   "outputs": [],
"source": [
"// To determine which of the circuits 7-1(a) or 7-2(b) has greater accuracy\n",
"// example 7-3 in page 166\n",
"clc;\n",
"//Data given\n",
"V1=495; I1=0.5; // voltmeter and ammeter reading in volt and ampere respectively of circuit 7-1(a)\n",
"V2=500; I2=0.5;// voltmeter and ammeter reading in volt and ampere respectively of circuit 7-1(b)\n",
"//calculation\n",
"printf('R from circuit 7-1(a)=%d ohm\nR from circuit 7-1(b)=%d ohm\n',V1/I1,V2/I2);\n",
"printf('thus circuit 7-1(a) gives the more accurate result');\n",
"//result\n",
"//R from circuit 7-1(a)=990 ohm\n",
"//R from circuit 7-1(b)=1000 ohm\n",
"//thus circuit 7-1(a) gives the more accurate result "
   ]
   }
,
{
		   "cell_type": "markdown",
		   "metadata": {},
		   "source": [
			"## Example 7.4: find_the_resistance.sce"
		   ]
		  },
  {
"cell_type": "code",
	   "execution_count": null,
	   "metadata": {
	    "collapsed": true
	   },
	   "outputs": [],
"source": [
"// to calculate the value of Resistance R\n",
"// example 7-4 in page 169\n",
"clc;\n",
"// data given\n",
"P=3.5e+3; Q=7e+3; S=5.51e+3; // resistance values of the wheatstone bridge arms in ohm\n",
"//calculation\n",
"R=S*P/Q;// equation for balancng condition\n",
"printf('R=%f K-ohm\n',R/1000);\n",
"S=[1e+3 8e+3];// adjusting s from 1 t0 8 K-ohm\n",
"for n=1:2\n",
"    R=S(n)*P/Q;\n",
"    printf('when S=%d K-ohm,\n',S(n)/1000);\n",
"    printf('R=%d ohm\n',R);\n",
"end\n",
"//result\n",
"//Measurement range is from 500 ohm to 4000 ohm"
   ]
   }
,
{
		   "cell_type": "markdown",
		   "metadata": {},
		   "source": [
			"## Example 7.5: accracy_upper_and_lower_values.sce"
		   ]
		  },
  {
"cell_type": "code",
	   "execution_count": null,
	   "metadata": {
	    "collapsed": true
	   },
	   "outputs": [],
"source": [
"// To calculate the accuracy of the measured value of resistance and to find the upper and lower values\n",
"// example 7-5 in page 169\n",
"clc;\n",
"//Data given\n",
"R=2.755e+3;//measured value of R in ohm\n",
"E=[0.05 0.05 0.1]// percentage errors of the resistances P Q and S respectivly\n",
"//calculation\n",
"Re=sum(E);// percentage error in R\n",
"Rmax=R+((Re/100)*R);//upper limit of resistance R in ohm\n",
"Rmin=R-((Re/100)*R);// lower limit of resistance R in ohm\n",
"printf('the upper and lower limits of R are %.4f K-ohm and %.4f K-ohm respectively',Rmax/1000,Rmin/1000);\n",
"//result\n",
"// the upper and lower limits of R are 2.760510 K-ohm and 2.749490 K-ohm respectively"
   ]
   }
,
{
		   "cell_type": "markdown",
		   "metadata": {},
		   "source": [
			"## Example 7.6: minimum_change.sce"
		   ]
		  },
  {
"cell_type": "code",
	   "execution_count": null,
	   "metadata": {
	    "collapsed": true
	   },
	   "outputs": [],
"source": [
"// to calculate the minimum change detectable by the bridge\n",
"// example 7-6 in page 172\n",
"clc;\n",
"//Given data\n",
"P=3.5e+3; Q=7e+3; S=4e+3; R=2e+3; // bridge arm resistances in ohm\n",
"Eb=10;// supply voltage in volt\n",
"Ig=1e-6;//galvano meter reading in ampere\n",
"rg=2.5e+3;//galvanometer resistance=2.5 K-ohm\n",
"//calculations\n",
"r=((P*R)/(P+R))+((Q*S)/(Q+S));// internal resistance of the bridge in ohm\n",
"dVR=Ig*(r+rg);// open-circuit galvano meter voltage i,e VR-VS in volt\n",
"VR=Eb*R/(R+P);// voltage across resistance R in volt\n",
"VP=Eb-(VR+dVR);//voltage across resistance P in volt\n",
"IR=VP/P;// current through P which is equal to current through R in ampere\n",
"dR=((VR+dVR)/IR)-R;//Change in R value that the device can detect in ohm\n",
"printf('the minimum change in R which is detected by the bridge is %f ohm\n',dR);\n",
"//result\n",
"// the minimum change in R which is detected by the bridge is 5.466141 ohm"
   ]
   }
,
{
		   "cell_type": "markdown",
		   "metadata": {},
		   "source": [
			"## Example 7.7: ratio_of_resistances.sce"
		   ]
		  },
  {
"cell_type": "code",
	   "execution_count": null,
	   "metadata": {
	    "collapsed": true
	   },
	   "outputs": [],
"source": [
"// to determinr the required ratio of R/P\n",
"// example 7-7 in page 176\n",
"clc;\n",
"// Given data\n",
"S=0.1; Q=0.15; // resistances in ohm\n",
"//calculation\n",
"r=S/Q;// here R/P=S/Q\n",
"printf('the required ratio is %d/%d',(S*100),(Q*100));\n",
"//result\n",
"// the required ratio is 10/15"
   ]
   }
,
{
		   "cell_type": "markdown",
		   "metadata": {},
		   "source": [
			"## Example 7.8: volume_and_surface_lekage_resistance.sce"
		   ]
		  },
  {
"cell_type": "code",
	   "execution_count": null,
	   "metadata": {
	    "collapsed": true
	   },
	   "outputs": [],
"source": [
"// to find the volume resistance and the surface leakage resistance\n",
"// example 7-8 in page 180\n",
"clc;\n",
"//Data given\n",
"Is=5e-6;// surface current in ampere\n",
"Iv=1.5e-6;// volume current in ampere\n",
"E=10000;// supply voltage in volt\n",
"// calculation\n",
"printf('volume resistance=%0.1e ohm\n',E/Iv);\n",
"printf('surface leakage resistance=%0.1e ohm',E/(Is-Iv));\n",
"//result\n",
"//volume resistance=6.7e+009 ohm\n",
"//surface leakage resistance=2.9e+009 ohm "
   ]
   }
],
"metadata": {
		  "kernelspec": {
		   "display_name": "Scilab",
		   "language": "scilab",
		   "name": "scilab"
		  },
		  "language_info": {
		   "file_extension": ".sce",
		   "help_links": [
			{
			 "text": "MetaKernel Magics",
			 "url": "https://github.com/calysto/metakernel/blob/master/metakernel/magics/README.md"
			}
		   ],
		   "mimetype": "text/x-octave",
		   "name": "scilab",
		   "version": "0.7.1"
		  }
		 },
		 "nbformat": 4,
		 "nbformat_minor": 0
}
