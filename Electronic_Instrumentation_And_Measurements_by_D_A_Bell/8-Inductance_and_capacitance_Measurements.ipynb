{
"cells": [
 {
		   "cell_type": "markdown",
	   "metadata": {},
	   "source": [
       "# Chapter 8: Inductance and capacitance Measurements"
	   ]
	},
{
		   "cell_type": "markdown",
		   "metadata": {},
		   "source": [
			"## Example 8.10: find_the_capacitance_and_resistance.sce"
		   ]
		  },
  {
"cell_type": "code",
	   "execution_count": null,
	   "metadata": {
	    "collapsed": true
	   },
	   "outputs": [],
"source": [
"// to find Cx and Rx of figure 8-7 for new balance\n",
"// example 8-10 in page 214\n",
"clc;\n",
"//Data given\n",
"C1=0.1e-6; R3=10e+3; R4=14.66e+3; R1=369.3e+3; //bridge capacitance and resistance in farad and ohm respectively\n",
"Rp=553.1e+3; Cp=0.068e-6;// parallel resistance in ohm and capacitance in farad\n",
"//calculations\n",
"Cx=(C1*R3/R4)-Cp;// here Cx+Cp = C1*R3/R4 in farad\n",
"printf('Cx=%d pF\n',Cx*10^12);\n",
"R=R1*R4/R3;// let R=Rx parallel with Rp in ohm\n",
"Rx=1/((1/R)-(1/Rp));// Rx in ohm\n",
"printf('Rx=%.0f M-ohm\n',Rx/10^6);\n",
"//result\n",
"//Cx=212 pF\n",
"//Rx=26 M-ohm"
   ]
   }
,
{
		   "cell_type": "markdown",
		   "metadata": {},
		   "source": [
			"## Example 8.11: determine_the_q_factor.sce"
		   ]
		  },
  {
"cell_type": "code",
	   "execution_count": null,
	   "metadata": {
	    "collapsed": true
	   },
	   "outputs": [],
"source": [
"// to determine the Q factor\n",
"// example 8-11 in page 221\n",
"clc;\n",
"//Data given\n",
"E=100D-3; R=[5 10]; XC=100; XL=XC; // supply resistance, capacitive reactance and inductive reactance respectively for the fig 8-17, all in ohm\n",
"//calculation\n",
"for n=1:2\n",
"    I=E/R(n);// current in ampere\n",
"    V=I*XC;// VL=VC=V and XC=XL, voltage in volts\n",
"    Q=V/E;// Q factor\n",
"    printf('for %d st coil,\n',n);\n",
"    printf('voltmeter indication=%d V\n',V);\n",
"    printf('Q=%d\n',Q);\n",
"end \n",
"//result\n",
"//for 1 st coil,\n",
"//voltmeter indication=2 V\n",
"//Q=20\n",
"//for 2 st coil,\n",
"//voltmeter indication=1 V\n",
"//Q=10"
   ]
   }
,
{
		   "cell_type": "markdown",
		   "metadata": {},
		   "source": [
			"## Example 8.12: coil_inductane_and_resistance.sce"
		   ]
		  },
  {
"cell_type": "code",
	   "execution_count": null,
	   "metadata": {
	    "collapsed": true
	   },
	   "outputs": [],
"source": [
"// To Determine the coil inductance and the resistance\n",
"// example 8-12 in page 225\n",
"clc;\n",
"// Data given\n",
"f=1.25e+6; C=147D-12; Q=98; // frequency in hertz, Capacitance in farad and Q factor of the Q metre\n",
"//calculation\n",
"L=1/((2*%pi*f)^2*C);// inductance in henry\n",
"printf('inductance=%.0f micro-henry\n',L*10^6);\n",
"printf('R=%.1f ohm',(2*%pi*f*L)/Q);\n",
"//result\n",
"//inductance=110 micro-henry\n",
"//R=8.8 ohm "
   ]
   }
,
{
		   "cell_type": "markdown",
		   "metadata": {},
		   "source": [
			"## Example 8.1: components_and_connections.sce"
		   ]
		  },
  {
"cell_type": "code",
	   "execution_count": null,
	   "metadata": {
	    "collapsed": true
	   },
	   "outputs": [],
"source": [
"// To find the components and connections\n",
"// example 8-1 in page 194\n",
"clc;\n",
"// Given data\n",
"C=0.005e-6; Rs=8e+3; f=1e+3; // the circuits capacitance,resistance and measurement frequency in farad, ohm and hertz respectively\n",
"ohm_meter_reading=134e+3;// in ohm\n",
"//calculation\n",
"Xs=1/(2*%pi*f*C);//series inductive reactance in ohm\n",
"Rp=(Rs*Rs+Xs*Xs)/Rs;// parallel resistance ih ohm\n",
"Xp=(Rs*Rs+Xs*Xs)/Xs;// parallel inductive reactance in ohm\n",
"Cp=1/(2*%pi*f*Xp);// parallel capacitance in farad\n",
"printf('Rp=%d K-ohm\nXp=%.1f K-ohm\nCp=%.3f micro-F',Rp/1000,Xp/1000,Cp*1000000);\n",
"//result\n",
"// since the measured terminal resistance is 134 k-ohm, the circuit must consist of a 0.005 micro-farad capacitor connected in parallel with a 134 kilo-ohm resistor.For a series connected circuit. the terminal resistance would be much higher than 134 K-ohm"
   ]
   }
,
{
		   "cell_type": "markdown",
		   "metadata": {},
		   "source": [
			"## Example 8.2: range_of_capacitance.sce"
		   ]
		  },
  {
"cell_type": "code",
	   "execution_count": null,
	   "metadata": {
	    "collapsed": true
	   },
	   "outputs": [],
"source": [
"// to find the range of Cx in fig 8-5\n",
"// example 8-2 in page 199\n",
"clc;\n",
"// data given\n",
"C1=0.1e-6; //standard capacitance in micro farad\n",
"r=[100/1 1/100];// range of the ratio R3/R4\n",
"Cx=C1*r;// range of Cx\n",
"printf('The range of Cx is from %.3f micro-F to %d micro-F',Cx(2)*10^6,Cx(1)*10^6);\n",
"//result\n",
"//The range of Cx is from 0.001 micro-F to 10 micro-F "
   ]
   }
,
{
		   "cell_type": "markdown",
		   "metadata": {},
		   "source": [
			"## Example 8.3: resistance_capacitance_and_dissipation_factor.sce"
		   ]
		  },
  {
"cell_type": "code",
	   "execution_count": null,
	   "metadata": {
	    "collapsed": true
	   },
	   "outputs": [],
"source": [
"// to find the capacitance, resistance and the dissipation factor\n",
"// example 8-3 in page 202\n",
"clc;\n",
"//Given data\n",
"f=100;// frequency in Hz\n",
"C1=0.1e-6;// satndard capacitance in farad\n",
"R=[125 0 10e+3 14.7e+3];// resistances R1,R3 and R4 values in ohms as R2 is not used it is take as 0 for convinence\n",
"//calculation\n",
"Cs=C1*(R(3)/R(4));//series capacitance\n",
"Rs=R(1)*R(4)/R(3);// series resistance\n",
"D=2*%pi*f*Cs*Rs;// dissipation factor\n",
"printf('Cs=%.3f micro-F\nRs=%.1f ohm\nD=%.3f',Cs*10^6,Rs,D);\n",
"//result\n",
"//Cs=0.068 micro-F\n",
"//Rs=183.8 ohm\n",
"//D=0.008 "
   ]
   }
,
{
		   "cell_type": "markdown",
		   "metadata": {},
		   "source": [
			"## Example 8.4: resistance_capacitance_and_dissipation_factor.sce"
		   ]
		  },
  {
"cell_type": "code",
	   "execution_count": null,
	   "metadata": {
	    "collapsed": true
	   },
	   "outputs": [],
"source": [
"// To find the resistance,capacitance and dissipation factors\n",
"// example 8-4 in page 204\n",
"clc;\n",
"//Given Data\n",
"f=100;// frequency in Hz\n",
"C1=0.1e-6;// satndard capacitance in farad\n",
"R=[375e+3 0 10e+3 14.7e+3];// resistances R1,R3 and R4 values in ohms as R2 is not used it is take as 0 for convinence\n",
"//calculation\n",
"Cp=C1*(R(3)/R(4));//parallel capacitance in farad\n",
"Rp=R(1)*R(4)/R(3);// parallel resistance in ohm\n",
"D=1/(2*%pi*f*Cp*Rp);// dissipation factor\n",
"printf('Cp=%.3f micro-F\nRp=%.1f K-ohm\nD=%2.1e\n',Cp*10^6,Rp/1000,D);\n",
"//result\n",
"// Cp=0.068027 micro-F\n",
"//Rp=551.250000 K-ohm\n",
"//D=0.042441\n",
" "
   ]
   }
,
{
		   "cell_type": "markdown",
		   "metadata": {},
		   "source": [
			"## Example 8.5: parallel_resistance_and_capacitance.sce"
		   ]
		  },
  {
"cell_type": "code",
	   "execution_count": null,
	   "metadata": {
	    "collapsed": true
	   },
	   "outputs": [],
"source": [
"// to calculate the equivalent parallel capacitance and resistance\n",
"// example 8-5 in page 204\n",
"clc;\n",
"//Given dATA\n",
"R3=10e+3;// resistance R3 in ohm\n",
"f=100;//frequency in hertz\n",
"Cs=0.068e-6; Rs=183.8; // series capacitance in farad and resistance in ohm\n",
"//Calculation\n",
"Xs=1/(2*%pi*f*Cs);// series capacitive reactance in ohm\n",
"Rp=(Rs*Rs+Xs*Xs)/Rs;//equivalent parallel resistance in ohm\n",
"Xp=(Rs*Rs+Xs*Xs)/Xs;//equivalent parallel capacitive reactance in ohm\n",
"Cp=1/(2*%pi*f*Xp);// equivalent capacitance in farad\n",
"R4=C1*R3/Cp;// parallel resistance in ohm\n",
"R1=R3*Rp/R4;// parallel resistance in ohm\n",
"printf('Rp=%.2f M-ohm\nCp=%.3f Micro-F\nR1=%.2f M-ohm\nR4=%.1f K-ohm',Rp/10^6,Cp*10^6,R1/10^6,R4/1000);\n",
"//result\n",
"//Rp=2.98 M-ohm\n",
"//Cp=0.068 Micro-F\n",
"//R1=2.03 M-ohm\n",
"//R4=14.7 K-ohm "
   ]
   }
,
{
		   "cell_type": "markdown",
		   "metadata": {},
		   "source": [
			"## Example 8.6: find_the_resistance.sce"
		   ]
		  },
  {
"cell_type": "code",
	   "execution_count": null,
	   "metadata": {
	    "collapsed": true
	   },
	   "outputs": [],
"source": [
"// To find the resistance R1 and R3 in fig 8-8\n",
"// example 8-6 in page 207\n",
"clc;\n",
"// Given data\n",
"R4=5e+3; L1=100e-3; Ls=500e-3; Rs=270; R3=1e+3; // resistances in ohm and inductances in henry\n",
"//calculation\n",
"printf('R3=%d K-ohm\n',R4*L1/(Ls*1000));\n",
"printf('R1=%d ohm',Rs*R3/R4);\n",
"//result\n",
"//R3=1 K-ohm\n",
"//R1=54 ohm "
   ]
   }
,
{
		   "cell_type": "markdown",
		   "metadata": {},
		   "source": [
			"## Example 8.7: inductance_resistance_and_Q_factor.sce"
		   ]
		  },
  {
"cell_type": "code",
	   "execution_count": null,
	   "metadata": {
	    "collapsed": true
	   },
	   "outputs": [],
"source": [
"// to find the resistance inductance and the Q factor of the inductor\n",
"// example 8-7 in page 209\n",
"clc;\n",
"// given data\n",
"// it is a maxwell's induction bridge\n",
"C3=0.1e-6; R1=1.26e+3; R4=500; R3=470; // capacitance and resistor values in farad and ohm\n",
"f=100;// frequency =100 Hz\n",
"//calculation\n",
"printf('Ls=%d mH\n',C3*R1*R4*1000);// here Ls=C3*R1*R4\n",
"printf('Rs=%.2f K-ohm\n',R1*R4/(R3*1000));//here Rs=R1*R4/R3\n",
"printf('Q=%.2f',(2*%pi*f*C3*R1*R4)/(R1*R4/R3));// Q=w*Ls/Rs\n",
"//result\n",
"//Ls=63 mH\n",
"//Rs=1.34 K-ohm\n",
"//Q=0.03"
   ]
   }
,
{
		   "cell_type": "markdown",
		   "metadata": {},
		   "source": [
			"## Example 8.8: induactance_resistance_and_Q_factor.sce"
		   ]
		  },
  {
"cell_type": "code",
	   "execution_count": null,
	   "metadata": {
	    "collapsed": true
	   },
	   "outputs": [],
"source": [
"//to find the resistance inductance and the Q factor of the inductor\n",
"// example 8-8 in page 210\n",
"clc;\n",
"// given data\n",
"// it is a maxwell's induction bridge\n",
"C3=0.1e-6; R1=1.26e+3; R4=500; R3=75; // capacitance and resistor values in farad and ohm\n",
"f=100;// frequency =100 Hz\n",
"//calculation\n",
"printf('Lp=%d mH\n',C3*R1*R4*1000);// here Lp=C3*R1*R4\n",
"printf('Rp=%.1f K-ohm\n',R1*R4/(R3*1000));//here Rp=R1*R4/R3\n",
"printf('Q=%d',(R1*R4/R3)/(2*%pi*f*C3*R1*R4));// Q=Rs/(w*Lp)\n",
"//result\n",
"//Lp=63 mH\n",
"//Rp=8.4 K-ohm\n",
"//Q=212 "
   ]
   }
,
{
		   "cell_type": "markdown",
		   "metadata": {},
		   "source": [
			"## Example 8.9: find_the_inductance_and_resistance.sce"
		   ]
		  },
  {
"cell_type": "code",
	   "execution_count": null,
	   "metadata": {
	    "collapsed": true
	   },
	   "outputs": [],
"source": [
"// to find series equivalent inductance and resistance and find R1 and R3 for maxwell circuit\n",
"// example 8-9 in page 211\n",
"clc;\n",
"printf('part a,\n');\n",
"//Data Given\n",
"Lp=63e-3; Rp=8.4e+3; f=100;// the parallel inductance in henry and resistace in ohm with 100 hertz frequency \n",
"//calculation\n",
"Xp=2*%pi*f*Lp;//parallel inductive reactance in ohm\n",
"Rs=(Rp*Xp*Xp)/(Xp*Xp+Rp*Rp);// series resistance in ohm\n",
"printf('Rs=%.3f ohm\n',Rs);// equivalent series resistance in ohm\n",
"Xs=(Rp*Rp*Xp)/(Xp*Xp+Rp*Rp);// series inductive reactance in ohm\n",
"Ls=Xs/(2*%pi*f);// equivalent series inductance in henry\n",
"printf('Ls=%.0f mH\n',Ls*1000);\n",
"printf('part b,\n');\n",
"//Data given\n",
"C3=0.1e-6; R4=500; // capacitance in farad and resistance in ohm of maxwell bridge\n",
"//calculation\n",
"R1=Ls/(C3*R4);//resistance in ohm\n",
"printf('R3=%.2f M-ohm',(R1*R4)/(Rs*10^6));\n",
"printf('\nR1=%.2f K-ohm',R1/1000);\n",
"//result\n",
"//part a,\n",
"//Rs=0.187 ohm\n",
"//Ls=63 mH\n",
"//part b,\n",
"//R3=3.38 M-ohm\n",
"//R1=1.26 K-ohm "
   ]
   }
],
"metadata": {
		  "kernelspec": {
		   "display_name": "Scilab",
		   "language": "scilab",
		   "name": "scilab"
		  },
		  "language_info": {
		   "file_extension": ".sce",
		   "help_links": [
			{
			 "text": "MetaKernel Magics",
			 "url": "https://github.com/calysto/metakernel/blob/master/metakernel/magics/README.md"
			}
		   ],
		   "mimetype": "text/x-octave",
		   "name": "scilab",
		   "version": "0.7.1"
		  }
		 },
		 "nbformat": 4,
		 "nbformat_minor": 0
}
