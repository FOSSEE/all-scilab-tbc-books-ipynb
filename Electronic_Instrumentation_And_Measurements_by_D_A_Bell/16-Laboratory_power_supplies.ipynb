{
"cells": [
 {
		   "cell_type": "markdown",
	   "metadata": {},
	   "source": [
       "# Chapter 16: Laboratory power supplies"
	   ]
	},
{
		   "cell_type": "markdown",
		   "metadata": {},
		   "source": [
			"## Example 16.1: load_effects_and_line_regulation.sce"
		   ]
		  },
  {
"cell_type": "code",
	   "execution_count": null,
	   "metadata": {
	    "collapsed": true
	   },
	   "outputs": [],
"source": [
"//to find the source & load effects and load & line regulation\n",
"// example 16-1 in page 423\n",
"clc;\n",
"//Data Given\n",
"Es=[12 11.95]; // change in Dc power supply when ac drops by 10%\n",
"Eo=[12 11.9];// change in output voltage when load current goes from zero to  maximum\n",
"//calculation\n",
"printf('source effect=%d mV\n',(Es(1)-Es(2))*1000);\n",
"printf('line regulation=%.2f percent\n',(Es(1)-Es(2))*100/Es(1));\n",
"printf('load effect=%d mV\n',(Eo(1)-Eo(2))*1000);\n",
"printf('line regulation=%.2f percent\n',(Eo(1)-Eo(2))*100/Eo(1));\n",
"//result\n",
"//source effect=50 mV\n",
"//line regulation=0.42 percent\n",
"//load effect=99 mV\n",
"//line regulation=0.83 percent"
   ]
   }
,
{
		   "cell_type": "markdown",
		   "metadata": {},
		   "source": [
			"## Example 16.2: maximum_and_minimum_output_voltage.sce"
		   ]
		  },
  {
"cell_type": "code",
	   "execution_count": null,
	   "metadata": {
	    "collapsed": true
	   },
	   "outputs": [],
"source": [
"// to find the maximum and minimum output voltages in the fig 16-8(b)\n",
"// example 16-2 in page 428\n",
"clc;\n",
"//Data given\n",
"Vz=6; R=1000*[0 5.6 5.6 3];// zener voltage and the resistance values\n",
"A=['when the moving contact is at the bottom of R4' '0' '0' 'when the moving contact is at the top of R4'];\n",
"//calculation\n",
"for n=1:3:4\n",
"    I3=Vz/(R(3)+R(n));\n",
"    Eo=I3*sum(R);\n",
"    printf('%s,Eo=%.1f V\n',A(n),Eo);\n",
"end\n",
"//result\n",
"//when the moving contact is at the bottom of R4,Eo=15.2 V\n",
"//when the moving contact is at the top of R4,Eo=9.9 V"
   ]
   }
],
"metadata": {
		  "kernelspec": {
		   "display_name": "Scilab",
		   "language": "scilab",
		   "name": "scilab"
		  },
		  "language_info": {
		   "file_extension": ".sce",
		   "help_links": [
			{
			 "text": "MetaKernel Magics",
			 "url": "https://github.com/calysto/metakernel/blob/master/metakernel/magics/README.md"
			}
		   ],
		   "mimetype": "text/x-octave",
		   "name": "scilab",
		   "version": "0.7.1"
		  }
		 },
		 "nbformat": 4,
		 "nbformat_minor": 0
}
