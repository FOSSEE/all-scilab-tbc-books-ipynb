{
"cells": [
 {
		   "cell_type": "markdown",
	   "metadata": {},
	   "source": [
       "# Chapter 11: SPILLWAYS"
	   ]
	},
{
		   "cell_type": "markdown",
		   "metadata": {},
		   "source": [
			"## Example 11.1: EX11_1.sce"
		   ]
		  },
  {
"cell_type": "code",
	   "execution_count": null,
	   "metadata": {
	    "collapsed": true
	   },
	   "outputs": [],
"source": [
"\n",
"\n",
"//example 11.1\n",
"//calculate compute the dynamic force on curved section\n",
"clc;funcprot(0);\n",
"//given\n",
"h=1.2;         //head of water\n",
"Cd=2.2;        //coefficient of discharge\n",
"rho=1;         //density of water\n",
"gamma_w=9.81;  //unit weigth of water\n",
"\n",
"q=Cd*h^1.5;\n",
"\n",
"//applying bernaulli's equation at u/s water surface at section A and B\n",
"//solving it by error and trial method we get\n",
"v1=13.7;v2=14.7;\n",
"d1=0.212;d2=0.197;\n",
"\n",
"F1=gamma_w*d1^2*cosd(60)/2;\n",
"F2=gamma_w*d2^2/2;\n",
"W=gamma_w*60*2*%pi*3*((d1+d2)/2)/360;\n",
"Fx=rho*q*(v2-v1*cosd(60))-F1/2+F2;\n",
"Fy=rho*q*(v1*sind(60))+F1*sind(60)+W;\n",
"F=(Fx^2+Fy^2)^0.5;\n",
"F=round(F*100)/100;\n",
"mprintf('Resultant force=%f kN/m.',F);"
   ]
   }
,
{
		   "cell_type": "markdown",
		   "metadata": {},
		   "source": [
			"## Example 11.2: EX11_2.sce"
		   ]
		  },
  {
"cell_type": "code",
	   "execution_count": null,
	   "metadata": {
	    "collapsed": true
	   },
	   "outputs": [],
"source": [
"\n",
"\n",
"//example 11.2\n",
"//calculate discharge over oggy weir\n",
"clc;funcprot(0);\n",
"//given\n",
"C=2.4;          //coefficient of discharge\n",
"H=2;            //head\n",
"L=100;          //length of spillway\n",
"wc=8;           //heigth of weir crest above bottom\n",
"g=9.81;         //acceleration due to gravity\n",
"h=H+wc;\n",
"Q1=C*L*H^(1.5); //neglecting approach velocity and end contractions\n",
"va=Q1/(h*L);\n",
"ha=va^2/(2*g);\n",
"Ha=ha+H;\n",
"Q=C*L*Ha^1.5;\n",
"Q=round(Q*10)/10;\n",
"mprintf('discharge over oggy weir=%f cumecs.',Q);"
   ]
   }
,
{
		   "cell_type": "markdown",
		   "metadata": {},
		   "source": [
			"## Example 11.3: EX11_3.sce"
		   ]
		  },
  {
"cell_type": "code",
	   "execution_count": null,
	   "metadata": {
	    "collapsed": true
	   },
	   "outputs": [],
"source": [
"\n",
"\n",
"//example 11.3\n",
"//calculate\n",
"//capacity of siphon\n",
"//head required in oggy spillway\n",
"//length of oggy weir required\n",
"clc;funcprot(0);\n",
"//given\n",
"t=6;          //tail water elevation\n",
"h=1;          //heigth of siphon spillway\n",
"w=4;          //width of siphon spillway\n",
"hw=1.5;       //head water elevation\n",
"C=0.6;        //coefficient of discharge\n",
"Co=2.25;      //coefficient of discharge of oggy spillway\n",
"lo=4;         //length of oggy spillway\n",
"hc=1.5;       //head on weir crest\n",
"g=9.81;       //acceleration due to gravity\n",
"\n",
"//part (a)\n",
"Q=C*h*w*(2*g*(t+hw))^0.5;\n",
"Q=round(Q*10)/10;\n",
"mprintf('capacity of siphon=%f cumecs.',Q);\n",
"\n",
"//part (b)\n",
"h1=(Q/(Co*lo))^(2/3);\n",
"h1=round(h1*100)/100;\n",
"mprintf('\nhead required in oggy spillway=%f m',h1);\n",
"\n",
"//part (c)\n",
"L=Q/(Co*(hc)^1.5);\n",
"L=round(L*100)/100;\n",
"mprintf('\nlength of oggy weir required=%f m.',L);"
   ]
   }
,
{
		   "cell_type": "markdown",
		   "metadata": {},
		   "source": [
			"## Example 11.4: EX11_4.sce"
		   ]
		  },
  {
"cell_type": "code",
	   "execution_count": null,
	   "metadata": {
	    "collapsed": true
	   },
	   "outputs": [],
"source": [
"\n",
"\n",
"//example 11.4\n",
"//calculate number of siphons units required\n",
"clc;funcprot(0);\n",
"//given\n",
"rl=435;         //full reservior level\n",
"cl=429.6;       //level of centre of siphon\n",
"hfl=435.85;     //high flood level\n",
"hfd=600;        //high flood discharge\n",
"w=4;            //width of throat\n",
"h=2;            //heigth of throat\n",
"C=0.65;         //coefficient of discharge\n",
"g=9.81;       //acceleration due to gravity\n",
"\n",
"H=hfl-cl;\n",
"Q=C*w*h*(2*g*H)^0.5;\n",
"n=hfd/Q;\n",
"n=round(n*100)/100;\n",
"mprintf(' number of siphons units required=%f.\nhence provide 11 siphons units.',n);"
   ]
   }
,
{
		   "cell_type": "markdown",
		   "metadata": {},
		   "source": [
			"## Example 11.5: EX11_5.sce"
		   ]
		  },
  {
"cell_type": "code",
	   "execution_count": null,
	   "metadata": {
	    "collapsed": true
	   },
	   "outputs": [],
"source": [
"\n",
"\n",
"//example 11.5\n",
"//design oggy spillway for concrete gravity dam\n",
"clc;funcprot(0);\n",
"//given\n",
"rbl=250;        //avarage river bed level\n",
"rlc=350;        //R.L of spillway crest\n",
"s=0.75;         //slope on downstream side\n",
"Q=6500;         //discharge\n",
"L=5*9;          //length of spillway\n",
"Cd=2.2;         //coefficient of discharge\n",
"t=2;            //thickness of each pier\n",
"\n",
"//step 1. computation of design head\n",
"H=(Q/(Cd*L))^(2/3);\n",
"P=rlc-rbl;\n",
"\n",
"//P/H=6.15,which is<1.33;it is a high overflow spillway\n",
"\n",
"//H+P/H=7.15>1.7; hence discharge coefficient is not affected by downstream apron interface\n",
"\n",
"Kp=0.01;Ka=0.1;N=4;\n",
"He=17.5;                //assumed\n",
"Le=L-2*(N*Kp+Ka)*He;\n",
"He1=(Q/(Cd*Le))^(2/3);\n",
"He1=round(He1*100)/100;\n",
"//He1 is almost equal to He\n",
"mprintf('crest profile will be designed for Hd=%f m.',He1);\n",
"\n",
"//step 2. determination of d/s profile\n",
"\n",
"//equating the slope of d/s side and derivative of profile equation suggested by WES\n",
"x=27.03;\n",
"y=0.04372*x^1.85;\n",
"mprintf('\n\ndownstream profile:');\n",
"x=[1:1:26]\n",
"for i=1:26\n",
"    y(i)=0.04372*x(i)^1.85;\n",
"    y(i)=round(y(i)*1000)/1000;\n",
"end\n",
"mprintf('\nx          y');\n",
"for i=1:26\n",
"    mprintf('\n%i          %f',x(i),y(i));\n",
"end\n",
"mprintf('\n27.03          19.48');\n",
"\n",
"\n",
"//step 3. determination of u/s profile\n",
"// cosidering equation for vertical u/s face and Hd=17.58\n",
"\n",
"mprintf('\n\nupstream profile:');\n",
"x=[-0.5 -0.1 -1.5 -2.0 -3.0 -4.0 -4.75];\n",
"for i=1:7\n",
"    y(i)=0.0633*(x(i)+4.7466)^1.85+2.2151-1.2643*(x(i)+4.7466)^0.625;\n",
"    y(i)=round(y(i)*1000)/1000;\n",
"end\n",
"mprintf('\nx                    y');\n",
"for i=1:7\n",
"    mprintf('\n%f          %f',x(i),y(i));\n",
"end\n",
"\n",
"//step 4.design of d/s bucket\n",
"\n",
"R=P/4;\n",
"mprintf('\n\nradius of bucket=%i m.',R);\n",
"mprintf('\nbucket will subtend angle of 60 degree at the centre.');"
   ]
   }
,
{
		   "cell_type": "markdown",
		   "metadata": {},
		   "source": [
			"## Example 11.6: EX11_6.sce"
		   ]
		  },
  {
"cell_type": "code",
	   "execution_count": null,
	   "metadata": {
	    "collapsed": true
	   },
	   "outputs": [],
"source": [
"\n",
"\n",
"//example 11.6\n",
"//design length and depth of stilling basin\n",
"clc;funcprot(0);\n",
"//given\n",
"q=1;           //discharge of spillway\n",
"Cd=0.7;        //coefficient of discharge\n",
"h1=10;          //heigth of crest above downstream silting basin\n",
"g=9.81;           //acceleration due to gravity\n",
"Cv=0.9;          //coefficient of velocity\n",
"\n",
"h=(3*q/(2*Cd*(2*g)^0.5))^(2/3);\n",
"H=h1+h/2;\n",
"vt=(2*g*H)^0.5;\n",
"v1=Cv*vt;\n",
"y1=q/v1;\n",
"F1=v1/(g*y1)^0.5;\n",
"//F>1, flow is super-critical\n",
"y2=1;\n",
"v2=q/y2;\n",
"F2=v2/(g*y2)^0.5;           //<1\n",
"y2=(y1/2)*((1+8*F1^2)^0.5-1);\n",
"de=y2-1;\n",
"le=5*(y2-y1);\n",
"de=round(de*1000)/1000;\n",
"le=round(le*10)/10;\n",
"mprintf('stilling basin should be depressed by %f m.',de);\n",
"mprintf('\nlength of stilling basin=%f m.',le);\n",
"\n",
""
   ]
   }
,
{
		   "cell_type": "markdown",
		   "metadata": {},
		   "source": [
			"## Example 11.7: EX11_7.sce"
		   ]
		  },
  {
"cell_type": "code",
	   "execution_count": null,
	   "metadata": {
	    "collapsed": true
	   },
	   "outputs": [],
"source": [
"\n",
"\n",
"//example 11.7\n",
"//calculate leading dimension of hydraulic jump stilling basin\n",
"clc;funcprot(0);\n",
"//given\n",
"q=7.83;        //discharge through spillway\n",
"w=12.5;        //width of fall\n",
"d=2;           //depth of water in downstream\n",
"g=9.8;\n",
"\n",
"y1=0.5;\n",
"v1=q/y1;\n",
"F1=v1/(g*y1)^0.5;\n",
"\n",
"//F>1,flow is super-critical\n",
"v2=q/d;\n",
"F2=v2/(g*d)^0.5;\n",
"y2=(y1/2)*((1+8*F1^2)^0.5-1);\n",
"de=y2-d;\n",
"le=5*(y2-y1);\n",
"de=round(de*100)/100;\n",
"le=round(le*10)/10;\n",
"mprintf('stilling basin should be depressed by %f m.',de);\n",
"mprintf('\nlength of stilling basin=%f m.',le); "
   ]
   }
,
{
		   "cell_type": "markdown",
		   "metadata": {},
		   "source": [
			"## Example 11.8: EX11_8.sce"
		   ]
		  },
  {
"cell_type": "code",
	   "execution_count": null,
	   "metadata": {
	    "collapsed": true
	   },
	   "outputs": [],
"source": [
"\n",
"\n",
"//example 11.8\n",
"//calculate force to be exerted to lift the gate\n",
"clc;funcprot(0);\n",
"//given\n",
"Ag=5*2.5;          //area of gate\n",
"miu=0.25;         //coefficient of friction\n",
"w=0.5;            //weigth of gate\n",
"h=2;              //head of water over crest\n",
"g=9.81;           //acceleration due to gravity\n",
"gamma_w=1000;     //unit weigth of water\n",
"\n",
"m=w*g*1000;\n",
"F=gamma_w*Ag*h*h*g/10;\n",
"ff=miu*F;\n",
"tf=(m+ff)/1000;\n",
"mprintf('force to be exerted to lift the gate=%f kN.',tf);\n",
""
   ]
   }
,
{
		   "cell_type": "markdown",
		   "metadata": {},
		   "source": [
			"## Example 11.9: EX11_9.sce"
		   ]
		  },
  {
"cell_type": "code",
	   "execution_count": null,
	   "metadata": {
	    "collapsed": true
	   },
	   "outputs": [],
"source": [
"\n",
"\n",
"//example 11.9\n",
"//calculate depth of flow at both end of jumps\n",
"clc;funcprot(0);\n",
"//given\n",
"q=19;        //dischrge through spillway\n",
"E=1;         //energy loss\n",
"\n",
"//from energy loss equation;E=(y2-y1)^3/4y2y1; and solving it we get\n",
"//x=0.5*(-1+(1+294.39*(x-1)^9/64*x^3))\n",
"//by trial and error method x=2.806\n",
"x=2.806;\n",
"y1=4*x/(x-1)^3;\n",
"y2=x*y1;\n",
"y1=round(y1*1000)/1000;\n",
"y2=round(y2*1000)/1000;\n",
"mprintf('depth of flow at both end of jumps=%f m and %f m. respectively.',y1,y2);\n",
""
   ]
   }
],
"metadata": {
		  "kernelspec": {
		   "display_name": "Scilab",
		   "language": "scilab",
		   "name": "scilab"
		  },
		  "language_info": {
		   "file_extension": ".sce",
		   "help_links": [
			{
			 "text": "MetaKernel Magics",
			 "url": "https://github.com/calysto/metakernel/blob/master/metakernel/magics/README.md"
			}
		   ],
		   "mimetype": "text/x-octave",
		   "name": "scilab",
		   "version": "0.7.1"
		  }
		 },
		 "nbformat": 4,
		 "nbformat_minor": 0
}
