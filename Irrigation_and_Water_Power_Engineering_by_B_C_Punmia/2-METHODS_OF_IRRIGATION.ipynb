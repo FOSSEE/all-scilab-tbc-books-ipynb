{
"cells": [
 {
		   "cell_type": "markdown",
	   "metadata": {},
	   "source": [
       "# Chapter 2: METHODS OF IRRIGATION"
	   ]
	},
{
		   "cell_type": "markdown",
		   "metadata": {},
		   "source": [
			"## Example 2.1: EX2_1.sce"
		   ]
		  },
  {
"cell_type": "code",
	   "execution_count": null,
	   "metadata": {
	    "collapsed": true
	   },
	   "outputs": [],
"source": [
"\n",
"\n",
"//example 2.1\n",
"//calculate time required to cover 0.1 hectare area by tubewell\n",
"clc;\n",
"//Given\n",
"Q=0.0108,   //discharge through well\n",
"y=0.075,   //average depth of flow\n",
"I=0.05,   //average infiltration rate\n",
"A=0.1,   //area to cover\n",
"t=(60*2.303*y*log10(Q/(Q-I*A)))/I,\n",
"t=round(t);\n",
"mprintf('Time required to cover given area=%f minutes.',t);"
   ]
   }
,
{
		   "cell_type": "markdown",
		   "metadata": {},
		   "source": [
			"## Example 2.2: EX2_2.sce"
		   ]
		  },
  {
"cell_type": "code",
	   "execution_count": null,
	   "metadata": {
	    "collapsed": true
	   },
	   "outputs": [],
"source": [
"\n",
"\n",
"//example 2.2\n",
"//calculate maximum area that can be irrigated\n",
"clc;\n",
"//Given\n",
"Q=0.0108,   //discharge through well\n",
"y=0.075,   //average depth of flow\n",
"I=0.05,   //average infiltration rate\n",
"A=0.1,   //area to cover\n",
"Amax=Q/I;\n",
"mprintf('Maximum area that can be irrigated =%f hectare.',Amax);"
   ]
   }
,
{
		   "cell_type": "markdown",
		   "metadata": {},
		   "source": [
			"## Example 2.3: EX2_3.sce"
		   ]
		  },
  {
"cell_type": "code",
	   "execution_count": null,
	   "metadata": {
	    "collapsed": true
	   },
	   "outputs": [],
"source": [
"//example 2.3            \n",
"\n",
"//calculate \n",
"//time of water application\n",
"//optimum length of each border strip\n",
"//dischrge for each border strip\n",
"\n",
"clc;\n",
"//Given\n",
"d=0.05;//depth of root zone\n",
"I=1.25D-5;//average infiltration rate\n",
"s=0.0035//slope of border strip\n",
"t=d/(I*3600);\n",
"t=round(t*1000)/1000;\n",
"mprintf('Time of water application=%f hours.',t);\n",
"\n",
"//Part (a)\n",
"q=2D-3;//discharge entering water source\n",
"qdash=q*100^2*60;\n",
"n=0.55425-(0.0001386*qdash);\n",
"yo=(n*q/(s^0.5))^0.6;\n",
"y=0.665*yo;\n",
"L=(q/I)*(1-%e^(-d/y));\n",
"L=round(10*L)/10;\n",
"mprintf('\nPart (a):');\n",
"mprintf('\nOptimum length of each border strip=%f m.',L);\n",
"\n",
"//Part (b)\n",
"Lgiven=150//given value of length\n",
"//First Trial\n",
"q=3D-3;\n",
"qdash=q*100^2*60;\n",
"n=0.55425-(0.0001386*qdash);\n",
"yo=(n*q/(s^0.5))^0.6;\n",
"y=0.665*yo;\n",
"L=(q/I)*(1-%e^(-d/y));\n",
"//second trial\n",
"q=3.15D-3;\n",
"qdash=q*100^2*60;\n",
"n=0.55425-(0.0001386*qdash);\n",
"yo=(n*q/(s^0.5))^0.6;\n",
"y=0.665*yo;\n",
"L=(q/I)*(1-%e^(-d/y));\n",
"q=9*Lgiven*q*1000/L;\n",
"q=round(q*10)/10;\n",
"mprintf('\nPart (b):');\n",
"mprintf('\nDischarge for each border strip=%f lps.',q);"
   ]
   }
,
{
		   "cell_type": "markdown",
		   "metadata": {},
		   "source": [
			"## Example 2.4: EX2_4.sce"
		   ]
		  },
  {
"cell_type": "code",
	   "execution_count": null,
	   "metadata": {
	    "collapsed": true
	   },
	   "outputs": [],
"source": [
"\n",
"\n",
"//example 2.4\n",
"//calculate \n",
"//deep percolation loss\n",
"//water application efficiency and time of irrigation.\n",
"\n",
"clc;\n",
"//Given\n",
"B=12;//breadth of basin\n",
"L=36//length of basin\n",
"d=70//depth of irrigation\n",
"Ic=70//cumulative infiltration\n",
"kdash=9;\n",
"ndash=0.42;\n",
"//Part (a) \n",
"a=5;\n",
"b=0.6;\n",
"q=1.5;//stream size\n",
"Q=(q*B)/1000;\n",
"tl=(L/a)^(1/b);\n",
"td=(Ic/kdash)^(1/ndash);\n",
"T=tl+td;\n",
"p=(1-(td/T)^(ndash))*100;\n",
"eita=(1-p/100)*100;\n",
"Tdash=(d*L*B)/(10*eita*Q*60);\n",
"p=round(p*100)/100;\n",
"eita=round(eita*100)/100;\n",
"Tdash=round(Tdash*10)/10;\n",
"mprintf('Part (a):')\n",
"mprintf('\nDeep percolation loss= %f percent.',p);\n",
"mprintf('\nWater application efficiency= %f percent.',eita);\n",
"mprintf('\nTime of irrigation= %f minutes.',Tdash);\n",
"//part (b)\n",
"a=8;\n",
"b=0.6;\n",
"q=3;\n",
"Q=(q*B)/1000;\n",
"tl=(L/a)^(1/b);\n",
"td=(Ic/kdash)^(1/ndash);\n",
"T=tl+td;\n",
"p=(1-(td/T)^(ndash))*100;\n",
"eita=(1-p/100)*100;\n",
"Tdash=(d*L*B)/(10*eita*Q*60);\n",
"p=round(p*100)/100;\n",
"eita=round(eita*100)/100;\n",
"Tdash=round(Tdash*10)/10;\n",
"mprintf('\nPart (b):')\n",
"mprintf('\nDeep percolation loss= %f percent.',p);\n",
"mprintf('\nWater application efficiency= %f percent.',eita);\n",
"mprintf('\nTime of irrigation= %f minutes.',Tdash);"
   ]
   }
,
{
		   "cell_type": "markdown",
		   "metadata": {},
		   "source": [
			"## Example 2.5: EX2_5.sce"
		   ]
		  },
  {
"cell_type": "code",
	   "execution_count": null,
	   "metadata": {
	    "collapsed": true
	   },
	   "outputs": [],
"source": [
"//example 2.5\n",
"//calculate \n",
"//size of cut-back stream.\n",
"//time required for putting 37.5 mm depth of water\n",
"//average depth of water applied\n",
"\n",
"clc;\n",
"//given\n",
"d=37.5//crop water requirement\n",
"W=1//furrow spacing\n",
"L=120//length of furrow\n",
"n=-0.49;\n",
"k=38;\n",
"Ttotal=143;//Total time of irrigation\n",
"A=[0 23 52 88 127]//given values of time of advance\n",
"\n",
"for i=1:5//loop to find respective values of time of ponding\n",
"    B(i)=143-A(i);\n",
"end\n",
"\n",
"\n",
"for j=1:5//loop to find respective furrow infiltration\n",
"    C(j)=B(j)^(n)*k;\n",
"end\n",
"\n",
"\n",
"for K=1:4//loop to find respective average infiltration\n",
"   \n",
"   D(K)=(C(K)+C(K+1))/2;\n",
"end\n",
"\n",
"E(1)=D(1);\n",
"for l=2:4//loop to determine cumulative infiltration\n",
"    E(l)=D(l)+E(l-1);\n",
"end\n",
"I=E(4);\n",
"\n",
"T=(30*d*W*(n+1)/k)^(1/(n+1));\n",
"dav=((24.5*Ttotal)+(I*(T-Ttotal)))/L;\n",
"q=((120*37.5)-(24.5*143))/62;\n",
"T=round(T);\n",
"dav=round(dav*10)/10;\n",
"q=round(q*100)/100;\n",
"I=round(I*100)/100;\n",
"mprintf('Maximum size of cut-back stream=%f lpm.',I);\n",
"mprintf('\nMinimum size of cut-back stream=%f lpm.',q);\n",
"mprintf('\nTime required for putting 37.5mm depth of water=%f minutes.',T);\n",
"mprintf('\nAverage depth of water required=%f mm.',dav);"
   ]
   }
,
{
		   "cell_type": "markdown",
		   "metadata": {},
		   "source": [
			"## Example 2.6: EX2_6.sce"
		   ]
		  },
  {
"cell_type": "code",
	   "execution_count": null,
	   "metadata": {
	    "collapsed": true
	   },
	   "outputs": [],
"source": [
"\n",
"//example 2.6\n",
"//calculate Average depth of water applied\n",
"clc;\n",
"//Given\n",
"L=100;//length of furrow\n",
"W=1;//furrow spacing\n",
"s=0.3//longitudnal slope of furrow\n",
"t1=80//initial time flow of  stream\n",
"t2=35//final time flow of stream\n",
"qm=0.6/s;\n",
"q=qm*0.4;\n",
"dav=((q*t2*60)+(2*t1*60))/100;\n",
"mprintf('Average depth of water applied=%f mm.',dav);"
   ]
   }
,
{
		   "cell_type": "markdown",
		   "metadata": {},
		   "source": [
			"## Example 2.7: EX2_7.sce"
		   ]
		  },
  {
"cell_type": "code",
	   "execution_count": null,
	   "metadata": {
	    "collapsed": true
	   },
	   "outputs": [],
"source": [
"\n",
"\n",
"//example 2.7\n",
"//calculate \n",
"//time required to irrigate\n",
"//maximum area that can be irrigated\n",
"clc;\n",
"//Given\n",
"Q=0.0072;//discharge through well\n",
"y=0.1;//average depth of flow\n",
"I=0.05//infiltration capacity of soil\n",
"A=0.04//area of land\n",
"t=(2.303*y*60/I)*log10(Q/(Q-I*A));\n",
"Amax=Q/I;\n",
"t=round(t*100)/100;\n",
"mprintf('Time required to irrigate=%f minutes.',t);\n",
"mprintf('\nMaximum area that can be irrigated=%f ha.',Amax);"
   ]
   }
],
"metadata": {
		  "kernelspec": {
		   "display_name": "Scilab",
		   "language": "scilab",
		   "name": "scilab"
		  },
		  "language_info": {
		   "file_extension": ".sce",
		   "help_links": [
			{
			 "text": "MetaKernel Magics",
			 "url": "https://github.com/calysto/metakernel/blob/master/metakernel/magics/README.md"
			}
		   ],
		   "mimetype": "text/x-octave",
		   "name": "scilab",
		   "version": "0.7.1"
		  }
		 },
		 "nbformat": 4,
		 "nbformat_minor": 0
}
