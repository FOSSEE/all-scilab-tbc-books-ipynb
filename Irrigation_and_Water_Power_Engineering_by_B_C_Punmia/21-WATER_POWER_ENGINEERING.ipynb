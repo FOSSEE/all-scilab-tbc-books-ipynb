{
"cells": [
 {
		   "cell_type": "markdown",
	   "metadata": {},
	   "source": [
       "# Chapter 21: WATER POWER ENGINEERING"
	   ]
	},
{
		   "cell_type": "markdown",
		   "metadata": {},
		   "source": [
			"## Example 21.1: EX21_1.sce"
		   ]
		  },
  {
"cell_type": "code",
	   "execution_count": null,
	   "metadata": {
	    "collapsed": true
	   },
	   "outputs": [],
"source": [
"\n",
"\n",
"//example 21.1\n",
"//calculate\n",
"//total installed capacity\n",
"//load factor\n",
"//plant factor\n",
"//utilization factor\n",
"clc;funcprot(0);\n",
"//given\n",
"c=10000;               //capacity of each generator;\n",
"n=3;                //number of generator\n",
"l1=12000;            //initial load on plant\n",
"l2=26000;            //final load on plant\n",
"\n",
"tc=n*c;\n",
"mprintf('Total installed capacity=%i kW.',tc);\n",
"\n",
"avg=(l1+l2)/2;       //average load\n",
"pk=l2;               //peak load\n",
"lf=avg*100/pk;\n",
"lf=round(lf*10)/10;\n",
"mprintf('\nload factor=%f percent.',lf);\n",
"\n",
"//take any time duration t hours\n",
"pf=avg*100/tc;\n",
"pf=round(pf*10)/10;\n",
"mprintf('\nplant factor=%f percent.',pf);\n",
"\n",
"uf=pk*100/tc;\n",
"uf=round(uf*10)/10;\n",
"mprintf('\nutilization ratio=%f percent.',uf);"
   ]
   }
,
{
		   "cell_type": "markdown",
		   "metadata": {},
		   "source": [
			"## Example 21.2: EX21_2.sce"
		   ]
		  },
  {
"cell_type": "code",
	   "execution_count": null,
	   "metadata": {
	    "collapsed": true
	   },
	   "outputs": [],
"source": [
"\n",
"\n",
"//example 21.2\n",
"//calculate maximum generation capacity of generator\n",
"//pondage to be provided\n",
"clc;funcprot(0);\n",
"//given\n",
"Q=40;         // minimum flow in river\n",
"H=30;         //net head\n",
"lf=0.73;       //load factor\n",
"eita=0.6;     //plant efficiency\n",
"\n",
"P=9.81*Q*H*eita;\n",
"pk=P/lf;\n",
"pk=round(pk*10)/10;\n",
"mprintf('maximum generation capacity of generator=%f kW.',pk);\n",
"\n",
"pp=pk-P;           //power develop from pondage\n",
"Q=pp/(9.81*H*eita);\n",
"pr=Q*4*3600/10000;\n",
"pr=round(pr*10)/10;\n",
"mprintf('\nPondage required=%fD+4 cubic metre.',pr);"
   ]
   }
,
{
		   "cell_type": "markdown",
		   "metadata": {},
		   "source": [
			"## Example 21.3: EX21_3.sce"
		   ]
		  },
  {
"cell_type": "code",
	   "execution_count": null,
	   "metadata": {
	    "collapsed": true
	   },
	   "outputs": [],
"source": [
"\n",
"\n",
"//example 21.3\n",
"//calculate minimum discharge required in the stream\n",
"//maximum load factor\n",
"clc;funcprot(0);\n",
"//given\n",
"c=15000;            //installed capacity of plant\n",
"lf=0.3;             //load factor\n",
"eita=0.82;         //plant efficiency\n",
"H=25;              //working head\n",
"\n",
"avg=c*lf;        //average power developed\n",
"Q=avg/(9.81*H*eita);\n",
"Q=round(Q*100)/100;\n",
"mprintf('minimum discharge required in the stream=%f cumecs.',Q);\n",
"\n",
"Q=32;         //for second case\n",
"P=9.81*H*Q*eita;\n",
"lf=P*100/c;\n",
"lf=round(lf*10)/10;\n",
"mprintf('\nmaximum load factor=%f percent.',lf);"
   ]
   }
],
"metadata": {
		  "kernelspec": {
		   "display_name": "Scilab",
		   "language": "scilab",
		   "name": "scilab"
		  },
		  "language_info": {
		   "file_extension": ".sce",
		   "help_links": [
			{
			 "text": "MetaKernel Magics",
			 "url": "https://github.com/calysto/metakernel/blob/master/metakernel/magics/README.md"
			}
		   ],
		   "mimetype": "text/x-octave",
		   "name": "scilab",
		   "version": "0.7.1"
		  }
		 },
		 "nbformat": 4,
		 "nbformat_minor": 0
}
