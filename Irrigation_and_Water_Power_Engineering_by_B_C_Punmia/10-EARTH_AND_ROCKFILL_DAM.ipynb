{
"cells": [
 {
		   "cell_type": "markdown",
	   "metadata": {},
	   "source": [
       "# Chapter 10: EARTH AND ROCKFILL DAM"
	   ]
	},
{
		   "cell_type": "markdown",
		   "metadata": {},
		   "source": [
			"## Example 10.1: EX10_1.sce"
		   ]
		  },
  {
"cell_type": "code",
	   "execution_count": null,
	   "metadata": {
	    "collapsed": true
	   },
	   "outputs": [],
"source": [
"\n",
"\n",
"//example 10.1\n",
"//calculate seepage flow per unit length of dam\n",
"clc;funcprot(0);\n",
"//given\n",
"K=5D-4;             //coefficient of permeability of soil\n",
"Bt=6;               //width of top of dam\n",
"wb=146;             //width of base of dam\n",
"H=20;               //heigth of dam\n",
"hw=2;               //heigth of water in reservior\n",
"hs1=4;              //slope on upstream side\n",
"hs2=3;              //slope on downstream side\n",
"df=30;              //length of drainage filter\n",
"\n",
"x=wb-df-72+72*0.3;\n",
"y=18;\n",
"s=(x^2+y^2)^0.5-x;\n",
"\n",
"x=[0 10 20 30 40 50 60 65.6];\n",
"for i=1:8\n",
"    y(i)=(4.849*x(i)+5.879)^0.5;\n",
"    y(i)=round(y(i)*1000)/1000;\n",
"end\n",
"\n",
"mprintf('\nx                       y');\n",
"for i=1:8\n",
"    mprintf('\n%f          %f',x(i),y(i));\n",
"end\n",
"\n",
"sf=K*s*10000;\n",
"sf=round(sf*1000)/1000;\n",
"mprintf('\nSeepage flow per unit length of dam=%fD-6 cumecs/metre length of dam.',sf);"
   ]
   }
,
{
		   "cell_type": "markdown",
		   "metadata": {},
		   "source": [
			"## Example 10.2: EX10_2.sce"
		   ]
		  },
  {
"cell_type": "code",
	   "execution_count": null,
	   "metadata": {
	    "collapsed": true
	   },
	   "outputs": [],
"source": [
"\n",
"\n",
"//example 10.2\n",
"//calculate discharge per meter length of dam\n",
"clc;funcprot(0);\n",
"//given\n",
"K=3D-3;            //coefficient of permeability\n",
"nd=25;              //number of potential drops\n",
"nf=4;              //number of flow channels\n",
"lf=40;             //filter length\n",
"H=52;              //heigth of dam\n",
"fb=2;              //free board\n",
"\n",
"q=K*(H-fb)*nf/(nd*100);\n",
"mprintf('Discharge per meter length of dam=%f cumec/metre length.',q);\n",
""
   ]
   }
,
{
		   "cell_type": "markdown",
		   "metadata": {},
		   "source": [
			"## Example 10.3: EX10_3.sce"
		   ]
		  },
  {
"cell_type": "code",
	   "execution_count": null,
	   "metadata": {
	    "collapsed": true
	   },
	   "outputs": [],
"source": [
"\n",
"\n",
"//example10.3\n",
"//calculate factor of safety for slope\n",
"clc;funcprot(0);\n",
"//given\n",
"x=4;            //given scale\n",
"An=14.4;       //area of N rectangle\n",
"At=6.4;        //area of T rectangle\n",
"Au=4.9;        //area of U rectangle\n",
"L=12.6;        //length of arc;\n",
"gamma_m=19;    //unit weigth of soil\n",
"gamma_w=9.81;  //unit weigth of water\n",
"fi=26;         //effective angle(degree)\n",
"co=19.5;       //cohesion value\n",
"\n",
"//consider 1m length of dam\n",
"SumN=An*x^2*gamma_m;\n",
"SumT=At*x^2*gamma_m;\n",
"SumU=Au*x^2*gamma_w;\n",
"Le=x*L;\n",
"F=((Le*co)+(SumN-SumU)*tand(fi))/SumT;\n",
"F=round(F*100)/100;\n",
"mprintf('Factor of safety for slope=%f.',F);\n",
""
   ]
   }
,
{
		   "cell_type": "markdown",
		   "metadata": {},
		   "source": [
			"## Example 10.4: EX10_4.sce"
		   ]
		  },
  {
"cell_type": "code",
	   "execution_count": null,
	   "metadata": {
	    "collapsed": true
	   },
	   "outputs": [],
"source": [
"\n",
"\n",
"//example 10.4\n",
"//check section for:\n",
"//Stability of d/s slope against steady seepage\n",
"//Sloughing of u/s slope against sudden drawdown\n",
"//Stability of the foundation against shear\n",
"//Seepage through body of dam\n",
"clc;funcprot(0);\n",
"//given\n",
"//Dimensions\n",
"H=20;            //Heigth of dam\n",
"Bt=6;            //top width of dam\n",
"s1=4;            //u/s slope\n",
"s2=3;            //d/s slope\n",
"fb=2;            //free board\n",
"//Properties of materials of dam\n",
"gamma_d=17.27;       //dry density\n",
"wc=0.15;             //optimum water content\n",
"gamma_s=21.19;       //saturated density\n",
"gamma_w=9.81;        //unit weigth of water\n",
"wavg=19.62;          //average unit weigth under seepage\n",
"theta=26;            //average angle of internal friction(degree)\n",
"co=19.13;            //average cohesion\n",
"K=5D-4;              //coefficient of permeability\n",
"//properties of foundation materials\n",
"gamma_f=17.27;      //average unit weigth\n",
"cof=47.87;          //average cohesion\n",
"fi=8;               //average angle internal friction\n",
"t=6;                //thickness of clay\n",
"FOSp=1.5;           //permissible factor of safety of slope\n",
"PS=8D-6;            //permissible seepage\n",
"\n",
"\n",
"//(a) Stability of d/s slope against steady seepage\n",
"An=302.4;            //area of N diagram\n",
"At=91.2;             //area  of T diagram\n",
"Au=98.4;             //area of U diagram\n",
"Le=60;               //length of arc\n",
"SumN=An*gamma_s;\n",
"SumT=At*gamma_s;\n",
"SumU=Au*gamma_w;\n",
"F=((Le*co)+(SumN-SumU)*tand(theta))/SumT;\n",
"F=round(F*100)/100;\n",
"mprintf('Part(a):')\n",
"mprintf('\nFactor of safety for slope=%f.',F);\n",
"mprintf('\nSafe');\n",
"\n",
"//(b) Sloughing of u/s slope against sudden drawdown\n",
"h1=15;\n",
"b=80;\n",
"P=gamma_s*H^2*tand(45-(theta/2))^2/2+gamma_w*h1^2/2;\n",
"sav=P/b;\n",
"smax=2*sav;\n",
"Ne=(gamma_s-gamma_w)*b*H/2;\n",
"R=Ne*tand(theta)+co*b;\n",
"fs=R/P;\n",
"fs=round(fs*100)/100;\n",
"mprintf('\n\nPart(b):')\n",
"mprintf('\nFactor of safety w.r.t average shear=%f.',fs);\n",
"mprintf('\nSafe');\n",
"sr=0.6*H*(gamma_s-gamma_w)*tand(theta)+co;\n",
"FS=sr/smax;\n",
"FS=round(FS*100)/100;\n",
"mprintf('\n\nFactor of safety w.r.t maximum shear=%f.',FS);\n",
"mprintf('\nSafe');\n",
"\n",
"//(c) Stability of the foundation against shear\n",
"h1=26;\n",
"h2=6;\n",
"gamma_m=(wavg*(h1-h2)+gamma_f*h2)/h1;\n",
"l=(gamma_m*h1*tand(fi)+cof)/(gamma_m*h1);\n",
"fi1=atand(l);\n",
"P=(h1^2-h2^2)/2*gamma_m*tand(45-(fi1/2))^2;\n",
"sav=P/b;\n",
"smax=2*sav;\n",
"s1=cof+gamma_f*h2*tand(fi);\n",
"s2=cof+gamma_m*h1*tand(fi);\n",
"as=(s1+s2)/2;\n",
"fs=as/sav;\n",
"fs=round(fs*100)/100;\n",
"mprintf('\n\nPart(c):')\n",
"mprintf('\nFactor of safety w.r.t overall shear=%f.',fs);\n",
"mprintf('\nSafe');\n",
"\n",
"gamma_av=(wavg*0.6*H+gamma_f*h2)/((0.6*H)+h2);\n",
"s=cof+gamma_av*0.6*H*tand(fi);\n",
"fs=s/smax;\n",
"fs=round(fs*100)/100;\n",
"mprintf('\n\nFactor of safety w.r.t overall shear=%f.',fs);\n",
"mprintf('\nUnsafe');\n",
"\n",
"//(d) Seepage through body of dam\n",
"s=2;     //measured\n",
"q=K*s*100000/100;\n",
"mprintf('\n\nPart(d):')\n",
"mprintf('\n Seepage through body of dam=%fD-5 cumecs/m length of dam',q);\n",
""
   ]
   }
,
{
		   "cell_type": "markdown",
		   "metadata": {},
		   "source": [
			"## Example 10.5: EX10_5.sce"
		   ]
		  },
  {
"cell_type": "code",
	   "execution_count": null,
	   "metadata": {
	    "collapsed": true
	   },
	   "outputs": [],
"source": [
"\n",
"\n",
"//example 10.5\n",
"//design upstream impervious blanket\n",
"clc;funcprot(0);\n",
"//given\n",
"Zb=1.2;       //thickness of blanket\n",
"Zf=8;         //distance of blanket from foundation\n",
"kb=0.06;      //coefficient of permeability of blanket material\n",
"kf=72;        //coefficient of permeability of foundation soil\n",
"Hw=10;         //heigth of water in reservior\n",
"Xd=40;\n",
"\n",
"a=(kb/(kf*Zb*Zf))^0.5;\n",
"Xo=1.414/a;\n",
"\n",
"//we vary value of x\n",
"x=[0 25 50 75 100 125 151.8 300]\n",
"for i=1:8\n",
"    e=exp(2*a*x(i));\n",
"    Xr(i)=(e-1)/(a*(e+1));\n",
"    ho(i)=Xr(i)*Hw/(Xr(i)+Xd);\n",
"    r(i)=Xr(i)*100/(Xr(i)+Xd);\n",
"end\n",
"mprintf('\nx                     Xr              ho         reduction q(percent)');\n",
"for i=1:8\n",
"    mprintf('\n%f        %f        %f        %f',x(i),Xr(i),ho(i),r(i));\n",
"end\n",
"//graph is plotted between r and x.\n",
"//after around 130m length there is only slight increase in head dissipated(ho)\n",
"L=130;\n",
"mprintf('\nThickness of blanket=%f m',Zb);\n",
"mprintf('\nLength of blanket=%i m.',L);\n",
""
   ]
   }
],
"metadata": {
		  "kernelspec": {
		   "display_name": "Scilab",
		   "language": "scilab",
		   "name": "scilab"
		  },
		  "language_info": {
		   "file_extension": ".sce",
		   "help_links": [
			{
			 "text": "MetaKernel Magics",
			 "url": "https://github.com/calysto/metakernel/blob/master/metakernel/magics/README.md"
			}
		   ],
		   "mimetype": "text/x-octave",
		   "name": "scilab",
		   "version": "0.7.1"
		  }
		 },
		 "nbformat": 4,
		 "nbformat_minor": 0
}
