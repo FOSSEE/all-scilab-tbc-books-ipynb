{
"cells": [
 {
		   "cell_type": "markdown",
	   "metadata": {},
	   "source": [
       "# Chapter 17: CANAL OUTLETS"
	   ]
	},
{
		   "cell_type": "markdown",
		   "metadata": {},
		   "source": [
			"## Example 17.1: EX17_1.sce"
		   ]
		  },
  {
"cell_type": "code",
	   "execution_count": null,
	   "metadata": {
	    "collapsed": true
	   },
	   "outputs": [],
"source": [
"\n",
"\n",
"//example 17.1\n",
"//calculate discharge through the outlet\n",
"clc;funcprot(0);\n",
"//given\n",
"D=100.0;         //F.S.L of distributory\n",
"wc=99.90;      //F.S.L of water course\n",
"L=9;           //length of pipe\n",
"d=20;          //diameter of pipe\n",
"f=0.005;     //coefficient of friction\n",
"g=9.81;      //acceleration due to gravity\n",
"\n",
"H=D-wc;        //working head\n",
"C=(d/((1.5*d/(400*f)+L)*f))^0.5/20;\n",
"A=%pi*d^2/(4*10000);\n",
"q=C*A*(2*g*H)^0.5;\n",
"q=round(q*10000)/10000;\n",
"mprintf('discharge through the outlet=%f cumec.',q);"
   ]
   }
,
{
		   "cell_type": "markdown",
		   "metadata": {},
		   "source": [
			"## Example 17.2: EX17_2.sce"
		   ]
		  },
  {
"cell_type": "code",
	   "execution_count": null,
	   "metadata": {
	    "collapsed": true
	   },
	   "outputs": [],
"source": [
"\n",
"\n",
"//example 17.2\n",
"//design a submerged pipe\n",
"clc;funcprot(0);\n",
"//given\n",
"q=0.04;         //discharge through outlet\n",
"D=100.0;         //F.S.L of distributing canal\n",
"wc=99.90;      //F.S.L of water course\n",
"dep=1.1;       //full supply depth distributing canal\n",
"C=0.7;         //average value of coefficient of discharge\n",
"g=9.81;      //acceleration due to gravity\n",
"\n",
"H=D-wc;          //available head\n",
"A=q/(C*(2*g*H)^0.5);\n",
"d=(4*A/%pi)^0.5*100;\n",
"d=round(d*10)/10;\n",
"mprintf('diameter of pipe required=%f cm.',d);\n",
"mprintf('\nuse pipe of diameter 25 cm.');"
   ]
   }
,
{
		   "cell_type": "markdown",
		   "metadata": {},
		   "source": [
			"## Example 17.3: EX17_3.sce"
		   ]
		  },
  {
"cell_type": "code",
	   "execution_count": null,
	   "metadata": {
	    "collapsed": true
	   },
	   "outputs": [],
"source": [
"\n",
"//example 17.3\n",
"//design submerged pipe\n",
"clc;funcprot(0);\n",
"//given\n",
"q=0.04;         //discharge through outlet\n",
"D=100.0;         //F.S.L of distributing canal\n",
"wc=99.90;      //F.S.L of water course\n",
"dep=1.1;       //full supply depth distributing canal\n",
"f=0.01;         //coefficient of friction\n",
"g=9.81;      //acceleration due to gravity\n",
"L=9;         //Length of pipe\n",
"\n",
"H=D-wc;        //working head\n",
"//first trial\n",
"//taking d=22.8 cm\n",
"d=22.8;\n",
"C=(d/((1.5*d/(400*f)+L)*f))^0.5/20;\n",
"A=q/(C*(2*g*H)^0.5);\n",
"d=(4*A/%pi)^0.5*100;\n",
"//second trial\n",
"C=(d/((1.5*d/(400*f)+L)*f))^0.5/20;\n",
"A=q/(C*(2*g*H)^0.5);\n",
"d=(4*A/%pi)^0.5*100;\n",
"d=round(d*100)/100;\n",
"mprintf('diameter of pipe required=%f cm.',d);\n",
"mprintf('\nprovide diameter of pipe as 25 cm.');\n",
"\n",
""
   ]
   }
,
{
		   "cell_type": "markdown",
		   "metadata": {},
		   "source": [
			"## Example 17.4: EX17_4.sce"
		   ]
		  },
  {
"cell_type": "code",
	   "execution_count": null,
	   "metadata": {
	    "collapsed": true
	   },
	   "outputs": [],
"source": [
"\n",
"\n",
"//example 17.4\n",
"//design an open flume outlet\n",
"clc;funcprot(0);\n",
"//given\n",
"Q=0.06;           //discharge\n",
"D=0.85;           //full supply depth\n",
"Hw=15;             //available working head\n",
"Bt=7;C=1.6;      //let us choose\n",
"H=(Q*100/(C*Bt))^(2/3);\n",
"mh=0.2*H;        //minimum modular head\n",
"mh=round(mh*1000)/1000;\n",
"mprintf('minimum modular head=%f m. < available working head.\nhemce,design is safe.',mh);\n",
"o=H/D;\n",
"o=round(o*1000)/1000;\n",
"mprintf('\nsetting of outlet=%f. <0.9.\nhence,outlet will work as hyper propotional outlet.',o);"
   ]
   }
],
"metadata": {
		  "kernelspec": {
		   "display_name": "Scilab",
		   "language": "scilab",
		   "name": "scilab"
		  },
		  "language_info": {
		   "file_extension": ".sce",
		   "help_links": [
			{
			 "text": "MetaKernel Magics",
			 "url": "https://github.com/calysto/metakernel/blob/master/metakernel/magics/README.md"
			}
		   ],
		   "mimetype": "text/x-octave",
		   "name": "scilab",
		   "version": "0.7.1"
		  }
		 },
		 "nbformat": 4,
		 "nbformat_minor": 0
}
