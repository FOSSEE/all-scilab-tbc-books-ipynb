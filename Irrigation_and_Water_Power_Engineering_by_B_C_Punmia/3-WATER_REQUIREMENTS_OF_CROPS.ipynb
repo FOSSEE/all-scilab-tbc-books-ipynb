{
"cells": [
 {
		   "cell_type": "markdown",
	   "metadata": {},
	   "source": [
       "# Chapter 3: WATER REQUIREMENTS OF CROPS"
	   ]
	},
{
		   "cell_type": "markdown",
		   "metadata": {},
		   "source": [
			"## Example 3.10: EX3_10.sce"
		   ]
		  },
  {
"cell_type": "code",
	   "execution_count": null,
	   "metadata": {
	    "collapsed": true
	   },
	   "outputs": [],
"source": [
"\n",
"\n",
"//example 3.10\n",
"//calculate Duty of water\n",
"clc;\n",
"//Given\n",
"B=120;      //Base period\n",
"delta=92;   //total depth requirement of crop\n",
"\n",
"D=8.64*B*100/delta;\n",
"D=round(D);\n",
"mprintf('Duty of water=%f hectares/cumec.',D);"
   ]
   }
,
{
		   "cell_type": "markdown",
		   "metadata": {},
		   "source": [
			"## Example 3.11: EX3_11.sce"
		   ]
		  },
  {
"cell_type": "code",
	   "execution_count": null,
	   "metadata": {
	    "collapsed": true
	   },
	   "outputs": [],
"source": [
"\n",
"\n",
"//example 3.11\n",
"//calculate Dischage required at head of canal\n",
"clc;\n",
"//Given\n",
"Cr=2;            //crop ratio\n",
"A=80000;         //Area of field\n",
"CI=85;           //percent field culturable irrigable\n",
"IK=30;           //irrigation intensity during kharif season\n",
"IR=60;           //irrigation intensity for rabi season\n",
"DuK=800;           //Duty of water for kharif season\n",
"DuR=1700;          //Duty of water for rabi season\n",
"\n",
"CIA=A*CI/100;    //Culturable irrigable area\n",
"AK=CIA*IK/100;   //Area under kharif season\n",
"AR=CIA*IR/100;   //Area under rabi season\n",
"DK=AK/DuK;\n",
"DR=AR/DuR;\n",
"mprintf('Dischage required at head of canal during Kharif season=%f cumecs.',DK);\n",
"mprintf('\nDischage required at head of canal during Rabi season=%f cumecs.',DR);\n",
"mprintf('\nWater requirement during kharif is greater than during rabi season');\n",
"mprintf('\nHence,canal should be designed to carry discharge of %f cumecs.',DK);"
   ]
   }
,
{
		   "cell_type": "markdown",
		   "metadata": {},
		   "source": [
			"## Example 3.12: EX3_12.sce"
		   ]
		  },
  {
"cell_type": "code",
	   "execution_count": null,
	   "metadata": {
	    "collapsed": true
	   },
	   "outputs": [],
"source": [
"\n",
"\n",
"//example 3.12\n",
"//calculate Dischage required at head of canal\n",
"clc;\n",
"//Given\n",
"CA=2600;       //culturable area\n",
"IS=20;         //irrigation intensity for sugarcane\n",
"IR=40;         //irrigation intensity for rice\n",
"DuS=750;         //Duty of water for sugarcane\n",
"DuR=1800;        //Duty of water for rice\n",
"PK=1.2;          //Peak demand\n",
"\n",
"AS=CA*IS/100;     //Area under sugarcane  \n",
"AR=CA*IR/100;     //Area under rice\n",
"DS=AS/DuS;\n",
"DR=AR/DuR;\n",
"DT=DS+DR;\n",
"DD=PK*DT-0.005333+0.01;\n",
"DR=round(DR*1000)/1000;\n",
"DT=round(DT*1000)/1000;\n",
"mprintf('Water required for Rice=%f cumecs.',DR);\n",
"mprintf('\n Sugarcane is a perennial crop.');\n",
"mprintf('\nHence,Water required for Sugarcane=%f cumecs.',DT);\n",
"mprintf('\nDesign dischage to meet the peak demand=%f cumecs.',DD);"
   ]
   }
,
{
		   "cell_type": "markdown",
		   "metadata": {},
		   "source": [
			"## Example 3.13: EX3_13.sce"
		   ]
		  },
  {
"cell_type": "code",
	   "execution_count": null,
	   "metadata": {
	    "collapsed": true
	   },
	   "outputs": [],
"source": [
"\n",
"\n",
"//example 3.13\n",
"//compare the efficiency\n",
"clc;funcprot(0);\n",
"//given\n",
"ql=20;          //discharge in left branch\n",
"Al=20000;       //culturable area in left branch\n",
"Bl=120;         //Base period in left branch\n",
"Il=0.8;         //intensity of rabi in left branch\n",
"qr=8;           //discharge in rigth branch\n",
"Ar=12000;       //culturable area in rigth branch\n",
"Br=120;         //Base period in rigth branch\n",
"Ir=0.5;         //intensity of rabi in rigth branch\n",
"\n",
"//for left canal\n",
"ARl=Al*Il;\n",
"Dl=ARl/ql;\n",
"mprintf('Duty for left canal is=%i hectares/cumecs.',Dl);\n",
"\n",
"//for rigth canal\n",
"ARr=Ar*Ir;\n",
"Dr=ARr/qr;\n",
"mprintf('\nDuty for left canal is=%i hectares/cumecs.',Dr);\n",
"mprintf('\nSince,left canal has higher duty,it is more efficient');\n",
""
   ]
   }
,
{
		   "cell_type": "markdown",
		   "metadata": {},
		   "source": [
			"## Example 3.14: EX3_14.sce"
		   ]
		  },
  {
"cell_type": "code",
	   "execution_count": null,
	   "metadata": {
	    "collapsed": true
	   },
	   "outputs": [],
"source": [
"\n",
"\n",
"//example 3.14\n",
"//calculate Discharge for water course\n",
"clc;\n",
"//Given\n",
"CA=1200;        //culturable area\n",
"IA=0.4;          //intensity of irrigation of crop A\n",
"IB=0.35;         //intensity of irrigation of crop B\n",
"bA=20;           //kor period of crop A\n",
"bB=15;           //kor period of crop B\n",
"deltaA=0.1;          //kor depth of crop A\n",
"deltaB=0.16;          //kor depth of crop B\n",
"\n",
"//crop A\n",
"A=CA*IA;\n",
"Du=8.64*bA/deltaA;\n",
"qA=A/Du;\n",
"qA=round(qA*1000)/1000;\n",
"mprintf('Discharge required for crop A=%f cumec.',qA);\n",
"\n",
"//crop B\n",
"A=CA*IB;\n",
"Du=8.64*bB/deltaB;\n",
"qB=A/Du;\n",
"qB=round(qB*1000)/1000;\n",
"mprintf('\nDischarge required for crop B=%f cumec.',qB);\n",
"D=qA+qB;\n",
"D=round(D*10)/10;\n",
"mprintf('\nDesign discharge of water course=%f cumec.',D);"
   ]
   }
,
{
		   "cell_type": "markdown",
		   "metadata": {},
		   "source": [
			"## Example 3.15: EX3_15.sce"
		   ]
		  },
  {
"cell_type": "code",
	   "execution_count": null,
	   "metadata": {
	    "collapsed": true
	   },
	   "outputs": [],
"source": [
"\n",
"\n",
"//example 3.15\n",
"//calculate \n",
"//duty of irrigation water\n",
"//discharge required\n",
"clc;\n",
"//Given\n",
"B=12;         //transplantaion period\n",
"D=0.5;        //total depth of water required by the crop\n",
"R=0.1;        //rain falling on field\n",
"L=0.2;        //loss of water\n",
"A=600;        //irrigated area\n",
"I=0.6;        //intensity of irrigation\n",
"delta=D-R;\n",
"Dui=8.64*B/delta;\n",
"//since water loss is 20 percent\n",
"Du=(1-L)*Dui;\n",
"mprintf('Duty of water required=%f hectares/cumec.',Du);\n",
"\n",
"TA=I*A;\n",
"q=TA/Du;\n",
"q=round(q*100)/100;\n",
"mprintf('\nDischarge at head of water course=%f cumecs.',q);"
   ]
   }
,
{
		   "cell_type": "markdown",
		   "metadata": {},
		   "source": [
			"## Example 3.16: EX3_16.sce"
		   ]
		  },
  {
"cell_type": "code",
	   "execution_count": null,
	   "metadata": {
	    "collapsed": true
	   },
	   "outputs": [],
"source": [
"\n",
"\n",
"//example 3.16\n",
"//calculate \n",
"//discharge required at the head\n",
"//design discharge\n",
"clc;\n",
"//Given\n",
"CF=0.8;                        //Capacity factory\n",
"Tf=13/20;                      //time factor\n",
"A=[850 120 600 500 360];      //given values of area\n",
"B=[320 90 120 120 120];       //given values of Base period\n",
"D=[580 580 1600 2000 600];    //given values of duty at head canal\n",
"\n",
"DS=A(1)/D(1);                 //discharge for sugarcane \n",
"DOS=A(2)/D(2);                //discharge for overlap sugarcane\n",
"DW=A(3)/D(3);                 //discharge for wheat\n",
"DB=A(4)/D(4);                 //discharge for bajri\n",
"DV=A(5)/D(5);                 //discharge for vegetables\n",
"DR=DS+DW;\n",
"DM=DS+DB;\n",
"DH=DS+DOS+DV;\n",
"mprintf('Maximum demand is in hot weather');\n",
"q=DH/Tf;\n",
"D=q/CF;\n",
"q=round(1000*q)/1000;\n",
"D=round(100*D)/100;\n",
"mprintf('\nFull supply discharge at head=%f cumecs',q);\n",
"mprintf('\nDesign discharge=%f cumecs.',D);"
   ]
   }
,
{
		   "cell_type": "markdown",
		   "metadata": {},
		   "source": [
			"## Example 3.17: EX3_17.sce"
		   ]
		  },
  {
"cell_type": "code",
	   "execution_count": null,
	   "metadata": {
	    "collapsed": true
	   },
	   "outputs": [],
"source": [
"\n",
"\n",
"//example 3.17\n",
"//calculate resvior capacity\n",
"clc;\n",
"//Given\n",
"CL=0.2;                   //Canal loss\n",
"RL=0.12;                  //Reservior loss\n",
"A=[4800 5600 2400 3200 1400];     //given values of area under crop\n",
"D=[1800 800 1400 900 700];     //given values of duty at field\n",
"B=[120 360 200 120 120];       //given values of base period\n",
"\n",
"//(a) Wheat\n",
"d=A(1)/D(1);\n",
"V1=d*B(1);\n",
"//(b) Sugarcane\n",
"d=A(2)/D(2);\n",
"V2=d*B(2);\n",
"//(c) Cotton\n",
"d=A(3)/D(3);\n",
"V3=round(d*B(3));\n",
"//(d) Rice\n",
"d=A(4)/D(4);\n",
"V4=round(d*B(4));\n",
"//(e) vegetables\n",
"d=A(5)/D(5);\n",
"V5=d*B(5);\n",
"\n",
"Vd=(V1+V2+V3+V4+V5)*8.64;\n",
"SC=Vd/((1-CL)*(1-RL));\n",
"mprintf('Reservior capacity=%f hectare-metres.',SC);\n",
"\n",
"//Alternative method\n",
"\n",
"for i=1:5\n",
"    delta(i)=8.64*B(i)/D(i);\n",
"end\n",
"\n",
"for j=1:5\n",
"    V(j)=A(j)*delta(j);\n",
"end\n",
"s=0;\n",
"for k=1:5\n",
"    s=s+V(k);\n",
"end\n",
"SC=s/((1-CL)*(1-RL));\n",
"SC=round(SC);\n",
"mprintf('\n By Alternative method.\nStorage capacity=%f hectare-metres.',SC);\n",
"\n",
"\n",
"\n",
"\n",
"\n",
""
   ]
   }
,
{
		   "cell_type": "markdown",
		   "metadata": {},
		   "source": [
			"## Example 3.18: EX3_18.sce"
		   ]
		  },
  {
"cell_type": "code",
	   "execution_count": null,
	   "metadata": {
	    "collapsed": true
	   },
	   "outputs": [],
"source": [
"\n",
"\n",
"//example 3.18\n",
"//Calculate \n",
"//consumptive use\n",
"//consumptive irrigatin requirement\n",
"//field irrigatio reqiurement\n",
"clc;\n",
"//Given\n",
"eita=0.7;        //water application efficiency\n",
"k=0.75;          //crop factor\n",
"T=[19 16 12.5 13];   //given values of temperature\n",
"p=[7.19 7.15 7.30 7.03];  //daytime hours of the year\n",
"RD=1.2;              //rainfall in december\n",
"RJ=0.8;              //rainfall in january\n",
"for i=1:4\n",
"    f(i)=p(i)*(1.8*T(i)+32)/40;\n",
"end\n",
"s=0;\n",
"for i=1:4\n",
"    s=s+f(i);\n",
"end\n",
"C=k*s;\n",
"R=RD+RJ;\n",
"CIR=C-R;\n",
"FIR=CIR/eita;\n",
"C=round(10*C)/10;\n",
"CIR=round(CIR*10)/10;\n",
"FIR=round(FIR*10)/10;\n",
"mprintf('Consumptive use=%f cm.',C);\n",
"mprintf('\nconsumptive irrigatin requirement=%f cm.',CIR);\n",
"mprintf('\nfield irrigatio reqiurement=%f cm.',FIR);\n",
""
   ]
   }
,
{
		   "cell_type": "markdown",
		   "metadata": {},
		   "source": [
			"## Example 3.19: EX3_19.sce"
		   ]
		  },
  {
"cell_type": "code",
	   "execution_count": null,
	   "metadata": {
	    "collapsed": true
	   },
	   "outputs": [],
"source": [
"\n",
"\n",
"//example 3.19\n",
"//calculate\n",
"//consumptive use of rice using penman's formula in january\n",
"clc;\n",
"//Given\n",
"L=20;             //latitude of place(degree North)\n",
"T=15;             //mean monthly temperature(degree celcius)\n",
"RH=0.5;            //relative humidity\n",
"E=250;            //elevation of area\n",
"V=25;             //wind velocity at 2 m heigth\n",
"//from table 3.10\n",
"VP=12.79;         //saturation vapour pressure\n",
"s=0.8;            //slope of curve between vapur pressure and temperature\n",
"//from table 3.11\n",
"R=10.8;\n",
"//from table 3.12\n",
"N=11.1;\n",
"//from table 3.9\n",
"n=7.74;\n",
"p=n/N;\n",
"e=VP*RH;\n",
"Ea=0.002187*(160+V)*(VP-e);\n",
"r=0.2;\n",
"alpha=0.49;\n",
"sigma=2.01D-9;\n",
"Ta=293;\n",
"H=R*(1-r)*(0.29*cos(%pi/9)+0.55*p)-sigma*Ta^4*(0.56-0.092*e^0.5)*(0.10+0.9*p);\n",
"Et=(s*H+alpha*Ea)*31/(s+alpha);\n",
"Et=round(Et*10)/10;\n",
"mprintf('consumptive use of rice in january=%f mm of water.',Et);\n",
""
   ]
   }
,
{
		   "cell_type": "markdown",
		   "metadata": {},
		   "source": [
			"## Example 3.1: EX3_1.sce"
		   ]
		  },
  {
"cell_type": "code",
	   "execution_count": null,
	   "metadata": {
	    "collapsed": true
	   },
	   "outputs": [],
"source": [
"\n",
"\n",
"//example 3.1\n",
"//classify the irrigation water\n",
"clc;\n",
"//Given\n",
"Na=24;                                         //concentration of sodium ion\n",
"Ca=3.6;                                        //concentration of calcium ion\n",
"Mg=2;                                         //concentration of magnesium ion\n",
"EC=180;                                       //electrical conductivity\n",
"SAR=Na/(((Ca+Mg)/2)^(0.5));                   //Sodium absorption ratio\n",
"SAR=round(SAR*100)/100;\n",
"mprintf('SAR=%f.',SAR);\n",
"mprintf('\nWater falls under S2 class.');    //from table 3.2\n",
"mprintf('\nFor EC=180,');\n",
"mprintf('\nwater falls under C1 class.');    //from table 3.1\n",
"mprintf('\nWater is medium sodium and low saline water.');"
   ]
   }
,
{
		   "cell_type": "markdown",
		   "metadata": {},
		   "source": [
			"## Example 3.20: EX3_20.sce"
		   ]
		  },
  {
"cell_type": "code",
	   "execution_count": null,
	   "metadata": {
	    "collapsed": true
	   },
	   "outputs": [],
"source": [
"\n",
"\n",
"//example 3.20\n",
"//calculate\n",
"//maximum storage capacity;depth of irrigation water\n",
"//field irrigation requirement;water required at canal outlet\n",
"clc;\n",
"//Given\n",
"Fc=0.27;               //Field capacity\n",
"pwp=0.13;              //permanent wilting point\n",
"d=80;                 //depth of soil(cm)\n",
"gammad=1.5;           //dry unit weigth of soil(g/cc)\n",
"gammaw=1;             //unit weigth of water(g/cc)\n",
"M=0.18;               //avearge soil moisture\n",
"eita=0.8;             //field efficiency\n",
"FC=0.15;              //field channel\n",
"SC=gammad*d*(Fc-pwp)/gammaw;\n",
"D=gammad*d*(Fc-M)/gammaw;\n",
"FIR=D/eita;\n",
"W=FIR/(1-FC);\n",
"W=round(W*10)/10;\n",
"mprintf('maximum storage capacity=%f cm',SC);\n",
"mprintf('\ndepth of irrigation water=%f cm',D);\n",
"mprintf('\nfield irrigation requirement=%f cm',FIR);\n",
"mprintf('\nwater required at canal outlet=%f cm',W);\n",
""
   ]
   }
,
{
		   "cell_type": "markdown",
		   "metadata": {},
		   "source": [
			"## Example 3.21: EX3_21.sce"
		   ]
		  },
  {
"cell_type": "code",
	   "execution_count": null,
	   "metadata": {
	    "collapsed": true
	   },
	   "outputs": [],
"source": [
"\n",
"\n",
"//example 3.21\n",
"//calculate reservior capacity\n",
"clc;\n",
"//given\n",
"W=0.4;                     //amount of water available from precipitation\n",
"Cl=0.15;                   //Channel loss\n",
"RL=0.1;                    //reservior loss\n",
"B=[120 320 120 200 100];   //Base period\n",
"D=[1800 800 900 1400 1200];//Duty at field\n",
"A=[500 600 300 1200 500];  //Area under crop\n",
"\n",
"for i=1:5\n",
"    delta(i)=8.64*B(i)/D(i);\n",
"end\n",
"\n",
"for i=1:5\n",
"    V(i)=delta(i)*A(i);\n",
"   \n",
"end\n",
"s=0;\n",
"for i=1:5\n",
"    s=s+V(i);\n",
"end\n",
"C=s*(1-W)/((1-Cl)*(1-RL));\n",
"\n",
"mprintf('Reservior capacity=%i ha-m.',C);\n",
"\n",
""
   ]
   }
,
{
		   "cell_type": "markdown",
		   "metadata": {},
		   "source": [
			"## Example 3.22: EX3_22.sce"
		   ]
		  },
  {
"cell_type": "code",
	   "execution_count": null,
	   "metadata": {
	    "collapsed": true
	   },
	   "outputs": [],
"source": [
"\n",
"\n",
"//example 3.22\n",
"//calculate\n",
"//discharge required at head of distributory\n",
"clc;\n",
"//given\n",
"GCA=10000;                    //gross commanded area\n",
"CCA=0.75*GCA;                 //Culturable commanded area\n",
"IR=0.6;                       //intensity of irrigation during rabi season\n",
"IK=0.3;                       //intensity of irrigation during kharif season  \n",
"DuR=2500;                     //duty during rabi season\n",
"DuK=1000;                     //duty during kharif season\n",
"AR=IR*CCA;                    //area under irrigation in rabi season\n",
"AK=IK*CCA;                    //area under irrigation in kharif season\n",
"DR=AR/DuR;\n",
"DK=AK/DuK;\n",
"mprintf('discharge required at head of distributory=%f cumecs.',DK);\n",
"\n",
""
   ]
   }
,
{
		   "cell_type": "markdown",
		   "metadata": {},
		   "source": [
			"## Example 3.23: EX3_23.sce"
		   ]
		  },
  {
"cell_type": "code",
	   "execution_count": null,
	   "metadata": {
	    "collapsed": true
	   },
	   "outputs": [],
"source": [
"\n",
"\n",
"//example 3.23\n",
"//calculate irrigation schedule\n",
"clc;\n",
"//given\n",
"Fc=0.18;         //field capacity\n",
"wc=0.07;         //wilting cofficient\n",
"Sg=1.35;         //bulk density of soil\n",
"d=1.2;           //root zone depth\n",
"m=Fc-wc;\n",
"mo=wc+m/3;\n",
"dw=100*Sg*d*(Fc-mo);\n",
"mprintf('Depth of water required=%f cm',dw);\n",
"ev1=1.1;         //average evapotranspiration rates in 1 NOV-30 NOV\n",
"ev2=1.7;         //average evapotranspiration rates in 1 DEC-31 DEC\n",
"ev3=2.4;         //average evapotranspiration rates in 1 JAN-31 JAN\n",
"ev4=1.5;         //average evapotranspiration rates in 1 FEB-28 FEB\n",
"ev5=3.5;         //average evapotranspiration rates in 1 MAR-25 MAR\n",
"//irrigation requirement from 1 NOV to 3 JAn\n",
"dev=(ev1*30+ev2*31+ev3*3)/10;\n",
"mprintf('\n\nWater consumed by evapotranspiration=%f cm.',dev);\n",
"mprintf('\nNo water is required during 1 NOV-3 JAN');\n",
"\n",
"//irrigation requirement after 3rd JAN\n",
"ws=(ev3-1.5)*16/10;             //water consumed from soil from 4 JAN-19 JAN\n",
"ts=ws+dev;                //water withdrawn from soil from 1 NOV-19 JAN\n",
"s=(dw-ts)*10;\n",
"day=s/ev3;\n",
"depth=ts+(4*ev3)/10+(2*ev3)/10;\n",
"mprintf('\n\ndepth of water required in first irrigation=%f cm.',depth);\n",
"///irrigation requirement from 26 JAn to 25 MAR\n",
"w1=ev3*6;\n",
"w2=ev4*28;\n",
"w3=ev5*25;\n",
"W=w1+w2+w3;\n",
"x=(dw*10-(14.4+42))/ev5;\n",
"mprintf('\n\nHence second irrigation is required after %f days i.e on 18th March.',x);\n",
"depth1=(W-(dw*10))/10;\n",
"mprintf('\nrequired water depth=%f cm',depth1);\n",
"mprintf('\n\nFirst Watering on 29 JAn and 30 JAN=%f cm.\nSecond watering required on 18th March=%f cm.',depth,depth1);\n",
"\n",
""
   ]
   }
,
{
		   "cell_type": "markdown",
		   "metadata": {},
		   "source": [
			"## Example 3.24: EX3_24.sce"
		   ]
		  },
  {
"cell_type": "code",
	   "execution_count": null,
	   "metadata": {
	    "collapsed": true
	   },
	   "outputs": [],
"source": [
"\n",
"\n",
"//example 3.24\n",
"//calculate daily consumptive\n",
"//discharge in canal\n",
"clc;\n",
"//given\n",
"Fc=0.26;              //Field capacity of soil\n",
"A=3000;               //Area of field\n",
"OM=0.12;              //optimum moisture \n",
"pwp=0.1;              //permanent wilting point\n",
"d=80;                //depth of root zone\n",
"RD=1.4;               //relative density of soil\n",
"f=10;                 //frequency of irrigation\n",
"eita=0.23;            //overall efficiency\n",
"D=RD*d*(Fc-OM);\n",
"U=D*10/f;\n",
"Wr=A*D*100;\n",
"q=Wr/(f*24*3600);\n",
"q=round(q*100)/100;\n",
"mprintf('daily consumptive=%f mm.',U);\n",
"mprintf('\ndischarge in canal=%f q cumecs.',q);\n",
""
   ]
   }
,
{
		   "cell_type": "markdown",
		   "metadata": {},
		   "source": [
			"## Example 3.25: EX3_25.sce"
		   ]
		  },
  {
"cell_type": "code",
	   "execution_count": null,
	   "metadata": {
	    "collapsed": true
	   },
	   "outputs": [],
"source": [
"\n",
"\n",
"//example 3.25\n",
"//calculate total water to be delivered\n",
"clc;\n",
"//given\n",
"C1=0.2;              //consumptive requirement of crop for 1 to 15 days\n",
"C2=0.3;              //consumptive requirement of crop for 16 to 40 days\n",
"C3=0.5;              //consumptive requirement of crop for 41 to 50 days\n",
"C4=0.1;              //consumptive requirement of crop for 51 to 55 days\n",
"A=50;                //area of land\n",
"wr=5;                //presowing water requirement\n",
"R=3.5;               //rainfall during 36th and 45th day\n",
"w1=15*C1*100;\n",
"w2=25*C2*100;\n",
"w3=10*C3*100;\n",
"w4=5*C4*100;\n",
"w5=5*100;\n",
"W=w1+w2+w3+w4+w5;\n",
"ER=3.5*100;\n",
"q=(W-ER)*A;\n",
"mprintf('total water to be delivered=%i cubic metre.',q);\n",
"\n",
""
   ]
   }
,
{
		   "cell_type": "markdown",
		   "metadata": {},
		   "source": [
			"## Example 3.26: EX3_26.sce"
		   ]
		  },
  {
"cell_type": "code",
	   "execution_count": null,
	   "metadata": {
	    "collapsed": true
	   },
	   "outputs": [],
"source": [
"\n",
"\n",
"//example 3.26\n",
"//calculate watering interval\n",
"clc;\n",
"//given\n",
"Fc=0.3;          //field capacity\n",
"pwp=0.11;        //permanent wilting percent\n",
"gammad=1300;     //density of soil\n",
"gammaw=1000;     //density of water\n",
"d=700;           //root zone depth\n",
"CW=12;           //daily consumptive use of water\n",
"WHC=Fc-pwp;\n",
"mo=Fc-(0.75*WHC);\n",
"D=gammad*d*(Fc-mo)/gammaw;\n",
"I=D/CW;\n",
"mprintf(' watering interval=%i days',I); \n",
""
   ]
   }
,
{
		   "cell_type": "markdown",
		   "metadata": {},
		   "source": [
			"## Example 3.27: EX3_27.sce"
		   ]
		  },
  {
"cell_type": "code",
	   "execution_count": null,
	   "metadata": {
	    "collapsed": true
	   },
	   "outputs": [],
"source": [
"\n",
"\n",
"//example 3.27\n",
"//calculate Duty of water\n",
"//discharge required in water course\n",
"clc;\n",
"//given\n",
"A=1000;                //total area\n",
"AI=0.7*A;              //area under irrigation\n",
"B=15;                  //Base period\n",
"d=500;                 //depth of water required during transplantation\n",
"R=120;                 //useful rain falling\n",
"Wl=0.2;                 //water loss\n",
"delta=d-R;\n",
"Du=8.64*B*1000/delta;\n",
"DuH=Du*(1-Wl);\n",
"q=AI/DuH;\n",
"q=round(q*100)/100;\n",
"mprintf('Duty of water=%i hec/cumec.',Du);\n",
"mprintf('\ndischarge required in water course=%f cumecs.',q);"
   ]
   }
,
{
		   "cell_type": "markdown",
		   "metadata": {},
		   "source": [
			"## Example 3.28: EX3_28.sce"
		   ]
		  },
  {
"cell_type": "code",
	   "execution_count": null,
	   "metadata": {
	    "collapsed": true
	   },
	   "outputs": [],
"source": [
"\n",
"\n",
"//example 3.28\n",
"//calculate reservior capacity\n",
"clc;\n",
"//given\n",
"Ar=4000;                 //culturable commanded area\n",
"CL=0.25;                //canal loss\n",
"RL=0.15;                 //reservior loss\n",
"B=[120 360 180 120 120];  //base period\n",
"D=[1800 1700 1400 800 700];//duty of water\n",
"I=[20 20 10 15 15];       //intensity of irrigation\n",
"for i=1:5\n",
"    A(i)=Ar*I(i)/10;     //area under crop\n",
"end\n",
"for i=1:5\n",
"    Q(i)=A(i)/D(i);        //discharge required\n",
"end\n",
"for i=1:5\n",
"    V(i)=8.64D4*Q(i)*B(i);     //quantity of water\n",
"end\n",
"s=0;\n",
"for i=1:5\n",
"    s=s+V(i);\n",
"end\n",
"SC=round(s/((1-CL)*(1-RL)*1000000));\n",
"mprintf('Storage capacity=%iD+06 cubic metre.',SC);\n",
""
   ]
   }
,
{
		   "cell_type": "markdown",
		   "metadata": {},
		   "source": [
			"## Example 3.2: EX3_2.sce"
		   ]
		  },
  {
"cell_type": "code",
	   "execution_count": null,
	   "metadata": {
	    "collapsed": true
	   },
	   "outputs": [],
"source": [
"\n",
"\n",
"//example 3.2\n",
"//calculate\n",
"//Depth of moisture in root zone at field capacity\n",
"//Depth of moisture in root zone at permanent wilting point\n",
"//Depth of moisture available in root zone\n",
"clc;\n",
"//Given\n",
"gammad=15;        //dry weigth of soil\n",
"gammaw=9.81;      //unit weigth of water\n",
"Fc=0.3;           //field capacity\n",
"pwp=0.08;         //permanent wilting point\n",
"d=0.8;            //root zone depth\n",
"d1=gammad*Fc*1000/gammaw;\n",
"d2=gammad*pwp*1000/gammaw;\n",
"d3=gammad*d*(Fc-pwp)*1000/gammaw;\n",
"d1=round(d1);\n",
"d2=round(d2);\n",
"d3=round(d3);\n",
"mprintf('Depth of moisture in root zone at field capacity=%f mm/m.',d1);\n",
"mprintf('\nDepth of moisture in root zone at permanent wilting point=%f mm/m.',d2);\n",
"mprintf('\nDepth of moisture available in root zone=%f mm/m.',d3);"
   ]
   }
,
{
		   "cell_type": "markdown",
		   "metadata": {},
		   "source": [
			"## Example 3.3: EX3_3.sce"
		   ]
		  },
  {
"cell_type": "code",
	   "execution_count": null,
	   "metadata": {
	    "collapsed": true
	   },
	   "outputs": [],
"source": [
"\n",
"\n",
"//example 3.3\n",
"//calculate\n",
"//depth upto which soil profile is wetted\n",
"clc;\n",
"//Given\n",
"gammad=15.3;      //dry weigth of soil\n",
"gammaw=9.81;      //unit weigth of water\n",
"Fc=0.15;          //field capacity\n",
"Mc=0.08;          //moisture content before irrigation\n",
"D=60;             //Depth of water applied\n",
"d=(gammaw*D)/(gammad*(Fc-Mc));\n",
"d=round(d);\n",
"mprintf('Depth upto which soil profile is wetted=%f mm.',d);"
   ]
   }
,
{
		   "cell_type": "markdown",
		   "metadata": {},
		   "source": [
			"## Example 3.4: EX3_4.sce"
		   ]
		  },
  {
"cell_type": "code",
	   "execution_count": null,
	   "metadata": {
	    "collapsed": true
	   },
	   "outputs": [],
"source": [
"\n",
"\n",
"//example 3.4\n",
"//calculate\n",
"//Depth of water required to irrigate the soil\n",
"clc;\n",
"//Given\n",
"Sg=1.6;    //Apparent specific gravity\n",
"Fc=0.2;        //Field capacity\n",
"M1=150;        //mass of sample soil\n",
"M2=136;        //mass of sample after drying\n",
"d=0.9;         //depth of soil to be irrigated\n",
"Mc=(M1-M2)/M2;\n",
"D=Sg*d*1000*(Fc-Mc);\n",
"D=round(D);\n",
"mprintf('Depth of water required to irrigate the soil=%f mm.',D);"
   ]
   }
,
{
		   "cell_type": "markdown",
		   "metadata": {},
		   "source": [
			"## Example 3.5: EX3_5.sce"
		   ]
		  },
  {
"cell_type": "code",
	   "execution_count": null,
	   "metadata": {
	    "collapsed": true
	   },
	   "outputs": [],
"source": [
"\n",
"\n",
"//example 3.5\n",
"//calculate Field Capacity\n",
"clc;\n",
"//Given\n",
"d=2;            //root zone depth\n",
"Wc=0.05;        //existing water content\n",
"gammad=15;      //dry density of soil\n",
"gammaw=9.81;    //unit weigth of water\n",
"Vw=500          //water applied to the soil\n",
"Wl=0.1;         //water loss\n",
"A=1000;         //area of plot\n",
"Vu=Vw*0.9;      //volume of water used in soil  \n",
"Wu=Vu*gammaw;   //weigth of water used in soil\n",
"Ws=A*d*gammad;  //total dry weigth of soil\n",
"Wa=Wu*100/Ws;   //percent water added\n",
"Fc=Wc*100+Wa;   \n",
"Fc=round(Fc*100)/100;\n",
"mprintf('The Field Capacity of soil is=%f percent.',Fc);"
   ]
   }
,
{
		   "cell_type": "markdown",
		   "metadata": {},
		   "source": [
			"## Example 3.6: EX3_6.sce"
		   ]
		  },
  {
"cell_type": "code",
	   "execution_count": null,
	   "metadata": {
	    "collapsed": true
	   },
	   "outputs": [],
"source": [
"\n",
"\n",
"//example 3.6\n",
"//calculate\n",
"//storage capcity of soil\n",
"//Water depth required to be applied\n",
"clc;\n",
"//Given\n",
"Fc=0.22;                                             //Field Capacity\n",
"wc=0.1;                                             //wilting coefficient\n",
"gammad=15;                                          //dry unit weigth of soil\n",
"gammaw=9.81;                                        //unit wiegth of water\n",
"d=0.7;                                              //root zone depth\n",
"w=0.14;                                            //falled moisture content\n",
"E=0.75;                                           //water application efficiency\n",
"SC=gammad*d*(Fc-wc)*100/gammaw;\n",
"D=gammad*d*(Fc-w)*1000/gammaw;\n",
"FIR=D/E;                                         //Field irrigation requirement\n",
"SC=round(SC*10)/10;\n",
"D=round(D);\n",
"FIR=round(FIR)+1;\n",
"mprintf('Maximum storage capacity of soil=%f cm.',SC);\n",
"mprintf('\nWater depth required to be applied=%f mm',D);\n",
"mprintf('\nField Irrigation Requirement=%f mm',FIR);"
   ]
   }
,
{
		   "cell_type": "markdown",
		   "metadata": {},
		   "source": [
			"## Example 3.7: EX3_7.sce"
		   ]
		  },
  {
"cell_type": "code",
	   "execution_count": null,
	   "metadata": {
	    "collapsed": true
	   },
	   "outputs": [],
"source": [
"\n",
"\n",
"//example 3.7\n",
"//calculate watering frequency\n",
"clc;\n",
"//Given\n",
"Fc=0.27;           //Field capacity\n",
"pwp=0.14;         //permanent wilting point\n",
"gammad=15;        //dry density of soil\n",
"gammaw=9.81;      //unit weigth of water\n",
"d=0.75;          //effective depth of root zone\n",
"Du=11;          //daily consumptive use of water\n",
"Am=Fc-pwp;      //Available moisture\n",
"//let readily available moisture be 80 percent of available moisture\n",
"RAm=0.8*Am;\n",
"Mo=Fc-RAm;\n",
"D=gammad*d*(Fc-Mo)*100/gammaw;\n",
"WF=D*10/Du;\n",
"mprintf('Watering Frequency=%i days.',WF);"
   ]
   }
,
{
		   "cell_type": "markdown",
		   "metadata": {},
		   "source": [
			"## Example 3.8: EX3_8.sce"
		   ]
		  },
  {
"cell_type": "code",
	   "execution_count": null,
	   "metadata": {
	    "collapsed": true
	   },
	   "outputs": [],
"source": [
"\n",
"\n",
"//example 3.8\n",
"//calculate\n",
"//net depth of irrigation water reqiured\n",
"//time required to irrigate field\n",
"clc;\n",
"//given\n",
"Fc=0.22;     //Field capacity\n",
"Sg=1.56;     //Apparent specific gravity\n",
"d=0.6;       //root zone depth\n",
"//irrigation is started when 70 percent of moisture is used\n",
"l=250;        //length of field\n",
"b=40;         //width of field\n",
"q=20;         //Discharge\n",
"\n",
"\n",
"m=(1-0.7)*Fc;\n",
"D=Sg*d*(Fc-m)*1000;\n",
"A=l*b;\n",
"t=A*D/(q*3600);\n",
"D=round(D);\n",
"t=round(t);\n",
"mprintf('Net depth of irrigation water required=%f mm.',D);\n",
"mprintf('\nTime required to irrigate field=%f hours.',t);"
   ]
   }
,
{
		   "cell_type": "markdown",
		   "metadata": {},
		   "source": [
			"## Example 3.9: EX3_9.sce"
		   ]
		  },
  {
"cell_type": "code",
	   "execution_count": null,
	   "metadata": {
	    "collapsed": true
	   },
	   "outputs": [],
"source": [
"\n",
"\n",
"//example 3.9\n",
"//calculate delta for crop\n",
"clc;\n",
"//Given\n",
"B=110;     //Base period\n",
"D=1400;    //Duty of water\n",
"\n",
"delta=8.64*B*100/D;\n",
"delta=round(delta);\n",
"mprintf('Delta for crop is=%f cm.',delta);"
   ]
   }
],
"metadata": {
		  "kernelspec": {
		   "display_name": "Scilab",
		   "language": "scilab",
		   "name": "scilab"
		  },
		  "language_info": {
		   "file_extension": ".sce",
		   "help_links": [
			{
			 "text": "MetaKernel Magics",
			 "url": "https://github.com/calysto/metakernel/blob/master/metakernel/magics/README.md"
			}
		   ],
		   "mimetype": "text/x-octave",
		   "name": "scilab",
		   "version": "0.7.1"
		  }
		 },
		 "nbformat": 4,
		 "nbformat_minor": 0
}
