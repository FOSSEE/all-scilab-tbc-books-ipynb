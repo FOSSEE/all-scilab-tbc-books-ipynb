{
"cells": [
 {
		   "cell_type": "markdown",
	   "metadata": {},
	   "source": [
       "# Chapter 15: IRRIGATION CHANNEL 2 DESIGN PROCEDURE"
	   ]
	},
{
		   "cell_type": "markdown",
		   "metadata": {},
		   "source": [
			"## Example 15.1: EX15_1.sce"
		   ]
		  },
  {
"cell_type": "code",
	   "execution_count": null,
	   "metadata": {
	    "collapsed": true
	   },
	   "outputs": [],
"source": [
"\n",
"\n",
"//example 15.1\n",
"//design a channel by Kennedy theory using Garret's diagram\n",
"clc;funcprot(0);\n",
"//given\n",
"Q=7;                 //full supply discharge\n",
"N=0.0225;            //rogosity coefficient\n",
"S=1/4444;            //bed slope\n",
"m=1;                 //critical velocity ratio\n",
"s=1/2;               //side slope\n",
"\n",
"//Values of B and D are obtained by Garret's diagram fig. 15.3(b) and tabulated as below \n",
"B=[6 7 6.75];            //width of bed from Garret diagram\n",
"D=[1.5 1.35 1.38];       //depth of bed from Garret diagram\n",
"Vo=[0.72 0.673 0.685];   //from Garret diagram\n",
"\n",
"mprintf('Bed width         Depth            Ratio of V/Vo:              Remarks');\n",
"for i=1:3\n",
"    A(i)=B(i)*D(i)+D(i)^2/2;       //Area\n",
"    V(i)=Q/A(i);                   //Velocity\n",
"    r(i)=V(i)/Vo(i);                     //ratio V/Vo\n",
"    r(i)=round(r(i)*1000)/1000;\n",
"    if i==1 then\n",
"    s='small';\n",
"else\n",
"    if (i==2) then\n",
"    s='more';\n",
"    \n",
"else\n",
"    s='satisfactory';\n",
"end\n",
"end\n",
"    mprintf('\n%f           %f          %f                     %s',B(i),D(i),r(i),s);\n",
"end\n",
"mprintf('\nHence, B=%f m; D=%f m.',B(3),D(3));"
   ]
   }
,
{
		   "cell_type": "markdown",
		   "metadata": {},
		   "source": [
			"## Example 15.2: EX15_2.sce"
		   ]
		  },
  {
"cell_type": "code",
	   "execution_count": null,
	   "metadata": {
	    "collapsed": true
	   },
	   "outputs": [],
"source": [
"\n",
"\n",
"//example 15.2\n",
"//design an irrigation channel in alluvial soil by Laecy's theory\n",
"clc;funcprot(0);\n",
"//given\n",
"Q=15;              //Full supply discharge\n",
"f=1;               //silt factor\n",
"s=1/2;             //side slope of channel\n",
"\n",
"//from Laecey regime channel (Fig.15.4(b)) B and D is obtained as;\n",
"B=15.1;\n",
"D=1.38;\n",
"//also from Fig.15.5 we get slope as\n",
"S=0.19/1000;\n",
"mprintf('Width of channel section=%f m.',B);\n",
"mprintf('\nDepth of channel section=%f m.',D);\n",
"mprintf('\nBed slope=%f.',S);\n",
""
   ]
   }
,
{
		   "cell_type": "markdown",
		   "metadata": {},
		   "source": [
			"## Example 15.3: EX15_3.sce"
		   ]
		  },
  {
"cell_type": "code",
	   "execution_count": null,
	   "metadata": {
	    "collapsed": true
	   },
	   "outputs": [],
"source": [
"\n",
"\n",
"//example 15.3\n",
"//design and prepare the longitudnal section;schedule of area statistics and channel dimension of irrigation channel\n",
"clc;funcprot(0);\n",
"//given\n",
"dl=157.7;               //datum level\n",
"fsl=157;               //full supply level of parent channel\n",
"bl=156;                //bed level of parent channel\n",
"kor_r=4;               //kor period of rabi\n",
"kor_k=2.5;             //kor period of kharif\n",
"kord_r=13.4;           //kor depth of rabi\n",
"kord_k=19;             //kor depth of kharif\n",
"s=0.5;                 //side slope\n",
"m=1;                   //critical velocity ratio\n",
"N=0.0225;              //Kutter n\n",
"qo_r=8.64*7*kor_r*100/kord_r;  //outlet discharge for rabi(calculation is wrong in book)\n",
"qo_k=8.64*7*kor_k*100/kord_k;  //outlet discharge for kharif(calculation is wrong in  book)\n",
"ca=16000;               //culturable commanded area\n",
"Ir=0.3;                //intensity of irrigation in rabi\n",
"Ik=0.125;              //intensity of irrigation in rabi\n",
"Ar=Ir*ca;              //area under rabi\n",
"Ak=ca*Ik;              //area under kharif\n",
"q_r=Ar/qo_r;\n",
"q_k=Ak/qo_k;\n",
"q_r=round(q_r*100)/100;\n",
"q_k=round(q_k*100)/100;\n",
"mprintf('discharge neede for rabi crop=%f cumecs.',q_r);\n",
"mprintf('\ndischarge neede for kharif crop=%f cumecs.',q_k);\n",
"mprintf('\noutlet discharge factor adopted=%i hectares per cumecs.',qo_r);\n",
"//at km 5\n",
"ca=8000;          //culturable area\n",
"Ar=Ir*ca;              //area under rabi\n",
"q_r=Ar/qo_r;\n",
"l=0.5               //total loss after 5 km\n",
"q=q_r+l;             //total discharge\n",
"dq=1.1*q;            //desigm discharge\n",
"S=1/4000;           //slope\n",
"B=[5.5 4.9 4.55];   //Bed width\n",
"D=[0.73 0.79 0.84]; //water depth\n",
"Vo=[0.448 0.472 0.488];  //critical velocity\n",
"mprintf('\n\nBed width     water depth      area        velocity      critical velocity    C.V.R');\n",
"for i=1:3\n",
"    A(i)=B(i)*D(i)+D(i)^2/2;\n",
"    V(i)=dq/A(i);\n",
"    m(i)=V(i)/Vo(i);\n",
"    A(i)=round(A(i)*100)/100;\n",
"    V(i)=round(V(i)*1000)/1000;\n",
"    m(i)=round(m(i)*100)/100;\n",
"    mprintf('\n%f       %f      %f      %f       %f           %f',B(i),D(i),A(i),V(i),Vo(i),m(i));\n",
"end\n",
"B=4.55;D=0.84;\n",
"mprintf('\nhence take B=%f .; D=%f m.',B,D);\n",
"//at km 4\n",
"q=round(q*100)/100;\n",
"mprintf('\ndischarge at 5 km=%f cumecs.',q);\n",
"ca=10000;          //culturable area\n",
"Ar=Ir*ca;              //area under rabi\n",
"q_r=Ar/qo_r;\n",
"l=0.5               //total loss below 5 km\n",
"P=B+D*5^0.5;        //wetted perimeter\n",
"l1=P*1000*2/1000000;  //loss between 5 km and 4km\n",
"l2=l1+l;\n",
"q=q_r+l2;\n",
"dq=1.1*q;\n",
"q=round(q*1000)/1000;\n",
"mprintf('\ndischarge at 4 km =%f cumecs',q);\n",
"mprintf('\nother discharge are calculated and are tabulated as:');\n",
"x=[0:1:5];\n",
"A1=[4800 4200 3600 3300 3000 2400];\n",
"A2=[2000 1750 1500 1375 1250 1000];\n",
"S=[22.5 22.5 22.5 24 24 25];\n",
"B=[5.5 5.2 4.85 4.7 4.55 4.55];\n",
"D=[1.04 1.007 0.975 0.945 0.915 0.840];\n",
"dq=[3.56 3.17 2.8 2.6 2.4 2.02];\n",
"V=[0.570 0.555 0.538 0.530 0.521 0.484];\n",
"m=[1.015 1 1 1 1 0.992];\n",
"mprintf('\n\nBelow km     area to irrigate rabi       area to irrigate kharif     bed slope        bed width          water depth         design discharge      velocity        C.V.R');\n",
"for i=1:6\n",
"    mprintf('\n%i               %i                         %i                   %f           %f            %f            %f           %f        %f',x(i),A1(i),A2(i),S(i),B(i),D(i),dq(i),V(i),m(i));\n",
"end\n",
"\n",
""
   ]
   }
,
{
		   "cell_type": "markdown",
		   "metadata": {},
		   "source": [
			"## Example 15.4: EX15_4.sce"
		   ]
		  },
  {
"cell_type": "code",
	   "execution_count": null,
	   "metadata": {
	    "collapsed": true
	   },
	   "outputs": [],
"source": [
"\n",
"\n",
"//example 15.4\n",
"//calculate the economical depth of cutting for cross section of channel\n",
"clc;funcprot(0);\n",
"//given\n",
"B=5;                  //bed width\n",
"t=2;                  //top width of banks\n",
"h=2.92;               //heigth of banks from bed\n",
"n=1.5;\n",
"\n",
"//sectional area of digging=sectional area of two banks\n",
"//By+zy^2=2(h-y)+2n(h-y)^2\n",
"//substituting the values and on simplificatio we get\n",
"s=poly([18.59,-13.26,1],'x','c');\n",
"y=roots(s);\n",
"//from this we get y=11.666556 and 1.5934436.\n",
"//taking\n",
"y=1.5934436;\n",
"y=round(y*10)/10;\n",
"mprintf('economical depth of cutting=%f m.',y);"
   ]
   }
],
"metadata": {
		  "kernelspec": {
		   "display_name": "Scilab",
		   "language": "scilab",
		   "name": "scilab"
		  },
		  "language_info": {
		   "file_extension": ".sce",
		   "help_links": [
			{
			 "text": "MetaKernel Magics",
			 "url": "https://github.com/calysto/metakernel/blob/master/metakernel/magics/README.md"
			}
		   ],
		   "mimetype": "text/x-octave",
		   "name": "scilab",
		   "version": "0.7.1"
		  }
		 },
		 "nbformat": 4,
		 "nbformat_minor": 0
}
