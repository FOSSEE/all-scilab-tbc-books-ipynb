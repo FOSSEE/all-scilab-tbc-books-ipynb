{
"cells": [
 {
		   "cell_type": "markdown",
	   "metadata": {},
	   "source": [
       "# Chapter 14: IRRIGATION CHANNEL 1 SILT THEORIES"
	   ]
	},
{
		   "cell_type": "markdown",
		   "metadata": {},
		   "source": [
			"## Example 14.10: EX14_10.sce"
		   ]
		  },
  {
"cell_type": "code",
	   "execution_count": null,
	   "metadata": {
	    "collapsed": true
	   },
	   "outputs": [],
"source": [
"\n",
"\n",
"//example 14.10\n",
"//design irrigation channel  according to Laecy silt theory\n",
"clc;funcprot(0);\n",
"//given\n",
"Q=15;               //discharge\n",
"f=1;                //laecy silt factor\n",
"s=1/2;              //channel side slope\n",
"\n",
"V=(Q*f^2/140);\n",
"A=Q/V;\n",
"R=5*V^2/(2*f);\n",
"//using the value of A in equations we get,\n",
"//equation in D as\n",
"y=poly([-21.765,18.336,-1.73],'x','c');\n",
"D=roots(y);\n",
"//we get D=9.2368003 and 1.3620436.\n",
"//taking\n",
"D=1.3620436;\n",
"B=18.336-D*2.23;\n",
"P=4.75*Q^0.5;\n",
"S=1/(3340*Q^(1/6));\n",
"B=round(B*10)/10;\n",
"D=round(D*100)/100;\n",
"mprintf('Width of channel section=%f m.',B);\n",
"mprintf('\nDepth of channel section=%f m.',D);\n",
"mprintf('\nBed slope=%f.',S);\n",
" "
   ]
   }
,
{
		   "cell_type": "markdown",
		   "metadata": {},
		   "source": [
			"## Example 14.11: EX14_11.sce"
		   ]
		  },
  {
"cell_type": "code",
	   "execution_count": null,
	   "metadata": {
	    "collapsed": true
	   },
	   "outputs": [],
"source": [
"\n",
"\n",
"//example 14.11\n",
"//find channel section and discharge\n",
"clc;funcprot(0);\n",
"//given\n",
"S=1/5000;            //bed slope\n",
"s=1/2;               //side slope\n",
"f=0.9;                 //laecy silt factor\n",
"\n",
"Q=(f^(5/3)/(3340*S))^6;\n",
"R=f^3/(4980*S)^2;\n",
"P=4.75*Q^0.5;\n",
"A=P*R;\n",
"//using the value of A and P in equations we get,\n",
"//equation in D as\n",
"y=poly([-6.961,9.41,-1.73],'x','c');\n",
"D=roots(y);\n",
"//we get D=4.5561754 and 0.8831309.\n",
"//taking\n",
"D=0.8831309;\n",
"B=9.41-D*2.23;\n",
"B=round(B*100)*100;\n",
"D=round(D*100)/100;\n",
"Q=round(Q*1000)/1000;\n",
"mprintf('Width of channel section=%f m.',B);\n",
"mprintf('\nDepth of channel section=%f m.',D);\n",
"mprintf('\n Discharge=%f cumecs.',Q);"
   ]
   }
,
{
		   "cell_type": "markdown",
		   "metadata": {},
		   "source": [
			"## Example 14.12: EX14_12.sce"
		   ]
		  },
  {
"cell_type": "code",
	   "execution_count": null,
	   "metadata": {
	    "collapsed": true
	   },
	   "outputs": [],
"source": [
"\n",
"\n",
"//example 14.12\n",
"//calculate quantity of bed load moved by the Meyer-Peter equation\n",
"clc;funcprot(0);\n",
"//given\n",
"gamma_w=9.81;         //unit weigth of water\n",
"D=3;                  //depth of channel\n",
"d=0.3;                //grain size\n",
"k=1.5;                //size of roughness of channel bed\n",
"S=1/4400;             //bed slope\n",
"G=2.65;              //specific gravity\n",
"tau_b=gamma_w*D*S;\n",
"N1=d^(1/6)/24;\n",
"N=k^(1/6)/24;\n",
"gamma_s=gamma_w*G;\n",
"tau_c=0.047*(gamma_s-gamma_w)*d/1000;\n",
"r=(N1/N)^1.5;\n",
"q=47450*(tau_b*r-tau_c)^1.5;\n",
"q=round(q*100)/100;\n",
"mprintf('quantity of bed load moved=%f kN/m/hr.',q);\n",
""
   ]
   }
,
{
		   "cell_type": "markdown",
		   "metadata": {},
		   "source": [
			"## Example 14.13: EX14_13.sce"
		   ]
		  },
  {
"cell_type": "code",
	   "execution_count": null,
	   "metadata": {
	    "collapsed": true
	   },
	   "outputs": [],
"source": [
"\n",
"\n",
"//example 14.13\n",
"//calculate bed load transported by channel by einstein equation\n",
"clc;funcprot(0);\n",
"//given\n",
"gamma_w=9.81;         //unit weigth of water\n",
"D=3;                  //depth of channel\n",
"d=0.3;                //grain size\n",
"k=1.5;                //size of roughness of channel bed\n",
"S=1/4400;             //bed slope\n",
"G=2.65;              //specific gravity\n",
"\n",
"N1=d^(1/6)/24;\n",
"N=k^(1/6)/24;\n",
"r=(N1/N)^1.5;\n",
"R1=3*r;\n",
"si=(G-1)*d/(1000*R1*S);\n",
"//hence we get\n",
"fi=7;\n",
"q=3600*fi*G*gamma_w*(G-1)^0.5*(gamma_w)^0.5*(d/1000)^1.5;\n",
"q=round(q*10)/10;\n",
"mprintf('quantity of bed load moved=%f kN/m/hr.',q);"
   ]
   }
,
{
		   "cell_type": "markdown",
		   "metadata": {},
		   "source": [
			"## Example 14.14: EX14_14.sce"
		   ]
		  },
  {
"cell_type": "code",
	   "execution_count": null,
	   "metadata": {
	    "collapsed": true
	   },
	   "outputs": [],
"source": [
"\n",
"\n",
"//example 14.14\n",
"//calculate concentration of suspended load\n",
"clc;funcprot(0);\n",
"//given\n",
"gamma_w=9.81;         //unit weigth of water\n",
"D=3;                  //depth of channel\n",
"d=0.3;                //grain size\n",
"k=1.5;                //size of roughness of channel bed\n",
"S=1/4400;             //bed slope\n",
"G=2.65;              //specific gravity\n",
"V=0.03;              //fall velocity\n",
"c_=400;               //concentration at 0.3 m above bed\n",
"a=0.3;\n",
"y=1;\n",
"k_=0.4;             //van karman's constant\n",
"\n",
"N1=d^(1/6)/24;\n",
"N=k^(1/6)/24;\n",
"r=(N1/N)^1.5;\n",
"R1=3*r;\n",
"V_=(gamma_w*R1*S)^0.5;\n",
"c=c_*((a/y)*(D-y)/(D-a))^(V/(V_*k_));\n",
"c=round(c*10)/10;\n",
"mprintf('concentration of suspended load=%f ppm.',c);\n",
""
   ]
   }
,
{
		   "cell_type": "markdown",
		   "metadata": {},
		   "source": [
			"## Example 14.15: EX14_15.sce"
		   ]
		  },
  {
"cell_type": "code",
	   "execution_count": null,
	   "metadata": {
	    "collapsed": true
	   },
	   "outputs": [],
"source": [
"\n",
"\n",
"//example 14.15\n",
"//design an irrigation channel by Meyer peter equation\n",
"clc;funcprot(0);\n",
"//given\n",
"Q=45;              //discharge\n",
"c=55;              //bed load concentraion\n",
"d=0.3;             //average grain diameter\n",
"gamma_w=9.81;      //unit weigth of water\n",
"G=2.67;\n",
"f=0.964;\n",
"\n",
"c=c*Q*gamma_w*3600/1000000;\n",
"P=4.75*Q^0.5;\n",
"//taking channel width as B=28 m(slightly less than P)\n",
"B=28;\n",
"qs=c/B;\n",
"//assuming effective grain diameter k=0.4 mm\n",
"ks=0.4D-3;\n",
"N1=ks^(1/6)/24;\n",
"sf=1.76*d^0.5;\n",
"N=0.0225*sf^0.25;\n",
"r=N1/N;\n",
"tau_c=0.047*gamma_w*(G-1)*d/1000;\n",
"tau_b=r^1.5*((qs/47450)^(2/3)+tau_c);\n",
"//from Manning's formula we get on simplification\n",
"R=(0.000992*1000/0.525)^(3/7);\n",
"S=0.525/(1000*R);\n",
"//solving equation of R for trapezoidal section of side slope 1/2 we get\n",
"y=poly([-36.792,25.06,0.5],'x','c');\n",
"D=roots(y);\n",
"//we get D= -51.547499  and 1.4274989  \n",
"//taking\n",
"D=1.4274989;\n",
"D=round(D*100)/100;\n",
"mprintf('Width of channel section=%i m.',B);\n",
"mprintf('\nDepth of channel section=%f m.',D);\n",
"mprintf('\nBed slope=%f.',S);"
   ]
   }
,
{
		   "cell_type": "markdown",
		   "metadata": {},
		   "source": [
			"## Example 14.16: EX14_16.sce"
		   ]
		  },
  {
"cell_type": "code",
	   "execution_count": null,
	   "metadata": {
	    "collapsed": true
	   },
	   "outputs": [],
"source": [
"\n",
"\n",
"//example 14.16\n",
"//design an irrigation channel by Einstein equation\n",
"clc;funcprot(0);\n",
"//given\n",
"Q=45;              //discharge\n",
"c=55;              //bed load concentraion\n",
"d=0.3;             //average grain diameter\n",
"gamma_w=9.81;      //unit weigth of water\n",
"G=2.67;            //specific gravity of soil\n",
"f=0.964;           //silt factor\n",
"\n",
"//taking channel width as B=28 m(slightly less than P)\n",
"B=28;\n",
"qs=c/B;\n",
"\n",
"fi=(qs/(gamma_w*G))*(1/(G-1))^0.5*(1000000000/(gamma_w*d^3))^0.5;\n",
"//from fig. 14.6 we get value of sci\n",
"//using the sci equation and Manning formula and on simplifications we get\n",
"R=(2.4296)^(3/7);\n",
"S=0.4083/(1000*1.463);\n",
"//solving equation of R for trapezoidal section of side slope 1/2 we get\n",
"y=poly([-40.96,24.73,0.5],'x','c');\n",
"D=roots(y);\n",
"//we get D= -51.064253   and 1.6042534  \n",
"//taking\n",
"D=1.6042534;\n",
"D=round(D*10)/10;\n",
"mprintf('Width of channel section=%i m.',B);\n",
"mprintf('\nDepth of channel section=%f m.',D);\n",
"mprintf('\nBed slope=%f.',S);"
   ]
   }
,
{
		   "cell_type": "markdown",
		   "metadata": {},
		   "source": [
			"## Example 14.17: EX14_17.sce"
		   ]
		  },
  {
"cell_type": "code",
	   "execution_count": null,
	   "metadata": {
	    "collapsed": true
	   },
	   "outputs": [],
"source": [
"\n",
"\n",
"//example 14.17\n",
"//design a channel for non-alluvial deposites\n",
"clc;funcprot(0);\n",
"//given\n",
"Q=45;               //discharge\n",
"S=1/4000;           //bed slope\n",
"v=0.9;              //permissible velocity\n",
"N=0.025;            //rogosity coefficient\n",
"\n",
"A=Q/v;\n",
"R=(v*N/S^0.5)^1.5;\n",
"P=A/R;\n",
"//let us provide a trapezoidal section\n",
"//from equation of Area and Perimeter of trapezoid\n",
"y=poly([50,-29.45,1.828],'x','c');\n",
"D=roots(y);\n",
"//from which we get D=14.181815 and 1.9286881\n",
"//taking\n",
"D=1.9286881;\n",
"B=P-2*1.41*D;\n",
"D=round(D*100)/100;\n",
"mprintf('Width of channel section=%i m.',B);\n",
"mprintf('\nDepth of channel section=%f m.',D);\n",
""
   ]
   }
,
{
		   "cell_type": "markdown",
		   "metadata": {},
		   "source": [
			"## Example 14.18: EX14_18.sce"
		   ]
		  },
  {
"cell_type": "code",
	   "execution_count": null,
	   "metadata": {
	    "collapsed": true
	   },
	   "outputs": [],
"source": [
"\n",
"\n",
"//example14.18\n",
"//design non-allvial channel using Bazin's formula\n",
"clc;funcprot(0);\n",
"//given\n",
"Q=15;               //discharge\n",
"V=0.75;             //mean velocity\n",
"s=1;                //side slope\n",
"K=1.3;              //bazin's coefficient\n",
"//width is five times its depth\n",
"\n",
"A=Q/V;\n",
"D=(A/6)^0.5;\n",
"B=5*D;\n",
"P=B+2*D*1.41;\n",
"R=A/P;\n",
"C=87/(1+K/(R)^0.5);\n",
"S=(V/C)^2/R;\n",
"B=round(B*10)/10;\n",
"D=round(D*100)/100;\n",
"mprintf('Width of channel section=%f m.',B);\n",
"mprintf('\nDepth of channel section=%f m.',D);\n",
"mprintf('\nBed slope=%f.',S);"
   ]
   }
,
{
		   "cell_type": "markdown",
		   "metadata": {},
		   "source": [
			"## Example 14.19: EX14_19.sce"
		   ]
		  },
  {
"cell_type": "code",
	   "execution_count": null,
	   "metadata": {
	    "collapsed": true
	   },
	   "outputs": [],
"source": [
"\n",
"\n",
"\n",
"//example14.19\n",
"//determine dimension of channel using chezy's equation\n",
"//calculate the value of manning n\n",
"clc;funcprot(0);\n",
"//given\n",
"Q=21.5;          //discharge\n",
"S=1/2500;        //slope of bottom\n",
"C=70;\n",
"r=1/1.73;\n",
"//taking R=0.5*D\n",
"//and keeping it in Q=V*A;where V=C(RS)^0.5 and A=D^2(2*(4/3)^0.5-1/3^0.5);\n",
"D=(21.5/1.7146)^(1/2.5);\n",
"B=2*D*((4/3)^0.5-(1/3)^0.5);\n",
"B=round(B*100)/100;\n",
"D=round(D*100)/100;\n",
"mprintf('side slope=%f.',r);\n",
"mprintf('\nWidth of channel section=%f m.',B);\n",
"mprintf('\nDepth of channel section=%f m.',D);\n",
"\n",
"R=0.5*D;\n",
"V=C*(R*S)^0.5;\n",
"n=R^(2/3)*S^0.5/V;\n",
"n=round(n*1000)/1000;\n",
"mprintf('\n\nvalue of manning n=%f.',n);"
   ]
   }
,
{
		   "cell_type": "markdown",
		   "metadata": {},
		   "source": [
			"## Example 14.1: EX14_1.sce"
		   ]
		  },
  {
"cell_type": "code",
	   "execution_count": null,
	   "metadata": {
	    "collapsed": true
	   },
	   "outputs": [],
"source": [
"\n",
"\n",
"//example 14.1\n",
"//design irrigation channel on Kennedy's theory\n",
"clc;funcprot(0);\n",
"//given\n",
"Q=45;        //discharge\n",
"N=0.0225;    //rogosity coefficient\n",
"m=1.05;      //critical velocity ratio\n",
"S=1/5000;    //bed slope\n",
"\n",
"D=2;  //assume\n",
"Vo=0.55*m*D^0.64;\n",
"A=Q/Vo;\n",
"//for a trapezoidal section\n",
"B=(A-0.5*D^2)/2;\n",
"P=B+D*5^0.5;\n",
"R=A/P;\n",
"C=(23+1/N+0.00155/S)*(R*S)^0.5/(1+(23+0.00155/S)*N/R^0.5);\n",
"V=C*(R*S)^0.5;\n",
"//Vo<V\n",
"\n",
"//assume D=2.2\n",
"D=2.2;\n",
"Vo=0.55*m*D^0.64;\n",
"A=Q/Vo;\n",
"B=(A-0.5*D^2)/D;\n",
"P=B+D*5^0.5;\n",
"R=A/P;\n",
"C=(23+1/N+0.00155/S)*(R*S)^0.5/(1+(23+0.00155/S)*N/R^0.5);\n",
"V=C*(R*S)^0.5;\n",
"\n",
"//ratio of V and Vo is almost equal to 1\n",
"B=round(B*10)/10;\n",
" mprintf('Width of channel section=%f m.',B);\n",
"mprintf('\nDepth of channel section=%f m.',D);\n",
""
   ]
   }
,
{
		   "cell_type": "markdown",
		   "metadata": {},
		   "source": [
			"## Example 14.20: EX14_20.sce"
		   ]
		  },
  {
"cell_type": "code",
	   "execution_count": null,
	   "metadata": {
	    "collapsed": true
	   },
	   "outputs": [],
"source": [
"\n",
"\n",
"//example14.20\n",
"//design a regime channel\n",
"clc;funcprot(0);\n",
"//given\n",
"Q=100;          //discharge\n",
"f=1.1;          //silt factor\n",
"s=1/2;          //side slope\n",
"\n",
"V=(Q*f^2/140)^(1/6);\n",
"A=Q/V;\n",
"P=4.75*Q^0.5;\n",
"D=(P-(P^2-6.944*A)^0.5)/3.472;\n",
"B=P-2.236*D;\n",
"R=5*V^2/(2*f);\n",
"S=f^(5/3)/(3340*Q^(1/6));\n",
"B=round(B*10)/10;\n",
"D=round(D*100)/100;\n",
"mprintf('Width of channel section=%f m.',B);\n",
"mprintf('\nDepth of channel section=%f m.',D);\n",
"mprintf('\nBed slope=%f.',S);"
   ]
   }
,
{
		   "cell_type": "markdown",
		   "metadata": {},
		   "source": [
			"## Example 14.21: EX14_21.sce"
		   ]
		  },
  {
"cell_type": "code",
	   "execution_count": null,
	   "metadata": {
	    "collapsed": true
	   },
	   "outputs": [],
"source": [
"\n",
"\n",
"//example 14.21\n",
"//design a channel using Laecy theory\n",
"clc;funcprot(0);\n",
"//given\n",
"Q=40;               //discharge\n",
"s=1;                //side slope\n",
"md=0.8;             //average size of base material\n",
"\n",
"f=1.76*(md)^0.5;\n",
"V=(Q*f^2/140)^(1/6);\n",
"A=Q/V;\n",
"P=4.75*Q^0.5;\n",
"//from equations of Area and perimeter of trapezoidal section;we get\n",
"y=poly([42.41,-30.04,1.828],'x','c');\n",
"D=roots(y);\n",
"//we get D=14.873416 and 1.5598447\n",
"//taking\n",
"D=1.5598447;\n",
"B=A/D-D;\n",
"R=5*V^2/(2*f);\n",
"S=f^(5/3)/(3340*Q^(1/6));\n",
"B=round(B*100)/100;\n",
"D=round(D*100)/100;\n",
"mprintf('Width of channel section=%f m.',B);\n",
"mprintf('\nDepth of channel section=%f m.',D);\n",
"mprintf('\nBed slope=%f.',S);\n",
""
   ]
   }
,
{
		   "cell_type": "markdown",
		   "metadata": {},
		   "source": [
			"## Example 14.22: EX14_22.sce"
		   ]
		  },
  {
"cell_type": "code",
	   "execution_count": null,
	   "metadata": {
	    "collapsed": true
	   },
	   "outputs": [],
"source": [
"\n",
"\n",
"//example14.22\n",
"//calculate bed width and floor depth\n",
"clc;funcprot(0);\n",
"//given\n",
"Q=30;              //discharge\n",
"V=1;               //velocity of flow\n",
"\n",
"A=Q/V;\n",
"//perimeter of section=30/D-D/2\n",
"//taking its derivative w.r.t to D\n",
"D=1/((1.914/30)^0.5);\n",
"//from equation of area\n",
"B=30/D-D/2;\n",
"B=round(B*10)/10;\n",
"D=round(D*100)/100;\n",
"mprintf('Width of channel section=%f m.',B);\n",
"mprintf('\nDepth of channel section=%f m.',D);\n",
""
   ]
   }
,
{
		   "cell_type": "markdown",
		   "metadata": {},
		   "source": [
			"## Example 14.23: EX14_23.sce"
		   ]
		  },
  {
"cell_type": "code",
	   "execution_count": null,
	   "metadata": {
	    "collapsed": true
	   },
	   "outputs": [],
"source": [
"\n",
"//example 14.23\n",
"//determine whether flow is critical or sub-critical\n",
"clc;funcprot(0);\n",
"//given\n",
"Q=17;           //discharge\n",
"B=6;            //base of channel\n",
"s=1/2;          //side slope\n",
"D=1.5;          //depth of channel\n",
"\n",
"A=D*((B+B/s)/2);\n",
"V=Q/A;\n",
"P=B+2*((D/s)^2+D^2)^0.5;\n",
"R=A/P;\n",
"F=V/(9.81*R)^0.5;      //froud number\n",
"F=round(F*100)/100;\n",
"//since F<1;\n",
"mprintf('Froud number=%f.\nF<1.\nFlow is sub-critical',F);"
   ]
   }
,
{
		   "cell_type": "markdown",
		   "metadata": {},
		   "source": [
			"## Example 14.24: EX14_24.sce"
		   ]
		  },
  {
"cell_type": "code",
	   "execution_count": null,
	   "metadata": {
	    "collapsed": true
	   },
	   "outputs": [],
"source": [
"\n",
"\n",
"//example14.24\n",
"//calculate normal depth and average shear stress at channel bed\n",
"clc;funcprot(0);\n",
"//given\n",
"B=3.5;          //bottom width of channel\n",
"n=0.016;        //manning n\n",
"S=2.6/10000;    //bed slope\n",
"Q=8;            //discharge\n",
"lfs=1;          //left side slope\n",
"rhs=1.5;        //rigth side slope\n",
"gamma_w=9.81;   //unit weigth of water\n",
"\n",
"//using the equation of area and perimeter of trapezoidal section;Manning's formula and V=Q/A we get D as\n",
"//Manning formula: V=R^(2/3)*S^0.5/n\n",
"//(D*(3.5+1.25*D))^2.5=78.281+71.951*D\n",
"//solving it by trial and error method;we get\n",
"D=1.5;\n",
"R=(D*(3.5+1.25*D))/(3.5+3.217*D);\n",
"tau=gamma_w*R*S*1000;\n",
"tau=round(tau*100)/100;\n",
"mprintf('Depth of section=%f m.',D);\n",
"mprintf('\nAverage shear stress at channel bed=%f N/square-mm.',tau);"
   ]
   }
,
{
		   "cell_type": "markdown",
		   "metadata": {},
		   "source": [
			"## Example 14.25: EX14_25.sce"
		   ]
		  },
  {
"cell_type": "code",
	   "execution_count": null,
	   "metadata": {
	    "collapsed": true
	   },
	   "outputs": [],
"source": [
"\n",
"\n",
"//example 14.25\n",
"//calculate bed load transported by the channel in tonnes per day\n",
"clc;funcprot(0);\n",
"//given\n",
"S=1/5000;          //bed slope\n",
"B=40;              //width of channel\n",
"D=2.6;             //depth of channel\n",
"d=0.38;            //mean diameter of bed material\n",
"n=0.021;           //Manning n\n",
"D65=0.64D-3;       //bed material size(m)\n",
"w=1000;            //density of water\n",
"//B/D as large tau_c=0.075*d;\n",
"tau_c=0.075*d;\n",
"tau_b=w*D*S;\n",
"N1=(D65)^(1/6)/24;\n",
"r=N1/n;\n",
"qs=4700*24*(tau_b*r^1.5-tau_c)^1.5/1000;\n",
"qs40=qs*40;\n",
"mprintf('bed load transported by the channel =%i t/m/day.',qs40);"
   ]
   }
,
{
		   "cell_type": "markdown",
		   "metadata": {},
		   "source": [
			"## Example 14.26: EX14_26.sce"
		   ]
		  },
  {
"cell_type": "code",
	   "execution_count": null,
	   "metadata": {
	    "collapsed": true
	   },
	   "outputs": [],
"source": [
"\n",
"\n",
"//example 14.26\n",
"//calculate bed width of channel;also check depth using Kutter equation\n",
"clc;funcprot(0);\n",
"//given\n",
"Q=5;              //discharge\n",
"S=0.2/1000;       //bed slope\n",
"m=0.8;            //critical velocity ratio\n",
"s=1/2;            //side slope of chanel\n",
"C=30;\n",
"//assuming\n",
"D=1;\n",
"Vo=0.55*m*D^0.64;\n",
"A=Q/Vo;\n",
"B=A/D-(s*D);\n",
"P=B+2.43*D;\n",
"R=A/P;\n",
"V=C*(R*S)^0.5;\n",
"//Vo>V\n",
"//hence take second trial\n",
"D=0.8;     //assume\n",
"Vo=0.55*m*D^0.64;\n",
"A=Q/Vo;\n",
"B=A/D-(s*D);\n",
"P=B+2.43*D;\n",
"R=A/P;\n",
"V=C*(R*S)^0.5;\n",
"//again Vo>V\n",
"//hence we take third trial\n",
"D=0.7;\n",
"Vo=0.55*m*D^0.64;\n",
"A=Q/Vo;\n",
"B=A/D+(s*D);\n",
"P=B+2.43*D;\n",
"R=A/P;\n",
"V=C*(R*S)^0.5;\n",
"B=round(B*100)/100;\n",
"//Vo is almost equal to V;\n",
"mprintf('Width of channel section=%f m.',B);\n",
"mprintf('\nDepth of channel section=%f m.',D);"
   ]
   }
,
{
		   "cell_type": "markdown",
		   "metadata": {},
		   "source": [
			"## Example 14.27: EX14_27.sce"
		   ]
		  },
  {
"cell_type": "code",
	   "execution_count": null,
	   "metadata": {
	    "collapsed": true
	   },
	   "outputs": [],
"source": [
"\n",
"\n",
"//example 14.27\n",
"//design irrigation channel by Kennedy method\n",
"clc;funcprot(0);\n",
"//given\n",
"Q=50;          //discharge\n",
"r=2.5;         //B/D ratio\n",
"m=1.1;         //critical velocity ratio\n",
"N=0.025;       //rogosity coefficient\n",
"s=0.5;         //side slope of channel\n",
"\n",
"//using the equation of Vo and Q=A*V;we get\n",
"D=(Q/1.815)^(1/2.64);\n",
"B=r*D;\n",
"R=(B*D+0.5*D^2)/(B+2.236*D);\n",
"Vo=0.55*m*D^0.64;\n",
"\n",
"//applying kutters formula; V=C(RS)^0.5\n",
"//where C=(23+1/N+0.00155/S)*(R*S)^0.5/(1+(23+0.00155/S)*N/R^0.5);\n",
"//assuming S^0.5=y\n",
"y=poly([-3.737D-7,2.46D-5,-0.0199,1],'x','c');\n",
"roots(y);\n",
"//taking real values of y\n",
"S=0.0196171 ^2;\n",
"B=round(B*100)/100;\n",
"D=round(D*100)/100;\n",
"mprintf('Width of channel section=%f m.',B);\n",
"mprintf('\nDepth of channel section=%f m.',D);\n",
"mprintf('\nBed slope=%f.',S);"
   ]
   }
,
{
		   "cell_type": "markdown",
		   "metadata": {},
		   "source": [
			"## Example 14.28: EX14_28.sce"
		   ]
		  },
  {
"cell_type": "code",
	   "execution_count": null,
	   "metadata": {
	    "collapsed": true
	   },
	   "outputs": [],
"source": [
"\n",
"\n",
"//example 14.28\n",
"//design a regime channel using Laecy's theory\n",
"clc;funcprot(0);\n",
"//given\n",
"Q=35;           //discharge\n",
"f=0.9;          //silt factor\n",
"s=1/2;          //side slope\n",
"\n",
"V=(Q*f/140)^(1/6);\n",
"A=Q/V;\n",
"P=4.75*Q^0.5;\n",
"D=(P-(P^2-6.944*A)^0.5)/3.472;\n",
"B=P-2.236*D;\n",
"\n",
"R=5*V^2/(2*f);\n",
"S=f^(5/3)/(3340*Q^(1/6));\n",
"D=round(D*100)/100;\n",
"mprintf('Bed slope=%f.',S);\n",
"mprintf('\nWidth of channel section=%i m.',B);\n",
"mprintf('\nDepth of channel section=%f m.',D);"
   ]
   }
,
{
		   "cell_type": "markdown",
		   "metadata": {},
		   "source": [
			"## Example 14.29: EX14_29.sce"
		   ]
		  },
  {
"cell_type": "code",
	   "execution_count": null,
	   "metadata": {
	    "collapsed": true
	   },
	   "outputs": [],
"source": [
"\n",
"\n",
"//example 14.29\n",
"//design an irrigation canal for given data\n",
"clc;funcprot(0);\n",
"//given\n",
"Q=15;        //discharge\n",
"m=1;         //critical velocity ratio\n",
"r=5.7;       //B/D\n",
"\n",
"D=(Q/(0.55*6.2))^(1/2.64);\n",
"B=D*r;\n",
"R=(B*D+D^2/2)/(B+D*5^0.5);\n",
"Vo=0.55*m*D^0.64;\n",
"//applying kutters formula; V=C(RS)^0.5\n",
"//where C=(23+1/N+0.00155/S)*(R*S)^0.5/(1+(23+0.00155/S)*N/R^0.5);\n",
"//assuming S^0.5=y\n",
"y=poly([-2D-5,1.55D-3,-0.968,67.5],'x','c');\n",
"roots(y);\n",
"//taking real values of y\n",
"S=0.0141937^2;\n",
"B=round(B*100)/100;\n",
"D=round(D*100)/100;\n",
"mprintf('Width of channel section=%f m.',B);\n",
"mprintf('\nDepth of channel section=%f m.',D);\n",
"mprintf('\nBed slope=%f.',S);\n",
""
   ]
   }
,
{
		   "cell_type": "markdown",
		   "metadata": {},
		   "source": [
			"## Example 14.2: EX14_2.sce"
		   ]
		  },
  {
"cell_type": "code",
	   "execution_count": null,
	   "metadata": {
	    "collapsed": true
	   },
	   "outputs": [],
"source": [
"\n",
"\n",
"//example 14.2\n",
"//design an irrigation canal for given data\n",
"clc;funcprot(0);\n",
"//given\n",
"Q=14;        //discharge\n",
"m=1;         //critical velocity ratio\n",
"r=5.7;       //B/D\n",
"\n",
"D=(Q/(0.55*6.2))^(1/2.64);\n",
"B=D*r;\n",
"R=(B*D+D^2/2)/(B+D*5^0.5);\n",
"Vo=0.55*m*D^0.64;\n",
"//applying kutters formula; V=C(RS)^0.5\n",
"//where C=(23+1/N+0.00155/S)*(R*S)^0.5/(1+(23+0.00155/S)*N/R^0.5);\n",
"//assuming S^0.5=y\n",
"y=poly([-1.98D-5,1.55D-3,-0.954,67.5],'x','c');\n",
"roots(y);\n",
"//taking real values of y\n",
"S=0.0139906^2;\n",
"B=round(B*100)/100;\n",
"D=round(D*100)/100;\n",
"mprintf('Width of channel section=%f m.',B);\n",
"mprintf('\nDepth of channel section=%f m.',D);\n",
"mprintf('\nBed slope=%f.',S);"
   ]
   }
,
{
		   "cell_type": "markdown",
		   "metadata": {},
		   "source": [
			"## Example 14.30: EX14_30.sce"
		   ]
		  },
  {
"cell_type": "code",
	   "execution_count": null,
	   "metadata": {
	    "collapsed": true
	   },
	   "outputs": [],
"source": [
"\n",
"\n",
"//example 14.30\n",
"//Design a section of unlined canal in a loomy soil\n",
"clc;funcprot(0);\n",
"//given\n",
"Q=50;             //discharge\n",
"V=1;              //permissible velocity\n",
"s=2;              //side slope\n",
"r=6;              //B/D ratio\n",
"N=0.0225;         //rogosity coefficient\n",
"\n",
"A=Q/V;\n",
"D=(A/(r+2))^0.5;\n",
"B=r*D;\n",
"P=B+2*(5*D^2)^0.5;\n",
"R=A/P;\n",
"S=(V*N/R^(2/3))^2;\n",
"mprintf('Width of channel section=%i m.',B);\n",
"mprintf('\nDepth of channel section=%f m.',D);\n",
"mprintf('\nBed slope=%f.',S);\n",
""
   ]
   }
,
{
		   "cell_type": "markdown",
		   "metadata": {},
		   "source": [
			"## Example 14.31: EX14_31.sce"
		   ]
		  },
  {
"cell_type": "code",
	   "execution_count": null,
	   "metadata": {
	    "collapsed": true
	   },
	   "outputs": [],
"source": [
"\n",
"\n",
"//example 14.31\n",
"//calculate concentration of suspended load at depth\n",
"clc;funcprot(0);\n",
"//given\n",
"gamma_w=9.81;         //unit weigth of water\n",
"D=5;                  //depth of channel\n",
"d=0.3;                //grain size\n",
"k=1.5;                //size of roughness of channel bed\n",
"S=1/4000;             //bed slope\n",
"G=2.65;              //specific gravity\n",
"V=0.02;              //fall velocity\n",
"c_=1000;               //concentration at 0.3 m above bed\n",
"a=0.3;\n",
"y=2.5;\n",
"k_=0.4;             //van karman's constant\n",
"\n",
"R=5;                //R=D for wide channel\n",
"V_=(gamma_w*R*S)^0.5;\n",
"c=c_*((a/y)*(D-y)/(D-a))^(V/(V_*k_));\n",
"mprintf('concentration of suspended load=%i ppm.',c);"
   ]
   }
,
{
		   "cell_type": "markdown",
		   "metadata": {},
		   "source": [
			"## Example 14.32: EX14_32.sce"
		   ]
		  },
  {
"cell_type": "code",
	   "execution_count": null,
	   "metadata": {
	    "collapsed": true
	   },
	   "outputs": [],
"source": [
"\n",
"\n",
"//example 14.32\n",
"//calculate dimension of channel if it is design on the basis of Laecy theory and Kennedy's theory\n",
"clc;funcprot(0);\n",
"//given\n",
"Q=40;        //discharge\n",
"f=1;         //silt factor\n",
"\n",
"//Laecey's theory\n",
"V=(Q*f/140)^(1/6);\n",
"A=Q/V;\n",
"P=4.75*Q^0.5;\n",
"D=(P-(P^2-6.944*A)^0.5)/3.472;\n",
"B=P-2.236*D;\n",
"\n",
"R=5*V^2/(2*f);\n",
"S=f^(5/3)/(3340*Q^(1/6));\n",
"B=round(B);\n",
"D=round(D*100)/100;\n",
"mprintf('\n\nBy Laecey theory:');\n",
"mprintf('\nBed slope=%f.',S);\n",
"mprintf('\nWidth of channel section=%f m.',B);\n",
"mprintf('\nDepth of channel section=%f m.',D);\n",
"\n",
"//Kennedy's theory\n",
"r=B/D;        \n",
"m=1;         //critical velocity ratio\n",
"N=0.0225;   //rogosity coefficient\n",
"//using equation of area of trapezoidal section;Vo=0.55mD^0.64 and Q=A*Vo\n",
"\n",
"D=(Q/8.058)^(1/2.64);\n",
"B=r*D;\n",
"B=round(B);\n",
"D=round(D*100)/100;\n",
"mprintf('\n\nBy Kennedy theory:');\n",
"mprintf('\nWidth of channel section=%f m.',B);\n",
"mprintf('\nDepth of channel section=%f m.',D);\n",
""
   ]
   }
,
{
		   "cell_type": "markdown",
		   "metadata": {},
		   "source": [
			"## Example 14.33: EX14_33.sce"
		   ]
		  },
  {
"cell_type": "code",
	   "execution_count": null,
	   "metadata": {
	    "collapsed": true
	   },
	   "outputs": [],
"source": [
"\n",
"\n",
"//example 14.33\n",
"//design Laecey regime channel\n",
"clc;funcprot(0);\n",
"//given\n",
"A=100000;            //culturable area(hectare)\n",
"IR=0.4;              //intensity of irrigation in kharif season\n",
"IK=0.3;              //intensity of irrigation in rabi season\n",
"OR=1800;             //outlet discharge factor in kharif season\n",
"OK=800;              //outlet discharge factor in kharif season\n",
"l=0.1;              //conveyance loss\n",
"md=0.328;            //average diameter of material\n",
"\n",
"AR=A*IR;           //area under rabi\n",
"AK=A*IK;           //area under kharif  \n",
"Qr=AR/OR;\n",
"Qk=AK/OK;\n",
"Q=1.1*Qk;\n",
"f=1.76*(md)^0.5;\n",
"V=(Q*f^2/144)^(1/6);\n",
"A=Q/V;\n",
"P=4.75*(Q)^0.5;\n",
"D=(P-(P^2-6.944*A)^0.5)/3.472;\n",
"B=P-2.236*D;\n",
"S=f^(5/3)/(3340*Q^(1/6));\n",
"B=round(B*10)/10;\n",
"D=round(D*100)/100;\n",
"mprintf('\nBed slope=%f.',S);\n",
"mprintf('\nWidth of channel section=%f m.',B);\n",
"mprintf('\nDepth of channel section=%f m.',D);"
   ]
   }
,
{
		   "cell_type": "markdown",
		   "metadata": {},
		   "source": [
			"## Example 14.34: EX14_34.sce"
		   ]
		  },
  {
"cell_type": "code",
	   "execution_count": null,
	   "metadata": {
	    "collapsed": true
	   },
	   "outputs": [],
"source": [
"\n",
"\n",
"//example 14.34\n",
"//calculate concentration at point 10 cm above the bed\n",
"clc;funcprot(0);\n",
"//given\n",
"D=2.8;         //depth of flow\n",
"c_=700;        //concentration at 30 cm below water surface\n",
"y=0.1;\n",
"a=D-0.3;\n",
"e=0.4;         //exponent in rouse equation;\n",
"\n",
"c=c_*(a*(D-y)/(y*(D-a)))^e;\n",
"mprintf('concentration at point 10 cm above the bed=%i ppm.',c);"
   ]
   }
,
{
		   "cell_type": "markdown",
		   "metadata": {},
		   "source": [
			"## Example 14.35: EX14_35.sce"
		   ]
		  },
  {
"cell_type": "code",
	   "execution_count": null,
	   "metadata": {
	    "collapsed": true
	   },
	   "outputs": [],
"source": [
"\n",
"\n",
"//example 14.35\n",
"//design the distributory using Laecey theory\n",
"clc;funcprot(0);\n",
"//given\n",
"f=0.85;           //silt factor\n",
"AR=3600;          //area for rabi\n",
"AK=1400;          //area for kharif\n",
"delta_r=0.135;    //kor depth for rabi\n",
"delta_k=0.19;     //kor depth for kharif\n",
"tr=4;             //kor period for rabi\n",
"tk=2.5;           //kor period for kharif\n",
"Du_r=8.64*tr*7/delta_r;     //duty for rabi\n",
"Du_k=8.64*tk*7/delta_k;    //duty for kharif\n",
"q_r=AR/Du_r;               //discharge for rabi\n",
"q_k=AK/Du_k;               //discharge for kharif\n",
"Q=q_r;                   //since q_r>q_k\n",
"V=(Q*f^2/144)^(1/6);\n",
"A=Q/V;\n",
"P=4.75*(Q)^0.5;\n",
"D=(P-(P^2-6.944*A)^0.5)/3.472;\n",
"S=f^(5/3)/(3340*Q^(1/6));\n",
"P=round(P*100)/100;\n",
"D=round(D*100)/100;\n",
"mprintf('\nBed slope=%f.',S);\n",
"mprintf('\nPerimeter of channel section=%f m.',P);\n",
"mprintf('\nDepth of channel section=%f m.',D);"
   ]
   }
,
{
		   "cell_type": "markdown",
		   "metadata": {},
		   "source": [
			"## Example 14.3: EX14_3.sce"
		   ]
		  },
  {
"cell_type": "code",
	   "execution_count": null,
	   "metadata": {
	    "collapsed": true
	   },
	   "outputs": [],
"source": [
"\n",
"\n",
"//example 14.3\n",
"//design a channel on Kennedy's theory\n",
"clc;funcprot(0);\n",
"//given\n",
"Q=45;            //discharge\n",
"m=1.05;          //critical velocity ratio\n",
"N=0.025;         //rugosity coefficient\n",
"S=1/5000;        //bed slope\n",
"\n",
"l=S*Q^0.02/(N^2*m^2.02);\n",
"//from fig.14.3 we get r=10\n",
"//solving the equation by trial and error method we get\n",
"r=9.7;\n",
"D=(1.818*Q/(m*(r+0.5)))^(1/2.64);\n",
"B=r*D;\n",
"V=Q/(D^2*(r+0.5));\n",
"Vo=0.55*D^0.64*m;\n",
"B=round(B);\n",
"D=round(D*100)/100;\n",
"V=round(V*1000)/1000;\n",
"Vo=round(Vo*1000)/1000;\n",
"mprintf('Width of channel section=%f m.',B);\n",
"mprintf('\nDepth of channel section=%f m.',D);\n",
"mprintf('\nVelocity through the channel section=%f m/s.',V);\n",
"mprintf('\nVo=%f m/s.\nHence Safe',Vo);"
   ]
   }
,
{
		   "cell_type": "markdown",
		   "metadata": {},
		   "source": [
			"## Example 14.4: EX14_4.sce"
		   ]
		  },
  {
"cell_type": "code",
	   "execution_count": null,
	   "metadata": {
	    "collapsed": true
	   },
	   "outputs": [],
"source": [
"\n",
"\n",
"//example 14.4\n",
"//design channel using method of curve fitting based onKennedy's theory\n",
"clc;funcprot(0);\n",
"//given\n",
"Q=45;         //discharge\n",
"N=0.0225;     //rugosity coefficient\n",
"m=1.05;       //critical velocity ratio\n",
"S=1/5000;     //Bed slope\n",
"\n",
"r=(1.607*S^1.63*Q^0.033/(N^3.26*m^3.293)-0.258)^(-0.915);\n",
"D=(1.818*Q/(m*(r+0.5)))^(1/2.64);\n",
"B=r*D;\n",
"B=round(B);\n",
"D=round(D*100)/100;\n",
"mprintf('Width of channel section=%f m.',B);\n",
"mprintf('\nDepth of channel section=%f m.',D);\n",
"\n",
""
   ]
   }
,
{
		   "cell_type": "markdown",
		   "metadata": {},
		   "source": [
			"## Example 14.5: EX14_5.sce"
		   ]
		  },
  {
"cell_type": "code",
	   "execution_count": null,
	   "metadata": {
	    "collapsed": true
	   },
	   "outputs": [],
"source": [
"\n",
"//example 14.5\n",
"//design channel using curve of CWPC for B/D ratio\n",
"clc;funcprot(0);\n",
"//given\n",
"Q=45;         //discharge\n",
"N=0.0225;     //rugosity coefficient\n",
"m=1.05;       //critical velocity ratio\n",
"\n",
"r=(15+6.44*Q)^0.382;\n",
"S=(N^2/1.338*Q^0.02)*(0.258+(15+6.44*Q)^(-0.417))^0.6135;\n",
"D=(1.818*Q/(m*(r+0.5)))^(1/2.64);\n",
"B=r*D;\n",
"B=round(B);\n",
"D=round(D*100)/100;\n",
"mprintf('Bed slope=%f.',S);\n",
"mprintf('\nWidth of channel section=%f m.',B);\n",
"mprintf('\nDepth of channel section=%f m.',D);\n",
""
   ]
   }
,
{
		   "cell_type": "markdown",
		   "metadata": {},
		   "source": [
			"## Example 14.6: EX14_6.sce"
		   ]
		  },
  {
"cell_type": "code",
	   "execution_count": null,
	   "metadata": {
	    "collapsed": true
	   },
	   "outputs": [],
"source": [
"\n",
"\n",
"//example 14.6\n",
"//design the channel section using the following data and calculate logitudnal section\n",
"clc;funcprot(0);\n",
"//given\n",
"Q=30;     //discharge\n",
"f=1;      //silt factor\n",
"s=1/2;    //side slope\n",
"\n",
"V=(Q*f/140)^(1/6);\n",
"A=Q/V;\n",
"P=4.75*Q^0.5;\n",
"D=(P-(P^2-6.944*A)^0.5)/3.472;\n",
"B=P-2.236*D;\n",
"\n",
"R=5*V^2/(2*f);\n",
"S=f^(5/3)/(3340*Q^(1/6));\n",
"B=round(B*100)/100;\n",
"D=round(D*100)/100;\n",
"mprintf('Bed slope=%f.',S);\n",
"mprintf('\nWidth of channel section=%f m.',B);\n",
"mprintf('\nDepth of channel section=%f m.',D);"
   ]
   }
,
{
		   "cell_type": "markdown",
		   "metadata": {},
		   "source": [
			"## Example 14.7: EX14_7.sce"
		   ]
		  },
  {
"cell_type": "code",
	   "execution_count": null,
	   "metadata": {
	    "collapsed": true
	   },
	   "outputs": [],
"source": [
"\n",
"\n",
"//example 14.7\n",
"//design a channel in alluvial soil using tractive force approach\n",
"clc;funcprot(0);\n",
"//given\n",
"Q=45;         //discharge\n",
"S=1/4800;     //bed slope\n",
"N=0.0225;     //rogosity coefficient\n",
"sigma=0.0035; //permissible tractive stress\n",
"s=1/2;        //side slope\n",
"gamma_w=9.81;  //unit weigth of water\n",
"\n",
"R=sigma/(gamma_w*S);\n",
"V=R^(2/3)*S^0.5/N;\n",
"A=Q/V;\n",
"P=A/R;\n",
"y=poly([-49,28.61,-1.736],'x','c');\n",
"D=roots(y);\n",
"//we get D=14.539034 and 1.9413812 \n",
"//taking D=1.9413812 \n",
"D=1.9413812;\n",
"B=28.61-2.23*D;\n",
"B=round(B*100)/100;\n",
"D=round(D*100)/100;\n",
"mprintf('Width of channel section=%f m.',B);\n",
"mprintf('\nDepth of channel section=%f m.',D);\n",
"\n",
" "
   ]
   }
,
{
		   "cell_type": "markdown",
		   "metadata": {},
		   "source": [
			"## Example 14.8: EX14_8.sce"
		   ]
		  },
  {
"cell_type": "code",
	   "execution_count": null,
	   "metadata": {
	    "collapsed": true
	   },
	   "outputs": [],
"source": [
"\n",
"\n",
"//example 14.8\n",
"//designa channel section by Kennedy theory\n",
"clc;funcprot(0);\n",
"//given\n",
"Q=28;        //discharge\n",
"m=1;         //critical velocity ratio\n",
"r=7.6;       //B/D\n",
"\n",
"D=(Q/4.46)^(1/2.64);\n",
"B=r*D;\n",
"R=0.823*D;\n",
"V=0.55*(D)^0.64;\n",
"\n",
"//applying kutters formula; V=C(RS)^0.5\n",
"//where C=(23+1/N+0.00155/S)*(R*S)^0.5/(1+(23+0.00155/S)*N/R^0.5);\n",
"//we get equation in S\n",
"//assuming S^0.5=y\n",
"y=poly([-1.42D-5,1.55D-3,-0.885,67.4],'x','c');\n",
"roots(y);\n",
"//taking real values of y\n",
"S=0.0126305^2;\n",
"B=round(B*10)/10;\n",
"D=round(D*100)/100;\n",
"mprintf('Width of channel section=%f m.',B);\n",
"mprintf('\nDepth of channel section=%f m.',D);\n",
"mprintf('\nBed slope=%f.',S);"
   ]
   }
,
{
		   "cell_type": "markdown",
		   "metadata": {},
		   "source": [
			"## Example 14.9: EX14_9.sce"
		   ]
		  },
  {
"cell_type": "code",
	   "execution_count": null,
	   "metadata": {
	    "collapsed": true
	   },
	   "outputs": [],
"source": [
"\n",
"\n",
"//example 14.9\n",
"//design the channel section and calculate discharge\n",
"clc;funcprot(0);\n",
"//given\n",
"r=5.7;       //B/D\n",
"S=1/5000;    //bed slope\n",
"N=0.0225;    //rogosity coefficient\n",
"m=1;         //critical velocity ratio(assumed)\n",
"\n",
"//applying kutters formula; V=C(RS)^0.5\n",
"//where C=(23+1/N+0.00155/S)*(R*S)^0.5/(1+(23+0.00155/S)*N/R^0.5);\n",
"//we get equation in d as\n",
"//38.88*D^0.64-66.5*D^0.5+30.37*D^0.14=0\n",
"//solving it by trial and error method\n",
"//we get D=1.7 m.\n",
"D=1.7;\n",
"B=r*D;\n",
"V=0.55*m*(D)^0.64;\n",
"A=B*D+D^2/2;\n",
"Q=A*V;\n",
"Q=round(Q*100)/100;\n",
"mprintf('Width of channel section=%f m.',B);\n",
"mprintf('\nDepth of channel section=%f m.',D);\n",
"mprintf('\n Discharge=%f cumecs.',Q);"
   ]
   }
],
"metadata": {
		  "kernelspec": {
		   "display_name": "Scilab",
		   "language": "scilab",
		   "name": "scilab"
		  },
		  "language_info": {
		   "file_extension": ".sce",
		   "help_links": [
			{
			 "text": "MetaKernel Magics",
			 "url": "https://github.com/calysto/metakernel/blob/master/metakernel/magics/README.md"
			}
		   ],
		   "mimetype": "text/x-octave",
		   "name": "scilab",
		   "version": "0.7.1"
		  }
		 },
		 "nbformat": 4,
		 "nbformat_minor": 0
}
