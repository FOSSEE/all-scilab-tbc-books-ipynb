{
"cells": [
 {
		   "cell_type": "markdown",
	   "metadata": {},
	   "source": [
       "# Chapter 20: RIVER ENGINEERING"
	   ]
	},
{
		   "cell_type": "markdown",
		   "metadata": {},
		   "source": [
			"## Example 20.1: EX20_1.sce"
		   ]
		  },
  {
"cell_type": "code",
	   "execution_count": null,
	   "metadata": {
	    "collapsed": true
	   },
	   "outputs": [],
"source": [
"\n",
"\n",
"//example 20.1\n",
"//design  a guide bank required for a bridge in a river\n",
"//calculate volume of stone required per m length of guide bank\n",
"clc;funcprot(0);\n",
"//given\n",
"Q=50000;         //discharge\n",
"f=1.1;           //silt factor\n",
"bl=130;          //bed level of river\n",
"hfl=140;         //high flood level\n",
"L=4.75*(Q)^0.5;\n",
"L=L+212;          //providing 20 percent more length\n",
"L_up=5*L/4;       //upstream length of guide bund\n",
"L_down=L/4;       //downstream length of guide bund\n",
"r_up=0.45*L;      //radius of upstream curved head\n",
"mprintf('upstream length of guide bund=%i m.',L_up);\n",
"mprintf('\ndownstream length of guide bund=%i m.',L_down);\n",
"mprintf('\nupstream radius of curved head=%i m.;it can be carved at 145 degrees.',r_up);\n",
"mprintf('\ndownstream radius of curved head=287m.;it can be carved at 60 degrees.');\n",
"\n",
"fb=1.5;       //free board\n",
"ltop=fb+hfl;  //level of top of guide bund\n",
"mprintf('\n\nlevel of top of guide bund=%f m.',ltop);\n",
"mprintf('\nadopt top level=142 m.');\n",
"ltop=142;\n",
"Hr=ltop-bl;\n",
"mprintf('\nkeep top width=4 m. and side slope as 2:1.');\n",
"T=0.06*(Q)^(1/3);         //thickness of stone pitching\n",
"T=round(T*100)/100;\n",
"mprintf('\n\nThickness of stone pitching=%f m.',T);\n",
"R=0.47*(Q/f)^(1/3);      //depth of scour\n",
"Rmax=1.25*R;            //maximum scour\n",
"rl=hfl-Rmax;            //R.L at maximum anticipated cover\n",
"D=bl-rl;                //depth of maximum scour\n",
"Lapron=1.5*D;\n",
"R=round(R*100)/100;\n",
"Lapron=round(Lapron*100)/100;\n",
"mprintf('\ndepth of scour=%f m.',R);\n",
"mprintf('\n\nfor straigtht reach of guide band:');\n",
"mprintf('\nlength of apron=%f m.',Lapron);\n",
"Rmax=1.5*R;\n",
"rl=hfl-Rmax;\n",
"D1=bl-rl;\n",
"Lapron=1.5*D1;\n",
"R=round(R*100)/100;\n",
"mprintf('\n\nfor curvilinear transition portion of guide band:');\n",
"mprintf('\nlength of apron=%f m.',Lapron);\n",
"T1=1.9*T;\n",
"T1=round(T1*10)/10;\n",
"mprintf('\nthickness of apron=%f m.',T1);\n",
"mprintf('\n\nvolume of stones:');\n",
"ss=5^0.5*(141-130)*T;\n",
"as=5^0.5*D*1.25*T;\n",
"ss=round(ss*100)/100;\n",
"as=round(as*100)/100;\n",
"mprintf('\nat shank:');\n",
"mprintf('\non slope=%f cubic metre/m.',ss);\n",
"mprintf('\non apron with a slope 2:1 =%f cubic metre/m.',as);\n",
"\n",
"va=5^0.5*D1*1.25*T;\n",
"vs=ss;\n",
"vs=round(vs*100)/100;\n",
"va=round(va*100)/100;\n",
"mprintf('\nU/S andD/S curved portion:');\n",
"mprintf('\non slope=%f cubic metre/m.',vs);\n",
"mprintf('\non apron =%f cubic metre/m.',va);\n",
"\n",
"ta=va/(1.5*D1);\n",
"ta=round(ta*10)/10;\n",
"mprintf('\n\nthickness of launching apron=%f m.',ta);"
   ]
   }
],
"metadata": {
		  "kernelspec": {
		   "display_name": "Scilab",
		   "language": "scilab",
		   "name": "scilab"
		  },
		  "language_info": {
		   "file_extension": ".sce",
		   "help_links": [
			{
			 "text": "MetaKernel Magics",
			 "url": "https://github.com/calysto/metakernel/blob/master/metakernel/magics/README.md"
			}
		   ],
		   "mimetype": "text/x-octave",
		   "name": "scilab",
		   "version": "0.7.1"
		  }
		 },
		 "nbformat": 4,
		 "nbformat_minor": 0
}
