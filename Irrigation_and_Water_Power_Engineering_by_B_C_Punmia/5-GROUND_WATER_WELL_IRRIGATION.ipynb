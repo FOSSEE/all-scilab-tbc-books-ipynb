{
"cells": [
 {
		   "cell_type": "markdown",
	   "metadata": {},
	   "source": [
       "# Chapter 5: GROUND WATER WELL IRRIGATION"
	   ]
	},
{
		   "cell_type": "markdown",
		   "metadata": {},
		   "source": [
			"## Example 5.10: EX5_10.sce"
		   ]
		  },
  {
"cell_type": "code",
	   "execution_count": null,
	   "metadata": {
	    "collapsed": true
	   },
	   "outputs": [],
"source": [
"\n",
"\n",
"//example 5.10\n",
"//calculate culturable area\n",
"clc;\n",
"//given\n",
"Q=150;           //discharge from tubewell\n",
"t=4000;          //working period of tubewell\n",
"I=0.45;          //intensity of irrigation\n",
"d=0.38;          //average depth of rabi and kharif crop\n",
"V=Q*t;\n",
"A=V/d;\n",
"CA=A/(I*10000);\n",
"CA=round(CA);\n",
"mprintf('culturable area=%f hectares.',CA);\n",
""
   ]
   }
,
{
		   "cell_type": "markdown",
		   "metadata": {},
		   "source": [
			"## Example 5.11: EX5_11.sce"
		   ]
		  },
  {
"cell_type": "code",
	   "execution_count": null,
	   "metadata": {
	    "collapsed": true
	   },
	   "outputs": [],
"source": [
"\n",
"\n",
"//example 5.11\n",
"//calculate discharge if one well discharges\n",
"//percent decrease when two well discharges\n",
"clc;\n",
"//given\n",
"d=0.2;            //diameter of well\n",
"r=d/2;\n",
"B=100;             //distance between wells\n",
"b=12;             //thickness of acquifer\n",
"k=60;             //coefficient of permeability\n",
"s=3;              //dispersion head\n",
"R=250;            //radius of influence\n",
"Q=2.72*b*k*s/(24*log10(R/r));\n",
"mprintf('discharge if one well discharges=%i cubic metre/hour.',Q);\n",
"//when both well are discharging\n",
"Q1=2.72*k*b*s/(24*log10(R^2/(r*B)));\n",
"Q1=round(Q1*10)/10;\n",
"mprintf('\ndischarge if both wells discharges=%f cubic metre/hour.',Q1);\n",
"PE=(Q-Q1)*100/Q;\n",
"PE=round(PE*100)/100;\n",
"mprintf('\npercentage decrease in discharge=%f percent.',PE);\n",
""
   ]
   }
,
{
		   "cell_type": "markdown",
		   "metadata": {},
		   "source": [
			"## Example 5.12: EX5_12.sce"
		   ]
		  },
  {
"cell_type": "code",
	   "execution_count": null,
	   "metadata": {
	    "collapsed": true
	   },
	   "outputs": [],
"source": [
"\n",
"\n",
"//example 5.12\n",
"//calculate radius of zero drawdown\n",
"//coefficient of permeability\n",
"//drawdown in well\n",
"//specific capacity\n",
"//maximum rate at which water can be pumped\n",
"clc;\n",
"//given\n",
"d=0.6;            //diameter of well;\n",
"rw=d/2;\n",
"H=40;             //depth of water in well before pumping\n",
"Q=2000;           //discharge from well\n",
"s1=4;             //drawdown in well\n",
"B1=10;            //distance between well\n",
"s2=2;\n",
"B2=20;\n",
"//Part (a)\n",
"h1=H-s1;\n",
"h2=H-s2;\n",
"t=(H^2-h2^2)/(H^2-h1^2);\n",
"R=(B2/(B1^t))^(1/(1-t));\n",
"R=round(R*100)/100;\n",
"mprintf(' radius of zero drawdown=%f m',R);\n",
"//Part (b)\n",
"r=10;\n",
"k=Q*log10(R/r)*60*24/(1.36*(H^2-h1^2)*1000);\n",
"k=round(k*100)/100;\n",
"mprintf('\ncoefficient of permeability=%f m/day.',k);\n",
"\n",
"//part (c)\n",
"Ho=(H^2-(Q*log10(R/rw)*24*60/(1000*1.36*k)))^0.5;\n",
"D=H-Ho;\n",
"D=round(D*100)/100;\n",
"mprintf('\ndrawdown in well=%f m.',D);\n",
"\n",
"//part (d)\n",
"C=Q/(1000*R);\n",
"//for R=1 m;Q=Sc\n",
"//hence on putting the values in discharge equation  we get\n",
"//Sc*log10(61.2*Sc)=0.3223.\n",
"//on solving this by trial and error method we get Sc=0.266 m^2/min.\n",
"mprintf('\nSpecific capacity=0.266 cubic metre/minutes/metre.');\n",
"\n",
"//part (e)\n",
"//this is obtained when Q=H\n",
"//hence from equation of discharge,we get\n",
"//Q*log10(69.2*Q)=6.528.\n",
"//solving it by trial and error method we get Q=2.85 m^3/min.\n",
"mprintf('\nmaximum rate at which water can be pumped=2.85 cubic metre/min');\n",
""
   ]
   }
,
{
		   "cell_type": "markdown",
		   "metadata": {},
		   "source": [
			"## Example 5.13: EX5_13.sce"
		   ]
		  },
  {
"cell_type": "code",
	   "execution_count": null,
	   "metadata": {
	    "collapsed": true
	   },
	   "outputs": [],
"source": [
"\n",
"\n",
"//example 5.13\n",
"//calculate formation constant of acquifer using theis method\n",
"clc;funcprot(0);\n",
"//given\n",
"Q=2500;      //discharge(l/min)\n",
"r=60;        //distance of observation well from acquifer\n",
"tmin=[1 1.5 2 2.5 3 4 5 6 8 10 12 14 18 24 30 40 50 60 80 100 120 150 180 210 240];  //time in minutes\n",
"s=[0.2 0.26 0.3 0.33 0.36 0.41 0.45 0.48 0.53 0.56 0.59 0.62 0.66 0.71 0.75 0.80 0.83 0.86 0.91 0.95 0.98 1.03 1.05 1.08 1.10];  //drawdown\n",
"u=[1:1:9];\n",
"Wu=[0.2194 0.04891 0.01315 0.003779 0.001148 0.000360 0.000116 0.0000377 0.0000125];\n",
"for i=1:25\n",
"    tday(i)=tmin(i)/(60*24);\n",
"end\n",
"\n",
"for i=1:25\n",
"    rt(i)=r^2/tday(i);\n",
"end\n",
"//graph is plotted between s and r^2/t and W(u) and u and they are superimposed.\n",
"//from which we get\n",
"s1=0.52;\n",
"Wu1=2.96;\n",
"rt1=700000; u1=0.03;\n",
"Q=3600;                //discharge in cumec/day\n",
"T=Q*Wu1/(4*%pi*s1);\n",
"S=4*u1*T/rt1;\n",
"T=round(T);\n",
"mprintf('formation constant of acquifer:');\n",
"mprintf('\nT=%f cubic metre/day/m.\nS=%f.',T,S);"
   ]
   }
,
{
		   "cell_type": "markdown",
		   "metadata": {},
		   "source": [
			"## Example 5.14: EX5_14.sce"
		   ]
		  },
  {
"cell_type": "code",
	   "execution_count": null,
	   "metadata": {
	    "collapsed": true
	   },
	   "outputs": [],
"source": [
"\n",
"\n",
"//example 5.14\n",
"//calculate formation constant of acquifer using Jacob's method\n",
"clc;funcprot(0);\n",
"//given\n",
"Q=2500;      //discharge(l/min)\n",
"r=60;        //distance of observation well from acquifer\n",
"tmin=[1 1.5 2 2.5 3 4 5 6 8 10 12 14 18 24 30 40 50 60 80 100 120 150 180 210 240];  //time in minutes\n",
"s=[0.2 0.26 0.3 0.33 0.36 0.41 0.45 0.48 0.53 0.56 0.59 0.62 0.66 0.71 0.75 0.80 0.83 0.86 0.91 0.95 0.98 1.03 1.05 1.08 1.10];  //drawdown\n",
"for i=1:25\n",
"    tday(i)=tmin(i)/(60*24);\n",
"end\n",
"//from the graph between s and t we get\n",
"ds=0.38;\n",
"Q=3600;      //discharge in cumec/day\n",
"T=2.303*Q/(4*%pi*ds);\n",
"//extending the straight line we get\n",
"to=0.00024;\n",
"S=2.25*T*to/r^2;\n",
"mprintf('formation constant of acquifer:');\n",
"mprintf('\nT=%i cubic metre/day/m.\nS=%f.',T,S);\n",
""
   ]
   }
,
{
		   "cell_type": "markdown",
		   "metadata": {},
		   "source": [
			"## Example 5.15: EX5_15.sce"
		   ]
		  },
  {
"cell_type": "code",
	   "execution_count": null,
	   "metadata": {
	    "collapsed": true
	   },
	   "outputs": [],
"source": [
"//example 5.15\n",
"//calculate formation constant of acquifer using Chow's method\n",
"clc;funcprot(0);\n",
"//given\n",
"Q=2500;      //discharge(l/min)\n",
"r=60;        //distance of observation well from acquifer\n",
"tmin=[1 1.5 2 2.5 3 4 5 6 8 10 12 14 18 24 30 40 50 60 80 100 120 150 180 210 240];  //time in minutes\n",
"s=[0.2 0.26 0.3 0.33 0.36 0.41 0.45 0.48 0.53 0.56 0.59 0.62 0.66 0.71 0.75 0.80 0.83 0.86 0.91 0.95 0.98 1.03 1.05 1.08 1.10];  //drawdown\n",
"for i=1:25\n",
"    tday(i)=tmin(i)/(60*24);\n",
"end\n",
"//graph is plotted between s and t\n",
"//point P is choosen on it whose ordinate is:\n",
"s1=0.45;\n",
"t=0.00347;\n",
"ds=0.38;             //for one log cycle of time\n",
"Fu=s1/ds;\n",
"//from fig 5.43\n",
"//or using relation\n",
"Wu=2.303*Fu;  \n",
"u=0.035;    //from table 5.2\n",
"Q=3600;          //discharge in cumec/day\n",
"T=Q*Wu/(4*%pi*s1);\n",
"S=4*u*t*T/r^2;\n",
"mprintf('formation constant of acquifer:');\n",
"mprintf('\nT=%i cubic metre/day/m.\nS=%f.',T,S);\n",
""
   ]
   }
,
{
		   "cell_type": "markdown",
		   "metadata": {},
		   "source": [
			"## Example 5.16: EX5_16.sce"
		   ]
		  },
  {
"cell_type": "code",
	   "execution_count": null,
	   "metadata": {
	    "collapsed": true
	   },
	   "outputs": [],
"source": [
"\n",
"\n",
"//example 5.16\n",
"//calculate transmissibility of acquifer\n",
"//draw daown in main well\n",
"clc;\n",
"//given\n",
"H=25;          //static water level\n",
"rw=0.15;       //radius of well\n",
"Q=5400;        //discharge(litre/min)\n",
"t=24;          //time of discharge\n",
"r1=30;          //distance of first well\n",
"s1=1.11;       //drawdown\n",
"h1=H-s1;\n",
"r2=90;         //distance of second well\n",
"s2=0.53;       //drawdown\n",
"h2=H-s2;\n",
"k=(Q*2.303*log10(r2/r1))/(%pi*(h2^2-h1^2)*60000);\n",
"T=k*H;\n",
"T=round(T*10000)/10000;\n",
"mprintf('transmissibility of acquifer=%f cumec/sec.',T);\n",
"hw=(h2^2-(Q*2.303*log10(r2/rw))/(%pi*k*60000))^0.5;\n",
"sw=H-hw;\n",
"sw=round(sw*100)/100;\n",
"printf('\ndraw daown in main well=%f m.',sw);\n",
""
   ]
   }
,
{
		   "cell_type": "markdown",
		   "metadata": {},
		   "source": [
			"## Example 5.17: EX5_17.sce"
		   ]
		  },
  {
"cell_type": "code",
	   "execution_count": null,
	   "metadata": {
	    "collapsed": true
	   },
	   "outputs": [],
"source": [
"\n",
"\n",
"//example 5.17\n",
"//calculate discharge at 18m drawdown\n",
"clc;\n",
"//given\n",
"Q=250;           //discharge(lit/min)\n",
"H=100;           //water level in acquifer\n",
"s1=12;           //drawdown\n",
"h1=H-s1;\n",
"//let t=ln(R/r)/(pi*k)\n",
"t=(H^2-h1^2)/Q;\n",
"h2=H-18;\n",
"Q1=(H^2-h2^2)/t;\n",
"mprintf('discharge at 18m drawdown=%i lpm',Q1);\n",
""
   ]
   }
,
{
		   "cell_type": "markdown",
		   "metadata": {},
		   "source": [
			"## Example 5.18: EX5_18.sce"
		   ]
		  },
  {
"cell_type": "code",
	   "execution_count": null,
	   "metadata": {
	    "collapsed": true
	   },
	   "outputs": [],
"source": [
"\n",
"\n",
"//example 5.18\n",
"//calculate effective well diameter\n",
"clc;\n",
"//given\n",
"b=10;              //thickness of acquifer\n",
"k=48;              //permeability coefficient\n",
"R=500;             //radius of influence\n",
"s=12;              //drawdown\n",
"Q=5000;            //discharge(cumec/day)\n",
"r=R/%e^(2*%pi*b*k*s/Q);\n",
"D=2*r;\n",
"D=round(D*100)/100;\n",
"mprintf('effective well diameter=%f m.',D);\n",
"\n",
""
   ]
   }
,
{
		   "cell_type": "markdown",
		   "metadata": {},
		   "source": [
			"## Example 5.19: EX5_19.sce"
		   ]
		  },
  {
"cell_type": "code",
	   "execution_count": null,
	   "metadata": {
	    "collapsed": true
	   },
	   "outputs": [],
"source": [
"\n",
"\n",
"//example 5.19\n",
"//calculate drawdown at 40m\n",
"clc;\n",
"//given\n",
"Q=1500;            //discharge(lit/min)\n",
"S=0.004;           //storage coefficient\n",
"k=35;              //permeability\n",
"t=20;              //time of pumping\n",
"b=30;              //thickness of acquifer\n",
"r=40;              //distance of observation well\n",
"T=k*b;\n",
"s=Q*(2.303*log10(4*T*t*3600/(60*60*24*r^2*S))-0.5772)*60*60*24/(4*%pi*T*60000);    //Jacob's equation\n",
"s=round(s*100)/100;\n",
"mprintf('drawdown at 40m=%f m.',s);\n",
""
   ]
   }
,
{
		   "cell_type": "markdown",
		   "metadata": {},
		   "source": [
			"## Example 5.1: EX5_1.sce"
		   ]
		  },
  {
"cell_type": "code",
	   "execution_count": null,
	   "metadata": {
	    "collapsed": true
	   },
	   "outputs": [],
"source": [
"\n",
"\n",
"//example 5.1\n",
"//design an open wellin fine sand\n",
"clc;\n",
"//given\n",
"Q=0.003;        //required discharge\n",
"H=2.5;          //depression head\n",
"A=Q*3600/(0.5*H);\n",
"d=(4*A/%pi)^0.5;\n",
"d=round(d*100)/100\n",
"mprintf('Well diameter=%f m.',d);\n",
"\n",
"//Alternative solution\n",
"C=7.5D-5;    //permeability constant from table 5.2\n",
"A=Q/(C*H);\n",
"d=(16*3/%pi)^0.5;\n",
"d=round(d*10)/10;\n",
"mprintf('\nBy alternative solution:')\n",
"mprintf('\nWell diameter=%f m',d);\n",
""
   ]
   }
,
{
		   "cell_type": "markdown",
		   "metadata": {},
		   "source": [
			"## Example 5.20: EX5_20.sce"
		   ]
		  },
  {
"cell_type": "code",
	   "execution_count": null,
	   "metadata": {
	    "collapsed": true
	   },
	   "outputs": [],
"source": [
"\n",
"\n",
"//example 5.20\n",
"////calculate\n",
"//yield from well\n",
"clc;\n",
"//given\n",
"h1=2.5;                  //initial pumping depression\n",
"h=1.8;                   //heigth after recuperation\n",
"t=80;                    //time\n",
"h2=h1-h;\n",
"KbyA=2.303*60*log10(h1/h2)/t;\n",
"d=4;           //diameter of well\n",
"H=3;           //depression head\n",
"A=%pi*d^2/4;\n",
"Q=(KbyA)*A*H/3.6;\n",
"Q=round(Q);\n",
"mprintf('\nYield from well=%f lit/sec.',Q);"
   ]
   }
,
{
		   "cell_type": "markdown",
		   "metadata": {},
		   "source": [
			"## Example 5.21: EX5_21.sce"
		   ]
		  },
  {
"cell_type": "code",
	   "execution_count": null,
	   "metadata": {
	    "collapsed": true
	   },
	   "outputs": [],
"source": [
"\n",
"\n",
"//example 5.21\n",
"//calculate transmissibility\n",
"//drawdown at pumping well\n",
"clc;\n",
"//given\n",
"rw=0.15;         //radius of well\n",
"b=40;            //depth of acquifer\n",
"Q=1500;          //discharge(lpm)\n",
"s1=3.5;          //drawdown of first well\n",
"s2=2;            //drawdown of second well\n",
"H=40;           \n",
"r1=25;           //distance of first well\n",
"r2=75;           //distance of second well\n",
"h1=H-s1;\n",
"h2=H-s2;\n",
"k=Q*2.303*log10(r2/r1)/(%pi*1000*60*(h2^2-h1^2));\n",
"T=b*k*1000;\n",
"mprintf('transmissibility=%fD-3 square metre/sec',T);\n",
"\n",
"hw=(h2^2-(Q*2.303*log10(r2/rw)/(%pi*k*60000)))^0.5;\n",
"sw=H-hw;\n",
"sw=round(sw*100)/100;\n",
"mprintf('\ndrawdown at pumping well=%f m.',sw);"
   ]
   }
,
{
		   "cell_type": "markdown",
		   "metadata": {},
		   "source": [
			"## Example 5.22: EX5_22.sce"
		   ]
		  },
  {
"cell_type": "code",
	   "execution_count": null,
	   "metadata": {
	    "collapsed": true
	   },
	   "outputs": [],
"source": [
"\n",
"\n",
"//example 5.22\n",
"//calculate coefficient of permeability\n",
"//drawdown in test well\n",
"clc;\n",
"//given\n",
"r=0.25;       //radius of test well\n",
"r1=10;        //distance of first well\n",
"r2=60;        //distance of second well\n",
"Q=0.1;        //discharge(cumec/sec)\n",
"s1=4;         //drawdown of first well\n",
"s2=3;         //drawdown of second well\n",
"b=20;         //thickness of well\n",
"k=1000*Q*log10(r2/r1)/(2.72*b*(s1-s2));\n",
"mprintf('coefficient of permeability=%fD-3 m/sec',k);\n",
"s=s2+Q*log10(r2/r)/(2.72*b*k);\n",
"s=round(s*100)/100;\n",
"mprintf('\ndrawdown in test well=%f m.',s); \n",
""
   ]
   }
,
{
		   "cell_type": "markdown",
		   "metadata": {},
		   "source": [
			"## Example 5.23: EX5_23.sce"
		   ]
		  },
  {
"cell_type": "code",
	   "execution_count": null,
	   "metadata": {
	    "collapsed": true
	   },
	   "outputs": [],
"source": [
"\n",
"\n",
"//example 5.23\n",
"//calculate\n",
"//diameter of well\n",
"clc;\n",
"//given\n",
"h1=2.1;                  //initial pumping depression\n",
"h=1.6;                   //heigth after recuperation\n",
"t=90;                    //time\n",
"h2=h1-h;\n",
"KbyA=2.303*60*log10(h1/h2)/t;\n",
"Q=10;          //yield(lit/sec)\n",
"H=2;\n",
"A=Q*3.6/(H*(KbyA));\n",
"d=(4*A/%pi)^0.5;\n",
"d=round(d*10)/10;\n",
"mprintf('\nDaimeter of well=%f m',d);"
   ]
   }
,
{
		   "cell_type": "markdown",
		   "metadata": {},
		   "source": [
			"## Example 5.24: EX5_24.sce"
		   ]
		  },
  {
"cell_type": "code",
	   "execution_count": null,
	   "metadata": {
	    "collapsed": true
	   },
	   "outputs": [],
"source": [
"\n",
"\n",
"//example 5.24\n",
"//calculate yield from well\n",
"clc;\n",
"//given\n",
"h1=2.5;                  //initial pumping depression\n",
"h=1;                   //heigth after recuperation\n",
"t=60;                    //time\n",
"h2=h1-h;\n",
"KbyA=2.303*60*log10(h1/h2)/t;\n",
"d=2;           //diameter of well\n",
"H=3;           //depression head\n",
"A=%pi*d^2/4;\n",
"Q=(KbyA)*A*H;\n",
"Q=round(Q*1000)/1000;\n",
"mprintf('\nYield from well=%f cubic metre/hour.',Q);"
   ]
   }
,
{
		   "cell_type": "markdown",
		   "metadata": {},
		   "source": [
			"## Example 5.2: EX5_2.sce"
		   ]
		  },
  {
"cell_type": "code",
	   "execution_count": null,
	   "metadata": {
	    "collapsed": true
	   },
	   "outputs": [],
"source": [
"\n",
"\n",
"//example 5.2\n",
"//calculate\n",
"//yield from well\n",
"//diameter of well\n",
"clc;\n",
"//given\n",
"h1=2.5;                  //initial pumping depression\n",
"h=1.8;                   //heigth after recuperation\n",
"t=80;                    //time\n",
"h2=h1-h;\n",
"KbyA=2.303*60*log10(h1/h2)/t;\n",
"\n",
"\n",
"//Part (a)\n",
"d=4;           //diameter of well\n",
"H=3;           //depression head\n",
"A=%pi*d^2/4;\n",
"Q=(KbyA)*A*H/3.6;\n",
"mprintf('Part (a)');\n",
"Q=round(Q);\n",
"mprintf('\nYield from well=%f lit/sec.',Q);\n",
"\n",
"//Part (b)\n",
"Q=8;          //yield(lit/sec)\n",
"H=2;\n",
"A=Q*3.6/(H*(KbyA));\n",
"d=(4*A/%pi)^0.5;\n",
"d=round(d*10)/10;\n",
"mprintf('\nPart (b)');\n",
"mprintf('\nDaimeter of well=%f m',d);\n",
"\n",
""
   ]
   }
,
{
		   "cell_type": "markdown",
		   "metadata": {},
		   "source": [
			"## Example 5.3: EX5_3.sce"
		   ]
		  },
  {
"cell_type": "code",
	   "execution_count": null,
	   "metadata": {
	    "collapsed": true
	   },
	   "outputs": [],
"source": [
"\n",
"\n",
"//example 5.3\n",
"//calculate yield from well\n",
"clc;\n",
"//given\n",
"d=30;        //well diameter\n",
"L=15;        //strainer length\n",
"P=50;        //coefficient of permeability\n",
"s=0.2;       //effective size of sand\n",
"b=3;         //drawdown\n",
"r=150;       //radius of drawdown\n",
"\n",
"Q=2.72*L*P*b/(log10(r*2*100/d)*24*3.6);\n",
"Q=round(Q*10)/10;\n",
"mprintf(' yield from well=%f lit/sec.',Q);\n",
""
   ]
   }
,
{
		   "cell_type": "markdown",
		   "metadata": {},
		   "source": [
			"## Example 5.4: EX5_4.sce"
		   ]
		  },
  {
"cell_type": "code",
	   "execution_count": null,
	   "metadata": {
	    "collapsed": true
	   },
	   "outputs": [],
"source": [
"\n",
"\n",
"//example 5.4\n",
"//calculate discharge from tubewell\n",
"clc;\n",
"//given\n",
"d=30;           //diameter of well\n",
"s=2;            //drawdown\n",
"L=10;           //length of stainer\n",
"k=0.05;         //coefficient of permeability\n",
"r=300;          //radius of zero drawdown\n",
"Q=2.72*k*s*(L+s/2)/(100*log10(2*100*r/d));\n",
"Q=round(Q*10000)/10000;\n",
"mprintf(' discharge from tubewell=%f cumec.',Q);\n",
"\n",
""
   ]
   }
,
{
		   "cell_type": "markdown",
		   "metadata": {},
		   "source": [
			"## Example 5.5: EX5_5.sce"
		   ]
		  },
  {
"cell_type": "code",
	   "execution_count": null,
	   "metadata": {
	    "collapsed": true
	   },
	   "outputs": [],
"source": [
"\n",
"\n",
"//example 5.5\n",
"//design tube well\n",
"clc;\n",
"//given\n",
"Q=0.08;            //yield required\n",
"b=30;              //thickness of acquifer\n",
"R=300;             //Radius of circle of influence\n",
"k=60;              //permeability coefficient\n",
"s=5;               //Drawdown\n",
"r=R/(10^(2.72*b*s*k/(3600*24*Q)));\n",
"r=round(r*10000)/10000;\n",
"mprintf('Radius of well=%f m',r);\n",
"\n",
""
   ]
   }
,
{
		   "cell_type": "markdown",
		   "metadata": {},
		   "source": [
			"## Example 5.6: EX5_6.sce"
		   ]
		  },
  {
"cell_type": "code",
	   "execution_count": null,
	   "metadata": {
	    "collapsed": true
	   },
	   "outputs": [],
"source": [
"\n",
"\n",
"//example 5.6\n",
"//calculate yield from well\n",
"clc;\n",
"//given\n",
"b=30;                  //thickness of acquifer\n",
"s=4;                   //drawdown\n",
"r=0.1;                 //well radius\n",
"k=36;                  //permeability coefficient\n",
"R=3000*s*(k/(24*3600))^0.5;\n",
"\n",
"Q=2.72*b*k*s/(log10(R/r)*24*3.6);\n",
"Q=round(Q*10)/10;\n",
"mprintf('yield from well=%f lit/sec.',Q);\n",
""
   ]
   }
,
{
		   "cell_type": "markdown",
		   "metadata": {},
		   "source": [
			"## Example 5.7: EX5_7.sce"
		   ]
		  },
  {
"cell_type": "code",
	   "execution_count": null,
	   "metadata": {
	    "collapsed": true
	   },
	   "outputs": [],
"source": [
"\n",
"\n",
"//example 5.7\n",
"//calculate discharge and percent increase in discharge\n",
"clc;\n",
"//given\n",
"k=0.005;            //coefficient of permeability\n",
"r=0.1;              //well radius\n",
"s=4;                //drawdown\n",
"b=10;               //thickness\n",
"R=300;              //radius of circle of influence\n",
"//Part(a)\n",
"Q1=2.72*b*k*s/log10(R/r);\n",
"Q1=round(Q1*10000)/10000;\n",
"mprintf('Discharge=%f cumec',Q1);\n",
"\n",
"//Part (b)\n",
"r=0.2;\n",
"Q2=2.72*b*k*s/log10(R/r);\n",
"I=(Q2-Q1)*100/Q1;\n",
"I=round(I*10)/10;\n",
"mprintf('\npercent increase in discharge=%f percent.',I);\n",
"\n",
""
   ]
   }
,
{
		   "cell_type": "markdown",
		   "metadata": {},
		   "source": [
			"## Example 5.8: EX5_8.sce"
		   ]
		  },
  {
"cell_type": "code",
	   "execution_count": null,
	   "metadata": {
	    "collapsed": true
	   },
	   "outputs": [],
"source": [
"\n",
"\n",
"//example 5.8\n",
"//calculate coefficient of permeability\n",
"//percentage error\n",
"//actual radius of influence\n",
"clc;\n",
"//given\n",
"d=0.2;            //diameter of well\n",
"Q=240;           //discharge\n",
"RL1=240.5;       //reduce level of original water surface\n",
"RL2=235.6;       //reduced level of water at pumping\n",
"RL3=210;         //reduced level of impervious layer\n",
"RL4=239.8;       //reduced level of water in well\n",
"D=50;             //radial distance of well from tube well\n",
"//Part(a)\n",
"h1=RL2-RL3;\n",
"h2=RL4-RL3;\n",
"k1=Q*24*log10(D*2/d)/(1.36*(h2^2-h1^2));\n",
"k1=round(k1*100)/100;\n",
"mprintf('Part(a)');\n",
"mprintf('\ncoefficient of permeability=%f m/day.',k1);\n",
"//Part (b)\n",
"R=300;               //radius of influence\n",
"H=RL1-RL3;\n",
"h=RL2-RL3;\n",
"k2=Q*24*log10(R*2/d)/(1.36*(H^2-h^2));\n",
"PE=(k2-k1)*100/k1;\n",
"mprintf('\nPart(b)');\n",
"mprintf('\npercentage error=%i percent.',PE);\n",
"//Part (b)\n",
"R=(d/2)*10^(1.36*k1*(H^2-h^2)/(24*Q));\n",
"mprintf('\nPart(c)');\n",
"mprintf('\nActual radius of influence=%i m.',R);\n",
"\n",
"\n",
""
   ]
   }
,
{
		   "cell_type": "markdown",
		   "metadata": {},
		   "source": [
			"## Example 5.9: EX5_9.sce"
		   ]
		  },
  {
"cell_type": "code",
	   "execution_count": null,
	   "metadata": {
	    "collapsed": true
	   },
	   "outputs": [],
"source": [
"\n",
"\n",
"//example 5.9\n",
"//calculate input h.p of pump\n",
"clc;\n",
"//given\n",
"A=20;            //area of field\n",
"H=129;           //level to the highest land\n",
"h1=120.2;        //water level in well during discharge\n",
"Du=800;          //duty for rise;\n",
"eita=0.6;        //efficiency of the pump\n",
"Q=A/Du;\n",
"w=Q*1000;\n",
"lift=H-h1;\n",
"//design lift is taken as 9m\n",
"wd=w*9;\n",
"o=wd/75;\n",
"i=o/eita;\n",
"mprintf('Input h.p of pump=%i h.p',i);"
   ]
   }
],
"metadata": {
		  "kernelspec": {
		   "display_name": "Scilab",
		   "language": "scilab",
		   "name": "scilab"
		  },
		  "language_info": {
		   "file_extension": ".sce",
		   "help_links": [
			{
			 "text": "MetaKernel Magics",
			 "url": "https://github.com/calysto/metakernel/blob/master/metakernel/magics/README.md"
			}
		   ],
		   "mimetype": "text/x-octave",
		   "name": "scilab",
		   "version": "0.7.1"
		  }
		 },
		 "nbformat": 4,
		 "nbformat_minor": 0
}
