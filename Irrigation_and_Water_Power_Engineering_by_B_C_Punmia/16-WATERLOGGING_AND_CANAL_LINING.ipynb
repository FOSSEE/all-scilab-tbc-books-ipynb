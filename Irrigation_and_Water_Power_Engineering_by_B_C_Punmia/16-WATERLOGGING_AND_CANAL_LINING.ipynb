{
"cells": [
 {
		   "cell_type": "markdown",
	   "metadata": {},
	   "source": [
       "# Chapter 16: WATERLOGGING AND CANAL LINING"
	   ]
	},
{
		   "cell_type": "markdown",
		   "metadata": {},
		   "source": [
			"## Example 16.10: EX16_10.sce"
		   ]
		  },
  {
"cell_type": "code",
	   "execution_count": null,
	   "metadata": {
	    "collapsed": true
	   },
	   "outputs": [],
"source": [
"\n",
"\n",
"//example 16.10\n",
"//calculate the required depth of water to be applied\n",
"clc;funcprot(0);\n",
"//given\n",
"Ecd=20;           //electrical conductivity of drainage water\n",
"Eci=1.5;        //m mho/cm\n",
"Dc=55.5;        //consumptive use\n",
"\n",
"Lr=Eci/Ecd;\n",
"D=Dc/(1-Lr);\n",
"mprintf('required depth of water to be applied=%i mm.',D);"
   ]
   }
,
{
		   "cell_type": "markdown",
		   "metadata": {},
		   "source": [
			"## Example 16.11: EX16_11.sce"
		   ]
		  },
  {
"cell_type": "code",
	   "execution_count": null,
	   "metadata": {
	    "collapsed": true
	   },
	   "outputs": [],
"source": [
"\n",
"\n",
"//example 16.11\n",
"//calculate the required depth of water to be applied\n",
"clc;funcprot(0);\n",
"//given\n",
"Eci=1.4;        // m mho/cm\n",
"Ece=11;         //saturated extract of soil\n",
"Dc=85;          //consumptive use requirement of crop\n",
"\n",
"//let us assume Ecd=2Ece\n",
"Lr=Eci/(2*Ece);\n",
"Di=Dc/(1-Lr);\n",
"Di=round(Di*10)/10;\n",
"mprintf('required depth of water to be applied=%f mm.',Di);"
   ]
   }
,
{
		   "cell_type": "markdown",
		   "metadata": {},
		   "source": [
			"## Example 16.12: EX16_12.sce"
		   ]
		  },
  {
"cell_type": "code",
	   "execution_count": null,
	   "metadata": {
	    "collapsed": true
	   },
	   "outputs": [],
"source": [
"\n",
"\n",
"//example 16.12\n",
"//calculate average boundary shear stress;\n",
"//percentage of earth work is saved in lined section\n",
"clc;funcprot(0);\n",
"//given\n",
"s=1.5;        //side slope\n",
"Q=15;         //discharge\n",
"S=1/4000;     //bed slope\n",
"Nl=0.014;      //manning n for lined channel\n",
"Nu=0.028;      //manning n for ulined channel \n",
"fb=0.75;         //free board\n",
"\n",
"//considering the perimeter of trapezoidal section\n",
"//taking minimum perimeter for given area\n",
"//i.e dP/dD=0\n",
"//we get\n",
"//A=2.1D^2; R=D/2; and P=4.2D\n",
"\n",
"//for linrd channel\n",
"//Q=AR^(2/3)*S^0.5\n",
"//substituting above values we get\n",
"D=(10.0396)^(3/8);\n",
"B=0.6*D;\n",
"R=D/2;\n",
"tau=9.81*R*S*1000;\n",
"tau=round(tau*1000)/1000;\n",
"mprintf('for lined canal:');\n",
"mprintf('\naverage boundary shear stress=%f N/square m.',tau);\n",
"Dc=D+fb;            //total depth of cutting\n",
"A1=(B+1.5*Dc)*Dc;\n",
"\n",
"//for unlined channel\n",
"//Q=AR^(2/3)*S^0.5\n",
"//substituting above values we get\n",
"D=3.08;\n",
"B=0.6*D;\n",
"R=D/2;\n",
"tau=9.81*R*S*1000;\n",
"tau=round(tau*100)/100;\n",
"mprintf('\n\nfor unlined canal:');\n",
"mprintf('\naverage boundary shear stress=%f N/square m.',tau);\n",
"Dc=D+fb;            //total depth of cutting\n",
"A2=(B+1.5*Dc)*Dc;\n",
"per=(A2-A1)*100/A2;   \n",
"per=round(per*100)/100;\n",
"mprintf('\n\npercent saving of earth=%f percent.',per);"
   ]
   }
,
{
		   "cell_type": "markdown",
		   "metadata": {},
		   "source": [
			"## Example 16.13: EX16_13.sce"
		   ]
		  },
  {
"cell_type": "code",
	   "execution_count": null,
	   "metadata": {
	    "collapsed": true
	   },
	   "outputs": [],
"source": [
"\n",
"\n",
"//example 16.13\n",
"//design a lined canal\n",
"clc;funcprot(0);\n",
"//given\n",
"Q=100;              //discharge\n",
"S=1/2500;           //bed slope\n",
"V=2;                //maximum permissible velocity\n",
"n=0.013;            //manning n\n",
"s=1.25;             //side slope\n",
"\n",
"A=Q/V;\n",
"//from manning formula  V=(R^2/3*S^1/2)/N;\n",
"R=(V*n/S^0.5)^1.5;\n",
"P=A/R;\n",
"\n",
"//now using the equation of area and perimeter of trapezoid\n",
"//area=D(B+2.5D)\n",
"//perimeter=B+3.2D;\n",
"//we get\n",
"y=poly([50,-33.73,1.95],'x','c');\n",
"D=roots(y);\n",
"//we get D=15.660087 and 1.6373489\n",
"//taking\n",
"D=1.6373489;\n",
"B=P-3.2*D;\n",
"B=round(B*10)/10;\n",
"D=round(D*100)/100;\n",
"mprintf('required bed width=%f m.',B);\n",
"mprintf('\nrequired bed depth=%f m',D);"
   ]
   }
,
{
		   "cell_type": "markdown",
		   "metadata": {},
		   "source": [
			"## Example 16.14: EX16_14.sce"
		   ]
		  },
  {
"cell_type": "code",
	   "execution_count": null,
	   "metadata": {
	    "collapsed": true
	   },
	   "outputs": [],
"source": [
"\n",
"\n",
"//example 16.14\n",
"//calculate to what extent discharge can be increased without changing bed slope\n",
"clc;funcprot(0);\n",
"//given\n",
"B=5;         //bed width\n",
"D=2;         //bed depth\n",
"S=1/1600;    //bed slope\n",
"n=0.015;     //manning n\n",
"\n",
"A=B+2*D;     //area of lining\n",
"//let B1 and D1 be new  width and depth of bed\n",
"//for getting maximum discharge we diffrentiate Q and equating it to zero\n",
"//Q=S^0.5*B1D1^5/3/n\n",
"//we get\n",
"D1=45/16;\n",
"B1=9-2*D1;\n",
"Q1=S^0.5*B1*D1^5/3/n;\n",
"D1=round(D1*10000)/10000;\n",
"mprintf('new width of bed=%f m.',B1);\n",
"mprintf('\nnew depth of bed=%f m.',D1);\n",
"mprintf('\n maximum discharge=%f cumec.',Q1);\n",
"R=D;\n",
"V=R^(2/3)*S^0.5/n;\n",
"F=V/(9.81*D)^0.5;       //froud number\n",
"R=D1;\n",
"V=R^(2/3)*S^0.5/n;\n",
"F=V/(9.81*D1)^0.5;       //froud number\n",
"mprintf('\nFroud number is less than 1 in both case.\nHence,flow doesnot change from sub-critical to super critical.');"
   ]
   }
,
{
		   "cell_type": "markdown",
		   "metadata": {},
		   "source": [
			"## Example 16.15: EX16_15.sce"
		   ]
		  },
  {
"cell_type": "code",
	   "execution_count": null,
	   "metadata": {
	    "collapsed": true
	   },
	   "outputs": [],
"source": [
"\n",
"\n",
"//example 16.15\n",
"//calculate maximum carrying capacity of canal\n",
"//area to be irrigated\n",
"clc;funcprot(0);\n",
"//given\n",
"B=5;          //bed width\n",
"D=2.5;        //bed depth\n",
"s=1.5;        //side slope\n",
"S=1/1000;     //bed slope\n",
"n=0.016;       //manning n\n",
"k=10;         //kor period\n",
"d=150;        //field irrigation requirement   \n",
"\n",
"theta=acot(s);\n",
"A=B*D+D^2*(theta+1/tan(theta));\n",
"P=B+2*D*(theta+1/tan(theta));\n",
"R=A/P;\n",
"Q=A*R^(2/3)*S^0.5/n;\n",
"V=Q*k*24*3600;   //volum of water supply by channel\n",
"A=V*10/(d*10000);\n",
"Q=round(Q*100)/100;\n",
"A=round(A)*100;\n",
"mprintf('maximum carrying capacity of canal=%f cumec.',Q);\n",
"mprintf('\nArea to be irrigated=%f hectares.',A);"
   ]
   }
,
{
		   "cell_type": "markdown",
		   "metadata": {},
		   "source": [
			"## Example 16.1: EX16_1.sce"
		   ]
		  },
  {
"cell_type": "code",
	   "execution_count": null,
	   "metadata": {
	    "collapsed": true
	   },
	   "outputs": [],
"source": [
"\n",
"\n",
"//example 16.1\n",
"//design a trapezoidal concrete lined channel\n",
"clc;funcprot(0);\n",
"//given\n",
"Q=100;               //discharge\n",
"S=25/100000;           //bed slope\n",
"N=0.016;             //rogsity coefficient\n",
"s=1.5;               //side slope\n",
"V=1.5;               //limiting velocity\n",
"\n",
"//using manning's equation  V=(R^2/3*S^1/2)/N;\n",
"R=(V*N/(S^0.5))^(1.5);      //hydraulic mean depth\n",
"\n",
"//for s=1.5;\n",
"theta=acot(1.5);\n",
"A=Q/V;\n",
"P=A/R;\n",
"//using equation of area and perimeter of trapezium\n",
"//perimeter of trapezium=b+2d(theta+cot(theta));\n",
"//area of trapezium=bd+d^2(theta+cot(theta));\n",
"//we get\n",
"y=poly([31.9,-17.1,1],'x','c');\n",
"d=roots(y);\n",
"//we get D=14.968917 and 2.1310826.\n",
"//taking\n",
"d=2.1310826;\n",
"b=P-4.18*d;\n",
"b=round(b*100)/100;\n",
"d=round(d*100)/100;\n",
"mprintf('required bed width=%f m.',b);\n",
"mprintf('\nrequired bed depth=%f m',d);"
   ]
   }
,
{
		   "cell_type": "markdown",
		   "metadata": {},
		   "source": [
			"## Example 16.2: EX16_2.sce"
		   ]
		  },
  {
"cell_type": "code",
	   "execution_count": null,
	   "metadata": {
	    "collapsed": true
	   },
	   "outputs": [],
"source": [
"\n",
"\n",
"//example 16.2\n",
"//design a trapezoidal concrete lined channel\n",
"clc;funcprot(0);\n",
"//given\n",
"Q=100;               //discharge\n",
"S=25/100000;           //bed slope\n",
"N=0.016;             //rogsity coefficient\n",
"s=1.5;               //side slope\n",
"r=8;                 //b/d ratio\n",
"\n",
"//using manning equation V=(R^2/3*S^1/2)/N;\n",
"//Perimeter=A/R \n",
"//V=Q/A and on simplification we get\n",
"d=((101/10.09)*(12.18/10.09)^(2/3))^(3/8);\n",
"b=r*d;\n",
"b=round(b);\n",
"d=round(d*100)/100;\n",
"mprintf('required bed width=%f m.',b);\n",
"mprintf('\nrequired bed depth=%f m',d);\n",
""
   ]
   }
,
{
		   "cell_type": "markdown",
		   "metadata": {},
		   "source": [
			"## Example 16.3: EX16_3.sce"
		   ]
		  },
  {
"cell_type": "code",
	   "execution_count": null,
	   "metadata": {
	    "collapsed": true
	   },
	   "outputs": [],
"source": [
"\n",
"\n",
"//example 16.3\n",
"//design a concrete lined channel\n",
"clc;funcprot(0);\n",
"//given\n",
"Q=45;              //discharge\n",
"S=1/10000;         //bed slope\n",
"s=5/4;             //side slope\n",
"N=0.018;           //rogosity coefficient(manning N)\n",
"\n",
"//channel is assumed to be of triangular section\n",
"theta=acot(s);\n",
"//using manning equation V=(R^2/3*S^1/2)/N;\n",
"//V=Q/A; \n",
"//perimeter of trapezium=b+2d(theta+cot(theta));\n",
"//area of trapezium=bd+d^2(theta+cot(theta));\n",
"//we get\n",
"d=(Q*2.86/1.925)^(3/8);\n",
"d=round(d*100)/100;\n",
"mprintf('\nrequired depth of triangular channel=%f m',d);"
   ]
   }
,
{
		   "cell_type": "markdown",
		   "metadata": {},
		   "source": [
			"## Example 16.4: EX16_4.sce"
		   ]
		  },
  {
"cell_type": "code",
	   "execution_count": null,
	   "metadata": {
	    "collapsed": true
	   },
	   "outputs": [],
"source": [
"\n",
"\n",
"//example 16.4\n",
"//design a concrete lined channel of trapezoidal section\n",
"clc;funcprot(0);\n",
"//given\n",
"Q=250;             //discharge\n",
"S=1/6000;          //bed slope\n",
"s=1.5;             //side slope\n",
"d=3;               //limiting depth\n",
"N=0.015;           //rogosity coefficient\n",
"\n",
"//using Perimeter=A/R;\n",
"//perimeter of trapezium=b+2d(theta+cot(theta));\n",
"//area of trapezium=bd+d^2(theta+cot(theta));\n",
"//Q=A*V; and on simplification\n",
"//we get\n",
"//(3b+18.81)^5/3/(b+12.54)^2/3=290.47;\n",
"//solving it by trial and error method we get\n",
"b=44.6;\n",
"mprintf('required bed width=%f m.',b);\n",
"mprintf('\nrequired bed depth=%i m',d);\n",
"\n",
" "
   ]
   }
,
{
		   "cell_type": "markdown",
		   "metadata": {},
		   "source": [
			"## Example 16.5: EX16_5.sce"
		   ]
		  },
  {
"cell_type": "code",
	   "execution_count": null,
	   "metadata": {
	    "collapsed": true
	   },
	   "outputs": [],
"source": [
"\n",
"\n",
"//example 16.5\n",
"//calculate spacing of drains\n",
"clc;funcprot(0);\n",
"//given\n",
"H=10;             //depth of impervious stratum from top soil\n",
"D=1.8;           //position of drain below top soil surface\n",
"Hw=1.5;          //depth of highest point of water\n",
"k=1D-4;         //permeability constant\n",
"\n",
"//since water has to be removed in 24 hours\n",
"b=H-Hw;\n",
"a=H-D;\n",
"L=(4*k*(b^2-a^2)*100*24*3600/0.8)^0.5;\n",
"mprintf('drains should be spaced at %i m c/c.',L);"
   ]
   }
,
{
		   "cell_type": "markdown",
		   "metadata": {},
		   "source": [
			"## Example 16.6: EX16_6.sce"
		   ]
		  },
  {
"cell_type": "code",
	   "execution_count": null,
	   "metadata": {
	    "collapsed": true
	   },
	   "outputs": [],
"source": [
"\n",
"\n",
"//example 16.6\n",
"//calculate permeability coefficient\n",
"clc;funcprot(0);\n",
"//given\n",
"L=30;         //spacing between drans\n",
"Q=4D-6;       //discharge\n",
"a=8;\n",
"b=8.3;\n",
"\n",
"k=1000000*Q*L/(4*(b^2-a^2));\n",
"k=round(k*100)/100;\n",
"mprintf('permeability coefficient=%fD-6 m/sec.',k);"
   ]
   }
,
{
		   "cell_type": "markdown",
		   "metadata": {},
		   "source": [
			"## Example 16.7: EX16_7.sce"
		   ]
		  },
  {
"cell_type": "code",
	   "execution_count": null,
	   "metadata": {
	    "collapsed": true
	   },
	   "outputs": [],
"source": [
"\n",
"\n",
"//example 16.7\n",
"//calculate annual average rainfall\n",
"clc;funcprot(0);\n",
"//given\n",
"L=50;         //spacing between drains\n",
"k=1D-5;       //permeability coefficient\n",
"a=10;\n",
"b=10.3;\n",
"\n",
"Q=4*k*(b^2-a^2)/L;\n",
"Pav=Q*24*3600*100*100/L;\n",
"mprintf('annual average rainfall=%i cm',Pav);\n",
""
   ]
   }
,
{
		   "cell_type": "markdown",
		   "metadata": {},
		   "source": [
			"## Example 16.8: EX16_8.sce"
		   ]
		  },
  {
"cell_type": "code",
	   "execution_count": null,
	   "metadata": {
	    "collapsed": true
	   },
	   "outputs": [],
"source": [
"\n",
"\n",
"//example16.8\n",
"//calculate ratio of discharge at A and B;ratio of average rainfall at A and B\n",
"clc;funcprot(0);\n",
"//given\n",
"r1=2;        //ka/kb\n",
"r2=1/1.5;    //La/Lb\n",
"r3=5/6;      //(b^2-a^2)a/((b^2-a^2)b)\n",
"\n",
"Rq=r1*r3/r2;\n",
"Rp=Rq/r2;\n",
"mprintf('ratio of discharge at A and B=%f.',Rq);\n",
"mprintf('\nratio of average rainfall at A and B=%f.',Rp);"
   ]
   }
,
{
		   "cell_type": "markdown",
		   "metadata": {},
		   "source": [
			"## Example 16.9: EX16_9.sce"
		   ]
		  },
  {
"cell_type": "code",
	   "execution_count": null,
	   "metadata": {
	    "collapsed": true
	   },
	   "outputs": [],
"source": [
"\n",
"\n",
"//example 16.9\n",
"//decide whether it is economically feasible to provide canal lining\n",
"clc;funcprot(0);\n",
"//given\n",
"li=2.5;               //seepage loss for lined channel\n",
"p1=25;                //wetted perimeter for lined channel\n",
"t=12;                 //thickness of concrete lining\n",
"lf=0.02;              //seepage loss for unlined channel\n",
"p2=20;                //wetted perimeter for unlined channel\n",
"\n",
"//assume 1 km length of canal\n",
"//annual benifit\n",
"\n",
"//(1).seepage\n",
"A1=p1*1000;             //area of wetted perimeter\n",
"li=li*p1/1000;          //seepage loss\n",
"A2=p2*1000;            //area of wetted perimmeter for unlined channel\n",
"lf=p2*lf/1000;        //seepage loss for unlined channel\n",
"s=li-lf;               //saving in water loss\n",
"a1=s*p1*100000;        //annual revenue saved\n",
"\n",
"//(2)maintainence\n",
"a2=0.4*25000;         //saving in maintainance cost\n",
"ts=a1+a2;             //total annual benifit\n",
"\n",
"//annual cost\n",
"A1=p2*1000;           //area of lining for unlinrd canal\n",
"C=100*A1;             //cost of lining\n",
"//interest rate is 6%\n",
"i=0.06;\n",
"N=50;\n",
"a=(C*i*(i+1)^N)/((1+i)^N-1);  //annual cost of lining or capital recovery factor\n",
"bcr=ts/a;                 //benifit cost ratio\n",
"bcr=round(bcr*1000)/1000;\n",
"mprintf('\nBenifit cost ratio=%f.',bcr);\n",
"//as bcr>1\n",
"mprintf(' ;Since it is more than 1.\nHence, it is economically justifiable. ');"
   ]
   }
],
"metadata": {
		  "kernelspec": {
		   "display_name": "Scilab",
		   "language": "scilab",
		   "name": "scilab"
		  },
		  "language_info": {
		   "file_extension": ".sce",
		   "help_links": [
			{
			 "text": "MetaKernel Magics",
			 "url": "https://github.com/calysto/metakernel/blob/master/metakernel/magics/README.md"
			}
		   ],
		   "mimetype": "text/x-octave",
		   "name": "scilab",
		   "version": "0.7.1"
		  }
		 },
		 "nbformat": 4,
		 "nbformat_minor": 0
}
