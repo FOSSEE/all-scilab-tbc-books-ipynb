{
"cells": [
 {
		   "cell_type": "markdown",
	   "metadata": {},
	   "source": [
       "# Chapter 1: Semiconductor Materials and Their Properties"
	   ]
	},
{
		   "cell_type": "markdown",
		   "metadata": {},
		   "source": [
			"## Example 1.10: Wavelength_of_X_ray.sce"
		   ]
		  },
  {
"cell_type": "code",
	   "execution_count": null,
	   "metadata": {
	    "collapsed": true
	   },
	   "outputs": [],
"source": [
"//Exa 1.10\n",
"clc;\n",
"clear;\n",
"close;\n",
"// Given data\n",
"a = 3.65;// in Å\n",
"a = 3.65*10^-10;// in m\n",
"h = 1;\n",
"k = 0;\n",
"l = 0;\n",
"d= a/(sqrt(h^2+k^2+l^2));// in m\n",
"n = 1;\n",
"theta = 60;// in degree\n",
"lembda = 2*d*sind(theta);// in m\n",
"lembda = lembda * 10^10;// in Å\n",
"disp(lembda,'Wavelength of X ray in  Å is');"
   ]
   }
,
{
		   "cell_type": "markdown",
		   "metadata": {},
		   "source": [
			"## Example 1.11: Glacing_angle.sce"
		   ]
		  },
  {
"cell_type": "code",
	   "execution_count": null,
	   "metadata": {
	    "collapsed": true
	   },
	   "outputs": [],
"source": [
"// Exa 1.11\n",
"clc;\n",
"clear;\n",
"close;\n",
"// Given data\n",
"lembda = 1.54;// in Å\n",
"density = 9.024;// in gm/cc\n",
"n = 1;\n",
"MI = 100;\n",
"At_W = 63.54;// atomic weight\n",
"N_A = 6.023*10^23;\n",
"m = At_W/N_A;// in gm\n",
"a =(density*m)^(1/3);// in cm\n",
"h = 1;\n",
"k = 0;\n",
"l = 0;\n",
"d= a/(sqrt(h^2+k^2+l^2));\n",
"theta = asind( (lembda * 10^-8)/(2*d) );// in degree\n",
"disp(theta,'The glancing angle in degree is');"
   ]
   }
,
{
		   "cell_type": "markdown",
		   "metadata": {},
		   "source": [
			"## Example 1.12: Wavelength_of_X_ray.sce"
		   ]
		  },
  {
"cell_type": "code",
	   "execution_count": null,
	   "metadata": {
	    "collapsed": true
	   },
	   "outputs": [],
"source": [
"// Exa 1.12\n",
"clc;\n",
"clear;\n",
"close;\n",
"// Given data\n",
"a = 3.615;// in Å\n",
"theta = 22;// in degree\n",
"n = 1;\n",
"h = 1;\n",
"k = h;\n",
"l = k;\n",
"d = a/(sqrt( ((h)^2) + ((k)^2) + ((l)^2) ));// in Å\n",
"lembda = 2*d*sind(theta);// in Å\n",
"disp(lembda,'The wavelength of X ray in Å is');\n",
"theta2 =asind( lembda/d );// in degree\n",
"theta2 = theta2 * 2;// in degree\n",
"disp(theta2,'To get the 2nd order spectrum the position of the detector in degree is'); "
   ]
   }
,
{
		   "cell_type": "markdown",
		   "metadata": {},
		   "source": [
			"## Example 1.13: Lattice_constant.sce"
		   ]
		  },
  {
"cell_type": "code",
	   "execution_count": null,
	   "metadata": {
	    "collapsed": true
	   },
	   "outputs": [],
"source": [
"// Exa 1.13\n",
"clc;\n",
"clear;\n",
"close;\n",
"// Given data\n",
"n = 1;\n",
"lembda = 1.54;// in Å\n",
"theta = 21.7;// in degree\n",
"d = lembda/(2*sind(theta));// in Å\n",
"h = 1;\n",
"k = h;\n",
"l = k;\n",
"a = d*sqrt(h^2+k^2+l^2);// in Å\n",
"disp(a,'Lattice constant in Å is');"
   ]
   }
,
{
		   "cell_type": "markdown",
		   "metadata": {},
		   "source": [
			"## Example 1.14: Distance_between_d211_planes.sce"
		   ]
		  },
  {
"cell_type": "code",
	   "execution_count": null,
	   "metadata": {
	    "collapsed": true
	   },
	   "outputs": [],
"source": [
"// Exa 1.14\n",
"clc;\n",
"clear;\n",
"close;\n",
"// Given data\n",
"h = 2;\n",
"k = 1;\n",
"l = 1;\n",
"a = 4.8;// in Å\n",
"d_211 = a/(sqrt(h^2+k^2+l^2));// in Å\n",
"disp(d_211,'The distance between planes in Å is');"
   ]
   }
,
{
		   "cell_type": "markdown",
		   "metadata": {},
		   "source": [
			"## Example 1.15: Density_of_copper.sce"
		   ]
		  },
  {
"cell_type": "code",
	   "execution_count": null,
	   "metadata": {
	    "collapsed": true
	   },
	   "outputs": [],
"source": [
"// Exa 1.15\n",
"clc;\n",
"clear;\n",
"close;\n",
"// Given data\n",
"r = 1.28;// in Å\n",
"a = (4*r)/(sqrt(2));// in Å\n",
"a = a * 10^-8;// in cm\n",
"n = 4;\n",
"M = 63.5;\n",
"N_A = 6.023*10^23;\n",
"Rho = (n*M)/( N_A*((a)^3) );// in gm/cc\n",
"disp(Rho,'Density in gm/cc is');"
   ]
   }
,
{
		   "cell_type": "markdown",
		   "metadata": {},
		   "source": [
			"## Example 1.16: Number_of_atom_per_unit_cell.sce"
		   ]
		  },
  {
"cell_type": "code",
	   "execution_count": null,
	   "metadata": {
	    "collapsed": true
	   },
	   "outputs": [],
"source": [
"// Exa 1.16\n",
"clc;\n",
"clear;\n",
"close;\n",
"// Given data\n",
"M = 55.85;\n",
"a = 2.9;// in Å\n",
"a = a * 10^-8;// in cm\n",
"Rho = 7.87;// in gm/cc\n",
"N_A = 6.023*10^23;\n",
"n = (Rho*N_A*((a)^3))/M;// atom per unit\n",
"disp('A lattice having '+string(round(n))+' atom per unit cell is a BCC structure');"
   ]
   }
,
{
		   "cell_type": "markdown",
		   "metadata": {},
		   "source": [
			"## Example 1.17: Radius_of_element_atom.sce"
		   ]
		  },
  {
"cell_type": "code",
	   "execution_count": null,
	   "metadata": {
	    "collapsed": true
	   },
	   "outputs": [],
"source": [
"// Exa 1.17\n",
"clc;\n",
"clear;\n",
"close;\n",
"// Given data\n",
"M = 60;// in gm/mole\n",
"Rho = 6.23;// in gm/cc\n",
"n = 4;\n",
"N_A = 6.023*10^23;\n",
"a = ((n*M)/(N_A * Rho))^(1/3);// in cm\n",
"r = (a*sqrt(2))/n;//radius of atom in cm\n",
"r = r * 10^8;// in Å\n",
"disp(r,'Radius of atom in Å is');"
   ]
   }
,
{
		   "cell_type": "markdown",
		   "metadata": {},
		   "source": [
			"## Example 1.18: Packing_factor.sce"
		   ]
		  },
  {
"cell_type": "code",
	   "execution_count": null,
	   "metadata": {
	    "collapsed": true
	   },
	   "outputs": [],
"source": [
"// Exa 1.18\n",
"clc;\n",
"clear;\n",
"close;\n",
"// Given data\n",
"Rho = 5.96;// in gm/cc\n",
"M = 50;\n",
"n = 2;\n",
"N_A = 6.023*10^23;\n",
"a =((n*M)/(Rho*N_A))^(1/3);// in cm\n",
"r = (a*sqrt(3))/4;// in cm\n",
"P_f = (2*(4/3)*%pi*((r)^3))/((a)^3);// packing factor\n",
"disp(P_f,'Packing factor is ');"
   ]
   }
,
{
		   "cell_type": "markdown",
		   "metadata": {},
		   "source": [
			"## Example 1.19: Number_of_unit_cell.sce"
		   ]
		  },
  {
"cell_type": "code",
	   "execution_count": null,
	   "metadata": {
	    "collapsed": true
	   },
	   "outputs": [],
"source": [
"// Exa 1.19\n",
"clc;\n",
"clear;\n",
"close;\n",
"// Given data\n",
"M = 120;\n",
"n = 2;\n",
"N_A = 6.023*10^23;\n",
"m1 = M/N_A;//mass of 1 atom in gm\n",
"m2 = n*m1;//mass of unit cell in gm\n",
"disp(20/m2,'Number of unit cell in 20 gms of element is : ')"
   ]
   }
,
{
		   "cell_type": "markdown",
		   "metadata": {},
		   "source": [
			"## Example 1.20: Distance_between_K_and_F.sce"
		   ]
		  },
  {
"cell_type": "code",
	   "execution_count": null,
	   "metadata": {
	    "collapsed": true
	   },
	   "outputs": [],
"source": [
"// Exa 1.20\n",
"clc;\n",
"clear;\n",
"close;\n",
"// Given data\n",
"Rho = 2.48;// in gm/c.c\n",
"n = 4;\n",
"M = 58;\n",
"N_A = 6.023*10^23;\n",
"a = ( (n*M)/(Rho*N_A) )^(1/3);// in cm\n",
"a = a * 10^8;// in Å\n",
"r = (a*sqrt(2))/n;// in Å\n",
"r = 2*r;// in Å\n",
"disp(r,'The center to center distance between ions in Å is');\n",
""
   ]
   }
,
{
		   "cell_type": "markdown",
		   "metadata": {},
		   "source": [
			"## Example 1.3: Volume_density_of_Si.sce"
		   ]
		  },
  {
"cell_type": "code",
	   "execution_count": null,
	   "metadata": {
	    "collapsed": true
	   },
	   "outputs": [],
"source": [
"// Exa 1.3\n",
"clc;\n",
"clear;\n",
"close;\n",
"// Given data\n",
"a = 5.3;// in Å\n",
"a= a * 10^-10;// in m\n",
"N_A = 6.023*10^23;\n",
"At_Si = 28;// atomic weight of Si\n",
"n = 4;\n",
"m = At_Si/N_A;// in gm\n",
"m= m*10^-3;// in kg\n",
"V = a^3;// in m^3\n",
"Rho = (m*n)/V;// in kg/m^3\n",
"disp(Rho,'Density of silicon crystal in kg/m^3 is');\n",
"\n",
"// Note: There is calculation error to find the value of density. So the answer in the book is wrong.\n",
"\n",
""
   ]
   }
,
{
		   "cell_type": "markdown",
		   "metadata": {},
		   "source": [
			"## Example 1.4: Density_of_copper_crystal.sce"
		   ]
		  },
  {
"cell_type": "code",
	   "execution_count": null,
	   "metadata": {
	    "collapsed": true
	   },
	   "outputs": [],
"source": [
"// Exa 1.4\n",
"clc;\n",
"clear;\n",
"close;\n",
"// Given data\n",
"n = 4;\n",
"r = 1.278;// in Å\n",
"a = (4*r)/(sqrt(2));// in Å\n",
"a = a * 10^-10;// in m\n",
"V = (a)^3;// in m^3\n",
"At_W = 63.5;// atomic weight\n",
"N_A = 6.023*10^23;\n",
"m = At_W /N_A;// in gm\n",
"m = m*10^-3;// in kg\n",
"Rho = (m*n)/V;// in kg/m^3\n",
"disp(Rho,'Density of the crystal in kg/m^3 is');\n",
"\n",
"\n",
"// Note: There is calculation error to find the value of density. So the answer in the book is wrong."
   ]
   }
,
{
		   "cell_type": "markdown",
		   "metadata": {},
		   "source": [
			"## Example 1.5: Wavelength_of_X_ray.sce"
		   ]
		  },
  {
"cell_type": "code",
	   "execution_count": null,
	   "metadata": {
	    "collapsed": true
	   },
	   "outputs": [],
"source": [
"// Exa 1.5\n",
"clc;\n",
"clear;\n",
"close;\n",
"// Given data\n",
"d = 2.82;// in Å\n",
"d = d * 10^-10;// in m\n",
"n = 1;\n",
"theta1 = 10;// in degree\n",
"lembda = 2*d*sind(theta1);// in m\n",
"lembda = lembda  * 10^10;// in Å\n",
"disp(lembda,'Wavaelength of X ray in Å is');"
   ]
   }
,
{
		   "cell_type": "markdown",
		   "metadata": {},
		   "source": [
			"## Example 1.6: Spacing_of_automatic_layer_in_the_crystal.sce"
		   ]
		  },
  {
"cell_type": "code",
	   "execution_count": null,
	   "metadata": {
	    "collapsed": true
	   },
	   "outputs": [],
"source": [
"// Exa 1.6\n",
"clc;\n",
"clear;\n",
"close;\n",
"// Given data\n",
"lembda = 1.6;// in Å\n",
"theta = 14.2;// in degree\n",
"n = 1;\n",
"d = (n*lembda)/(2*sind(theta));// in Å\n",
"disp(d,'The spacing of atomic layer in crystal in Å is');\n",
"\n",
"// Note: The unit of the answer in the book is wrong."
   ]
   }
,
{
		   "cell_type": "markdown",
		   "metadata": {},
		   "source": [
			"## Example 1.7: Interplaner_spacing.sce"
		   ]
		  },
  {
"cell_type": "code",
	   "execution_count": null,
	   "metadata": {
	    "collapsed": true
	   },
	   "outputs": [],
"source": [
"// Exa 1.7\n",
"clc;\n",
"clear;\n",
"close;\n",
"// Given data\n",
"n = 1;\n",
"theta1 = 30;// in degree\n",
"lembda = 1.78;// in Å\n",
"d = (n*lembda)/(2*sind(theta1));// in Å\n",
"disp(d,'The interplanner spacing in Å is');"
   ]
   }
,
{
		   "cell_type": "markdown",
		   "metadata": {},
		   "source": [
			"## Example 1.8: Interplaner_spacing.sce"
		   ]
		  },
  {
"cell_type": "code",
	   "execution_count": null,
	   "metadata": {
	    "collapsed": true
	   },
	   "outputs": [],
"source": [
"// Exa 1.8\n",
"clc;\n",
"clear;\n",
"close;\n",
"// Given data\n",
"lembda = 0.58;// in Å\n",
"n = 1;\n",
"theta1 = 6.45;// in degree\n",
"d = (n*lembda)/(2*sind(theta1));// in Å \n",
"disp(d,'Part (i) : At angle of 6.45°, Interplaner spacing of the crystal in Å is ');\n",
"theta2 = 9.15;// in degree\n",
"d1 = (n*lembda)/(2*sind(theta2));// in Å \n",
"disp(d1,'Part(ii) : At angle of 9.15°, Interplaner spacing of the crystal in Å is ');\n",
"theta3 = 13;// in degree\n",
"n2 = 1;\n",
"d2 = (n2*lembda)/(2*sind(theta3));// in Å \n",
"disp(d2,'Part(iii) : At angle of 13°, Interplaner spacing of the crystal in Å is ');\n",
"// For \n",
"n=2;\n",
"d2 = (n*lembda)/(2*sind(theta3));// in Å \n",
"disp(d2,'Part (iv) : The interplaner spacing in Å is : ')\n",
"disp(d1,'The interplaner spacing for some other set of reflecting in Å is : ')"
   ]
   }
,
{
		   "cell_type": "markdown",
		   "metadata": {},
		   "source": [
			"## Example 1.9: Glacing_angle.sce"
		   ]
		  },
  {
"cell_type": "code",
	   "execution_count": null,
	   "metadata": {
	    "collapsed": true
	   },
	   "outputs": [],
"source": [
"// Exa 1.9\n",
"clc;\n",
"clear;\n",
"close;\n",
"// Given data\n",
"a = 2.814;// in Å\n",
"l = 0;\n",
"h = l;\n",
"k = 0;\n",
"//d= a/(sqrt(h^2+k^2+l^2)), So\n",
"d=a;// in Å\n",
"n = 2;\n",
"lembda = 0.710;// in Å\n",
"theta = asind(n*lembda/(2*d));\n",
"disp(theta,'The glancing angle for a cubic in degree is :'); "
   ]
   }
],
"metadata": {
		  "kernelspec": {
		   "display_name": "Scilab",
		   "language": "scilab",
		   "name": "scilab"
		  },
		  "language_info": {
		   "file_extension": ".sce",
		   "help_links": [
			{
			 "text": "MetaKernel Magics",
			 "url": "https://github.com/calysto/metakernel/blob/master/metakernel/magics/README.md"
			}
		   ],
		   "mimetype": "text/x-octave",
		   "name": "scilab",
		   "version": "0.7.1"
		  }
		 },
		 "nbformat": 4,
		 "nbformat_minor": 0
}
