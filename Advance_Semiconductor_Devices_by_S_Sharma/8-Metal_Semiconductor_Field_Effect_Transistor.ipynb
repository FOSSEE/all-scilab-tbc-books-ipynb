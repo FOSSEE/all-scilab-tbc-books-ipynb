{
"cells": [
 {
		   "cell_type": "markdown",
	   "metadata": {},
	   "source": [
       "# Chapter 8: Metal Semiconductor Field Effect Transistor"
	   ]
	},
{
		   "cell_type": "markdown",
		   "metadata": {},
		   "source": [
			"## Example 8.10: Value_of_transconductance.sce"
		   ]
		  },
  {
"cell_type": "code",
	   "execution_count": null,
	   "metadata": {
	    "collapsed": true
	   },
	   "outputs": [],
"source": [
"// Exa 8.10\n",
"clc;\n",
"clear;\n",
"close;\n",
"// Given data\n",
"I_D1 = 1.9;// in mA\n",
"I_D2 = 1;// in mA\n",
"del_I_D = I_D1-I_D2;// in mA\n",
"V_GS2 = -3.3;// in V\n",
"V_GS1 = -3;// in V\n",
"del_V_GS = V_GS1-V_GS2;// in V\n",
"g_m = del_I_D/del_V_GS;// in mA/V\n",
"g_m = g_m * 10^3;// in µ mhos\n",
"disp(g_m,'The value of transconductance in µ mhos is');"
   ]
   }
,
{
		   "cell_type": "markdown",
		   "metadata": {},
		   "source": [
			"## Example 8.11: AC_drain_resistance.sce"
		   ]
		  },
  {
"cell_type": "code",
	   "execution_count": null,
	   "metadata": {
	    "collapsed": true
	   },
	   "outputs": [],
"source": [
"// Exa 8.11\n",
"clc;\n",
"clear;\n",
"close;\n",
"// Given data\n",
"V_DS1 = 14;// in V\n",
"V_DS2 = 5;// in V\n",
"del_V_DS = V_DS1-V_DS2;// in V\n",
"I_D1 = 3.3;// in mA\n",
"I_D2 = 3;// in mA\n",
"del_I_D = I_D1-I_D2;// in mA\n",
"r_d = del_V_DS/del_I_D;// in k ohms\n",
"disp(r_d,'The drain resistance in k ohms is');\n",
"V_GS1 = 0.4;// in V\n",
"V_GS2 = 0.1;// in V\n",
"del_V_GS = V_GS1-V_GS2;// in V\n",
"I_D1 = 3.3;// in mA\n",
"I_D2 = 0.71;// in mA\n",
"del_I_D = I_D1-I_D2;// in mA\n",
"g_m = del_I_D/del_V_GS;// in mA/V\n",
"g_m = g_m * 10^3;// in µmhos\n",
"disp(g_m,'The transconductance in µmhos is');\n",
"Miu =r_d*10^3*g_m*10^-6;\n",
"disp(Miu,'Amplification factor is');"
   ]
   }
,
{
		   "cell_type": "markdown",
		   "metadata": {},
		   "source": [
			"## Example 8.12: Pinch_off_voltage.sce"
		   ]
		  },
  {
"cell_type": "code",
	   "execution_count": null,
	   "metadata": {
	    "collapsed": true
	   },
	   "outputs": [],
"source": [
"// Exa 8.12\n",
"clc;\n",
"clear;\n",
"close;\n",
"// Given data\n",
"q = 1.6*10^-19;// in C\n",
"N_D = 10^15*10^6;//electrons/m^3\n",
"a = 3*10^-4;// in cm\n",
"a=a*10^-2;// in m\n",
"Epsilon_o  = (36 * %pi * 10^9)^-1;\n",
"Epsilon = 12*Epsilon_o;\n",
"V_P = (q*N_D*((a)^2))/(2*Epsilon);// in V\n",
"disp(V_P,'Pinch off voltage in V is');\n",
"V_GS = 1;// in V\n",
"V_P = 2;// in V\n",
"// Formula V_GS= V_P*(1-b/a)^2\n",
"b = a*( 1-sqrt(V_GS/V_P) );// in m\n",
"b = b * 10^6;// in µm\n",
"disp(b,'The channel half width in µm is');\n",
"\n",
"// Note: In the book, the unit of channel half width is wrong."
   ]
   }
,
{
		   "cell_type": "markdown",
		   "metadata": {},
		   "source": [
			"## Example 8.13: Value_of_VGS.sce"
		   ]
		  },
  {
"cell_type": "code",
	   "execution_count": null,
	   "metadata": {
	    "collapsed": true
	   },
	   "outputs": [],
"source": [
"// Exa 8.13\n",
"clc;\n",
"clear;\n",
"close;\n",
"// Given data\n",
"I_DSS = 8;// in mA\n",
"V_P = -4;// in V\n",
"a = 3*10^-4;// in cm\n",
"N_D = 10^15;// in electrons/cm^3\n",
"I_D = 3;// in mA\n",
"V_GS = V_P*( 1-sqrt(I_D/I_DSS) );// in V\n",
"disp(V_GS,'The value of V_GS in V is');\n",
"V_DS_sat = V_GS-V_P;// in V\n",
"disp(V_DS_sat,'The value of V_DS_sat in V is');"
   ]
   }
,
{
		   "cell_type": "markdown",
		   "metadata": {},
		   "source": [
			"## Example 8.14: Drain_current.sce"
		   ]
		  },
  {
"cell_type": "code",
	   "execution_count": null,
	   "metadata": {
	    "collapsed": true
	   },
	   "outputs": [],
"source": [
"// Exa 8.14\n",
"clc;\n",
"clear;\n",
"close;\n",
"// Given data\n",
"V_P = -4;// in V\n",
"I_DSS = 9;// in mA\n",
"V_GS = -2;// in V\n",
"I_D = I_DSS*(( 1-(V_GS/V_P) )^2);// in mA\n",
"disp(I_D,'The drain current in mA is');"
   ]
   }
,
{
		   "cell_type": "markdown",
		   "metadata": {},
		   "source": [
			"## Example 8.15: Value_of_transconductance.sce"
		   ]
		  },
  {
"cell_type": "code",
	   "execution_count": null,
	   "metadata": {
	    "collapsed": true
	   },
	   "outputs": [],
"source": [
"// Exa 8.15\n",
"clc;\n",
"clear;\n",
"close;\n",
"// Given data\n",
"I_DSS = 12;// in mA\n",
"V_P = -6;// in V\n",
"V_GS = -1;// in V\n",
"g_mo = (-2*I_DSS)/V_P;// in mA/V\n",
"g_m = g_mo*(1-(V_GS/V_P));// in mS\n",
"disp(g_m,'The value of transconductance in mS is');"
   ]
   }
,
{
		   "cell_type": "markdown",
		   "metadata": {},
		   "source": [
			"## Example 8.16: Value_of_transconductance.sce"
		   ]
		  },
  {
"cell_type": "code",
	   "execution_count": null,
	   "metadata": {
	    "collapsed": true
	   },
	   "outputs": [],
"source": [
"// Exa 8.16\n",
"clc;\n",
"clear;\n",
"close;\n",
"// Given data\n",
"I_DSS = 10;// in mA\n",
"V_P = -5;// in V\n",
"V_GS = -2.5;// in V\n",
"g_m = ((-2*I_DSS)/V_P)*(1-(V_GS/V_P));// in mS .... correction\n",
"disp(g_m,'The transconductance in mS is');\n",
"I_D = I_DSS * ((1-(V_GS/V_P))^2);// in mA\n",
"disp(I_D,'The drain current in mA is');"
   ]
   }
,
{
		   "cell_type": "markdown",
		   "metadata": {},
		   "source": [
			"## Example 8.1: Drain_current.sce"
		   ]
		  },
  {
"cell_type": "code",
	   "execution_count": null,
	   "metadata": {
	    "collapsed": true
	   },
	   "outputs": [],
"source": [
"// Exa 8.1\n",
"clc;\n",
"clear;\n",
"close;\n",
"// Given data\n",
"I_DSS = 15;// in mA\n",
"V_GS_off = -5;// in V\n",
"V_GS = 0;// in V\n",
"I_D = I_DSS*((1-(V_GS/V_GS_off))^2);// in mA\n",
"disp(I_D,'When V_GS=0, the drain current in mA is');\n",
"V_GS = -1;// in V\n",
"I_D = I_DSS*((1-(V_GS/V_GS_off))^2);// in mA\n",
"disp(I_D,'When V_GS=-1V, the drain current in mA is');\n",
"V_GS = -4;// in V\n",
"I_D = I_DSS*((1-(V_GS/V_GS_off))^2);// in mA\n",
"disp(I_D,'When V_GS=-4 V, the drain current in mA is');"
   ]
   }
,
{
		   "cell_type": "markdown",
		   "metadata": {},
		   "source": [
			"## Example 8.2: Transconductance_curve.sce"
		   ]
		  },
  {
"cell_type": "code",
	   "execution_count": null,
	   "metadata": {
	    "collapsed": true
	   },
	   "outputs": [],
"source": [
"// Exa 8.2\n",
"clc;\n",
"clear;\n",
"close;\n",
"// Given data\n",
"V_GS_off = -20;// in V\n",
"I_DSS = 12;// in mA\n",
"V_GS = 0;// in V\n",
"// For\n",
"V_GS= -20;\n",
"I_D = I_DSS*((1-(V_GS/V_GS_off))^2);// in mA\n",
"disp(I_D,'When V_GS = -20 V, the drain current in mA is');\n",
"// For\n",
"V_GS= -15;\n",
"I_D = I_DSS*((1-(V_GS/V_GS_off))^2);// in mA\n",
"disp(I_D,'When V_GS = -15 V, the drain current in mA is');\n",
"// For\n",
"V_GS= -10;\n",
"I_D = I_DSS*((1-(V_GS/V_GS_off))^2);// in mA\n",
"disp(I_D,'When V_GS = -10 V, the drain current in mA is');\n",
"// For\n",
"V_GS= -5;\n",
"I_D = I_DSS*((1-(V_GS/V_GS_off))^2);// in mA\n",
"disp(I_D,'When V_GS = -5 V, the drain current in mA is');\n",
"// For\n",
"V_GS= 0;\n",
"I_D = I_DSS*((1-(V_GS/V_GS_off))^2);// in mA\n",
"disp(I_D,'When V_GS = 0 V, the drain current in mA is');\n",
"V_GS= 0:-0.1:-20\n",
"I_D = I_DSS*((1-(V_GS/V_GS_off))^2);// in mA\n",
"plot(V_GS,I_D);\n",
"xlabel('Gate to source voltage in V')\n",
"ylabel('Drain current in mA')\n",
"title('The transconductance curve')\n",
"disp('The transconductance curve shown in figure')\n",
""
   ]
   }
,
{
		   "cell_type": "markdown",
		   "metadata": {},
		   "source": [
			"## Example 8.3: Maximum_and_minimum_transconductance.sce"
		   ]
		  },
  {
"cell_type": "code",
	   "execution_count": null,
	   "metadata": {
	    "collapsed": true
	   },
	   "outputs": [],
"source": [
"// Exa 8.3\n",
"clc;\n",
"clear;\n",
"close;\n",
"// Given data\n",
"// For maximum transconductance curve\n",
"disp('For Maximum Transconductance curve')\n",
"V_GS_off = -2;// in V\n",
"I_DSS = 8;// in mA\n",
"V_GS = 0;// in V\n",
"// For\n",
"V_GS= -2;\n",
"I_D = I_DSS*((1-(V_GS/V_GS_off))^2);// in mA\n",
"disp(I_D,'When V_GS = -2 V, the drain current in mA is');\n",
"// For\n",
"V_GS= -1.5;\n",
"I_D = I_DSS*((1-(V_GS/V_GS_off))^2);// in mA\n",
"disp(I_D,'When V_GS = -1.5 V, the drain current in mA is');\n",
"// For\n",
"V_GS= -1;\n",
"I_D = I_DSS*((1-(V_GS/V_GS_off))^2);// in mA\n",
"disp(I_D,'When V_GS = -1 V, the drain current in mA is');\n",
"// For\n",
"V_GS= -0.5;\n",
"I_D = I_DSS*((1-(V_GS/V_GS_off))^2);// in mA\n",
"disp(I_D,'When V_GS = -0.5 V, the drain current in mA is');\n",
"// For\n",
"V_GS= 0;\n",
"I_D = I_DSS*((1-(V_GS/V_GS_off))^2);// in mA\n",
"disp(I_D,'When V_GS = 0 V, the drain current in mA is');\n",
"\n",
"// For maximum transconductance curve\n",
"disp('For Maximum Transconductance curve')\n",
"V_GS_off = -6;// in V\n",
"I_DSS = 20;// in mA\n",
"V_GS = 0;// in V\n",
"// For\n",
"V_GS= -6;\n",
"I_D = I_DSS*((1-(V_GS/V_GS_off))^2);// in mA\n",
"disp(I_D,'When V_GS = -6 V, the drain current in mA is');\n",
"// For\n",
"V_GS= -4;\n",
"I_D = I_DSS*((1-(V_GS/V_GS_off))^2);// in mA\n",
"disp(I_D,'When V_GS = -4 V, the drain current in mA is');\n",
"// For\n",
"V_GS= -2;\n",
"I_D = I_DSS*((1-(V_GS/V_GS_off))^2);// in mA\n",
"disp(I_D,'When V_GS = -2 V, the drain current in mA is');\n",
"// For\n",
"V_GS= 0;\n",
"I_D = I_DSS*((1-(V_GS/V_GS_off))^2);// in mA\n",
"disp(I_D,'When V_GS = 0 V, the drain current in mA is');\n",
"// For maximum transconductance curve\n",
"V_GS_off=-6;// in V\n",
"I_DSS= 20;// in mA\n",
"V_GS= 0:-0.1:-6;// in volt\n",
"I_D = I_DSS*((1-(V_GS/V_GS_off))^2);// in mA\n",
"// For minimum transconductance curve\n",
"plot(V_GS,I_D);\n",
"V_GS_off=-2;// in V\n",
"I_DSS= 8;// in mA\n",
"V_GS= 0:-0.1:-2;// in volt\n",
"I_D = I_DSS*((1-(V_GS/V_GS_off))^2);// in mA\n",
"plot(V_GS,I_D);\n",
"xlabel('Gate to source voltage in V')\n",
"ylabel('Drain current in mA')\n",
"title('The minimum and maximum transconductance curve')\n",
"disp('The minimum and maximum transconductance curve shown in figure')\n",
"\n",
"// Note: For maximum transconductance curve the value of drain current at V_GS =-2 is wrong.\n",
"\n",
"\n",
"\n",
""
   ]
   }
,
{
		   "cell_type": "markdown",
		   "metadata": {},
		   "source": [
			"## Example 8.4: Drain_current.sce"
		   ]
		  },
  {
"cell_type": "code",
	   "execution_count": null,
	   "metadata": {
	    "collapsed": true
	   },
	   "outputs": [],
"source": [
"// Exa 8.4\n",
"clc;\n",
"clear;\n",
"close;\n",
"// Given data\n",
"I_DSS = 20;// in mA\n",
"V_P = -8;// in V\n",
"g_mo = 5000;// in µs\n",
"V_GS = -4;// in V\n",
"I_D = I_DSS*((1-(V_GS/V_P))^2);// in mA\n",
"disp(I_D,'The value of drain current in mA is');\n",
"g_m = g_mo*(1-(V_GS/V_P));// in µs\n",
"disp(g_m,'The transconductance in µs is');"
   ]
   }
,
{
		   "cell_type": "markdown",
		   "metadata": {},
		   "source": [
			"## Example 8.5: Drain_current.sce"
		   ]
		  },
  {
"cell_type": "code",
	   "execution_count": null,
	   "metadata": {
	    "collapsed": true
	   },
	   "outputs": [],
"source": [
"// Exa 8.5\n",
"clc;\n",
"clear;\n",
"close;\n",
"// Given data\n",
"I_D1 = 10;// in mA\n",
"V_GS = -12;// in V\n",
"V_GSth = -3;// in V\n",
"K = I_D1/( (V_GS-V_GSth)^2 );// in mA/V\n",
"V_GS= -6;// in V\n",
"I_D = K*((V_GS-V_GSth)^2);// in mA\n",
"disp(I_D,'The value of I_D in mA is');"
   ]
   }
,
{
		   "cell_type": "markdown",
		   "metadata": {},
		   "source": [
			"## Example 8.7: Minimum_value_of_VDS.sce"
		   ]
		  },
  {
"cell_type": "code",
	   "execution_count": null,
	   "metadata": {
	    "collapsed": true
	   },
	   "outputs": [],
"source": [
"// Exa 8.7\n",
"clc;\n",
"clear;\n",
"close;\n",
"// Given data\n",
"V_GS = -2;// in V\n",
"V_P = -5;// in V\n",
"V_DS = V_GS-V_P;// in V\n",
"I_DSS = 8;// in mA\n",
"disp(V_DS,'The minimum value of V_DS in V is');\n",
"I_D = I_DSS*((1-(V_GS/V_P))^2);// in mA\n",
"disp(I_D,'The drain current in mA is');"
   ]
   }
,
{
		   "cell_type": "markdown",
		   "metadata": {},
		   "source": [
			"## Example 8.8: Value_of_Vgs_and_gm.sce"
		   ]
		  },
  {
"cell_type": "code",
	   "execution_count": null,
	   "metadata": {
	    "collapsed": true
	   },
	   "outputs": [],
"source": [
"// Exa 8.8\n",
"clc;\n",
"clear;\n",
"close;\n",
"// Given data\n",
"V_P = -2;// in V\n",
"I_DSS = 1.65;// in mA\n",
"I_D = 0.8;// in mA\n",
"V_DD = 24;// in V\n",
"V_GS = V_P*(1- sqrt(I_D/I_DSS) );// in V\n",
"disp(V_GS,'The value of V_GS in V is');\n",
"g_mo = -(2*I_DSS)/V_P;// in mS\n",
"g_m = g_mo*(1-(V_GS/V_P));// in mS\n",
"disp(g_m,'The value of g_m in mS is');"
   ]
   }
,
{
		   "cell_type": "markdown",
		   "metadata": {},
		   "source": [
			"## Example 8.9: Gate_source_voltage.sce"
		   ]
		  },
  {
"cell_type": "code",
	   "execution_count": null,
	   "metadata": {
	    "collapsed": true
	   },
	   "outputs": [],
"source": [
"// Exa 8.9\n",
"clc;\n",
"clear;\n",
"close;\n",
"// Given data\n",
"V_P = 5;// in V\n",
"I_DSS = -40;// in mA\n",
"I_D = -15;// in mA\n",
"V_GS = V_P*(sqrt(I_D/I_DSS)-1 );// in V\n",
"disp(abs(V_GS),'The gate source voltage in V is');"
   ]
   }
],
"metadata": {
		  "kernelspec": {
		   "display_name": "Scilab",
		   "language": "scilab",
		   "name": "scilab"
		  },
		  "language_info": {
		   "file_extension": ".sce",
		   "help_links": [
			{
			 "text": "MetaKernel Magics",
			 "url": "https://github.com/calysto/metakernel/blob/master/metakernel/magics/README.md"
			}
		   ],
		   "mimetype": "text/x-octave",
		   "name": "scilab",
		   "version": "0.7.1"
		  }
		 },
		 "nbformat": 4,
		 "nbformat_minor": 0
}
