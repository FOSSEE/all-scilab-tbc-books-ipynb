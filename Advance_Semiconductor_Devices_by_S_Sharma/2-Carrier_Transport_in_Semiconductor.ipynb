{
"cells": [
 {
		   "cell_type": "markdown",
	   "metadata": {},
	   "source": [
       "# Chapter 2: Carrier Transport in Semiconductor"
	   ]
	},
{
		   "cell_type": "markdown",
		   "metadata": {},
		   "source": [
			"## Example 2.10: Conductivity_of_pure_Si.sce"
		   ]
		  },
  {
"cell_type": "code",
	   "execution_count": null,
	   "metadata": {
	    "collapsed": true
	   },
	   "outputs": [],
"source": [
"// Exa 2.10\n",
"clc;\n",
"clear;\n",
"close;\n",
"// Given data\n",
"Miu_e = 1500;// in cm^2/volt.sec\n",
"Miu_h = 500;// in cm^2/volt.sec\n",
"n_i = 1.6*10^10;// in /cm^3\n",
"e = 1.6*10^-19;// in C\n",
"Sigma_i = n_i*(Miu_e+Miu_h)*e;// in mho/cm\n",
"Sigma = Sigma_i;// in mho/cm\n",
"disp(Sigma,'The conductivity of pure silicon in mho/cm is');"
   ]
   }
,
{
		   "cell_type": "markdown",
		   "metadata": {},
		   "source": [
			"## Example 2.11: Number_of_donor_atoms.sce"
		   ]
		  },
  {
"cell_type": "code",
	   "execution_count": null,
	   "metadata": {
	    "collapsed": true
	   },
	   "outputs": [],
"source": [
"// Exa 2.11\n",
"clc;\n",
"clear;\n",
"close;\n",
"// Given data\n",
"Miu_d = 500;// in cm^2/V.S\n",
"Rho = 10;// in ohm cm \n",
"e = 1.6*10^-19;// in C\n",
"n_d = 1/(Rho*e*Miu_d);// in /cm^3... correction\n",
"disp(n_d,'The number of donor atom per cm^3 is');\n",
""
   ]
   }
,
{
		   "cell_type": "markdown",
		   "metadata": {},
		   "source": [
			"## Example 2.12: Conductivity_of_speciman.sce"
		   ]
		  },
  {
"cell_type": "code",
	   "execution_count": null,
	   "metadata": {
	    "collapsed": true
	   },
	   "outputs": [],
"source": [
"// Exa 2.12\n",
"clc;\n",
"clear;\n",
"close;\n",
"// Given data\n",
"d = 5.32;// in gm/cc\n",
"N_A = 6.02*10^23;// in atoms/gm.mole\n",
"At = 72.6;//atomic weight\n",
"Miu = 3800;// in cm^2/v.s\n",
"n_d = (N_A/At) * d;// in /cm^3\n",
"n_d = n_d * 10^-8;// in /cc\n",
"e = 1.6*10^-19;// in C\n",
"Sigma = n_d * Miu * e;// in mho/cm\n",
"disp(Sigma,'The conductivity of specimen in mho/cm is');"
   ]
   }
,
{
		   "cell_type": "markdown",
		   "metadata": {},
		   "source": [
			"## Example 2.13: Mobility_of_electrons_in_Ge.sce"
		   ]
		  },
  {
"cell_type": "code",
	   "execution_count": null,
	   "metadata": {
	    "collapsed": true
	   },
	   "outputs": [],
"source": [
"// Exa 2.13\n",
"clc;\n",
"clear;\n",
"close;\n",
"// Given data\n",
"Rho = 0.3623*10^-3;// in ohm m\n",
"d = 4.42*10^28;// Ge density in atoms/m^3\n",
"Sigma = 1/Rho;// in mho/m\n",
"n_d = d*10^-6;// in atoms/m^3\n",
"e = 1.6*10^-19;// in C\n",
"Miu = Sigma/(n_d*e);// in m^2/V.sec\n",
"disp(Miu,'The electron mobility in m^2/V-sec is');\n",
""
   ]
   }
,
{
		   "cell_type": "markdown",
		   "metadata": {},
		   "source": [
			"## Example 2.14: Density_and_mobility_of_holes.sce"
		   ]
		  },
  {
"cell_type": "code",
	   "execution_count": null,
	   "metadata": {
	    "collapsed": true
	   },
	   "outputs": [],
"source": [
"// Exa 2.14\n",
"clc;\n",
"clear;\n",
"close;\n",
"// Given data\n",
"N_A = 6.025*10^26;// in /kg.Mole\n",
"At = 72.59;// atomic weight\n",
"d = 5.36*10^3;// in kg/m^3\n",
"R = 0.42;// in ohm m\n",
"B_i = 10^-6;//rate of boron impurity in %\n",
"e = 1.6*10^-19;// in C\n",
"n = (N_A/At)*d;// number of Ge atoms\n",
"h = n/10^8;//holes per unit volume\n",
"Miu_h = 1/(R*h*e);// in m^2/V.sec\n",
"disp(Miu_h,'The Mobility of holes in m^2/V-sec is');"
   ]
   }
,
{
		   "cell_type": "markdown",
		   "metadata": {},
		   "source": [
			"## Example 2.15: Current_produced.sce"
		   ]
		  },
  {
"cell_type": "code",
	   "execution_count": null,
	   "metadata": {
	    "collapsed": true
	   },
	   "outputs": [],
"source": [
"// Exa 2.15\n",
"clc;\n",
"clear;\n",
"close;\n",
"// Given data\n",
"n_i = 2*10^19;// in /m^3\n",
"Miu_e = 0.36;// in m^2/v.s\n",
"Miu_h = 0.17;// in m^2/v.s\n",
"A = 1*10^-4;// in m^2\n",
"V = 2;// in Volts\n",
"l = 0.3;// in mm\n",
"l = l * 10^-3;// in m\n",
"e = 1.6*10^-19;// in C\n",
"Sigma_i = n_i * e * (Miu_e+Miu_h);// in mho/m\n",
"I = (Sigma_i * V*A)/l;// in amp \n",
"disp(I,'The current in amp is');"
   ]
   }
,
{
		   "cell_type": "markdown",
		   "metadata": {},
		   "source": [
			"## Example 2.16: Resistivity_of_doped_Ge.sce"
		   ]
		  },
  {
"cell_type": "code",
	   "execution_count": null,
	   "metadata": {
	    "collapsed": true
	   },
	   "outputs": [],
"source": [
"// Exa 2.16\n",
"clc;\n",
"clear;\n",
"close;\n",
"// Given data\n",
"d = 4.2*10^28;// in atoms/m^3\n",
"n_d = d/10^6;// in atoms/m^3\n",
"e = 1.6*10^-19;// in C\n",
"Miu_e = 0.36;// in m^2/V-sec\n",
"Sigma_n = n_d *e *Miu_e;// in mho/m\n",
"Rho_n = 1/Sigma_n;// in ohm m\n",
"disp(Rho_n,'The resistivity in Ωm is');"
   ]
   }
,
{
		   "cell_type": "markdown",
		   "metadata": {},
		   "source": [
			"## Example 2.17: Current_produced.sce"
		   ]
		  },
  {
"cell_type": "code",
	   "execution_count": null,
	   "metadata": {
	    "collapsed": true
	   },
	   "outputs": [],
"source": [
"// Exa 2.17\n",
"clc;\n",
"clear;\n",
"close;\n",
"// Given data\n",
"n_i = 1*10^19;// in /m^3\n",
"Miu_e = 0.36;// in m^2/volt.sec\n",
"Miu_h = 0.17;// in m^2/volt.sec\n",
"A = 2;// in cm^2\n",
"A = A *  10^-4;// in m^2\n",
"t = 0.1;// in mm\n",
"t = t*10^-3;// in m\n",
"V = 4;// in volts\n",
"e = 1.6*10^-19;// in C\n",
"Sigma_i = n_i * e * (Miu_e + Miu_h);// mho/m\n",
"J = Sigma_i * (V/t);// in Amp/m^2\n",
"I = J*A;// in Amp\n",
"disp(I,'The current in Amp is');"
   ]
   }
,
{
		   "cell_type": "markdown",
		   "metadata": {},
		   "source": [
			"## Example 2.18: Conductivity_of_pure_Si.sce"
		   ]
		  },
  {
"cell_type": "code",
	   "execution_count": null,
	   "metadata": {
	    "collapsed": true
	   },
	   "outputs": [],
"source": [
"// Exa 2.18\n",
"clc;\n",
"clear;\n",
"close;\n",
"// Given data\n",
"Miu_h = 500;// in cm^2/V.s\n",
"Miu_e = 1500;// in cm^2/V.s\n",
"n_i = 1.6*10^10;// in /cm^3\n",
"e = 1.6*10^-19;// in C\n",
"Sigma_i = n_i * e * (Miu_e+Miu_h);// in mho/cm\n",
"disp(Sigma_i,'The conductivity of pure silicon in mho/cm is');"
   ]
   }
,
{
		   "cell_type": "markdown",
		   "metadata": {},
		   "source": [
			"## Example 2.19: Hall_voltage_produced.sce"
		   ]
		  },
  {
"cell_type": "code",
	   "execution_count": null,
	   "metadata": {
	    "collapsed": true
	   },
	   "outputs": [],
"source": [
"// Exa 2.19\n",
"clc;\n",
"clear;\n",
"close;\n",
"// Given data\n",
"Si_density = 10.5;// in gm/cc\n",
"N_A = 6.025*10^23;\n",
"At = 108;//atomic weight\n",
"B = 0.8;// in Tesla\n",
"w = 0.50;// in cm\n",
"w = w * 10^-2;// in m\n",
"t = 0.10;// in mm\n",
"t = t * 10^-3;// in m\n",
"A = w*t;// in m^2\n",
"q = 1.6*10^-19;// in C\n",
"I = 2;// in ampere\n",
"n = (N_A/At) * Si_density ;// in /cc\n",
"n = n * 10^6;// in /m^3\n",
"V_H = (B*I*t)/(n*q*A);// in volts\n",
"disp(V_H,'The hall voltage produced in volts is');"
   ]
   }
,
{
		   "cell_type": "markdown",
		   "metadata": {},
		   "source": [
			"## Example 2.1: Energy_gap.sce"
		   ]
		  },
  {
"cell_type": "code",
	   "execution_count": null,
	   "metadata": {
	    "collapsed": true
	   },
	   "outputs": [],
"source": [
"// Exa 2.1\n",
"clc;\n",
"clear;\n",
"close;\n",
"// Given data\n",
"lembda = 11000;// in Å\n",
"lembda = lembda * 10^-10;\n",
"h = 6.625*10^-34;\n",
"c = 3*10^8;\n",
"q = 1.6*10^-19;// in C\n",
"E_g = h*c/lembda;// in J\n",
"E_g= E_g/q;// in eV\n",
"disp(E_g,'The energy gap in Si in eV is');\n",
"\n",
"// Note: The answer in the book is not correct "
   ]
   }
,
{
		   "cell_type": "markdown",
		   "metadata": {},
		   "source": [
			"## Example 2.20: Hall_coefficient_and_mobility_of_electrons.sce"
		   ]
		  },
  {
"cell_type": "code",
	   "execution_count": null,
	   "metadata": {
	    "collapsed": true
	   },
	   "outputs": [],
"source": [
"// Exa 2.20\n",
"clc;\n",
"clear;\n",
"close;\n",
"// Given data\n",
"Sigma = 5.8*10^7;// in mho/m\n",
"l = 1;// in m\n",
"d = 1;// in cm\n",
"d = d * 10^-2;// in m\n",
"W = 1;// in mm \n",
"W = W*10^-3;// in m\n",
"I = 1;// in Amp\n",
"B = 1;// in Tesla\n",
"V_H = 0.074*10^-6;// in Volts\n",
"A = 10^-2 * 10^-3;// in m^2\n",
"R_H = (V_H*A)/(B*I*d);// in m^3/c\n",
"disp(R_H,'Hall coefficient in m^3/c is');\n",
"Miu = Sigma * R_H;// in m^2/volt.sec\n",
"disp(Miu,'The mobility of electron in m^2/volt.sec is');"
   ]
   }
,
{
		   "cell_type": "markdown",
		   "metadata": {},
		   "source": [
			"## Example 2.21: Ratio_of_electron_to_hole_concentration.sce"
		   ]
		  },
  {
"cell_type": "code",
	   "execution_count": null,
	   "metadata": {
	    "collapsed": true
	   },
	   "outputs": [],
"source": [
"// Exa 2.21\n",
"clc;\n",
"clear;\n",
"close;\n",
"// Given data\n",
"n_i = 1.4*10^18;// in /m^3\n",
"n_D = 1.4*10^24;// in /m^3\n",
"n = n_D;// in /m^3\n",
"p = n_i^2/n;// in /m^3\n",
"disp(p,'Concentration of holes per m^3 is');\n",
"R_e = n/p;// Ratio of electron \n",
"disp(R_e,'Ratio of electron to hole concentration is');"
   ]
   }
,
{
		   "cell_type": "markdown",
		   "metadata": {},
		   "source": [
			"## Example 2.22: Hall_angle.sce"
		   ]
		  },
  {
"cell_type": "code",
	   "execution_count": null,
	   "metadata": {
	    "collapsed": true
	   },
	   "outputs": [],
"source": [
"// Exa 2.22\n",
"clc;\n",
"clear;\n",
"close;\n",
"// Given data\n",
"B = 0.48;// in Wb/m^2\n",
"R_H = 3.6 * 10^-4;// in m^3/c\n",
"R = 9*10^-3;// in ohm-m\n",
"Sigma = 1/R;// in (ohm-m)^-1\n",
"Rho = 1/R_H;// in coulomb/m^3\n",
"e = 1.6*10^-19;// in C\n",
"n = Rho/e;// in /m^3\n",
"Miu = Sigma * R_H;// in m^2/volt-s\n",
"disp(Miu,'The mobility of electron in m^2/volt-s is');"
   ]
   }
,
{
		   "cell_type": "markdown",
		   "metadata": {},
		   "source": [
			"## Example 2.23: Current_density_in_speciman.sce"
		   ]
		  },
  {
"cell_type": "code",
	   "execution_count": null,
	   "metadata": {
	    "collapsed": true
	   },
	   "outputs": [],
"source": [
"// Exa 2.23\n",
"clc;\n",
"clear;\n",
"close;\n",
"// Given data\n",
"e = 1.6*10^-19;// in C\n",
"R_H = 0.0145;// in m^3/coulomb\n",
"Miu_e = 0.36;// m^2/v-s\n",
"E = 100;// V/m\n",
"n = 1/(e*R_H);// in /m^3\n",
"J= n*e*Miu_e*E;// in A/m^2\n",
"disp(J,'The current density in A/m^2 is');"
   ]
   }
,
{
		   "cell_type": "markdown",
		   "metadata": {},
		   "source": [
			"## Example 2.24: Relaxation_time.sce"
		   ]
		  },
  {
"cell_type": "code",
	   "execution_count": null,
	   "metadata": {
	    "collapsed": true
	   },
	   "outputs": [],
"source": [
"// Exa 2.24\n",
"clc;\n",
"clear;\n",
"close;\n",
"// Given data\n",
"e = 1.6*10^-19;// in C\n",
"Miu_e = 7.04*10^-3;// in m^2/volt-sec\n",
"n = 5.8*10^28;// number of electron/m^3\n",
"m = 9.1*10^-31;\n",
"E_F = 5.5;// in eV\n",
"Torque = (Miu_e/e)*m;// in sec \n",
"disp(Torque,'Relaxtion time in sec is');\n",
"Rho = 1/(n*e*Miu_e);// in ohm cm\n",
"disp(Rho,'Resistivity of conductor in Ωm is');\n",
"V_F = sqrt( (2*E_F*e)/m );// in m/s\n",
"disp(V_F,'Velocity of electron with the fermi energy in m/s is');\n",
"\n",
"// Note: The calculation of Part (ii) is wrong also the unit of resistivity of conductor is wrong"
   ]
   }
,
{
		   "cell_type": "markdown",
		   "metadata": {},
		   "source": [
			"## Example 2.25: Temperature.sce"
		   ]
		  },
  {
"cell_type": "code",
	   "execution_count": null,
	   "metadata": {
	    "collapsed": true
	   },
	   "outputs": [],
"source": [
"// Exa 2.25\n",
"clc;\n",
"clear;\n",
"close;\n",
"// Given data\n",
"E= 5.95;// in eV\n",
"EF= 6.25;// in eV\n",
"delE= 0.01;\n",
" // delE= 1-1/(1+exp((E-EF)/KT))\n",
"K=1.38*10^-23;// Boltzman Constant in J/K\n",
"T = ((E-EF)/log(1/(1-delE) -1)*1.6*10^-19)/K;// in K\n",
"disp(T,'The temperature in K is : ')\n",
" "
   ]
   }
,
{
		   "cell_type": "markdown",
		   "metadata": {},
		   "source": [
			"## Example 2.26: Thermal_equilibrium_hole_concentration.sce"
		   ]
		  },
  {
"cell_type": "code",
	   "execution_count": null,
	   "metadata": {
	    "collapsed": true
	   },
	   "outputs": [],
"source": [
"// Exa 2.26\n",
"clc;\n",
"clear;\n",
"close;\n",
"// Given data\n",
"T1 = 400;// in K\n",
"T2 = 300;// in K\n",
"N_V = 1.04*10^19;// in cm^-3\n",
"N1 = N_V*((T1/T2)^(3/2));// in cm^-3\n",
"KT = 0.0259*(T1/T2);// in eV\n",
"FermiLevel= 0.27;// in eV\n",
"P_O = N1*exp( (-FermiLevel)/KT );// in cm^-3\n",
"disp(P_O,'The thermal equillibrium hole concentration in cm^-3 is');"
   ]
   }
,
{
		   "cell_type": "markdown",
		   "metadata": {},
		   "source": [
			"## Example 2.27: Required_doping_concentration.sce"
		   ]
		  },
  {
"cell_type": "code",
	   "execution_count": null,
	   "metadata": {
	    "collapsed": true
	   },
	   "outputs": [],
"source": [
"// Exa 2.27\n",
"clc;\n",
"clear;\n",
"close;\n",
"// Given data\n",
"T1 = 550;// in K\n",
"T2 = 300;// in K\n",
"N1 = 1.04*10^19;\n",
"N_V = N1*((T1/T2)^(3));\n",
"N_C = 2.8*10^19;\n",
"E_g = -1.12;\n",
"KT = 0.0259*(T1/T2);\n",
"n_i = sqrt(N_C*N_V*exp(E_g/KT));// in cm^-3\n",
"disp(n_i,'The value of n_i in cm^-3 is : ')\n",
"//Formula n_o= Nd/2+sqrt((Nd/2)^2+n_i^2) and n_o = 1.05*N_d;\n",
"Nd= sqrt(n_i^2/((1.05-1/2)^2-(1/2)^2))\n",
"disp(Nd,'The value of N_d in cm^-3 is : ')\n",
""
   ]
   }
,
{
		   "cell_type": "markdown",
		   "metadata": {},
		   "source": [
			"## Example 2.28: Quasi_Fermi_energy_levels.sce"
		   ]
		  },
  {
"cell_type": "code",
	   "execution_count": null,
	   "metadata": {
	    "collapsed": true
	   },
	   "outputs": [],
"source": [
"// Exa 2.28\n",
"clc;\n",
"clear;\n",
"close;\n",
"// Given data\n",
"n_o = 10^15;// in cm^-3\n",
"n_i = 10^10;// in cm^-3\n",
"p_o = 10^5;// in cm^-3\n",
"del_p = 10^13;// in cm^-3\n",
"del_n = del_p;// in cm^-3\n",
"KT= 0.0259;// in eV\n",
"Fermi_level= KT*log(n_o/n_i);// in eV\n",
"disp(Fermi_level,'Fermi level for thermal equillibrium in eV is :')\n",
"Fermi_level= KT*log((n_o+del_n)/n_i);// in eV\n",
"disp(Fermi_level,'Quasi-Fermi level for electrons in non equillibrium in eV is :')\n",
"Fermi_level= KT*log((p_o+del_p)/n_i);// in eV\n",
"disp(Fermi_level,'Quasi-Fermi level for holes in non equillibrium in eV is :')"
   ]
   }
,
{
		   "cell_type": "markdown",
		   "metadata": {},
		   "source": [
			"## Example 2.2: Wavelength.sce"
		   ]
		  },
  {
"cell_type": "code",
	   "execution_count": null,
	   "metadata": {
	    "collapsed": true
	   },
	   "outputs": [],
"source": [
"// Exa 2.2\n",
"clc;\n",
"clear;\n",
"close;\n",
"// Given data\n",
"E_g = 0.75;// in eV\n",
"q=1.6*10^-19;// in C\n",
"E_g = E_g*q;// in J\n",
"h = 6.63*10^-34;// in J\n",
"c = 3*10^8;// in m/s\n",
"lembda = (h*c)/E_g;// in m\n",
"lembda = lembda * 10^10;// in Å\n",
"disp(lembda,'The wavelength in Å is');"
   ]
   }
,
{
		   "cell_type": "markdown",
		   "metadata": {},
		   "source": [
			"## Example 2.3: Position_of_Fermi_level.sce"
		   ]
		  },
  {
"cell_type": "code",
	   "execution_count": null,
	   "metadata": {
	    "collapsed": true
	   },
	   "outputs": [],
"source": [
"// Exa 2.3\n",
"clc;\n",
"clear;\n",
"close;\n",
"// Given data\n",
"del_E = 0.3;//value of E_C-E_F in eV\n",
"T1 = 330;// in K\n",
"T = 300;// in K\n",
"del_E1 = del_E*(T1/T);//value of E_C-E_F in eV\n",
"disp(del_E1,'The position of fermi level in eV is');\n",
"disp('Hence the Fermi level will be '+string(del_E1)+' eV below the conduction band')"
   ]
   }
,
{
		   "cell_type": "markdown",
		   "metadata": {},
		   "source": [
			"## Example 2.4: Probability.sce"
		   ]
		  },
  {
"cell_type": "code",
	   "execution_count": null,
	   "metadata": {
	    "collapsed": true
	   },
	   "outputs": [],
"source": [
"// Exa 2.4\n",
"clc;\n",
"clear;\n",
"close;\n",
"// Given data\n",
"K = 8.63*10^-5;\n",
"T = 300;// in K\n",
"N_C = 2.8*10^19;// in cm^-3\n",
"del_E = 0.25;\n",
"f_F = exp( (-del_E)/(K*T) );\n",
"disp(f_F,'The probability is : ');\n",
"n_o = N_C*exp( (-del_E)/(K*T) );// in cm^-3\n",
"disp(n_o,'The thermal equillibrium electron concentration in cm^-3 is');"
   ]
   }
,
{
		   "cell_type": "markdown",
		   "metadata": {},
		   "source": [
			"## Example 2.5: Thermal_equilibrium_hole_concentration.sce"
		   ]
		  },
  {
"cell_type": "code",
	   "execution_count": null,
	   "metadata": {
	    "collapsed": true
	   },
	   "outputs": [],
"source": [
"// Exa 2.5\n",
"clc;\n",
"clear;\n",
"close;\n",
"// Given data\n",
"N_V = 1.04*10^19;// in cm^-3\n",
"T1 = 400;// in K\n",
"T2 = 300;// in K\n",
"del_E = 0.27;//value of E_F-E_V in eV\n",
"K = 0.0259;\n",
"N_V= N_V*(T1/T2)^(3/2);// in cm^-3\n",
"KT = K*(T1/T2);// in eV\n",
"p_o = N_V*exp( (-del_E)/(KT) );// in /cm^3\n",
"disp(p_o,'The hole concentration per cm^3 is');"
   ]
   }
,
{
		   "cell_type": "markdown",
		   "metadata": {},
		   "source": [
			"## Example 2.6: Mobility_of_electrons_in_copper.sce"
		   ]
		  },
  {
"cell_type": "code",
	   "execution_count": null,
	   "metadata": {
	    "collapsed": true
	   },
	   "outputs": [],
"source": [
"// Exa 2.6\n",
"clc;\n",
"clear;\n",
"close;\n",
"// Given data\n",
"N = 6.02*10^23;\n",
"A = 63.5;// atomic weight\n",
"Rho = 1.7*10^-6;// in ohm cm\n",
"d = 8.96;// in gm/cc\n",
"n = (N/A)*d;// in /cc\n",
"e = 1.6*10^-19;// in C\n",
"Miu_e = 1/(Rho*n*e);// in cm^2/volt-sec\n",
"disp(Miu_e,'The mobility of electron in cm^2/volt.sec is');"
   ]
   }
,
{
		   "cell_type": "markdown",
		   "metadata": {},
		   "source": [
			"## Example 2.7: Density_of_free_electrons.sce"
		   ]
		  },
  {
"cell_type": "code",
	   "execution_count": null,
	   "metadata": {
	    "collapsed": true
	   },
	   "outputs": [],
"source": [
"// Exa 2.7\n",
"clc;\n",
"clear;\n",
"close;\n",
"// Given data\n",
"d = 8.96;// in gm/cc\n",
"At = 63.5;// atomic weight\n",
"N_A = 6.02*10^23;// in /gm mole\n",
"l = 0.1;// in m\n",
"e = 1.6*10^-19;// in C\n",
"A = 1.7*10^-6;// in m^2\n",
"R = 0.1;// in ohm\n",
"n = (N_A/At)*d;// in /cc\n",
"n = n * 10^6;// in /m^3\n",
"Rho = (R*A)/l;// in ohm.m\n",
"Sigma = 1/Rho;// in mho/m\n",
"Miu_e = Sigma/(n*e);// in m^2/V-sec\n",
"disp(Miu_e,'The electron mobility in m^2/V-sec is ');"
   ]
   }
,
{
		   "cell_type": "markdown",
		   "metadata": {},
		   "source": [
			"## Example 2.8: Drift_velocity.sce"
		   ]
		  },
  {
"cell_type": "code",
	   "execution_count": null,
	   "metadata": {
	    "collapsed": true
	   },
	   "outputs": [],
"source": [
"// Exa 2.8\n",
"clc;\n",
"clear;\n",
"close;\n",
"// Given data\n",
"N_A = 6.025*10^23;// in /gm mole\n",
"d = 10.5;// in gm/cc\n",
"At = 108;// atomic weight of \n",
"n = (N_A/At)*d;// in /cm^3\n",
"n = n * 10^6;// in /m^3\n",
"r = 10^-3;// in m\n",
"A = %pi * ((r)^2);// in m^2\n",
"q = 1.6*10^-19;\n",
"I = 2;// in A\n",
"V = I/(n*q*A);// in m/s\n",
"disp(V,'The drift velocity of an electron in m/s is');\n",
"\n",
"// Note: There is calculation error to find the value of V (i.e. drift velocity), So the answer in the book is wrong"
   ]
   }
,
{
		   "cell_type": "markdown",
		   "metadata": {},
		   "source": [
			"## Example 2.9: Mobility_of_charge_carriers.sce"
		   ]
		  },
  {
"cell_type": "code",
	   "execution_count": null,
	   "metadata": {
	    "collapsed": true
	   },
	   "outputs": [],
"source": [
"// Exa 2.9\n",
"clc;\n",
"clear;\n",
"close;\n",
"// Given data\n",
"e= 1.6*10^-19;// in C\n",
"d= 1.03;// in mm\n",
"d= d*10^-3;// in m\n",
"R= 6.51;// in ohm\n",
"l= 300;// in m\n",
"n= 8.4*10^28;// per m^3\n",
"r= d/2;// in m (radius)\n",
"A= %pi*r^2;// in m^2\n",
"rho= R*A/l;// in ohm meter\n",
"sigma=  1/rho;// in mho/m\n",
"disp(sigma,'The coductivity of copper in mho/m is : ')\n",
"miu_e= sigma/(n*e);// m^2/V-sec\n",
"disp(miu_e,'The mobility of charge carriers in m^2/V-sec is : ')"
   ]
   }
],
"metadata": {
		  "kernelspec": {
		   "display_name": "Scilab",
		   "language": "scilab",
		   "name": "scilab"
		  },
		  "language_info": {
		   "file_extension": ".sce",
		   "help_links": [
			{
			 "text": "MetaKernel Magics",
			 "url": "https://github.com/calysto/metakernel/blob/master/metakernel/magics/README.md"
			}
		   ],
		   "mimetype": "text/x-octave",
		   "name": "scilab",
		   "version": "0.7.1"
		  }
		 },
		 "nbformat": 4,
		 "nbformat_minor": 0
}
