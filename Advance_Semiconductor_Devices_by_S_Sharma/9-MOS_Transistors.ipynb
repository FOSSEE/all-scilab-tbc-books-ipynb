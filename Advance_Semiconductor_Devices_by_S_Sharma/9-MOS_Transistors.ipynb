{
"cells": [
 {
		   "cell_type": "markdown",
	   "metadata": {},
	   "source": [
       "# Chapter 9: MOS Transistors"
	   ]
	},
{
		   "cell_type": "markdown",
		   "metadata": {},
		   "source": [
			"## Example 9.10: Value_of_Rs.sce"
		   ]
		  },
  {
"cell_type": "code",
	   "execution_count": null,
	   "metadata": {
	    "collapsed": true
	   },
	   "outputs": [],
"source": [
"// Exa 9.10\n",
"clc;\n",
"clear;\n",
"close;\n",
"// Given data\n",
"V_GS = 4;// in V\n",
"V_P = 2;// in V\n",
"R2 = 10;// in k ohm\n",
"R1 = 30;// in k ohm\n",
"R_D= 2.5;// in kohm\n",
"I_D= 15;// in mA\n",
"I_D= I_D*10^-3;// in A\n",
"V_DD = 25;// in V\n",
"V_G = (V_DD/R_D)*V_DD/(R1+R2);// in V\n",
"R_S = (V_G-V_GS)/I_D;// in ohm\n",
"disp(R_S,'The value of R_S in ohm is');"
   ]
   }
,
{
		   "cell_type": "markdown",
		   "metadata": {},
		   "source": [
			"## Example 9.11: ID_and_VDS.sce"
		   ]
		  },
  {
"cell_type": "code",
	   "execution_count": null,
	   "metadata": {
	    "collapsed": true
	   },
	   "outputs": [],
"source": [
"// Exa 9.11\n",
"clc;\n",
"clear;\n",
"close;\n",
"// Given data\n",
"k= 0.1;// in mA/V^2\n",
"V_T= 1;// in V\n",
"R2= 87*10^3;// in Ω\n",
"R1= 110*10^3;// in Ω\n",
"R_S=2;// in kΩ\n",
"R_D=2;// in kΩ\n",
"//R_D=3*10^3;// in Ω\n",
"V_DD= 6;// in V\n",
"V_SS= 6;// in V\n",
"V_G= (V_DD+V_SS)*R2/(R1+R2);// in V\n",
"// V_S= I_D*R_S-V_SS\n",
"// V_GS= V_G-V_S= V_G+V_SS-(I_D*R_S)\n",
"// I_D= k*[V_GS-V_T]^2 = k*[(V_G+V_SS-V_T)-(I_D*R_S)]^2\n",
"//(I_D*R_S)^2-  I_D*(2*R_S*(V_G+V_SS-V_T)+1/k)   +(V_G+V_SS-V_T)^2\n",
"A= R_S^2;// assumed\n",
"B= -(2*R_S*(V_G+V_SS-V_T)+1/k);// assumed\n",
"C= (V_G+V_SS-V_T)^2;// assumed\n",
"I_D= [A B C]\n",
"I_D= roots(I_D);// in mA\n",
"I_D= I_D(2);// in mA\n",
"disp(I_D,'The value of I_D in mA is : ')\n",
"// Applying KVL to drain source loop, V_DD+V_SS= I_D*R_D+V_DS+I_D*R_S\n",
"V_DS=V_DD+V_SS-I_D*R_D-I_D*R_S;// in V\n",
"disp(V_DS,'The value of V_DS in volts is : ')\n",
"\n",
""
   ]
   }
,
{
		   "cell_type": "markdown",
		   "metadata": {},
		   "source": [
			"## Example 9.12: NMOS_CS_circuit.sce"
		   ]
		  },
  {
"cell_type": "code",
	   "execution_count": null,
	   "metadata": {
	    "collapsed": true
	   },
	   "outputs": [],
"source": [
"// Exa 9.12\n",
"clc;\n",
"clear;\n",
"close;\n",
"// Given data\n",
"k = 0.16;// in mA/V^2\n",
"V_T = 2;// in V\n",
"I_D = 0.5;// in mA\n",
"V_DD = 6;// in V\n",
"V_SS = -6;// in V\n",
"V_GS = V_T + (sqrt(I_D/k));// in V\n",
"R_S = 2;// in k ohm\n",
"V_S = (I_D*R_S) - V_DD;// in V\n",
"V_G = V_GS+V_S;// in V\n",
"I = 0.1*I_D;// in mA\n",
"R2 = (V_G+V_DD)/I;// in k ohm\n",
"disp(R2,'The value of R2 in k ohm is');\n",
"R1 = (V_DD - V_G)/I;// in k ohm\n",
"disp(R1,'The value of R1 in k ohm is');\n",
"R_D = 10;// in k ohm\n",
"V_DS = (V_DD-V_SS) - (I_D*(R_S+R_D));// in V\n",
"disp(V_DS,'The value of V_DS in V is');\n",
"V_DSsat = V_GS-V_T;// in V\n",
"disp(V_DSsat,'The value of V_DS(sat) in V is');\n",
"if V_DS>V_DSsat then\n",
"    disp('The MOSFET is in saturation region')\n",
"end\n",
"\n",
"// Note: The value of R1 is in k ohm but in the book it is wrong."
   ]
   }
,
{
		   "cell_type": "markdown",
		   "metadata": {},
		   "source": [
			"## Example 9.13: Value_of_IDQ_and_VDS.sce"
		   ]
		  },
  {
"cell_type": "code",
	   "execution_count": null,
	   "metadata": {
	    "collapsed": true
	   },
	   "outputs": [],
"source": [
"// Exa 9.13\n",
"clc;\n",
"clear;\n",
"close;\n",
"// Given data\n",
"V_DD = 6;// in V\n",
"V_D = 3;// in V\n",
"R_D = 10;// in k ohm\n",
"I_DQ = (V_DD-V_D)/R_D;// in mA\n",
"disp(I_DQ,'The value of I_DQ in mA is');\n",
"V_T = 0.8;// in V\n",
"k = 0.12;// in mA/V^2\n",
"V_GS = sqrt(I_DQ/k) + V_T;// in V\n",
"V_S = -V_GS;// in V\n",
"V_DS = V_D-V_S;// in V\n",
"disp(V_DS,'The value of V_DS in V is');"
   ]
   }
,
{
		   "cell_type": "markdown",
		   "metadata": {},
		   "source": [
			"## Example 9.14: Region_of_MOSFET.sce"
		   ]
		  },
  {
"cell_type": "code",
	   "execution_count": null,
	   "metadata": {
	    "collapsed": true
	   },
	   "outputs": [],
"source": [
"// Exa 9.14\n",
"clc;\n",
"clear;\n",
"close;\n",
"// Given data\n",
"I_D = 0.3;// in mA\n",
"k = 0.12;// in mA/V^2\n",
"V_T = 1;// in V\n",
"V_GS = V_T + (sqrt(I_D/k));// in V\n",
"V_S = -V_GS;// in V\n",
"V_DD = 6;// in V\n",
"V_D = 3;// in V\n",
"I_DQ = 0.3;// in mA\n",
"R_D = (V_DD-V_D)/I_DQ;// in k ohm\n",
"disp(R_D,'The value of R_D in k ohm is');\n",
"V_DS = V_D - V_S;// in V\n",
"disp(V_DS,'The value of V_DS in V is');\n",
"V_DSsat = V_GS - V_T;// in V\n",
"disp(V_DSsat,'The value of V_DS(sat) in V is');\n",
"if V_DS>V_DSsat then\n",
"    disp('The MOSFET is in saturation region')\n",
"end"
   ]
   }
,
{
		   "cell_type": "markdown",
		   "metadata": {},
		   "source": [
			"## Example 9.15: VGS_VDS_and_ID.sce"
		   ]
		  },
  {
"cell_type": "code",
	   "execution_count": null,
	   "metadata": {
	    "collapsed": true
	   },
	   "outputs": [],
"source": [
"// Exa 9.15\n",
"clc;\n",
"clear;\n",
"close;\n",
"// Given data\n",
"k= 0.05;// in mA/V^2\n",
"V_T= 1;// in V\n",
"V_DD= 6;// in V\n",
"R_S= 9.1;//in kΩ\n",
"//V_GS= V_DD-I_D*R_S\n",
"//I_D= k*(V_DD-I_D*R_S)^2\n",
"//I_D^2*R_S^2-I_D*(2*V_DD*R_S+1/k)+V_DD^2\n",
"A= R_S^2;// assumed\n",
"B=-(2*V_DD*R_S+1/k);// assumed\n",
"C= V_DD^2;// assumed\n",
"I_D= [A B C];\n",
"I_D= roots(I_D);// in mA\n",
"I_D= I_D(2);// in mA\n",
"V_GS= V_DD-I_D*R_S;// in V\n",
"V_DS= V_GS;// in V\n",
"disp(I_D,'The value of I_D in mA is : ')\n",
"disp(V_GS,'The value of V_GS in volts is : ')\n",
"disp(V_DS,'The value of V_DS in volts is : ')"
   ]
   }
,
{
		   "cell_type": "markdown",
		   "metadata": {},
		   "source": [
			"## Example 9.16: All_dc_voltages.sce"
		   ]
		  },
  {
"cell_type": "code",
	   "execution_count": null,
	   "metadata": {
	    "collapsed": true
	   },
	   "outputs": [],
"source": [
"// Exa 9.16\n",
"clc;\n",
"clear;\n",
"close;\n",
"// Given data\n",
"k1= 0.01;// in mA/V^2\n",
"k2= 0.05;// in mA/V^2\n",
"V_DD= 5;// in V\n",
"V_T1=1;// in V\n",
"V_T2=1;// in V\n",
"// Analysis for Vi= 5V\n",
"Vi= 5;// in V\n",
"//I_D1= k1*(V_GS1-V_T1)^2 and I_D2= k2*(2*(V_GS2-V_T2)*V_DS2-V_DS2^2)\n",
"// But V_GS2= Vi, V_DS2= Vo, V_GS1= V_DS1= V_DD-Vo\n",
"//Vo^2*(k1+k2)-Vo*[2*k1*(V_DD-V_T1)+2*k2*(Vi-V_T2)]+k1*(V_DD-V_T1)^2\n",
"A=(k1+k2);\n",
"B=-[2*k1*(V_DD-V_T1)+2*k2*(Vi-V_T2)];\n",
"C=k1*(V_DD-V_T1)^2;\n",
"Vo= [A B C]\n",
"Vo= roots(Vo);// in V\n",
"Vo= Vo(2);// in V\n",
"V_GS2= Vi;// in V\n",
"V_DS2= Vo;// in V\n",
"V_GS1= V_DD-Vo;// in V\n",
"I_D1= k1*(V_GS1-V_T1)^2;// in mA\n",
"I_D2= I_D1;// in mA\n",
"disp('Part (i) For Vi = 5 V')\n",
"disp(Vo,'The output voltage in volts is : ')\n",
"disp(I_D1,'The value of I_D1 in mA is : ')\n",
"disp(I_D2,'The value of I_D2 in mA is : ')\n",
"// Analysis for Vi= 1.5V\n",
"Vi= 1.5;// in V\n",
"//I_D2= k2*(V_GS2-V_T2)^2 and I_D1= k1*(V_GS1-V_T1)^2\n",
"// But V_GS2= Vi, V_DS2= Vo, V_GS1= V_DS1= V_DD-Vo\n",
"//k2*(Vi-V_T2)^2= k1*(V_DD-Vo-V_T1)^2 or \n",
"Vo= V_DD-V_T1-sqrt(k2/k1)*(Vi-V_T2);// in V\n",
"I_D2= k2*(Vi-V_T2)^2;//in mA\n",
"I_D1= I_D2;// in mA\n",
"disp('Part (ii) For Vi = 1.5 V')\n",
"disp(Vo,'The output voltage in volts is : ')\n",
"disp(I_D1,'The value of I_D1 in mA is : ')\n",
"disp(I_D2,'The value of I_D2 in mA is : ')\n",
"\n",
"\n",
"\n",
"\n",
"\n",
""
   ]
   }
,
{
		   "cell_type": "markdown",
		   "metadata": {},
		   "source": [
			"## Example 9.17: Value_of_ID_and_VDS.sce"
		   ]
		  },
  {
"cell_type": "code",
	   "execution_count": null,
	   "metadata": {
	    "collapsed": true
	   },
	   "outputs": [],
"source": [
"// Exa 9.17\n",
"clc;\n",
"clear;\n",
"close;\n",
"// Given data\n",
"k = 0.12;// in mA/V^2\n",
"V_T = -2.5;// in V\n",
"V_GS = 0;\n",
"I_D = k*((V_GS-V_T)^2);// in mA\n",
"disp(I_D,'The value of I_D in mA is');\n",
"V_DD = 6;// in V\n",
"R_S = 4.7;// in k ohm \n",
"V_DS = V_DD -(I_D*R_S);// in V\n",
"disp(V_DS,'The value of V_DS in V is '); \n",
"V_S = 0;// in V \n",
"V_DSsat = V_S - V_T;// in V\n",
"disp(V_DSsat,'The value of V_DS(sat) in V is');\n",
"if V_DS<V_DSsat then\n",
"    disp('The device is in the non saturation region')\n",
"end"
   ]
   }
,
{
		   "cell_type": "markdown",
		   "metadata": {},
		   "source": [
			"## Example 9.18: Various_voltage_and_current.sce"
		   ]
		  },
  {
"cell_type": "code",
	   "execution_count": null,
	   "metadata": {
	    "collapsed": true
	   },
	   "outputs": [],
"source": [
"// Exa 9.18\n",
"clc;\n",
"clear;\n",
"close;\n",
"// Given data\n",
"k4 = 0.125;// in mA/V^2\n",
"k3 = k4;// in mA/V^2\n",
"k2 = k4;// in mA/V^2\n",
"k1 = 0.25;// in mA/V^2\n",
"V_T1 = 0.8;// in V\n",
"V_T2 = V_T1;// in V\n",
"V_T3 = V_T1;// in V\n",
"V_T4 = V_T1;// in V\n",
"V_SS = -5;// in V\n",
"V_DD = 5;// in V\n",
"R_D = 10;// in k ohm\n",
"V_GS3 = ((sqrt(k4/k3) * (-V_SS - V_T4))+V_T3)/(1+sqrt(k4/k3));// in V\n",
"I_Q = k2*((V_GS3-V_T2)^2);// in mA\n",
"I_D1 = I_Q;// in mA\n",
"V_GS1 = V_T1 + (sqrt(I_D1/k1));// in V\n",
"disp(V_GS1,'The value of V_GS1 in V is');\n",
"V_DS2 = (-V_SS-V_GS1);// in V\n",
"disp(V_DS2,'The value of V_DS2 in V is');\n",
"V_DS1 = V_DD - (I_Q*R_D) - (V_SS + V_DS2);// in V\n",
"disp(V_DS1,'The value of V_DS1 in V is');\n",
""
   ]
   }
,
{
		   "cell_type": "markdown",
		   "metadata": {},
		   "source": [
			"## Example 9.19: Q_point_values.sce"
		   ]
		  },
  {
"cell_type": "code",
	   "execution_count": null,
	   "metadata": {
	    "collapsed": true
	   },
	   "outputs": [],
"source": [
"// Exa 9.19\n",
"clc;\n",
"clear;\n",
"close;\n",
"// Given data\n",
"R2 = 20;// in  k ohm\n",
"R1 = 30;// in  k ohm\n",
"R_D = 20;// in  k ohm\n",
"R_D=R_D*10^3;// in ohm\n",
"V_DD = 5;// in V\n",
"V_G = (R2/(R1+R2))*V_DD;// in V\n",
"V_S = 0;// in V\n",
"V_GS = V_G;// in V\n",
"k = 100*10^-6;// in A/V^2\n",
"V_T = 1;// in V\n",
"I_DQ = k*((V_GS-V_T)^2);// in A\n",
"disp(I_DQ * 10^6,'The value of I_DQ in µA is');\n",
"//R_D =R_D * 140^3;// in ohm\n",
"V_DSQ = V_DD - (I_DQ*R_D);// in V \n",
"disp(V_DSQ,'The value of V_DSQ in V is');"
   ]
   }
,
{
		   "cell_type": "markdown",
		   "metadata": {},
		   "source": [
			"## Example 9.1: Value_of_current.sce"
		   ]
		  },
  {
"cell_type": "code",
	   "execution_count": null,
	   "metadata": {
	    "collapsed": true
	   },
	   "outputs": [],
"source": [
"// Exa 9.1\n",
"clc;\n",
"clear;\n",
"close;\n",
"// Given data\n",
"V_TN = 0.7;// in V\n",
"W = 45*10^-4;// in cm\n",
"L = 4;// in µm\n",
"L = L * 10^-4;// in cm\n",
"t_ox = 450;// in Å\n",
"t_ox = t_ox*10^-8;// in cm\n",
"V_GS = 1.4;// in V\n",
"Miu_n = 700;// in cm^2/V-s\n",
"Epsilon_ox = (8.85*10^-14)*(3.9);// in F/cm\n",
"k_n = (W*Miu_n*Epsilon_ox)/(2*L*t_ox);// A/V^2\n",
"disp(k_n*10^3,'The value of k_n in mA/V^2 is : ')\n",
"I_D = k_n*((V_GS-V_TN)^2);// in A\n",
"disp(I_D*10^3,'The current in mA is ');\n",
"\n",
"// Note: There is a calculation error to find the value of k_n, So the answer in the book is wrong"
   ]
   }
,
{
		   "cell_type": "markdown",
		   "metadata": {},
		   "source": [
			"## Example 9.20: IDQ_VGSQ_and_VD.sce"
		   ]
		  },
  {
"cell_type": "code",
	   "execution_count": null,
	   "metadata": {
	    "collapsed": true
	   },
	   "outputs": [],
"source": [
"// Exa 9.20\n",
"clc;\n",
"clear;\n",
"close;\n",
"// Given data\n",
"V_P= -8;// in V\n",
"R_S= 2.4;// in kΩ\n",
"//R_D= 1800;// in Ω\n",
"I_DSS= 8;// in mA\n",
"V_DD= 20;// in V\n",
"R_D= 6.2;// in kΩ\n",
"// V_GS= -I_D*R_S\n",
"// I_D= I_DSS*(1-V_GS/V_P)^2 or I_DSS*(1-(-I_D*R_S)/V_P)^2\n",
"//I_D^2*R_S^2+I_D*(2*R_S*(V_P-V_G)-V_P^2/I_DSS)+(V_P)^2\n",
"A= R_S^2\n",
"B=(2*R_S*(V_P)-V_P^2/I_DSS)\n",
"C=(V_P)^2\n",
"I_D= [A B C]\n",
"I_D= roots(I_D);// in mA\n",
"I_D= I_D(2);// in mA\n",
"I_DQ= I_D;// in mA\n",
"disp(I_DQ,'The value of I_DQ in mA is : ')\n",
"V_GSQ= -I_D*R_S;\n",
"disp(V_GSQ,'The value of V_GSQ in volts ')\n",
"V_D= V_DD-I_D*R_D;// in V\n",
"disp(V_D,'The value of V_D in volts is : ')"
   ]
   }
,
{
		   "cell_type": "markdown",
		   "metadata": {},
		   "source": [
			"## Example 9.21: ID_VD_VS_and_VG.sce"
		   ]
		  },
  {
"cell_type": "code",
	   "execution_count": null,
	   "metadata": {
	    "collapsed": true
	   },
	   "outputs": [],
"source": [
"// Exa 9.21\n",
"clc;\n",
"clear;\n",
"close;\n",
"// Given data\n",
"k= 75*10^-3;//in mA/V^2\n",
"Vth= -0.8;// in V\n",
"R2 = 100;// in k ohm\n",
"R1 = 100;// in  k ohm\n",
"R_S= 6;// in kΩ\n",
"R_D= 3;// in kΩ\n",
"V_SS = 10;// in V\n",
"V_G = (R2/(R1+R2))*V_SS;// in V\n",
"I_D= poly(0,'I_D');\n",
"V_S= V_SS-I_D*R_S;// in V\n",
"V_GS= V_G-V_S;//in V\n",
"I_D= I_D-k*(V_GS-Vth)^2;\n",
"I_D= roots(I_D);// in mA\n",
"I_D= I_D(2);// in mA\n",
"V_DS= -V_SS+I_D*(R_D+R_S);// in V\n",
"V_D= I_D*R_D;// in V\n",
"V_S= I_D*R_S;// in V\n",
"disp(I_D,'The value of I_D in mA is : ')\n",
"disp(V_DS,'The value of V_DS in volts is : ')\n",
"disp(V_D,'The value of V_D in volts is : ')\n",
"disp(V_S,'The value of V_S in volts is : ')"
   ]
   }
,
{
		   "cell_type": "markdown",
		   "metadata": {},
		   "source": [
			"## Example 9.22: Value_of_RD.sce"
		   ]
		  },
  {
"cell_type": "code",
	   "execution_count": null,
	   "metadata": {
	    "collapsed": true
	   },
	   "outputs": [],
"source": [
"// Exa 9.22\n",
"clc;\n",
"clear;\n",
"close;\n",
"// Given data\n",
"V_T = 1;// in V\n",
"k = 160*10^-6;// in A/V^2\n",
"I_DQ = 160*10^-6;// in A\n",
"V_GS = V_T + sqrt(I_DQ/k);// in V\n",
"V_DD = 5;// in V\n",
"V_DSQ = 3;// in V\n",
"R_D = (V_DD - V_DSQ)/(I_DQ);// in ohm\n",
"R_D = R_D * 10^-3;// in k ohm\n",
"disp(R_D,'The value of R_D in k ohm is');"
   ]
   }
,
{
		   "cell_type": "markdown",
		   "metadata": {},
		   "source": [
			"## Example 9.23: Coordinates_of_operating_point.sce"
		   ]
		  },
  {
"cell_type": "code",
	   "execution_count": null,
	   "metadata": {
	    "collapsed": true
	   },
	   "outputs": [],
"source": [
"// Exa 9.23\n",
"clc;\n",
"clear;\n",
"close;\n",
"// Given data\n",
"V_DD= 12;// in V\n",
"V_T= 2;// in V\n",
"kn= 0.5;// in mA/V^2\n",
"R1 = 2.2;// in M ohm\n",
"R2 = 1.8;// in M ohm\n",
"R_S= 1.5;// in kΩ\n",
"R_D= 3.9;// in kΩ\n",
"V_G = (R2/(R1+R2))*V_DD;// in V\n",
"I_D= poly(0,'I_D')\n",
"V_GS= V_G-I_D*R_S;// V\n",
"I_D= I_D-kn*(V_GS-V_T)^2;// in mA\n",
"I_D= roots(I_D);// in mA\n",
"I_D= I_D(2);// in mA\n",
"I_DQ= I_D;// in mA\n",
"V_DSQ= V_DD-I_D*(R_D+R_S);// in V\n",
"disp(I_DQ,'The value of I_DQ in mA is : ')\n",
"disp(V_DSQ,'The value of V_DSQ in volts is : ')\n",
"V_GS= V_G-I_D*R_S;// V\n",
"V_DSsat= V_GS-V_T;// in V\n",
"disp('The value of  V_DS ( '+string(V_DSQ)+' V ) is greater than the value of ')\n",
"disp('V_DSsat ( '+string(V_DSsat)+' V ), So the MOSFET is in saturation region')"
   ]
   }
,
{
		   "cell_type": "markdown",
		   "metadata": {},
		   "source": [
			"## Example 9.24: IDSQ_VGSQ_and_VDSQ.sce"
		   ]
		  },
  {
"cell_type": "code",
	   "execution_count": null,
	   "metadata": {
	    "collapsed": true
	   },
	   "outputs": [],
"source": [
"// Exa 9.24\n",
"clc;\n",
"clear;\n",
"close;\n",
"// Given data\n",
"kn= 0.5;// in mA/V^2\n",
"V_T= 1;// in V\n",
"R2 = 40;// in k ohm\n",
"R1 = 60;// in k ohm\n",
"R_S= 1;// in k ohm\n",
"R_D= 2;// in k ohm\n",
"V_DD = 5;// in V\n",
"V_SS = -5;// in V\n",
"V_R2 = (R2/(R2+R1))*(V_DD-V_SS);// in V\n",
"V_G = V_R2 - V_DD;// in V\n",
"I_D= poly(0,'I_D');\n",
"V_S= I_D*R_S+V_SS;// in V\n",
"V_GS= V_G-V_S;// in V\n",
"I_D=I_D-kn*(V_GS-V_T)^2;// in mA\n",
"I_D= roots(I_D);// in mA\n",
"I_D= I_D(2);// in mA\n",
"I_DQ= I_D;// in mA\n",
"V_S= I_D*R_S+V_SS;// in V\n",
"V_GS= V_G-V_S;// in V\n",
"V_DSQ= V_DD-V_SS-I_D*(R_D+R_S);// in V\n",
"disp(I_DQ,'The value of I_DQ in mA is : ')\n",
"disp(V_GS,'The value of V_GS in volts is : ')\n",
"disp(V_DSQ,'The value of V_DSQ in volts is : ')\n",
""
   ]
   }
,
{
		   "cell_type": "markdown",
		   "metadata": {},
		   "source": [
			"## Example 9.25: ID_VDS_VGS_and_Av.sce"
		   ]
		  },
  {
"cell_type": "code",
	   "execution_count": null,
	   "metadata": {
	    "collapsed": true
	   },
	   "outputs": [],
"source": [
"// Exa 9.25\n",
"clc;\n",
"clear;\n",
"close;\n",
"// Given data\n",
"R_S1 = 100*10^-3;// in k ohm\n",
"R_S2 = 100*10^-3;// in k ohm\n",
"R_S = R_S1+R_S2;// in k ohm\n",
"R_D= 1.8;// in k ohm\n",
"I_DSS= 12;// in mA\n",
"Vp= -3.5;// in V\n",
"V_DD= 22;// in V\n",
"rd= 25;// in k ohm\n",
"R_L= 47;// in k ohm\n",
"I_D= poly(0,'I_D');\n",
"V_GS= -I_D*R_S;// in V\n",
"I_D= I_D-I_DSS*(1-V_GS/Vp)^2;// in mA\n",
"I_D= roots(I_D);// in mA\n",
"I_D= I_D(2);// in mA\n",
"disp(I_D,'The value of I_D in mA is : ')\n",
"V_GS= -I_D*R_S;// in V\n",
"disp(V_GS,'The value of V_GS in volts is : ')\n",
"V_DS= V_DD-I_D*(R_D+R_S);// in V\n",
"disp(V_DS,'The value of V_DS in volts is : ')\n",
"gmo= -2*I_DSS/Vp;// in mS\n",
"gm= gmo*(1-V_GS/Vp);// in mS\n",
"miu= gm*rd;\n",
"Av= -miu*R_D*R_L/(R_D+R_L)/(rd+R_D*R_L/(R_D+R_L)+(1+miu)*R_S1);\n",
"disp(Av,'The value of Av is : ')"
   ]
   }
,
{
		   "cell_type": "markdown",
		   "metadata": {},
		   "source": [
			"## Example 9.26: VGS_ID_and_VDS.sce"
		   ]
		  },
  {
"cell_type": "code",
	   "execution_count": null,
	   "metadata": {
	    "collapsed": true
	   },
	   "outputs": [],
"source": [
"// Exa 9.26\n",
"clc;\n",
"clear;\n",
"close;\n",
"// Given data\n",
"V_T = 1;// in V\n",
"k = 0.5;// in mA/V^2\n",
"R2 = 40;// in k ohm\n",
"R1 = 60;// in k ohm\n",
"R_S= 1;// in k ohm\n",
"R_D= 2;// in k ohm\n",
"V_DD = 5;// in V\n",
"V_G = (R2/(R2+R1))*V_DD;// in V\n",
"I_D= poly(0,'I_D');\n",
"V_GS= V_G-I_D*R_S;// in V\n",
"I_D= I_D-k*(V_GS-V_T)^2;\n",
"I_D= roots(I_D);// in mA\n",
"I_D= I_D(2);// in mA\n",
"V_GS= V_G-I_D*R_S;// in V\n",
"V_DS= V_DD-I_D*(R_D+R_S);// in V\n",
"disp(I_D,'The value of I_D in mA is : ')\n",
"disp(V_GS,'The value of V_GS in volts is : ')\n",
"disp(V_DS,'The value of V_DS in volts is : ')"
   ]
   }
,
{
		   "cell_type": "markdown",
		   "metadata": {},
		   "source": [
			"## Example 9.27: Drain_current_and_source_to_drain_voltage.sce"
		   ]
		  },
  {
"cell_type": "code",
	   "execution_count": null,
	   "metadata": {
	    "collapsed": true
	   },
	   "outputs": [],
"source": [
"// Exa 9.27\n",
"clc;\n",
"clear;\n",
"close;\n",
"// Given data\n",
"R_D = 7.5;// in k ohm\n",
"V_T = -0.8;// in V\n",
"k = 0.2;// in mA/V^2\n",
"R2 = 50;// in ohm\n",
"R1 = 50;// in  ohm\n",
"V_DD = 5;// in V\n",
"V_S = 5;// in V\n",
"V_G = (R2/(R2+R1))*V_DD;// in V\n",
"V_GS = V_G - V_S;// in V\n",
"I_D = k*((V_GS-V_T)^2);// in mA\n",
"disp(I_D,'Drain current in mA is');\n",
"V_SD = V_DD - (I_D*R_D);// in V\n",
"disp(V_SD,'Source to drain voltage in V is');"
   ]
   }
,
{
		   "cell_type": "markdown",
		   "metadata": {},
		   "source": [
			"## Example 9.28: IDQ_VGSQ_VD_and_VS.sce"
		   ]
		  },
  {
"cell_type": "code",
	   "execution_count": null,
	   "metadata": {
	    "collapsed": true
	   },
	   "outputs": [],
"source": [
"// Exa 9.28\n",
"clc;\n",
"clear;\n",
"close;\n",
"// Given data\n",
"I_Don = 5*10^-3;// in A\n",
"V_GSon = 6;// in V\n",
"V_GSth = 3;// in V\n",
"k = I_Don/(V_GSon-V_GSth)^2;// in A/V^2 \n",
"R2 = 6.8;// in M ohm\n",
"R1 = 10;// in M ohm\n",
"R_S= 750;// in ohm\n",
"R_D= 2.2*10^3;// in ohm\n",
"V_DD = 24;// in V\n",
"R_S = 750;// in  ohm\n",
"V_G= R2*V_DD/(R1+R2);// in V\n",
"I_D= poly(0,'I_D');\n",
"V_GS= V_G-I_D*R_S;// in V\n",
"I_D= I_D-k*(V_GS-V_GSth)^2;\n",
"I_D= roots(I_D);// in A\n",
"I_D= I_D(2);// in A\n",
"I_DQ= I_D;// in A\n",
"V_GS= V_G-I_D*R_S;// in V\n",
"V_GSQ= V_GS;// in V\n",
"V_DSQ= V_DD-I_DQ*(R_D+R_S);// in V\n",
"disp(I_D*10^3,'The value of I_D in mA is : ')\n",
"disp(V_GSQ,'The value of V_GSQ in volts is : ')\n",
"disp(V_DSQ,'The value of V_DSQ in volts is : ')\n",
""
   ]
   }
,
{
		   "cell_type": "markdown",
		   "metadata": {},
		   "source": [
			"## Example 9.29: VDD_RD_and_VGS.sce"
		   ]
		  },
  {
"cell_type": "code",
	   "execution_count": null,
	   "metadata": {
	    "collapsed": true
	   },
	   "outputs": [],
"source": [
"// Exa 9.29\n",
"clc;\n",
"clear;\n",
"close;\n",
"// Given data\n",
"I_Don = 4*10^-3;// in A\n",
"V_GSon = 6;// in V\n",
"V_GSth = 3;// in V\n",
"V_DS= 6;// in V\n",
"I_D= I_Don;// in A\n",
"k = I_Don/((V_GSon-V_GSth)^2);// in A/V^2\n",
"V_GS= poly(0,'V_GS')\n",
"V_GS= I_D-k*(V_GS-V_GSth)^2;\n",
"V_GS= roots(V_GS);// in V\n",
"V_GS= V_GS(1);// in V\n",
"V_DD= 2*V_DS;// in V\n",
"// V_GS= V_DD-I_D*R_D\n",
"R_D= (V_DD-V_GS)/I_D;// in ohm\n",
"disp(V_GS,'The value of V_GS in volts is : ')\n",
"disp(V_DD,'The value of V_DD in volts is : ')\n",
"disp(R_D*10^-3,'The value of R_D in kΩ is : ')"
   ]
   }
,
{
		   "cell_type": "markdown",
		   "metadata": {},
		   "source": [
			"## Example 9.2: IDQ_and_VDSQ.sce"
		   ]
		  },
  {
"cell_type": "code",
	   "execution_count": null,
	   "metadata": {
	    "collapsed": true
	   },
	   "outputs": [],
"source": [
"// Exa 9.2\n",
"clc;\n",
"clear;\n",
"close;\n",
"// Given data\n",
"I_Don = 6;// in mA\n",
"I_Don= I_Don*10^-3;// in A\n",
"V_GSon = 8;// in V\n",
"V_GSth = 3;// in V\n",
"V_DD = 12;// in V\n",
"R_D= 2*10^3;// in Ω\n",
"k= I_Don/(V_GSon-V_GSth)^2;// in A/V^2\n",
"// I_D= k*[V_GS-V_GSth]^2 but V_GS= V_DD-I_D*R_D, So\n",
"// I_D= k*(V_DD-I_D*R_D-V_GSth)^2 or\n",
"// I_D^2*R_D^2+I_D*(2*R_D*V_GSth-2*R_D*V_DD-1/k)+(V_DD-V_GSth)^2\n",
"A= R_D^2;// assumed\n",
"B= 2*R_D*V_GSth-2*R_D*V_DD-1/k;// assumed\n",
"C= (V_DD-V_GSth)^2;// assumed\n",
"root= [A B C]\n",
"root= roots(root);// in A\n",
"I_DQ= root(2);// in A\n",
"disp(I_DQ*10^3,'The value of I_DQ in mA is : ')\n",
"V_DSQ= V_DD-I_DQ*R_D;// in V\n",
"disp(V_DSQ,'The value of V_DSQ in volts is : ')"
   ]
   }
,
{
		   "cell_type": "markdown",
		   "metadata": {},
		   "source": [
			"## Example 9.30: ID_VDS_VG_VS.sce"
		   ]
		  },
  {
"cell_type": "code",
	   "execution_count": null,
	   "metadata": {
	    "collapsed": true
	   },
	   "outputs": [],
"source": [
"// Exa 9.30\n",
"clc;\n",
"clear;\n",
"close;\n",
"// Given data\n",
"I_DD= 20;// in mA\n",
"R2 = 10;// in k ohm\n",
"R1 = 30;// in k ohm\n",
"R_S= 1.2;// in k ohm\n",
"R_D= 500*10^-3;// in k ohm\n",
"V_DD = 12;// in V\n",
"Vp= -6;// in V\n",
"V_G = (R2/(R2+R1))*V_DD;// in V\n",
"I_D= poly(0,'I_D')\n",
"V_GS= V_G-I_D*R_S;// in V\n",
"I_D=I_D-I_DD*(1-V_GS/Vp)^2;\n",
"I_D= roots(I_D);// in mA\n",
"I_D= I_D(2);// in mA\n",
"V_DS= V_DD-I_D*(R_D+R_S);// in V\n",
"V_D= V_DD-I_D*R_D;// in V\n",
"V_S= V_D-V_DS;// in V\n",
"disp(I_D,'The value of I_D in mA is : ')\n",
"disp(V_DS,'The value of V_DS in volts is : ')\n",
"disp(V_D,'The value of V_D in volts is : ')\n",
"disp(V_S,'The value of V_S in volts is : ')\n",
"\n",
""
   ]
   }
,
{
		   "cell_type": "markdown",
		   "metadata": {},
		   "source": [
			"## Example 9.31: Voltage_at_all_nodes_and_currents_through_all_branches.sce"
		   ]
		  },
  {
"cell_type": "code",
	   "execution_count": null,
	   "metadata": {
	    "collapsed": true
	   },
	   "outputs": [],
"source": [
"// Exa 9.31\n",
"clc;\n",
"clear;\n",
"close;\n",
"// Given data\n",
"V_DD = 5;// in V\n",
"V_T= 1;// in V\n",
"k= 1;// in mA/V^2\n",
"R1 = 1;// in M ohm\n",
"R2 = 1;// in M ohm\n",
"R_S= 2;// in k ohm\n",
"R_D= 2;// in k ohm\n",
"I1 = V_DD/(R1+R2);// in A\n",
"disp(I1,'The value of I1 in µA is : ')\n",
"V_A = (R2/(R2+R1))*V_DD;// in V\n",
"disp(V_A,'The value of V_A and V_G in volts is : ')\n",
"I_D= poly(0,'I_D');\n",
"V_C= I_D*R_S;// in V\n",
"V_GS= V_A-V_C;// in V\n",
"I_D= I_D-k*(V_GS-V_T)^2;\n",
"I_D= roots(I_D);// in mA\n",
"I_D= I_D(2);// in mA\n",
"disp(I_D,'The value of I_D in mA is : ')\n",
"V_B= V_DD-I_D*R_D;// in V\n",
"V_C= I_D*R_S;// in V\n",
"V_DS= V_B-V_C;// in V\n",
"disp(V_B,'The value of V_B in volts is : ')\n",
"disp(V_C,'The value of V_C in volts is : ')\n",
"disp(V_DS,'The value of V_DS in volts is : ')\n",
"\n",
"// Note: In the book, the calculated values are wrong, this is why the answer in the book is wrong."
   ]
   }
,
{
		   "cell_type": "markdown",
		   "metadata": {},
		   "source": [
			"## Example 9.32: Value_of_Av_Ri_and_Ro.sce"
		   ]
		  },
  {
"cell_type": "code",
	   "execution_count": null,
	   "metadata": {
	    "collapsed": true
	   },
	   "outputs": [],
"source": [
"// Exa 9.32\n",
"clc;\n",
"clear;\n",
"close;\n",
"// Given data\n",
"I_DSS = 12;// in mA\n",
"I_DSS= I_DSS*10^-3;// in A\n",
"V_P = -3;// in V\n",
"r_d = 45;// in k ohm\n",
"r_d= r_d*10^3;// in ohm\n",
"g_m = I_DSS/abs(V_P);// in S\n",
"// Part (i)\n",
"R1 = 91;// in M ohm\n",
"R1=R1*10^6;//in ohm\n",
"R2 = 10;// in M ohm\n",
"R2= R2*10^6;// in ohm\n",
"Ri= R1*R2/(R1+R2);// in ohm\n",
"disp(Ri*10^-6,'The value of Ri in Mohm is : ')\n",
"// Part (ii)\n",
"R_S = 1.1;// in k ohm\n",
"R_S = R_S * 10^3;// in ohm\n",
"R_o= (R_S*1/g_m)/(R_S+1/g_m);// in ohm\n",
"disp(R_o,'The value of R_C in ohm is : ')\n",
"// Part (iii)\n",
"R_desh_o= R_o*r_d/(R_o+r_d);// in ohm\n",
"disp(R_desh_o,'The value of R_desh_o in ohm is : ');\n",
"// Part (iv)\n",
"Av= g_m*(R_S*r_d/(R_S+r_d))/(1+g_m*(R_S*r_d/(R_S+r_d)));\n",
"disp(Av,'The value of Av is : ')"
   ]
   }
,
{
		   "cell_type": "markdown",
		   "metadata": {},
		   "source": [
			"## Example 9.34: Current_flow_through_M1_MOSFET.sce"
		   ]
		  },
  {
"cell_type": "code",
	   "execution_count": null,
	   "metadata": {
	    "collapsed": true
	   },
	   "outputs": [],
"source": [
"// Exa 9.34\n",
"clc;\n",
"clear;\n",
"close;\n",
"// Given data\n",
"V_S2 = -2;// in V\n",
"V_GS2 = -V_S2;// in V\n",
"I_DS2 = (V_GS2-1)^2;// in mA\n",
"I = 2;// in mA\n",
"I_DS1 = I-I_DS2;// in mA\n",
"disp(I_DS1,'The current flow through M1 MOSFET in mA is');"
   ]
   }
,
{
		   "cell_type": "markdown",
		   "metadata": {},
		   "source": [
			"## Example 9.35: Value_of_R_and_VD.sce"
		   ]
		  },
  {
"cell_type": "code",
	   "execution_count": null,
	   "metadata": {
	    "collapsed": true
	   },
	   "outputs": [],
"source": [
"// Exa 9.35\n",
"clc;\n",
"clear;\n",
"close;\n",
"// Given data\n",
"V_DD= 10;// in V\n",
"I_D= 0.4*10^3;// in A\n",
"W= 100;// in µm\n",
"L= 10;// in µm\n",
"uACox= 20;// in A/V^2\n",
"Vt= 2;// in V\n",
"R= poly(0,'R')\n",
"V_GS= V_DD-I_D*R;// in V\n",
"R= I_D-1/2*uACox*W/L*(V_GS-Vt)^2;\n",
"R= roots(R);// in Mohm\n",
"R= R(2);// in Mohm\n",
"disp(R*10^3,'The value of R in kΩ is : ')\n",
"V_D= V_DD-I_D*R;// in V\n",
"disp(V_D,'The value of V_D in volts is : ')"
   ]
   }
,
{
		   "cell_type": "markdown",
		   "metadata": {},
		   "source": [
			"## Example 9.36: ID_and_VDS.sce"
		   ]
		  },
  {
"cell_type": "code",
	   "execution_count": null,
	   "metadata": {
	    "collapsed": true
	   },
	   "outputs": [],
"source": [
"// Exa 9.36\n",
"clc;\n",
"clear;\n",
"close;\n",
"// Given data\n",
"V_GSth= 2;// in V\n",
"k= 2*10^-4;// in A/V^2\n",
"V_DD= 12;// in V\n",
"R_D= 5*10^3;// in ohm\n",
"I_D= poly(0,'I_D');\n",
"V_DS= V_DD-I_D*R_D;// in V\n",
"I_D= I_D-k*(V_DS-V_GSth)^2;\n",
"I_D= roots(I_D);// in A\n",
"I_D= I_D(2);// in A\n",
"V_DS= V_DD-I_D*R_D;// in V\n",
"disp(I_D*10^3,'The value of I_D in mA is : ')\n",
"disp(V_DS,'The value of V_DS in volts is : ')\n",
"\n",
""
   ]
   }
,
{
		   "cell_type": "markdown",
		   "metadata": {},
		   "source": [
			"## Example 9.3: Biasing_circuit.sce"
		   ]
		  },
  {
"cell_type": "code",
	   "execution_count": null,
	   "metadata": {
	    "collapsed": true
	   },
	   "outputs": [],
"source": [
"// Exa 9.3\n",
"clc;\n",
"clear;\n",
"close;\n",
"// Given data\n",
"V_GS = 6;// in V\n",
"I_D = 4;// in mA\n",
"V_GSth = 2;// in V\n",
"V_DS = V_GS;// in V\n",
"V_DD = 2*V_DS;// in V\n",
"disp(V_DD,'The value of V_DD in V is')\n",
"R_D = (V_DD-V_DS)/I_D;// in k ohm\n",
"disp(R_D,'The value of R_D in k ohm is ');\n",
"disp('The very high value for the gate to drain resistance is : 10 MΩ')"
   ]
   }
,
{
		   "cell_type": "markdown",
		   "metadata": {},
		   "source": [
			"## Example 9.4: IDQ_VGSQ_and_VDS.sce"
		   ]
		  },
  {
"cell_type": "code",
	   "execution_count": null,
	   "metadata": {
	    "collapsed": true
	   },
	   "outputs": [],
"source": [
"// Exa 9.4\n",
"clc;\n",
"clear;\n",
"close;\n",
"// Given data\n",
"I_Don = 3*10^-3;\n",
"V_GSon = 10;// in V\n",
"V_GSth= 5;// in V\n",
"R2= 18*10^6;// in Ω\n",
"R1= 22*10^6;// in Ω\n",
"R_S=820;// in Ω\n",
"R_D=3*10^3;// in Ω\n",
"V_DD= 40;// in V\n",
"V_G= V_DD*R2/(R1+R2);// in V\n",
"k= I_Don/(V_GSon-V_GSth)^2;// in A/V^2\n",
"// V_G= V_GS+V_RS= V_GS+I_D*R_S or V_GS= V_G-I_D*R_S\n",
"// I_D= k*[V_GS-V_GSth]^2 or \n",
"// I_D= k*(V_G-I_D*R_D-V_GSth)^2 or\n",
"// I_D^2*R_D^2+I_D*(2*R_D*V_GSth-2*R_D*V_DD-1/k)+(V_DD-V_GSth)^2\n",
"A= R_S^2;// assumed\n",
"B= 2*R_S*V_GSth-2*R_S*V_G-1/k;// assumed\n",
"C= (V_G-V_GSth)^2;// assumed\n",
"I_D= [A B C]\n",
"I_D= roots(I_D);// in A\n",
"I_D= I_D(2);// in A\n",
"I_DQ= I_D;// in A\n",
"disp(I_DQ*10^3,'The value of I_DQ in mA is : ')\n",
"V_GSQ= V_G-I_D*R_S;// in V\n",
"disp(V_GSQ,'The value of V_GSQ in volts is : ')\n",
"V_DSQ= V_DD-I_DQ*(R_D+R_S);// in V\n",
"disp(V_DSQ,'The value of V_DSQ in volts is : ')\n",
"\n",
""
   ]
   }
,
{
		   "cell_type": "markdown",
		   "metadata": {},
		   "source": [
			"## Example 9.5: IDSQ_VGSQ_and_VDSQ.sce"
		   ]
		  },
  {
"cell_type": "code",
	   "execution_count": null,
	   "metadata": {
	    "collapsed": true
	   },
	   "outputs": [],
"source": [
"// Exa 9.5\n",
"clc;\n",
"clear;\n",
"close;\n",
"// Given data\n",
"I_D= '0.3*(V_GS-V_P)^2';// given expression\n",
"V_DD= 30;// in V\n",
"V_P= 4;// in V\n",
"R_GS = 1.2*10^6;// in Ω\n",
"R_G = 1.2*10^6;// in Ω\n",
"Req= R_GS/(R_GS+R_G);// in Ω\n",
"R_D= 15;// in Ω\n",
"// V_DS= V_DD-I_D*R_D (applying KVL to drain circuit)\n",
"// V_GS= Req*V_DS= (V_DD-I_D*R_D)*Req\n",
"// from given expression\n",
"//I_D^2*(R_D*Req)^2 - I_D*(2*R_D*Req*(V_DD*Req-V_P)+1/0.3 + (V_DD*Req-V_P)^2)\n",
"A= (R_D*Req)^2;// assumed\n",
"B= -(2*R_D*Req*(V_DD*Req-V_P)+1/0.3);// assumed\n",
"C= (V_DD*Req-V_P)^2;// assumed\n",
"I_D= [A B C]\n",
"I_D= roots(I_D);// in mA\n",
"I_D= I_D(2);// in mA\n",
"I_DSQ= I_D;// in mA\n",
"disp(I_DSQ,'The value of I_DSQ in mA is : ')\n",
"V_GS= (V_DD-I_D*R_D);// in V\n",
"disp(V_GS,'The value of V_GS in volts is : ')\n",
"V_DS= Req*V_GS;// in V\n",
"disp(V_DS,'The value of V_DS in volts is : ')"
   ]
   }
,
{
		   "cell_type": "markdown",
		   "metadata": {},
		   "source": [
			"## Example 9.6: Value_of_ID_and_VDS.sce"
		   ]
		  },
  {
"cell_type": "code",
	   "execution_count": null,
	   "metadata": {
	    "collapsed": true
	   },
	   "outputs": [],
"source": [
"// Exa 9.6\n",
"clc;\n",
"clear;\n",
"close;\n",
"// Given data\n",
"k = 0.1;// in mA/V^2\n",
"V_T  = 1;// in V\n",
"R1 = 33;//in k ohm\n",
"R2 = 21;// in k ohm\n",
"V_DD = 6;// in V\n",
"R_D = 18;// in k ohm\n",
"V_G = (R2/(R2+R1))*V_DD;// in V\n",
"V_S = 0;// in V\n",
"V_GS = V_G-V_S;// in V\n",
"I_D = k*((V_GS-V_T)^2);// in mA\n",
"disp(I_D,'The value of I_D in mA is');\n",
"V_DS = V_DD - (I_D*R_D);// in V\n",
"disp(V_DS,'The value of V_DS in V is'); \n",
"V_DSsat = V_GS-V_T;// in V\n",
"disp(V_DSsat,'The value of V_DS(sat) in V is');\n",
"if V_DS>V_DSsat then\n",
"    disp('MOSFET is in saturation region')\n",
"end"
   ]
   }
,
{
		   "cell_type": "markdown",
		   "metadata": {},
		   "source": [
			"## Example 9.7: DC_load_line_and_operating_point.sce"
		   ]
		  },
  {
"cell_type": "code",
	   "execution_count": null,
	   "metadata": {
	    "collapsed": true
	   },
	   "outputs": [],
"source": [
"// Exa 9.7\n",
"clc;\n",
"clear;\n",
"close;\n",
"// Given data\n",
"V_DD= 6;// in V\n",
"R_D= 18;// in kohm\n",
"// for maximum value of I_D\n",
"V_DS=0;// in V\n",
"I_Dmax= (V_DD-V_DS)/R_D;// in mA\n",
"// for maximum value of V_DS\n",
"I_D=0;// in mA\n",
"V_DSmax=V_DD-I_D*R_D;// in V\n",
"V_DS= 0:0.1:V_DSmax;// in V\n",
"I_D= (V_DD-V_DS)/R_D;// in mA\n",
"plot(V_DS,I_D)\n",
"xlabel('V_DS in volts')\n",
"ylabel('I_D in mA')\n",
"title('DC load line')\n",
"disp('DC load line shown in figure');\n",
"disp('Q-points are : 2.8V,0.178 mA')"
   ]
   }
,
{
		   "cell_type": "markdown",
		   "metadata": {},
		   "source": [
			"## Example 9.8: Region_of_MOSFET.sce"
		   ]
		  },
  {
"cell_type": "code",
	   "execution_count": null,
	   "metadata": {
	    "collapsed": true
	   },
	   "outputs": [],
"source": [
"// Exa 9.8\n",
"clc;\n",
"clear;\n",
"close;\n",
"// Given data\n",
"R2 = 18;// in k ohm\n",
"R1 = 33;// in k ohm\n",
"V_DD = 6;// in V\n",
"V_G = (R2/(R1+R2))*V_DD;// in V\n",
"V_S = V_DD;// in V\n",
"V_SG = V_S-V_G;// in V\n",
"disp(V_SG,'The value of V_SG in V is');\n",
"k = 0.1;\n",
"V_T = -1;// in V\n",
"I_D = k*((V_SG+V_T)^2);// in mA\n",
"disp(I_D,'The value of I_D in mA is');\n",
"R_D = 3;// in k ohm\n",
"V_SD = V_DD - (I_D*R_D);// in V\n",
"disp(V_SD,'The value of V_SD in V is');\n",
"V_SDsat  = V_SG+V_T;// in V\n",
"disp(V_SDsat,'The value of V_SD(sat) in V is');\n",
"if V_SD>V_SDsat then\n",
"    disp('The p MOSFET is indeed biased in the saturation region')\n",
"end"
   ]
   }
,
{
		   "cell_type": "markdown",
		   "metadata": {},
		   "source": [
			"## Example 9.9: IDQ_and_VDSQ.sce"
		   ]
		  },
  {
"cell_type": "code",
	   "execution_count": null,
	   "metadata": {
	    "collapsed": true
	   },
	   "outputs": [],
"source": [
"// Exa 9.9\n",
"clc;\n",
"clear;\n",
"close;\n",
"// Given data\n",
"V_G= 1.5;// in V\n",
"V_P= -3;// in V\n",
"R_S= 750;// in Ω\n",
"R_D= 1800;// in Ω\n",
"I_DSS= 6*10^-3;// in A\n",
"V_DD= 18;// in V\n",
"// V_GS= V_G-I_D*R_S\n",
"// I_D= I_DSS*(1-V_GS/V_P)^2 or I_DSS*(1-(V_G-I_D*R_S)/V_P)^2\n",
"//I_D^2*R_S^2+I_D*(2*R_S*(V_P-V_G)-V_P^2/I_DSS)+(V_P-V_G)^2\n",
"A= R_S^2\n",
"B=(2*R_S*(V_P-V_G)-V_P^2/I_DSS)\n",
"C=(V_P-V_G)^2\n",
"I_D= [A B C]\n",
"I_D= roots(I_D);// in A\n",
"I_D= I_D(2);// in A\n",
"I_DQ= I_D;// in A\n",
"V_DS= V_DD-I_D*(R_D+R_S);// in V\n",
"V_DSQ= V_DS;// in V\n",
"disp(I_DQ*10^3,'The value of I_DQ in mA is : ')\n",
"disp(V_DSQ,'The value of V_DSQ in volts is : ')"
   ]
   }
],
"metadata": {
		  "kernelspec": {
		   "display_name": "Scilab",
		   "language": "scilab",
		   "name": "scilab"
		  },
		  "language_info": {
		   "file_extension": ".sce",
		   "help_links": [
			{
			 "text": "MetaKernel Magics",
			 "url": "https://github.com/calysto/metakernel/blob/master/metakernel/magics/README.md"
			}
		   ],
		   "mimetype": "text/x-octave",
		   "name": "scilab",
		   "version": "0.7.1"
		  }
		 },
		 "nbformat": 4,
		 "nbformat_minor": 0
}
