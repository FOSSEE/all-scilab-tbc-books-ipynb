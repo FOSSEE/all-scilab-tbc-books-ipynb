{
"cells": [
 {
		   "cell_type": "markdown",
	   "metadata": {},
	   "source": [
       "# Chapter 3: Excess Carriers In Semiconductors"
	   ]
	},
{
		   "cell_type": "markdown",
		   "metadata": {},
		   "source": [
			"## Example 3.10: Ratio_of_donor_atoms_to_Si_atom.sce"
		   ]
		  },
  {
"cell_type": "code",
	   "execution_count": null,
	   "metadata": {
	    "collapsed": true
	   },
	   "outputs": [],
"source": [
"// Exa 3.10\n",
"clc;\n",
"clear;\n",
"close;\n",
"// Given data\n",
"Rho = 9.6*10^-2;// ohm-m\n",
"Sigma_n = 1/Rho;// in (ohm-m)^-1\n",
"Miu_n = 1300;// in cm^2/V-s\n",
"Miu_n = Miu_n * 10^-4;// in m^2/V-s\n",
"q = 1.6*10^-19;// in C\n",
"N_D = Sigma_n/(Miu_n*q);// in atoms/m^3\n",
"d = 5*10^22;// in atoms/cm^3\n",
"d = d * 10^6;// in atoms/m^3\n",
"R_d = N_D/d;//  Ratio \n",
"disp(R_d,'Ratio of donor atom to silicon atoms per unit volume is');"
   ]
   }
,
{
		   "cell_type": "markdown",
		   "metadata": {},
		   "source": [
			"## Example 3.11: Equillibrium_electron_and_hole_densities.sce"
		   ]
		  },
  {
"cell_type": "code",
	   "execution_count": null,
	   "metadata": {
	    "collapsed": true
	   },
	   "outputs": [],
"source": [
"// Exa 3.11\n",
"clc;\n",
"clear;\n",
"close;\n",
"// Given data\n",
"n_i = 1.5*10^10;// in /cm^3\n",
"n_n = 2.25*10^15;//in /cm^3\n",
"p_n = ((n_i)^2)/n_n;// in /cm^3\n",
"disp(p_n,'The concentration of holes per cm^3 is');\n",
"disp(n_n,'Donor impurity per cm^3 is');"
   ]
   }
,
{
		   "cell_type": "markdown",
		   "metadata": {},
		   "source": [
			"## Example 3.12: Carrier_concentration.sce"
		   ]
		  },
  {
"cell_type": "code",
	   "execution_count": null,
	   "metadata": {
	    "collapsed": true
	   },
	   "outputs": [],
"source": [
"// Exa 3.12\n",
"clc;\n",
"clear;\n",
"close;\n",
"// Given data\n",
"N_A = 2*10^16;// in /cm^3\n",
"N_D = 10^16;// in /cm^3\n",
"C = N_A-N_D;// in /cm^3\n",
"disp(C,'Carrier concentration in holes/cm^3 is');"
   ]
   }
,
{
		   "cell_type": "markdown",
		   "metadata": {},
		   "source": [
			"## Example 3.13: Generation_rate_due_to_irradiation.sce"
		   ]
		  },
  {
"cell_type": "code",
	   "execution_count": null,
	   "metadata": {
	    "collapsed": true
	   },
	   "outputs": [],
"source": [
"// Exa 3.13\n",
"// GIven data\n",
"clc;\n",
"clear;\n",
"close;\n",
"del_n = 10^15;// in /cm^3\n",
"Torque_p = 10*10^-6;// in sec\n",
"R_G = del_n/Torque_p;// in electron hole pairs/sec/cm^3\n",
"disp('The rate of generation of minority carrier is : '+string(R_G)+' electron hole pairs/sec/cm^3');"
   ]
   }
,
{
		   "cell_type": "markdown",
		   "metadata": {},
		   "source": [
			"## Example 3.14: Mobility_of_minority_charge_carrier.sce"
		   ]
		  },
  {
"cell_type": "code",
	   "execution_count": null,
	   "metadata": {
	    "collapsed": true
	   },
	   "outputs": [],
"source": [
"// Exa 3.14\n",
"clc;\n",
"clear;\n",
"close;\n",
"// Given data\n",
"V = 1/20;// in cm/µsec\n",
"V=V*10^6;// in cm/sec\n",
"E = 10;// in V/cm\n",
"Miu = V/E;// in cm^2/V-sec\n",
"disp(Miu,'The mobility of minority charge carrier in cm^2/V-sec is');"
   ]
   }
,
{
		   "cell_type": "markdown",
		   "metadata": {},
		   "source": [
			"## Example 3.15: Hole_and_electron_diffusion_current.sce"
		   ]
		  },
  {
"cell_type": "code",
	   "execution_count": null,
	   "metadata": {
	    "collapsed": true
	   },
	   "outputs": [],
"source": [
"// Exa 3.15\n",
"clc;\n",
"clear;\n",
"close;\n",
"// Given data\n",
"q = 1.6 * 10^-19;// in C\n",
"N_D = 4.5 * 10^15;// in /cm^3\n",
"del_p = 10^21;\n",
"e=10;// in cm\n",
"A = 1;// in mm^2\n",
"A = A * 10^-14;// cm^2\n",
"l = 10;// in cm\n",
"Torque_p = 1;// in microsec\n",
"Torque_p = Torque_p * 10^-6;// in sec\n",
"Torque_n = 1;// in microsec\n",
"Torque_n = Torque_n * 10^-6;// in  sec\n",
"n_i = 1.5 * 10^10;// in /cm^3\n",
"D_n = 30;// in cm^2/sec\n",
"D_p = 12;// in cm^2/sec\n",
"n_o = N_D;// in /cm^3\n",
"p_o = (n_i)^2/n_o;// in /cm^3\n",
"disp(p_o,'Hole concentration at thermal equilibrium per cm^3 is');\n",
"l_n = sqrt(D_n * Torque_n);// in cm\n",
"disp(l_n,'Diffusion length of electron in cm is');\n",
"l_p = sqrt(D_p * Torque_p);// in cm\n",
"disp(l_p,'Diffusion length of holes in cm is');\n",
"x=34.6*10^-4;// in cm\n",
"dpBYdx = del_p *e;// in cm^4\n",
"disp(dpBYdx,'Concentration gradient of holes at distance in cm^4 is');\n",
"e1 = 1.88 * 10^1;// in cm\n",
"dnBYdx = del_p * e1;// in cm^4 check this also...........................\n",
"disp(dnBYdx,'Concentration gradient of electrons in per cm^4 is');\n",
"J_P = -(q) * D_p * dpBYdx;// in A/cm^2\n",
"disp(J_P,'Current density of holes due to diffusion in A/cm^2 is');\n",
"J_n = q * D_n * dnBYdx;// in A/cm^2\n",
"disp(J_n,'Current density of electrons due to diffusion in A/cm^2 is');"
   ]
   }
,
{
		   "cell_type": "markdown",
		   "metadata": {},
		   "source": [
			"## Example 3.16: Energy_band_gap_of_semiconductor_material_used.sce"
		   ]
		  },
  {
"cell_type": "code",
	   "execution_count": null,
	   "metadata": {
	    "collapsed": true
	   },
	   "outputs": [],
"source": [
"// Exa 3.16\n",
"clc;\n",
"clear;\n",
"close;\n",
"// Given data\n",
"h = 6.626 * 10^-34;// in J-s\n",
"q= 1.6*10^-19;// in C\n",
"h= h/q;// in eV\n",
"c = 3*10^8;\n",
"lembda = 5490*10^-10;// in m\n",
"E = h*c/lembda;// in eV\n",
"disp(E,'The energy band gap in eV is');"
   ]
   }
,
{
		   "cell_type": "markdown",
		   "metadata": {},
		   "source": [
			"## Example 3.17: Current_density_in_Si.sce"
		   ]
		  },
  {
"cell_type": "code",
	   "execution_count": null,
	   "metadata": {
	    "collapsed": true
	   },
	   "outputs": [],
"source": [
"// Exa 3.17\n",
"clc;\n",
"clear;\n",
"close;\n",
"// Gievn data\n",
"D_n = 35;// in cm^2/sec\n",
"q = 1.6*10^-19;// in C\n",
"y2 = 6*10^16;// in /cm^3\n",
"y1 = 10^17;// in /cm^3\n",
"x2 = 2*10^-4;\n",
"x1 = 0;\n",
"dnBYdx = (y2-y1)/(x2-x1);\n",
"J_n = q*D_n*dnBYdx;// in A/cm^2\n",
"disp(J_n,'The current density in A/cm^2 is'); "
   ]
   }
,
{
		   "cell_type": "markdown",
		   "metadata": {},
		   "source": [
			"## Example 3.18: Resistance_of_the_bar.sce"
		   ]
		  },
  {
"cell_type": "code",
	   "execution_count": null,
	   "metadata": {
	    "collapsed": true
	   },
	   "outputs": [],
"source": [
"// Exa 3.18\n",
"clc;\n",
"clear;\n",
"close;\n",
"// Given data\n",
"q = 1.6*10^-19;// in C\n",
"n_n = 5*10^20;// in  /m^3\n",
"n_n = n_n * 10^-6;// in /cm^3\n",
"Miu_n = 0.13;// in m^2/V-sec\n",
"Miu_n = Miu_n * 10^4;// in cm^2/V-sec\n",
"Sigma_n = q*n_n*Miu_n;// in ohm-cm^-1\n",
"Rho = 1/Sigma_n;\n",
"A = 100;// in µm^2\n",
"A = A * 10^-8;// in cm^2\n",
"l = 0.1;// in cm\n",
"R = Rho * (l/A);// in ohm\n",
"disp(round(R*10^-6),'The resistance of the bar in M ohm is');"
   ]
   }
,
{
		   "cell_type": "markdown",
		   "metadata": {},
		   "source": [
			"## Example 3.19: Depletion_width.sce"
		   ]
		  },
  {
"cell_type": "code",
	   "execution_count": null,
	   "metadata": {
	    "collapsed": true
	   },
	   "outputs": [],
"source": [
"// Exa 3.19\n",
"clc;\n",
"clear;\n",
"close;\n",
"// Given data\n",
"w = 3;// in µm\n",
"D = w/9;// in µm\n",
"disp(D,'Depletion width on P side in µm is');"
   ]
   }
,
{
		   "cell_type": "markdown",
		   "metadata": {},
		   "source": [
			"## Example 3.1: Hole_concentration_at_equilibrium.sce"
		   ]
		  },
  {
"cell_type": "code",
	   "execution_count": null,
	   "metadata": {
	    "collapsed": true
	   },
	   "outputs": [],
"source": [
"// Exa 3.1\n",
"clc;\n",
"clear;\n",
"close;\n",
"// Given data\n",
"n_o = 10^17;// in /cm^3\n",
"n_i = 1.5*10^10;// in /cm^3\n",
"p_o = ((n_i)^(2))/n_o;// in holes/cm^3\n",
"disp(p_o,'The hole concentration in holes/cm^3 is ');"
   ]
   }
,
{
		   "cell_type": "markdown",
		   "metadata": {},
		   "source": [
			"## Example 3.20: Minority_carrier_density.sce"
		   ]
		  },
  {
"cell_type": "code",
	   "execution_count": null,
	   "metadata": {
	    "collapsed": true
	   },
	   "outputs": [],
"source": [
"// Exa 3.20\n",
"clc;\n",
"clear;\n",
"close;\n",
"// Given data\n",
"n_i = 1.5*10^16;// in /m^3\n",
"n_n = 5*10^20;// in /m^3\n",
"p_n = ((n_i)^2)/n_n;// in /m^3\n",
"disp(p_n,'The minority carrier density per m^3 is');"
   ]
   }
,
{
		   "cell_type": "markdown",
		   "metadata": {},
		   "source": [
			"## Example 3.21: Collector_current_density.sce"
		   ]
		  },
  {
"cell_type": "code",
	   "execution_count": null,
	   "metadata": {
	    "collapsed": true
	   },
	   "outputs": [],
"source": [
"// Exa 3.21\n",
"clc;\n",
"clear;\n",
"close;\n",
"// Given data\n",
"y2 = 10^14;// in /cm^3\n",
"y1 = 0;\n",
"x1=-0.5;// in µm\n",
"x1= x1*10^-4;// in cm\n",
"x2=0;\n",
"dnBYdx = (y2-y1)/(x2-x1);// in /cm^4\n",
"q = 1.6*10^-19;// in C\n",
"D_n = 25;// in cm^2/sec\n",
"J_n = q*D_n*dnBYdx;// in A/cm^2\n",
"disp(J_n,'The collector current density in A/cm^2 is');"
   ]
   }
,
{
		   "cell_type": "markdown",
		   "metadata": {},
		   "source": [
			"## Example 3.22: Band_gap.sce"
		   ]
		  },
  {
"cell_type": "code",
	   "execution_count": null,
	   "metadata": {
	    "collapsed": true
	   },
	   "outputs": [],
"source": [
"// Exa 3.22\n",
"clc;\n",
"clear;\n",
"close;\n",
"// Given data\n",
"h = 6.64*10^-34;// in J-s\n",
"q=1.6*10^-19;// in C\n",
"h= h/q;// in eV\n",
"c = 3*10^8;// in m/s\n",
"lembda = 0.87*10^-6;// in m\n",
"E_g = (h*c)/lembda;// in eV\n",
"disp(E_g,'The band gap in eV is');"
   ]
   }
,
{
		   "cell_type": "markdown",
		   "metadata": {},
		   "source": [
			"## Example 3.23: Total_energy_absorbed_by_sample.sce"
		   ]
		  },
  {
"cell_type": "code",
	   "execution_count": null,
	   "metadata": {
	    "collapsed": true
	   },
	   "outputs": [],
"source": [
"// Exa 3.23\n",
"clc;\n",
"clear;\n",
"close;\n",
"// Given data\n",
"alpha = 5*10^4;// in cm^-1\n",
"l = 0.46*10^-4;// in cm\n",
"hv = 2;// in eV\n",
"I_o = 10^-2;// in W\n",
"I_t = I_o*exp(-alpha*l);// in W\n",
"A_p = I_o-I_t;//absorbed power in W or J/s\n",
"disp(A_p,'Total energy absorbed in J/s is');\n",
"c = 1.43;\n",
"A_E = (hv-c)/hv*A_p;// in J/s\n",
"disp(A_E,'Rate of excess thermal energy in J/s is');\n",
"e = 1.6*10^-19;// in C\n",
"P = A_p/(e*hv);//Perfect quantum efficiency in photon/s\n",
"disp(P,'Perfect quantum efficiency in photon/s is');"
   ]
   }
,
{
		   "cell_type": "markdown",
		   "metadata": {},
		   "source": [
			"## Example 3.24: Hole_current.sce"
		   ]
		  },
  {
"cell_type": "code",
	   "execution_count": null,
	   "metadata": {
	    "collapsed": true
	   },
	   "outputs": [],
"source": [
"// Exa 3.24\n",
"clc;\n",
"clear;\n",
"close;\n",
"// Given data\n",
"format('v',13)\n",
"Mu_p = 500;// in cm^2/v-s\n",
"kT = 0.0259;\n",
"Toh_p = 10^-10;// in sec\n",
"p_o = 10^17;// in cm^-3\n",
"q= 1.6*10^-19;// in C\n",
"A=0.5;// in square meter\n",
"del_p = 5 * 10^16;// in cm^-3\n",
"n_i= 1.5*10^10;// in cm^-3    \n",
"D_p = kT * Mu_p;// in cm/s\n",
"L_p = sqrt(D_p * Toh_p);// in cm\n",
"x = 10^-5;// in cm\n",
"p = p_o+del_p* %e^(x/L_p);// in cm^-3\n",
"// p= n_i*%e^(Eip)/kT where Eip=E_i-F_p\n",
"Eip= log(p/n_i)*kT;// in eV\n",
"Ecp= 1.1/2-Eip;// value of E_c-E_p in eV\n",
"Ip= q*A*D_p/L_p*del_p*%e^(x/L_p);// in A\n",
"disp(Ip,'The hole current in A is : ')\n",
"Qp= q*A*del_p*L_p;// in C\n",
"disp(Qp,'The value of Qp in C is : ')\n",
"\n",
"// Note: There is a calculation error to evalaute the value of hole current hence the value of hole current in the book is wrong"
   ]
   }
,
{
		   "cell_type": "markdown",
		   "metadata": {},
		   "source": [
			"## Example 3.3: Position_of_Fermi_level.sce"
		   ]
		  },
  {
"cell_type": "code",
	   "execution_count": null,
	   "metadata": {
	    "collapsed": true
	   },
	   "outputs": [],
"source": [
"// Exa 3.3\n",
"clc;\n",
"clear;\n",
"close;\n",
"// Given data\n",
"n_i = 1.5 * 10 ^10;// in /cm^3 for silicon\n",
"N_d = 10^17;// in atoms/cm^3\n",
"n_o = 10^17;// electrons/cm^3\n",
"KT = 0.0259;\n",
"// E_r - E_i = KT * log(n_o/n_i)\n",
"del_E = KT * log(n_o/n_i);// in eV\n",
"disp('The energy band for this type material is Ei + '+string(del_E)+' eV');"
   ]
   }
,
{
		   "cell_type": "markdown",
		   "metadata": {},
		   "source": [
			"## Example 3.4: Diffusion_coefficients_of_electrons.sce"
		   ]
		  },
  {
"cell_type": "code",
	   "execution_count": null,
	   "metadata": {
	    "collapsed": true
	   },
	   "outputs": [],
"source": [
"// Exa 3.4\n",
"clc;\n",
"clear;\n",
"close;\n",
"// Given data\n",
"K = 1.38*10^-23;// in J/K\n",
"T = 27;// in degree C\n",
"T = T + 273;// in K\n",
"e = 1.6*10^-19;\n",
"Miu = 0.17;// in m^2/v-s\n",
"Miu1 = 0.025;// in m^2/v-s\n",
"D_n = ((K*T)/e)*Miu;// in m^2/s\n",
"disp(D_n,'The diffusion coefficient  of electrons in m^2/s is');\n",
"D_p = ((K*T)/e)*Miu1;// in m^2/s\n",
"disp(D_p,'The diffusion coefficient of holes in m^2/s is');"
   ]
   }
,
{
		   "cell_type": "markdown",
		   "metadata": {},
		   "source": [
			"## Example 3.5: Diffusion_length.sce"
		   ]
		  },
  {
"cell_type": "code",
	   "execution_count": null,
	   "metadata": {
	    "collapsed": true
	   },
	   "outputs": [],
"source": [
"// Exa 3.5\n",
"clc;\n",
"clear;\n",
"close;\n",
"// Given data\n",
"Miu_n = 0.15;// in m^2/v-s\n",
"K = 1.38*10^-23;\n",
"T = 300;// in K\n",
"e = 1.6*10^-19;// in C\n",
"D_n = Miu_n*((K*T)/e);// in m^2/s\n",
"Torque_n = 10^-7;// in s\n",
"L_n = sqrt(D_n*Torque_n);// in m\n",
"disp(L_n,'The diffusion length in m is');\n",
"del_n = 10^20;// in electrons/m^3\n",
"J_n = (e*D_n*del_n)/L_n;// in A/m^2\n",
"disp(J_n,'The diffusion current density in A/m^2 is');"
   ]
   }
,
{
		   "cell_type": "markdown",
		   "metadata": {},
		   "source": [
			"## Example 3.6: Concentration_of_holes_and_electrons.sce"
		   ]
		  },
  {
"cell_type": "code",
	   "execution_count": null,
	   "metadata": {
	    "collapsed": true
	   },
	   "outputs": [],
"source": [
"// Exa 3.6\n",
"clc;\n",
"clear;\n",
"close;\n",
"// Given data\n",
"Sigma_n = 0.1;// in (ohm-cm)^-1\n",
"Miu_n = 1300;\n",
"q = 1.6*10^-19;// in C\n",
"n_n = Sigma_n/(Miu_n*q);// in electrons/cm^3 \n",
"disp(n_n*10^6,'Concentration of electrons per m^3 is ');\n",
"n_i = 1.5*10^10;\n",
"p_n = ((n_i)^2)/n_n;// in holes/cm^3\n",
"p_n = p_n * 10^6;// in holes/m^3\n",
"disp(p_n,'Concentration of holes per m^3 is');"
   ]
   }
,
{
		   "cell_type": "markdown",
		   "metadata": {},
		   "source": [
			"## Example 3.7: Electron_transit_time.sce"
		   ]
		  },
  {
"cell_type": "code",
	   "execution_count": null,
	   "metadata": {
	    "collapsed": true
	   },
	   "outputs": [],
"source": [
"// Exa 3.7\n",
"clc;\n",
"clear;\n",
"close;\n",
"// Given data\n",
"L = 100*10^-6;// in m\n",
"Miu_e = 0.13;// in m^2/V-s\n",
"Torque_h = 10^-6;// in s\n",
"Miu_h = 0.05;// in m^2/v-s\n",
"V = 12;// in V\n",
"Torque_n = ((L)^2)/(Miu_e*V);// in s\n",
"disp(Torque_n,'Electron transit time in sec is');\n",
"P = (Torque_h/Torque_n)*(1+(Miu_h/Miu_e));\n",
"disp(P,'Photoconductor gain is');"
   ]
   }
,
{
		   "cell_type": "markdown",
		   "metadata": {},
		   "source": [
			"## Example 3.8: Resistivity_drops.sce"
		   ]
		  },
  {
"cell_type": "code",
	   "execution_count": null,
	   "metadata": {
	    "collapsed": true
	   },
	   "outputs": [],
"source": [
"//Exa 3.8\n",
"clc;\n",
"clear;\n",
"close;\n",
"// Given data\n",
"q = 1.6*10^-19;// in C\n",
"n_i = 2.5*10^13;\n",
"Miu_n = 3800;// in cm^2/V-s\n",
"Miu_p = 1800;// in cm^2/V-s\n",
"Sigma = n_i*(Miu_n + Miu_p)*q;// in (ohm-cm)^-1\n",
"Rho = 1/Sigma;// in ohm-cm\n",
"disp(Rho,'The resistivity in ohm-cm is');\n",
"N_D =4.4*10^22/10^8 ;// in atoms/cm^3\n",
"Sigma_n = N_D * Miu_n*q;// in (ohm-cm)^-1 \n",
"Rho1 = 1/Sigma_n;// in ohm cm\n",
"disp(Rho1,'The resistivity drops in ohm cm is'); "
   ]
   }
,
{
		   "cell_type": "markdown",
		   "metadata": {},
		   "source": [
			"## Example 3.9: Electron_concentration.sce"
		   ]
		  },
  {
"cell_type": "code",
	   "execution_count": null,
	   "metadata": {
	    "collapsed": true
	   },
	   "outputs": [],
"source": [
"// Exa 3.9\n",
"clc;\n",
"clear;\n",
"close;\n",
"// Given data\n",
"n_i = 10^16;// in /m^3\n",
"N_D = 10^22;// in /m^3\n",
"n = N_D;// in /m^3\n",
"disp(n,'The concentration of electrons per m^3 is');\n",
"p = ((n_i)^2)/n;// in /m^3\n",
"disp(p,'The concentration of holes per m^3 is');"
   ]
   }
],
"metadata": {
		  "kernelspec": {
		   "display_name": "Scilab",
		   "language": "scilab",
		   "name": "scilab"
		  },
		  "language_info": {
		   "file_extension": ".sce",
		   "help_links": [
			{
			 "text": "MetaKernel Magics",
			 "url": "https://github.com/calysto/metakernel/blob/master/metakernel/magics/README.md"
			}
		   ],
		   "mimetype": "text/x-octave",
		   "name": "scilab",
		   "version": "0.7.1"
		  }
		 },
		 "nbformat": 4,
		 "nbformat_minor": 0
}
