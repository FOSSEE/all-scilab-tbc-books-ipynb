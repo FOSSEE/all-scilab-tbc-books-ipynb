{
"cells": [
 {
		   "cell_type": "markdown",
	   "metadata": {},
	   "source": [
       "# Chapter 6: Microwave Diodes"
	   ]
	},
{
		   "cell_type": "markdown",
		   "metadata": {},
		   "source": [
			"## Example 6.1: Tuning_range_of_circuit.sce"
		   ]
		  },
  {
"cell_type": "code",
	   "execution_count": null,
	   "metadata": {
	    "collapsed": true
	   },
	   "outputs": [],
"source": [
"// Exa 6.1\n",
"clc;\n",
"clear;\n",
"close;\n",
"// Given data\n",
"C1_min= 5;// in pF\n",
"C1_max= 50;// in pF\n",
"C2_min= 5;// in pF\n",
"C2_max= 50;// in pF\n",
"C1_min=C1_min*10^-12;// in F\n",
"C2_min=C2_min*10^-12;// in F\n",
"C1_max=C1_max*10^-12;// in F\n",
"C2_max=C2_max*10^-12;// in F\n",
"L = 10;// in mH\n",
"L = L * 10^-3;// in H\n",
"C_T_min = (C1_min*C2_min)/(C2_min+C2_min);// in F\n",
"f_o_max = 1/( 2*%pi*(sqrt(L*C_T_min)) );//in Hz \n",
"f_o_max = f_o_max * 10^-6;// in MHz\n",
"C_T_max = (C1_max*C2_max)/(C2_max+C2_max);// in F\n",
"f_o_min = 1/( 2*%pi*(sqrt(L*C_T_max)) );//in Hz \n",
"f_o_min = f_o_min * 10^-3;// in kHz\n",
"disp('The tuning range for circuit will be : '+string(round(f_o_min))+' kHz to '+string(round(f_o_max))+' MHz')"
   ]
   }
],
"metadata": {
		  "kernelspec": {
		   "display_name": "Scilab",
		   "language": "scilab",
		   "name": "scilab"
		  },
		  "language_info": {
		   "file_extension": ".sce",
		   "help_links": [
			{
			 "text": "MetaKernel Magics",
			 "url": "https://github.com/calysto/metakernel/blob/master/metakernel/magics/README.md"
			}
		   ],
		   "mimetype": "text/x-octave",
		   "name": "scilab",
		   "version": "0.7.1"
		  }
		 },
		 "nbformat": 4,
		 "nbformat_minor": 0
}
