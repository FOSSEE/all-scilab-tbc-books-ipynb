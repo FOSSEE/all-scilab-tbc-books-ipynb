{
"cells": [
 {
		   "cell_type": "markdown",
	   "metadata": {},
	   "source": [
       "# Chapter 7: Optoelectonic Devices"
	   ]
	},
{
		   "cell_type": "markdown",
		   "metadata": {},
		   "source": [
			"## Example 7.1: Component_value.sce"
		   ]
		  },
  {
"cell_type": "code",
	   "execution_count": null,
	   "metadata": {
	    "collapsed": true
	   },
	   "outputs": [],
"source": [
"// Exa 7.1\n",
"clc;\n",
"clear;\n",
"close;\n",
"// Given data\n",
"Vout = 5;// in V\n",
"V = 1.5;//ON state voltage drop across LED in V\n",
"I = 5;// in mA\n",
"I = I*10^-3;// in A\n",
"R = (Vout-V)/I;// in ohm\n",
"disp(R,'Resistance in ohm is');"
   ]
   }
,
{
		   "cell_type": "markdown",
		   "metadata": {},
		   "source": [
			"## Example 7.2: Open_circuit_voltage.sce"
		   ]
		  },
  {
"cell_type": "code",
	   "execution_count": null,
	   "metadata": {
	    "collapsed": true
	   },
	   "outputs": [],
"source": [
"// Exa 7.2\n",
"clc;\n",
"clear;\n",
"close;\n",
"// Given data\n",
"N_A = 7.5*10^24;// in atoms/m^3\n",
"N_D = 1.5*10^22;// in atoms/m^3\n",
"D_e = 25*10^-4;// in m^2/s\n",
"D_n = 1*10^-3;// in m^2/s\n",
"V_T = 26*10^-3;// in V\n",
"Torque_eo = 500*10^-9;// in sec\n",
"Torque_ho = 100*10^-9;// in sec\n",
"e = 1.6*10^-19; // in C\n",
"n_i = 1.5*10^16;// in /m^3\n",
"I_lambda = 12.5;// in mA/cm^2\n",
"I_lambda= I_lambda*10^-3;// in A/cm^2\n",
"L_e = sqrt(D_e*Torque_eo);// in m\n",
"L_n = sqrt(D_n*Torque_ho);// in m\n",
"J_s = e*((n_i)^2)*( ((D_e)/(L_e*N_A)) + ((D_n)/(L_n*N_D)) );// in A/m^2\n",
"J_s= J_s*10^-4;// in A/cm^2\n",
"V_OC = V_T*(log(1+(I_lambda/J_s)));// in V\n",
"disp(V_OC,'Open circuit voltage in volts is');"
   ]
   }
,
{
		   "cell_type": "markdown",
		   "metadata": {},
		   "source": [
			"## Example 7.3: Photocurrent_density.sce"
		   ]
		  },
  {
"cell_type": "code",
	   "execution_count": null,
	   "metadata": {
	    "collapsed": true
	   },
	   "outputs": [],
"source": [
"// Exa 7.3\n",
"clc;\n",
"clear;\n",
"close;\n",
"// Given data\n",
"Phi_o = 1*10^21;// in m^-2s^-1\n",
"alpha =1*10^5;// in m^-1\n",
"e= 1.6*10^-19;// in C\n",
"G_L1 = alpha*Phi_o;// in m^-3s^-1\n",
"W = 26;// in µm\n",
"W = W * 10^-6;// in m\n",
"G_L2 = alpha*Phi_o*(%e^((-alpha)*W));// in m^-3s^-1\n",
"J_L = e*Phi_o*(1-%e^(-(alpha)*W));// in A/m^2\n",
"J_L = J_L * 10^3*10^-4;// in mA/cm^2\n",
"disp(J_L,'Photo current density in mA/cm^2 is ');"
   ]
   }
],
"metadata": {
		  "kernelspec": {
		   "display_name": "Scilab",
		   "language": "scilab",
		   "name": "scilab"
		  },
		  "language_info": {
		   "file_extension": ".sce",
		   "help_links": [
			{
			 "text": "MetaKernel Magics",
			 "url": "https://github.com/calysto/metakernel/blob/master/metakernel/magics/README.md"
			}
		   ],
		   "mimetype": "text/x-octave",
		   "name": "scilab",
		   "version": "0.7.1"
		  }
		 },
		 "nbformat": 4,
		 "nbformat_minor": 0
}
