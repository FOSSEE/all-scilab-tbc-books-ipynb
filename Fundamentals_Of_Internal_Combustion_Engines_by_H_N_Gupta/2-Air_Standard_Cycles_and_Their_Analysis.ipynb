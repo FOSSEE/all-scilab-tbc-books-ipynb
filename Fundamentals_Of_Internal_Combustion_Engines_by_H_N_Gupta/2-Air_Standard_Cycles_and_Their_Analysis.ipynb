{
"cells": [
 {
		   "cell_type": "markdown",
	   "metadata": {},
	   "source": [
       "# Chapter 2: Air Standard Cycles and Their Analysis"
	   ]
	},
{
		   "cell_type": "markdown",
		   "metadata": {},
		   "source": [
			"## Example 2.10: Atkinson_cycle.sce"
		   ]
		  },
  {
"cell_type": "code",
	   "execution_count": null,
	   "metadata": {
	    "collapsed": true
	   },
	   "outputs": [],
"source": [
"clc\n",
"clear\n",
"//Input data\n",
"p1=1//Inlet pressure in bar\n",
"T1=27+273//Temperature in K\n",
"p2=4//pressure at point 2 in bar\n",
"p3=16//Maximum pressure in bar\n",
"Cv=0.573//specific heat at constant volume for gas in kJ/kgK\n",
"Cp=0.761//specific heat at constant pressure for gas in kJ/kgK\n",
"\n",
"//Calculations\n",
"g=(Cp/Cv)//Adiabatic index\n",
"T2=(T1*(p2/p1)^((g-1)/g))//Temperature in K\n",
"T3=(p3/p2)*T2//Temperature in K\n",
"T4=T3*(p1/p3)^((g-1)/g)//Temperature in K\n",
"Q1=Cv*(T3-T2)//Heat supplied in kJ/kg\n",
"Q2=Cp*(T4-T1)//Heat rejected in kJ/kg\n",
"W=Q1-Q2//Workdone in kJ/kg\n",
"n=(W/Q1)*100//Efficiency of cycle \n",
"r=(p2/p1)^(1/g)//Compression ratio\n",
"R=(Cp-Cv)//Universal gas constant in kJ/kg.K\n",
"Vs=(R*1000*T1*(r-1))/(p1*10^5*r)//Swept volume in m^3/kg\n",
"pm=(W/(Vs*100))//Mean effective pressure in bar\n",
"\n",
"//Output\n",
"printf('(a) The work done per kg of gas is %3.1f kJ/kg \n (b) The efficiency of the cycle is %3.1f percent \n (c) Mean effective pressure is %3.2f bar',W,n,pm)"
   ]
   }
,
{
		   "cell_type": "markdown",
		   "metadata": {},
		   "source": [
			"## Example 2.1: The_Ideal_power_develped.sce"
		   ]
		  },
  {
"cell_type": "code",
	   "execution_count": null,
	   "metadata": {
	    "collapsed": true
	   },
	   "outputs": [],
"source": [
"clc\n",
"clear\n",
"//Input data\n",
"d=20;//Cylinder bore diameter in cm\n",
"L=25;//Stroke length in cm\n",
"Vc=1570;//The clearance volume in cm^3\n",
"P1=1;//Pressure at the beginning of the compression in bar\n",
"T1=300;//Temperature at the beginning of the compression in K\n",
"T3=1673;//The maximum temperature of the cycle in K\n",
"pi=3.141;//Mathematical constant value of pi\n",
"Cv=0.718;//specific heat at constant volume for air in kJ/kgK\n",
"R=0.287;//Real gas constant in kJ/kgK\n",
"g=1.4;//Isentropic index\n",
"c=500;//Number of cycles per minute\n",
"\n",
"//Calculations\n",
"Vs=(pi/4)*d^2*L;//Swept volume in cm^3\n",
"V1=Vs+Vc;//According to pv diagram Total volume i.e sum of swept and clearance volume in cm^3\n",
"V2=Vc;//Volume according to pv diagram in cm^3\n",
"r=V1/V2;//Compression ratio\n",
"T2=T1*r^(g-1);//In isentropic process, Temperature at point 2 in degree centigrade\n",
"P2=P1*r^g;//In isentropic process, Pressure at point 2 in bar\n",
"P3=P2*(T3/T2);//In constant volume, process Pressure at point 3 in bar\n",
"T4=T3*(1/r)^(g-1);//In isentropic process, Temperature at point 4 in degree centigrade\n",
"P4=P3*(1/r)^(g);//In isentropic process, Pressure at point 4 in bar\n",
"no=(1-(1/r)^(g-1))*100;//Air standard efficiency of otto cycle\n",
"Q1=Cv*(T3-T2);//Heat supplied in kJ/kg\n",
"Q2=Cv*(T4-T1);//Heat rejected in kJ/kg\n",
"W=Q1-Q2;//Work done per unit mass in kJ/kg\n",
"m=[(P1*10^5*V1*10^-6)/(R*T1)]/1000;//The amount of mass in kg\n",
"W1=W*m;//Work done in kJ\n",
"pm=[(W1*10^3)/(Vs*10^-6)]/10^5;//Mean effective pressure in N/m^2\n",
"P=W1*(c/60);//Power developed in kW\n",
"\n",
"//Output\n",
"printf('Temperature at point 2 = %3.1f K \n Pressure at point 2 = %3.3f bar \n Pressure at point 3 = %3.2f bar \n Temperature at point 4 = %3.0f K \n Pressure at point 4 = %3.3f bar \n Air standard efficiency of otto cycle = %3.4f percent \n Work done = %3.2f kJ \n Mean effective pressure = %3.3f bar \n Power developed = %3.1f kW ',T2,P2,P3,T4,P4,no,W1,pm,P)\n",
"\n",
""
   ]
   }
,
{
		   "cell_type": "markdown",
		   "metadata": {},
		   "source": [
			"## Example 2.2: The_specific_fuel_consumption.sce"
		   ]
		  },
  {
"cell_type": "code",
	   "execution_count": null,
	   "metadata": {
	    "collapsed": true
	   },
	   "outputs": [],
"source": [
"clc\n",
"clear\n",
"//Input data\n",
"CV=42000;//The calorific value of the fuel in kJ/kg\n",
"pa=5//Percentage of compression\n",
"Pa=1.2;//Pressure in the cylinder at 5% compression stroke\n",
"pb=75//Percentage of compression\n",
"Pb=4.8;//Pressure in the cylinder at 75% compression stroke\n",
"g=1.3;//polytropic index\n",
"g1=1.4//Isentropic index\n",
"n=0.6;//Air standard efficiency\n",
"\n",
"\n",
"//Calculations\n",
"V=(Pb/Pa)^(1/1.3);//Ratio of volumes\n",
"r=(V*(pb/100)-(pa/100))/((1-(pa/100))-(V*(1-(pb/100))))//Compression ratio\n",
"n1=((1-(1/r)^(g1-1)))*100//Relative efficiency\n",
"nthj=n*(n1/100)//Indicated thermal efficiency\n",
"x=(1/(CV*nthj))*3600//Specific fuel consumption in kg/kW.h\n",
"\n",
"//Output\n",
"printf('The compression ratio of the engine is %3.1f \n The specific fuel consumption is %3.3f kg/kW.h',r,x)"
   ]
   }
,
{
		   "cell_type": "markdown",
		   "metadata": {},
		   "source": [
			"## Example 2.4: Diesel_cycle.sce"
		   ]
		  },
  {
"cell_type": "code",
	   "execution_count": null,
	   "metadata": {
	    "collapsed": true
	   },
	   "outputs": [],
"source": [
"clc\n",
"clear\n",
"//Input data\n",
"d=0.2;//The diameter of the cylinder bore in m\n",
"L=0.3;//The length of the stroke in m\n",
"P1=1;//The pressure at the beginning of the compression in bar\n",
"T1=300;//The temperature at the beginning of the compression in K\n",
"r=16;//Compression ratio\n",
"V=0.08;//Cutt off takes place at 8& of the stroke\n",
"pi=3.141;//Mathematical constant value of pi\n",
"R=0.287;//Real gas constant in kJ/kgK\n",
"g=1.4;//Isentropic index\n",
"Cp=1.005;//Specific heat at constant prassure in kJ/kgK\n",
"Cv=0.718;//specific heat at constant volume for air in kJ/kgK\n",
"\n",
"//Calculations\n",
"Vs=(pi/4)*d^2*L;//Swept volume in m^3\n",
"Vc=Vs/(r-1);//Clearance volume in m^3\n",
"V2=Vc;//Volume at point 2 in m^3\n",
"V1=Vs+Vc;//Volume at point 1 in m^3\n",
"m=(P1*10^5*V1)/(R*T1);//The amount of mass in kg\n",
"P2=P1*(r^g);//Pressure at point 2 in bar\n",
"P3=P2;//Pressure at point 3 in bar\n",
"T2=T1*r^(g-1);//Temperature at point 2 in K\n",
"V3=(V*Vs)+V2;//Volume at point 3 in m^3\n",
"C=V3/V2;//Cut off ratio\n",
"T3=C*T2;//Temperature at point 3 in K\n",
"P4=P3*(C/r)^g;//Pressure at the point 4 in bar\n",
"T4=T3*(C/r)^(g-1);//Temperature at point 4 in K\n",
"V4=V1;//Volume at point 4 in m^3\n",
"Q1=[m*Cp*(T3-T2)]/1000;//Heat supplied in kJ\n",
"Q2=[m*Cv*(T4-T1)]/1000;//Heat rejected in kJ\n",
"W=[Q1-Q2];//Work done per cycle in kJ\n",
"na=(W/Q1)*100;//Air standard efficiency\n",
"Pm=[W*1000/Vs]/10^5;//Mean effective pressure in bar\n",
"\n",
"//Output\n",
"printf('(a) Volume at point 2 = %3.6f m^3 \n Volume at point 1 = %3.6f m^3 \n Pressure at point 2 = %3.1f bar \n Temperature at point 2 = %3.1f K \n Temperature at point 3 = %3.0f K \n Pressure at point 4 = %3.3f bar \n Temperature at point 4 = %3.1f K \n Volume at point 4 = %3.6f m^3 \n (b) cut off ratio = %3.2f \n (c) Work done per cycle = %3.3f kJ \n (d) air standard efficiency = %3.2f percent \n (e)Mean effective pressure = %3.2f bar ',V2,V1,P2,T2,T3,P4,T4,V4,C,W,na,Pm)"
   ]
   }
,
{
		   "cell_type": "markdown",
		   "metadata": {},
		   "source": [
			"## Example 2.5: Diesel_cycle.sce"
		   ]
		  },
  {
"cell_type": "code",
	   "execution_count": null,
	   "metadata": {
	    "collapsed": true
	   },
	   "outputs": [],
"source": [
"clc\n",
"clear\n",
"//Input data\n",
"Pm=7;//The mean effective pressure of a diesel cycle in bar\n",
"r=12;//The compression ratio\n",
"P1=1;//Initial pressure in bar\n",
"g=1.4;//Isentropic index\n",
"\n",
"//Calculations\n",
"function[f] = F(x);//function definition\n",
"    f = 45.4*x- 12*x^1.4 -64.2;\n",
"endfunction\n",
"x = 1;//Initial guss\n",
"function[z] = D(x)//Derivative\n",
"    z= 3*x^2 - 3;\n",
"endfunction\n",
"y = fsolve(x,F, D);\n",
"C=y;//The cut off ratio \n",
"na=[1-(1/(r^(g-1)))*[((C^g)-1)/(g*(C-1))]]*100;//Air standard efficiency\n",
"\n",
"//Output \n",
"printf('The cut off ratio = %3.1f \n  The air standard efficiency = %3.2f percent ',C,na)\n",
""
   ]
   }
,
{
		   "cell_type": "markdown",
		   "metadata": {},
		   "source": [
			"## Example 2.6: The_Ideal_efficiency.sce"
		   ]
		  },
  {
"cell_type": "code",
	   "execution_count": null,
	   "metadata": {
	    "collapsed": true
	   },
	   "outputs": [],
"source": [
"clc\n",
"clear\n",
"//Input data\n",
"m=30;//The air fuel ratio by mass\n",
"T1=300;//The temperature of air at the beginning of the compression in K\n",
"r=16;//The compression ratio\n",
"CV=42000;//The calorific value of the fuel in kJ/kg\n",
"g=1.4;//Isentropic index\n",
"Cp=1.005;//Specific heat at constant prassure in kJ/kgK\n",
"\n",
"//Calculations\n",
"T2=T1*(r^(g-1));//Temperature at point 2 in K\n",
"T3=[(1/m)*(CV/Cp)]+T2;//Temperature at point 3 in K\n",
"C=T3/T2;//The cut off ratio\n",
"n=(1-[(1/r^(g-1))*[((C^g)-1)/(g*(C-1))]])*100;//The ideal efficiency of the engine based on the air standard cycle\n",
"\n",
"//Output\n",
"printf(' The ideal efficiency of the engine based on the air standard cycle = %3.1f percent ',n)"
   ]
   }
,
{
		   "cell_type": "markdown",
		   "metadata": {},
		   "source": [
			"## Example 2.7: The_air_standard_efficiency.sce"
		   ]
		  },
  {
"cell_type": "code",
	   "execution_count": null,
	   "metadata": {
	    "collapsed": true
	   },
	   "outputs": [],
"source": [
"clc\n",
"clear\n",
"//Input data\n",
"p1=1//Inlet pressure in bar\n",
"p2=32.425//Pressure at the end of isentropic compression in bar\n",
"r=6//Ratio of expansion\n",
"r1=1.4//Isentropic index\n",
"\n",
"//Calculations\n",
"rc=(p2/p1)^(1/r1)//Compression ratio\n",
"b=(rc/r)//cut-off ratio\n",
"n=(1-((b^r1-1)/(rc^(r1-1)*r1*(b-1))))*100//Air-standard efficiency\n",
"pm=((p1*rc^r1*n/100*r1*(b-1))/((r1-1)*(rc-1)))//Mean effective pressure in bar\n",
"\n",
"//Output\n",
"printf('Air-standard efficiency is %3.2f percent \n Mean effective pressure is %3.3f bar',n,pm)"
   ]
   }
,
{
		   "cell_type": "markdown",
		   "metadata": {},
		   "source": [
			"## Example 2.8: Air_standard_Dual_cycle.sce"
		   ]
		  },
  {
"cell_type": "code",
	   "execution_count": null,
	   "metadata": {
	    "collapsed": true
	   },
	   "outputs": [],
"source": [
"clc\n",
"clear\n",
"//Input data\n",
"rc=15//Compression ratio\n",
"p1=1//Pressure at which compression begins in bar\n",
"T1=27+273//Temperature in K\n",
"pm=60//Maximum pressure in bar\n",
"h=2//Heat transfered to air at constant volume is twice that at constant pressure\n",
"g=1.4;//Isentropic index\n",
"Cv=0.718;//specific heat at constant volume for air in kJ/kgK\n",
"Cp=1.005;//specific heat at constant pressure for air in kJ/kgK\n",
"R=0.287;//Real gas constant in kJ/kgK\n",
"\n",
"//Calculations\n",
"T2=(T1*rc^(g-1))//Temperature in K\n",
"p2=(p1*rc^g)//Pressure in bar\n",
"T3=(T2*(pm/p2))//Temperature in K\n",
"T4=(Cv*(T3-T2))/(2*Cp)+T3//Temperature in K\n",
"b=(T4/T3)//Cut-off ratio\n",
"T5=(T4*(b/rc)^(g-1))//Temperature in K\n",
"p5=(p1*(T5/T1))//Pressure in bar\n",
"Q1=(Cv*(T3-T2))+(Cp*(T4-T3))//Heat supplied per unit mass in kJ/kg\n",
"Q2=Cv*(T5-T1)//Heat rejected per unit mass in kJ/kg\n",
"W=(Q1-Q2)//Workdone in kJ/kg\n",
"n=(W/Q1)*100//Air standard efficiency\n",
"Vs=((1*R*1000*T1)/(p1*10^5))*(1-1/rc)//Swept volume in m^3/kg\n",
"pmean=((W*1000)/Vs)/10^5//Mean-effective pressure in bar\n",
"\n",
"//Output\n",
"printf('(a) The pressures and temperatures at the cardinal points of the cycle are \n T2 = %3.0f K  p2 = %3.1f bar \n T3 = %3.0f K  p3 = %3.0f bar \n T4 = %3.0f K  p4 = %3.0f bar \n T5 = %3.0f K  p5 = %3.2f bar \n (b) The cycle efficiency is %3.0f percent \n (c) The mean effective pressure of the cycle is %3.2f bar',T2,p2,T3,pm,T4,pm,T5,p5,n,pmean)"
   ]
   }
,
{
		   "cell_type": "markdown",
		   "metadata": {},
		   "source": [
			"## Example 2.9: Dual_combustion_cycle.sce"
		   ]
		  },
  {
"cell_type": "code",
	   "execution_count": null,
	   "metadata": {
	    "collapsed": true
	   },
	   "outputs": [],
"source": [
"clc\n",
"clear\n",
"//Input data\n",
"r=12;//Compression ratio\n",
"B=1.615;//Cut off ratio\n",
"p3=52.17;//Maximum pressure in bar\n",
"p4=p3;//Maximum pressure in bar\n",
"p1=1;//Initial pressure in bar\n",
"T1=(62+273);//Initial temperature in K\n",
"n=1.35;//Indices of compression and expansion\n",
"g=1.4;//Adiabatic exponent\n",
"mR=0.287;//Real gas constant in kJ/kgK\n",
"Cv=0.718;//specific heat at constant volume for air in kJ/kgK\n",
"Cp=1.005;//specific heat at constant pressure for air in kJ/kgK\n",
"\n",
"//Calculations\n",
"T2=T1*r^(n-1);//The temperature at point 2 in K\n",
"p2=p1*(r)^n;//The pressure at point 2 in bar\n",
"T3=T2*(p3/p2);//The temperature at point 3 in K\n",
"T4=T3*B;//The temperature at point 4 in K\n",
"T5=T4*(B/r)^(n-1);//The temperature at point 5 in K\n",
"Q12=[(g-n)/(g-1)]*mR*[(T1-T2)/(n-1)];//Heat transfer during the process 1-2 for unit mass in kJ/kg\n",
"Q23=Cv*(T3-T2);//Heat transfer during the process 2-3 for unit mass in kJ/kg\n",
"Q34=Cp*(T4-T3);//Heat transfer during the process 3-4 for unit mass in kJ/kg\n",
"Q45=((g-n)/(g-1))*mR*((T4-T5)/(n-1));//Heat transfer during the process 4-5 for unit mass in kJ/kg\n",
"Q51=Cv*(T1-T5);//Heat transfer during the process 5-1 for unit mass in kJ/kg\n",
"Q1=Q23+Q34+Q45;//Heat supplied in kJ/kg\n",
"Q2=-Q12+(-Q51);//Heat rejected in kJ/kg\n",
"W=Q1-Q2;//Work done in kJ/kg\n",
"E=[W/Q1]*100;//Efficiency in percentage\n",
"Vs=[(mR*T1)/p1]*(r-1)/r;//Swept volume for unit mass in m^3/kg\n",
"pm=[W*1000/Vs]/10^3;//Mean effective pressure in bar\n",
"\n",
"//Output\n",
"printf(' (a)The temperature at cardinal points ,\n     T2 = %3.0f K\n     T3 = %3.0f K \n     T4 = %3.0f K \n     T5 = %3.0f K \n (b) The cycle efficiency = %3.1f percent \n (c) The mean effective pressure of the cycle = %3.3f bar ',T2,T3,T4,T5,E,pm)"
   ]
   }
],
"metadata": {
		  "kernelspec": {
		   "display_name": "Scilab",
		   "language": "scilab",
		   "name": "scilab"
		  },
		  "language_info": {
		   "file_extension": ".sce",
		   "help_links": [
			{
			 "text": "MetaKernel Magics",
			 "url": "https://github.com/calysto/metakernel/blob/master/metakernel/magics/README.md"
			}
		   ],
		   "mimetype": "text/x-octave",
		   "name": "scilab",
		   "version": "0.7.1"
		  }
		 },
		 "nbformat": 4,
		 "nbformat_minor": 0
}
