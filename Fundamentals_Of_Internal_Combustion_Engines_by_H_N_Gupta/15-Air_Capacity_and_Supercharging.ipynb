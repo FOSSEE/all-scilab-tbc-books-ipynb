{
"cells": [
 {
		   "cell_type": "markdown",
	   "metadata": {},
	   "source": [
       "# Chapter 15: Air Capacity and Supercharging"
	   ]
	},
{
		   "cell_type": "markdown",
		   "metadata": {},
		   "source": [
			"## Example 15.1: The_efficiencies.sce"
		   ]
		  },
  {
"cell_type": "code",
	   "execution_count": null,
	   "metadata": {
	    "collapsed": true
	   },
	   "outputs": [],
"source": [
"clc\n",
"clear\n",
"//Input data\n",
"Vs=0.0028;//Swept volume in m^3\n",
"N=3000;//Speed of the engine in rpm\n",
"ip=12.5;//The average indicated power developed in kW/m^3\n",
"nv=85;//Volumetric efficiency in percent\n",
"p1=1.013;//The atmospheric pressure in bar\n",
"T1=288;//The atmospheric temperature in K\n",
"ni=74;//Isentropic efficiency in percent\n",
"pr=1.6;//The pressure ratio\n",
"nm=78;//All mechanical efficiencies in percent\n",
"g=1.4;//Adiabatic index\n",
"R=287;//Real gas constant in J/kgK\n",
"Cp=1.005;//The specific heat of gas in kJ/kgK\n",
"\n",
"//Calculations\n",
"Vs1=(Vs*(N/2));//Volume swept by the piston per minute in m^3/min\n",
"Vi=(nv/100)*Vs1;//Unsupercharged induced volume in m^3/min\n",
"p2=pr*p1;//Blower delivery pressure in bar\n",
"T21=T1*(p2/p1)^((g-1)/g);//Temperature after isentropic compression in K\n",
"T2=T1+((T21-T1)/((ni/100)));//Blower delivery temperature in K\n",
"Ve=(Vs1*p2*T1)/(T2*p1);//Equivalent volume at 1.013 bar and 15 degree centigrade in m^3/min\n",
"nv1=[Ve/Vs1]*100;//Volumetric efficiency of supercharged engine in percent\n",
"Vii=Ve-Vi;//Increase in induced volume in m^3/min\n",
"ipa=ip*Vii;//Increase in ip from air induced in kW\n",
"ipi=[(p2-p1)*10^5*Vs1]/(60*1000);//Increase in ip due to increased induction pressure in kW\n",
"ipt=ipa+ipi;//Total increase in ip in kW\n",
"bp=ipt*(nm/100);//Increase in engine bp in kW\n",
"ma=(p2*(Vs1/60)*10^5)/(R*T2);//Mass of air delivered per second by blower in kg/s\n",
"P=ma*Cp*(T2-T1);//Power input to blower in kW\n",
"Pd=P/(nm/100);//Power required to drive the blower in kW\n",
"bpn=bp-Pd;//Net increase in bp in kW\n",
"bpu=ip*Vi*(80/100);//The bp of unsupercharged engine in kW\n",
"bpp=(bpn/(bpu))*100;//Percentage increase in bp in percent\n",
"\n",
"//Output\n",
"printf('The volumetric efficiency of supercharged engine = %3.0f percent \n The increase in brake power by supercharging = %3.2f kW \n The percentage increase in brake power = %3.1f percent ',nv1,bpn,bpp)"
   ]
   }
,
{
		   "cell_type": "markdown",
		   "metadata": {},
		   "source": [
			"## Example 15.2: Engine_capacity.sce"
		   ]
		  },
  {
"cell_type": "code",
	   "execution_count": null,
	   "metadata": {
	    "collapsed": true
	   },
	   "outputs": [],
"source": [
"clc\n",
"clear\n",
"//Input data\n",
"p=1.013;//The pressure at the sea level in bar\n",
"T=283;//The temperature at the sea level in K\n",
"bp=275;//Brake power in kW\n",
"N=1800;//The speed of the engine in rpm\n",
"a=20;//Air fuel ratio \n",
"R=287;//The real gas constant in J/kgK\n",
"bsfc=0.24;//Brake specific fuel consumption in kg/kWh\n",
"nv=80;//Volumetric efficiency in percent\n",
"p2=0.75;//The atmospheric pressure at altitude in bar\n",
"P=9;//The power consumed by supercharger of the total power produced by the engine in percent\n",
"T2=303;//The temperature of air leaving the supercharger in K\n",
"\n",
"//Calculations\n",
"mf=[bsfc*bp]/60;//Mass of fuel consumed in kg/min\n",
"ma1=mf*(a);//Mass of air used in kg/min\n",
"ma=(2/N)*ma1;//Actual mass of air taken in per cycle in kg/cycle\n",
"dai=(p*10^5)/(R*T);//The density of air in kg/m^3\n",
"Vd=(ma/(dai*(nv/100)));//Volume displaced by the piston in m^3\n",
"pmb=(bp*2*60*1000)/(Vd*N*10^5);//Brake mean effective pressure in bar\n",
"GP=bp/(1-0.09);//Gross power in kW\n",
"ma2=(ma1/bp)*GP;//The mass flow rate of air for gross power in kg/min\n",
"ma1=(ma2*2)/N;//Mass of air required for gross power per cycle in kg/cycle\n",
"p21=[(R*T2*ma1)/((nv/100)*Vd)]/10^5;//The pressure at the outlet condition of the supercharger in bar\n",
"pi=p21-p2;//Increase in air pressure required in the supercharger in bar\n",
"\n",
"//Output\n",
"printf('(a) The engine capacity Vd = %3.4f m^3 \n The bmep of the unsupercharged engine = %3.3f bar \n (b) Increase in air pressure required in the supercharged = %3.3f bar ',Vd,pmb,pi)\n",
""
   ]
   }
,
{
		   "cell_type": "markdown",
		   "metadata": {},
		   "source": [
			"## Example 15.3: Four_stroke_SI_engine.sce"
		   ]
		  },
  {
"cell_type": "code",
	   "execution_count": null,
	   "metadata": {
	    "collapsed": true
	   },
	   "outputs": [],
"source": [
"clc\n",
"clear\n",
"//Input data\n",
"Vs=0.003;//Swept volume in m^3\n",
"bmep=9;//Brake mean effective pressure in bar\n",
"N=4000;//The speed of the engine in rpm\n",
"ni=30;//Indicated thermal efficiency in percent\n",
"nm=90;//Mechanical efficiency in percent\n",
"bmep1=12;//The brake mean effective pressure of other engine in bar\n",
"N1=4000;//The speed of other engine in rpm\n",
"ni1=25;//The indicated thermal efficiency of other engine in percent\n",
"nm1=91;//The mechanical efficiency of other engine in percent\n",
"m=200;//The mass of naturally aspired engine in kg\n",
"m1=220;//The mass of supercharged engine in kg\n",
"CV=44000;//The calorific value of the fuel in kJ/kg\n",
"\n",
"//Calculations\n",
"bp=(bmep*10^5*Vs*N)/(2*60*1000);//The brake power in kW\n",
"ip=bp/(nm/100);//The indicated power in kW\n",
"mf=(ip)/((ni/100)*CV);//Mass flow rate of fuel in kg/s\n",
"bp1=(bmep1*10^5*Vs*N1)/(2*60*1000);//The brake power for supercharged engine in kW\n",
"ip1=bp1/(nm1/100);//The indicated power for supercharged engine in kW\n",
"mf1=ip1/((ni1/100)*CV);//Mass flow rate of fuel for supercharged engine in kg/s\n",
"mf2=mf*3600;//Mass flow rate of fuel per hour in kg/h\n",
"mf3=mf1*3600;//Mass flow rate of fuel per hour in supercharged engine in kg/h\n",
"x=[(200/90)-(220/120)]/[(43.2/120)-(27.27/90)];//Maximum hours of fuel supply foe test in hrs\n",
"\n",
"//Output\n",
"printf (' The maximum hours required for supply of sufficient fuel = %3.3f hr ',x)"
   ]
   }
,
{
		   "cell_type": "markdown",
		   "metadata": {},
		   "source": [
			"## Example 15.4: Centrifugal_compressor.sce"
		   ]
		  },
  {
"cell_type": "code",
	   "execution_count": null,
	   "metadata": {
	    "collapsed": true
	   },
	   "outputs": [],
"source": [
"clc\n",
"clear\n",
"//Input data\n",
"d=0.1;//The diameter of the bore in m\n",
"L=0.12;//The length of the stroke in m\n",
"N=3000;//The speed of the engine in rpm\n",
"n=4;//Number of cylinders\n",
"pi=3.141;//Mathematical constant of pi\n",
"R=287;//Real gas constant in J/kgK\n",
"t=120;//Output Torque in Nm\n",
"nm=85;//The mechanical efficiency of the engine in percent\n",
"T1=288;//The inlet temperature of air into compressor in K\n",
"p1=1;//The inlet pressure of air into compressor in bar\n",
"Q=1200;//Heat rejected rate in kJ/min\n",
"T=328;//The outlet temperature of air in K\n",
"p=1.7;//The outlet pressure of air in bar\n",
"nv=90;//Volumetric efficiency in percent\n",
"Cp=1.005;//Specific heat of gas in kJ/kg\n",
"\n",
"//Calculations\n",
"bp=(2*pi*N*t)/(60*1000);//The brake power in kW\n",
"ip=bp/(nm/100);//The indicated power in kW\n",
"pmi=[(ip*2*60*1000*4)/[L*(pi*d^2)*N*n]]/10^5;//The mean effective pressure in bar\n",
"Vs=(pi/4)*d^2*L;//Swept volume in m^3\n",
"Vs1=Vs*(N/2)*n;//Volume swept by the piston per min \n",
"V1=(nv/100)*Vs1;//Rate of volume flow of air into the engine in m^3/min\n",
"me=[(p*10^5*V1)/(R*T)]*60;//Rate of mass flow of air into the engine in kg/h\n",
"E=Q/60;//Energy balance in the after cooling in kJ/s\n",
"T2=[(bp/E)*T-T1]/((bp/E)-1);//The outlet temperature of air in K\n",
"mc=[(bp)/(Cp*(T2-T1))]*3600;//Mass flow rate in kg/h\n",
"maf=mc-me;//Rate of air flow available to the consumer in kg/h\n",
"\n",
"//Output\n",
"printf('(a) The imep of the supercharged engine = %3.3f bar \n (b) The rate of air consumed by the engine = %3.1f kg/h \n (c) The rate of air flow available to the consumer = %3.1f kg/h ',pmi,me,maf)\n",
"\n",
""
   ]
   }
,
{
		   "cell_type": "markdown",
		   "metadata": {},
		   "source": [
			"## Example 15.5: Six_cylinder_engine.sce"
		   ]
		  },
  {
"cell_type": "code",
	   "execution_count": null,
	   "metadata": {
	    "collapsed": true
	   },
	   "outputs": [],
"source": [
"clc\n",
"clear\n",
"//Input data\n",
"Vs=0.0045;//Swept volume in m^3\n",
"N=4000;//The speed of the engine in rpm \n",
"nv=150;//Overall volumetric efficiency in percent\n",
"ni=90;//Isentropic efficiency of the compressor in percent\n",
"nm=85;//Mechanical efficiency in percent\n",
"T=330;//The temperature of compressed air after cooler in K\n",
"p2=1.8;//The pressure of the compressed air in bar\n",
"T1=290;//The ambient temperature of air in K\n",
"p1=1;//The pressure of the ambient condition in bar\n",
"R=287;//The real gas constant in J/kgK\n",
"g=1.4;//Adiabatic index\n",
"Cp=1.005;//The specific heat of gas in kJ/kgK\n",
"\n",
"//Calculations\n",
"T21=T1*(p2/p1)^((g-1)/g);//The temperature at 2' in K\n",
"T2=T1+[(T21-T1)/(ni/100)];//The temperature of air after compressor in K\n",
"Vs1=Vs*(N/(2*60));//Rate of swept volume in m^3/s\n",
"Va=(nv/100)*Vs1;//Volume of air induced in m^3/s\n",
"d=(p1*10^5)/(R*T1);//The density of air at ambient condition in kg/m^3\n",
"ma=d*Va;//Mass of air induced in kg/s\n",
"Q=ma*Cp*(T2-T);//Heat rejected from after cooler in kJ/s\n",
"P=ma*Cp*(T2-T1);//Power needed to run the compressor in kW\n",
"Pa=P/(nm/100);//Power absorbed from the engine in kW\n",
"\n",
"//Output\n",
"printf( '(a) The rate of heat rejected from the after cooler = %3.3f kJ/s \n (b) The power absorbed by the supercharger from the engine = %3.2f kW ',Q,Pa)"
   ]
   }
,
{
		   "cell_type": "markdown",
		   "metadata": {},
		   "source": [
			"## Example 15.6: Turbocharger.sce"
		   ]
		  },
  {
"cell_type": "code",
	   "execution_count": null,
	   "metadata": {
	    "collapsed": true
	   },
	   "outputs": [],
"source": [
"clc\n",
"clear\n",
"//Input data\n",
"p1=0.98;//The inlet pressure of air in bar\n",
"T1=290;//The inlet temperature of air in K\n",
"p2=1.8;//The pressure of air delivered to the engine in bar\n",
"a=20;//The air fuel ratio \n",
"T3=850;//The temperature of the exhaust gases leaving the engine in K\n",
"p3=1.6;//The pressure of the exhaust gases leaving the engine in bar\n",
"p4=1.03;//The turbine exhaust pressure in bar\n",
"nc=80;//The isentropic efficiency of compressor in percent\n",
"nt=85;//The isentropic efficiency of turbine in percent\n",
"Cpa=1.005;//The specific heat of air in kJ/kgK\n",
"Cpg=1.15;//The specific heat of gas in kJ/kgK\n",
"g=1.33;//isentropic index\n",
"h=1.4;//Adiabatic index\n",
"\n",
"//Calculations\n",
"T21=T1*(p2/p1)^((h-1)/h);//The temperature at point 2' for compressor in K\n",
"T2=T1+((T21-T1)/(nc/100));//The temperature of air leaving the compressor in K\n",
"T22=T2-273;//The temperature of air leaving the compressor in degree centigrade\n",
"T41=T3*(p4/p3)^((g-1)/g);//The temperature at point 4' for turbine in K\n",
"T4=T3-((nt/100)*(T3-T41));//The temperature of gas leaving the turbine in K\n",
"T44=T4-273;//The temperature of gas leaving the turbine in degree centigrade\n",
"mf=1;//Assume mass flow rate of fuel in kg/s\n",
"ma=mf*a;//Then the mass flow rate of air in kg/s\n",
"Wc=ma*Cpa*(T2-T1);//Power required by the compressor in kW\n",
"mg=ma+mf;//Mass flow rate of gas in kg/s\n",
"Wt=mg*Cpg*(T3-T4);//Power developed by the turbine in kW\n",
"Pt=(Wc/Wt)*100;//Percentage of turbine power used to run the compressor in percent\n",
"\n",
"//Output\n",
"printf('(a) The temperature of the air leaving the compressor = %3.0f degree centigrade \n (b) The temperature of gases leaving the turbine = %3.0f degree centigrade \n (c) The mechanical power used to run the turbocharger, when expressed as a percentage of power generated in the turbine = %3.1f percent ',T22,T44,Pt)"
   ]
   }
,
{
		   "cell_type": "markdown",
		   "metadata": {},
		   "source": [
			"## Example 15.7: The_power.sce"
		   ]
		  },
  {
"cell_type": "code",
	   "execution_count": null,
	   "metadata": {
	    "collapsed": true
	   },
	   "outputs": [],
"source": [
"\n",
"\n",
"clc\n",
"clear\n",
"//Input data\n",
"a=14;//Air fuel ratio \n",
"T1=288;//The ambient temperature of air in K\n",
"T2=(288-23);//The evaporation of fuel cause 23 degree C drop in mixture temperature in K\n",
"p=1.3;//Pressure ratio \n",
"nc=75;//The isentropic efficiency of the compressor in percent\n",
"Cpm=1.05;//The specific heat of the mixture in kJ/kgK\n",
"Cpa=1;//The specific heat of air in kJ/kgK\n",
"g=1.33;//Adiabatic index\n",
"h=1.4;//Isentropic index\n",
"ma=1;//Mass flow rate of air in kg/s\n",
"\n",
"//Calculations\n",
"T31=T2*p^((g-1)/g);//Temperature at point 3' in K\n",
"T3=T2+((T31-T2)/(nc/100));//Temperature of the gas after compressor in K\n",
"mm=1+(1/a);//Mass flow rate of mixture in kg/s\n",
"Wc1=mm*Cpm*(T3-T2);//Power required by the compressor in kW/kg of air per second\n",
"T21=T1*p^((h-1)/h);//Temperature at point 2' in K\n",
"T4=T1+((T21-T1)/(nc/100));//The temperature after leaving the compressor in K\n",
"Wc2=ma*Cpa*(T4-T1);//Power required by the compressor in kW/kg of air per second\n",
"T5=T4-23;//Temperature of the gas after carburettor in K\n",
"Ps=[(Wc2-Wc1)*100]/Wc2;//Saving of power in the first case in percent\n",
"\n",
"//Output\n",
"printf('(a) The power required by the compressor for carburettor placed before the supercharger = %3.2f kW/kg of air per second \n (b) The power required by the compressor for carburettor placed after the supercharger = %3.2f kW/kg of air per second \n Percentage of turbine power used to run the compressor = %3.1f percent ',Wc1,Wc2,Ps)\n",
"\n",
"//Error .The reason for variation in the result compared to the textbook is that , in the textbook Wc1 value is rounded of to the nearest integer and Wc2 value has small decimal error so the final result is slightly higher \n",
"\n",
""
   ]
   }
],
"metadata": {
		  "kernelspec": {
		   "display_name": "Scilab",
		   "language": "scilab",
		   "name": "scilab"
		  },
		  "language_info": {
		   "file_extension": ".sce",
		   "help_links": [
			{
			 "text": "MetaKernel Magics",
			 "url": "https://github.com/calysto/metakernel/blob/master/metakernel/magics/README.md"
			}
		   ],
		   "mimetype": "text/x-octave",
		   "name": "scilab",
		   "version": "0.7.1"
		  }
		 },
		 "nbformat": 4,
		 "nbformat_minor": 0
}
