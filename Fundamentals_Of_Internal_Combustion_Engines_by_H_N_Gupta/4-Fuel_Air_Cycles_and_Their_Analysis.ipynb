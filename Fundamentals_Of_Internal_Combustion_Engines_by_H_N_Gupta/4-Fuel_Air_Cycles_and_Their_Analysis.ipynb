{
"cells": [
 {
		   "cell_type": "markdown",
	   "metadata": {},
	   "source": [
       "# Chapter 4: Fuel Air Cycles and Their Analysis"
	   ]
	},
{
		   "cell_type": "markdown",
		   "metadata": {},
		   "source": [
			"## Example 4.10: Work_input.sce"
		   ]
		  },
  {
"cell_type": "code",
	   "execution_count": null,
	   "metadata": {
	    "collapsed": true
	   },
	   "outputs": [],
"source": [
"clc\n",
"clear\n",
"//Input data\n",
"r=7.8;//Compression ratio \n",
"p=1;//The pressure at the start of compression in atm\n",
"T1=335;//The temperature at the start of compression in K\n",
"\n",
"//Calculations\n",
"W1=100;//Isentropic compression function for T1 in J/kg air K \n",
"W2=W1-(292*log(1/r));//Isentropic compression function in J/kg air K \n",
"T2=645;//The temperature corresponding to isentropic compression function in J/kg air K \n",
"V1=(292*T1)/(p*10^5);//Volume at initial in m^3/kg air \n",
"p2=p*(T2/T1)*r;//The pressure at the end of compression stroke in atm \n",
"V2=V1/r;//The volume per unit mass of air at the end of the compression stroke in m^3/kg air \n",
"U1=35;//Internal energy corresponding to temp T1 in kJ/kg air \n",
"U2=310;//Internal energy corresponding to temp T2 in kJ/kg air \n",
"W=U2-U1;//Work input during compression in kJ/kg air \n",
"E1=120;//Isentropic compression function at T1 \n",
"E2=910;//Isentropic compression function at T2 \n",
"p21=[exp((E2-E1)/292)];//The pressure at the end of compression stroke in atm \n",
"\n",
"//Output\n",
"printf('(a)At the end of the compression stroke, \n  The temperature is %3.0f K \n The pressure is %3.0f atm \n The volume per unit mass of air is %3.3f m^3/kg air \n The pressure is %3.0f atm \n (b)The work input during compression is %3.0f kJ/kg air ',T2,p2,V2,p21,W)"
   ]
   }
,
{
		   "cell_type": "markdown",
		   "metadata": {},
		   "source": [
			"## Example 4.11: Work.sce"
		   ]
		  },
  {
"cell_type": "code",
	   "execution_count": null,
	   "metadata": {
	    "collapsed": true
	   },
	   "outputs": [],
"source": [
"clc\n",
"clear\n",
"//Input data\n",
"p=65;//The pressure in the cylinder in bar\n",
"r=10;//The compression ratio \n",
"V3=0.1;//The volume per unit mass of air at the start of expansion in m^3/kg air \n",
"p3=p*100;//The pressure in the cylinder after the completion of combustion in kN/m^2 \n",
"\n",
"//Calculations \n",
"T3=2240;//The temperature from the chart corresponding to p3,V3 in K\n",
"u3=-1040;//The energy from the chart in kJ/kg air \n",
"s3=8.87;//The entropy from the chart in kJ/kg air K\n",
"s4=s3;//Since the process is isentropic \n",
"V4=r*V3;//The volume per unit mass of air at the end of expansion stroke in m^3/kg air \n",
"T4=1280;//The temperature from the chart corresponding to p4,V4 in K \n",
"u4=-2220;//The energy from the chart in kJ/kg air \n",
"p4=4.25;//The pressure from the chart in bar \n",
"W=-(u4-u3);//Work of expansion in kJ/kg air \n",
"\n",
"//Output\n",
"printf('(a)At the end of expansion stroke, \n The pressure is %3.2f bar \n The temperature is %3.0f K \n The volume is %3.1f m^3/kg air \n (b)The work during the expansion stroke is %3.0f kJ/kg air ',p4,T4,V4,W)"
   ]
   }
,
{
		   "cell_type": "markdown",
		   "metadata": {},
		   "source": [
			"## Example 4.13: The_temperature_and_pressure.sce"
		   ]
		  },
  {
"cell_type": "code",
	   "execution_count": null,
	   "metadata": {
	    "collapsed": true
	   },
	   "outputs": [],
"source": [
"clc\n",
"clear\n",
"//Input data\n",
"Tu=645;//The temperature at the end of compression process in K\n",
"usu=310;//The internal energy at the end of compression process in kJ/kg air \n",
"pu=(15.4*1.013);//The pressure at the end of the compression process in bar \n",
"Vu=0.124;//The volume at the end of the compression process in m^3/kg air \n",
"e=1;//Equivalence ratio \n",
"f=0.065;//Burned gas fraction \n",
"\n",
"//Calculations \n",
"ufu=-118.5-(2963*f);//Internal energy of formation in kJ/kg air \n",
"ub=usu-ufu;//The internal energy for constant volume adiabatic combustion in kJ/kg air \n",
"Vb=Vu;//The volume for constant volume adiabatic combustion in kJ/kg air \n",
"Tb=2820;//The temperature for constant volume adiabatic combustion corresponding to ub,Vb on the burnt gas chart in K \n",
"pb=6500;//The pressure for constant volume adiabatic combustion corresponding to ub,Vb on the burnt gas chart in kN/m^2 \n",
"hfu=-129.9-(2958*f);//The enthalpy of formation in kJ/kg air \n",
"hsu=440;//The enthalpy from chart corresponding to temp Tu in kJ/kg air \n",
"hb=hsu+hfu;//The enthalpy for constant pressure adiabatic combustion in kJ/kg air \n",
"pb1=1560;//The pressure for constant pressure adiabatic combustion in kN/m^2 \n",
"ub1=-700;//Trail and error along the pb internal energy in kJ/kg air \n",
"vb1=(118-ub1)/pb;//The volume in m^3/kg air \n",
"Tb1=2420;//The temperature for constant pressure adiabatic combustion corresponding to ub,Vb on the burnt gas chart in K \n",
"\n",
"//Output\n",
"printf('(a)For constant volume adiabatic combustion,\n The temperature is %3.0f K \n The pressure is %3.0f kN/m^2 \n (b)For constant pressure adiabatic combustion, \n The temperature is %3.0f K \n The pressure is %3.0f kN/m^2',Tb,pb,Tb1,pb1)"
   ]
   }
,
{
		   "cell_type": "markdown",
		   "metadata": {},
		   "source": [
			"## Example 4.14: The_temperature_and_pressure.sce"
		   ]
		  },
  {
"cell_type": "code",
	   "execution_count": null,
	   "metadata": {
	    "collapsed": true
	   },
	   "outputs": [],
"source": [
"clc\n",
"clear\n",
"//Input data\n",
"r=8;//The compression ratio \n",
"T1=350;//The given temperature at the start of compression in K\n",
"p=1;//The given pressure at the start of compression in bar\n",
"f=0.08;//The exhaust residual fraction \n",
"cv=44000;//The calorific value in kJ/kg\n",
"\n",
"//Calculations\n",
"W1=150;//Isentropic compression functions for corresponding temp T1 in J/kg air K\n",
"W2=W1-(292*log(1/r));//Isentropic compression function in J/kg air K \n",
"T2=682;//The temperature corresponding to isentropic compression function in K \n",
"V1=(292*T1)/(p*10^5);//The initial volume in m^3/kg air \n",
"p2=p*(T2/T1)*r;//The pressure at point 2 in atm\n",
"V2=V1/r;//The volume at point 2 in m^3/kg air \n",
"us2=350;//The internal energy corresponding to temp T2 in K\n",
"us1=40;//The internal energy corresponding to temp T1 in K \n",
"Wc=us2-us1;//Adiabatic compression work in kJ/kg air \n",
"ufu=-118.5-(2963*f);//The internal energy of formation in kJ/kg air \n",
"u3=us2+ufu;//The internal energy at point 3 in kJ/kg air \n",
"V3=V2;//The volume at point 3 in m^3/kg air \n",
"T3=2825;//The temperature at point 3 corresponding to u3,V3 on the burned gas chart in K\n",
"p3=7100;//The pressure at point 3 in kN/m^2 \n",
"s3=9.33;//Entropy at point 3 in kJ/kg air K \n",
"s4=s3;//Entropy is same in kJ/kg air K \n",
"V4=V1;//The volume at point 4 in m^3/kg air \n",
"u4=-1540;//The internal energy at point 4 corresponding to V4,s4 in kJ/kg air \n",
"p4=570;//The pressure at point 4 in kN/m^2 \n",
"T4=1840;//The temperature at point 4 in K \n",
"We=u3-u4;//The expansion work in kJ/kg air \n",
"Wn=We-Wc;//The net work output in kJ/kg air \n",
"nth=[(Wn)/((1-f)*0.0662*cv)]*100;//The indicated thermal efficiency in percent \n",
"imep=((Wn*1000)/(V1-V2))/10^5;//The indicated mean effective pressure in bar \n",
"nv=[((1-f)*287*298)/(1.013*10^5*(1-0.125))]*100;//The volumetric efficiency in percent \n",
"\n",
"//Output\n",
"printf('(a)At point 2, \n The temperature is %3.0f K \n The pressure is %3.1f atm \n At point 3, \n The temperature is %3.0f K \n The pressure is %3.0f kN/m^2 \n At point 4, \n The temperature is %3.0f K \n The pressure is %3.0f kN/m^2 \n (b)The indicated thermal efficiency is %3.1f percent \n (c)The indicated mean effective pressure is %3.0f bar \n (d)The volumetric efficiency is %3.1f percent',T2,p2,T3,p3,T4,p4,nth,imep,nv)"
   ]
   }
,
{
		   "cell_type": "markdown",
		   "metadata": {},
		   "source": [
			"## Example 4.1: Efficiency.sce"
		   ]
		  },
  {
"cell_type": "code",
	   "execution_count": null,
	   "metadata": {
	    "collapsed": true
	   },
	   "outputs": [],
"source": [
"clc\n",
"clear\n",
"//Input data\n",
"r=8.5;//The compression ratio \n",
"sv=1.4;//The specific heat at constant volume in percent\n",
"\n",
"//Calculations\n",
"n=1-(1/r)^(sv-1);//The efficiency of the otto cycle \n",
"ef=[((1-n)/n)*(sv-1)*(log(r))*(sv/100)]*100;//The percentage change in efficiency of an otto cycle and is negative\n",
"\n",
"//Output\n",
"printf('The efficiency decreases by %3.3f percent ',ef)"
   ]
   }
,
{
		   "cell_type": "markdown",
		   "metadata": {},
		   "source": [
			"## Example 4.2: Efficiency.sce"
		   ]
		  },
  {
"cell_type": "code",
	   "execution_count": null,
	   "metadata": {
	    "collapsed": true
	   },
	   "outputs": [],
"source": [
"clc\n",
"clear\n",
"//Input data\n",
"r=18;//The compression ratio \n",
"l=6;//The cut off taking place corresponding of the stroke in percent\n",
"sc=2;//The specific heat at constant volume increases in percent\n",
"cv=0.717;//The specific heat at constant volume in kJ/kgK\n",
"R=0.287;//Gas constant in kJ/kgK\n",
"\n",
"//Calculations\n",
"Vs=(r-1);//The ratio of swept volume and volume 2\n",
"B=((l/100)*Vs)+1;//The cut off ratio \n",
"cp=cv+R;//The specific heat at constant pressure in kJ/kgK\n",
"R1=cp/cv;//The ratio of specific heats \n",
"n=1-[[[[(1/r)^(R1-1)]*(B^R1-1)]/(R1*(B-1))]];//The efficiency of the diesel cycle \n",
"dn=[((1-n)/n)*[(R1-1)*((log(r))-(((B^R1)*log(B))/(B^R1-1))+(1/B))]*(sc/100)]*100;//The efficiency decrease in percent\n",
"\n",
"//Output\n",
"printf('The efficiency decreases by %3.3f percent ',dn)"
   ]
   }
,
{
		   "cell_type": "markdown",
		   "metadata": {},
		   "source": [
			"## Example 4.3: Temperature.sce"
		   ]
		  },
  {
"cell_type": "code",
	   "execution_count": null,
	   "metadata": {
	    "collapsed": true
	   },
	   "outputs": [],
"source": [
"clc\n",
"clear\n",
"//Input data\n",
"r=8;//The compression ratio\n",
"af=15;//Air/fuel ratio\n",
"p1=1;//The pressure at the beginning of a compression stroke in bar\n",
"t=60;//The temperature at the beginning of a compression stroke in degree centigrade\n",
"cv=44000;//The calorific value of the fuel in kJ/kg\n",
"n=1.32;//The index of the compression \n",
"Cv=0.717;//specific heat at constant volume in kJ/kgK\n",
"\n",
"//Calculations\n",
"T1=t+273;//The temperature at the beginning of a compression stroke in K\n",
"p2=p1*(r)^n;//The pressure at the end of a compression stroke in bar\n",
"T2=T1*r^(n-1);//The temperature at the end of a compression stroke in K\n",
"f=(1/(af+1));//The amount of fuel present in 1 kg of mixture in kg\n",
"a=(af/(af+1));//The amount of air present in 1 kg of mixture in kg\n",
"q23=cv/(af+1);//The heat transfer during process 2-3 per kg of mixture in kJ/kg\n",
"T3=[[-10430+[(10430)^2+(4*494.8*10^5)]^(1/2)]/2];//The temperature at point 3 in K\n",
"p3=(T3/T1)*(r)*p1;//The pressure at point 3 in bar\n",
"T31=(q23/Cv)+T2;//The pressure at point 3 in K\n",
"p31=(T31/T1)*r*p1;//The pressure at point 3 in bar\n",
"\n",
"//Output\n",
"printf('(a) The Maximum temperature in the cylinder T3 = %3.0f K \n The Maximum pressure in the cylinder P3 = %3.0f bar \n (b)With constant value of Cv \n The Maximum temperature in the cylinder T3 = %3.0f K \n The Maximum pressure in the cylinder P3 = %3.1f bar ',T3,p3,T31,p31)"
   ]
   }
,
{
		   "cell_type": "markdown",
		   "metadata": {},
		   "source": [
			"## Example 4.4: The_percentage_of_stroke.sce"
		   ]
		  },
  {
"cell_type": "code",
	   "execution_count": null,
	   "metadata": {
	    "collapsed": true
	   },
	   "outputs": [],
"source": [
"\n",
"clc\n",
"clear\n",
"//Input data\n",
"r=21;//The compression ratio \n",
"af=29;//Air/fuel ratio\n",
"T=1000;//The temperature at the end of compression in K\n",
"cv=42000;//The calorific value of the in kJ/kg\n",
"R=0.287;//Gas constant in kJ/kgK\n",
"\n",
"//Calculations \n",
"q23=cv/(af+1);//Heat transfer during the process 2-3 per kg of mixture in kJ\n",
"T3=[-0.997+[((0.997)^2)+(4*2411*14*10^-6)]^(1/2)]/(28*10^-6);//The temperature during the process 2-3 in K\n",
"function y=f1(x),y=(0.997+(28*10^-6)*x),endfunction\n",
"I=intg(T,T3,list(f1));//Integrating the above function\n",
"abs(I)\n",
"V3=(T3/T);//The ratio of volumes at 2 and 3 points \n",
"Vs=(r-1);//Swept volume in terms of V2 \n",
"V=V3-1;//The difference in the volume at 2 and 3 points\n",
"pc=(V/Vs)*100;//The percentage stroke during which the combustion is completed in percent\n",
"\n",
"//Output\n",
"printf('The percentage of stroke at which combustion is complete = %3.3f percent ',pc)"
   ]
   }
,
{
		   "cell_type": "markdown",
		   "metadata": {},
		   "source": [
			"## Example 4.5: The_pressure.sce"
		   ]
		  },
  {
"cell_type": "code",
	   "execution_count": null,
	   "metadata": {
	    "collapsed": true
	   },
	   "outputs": [],
"source": [
"\n",
"clc\n",
"clear\n",
"//Input data\n",
"r=16;//The compression ratio \n",
"l=6;//The cut-off of the stroke in percent\n",
"p3=70;//The maximum pressure obtained in bar\n",
"p1=1;//The pressure at the beginning of compression in bar\n",
"T1=(100+273);//The temperature at the beginning of compression in K\n",
"R=0.287;//Gas constant in kJ/kgK\n",
"g=1.4;//Assume the isentropic index \n",
"\n",
"//Calculations\n",
"T2=T1*(r)^(g-1);//The temperature at point 2 in K\n",
"function y=f1(x),y=(0.716+(125*10^-6)*x),endfunction\n",
"I=intg(373,1131,list(f1));//Integrating the above function\n",
"abs(I)\n",
"Cv=(1/(1131-373))*I;//The specific heat at constant volume for the temp range T2 and T3 in kJ/kgK\n",
"Cp=Cv+R;//The specific heat at constant pressure in kJ/kgK\n",
"g1=Cp/Cv;//The ratio of specific heats \n",
"T21=T1*(r)^(g1-1);//The temperature at point 2 in K\n",
"function y=f1(x),y=(0.716+(125*10^-6)*x),endfunction\n",
"I1=intg(373,995,list(f1));//Integrating the above function\n",
"abs(I1)\n",
"Cv1=(1/(995-373))*I1;//The specific heat at constant volume for the temp range T2 and T3 in kJ/kgK\n",
"Cp1=Cv1+R;//The specific heat at constant pressure in kJ/kgK\n",
"g2=Cp1/Cv1;//The ratio of specific heats\n",
"T22=T1*(r)^(g2-1);//The temperature at point 2 in K\n",
"p2=(T22/T1)*r*p1;//The pressure at point 2 in bar\n",
"T3=(p3/p2)*T22;//The temperature at point 3 in K\n",
"V=[(l/100)*(r-1)]+1;//The ratio of volumes at 3-4 points\n",
"T4=(V)*T3;//The temperature at point 4 in K\n",
"p4=p3;//The pressure at point 4 in bar\n",
"g3=1.3;//Assume isentropic index\n",
"V5=r/V;//The ratio of volumes at 4-5 process \n",
"T5=T4*(1/V5)^(g3-1);//The temperature at point 5 in K\n",
"Cv2=[[0.716*(T5-T4)]+[62.5*10^-6*(T5^2-T4^2)]]/(T5-T4);//The specific heat at constant volume for the temp range T5 and T4 in kJ/kgK\n",
"Cp2=Cv2+R;//The specific heat at constant pressure in kJ/kgK\n",
"g4=Cp2/Cv2;//The ratio of specific heats \n",
"T51=T4*(1/V5)^(g4-1);//The temperature at point 5 in K\n",
"Cv3=[[0.716*(T51-T4)]+[62.5*10^-6*(T51^2-T4^2)]]/(T51-T4);//The specific heat at constant volume for the temp range T5 and T4 in kJ/kgK\n",
"Cp3=Cv3+R;//The specific heat at constant pressure in kJ/kgK\n",
"g5=Cp3/Cv3;//The isentropic index\n",
"T52=T4*(1/V5)^(g5-1);//The temperature at point 5 in K\n",
"p5=(T52/T1)*p1;//The pressure at point 5 in bar\n",
"\n",
"//Output\n",
"printf('The pressure and temperature at all points of the cycle \n at point 2 , Temperature T2 = %3.0f K    and Pressure P2 = %3.2f bar \n at point 3 , Temperature T3 = %3.0f K    and Pressure P3 = %3.0f bar \n at point 4 , Temperature T4 = %3.0f K    and Pressure P4 = %3.0f bar \n at point 5 ,Temperature T5 = %3.0f K    and Pressure P5 = %3.2f bar ',T22,p2,T3,p3,T4,p4,T52,p5)\n",
"\n",
"\n",
"\n",
"\n",
"\n",
"\n",
"\n",
"\n",
"\n",
""
   ]
   }
,
{
		   "cell_type": "markdown",
		   "metadata": {},
		   "source": [
			"## Example 4.6: Molecular_expansion.sce"
		   ]
		  },
  {
"cell_type": "code",
	   "execution_count": null,
	   "metadata": {
	    "collapsed": true
	   },
	   "outputs": [],
"source": [
"clc\n",
"clear\n",
"//Input data\n",
"r=8;//Compression ratio\n",
"lcv=44000;//The lower heating value of the fuel in kJ/kg\n",
"af=15;//The air/fuel ratio\n",
"Cv=0.71;//The specific heat at constant volume in kJ/kgK\n",
"p=1;//The pressure at the beginning of the compression in bar\n",
"t=60;//The temperature at the beginning of the compression in degree centigrade\n",
"Mo=32;//Molecular weight of oxygen\n",
"Mn=28.161;//Molecular weight of nitrogen\n",
"Mh=18;//Molecular weight of water \n",
"n=1.3;//Polytropic index\n",
"\n",
"//Calculations\n",
"T1=(t+273);//The temperature at the beginning of the compression in K\n",
"sa=[12.5*[Mo+(3.76*Mn)]]/[(12*8)+(1*Mh)];//The stoichiometric air fuel ratio\n",
"Y=af*[[(12*8)+(1*Mh)]/(Mo+(3.76*Mn))];//To balance the oxygen and nitrogen \n",
"x=(12.5-Y)*2;//By oxygen balance \n",
"nb=1+Y+(Y*3.76);//Number of moles before combustion \n",
"na=x+7.8+9+46.624;//Number of moles after combustion \n",
"Me=[(na-nb)/nb]*100;//The percentage molecular expansion in percent\n",
"T2=T1*(r)^(n-1);//The temperature at point 2 in K\n",
"T3=[lcv/(af+1)]*(1/Cv)+(T2);//The temperature at point 3 in K\n",
"p3=r*(T3/T1)*p;//The pressure at point 3 in bar\n",
"p31=p3*(na/nb);//The pressure at point 3 with molar expansion in bar\n",
"\n",
"//Output\n",
"printf('The percentage molecular expansion is %3.0f percent \n (a) Without considering the molecular expansion \n The maximum temperature is %3.0f K \n The maximum pressure is %3.0f bar \n (b) With molecular expansion \n The maximum temperature is %3.0f K \n The maximum pressure is %3.1f bar ',Me,T3,p3,T3,p31)\n",
""
   ]
   }
,
{
		   "cell_type": "markdown",
		   "metadata": {},
		   "source": [
			"## Example 4.7: Residual_air.sce"
		   ]
		  },
  {
"cell_type": "code",
	   "execution_count": null,
	   "metadata": {
	    "collapsed": true
	   },
	   "outputs": [],
"source": [
"clc\n",
"clear\n",
"//Input data\n",
"f=0.03;//The residual fraction of an engine\n",
"e=1.2;//The equivalence ratio\n",
"\n",
"//Calculations\n",
"F=0.0795;//Fuel/air ratio for corresponding equivalence ratio \n",
"T=1+F;//Total mass in kg\n",
"fa=1-f;//Fresh air in kg\n",
"ff=F*(fa);//Fresh fuel in kg\n",
"ra=f;//Air in residual in kg\n",
"rf=ra*F;//Fuel in residual in kg\n",
"\n",
"//Output\n",
"printf('Fresh air = %3.2f kg \n Fresh fuel = %3.6f kg \n Air in residual = %3.2f kg \n Fuel in residual = %3.6f kg ',fa,ff,ra,rf)"
   ]
   }
,
{
		   "cell_type": "markdown",
		   "metadata": {},
		   "source": [
			"## Example 4.8: Internal_energy.sce"
		   ]
		  },
  {
"cell_type": "code",
	   "execution_count": null,
	   "metadata": {
	    "collapsed": true
	   },
	   "outputs": [],
"source": [
"clc\n",
"clear\n",
"//Input data\n",
"T=800;//The given temperature in K\n",
"e=1;//The equivalence ratio \n",
"\n",
"//Calculations\n",
"hi=154.723;//Sensible Enthalpy for isooctane at 800 K in MJ/kmol \n",
"ho=15.841;//Sensible Enthalpy for oxygen at 800 K in MJ/kmol \n",
"hn=15.046;//Sensible Enthalpy for nitrogen at 800 K in MJ/kmol\n",
"nc=0.00058;//Number of kmoles of C8H18 for equivalence ratio for 1 kg of air \n",
"no=0.00725;//Number of kmoles of oxygen for equivalence ratio for 1 kg of air \n",
"nn=0.0273;//Number of kmoles of nitrogen for equivalence ratio for 1 kg of air \n",
"Hs=(nc*hi)+(no*ho)+(nn*hn);//Total sensible enthalpy of reactants in MJ per kg of air\n",
"Hs1=Hs*1000;//Total sensible enthalpy of reactants in kJ per kg of air \n",
"R=8.314;//Gas constant in kJ/kgK\n",
"n=nc+no+nn;//Total number of kmoles for 1 kg of air\n",
"Us=Hs-(n*R*10^-3*(T-298));//sensible internal energy of reactants in MJ per kg of air \n",
"Us1=Us*1000;//sensible internal energy of reactants in kJ per kg of air\n",
"\n",
"//Output\n",
"printf('Total sensible enthalpy of reactants = %3.1f kJ/kg air \n Sensible internal energy of reactants = %3.1f kJ/kg air ',Hs1,Us1)"
   ]
   }
,
{
		   "cell_type": "markdown",
		   "metadata": {},
		   "source": [
			"## Example 4.9: Fuel_Air_Cycles_and_Their_Analysis.sce"
		   ]
		  },
  {
"cell_type": "code",
	   "execution_count": null,
	   "metadata": {
	    "collapsed": true
	   },
	   "outputs": [],
"source": [
"clc\n",
"clear\n",
"//Input data\n",
"T=500;//The given temperature in K\n",
"e=1;//Equivalence ratio \n",
"\n",
"//Calculations \n",
"Ai=0.0662;//The amount of isooctane for 1 kg of air in kg\n",
"Ta=298;//Consider the ambient temperature in K \n",
"E=[[0.0662*[(0.44*log(T/Ta))+(3.67*10^-3*(T-Ta))]]+[(0.921*log(T/Ta))+(2.31*10^-4*(T-Ta))]]*1000;//Isentropic compression function in J/kg air \n",
"R=8.314;//Gas constant in kJ/kgK\n",
"Ri=R/114;//Gas constant for isooctane in kJ/kgK\n",
"W=[0.5874-(0.662*Ri*log(T/Ta))-(0.287*log(T/Ta))]*1000;//Gas constant for isooctane in kJ/kgK\n",
"\n",
"//Output\n",
"printf('The isentropic compression functions at 500 K for the unburned, \n isooctsne-air mixture are %3.1f J/kg air and %3.1f J/kg air ',E,W)"
   ]
   }
],
"metadata": {
		  "kernelspec": {
		   "display_name": "Scilab",
		   "language": "scilab",
		   "name": "scilab"
		  },
		  "language_info": {
		   "file_extension": ".sce",
		   "help_links": [
			{
			 "text": "MetaKernel Magics",
			 "url": "https://github.com/calysto/metakernel/blob/master/metakernel/magics/README.md"
			}
		   ],
		   "mimetype": "text/x-octave",
		   "name": "scilab",
		   "version": "0.7.1"
		  }
		 },
		 "nbformat": 4,
		 "nbformat_minor": 0
}
