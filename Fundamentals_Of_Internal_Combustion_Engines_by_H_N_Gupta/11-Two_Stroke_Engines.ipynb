{
"cells": [
 {
		   "cell_type": "markdown",
	   "metadata": {},
	   "source": [
       "# Chapter 11: Two Stroke Engines"
	   ]
	},
{
		   "cell_type": "markdown",
		   "metadata": {},
		   "source": [
			"## Example 11.1: Scavenging_ratio.sce"
		   ]
		  },
  {
"cell_type": "code",
	   "execution_count": null,
	   "metadata": {
	    "collapsed": true
	   },
	   "outputs": [],
"source": [
"clc\n",
"clear\n",
"//Input data\n",
"nsc=75;//The scavenging efficiency of the two stroke engine in percent \n",
"ns=20;//The scavenging efficiency is increased by in percent\n",
"\n",
"//Calculations\n",
"Rsc=log(1/(1-(nsc/100)));//The scavenging ratio for normal efficiency\n",
"nsc1=(nsc/100)+((nsc/100)*(ns/100));//For 20% increase in scavenging efficiency \n",
"Rsc1=log(1/(1-(nsc1)));//The scavenging ratio for 20% more efficiency\n",
"Rscr=[(Rsc1-Rsc)/Rsc]*100;//Percentage increase in scavenging ratio in persent\n",
"\n",
"//Output\n",
"printf('The percentage change in the scavenging ratio = %3.1f percent ',Rscr)\n",
""
   ]
   }
,
{
		   "cell_type": "markdown",
		   "metadata": {},
		   "source": [
			"## Example 11.2: Scavenging_ratio.sce"
		   ]
		  },
  {
"cell_type": "code",
	   "execution_count": null,
	   "metadata": {
	    "collapsed": true
	   },
	   "outputs": [],
"source": [
"clc\n",
"clear\n",
"//Input data\n",
"d=0.12;//The bore diameter of the engine in m\n",
"l=0.15;//The stroke length of the engine in m\n",
"r=16;//The compression ratio \n",
"N=2000;//The speed of the engine in rpm\n",
"mf=(240/60);//Actual air flow per min in kg/min\n",
"T=300;//Air inlet temperature in K\n",
"p=1.025;//Exhaust pressure in bar\n",
"pi=3.141;//Mathematical constant of pi\n",
"R=287;//Real gas constant in J/kg\n",
"\n",
"//Calculations\n",
"da=(p*10^5)/(R*T);//The density of air in kg/m^3\n",
"Vs=[(pi)*(d^2)*l]/4;//Swept volume in m^3\n",
"V=(r/(r-1))*Vs;//Total cylinder volume in m^3\n",
"m=da*V;//Ideal mass in total cylinder volume in kg per cycle\n",
"m1=m*N;//Ideal mass per unit time in kg/min\n",
"Rsc=mf/m1;//Scavenging ratio\n",
"nsc=[(1-exp(-Rsc))*100];//Scavenging efficiency in percent\n",
"ntr=[(nsc/100)/Rsc]*100;//Trapping efficiency in percent\n",
"\n",
"//Output\n",
"printf('(a) The scavenging ratio = %3.3f \n (b) The scavenging efficiency = %3.1f percent \n (c) The trapping efficiency = %3.1f percent ',Rsc,nsc,ntr)"
   ]
   }
,
{
		   "cell_type": "markdown",
		   "metadata": {},
		   "source": [
			"## Example 11.3: The_bore.sce"
		   ]
		  },
  {
"cell_type": "code",
	   "execution_count": null,
	   "metadata": {
	    "collapsed": true
	   },
	   "outputs": [],
"source": [
"clc\n",
"clear\n",
"//Input data\n",
"mf=6.5;//Mass flow rate of fuel in kg/h\n",
"N=3000;//The speed of the engine in rpm\n",
"a=15;//The air fuel ratio\n",
"CV=44000;//The calorific value of the fuel in kJ/kg\n",
"pm=9;//The mean piston speed in m/s\n",
"pmi=4.8;//The mean pressure in bar\n",
"nsc=85;//The scavenging efficiency in percent\n",
"nm=80;//The mechanical efficiency in percent\n",
"R=290;//Real gas constant in J/kgK\n",
"p=1.03;//The pressure of the mixture in bar\n",
"T=288;//The temperature of the mixture in K\n",
"pi=3.141;//Mathematical constant\n",
"\n",
"//Calculations\n",
"ma=a*mf;//Mass flow rate of air in kg/h\n",
"L=[(pm*60)/(2*N)]*100;//The length of the stroke in cm\n",
"mac=mf+ma;//Actual mass flow rate in kg/h\n",
"mi=(mac)/(nsc/100);//Ideal mass flow rate in kg/h\n",
"da=(p*10^5)/(R*T);//The density of the mixture in kg/m^3\n",
"d=[[(mi/da)*(4/pi)*(1/(L/100))*(1/(60*N))]^(1/2)]*100;//The diameter of the bore in cm\n",
"ip=(pmi*10^5*(L/100)*((pi/4)*(d/100)^2)*N)/(60*1000);//Power obtained in kW\n",
"bp=ip*(nm/100);//Brake power in kW\n",
"nth=(bp/((mf/3600)*CV))*100;//Thermal efficiency of the engine in percent\n",
"\n",
"//Output\n",
"printf(' The diameter of the bore = %3.2f cm \n The length of the stroke = %3.0f cm \n The brake power = %3.2f kW \n The brake thermal efficiency = %3.1f percent ',d,L,bp,nth)"
   ]
   }
,
{
		   "cell_type": "markdown",
		   "metadata": {},
		   "source": [
			"## Example 11.4: The_scavenging_ratio.sce"
		   ]
		  },
  {
"cell_type": "code",
	   "execution_count": null,
	   "metadata": {
	    "collapsed": true
	   },
	   "outputs": [],
"source": [
"clc\n",
"clear\n",
"//Input data\n",
"d=0.08;//The diameter of the bore in m\n",
"L=0.1;//The length of the stroke in m\n",
"r=8;//The compression ratio \n",
"o=60;//The exhaust port open before BDC in degrees\n",
"v=60;//The exhaust port closes after BDC in degrees\n",
"a=15;//Air fuel ratio \n",
"T=300;//The temperature of the mixture entering into the engine in K\n",
"p=1.05;//The pressure in the cylinder at the time of closing\n",
"R=290;//Real gas constant in J/kgK\n",
"ma=150;//Mass flow rate of air in kg/h\n",
"N=4000;//The speed of the engine in rpm\n",
"pi=3.1414;//Mathematical constant of pi\n",
"\n",
"//Calculations\n",
"mf=ma/a;//Mass flow rate of fuel in kg/h\n",
"mac=ma+mf;//Actual mass flow rate in kg/h\n",
"r=(L*100)/2;//Half the length of the stroke in cm\n",
"Le=(r+(r*sin (pi/6)))/100;//Effective stroke length in m\n",
"Vse=(pi*d^2*Le)/4;//Swept volume corresponding to Le in m^3\n",
"V=(r/(r-1))*Vse;//Total volume corresponding to m^3\n",
"da=(p*10^5)/(R*T);//The density in kg/m^3\n",
"m=V*da;//Mass of mixture per cycle in kg/cycle\n",
"mi=m*60*N;//Ideal rate of mass flow in kg/h\n",
"Rsc=mac/mi;//Scavenging ratio \n",
"nsc=(1-(exp(-Rsc)))*100;//Scavenging efficiency in percent\n",
"ntr=nsc/Rsc;//Trapping efficiency in percent\n",
"\n",
"//Output\n",
"printf(' The scavenging ratio = %3.3f \n The scavenging efficiency = %3.2f percent \n The trapping efficiency = %3.2f percent ',Rsc,nsc,ntr)\n",
"    "
   ]
   }
,
{
		   "cell_type": "markdown",
		   "metadata": {},
		   "source": [
			"## Example 11.5: The_scavenging_efficiency.sce"
		   ]
		  },
  {
"cell_type": "code",
	   "execution_count": null,
	   "metadata": {
	    "collapsed": true
	   },
	   "outputs": [],
"source": [
"clc\n",
"clear\n",
"//Input data\n",
"d=8.25;//The diameter of the bore in cm\n",
"L=11.25;//The length of the stroke in cm\n",
"r=8;//The compression ratio \n",
"N=2500;//The speed of the engine in rpm\n",
"ip=17;//Indicated power in kW\n",
"a=0.08;//Fuel air ratio \n",
"T=345;//Inlet temperature mixture in K\n",
"p=1.02;//Exhaust pressure in bar\n",
"CV=44000;//The calorific value of the fuel in kJ/kg\n",
"nth=0.29;//Indicated thermal efficiency\n",
"M=114;//Molar mass of fuel \n",
"pi=3.141;//Mathematical constant\n",
"R=8314;//Universal Gas constant in J/kgK\n",
"\n",
"//Calculations\n",
"Vs=(pi*d^2*L)/4;//Displacement volume in cm^3\n",
"V=(r/(r-1))*Vs;//Total cylinder volume in m^3\n",
"ps=[(29*p*10^5)/(R*T)]*(1/(1+a*(29/M)));//The density of dry air in kg/m^3\n",
"nsc=[(ip*1000)/((N/60)*V*10^-6*ps*a*CV*1000*nth)]*100;//The scavenging efficiency in percent\n",
"\n",
"//Output\n",
"printf('The scavenging efficiency = %3.1f percent',nsc)"
   ]
   }
,
{
		   "cell_type": "markdown",
		   "metadata": {},
		   "source": [
			"## Example 11.6: The_flow_coefficient.sce"
		   ]
		  },
  {
"cell_type": "code",
	   "execution_count": null,
	   "metadata": {
	    "collapsed": true
	   },
	   "outputs": [],
"source": [
"clc\n",
"clear\n",
"//Input data\n",
"S=15;//The speed of the piston in m/s\n",
"ps=0.35;//The scavenging pressure in bar\n",
"pa=1.03;//Atmospheric pressure in bar\n",
"r=18;//The compression ratio \n",
"t=35;//The inlet temperature in degree centigrade\n",
"Rsc=0.9;//The scavenging ratio \n",
"ta=15;//The atmospheric temperature in degree centigrade\n",
"nc=0.75;//Compressor efficiency \n",
"g=1.4;//Adiabatic index\n",
"R=287;//Real gas constant in J/kgK\n",
"Cp=1005;//Specific heat of gas in J/kgK\n",
"\n",
"//Calculations\n",
"pi=ps+pa;//The scavenging pressure in bar\n",
"Ti=(273+ta)+t;//The inlet temperature in K\n",
"pr=pa/pi;//The ratio of the pressure for calculations\n",
"di=(pi*10^5)/(R*Ti);//The density in kg/m^3\n",
"ai=(g*R*Ti)^(1/2);//The sonic velocity in m/s\n",
"C=(Rsc)/[2*((r-1)/r)*(ai/S)*(pi/pa)*[(2/(g-1))*[[(pr)^(2/g)]-[(pr)^((g+1)/g)]]]^(1/2)];//The flow coefficient\n",
"ds=(pa*10^5)/(R*Ti);//The density in kg/m^3\n",
"mep=(ds*Rsc*Cp*Ti*[[(pi/pa)^((g-1)/g)]-1])/[(nc*((r-1)/r))*10^5];//Mean effective pressure in bar\n",
"\n",
"//Output\n",
"printf(' The flow coefficient = %3.4f \n The compressor mean effective pressure = %3.1f bar ',C,mep)"
   ]
   }
],
"metadata": {
		  "kernelspec": {
		   "display_name": "Scilab",
		   "language": "scilab",
		   "name": "scilab"
		  },
		  "language_info": {
		   "file_extension": ".sce",
		   "help_links": [
			{
			 "text": "MetaKernel Magics",
			 "url": "https://github.com/calysto/metakernel/blob/master/metakernel/magics/README.md"
			}
		   ],
		   "mimetype": "text/x-octave",
		   "name": "scilab",
		   "version": "0.7.1"
		  }
		 },
		 "nbformat": 4,
		 "nbformat_minor": 0
}
