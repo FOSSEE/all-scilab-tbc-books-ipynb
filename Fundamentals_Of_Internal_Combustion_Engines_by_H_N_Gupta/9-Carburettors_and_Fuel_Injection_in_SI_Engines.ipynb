{
"cells": [
 {
		   "cell_type": "markdown",
	   "metadata": {},
	   "source": [
       "# Chapter 9: Carburettors and Fuel Injection in SI Engines"
	   ]
	},
{
		   "cell_type": "markdown",
		   "metadata": {},
		   "source": [
			"## Example 9.1: The_orifice_diameter.sce"
		   ]
		  },
  {
"cell_type": "code",
	   "execution_count": null,
	   "metadata": {
	    "collapsed": true
	   },
	   "outputs": [],
"source": [
"clc\n",
"clear\n",
"//Input data\n",
"ma=5;//Mass flow rate of air per min for a simple jet carburettor in kg/min\n",
"mf=0.4;//Mass flow rate of fuel in kg/min\n",
"df=780;//Density of the fuel in kg/m^3\n",
"p1=1.013;//The initial pressure of air in bar\n",
"t1=27;//The initial temperature of air in degree centigrade\n",
"C2=90;//The air flow velocity in m/s\n",
"Cva=0.8;//The velocity coefficient for the venturi\n",
"Cdf=0.6;//The coefficient of discharge of the main fuel jet \n",
"Cpd=0.75;//The pressure drop across the fuel metering oriface\n",
"Cp=1005;//The specific heat of gas in J/kgK\n",
"g=1.4;//Adiabatic index\n",
"R=287;//Real gas constant in J/kgK\n",
"pi=3.141;//The mathematical constant of pi\n",
"\n",
"//Calculations\n",
"p2=p1*[1-(C2^2/(Cva^2*2*Cp*(t1+273)))]^(g/(g-1));//Throat pressure in bar\n",
"da1=((p1*10^5)/(R*(t1+273)));//The density of air at inlet in kg/m^3\n",
"da2=[(da1)*(p2/p1)^(1/g)];//The density of air at the throat in kg/m^3\n",
"A2=[(ma/60)/(da2*C2)]*10^4;//The throat area in cm^2\n",
"d2=(4*A2/pi)^(1/2);//The throat diameter of the choke in cm\n",
"pv=p1-p2;//Pressure drop at venturi in bar\n",
"pj=Cpd*pv;//Pressure drop at jet in bar\n",
"Aj=[(mf/60)/(Cdf*(2*df*pj*10^5)^(1/2))]*10^6;//The area of the jet in mm^2\n",
"dj=(4*Aj/pi)^(1/2);//The oriface diameter in mm\n",
"\n",
"//Output\n",
"printf('The throat diameter of the choke = %3.2f cm \n The oriface diameter = %3.1f mm ',d2,dj)"
   ]
   }
,
{
		   "cell_type": "markdown",
		   "metadata": {},
		   "source": [
			"## Example 9.2: Suitable_choke.sce"
		   ]
		  },
  {
"cell_type": "code",
	   "execution_count": null,
	   "metadata": {
	    "collapsed": true
	   },
	   "outputs": [],
"source": [
"clc\n",
"clear\n",
"//Input data\n",
"Vs=0.002;//The swept volume in m^3\n",
"nv=75;//Volumetric efficiency in percent\n",
"N=4500;//The engine rpm\n",
"p1=1.013;//The initial pressure of air in bar\n",
"R=287;//Real gas constant in J/kgK\n",
"pi=3.141;//The mathematical constant of pi\n",
"t1=15;//The atmospheric temperature in degree centigrade\n",
"Cp=1005;//The specific heat of gas in J/kgK\n",
"g=1.4;//Adiabatic index\n",
"C2=100;//The air flow velocity at choke in m/s\n",
"Cda=0.85;//The velocity coefficient for the venturi\n",
"Cdf=0.66;//The coefficient of discharge of the main fuel jet \n",
"sf=0.75;//The specific gravity of fuel\n",
"d=0.4;//The ratio of the diameter to choke diameter\n",
"af=14;//The air fuel ratio\n",
"gf=9.81;//The gravitational force constant in m/s^2\n",
"Z=0.006;//The petrol surface below the choke in m\n",
"df=750;//The density of the fuel in kg/m^3\n",
"\n",
"//Calculations\n",
"Va=((nv/100)*Vs*N)/(2*60);//The volume of air induced in m^3/s\n",
"V1=Va/2;//The carburator delivers an air flow in m^3/s\n",
"ma=(p1*10^5*V1)/(R*(t1+273));//The mass flow rate of air in kg/s\n",
"p2=p1*[1-(C2^2/(2*Cp*(t1+273)))]^(g/(g-1));//The pressure at throat in bar\n",
"da1=[(p1*10^5)/(R*(t1+273))];//The density of air in kg/m^3\n",
"da2=da1*(p2/p1)^(1/g);//Density of air at throat in kg/m^3\n",
"A2=[ma/(da2*C2*Cda)]*10^6;//The throat area in mm^2\n",
"D=[(A2*4)/(pi*0.84)]^(1/2);//The choke diameter in mm\n",
"mf=ma/af;//The mass flow rate of fuel in kg/s\n",
"pm=[p1-p2-(gf*Z*df/10^5)]*10^5;//The pressure difference across the main jet in N/m^2\n",
"Aj=(mf/(Cdf*(2*df*pm)^(1/2)))*10^6;//The area of the jet in mm^2\n",
"dj=(4*Aj/pi)^(1/2);//The diameter of the jet in mm\n",
"\n",
"//Output\n",
"printf('The diameter of the choke = %3.2f mm \n The diameter of the jet in = %3.2f mm ',D,dj)\n",
""
   ]
   }
,
{
		   "cell_type": "markdown",
		   "metadata": {},
		   "source": [
			"## Example 9.3: The_fuel_flow_rate.sce"
		   ]
		  },
  {
"cell_type": "code",
	   "execution_count": null,
	   "metadata": {
	    "collapsed": true
	   },
	   "outputs": [],
"source": [
"clc\n",
"clear\n",
"//Input data\n",
"d=0.08;//The diameter of the bore in m\n",
"L=0.09;//The length of the stroke in m\n",
"N=4000;//The engine rpm\n",
"C=84;//The carbon content in the fuel by mass in percent\n",
"H=16;//The hydrogen content in the fuel by mass in percent\n",
"nv=80;//The volumetric efficiency of the engine in percent\n",
"p1=1;//The pressure at ambient condition in bar\n",
"t1=25;//The temperature at ambient condition in degree centigrade\n",
"p=0.06;//The depression at venturi throat in bar\n",
"ma=0.95;//The actuat quantity of air supplied\n",
"Ra=287;//Real gas constant in J/kgK\n",
"Rf=98;//Real gas constant in J/kgK\n",
"pi=3.141;//The mathematical constant of pi\n",
"n=4;//Number of cylinders\n",
"Cp=1005;//The specific heat of gas in J/kgK\n",
"g=1.4;//Adiabatic index\n",
"\n",
"//Calculations\n",
"V=(pi/4)*d^2*L*(nv/100)*(N/(2*60))*n;//The volume of mixture supplied to the engine in m^3/s\n",
"Af=(100/23)*((C*(32/12))+(H*8))/100;//Stoichiometric air/fuel ratio\n",
"mfa=Af*ma;//The actual mass of air supplied per kg of fuel in kg/kg fuel\n",
"Aaf=mfa;//Actual air fuel ratio\n",
"da=(p1*10^5)/(Ra*(t1+273));//The density of air at one bar in kg/m^3\n",
"dv=(p1*10^5)/(Rf*(t1+273));//The density of fuel vapour in kg/m^3\n",
"ma1=V/((1/da)+(1/(mfa*dv)));//Mass flow rate of air in kg/s\n",
"mf1=ma1/mfa;//Mass flow rate of fuel in kg/s\n",
"p2=p1-p;//The pressure at the outlet in bar \n",
"C2=[2*Cp*(t1+273)*(1-(p2/p1)^((g-1)/g))]^(1/2);//Velocity of air at the throat in m/s\n",
"T2=(t1+273)*(p2/p1)^((g-1)/g);//The temperature at throat in K\n",
"d2=(p2*10^5)/(Ra*T2);//The density of the air at throat in kg/m^3\n",
"A2=[ma1/(d2*C2)]*10^4;//The cross sectional area of the venturi throat in cm^2\n",
"d2=(A2*4/pi)^(1/2);//The diameter of the venturi throat in cm\n",
"\n",
"//Output\n",
"printf('The fuel flow rate = %3.6f kg/s \n The velocity of air at throat = %3.1f m/s \n The throat diameter = %3.2f cm ',mf1,C2,d2)"
   ]
   }
,
{
		   "cell_type": "markdown",
		   "metadata": {},
		   "source": [
			"## Example 9.4: The_depression_at_the_throat.sce"
		   ]
		  },
  {
"cell_type": "code",
	   "execution_count": null,
	   "metadata": {
	    "collapsed": true
	   },
	   "outputs": [],
"source": [
"clc\n",
"clear\n",
"//Input data\n",
"d=0.1;//The diameter of the bore in m\n",
"L=0.12;//The length of the stroke in m\n",
"N=3000;//The engine rpm\n",
"d2=0.035;//The throat diameter of carburettor venturi in m\n",
"nv=80;//The volumetric efficiency of the engine in percent\n",
"Cda=0.82;//The coefficient of discharge of air flow \n",
"p=1.013;//The ambient pressure in bar\n",
"T=298;//The ambient temperature in K\n",
"ar=15;//The air fuel ratio \n",
"Z=0.005;//The top of the jet above the petrol level in the float chamber in m\n",
"Cdf=0.7;//The coefficient of discharge for fuel flow \n",
"df=750;//The specific gravity of the fuel in kg/m^3\n",
"R=287;//Real gas constant in J/kgK\n",
"pi=3.141;//The mathematical constant of pi\n",
"g=9.81;//The gravitational constant in m/s^2\n",
"n=4;//Number of cylinders \n",
"\n",
"//Calculations\n",
"V=(pi/4)*d^2*L*(nv/100)*(N/(2*60))*n;//Volume of air inducted per second in m^3/s\n",
"da=(p*10^5)/(R*T);//The density of air in kg/m^3\n",
"ma=V*da;//The mass flow rate of air in kg/s\n",
"A2=(pi/4)*d2^2;//The area of the throat in m^2\n",
"P=[ma^2/(Cda^2*A2^2*2*da)]/10^5;//The change in pressure in bar\n",
"mf=ma/ar;//The mass flow rate of fuel in kg/s\n",
"Aj=[mf/(Cdf*(2*df*((P*10^5)-(g*Z*df)))^(1/2))]*10^6;//The area of the fuel jet in mm^2\n",
"dj=(Aj*4/pi)^(1/2);//The diameter of the fuel jet of a simple carburator in mm\n",
"\n",
"//Output \n",
"printf('The depression of the throat = %3.5f bar \n The diameter of the fuel jet of a simple carburettor = %3.2f mm ',P,dj)"
   ]
   }
,
{
		   "cell_type": "markdown",
		   "metadata": {},
		   "source": [
			"## Example 9.5: The_critical_air_velocity.sce"
		   ]
		  },
  {
"cell_type": "code",
	   "execution_count": null,
	   "metadata": {
	    "collapsed": true
	   },
	   "outputs": [],
"source": [
"clc\n",
"clear\n",
"//Input data\n",
"mf=(6/3600);//The mass flow rate of fuel in kg/s\n",
"df=750;//The density of fuel in kg/m^3\n",
"Z=0.003;//The level in the float chamber below the top of the jet in m\n",
"p=1.013;//The ambient pressure in bar\n",
"T=294;//The ambient temperature in K\n",
"dj=0.0012;//The jet diameter in m\n",
"Cdf=0.65;//The discharge coefficient of the jet \n",
"Cda=0.8;//The discharge coefficient of air \n",
"A=15.3;//The air fuel ratio \n",
"pi=3.141;//The mathematical constant of pi\n",
"g=9.81;//The gravitational constant in m/s^2\n",
"R=287;//Real gas constant in J/kgK\n",
"dh=1000;//The density of water in kg/m^2\n",
"\n",
"//Calculations\n",
"da=(p*10^5)/(R*T);//The density of air in kg/m^3\n",
"Ca2=Cda*((2*g*Z*df)/da)^(1/2);//The critical air velocity at the throat\n",
"Aj=(pi/4)*dj^2;//The area of the jet in m^2\n",
"P=[(mf^2/(Cdf^2*Aj^2*2*df))+(g*Z*df)]/10^5;//The dipression at the throat in bar\n",
"h=(P*10^5)/(dh*g);//In meter of water\n",
"h1=(P*10^5)/g;//In mm of water\n",
"ma=mf*A;//The mass flow rate of air in kg/s\n",
"A2=[ma/((Cda*(2*da*(P*10^5))^(1/2)))]*10^4;//The area of the throat in cm^2\n",
"d2=[(A2*4/pi)^(1/2)]*10;//The effective throat diameter in mm\n",
"\n",
"//Output \n",
"printf('The critical air velocity = %3.3f m/s \n The depression at the throat in mm of H2O = %3.2f mm of H2O \n The effective throat diameter  %3.2f mm ',Ca2,h1,d2)"
   ]
   }
,
{
		   "cell_type": "markdown",
		   "metadata": {},
		   "source": [
			"## Example 9.6: A_simple_carburettor.sce"
		   ]
		  },
  {
"cell_type": "code",
	   "execution_count": null,
	   "metadata": {
	    "collapsed": true
	   },
	   "outputs": [],
"source": [
"clc\n",
"clear\n",
"//Input data\n",
"d2=22;//The venturi throat diameter of a simple carburettor in mm\n",
"Cda=0.82;//The coefficient of air flow \n",
"dj=1.2;//The fuel orifice diameter in mm\n",
"Cdf=0.7;//The coefficient of fuel flow\n",
"Z=0.004;//The petrol surface below the throat in m\n",
"g=9.81;//The gravitational constant in m/s^2\n",
"da=1.2;//The density of air in kg/m^3\n",
"df=750;//The density of fuel in kg/m^3\n",
"P=0.075;//The pressure drop in bar\n",
"\n",
"//Calculations\n",
"A=(Cda/Cdf)*(d2^2/dj^2)*(da/df)^(1/2);//The air fuel ratio \n",
"A1=(Cda/Cdf)*(d2^2/dj^2)*((da*P)/(df*(P-(g*Z*df)/10^5)))^(1/2);//Air fuel ratio when the nozzle lip Z is considered \n",
"Ca2=(2*g*Z*df/da)^(1/2);//Critical velocity at the throat in m/s\n",
"\n",
"//Output\n",
"printf(' (a) The air fuel ratio when the nozzle lip is neglected = %3.2f \n (b)The air fuel ratio when the nozzle lip is considered = %3.2f \n (c) The critical air velocity or minimum velocity required to start the fuel flow = %3.0f m/s ',A,A1,Ca2)\n",
""
   ]
   }
,
{
		   "cell_type": "markdown",
		   "metadata": {},
		   "source": [
			"## Example 9.7: Air_fuel_ratio.sce"
		   ]
		  },
  {
"cell_type": "code",
	   "execution_count": null,
	   "metadata": {
	    "collapsed": true
	   },
	   "outputs": [],
"source": [
"clc\n",
"clear\n",
"//Input data\n",
"h=4000;//The altitude of the airplane engine carburettor in m\n",
"A=14.7;//The air fuel ratio at sea level\n",
"ts=22;//The temperature at sea level in degree centigrade\n",
"R=287;//Real gas constant in J/kgK\n",
"\n",
"//Calculations\n",
"ta=ts-(0.0065*h);//The temperature at the altitude in degree centigrade\n",
"p=1.013/10^0.2083;//The pressure at the altitude in bar\n",
"da=(p*10^5)/(R*(ta+273));//The density at altitude in kg/m^3\n",
"ds=(1.013*10^5)/(R*(ts+273));//The density at sea level in kg/m^3\n",
"Aa=A*(da/ds)^(1/2);//The air fuel ratio at altitude \n",
"\n",
"//Output\n",
"printf('The air fuel ratio at altitude = %3.2f ',Aa)"
   ]
   }
,
{
		   "cell_type": "markdown",
		   "metadata": {},
		   "source": [
			"## Example 9.8: Throat_pressure.sce"
		   ]
		  },
  {
"cell_type": "code",
	   "execution_count": null,
	   "metadata": {
	    "collapsed": true
	   },
	   "outputs": [],
"source": [
"clc\n",
"clear\n",
"//Input data\n",
"A=14.5;//The air fuel ratio\n",
"p2=0.825;//The pressure at the venturi throat in bar \n",
"p1=1.013;//The atmospheric pressure in bar\n",
"pd=37.5;//The pressure drop to the air cleaner in mm of Hg\n",
"ma=260;//The mass flow rate of air in kg/h\n",
"\n",
"//Calculations\n",
"pa=p1-p2;//Without air cleaner the depression at the throat in bar\n",
"p21=p1-(pd/750)-pa;//The throat pressure when the air cleaner is fitted in bar\n",
"pf=pa;//Pressure of fuel without air clesner in bar\n",
"pf1=p1-p21;//Pressure of the fuel with air cleaner in bar\n",
"Af=A*(pf/pf1)^(1/2);//Air fuel ratio with air cleaner \n",
"\n",
"//Output\n",
"printf(' (a) The throat pressure when the air cleaner is fitted = %3.3f bar \n (b) The air fuel ratio with the air cleaner fitted = %3.2f ',p21,Af)"
   ]
   }
,
{
		   "cell_type": "markdown",
		   "metadata": {},
		   "source": [
			"## Example 9.9: The_venturi_throat_diameter.sce"
		   ]
		  },
  {
"cell_type": "code",
	   "execution_count": null,
	   "metadata": {
	    "collapsed": true
	   },
	   "outputs": [],
"source": [
"clc\n",
"clear\n",
"//Input data\n",
"bp=8;//The brake power of the petrol engine in kW\n",
"nb=30;//The brake thermal efficiency in percent\n",
"CV=44000;//The calorific value of the fuel in kJ/kg\n",
"p1=1.013;//The suction condition of engine pressure in bar\n",
"T1=300;//The temperature at suction condition in K\n",
"Aj=2.5*10^-6;//The area of jet in m^2\n",
"Z=0.008;//The nozzle lip in m\n",
"g=9.81;//The gravitational force constant in m/s^2\n",
"A=15;//The air fuel ratio\n",
"Cda=0.9;//The coefficient of air flow\n",
"Cdf=0.7;//The coefficient of fuel flow\n",
"df=750;//The density of fuel in kg/m^3\n",
"pi=3.141;//The mathematical constant of pi\n",
"va=0.8;//The specific volume of air in m^3/kg\n",
"\n",
"//Calculations\n",
"va1=va*T1/273;//Specific volume of air at atmospheric pressure and 300K in m^3/kg\n",
"da=1/va;//The density of air at inlet condition in kg/m^3\n",
"mf=bp/[(nb/100)*CV];//Mass flow rate of fuel in kg/s\n",
"Cf=mf/(Cdf*df*Aj);//Velocity of fuel in m/s\n",
"P=[(Cf^2*df)/2]+(df*g*Z);//The pressure drop in N/m^2\n",
"Ca=(2*P/da)^(1/2);//Velocity of air at the throat in m/s\n",
"ma=mf*A;//The mass flow rate of air in kg/s\n",
"A2=[ma/(Cda*da*Ca)]*10^4;//The area of the venturi in cm^2\n",
"d2=(A2*4/pi)^(1/2);//The diameter of venturi in cm\n",
"\n",
"//Output\n",
"printf('The venturi throat diameter of the carburator = %3.2f cm ',d2)"
   ]
   }
],
"metadata": {
		  "kernelspec": {
		   "display_name": "Scilab",
		   "language": "scilab",
		   "name": "scilab"
		  },
		  "language_info": {
		   "file_extension": ".sce",
		   "help_links": [
			{
			 "text": "MetaKernel Magics",
			 "url": "https://github.com/calysto/metakernel/blob/master/metakernel/magics/README.md"
			}
		   ],
		   "mimetype": "text/x-octave",
		   "name": "scilab",
		   "version": "0.7.1"
		  }
		 },
		 "nbformat": 4,
		 "nbformat_minor": 0
}
