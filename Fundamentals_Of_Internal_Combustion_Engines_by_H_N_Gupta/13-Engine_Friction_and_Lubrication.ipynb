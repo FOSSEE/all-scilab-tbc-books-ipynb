{
"cells": [
 {
		   "cell_type": "markdown",
	   "metadata": {},
	   "source": [
       "# Chapter 13: Engine Friction and Lubrication"
	   ]
	},
{
		   "cell_type": "markdown",
		   "metadata": {},
		   "source": [
			"## Example 13.1: The_friction_force.sce"
		   ]
		  },
  {
"cell_type": "code",
	   "execution_count": null,
	   "metadata": {
	    "collapsed": true
	   },
	   "outputs": [],
"source": [
"clc\n",
"clear\n",
"//Input data\n",
"d=0.08;//The diameter of bore in m\n",
"L=0.075;//The length of the stroke in m\n",
"l=0.152;//The connecting rod length in m\n",
"h=0.062;//Skirt length of the piston in m\n",
"Fr=8000;//Compressive force in the connecting rod in N\n",
"p=3000;//The pressure in the cylinder kPa\n",
"y=0.004*10^-3;//The clearence between piston and cylinder wall in m\n",
"U=0.006;//The dynamic viscosity of the lubricating oil in pa.s\n",
"u=8.2;//The piston speed in m/s\n",
"pi=3.141;//Mathematical constant of pi\n",
"\n",
"//Calculations\n",
"ts=(U*u)/y;//The shear stress in N/m^2\n",
"A=pi*d*h;//Contact area between the piston and the cylinder in m^2\n",
"Ff=ts*A;//Friction force on the piston inN\n",
"r=L/2;//Crank length in m\n",
"A=atan(r/l);//The angle made by the crank in radians\n",
"Ft=Fr*sin(A);//The side thrust in N\n",
"//Output \n",
"printf(' The friction force on the piston = %3.0f N \n  The thrust force on the cylinder wall = %3.0f N',Ff,Ft)"
   ]
   }
,
{
		   "cell_type": "markdown",
		   "metadata": {},
		   "source": [
			"## Example 13.2: A_four_cylinder_IC_engine.sce"
		   ]
		  },
  {
"cell_type": "code",
	   "execution_count": null,
	   "metadata": {
	    "collapsed": true
	   },
	   "outputs": [],
"source": [
"clc\n",
"clear\n",
"//Input data\n",
"d=0.065;//The cylinder bore diameter in m\n",
"L=6;//The length of the stroke in cm\n",
"l=12;//The length of the connecting rod in cm\n",
"p=50;//The pressure in the cylinder in bar\n",
"q=90;//The crank position in power stroke of the cycle for one cylinder in degrees\n",
"Ff=900;//Friction force in N\n",
"pi=3.141;//Mathematical constant valu of pi\n",
"o=0.2;//Wrist pin off set in cm\n",
"\n",
"//Calculations\n",
"r=L/2;//The crank length in cm\n",
"sineA=r/l;//The value of sine \n",
"cosA=(1-(sineA)^2)^(1/2);//The value of cosine\n",
"Fr=[[(p*10^5*(pi/4)*d^2)-Ff]/cosA]/1000;//The force in the connecting rod in kN\n",
"Ft=Fr*sineA;//The side thrust on the piston in kN\n",
"sineA1=(r-o)/l;//The value of sine\n",
"cosA1=(1-(sineA1)^2)^(1/2);//The value of cosine\n",
"Fr1=[[(p*10^5*(pi/4)*d^2)-Ff]/cosA1]/1000;//The force in the connecting rod in kN\n",
"Ft1=Fr1*sineA1;//The side thrust in kN\n",
"\n",
"//Output \n",
"printf('(a) The force in the connecting rod = %3.3f kN \n The side thrust on the piston = %3.3f kN \n (b) The side thrust on the piston = %3.3f kN ',Fr,Ft,Ft1)"
   ]
   }
],
"metadata": {
		  "kernelspec": {
		   "display_name": "Scilab",
		   "language": "scilab",
		   "name": "scilab"
		  },
		  "language_info": {
		   "file_extension": ".sce",
		   "help_links": [
			{
			 "text": "MetaKernel Magics",
			 "url": "https://github.com/calysto/metakernel/blob/master/metakernel/magics/README.md"
			}
		   ],
		   "mimetype": "text/x-octave",
		   "name": "scilab",
		   "version": "0.7.1"
		  }
		 },
		 "nbformat": 4,
		 "nbformat_minor": 0
}
