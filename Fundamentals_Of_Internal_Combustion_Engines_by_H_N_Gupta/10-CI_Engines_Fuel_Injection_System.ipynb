{
"cells": [
 {
		   "cell_type": "markdown",
	   "metadata": {},
	   "source": [
       "# Chapter 10: CI Engines Fuel Injection System"
	   ]
	},
{
		   "cell_type": "markdown",
		   "metadata": {},
		   "source": [
			"## Example 10.1: The_diameter_of_the_orifice.sce"
		   ]
		  },
  {
"cell_type": "code",
	   "execution_count": null,
	   "metadata": {
	    "collapsed": true
	   },
	   "outputs": [],
"source": [
"clc\n",
"clear\n",
"//Input data\n",
"bsfc=0.3;//The brake specific fuel consumption in kg/kWh\n",
"bp=250;//The brake power in kW\n",
"N=1500;//Number of cycles per min in rpm\n",
"CA=15;//Crank angle in degrees\n",
"pi1=30;//The pressure of air in the cylinder at the beginning of the injection in bar\n",
"pi2=60;//The pressure of air in the cylinder at the end of the injection in bar\n",
"pf1=220;//The fuel injection pressure at the beginning in bar\n",
"pf2=550;//The fuel injection pressure at the end in bar\n",
"Cd=0.65;//The coefficient of discharge for the injector \n",
"df=850;//The density of the fuel in kg/m^3\n",
"p1=1.013;//The atmospheric pressure in bar\n",
"n=4;//The number of orifices used in the nozzle\n",
"x=6;//Number of cylinders\n",
"pi=3.141;//The mathematical constant of pi\n",
"\n",
"//Calculations\n",
"mf=bsfc*bp/60;//The mass flow rate of fuel in kg/min\n",
"F=(mf/(N/2))*(1/x);//Fuel injected per cycle per cylinder in kg\n",
"s=(CA/360)/(N/60);//Duration of injection in s\n",
"mf1=F/s;//Mass of fuel injected per second\n",
"p1=pf1-pi1;//Pressure difference at the beginning in bar\n",
"p2=pf2-pi2;//Pressure difference at the end in bar\n",
"pa=(p1+p2)/2;//Average pressure difference in bar\n",
"Af=[mf1/(Cd*(2*df*pa*10^5)^(1/2))]*10^6;//Area of cross section of the nozzle in mm^2\n",
"do=[(Af/n)*(4/pi)]^(1/2);//The diameter of the orifice in mm\n",
"\n",
"//Output\n",
"printf('The nozzle area required per injection = %3.3f mm^2 \n The diameter of the orifice = %3.2f mm ',Af,do)"
   ]
   }
,
{
		   "cell_type": "markdown",
		   "metadata": {},
		   "source": [
			"## Example 10.2: Velocity_of_injection.sce"
		   ]
		  },
  {
"cell_type": "code",
	   "execution_count": null,
	   "metadata": {
	    "collapsed": true
	   },
	   "outputs": [],
"source": [
"clc\n",
"clear\n",
"//Input data\n",
"bp=30;//The brake power of the engine in kW\n",
"N=3000;//The engine speed in rpm \n",
"bsfc=0.28;//The brake specific fuel consumption in kg/kWh \n",
"API=35;//The API\n",
"p2=160;//The pressure at which fuel is injected in bar\n",
"CA=28;//The crank angle in degrees\n",
"p1=35;//The pressure in the combustion chamber in bar\n",
"Cv=0.92;//The coefficient of velocity \n",
"pi=3.141;//The mathematical constant of pi\n",
"\n",
"//Calculations\n",
"S=141.5/(131.5+API);//Specific gravity\n",
"df=S*1000;//The density of the fuel in kg/m^3\n",
"D=(CA/360)/(N/60);//Duration of injection in s\n",
"F=(bsfc*bp)/((N/2)*60);//Fuel consumption per cycle in kg\n",
"mf=F/D;//Mass flow rate of fuel in kg/s\n",
"Cf=Cv*((2*(p2-p1)*10^5)/df)^(1/2);//Velocity of injection of the fuel in m/s\n",
"Af=[mf/(df*Cf)]*10^6;//Area of the fuel orifice in mm^2\n",
"d=(4*Af/pi)^(1/2);//The diameter of the orifice in mm\n",
"\n",
"//Output\n",
"printf('The velocity of injection of the fuel = %3.1f m/s \n The diameter of the fuel orifice = %3.3f mm ',Cf,d)"
   ]
   }
,
{
		   "cell_type": "markdown",
		   "metadata": {},
		   "source": [
			"## Example 10.3: The_discharge_of_fuel.sce"
		   ]
		  },
  {
"cell_type": "code",
	   "execution_count": null,
	   "metadata": {
	    "collapsed": true
	   },
	   "outputs": [],
"source": [
"clc\n",
"clear\n",
"//Input data\n",
"d=0.8*10^-3;//The diameter of an orifice in m\n",
"A=1.65*10^-6;//The cross sectional area in m^2\n",
"Cd=0.9;//The discharge coefficient of the orifice \n",
"Cp=0.85;//The coefficient of the passage\n",
"p1=170;//The injection pressure in bar\n",
"p2=25;//The compression pressure of the discharge in bar\n",
"df=850;//The density of the fuel in kg/m^3\n",
"\n",
"//Calculations\n",
"Q=[(145/(22.931*10^9))^(1/2)]*10^6;//Adding two equations and solving then the discharge in cm^3/s\n",
"p=170-(2.161*10^9*(Q/10^6)^2);//Pressure immediately formed before the orifice in bar\n",
"Cf=Cd*((2*(p-p2)*10^5)/df)^(1/2);//The velocity of fuel flow through the orifice in m/s\n",
"\n",
"//Output\n",
"printf('The discharge of fuel through the injector = %3.1f cm^2/s \n The jet velocity through the orifice = %3.1f m/s ',Q,Cf)"
   ]
   }
,
{
		   "cell_type": "markdown",
		   "metadata": {},
		   "source": [
			"## Example 10.4: The_time.sce"
		   ]
		  },
  {
"cell_type": "code",
	   "execution_count": null,
	   "metadata": {
	    "collapsed": true
	   },
	   "outputs": [],
"source": [
"clc\n",
"clear\n",
"//Input data\n",
"s=20;//Spray penetration in cm\n",
"t1=15.7;//The spray penetration of 20 cm in ms\n",
"pi1=150;//The injection pressure in bar\n",
"pi2=450;//The injection pressure to be used in bar\n",
"p2=15;//The combustion chamber pressure in bar\n",
"d1=0.34;//The diameter of the orifice in mm\n",
"s1=20;//The penetration for an orifice in cm\n",
"d2=0.17;//If the diameter of the orifice in cm\n",
"t11=12;//The spray penetration in ms\n",
"\n",
"//Calculations\n",
"t2=(t1*(pi1-p2)^(1/2))/(pi2-p2)^(1/2);//The time required for the spray to penetrate in ms\n",
"s2=d2*(s1/d1);//The penetration of the orifice in cm\n",
"t21=t11*(d2/d1);//The time required for the spray to penetrate in ms\n",
"\n",
"//Output\n",
"printf('(a) The time required for the spray to penetrate = %3.2f ms \n (b) The spray penetration of the orifice = %3.0f cm \n The time required for the spray to penetrate = %3.0f ms ',t2,s2,t21)"
   ]
   }
,
{
		   "cell_type": "markdown",
		   "metadata": {},
		   "source": [
			"## Example 10.5: The_pump_displacement.sce"
		   ]
		  },
  {
"cell_type": "code",
	   "execution_count": null,
	   "metadata": {
	    "collapsed": true
	   },
	   "outputs": [],
"source": [
"clc\n",
"clear\n",
"//Input data\n",
"v=6.5;//The volume of fuel in the barrel in cc\n",
"d=0.3;//The dimeter of fuel pipe line in cm\n",
"l=65;//The length of the fuel pipe line in cm \n",
"vi=2.5;//The volume of fuel in the injection valve in cc\n",
"K=78.5*10^-6;//The coefficient of compressibility of the oil per bar\n",
"p1=1;//The atmospheric pressure in bar\n",
"p2=180;//The pressure due to pump in bar\n",
"v3=0.1;//The pump displacement necessary for the fuel in cc\n",
"e=0.75;//The effective stroke of the plunger in cm\n",
"pi=3.141;//Mathematical constant of pi\n",
"\n",
"//Calculations\n",
"V1=v+((pi*d^2)/4)*l+vi;//The total initial volume in cc\n",
"V=K*V1*(p2-p1);//Change in volume due to compression in cc\n",
"T=(V)+v3;//Total displacement of the plunger in cc\n",
"L=T*(4/pi)*(1/(e^2));//Effective stroke of the plunger in cm\n",
"\n",
"//Output\n",
"printf('(a) The total displacement of the plunger = %3.3f cc \n (b) The effective stroke of the plunger = %3.3f cm',T,L)"
   ]
   }
,
{
		   "cell_type": "markdown",
		   "metadata": {},
		   "source": [
			"## Example 10.6: The_displacement_volume.sce"
		   ]
		  },
  {
"cell_type": "code",
	   "execution_count": null,
	   "metadata": {
	    "collapsed": true
	   },
	   "outputs": [],
"source": [
"clc\n",
"clear\n",
"//Input data\n",
"n=4;//Number of cylinders \n",
"N=2500;//The engine speed in rpm \n",
"P=90;//The power produced by the engine in kW\n",
"bsfc=0.28;//The brake specific fuel consumption in kg/kWh\n",
"v=3.5;//The volume of fuel in the barrel in cc\n",
"vp=2.5;//Volume of fuel in the pipe line in cc\n",
"vi=2;//The fuel inside the injector in cc\n",
"p1=280;//The average injection pressure in bar\n",
"p2=30;//The compression pressure of air during injection in bar\n",
"df=850;//The density of the fuel in kg/m^3\n",
"K=80*10^-6;//The coefficient of compressibility of fuel per bar\n",
"pi=1;//The pressure with which fuel enter into the barrel in bar\n",
"\n",
"//Calculations\n",
"F=(bsfc*P)/((N/2)*60);//Fuel consumption per cycle in kg\n",
"F1=F/n;//Fuel consumption per cylinder in kg/cycle\n",
"Vf=[F1/df]*10^6;//Volume of fuel injected per cylinder per cycle in cm^3\n",
"V1=v+vp+vi;//Total initial volume in cc\n",
"V=K*V1*(p1-pi);//Change in volume due to compression in cc\n",
"Vp=Vf+V;//Volume displaced by plunger in cc\n",
"W=[(1/2)*(p1-pi)*10^5*V*10^-6]+[(p1-p2)*10^5*Vf*10^-6];//Pump work per cycle in J\n",
"P1=(W*N)/(2*60*1000);//Power lost per cylinder in kW\n",
"P2=P1*4;//Total power lost for pumping the fuel in kW\n",
"\n",
"//Output \n",
"printf('The displacement volume of one plunger per cycle = %3.4f cc \n Total power lost for pumping the fuel = %3.3f kW',Vp,P2)"
   ]
   }
,
{
		   "cell_type": "markdown",
		   "metadata": {},
		   "source": [
			"## Example 10.7: The_Velocity.sce"
		   ]
		  },
  {
"cell_type": "code",
	   "execution_count": null,
	   "metadata": {
	    "collapsed": true
	   },
	   "outputs": [],
"source": [
"clc\n",
"clear\n",
"//Input data\n",
"v1=0.3;//Velocity of the pump plunger in m/s\n",
"l=0.575;//The length of the fuel pipe in m\n",
"A=1/20;//The cross sectional area of pipe to the plunger cylinder\n",
"a=1/40;//The area of nozzle hole to the pipe \n",
"p1=27.6;//Initial pressure in the line in bar \n",
"p2=27.6;//The compression pressure of the engine\n",
"K=17830*10^5;//The bulk modulus of fuel in N/m^2\n",
"df=860;//The density of the fuel in kg/m^3\n",
"pi=3.141;//Mathematical constant of pi\n",
"\n",
"//Calculations\n",
"Vs=(K/df)^(1/2);//The velocity of pressure disturbances in m/s\n",
"t=l/Vs;//Time taken by the disturbance to travel through pipe line in s\n",
"Vp=(1/A)*v1;//The velocity of the fuel at the inlet of the pipe line in m/s\n",
"p=[(K/Vs)*Vp]/10^5;//The change in pressure in bar\n",
"pi=p+p1;//The pressure according to change in velocity in bar\n",
"po=p1+p;//The change in total to the disturbance pressure in bar \n",
"vc=Vp-(a*((2*(po-p2))/df)^(1/2));//Change in the velocity in m/s\n",
"pr=26.8;//By trail method the first reflected pressure wave from velocity in bar\n",
"Vc=pr*(Vs/(K/10^5));//The change in velocity in m/s\n",
"po1=p1+p+pr;//The pressure at the orifice end of the pipe in bar\n",
"vo=a*((2*(po1-p2)*10^5)/df)^(1/2);//The velocity at the oriface end of the pipe in m/s\n",
"\n",
"//Output\n",
"printf('(a)The velocity of the pressure disturbance = %3.0f m/s \n (b) The time taken by the disturbance to travel through the pipe line = %3.4f s \n (c) The velocity at the pump end of the pipe line as the plunger moves = %3.0f m/s \n The pressure at the pump end of the pipe line as the plunger moves =  %3.1f bar \n (d) The magnitude of the first reflected pressure = %3.2f bar \n The magnitude of the first reflected velocity wave = %3.2f m/s \n (e)The pressure at the oriface end of the pipe line after the first reflection = %3.1f bar \n The velocity at the oriface end of the pipe line after the first reflection = %3.2f m/s ',Vs,t,Vp,pi,pr,Vc,po1,vo)\n",
""
   ]
   }
],
"metadata": {
		  "kernelspec": {
		   "display_name": "Scilab",
		   "language": "scilab",
		   "name": "scilab"
		  },
		  "language_info": {
		   "file_extension": ".sce",
		   "help_links": [
			{
			 "text": "MetaKernel Magics",
			 "url": "https://github.com/calysto/metakernel/blob/master/metakernel/magics/README.md"
			}
		   ],
		   "mimetype": "text/x-octave",
		   "name": "scilab",
		   "version": "0.7.1"
		  }
		 },
		 "nbformat": 4,
		 "nbformat_minor": 0
}
