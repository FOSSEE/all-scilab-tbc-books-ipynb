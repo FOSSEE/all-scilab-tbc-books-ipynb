{
"cells": [
 {
		   "cell_type": "markdown",
	   "metadata": {},
	   "source": [
       "# Chapter 16: Engine Testing and Performance "
	   ]
	},
{
		   "cell_type": "markdown",
		   "metadata": {},
		   "source": [
			"## Example 16.10: Heat_balance_sheet.sce"
		   ]
		  },
  {
"cell_type": "code",
	   "execution_count": null,
	   "metadata": {
	    "collapsed": true
	   },
	   "outputs": [],
"source": [
"clc\n",
"clear\n",
"//Input data\n",
"d=0.18;//The diameter of the cylinder in m\n",
"pi=3.141;//Mathematical constant of pi\n",
"L=0.24;//The length of the stroke in m\n",
"t=30;//Duration trail in min \n",
"N=9000;//Number of revolutions \n",
"Ne=4450;//Total number of explosions\n",
"pmi=5.35;//Gross imep in bar\n",
"pp=0.35;//Pumping imep in bar\n",
"W=40;//Net load on brake wheel in kg\n",
"dd=0.96;//Diameter of the brake wheel drum in m\n",
"dr=0.04;//Diameter of the rope in m\n",
"V=2.6;//Volume of gas used in m^3\n",
"pg=136;//pressure of gas in mmof Hg\n",
"dg=0.655;//The density of gas in kg/m^3\n",
"T=290;//The ambient temperature of air in K\n",
"CV=19000;//The calorific value of the fuel in kJ/m^3\n",
"ta=40;//Total air used in m^3\n",
"p=720;//Pressure of air in mm of Hg\n",
"Te=340;//Temperature of exhaust gas in degree centigrade \n",
"Cpg=1.1;//Specific heat of gas in kJ/kgK\n",
"C=80;//Cooling water circulated in kg\n",
"Tr=30;//Rise in temperature of cooling water in degree centigrade \n",
"R=287;//Real gas constant in J/kgK\n",
"\n",
"//Calculations\n",
"ip=(pmi-pp)*10^5*L*(pi/4)*d^2*(Ne/(30*60))*(1/1000);//The indicated power in kW\n",
"bp=(pi*(N/(30*60))*W*9.81*(dd+dr)*(1/1000));//The brake power in kW\n",
"pgs=760+(pg/13.6);//Pressure of gas supplied in mm of Hg\n",
"Vg=((pgs*V)/290)*(273/760);//The volume of gas in m^3\n",
"Q=(Vg*CV)/30;//Heat supplied by gas used at NTP in kJ/min\n",
"Qbp=bp*60;//Heat equivalent of bp in kJ/min\n",
"Qc=(C/t)*4.18*Tr;//Heat lost to cooling medium in kJ/min\n",
"Va=[((p*ta)/T)*(273/760)]/30;//Volume of air used in kg/min\n",
"da=(1.013*10^5)/(R*273);//The density of air in kg/m^3\n",
"ma=Va*da;//Mass of air used in kg/min\n",
"mg=(Vg/30)*dg;//Mass of gas at NTP in kg/min\n",
"me=ma+mg;//Total mass of exhaust gas in kg/min\n",
"Qe=me*Cpg*(Te-(T-273));//Heat loss to exhaust gas in kJ/min\n",
"Qu=Q-(Qe+Qc+Qbp);//Unaccounted heat loss in kJ/min\n",
"nm=(bp/ip)*100;//Mechanical efficiency in percent\n",
"ni=((ip*60)/Q)*100;//Indicated thermal efficiency in percent \n",
"x=((Qbp/1571)*100);//percentage heat in bp\n",
"y=((Qc/1571)*100);//Percent heat lost to cooling water \n",
"z=((Qe/1571)*100);//Percent heat to exhaust gases\n",
"k=((Qu/1571)*100);//Percent heat unaccounted \n",
"\n",
"//Output\n",
"printf('--------------------------------------------------------------------------------------------\n           Heatinput        kJ/min        percent     Heat expenditure          kJ/min       percent  \n       ----------------------------------------------------------------------------------------- \n                    Heat                                                                                        \n                   supplied      1571       100        (a) Heat in bp                 %3.1f       %3.1f   \n                                                     (b) Heat loss to cooling water  %3.1f       %3.1f   \n                                                     (c) Heat to exhaust gas         %3.1f       %3.1f   \n                                                       (d) Unaccounted heat           %3.1f      %3.1f \n        -----------------------------------------------------------------------------------------        \n The mechanical efficiency = %3.2f percent \n The Indicated thermal efficiency = %3.1f percent ',Qbp,x,Qc,y,Qe,z,Qu,k,nm,ni)\n",
"        \n",
"\n",
"\n",
""
   ]
   }
,
{
		   "cell_type": "markdown",
		   "metadata": {},
		   "source": [
			"## Example 16.11: Heat_balance_sheet.sce"
		   ]
		  },
  {
"cell_type": "code",
	   "execution_count": null,
	   "metadata": {
	    "collapsed": true
	   },
	   "outputs": [],
"source": [
"clc\n",
"clear\n",
"//Input data\n",
"bp=30;//The brake power in kw\n",
"mf=10;//Mass flow rate of fuel in kg/h\n",
"CV=42000;//Calorific value of the fuel in kJ/kg\n",
"mw=9;//Mass flow rate of water in kg/min\n",
"Tr=60;//Rise in temperature of the cooling water in degree centigrade\n",
"mwe=9.5;//Mass flow rate of water through exhaust gas calorimeter in kg/min\n",
"Tc=40;//Rise in temperature when passing through calorimeter in degree centigrade\n",
"Te=80;//Temperature of exhaust gas leaving the calorimeter in degree centigrade\n",
"a=20;//Air fuel ratio\n",
"T=17;//Ambient temperature in degree centigrade\n",
"Cpw=4.18;//Specific heat of water in kJ/kgK\n",
"Cpg=1;//Mean specific heat of gas in kJ/kgK\n",
"\n",
"//Calculations\n",
"Qf=(mf/60)*CV;//Heat supplied by fuel in kJ/min\n",
"Qbp=bp*60;//Heat equvalent to bp in kJ/min\n",
"Qc=mw*Cpw*Tr;//Heat carried away by the jacket cooling water in kJ/min\n",
"mg=(mf/60)+(mf/60)*a;//Mass of exhaust gas formed in kg/min\n",
"Qe=(mwe*Cpw*Tc)+(mg*Cpg*(Te-T));//Heat carried away by exhaust gas in kJ/min\n",
"Qu=Qf-(Qbp+Qc+Qe);//Unaccounted heat in kJ/min\n",
"x=((Qbp/Qf))*100;//Percentage heat in bp\n",
"y=(Qc/Qf)*100;//Percentage loss of cooling water \n",
"z=(Qe/Qf)*100;//Percentage loaa of heat to exhaust gases\n",
"k=(Qu/Qf)*100;//Percentage heat loss unaccounted\n",
"\n",
"//Output \n",
"printf( '----------------------------------------------------------------------------------------------------\n       Heat input      kJ/min     percent         Heat expenditure              kJ/min        percent    \n      ---------------------------------------------------------------------------------------------------\n  Heat supplied by fuel  %3.0f      100      (a) Heat in bp                   %3.0f            %3.2f     \n                                             (b) Heat loss to cooling water   %3.0f             %3.2f    \n                                             (c) Heat to exhaust gases        %3.0f            %3.2f     \n                                              (d)Unaccounted heat loss         %3.0f            %3.2f    \n        total              %3.0f    100                 total                   %3.0f           100   \n --------------------------------------------------------------------------------------------------- ',Qf,Qbp,x,Qc,y,Qe,z,Qu,k,Qf,Qf)\n",
""
   ]
   }
,
{
		   "cell_type": "markdown",
		   "metadata": {},
		   "source": [
			"## Example 16.12: Heat_balance_sheet.sce"
		   ]
		  },
  {
"cell_type": "code",
	   "execution_count": null,
	   "metadata": {
	    "collapsed": true
	   },
	   "outputs": [],
"source": [
"clc\n",
"clear\n",
"//Input data\n",
"n=4;//Number of cylinders\n",
"d=0.085;//The diameter of the bore m\n",
"L=0.095;//The length of the stroke in m\n",
"tr=0.35;//Torque radius in m\n",
"N=3000;//The speed of the engine in rpm\n",
"w=430;//Net brake load in N\n",
"w1=300;//Net brake load produced at the same speed by three cylinders in N\n",
"mf=0.24;//The mass flow rate of fuel in kg/min\n",
"CV=44000;//The calorific value of the fuel in kJ/kg\n",
"mw=65;//Mass flow rate of water in kg/min\n",
"Tw=12;//The rise in temperature in degree centigrade\n",
"a=15;//The air fuel ratio \n",
"Te=450;//The temperature of the exhaust gas in degree centigrade \n",
"Ta=17;//Ambient temperature in degree centigrade\n",
"p=76;//Barometric pressure in cm of Hg\n",
"H=15.5;//The proportion of hydrogen by mass in the fuel in percent\n",
"Cpe=1;//The mean specific heat of dry exhaust gas in kJ/kgK\n",
"Cps=2;//The specific heat of super heated steam in kJ/kgK\n",
"Cpw=4.18;//The specific heat of water in kJ/kgK\n",
"Ts=100;//At 76 cm of Hg The temperature in degree centigrade \n",
"hfg=2257;//The Enthalpy in kJ/kg\n",
"pi=3.141;//Mathematical constant of pi\n",
"R=287;//Real gas constant in J/kgK\n",
"\n",
"//Calculations\n",
"bp=(2*pi*N*w*tr)/(60*1000);//The brake power in kW\n",
"bp1=(2*pi*N*w1*0.35)/(60*1000);//The brake power when each cylinder is cut off in kW\n",
"ip=bp-bp1;//Indicated power per cycle in kW\n",
"ip1=n*ip;//Indicated power of the engine in kW\n",
"imep=[(ip1*60*1000)/(L*(pi/4)*d^2*(N/2)*n)]/10^5;//The indicated mean effective pressure in bar\n",
"ni=[(ip1*60)/(mf*CV)]*100;//Indicated thermal efficiency in percent\n",
"bsfc=(mf*60)/bp;//Brake specific fuel consumption in kg/kWh\n",
"Vs=(pi/4)*d^2*L*(N/2)*n;//Swept volume in m^3/min\n",
"ma=a*mf;//Mass flow rate of air in kg/min\n",
"da=(1*10^5)/(R*(Ta+273));//The density of air in kg/m^3\n",
"Va=ma/da;//Volume of air flow in m^3/min\n",
"nv=[Va/Vs]*100;//Volumetric efficiency in percent\n",
"Qf=mf*CV;//Heat supplied by fuel in kJ/min\n",
"Qbp=bp*60;//The heat equivalent to bp in kJ/min\n",
"Qc=mw*Cpw*Tw;//Heat lost to cooling water in kJ/min\n",
"mv=9*(H/100)*mf;//Mass of water vapour in kg/min\n",
"me=ma+mf-mv;//Mass of dry exhaust gas in kg/min\n",
"Qe=me*Cpe*(Te-Ta);//Heat carried away by the exhaust gas in kJ/min\n",
"Qs=(mv*([Cpw*(Ts-Ta)]+hfg+(Cps*(Te-Ts))));//Heat lost in steam in kJ/min\n",
"Qu=Qf-(Qbp+Qc+Qe+Qs);//Unaccounted heat loss in kJ/min\n",
"x=(Qbp/Qf)*100;//Percentage of heat in bp\n",
"y=(Qc/Qf)*100;//Percentage of heat loss in colling water\n",
"z=(Qe/Qf)*100;//Percentage heat loss in dry exhaust gas \n",
"k=(Qs/Qf)*100;//Percentage heat lost to steam \n",
"l=(Qu/Qf)*100;//Percentage  of unaccounted heat lost \n",
"\n",
"//Output\n",
"printf('---------------------------------------------------------------------------------------------------\n      Heat input            kJ/min       percent          Heat expenditure         kJ/min      percent   \n  -------------------------------------------------------------------------------------------------------\n  Heat supplied by fuel     %3.0f         100      (a) Heat in bp                   %3.0f         %3.2f  \n                                                   (b) Heat lost to cooling water    %3.0f        %3.2f  \n                                                   (c) Heat to dry exhaust           %3.0f        %3.2f  \n                                                   (d) Heat lost in steam            %3.0f        %3.2f  \n                                                   (e) Unaccounted heat loss         %3.0f        %3.2f  \n         total              %3.0f          100                    Total              %3.0f          100   \n --------------------------------------------------------------------------------------------------------\n \n The indicated mean effective pressure = %3.2f bar \n The indicated thermal efficiency = %3.1f percent \n The brake specific fuel comsumption = %3.4f kg/kWh \n The volumetric efficiency = %3.1f percent ',Qf,Qbp,x,Qc,y,Qe,z,Qs,k,Qu,l,Qf,Qf,imep,ni,bsfc,nv)\n",
"\n",
"\n",
""
   ]
   }
,
{
		   "cell_type": "markdown",
		   "metadata": {},
		   "source": [
			"## Example 16.1: Three_litre_spark_ignition.sce"
		   ]
		  },
  {
"cell_type": "code",
	   "execution_count": null,
	   "metadata": {
	    "collapsed": true
	   },
	   "outputs": [],
"source": [
"clc\n",
"clear\n",
"//Input data\n",
"N=3000;//The speed of the engine in rpm \n",
"r=9;//Compression ratio \n",
"l=17.2;//The length of the connecting rod in cm\n",
"t=20;//The combustion ends at a TDC in degrees\n",
"pi=3.141;//Mathematical constant of pi\n",
"k=3;//Three litre spark engine\n",
"n=6;//V-6 Engine\n",
"\n",
"//Calculations\n",
"Vs=(k/n)*10^-3;//Swept volume per cylinder in m^3\n",
"d=[[(Vs*4)/pi]^(1/3)];//The diameter of the bore in m\n",
"L=d*100;//The length of the stroke in cm\n",
"up=2*d*N/60;//Average piston speed in m/s\n",
"Vc=[Vs/(r-1)]*10^6;//Clearence volume in cm^3\n",
"cr=(L)/2;//Crank radius in cm\n",
"R=l/cr;//The ratio of the connecting rod length to crank radius \n",
"up1=up*[(pi/2)*sin(pi/9)*(1+(cos(pi/9)/(R^2-(sin(pi/9)^2))^(1/2)))];//The piston speed at the end of combustion in m/s\n",
"s=(cr*cos(pi/9))+(l^2-(cr^2)*(sin(pi/9))^2)^(1/2);//Distance between crank axis and wrist pin in cm\n",
"x=l+cr-s;//The distance the piston travels from TDC at the end of combustion in cm\n",
"V=Vc+(pi/4)*(d*100)^2*x;//Instantaneous volume in cm^3\n",
"\n",
"//Output \n",
"printf('(a)The cylinder bore and The stroke length (d = L) = %3.1f cm \n (b) The average piston speed = %3.1f m/s \n (c) The clearence volume of one cylinder = %3.1f cm^3 \n (d) The piston speed at the end of combustion = %3.2f m/s \n (e) The distance the piston travels from TDC at the end of combustion = %3.2f cm \n (f) Instantaneous volume = %3.1f cm^3 ',L,up,Vc,up1,x,V)"
   ]
   }
,
{
		   "cell_type": "markdown",
		   "metadata": {},
		   "source": [
			"## Example 16.2: Single_cylinder_four_stroke.sce"
		   ]
		  },
  {
"cell_type": "code",
	   "execution_count": null,
	   "metadata": {
	    "collapsed": true
	   },
	   "outputs": [],
"source": [
"clc\n",
"clear\n",
"//Input data\n",
"d=0.175;//The diameter of the bore in m\n",
"pi=3.141;//The mathematical constant of pi\n",
"L=0.32;//The length of the stroke in m\n",
"p=6.5;//Mean effective pressure in bar\n",
"pp=0.4;//Pumping loop mean effective pressure in bar\n",
"N=510;//The speed of the engine in rpm\n",
"pm=0.65;//Diagrams from the dead cycle give a mep in bar\n",
"n=55;//Firing strokes per minute \n",
"\n",
"//Calculations\n",
"pmi=p-pp;//The net imep at full load in bar\n",
"c=((N/2)-n);//Dead cycles per minute at no load \n",
"ipw=pmi*10^5*L*(pi/4)*d^2*(n/60)*(1/1000);//Indicating power for working cycles in kW\n",
"Pp=pm*10^5*L*(pi/4)*d^2*(c/60)*(1/1000);//Pumping power of dead cycles in kW\n",
"fp=ipw-Pp;//Power in kW\n",
"fip=pmi*10^5*L*(pi/4)*d^2*(N/(2*60))*(1/1000);//Full load indicated power in kW\n",
"fbp=fip-fp;//Full load break power in kW\n",
"nm=(fbp/fip)*100;//Mechanical efficiency in percent \n",
"\n",
"//Output \n",
"printf(' The full load break power = %3.2f kW \n The mechanical efficiency of the engine = %3.1f percent ',fbp,nm)"
   ]
   }
,
{
		   "cell_type": "markdown",
		   "metadata": {},
		   "source": [
			"## Example 16.3: The_bmep.sce"
		   ]
		  },
  {
"cell_type": "code",
	   "execution_count": null,
	   "metadata": {
	    "collapsed": true
	   },
	   "outputs": [],
"source": [
"clc\n",
"clear\n",
"//Input data\n",
"d=0.09;//The diameter of the bore in m\n",
"L=0.1;//The length of the stroke in m\n",
"T=120;//The torque measured in Nm\n",
"pi=3.141;//Mathematical constant of pi\n",
"n=4;//Number of cylinders \n",
"\n",
"//Calculations \n",
"pmb=[(4*pi*T)/(L*(pi/4)*d^2*n)]/10^5;//The brake mean effective pressure in bar \n",
"\n",
"//Output \n",
"printf('The brake mean effective pressure = %3.2f bar',pmb)"
   ]
   }
,
{
		   "cell_type": "markdown",
		   "metadata": {},
		   "source": [
			"## Example 16.4: Four_cylinder_SI_engine.sce"
		   ]
		  },
  {
"cell_type": "code",
	   "execution_count": null,
	   "metadata": {
	    "collapsed": true
	   },
	   "outputs": [],
"source": [
"clc\n",
"clear\n",
"//Input data\n",
"d=0.06;//The diameter of the bore in m \n",
"L=0.085;//The length of the stroke in m\n",
"N=3000;//The speed of the engine in rpm\n",
"r=0.35;//Torque arm radius in m\n",
"W=160;//Weight in N\n",
"pi=3.141;//Mathemetical constant\n",
"f=6.6;//Fuel consumption in l/h\n",
"g=0.78;//specific gravity of the fuel \n",
"CV=44000;//The calorific value of the fuel in kJ/kg\n",
"w1=114;//Brake load for cylinder 1 in N\n",
"w2=110;//Brake load for cylinder 2 in N\n",
"w3=112;//Brake load for cylinder 3 in N\n",
"w4=116;//Brake load for cylinder 4 in N\n",
"n=4;//Number of cylinders\n",
"\n",
"//Calculations\n",
"Vf=(f*10^-3)/3600;//Volume flow rate of fuel in m^3/s\n",
"df=g*1000;//The density of the fuel in kg/m^3\n",
"mf=df*Vf;//Mass flow rate of fuel in kg/s\n",
"T=W*r;//Torque in Nm\n",
"bp=(2*pi*N*T)/(60*1000);//The brake power in kW\n",
"pmb=[(120*bp*1000)/(L*(pi/4)*d^2*N*n)]/10^5;//Brake mean effective pressure in bar\n",
"nb=[(bp)/(mf*CV)]*100;//The brake thermal efficiency in percent\n",
"bsfc=(mf*3600)/bp;//Brake specific fuel consumption in kg/kWh\n",
"bp1=[(2*pi*N*w1*r)/(60*1000)];//Brake power from morse test in kW\n",
"ip1=bp-bp1;//Indicated power in kW\n",
"ip2=bp-[(2*pi*N*w2*r)/(60*1000)];//Indicated power in kW\n",
"ip3=bp-[(2*pi*N*w3*r)/(60*1000)];//Indicated power in kW\n",
"ip4=bp-[(2*pi*N*w4*r)/(60*1000)];//Indicated power in kW\n",
"ip=ip1+ip2+ip3+ip4;//Total indicated power in kW\n",
"nm=(bp/ip)*100;//Mechanical efficiency in %\n",
"pmi=pmb/(nm/100);//The imep in bar\n",
"\n",
"//Output\n",
"printf('The brake power = %3.2f kW \n The brake mean effective pressure = %3.2f bar \n The brake thermal efficiency = %3.0f percent \n The brake specific fuel consumption = %3.3f kg/kWh \n The indicated power = %3.2f kW \n The mechanical efficiency = %3.1f percent \n The indicated mean effective pressure = %3.1f bar ',bp,pmb,nb,bsfc,ip,nm,pmi)"
   ]
   }
,
{
		   "cell_type": "markdown",
		   "metadata": {},
		   "source": [
			"## Example 16.5: The_efficiencies.sce"
		   ]
		  },
  {
"cell_type": "code",
	   "execution_count": null,
	   "metadata": {
	    "collapsed": true
	   },
	   "outputs": [],
"source": [
"clc\n",
"clear\n",
"//Input data\n",
"d=0.15;//The diameter of the bore in m\n",
"L=0.16;//The length of the stroke in m\n",
"N=500;//The speed of the engine in rpm\n",
"mf=0.0475;//Fuel consumption in kg/min\n",
"CV=42000;//The calorific value in kJ/kg\n",
"w=400;//The tension on either side of the pulley in N\n",
"c=2.2;//Brake circumference in m\n",
"l=50;//Length of the indicator diagram in mm\n",
"ap=475;//Area of the positive loop of indicator diagram in mm^2\n",
"an=25;//Area of the negative loop of indicator diagram in mm^2\n",
"s=0.8333;//Spring constant in bar/mm\n",
"pi=3.141;//Mathematical constant of pi\n",
"\n",
"//Calculations\n",
"r=c/(2*pi);//Arm length in m\n",
"T=w*r;//Torque in Nm\n",
"bp=(2*pi*N*T)/(60*1000);//Brake power in kW\n",
"M=(ap-an)/l;//Mean height of indicator diagram in mm\n",
"imep=M*s;//Indicated mean effective pressure in bar\n",
"ip=(imep*10^5*L*(pi/4)*d^2*(N/(2*60))*(1/1000));//Indicated power in kW\n",
"nm=(bp/ip)*100;//The mechanical efficiency in percent\n",
"nb=[(bp*60)/(mf*CV)]*100;//The brake thermal efficiency in percent\n",
"ni=[(nb/100)/(nm/100)]*100;//The indicated thermal efficiency in percent\n",
"bsfc=(mf*60)/bp;//Brake specific fuel consumption in kg/kWh\n",
"\n",
"//Output\n",
"printf('(a) The brake power = %3.2f kW \n (b) The indicated power = %3.3f kW \n (c) The mechanical efficiency = %3.0f percent \n (d) The brake thermal efficiency = %3.2f percent \n (e) The indicated thermal efficiency = %3.1f percent \n (f) The brake specific fuel consumption = %3.3f kg/kWh ',bp,ip,nm,nb,ni,bsfc)"
   ]
   }
,
{
		   "cell_type": "markdown",
		   "metadata": {},
		   "source": [
			"## Example 16.6: Eight_cylinder_four_stroke_SI_engine.sce"
		   ]
		  },
  {
"cell_type": "code",
	   "execution_count": null,
	   "metadata": {
	    "collapsed": true
	   },
	   "outputs": [],
"source": [
"clc\n",
"clear\n",
"//Input data\n",
"n=8;//Number of cylinders\n",
"d=0.08;//The diameter of the bore in m\n",
"L=0.1;//The length of the stroke in m\n",
"N=4500;//The speed of the engine in rpm \n",
"dy=0.55;//The dynamometer readings in m\n",
"w=40;//The weight of the dynamometer scale reading in kg\n",
"c=100;//Fuel consumption in cc\n",
"t=9.5;//Time taken for fuel consumption in s\n",
"CV=44000;//The calorific value of the fuel in kJ/kg\n",
"p=1;//The atmospheric air pressure in bar\n",
"T=300;//The atmospheric air temperature in K\n",
"pi=3.141;//Mathematical constant of pi\n",
"ma=6;//Mass flow rate of air in kg/min\n",
"g=0.7;//Specific gravity of the fuel \n",
"Vc=65;//The clearance volume of each cylinder in cc\n",
"R=287;//Real gas constant in J/kgK\n",
"g=1.4;//Isentropic index\n",
"\n",
"//Calculations\n",
"bp=(2*pi*N*dy*w*9.81)/(60*1000);//The brake power in kW\n",
"bmep=[(bp*1000*60)/(L*(pi/4)*d^2*(N/2)*n)]/10^5;//The brake mean effective pressure in bar\n",
"mf=(c*g*3600)/(t*2*1000);//The mass flow rate of fuel in kg/h\n",
"bsfc=(mf/bp);//Brake specific fuel consumption in kg/kWh\n",
"bsac=(ma*60)/bp;//Brake specific air consumption in kg/kWh\n",
"a=bsac/bsfc;//Air fuel ratio\n",
"nb=((bp*3600)/(mf*CV))*100;//The brake thermal efficiency in percent\n",
"Va=(ma*R*T)/(p*10^5);//The volume flow rate of air at intake condition in m^3/min\n",
"Vs=(pi/4)*d^2*L*(N/2)*n;//The swept volume per minute in m^3/min\n",
"nv=(Va/Vs)*100;//Volumetric efficiency in percent\n",
"Vs1=[(pi/4)*d^2*L]*10^6;//Swept volume per cylinder in cc\n",
"cr=(Vs1+Vc)/Vc;//Compression ratio \n",
"na=[1-(1/cr)^(g-1)]*100;//Air standard efficiency in percent \n",
"re=[(nb)/(na)]*100;//Relative efficiency in percent\n",
"\n",
"//Output\n",
"printf( 'The brake power = %3.1f kW \n The brake mean effective pressure = %3.3f bar \n The brake specific fuel consumption = %3.3f kg/kWh \n The brake specific air consumption = %3.2f kg/kWh \n The air fuel ratio = %3.2f \n The brake thermal efficiency = %3.1f percent \n The volumetric efficiency = %3.1f percent \n The relative efficiency = %3.1f percent ',bp,bmep,bsfc,bsac,a,nb,nv,re)\n",
"\n",
""
   ]
   }
,
{
		   "cell_type": "markdown",
		   "metadata": {},
		   "source": [
			"## Example 16.7: Six_cylinder_four_stroke.sce"
		   ]
		  },
  {
"cell_type": "code",
	   "execution_count": null,
	   "metadata": {
	    "collapsed": true
	   },
	   "outputs": [],
"source": [
"clc\n",
"clear\n",
"//Input data\n",
"n=6;//Number of cylinders\n",
"Do=0.03;//Orifice diameter in m\n",
"Cd=0.6;//Coefficient of discharge \n",
"H=0.14;//Pressure drop across the orifice\n",
"d=0.1;//The diameter of the bore in m\n",
"L=0.11;//The length of the stroke in m\n",
"W=540;//Brake load in N\n",
"N=2500;//Engine speed in rpm\n",
"ch=83/17;//C/H ratio by mass\n",
"p=1;//Ambient pressure in bar\n",
"t=18;//Time taken for fuel consumption in s\n",
"f=100;//The amount of fuel consumption in cc\n",
"T=300;//Ambient air temperature in K\n",
"df=780;//The density of the fuel in kg/m^3\n",
"R=287;//Real gas constant in J/kgK\n",
"g=9.81;//Gravitational force constant in m/s^2\n",
"pi=3.141;//Mathematical constant\n",
"dhg=13600;//Density of Hg in kg/m^3\n",
"\n",
"//Calculations\n",
"da=(p*10^5)/(R*T);//The density of air in kg/m^3\n",
"Va=(Cd*(pi/4)*Do^2*[2*g*H*(dhg/da)]^(1/2));//Volume flow rate of air in m^3/s\n",
"Vs=(pi/4)*d^2*L*(N/(2*60))*n;//Swept volume per second in m^3/s\n",
"nv=(Va/Vs)*100;//Volumetric efficiency in percent\n",
"bp=(W*N)/(20000);//The brake power in kW\n",
"bmep=[(bp*1000)/(L*(pi/4)*d^2*(N/(2*60))*n)]/10^5;//The brake mean effective pressure in bar\n",
"T=(60*bp*1000)/(2*pi*N);//Torque in Nm\n",
"mf=(f/18)*(780/1000)*(1/1000)*3600;//Mass flow rate of fuel in kg/h\n",
"bsfc=mf/bp;//The brake specific fuel consumption in kg/kWh\n",
"so=(0.83*(32/12))+(0.17*(8/1));//Stoichiometric oxygen required per kg of fuel in kg/kg fuel\n",
"sa=so/bsfc;//Stoichiometric air required in kg/kg fuel\n",
"maa=Va*da;//Actual mass flow rate of air in kg/s\n",
"af=(maa*3600)/mf;//Actual air fuel ratio \n",
"pea=[(af-sa)/sa]*100;//Percentage of excess air in percent\n",
"\n",
"//Output\n",
"printf('The volumetric efficiency = %3.1f percent \n The brake mean effective pressure = %3.2f bar \n The brake power = %3.1f kW \n The Torque = %3.1f Nm \n The brake specific fuel consumption = %3.3f kg/kWh \n The percentage of excess air = %3.1f percent ',nv,bmep,bp,T,bsfc,pea)\n",
"\n",
"\n",
"\n",
""
   ]
   }
,
{
		   "cell_type": "markdown",
		   "metadata": {},
		   "source": [
			"## Example 16.8: The_efficiencies.sce"
		   ]
		  },
  {
"cell_type": "code",
	   "execution_count": null,
	   "metadata": {
	    "collapsed": true
	   },
	   "outputs": [],
"source": [
"clc\n",
"clear\n",
"//Input data\n",
"d=0.2;//The diameter of bore in m\n",
"L=0.3;//The length of the stroke in m\n",
"r=5.5;//The compression ratio of the engine\n",
"N=400;//The speed of the engine in rpm\n",
"imep=4.5;//The indicative mean effective pressure in bar\n",
"a=6;//Air to gas by volume \n",
"CV=12000;//The calorific value of the gas in kJ/m^3\n",
"T=340;//The temperature at the beginning of the compression stroke in K\n",
"p=0.97;//The pressure at the beginning of the compression stroke in bar\n",
"pi=3.141;//The mathematical constant of pi\n",
"g=1.4;//Adiabatic index\n",
"\n",
"//Calculations\n",
"Vs=(pi/4)*d^2*L;//The swept volume in m^3\n",
"Vc=Vs/(r-1);//The clearance volume in m^3\n",
"V=Vs+Vc;//Total cylinder volume in m^3\n",
"Vg=V/7;//Volume of the gas in total cylinder volume in m^3\n",
"Vntp=((p*Vg)/T)*(273/1.013);//Volume of gas at NTP in m^3\n",
"Q=Vntp*CV*(N/(2*60));//Heat supplied by the fuel in kJ/s\n",
"ip=(imep*10^5*L*(pi/4)*d^2*(N/(2*60))*(1/1000));//Indicated power in kW\n",
"ni=(ip/Q)*100;//Indicated thermal efficincy in percent\n",
"na=[1-(1/r)^(g-1)]*100;//Air standard efficiency in percent \n",
"nr=(ni/na)*100;//Relative efficiency based on indicated thermal efficiency in percent\n",
"\n",
"//Output\n",
"printf('The indicated power = %3.2f kW \n The thermal efficiency = %3.1f percent \n The relative efficiency = %3.1f percent ',ip,ni,nr)"
   ]
   }
,
{
		   "cell_type": "markdown",
		   "metadata": {},
		   "source": [
			"## Example 16.9: Six_cylinder_four_stroke.sce"
		   ]
		  },
  {
"cell_type": "code",
	   "execution_count": null,
	   "metadata": {
	    "collapsed": true
	   },
	   "outputs": [],
"source": [
"clc\n",
"clear\n",
"//Input data\n",
"n=6;//Number of cylinder\n",
"bp=130;//Brake power in kW\n",
"N=1800;//The speed of the engine in rpm \n",
"CV=42000;//The calorific value of the fuel in kJ/kg\n",
"C=86;//The composition of carbon in the fuel in percent\n",
"H=13;//The composition of Hydrogen in the fuel in percent\n",
"NC=1;//The non combustibles present in the fuel in percent\n",
"na=85;//The absolute volumetric efficiency in percent\n",
"ni=38;//The indicated thermal efficiency in percent\n",
"nm=80;//The mechanical efficiency in percent\n",
"ac=110;//The excess consumption of air in percent\n",
"sb=1.2;//The stroke to the bore ratio \n",
"da=1.3;//The density of air in kg/m^3\n",
"pi=3.141;//Mathematical constant of pi\n",
"\n",
"//Calculations \n",
"saf=(((C/100)*(32/12))+((H/100)*(8/1)))*(1/0.23);//The stoichiometric air fuel ratio \n",
"aaf=saf*(1+1.1);//The actual air fuel ratio \n",
"Ma=(0.23*32)+(0.77*28);//The molecular weight of air in kg/kmol\n",
"a=(C/100)/12;//For carbon balance \n",
"b=(H/100)/2;//For hydrogen balace \n",
"x=aaf/Ma;//Number of kmol of air per kg of fuel \n",
"c=(0.21*x)-a-(b/2);//For oxygen balance\n",
"d1=0.79*x;//For nitrogen balance\n",
"ip=bp/(nm/100);//The indicated power in kW\n",
"mf=ip/[(ni/100)*CV];//The mass flow rate of fuel in kg/s\n",
"ma=mf*aaf;//The mass flow rate of air in kg/s\n",
"Va=ma/da;//Actual volume flow rate in m^3/s\n",
"Vs=Va/(na/100);//The swept volume per second in m^3/s\n",
"d=[[Vs*(4/pi)*(1/1.2)*((2*60)/N)*(1/n)]^(1/3)]*1000;//The diameter of the bore in mm\n",
"L=1.2*d;//The length of the stroke in mm\n",
"T=a+c+d1;//The total composition in kmol\n",
"CO2=(a/T)*100;//The volume of CO2 in %\n",
"O2=(c/T)*100;//The volume of O2 in %\n",
"N2=(d1/T)*100;//The volume of N2 in %\n",
"\n",
"//Output\n",
"printf(' The volumetric composition of dry exhaust gas : \n   1) CO2 = %3.5f kmol   and   volume = %3.2f percent \n   2) O2 = %3.5f kmol   and   volume = %3.2f percent \n   3) N2 = %3.5f kmol   and   volume = %3.2f percent \n The bore of the engine = %3.0f mm \n The stroke of the engine = %3.1f mm ',a,CO2,c,O2,d1,N2,d,L)\n",
""
   ]
   }
],
"metadata": {
		  "kernelspec": {
		   "display_name": "Scilab",
		   "language": "scilab",
		   "name": "scilab"
		  },
		  "language_info": {
		   "file_extension": ".sce",
		   "help_links": [
			{
			 "text": "MetaKernel Magics",
			 "url": "https://github.com/calysto/metakernel/blob/master/metakernel/magics/README.md"
			}
		   ],
		   "mimetype": "text/x-octave",
		   "name": "scilab",
		   "version": "0.7.1"
		  }
		 },
		 "nbformat": 4,
		 "nbformat_minor": 0
}
