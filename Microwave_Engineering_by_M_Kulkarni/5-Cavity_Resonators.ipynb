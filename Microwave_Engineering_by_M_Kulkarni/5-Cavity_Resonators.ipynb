{
"cells": [
 {
		   "cell_type": "markdown",
	   "metadata": {},
	   "source": [
       "# Chapter 5: Cavity Resonators"
	   ]
	},
{
		   "cell_type": "markdown",
		   "metadata": {},
		   "source": [
			"## Example 5.1: Determine_the_minimum_distance_between_two_end_plates.sce"
		   ]
		  },
  {
"cell_type": "code",
	   "execution_count": null,
	   "metadata": {
	    "collapsed": true
	   },
	   "outputs": [],
"source": [
"//Caption:Determine the minimum distance between two end plates\n",
"//Exa:5.1\n",
"clc;\n",
"clear;\n",
"close;\n",
"//Given: \n",
"a=3;//in cm\n",
"c=3*10^10;//in cm/s\n",
"f=10*10^9;//in Hz\n",
"P_01=2.405;\n",
"d=%pi/sqrt(f^2*4*%pi^2/c^2-(P_01/a)^2);\n",
"disp(d,'Minimum distance (in cm) =');"
   ]
   }
,
{
		   "cell_type": "markdown",
		   "metadata": {},
		   "source": [
			"## Example 5.2: Calculate_the_lowest_frequency_of_a_rectangular_cavity_resonator.sce"
		   ]
		  },
  {
"cell_type": "code",
	   "execution_count": null,
	   "metadata": {
	    "collapsed": true
	   },
	   "outputs": [],
"source": [
"//Caption:Calculate the lowest frequency of a rectangular cavity resonator\n",
"//Exa:5.2\n",
"clc;\n",
"clear;\n",
"close;\n",
"//Given:\n",
"c=3*10^10;//in cm/s\n",
"a=2;//in cm\n",
"b=1;//in cm\n",
"d=3; //in cm\n",
"disp('Dominant mode is TE101');\n",
"m=1;\n",
"n=0;\n",
"p=1;\n",
"f=(c/2)*[(m/a)^2+(n/b)^2+(p/d)^2]^0.5;\n",
"disp(f/10^9,'Lowest resonant frequency(in GHz) =');"
   ]
   }
,
{
		   "cell_type": "markdown",
		   "metadata": {},
		   "source": [
			"## Example 5.3: Calculate_the_resonant_frequency_of_a_circular_cavity_resonator.sce"
		   ]
		  },
  {
"cell_type": "code",
	   "execution_count": null,
	   "metadata": {
	    "collapsed": true
	   },
	   "outputs": [],
"source": [
"//Caption:Calculate the resonant frequency of a circular cavity resonator\n",
"//Exa:5.3\n",
"clc;\n",
"clear;\n",
"close;\n",
"//Given:\n",
"d=12.5;//diameter(in cm)\n",
"c=3*10^10;//in cm/s\n",
"l=5;//length(in cm)\n",
"a=d/2;\n",
"//For TM012 mode:\n",
"n=0;\n",
"m=1;\n",
"p=2;\n",
"P=2.405;\n",
"f=(c/(2*%pi))*[(P/a)^2+(p*%pi/d)^2]^0.5;\n",
"disp(f/10^9,'Resonant frequency (in GHz) =');\n",
"\n",
"//Answer in book in wrongly given as 6.27GHz "
   ]
   }
,
{
		   "cell_type": "markdown",
		   "metadata": {},
		   "source": [
			"## Example 5.4: Calculate_the_resonant_frequency_of_a_circular_cavity_resonator.sce"
		   ]
		  },
  {
"cell_type": "code",
	   "execution_count": null,
	   "metadata": {
	    "collapsed": true
	   },
	   "outputs": [],
"source": [
"//Caption:Calculate the resonant frequency of a circular cavity resonator\n",
"//Exa:5.4\n",
"clc;\n",
"clear;\n",
"close;\n",
"//Given:\n",
"c=3*10^10;//in cm/s\n",
"a=3;//in cm\n",
"b=2;//in cm\n",
"d=4;//in cm\n",
"//For TE101:\n",
"m=1;\n",
"n=0;\n",
"p=1;\n",
"f=(c/2)*[(m/a)^2+(n/b)^2+(p/d)^2]^0.5;\n",
"disp(f/10^9,'Resonant frequency(in GHz) =');"
   ]
   }
],
"metadata": {
		  "kernelspec": {
		   "display_name": "Scilab",
		   "language": "scilab",
		   "name": "scilab"
		  },
		  "language_info": {
		   "file_extension": ".sce",
		   "help_links": [
			{
			 "text": "MetaKernel Magics",
			 "url": "https://github.com/calysto/metakernel/blob/master/metakernel/magics/README.md"
			}
		   ],
		   "mimetype": "text/x-octave",
		   "name": "scilab",
		   "version": "0.7.1"
		  }
		 },
		 "nbformat": 4,
		 "nbformat_minor": 0
}
