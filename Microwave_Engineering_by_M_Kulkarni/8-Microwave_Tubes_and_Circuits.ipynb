{
"cells": [
 {
		   "cell_type": "markdown",
	   "metadata": {},
	   "source": [
       "# Chapter 8: Microwave Tubes and Circuits"
	   ]
	},
{
		   "cell_type": "markdown",
		   "metadata": {},
		   "source": [
			"## Example 8.10: EX8_10.sce"
		   ]
		  },
  {
"cell_type": "code",
	   "execution_count": null,
	   "metadata": {
	    "collapsed": true
	   },
	   "outputs": [],
"source": [
"//Caption:Calculate (i)-electron velocity,(ii)-dc transit time, (iii)-input voltage for maximum output voltage,(iv)-voltage gain in dB\n",
"//Exa:8.10\n",
"clc;\n",
"clear;\n",
"close;\n",
"V_o=900;//in volts\n",
"I_o=30*10^-3;//in A\n",
"f=8*10^9;//in Hz\n",
"d=0.001;//in m\n",
"l=0.04;//in m\n",
"R_sh=40*10^3;//in ohm\n",
"v_o=0.593*10^6*sqrt(V_o);\n",
"T_o=l/v_o;\n",
"Theeta_o=(2*%pi*f)*T_o;//Transit angles between cavities(in radian)\n",
"Theeta_g=(2*%pi*f)*d/v_o;//Average gap transit angle (in radian)\n",
"b=sin(Theeta_g/2)/(Theeta_g/2);\n",
"V_in_max=V_o*3.68/(b*Theeta_o);\n",
"//As, {J(X)/X=0.582}\n",
"A_r=b^2*Theeta_o*0.582*R_sh/(30*10^3*1.841);\n",
"disp(v_o,'Electron velocity (in m/s) =');\n",
"disp(T_o,'Dc Transit Time (in sec)=');\n",
"disp(V_in_max,'Maximum input voltage (in volts) =');\n",
"disp(A_r,'Voltage gain (in dB) =');"
   ]
   }
,
{
		   "cell_type": "markdown",
		   "metadata": {},
		   "source": [
			"## Example 8.11: EX8_11.sce"
		   ]
		  },
  {
"cell_type": "code",
	   "execution_count": null,
	   "metadata": {
	    "collapsed": true
	   },
	   "outputs": [],
"source": [
"//Caption:Calculate (i)-dc electron velocity,(ii)-dc phase constant, (iii)-plasma frequency, (iv)-reduced plasma frequency for R=0.5, (v)-dc beam current beam density, (vi)-instantaneous beam current density\n",
"//Exa:8.11\n",
"clc;\n",
"clear;\n",
"close;\n",
"V_o=20*10^3;//in volts\n",
"I_o=2;//in A\n",
"f=10*10^9;//in Hz\n",
"p_o=10^-6;//in c/m^3\n",
"p=10^-8;//in c/m^3\n",
"v=10^5;//in m/s\n",
"R=0.5;\n",
"v_o=0.593*10^6*sqrt(V_o);\n",
"k=2*%pi*f/v_o;\n",
"w_p=[1.759*10^11*(10^-6/(8.854*10^-12))]^0.5;\n",
"w_q=R*w_p;\n",
"J_o=p_o*v_o;\n",
"J=p*v_o-p_o*v;\n",
"disp(v_o,'Dc electron velocity (in m/s) =');\n",
"disp(k,'Dc phase constant (in rad/s) =');\n",
"disp(w_p,'Plasma frequency (in rad/s) =');\n",
"disp(w_q,'Reduced plasma frequency (in rad/s) =');\n",
"disp(J_o,'Dc beam current density (in A/sq. m) =');\n",
"disp(J,'Instantaneous beam current density(in A/sq. m) =');"
   ]
   }
,
{
		   "cell_type": "markdown",
		   "metadata": {},
		   "source": [
			"## Example 8.12: Calculate_the_gap_transit_angle.sce"
		   ]
		  },
  {
"cell_type": "code",
	   "execution_count": null,
	   "metadata": {
	    "collapsed": true
	   },
	   "outputs": [],
"source": [
"//Caption:Calculate the gap transit angle\n",
"//Exa:8.12\n",
"clc;\n",
"clear;\n",
"close;\n",
"V_o=1000;//Anode voltage(in volts)\n",
"gap=0.002;//in m\n",
"f=5*10^9;//in Hz\n",
"L=2.463*10^-3;//length of drift region (in m)\n",
"u_o=5.93*10^5*sqrt(V_o);//in m/s\n",
"Theeta_g=2*%pi*f*2*10^-3/u_o;//radians\n",
"disp(Theeta_g,'Transit angle(in radians) =');"
   ]
   }
,
{
		   "cell_type": "markdown",
		   "metadata": {},
		   "source": [
			"## Example 8.13: Calculate_the_input_rf_voltage_and_voltage_gain_and_efficiency.sce"
		   ]
		  },
  {
"cell_type": "code",
	   "execution_count": null,
	   "metadata": {
	    "collapsed": true
	   },
	   "outputs": [],
"source": [
"//Caption:Calculate (i)-i/p rf voltage,(ii)-voltage gain, (iii)-efficiency \n",
"//Exa:8.13\n",
"clc;\n",
"clear;\n",
"close;\n",
"V_o=1200;//in volts\n",
"I_o=30*10^-3;//in A\n",
"f=10*10^9;//inHz\n",
"d=0.001;//in m\n",
"l=0.04;//in m\n",
"R_sh=40*10^3;//in ohms\n",
"v_o=0.593*10^6*sqrt(V_o);\n",
"Theeta_o=2*%pi*f*l/(20.54*10^6);\n",
"X=1.84;//for maximum output power\n",
"V_max=2*X*V_o/122.347;\n",
"Theeta_g=122.347*10^-3/(4*10^-2);\n",
"Beeta_i=sin(Theeta_g/2)/(Theeta_g/2);\n",
"V_1_max=V_max/Beeta_i;\n",
"J=0.58;\n",
"Beeta_o=Beeta_i;\n",
"I_2=2*I_o*J;\n",
"V_2=Beeta_o*I_2*R_sh;\n",
"A_v=V_2/V_1_max;//in dB\n",
"eff=0.58*(V_2/V_o)*100;//in percentage\n",
"disp(V_1_max,'Input rf voltage(in volts) =');\n",
"disp(A_v,'Voltage gain (in dB) =');\n",
"disp(eff,'Maximum efficiency (in percentage) =');\n",
"\n",
"//Answer in book is wrongly given as: A_v=24.33 dB"
   ]
   }
,
{
		   "cell_type": "markdown",
		   "metadata": {},
		   "source": [
			"## Example 8.14: EX8_14.sce"
		   ]
		  },
  {
"cell_type": "code",
	   "execution_count": null,
	   "metadata": {
	    "collapsed": true
	   },
	   "outputs": [],
"source": [
"//Caption:Calculate (i)-cyclotron angular frequency, (ii)-cut-off voltage, (iii)-cut-off magnetic flux\n",
"//Exa:8.14\n",
"clc;\n",
"clear;\n",
"close;\n",
"e_m_ratio=1.759*10^11;//(e/m)\n",
"a=0.04;\n",
"b=0.08;\n",
"V_o=30*10^3;//in volts\n",
"I_o=80;//in A\n",
"B_o=0.01;//in weber/sq.m\n",
"w=(e_m_ratio)*B_o;\n",
"disp(w,'Cyclotron angular frequency( in rad/s) =');\n",
"V_c={(e_m_ratio)*B_o^2*b^2*[1-(a/b)^2]^2}/8;\n",
"disp(V_c,'Cut-off voltage (in volts) =');\n",
"B_c=sqrt(8*V_o/e_m_ratio)/[[1-(a/b)^2]*(b)];//in weber/m^2\n",
"disp(B_c*10^3,'Cut-off magnetic flux density (in milli weber/sq. m) =');"
   ]
   }
,
{
		   "cell_type": "markdown",
		   "metadata": {},
		   "source": [
			"## Example 8.15: Calculate_the_input_power_and_output_power_in_watts_and_efficiency.sce"
		   ]
		  },
  {
"cell_type": "code",
	   "execution_count": null,
	   "metadata": {
	    "collapsed": true
	   },
	   "outputs": [],
"source": [
"//Caption:Calculate (i)-input power ,(ii)-output power in watts, (iii)-efficiency \n",
"//Exa:8.15\n",
"clc;\n",
"clear;\n",
"close;\n",
"n=2;\n",
"V_o=280;//in volts\n",
"I_o=22*10^-3;//in A\n",
"V_i=30;//in volts\n",
"J=1.25;//J(X')\n",
"P_dc=V_o*I_o;\n",
"P_ac=2*V_o*I_o*J/(2*n*%pi-%pi/2);\n",
"eff=(P_ac/P_dc)*100;\n",
"disp(P_dc,'Input power (in watts) =');\n",
"disp(P_ac,'Output power (in watts) =');\n",
"disp(eff,'Efficiency (in percent) =');"
   ]
   }
,
{
		   "cell_type": "markdown",
		   "metadata": {},
		   "source": [
			"## Example 8.16: EX8_16.sce"
		   ]
		  },
  {
"cell_type": "code",
	   "execution_count": null,
	   "metadata": {
	    "collapsed": true
	   },
	   "outputs": [],
"source": [
"//Caption:Calculate (i)-repeller voltage V_r ,(ii)-beam current necessary to give gap voltage of 200V\n",
"//Exa:8.16\n",
"clc;\n",
"clear;\n",
"close;\n",
"e_m_ratio=1.759*10^11;//(e/m)\n",
"V_o=300;//in volts\n",
"R_sh=20*10^3;//in ohms\n",
"f=8*10^9;//inHz\n",
"w=2*%pi*f;\n",
"n=2;//mode\n",
"L=0.001;//spacing between repeller & cavity (in m)\n",
"x=(e_m_ratio)*(2*%pi*n-%pi/2)^2/(8*w^2*L^2);\n",
"volt_diff=sqrt(V_o/(x));\n",
"V_r=(volt_diff)+V_o;//repeller volatge\n",
"J=0.582;\n",
"V_1=200;//given (in volts)\n",
"I_o=V_1/(R_sh*2*J);\n",
"disp(V_r,'Repeller voltage(in volts) =');\n",
"disp(I_o*10^3,'Necessary beam current (in milliAmp.s) =');"
   ]
   }
,
{
		   "cell_type": "markdown",
		   "metadata": {},
		   "source": [
			"## Example 8.1: EX8_1.sce"
		   ]
		  },
  {
"cell_type": "code",
	   "execution_count": null,
	   "metadata": {
	    "collapsed": true
	   },
	   "outputs": [],
"source": [
"//Caption:Calculate (i)-dc electron velocity,(ii)-dc phase constant, (iii)-plasma frequency, (iv)-reduced plasma frequency for R=0.4, (v)-dc beam current beam density, (vi)-instantaneous beam current density\n",
"//Exa:8.1\n",
"clc;\n",
"clear;\n",
"close;\n",
"V_o=14.5*10^3;//in volts\n",
"I_o=1.4;//in A\n",
"f=10*10^9;//in Hz\n",
"p_o=10^-6;//in c/m^3\n",
"p=10^-8;//in c/m^3\n",
"v=10^5;//in m/s\n",
"R=0.4;\n",
"v_o=0.593*10^6*sqrt(V_o);\n",
"k=2*%pi*f/v_o;\n",
"w_p=[1.759*10^11*(10^-6/(8.854*10^-12))]^0.5;\n",
"w_q=R*w_p;\n",
"J_o=p_o*v_o;\n",
"J=p*v_o+p_o*v;\n",
"disp(v_o,'Dc electron velocity (in m/s) =');\n",
"disp(k,'Dc phase constant (in rad/s) =');\n",
"disp(w_p,'Plasma frequency (in rad/s) =');\n",
"disp(w_q,'Reduced plasma frequency (in rad/s) =');\n",
"disp(J_o,'Dc beam current density (in A/sq. m) =');\n",
"disp(J,'Instantaneous beam current density(in A/sq. m) =');\n",
"\n",
"//Answer in book are wrongly written as: (Dc phase constant =1.41* 10^8 rad/sec)"
   ]
   }
,
{
		   "cell_type": "markdown",
		   "metadata": {},
		   "source": [
			"## Example 8.2: EX8_2.sce"
		   ]
		  },
  {
"cell_type": "code",
	   "execution_count": null,
	   "metadata": {
	    "collapsed": true
	   },
	   "outputs": [],
"source": [
"//Caption:Calculate (i)-input rms voltage,(ii)-output rms voltage, (iii)-power delivered to load \n",
"//Exa:8.2\n",
"clc;\n",
"clear;\n",
"close;\n",
"A_v=15;//in dB\n",
"P_i=5*10^-3;//in W\n",
"R_sh_i=30000;//in ohms\n",
"R_sh_o=40000;//in ohms\n",
"R_l=20000;//in ohms\n",
"V_i=sqrt(P_i*R_sh_i);\n",
"V_o=10^((A_v/20))*12.25;\n",
"P_out=V_o^2/R_l;\n",
"disp(V_i,'Input rms voltage (in volts) =');\n",
"disp(V_o,'Output rms voltage (in volts) =');\n",
"disp(P_out,'Power delivered to load (in watts) =');"
   ]
   }
,
{
		   "cell_type": "markdown",
		   "metadata": {},
		   "source": [
			"## Example 8.3: Calculate_the_input_power_in_watts_and_output_power_in_watts_and_efficiency.sce"
		   ]
		  },
  {
"cell_type": "code",
	   "execution_count": null,
	   "metadata": {
	    "collapsed": true
	   },
	   "outputs": [],
"source": [
"//Caption:Calculate (i)-input power in watts,(ii)-output power in watts, (iii)-efficiency \n",
"//Exa:8.3\n",
"clc;\n",
"clear;\n",
"close;\n",
"n=2;\n",
"V_o=300;//in volts\n",
"I_o=20*10^-3;//in A\n",
"V_i=40;//in volts\n",
"J=1.25;//J(X')\n",
"P_dc=V_o*I_o;\n",
"P_ac=2*V_o*I_o*J/(2*n*%pi-%pi/2);\n",
"eff=(P_ac/P_dc)*100;\n",
"disp(P_dc,'Input power (in watts) =');\n",
"disp(P_ac,'Output power (in watts) =');\n",
"disp(eff,'Efficiency (in percent) =');"
   ]
   }
,
{
		   "cell_type": "markdown",
		   "metadata": {},
		   "source": [
			"## Example 8.4: EX8_4.sce"
		   ]
		  },
  {
"cell_type": "code",
	   "execution_count": null,
	   "metadata": {
	    "collapsed": true
	   },
	   "outputs": [],
"source": [
"//Caption:Calculate (i)-electron velocity,(ii)-dc transit time, (iii)-input voltage for maximum output voltage,(iv)-voltage gain in dB\n",
"//Exa:8.4\n",
"clc;\n",
"clear;\n",
"close;\n",
"V_o=900;//in volts\n",
"I_o=30*10^-3;//in A\n",
"f=8*10^9;//in Hz\n",
"d=0.001;//in m\n",
"l=0.04;//in m\n",
"R_sh=40*10^3;//in ohm\n",
"v_o=0.593*10^6*sqrt(V_o);\n",
"T_o=l/v_o;\n",
"Theeta_o=(2*%pi*f)*T_o;//Transit angles between cavities(in radian)\n",
"Theeta_g=(2*%pi*f)*d/v_o;//Average gap transit angle (in radian)\n",
"b=sin(Theeta_g/2)/(Theeta_g/2);\n",
"V_in_max=V_o*3.68/(b*Theeta_o);\n",
"//As, {J(X)/X=0.582}\n",
"A_r=b^2*Theeta_o*0.582*R_sh/(30*10^3*1.841);\n",
"disp(v_o,'Electron velocity (in m/s) =');\n",
"disp(T_o,'Dc Transit Time (in sec)=');\n",
"disp(V_in_max,'Maximum input voltage (in volts) =');\n",
"disp(A_r,'Voltage gain (in dB) =');"
   ]
   }
,
{
		   "cell_type": "markdown",
		   "metadata": {},
		   "source": [
			"## Example 8.5: EX8_5.sce"
		   ]
		  },
  {
"cell_type": "code",
	   "execution_count": null,
	   "metadata": {
	    "collapsed": true
	   },
	   "outputs": [],
"source": [
"//Caption:Calculate (i)-i/p microwave voltage,(ii)-voltage gain, (iii)-efficiency of amplifier,(iv)-beam loading conductance\n",
"//Exa:8.5\n",
"clc;\n",
"clear;\n",
"close;\n",
"V_o=1200;//in volts\n",
"I_o=28*10^-3;//in A\n",
"f=8*10^9;//inHz\n",
"d=0.001;//in m\n",
"l=0.04;//in m\n",
"R_sh=40*10^3;//in ohms\n",
"V_p_max=1200*3.68*0.593*10^6*sqrt(V_o)/(2*%pi*f*l);\n",
"Theeta_g=(2*%pi*f)*d/(0.593*10^6*sqrt(V_o));//transit angle (in rad)\n",
"beeta=sin(Theeta_g/2)/(Theeta_g/2);\n",
"V_i_max=V_p_max/beeta;\n",
"Beeta_o=0.768;\n",
"J=0.582;//J(X)\n",
"A_v=(Beeta_o)^2*97.88*J*R_sh/(1200/(28*10^-3*1.841));//calculating voltage gain\n",
"eff=[0.58*[2*28*10^-3*J*Beeta_o*R_sh]/V_o]*100;//calculating efficiency\n",
"G_o=23.3*10^-6;\n",
"G_b=(G_o/2)*{Beeta_o^2-Beeta_o*cos(Theeta_g)};//beam loading conductance\n",
"R_b=1/(G_b*1000);//beam loading resistance(in kilo ohms)\n",
"disp(V_i_max,'Input microwave voltage(in volts) =');\n",
"disp(A_v,'Voltage gain =');\n",
"disp(eff,'Effeciency of amplifier (in percentage) =');\n",
"disp(R_b,'Beam loading resistance(in kilo ohms) =');\n",
"\n",
"//Answer in book is wrongly given as: Voltage gain =17.034"
   ]
   }
,
{
		   "cell_type": "markdown",
		   "metadata": {},
		   "source": [
			"## Example 8.6: EX8_6.sce"
		   ]
		  },
  {
"cell_type": "code",
	   "execution_count": null,
	   "metadata": {
	    "collapsed": true
	   },
	   "outputs": [],
"source": [
"//Caption:Calculate (i)-value of repeller voltage V_r ,(ii)-beam current necessary to give gap voltage of 200V, (iii)-electronic efficiency \n",
"//Exa:8.6\n",
"clc;\n",
"clear;\n",
"close;\n",
"e_m_ratio=1.759*10^11;//(e/m)\n",
"V_o=500;//in volts\n",
"R_sh=20*10^3;//in ohms\n",
"f=8*10^9;//inHz\n",
"w=2*%pi*f;\n",
"n=2;//mode\n",
"L=0.001;//spacing between repeller & cavity (in m)\n",
"x=0.023;\n",
"volt_diff=sqrt(V_o*(x));\n",
"V_r=volt_diff+V_o;//repeller volatge\n",
"Beeta_o=1;//Assuming\n",
"J=0.582;\n",
"V_1=200;//given (in volts)\n",
"I_o=V_1/(R_sh*2*J);\n",
"Theeta_o=2*%pi*f*J*10^6*2*10^-3*sqrt(V_o)/(1.579*10^11*(V_r+V_o));\n",
"X=V_1*Theeta_o/(2*V_o);//X'\n",
"j=0.84;//J(X')\n",
"eff=[2*j/(2*%pi*2-%pi/2)]*100;\n",
"disp(V_r,'Repeller voltage(in volts) =');\n",
"disp(I_o,'Necessary beam current (in Amp.s) =');\n",
"disp(eff,'Effeciency  (in percentage) =');"
   ]
   }
,
{
		   "cell_type": "markdown",
		   "metadata": {},
		   "source": [
			"## Example 8.7: EX8_7.sce"
		   ]
		  },
  {
"cell_type": "code",
	   "execution_count": null,
	   "metadata": {
	    "collapsed": true
	   },
	   "outputs": [],
"source": [
"//Caption:Calculate (i)-efficiency of reflex klystron ,(ii)-total output power in mW, (iii)-power delivered to load\n",
"//Exa:8.7\n",
"clc;\n",
"clear;\n",
"close;\n",
"P_dc_in=40;//in mW\n",
"ratio=0.278;//V_1/V_o;\n",
"n=1;\n",
"X=ratio*(2*n*%pi-%pi/2);\n",
"J=2.35;\n",
"eff=ratio*J*100;//in percentage\n",
"P_out= 8.91*P_dc_in/100;\n",
"P_load=3.564*80/100;\n",
"disp(eff,'Effeciency  (in percentage) =');\n",
"disp(P_out,'Total power output (in mW) =');\n",
"disp(P_load,'Power delivered to load (in mW) =');"
   ]
   }
,
{
		   "cell_type": "markdown",
		   "metadata": {},
		   "source": [
			"## Example 8.8: EX8_8.sce"
		   ]
		  },
  {
"cell_type": "code",
	   "execution_count": null,
	   "metadata": {
	    "collapsed": true
	   },
	   "outputs": [],
"source": [
"//Caption:Calculate (i)-Hull cut-off voltage ,(ii)-cut-off magnetic flux density if beam voltage V_o is 6000V, (iii)-cyclotron frequency in GHz\n",
"//Exa:8.8\n",
"clc;\n",
"clear;\n",
"close;\n",
"e_m_ratio=1.759*10^11;//(e/m)\n",
"R_a=0.15;//in m\n",
"R_o=0.45;//in m\n",
"B_o=1.2*10^-3;//in weber/m^2\n",
"V_o={(e_m_ratio)*B_o^2*R_o^2*[1-(R_a/R_o)^2]^2}/8;\n",
"//Given:\n",
"V=6000;//in volts\n",
"B_c=sqrt(8*V/e_m_ratio)/[[1-(R_a/R_o)^2]*(R_o)];//in weber/m^2\n",
"w_c=(e_m_ratio)*B_o;\n",
"f_c=w_c/(2*%pi);//in Hz\n",
"disp(V_o,'Cut-off voltage (in volts) =');\n",
"disp(B_c*10^5,'Cut-off magnetic flux density (in milli weber/sq. m) =');\n",
"disp(f_c*10^-9,'Cyclotron frequency (in GHz) =');\n",
"\n",
"//Answer in book is wrongly given as: f_c=0.336Hz & V_o=50.666 kV"
   ]
   }
,
{
		   "cell_type": "markdown",
		   "metadata": {},
		   "source": [
			"## Example 8.9: EX8_9.sce"
		   ]
		  },
  {
"cell_type": "code",
	   "execution_count": null,
	   "metadata": {
	    "collapsed": true
	   },
	   "outputs": [],
"source": [
"//Caption:Calculate (i)-Axial phase velocity ,(ii)-Anode voltage at which TWT can be operated for useful gain\n",
"//Exa:8.9\n",
"clc;\n",
"clear;\n",
"close;\n",
"e_m_ratio=1.759*10^11;//(e/m)\n",
"c=3*10^8;//in m/s\n",
"d=0.002;//diameter(in m)\n",
"pitch=(1/50)/100;//As,50 turns per cm (in m)\n",
"circum=%pi*d;\n",
"v_p=c*pitch/circum;\n",
"V_o=v_p^2/(2*e_m_ratio);\n",
"disp(v_p,'Axial phase velocity (in m/s) =');\n",
"disp(V_o,'Anode Voltage (in kV) =');\n",
"\n",
"//Answer in book is wrongly given as V_o=25.92 V"
   ]
   }
],
"metadata": {
		  "kernelspec": {
		   "display_name": "Scilab",
		   "language": "scilab",
		   "name": "scilab"
		  },
		  "language_info": {
		   "file_extension": ".sce",
		   "help_links": [
			{
			 "text": "MetaKernel Magics",
			 "url": "https://github.com/calysto/metakernel/blob/master/metakernel/magics/README.md"
			}
		   ],
		   "mimetype": "text/x-octave",
		   "name": "scilab",
		   "version": "0.7.1"
		  }
		 },
		 "nbformat": 4,
		 "nbformat_minor": 0
}
