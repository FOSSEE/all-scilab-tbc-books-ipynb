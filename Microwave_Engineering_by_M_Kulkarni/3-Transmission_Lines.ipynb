{
"cells": [
 {
		   "cell_type": "markdown",
	   "metadata": {},
	   "source": [
       "# Chapter 3: Transmission Lines"
	   ]
	},
{
		   "cell_type": "markdown",
		   "metadata": {},
		   "source": [
			"## Example 3.10: Calculate_the_charcterstic_impedance_and_phase_velocity.sce"
		   ]
		  },
  {
"cell_type": "code",
	   "execution_count": null,
	   "metadata": {
	    "collapsed": true
	   },
	   "outputs": [],
"source": [
"//Caption:Calculate the charcterstic impedance & phase velocity\n",
"//Exa:3.10\n",
"clc;\n",
"clear;\n",
"close;\n",
"e=2.718;\n",
"f=1000;//in Hz\n",
"l=10000;//in meters\n",
"Z_sc=(2631+%i*1289);//in ohms\n",
"Z_oc=(221-%i*137);//in ohms\n",
"Z_o=[Z_sc*Z_oc]^0.5;\n",
"Z_mag=[real(Z_o)^2+imag(Z_o)^2]^0.5;\n",
"Z_ang=[atan((imag(Z_o))/real(Z_o))]*180/%pi;\n",
"disp(Z_mag,'Characteristic impedance (in ohms) =');\n",
"disp(Z_ang,'Angle (in degrees) =');\n",
"x=[(Z_oc/Z_sc)^0.5];\n",
"//x=tanh(v*l)\n",
"//As, tanh(t)=[e^t-e^-t]/[e^t+e^-t]\n",
"v=(261+%i*2988)/l;\n",
"a=real(v);\n",
"b=imag(v);\n",
"disp(2*%pi*f/b,'Phase velocity (in meter per sec.) =');"
   ]
   }
,
{
		   "cell_type": "markdown",
		   "metadata": {},
		   "source": [
			"## Example 3.1: Program_to_find_value_of_terminating_impedance_of_lossless_transmission_line.sce"
		   ]
		  },
  {
"cell_type": "code",
	   "execution_count": null,
	   "metadata": {
	    "collapsed": true
	   },
	   "outputs": [],
"source": [
"//Caption:Program to find value of terminating impedance of lossless transmission line.\n",
"//Exa:3.1\n",
"clc;\n",
"clear;\n",
"close;\n",
"//Given:\n",
"Z_ch=100;//in ohms\n",
"S=5;//VSWR (unitless)\n",
"Z=Z_ch*S;\n",
"printf('\n\n\t The terminating impedence = %d ohms ',Z);"
   ]
   }
,
{
		   "cell_type": "markdown",
		   "metadata": {},
		   "source": [
			"## Example 3.2: EX3_2.sce"
		   ]
		  },
  {
"cell_type": "code",
	   "execution_count": null,
	   "metadata": {
	    "collapsed": true
	   },
	   "outputs": [],
"source": [
"//Caption:Calculate the charcteristic impedance, attenuation constant, phase constant of transmission line Calculate power delivered to load , if line length=500 km.\n",
"//Exa:3.2\n",
"clc;\n",
"clear;\n",
"close;\n",
"e=2.718;\n",
"//Given:\n",
"R=8;//in ohm/kilometer\n",
"L=2*10^-3;//in henry/kilometer\n",
"C=0.002*10^-6;//in farad/kilometer\n",
"G=0.07*10^-6;//second/kilometer\n",
"f=2000;//in hertz\n",
"//Since [w=2*(pi)*f] & [Zch={(R+jwL)/(G+jwC)}^0.5]\n",
"w=2*%pi*f;//in radians\n",
"Z_ch={(R+%i*w*L)/(G+%i*w*C)}^0.5;//computing characteristic impedance\n",
"disp(Z_ch,'Characteristic impedance (in ohms) =');\n",
"y={(R+%i*w*L)*(G+%i*w*C)}^0.5;\n",
"a=real(y);//atteneuation constant\n",
"b=imag(y);//phase constant\n",
"disp(a,'Atteneuation constant (in NP/km) =');\n",
"disp(b,'Phase constant (in radian/km) =');\n",
"V_in=2;//in volts\n",
"l=500;//in kilometers\n",
"Z_in=Z_ch;//Since line terminated at its char. imped. so, Z_in=Z_ch=Z(load)\n",
"I_s=V_in/Z_in;\n",
"Imag=[[{{real(I_s)}^2}+{{imag(I_s)}^2}]^0.5]*10^3;//in milliampere\n",
"Iang=atan(imag(I_s)/real(I_s))*(180/%pi);//in degrees\n",
"I=Imag*e^-1.99;//I=Is*e^-yl\n",
"//P(power delivered)=I*I*REAL(Z_ch)\n",
"P=I*I*real(Z_ch);\n",
"disp(P,'Power delivered to load (in microwatt =)');"
   ]
   }
,
{
		   "cell_type": "markdown",
		   "metadata": {},
		   "source": [
			"## Example 3.3: Calculate_phase_velocity_of_the_wave_that_propogates_on_line.sce"
		   ]
		  },
  {
"cell_type": "code",
	   "execution_count": null,
	   "metadata": {
	    "collapsed": true
	   },
	   "outputs": [],
"source": [
"//Caption:Calculate phase velocity of the wave that propogates on line as given in example 3.2\n",
"//Exa:3.3\n",
"clc;\n",
"clear;\n",
"close;\n",
"w=4*%pi*10^3;//in rad/sec\n",
"b=0.02543;//in rad/km\n",
"V_p=w/b;// phase velocity\n",
"disp(V_p,'Phase velocity (in km/sec) =');"
   ]
   }
,
{
		   "cell_type": "markdown",
		   "metadata": {},
		   "source": [
			"## Example 3.4: EX3_4.sce"
		   ]
		  },
  {
"cell_type": "code",
	   "execution_count": null,
	   "metadata": {
	    "collapsed": true
	   },
	   "outputs": [],
"source": [
"//Caption:Calculate (a)-Current drawn from generator. (b)-Magnitune & phase of load current. (c)-Power delivered to load.\n",
"//Exa: 3.4\n",
"clc;\n",
"clear;\n",
"close;\n",
"f=37.5*10^6;//frequency(in hertz)\n",
"wl=(3*10^8)/f;//wavelength (in meters)\n",
"Z_l=100;//in ohms\n",
"Z_o=200;//in ohms\n",
"l=5*wl/4;//length of line (in meters)\n",
"b=2*%pi/wl;\n",
"//At generator end,\n",
"Z_i=Z_o*(Z_l+%i*Z_o*tan(b*l))/(Z_o+%i*Z_l*tan(b*l));\n",
"V_s=200*Z_i/(200+Z_i);\n",
"I_s=200/(200+Z_i);\n",
"disp(real(I_s),'Current drawn from generator(in amps) =');\n",
"//for a lossless line , P(avg)*I_input=P(avg)*I_load\n",
"P_avg=V_s*I_s;//in watts\n",
"disp(real(P_avg),'Power delivered to load (in watts) =)');\n",
"//Real(Vs*Is)=Real(Vs*I_load)\n",
"I_load=(P_avg/Z_l)^0.5;//in amps\n",
"disp(real(I_load),'Current flowing in load (in amps) =)');"
   ]
   }
,
{
		   "cell_type": "markdown",
		   "metadata": {},
		   "source": [
			"## Example 3.5: Calculate_VSWR_and_reflection_coefficient.sce"
		   ]
		  },
  {
"cell_type": "code",
	   "execution_count": null,
	   "metadata": {
	    "collapsed": true
	   },
	   "outputs": [],
"source": [
"//Caption:Calculate VSWR & reflection coefficient.\n",
"//Exa: 3.5\n",
"clc;\n",
"clear;\n",
"close;\n",
"Z_o=50;//in ohms\n",
"f=300*10^6;//in Hz\n",
"Z_l=50+%i*50;//in ohms\n",
"wl=(3*10^8)/f;//wavelength(in meters)\n",
"P=[(Z_l-Z_o)/(Z_l+Z_o)];\n",
"P_mag={(real(P)^2)+(imag(P)^2)}^0.5;\n",
"P_ang=atan(imag(P)/real(P))*180/%pi;//in degrees\n",
"S={1+P_mag}/{1-P_mag};\n",
"disp(P,'Reflection coefficient =');\n",
"disp(P_mag,'Magnitude of reflection coeffcient =');\n",
"disp(P_ang,'Angle (in degree) =');\n",
"disp(S,'VSWR =');"
   ]
   }
,
{
		   "cell_type": "markdown",
		   "metadata": {},
		   "source": [
			"## Example 3.6: Determine_point_of_attachment_and_length_of_stub.sce"
		   ]
		  },
  {
"cell_type": "code",
	   "execution_count": null,
	   "metadata": {
	    "collapsed": true
	   },
	   "outputs": [],
"source": [
"//Caption:Determine point of attachment & length of stub.\n",
"//Exa 3.6\n",
"clc;\n",
"clear;\n",
"close;\n",
"Z_l=100;//in ohms\n",
"Z_o=600;//in ohms\n",
"f=100*10^6;//in Hz\n",
"wl=(3*10^8)/f;\n",
"//Position of stub is :\n",
"m=((Z_l*Z_o)/(Z_l-Z_o))^0.5;\n",
"pos={wl/(2*%pi)}*atan((Z_l/Z_o)^0.5);//in meters\n",
"l={wl/(2*%pi)}*{atan(m)};//in meters \n",
"disp(pos,'Position of stub (in meters) =');\n",
"disp(abs(l),'Length of stub (in meters) =');"
   ]
   }
,
{
		   "cell_type": "markdown",
		   "metadata": {},
		   "source": [
			"## Example 3.7: Calculate_terminating_impedance.sce"
		   ]
		  },
  {
"cell_type": "code",
	   "execution_count": null,
	   "metadata": {
	    "collapsed": true
	   },
	   "outputs": [],
"source": [
"//Caption:Calculate terminating impedance.\n",
"//Exa: 3.7\n",
"clc;\n",
"clear;\n",
"close;\n",
"Z_o=50;\n",
"S=3.2;\n",
"X_min=0.23;//in terms of wavelength(wl))\n",
"//So :\n",
"Z_l=Z_o*[[1-%i*S*tan(2*%pi*X_min)]/[S-%i*tan(2*%pi*X_min)]];//in ohms\n",
"Z_lmag=[(real(Z_l)^2)+(imag(Z_l)^2)]^0.5;\n",
"Z_lang=atan(imag(Z_l)/real(Z_l));\n",
"disp('The load impedance');\n",
"disp(Z_lmag,'magnitude (in ohms) =');\n",
"disp(Z_lang*180/%pi,'angle (in degrees) =');"
   ]
   }
,
{
		   "cell_type": "markdown",
		   "metadata": {},
		   "source": [
			"## Example 3.8: EX3_8.sce"
		   ]
		  },
  {
"cell_type": "code",
	   "execution_count": null,
	   "metadata": {
	    "collapsed": true
	   },
	   "outputs": [],
"source": [
"//Caption:Determine:(a)VSWR; (b)Position of 1st Vmin & Vmax; (c)Vmin & Vmax; (d)Impedance at Vmin & Vmax.\n",
"//Exa: 3.8\n",
"clc;\n",
"clear;\n",
"close;\n",
"Z_o=50;//in ohms\n",
"Z_l=100;//in ohms\n",
"f=300*10^3;//in Hz\n",
"P_l=50*10^-3;//in watts\n",
"wl=(3*10^8)/f;\n",
"p=(Z_l-Z_o)/(Z_l+Z_o);\n",
"S=(1+abs(p))/(1-abs(p));\n",
"disp(S,'VSWR =');\n",
"//Since real Zl > Zo , \n",
"pos=wl/4;\n",
"disp('First Vmax is located --->at the load ');\n",
"disp('First Vmin is located at --->(wavelength/4)= ');\n",
"disp(pos,'(in meters)');\n",
"V_max=(P_l*Z_l)^0.5;\n",
"V_min=V_max/S;\n",
"disp(V_max,'Vmax (in volts) =');\n",
"disp(V_min,'Vmin (in volts) =');\n",
"disp(Z_o/S,'Zin at Vmin (in ohms) =:');\n",
"disp(Z_o*S,'Zin at Vmax (in ohms) =');"
   ]
   }
,
{
		   "cell_type": "markdown",
		   "metadata": {},
		   "source": [
			"## Example 3.9: Determine_in_dB_the_reflection_loss_and_transmission_line_and_return_loss.sce"
		   ]
		  },
  {
"cell_type": "code",
	   "execution_count": null,
	   "metadata": {
	    "collapsed": true
	   },
	   "outputs": [],
"source": [
"//Caption:Determine in dB: (a)-reflection loss, (b)-transmission line (c)-return loss.\n",
"//Exa: 3.9\n",
"clc;\n",
"clear;\n",
"close;\n",
"Z_o=600;//in ohm\n",
"Z_s=50;//in ohm\n",
"l=200;//in meter\n",
"Z_l=500;//in ohm\n",
"p=(Z_l-Z_o)/(Z_l+Z_o);\n",
"ref_los=10*(log(1/(1-(abs(p))^2)))/(log(10));//in dB\n",
"disp(ref_los,'Reflection loss (in dB) =');\n",
"//attenuation loss= 0 dB\n",
"//Transmisson loss = (attenuation loss)+(reflection loss) = (reflection loss)\n",
"tran_los=ref_los;\n",
"disp(tran_los,'Transmisson loss (in dB) =');\n",
"ret_los=10*((log(abs(p)))/(log(10)));\n",
"disp(ret_los,'Return loss(in dB) =');"
   ]
   }
],
"metadata": {
		  "kernelspec": {
		   "display_name": "Scilab",
		   "language": "scilab",
		   "name": "scilab"
		  },
		  "language_info": {
		   "file_extension": ".sce",
		   "help_links": [
			{
			 "text": "MetaKernel Magics",
			 "url": "https://github.com/calysto/metakernel/blob/master/metakernel/magics/README.md"
			}
		   ],
		   "mimetype": "text/x-octave",
		   "name": "scilab",
		   "version": "0.7.1"
		  }
		 },
		 "nbformat": 4,
		 "nbformat_minor": 0
}
