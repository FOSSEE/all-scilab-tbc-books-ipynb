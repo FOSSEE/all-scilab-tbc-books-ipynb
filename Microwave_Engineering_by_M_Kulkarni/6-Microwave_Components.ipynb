{
"cells": [
 {
		   "cell_type": "markdown",
	   "metadata": {},
	   "source": [
       "# Chapter 6: Microwave Components"
	   ]
	},
{
		   "cell_type": "markdown",
		   "metadata": {},
		   "source": [
			"## Example 6.10: Calculate_the_scattering_matrix.sce"
		   ]
		  },
  {
"cell_type": "code",
	   "execution_count": null,
	   "metadata": {
	    "collapsed": true
	   },
	   "outputs": [],
"source": [
"//Caption:Calculate the scattering matrix.\n",
"//Exa:6.10\n",
"clc;\n",
"clear;\n",
"close;\n",
"In_loss=0.5;//insertion loss(in dB)\n",
"C=20;//in dB\n",
"D=35;//in dB\n",
"Pi_Pf=10^(C/10);\n",
"Pi=90;//in Watts\n",
"Pf=Pi/Pi_Pf;\n",
"Pf_Pb=10^(D/10);\n",
"Pb=Pf/Pf_Pb;\n",
"P_rec=(Pi-Pf-Pb);//Power received (in Watts)\n",
"P_rec_dB=10*log(Pi/P_rec)/log(10);\n",
"P_rec_eff=P_rec_dB-In_loss;//Effective power received (in dB)\n",
"disp(P_rec_eff,'Effective power received (in dB)=');"
   ]
   }
,
{
		   "cell_type": "markdown",
		   "metadata": {},
		   "source": [
			"## Example 6.11: Calculate_the_directivity_and_coupling_and_isolation.sce"
		   ]
		  },
  {
"cell_type": "code",
	   "execution_count": null,
	   "metadata": {
	    "collapsed": true
	   },
	   "outputs": [],
"source": [
" //Caption:Calculate (i)-directivity ,(ii)-coupling, (iii)-isolation\n",
"//Exa:6.11\n",
"clc;\n",
"clear;\n",
"close;\n",
"S_13=0.1;\n",
"S_14=0.05;\n",
"C=-20*log(S_13)/log(10);\n",
"D=20*log(S_13/S_14)/log(10);\n",
"I=C+D;\n",
"disp(C,'Coupling (in dB) =');\n",
"disp(D,'Directivity (in dB)) =');\n",
"disp(I,'Isolation (in dB) =');"
   ]
   }
,
{
		   "cell_type": "markdown",
		   "metadata": {},
		   "source": [
			"## Example 6.12: Calculate_the_value_of_VSWR.sce"
		   ]
		  },
  {
"cell_type": "code",
	   "execution_count": null,
	   "metadata": {
	    "collapsed": true
	   },
	   "outputs": [],
"source": [
"//Caption:Calculate the value of VSWR\n",
"//Exa:6.12\n",
"clc;\n",
"clear;\n",
"close;\n",
"D=3.5;//distance of seperation(in cm)\n",
"w_l=2*D;//wavelength\n",
"d2_d1=2.5;//d2-d1(in m)\n",
"S=w_l/(%pi*d2_d1*10^-1);\n",
"disp(S,'VSWR =');"
   ]
   }
,
{
		   "cell_type": "markdown",
		   "metadata": {},
		   "source": [
			"## Example 6.13: Calculate_the_phase_shift_of_the_component.sce"
		   ]
		  },
  {
"cell_type": "code",
	   "execution_count": null,
	   "metadata": {
	    "collapsed": true
	   },
	   "outputs": [],
"source": [
"//Caption:Calculate the phase shift of the component\n",
"//Exa:6.13\n",
"clc;\n",
"clear;\n",
"close;\n",
"w_l=7.2;//wavelength (in cm)\n",
"x=10.5-9.3;\n",
"Phase_shift=(2*%pi*x)/(w_l);\n",
"disp(Phase_shift*180/%pi,'Phase Shift (in degree) =');"
   ]
   }
,
{
		   "cell_type": "markdown",
		   "metadata": {},
		   "source": [
			"## Example 6.2: Find_the_distance_that_the_position_of_port_1_should_be_shifted.sce"
		   ]
		  },
  {
"cell_type": "code",
	   "execution_count": null,
	   "metadata": {
	    "collapsed": true
	   },
	   "outputs": [],
"source": [
"//Caption:Find the distance that the position of port 1 should be shifted .\n",
"//Exa:6.2\n",
"clc;\n",
"clear;\n",
"close;\n",
"Beeta=34.3;//in rad/m\n",
"// S=[0,0.5*%e^(%i*53.13);0.5*%e^(%i*53.13),0];\n",
"// S'=[0,0.5*%e^(%i*53.13-x);0.5*%e^(%i*53.13-x),0];\n",
"//For S12& S21 to be real ,\n",
"x=53.5;//in degrees\n",
"x_rad=53.5*%pi/180;\n",
"l=x_rad/Beeta;\n",
"disp(l*100,'Distance (in cm)=');"
   ]
   }
,
{
		   "cell_type": "markdown",
		   "metadata": {},
		   "source": [
			"## Example 6.3: Determine_the_scattering_parameters_for_10_dB_direction_coupler.sce"
		   ]
		  },
  {
"cell_type": "code",
	   "execution_count": null,
	   "metadata": {
	    "collapsed": true
	   },
	   "outputs": [],
"source": [
"//Caption:Determine the scattering parameters for 10 dB direction coupler\n",
"//Exa:6.3\n",
"clc;\n",
"clear;\n",
"close;\n",
"D=30;//in dB\n",
"VSWR=1;\n",
"C=10;\n",
"//p1_p4 = p1/p4\n",
"p1_p4=10^(C/-10);\n",
"S_41=sqrt(p1_p4);\n",
"S_14=S_41;//As matched & lossless\n",
"S_31=S_41^2/10^(D/10);\n",
"S_11=(VSWR-1)/(VSWR+1);\n",
"S_22=S_11;\n",
"S_44=S_11;\n",
"S_33=S_11;\n",
"S_21=sqrt(1-0.1-10^-4);\n",
"S_12=S_21;\n",
"S_34=sqrt(1-0.1-10^-4);\n",
"S_43=S_34;\n",
"S_24=sqrt(1-0.1-S_34^2);\n",
"S_42=S_24;\n",
"S_23=S_41;\n",
"S_32=S_23;\n",
"S_13=S_31;\n",
"S=[S_11,S_12,S_13,S_14;S_21,S_22,S_23,S_24;S_31,S_32,S_33,S_34;S_41,S_42,S_43,S_44];\n",
"disp(S,'Required Scattering Parameters are');"
   ]
   }
,
{
		   "cell_type": "markdown",
		   "metadata": {},
		   "source": [
			"## Example 6.4: Determine_the_powers_in_the_remaining_ports.sce"
		   ]
		  },
  {
"cell_type": "code",
	   "execution_count": null,
	   "metadata": {
	    "collapsed": true
	   },
	   "outputs": [],
"source": [
"//Caption:Determine the powers in the remaining ports\n",
"//Exa:6.4\n",
"clc;\n",
"clear;\n",
"close;\n",
"a_2=0;\n",
"a_3=0;\n",
"a_1=32;//in mW\n",
"b_1=(a_1/2^2)+(a_2/-2)+(a_3/sqrt(2));\n",
"b_2=(a_1/(-2)^2)+(a_2/-2)+(a_3/sqrt(2));\n",
"b_3=(a_1/2)+(a_2/sqrt(2))+(a_3/-sqrt(2));\n",
"disp(b_1,'Power at port1(in mW)=');\n",
"disp(b_2,'Power at port2(in mW) =');\n",
"disp(b_3,'Power at port3(in mW) =');"
   ]
   }
,
{
		   "cell_type": "markdown",
		   "metadata": {},
		   "source": [
			"## Example 6.5: Determine_the_powers_in_the_remaining_ports.sce"
		   ]
		  },
  {
"cell_type": "code",
	   "execution_count": null,
	   "metadata": {
	    "collapsed": true
	   },
	   "outputs": [],
"source": [
"//Caption:Determine the powers in the remaining ports\n",
"//Exa:6.5\n",
"clc;\n",
"clear;\n",
"close;\n",
"b_1=20;\n",
"b_2=20;\n",
"p_1=abs((60-50)/(60+50));\n",
"p_2=abs((75-50)/(75+50));\n",
"P_1=b_1*(1-p_1^2)/2;\n",
"P_2=b_2*(1-p_2^2)/2;\n",
"disp(P_1,'Power in port1 (in mW) =');\n",
"disp(P_2,'Power in port2 (in mW) =');"
   ]
   }
,
{
		   "cell_type": "markdown",
		   "metadata": {},
		   "source": [
			"## Example 6.6: Determine_the_powers_reflected_at_port_3_and_power_divisions_at_other_ports.sce"
		   ]
		  },
  {
"cell_type": "code",
	   "execution_count": null,
	   "metadata": {
	    "collapsed": true
	   },
	   "outputs": [],
"source": [
"//Caption:Determine the powers reflected at port 3 & power divisions at other ports.\n",
"//Exa:6.6\n",
"clc;\n",
"clear;\n",
"close;\n",
"p_1=0.5;\n",
"p_2=0.6;\n",
"p_4=0.8;\n",
"b_1=0.6566;\n",
"b_2=0.7576;\n",
"b_3=0.6536;\n",
"b_4=0.00797;\n",
"a_1=p_1*b_1;\n",
"a_2=p_2*b_2;\n",
"a_3=1;//in Watts\n",
"a_4=p_4*b_4;\n",
"disp(b_1^2,'Power at port 1(in W)=');\n",
"disp(b_2^2,'Power at port 2(in W)=');\n",
"disp(b_3^2,'Power at port 3(in W)=');\n",
"disp(b_4^2,'Power at port 4(in W)=');"
   ]
   }
,
{
		   "cell_type": "markdown",
		   "metadata": {},
		   "source": [
			"## Example 6.7: Calculate_the_scattering_matrix.sce"
		   ]
		  },
  {
"cell_type": "code",
	   "execution_count": null,
	   "metadata": {
	    "collapsed": true
	   },
	   "outputs": [],
"source": [
"//Caption:Calculate the scattering matrix.\n",
"//Exa:6.7\n",
"clc;\n",
"clear;\n",
"close;\n",
"In_loss=0.5;//in dB\n",
"S_21=10^(-In_loss/20);\n",
"Isolation=30;//in dB\n",
"S_12=10^(-Isolation/20);\n",
"S_11=0;\n",
"S_22=0;\n",
"S=[S_11,S_12;S_21,S_22];\n",
"disp(S,'Scattering matrix =');"
   ]
   }
,
{
		   "cell_type": "markdown",
		   "metadata": {},
		   "source": [
			"## Example 6.9: Calculate_the_scattering_matrix.sce"
		   ]
		  },
  {
"cell_type": "code",
	   "execution_count": null,
	   "metadata": {
	    "collapsed": true
	   },
	   "outputs": [],
"source": [
"//Caption:Calculate the scattering matrix.\n",
"//Exa:6.9\n",
"clc;\n",
"clear;\n",
"close;\n",
"VSWR=1;\n",
"In_loss=0.5;//in dB\n",
"S_21=10^(-In_loss/20);\n",
"Isolation=20;//in dB\n",
"S_12=10^(-Isolation/20);\n",
"S_23=S_12;\n",
"S_31=S_12;\n",
"S_32=S_21;\n",
"S_13=S_21;\n",
"p=(VSWR-1)/(VSWR+1);\n",
"S_11=p;\n",
"S_22=p;\n",
"S_33=p;\n",
"S=[S_11,S_12,S_13;S_21,S_22,S_23;S_31,S_32,S_33];\n",
"disp(S,'Scattering matrix =');"
   ]
   }
],
"metadata": {
		  "kernelspec": {
		   "display_name": "Scilab",
		   "language": "scilab",
		   "name": "scilab"
		  },
		  "language_info": {
		   "file_extension": ".sce",
		   "help_links": [
			{
			 "text": "MetaKernel Magics",
			 "url": "https://github.com/calysto/metakernel/blob/master/metakernel/magics/README.md"
			}
		   ],
		   "mimetype": "text/x-octave",
		   "name": "scilab",
		   "version": "0.7.1"
		  }
		 },
		 "nbformat": 4,
		 "nbformat_minor": 0
}
