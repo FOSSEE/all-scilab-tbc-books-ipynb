{
"cells": [
 {
		   "cell_type": "markdown",
	   "metadata": {},
	   "source": [
       "# Chapter 7: Microwave Measurements"
	   ]
	},
{
		   "cell_type": "markdown",
		   "metadata": {},
		   "source": [
			"## Example 7.1: Calculate_the_SWR_of_the_transmission_line.sce"
		   ]
		  },
  {
"cell_type": "code",
	   "execution_count": null,
	   "metadata": {
	    "collapsed": true
	   },
	   "outputs": [],
"source": [
"//Caption:Calculate the SWR of the transmission line\n",
"//Exa:7.1\n",
"clc;\n",
"clear;\n",
"close;\n",
"//Given:\n",
"c=3*10^10;//in cm/s\n",
"a=4;//in cm\n",
"b=2.5;//in cm\n",
"f=10*10^9;//in Hz\n",
"d=0.1;//distance between 2 minimum power points(in cm)\n",
"//For TE10 mode:\n",
"wl_c=2*a;\n",
"wl_o=c/f;\n",
"wl_g=wl_o/sqrt(1-(wl_o/wl_c)^2);\n",
"S=wl_g/(%pi*d);\n",
"disp(S,'Voltage standing wave ratio =');"
   ]
   }
,
{
		   "cell_type": "markdown",
		   "metadata": {},
		   "source": [
			"## Example 7.2: Calculate_the_SWR_of_the_main_waveguide.sce"
		   ]
		  },
  {
"cell_type": "code",
	   "execution_count": null,
	   "metadata": {
	    "collapsed": true
	   },
	   "outputs": [],
"source": [
"//Caption:Calculate the SWR of the main waveguide\n",
"//Exa:7.2\n",
"clc;\n",
"clear;\n",
"close;\n",
"//Given:\n",
"P_i=300;//in mW\n",
"P_r=10;//in mW\n",
"p=sqrt(P_r/P_i);\n",
"S=(1+p)/(1-p);\n",
"disp(S,'Voltage standing wave ratio =');"
   ]
   }
,
{
		   "cell_type": "markdown",
		   "metadata": {},
		   "source": [
			"## Example 7.3: Calculate_the_SWR_of_the_waveguide.sce"
		   ]
		  },
  {
"cell_type": "code",
	   "execution_count": null,
	   "metadata": {
	    "collapsed": true
	   },
	   "outputs": [],
"source": [
"//Caption:Calculate the SWR of the waveguide\n",
"//Exa:7.3\n",
"clc;\n",
"clear;\n",
"close;\n",
"//Given:\n",
"P_i=2.5;//in mW\n",
"P_r=0.15;//in mW\n",
"p=sqrt(P_r/P_i);\n",
"S=(1+p)/(1-p);\n",
"disp(S,'Voltage standing wave ratio =');"
   ]
   }
,
{
		   "cell_type": "markdown",
		   "metadata": {},
		   "source": [
			"## Example 7.4: Calculate_the_value_of_reflected_power.sce"
		   ]
		  },
  {
"cell_type": "code",
	   "execution_count": null,
	   "metadata": {
	    "collapsed": true
	   },
	   "outputs": [],
"source": [
"//Caption:Calculate the value of reflected power\n",
"//Exa:7.4\n",
"clc;\n",
"clear;\n",
"close;\n",
"//Given:\n",
"P_i=4.5;//in mW\n",
"S=2;//VSWR\n",
"C=30;//in dB\n",
"p=(S-1)/(S+1);\n",
"P_f=P_i/(10^(C/10));\n",
"P_r=p^2*P_i;\n",
"disp(P_r,'Reflected power (in watts) =');"
   ]
   }
],
"metadata": {
		  "kernelspec": {
		   "display_name": "Scilab",
		   "language": "scilab",
		   "name": "scilab"
		  },
		  "language_info": {
		   "file_extension": ".sce",
		   "help_links": [
			{
			 "text": "MetaKernel Magics",
			 "url": "https://github.com/calysto/metakernel/blob/master/metakernel/magics/README.md"
			}
		   ],
		   "mimetype": "text/x-octave",
		   "name": "scilab",
		   "version": "0.7.1"
		  }
		 },
		 "nbformat": 4,
		 "nbformat_minor": 0
}
