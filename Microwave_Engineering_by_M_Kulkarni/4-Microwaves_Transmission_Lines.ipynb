{
"cells": [
 {
		   "cell_type": "markdown",
	   "metadata": {},
	   "source": [
       "# Chapter 4: Microwaves Transmission Lines"
	   ]
	},
{
		   "cell_type": "markdown",
		   "metadata": {},
		   "source": [
			"## Example 4.10: EX4_10.sce"
		   ]
		  },
  {
"cell_type": "code",
	   "execution_count": null,
	   "metadata": {
	    "collapsed": true
	   },
	   "outputs": [],
"source": [
"//Caption:Calculate (i)-required size of guide,(ii)-frequencies that can be used for this mode of propagation\n",
"//Exa:4.10\n",
"clc;\n",
"clear;\n",
"close;\n",
"wl_c=10;//in cm \n",
"c=3*10^10;//in cm/s\n",
"r=wl_c/(2*%pi/1.841);//in cm\n",
"area=%pi*r^2;//in sq. cm\n",
"f_c=c/wl_c;\n",
"disp(r,'Radius of circular waveguide(in cm) =');\n",
"disp(area,'Area of cross-section of circular waveguide(in cm) =');\n",
"disp('Frequency above');\n",
"disp(f_c);\n",
"disp('can be propagated');"
   ]
   }
,
{
		   "cell_type": "markdown",
		   "metadata": {},
		   "source": [
			"## Example 4.11: Find_all_modes_that_can_propagate_at_5000MHz.sce"
		   ]
		  },
  {
"cell_type": "code",
	   "execution_count": null,
	   "metadata": {
	    "collapsed": true
	   },
	   "outputs": [],
"source": [
"//Caption:Find all modes that can propagate at 5000MHz.\n",
"//Exa:4_11\n",
"clc;\n",
"clear;\n",
"close;\n",
"a=4;//in cm\n",
"b=3;//in cm \n",
"f=5*10^9;//in Hz\n",
"c=3*10^10;//in cm/s\n",
"wl_o=c/f;\n",
"//For TE waves:\n",
"wl_c_TE01=2*b;//for TE01\n",
"wl_c_TE10=2*a;//for TE10\n",
"wl_c_TE11=2*a*b/sqrt(a^2+b^2);//for TE11\n",
"if(wl_c_TE01>wl_o)\n",
"    disp('TE01 can propagate');\n",
"else\n",
"    disp('TE01 cannot propagate');\n",
"end\n",
"if(wl_c_TE10>wl_o)\n",
"    disp('TE10 can propagate');\n",
"else\n",
"    disp('TE10 cannot propagate');\n",
"end\n",
"if(wl_c_TE11>wl_o)\n",
"    disp('TE11 can propagate');\n",
"else\n",
"    disp('TE11 cannot propagate');\n",
"end"
   ]
   }
,
{
		   "cell_type": "markdown",
		   "metadata": {},
		   "source": [
			"## Example 4.12: Calculate_the_cutoff_wavelength_and_cutoff_frequency_and_wavelength_in_guide.sce"
		   ]
		  },
  {
"cell_type": "code",
	   "execution_count": null,
	   "metadata": {
	    "collapsed": true
	   },
	   "outputs": [],
"source": [
"//Caption:Find all modes that can propagate at 5000MHz.\n",
"//Exa:4_11\n",
"clc;\n",
"clear;\n",
"close;\n",
"a=4;//in cm\n",
"b=3;//in cm \n",
"f=5*10^9;//in Hz\n",
"c=3*10^10;//in cm/s\n",
"wl_o=c/f;\n",
"//For TE waves:\n",
"wl_c_TE01=2*b;//for TE01\n",
"wl_c_TE10=2*a;//for TE10\n",
"wl_c_TE11=2*a*b/sqrt(a^2+b^2);//for TE11\n",
"if(wl_c_TE01>wl_o)\n",
"    disp('TE01 can propagate');\n",
"else\n",
"    disp('TE01 cannot propagate');\n",
"end\n",
"if(wl_c_TE10>wl_o)\n",
"    disp('TE10 can propagate');\n",
"else\n",
"    disp('TE10 cannot propagate');\n",
"end\n",
"if(wl_c_TE11>wl_o)\n",
"    disp('TE11 can propagate');\n",
"else\n",
"    disp('TE11 cannot propagate');\n",
"end"
   ]
   }
,
{
		   "cell_type": "markdown",
		   "metadata": {},
		   "source": [
			"## Example 4.13: Calculate_the_frequency_of_the_wave.sce"
		   ]
		  },
  {
"cell_type": "code",
	   "execution_count": null,
	   "metadata": {
	    "collapsed": true
	   },
	   "outputs": [],
"source": [
"//Caption:Calculate (i)-cutoff wavelength,(ii)-cutoff frequency,(iii)-wavelength in guide\n",
"//Exa:4.12\n",
"clc;\n",
"clear;\n",
"close;\n",
"c=3*10^10;//in cm/s\n",
"d=4;//in cm\n",
"r=d/2;//in cm\n",
"wl_c=2*%pi*r/1.841;//in cm\n",
"f_c=c/wl_c;\n",
"f_signal=5*10^9;//in Hz\n",
"wl_o=c/f_signal;\n",
"wl_g=wl_o/sqrt(1-(wl_o/wl_c)^2);\n",
"disp(wl_c,'Cut-off wavelength (in cm) =');\n",
"disp(f_c,'Cut-off frequency (in Hz) =');\n",
"disp(wl_g,'Guide wavelength (in cm) =');"
   ]
   }
,
{
		   "cell_type": "markdown",
		   "metadata": {},
		   "source": [
			"## Example 4.14: EX4_14.sce"
		   ]
		  },
  {
"cell_type": "code",
	   "execution_count": null,
	   "metadata": {
	    "collapsed": true
	   },
	   "outputs": [],
"source": [
"//Caption:Calculate (i)-guide wavelength,(ii)-phase constant,(iii)-phase velocity for dominant mode\n",
"//Exa:4.14\n",
"clc;\n",
"clear;\n",
"close;\n",
"c=3*10^10;//in cm/s\n",
"a=5;//in cm\n",
"b=2.5;//in cm\n",
"wl_o=4.5;//in cm\n",
"//For TE10 mode:\n",
"wl_c=2*a;\n",
"wl_g=wl_o/sqrt(1-(wl_o/wl_c)^2);\n",
"V_p=c/sqrt(1-(wl_o/wl_c)^2);\n",
"w=2*%pi*c/wl_o;\n",
"w_c=2*%pi*c/wl_c;\n",
"b=sqrt(w^2-w_c^2)/c;\n",
"disp(wl_g,'Guide wavelength (in cm) =');\n",
"disp(b,'Phase constant =');\n",
"disp(V_p,'Phase velocity (in cm/s) =');\n",
"\n",
"//answer in book is wrongly written as guide wavelength =7.803 cm\n",
"//answer in book is wrongly written as Phase velocity = 5.22*10^10 cm/s"
   ]
   }
,
{
		   "cell_type": "markdown",
		   "metadata": {},
		   "source": [
			"## Example 4.15: Calculate_what_modes_propagate_at_free_space_wavelength_of_10_cm_and_5_cm.sce"
		   ]
		  },
  {
"cell_type": "code",
	   "execution_count": null,
	   "metadata": {
	    "collapsed": true
	   },
	   "outputs": [],
"source": [
"//Caption:Calculate what modes propagate at free space wavelength of (i)10 cm,(ii)5 cm\n",
"//Exa:4.15\n",
"clc;\n",
"clear;\n",
"close;\n",
"c=3*10^10;//in cm/s\n",
"wl_c_TE10=16;//Critical wavelength of TE10\n",
"wl_c_TM11=7.16;//Critical wavelength of TM11\n",
"wl_c_TM21=5.6;//Critical wavelength of TM21\n",
"//For (i): 10 cm\n",
"wl_o=10;//in cm\n",
"disp(wl_o,'For free space wavelength (in cm) =');\n",
"if(wl_c_TE10>wl_o)\n",
"    disp('    TE10 can propagate');\n",
"else\n",
"    disp('    TE10 cannot propagate');\n",
"end\n",
"if(wl_c_TM11>wl_o)\n",
"    disp('    TM11 can propagate');\n",
"else\n",
"    disp('    TM11 cannot propagate');\n",
"end\n",
"if(wl_c_TM21>wl_o)\n",
"    disp('    TM21 can propagate');\n",
"else\n",
"    disp('    TM21 cannot propagate');\n",
"end\n",
"//For (ii): 5 cm\n",
"wl_o=5;//in cm\n",
"disp(wl_o,'For free space wavelength (in cm) =');\n",
"if(wl_c_TE10>wl_o)\n",
"    disp('    TE10 can propagate');\n",
"else\n",
"    disp('    TE10 cannot propagate');\n",
"end\n",
"if(wl_c_TM11>wl_o)\n",
"    disp('    TM11 can propagate');\n",
"else\n",
"    disp('    TM11 cannot propagate');\n",
"end\n",
"if(wl_c_TM21>wl_o)\n",
"    disp('    TM21 can propagate');\n",
"else\n",
"    disp('    TM21 cannot propagate');\n",
"end"
   ]
   }
,
{
		   "cell_type": "markdown",
		   "metadata": {},
		   "source": [
			"## Example 4.16: Determine_the_charcteristic_wave_impedance.sce"
		   ]
		  },
  {
"cell_type": "code",
	   "execution_count": null,
	   "metadata": {
	    "collapsed": true
	   },
	   "outputs": [],
"source": [
"//Caption:Determine the charcteristic wave impedance\n",
"//Exa:4.16\n",
"clc;\n",
"clear;\n",
"close;\n",
"c=3*10^10;//in cm/s\n",
"f=10*10^9;//in Hz\n",
"a=3;//in cm\n",
"b=2;//in cm\n",
"n=120*%pi;\n",
"wl_o=c/f;\n",
"wl_c=2*a*b/sqrt(a^2+b^2);\n",
"Z_TM=n*sqrt(1-(wl_o/wl_c)^2);\n",
"disp(Z_TM,'Characteristic impedance (in ohms) =');\n",
"\n",
"//answer in book is wrongly written as 61.618 ohms"
   ]
   }
,
{
		   "cell_type": "markdown",
		   "metadata": {},
		   "source": [
			"## Example 4.17: Determine_the_diameter_of_waveguide_and_guide_wavelength.sce"
		   ]
		  },
  {
"cell_type": "code",
	   "execution_count": null,
	   "metadata": {
	    "collapsed": true
	   },
	   "outputs": [],
"source": [
"//Caption:Determine the diameter of waveguide & guide wavelength\n",
"//Exa:4.17\n",
"clc;\n",
"clear;\n",
"close;\n",
"c=3*10^10;//in cm/s\n",
"f=6*10^9;//in Hz\n",
"f_c=0.8*f;\n",
"wl_c=c/f_c;\n",
"D=1.841*wl_c/%pi;\n",
"wl_o=c/f;\n",
"wl_g=wl_o/sqrt(1-(wl_o/wl_c)^2);\n",
"disp(D,'Diameter of waveguide (in cm) =');\n",
"disp(wl_g,'Guide wavelength (in cm) =');"
   ]
   }
,
{
		   "cell_type": "markdown",
		   "metadata": {},
		   "source": [
			"## Example 4.18: Show_TE01_mode_propagates_under_given_conditions.sce"
		   ]
		  },
  {
"cell_type": "code",
	   "execution_count": null,
	   "metadata": {
	    "collapsed": true
	   },
	   "outputs": [],
"source": [
"//Caption:Show TE01 mode propagates under given conditions\n",
"//Exa:4.18\n",
"clc;\n",
"clear;\n",
"close;\n",
"a=1.5;//in cm\n",
"b=1;//in cm\n",
"e_r=4;//dielectric\n",
"c=3*10^10;//in cm/s\n",
"wl_c=2*b;\n",
"f_c=c/wl_c;\n",
"f_imp=6*10^9;//impressed frequency (in Hz)\n",
"wl_air=c/f_imp;\n",
"//Inserting dielectric:\n",
"wl_dielec=wl_air/sqrt(e_r);\n",
"if(wl_dielec>wl_c)\n",
"    disp('    TE01 can propagate');\n",
"else\n",
"    disp('    TE01 cannot propagate');\n",
"end"
   ]
   }
,
{
		   "cell_type": "markdown",
		   "metadata": {},
		   "source": [
			"## Example 4.19: Calculate_the_amount_of_attenuation_if_signal_of_frequency_is_6GHz.sce"
		   ]
		  },
  {
"cell_type": "code",
	   "execution_count": null,
	   "metadata": {
	    "collapsed": true
	   },
	   "outputs": [],
"source": [
"//Caption:Calculate the amount of attenuation if signal of frequency is 6GHz\n",
"//Exa:4.19\n",
"clc;\n",
"clear;\n",
"close;\n",
"u=4*%pi*10^-7;\n",
"e=8.85*10^-12;\n",
"c=3*10^10;//in cm/s\n",
"f=6*10^9;//in Hz\n",
"a=1.5;//in cm\n",
"b=1;//in cm\n",
"//For TE10 mode:\n",
"m=1;\n",
"n=0;\n",
"wl_c=2*a;\n",
"f_c=c/wl_c;\n",
"t_1=(m*%pi/a)^2;\n",
"t_2=(n*%pi/b)^2;\n",
"t_3=(((2*%pi*f)^2)*u*e);\n",
"a=sqrt(t_1+t_2-t_3);//in neper/m\n",
"disp(a*20/log(10),'Attenuation (in dB/m) =');"
   ]
   }
,
{
		   "cell_type": "markdown",
		   "metadata": {},
		   "source": [
			"## Example 4.1: EX4_1.sce"
		   ]
		  },
  {
"cell_type": "code",
	   "execution_count": null,
	   "metadata": {
	    "collapsed": true
	   },
	   "outputs": [],
"source": [
"//Caption:Calculate (i)-inductance per unit length,(ii)-capacitance per unit length,(iii)-charcteristic impedance,(iv)-velocity of propagation\n",
"//Exa:4.1\n",
"clc;\n",
"clear;\n",
"close;\n",
"//Given:\n",
"d=0.49;//in cm\n",
"D=1.1;//in cm\n",
"e_r=2.3;\n",
"c=3*10^8;//in meter/second\n",
"L=2*(10^-7)*log(D/d);//in Henry/meter\n",
"C=55.56*(10^-12)*(e_r)/log(D/d);//in farad/meter\n",
"R_o=(60/sqrt(e_r)) *log(D/d);//in ohms\n",
"v=c/sqrt(e_r);//in meter/second\n",
"disp(L,'Inductance per unit length(in H/m) =');\n",
"disp(C,'Capacitance per unit length(in F/m) =');\n",
"disp(R_o,'Characteristic Impedance (in ohms) =');\n",
"disp(v,'Velocity of propagation (in m/s)=');"
   ]
   }
,
{
		   "cell_type": "markdown",
		   "metadata": {},
		   "source": [
			"## Example 4.20: Calculate_the_maximum_power_handling_capacity.sce"
		   ]
		  },
  {
"cell_type": "code",
	   "execution_count": null,
	   "metadata": {
	    "collapsed": true
	   },
	   "outputs": [],
"source": [
"//Caption:Calculate the maximum power handling capacity\n",
"//Exa:4.21\n",
"clc;\n",
"clear;\n",
"close;\n",
"c=3*10^10;//in cm/s\n",
"f=9*10^9;//inHz\n",
"a=3;//in cm\n",
"b=1;//in cm\n",
"E_max=3000;//in V/cm\n",
"wl_o=c/f;\n",
"wl_c=2*a;//in TE10\n",
"wl_g=ceil (wl_o/sqrt(1-(wl_o/wl_c)^2));\n",
"P_max=(6.63*10^-4)*E_max^2*a*b*(wl_o/wl_g);\n",
"disp(P_max/1000,'Maximum power for rectangular waveguide (in kilowatts)=');"
   ]
   }
,
{
		   "cell_type": "markdown",
		   "metadata": {},
		   "source": [
			"## Example 4.21: Calculate_the_maximum_power.sce"
		   ]
		  },
  {
"cell_type": "code",
	   "execution_count": null,
	   "metadata": {
	    "collapsed": true
	   },
	   "outputs": [],
"source": [
"//Caption:Calculate the maximum power \n",
"//Exa:4.21\n",
"clc;\n",
"clear;\n",
"close;\n",
"c=3*10^10;//in cm/s\n",
"f=9*10^9;//inHz\n",
"E_max=300;//in V/cm\n",
"d=5;\n",
"wl_o=c/f;\n",
"//For TE11\n",
"wl_c=d*%pi/1.841;\n",
"wl_g=wl_o/sqrt(1-(wl_o/wl_c)^2);\n",
"P_max=0.498*E_max^2*d^2*(wl_o/wl_g);\n",
"disp(P_max,'Maximum power (in watts) =');"
   ]
   }
,
{
		   "cell_type": "markdown",
		   "metadata": {},
		   "source": [
			"## Example 4.22: Calculate_the_peak_value_of_electric_feild_occuring_in_the_waveguide.sce"
		   ]
		  },
  {
"cell_type": "code",
	   "execution_count": null,
	   "metadata": {
	    "collapsed": true
	   },
	   "outputs": [],
"source": [
"//Caption:Calculate the peak value of electric feild occuring in the waveguide \n",
"//Exa:4.22\n",
"clc;\n",
"clear;\n",
"close;\n",
"c=3*10^10;//in cm/s\n",
"f=30*10^9;//inHz\n",
"a=1;//in cm\n",
"b=1;\n",
"P_max=746;//in watts\n",
"wl_o=c/f;\n",
"wl_c=2*a;\n",
"Z=120*%pi/sqrt(1-(wl_o/wl_c)^2);\n",
"E_max=sqrt(P_max*4*Z/(a*b/10000));\n",
"disp(E_max/1000,'Peak value of electric field (in kV/m) =');"
   ]
   }
,
{
		   "cell_type": "markdown",
		   "metadata": {},
		   "source": [
			"## Example 4.23: EX4_23.sce"
		   ]
		  },
  {
"cell_type": "code",
	   "execution_count": null,
	   "metadata": {
	    "collapsed": true
	   },
	   "outputs": [],
"source": [
"//Caption:Calculate the breakdown power of air filled rectangular waveguide for dominant mode at 9.375 GHz.\n",
"//Exa:4.23\n",
"clc;\n",
"clear;\n",
"close;\n",
"//Given: \n",
"c=3*10^10;//in cm/s\n",
"a=2.3;//in cm\n",
"b=1;//in cm\n",
"f=9.375*10^9;//in Hz\n",
"wl_o=c/f;\n",
"P_bd_TE11=597*2.3*1*{1-{wl_o/(2*a)}^2}^0.5;\n",
"disp(P_bd_TE11,'Breakdown power for dominant mode (in kW) =');"
   ]
   }
,
{
		   "cell_type": "markdown",
		   "metadata": {},
		   "source": [
			"## Example 4.24: Calculate_the_breakdown_power_of_circular_waveguide.sce"
		   ]
		  },
  {
"cell_type": "code",
	   "execution_count": null,
	   "metadata": {
	    "collapsed": true
	   },
	   "outputs": [],
"source": [
"//Caption:Calculate the breakdown power of circular waveguide\n",
"//Exa:4.24\n",
"clc;\n",
"clear;\n",
"close;\n",
"//Given: \n",
"d=5;//in cm\n",
"c=3*10^10;//in cm/s\n",
"f=9*10^9;//inHz\n",
"//Dominant mode is TE11:\n",
"wl_o=c/f;\n",
"wl_c=%pi*d/1.841;\n",
"f_c=c/wl_c;\n",
"P_bd_TE11=1790*(d/2)^2*[1-{f_c/f}^2]^0.5;\n",
"disp(P_bd_TE11/1000,'Breakdown power (in kW) =');"
   ]
   }
,
{
		   "cell_type": "markdown",
		   "metadata": {},
		   "source": [
			"## Example 4.2: EX4_2.sce"
		   ]
		  },
  {
"cell_type": "code",
	   "execution_count": null,
	   "metadata": {
	    "collapsed": true
	   },
	   "outputs": [],
"source": [
"//Caption:Calculate the attenuation, phase constants,phase velocity,relative permittivity,power loss.\n",
"//Exa:4.2\n",
"clc;\n",
"clear;\n",
"close;\n",
"R=0.05;//in ohms\n",
"G=0;\n",
"l=50;//in meter\n",
"e=2.3;//dielectric constant\n",
"c=3*10^8;//in m/s\n",
"L=2*(10^-7);//from Exa:4.1\n",
"C=1.58*(10^-10);//from Exa:4.1\n",
"P_in=480;//in watts\n",
"f=3*10^9;//in hertz\n",
"Z_o=sqrt(L/C);\n",
"a=R/Z_o;//in Np/m\n",
"b=2*%pi*f*sqrt(L*C);//in rad/m\n",
"V_p=1/sqrt(L*C);\n",
"e_r=(c/V_p)^2;\n",
"P_loss=P_in*2*l;\n",
"disp(a,'Atteneuation (in Np/m) =');\n",
"disp(b,'Phase constant (in rad/m) =');\n",
"disp(V_p,'Phase velocity (in m/s) =');\n",
"disp(e_r,'Relative permittivity =');\n",
"disp(P_loss,'Power loss (in watts) =');"
   ]
   }
,
{
		   "cell_type": "markdown",
		   "metadata": {},
		   "source": [
			"## Example 4.3: Calculate_the_breakdown_power_of_air_filled_coaxial_cable.sce"
		   ]
		  },
  {
"cell_type": "code",
	   "execution_count": null,
	   "metadata": {
	    "collapsed": true
	   },
	   "outputs": [],
"source": [
"//Caption:Calculate the breakdown power of air filled coaxial cable at 9.375 GHz.\n",
"//Exa:4.3\n",
"clc;\n",
"clear;\n",
"close;\n",
"//Given: \n",
"a=2.42;//in cm\n",
"x=2.3;//x=(b/a)\n",
"P_bd=3600*a^2*log(x);//in kilowatts\n",
"disp(P_bd,'Breakdown Power (in kW) =');\n",
"\n",
"//answer in book is wrongly written as 398 kW."
   ]
   }
,
{
		   "cell_type": "markdown",
		   "metadata": {},
		   "source": [
			"## Example 4.4: Calculate_charcteristic_impedance_and_velocity_of_propagation.sce"
		   ]
		  },
  {
"cell_type": "code",
	   "execution_count": null,
	   "metadata": {
	    "collapsed": true
	   },
	   "outputs": [],
"source": [
"//Caption:Calculate charcteristic impedance & velocity of propagation.\n",
"//Exa:4.4\n",
"clc;\n",
"clear;\n",
"close;\n",
"b=0.3175;//in cm\n",
"d=0.0539;//in cm\n",
"c=3*10^8;//in m/s\n",
"e_r=2.32;\n",
"Z_o=60*log(4*b/(%pi*d))/sqrt(e_r);//in ohms\n",
"V_p=c/sqrt(e_r);//in m/s\n",
"disp(Z_o,'Charcteristic impedance (in ohms) =');\n",
"disp(V_p,'Velocity of propagation (in m/s) =');"
   ]
   }
,
{
		   "cell_type": "markdown",
		   "metadata": {},
		   "source": [
			"## Example 4.5: EX4_5.sce"
		   ]
		  },
  {
"cell_type": "code",
	   "execution_count": null,
	   "metadata": {
	    "collapsed": true
	   },
	   "outputs": [],
"source": [
"//Caption:Calculate charcteristic impedance & effective dielectric constant & velocity of propagation\n",
"//Exa:4.5\n",
"clc;\n",
"clear;\n",
"close;\n",
"e_r=9.7;\n",
"c=3*10^8;//in m/s\n",
"r_1=0.5;//when ratio: (W/h)=0.5\n",
"r_2=5;//when ratio: (W/h)=5\n",
"//For W/h ratio=0.5\n",
"e_eff_1=(e_r+1)/2+((e_r-1)/2)*[1/{sqrt(1+12*(1/r_1))+0.04*(1-r_1)}];\n",
"Z_o_1=60*log(8/r_1+r_1/4)/sqrt(e_eff_1);\n",
"v_1=c/sqrt(e_eff_1);\n",
"disp('For W/h=0.5 ,');\n",
"disp(e_eff_1,'Effective dielectric constant =');\n",
"disp(Z_o_1,'Charcteristic impedance (in ohms) =');\n",
"disp(v_1,'Velocity of propagation (in m/s) =');\n",
"//For W/h ratio=5\n",
"e_eff_2=(e_r+1)/2+((e_r-1)/2)*[1/{sqrt(1+12*(1/r_2))}];\n",
"Z_o_2=120*%pi*[1/{r_2+1.393+0.667*log(1.444+r_2)}]/sqrt(e_eff_2);\n",
"v_2=c/sqrt(e_eff_2);\n",
"disp('For W/h=5,');\n",
"disp(e_eff_2,'Effective dielectric constant =');\n",
"disp(Z_o_2,'Charcteristic impedance (in ohms) =');\n",
"disp(v_2,'Velocity of propagation (in m/s) =');"
   ]
   }
,
{
		   "cell_type": "markdown",
		   "metadata": {},
		   "source": [
			"## Example 4.6: EX4_6.sce"
		   ]
		  },
  {
"cell_type": "code",
	   "execution_count": null,
	   "metadata": {
	    "collapsed": true
	   },
	   "outputs": [],
"source": [
"//Caption:Calculate ratio of circular waveguide cross-sectional area to rectangular waveguide cross-section\n",
"//Exa:4.6\n",
"clc;\n",
"clear;\n",
"close;\n",
"//For TE Wave propagated:\n",
"//for Rectangular , taking (a=2b)\n",
"r=100;//assume\n",
"//for TE11, wavelength=2*pi*r/1.841\n",
"//for TE10, wavelength=2a\n",
"a=(2*%pi*r/1.841)/2;\n",
"ar_rec_TE=(a)*(a/2);\n",
"ar_cir_TE=%pi*r^2;\n",
"ratio_TE=(ar_cir_TE)/(ar_rec_TE);\n",
"disp(ratio_TE,'Ratio of Circular & Rectangular coss-section area (in TE) =');\n",
"//For TM Wave propagated:\n",
"//for Rectangular , taking (a=2b)\n",
"//for TE01, wavelength=2.6155*r\n",
"//for TE11, wavelength=4b/sqrt(5)\n",
"b=(2.6155*r)/1.78885;\n",
"ar_rec_TM=(b)*(b);\n",
"ar_cir_TM=%pi*r^2;\n",
"ratio_TM=(ar_cir_TM)/(ar_rec_TM);\n",
"disp(ratio_TM,'Ratio of Circular & Rectangular coss-section area (in TM) =');"
   ]
   }
,
{
		   "cell_type": "markdown",
		   "metadata": {},
		   "source": [
			"## Example 4.7: Calculate_breadth_of_rectangular_waveguide.sce"
		   ]
		  },
  {
"cell_type": "code",
	   "execution_count": null,
	   "metadata": {
	    "collapsed": true
	   },
	   "outputs": [],
"source": [
"//Caption:Calculate breadth of rectangular waveguide\n",
"//Exa:4.7\n",
"clc;\n",
"clear;\n",
"close;\n",
"f=9*10^9;//in Hz\n",
"c=3*10^10;//in cm/s\n",
"wl_g=4;//in m\n",
"wl_o=c/f;\n",
"wl_c=[sqrt(1-((wl_o/wl_g)^2))/wl_o]^-1;\n",
"b=wl_c/4;\n",
"disp(b,'Breadth of rectangular waveguide (in cm) =');"
   ]
   }
,
{
		   "cell_type": "markdown",
		   "metadata": {},
		   "source": [
			"## Example 4.8: EX4_8.sce"
		   ]
		  },
  {
"cell_type": "code",
	   "execution_count": null,
	   "metadata": {
	    "collapsed": true
	   },
	   "outputs": [],
"source": [
"//Caption:Calculate the cutoff wavelength, guide wavelength, group & phase velocities\n",
"//Exa:4.8\n",
"clc;\n",
"clear;\n",
"close;\n",
"a=10;//in cm\n",
"c=3*10^10;//in cm/s\n",
"wl_c=2*a;//in cm\n",
"f=2.5*10^9;//in Hz\n",
"wl_o=c/f;\n",
"wl_g=wl_o/(sqrt(1-(wl_o/wl_c)^2));//in cm\n",
"V_p=c/(sqrt(1-(wl_o/wl_c)^2));\n",
"V_g=c^2/V_p;\n",
"disp(wl_c,'Cut-off wavelength (in cm) =');\n",
"disp(wl_g,'Guide wavelength (in cm) =');\n",
"disp(V_p,'Phase velocity (in cm/s) =');\n",
"disp(V_g,'Group velocity (in cm/s) =');"
   ]
   }
,
{
		   "cell_type": "markdown",
		   "metadata": {},
		   "source": [
			"## Example 4.9: Calculate_the_possible_modes_and_cutoff_frequencies_and_guide_wavelength.sce"
		   ]
		  },
  {
"cell_type": "code",
	   "execution_count": null,
	   "metadata": {
	    "collapsed": true
	   },
	   "outputs": [],
"source": [
"//Caption:Calculate (i)-possible modes,(ii)-cut-off frequencies,(iii)-guide wavelength\n",
"//Exa:4.9\n",
"clc;\n",
"clear;\n",
"close;\n",
"//For TE mode:\n",
"a=2.5;//in cm\n",
"b=1;//in cm\n",
"f=8.6*10^9;//in Hz\n",
"c=3*10^10;//in cm/s\n",
"wl_o=c/f;\n",
"wl_c_1=2*b;//for TE01\n",
"wl_c_2=2*a;//for TE10\n",
"disp( 'Only TE10 mode is possible');\n",
"f_c=c/wl_c_2;\n",
"wl_c_3=2*a*b/sqrt(a^2+b^2);//for TE11 & TM11\n",
"wl_g_TE10=wl_o/(sqrt(1-(wl_o/wl_c_2)^2));//for TE10\n",
"disp(f_c,'Cut-off frequency(in Hz) =');\n",
"disp(wl_g_TE10,'Guide wavelength for TE10 (in cm) =');\n",
"//For TM mode:\n",
"disp('TM11 also propagates');\n",
"wl_c_TM11=wl_c_3;\n",
"wl_g_TM11=wl_o/(sqrt(1-(wl_o/wl_c_2)^2));//for TM11\n",
"disp(wl_g_TM11,'Guide wavelength for TM11 (in cm) =');"
   ]
   }
],
"metadata": {
		  "kernelspec": {
		   "display_name": "Scilab",
		   "language": "scilab",
		   "name": "scilab"
		  },
		  "language_info": {
		   "file_extension": ".sce",
		   "help_links": [
			{
			 "text": "MetaKernel Magics",
			 "url": "https://github.com/calysto/metakernel/blob/master/metakernel/magics/README.md"
			}
		   ],
		   "mimetype": "text/x-octave",
		   "name": "scilab",
		   "version": "0.7.1"
		  }
		 },
		 "nbformat": 4,
		 "nbformat_minor": 0
}
