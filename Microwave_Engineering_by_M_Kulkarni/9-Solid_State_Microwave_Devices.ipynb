{
"cells": [
 {
		   "cell_type": "markdown",
	   "metadata": {},
	   "source": [
       "# Chapter 9: Solid State Microwave Devices"
	   ]
	},
{
		   "cell_type": "markdown",
		   "metadata": {},
		   "source": [
			"## Example 9.10: Calculate_the_drift_time_of_carrier_and_operating_frequency_of_diode.sce"
		   ]
		  },
  {
"cell_type": "code",
	   "execution_count": null,
	   "metadata": {
	    "collapsed": true
	   },
	   "outputs": [],
"source": [
"//Caption:Calculate (i)-drift time of carrier ,(ii)-operating frequency of diode \n",
"//Exa:9.10\n",
"clc;\n",
"clear;\n",
"close;\n",
"L=2*10^-6;//drift length (in m)\n",
"v_d=10^5;//in cm/s\n",
"drift_time=L/v_d;\n",
"f=1/(2*drift_time);\n",
"disp(drift_time,'Drift time (in sec) =');\n",
"disp(f*10^-9,'Operating Frequency (in GHz)=');"
   ]
   }
,
{
		   "cell_type": "markdown",
		   "metadata": {},
		   "source": [
			"## Example 9.11: Calculate_the_breakdown_voltage_and_breakdown_electric_field.sce"
		   ]
		  },
  {
"cell_type": "code",
	   "execution_count": null,
	   "metadata": {
	    "collapsed": true
	   },
	   "outputs": [],
"source": [
"//Caption:Calculate (i)-breakdown voltage ,(ii)-breakdown electric field.\n",
"//Exa:9.11\n",
"clc;\n",
"clear;\n",
"close;\n",
"E_r=11.8;\n",
"E_o=8.85*10^-12;\n",
"N=3*10^21;//in per cubic meter\n",
"L=6.2*10^-6;//in meter\n",
"q=1.6*10^-19;//in coulombs\n",
"V_bd=q*N*L^2/(E_o*E_r);\n",
"E_bd=V_bd/L;\n",
"disp(V_bd,'Breakdown voltage (in volts) =');\n",
"disp(E_bd,'Breakdown electric field (in V/m) =');"
   ]
   }
,
{
		   "cell_type": "markdown",
		   "metadata": {},
		   "source": [
			"## Example 9.12: Calculate_the_maximum_power_gain_and_noise_figure_and_bandwidth.sce"
		   ]
		  },
  {
"cell_type": "code",
	   "execution_count": null,
	   "metadata": {
	    "collapsed": true
	   },
	   "outputs": [],
"source": [
" //Caption:Calculate (i)-maximum power gain in dBs ,(ii)-noise figure F in dBs, (iii)-bandwidth for r=0.2\n",
"//Exa:9.12\n",
"clc;\n",
"clear;\n",
"close;\n",
"ratio=8;\n",
"r=0.2;\n",
"r_Q=8;\n",
"T_d=300;//in Kelvin\n",
"T_o=300;//in Kelvin\n",
"X=8;\n",
"G=(ratio)*X/(1+sqrt(1+X))^2;\n",
"G_in_dB=(10*log(G))/log(10);//gain\n",
"disp(G_in_dB,'Maximum Gain (in dB)=');\n",
"F=[10*log(1+(2*T_d/T_o)*[(1/(r_Q))+(1/(r_Q)^2)])]/log(10);//noise figure\n",
"disp(F,'Noise figure (in dB) =');\n",
"B_W=2*r*sqrt(ratio);//bandwidth\n",
"disp(B_W,'bandwidth =');"
   ]
   }
,
{
		   "cell_type": "markdown",
		   "metadata": {},
		   "source": [
			"## Example 9.13: EX9_13.sce"
		   ]
		  },
  {
"cell_type": "code",
	   "execution_count": null,
	   "metadata": {
	    "collapsed": true
	   },
	   "outputs": [],
"source": [
"//Caption:Calculate (i)-equivalent noise resistance, (ii)-gain, (iii)-noise figure, (iv)-bandwidth\n",
"//Exa:9.13\n",
"clc;\n",
"clear;\n",
"close;\n",
"f_s=2*10^9;//in Hz\n",
"f_p=12*10^9;//in Hz\n",
"f_i=10*10^9;//in Hz\n",
"f_d=5*10^9;//in Hz\n",
"R_i=1*10^3;//in ohm\n",
"R_g=1*10^3;//in ohm\n",
"R_T_s=1*10^3;//in ohm\n",
"R_T_i=1*10^3;//in ohm\n",
"T_d=300;//in Kelvin\n",
"T_o=300;//in Kelvin\n",
"w_s=2*%pi*f_s;\n",
"w_i=2*%pi*f_i;\n",
"r=0.35;\n",
"r_Q=10;\n",
"r_d=300;//in ohm\n",
"C=0.01*10^-12;//in Farad\n",
"R=r^2/(w_s*w_i*C^2*R_T_i);\n",
"a=R/R_T_s;\n",
"g=((4*f_i*R_g*R_i*a)/(f_s*R_T_s*R_T_i*(1-a)^2));//gain\n",
"Gain=[10*log(g)]/log(10);//gain in dB\n",
"f={1+((2*T_d)/T_o)*[(1/r_Q)+(1/r_Q^2)]};//noise figure\n",
"F=[10*log(f)]/log(10);//noise figure in dB\n",
"B_W=(r/2)*sqrt(f_d/(f_s*Gain));//bandwidth\n",
"disp(a,'Equivalent noise resistance (in ohm) =');\n",
"disp(Gain,'Gain (in dB) =');\n",
"disp(F,'Noise figure (in dB) =');\n",
"disp(B_W,'Bandwidth =');"
   ]
   }
,
{
		   "cell_type": "markdown",
		   "metadata": {},
		   "source": [
			"## Example 9.1: EX9_1.sce"
		   ]
		  },
  {
"cell_type": "code",
	   "execution_count": null,
	   "metadata": {
	    "collapsed": true
	   },
	   "outputs": [],
"source": [
"//Caption:Calculate operating frequency of IMPATT diode\n",
"//Exa:9.1\n",
"clc;\n",
"clear;\n",
"close;\n",
"v_d=10^7*10^-2;//drift velocity(in m/s)\n",
"L=2*10^-6;//drift length(in m)\n",
"f=v_d/(2*L);//in Hz\n",
"disp(f/10^9,'Operating Frequency (in GHz) =');"
   ]
   }
,
{
		   "cell_type": "markdown",
		   "metadata": {},
		   "source": [
			"## Example 9.2: Determine_threshold_electric_field.sce"
		   ]
		  },
  {
"cell_type": "code",
	   "execution_count": null,
	   "metadata": {
	    "collapsed": true
	   },
	   "outputs": [],
"source": [
"//Caption:Determine threshold electric field\n",
"//Exa:9_2\n",
"clc;\n",
"clear;\n",
"close;\n",
"f=10*10^9;//in Hz\n",
"L=75*10^-6;//Device length (in m)\n",
"V=25;//Voltage pulse amplified (in volts)\n",
"E_th=V/L;\n",
"disp(E_th,'Threshold Electric field (in kV/cm) =');"
   ]
   }
,
{
		   "cell_type": "markdown",
		   "metadata": {},
		   "source": [
			"## Example 9.3: Calculate_the_power_gain_in_dB_and_power_gain_if_it_is_USB_converter.sce"
		   ]
		  },
  {
"cell_type": "code",
	   "execution_count": null,
	   "metadata": {
	    "collapsed": true
	   },
	   "outputs": [],
"source": [
"//Caption:Calculate (i)-power gain in dB ,(ii)-power gain if it is USB converter.\n",
"//Exa:9.3\n",
"clc;\n",
"clear;\n",
"close;\n",
"f_s=2*10^9;//in Hz\n",
"f_p=12*10^9;//in Hz\n",
"R_i=16;\n",
"R_s=1000;\n",
"A_p=10*log((f_p-f_s)/f_s);\n",
"A_p_usb=10*log((f_p+f_s)/f_s);\n",
"disp(log(10),'Power gain (in dB) =');\n",
"disp(A_p_usb,'Power gain as USB converter (in dB) =');"
   ]
   }
,
{
		   "cell_type": "markdown",
		   "metadata": {},
		   "source": [
			"## Example 9.4: EX9_4.sce"
		   ]
		  },
  {
"cell_type": "code",
	   "execution_count": null,
	   "metadata": {
	    "collapsed": true
	   },
	   "outputs": [],
"source": [
"//Caption:Calculate (i)-critical voltage ,(ii)-breakdown voltage, (iii)-breakdown electric field\n",
"//Exa:9.4\n",
"clc;\n",
"clear;\n",
"close;\n",
"E_s=12.5;\n",
"E_o=8.85*10^-12;\n",
"E=E_o*E_s;\n",
"N=3.2*10^22;//per cubic meter\n",
"L=8*10^-6;//in m\n",
"q=1.6*10^-19;//in coulombs\n",
"V_c=q*N*L^2/(2*E);\n",
"V_bd=2*V_c;\n",
"E_bd=V_bd/L;\n",
"disp(V_c/10^3,'Critical voltage(in kV) =');\n",
"disp(V_bd/10^3,'Breakdown Voltage (in kV) =');\n",
"disp(E_bd,'Breakdown Electric field (in V/cm) =');"
   ]
   }
,
{
		   "cell_type": "markdown",
		   "metadata": {},
		   "source": [
			"## Example 9.5: Calculate_the_power_gain_in_dB_and_power_gain_if_it_is_USB_converter.sce"
		   ]
		  },
  {
"cell_type": "code",
	   "execution_count": null,
	   "metadata": {
	    "collapsed": true
	   },
	   "outputs": [],
"source": [
"//Caption:Calculate (i)-power gain in dB ,(ii)-power gain if it is USB converter.\n",
"//Exa:9.5\n",
"clc;\n",
"clear;\n",
"close;\n",
"N_a=2.5*10^16;//per cubic cm\n",
"J=33;//in kA/cm^2\n",
"q=1.6*10^-19;\n",
"V_z=J/(q*N_a);//Avalanche zone velocity (in cm/s)\n",
"disp(V_z,'Avalanche zone velocity (in cm/s) =');"
   ]
   }
,
{
		   "cell_type": "markdown",
		   "metadata": {},
		   "source": [
			"## Example 9.6: Calculate_the_power_gain_in_dB.sce"
		   ]
		  },
  {
"cell_type": "code",
	   "execution_count": null,
	   "metadata": {
	    "collapsed": true
	   },
	   "outputs": [],
"source": [
"//Caption:Calculate the power gain in dB \n",
"//Exa:9.6\n",
"clc;\n",
"clear;\n",
"close;\n",
"R_neg=25;//in ohm\n",
"R_load=50;//in ohm\n",
"G={[- abs(R_neg)-R_load]/[- abs(R_neg)+R_load]}^2;\n",
"disp(G,'Power gain =');"
   ]
   }
,
{
		   "cell_type": "markdown",
		   "metadata": {},
		   "source": [
			"## Example 9.7: Calculate_the_minimum_voltage_needed_to_GUNN_effect.sce"
		   ]
		  },
  {
"cell_type": "code",
	   "execution_count": null,
	   "metadata": {
	    "collapsed": true
	   },
	   "outputs": [],
"source": [
"//Caption:Calculate the minimum voltage needed to GUNN effect\n",
"//Exa:9.7\n",
"clc;\n",
"clear;\n",
"close;\n",
"volt_grad=3.3*10^3;//voltage gradient\n",
"L=5*10^-4;//in drift length\n",
"V_min=volt_grad*L;//in volts\n",
"disp(V_min,'Minimum voltage needed (in Volts) ='); "
   ]
   }
,
{
		   "cell_type": "markdown",
		   "metadata": {},
		   "source": [
			"## Example 9.8: Calculate_the_rational_frequency_and_critical_velocity_of_diode.sce"
		   ]
		  },
  {
"cell_type": "code",
	   "execution_count": null,
	   "metadata": {
	    "collapsed": true
	   },
	   "outputs": [],
"source": [
"//Caption:Calculate the rational frequency & critical velocity of diode.\n",
"//Exa:9.8\n",
"clc;\n",
"clear;\n",
"close;\n",
"v_d=2*10^7;//in cm/s\n",
"L=20*10^-4;//in cm\n",
"f=v_d/L;\n",
"disp(f*10^-9,'Natural frequency (in GHz) =');\n",
"critical_field=3.3*10^3;\n",
"V=L*critical_field;\n",
"disp(V,'Critical voltage (in volts) =');"
   ]
   }
,
{
		   "cell_type": "markdown",
		   "metadata": {},
		   "source": [
			"## Example 9.9: Calculate_the_resonant_frequency_and_efficiency.sce"
		   ]
		  },
  {
"cell_type": "code",
	   "execution_count": null,
	   "metadata": {
	    "collapsed": true
	   },
	   "outputs": [],
"source": [
"//Caption:Calculate the resonant frequency & efficiency.\n",
"//Exa:9.9\n",
"clc;\n",
"clear;\n",
"close;\n",
"L_p=0.5*10^-9;//in H \n",
"C_j=0.5*10^-12;//in F\n",
"V_bd=100;//breakdown voltage (in volts)\n",
"I_bias=100*10^-3;//bias current(in A) \n",
"I_rf_peak=0.8;\n",
"R_l=2;\n",
"f=1/(2*%pi*sqrt(L_p*C_j));\n",
"eff={(0.5*I_rf_peak^2*R_l)/(V_bd*I_bias)}*100;\n",
"disp(f*10^-9,'Resonant frequency (in GHz) =');\n",
"disp(eff,'Efficiency (in percentage) =');"
   ]
   }
],
"metadata": {
		  "kernelspec": {
		   "display_name": "Scilab",
		   "language": "scilab",
		   "name": "scilab"
		  },
		  "language_info": {
		   "file_extension": ".sce",
		   "help_links": [
			{
			 "text": "MetaKernel Magics",
			 "url": "https://github.com/calysto/metakernel/blob/master/metakernel/magics/README.md"
			}
		   ],
		   "mimetype": "text/x-octave",
		   "name": "scilab",
		   "version": "0.7.1"
		  }
		 },
		 "nbformat": 4,
		 "nbformat_minor": 0
}
