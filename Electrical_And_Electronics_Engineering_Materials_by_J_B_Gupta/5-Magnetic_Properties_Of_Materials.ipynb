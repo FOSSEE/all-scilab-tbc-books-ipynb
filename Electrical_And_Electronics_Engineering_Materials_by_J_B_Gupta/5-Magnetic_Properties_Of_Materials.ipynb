{
"cells": [
 {
		   "cell_type": "markdown",
	   "metadata": {},
	   "source": [
       "# Chapter 5: Magnetic Properties Of Materials"
	   ]
	},
{
		   "cell_type": "markdown",
		   "metadata": {},
		   "source": [
			"## Example 5.1: Hysteresis_loss.sce"
		   ]
		  },
  {
"cell_type": "code",
	   "execution_count": null,
	   "metadata": {
	    "collapsed": true
	   },
	   "outputs": [],
"source": [
"//Exa 5.1\n",
"clc;\n",
"clear;\n",
"close;\n",
"// given data\n",
"Area_hysteresis_curve=9.3;//in cm^2\n",
"Cordinate1_1cm=1000;//in AT/m\n",
"Cordinate2_1cm=0.2;//in T\n",
"//Part (i)\n",
"hysteresis_loss=Area_hysteresis_curve*Cordinate1_1cm*Cordinate2_1cm;//in J/m^3/cycle\n",
"disp(hysteresis_loss,'Hysteresis loss/m^3/cycle in J/m^3/cycle: ');\n",
"//Part (ii)\n",
"f=50;//in Hz\n",
"H_LossPerCubicMeter=hysteresis_loss*f;//in Watts\n",
"disp(H_LossPerCubicMeter*10^-3,'Hysteresis loss Per Cubic Meter in KWatts :');"
   ]
   }
,
{
		   "cell_type": "markdown",
		   "metadata": {},
		   "source": [
			"## Example 5.2: Hysteresis_loss.sce"
		   ]
		  },
  {
"cell_type": "code",
	   "execution_count": null,
	   "metadata": {
	    "collapsed": true
	   },
	   "outputs": [],
"source": [
"//Exa 5.2\n",
"clc;\n",
"clear;\n",
"close;\n",
"format('v',11)\n",
"// given data\n",
"Area_hysteresis_loop=93;//in cm^2\n",
"scale1_1cm=0.1;//in Wb/m^2\n",
"scale2_1cm=50;//in AT/m\n",
"\n",
"hysteresis_loss=Area_hysteresis_loop*scale1_1cm*scale2_1cm;//in J/m^3/cycle\n",
"disp(hysteresis_loss,'Hysteresis loss/m^3/cycle in J/m^3/cycle: ');\n",
"\n",
"f=65;//unit less\n",
"V=1500*10^-6;// in m^3\n",
"P_h=hysteresis_loss*f*V;\n",
"disp('Hysteresis loss is : '+string(P_h)+' W');"
   ]
   }
,
{
		   "cell_type": "markdown",
		   "metadata": {},
		   "source": [
			"## Example 5.3: Loss_of_energy.sce"
		   ]
		  },
  {
"cell_type": "code",
	   "execution_count": null,
	   "metadata": {
	    "collapsed": true
	   },
	   "outputs": [],
"source": [
"//Exa 5.3\n",
"clc;\n",
"clear;\n",
"close;\n",
"format('v', 11)\n",
"// given data\n",
"nita=628;// in J/m^3\n",
"B_max=1.3;// in Wb/m^2\n",
"f=25;// in Hz\n",
"ironMass=50;// in kg\n",
"densityOfIron=7.8*10^3;// in kg/m^3\n",
"V=ironMass/densityOfIron;\n",
"x=12.5;// in AT/m\n",
"y=0.1;// in T\n",
"// formula Hysteresis loss/second = nita*B_max^1.6*f*V\n",
"H_Loss_per_second = nita*B_max^1.6*f*V ;// in J/s\n",
"H_Loss_per_second=floor(H_Loss_per_second);\n",
"H_Loss_per_hour= H_Loss_per_second*60*60;// in J\n",
"disp('Hysteresis Loss per hour is : '+string(H_Loss_per_hour)+' J');\n",
"// Let Hysteresis Loss per m^3 per cycle = H1\n",
"H1=nita*B_max^1.6;\n",
"// formula  hysteresis loss/m^3/cycle = x*y*area of B-H loop\n",
"Area_of_B_H_loop=H1/(x*y);\n",
"Area_of_B_H_loop=floor(Area_of_B_H_loop);\n",
"disp('Area of B-H loop is : '+string(Area_of_B_H_loop)+' cm^2');"
   ]
   }
,
{
		   "cell_type": "markdown",
		   "metadata": {},
		   "source": [
			"## Example 5.4: Loss_per_kg_in_a_specimen.sce"
		   ]
		  },
  {
"cell_type": "code",
	   "execution_count": null,
	   "metadata": {
	    "collapsed": true
	   },
	   "outputs": [],
"source": [
"//Exa 5.4\n",
"clc;\n",
"clear;\n",
"close;\n",
"// given data\n",
"H_L_per_M_Cube_per_C=380;// in W-S\n",
"f=50;// unit less\n",
"density=7800;// in kg/m^3\n",
"V=1/density;// in m^3\n",
"// formula Hysteresis loss = Hysteresis loss/m^3/cycle * f * V\n",
"P_h=H_L_per_M_Cube_per_C * f * V;\n",
"disp('Hysteresis loss is : '+string(P_h)+' W');"
   ]
   }
,
{
		   "cell_type": "markdown",
		   "metadata": {},
		   "source": [
			"## Example 5.5: Eddy_current_loss.sce"
		   ]
		  },
  {
"cell_type": "code",
	   "execution_count": null,
	   "metadata": {
	    "collapsed": true
	   },
	   "outputs": [],
"source": [
"//Exa 5.5\n",
"clc;\n",
"clear;\n",
"close;\n",
"// given data\n",
"P_e1=1600;// in watts\n",
"B_max1=1.2;// in T\n",
"f1=50;// in Hz\n",
"B_max2=1.5;// in T\n",
"f2=60;// in Hz\n",
"// P_e propotional to B_max^2*f^2, so\n",
"P_e2=P_e1*(B_max2/B_max1)^2*(f2/f1)^2\n",
"disp('Eddy current loss is : '+string(P_e2)+' watts');"
   ]
   }
],
"metadata": {
		  "kernelspec": {
		   "display_name": "Scilab",
		   "language": "scilab",
		   "name": "scilab"
		  },
		  "language_info": {
		   "file_extension": ".sce",
		   "help_links": [
			{
			 "text": "MetaKernel Magics",
			 "url": "https://github.com/calysto/metakernel/blob/master/metakernel/magics/README.md"
			}
		   ],
		   "mimetype": "text/x-octave",
		   "name": "scilab",
		   "version": "0.7.1"
		  }
		 },
		 "nbformat": 4,
		 "nbformat_minor": 0
}
