{
"cells": [
 {
		   "cell_type": "markdown",
	   "metadata": {},
	   "source": [
       "# Chapter 6: Dielectric Properties Of Materials"
	   ]
	},
{
		   "cell_type": "markdown",
		   "metadata": {},
		   "source": [
			"## Example 6.1: Element_of_parallel_RC_circuit.sce"
		   ]
		  },
  {
"cell_type": "code",
	   "execution_count": null,
	   "metadata": {
	    "collapsed": true
	   },
	   "outputs": [],
"source": [
"//Exa 6.1\n",
"clc;\n",
"clear;\n",
"close;\n",
"// given data\n",
"epsilon_r=2.5;\n",
"epsilon_o=8.854*10^-12;\n",
"d=.2*10^-3;// in m\n",
"A=20*10^-4;// in m^2\n",
"omega=2*%pi*10^6;// in radians/s\n",
"f=10^6;\n",
"tan_delta=4*10^-4;\n",
"C=epsilon_o*epsilon_r*A/d;// in F\n",
"disp('Capicitance is : '+string(C*10^12)+' miu miu F');\n",
"// Formula P=V^2/R, so\n",
"// R=V^2/P and P= V^2*2*%pi* f * C * tan delta, putting the value of P, we get\n",
"R=1/(2*%pi*f*C*tan_delta);// in ohm\n",
"disp('The element of parallel R-C circuit is : '+string(R*10^-6)+' M ohm');\n",
""
   ]
   }
,
{
		   "cell_type": "markdown",
		   "metadata": {},
		   "source": [
			"## Example 6.2: Charge_sensitivity.sce"
		   ]
		  },
  {
"cell_type": "code",
	   "execution_count": null,
	   "metadata": {
	    "collapsed": true
	   },
	   "outputs": [],
"source": [
"//Exa 6.2\n",
"clc;\n",
"clear;\n",
"close;\n",
"// given data\n",
"g=0.055;// in V-m/N\n",
"t=2*10^-3;// in m\n",
"P=1.25*10^6;// in N/m^2\n",
"epsilon=40.6*10^-12;// in F/m\n",
"V_out=g*t*P;\n",
"disp('Output voltage is : '+string(V_out)+' V');\n",
"// Formula Charge Sensivity=epsilon_o*epsilon_r*g=epsilon*g\n",
"ChargeSensivity=epsilon*g;\n",
"disp('Charge Sensivity is : '+string(ChargeSensivity)+' C/N');\n",
"\n",
""
   ]
   }
,
{
		   "cell_type": "markdown",
		   "metadata": {},
		   "source": [
			"## Example 6.3: Force_required_to_develop_a_voltage.sce"
		   ]
		  },
  {
"cell_type": "code",
	   "execution_count": null,
	   "metadata": {
	    "collapsed": true
	   },
	   "outputs": [],
"source": [
"//Exa 6.3\n",
"clc;\n",
"clear;\n",
"close;\n",
"// given data\n",
"V_out=150;// in V\n",
"t=2*10^-3;// in m\n",
"g=0.05;// in V-m/N\n",
"A=5*5*10^-6;// in m^2\n",
"F=V_out*A/(g*t);// in N\n",
"disp('Force applied is : '+string(F)+' N')\n",
""
   ]
   }
,
{
		   "cell_type": "markdown",
		   "metadata": {},
		   "source": [
			"## Example 6.4: Charge_and_its_capacitance.sce"
		   ]
		  },
  {
"cell_type": "code",
	   "execution_count": null,
	   "metadata": {
	    "collapsed": true
	   },
	   "outputs": [],
"source": [
"//Exa 6.4\n",
"clc;\n",
"clear;\n",
"close;\n",
"// given data\n",
"g=12*10^-3;// in V-m/N\n",
"t=1.25*10^-3;// in m\n",
"A=5*5*10^-6;// in m^2\n",
"F=3;// in N\n",
"ChargeSensitivity=150*10^-12;// in C/N\n",
"P=F/A;\n",
"V_out=g*t*P;// in V\n",
"Q=ChargeSensitivity*F;\n",
"disp('Total charge developed is : '+string(Q)+' C');\n",
"// Formula C=Q/V;\n",
"C=Q/V_out;\n",
"disp('Capacitance is : '+string(C*10^12)+' miu miu F');\n",
"\n",
"// Note: Answer in the Book is wrong"
   ]
   }
],
"metadata": {
		  "kernelspec": {
		   "display_name": "Scilab",
		   "language": "scilab",
		   "name": "scilab"
		  },
		  "language_info": {
		   "file_extension": ".sce",
		   "help_links": [
			{
			 "text": "MetaKernel Magics",
			 "url": "https://github.com/calysto/metakernel/blob/master/metakernel/magics/README.md"
			}
		   ],
		   "mimetype": "text/x-octave",
		   "name": "scilab",
		   "version": "0.7.1"
		  }
		 },
		 "nbformat": 4,
		 "nbformat_minor": 0
}
