{
"cells": [
 {
		   "cell_type": "markdown",
	   "metadata": {},
	   "source": [
       "# Chapter 2: Conductivity of metals"
	   ]
	},
{
		   "cell_type": "markdown",
		   "metadata": {},
		   "source": [
			"## Example 2.10: Resistivity_of_silico.sce"
		   ]
		  },
  {
"cell_type": "code",
	   "execution_count": null,
	   "metadata": {
	    "collapsed": true
	   },
	   "outputs": [],
"source": [
"//Exa10\n",
"clc;\n",
"clear;\n",
"close;\n",
"//given data\n",
"miu_e=0.17;//in m^2/V-s\n",
"miu_h=0.035;//in m^2/V-s\n",
"nita_i=1.1*10^16; //in /m^3\n",
"e=1.6*10^-19;// in C (electron charge)\n",
"// Intrinsic conductivity,\n",
"sigma_i=(nita_i*e)*(miu_e+miu_h);\n",
"IntrinsicResistivity=1/sigma_i;\n",
"disp('Intrinsic resistivity is : '+string(IntrinsicResistivity)+' ohm-meter');"
   ]
   }
,
{
		   "cell_type": "markdown",
		   "metadata": {},
		   "source": [
			"## Example 2.11: Carrier_density.sce"
		   ]
		  },
  {
"cell_type": "code",
	   "execution_count": null,
	   "metadata": {
	    "collapsed": true
	   },
	   "outputs": [],
"source": [
"//Exa11\n",
"clc;\n",
"clear;\n",
"close;\n",
"//given data\n",
"rho_i=2*10^-3; //in ohm-m  (there is miss printed in this line in the book)\n",
"sigma_i=1/rho_i;\n",
"miu_e=0.3;// in m^2/V-s\n",
"miu_h=0.1;//  in m^2/V-s\n",
"e=1.6*10^-19; // in C\n",
"// Formula sigma_i=nita_i*e*(miu_e+miu_h)\n",
"nita_i=sigma_i/(e*(miu_e+miu_h));\n",
"disp('Carrier density is : '+string(nita_i)+' /m^3');"
   ]
   }
,
{
		   "cell_type": "markdown",
		   "metadata": {},
		   "source": [
			"## Example 2.13: Temperature_of_coil.sce"
		   ]
		  },
  {
"cell_type": "code",
	   "execution_count": null,
	   "metadata": {
	    "collapsed": true
	   },
	   "outputs": [],
"source": [
"//Exa2.13\n",
"clc;\n",
"clear;\n",
"close;\n",
"//given data\n",
"R_15=250;// in ohm\n",
"R_t2=300 ;// in ohm\n",
"alpha=0.0039;// in degree C\n",
"t1=15;\n",
"//Formula R_t2 = R_15 * [1 + alpha1*(t2 - t1)]\n",
"t2=((R_t2/R_15)-1)/alpha+t1;\n",
"disp('Temperature when its resistance is 300 ohms is : '+string(t2)+' degree C');"
   ]
   }
,
{
		   "cell_type": "markdown",
		   "metadata": {},
		   "source": [
			"## Example 2.15: Resistance_of_the_coil.sce"
		   ]
		  },
  {
"cell_type": "code",
	   "execution_count": null,
	   "metadata": {
	    "collapsed": true
	   },
	   "outputs": [],
"source": [
"//Exa2.15\n",
"clc;\n",
"clear;\n",
"close;\n",
"//given data\n",
"alpha0=0.0038;// in ohm/ohm/degree C\n",
"t1=20; //in degree C\n",
"alpha20=1/(1/alpha0+t1);\n",
"R1=400;//in ohm\n",
"//Formula R2=R1*[1+alpha20*(t2-t1)]\n",
"R2=R1*[1+alpha20*(80-20)];\n",
"disp('Resistance of wire at 80 degree C si : '+string(R2)+' ohm')"
   ]
   }
,
{
		   "cell_type": "markdown",
		   "metadata": {},
		   "source": [
			"## Example 2.16: Temperature_coefficient_of_resistance.sce"
		   ]
		  },
  {
"cell_type": "code",
	   "execution_count": null,
	   "metadata": {
	    "collapsed": true
	   },
	   "outputs": [],
"source": [
"//Exa2.16\n",
"clc;\n",
"clear;\n",
"close;\n",
"disp('Let the temperature coefficient of resistance of material at 0 degree C be alpha0');\n",
"disp('Resistance at 25 degree C, R1 = R0 * (1+25*alpha0)                (i)');\n",
"disp('Resistance at 70 degree C, R2 = R0 * (1+70*alpha0)                (ii)');\n",
"disp('Dividing Eq.(ii) by Eq.(i), we get');\n",
"disp('R2/R1= (1+70*alpha0)/(1+25*alpha0)');\n",
"disp('or  57.2/50 = (1+70*alpha0)/(1+25*alpha0)');\n",
"disp('or alpha0 = 0.00348 ohm/ohm/degree C');"
   ]
   }
,
{
		   "cell_type": "markdown",
		   "metadata": {},
		   "source": [
			"## Example 2.17: Temperature_coefficient_of_resistance.sce"
		   ]
		  },
  {
"cell_type": "code",
	   "execution_count": null,
	   "metadata": {
	    "collapsed": true
	   },
	   "outputs": [],
"source": [
"//Exa2.17\n",
"clc;\n",
"clear;\n",
"close;\n",
"disp('Let the temperature coefficient of resistance of material coil at 0 degree C be alpha0,then');\n",
"disp('Resistance at 25 degree C, R1 = R0 * (1+25*alpha0)                (i)');\n",
"disp('Resistance at 75 degree C, R2 = R0 * (1+75*alpha0)                (ii)');\n",
"disp('Dividing Eq.(ii) by Eq.(i), we get');\n",
"disp('R2/R1= (1+75*alpha0)/(1+25*alpha0)');\n",
"disp('or  49/45 = (1+75*alpha0)/(1+25*alpha0)');\n",
"disp('or alpha0 = 0.00736 ohm/ohm/degree C');\n",
""
   ]
   }
,
{
		   "cell_type": "markdown",
		   "metadata": {},
		   "source": [
			"## Example 2.18: Resistance_and_temperature_coefficient.sce"
		   ]
		  },
  {
"cell_type": "code",
	   "execution_count": null,
	   "metadata": {
	    "collapsed": true
	   },
	   "outputs": [],
"source": [
"//Exa2.18\n",
"clc;\n",
"clear;\n",
"close;\n",
"disp('Let the temperature coefficient of resistance of platinum at 0 degree C be alpha0 and resistance of platinum coil at 0 degree C be R0,then');\n",
"disp('Resistance at 40 degree C, R1 = R0 * (1+40*alpha0)                (i)');\n",
"disp('Resistance at 100 degree C, R2 = R0 * (1+100*alpha0)                (ii)');\n",
"disp('Dividing Eq.(ii) by Eq.(i), we have');\n",
"disp('R2/R1= (1+100*alpha0)/(1+40*alpha0)');\n",
"disp('or  3.767/3.146 = (1+100*alpha0)/(1+40*alpha0)');\n",
"disp('or alpha0 = 0.00379 ohm/ohm/degree C');\n",
"alpha0=0.00379;// in ohm/ohm/degree C\n",
"disp('Temperature coefficient of resistance at 40 degree C,')\n",
"alpha40=1/(1/alpha0+40);\n",
"disp(alpha40);\n",
"disp('Substituting R1=3.146 and alpha0=0.00379 in Eq. (i) we have')\n",
"R1=3.146;//in ohm\n",
"//Formula R1 = R0 * (1+40*alpha0)\n",
"R0=R1/(1+40*alpha0);\n",
"disp('Resistance of platinum coil at 0 degree C is : '+string(R0)+' ohm ');\n",
""
   ]
   }
,
{
		   "cell_type": "markdown",
		   "metadata": {},
		   "source": [
			"## Example 2.19: Mean_temperature_rise.sce"
		   ]
		  },
  {
"cell_type": "code",
	   "execution_count": null,
	   "metadata": {
	    "collapsed": true
	   },
	   "outputs": [],
"source": [
"//Exa2.19\n",
"clc;\n",
"clear;\n",
"close;\n",
"disp('Let R0 be the resistance of the coil at 0 degree C and alpha0 be its temperature coefficient of resistance at 0 degree C');\n",
"disp('Resistance at 20 degree C, 18 = R0 * (1+20*alpha0)                (i)');\n",
"disp('Resistance at 50 degree C, 20 = R0 * (1+50*alpha0)                (ii)');\n",
"disp('Dividing Eq.(ii) by Eq.(i), we have');\n",
"disp('20/18= (1+50*alpha0)/(1+20*alpha0)');\n",
"disp('or alpha0 = 1/250=0.004 ohm/ohm/degree C');\n",
"disp('If t degree C is the temperature of coil when its resistance is 21 ohm, then');\n",
"disp('21=R0*(1+0.004*t)');\n",
"disp('Dividing Eq.(iii) by Eq.(ii), we have');\n",
"disp('21/20=(1+0.004*t)/(1+50*0.004)');\n",
"disp('or t=65 degree C');\n",
"disp('Temperature rise = t-surrounding temperature = 65 - 15 = 50 degree C');\n",
""
   ]
   }
,
{
		   "cell_type": "markdown",
		   "metadata": {},
		   "source": [
			"## Example 2.1: Drift_Velocity_of_Electrons.sce"
		   ]
		  },
  {
"cell_type": "code",
	   "execution_count": null,
	   "metadata": {
	    "collapsed": true
	   },
	   "outputs": [],
"source": [
"//Exa2.1\n",
"clc;\n",
"clear;\n",
"close;\n",
"//given data :\n",
"J=2.4; //in A/mm^2\n",
"J=2.4*10^6; //in A/m^2\n",
"n=5*10^28; //unitless\n",
"e=1.6*10^-19; // in coulomb\n",
"//Formula : J=e*n*v\n",
"v=J/(e*n);//in m/s\n",
"disp('Drift velocity is : '+string(v)+' m/s or '+string(v*10^3)+' mm/s')"
   ]
   }
,
{
		   "cell_type": "markdown",
		   "metadata": {},
		   "source": [
			"## Example 2.20: Specific_resistance_and_resistance_temperature_coefficient.sce"
		   ]
		  },
  {
"cell_type": "code",
	   "execution_count": null,
	   "metadata": {
	    "collapsed": true
	   },
	   "outputs": [],
"source": [
"//Exa2.20\n",
"clc;\n",
"clear;\n",
"close;\n",
"//given data\n",
"alpha20=1/254.5;// in ohm/ohm/degree C\n",
"t2=60;//degree C\n",
"t1=20;//degree C\n",
"rho0=1.6*10^-6;\n",
"alpha60=1/(1/alpha20+(t2-t1));\n",
"disp('Temperature coefficient of resistance at 60 degree C is : '+string(alpha60)+' ohm/ohm/degree C');\n",
"//from alpha20=1/(1/alpha0+20)\n",
"alpha0=1/(1/alpha20-20);\n",
"//Formula rho60=rho0*(1+alpha0*t)\n",
"rho60=rho0*(1+alpha0*t2);\n",
"disp('Specific resistance at 60 degree C is : '+string(rho60)+' ohm-cm')"
   ]
   }
,
{
		   "cell_type": "markdown",
		   "metadata": {},
		   "source": [
			"## Example 2.21: Resistivity_of_the_wire_material.sce"
		   ]
		  },
  {
"cell_type": "code",
	   "execution_count": null,
	   "metadata": {
	    "collapsed": true
	   },
	   "outputs": [],
"source": [
"//Exa2.21\n",
"clc;\n",
"clear;\n",
"close;\n",
"//given data\n",
"R=95.5;//in ohm\n",
"l=1;//in meter\n",
"d=0.08;//in mm\n",
"d=d*10^-3;//in meter\n",
"a=(%pi*d^2)/4;\n",
"//Formula R=rho*l/a\n",
"rho=R*a/l;\n",
"disp('Resistance of the wire material is : '+string(rho)+' ohm-meter')"
   ]
   }
,
{
		   "cell_type": "markdown",
		   "metadata": {},
		   "source": [
			"## Example 2.22: Resistance_of_the_wire.sce"
		   ]
		  },
  {
"cell_type": "code",
	   "execution_count": null,
	   "metadata": {
	    "collapsed": true
	   },
	   "outputs": [],
"source": [
"//Exa2.22\n",
"clc;\n",
"clear;\n",
"close;\n",
"//given data\n",
"R=4;//in ohm\n",
"d=0.0274;//in cm\n",
"d=0.000274;//in meter\n",
"rho=10.3;//in miu ohm-cm\n",
"rho=10.3*10^-8;//in ohm-m\n",
"a=(%pi*d^2)/4;\n",
"\n",
"//Formula R=rho*l/a\n",
"l=R*a/rho;\n",
"disp('Lenght of wire is : '+string(l)+' meters')"
   ]
   }
,
{
		   "cell_type": "markdown",
		   "metadata": {},
		   "source": [
			"## Example 2.23: Current_flowing.sce"
		   ]
		  },
  {
"cell_type": "code",
	   "execution_count": null,
	   "metadata": {
	    "collapsed": true
	   },
	   "outputs": [],
"source": [
"//Exa2.23\n",
"clc;\n",
"clear;\n",
"close;\n",
"//given data\n",
"V=220;// in V\n",
"W=100;//in watt\n",
"R100=V^2/W;//in ohm\n",
"alpha20=0.005;\n",
"t1=20;\n",
"t2=2000;\n",
"// since R100=R20*[1+alpha20*(t2-t1)]\n",
"R20=R100/(1+alpha20 * (t2-t1));\n",
"I20=V/R20;\n",
"disp('Current flowing at the instant of switching on a 100 W metal filament lamp is : '+string(I20)+' A')"
   ]
   }
,
{
		   "cell_type": "markdown",
		   "metadata": {},
		   "source": [
			"## Example 2.24: Resistance_and_temperature_coefficient_of_combination.sce"
		   ]
		  },
  {
"cell_type": "code",
	   "execution_count": null,
	   "metadata": {
	    "collapsed": true
	   },
	   "outputs": [],
"source": [
"//Exa2.24\n",
"clc;\n",
"clear;\n",
"close;\n",
"//given data\n",
"t2=50;// in degree C\n",
"t1=20; // in degree C\n",
"R1=600;// in ohm\n",
"R2=300;// in ohm\n",
"\n",
"// Let resistance of 600 ohm resistance at 50 degree C = R_600\n",
"R_600=R1*(1+(t2-t1)*.001);// in ohm\n",
"// Let resistance of 300 ohm resistance at 50 degree C = R_300\n",
"R_300=R2*(1+(t2-t1)*.004);// in ohm\n",
"R_50=R_600+R_300;// in ohm\n",
"disp('Resistance of combination at 50degree C is : '+string(R_50)+ ' ohm')\n",
"R_20=R1+R2;// in ohm\n",
"alpha_20=(R_50/R_20-1)/(t2-t1);\n",
"alpha_50=1/(1/(alpha_20)+(t2-t1));\n",
"disp('Effective temperature coefficient of combination at 50 degree C is : '+string(alpha_50)+'  or 1/530 per degree C')"
   ]
   }
,
{
		   "cell_type": "markdown",
		   "metadata": {},
		   "source": [
			"## Example 2.25: Impurity_percent.sce"
		   ]
		  },
  {
"cell_type": "code",
	   "execution_count": null,
	   "metadata": {
	    "collapsed": true
	   },
	   "outputs": [],
"source": [
"//Exa2.25\n",
"clc;\n",
"clear;\n",
"close;\n",
"//given data\n",
"toh=1.73//in micro-ohm-cm\n",
"tohDesh=1.74;//in micro-ohm-cm\n",
"sigma=1/toh;// conductivities of pure metal\n",
"sigmaDesh=1/tohDesh;//conductivities metal with impurity\n",
"PercentImpurity=((sigma-sigmaDesh)/sigma)*100;\n",
"disp(' Percent impurity in the rod is : '+string(PercentImpurity)+' %')"
   ]
   }
,
{
		   "cell_type": "markdown",
		   "metadata": {},
		   "source": [
			"## Example 2.26: Electronic_contribution_of_thermal_conductivity_of_aluminium.sce"
		   ]
		  },
  {
"cell_type": "code",
	   "execution_count": null,
	   "metadata": {
	    "collapsed": true
	   },
	   "outputs": [],
"source": [
"//Exa2.26\n",
"clc;\n",
"clear;\n",
"close;\n",
"//given data\n",
"ElectricalResistivity=2.86*10^-6;//in ohm-cm\n",
"sigma=1/ElectricalResistivity;\n",
"T=273+20;// in Kelvin (Temperature)\n",
"//Formula K/(sigma*T)=2.44*10^-8\n",
"disp('Thermal conductivity of Al ')\n",
"K=(2.44*10^-8*T*sigma);\n",
"disp(K);"
   ]
   }
,
{
		   "cell_type": "markdown",
		   "metadata": {},
		   "source": [
			"## Example 2.27: EMP_developed_per_degree_centigrade.sce"
		   ]
		  },
  {
"cell_type": "code",
	   "execution_count": null,
	   "metadata": {
	    "collapsed": true
	   },
	   "outputs": [],
"source": [
"//Exa2.27\n",
"clc;\n",
"clear;\n",
"close;\n",
"//given data\n",
"E_AC=16*10^-6;//in V per degree C\n",
"E_BC=-34*10^-6;//in V per degree C\n",
"//By law of successive contact (or intermediate metals)\n",
"E_AB=E_AC-E_BC;//in V/degree C\n",
"E_AB=E_AB*10^6;// in miu V/degree C\n",
"disp('EMF of iron with respect to constantan is : '+string(E_AB)+' micro V/degree C')"
   ]
   }
,
{
		   "cell_type": "markdown",
		   "metadata": {},
		   "source": [
			"## Example 2.28: EMF_developed_in_couple.sce"
		   ]
		  },
  {
"cell_type": "code",
	   "execution_count": null,
	   "metadata": {
	    "collapsed": true
	   },
	   "outputs": [],
"source": [
"//Exa2.28\n",
"clc;\n",
"clear;\n",
"close;\n",
"//given data\n",
"E_AC=7.4;//in miu V per degree C\n",
"E_BC=-34.4;//in miu V per degree C\n",
"//By law of successive contact (or intermediate metals)\n",
"E_AB=E_AC-E_BC;//in miu V/degree C\n",
"E_AB=E_AB*10^-6;// in  V/degree C\n",
"// Let Thermo-emf for a temperature difference of 250 degree C = EMF_250\n",
"EMF_250=E_AB*250;// in V\n",
"EMF_250=EMF_250*10^3;//in mV\n",
"disp('Termo-emf for a temperature difference of 250 degree C is '+string(EMF_250)+' mV');"
   ]
   }
,
{
		   "cell_type": "markdown",
		   "metadata": {},
		   "source": [
			"## Example 2.29: Thermo_electric_emf_generated.sce"
		   ]
		  },
  {
"cell_type": "code",
	   "execution_count": null,
	   "metadata": {
	    "collapsed": true
	   },
	   "outputs": [],
"source": [
"//Exa2.29\n",
"clc;\n",
"clear;\n",
"close;\n",
"//given data\n",
"//Take iron as metal A and copper as metal B with respect to lead\n",
"//For metal A:\n",
"p_A=16.2;\n",
"q_A=-0.02;\n",
"//For metal B:\n",
"p_B=2.78;\n",
"q_B=+0.009;\n",
"p_AB=p_A-p_B;\n",
"q_AB=q_A-q_B;\n",
"T2=210;//in degree C\n",
"T1=10;// in degree C\n",
"E=p_AB*(T2-T1)+q_AB/2*(T2^2-T1^2);\n",
"disp('Thermo-electric emf is : '+string(E)+' micro V');\n",
"Tn=-p_AB/q_AB;\n",
"disp('Neutral temperature is : '+string(Tn)+' degree C');"
   ]
   }
,
{
		   "cell_type": "markdown",
		   "metadata": {},
		   "source": [
			"## Example 2.2: Magnitude_of_current.sce"
		   ]
		  },
  {
"cell_type": "code",
	   "execution_count": null,
	   "metadata": {
	    "collapsed": true
	   },
	   "outputs": [],
"source": [
"//Exa2\n",
"clc;\n",
"clear;\n",
"close;\n",
"//given data :\n",
"//Electron density\n",
"n=1*10^24;//unit less\n",
"//Electron charge\n",
"e=1.6*10^-19; // in coulomb\n",
"//Drift velocity\n",
"v=1.5*10^-2; // in meter per second\n",
"//cross-sectional area\n",
"A=1; // in centimeter square\n",
"A=1*10^-4; // in meter square\n",
"I=e*n*v*A;// in ampere\n",
"disp('Magnitude of current is :'+string(I)+' A')"
   ]
   }
,
{
		   "cell_type": "markdown",
		   "metadata": {},
		   "source": [
			"## Example 2.30: EX2_30.sce"
		   ]
		  },
  {
"cell_type": "code",
	   "execution_count": null,
	   "metadata": {
	    "collapsed": true
	   },
	   "outputs": [],
"source": [
"//Exa2.30\n",
"clc;\n",
"clear;\n",
"close;\n",
"//given data\n",
"p_A=17.34;\n",
"q_A=-0.0487;\n",
"p_B=1.36;\n",
"q_B=+0.0095;\n",
"p_AB=p_A-p_B;\n",
"q_AB=q_A-q_B;\n",
"T2=210;//in degree C\n",
"T1=10;// in degree C\n",
"E=p_AB*(T2-T1)+q_AB/2*(T2^2-T1^2);//in miu V\n",
"E=E*10^-3;//in m V\n",
"disp('Thermo-electric emf is : '+string(ceil(E))+' m V');\n",
"Tn=-p_AB/q_AB;\n",
"disp('Neutral temperature is : '+string(ceil(Tn))+' degree C');\n",
"Tc=10;// in degree C\n",
"Ti=Tn+(Tn-Tc);\n",
"disp('Temperature of inversion is : '+string(ceil(Ti))+' degree C');\n",
"E_max=15.98*(275-10)-1/2*0.0582*[275^2-10^2];//in miu V\n",
"E_max=E_max*10^-3;// in mV\n",
"disp('Maximum possible thermo-electric emf at neutral temperature that is at 275 degree C is : '+string(E_max)+' mV');"
   ]
   }
,
{
		   "cell_type": "markdown",
		   "metadata": {},
		   "source": [
			"## Example 2.31: Potential_difference.sce"
		   ]
		  },
  {
"cell_type": "code",
	   "execution_count": null,
	   "metadata": {
	    "collapsed": true
	   },
	   "outputs": [],
"source": [
"//Exa2.31\n",
"clc;\n",
"clear;\n",
"close;\n",
"//given data\n",
"rho=146*10^-6// in ohm-cm\n",
"a=1;//in cm^2\n",
"l=1;//in cm\n",
"// let current = i\n",
"i=0.06;//in amp \n",
"R=rho*l/a;//in ohm\n",
"// Let potential difference per degree centigrade = P\n",
"P=i*R;// By Ohm's law\n",
"disp('Potential difference per degree centigrade is : '+string(P)+' volt');"
   ]
   }
,
{
		   "cell_type": "markdown",
		   "metadata": {},
		   "source": [
			"## Example 2.32: EMF_for_a_copper_iron_thermo_couple.sce"
		   ]
		  },
  {
"cell_type": "code",
	   "execution_count": null,
	   "metadata": {
	    "collapsed": true
	   },
	   "outputs": [],
"source": [
"//Exa2.32\n",
"clc;\n",
"clear;\n",
"close;\n",
"//given data\n",
"T_lower=10;// in degree C\n",
"T_upper=150;// in degree C\n",
"\n",
"// Thermo-electric power for iron at any temperature T degree C w.r.t. lead is given by (17.34-0.0487 T)*10^-6 and that for copper by (1.36-.0095 T)*10^-6\n",
"\n",
"// Thermo-electric power, P=dE/dT\n",
"// or dE=P*dT\n",
"// Thermo-emf for copper between temperature 10 degree C and 150 degree C,\n",
"E_c= integrate('(1.36-0.0095*T)*10^-6','T',T_lower,T_upper);\n",
"\n",
"// Thermo-emf for iron between temperature 10 degree C and 150 degree C,\n",
"E_i= integrate('(17.34-0.0487*T)*10^-6','T',T_lower,T_upper);\n",
"\n",
"// Thermo-emp for copper-iron thermo-couple\n",
"E=E_i-E_c;\n",
"\n",
"disp('Thermo-emf for iron between temperature 10 degree C and 150 degree C is : '+string(E*10^6)+' micro V');\n",
""
   ]
   }
,
{
		   "cell_type": "markdown",
		   "metadata": {},
		   "source": [
			"## Example 2.34: Critical_magnetic_field.sce"
		   ]
		  },
  {
"cell_type": "code",
	   "execution_count": null,
	   "metadata": {
	    "collapsed": true
	   },
	   "outputs": [],
"source": [
"//Exa2.34\n",
"clc;\n",
"clear;\n",
"close;\n",
"//given data\n",
"Hc_0=8*10^5;//in A/m\n",
"Tc=7.26;//in K\n",
"T=4;//in K\n",
"Hc_T=Hc_0*[1-(T/Tc)^2]';\n",
"disp('The critical value of magnetic field at T=4 K is : '+string(Hc_T)+' A/m');"
   ]
   }
,
{
		   "cell_type": "markdown",
		   "metadata": {},
		   "source": [
			"## Example 2.35: Critical_current.sce"
		   ]
		  },
  {
"cell_type": "code",
	   "execution_count": null,
	   "metadata": {
	    "collapsed": true
	   },
	   "outputs": [],
"source": [
"//Exa2.35\n",
"clc;\n",
"clear;\n",
"close;\n",
"//given data\n",
"Hc=7900;//in A/m\n",
"d=1;//in mm\n",
"r=d/2;//in mm\n",
"r=r*10^-3;//in m\n",
"Ic=2*%pi*r*Hc;\n",
"disp('Critical current is : '+string(Ic)+' A');"
   ]
   }
,
{
		   "cell_type": "markdown",
		   "metadata": {},
		   "source": [
			"## Example 2.36: Critical_current_density.sce"
		   ]
		  },
  {
"cell_type": "code",
	   "execution_count": null,
	   "metadata": {
	    "collapsed": true
	   },
	   "outputs": [],
"source": [
"//Exa2.36\n",
"clc;\n",
"clear;\n",
"close;\n",
"//given data\n",
"Hc_0=8*10^4;//in A/m\n",
"Tc=7.2;//in K\n",
"T=4.5;//in K\n",
"d=1;//in mm\n",
"r=d/2;//in mm\n",
"r=r*10^-3;//in m\n",
"Hc=Hc_0*[1-(T/Tc)^2]';\n",
"disp('The critical field at T=4.5 K is : '+string(Hc)+' A/m');\n",
"Ic=2*%pi*r*Hc;\n",
"disp('Critical current is : '+string(Ic)+' A');"
   ]
   }
,
{
		   "cell_type": "markdown",
		   "metadata": {},
		   "source": [
			"## Example 2.37: Diameter_of_copper_wire.sce"
		   ]
		  },
  {
"cell_type": "code",
	   "execution_count": null,
	   "metadata": {
	    "collapsed": true
	   },
	   "outputs": [],
"source": [
"//Exa2.37\n",
"clc;\n",
"clear;\n",
"close;\n",
"format('v',5)\n",
"// Formula R=rho*l/a\n",
"//putting value for copper wire\n",
"R=2;// in ohm\n",
"l=100;//in meter\n",
"rho=1.7*10^-8;// (for copper)\n",
"a=rho*l/R;//in meter\n",
"a=a*10^6;// in mm\n",
"// Formula a=%pi/4*d^2\n",
"d_copper=sqrt(a*4/%pi); //  (d_copper is diameter for copper)\n",
"\n",
"// Formula R=rho*l/a\n",
"//putting value for Aluminium wire\n",
"R=2;// in ohm\n",
"l=100;//in meter\n",
"rho=2.8*10^-8;// (for aluminium)\n",
"a=rho*l/R;//in meter\n",
"a=a*10^6;// in mm\n",
"// Formula a=%pi/4*d^2\n",
"d_aluminium=sqrt(a*4/%pi); //  (d_aluminium is diameter for aluminium)\n",
"DiaRatio=d_aluminium/d_copper; //  (DiaRatio is ratio of diameter of aluminium and copper)\n",
"disp('The diameter of the aluminium wire is '+string(DiaRatio)+' times that of copper wire');\n",
""
   ]
   }
,
{
		   "cell_type": "markdown",
		   "metadata": {},
		   "source": [
			"## Example 2.38: Resistance_of_liquid_resistor.sce"
		   ]
		  },
  {
"cell_type": "code",
	   "execution_count": null,
	   "metadata": {
	    "collapsed": true
	   },
	   "outputs": [],
"source": [
"//Exa2.38\n",
"clc;\n",
"clear;\n",
"close;\n",
"format('v',7)\n",
"//given data\n",
"l=60;// in cm\n",
"l=l*10^-2;//in meter\n",
"d=20;// in cm \n",
"d=d*10^-2;//in meter\n",
"D=35;// in cm;\n",
"D=D*10^-2;//in meter\n",
"r1=d/2;\n",
"r2=D/2;\n",
"rho=8000;// in ohm-cm\n",
"rho=80;// in ohm-m\n",
"// Let Insulation resistance of the liquid resistor = Ir\n",
"Ir=[rho/(2*%pi*l)]*log(r2/r1);\n",
"disp(' Insulation resistance of the liquid resistor is : '+string(Ir)+' ohm')"
   ]
   }
,
{
		   "cell_type": "markdown",
		   "metadata": {},
		   "source": [
			"## Example 2.39: Resistivity_of_dielectric_in_a_cable.sce"
		   ]
		  },
  {
"cell_type": "code",
	   "execution_count": null,
	   "metadata": {
	    "collapsed": true
	   },
	   "outputs": [],
"source": [
"//Exa2.39\n",
"clc;\n",
"clear;\n",
"close;\n",
"format('v',11)\n",
"//given data\n",
"R_desh=1820;// in M ohm\n",
"R_desh=R_desh*10^6;// in ohm\n",
"d1=1.5;// in cm\n",
"d1=d1*10^-2;// in meter\n",
"d2=5;// in cm\n",
"d2=d2*10^-2;// in meter\n",
"l=3000;// in meter\n",
"r1=d1/2;\n",
"r2=d2/2;\n",
"\n",
"rho= (2*%pi*l*R_desh)/log(r2/r1);\n",
"disp('Resistivity of dielectric is : '+string(rho)+' ohm meter')"
   ]
   }
,
{
		   "cell_type": "markdown",
		   "metadata": {},
		   "source": [
			"## Example 2.3: Relaxation_time_and_resistivity.sce"
		   ]
		  },
  {
"cell_type": "code",
	   "execution_count": null,
	   "metadata": {
	    "collapsed": true
	   },
	   "outputs": [],
"source": [
"//Exa2.3\n",
"clc;\n",
"clear;\n",
"close;\n",
"//given data :\n",
"miu_e=7.04*10^-3; //in m^2/V-s\n",
"n=5.8*10^28 ; // in /m^3\n",
"e=1.6*10^-19; // in coulomb\n",
"m=9.1*10^-31;//in kg\n",
"//(i) Relaxation time,\n",
"tau=miu_e/e*m;\n",
"disp('Relaxation time is : '+string(tau)+' second');\n",
"sigma=(n*e*miu_e);\n",
"//(ii) Resistivity of conductor,\n",
"rho=1/sigma;\n",
"disp('Resistivity of conductor is : '+string(rho)+' ohm-meter');"
   ]
   }
,
{
		   "cell_type": "markdown",
		   "metadata": {},
		   "source": [
			"## Example 2.40: Insulation_resistance.sce"
		   ]
		  },
  {
"cell_type": "code",
	   "execution_count": null,
	   "metadata": {
	    "collapsed": true
	   },
	   "outputs": [],
"source": [
"//Exa2.40\n",
"clc;\n",
"clear;\n",
"close;\n",
"format('v',9)\n",
"// given data\n",
"// First Case:\n",
"r1=1.5/2;// in cm\n",
"// let radius thickness of insulation = r1_t\n",
"r1_t=1.5;// in cm\n",
"r2=r1+r1_t;\n",
"R_desh=500;// in M ohm\n",
"R_desh=R_desh*10^6;// in ohm\n",
"// Second case:\n",
"r1_desh=r1;// in cm (as before)\n",
"// let radius thickness of insulation = r2_t\n",
"r2_t=2.5;// in cm\n",
"r2_desh=r1+r2_t;\n",
"// since Insulation resistance , R_desh= sigma/(2*%pi*l)*log(r2/r1) and\n",
"//                               R1_desh= sigma/(2*%pi*l)*log(r2_desh/r1_desh)\n",
"// Dividing R1_desh by R1, We get\n",
"// R1_desh/R_desh = log(r2_desh/r1_desh)/log(r2/r1)\n",
"// Let R = R1_desh/R_desh, Now\n",
"R= log(r2_desh/r1_desh)/log(r2/r1);\n",
"R1_desh=R*R_desh;\n",
"disp('New insulation resistance is : '+string(R1_desh*10^-6)+' M ohm');\n",
"\n",
"\n",
"\n",
""
   ]
   }
,
{
		   "cell_type": "markdown",
		   "metadata": {},
		   "source": [
			"## Example 2.41: Insulation_resistance_and_resistance_of_copper_conductor.sce"
		   ]
		  },
  {
"cell_type": "code",
	   "execution_count": null,
	   "metadata": {
	    "collapsed": true
	   },
	   "outputs": [],
"source": [
"//Exa2.41\n",
"clc;\n",
"clear;\n",
"close;\n",
"// given data\n",
"t1=20;// in degree C\n",
"t2=36;// in degree C\n",
"alpha_20=0.0043;// in per degree C  (Temperature Coefficient)\n",
"InsulationResistance=480*10^6;// in ohm\n",
"copper_cond_res=0.7;// in ohm  (copper conductor resistance)\n",
"l=500*10^-3;// in kilo meter (length)\n",
"R1_desh=InsulationResistance * l;// in ohm\n",
"\n",
"// From Formula log(R2_desh)= log(R1_desh-K*(t2-t1))\n",
"// K= 1/(t2-t1)*log(R1_desh/R2_desh)\n",
"// since when t2-t1=10 degree C and R1_desh/R2_desh= 2\n",
"\n",
"K=1/10*log(2);\n",
"\n",
"// (i) Insulation resistance at any temperature t2, R2_desh is given by\n",
"  logR2_desh= log(R1_desh)-(t2-t1)/10* log(2);\n",
"  R2_desh= %e^logR2_desh\n",
"  \n",
"  disp('(i) Insulation resistance at any temperature : '+string(R2_desh*10^-6)+' Mega ohm');\n",
"  \n",
"// (ii) \n",
"    R_20= copper_cond_res/l;// in ohm\n",
"    R_36=R_20*[1+alpha_20*(t2-t1)];\n",
"    \n",
"    disp('Resistance at 36 degree C is : '+string(R_36)+' ohm')\n",
"    "
   ]
   }
,
{
		   "cell_type": "markdown",
		   "metadata": {},
		   "source": [
			"## Example 2.4: Valance_electron_and_mobility_of_electron.sce"
		   ]
		  },
  {
"cell_type": "code",
	   "execution_count": null,
	   "metadata": {
	    "collapsed": true
	   },
	   "outputs": [],
"source": [
"//Exa4\n",
"clc;\n",
"clear;\n",
"close;\n",
"//given data :\n",
"rho=1.73*10^-8;//in ohm-meter\n",
"toh=2.42*10^-14 ; //in second\n",
"e=1.6*10^-19; //in C\n",
"m=9.1*10^-31;//in kg\n",
"sigma=1/rho;\n",
"//(i) Number of free electrons per m^3\n",
"n=(m*sigma)/(e^2*toh);\n",
"disp('Number of free electrons per cube meter is : '+string(n));\n",
"//(ii) Mobility of electrons,\n",
"miu_e=(e*toh)/m;\n",
"disp('Mobility of electrons is : '+string(miu_e)+' m^2/V-s');\n",
"//Note: Answer in the book is wrong"
   ]
   }
,
{
		   "cell_type": "markdown",
		   "metadata": {},
		   "source": [
			"## Example 2.5: Mobility_and_relaxation_time.sce"
		   ]
		  },
  {
"cell_type": "code",
	   "execution_count": null,
	   "metadata": {
	    "collapsed": true
	   },
	   "outputs": [],
"source": [
"//Exa5\n",
"clc;\n",
"clear;\n",
"close;\n",
"//given data :\n",
"rho=1.54*10^-8; //in ohm-meter\n",
"//since sigma=1/roh\n",
"sigma=1/rho;\n",
"n=5.8*10^28 ; //unit less\n",
"e=1.6*10^-19; //in C (electron charge)\n",
"m=9.1*10^-31;//in kg (mass of electron)\n",
"//(i) Relaxation time\n",
"toh=(sigma*m)/(n*e^2);\n",
"disp('(i) Relaxation time of electrons is : '+string(toh)+' seconds');\n",
"//(ii) Mobility of electrons,\n",
"miu_e=(e*toh)/m;\n",
"disp('(ii) Mobility of electrons is : '+string(miu_e)+' m^2/V-s');"
   ]
   }
,
{
		   "cell_type": "markdown",
		   "metadata": {},
		   "source": [
			"## Example 2.6: Relaxation_time.sce"
		   ]
		  },
  {
"cell_type": "code",
	   "execution_count": null,
	   "metadata": {
	    "collapsed": true
	   },
	   "outputs": [],
"source": [
"//Exa2.6\n",
"clc;\n",
"clear;\n",
"close;\n",
"//given data :\n",
"rho=1.7*10^-8; //in ohm-meter\n",
"//since sigma=1/roh\n",
"sigma=1/rho;\n",
"n=8.5*10^28 ; //unit less\n",
"e=1.6*10^-19; //in C (electron charge)\n",
"m=9.1*10^-31;//in kg\n",
"// Relaxation time\n",
"toh=(sigma*m)/(n*e^2);\n",
"disp(' Relaxation time of electrons is : '+string(toh)+' seconds');"
   ]
   }
,
{
		   "cell_type": "markdown",
		   "metadata": {},
		   "source": [
			"## Example 2.7: Relaxation_time_of_conducting_electrons.sce"
		   ]
		  },
  {
"cell_type": "code",
	   "execution_count": null,
	   "metadata": {
	    "collapsed": true
	   },
	   "outputs": [],
"source": [
"//Exa2.7\n",
"clc;\n",
"clear;\n",
"close;\n",
"format('v',11);\n",
"//given data :\n",
"E=100;//in V/m\n",
"rho=1.5*10^-8; //in ohm-meter\n",
"//since sigma=1/roh\n",
"sigma=1/rho;\n",
"n=6*10^28 ; //unit less\n",
"e=1.601*10^-19; //in C\n",
"m=9.107*10^-31;//in kg\n",
"// Relaxation time\n",
"toh=(sigma*m)/(n*e^2);\n",
"disp('(i) Relaxation time of electrons is : '+string(toh)+' seconds');\n",
"//Drift velocity\n",
"v=(e*E*toh)/m;\n",
"disp('(ii) Drift velocity is : '+string(v)+' m/s');"
   ]
   }
,
{
		   "cell_type": "markdown",
		   "metadata": {},
		   "source": [
			"## Example 2.8: Charge_density_current_density_and_drift_velocity.sce"
		   ]
		  },
  {
"cell_type": "code",
	   "execution_count": null,
	   "metadata": {
	    "collapsed": true
	   },
	   "outputs": [],
"source": [
"//Exa2.8\n",
"clc;\n",
"clear;\n",
"close;\n",
"//given data :\n",
"//Diameter of copper wire\n",
"d=2;//in milimeter\n",
"d=.002;//in meter\n",
"//conductivity of copper\n",
"nita=5.8*10^7;//in second per meter\n",
"//Electron mobility\n",
"miu_e=.0032;//in meter square per volt-second\n",
"//Applied electric field\n",
"E=20;//in mV/m\n",
"E=.02; //in V/m\n",
"e=1.6*10^-19;\n",
"//(i) From eq. (2.13)\n",
"//charge density\n",
"n=nita/(e*miu_e);//in per meter cube\n",
"disp('(i) Charge density is : '+string(n)+' /meter cube');\n",
"//(ii) from eq. (2.9)\n",
"//current density\n",
"J=nita*E;// in A/m^2\n",
"disp('(ii) Current density is : '+string(J)+' A/m^2');\n",
"//(iii) Current flowing in the wire I=J* Area of x-section of wire\n",
"// Area of x-section of wire= (%pi*d^2)/4\n",
"I=(J*%pi*d^2)/4;\n",
"disp('(iii) Current flowing in the wire is : '+string(I)+' A');\n",
"//(iv) form eq.2.14\n",
"//Electron drift velocity\n",
"v=miu_e*E;\n",
"disp('(iv) Electron drift velocity is :'+string(v)+' m/s');"
   ]
   }
,
{
		   "cell_type": "markdown",
		   "metadata": {},
		   "source": [
			"## Example 2.9: Drift_velocity.sce"
		   ]
		  },
  {
"cell_type": "code",
	   "execution_count": null,
	   "metadata": {
	    "collapsed": true
	   },
	   "outputs": [],
"source": [
"//Exa2.9\n",
"clc;\n",
"clear;\n",
"close;\n",
"//given data\n",
"rho=0.5; // in ohm-meter\n",
"J=100; //in A/m^2\n",
"miu_e=0.4; //in m^2/V-s\n",
"E=J*rho; // since E=J/sigma\n",
"// Formula v=miu_e*E\n",
"v=miu_e*E;\n",
"disp(' Electron drift velocity is : '+string(v)+' m/s');\n",
"disp('Time taken by the electron to travel 10*10^-6 m in crystal')\n",
"// let Time taken by the electron to travel 10*10^-6 m in crystal = t\n",
"t=(10*10^-6)/v;\n",
"disp(string(t)+' second');"
   ]
   }
],
"metadata": {
		  "kernelspec": {
		   "display_name": "Scilab",
		   "language": "scilab",
		   "name": "scilab"
		  },
		  "language_info": {
		   "file_extension": ".sce",
		   "help_links": [
			{
			 "text": "MetaKernel Magics",
			 "url": "https://github.com/calysto/metakernel/blob/master/metakernel/magics/README.md"
			}
		   ],
		   "mimetype": "text/x-octave",
		   "name": "scilab",
		   "version": "0.7.1"
		  }
		 },
		 "nbformat": 4,
		 "nbformat_minor": 0
}
