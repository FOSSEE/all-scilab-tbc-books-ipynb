{
"cells": [
 {
		   "cell_type": "markdown",
	   "metadata": {},
	   "source": [
       "# Chapter 4: Bipolar Junction And Field Effect Transistors"
	   ]
	},
{
		   "cell_type": "markdown",
		   "metadata": {},
		   "source": [
			"## Example 4.10: gm_at_IDS.sce"
		   ]
		  },
  {
"cell_type": "code",
	   "execution_count": null,
	   "metadata": {
	    "collapsed": true
	   },
	   "outputs": [],
"source": [
"//Exa 4.10\n",
"clc;\n",
"clear;\n",
"close;\n",
"//given data :\n",
"VP=-4.5;//in Volt\n",
"IDSS=9;//in mAmpere\n",
"IDSS=IDSS*10^-3;//in Ampere\n",
"IDS=3;//in mAmpere\n",
"IDS=IDS*10^-3;//in Ampere\n",
"//Formula : IDS=IDSS*[1-VGS/VP]^2\n",
"VGS=VP*(1-sqrt(IDS/IDSS));//in Volt\n",
"disp(VGS,'ID=3mA at VGS in Volt :');\n",
"gm=(-2*IDSS)*(1-VGS/VP)/VP;//in mA/V or mS\n",
"disp(gm*1000,'Transconductance in mA/V or mS: ');"
   ]
   }
,
{
		   "cell_type": "markdown",
		   "metadata": {},
		   "source": [
			"## Example 4.11: Drain_current.sce"
		   ]
		  },
  {
"cell_type": "code",
	   "execution_count": null,
	   "metadata": {
	    "collapsed": true
	   },
	   "outputs": [],
"source": [
"//Exa 4.11\n",
"clc;\n",
"clear;\n",
"close;\n",
"//given data :\n",
"ID_on=5;//in mAmpere\n",
"VGS_on=8;//in Volt\n",
"VGS=6;//in Volt\n",
"VGST=4;//in Volt\n",
"k=ID_on/(VGS_on-VGST)^2;//in mA/V^2\n",
"ID=k*(VGS-VGST)^2;//in mA\n",
"disp(ID,'Drain current in mA : ');"
   ]
   }
,
{
		   "cell_type": "markdown",
		   "metadata": {},
		   "source": [
			"## Example 4.1: Resistance_between_gate_and_source.sce"
		   ]
		  },
  {
"cell_type": "code",
	   "execution_count": null,
	   "metadata": {
	    "collapsed": true
	   },
	   "outputs": [],
"source": [
"//Exa 4.1\n",
"clc;\n",
"clear;\n",
"close;\n",
"//given data :\n",
"format('v',11)\n",
"VGS=10;//in Volt\n",
"IG=0.001;//in uAmpere\n",
"IG=IG*10^-6;//in Ampere\n",
"RGS=VGS/IG;//in Ohm\n",
"disp(RGS*10^-6,'Resistance between gate and source in Mohm : ');"
   ]
   }
,
{
		   "cell_type": "markdown",
		   "metadata": {},
		   "source": [
			"## Example 4.2: AC_drain_resistance_of_the_JFET.sce"
		   ]
		  },
  {
"cell_type": "code",
	   "execution_count": null,
	   "metadata": {
	    "collapsed": true
	   },
	   "outputs": [],
"source": [
"//Exa 4.2\n",
"clc;\n",
"clear;\n",
"close;\n",
"//given data :\n",
"delVDS=1.5;//in Volt\n",
"delID=120;//in uAmpere\n",
"delID=delID*10^-6;//in Ampere\n",
"rd=delVDS/delID;//in Ohm\n",
"disp(rd*10^-3,'AC drain Resistance of JFET in Kohm : ');"
   ]
   }
,
{
		   "cell_type": "markdown",
		   "metadata": {},
		   "source": [
			"## Example 4.3: Transconductance.sce"
		   ]
		  },
  {
"cell_type": "code",
	   "execution_count": null,
	   "metadata": {
	    "collapsed": true
	   },
	   "outputs": [],
"source": [
"//Exa 4.3\n",
"clc;\n",
"clear;\n",
"close;\n",
"//given data :\n",
"ID2=1.5;//in mAmpere\n",
"ID1=1.2;//in mAmpere\n",
"delID=ID2-ID1;//in Ampere\n",
"VGS1=-4.25;//in Volt\n",
"VGS2=-4.10;//in Volt\n",
"delVGS=VGS2-VGS1;//in Volt\n",
"gm=delID/delVGS;//in Ohm\n",
"disp(gm,'Transconductance in mA/V : ');\n",
"disp(gm*10^3,'Transconductance in uS : ');"
   ]
   }
,
{
		   "cell_type": "markdown",
		   "metadata": {},
		   "source": [
			"## Example 4.4: AC_drain_resistance_transconductance_and_amplification_factor.sce"
		   ]
		  },
  {
"cell_type": "code",
	   "execution_count": null,
	   "metadata": {
	    "collapsed": true
	   },
	   "outputs": [],
"source": [
"//Exa 4.4\n",
"clc;\n",
"clear;\n",
"close;\n",
"//given data :\n",
"VDS1=5;//in Volt\n",
"VDS2=12;//in Volt\n",
"VDS3=12;//in Volt\n",
"VGS1=0;//in Volt\n",
"VGS2=0;//in Volt\n",
"VGS3=-0.25;//in Volt\n",
"ID1=8;//in mAmpere\n",
"ID2=8.2;//in mAmpere\n",
"ID3=7.5;//in mAmpere\n",
"//AC drain resistance\n",
"delVDS=VDS2-VDS1;//in Volt\n",
"delID=ID2-ID1;//in mAmpere\n",
"rd=delVDS/delID;//in Kohm\n",
"disp(rd,'AC Drain resistance in Kohm : ');\n",
"//Transconductance\n",
"delID=ID3-ID2;//in mAmpere\n",
"delVGS=VGS3-VGS2;//in Volt\n",
"gm=delID/delVGS;//in mA/V or mS\n",
"disp(gm,'Transconductance in mA/V : ');\n",
"//Amplification Factor\n",
"meu=rd*1000*gm*10^-3;//unitless\n",
"disp(meu,'Amplification Factor : ');"
   ]
   }
,
{
		   "cell_type": "markdown",
		   "metadata": {},
		   "source": [
			"## Example 4.5: Transconductance.sce"
		   ]
		  },
  {
"cell_type": "code",
	   "execution_count": null,
	   "metadata": {
	    "collapsed": true
	   },
	   "outputs": [],
"source": [
"//Exa 4.5\n",
"clc;\n",
"clear;\n",
"close;\n",
"//given data :\n",
"VP=-4.5;//in Volt\n",
"IDSS=10;//in mAmpere\n",
"IDS=2.5;//in mAmpere\n",
"//Formula : IDS=IDSS*[1-VGS/VP]^2\n",
"VGS=VP*(1-sqrt(IDS/IDSS));//in Volt\n",
"gm=(-2*IDSS*10^-3)*(1-VGS/VP)/VP;//in mA/V or mS\n",
"disp(gm*1000,'Transconductance in mA/V : ');"
   ]
   }
,
{
		   "cell_type": "markdown",
		   "metadata": {},
		   "source": [
			"## Example 4.6: Calculate_VGS.sce"
		   ]
		  },
  {
"cell_type": "code",
	   "execution_count": null,
	   "metadata": {
	    "collapsed": true
	   },
	   "outputs": [],
"source": [
"//Exa 4.6\n",
"clc;\n",
"clear;\n",
"close;\n",
"//given data :\n",
"gm=10;//in mS\n",
"gm=gm*10^-3;//in S\n",
"IDSS=10;//in uAmpere\n",
"IDSS=IDSS*10^-6;//in Ampere\n",
"//VGS(OFF):VGS=VP\n",
"//Formula : gm=gmo=-2*IDSS/VP=-2*IDSS/VG(Off)\n",
"VGS_OFF=-2*IDSS/gm;//in Volt\n",
"disp(VGS_OFF*1000,'VGS(OFF) in mV : ');"
   ]
   }
,
{
		   "cell_type": "markdown",
		   "metadata": {},
		   "source": [
			"## Example 4.7: Minimum_value_of_VDS.sce"
		   ]
		  },
  {
"cell_type": "code",
	   "execution_count": null,
	   "metadata": {
	    "collapsed": true
	   },
	   "outputs": [],
"source": [
"//Exa 4.7\n",
"clc;\n",
"clear;\n",
"close;\n",
"//given data :\n",
"VP=-4;//in Volt\n",
"VGS=-2;//in Volt\n",
"IDSS=10;//in mAmpere\n",
"IDSS=IDSS*10^-3;//in Ampere\n",
"//Formula : ID=IDSS*[1-VGS/VP]^2\n",
"ID=IDSS*[1-VGS/VP]^2;//in Ampere\n",
"disp(ID*1000,'Drain Current in mA : ');\n",
"disp('The minimum value of VDS for pinch-off region is equal to VP. Thus the minimum value of VDS : VDS(min) = '+string(VP)+' Volt');"
   ]
   }
,
{
		   "cell_type": "markdown",
		   "metadata": {},
		   "source": [
			"## Example 4.8: ID_gmo_and_gm.sce"
		   ]
		  },
  {
"cell_type": "code",
	   "execution_count": null,
	   "metadata": {
	    "collapsed": true
	   },
	   "outputs": [],
"source": [
"//Exa 4.8\n",
"clc;\n",
"clear;\n",
"close;\n",
"//given data :\n",
"IDSS=8.7;//in mAmpere\n",
"IDSS=IDSS*10^-3;//in Ampere\n",
"VP=-3;//in Volt\n",
"VGS=-1;//in Volt\n",
"//ID\n",
"ID=IDSS*[1-VGS/VP]^2\n",
"disp(ID*1000,'Drain current ID in mA : ');\n",
"//gmo\n",
"gmo=-2*IDSS/VP;//in S\n",
"disp(gmo*1000,'Transconductance for VGS=0V in mA/V or mS : ');\n",
"//gm\n",
"gm=gmo*(1-VGS/VP);//in S\n",
"disp(gm*1000,'Transconductance in mA/V or mS : ');"
   ]
   }
,
{
		   "cell_type": "markdown",
		   "metadata": {},
		   "source": [
			"## Example 4.9: Id_and_gm.sce"
		   ]
		  },
  {
"cell_type": "code",
	   "execution_count": null,
	   "metadata": {
	    "collapsed": true
	   },
	   "outputs": [],
"source": [
"//Exa 4.9\n",
"clc;\n",
"clear;\n",
"close;\n",
"//given data :\n",
"IDSS=8.4;//in mAmpere\n",
"IDSS=IDSS*10^-3;//in Ampere\n",
"VP=-3;//in Volt\n",
"VGS=-1.5;//in Volt\n",
"//ID\n",
"ID=IDSS*[1-VGS/VP]^2\n",
"disp(ID*1000,'Drain current ID in mA : ');\n",
"//gmo\n",
"gmo=-2*IDSS/VP;//in S\n",
"disp(gmo*1000,'Transconductance for VGS=0V in mA/V or mS : ');\n",
"gm=gmo*(1-VGS/VP);//in S\n",
"disp(gm*1000,'Transconductance in mA/V or mS : ');"
   ]
   }
],
"metadata": {
		  "kernelspec": {
		   "display_name": "Scilab",
		   "language": "scilab",
		   "name": "scilab"
		  },
		  "language_info": {
		   "file_extension": ".sce",
		   "help_links": [
			{
			 "text": "MetaKernel Magics",
			 "url": "https://github.com/calysto/metakernel/blob/master/metakernel/magics/README.md"
			}
		   ],
		   "mimetype": "text/x-octave",
		   "name": "scilab",
		   "version": "0.7.1"
		  }
		 },
		 "nbformat": 4,
		 "nbformat_minor": 0
}
