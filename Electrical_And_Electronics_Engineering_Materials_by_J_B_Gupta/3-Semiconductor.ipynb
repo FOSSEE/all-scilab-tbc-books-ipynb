{
"cells": [
 {
		   "cell_type": "markdown",
	   "metadata": {},
	   "source": [
       "# Chapter 3: Semiconductor"
	   ]
	},
{
		   "cell_type": "markdown",
		   "metadata": {},
		   "source": [
			"## Example 3.10: Electron_and_hole_drift_velocity_conductivity_of_intrinsic_Ge_and_total_current.sce"
		   ]
		  },
  {
"cell_type": "code",
	   "execution_count": null,
	   "metadata": {
	    "collapsed": true
	   },
	   "outputs": [],
"source": [
"//Exa3.10\n",
"clc;\n",
"clear;\n",
"close;\n",
"// given data\n",
"e=1.6*10^-19;//in C\n",
"miu_e=.38;// in m^2/V-s\n",
"miu_h=.18;// in m^2/V-s\n",
"l=25;// in mm (length)\n",
"l=l*10^-3;// in m \n",
"w=4;// in mm (width)\n",
"w=w*10^-3;// in m\n",
"t=1.5;// in mm (thickness)\n",
"t=t*10^-3;// in m\n",
"V=10;// in V\n",
"l=25;// in mm\n",
"l=l*10^-3;//in m\n",
"E=V/l;\n",
"//(i) \n",
"v_e=miu_e*E;\n",
"v_h=miu_h*E;\n",
"disp('Electron drift velocity is : '+string(v_e)+' m/s');\n",
"disp('Hole drift velocity is : '+string(v_h)+' m/s');\n",
"n_i=2.5*10^19;//in /m^3\n",
"//(ii)\n",
"sigma_i=n_i*e*(miu_e+miu_h);\n",
"disp('Intrinsic conductiviry of Ge is : '+string(sigma_i)+' /ohm-cm');\n",
"//(iii)\n",
"a=w*t;\n",
"I=sigma_i*E*a;// in amp\n",
"I=I*10^3;// in m A\n",
"disp('Total current is : '+string(I)+' mA');"
   ]
   }
,
{
		   "cell_type": "markdown",
		   "metadata": {},
		   "source": [
			"## Example 3.11: Diffusion_coefficient_of_electron_and_hole.sce"
		   ]
		  },
  {
"cell_type": "code",
	   "execution_count": null,
	   "metadata": {
	    "collapsed": true
	   },
	   "outputs": [],
"source": [
"//Exa3.11\n",
"clc;\n",
"clear;\n",
"close;\n",
"// given data\n",
"k_desh=1.38*10^-23;// in J degree^-1\n",
"e=1.602*10^-19;// in C\n",
"miu_e=3600;// in cm^2/V-s\n",
"miu_h=1700;// in cm^2/V-s\n",
"T=300;// in K\n",
"D_e=miu_e*k_desh*T/e;\n",
"disp('Diffusion constant of electrons is : '+string(D_e)+' cm^2/s');\n",
"D_h=miu_h*k_desh*T/e;\n",
"disp('Diffusion constant of holes is : '+string(D_h)+' cm^2/s');"
   ]
   }
,
{
		   "cell_type": "markdown",
		   "metadata": {},
		   "source": [
			"## Example 3.12: Hall_effect_in_semiconductor.sce"
		   ]
		  },
  {
"cell_type": "code",
	   "execution_count": null,
	   "metadata": {
	    "collapsed": true
	   },
	   "outputs": [],
"source": [
"//Exa3.12\n",
"clc;\n",
"clear;\n",
"close;\n",
"// given data\n",
"e=1.6*10^-19;// in coulomb\n",
"Resistivity=9*10^-3;// in ohm-m\n",
"R_H=3.6*10^-4;// in m^3 coulomb^-1  (Hall Coefficient)\n",
"sigma=1/Resistivity;\n",
"rho=1/R_H;\n",
"n=rho/e;\n",
"disp('Density of charge carriers is : '+string(n)+' /m^3');\n",
"miu=sigma*R_H;\n",
"disp('Mobility is : '+string(miu)+' m^2/V-s');\n",
""
   ]
   }
,
{
		   "cell_type": "markdown",
		   "metadata": {},
		   "source": [
			"## Example 3.13: Current_density.sce"
		   ]
		  },
  {
"cell_type": "code",
	   "execution_count": null,
	   "metadata": {
	    "collapsed": true
	   },
	   "outputs": [],
"source": [
"//Exa3.13\n",
"clc;\n",
"clear;\n",
"close;\n",
"// given data\n",
"E_x=100;// in V/m\n",
"e=1.6*10^-19;// in C\n",
"R_H=0.0145;// in m^3/coulomb\n",
"miu_n=0.36;// in m^2/volt-second\n",
"// Formula R_H=1/(n*e)\n",
"n=1/(R_H*e);\n",
"sigma=n*e*miu_n;\n",
"J=sigma*E_x;\n",
"disp('Current density is : '+string(J)+' A per m^2');\n",
""
   ]
   }
,
{
		   "cell_type": "markdown",
		   "metadata": {},
		   "source": [
			"## Example 3.14: Value_of_hall_coefficient.sce"
		   ]
		  },
  {
"cell_type": "code",
	   "execution_count": null,
	   "metadata": {
	    "collapsed": true
	   },
	   "outputs": [],
"source": [
"//Exa3.14\n",
"clc;\n",
"clear;\n",
"close;\n",
"// given data\n",
"Resistivity=9;// in milli-ohm-m\n",
"Resistivity=9*10^-3;// in ohm-m\n",
"miu=0.03;// in m^2/V-s\n",
"sigma=1/Resistivity;\n",
"R_H=miu/sigma;\n",
"disp('Half coefficient is : '+string(R_H)+' m^3/C');\n",
""
   ]
   }
,
{
		   "cell_type": "markdown",
		   "metadata": {},
		   "source": [
			"## Example 3.15: Magnitude_of_Hall_voltage.sce"
		   ]
		  },
  {
"cell_type": "code",
	   "execution_count": null,
	   "metadata": {
	    "collapsed": true
	   },
	   "outputs": [],
"source": [
"//Exa3.15\n",
"clc;\n",
"clear;\n",
"close;\n",
"// given data\n",
"E_x=5;// in V/cm\n",
"miu_e=3800;// in cm^2/V-s\n",
"B_z=0.1;// in Wb/m^2\n",
"d=4;// in mm\n",
"d=d*10^-3;// in m\n",
"v=miu_e*E_x;//in cm/second\n",
"v=v*10^-2;// in m/second\n",
"V_H=B_z*v*d;// in V\n",
"V_H=V_H*10^3;// in m V\n",
"disp('Hall voltage is : '+string(V_H)+' mV');"
   ]
   }
,
{
		   "cell_type": "markdown",
		   "metadata": {},
		   "source": [
			"## Example 3.16: Mobility_of_holes.sce"
		   ]
		  },
  {
"cell_type": "code",
	   "execution_count": null,
	   "metadata": {
	    "collapsed": true
	   },
	   "outputs": [],
"source": [
"//Exa3.16\n",
"clc;\n",
"clear;\n",
"close;\n",
"// given data\n",
"rho=200;// in Kilo ohm-cm\n",
"rho=rho*10^-2;// in kilo ohm m\n",
"rho=rho*10^3;// in ohm meter\n",
"sigma=1/rho;\n",
"V_H=50;// in mV\n",
"V_H=V_H*10^-3;//in V\n",
"I=10;// in miu A\n",
"I=I*10^-6;//in A\n",
"B_z=0.1;// in Wb/m^2\n",
"w=3;//in mm\n",
"w=w*10^-3;//in meter\n",
"R_H=V_H*w/(B_z*I);\n",
"disp('Mobility of holes in p-type silicon bar is : ')\n",
"miu_h=sigma*R_H;\n",
"disp(string(miu_h)+' m^2/V-s');"
   ]
   }
,
{
		   "cell_type": "markdown",
		   "metadata": {},
		   "source": [
			"## Example 3.17: Hall_voltage.sce"
		   ]
		  },
  {
"cell_type": "code",
	   "execution_count": null,
	   "metadata": {
	    "collapsed": true
	   },
	   "outputs": [],
"source": [
"//Exa3.17\n",
"clc;\n",
"clear;\n",
"close;\n",
"// given data\n",
"N_D=1*10^21;// in /m^3\n",
"B_Z=0.2;// in T\n",
"J=600;// in A/m^2\n",
"n=N_D;\n",
"d=4;//in mm\n",
"d=d*10^-3;// in meterr\n",
"e=1.6*10^-19;// in C  (electron charge)\n",
"// Formula  V_H*w/(B_Z*I) = 1/(n*e) , hence V_H=B_Z*I/(n*e*w)\n",
"// where I=J*w*d\n",
"// putting I=J*w*d in V_H=B_Z*I/(n*e*w), we get\n",
"V_H=B_Z*J*d/(n*e);// in V\n",
"V_H=V_H*10^3;// in mV\n",
"disp('Hall Voltage is : '+string(V_H)+' mV');"
   ]
   }
,
{
		   "cell_type": "markdown",
		   "metadata": {},
		   "source": [
			"## Example 3.18: Hall_voltage.sce"
		   ]
		  },
  {
"cell_type": "code",
	   "execution_count": null,
	   "metadata": {
	    "collapsed": true
	   },
	   "outputs": [],
"source": [
"//Exa3.18\n",
"clc;\n",
"clear;\n",
"close;\n",
"// given data\n",
"w=0.1;// in mm\n",
"B_Z=0.6;// in T\n",
"R_H=3.8*10^-4;// in m^3/C\n",
"I=10;// in mA\n",
"I=I*10^-3;//in A\n",
"V_H=R_H*B_Z*I/w;// in V\n",
"V_H=V_H*10^6;// in V\n",
"disp('Hall voltage is : '+string(V_H)+' micro volt');"
   ]
   }
,
{
		   "cell_type": "markdown",
		   "metadata": {},
		   "source": [
			"## Example 3.19: Density_and_mobility_of_carrier.sce"
		   ]
		  },
  {
"cell_type": "code",
	   "execution_count": null,
	   "metadata": {
	    "collapsed": true
	   },
	   "outputs": [],
"source": [
"//Exa3.19\n",
"clc;\n",
"clear;\n",
"close;\n",
"// given data\n",
"Resistivity=9.23*10^-3;// in ohm-m\n",
"R_H=3.84*10^-4;//in m^3/C   (Hall Coefficient)\n",
"sigma=1/Resistivity;\n",
"rho=1/R_H;\n",
"e=1.6*10^-19;// in C (electron charge)\n",
"n=rho/e;\n",
"disp('Density of charge carriers is : '+string(n)+' /m^2');\n",
"miu=sigma*R_H;\n",
"disp('Mobility is : '+string(miu)+' m^2/V-s')"
   ]
   }
,
{
		   "cell_type": "markdown",
		   "metadata": {},
		   "source": [
			"## Example 3.1: Velocity_of_electro.sce"
		   ]
		  },
  {
"cell_type": "code",
	   "execution_count": null,
	   "metadata": {
	    "collapsed": true
	   },
	   "outputs": [],
"source": [
"//Exa3.1\n",
"clc;\n",
"clear;\n",
"close;\n",
"// given data\n",
"E=2.1;//in eV\n",
"E=E*1.602*10^-19;// in J\n",
"m=9.107*10^-31;// in kg (mass of electron)\n",
"// Formula E=1/2*m*v^2\n",
"v=sqrt(2*E/m);\n",
"disp(' Velocity of electron at Fermi-level is : '+string(v)+' m/s')"
   ]
   }
,
{
		   "cell_type": "markdown",
		   "metadata": {},
		   "source": [
			"## Example 3.20: Hll_angle.sce"
		   ]
		  },
  {
"cell_type": "code",
	   "execution_count": null,
	   "metadata": {
	    "collapsed": true
	   },
	   "outputs": [],
"source": [
"//Exa3.20\n",
"clc;\n",
"clear;\n",
"close;\n",
"// given data\n",
"B=0.48;// in Wb/m^2\n",
"R_H=3.55*10^-4;// in m^3/C\n",
"Resistivity=.00912;// in ohm\n",
"sigma=1/Resistivity;\n",
"theta_H=atand(sigma*B*R_H);\n",
"disp('Hall angle is : '+string(theta_H)+' degree')"
   ]
   }
,
{
		   "cell_type": "markdown",
		   "metadata": {},
		   "source": [
			"## Example 3.21: New_position_of_fermi_level.sce"
		   ]
		  },
  {
"cell_type": "code",
	   "execution_count": null,
	   "metadata": {
	    "collapsed": true
	   },
	   "outputs": [],
"source": [
"//Exa3.21\n",
"clc;\n",
"clear;\n",
"close;\n",
"// given data\n",
"T=27;// in degree C\n",
"T=T+273;// in K\n",
"// Let E_C - E_F =E_CF\n",
"E_CF=0.3;// in eV\n",
"// Formula E_C - E_F = k*T*log(n_C/N_D)\n",
"// Let log(n_C/N_D) = L, so\n",
"L=E_CF/T;\n",
"T_desh=55;// in degree C\n",
"T_desh=T_desh+273;// in K\n",
"//At temperature T_desh\n",
"new_fermi_level= T_desh*L;  // where L=log(n_C/N_D)\n",
"disp('The new position of Fermi Level is : '+string(new_fermi_level)+' V');"
   ]
   }
,
{
		   "cell_type": "markdown",
		   "metadata": {},
		   "source": [
			"## Example 3.22: Potential_barrier.sce"
		   ]
		  },
  {
"cell_type": "code",
	   "execution_count": null,
	   "metadata": {
	    "collapsed": true
	   },
	   "outputs": [],
"source": [
"//Exa3.22\n",
"clc;\n",
"clear;\n",
"close;\n",
"// given data\n",
"N_A=8*10^14;// in /cm^3\n",
"N_D=N_A;\n",
"n_i=2*10^13;// in /cm^3\n",
"k=8.61*10^-5;// in eV/K\n",
"T=300;// in K\n",
"V_0=k*T*log(N_D*N_A/n_i^2);\n",
"disp('Potential barrier is : '+string(V_0)+' V');"
   ]
   }
,
{
		   "cell_type": "markdown",
		   "metadata": {},
		   "source": [
			"## Example 3.23: Resistance_level.sce"
		   ]
		  },
  {
"cell_type": "code",
	   "execution_count": null,
	   "metadata": {
	    "collapsed": true
	   },
	   "outputs": [],
"source": [
"//Exa3.23\n",
"clc;\n",
"clear;\n",
"close;\n",
"// given data\n",
"// (i) when\n",
"I_D=2;// in mA\n",
"I_D=I_D*10^-3;// in A\n",
"V_D=0.5;// in V\n",
"R1=V_D/I_D;\n",
"disp('Resistace is : '+string(R1)+' ohm');\n",
"// (ii) when\n",
"I_D=20;// in mA\n",
"I_D=I_D*10^-3;// in A\n",
"V_D=0.8;// in V\n",
"R2=V_D/I_D;\n",
"disp('Resistace is : '+string(R2)+' ohm');\n",
"// (ii) when\n",
"I_D=-1;// in miu A\n",
"I_D=I_D*10^-6;// in A\n",
"V_D=-10;// in V\n",
"R3=V_D/I_D;// in ohm\n",
"R3=R3*10^-6;// in M ohm\n",
"disp('Resistace is : '+string(R3)+' M ohm');"
   ]
   }
,
{
		   "cell_type": "markdown",
		   "metadata": {},
		   "source": [
			"## Example 3.24: Fraction_of_the_total_number_of_electron.sce"
		   ]
		  },
  {
"cell_type": "code",
	   "execution_count": null,
	   "metadata": {
	    "collapsed": true
	   },
	   "outputs": [],
"source": [
"//Exa3.24\n",
"clc;\n",
"clear;\n",
"close;\n",
"format('v',12)\n",
"// given data\n",
"E_G=0.72;// in eV\n",
"E_F=E_G/2;// in eV\n",
"k=8.61*10^-5; // in eV/K\n",
"T=300;// in K\n",
"// Formula n_C/n = 1/1+%e^(E_G-E_F)/k*T\n",
"// Let n_C/n = N\n",
"N=1/(1+%e^((E_G-E_F)/(k*T)));\n",
"\n",
"disp('Fraction of the total number of electrons (conduction band as well as valence band) : '+string(N));"
   ]
   }
,
{
		   "cell_type": "markdown",
		   "metadata": {},
		   "source": [
			"## Example 3.25: Current_flowing.sce"
		   ]
		  },
  {
"cell_type": "code",
	   "execution_count": null,
	   "metadata": {
	    "collapsed": true
	   },
	   "outputs": [],
"source": [
"//Exa3.25\n",
"clc;\n",
"clear;\n",
"close;\n",
"format('v',3)\n",
"// given data\n",
"I_0=.15;// in micro amp\n",
"I_0=I_0*10^-6;// in A\n",
"V=0.12;// in V\n",
"V_T=26;// in mV\n",
"V_T=V_T*10^-3;// in V\n",
"I=I_0*(%e^(V/V_T)-1);// in amp\n",
"I=I*10^6;// in micro amp\n",
"disp('Large reverse bias current is : '+string(I)+' micro amp');"
   ]
   }
,
{
		   "cell_type": "markdown",
		   "metadata": {},
		   "source": [
			"## Example 3.26: Forward_voltage.sce"
		   ]
		  },
  {
"cell_type": "code",
	   "execution_count": null,
	   "metadata": {
	    "collapsed": true
	   },
	   "outputs": [],
"source": [
"//Exa3.26\n",
"clc;\n",
"clear;\n",
"close;\n",
"format('v',5)\n",
"// given data\n",
"I=.01;// in A\n",
"I_0=2.5*10^-6;// in  amp\n",
"nita=2;// for silicon\n",
"V_T=26;// in mV\n",
"V_T=V_T*10^-3;// in V\n",
"// Formula I=I_0*(%e^(V/(nita*V_T))-1);\n",
"V=nita*V_T*log(I/I_0+1);\n",
"disp('Forward voltage is : '+string(V)+' V') ;\n",
"    "
   ]
   }
,
{
		   "cell_type": "markdown",
		   "metadata": {},
		   "source": [
			"## Example 3.27: Reverse_saturation_current_density.sce"
		   ]
		  },
  {
"cell_type": "code",
	   "execution_count": null,
	   "metadata": {
	    "collapsed": true
	   },
	   "outputs": [],
"source": [
"//Exa3.27\n",
"clc;\n",
"clear;\n",
"close;\n",
"// given data\n",
"N_D=10^21;// in m^-3\n",
"N_A=10^22;// in m^-3\n",
"D_e=3.4*10^-3;// in m^2/s\n",
"D_h=1.2*10^-3;// in m^2/s\n",
"L_e=7.1*10^-4;// in m\n",
"L_h=3.5*10^-4;// in m\n",
"n_i=1.602*10^16;// in /m^3\n",
"e=1.6*10^-19;// in C (electron charge)\n",
"// Formula  I_0=a*e*[D_h/(L_h*N_D) + D_e/(L_e*N_A)]*n_i^2\n",
"//and\n",
"// Reverse saturation current density = I_0/a = [D_h/(L_h*N_D) + D_e/(L_e*N_A)]*e*n_i^2 , So\n",
"CurrentDensity= [D_h/(L_h*N_D) + D_e/(L_e*N_A)]*e*n_i^2;// in A\n",
"CurrentDensity=CurrentDensity*10^6;// in micro A\n",
"disp('Reverse saturation current density is : '+string(CurrentDensity)+'  micro amp');"
   ]
   }
,
{
		   "cell_type": "markdown",
		   "metadata": {},
		   "source": [
			"## Example 3.28: Junction_width.sce"
		   ]
		  },
  {
"cell_type": "code",
	   "execution_count": null,
	   "metadata": {
	    "collapsed": true
	   },
	   "outputs": [],
"source": [
"//Exa3.28\n",
"clc;\n",
"clear;\n",
"close;\n",
"// given data'\n",
"format('v',13)\n",
"N_D=10^17*10^6;// in m^-3\n",
"N_A=0.5*10^16*10^6;// in atoms/m^3\n",
"epsilon_r=10;// in F/m\n",
"epsilon_o=8.85*10^-12;// in F/m\n",
"epsilon=epsilon_r*epsilon_o;\n",
"e=1.602*10^-19;// in C (electron charge)\n",
"// (i) when no external voltage is applied i.e.\n",
"V=0;\n",
"V_B=0.7;// in V\n",
"W=sqrt(2*epsilon*V_B/e*(1/N_A+1/N_D));\n",
"disp('Junction width is : '+string(W)+' m');\n",
"// (ii) when external voltage of -10 V is applied i.e.\n",
"V=-10;// in V\n",
"V_o=0.7;// in V\n",
"V_B=V_o-V;\n",
"W=sqrt(2*epsilon*V_B/e*(1/N_A+1/N_D));\n",
"disp('Junction width is : '+string(W)+' m');\n",
"\n",
"// Note: Answer in the book is wrong"
   ]
   }
,
{
		   "cell_type": "markdown",
		   "metadata": {},
		   "source": [
			"## Example 3.2: Relaxation_time_resistivity_of_conductor_and_velocity_of_electron.sce"
		   ]
		  },
  {
"cell_type": "code",
	   "execution_count": null,
	   "metadata": {
	    "collapsed": true
	   },
	   "outputs": [],
"source": [
"//Exa3.2\n",
"clc;\n",
"clear;\n",
"close;\n",
"// given data\n",
"E=5.5;// in eV; (Fermi energy)\n",
"E=E*1.6*10^-19;// in J \n",
"miu_e=7.04*10^-3; //in m^2/V-s  (Mobility of electrons)\n",
"n=5.8*10^28 ; // in /m^3   (Number of conduction electrons/m^3)\n",
"e=1.6*10^-19; // in coulomb\n",
"m=9.1*10^-31;//in kg\n",
"//(i) Relaxation time,\n",
"tau=miu_e/e*m;\n",
"disp('(i) Relaxation time is : '+string(tau)+' second');\n",
"sigma=(n*e*miu_e);\n",
"//(ii) Resistivity of conductor,\n",
"rho=1/sigma;\n",
"disp('(ii) Resistivity of conductor is : '+string(rho)+' ohm-meter');\n",
"// (iii) Let Velocity of electrons with fermi energy = v\n",
"v=sqrt(2*E/m);\n",
"disp('(iii) Velocity of electron with Fermi-level is : '+string(v)+' m/s');\n",
""
   ]
   }
,
{
		   "cell_type": "markdown",
		   "metadata": {},
		   "source": [
			"## Example 3.3: Electron_and_hole_density.sce"
		   ]
		  },
  {
"cell_type": "code",
	   "execution_count": null,
	   "metadata": {
	    "collapsed": true
	   },
	   "outputs": [],
"source": [
"//Exa3.3\n",
"clc;\n",
"clear;\n",
"close;\n",
"// given data\n",
"n_i=2.5*10^13;// in /cm^3\n",
"rho=0.039;// in ohm-cm\n",
"sigma_n=1/rho;\n",
"e=1.602*10^-19;// in C\n",
"miu_e=3600;// in cm^2/V-s\n",
"//since sigma_n = n*e*miu_e = N_D*e*miu_e\n",
"N_D=sigma_n/(e*miu_e);\n",
"n=N_D;// (approx)\n",
"disp('Concentration of electrons is : '+string(n)+' /cm^3');\n",
"p=n_i^2/n;\n",
"disp('Concentration of holes is : '+string(p)+' /cm^3');"
   ]
   }
,
{
		   "cell_type": "markdown",
		   "metadata": {},
		   "source": [
			"## Example 3.4: EX3_4.sce"
		   ]
		  },
  {
"cell_type": "code",
	   "execution_count": null,
	   "metadata": {
	    "collapsed": true
	   },
	   "outputs": [],
"source": [
"//Exa3.4\n",
"clc;\n",
"clear;\n",
"close;\n",
"// given data\n",
"SiliconAtom=5*10^22;// unit less (Number of silicon atom)\n",
"DonorImpurity=1/10^6;\n",
"n_i=1.45*10^10;// in cm^-3\n",
"e=1.602*10^-19;// in C\n",
"miu_e=1300;// taking miu_e for Si as 1300 cm^2/V-s\n",
"// (i) Donor atom concentraion\n",
"// Formula N_D= Number of silicon atoms/cm^3 * donor impurity\n",
"N_D=SiliconAtom*DonorImpurity;\n",
"disp('(i) Donor atom concentration is : '+string(N_D)+' per cm^3');\n",
"\n",
"// (ii) Mobile electron concentration\n",
"n=N_D; // (approx.)\n",
"disp('(ii) Mobile electron concentration is : '+string(n)+' per cm^3');\n",
"\n",
"// (iii) Hole concentration\n",
"p=n_i^2/N_D;\n",
"disp('(iii) Hole concentration is : '+string(p)+' /cm^3');\n",
"\n",
"//(iv) conductivity of doped silicon sample\n",
"sigma=n*e*miu_e;\n",
"disp('(iv) conductivity of doped silicon sample is : '+string(sigma)+' S/cm');\n",
"\n",
"rho=1/sigma;\n",
"//(v) resistance of given semiconductor\n",
"l=0.5;// in cm\n",
"a=(50*10^-4)^2\n",
"R=rho*l/a;\n",
"disp('Resistance of give semiconductor is : '+string(R)+' ohm');\n",
""
   ]
   }
,
{
		   "cell_type": "markdown",
		   "metadata": {},
		   "source": [
			"## Example 3.5: Concentration_of_hole_in_si.sce"
		   ]
		  },
  {
"cell_type": "code",
	   "execution_count": null,
	   "metadata": {
	    "collapsed": true
	   },
	   "outputs": [],
"source": [
"//Exa3.5\n",
"clc;\n",
"clear;\n",
"close;\n",
"// given data\n",
"n_i=1.4*10^18;// in m^3\n",
"N_D=1.4*10^24;// in m^3\n",
"n=N_D;// (approx)\n",
"p=n_i^2/n;\n",
"// let Ratio of electron to hole concentration = r\n",
"r=n/p;\n",
"disp('Ratio of electron to hole concentration is : '+string(r));"
   ]
   }
,
{
		   "cell_type": "markdown",
		   "metadata": {},
		   "source": [
			"## Example 3.6: Conductivity_and_resitivity_of_an_intrinsic_semiconductor.sce"
		   ]
		  },
  {
"cell_type": "code",
	   "execution_count": null,
	   "metadata": {
	    "collapsed": true
	   },
	   "outputs": [],
"source": [
"//Exa3.6\n",
"clc;\n",
"clear;\n",
"close;\n",
"// given data\n",
"n_i=2.5*10^13;// in cm^3\n",
"e=1.6*10^-19;// in coulomb\n",
"miu_h=1800;// in cm^2/V-s\n",
"miu_e=3800;// in cm^2/V-s\n",
"sigma_i=n_i*e*(miu_e+miu_h);\n",
"disp('Intrinsic conductivity is : '+string(sigma_i)+' /ohm-cm');\n",
"rho_i=1/sigma_i;\n",
"disp('Intrinsic resistiviry is : '+string(rho_i)+' ohm-cm')"
   ]
   }
,
{
		   "cell_type": "markdown",
		   "metadata": {},
		   "source": [
			"## Example 3.7: Density_of_electron_and_drift_velocity_of_holes_and_electrons.sce"
		   ]
		  },
  {
"cell_type": "code",
	   "execution_count": null,
	   "metadata": {
	    "collapsed": true
	   },
	   "outputs": [],
"source": [
"//Exa3.7\n",
"clc;\n",
"clear;\n",
"close;\n",
"// given data\n",
"rho_i=0.47;// in ohm-meter\n",
"sigma_i=1/rho_i;\n",
"miu_e=0.39;// in m^2/V-s\n",
"miu_h=0.19;// in m^2/V-s\n",
"e=1.6*10^-19;// in C\n",
"\n",
"// since sigma_i=n_i*e*(miu_e+miu_h);\n",
"n_i=sigma_i/(e*(miu_e+miu_h));\n",
"// so Density of electrons = Intrinsic Concentration,n_i\n",
"disp('Density of electons is :'+string(n_i)+' /m^3');\n",
"E=10^4;// in V/m\n",
"v_n=miu_e*E;\n",
"disp('Drift velocity of electrons is : '+string(v_n)+' m/s');\n",
"v_h=miu_h*E;\n",
"disp('Drift velocity of holes is : '+string(v_h)+' m/s');"
   ]
   }
,
{
		   "cell_type": "markdown",
		   "metadata": {},
		   "source": [
			"## Example 3.8: Conductivity_of_Si.sce"
		   ]
		  },
  {
"cell_type": "code",
	   "execution_count": null,
	   "metadata": {
	    "collapsed": true
	   },
	   "outputs": [],
"source": [
"//Exa3.8\n",
"clc;\n",
"clear;\n",
"close;\n",
"// given data\n",
"n_i=1.5*10^10;// in /cm^3\n",
"miu_e=1300;// in cm^2/V-s\n",
"miu_h=450;// in cm^2/V-s\n",
"e=1.6*10^-19;// in C  (charge of electrons)\n",
"sigma_i=n_i*e*(miu_e+miu_h);\n",
"disp('Conductivity of silicon (intrinsic) is : '+string(sigma_i)+' /ohm-cm');\n",
"N_A=10^18;// in /cm^3\n",
"disp('conductivity of the resulting P-type silicon semiconductor')\n",
"sigma_p=e*N_A*miu_h;\n",
"disp(string(sigma_p)+' /ohm-cm');"
   ]
   }
,
{
		   "cell_type": "markdown",
		   "metadata": {},
		   "source": [
			"## Example 3.9: Find_conductivity_of_intrinsic_Ge.sce"
		   ]
		  },
  {
"cell_type": "code",
	   "execution_count": null,
	   "metadata": {
	    "collapsed": true
	   },
	   "outputs": [],
"source": [
"//Exa3.9\n",
"clc;\n",
"clear;\n",
"close;\n",
"// given data\n",
"n_i=2.5*10^13;// in /m^3\n",
"miu_e=3800;// in cm^2/V-s\n",
"miu_h=1800;// in cm^2/V-s\n",
"e=1.6*10^-19;// in C  (charge of electrons)\n",
"sigma_i=n_i*e*(miu_e+miu_h);\n",
"disp('Intrinsic conductivity is : '+string(sigma_i)+' /ohm-cm');\n",
"// Let Number of germanium atoms/cm^3 = no_g\n",
"no_g=4.41*10^22;\n",
"// since Donor impurity = 1 donor atom / 10^7 germanium atoms, so \n",
"DonorImpurity=10^-7;\n",
"N_D=no_g*DonorImpurity;\n",
"n=N_D; // (approx)\n",
"p=n_i^2/N_D;\n",
"// so\n",
"sigma_n=e*N_D*miu_e;\n",
"disp('conductivity in N-type germanium semiconductor is : '+string(sigma_n)+' /ohm-cm');"
   ]
   }
],
"metadata": {
		  "kernelspec": {
		   "display_name": "Scilab",
		   "language": "scilab",
		   "name": "scilab"
		  },
		  "language_info": {
		   "file_extension": ".sce",
		   "help_links": [
			{
			 "text": "MetaKernel Magics",
			 "url": "https://github.com/calysto/metakernel/blob/master/metakernel/magics/README.md"
			}
		   ],
		   "mimetype": "text/x-octave",
		   "name": "scilab",
		   "version": "0.7.1"
		  }
		 },
		 "nbformat": 4,
		 "nbformat_minor": 0
}
