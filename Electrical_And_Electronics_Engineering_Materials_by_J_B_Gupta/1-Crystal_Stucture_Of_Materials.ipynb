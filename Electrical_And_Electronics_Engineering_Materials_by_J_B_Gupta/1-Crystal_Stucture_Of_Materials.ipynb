{
"cells": [
 {
		   "cell_type": "markdown",
	   "metadata": {},
	   "source": [
       "# Chapter 1: Crystal Stucture Of Materials"
	   ]
	},
{
		   "cell_type": "markdown",
		   "metadata": {},
		   "source": [
			"## Example 1.3: Density_Of_Copper_Crystal.sce"
		   ]
		  },
  {
"cell_type": "code",
	   "execution_count": null,
	   "metadata": {
	    "collapsed": true
	   },
	   "outputs": [],
"source": [
"//Exa3\n",
"clc;\n",
"clear;\n",
"close;\n",
"//given data\n",
"//atomic radius\n",
"r=1.278; //in Angstrum\n",
"//atomic weight\n",
"aw=63.5;\n",
"//Avogadro's number\n",
"an=6.023*10^23;\n",
"//copper has FCC structure for which\n",
"a=(4*r)/sqrt(2);// in Angstrum\n",
"a=a*10^-10;//in m\n",
"//Mass of one atom \n",
"m=aw/an;//in gm\n",
"m=m*10^-3;//in kg\n",
"//volume of one unit cell of copper crystal,\n",
"V=a^3;//in meter cube\n",
"//Number of atoms present in one unit cell of Cu(FCC Structure),\n",
"n=4;\n",
"//Density of crystal\n",
"rho=(m*n)/V;//in kg/m^3\n",
"disp('Density of crystal is : '+string(rho)+'kg/m^3');"
   ]
   }
,
{
		   "cell_type": "markdown",
		   "metadata": {},
		   "source": [
			"## Example 1.4: Interplanar_Distance_in_a_crystal.sce"
		   ]
		  },
  {
"cell_type": "code",
	   "execution_count": null,
	   "metadata": {
	    "collapsed": true
	   },
	   "outputs": [],
"source": [
"//Exa4\n",
"clc;\n",
"clear;\n",
"close;\n",
"//given data :\n",
"//wavelength\n",
"lamda=1.539; //in Angstrum\n",
"//angle\n",
"theta=22.5; // in degree\n",
"n=1;//(first order)\n",
"\n",
"// Formula n*lamda=2*d*sin(theta) , so\n",
"// interplaner distance,\n",
"d=lamda/(2*sin(theta*%pi/180));\n",
"disp('Interplaner distance is : '+string(d)+'  Angstrum')"
   ]
   }
,
{
		   "cell_type": "markdown",
		   "metadata": {},
		   "source": [
			"## Example 1.5: Wavelength_of_X_rays.sce"
		   ]
		  },
  {
"cell_type": "code",
	   "execution_count": null,
	   "metadata": {
	    "collapsed": true
	   },
	   "outputs": [],
"source": [
"//Exa5\n",
"clc;\n",
"clear;\n",
"close;\n",
"//given data :\n",
"n=2;\n",
"d=0.4;// in nenometer\n",
"d=d*10^-9;// in meter\n",
"theta=16.8/2;// in degree\n",
"//using Bragg's equation we have n*lamda=2*d*sin(theta), so\n",
"lamda=(2*d*sin(8.4*%pi/180))/n;\n",
"disp('Wavelength of X-rays used is : '+string(lamda*10^10)+' Angstrum');"
   ]
   }
,
{
		   "cell_type": "markdown",
		   "metadata": {},
		   "source": [
			"## Example 1.6: Wavelength_of_X_rays.sce"
		   ]
		  },
  {
"cell_type": "code",
	   "execution_count": null,
	   "metadata": {
	    "collapsed": true
	   },
	   "outputs": [],
"source": [
"//Exa6\n",
"clc;\n",
"clear;\n",
"close;\n",
"//given data :\n",
"a=3.15; //in Angstrum\n",
"a=a*10^-10;//in meter\n",
"//angle\n",
"theta=20.2;//in degree\n",
"n=1;//(first order)\n",
"//for BCC crystal\n",
"d110=a/sqrt(2);//in meter\n",
"//Formula n*lamda=2*d*sin(theta)\n",
"lamda=(2*d110*sin(theta*%pi/180))/n;//in meter\n",
"disp('Wavelength is : '+string(lamda*10^10)+' Angstrum')"
   ]
   }
,
{
		   "cell_type": "markdown",
		   "metadata": {},
		   "source": [
			"## Example 1.7: Angle_of_incidence.sce"
		   ]
		  },
  {
"cell_type": "code",
	   "execution_count": null,
	   "metadata": {
	    "collapsed": true
	   },
	   "outputs": [],
"source": [
"//Exa7\n",
"clc;\n",
"clear;\n",
"close;\n",
"//given data :\n",
"lambda=0.842; //in Angstrum\n",
"lambda=lambda*10^-10; // in meter\n",
"//theta=8degree 35minutes\n",
"theta=8+35/60;//in degree\n",
"n=1;//(first order)\n",
"//Formula n*lamda=2*d*sin(theta)\n",
"d=n*lambda/(2*sind(theta))\n",
"//For third Order reflection :\n",
"//Formula n*lamda=2*d*sin(theta)\n",
"n=3;//order\n",
"theta=asind(n*lambda/(2*d));\n",
"disp(round(theta),'Angle of incidence for third order reflection in degree : ');"
   ]
   }
],
"metadata": {
		  "kernelspec": {
		   "display_name": "Scilab",
		   "language": "scilab",
		   "name": "scilab"
		  },
		  "language_info": {
		   "file_extension": ".sce",
		   "help_links": [
			{
			 "text": "MetaKernel Magics",
			 "url": "https://github.com/calysto/metakernel/blob/master/metakernel/magics/README.md"
			}
		   ],
		   "mimetype": "text/x-octave",
		   "name": "scilab",
		   "version": "0.7.1"
		  }
		 },
		 "nbformat": 4,
		 "nbformat_minor": 0
}
