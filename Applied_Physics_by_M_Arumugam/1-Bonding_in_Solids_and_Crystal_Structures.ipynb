{
"cells": [
 {
		   "cell_type": "markdown",
	   "metadata": {},
	   "source": [
       "# Chapter 1: Bonding in Solids and Crystal Structures"
	   ]
	},
{
		   "cell_type": "markdown",
		   "metadata": {},
		   "source": [
			"## Example 1.10: spacing_between_the_nearest_neighbouring_ions.sce"
		   ]
		  },
  {
"cell_type": "code",
	   "execution_count": null,
	   "metadata": {
	    "collapsed": true
	   },
	   "outputs": [],
"source": [
"//variable declaration\n",
"n=4     \n",
"M=58.5                  //Molecular wt. of NaCl\n",
"N=6.02*10**26           //Avagadro number\n",
"rho=2180                //density\n",
"\n",
"//Calculations\n",
"a=((n*M)/(N*rho))**(1/3)    \n",
"s=a/2\n",
"\n",
"//Result\n",
"printf('a=%0.3f*10**-9 metre\n',(a/10**-9))\n",
"printf('spacing between the nearest neighbouring ions =%0.3f nm',(s/10**-9))"
   ]
   }
,
{
		   "cell_type": "markdown",
		   "metadata": {},
		   "source": [
			"## Example 1.11: lattice_constant.sce"
		   ]
		  },
  {
"cell_type": "code",
	   "execution_count": null,
	   "metadata": {
	    "collapsed": true
	   },
	   "outputs": [],
"source": [
"//variable declaration\n",
"n=4     \n",
"A=63.55                 //Atomic wt. of NaCl\n",
"N=6.02*10**26           //Avagadro number\n",
"rho=8930                //density\n",
"\n",
"//Calculations\n",
"a=((n*A)/(N*rho))**(1/3)      //Lattice Constant\n",
"\n",
"//Result\n",
"printf('lattice constant, a=%0.3f nm',(a*10**9))"
   ]
   }
,
{
		   "cell_type": "markdown",
		   "metadata": {},
		   "source": [
			"## Example 1.12: Density_of_iron.sce"
		   ]
		  },
  {
"cell_type": "code",
	   "execution_count": null,
	   "metadata": {
	    "collapsed": true
	   },
	   "outputs": [],
"source": [
"//variable declaration\n",
"r=0.123                  //Atomic radius\n",
"n=4\n",
"A=55.8                   //Atomic wt\n",
"a=2*sqrt(2) \n",
"N=6.02*10**26           //Avagadro number\n",
"\n",
"//Calculations\n",
"rho=(n*A)/((a*r*10**-9)**3*N)\n",
"\n",
"//Result\n",
"printf('Density of iron =%0.3fkg/m**-3',rho)"
   ]
   }
,
{
		   "cell_type": "markdown",
		   "metadata": {},
		   "source": [
			"## Example 1.1: Calculation_of_youngs_modulus.sce"
		   ]
		  },
  {
"cell_type": "code",
	   "execution_count": null,
	   "metadata": {
	    "collapsed": true
	   },
	   "outputs": [],
"source": [
"//Initialisation of variables\n",
"clc\n",
"//Variable declaration\n",
"a=7.68*10**-29;     \n",
"r0=2.5*10**-10;    //radius(m)\n",
"\n",
"//Calculation\n",
"b=a*(r0**8)/9;\n",
"y=((-2*a*r0**8)+(90*b))/r0**11;    \n",
"E=y/r0;           //young's modulus(Pa)\n",
"\n",
"//Result\n",
"\n",
"printf('youngs modulus is %0.2f GPa',(E/10^9))\n",
""
   ]
   }
,
{
		   "cell_type": "markdown",
		   "metadata": {},
		   "source": [
			"## Example 1.2: Find_the_Effective_charge.sce"
		   ]
		  },
  {
"cell_type": "code",
	   "execution_count": null,
	   "metadata": {
	    "collapsed": true
	   },
	   "outputs": [],
"source": [
"//Initialisation of variables\n",
"clc\n",
"\n",
"d=((1.98)*10**-29)*1/3;        //dipole moment\n",
"b=(0.92);                      //bond length\n",
"EC=d/(b*10**-10);              //Effective charge\n",
"\n",
"//Result\n",
"printf('Effective charge =%0.2f *10**-29 coulomb',((EC*10**19)))"
   ]
   }
,
{
		   "cell_type": "markdown",
		   "metadata": {},
		   "source": [
			"## Example 1.3: Find_the_Cohesive_energy.sce"
		   ]
		  },
  {
"cell_type": "code",
	   "execution_count": null,
	   "metadata": {
	    "collapsed": true
	   },
	   "outputs": [],
"source": [
"//Initialisation of variables\n",
"clc\n",
"\n",
"A=1.748                 //Madelung Constant    \n",
"N=6.02*10**26           //Avagadro Number\n",
"e=1.6*10**-19\n",
"n=9.5\n",
"r=(0.324*10**-9)*10**3\n",
"E=8.85*10**-12\n",
"//Calculations\n",
"U=((N*A*(e)**2)/(4*%pi*E*r))*(1-1/n)       //Cohesive energy\n",
"\n",
"//Result\n",
"printf('Cohesive energy =%0.2f *10**3 kJ/kmol \n',(U/10**3))\n",
"printf('//Answer varies due to rounding of numbers')"
   ]
   }
,
{
		   "cell_type": "markdown",
		   "metadata": {},
		   "source": [
			"## Example 1.4: Find_the_Coulomb_energy.sce"
		   ]
		  },
  {
"cell_type": "code",
	   "execution_count": null,
	   "metadata": {
	    "collapsed": true
	   },
	   "outputs": [],
"source": [
"//variable declaration\n",
"I=5;                       //Ionisation energy\n",
"A=4;                       //Electron Affinity\n",
"e=(1.6*10**-19)\n",
"E=8.85*10**-12            //epsilon constant\n",
"r=0.5*10**-19             //dist between A and B\n",
"\n",
"//Calculations\n",
"C=-(e**2/(4*%pi*E*r*e))/10**10    //Coulomb energy\n",
"E_c=I-A+C                             //Energy required\n",
"\n",
"//Result\n",
"printf('Coulomb energy =%0.2f eV\n',C)\n",
"printf('Energy required =%0.2f eV',E_c')"
   ]
   }
,
{
		   "cell_type": "markdown",
		   "metadata": {},
		   "source": [
			"## Example 1.5: Find_the_Distance_of_separation.sce"
		   ]
		  },
  {
"cell_type": "code",
	   "execution_count": null,
	   "metadata": {
	    "collapsed": true
	   },
	   "outputs": [],
"source": [
"//variable declaration\n",
"I=5.14;                    //Ionization energy\n",
"A=3.65;                    //Electron Affinity\n",
"e=(1.6*10**-19);\n",
"E=8.85*10**-12; \n",
"//calculations\n",
"E_c=I-A                        //Energy required\n",
"r=e**2/(4*%pi*E*E_c*e)     //Distance of separation\n",
"\n",
"//Result\n",
"printf('Energy required=%0.2f eV \n',E_c)\n",
"printf('Distance of separation =%0.2f Angstrom',r/10**-10)"
   ]
   }
,
{
		   "cell_type": "markdown",
		   "metadata": {},
		   "source": [
			"## Example 1.6: Find_the_Bond_Energy.sce"
		   ]
		  },
  {
"cell_type": "code",
	   "execution_count": null,
	   "metadata": {
	    "collapsed": true
	   },
	   "outputs": [],
"source": [
"//variable declaration \n",
"I=5.14;                    //Ionization energy\n",
"A=3.65;                    //Electron Affinity\n",
"e=(1.6*10**-19);\n",
"E=8.85*10**-12; \n",
"r=236*10**-12;\n",
"\n",
"//Calculations\n",
"E_c=I-A                        //Energy required\n",
"C=-(e**2/(4*%pi*E*r*e))    //Potentential energy in eV\n",
"BE=-(E_c+C)                    //Bond Energy\n",
"//Result\n",
"printf('Energy required= %0.2f eV\n',E_c)\n",
"printf('Energy required =%0.1f eV\n',C)\n",
"printf('Bond Energy =%0.2f eV',BE)"
   ]
   }
,
{
		   "cell_type": "markdown",
		   "metadata": {},
		   "source": [
			"## Example 1.7: Find_the_density.sce"
		   ]
		  },
  {
"cell_type": "code",
	   "execution_count": null,
	   "metadata": {
	    "collapsed": true
	   },
	   "outputs": [],
"source": [
"//variable declaration\n",
"d=2.351                 //bond lenght\n",
"N=6.02*10**26           //Avagadro number\n",
"n=8                     //number of atoms in unit cell\n",
"A=28.09                 //Atomin mass of silicon\n",
"m=6.02*10**26           //1mole\n",
"\n",
"//Calculations\n",
"a=(4*d)/sqrt(3)\n",
"p=(n*A)/((a*10**-10)*m)    //density\n",
"\n",
"//Result\n",
"printf('a=%0.2fAngstorm\n',a)\n",
"printf('density =%0.2f kg/m**3\n',(p*10**16))\n",
"printf('//Answer given in the textbook is wrong')"
   ]
   }
,
{
		   "cell_type": "markdown",
		   "metadata": {},
		   "source": [
			"## Example 1.8: Find_the_radius_of_sphere.sce"
		   ]
		  },
  {
"cell_type": "code",
	   "execution_count": null,
	   "metadata": {
	    "collapsed": true
	   },
	   "outputs": [],
"source": [
"//Variable declaration\n",
"\n",
"\n",
"//Calculation\n",
"a1=4/sqrt(3);\n",
"R1=(a1/2)-1;           //radius of largest sphere\n",
"a2=4/sqrt(2);\n",
"R2=(a2/2)-1;       //maximum radius of sphere\n",
"\n",
"//Result\n",
"printf('radius of largest sphere is %f*r\n',R1)\n",
"printf('maximum radius of sphere is %f*r',R2 )   "
   ]
   }
,
{
		   "cell_type": "markdown",
		   "metadata": {},
		   "source": [
			"## Example 1.9: increase_of_density_or_the_decrease_of_volume.sce"
		   ]
		  },
  {
"cell_type": "code",
	   "execution_count": null,
	   "metadata": {
	    "collapsed": true
	   },
	   "outputs": [],
"source": [
"//variable declaration\n",
"r1=1.258            //Atomic radius of BCC\n",
"r2=1.292            //Atomic radius of FCC\n",
"\n",
"//calculations\n",
"a1=(4*r1)/sqrt(3)       //in BCC\n",
"b1=((a1)**3)*10**-30         //Unit cell volume\n",
"v1=(b1)/2                    //Volume occupied by one atom\n",
"a2=2*sqrt(2)*r2         //in FCC\n",
"b2=(a2)**3*10**-30                   //Unit cell volume\n",
"v2=(b2)/4                    //Volume occupied by one atom  \n",
"v_c=((v1)-(v2))*100/(v1)     //Volume Change in % \n",
"d_c=((v1)-(v2))*100/(v2)     //Density Change in %\n",
"\n",
"//Results\n",
"printf('a1=%0.3f Angstrom\n\n',(a1)) \n",
"printf('Unit cell volume =a1**3 =%0.3f *10**-30 m**3\n',((b1)/10**-30))\n",
"printf('Volume occupied by one atom =%0.2f *10**-30 m**3\n',(v1/10**-30))\n",
"printf('a2=%0.2f\n Angstorm\n',(a2))\n",
"printf('Unit cell volume =a2**3 =%0.3f *10**-30 m**3\n',((b2)/10**-30))\n",
"printf('Volume occupied by one atom =%0.3f*10**-30 m**3\n',(v2/10**-30))\n",
"printf('Volume Change in percentage  =%0.3f\n',(v_c))\n",
"printf('Density Change in percentage =%0.3f\n',(d_c))\n",
"printf('Thus the increase of density or the decrease of volume is about 0.5 percentage')"
   ]
   }
],
"metadata": {
		  "kernelspec": {
		   "display_name": "Scilab",
		   "language": "scilab",
		   "name": "scilab"
		  },
		  "language_info": {
		   "file_extension": ".sce",
		   "help_links": [
			{
			 "text": "MetaKernel Magics",
			 "url": "https://github.com/calysto/metakernel/blob/master/metakernel/magics/README.md"
			}
		   ],
		   "mimetype": "text/x-octave",
		   "name": "scilab",
		   "version": "0.7.1"
		  }
		 },
		 "nbformat": 4,
		 "nbformat_minor": 0
}
