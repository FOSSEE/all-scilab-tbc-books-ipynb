{
"cells": [
 {
		   "cell_type": "markdown",
	   "metadata": {},
	   "source": [
       "# Chapter 2: Crystal Planes and Xray Diffraction"
	   ]
	},
{
		   "cell_type": "markdown",
		   "metadata": {},
		   "source": [
			"## Example 2.10: Calcutate_length.sce"
		   ]
		  },
  {
"cell_type": "code",
	   "execution_count": null,
	   "metadata": {
	    "collapsed": true
	   },
	   "outputs": [],
"source": [
"clc\n",
"\n",
"\n",
"\n",
"//Variable declaration\n",
"lamda=0.58\n",
"theta=9.5*%pi/180\n",
"n=1\n",
"d=0.5           //d200=a/sqrt(2**2+0**2+0**2)=0.5a\n",
"//Calculations\n",
"a=n*lamda/(2*d*sin(theta))     //2*d*sin(theta)=n*lamda \n",
"\n",
"//Result\n",
"printf('a =%0.3f Angstorms\n',(a))"
   ]
   }
,
{
		   "cell_type": "markdown",
		   "metadata": {},
		   "source": [
			"## Example 2.11: Calculate_the_angle.sce"
		   ]
		  },
  {
"cell_type": "code",
	   "execution_count": null,
	   "metadata": {
	    "collapsed": true
	   },
	   "outputs": [],
"source": [
"\n",
"clc\n",
"\n",
"\n",
"\n",
"//Variable declaration\n",
"lamda=0.842\n",
"n1=1\n",
"q=(8+(35/60))*(%pi/180)\n",
"n2=3\n",
"d=1\n",
"//Calculations\n",
"//n*lamda=2*d*sin(theta)\n",
"//n1*0.842=2*d*sin(q)\n",
"//n3*0.842=2*d*sin(theta3)\n",
"//Dividing both the eauations, we get\n",
"//(n2*lamda)/(n1*lamda)=2*d*sin(theta3)/2*d*sin(q)\n",
"theta3=asin((((n2*lamda)/(n1*lamda))*(2*d*sin(q)))/(2*d))\n",
"d=theta3*180/%pi;\n",
"a_d=int(d);\n",
"a_m=(d-int(d))*60\n",
"\n",
"//Result\n",
"printf('sin(theta3) =%0.3f %0.3f',a_d,a_m)"
   ]
   }
,
{
		   "cell_type": "markdown",
		   "metadata": {},
		   "source": [
			"## Example 2.12: Calculate_h_and_k_values.sce"
		   ]
		  },
  {
"cell_type": "code",
	   "execution_count": null,
	   "metadata": {
	    "collapsed": true
	   },
	   "outputs": [],
"source": [
"clc\n",
"//Variable declaration\n",
"a=3.16\n",
"lamda=1.54\n",
"n=1\n",
"theta=20.3*%pi/180\n",
"\n",
"//Calculations\n",
"d=(n*lamda)/(2*sin(theta))\n",
"x=a/d                             //let sqrt(h**2+k**2+l**2)=x\n",
"\n",
"//Result\n",
"printf('d =%0.3f Angstorms\n',(d))\n",
"printf('sqrt(h**2+k**2+l**2) =%0.3f \n',(x))\n",
"printf('Therefore, h**2+k**2+l**2 =sqrt(2)\n')\n",
"printf('h =1, k=1')"
   ]
   }
,
{
		   "cell_type": "markdown",
		   "metadata": {},
		   "source": [
			"## Example 2.13: Calculate_wavelength_and_energy.sce"
		   ]
		  },
  {
"cell_type": "code",
	   "execution_count": null,
	   "metadata": {
	    "collapsed": true
	   },
	   "outputs": [],
"source": [
"\n",
"//Variable declaration\n",
"n=4\n",
"A=107.87\n",
"rho=10500\n",
"N=6.02*10**26\n",
"h=1;\n",
"k=1;\n",
"l=1;\n",
"H=6.625*10**-34\n",
"e=1.6*10**-19\n",
"theta=(19+(12/60))*%pi/180\n",
"C=3*10**8\n",
"//Calculations\n",
"a=((n*A)/(rho*N))**(1/3)*10**10\n",
"d=a/sqrt(h**2+k**2+l**2)\n",
"lamda=2*d*sin(theta)\n",
"E=(H*C)/(lamda*10**-10*e)\n",
"\n",
"//Result\n",
"printf('a =%0.3f Angstroms \n',(a))\n",
"printf('d =%0.3f Angstroms\n',(d))\n",
"printf('lamda =%0.3f Angstroms\n',(lamda))\n",
"printf('E =%0.3f *10**3 eV\n',(E/10**3))"
   ]
   }
,
{
		   "cell_type": "markdown",
		   "metadata": {},
		   "source": [
			"## Example 2.14: Calculate_wavelength_and_angle.sce"
		   ]
		  },
  {
"cell_type": "code",
	   "execution_count": null,
	   "metadata": {
	    "collapsed": true
	   },
	   "outputs": [],
"source": [
"\n",
"//Variable declaration\n",
"a=4.57\n",
"h=1\n",
"k=1\n",
"l=1\n",
"lamda=1.52\n",
"twotheta=33.5*%pi/180\n",
"r=5                  //radius\n",
"//Calculations\n",
"d=a/(h**2+k**2+l**2)**(1/2)\n",
"sintheta=lamda/(2*d)\n",
"X=r/tan(twotheta)\n",
"\n",
"//Result\n",
"printf('d =%0.3f Angstorms\n',(d))\n",
"printf('sin(theta)=%0.3f \n',(sintheta))\n",
"printf('X =%0.3f cm\n',(X))"
   ]
   }
,
{
		   "cell_type": "markdown",
		   "metadata": {},
		   "source": [
			"## Example 2.1: Number_of_atoms_per_unit_area.sce"
		   ]
		  },
  {
"cell_type": "code",
	   "execution_count": null,
	   "metadata": {
	    "collapsed": true
	   },
	   "outputs": [],
"source": [
"clc\n",
"\n",
"//Variable declaration\n",
"a=mulf('2','R')\n",
"\n",
"//Results\n",
"printf('i.Number of atoms per unit area of (100)plane= 1/(%d*R**2) ',2**2)\n",
"printf('\nii.Number of atoms per unit area of (110)plane=%f*R**2',2**2/(sqrt(2)))\n",
"printf('\niii.Number of atoms per unit area of (111)plane=%f*R**2',2**2/(sqrt(3)))"
   ]
   }
,
{
		   "cell_type": "markdown",
		   "metadata": {},
		   "source": [
			"## Example 2.2: Surface_area_of_surfaces.sce"
		   ]
		  },
  {
"cell_type": "code",
	   "execution_count": null,
	   "metadata": {
	    "collapsed": true
	   },
	   "outputs": [],
"source": [
"clc\n",
"\n",
"\n",
"\n",
"//Variable declaration\n",
"a=3.61*10**-7\n",
"BC=sqrt(2)/2\n",
"AD=(sqrt(6))/2\n",
"//Result\n",
"printf('i.Surface area of the face ABCD =%0.3f*10**-14 mm**2\n',(a**2*10**14))\n",
"printf('ii.Surface area of plane (110) =%0.3f*10**13 atoms/mm**2\n',((2/(a*sqrt(2)*a)/10**13)))\n",
"printf('iii.Surface area of pane(111)=%0.3f*10**13 atoms/mm**2',(2/(BC*AD*a**2)*10**-13))"
   ]
   }
,
{
		   "cell_type": "markdown",
		   "metadata": {},
		   "source": [
			"## Example 2.3: Calculate_ratio.sce"
		   ]
		  },
  {
"cell_type": "code",
	   "execution_count": null,
	   "metadata": {
	    "collapsed": true
	   },
	   "outputs": [],
"source": [
"h1=1\n",
"k1=0\n",
"l1=0\n",
"h2=1\n",
"k2=1\n",
"l2=0\n",
"h3=1\n",
"k3=1\n",
"l3=1\n",
"a=1\n",
"\n",
"//Calculations\n",
"d1=a/(sqrt(h1**2+k1**2+l1**2))\n",
"d2=a/(sqrt(h2**2+k2**2+l2**2))\n",
"d3=a/(sqrt(h3**2+k3**2+l3**2))\n",
"\n",
"//Result\n",
"printf('d1 =%0.2f\n',d1 )\n",
"printf('d2 =%0.2f\n',(d2))\n",
"printf('d3 =%0.2f\n',(d3))\n",
"printf('d1:d2:d3 =%0.2f:%0.2f:%0.2f',d1,(d2),d3)"
   ]
   }
,
{
		   "cell_type": "markdown",
		   "metadata": {},
		   "source": [
			"## Example 2.4: Calcutate_length.sce"
		   ]
		  },
  {
"cell_type": "code",
	   "execution_count": null,
	   "metadata": {
	    "collapsed": true
	   },
	   "outputs": [],
"source": [
"\n",
"clc\n",
"\n",
"\n",
"\n",
"//Variable declaration\n",
"h=2\n",
"k=2\n",
"l=0\n",
"a=450\n",
"\n",
"//Calculations\n",
"d=a/(sqrt(h**2+k**2+l**2))\n",
"\n",
"//Result\n",
"printf('d(220) =%0.3fpm\n',(d))"
   ]
   }
,
{
		   "cell_type": "markdown",
		   "metadata": {},
		   "source": [
			"## Example 2.5: Calcutate_two_lengths.sce"
		   ]
		  },
  {
"cell_type": "code",
	   "execution_count": null,
	   "metadata": {
	    "collapsed": true
	   },
	   "outputs": [],
"source": [
"\n",
"clc\n",
"\n",
"\n",
"\n",
"//Variable declaration\n",
"a=3.615\n",
"r=1.278\n",
"h=1\n",
"k=1\n",
"l=1\n",
"\n",
"//Calculations\n",
"a=(4*r)/sqrt(2)\n",
"d=a/(sqrt(h**2+k**2+l**2))\n",
"\n",
"//Result\n",
"printf('a =%0.3fAngstroms\n',(a))\n",
"printf('d =%0.3fAngstroms\n',(d))"
   ]
   }
,
{
		   "cell_type": "markdown",
		   "metadata": {},
		   "source": [
			"## Example 2.7: Calcutate_lengths_of_two_spheres.sce"
		   ]
		  },
  {
"cell_type": "code",
	   "execution_count": null,
	   "metadata": {
	    "collapsed": true
	   },
	   "outputs": [],
"source": [
"clc\n",
"\n",
"\n",
"\n",
"//Variable declaration\n",
"n=1\n",
"lamda=1.54\n",
"theta=32*%pi/180\n",
"h=2\n",
"k=2\n",
"l=0\n",
"\n",
"//Calculations\n",
"d=(n*lamda*10**-10)/(2*sin(theta))   //derived from 2dsin(theta)=n*l\n",
"a=d*(sqrt(h**2+k**2+l**2))\n",
"\n",
"//Results\n",
"printf('d =%0.3f *10**-10 m\n',(d*10**10))\n",
"printf('a =%0.3f *10**-10 m\n',(a*10**10))"
   ]
   }
,
{
		   "cell_type": "markdown",
		   "metadata": {},
		   "source": [
			"## Example 2.8: length_by_diffraction_given_by_angles.sce"
		   ]
		  },
  {
"cell_type": "code",
	   "execution_count": null,
	   "metadata": {
	    "collapsed": true
	   },
	   "outputs": [],
"source": [
"clc\n",
"\n",
"\n",
"\n",
"//Variable declaration\n",
"lamda=0.58\n",
"theta1=6.45*%pi/180\n",
"theta2=9.15*%pi/180\n",
"theta3=13*%pi/180\n",
"\n",
"//Calculations\n",
"dbyn1=lamda/(2*(sin(theta1)))\n",
"dbyn2=lamda/(2*sin(theta2))\n",
"dbyn3=lamda/(2*sin(theta3))\n",
"           \n",
"//Results\n",
"printf('i.  d/n =%0.3f Angstroms\n',(dbyn1))\n",
"printf('ii. d/n =%0.3f Angstroms\n',(dbyn2))\n",
"printf('iii.d/n =%0.3f Angstroms\n',(dbyn3))"
   ]
   }
,
{
		   "cell_type": "markdown",
		   "metadata": {},
		   "source": [
			"## Example 2.9: Given_wavelength_calculate_n.sce"
		   ]
		  },
  {
"cell_type": "code",
	   "execution_count": null,
	   "metadata": {
	    "collapsed": true
	   },
	   "outputs": [],
"source": [
"clc\n",
"\n",
"\n",
"\n",
"//Variable declaration\n",
"d=1.18\n",
"theta=90*%pi/180\n",
"lamda=1.540\n",
"\n",
"//Calculations\n",
"n=(2*d*sin(theta))/lamda\n",
"\n",
"//Result\n",
"printf('n =%0.3f \n',(n))"
   ]
   }
],
"metadata": {
		  "kernelspec": {
		   "display_name": "Scilab",
		   "language": "scilab",
		   "name": "scilab"
		  },
		  "language_info": {
		   "file_extension": ".sce",
		   "help_links": [
			{
			 "text": "MetaKernel Magics",
			 "url": "https://github.com/calysto/metakernel/blob/master/metakernel/magics/README.md"
			}
		   ],
		   "mimetype": "text/x-octave",
		   "name": "scilab",
		   "version": "0.7.1"
		  }
		 },
		 "nbformat": 4,
		 "nbformat_minor": 0
}
