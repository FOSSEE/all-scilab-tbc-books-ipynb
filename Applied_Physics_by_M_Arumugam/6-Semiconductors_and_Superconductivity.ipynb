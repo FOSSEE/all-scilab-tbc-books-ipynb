{
"cells": [
 {
		   "cell_type": "markdown",
	   "metadata": {},
	   "source": [
       "# Chapter 6: Semiconductors and Superconductivity"
	   ]
	},
{
		   "cell_type": "markdown",
		   "metadata": {},
		   "source": [
			"## Example 6.10: Conductivity.sce"
		   ]
		  },
  {
"cell_type": "code",
	   "execution_count": null,
	   "metadata": {
	    "collapsed": true
	   },
	   "outputs": [],
"source": [
"//Variable declaration\n",
"m=9.1*10**-31\n",
"k=1.38*10**-23\n",
"T=300\n",
"h=6.626*10**-34\n",
"Eg=1.1\n",
"e=1.6*10**-19\n",
"mu_e=0.48\n",
"mu_h=0.013\n",
"//Calculations\n",
"ni=2*((2*%pi*m*k*T)/h**2)**(3/2)*exp(-(Eg*e)/(2*k*T))\n",
"sigma=ni*e*(mu_e+mu_h)\n",
"                                                  \n",
"//Result\n",
"printf('Conductivity = %0.3f    *10**-3 ohm**-1 m**-1   \n',(sigma*10**3))             "
   ]
   }
,
{
		   "cell_type": "markdown",
		   "metadata": {},
		   "source": [
			"## Example 6.11: The_electron_concentration.sce"
		   ]
		  },
  {
"cell_type": "code",
	   "execution_count": null,
	   "metadata": {
	    "collapsed": true
	   },
	   "outputs": [],
"source": [
"//Variable declaration\n",
"Na=5*10**23\n",
"Nd=3*10**23\n",
"ni=2*10**16\n",
"//Calculations\n",
"p=((Na-Nd)+(Na-Nd))/2\n",
"\n",
"//Result\n",
"printf('p = %0.3f    *10**23 m**-3 \n',p*10**-23)\n",
"printf('The electron concentration is given by n = %0.3f   *10**9 m**-3  \n',ni**2/p*10**-9)"
   ]
   }
,
{
		   "cell_type": "markdown",
		   "metadata": {},
		   "source": [
			"## Example 6.12: resistance.sce"
		   ]
		  },
  {
"cell_type": "code",
	   "execution_count": null,
	   "metadata": {
	    "collapsed": true
	   },
	   "outputs": [],
"source": [
"\n",
"//Variable declaration\n",
"Vh=37*10**-6\n",
"thick=1*10**-3\n",
"width=5\n",
"Iy=20*10**-3\n",
"Bz=0.5\n",
"\n",
"//Calculations\n",
"Rh=(Vh*width*thick)/(width*Iy*Bz)\n",
"\n",
"//Result\n",
"printf('Rh = %0.3f     *10**-6 C**-1 m**3   \n',(Rh*10**6))"
   ]
   }
,
{
		   "cell_type": "markdown",
		   "metadata": {},
		   "source": [
			"## Example 6.13: Calculate_Dn_and_Dp.sce"
		   ]
		  },
  {
"cell_type": "code",
	   "execution_count": null,
	   "metadata": {
	    "collapsed": true
	   },
	   "outputs": [],
"source": [
"\n",
"//Variable declaration\n",
"Vt=0.0258\n",
"mu_n=1300\n",
"mu_p=500\n",
"\n",
"//Calculations\n",
"Dn=Vt*mu_n\n",
"Dp=Vt*mu_p\n",
"\n",
"//Result\n",
"printf('Dn = %0.3f   cm**2 s**-1  \n',Dn)\n",
"printf('Dp = %0.3f cm**2 s**-1    \n',Dp)"
   ]
   }
,
{
		   "cell_type": "markdown",
		   "metadata": {},
		   "source": [
			"## Example 6.14: Electrical_Conductivity.sce"
		   ]
		  },
  {
"cell_type": "code",
	   "execution_count": null,
	   "metadata": {
	    "collapsed": true
	   },
	   "outputs": [],
"source": [
"\n",
"//Variable declaration\n",
"ni=1.5*10**16\n",
"Nd=2*10**19\n",
"e=1.602*100**-19\n",
"mu_n=0.12\n",
"\n",
"//Calculations\n",
"p=ni**2/Nd\n",
"E_c=e*Nd*mu_n\n",
"\n",
"//Result\n",
"printf('The hole concentration p = %0.3f     *10**13 /m**3   \n',(p*10**-13))\n",
"printf('n= Nd = %0.3f     *10**19   \n',(Nd*10**-19))\n",
"printf('Electrical Conductivity = %0.3f      ohm**-1 m**-1  \n',(E_c*10**19))"
   ]
   }
,
{
		   "cell_type": "markdown",
		   "metadata": {},
		   "source": [
			"## Example 6.15: Current_density.sce"
		   ]
		  },
  {
"cell_type": "code",
	   "execution_count": null,
	   "metadata": {
	    "collapsed": true
	   },
	   "outputs": [],
"source": [
"\n",
"//Variable declaration\n",
"N=1/60\n",
"e=1.6*10**-19\n",
"ni=2.5*10**13\n",
"b=5*10**13\n",
"E=2\n",
"\n",
"//Calculations\n",
"n=(b+sqrt(2*b**2))/2\n",
"mu_p=N/(3*e*ni)\n",
"mu_i=2*mu_p\n",
"np=ni**2\n",
"p=(ni**2)/n\n",
"e=1.6*10**-19\n",
"E=2\n",
"J=(e*E)*((n*mu_i)+(p*mu_p))\n",
"//Result\n",
"printf('mu_p= %0.3f   cm**2/V-s     \n',(mu_p))\n",
"printf('n= %0.3f     *10**13/cm**3   \n',(n/10**13))\n",
"printf('p= %0.3f     *10**13/cm**3   \n',(p*10**-13))\n",
"printf('J= %0.3f    A/m**2    \n',(J*10**4))\n",
"printf('//Answer varies due to ing of numbers')"
   ]
   }
,
{
		   "cell_type": "markdown",
		   "metadata": {},
		   "source": [
			"## Example 6.16: Drift_velocity.sce"
		   ]
		  },
  {
"cell_type": "code",
	   "execution_count": null,
	   "metadata": {
	    "collapsed": true
	   },
	   "outputs": [],
"source": [
"\n",
"//Variable declaration\n",
"rho=47*10**-2\n",
"e=1.6*10**-19\n",
"mu_n=0.39\n",
"mu_p=0.19\n",
"E=10**4\n",
"\n",
"//Calculations\n",
"ni=1/(rho*e*(mu_n+mu_p))\n",
"Dh=mu_p*E\n",
"De=mu_n*E\n",
"\n",
"//Results\n",
"printf('ni = %0.3f     *10**19 /m**3   \n',(ni/10**19))\n",
"printf('Drift velocity of holes %0.3f   ms**-1  \n',Dh)\n",
"printf('Drift velocity of electrons= %0.3f    ms**-1 \n',De)"
   ]
   }
,
{
		   "cell_type": "markdown",
		   "metadata": {},
		   "source": [
			"## Example 6.17: critical_field.sce"
		   ]
		  },
  {
"cell_type": "code",
	   "execution_count": null,
	   "metadata": {
	    "collapsed": true
	   },
	   "outputs": [],
"source": [
"//Variable declaration\n",
"H0=64*10**3;    //initial field(ampere/m)\n",
"T=5;    //temperature(K)\n",
"Tc=7.26;   //transition temperature(K)\n",
"\n",
"//Calculation\n",
"H=H0*(1-(T/Tc)**2);     //critical field(ampere/m)\n",
"\n",
"//Result\n",
"printf('critical field is %0.3f     *10**3 ampere/m   \n',(H/10**3))"
   ]
   }
,
{
		   "cell_type": "markdown",
		   "metadata": {},
		   "source": [
			"## Example 6.18: Frequency_of_generated_microwaves.sce"
		   ]
		  },
  {
"cell_type": "code",
	   "execution_count": null,
	   "metadata": {
	    "collapsed": true
	   },
	   "outputs": [],
"source": [
"//Variable declaration\n",
"e=1.6*10**-19\n",
"V=1*10\n",
"h=6.625*10**-34\n",
"\n",
"//Calculations\n",
"v=(2*e*V**-3)/h \n",
"\n",
"//Result\n",
"printf('Frequency of generated microwaves= %0.3f  *10**9 Hz      \n',(v/10**9))"
   ]
   }
,
{
		   "cell_type": "markdown",
		   "metadata": {},
		   "source": [
			"## Example 6.19: Penetration_depth.sce"
		   ]
		  },
  {
"cell_type": "code",
	   "execution_count": null,
	   "metadata": {
	    "collapsed": true
	   },
	   "outputs": [],
"source": [
"//Variable declaration\n",
"d=7300                  //density in (kg/m**3)\n",
"N=6.02*10**26           //Avagadro Number\n",
"A=118.7                 //Atomic Weight\n",
"E=1.9                 //Effective mass\n",
"e=1.6*10**-19\n",
"\n",
"//Calculations\n",
"n=(d*N)/A\n",
"m=E*9.1*10**-31\n",
"x=4*%pi*10**-7*n*e**2\n",
"lamda_L=sqrt(m/x)\n",
"      \n",
"//Result\n",
"printf('Number of electrons per unit volume = %0.3f   *10**28/m**3     \n',(n/10**28))\n",
"printf('Effective mass of electron m = %0.3f     *10*-31 kg   \n',(m*10**31))\n",
"printf('Penetration depth = %0.3f   Angstroms  \n',lamda_L*10**8)\n",
"printf('//The answer given in the text book is wrong')"
   ]
   }
,
{
		   "cell_type": "markdown",
		   "metadata": {},
		   "source": [
			"## Example 6.1: number_of_electron_hole_pairs.sce"
		   ]
		  },
  {
"cell_type": "code",
	   "execution_count": null,
	   "metadata": {
	    "collapsed": true
	   },
	   "outputs": [],
"source": [
"//Variable declaration\n",
"ni1=2.5*10**19;    //number of electron hole pairs\n",
"T1=300;     //temperature(K)\n",
"Eg1=0.72*1.6*10**-19;    //energy gap(J)\n",
"k=1.38*10**-23;     //boltzmann constant\n",
"T2=310;    //temperature(K)\n",
"Eg2=1.12*1.6*10**-19;    //energy gap(J)\n",
"\n",
"//Calculation\n",
"x1=-Eg1/(2*k*T1);\n",
"y1=(T1**(3/2))*exp(x1);\n",
"x2=-Eg2/(2*k*T2);\n",
"y2=(T2**(3/2))*exp(x2);\n",
"ni=ni1*(y2/y1);          //number of electron hole pairs\n",
"\n",
"//Result\n",
"printf('number of electron hole pairs is %0.3f    *10**16 per cubic metre    \n',(ni/10**16))\n",
"printf('answer varies due to ing off errors')"
   ]
   }
,
{
		   "cell_type": "markdown",
		   "metadata": {},
		   "source": [
			"## Example 6.20: Calculate_wavelength.sce"
		   ]
		  },
  {
"cell_type": "code",
	   "execution_count": null,
	   "metadata": {
	    "collapsed": true
	   },
	   "outputs": [],
"source": [
"\n",
"//Variable declaration\n",
"lamda_L1=39.6*10**-9\n",
"lamda_L2=173*10**-9\n",
"T1=7.1\n",
"T2=3\n",
"\n",
"//Calculations\n",
"x=(lamda_L1/lamda_L2)**2\n",
"Tc4=(T1**4)-((T2**4)*x)/(1-x)\n",
"Tc=(Tc4)**(1/4)\n",
"printf('Tc = %0.3f     K   \n',(Tc))\n",
"printf('lamda0= %0.3f    nm    \n',((sqrt(1-(T2/Tc)**4)*lamda_L1)*10**9))"
   ]
   }
,
{
		   "cell_type": "markdown",
		   "metadata": {},
		   "source": [
			"## Example 6.21: Critical_current_density.sce"
		   ]
		  },
  {
"cell_type": "code",
	   "execution_count": null,
	   "metadata": {
	    "collapsed": true
	   },
	   "outputs": [],
"source": [
"\n",
"//Variable declaration\n",
"H0=6.5*10**4           //(ampere/metre)\n",
"T=4.2                  //K\n",
"Tc=7.18                //K\n",
"r=0.5*10**-3\n",
"\n",
"//Calculations\n",
"Hc=H0*(1-(T/Tc)**2)\n",
"Ic=(2*%pi*r)*Hc\n",
"A=%pi*r**2\n",
"Jc=Ic/A                //Critical current density\n",
"\n",
"//Result\n",
"printf('Hc = %0.3f       *10**4 \n',(Hc/10**4))\n",
"printf('Critical current density,Jc = %0.3f  *10**8 ampere/metre**2      \n',(Jc/10**8))"
   ]
   }
,
{
		   "cell_type": "markdown",
		   "metadata": {},
		   "source": [
			"## Example 6.22: New_critical_temperature_for_mercury.sce"
		   ]
		  },
  {
"cell_type": "code",
	   "execution_count": null,
	   "metadata": {
	    "collapsed": true
	   },
	   "outputs": [],
"source": [
"\n",
"//Variable declaration\n",
"Tc1=4.185\n",
"M1=199.5\n",
"M2=203.4\n",
"\n",
"//Calculations\n",
"Tc2=Tc1*(M1/M2)**(1/2)\n",
"\n",
"//Result\n",
"printf('New critical temperature for mercury = %0.3f     K   \n',(Tc2))"
   ]
   }
,
{
		   "cell_type": "markdown",
		   "metadata": {},
		   "source": [
			"## Example 6.2: intrinsic_conductivity.sce"
		   ]
		  },
  {
"cell_type": "code",
	   "execution_count": null,
	   "metadata": {
	    "collapsed": true
	   },
	   "outputs": [],
"source": [
"//Variable declaration\n",
"w=72.6;    //atomic weight\n",
"d=5400;    //density(kg/m**3)\n",
"Na=6.025*10**26;    //avagadro number\n",
"mew_e=0.4;    //mobility of electron(m**2/Vs)\n",
"mew_h=0.2;    //mobility of holes(m**2/Vs)\n",
"e=1.6*10**-19;\n",
"m=9.108*10**-31;    //mass(kg)\n",
"ni=2.1*10**19;      //number of electron hole pairs\n",
"Eg=0.7;    //band gap(eV)\n",
"k=1.38*10**-23;    //boltzmann constant\n",
"h=6.625*10**-34;    //plancks constant\n",
"T=300;     //temperature(K)\n",
"\n",
"//Calculation\n",
"sigmab=ni*e*(mew_e+mew_h);    //intrinsic conductivity(ohm-1 m-1)\n",
"rhob=1/sigmab;     //resistivity(ohm m)\n",
"n=Na*d/w;     //number of germanium atoms per m**3\n",
"p=n/10**5;   //boron density\n",
"sigma=p*e*mew_h;\n",
"rho=1/sigma;\n",
"\n",
"//Result\n",
"printf('intrinsic conductivity is %0.3f   *10**4 ohm-1 m-1     \n',(sigma/10**4))\n",
"printf('intrinsic resistivity is %0.3f    *10**-4 ohm m    \n',(rho*10**4))\n",
"printf('answer varies due to ing off errors')\n",
"printf('number of germanium atoms per m**3 is %0.3f   *10**28     \n',(n/10**28))"
   ]
   }
,
{
		   "cell_type": "markdown",
		   "metadata": {},
		   "source": [
			"## Example 6.3: charge_carrier_density.sce"
		   ]
		  },
  {
"cell_type": "code",
	   "execution_count": null,
	   "metadata": {
	    "collapsed": true
	   },
	   "outputs": [],
"source": [
"\n",
"//Variable declaration\n",
"e=1.6*10**-19;\n",
"RH=3.66*10**-4;    //hall coefficient(m**3/coulomb)\n",
"sigma=112;      //conductivity(ohm-1 m-1)\n",
"\n",
"//Calculation\n",
"ne=3*%pi/(8*RH*e);    //charge carrier density(per m**3)\n",
"mew_e=sigma/(e*ne);      //electron mobility(m**2/Vs)\n",
"\n",
"//Result\n",
"printf('charge carrier density is %0.3f  *10**22 per m**3   \n',int(ne/10**22))\n",
"printf('electron mobility is %0.3f    m**2/Vs    \n',(mew_e))"
   ]
   }
,
{
		   "cell_type": "markdown",
		   "metadata": {},
		   "source": [
			"## Example 6.4: conductivity_during_donor_impurity.sce"
		   ]
		  },
  {
"cell_type": "code",
	   "execution_count": null,
	   "metadata": {
	    "collapsed": true
	   },
	   "outputs": [],
"source": [
"//Variable declaration\n",
"mew_e=0.13;    //mobility of electron(m**2/Vs)\n",
"mew_h=0.05;    //mobility of holes(m**2/Vs)\n",
"e=1.6*10**-19;\n",
"ni=1.5*10**16;      //number of electron hole pairs\n",
"N=5*10**28;\n",
"\n",
"//Calculation\n",
"sigma1=ni*e*(mew_e+mew_h);    //intrinsic conductivity(ohm-1 m-1)\n",
"ND=N/10**8;\n",
"n=ni**2/ND;\n",
"sigma2=ND*e*mew_e;     //conductivity(ohm-1 m-1)\n",
"sigma3=ND*e*mew_h;     //conductivity(ohm-1 m-1)\n",
"\n",
"//Result\n",
"printf('intrinsic conductivity is %0.3f *10**-3 ohm-1 m-1 %0.3f \n',(sigma1*10**3),sigma2)\n",
"printf('conductivity during donor impurity is %0.3f ohm-1 m-1 \n',sigma2)\n",
"printf('conductivity during acceptor impurity is %0.3f ohm-1 m-1',int(sigma3))"
   ]
   }
,
{
		   "cell_type": "markdown",
		   "metadata": {},
		   "source": [
			"## Example 6.5: conductivity.sce"
		   ]
		  },
  {
"cell_type": "code",
	   "execution_count": null,
	   "metadata": {
	    "collapsed": true
	   },
	   "outputs": [],
"source": [
"//Variable declaration\n",
"e=1.6*10**-19;\n",
"Eg=0.72;    //band gap(eV)\n",
"k=1.38*10**-23;    //boltzmann constant\n",
"T1=293;     //temperature(K)\n",
"T2=313;     //temperature(K)\n",
"sigma1=2;    //conductivity(mho m-1)\n",
"\n",
"//Calculation\n",
"x=(Eg*e/(2*k))*((1/T1)-(1/T2));\n",
"y=(x/2.303);\n",
"z=(log10(sigma1));\n",
"log_sigma2=y+z;\n",
"sigma2=10**log_sigma2;     //conductivity(mho m-1)\n",
"\n",
"//Result\n",
"printf('conductivity is %0.3f   mho m-1     \n',(sigma2))"
   ]
   }
,
{
		   "cell_type": "markdown",
		   "metadata": {},
		   "source": [
			"## Example 6.6: Concentration.sce"
		   ]
		  },
  {
"cell_type": "code",
	   "execution_count": null,
	   "metadata": {
	    "collapsed": true
	   },
	   "outputs": [],
"source": [
"//Variable declaration\n",
"ni=1.5*10**16\n",
"mu_n=1300*10**-4\n",
"mu_p=500*10**-4\n",
"e=1.6*10**-19\n",
"sigma=3*10**4\n",
"\n",
"//Calculations\n",
"//Concentration in N-type\n",
"n1=sigma/(e*mu_n)\n",
"p1=ni**2/n1\n",
"//Concentration in P-type\n",
"p=sigma/(e*mu_p)\n",
"n2=(ni**2)/p\n",
"\n",
"//Result\n",
"printf('a)Concentration in N-type\n ')\n",
"printf('n = %0.3f     *10**24 m**-3   \n',(n1*10**-24))\n",
"printf('Hence p = %0.3f     *10**8 m**-3   \n',(p1/10**8))\n",
"printf('b)Concentration in P-type\n')\n",
"printf('p = %0.3f      *10**24 m**-3  \n',(p/10**24))\n",
"printf('Hence n = %0.3f   *10**8 m**-3     \n',(n2/10**8))"
   ]
   }
,
{
		   "cell_type": "markdown",
		   "metadata": {},
		   "source": [
			"## Example 6.7: Current_density.sce"
		   ]
		  },
  {
"cell_type": "code",
	   "execution_count": null,
	   "metadata": {
	    "collapsed": true
	   },
	   "outputs": [],
"source": [
"//Variable declaration\n",
"i=10**-2\n",
"A=0.01*0.001\n",
"RH=3.66*10**-4\n",
"Bz=0.5\n",
"\n",
"//Calculations\n",
"Jx=i/A\n",
"Ey=RH*(Bz*Jx)\n",
"Vy=Ey*0.01\n",
"\n",
"//Result\n",
"printf('Jx = %0.3f   ampere/m**2  \n',Jx)\n",
"printf('Ey = %0.3f     V/m   \n',(Ey))\n",
"printf('Vy = %0.3f     mV   \n',(Vy*10**3))"
   ]
   }
,
{
		   "cell_type": "markdown",
		   "metadata": {},
		   "source": [
			"## Example 6.8: Position_of_fermi_level.sce"
		   ]
		  },
  {
"cell_type": "code",
	   "execution_count": null,
	   "metadata": {
	    "collapsed": true
	   },
	   "outputs": [],
"source": [
"//Variable declaration\n",
"Ev=0\n",
"Ec=1.12\n",
"k=1.38*10**-23\n",
"T=300\n",
"mh=0.28\n",
"mc=0.12\n",
"e=1.6*10**-19\n",
"//Calculations\n",
"Ef=((Ec+Ev)/2)+((3*k*T)/(4*e))*log(mh/mc)\n",
"\n",
"//Result\n",
"printf('Position of fermi level = %0.3f     eV   \n',(Ef))"
   ]
   }
,
{
		   "cell_type": "markdown",
		   "metadata": {},
		   "source": [
			"## Example 6.9: Conductivity_of_intrinsic_germanium_at_300K.sce"
		   ]
		  },
  {
"cell_type": "code",
	   "execution_count": null,
	   "metadata": {
	    "collapsed": true
	   },
	   "outputs": [],
"source": [
"//Variable declaration\n",
"ni=2.5*10**19\n",
"mu_e=0.38\n",
"mu_h=0.18\n",
"e=1.6*10**-19\n",
"\n",
"//Calculations\n",
"sigmai=ni*e*(mu_e+mu_h)\n",
"\n",
"//Result\n",
"printf('Conductivity of intrinsic germanium at 300K = %0.3f    ohm**-1 m**-1    \n',(sigmai))"
   ]
   }
],
"metadata": {
		  "kernelspec": {
		   "display_name": "Scilab",
		   "language": "scilab",
		   "name": "scilab"
		  },
		  "language_info": {
		   "file_extension": ".sce",
		   "help_links": [
			{
			 "text": "MetaKernel Magics",
			 "url": "https://github.com/calysto/metakernel/blob/master/metakernel/magics/README.md"
			}
		   ],
		   "mimetype": "text/x-octave",
		   "name": "scilab",
		   "version": "0.7.1"
		  }
		 },
		 "nbformat": 4,
		 "nbformat_minor": 0
}
