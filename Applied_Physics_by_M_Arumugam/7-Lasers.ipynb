{
"cells": [
 {
		   "cell_type": "markdown",
	   "metadata": {},
	   "source": [
       "# Chapter 7: Lasers"
	   ]
	},
{
		   "cell_type": "markdown",
		   "metadata": {},
		   "source": [
			"## Example 7.1: Calcutate_Divergence.sce"
		   ]
		  },
  {
"cell_type": "code",
	   "execution_count": null,
	   "metadata": {
	    "collapsed": true
	   },
	   "outputs": [],
"source": [
"\n",
"//variable declaration\n",
"r1 = 7;                //in radians\n",
"r2 = 3;                //in radians\n",
"d1 = 4;                //Converting from mm to radians\n",
"d2 = 6;                //Converting from mm to radians\n",
"\n",
"//calculations\n",
"D = (r2-r1)/(d2*10**3-d1*10**3)   //Divergence\n",
"\n",
"//Result\n",
"printf('Divergence = %0.3f   *10**-3 radian     \n',(D*10**3))"
   ]
   }
,
{
		   "cell_type": "markdown",
		   "metadata": {},
		   "source": [
			"## Example 7.2: Relative_Populatio.sce"
		   ]
		  },
  {
"cell_type": "code",
	   "execution_count": null,
	   "metadata": {
	    "collapsed": true
	   },
	   "outputs": [],
"source": [
"\n",
"//variable declaration\n",
"C=3*10**8                    //The speed of light\n",
"Lamda=6943                   //Wavelength\n",
"T=300                        //Temperature in Kelvin\n",
"h=6.626*10**-34              //Planck constant \n",
"k=1.38*10**-23               //Boltzmann's constant\n",
"\n",
"//Calculations\n",
"\n",
"V=(C)/(Lamda*10**-10)       //Frequency\n",
"R=exp(h*V/(k*T))       //Relative population\n",
"\n",
"//Result\n",
"printf('Frequency (V) = %0.3f  *10**14 Hz      \n',(V/10**14))\n",
"printf('Relative Population= %0.3f    *10**30    \n',(R/10**30))"
   ]
   }
,
{
		   "cell_type": "markdown",
		   "metadata": {},
		   "source": [
			"## Example 7.3: Power_density.sce"
		   ]
		  },
  {
"cell_type": "code",
	   "execution_count": null,
	   "metadata": {
	    "collapsed": true
	   },
	   "outputs": [],
"source": [
"\n",
"//variable declaration\n",
"C=3*10**8                     //Velocity of light\n",
"W=632.8*10**-9                //wavelength\n",
"P=2.3\n",
"t=1\n",
"h=6.626*10**-34              //Planck constant \n",
"S=1*10**-6\n",
"\n",
"//Calculations\n",
"V=C/W                        //Frequency\n",
"n=((P*10**-3)*t)/(h*V)       //no.of photons emitted\n",
"PD=P*10**-3/S                //Power density\n",
"\n",
"//Result\n",
"printf('Frequency= %0.3f    *10**14 Hz    \n',(V/10**14))\n",
"printf('no.of photons emitted= %0.3f    *10**15 photons/sec    \n',(n/10**15))\n",
"printf('Power density = %0.3f   kWm**-2     \n',(PD/1000))"
   ]
   }
,
{
		   "cell_type": "markdown",
		   "metadata": {},
		   "source": [
			"## Example 7.4: Wavelenght.sce"
		   ]
		  },
  {
"cell_type": "code",
	   "execution_count": null,
	   "metadata": {
	    "collapsed": true
	   },
	   "outputs": [],
"source": [
"\n",
"//variable declaration\n",
"h=6.626*10**-34              //Planck constant \n",
"C=3*10**8                    //Velocity of light\n",
"E_g=1.44                     //bandgap \n",
"\n",
"//calculations\n",
"lamda=(h*C)*10**10/(E_g*1.6*10**-19)       //Wavelenght\n",
"\n",
"//Result\n",
"printf('Wavelenght = %0.3f   Angstrom     \n',(lamda))"
   ]
   }
,
{
		   "cell_type": "markdown",
		   "metadata": {},
		   "source": [
			"## Example 7.5: Band_gap.sce"
		   ]
		  },
  {
"cell_type": "code",
	   "execution_count": null,
	   "metadata": {
	    "collapsed": true
	   },
	   "outputs": [],
"source": [
"\n",
"//variable declaration\n",
"W=1.55                       //wavelength\n",
"\n",
"//Calculations\n",
"E_g=(1.24)/W                 //Bandgap in eV           \n",
"\n",
"//Result\n",
"printf('Band gap = %0.3f    eV \n',E_g)"
   ]
   }
],
"metadata": {
		  "kernelspec": {
		   "display_name": "Scilab",
		   "language": "scilab",
		   "name": "scilab"
		  },
		  "language_info": {
		   "file_extension": ".sce",
		   "help_links": [
			{
			 "text": "MetaKernel Magics",
			 "url": "https://github.com/calysto/metakernel/blob/master/metakernel/magics/README.md"
			}
		   ],
		   "mimetype": "text/x-octave",
		   "name": "scilab",
		   "version": "0.7.1"
		  }
		 },
		 "nbformat": 4,
		 "nbformat_minor": 0
}
