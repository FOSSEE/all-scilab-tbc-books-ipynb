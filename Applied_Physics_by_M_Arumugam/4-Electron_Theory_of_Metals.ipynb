{
"cells": [
 {
		   "cell_type": "markdown",
	   "metadata": {},
	   "source": [
       "# Chapter 4: Electron Theory of Metals"
	   ]
	},
{
		   "cell_type": "markdown",
		   "metadata": {},
		   "source": [
			"## Example 4.10: Increase_in_resistivity_in_copper.sce"
		   ]
		  },
  {
"cell_type": "code",
	   "execution_count": null,
	   "metadata": {
	    "collapsed": true
	   },
	   "outputs": [],
"source": [
"//Variable declaration\n",
"rho1=1.2*10**-8\n",
"p1=0.4\n",
"rho2=0.12*10**-8\n",
"p2=0.5\n",
"rho3=1.5*10**-8\n",
"//Calculations\n",
"R=(rho1*p1)+(rho2*p2)\n",
"R_c=R+rho3\n",
"\n",
"//Results\n",
"printf('Increase in resistivity in copper =%0.3f *10**-8 ohm m  \n ',(R*10**8))\n",
"printf('Total resistivity of copper alloy =%0.3f *10**-8 ohm m  \n ',(R_c*10**8))\n",
"printf('The resistivity of alloy at 3K =%0.3f  *10**-8 ohm m \n ',(R*10**8))"
   ]
   }
,
{
		   "cell_type": "markdown",
		   "metadata": {},
		   "source": [
			"## Example 4.1: energy_difference.sce"
		   ]
		  },
  {
"cell_type": "code",
	   "execution_count": null,
	   "metadata": {
	    "collapsed": true
	   },
	   "outputs": [],
"source": [
"\n",
"\n",
"//Variable declaration\n",
"m=9.1*10**-31;     //mass(kg)\n",
"nx=1;\n",
"ny=1\n",
"nz=1\n",
"n=6;\n",
"a=1;     //edge(m)\n",
"h=6.63*10**-34;     //planck's constant\n",
"k=1.38\n",
"//Calculation\n",
"E1=h**2*(nx**2+ny**2+nz**2)/(8*m*a**2);\n",
"E2=h**2*n/(8*m*a**2);\n",
"E=E2-E1;               //energy difference(J)\n",
"T=(2*E2*10**37)/(3*k*10**-23)\n",
"//Result\n",
"printf('energy difference is%0.3f  *10**-37 J \n ',(E*10**37))\n",
"printf('3/2*k*T = E2 =%0.3f  *10**-37 J \n ',(E2*10**37))\n",
"printf('T =%0.3f *10**-14 K  \n ',(T/10**23))"
   ]
   }
,
{
		   "cell_type": "markdown",
		   "metadata": {},
		   "source": [
			"## Example 4.2: Calculate_temperature.sce"
		   ]
		  },
  {
"cell_type": "code",
	   "execution_count": null,
	   "metadata": {
	    "collapsed": true
	   },
	   "outputs": [],
"source": [
"//Variable declaration\n",
"y=1/100;    //percentage of probability\n",
"x=0.5*1.6*10**-19;     //energy(J)\n",
"k=1.38*10**-23;       //boltzmann constant\n",
"\n",
"//Calculation\n",
"xbykT=log((1/y)-1);\n",
"T=x/(k*xbykT);       //temperature(K)\n",
"\n",
"//Result\n",
"printf('temperature is %0.3f K ',int(T))\n",
"printf('answer varies due to ing off errors')"
   ]
   }
,
{
		   "cell_type": "markdown",
		   "metadata": {},
		   "source": [
			"## Example 4.3: Calculate_fermi_energy.sce"
		   ]
		  },
  {
"cell_type": "code",
	   "execution_count": null,
	   "metadata": {
	    "collapsed": true
	   },
	   "outputs": [],
"source": [
"//Variable declaration\n",
"d=970;    //density(kg/m**3)\n",
"Na=6.02*10**26;    //avagadro number\n",
"w=23;    //atomic weight\n",
"m=9.1*10**-31;     //mass(kg)\n",
"h=6.62*10**-34;     //planck's constant\n",
"\n",
"//Calculation\n",
"N=d*Na/w;    //number of atoms/m**3\n",
"x=h**2/(8*m);\n",
"y=(3*N/%pi)**(2/3)\n",
"EF=x*y;     //fermi energy(J)\n",
"\n",
"//Result\n",
"printf('fermi energy is %0.3f  eV \n ',(EF/(1.6*10**-19)))"
   ]
   }
,
{
		   "cell_type": "markdown",
		   "metadata": {},
		   "source": [
			"## Example 4.4: Find_energy.sce"
		   ]
		  },
  {
"cell_type": "code",
	   "execution_count": null,
	   "metadata": {
	    "collapsed": true
	   },
	   "outputs": [],
"source": [
"//Variable declaration\n",
"kT=1;\n",
"E_EF=1;\n",
"\n",
"//Calculations\n",
"p_E=1/(1+exp(E_EF/kT)) \n",
"        \n",
"//Result        \n",
"printf('p(E) =%0.3f   \n ',(p_E))"
   ]
   }
,
{
		   "cell_type": "markdown",
		   "metadata": {},
		   "source": [
			"## Example 4.5: Number_of_states.sce"
		   ]
		  },
  {
"cell_type": "code",
	   "execution_count": null,
	   "metadata": {
	    "collapsed": true
	   },
	   "outputs": [],
"source": [
"//Variable declarations\n",
"m=9.1*10**-31\n",
"h=6.626*10**-34\n",
"Ef=3.1\n",
"Ef1=Ef+0.02\n",
"e=1.6*10**-19\n",
"//Calculations\n",
"\n",
"	N=integrate('%pi*((8*m)**(3/2))*(E**(1/2)*e**(3/2))/(2*(h**3))','E',Ef,Ef1)\n",
"\n",
"//Result\n",
"printf('N =%0.3f  *10**26 states \n ',(N*10**-26))"
   ]
   }
,
{
		   "cell_type": "markdown",
		   "metadata": {},
		   "source": [
			"## Example 4.6: mean_free_collision_time.sce"
		   ]
		  },
  {
"cell_type": "code",
	   "execution_count": null,
	   "metadata": {
	    "collapsed": true
	   },
	   "outputs": [],
"source": [
"//Variable declaration\n",
"N=6.023*10**26                   //Avagadro number\n",
"D=8960                           //density  \n",
"F_e=1                            //no.of free electrons per atom     \n",
"W=63.54                          //Atomic weight\n",
"i=10\n",
"e=1.602*10**-19\n",
"m=9.1*10**-31\n",
"rho=2*10**-8\n",
"Cbar=1.6*10**6                   //mean thermal velocity(m/s)\n",
"\n",
"//Calculations\n",
"n=(N*D*F_e)/W\n",
"A=%pi*0.08**2*10**-4\n",
"Vd=i/(A*n*e)                      //Drift speed\n",
"Tc=m/(n*(e**2)*rho)\n",
"lamda=Tc*Cbar\n",
"\n",
"//Result\n",
"printf('n =%0.3f  *10**28 /m**3 \n ',(n/10**28))\n",
"printf('The drift speed Vd =%0.3f *10**-5 m/s  \n ',(Vd*10**5))\n",
"printf('The mean free collision time Tc =%0.3f  *10**-14 seconds \n ',(Tc*10**14))\n",
"printf('Mean free path =%0.3f *10**-8 m''(answer varies due to ing off errors)  \n ',(lamda*10**8)) "
   ]
   }
,
{
		   "cell_type": "markdown",
		   "metadata": {},
		   "source": [
			"## Example 4.7: The_mean_free_collision_time.sce"
		   ]
		  },
  {
"cell_type": "code",
	   "execution_count": null,
	   "metadata": {
	    "collapsed": true
	   },
	   "outputs": [],
"source": [
"//Variable declaration\n",
"n=8.5*10**28\n",
"e=1.602*10**-19\n",
"t=2*10**-14\n",
"m=9.1*10**-31\n",
"\n",
"//Calculations\n",
"Tc=n*(e**2)*t/m\n",
"\n",
"//Result\n",
"printf('The mean free collision time =%0.3f *10**7 ohm**-1 m**-1  \n ',(Tc/10**7))"
   ]
   }
,
{
		   "cell_type": "markdown",
		   "metadata": {},
		   "source": [
			"## Example 4.8: Relaxation_time.sce"
		   ]
		  },
  {
"cell_type": "code",
	   "execution_count": null,
	   "metadata": {
	    "collapsed": true
	   },
	   "outputs": [],
"source": [
"//Variable declaration\n",
"e=1.6*10**-19\n",
"E=1                    //(V/m)\n",
"rho=1.54*10**-8\n",
"n=5.8*10**28\n",
"m=9.1*10**-31\n",
"//Calculations\n",
"T=m/(rho*n*e**2)\n",
"Me=(e*T)/m\n",
"Vd=Me*E\n",
"\n",
"//Result \n",
"printf('Relaxation time =%0.3f *10**-14 second  \n ',(T*10**14))\n",
"printf('Mobility =%0.3f  *10**-3 m**2/volt-s \n ',(Me*10**3))\n",
"printf('Drift Velocity=%0.3f m/s  \n ',(Vd*100))"
   ]
   }
,
{
		   "cell_type": "markdown",
		   "metadata": {},
		   "source": [
			"## Example 4.9: Temperature_coefficient_of_resistivity.sce"
		   ]
		  },
  {
"cell_type": "code",
	   "execution_count": null,
	   "metadata": {
	    "collapsed": true
	   },
	   "outputs": [],
"source": [
"\n",
"//Variable declaration\n",
"rho_r=0\n",
"T=300\n",
"rho=1.7*10**-18\n",
"\n",
"//Calculations \n",
"a=rho/T\n",
"rho_973=a*973\n",
"\n",
"//Results\n",
"printf('Temperature coefficient of resistivity,a =%0.3f   \n ',(a*10**21))\n",
"printf('rho_973 =%0.3f *10**-8 ohm-m  \n ',(rho_973*10**18))"
   ]
   }
],
"metadata": {
		  "kernelspec": {
		   "display_name": "Scilab",
		   "language": "scilab",
		   "name": "scilab"
		  },
		  "language_info": {
		   "file_extension": ".sce",
		   "help_links": [
			{
			 "text": "MetaKernel Magics",
			 "url": "https://github.com/calysto/metakernel/blob/master/metakernel/magics/README.md"
			}
		   ],
		   "mimetype": "text/x-octave",
		   "name": "scilab",
		   "version": "0.7.1"
		  }
		 },
		 "nbformat": 4,
		 "nbformat_minor": 0
}
