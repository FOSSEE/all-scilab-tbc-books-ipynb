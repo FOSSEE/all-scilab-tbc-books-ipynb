{
"cells": [
 {
		   "cell_type": "markdown",
	   "metadata": {},
	   "source": [
       "# Chapter 5: Dielectric Properties and Magnetic Properties"
	   ]
	},
{
		   "cell_type": "markdown",
		   "metadata": {},
		   "source": [
			"## Example 5.10: hysteresis_loss.sce"
		   ]
		  },
  {
"cell_type": "code",
	   "execution_count": null,
	   "metadata": {
	    "collapsed": true
	   },
	   "outputs": [],
"source": [
"//Variable declaration\n",
"A=94;      //area(m**2)\n",
"vy=0.1;    //value of length(weber/m**2)\n",
"vx=20;     //value of unit length\n",
"n=50;      //number of magnetization cycles\n",
"d=7650;    //density(kg/m**3)\n",
"\n",
"//Calculation\n",
"h=A*vy*vx;     //hysteresis loss per cycle(J/m**3)\n",
"hs=h*n;       //hysteresis loss per second(watt/m**3)\n",
"pl=hs/d;      //power loss(watt/kg)\n",
"\n",
"//Result\n",
"printf('hysteresis loss per cycle is  %0.3f    J/m**3 \n',h)\n",
"printf('hysteresis loss per second is  %0.3f   watt/m**3  \n',hs)\n",
"printf('power loss is %0.3f watt/kg\n',(pl))"
   ]
   }
,
{
		   "cell_type": "markdown",
		   "metadata": {},
		   "source": [
			"## Example 5.1: insulation_resistance.sce"
		   ]
		  },
  {
"cell_type": "code",
	   "execution_count": null,
	   "metadata": {
	    "collapsed": true
	   },
	   "outputs": [],
"source": [
"//Variable declaration\n",
"rho=5*10**16;   //resistivity(ohm m)\n",
"l=5*10**-2;    //thickness(m)\n",
"b=8*10**-2;    //length(m)\n",
"w=3*10**-2;    //width(m)\n",
"\n",
"//Calculation\n",
"A=b*w;    //area(m**2)\n",
"Rv=rho*l/A;    \n",
"X=l+b;      //length(m)\n",
"Y=w;      //perpendicular(m)\n",
"Rs=Rv*X/Y;    \n",
"Ri=Rs*Rv/(Rs+Rv);       //insulation resistance(ohm)			\n",
"\n",
"printf('insulation resistance is %0.3f *10**18 ohm',(Ri/10**18))\n",
"printf('answer varies due to rounding off errors')"
   ]
   }
,
{
		   "cell_type": "markdown",
		   "metadata": {},
		   "source": [
			"## Example 5.2: polarisability_of_He.sce"
		   ]
		  },
  {
"cell_type": "code",
	   "execution_count": null,
	   "metadata": {
	    "collapsed": true
	   },
	   "outputs": [],
"source": [
"//Variable declaration\n",
"epsilon0=8.84*10**-12;\n",
"R=0.55*10**-10;    //radius(m)\n",
"N=2.7*10**25;      //number of atoms\n",
"\n",
"//Calculation\n",
"alpha_e=4*%pi*epsilon0*R**3;    //polarisability of He(farad m**2)\n",
"epsilonr=1+(N*alpha_e/epsilon0);      //relative permittivity\n",
"\n",
"//Result\n",
"printf('polarisability of He is  %0.3f *10**-40 farad m**2\n',(alpha_e*10**40))\n",
"printf('relative permittivity is  %0.3f \n',(epsilonr))\n",
"printf('answer varies due to ing off errors')"
   ]
   }
,
{
		   "cell_type": "markdown",
		   "metadata": {},
		   "source": [
			"## Example 5.3: total_dipole_moment.sce"
		   ]
		  },
  {
"cell_type": "code",
	   "execution_count": null,
	   "metadata": {
	    "collapsed": true
	   },
	   "outputs": [],
"source": [
"//Variable declaration\n",
"A=360*10**-4;    //area(m**2)\n",
"V=15;    //voltage(V)\n",
"C=6*10**-6;     //capacitance(farad)\n",
"epsilonr=8;\n",
"epsilon0=8.84*10**-12;\n",
"\n",
"//Calculation\n",
"E=V*C/(epsilon0*epsilonr*A);     //field strength(V/m)\n",
"dm=epsilon0*(epsilonr-1)*V*A;    //total dipole moment(Cm)\n",
"\n",
"//Result\n",
"printf('field strength is %0.3f *10**7 V/m\n',(E/10**7))\n",
"printf('total dipole moment is %0.3f *10**-12 Cm\n',(dm*10**12))"
   ]
   }
,
{
		   "cell_type": "markdown",
		   "metadata": {},
		   "source": [
			"## Example 5.4: the_complex_polarizability.sce"
		   ]
		  },
  {
"cell_type": "code",
	   "execution_count": null,
	   "metadata": {
	    "collapsed": true
	   },
	   "outputs": [],
"source": [
"//Variable declaration\n",
"epsilonr=4.36;      //dielectric constant\n",
"t=2.8*10**-2;       //loss tangent(t)\n",
"N=4*10**28;         //number of electrons\n",
"epsilon0=8.84*10**-12;      \n",
"\n",
"//Calculation\n",
"epsilon_r = epsilonr*t;\n",
"epsilonstar = (complex(epsilonr,-epsilon_r));\n",
"alphastar = (epsilonstar-1)/(epsilonstar+2);\n",
"alpha_star = 3*epsilon0*alphastar/N;             //complex polarizability(Fm**2)\n",
"\n",
"//Result\n",
"printf('the complex polarizability is  %0.3f *10**-40 F-m**2    \n',alpha_star*10**40)\n",
"printf('answer cant be rouned off to 2 decimals as given in the textbook. Since it is a complex number and complex cant be converted to float')"
   ]
   }
,
{
		   "cell_type": "markdown",
		   "metadata": {},
		   "source": [
			"## Example 5.5: temperature_rise.sce"
		   ]
		  },
  {
"cell_type": "code",
	   "execution_count": null,
	   "metadata": {
	    "collapsed": true
	   },
	   "outputs": [],
"source": [
"//Variable declaration\n",
"El=10**-2*50;       //energy loss(J)\n",
"H=El*60;      //heat produced(J)\n",
"d=7.7*10**3;    //iron rod(kg/m**3)\n",
"s=0.462*10**-3;    //specific heat(J/kg K)\n",
"\n",
"//Calculation\n",
"theta=H/(d*s);     //temperature rise(K)\n",
"\n",
"//Result\n",
"printf('temperature rise is %0.3f K \n',(theta))"
   ]
   }
,
{
		   "cell_type": "markdown",
		   "metadata": {},
		   "source": [
			"## Example 5.6: magnetic_field_at_the_centre.sce"
		   ]
		  },
  {
"cell_type": "code",
	   "execution_count": null,
	   "metadata": {
	    "collapsed": true
	   },
	   "outputs": [],
"source": [
"//Variable declaration\n",
"e=1.6*10**-19;    //charge(coulomb)\n",
"new=6.8*10**15;   //frequency(revolutions per second)\n",
"mew0=4*%pi*10**-7;\n",
"R=5.1*10**-11;     //radius(m)\n",
"\n",
"//Calculation\n",
"i=(e*new);          //current(ampere)\n",
"B=mew0*i/(2*R);    //magnetic field at the centre(weber/m**2)\n",
"A=%pi*R**2;\n",
"d=i*A;       //dipole moment(ampere/m**2)\n",
"\n",
"//Result\n",
"printf('magnetic field at the centre is %0.3f weber/m**2\n',(B))\n",
"printf('dipole moment is %0.3f *10**-24 ampere/m**2\n',(d*10**24))"
   ]
   }
,
{
		   "cell_type": "markdown",
		   "metadata": {},
		   "source": [
			"## Example 5.7: intensity_of_magnetisation.sce"
		   ]
		  },
  {
"cell_type": "code",
	   "execution_count": null,
	   "metadata": {
	    "collapsed": true
	   },
	   "outputs": [],
"source": [
"//Variable declaration\n",
"chi=0.5*10**-5;    //magnetic susceptibility\n",
"H=10**6;     //field strength(ampere/m)\n",
"mew0=4*%pi*10**-7;\n",
"\n",
"//Calculation\n",
"I=chi*H;     //intensity of magnetisation(ampere/m)\n",
"B=mew0*(I+H);    //flux density in material(weber/m**2)\n",
"\n",
"//Result\n",
"printf('intensity of magnetisation is  %0.3f  ampere/m   \n',I)\n",
"printf('flux density in material is %0.3f weber/m**2 \n',(B))"
   ]
   }
,
{
		   "cell_type": "markdown",
		   "metadata": {},
		   "source": [
			"## Example 5.8: number_of_Bohr_magnetons.sce"
		   ]
		  },
  {
"cell_type": "code",
	   "execution_count": null,
	   "metadata": {
	    "collapsed": true
	   },
	   "outputs": [],
"source": [
"//Variable declaration\n",
"B=9.27*10**-24;      //bohr magneton(ampere m**2)\n",
"a=2.86*10**-10;      //edge(m)\n",
"Is=1.76*10**6;       //saturation value of magnetisation(ampere/m)\n",
"\n",
"//Calculation\n",
"N=2/a**3;\n",
"mew_bar=Is/N;      //number of Bohr magnetons(ampere m**2)\n",
"mew_bar=mew_bar/B;      //number of Bohr magnetons(bohr magneon/atom)\n",
"\n",
"//Result\n",
"printf('number of Bohr magnetons is %0.3f bohr magneon/atom\n',(mew_bar))"
   ]
   }
,
{
		   "cell_type": "markdown",
		   "metadata": {},
		   "source": [
			"## Example 5.9: average_magnetic_moment.sce"
		   ]
		  },
  {
"cell_type": "code",
	   "execution_count": null,
	   "metadata": {
	    "collapsed": true
	   },
	   "outputs": [],
"source": [
"//Variable declaration\n",
"mew0=4*%pi*10**-7;\n",
"H=9.27*10**-24;      //bohr magneton(ampere m**2)\n",
"beta=10**6;      //field(ampere/m)\n",
"k=1.38*10**-23;    //boltzmann constant\n",
"T=303;    //temperature(K)\n",
"\n",
"//Calculation\n",
"mm=mew0*H*beta/(k*T);    //average magnetic moment(bohr magneton/spin)\n",
"\n",
"//Result\n",
"printf('average magnetic moment is %0.3f *10**-3 bohr magneton/spin\n',(mm*10**3))"
   ]
   }
],
"metadata": {
		  "kernelspec": {
		   "display_name": "Scilab",
		   "language": "scilab",
		   "name": "scilab"
		  },
		  "language_info": {
		   "file_extension": ".sce",
		   "help_links": [
			{
			 "text": "MetaKernel Magics",
			 "url": "https://github.com/calysto/metakernel/blob/master/metakernel/magics/README.md"
			}
		   ],
		   "mimetype": "text/x-octave",
		   "name": "scilab",
		   "version": "0.7.1"
		  }
		 },
		 "nbformat": 4,
		 "nbformat_minor": 0
}
