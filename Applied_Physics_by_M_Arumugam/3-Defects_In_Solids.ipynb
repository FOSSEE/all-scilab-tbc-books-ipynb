{
"cells": [
 {
		   "cell_type": "markdown",
	   "metadata": {},
	   "source": [
       "# Chapter 3: Defects In Solids"
	   ]
	},
{
		   "cell_type": "markdown",
		   "metadata": {},
		   "source": [
			"## Example 3.10: Calculate_delta.sce"
		   ]
		  },
  {
"cell_type": "code",
	   "execution_count": null,
	   "metadata": {
	    "collapsed": true
	   },
	   "outputs": [],
"source": [
"//Variable declaration\n",
"i=1*10**-10;    //interval\n",
"L=10*10**-10;   //width\n",
"\n",
"//Calculations\n",
"si2=2*i/L;\n",
"\n",
"//Result\n",
"printf('si**2 delta(x)=%0.3f ' ,si2)"
   ]
   }
,
{
		   "cell_type": "markdown",
		   "metadata": {},
		   "source": [
			"## Example 3.11: Calculate_energy_difference.sce"
		   ]
		  },
  {
"cell_type": "code",
	   "execution_count": null,
	   "metadata": {
	    "collapsed": true
	   },
	   "outputs": [],
"source": [
"//Variable declaration\n",
"nx=1\n",
"ny=1\n",
"nz=1\n",
"a=1\n",
"h=6.63*10**-34\n",
"m=9.1*10**-31\n",
"\n",
"//Calculations\n",
"E1=h**2*(nx**2+ny**2+nz**2)/(8*m*a**2)\n",
"E2=(h**2*6)/(8*m*a**2)             //nx**2+ny**2+nz**2=6\n",
"diff=E2-E1\n",
"//Result\n",
"printf('E1 =%0.3f  *10**-37 Joule \n ',(E1*10**37))\n",
"printf('E2 =%0.3f  *10**-37 Joule \n ',(E2*10**37))\n",
"printf('E2-E1 =%0.3f *10**-37 J  \n ',(diff*10**37))"
   ]
   }
,
{
		   "cell_type": "markdown",
		   "metadata": {},
		   "source": [
			"## Example 3.12: Calculate_energy.sce"
		   ]
		  },
  {
"cell_type": "code",
	   "execution_count": null,
	   "metadata": {
	    "collapsed": true
	   },
	   "outputs": [],
"source": [
"//Variable declaration\n",
"m=1.67*10**-27\n",
"a=10**-14\n",
"h=1.054*10**-34\n",
"\n",
"//Calculations\n",
"E1=(1*%pi*h)**2/(2*m*a**2)\n",
"\n",
"//Result\n",
"printf('E1 =%0.3f *10**-13 J  \n ',(E1*10**13))"
   ]
   }
,
{
		   "cell_type": "markdown",
		   "metadata": {},
		   "source": [
			"## Example 3.13: Integration.sce"
		   ]
		  },
  {
"cell_type": "code",
	   "execution_count": null,
	   "metadata": {
	    "collapsed": true
	   },
	   "outputs": [],
"source": [
"//Variable declarations\n",
"k=1;\n",
"\n",
"//Calculations\n",
"\n",
"a=integrate('2*k*exp(-2*k*x)','x',2/k,3/k)\n",
"//Result\n",
"printf('a=%0.3f   \n ',(a))"
   ]
   }
,
{
		   "cell_type": "markdown",
		   "metadata": {},
		   "source": [
			"## Example 3.1: The_number_of_vacancies_per_kilomole_of_copper.sce"
		   ]
		  },
  {
"cell_type": "code",
	   "execution_count": null,
	   "metadata": {
	    "collapsed": true
	   },
	   "outputs": [],
"source": [
"//Variable declaration\n",
"N=6.023*10**26\n",
"deltaHv=120\n",
"B=1.38*10**-23\n",
"k=6.023*10**23\n",
"\n",
"//Calculations\n",
"n0=0                                          // 0 in denominator\n",
"n300=N*exp(-deltaHv*10**3/(k*B*300))     //The number of vacancies per kilomole of copper\n",
"n900=N*exp(-(deltaHv*10**3)/(k*B*900))\n",
"\n",
"//Results\n",
"printf('at 0K, The number of vacancies per kilomole of copper is %0.3f' ,n0)\n",
"printf('at 300K, The number of vacancies per kilomole of copper is %0.3f *10**5\n',(n300/10**5))\n",
"printf('at 900K, The numb ber of vacancies per kilomole of copper is %0.3f *10**19\n',(n900/10**19))"
   ]
   }
,
{
		   "cell_type": "markdown",
		   "metadata": {},
		   "source": [
			"## Example 3.2: Fraction_of_vacancies_at_1000_degree.sce"
		   ]
		  },
  {
"cell_type": "code",
	   "execution_count": null,
	   "metadata": {
	    "collapsed": true
	   },
	   "outputs": [],
"source": [
"\n",
"//Variable declaration\n",
"F_500=1*10**-10\n",
"\n",
"T1=500+273\n",
"T2=1000+273\n",
"\n",
"\n",
"//Calculations\n",
"lnx=log(F_500)*T1/T2;\n",
"x=exp(lnx)\n",
"\n",
"printf('Fraction of vacancies at 1000 degrees C =%0.3f *10**-7\n',(x*10**7))"
   ]
   }
,
{
		   "cell_type": "markdown",
		   "metadata": {},
		   "source": [
			"## Example 3.3: The_concentration_of_Schottky_defects.sce"
		   ]
		  },
  {
"cell_type": "code",
	   "execution_count": null,
	   "metadata": {
	    "collapsed": true
	   },
	   "outputs": [],
"source": [
"//Variable declaration\n",
"a=(2*2.82*10**-10)\n",
"delta_Hs=1.971*1.6*10**-19\n",
"k=1.38*10**-23\n",
"T=300\n",
"e=2.718281\n",
"//Calculations\n",
"V=a**3                           //Volume of unit cell of NaCl\n",
"N=4/V                            //Total number of ion pairs\n",
"n=N*e**-(delta_Hs/(2*k*T))  \n",
"\n",
"//Result\n",
"printf('Volume of unit cell of NaCl =%0.3f *10**-28 m**3 \n',(V*10**28))\n",
"printf('Total number of ion pairs N =%0.3f *10**28\n',(N/10**28))\n",
"printf('The concentration of Schottky defects per m**3 at 300K =%0.3f *10**11\n',(n/10**11))"
   ]
   }
,
{
		   "cell_type": "markdown",
		   "metadata": {},
		   "source": [
			"## Example 3.4: amount_of_climb_down_by_the_dislocation.sce"
		   ]
		  },
  {
"cell_type": "code",
	   "execution_count": null,
	   "metadata": {
	    "collapsed": true
	   },
	   "outputs": [],
"source": [
"//Variable declaration\n",
"N=6.023*10**23\n",
"delta_Hv=1.6*10**-19\n",
"k=1.38*10**-23\n",
"T=500\n",
"mv=5.55;     //molar volume\n",
"x=2*10**-8;     //numbber of cm in 1 angstrom\n",
"\n",
"//Calculations\n",
"n=N*exp(-delta_Hv/(k*T))/mv\n",
"a=(n/(5*10**7*10**6))*x;\n",
"\n",
"//Result\n",
"printf('The number that must be created on heating from 0 to 500K is n=%0.3f *10**12 per cm**3\n',(n/10**12)) //into cm**3\n",
"printf('As one step is 2 Angstorms, 5*10**7 vacancies are required for 1cm')\n",
"printf('The amount of climb down by the dislocation is %0.3f cm',a*10**8)"
   ]
   }
,
{
		   "cell_type": "markdown",
		   "metadata": {},
		   "source": [
			"## Example 3.5: Velocity_and_wavelength.sce"
		   ]
		  },
  {
"cell_type": "code",
	   "execution_count": null,
	   "metadata": {
	    "collapsed": true
	   },
	   "outputs": [],
"source": [
"//Variable declaration\n",
"KE=10             //Kinetic Energy of neutron in keV\n",
"m=1.675*10**-27\n",
"h=6.625*10**-34\n",
"//Calculations\n",
"KE=10**4*1.6*10**-19      //in joule\n",
"v=((2*KE)/m)**(1/2)       //derived from KE=1/2*m*v**2\n",
"lamda=h/(m*v)\n",
"//Results\n",
"printf('Velocity =%0.3f  *10**6 m/s \n  ',(v/10**6))\n",
"printf('Wavelength =%0.3f  Angstorm \n ',(lamda*10**10))"
   ]
   }
,
{
		   "cell_type": "markdown",
		   "metadata": {},
		   "source": [
			"## Example 3.6: Momentum_and_de_Brolie_wavelength.sce"
		   ]
		  },
  {
"cell_type": "code",
	   "execution_count": null,
	   "metadata": {
	    "collapsed": true
	   },
	   "outputs": [],
"source": [
"\n",
"//Variable declaration\n",
"E=2*1000*1.6*10**-19       //in joules\n",
"m=9.1*10**-31\n",
"h=6.6*10*10**-34\n",
"\n",
"//Calculations\n",
"p=sqrt(2*m*E)\n",
"lamda= h/p\n",
"\n",
"//Result\n",
"printf('Momentum%0.3f   \n ',(p*10**23))\n",
"printf('de Brolie wavelength =%0.3f *10**-11 m  \n ',(lamda*10**10))"
   ]
   }
,
{
		   "cell_type": "markdown",
		   "metadata": {},
		   "source": [
			"## Example 3.7: wavelength.sce"
		   ]
		  },
  {
"cell_type": "code",
	   "execution_count": null,
	   "metadata": {
	    "collapsed": true
	   },
	   "outputs": [],
"source": [
"//Variable declaration\n",
"M=1.676*10**-27             //Mass of neutron\n",
"m=0.025\n",
"v=1.602*10**-19\n",
"h=6.62*10**-34\n",
"\n",
"//Calculations\n",
"mv=(2*m*v)**(1/2)\n",
"lamda=h/(mv*M**(1/2))\n",
"\n",
"//Result\n",
"printf('wavelength =%0.3f  Angstorm \n ',(lamda*10**10))"
   ]
   }
,
{
		   "cell_type": "markdown",
		   "metadata": {},
		   "source": [
			"## Example 3.8: Wavelength.sce"
		   ]
		  },
  {
"cell_type": "code",
	   "execution_count": null,
	   "metadata": {
	    "collapsed": true
	   },
	   "outputs": [],
"source": [
"//Variable declaration\n",
"V=10000\n",
"\n",
"//Calculation\n",
"lamda=12.26/sqrt(V)\n",
"\n",
"//Result\n",
"printf('Wavelength =%0.3f Angstorm' ,lamda)"
   ]
   }
,
{
		   "cell_type": "markdown",
		   "metadata": {},
		   "source": [
			"## Example 3.9: The_permitted_electron_energies.sce"
		   ]
		  },
  {
"cell_type": "code",
	   "execution_count": null,
	   "metadata": {
	    "collapsed": true
	   },
	   "outputs": [],
"source": [
"//Variable declaration\n",
"e=1.6*10**-19;   //charge of electron(coulomb)\n",
"L=10**-10            //1Angstrom=10**-10 m\n",
"n1=1;\n",
"n2=2;\n",
"n3=3;\n",
"h=6.626*10**-34\n",
"m=9.1*10**-31\n",
"L=10**-10\n",
"\n",
"//Calculations\n",
"E1=(h**2)/(8*m*L**2*e)\n",
"E2=4*E1\n",
"E3=9*E1\n",
"//Result\n",
"printf('The permitted electron energies =%0.3f  *n**2 eV \n ',(E1))\n",
"printf('E1=%0.3f  eV \n ',(E1))\n",
"printf('E2=%0.3f  eV \n ',(E2))\n",
"printf('E3=%0.3f  eV \n ',(E3))\n",
"printf('//Answer varies due to ing of numbers')"
   ]
   }
],
"metadata": {
		  "kernelspec": {
		   "display_name": "Scilab",
		   "language": "scilab",
		   "name": "scilab"
		  },
		  "language_info": {
		   "file_extension": ".sce",
		   "help_links": [
			{
			 "text": "MetaKernel Magics",
			 "url": "https://github.com/calysto/metakernel/blob/master/metakernel/magics/README.md"
			}
		   ],
		   "mimetype": "text/x-octave",
		   "name": "scilab",
		   "version": "0.7.1"
		  }
		 },
		 "nbformat": 4,
		 "nbformat_minor": 0
}
