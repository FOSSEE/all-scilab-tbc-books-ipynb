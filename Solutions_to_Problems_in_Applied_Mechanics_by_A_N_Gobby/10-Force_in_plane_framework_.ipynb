{
"cells": [
 {
		   "cell_type": "markdown",
	   "metadata": {},
	   "source": [
       "# Chapter 10: Force in plane framework "
	   ]
	},
{
		   "cell_type": "markdown",
		   "metadata": {},
		   "source": [
			"## Example 10.3: resolving_horizontally.sce"
		   ]
		  },
  {
"cell_type": "code",
	   "execution_count": null,
	   "metadata": {
	    "collapsed": true
	   },
	   "outputs": [],
"source": [
"//Solutions to Problems In applied mechanics\n",
"//A N Gobby\n",
"clear all;\n",
"clc\n",
"//initialisation of variables\n",
"l=2//units of length\n",
"a=sqrt(3)//degree\n",
"b=30//dgree\n",
"c=60//degree\n",
"v=1//length\n",
"Pc=1.154//tonf compressive\n",
"//CALCULATIONS\n",
"R=(v*l)/a//tonf\n",
"D=sqrt((R)^2+(v)^2)//tonf\n",
"T=41//degree\n",
"P=l*cosd(b)//tonf tensile\n",
"Pa=Pc*cosd(b)//tonf tensile\n",
"p=(l*cosd(b))/((1/2)+(Pc))/(1/2)//tonf compressive\n",
"//RESULTS\n",
"printf('the resolving horizontally =% f tonf compressive',p)"
   ]
   }
,
{
		   "cell_type": "markdown",
		   "metadata": {},
		   "source": [
			"## Example 10.4: Reactio.sce"
		   ]
		  },
  {
"cell_type": "code",
	   "execution_count": null,
	   "metadata": {
	    "collapsed": true
	   },
	   "outputs": [],
"source": [
"//Solutions to Problems In applied mechanics\n",
"//A N Gobby\n",
"clear all;\n",
"clc\n",
"//initialisation of variables\n",
"v=3//tonf\n",
"p1=6.0//tonf,compressive\n",
"p2=5.19//tonf,tensile\n",
"a=30//degree\n",
"b=60//degree\n",
"p3=7//tonf,compressive\n",
"//CALCULATIONS\n",
"P1=p2*sind(b)//tonf,tensile\n",
"P2=1/2*P1//tonf,compressive\n",
"P3=p1*cosd(a)-p3*cosd(b)//tonf,compressive\n",
"P4=P1*cosd(a)*sqrt(3)/P3//tonf,acting towards the left \n",
"R=P1*sind(a)//tonf,acting downwards\n",
"D=sqrt((P4)^2+(R)^2)//tonf\n",
"T=(R/P4)//to the horizantal\n",
"//RESULTS\n",
"printf('the direction reaction=% f to the horizantal',D)\n",
"printf('the direction reaction =% f to horizantal',T)"
   ]
   }
,
{
		   "cell_type": "markdown",
		   "metadata": {},
		   "source": [
			"## Example 10.5: methods_of_sections_in_the_force.sce"
		   ]
		  },
  {
"cell_type": "code",
	   "execution_count": null,
	   "metadata": {
	    "collapsed": true
	   },
	   "outputs": [],
"source": [
"//Solutions to Problems In applied mechanics\n",
"//A N Gobby\n",
"clear all;\n",
"\n",
"clc\n",
"//initialisation of variables\n",
"R1=5//tonf\n",
"R2=7//tonf\n",
"P=5.77//tonf,compressive \n",
"m=11.56//tonf\n",
"a=30//degree\n",
"//CALCULATIONS\n",
"P=-sqrt(cosd(a)+m*sqrt(cosd(a))+2*0.5-R1*2)//tonf\n",
"//RESULTS\n",
"printf('the methods of sections in the force=% f tonf',P)"
   ]
   }
],
"metadata": {
		  "kernelspec": {
		   "display_name": "Scilab",
		   "language": "scilab",
		   "name": "scilab"
		  },
		  "language_info": {
		   "file_extension": ".sce",
		   "help_links": [
			{
			 "text": "MetaKernel Magics",
			 "url": "https://github.com/calysto/metakernel/blob/master/metakernel/magics/README.md"
			}
		   ],
		   "mimetype": "text/x-octave",
		   "name": "scilab",
		   "version": "0.7.1"
		  }
		 },
		 "nbformat": 4,
		 "nbformat_minor": 0
}
