{
"cells": [
 {
		   "cell_type": "markdown",
	   "metadata": {},
	   "source": [
       "# Chapter 6: Strength of materials "
	   ]
	},
{
		   "cell_type": "markdown",
		   "metadata": {},
		   "source": [
			"## Example 6.10: column_shortens.sce"
		   ]
		  },
  {
"cell_type": "code",
	   "execution_count": null,
	   "metadata": {
	    "collapsed": true
	   },
	   "outputs": [],
"source": [
"//Solutions to Problems In applied mechanics\n",
"//A N Gobby\n",
"clear all;\n",
"clc\n",
"//initialisation of variables\n",
"clear\n",
"E=2*10^6//lbf/in^2\n",
"s=600//lbf/in^2\n",
"w=12//in\n",
"l=80//tonf\n",
"w1=4//ft\n",
"E1=30*10^6//lbf/in^2\n",
"h=2240//in\n",
"s2=10.9//in^2\n",
"F=9000//lbf/in^2\n",
"//CALCULATIONS\n",
"L=(F*w1*w/E1)//in\n",
"//RESULTS\n",
"printf('the column shortens by=% f in',L)"
   ]
   }
,
{
		   "cell_type": "markdown",
		   "metadata": {},
		   "source": [
			"## Example 6.11: Final_stress.sce"
		   ]
		  },
  {
"cell_type": "code",
	   "execution_count": null,
	   "metadata": {
	    "collapsed": true
	   },
	   "outputs": [],
"source": [
"//Solutions to Problems In applied mechanics\n",
"//A N Gobby\n",
"clear all;\n",
"clc\n",
"//initialisation of variables\n",
"clear\n",
"E1=30*10^6//lbf/in^2\n",
"E2=15*10^6//lbf/in^2\n",
"alf=6.4*10^-6//degF-1\n",
"alf1=9.5*10^-6//degF-1\n",
"t=170//deg\n",
"t1=50//deg\n",
"w=5//tonf\n",
"ec=0.000248//lbf/in^2\n",
"es=0.000124//lbf/in^2\n",
"h=2240//in\n",
"//CALCULATIONS\n",
"e=(alf1-alf)*(t-t1)//in\n",
"Ec=E2*ec//lbf/in^2\n",
"Es=E1*es//lbf/in^2\n",
"F=E1/E2//fc\n",
"S=w*h/(2*1+1)//lbf/in^2\n",
"S1=S*2//lbf/in^2\n",
"R=-Es+S//lbf/in^2\n",
"R1=Es+S1//lbf/in^2\n",
"//RESULTS\n",
"printf('The final stress in the steel and applied to the compound =% f lbf/in^2',R1)"
   ]
   }
,
{
		   "cell_type": "markdown",
		   "metadata": {},
		   "source": [
			"## Example 6.12: force_calculatio.sce"
		   ]
		  },
  {
"cell_type": "code",
	   "execution_count": null,
	   "metadata": {
	    "collapsed": true
	   },
	   "outputs": [],
"source": [
"//Solutions to Problems In applied mechanics\n",
"//A N Gobby\n",
"clear all;\n",
"clc\n",
"//initialisation of variables\n",
"a=1/16//ft/s\n",
"h=100//lbf/in^2\n",
"w=10//lbf/in^2\n",
"q=2//in\n",
"b=%pi/4*(3/16)^2//in^2\n",
"p=5//inch valu per 12.7\n",
"//CALCULATIONS\n",
"H=(h*w)/(q*a)//lbf/in^2\n",
"F=H*1*a//lbf\n",
"A=H/2//lbf/in^2\n",
"R=(b)/(F/A)*5.14*4//per inch\n",
"F1=A*1*a//lbf\n",
"m=(b)/(F1/A)*5.14//per inch\n",
"//RESULTS\n",
"printf('the force per inch of circumferential seam=% f per in',m)"
   ]
   }
,
{
		   "cell_type": "markdown",
		   "metadata": {},
		   "source": [
			"## Example 6.13: Diameter_and_pressure.sce"
		   ]
		  },
  {
"cell_type": "code",
	   "execution_count": null,
	   "metadata": {
	    "collapsed": true
	   },
	   "outputs": [],
"source": [
"//Solutions to Problems In applied mechanics\n",
"//A N Gobby\n",
"clear all;\n",
"clc\n",
"//initialisation of variables\n",
"clear\n",
"p=14.7//lbf/in^2\n",
"w=15000//lbf/in^2\n",
"p1=190//lbf/in^2\n",
"q=0.35//percent\n",
"q1=0.75//percent\n",
"w1=2//ft\n",
"q2=36//tonf/in^2\n",
"f=6//in\n",
"r1=3/8//in\n",
"p2=4//in\n",
"h=2240//in\n",
"//CALCULATIONS\n",
"A=w*q//lbf/in^2\n",
"E=w*q1//lbf/in^2\n",
"M1=(p2*A*(1/2)/(p1-p))//in\n",
"M2=(w1*E*(1/2)/(p1-p))//in\n",
"M3=p2*r1*((q2*h)/f)/(w1*12)//lbf/in^2 gauge\n",
"//RESULTS\n",
"printf('the Maximum possible diameter of cylinder =% f in',M2)\n",
"printf('the Maximum allowable pressure=% f lbf/in^2 gauge',M3)"
   ]
   }
,
{
		   "cell_type": "markdown",
		   "metadata": {},
		   "source": [
			"## Example 6.14: maximum_rim_speed_of_flywheel.sce"
		   ]
		  },
  {
"cell_type": "code",
	   "execution_count": null,
	   "metadata": {
	    "collapsed": true
	   },
	   "outputs": [],
"source": [
"//Solutions to Problems In applied mechanics\n",
"//A N Gobby\n",
"clear all;\n",
"clc\n",
"//initialisation of variables\n",
"clear\n",
"w=450//lbf/in^2\n",
"m=3000//lbf/in^2\n",
"g=32.2//lbf/in^2\n",
"h=144//in\n",
"//CALCULATIONS\n",
"M=sqrt(g*m*h/w)//ft/f\n",
"//RESULTS\n",
"printf('the maximum rim speed of flywheel=% f ft/f',M)"
   ]
   }
,
{
		   "cell_type": "markdown",
		   "metadata": {},
		   "source": [
			"## Example 6.1: original_length_of_bar.sce"
		   ]
		  },
  {
"cell_type": "code",
	   "execution_count": null,
	   "metadata": {
	    "collapsed": true
	   },
	   "outputs": [],
"source": [
"//Solutions to Problems In applied mechanics\n",
"//A N Gobby\n",
"clear all;\n",
"clc\n",
"//initialisation of variables\n",
"b=0.005//in\n",
"a=2//tonf\n",
"p=10//tonf\n",
"l=13500//tonf/in^2\n",
"//CALCULATIONS\n",
"x=(p/a)*b//in\n",
"E=(l*b*1/2)/a//in\n",
"//RESULTS\n",
"printf('the original length of bar =% f in',E)"
   ]
   }
,
{
		   "cell_type": "markdown",
		   "metadata": {},
		   "source": [
			"## Example 6.2: modulus_of_elasticity.sce"
		   ]
		  },
  {
"cell_type": "code",
	   "execution_count": null,
	   "metadata": {
	    "collapsed": true
	   },
	   "outputs": [],
"source": [
"//Solutions to Problems In applied mechanics\n",
"//A N Gobby\n",
"clear all;\n",
"\n",
"clc\n",
"//initialisation of variables\n",
"p1=12000//in\n",
"p2=0.0125//lbf/in\n",
"x=8//in\n",
"w=14300//in\n",
"r=0.122//in\n",
"//CALCULATIONS\n",
"M=(p1/p2)*(x/(%pi/4*1^2))//lbf/in^2\n",
"P=0.1*x/100//in\n",
"S=w/(%pi/4*1^2)//lbf/in^2\n",
"P1=(r*100/x)//percent\n",
"//RESULTS\n",
"printf('the modulus of elasticity=% f lbf/in^2',M)\n",
"printf('non-proportional elongation=% f lbf/in^2',S)\n",
"printf('the percentage elongation=% f percent',P1)"
   ]
   }
,
{
		   "cell_type": "markdown",
		   "metadata": {},
		   "source": [
			"## Example 6.3: shear_stress_in_fork.sce"
		   ]
		  },
  {
"cell_type": "code",
	   "execution_count": null,
	   "metadata": {
	    "collapsed": true
	   },
	   "outputs": [],
"source": [
"//Solutions to Problems In applied mechanics\n",
"//A N Gobby\n",
"clear all;\n",
"clc\n",
"//initialisation of variables\n",
"w=0.5//tonf/in^2\n",
"w1=7//tonf/in^2\n",
"w2=10//tonf/in^2\n",
"t=12.4//tonf/in^2\n",
"d1=1.5//in\n",
"d2=1.24//in\n",
"x=0.495//in\n",
"d3=3.02//in\n",
"//CALCULATIONS\n",
"Y=sqrt((d3/2)^2-(d2/2)^2)//in\n",
"S=(1/2*t/(2*Y*w))//tonf/in^2\n",
"//RESULTS\n",
"printf('the shear stress in fork end=% f tonf/in^2',S)"
   ]
   }
,
{
		   "cell_type": "markdown",
		   "metadata": {},
		   "source": [
			"## Example 6.4: resilience_and_modulus_of_elasticity.sce"
		   ]
		  },
  {
"cell_type": "code",
	   "execution_count": null,
	   "metadata": {
	    "collapsed": true
	   },
	   "outputs": [],
"source": [
"//Solutions to Problems In applied mechanics\n",
"//A N Gobby\n",
"clear all;\n",
"\n",
"clc\n",
"//initialisation of variables\n",
"g=2//in\n",
"t=0.002//in\n",
"l=7500//lbf\n",
"w=11000//lbf\n",
"p=1/4//in\n",
"//CALCULATIONS\n",
"W=1/2*l*t//in lbf\n",
"P=t*(w/l)//in\n",
"S=w/p//lbf/in^2\n",
"E=S*g/P//lbf/in^2\n",
"R=(1/2)*w*P//in lbf\n",
"//RESULTS\n",
"printf('The elongation at the elastic limit=% f in',P)\n",
"printf('The stress at the elastic limit=% f lbf/in^2',S)\n",
"printf('The modulus of elasticity E of the material is=% f lbf/in^2',E)\n",
"printf('The resilience and modulus of elasticity=% f in lbf',R)"
   ]
   }
,
{
		   "cell_type": "markdown",
		   "metadata": {},
		   "source": [
			"## Example 6.5: strai.sce"
		   ]
		  },
  {
"cell_type": "code",
	   "execution_count": null,
	   "metadata": {
	    "collapsed": true
	   },
	   "outputs": [],
"source": [
"//Solutions to Problems In applied mechanics\n",
"//A N Gobby\n",
"clear all;\n",
"\n",
"clc\n",
"//initialisation of variables\n",
"v=4//in\n",
"w=20//tonf\n",
"d=10//ft\n",
"m=13400//tonf/in^2\n",
"q=2//in\n",
"l=120//in\n",
"//CALCULATIONS\n",
"Fmax=q*(w)/(%pi/v*v^2)//tonf/in^2\n",
"M=F*l/m//in\n",
"P=w*M//in tonf\n",
"//RESULTS\n",
"printf('The maximum instantneous stress=% f tonf/in^2',Fmax)\n",
"printf('The maximum elongation is=% f in',M)\n",
"printf('the strain energy stored=% f in tonf',P)"
   ]
   }
,
{
		   "cell_type": "markdown",
		   "metadata": {},
		   "source": [
			"## Example 6.6: final_stress_after_oscillation.sce"
		   ]
		  },
  {
"cell_type": "code",
	   "execution_count": null,
	   "metadata": {
	    "collapsed": true
	   },
	   "outputs": [],
"source": [
"//Solutions to Problems In applied mechanics\n",
"//A N Gobby\n",
"clear all;\n",
"clc\n",
"//initialisation of variables\n",
"d=4//in\n",
"p=2//ft\n",
"d1=1/2//in\n",
"e=13200//tonf/in^2\n",
"f=9.51//tonf/in^2\n",
"k=0.0114//tonf/in^2\n",
"//CALCULATIONS\n",
"E=k*f//in tonf\n",
"F=(p/(%pi/d*d^2))//tonf/in^2\n",
"//RESULTS\n",
"printf('the final stress after oscillation has died aways will load/area=% f tonf/in^2',F)"
   ]
   }
,
{
		   "cell_type": "markdown",
		   "metadata": {},
		   "source": [
			"## Example 6.7: corresponding_stress.sce"
		   ]
		  },
  {
"cell_type": "code",
	   "execution_count": null,
	   "metadata": {
	    "collapsed": true
	   },
	   "outputs": [],
"source": [
"//Solutions to Problems In applied mechanics\n",
"//A N Gobby\n",
"clear all;\n",
"clc\n",
"//initialisation of variables\n",
"h=3//in\n",
"s=10.2//tonf/in^2\n",
"v=0.006//in\n",
"d=0.5//in\n",
"d1=0.75//in\n",
"w=20//lbf\n",
"q=v/8//tonf/in^2\n",
"x=0.029//in\n",
"//CALCULATIONS\n",
"M=s/q//tonf/in^2\n",
"E=M*(x)/(h*12)//tonf/in^2\n",
"//RESULTS\n",
"printf('the corresponding stress=% f tonf/in^2',E)"
   ]
   }
,
{
		   "cell_type": "markdown",
		   "metadata": {},
		   "source": [
			"## Example 6.8: total_energy_in_the_bar.sce"
		   ]
		  },
  {
"cell_type": "code",
	   "execution_count": null,
	   "metadata": {
	    "collapsed": true
	   },
	   "outputs": [],
"source": [
"//Solutions to Problems In applied mechanics\n",
"//A N Gobby\n",
"clear all;\n",
"clc\n",
"//initialisation of variables\n",
"e=30*10^2//lbf/in^2\n",
"b=15//in\n",
"t=50//percent\n",
"p=1.5//in\n",
"v=6//in\n",
"h=2240//lbf\n",
"I=0.0038//in\n",
"//CALCULATIONS\n",
"W=1/2*v*I//in tonf\n",
"w1=W*p//in tonf\n",
"T=sqrt((v^2*h)/(2*%pi/4*e))/((b)/(p)^2/(1)^2)*10//in\n",
"//RESULTS\n",
"printf('the total energy in the bar=% f in',T)"
   ]
   }
,
{
		   "cell_type": "markdown",
		   "metadata": {},
		   "source": [
			"## Example 6.9: the_stress_in_the_steel.sce"
		   ]
		  },
  {
"cell_type": "code",
	   "execution_count": null,
	   "metadata": {
	    "collapsed": true
	   },
	   "outputs": [],
"source": [
"//Solutions to Problems In applied mechanics\n",
"//A N Gobby\n",
"clear all;\n",
"clc\n",
"//initialisation of variables\n",
"clear\n",
"E=13400//tonf/in^2\n",
"E1=5600//tonf/in^2\n",
"h=7//tonf/in^2\n",
"h1=3.5//tonf/in^2\n",
"w=1.5//ij\n",
"l=5//tonf\n",
"A=%pi/4*1^2//in^2\n",
"A1=%pi/4*(w^2-1^2)//in^2\n",
"s=1.91//tonf\n",
"t=0.787//in\n",
"pg=1.72//tonf\n",
"//CALCULATIONS\\n",
"m=h*t//tonf\n",
"p=m/s//tonf\n",
"g=p/A1//tonf/in^2\n",
"m1=m+p//tonf\n",
"S=pg/A1//tonf/in^2\n",
"Ps=pg*s//tonf\n",
"S1=Ps/t//tonf/in^2\n",
"//RESULTS\n",
"printf('the stress in the steel=% f tonf/in^2',S1)"
   ]
   }
],
"metadata": {
		  "kernelspec": {
		   "display_name": "Scilab",
		   "language": "scilab",
		   "name": "scilab"
		  },
		  "language_info": {
		   "file_extension": ".sce",
		   "help_links": [
			{
			 "text": "MetaKernel Magics",
			 "url": "https://github.com/calysto/metakernel/blob/master/metakernel/magics/README.md"
			}
		   ],
		   "mimetype": "text/x-octave",
		   "name": "scilab",
		   "version": "0.7.1"
		  }
		 },
		 "nbformat": 4,
		 "nbformat_minor": 0
}
