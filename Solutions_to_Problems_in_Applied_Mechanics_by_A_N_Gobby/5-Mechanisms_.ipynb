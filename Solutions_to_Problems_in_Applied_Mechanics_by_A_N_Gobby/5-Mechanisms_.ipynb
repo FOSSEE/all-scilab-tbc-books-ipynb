{
"cells": [
 {
		   "cell_type": "markdown",
	   "metadata": {},
	   "source": [
       "# Chapter 5: Mechanisms "
	   ]
	},
{
		   "cell_type": "markdown",
		   "metadata": {},
		   "source": [
			"## Example 5.1: angular_velocity.sce"
		   ]
		  },
  {
"cell_type": "code",
	   "execution_count": null,
	   "metadata": {
	    "collapsed": true
	   },
	   "outputs": [],
"source": [
"//Solutions to Problems In applied mechanics\n",
"//A N Gobby\n",
"clear all;\n",
"\n",
"clc\n",
"//initialisation of variables\n",
"r=120//rev/min\n",
"a=45//degree\n",
"d=1//ft\n",
"w=6//ft\n",
"q=3.96//ft/s\n",
"r1=7//ft\n",
"D=0.565//rad/s\n",
"W=28.0//ft\n",
"v1=12.6//ft\n",
"v2=22.4//ft\n",
"//CALCULATIONS\n",
"U=r*(2*%pi/60)*d//ft/s\n",
"a1=q/r1//rad/s\n",
"A=q/r1*W//ft/s\n",
"Vb=a1*W//ft/s\n",
"//RESULTS\n",
"printf('The velocity =% f ft/s',A)\n",
"printf('the angular velocity=% f ft/s',Vb)"
   ]
   }
,
{
		   "cell_type": "markdown",
		   "metadata": {},
		   "source": [
			"## Example 5.2: angular_velocity.sce"
		   ]
		  },
  {
"cell_type": "code",
	   "execution_count": null,
	   "metadata": {
	    "collapsed": true
	   },
	   "outputs": [],
"source": [
"//Solutions to Problems In applied mechanics\n",
"//A N Gobby\n",
"clear all;\n",
"\n",
"clc\n",
"//initialisation of variables\n",
"a=13.25//in\n",
"q=4.5//in\n",
"b=9//in\n",
"r=2.5//in\n",
"w=6//in\n",
"s=2.4//in\n",
"x=8*3/4//in\n",
"y=4*3/8//in\n",
"z=5*3/4//in\n",
"R=0.81//ft/s\n",
"p=5.0//in\n",
"//CALCULATIONS\n",
"V=(2*%pi)*r//in/s\n",
"AB=(p/a)//rad/s\n",
"DE=s/b//rad/s\n",
"//RESULTS\n",
"printf('The angular velocity is=% f rad/s',AB)\n",
"printf('the angular velocity=% f rad/s',DE)"
   ]
   }
,
{
		   "cell_type": "markdown",
		   "metadata": {},
		   "source": [
			"## Example 5.3: angular_velocity.sce"
		   ]
		  },
  {
"cell_type": "code",
	   "execution_count": null,
	   "metadata": {
	    "collapsed": true
	   },
	   "outputs": [],
"source": [
"//Solutions to Problems In applied mechanics\n",
"//A N Gobby\n",
"clear all;\n",
"clc\n",
"//initialisation of variables\n",
"v=(60*2*%pi)/60*8/12//ft/s\n",
"x=8//in\n",
"y=12//in\n",
"c=4.76//in\n",
"b=4.13//in\n",
"e=10.0//in\n",
"w=12.0//in\n",
"f=3.55//in\n",
"q=6.08//in\n",
"k=1.95//in\n",
"h=2.35//in\n",
"//CALCULATIONS\n",
"V1=v*(c/b)//ft/s\n",
"V2=V1*(e/w)//ft/s\n",
"V3=V2*(f/q)//ft/s\n",
"K=V3*(k/h)//ft/s\n",
"F=f*(x/y)//ft\n",
"L=(F*y)/(f*x)//rad/s\n",
"//RESULTS\n",
"printf('the angular velocity length=% f rad/s',L)"
   ]
   }
,
{
		   "cell_type": "markdown",
		   "metadata": {},
		   "source": [
			"## Example 5.4: angular_velocity.sce"
		   ]
		  },
  {
"cell_type": "code",
	   "execution_count": null,
	   "metadata": {
	    "collapsed": true
	   },
	   "outputs": [],
"source": [
"//Solutions to Problems In applied mechanics\n",
"//A N Gobby\n",
"clear all;\n",
"clc\n",
"//initialisation of variables\n",
"d=60//rev/min\n",
"s=5//in\n",
"v=5//in/s\n",
"a=25.2//in/s\n",
"x=2.23//in\n",
"b=4.59//in\n",
"z=20.0//in\n",
"//CALCULATIONS\n",
"U=x*v//in/s\n",
"V=b*v//in/s\n",
"B=V/z//rad/s\n",
"//RESULTS\n",
"printf('the angular velocity=% f rad/s',B)"
   ]
   }
,
{
		   "cell_type": "markdown",
		   "metadata": {},
		   "source": [
			"## Example 5.5: angular_velocity.sce"
		   ]
		  },
  {
"cell_type": "code",
	   "execution_count": null,
	   "metadata": {
	    "collapsed": true
	   },
	   "outputs": [],
"source": [
"//Solutions to Problems In applied mechanics\n",
"//A N Gobby\n",
"clear all;\n",
"\n",
"clc\n",
"//initialisation of variables\n",
"v=5//ft/s\n",
"f=0.5//in\n",
"e=5.27//in\n",
"w=1.98//in\n",
"k=2.96//in\n",
"x=1.7//in\n",
"h=3.4//in\n",
"i=7.2//in\n",
"d=0.76//in\n",
"Va=((200*2*%pi*1)/60)/7.75//rad/s\n",
"Vc=Va*i/k\n",
"//CALCULATIONS\n",
"F=f*v//ft/s\n",
"CE=(e*v)/4//rad/s\n",
"EF=w*v/3//rad/s\n",
"VCD=Va*i/k//rad/s\n",
"E=VCD*x/h//rad/s\n",
"V=E*d//ft/s\n",
"//RESULTS\n",
"printf('The velocity of F in=% f ft/s',F)\n",
"printf('The angular velocity of CE in=% f rad/s',CE)\n",
"printf('The angular velocity of EF=% f rad/s',EF)\n",
"printf('the velocity of link=% f rad/s',V)"
   ]
   }
],
"metadata": {
		  "kernelspec": {
		   "display_name": "Scilab",
		   "language": "scilab",
		   "name": "scilab"
		  },
		  "language_info": {
		   "file_extension": ".sce",
		   "help_links": [
			{
			 "text": "MetaKernel Magics",
			 "url": "https://github.com/calysto/metakernel/blob/master/metakernel/magics/README.md"
			}
		   ],
		   "mimetype": "text/x-octave",
		   "name": "scilab",
		   "version": "0.7.1"
		  }
		 },
		 "nbformat": 4,
		 "nbformat_minor": 0
}
