{
"cells": [
 {
		   "cell_type": "markdown",
	   "metadata": {},
	   "source": [
       "# Chapter 12: Hydrodynamics "
	   ]
	},
{
		   "cell_type": "markdown",
		   "metadata": {},
		   "source": [
			"## Example 12.14: coefficient_of_velocity.sce"
		   ]
		  },
  {
"cell_type": "code",
	   "execution_count": null,
	   "metadata": {
	    "collapsed": true
	   },
	   "outputs": [],
"source": [
"//Solutions to Problems In applied mechanics\n",
"//A N Gobby\n",
"clear all;\n",
"clc\n",
"//initialisation of variables\n",
"x=32.5//in\n",
"y=33.7//in\n",
"h=8//in\n",
"//CALCULATIONS\n",
"C=sqrt((x)^2/(4*y*h))//ft\n",
"//RESULTS\n",
"printf('the coefficient of velocity=% f ft',C)"
   ]
   }
,
{
		   "cell_type": "markdown",
		   "metadata": {},
		   "source": [
			"## Example 12.1: bernouli_s_equation.sce"
		   ]
		  },
  {
"cell_type": "code",
	   "execution_count": null,
	   "metadata": {
	    "collapsed": true
	   },
	   "outputs": [],
"source": [
"//Solutions to Problems In applied mechanics\n",
"//A N Gobby\n",
"clear all;\n",
"clc\n",
"//initialisation of variables\n",
"p=144*60//lbf/ft^2\n",
"A1=1/4*%pi*(1/2)^2//ft^2\n",
"A2=1/4*%pi*(1/4)^2//ft^2\n",
"w=5//ft/s\n",
"U1=1/A1//ft/s\n",
"U2=1/A2//ft/s\n",
"g=32.2//ft/s\n",
"P=(U1^2/(2*g))+(p/(2*g))\n",
"P1=(3+U2^2/(62.4))+(144/(62.4))\n",
"//CALCULATIONS\n",
"Pb=(P/P1)*w//lbf/in^2\n",
"//RESULTS\n",
"printf('the bernouli s equation=% f lbf/in^2',Pb)"
   ]
   }
,
{
		   "cell_type": "markdown",
		   "metadata": {},
		   "source": [
			"## Example 12.2: Difference_in_feet_of_water.sce"
		   ]
		  },
  {
"cell_type": "code",
	   "execution_count": null,
	   "metadata": {
	    "collapsed": true
	   },
	   "outputs": [],
"source": [
"//Solutions to Problems In applied mechanics\n",
"//A N Gobby\n",
"clear all;\n",
"clc\n",
"//initialisation of variables\n",
"p=1.23//ft^2\n",
"t=0.197//ft^2\n",
"u=1.595//ft^2\n",
"g=13.56//ft^2\n",
"w=9.2//in\n",
"m=0.97//in\n",
"//CALCULATIONS\n",
"H=(g-1)*w/12//ft^2\n",
"Q=m*u*sqrt(H)//ft^3\n",
"S=Q*60*62.4/10//gallons/min\n",
"//RESULTS\n",
"printf('the head difference in feet of water=% f gallons/min',S)"
   ]
   }
,
{
		   "cell_type": "markdown",
		   "metadata": {},
		   "source": [
			"## Example 12.3: coefficients_of_discharge_velocity_and_contraction.sce"
		   ]
		  },
  {
"cell_type": "code",
	   "execution_count": null,
	   "metadata": {
	    "collapsed": true
	   },
	   "outputs": [],
"source": [
"//Solutions to Problems In applied mechanics\n",
"//A N Gobby\n",
"clear all;\n",
"\n",
"clc\n",
"//initialisation of variables\n",
"h=4//ft\n",
"h1=3.24//ft^3/min\n",
"d=0.785//in\n",
"v=5.26//ft^3/min\n",
"//CALCULATIONS\n",
"Cd=h1/v//ft\n",
"C=1/4*%pi*(d)^2/(1/4*%pi*(1)^2)//ft^3\n",
"V=Cd/C\n",
"//RESULTS\n",
"printf('the coefficients of discharge velocity and contraction=% f',V)"
   ]
   }
],
"metadata": {
		  "kernelspec": {
		   "display_name": "Scilab",
		   "language": "scilab",
		   "name": "scilab"
		  },
		  "language_info": {
		   "file_extension": ".sce",
		   "help_links": [
			{
			 "text": "MetaKernel Magics",
			 "url": "https://github.com/calysto/metakernel/blob/master/metakernel/magics/README.md"
			}
		   ],
		   "mimetype": "text/x-octave",
		   "name": "scilab",
		   "version": "0.7.1"
		  }
		 },
		 "nbformat": 4,
		 "nbformat_minor": 0
}
