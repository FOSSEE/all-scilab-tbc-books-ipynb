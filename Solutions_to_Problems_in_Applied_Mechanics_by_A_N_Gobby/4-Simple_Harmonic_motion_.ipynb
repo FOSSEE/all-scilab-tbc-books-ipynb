{
"cells": [
 {
		   "cell_type": "markdown",
	   "metadata": {},
	   "source": [
       "# Chapter 4: Simple Harmonic motion "
	   ]
	},
{
		   "cell_type": "markdown",
		   "metadata": {},
		   "source": [
			"## Example 4.1: acceleratio.sce"
		   ]
		  },
  {
"cell_type": "code",
	   "execution_count": null,
	   "metadata": {
	    "collapsed": true
	   },
	   "outputs": [],
"source": [
"//Solutions to Problems In applied mechanics\n",
"//A N Gobby\n",
"clear all;\n",
"clc\n",
"//initialisation of variables\n",
"t=3//sec\n",
"m=20//per mint\n",
"a=4//ft\n",
"//CALCULATIONS\n",
"T=2*%pi/t//ft/s\n",
"V=T*a//ft/s\n",
"F=(T)^2*a//ft/s^2\n",
"//RESULTS\n",
"printf('th acceleration x must be a maximum=% f ft/s^2',F)"
   ]
   }
,
{
		   "cell_type": "markdown",
		   "metadata": {},
		   "source": [
			"## Example 4.2: simple_pendulum.sce"
		   ]
		  },
  {
"cell_type": "code",
	   "execution_count": null,
	   "metadata": {
	    "collapsed": true
	   },
	   "outputs": [],
"source": [
"//Solutions to Problems In applied mechanics\n",
"//A N Gobby\n",
"clear all;\n",
"clc\n",
"//initialisation of variables\n",
"a=10//ft/s\n",
"x=1/12//ft/s\n",
"g=32.2//ft\n",
"//CALCULATIONS\n",
"P=2*%pi*sqrt(x/a)//sec\n",
"L=(P)/(2*%pi/sqrt(g))/2//ft\n",
"//RESULTS\n",
"printf('the simple pendulum =% f ft',L)"
   ]
   }
,
{
		   "cell_type": "markdown",
		   "metadata": {},
		   "source": [
			"## Example 4.3: maximum_acceleratio.sce"
		   ]
		  },
  {
"cell_type": "code",
	   "execution_count": null,
	   "metadata": {
	    "collapsed": true
	   },
	   "outputs": [],
"source": [
"//Solutions to Problems In applied mechanics\n",
"//A N Gobby\n",
"clear all;\n",
"clc\n",
"//initialisation of variables\n",
"w=20//lbf\n",
"p=12//ft/s\n",
"v1=15//ft/s\n",
"g=32.2//ft\n",
"v2=10//ft/s\n",
"d1=6//in\n",
"d2=9//in\n",
"a=10.82//in\n",
"//CALCULATIONS\n",
"Um=(v2*p)/sqrt(a^2-d2^2)//sec^-1\n",
"P=2*%pi/Um//sec\n",
"V=w*a//in/s\n",
"M=w^2*a/p//ft/s\n",
"F=(w/g)*M//lbf\n",
"//RESULTS\n",
"printf('the velocity=% f in',a)\n",
"printf('periodic time=% f sec',P)\n",
"printf('the maximum velocity=% f in/s',V)\n",
"printf('maximum acceleration=% f lbf',F)"
   ]
   }
,
{
		   "cell_type": "markdown",
		   "metadata": {},
		   "source": [
			"## Example 4.4: maximum_acceleratio.sce"
		   ]
		  },
  {
"cell_type": "code",
	   "execution_count": null,
	   "metadata": {
	    "collapsed": true
	   },
	   "outputs": [],
"source": [
"//Solutions to Problems In applied mechanics\n",
"//A N Gobby\n",
"clear all;\n",
"clc\n",
"//initialisation of variables\n",
"w=4//lbf\n",
"h=40//lbf/ft\n",
"d=2//in\n",
"g=32.2//ft/s\n",
"//CALCULATIONS\n",
"P=(d*%pi)*sqrt(w/(h*g))//sec\n",
"V=(d*%pi*d)/(P*12)//ft/s\n",
"M=(d*%pi/P)^2*(d/12)//ft/s\n",
"//RESULTS\n",
"printf('the period of vibration=% f sec',P)\n",
"printf('Maximum veloity=% f ft/s',V)\n",
"printf('Maximum acceleration=% f ft/s',M)"
   ]
   }
,
{
		   "cell_type": "markdown",
		   "metadata": {},
		   "source": [
			"## Example 4.5: kinetic_energy.sce"
		   ]
		  },
  {
"cell_type": "code",
	   "execution_count": null,
	   "metadata": {
	    "collapsed": true
	   },
	   "outputs": [],
"source": [
"//Solutions to Problems In applied mechanics\n",
"//A N Gobby\n",
"clear all;\n",
"\n",
"\n",
"clc\n",
"//initialisation of variables\n",
"w=80//lbf\n",
"p=4//ft\n",
"d=20//stroke/min\n",
"d1=3//in\n",
"p1=0.6//sec\n",
"h=2//ft/s\n",
"g=32.2//ft/s\n",
"t=60//sec\n",
"//CALCULATIONS\n",
"P=t/d//sec\n",
"U=2*%pi/d1//sec^-1\n",
"V=U*sqrt(h^2-(3/4)^2)//ft/s\n",
"K=(w*V^2/(h*g))//lbf\n",
"M=U^2*h//ft/s^2\n",
"M1=(w/g)*M//lbf\n",
"D=h*cosd(U*0.6*180/%pi)//ft\n",
"D1=h-D//ft\n",
"//RESULTS\n",
"printf('the kinetic energy of the crosshead=% f lbf',K)\n",
"printf('the maximum acceleration of force on crosshead=% f lbf',M1)\n",
"printf('the distance from end of the path=% f ft',D1)"
   ]
   }
,
{
		   "cell_type": "markdown",
		   "metadata": {},
		   "source": [
			"## Example 4.6: velocity_of_acceleratio.sce"
		   ]
		  },
  {
"cell_type": "code",
	   "execution_count": null,
	   "metadata": {
	    "collapsed": true
	   },
	   "outputs": [],
"source": [
"//Solutions to Problems In applied mechanics\n",
"//A N Gobby\n",
"clear all;\n",
"clc\n",
"//initialisation of variables\n",
"d=3//in\n",
"v=40//ft/s\n",
"a=3000//ft/s^2\n",
"p=5.31//in\n",
"//CALCULATIONS\n",
"U=sqrt(a/(d/12))//sec^-1\n",
"E=(U*60/(2*%pi))//rev/min\n",
"P=2/U//sec\n",
"W=U*(p/12)//ft/s\n",
"M=U^2*(p/12)//ft/s^2\n",
"//RESULTS\n",
"printf('the velocity of acceleration against time during one complete=% f ft/s^2',M)"
   ]
   }
],
"metadata": {
		  "kernelspec": {
		   "display_name": "Scilab",
		   "language": "scilab",
		   "name": "scilab"
		  },
		  "language_info": {
		   "file_extension": ".sce",
		   "help_links": [
			{
			 "text": "MetaKernel Magics",
			 "url": "https://github.com/calysto/metakernel/blob/master/metakernel/magics/README.md"
			}
		   ],
		   "mimetype": "text/x-octave",
		   "name": "scilab",
		   "version": "0.7.1"
		  }
		 },
		 "nbformat": 4,
		 "nbformat_minor": 0
}
