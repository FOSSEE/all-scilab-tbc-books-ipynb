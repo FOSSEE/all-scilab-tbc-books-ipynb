{
"cells": [
 {
		   "cell_type": "markdown",
	   "metadata": {},
	   "source": [
       "# Chapter 8: Bending of beams "
	   ]
	},
{
		   "cell_type": "markdown",
		   "metadata": {},
		   "source": [
			"## Example 8.1: bending_moment.sce"
		   ]
		  },
  {
"cell_type": "code",
	   "execution_count": null,
	   "metadata": {
	    "collapsed": true
	   },
	   "outputs": [],
"source": [
"//Solutions to Problems In applied mechanics\n",
"//A N Gobby\n",
"clear all;\n",
"clc\n",
"//initialisation of variables\n",
"h=12//in\n",
"q=14//in\n",
"w=12500//in\n",
"p=2.5//in\n",
"m=0.067//in\n",
"t=2240//in\n",
"n=2.5*10^-5//in\n",
"//CALCULATIONS\n",
"R=(p*h*q)/(w)//in\n",
"I=(1*m^3/h)//in\n",
"M=((w*n)/(p*h)*t)//lbf in\n",
"//RESULTS\n",
"printf('the bending moment set up=% f lbf in',M)"
   ]
   }
,
{
		   "cell_type": "markdown",
		   "metadata": {},
		   "source": [
			"## Example 8.2: Stress.sce"
		   ]
		  },
  {
"cell_type": "code",
	   "execution_count": null,
	   "metadata": {
	    "collapsed": true
	   },
	   "outputs": [],
"source": [
"//Solutions to Problems In applied mechanics\n",
"//A N Gobby\n",
"clear all;\n",
"clc\n",
"//initialisation of variables\n",
"E=14*10^6//lbf/in^2\n",
"l=5.0//tonf/in^2\n",
"y=2*(1/4)//in\n",
"yc=4*3/4//in\n",
"n=2*1/2//in\n",
"p=1*1/4//in\n",
"q=2.25//in\n",
"I=55.25//in^4\n",
"m=10.56//tonf/in^2\n",
"a=(1*(yc^3))\n",
"b=6*(y^3)/3\n",
"c=(n*p^3)/3//in^4\n",
"//CALCULATIONS\n",
"INA=(a+b-2*c)*2//in^4\n",
"Fa=(l*yc)*(yc*y)/2//tonf/in^2\n",
"M=(l*INA/q)//tonf in\n",
"//RESULTS\n",
"printf('Thesecound moment of area about its neutral axis=% f in^4',INA)\n",
"printf('The maximum compressive stress on the section=% f tonf/in^2',Fa)\n",
"printf('the bending moment is=% f tonf in',M)"
   ]
   }
,
{
		   "cell_type": "markdown",
		   "metadata": {},
		   "source": [
			"## Example 8.3: rectangular_plate.sce"
		   ]
		  },
  {
"cell_type": "code",
	   "execution_count": null,
	   "metadata": {
	    "collapsed": true
	   },
	   "outputs": [],
"source": [
"//Solutions to Problems In applied mechanics\n",
"//A N Gobby\n",
"clear all;\n",
"clc\n",
"//initialisation of variables\n",
"b=3*6^3/12//in^4\n",
"d=b+3*6*6^2//in^4\n",
"b2=%pi*2^4/64//in^4\n",
"h=b2+%pi*1^2*6^2//in^4\n",
"//CALCULATIONS\n",
"P=d-h//in^4\n",
"//RESULTS\n",
"printf('the rectangular plate with circular hole=% f in^4',P)"
   ]
   }
,
{
		   "cell_type": "markdown",
		   "metadata": {},
		   "source": [
			"## Example 8.4: Percentage_increase.sce"
		   ]
		  },
  {
"cell_type": "code",
	   "execution_count": null,
	   "metadata": {
	    "collapsed": true
	   },
	   "outputs": [],
"source": [
"//Solutions to Problems In applied mechanics\n",
"//A N Gobby\n",
"clear all;\n",
"clc\n",
"//initialisation of variables\n",
"h=12//in\n",
"w=6//in\n",
"x=375.77//in^4\n",
"y=28.28//in^4\n",
"p=7//in\n",
"q=14//in\n",
"//CALCULATIONS\n",
"Ix=x+(p*q^3/h)-(p*h^3/h)//in^4\n",
"Iy=y+2*(1*p^3/h)//in^4\n",
"Zx=x/w//in^3\n",
"Zy=Ix/p//in^3\n",
"X=(Zy-Zx)/(Zx)*100//percent\n",
"//RESULTS\n",
"printf('the percentage increase in strength with respect to neutral=% f percent',X)"
   ]
   }
],
"metadata": {
		  "kernelspec": {
		   "display_name": "Scilab",
		   "language": "scilab",
		   "name": "scilab"
		  },
		  "language_info": {
		   "file_extension": ".sce",
		   "help_links": [
			{
			 "text": "MetaKernel Magics",
			 "url": "https://github.com/calysto/metakernel/blob/master/metakernel/magics/README.md"
			}
		   ],
		   "mimetype": "text/x-octave",
		   "name": "scilab",
		   "version": "0.7.1"
		  }
		 },
		 "nbformat": 4,
		 "nbformat_minor": 0
}
