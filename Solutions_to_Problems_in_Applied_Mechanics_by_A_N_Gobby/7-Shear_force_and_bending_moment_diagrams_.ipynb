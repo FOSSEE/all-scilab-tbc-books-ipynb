{
"cells": [
 {
		   "cell_type": "markdown",
	   "metadata": {},
	   "source": [
       "# Chapter 7: Shear force and bending moment diagrams "
	   ]
	},
{
		   "cell_type": "markdown",
		   "metadata": {},
		   "source": [
			"## Example 7.2: Load.sce"
		   ]
		  },
  {
"cell_type": "code",
	   "execution_count": null,
	   "metadata": {
	    "collapsed": true
	   },
	   "outputs": [],
"source": [
"//Solutions to Problems In applied mechanics\n",
"//A N Gobby\n",
"clear all;\n",
"clc\n",
"//initialisation of variables\n",
"R=24.4//tonf\n",
"x=9.7//ft\n",
"M=124//tonf ft\n",
"h=5//in\n",
"q=14//in\n",
"w=20//in\n",
"h1=6//in\n",
"p=3//in\n",
"g=10//in\n",
"//CALCULATIONS\n",
"Ra=h*q/w//tonf\n",
"Mc=Ra*h1//tonf ft\n",
"Rb=p*h1/w*q //tonf ft\n",
"RB=w*g-(2*g^2/2)//tonf ft\n",
"//RESULTS\n",
"printf('the tonf load alone=% f tonf ft',RB)"
   ]
   }
,
{
		   "cell_type": "markdown",
		   "metadata": {},
		   "source": [
			"## Example 7.3: Max_bending_moment.sce"
		   ]
		  },
  {
"cell_type": "code",
	   "execution_count": null,
	   "metadata": {
	    "collapsed": true
	   },
	   "outputs": [],
"source": [
"//Solutions to Problems In applied mechanics\n",
"//A N Gobby\n",
"clear all;\n",
"\n",
"clc\n",
"//initialisation of variables\n",
"p=8//ft\n",
"h=2//tonf/ft\n",
"a=3//tons/ft\n",
"b=11//ft\n",
"w=b*h//tonf\n",
"//CALCULATIONS\n",
"S=(h*b^2/h)/p//tonf\n",
"R=w-S//tonf\n",
"x=R/h//ft\n",
"M=(R*x)-((h*(x^2))/h)//tonf ft\n",
"N=-(h*a^2/h)//tonf ft\n",
"//RESULTS\n",
"printf('the maximum bending moment occurs=% f tonf ft',N)"
   ]
   }
],
"metadata": {
		  "kernelspec": {
		   "display_name": "Scilab",
		   "language": "scilab",
		   "name": "scilab"
		  },
		  "language_info": {
		   "file_extension": ".sce",
		   "help_links": [
			{
			 "text": "MetaKernel Magics",
			 "url": "https://github.com/calysto/metakernel/blob/master/metakernel/magics/README.md"
			}
		   ],
		   "mimetype": "text/x-octave",
		   "name": "scilab",
		   "version": "0.7.1"
		  }
		 },
		 "nbformat": 4,
		 "nbformat_minor": 0
}
