{
"cells": [
 {
		   "cell_type": "markdown",
	   "metadata": {},
	   "source": [
       "# Chapter 1: Linear Motion "
	   ]
	},
{
		   "cell_type": "markdown",
		   "metadata": {},
		   "source": [
			"## Example 1.1: Velocity_calculatio.sce"
		   ]
		  },
  {
"cell_type": "code",
	   "execution_count": null,
	   "metadata": {
	    "collapsed": true
	   },
	   "outputs": [],
"source": [
"//Velocity calculation\n",
"clc\n",
"//initialisation of variables\n",
"t=20//ft\n",
"t1=30//ft\n",
"v=1320//ft/s\n",
"p=25//sec\n",
"q=15//ft/s\n",
"v1=v/t//ft/s\n",
"v2=v/t1//ft/s\n",
"T=(v2-v1)/p//ft/s^2\n",
"V=v2-q*-T//ft/s\n",
"V1=-V^2/(2*T)//ft/s\n",
"//RESULTS\n",
"printf('the velocity time is=% f ft/s',V1)"
   ]
   }
,
{
		   "cell_type": "markdown",
		   "metadata": {},
		   "source": [
			"## Example 1.2: Distance_travel_calculation.sce"
		   ]
		  },
  {
"cell_type": "code",
	   "execution_count": null,
	   "metadata": {
	    "collapsed": true
	   },
	   "outputs": [],
"source": [
"//Distance travel calculation\n",
"clc\n",
"//initialisation of variables\n",
"w=200//tonf\n",
"d=4//tonf\n",
"h=120//tonf\n",
"v=25//mile/h\n",
"m=10//lbf/tonf\n",
"q=2240//lbf\n",
"//CALCULATIONS\n",
"F=w*m//lbf\n",
"W=(w*q)*(1/h)//lbf\n",
"T=F+W//lbf\n",
"D=d*q//lbf\n",
"A=D-T//lbf\n",
"t=158.1//sec\n",
"T1=(v/2)*(88/60)*t//ft\n",
"//RESULTS\n",
"printf('Distance travel=% f ft',T1)"
   ]
   }
,
{
		   "cell_type": "markdown",
		   "metadata": {},
		   "source": [
			"## Example 1.3: velocity_is_uniform_and_force_and_velocity.sce"
		   ]
		  },
  {
"cell_type": "code",
	   "execution_count": null,
	   "metadata": {
	    "collapsed": true
	   },
	   "outputs": [],
"source": [
"//velocity is uniform and force and velocity\n",
"clc\n",
"//initialisation of variables\n",
"f=90//lbf\n",
"w=6//tonf\n",
"m=10//lbf/tonf\n",
"f1=1//min\n",
"h=0.8//hp\n",
"m1=m*w//lbf\n",
"n=f-m1//lbf\n",
"p=2240//lbf\n",
"f2=0.0715//ft/s^2\n",
"r=550//ft\n",
"//CALCULATIONS\n",
"S=1/2*f2*(m1)^2//ft\n",
"V=f2*m1//ft/s\n",
"H=(f*V)/r//ft\n",
"V1=h/(m1/r)//ft/s\n",
"//RESULTS\n",
"printf('the velocity is uniform and force and velocity=% f ft/s',V1)"
   ]
   }
,
{
		   "cell_type": "markdown",
		   "metadata": {},
		   "source": [
			"## Example 1.4: Tension_Coupling_calculation.sce"
		   ]
		  },
  {
"cell_type": "code",
	   "execution_count": null,
	   "metadata": {
	    "collapsed": true
	   },
	   "outputs": [],
"source": [
"//Tension Coupling calculation\n",
"clc\n",
"//initialisation of variables\n",
"w=30//tonf\n",
"m=100//tonf\n",
"w1=150//tonf\n",
"f=6000//lbf\n",
"h=2240//lbf\n",
"q=105//lbf\n",
"p=135//lbf\n",
"a=711.7//lbf\n",
"//CALCULATIONS\n",
"M=(q*h)/m//lbf\n",
"R=(w*h)/w1//lbf\n",
"T=M+R//lbf\n",
"A=f-T//lbf\n",
"T1=R+a//lbf\n",
"//RESULTS\n",
"printf('the Tension Coupling is=% f lbf',T1)"
   ]
   }
,
{
		   "cell_type": "markdown",
		   "metadata": {},
		   "source": [
			"## Example 1.5: work_done_ground_resistance.sce"
		   ]
		  },
  {
"cell_type": "code",
	   "execution_count": null,
	   "metadata": {
	    "collapsed": true
	   },
	   "outputs": [],
"source": [
"clc\n",
"//work done ground resistance\n",
"//initialisation of variables\n",
"g=32.1//ft/s\n",
"w=3//tonf\n",
"p=16//ft\n",
"p1=6//in\n",
"h=2240//ft/cm^2\n",
"m=4//tonf\n",
"v=24.08//ft/s\n",
"//CALCULATIONS\n",
"K=(m*h*(v^2))/(2*g)//ft lbf\n",
"P=m*h*(1/2)//ft lbf\n",
"R=(K+P)/(h*(1/2))//tonf\n",
"//RESULTS\n",
"printf('the work done ground resistance=% 2f tonf',R)"
   ]
   }
,
{
		   "cell_type": "markdown",
		   "metadata": {},
		   "source": [
			"## Example 1.6: kinetic_energy_and_velocity.sce"
		   ]
		  },
  {
"cell_type": "code",
	   "execution_count": null,
	   "metadata": {
	    "collapsed": true
	   },
	   "outputs": [],
"source": [
"//kinetic energy and velocity\n",
"clc\n",
"//initialisation of variables\n",
"p=50//ft/s\n",
"w=10//lbf\n",
"v=30//ft/s\n",
"w1=40//lbf\n",
"v1=20//ft/s\n",
"g=32.2//ft/s\\n",
"h=0.8//ft/s\n",
"V1=23.6//ft/s\n",
"V3=15.6//ft/s\n",
"V4=22//ft/s\n",
"//CALCULATIONS\n",
"V=(w+w1)/g/(w/g*v)+(w1/g*v1)//ft/s\n",
"V2=h*(-v1+v)//ft/s\n",
"K=(w*(v^2))/(2*g)+(w1*(v1^2))/(2*g)-(p*(V1^2))/(2*g)//ft /bf\n",
"K1=((w*(v^2))/(2*g))+((w1*(v1^2))/(2*g))-((w*(V3^2))/(2*g))-((w1*(V1^2))/(2*g))//ft lbf\n",
"//RESULTS\n",
"printf('the velocity of two bodies after impact is=% f ft/s',V4)\n",
"printf('final velocity is=% f ft/s',V2)\n",
"printf('Loss of kinetic energy at impact is=% f ft lbf',K1)"
   ]
   }
,
{
		   "cell_type": "markdown",
		   "metadata": {},
		   "source": [
			"## Example 1.7: equation_of_motion_and_acceleration.sce"
		   ]
		  },
  {
"cell_type": "code",
	   "execution_count": null,
	   "metadata": {
	    "collapsed": true
	   },
	   "outputs": [],
"source": [
"//Solutions to Problems In applied mechanics\n",
"//A N Gobby\n",
"clear all;\n",
"//equation of motion and acceleration\n",
"clc\n",
"//initialisation of variables\n",
"d=4//ft\n",
"w=5//lbf\n",
"v=10//lbf\n",
"q=9.27//ft/s\n",
"//CALCULATIONS\n",
"W=w*d//ft lbf\n",
"P=v*d//ft lbf\n",
"M=(q)^2/d/2//ft/s^2\n",
"//RESULTS\n",
"printf('the equation of motion and acceleration=% f ft/s^2',M)"
   ]
   }
,
{
		   "cell_type": "markdown",
		   "metadata": {},
		   "source": [
			"## Example 1.8: maximum_velocity.sce"
		   ]
		  },
  {
"cell_type": "code",
	   "execution_count": null,
	   "metadata": {
	    "collapsed": true
	   },
	   "outputs": [],
"source": [
"//Solutions to Problems In applied mechanics\n",
"//A N Gobby\n",
"clear all;\n",
"//maximum velocity of speed \n",
"clc\n",
"//initialisation of variables\n",
"a=30//degree\n",
"w=20//lbf\n",
"m=150//ft\n",
"v=18.6//ft/s^2\n",
"//CALCULATIONS\n",
"A=sqrt(m/(1/2)/v)//sec\n",
"V=sqrt(2*v*m)//ft/s\n",
"//RESULTS\n",
"printf('the maximum velocity of speed after=% f ft/s',V)"
   ]
   }
,
{
		   "cell_type": "markdown",
		   "metadata": {},
		   "source": [
			"## Example 1.9: Work_done_against_gravity.sce"
		   ]
		  },
  {
"cell_type": "code",
	   "execution_count": null,
	   "metadata": {
	    "collapsed": true
	   },
	   "outputs": [],
"source": [
"//Solutions to Problems In applied mechanics\n",
"//A N Gobby\n",
"clear all;\n",
"//Work done against gravity\n",
"clc\n",
"clear all\n",
"//initialisation of variables\n",
"r=1500//yd\n",
"w=200//tonf\n",
"v=25//lbf/tonf\n",
"V=56.8//ft/s\n",
"p=550//ft\n",
"t=80//ft\n",
"h=2240//ft/s\n",
"//CALCULATIONS\n",
"R=v*w//lbf\n",
"W=26.5*10^6//ft lbf\n",
"D=v*w*V//ft lbf\n",
"H=(v*w*V)/p//ft\n",
"W1=W/((v*w)*(w*h*1/180))*1000//ft\n",
"//RESULTS\n",
"printf('the Work done against gravity is=% f ft',W1)"
   ]
   }
],
"metadata": {
		  "kernelspec": {
		   "display_name": "Scilab",
		   "language": "scilab",
		   "name": "scilab"
		  },
		  "language_info": {
		   "file_extension": ".sce",
		   "help_links": [
			{
			 "text": "MetaKernel Magics",
			 "url": "https://github.com/calysto/metakernel/blob/master/metakernel/magics/README.md"
			}
		   ],
		   "mimetype": "text/x-octave",
		   "name": "scilab",
		   "version": "0.7.1"
		  }
		 },
		 "nbformat": 4,
		 "nbformat_minor": 0
}
