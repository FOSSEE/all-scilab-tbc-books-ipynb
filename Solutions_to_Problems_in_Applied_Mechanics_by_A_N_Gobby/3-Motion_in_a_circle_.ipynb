{
"cells": [
 {
		   "cell_type": "markdown",
	   "metadata": {},
	   "source": [
       "# Chapter 3: Motion in a circle "
	   ]
	},
{
		   "cell_type": "markdown",
		   "metadata": {},
		   "source": [
			"## Example 3.1: axis_of_rotation_thus_balancing_the_flywheel.sce"
		   ]
		  },
  {
"cell_type": "code",
	   "execution_count": null,
	   "metadata": {
	    "collapsed": true
	   },
	   "outputs": [],
"source": [
"//Solutions to Problems In applied mechanics\n",
"//A N Gobby\n",
"clear all;\n",
"clc\n",
"//axis of rotation thus balancing the flywheel\n",
"//initialisation of variables\n",
"w=2000//lbf\n",
"q=0.01//in\n",
"f=600//rev/min\n",
"r=18//in\n",
"g=32.2//ft^2\n",
"d=12//in\n",
"s=1.5//ft\n",
"//CALCULATIONS\n",
"F=(w/g)*(f*2*%pi/60)^2*(q/d)//lbf\n",
"W=w*(q/d)/s//lbf\n",
"//RESULTS\n",
"printf('the axis of rotation thus balancing the flywheel=% f lbf',W)"
   ]
   }
,
{
		   "cell_type": "markdown",
		   "metadata": {},
		   "source": [
			"## Example 3.2: speed_and_clutch_will_begin_to_transmit_power.sce"
		   ]
		  },
  {
"cell_type": "code",
	   "execution_count": null,
	   "metadata": {
	    "collapsed": true
	   },
	   "outputs": [],
"source": [
"//Solutions to Problems In applied mechanics\n",
"//A N Gobby\n",
"clear all;\n",
"//speed and clutch will begin to transmit power and horsepower\n",
"clc\n",
"//initialisation of variables\n",
"w=4//lbf\n",
"r=60//lbf/in\n",
"d=13//in\n",
"g=32.2//in\n",
"p=500//rev/min\n",
"h=0.25//in\n",
"b=5//in\n",
"q=1//in\n",
"f=62.2//lbf\n",
"V=31.1//rad/s\n",
"k=6.5//in\n",
"s=33000//ft\n",
"//CALCULATIONS\n",
"W=f/2//rad/s\n",
"F=(w*w/g)*(p*(2*%pi/r))^2*1/2//lbf\n",
"N=F-w*r//lbf\n",
"T=N*h*k/12//lbf ft\n",
"H=2*%pi*p*T/s//lbf ft\n",
"//RESULTS\n",
"printf('The speed and clutch will begin to transmit power =% f rad/s',W)\n",
"printf('the horsepower transmitted =% f',H)"
   ]
   }
,
{
		   "cell_type": "markdown",
		   "metadata": {},
		   "source": [
			"## Example 3.3: kinetic_energy.sce"
		   ]
		  },
  {
"cell_type": "code",
	   "execution_count": null,
	   "metadata": {
	    "collapsed": true
	   },
	   "outputs": [],
"source": [
"//Solutions to Problems In applied mechanics\n",
"//A N Gobby\n",
"clear all;\n",
"clc\n",
"//initialisation of variables\n",
"w1=10//lbf\n",
"w2=5//lbf\\n",
"g=32.2//ft\n",
"h=8//ft\n",
"d=3//ft\n",
"v=10//lbf\n",
"q=15//ft\n",
"V=13.9//ft/s\n",
"//CALCULATIONS\n",
"M=(v*V+w2)/(v+w2)//ft/s\n",
"K=(v*(V)^2/(2*g))-(q*(M)^2/(2*g))//lbf\n",
"H=(q*(M)^2/(2*g))/q//ft\n",
"F=(v*(V)^2/(g*h))//lbf\n",
"T=F+v//lbf\n",
"//RESULTS\n",
"printf('The moment of bodies before impact=% f ft/s',M)\n",
"printf('The loss of kinetic energy in impact =% f ft/lbf',K)\n",
"printf('Gain in potential energy after impact =% f ft',H)\n",
"printf('tension in string centrifugal force weight=% f lbf',T)"
   ]
   }
,
{
		   "cell_type": "markdown",
		   "metadata": {},
		   "source": [
			"## Example 3.4: centrifugal_force.sce"
		   ]
		  },
  {
"cell_type": "code",
	   "execution_count": null,
	   "metadata": {
	    "collapsed": true
	   },
	   "outputs": [],
"source": [
"//Solutions to Problems In applied mechanics\n",
"//A N Gobby\n",
"clear all;\n",
"clc\n",
"//initialisation of variables\n",
"w1=8//lbf\n",
"s=3//ft\n",
"m=35//lbf\n",
"g=32.2//ft/s\n",
"//CALCULATIONS\n",
"U=sqrt(g*s)//ft/s\n",
"T=w1+w1//lbf\n",
"P=m-w1//lbf\n",
"Umax=sqrt(P*g*s/w1)//ft/s\n",
"//RESULTS\n",
"printf('the centrifugal force=% f ft/s',Umax)"
   ]
   }
,
{
		   "cell_type": "markdown",
		   "metadata": {},
		   "source": [
			"## Example 3.5: tension_in_the_string_at_position.sce"
		   ]
		  },
  {
"cell_type": "code",
	   "execution_count": null,
	   "metadata": {
	    "collapsed": true
	   },
	   "outputs": [],
"source": [
"//Solutions to Problems In applied mechanics\n",
"//A N Gobby\n",
"clear all;\n",
"clc\n",
"//initialisation of variables\n",
"w=3//lbf\n",
"v=5//ft\n",
"a=60//degree\n",
"g=32.2//ft\n",
"u=28.4//ft/s\n",
"t=25.4//ft/s\n",
"q=12//ft\n",
"p=1.5//ft\n",
"//CALCULATIONS\n",
"U=sqrt(g*v)//ft/s\n",
"T=w*(t)^2/(2*g)+w*cosd(a)//lbf\n",
"W=q+p//lbf\n",
"//RESULTS\n",
"printf('the tension in the string at position C=% f lbf',W)"
   ]
   }
,
{
		   "cell_type": "markdown",
		   "metadata": {},
		   "source": [
			"## Example 3.6: normal_reaction.sce"
		   ]
		  },
  {
"cell_type": "code",
	   "execution_count": null,
	   "metadata": {
	    "collapsed": true
	   },
	   "outputs": [],
"source": [
"//Solutions to Problems In applied mechanics\n",
"//A N Gobby\n",
"clear all;\n",
"\n",
"clc\n",
"//initialisation of variables\n",
"w=30//mile/h\n",
"r=500//ft\n",
"h=2240//ft\n",
"q=44//ft\n",
"t=(88/60)//ft\n",
"g=32.2//ft\n",
"//CALCULATIONS\n",
"Tan=(w*t)^2/(g*r)\n",
"W=h*cosd(Tan)+(h*(q)^2*sind(Tan))/(g*r)//lbf\n",
"//RESULTS\n",
"printf('the car and resolve forces normal and parallel to the slope=% f',Tan)\n",
"printf('the total normal reaction =% f lbf',W)"
   ]
   }
,
{
		   "cell_type": "markdown",
		   "metadata": {},
		   "source": [
			"## Example 3.7: centrifugal_force.sce"
		   ]
		  },
  {
"cell_type": "code",
	   "execution_count": null,
	   "metadata": {
	    "collapsed": true
	   },
	   "outputs": [],
"source": [
"//Solutions to Problems In applied mechanics\n",
"//A N Gobby\n",
"clear all;\n",
"\n",
"clc\n",
"//initialisation of variables\n",
"h=5//ft\n",
"h1=3//ft\n",
"r=200//ft\n",
"f=0.5//ft\n",
"v=60//ft/s\n",
"w=62.0//ft/s\n",
"q=1.5//ft/s\n",
"g=32.2//ft\n",
"//CALCULATIONS\n",
"V=sqrt(q)/(w/(g*r))/2//ft/s\n",
"F=sqrt(f*g*r)//ft/s\n",
"T=(v)^2/(g*r)//degree\n",
"//RESULTS\n",
"printf('The value of the speed=% f ft/s',V)\n",
"printf('The block is on the point of overturning =% f ft/s',F)\n",
"printf('the centrifugal force must just be equal to the frictional force=% f degree',T)"
   ]
   }
,
{
		   "cell_type": "markdown",
		   "metadata": {},
		   "source": [
			"## Example 3.8: equal_moment_of_the_centrifugal.sce"
		   ]
		  },
  {
"cell_type": "code",
	   "execution_count": null,
	   "metadata": {
	    "collapsed": true
	   },
	   "outputs": [],
"source": [
"//Solutions to Problems In applied mechanics\n",
"//A N Gobby\n",
"clear all;\n",
"clc\n",
"//initialisation of variables\n",
"w=20//cwt\n",
"q=3//ft\n",
"d=30//ft/ss\n",
"w1=4//ft\n",
"w2=6//in\n",
"h=2240//ft/s\n",
"g=32.2//ft\n",
"s=15//ft\n",
"f=4.5//ft\n",
"c=2.25//ft\n",
"//CALCULATIONS\n",
"T=(h*(d)^2/(g*s*q))//lbf\n",
"G=T*q//lbf ft\n",
"W=h*f/2//lbf ft\n",
"R=186.5//lbf\n",
"D=h-R//lbf\n",
"r=(q*h*d^2/(c*h)/g)//ft\n",
"//RESULTS\n",
"printf('the equal moment of the centrifugal force=% f ft',r)"
   ]
   }
,
{
		   "cell_type": "markdown",
		   "metadata": {},
		   "source": [
			"## Example 3.9: distance_horizantal_circle.sce"
		   ]
		  },
  {
"cell_type": "code",
	   "execution_count": null,
	   "metadata": {
	    "collapsed": true
	   },
	   "outputs": [],
"source": [
"//Solutions to Problems In applied mechanics\n",
"//A N Gobby\n",
"clear all;\n",
"clc\n",
"//initialisation of variables\n",
"l=3//ft\n",
"w=8//lbf\n",
"p=40//rev/min\n",
"q=6//ft\n",
"h=3.5//ft\n",
"g=32.2//ft\n",
"f=6//in\n",
"t=15.33//lbf\n",
"//CALCULATIONS\n",
"F=q/t//in/lbf\n",
"R=w*q/t//in\n",
"D=(h*w)/t*10//in\n",
"//RESULTS\n",
"printf('the distance horizantal circle=% f in',D)"
   ]
   }
],
"metadata": {
		  "kernelspec": {
		   "display_name": "Scilab",
		   "language": "scilab",
		   "name": "scilab"
		  },
		  "language_info": {
		   "file_extension": ".sce",
		   "help_links": [
			{
			 "text": "MetaKernel Magics",
			 "url": "https://github.com/calysto/metakernel/blob/master/metakernel/magics/README.md"
			}
		   ],
		   "mimetype": "text/x-octave",
		   "name": "scilab",
		   "version": "0.7.1"
		  }
		 },
		 "nbformat": 4,
		 "nbformat_minor": 0
}
