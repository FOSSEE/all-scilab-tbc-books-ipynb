{
"cells": [
 {
		   "cell_type": "markdown",
	   "metadata": {},
	   "source": [
       "# Chapter 11: Hydrostatics "
	   ]
	},
{
		   "cell_type": "markdown",
		   "metadata": {},
		   "source": [
			"## Example 11.1: depth_of_centre_of_pressure.sce"
		   ]
		  },
  {
"cell_type": "code",
	   "execution_count": null,
	   "metadata": {
	    "collapsed": true
	   },
	   "outputs": [],
"source": [
"//Solutions to Problems In applied mechanics\n",
"//A N Gobby\n",
"clear all;\n",
"clc\n",
"//initialisation of variables\n",
"w=62.5//lbf\n",
"a=4*6//ft\n",
"x=4//ft\n",
"l=(6*6^3)/3-(6*2^3)/3//ft^3\n",
"q=24*x//ft^3\n",
"//CALCULATIONS\n",
"T=w*a*x//lbf\n",
"P=l/q//ft\n",
"//RESULTS\n",
"printf('the depth of centre of pressure=% f ft',P)"
   ]
   }
,
{
		   "cell_type": "markdown",
		   "metadata": {},
		   "source": [
			"## Example 11.2: depth_of_centre_of_pressure.sce"
		   ]
		  },
  {
"cell_type": "code",
	   "execution_count": null,
	   "metadata": {
	    "collapsed": true
	   },
	   "outputs": [],
"source": [
"//Solutions to Problems In applied mechanics\n",
"//A N Gobby\n",
"clear all;\n",
"clc\n",
"//initialisation of variables\n",
"a=60//degre\n",
"w=2.5//ft\n",
"x=3//ft\n",
"p=6*3//ft^2\n",
"h=62.4//ft\n",
"p1=3*6^3/12//ft^4\n",
"//CALCULATIONS\n",
"D=w+x*sind(a)//ft\n",
"T=h*p*D//lbf\n",
"P=p1*sind(a)^2/(p*D)+D//ft\n",
"//RESULTS\n",
"printf('the depth of centre of pressure=% f ft',P)"
   ]
   }
,
{
		   "cell_type": "markdown",
		   "metadata": {},
		   "source": [
			"## Example 11.3: trap_door_width.sce"
		   ]
		  },
  {
"cell_type": "code",
	   "execution_count": null,
	   "metadata": {
	    "collapsed": true
	   },
	   "outputs": [],
"source": [
"//Solutions to Problems In applied mechanics\n",
"//A N Gobby\n",
"clear all;\n",
"clc\n",
"//initialisation of variables\n",
"t=62.5*4*1//lbf\n",
"a=2/3*2//ft\n",
"m=62.5*4*(4/3)//lbf\n",
"f=500*2//lbf ft\n",
"T=((62.5*2*2)/2)*1/3*2//lbf\n",
"H=(62.5*2*1)//ft\n",
"//CALCULATIONS\n",
"H1=f/[H+T]*2/2.9///ft\n",
"//RESULTS\n",
"printf('the trap door width=% f ft',H1)"
   ]
   }
,
{
		   "cell_type": "markdown",
		   "metadata": {},
		   "source": [
			"## Example 11.4: moment_of_resultant_force.sce"
		   ]
		  },
  {
"cell_type": "code",
	   "execution_count": null,
	   "metadata": {
	    "collapsed": true
	   },
	   "outputs": [],
"source": [
"//Solutions to Problems In applied mechanics\n",
"//A N Gobby\n",
"clear all;\n",
"clc\n",
"//initialisation of variables\n",
"g=6//ft\n",
"g1=50//ft\n",
"d=10//ft\n",
"w1=10//ft\n",
"w2=20//ft\n",
"w3=62.5//ft\n",
"t=w3*60*5//lbf\n",
"t2=8.37//tonf\n",
"t1=g1+t//lbf\n",
"H=26.4//ft\n",
"//CALCULATIONS\n",
"M=t*d/3//lbf ft\n",
"D=w3*w2*g*d//lbf\n",
"M1=D*(w2/3)//lbf ft\n",
"f=D-t//lbf\n",
"R=(M1-M)/f//ft\n",
"//RESULTS\n",
"printf('the moment of resultant force about gate base=% f ft',R)"
   ]
   }
,
{
		   "cell_type": "markdown",
		   "metadata": {},
		   "source": [
			"## Example 11.6: Moment_of_force.sce"
		   ]
		  },
  {
"cell_type": "code",
	   "execution_count": null,
	   "metadata": {
	    "collapsed": true
	   },
	   "outputs": [],
"source": [
"//Solutions to Problems In applied mechanics\n",
"//A N Gobby\n",
"clear all;\n",
"\n",
"clc\n",
"//initialisation of variables\n",
"w=62.5//lbf/ft\n",
"w1=1.5//ft\n",
"d=4//ft\n",
"w2=3//ft\n",
"g=0.8//in\n",
"p1=2/3*w1//ft\n",
"q=2/3*p1//ft\n",
"//CALCULATIONS\n",
"t1=w1*w*w1/2//lbf\n",
"p=(g*w*p1*p1)/2//lbf\n",
"A=g*w*p1*1/2//lbf\n",
"T=(w*1/2*1/2/2)//lbf\n",
"P=t1-p-A-T//lbf\n",
"h=2.9*P/(t1*1-(p*2)/3-(p*(1*1/4))-(T*1.33))//ft\n",
"F=P*a/w1//lbf\n",
"H=F/2//lbf\n",
"//RESULTS\n",
"printf('depth of forces=% f lbf',F)\n",
"printf('the moment of force on hinge=% f lbf',H)"
   ]
   }
],
"metadata": {
		  "kernelspec": {
		   "display_name": "Scilab",
		   "language": "scilab",
		   "name": "scilab"
		  },
		  "language_info": {
		   "file_extension": ".sce",
		   "help_links": [
			{
			 "text": "MetaKernel Magics",
			 "url": "https://github.com/calysto/metakernel/blob/master/metakernel/magics/README.md"
			}
		   ],
		   "mimetype": "text/x-octave",
		   "name": "scilab",
		   "version": "0.7.1"
		  }
		 },
		 "nbformat": 4,
		 "nbformat_minor": 0
}
