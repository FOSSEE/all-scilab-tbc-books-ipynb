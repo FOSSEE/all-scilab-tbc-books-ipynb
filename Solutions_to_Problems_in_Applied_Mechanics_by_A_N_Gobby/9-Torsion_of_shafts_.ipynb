{
"cells": [
 {
		   "cell_type": "markdown",
	   "metadata": {},
	   "source": [
       "# Chapter 9: Torsion of shafts "
	   ]
	},
{
		   "cell_type": "markdown",
		   "metadata": {},
		   "source": [
			"## Example 9.1: shear_stress.sce"
		   ]
		  },
  {
"cell_type": "code",
	   "execution_count": null,
	   "metadata": {
	    "collapsed": true
	   },
	   "outputs": [],
"source": [
"//Solutions to Problems In applied mechanics\n",
"//A N Gobby\n",
"clear all;\n",
"clc\n",
"//initialisation of variables\n",
"q=8000//lbf/in^2\n",
"r=9.25//in\n",
"G=12*10^6//lbf/in^2\n",
"t=1*%pi/180//rad\n",
"h=180//lbf ft\n",
"//CALCULATIONS\n",
"S=((G*%pi*r)/(q*h*2))//in\n",
"//RESULTS\n",
"printf('the shaft size and maximum shear stress=% f in',S)"
   ]
   }
,
{
		   "cell_type": "markdown",
		   "metadata": {},
		   "source": [
			"## Example 9.2: shaft_diameter.sce"
		   ]
		  },
  {
"cell_type": "code",
	   "execution_count": null,
	   "metadata": {
	    "collapsed": true
	   },
	   "outputs": [],
"source": [
"//Solutions to Problems In applied mechanics\n",
"//A N Gobby\n",
"clear all;\n",
"clc\n",
"//initialisation of variables\n",
"a=600000//lbf in\n",
"b=%pi*(4)^4/32//in^2\n",
"q=4000//in^2\n",
"//CALCULATIONS\n",
"D=sqrt((a)/q)*2/b*10//in\n",
"//RESULTS\n",
"printf('The shaft diameter=% f in',D)"
   ]
   }
,
{
		   "cell_type": "markdown",
		   "metadata": {},
		   "source": [
			"## Example 9.3: maximum_shear_stress.sce"
		   ]
		  },
  {
"cell_type": "code",
	   "execution_count": null,
	   "metadata": {
	    "collapsed": true
	   },
	   "outputs": [],
"source": [
"//Solutions to Problems In applied mechanics\n",
"//A N Gobby\n",
"clear all;\n",
"clc\n",
"//initialisation of variables\n",
"h1=4//in\n",
"d=40//hp\n",
"w=30//rev/min\n",
"t=33*1/3//degree\n",
"h=33000//lbf ft\n",
"G=12*10^6//lbf/in^2\n",
"q=1.33//lbf ft\n",
"j=12//in\n",
"//CALCULATIONS\n",
"M=((h*d)/(2*%pi*w))//lbf ft\n",
"N=M*q//lbf ft\n",
"H=((N*j*h1*1/2)/(%pi*(h1)^4/32))//lbf/in^2\n",
"A=((j*N*j*180)/(%pi*(h1)^4/32*G*%pi))//degree\n",
"//RESULTS\n",
"printf('the maximum shear stress=% f lbf/in^2',H)\n",
"printf('the angle of twist=% f degree',A)"
   ]
   }
,
{
		   "cell_type": "markdown",
		   "metadata": {},
		   "source": [
			"## Example 9.4: Angle_of_twist.sce"
		   ]
		  },
  {
"cell_type": "code",
	   "execution_count": null,
	   "metadata": {
	    "collapsed": true
	   },
	   "outputs": [],
"source": [
"//Solutions to Problems In applied mechanics\n",
"//A N Gobby\n",
"clear all;\n",
"clc\n",
"//initialisation of variables\n",
"h=6//in\n",
"h1=4//in\n",
"d=5000//kilowatt\n",
"g=2500//rev/min\n",
"f=8//in\n",
"l=20//in\n",
"G=12*10^6//lbf/in^2\n",
"p=746//watts\n",
"w=1000//in\n",
"q=33000//in\n",
"j=102.2//in^4\n",
"t=12//in\n",
"k=180//in\n",
"//CALCULATIONS\n",
"S=(d*w/p)//hp\n",
"T=((q*S)/(2*%pi*g))//lbf ft\n",
"Q=(t*T/j)*3//lbf/in^2\n",
"F=f*Q//lbf/in^2\n",
"A=((t*T*l*h*k)/(G*j*%pi))//degree\n",
"//RESULTS\n",
"printf('the angle of twist=% f degree',A)"
   ]
   }
,
{
		   "cell_type": "markdown",
		   "metadata": {},
		   "source": [
			"## Example 9.5: Bolt_diameter.sce"
		   ]
		  },
  {
"cell_type": "code",
	   "execution_count": null,
	   "metadata": {
	    "collapsed": true
	   },
	   "outputs": [],
"source": [
"//Solutions to Problems In applied mechanics\n",
"//A N Gobby\n",
"clear all;\n",
"clc\n",
"//initialisation of variables\n",
"d=7.5//in\n",
"m1=8000//lbf/in^2\n",
"m2=2000//lbf/in^2\n",
"h1=3//in\n",
"d1=2//in\n",
"d4=57//lbf in\n",
"W=2.74//lbf in\n",
"//CALCULATIONS\n",
"P=%pi*d1^4/32//in^4\n",
"M=(m1/1)*P//lbf in\n",
"T=M/(8*(d/d1))//lbf\n",
"A=T/m2//in^2\n",
"B=sqrt((4*A)/%pi)//in\n",
"//RESULTS\n",
"printf('the bolt diameter =% f in',B)"
   ]
   }
,
{
		   "cell_type": "markdown",
		   "metadata": {},
		   "source": [
			"## Example 9.6: Angular_rotation.sce"
		   ]
		  },
  {
"cell_type": "code",
	   "execution_count": null,
	   "metadata": {
	    "collapsed": true
	   },
	   "outputs": [],
"source": [
"//Solutions to Problems In applied mechanics\n",
"//A N Gobby\n",
"clear all;\n",
"\n",
"clc\n",
"//initialisation of variables\n",
"d=30//in\n",
"w=50//lbf ft\n",
"d1=10//in\n",
"G=12*10^6//lbf/in^2\n",
"T1=50//lbf ft\n",
"T2=16.7//lbf ft\n",
"J=4810//lbf ft\n",
"TA=w/3//lbf ft\n",
"Tab=w-TA//lbf ft\n",
"//CALCULATIONS\n",
"Ta=Tab-TA//lbf ft\n",
"Qmax=T3*G*(3/8)/(%pi/32)*(3/4)^4//lbf/in^2\n",
"M=(T3*12*d1)/(%pi/4*(3/4)^4*G)*(180/%pi)//degree\n",
"//RESULTS\n",
"printf('The couples required to hold the ends=% f lbf ft',Ta)\n",
"printf('The magnitude of the greatest shear stress set up in the shaft=% f lbf/in^2',Qmax)\n",
"printf('the angular rotation in degree of the section=% f degree',M)"
   ]
   }
],
"metadata": {
		  "kernelspec": {
		   "display_name": "Scilab",
		   "language": "scilab",
		   "name": "scilab"
		  },
		  "language_info": {
		   "file_extension": ".sce",
		   "help_links": [
			{
			 "text": "MetaKernel Magics",
			 "url": "https://github.com/calysto/metakernel/blob/master/metakernel/magics/README.md"
			}
		   ],
		   "mimetype": "text/x-octave",
		   "name": "scilab",
		   "version": "0.7.1"
		  }
		 },
		 "nbformat": 4,
		 "nbformat_minor": 0
}
