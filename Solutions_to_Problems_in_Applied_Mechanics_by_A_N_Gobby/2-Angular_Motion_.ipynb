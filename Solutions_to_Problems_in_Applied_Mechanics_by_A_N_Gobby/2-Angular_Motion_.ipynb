{
"cells": [
 {
		   "cell_type": "markdown",
	   "metadata": {},
	   "source": [
       "# Chapter 2: Angular Motion "
	   ]
	},
{
		   "cell_type": "markdown",
		   "metadata": {},
		   "source": [
			"## Example 2.10: torque_to_acceleratio.sce"
		   ]
		  },
  {
"cell_type": "code",
	   "execution_count": null,
	   "metadata": {
	    "collapsed": true
	   },
	   "outputs": [],
"source": [
"//Solutions to Problems In applied mechanics\n",
"//A N Gobby\n",
"clear all;\n",
"//torque to acceleration drum and truck\n",
"clc\n",
"//initialisation of variables\n",
"v=20//ft/s\n",
"s=150//ft\n",
"h=2240//ft\n",
"g=32.2//ft\n",
"d=3//ft\n",
"p=364.9//lbf\n",
"q=4//ft\n",
"//CALCULATIONS\n",
"A=v^2/(2*s)//ft/s^2\n",
"T=(h*(d)^2/g)*(A/q)+p*q//lbf ft\n",
"//RESULTS\n",
"printf('the torque to acceleration drum and truck=% f lbf ft',T)"
   ]
   }
,
{
		   "cell_type": "markdown",
		   "metadata": {},
		   "source": [
			"## Example 2.11: gravitational_force.sce"
		   ]
		  },
  {
"cell_type": "code",
	   "execution_count": null,
	   "metadata": {
	    "collapsed": true
	   },
	   "outputs": [],
"source": [
"//Solutions to Problems In applied mechanics\n",
"//A N Gobby\n",
"clear all;\n",
"clc\n",
"//gravitational force\n",
"//initialisation of variables\n",
"v=35//hp\n",
"p=25//percent\n",
"v1=30//mile/h\n",
"q=28//in\n",
"d=30//in\n",
"w=3200//lbf\n",
"t=33000//lbf\n",
"s=88//in\n",
"W=w*(1/v1)//lbf\n",
"m=0.364//mile/h\n",
"//CALCULATIONS\n",
"N=(v1*s/60)/(14/12)*(60/(2*%pi))//rev/min\n",
"Ne=N*6//rev/min\n",
"E=(v*t)/(2*%pi*Ne)//lbf ft\n",
"T=(v*0.75*t)/(2*%pi*N)//lbf ft\n",
"P=T/(14/12)//lbf\n",
"V=sqrt((P-W)/m)//mile/h\n",
"//RESULTS\n",
"printf('the gravitational force=% f mile/h',V)"
   ]
   }
,
{
		   "cell_type": "markdown",
		   "metadata": {},
		   "source": [
			"## Example 2.1: Motion_speed_and_inertia.sce"
		   ]
		  },
  {
"cell_type": "code",
	   "execution_count": null,
	   "metadata": {
	    "collapsed": true
	   },
	   "outputs": [],
"source": [
"//Solutions to Problems In applied mechanics\n",
"//A N Gobby\n",
"clear all;\n",
"clc\n",
"//equation of motion, Mass of moment of inertia, percentage \n",
"//reduction in speed\n",
"//initialisation of variables\n",
"g=5//ft\n",
"w=300//rev/min\n",
"a=0.86//red/s^2\n",
"h=2240//ft/s\n",
"q=4//ft\n",
"g1=32.1//ft/s\n",
"k=3105000//ft lbf\n",
"//CALCULATIONS\n",
"T=(w*(2*%pi/60))/(a)//sec\n",
"M=(q*h*(g^2))/(g1)//slug ft^3\n",
"K=((1/2)*M)*((w*2*%pi^2)/(60))//ft lbf\n",
"W=sqrt(k/(1/2)/M)//rad/s\n",
"P=[(((w*2*%pi)/60)-W)/((w*2*%pi)/60)]*100//percent\n",
"//RESULTS\n",
"printf('The equation of motion=% f sec',T)\n",
"printf('Mass of moment of inertia of =% f ft lbf',K)\n",
"printf('the percentage reduction in speed=% f percent',P)"
   ]
   }
,
{
		   "cell_type": "markdown",
		   "metadata": {},
		   "source": [
			"## Example 2.2: radius_of_gyratio.sce"
		   ]
		  },
  {
"cell_type": "code",
	   "execution_count": null,
	   "metadata": {
	    "collapsed": true
	   },
	   "outputs": [],
"source": [
"//Solutions to Problems In applied mechanics\n",
"//A N Gobby\n",
"clear all;\n",
"clc\n",
"//radius of gyration\n",
"//initialisation of variables\n",
"m=2.58065//slug ft^3\n",
"w=2.144//in\n",
"//CALCULATIONS\n",
"R=sqrt(m/w)//ft\n",
"//RESULTS\n",
"printf('The radius of gyration=% f ft',R)"
   ]
   }
,
{
		   "cell_type": "markdown",
		   "metadata": {},
		   "source": [
			"## Example 2.3: distance_travelled_along_incline.sce"
		   ]
		  },
  {
"cell_type": "code",
	   "execution_count": null,
	   "metadata": {
	    "collapsed": true
	   },
	   "outputs": [],
"source": [
"//Solutions to Problems In applied mechanics\n",
"//A N Gobby\n",
"clear all;\n",
"//distance travelled along incline before coming to rest\n",
"clc\n",
"//initialisation of variables\n",
"w1=10//tonf\n",
"r=36//in\n",
"w=1/4//tonf\n",
"g=14//in\n",
"t=30//mile/h\n",
"s=100//in\n",
"m=20//lbf/tonf\n",
"h=2240//lbf\n",
"q=44//in\n",
"g1=32.2//ft\n",
"//CALCULATIONS\n",
"K=(w1*h*(q^2))/(2*g1)//ft lbf \n",
"L=q/1.5//rad/s\n",
"R=(2*1/2*(1/4*h/g1)*(g/12)^2)*L^2//ft lbf\n",
"T=K+R//ft lbf\n",
"M=m*w1//lbf\n",
"G=w1*h*(1/s)//lbf\n",
"S=K/(M+G)//ft\n",
"//RESULTS\n",
"printf('the distance travelled along incline before coming to rest=% f ft',S)"
   ]
   }
,
{
		   "cell_type": "markdown",
		   "metadata": {},
		   "source": [
			"## Example 2.4: percentage_fluctuation.sce"
		   ]
		  },
  {
"cell_type": "code",
	   "execution_count": null,
	   "metadata": {
	    "collapsed": true
	   },
	   "outputs": [],
"source": [
"//Solutions to Problems In applied mechanics\n",
"//A N Gobby\n",
"clear all;\n",
"clc\n",
"//percentage fluctuation in speed\n",
"//initialisation of variables\n",
"g=32.2//ft\n",
"p=275//rev/min\n",
"w=1/2*p//ft\n",
"d=15//hp\n",
"h=33000//ft\n",
"r=0.8//ft\n",
"h1=2240//ft\n",
"m=p*(2*%pi/60)//rad/s\n",
"//CALCULATIONS\n",
"W=(d*h)/w//ft lbf\n",
"E=r*W//ft lbf\n",
"I=(1*h1*(3)^2)/(g)//slug ft^2\n",
"Q=(E*100)/(I*(m)^2*2)//percent\n",
"//RESULTS\n",
"printf('the percentage fluctuation in speed=% f percent',Q)"
   ]
   }
,
{
		   "cell_type": "markdown",
		   "metadata": {},
		   "source": [
			"## Example 2.5: frictional_torque_in_stopping_flywheel.sce"
		   ]
		  },
  {
"cell_type": "code",
	   "execution_count": null,
	   "metadata": {
	    "collapsed": true
	   },
	   "outputs": [],
"source": [
"//Solutions to Problems In applied mechanics\n",
"//A N Gobby\n",
"clear all;\n",
"clc\n",
"//weight of flywheel and the work done by frictional torque\n",
"//initialisation of variables\n",
"w=140//rev\n",
"r=8//in\n",
"g=12//in\n",
"t=30//mile/h\n",
"q=(1/4)//tonf\n",
"I=0.99//slug ft^3\n",
"p=32.2//ft^2\n",
"//CALCULATIONS\n",
"W=(I*p)/(r/g)^2//lbf\n",
"T=(I*(2*%pi)^2)/(2*(2*%pi)*w)//lbf ft\n",
"//RESULTS\n",
"printf('The weight of flywheel=% f lbf',W)\n",
"printf('the work done by frictional torque in stopping flywheel=% f lbf ft',T)"
   ]
   }
,
{
		   "cell_type": "markdown",
		   "metadata": {},
		   "source": [
			"## Example 2.6: Kinetic_energy_and_force.sce"
		   ]
		  },
  {
"cell_type": "code",
	   "execution_count": null,
	   "metadata": {
	    "collapsed": true
	   },
	   "outputs": [],
"source": [
"//Solutions to Problems In applied mechanics\n",
"//A N Gobby\n",
"clear all;\n",
"//mass moment of inertia, kinetic enrgy and shear blades\n",
"clc\n",
"//initialisation of variables\n",
"w=2//tonf\n",
"t=250//rev/min\n",
"g=32.2//ft\n",
"h=2240//ft\n",
"f=0.8//percent\n",
"t1=60//ft\n",
"s=1*(2/3)//min\n",
"r=480//ft\n",
"w1=20//ft\n",
"//CALCULATIONS\n",
"M=(w*h*(w^2))/g//slug ft^2\n",
"A=(t*(w*%pi/t1))/t1*s//rad/s^2\n",
"I=M*A//lbf ft\n",
"K=1/2*(M)*(2*%pi/t1)^2*r*w1//ft lbf\n",
"F=f*K/(3/12)//lbf\n",
"//RESULTS\n",
"printf('the mass moment of inertia =% f lbf ft',I)\n",
"printf('the kinetic energy=% f ft lbf',K)\n",
"printf('the average force on the shear blades=% f lbf',F)"
   ]
   }
,
{
		   "cell_type": "markdown",
		   "metadata": {},
		   "source": [
			"## Example 2.7: tangential_braking_acting.sce"
		   ]
		  },
  {
"cell_type": "code",
	   "execution_count": null,
	   "metadata": {
	    "collapsed": true
	   },
	   "outputs": [],
"source": [
"//Solutions to Problems In applied mechanics\n",
"//A N Gobby\n",
"clear all;\n",
"clc\n",
"//frictional torque retarding and tangential braking acting\n",
"//initialisation of variables\n",
"h=2240//ft\n",
"w=0.06//ft\n",
"w1=4//ft\n",
"q=12//ft\n",
"g=5//ft\n",
"g1=32.2//ft\n",
"d=100//rev/min\n",
"f=120//sec\n",
"//CALCULATIONS\n",
"T=w*(w1*h)*(w1/q)//lbf ft\n",
"I=((w1*h*(g)^2)/g1)*d*(2*%pi/60)//slug ft^2/s or lbf ft s\n",
"M=I/T//sec\n",
"P=430.8//lbf ft\n",
"R=(P/2.5)//lbf\n",
"//RESULTS\n",
"printf('the frictional torque retarding=% f sec',M)\n",
"printf('the tangential braking acting=% f lbf',R)"
   ]
   }
,
{
		   "cell_type": "markdown",
		   "metadata": {},
		   "source": [
			"## Example 2.8: tangential_force_on_brake.sce"
		   ]
		  },
  {
"cell_type": "code",
	   "execution_count": null,
	   "metadata": {
	    "collapsed": true
	   },
	   "outputs": [],
"source": [
"//Solutions to Problems In applied mechanics\n",
"//A N Gobby\n",
"clear all;\n",
"//tangential force\n",
"clc\n",
"//initialisation of variables\n",
"I=179.2//lbf ft\n",
"h=2240//ft\n",
"w=4//ft\n",
"w1=5//ft\n",
"r=120//ft\n",
"g=32.2//ft\n",
"p=100//ft\n",
"t=60//ft\n",
"//CALCULATIONS\n",
"M=(w*h*(w1)^2)/g//slug ft^3\n",
"T=I/M//rad/s\n",
"D=p*(2*%pi)/(t*T)//sec\n",
"N=(p*(2*%pi)/t)/r//rad/s^2\n",
"T1=M*N//lbf ft\n",
"B=T1-I//lbf ft\n",
"F=B/2*1/2//lbf\n",
"//RESULTS\n",
"printf('the deceleration =% f sec',D)\n",
"printf('the tangential force on brake rim=% f lbf',F)"
   ]
   }
,
{
		   "cell_type": "markdown",
		   "metadata": {},
		   "source": [
			"## Example 2.9: friction_of_bearings_is_to_to_neglected.sce"
		   ]
		  },
  {
"cell_type": "code",
	   "execution_count": null,
	   "metadata": {
	    "collapsed": true
	   },
	   "outputs": [],
"source": [
"//Solutions to Problems In applied mechanics\n",
"//A N Gobby\n",
"clear all;\n",
"//friction of bearings is to to neglected\n",
"clc\n",
"//initialisation of variables\n",
"h=2240//ft\n",
"g=32.2//ft\n",
"g1=15//in\n",
"w=1200//lbf\n",
"q=12//ft\n",
"r=1.5//ft\n",
"t=3.28//tonf ft\n",
"t1=1.7//tonf ft\n",
"x=550//ft\n",
"s=6//ft\n",
"//CALCULATIONS\n",
"T=((w*(g1/q)^2)/(h*g))*(3/r)//tonf ft\n",
"T1=t-t1+T//tonf ft\n",
"W=(T1*h*s/(r))/(x)//ft lbf\n",
"//RESULTS\n",
"printf('the friction of bearings is to to neglected =% f',W)"
   ]
   }
],
"metadata": {
		  "kernelspec": {
		   "display_name": "Scilab",
		   "language": "scilab",
		   "name": "scilab"
		  },
		  "language_info": {
		   "file_extension": ".sce",
		   "help_links": [
			{
			 "text": "MetaKernel Magics",
			 "url": "https://github.com/calysto/metakernel/blob/master/metakernel/magics/README.md"
			}
		   ],
		   "mimetype": "text/x-octave",
		   "name": "scilab",
		   "version": "0.7.1"
		  }
		 },
		 "nbformat": 4,
		 "nbformat_minor": 0
}
