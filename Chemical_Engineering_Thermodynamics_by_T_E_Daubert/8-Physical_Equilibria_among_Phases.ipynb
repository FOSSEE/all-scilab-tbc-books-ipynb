{
"cells": [
 {
		   "cell_type": "markdown",
	   "metadata": {},
	   "source": [
       "# Chapter 8: Physical Equilibria among Phases"
	   ]
	},
{
		   "cell_type": "markdown",
		   "metadata": {},
		   "source": [
			"## Example 8.10_a: Example_10a.sce"
		   ]
		  },
  {
"cell_type": "code",
	   "execution_count": null,
	   "metadata": {
	    "collapsed": true
	   },
	   "outputs": [],
"source": [
"clc\n",
"clear\n",
"//Initialization of variables\n",
"v1=0.1316\n",
"v2=0.2941\n",
"x1=0.5\n",
"x2=0.2\n",
"x3=0.8  \n",
"d1=14.87\n",
"d2=16.34\n",
"//calculations and results\n",
"vm=x1*(v1+v2)\n",
"phi1=x1*v1/vm\n",
"phi2=(1-x1)*v2/vm\n",
"Hl1=vm*phi1*phi2*(d1-d2)^2 *10^3\n",
"disp('case 1')\n",
"printf('enthalpy = %.1f kJ/mol',Hl1)"
   ]
   }
,
{
		   "cell_type": "markdown",
		   "metadata": {},
		   "source": [
			"## Example 8.10_b: Example_10b.sce"
		   ]
		  },
  {
"cell_type": "code",
	   "execution_count": null,
	   "metadata": {
	    "collapsed": true
	   },
	   "outputs": [],
"source": [
"clc\n",
"clear\n",
"//Initialization of variables\n",
"v1=0.1316\n",
"v2=0.2941\n",
"x1=0.5\n",
"x2=0.2\n",
"x3=0.8  \n",
"d1=14.87\n",
"d2=16.34\n",
"//calculations and results\n",
"vm=(1-x2)*v1+x2*v2\n",
"phi1=(1-x2)*v1/vm\n",
"phi2=(x2)*v2/vm\n",
"Hl2=vm*phi1*phi2*(d1-d2)^2 *10^3\n",
"disp('case 2')\n",
"printf('enthalpy = %.1f kJ/mol',Hl2)\n",
""
   ]
   }
,
{
		   "cell_type": "markdown",
		   "metadata": {},
		   "source": [
			"## Example 8.10_c: Example_10c.sce"
		   ]
		  },
  {
"cell_type": "code",
	   "execution_count": null,
	   "metadata": {
	    "collapsed": true
	   },
	   "outputs": [],
"source": [
"clc\n",
"clear\n",
"//Initialization of variables\n",
"v1=0.1316\n",
"v2=0.2941\n",
"x1=0.5\n",
"x2=0.2\n",
"x3=0.8  \n",
"d1=14.87\n",
"d2=16.34\n",
"//calculations and results\n",
"vm=(1-x3)*v1+x3*v2\n",
"phi1=(1-x3)*v1/vm\n",
"phi2=(x3)*v2/vm\n",
"Hl3=vm*phi1*phi2*(d1-d2)^2 *10^3\n",
"disp('case 3')\n",
"printf('enthalpy = %.1f kJ/mol',Hl3)\n",
""
   ]
   }
,
{
		   "cell_type": "markdown",
		   "metadata": {},
		   "source": [
			"## Example 8.1: Example_1.sce"
		   ]
		  },
  {
"cell_type": "code",
	   "execution_count": null,
	   "metadata": {
	    "collapsed": true
	   },
	   "outputs": [],
"source": [
"clc\n",
"clear\n",
"//Initialization of variables\n",
"function V = func(C,phi)\n",
"    V=C+2-phi\n",
"endfunction\n",
"//calculations and results\n",
"disp('part a')\n",
"printf('degrees of freedom = %d ',func(2,2))\n",
"disp('part b')\n",
"printf('degrees of freedom = %d ',func(3,2))\n",
"disp('part c')\n",
"printf('degrees of freedom = %d ',func(3,3))"
   ]
   }
,
{
		   "cell_type": "markdown",
		   "metadata": {},
		   "source": [
			"## Example 8.2: Example_2.sce"
		   ]
		  },
  {
"cell_type": "code",
	   "execution_count": null,
	   "metadata": {
	    "collapsed": true
	   },
	   "outputs": [],
"source": [
"clc\n",
"clear\n",
"//Initialization of variables\n",
"T=95 //C\n",
"P=1013 //kPa\n",
"Tc=135 //C\n",
"Pc=3648 //kPa\n",
"T0=273.1 //C\n",
"D=0.3\n",
"P0=1800 //kPa\n",
"D2=0.42\n",
"//calculations\n",
"Zc=0.283\n",
"Tr=(T+T0)/(Tc+T0)\n",
"Pr=P/Pc\n",
"phic=0.88\n",
"phi2=phic*10^(D*0.013)\n",
"Prd= P0/Pc\n",
"phi3=0.78\n",
"phi4= phi3*10^(D2*0.013)\n",
"gl= phi2*P/(phi3*P0)\n",
"//results\n",
"printf('equation is gl = %.3f *(y/x)',gl)"
   ]
   }
,
{
		   "cell_type": "markdown",
		   "metadata": {},
		   "source": [
			"## Example 8.3: Example_3.sce"
		   ]
		  },
  {
"cell_type": "code",
	   "execution_count": null,
	   "metadata": {
	    "collapsed": true
	   },
	   "outputs": [],
"source": [
"clc\n",
"clear\n",
"//Initialization of variables\n",
"ye=0.434\n",
"Pt=40.25 //kPa\n",
"xe=0.616\n",
"Pe1=22.9 //kPa\n",
"Pe2=29.6 //kPa\n",
"//calculations\n",
"ge= ye*Pt/(xe*Pe1)\n",
"gb=(1-ye)*Pt/((1-xe)*Pe2)\n",
"E= log10(ge) *(1+ (1-xe)*log(gb) /(xe*log(ge)))^2\n",
"B= log10(gb) *(1+ xe/(1-xe) *log(ge) /log(gb))^2\n",
"xe2=0.4\n",
"xb2=0.6\n",
"lnge2=E/(1+ E*xe2/(B*xb2))^2\n",
"lngb2=B/(1+ B*xb2/(E*xe2))^2\n",
"ge2=10^(lnge2)\n",
"gb2=10^(lngb2)\n",
"Pt1=ge2*Pe1\n",
"Pt2=gb2*Pe2\n",
"//results\n",
"printf('Total pressure in case 1  = %.2f kPa and in case 2 = %.2f kPa',Pt1, Pt2 )"
   ]
   }
,
{
		   "cell_type": "markdown",
		   "metadata": {},
		   "source": [
			"## Example 8.4: Example_4.sce"
		   ]
		  },
  {
"cell_type": "code",
	   "execution_count": null,
	   "metadata": {
	    "collapsed": true
	   },
	   "outputs": [],
"source": [
"clc\n",
"clear\n",
"//Initialization of variables\n",
"k4=1.8\n",
"k5=0.8\n",
"//calculations\n",
"A=[k4 k5;1 1]\n",
"b=[1; 1]\n",
"C=A\b\n",
"x4=C(1)\n",
"x5=C(2)\n",
"y4=k4*x4\n",
"y5=k5*x5\n",
"//results\n",
"printf('Vapor and liquid mole fractions of component 1 = %.2f and %.2f respectively',y4,x4)\n",
"printf('\n Vapor and liquid mole fractions of component 2 = %.2f and %.2f respectively',y5,x5)"
   ]
   }
,
{
		   "cell_type": "markdown",
		   "metadata": {},
		   "source": [
			"## Example 8.5: Example_5.sce"
		   ]
		  },
  {
"cell_type": "code",
	   "execution_count": null,
	   "metadata": {
	    "collapsed": true
	   },
	   "outputs": [],
"source": [
"clc\n",
"clear\n",
"//Initialization of variables\n",
"v1=81 //cm^3/gmol\n",
"v2=97 //cm^3/gmol\n",
"d1=9.2 //(cal/cm^3)^0.5\n",
"d2=8.6 //(cal/cm^3)^0.5\n",
"R=1.987\n",
"T=373.1 //K\n",
"//calculations\n",
"d=0.5*(d1+d2)\n",
"lng1=v1*(d1-d)^2 /(R*T)\n",
"lng2=v2*(d2-d)^2 /(R*T)\n",
"g1=exp(lng1)\n",
"g2=exp(lng2)\n",
"//results\n",
"printf('Activity coeffecients of components are %.3f and %.3f respectively',g1,g2)"
   ]
   }
,
{
		   "cell_type": "markdown",
		   "metadata": {},
		   "source": [
			"## Example 8.6: Example_6.sce"
		   ]
		  },
  {
"cell_type": "code",
	   "execution_count": null,
	   "metadata": {
	    "collapsed": true
	   },
	   "outputs": [],
"source": [
"clc\n",
"clear\n",
"//Initialization of variables\n",
"xe=0.3\n",
"xe2=0.9\n",
"Pe0=810\n",
"Pa0=470\n",
"ge=1.85\n",
"ge2=1.05\n",
"ga=1.15\n",
"ga2=3\n",
"Pt=820 //mm\n",
"Pt2=900 //mm\n",
"//calculations\n",
"ye=ge*xe*Pe0/Pt\n",
"ya=ga*(1-xe)*Pa0/Pt\n",
"yt=ye+ya\n",
"ye2=ye/yt\n",
"ya2=ya/yt\n",
"ye3=ge2*xe2*Pe0/Pt2\n",
"ya3=ga2*(1-xe2)*Pa0/Pt2\n",
"yt2=ye+ya\n",
"ye4=ye3/yt2\n",
"ya4=ya3/yt2\n",
"//results\n",
"printf('In case 1, ye = %.3f and ya = %.3f',ye2,ya2)\n",
"printf('\n In case 1, ye = %.3f and ya = %.3f',ye4,ya4)\n",
"disp('The calculations of ya in case 1 in textbook is wrong. please use a calculator')"
   ]
   }
,
{
		   "cell_type": "markdown",
		   "metadata": {},
		   "source": [
			"## Example 8.7: Example_7.sce"
		   ]
		  },
  {
"cell_type": "code",
	   "execution_count": null,
	   "metadata": {
	    "collapsed": true
	   },
	   "outputs": [],
"source": [
"clc\n",
"clear\n",
"//Initialization of variables\n",
"m1=121\n",
"m2=18\n",
"p1=0.0042\n",
"p2=0.0858\n",
"//calculations\n",
"massfrac= (p1*m1)/(p1*m1+p2*m2)\n",
"//results\n",
"printf('mass fractions of DMA and water are %.3f and %.3f respectively',massfrac,1-massfrac)"
   ]
   }
,
{
		   "cell_type": "markdown",
		   "metadata": {},
		   "source": [
			"## Example 8.9: Example_9.sce"
		   ]
		  },
  {
"cell_type": "code",
	   "execution_count": null,
	   "metadata": {
	    "collapsed": true
	   },
	   "outputs": [],
"source": [
"clc\n",
"clear\n",
"//Initialization of variables\n",
"FR=25\n",
"FE=19\n",
"bf=130 //kg\n",
"af=85 //kg\n",
"//calculations\n",
"law=FR/FE\n",
"x1=45/150\n",
"x2=65/150\n",
"ER=18.5/6\n",
"e=[0.5 0.1 0.9]\n",
"r=[0.28 0.96 0.04]\n",
"et=sum(e)\n",
"rt=sum(r)\n",
"ett=e/et\n",
"rtt=r/rt\n",
"//results\n",
"disp('the compositions of raffinate are ')\n",
"disp(rtt)\n",
"disp('the compositions of extract are')\n",
"disp(ett)"
   ]
   }
],
"metadata": {
		  "kernelspec": {
		   "display_name": "Scilab",
		   "language": "scilab",
		   "name": "scilab"
		  },
		  "language_info": {
		   "file_extension": ".sce",
		   "help_links": [
			{
			 "text": "MetaKernel Magics",
			 "url": "https://github.com/calysto/metakernel/blob/master/metakernel/magics/README.md"
			}
		   ],
		   "mimetype": "text/x-octave",
		   "name": "scilab",
		   "version": "0.7.1"
		  }
		 },
		 "nbformat": 4,
		 "nbformat_minor": 0
}
