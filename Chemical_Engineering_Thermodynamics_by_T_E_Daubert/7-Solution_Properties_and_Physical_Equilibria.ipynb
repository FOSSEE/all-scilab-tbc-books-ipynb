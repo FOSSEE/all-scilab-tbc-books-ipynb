{
"cells": [
 {
		   "cell_type": "markdown",
	   "metadata": {},
	   "source": [
       "# Chapter 7: Solution Properties and Physical Equilibria"
	   ]
	},
{
		   "cell_type": "markdown",
		   "metadata": {},
		   "source": [
			"## Example 7.2: Example_2.sce"
		   ]
		  },
  {
"cell_type": "code",
	   "execution_count": null,
	   "metadata": {
	    "collapsed": true
	   },
	   "outputs": [],
"source": [
"clc\n",
"clear\n",
"//Initialization of variables\n",
"T=154.5 //C\n",
"P=8620*10^3 //Pa\n",
"Tc=135 //C\n",
"T0=273.1 //C\n",
"Pc=3648*10^3 //Pa\n",
"w=0.1756\n",
"V=0.154 \n",
"R=8.3143*10^3\n",
"//calculations\n",
"Tr=(T+T0)/(T0+Tc)\n",
"Pr= P/Pc\n",
"Z=P*V/(R*(T+T0))\n",
"a= 0.42747*R^2 *(Tc+T0)^2 /Pc *(1+ (0.48508 + 1.55171*w - 0.15613*w^2)*(1-sqrt(Tr)))^2\n",
"b=0.08664*R*(Tc+T0)/Pc\n",
"A= a*P/(R^2 *(T+T0)^2)\n",
"B=b*P/(R*(T+T0))\n",
"lnphi= (Z-1) - log(Z-B) - A/B *log((Z+B)/Z) \n",
"phi=exp(lnphi)\n",
"f=phi*P\n",
"//results\n",
"printf('fugacity = %d kPa',f/10^3)\n",
"//The answer is a bit different due to rounding off error in textbook"
   ]
   }
,
{
		   "cell_type": "markdown",
		   "metadata": {},
		   "source": [
			"## Example 7.3: Example_3.sce"
		   ]
		  },
  {
"cell_type": "code",
	   "execution_count": null,
	   "metadata": {
	    "collapsed": true
	   },
	   "outputs": [],
"source": [
"clc\n",
"clear\n",
"//Initialization of variables\n",
"T=154.5 //C\n",
"P=8620*10^3 //Pa\n",
"Tc=135 //C\n",
"T0=273.1 //C\n",
"Pc=3648*10^3 //Pa\n",
"w=0.1756\n",
"V=0.154 \n",
"R=8.3143*10^3\n",
"D=0.35\n",
"Vc=0.263 //m^3/kmol\n",
"//calculations\n",
"Tr=(T+T0)/(T0+Tc)\n",
"Pr= P/Pc\n",
"Zc=Pc*Vc/(R*(Tc+T0))\n",
"phi1=0.44\n",
"phi2=phi1*10^(D*(Zc-0.27))\n",
"f=phi2*P\n",
"//results\n",
"printf('fugacity = %d kPa',f/10^3)"
   ]
   }
,
{
		   "cell_type": "markdown",
		   "metadata": {},
		   "source": [
			"## Example 7.4: Example_4.sce"
		   ]
		  },
  {
"cell_type": "code",
	   "execution_count": null,
	   "metadata": {
	    "collapsed": true
	   },
	   "outputs": [],
"source": [
"clc\n",
"clear\n",
"//Initialization of variables\n",
"f0=0.7\n",
"\n",
"V=5.1e-2\n",
"P1=0.77 //Mpa\n",
"P2=10 //Mpa\n",
"R=8.3143*10^3\n",
"T=298 //K\n",
"//calculations\n",
"lnr= V/(R*T) *(P2-P1)*10^6\n",
"f=exp(lnr) *f0\n",
"//results\n",
"printf('Fugacity = %.3f Mpa',f)"
   ]
   }
,
{
		   "cell_type": "markdown",
		   "metadata": {},
		   "source": [
			"## Example 7.5: Example_5.sce"
		   ]
		  },
  {
"cell_type": "code",
	   "execution_count": null,
	   "metadata": {
	    "collapsed": true
	   },
	   "outputs": [],
"source": [
"clc\n",
"clear\n",
"//Initialization of variables\n",
"Pt=0.1013\n",
"ya=0.605\n",
"P1=0.1373\n",
"P2=0.06\n",
"xa=0.4\n",
"//calculations\n",
"if ya*Pt == xa*Pt & (1-ya)*Pt == (1-xa)*Pt then\n",
"    printf('The system is ideal')\n",
"else\n",
"    printf('The system is not ideal')\n",
"end"
   ]
   }
,
{
		   "cell_type": "markdown",
		   "metadata": {},
		   "source": [
			"## Example 7.6: Example_6.sce"
		   ]
		  },
  {
"cell_type": "code",
	   "execution_count": null,
	   "metadata": {
	    "collapsed": true
	   },
	   "outputs": [],
"source": [
"clc\n",
"clear\n",
"//Initialization of variables\n",
"Y=0.06\n",
"X=0.0012\n",
"P=2.53 //Mpa\n",
"//calculations\n",
"y=Y/(1+Y)\n",
"x=X/(1+X)\n",
"H=y*P/x\n",
"//results\n",
"printf('Henrys law constant = %.2f Mpa',H)"
   ]
   }
,
{
		   "cell_type": "markdown",
		   "metadata": {},
		   "source": [
			"## Example 7.7: Example_7.sce"
		   ]
		  },
  {
"cell_type": "code",
	   "execution_count": null,
	   "metadata": {
	    "collapsed": true
	   },
	   "outputs": [],
"source": [
"clc\n",
"clear\n",
"//Initialization of variables\n",
"Hi=55\n",
"Pi=11.8\n",
"xi=0.514\n",
"H2=18.1\n",
"H3=26.9\n",
"Pi2=17.4\n",
"//calculations\n",
"ai=Pi/Hi\n",
"gam=ai/xi\n",
"a2=Pi/H2\n",
"gam2=a2/xi\n",
"a3=Pi2/H3\n",
"gam3=a3/(1-xi)\n",
"//results\n",
"disp('part a')\n",
"printf('Activity of acetic acid = %.4f ',ai)\n",
"printf('\n Activity coefficient  = %.4f ',gam)\n",
"\n",
"disp('part b')\n",
"printf('Activity of acetic acid = %.4f ',a2)\n",
"printf('\n Activity coefficient  = %.4f ',gam2)\n",
"\n",
"disp('part c')\n",
"printf('Activity of toluene = %.4f ',a3)\n",
"printf('\n Activity coefficient  = %.4f ',gam3)"
   ]
   }
],
"metadata": {
		  "kernelspec": {
		   "display_name": "Scilab",
		   "language": "scilab",
		   "name": "scilab"
		  },
		  "language_info": {
		   "file_extension": ".sce",
		   "help_links": [
			{
			 "text": "MetaKernel Magics",
			 "url": "https://github.com/calysto/metakernel/blob/master/metakernel/magics/README.md"
			}
		   ],
		   "mimetype": "text/x-octave",
		   "name": "scilab",
		   "version": "0.7.1"
		  }
		 },
		 "nbformat": 4,
		 "nbformat_minor": 0
}
