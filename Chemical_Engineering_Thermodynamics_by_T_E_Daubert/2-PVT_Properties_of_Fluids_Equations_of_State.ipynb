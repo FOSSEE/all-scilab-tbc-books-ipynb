{
"cells": [
 {
		   "cell_type": "markdown",
	   "metadata": {},
	   "source": [
       "# Chapter 2: PVT Properties of Fluids Equations of State"
	   ]
	},
{
		   "cell_type": "markdown",
		   "metadata": {},
		   "source": [
			"## Example 2.1: Example_1.sce"
		   ]
		  },
  {
"cell_type": "code",
	   "execution_count": null,
	   "metadata": {
	    "collapsed": true
	   },
	   "outputs": [],
"source": [
"clc\n",
"clear\n",
"//Initialization of variables\n",
"basis = 1 //kmol n butane\n",
"P=1.013*10^5 //N/m^2\n",
"R=8.3143*10^3 //J/kmol K\n",
"T=272.6 //K\n",
"//calculations\n",
"V=basis*R*T/P\n",
"Ts=373.1 //K\n",
"Vs=basis*R*Ts/P\n",
"//results\n",
"printf('Volume in case 1 = %.2f m^3',V)\n",
"printf('\n Volume in case 2 = %.2f m^3',Vs)"
   ]
   }
,
{
		   "cell_type": "markdown",
		   "metadata": {},
		   "source": [
			"## Example 2.2: Example_2.sce"
		   ]
		  },
  {
"cell_type": "code",
	   "execution_count": null,
	   "metadata": {
	    "collapsed": true
	   },
	   "outputs": [],
"source": [
"clc\n",
"clear\n",
"//Initialization of variables\n",
"Vb=30 //m^3/kmol\n",
"P=1.013*10^5 //Pa\n",
"R=8.3143*10^3 //J/kmol K\n",
"T=373.1 //K\n",
"//calculations\n",
"Z=P*Vb/(R*T)\n",
"//results\n",
"printf('Compressibility factor = %.3f',Z)"
   ]
   }
,
{
		   "cell_type": "markdown",
		   "metadata": {},
		   "source": [
			"## Example 2.3: Example_3.sce"
		   ]
		  },
  {
"cell_type": "code",
	   "execution_count": null,
	   "metadata": {
	    "collapsed": true
	   },
	   "outputs": [],
"source": [
"clc\n",
"clear\n",
"//Initialization of variables\n",
"Pc=22.12*10^6 //Pa\n",
"Tc=647.3 //K\n",
"Vc=0.05697 //m^3/Kmol\n",
"R=8.3143*10^3\n",
"Tr=0.7\n",
"//calculations\n",
"Zc=Pc*Vc/(R*Tc) \n",
"T=Tr*Tc\n",
"Ps=10^6 //Pa\n",
"w=-log10(Ps/Pc) -1\n",
"//results\n",
"printf('critical compressibility factor  = %.3f',Zc)\n",
"printf('\n Accentric factor = %.4f',w)"
   ]
   }
,
{
		   "cell_type": "markdown",
		   "metadata": {},
		   "source": [
			"## Example 2.4_b: Example_4b.sce"
		   ]
		  },
  {
"cell_type": "code",
	   "execution_count": null,
	   "metadata": {
	    "collapsed": true
	   },
	   "outputs": [],
"source": [
"clc\n",
"clear\n",
"//Initialization of variables\n",
"basis= 1 //kmol ammonia\n",
"P=10^6 //pa\n",
"a=4.19\n",
"b=0.0373\n",
"R=8314.3\n",
"Tc=405.5\n",
"Pc=11.28*10^6\n",
"//calculations\n",
"disp('part b')\n",
"an=27*R^2*Tc^2 /(64*Pc)\n",
"bn=R*Tc/(8*Pc)\n",
"V=3\n",
"//results\n",
"printf('Since an and bn are same as a and b, V is the same = %d m^3/kmol',V)"
   ]
   }
,
{
		   "cell_type": "markdown",
		   "metadata": {},
		   "source": [
			"## Example 2.4_c: Example_4c.sce"
		   ]
		  },
  {
"cell_type": "code",
	   "execution_count": null,
	   "metadata": {
	    "collapsed": true
	   },
	   "outputs": [],
"source": [
"clc\n",
"clear\n",
"//Initialization of variables\n",
"disp('part c')\n",
"disp('USing SRK equation, P= RT/(V-b) -alph*a/(V*(V+b))')\n",
"disp('By trail and error method,')\n",
"//calculations\n",
"v2=2.98\n",
"//results\n",
"printf('volume = %.2f m^3/kmol',v2)\n",
""
   ]
   }
,
{
		   "cell_type": "markdown",
		   "metadata": {},
		   "source": [
			"## Example 2.4: Example_4.sce"
		   ]
		  },
  {
"cell_type": "code",
	   "execution_count": null,
	   "metadata": {
	    "collapsed": true
	   },
	   "outputs": [],
"source": [
"clc\n",
"clear\n",
"//Initialization of variables\n",
"basis= 1 //kmol ammonia\n",
"P=10^6 //pa\n",
"a=4.19\n",
"b=0.0373\n",
"R=8314.3\n",
"Tc=405.5\n",
"Pc=11.28*10^6\n",
"//calculations\n",
"disp('case a')\n",
"disp('Using vandwerwaals equation, ')\n",
"disp('(P+a/v^2)*(V-b) = R*T, on solving by trail and error method,')\n",
"V=3\n",
"printf('Volume = %d m^3/kmol',V)"
   ]
   }
,
{
		   "cell_type": "markdown",
		   "metadata": {},
		   "source": [
			"## Example 2.5: Example_5.sce"
		   ]
		  },
  {
"cell_type": "code",
	   "execution_count": null,
	   "metadata": {
	    "collapsed": true
	   },
	   "outputs": [],
"source": [
"clc\n",
"clear\n",
"//Initialization of variables\n",
"Pc=22.12*10^6 //Pa\n",
"Tc=647.3 //K\n",
"Zc=0.234\n",
"T=973.1 //K\n",
"P=25*10^6 //Pa\n",
"//calculations\n",
"Tr=T/Tc\n",
"Pr=P/Pc\n",
"Z=0.916\n",
"Zn=Z+0.05*(Zc-0.27)\n",
"//results\n",
"printf('Compresson factor = %.3f ',Zn)"
   ]
   }
,
{
		   "cell_type": "markdown",
		   "metadata": {},
		   "source": [
			"## Example 2.6: Example_6.sce"
		   ]
		  },
  {
"cell_type": "code",
	   "execution_count": null,
	   "metadata": {
	    "collapsed": true
	   },
	   "outputs": [],
"source": [
"clc\n",
"clear\n",
"//Initialization of variables\n",
"w=0.3448\n",
"Z0=0.898\n",
"Z1=0.08\n",
"//calculations\n",
"Z=Z0 + Z1*w\n",
"//results\n",
"printf('Compression factor = %.3f ',Z)"
   ]
   }
],
"metadata": {
		  "kernelspec": {
		   "display_name": "Scilab",
		   "language": "scilab",
		   "name": "scilab"
		  },
		  "language_info": {
		   "file_extension": ".sce",
		   "help_links": [
			{
			 "text": "MetaKernel Magics",
			 "url": "https://github.com/calysto/metakernel/blob/master/metakernel/magics/README.md"
			}
		   ],
		   "mimetype": "text/x-octave",
		   "name": "scilab",
		   "version": "0.7.1"
		  }
		 },
		 "nbformat": 4,
		 "nbformat_minor": 0
}
