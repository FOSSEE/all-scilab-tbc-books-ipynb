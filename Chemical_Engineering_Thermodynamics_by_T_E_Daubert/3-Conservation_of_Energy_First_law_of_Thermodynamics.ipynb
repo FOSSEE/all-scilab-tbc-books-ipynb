{
"cells": [
 {
		   "cell_type": "markdown",
	   "metadata": {},
	   "source": [
       "# Chapter 3: Conservation of Energy First law of Thermodynamics"
	   ]
	},
{
		   "cell_type": "markdown",
		   "metadata": {},
		   "source": [
			"## Example 3.10: Example_10.sce"
		   ]
		  },
  {
"cell_type": "code",
	   "execution_count": null,
	   "metadata": {
	    "collapsed": true
	   },
	   "outputs": [],
"source": [
"clc\n",
"clear\n",
"//Initialization of variables\n",
"eff=0.75\n",
"Hf=[-110600 -241980 -393770 0]\n",
"Hc=[30.35 36 45.64 29.30]\n",
"T2=540 //C\n",
"T1=25 //C\n",
"mass=500 //kmol H2 produced\n",
"work=10^6 //kJ\n",
"//calculations\n",
"dHr= Hf(3) + Hf(4) - Hf(1) -Hf(2)\n",
"dHpr= (eff*(Hc(3) +Hc(4)) + (1-eff)*(Hc(2)+Hc(1)))*(T2-T1)\n",
"q= dHr*eff +dHpr\n",
"heat = q*mass/eff\n",
"qe=heat-work\n",
"//results\n",
"printf('Heat produced = %.3e kJ',qe)"
   ]
   }
,
{
		   "cell_type": "markdown",
		   "metadata": {},
		   "source": [
			"## Example 3.11: Example_11.sce"
		   ]
		  },
  {
"cell_type": "code",
	   "execution_count": null,
	   "metadata": {
	    "collapsed": true
	   },
	   "outputs": [],
"source": [
"clc\n",
"clear\n",
"//Initialization of variables\n",
"so3=6\n",
"h2=-296840 //kJ/kmol\n",
"h3=-395720 //kJ/kmol\n",
"t2=400 //C\n",
"t1=25 //C\n",
"//calculations\n",
"Hr=so3*(h3-h2)\n",
"cp=[1.059 0.967 0.714]\n",
"n=[82.76 11 8]\n",
"M=[28 32 64]\n",
"Ht= sum(cp.*n.*M)\n",
"Hre=Ht*(t2-t1)\n",
"Hpr=Hre-Hr\n",
"Tf=t1 + Hpr/3261.6\n",
"//results\n",
"printf('temperature of exit gases = %d C',Tf)"
   ]
   }
,
{
		   "cell_type": "markdown",
		   "metadata": {},
		   "source": [
			"## Example 3.12: Example_12.sce"
		   ]
		  },
  {
"cell_type": "code",
	   "execution_count": null,
	   "metadata": {
	    "collapsed": true
	   },
	   "outputs": [],
"source": [
"clc\n",
"clear\n",
"//Initialization of variables\n",
"x=0.25\n",
"Hr=1.4278*10^6 //kJ/kmol\n",
"ti=25 //C\n",
"cp=[1.24 2.39 1.11]\n",
"M=[44 18 32]\n",
"z=[12 3 0.5]\n",
"r=4.186\n",
"//calculations\n",
"v=cp.*M.*z\n",
"v2=sum(v)\n",
"T=ti+ Hr/(v2)\n",
"//results\n",
"printf('Theoretical temperature = %d C',T)"
   ]
   }
,
{
		   "cell_type": "markdown",
		   "metadata": {},
		   "source": [
			"## Example 3.1: Example_1.sce"
		   ]
		  },
  {
"cell_type": "code",
	   "execution_count": null,
	   "metadata": {
	    "collapsed": true
	   },
	   "outputs": [],
"source": [
"clc\n",
"//Initialization of variables\n",
"clear\n",
"mass=4000 //kg/m^2\n",
"Patm=1.013*10^5 //pa\n",
"g=9.807\n",
"M=28\n",
"R=8.3143*10^3\n",
"T=303 //K\n",
"P1=800*10^3 //pa\n",
"//calculations\n",
"Ps=Patm+mass*g\n",
"n=1/M\n",
"V1=n*R*T/P1\n",
"W=Ps*(2*V1)\n",
"//results\n",
"printf('Work done on the surroundings = %d J',W)"
   ]
   }
,
{
		   "cell_type": "markdown",
		   "metadata": {},
		   "source": [
			"## Example 3.2_b: Example_2b.sce"
		   ]
		  },
  {
"cell_type": "code",
	   "execution_count": null,
	   "metadata": {
	    "collapsed": true
	   },
	   "outputs": [],
"source": [
"clc\n",
"clear\n",
"//Initialization of variables\n",
"t1=1000 //K\n",
"p1=20 //Mpa\n",
"p2=10 //Mpa\n",
"ti=600 //K\n",
"t2=700 //K\n",
"v1=0.02188\n",
"vi=0.02008\n",
"v2=0.02825\n",
"Ei=2617.5\n",
"E2=2893.1\n",
"E1=3441.8\n",
"x=0.22\n",
"m=1 //kg\n",
"cp=4.186\n",
"t3=639 //K\n",
"H3=2409.5\n",
"H1=3879.3\n",
"//calculations\n",
"Tf= ti+ (v1-vi)/(v2-vi) *(t2-ti)\n",
"Hf=H3 - m*cp*(t3-Tf)\n",
"Q2=Hf-H1\n",
"//results\n",
"disp('part b')\n",
"printf('Heat transfer = %.1f kJ/kg',Q2)"
   ]
   }
,
{
		   "cell_type": "markdown",
		   "metadata": {},
		   "source": [
			"## Example 3.2: Example_2.sce"
		   ]
		  },
  {
"cell_type": "code",
	   "execution_count": null,
	   "metadata": {
	    "collapsed": true
	   },
	   "outputs": [],
"source": [
"clc\n",
"clear\n",
"//Initialization of variables\n",
"t1=1000 //K\n",
"p1=20 //Mpa\n",
"p2=10 //Mpa\n",
"ti=600 //K\n",
"t2=700 //K\n",
"v1=0.02188\n",
"vi=0.02008\n",
"v2=0.02825\n",
"Ei=2617.5\n",
"E2=2893.1\n",
"E1=3441.8\n",
"x=0.22\n",
"m=1 //kg\n",
"cp=4.186\n",
"t3=639 //K\n",
"H3=2409.5\n",
"H1=3879.3\n",
"//calculations\n",
"Tf= ti+ (v1-vi)/(v2-vi) *(t2-ti)\n",
"Ef= Ei+ x*(E2-Ei)\n",
"Q1=Ef-E1\n",
"//results\n",
"disp('part a')\n",
"printf('Heat transfer = %.1f kJ/kg',Q1)"
   ]
   }
,
{
		   "cell_type": "markdown",
		   "metadata": {},
		   "source": [
			"## Example 3.3: Example_3.sce"
		   ]
		  },
  {
"cell_type": "code",
	   "execution_count": null,
	   "metadata": {
	    "collapsed": true
	   },
	   "outputs": [],
"source": [
"clc\n",
"clear\n",
"//Initialization of variables\n",
"p1=2.181\n",
"p2=2.637\n",
"p3=3.163\n",
"vg1=0.09150\n",
"vg2=0.07585\n",
"vg3=0.06323\n",
"vl1=0.00118\n",
"vl2=0.00120\n",
"vl3=0.00122\n",
"M=18\n",
"t1=490 //K\n",
"t2=500 //K\n",
"t3=510 //K\n",
"R=8.3143\n",
"//calculations\n",
"lam1= (p2-p1)*10^3 *M*(vg2-vl2) *2.154/ log(t3/t1)\n",
"lam2 = log(p3/p1) *R/(1/t1 -1/t3)\n",
"err=(lam2-lam1)/lam1\n",
"//results\n",
"printf('latent heat using calyperon equation = %d kJ/kmol',lam1)\n",
"printf('\n latent heat using the clasius calyperon equation = %d kJ/kmol',lam2)\n",
"printf('\n Error = %d percent',err*100)"
   ]
   }
,
{
		   "cell_type": "markdown",
		   "metadata": {},
		   "source": [
			"## Example 3.4: Example_4.sce"
		   ]
		  },
  {
"cell_type": "code",
	   "execution_count": null,
	   "metadata": {
	    "collapsed": true
	   },
	   "outputs": [],
"source": [
"clc\n",
"clear\n",
"//Initialization of variables\n",
"h1=147360 \n",
"h2=29790\n",
"//calculations\n",
"Hr=h1-h2\n",
"//results\n",
"printf('heat of reaction = %d kJ/kmol',Hr)"
   ]
   }
,
{
		   "cell_type": "markdown",
		   "metadata": {},
		   "source": [
			"## Example 3.5: Example_5.sce"
		   ]
		  },
  {
"cell_type": "code",
	   "execution_count": null,
	   "metadata": {
	    "collapsed": true
	   },
	   "outputs": [],
"source": [
"clc\n",
"clear\n",
"//Initialization of variables\n",
"R=8314.3\n",
"T=700 //K\n",
"T2=437.5 //K\n",
"T3=350 //K\n",
"T4=T3\n",
"p2=0.552 //Mpa\n",
"p1=2.758 //Mpa\n",
"cp=29.3\n",
"R0=8.3\n",
"k=1.4\n",
"//calculations\n",
"cv=cp-R0\n",
"Q1=-R*T*log(p2/p1)\n",
"Q2=cv*(T2-T)\n",
"dH2= cp*(T2-T)\n",
"p3=p2*T3/T2\n",
"p3=0.345\n",
"Q3=cp*(T3-T2)\n",
"dE3=cv*(T3-T2)\n",
"W3=Q3-dE3\n",
"T5=T4*(p1/p3)^((k-1)/k)\n",
"dH4= cp*(T5-T4)\n",
"W4=-cv*(T5-T4)\n",
"Q5= cp*(T-T5)\n",
"dE5=cv*(T-T5)\n",
"W5=Q5-dE5\n",
"//results\n",
"disp('part a isothermal')\n",
"printf('dH = 0, dE=0,  Q= W = %d kJ/kmol',Q1/10^3)\n",
"disp('part 2 isometric')\n",
"printf('dH = %d kJ/kmol, W=0,  Q= dE = %d kJ/kmol',dH2,Q2)\n",
"disp('part 3 isobaric')\n",
"printf('dE = %d kJ/kmol, W= %d kJ/kmol,  Q= dH = %d kJ/kmol',dE3,W3,Q3)\n",
"disp('part 4 adiabatic')\n",
"printf('dH = %d kJ/kmol, W= -dE = %d kJ/kmol,  Q= 0 kJ/kmol',dH4,W4)\n",
"disp('part 5 isobaric')\n",
"printf('dE = %d kJ/kmol, W= %d kJ/kmol,  Q= dH = %d kJ/kmol',dE5,W5,Q5)\n",
"disp('The graph cannot be plotted since volume axis values are not known. In the textbook it is randomly drawn to be of that shape.')"
   ]
   }
,
{
		   "cell_type": "markdown",
		   "metadata": {},
		   "source": [
			"## Example 3.6: Example_6.sce"
		   ]
		  },
  {
"cell_type": "code",
	   "execution_count": null,
	   "metadata": {
	    "collapsed": true
	   },
	   "outputs": [],
"source": [
"clc\n",
"clear\n",
"//Initialization of variables\n",
"p=[2.75 0.5 0.31 0.31 2.75]\n",
"v=[116.17 654.8 654.8 597 110.65]\n",
"t=[440 440 170 140 410]\n",
"h=[3325 3356 2802.6 2738.5 3257.7]\n",
"e=[3005.6 3028.6 2602.6 2553.6 2953.4]\n",
"//calculations\n",
"dh1=h(2) - h(1)\n",
"de1=e(2) - e(1)\n",
"q2=e(3) - e(2)\n",
"dh2=h(3) - h(2)\n",
"dh3=h(4) - h(3)\n",
"de3=e(4) - e(3)\n",
"W3= p(3) *(v(4) - v(3))\n",
"Q3= de3+W3\n",
"dh4=h(5)  -h(4)\n",
"de4=e(5) -e(4)\n",
"dh5=h(1) - h(5)\n",
"de5= e(1) - e(5)\n",
"W5= p(5) *(v(1) - v(5))\n",
"q5 = de5+W5\n",
"//results\n",
"printf('In case 1 , dH = %.1f kJ/kg dE = %.1f kJ/kg W= pDv kJ/kg Q= %.1f + W kJ/kg',dh1,de1,de1)\n",
"printf('\n In case 2, W =0 kJ/kg Q = dE = %d kJ/kg dH = %.1f kJ/kg',q2,dh2)\n",
"printf('\n In case 3, dH= %.1f kJ/kg dE = %.1f kJ/kg W= %.1f kJ/kg Q = %.1f kJ/kg',dh3,de3,W3,Q3)\n",
"printf('\n In case 4, Q= 0 kJ/kg dH = %.1f kJ/kg dE = -W = %.1f kJ/kg',dh4,de4)\n",
"printf('\n In case 5, dH = %.1f kJ/kg dE = %.1f kJ/kg W = %.1f kJ/kg Q = %.1f kJ/kg',dh5,de5,W5,q5)\n",
"xlabel('Volume (m^3/kg)')\n",
"ylabel('Pressure (Mpa)')\n",
"plot(v,p)"
   ]
   }
,
{
		   "cell_type": "markdown",
		   "metadata": {},
		   "source": [
			"## Example 3.7: Example_7.sce"
		   ]
		  },
  {
"cell_type": "code",
	   "execution_count": null,
	   "metadata": {
	    "collapsed": true
	   },
	   "outputs": [],
"source": [
"clc\n",
"clear\n",
"//Initialization of variables\n",
"P=0.1*10^6 //Pa\n",
"P2=0.55*10^6 //Pa\n",
"M=28.84\n",
"R=8314.4\n",
"T1=303.1 //K\n",
"T2=316.1 //K\n",
"d1=0.154 //m\n",
"d2=0.028 //m\n",
"mass=0.25 //m^3/s\n",
"Q=2.764*10^8 //J/h\n",
"cp=29.3*10^3 \n",
"//calculations\n",
"rho1= P*M/(T1*R)\n",
"u1=mass/(%pi/4 *d1^2)\n",
"rho2= P2*M/(R*T2)\n",
"u2=u1*d1^2 *rho1/(d2^2 *rho2)\n",
"Wsd= (u2^2 - u1^2 )/2 + cp/M *(T2-T1) + Q/(mass*rho1*3600)\n",
"mdot= u1*%pi/4 *d1^2 *rho1\n",
"Ws=Wsd*mdot/745.7\n",
"//results\n",
"printf('Power input to the compressor = %d hp',Ws)"
   ]
   }
,
{
		   "cell_type": "markdown",
		   "metadata": {},
		   "source": [
			"## Example 3.8: Example_8.sce"
		   ]
		  },
  {
"cell_type": "code",
	   "execution_count": null,
	   "metadata": {
	    "collapsed": true
	   },
	   "outputs": [],
"source": [
"clc\n",
"clear\n",
"//Initialization of variables\n",
"u1=1.1 //m/s\n",
"rho1=1.21*10^3 //kg/m^3\n",
"d1=0.078\n",
"z1=4\n",
"h2=18 //m\n",
"g=9.806\n",
"//calculations\n",
"mdot= u1*rho1*%pi/4 *d1^2\n",
"Wsd= z1+h2\n",
"Ws=Wsd*mdot*g\n",
"dP= Ws*rho1/mdot\n",
"//results\n",
"printf('Power input = %d W',Ws)\n",
"printf('Pressure drop = %.3f Mpa',dP/10^6)"
   ]
   }
,
{
		   "cell_type": "markdown",
		   "metadata": {},
		   "source": [
			"## Example 3.9: Example_9.sce"
		   ]
		  },
  {
"cell_type": "code",
	   "execution_count": null,
	   "metadata": {
	    "collapsed": true
	   },
	   "outputs": [],
"source": [
"clc\n",
"clear\n",
"//Initialization of variables\n",
"eff=0.75\n",
"Hf=[-110600 -241980 -393770 0]\n",
"Hc=[30.35 36 45.64 29.30]\n",
"T2=540 //C\n",
"T1=25 //C\n",
"mass=500 //kmol H2 produced\n",
"//calculations\n",
"dHr= Hf(3) + Hf(4) - Hf(1) -Hf(2)\n",
"dHpr= (eff*(Hc(3) +Hc(4)) + (1-eff)*(Hc(2)+Hc(1)))*(T2-T1)\n",
"q= dHr*eff +dHpr\n",
"heat = q*mass/eff\n",
"//results\n",
"printf('Heat produced = %.3e kJ',heat)"
   ]
   }
],
"metadata": {
		  "kernelspec": {
		   "display_name": "Scilab",
		   "language": "scilab",
		   "name": "scilab"
		  },
		  "language_info": {
		   "file_extension": ".sce",
		   "help_links": [
			{
			 "text": "MetaKernel Magics",
			 "url": "https://github.com/calysto/metakernel/blob/master/metakernel/magics/README.md"
			}
		   ],
		   "mimetype": "text/x-octave",
		   "name": "scilab",
		   "version": "0.7.1"
		  }
		 },
		 "nbformat": 4,
		 "nbformat_minor": 0
}
