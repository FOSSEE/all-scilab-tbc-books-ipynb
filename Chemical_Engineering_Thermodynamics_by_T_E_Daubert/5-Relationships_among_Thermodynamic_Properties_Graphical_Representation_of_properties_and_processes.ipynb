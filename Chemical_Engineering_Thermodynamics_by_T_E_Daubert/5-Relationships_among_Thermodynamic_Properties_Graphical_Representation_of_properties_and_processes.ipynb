{
"cells": [
 {
		   "cell_type": "markdown",
	   "metadata": {},
	   "source": [
       "# Chapter 5: Relationships among Thermodynamic Properties Graphical Representation of properties and processes"
	   ]
	},
{
		   "cell_type": "markdown",
		   "metadata": {},
		   "source": [
			"## Example 5.5: Example_5.sce"
		   ]
		  },
  {
"cell_type": "code",
	   "execution_count": null,
	   "metadata": {
	    "collapsed": true
	   },
	   "outputs": [],
"source": [
"clc\n",
"clear\n",
"//Initialization of variables\n",
"R=8314.3\n",
"b=0.0306 //m^3/kmol\n",
"a=0.548*10^6 //pa m^6/kmol^6\n",
"T=973.1\n",
"P=25*10^6 //Pa\n",
"//calculations\n",
"Vi= R*T/P\n",
"x=poly(0,'x')\n",
"vec=roots(P*x^2 *(x-b) +a*(x-b) - R*T*(x^2))\n",
"volume= vec(1)\n",
"dH=8.0906*10^6 -P*volume +0.548*10^6 /volume\n",
"//results\n",
"printf('Change in enthalpy  = %.2e J/kmol',dH)"
   ]
   }
],
"metadata": {
		  "kernelspec": {
		   "display_name": "Scilab",
		   "language": "scilab",
		   "name": "scilab"
		  },
		  "language_info": {
		   "file_extension": ".sce",
		   "help_links": [
			{
			 "text": "MetaKernel Magics",
			 "url": "https://github.com/calysto/metakernel/blob/master/metakernel/magics/README.md"
			}
		   ],
		   "mimetype": "text/x-octave",
		   "name": "scilab",
		   "version": "0.7.1"
		  }
		 },
		 "nbformat": 4,
		 "nbformat_minor": 0
}
