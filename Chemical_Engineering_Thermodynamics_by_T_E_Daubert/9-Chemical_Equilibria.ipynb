{
"cells": [
 {
		   "cell_type": "markdown",
	   "metadata": {},
	   "source": [
       "# Chapter 9: Chemical Equilibria"
	   ]
	},
{
		   "cell_type": "markdown",
		   "metadata": {},
		   "source": [
			"## Example 9.10_a: Example_10a.sce"
		   ]
		  },
  {
"cell_type": "code",
	   "execution_count": null,
	   "metadata": {
	    "collapsed": true
	   },
	   "outputs": [],
"source": [
"clc\n",
"clear\n",
"//Initialization of variables\n",
"kp=1.09\n",
"feed=[ 1 5 0 0 0 ]\n",
"//calculations\n",
"x=poly(0,'x')\n",
"vec=roots(kp/4^4 /4 *(1-x)*(5-2*x)^2 *(6+2*x)^2 -x^5)\n",
"x=vec(5)\n",
"pro=[1-x 5-2*x x 4*x 0]\n",
"//results\n",
"disp('Equlibrium composition (moles)= ')\n",
"format('v',6);pro\n",
"disp(pro)"
   ]
   }
,
{
		   "cell_type": "markdown",
		   "metadata": {},
		   "source": [
			"## Example 9.10_b: Example_10b.sce"
		   ]
		  },
  {
"cell_type": "code",
	   "execution_count": null,
	   "metadata": {
	    "collapsed": true
	   },
	   "outputs": [],
"source": [
"clc\n",
"clear\n",
"//Initialization of variables\n",
"kp=1.09\n",
"kp2=0.154\n",
"feed=[ 1 5 0 0 0 ]\n",
"//calculations\n",
"x=poly(0,'x')\n",
"vec=roots(kp/4^4 /4 *(1-x)*(5-2*x)^2 *(6+2*x)^2 -x^5)\n",
"x=vec(5)\n",
"pro=feed- [x 2*x -x -4*x 0]\n",
"y=poly(0,'y')\n",
"vec2=roots(kp2*(0.273-y)*(0.727-y)*(7.454+2*y)^2 - 4*y^2 *(2.908+2*y)^2 *4)\n",
"y=vec2(4)\n",
"pro2=pro-[ y 0 y -2*y -2*y]\n",
"z=poly(0,'z')\n",
"vec3= roots(kp*(0.189-z)*(3.546-2*z)^2 *(7.622+2*z)^2 -(0.643+z)*(3.076+4*z)^4 *4)\n",
"z=vec3(5)\n",
"pro3=pro2 - [z 2*z -z -4*z 0]\n",
"w=poly(0,'w')\n",
"vec4=roots(kp2*(0.229-w)*(0.603-w)*(7.542+2*w) - (2.916+2*w)^2 *(0.168+2*w)^2 *4)\n",
"w=vec4(4)\n",
"w=0.01\n",
"pro4=pro3-[w 0 w -2*w -2*w]\n",
"//results\n",
"disp('feed = ')\n",
"format('v',6);feed\n",
"disp(feed)\n",
"disp('After reactor 1,')\n",
"format('v',6);pro\n",
"disp(pro)\n",
"disp('After reactor 2,')\n",
"format('v',6);pro2\n",
"disp(pro2)\n",
"disp('After reactor 3,')\n",
"format('v',6);pro3\n",
"disp(pro3)\n",
"disp('After reactor 4')\n",
"format('v',6);pro4\n",
"disp(pro4)\n",
"disp('The answers are a bit different due to rounding off error in textbook')"
   ]
   }
,
{
		   "cell_type": "markdown",
		   "metadata": {},
		   "source": [
			"## Example 9.1_a: Example_1a.sce"
		   ]
		  },
  {
"cell_type": "code",
	   "execution_count": null,
	   "metadata": {
	    "collapsed": true
	   },
	   "outputs": [],
"source": [
"clc\n",
"clear\n",
"//Initialization of variables\n",
"g11=178900 //kJ/kmol\n",
"g12=207037 //kJ/kmol\n",
"g21=211852 //kJ/kmol\n",
"g22=228097 //kJ/kmol\n",
"//calculations\n",
"dG=g21-g11\n",
"//results\n",
"printf('Standard free energy change = %d kJ/kmol',dG)"
   ]
   }
,
{
		   "cell_type": "markdown",
		   "metadata": {},
		   "source": [
			"## Example 9.1_b: Example_1b.sce"
		   ]
		  },
  {
"cell_type": "code",
	   "execution_count": null,
	   "metadata": {
	    "collapsed": true
	   },
	   "outputs": [],
"source": [
"clc\n",
"clear\n",
"//Initialization of variables\n",
"m1=54.1\n",
"m2=56.1\n",
"m3=2\n",
"cp1=2.122 //kJ/kmol K\n",
"cp2=2.213 //kJ/kmol K\n",
"cp3=14.499 //kJ/kmol K\n",
"hf1=110200 //kJ/kmol\n",
"hf2=-126 //kJ/kmol\n",
"T=700 //K\n",
"Ts=298 //K\n",
"//calculations\n",
"hf=hf1-hf2\n",
"cpn=cp1*m1-cp2*m2+cp3*m3\n",
"h700=hf+ cpn*(T-Ts)\n",
"s298=103.7\n",
"s700 = s298 + cpn*log(T/Ts)\n",
"G700=h700-T*s700\n",
"//results\n",
"printf('Change in gibbs energy = %d kJ/kmol',G700)\n",
"disp('The answer is a bit different due to rounding off error in textbook')"
   ]
   }
,
{
		   "cell_type": "markdown",
		   "metadata": {},
		   "source": [
			"## Example 9.2: Example_2.sce"
		   ]
		  },
  {
"cell_type": "code",
	   "execution_count": null,
	   "metadata": {
	    "collapsed": true
	   },
	   "outputs": [],
"source": [
"clc\n",
"clear\n",
"//Initialization of variables\n",
"g1=150670 //kJ/kmol\n",
"g2=71500 //kJ/kmol\n",
"R=8.314\n",
"Ts=298 //K\n",
"T=700 //K\n",
"//calculationd\n",
"G=g1-g2\n",
"G2=33875 //kJ/kmol\n",
"K1=exp(-G/R/Ts)\n",
"K2=exp(-G2/R/T)\n",
"//results\n",
"printf('In case 1, equilibrium constant = %.2e',K1)\n",
"printf('\n In case 2, equilibrium constant = %.5f',K2)"
   ]
   }
,
{
		   "cell_type": "markdown",
		   "metadata": {},
		   "source": [
			"## Example 9.3: Example_3.sce"
		   ]
		  },
  {
"cell_type": "code",
	   "execution_count": null,
	   "metadata": {
	    "collapsed": true
	   },
	   "outputs": [],
"source": [
"clc\n",
"clear\n",
"//Initialization of variables\n",
"R=8.3143\n",
"T1=1273 //K\n",
"T2=2273 //K\n",
"k2=0.0018\n",
"A=123.94\n",
"B=7.554\n",
"C=8.552*10^-3\n",
"D=-13.25e-6\n",
"E=7.002e-9\n",
"F=13.494e-13\n",
"//calculations\n",
"function y= cp(T)\n",
"    y=A/T^2 +B/T +C +D*T +E*T^2 -F*T^3\n",
"endfunction\n",
"lnk=1/R *intg(T1,T2,cp)\n",
"k1=k2/ exp(lnk)\n",
"//results\n",
"printf('Equilibrium constant = %.5f ',k1)"
   ]
   }
,
{
		   "cell_type": "markdown",
		   "metadata": {},
		   "source": [
			"## Example 9.4_a: Example_4a.sce"
		   ]
		  },
  {
"cell_type": "code",
	   "execution_count": null,
	   "metadata": {
	    "collapsed": true
	   },
	   "outputs": [],
"source": [
"clc\n",
"clear\n",
"//Initialization of variables\n",
"G=-30050 //kJ/kmol\n",
"R=8.314\n",
"T=573 //K\n",
"//calculations\n",
"lnk=G/(R*T)\n",
"k=exp(lnk)\n",
"x=poly(0,'x')\n",
"vec=roots(4*x^2 - k*(1-x)^2)\n",
"x2=vec(2)\n",
"//results\n",
"printf('Mole fraction of HCN = %.4f',x2)"
   ]
   }
,
{
		   "cell_type": "markdown",
		   "metadata": {},
		   "source": [
			"## Example 9.4_b: Example_4b.sce"
		   ]
		  },
  {
"cell_type": "code",
	   "execution_count": null,
	   "metadata": {
	    "collapsed": true
	   },
	   "outputs": [],
"source": [
"clc\n",
"clear\n",
"//Initialization of variables\n",
"G=-30050 //kJ/kmol\n",
"R=8.314\n",
"T=573 //K\n",
"phi1=0.980\n",
"phi2=0.915\n",
"phi3=0.555\n",
"//calculations\n",
"lnk=G/(R*T)\n",
"k=exp(lnk)\n",
"kexp= k*phi1*phi2/phi3^2 /4\n",
"x=poly(0,'x')\n",
"vec=roots(x^2 - kexp*(1-x)^2)\n",
"x2=vec(2)\n",
"//results\n",
"printf('Mole fraction of HCN = %.4f',x2)\n",
""
   ]
   }
,
{
		   "cell_type": "markdown",
		   "metadata": {},
		   "source": [
			"## Example 9.5: Example_5.sce"
		   ]
		  },
  {
"cell_type": "code",
	   "execution_count": null,
	   "metadata": {
	    "collapsed": true
	   },
	   "outputs": [],
"source": [
"clc\n",
"clear\n",
"//Initialization of variables\n",
"kp=74\n",
"//calculations\n",
"f=poly(0,'f')\n",
"vec=roots(f^2 *(100-6*f) - kp^2 *(1-f)^2 *(9-6*f))\n",
"fn=vec(3)\n",
"//results\n",
"printf('Fractional conversion = %.3f',fn)"
   ]
   }
,
{
		   "cell_type": "markdown",
		   "metadata": {},
		   "source": [
			"## Example 9.6_a: Example_6a.sce"
		   ]
		  },
  {
"cell_type": "code",
	   "execution_count": null,
	   "metadata": {
	    "collapsed": true
	   },
	   "outputs": [],
"source": [
"clc\n",
"clear\n",
"//Initialization of variables\n",
"C=3\n",
"phi=3\n",
"R=1\n",
"Sc=0\n",
"function V=fun(C,phi,R,Sc)\n",
"    V=2+C-phi-R-Sc\n",
"endfunction\n",
"//calculations\n",
"V=fun(C,phi,R,Sc)\n",
"//results\n",
"printf('Degrees of freedom = %d ',V)"
   ]
   }
,
{
		   "cell_type": "markdown",
		   "metadata": {},
		   "source": [
			"## Example 9.6_b: Example_6b.sce"
		   ]
		  },
  {
"cell_type": "code",
	   "execution_count": null,
	   "metadata": {
	    "collapsed": true
	   },
	   "outputs": [],
"source": [
"clc\n",
"clear\n",
"//Initialization of variables\n",
"C=3\n",
"phi=1\n",
"R=1\n",
"Sc=1\n",
"function V=fun(C,phi,R,Sc)\n",
"    V=2+C-phi-R-Sc\n",
"endfunction\n",
"//calculations\n",
"V=fun(C,phi,R,Sc)\n",
"//results\n",
"printf('Degrees of freedom = %d ',V)\n",
""
   ]
   }
,
{
		   "cell_type": "markdown",
		   "metadata": {},
		   "source": [
			"## Example 9.6_c: Example_6c.sce"
		   ]
		  },
  {
"cell_type": "code",
	   "execution_count": null,
	   "metadata": {
	    "collapsed": true
	   },
	   "outputs": [],
"source": [
"clc\n",
"clear\n",
"//Initialization of variables\n",
"C=6\n",
"phi=1\n",
"R=3\n",
"Sc=0\n",
"function V=fun(C,phi,R,Sc)\n",
"    V=2+C-phi-R-Sc\n",
"endfunction\n",
"//calculations\n",
"V=fun(C,phi,R,Sc)\n",
"//results\n",
"printf('Degrees of freedom = %d ',V)\n",
""
   ]
   }
,
{
		   "cell_type": "markdown",
		   "metadata": {},
		   "source": [
			"## Example 9.7: Example_7.sce"
		   ]
		  },
  {
"cell_type": "code",
	   "execution_count": null,
	   "metadata": {
	    "collapsed": true
	   },
	   "outputs": [],
"source": [
"clc\n",
"clear\n",
"//Initialization of variables\n",
"a1=0.956\n",
"y=0.014\n",
"x=0.956\n",
"M=18\n",
"z=0.475\n",
"P=8.37 //Mpa\n",
"//calculations\n",
"m=y/(x*M) *10^3\n",
"w=0.0856\n",
"phi1=-0.04\n",
"phi2=0.06\n",
"phi=10^(phi1+ w*phi2)\n",
"f=z*phi*P\n",
"K=m/(f*a1)\n",
"//results\n",
"printf('Equilibrium constant = %.3f',K)"
   ]
   }
,
{
		   "cell_type": "markdown",
		   "metadata": {},
		   "source": [
			"## Example 9.9: Example_9.sce"
		   ]
		  },
  {
"cell_type": "code",
	   "execution_count": null,
	   "metadata": {
	    "collapsed": true
	   },
	   "outputs": [],
"source": [
"clc\n",
"clear\n",
"//Initialization of variables\n",
"y=0.18\n",
"z=0.6\n",
"//calculations\n",
"mole=[1-y-z 5-y-2*z y 3*y+4*z z]\n",
"s=sum( mole)\n",
"molef=mole/s\n",
"//results\n",
"disp('Product composition moles  = ')\n",
"format('v',6);mole\n",
"disp(mole)\n",
"disp('Mole fraction = ')\n",
"format('v',6);molef\n",
"disp(molef)"
   ]
   }
],
"metadata": {
		  "kernelspec": {
		   "display_name": "Scilab",
		   "language": "scilab",
		   "name": "scilab"
		  },
		  "language_info": {
		   "file_extension": ".sce",
		   "help_links": [
			{
			 "text": "MetaKernel Magics",
			 "url": "https://github.com/calysto/metakernel/blob/master/metakernel/magics/README.md"
			}
		   ],
		   "mimetype": "text/x-octave",
		   "name": "scilab",
		   "version": "0.7.1"
		  }
		 },
		 "nbformat": 4,
		 "nbformat_minor": 0
}
