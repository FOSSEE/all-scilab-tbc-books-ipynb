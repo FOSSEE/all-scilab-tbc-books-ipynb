{
"cells": [
 {
		   "cell_type": "markdown",
	   "metadata": {},
	   "source": [
       "# Chapter 4: The Second Law of Thermodynamics and its Applications"
	   ]
	},
{
		   "cell_type": "markdown",
		   "metadata": {},
		   "source": [
			"## Example 4.10: Example_10.sce"
		   ]
		  },
  {
"cell_type": "code",
	   "execution_count": null,
	   "metadata": {
	    "collapsed": true
	   },
	   "outputs": [],
"source": [
"clc\n",
"clear\n",
"//Initialization of variables\n",
"T1=673 //K\n",
"T2=293 //K\n",
"//calculations\n",
"eta=(T1-T2)/T1\n",
"//results\n",
"if eta>=0.5 then\n",
"    printf('Max efficiency  = %.3f and an efficiency of 0.5 is possible',eta)\n",
"else\n",
"    printf('Max efficiency  = %.3f and an efficiency of 0.5 is not possible',eta)\n",
"end"
   ]
   }
,
{
		   "cell_type": "markdown",
		   "metadata": {},
		   "source": [
			"## Example 4.11: Example_11.sce"
		   ]
		  },
  {
"cell_type": "code",
	   "execution_count": null,
	   "metadata": {
	    "collapsed": true
	   },
	   "outputs": [],
"source": [
"clc\n",
"clear\n",
"//Initialization of variables\n",
"T1=280 //K\n",
"T2=300 //K\n",
"//calculations\n",
"cop=T1/(T2-T1)\n",
"//results\n",
"printf('coefficient of performance = %.1f',cop)"
   ]
   }
,
{
		   "cell_type": "markdown",
		   "metadata": {},
		   "source": [
			"## Example 4.12: Example_12.sce"
		   ]
		  },
  {
"cell_type": "code",
	   "execution_count": null,
	   "metadata": {
	    "collapsed": true
	   },
	   "outputs": [],
"source": [
"clc\n",
"clear\n",
"//Initialization of variables\n",
"P=2 //Mpa\n",
"T1=212.4+273.1 //K\n",
"T2=25+273.1 //K\n",
"h1=2799.5\n",
"h2=104.89\n",
"s1=6.3409\n",
"s2=0.3674\n",
"//calculations\n",
"dh=h1-h2\n",
"ds=s1-s2\n",
"exergy=dh-T2*ds\n",
"//results\n",
"printf('exergy = %.1f kJ/kg',exergy)"
   ]
   }
,
{
		   "cell_type": "markdown",
		   "metadata": {},
		   "source": [
			"## Example 4.13: Example_13.sce"
		   ]
		  },
  {
"cell_type": "code",
	   "execution_count": null,
	   "metadata": {
	    "collapsed": true
	   },
	   "outputs": [],
"source": [
"clc\n",
"clear\n",
"//Initialization of variables\n",
"R=8314.3\n",
"T=700 //K\n",
"T2=437.5 //K\n",
"T3=350 //K\n",
"T4=T3\n",
"p2=0.552 //Mpa\n",
"p1=2.758 //Mpa\n",
"p3=0.345  //Mpa\n",
"cp=29.3\n",
"R0=8.3143\n",
"k=1.4\n",
"n=1\n",
"P0=0.103 //Mpa\n",
"//calculations\n",
"cv=cp-R0\n",
"p3=p2*T3/T2\n",
"p3=0.345\n",
"T5=T4*(p1/p3)^((k-1)/k)\n",
"G1=n*R*T*log(p2/p1)\n",
"V700=R*10^3 *T/(p2*10^9)\n",
"Sa= 209\n",
"Sb=199.2\n",
"Sc=204.7\n",
"S2=(T2-T)/6 *(Sa+4*Sc+Sb    )\n",
"G2=V700*(p3-p2)*10^3 -S2\n",
"saa=199.2\n",
"sbb=192.6\n",
"savg=(saa+sbb)*0.5\n",
"G3=-savg*(T3-T2)\n",
"pmid=(p3+p2)/2\n",
"vmid=2.88\n",
"sav=192.7\n",
"v4=8.435 //m^3\n",
"v5=1.911 //m^3\n",
"integ=(p1-p3)*10^3 /6 *(v4+4*vmid+v5)\n",
"G4=integ - sav*(T5-T3)\n",
"Sav=194.25\n",
"G5= -Sav*(T-T5)\n",
"Gt=G1/10^3 +G2+G3+G4+G5\n",
"//results\n",
"printf('in case 1, Change in gibbs free energy = %d kJ',G1/10^3)\n",
"printf('\n in case 2, Change in gibbs free energy = %d kJ',G2)\n",
"printf('\n in case 3, Change in gibbs free energy = %d kJ',G3)\n",
"printf('\n in case 4, Change in gibbs free energy = %d kJ',G4)\n",
"printf('\n in case 5, Change in gibbs free energy = %d kJ',G5)\n",
"printf('\n Net change in gibbs energy = %d kJ',Gt)"
   ]
   }
,
{
		   "cell_type": "markdown",
		   "metadata": {},
		   "source": [
			"## Example 4.14: Example_14.sce"
		   ]
		  },
  {
"cell_type": "code",
	   "execution_count": null,
	   "metadata": {
	    "collapsed": true
	   },
	   "outputs": [],
"source": [
"clc\n",
"clear\n",
"//Initialization of variables\n",
"v=1/430\n",
"pi=4.08 //Mpa\n",
"pf=10 //Mpa\n",
"pf2=1 //Mpa\n",
"pii=0.1 //Mpa\n",
"R=8314.3\n",
"n=1/28\n",
"T=273.1\n",
"//calculations\n",
"logpr=v*(pf-pii)*10^6 /(R*T*n)\n",
"pr=exp(logpr)\n",
"p=pr*pi\n",
"logpr=v*(pf2-pii)*10^6 /(R*T*n)\n",
"pr=exp(logpr)\n",
"p2=pr*pi\n",
"//results\n",
"printf('Final pressure = %.2f Mpa',p)\n",
"printf('\n Final pressure in case 2 = %.2f Mpa',p2)"
   ]
   }
,
{
		   "cell_type": "markdown",
		   "metadata": {},
		   "source": [
			"## Example 4.15: Example_15.sce"
		   ]
		  },
  {
"cell_type": "code",
	   "execution_count": null,
	   "metadata": {
	    "collapsed": true
	   },
	   "outputs": [],
"source": [
"clc\n",
"clear\n",
"//Initialization of variables\n",
"Hvap=338.14 //kJ/kg\n",
"T=409.3 //K\n",
"//calculations\n",
"dss=Hvap/T\n",
"dg=0\n",
"//results\n",
"printf('change in entropy and gibbs energy of system are %.3f kJ/kg K and %d kJ/kg respectivey',dss,dg)\n",
"printf('\n change in entropy and gibbs energy of universe are %.3f kJ/kg K and %d kJ/kg respectivey',-dss,-dg)"
   ]
   }
,
{
		   "cell_type": "markdown",
		   "metadata": {},
		   "source": [
			"## Example 4.16: Example_16.sce"
		   ]
		  },
  {
"cell_type": "code",
	   "execution_count": null,
	   "metadata": {
	    "collapsed": true
	   },
	   "outputs": [],
"source": [
"clc\n",
"clear\n",
"//Initialization of variables\n",
"T=373.1 //K\n",
"R=8314.3\n",
"Pd=0.1013*10^6 //Pa\n",
"P=10 //Mpa\n",
"p3=5*10^6 //Pa\n",
"vf=0.0373\n",
"a=424.447\n",
"//calculations\n",
"Vd=R*T/Pd\n",
"V=0.5\n",
"dss=-R*(log(p3/Pd) + log((V-vf)/(Vd-vf)))\n",
"dhh=R*T/10^3 - p3/10^3 *V+ a/V^2\n",
"//results\n",
"printf('Change in entropy = %.4f kJ/kmol K',dss/10^3)\n",
"printf('\n change in enthalpy= %d kJ/kmol',dhh)"
   ]
   }
,
{
		   "cell_type": "markdown",
		   "metadata": {},
		   "source": [
			"## Example 4.18: Example_18.sce"
		   ]
		  },
  {
"cell_type": "code",
	   "execution_count": null,
	   "metadata": {
	    "collapsed": true
	   },
	   "outputs": [],
"source": [
"clc\n",
"clear\n",
"//Initialization of variables\n",
"Tc=647.3 //K\n",
"dh=1.1\n",
"Db=-2\n",
"v2=0.234\n",
"v1=0.27\n",
"//calculations\n",
"dh2=dh+Db*(v2-v1)\n",
"dhh=dh2*Tc\n",
"dhbar=dhh*4.18/18\n",
"disp('From steam tables,')\n",
"h1=3777.5 //kJ/kg\n",
"h2=3928.2 //kJ/kg\n",
"dhs=h2-h1\n",
"err=abs(dhs-dhbar)/dhs\n",
"//results\n",
"printf('Enthalpy departure = %d kJ/kg',dhbar)\n",
"printf('\n Percentage error = %.1f ',err*100)"
   ]
   }
,
{
		   "cell_type": "markdown",
		   "metadata": {},
		   "source": [
			"## Example 4.19: Example_19.sce"
		   ]
		  },
  {
"cell_type": "code",
	   "execution_count": null,
	   "metadata": {
	    "collapsed": true
	   },
	   "outputs": [],
"source": [
"clc\n",
"clear\n",
"//Initialization of variables\n",
"w=0.3448\n",
"R=8.3143\n",
"Tc=647.3\n",
"//calculations\n",
"disp('From charts of entropy')\n",
"h0=0.57\n",
"h1=0.05\n",
"h2=h0+w*h1\n",
"h3=h2*R*Tc\n",
"dh=-h3\n",
"//results\n",
"printf('Enthalpy departure = %d kJ/kmol',dh)\n",
"disp('The answer is a bit different due to rounding off error in the textbook')"
   ]
   }
,
{
		   "cell_type": "markdown",
		   "metadata": {},
		   "source": [
			"## Example 4.1: Example_1.sce"
		   ]
		  },
  {
"cell_type": "code",
	   "execution_count": null,
	   "metadata": {
	    "collapsed": true
	   },
	   "outputs": [],
"source": [
"clc\n",
"clear\n",
"//Initialization of variables\n",
"T=500 //K\n",
"Qr=5*10^6 //kJ\n",
"T2=600 //K\n",
"//calculations\n",
"dSS=Qr/T\n",
"dSS2=-Qr/T2\n",
"Ds=dSS+dSS2\n",
"//results\n",
"printf('Entropy change of the system = %d kJ/K',dSS)\n",
"printf('\n Entropy change of the surroundings = %d kJ/K',dSS2)\n",
"printf('\n Entropy change if the universe = %d kJ/K',Ds)"
   ]
   }
,
{
		   "cell_type": "markdown",
		   "metadata": {},
		   "source": [
			"## Example 4.20: Example_20.sce"
		   ]
		  },
  {
"cell_type": "code",
	   "execution_count": null,
	   "metadata": {
	    "collapsed": true
	   },
	   "outputs": [],
"source": [
"clc\n",
"clear\n",
"//Initialization of variables\n",
"ta=310 //K\n",
"pa=80 //kPa\n",
"r=10\n",
"k=1.4\n",
"R=8.3143\n",
"n=5/29\n",
"cv=20.93\n",
"//calculations\n",
"Qab=0\n",
"tb=ta*r^(k-1)\n",
"va=R*ta/pa\n",
"vb=va/r\n",
"pb=R*tb/vb\n",
"Wab= -n*R*ta/(k-1) *((pb/pa)^((k-1)/k) -1)\n",
"vc=vb\n",
"Qbc=500 //kJ\n",
"Wbc=0\n",
"tc=tb+ Qbc/(n*cv)\n",
"pc=R*tc/vc\n",
"Qcd=0\n",
"td=tc/r^(k-1)\n",
"vd=va\n",
"pd=td/tc*(vc/vd)*pc\n",
"Wcd=-n*R*tc/(k-1) *((pd/pc)^((k-1)/k)-1)\n",
"Wda=0\n",
"Qda=n*cv*(ta-td)\n",
"eta0=1-1/r^(k-1)\n",
"//results\n",
"printf('Efficiency of cycle = %.3f',eta0)\n",
"p=[pa pb pc pd]\n",
"t=[ta tb tc td]\n",
"Q=[Qab Qbc Qcd Qda]\n",
"W=[Wab Wbc Wcd Wda]\n",
"disp('Pressure (kPa) = ')\n",
"format('v',6);p\n",
"disp(p)\n",
"disp('Temperature (K)= ')\n",
"format('v',6);t\n",
"disp(t)\n",
"disp('Heat (kJ)= ')\n",
"format('v',6);Q\n",
"disp(Q)\n",
"disp('Work done (kJ) = ')\n",
"format('v',6);W\n",
"disp(W)"
   ]
   }
,
{
		   "cell_type": "markdown",
		   "metadata": {},
		   "source": [
			"## Example 4.21: Example_21.sce"
		   ]
		  },
  {
"cell_type": "code",
	   "execution_count": null,
	   "metadata": {
	    "collapsed": true
	   },
	   "outputs": [],
"source": [
"clc\n",
"clear\n",
"//Initialization of variables\n",
"ta=310 //K\n",
"tc=917.3 //K\n",
"td=365.2 //K\n",
"n=0.602\n",
"k=1.4\n",
"//calculations\n",
"lntb= 1/(1-n)/k\n",
"tb=tc- lntb*(td-ta)\n",
"rc=(tb/ta)^(1/(k-1))\n",
"//results\n",
"printf('Temperature at B = %.1f K',tb)\n",
"printf('\n Compression ratio = %d ',rc)\n",
"disp('The answer given in textbook for rc is wrong. please check using a calculator')"
   ]
   }
,
{
		   "cell_type": "markdown",
		   "metadata": {},
		   "source": [
			"## Example 4.22: Example_22.sce"
		   ]
		  },
  {
"cell_type": "code",
	   "execution_count": null,
	   "metadata": {
	    "collapsed": true
	   },
	   "outputs": [],
"source": [
"clc\n",
"clear\n",
"//Initialization of variables\n",
"pr=4\n",
"k=1.4\n",
"ta=298 //K\n",
"pa=0.1 //Mpa\n",
"pdr=0.01\n",
"tc=900 //K\n",
"pri=0.005 //Mpa\n",
"//calculations\n",
"pb=pr*pa\n",
"nji=1- (pr)^((1-k)/k)\n",
"tb=ta*(pb/pa)^((k-1)/k)\n",
"pc=pb-pdr\n",
"pd=pa+pri\n",
"td=tc*(pd/pc)^((k-1)/k)\n",
"//results\n",
"p=[pa pb pc pd]\n",
"t=[ta tb tc td]\n",
"printf('ideal thermal efficiency = %.3f ',nji)\n",
"disp('pressure (Mpa) = ')\n",
"format('v',6);p\n",
"disp(p)\n",
"disp('temperature (K) = ')\n",
"format('v',6);t\n",
"disp(t)"
   ]
   }
,
{
		   "cell_type": "markdown",
		   "metadata": {},
		   "source": [
			"## Example 4.23_a: Example_23a.sce"
		   ]
		  },
  {
"cell_type": "code",
	   "execution_count": null,
	   "metadata": {
	    "collapsed": true
	   },
	   "outputs": [],
"source": [
"clc\n",
"clear\n",
"//Initialization of variables\n",
"sd=4.9269//kJ/kg/K\n",
"sf=1.1453//kJ/kg/K\n",
"sg=7.5320//kJ/kg/K\n",
"hf=359.86//kJ/kg\n",
"hg=2653.5//kJ/kg\n",
"hd=2409.7//kJ/kg\n",
"//calculations\n",
"x=(sd-sg)/(sf-sg)\n",
"he=x*hf+(1-x)*hg\n",
"etar=(hd-he)/(hd-hf)\n",
"//results\n",
"printf('Thermal efficiency = %.4f',etar)"
   ]
   }
,
{
		   "cell_type": "markdown",
		   "metadata": {},
		   "source": [
			"## Example 4.23_b: Example_23b.sce"
		   ]
		  },
  {
"cell_type": "code",
	   "execution_count": null,
	   "metadata": {
	    "collapsed": true
	   },
	   "outputs": [],
"source": [
"clc\n",
"clear\n",
"//Initialization of variables\n",
"sd=6.7039//kJ/kg/K\n",
"sf=1.1453//kJ/kg/K\n",
"sg=7.5320//kJ/kg/K\n",
"hf=359.86//kJ/kg\n",
"hg=2653.5//kJ/kg\n",
"hd=3717.9//kJ/kg\n",
"//calculations\n",
"x=(sd-sg)/(sf-sg)\n",
"he=x*hf+(1-x)*hg\n",
"etar=(hd-he)/(hd-hf)\n",
"//results\n",
"printf('Thermal efficiency = %.4f',etar)\n",
""
   ]
   }
,
{
		   "cell_type": "markdown",
		   "metadata": {},
		   "source": [
			"## Example 4.24: Example_24.sce"
		   ]
		  },
  {
"cell_type": "code",
	   "execution_count": null,
	   "metadata": {
	    "collapsed": true
	   },
	   "outputs": [],
"source": [
"clc\n",
"clear\n",
"//Initialization of variables\n",
"ha=2510.6 //kJ/kg\n",
"hd=125.78 //kJ/kg\n",
"//calculations\n",
"kg=(10^6)/(ha-hd)\n",
"//results\n",
"printf('circulation rate = %d kg steam/h',kg)"
   ]
   }
,
{
		   "cell_type": "markdown",
		   "metadata": {},
		   "source": [
			"## Example 4.25: Example_25.sce"
		   ]
		  },
  {
"cell_type": "code",
	   "execution_count": null,
	   "metadata": {
	    "collapsed": true
	   },
	   "outputs": [],
"source": [
"clc\n",
"clear\n",
"//Initialization of variables\n",
"tin=298 //K\n",
"tout=273 //K\n",
"tout2=308 //K\n",
"tin2=294 //K\n",
"//calculations\n",
"eta1=(tin-tout)/tin\n",
"eta2=abs((tin2-tout2)/tin2)\n",
"//results\n",
"printf('Efficiency in case 1 = %.3f',eta1)\n",
"printf('\n efficiency in case 2 = %.3f',eta2)\n",
""
   ]
   }
,
{
		   "cell_type": "markdown",
		   "metadata": {},
		   "source": [
			"## Example 4.26: Example_26.sce"
		   ]
		  },
  {
"cell_type": "code",
	   "execution_count": null,
	   "metadata": {
	    "collapsed": true
	   },
	   "outputs": [],
"source": [
"clc\n",
"clear\n",
"//Initialization of variables\n",
"ma=500 //kg/h\n",
"cp1=3.2 //kJ/kg K\n",
"ta=20 //C\n",
"mb=200\n",
"mc=300 //kg/h\n",
"cp2=2.8 //kJ/kg K\n",
"tc=80 //C\n",
"tb=80 //C\n",
"me=50 //kg/h\n",
"te=120 //C\n",
"td=120 //C\n",
"hg=503.7\n",
"he=2706.3\n",
"//calcualtions\n",
"Ws=(mb+me)*hg + mc*cp2*(tc) - me*he -ma*cp1*(ta)\n",
"//results\n",
"printf('Net work done = %d kJ/h',Ws)"
   ]
   }
,
{
		   "cell_type": "markdown",
		   "metadata": {},
		   "source": [
			"## Example 4.27: Example_27.sce"
		   ]
		  },
  {
"cell_type": "code",
	   "execution_count": null,
	   "metadata": {
	    "collapsed": true
	   },
	   "outputs": [],
"source": [
"clc\n",
"clear\n",
"//Initialization of variables\n",
"hc=150 //Btu/lb\n",
"he=-115 //Btu/lb\n",
"hg=168 //Btu/lb\n",
"//calculations\n",
"frac=(hg-hc)/(hg-he)\n",
"//results\n",
"printf('Fraction of solid = %.3f',frac)"
   ]
   }
,
{
		   "cell_type": "markdown",
		   "metadata": {},
		   "source": [
			"## Example 4.28: Example_28.sce"
		   ]
		  },
  {
"cell_type": "code",
	   "execution_count": null,
	   "metadata": {
	    "collapsed": true
	   },
	   "outputs": [],
"source": [
"clc\n",
"clear\n",
"//Initialization of variables\n",
"H=2696.5 //kJ/kg\n",
"hg=2706.7 //kJ/kg\n",
"hf=504.7 //kJ/kg\n",
"//calculations\n",
"x= (H-hf)/(hg-hf)\n",
"x2=1\n",
"//results\n",
"printf('In case 1, fraction of vapor = %.3f',x)\n",
"printf('\n In case 2, fraction of vapor = %.3f',x2)"
   ]
   }
,
{
		   "cell_type": "markdown",
		   "metadata": {},
		   "source": [
			"## Example 4.2: Example_2.sce"
		   ]
		  },
  {
"cell_type": "code",
	   "execution_count": null,
	   "metadata": {
	    "collapsed": true
	   },
	   "outputs": [],
"source": [
"clc\n",
"clear\n",
"//Initialization of variables\n",
"p1=2.758 //Mpa\n",
"p2=0.552 //Mpa\n",
"T1=700 //K\n",
"T2=700 //K\n",
"n=1\n",
"R=8.3143\n",
"Cv=21\n",
"Cp=29.3\n",
"//calculations\n",
"dsa=n*R*log(p1/p2)\n",
"T3=437.5 //K\n",
"dsb=Cv*log(T3/T2)\n",
"T4=350 //K\n",
"dsc=Cp*log(T4/T3)\n",
"T5=634 //K\n",
"dsd=0\n",
"T6=700 //K\n",
"dse=Cp*log(T6/T5)\n",
"dstotal=dsa+dsb+dsc+dsd+dse\n",
"//results\n",
"printf('Entropy change in case a = %.3f kJ/kmol K',dsa)\n",
"printf('\n Entropy change in case b = %.3f kJ/kmol K',dsb)\n",
"printf('\n Entropy change in case c = %.3f kJ/kmol K',dsc)\n",
"printf('\n Entropy change in case d = %.3f kJ/kmol K',dsd)\n",
"printf('\n Entropy change in case e = %.3f kJ/kmol K',dse)\n",
"printf('\n Entropy change in total process = %.3f kJ/kmol K',dstotal)"
   ]
   }
,
{
		   "cell_type": "markdown",
		   "metadata": {},
		   "source": [
			"## Example 4.3: Example_3.sce"
		   ]
		  },
  {
"cell_type": "code",
	   "execution_count": null,
	   "metadata": {
	    "collapsed": true
	   },
	   "outputs": [],
"source": [
"clc\n",
"clear\n",
"//Initialization of variables\n",
"ratio=1/2\n",
"R=8.314\n",
"p1=0.5 //kPa\n",
"p2=0.1 //kPa\n",
"//calculations\n",
"ya=ratio/(1+ratio)\n",
"ds=-ya*R*log(ya) - (1-ya)*R*log(1-ya)\n",
"dss=R*log(p1/p2)\n",
"//results\n",
"printf('Entropy of mixing = %.3f kJ/kmol K',ds)\n",
"printf('\n Total entropy change of the universe = %.2f kJ/kmol K',dss)"
   ]
   }
,
{
		   "cell_type": "markdown",
		   "metadata": {},
		   "source": [
			"## Example 4.4: Example_4.sce"
		   ]
		  },
  {
"cell_type": "code",
	   "execution_count": null,
	   "metadata": {
	    "collapsed": true
	   },
	   "outputs": [],
"source": [
"clc\n",
"clear\n",
"//Initialization of variables\n",
"s1=7.096 //kJ/kg K\n",
"s2=7.915  //kJ/kg K\n",
"s3=7.16  //kJ/kg K\n",
"s4=7.014  //kJ/kg K\n",
"s5=6.999  //kJ/kg K\n",
"//calculations\n",
"dsa=s2-s1\n",
"dsb=s3-s2\n",
"dsc=s4-s3\n",
"dsd=s5-s4\n",
"dse=s1-s5\n",
"dstotal=dsa+dsb+dsc+dsd+dse\n",
"//results\n",
"printf('Change in entropy in process a =%.3f  kJ/kg K',dsa)\n",
"printf('\n Change in entropy in process b =%.3f  kJ/kg K',dsb)\n",
"printf('\n Change in entropy in process c =%.3f  kJ/kg K',dsc)\n",
"printf('\n Change in entropy in process d =%.3f  kJ/kg K',dsd)\n",
"printf('\n Change in entropy in process e =%.3f  kJ/kg K',dse)\n",
"printf('\n Change in entropy in total process  =%.3f  kJ/kg K',dstotal)"
   ]
   }
,
{
		   "cell_type": "markdown",
		   "metadata": {},
		   "source": [
			"## Example 4.5: Example_5.sce"
		   ]
		  },
  {
"cell_type": "code",
	   "execution_count": null,
	   "metadata": {
	    "collapsed": true
	   },
	   "outputs": [],
"source": [
"clc\n",
"clear\n",
"//Initialization of variables\n",
"m1=5000 //kg/h\n",
"cp1=3.2 //kJ/kg K\n",
"cp2=4.186 //kJ/kg K\n",
"t1=220 //C\n",
"t2=30 //C\n",
"T1=210 //C\n",
"T2=20 //C\n",
"//calculations\n",
"m2=m1*cp1*(t1-t2)/(cp2*(T1-T2))\n",
"ds=m1*cp1*log((t2+273.1)/(t1+273.1)) + m2*cp2*log((T1+273.1)/(T2+273.1))\n",
"//results\n",
"printf('Change in entropy = %d kJ/h K',ds)"
   ]
   }
,
{
		   "cell_type": "markdown",
		   "metadata": {},
		   "source": [
			"## Example 4.6: Example_6.sce"
		   ]
		  },
  {
"cell_type": "code",
	   "execution_count": null,
	   "metadata": {
	    "collapsed": true
	   },
	   "outputs": [],
"source": [
"clc\n",
"clear\n",
"//Initialization of variables\n",
"s1=218.8 //kJ/kmol K\n",
"s2=188.85 //kJ/kmol K\n",
"s3=237.8 //kJ/kmol K\n",
"s4=205.2 //kJ/kmol K\n",
"//calculations\n",
"ds=s1+s2-s3-0.5*s4\n",
"//results\n",
"printf('Entropy change  = %.2f kJ/kmol K',ds)"
   ]
   }
,
{
		   "cell_type": "markdown",
		   "metadata": {},
		   "source": [
			"## Example 4.7: Example_7.sce"
		   ]
		  },
  {
"cell_type": "code",
	   "execution_count": null,
	   "metadata": {
	    "collapsed": true
	   },
	   "outputs": [],
"source": [
"clc\n",
"clear\n",
"//Initialization of variables\n",
"Q=6 //kJ/kg\n",
"p1=1.5 //Mpa\n",
"p2=0.1 //Mpa\n",
"t1=500 //C\n",
"t2=140.8 //C\n",
"h1=3473.1 //kJ\n",
"h2=2758.1 //kJ\n",
"s1=7.5698 //kJ/K\n",
"s2=7.5698 //kJ/K\n",
"eff=0.85\n",
"Ts=293.1 //K\n",
"//calculations\n",
"Wideal=h2-h1\n",
"Ws=eff*Wideal\n",
"dH=-Q-Ws\n",
"H2=h1+dH\n",
"S2=7.8005\n",
"ds=S2-s1\n",
"Wlost=Ts*ds+Q\n",
"//results\n",
"printf('lost work = %.1f kJ',Wlost)"
   ]
   }
,
{
		   "cell_type": "markdown",
		   "metadata": {},
		   "source": [
			"## Example 4.8: Example_8.sce"
		   ]
		  },
  {
"cell_type": "code",
	   "execution_count": null,
	   "metadata": {
	    "collapsed": true
	   },
	   "outputs": [],
"source": [
"clc\n",
"clear\n",
"//Initialization of variables\n",
"m=5000 ///kg/h\n",
"cp=3.2 //kJ/kg K\n",
"Ts=30+273.1 //K\n",
"t1=220 //C\n",
"t2=40 //C\n",
"Q=2.88*10^6 //kJ\n",
"//calculations\n",
"Q=m*cp*(t2-t1)\n",
"dss=m*cp*log((t2+273.1)/(t1+273.1))\n",
"Wlost=Ts*dss-Q\n",
"eff=Ts*dss/Q\n",
"//results\n",
"printf('Lost work = %d kJ',Wlost)\n",
"printf('\n Efficiency = %.3f',eff)"
   ]
   }
,
{
		   "cell_type": "markdown",
		   "metadata": {},
		   "source": [
			"## Example 4.9: Example_9.sce"
		   ]
		  },
  {
"cell_type": "code",
	   "execution_count": null,
	   "metadata": {
	    "collapsed": true
	   },
	   "outputs": [],
"source": [
"clc\n",
"clear\n",
"//Initialization of variables\n",
"R=8.314\n",
"cp=35.58\n",
"n=100/16\n",
"T1=300 //K\n",
"T2=500 //K\n",
"k=1.305\n",
"P2=3 //Mpa\n",
"P1=0.5 //Mpa\n",
"Ts=290 //K\n",
"//calculations\n",
"cv=cp-R\n",
"Wi=n*R*T1/(k-1) *((P2/P1)^((k-1)/k) -1)\n",
"Hi=Wi\n",
"Ha=n*cp*(T2-T1)\n",
"eta=abs(Hi/Ha)\n",
"dss1=cp*log(T2/T1) - R*log(P2/P1)\n",
"Wl1=Ts*dss1\n",
"dss2=n*cp*log(T2/T1)\n",
"dss3=abs(Ha/Ts)\n",
"dsst=dss2+dss3\n",
"Wl2=-Ts*dss2 +Ha\n",
"Wlost=Wl1+Wl2\n",
"//results\n",
"printf('Thermodynamic efficiency = %.3f',eta)\n",
"printf('\n Net work lost = %d kJ',Wlost)"
   ]
   }
],
"metadata": {
		  "kernelspec": {
		   "display_name": "Scilab",
		   "language": "scilab",
		   "name": "scilab"
		  },
		  "language_info": {
		   "file_extension": ".sce",
		   "help_links": [
			{
			 "text": "MetaKernel Magics",
			 "url": "https://github.com/calysto/metakernel/blob/master/metakernel/magics/README.md"
			}
		   ],
		   "mimetype": "text/x-octave",
		   "name": "scilab",
		   "version": "0.7.1"
		  }
		 },
		 "nbformat": 4,
		 "nbformat_minor": 0
}
