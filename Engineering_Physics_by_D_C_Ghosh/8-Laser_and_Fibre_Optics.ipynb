{
"cells": [
 {
		   "cell_type": "markdown",
	   "metadata": {},
	   "source": [
       "# Chapter 8: Laser and Fibre Optics"
	   ]
	},
{
		   "cell_type": "markdown",
		   "metadata": {},
		   "source": [
			"## Example 8.1: Image_produced_by_laser_beam.sce"
		   ]
		  },
  {
"cell_type": "code",
	   "execution_count": null,
	   "metadata": {
	    "collapsed": true
	   },
	   "outputs": [],
"source": [
"// Scilab Code Ex8.1: Page-397 (2008)\n",
"clc; clear;\n",
"lambda = 6000e-008;     // Wavelength of the lase beam, cm\n",
"P = 10e-003;    // Power of the laser beam, W\n",
"theta = 1.5e-004;   // Angular spread of laser beam, rad\n",
"f = 10;    // Focal length of the lens, cm\n",
"r = f*theta;    // Radius of the image, cm\n",
"rho = P/(%pi*r^2*1e+003);  // Power density of the image, kW/Sq.cm\n",
"L_w = lambda/(theta/10);     // Coherence width, mm\n",
"printf('\nThe radius of the image = %3.1e cm', r);\n",
"printf('\nThe power density of the image = %3.1f kW/Sq.cm', rho);\n",
"printf('\nThe coherence width = %d mm', L_w);\n",
"// Result \n",
"// The radius of the image = 1.5e-03 cm\n",
"// The power density of the image = 1.4 kW/Sq.cm\n",
"// The coherence width = 4 mm "
   ]
   }
,
{
		   "cell_type": "markdown",
		   "metadata": {},
		   "source": [
			"## Example 8.2: Pumping_energy_required_for_He_Ne_laser_transition.sce"
		   ]
		  },
  {
"cell_type": "code",
	   "execution_count": null,
	   "metadata": {
	    "collapsed": true
	   },
	   "outputs": [],
"source": [
"// Scilab Code Ex8.2: Page-398 (2008)\n",
"clc; clear;\n",
"lambda = 632.8e-009;     // Wavelength of the lase beam, cm\n",
"E_2P = 15.2e-019;    // Energy of 2P level, J\n",
"h = 6.626e-034;     // Planck's constant, Js\n",
"c = 3e+008;     // Speed of light, m/s\n",
"e = 1.6e-019;   // Energy equivalent of 1 eV, J/eV\n",
"E_Pump = E_2P + h*c/lambda; // The required pumping energy, J\n",
"printf('\nThe pumping energy required for He Ne laser transition = %5.2f eV', E_Pump/e);\n",
"// Result \n",
"// The pumping energy required for He Ne laser transition = 11.46 eV "
   ]
   }
,
{
		   "cell_type": "markdown",
		   "metadata": {},
		   "source": [
			"## Example 8.3: Wavelength_of_radiation_emitted_at_room_temperature.sce"
		   ]
		  },
  {
"cell_type": "code",
	   "execution_count": null,
	   "metadata": {
	    "collapsed": true
	   },
	   "outputs": [],
"source": [
"// Scilab Code Ex8.3: Page-398 (2008)\n",
"clc; clear;\n",
"h = 6.626e-034;     // Planck's constant, Js\n",
"c = 3e+008;     // Speed of light, m/s\n",
"T = 27+273;     // Room temperature, K\n",
"k = 1.38e-023;  // Boltzmann constant, J/mol/K\n",
"lambda = h*c/(k*T); // Wavelength of radiation mitted at room temperature, m\n",
"printf('\nThe wavelength of radiation mitted at room temperature = %3.1e m', lambda);\n",
"// Result \n",
"// The wavelength of radiation mitted at room temperature = 4.8e-05 m"
   ]
   }
,
{
		   "cell_type": "markdown",
		   "metadata": {},
		   "source": [
			"## Example 8.4: Refractive_index_of_the_cladding_in_an_optical_fibre.sce"
		   ]
		  },
  {
"cell_type": "code",
	   "execution_count": null,
	   "metadata": {
	    "collapsed": true
	   },
	   "outputs": [],
"source": [
"// Scilab Code Ex8.4: Page-398 (2008)\n",
"clc; clear;\n",
"NA = 0.5;   // Numerical aperture of the optical fibre\n",
"n1 = 1.54;  // Refractive index of the core material\n",
"n2 = sqrt(n1^2-NA^2);   // Refractive index of the cladding in an optical fibre\n",
"printf('\nThe refractive index of the cladding in the optical fibre = %4.2f', n2);\n",
"// Result \n",
"// The refractive index of the cladding in the optical fibre = 1.46 "
   ]
   }
,
{
		   "cell_type": "markdown",
		   "metadata": {},
		   "source": [
			"## Example 8.5: Numerical_aperture_and_acceptance_angle_of_the_optical_fibre.sce"
		   ]
		  },
  {
"cell_type": "code",
	   "execution_count": null,
	   "metadata": {
	    "collapsed": true
	   },
	   "outputs": [],
"source": [
"// Scilab Code Ex8.5: Page-398 (2008)\n",
"clc; clear;\n",
"n1 = 1.51;  // Refractive index of the core material\n",
"n2 = 1.47;   // Refractive index of the cladding \n",
"NA = sqrt(n1^2-n2^2);   // Numerical aperture of the optical fibre\n",
"n0 = 1;     // Refractive index of air\n",
"theta_a = asin(NA/n0);  // Acceptance angle of the optical fibre, rad\n",
"printf('\nThe numerical aperture of the optical fibre = %6.4f', NA);\n",
"printf('\nThe acceptance angle of the optical fibre = %4.2f degrees', theta_a*180/3.14);\n",
"// Result \n",
"// The numerical aperture of the optical fibre = 0.3453\n",
"// The acceptance angle of the optical fibre = 20.21 degrees "
   ]
   }
],
"metadata": {
		  "kernelspec": {
		   "display_name": "Scilab",
		   "language": "scilab",
		   "name": "scilab"
		  },
		  "language_info": {
		   "file_extension": ".sce",
		   "help_links": [
			{
			 "text": "MetaKernel Magics",
			 "url": "https://github.com/calysto/metakernel/blob/master/metakernel/magics/README.md"
			}
		   ],
		   "mimetype": "text/x-octave",
		   "name": "scilab",
		   "version": "0.7.1"
		  }
		 },
		 "nbformat": 4,
		 "nbformat_minor": 0
}
