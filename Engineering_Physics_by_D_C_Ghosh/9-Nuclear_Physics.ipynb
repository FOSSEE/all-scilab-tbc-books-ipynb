{
"cells": [
 {
		   "cell_type": "markdown",
	   "metadata": {},
	   "source": [
       "# Chapter 9: Nuclear Physics"
	   ]
	},
{
		   "cell_type": "markdown",
		   "metadata": {},
		   "source": [
			"## Example 9.1_1: Binding_energy_per_nucleon_for_Ni.sce"
		   ]
		  },
  {
"cell_type": "code",
	   "execution_count": null,
	   "metadata": {
	    "collapsed": true
	   },
	   "outputs": [],
"source": [
"// Scilab Code Ex9.1.1:Page-411 (2008)\n",
"clc; clear;\n",
"u = 931.508;    // Energy equivalent of 1 amu, MeV\n",
"Z = 28;    // Atomic number of ni-64\n",
"A = 64;    // Mass number of Ni-64\n",
"m_p = 1.007825;     // Mass of a proton, u\n",
"m_n = 1.008665;    // Mass of a neutron, u\n",
"M_Ni = 63.9280;    // Atomic mass of Ni-64 nucleus, u\n",
"delta_m = Z*m_p + (A-Z)*m_n - M_Ni;    // Mass difference, u\n",
"BE = delta_m*u;    // Binding energy of Ni-64 nucleus, MeV\n",
"BE_bar = BE/A;    // Binding energy per nucleon of Ni-64 nucleus, MeV\n",
"printf('\nThe binding energy per nucleon for Ni-64 nucleus = %4.2f MeV/nucleon', BE_bar);\n",
"// Result \n",
"// The binding energy per nucleon for Ni-64 nucleus = 8.78 MeV/nucleon "
   ]
   }
,
{
		   "cell_type": "markdown",
		   "metadata": {},
		   "source": [
			"## Example 9.1_2: Binding_energy_per_nucleon_for_deutron.sce"
		   ]
		  },
  {
"cell_type": "code",
	   "execution_count": null,
	   "metadata": {
	    "collapsed": true
	   },
	   "outputs": [],
"source": [
"// Scilab Code Ex9.1.2:Page-411 (2008)\n",
"clc; clear;\n",
"e = 1.6e-013;    // Energy equivalent of 1 MeV, J\n",
"m_p = 1.672e-027;     // Mass of a proton, kg\n",
"m_n = 1.675e-027;    // Mass of a neutron, kg\n",
"M_D = 3.343e-027;    // Mass of a deutron, kg\n",
"c = 3.00e+008;    // Speed of light in vacuum, m/s\n",
"delta_m = m_p + m_n - M_D;    // Mass defect, kg\n",
"E_B = delta_m*c^2/e;    // Binding energy for the deutron, MeV\n",
"BE_bar = E_B/2;    // Binding energy per nucleon for the deutron, MeV\n",
"printf('\nThe binding energy per nucleon for the deutron = %5.3f MeV/nucleon', BE_bar);\n",
"// Result \n",
"// The binding energy per nucleon for the deutron = 1.125 MeV/nucleon "
   ]
   }
,
{
		   "cell_type": "markdown",
		   "metadata": {},
		   "source": [
			"## Example 9.1_3: Packing_fraction_and_binding_energy_per_nucleon_for_oxygen.sce"
		   ]
		  },
  {
"cell_type": "code",
	   "execution_count": null,
	   "metadata": {
	    "collapsed": true
	   },
	   "outputs": [],
"source": [
"// Scilab Code Ex9.1.3:Page-411 (2008)\n",
"clc; clear;\n",
"u = 931.508;    // Energy equivalent of 1 amu, MeV\n",
"Z = 8;    // Atomic number of O-16\n",
"A = 16;    // Mass number of O-16\n",
"m_p = 1.008142;     // Mass of a proton, u\n",
"m_n = 1.008982;    // Mass of a neutron, u\n",
"M_O = 15.994915;    // Atomic mass of O-16 nucleus, u\n",
"delta_m = Z*m_p + (A-Z)*m_n - M_O;    // Mass difference, u\n",
"BE = delta_m*u;    // Binding energy of O-16 nucleus, MeV\n",
"BE_bar = BE/A;    // Binding energy per nucleon of O-16 nucleus, MeV\n",
"delta_m = abs(M_O - A);    // Mass difference, u\n",
"PF = delta_m/A;    // Packing fraction for O-16 nucleus, u\n",
"printf('\nThe binding energy per nucleon for O-16 nucleus = %4.2f MeV/nucleon', BE_bar);\n",
"printf('\nThe packing fraction for O-16 nucleus = %5.3e u', PF);\n",
"// Result \n",
"// The binding energy per nucleon for O-16 nucleus = 8.27 MeV/nucleon\n",
"// The packing fraction for O-16 nucleus = 3.178e-004 u "
   ]
   }
,
{
		   "cell_type": "markdown",
		   "metadata": {},
		   "source": [
			"## Example 9.1_4: Atomic_mass_of_neon.sce"
		   ]
		  },
  {
"cell_type": "code",
	   "execution_count": null,
	   "metadata": {
	    "collapsed": true
	   },
	   "outputs": [],
"source": [
"// Scilab Code Ex9.1.4: Page-411 (2008)\n",
"clc; clear;\n",
"u = 931.508;    // Energy equivalent of 1 amu, MeV\n",
"Z = 10;    // Atomic number of Ne-20\n",
"A = 20;    // Mass number of Ne-0\n",
"m_p = 1.007825;     // Mass of a proton, u\n",
"m_n = 1.008665;    // Mass of a neutron, u\n",
"BE = 160.64;    // Binding energy of Ne-20 nucleus, MeV\n",
"M = Z*m_p + (A-Z)*m_n + Z*0.51/u - BE/u;    // Atomic mass of Ne-20 nucleus, u\n",
"printf('\nThe atomic mass of Ne = %7.4f a.m.u', M);\n",
"// Result \n",
"// The atomic mass of Ne = 19.9979 a.m.u "
   ]
   }
,
{
		   "cell_type": "markdown",
		   "metadata": {},
		   "source": [
			"## Example 9.2_11: Q_value_of_nuclear_reaction.sce"
		   ]
		  },
  {
"cell_type": "code",
	   "execution_count": null,
	   "metadata": {
	    "collapsed": true
	   },
	   "outputs": [],
"source": [
"// Scilab Code Ex9.2.11: Page-418(2008)\n",
"clc; clear;\n",
"u = 931.5;    // Energy equivalent of 1 amu, MeV\n",
"m_x = 4.002603;    // Mass of projectile (alpha-particle), u\n",
"m_y = 1.007825;    // Mass of emitted particle (proton), u\n",
"M_X = 14.0031;     // Mass of target nucleus (N-14), u\n",
"M_Y = 16.9994;    // Mass of daughter nucleus (O-16), u\n",
"Q = ((m_x + M_X) - (m_y + M_Y))*u;    // Q-value of the reaction, MeV\n",
"printf('\nThe Q-value of the nuclear reaction = %5.3f MeV', Q);\n",
"// Result \n",
"// The Q-value of the nuclear reaction = -1.418 MeV "
   ]
   }
,
{
		   "cell_type": "markdown",
		   "metadata": {},
		   "source": [
			"## Example 9.2_12: Threshold_energy_for_the_reactions.sce"
		   ]
		  },
  {
"cell_type": "code",
	   "execution_count": null,
	   "metadata": {
	    "collapsed": true
	   },
	   "outputs": [],
"source": [
"// Scilab Code Ex9.2.12: Page-418(2008)\n",
"clc; clear;\n",
"u = 931.5;    // Energy equivalent of 1 amu, MeV\n",
"// First reaction\n",
"m_x = 1.007825;    // Mass of projectile (proton), u\n",
"m_y = 2.014102;    // Mass of emitted particle (deutron), u\n",
"M_X = 208.980394;     // Mass of target nucleus (Bi-209), u\n",
"M_Y = 207.979731;    // Mass of daughter nucleus (Bi-208), u\n",
"Q = ((m_x + M_X) - (m_y + M_Y))*u;    // Q-value of the reaction, MeV\n",
"Ex_threshold = -Q*(m_x + M_X)/M_X;    // The smallest value of the projectile energy, MeV\n",
"printf('\nThe threshhold energy of the reaction Bi(209,83) + p --> Bi(208,83) + d = %4.2f MeV', Ex_threshold);\n",
"// Second reaction\n",
"m_x = 4.002603;    // Mass of projectile (alpha-particle), u\n",
"m_y = 1.007825;    // Mass of emitted particle (proton), u\n",
"M_X = 27.98210;     // Mass of target nucleus (Al-27), u\n",
"M_Y = 30.973765;    // Mass of daughter nucleus (P-31), u\n",
"Q = ((m_x + M_X) - (m_y + M_Y))*u;    // Q-value of the reaction, MeV\n",
"Ex_threshold = -Q*(m_x + M_X)/M_X;    // The smallest value of the projectile energy, MeV\n",
"printf('\nThe threshhold energy of the reaction Al(27,13) + He --> P(31,15) + p = %4.2f MeV', Ex_threshold);\n",
"// Result \n",
"// The threshhold energy of the reaction Bi(209,83) + p --> Bi(208,83) + d = 5.25 MeV\n",
"// The threshhold energy of the reaction Al(27,13) + He --> P(31,15) + p = -3.31 MeV "
   ]
   }
,
{
		   "cell_type": "markdown",
		   "metadata": {},
		   "source": [
			"## Example 9.2_13: Finding_unknown_particles_in_the_nuclear_reactions.sce"
		   ]
		  },
  {
"cell_type": "code",
	   "execution_count": null,
	   "metadata": {
	    "collapsed": true
	   },
	   "outputs": [],
"source": [
"// Scilab Code Ex9.2.13: Page-418(2008)\n",
"clc; clear;\n",
"function p = Find(Z, A)\n",
"    if Z == 2 & A == 4 then\n",
"        p = 'alpha';\n",
"    end\n",
"    if Z == -1 & A == 0 then\n",
"        p = 'beta-';\n",
"    end\n",
"    if  Z == 1 & A == 0 then\n",
"        p = 'beta+';\n",
"    end\n",
"endfunction   \n",
"R1 = cell(4,3);\n",
"R2 = cell(4,3);\n",
"// Enter data for first cell (Reaction)\n",
"R1(1,1).entries = 'Li'; // Element\n",
"R1(1,2).entries = 3;   // Atomic number\n",
"R1(1,3).entries = 6;    // Mass number\n",
"R1(2,1).entries = 'd';\n",
"R1(2,2).entries = 1;\n",
"R1(2,3).entries = 2;\n",
"R1(3,1).entries = 'X';\n",
"R1(3,2).entries = 0;\n",
"R1(3,3).entries = 0;\n",
"R1(4,1).entries = 'He';\n",
"R1(4,2).entries = 2;\n",
"R1(4,3).entries = 4;\n",
"// Enter data for second cell (Reaction)\n",
"R2(1,1).entries = 'Te';\n",
"R2(1,2).entries = 52;\n",
"R2(1,3).entries = 122;\n",
"R2(2,1).entries = 'X';\n",
"R2(2,2).entries = 0;\n",
"R2(2,3).entries = 0;\n",
"R2(3,1).entries = 'I';\n",
"R2(3,2).entries = 53;\n",
"R2(3,3).entries = 124;\n",
"R2(4,1).entries = 'd';\n",
"R2(4,2).entries = 1;\n",
"R2(4,3).entries = 2;\n",
"R1(3,2).entries = R1(1,2).entries+R1(2,2).entries-R1(4,2).entries\n",
"R1(3,3).entries = R1(1,3).entries+R1(2,3).entries-R1(4,3).entries\n",
"particle = Find(R1(3,2).entries, R1(3,3).entries);    // Find the unknown particle\n",
"printf('\nFor the reaction\n')\n",
"            printf('\t%s(%d) + %s(%d) --> %s + %s(%d)\n X must be an %s particle', R1(1,1).entries, R1(1,3).entries, R1(2,1).entries, R1(2,3).entries, R1(3,1).entries, R1(4,1).entries, R1(4,3).entries, particle);\n",
"R2(2,2).entries = R2(3,2).entries+R2(4,2).entries-R2(1,2).entries\n",
"R2(2,3).entries = R2(3,3).entries+R2(4,3).entries-R2(1,3).entries\n",
"particle = Find(R2(2,2).entries, R2(2,3).entries);    // Find the unknown particle\n",
"printf('\n\nFor the reaction\n')\n",
"            printf('\t%s(%d) + %s --> %s(%d)+%s(%d)\n X must be an %s particle', R2(1,1).entries, R2(1,3).entries, R2(2,1).entries, R2(3,1).entries, R2(3,3).entries, R2(4,1).entries, R2(4,3).entries, particle);\n",
"            \n",
"// Result\n",
"// For the reaction\n",
"//	Li(6) + d(2) --> X + He(4)\n",
"//  X must be an alpha particle\n",
"// For the reaction\n",
"// 	Te(122) + X --> I(124)+d(2)\n",
"//  X must be an alpha particle "
   ]
   }
,
{
		   "cell_type": "markdown",
		   "metadata": {},
		   "source": [
			"## Example 9.2_14: Comptom_scattering.sce"
		   ]
		  },
  {
"cell_type": "code",
	   "execution_count": null,
	   "metadata": {
	    "collapsed": true
	   },
	   "outputs": [],
"source": [
"// Scilab Code Ex9.2.14: Page-419(2008)\n",
"clc; clear;\n",
"h = 6.63e-034;    // Planck's constant, Js\n",
"c = 3e+008;    // Speed of light, m/s\n",
"lambda = 10e-012;    // Wavelength of incident X-rays, m\n",
"lambda_c = 2.426e-012;    // Compton wavelength for the electron, m\n",
"phi = 45;    // Angle of scattering of X-rays, degree\n",
"lambda_prime = lambda + lambda_c*(1 - cosd(phi));    // Wavelength of scattered X-rays, m\n",
"// For maximum wavelength\n",
"phi = 180;    // Angle for maximum scattering, degree\n",
"lambda_prime_max = lambda + lambda_c*(1 - cosd(phi)) ;    // Maximum wavelength present in the scattered X-rays, m\n",
"KE_max = h*c*(1/lambda-1/lambda_prime_max);    // Maximum kinetic energy of the recoil electrons, J\n",
"printf('\nThe wavelength of scattered X-rays = %5.2e m', lambda_prime);\n",
"printf('\nThe maximum wavelength present in the scattered X-rays = %6.3f pm', lambda_prime_max/1e-012);\n",
"printf('\nThe maximum kinetic energy of the recoil electrons = %5.3e J', KE_max);\n",
"// Result\n",
"// The wavelength of scattered X-rays = 1.07e-011 m\n",
"// The maximum wavelength present in the scattered X-rays = 14.852 pm\n",
"// The maximum kinetic energy of the recoil electrons = 6.498e-015 J "
   ]
   }
,
{
		   "cell_type": "markdown",
		   "metadata": {},
		   "source": [
			"## Example 9.2_16: Miller_indices_for_the_lattice_planes.sce"
		   ]
		  },
  {
"cell_type": "code",
	   "execution_count": null,
	   "metadata": {
	    "collapsed": true
	   },
	   "outputs": [],
"source": [
"// Scilab Code Ex9.2.16: Page-420(2008)\n",
"clc; clear;\n",
"m = 3; n = 3; p = 2; // Coefficients of intercepts along three axes\n",
"m_inv = 1/m;        // Reciprocate the first coefficient\n",
"n_inv = 1/n;        // Reciprocate the second coefficient\n",
"p_inv = 1/p;        // Reciprocate the third coefficient\n",
"mul_fact = double(lcm(int32([m,n,p]))); // Find l.c.m. of m,n and p\n",
"m1 = m_inv*mul_fact;    // Clear the first fraction\n",
"m2 = n_inv*mul_fact;    // Clear the second fraction\n",
"m3 = p_inv*mul_fact;    // Clear the third fraction\n",
"printf('\nThe miller indices for planes with set of intercepts (%da, %db, %dc) are (%d %d %d) ', m, n, p, m1, m2, m3);\n",
"m = 1; n = 2; p = %inf; // Coefficients of intercepts along three axes\n",
"m_inv = 1/m;        // Reciprocate the first coefficient\n",
"n_inv = 1/n;        // Reciprocate the second coefficient\n",
"p_inv = 1/p;        // Reciprocate the third coefficient\n",
"mul_fact = double(lcm(int32([m,n]))); // Find l.c.m. of m,n and p\n",
"m1 = m_inv*mul_fact;    // Clear the first fraction\n",
"m2 = n_inv*mul_fact;    // Clear the second fraction\n",
"m3 = p_inv*mul_fact;    // Clear the third fraction\n",
"printf('\nThe miller indices for planes with set of intercepts (%da, %db, %dc) are (%d %d %d) ', m, n, p, m1, m2, m3);\n",
"// Result\n",
"// The miller indices for planes with set of intercepts (3a, 3b, 2c) are (2 2 3) \n",
"// The miller indices for planes with set of intercepts (1a, 2b, Infc) are (2 1 0)  "
   ]
   }
,
{
		   "cell_type": "markdown",
		   "metadata": {},
		   "source": [
			"## Example 9.2_19: Glancing_angles_for_the_second_and_third_order_reflections.sce"
		   ]
		  },
  {
"cell_type": "code",
	   "execution_count": null,
	   "metadata": {
	    "collapsed": true
	   },
	   "outputs": [],
"source": [
"// Scilab Code Ex9.2.19: Page-421(2008)\n",
"clc; clear;\n",
"d = 1;    // For simplicity assume interplanar spacing to be unity, m\n",
"theta = 15;    // Glancing angle for first order, degree\n",
"n = 1;    // Order of reflection\n",
"// From Bragg's law, 2*d*sind(theta) = n*lambda, solving for lambda\n",
"lambda = 2*d*sind(theta)/n;    // Wavelength of incident X-ray, angstrom\n",
"// For second order reflection\n",
"n = 2\n",
"theta = asind(n*lambda/(2*d));    // Glancing angle for second order reflection, degree\n",
"printf('\nThe glancing angle for the second order reflection = %4.1f degree', theta);\n",
"// For third order reflection\n",
"n = 3;\n",
"theta = asind(n*lambda/(2*d));    // Glancing angle for third order reflection, degree\n",
"printf('\nThe glancing angle for the third order reflection = %4.1f degree', theta);\n",
"// Result\n",
"// The glancing angle for the second order reflection = 31.2 degree\n",
"// The glancing angle for the third order reflection = 50.9 degree "
   ]
   }
,
{
		   "cell_type": "markdown",
		   "metadata": {},
		   "source": [
			"## Example 9.2_1: Average_number_of_photons_pe_cubic_metre_in_a_monochromatic_beam.sce"
		   ]
		  },
  {
"cell_type": "code",
	   "execution_count": null,
	   "metadata": {
	    "collapsed": true
	   },
	   "outputs": [],
"source": [
"// Scilab Code Ex9.2.1: Page-414 (2008)\n",
"clc; clear;\n",
"h = 6.63e-034;    // Planck's constant, Js\n",
"c = 3.00e+008;    // Speed of light in vacuum, m/s\n",
"I = 1e+004;    // Intensity of monochromatic beam, W/Sq.m\n",
"nu = 1e+004;    // Frequency of monochromatic beam, Hz\n",
"n = I/(h*nu*c);    // Average number of photons per cubic metre, photons/metre-cube\n",
"printf('\nThe average number of photons in the monochromatic beam of radiation = %4.2e photons/metre-cube', n);\n",
"// Result \n",
"// The average number of photons in the monochromatic beam of radiation = 5.03e+024 photons/metre-cube "
   ]
   }
,
{
		   "cell_type": "markdown",
		   "metadata": {},
		   "source": [
			"## Example 9.2_2: Average_number_of_photons_pe_cubic_metre_in_a_monochromatic_beam.sce"
		   ]
		  },
  {
"cell_type": "code",
	   "execution_count": null,
	   "metadata": {
	    "collapsed": true
	   },
	   "outputs": [],
"source": [
"// Scilab Code Ex9.2.2: : Page-414 (2008)\n",
"clc; clear;\n",
"h = 6.63e-034;    // Planck's constant, Js\n",
"c = 3.00e+008;    // Speed of light in vacuum, m/s\n",
"I = 1e+004;    // Intensity of monochromatic beam, W/Sq.m\n",
"nu = 1e+004;    // Frequency of monochromatic beam, Hz\n",
"n = I/(h*nu*c);    // Average number of photons per cubic metre, photons/metre-cube\n",
"printf('\nThe average number of photons in the monochromatic beam of radiation = %4.2e photons/metre-cube', n);\n",
"// Result \n",
"// The average number of photons in the monochromatic beam of radiation = 5.03e+024 photons/metre-cube "
   ]
   }
,
{
		   "cell_type": "markdown",
		   "metadata": {},
		   "source": [
			"## Example 9.2_3: Photoelectric_effect_with_silver.sce"
		   ]
		  },
  {
"cell_type": "code",
	   "execution_count": null,
	   "metadata": {
	    "collapsed": true
	   },
	   "outputs": [],
"source": [
"// Scilab Code Ex9.2.3: Page-414 (2008)\n",
"clc; clear;\n",
"h = 6.63e-034;    // Planck's constant, Js\n",
"c = 3.00e+008;    // Speed of light in vacuum, m/s\n",
"e = 1.6e-019;    // Energy equivalent of 1 eV, J\n",
"m_e = 9.1e-031;    // Rest mass of an electron, kg\n",
"lambda0 = 2762e-010;    // Thereshold wavelength of silver, m\n",
"lambda = 2000e-010;    // Wavelength of ultraviolet rays, m\n",
"E_max = h*c*(1/lambda - 1/lambda0);    // Maximum kinetic energy of the ejected electrons from Einstein's photoelectric equation, J\n",
"// As E_max = 1/2*m_e*v^2, solving for v\n",
"v_max = sqrt(2*E_max/m_e);    // Maximum velocity of the photoelectrons, m/s\n",
"V0 = E_max/e;    // Stopping potential for the electrons, V\n",
"printf('\nThe maximum kinetic energy of the ejected electrons = %5.3e J', E_max);\n",
"printf('\nThe maximum velocity of the photoelectrons = %4.2e m/s', v_max);\n",
"printf('\nThe stopping potential for the electrons = %5.3f V', V0);\n",
"// Result \n",
"// The maximum kinetic energy of the ejected electrons = 2.744e-019 J\n",
"// The maximum velocity of the photoelectrons = 7.77e+005 m/s\n",
"// The stopping potential for the electrons = 1.715 V "
   ]
   }
,
{
		   "cell_type": "markdown",
		   "metadata": {},
		   "source": [
			"## Example 9.2_4: Work_function_of_the_metallic_surface.sce"
		   ]
		  },
  {
"cell_type": "code",
	   "execution_count": null,
	   "metadata": {
	    "collapsed": true
	   },
	   "outputs": [],
"source": [
"// Scilab Code Ex9.2.4: Page-415 (2008)\n",
"clc; clear;\n",
"lambda1 = 3333e-010;    // First wavelength of the incident light, m\n",
"lambda2 = 2400e-010;    // Second wavelength of the incident light, m\n",
"c = 3e+008;    // Speed of light in free space, m/s\n",
"e = 1.6e-019;    // Energy equivalent of 1 eV, J\n",
"E1 = 0.6;    // Kinetic energy of the emitted photoelectrons for the first wavelength, eV\n",
"E2 = 2.04;     // Kinetic energy of the emitted photoelectrons for the second wavelength, eV\n",
"h = (E2 - E1)*lambda1*lambda2*e/(c*(lambda1 - lambda2));    // Planck's constant, Js\n",
"W0 = (E2*lambda2 - E1*lambda1)/(lambda1 - lambda2);    // Work function of the metal, eV\n",
"printf('\nThe value of Planck constant = %3.1e Js', h);\n",
"printf('\nThe work function of the metal = %3.1f eV', W0);\n",
"// Result \n",
"// The value of Planck constant = 6.6e-034 Js\n",
"// The work function of the metal = 3.1 eV "
   ]
   }
,
{
		   "cell_type": "markdown",
		   "metadata": {},
		   "source": [
			"## Example 9.2_5: Wavelength_of_the_scattered_photon.sce"
		   ]
		  },
  {
"cell_type": "code",
	   "execution_count": null,
	   "metadata": {
	    "collapsed": true
	   },
	   "outputs": [],
"source": [
"// Scilab Code Ex9.2.5: Page-415 (2008)\n",
"clc; clear;\n",
"c = 3e+008;    // Speed of light in free space, m/s\n",
"h = 6.63e-034;    // Planck's constant, Js\n",
"m_e = 9.11e-031;    // Rest mass of an electron, kg\n",
"lambda = 0.3;    // Wavelength of incident X-ray photon, angstrom\n",
"phi = 45;    // The angle of scattering, degrees\n",
"lambda_prime = lambda + h/(m_e*c*1e-010)*(1-cosd(phi));    // The wavelength of the scattered photon, angstrom\n",
"printf('\nThe wavelength of the scattered photon = %6.4f angstrom', lambda_prime);\n",
"// Result \n",
"// The wavelength of the scattered photon = 0.3071 angstrom "
   ]
   }
,
{
		   "cell_type": "markdown",
		   "metadata": {},
		   "source": [
			"## Example 9.2_6: de_Broglie_wavelength_of_the_valence_electron_in_metallic_sodium.sce"
		   ]
		  },
  {
"cell_type": "code",
	   "execution_count": null,
	   "metadata": {
	    "collapsed": true
	   },
	   "outputs": [],
"source": [
"// Scilab Code Ex9.2.6: Page-416 (2008)\n",
"clc; clear;\n",
"h = 6.63e-034;    // Planck's constant, Js\n",
"m_e = 9.11e-031;    // Rest mass of an electron, kg\n",
"e = 1.6e-019;    // Energy equivalent of 1 eV, J\n",
"K = 3*e;    // Kinetic energy of the electron in metllic sodium, J\n",
"lambda = h/sqrt(2*m_e*K)/1e-010;    // de Broglie wavelength of the valence electron, angstrom\n",
"printf('\nThe de-Broglie wavelength of the valence electron = %3.1f angstrom', lambda);\n",
"// Result \n",
"// The de-Broglie wavelength of the valence electron = 7.1 angstrom "
   ]
   }
,
{
		   "cell_type": "markdown",
		   "metadata": {},
		   "source": [
			"## Example 9.2_7: de_Broglie_wavelength_of_a_moving_electron.sce"
		   ]
		  },
  {
"cell_type": "code",
	   "execution_count": null,
	   "metadata": {
	    "collapsed": true
	   },
	   "outputs": [],
"source": [
"// Scilab Code Ex9.2.7: Page-416 (2008)\n",
"clc; clear;\n",
"h = 6.63e-034;    // Planck's constant, Js\n",
"m = 9.11e-031;    // Rest mass of an electron, kg\n",
"c = 3e+008;    // Speed of light in vacuum, m/s\n",
"bita = 3/5;    // Boost parameter\n",
"v = 3/5*c;    // Spped of the electron, m/s\n",
"lambda = h/(m*v)*sqrt(1-bita^2);    // de Broglie wavelength of the electron, m\n",
"printf('\nThe de-Broglie wavelength of the moving electron = %6.4f angstrom', lambda/1e-010);\n",
"// Result \n",
"// The de-Broglie wavelength of the moving electron = 0.0323 angstrom "
   ]
   }
,
{
		   "cell_type": "markdown",
		   "metadata": {},
		   "source": [
			"## Example 9.2_8: Uncertainty_in_energy_and_frequency_of_emitted_light.sce"
		   ]
		  },
  {
"cell_type": "code",
	   "execution_count": null,
	   "metadata": {
	    "collapsed": true
	   },
	   "outputs": [],
"source": [
"// Scilab Code Ex9.2.8: Page-416 (2008)\n",
"clc; clear;\n",
"h = 6.63e-034;    // Planck's constant, Js\n",
"h_bar = h/(2*%pi);    // Reduced Planck's constant, Js\n",
"delta_t = 1e-008;    // Time during which the radiation is emitted, s\n",
"delta_E = h_bar/delta_t;    // Minimum uncertainty in energy of emitted light, J\n",
"// As delta_E = h*delta_nu from Planck's quantum theory, solving for delta_nu\n",
"delta_nu = delta_E/h;    // Minimum uncertainty in frequency of emitted light, Hz\n",
"printf('\nThe minimum uncertainty in energy of emitted light = %5.3e J', delta_E);\n",
"printf('\nThe minimum uncertainty in frequency of emitted light = %4.2e Hz', delta_nu);\n",
"// Result \n",
"// The minimum uncertainty in energy of emitted ligh = 1.055e-026 J\n",
"// The minimum uncertainty in frequency of emitted ligh = 1.59e+007 Hz "
   ]
   }
,
{
		   "cell_type": "markdown",
		   "metadata": {},
		   "source": [
			"## Example 9.2_9: Shortest_wavelength_present_in_the_radiation_from_an_X_ray_machine.sce"
		   ]
		  },
  {
"cell_type": "code",
	   "execution_count": null,
	   "metadata": {
	    "collapsed": true
	   },
	   "outputs": [],
"source": [
"// Scilab Code Ex9.2.9: Page-417 (2008)\n",
"clc; clear;\n",
"h = 6.63e-034;    // Planck's constant, Js\n",
"c = 3e+008;    // Speed of light in free space, m/s\n",
"e = 1.6e-019;    // Energy equivalent of 1 eV, J\n",
"V = 50000;    // Accelerating potential, V\n",
"lambda_min = h*c/(e*V);    // The shortest wavelength present in the radiation from an X-ray machine, m\n",
"printf('\nThe shortest wavelength present in the radiation from an X-ray machine = %6.4f nm', lambda_min/1e-009);\n",
"// Result \n",
"// The shortest wavelength present in the radiation from an X-ray machine = 0.0249 nm "
   ]
   }
],
"metadata": {
		  "kernelspec": {
		   "display_name": "Scilab",
		   "language": "scilab",
		   "name": "scilab"
		  },
		  "language_info": {
		   "file_extension": ".sce",
		   "help_links": [
			{
			 "text": "MetaKernel Magics",
			 "url": "https://github.com/calysto/metakernel/blob/master/metakernel/magics/README.md"
			}
		   ],
		   "mimetype": "text/x-octave",
		   "name": "scilab",
		   "version": "0.7.1"
		  }
		 },
		 "nbformat": 4,
		 "nbformat_minor": 0
}
