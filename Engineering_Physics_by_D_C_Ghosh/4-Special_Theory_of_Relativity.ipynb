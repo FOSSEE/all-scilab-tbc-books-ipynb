{
"cells": [
 {
		   "cell_type": "markdown",
	   "metadata": {},
	   "source": [
       "# Chapter 4: Special Theory of Relativity"
	   ]
	},
{
		   "cell_type": "markdown",
		   "metadata": {},
		   "source": [
			"## Example 4.10: Relativisti_variation_of_mass_of_electron_with_velocity.sce"
		   ]
		  },
  {
"cell_type": "code",
	   "execution_count": null,
	   "metadata": {
	    "collapsed": true
	   },
	   "outputs": [],
"source": [
"// Scilab Code Ex4.10: Page-238 (2008)\n",
"clc; clear;\n",
"c = 3e+008;    // Speed of light in vacuum, m/s\n",
"m0 = 9.1e-031;    // Rest mass of the electron, kg\n",
"E0 = m0*c^2;    // Rest energy of the electron, J\n",
"printf('\nThe rest energy of the electron = %4.2f MeV', E0/1.6e-013);\n",
"E = 1.25*E0;    // Total energy of the particle\n",
"v = sqrt(1-(E0/E)^2)*c;    // Velocity of the particle from relativistic variation of mass with speed, m/s\n",
"printf('\nThe velocity of the electron when its total energy is 1.25 times its rest energy = %3.1f c = %3.1e cm/s', v/c, v);\n",
"\n",
"// Result\n",
"// The rest energy of the electron = 0.51 MeV\n",
"// The velocity of the electron when its total energy is 1.25 times its rest energy = 0.6 c = 1.8e+008 cm/s"
   ]
   }
,
{
		   "cell_type": "markdown",
		   "metadata": {},
		   "source": [
			"## Example 4.11: An_electron_subjected_to_relativistic_motion.sce"
		   ]
		  },
  {
"cell_type": "code",
	   "execution_count": null,
	   "metadata": {
	    "collapsed": true
	   },
	   "outputs": [],
"source": [
"// Scilab Code Ex4.11: Page-238 (2008)\n",
"clc; clear;\n",
"c = 3e+008;    // Speed of light in vacuum, m/s\n",
"v = 0.99*c;    // Speed of the electron, m/s\n",
"m0 = 9.1e-031;    // Rest mass of the electron, kg\n",
"m = m0/sqrt(1-v^2/c^2);    // Moving mass of the electron, kg\n",
"E = m*c^2;    // Total energy of the electron, J\n",
"printf('\nThe total energy of the electron = %4.2e J', E);\n",
"KE_ratio = m0/(2*(m-m0))*(v/c)^2;    // Ratio of Newtonian kinetic energy to the relativistic kinetic energy\n",
"printf('\nThe ratio of Newtonian kinetic energy to the relativistic kinetic energy = %4.2f', KE_ratio);\n",
"\n",
"// Result\n",
"// The total energy of the electron = 5.81e-013 J\n",
"// The ratio of Newtonian kinetic energy to the relativistic kinetic energy = 0.08 "
   ]
   }
,
{
		   "cell_type": "markdown",
		   "metadata": {},
		   "source": [
			"## Example 4.1: Fringe_shift_in_the_Michelson_Morley_experiment.sce"
		   ]
		  },
  {
"cell_type": "code",
	   "execution_count": null,
	   "metadata": {
	    "collapsed": true
	   },
	   "outputs": [],
"source": [
"// Scilab Code Ex4.1: Page-233 (2008)\n",
"clc; clear;\n",
"c = 3e+008;    // Speed of light in vacuum, m/s\n",
"v = 3e+004;    // Speed of earth, m/s\n",
"d = 7;    // Effective length of each path, m\n",
"lambda = 7000e-010;    // Wavelength of light used, m\n",
"n = 2*d*v^2/(lambda*c^2);    // Fringe shift\n",
"printf('\nThe expected fringe shift = %3.1f', n);\n",
"\n",
"// Result\n",
"// The expected fringe shift = 0.2 "
   ]
   }
,
{
		   "cell_type": "markdown",
		   "metadata": {},
		   "source": [
			"## Example 4.2: Apparent_length_of_rod_relative_to_the_observer.sce"
		   ]
		  },
  {
"cell_type": "code",
	   "execution_count": null,
	   "metadata": {
	    "collapsed": true
	   },
	   "outputs": [],
"source": [
"// Scilab Code Ex4.2: Page-233 (2008)\n",
"clc; clear;\n",
"c = 3e+008;    // Speed of light in vacuum, m/s\n",
"v = 3e+007;    // Speed of metre rod, m/s\n",
"L0 = 1;    // Actual length of the rod, m\n",
"L = L0*sqrt(1-v^2/c^2);    // Apparent length of rod from Lorentz transformation, m\n",
"printf('\nThe apparent length of rod realtive to the observer = %5.3f m', L);\n",
"\n",
"// Result\n",
"// The apparent length of rod realtive to the observer = 0.995 m "
   ]
   }
,
{
		   "cell_type": "markdown",
		   "metadata": {},
		   "source": [
			"## Example 4.3: Apparent_length_of_a_meter_stick_for_different_speeds.sce"
		   ]
		  },
  {
"cell_type": "code",
	   "execution_count": null,
	   "metadata": {
	    "collapsed": true
	   },
	   "outputs": [],
"source": [
"// Scilab Code Ex4.3: Page-234 (2008)\n",
"clc; clear;\n",
"c = 3e+008;    // Speed of light in vacuum, m/s\n",
"v = [c c/sqrt(2) sqrt(3)/2*c c/2 0.8*c];    // Different speeds of metre rod, m/s\n",
"L0 = 100;    // Actual length of the rod, cm\n",
"for i = 1:1:5\n",
"    L = L0*sqrt(1-v(i)^2/c^2);    // Apparent length of rod from Lorentz transformation, m\n",
"    printf('\nFor v = %4.2e m/s, L = %4.1f cm', v(i), L);\n",
"end\n",
"\n",
"// Result\n",
"// For v = 3.00e+008 m/s, L =  0.0 cm\n",
"// For v = 2.12e+008 m/s, L = 70.7 cm\n",
"// For v = 2.60e+008 m/s, L = 50.0 cm\n",
"// For v = 1.50e+008 m/s, L = 86.6 cm\n",
"// For v = 2.40e+008 m/s, L = 60.0 cm "
   ]
   }
,
{
		   "cell_type": "markdown",
		   "metadata": {},
		   "source": [
			"## Example 4.4: Lorentz_transformations_applied_to_a_rigid_bar.sce"
		   ]
		  },
  {
"cell_type": "code",
	   "execution_count": null,
	   "metadata": {
	    "collapsed": true
	   },
	   "outputs": [],
"source": [
"// Scilab Code Ex4.4: Page-235-236 (2008)\n",
"clc; clear;\n",
"c = 3e+008;    // Speed of light in vacuum, m/s\n",
"// Part (a)\n",
"v = 0.98*c ;    // Speed of the rigid bar, m/s\n",
"L2 = 1.5;    // Length of the rigid bar in S_prime frame, m\n",
"L1 = L2*sqrt(1-v^2/c^2);    // Apparent length of rod from Lorentz transformation, m\n",
"theta2 = 45;    // Angle which the bar makes w.r.t. x-aixs in S_prime frame, degree\n",
"theta1 = atand(tand(theta2)/sqrt(1-v^2/c^2));    // Orientation of bar relative to S frame, degree\n",
"printf('\nThe orientation of the %d m bar relative to S frame = %4.1f degree', L2, theta1);\n",
"// Part(b)\n",
"v = 0.6*c ;    // Speed of the rigid bar, m/s\n",
"L2 = 5;    // Length of the rigid bar in S_prime frame, m\n",
"L1 = L2*sqrt(1-v^2/c^2);    // Apparent length of rod from Lorentz transformation, m\n",
"theta2 = 30;    // Angle which the bar makes w.r.t. x-aixs in S_prime frame, degree\n",
"theta1 = atand(tand(theta2)/sqrt(1-v^2/c^2));    // Orientation of bar relative to S frame, degree\n",
"printf('\nThe orientation of the %d m bar relative to S frame = %4.1f degree', L2, theta1);\n",
"\n",
"// Result\n",
"// The orientation of the 1 m bar relative to S frame = 78.7 degree\n",
"// The orientation of the 5 m bar relative to S frame = 35.8 degree "
   ]
   }
,
{
		   "cell_type": "markdown",
		   "metadata": {},
		   "source": [
			"## Example 4.5: Velocity_of_pi_meso.sce"
		   ]
		  },
  {
"cell_type": "code",
	   "execution_count": null,
	   "metadata": {
	    "collapsed": true
	   },
	   "outputs": [],
"source": [
"// Scilab Code Ex4.5: Page-236 (2008)\n",
"clc; clear;\n",
"c = 3e+008;    // Speed of light in vacuum, m/s\n",
"t0 = 2.5e-008;    // Proper life time of pi-meson, s\n",
"t = 2.5e-007;    // MEan life time of pi-meson, s\n",
"// As t = t0/(sqrt(1-v^2/c^2)), solving for v\n",
"v = sqrt(1-(t0/t)^2)*c;    // Velocity of pi meson, m/s\n",
"printf('\nThe velocity of pi meson = %5.3f c = %4.2e m/s', v/c, v);\n",
"\n",
"// Result\n",
"// The velocity of pi meson = 0.995 c = 2.98e+008 m/s "
   ]
   }
,
{
		   "cell_type": "markdown",
		   "metadata": {},
		   "source": [
			"## Example 4.6: Relative_speed_of_the_ships_as_measured_by_an_observer.sce"
		   ]
		  },
  {
"cell_type": "code",
	   "execution_count": null,
	   "metadata": {
	    "collapsed": true
	   },
	   "outputs": [],
"source": [
"// Scilab Code Ex4.6: Page-237 (2008)\n",
"clc; clear;\n",
"c = 3e+008;    // Speed of light in vacuum, m/s\n",
"v = 0.8*c;    // Speed of the first spaceship, m/s\n",
"u_prime = 0.9*c;    // Speed of the second spaceship, m/s\n",
"u = (u_prime+v)/(1+u_prime*v/c^2);    // Relative speed of the ships as measured by the observer on either one from Velocity addition rule, m/s\n",
"printf('\nThe relative speed of the ships as measured by an observer in either one = %5.3f c = %4.2e m/s', u/c, u);\n",
"\n",
"// Result\n",
"// The relative speed of the ships as measured by an observer in either one = 0.988 c = 2.97e+008 m/s "
   ]
   }
,
{
		   "cell_type": "markdown",
		   "metadata": {},
		   "source": [
			"## Example 4.7: Velocity_of_one_particle_relative_to_the_other.sce"
		   ]
		  },
  {
"cell_type": "code",
	   "execution_count": null,
	   "metadata": {
	    "collapsed": true
	   },
	   "outputs": [],
"source": [
"// Scilab Code Ex4.7: Page-237 (2008)\n",
"clc; clear;\n",
"c = 3e+008;    // Speed of light in vacuum, m/s\n",
"v = 0.9*c;    // Speed of the first particle, m/s\n",
"u_prime = 0.9*c;    // Speed of the oppositely moving second particle, m/s\n",
"u = (u_prime+v)/(1+u_prime*v/c^2);    // Velocity of one particle relative to the other from Velocity addition rule, m/s\n",
"printf('\nThe velocity of one particle relative to the other = %5.3f c = %4.2e m/s', u/c, u);\n",
"\n",
"// Result\n",
"// The velocity of one particle relative to the other = 0.994 c = 2.98e+008 m/s "
   ]
   }
,
{
		   "cell_type": "markdown",
		   "metadata": {},
		   "source": [
			"## Example 4.8: Velocity_of_the_rocket_as_observed_from_the_earth.sce"
		   ]
		  },
  {
"cell_type": "code",
	   "execution_count": null,
	   "metadata": {
	    "collapsed": true
	   },
	   "outputs": [],
"source": [
"// Scilab Code Ex4.8: Page-237 (2008)\n",
"clc; clear;\n",
"c = 3e+008;    // Speed of light in vacuum, m/s\n",
"// Case 1: when velocity of firing is away from the earth\n",
"v = 0.5*c;    // Speed of the rocket away from the earth, m/s\n",
"u_prime = 0.8*c;    // Speed of the outgoing spaceship relative to earth, m/s\n",
"u = (u_prime+v)/(1+u_prime*v/c^2);    // Velocity of rocket moving away relative to the earth, m/s\n",
"printf('\nThe velocity of rocket moving away relative to the earth = %4.2f c = %4.2e m/s', u/c, u);\n",
"// Case 2: when velocity of firing is towards the earth\n",
"v = 0.5*c;    // Speed of the rocket moving towards the earth, m/s\n",
"u_prime = -0.8*c;    // Speed of the outgoing spaceship relative to earth, m/s\n",
"u = (u_prime+v)/(1+u_prime*v/c^2);    // Velocity of approaching rocket relative to the earth, m/s\n",
"printf('\nThe velocity of approaching rocket relative to the earth = %3.1f c = %3.1e m/s', u/c, u);\n",
"\n",
"// Result\n",
"// The velocity of rocket moving away relative to the earth = 0.93 c = 2.79e+008 m/s\n",
"// The velocity of approaching rocket relative to the earth = -0.5 c = -1.5e+008 m/s "
   ]
   }
,
{
		   "cell_type": "markdown",
		   "metadata": {},
		   "source": [
			"## Example 4.9: Velocity_of_the_particle_when_its_total_energy_is_thrice_its_rest_energy.sce"
		   ]
		  },
  {
"cell_type": "code",
	   "execution_count": null,
	   "metadata": {
	    "collapsed": true
	   },
	   "outputs": [],
"source": [
"// Scilab Code Ex4.9: Page-237 (2008)\n",
"clc; clear;\n",
"c = 3e+008;    // Speed of light in vacuum, m/s\n",
"E0 = 1;    // Assume the rest energy of the particle to be unity\n",
"E = 3*E0;    // Total energy of the particle\n",
"v = sqrt(1-(E0/E)^2)*c;    // Velocity of the particle from relativistic variation of mass with speed, m/s\n",
"printf('\nThe velocity of the particle when its total energy is thrice its rest energy = %5.3e cm/s', v);\n",
"\n",
"// Result\n",
"// The velocity of the particle when its total energy is thrice its rest energy = 2.828e+008 cm/s "
   ]
   }
],
"metadata": {
		  "kernelspec": {
		   "display_name": "Scilab",
		   "language": "scilab",
		   "name": "scilab"
		  },
		  "language_info": {
		   "file_extension": ".sce",
		   "help_links": [
			{
			 "text": "MetaKernel Magics",
			 "url": "https://github.com/calysto/metakernel/blob/master/metakernel/magics/README.md"
			}
		   ],
		   "mimetype": "text/x-octave",
		   "name": "scilab",
		   "version": "0.7.1"
		  }
		 },
		 "nbformat": 4,
		 "nbformat_minor": 0
}
