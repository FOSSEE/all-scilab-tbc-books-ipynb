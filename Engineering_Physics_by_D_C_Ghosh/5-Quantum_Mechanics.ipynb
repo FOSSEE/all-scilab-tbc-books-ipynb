{
"cells": [
 {
		   "cell_type": "markdown",
	   "metadata": {},
	   "source": [
       "# Chapter 5: Quantum Mechanics"
	   ]
	},
{
		   "cell_type": "markdown",
		   "metadata": {},
		   "source": [
			"## Example 5.10: Planck_constant_and_threshold_wavelength_of_metal.sce"
		   ]
		  },
  {
"cell_type": "code",
	   "execution_count": null,
	   "metadata": {
	    "collapsed": true
	   },
	   "outputs": [],
"source": [
"// Scilab Code Ex5.10: Page-288 (2008)\n",
"clc; clear;\n",
"c = 3e+008;    // Speed of light, m/s\n",
"KE1 = 3.62e-019;    // Maximum kinetic energy of photoelectrons with first wavelength, eV\n",
"lambda1 = 3000;    // First wavelength of incident radiation, angstrom\n",
"KE2 = 0.972e-019;    // Maximum kinetic energy of photoelectrons with second wavelength, eV\n",
"lambda2 = 5000;    // Second wavelength of incident radiation, angstrom\n",
"A = [c/lambda1, -1; c/lambda2, -1];    // Declare a square matrix as per Einstein's Photoelectric relation, KE = h*c/lambda - phi\n",
"B = [KE1; KE2];    // Put KEs in a column matrix\n",
"X = inv(A)*B;    // Apply inverse multiplication of a matrix to fing h and phi\n",
"lambda0 = X(1)*1e-010*c/X(2);    // Threshold wavelength of metal, m\n",
"printf('\nh = %4.2e Js\nphi = %1.0e J', X(1)*1e-010, X(2));\n",
"printf('\nThe threshold wavelength of metal = %d angstrom', ceil(lambda0/1e-010));\n",
"\n",
"// Result\n",
"// h = 6.62e-034 Js\n",
"// phi = 3e-019 J\n",
"// The threshold wavelength of metal = 6620 angstrom "
   ]
   }
,
{
		   "cell_type": "markdown",
		   "metadata": {},
		   "source": [
			"## Example 5.11: Energy_and_wavelength_of_incident_photon.sce"
		   ]
		  },
  {
"cell_type": "code",
	   "execution_count": null,
	   "metadata": {
	    "collapsed": true
	   },
	   "outputs": [],
"source": [
"// Scilab Code Ex5.11: Page-288 (2008)\n",
"clc; clear;\n",
"c = 3e+008;    // Speed of light, m/s\n",
"e = 1.6e-019;    // Energy equivalent of 1 eV, J\n",
"h = 6.62e-034;    // Planck's constant, Js\n",
"m0 = 9.1e-031;    // Rest mass of an electron, kg\n",
"alpha = 90;    // Scattering angle for X-ray photon, degree\n",
"d_lambda = h/(m0*c)*(1-cosd(alpha));    // Wavelength shift after collision, m\n",
"lambda = d_lambda;    // Wavelength of the incident photon according to the condition, m\n",
"E = h*c/(lambda*e*1e+006);    // Energy of the incident photon, MeV\n",
"printf('\nThe wavelength of the incident photon = %6.4e m', lambda);\n",
"printf('\nThe energy of the incident photon = %4.2f MeV', E);\n",
"\n",
"// Result\n",
"// The wavelength of the incident photon = 2.4249e-012 m\n",
"// The energy of the incident photon = 0.51 MeV "
   ]
   }
,
{
		   "cell_type": "markdown",
		   "metadata": {},
		   "source": [
			"## Example 5.12: Energy_lost_by_an_X_ray_photon_in_collsion_with_an_electron.sce"
		   ]
		  },
  {
"cell_type": "code",
	   "execution_count": null,
	   "metadata": {
	    "collapsed": true
	   },
	   "outputs": [],
"source": [
"// Scilab Code Ex5.12: Page-289 (2008)\n",
"clc; clear;\n",
"c = 3e+008;    // Speed of light, m/s\n",
"e = 1.602e-019;    // Energy equivalent of 1 eV, J\n",
"h = 6.6e-034;    // Planck's constant, Js\n",
"lambda = 0.1;    // Wavelength of X ray photon, angstrom\n",
"m0 = 9.1e-031;    // Rest mass of an electron, kg\n",
"alpha = 90;    // Scattering angle for X-ray photon, degree\n",
"d_lambda = h/(m0*c*1e-010)*(1-cosd(alpha));    // Wavelength shift after collision, angstrom\n",
"lambda_prime = lambda + d_lambda;    // Wavelength of the scattered photon, angstrom\n",
"dE = h*c*1e+010/e*(1/lambda - 1/lambda_prime);    // Energy lost by the X ray photon by collision, eV\n",
"printf('\nThe energy lost by the X ray photon by collision = %4.1f KeV', dE/1e+003);\n",
"\n",
"// Result\n",
"// The energy lost by the X ray photon by collision = 24.1 KeV "
   ]
   }
,
{
		   "cell_type": "markdown",
		   "metadata": {},
		   "source": [
			"## Example 5.13: The_Compton_effect_stidied_at_different_scattering_angles.sce"
		   ]
		  },
  {
"cell_type": "code",
	   "execution_count": null,
	   "metadata": {
	    "collapsed": true
	   },
	   "outputs": [],
"source": [
"// Scilab Code Ex5.13: Page-289 (2008)\n",
"clc; clear;\n",
"c = 3e+008;    // Speed of light, m/s\n",
"e = 1.602e-019;    // Energy equivalent of 1 eV, J\n",
"h = 6.6e-034;    // Planck's constant, Js\n",
"m0 = 9.1e-031;    // Rest mass of an electron, kg\n",
"alpha = [90 60 45 180];    // Different scattering angle for X-ray photon, degrees\n",
"d_lambda = zeros(4);\n",
"for i = 1:1:4\n",
"    d_lambda(i) = h/(m0*c*1e-010)*(1-cosd(alpha(i)));    // Wavelength shift after collision, angstrom\n",
"    printf('\nFor alpha = %d degree, d_lambda = %6.4f angstrom', alpha(i), d_lambda(i));\n",
"end\n",
"lambda = 0.2;    // Given wavelength of incident X-ray photon, angstrom\n",
"lambda_prime = lambda + d_lambda(3);    // Wavelength of the scattered photon at 45 degree, angstrom\n",
"printf('\nThe wavelength of the photon scattered at 45 degree = %5.3f angstrom', lambda_prime);\n",
"lambda_prime = lambda + d_lambda(4);    // Maximum wavelength of the photon scattered at 180 degree, angstrom\n",
"KE_max = h*c*1e+010*(1/lambda - 1/lambda_prime);    // Maximum kinetic energy of the recoil electron, J\n",
"printf('\nThe maximum kinetic energy of the recoil electron = %4.2e J', KE_max);\n",
"\n",
"// Result\n",
"// For alpha = 90 degree, d_lambda = 0.0242 angstrom\n",
"// For alpha = 60 degree, d_lambda = 0.0121 angstrom\n",
"// For alpha = 45 degree, d_lambda = 0.0071 angstrom\n",
"// For alpha = 180 degree, d_lambda = 0.0484 angstrom\n",
"// The wavelength of the photon scattered at 45 degree = 0.207 angstrom\n",
"// The maximum kinetic energy of the recoil electron = 1.93e-015 J "
   ]
   }
,
{
		   "cell_type": "markdown",
		   "metadata": {},
		   "source": [
			"## Example 5.15: de_Broglie_wavelength_associated_with_moving_masses.sce"
		   ]
		  },
  {
"cell_type": "code",
	   "execution_count": null,
	   "metadata": {
	    "collapsed": true
	   },
	   "outputs": [],
"source": [
"// Scilab Code Ex5.15: Page-292 (2008)\n",
"clc; clear;\n",
"h = 6.6e-034;    // Planck's constant, Js\n",
"// For golf ball\n",
"m = 0.046;    // Mass of the golf ball, kg\n",
"v = 36;    // Velocity of the golf ball, m/s\n",
"lambda = h/(m*v);    // de-Broglie wavelength associated with the moving golf ball, m\n",
"printf('\nThe de-Broglie wavelength associated with the moving golf ball = %1.0e m', lambda);\n",
"if lambda/1e-010 > 0.1 then\n",
"    printf('\nThe moving golf ball may exhibit wave character.');\n",
"end\n",
"// For an electron\n",
"m = 9.11e-031;    // Mass of the electron, kg\n",
"v = 1e+007;    // Velocity of the electron, m/s\n",
"lambda = h/(m*v);    // de-Broglie wavelength associated with the moving electron, m\n",
"printf('\nThe de-Broglie wavelength associated with the moving electron = %3.1e m', lambda);\n",
"if lambda/1e-010 > 0.1 then\n",
"    printf('\nThe moving electron may exhibit wave character.');\n",
"end\n",
"\n",
"// Result\n",
"// The de-Broglie wavelength associated with the moving golf ball = 4e-034 m\n",
"// The de-Broglie wavelength associated with the moving electron = 7.2e-011 m\n",
"// The moving electron may exhibit wave character. "
   ]
   }
,
{
		   "cell_type": "markdown",
		   "metadata": {},
		   "source": [
			"## Example 5.16: Voltage_applied_to_the_electron_microscope_to_produce_the_required_wavelength.sce"
		   ]
		  },
  {
"cell_type": "code",
	   "execution_count": null,
	   "metadata": {
	    "collapsed": true
	   },
	   "outputs": [],
"source": [
"// Scilab Code Ex5.16: Page-292 (2008)\n",
"clc; clear;\n",
"h = 6.62e-034;    // Planck's constant, Js\n",
"e = 1.602e-019;    // Energy equivalent of 1 eV, J\n",
"lambda = 0.40e-010; // de-Broglie wavelength associated with the moving electron, m\n",
"m = 9.11e-031;    // Rest mass of an electron, kg\n",
"V = (h/lambda)^2/(2*m*e);    // Voltage applied to the electron microscope to produce the required wavelength, volt\n",
"printf('\nThe voltage applied to the electron microscope to produce the required de-Broglie wavelength = %5.1f volt', V);\n",
"\n",
"// Result\n",
"// The voltage applied to the electron microscope to produce the required de-Broglie wavelength = 938.4 volt "
   ]
   }
,
{
		   "cell_type": "markdown",
		   "metadata": {},
		   "source": [
			"## Example 5.18: de_Broglie_wavelength_of_a_neutron_of_given_energy.sce"
		   ]
		  },
  {
"cell_type": "code",
	   "execution_count": null,
	   "metadata": {
	    "collapsed": true
	   },
	   "outputs": [],
"source": [
"// Scilab Code Ex5.18: Page-293 (2008)\n",
"clc; clear;\n",
"h = 6.62e-034;    // Planck's constant, Js\n",
"e = 1.602e-019;    // Energy equivalent of 1 eV, J\n",
"E_k = 12.8e+006;    // Energy of the moving neutron, eV\n",
"m0 = 1.675e-027;    // Rest mass of a neutron, kg\n",
"lambda = h/sqrt(2*m0*E_k*e) // de-Broglie wavelength associated with the moving neutron, m\n",
"printf('\nThe de-Broglie wavelength of the moving neutron = %3.1e angstrom', lambda/1e-010);\n",
"\n",
"// Result\n",
"// The de-Broglie wavelength of the moving neutron = 8.0e-005 angstrom "
   ]
   }
,
{
		   "cell_type": "markdown",
		   "metadata": {},
		   "source": [
			"## Example 5.19: EX5_19.sce"
		   ]
		  },
  {
"cell_type": "code",
	   "execution_count": null,
	   "metadata": {
	    "collapsed": true
	   },
	   "outputs": [],
"source": [
"// Scilab Code Ex5.19: Page-294 (2008)\n",
"clc; clear;\n",
"h = 6.62e-034;    // Planck's constant, Js\n",
"e = 1.602e-019;    // Energy equivalent of 1 eV, J\n",
"m = 1.67e-027;    // Rest mass of a proton, kg\n",
"r = 5e-015;    // Radius of the nucleus, m\n",
"delta_x = 2*r;    // Minimum uncertainty in position of the proton, m\n",
"delta_p = h/(2*%pi*delta_x);    // Minimum uncertainty in proton's momentum, kg-m/s\n",
"KE = delta_p^2/(2*m);    // Minimum kinetic emergy of the proton, J\n",
"printf('\nThe minimum uncertainty in momentum of the proton = %4.2e kg-m/s', delta_p);\n",
"printf('\nThe minimum kinetic emergy of the proton = %5.3f MeV', KE/(e*1e+006));\n",
"\n",
"// Result\n",
"// The minimum uncertainty in momentum of the proton = 1.05e-020 kg-m/s\n",
"// The minimum kinetic emergy of the proton = 0.207 MeV "
   ]
   }
,
{
		   "cell_type": "markdown",
		   "metadata": {},
		   "source": [
			"## Example 5.20: Minimum_uncertainty_in_the_measurement_of_velocity_of_the_electron.sce"
		   ]
		  },
  {
"cell_type": "code",
	   "execution_count": null,
	   "metadata": {
	    "collapsed": true
	   },
	   "outputs": [],
"source": [
"// Scilab Code Ex5.20: Page-294 (2008)\n",
"clc; clear;\n",
"h = 6.62e-034;    // Planck's constant, Js\n",
"m = 9.11e-031;    // Rest mass of a electron, kg\n",
"delta_x = 1e-009;    // Minimum uncertainty in position of the electron, m\n",
"delta_p_min = h/delta_x;    // Minimum uncertainty in electron's momentum, kg-m/s\n",
"delta_v = delta_p_min/m;    // Minimum uncertainty in the measurement of velocity of the electron, m/s\n",
"printf('\nThe minimum uncertainty in the measurement of velocity of the electron = %4.2e m/s', delta_v);\n",
"\n",
"// Result\n",
"// The minimum uncertainty in the measurement of velocity of the electron = 7.27e+005 m/s "
   ]
   }
,
{
		   "cell_type": "markdown",
		   "metadata": {},
		   "source": [
			"## Example 5.22: Minimum_uncertainty_in_the_position_of_the_particle.sce"
		   ]
		  },
  {
"cell_type": "code",
	   "execution_count": null,
	   "metadata": {
	    "collapsed": true
	   },
	   "outputs": [],
"source": [
"// Scilab Code Ex5.22: Page-295 (2008)\n",
"clc; clear;\n",
"h = 6.62e-034;    // Planck's constant, Js\n",
"m = 1e-009;    // Mass of the particle, kg\n",
"v = 1;    // Velocity of the particle, m/s\n",
"delta_v = v*0.01/100;    // Minimum uncertainty in the velocity of the particle, m/s\n",
"delta_x = h/(m*delta_v);    // Minimum uncertainty in the position of the particle, m \n",
"printf('\nThe minimum uncertainty in the position of the particle = %4.2e m', delta_x);\n",
"\n",
"// Result\n",
"// The minimum uncertainty in the position of the particle = 6.62e-021 m "
   ]
   }
,
{
		   "cell_type": "markdown",
		   "metadata": {},
		   "source": [
			"## Example 5.23: Uncertainty_with_which_position_of_the_electron_can_be_located.sce"
		   ]
		  },
  {
"cell_type": "code",
	   "execution_count": null,
	   "metadata": {
	    "collapsed": true
	   },
	   "outputs": [],
"source": [
"// Scilab Code Ex5.23: Page-295 (2008)\n",
"clc; clear;\n",
"h = 6.62e-034;    // Planck's constant, Js\n",
"m = 9.1e-031;    // Mass of the electron, kg\n",
"v = 1e+003;    // Velocity of the electron, m/s\n",
"delta_v = v*0.05/100;    // Minimum uncertainty in the velocity of the electron, m/s\n",
"delta_x = h/(m*delta_v);    // Minimum uncertainty in the position of the electron, m \n",
"printf('\nThe minimum uncertainty in the position of the electron = %4.2e m', delta_x);\n",
"\n",
"// Result\n",
"// The minimum uncertainty in the position of the electron = 1.45e-003 m "
   ]
   }
,
{
		   "cell_type": "markdown",
		   "metadata": {},
		   "source": [
			"## Example 5.24: Minimum_uncertainty_in_energy_of_the_excited_state_of_an_atom.sce"
		   ]
		  },
  {
"cell_type": "code",
	   "execution_count": null,
	   "metadata": {
	    "collapsed": true
	   },
	   "outputs": [],
"source": [
"// Scilab Code Ex5.24: Page-295 (2008)\n",
"clc; clear;\n",
"h = 6.62e-034;    // Planck's constant, Js\n",
"e = 1.602e-019;    // Energy equivalent of 1 eV, J\n",
"delta_t = 1e-008;    // Life time of excited state of an atom, s\n",
"delta_E = h/(2*%pi*delta_t);    // Minimum uncertainty in the energy of the excited state of the atom, J \n",
"printf('\nThe minimum uncertainty in the energy of the excited state of the atom = %3.1e eV', delta_E/e);\n",
"\n",
"// Result\n",
"// The minimum uncertainty in the energy of the excited state of the atom = 6.6e-008 eV "
   ]
   }
,
{
		   "cell_type": "markdown",
		   "metadata": {},
		   "source": [
			"## Example 5.25: Probable_uncertainty_in_energy_and_frequency_of_gamma_ray_photon.sce"
		   ]
		  },
  {
"cell_type": "code",
	   "execution_count": null,
	   "metadata": {
	    "collapsed": true
	   },
	   "outputs": [],
"source": [
"// Scilab Code Ex5.25: Page-296 (2008)\n",
"clc; clear;\n",
"h = 6.62e-034;    // Planck's constant, Js\n",
"delta_t = 1e-012;    // Life time of a nucleus in the excited state, s\n",
"delta_E = h/(2*%pi*delta_t);    // Minimum uncertainty in the energy of the excited state of the nucleus, J \n",
"// As E = h*nu, solving for delta_nu\n",
"delta_nu = delta_E/h;    // Minimum uncertainty in the frequency of the excited state of the nucleus, Hz\n",
"printf('\nThe minimum uncertainty in the energy of the excited state of the nucleus = %5.3e J', delta_E);\n",
"printf('\nThe minimum uncertainty in the frequency of the excited state of the nucleus = %4.2e MHz', delta_nu/1e+006);\n",
"\n",
"// Result\n",
"// The minimum uncertainty in the energy of the excited state of the nucleus = 1.054e-022 J\n",
"// The minimum uncertainty in the frequency of the excited state of the nucleus = 1.59e+005 MHz "
   ]
   }
,
{
		   "cell_type": "markdown",
		   "metadata": {},
		   "source": [
			"## Example 5.29: Lowest_energy_of_an_electron_in_one_dimensional_force_free_region.sce"
		   ]
		  },
  {
"cell_type": "code",
	   "execution_count": null,
	   "metadata": {
	    "collapsed": true
	   },
	   "outputs": [],
"source": [
"// Scilab Code Ex5.29: Page-300 (2008)\n",
"clc; clear;\n",
"h = 6.62e-034;    // Planck's constant, Js\n",
"e = 1.602e-019;    // Energy equivalent of 1 eV, J\n",
"m = 9.11e-031;    // Rest mass of the electron, kg\n",
"l = 4e-010;    // Length of the force free region, m\n",
"n = 1;    // Principal quantum number for lowest energy state\n",
"E1 = n^2*h^2/(8*m*l^2);    // Lowest energy of an electron in one dimensional force free region, J\n",
"printf('\nThe lowest energy of an electron in one dimensional force free region = %4.2f eV', E1/e);\n",
"\n",
"// Result\n",
"// The lowest energy of an electron in one dimensional force free region = 2.35 eV "
   ]
   }
,
{
		   "cell_type": "markdown",
		   "metadata": {},
		   "source": [
			"## Example 5.2: Temperature_of_the_surface_of_su.sce"
		   ]
		  },
  {
"cell_type": "code",
	   "execution_count": null,
	   "metadata": {
	    "collapsed": true
	   },
	   "outputs": [],
"source": [
"// Scilab Code Ex5.2: Page-284 (2008)\n",
"clc; clear;\n",
"lambda_m = 4753e-010;    // Wavelength from the sun at which maximum energy is emitted, m\n",
"b = 2.88e-003;    // Wein's constant, m-K\n",
"T = b/lambda_m;    // Temperature of the surface of sun\n",
"printf('\nThe temperature of the surface of sun = %d K', ceil(T));\n",
"\n",
"// Result\n",
"// The temperature of the surface of sun = 6060 K "
   ]
   }
,
{
		   "cell_type": "markdown",
		   "metadata": {},
		   "source": [
			"## Example 5.30: The_excited_state_energies_of_the_particle_entrapped_in_a_one_dimensional_box.sce"
		   ]
		  },
  {
"cell_type": "code",
	   "execution_count": null,
	   "metadata": {
	    "collapsed": true
	   },
	   "outputs": [],
"source": [
"// Scilab Code Ex5.30: Page-300 (2008)\n",
"clc; clear;\n",
"e = 1.602e-019;    // Energy equivalent of 1 eV, J\n",
"E1 = 3.2e-018/e;    // Minimum energy possible for a particle entrapped in a one dimensional box, eV\n",
"n = [1 2 3 4];    // Principal quantum number for K, L, M and N states\n",
"printf('\nThe next three energies which the particle can have are:');\n",
"for i = 2:1:4\n",
"    printf('\nE%d = %d eV', i, ceil(i^2*E1));\n",
"end\n",
"\n",
"// Result\n",
"// The next three energies which the particle can have are:\n",
"// E2 = 80 eV\n",
"// E3 = 180 eV\n",
"// E4 = 320 eV "
   ]
   }
,
{
		   "cell_type": "markdown",
		   "metadata": {},
		   "source": [
			"## Example 5.31: Probability_of_finding_the_particle_within_a_given_interval.sce"
		   ]
		  },
  {
"cell_type": "code",
	   "execution_count": null,
	   "metadata": {
	    "collapsed": true
	   },
	   "outputs": [],
"source": [
"// Scilab Code Ex5.31: Page-301 (2008)\n",
"clc; clear;\n",
"delta_x = 4;    // Interval at the centre of the box at which the probability is to be found out, angstrom\n",
"l = 10;    // Width of one dimensional infinite height box, angstrom\n",
"P = 2*delta_x/l;    // Probability of finding the particle within 4 angstrom interval\n",
"printf('\nThe probability of finding the particle within the %d angstrom interval at the centre of the box = %3.1f', delta_x, P);\n",
"\n",
"// Result\n",
"// The probability of finding the particle within the 4 angstrom interval at the centre of the box = 0.8 "
   ]
   }
,
{
		   "cell_type": "markdown",
		   "metadata": {},
		   "source": [
			"## Example 5.32: EX5_32.sce"
		   ]
		  },
  {
"cell_type": "code",
	   "execution_count": null,
	   "metadata": {
	    "collapsed": true
	   },
	   "outputs": [],
"source": [
"// Scilab Code Ex5.32: Page-301 (2008)\n",
"clc; clear;\n",
"L = 1;    // Assume the length of the box to be unity, m\n",
"L1 = 0.4*L;    // Lower limit, m\n",
"L2 = 0.6*L;    // Upper limit, m\n",
"x = (L1+L2)/2;    // Mean position of particle, m\n",
"delta_x = L2 - L1;    // Uncertainty in position of the particle, m\n",
"for n = 1:1:3\n",
"    P = 2/L*sin(n*%pi*x/L)^2;    // Probability density, per m\n",
"    printf('\nFor n = %d, the probability, P = %3.1f', n, P*delta_x);\n",
"end\n",
"\n",
"// Result\n",
"// For n = 1, the probability, P = 0.4\n",
"// For n = 2, the probability, P = 0.0\n",
"// For n = 3, the probability, P = 0.4 "
   ]
   }
,
{
		   "cell_type": "markdown",
		   "metadata": {},
		   "source": [
			"## Example 5.3: Wavelength_of_maximum_intensity_of_radiation.sce"
		   ]
		  },
  {
"cell_type": "code",
	   "execution_count": null,
	   "metadata": {
	    "collapsed": true
	   },
	   "outputs": [],
"source": [
"// Scilab Code Ex5.3: Page-284 (2008)\n",
"clc; clear;\n",
"b = 2.898e-003;    // Wein's constant, m-K\n",
"T = 3000 + 273;    // Temperature of the source, K\n",
"lambda_m = b/T;    // Wavelength of maximum intensity of radiation emitted from the source, m\n",
"printf('\nThe wavelength of maximum intensity of radiation emitted from the source = %d angstrom', lambda_m/1e-010);\n",
"\n",
"// Result\n",
"// The wavelength of maximum intensity of radiation emitted from the source = 8854 angstrom "
   ]
   }
,
{
		   "cell_type": "markdown",
		   "metadata": {},
		   "source": [
			"## Example 5.4: Kinetic_energy_of_the_ejected_photoelectrons.sce"
		   ]
		  },
  {
"cell_type": "code",
	   "execution_count": null,
	   "metadata": {
	    "collapsed": true
	   },
	   "outputs": [],
"source": [
"// Scilab Code Ex5.4: Page-285 (2008)\n",
"clc; clear;\n",
"h = 6.62e-034;    // Planck's constant, Js\n",
"c = 3e+008;    // Speed of light, m/s\n",
"lambda = 2300e-010;    // Thereshold wavelength for tungsten, m\n",
"phi = h*c/lambda;    // Work function for tungsten, J\n",
"lambda = 1800e-010;    // Wavelength of incident radiation, m\n",
"E = h*c/lambda;    // Energy of the incidnt radiation, J\n",
"KE = E - phi;    // Kinetic energy of the ejected photoelectrons, J\n",
"printf('\nThe kinetic energy of the ejected photoelectrons = %3.1f eV', KE/1.6e-019);\n",
"\n",
"// Result\n",
"// The kinetic energy of the ejected photoelectrons = 1.5 eV "
   ]
   }
,
{
		   "cell_type": "markdown",
		   "metadata": {},
		   "source": [
			"## Example 5.5: Possibility_of_electron_emission_with_the_given_incident_wavelengths.sce"
		   ]
		  },
  {
"cell_type": "code",
	   "execution_count": null,
	   "metadata": {
	    "collapsed": true
	   },
	   "outputs": [],
"source": [
"// Scilab Code Ex5.5: Page-285 (2008)\n",
"clc; clear;\n",
"function [] = check_energy(E, L)\n",
"phi = 4.8;    // Work function for tungsten, eV\n",
"    if E > phi then\n",
"        printf('\nThe wavelength %d angstrom will be able to liberate an electron.', ceil(L/1e-010));\n",
"    else\n",
"        printf('\nThe wavelength %d angstrom will not be able to liberate an electron.', ceil(L/1e-010));    \n",
"    end\n",
"endfunction\n",
"h = 6.62e-034;    // Planck's constant, Js\n",
"c = 3e+008;    // Speed of light, m/s\n",
"// Case 1\n",
"lambda = 2000e-010;    // Wavelength of incident radiation, m\n",
"E = h*c/(lambda*1.6e-019);    // Energy of the incidnt radiation, eV\n",
"check_energy(E, lambda);    // Check for the wavelength\n",
"// Case 2\n",
"lambda = 5000e-010;    // Wavelength of incident radiation, m\n",
"E = h*c/(lambda*1.6e-019);    // Energy of the incidnt radiation, eV\n",
"check_energy(E, lambda);    // Check for the wavelength\n",
"\n",
"// Result\n",
"// The wavelength 2000 angstrom will be able to liberate an electron.\n",
"// The wavelength 5000 angstrom will not be able to liberate an electron. "
   ]
   }
,
{
		   "cell_type": "markdown",
		   "metadata": {},
		   "source": [
			"## Example 5.6: Velocity_of_emitted_photoelectrons.sce"
		   ]
		  },
  {
"cell_type": "code",
	   "execution_count": null,
	   "metadata": {
	    "collapsed": true
	   },
	   "outputs": [],
"source": [
"// Scilab Code Ex5.6: Page-286 (2008)\n",
"clc; clear;\n",
"h = 6.62e-034;    // Planck's constant, Js\n",
"c = 3e+008;    // Speed of light, m/s\n",
"e = 1.6e-019;    // Energy quivalent of 1 eV, J\n",
"phi = 2.28*e;    // Work function for material, J\n",
"m = 9.1e-031;    // Mass of an electron, kg\n",
"lambda = 3000e-010;    // Wavelength of incident radiation, m\n",
"E = h*c/lambda;    // Energy of the incidnt radiation, J\n",
"KE = E - phi;    // Kinetic energy of the ejected photoelectrons, J\n",
"v = sqrt(2*KE/m);    // Velocity of emitted electron, m/s\n",
"printf('\nThe velocity of the emitted electron = %4.2e m/s', v);\n",
"\n",
"// Result\n",
"// The velocity of the emitted electron = 8.08e+005 m/s "
   ]
   }
,
{
		   "cell_type": "markdown",
		   "metadata": {},
		   "source": [
			"## Example 5.7: A_photosensitive_material_emitting_photoelectrons.sce"
		   ]
		  },
  {
"cell_type": "code",
	   "execution_count": null,
	   "metadata": {
	    "collapsed": true
	   },
	   "outputs": [],
"source": [
"// Scilab Code Ex5.7: Page-286 (2008)\n",
"clc; clear;\n",
"h = 6.62e-034;    // Planck's constant, Js\n",
"c = 3e+008;    // Speed of light, m/s\n",
"e = 1.6e-019;    // Energy quivalent of 1 eV, J\n",
"phi = 4.2*e;    // Work function for material, J\n",
"lambda = 2000e-010;    // Wavelength of incident radiation, m\n",
"E = h*c/lambda;    // Energy of the incidnt radiation, J\n",
"KE_fast = (E - phi)/e;    // Kinetic energy of the fastest photoelectron, eV\n",
"KE_slow = 0;    // Kinetic energy of the slowest photoelectron, eV\n",
"printf('\nThe kinetic energy of the fastest photoelectron = %d eV', KE_fast);\n",
"printf('\nThe kinetic energy of the slowest photoelectron = %d eV', KE_slow);\n",
"V = (E - phi)/e;    // Stopping potential, V\n",
"printf('\nThe stopping potential = %d volt', V);\n",
"\n",
"// Result\n",
"// The kinetic energy of the fastest photoelectron = 2 eV\n",
"// The kinetic energy of the slowest photoelectron = 0 eV\n",
"// The stopping potential = 2 volt "
   ]
   }
,
{
		   "cell_type": "markdown",
		   "metadata": {},
		   "source": [
			"## Example 5.8: Maximum_wavelength_of_radiation_which_would_start_the_emission_of_photoelectrons.sce"
		   ]
		  },
  {
"cell_type": "code",
	   "execution_count": null,
	   "metadata": {
	    "collapsed": true
	   },
	   "outputs": [],
"source": [
"// Scilab Code Ex5.8: Page-287 (2008)\n",
"clc; clear;\n",
"h = 6.62e-027;    // Planck's constant, erg-s\n",
"c = 3e+010;    // Speed of light, cm/s\n",
"phi = 3.31e-012;    // Work function for material, erg\n",
"lambda0 = h*c/phi;    // Wavelength of incident radiation, cm\n",
"printf('\nThe maximum wavelength of radiation which would start the emission of photoelectrons = %d angstrom', lambda0/1e-008);\n",
"\n",
"// Result\n",
"// The maximum wavelength of radiation which would start the emission of photoelectrons = 6000 angstrom "
   ]
   }
,
{
		   "cell_type": "markdown",
		   "metadata": {},
		   "source": [
			"## Example 5.9: Potassium_surface_exposed_to_UV_radiatio.sce"
		   ]
		  },
  {
"cell_type": "code",
	   "execution_count": null,
	   "metadata": {
	    "collapsed": true
	   },
	   "outputs": [],
"source": [
"// Scilab Code Ex5.9: Page-287 (2008)\n",
"clc; clear;\n",
"h = 6.62e-034;    // Planck's constant, Js\n",
"c = 3e+008;    // Speed of light, m/s\n",
"e = 1.6e-019;    // Energy quivalent of 1 eV, J\n",
"phi = 2.1*e;    // Work function for material, J\n",
"lambda = 3500e-010;    // Wavelength of incident UV radiation, m\n",
"E = 1e-004;    // Energy incident per sec on 1 Sq. cm of potassium surface, J\n",
"eta = 0.5/100;    // Efficiency of potassium surface\n",
"KE = (h*c/lambda-phi)/e;    // Maximum kinetic energy of the ejected photoelectrons, eV\n",
"N = eta*E/(KE*e);    // Number of photoelectrons emitted per second per Sq. cm of potassium surface\n",
"printf('\nThe maximum kinetic energy of the incidnt radiation = %4.2f eV', KE);\n",
"printf('\nThe number of photoelectrons emitted per second per Sq. cm of potassium surface = %4.2e', N);\n",
"\n",
"// Result\n",
"// The maximum kinetic energy of the incidnt radiation = 1.45 eV\n",
"// The number of photoelectrons emitted per second per Sq. cm of potassium surface = 2.16e+012 "
   ]
   }
],
"metadata": {
		  "kernelspec": {
		   "display_name": "Scilab",
		   "language": "scilab",
		   "name": "scilab"
		  },
		  "language_info": {
		   "file_extension": ".sce",
		   "help_links": [
			{
			 "text": "MetaKernel Magics",
			 "url": "https://github.com/calysto/metakernel/blob/master/metakernel/magics/README.md"
			}
		   ],
		   "mimetype": "text/x-octave",
		   "name": "scilab",
		   "version": "0.7.1"
		  }
		 },
		 "nbformat": 4,
		 "nbformat_minor": 0
}
