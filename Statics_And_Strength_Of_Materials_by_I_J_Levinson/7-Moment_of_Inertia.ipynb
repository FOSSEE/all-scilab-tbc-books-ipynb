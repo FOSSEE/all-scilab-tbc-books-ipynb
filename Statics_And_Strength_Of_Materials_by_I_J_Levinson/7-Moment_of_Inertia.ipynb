{
"cells": [
 {
		   "cell_type": "markdown",
	   "metadata": {},
	   "source": [
       "# Chapter 7: Moment of Inertia"
	   ]
	},
{
		   "cell_type": "markdown",
		   "metadata": {},
		   "source": [
			"## Example 7.1: chapter_7_example_1.sce"
		   ]
		  },
  {
"cell_type": "code",
	   "execution_count": null,
	   "metadata": {
	    "collapsed": true
	   },
	   "outputs": [],
"source": [
"clc\n",
"//initialisation of variables\n",
"x1= 3 //in\n",
"x2= 3 //in\n",
"x3= 3 //in\n",
"x4= 3 //in\n",
"x5= 5 //in\n",
"x6= 5 //in\n",
"x7= 5 //in\n",
"x8= 5 //in\n",
"L1= 1 //in\n",
"L2= 1 //in\n",
"L3= 1 //in\n",
"L4= 1 //in\n",
"L5= 1 //in\n",
"L6= 1 //in\n",
"L7= 1 //in\n",
"L8= 1 //in\n",
"y= 7.5 //in\n",
"//CALCULATIONS\n",
"Ix1= x1*L1*(y)^2\n",
"Ix2= x2*L2*(y-L2)^2\n",
"Ix3= x3*L3*(y-L3-L2)^2\n",
"Ix4= x4*L4*(y-L4-L3-L2)^2\n",
"Ix5= x5*L5*(y-L5-L4-L3-L2)^2\n",
"Ix6= x6*L6*(y-L6-L5-L4-L3-L2)^2\n",
"Ix7= x7*L7*(y-L7-L6-L5-L4-L3-L2)^2 \n",
"Ix8= x8*L8*(y-L8-L7-L6-L5-L4-L3-L2)^2\n",
"Ix= Ix1+Ix2+Ix3+Ix4+Ix5+Ix6+Ix7+Ix8\n",
"//RESULTS\n",
"printf ('Ix= %.f in^4',Ix)"
   ]
   }
,
{
		   "cell_type": "markdown",
		   "metadata": {},
		   "source": [
			"## Example 7.2: chapter_7_example_2.sce"
		   ]
		  },
  {
"cell_type": "code",
	   "execution_count": null,
	   "metadata": {
	    "collapsed": true
	   },
	   "outputs": [],
"source": [
"clc\n",
"//initialisation of variables\n",
"Iy= 60 //in^4\n",
"A= 25 //sq in\n",
"x= 10 //in\n",
"//CALCULATIONS\n",
"Ia= Iy+ A*x^2\n",
"//RESULTS\n",
"printf ('I= %.f in^4',Ia)"
   ]
   }
,
{
		   "cell_type": "markdown",
		   "metadata": {},
		   "source": [
			"## Example 7.3: chapter_7_example_3.sce"
		   ]
		  },
  {
"cell_type": "code",
	   "execution_count": null,
	   "metadata": {
	    "collapsed": true
	   },
	   "outputs": [],
"source": [
"clc\n",
"//initialisation of variables\n",
"L= 5 //in\n",
"B= 12 //in\n",
"Ix= 227 //in^4\n",
"Iy= 10 //in^4\n",
"A= 10.2 //sq in\n",
"//CALCULATIONS\n",
"Kx= sqrt(Ix/A)\n",
"Ky= sqrt(Iy/A)\n",
"//RESULTS\n",
"printf ('Radius of gyration wrt x= %.2f in',Kx)\n",
"printf (' \n Radius of gyration wrt y=%.2f in',Ky)"
   ]
   }
,
{
		   "cell_type": "markdown",
		   "metadata": {},
		   "source": [
			"## Example 7.4: chapter_7_example_4.sce"
		   ]
		  },
  {
"cell_type": "code",
	   "execution_count": null,
	   "metadata": {
	    "collapsed": true
	   },
	   "outputs": [],
"source": [
"clc\n",
"//initialisation of variables\n",
"L1= 8 //in\n",
"B1= 1 //in\n",
"L2= 1 //in\n",
"B2= 6 //in\n",
"L3= 8 //in\n",
"B3= 1 //in\n",
"//CALCULATIONS\n",
"Iy= (B1*L1^3/12)+(B2*L2^3/12)+(B3*L3^3/12)\n",
"Ix= (L1*B1^3/12)+L1*B1*((B2/2)+(B1/2))^2+(L2*B2^3/12)+(L3*B3^3/12)+L3*B3*((B2/2)+(B3/2))^2\n",
"//RESULTS\n",
"printf ('Ix= %.2f in^4',Ix)\n",
"printf (' \n Iy=%.2f in^4',Iy)"
   ]
   }
,
{
		   "cell_type": "markdown",
		   "metadata": {},
		   "source": [
			"## Example 7.5: chapter_7_example_5.sce"
		   ]
		  },
  {
"cell_type": "code",
	   "execution_count": null,
	   "metadata": {
	    "collapsed": true
	   },
	   "outputs": [],
"source": [
"clc\n",
"//initialisation of variables\n",
"H= 8 //in\n",
"b= 6 //in\n",
"d= 4 //in\n",
"H1= 5 //in\n",
"//CALCULATIONS\n",
"Ia1= ((b*H^3)/12)+b*H*d^2\n",
"Ia2= %pi*((d/2)^2)+%pi*((d/2)^2)*(H1)^2\n",
"I= Ia1-Ia2\n",
"//RESULTS\n",
"printf ('I= %.2f in^4',I)\n",
""
   ]
   }
,
{
		   "cell_type": "markdown",
		   "metadata": {},
		   "source": [
			"## Example 7.6: chapter_7_example_6.sce"
		   ]
		  },
  {
"cell_type": "code",
	   "execution_count": null,
	   "metadata": {
	    "collapsed": true
	   },
	   "outputs": [],
"source": [
"clc\n",
"//initialisation of variables\n",
"W= 64.4 //lb\n",
"I= 10 //slugft^2\n",
"g= 32.2 //ft/sec^2\n",
"//CALCULATIONS\n",
"m= W/g\n",
"k= sqrt(I/m)\n",
"//RESULTS\n",
"printf ('k= %.2f ft',k)"
   ]
   }
,
{
		   "cell_type": "markdown",
		   "metadata": {},
		   "source": [
			"## Example 7.8: chapter_7_example_8.sce"
		   ]
		  },
  {
"cell_type": "code",
	   "execution_count": null,
	   "metadata": {
	    "collapsed": true
	   },
	   "outputs": [],
"source": [
"clc\n",
"//initialisation of variables\n",
"d1= 18 //in\n",
"d2= 10 //in\n",
"d3= 4 //in\n",
"Wpercuin= 0.31 //lb\n",
"L1= 4 //in\n",
"L2= 8 //in\n",
"g= 32.2 //ft/sec^2\n",
"//CALCULATIONS\n",
"m1= %pi*(d1/2)^2*L1*Wpercuin/g\n",
"I1= m1*(d1/24)^2/2\n",
"m2= %pi*(d2/2)^2*L2*Wpercuin/g\n",
"I2= m2*(d2/24)^2/2\n",
"m3= %pi*(d3/2^2)*(L1+L2)*Wpercuin/g\n",
"I3= m3*(d3/24)^2/2\n",
"I= I1+I2-I3\n",
"//RESULTS\n",
"printf ('I= %.2f slug ft^2',I)\n",
""
   ]
   }
],
"metadata": {
		  "kernelspec": {
		   "display_name": "Scilab",
		   "language": "scilab",
		   "name": "scilab"
		  },
		  "language_info": {
		   "file_extension": ".sce",
		   "help_links": [
			{
			 "text": "MetaKernel Magics",
			 "url": "https://github.com/calysto/metakernel/blob/master/metakernel/magics/README.md"
			}
		   ],
		   "mimetype": "text/x-octave",
		   "name": "scilab",
		   "version": "0.7.1"
		  }
		 },
		 "nbformat": 4,
		 "nbformat_minor": 0
}
