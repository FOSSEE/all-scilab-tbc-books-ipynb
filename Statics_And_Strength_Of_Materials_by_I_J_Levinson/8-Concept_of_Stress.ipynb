{
"cells": [
 {
		   "cell_type": "markdown",
	   "metadata": {},
	   "source": [
       "# Chapter 8: Concept of Stress"
	   ]
	},
{
		   "cell_type": "markdown",
		   "metadata": {},
		   "source": [
			"## Example 8.1: chapter_8_example_1.sce"
		   ]
		  },
  {
"cell_type": "code",
	   "execution_count": null,
	   "metadata": {
	    "collapsed": true
	   },
	   "outputs": [],
"source": [
"clc\n",
"//initialisation of variables\n",
"F= -100 //lb\n",
"x1= 3 //in\n",
"y= 6 //in\n",
"x2= 24 //in\n",
"x3= 12 //in\n",
"//CALCULATIONS\n",
"Force= -F\n",
"Moment= -F*(x2+x1)\n",
"Torque= -F*y\n",
"//RESULTS\n",
"printf ('Force= %.2f lb',Force)\n",
"printf (' \n Moment=%.2f lb.in',Moment)\n",
"printf (' \n Torque=%.2f lb.in',Torque)"
   ]
   }
,
{
		   "cell_type": "markdown",
		   "metadata": {},
		   "source": [
			"## Example 8.2: chapter_8_example_2.sce"
		   ]
		  },
  {
"cell_type": "code",
	   "execution_count": null,
	   "metadata": {
	    "collapsed": true
	   },
	   "outputs": [],
"source": [
"clc\n",
"//initialisation of variables\n",
"F= -5000 //lb\n",
"D= 250 //lb/ft\n",
"y1= 4 //in\n",
"y2= 2 //in\n",
"y3= 5 //in\n",
"y4= 3 //in\n",
"x= 3 //in\n",
"//CALCULATIONS\n",
"Ax= -D*y1\n",
"Ay= -F\n",
"M= (D*y1*(y2+y3+y1/2))-F*x\n",
"//RESULTS\n",
"printf ('Ax= %.2f lb',Ax)\n",
"printf (' \n Ay=%.2f lb',Ay)\n",
"printf (' \n M=%.2f lb.in',M)"
   ]
   }
,
{
		   "cell_type": "markdown",
		   "metadata": {},
		   "source": [
			"## Example 8.3: chapter_8_example_3.sce"
		   ]
		  },
  {
"cell_type": "code",
	   "execution_count": null,
	   "metadata": {
	    "collapsed": true
	   },
	   "outputs": [],
"source": [
"clc\n",
"//initialisation of variables\n",
"P= 5 //kips\n",
"angle= 30 //degrees\n",
"//CALCULATIONS\n",
"Fn= P*sind(angle)\n",
"Ft= P*cosd(angle)\n",
"//RESULTS\n",
"printf ('Fn= %.2f lb',Fn)\n",
"printf (' \n Ft=%.2f lb',Ft)"
   ]
   }
,
{
		   "cell_type": "markdown",
		   "metadata": {},
		   "source": [
			"## Example 8.4: chapter_8_example_4.sce"
		   ]
		  },
  {
"cell_type": "code",
	   "execution_count": null,
	   "metadata": {
	    "collapsed": true
	   },
	   "outputs": [],
"source": [
"clc\n",
"//initialisation of variables\n",
"p= 5 //tons\n",
"dt= 0.75 //in\n",
"db= 0.5 //in\n",
"b= 0.5 //in\n",
"h= 2 //in\n",
"//CALCULATIONS\n",
"Sc= p*2000/((%pi/4)*(dt^2))\n",
"Sr=  p*2000/(b*h)\n",
"Sb=  p*2000/(2*(%pi/4)*db^2)\n",
"//RESULTS\n",
"printf ('Stress in circular scetion= %.2f psi tension',Sc)\n",
"printf (' \n Stress in rectangular section=%.2f psi tension',Sr)\n",
"printf (' \n Stress in bolt=%.2f psi tension',Sb)"
   ]
   }
,
{
		   "cell_type": "markdown",
		   "metadata": {},
		   "source": [
			"## Example 8.5: chapter_8_example_5.sce"
		   ]
		  },
  {
"cell_type": "code",
	   "execution_count": null,
	   "metadata": {
	    "collapsed": true
	   },
	   "outputs": [],
"source": [
"clc\n",
"//initialisation of variables\n",
"w= 8 //in\n",
"wperft= 35 //lb/ft\n",
"A= 10.3 //sq in\n",
"F1= 3 //tons\n",
"F2= 3 //tons\n",
"F3= -8 //tons\n",
"F4= -8 //tons\n",
"F5= -5 //tons\n",
"F6= -5 //tons\n",
"Pl= 12 //in\n",
"Pb= 12 //in\n",
"//CALCULATIONS\n",
"Sa= (F1+F2)*2000/A\n",
"Sb= -(F3+F4+F1+F2)*2000/A\n",
"Sc= -(F3+F4+F1+F2+F5+F6)*2000/A\n",
"Sp= -(F3+F4+F1+F2+F5+F6)*2000/(Pl*Pb)\n",
"//RESULTS\n",
"printf ('Stress in a= %.2f psi tension',Sa)\n",
"printf (' \n Stress in b=%.2f psi tension',Sb)\n",
"printf (' \n Stress in c=%.2f psi tension',Sc)\n",
"printf (' \n Stress in plate=%.2f psi tension',Sp)"
   ]
   }
,
{
		   "cell_type": "markdown",
		   "metadata": {},
		   "source": [
			"## Example 8.6: chapter_8_example_6.sce"
		   ]
		  },
  {
"cell_type": "code",
	   "execution_count": null,
	   "metadata": {
	    "collapsed": true
	   },
	   "outputs": [],
"source": [
"clc\n",
"//initialisation of variables\n",
"Ns= 8000 //psi\n",
"Ss= 4000 //psi\n",
"Ws= 25000 //psi\n",
"angle= 30 //degrees\n",
"L= 4 //in\n",
"b= 1 //in\n",
"//CALCULATIONS\n",
"P= Ns*L*b/((cosd(2*angle))^2)\n",
"P1= 2*Ss*L*b/(sind(2*angle))\n",
"Pts= Ws*L*b\n",
"e= P1/Pts\n",
"//RESULTS\n",
"if (P<P1) \n",
"    printf ('P= %.2f lb',P)\n",
"else\n",
"    printf ('P1= %.2f lb',P1)\n",
"end\n",
"printf (' \n efficiency of the joint=%.2f ',e)"
   ]
   }
,
{
		   "cell_type": "markdown",
		   "metadata": {},
		   "source": [
			"## Example 8.7: chapter_8_example_7.sce"
		   ]
		  },
  {
"cell_type": "code",
	   "execution_count": null,
	   "metadata": {
	    "collapsed": true
	   },
	   "outputs": [],
"source": [
"clc\n",
"//initialisation of variables\n",
"T= 15000 //psi\n",
"h1= 3 //in\n",
"h2= 2.5 //in\n",
"t= 0.25 //in\n",
"r= 5/16 //in\n",
"d= 1 //in\n",
"//CALCULATIONS\n",
"P1= T*(h1-d)*t/2.18\n",
"P2= T*h2*t/1.7\n",
"if (P1<P2)\n",
"    printf ('Safe axial load= %.2f lb',P1)\n",
"else \n",
"    printf ('Safe axial load= %.f lb',P2)\n",
"        \n",
"end"
   ]
   }
,
{
		   "cell_type": "markdown",
		   "metadata": {},
		   "source": [
			"## Example 8.8: chapter_8_example_8.sce"
		   ]
		  },
  {
"cell_type": "code",
	   "execution_count": null,
	   "metadata": {
	    "collapsed": true
	   },
	   "outputs": [],
"source": [
"clc\n",
"//initialisation of variables\n",
"d= 16 //ft\n",
"h= 24 //ft\n",
"P= 160 //lb/cu ft\n",
"hs1= 8 //ft\n",
"hs2= 8 //ft\n",
"hs3= 8 //ft\n",
"Tsmax= 5000 //psi\n",
"//CALCULATIONS\n",
"SW= P/1728\n",
"P8= SW*hs1*12\n",
"P16= SW*(hs1+hs2)*12\n",
"P24= SW*(hs1+hs2+hs3)*12\n",
"t8= (P8*d*12)/(2*Tsmax)\n",
"t16= P16*d*12/(2*Tsmax)\n",
"t24= P24*d*12/(2*Tsmax)\n",
"//RESULTS\n",
"printf ('t8= %.2f in',t8)\n",
"printf (' \n t16=%.2f in',t16)\n",
"printf (' \n t24=%.2f in',t24)"
   ]
   }
],
"metadata": {
		  "kernelspec": {
		   "display_name": "Scilab",
		   "language": "scilab",
		   "name": "scilab"
		  },
		  "language_info": {
		   "file_extension": ".sce",
		   "help_links": [
			{
			 "text": "MetaKernel Magics",
			 "url": "https://github.com/calysto/metakernel/blob/master/metakernel/magics/README.md"
			}
		   ],
		   "mimetype": "text/x-octave",
		   "name": "scilab",
		   "version": "0.7.1"
		  }
		 },
		 "nbformat": 4,
		 "nbformat_minor": 0
}
