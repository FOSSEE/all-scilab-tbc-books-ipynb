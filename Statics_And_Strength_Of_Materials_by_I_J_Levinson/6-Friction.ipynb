{
"cells": [
 {
		   "cell_type": "markdown",
	   "metadata": {},
	   "source": [
       "# Chapter 6: Friction"
	   ]
	},
{
		   "cell_type": "markdown",
		   "metadata": {},
		   "source": [
			"## Example 6.1: chapter_6_example_1.sce"
		   ]
		  },
  {
"cell_type": "code",
	   "execution_count": null,
	   "metadata": {
	    "collapsed": true
	   },
	   "outputs": [],
"source": [
"clc\n",
"//initialisation of variables\n",
"W= 100 //lb\n",
"Frictioncoefficient= 0.65\n",
"//CALCULATIONS\n",
"A1= atand(Frictioncoefficient)\n",
"//RESULTS\n",
"printf ('Maximum Incliantion= %.f degrees',A1)"
   ]
   }
,
{
		   "cell_type": "markdown",
		   "metadata": {},
		   "source": [
			"## Example 6.2: chapter_6_example_2.sce"
		   ]
		  },
  {
"cell_type": "code",
	   "execution_count": null,
	   "metadata": {
	    "collapsed": true
	   },
	   "outputs": [],
"source": [
"clc\n",
"//initialisation of variables\n",
"W= 100 //lb\n",
"Frictioncoefficient= 0.40\n",
"x= 3\n",
"y= 4\n",
"//CALCULATIONS\n",
"Fmax= (W*y/(sqrt(x^2+y^2)))+Frictioncoefficient*W*x/(sqrt(x^2+y^2))\n",
"Fmin=(W*y/(sqrt(x^2+y^2)))-Frictioncoefficient*W*x/(sqrt(x^2+y^2))\n",
" //RESULTS\n",
"printf ('Fmin= %.f lb',Fmin)\n",
"printf (' \n Fmax=%.f lb',Fmax)"
   ]
   }
,
{
		   "cell_type": "markdown",
		   "metadata": {},
		   "source": [
			"## Example 6.3: chapter_6_example_3.sce"
		   ]
		  },
  {
"cell_type": "code",
	   "execution_count": null,
	   "metadata": {
	    "collapsed": true
	   },
	   "outputs": [],
"source": [
"clc\n",
"//initialisation of variables\n",
"mus= 0.25\n",
"d= 0.5 //in\n",
"h= 3 //in\n",
"//CALCULATIONS\n",
"A=[1 -1;mus mus]\n",
"b= [0;1]\n",
"c= A\b\n",
"Na= c(1,1)\n",
"Nb= c(2,1)\n",
"d= -d*mus*Na+h*Na\n",
"//RESULTS\n",
"printf ('minimu distance= %.2f in',d)"
   ]
   }
,
{
		   "cell_type": "markdown",
		   "metadata": {},
		   "source": [
			"## Example 6.4: chapter_6_example_4.sce"
		   ]
		  },
  {
"cell_type": "code",
	   "execution_count": null,
	   "metadata": {
	    "collapsed": true
	   },
	   "outputs": [],
"source": [
"clc\n",
"//initialisation of variables\n",
"Ft= 1000 //lb\n",
"a1= 5 //degrees\n",
"mu= 0.30\n",
"//CALCULATIONS\n",
"R1= Ft/cosd(a1+atand(mu))\n",
"F= R1*sind(a1+atand(mu)+atand(mu))/sind(90-atand(mu))\n",
"//RESULTS\n",
"printf ('Forec required to start wedge= %.f lb',F)"
   ]
   }
,
{
		   "cell_type": "markdown",
		   "metadata": {},
		   "source": [
			"## Example 6.5: chapter_6_example_5.sce"
		   ]
		  },
  {
"cell_type": "code",
	   "execution_count": null,
	   "metadata": {
	    "collapsed": true
	   },
	   "outputs": [],
"source": [
"clc\n",
"//initialisation of variables\n",
"W= 100 //lb\n",
"n1= 1/2\n",
"n2= 3/2\n",
"mus= 0.40\n",
"//CALCULATIONS\n",
"Ts1= W/(exp(mus*n1*2*%pi))\n",
"Ts2=  W/(exp(mus*n2*2*%pi)) \n",
"//RESULTS\n",
"printf ('Ts1= %.2f lb',Ts1)\n",
"printf (' \n Ts2=%.2f lb',Ts2)"
   ]
   }
,
{
		   "cell_type": "markdown",
		   "metadata": {},
		   "source": [
			"## Example 6.6: chapter_6_example_6.sce"
		   ]
		  },
  {
"cell_type": "code",
	   "execution_count": null,
	   "metadata": {
	    "collapsed": true
	   },
	   "outputs": [],
"source": [
"clc\n",
"//initialisation of variables\n",
"F= 20//lb\n",
"L1= 6 //in\n",
"L2= 12 //in\n",
"L3= 24 //in\n",
"mus= 0.60\n",
"//CALCULATIONS\n",
"A=[(1),(-exp(mus*%pi));(L1+L2),(L1)]\n",
"b=[0;F*(L1+L2+L3)]\n",
"c= A\b\n",
"TL= c(1,1)\n",
"Ts= c(2,1)\n",
"//RESULTS\n",
"printf ('TL= %.2f lb',TL)\n",
"printf (' \n Ts=%.2f lb',Ts)"
   ]
   }
,
{
		   "cell_type": "markdown",
		   "metadata": {},
		   "source": [
			"## Example 6.7: chapter_6_example_7.sce"
		   ]
		  },
  {
"cell_type": "code",
	   "execution_count": null,
	   "metadata": {
	    "collapsed": true
	   },
	   "outputs": [],
"source": [
"clc\n",
"//initialisation of variables\n",
"d= 24 //in\n",
"mu= 0.05\n",
"W= 2000 //lb\n",
"//CALCULATIONS\n",
"F= W*mu*2/d\n",
"//RESULTS\n",
"printf ('F= %.2f lb',F)"
   ]
   }
,
{
		   "cell_type": "markdown",
		   "metadata": {},
		   "source": [
			"## Example 6.8: chapter_6_example_8.sce"
		   ]
		  },
  {
"cell_type": "code",
	   "execution_count": null,
	   "metadata": {
	    "collapsed": true
	   },
	   "outputs": [],
"source": [
"clc\n",
"//initialisation of variables\n",
"F= 800 //lb\n",
"muk= 0.10\n",
"Do= 5 //in\n",
"Di= 3 //in\n",
"//CALCULATIONS\n",
"M= 2*muk*F*((Do/2)^3-(Di/2)^3)/(3*((Do/2)^2-(Di/2)^2))\n",
"//RESULTS\n",
"printf ('M= %.f lb in',M)"
   ]
   }
],
"metadata": {
		  "kernelspec": {
		   "display_name": "Scilab",
		   "language": "scilab",
		   "name": "scilab"
		  },
		  "language_info": {
		   "file_extension": ".sce",
		   "help_links": [
			{
			 "text": "MetaKernel Magics",
			 "url": "https://github.com/calysto/metakernel/blob/master/metakernel/magics/README.md"
			}
		   ],
		   "mimetype": "text/x-octave",
		   "name": "scilab",
		   "version": "0.7.1"
		  }
		 },
		 "nbformat": 4,
		 "nbformat_minor": 0
}
