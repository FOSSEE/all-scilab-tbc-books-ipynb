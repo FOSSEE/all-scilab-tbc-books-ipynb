{
"cells": [
 {
		   "cell_type": "markdown",
	   "metadata": {},
	   "source": [
       "# Chapter 1: Introduction"
	   ]
	},
{
		   "cell_type": "markdown",
		   "metadata": {},
		   "source": [
			"## Example 1.1: chapter_1_example_1.sce"
		   ]
		  },
  {
"cell_type": "code",
	   "execution_count": null,
	   "metadata": {
	    "collapsed": true
	   },
	   "outputs": [],
"source": [
"clc\n",
"//initialisation of variables\n",
"L= 20 //ft\n",
"angle= 30 //degrees\n",
"//CALCULATIONS\n",
"d= L*sind(angle)\n",
"//RESULTS\n",
"printf ('Desitance from foot of Ladder= %.2f ft',d)"
   ]
   }
,
{
		   "cell_type": "markdown",
		   "metadata": {},
		   "source": [
			"## Example 1.2: chapter_1_example_2.sce"
		   ]
		  },
  {
"cell_type": "code",
	   "execution_count": null,
	   "metadata": {
	    "collapsed": true
	   },
	   "outputs": [],
"source": [
"clc\n",
"//initialisation of variables\n",
"a= 5\n",
"b= 12\n",
"angle= 60 //degrees\n",
"//CALCULATIONS\n",
"c= sqrt(a^2+b^2-2*a*b*cosd(angle))\n",
"//RESULTS\n",
"printf ('c = %.1f ',c)"
   ]
   }
,
{
		   "cell_type": "markdown",
		   "metadata": {},
		   "source": [
			"## Example 1.3: chapter_1_example_3.sce"
		   ]
		  },
  {
"cell_type": "code",
	   "execution_count": null,
	   "metadata": {
	    "collapsed": true
	   },
	   "outputs": [],
"source": [
"clc\n",
"//initialisation of variables\n",
"a= 5\n",
"b= 12\n",
"angle= 120 //degrees\n",
"//CALCULATIONS\n",
"c= sqrt(a^2+b^2-2*a*b*cosd(angle))\n",
"//RESULTS\n",
"printf ('c = %.1f ',c)"
   ]
   }
,
{
		   "cell_type": "markdown",
		   "metadata": {},
		   "source": [
			"## Example 1.4: chapter_1_example_4.sce"
		   ]
		  },
  {
"cell_type": "code",
	   "execution_count": null,
	   "metadata": {
	    "collapsed": true
	   },
	   "outputs": [],
"source": [
"clc\n",
"//initialisation of variables\n",
"b= 12\n",
"angle1= 35 //degrees\n",
"angle2= 43 //degrees\n",
"//CALCULATIONS\n",
"angle3= 180-angle1-angle2\n",
"a= sind(angle2)*b/sind(angle3)\n",
"c= a*sind(angle1)/sind(angle2)\n",
"//RESULTS\n",
"printf ('c = %.2f ',c)\n",
"printf (' \a=%.2f.',a)"
   ]
   }
,
{
		   "cell_type": "markdown",
		   "metadata": {},
		   "source": [
			"## Example 1.5: chapter_1_example_5.sce"
		   ]
		  },
  {
"cell_type": "code",
	   "execution_count": null,
	   "metadata": {
	    "collapsed": true
	   },
	   "outputs": [],
"source": [
"clc\n",
"//initialisation of variables\n",
"Wofaninch= 0.29 //lb\n",
"L= 3.5 //ft\n",
"width= 1.75 //ft\n",
"t= 1 //in\n",
"//CALCULATIONS\n",
"W= L*width*t*12*12*Wofaninch\n",
"//RESULTS\n",
"printf ('W = %.f lb',W)"
   ]
   }
,
{
		   "cell_type": "markdown",
		   "metadata": {},
		   "source": [
			"## Example 1.6: chapter_1_example_6.sce"
		   ]
		  },
  {
"cell_type": "code",
	   "execution_count": null,
	   "metadata": {
	    "collapsed": true
	   },
	   "outputs": [],
"source": [
"clc\n",
"//initialisation of variables\n",
"V= 30 //mph\n",
"//CALCULATIONS\n",
"Vinfps= V*5280*(1/60)*(1/60)\n",
"//RESULTS\n",
"printf ('v = %.f fps',Vinfps)"
   ]
   }
],
"metadata": {
		  "kernelspec": {
		   "display_name": "Scilab",
		   "language": "scilab",
		   "name": "scilab"
		  },
		  "language_info": {
		   "file_extension": ".sce",
		   "help_links": [
			{
			 "text": "MetaKernel Magics",
			 "url": "https://github.com/calysto/metakernel/blob/master/metakernel/magics/README.md"
			}
		   ],
		   "mimetype": "text/x-octave",
		   "name": "scilab",
		   "version": "0.7.1"
		  }
		 },
		 "nbformat": 4,
		 "nbformat_minor": 0
}
