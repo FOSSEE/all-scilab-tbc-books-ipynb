{
"cells": [
 {
		   "cell_type": "markdown",
	   "metadata": {},
	   "source": [
       "# Chapter 14: Combined Loading"
	   ]
	},
{
		   "cell_type": "markdown",
		   "metadata": {},
		   "source": [
			"## Example 14.10: chapter_14_example_10.sce"
		   ]
		  },
  {
"cell_type": "code",
	   "execution_count": null,
	   "metadata": {
	    "collapsed": true
	   },
	   "outputs": [],
"source": [
"clc\n",
"//initialisation of variables\n",
"angle= 15 //degrees\n",
"Tyx= -1000 //psi\n",
"Txy= 1000 //psi\n",
"//CALCULATIONS\n",
"Sx= Txy*sind(2*angle)\n",
"Tx= Txy*cosd(2*angle)\n",
"Sy= Tyx*sind(2*angle)\n",
"Ty= Tyx*cosd(2*angle)\n",
"Sx1= Txy\n",
"Sy1= Tyx\n",
"Txy= 0\n",
"//RESULTS\n",
"printf ('Sx= %.1f psi',Sx)\n",
"printf (' \n Tx=%.1f psi',Tx)\n",
"printf (' \n Sy=%.1f psi',Sy)\n",
"printf (' \n Ty=%.1f psi',Ty)\n",
"printf (' \n Sx1=%.1f psi',Sx1)\n",
"printf (' \n Sy1=%.1f psi',Sy1)\n",
"printf (' \n Txy=%.1f psi',Txy)"
   ]
   }
,
{
		   "cell_type": "markdown",
		   "metadata": {},
		   "source": [
			"## Example 14.11: chapter_14_example_11.sce"
		   ]
		  },
  {
"cell_type": "code",
	   "execution_count": null,
	   "metadata": {
	    "collapsed": true
	   },
	   "outputs": [],
"source": [
"clc\n",
"//initialisation of variables\n",
"d= 4 //in\n",
"n= 315 //rpm\n",
"Ss= 8000 //psi\n",
"Ns= 12000 //psi\n",
"//CALCULATIONS\n",
"T= Ss*%pi*d^4/(32*(d/2))\n",
"hp= T*n/63000\n",
"//RESULTS\n",
"printf ('T= %.1f lb in',T)\n",
"printf (' \n horsepower rating=%.1f hp',hp)"
   ]
   }
,
{
		   "cell_type": "markdown",
		   "metadata": {},
		   "source": [
			"## Example 14.12: chapter_14_example_12.sce"
		   ]
		  },
  {
"cell_type": "code",
	   "execution_count": null,
	   "metadata": {
	    "collapsed": true
	   },
	   "outputs": [],
"source": [
"clc\n",
"//initialisation of variables\n",
"Sx= 9 //ksi\n",
"Sy= -5 //ksi\n",
"Txy= 4 //ksi\n",
"//CALCULATIONS\n",
"R= sqrt(((Sx-Sy)/2)^2+Txy^2)\n",
"Smax= ((Sx+Sy)/2)+R\n",
"Smin= ((Sx+Sy)/2)-R\n",
"ap1= (1/2)*atand(2*Txy/(Sx-Sy))\n",
"ap2= 90+ap1\n",
"Sc= (Sx+Sy)/2\n",
"Tc= R\n",
"Sd= (Sx+Sy)/2\n",
"Td= -R\n",
"a1= (90-2*ap1)/2\n",
"a2= 90+a1\n",
"//RESULTS\n",
"printf ('Smax= %.1f ksi',Smax)\n",
"printf (' \n Smin=%.1f ksi',Smin)\n",
"printf (' \n R=%.1f psi',R)\n",
"printf (' \n palne1=%.1f degrees',ap1)\n",
"printf (' \n plane 2=%.1f degrees',ap2)\n",
"printf (' \n Sc=%.1f ksi',Sc)\n",
"printf (' \n Sd=%.1f ksi',Sd)\n",
"printf (' \n Tc=%.1f ksi',Tc)\n",
"printf (' \n Td=%.1f ksi',Td)\n",
"printf (' \n palne1=%.1f degrees',a1)\n",
"printf (' \n plane 2=%.1f degrees',a2)"
   ]
   }
,
{
		   "cell_type": "markdown",
		   "metadata": {},
		   "source": [
			"## Example 14.13: chapter_14_example_13.sce"
		   ]
		  },
  {
"cell_type": "code",
	   "execution_count": null,
	   "metadata": {
	    "collapsed": true
	   },
	   "outputs": [],
"source": [
"clc\n",
"//initialisation of variables\n",
"d= 4 //in\n",
"T= 40000 //lb in\n",
"Th= 20000 //lb in\n",
"//CALCULATIONS\n",
"t= T*(d/2)*32/(%pi*d^4)\n",
"S= Th/(%pi*(d/2)^2)\n",
"Smax= -(S/2)-sqrt(t^2+(S/2)^2)\n",
"Tmax= sqrt(t^2+(S/2)^2)\n",
"//RESULTS\n",
"printf ('Maximum normal stress= %.1f psi',Smax)\n",
"printf (' \n Maximum shearing stress=%.1f psi',Tmax)"
   ]
   }
,
{
		   "cell_type": "markdown",
		   "metadata": {},
		   "source": [
			"## Example 14.1: chapter_14_example_1.sce"
		   ]
		  },
  {
"cell_type": "code",
	   "execution_count": null,
	   "metadata": {
	    "collapsed": true
	   },
	   "outputs": [],
"source": [
"clc\n",
"//initialisation of variables\n",
"h= 6 //in\n",
"x1= 7 //in\n",
"x2= 1 //in\n",
"x3= 2 //in\n",
"P= 600 //lb\n",
"//CALCULATIONS\n",
"By= P*(x1+x2+x3)/(x1+x2)\n",
"Bx= By*(x1+x2)/h\n",
"Fx= Bx\n",
"V= By-P\n",
"M= -P*(x2+x3)+By*x2\n",
"S1= -Fx/(x3*h)\n",
"I= x3*h^3/12\n",
"S2= -M*12*(h/2)/I\n",
"Scmax= S1-S2\n",
"Stmax= S1+S2\n",
"//RESULTS\n",
"printf ('Maximum tensile stress at = %.1f psi',Scmax)\n",
"printf (' \n Maximum compressive stress at = %.1f psi',Stmax)"
   ]
   }
,
{
		   "cell_type": "markdown",
		   "metadata": {},
		   "source": [
			"## Example 14.2: chapter_14_example_2.sce"
		   ]
		  },
  {
"cell_type": "code",
	   "execution_count": null,
	   "metadata": {
	    "collapsed": true
	   },
	   "outputs": [],
"source": [
"clc\n",
"//initialisation of variables\n",
"P= 10000 //lb\n",
"A= 11.77 //in^2\n",
"Z= 51.9 //in^3\n",
"x= 5 //ft\n",
"y= 12 //ft\n",
"//CALCULATIONS\n",
"S1= -P/A\n",
"S2= P*x*y/Z\n",
"Sc= S1-S2\n",
"St= S1+S2\n",
"//RESULTS\n",
"printf ('Axial stress at c= %.1f psi',Sc)\n",
"printf (' \n Axial stress at t= %.1f psi',St)"
   ]
   }
,
{
		   "cell_type": "markdown",
		   "metadata": {},
		   "source": [
			"## Example 14.3: chapter_14_example_3.sce"
		   ]
		  },
  {
"cell_type": "code",
	   "execution_count": null,
	   "metadata": {
	    "collapsed": true
	   },
	   "outputs": [],
"source": [
"clc\n",
"//initialisation of variables\n",
"b= 6 //in\n",
"h= 12 //in\n",
"l= 20 //ft\n",
"P= 100000 //lb\n",
"//CALCULATIONS\n",
"S= -P/(b*h)\n",
"S1= l^2*6*12/(8*b*h^2)\n",
"w= -S/S1\n",
"//RESULTS\n",
"printf ('Safe distributed load= %.1f lb per ft',w)"
   ]
   }
,
{
		   "cell_type": "markdown",
		   "metadata": {},
		   "source": [
			"## Example 14.4: chapter_14_example_4.sce"
		   ]
		  },
  {
"cell_type": "code",
	   "execution_count": null,
	   "metadata": {
	    "collapsed": true
	   },
	   "outputs": [],
"source": [
"clc\n",
"//initialisation of variables\n",
"b= 4 //in\n",
"h= 9 //in\n",
"l= 6 //in\n",
"Mx= 600 //lb\n",
"My= 100 //lb\n",
"//CALCULATIONS\n",
"Zx= b*h^3/(12*h/2)\n",
"Zy= b^3*h/(12*b/2)\n",
"S1= Mx*l*12/Zx\n",
"S2= My*b*12/Zy\n",
"Sb= S1+S2\n",
"Sd= -S1-S2\n",
"//RESULTS\n",
"printf ('Maximum stress= %.1f psi (tension)',Sb)\n",
"printf (' \n Maximum stress=%.1f psi (compression)',Sd) \n",
"\n",
""
   ]
   }
,
{
		   "cell_type": "markdown",
		   "metadata": {},
		   "source": [
			"## Example 14.5: chapter_14_example_5.sce"
		   ]
		  },
  {
"cell_type": "code",
	   "execution_count": null,
	   "metadata": {
	    "collapsed": true
	   },
	   "outputs": [],
"source": [
"clc\n",
"//initialisation of variables\n",
"d= 2 //in\n",
"Px= -600 //lb\n",
"Py= 1200 //lb\n",
"x1= 2 //in\n",
"x2= 2 //in\n",
"x3= 2 //in\n",
"Ray= -400 //lb\n",
"Rax= 400 //lb\n",
"Rbx= 200 //lb\n",
"Rby= -800 //lb\n",
"//CALCULATIONS\n",
"Mb= sqrt((Rax*x1)^2+(Ray*x1)^2)\n",
"Mc=sqrt((Rbx*x3)^2+(Rby*x3)^2)\n",
"if (Mb<Mc) \n",
"    M=Mc\n",
"else \n",
"    M= Mb    \n",
"end\n",
"Smax= M*12*64*(d/2)/(%pi*d^4)\n",
"//RESULTS\n",
"printf ('Maximum normal stress= %.1f psi',Smax) \n",
""
   ]
   }
,
{
		   "cell_type": "markdown",
		   "metadata": {},
		   "source": [
			"## Example 14.6: chapter_14_example_6.sce"
		   ]
		  },
  {
"cell_type": "code",
	   "execution_count": null,
	   "metadata": {
	    "collapsed": true
	   },
	   "outputs": [],
"source": [
"clc\n",
"//initialisation of variables\n",
"P= 100 //kips\n",
"M= 400 //kip in\n",
"A= 14.7 //in^2\n",
"Z= 80.7 //in^3\n",
"//CALCULATIONS\n",
"Smax= -(P*10^3)/A-(M*10^3)/Z\n",
"Smin= -(P*10^3)/A+(M*10^3)/Z\n",
"//RESULTS\n",
"printf ('Maximum stress= %.1f psi',Smax)\n",
"printf (' \n Minimum stress=%.1f psi',Smin)"
   ]
   }
,
{
		   "cell_type": "markdown",
		   "metadata": {},
		   "source": [
			"## Example 14.7: chapter_14_example_7.sce"
		   ]
		  },
  {
"cell_type": "code",
	   "execution_count": null,
	   "metadata": {
	    "collapsed": true
	   },
	   "outputs": [],
"source": [
"clc\n",
"//initialisation of variables\n",
"As= 1 //in^2\n",
"Zs= 0.167 //in^3\n",
"Ah= 1 //in^2\n",
"Zh= 0.984 //in^3\n",
"es= 0.5 //in\n",
"eh= 0.5 //in\n",
"//CALCULATIONS\n",
"phbyps= (1/As+es/Zs)/(1/Ah+eh/Zh)\n",
"//RESULTS\n",
"printf ('ratio= %.1f',phbyps)"
   ]
   }
,
{
		   "cell_type": "markdown",
		   "metadata": {},
		   "source": [
			"## Example 14.8: chapter_14_example_8.sce"
		   ]
		  },
  {
"cell_type": "code",
	   "execution_count": null,
	   "metadata": {
	    "collapsed": true
	   },
	   "outputs": [],
"source": [
"clc\n",
"//initialisation of variables\n",
"Sx= 1800 //psi\n",
"Sy= 1000 //psi\n",
"angle= 30 //degrees\n",
"t= 0.25 //in\n",
"t1= 3 //in\n",
"t2= 5 //in\n",
"//CALCULATIONS\n",
"Sx1= Sx/(t1*t)\n",
"Sy1= Sy/(t2*t)\n",
"S= ((Sx+Sy)/2+((Sx-Sy)/2)*cosd(2*angle))+(Sx-Sy)*cosd(2*angle)\n",
"T= (Sx-Sy)*sind(2*angle)\n",
"//RESULTS\n",
"printf ('S= %.1f psi',S)\n",
"printf (' \n T=%.1f psi',T)\n",
"\n",
"\n",
"\n",
"\n",
"\n",
"\n",
"\n",
""
   ]
   }
,
{
		   "cell_type": "markdown",
		   "metadata": {},
		   "source": [
			"## Example 14.9: chapter_14_example_9.sce"
		   ]
		  },
  {
"cell_type": "code",
	   "execution_count": null,
	   "metadata": {
	    "collapsed": true
	   },
	   "outputs": [],
"source": [
"clc\n",
"//initialisation of variables\n",
"Sx= 1800 //lb\n",
"Sy= 1000 //lb\n",
"angle= 30 //degrees\n",
"//CALCULATIONS\n",
"Sa=-((Sx+Sy)/2+((Sx-Sy)/2)*cosd(2*angle))*cosd(2*angle)-(Sx-Sy)\n",
"Ta= -((Sx+Sy)/2+((Sx-Sy)/2)*cosd(2*angle))*sind(2*angle)\n",
"Sb=((Sx+Sy)/2+((Sx-Sy)/2)*cosd(2*angle))*cosd(2*angle)-(Sx-Sy)\n",
"Tb= ((Sx+Sy)/2+((Sx-Sy)/2)*cosd(2*angle))*sind(2*angle)\n",
"//RESULTS\n",
"printf ('Sa= %.1f psi',Sa)\n",
"printf (' \n Sb=%.1f psi',Sb)\n",
"printf (' \n Ta=%.1f psi',Ta)\n",
"printf (' \n Tb=%.1f psi',Tb)"
   ]
   }
],
"metadata": {
		  "kernelspec": {
		   "display_name": "Scilab",
		   "language": "scilab",
		   "name": "scilab"
		  },
		  "language_info": {
		   "file_extension": ".sce",
		   "help_links": [
			{
			 "text": "MetaKernel Magics",
			 "url": "https://github.com/calysto/metakernel/blob/master/metakernel/magics/README.md"
			}
		   ],
		   "mimetype": "text/x-octave",
		   "name": "scilab",
		   "version": "0.7.1"
		  }
		 },
		 "nbformat": 4,
		 "nbformat_minor": 0
}
