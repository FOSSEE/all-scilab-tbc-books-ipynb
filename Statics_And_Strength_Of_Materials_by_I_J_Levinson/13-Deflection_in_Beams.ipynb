{
"cells": [
 {
		   "cell_type": "markdown",
	   "metadata": {},
	   "source": [
       "# Chapter 13: Deflection in Beams"
	   ]
	},
{
		   "cell_type": "markdown",
		   "metadata": {},
		   "source": [
			"## Example 13.1: chapter_13_example_1.sce"
		   ]
		  },
  {
"cell_type": "code",
	   "execution_count": null,
	   "metadata": {
	    "collapsed": true
	   },
	   "outputs": [],
"source": [
"clc\n",
"//initialisation of variables\n",
"E= 1.5*10^6\n",
"F1= -100 //lb\n",
"F2= -100 //lb\n",
"x1= 6 //in\n",
"x2= 6 //in\n",
"Ina= 64 //in^4\n",
"h1= -600 //lb ft\n",
"h2= -1200 //lb ft\n",
"xa1= 10 // in\n",
"xa2= 8 //in\n",
"//CALCULATIONS\n",
"deltamax= ((1/2)*x1*xa1*h1+(1/2)*(x1+x2)*h2*xa2)*(1728)/(E*Ina)\n",
"//RESULTS\n",
"printf ('maximum deflection= %.2f in',deltamax)"
   ]
   }
,
{
		   "cell_type": "markdown",
		   "metadata": {},
		   "source": [
			"## Example 13.2: chapter_13_example_2.sce"
		   ]
		  },
  {
"cell_type": "code",
	   "execution_count": null,
	   "metadata": {
	    "collapsed": true
	   },
	   "outputs": [],
"source": [
"clc\n",
"//initialisation of variables\n",
"E= 1.5*10^6\n",
"I= 50 //in^4\n",
"delta= -1 //in\n",
"l= 8 //ft\n",
"//CALCULATIONS\n",
"w= -delta*8*E*I/(l^4*1728)\n",
"//RESULTS\n",
"printf ('distributed weight= %.1f lb per ft',w)"
   ]
   }
,
{
		   "cell_type": "markdown",
		   "metadata": {},
		   "source": [
			"## Example 13.3: chapter_13_example_3.sce"
		   ]
		  },
  {
"cell_type": "code",
	   "execution_count": null,
	   "metadata": {
	    "collapsed": true
	   },
	   "outputs": [],
"source": [
"clc\n",
"//initialisation of variables\n",
"W= 50 //lb/ft\n",
"x= 5 //ft\n",
"x1= 2 //ft\n",
"//CALCULATIONS\n",
"V= W*x\n",
"M= W*((x/2)+x1)*x\n",
"M1= W*x*(x+x1)\n",
"M2= -M\n",
"M3= -W*x*x/2\n",
"EIdeltamax= ((1/2)*(x+x1)*M1*((x+x1)/3))+(x+x1)*M2*((x+x1)/2)+(1/3)*x*M3*(x/4)\n",
"//RESULTS\n",
"printf ('maximum value of EIdeltax= %.1f lb ft^3',EIdeltamax)"
   ]
   }
,
{
		   "cell_type": "markdown",
		   "metadata": {},
		   "source": [
			"## Example 13.5: chapter_13_example_5.sce"
		   ]
		  },
  {
"cell_type": "code",
	   "execution_count": null,
	   "metadata": {
	    "collapsed": true
	   },
	   "outputs": [],
"source": [
"clc\n",
"//initialisation of variables\n",
"w= 180 //lb/ft\n",
"l= 8 //ft\n",
"P= 1200 //lb\n",
"b= 6 //ft\n",
"E= 3*10^6\n",
"I= 64 //in^4\n",
"//CALCULATIONS\n",
"delta= ((w*l^4)/(8))+((P*b^2)*(3*l-b)/(6))\n",
"//RESULTS\n",
"printf ('deflection of the free end= %.1fbyEI ft',delta)"
   ]
   }
,
{
		   "cell_type": "markdown",
		   "metadata": {},
		   "source": [
			"## Example 13.6: chapter_13_example_6.sce"
		   ]
		  },
  {
"cell_type": "code",
	   "execution_count": null,
	   "metadata": {
	    "collapsed": true
	   },
	   "outputs": [],
"source": [
"clc\n",
"//initialisation of variables\n",
"P= 6 //kips\n",
"w= 3 //kips/ft\n",
"L1= 8 //ft\n",
"L2= 8 //ft\n",
"//CALCULATIONS\n",
"delta= (P*(L1+L2)^3/192)+(w*(L1+L2)^4/768)\n",
"//RESULTS\n",
"printf ('midspan value of deflection= %.1f kip ft^3',delta)"
   ]
   }
,
{
		   "cell_type": "markdown",
		   "metadata": {},
		   "source": [
			"## Example 13.7: chapter_13_example_7.sce"
		   ]
		  },
  {
"cell_type": "code",
	   "execution_count": null,
	   "metadata": {
	    "collapsed": true
	   },
	   "outputs": [],
"source": [
"clc\n",
"//initialisation of variables\n",
"x1= 3 //ft\n",
"x2= 3 //ft\n",
"x3= 3 //ft\n",
"x4= 3 //ft\n",
"W1= 4 //kips\n",
"W2= 8 //kips\n",
"l= x1+x2+x3+x4\n",
"//CALCULATIONS\n",
"b= x2+x3+x4\n",
"b1= x4\n",
"a= x1\n",
"x= l/2\n",
"P= (((W1*b*(l/b*(x-a)^3+(l^2-b^2)*x-x^3))/(6*l))+((W2*b1*x*(l^2-x^2-b1^2))/(6*l)))*(48/l^3)\n",
"R1= 3+2-(P/2)\n",
"R2= P\n",
"R3= 1+6-(P/2)\n",
"//RESULTS\n",
"printf ('R1= %.3f kips',R1)\n",
"printf (' \n R2=%.2f kips',R2)\n",
"printf (' \n R3=%.3f kips',R3)"
   ]
   }
,
{
		   "cell_type": "markdown",
		   "metadata": {},
		   "source": [
			"## Example 13.8: chapter_13_example_8.sce"
		   ]
		  },
  {
"cell_type": "code",
	   "execution_count": null,
	   "metadata": {
	    "collapsed": true
	   },
	   "outputs": [],
"source": [
"clc\n",
"//initialisation of variables\n",
"P= 680 //lb\n",
"K= 1000 //lb/in\n",
"L= 6 //ft\n",
"E= 30*10^6\n",
"Ina= 1.728 //in^4\n",
"//CALCULATIONS\n",
"A= [((L*12)^3/(3*E*Ina)),-(1/K);1,1]\n",
"b= [0;P]\n",
"c= A\b\n",
"Pb= c(1,1)\n",
"Ps= c(2,1)\n",
"//RESULTS\n",
"printf ('Force in the spring= %.2f psi',Ps)"
   ]
   }
,
{
		   "cell_type": "markdown",
		   "metadata": {},
		   "source": [
			"## Example 13.9: chapter_13_example_9.sce"
		   ]
		  },
  {
"cell_type": "code",
	   "execution_count": null,
	   "metadata": {
	    "collapsed": true
	   },
	   "outputs": [],
"source": [
"clc\n",
"//initialisation of variables\n",
"I= 1.5 //in^4\n",
"Da= 0.5 //in\n",
"E= 30*10^6\n",
"l= 60 //in\n",
"//CALCULATIONS\n",
"F= 6*Da*E*I/(l^3)\n",
"//RESULTS\n",
"printf ('F= %.2f lb',F)"
   ]
   }
],
"metadata": {
		  "kernelspec": {
		   "display_name": "Scilab",
		   "language": "scilab",
		   "name": "scilab"
		  },
		  "language_info": {
		   "file_extension": ".sce",
		   "help_links": [
			{
			 "text": "MetaKernel Magics",
			 "url": "https://github.com/calysto/metakernel/blob/master/metakernel/magics/README.md"
			}
		   ],
		   "mimetype": "text/x-octave",
		   "name": "scilab",
		   "version": "0.7.1"
		  }
		 },
		 "nbformat": 4,
		 "nbformat_minor": 0
}
