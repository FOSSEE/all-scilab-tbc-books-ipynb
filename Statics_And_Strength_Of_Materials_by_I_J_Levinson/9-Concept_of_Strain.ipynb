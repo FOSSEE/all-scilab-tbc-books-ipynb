{
"cells": [
 {
		   "cell_type": "markdown",
	   "metadata": {},
	   "source": [
       "# Chapter 9: Concept of Strain"
	   ]
	},
{
		   "cell_type": "markdown",
		   "metadata": {},
		   "source": [
			"## Example 9.10: chapter_9_example_10.sce"
		   ]
		  },
  {
"cell_type": "code",
	   "execution_count": null,
	   "metadata": {
	    "collapsed": true
	   },
	   "outputs": [],
"source": [
"clc\n",
"S=5 //in\n",
"Al=6 //in\n",
"alphaS=6.5*10^(-6) //in/in/F\n",
"alphaAl=13.1*10^(-6) //in/in/F\n",
"Es=30*10^6 //psi\n",
"EAl=10*10^6 //psi\n",
"As=1 //in^2\n",
"AAl=2 //in^2\n",
"T=50 //F\n",
"dia=1 //in\n",
"disp('From the figure, it is evident that DeltaPs+DeltaPAl=DeltaTs+DeltaTAl')\n",
"P=(alphaS*S*12*T + alphaAl*Al*12*T)/(S*12/(Es*As) + Al*12/(EAl*AAl))\n",
"printf('Shearing force= %d lb',P)\n",
"T=P/(%pi*(dia/2)^2)\n",
"printf('\n The shear stress in the pin=%d psi',T)"
   ]
   }
,
{
		   "cell_type": "markdown",
		   "metadata": {},
		   "source": [
			"## Example 9.11: chapter_9_example_11.sce"
		   ]
		  },
  {
"cell_type": "code",
	   "execution_count": null,
	   "metadata": {
	    "collapsed": true
	   },
	   "outputs": [],
"source": [
"clc\n",
"edge=2 //in\n",
"height=3 //in\n",
"F=20000 //lb\n",
"deltaS=0.00234 //in\n",
"deltaA=0.00088 //in\n",
"E=F*height/(deltaA*edge*edge)\n",
"printf('Modulus of elasticity=%f psi',E)\n",
"G=F*height/(deltaS*edge*edge)\n",
"printf('\n Modulus of Rigidity=%f psi',G)\n",
"Mu=E/(2*G) -1\n",
"printf('\n Poisson ratio=%f ',Mu)"
   ]
   }
,
{
		   "cell_type": "markdown",
		   "metadata": {},
		   "source": [
			"## Example 9.1: chapter_9_example_1.sce"
		   ]
		  },
  {
"cell_type": "code",
	   "execution_count": null,
	   "metadata": {
	    "collapsed": true
	   },
	   "outputs": [],
"source": [
"clc\n",
"length=10 //ft\n",
"delta=0.024 //in\n",
"epsilon=delta/(length*12)\n",
"printf('Axial strain=%f in/in',epsilon)"
   ]
   }
,
{
		   "cell_type": "markdown",
		   "metadata": {},
		   "source": [
			"## Example 9.2: chapter_9_example_2.sce"
		   ]
		  },
  {
"cell_type": "code",
	   "execution_count": null,
	   "metadata": {
	    "collapsed": true
	   },
	   "outputs": [],
"source": [
"clc\n",
"drop=5 //in\n",
"width=8 //ft\n",
"deltaMB=sqrt((width*12/2)^2 +drop^2) - (width*12/2)\n",
"epsilon=deltaMB/(width*12/2)\n",
"printf('Strain in the wire= %f in/in',epsilon)"
   ]
   }
,
{
		   "cell_type": "markdown",
		   "metadata": {},
		   "source": [
			"## Example 9.4: chapter_9_example_4.sce"
		   ]
		  },
  {
"cell_type": "code",
	   "execution_count": null,
	   "metadata": {
	    "collapsed": true
	   },
	   "outputs": [],
"source": [
"clc\n",
"length=15 //in\n",
"tension=5000 //lb\n",
"UltStress=20000 //psi\n",
"delta=0.005 //in\n",
"E=30*10^6 //psi\n",
"A1=tension/UltStress\n",
"A2=tension*length/(delta*E)\n",
"if A1>=A2     then\n",
"    A=A1\n",
"else\n",
"    A=A2\n",
"end\n",
"Dia=sqrt(4*A/%pi)\n",
"printf('diameter required= %f in', Dia)"
   ]
   }
,
{
		   "cell_type": "markdown",
		   "metadata": {},
		   "source": [
			"## Example 9.5: chapter_9_example_5.sce"
		   ]
		  },
  {
"cell_type": "code",
	   "execution_count": null,
	   "metadata": {
	    "collapsed": true
	   },
	   "outputs": [],
"source": [
"clc\n",
"L1=5\n",
"L2=10\n",
"T1=2.5\n",
"T2=5\n",
"T3=5\n",
"T4=5\n",
"T5=2.5\n",
"E=30*10^6  //psi\n",
"outDia=2 //in\n",
"inDia=1/8 //in\n",
"RE=(T1+T2+T3+T4+T5)/2 //kips\n",
"RA=RE\n",
"disp('From the figure 9.12')\n",
"GH=(RA*L2-T2*L1-T1*L2)/4\n",
"printf('Stress in GH=%f kips',GH)\n",
"A=%pi*(outDia^2-(outDia-2*inDia)^2)/4\n",
"delta=GH*10^3 *(L1*12)/(E*A)\n",
"printf('\n Deformation=%f in',delta)\n",
"sigma=GH*10^3 /A\n",
"printf('\n Stress=%d psi',sigma)\n",
"SF=65000/sigma\n",
"printf('\n Factor of safety=%f ',SF)"
   ]
   }
,
{
		   "cell_type": "markdown",
		   "metadata": {},
		   "source": [
			"## Example 9.6: chapter_9_example_6.sce"
		   ]
		  },
  {
"cell_type": "code",
	   "execution_count": null,
	   "metadata": {
	    "collapsed": true
	   },
	   "outputs": [],
"source": [
"clc\n",
"//initialisation of variables\n",
"Es= 30*10^6 //psi\n",
"As= 1 //in^2\n",
"Ea= 10*10^6 //psi\n",
"Aa= 2 //in^2\n",
"Ls= 10 //ft\n",
"La= 5 //ft\n",
"//CALCULATIONS\n",
"A=[(Ls/(Es*As)) (-La/(Ea*Aa));1 1]\n",
"b= [0;1]\n",
"c= A\b\n",
"Fa= c(1,1)\n",
"Fb= c(2,1)\n",
"d= Fb*Ls\n",
"//RESULTS\n",
"printf ('distance= %.2f ft',d)"
   ]
   }
,
{
		   "cell_type": "markdown",
		   "metadata": {},
		   "source": [
			"## Example 9.7: chapter_9_example_7.sce"
		   ]
		  },
  {
"cell_type": "code",
	   "execution_count": null,
	   "metadata": {
	    "collapsed": true
	   },
	   "outputs": [],
"source": [
"clc\n",
"P=40000 //lb\n",
"L=15 //in\n",
"delta=0.0032 //in\n",
"dia=4 //in\n",
"axial=0.0032  //in\n",
"lateral=0.00022  //in\n",
"E=P*L/(delta*%pi*(dia/2)^2)\n",
"printf('Modulus of elasticity=%f psi',E)\n",
"Mu=lateral*L/(axial*dia)\n",
"printf('\n Poisson ratio= %f',Mu)"
   ]
   }
,
{
		   "cell_type": "markdown",
		   "metadata": {},
		   "source": [
			"## Example 9.8: chapter_9_example_8.sce"
		   ]
		  },
  {
"cell_type": "code",
	   "execution_count": null,
	   "metadata": {
	    "collapsed": true
	   },
	   "outputs": [],
"source": [
"clc\n",
"alpha=11.2*10^(-6) //in/in/F\n",
"E=15*10^6 //psi\n",
"L=60 //in\n",
"deltaT1=0.01 //in\n",
"T2=50 //F\n",
"deltaT=deltaT1/(alpha*L)\n",
"printf('The temperature increase necessary to cause free end to touch B=%f F',deltaT)\n",
"disp('From the geometry of the figure')\n",
"sigma=(alpha*L*T2-deltaT1)*E/L\n",
"printf('Stress in the rod=%d psi',sigma+1)"
   ]
   }
,
{
		   "cell_type": "markdown",
		   "metadata": {},
		   "source": [
			"## Example 9.9: chapter_9_example_9.sce"
		   ]
		  },
  {
"cell_type": "code",
	   "execution_count": null,
	   "metadata": {
	    "collapsed": true
	   },
	   "outputs": [],
"source": [
"clc\n",
"weight=25000 //Kg\n",
"A=2 //sq.in\n",
"alphaS=6.5*10^(-6) //in/in/F\n",
"alphaB=11.2*10^(-6) //in/in/F\n",
"Es=30*10^6 //psi\n",
"Eb=15*10^6 //psi\n",
"disp('From the figure, DeltaTs+DeltaPs=DeltaTb')\n",
"deltaT=weight/(Es*A*(alphaB-alphaS))\n",
"printf('Net temperature drop=%f F',deltaT)"
   ]
   }
],
"metadata": {
		  "kernelspec": {
		   "display_name": "Scilab",
		   "language": "scilab",
		   "name": "scilab"
		  },
		  "language_info": {
		   "file_extension": ".sce",
		   "help_links": [
			{
			 "text": "MetaKernel Magics",
			 "url": "https://github.com/calysto/metakernel/blob/master/metakernel/magics/README.md"
			}
		   ],
		   "mimetype": "text/x-octave",
		   "name": "scilab",
		   "version": "0.7.1"
		  }
		 },
		 "nbformat": 4,
		 "nbformat_minor": 0
}
