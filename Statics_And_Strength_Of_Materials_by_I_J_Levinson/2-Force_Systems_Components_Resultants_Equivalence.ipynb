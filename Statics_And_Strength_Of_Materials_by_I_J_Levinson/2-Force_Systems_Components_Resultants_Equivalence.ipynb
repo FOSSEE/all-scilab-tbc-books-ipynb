{
"cells": [
 {
		   "cell_type": "markdown",
	   "metadata": {},
	   "source": [
       "# Chapter 2: Force Systems Components Resultants Equivalence"
	   ]
	},
{
		   "cell_type": "markdown",
		   "metadata": {},
		   "source": [
			"## Example 2.3: chapter_2_example_3.sce"
		   ]
		  },
  {
"cell_type": "code",
	   "execution_count": null,
	   "metadata": {
	    "collapsed": true
	   },
	   "outputs": [],
"source": [
"clc\n",
"//initialisation of variables\n",
"f1= 20 //lb\n",
"f2= 40 //lb\n",
"alpha= 30 //degrees\n",
"//CALCULATIONS\n",
"R= sqrt(f1^2+f2^2+2*f1*f2*cosd(alpha))\n",
"angle= asind((f2*sind(180-alpha))/(R))\n",
"//RESULTS\n",
"printf ('R = %.1f lb',R)\n",
"printf (' \angle=%.1f degrees',angle)"
   ]
   }
,
{
		   "cell_type": "markdown",
		   "metadata": {},
		   "source": [
			"## Example 2.4: chapter_2_example_4.sce"
		   ]
		  },
  {
"cell_type": "code",
	   "execution_count": null,
	   "metadata": {
	    "collapsed": true
	   },
	   "outputs": [],
"source": [
"clc\n",
"//initialisation of variables\n",
"fx= 100 //lb\n",
"f1= 200 //lb\n",
"f2= 100 //lb\n",
"f3= 50 //lb\n",
"a1= 30 //degrees\n",
"a2= 45 //degrees\n",
"a3= 60 //degrees\n",
"//CALCULATIONS\n",
"Rx= fx+f1*cosd(a1)-f2*cosd(a2)-f3*cosd(a3)\n",
"Ry= f1*sind(a1)+f2*sind(a2)-f3*sind(a3)\n",
"R= sqrt(Rx^2+Ry^2)\n",
"angle= atand(Ry/Rx)\n",
"//RESULTS\n",
"printf ('R = %.f ',R)\n",
"printf (' \angle=%.1f degrees',angle)"
   ]
   }
,
{
		   "cell_type": "markdown",
		   "metadata": {},
		   "source": [
			"## Example 2.5: chapter_2_example_5.sce"
		   ]
		  },
  {
"cell_type": "code",
	   "execution_count": null,
	   "metadata": {
	    "collapsed": true
	   },
	   "outputs": [],
"source": [
"clc\n",
"//initialisation of variables\n",
"f1= 100 //lb\n",
"f2= 200 //lb\n",
"x1= 2\n",
"x2= -3\n",
"y1= 3\n",
"y2= 5\n",
"z1= 4\n",
"z2= -2\n",
"//CALCULATIONS\n",
"d1= sqrt(x1^2+y1^2+z1^2)\n",
"d2= sqrt(x2^2+y2^2+z2^2)\n",
"f1x= f1*x1/d1\n",
"f1y= f1*y1/d1\n",
"f1z= f1*z1/d1\n",
"f2x= f2*x2/d2\n",
"f2y= f2*y2/d2\n",
"f2z= f2*z2/d2\n",
"Rx= f1x+f2x\n",
"Ry= f1y+f2y\n",
"Rz= f1z+f2z\n",
"R= sqrt(Rx^2+Ry^2+Rz^3)\n",
"I1= Rx/R\n",
"I2= Ry/R\n",
"I3= Rz/R\n",
"//RESULTS\n",
"printf ('R = %.2f lb',R)\n",
"printf (' \I1=%.3f ',I1)\n",
"printf (' \I2=%.3f ',I2)\n",
"printf (' \I3=%.3f ',I3)"
   ]
   }
,
{
		   "cell_type": "markdown",
		   "metadata": {},
		   "source": [
			"## Example 2.6: chapter_2_example_6.sce"
		   ]
		  },
  {
"cell_type": "code",
	   "execution_count": null,
	   "metadata": {
	    "collapsed": true
	   },
	   "outputs": [],
"source": [
"clc\n",
"//initialisation of variables\n",
"F= 100 //lb\n",
"x1= 6 //in\n",
"x2= 8 //in\n",
"x3= 2 //in\n",
"//CALCULATIONS\n",
"xab= sqrt(x1^2+x2^2)\n",
"d= x3*x1/xab\n",
"M1= F*d\n",
"Fx= F*x2/xab\n",
"Fy= F*x1/xab\n",
"M2= Fy*xab-Fx*x1\n",
"M3= Fy*x3\n",
"//RESULTS\n",
"printf ('M1 = %.f lb.in',M1)\n",
"printf (' \M2=%.f lb.in',M2)\n",
"printf (' \M3=%.f lb.in',M3)"
   ]
   }
,
{
		   "cell_type": "markdown",
		   "metadata": {},
		   "source": [
			"## Example 2.7: chapter_2_example_7.sce"
		   ]
		  },
  {
"cell_type": "code",
	   "execution_count": null,
	   "metadata": {
	    "collapsed": true
	   },
	   "outputs": [],
"source": [
"clc\n",
"//initialisation of variables\n",
"Fy1= 2 //kips\n",
"Fy2= 5 //kips\n",
"Fy3= 10 //kips\n",
"Fy4= 3 //kips\n",
"L= 5 //ft\n",
"Ry= Fy1+Fy2+Fy3+Fy4\n",
"x= (Fy1*L+Fy2*2*L+Fy3*3*L+Fy4*4*L)/Ry\n",
"//RESULTS\n",
"printf ('Ry= %.2f kips',Ry)\n",
"printf (' \n x=%.1f ft to the right of O',x)"
   ]
   }
,
{
		   "cell_type": "markdown",
		   "metadata": {},
		   "source": [
			"## Example 2.8: chapter_2_example_8.sce"
		   ]
		  },
  {
"cell_type": "code",
	   "execution_count": null,
	   "metadata": {
	    "collapsed": true
	   },
	   "outputs": [],
"source": [
"clc\n",
"//initialisation of variables\n",
"Fx1= -15 //lb\n",
"Fx2= 55 //lb\n",
"Fy1= 70 //lb\n",
"Fy2= -40 //lb\n",
"x1= 4 //in\n",
"x2= 3 //in\n",
"x3= 5 //in\n",
"y1= 4 //in\n",
"y2= 2 //in\n",
"//CALCULATIONS\n",
"Rx= Fx1+Fx2\n",
"Ry= Fy1+Fy2\n",
"R= sqrt(Rx^2+Ry^2)\n",
"angle= atand(Ry/Rx)\n",
"//RESULTS\n",
"printf ('R= %.2f lb',R)\n",
"printf (' \n angle=%.1f degrees',angle)"
   ]
   }
,
{
		   "cell_type": "markdown",
		   "metadata": {},
		   "source": [
			"## Example 2.9: chapter_2_example_9.sce"
		   ]
		  },
  {
"cell_type": "code",
	   "execution_count": null,
	   "metadata": {
	    "collapsed": true
	   },
	   "outputs": [],
"source": [
"clc\n",
"//initialisation of variables\n",
"Fy= 200 //lb\n",
"Fx= 100 //lb\n",
"y= 3 //in\n",
"x= 6 //in\n",
"//CALCULATIONS\n",
"M= Fy*x-Fx*y\n",
"//RESULTS\n",
"printf ('Moment= %.2f lb in',M)"
   ]
   }
],
"metadata": {
		  "kernelspec": {
		   "display_name": "Scilab",
		   "language": "scilab",
		   "name": "scilab"
		  },
		  "language_info": {
		   "file_extension": ".sce",
		   "help_links": [
			{
			 "text": "MetaKernel Magics",
			 "url": "https://github.com/calysto/metakernel/blob/master/metakernel/magics/README.md"
			}
		   ],
		   "mimetype": "text/x-octave",
		   "name": "scilab",
		   "version": "0.7.1"
		  }
		 },
		 "nbformat": 4,
		 "nbformat_minor": 0
}
