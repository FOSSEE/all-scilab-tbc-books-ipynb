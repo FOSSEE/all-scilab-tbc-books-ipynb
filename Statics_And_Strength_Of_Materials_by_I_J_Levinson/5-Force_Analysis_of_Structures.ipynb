{
"cells": [
 {
		   "cell_type": "markdown",
	   "metadata": {},
	   "source": [
       "# Chapter 5: Force Analysis of Structures"
	   ]
	},
{
		   "cell_type": "markdown",
		   "metadata": {},
		   "source": [
			"## Example 5.1: chapter_5_example_1.sce"
		   ]
		  },
  {
"cell_type": "code",
	   "execution_count": null,
	   "metadata": {
	    "collapsed": true
	   },
	   "outputs": [],
"source": [
"clc\n",
"//initialisation of variables\n",
"Fc= -1000 //lb\n",
"A= 60 //degrees\n",
"E1= 60 //degrees\n",
"E2= 60 //degrees\n",
"D= 60 //degrees\n",
"L1= 10 //ft\n",
"L2= 10 //ft\n",
"//CALCULATIONS\n",
"Ax= 0\n",
"Ay= (-Fc)*L1*cosd(D)/(L1+L2)\n",
"Dy= -Fc-Ay\n",
"Fab= Ay/sind(A)\n",
"Fae= Fab*cosd(A)\n",
"Fbe= Fab*cosd(90-E1)/cosd(90-A)\n",
"Fbc= Fab*sind(90-A)+Fbe*sind(90-E1)\n",
"Fce= Fbc*cosd(90-(180-E2-D))/cosd(90-E2)\n",
"Fde= Fae+Fbe*cosd(E1)+Fce*cosd(E2)\n",
"Fcd= (-Fc-Fbc*cosd(90-E2-D))/cosd(90-E)\n",
"//RESULTS\n",
"printf ('Ax= %.3f lb',Ax)\n",
"printf (' \n Ay=%.2f lb',Ay)\n",
"printf (' \n Dy=%.3f lb',Dy) \n",
"printf (' \n Fab=%.2f lb(compression)',Fab) \n",
"printf (' \n Fae=%.2f lb(tension)',Fae)\n",
"printf (' \n Fbe=%.2f lb(tension)',Fbe)  \n",
"printf (' \n Fbc=%.2f lb(compression)',Fbc)\n",
"printf (' \n Fce=%.2f lb(compression)',Fce)\n",
"printf (' \n Fde=%.2f lb(tension)',Fde)\n",
"printf (' \n Fcd=%.2f lb(compression)',Fcd)"
   ]
   }
,
{
		   "cell_type": "markdown",
		   "metadata": {},
		   "source": [
			"## Example 5.2: chapter_5_example_2.sce"
		   ]
		  },
  {
"cell_type": "code",
	   "execution_count": null,
	   "metadata": {
	    "collapsed": true
	   },
	   "outputs": [],
"source": [
"clc\n",
"//initialisation of variables\n",
"W= -100 //lb\n",
"angle= 45 //degrees\n",
"x1= 2 //ft\n",
"x2= 2 //ft\n",
"y1= 2 //ft\n",
"y2= 4 //ft\n",
"Fx= 200 //lb\n",
"//CALCULATIONS\n",
"Cx= Fx*y1/y2\n",
"Bx= Fx+Cx\n",
"By= (y2*Bx+x1*(-W))/(x1+x2)\n",
"Cy= By\n",
"Ax= Bx\n",
"Ay= W+By\n",
"//RESULTS\n",
"printf ('Ax= %.3f lb',Ax)\n",
"printf (' \n Ay=%.2f lb',Ay)\n",
"printf (' \n Bx=%.3f lb',Bx) \n",
"printf (' \n By=%.2f lb',By) \n",
"printf (' \n Cx=%.2f lb',Cx)\n",
"printf (' \n Cy=%.2f lb',Cy) "
   ]
   }
],
"metadata": {
		  "kernelspec": {
		   "display_name": "Scilab",
		   "language": "scilab",
		   "name": "scilab"
		  },
		  "language_info": {
		   "file_extension": ".sce",
		   "help_links": [
			{
			 "text": "MetaKernel Magics",
			 "url": "https://github.com/calysto/metakernel/blob/master/metakernel/magics/README.md"
			}
		   ],
		   "mimetype": "text/x-octave",
		   "name": "scilab",
		   "version": "0.7.1"
		  }
		 },
		 "nbformat": 4,
		 "nbformat_minor": 0
}
