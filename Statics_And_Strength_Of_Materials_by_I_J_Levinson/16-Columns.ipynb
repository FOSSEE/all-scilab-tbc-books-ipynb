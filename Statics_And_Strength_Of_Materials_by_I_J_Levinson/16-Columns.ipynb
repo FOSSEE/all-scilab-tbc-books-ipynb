{
"cells": [
 {
		   "cell_type": "markdown",
	   "metadata": {},
	   "source": [
       "# Chapter 16: Columns"
	   ]
	},
{
		   "cell_type": "markdown",
		   "metadata": {},
		   "source": [
			"## Example 16.1: chapter_16_example_1.sce"
		   ]
		  },
  {
"cell_type": "code",
	   "execution_count": null,
	   "metadata": {
	    "collapsed": true
	   },
	   "outputs": [],
"source": [
"clc\n",
"//initialisation of variables\n",
"E= 10*10^6 //psi\n",
"ys= 6000 //psi\n",
"//CALCULATIONS\n",
"lbyr= sqrt(%pi^2*E/ys)\n",
"//RESULTS\n",
"printf ('Slenderness Ratio= %.f ',lbyr)"
   ]
   }
,
{
		   "cell_type": "markdown",
		   "metadata": {},
		   "source": [
			"## Example 16.2: chapter_16_example_2.sce"
		   ]
		  },
  {
"cell_type": "code",
	   "execution_count": null,
	   "metadata": {
	    "collapsed": true
	   },
	   "outputs": [],
"source": [
"clc\n",
"//initialisation of variables\n",
"fs= 3\n",
"W= 50 //kips\n",
"l= 20 //ft\n",
"E= 30*10^6 //psi\n",
"//CALCULATIONS\n",
"Pcr= fs*W\n",
"I= Pcr*10^3*(l*12)^2/(%pi^2*E)\n",
"r= 2.01\n",
"lbyr= l/r\n",
"//RESULTS\n",
"printf ('Required I = %.2f in^4',I)\n",
"printf (' \n slenderness ratio=%.2f ',lbyr)"
   ]
   }
,
{
		   "cell_type": "markdown",
		   "metadata": {},
		   "source": [
			"## Example 16.3: chapter_16_example_3.sce"
		   ]
		  },
  {
"cell_type": "code",
	   "execution_count": null,
	   "metadata": {
	    "collapsed": true
	   },
	   "outputs": [],
"source": [
"clc\n",
"//initialisation of variables\n",
"L1= 18 //ft\n",
"L2= 9 //ft\n",
"I1= 12.1 //in^4\n",
"I2= 1.2 //in^4\n",
"E= 30*10^6 //psi\n",
"//CALCULATIONS\n",
"r1= 2.05\n",
"lbyr= L1*12/r1\n",
"r2= 0.65\n",
"lbyr2= L2*12/r2\n",
"Pcr1= %pi^2*E*I1/(L1*12)^2\n",
"Pcr2= %pi^2*E*I2/(L2*12)^2\n",
"P= Pcr1/2.5\n",
"P2= Pcr2/2.5\n",
"//RESULTS\n",
"printf ('Design load of 1= %.2f lb',P)\n",
"printf (' \n Design load of 2=%.2f lb',P2)"
   ]
   }
,
{
		   "cell_type": "markdown",
		   "metadata": {},
		   "source": [
			"## Example 16.4: chapter_16_example_4.sce"
		   ]
		  },
  {
"cell_type": "code",
	   "execution_count": null,
	   "metadata": {
	    "collapsed": true
	   },
	   "outputs": [],
"source": [
"clc\n",
"//initialisation of variables\n",
"E= 30*10^6\n",
"syp= 30000 //psi\n",
"I= 143.5 //in^4\n",
"A= 7.32 //in\n",
"//CALCULATIONS\n",
"I1= 2*I\n",
"A1= 2*A\n",
"L= sqrt(2*%pi^2*E*I1/(syp*A1))\n",
"//RESULTS\n",
"printf ('Critical length of the column= %.2f in',L)"
   ]
   }
,
{
		   "cell_type": "markdown",
		   "metadata": {},
		   "source": [
			"## Example 16.5: chapter_16_example_5.sce"
		   ]
		  },
  {
"cell_type": "code",
	   "execution_count": null,
	   "metadata": {
	    "collapsed": true
	   },
	   "outputs": [],
"source": [
"clc\n",
"//initialisation of variables\n",
"x= 30 //in\n",
"x1= 10 //in\n",
"E= 30*10^6\n",
"d= 0.5 //in\n",
"syp= 60000 //psi\n",
"y1= 8 //in\n",
"y2= 2 //in\n",
"//CALCULATIONS\n",
"ratio= 0.8\n",
"l= x+x1\n",
"lr= ratio*l\n",
"I= (%pi*(d)^4)/64\n",
"Pcr= %pi^2*E*I/lr^2\n",
"scr= Pcr/(%pi*(d/2)^2)\n",
"F= Pcr*y2/(y1+y2)\n",
"//RESULTS\n",
"printf ('Stress in the critical load= %.2f psi',scr)\n",
"printf (' \n Critical force F=%.2f lb',F)"
   ]
   }
,
{
		   "cell_type": "markdown",
		   "metadata": {},
		   "source": [
			"## Example 16.6: chapter_16_example_6.sce"
		   ]
		  },
  {
"cell_type": "code",
	   "execution_count": null,
	   "metadata": {
	    "collapsed": true
	   },
	   "outputs": [],
"source": [
"clc\n",
"//initialisation of variables\n",
"l= 10 //ft\n",
"Ys= 33000 //psi\n",
"E= 30*10^6\n",
"A= 13.24 //in^4\n",
"//CALCULATIONS\n",
"r= 2\n",
"lbyr= l*12/r\n",
"Cc= sqrt(2*%pi^2*E/Ys)\n",
"fs= 5/3+3*(lbyr)/(8*Cc)+(lbyr)^3/(5*Cc^3)\n",
"Sa=((1-((lbyr)^2/(2*Cc^2)))*(Ys))/fs\n",
"Pa= Sa*A\n",
"//RESULTS\n",
"printf ('Premissible load= %.2e kips',Pa)"
   ]
   }
,
{
		   "cell_type": "markdown",
		   "metadata": {},
		   "source": [
			"## Example 16.7: chapter_16_example_7.sce"
		   ]
		  },
  {
"cell_type": "code",
	   "execution_count": null,
	   "metadata": {
	    "collapsed": true
	   },
	   "outputs": [],
"source": [
"clc\n",
"//initialisation of variables\n",
"L= 12 //ft\n",
"Po= 100 //kips\n",
"e= 2 //ft\n",
"ys= 42000 //psi\n",
"A= 11.77 //in^2\n",
"rmin= 195 //in\n",
"Zmin= 11.0 //in^3\n",
"lbyr= 74.2\n",
"stress= 18 //ksi\n",
"//CALCULATIONS\n",
"P= (stress-(Po/A)/((1/A)+((e*12)/Zmin)))\n",
"//RESULTS\n",
"printf ('Additional Load= %.2f kips ',P)"
   ]
   }
,
{
		   "cell_type": "markdown",
		   "metadata": {},
		   "source": [
			"## Example 16.8: chapter_16_example_8.sce"
		   ]
		  },
  {
"cell_type": "code",
	   "execution_count": null,
	   "metadata": {
	    "collapsed": true
	   },
	   "outputs": [],
"source": [
"clc\n",
"//initialisation of variables\n",
"l= 15 //ft\n",
"Al= 80 //kips\n",
"El= 60 //kips\n",
"Ys= 33 //ksi\n",
"e= 4 //in\n",
"//CALCULATIONS\n",
"A= 14.4\n",
"rmin= 2.54\n",
"Zxx= 54.6\n",
"lbyr= l*12/rmin\n",
"Smax= ((Al+El)/A)+El*e/Zxx\n",
"//RESULTS\n",
"printf ('Maximum stress %.2f ksi',Smax)\n",
"disp('10 WF 49 is the suitable one')"
   ]
   }
],
"metadata": {
		  "kernelspec": {
		   "display_name": "Scilab",
		   "language": "scilab",
		   "name": "scilab"
		  },
		  "language_info": {
		   "file_extension": ".sce",
		   "help_links": [
			{
			 "text": "MetaKernel Magics",
			 "url": "https://github.com/calysto/metakernel/blob/master/metakernel/magics/README.md"
			}
		   ],
		   "mimetype": "text/x-octave",
		   "name": "scilab",
		   "version": "0.7.1"
		  }
		 },
		 "nbformat": 4,
		 "nbformat_minor": 0
}
