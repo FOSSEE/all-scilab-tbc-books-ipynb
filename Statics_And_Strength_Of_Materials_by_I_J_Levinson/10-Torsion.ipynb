{
"cells": [
 {
		   "cell_type": "markdown",
	   "metadata": {},
	   "source": [
       "# Chapter 10: Torsion"
	   ]
	},
{
		   "cell_type": "markdown",
		   "metadata": {},
		   "source": [
			"## Example 10.10: chapter_10_example_10.sce"
		   ]
		  },
  {
"cell_type": "code",
	   "execution_count": null,
	   "metadata": {
	    "collapsed": true
	   },
	   "outputs": [],
"source": [
"clc\n",
"//initialisation of variables\n",
"di= 0.2 //in\n",
"dm= 2 //in\n",
"n= 10\n",
"F= 10 //lb\n",
"G= 12*10^6\n",
"//CALCULATIONS\n",
"k= G*di^4/(64*dm^3*n)\n",
"ke= 1/((1/(k+k))+(1/k)+(1/k))\n",
"delta= F/ke\n",
"//RESULTS\n",
"printf ('elongation= %.2f in',delta)"
   ]
   }
,
{
		   "cell_type": "markdown",
		   "metadata": {},
		   "source": [
			"## Example 10.11: chapter_10_example_11.sce"
		   ]
		  },
  {
"cell_type": "code",
	   "execution_count": null,
	   "metadata": {
	    "collapsed": true
	   },
	   "outputs": [],
"source": [
"clc\n",
"//initialisation of variables\n",
"d= 0.5 //in\n",
"n= 315 //rpm\n",
"t1= 5000 //psi\n",
"r1= 8 //in\n",
"r2= 4 //in \n",
"n1= 6\n",
"n2= 4\n",
"//CALCULATIONS\n",
"t2= r2*t1/r1\n",
"T= r1*n1*(%pi/4)*d^2*t1+r2*n2*(%pi/4)*d^2*t2\n",
"hp= T*n/63000\n",
"//RESULTS\n",
"printf ('Premissible horsepower= %.f hp',hp)"
   ]
   }
,
{
		   "cell_type": "markdown",
		   "metadata": {},
		   "source": [
			"## Example 10.1: chapter_10_example_1.sce"
		   ]
		  },
  {
"cell_type": "code",
	   "execution_count": null,
	   "metadata": {
	    "collapsed": true
	   },
	   "outputs": [],
"source": [
"clc\n",
"//initialisation of variables\n",
"L= 50 //ft\n",
"Do= 2 //in\n",
"Di= 1.5 //in\n",
"Mt= 10000 //lb in\n",
"G= 12*10^6\n",
"//CALCULATIONS\n",
"Tmax= 16*Mt*Do/(%pi*(Do^4-Di^4))\n",
"angle= (Mt*L*12*32)*57.3/(G*%pi*(Do^4-Di^4))\n",
"//RESULTS\n",
"printf ('Maximum shearing strees= %.2f psi',Tmax)\n",
"printf (' \n twist angle=%.2f degrees',angle)"
   ]
   }
,
{
		   "cell_type": "markdown",
		   "metadata": {},
		   "source": [
			"## Example 10.2: chapter_10_example_2.sce"
		   ]
		  },
  {
"cell_type": "code",
	   "execution_count": null,
	   "metadata": {
	    "collapsed": true
	   },
	   "outputs": [],
"source": [
"clc\n",
"//initialisation of variables\n",
"d= 4 //ft\n",
"T= 5000 //psi\n",
"angle= 0.1 //degrees\n",
"//CALCULATIONS\n",
"T1= (%pi*d^3)*T/16\n",
"T2=angle*%pi*G*%pi*d^4/(180*12*32)\n",
"//RESULTS\n",
"if (T1<T2) \n",
"    printf ('Safe torque= %.2f lb in',T1)\n",
"else\n",
"    printf ('Safe torque= %.2f lb',T2)\n",
"end"
   ]
   }
,
{
		   "cell_type": "markdown",
		   "metadata": {},
		   "source": [
			"## Example 10.3: chapter_10_example_3.sce"
		   ]
		  },
  {
"cell_type": "code",
	   "execution_count": null,
	   "metadata": {
	    "collapsed": true
	   },
	   "outputs": [],
"source": [
"clc\n",
"//initialisation of variables\n",
"Ds= 1 //in\n",
"Db= 1.5 //in\n",
"Ls= 4 //in\n",
"Lb= 6 //in\n",
"Gs= 12*10^6 //psi\n",
"Gb= 6.4*10^6 //psi\n",
"T= 10000 //lb in\n",
"//CALCULATIONS\n",
"A=[(1),(1);(Ls*12/(Gs*Ds^4)),(-Lb*12/(Gb*Db^4))]\n",
"b=[T;0]\n",
"c= A\b\n",
"Tab= c(1,1)\n",
"Tbc= c(2,1)\n",
"//RESULTS\n",
"printf ('Torque in section AB= %.2f lb in',Tab)\n",
"printf ('\n Torque in section AB =%.2f lb in',Tbc)\n",
""
   ]
   }
,
{
		   "cell_type": "markdown",
		   "metadata": {},
		   "source": [
			"## Example 10.4: chapter_10_example_4.sce"
		   ]
		  },
  {
"cell_type": "code",
	   "execution_count": null,
	   "metadata": {
	    "collapsed": true
	   },
	   "outputs": [],
"source": [
"clc\n",
"//initialisation of variables\n",
"T= 10000 //lb in\n",
"G= 12*10^6\n",
"Dab= 1.5 //in\n",
"Lab= 4 //in\n",
"Dcd= 1 //in\n",
"Lcd= 3 //in\n",
"//CALCULATIONS\n",
"F= T/2\n",
"Tab= F*Lab\n",
"angle= ((T*32*12*Lcd/(G*%pi*Dcd^4))+2*(Tab*32*12*Lab/(G*%pi*Dab^4)))*(180/%pi)\n",
"//RESULTS\n",
"printf ('angle of twist= %.2f degrees',angle)"
   ]
   }
,
{
		   "cell_type": "markdown",
		   "metadata": {},
		   "source": [
			"## Example 10.5: chapter_10_example_5.sce"
		   ]
		  },
  {
"cell_type": "code",
	   "execution_count": null,
	   "metadata": {
	    "collapsed": true
	   },
	   "outputs": [],
"source": [
"clc\n",
"//initialisation of variables\n",
"Tallowable= 5000 //psi\n",
"power= 250 //hp\n",
"n= 1800 //rpm\n",
"//CALCULATIONS\n",
"T= 63000*power/n\n",
"d= (16*T/(%pi*Tallowable))^(1/3)\n",
"//RESULTS\n",
"printf ('Torque= %.2f lb in',T)\n",
"printf ('\n diameter=%.2f in',d)"
   ]
   }
,
{
		   "cell_type": "markdown",
		   "metadata": {},
		   "source": [
			"## Example 10.6: chapter_10_example_6.sce"
		   ]
		  },
  {
"cell_type": "code",
	   "execution_count": null,
	   "metadata": {
	    "collapsed": true
	   },
	   "outputs": [],
"source": [
"clc\n",
"//initialisation of variables\n",
"ds= 2 //in\n",
"n= 315 //rpm\n",
"Gs= 12*10^6\n",
"Lab= 5 //in\n",
"Lbc= 15 //in\n",
"Pa= 10 //hp\n",
"Pc= 40 //hp\n",
"Pb= 50 //hp\n",
"//CALCULATIONS\n",
"Tab= 63000*Pa/n\n",
"Tbc= 63000*Pc/n\n",
"angle= ((32*Tbc*Lbc*12/(%pi*ds^4*G))-(32*Tab*Lab*12/(%pi*ds^4*G)))*(180/%pi)\n",
"//RESULTS\n",
"printf ('angle of twist of gear C releative to a= %.2f degrees',angle)"
   ]
   }
,
{
		   "cell_type": "markdown",
		   "metadata": {},
		   "source": [
			"## Example 10.7: chapter_10_example_7.sce"
		   ]
		  },
  {
"cell_type": "code",
	   "execution_count": null,
	   "metadata": {
	    "collapsed": true
	   },
	   "outputs": [],
"source": [
"clc\n",
"//initialisation of variables\n",
"k1= 6*10^6 //lb in/rad\n",
"k2= 3*10^6 //lb in/rad\n",
"k3= 2*10^6 //lb in/rad\n",
"T= 10000 //lb in\n",
"//CALCULATIONS\n",
"ke= 1/((1/k1)+(1/k2)+(1/k3))\n",
"angle= T*180/(ke*%pi)\n",
"//RESULTS\n",
"printf ('equivalent spring constant= %.2e lb in/rad',ke)\n",
"printf ('\n angle of twist d/a=%.2f degrees',angle)"
   ]
   }
,
{
		   "cell_type": "markdown",
		   "metadata": {},
		   "source": [
			"## Example 10.8: chapter_10_example_8.sce"
		   ]
		  },
  {
"cell_type": "code",
	   "execution_count": null,
	   "metadata": {
	    "collapsed": true
	   },
	   "outputs": [],
"source": [
"clc\n",
"//initialisation of variables\n",
"k1= 2*10^6 //lb in/rad\n",
"k2= 3*10^6 //lb in/rad\n",
"T= 20000 //lb in\n",
"//CALCULATIONS\n",
"ke= k1+k2\n",
"angle= T*180/(ke*%pi)\n",
"//RESULTS\n",
"printf ('equivalent spring constant= %.2e lb in/rad',ke)\n",
"printf ('\n angle of twist at B=%.2f degrees',angle)"
   ]
   }
],
"metadata": {
		  "kernelspec": {
		   "display_name": "Scilab",
		   "language": "scilab",
		   "name": "scilab"
		  },
		  "language_info": {
		   "file_extension": ".sce",
		   "help_links": [
			{
			 "text": "MetaKernel Magics",
			 "url": "https://github.com/calysto/metakernel/blob/master/metakernel/magics/README.md"
			}
		   ],
		   "mimetype": "text/x-octave",
		   "name": "scilab",
		   "version": "0.7.1"
		  }
		 },
		 "nbformat": 4,
		 "nbformat_minor": 0
}
