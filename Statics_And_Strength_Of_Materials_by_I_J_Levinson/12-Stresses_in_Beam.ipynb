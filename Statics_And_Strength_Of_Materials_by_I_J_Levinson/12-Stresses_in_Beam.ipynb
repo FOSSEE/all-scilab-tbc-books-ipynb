{
"cells": [
 {
		   "cell_type": "markdown",
	   "metadata": {},
	   "source": [
       "# Chapter 12: Stresses in Beam"
	   ]
	},
{
		   "cell_type": "markdown",
		   "metadata": {},
		   "source": [
			"## Example 12.10: chapter_12_example_10.sce"
		   ]
		  },
  {
"cell_type": "code",
	   "execution_count": null,
	   "metadata": {
	    "collapsed": true
	   },
	   "outputs": [],
"source": [
"clc\n",
"//initialisation of variables\n",
"Sc= 800 //psi\n",
"Ss= 18000 //psi\n",
"ratio= 15\n",
"d= 5/8 //in\n",
"l= 20 //in\n",
"b= 10 //in\n",
"//CALCULATIONS\n",
"x= Sc*ratio*l/(Ss+Sc*ratio)\n",
"As= b*x*(x/2)/((l-x)*ratio)\n",
"Ina= (b*x^3/3)+ratio*As*(l-x)^2\n",
"M= Sc*I/x\n",
"N= As/(%pi*(d/2)^2)\n",
"//RESULTS\n",
"printf ('Number of steel bars required= %.2f',N)\n",
"disp('it rounds to 6 bars')"
   ]
   }
,
{
		   "cell_type": "markdown",
		   "metadata": {},
		   "source": [
			"## Example 12.1: chapter_12_example_1.sce"
		   ]
		  },
  {
"cell_type": "code",
	   "execution_count": null,
	   "metadata": {
	    "collapsed": true
	   },
	   "outputs": [],
"source": [
"clc\n",
"//initialisation of variables\n",
"L= 20 //ft\n",
"b1= 12 //in\n",
"h1= 4 //in\n",
"b2= 4 //in\n",
"h2= 12 //in\n",
"Fs= 1200 //psi\n",
"La= 5 //ft\n",
"Lb= 15 //ft\n",
"//CALCULATIONS\n",
"Ina= b1*h1^3/12\n",
"P1= (Fs*Ina*4)/((h1/2)*12*La*3)\n",
"Ina1= b2*h2^3/12\n",
"P2= (Fs*Ina1*4)/((h2/2)*12*La*3)\n",
"//RESULTS\n",
"printf ('P max in first case= %.2f lb',P1)\n",
"printf ('\n P max in second case= %.2f lb',P2)"
   ]
   }
,
{
		   "cell_type": "markdown",
		   "metadata": {},
		   "source": [
			"## Example 12.2: chapter_12_example_2.sce"
		   ]
		  },
  {
"cell_type": "code",
	   "execution_count": null,
	   "metadata": {
	    "collapsed": true
	   },
	   "outputs": [],
"source": [
"clc\n",
"//initialisation of variables\n",
"b= 0.5 //in\n",
"h= 1/32 //in\n",
"d= 4 //ft\n",
"E= 30*10^6\n",
"//CALCULATIONS\n",
"stress= E*(h/2)/((d/2)*12)\n",
"Ina= b*h^3/12\n",
"M= stress*Ina/(h/2)\n",
"//RESULTS\n",
"printf ('maximum stress= %.2f psi',stress)\n",
"printf ('\n internal moment= %.2f lb in',M) "
   ]
   }
,
{
		   "cell_type": "markdown",
		   "metadata": {},
		   "source": [
			"## Example 12.3: chapter_12_example_3.sce"
		   ]
		  },
  {
"cell_type": "code",
	   "execution_count": null,
	   "metadata": {
	    "collapsed": true
	   },
	   "outputs": [],
"source": [
"clc\n",
"//initialisation of variables\n",
"W= 1000 //lb/ft\n",
"L= 10 //in\n",
"b1= 4 //in\n",
"h1= 1 //in\n",
"b2= 1 //in\n",
"h2= 6 //in\n",
"//CALCULATIONS\n",
"Mmax= 12500 //lb ft\n",
"y= ((b1*h1*h1/2)+(b2*h2*((h2/2)+h1)))/(b1*h1+b2*h2)\n",
"Ina= (b1*h1^3/12)+b1*h1*(y-h1/2)^2+(b2*h2^3/12)+b2*h2*(h1+h2-y-(h2/2))^2\n",
"sigmat= Mmax*12*y/Ina\n",
"sigmac= Mmax*12*(h1+h2-y)/Ina\n",
"//RESULTS\n",
"printf ('maximum tensile stress= %.2f psi',sigmat)\n",
"printf ('\n maximum compressive bending stress= %.2f psi',sigmac) "
   ]
   }
,
{
		   "cell_type": "markdown",
		   "metadata": {},
		   "source": [
			"## Example 12.4: chapter_12_example_4.sce"
		   ]
		  },
  {
"cell_type": "code",
	   "execution_count": null,
	   "metadata": {
	    "collapsed": true
	   },
	   "outputs": [],
"source": [
"clc\n",
"//initialisation of variables\n",
"st= 1200 //psi\n",
"sc= 100 //psi\n",
"h= 12 //in\n",
"b= 4 //in\n",
"//CALCULATIONS\n",
"I= b*h^3/12\n",
"P1= st*I/(b*12*(h/2))\n",
"P2= 2*sc*b*12/3\n",
"if (P1<P2) \n",
"    printf ('Safe value of p= %.f lB',P1)\n",
"else \n",
"        printf ('Safe value of p= %.f lB',P2)\n",
"    \n",
"end"
   ]
   }
,
{
		   "cell_type": "markdown",
		   "metadata": {},
		   "source": [
			"## Example 12.5: chapter_12_example_5.sce"
		   ]
		  },
  {
"cell_type": "code",
	   "execution_count": null,
	   "metadata": {
	    "collapsed": true
	   },
	   "outputs": [],
"source": [
"clc\n",
"//initialisation of variables\n",
"W= 600 //lb/ft\n",
"L1= 8 //in\n",
"L2= 4 //in\n",
"b= 6 //in\n",
"h= 8 //in\n",
"t= 1 //in\n",
"//CALCULATIONS\n",
"R1= W*(L1+L2)*((L1+L2)/2)/L1\n",
"R2= W*(L1+L2)*(L1-(L1+L2)/2)/L1\n",
"Vmax= 3000 //lb\n",
"I= (b*h^3/12)-(L2*b^3/12)\n",
"Ay= b*L2*(L2/2)-L2*b/2*b/4\n",
"b= t+t\n",
"Tmax= Vmax*Ay/(I*b)\n",
"//RESULTS\n",
"printf ('maximum shear stress= %.2f psi',Tmax) "
   ]
   }
,
{
		   "cell_type": "markdown",
		   "metadata": {},
		   "source": [
			"## Example 12.6: chapter_12_example_6.sce"
		   ]
		  },
  {
"cell_type": "code",
	   "execution_count": null,
	   "metadata": {
	    "collapsed": true
	   },
	   "outputs": [],
"source": [
"clc\n",
"//initialisation of variables\n",
"w= 4000 //lb/ft\n",
"l= 20 //ft\n",
"y= 0.96\n",
"A= 4.18 //in^2\n",
"Icq= 5.6 //in^4\n",
"d= 28 //in\n",
"b= 0.5 //in\n",
"T= 8000 //psi\n",
"d1= 0.75 //in\n",
"//CALCULATIONS\n",
"V= w*l/2\n",
"Ay= 2*A*((d/2)-y)\n",
"I= b*d^3/12+4*(Icq+A*((d/2)-y)^2)\n",
"p= (2*T*(%pi/4)*d1^2*I)/(V*Ay)\n",
"//RESULTS\n",
"printf ('Rivet spacing= %.2f in',p) "
   ]
   }
,
{
		   "cell_type": "markdown",
		   "metadata": {},
		   "source": [
			"## Example 12.7: chapter_12_example_7.sce"
		   ]
		  },
  {
"cell_type": "code",
	   "execution_count": null,
	   "metadata": {
	    "collapsed": true
	   },
	   "outputs": [],
"source": [
"clc\n",
"//initialisation of variables\n",
"Es= 30*10^6\n",
"Ew= 1.5*10^6\n",
"w= 500 //lb per ft\n",
"span= 12 //ft\n",
"t= 0.25 //in\n",
"h= 12 //in\n",
"n= 3\n",
"b= 5 //in\n",
"//CALCULATIONS\n",
"bw= Es*t/Ew\n",
"Ina= n*b*h^3/12\n",
"M= (w*span*(h/2)*12)/4\n",
"S= M*(h/2)/I\n",
"Ss= Es*S/Ew\n",
"bs= Ew*bw/Es\n",
"Ina1= n*t*h^3/12\n",
"Ss1= M*(h/2)/Ina1\n",
"Sw= Ew*Ss1/Es\n",
"//RESULTS\n",
"printf ('Maximum bending stress in steel= %.3f psi',Ss1)\n",
"printf (' \n Maximum bending stress in wood= %.2f psi',Sw)"
   ]
   }
,
{
		   "cell_type": "markdown",
		   "metadata": {},
		   "source": [
			"## Example 12.8: chapter_12_example_8.sce"
		   ]
		  },
  {
"cell_type": "code",
	   "execution_count": null,
	   "metadata": {
	    "collapsed": true
	   },
	   "outputs": [],
"source": [
"clc\n",
"//initialisation of variables\n",
"Ss= 15000 //psi\n",
"Sa= 6000 //psi\n",
"Es= 30*10^6\n",
"Ea= 10*10^6\n",
"Sl= 16 //ft\n",
"ba= 3 //in\n",
"ha= 8 //in\n",
"hs= 1 //in\n",
"b= 1 //in\n",
"//CALCULATIONS\n",
"bs= (Ea/Es)*ba\n",
"Y= ((ba-b)*b*(hs/2)+(ha+b)*b*((ha/2)+(hs/2)))/(ba*b+ha*b)\n",
"I= (ba*hs^3/12)+ba*hs*(Y-(hs/2))^2+((b*ha^3/12)+b*ha*(ha-Y-(ha/2))^2)\n",
"w1= Ss*I/(Y*(1/2)*ha*(ha)*12)\n",
"Ss= Es*Sa/Ea\n",
"w2= Ss*I/((ha-Y)*(1/2)*ha*(ha)*12)\n",
"if (w1<w2)\n",
"    printf ('Greatest uniformly distributed load= %.2f lb per ft',w1)\n",
"else \n",
"    printf ('Greatest uniformly distributed load= %.2f lb per ft',w2)\n",
"        \n",
"end"
   ]
   }
,
{
		   "cell_type": "markdown",
		   "metadata": {},
		   "source": [
			"## Example 12.9: chapter_12_example_9.sce"
		   ]
		  },
  {
"cell_type": "code",
	   "execution_count": null,
	   "metadata": {
	    "collapsed": true
	   },
	   "outputs": [],
"source": [
"clc\n",
"//initialisation of variables\n",
"M= 500000 //lb in\n",
"r= 15\n",
"n=3\n",
"b= 20 //in\n",
"l= 12 //in\n",
"As= 1 //in^2\n",
"//CALCULATIONS\n",
"At= r*As*n\n",
"x= (-2*At+sqrt((2*At)^2+8*At*b*l))/(2*l)\n",
"Ina= ((l*x^3)/3)+At*(b-x)^2\n",
"Scmax= M*x/Ina\n",
"Ssmax= r*M*(b-x)/Ina\n",
"//RESULTS\n",
"printf ('Maximum bending stress in concrete= %.3f psi',Scmax)\n",
"printf (' \n Maximum bending stress in steel= %.2f psi',Ssmax)"
   ]
   }
],
"metadata": {
		  "kernelspec": {
		   "display_name": "Scilab",
		   "language": "scilab",
		   "name": "scilab"
		  },
		  "language_info": {
		   "file_extension": ".sce",
		   "help_links": [
			{
			 "text": "MetaKernel Magics",
			 "url": "https://github.com/calysto/metakernel/blob/master/metakernel/magics/README.md"
			}
		   ],
		   "mimetype": "text/x-octave",
		   "name": "scilab",
		   "version": "0.7.1"
		  }
		 },
		 "nbformat": 4,
		 "nbformat_minor": 0
}
