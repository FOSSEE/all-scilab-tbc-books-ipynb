{
"cells": [
 {
		   "cell_type": "markdown",
	   "metadata": {},
	   "source": [
       "# Chapter 4: Equilibrium"
	   ]
	},
{
		   "cell_type": "markdown",
		   "metadata": {},
		   "source": [
			"## Example 4.3: chapter_4_example_3.sce"
		   ]
		  },
  {
"cell_type": "code",
	   "execution_count": null,
	   "metadata": {
	    "collapsed": true
	   },
	   "outputs": [],
"source": [
"clc\n",
"//initialisation of variables\n",
"W= 100 //lb\n",
"a1= 30 //degrees\n",
"a2= 45 //degrees\n",
"//CALCULATIONS\n",
"A=[(cosd(a2)),(-cosd(a1));(sind(a2)),(sind(a1))]\n",
"b=[0;W]\n",
"c= A\b\n",
"Tbc= c(1,1)\n",
"Tab= c(2,1)\n",
"//RESULTS\n",
"printf ('Tbc= %.1f lb',Tbc)\n",
"printf (' \n Tab=%.1f lb',Tab)"
   ]
   }
,
{
		   "cell_type": "markdown",
		   "metadata": {},
		   "source": [
			"## Example 4.4: chapter_4_example_4.sce"
		   ]
		  },
  {
"cell_type": "code",
	   "execution_count": null,
	   "metadata": {
	    "collapsed": true
	   },
	   "outputs": [],
"source": [
"clc\n",
"//initialisation of variables\n",
"W1= 7000 //lb\n",
"W2= 1000 //lb\n",
"W3= 3000 //lb\n",
"x1= 6 //in\n",
"x2= 9 //in\n",
"x3= 10 //in\n",
"x4= 5 //in\n",
"//CALCULATIONS\n",
"Rb= (W1*x1+W2*(x1+x2)+W3*(x1+x2+x3))/(x1+x2+x3+x4)\n",
"Ra= W1+W2+W3-Rb\n",
"//RESULTS\n",
"printf ('Rb= %.1f lb',Rb)\n",
"printf (' \n Ra=%.1f lb',Ra)"
   ]
   }
,
{
		   "cell_type": "markdown",
		   "metadata": {},
		   "source": [
			"## Example 4.5: chapter_4_example_5.sce"
		   ]
		  },
  {
"cell_type": "code",
	   "execution_count": null,
	   "metadata": {
	    "collapsed": true
	   },
	   "outputs": [],
"source": [
"clc\n",
"//initialisation of variables\n",
"Fc= 500 //lb\n",
"Fd= 1000 //lb\n",
"xc= 2 //in\n",
"xd= 8 //in\n",
"y= 6 //in\n",
"//CALCULATIONS\n",
"Ay= Fc+Fd\n",
"Bx= (Fc*xc+Fd*xd)/y\n",
"Ax= Bx\n",
"A= sqrt(Ax^2+Ay^2)\n",
"//RESULTS\n",
"printf ('A= %.f lb',A)\n",
"printf (' \n B=%.f lb',Bx)"
   ]
   }
,
{
		   "cell_type": "markdown",
		   "metadata": {},
		   "source": [
			"## Example 4.6: chapter_4_example_6.sce"
		   ]
		  },
  {
"cell_type": "code",
	   "execution_count": null,
	   "metadata": {
	    "collapsed": true
	   },
	   "outputs": [],
"source": [
"clc\n",
"//initialisation of variables\n",
"W= -300 //lb\n",
"r= 4 //in\n",
"x1= 2 //ft\n",
"x2= 3 //ft\n",
"x3= 1 //ft\n",
"y1= 1 //ft\n",
"x4= 3 //in\n",
"//CALCULATIONS\n",
"F= -W*r/(y1*12)\n",
"By= -W*x1/(x1+x2)\n",
"Bz= -F*(x1+x2+x3+(x4/12))/(x1+x2)\n",
"Ay= -W-By\n",
"Az= -F-Bz\n",
"//RESULTS\n",
"printf ('Ay = %.2f lb',Ay)\n",
"printf (' \n By=%.2f lb',By)\n",
"printf (' \n Az=%.2f lb',Az)\n",
"printf (' \n Bz=%.2f lb',Bz)\n",
"printf (' \n F=%.2f lb',F)"
   ]
   }
,
{
		   "cell_type": "markdown",
		   "metadata": {},
		   "source": [
			"## Example 4.7: chapter_4_example_7.sce"
		   ]
		  },
  {
"cell_type": "code",
	   "execution_count": null,
	   "metadata": {
	    "collapsed": true
	   },
	   "outputs": [],
"source": [
"clc\n",
"//initialisation of variables\n",
"W= 500 //lb\n",
"r= 4 //in\n",
"Lx= 3 //in\n",
"Ly= 12 //in\n",
"Lz= 4 //in\n",
"//CALCULATIONS\n",
"Tbd= W*(sqrt((-Lx)^2+(-Ly)^2+(-Lz)^2))/Ly\n",
"Tcd= Lx*Tbd/(sqrt((-Lx)^2+(-Ly)^2+(-Lz)^2))\n",
"Tad= Lz*Tbd/(sqrt((-Lx)^2+(-Ly)^2+(-Lz)^2))\n",
"//RESULTS\n",
"printf ('Tbd= %.f lb',Tbd)\n",
"printf (' \n Tcd=%.f lb',Tcd)\n",
"printf (' \n Tad=%.f lb',Tad)"
   ]
   }
],
"metadata": {
		  "kernelspec": {
		   "display_name": "Scilab",
		   "language": "scilab",
		   "name": "scilab"
		  },
		  "language_info": {
		   "file_extension": ".sce",
		   "help_links": [
			{
			 "text": "MetaKernel Magics",
			 "url": "https://github.com/calysto/metakernel/blob/master/metakernel/magics/README.md"
			}
		   ],
		   "mimetype": "text/x-octave",
		   "name": "scilab",
		   "version": "0.7.1"
		  }
		 },
		 "nbformat": 4,
		 "nbformat_minor": 0
}
