{
"cells": [
 {
		   "cell_type": "markdown",
	   "metadata": {},
	   "source": [
       "# Chapter 3: Center of Gravity"
	   ]
	},
{
		   "cell_type": "markdown",
		   "metadata": {},
		   "source": [
			"## Example 3.1: chapter_3_example_1.sce"
		   ]
		  },
  {
"cell_type": "code",
	   "execution_count": null,
	   "metadata": {
	    "collapsed": true
	   },
	   "outputs": [],
"source": [
"clc\n",
"//initialisation of variables\n",
"W= 3000 //lb\n",
"L= 10 //ft\n",
"Wf1= 1200 //lb\n",
"Wf2= 1500 //lb\n",
"angle= 30 //degrees\n",
"//CALCULATIONS\n",
"d1= Wf1*cosd(angle)*L/W\n",
"d2= Wf2*L/W\n",
"xbc= d1/cosd(angle)\n",
"xab= d2-xbc\n",
"y= xab/tand(angle)\n",
"//RESULTS\n",
"printf ('x = %.2f ft',d2)\n",
"printf (' \n y=%.1f ft',y)"
   ]
   }
,
{
		   "cell_type": "markdown",
		   "metadata": {},
		   "source": [
			"## Example 3.2: chapter_3_example_2.sce"
		   ]
		  },
  {
"cell_type": "code",
	   "execution_count": null,
	   "metadata": {
	    "collapsed": true
	   },
	   "outputs": [],
"source": [
"clc\n",
"//initialisation of variables\n",
"W4= 3 //lb\n",
"W3= 5 //lb\n",
"W2= 2 //lb\n",
"W1= 6 //lb\n",
"x1= 10 //in\n",
"x2= 4 //in\n",
"z= 5 //in\n",
"//CALCULATIONS\n",
"W= W1+W2+W3+W4\n",
"x= (W1*0+W2*0+W3*x2+W4*x1)/W\n",
"z= (W1*z+W2*0+W3*0+W4*0)/W\n",
"//RESULTS\n",
"printf ('x = %.2f in',x)\n",
"printf (' \n z=%.2f in',z)"
   ]
   }
,
{
		   "cell_type": "markdown",
		   "metadata": {},
		   "source": [
			"## Example 3.3: chapter_3_example_3.sce"
		   ]
		  },
  {
"cell_type": "code",
	   "execution_count": null,
	   "metadata": {
	    "collapsed": true
	   },
	   "outputs": [],
"source": [
"clc\n",
"//initialisation of variables\n",
"W1= 3 //lb\n",
"W2= 5 //lb\n",
"x1= 8 //in\n",
"x2= 7 //in\n",
"y1= 2 //in\n",
"y2= 5 //in\n",
"z1= 6 //in\n",
"z2= 4 //in\n",
"//CALCULATIONS\n",
"W= W1+W2\n",
"x= (W1*x1+W2*x2)/W\n",
"y= (W1*y1+W2*y2)/W\n",
"z= (W1*z1+W2*z2)/W\n",
"//RESULTS\n",
"printf ('x = %.2f in',x)\n",
"printf (' \n y=%.2f in',y)\n",
"printf (' \n z=%.2f in',z)"
   ]
   }
,
{
		   "cell_type": "markdown",
		   "metadata": {},
		   "source": [
			"## Example 3.4: chapter_3_example_4.sce"
		   ]
		  },
  {
"cell_type": "code",
	   "execution_count": null,
	   "metadata": {
	    "collapsed": true
	   },
	   "outputs": [],
"source": [
"clc\n",
"//initialisation of variables\n",
"L= 9 //in\n",
"B= 16 //in\n",
"B1= 6 //in\n",
"d= 2 //in\n",
"//CALCULATIONS\n",
"x= ((L*(B-B1)*(L/2)+(1/2)*L*B1*(L/3)-(%pi/4)*d^2*(L/2)))/(L*(B-B1)+(1/2)*L*B1-(%pi/4)*d^2)\n",
"y=  ((L*(B-B1)*((B-B1)/2)+(1/2)*L*B1*(B1/3+(B-B1))-(%pi/4)*d^2*((B-B1)/2)))/(L*(B-B1)+(1/2)*L*B1-(%pi/4)*d^2)\n",
"//RESULTS\n",
"printf ('x = %.2f in to the right of y-axis',x)\n",
"printf (' \n y=%.2f in above x axis',y)"
   ]
   }
,
{
		   "cell_type": "markdown",
		   "metadata": {},
		   "source": [
			"## Example 3.5: chapter_3_example_5.sce"
		   ]
		  },
  {
"cell_type": "code",
	   "execution_count": null,
	   "metadata": {
	    "collapsed": true
	   },
	   "outputs": [],
"source": [
"clc\n",
"//initialisation of variables\n",
"Gt= 0.25 //in\n",
"St= 0.25 //in\n",
"Gw= 3.5 //lb/sq ft\n",
"Sw= 10 //lb/sq ft\n",
"Sb= 36 //in\n",
"Sb1= 18 //in\n",
"Sb2= 12 //in\n",
"Sb3= 6 //in\n",
"Sy1= 6 //in\n",
"Sy2= 12 //in\n",
"Sy3= 6 //in\n",
"Gb= 1 //ft\n",
"Sh= 24 //in\n",
"Gh= 1 //ft\n",
"//CALCULATIONS\n",
"W= ((Sb*Sh)/(12*12)-(Gh*Gb))*Sw+(Gh*Gb)*Gw\n",
"x= ((Sb*Sh)*Sw*(Sb/24)/(12*12)-(Gh*Gb)*Sw*((Sb1+(Sb2/2))/12)+(Gh*Gb)*Gw*((Sb1+(Sb2/2))/12))/W\n",
"//RESULTS\n",
"printf ('centre of gravity = %.2f ft to the right of y-axis',x)"
   ]
   }
],
"metadata": {
		  "kernelspec": {
		   "display_name": "Scilab",
		   "language": "scilab",
		   "name": "scilab"
		  },
		  "language_info": {
		   "file_extension": ".sce",
		   "help_links": [
			{
			 "text": "MetaKernel Magics",
			 "url": "https://github.com/calysto/metakernel/blob/master/metakernel/magics/README.md"
			}
		   ],
		   "mimetype": "text/x-octave",
		   "name": "scilab",
		   "version": "0.7.1"
		  }
		 },
		 "nbformat": 4,
		 "nbformat_minor": 0
}
