{
"cells": [
 {
		   "cell_type": "markdown",
	   "metadata": {},
	   "source": [
       "# Chapter 15: Welded Bolted and Riveted Connection"
	   ]
	},
{
		   "cell_type": "markdown",
		   "metadata": {},
		   "source": [
			"## Example 15.1: chapter_15_example_1.sce"
		   ]
		  },
  {
"cell_type": "code",
	   "execution_count": null,
	   "metadata": {
	    "collapsed": true
	   },
	   "outputs": [],
"source": [
"clc\n",
"//initialisation of variables\n",
"sigma= 20000 //psi\n",
"b= 6 //in\n",
"h= 0.5 //in\n",
"p1= 3750\n",
"//CALCULATIONS\n",
"P= sigma*b*h\n",
"L= (P-p1*b)/(2*p1)\n",
"//RESULTS\n",
"printf ('L= %.2f in',L)"
   ]
   }
,
{
		   "cell_type": "markdown",
		   "metadata": {},
		   "source": [
			"## Example 15.2: chapter_15_example_2.sce"
		   ]
		  },
  {
"cell_type": "code",
	   "execution_count": null,
	   "metadata": {
	    "collapsed": true
	   },
	   "outputs": [],
"source": [
"clc\n",
"//initialisation of variables\n",
"P= 5000 //lb per in\n",
"Tl= 75 //kips\n",
"y1= 2.63 //in\n",
"y2= 1.37 //in\n",
"//CALCULATIONS\n",
"A= [P P ; y1*P -y2*P]\n",
"b= [Tl*10^3 ; 0]\n",
"c= A\b\n",
"L1= c(1,1)\n",
"L2= c(2,1)\n",
"//RESULTS\n",
"printf ('L1= %.2f in',L1)\n",
"printf ('\n L2= %.2f in',L2)"
   ]
   }
,
{
		   "cell_type": "markdown",
		   "metadata": {},
		   "source": [
			"## Example 15.3: chapter_15_example_3.sce"
		   ]
		  },
  {
"cell_type": "code",
	   "execution_count": null,
	   "metadata": {
	    "collapsed": true
	   },
	   "outputs": [],
"source": [
"clc\n",
"//initialisation of variables\n",
"d= 3/8 //in\n",
"d1= 1/8 //in\n",
"y= 1 //in\n",
"T= 15000 //psi\n",
"sigmab= 32000 //psi\n",
"sigmat= 18000 //psi\n",
"//CALCULATIONS\n",
"Ps= %pi*T*(d/2)^2\n",
"Pt= sigmat*d1*(y-d)\n",
"Pb= sigmab*d1*d\n",
"Pmin=Ps\n",
"sigma=T\n",
"if(Pt<Pmin)\n",
"    Pmin=Pt\n",
"    sigma=sigmat\n",
"else\n",
"    Pmin=Pb\n",
"    sigma=sigmab\n",
"end\n",
"e= Pmin*100/(sigma*d1*y)\n",
"//RESULTS\n",
"printf ('e= %.2f per cent',e)\n",
""
   ]
   }
,
{
		   "cell_type": "markdown",
		   "metadata": {},
		   "source": [
			"## Example 15.4: chapter_15_example_4.sce"
		   ]
		  },
  {
"cell_type": "code",
	   "execution_count": null,
	   "metadata": {
	    "collapsed": true
	   },
	   "outputs": [],
"source": [
"clc\n",
"//initialisation of variables\n",
"d= 7/8 //in\n",
"Ss= 15000 //psi\n",
"Sb= 32000 //psi\n",
"St= 20000 //psi\n",
"n=8\n",
"t= 3/8 //in\n",
"l= 10 //in\n",
"//CALCULATIONS\n",
"Ps= Ss*%pi*n*(d/2)^2\n",
"Pb= Sb*%pi*n*d*t\n",
"Pt1= St*(l-d*2)*t\n",
"Pt2= 4*St*(l-d*4)*t/3\n",
"Pt3= 4*St*(l-d*2)*t\n",
"Pmin= Ps\n",
"sigma= Ss\n",
"if (Pb<Pmin)\n",
"    Pmin=Pb\n",
"    sigma=Sb\n",
"elseif (Pt1<Pmin)\n",
"    Pmin=Pt1\n",
"    sigma=St\n",
"elseif (Pt2<Pmin)\n",
"    Pmin=Pt2\n",
"    sigma=St\n",
"else (Pt3<Pmin)\n",
"    Pmin=Pt3\n",
"    sigma=St\n",
"end\n",
"e= Pmin*100/(sigma*t*l)\n",
"//RESULTS\n",
"printf ('e= %.1f per cent',e)"
   ]
   }
,
{
		   "cell_type": "markdown",
		   "metadata": {},
		   "source": [
			"## Example 15.5: chapter_15_example_5.sce"
		   ]
		  },
  {
"cell_type": "code",
	   "execution_count": null,
	   "metadata": {
	    "collapsed": true
	   },
	   "outputs": [],
"source": [
"clc\n",
"//initialisation of variables\n",
"n= 8\n",
"shear= 15 //ksi\n",
"Dr= 7/8 //in\n",
"Ss= 32 //ksi\n",
"Ds= 40 //si\n",
"D= 3/8 //in\n",
"x= 0.504 //in\n",
"//CALCULATIONS\n",
"Ps= shear*n*(Dr/2)^2\n",
"Pb= Ds*(n/2)*x*Dr\n",
"Pb1= Ss*n*D*Dr\n",
"pmin= Ps\n",
"if (Pb<Pmin)\n",
"    Pmin= Pb\n",
"else \n",
"    Pmin= Pb1    \n",
"    end\n",
"//RESULTS\n",
"printf ('load capacity of connection= %.2f kips',Pb)"
   ]
   }
,
{
		   "cell_type": "markdown",
		   "metadata": {},
		   "source": [
			"## Example 15.6: chapter_15_example_6.sce"
		   ]
		  },
  {
"cell_type": "code",
	   "execution_count": null,
	   "metadata": {
	    "collapsed": true
	   },
	   "outputs": [],
"source": [
"clc\n",
"//initialisation of variables\n",
"T= 15000 //psi\n",
"x1= 3 //in\n",
"x2= 3 //in\n",
"y1= 3 //in\n",
"y2= 3 //in\n",
"d= 0.5 //in\n",
"n= 4\n",
"//CALCULATIONS\n",
"P= T*(%pi/4)*d^2/(sqrt((1/n)^2+(1/((sqrt(y1^2+y2^2)/y1)*n))^2+(2*(1/n)*(1/(n*(sqrt(y1^2+y2^2))/y1))*cosd(45))))\n",
"P1= T*(%pi/4)*d^2/((1/n)+(y1/(n*y1)))\n",
"if (P>P1)\n",
"    printf ('Stornger P= %.2f lb',P)\n",
"else\n",
"    printf ('Stornger  P= %.2f lb',P1)\n",
"end"
   ]
   }
,
{
		   "cell_type": "markdown",
		   "metadata": {},
		   "source": [
			"## Example 15.7: chapter_15_example_7.sce"
		   ]
		  },
  {
"cell_type": "code",
	   "execution_count": null,
	   "metadata": {
	    "collapsed": true
	   },
	   "outputs": [],
"source": [
"clc\n",
"//initialisation of variables\n",
"P= 5 //kips\n",
"xab= 3 //in\n",
"xbc= 6 //in\n",
"xbp= 1 //in\n",
"y= 6 //in\n",
"n= 3\n",
"//CALCULATIONS\n",
"Dl= P/3\n",
"Pct= (6*P)/(((xab+xbp)*(xab+xbp)/(xbc-xbp))+(xbp/(xbc-xbp))+(xbc-xbp))\n",
"R= sqrt(Pct^2+Dl^2)\n",
"//RESULTS\n",
"printf ('Greatest Load= %.2f kips',R)"
   ]
   }
],
"metadata": {
		  "kernelspec": {
		   "display_name": "Scilab",
		   "language": "scilab",
		   "name": "scilab"
		  },
		  "language_info": {
		   "file_extension": ".sce",
		   "help_links": [
			{
			 "text": "MetaKernel Magics",
			 "url": "https://github.com/calysto/metakernel/blob/master/metakernel/magics/README.md"
			}
		   ],
		   "mimetype": "text/x-octave",
		   "name": "scilab",
		   "version": "0.7.1"
		  }
		 },
		 "nbformat": 4,
		 "nbformat_minor": 0
}
