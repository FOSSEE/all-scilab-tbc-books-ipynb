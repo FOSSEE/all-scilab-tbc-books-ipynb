{
"cells": [
 {
		   "cell_type": "markdown",
	   "metadata": {},
	   "source": [
       "# Chapter 13: Radial Turbine Stages"
	   ]
	},
{
		   "cell_type": "markdown",
		   "metadata": {},
		   "source": [
			"## Example 13.1: ninety_degree_IFR_turbine.sce"
		   ]
		  },
  {
"cell_type": "code",
	   "execution_count": null,
	   "metadata": {
	    "collapsed": true
	   },
	   "outputs": [],
"source": [
"// scilab Code Exa 13.1 ninety degree IFR turbine\n",
"t=650; // in degree C\n",
"T01=t+273; // in Kelvin\n",
"p3=1; //  Exit Pressure in bar\n",
"gamma=1.4;\n",
"sigma=0.66; // blade-to-isentropic speed ratio\n",
"N=16e3; // rotor Speed in RPM\n",
"b2=5/100; // blade height at entry in m\n",
"alpha_2=20;  //  air angle at nozzle exit\n",
"d_r=0.45; // rotor diameter ratio(d3/d2)\n",
"p01_3=3.5; // total-to-static Pressure Ratio(p01/p3) \n",
"n_N=0.95; // Nozzle Efficiency \n",
"cp=1005; // Specific Heat at Constant Pressure in J/(kgK)\n",
"R=287;\n",
"n=(gamma-1)/gamma;\n",
"\n",
"// part(a) the rotor diameter\n",
"c_0=sqrt(2*cp*T01*(1-(p01_3^(-n))))\n",
"u_2=sigma*c_0;\n",
"d2=60*u_2/(%pi*N);\n",
"disp('cm',d2*1e2,'(a)the rotor diameter is')\n",
"\n",
"// part(b) air angle at rotor blade exit\n",
"d3=d2*d_r;\n",
"c_r2=u_2*tand(alpha_2);\n",
"u3=%pi*d3*N/60;\n",
"beta3=atand(c_r2/u3);\n",
"disp('degree',beta3,'(b) air angle at rotor blade exit beta3=')\n",
"\n",
"// part(c) mass flow rate\n",
"T03=T01-((u_2^2)/cp);\n",
"T3=T03-((c_r2^2)/(2*cp));\n",
"T2=T3+((0.5*(u_2^2))/cp);\n",
"c2=u_2/(cosd(alpha_2));\n",
"p01_2=(1-(((0.5*(c2^2))/(cp*n_N))/T01))^(-1/n);\n",
"p01=p3*p01_3;\n",
"p2=p01/p01_2;\n",
"ro2=(p2*1e5)/(R*T2);\n",
"m=ro2*c_r2*%pi*d2*b2;\n",
"disp('kg/s',m,'(c) mass flow rate is')\n",
"\n",
"// part(d) hub and tip diameters at the rotor exit\n",
"ro3=(p3*1e5)/(R*T3);\n",
"b3=m/(ro3*c_r2*%pi*d3);\n",
"dh=d3-b3;\n",
"disp('cm',dh*1e2,'(d)hub diameter at the rotor exit is')\n",
"dt=d3+b3;\n",
"disp('cm',dt*1e2,'(d)tip diameter at the rotor exit is')\n",
"\n",
"// part(e) Determining the power developed\n",
"P=m*(u_2^2);\n",
"disp ('kW',P/1000,'(e)Power developed is')\n",
"\n",
"// part(f) the total-to-static Efficiency of the stage\n",
"n_ts=(u_2^2)/(cp*T01*(1-((p3/p01)^n)));\n",
"disp('%',n_ts*1e2,'(f)the total-to-static Efficiency of the stage is')"
   ]
   }
,
{
		   "cell_type": "markdown",
		   "metadata": {},
		   "source": [
			"## Example 13.2: Mach_Number_and_loss_coefficient.sce"
		   ]
		  },
  {
"cell_type": "code",
	   "execution_count": null,
	   "metadata": {
	    "collapsed": true
	   },
	   "outputs": [],
"source": [
"// scilab Code Exa 13.2 Mach Number and loss coefficient\n",
"t=650; // in degree C\n",
"T01=t+273; // in Kelvin\n",
"p3=1; //  Exit Pressure in bar\n",
"gamma=1.4;\n",
"sigma=0.66; // blade-to-isentropic speed ratio\n",
"N=16e3; // rotor Speed in RPM\n",
"b2=5/100; // blade height at entry in m\n",
"alpha_2=20;  //  air angle at nozzle exit\n",
"d_r=0.45; // rotor diameter ratio(d3/d2)\n",
"p01_3=3.5; // total-to-static Pressure Ratio(p01/p3) \n",
"n_N=0.95; // Nozzle Efficiency \n",
"cp=1005; // Specific Heat at Constant Pressure in J/(kgK)\n",
"R=287;\n",
"n=(gamma-1)/gamma;\n",
"c_0=sqrt(2*cp*T01*(1-(p01_3^(-n))))\n",
"u_2=sigma*c_0;\n",
"Mb0=u_2/sqrt(gamma*R*T01);\n",
"\n",
"// part(a) Mach number at nozzle exit\n",
"M2=Mb0/(cosd(alpha_2)*sqrt(1-(0.5*(gamma-1)*(Mb0^2)*(secd(alpha_2)^2))));\n",
"disp(M2,'(a)the flow Mach number at nozzle exit M2=')\n",
"\n",
"// part(b)rotor exit Relative Mach number\n",
"d2=60*u_2/(%pi*N);\n",
"d3=d2*d_r;\n",
"c_r2=u_2*tand(alpha_2);\n",
"u3=%pi*d3*N/60;\n",
"beta3=atand(c_r2/u3);\n",
"w3=u3/(cosd(beta3));\n",
"T03=T01-((u_2^2)/cp);\n",
"T3=T03-((c_r2^2)/(2*cp));\n",
"a3=sqrt(gamma*R*T3);\n",
"M3_rel=w3/a3;\n",
"disp(M3_rel,'(b)the Relative Mach number at rotor exit is')\n",
"\n",
"// part(c) Nozzle enthalpy loss coefficient\n",
"T2=T3+((0.5*(u_2^2))/cp);\n",
"c2=u_2/(cosd(alpha_2));\n",
"T2s=T01-((0.5*(c2^2))/(cp*n_N));\n",
"c2=u_2/(cosd(alpha_2));\n",
"zeeta_N=cp*(T2-T2s)/(0.5*(c2^2));\n",
"disp(zeeta_N,'(c)the Nozzle enthalpy loss coefficient is')\n",
"\n",
"// part(d)rotor enthalpy loss coefficient\n",
"\n",
"p01_2=(1-(((0.5*(c2^2))/(cp*n_N))/T01))^(-1/n);\n",
"p01=p3*p01_3;\n",
"p2=p01/p01_2;\n",
"T3s=T2/((p2/p3)^n);\n",
"zeeta_R=cp*(T3-T3s)/(0.5*(w3^2));\n",
"disp(zeeta_R,'(d)the rotor enthalpy loss coefficient is')\n",
"disp('comment: Nozzle enthalpy loss coefficient value is not correctly calculated in the textbook. the above value is correct.')"
   ]
   }
,
{
		   "cell_type": "markdown",
		   "metadata": {},
		   "source": [
			"## Example 13.3: IFR_turbine_with_Cantilever_Blades.sce"
		   ]
		  },
  {
"cell_type": "code",
	   "execution_count": null,
	   "metadata": {
	    "collapsed": true
	   },
	   "outputs": [],
"source": [
"// scilab Code Exa 13.3 IFR turbine with Cantilever Blades\n",
"phi=0.4; // flow coefficient\n",
"funcprot(0);\n",
"P=100; // Power developed in kW\n",
"n_tt=0.9; // total-to-total Efficiency\n",
"N=12e3; // rotor Speed in RPM\n",
"m=1; // in kg/s\n",
"T01=400;  // in Kelvin\n",
"gamma=1.4;\n",
"d_r=0.8; // rotor diameter ratio(d3/d2)\n",
"u2=sqrt(P*1000/(2*m));\n",
"d2=60*u2/(%pi*N);\n",
"disp('cm',d2*1e2,'the rotor diameter at entry is')\n",
"d3=d2*d_r;\n",
"disp('cm',d3*1e2,'the rotor diameter at exit is')\n",
"beta2=atand(phi);\n",
"disp('degree',beta2,'air angle at rotor entry is beta2=')\n",
"d3=d2*d_r;\n",
"u3=%pi*d3*N/60;\n",
"c_r2=u2*phi;\n",
"beta3=atand(c_r2/u3);\n",
"disp('degree',beta3,'air angle at rotor exit is beta3=')\n",
"cp=1005;\n",
"n=(gamma-1)/gamma;\n",
"alpha_2=atand(c_r2/(2*u2));\n",
"disp('degree',alpha_2,'air angle at nozzle exit is alpha_2=')\n",
"p01_03=(1-((2*(u2^2))/(n_tt*cp*T01)))^(-1/n);\n",
"disp(p01_03,'stagnation pressure ratio across the stage is')"
   ]
   }
],
"metadata": {
		  "kernelspec": {
		   "display_name": "Scilab",
		   "language": "scilab",
		   "name": "scilab"
		  },
		  "language_info": {
		   "file_extension": ".sce",
		   "help_links": [
			{
			 "text": "MetaKernel Magics",
			 "url": "https://github.com/calysto/metakernel/blob/master/metakernel/magics/README.md"
			}
		   ],
		   "mimetype": "text/x-octave",
		   "name": "scilab",
		   "version": "0.7.1"
		  }
		 },
		 "nbformat": 4,
		 "nbformat_minor": 0
}
