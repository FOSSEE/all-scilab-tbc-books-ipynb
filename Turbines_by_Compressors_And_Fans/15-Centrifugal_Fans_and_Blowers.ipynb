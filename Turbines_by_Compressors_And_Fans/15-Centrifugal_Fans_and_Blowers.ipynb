{
"cells": [
 {
		   "cell_type": "markdown",
	   "metadata": {},
	   "source": [
       "# Chapter 15: Centrifugal Fans and Blowers"
	   ]
	},
{
		   "cell_type": "markdown",
		   "metadata": {},
		   "source": [
			"## Example 15.1: Centrifugal_fan_stage_1450_rpm.sce"
		   ]
		  },
  {
"cell_type": "code",
	   "execution_count": null,
	   "metadata": {
	    "collapsed": true
	   },
	   "outputs": [],
"source": [
"// scilab Code Exa 15.1 Centrifugal fan stage 1450 rpm\n",
"\n",
"d1=0.18; // inner diameter of the impeller in m\n",
"d2=0.2; // outer diameter of the impeller in m\n",
"N=1450; // rotor Speed in RPM\n",
"c1=21; // Absolute velocity at entry in m/s\n",
"w1=20; // relative velocity at entry in m/s\n",
"c2=25; // Absolute velocity at exit in m/s\n",
"w2=17; // relative velocity at exit in m/s\n",
"m=0.5; // flow rate in kg/s\n",
"n_m=0.78; // overall Efficiency of the motor\n",
"ro=1.25; // density of air in kg/m3\n",
"\n",
"u1=%pi*d1*N/60;\n",
"u2=%pi*d2*N/60;\n",
"delp_r=0.5*ro*((w1^2)-(w2^2))+(0.5*ro*((u2^2)-(u1^2)));\n",
"delp0_st=0.5*ro*(((w1^2)-(w2^2))+((u2^2)-(u1^2))+((c2^2)-(c1^2)));\n",
"disp('mm W.G.',delp0_st/9.81,'(a)stage pressure rise is')\n",
"DOR=delp_r/delp0_st;\n",
"disp(DOR,'(b)the degree of reaction is') \n",
"w_st=delp0_st/ro;\n",
"P=m*w_st/n_m;\n",
"disp('W',P,'(c)the motor Power required to drive the fan is')"
   ]
   }
,
{
		   "cell_type": "markdown",
		   "metadata": {},
		   "source": [
			"## Example 15.2: Centrifugal_blower_3000_rpm.sce"
		   ]
		  },
  {
"cell_type": "code",
	   "execution_count": null,
	   "metadata": {
	    "collapsed": true
	   },
	   "outputs": [],
"source": [
"// scilab Code Exa 15.2 Centrifugal blower 3000 rpm\n",
"\n",
"beta2=90; // rotor blade air angle at inlet in degree\n",
"N=3e3; // rotor Speed in RPM\n",
"T1=310;  // in Kelvin\n",
"p1=0.98; //Initial Pressure in bar\n",
"R=287;\n",
"n_d=0.88; // Efficiency of the drive\n",
"n_f=0.82; // Efficiency of the fan\n",
"Q=200/60; // discharge in m3/s\n",
"h=1000; // mm column of water\n",
"delp0=h*9.81;\n",
"Pi=Q*delp0/1000; // ideal power\n",
"P=Pi/(n_d*n_f);\n",
"disp('kW',P,'(a)Power required by the electric motor is')\n",
"\n",
"// part(b) impeller diameter\n",
"ro=(p1*1e5)/(R*T1);\n",
"u2=sqrt(delp0/(ro*n_f));\n",
"d2=u2*60/(%pi*N);\n",
"disp('cm',d2*1e2,'(b)the impeller diameter is')\n",
"\n",
"// part(c) inner diameter of the blade ring\n",
"c_r2=0.2*u2;\n",
"c_i=0.4*u2;\n",
"d1=sqrt(Q*4/(%pi*c_i));\n",
"disp('cm',d1*1e2,'(c)the inner diameter of the blade ring is')\n",
"\n",
"// part(d) air angle at the entry\n",
"u1=u2*d1/d2;\n",
"beta1=atand(c_r2/u1);\n",
"disp('degree',beta1,'(d)the air angle at the entry beta1=')\n",
"\n",
"// part(e) impeller widths at entry and exit\n",
"b1=Q/(c_r2*%pi*d1);\n",
"disp('cm',b1*1e2,'(e)the impeller width at entry is')\n",
"b2=b1*d1/d2;\n",
"disp('cm',b2*1e2,'and the impeller width at exit is')\n",
"\n",
"// part(f) number of impeller blades\n",
"z=8.5*sind(beta2)/(1-(d1/d2));\n",
"disp(z,'(f)the number of impeller blades is')\n",
"\n",
"// part(g) the specific speed\n",
"gH=u2^2;\n",
"omega=2*%pi*N/60;\n",
"NS=omega*sqrt(Q)/(gH^(3/4));\n",
"disp(NS,'(g)the dimensionless specific speed is')"
   ]
   }
],
"metadata": {
		  "kernelspec": {
		   "display_name": "Scilab",
		   "language": "scilab",
		   "name": "scilab"
		  },
		  "language_info": {
		   "file_extension": ".sce",
		   "help_links": [
			{
			 "text": "MetaKernel Magics",
			 "url": "https://github.com/calysto/metakernel/blob/master/metakernel/magics/README.md"
			}
		   ],
		   "mimetype": "text/x-octave",
		   "name": "scilab",
		   "version": "0.7.1"
		  }
		 },
		 "nbformat": 4,
		 "nbformat_minor": 0
}
