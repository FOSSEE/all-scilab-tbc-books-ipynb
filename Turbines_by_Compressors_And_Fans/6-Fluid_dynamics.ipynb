{
"cells": [
 {
		   "cell_type": "markdown",
	   "metadata": {},
	   "source": [
       "# Chapter 6: Fluid dynamics"
	   ]
	},
{
		   "cell_type": "markdown",
		   "metadata": {},
		   "source": [
			"## Example 6.1: inward_flow_radial_turbine_32000rpm.sce"
		   ]
		  },
  {
"cell_type": "code",
	   "execution_count": null,
	   "metadata": {
	    "collapsed": true
	   },
	   "outputs": [],
"source": [
"// scilab Code Exa 6.1 inward flow radial turbine 32000rpm\n",
"P=150; // Power Output in kW\n",
"N=32e3; // Speed in RPM\n",
"d1=20/100; // outer diameter of the impeller in m\n",
"d2=8/100; // inner diameter of the impeller in m\n",
"V1=387; // Absolute Velocity of gas at entry in m/s\n",
"V2=193; // Absolute Velocity of gas at exit in m/s\n",
"\n",
"// part(a) determining mass flow rate\n",
"u1=%pi*d1*N/60;\n",
"u2=d2*u1/d1;\n",
"w_at=u1^2/10e2;\n",
"m=P/w_at;\n",
"disp ('kg/s' ,m,'(a)mass flow rate is')\n",
"\n",
"// part (b) determining the percentage energy transfer due to the change of radius\n",
"n=((u1^2-u2^2)/2e3)/w_at; \n",
"disp ('%',n*100,'(b)percentage energy transfer due to the change of radius is')"
   ]
   }
,
{
		   "cell_type": "markdown",
		   "metadata": {},
		   "source": [
			"## Example 6.2: radially_tipped_Centrifugal_blower_3000rpm.sce"
		   ]
		  },
  {
"cell_type": "code",
	   "execution_count": null,
	   "metadata": {
	    "collapsed": true
	   },
	   "outputs": [],
"source": [
"// scilab Code Exa 6.2 radially tipped Centrifugal blower 3000rpm\n",
"P=150; // Power Output in kW\n",
"N=3e3; // Speed in RPM\n",
"d2=40/100; // outer diameter of the impeller in m\n",
"d1=25/100; // inner diameter of the impeller in m\n",
"b=8/100; // impeller width at entry in m\n",
"n_st=0.7; // stage efficiency\n",
"V1=22.67; // Absolute Velocity at entry in m/s\n",
"ro=1.25; // density of air in kg/m3\n",
"\n",
"// part(a) determining the pressure developed\n",
"u2=%pi*d2*N/60;\n",
"u1=d1*u2/d2;\n",
"w_ac=u2^2;\n",
"delh_s=n_st*w_ac;\n",
"delp=ro*delh_s;\n",
"disp ('mm W.G.' ,delp/9.81,'(a)the pressure developed is')\n",
"\n",
"// part (b) determining the power required\n",
"A1=%pi*d1*b;\n",
"m=ro*V1*A1;\n",
"P=m*w_ac/10e2;\n",
"disp('kW',P,'(b)Power required is')"
   ]
   }
,
{
		   "cell_type": "markdown",
		   "metadata": {},
		   "source": [
			"## Example 6.3: Calculation_on_an_axial_flow_fan.sce"
		   ]
		  },
  {
"cell_type": "code",
	   "execution_count": null,
	   "metadata": {
	    "collapsed": true
	   },
	   "outputs": [],
"source": [
"// scilab Code Exa 6.3 Calculation on an axial flow fan\n",
"N=1.47e3; // Speed in RPM\n",
"d=30/100; // Mean diameter of the impeller in m\n",
"ro=1.25; // density of air in kg/m3\n",
"\n",
"// part(b) determining the pressure rise across the fan\n",
"u=%pi*d*N/60;\n",
"w_c=u^2/3;\n",
"delp=ro*w_c;\n",
"disp ('mm W.G.' ,delp/9.81,'(b)the pressure rise across the fan is')"
   ]
   }
],
"metadata": {
		  "kernelspec": {
		   "display_name": "Scilab",
		   "language": "scilab",
		   "name": "scilab"
		  },
		  "language_info": {
		   "file_extension": ".sce",
		   "help_links": [
			{
			 "text": "MetaKernel Magics",
			 "url": "https://github.com/calysto/metakernel/blob/master/metakernel/magics/README.md"
			}
		   ],
		   "mimetype": "text/x-octave",
		   "name": "scilab",
		   "version": "0.7.1"
		  }
		 },
		 "nbformat": 4,
		 "nbformat_minor": 0
}
