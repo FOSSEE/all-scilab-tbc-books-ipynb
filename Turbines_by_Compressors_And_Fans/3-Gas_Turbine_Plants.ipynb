{
"cells": [
 {
		   "cell_type": "markdown",
	   "metadata": {},
	   "source": [
       "# Chapter 3: Gas Turbine Plants"
	   ]
	},
{
		   "cell_type": "markdown",
		   "metadata": {},
		   "source": [
			"## Example 3.1: Constant_Pressure_Gas_Turbine_Plant.sce"
		   ]
		  },
  {
"cell_type": "code",
	   "execution_count": null,
	   "metadata": {
	    "collapsed": true
	   },
	   "outputs": [],
"source": [
"// scilab Code Exa 3.1 Constant Pressure Gas Turbine Plant\n",
"\n",
"t1=50;  // Minimum Temperature in degree C\n",
"T1=t1+273; // in Kelvin\n",
"t3=950;  // Maximum Temperature in degree C\n",
"T3=t3+273; // in Kelvin\n",
"n_c=0.82; // Compressor Efficiency\n",
"n_t=0.87; // Turbine Efficiency\n",
"gamma=1.4; // Specific Heat Ratio\n",
"cp=1.005; // Specific Heat at Constant Pressure in kJ/(kgK)\n",
"beeta=T3/T1;\n",
"alpha=beeta*n_c*n_t;\n",
"T_opt=sqrt(alpha); // For maximum power output, the temperature ratios in the turbine and compressor\n",
"\n",
"// part(a) Determining pressure ratio of the turbine and compressor\n",
"pr=T_opt^(gamma/(gamma-1));\n",
"disp(pr,'(a)Pressure Ratio is')\n",
"\n",
"// part(b) Determining maximum power output per unit flow rate\n",
"wp_max=cp*T1*((T_opt-1)^2)/n_c;\n",
"disp('kW/(kg/s)',wp_max,'(b)maximum power output per unit flow rate is')\n",
"\n",
"// part(c) Determining thermal efficiency of the plant for maximum power output\n",
"n_th=(T_opt-1)^2/((beeta-1)*n_c-(T_opt-1));\n",
"disp('%',n_th*100,'(c)thermal efficiency of the plant for maximum power output is')"
   ]
   }
,
{
		   "cell_type": "markdown",
		   "metadata": {},
		   "source": [
			"## Example 3.2: Gas_Turbine_Plant_with_an_exhaust_HE.sce"
		   ]
		  },
  {
"cell_type": "code",
	   "execution_count": null,
	   "metadata": {
	    "collapsed": true
	   },
	   "outputs": [],
"source": [
"// scilab Code Exa 3.2 Gas Turbine Plant with an exhaust HE\n",
"T1=300;  // Minimum  cycle Temperature in Kelvin\n",
"funcprot(0);\n",
"pr=10; // pressure ratio of the turbine and compressor\n",
"T3=1500;  // Maximum cycle Temperature in Kelvin\n",
"m=10; // mass flow rate through the turbine and compressor in kg/s\n",
"e(1)=0.8; // thermal ratio of the heat exchanger\n",
"e(2)=1;\n",
"n_c=0.82; // Compressor Efficiency\n",
"n_t=0.85; // Turbine Efficiency\n",
"gamma=1.4; // Specific Heat Ratio\n",
"cp=1.005; // Specific Heat at Constant Pressure in kJ/(kgK)\n",
"beeta=T3/T1;\n",
"T2s=T1*(pr^((gamma-1)/gamma));\n",
"T2=T1+((T2s-T1)/n_c);\n",
"T4s=T3*(pr^(-((gamma-1)/gamma)));\n",
"T4=T3-((T3-T4s)*n_t);\n",
"\n",
"for i=1:2\n",
"T5=T2+e(i)*(T4-T2);\n",
"T6=T4-(T5-T2);\n",
"Q_s=cp*(T3-T5);\n",
"Q_r=cp*(T6-T1);\n",
"// part(a) Determining power developed\n",
"w_p=Q_s-Q_r;\n",
"P=m*w_p;\n",
"printf('for effectiveness=%f, \n (a)the power developed is %f kW',e(i),P)\n",
"\n",
"// part(b) Determining thermal efficiency of the plant\n",
"n_th=1-(Q_r/Q_s);\n",
"disp ('%',n_th*100,'(b)thermal efficiency of the plant is')    \n",
"end\n",
"\n",
"// part(c) Determining efficiencies of the ideal Joules cycle\n",
"n_Joule=1-(pr^((gamma-1)/gamma)/beeta);\n",
"disp('%',n_Joule*100,'(c)efficiency of the ideal Joules cycle with perfect heat exchange is')\n",
"n_Carnot=1-(T1/T3);\n",
"disp('%',n_Carnot*100,'and the Carnot cycle efficiency is')"
   ]
   }
,
{
		   "cell_type": "markdown",
		   "metadata": {},
		   "source": [
			"## Example 3.3: ideal_reheat_cycle_Gas_Turbine_Plant.sce"
		   ]
		  },
  {
"cell_type": "code",
	   "execution_count": null,
	   "metadata": {
	    "collapsed": true
	   },
	   "outputs": [],
"source": [
"// scilab Code Exa 3.3 ideal reheat cycle gas turbine\n",
"T1=300;  // Minimum  cycle Temperature in Kelvin\n",
"r=25; // pressure ratio of the turbine and compressor\n",
"gamma=1.4;\n",
"T3=1500;  // Maximum cycle Temperature in Kelvin\n",
"cp=1.005; // Specific Heat at Constant Pressure in kJ/(kgK)\n",
"beeta=T3/T1;\n",
"n=(gamma-1)/gamma;\n",
"t=(r^n);\n",
"d=1/sqrt(t);\n",
"// part(a) Determining mass flow rate through the turbine and compressor\n",
"c=2*beeta*[1-d];\n",
"wp_max=cp*T1*(c+1-t);\n",
"m=1000/wp_max;\n",
"disp ('kg/s',m,'(a)mass flow rate through the turbine and compressor is')\n",
"\n",
"// part(b) Determining thermal efficiency of the plant\n",
"n_th=(c+1-t)/(2*beeta-t-(beeta/sqrt(t)));\n",
"disp ('%',n_th*100,'(b)thermal efficiency of the plant is')    "
   ]
   }
,
{
		   "cell_type": "markdown",
		   "metadata": {},
		   "source": [
			"## Example 3.4: Calculations_on_Gas_Turbine_Plant.sce"
		   ]
		  },
  {
"cell_type": "code",
	   "execution_count": null,
	   "metadata": {
	    "collapsed": true
	   },
	   "outputs": [],
"source": [
"// scilab Code Exa 3.4 Calculations on Gas Turbine Plant for an ideal reheat cycle with optimum reheat pressure and perfect exhaust heat exchange\n",
"T1=300;  // Minimum  cycle Temperature in Kelvin\n",
"r=25; // pressure ratio of the turbine and compressor\n",
"T3=1500;  // Maximum cycle Temperature in Kelvin\n",
"gamma=1.4; // Specific Heat Ratio\n",
"cp=1.005; // Specific Heat at Constant Pressure in kJ/(kgK)\n",
"beeta=T3/T1;\n",
"n=(gamma-1)/gamma;\n",
"t=(r^n);\n",
"d=1/sqrt(t);\n",
"// part(a) Determining mass flow rate through the turbine and compressor\n",
"c=2*beeta*[1-d];\n",
"wp_max=cp*T1*(c+1-t);\n",
"m=1000/wp_max;\n",
"disp ('kg/s' ,m,' mass flow rate through the turbine and compressor is')\n",
"\n",
"\n",
"// part(b) Determining thermal efficiency of the plant\n",
"c=sqrt(t)*(sqrt(t)+1)/(2*beeta);\n",
"n_th=1-c;\n",
"disp ('%',n_th*100,' thermal efficiency of the plant is')    "
   ]
   }
,
{
		   "cell_type": "markdown",
		   "metadata": {},
		   "source": [
			"## Example 3.5: Calculations_on_Gas_Turbine_Plant.sce"
		   ]
		  },
  {
"cell_type": "code",
	   "execution_count": null,
	   "metadata": {
	    "collapsed": true
	   },
	   "outputs": [],
"source": [
"// scilab Code Exa 3.5 Calculations on Gas Turbine Plant \n",
"\n",
"P=10e4; // Power Output in kW\n",
"T1=310;  // Minimum  cycle Temperature in Kelvin\n",
"p1=1.013; // Compressor Inlet Pressure in bar\n",
"pr_c=8; // Compressor pressure ratio\n",
"gamma=1.4;\n",
"gamma_g=1.33;\n",
"R=0.287; \n",
"p2=pr_c*p1; // Compressor Exit Pressure in bar\n",
"T3=1350;  // Maximum cycle Temperature(Turbine inlet temp) in Kelvin\n",
"n_c=0.85; // Compressor Efficiency\n",
"p3=0.98*p2; // turbine inlet pressure\n",
"p4=1.02; // turbine exit pressure in bar\n",
"CV=40*10e2; // Calorific Value of fuel in kJ/kg;\n",
"n_B=0.98; // Combustion Efficiency\n",
"n_m=0.97; // Mechanical efficiency\n",
"n_t=0.9; // Turbine Efficiency\n",
"n_G=0.98; // Generator Efficiency\n",
"cp_a=1.005; // Specific Heat of air at Constant Pressure in kJ/(kgK)\n",
"\n",
"// Air Compressor\n",
"T2s=T1*(pr_c^((gamma-1)/gamma));\n",
"T2=T1+((T2s-T1)/n_c);\n",
"w_c=cp_a*(T2-T1);\n",
"\n",
"// Gas Turbine\n",
"n_g=(gamma_g-1)/gamma_g;\n",
"cp_g=1.157; // Specific Heat of gas at Constant Pressure in kJ/(kgK)\n",
"pr_t=p3/p4;\n",
"T4s=T3/(pr_t^((gamma_g-1)/gamma_g));\n",
"T4=T3-(n_t*(T3-T4s));\n",
"w_t=cp_g*(T3-T4);\n",
"w_net=w_t-w_c;\n",
"w_g=n_m*n_G*w_net;\n",
"\n",
"// part(a) Determining Gas Flow Rate\n",
"m_g=P/w_g;\n",
"disp ('kg/s',m_g,'(a)Gas flow rate is')\n",
"\n",
"// part(b) Determining Fuel-Air Ratio\n",
"F_A=((cp_g*T3)-(cp_a*T2))/((CV*n_B)-(cp_g*T3));\n",
"disp(F_A,'(b)Fuel-Air Ratio is')\n",
"\n",
"// part(c) Air flow rate\n",
"m_a=m_g/(1+F_A);\n",
"disp('kg/s',m_a,'(c)Air flow rate is')\n",
"\n",
"// part(d) Determining thermal efficiency of the plant\n",
"m_f=m_g-m_a;\n",
"n_th=m_g*w_net/(m_f*CV);\n",
"disp ('%',n_th*100,'(d)thermal efficiency of the plant is')\n",
"\n",
"// part(e) Determining Overall efficiency of the plant\n",
"n_o=n_m*n_G*n_th;\n",
"disp ('%',n_o*100,'(e)overall efficiency of the plant is')\n",
"\n",
"// part(f) Determining ideal Joule cycle efficiency\n",
"n_Joule=1-(1/(pr_c^((gamma-1)/gamma)));\n",
"disp ('%',n_Joule*100,'(f)efficiency of the ideal Joule cycle is')\n",
""
   ]
   }
],
"metadata": {
		  "kernelspec": {
		   "display_name": "Scilab",
		   "language": "scilab",
		   "name": "scilab"
		  },
		  "language_info": {
		   "file_extension": ".sce",
		   "help_links": [
			{
			 "text": "MetaKernel Magics",
			 "url": "https://github.com/calysto/metakernel/blob/master/metakernel/magics/README.md"
			}
		   ],
		   "mimetype": "text/x-octave",
		   "name": "scilab",
		   "version": "0.7.1"
		  }
		 },
		 "nbformat": 4,
		 "nbformat_minor": 0
}
