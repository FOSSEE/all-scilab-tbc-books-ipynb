{
"cells": [
 {
		   "cell_type": "markdown",
	   "metadata": {},
	   "source": [
       "# Chapter 5: Combined Cycle Plants"
	   ]
	},
{
		   "cell_type": "markdown",
		   "metadata": {},
		   "source": [
			"## Example 5.1: Calculation_on_combined_cycle_power_plant.sce"
		   ]
		  },
  {
"cell_type": "code",
	   "execution_count": null,
	   "metadata": {
	    "collapsed": true
	   },
	   "outputs": [],
"source": [
"// scilab Code Exa 5.1. Calculation on combined cycle power plant\n",
"\n",
"P_gt=1e5; // Power Output in kW\n",
"m_g=400; // mass flow rate of the exhaust gas in kg/s\n",
"cp_g=1.157; // Specific Heat of gas at Constant Pressure in kJ/(kgK)\n",
"x=0.9; // dryness fraction of steam at the turbine exit\n",
"\n",
"// part(a) Determining capacity of the boiler in kg of steam per hour \n",
"p1=90; // steam Pressure at the entry of steam turbine in bar\n",
"// from steam tables\n",
"t_6s=303.3; // saturation temperature at 90 bar in degree C\n",
"t_5s=t_6s;\n",
"h_fg=1380.8; // from steam table liquid vapour enthalpy at 90 bar\n",
"pp=20; // pinch point in degree C\n",
"t_6=t_6s+pp;\n",
"h_5s=2744.6;\n",
"h_6s=1363.8;\n",
"\n",
"t4=592.6;  // Exhaust gas temperature at gas turbine end in degree C\n",
"T4=t4+273; // in Kelvin\n",
"p_c=0.1; // Condenser pressure in bar\n",
"t7=176;  // Exhaust gas temperature at stack in degree C\n",
"T7=t7+273; // in Kelvin\n",
"h_7s=191.8; // Specific Enthalpy of water in kJ/kg\n",
"\n",
"m_st=(m_g*cp_g*(t_6-t7))/(h_6s-h_7s);\n",
"disp ('tonnes/hr' ,m_st*3.6,'(a)capacity of the boiler in kg of steam per hour is')\n",
"\n",
"// part(b) temperature of steam at turbine entry\n",
"t_5=t_6+((m_st*(h_5s-h_6s))/(m_g*cp_g)); // energy balance for the evaporator\n",
"\n",
"h_4s=h_5s+(m_g*cp_g*(t4-t_5)/m_st);\n",
"t_4s=540; // in degree C from steam table at p=90 bar\n",
"disp('degree celsius',t_4s,'(b)temperature of steam at turbine entry is')\n",
"\n",
"// part(c)steam turbine plant output and thermal efficiency \n",
"h_5=2350;\n",
"h_6=2150;\n",
"w_st_s=h_4s-h_5;\n",
"w_st_g=w_st_s*(m_st/m_g);\n",
"P_st=m_st*w_st_s;\n",
"disp('MW',P_st/10e02,'(c)Power output of the steam turbine plant is')\n",
"q_st=h_4s-h_7s;\n",
"n_st=w_st_s/q_st;\n",
"disp ('%' ,n_st*100,'thermal Efficiency of staem turbine plant is')\n",
"\n",
"// part(d) thermal efficiency of the combined cycle plant\n",
"n_gt=0.2666; // Gas turbine plant Efficiency\n",
"w_gt=P_gt/m_g;\n",
"q_gt=w_gt/n_gt;\n",
"n_c=(w_gt+w_st_g)/q_gt;\n",
"disp ('%' ,n_c*100,'(d)thermal Efficiency of combined cycle plant is')\n",
"disp('Comment: Error in Textbook, Answers vary due to Round-off Errors')"
   ]
   }
,
{
		   "cell_type": "markdown",
		   "metadata": {},
		   "source": [
			"## Example 5.2: combined_gas_and_steam_cycle_power_plant.sce"
		   ]
		  },
  {
"cell_type": "code",
	   "execution_count": null,
	   "metadata": {
	    "collapsed": true
	   },
	   "outputs": [],
"source": [
"// scilab Code Exa 5.2 combined gas and steam cycle power plant\n",
"P_gt=10e03; // Power Output in kW\n",
"n_st=0.32; // Steam turbine power plant Efficiency\n",
"\n",
"// part(a)steam turbine plant output  \n",
"n_gt=0.2; // Gas turbine plant Efficiency\n",
"q_gt=P_gt/n_gt;\n",
"q_st=(1-n_gt)*q_gt;\n",
"P_st=n_st*q_st;\n",
"disp('MW',P_st/10e02,'(a)Power output of the steam turbine plant is')\n",
"\n",
"// part(b) thermal efficiency of the combined cycle plant\n",
"n_c=n_gt+n_st-(n_gt*n_st);\n",
"disp ('%' ,n_c*100,'(b)thermal Efficiency of combined cycle plant is')\n",
"\n",
"// part(c) the heat rate of the combined cycle plant\n",
"hr_c=3600/n_c; \n",
"disp ('kJ/kWh',hr_c,' (c)Heat Rate of the combined cycle plant is')\n",
""
   ]
   }
],
"metadata": {
		  "kernelspec": {
		   "display_name": "Scilab",
		   "language": "scilab",
		   "name": "scilab"
		  },
		  "language_info": {
		   "file_extension": ".sce",
		   "help_links": [
			{
			 "text": "MetaKernel Magics",
			 "url": "https://github.com/calysto/metakernel/blob/master/metakernel/magics/README.md"
			}
		   ],
		   "mimetype": "text/x-octave",
		   "name": "scilab",
		   "version": "0.7.1"
		  }
		 },
		 "nbformat": 4,
		 "nbformat_minor": 0
}
