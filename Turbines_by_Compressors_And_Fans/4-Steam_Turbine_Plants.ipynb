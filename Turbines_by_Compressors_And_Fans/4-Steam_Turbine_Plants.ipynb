{
"cells": [
 {
		   "cell_type": "markdown",
	   "metadata": {},
	   "source": [
       "# Chapter 4: Steam Turbine Plants"
	   ]
	},
{
		   "cell_type": "markdown",
		   "metadata": {},
		   "source": [
			"## Example 4.1: Calculations_on_Steam_Turbine_Plant.sce"
		   ]
		  },
  {
"cell_type": "code",
	   "execution_count": null,
	   "metadata": {
	    "collapsed": true
	   },
	   "outputs": [],
"source": [
"// scilab Code Exa 4.1 Calculations on Steam Turbine Plant \n",
"\n",
"p1=25; // Turbine Inlet Pressure in bar\n",
"p2=0.065;  // Condenser Pressure in bar\n",
"n_B=0.82; // Boiler efficiency\n",
"delp=p1-p2;\n",
"v_w=0.001; // Specific Volume at condenser Pressure in m3/kg\n",
"\n",
"h1=160.6; // from steam tables at p1=0.065 bar\n",
"h2=h1+(delp*100*v_w);\n",
"\n",
"//part(a) Determining exact and approximate Rankine efficiency of the plant\n",
"h3=2800; // from steam table vapour enthalpy at 25 bar\n",
"h4=1930; // from steam table\n",
"n_rankine_ex=(h3-h4-(h2-h1))/(h3-h1-(h2-h1));\n",
"disp ('%',n_rankine_ex*100,'(a)(i) Exact Rankine efficiency is')\n",
"\n",
"n_rankine_app=(h3-h4)/(h3-h1);\n",
"disp ('%',n_rankine_app*100,' (a)(ii)Approximate Rankine efficiency is')\n",
"\n",
"//part(b) Determining thermal and relative efficiencies of the plant\n",
"n_t=0.78; // Turbine Efficiency\n",
"CV=26.3*10e2; // Calorific Value of fuel in kJ/kg;\n",
"n_th=(n_t*(h3-h4))/(h3-h1);\n",
"disp('%',n_th*100,'(b)(i)thermal efficiency of the plant is')\n",
"n_rel=n_th/n_rankine_app;\n",
"disp('%',n_rel*100,'(ii)relative efficiency of the plant is')\n",
"\n",
"//part(c) Determining Overall efficiency of the plant\n",
"n_o=n_th*n_B;\n",
"disp('%',n_o*100,'(c)overall efficiency of the plant is')\n",
"\n",
"//part(d) Turbine and Overall heat rates\n",
"hr_t=3600/n_th; \n",
"disp('kJ/kWh',hr_t,'(d)(i)Turbine Heat Rate is')\n",
"hr_o=3600/n_o; \n",
"disp('kJ/kWh',hr_o,'(d)(ii)overall Heat Rate is')\n",
"\n",
"//part(e) Steam Consumption per kWh\n",
"m_s=3600/(n_t*(h3-h4));\n",
"disp('kg/kWh' ,m_s,'(e)Steam Consumption is')\n",
"\n",
"//part(f) Fuel Consumption per kWh\n",
"m_f=3600/(CV*n_o);\n",
"disp('kg/kWh' ,m_f,'(f)Fuel Consumption is')"
   ]
   }
,
{
		   "cell_type": "markdown",
		   "metadata": {},
		   "source": [
			"## Example 4.2: Steam_Turbine_Plant_for_different_reheat_cycles.sce"
		   ]
		  },
  {
"cell_type": "code",
	   "execution_count": null,
	   "metadata": {
	    "collapsed": true
	   },
	   "outputs": [],
"source": [
"\n",
"// scilab Code Exa 4.2 Steam Turbine Plant for different reheat cycles\n",
"\n",
"p1=160; // Turbine Inlet Pressure in bar\n",
"T1=500;  // Turbine Entry Temperature in Degree Celsius\n",
"p2=0.06;  // Condenser Pressure in bar\n",
"\n",
"// from steam tables at p1=0.06 bar, \n",
"h1=147; // Specific Enthalpy of water in kJ/kg\n",
"h2=2567; // Specific Enthalpy of steam in kJ/kg\n",
"\n",
"h3=3295; // from steam table\n",
"h4=1947; // from steam table\n",
"q_n=h3-h1;\n",
"n_N=(h3-h4)/(q_n);\n",
"x=(h4-h1)/(h2-h1);\n",
"disp('%',n_N*100,'for non reheat cycle plant efficiency is')\n",
"disp ('kJ/kWh',3600/n_N,'Turbine Heat Rate is')\n",
"disp(x,'final dryness fraction is')\n",
"// for reheat cycle\n",
"\n",
"p(1)=70;\n",
"h5(1)=3412; // in kJ/kg\n",
"h7(1)=3065; // in kJ/kg\n",
"h6(1)=2094; // in kJ/kg\n",
"p(2)=50;\n",
"h5(2)=3433; // in kJ/kg\n",
"h7(2)=2981; // in kJ/kg\n",
"h6(2)=2144; // in kJ/kg\n",
"p(3)=25;\n",
"h5(3)=3475; // in kJ/kg\n",
"h7(3)=2826; // in kJ/kg\n",
"h6(3)=2249; // in kJ/kg\n",
"for i=1:3\n",
" q_r(i)=h5(i)-h7(i);\n",
"a(i)=(h6(i)-h4)/(q_r(i));\n",
"n_r(i)=1-a(i); // exact Rankine efficiency\n",
"b(i)=q_r(i)*n_r(i)/n_N;\n",
"n_th(i)=(q_n+b(i))*n_N/(q_n+q_r(i));\n",
"hr_t(i)=3600/n_th(i);\n",
"x(i)=(h6(i)-h1)/(h2-h1);\n",
"disp('bar',p(i),'for reheat pressure' )\n",
"disp('kJ',q_r(i),'q_R=')\n",
"disp('kJ',h6(i)-h4,'H6-H4= ')\n",
"disp('%',n_r(i)*100,'Rankine efficiency of the plant is')\n",
"disp('%',n_th(i)*100,'thermal efficiency of the plant is')\n",
"disp('kJ/kWh',hr_t(i),'Heat Rate is')\n",
"disp(x(i),'final dryness fraction is')\n",
"   \n",
"end\n",
"\n",
"disp('Comment: Error in Textbook, Answers vary due to Round-off Errors')"
   ]
   }
,
{
		   "cell_type": "markdown",
		   "metadata": {},
		   "source": [
			"## Example 4.3: Calculations_on_Steam_Turbine_Plant.sce"
		   ]
		  },
  {
"cell_type": "code",
	   "execution_count": null,
	   "metadata": {
	    "collapsed": true
	   },
	   "outputs": [],
"source": [
"// scilab Code Exa 4.3 Calculations on Steam Turbine Plant \n",
"\n",
"p1=82.75; // Turbine Inlet Pressure in bar\n",
"T1=510;  // Turbine Entry Temperature in Degree Celsius\n",
"pc=0.042;  // Condenser Pressure in bar\n",
"H=3420;\n",
"n_e=0.85;\n",
"gamma=1.4;\n",
"n_st1=0.85;\n",
"\n",
"p2=22.75;\n",
"// for regenerative cycle\n",
"hs(1)=121.4; // from steam tables and mollier chart\n",
"p(6)=p2; // pressure at bleed point 1\n",
"Hs(6)=3080; // Enthalpy of steam at bleed point 1\n",
"h1s=931;\n",
"hs(6)=h1s; // Enthalpy of water at bleed point 1\n",
"H_22=H-(n_st1*(H-h1s));\n",
"\n",
"p(5)=10.65; // pressure at bleed point 2\n",
"Hs(5)=2950; // Enthalpy of steam at bleed point 2\n",
"hs(5)=772; // Enthalpy of water at bleed point 2\n",
"\n",
"p(4)=4.35; // pressure at bleed point 3\n",
"Hs(4)=2730; // Enthalpy of steam at bleed point 3\n",
"hs(4)=612; // Enthalpy of water at bleed point 3\n",
"\n",
"p(3)=1.25; // pressure at bleed point 4\n",
"Hs(3)=2590; // Enthalpy of steam at bleed point 4\n",
"hs(3)=444; // Enthalpy of water at bleed point 4\n",
"\n",
"p(2)=0.6; // pressure at bleed point 5\n",
"Hs(2)=2510; // Enthalpy of steam at bleed point 5\n",
"hs(2)=360; // Enthalpy of water at bleed point 5\n",
"\n",
"m=1;\n",
"h_c=121.4;\n",
"x=0.875;\n",
"disp(x,'(a)the final state at point C is')\n",
"for i=2:6\n",
"alpha(i)=(Hs(i)-hs(i-1))/(Hs(i)-hs(i));\n",
"m=m*alpha(i);    \n",
"end\n",
"disp('kg',m,'(b)The mass of steam raised per kg of steam reaching the condenser is')\n",
"// part(c) thermal efficiency with feed heating\n",
"H_c=2250;\n",
"h_n=hs(6);\n",
"n_th=1-((H_c-h_c)/(m*(H-h_n)));\n",
"hr_t=3600/n_th;\n",
"//(c) the improvement in thermal efficiency and heat rate\n",
"c=H-H_c;\n",
"d=H-h_c;\n",
"n_R=(H-H_c)/(H-h_c);\n",
"hr_R=3600/n_R;\n",
"deln_th=(n_th-n_R)/n_R;\n",
"disp ('%',deln_th*100,'(c)therefore, the improvement in efficiency is')\n",
"delhr_t=(hr_R-hr_t)/hr_R;\n",
"disp ('%',delhr_t*100,' and, the improvement in heat rate is')\n",
"\n",
"// part(d) decrease of steam flow to the condenser per kWh due to feed heating\n",
"q_s=m*(H-h_n);\n",
"q_r=H_c-h_c;\n",
"w_t=q_s-q_r;\n",
"wt_m=w_t/m;\n",
"sf_r=3600/wt_m;\n",
"s_c=sf_r/m;\n",
"// without feed heating\n",
"wt_f=H-H_c;\n",
"m_wf=3600/wt_f;\n",
"sr_c=(m_wf-s_c)/m_wf;\n",
"disp ('%',sr_c*100,'(d)the decrease in steam reaching the condenser is')\n",
"disp('comment: the calculation for the improvement in efficiency is wrong in the book.')\n",
"   "
   ]
   }
],
"metadata": {
		  "kernelspec": {
		   "display_name": "Scilab",
		   "language": "scilab",
		   "name": "scilab"
		  },
		  "language_info": {
		   "file_extension": ".sce",
		   "help_links": [
			{
			 "text": "MetaKernel Magics",
			 "url": "https://github.com/calysto/metakernel/blob/master/metakernel/magics/README.md"
			}
		   ],
		   "mimetype": "text/x-octave",
		   "name": "scilab",
		   "version": "0.7.1"
		  }
		 },
		 "nbformat": 4,
		 "nbformat_minor": 0
}
