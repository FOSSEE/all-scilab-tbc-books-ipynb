{
"cells": [
 {
		   "cell_type": "markdown",
	   "metadata": {},
	   "source": [
       "# Chapter 12: Centrifugal Compressor Stage"
	   ]
	},
{
		   "cell_type": "markdown",
		   "metadata": {},
		   "source": [
			"## Example 12.1: Calculation_on_a_centrifugal_compressor_stage.sce"
		   ]
		  },
  {
"cell_type": "code",
	   "execution_count": null,
	   "metadata": {
	    "collapsed": true
	   },
	   "outputs": [],
"source": [
"// scilab Code Exa 12.1 Calculation on a centrifugal compressor stage \n",
"T01=335;  // in Kelvin\n",
"funcprot(0);\n",
"p01=1.02; //  Initial Pressure in bar\n",
"dh=0.10; // hub diameter in m\n",
"dt=0.25; // tip diameter in m\n",
"m=5; //  in kg/s\n",
"gamma=1.4;\n",
"N=7.2e3; // rotor Speed in RPM\n",
"d1=0.5*(dt+dh); // Mean Blade ring diameter\n",
"cp=1005; // Specific Heat at Constant Pressure in J/(kgK)\n",
"A=%pi*((dt^2)-(dh^2))/4;\n",
"R=287;\n",
"// I trial\n",
"ro1=(p01*1e5)/(R*T01);\n",
"cx0=m/(ro1*A);\n",
"T0=T01-((cx0^2)/(2*cp));\n",
"n=(gamma-1)/gamma;\n",
"p1=p01*((T0/T01)^(1/n));\n",
"ro=(p1*1e5)/(R*T0);\n",
"cx=m/(ro*A);\n",
"// II Trial\n",
"cx2=123;\n",
"T1=T01-((cx2^2)/(2*cp));\n",
"p2=p01*((T1/T01)^(1/n));\n",
"ro2=(p2*1e5)/(R*T1);\n",
"cx1=m/(ro2*A);\n",
"u1=%pi*d1*N/60;\n",
"beta1=atand(cx1/u1);\n",
"disp('degree',beta1,'air angle at inducer blade entry beta1=')\n",
"w1=cx1/(sind(beta1));\n",
"a1=sqrt(gamma*R*T1);\n",
"Mw1=w1/a1;\n",
"disp(Mw1,'the Relative Mach number at inducer blade entry Mw1=')\n",
"alpha1=atand(cx1/u1);\n",
"disp('degree',alpha1,'air angle at IGVs exit alpha1=')\n",
"c1=cx1/(sind(alpha1));\n",
"T1_new=T01-((c1^2)/(2*cp));\n",
"a1_new=sqrt(gamma*R*T1_new);\n",
"Mw1_new=cx1/a1_new;\n",
"disp(Mw1_new,'the new value of Relative Mach number Mw1_new=')"
   ]
   }
,
{
		   "cell_type": "markdown",
		   "metadata": {},
		   "source": [
			"## Example 12.2: Calculation_on_a_centrifugal_air_compressor.sce"
		   ]
		  },
  {
"cell_type": "code",
	   "execution_count": null,
	   "metadata": {
	    "collapsed": true
	   },
	   "outputs": [],
"source": [
"// scilab Code Exa 12.2 Calculation on a centrifugal air compressor \n",
"T01=288;  // in Kelvin\n",
"p01=1.02; //  Initial Pressure in bar\n",
"dh=0.10; // hub diameter in m\n",
"dt=0.25; // tip diameter in m\n",
"m=5; //  in kg/s\n",
"gamma=1.4;\n",
"n=(gamma-1)/gamma;\n",
"N=7.2e3; // rotor Speed in RPM\n",
"d2=0.45; // Impeller diameter in m\n",
"cp=1005; // Specific Heat at Constant Pressure in J/(kgK)\n",
"u2=%pi*d2*N/60;\n",
"pr0=((1+(u2^2/(cp*T01)))^(1/n));\n",
"disp(pr0,'pressure ratio developed pr0=')\n",
"w=u2^2;\n",
"disp('kW/(kg/s)',w*1e-3,'Power required to drive the compressor P=')"
   ]
   }
,
{
		   "cell_type": "markdown",
		   "metadata": {},
		   "source": [
			"## Example 12.3: centrifugal_compressor_stage_17000_rpm.sce"
		   ]
		  },
  {
"cell_type": "code",
	   "execution_count": null,
	   "metadata": {
	    "collapsed": true
	   },
	   "outputs": [],
"source": [
"// scilab Code Exa 12.3 Calculation on a centrifugal compressor stage \n",
"\n",
"funcprot(0)\n",
"T01=306;  // Entry Temperature in Kelvin\n",
"p01=1.05; //  Entry Pressure in bar\n",
"dh=0.12; // hub diameter in m\n",
"dt=0.24; // tip diameter in m\n",
"m=8; //  in kg/s\n",
"mu=0.92; // slip factor\n",
"n_st=0.77; // stage efficiency\n",
"gamma=1.4;\n",
"N=17e3; // rotor Speed in RPM\n",
"d_it=0.48; // Impeller tip diameter in m\n",
"d1=0.5*(dt+dh); // Mean Blade ring diameter\n",
"rm=d1/2;\n",
"cp=1005; // Specific Heat at Constant Pressure in J/(kgK)\n",
"A=%pi*((dt^2)-(dh^2))/4;\n",
"R=287;\n",
"n=86; // number of iterations\n",
"ro01=(p01*1e5)/(R*T01);\n",
"cx(1)=m/(ro01*A);\n",
"for i=1:n\n",
"    T1=T01-((cx(i)^2)/(2*cp));\n",
"    p1=p01*((T1/T01)^(1/((gamma-1)/gamma)));\n",
"ro1=(p1*1e5)/(R*T1);\n",
"cx(i+1)=m/(ro1*A);\n",
"if cx(i+1)==cx(i) then\n",
"    disp('m/s',cx(i+1),'cx=')\n",
"    disp(T1,'T1')\n",
"disp(p1,'p1')\n",
"disp(ro1,'ro1')\n",
"end \n",
"end\n",
"cx1=cx(i+1);\n",
"u1m=%pi*d1*N/60;\n",
"omega=u1m/rm;\n",
"rh=dh/2;\n",
"rt=dt/2;\n",
"uh=omega*rh;\n",
"ut=omega*rt;\n",
"u2=d_it*u1m/d1;\n",
"beta1h=atand(cx1/uh);\n",
"beta1m=atand(cx1/u1m);\n",
"beta1t=atand(cx1/ut);\n",
"disp('(a) Without IGVs')\n",
"disp('degree',beta1h,'air angle at hub section beta1h=')\n",
"disp('degree',beta1m,'air angle at mean section beta1m=')\n",
"disp('degree',beta1t,'air angle at tip section beta1t=')\n",
"w1t=cx1/(sind(beta1t));\n",
"a1=sqrt(gamma*R*T1);\n",
"M1t=w1t/a1;\n",
"disp(M1t,'the maximum Mach number at inducer blade entry M1t=')\n",
"pr0=((1+(mu*n_st*(u2^2)/(cp*T01)))^(1/((gamma-1)/gamma)));\n",
"disp(pr0,'total pressure ratio developed is')\n",
"P=m*mu*(u2^2);\n",
"disp ('kW',P/1000,'Power required to drive the compressor without IGVs is')\n",
"\n",
"// part(b) with IGVs\n",
"alpha1h=beta1h;\n",
"alpha1m=beta1m;\n",
"alpha1t=beta1t;\n",
"disp('(b)With IGVs')\n",
"disp('degree',alpha1h,'air angle at hub section alpha1h=')\n",
"disp('degree',alpha1m,'air angle at mean section alpha1m=')\n",
"disp('degree',alpha1t,'air angle at tip section alpha1t=')\n",
"c1t=cx1/(sind(alpha1t));\n",
"T1t=T01-((c1t^2)/(2*cp));\n",
"a1t=sqrt(gamma*R*T1t);\n",
"Mw1t=cx1/a1t;\n",
"disp(Mw1t,'the maximum Mach number at inducer blade entry Mw1t=')\n",
"pr0_w=((1+(n_st*(mu*(u2^2)-(u1m^2))/(cp*T01)))^(1/((gamma-1)/gamma)));\n",
"disp(pr0_w,'total pressure ratio developed is')\n",
"P_w=m*(mu*(u2^2)-(u1m^2));\n",
"disp ('kW',P_w/1000,'Power required to drive the compressor is')\n",
"disp('Comment: here the solution is found out using programming, so this gives slightly small variation from tha answers given in hte book, but answers from the present solution are exact.')"
   ]
   }
,
{
		   "cell_type": "markdown",
		   "metadata": {},
		   "source": [
			"## Example 12.4: Radially_tipped_blade_impeller.sce"
		   ]
		  },
  {
"cell_type": "code",
	   "execution_count": null,
	   "metadata": {
	    "collapsed": true
	   },
	   "outputs": [],
"source": [
"// scilab Code Exa 12.4.b Radially tipped blade impeller\n",
"phi2=0.268; // Flow coefficient\n",
"T01=293;  // in Kelvin\n",
"p01=1; //  Initial Pressure in bar\n",
"dr=2.667; // diameter ratio(d2/d1)\n",
"gamma=1.4;\n",
"R=287;\n",
"N=8e3; // rotor Speed in RPM\n",
"d1=0.18; // Mean diameter at the impeller entry in m\n",
"u1=%pi*d1*N/60;\n",
"a1=sqrt(gamma*R*T01);\n",
"Mb1=u1/a1;\n",
"disp(Mb1,'the Mach number at inducer blade entry Mb1=')\n",
"M2=sqrt(((dr^2)*(Mb1^2)*(1+(phi2^2)))/(1+(0.5*(gamma-1)*(dr^2)*(Mb1^2)*(1-(phi2^2)))));\n",
"disp(M2,'the flow Mach number at impeller exit M2=')"
   ]
   }
,
{
		   "cell_type": "markdown",
		   "metadata": {},
		   "source": [
			"## Example 12.5: Radially_tipped_blade_impeller.sce"
		   ]
		  },
  {
"cell_type": "code",
	   "execution_count": null,
	   "metadata": {
	    "collapsed": true
	   },
	   "outputs": [],
"source": [
"// scilab Code Exa 12.5 Radially tipped blade impeller\n",
"// part(a) free vortex flow\n",
"r3=0.25; // volute base circle radius in m\n",
"c_theta3=177.5; // tangential velocity component of air in m/s\n",
"K=r3*c_theta3;\n",
"b=0.12; // width in m\n",
"Q=5.4; // discharge in m3/s\n",
"n=8;\n",
"disp('part(a)')\n",
"theta(1)=%pi/4;\n",
"theta(2)=%pi/2;\n",
"theta(3)=3*%pi/4;\n",
"theta(4)=%pi;\n",
"theta(5)=5*%pi/4;\n",
"theta(6)=3*%pi/2;\n",
"theta(7)=7*%pi/4;\n",
"theta(8)=2*%pi;\n",
"disp('the volute radii at eight angular positions are given below:')\n",
"for i=1:n\n",
"    r4(i)=r3*exp(theta(i)*Q/(2*%pi*K*b))\n",
"    disp('radian',theta(i),'at theta=')\n",
"    disp('cm',r4(i)*100,'r4=')\n",
"end\n",
"L=r4(8)-r3;\n",
"disp(L/(2*r3),'(a)throat-to-diameter ratio (L/d3)=')\n",
"\n",
"// part(b) constant mean velocity of 145 m/s\n",
"cm=145; // constant mean velocity in m/s\n",
"disp('part(b)')\n",
"for i=1:n\n",
"    r4b(i)=r3+(Q/(cm*b)*(theta(i)/(2*%pi)));\n",
"    disp('radian',theta(i),'at theta=')\n",
"    disp('cm',r4b(i)*100,'r4=')\n",
"end\n",
"L_b=r4b(8)-r3;\n",
"disp(L_b/(2*r3),'(b)throat-to-diameter ratio (L/d3)=')"
   ]
   }
],
"metadata": {
		  "kernelspec": {
		   "display_name": "Scilab",
		   "language": "scilab",
		   "name": "scilab"
		  },
		  "language_info": {
		   "file_extension": ".sce",
		   "help_links": [
			{
			 "text": "MetaKernel Magics",
			 "url": "https://github.com/calysto/metakernel/blob/master/metakernel/magics/README.md"
			}
		   ],
		   "mimetype": "text/x-octave",
		   "name": "scilab",
		   "version": "0.7.1"
		  }
		 },
		 "nbformat": 4,
		 "nbformat_minor": 0
}
