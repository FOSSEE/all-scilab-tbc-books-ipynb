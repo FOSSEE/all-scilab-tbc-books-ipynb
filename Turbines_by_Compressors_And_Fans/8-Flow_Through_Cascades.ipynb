{
"cells": [
 {
		   "cell_type": "markdown",
	   "metadata": {},
	   "source": [
       "# Chapter 8: Flow Through Cascades"
	   ]
	},
{
		   "cell_type": "markdown",
		   "metadata": {},
		   "source": [
			"## Example 8.1: Calculation_on_a_compressor_cascade.sce"
		   ]
		  },
  {
"cell_type": "code",
	   "execution_count": null,
	   "metadata": {
	    "collapsed": true
	   },
	   "outputs": [],
"source": [
"// scilab Code Exa 8.1 Calculation on a compressor cascade\n",
"\n",
"V1=75; // Absolute Velocity of air at entry in m/s\n",
"alpha1=48; // air angle at entry\n",
"alpha2=25; // air angle at exit\n",
"p=1.1; // pitch-chord ratio\n",
"delps=11; // stagnation pressure loss in mm W.G.\n",
"ro=1.25; // density of air in kg/m3\n",
"g=9.81;\n",
"a=0.5*(tand(alpha1)+tand(alpha2)); \n",
"alpham=atand(a);\n",
"b=0.5*ro*(V1^2);\n",
"Y=delps*g/b;\n",
"disp (Y,'the loss coefficient is')\n",
"c=(cosd(alpham)^3)/(cosd(alpha1)^2);\n",
"C_D=p*Y*c;\n",
"disp (C_D,'the drag coefficient is')\n",
"d=2*p*(tand(alpha1)-tand(alpha2))*cosd(alpham);\n",
"e=C_D*tand(alpham);\n",
"C_L=d-e;\n",
"disp (C_L,'the Lift coefficient is')\n",
"f=(cosd(alpha1)^2)/(cosd(alpha2)^2);\n",
"C_ps=1-f;\n",
"disp (C_ps,'the Ideal pressure recovery coefficient is')\n",
"C_pa=C_ps-Y;\n",
"disp (C_pa,'the Actual pressure recovery coefficient is')\n",
"n_D=C_pa/C_ps;\n",
"disp (n_D,'the Diffuser efficiency is')\n",
"n_dmax=1-(2*C_D/C_L);\n",
"disp (n_dmax,'the Maximum Diffuser efficiency is')"
   ]
   }
,
{
		   "cell_type": "markdown",
		   "metadata": {},
		   "source": [
			"## Example 8.2: Calculation_on_a_turbine_blade_row_cascade.sce"
		   ]
		  },
  {
"cell_type": "code",
	   "execution_count": null,
	   "metadata": {
	    "collapsed": true
	   },
	   "outputs": [],
"source": [
"// scilab Code Exa 8.2 Calculation on a turbine blade row cascade\n",
"\n",
"beta1=35; //  blade angle at entry\n",
"beta2=55; // blade angle at exit\n",
"i=5; // incidence\n",
"delta=2.5; // deviation\n",
"alpha1=beta1+i; // air angle at entry\n",
"alpha2=beta2-delta; // air angle at exit\n",
"t_c=0.3; // maximum thickness-chord ratio(t/l)\n",
"a_r=2.5; // aspect ratio\n",
"\n",
"//part(a)optimum pitch-chord ratio from Zweifels relation\n",
"C_z=0.8; // from Zweifel's relation \n",
"p_c=C_z/(2*(cosd(alpha2)^2)*(tand(alpha1)+tand(alpha2)));\n",
"disp (p_c,'(a)the optimum pitch-chord ratio from Zweifels relation is')\n",
"\n",
"//part(b) loss coefficient from Soderbergs and Hawthorne relations\n",
"ep=alpha1+alpha2; // deflection angle\n",
"Zeeta=0.075;\n",
"b=(1+Zeeta)*(0.975+(0.075/a_r))\n",
"zeeta=b-1;\n",
"disp (zeeta,'(b)(i)the loss coefficient from Soderbergs relation is')\n",
"z_p=0.025*(1+((ep/90)^2)); // Hawthorne's relation\n",
"disp (z_p,'(b)(ii)the loss coefficient from Hawthorne relation is')\n",
"z=(1+(3.2/a_r))*z_p; // the total cascade loss coefficient\n",
"Y=0.5*(z+zeeta); \n",
"\n",
"// part(c)drag coefficient\n",
"alpham=atand(0.5*(tand(alpha2)-tand(alpha1)));\n",
"C_D=p_c*Y*(cosd(alpham)^3)/(cosd(alpha2)^2);\n",
"disp (C_D,'(c)the drag coefficient is')\n",
"\n",
"// part(d)Lift coefficient\n",
"C_L=(2*p_c*(tand(alpha1)+tand(alpha2))*cosd(alpham))+(C_D*tand(alpham));\n",
"disp (C_L,'(d)the Lift coefficient is')"
   ]
   }
,
{
		   "cell_type": "markdown",
		   "metadata": {},
		   "source": [
			"## Example 8.3: Calculation_on_a_compressor_cascade.sce"
		   ]
		  },
  {
"cell_type": "code",
	   "execution_count": null,
	   "metadata": {
	    "collapsed": true
	   },
	   "outputs": [],
"source": [
"// scilab Code Exa 8.3 Calculation on a compressor cascade\n",
"theta=25; // Camber angle\n",
"gamma_a=30; // stagger angle\n",
"i=5; // incidence\n",
"t_c=0.031; // momentum thickness-chord ratio(t/l)\n",
"p_c=1; // pitch-chord ratio\n",
"\n",
"//part(a)cascade blade angles\n",
"beta1=((2*gamma_a)+theta)*0.5; //  blade angle at entry\n",
"beta2=((2*gamma_a)-theta)*0.5; // blade angle at exit\n",
"disp ('(a)therefore, the blade angles are')\n",
"disp ('degree',beta1,'beta1=')\n",
"disp ('degree',beta2,'beta2=')\n",
"\n",
"//part(b) the nominal air angles\n",
"alpha1=beta1+i; // air angle at entry\n",
"alpha2=atand(tand(alpha1)-(1.55/(1+(1.5*p_c)))); // air angle at exit\n",
"disp ('(b)therefore, the air angles are')\n",
"disp ('degree',alpha1,'alpha1=')\n",
"disp ('degree',alpha2,'alpha2=')\n",
"\n",
"//part(c) stagnation pressure loss coefficient\n",
"Y=2*t_c*p_c*(cosd(alpha1)^2)/(cosd(alpha2)^3);\n",
"disp (Y,'(c)the stagnation pressure loss coefficient is')\n",
"\n",
"// part(d)drag coefficient\n",
"alpham=atand(0.5*(tand(alpha1)+tand(alpha2)));\n",
"C_D=p_c*Y*(cosd(alpham)^3)/(cosd(alpha1)^2);\n",
"disp (C_D,'(d)the drag coefficient is')\n",
"\n",
"// part(e)Lift coefficient\n",
"C_L=(2*p_c*(tand(alpha1)-tand(alpha2))*cosd(alpham))-(C_D*tand(alpham));\n",
"disp (C_L,'(e)the Lift coefficient is')"
   ]
   }
,
{
		   "cell_type": "markdown",
		   "metadata": {},
		   "source": [
			"## Example 8.4: Calculation_on_a_blower_type_annular_cascade_tunnel.sce"
		   ]
		  },
  {
"cell_type": "code",
	   "execution_count": null,
	   "metadata": {
	    "collapsed": true
	   },
	   "outputs": [],
"source": [
"// scilab Code Exa 8.4 blower type annular cascade tunnel\n",
"\n",
"t=35;\n",
"T=t+273;  // test Temperature in Kelvin\n",
"p=1.02; //  test Pressure in bar\n",
"dm=50/100; // mean diameter of the impeller blade in m\n",
"b=15/100; // blade length in m\n",
"n_o=0.6; // stage efficiency\n",
"R=287;\n",
"c=100; // Maximum Velocity upstream of the cascade in m/s\n",
"ro=p*10e4/(R*T); // density of air in kg/m3\n",
"\n",
"// part(a) determining the total pressure developed by the blower\n",
"d_h=0.5*ro*(c^2);\n",
"loss=0.1*d_h;\n",
"delp=d_h+loss;\n",
"disp ('mm W.G.' ,delp/9.81,'(a)the pressure developed is')\n",
"\n",
"// part (b) determining the discharge\n",
"A=%pi*dm*b; // the annulus cross-sectional area \n",
"Q=c*A;\n",
"disp ('m3/min' ,Q*60,'(b)the discharge is')\n",
"\n",
"// part (c) determining the power required to drive the blower\n",
"P=Q*delp/(n_o*10e2);\n",
"disp('kW',P,'(c)Power required to drive the blower is')"
   ]
   }
,
{
		   "cell_type": "markdown",
		   "metadata": {},
		   "source": [
			"## Example 8.5: Calculation_on_a_compressor_type_radial_cascade_tunnel.sce"
		   ]
		  },
  {
"cell_type": "code",
	   "execution_count": null,
	   "metadata": {
	    "collapsed": true
	   },
	   "outputs": [],
"source": [
"// scilab Code Exa 8.5 compressor type radial cascade tunnel\n",
"\n",
"M=0.7; // Mach Number\n",
"pr=0.721; // pr=pt/p0 From isentropic gas tables\n",
"t_opt=0.911; // t_opt=Tt/T0\n",
"pa=1.013; //  Atmospheric Pressure in bar\n",
"Ta=306; // in K\n",
"n_c=0.65; // efficiency\n",
"R=288;\n",
"gamma=1.4;\n",
"alpha=30;\n",
"dm=45/100; // mean diameter of the impeller blade in m\n",
"b=10/100; // blade width in m\n",
"cp_a=1.008; // Specific Heat of air at Constant Pressure in kJ/(kgK)\n",
"\n",
"// part(a) pressure ratio of the compressor\n",
"pr_c=1/pr;\n",
"disp(pr_c,'(a)pressure ratio of the compressor is')\n",
"\n",
"// part(b) stagnation pressure in the settling chamber\n",
"p02=pa*pr_c;\n",
"disp('bar',p02,'(b)stagnation pressure in the settling chamber is')\n",
"\n",
"// part(c)test section conditions(static pressure, temperature and velocity)\n",
"n=(gamma-1)/gamma;\n",
"T02s=Ta*(pr_c^((gamma-1)/gamma));\n",
"T02=Ta+((T02s-Ta)/n_c);\n",
"T_t=t_opt*T02;\n",
"p_t=pr*p02;\n",
"c_t=M*sqrt(gamma*R*T_t);\n",
"disp('(c)test section conditions are given by: ')\n",
"disp('bar',p_t,'static pressure of air in the test section is')\n",
"disp('K',T_t,'static temperature of air in the test section is')\n",
"disp('m/s',c_t,'velocity of air in the test section is')\n",
"\n",
"// part(d) determining mass flow rate\n",
"c_r=c_t*sind(alpha);\n",
"ro_t=p_t*1e5/(R*T_t); // density of air in kg/m3\n",
"A_t=%pi*dm*b;\n",
"m=ro_t*A_t*c_r;\n",
"disp('kg/s',m,'(d) mass flow rate of compressor is')\n",
"\n",
"// part (e) determining the power required to drive the air compressor\n",
"delh_s=cp_a*(T02-Ta);\n",
"P=m*delh_s;\n",
"disp('kW',P,'(e)Power required to drive the air compressor is')"
   ]
   }
],
"metadata": {
		  "kernelspec": {
		   "display_name": "Scilab",
		   "language": "scilab",
		   "name": "scilab"
		  },
		  "language_info": {
		   "file_extension": ".sce",
		   "help_links": [
			{
			 "text": "MetaKernel Magics",
			 "url": "https://github.com/calysto/metakernel/blob/master/metakernel/magics/README.md"
			}
		   ],
		   "mimetype": "text/x-octave",
		   "name": "scilab",
		   "version": "0.7.1"
		  }
		 },
		 "nbformat": 4,
		 "nbformat_minor": 0
}
