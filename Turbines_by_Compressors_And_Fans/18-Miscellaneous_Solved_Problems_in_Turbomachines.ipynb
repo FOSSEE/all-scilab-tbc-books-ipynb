{
"cells": [
 {
		   "cell_type": "markdown",
	   "metadata": {},
	   "source": [
       "# Chapter 18: Miscellaneous Solved Problems in Turbomachines"
	   ]
	},
{
		   "cell_type": "markdown",
		   "metadata": {},
		   "source": [
			"## Example 18.10: Calculation_on_combined_cycle_power_plant.sce"
		   ]
		  },
  {
"cell_type": "code",
	   "execution_count": null,
	   "metadata": {
	    "collapsed": true
	   },
	   "outputs": [],
"source": [
"// scilab Code Exa 18.10 Calculation on combined cycle power plant\n",
"\n",
"P_gt=25.845; // Power Output of gas turbine plant in MW\n",
"P_st=21; // Power Output of steam turbine plant in MW\n",
"m_gt=115; // mass flow rate of the exhaust gas in kg/s\n",
"n_T=0.86; // Turbine Efficiency\n",
"gamma_g=1.33;\n",
"R=0.287;\n",
"cp=(gamma_g/(gamma_g-1))*R; // Specific Heat at Constant Pressure in kJ/(kgK)\n",
"T3=1341; // Maximum Temperature in gas turbine in degree K from Ex18.9\n",
"p1=84; // steam Pressure at the entry of steam turbine in bar\n",
"// from steam tables\n",
"t_6s=298.4; // saturation temperature at 84 bar in degree C\n",
"t_5s=t_6s;\n",
"h_6s=1336.1; // from steam table liquid vapour enthalpy at 84 bar\n",
"t6=535;  // steam temperature at the entry of steam turbine in degree C\n",
"T6=t6+273; // in Kelvin\n",
"h_4s=3460; // from mollier diagram at t=535 degree C\n",
"h_7=2050;\n",
"p_c=0.07; // Condenser pressure in bar\n",
"r=8.8502464; //optimum pressure ratio from Ex18.9\n",
"T4=875.92974; //from Ex 18.9\n",
"t4=T4-273; // in degree C\n",
"h_7s=163.4; // Specific Enthalpy of water in kJ/kg\n",
"m_st=P_st*1e3/((h_4s-h_7)*n_T); // mass flow rate of the steam in kg/s\n",
"\n",
"// part(a)Exhaust gas temperature at stack\n",
"t_7=t4-((m_st*(h_4s-h_7s))/(m_gt*cp)); // energy balance for the economiser entry(7') to the superheater exit(4')\n",
"disp('degree celsius',t_7,'(a)Exhaust gas temperature at stack is')\n",
"\n",
"// part(b)mass of steam per kg of gas\n",
"disp('kg',m_st/m_gt,'(b)mass of steam per kg of gas is')\n",
"\n",
"// part(c) Pinch Point(PP)\n",
"t_6=t_7+((m_st*(h_6s-h_7s))/(m_gt*cp)); // energy balance for the economiser\n",
"PP=t_6-t_6s;\n",
"disp('degree celsius',PP,'(c)Pinch Point(PP) is')\n",
"\n",
"// part(d)thermal efficiency of steam turbine plant\n",
"delh4s_7ss=(h_4s-h_7)*n_T;\n",
"n_st=delh4s_7ss/(h_4s-h_7s);\n",
"disp('%',n_st*100,'(d)thermal Efficiency of steam turbine plant is')\n",
"\n",
"// part(e) thermal efficiency of the combined cycle plant\n",
"n_B=0.978; // Assuming Combustion chamber Efficiency\n",
"Qs=102.72554; // heat supplied in the combustion chamber from Ex 18.9\n",
"Qss=Qs/n_B; // power supplied to the combined cycle\n",
"n_gst=(P_gt+P_st)/Qss;\n",
"disp ('%' ,n_gst*100,'(e)thermal Efficiency of combined gas and steam power plant is')\n",
"\n",
"// part(f)the dryness fraction of steam at the turbine exhaust\n",
"x=0.875; // from Mollier diagram at p=0.07 bar\n",
"disp(x,'(f)the dryness fraction of steam at the turbine exhaust is')\n",
""
   ]
   }
,
{
		   "cell_type": "markdown",
		   "metadata": {},
		   "source": [
			"## Example 18.11: Calculation_on_combined_cycle_power_plant.sce"
		   ]
		  },
  {
"cell_type": "code",
	   "execution_count": null,
	   "metadata": {
	    "collapsed": true
	   },
	   "outputs": [],
"source": [
"// scilab Code Exa 18.11 Calculation on combined cycle power plant\n",
"\n",
"P_gt=25.845; // Power Output of gas turbine plant in MW\n",
"P_st=21; // Power Output of steam turbine plant in MW\n",
"m_gt=115; // mass flow rate of the exhaust gas in kg/s\n",
"n_T=0.86; // Turbine Efficiency\n",
"gamma_g=1.33;\n",
"R=0.287;\n",
"cp=(gamma_g/(gamma_g-1))*R; // Specific Heat at Constant Pressure in kJ/(kgK)\n",
"T3=1341; // Maximum Temperature in gas turbine in degree K from Ex18.9\n",
"p1=84; // steam Pressure at the entry of steam turbine in bar\n",
"// from steam tables\n",
"t_6s=298.4; // saturation temperature at 84 bar in degree C\n",
"h_6s=1336.1; // from steam table liquid vapour enthalpy at 84 bar\n",
"pp(1)=20; // pinch point in degree C\n",
"pp(2)=28.2;\n",
"pp(3)=35;\n",
"\n",
"for i=1:3\n",
"    printf('\nfor PP=%d degree C\n',pp(i))\n",
"t_6=t_6s+pp(i);\n",
"h_4s=3460; // from mollier diagram at t=535 degree C\n",
"h_7=2050;\n",
"p_c=0.07; // Condenser pressure in bar\n",
"T4=875.92974; //from Ex 18.9\n",
"t4=T4-273; // in degree C\n",
"h_7s=163.4; // Specific Enthalpy of water in kJ/kg\n",
"\n",
"// part(a)steam flow per kg of gas\n",
"m_st_gt=cp*(t4-t_6)/(h_4s-h_6s); // steam flow per kg of gas\n",
"disp('kg',m_st_gt,'(a)steam flow per kg of gas is')\n",
"\n",
"// part(b)Exhaust gas temperature at stack\n",
"t_7=t_6-((m_st_gt*(h_6s-h_7s))/(cp)); // energy balance for the economiser entry(7') to the superheater exit(4')\n",
"disp('degree celsius',t_7,'(b)Exhaust gas temperature at stack is')\n",
"\n",
"// part(c)steam turbine plant output\n",
"h_7ss=2247;\n",
"P_st=m_st_gt*m_gt*(h_4s-h_7ss);\n",
"disp('MW',P_st/1e3,'(c)Power output of the steam turbine plant is')\n",
"\n",
"// part(d)thermal efficiency of steam turbine plant\n",
"delh4s_7ss=(h_4s-h_7)*n_T;\n",
"n_st=delh4s_7ss/(h_4s-h_7s);\n",
"disp('%',n_st*100,'(d)thermal Efficiency of steam turbine plant is')\n",
"\n",
"// part(e) thermal efficiency of the combined cycle plant\n",
"n_B=0.978; // Assuming Combustion chamber Efficiency\n",
"Qs=102.72554; // heat supplied in the combustion chamber from Ex 18.9\n",
"Qss=Qs/n_B; // power supplied to the combined cycle\n",
"n_gst=(P_gt+(P_st*1e-3))/Qss;\n",
"disp('%',n_gst*100,'(e)thermal Efficiency of combined gas and steam power plant is')\n",
"end\n",
"\n",
"disp('Comment: Error in Textbook, Answers vary due to Round-off Errors')"
   ]
   }
,
{
		   "cell_type": "markdown",
		   "metadata": {},
		   "source": [
			"## Example 18.12: turbo_prop_Gas_Turbine_Engine.sce"
		   ]
		  },
  {
"cell_type": "code",
	   "execution_count": null,
	   "metadata": {
	    "collapsed": true
	   },
	   "outputs": [],
"source": [
"// scilab Code Exa 18.12 turbo prop Gas Turbine Engine\n",
"\n",
"Ti=268.65; // in Kelvin\n",
"n_C=0.8; // Compressor Efficiency\n",
"c1=85; // entry velocity in m/s\n",
"m=50; // mass flow rate of air in kg/s\n",
"R=287;\n",
"gamma=1.4; // Specific Heat Ratio\n",
"cp=1.005; // Specific Heat at Constant Pressure in kJ/(kgK)\n",
"u=500/3.6; // speed of a turbo prop aircraft in m/s\n",
"delT=225; // temperature rise through the compressor(T02-T01) in K\n",
"pi=.701; // Initial Pressure in bar\n",
"n_D=0.88; // inlet diffuser efficiency\n",
"a_i=sqrt(gamma*R*Ti);\n",
"Mi=u/a_i;\n",
"Toi_i=1/0.965; // (Toi/Ti)from isentropic flow gas tables at Mi and gamma values\n",
"T01=Ti*Toi_i;\n",
"T1=T01-(0.5*(c1^2)/(cp*1e3));\n",
"\n",
"//part(a)\n",
"T1s_i=1+n_D*((T1/Ti)-1); // (T1s/Ti)isentropic temperature ratio through the diffuser\n",
"p1_i=T1s_i^(gamma/(gamma-1)); // (p1s/pi)isentropic pressure ratio\n",
"p1=p1_i*pi;\n",
"delp_D=p1-pi;\n",
"disp('bar',delp_D,'(a)isentropic pressure rise through the diffuser is')\n",
"\n",
"// part(b) compressor pressure ratio\n",
"T02s=T01+(delT*n_C);\n",
"r_oc=(T02s/T01)^(gamma/(gamma-1)); //compressor pressure ratio(p02/p01)\n",
"disp(r_oc,'(b)compressor pressure ratio is')\n",
"\n",
"// part(c)\n",
"P=m*cp*delT;\n",
"disp('MW',P*1e-3,'(c)power required to drive the compressor is')\n",
""
   ]
   }
,
{
		   "cell_type": "markdown",
		   "metadata": {},
		   "source": [
			"## Example 18.13: Turbojet_Gas_Turbine_Engine.sce"
		   ]
		  },
  {
"cell_type": "code",
	   "execution_count": null,
	   "metadata": {
	    "collapsed": true
	   },
	   "outputs": [],
"source": [
"// scilab Code Exa 18.13 Turbojet Gas Turbine Engine\n",
"\n",
"T1=223.15; // in Kelvin\n",
"n_C=0.75; // Compressor Efficiency\n",
"c1=85; // entry velocity in m/s\n",
"m=50; // mass flow rate of air in kg/s\n",
"R=287;\n",
"n_B=0.98; // Combustion chamber Efficiency\n",
"Qf=43*1e3; // Calorific Value of fuel in kJ/kg;\n",
"T03=1220;  // Turbine inlet stagnation temp in Kelvin\n",
"n_T=0.8; // Turbine Efficiency\n",
"gamma=1.4; // Specific Heat Ratio\n",
"n_m=0.98; // Mechanical efficiency\n",
"sigma=0.5; // flight to jet speed ratio(u/ce)\n",
"n_N=0.98; // exhaust nozzle efficiency\n",
"cp=1.005; // Specific Heat at Constant Pressure in kJ/(kgK)\n",
"u=886/3.6; // flight speed of a turbo prop aircraft in m/s\n",
"delT=200; // temperature rise through the compressor(T02-T01) in K\n",
"pi=.701; // Initial Pressure in bar\n",
"n_D=0.88; // inlet diffuser efficiency\n",
"a1=sqrt(gamma*R*T1);\n",
"M1=u/a1; // Mach number at the compressor inlet\n",
"T1_01=0.881; // (T1/T01)from isentropic flow gas tables at M1 and gamma values\n",
"T01=T1/T1_01;\n",
"T1=T01-(0.5*(c1^2)/(cp*1e3));\n",
"\n",
"// part(a) compressor pressure ratio\n",
"T02s=T01+(delT*n_C);\n",
"r_oc=(T02s/T01)^(gamma/(gamma-1)); //compressor pressure ratio(p02/p01)\n",
"disp(r_oc,'(a)compressor pressure ratio is')\n",
"\n",
"// part(b)\n",
"T02=T01+delT;\n",
"f=((cp*T03)-(cp*T02))/((Qf*n_B)-(cp*T03)); // f=(ma/mf);energy balance in the combustion chamber \n",
"disp(1/f,'(b)Air-Fuel Ratio is')\n",
"\n",
"// part(c) turbine pressure ratio\n",
"// turbine power input P_T=n_m*(ma+mf)*cp*(T03-T01)\n",
"// power input to the compressor P_C=ma*cp*(T02-T01)\n",
"T04s=T03-(delT/(n_m*n_T*(1+f))); // from energy balance P_T=P_C\n",
"r_ot=(T03/T04s)^(gamma/(gamma-1)); //turbine pressure ratio(p03/p04)\n",
"disp(r_ot,'(c)turbine pressure ratio is')\n",
"\n",
"// part(d)exhaust nozzle pressure ratio\n",
"ce=u/sigma; // jet velocity at the exit of the exhaust nozzle\n",
"T04=T03-(delT/(n_m*(1+f)));\n",
"Te=T04-(0.5*(ce^2)/(cp*1e3));\n",
"Tes=T04-((T04-Te)/n_N);\n",
"r_N=(T04/Tes)^(gamma/(gamma-1)); //exhaust nozzle pressure ratio(p04/pe)\n",
"disp(r_N,'(d)exhaust nozzle pressure ratio is')\n",
"ae=sqrt(gamma*R*Te);\n",
"Me=ce/ae; // Mach number\n",
"disp(Me,'and the Mach Number is')\n",
"\n",
""
   ]
   }
,
{
		   "cell_type": "markdown",
		   "metadata": {},
		   "source": [
			"## Example 18.15: Impulse_Steam_Turbine_3000_rpm.sce"
		   ]
		  },
  {
"cell_type": "code",
	   "execution_count": null,
	   "metadata": {
	    "collapsed": true
	   },
	   "outputs": [],
"source": [
"// scilab code Exa 18.15 Impulse Steam Turbine 3000 rpm\n",
"\n",
"P=500; // Power Output in kW\n",
"u=100; // peripheral speed of the rotor blades in m/s\n",
"cy2=200; // whirl component of the absolute velocity at entry of the rotor\n",
"cy3=0; // whirl component of the absolute velocity at exit of the rotor\n",
"alpha2=65; // nozzle angle at exit\n",
"n_st=0.69; // isentropic stage efficiency\n",
"p2=8; // steam pressure at the exit of the first stage in bar\n",
"t2=200; // steam temperature at the exit of the first stage in degree C\n",
"N=3e3; // rotor Speed in RPM\n",
"\n",
"//part(a)Mean diameter of the stage\n",
"d=u*60/(%pi*N);\n",
"disp('m',d,'(a)Mean diameter of the stage is')\n",
"\n",
"// part(b)mass flow rate of the steam\n",
"w_st=2*(u^2)*1e-3; // specific work\n",
"m=P/w_st;\n",
"disp('kg/s',m,'(b)mass flow rate of the steam is')\n",
"\n",
"// part(c)isentropic enthalpy drop\n",
"delh_s=w_st/n_st;\n",
"disp('kJ/kg',delh_s,'(c)isentropic enthalpy drop is')\n",
"\n",
"// part(d)rotor blade angles\n",
"cx=cy2/(tand(alpha2));\n",
"beta3=atand(u/cx);\n",
"disp('degree',beta3,'(d)the rotor blade angles are beta2=beta3=')\n",
"\n",
"// part(e)blade height at the nozzle exit\n",
"v_s2=0.2608; // from steam tables at p2=8bar and t2=200 degree C\n",
"Q=m*v_s2;\n",
"h=Q/(cx*%pi*d);\n",
"disp('m',h,'(e)blade height at the nozzle exit is')"
   ]
   }
,
{
		   "cell_type": "markdown",
		   "metadata": {},
		   "source": [
			"## Example 18.16: large_Centrifugal_pump_1000_rpm.sce"
		   ]
		  },
  {
"cell_type": "code",
	   "execution_count": null,
	   "metadata": {
	    "collapsed": true
	   },
	   "outputs": [],
"source": [
"// scilab Code Exa 18.16 large Centrifugal pump 1000rpm\n",
"\n",
"N=1e3; // rotor Speed in RPM\n",
"H=45; // height in m\n",
"ro=1e3;\n",
"g=9.81; // Gravitational acceleration in m/s^2\n",
"n_o=0.75; // overall Efficiency of the drive\n",
"dr=2; // diameter ratio(d2/d1)\n",
"phi=0.35; // flow coefficient(cr2/u2)\n",
"Q=2.5; // discharge in m3/s\n",
"\n",
"//part(a)Power required to drive the pump\n",
"P=(ro*Q*g*H)/(n_o);\n",
"disp('kW',P*1e-3,'(a)Power required to drive the pump is')\n",
"\n",
"// part(b) impeller diameters at entry and exit\n",
"u2=sqrt(g*H);\n",
"w_p=u2^2;\n",
"d2=u2*60/(%pi*N);\n",
"disp('cm',d2*1e2,'(b)the impeller diameter at exit is')\n",
"d1=d2/2;\n",
"disp('cm',d1*1e2,'and the impeller diameter at entry is')\n",
"\n",
"//part(c) impeller width\n",
"c_r2=phi*u2;\n",
"b=Q/(c_r2*%pi*d2);\n",
"disp('cm',b*1e2,'(c)the impeller width is')\n",
"\n",
"// part(d)impeller blade angle at the entry\n",
"c_r1=Q/(b*%pi*d1);\n",
"u1=u2/dr;\n",
"beta1=atand(c_r1/u1);\n",
"disp('degree',beta1,'(d)the impeller blade angle at the entry beta1=')"
   ]
   }
,
{
		   "cell_type": "markdown",
		   "metadata": {},
		   "source": [
			"## Example 18.17: three_stage_steam_turbine.sce"
		   ]
		  },
  {
"cell_type": "code",
	   "execution_count": null,
	   "metadata": {
	    "collapsed": true
	   },
	   "outputs": [],
"source": [
"// scilab Code Exa 18.17 three stage steam turbine\n",
"\n",
"t1=250;  // Initial Temperature in degree C\n",
"n_T=0.75; // overall Efficiency of the turbine\n",
"p1=10; //Initial Pressure in bar\n",
"n_m=0.98; // Mechanical Efficiency\n",
"m=5;\n",
"N=1e3; // rotor Speed in RPM\n",
"H=45; // height in m\n",
"ro=1e3;\n",
"g=9.81; // Gravitational acceleration in m/s^2\n",
"Q=2.5; // discharge in m3/s\n",
"\n",
"P=(ro*Q*g*H)/(n_T);\n",
"delh_T=P/(m*n_m*1e3);\n",
"delh_st=delh_T/3;\n",
"delh1_4ss=delh_T/n_T;\n",
"\n",
"//part(a)steam conditions\n",
"h1=2940; // from Mollier diagram\n",
"disp('(a)steam conditions at the turbine exit are:')\n",
"h_4ss=h1-delh1_4ss;\n",
"p4=1.2; // in bar\n",
"disp('bar',p4,'pressure:')\n",
"h4=2640;\n",
"x4=0.98;\n",
"t4=104.8; // in degree C\n",
"disp('degree C',t4,'temperature:')\n",
"disp(x4,'the dryness fraction is:')\n",
"\n",
"// part(b)stage Efficiencies\n",
"h2=h1-delh_st;\n",
"p2=5;\n",
"h3=h2-delh_st;\n",
"p3=2.5;\n",
"h4=h3-delh_st;\n",
"h2s=2795;\n",
"h3s=2705;\n",
"h4s=2605;\n",
"n_st1=delh_st/(h1-h2s);\n",
"n_st2=delh_st/(h2-h3s);\n",
"n_st3=delh_st/(h3-h4s);\n",
"disp ('%',n_st1*100,'(b)Efficiency of the first stage is')\n",
"disp ('%',n_st2*100,'Efficiency of the second stage is')\n",
"disp ('%',n_st3*100,'Efficiency of the third stage is')"
   ]
   }
,
{
		   "cell_type": "markdown",
		   "metadata": {},
		   "source": [
			"## Example 18.18: Ljungstrom_turbine_3600_rpm.sce"
		   ]
		  },
  {
"cell_type": "code",
	   "execution_count": null,
	   "metadata": {
	    "collapsed": true
	   },
	   "outputs": [],
"source": [
"// scilab Code Exa 18.18 Ljungstrom turbine 3600 rpm\n",
"\n",
"d1=0.92; // inner diameter of the impeller in m\n",
"d2=1; // outer diameter of the impeller in m\n",
"N=3.6e3; // rotor Speed in RPM\n",
"aplha_1=20; // blade exit angle in degree\n",
"p2=0.1; //exit Pressure of steam in bar\n",
"x2=0.88; // dryness fraction at exit\n",
"n_st=0.83; // stage Efficiency\n",
"u1=%pi*d1*N/60;\n",
"u2=%pi*d2*N/60;\n",
"\n",
"//part(a)power developed\n",
"sigma=cosd(aplha_1)/2;\n",
"w_st=u1^2+u2^2;\n",
"disp('kW/(kg/s)',w_st*1e-3,'(a)power developed per unit flow rate is')\n",
"\n",
"//part(b) isentropic enthalpy drop\n",
"delh_s=w_st/n_st;\n",
"disp('kJ/kg',delh_s*1e-3,'(b)isentropic enthalpy drop is')\n",
"\n",
"// part(c)steam conditions at entry\n",
"disp('(c)steam conditions at entry are:')\n",
"p1=0.18; // in bar\n",
"disp('bar',p1,'pressure:')\n",
"x1=0.9;\n",
"disp(x1,'the dryness fraction is:')"
   ]
   }
,
{
		   "cell_type": "markdown",
		   "metadata": {},
		   "source": [
			"## Example 18.19: blower_type_wind_tunnel.sce"
		   ]
		  },
  {
"cell_type": "code",
	   "execution_count": null,
	   "metadata": {
	    "collapsed": true
	   },
	   "outputs": [],
"source": [
"// scilab Code Exa 18.19 blower type wind tunnel \n",
"\n",
"T01=310;  // in Kelvin\n",
"p01=1.013; //  Initial Pressure in bar\n",
"n_n=0.96; // nozzle efficiency\n",
"n_c=0.78; // compressor efficiency\n",
"Ma(1)=0.5;\n",
"Ma(2)=0.9;\n",
"pi(1)=0.837; // from isentropic flow gas tables\n",
"pi(2)=0.575;\n",
"gamma=1.4; // Specific Heat Ratio\n",
"R=287;\n",
"cp=1.005; // Specific Heat at Constant Pressure in kJ/(kgK)\n",
"\n",
"for i=1:2\n",
"printf('when Ma=%f',Ma(i))\n",
"//part(a)\n",
"Ms=((n_n/(Ma(i)^2))-(((gamma-1)/2)*(1-n_n)))^(-1/2);\n",
"disp(Ms,'(a)Mach number for isentropic flow is')\n",
"\n",
"// part(b)\n",
"p0e=1;\n",
"p_r0(i)=p0e/pi(i);\n",
"disp(p_r0(i),'(b)pressure ratio of the compressor is')\n",
"\n",
"// part(c)\n",
"delT0e_0i=((p_r0(i)^((gamma-1)/gamma))-1)/n_c;\n",
"T0e=T01+(T01*delT0e_0i);\n",
"delT0e_t=n_n*(1-(p_r0(i)^((1-gamma)/gamma)))*T0e;\n",
"T_t=T0e-delT0e_t;\n",
"disp('K',T_t,'(c)the test section temperature is')\n",
"a_t=sqrt(gamma*R*T_t);\n",
"c_t=Ma(i)*a_t;\n",
"disp('m/s',c_t,'and the test section velocity is')\n",
"\n",
"// part(d)\n",
"ro_t=p01*1e5/(R*T_t);\n",
"A_t=0.17*0.15;\n",
"m=ro_t*A_t*c_t;\n",
"disp('kg/s',m,'(d)mass flow rate is')\n",
"\n",
"// part(e)\n",
"P(1)=m*cp*(T0e-T01);\n",
"P(2)=m*cp*(T_t-T01);\n",
"disp('kW',P(i),'(e)power required for the compressor is')\n",
"end"
   ]
   }
,
{
		   "cell_type": "markdown",
		   "metadata": {},
		   "source": [
			"## Example 18.1: Gas_Turbine_nozzle_row.sce"
		   ]
		  },
  {
"cell_type": "code",
	   "execution_count": null,
	   "metadata": {
	    "collapsed": true
	   },
	   "outputs": [],
"source": [
"// scilab Code Exa 18.1 Gas Turbine nozzle row \n",
"\n",
"T1=600;  // Entry Temperature of the gas in Kelvin\n",
"p1=10; // Inlet Pressure in bar\n",
"gamma_g=1.3;\n",
"delT=32; // Temperature drop of the gas(T1-T2) in K\n",
"cp_g=1.23*1e3; // Specific Heat of gas at Constant Pressure in kJ/(kgK)\n",
"pr1_2=1.3; // pressure ratio(p1/p2)\n",
"T2s=T1/(pr1_2^((gamma_g-1)/gamma_g));\n",
"delTs=T1-T2s;\n",
"\n",
"// part(a) nozzle efficiency\n",
"n_N=delT/delTs;\n",
"disp('%',n_N*100,'(a) nozzle efficiency is')\n",
"\n",
"// part(b)\n",
"disp('(b)(i)for ideal flow:')\n",
"p2=p1/pr1_2;\n",
"h_01=cp_g*T1;\n",
"h2s=cp_g*T2s;\n",
"c_2s=sqrt((h_01-h2s)/0.5);\n",
"disp('m/s',c_2s,'the nozzle exit velocity is')\n",
"R_g=cp_g*((gamma_g-1)/gamma_g);\n",
"M_2s=c_2s/(sqrt(gamma_g*R_g*T2s));\n",
"disp(M_2s,'and the Mach number is')\n",
"disp('(b)(ii)for actual flow:')\n",
"T2=T1-delT;\n",
"a2=sqrt(gamma_g*R_g*T2);\n",
"c_2=sqrt((cp_g*delT)/0.5);\n",
"disp('m/s',c_2,'the nozzle exit velocity is')\n",
"M2=c_2/a2;\n",
"disp(M2,'and the Mach number is')\n",
"\n",
"// part(c) stagnation pressure loss across the nozzle\n",
"p01=p1;\n",
"p02=p2/0.79; // from isentropic gas tables p2/p02=0.79 at gamma=1.3 and M2=0.613\n",
"delp0=p01-p02;\n",
"disp('bar',delp0,'(c)the stagnation pressure loss across the nozzle is')\n",
"\n",
"// part(d) nozzle efficiency based on stagnation pressure loss\n",
"delp=p1-p2;\n",
"n_N_a=1-(delp0/delp);\n",
"disp('%',n_N_a*100,'(d)the nozzle efficiency based on stagnation pressure loss is')"
   ]
   }
,
{
		   "cell_type": "markdown",
		   "metadata": {},
		   "source": [
			"## Example 18.20: Calculation_on_an_axial_turbine_cascade.sce"
		   ]
		  },
  {
"cell_type": "code",
	   "execution_count": null,
	   "metadata": {
	    "collapsed": true
	   },
	   "outputs": [],
"source": [
"// scilab Code Exa 18.20 Calculation on an axial turbine cascade\n",
"\n",
"beta1=35; //  blade angle at entry\n",
"beta2=55; // blade angle at exit\n",
"i(1)=5; // incidence\n",
"i(2)=10;\n",
"i(3)=15;\n",
"i(4)=20;\n",
"delta=2.5; // deviation\n",
"alpha2=beta2-delta; // air angle at exit\n",
"a_r=2.5; // aspect ratio(h/l)\n",
"\n",
"n=4;\n",
"for m=1:n\n",
"//part(a)\n",
"printf('\nfor incidence=%d\n',i(m))\n",
"alpha1=beta1+i(m); // air angle at entry\n",
"ep=alpha1+alpha2; // deflection angle\n",
"disp('degree',ep,'(a)flow deflection is')\n",
"p_c=0.505; //(s/l)\n",
"\n",
"//part(b) loss coefficient from Hawthorne relations\n",
"\n",
"z_p=0.025*(1+((ep/90)^2)); // Hawthorne's relation\n",
"disp (z_p,'(b)the profile loss coefficient from Hawthorne relation is')\n",
"z=(1+(3.2/a_r))*z_p; // the total cascade loss coefficient\n",
"disp (z,'and the total loss coefficient is')\n",
"Y=z; \n",
"\n",
"// part(c)drag and lift coefficients\n",
"alpham=atand((0.5*(tand(alpha2)-tand(alpha1))));\n",
"C_D=p_c*Y*((cosd(alpham)^3)/(cosd(alpha2)^2));\n",
"disp (C_D,'(c)the drag coefficient is')\n",
"\n",
"C_L=(2*p_c*(tand(alpha1)+tand(alpha2))*cosd(alpham))+(C_D*tand(alpham));\n",
"disp (C_L,'and the Lift coefficient is')\n",
"end"
   ]
   }
,
{
		   "cell_type": "markdown",
		   "metadata": {},
		   "source": [
			"## Example 18.21: low_reaction_turbine_stage.sce"
		   ]
		  },
  {
"cell_type": "code",
	   "execution_count": null,
	   "metadata": {
	    "collapsed": true
	   },
	   "outputs": [],
"source": [
"// scilab Code Exa 18.21 low reaction turbine stage\n",
"\n",
"Beta2=35; // rotor blade air angle in degree\n",
"alpha1=0; // fixed blade air angle in degree\n",
"alpha2=65;\n",
"beta3=52.5;\n",
"I(1)=0; // incidence angle\n",
"I(2)=5;\n",
"I(3)=10;\n",
"I(4)=15;\n",
"I(5)=20;\n",
"a_r=2.5; // aspect ratio(h/l)\n",
"\n",
"for i=1:5\n",
"disp('degree',I(i),'when incidence=')\n",
"beta2(i)=Beta2+I(i); // beta2 varies with incidence\n",
"\n",
"//part(a)\n",
"phi=cosd(alpha2)*cosd(beta2(i))/(sind(alpha2-beta2(i)));\n",
"ep=alpha1+alpha2; // deflection angle\n",
"disp(phi,'(a)flow coefficient is')\n",
"p_c=0.505; //pitch-chord ratio(s/l)\n",
"\n",
"//part(b)blade to gas speed ratio\n",
"sigma=sind(alpha2-beta2(i))/(cosd(beta2(i)));\n",
"disp(sigma,'(b)blade to gas speed ratio is')\n",
"z_N=2.28*0.025*(1+((ep/90)^2)); // Hawthorne's relation\n",
"\n",
"// part(c)degree of reaction\n",
"R=0.5*phi*(tand(beta3)-tand(beta2(i)));\n",
"disp('%',R*1e2,'(c)the degree of reaction is')\n",
"\n",
"// part(d)total-to-total efficiency\n",
"e_R=beta2(i)+beta3; // Rotor deflection angle\n",
"zeeta_p_R=0.025*(1+((e_R/90)^2)); // profile loss coefficient for rotor\n",
"zeeta_R=(1+(3.2/a_r))*zeeta_p_R; // total loss coefficient for rotor\n",
"a=(zeeta_R*(secd(beta3)^2))+(z_N*(secd(alpha2)^2));\n",
"b=phi*(tand(alpha2)+tand(beta3))-1;\n",
"n_tt=inv(1+(0.5*(phi^2)*(a/b)));\n",
"disp('%',n_tt*1e2,'(d)total-to-total efficiency is')\n",
"\n",
"end\n",
""
   ]
   }
,
{
		   "cell_type": "markdown",
		   "metadata": {},
		   "source": [
			"## Example 18.22: Isentropic_or_Stage_Terminal_Velocity_for_Turbines.sce"
		   ]
		  },
  {
"cell_type": "code",
	   "execution_count": null,
	   "metadata": {
	    "collapsed": true
	   },
	   "outputs": [],
"source": [
"// scilab Code Exa 18.22 Isentropic or Stage Terminal Velocity for Turbines \n",
"\n",
"T01=1273;  // in Kelvin\n",
"funcprot(0);\n",
"p01=5; //  Initial Pressure in bar\n",
"p02=3.5; //  exit gas Pressure in bar\n",
"cp=1.005; // Specific Heat at Constant Pressure in kJ/(kgK)\n",
"gamma=1.4; // Specific Heat Ratio\n",
"m=28; // mass flow rate of the gas in kg/s\n",
"n_tt=0.84; // stage efficiency\n",
"shi=1.7; // stage loading coefficient\n",
"pr_0=p01/p02;\n",
"delh01_03ss=cp*T01*(1-(pr_0^((1-gamma)/gamma)));\n",
"\n",
"//part(a)stage terminal velocity\n",
"c0=sqrt(2*delh01_03ss*1e3);\n",
"disp('m/s',c0,'(a)stage terminal velocity is')\n",
"\n",
"// part(b)isentropic blade to gas speed ratio\n",
"sigma_s=sqrt(0.5*n_tt/shi);\n",
"disp(sigma_s,'(b)the isentropic blade to gas speed ratio is')\n",
"\n",
"//part(c) peripheral speed of the rotor\n",
"u=sigma_s*c0;\n",
"disp('m/s',u,'(c)peripheral speed of the rotor is')\n",
"\n",
"//part(d) the power developed\n",
"P=m*n_tt*delh01_03ss;\n",
"disp('MW',P*1e-3,'(d) the power developed is')"
   ]
   }
,
{
		   "cell_type": "markdown",
		   "metadata": {},
		   "source": [
			"## Example 18.23: axial_compressor_stage_efficiency.sce"
		   ]
		  },
  {
"cell_type": "code",
	   "execution_count": null,
	   "metadata": {
	    "collapsed": true
	   },
	   "outputs": [],
"source": [
"// scilab Code Exa 18.23 axial compressor stage efficiency \n",
"\n",
"R=0.5; // Degree of reaction\n",
"n_R=0.849; // efficiency of rotor blade row\n",
"n_D=0.849; // efficiency of diffuser blade row\n",
"n_st=R*n_R+(1-R)*n_D;\n",
"disp('%',n_st*1e2,'the value of stage efficiency is')"
   ]
   }
,
{
		   "cell_type": "markdown",
		   "metadata": {},
		   "source": [
			"## Example 18.24: Calculation_on_an_axial_compressor_cascade.sce"
		   ]
		  },
  {
"cell_type": "code",
	   "execution_count": null,
	   "metadata": {
	    "collapsed": true
	   },
	   "outputs": [],
"source": [
"// scilab Code Exa 18.24 Calculation on an axial compressor cascade \n",
"\n",
"beta1=51;\n",
"beta2=9;\n",
"alpha_1=7;  //  air angle at rotor and stator exit\n",
"u=100; // test section velocity of air in m/s\n",
"cx=u/(tand(alpha_1)+tand(beta1));\n",
"w1=cx/cosd(beta1);\n",
"alpha2=atand(tand(alpha_1)+tand(beta1)-tand(beta2))\n",
"c2=cx/cosd(alpha2);\n",
"Y_D=0.0367; // loss coefficient for diffuser blade row\n",
"Y_R=0.0393; // loss coefficient for rotor blade row\n",
"z_R=Y_R*((w1/u)^2);\n",
"z_D=Y_D*((c2/u)^2);\n",
"phi=cx/u;\n",
"n_st=1-(0.5*phi*(z_D*(secd(alpha2)^2)+z_R*(secd(beta1)^2))/(tand(beta1)-tand(beta2)));\n",
"disp('%',n_st*1e2,'the value of stage efficiency is')"
   ]
   }
,
{
		   "cell_type": "markdown",
		   "metadata": {},
		   "source": [
			"## Example 18.25: Calculation_on_two_stage_axial_compressor.sce"
		   ]
		  },
  {
"cell_type": "code",
	   "execution_count": null,
	   "metadata": {
	    "collapsed": true
	   },
	   "outputs": [],
"source": [
"// scilab Code Exa 18.25 Calculation on two stage axial compressor \n",
"\n",
"T01=310;  // in Kelvin\n",
"funcprot(0);\n",
"gamma=1.4;\n",
"p01=1.02; //  Initial Pressure in bar\n",
"pr_o=2;\n",
"pr_o1=1.5;\n",
"N=7.2e3; // rotor Speed in RPM\n",
"d=65/100; // Mean Blade ring diameter in m\n",
"h=10/100; // blade height at entry in m\n",
"n_p=0.9; // polytropic efficiency\n",
"wdf=0.87; // work-done factor\n",
"m=25; //  in kg/s \n",
"cp=1.005; // Specific Heat at Constant Pressure in kJ/(kgK)\n",
"R=287;\n",
"T01(1)=T01;\n",
"// part(a) stage pressure ratio\n",
"pr_o2=pr_o/pr_o1;\n",
"disp(pr_o2,'(a)pressure ratio developed by the 2nd stage is')\n",
"\n",
"//part(b) stage efficiency\n",
"n=(gamma-1)/gamma;\n",
"n_st1=((pr_o1^n)-1)/((pr_o1^(n/n_p))-1);\n",
"disp('%',n_st1*1e2,'(b)stage efficiency for the stage 1 is')\n",
"n_st2=((pr_o2^n)-1)/((pr_o2^(n/n_p))-1);\n",
"disp('%',n_st2*1e2,'and stage efficiency for the stage 2 is')\n",
"// part(c)power required to drive the compressor\n",
"T02=T01*(pr_o1^((gamma-1)/gamma));\n",
"P1=m*cp*(T02-T01)/n_st1;\n",
"disp('kW',P1,'(c) power required for the 1st stage is')\n",
"T02s=T01+(T01*(pr_o1^((gamma-1)/gamma)-1)/n_st1);\n",
"P2=m*cp*T02s*(pr_o2^((gamma-1)/gamma)-1)/n_st2;\n",
"disp('kW',P2,'and power required for the 2nd stage is')\n",
"\n",
"\n",
"\n",
"// part(d) air angles of the rotors and stators\n",
"A1=%pi*d*h;\n",
"ro_01=(p01*1e5)/(R*T01);\n",
"cx=m/(ro_01*A1);\n",
"    T1=T01-((cx^2)/(2*cp*1e3));\n",
"    p1=p01*((T1/T01)^(1/((gamma-1)/gamma)));\n",
"ro1=(p1*1e5)/(R*T1);\n",
"cx_new=m/(ro1*A1);\n",
"c1=cx_new;\n",
"disp('for first stage')\n",
"u=%pi*d*N/60;\n",
"beta1=atand(u/c1);\n",
"disp('degree',beta1,'beta1=')\n",
"wst1=cp*(T02-T01)*1e3/n_st1;\n",
"cy2=wst1/(wdf*u);\n",
"alpha2=atand(cy2/cx_new);\n",
"disp('degree',alpha2,'alpha2=')\n",
"beta2=atand((u/cx_new)-tand(alpha2));\n",
"disp('degree',beta2,'beta2=')\n",
"R=cx_new*(tand(beta1)+tand(beta2))*100/(2*u);\n",
"disp('%',R,'degree of reaction for the first stage is')\n",
"\n",
"T01_II=T02s;\n",
"disp('for second stage')\n",
"T02_II=T01_II*(pr_o2^((gamma-1)/gamma));\n",
"wst2=cp*1e3*(T02_II-T01_II)/n_st2;\n",
"alpha1s=beta2;\n",
"cy1s=cx_new*tand(alpha1s);\n",
"cy2s=(cy1s)+(wst2/(wdf*u));\n",
"alpha2s=atand(cy2s/cx_new);\n",
"disp('degree',alpha2s,'alpha2s=')\n",
"beta1s=atand((u-cy1s)/cx_new);\n",
"disp('degree',beta1s,'beta1s=')\n",
"beta2s=atand((u-cy2s)/cx_new);\n",
"disp('degree',beta2s,'beta2s=')\n",
"R_II=cx_new*(tand(beta1s)+tand(beta2s))*100/(2*u);\n",
"disp('%',R_II,'Degree of Reaction for the second stage is')"
   ]
   }
,
{
		   "cell_type": "markdown",
		   "metadata": {},
		   "source": [
			"## Example 18.26: Calculation_on_an_axial_compressor_cascade.sce"
		   ]
		  },
  {
"cell_type": "code",
	   "execution_count": null,
	   "metadata": {
	    "collapsed": true
	   },
	   "outputs": [],
"source": [
"// scilab Code Exa 18.24 Calculation on an axial compressor cascade \n",
"\n",
"R=0.5906; // Degree of reaction\n",
"beta1=66;\n",
"beta2=22;\n",
"alpha2=61;\n",
"p_R=0.865; // pitch-chord ratio(s/l) for rotor\n",
"p_S=0.963; // pitch-chord ratio(s/l) for stator\n",
"alpha_3=beta2; //  air angle at rotor and stator exit\n",
"u=100; // test section velocity of air in m/s\n",
"Y_D=0.077; // profile loss coefficient for stator blade row\n",
"Y_R=0.08; // loss coefficient for rotor blade row\n",
"beta_m=atand(0.5*(tand(beta1)+tand(beta2)));\n",
"C_D_R=p_R*Y_R*(cosd(beta_m)^3)/(cosd(beta1)^2);\n",
"C_L_R=(2*p_R*(tand(beta1)-tand(beta2))*cosd(beta_m))-(C_D_R*tand(beta_m));\n",
"n_R=1-(2*C_D_R/(C_L_R*sind(2*beta_m)));\n",
"disp('%',n_R*1e2,'the value of rotor cascade efficiency is')\n",
"\n",
"alpham=atand(0.5*(tand(alpha2)+tand(alpha_3)));\n",
"C_D_S=p_S*Y_D*(cosd(alpham)^3)/(cosd(alpha2)^2);\n",
"C_L_S=(2*p_S*(tand(alpha2)-tand(alpha_3))*cosd(alpham))-(C_D_S*tand(alpham));\n",
"n_D=1-(2*C_D_S/(C_L_S*sind(2*alpham)));\n",
"disp('%',n_D*1e2,'the value of diffuser cascade efficiency is')\n",
"\n",
"n_st=R*n_R+(1-R)*n_D;\n",
"disp('%',n_st*1e2,'the value of stage efficiency is')"
   ]
   }
,
{
		   "cell_type": "markdown",
		   "metadata": {},
		   "source": [
			"## Example 18.27: Isentropic_Flow_Centrifugal_Air_compressor.sce"
		   ]
		  },
  {
"cell_type": "code",
	   "execution_count": null,
	   "metadata": {
	    "collapsed": true
	   },
	   "outputs": [],
"source": [
"// scilab Code Exa 18.27 Isentropic Flow-centrifugal Air compressor \n",
"\n",
"T01=335;  // in Kelvin\n",
"p01=1.02; //  Initial Pressure in bar\n",
"beta1=61.4; // air angle at the inlet of axial inducer blades\n",
"gamma=1.4;\n",
"d1=0.175; // Mean Blade ring diameter at entry\n",
"d2=0.5; // impeller diameter at exit\n",
"cp=1005; // Specific Heat at Constant Pressure in J/(kgK)\n",
"A1=0.0412; // Area of cross section at the impeller inlet\n",
"R=287;\n",
"\n",
"N(1)=5700; // rotor Speed in RPM\n",
"N(2)=6200;\n",
"N(3)=6700;\n",
"N(4)=7200;\n",
"for i=1:4\n",
"printf('\n for N=%d rpm\n\n',N(i))\n",
"u1=%pi*d1*N(i)/60;\n",
"u2=%pi*d2*N(i)/60;\n",
"c1=u1*tand(beta1);\n",
"T1=T01-((c1^2)/(2*cp));\n",
"p1=p01*((T1/T01)^(gamma/(gamma-1)));\n",
"ro1=(p1*1e5)/(R*T1);\n",
"pr0=((1+(u2^2/(cp*T01)))^(gamma/(gamma-1)));\n",
"disp(pr0,'(a)pressure ratio is')\n",
"m=ro1*A1*c1;\n",
"disp('kg/s',m,'(b)mass flow rate of air is')\n",
"T02=T01*(pr0^((gamma-1)/gamma));\n",
"P=m*cp*(T02-T01);\n",
"disp('kW',P*1e-3,'(c)Power required to drive the compressor P=')\n",
"end\n",
""
   ]
   }
,
{
		   "cell_type": "markdown",
		   "metadata": {},
		   "source": [
			"## Example 18.28: centrifugal_Air_compressor.sce"
		   ]
		  },
  {
"cell_type": "code",
	   "execution_count": null,
	   "metadata": {
	    "collapsed": true
	   },
	   "outputs": [],
"source": [
"// scilab Code Exa 18.28 centrifugal Air compressor \n",
"T01=335;  // in Kelvin\n",
"p01=1.02; //  Initial Pressure in bar\n",
"beta1=61.4; // air angle at the inlet of axial inducer blades\n",
"gamma=1.4;\n",
"N=7200; // rotor Speed in RPM\n",
"d1=0.175; // Mean Blade ring diameter at entry\n",
"d2=0.5; // impeller diameter at exit\n",
"cp=1005; // Specific Heat at Constant Pressure in J/(kgK)\n",
"A1=0.0412; // Area of cross section at the impeller inlet\n",
"R=287;\n",
"b2=A1/(%pi*d2);\n",
"disp('cm',b2*1e2,'(a)width of the impeller at exit is')\n",
"u2=%pi*d2*N/60; \n",
"//for N=7200 rpm\n",
"p1=0.9444579; // from Ex18.27  \n",
"pr=1.4206988; //pressure ratio \n",
"m=5.0061078; //mass flow rate of air in kg/s   \n",
"T02=370.35381;\n",
"ro2=1.1; //trial and error\n",
"cr2(1)=m/(A1*ro2);\n",
"n=2;\n",
"for i=1:n\n",
"    c2(i)=sqrt(cr2(i)^2+(u2^2));\n",
"    T2=T02-((c2(i)^2)/(2*cp));\n",
"    p02=pr*p01;\n",
"    p2=p02*((T2/T02)^(1/((gamma-1)/gamma)));\n",
"ro2=(p2*1e5)/(R*T2);\n",
"cr2(i+1)=m/(ro2*A1);\n",
"end\n",
"cr=cr2(3);\n",
"disp(p2/p1,'(b)the static pressure ratio is')\n",
"\n",
"//part(c)\n",
"alpha2=atand(cr/u2);\n",
"disp('degree',alpha2,'(c)the direction alpha2 of the absolute velocity vector(c2) or the diffuser angle at entry is')"
   ]
   }
,
{
		   "cell_type": "markdown",
		   "metadata": {},
		   "source": [
			"## Example 18.29: Centrifugal_compressor_with_vaned_diffuser.sce"
		   ]
		  },
  {
"cell_type": "code",
	   "execution_count": null,
	   "metadata": {
	    "collapsed": true
	   },
	   "outputs": [],
"source": [
"// scilab Code Exa 18.29 Centrifugal compressor with vaned diffuser \n",
"T01=310;  // in Kelvin\n",
"p01=1.103; //  Initial Pressure in bar\n",
"dh=0.10; // hub diameter in m\n",
"d2=0.55; // impeller diameter in m\n",
"c1=100; // Velocity of air at the entry of inducer\n",
"c3=c1; // Velocity of air at diffuser exit\n",
"shi=1.035; // power input factor\n",
"mu=0.9; // slip factor\n",
"m=7.5; //  in kg/s\n",
"gamma=1.4;\n",
"N=15e3; // rotor Speed in RPM\n",
"disp('(a)for radially tipped blades')\n",
"cp=1005; // Specific Heat at Constant Pressure in J/(kgK)\n",
"R=287;\n",
"n_tt=0.81; // total to total efficiency\n",
"T1=T01-((c1^2)/(2*cp));\n",
"p1=p01*((T1/T01)^(gamma/(gamma-1)));\n",
"ro1=(p1*1e5)/(R*T1);\n",
"A1=m/(ro1*c1);\n",
"dt=sqrt((A1*4/(%pi))+(dh^2));\n",
"disp('cm',dt*1e2,'(i)tip diameter of the inducer at entry is')\n",
"d1=0.5*(dt+dh); // Mean Blade ring diameter\n",
"u1=%pi*d1*N/60;\n",
"w1=sqrt((u1^2)+(c1^2));\n",
"a1=sqrt(gamma*R*T1);\n",
"M1_rel=w1/a1;\n",
"disp(M1_rel,'(ii)the Relative Mach number at inducer blade entry Mw1=')\n",
"u2=%pi*d2*N/60;\n",
"w_st=shi*mu*(u2^2);\n",
"T02=T01+(w_st/cp);\n",
"T02s=T01+(n_tt*(T02-T01));\n",
"pr_0=(T02s/T01)^(gamma/(gamma-1));\n",
"disp(pr_0,'(iii)stagnation pressure ratio developed is')\n",
"P=m*cp*(T02-T01);\n",
"disp('kW',P*1e-3,'(iv)the power required is')\n",
"disp('(b)for vaned diffuser')\n",
"c_theta2=mu*u2; // velocity of whirl(swirl component) at the impeller exit\n",
"// vaneless space between the impeller exit and the vaned diffuser entry=0.1*impeller radius\n",
"//r2s=r2*1.1;\n",
"// width of the casing after the impeller exit=1.4*impeller passage width\n",
"c_theta2s=c_theta2/(1.1*1.4);\n",
"cr2=c1;\n",
"cr2s=cr2/(1.1*1.4);\n",
"c2s=sqrt((cr2s^2)+(c_theta2s^2));\n",
"alpha2s=atand(cr2s/c_theta2s);\n",
"disp('degree',alpha2s,'(i)the direction of flow at the diffuser entry is alpha2s=')\n",
"T2s=T02-((c2s^2)/(2*cp));\n",
"a2s=sqrt(gamma*R*T2s);\n",
"M2s=c2s/a2s;\n",
"disp(M2s,'(ii)the Mach number at the diffuser entry is')\n",
"Ar=c2s/c3;\n",
"d3_2s=1.16; // d3/d2s from last trial given in the book\n",
"alpha3=acosd(cosd(alpha2s)/d3_2s);\n",
"Ar_v=d3_2s*sind(alpha3)/(sind(alpha2s));\n",
"disp(Ar_v,'(iii)Area ratio of the vaned diffuser is')\n",
"T03=T02;\n",
"T3=T03-((c3^2)/(2*cp));\n",
"pr3_1=(((T3*T01)/(T1*T03))^(gamma/(gamma-1)))*pr_0;\n",
"disp(pr3_1,'(iv)the static pressure ratio of the compressor is')\n",
"disp('comment: Calculations in the book are wrong in the beginning itself for p1. so the values slightly differs here only for part(a)')"
   ]
   }
,
{
		   "cell_type": "markdown",
		   "metadata": {},
		   "source": [
			"## Example 18.2: Steam_Turbine_nozzle.sce"
		   ]
		  },
  {
"cell_type": "code",
	   "execution_count": null,
	   "metadata": {
	    "collapsed": true
	   },
	   "outputs": [],
"source": [
"// scilab Code Exa 18.2 Steam Turbine nozzle \n",
"\n",
"t1=550;  // Entry Temperature in Kelvin\n",
"p1=170; // Inlet Pressure in bar\n",
"p2=120.7; // Exit Pressure in bar\n",
"d=1; // Mean Blade ring diameter in m\n",
"alpha_2=70;  // nozzle angle in degree\n",
"gamma_g=1.3; // for superheated steam\n",
"R=0.5*1e3; // in J/kgK\n",
"m=280; // in kg/s\n",
"\n",
"// part(a) exit velocity c2 of steam\n",
"h1=3440; // from superheated steam tables at p1 and t1\n",
"h2=3350; // at p2\n",
"t2=503; // at p2 in degree C\n",
"v_s2=0.0268; // Specific Volume at p2 in m3/kg\n",
"c_2=sqrt((h1-h2)*1e3/0.5);\n",
"disp('m/s',c_2,'(a)the nozzle exit velocity is')\n",
"\n",
"// part(b)\n",
"T2=t2+273;\n",
"a2=sqrt(gamma_g*R*T2);\n",
"M2=c_2/a2;\n",
"disp(M2,'(b)and the exit Mach number is')\n",
"\n",
"// part(c)\n",
"cx=c_2*cosd(alpha_2);\n",
"h=m*v_s2/(%pi*cx*d);\n",
"disp('cm',h*1e2,'(c)nozzle blade height at exit is')\n",
"\n",
"T2s=0.87*(t1+273); // T2s/T1=0.87 from gas tables\n",
"p2s=0.546*p1; // p2s/p1=0.546 from gas tables\n",
"vs_s=0.031; // from steam tables\n",
"a_s=sqrt(gamma_g*R*T2s);\n",
"disp('m/s',a_s,'the corresponding nozzle exit velocity is')\n",
"cx_s=a_s*cosd(alpha_2);\n",
"m_max=cx_s*%pi*d*h/(vs_s);\n",
"disp('kg/s',m_max,'the maximum possible mass flow rate is')"
   ]
   }
,
{
		   "cell_type": "markdown",
		   "metadata": {},
		   "source": [
			"## Example 18.30: Inward_Flow_Radial_Gas_turbine.sce"
		   ]
		  },
  {
"cell_type": "code",
	   "execution_count": null,
	   "metadata": {
	    "collapsed": true
	   },
	   "outputs": [],
"source": [
"// scilab Code Exa 18.30 Inward Flow Radial Gas turbine\n",
"\n",
"T1=873; // the gas entry temperature at nozzle in Kelvin\n",
"p1=4; // the gas entry pressure at nozzle in bar\n",
"n_T=0.85; // isentropic efficiency\n",
"d2=0.4; // rotor blade ring diameter at entry in m\n",
"d3=0.2; // rotor blade ring diameter at exit in m\n",
"pr_t=4; // static Pressure Ratio across the turbine(p3/p1)\n",
"pr_n=2; // static Pressure Ratio across the nozzles(p3/p1) \n",
"phi=0.3; // flow coefficient at impeller entry\n",
"gamma=1.4;\n",
"N=18e3; // rotor Speed in RPM\n",
"m=5; // mass flow rate of gas in kg/s\n",
"cp=1005; // Specific Heat at Constant Pressure in J/(kgK)\n",
"R=287;\n",
"u2=%pi*d2*N/60;\n",
"u3=%pi*d3*N/60;\n",
"cr2=phi*u2;\n",
"// part(a)\n",
"T3ss=T1/(pr_t^((gamma-1)/gamma));\n",
"T3=T1-n_T*(T1-T3ss);\n",
"T2s=T1/(pr_n^((gamma-1)/gamma));\n",
"T2=T2s+(0.5*(T3-T3ss)); // half of the losses(T3-T3ss) occur in the nozzles\n",
"p2=p1/pr_n;\n",
"rho2=(p2*1e5)/(R*T2);\n",
"b2=m/(rho2*cr2*%pi*d2);\n",
"disp('cm',b2*1e2,'(a)axial width of the impeller blade passage at entry is')\n",
"alpha2=atand(cr2/u2);\n",
"disp('degree',alpha2,'(b)nozzle exit air angle is')\n",
"cx3=cr2;\n",
"beta3=atand(cx3/u3);\n",
"disp('degree',beta3,'(c)impeller exit air angle is')\n",
"c_theta3=0;\n",
"c_theta2=u2;\n",
"P=m*(u2*c_theta2-u3*c_theta3);\n",
"disp('kW',P*1e-3,'(d)power developed is')"
   ]
   }
,
{
		   "cell_type": "markdown",
		   "metadata": {},
		   "source": [
			"## Example 18.31: Cantilever_Type_IFR_turbine.sce"
		   ]
		  },
  {
"cell_type": "code",
	   "execution_count": null,
	   "metadata": {
	    "collapsed": true
	   },
	   "outputs": [],
"source": [
"// scilab Code Exa 18.31 Cantilever Type IFR turbine\n",
"\n",
"P=150; // Power developed in kW\n",
"T01=960; // the gas entry temperature at nozzle in Kelvin\n",
"p01=3; // the gas entry pressure at nozzle in bar\n",
"beta2=45; // air angle at rotor blade entry (from radial direction)\n",
"beta3=65; // air angle at rotor blade exit (from radial direction)\n",
"d2=0.2; // rotor blade ring diameter at entry in m\n",
"d3=0.15; // rotor blade ring diameter at exit in m\n",
"gamma=1.4;\n",
"N=36e3; // rotor Speed in RPM\n",
"alpha_2=15;  //  air angle at nozzle exit(from tangential direction)\n",
"pr0=2.29; // total-to-static Pressure Ratio(p01/p3) \n",
"n_N=0.94; // Nozzle Efficiency \n",
"cp=1100; // Specific Heat at Constant Pressure in J/(kgK)\n",
"R=cp*((gamma-1)/gamma);\n",
"u2=%pi*d2*N/60;\n",
"u3=%pi*d3*N/60;\n",
"\n",
"// part(a) mass flow rate of the gas\n",
"cr2_theta2=tand(alpha_2); // cr2_theta2=cr2/c_theta2\n",
"c_theta2=u2/(1-cr2_theta2); // c_theta2=cr2*tan(alpha2)+u2\n",
"cr2=c_theta2*cr2_theta2;\n",
"cr3=cr2;\n",
"c_theta3=(cr3*tand(beta3))-u3;\n",
"w_st=(u2*c_theta2)+(u3*c_theta3);\n",
"m=P/(w_st*1e-3);\n",
"disp('kg/s',m,'(a)mass flow rate of the gas is')\n",
"\n",
"// part(b)rotor blade axial length at entry\n",
"c2=cr2/sind(alpha_2);\n",
"T2s=T01-((0.5*(c2^2))/(cp*n_N));\n",
"T2=T01-((T01-T2s)*n_N);\n",
"p_rn=(T2s/T01)^(gamma/(gamma-1));\n",
"p2=p01*p_rn;\n",
"rho2=(p2*1e5)/(R*T2);\n",
"b2=m/(rho2*cr2*%pi*d2);\n",
"disp('cm',b2*1e2,'(b)rotor blade axial length at entry is')\n",
"\n",
"// part(c)total-to-total turbine efficiency\n",
"T03ss=T01*(pr0^((1-gamma)/gamma));\n",
"n_T=P/(m*cp*1e-3*(T01-T03ss));\n",
"disp('%',n_T*1e2,'(c)total-to-total turbine efficiency is')\n",
"\n",
"//part(d)rotor blade length at exit\n",
"p03=p01/pr0;\n",
"T03=T01-(P/(m*cp*1e-3));\n",
"c3=sqrt((cr3^2)+(c_theta3^2));\n",
"T3=T03-((cr3^2)/(2*cp));\n",
"p3=p03*((T3/T03)^(gamma/(gamma-1)));\n",
"ro3=(p3*1e5)/(R*T3);\n",
"b3=m/(ro3*cr3*%pi*d3);\n",
"disp('cm',b3*1e2,'(d)rotor blade length at exit is')\n",
"\n",
"// part(e) degree of reaction\n",
"DOR=(T2-T3)/(T01-T03);\n",
"disp('%',DOR*1e2,'(e)degree of reaction is')"
   ]
   }
,
{
		   "cell_type": "markdown",
		   "metadata": {},
		   "source": [
			"## Example 18.32: IFR_turbine_stage_efficiency.sce"
		   ]
		  },
  {
"cell_type": "code",
	   "execution_count": null,
	   "metadata": {
	    "collapsed": true
	   },
	   "outputs": [],
"source": [
"// scilab Code Exa 18.32 IFR turbine stage efficiency\n",
"\n",
"// part(b)\n",
"R=0.48;\n",
"sigma_s=0.6;\n",
"n_n=0.92;\n",
"alpha_2=15;  //  air angle at nozzle exit(from tangential direction)\n",
"n_st=2*sigma_s*sqrt(n_n*(1-R))*cosd(alpha_2);\n",
"disp('%',n_st*100,'stage efficiency of the radial turbine is')"
   ]
   }
,
{
		   "cell_type": "markdown",
		   "metadata": {},
		   "source": [
			"## Example 18.33: Vertical_Axis_Crossflow_Wind_turbine.sce"
		   ]
		  },
  {
"cell_type": "code",
	   "execution_count": null,
	   "metadata": {
	    "collapsed": true
	   },
	   "outputs": [],
"source": [
"// scilab Code Exa 18.33 Vertical Axis Crossflow Wind turbine\n",
"\n",
"c1=24/3.6; // wind speed in m/s\n",
"c2=30/3.6; // rotor speed in m/s\n",
"m1=25; // mass flow rate of air at wind side in kg/s\n",
"m2=31.25; // rotor  air mass flow rate in kg/s\n",
"d1=3; // rotor outer diameter in m\n",
"d2=2; // rotor inner diameter in m\n",
"gamma=1.4;\n",
"alpha=37;  //  air angle at rotor entry(from tangential direction)\n",
"c(1)=c1;\n",
"c(2)=c2;\n",
"m(1)=m1;\n",
"m(2)=m2;\n",
"\n",
"for i=1:2\n",
"c_theta1=c(i)*cosd(alpha);\n",
"u1=c_theta1/2;\n",
"u2=u1*d2/d1;\n",
"disp('kmph',c(i)*3.6,'for speed=')\n",
"\n",
"// part(a)optimum rotor speed\n",
"N=60*u1/(%pi*d1);\n",
"disp('rpm',N,'(a)optimum rotor speed is')\n",
"\n",
"// part(b)blade to wind speed ratio\n",
"sigma=u1/c(i);\n",
"disp(sigma,'blade to wind speed ratio is')\n",
"\n",
"// part(c)hydraulic powers and efficiencies\n",
"Ph=m(i)*((2*(u1^2))+(u2^2));\n",
"disp('Watts',Ph,'(c)hydraulic power is')\n",
"n_h=((2*(u1^2))+(u2^2))/(0.5*(c(i)^2));\n",
"disp('%',n_h*1e2,'and hydraulic efficiency is')\n",
"end"
   ]
   }
,
{
		   "cell_type": "markdown",
		   "metadata": {},
		   "source": [
			"## Example 18.34: Counter_Rotating_fan.sce"
		   ]
		  },
  {
"cell_type": "code",
	   "execution_count": null,
	   "metadata": {
	    "collapsed": true
	   },
	   "outputs": [],
"source": [
"// scilab Code Exa 18.34 Counter Rotating fan\n",
"\n",
"n=0.809; // combined efficiency of the fans\n",
"phi=0.245; // flow coefficient\n",
"A=0.212; // data from Ex14.1\n",
"d=0.45; // data from Ex14.1\n",
"u=22.62; // data from Ex14.1\n",
"cx=phi*u;\n",
"Q=1.175; // in m3/s\n",
"delp0_I=550.755; // data from Ex14.1\n",
"delp0_II=delp0_I;\n",
"delp0=delp0_I+delp0_II;\n",
"disp('mm W.G.',delp0/9.81,'(a)the overall pressure rise obtained is')\n",
"IP=Q*delp0; // power required for isentropic flow in Watts\n",
"P=IP/n;\n",
"disp('kW',P*1e-3,'(b)the Power required is')"
   ]
   }
,
{
		   "cell_type": "markdown",
		   "metadata": {},
		   "source": [
			"## Example 18.35: Sirocco_Radial_fan_1440_rpm.sce"
		   ]
		  },
  {
"cell_type": "code",
	   "execution_count": null,
	   "metadata": {
	    "collapsed": true
	   },
	   "outputs": [],
"source": [
"// scilab Code Exa 18.35 Sirocco Radial fan 1440 rpm\n",
"\n",
"d2=0.4; // outer diameter of the impeller in m\n",
"d1=0.36; // inner diameter of the impeller in m\n",
"b=0.5; // axial length of the impeller in m\n",
"rho=1.25; // density of air in kg/m3\n",
"N=1440; // rotor Speed in RPM\n",
"P=50; // Power required in kW\n",
"\n",
"u1=%pi*d1*N/60;\n",
"u2=%pi*d2*N/60;\n",
" \n",
"beta1=atand(d2/d1);\n",
"disp('degree',beta1,'(a)the blade air angle at the impeller entry beta1=')\n",
"beta2=90-beta1;\n",
"disp('degree',beta2,'and the blade air angle at the impeller exit beta2=')\n",
"delp0=2*rho*(u2^2);\n",
"disp('mm W.G.',delp0/9.81,'(b)the stagnation pressure rise across the fan is') \n",
"cr1=u1*tand(beta1);\n",
"m=rho*cr1*%pi*d1*b;\n",
"disp('kg/s',m,'(c)mass flow rate of the air through the fan is')\n",
"c_theta1=0; // for zero inlet swirl\n",
"w_st=2*(u2^2);\n",
"IP=m*w_st/1000; // ideal power required to drive the fan in kW\n",
"n=IP/P;\n",
"disp('%',n*1e2,'(d)the Efficiency of the fan is') "
   ]
   }
,
{
		   "cell_type": "markdown",
		   "metadata": {},
		   "source": [
			"## Example 18.37: Calculation_for_the_specific_speed.sce"
		   ]
		  },
  {
"cell_type": "code",
	   "execution_count": null,
	   "metadata": {
	    "collapsed": true
	   },
	   "outputs": [],
"source": [
"// scilab Code Exa 18.37 Calculation for the specific speed\n",
"\n",
"//part(1)specific speed of Axial flow gas turbine\n",
"P1=0.5e3; // Gas Turbine Power Output in kW\n",
"N1=60; // Speed in RPS\n",
"omega1=%pi*2*N1;\n",
"ro1=2;\n",
"delh_1=30; // change of enthalpy in kJ\n",
"NS_1=omega1*sqrt(P1*10e2/ro1)*((delh_1*1e3)^(-5/4));\n",
"disp(NS_1,'1.the specific speed of Axial flow gas turbine is')\n",
"\n",
"//part(2)specific speed of IFR gas turbine\n",
"P2=0.75e3; // Gas Turbine Power Output in kW\n",
"N2=300; // Speed in RPS\n",
"omega2=%pi*2*N2;\n",
"ro2=1;\n",
"delh_2=250; // change of enthalpy in kJ\n",
"NS_2=omega2*sqrt(P2*10e2/ro2)*((delh_2*1e3)^(-5/4));\n",
"disp(NS_2,'2.the specific speed of IFR gas turbine is') \n",
"\n",
"// part(3)the specific speed of an axial compressor\n",
"N_c=120; // Speed in RPS\n",
"omega_c=%pi*2*N_c;\n",
"Q_c=25; // flow rate in m3/s\n",
"delh_3=40; // change of enthalpy in kJ\n",
"NS_c=omega_c*sqrt(Q_c)*((delh_3*1e3)^(-3/4));\n",
"disp(NS_c,'3.the specific speed of an axial compressor is')\n",
"\n",
"// part(4)the specific speed of a centrifugal compressor\n",
"Q=5; // flow rate in m3/s\n",
"delh_4=35; // change of enthalpy in kJ\n",
"NS_4=omega_c*sqrt(Q)*((delh_4*1e3)^(-3/4));\n",
"disp(NS_4,'4.the specific speed of a centrifugal compressor is')\n",
"\n",
"// part(5)the specific speed of an axial fan\n",
"N5=22; // Speed in RPS\n",
"omega_5=2*%pi*N5;\n",
"Q_5=3.5; // flow rate in m3/s\n",
"rho=1.25; // density in kg/m3\n",
"g=9.81; // gravitational acceleration in m/s2\n",
"H1=55/rho; // head in m\n",
"NS_5=omega_5*sqrt(Q_5)*((g*H1)^(-3/4));\n",
"disp(NS_5,'5.the dimensionless specific speed of an axial fan is')\n",
"\n",
"// part(6)the specific speed of a Radial fan\n",
"N6=20; // Speed in RPS\n",
"omega_6=2*%pi*N6;\n",
"Q_6=1.4; // flow rate in m3/s\n",
"\n",
"H2=52/rho; // head in m\n",
"NS_6=omega_6*sqrt(Q_6)*((g*H2)^(-3/4));\n",
"disp(NS_6,'6.the dimensionless specific speed of a Radial fan is')"
   ]
   }
,
{
		   "cell_type": "markdown",
		   "metadata": {},
		   "source": [
			"## Example 18.38: Kaplan_turbine_70_rpm.sce"
		   ]
		  },
  {
"cell_type": "code",
	   "execution_count": null,
	   "metadata": {
	    "collapsed": true
	   },
	   "outputs": [],
"source": [
"// scilab Code Exa 18.38 Kaplan turbine 70 rpm\n",
"\n",
"//part(a)flow rate and specific speed \n",
"P=8e3; // Gas Power Output in kW\n",
"N=70; // Speed in RPM\n",
"H=10; // net head in m\n",
"n_m=0.85; // efficiency\n",
"omega=%pi*2*N/60;\n",
"NS=omega*sqrt(P*10e2)*(H^(-5/4))/549.016;\n",
"disp(NS,'(a)the specific speed of turbine is')\n",
"rho=1000; // density in kg/m3\n",
"g=9.81; // gravitational acceleration in m/s2\n",
"Q=P*1e3/(n_m*rho*g*H);\n",
"disp('m3/s',Q,'and the flow rate is')\n",
"\n",
"// part(b) determining the speed, flow rate and power for the model\n",
"Dp_m=12; // Dp_m=Dp/Dm\n",
"Np=N; // Speed for prototype\n",
"Hm=3; // head of the model\n",
"Hp=H; // head for prototype\n",
"Nm=Np*Dp_m*sqrt(Hm/Hp);\n",
"disp('rpm',Nm,'(b)speed for the model is')\n",
"Dm_p=1/Dp_m;\n",
"Qp=Q;\n",
"Qm=(Dm_p^2)*sqrt(Hm/Hp)*Qp;\n",
"disp('m3/s',Qm,'the flow rate for model is')\n",
"Pm=n_m*rho*g*Qm*Hm;\n",
"disp('kW',Pm*1e-3,'the power for the model is')"
   ]
   }
,
{
		   "cell_type": "markdown",
		   "metadata": {},
		   "source": [
			"## Example 18.39: Calculation_for_Pelton_Wheel_prototype.sce"
		   ]
		  },
  {
"cell_type": "code",
	   "execution_count": null,
	   "metadata": {
	    "collapsed": true
	   },
	   "outputs": [],
"source": [
"// scilab Code Exa 18.39 Calculation for the Pelton Wheel\n",
"\n",
"Nm=102; // Speed for the model in RPM\n",
"Hm=30; // net head for the model in m\n",
"n_m=1; // Assuming efficiency\n",
"Qm=0.345; // discharge in m3/s\n",
"rho=1000; // density in kg/m3\n",
"g=9.81; // gravitational acceleration in m/s2\n",
"omega_m=%pi*2*Nm/60;\n",
"Pm=n_m*rho*g*Qm*Hm;\n",
"NS=omega_m*sqrt(Pm)*(Hm^(-5/4))/549.016;\n",
"disp(NS,'the specific speed of turbine is')\n",
"\n",
"// determining the speed, flow rate and power for the prototype\n",
"Hp=1500; // head for prototype\n",
"Pp=((Hp/Hm)^(3/2))*Pm;\n",
"disp('MW',Pp*1e-6,'the power for the prototype is')\n",
"omega_p=NS*549.016*(Hp^(5/4))/(sqrt(Pp));\n",
"Np=omega_p*60/(2*%pi);\n",
"disp('rpm',Np,'speed for the prototype is')\n",
"Qp=sqrt(Hp/Hm)*Qm;\n",
"disp('m3/s',Qp,'the flow rate for prototype is')"
   ]
   }
,
{
		   "cell_type": "markdown",
		   "metadata": {},
		   "source": [
			"## Example 18.3: Irreversible_flow_in_nozzles.sce"
		   ]
		  },
  {
"cell_type": "code",
	   "execution_count": null,
	   "metadata": {
	    "collapsed": true
	   },
	   "outputs": [],
"source": [
"// scilab Code Exa 18.3 Irreversible flow in nozzles\n",
"pr=0.843; // pr=p/p0\n",
"n_n=0.95; // nozzle efficiency\n",
"gamma=1.4;\n",
"Ms=0.5; // from gas tables for gammma and pr value\n",
"Ma=sqrt((2/(gamma-1))*(n_n/(1-n_n+(2/((gamma-1)*(Ms^2))))));\n",
"disp(Ma,'actual value of the Mach number is')"
   ]
   }
,
{
		   "cell_type": "markdown",
		   "metadata": {},
		   "source": [
			"## Example 18.40: Francis_turbine_910_rpm.sce"
		   ]
		  },
  {
"cell_type": "code",
	   "execution_count": null,
	   "metadata": {
	    "collapsed": true
	   },
	   "outputs": [],
"source": [
"// scilab Code Exa 18.40 Calculation for the Francis turbine\n",
"\n",
"// part(a) determining the speed, specific speed and power for the model\n",
"Qm=0.148; // discharge in m3/s\n",
"N=910; // Speed in RPM\n",
"Hm=25; // net head in m\n",
"n=0.9; // efficiency\n",
"omega=%pi*2*N/60;\n",
"NS=omega*sqrt(Qm)*(Hm^(-3/4))*0.1804;\n",
"disp(NS,'(a)the specific speed of turbine is')\n",
"Nu=N/(sqrt(Hm));\n",
"disp('rpm',Nu,'unit speed for the model is')\n",
"rho=1000; // density in kg/m3\n",
"g=9.81; // gravitational acceleration in m/s2\n",
"Pm=rho*g*Qm*Hm;\n",
"disp('kW',Pm*1e-3,'the power for the model is')\n",
"\n",
"// part(b)determining the speed, flow rate and power for the prototype\n",
"Hp=250; // head for prototype\n",
"Dp_m=6; // Dp_m=Dp/Dm\n",
"Qp=sqrt(Hp/Hm)*Qm*(Dp_m^2);\n",
"disp('m3/s',Qp,'(b)the flow rate for prototype is')\n",
"Pp=rho*g*Qp*Hp*n;\n",
"disp('MW',Pp*1e-6,'the power for the prototype is')\n",
"omega_p=NS*(Hp^(3/4))/(0.1804*sqrt(Qp));\n",
"Np=omega_p*60/(2*%pi);\n",
"disp('rpm',Np,'speed for the prototype is')"
   ]
   }
,
{
		   "cell_type": "markdown",
		   "metadata": {},
		   "source": [
			"## Example 18.41: Calculation_for_the_Pelton_Wheel.sce"
		   ]
		  },
  {
"cell_type": "code",
	   "execution_count": null,
	   "metadata": {
	    "collapsed": true
	   },
	   "outputs": [],
"source": [
"// scilab Code Exa 18.41 Calculation for the Pelton Wheel\n",
"NS=0.1; //specific speed\n",
"H1=1000; // net head for the model in m\n",
"Q1=1; // discharge in m3/s\n",
"omega1=NS*(H1^(3/4))/(sqrt(Q1)*0.1804);\n",
"N1=omega1*60/(2*%pi);\n",
"disp('rpm',N1,'speed of the rotation is')\n",
"rho=1000; // density in kg/m3\n",
"g=9.81; // gravitational acceleration in m/s2\n",
"P1=rho*g*Q1*H1;\n",
"\n",
"// determining the speed, flow rate and power for the prototype\n",
"H2=100; // head for prototype\n",
"N2=N1*sqrt(H2/H1);\n",
"disp('rpm',N2,'speed for the prototype is')\n",
"Q2=sqrt(H2/H1)*Q1;\n",
"disp('m3/s',Q2,'the discharge for the prototype is')\n",
"P2=((H2/H1)^(3/2))*P1;\n",
"disp('MW',P2*1e-6,'the power for the prototype is')"
   ]
   }
,
{
		   "cell_type": "markdown",
		   "metadata": {},
		   "source": [
			"## Example 18.42: Calculation_for_Tidal_Power_Plant.sce"
		   ]
		  },
  {
"cell_type": "code",
	   "execution_count": null,
	   "metadata": {
	    "collapsed": true
	   },
	   "outputs": [],
"source": [
"// scilab Code Exa 18.42 Calculation for Tidal Power Plant\n",
"\n",
"T=50e6; // capacity of basin in cubic meters of sea water\n",
"N=60; // Speed for the model in RPM\n",
"NS=3; //specific speed\n",
"H=9.8; // net head for the model in m\n",
"n_o=0.78; // Assuming efficiency\n",
"rho=1000; // density in kg/m3\n",
"g=9.81; // gravitational acceleration in m/s2\n",
"n(1)=5; // number of turbines\n",
"n(2)=10;\n",
"omega=%pi*2*N/60;\n",
"\n",
"P=(NS^2)*(H^(5/2))*(549.016^2)/(omega^2);\n",
"disp('MW',P*1e-6,'(a)the power for the turbines is')\n",
"Q=P/(n_o*rho*g*H);  // discharge in m3/s\n",
"disp('m3/s',Q,'(b)the discharge rate for the turbines is')\n",
"disp('(c)')\n",
"for i=1:2\n",
"    disp(n(i),'when number of turbines are:')\n",
"    t=T/(n(i)*Q*3600);\n",
"disp('hours',t,'duration of operation is')\n",
"end"
   ]
   }
,
{
		   "cell_type": "markdown",
		   "metadata": {},
		   "source": [
			"## Example 18.43: Francis_turbine_250_rpm.sce"
		   ]
		  },
  {
"cell_type": "code",
	   "execution_count": null,
	   "metadata": {
	    "collapsed": true
	   },
	   "outputs": [],
"source": [
"// scilab Code Exa 18.43 Francis turbine 250 rpm\n",
"\n",
"NS=0.4; //specific speed\n",
"N=250; // Speed in RPM\n",
"H=75; // net head in m\n",
"beta3=25; // exit angle of the runner blades\n",
"n_o=0.81; // overall efficiency\n",
"g=9.81; // gravitational acceleration in m/s2\n",
"rho=1000; // density in kg/m3\n",
"// part(a)\n",
"u2=0.6*sqrt(2*g*H);\n",
"cr2=0.21*sqrt(2*g*H);\n",
"omega=%pi*2*N/60;\n",
"Q=(NS^2)*(H^(3/2))/((0.1804^2)*(omega^2));\n",
"disp('m3/s',Q,'(a)the discharge rate for the turbine is')\n",
"// part(b)\n",
"d2=u2*60/(%pi*N);\n",
"disp('m',d2,'(b)outer diameter of the runner blade ring is')\n",
"cr3=cr2;\n",
"cx3=cr3;\n",
"//Euler work,w_ET=u2*c_theta2\n",
"c_theta2=((g*H)-(0.5*(cx3^2)))/u2;\n",
"u3=cx3/(tand(beta3));\n",
"d3=u3*60/(%pi*N);\n",
"disp('m',d3,'and inner diameter of the runner blade ring is')\n",
"// part(c)\n",
"alpha2=atand(cr2/c_theta2);\n",
"disp('degree',alpha2,'(c)the inlet guide vane exit angle is')\n",
"beta2=atand(cr2/(c_theta2-u2));\n",
"disp('degree',beta2,'and inlet angle of the runner blades is beta2= ')\n",
"// part(d)\n",
"n_h=(u2*c_theta2)/(g*H);\n",
"disp('%',n_h*1e2,'(d)the hydraulic efficiency is')\n",
"// part(e)\n",
"P=n_o*rho*g*Q*H;\n",
"disp('MW',P*1e-6,'(e)the output power is')\n",
"disp('comment: the calculation for c_theta2 is done wrongly in the book. hence the values of alpha2,beta2, n_h differs from the book.')"
   ]
   }
,
{
		   "cell_type": "markdown",
		   "metadata": {},
		   "source": [
			"## Example 18.44: Pelton_Wheel_360_rpm.sce"
		   ]
		  },
  {
"cell_type": "code",
	   "execution_count": null,
	   "metadata": {
	    "collapsed": true
	   },
	   "outputs": [],
"source": [
"// scilab Code Exa 18.44 Pelton Wheel 360 rpm\n",
"\n",
"d=2; // mean diameter in m\n",
"N=360; // Speed in RPM\n",
"theta=150; //deflection angle of water jet in degree\n",
"H=140; // net head for the model in m\n",
"q=45000; // discharge in litres/min\n",
"Q=q*1e-3/60; // in m3/s\n",
"rho=1000; // density in kg/m3\n",
"g=9.81; // gravitational acceleration in m/s2\n",
"// part(a)\n",
"u=%pi*d*N/60;\n",
"c2=sqrt(2*g*H);\n",
"sigma=u/c2;\n",
"disp(sigma,'(a)blade to jet speed ratio is')\n",
"// part(b)\n",
"w2=c2-u;\n",
"w3=w2;\n",
"beta2=0;\n",
"beta3=180-theta;\n",
"cy2=c2;\n",
"cy3=u-(w3*cosd(beta3));\n",
"w_T=u*(cy2-cy3);\n",
"m=rho*Q;\n",
"P_T=m*w_T;\n",
"disp('kW',P_T*1e-3,'(b)the power developed is')\n",
"// part(c)\n",
"n=w_T/(0.5*(c2^2));\n",
"disp('%',n*1e2,'(c)the efficiency is')\n",
"// part(d)\n",
"n_max=0.5*(1+cosd(beta3));\n",
"disp('%',n_max*1e2,'(d)the Maximum efficiency is')\n",
"P_max=m*g*H*n_max;\n",
"disp('kW',P_max*1e-3,'and the Maximum power developed is')\n",
"// part(e)\n",
"sigma_opt=0.5; // for Maximum efficiency\n",
"u_opt=sigma_opt*c2;\n",
"N_opt=u_opt*60/(d*%pi);\n",
"disp('rpm',N_opt,'(e)speed of the rotation corresponding to Maximum efficiency is')\n",
"// part(f)\n",
"omega=%pi*2*N/60;\n",
"NS=omega*sqrt(P_T)*(H^(-5/4))/549.016;\n",
"disp(NS,'(f)the specific speed of turbine is')"
   ]
   }
,
{
		   "cell_type": "markdown",
		   "metadata": {},
		   "source": [
			"## Example 18.45: Kaplan_turbine_120_rpm.sce"
		   ]
		  },
  {
"cell_type": "code",
	   "execution_count": null,
	   "metadata": {
	    "collapsed": true
	   },
	   "outputs": [],
"source": [
"// scilab Code Exa 18.45 Kaplan turbine 120 rpm\n",
"\n",
"N=120; // Speed in RPM\n",
"H=25; // net head in m\n",
"Q=120; // discharge in m3/s\n",
"dt=5; // runner diameter in m\n",
"dh_t=0.4; // hub-tip ratio of the runner\n",
"beta2=150; //inlet angle of the runner blades in degree\n",
"n_o=0.8; // overall efficiency\n",
"rho=1000; // density in kg/m3\n",
"g=9.81; // gravitational acceleration in m/s2\n",
"// part(a)\n",
"P=n_o*rho*g*Q*H;\n",
"disp('MW',P*1e-6,'(a)the output power is')\n",
"// part(b)\n",
"omega=%pi*2*N/60;\n",
"NS=omega*sqrt(P)*(H^(-5/4))/549.016;\n",
"disp(NS,'(b)the specific speed of turbine is')\n",
"// part(c)\n",
"dh=dh_t*dt;\n",
"d=0.5*(dt+dh); // mean diameter of the impeller blade in m\n",
"u=%pi*d*N/60;\n",
"cx=Q*4/(%pi*(dt^2-dh^2));\n",
"cy2=u-(cx*tand(90-(180-beta2)));\n",
"alpha2=atand(cx/cy2);\n",
"disp('degree',alpha2,'(c)the inlet guide vane exit angle is')\n",
"// part(d)\n",
"beta3=atand(cx/u);\n",
"disp('degree',beta3,'(d)the exit angle of the runner blades is beta3= ')\n",
"// part(e)\n",
"n_h=(u*cy2)/(g*H);\n",
"disp('%',n_h*1e2,'(e)the hydraulic efficiency is')"
   ]
   }
,
{
		   "cell_type": "markdown",
		   "metadata": {},
		   "source": [
			"## Example 18.46: Fourneyron_Turbine_360_rpm.sce"
		   ]
		  },
  {
"cell_type": "code",
	   "execution_count": null,
	   "metadata": {
	    "collapsed": true
	   },
	   "outputs": [],
"source": [
"// scilab Code Exa 18.46 Fourneyron Turbine 360 rpm\n",
"\n",
"d2=3; // outer diameter of the impeller in m\n",
"d1=1.5; // inner diameter of the impeller in m\n",
"H=50; // net head in m\n",
"rho=1000; // density in kg/m3\n",
"g=9.81; // gravitational acceleration in m/s2\n",
"N=360; // rotor Speed in RPM\n",
"n_o=0.785; // overall efficiency\n",
"P=4; // Power Output in MW\n",
"u1=%pi*d1*N/60;\n",
"u2=%pi*d2*N/60;\n",
"// part(a)\n",
"Q=P*1e6/(n_o*rho*g*H);\n",
"disp('m3/s',Q,'(a)the discharge is')\n",
"c2=9; // velocity of water at exit in m/s\n",
"// part(b)\n",
"w_ET=(g*H)-(0.5*(c2^2));\n",
"n_h=w_ET/(g*H);\n",
"disp('%',n_h*1e2,'(b)the hydraulic efficiency is')\n",
"// part(c)\n",
"cr2=c2;\n",
"b=Q/(cr2*%pi*d2); // axial length of the impeller in m\n",
"disp('cm',b*1e2,'(c)the runner passage width is')\n",
"// part(d)\n",
"beta2=atand(cr2/u2);\n",
"disp('degree',beta2,'(d) the blade air angle at the impeller exit beta2=')\n",
"c_theta1=w_ET/u1;\n",
"cr1=Q/(b*%pi*d1);\n",
"beta1=atand(cr1/(u1-c_theta1));\n",
"disp('degree',beta1,'and the blade air angle at the impeller entry beta1=')\n",
"// part(e)\n",
"alpha1=atand(cr1/c_theta1);\n",
"disp('degree',alpha1,'(e)the guide vane exit angle is')"
   ]
   }
,
{
		   "cell_type": "markdown",
		   "metadata": {},
		   "source": [
			"## Example 18.47: Crossflow_Radial_Hydro_turbine.sce"
		   ]
		  },
  {
"cell_type": "code",
	   "execution_count": null,
	   "metadata": {
	    "collapsed": true
	   },
	   "outputs": [],
"source": [
"// scilab Code Exa 18.47 Crossflow Radial Hydro turbine\n",
"\n",
"N=50; // Speed in RPM\n",
"H=25; // net head in m\n",
"Q=150; // discharge in m3/s\n",
"P=20; // Power Output in MW\n",
"d1=3.5; //  runner diameter in m\n",
"dr=1.3; // diameter ratio of the runner\n",
"rho=1000; // density in kg/m3\n",
"g=9.81; // gravitational acceleration in m/s2\n",
"u1=%pi*d1*N/60;\n",
"u2=u1/dr;\n",
"c_theta1=2*u1;\n",
"c_theta2=u2;\n",
"w_st1=(u1*c_theta1)-(u2*c_theta2);\n",
"u3=u2;\n",
"c_theta3=u2;\n",
"c_theta4=0;\n",
"w_st2=(u3*c_theta3)-(u1*c_theta4);\n",
"w_st=w_st1+w_st2;\n",
"// part(a)\n",
"n_h=w_st/(g*H);\n",
"disp('%',n_h*1e2,'(a)the hydraulic efficiency is')\n",
"Ph=rho*Q*w_st;\n",
"disp('MW',Ph*1e-6,'and the hydraulic power is')\n",
"n_o=P*1e6/(rho*Q*g*H);\n",
"disp('%',n_o*1e2,'and the overall efficiency is')\n",
"// part(b)\n",
"omega=%pi*2*N/60;\n",
"NS=omega*sqrt(P*1e6)*(H^(-5/4))/549.016;\n",
"disp(NS,'(b)the specific speed of turbine is')\n",
"// part(c)\n",
"disp('(c)Adopting the flow model of the crossflow wind turbine')\n",
"P_h=rho*Q*((2*(u1^2))+(u2^2));\n",
"disp('MW',P_h*1e-6,'the hydraulic power is')\n",
"nh=((2*(u1^2))+(u2^2))/(g*H);\n",
"disp('%',nh*1e2,'and hydraulic efficiency is')\n",
""
   ]
   }
,
{
		   "cell_type": "markdown",
		   "metadata": {},
		   "source": [
			"## Example 18.48: Calculation_on_a_Draft_Tube.sce"
		   ]
		  },
  {
"cell_type": "code",
	   "execution_count": null,
	   "metadata": {
	    "collapsed": true
	   },
	   "outputs": [],
"source": [
"// scilab Code Exa 18.48 Calculation on a Draft Tube \n",
"\n",
"pa=1.013; // atmospheric pressure in bar\n",
"p3=0.4*pa; // turbine exit pressure in bar\n",
"rho=1e3; // density in kg/m3\n",
"g=9.81; // Gravitational acceleration in m/s^2\n",
"n_D=0.82; // Efficiency of the Draft Tube\n",
"delHi=3.1058869; // from Ex 18.5\n",
"// part(b)\n",
"Hd=delHi;\n",
"Hs=((pa-p3)*1e5/(rho*g))-(n_D*Hd); // Hs=Z3-Z4\n",
"disp('m',Hs,'(b)the suction head(height of the turbine exit above the tail race) is')\n",
"disp('comment: the calculation for Hs is done wrongly in the book. hence the value of Hs differs from the book.')"
   ]
   }
,
{
		   "cell_type": "markdown",
		   "metadata": {},
		   "source": [
			"## Example 18.49: Centrifugal_pump_890_kW.sce"
		   ]
		  },
  {
"cell_type": "code",
	   "execution_count": null,
	   "metadata": {
	    "collapsed": true
	   },
	   "outputs": [],
"source": [
"// scilab Code Exa 18.49 Centrifugal pump 890 kW\n",
"\n",
"H=50; // head developed in m\n",
"P=890; // Power required in kW\n",
"NS=0.75; //specific speed\n",
"rho=1e3;\n",
"g=9.81; // Gravitational acceleration in m/s^2\n",
"n_h=0.91; // hydraulic efficiency\n",
"f=0.925; // blockage factor for the flow\n",
"Q=1.5; // discharge in m3/s of water\n",
"u2=0.8*sqrt(2*g*H);\n",
"cr2=0.3*sqrt(2*g*H);\n",
"dr=0.5; // diameter ratio(d1/d2)\n",
"// part(a)\n",
"omega=NS*(H^(3/4))/(0.1804*sqrt(Q));\n",
"N=omega*60/(2*%pi);\n",
"disp('rpm',N,'(a)the speed of rotation is')\n",
"// part(b) impeller diameter\n",
"d2=u2*60/(%pi*N);\n",
"disp('m',d2,'(b)the impeller diameter is')\n",
"//part(c)\n",
"c_theta2=g*H/(u2*n_h);\n",
"beta2=atand(cr2/(u2-c_theta2));\n",
"disp('degree',beta2,'(c)the blade air angle at the impeller exit beta2=')\n",
"u1=u2*dr;\n",
"cr1=cr2;\n",
"beta1=atand(cr1/u1);\n",
"disp('degree',beta1,'and the blade air angle at the impeller entry beta1=')\n",
"//part(d)\n",
"b2=Q/(cr2*%pi*d2*f);\n",
"disp('m',b2,'(d)the impeller width at exit is')\n",
"//part(e)overall Efficiency\n",
"n_o=rho*Q*H*g/(P*1e3);\n",
"disp('%',n_o*1e2,'(e)overall efficiency is')"
   ]
   }
,
{
		   "cell_type": "markdown",
		   "metadata": {},
		   "source": [
			"## Example 18.4: Calculation_on_a_Diffuser.sce"
		   ]
		  },
  {
"cell_type": "code",
	   "execution_count": null,
	   "metadata": {
	    "collapsed": true
	   },
	   "outputs": [],
"source": [
"// scilab Code Exa 18.4 Calculation on a Diffuser \n",
"\n",
"pe=35; // Initial Pressure in mm W.G.\n",
"pa=1.0135; // ambient pressure in bar\n",
"c1=100; // entry velocity in m/s\n",
"C_pa=0.602; // actual pressure recovery coefficient\n",
"ro=1.25; // density in kg/m3\n",
"g=9.81; // Gravitational acceleration in m/s^2\n",
"Ar=1.85; // Area Ratio of Diffuser\n",
"\n",
"// part(a)\n",
"C_ps=1-(1/(Ar^2));\n",
"disp(C_ps,'(a)ideal value of the pressure recovery coefficient is')\n",
"\n",
"// part(b)\n",
"n_D=C_pa/C_ps;\n",
"disp ('%',n_D*1e2,'(b)Efficiency of the diffuser is')\n",
"\n",
"// part(c)\n",
"p1=pa+(pe*g*1e-5);\n",
"p01=p1+(0.5*ro*(c1^2)*1e-5);\n",
"delp_0=(C_ps-C_pa)*(0.5*ro*(c1^2)*1e-5);\n",
"disp('mm W.G.',delp_0*1e5/g,'(c)the stagnation pressure loss across the diffuser is')\n",
"\n",
"// part(d)\n",
"p02=p01-delp_0;\n",
"c2=c1/Ar;\n",
"p2=p02-(0.5*ro*(c2^2)*1e-5);\n",
"disp('mm W.G.',(p2-pa)*1e5/g,'(d)the gauge pressure at the diffuser exit is')"
   ]
   }
,
{
		   "cell_type": "markdown",
		   "metadata": {},
		   "source": [
			"## Example 18.50: Centrifugal_pump_1500_rpm.sce"
		   ]
		  },
  {
"cell_type": "code",
	   "execution_count": null,
	   "metadata": {
	    "collapsed": true
	   },
	   "outputs": [],
"source": [
"// scilab Code Exa 18.50 Centrifugal pump 1500 rpm\n",
"\n",
"N=1500; // rotor Speed in RPM\n",
"H=5.2; // head in m\n",
"b=2/100; // width in m\n",
"d1=2.5/100; // entry diameter of the blade ring in m\n",
"d2=0.1; // exit diameter of the blade ring in m\n",
"rho=1e3;\n",
"g=9.81; // Gravitational acceleration in m/s^2\n",
"n_o=0.75; // overall Efficiency of the drive\n",
"u2=%pi*d2*N/60;\n",
"u1=u2*d1/d2;\n",
"// part(a)impeller blade angle at the entry\n",
"c_r2=0.4*u2;\n",
"c_r1=c_r2*d2/d1;\n",
"beta1=atand(c_r1/u1);\n",
"disp('degree',beta1,'(a)the impeller blade angle at the entry beta1=')\n",
"//part(b) discharge\n",
"Q=c_r1*%pi*d1*b;\n",
"disp('litres/sec',Q*1e3,'(b)the discharge is')\n",
"//part(c)Power required\n",
"P=(rho*Q*g*H)/(n_o);\n",
"disp('kW',P*1e-3,'(a)Power required to drive the pump is')\n",
"// part(d)\n",
"omega=%pi*2*N/60;\n",
"NS=(H^(-3/4))*0.1804*(omega)*sqrt(Q);\n",
"disp(NS,'(d)the specific speed is')"
   ]
   }
,
{
		   "cell_type": "markdown",
		   "metadata": {},
		   "source": [
			"## Example 18.51: Axial_pump_360_rpm.sce"
		   ]
		  },
  {
"cell_type": "code",
	   "execution_count": null,
	   "metadata": {
	    "collapsed": true
	   },
	   "outputs": [],
"source": [
"// scilab Code Exa 18.51 Axial pump 360 rpm\n",
"\n",
"N=360; // rotor Speed in RPM\n",
"dh=0.30; // hub diameter of the impeller in m\n",
"beta2=48; // exit angle of the runner blades(from the tangential direction)\n",
"cx=5; // axial velocity of water through the impeller in m/s\n",
"n_h=0.87; // hydraulic efficiency\n",
"n_o=0.83; // overall Efficiency \n",
"Q=2.5; // discharge in m3/s\n",
"rho=1e3;\n",
"g=9.81; // Gravitational acceleration in m/s^2\n",
"//part(a)\n",
"dt=sqrt((4*Q/(cx*%pi))+(dh^2));\n",
"disp('m',dt,'(a)the impeller tip diameter is')\n",
"// part(b)impeller blade angle at the entry\n",
"d=0.5*(dt+dh); // mean diameter of the impeller blade in m\n",
"u=%pi*d*N/60;\n",
"beta1=atand(cx/u);\n",
"disp('degree',beta1,'(b)the impeller blade angle at the entry beta1=')\n",
"// part(c)\n",
"cy2=u-(cx/tand(beta2));\n",
"H=n_h*u*cy2/g;\n",
"disp('m',H,'(c)the head developed is')\n",
"//part(d)Power required\n",
"P=(rho*Q*g*H)/(n_o);\n",
"disp('kW',P*1e-3,'(d)Power required to drive the pump is')\n",
"// part(e)\n",
"omega=%pi*2*N/60;\n",
"NS=(H^(-3/4))*0.1804*(omega)*sqrt(Q);\n",
"disp(NS,'(e)the specific speed is')"
   ]
   }
,
{
		   "cell_type": "markdown",
		   "metadata": {},
		   "source": [
			"## Example 18.52: NPSH_for_Centrifugal_pump.sce"
		   ]
		  },
  {
"cell_type": "code",
	   "execution_count": null,
	   "metadata": {
	    "collapsed": true
	   },
	   "outputs": [],
"source": [
"// scilab Code Exa 18.52 NPSH for Centrifugal pump\n",
"\n",
"H=30; // head developed in m\n",
"ds=0.15; // suction pipe diameter in m\n",
"f=0.005; //Coefficient of friction for the suction pipe\n",
"pa=1.013; // atmospheric pressure in bar\n",
"As=%pi/4*(ds^2); // Cross-sectional Area of the suction pipe in m2\n",
"rho=1e3; // density of water in kg/m3\n",
"g=9.81; // Gravitational acceleration in m/s^2\n",
"t=30; // temperature of water in degree C\n",
"pv=0.0424; // vapour pressure of water at t value\n",
"Hv=pv*1e5/(rho*g);\n",
"Z(1)=0; // altitude in m\n",
"Z(2)=2500;\n",
"p(1)=pa; // at altitude Z=0\n",
"p(2)=0.747; // at Z=2500m\n",
"Q(1)=0.065; // discharge in m3/s of water\n",
"Q(2)=0.1;\n",
"Q(3)=0.15;\n",
"Hs(1)=3; // vertical length of the suction pipe in m\n",
"Hs(2)=5;\n",
"for i=1:3\n",
"    disp('m3/s',Q(i),'when Q=')\n",
"    cs=Q(i)/As;\n",
"    for k=1:2\n",
"        disp('m',Hs(k),'and Hs=')\n",
"        delHf=4*f*(Hs(k)/ds)*(cs^2/(2*g));\n",
"        for j=1:2\n",
"        disp('m',Z(j),'and Z=')\n",
"        Ha=p(j)*1e5/(rho*g);\n",
"    H1=Ha-(Hs(k)+(cs^2/(2*g))+delHf);\n",
"    NPSH=H1-Hv;\n",
"disp(NPSH,'NPSH=')\n",
"sigma=NPSH/H;\n",
"disp(sigma,'Cavitation Coefficient sigma=')\n",
"end\n",
"end\n",
"end"
   ]
   }
,
{
		   "cell_type": "markdown",
		   "metadata": {},
		   "source": [
			"## Example 18.53: NPSH_and_Thoma_Cavitation_Coefficient.sce"
		   ]
		  },
  {
"cell_type": "code",
	   "execution_count": null,
	   "metadata": {
	    "collapsed": true
	   },
	   "outputs": [],
"source": [
"// scilab Code Exa 18.53 NPSH and Thoma Cavitation Coefficient\n",
"\n",
"H=60; // head developed in m\n",
"c1=8; // exit velocity in m/s\n",
"pa=1.0133; // ambient pressure in bar\n",
"rho=1e3;\n",
"n_d=0.8; // Efficiency of the Draft Tube\n",
"g=9.81; // Gravitational acceleration in m/s^2\n",
"ta=30; // ambient temperature of water in degree C\n",
"pv=0.0424; // vapour pressure of water at t value\n",
"Hv=pv*1e5/(rho*g);\n",
"//Q=c1*A1=c2*A2\n",
"Ar(1)=1.2; // draft tube area ratio(A2/A1=c1/c2)\n",
"Ar(2)=1.4;\n",
"Ar(3)=1.6;\n",
"Hs=2.5; // vertical length of the draft tube between the turbine exit and the tail race in m\n",
"Ha=pa*1e5/(rho*g);\n",
"for i=1:3\n",
"    Hsd=(c1^2)*(1-(1/(Ar(i)^2)))/(2*g); // ideal head gained by the draft tube\n",
"    Hd=n_d*Hsd; //Actual head gained by the draft tube\n",
"    disp(Ar(i),'for Area Ratio Ar=')\n",
"    disp('m',Hd,'(a)Actual head gained by the draft tube is')\n",
"    H1=Ha-(Hs+Hd);\n",
"    NPSH=H1-Hv;\n",
"disp(NPSH,'(b)NPSH=')\n",
"sigma=NPSH/H;\n",
"disp(sigma,'and Cavitation parameter(Thoma Number) sigma=')\n",
"end"
   ]
   }
,
{
		   "cell_type": "markdown",
		   "metadata": {},
		   "source": [
			"## Example 18.54: Maximum_Height_of_Hydro_Turbines.sce"
		   ]
		  },
  {
"cell_type": "code",
	   "execution_count": null,
	   "metadata": {
	    "collapsed": true
	   },
	   "outputs": [],
"source": [
"// scilab Code Exa 18.54 Maximum Height of Hydro Turbines\n",
"\n",
"H=52; // head developed in m\n",
"c1=6.5; // exit velocity in m/s\n",
"pa=1.0133; // ambient pressure in bar\n",
"rho=1e3;\n",
"n_d=0.75; // Efficiency of the Draft Tube\n",
"g=9.81; // Gravitational acceleration in m/s^2\n",
"ta=20; // ambient temperature of water in degree C\n",
"sigma_cr=0.1;\n",
"pv=0.023; // vapour pressure of water at t value(from tables)\n",
"Hv=pv*1e5/(rho*g);\n",
"//Q=c1*A1=c2*A2\n",
"Ar=1.5; // draft tube area ratio(A2/A1=c1/c2)\n",
"Z(1)=0; // altitude in m\n",
"Z(2)=2500;\n",
"Z(3)=3000;\n",
"Z(4)=4000;\n",
"p(1)=pa; // at altitude Z=0\n",
"p(2)=0.747; // at Z=2500m\n",
"p(3)=0.701; // at altitude Z=3000m\n",
"p(4)=0.657; // at Z=4000m\n",
" Hsd=(c1^2)*(1-(1/(Ar^2)))/(2*g); // ideal head gained by the draft tube\n",
"    Hd=n_d*Hsd; //Actual head gained by the draft tube\n",
"Ha=pa*1e5/(rho*g);\n",
"for i=1:4\n",
"        disp('m',Z(i),'For Z=')\n",
"        Ha=p(i)*1e5/(rho*g);\n",
"    H1=Ha-(Hsd+Hd);\n",
"    Hs=Ha-((sigma_cr*H)+Hd+Hv); // vertical length of the draft tube between the turbine exit and the tail race in m\n",
"    disp('m',Hs,'the maximum height of the turbine exit above the tail race is')\n",
"    NPSH=sigma_cr*H;\n",
"disp(NPSH,'NPSH=')\n",
"end"
   ]
   }
,
{
		   "cell_type": "markdown",
		   "metadata": {},
		   "source": [
			"## Example 18.55: Propeller_Thrust_and_Power.sce"
		   ]
		  },
  {
"cell_type": "code",
	   "execution_count": null,
	   "metadata": {
	    "collapsed": true
	   },
	   "outputs": [],
"source": [
"// scilab Code Exa 18.55 Propeller Thrust and Power\n",
"\n",
"c_u=5; // upstream velocity in m/s\n",
"c_s=10; // downstream velocity in m/s\n",
"rho=1e3; // density of water in kg/m3\n",
"c=0.5*(c_u+c_s); // velocity of water through the propeller in m/s\n",
"d(1)=0.5; // propeller diameter in m\n",
"d(2)=1;\n",
"d(3)=1.5;\n",
"delh_0=0.5*((c_s^2)-(c_u^2));\n",
"delp_0=rho*delh_0;\n",
"disp('bar',delp_0*1e-5,'(b)stagnation pressure rise across the propeller is')\n",
"for i=1:3\n",
"    disp('cm',d(i)*1e2,'for propeller diameter=')\n",
"A=%pi*(d(i)^2)/4;\n",
"Q=c*A;\n",
"m=rho*Q;\n",
"disp('m3/s',Q,'(a) flow rate through the propeller is')\n",
"Fx=A*delp_0;\n",
"disp('kN',Fx*1e-3,'(c) thrust exerted by the propeller on the boat is')\n",
"P=m*delh_0;\n",
"disp('kW',P/1000,'(d)the ideal Power required to drive the propeller is')\n",
"end"
   ]
   }
,
{
		   "cell_type": "markdown",
		   "metadata": {},
		   "source": [
			"## Example 18.5: Calculation_on_a_Draft_Tube.sce"
		   ]
		  },
  {
"cell_type": "code",
	   "execution_count": null,
	   "metadata": {
	    "collapsed": true
	   },
	   "outputs": [],
"source": [
"// scilab Code Exa 18.5 Calculation on a Draft Tube \n",
"\n",
"c2=6.25; // exit velocity in m/s\n",
"ro=1e3; // density in kg/m3\n",
"g=9.81; // Gravitational acceleration in m/s^2\n",
"AR=1.6; // Area Ratio of Diffuser\n",
"Q=100; // discharge in m3/s\n",
"n_D=0.82; // Efficiency of the Draft Tube\n",
"\n",
"// part(a)\n",
"c1=c2*AR;\n",
"A1=Q/c1;\n",
"disp('m2',A1,'(a)area of cross-section at entry is')\n",
"A2=A1*AR;\n",
"disp('m2',A2,'and the area of cross-section at exit is')\n",
"\n",
"// part(b)\n",
"delHi=((c1^2)-(c2^2))/(2*g);\n",
"delH_a=delHi*n_D;\n",
"disp('m',delH_a,'(b)actual head gained by the Draft Tube is')\n",
"\n",
"// part(c)\n",
"m=ro*Q;\n",
"delP_a=m*g*delH_a;\n",
"disp('MW',delP_a*1e-6,'(c)the additional power generated is')\n",
"\n",
"// part(d)\n",
"Loss=delHi-delH_a;\n",
"disp('m',Loss,'(d)the loss of head due to losses in the draft tube is')\n",
""
   ]
   }
,
{
		   "cell_type": "markdown",
		   "metadata": {},
		   "source": [
			"## Example 18.6: Calculations_on_a_Gas_Turbine.sce"
		   ]
		  },
  {
"cell_type": "code",
	   "execution_count": null,
	   "metadata": {
	    "collapsed": true
	   },
	   "outputs": [],
"source": [
"// scilab Code Exa 18.6 Calculations on a Gas Turbine \n",
"\n",
"m=472; // flow rate of hot gases in kg/s\n",
"T01=1335;  // Turbine inlet temp in Kelvin\n",
"p01=10; // Turbine Inlet Pressure in bar\n",
"c2=150; // exit velocity in m/s\n",
"pr0=10; // Turbine pressure ratio\n",
"gamma_g=1.67;\n",
"T2=560;  // Temperature of gases at exit in Kelvin\n",
"cp_g=1.157; // Specific Heat of gas at Constant Pressure in kJ/(kgK)\n",
"\n",
"// part(a) Determining total to total efficiency\n",
"T02=T2+(0.5*(c2^2)/(cp_g*1e3));\n",
"T02s=T01/(pr0^((gamma_g-1)/gamma_g));\n",
"n_tt=(T01-T02)/(T01-T02s);\n",
"disp('%',n_tt*100,'(a)total to total efficiency is')\n",
"\n",
"\n",
"// part(b) Determining total to static efficiency\n",
"T2s=T02s-(0.5*(c2^2)/(cp_g*1e3));\n",
"n_ts=(T01-T02)/(T01-T2s);\n",
"disp('%',n_ts*100,'(b)total to static efficiency is')\n",
"\n",
"// part(c) Determining the polytropic efficiency\n",
"n_p=((gamma_g)/(gamma_g-1))*((log(T01/T02))/(log(pr0)));\n",
"disp('%',n_p*100,'(c)polytropic efficiency is')\n",
"\n",
"// part(d) Determining power developed by the turbine\n",
"P=m*cp_g*(T01-T02);\n",
"disp('MW',P/1e3,'(d)Power developed by the turbine is')"
   ]
   }
,
{
		   "cell_type": "markdown",
		   "metadata": {},
		   "source": [
			"## Example 18.7: RHF_of_a_three_stage_turbine.sce"
		   ]
		  },
  {
"cell_type": "code",
	   "execution_count": null,
	   "metadata": {
	    "collapsed": true
	   },
	   "outputs": [],
"source": [
"// scilab Code Exa 18.7 RHF of a three stage turbine\n",
"\n",
"p1=1.0; // Initial Pressure in bar\n",
"gamma=1.4;\n",
"T1=1500;  // Initial Temperature in K\n",
"s=3; // number of stages\n",
"opr=11; // Overall Pressure Ratio\n",
"pr=opr^(1/s); // equal Pressure Ratio in each stage\n",
"n_T=0.88; // Overall Efficiency \n",
"delTa=T1*(1-opr^(-((gamma-1)/gamma)))*n_T;\n",
"T2=T1-delTa;\n",
"n_p=(log(T1/T2))/(((gamma-1)/gamma)*(log(opr))); // polytropic or small stage efficiency\n",
"cp=1.005; // Specific Heat at Constant Pressure in kJ/(kgK)\n",
"n_st=(1-pr^(n_p*(-((gamma-1)/gamma))))/(1-pr^(-((gamma-1)/gamma))); // stage efficiency\n",
"T(1)=T1;\n",
"for i=1:3\n",
"    delT(i)=T(i)*(1-pr^(n_p*(-((gamma-1)/gamma))));\n",
"    delw_s(i)=delT(i)*cp/n_st;\n",
"    T(i+1)=T(i)-delT(i);\n",
"end\n",
"w_a=cp*delTa;\n",
"w_s=w_a/n_T;\n",
"RHF=(delw_s(1)+delw_s(2)+delw_s(3))/w_s;\n",
"disp(RHF,'the reheat factor is')\n",
""
   ]
   }
,
{
		   "cell_type": "markdown",
		   "metadata": {},
		   "source": [
			"## Example 18.8: Calculation_on_an_air_compressor.sce"
		   ]
		  },
  {
"cell_type": "code",
	   "execution_count": null,
	   "metadata": {
	    "collapsed": true
	   },
	   "outputs": [],
"source": [
"// scilab Code Exa 18.8 Calculation on an air compressor\n",
"\n",
"funcprot(0)\n",
"p1=1.0; // Initial Pressure in bar\n",
"T1=305;  // Initial Temperature in degree K\n",
"k=16; // number of stages\n",
"m=400; // mass flow rate through the compressor in kg/s\n",
"p_rc=10; // overall Pressure Ratio\n",
"gamma=1.4; // Specific Heat Ratio\n",
"cp=1.005; // Specific Heat at Constant Pressure in kJ/(kgK)\n",
"n_p=0.88; // polytropic efficiency\n",
"\n",
"// part(a) Determining stage Pressure Ratio\n",
"pr=p_rc^(1/k);\n",
"disp(pr,'(a)stage Pressure Ratio is')\n",
"\n",
"// part(b) Determining the stage efficiency\n",
"T2s=T1*(pr^((gamma-1)/gamma));\n",
"T2=T1*(pr^((gamma-1)/(gamma*n_p)));\n",
"n_st=(T2s-T1)/(T2-T1);\n",
"disp('%',n_st*100,'(b)stage Efficiency of the compressor is')\n",
"\n",
"// part(c) Determining power required for the first stage\n",
"P1=m*cp*(T2-T1);\n",
"disp ('MW',P1/1e3,'(c)Power required for the first stage is')\n",
"\n",
"// part(d)Overall Compressor Efficiency\n",
"T17=T1*exp(((gamma-1)/(gamma*n_p))*(log(p_rc))); // k+1=17;\n",
"T17s=T1*(p_rc^((gamma-1)/gamma));\n",
"n_C=(T17s-T1)/(T17-T1);\n",
"disp ('%',n_C*100,'(d)Overall Compressor Efficiency is')\n",
"\n",
"// part(e) Determining power required to drive the compressor\n",
"P=m*cp*(T17-T1);\n",
"disp ('MW',P/1e3,'(e)Power required to drive the compressor is')"
   ]
   }
,
{
		   "cell_type": "markdown",
		   "metadata": {},
		   "source": [
			"## Example 18.9: Constant_Pressure_Gas_Turbine_Plant.sce"
		   ]
		  },
  {
"cell_type": "code",
	   "execution_count": null,
	   "metadata": {
	    "collapsed": true
	   },
	   "outputs": [],
"source": [
"// scilab Code Exa 18.9 Constant Pressure Gas Turbine Plant\n",
"\n",
"T1=298; // Minimum Temperature in Kelvin\n",
"beeta=4.5; // Maximum to Minimum Temperature ratio(T_max/T_min)\n",
"m=115; // mass flow rate through the turbine and compressor in kg/s\n",
"n_C=0.79; // Compressor Efficiency\n",
"n_T=0.83; // Turbine Efficiency\n",
"gamma_g=1.33;\n",
"R=0.287;\n",
"cp=(gamma_g/(gamma_g-1))*R; // Specific Heat at Constant Pressure in kJ/(kgK)\n",
"alpha=beeta*n_C*n_T;\n",
"t_opt=sqrt(alpha); // For maximum power output, the temperature ratios in the turbine and compressor\n",
"\n",
"// part(a) Determining optimum pressure ratio of the plant\n",
"r=t_opt^(gamma_g/(gamma_g-1));\n",
"disp(r,'(a)optimum pressure ratio of the plant is')\n",
"\n",
"// part(b)Carnot's efficiency\n",
"n_Carnot=1-(1/beeta);\n",
"disp('%',n_Carnot*100,'(b)Carnot efficiency of the plant is')\n",
"\n",
"// part(c) Determining Joule's cycle efficiency\n",
"n_Joule=1-(1/t_opt);\n",
"disp('%',n_Joule*100,'(c)efficiency of the Joule cycle is')\n",
"\n",
"// part(d) Determining thermal efficiency of the plant for maximum power output\n",
"n_th=(t_opt-1)^2/((beeta-1)*n_C-(t_opt-1));\n",
"disp('%',n_th*100,'(d)thermal efficiency of the plant for maximum power output is')\n",
"\n",
"// part(e) Determining power output\n",
"wp_max=cp*T1*((t_opt-1)^2)/n_C; // maximum work output\n",
"P_max=m*wp_max;\n",
"disp ('MW',P_max/1e3,'(e)Power output is')\n",
"\n",
"// part(f) Determining power generated by the turbine required to drive the compressor\n",
"T3=beeta*T1;  // Maximum Temperature in degree K\n",
"T4s=T3*(r^(-((gamma_g-1)/gamma_g)));\n",
"T4=T3-((T3-T4s)*n_T);\n",
"P_T=m*cp*(T3-T4);\n",
"disp ('MW',P_T/1e3,'(f)Power generated by the turbine is')\n",
"\n",
"// part(g) Determining power absorbed by the compressor\n",
"T2s=T1*(r^((gamma_g-1)/gamma_g));\n",
"T2=T1+((T2s-T1)/n_C);\n",
"P_C=m*cp*(T2-T1);\n",
"disp ('MW',P_C/1e3,'(g)Power absorbed by the compressor is')\n",
"\n",
"//part(h)heat supplied in the combustion chamber\n",
"Qs=m*cp*(T3-T2);\n",
"disp('MW',Qs/1e3,'(h)heat supplied in the combustion chamber is')"
   ]
   }
],
"metadata": {
		  "kernelspec": {
		   "display_name": "Scilab",
		   "language": "scilab",
		   "name": "scilab"
		  },
		  "language_info": {
		   "file_extension": ".sce",
		   "help_links": [
			{
			 "text": "MetaKernel Magics",
			 "url": "https://github.com/calysto/metakernel/blob/master/metakernel/magics/README.md"
			}
		   ],
		   "mimetype": "text/x-octave",
		   "name": "scilab",
		   "version": "0.7.1"
		  }
		 },
		 "nbformat": 4,
		 "nbformat_minor": 0
}
