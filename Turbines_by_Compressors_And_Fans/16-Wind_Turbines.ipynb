{
"cells": [
 {
		   "cell_type": "markdown",
	   "metadata": {},
	   "source": [
       "# Chapter 16: Wind Turbines"
	   ]
	},
{
		   "cell_type": "markdown",
		   "metadata": {},
		   "source": [
			"## Example 16.1: Wind_turbine_output_100_kW.sce"
		   ]
		  },
  {
"cell_type": "code",
	   "execution_count": null,
	   "metadata": {
	    "collapsed": true
	   },
	   "outputs": [],
"source": [
"// scilab Code Exa 16.1 Wind turbine output 100 kW\n",
"\n",
"c_u=48*5/18; // wind upstream velocity in m/s\n",
"n=0.95; // overall Efficiency of the drive\n",
"P=100; // aerogenerator power output in kW\n",
"n_m=0.9; // mechanical Efficiency of the drive\n",
"n_a=0.7; // aerodynamic Efficiency\n",
"ro=1.125; // density of air in kg/m3\n",
"cp_max=0.593; // power coefficient for the windmill(Pi/Pu)\n",
"\n",
"// part(a) propeller diameter of the windmill\n",
"A=2*P*1e3/(ro*(c_u^3)*n*n_m*n_a*cp_max);\n",
"d=sqrt(4*A/%pi);\n",
"disp('m',d,'(a)the propeller diameter of the windmill is')\n",
"\n",
"// part(b)\n",
"disp('(b)corresponding to maximum power')\n",
"c=2*c_u/3;\n",
"disp('m/s',c,'the wind velocity through the propeller disc is')\n",
"delp1_a=5*ro*(c^2)/8;\n",
"disp('mm W.G.',delp1_a/9.81,'the gauge pressure just before the disc is')\n",
"delp2_a=-3*ro*(c^2)/8;\n",
"disp('mm W.G.',delp2_a/9.81,'the gauge pressure just after the disc is')\n",
"Fx=(delp1_a-delp2_a)*A;\n",
"disp('kN',Fx*1e-3,'and the axial thrust is')"
   ]
   }
],
"metadata": {
		  "kernelspec": {
		   "display_name": "Scilab",
		   "language": "scilab",
		   "name": "scilab"
		  },
		  "language_info": {
		   "file_extension": ".sce",
		   "help_links": [
			{
			 "text": "MetaKernel Magics",
			 "url": "https://github.com/calysto/metakernel/blob/master/metakernel/magics/README.md"
			}
		   ],
		   "mimetype": "text/x-octave",
		   "name": "scilab",
		   "version": "0.7.1"
		  }
		 },
		 "nbformat": 4,
		 "nbformat_minor": 0
}
