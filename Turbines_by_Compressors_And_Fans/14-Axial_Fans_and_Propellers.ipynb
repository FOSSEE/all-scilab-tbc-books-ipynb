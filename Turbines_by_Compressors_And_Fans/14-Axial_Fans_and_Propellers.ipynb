{
"cells": [
 {
		   "cell_type": "markdown",
	   "metadata": {},
	   "source": [
       "# Chapter 14: Axial Fans and Propellers"
	   ]
	},
{
		   "cell_type": "markdown",
		   "metadata": {},
		   "source": [
			"## Example 14.1: Axial_fan_stage_960_rpm.sce"
		   ]
		  },
  {
"cell_type": "code",
	   "execution_count": null,
	   "metadata": {
	    "collapsed": true
	   },
	   "outputs": [],
"source": [
"// scilab Code Exa 14.1 Axial fan stage 960 rpm\n",
"beta3=10; // rotor blade air angle at exit in degree\n",
"dh=0.3; // hub diameter in m\n",
"dt=0.6; // tip diameter in m\n",
"N=960; // rotor Speed in RPM\n",
"P=1; // Power required in kW\n",
"phi=0.245; // flow coefficient\n",
"T1=316;  // in Kelvin\n",
"p1=1.02; //Initial Pressure in bar\n",
"R=287;\n",
"A=%pi*((dt^2)-(dh^2))/4;\n",
"d=0.5*(dt+dh);\n",
"u=%pi*d*N/60;\n",
"cx=phi*u;\n",
"Q=cx*A;\n",
"ro=(p1*1e5)/(R*T1);\n",
"delp0_st=ro*(u^2)*(1-(phi*(tand(beta3))));\n",
"disp('mm W.G.',delp0_st/9.81,'stage pressure rise is')\n",
"IP=Q*delp0_st/1000; // ideal power required to drive the fan in kW\n",
"n_o=IP/P;\n",
"disp('%',n_o*1e2,'the overall Efficiency of the fan is') \n",
"beta2=atand(u/cx);\n",
"disp('degree',beta2,'the blade air angle at the entry beta2=')\n",
"delp_st=0.5*ro*(u^2)*(1-(phi^2*(tand(beta3)^2)));\n",
"DOR=delp_st/delp0_st;\n",
"disp('%',DOR*1e2,'the degree of reaction is') \n",
"omega=2*%pi*N/60;\n",
"gH=delp0_st/ro;\n",
"NS=omega*sqrt(Q)/(gH^(3/4));\n",
"disp(NS,'the dimensionless specific speed is')"
   ]
   }
,
{
		   "cell_type": "markdown",
		   "metadata": {},
		   "source": [
			"## Example 14.2: Downstream_guide_vanes.sce"
		   ]
		  },
  {
"cell_type": "code",
	   "execution_count": null,
	   "metadata": {
	    "collapsed": true
	   },
	   "outputs": [],
"source": [
"// scilab Code Exa 14.2 Downstream guide vanes\n",
"\n",
"beta3=10; // rotor blade air angle at exit in degree\n",
"dh=0.3; // hub diameter in m\n",
"dt=0.6; // tip diameter in m\n",
"N=960; // rotor Speed in RPM\n",
"phi=0.245; // flow coefficient\n",
"d=0.5*(dt+dh);\n",
"u=%pi*d*N/60;\n",
"cx=phi*u;\n",
"cy3=u-(cx*tand(beta3));\n",
"alpha3=atand(cy3/cx);\n",
"disp('the rotor blade air angles, overall efficiency, flow rate, power required and degree of reaction are the same as calculated in Ex14_1')\n",
"disp('degree',alpha3,'the guide vane air angle at the entry alpha3=')"
   ]
   }
,
{
		   "cell_type": "markdown",
		   "metadata": {},
		   "source": [
			"## Example 14.3: upstream_guide_vanes.sce"
		   ]
		  },
  {
"cell_type": "code",
	   "execution_count": null,
	   "metadata": {
	    "collapsed": true
	   },
	   "outputs": [],
"source": [
"// scilab Code Exa 14.3 upstream guide vanes\n",
"beta2=86; // rotor blade air angle at inlet in degree\n",
"dh=0.3; // hub diameter in m\n",
"dt=0.6; // tip diameter in m\n",
"N=960; // rotor Speed in RPM\n",
"phi=0.245; // flow coefficient\n",
"T1=316;  // in Kelvin\n",
"p1=1.02; //Initial Pressure in bar\n",
"R=287;\n",
"n_o=0.647; // overall Efficiency of the drive\n",
"A=%pi*((dt^2)-(dh^2))/4;\n",
"d=0.5*(dt+dh);\n",
"u=%pi*d*N/60;\n",
"cx=phi*u;\n",
"Q=cx*A;\n",
"ro=(p1*1e5)/(R*T1);\n",
"\n",
"// part(i) static pressure rise in the rotor and stage\n",
"delh0_st=(u^2)*((phi*(tand(beta2)))-1);\n",
"delp0_st=ro*delh0_st;\n",
"disp('mm W.G.',delp0_st/9.81,'(i)static pressure rise in the stage is')\n",
"beta3=atand(u/cx);\n",
"w2=cx/(cosd(beta2));\n",
"w3=cx/(cosd(beta3));\n",
"delp_r=0.5*ro*((w2^2)-(w3^2));\n",
"disp('mm W.G.',delp_r/9.81,'and the static pressure rise in the rotor is')\n",
"\n",
"// part(ii) the stage pressure coefficient and degree of reaction\n",
"shi=2*((phi*(tand(beta2)))-1);\n",
"disp(shi,'(ii)stage pressure coefficient is')\n",
"DOR=0.5*((phi*(tand(beta2)))+1);\n",
"disp('%',DOR*1e2,'and the degree of reaction is') \n",
"\n",
"// part(iii) the blade air angle at the rotor exit and the air angle at the UGV exit\n",
"disp('degree',beta3,'(iii)the blade air angle at the rotor exit beta3=')\n",
"cy2=(cx*tand(beta2))-u;\n",
"alpha2=atand(cy2/cx);\n",
"disp('degree',alpha2,'and the air angle at the UGV exit alpha2=')\n",
"\n",
"// part(iv) Power required to drive the fan\n",
"m=ro*Q;\n",
"P=m*delh0_st/n_o;\n",
"disp('kW',P/1000,'(iv)Power required to drive the fan is')"
   ]
   }
,
{
		   "cell_type": "markdown",
		   "metadata": {},
		   "source": [
			"## Example 14.4: rotor_and_upstream_guide_blades.sce"
		   ]
		  },
  {
"cell_type": "code",
	   "execution_count": null,
	   "metadata": {
	    "collapsed": true
	   },
	   "outputs": [],
"source": [
"// scilab Code Exa 14.4 rotor and upstream guide blades\n",
"beta2=30; // rotor blade air angle at inlet in degree\n",
"beta3=10; // rotor blade air angle at exit in degree\n",
"dh=0.3; // hub diameter in m\n",
"dt=0.6; // tip diameter in m\n",
"N=960; // rotor Speed in RPM\n",
"phi=0.245; // flow coefficient\n",
"T1=316;  // in Kelvin\n",
"p1=1.02; //Initial Pressure in bar\n",
"R=287;\n",
"n_d=0.88; // Efficiency of the drive\n",
"n_f=0.8; // Efficiency of the fan\n",
"A=%pi*((dt^2)-(dh^2))/4;\n",
"d=0.5*(dt+dh);\n",
"u=%pi*d*N/60;\n",
"cx=phi*u;\n",
"Q=cx*A;\n",
"ro=(p1*1e5)/(R*T1);\n",
"delh0_st=(u^2)*phi*(tand(beta2)-tand(beta3));\n",
"n_o=n_f*n_d;\n",
"delp0_st=n_f*ro*delh0_st;\n",
"disp('mm W.G.',delp0_st/9.81,'static pressure rise in the stage is')\n",
"shi=2*phi*(tand(beta2)-tand(beta3));\n",
"disp(shi,'stage pressure coefficient is')\n",
"m=ro*Q;\n",
"P=m*delh0_st/n_d;\n",
"disp('kW',P/1000,'Power required to drive the fan is')"
   ]
   }
,
{
		   "cell_type": "markdown",
		   "metadata": {},
		   "source": [
			"## Example 14.5: DGVs_and_upstream_guide_vanes.sce"
		   ]
		  },
  {
"cell_type": "code",
	   "execution_count": null,
	   "metadata": {
	    "collapsed": true
	   },
	   "outputs": [],
"source": [
"// scilab Code Exa 14.5 DGVs and upstream guide vanes\n",
"beta2=86; // rotor blade air angle at inlet in degree\n",
"beta3=10; // rotor blade air angle at exit in degree\n",
"dh=0.3; // hub diameter in m\n",
"dt=0.6; // tip diameter in m\n",
"N=960; // rotor Speed in RPM\n",
"phi=0.245; // flow coefficient\n",
"T1=316;  // in Kelvin\n",
"p1=1.02; //Initial Pressure in bar\n",
"R=287;\n",
"n_d=0.8; // Efficiency of the drive\n",
"n_f=0.85; // Efficiency of the fan\n",
"A=%pi*((dt^2)-(dh^2))/4;\n",
"d=0.5*(dt+dh);\n",
"u=%pi*d*N/60;\n",
"cx=phi*u;\n",
"Q=cx*A;\n",
"ro=(p1*1e5)/(R*T1);\n",
"delh0_st=2*(u^2)*((phi*(tand(beta2)))-1);\n",
"delp0_st=n_f*ro*delh0_st;\n",
"disp('mm W.G.',delp0_st/9.81,'static pressure rise in the stage is')\n",
"shi=4*((phi*(tand(beta2)))-1);\n",
"disp(shi,'stage pressure coefficient is')\n",
"m=ro*Q;\n",
"P=m*delh0_st/n_d;\n",
"disp('kW',P/1000,'Power of the electric motor is')"
   ]
   }
,
{
		   "cell_type": "markdown",
		   "metadata": {},
		   "source": [
			"## Example 14.6: open_propeller_fan.sce"
		   ]
		  },
  {
"cell_type": "code",
	   "execution_count": null,
	   "metadata": {
	    "collapsed": true
	   },
	   "outputs": [],
"source": [
"// scilab Code Exa 14.6 open propeller fan\n",
"c_u=5; // upstream velocity in m/s\n",
"c_s=25; // downstream velocity in m/s\n",
"t=37; // in degree C\n",
"T=t+273; // in Kelvin\n",
"d=0.5;\n",
"p=1.02; // Initial Pressure in bar\n",
"R=287;\n",
"n_o=0.4; // overall Efficiency of the fan\n",
"A=%pi*(d^2)/4;\n",
"c=0.5*(c_u+c_s);\n",
"Q=c*A;\n",
"ro=(p*1e5)/(R*T);\n",
"m=ro*c*A;\n",
"disp('kg/s',m,'(a) flow rate through the fan is')\n",
"delh_0=0.5*((c_s^2)-(c_u^2));\n",
"delp_0=ro*delh_0;\n",
"disp('mm W.G.',delp_0/9.81,'(b)static pressure rise in the stage is')\n",
"P=m*delh_0/n_o;\n",
"disp('kW',P/1000,'(c)Power required to drive the fan is')"
   ]
   }
],
"metadata": {
		  "kernelspec": {
		   "display_name": "Scilab",
		   "language": "scilab",
		   "name": "scilab"
		  },
		  "language_info": {
		   "file_extension": ".sce",
		   "help_links": [
			{
			 "text": "MetaKernel Magics",
			 "url": "https://github.com/calysto/metakernel/blob/master/metakernel/magics/README.md"
			}
		   ],
		   "mimetype": "text/x-octave",
		   "name": "scilab",
		   "version": "0.7.1"
		  }
		 },
		 "nbformat": 4,
		 "nbformat_minor": 0
}
