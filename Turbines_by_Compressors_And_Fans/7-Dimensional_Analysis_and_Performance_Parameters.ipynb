{
"cells": [
 {
		   "cell_type": "markdown",
	   "metadata": {},
	   "source": [
       "# Chapter 7: Dimensional Analysis and Performance Parameters"
	   ]
	},
{
		   "cell_type": "markdown",
		   "metadata": {},
		   "source": [
			"## Example 7.1: Calculation_for_the_specific_speed.sce"
		   ]
		  },
  {
"cell_type": "code",
	   "execution_count": null,
	   "metadata": {
	    "collapsed": true
	   },
	   "outputs": [],
"source": [
"// scilab Code Exa 7.1 Calculation for the specific speed\n",
"funcprot(0)\n",
"//part(a)specific speed of gas turbine\n",
"P=2e3; // Gas Turbine Power Output in kW\n",
"N=16e3; // Speed in RPM\n",
"T1=1e3;  // Entry Temperature in Kelvin\n",
"p1=50; //  Entry Pressure in bar\n",
"p2=25; //  Exit Pressure in bar\n",
"cp=1.15e3; // Specific Heat at Constant Pressure in J/(kgK)\n",
"gamma_g=1.3;\n",
"omega=%pi*2*N/60;\n",
"ro=p1*1e5/(((gamma_g-1)/gamma_g)*cp*T1);\n",
"pr=p2/p1; //  pressure ratio\n",
"T2s=T1*(pr^((gamma_g-1)/gamma_g));\n",
"delh_s=cp*(T1-T2s);\n",
"NS=omega*sqrt(P*10e2/ro)*delh_s^(-5/4)\n",
"disp(NS,'(a)the specific speed of gas turbine is')\n",
"\n",
"// part(b)the specific speed of a centrifugal compressor\n",
"pr_b=2; // Compressor pressure ratio\n",
"N_b=24e3; // Speed in RPM\n",
"m=1.5; //  in kg/s\n",
"cp_a=1.005e3; // Specific Heat of air at Constant Pressure in kJ/(kgK)\n",
"R=0.287;\n",
"gamma=1.4;\n",
"T1_b=300;  // Entry Temperature in Kelvin\n",
"p1_b=1; //  Entry Pressure in bar\n",
"ro_b=p1_b*1e2/(R*T1_b);\n",
"omega_b=%pi*2*N_b/60;\n",
"Q=m/ro_b;\n",
"T2=T1_b*(pr_b^((gamma-1)/gamma));\n",
"delh_s_b=cp_a*(T2-T1_b);\n",
"NS_b=omega_b*sqrt(Q)*delh_s_b^(-3/4);\n",
"disp(NS_b,'(b)the specific speed of a centrifugal compressor is')\n",
"\n",
"// part(c)the specific speed of an axial compressor\n",
"pr_c=1.4; // Compressor pressure ratio\n",
"N_c=6e3; // Speed in RPM\n",
"m_c=15; //  in kg/s\n",
"omega_c=%pi*2*N_c/60;\n",
"Q_c=m_c/ro_b;\n",
"T2_c=T1_b*(pr_c^((gamma-1)/gamma));\n",
"delh_s_c=cp_a*(T2_c-T1_b);\n",
"NS_c=omega_c*sqrt(Q_c)*delh_s_c^(-3/4)\n",
"disp(NS_c,'(c)the specific speed of an axial compressor is')"
   ]
   }
,
{
		   "cell_type": "markdown",
		   "metadata": {},
		   "source": [
			"## Example 7.2: Calculating_the_discharge_and_specific_speed.sce"
		   ]
		  },
  {
"cell_type": "code",
	   "execution_count": null,
	   "metadata": {
	    "collapsed": true
	   },
	   "outputs": [],
"source": [
"\n",
"// scilab Code Exa 7.2 Calculating the discharge of a geometrically similar blower and specific speed of the fan\n",
"pr=2; // Compressor pressure ratio\n",
"N1=1.47e3; // fan Speed in RPM\n",
"N2=0.36e3; // blower Speed in RPM\n",
"Q1=2; // discharge in m3/s\n",
"h=10e-3; // in m W.G.\n",
"ro_w=10e2;\n",
"ro_a=1.25; // density of air in kg/m3\n",
"omega1=%pi*2*N1/60;\n",
"g=9.81; // in m/s2\n",
"p=ro_w*g*h\n",
"H=p/(ro_a*g);\n",
"delh_s=g*H;\n",
"NS=omega1*sqrt(Q1)*delh_s^(-3/4)\n",
"disp(NS,'the specific speed is')\n",
"// for the same specific speed of two geometrically similar fans\n",
"a=N1/N2;\n",
"Q2=a^2*Q1;\n",
"disp('m3/s',Q2,' and the discharge of a geometrically similar blower is')"
   ]
   }
,
{
		   "cell_type": "markdown",
		   "metadata": {},
		   "source": [
			"## Example 7.3: Calculation_on_a_small_compressor.sce"
		   ]
		  },
  {
"cell_type": "code",
	   "execution_count": null,
	   "metadata": {
	    "collapsed": true
	   },
	   "outputs": [],
"source": [
"// scilab Code Exa 7.3 Calculation on a small compressor\n",
"pr=1.6; // Compressor pressure ratio\n",
"N1=54e3; // Speed in RPM\n",
"n_c=0.85; // efficiency\n",
"m_a=1.5778; //  in kg/s\n",
"cp_a=1.009; // Specific Heat of air at Constant Pressure in kJ/(kgK)\n",
"gamma=1.4;\n",
"// part (a) determining the power required to drive the compressor\n",
"T01=300;  // Entry Temperature in Kelvin\n",
"p01=1.008; //  Entry Pressure in bar\n",
"n=(gamma-1)/gamma;\n",
"T2s=T01*(pr^n);\n",
"delh_s=cp_a*(T2s-T01)/n_c;\n",
"P=m_a*delh_s;\n",
"disp('kW',P,'(a)Power required to drive the compressor is')\n",
"\n",
"// part (b) determining the speed, mass flow rate, pressure ratio and power required of a geometrically similar compressor\n",
"// geometrically similar compressor of 3 times the size of small compressor is constructed \n",
"N2=N1/3;\n",
"disp('rpm',N2,'(b)(i)speed of a geometrically similar compressor is')\n",
"m2=9*m_a;\n",
"disp('kg/s',m2,'(b)(ii)mass flow rate of a geometrically similar compressor is')\n",
"disp(pr,'(b)(iii)pressure ratio of a geometrically similar compressor is')\n",
"P2=9*P;\n",
"disp('kW',P2,'(b)(iv)Power required is')\n",
""
   ]
   }
,
{
		   "cell_type": "markdown",
		   "metadata": {},
		   "source": [
			"## Example 7.4: Calculation_on_design_of_a_single_stage_gas_turbine.sce"
		   ]
		  },
  {
"cell_type": "code",
	   "execution_count": null,
	   "metadata": {
	    "collapsed": true
	   },
	   "outputs": [],
"source": [
"// scilab Code Exa 7.4 Calculation on a single stage gas turbine\n",
"\n",
"gamma_g=1.33;\n",
"gamma=1.4\n",
"R_g=284.1;\n",
"R=287;\n",
"P=1e3; // Power Output in kW\n",
"N1=3e3; // Speed in RPM\n",
"n_t=0.87; // efficiency\n",
"cp_g=1.145; // Specific Heat of gas at Constant Pressure in kJ/(kgK)\n",
"cp_a=1.0045; // Specific Heat of air at Constant Pressure in kJ/(kgK)\n",
"\n",
"// part (a)mass flow rate of the gas through the turbine\n",
"T01=1000;  // Entry Temperature in Kelvin\n",
"p01=2.5; //  Entry Pressure in bar\n",
"T01a=500;  // Entry Temperature of air in Kelvin\n",
"p01a=2; //  Entry Pressure of air in bar\n",
"p02=1; //  Exit Pressure in bar\n",
"pr0=p01/p02;\n",
"T02=T01*(pr0^(-((gamma_g-1)/gamma_g)));\n",
"delh_s1=cp_g*(T01-T02)*n_t;\n",
"m_g=P/delh_s1;\n",
"disp('kg/s',m_g,'(a)mass flow rate of the gas through the turbine is')\n",
"\n",
"// part (b)speed, mass flow rate, pressure ratio and power required \n",
"N2=sqrt(1/2)*5*N1;\n",
"disp('rpm',N2,'(b)(i)speed of a geometrically similar compressor is')\n",
"a=0.2; // a=D2/D1;\n",
"m2=(a^2)*sqrt(R_g/R)*sqrt(T01/T01a)*(p01a/p01)*m_g;\n",
"disp('kg/s',m2,'(b)(ii)mass flow rate of a geometrically similar turbine is')\n",
"delh_s2=0.5*delh_s1;\n",
"P2=m2*delh_s2;\n",
"disp('kW',P2,'(b)(iii)Power developed is')\n",
"pr=(1-(delh_s2/(cp_a*T01a*n_t)))^(-1/((gamma-1)/gamma));\n",
"disp(pr,'(b)(iv)pressure ratio of a geometrically similar turbine is')"
   ]
   }
],
"metadata": {
		  "kernelspec": {
		   "display_name": "Scilab",
		   "language": "scilab",
		   "name": "scilab"
		  },
		  "language_info": {
		   "file_extension": ".sce",
		   "help_links": [
			{
			 "text": "MetaKernel Magics",
			 "url": "https://github.com/calysto/metakernel/blob/master/metakernel/magics/README.md"
			}
		   ],
		   "mimetype": "text/x-octave",
		   "name": "scilab",
		   "version": "0.7.1"
		  }
		 },
		 "nbformat": 4,
		 "nbformat_minor": 0
}
