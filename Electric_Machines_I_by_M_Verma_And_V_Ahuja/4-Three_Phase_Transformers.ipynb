{
"cells": [
 {
		   "cell_type": "markdown",
	   "metadata": {},
	   "source": [
       "# Chapter 4: Three Phase Transformers"
	   ]
	},
{
		   "cell_type": "markdown",
		   "metadata": {},
		   "source": [
			"## Example 4.1: Find_the_value_of_line_current.sce"
		   ]
		  },
  {
"cell_type": "code",
	   "execution_count": null,
	   "metadata": {
	    "collapsed": true
	   },
	   "outputs": [],
"source": [
"//Caption:Find the value of line current\n",
"//Exa:4.1\n",
"clc;\n",
"clear;\n",
"close;\n",
"a=2200/200;//transformation ratio\n",
"P=450*1000;//in watts\n",
"pf=0.85;\n",
"V_s=200;//in volts\n",
"I_2=P/(pf*V_s);//in amperes\n",
"I_1=1.15*I_2/a;\n",
"disp(I_1,'Value of line currents (in Amperes)=')"
   ]
   }
,
{
		   "cell_type": "markdown",
		   "metadata": {},
		   "source": [
			"## Example 4.2: Find_the_value_of_line_current.sce"
		   ]
		  },
  {
"cell_type": "code",
	   "execution_count": null,
	   "metadata": {
	    "collapsed": true
	   },
	   "outputs": [],
"source": [
"//Caption:Find the value of line current\n",
"//Exa:4.2\n",
"clc;\n",
"clear;\n",
"close;\n",
"a=2200/200;//transformation ratio\n",
"P_1=400*1000;//in watts\n",
"P_2=500*1000;//in watts\n",
"pf=0.8;\n",
"V_s=200;//in volts\n",
"I_2=P_1/(pf*V_s);//in amperes\n",
"I_1=1.15*I_2/a;\n",
"I_1T=I_1/2;\n",
"I_2M=P_2/(pf*V_s*a);\n",
"I_p=sqrt((I_1T^2)+(I_2M^2));\n",
"disp(I_p,'Value of line current (in Amperes)=')"
   ]
   }
,
{
		   "cell_type": "markdown",
		   "metadata": {},
		   "source": [
			"## Example 4.3: Determine_the_efficiency_of_transformer.sce"
		   ]
		  },
  {
"cell_type": "code",
	   "execution_count": null,
	   "metadata": {
	    "collapsed": true
	   },
	   "outputs": [],
"source": [
"//Caption:Determine the efficiency of transformer at (a)full load and 0.85pf (b)75 percent of full load and unity pf (c)max efficieny at unity pf\n",
"//Exa:4.3\n",
"clc;\n",
"clear;\n",
"close;\n",
"P=100*1000;//in watts\n",
"P_iron=1500;//in watts\n",
"x=0.8;\n",
"P_cu=1500/x^2;//in watts\n",
"pf=0.8;\n",
"a=5000/400;//transformation ratio\n",
"P_t=P_iron+P_cu;\n",
"P_o=0.85*P;//in watts\n",
"Eff=P_o/(P_o+P_t);\n",
"disp(Eff*100,'(a)Efficiency at full load and 0.85pf (in %)=');\n",
"P_cu_1=0.75*P_cu;//in watts\n",
"P_t_1=P_cu_1+P_iron;//in watts\n",
"P_o_1=0.75*P;\n",
"Eff_1=P_o_1/(P_o_1+P_t_1);\n",
"disp(Eff_1*100,'(b)Efficiency at 75 percent of full load and unity pf(in %)=');\n",
"P_t_2=2*P_iron;\n",
"P_o_2=P;\n",
"Eff_2=P_o_2/(P_o_2+P_t_2);\n",
"disp(Eff_2*100,'(c)max efficieny at unity pf(in %)=');"
   ]
   }
,
{
		   "cell_type": "markdown",
		   "metadata": {},
		   "source": [
			"## Example 4.4: Find_the_value_of_line_voltage_and_line_current_and_output.sce"
		   ]
		  },
  {
"cell_type": "code",
	   "execution_count": null,
	   "metadata": {
	    "collapsed": true
	   },
	   "outputs": [],
"source": [
"//Caption:Find the value of line voltage,line current,and output when the transformer winding is connected as (a) Star-delta (b)delta-star\n",
"//Exa:4.4\n",
"clc;\n",
"clear;\n",
"close;\n",
"a=10;//transformation ratio\n",
"V_s=3300;//in volts\n",
"I_1=10;//in amperes\n",
"V_1=V_s/sqrt(3);\n",
"V_2=V_1/a;\n",
"I_2=sqrt(3)*a*I_1;\n",
"P_o=sqrt(3)*V_2*I_2;\n",
"disp('For Star-Delta Configruation')\n",
"disp(V_2,'Line voltage (in volts)=');\n",
"disp(I_2,'Line current (in amperes)=');\n",
"disp(P_o,'Output (in watts)=');\n",
"V_2p=V_s/a;\n",
"V_2L=sqrt(3)*V_2p;\n",
"I_2L=I_1*a/sqrt(3);\n",
"P_o2=sqrt(3)*V_2*I_2;\n",
"disp('For Delta-Star Configruation')\n",
"disp(V_2L,'Line voltage (in volts)=');\n",
"disp(I_2L,'Line current (in amperes)=');\n",
"disp(P_o2,'Output (in watts)=');"
   ]
   }
,
{
		   "cell_type": "markdown",
		   "metadata": {},
		   "source": [
			"## Example 4.5: Find_the_Efficiency.sce"
		   ]
		  },
  {
"cell_type": "code",
	   "execution_count": null,
	   "metadata": {
	    "collapsed": true
	   },
	   "outputs": [],
"source": [
"//Caption:Find the Efficiency\n",
"//Exa:4.5\n",
"clc;\n",
"clear;\n",
"close;\n",
"P=1200*1000;//in watts\n",
"R_1=2;//in ohms\n",
"R_2=0.03;//in ohms\n",
"P_iron=20000;//in watts\n",
"V_1p=6600;//in volts\n",
"V_2p=1100/sqrt(3);//in volts\n",
"a=V_1p/V_2p;\n",
"R_o2=R_2+(R_1/a^2);//in ohms\n",
"I_2p=P/(sqrt(3)*1100);//in amperes\n",
"P_cu=3*R_o2*I_2p^2;\n",
"P_t=P_iron+P_cu;\n",
"P_o=0.9*P;//in watts\n",
"Eff=P_o/(P_o+P_t);\n",
"disp(Eff*100,'Efficiency (in %)=')"
   ]
   }
,
{
		   "cell_type": "markdown",
		   "metadata": {},
		   "source": [
			"## Example 4.6: EX4_6.sce"
		   ]
		  },
  {
"cell_type": "code",
	   "execution_count": null,
	   "metadata": {
	    "collapsed": true
	   },
	   "outputs": [],
"source": [
"//Caption:Find the percentage resistance,reactance drop,efficiency and voltage regulation\n",
"//Exa:4.6\n",
"clc;\n",
"clear;\n",
"close;\n",
"P=1500*1000;//in watts\n",
"phy=acosd(0.8);\n",
"V_1P=300;//in volts\n",
"V_1L=6600;//in volts\n",
"I_1P=131.21/sqrt(3);\n",
"Z_1=V_1P/I_1P;//in ohms\n",
"R_1=30*1000/(3*I_1P^2);\n",
"X_1=sqrt((Z_1^2)-(R_1^2));\n",
"R=I_1P*R_1*100/V_1L;\n",
"X=I_1P*X_1*100/V_1L;\n",
"disp(R,'% Resistance drop (in %)=');\n",
"disp(X,'% Reactance drop (in %)=');\n",
"VR=(R*cosd(phy))+(X*sind(phy));\n",
"disp(VR,'Voltage regulation (in %)=')\n",
"I_1_FL=P/(sqrt(3)*V_1L);\n",
"P_t=(30+25)*1000;//in watts\n",
"P_o=P*0.8;//in watts\n",
"Eff=P_o/(P_o+P_t);\n",
"disp(Eff*100,'Efficiency (in %)=')"
   ]
   }
,
{
		   "cell_type": "markdown",
		   "metadata": {},
		   "source": [
			"## Example 4.7: EX4_7.sce"
		   ]
		  },
  {
"cell_type": "code",
	   "execution_count": null,
	   "metadata": {
	    "collapsed": true
	   },
	   "outputs": [],
"source": [
"//Caption:Determine the (a)KVA Load (b)Percentage rated load (c)Total KVA Rating (d)Ratio of star-star bank to delta-delta bank transformer rating (e)% increase in load\n",
"//Exa:4.7\n",
"clc;\n",
"clear;\n",
"close;\n",
"KVA=25;\n",
"KVA_s=50/sqrt(3);\n",
"disp(KVA_s,'(a)KVA Load supplied by each transformer (in KVA)=');\n",
"r=KVA_s/KVA;\n",
"disp(r,'(b)Percent of rated load (in %)=');\n",
"KVA_t=2*25*0.866;\n",
"disp(KVA_t,'(c)Total KVA rating (in KVA)=');\n",
"ratio=KVA_t/75;\n",
"disp(ratio,'(d)Ratio=');\n",
"KVA_s2=50/3;\n",
"Inc=KVA_s/KVA_s2;\n",
"disp(Inc*100,'(e)Increase in load (in %)=')"
   ]
   }
,
{
		   "cell_type": "markdown",
		   "metadata": {},
		   "source": [
			"## Example 4.8: EX4_8.sce"
		   ]
		  },
  {
"cell_type": "code",
	   "execution_count": null,
	   "metadata": {
	    "collapsed": true
	   },
	   "outputs": [],
"source": [
"//Caption:Determine the (a)Current flowing in various sections (b)Power transformed (c)Power conducted directly\n",
"//Exa:4.8\n",
"clc;\n",
"clear;\n",
"close;\n",
"P=400*1000;//in watts\n",
"pf=0.8;\n",
"V_1=550;//in volts\n",
"V_2=440;//in volts\n",
"I_2=P/(sqrt(3)*V_2*pf);// in amperes\n",
"I_1=I_2*V_2/V_1;//in amperes\n",
"I=I_2-I_1;\n",
"disp(I,'(a)Currents in sections Oa,Ob and Oc (in amperes)=');\n",
"disp(I_1,' Currents in sections Aa,Bb and Cc (in amperes)=');\n",
"P_trans=P*(1-(V_2/V_1));\n",
"disp(P_trans/1000,'(b)Power transformed by transformer action (in Kw)=');\n",
"P_cond=P-P_trans;\n",
"disp(P_cond/1000,'(c)Power Conducted directly(in Kw)=')"
   ]
   }
],
"metadata": {
		  "kernelspec": {
		   "display_name": "Scilab",
		   "language": "scilab",
		   "name": "scilab"
		  },
		  "language_info": {
		   "file_extension": ".sce",
		   "help_links": [
			{
			 "text": "MetaKernel Magics",
			 "url": "https://github.com/calysto/metakernel/blob/master/metakernel/magics/README.md"
			}
		   ],
		   "mimetype": "text/x-octave",
		   "name": "scilab",
		   "version": "0.7.1"
		  }
		 },
		 "nbformat": 4,
		 "nbformat_minor": 0
}
