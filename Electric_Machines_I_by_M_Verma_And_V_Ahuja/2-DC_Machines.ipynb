{
"cells": [
 {
		   "cell_type": "markdown",
	   "metadata": {},
	   "source": [
       "# Chapter 2: DC Machines"
	   ]
	},
{
		   "cell_type": "markdown",
		   "metadata": {},
		   "source": [
			"## Example 2.10: Find_the_load_current_and_generated_emf_and_flux_per_pole.sce"
		   ]
		  },
  {
"cell_type": "code",
	   "execution_count": null,
	   "metadata": {
	    "collapsed": true
	   },
	   "outputs": [],
"source": [
"//Caption:Find the (a)load current (b)generated emf (c)flux/pole\n",
"//Exa:2.10\n",
"clc;\n",
"clear;\n",
"close;\n",
"V_t=250;//in volts\n",
"P=6;//no. of poles\n",
"A=P;\n",
"Z=700;//no.of conductors\n",
"R_a=0.04;//armature winding resistance in ohms\n",
"R_f=100;//feild winding resistance in ohms\n",
"N=1000;//speed in rpm\n",
"I_f=V_t/R_f;//in amperes\n",
"I_a=7.2/R_a;//in amperes\n",
"I=I_a-I_f;//in amperes\n",
"E_g=V_t+I_a*R_a;\n",
"Phy=E_g*60*A/(P*N*Z);\n",
"disp(I,'(a) Load current (in amperes)=');\n",
"disp(E_g,'(b) Generated emf (in volts)=');\n",
"disp(Phy*1000,'(c) flux/pole (in mili weber)=');"
   ]
   }
,
{
		   "cell_type": "markdown",
		   "metadata": {},
		   "source": [
			"## Example 2.11: Find_the_armature_current_and_generated_emf_and_number_of_conductors_of_armature.sce"
		   ]
		  },
  {
"cell_type": "code",
	   "execution_count": null,
	   "metadata": {
	    "collapsed": true
	   },
	   "outputs": [],
"source": [
"//Caption:Find the (a)armature current (b)generated emf (c) no. of conductors of armature\n",
"//Exa:2.11\n",
"clc;\n",
"clear;\n",
"close;\n",
"P_o=22000;//power in watts\n",
"V_t=220;//in volts\n",
"V_b=1;//per brush drop in volts\n",
"P=4;//no. of poles\n",
"A=2;\n",
"R_se=0.04;//series resistance in ohms\n",
"R_a=0.05;//armature winding resistance in ohms\n",
"R_f=110;//feild winding resistance in ohms\n",
"Phy=7.8*10^-3;//in weber\n",
"N=1000;//speed in rpm\n",
"I=P_o/V_t;//in amperes\n",
"I_f=V_t/R_f;//in amperes\n",
"I_a=I+I_f;\n",
"E_g=V_t+I_a*(R_a+R_se)+2*V_b;\n",
"Z=E_g*60*A/(Phy*N*P)\n",
"disp(I_a,'(a) Armature current (in amperes)=');\n",
"disp(E_g,'(b) Generated emf (in volts)=');\n",
"disp(Z,'(c) No. of conductors of armature=');"
   ]
   }
,
{
		   "cell_type": "markdown",
		   "metadata": {},
		   "source": [
			"## Example 2.12: Find_the_power_absorbed_by_the_load.sce"
		   ]
		  },
  {
"cell_type": "code",
	   "execution_count": null,
	   "metadata": {
	    "collapsed": true
	   },
	   "outputs": [],
"source": [
"//Caption:Find the power absorbed by the load\n",
"//Exa:2.12\n",
"clc;\n",
"clear;\n",
"close;\n",
"P=6;//no. of poles\n",
"A=2;\n",
"Z=350;//no. of conductors\n",
"R_a=0.8;//armature winding resistance in ohms\n",
"R_f=120;//feild winding resistance in ohms\n",
"Phy=0.02;//in weber\n",
"N=1000;//speed in rpm\n",
"R_L=12;//load resistance in ohms\n",
"E_g=Phy*N*Z*P/(60*A);//emf induced in volts\n",
"V_t=E_g/(1+((1/R_f)+(1/R_L))*R_a);\n",
"I_L=V_t/R_L;//in amperes\n",
"P_o=V_t*I_L;//in watts\n",
"disp(P_o,'Power absorbed by the load (in watts)=')"
   ]
   }
,
{
		   "cell_type": "markdown",
		   "metadata": {},
		   "source": [
			"## Example 2.13: Find_the_percentage_reduction_in_speed.sce"
		   ]
		  },
  {
"cell_type": "code",
	   "execution_count": null,
	   "metadata": {
	    "collapsed": true
	   },
	   "outputs": [],
"source": [
"//Caption:Find the percentage reduction in speed\n",
"//Exa:2.13\n",
"clc;\n",
"clear;\n",
"close;\n",
"P1=200*10^3;//initial load in watts\n",
"P2=125*10^3;//final load in watts\n",
"V_t=250;//in volts\n",
"V_b=2;//total brush drop in volts\n",
"P=6;//no. of poles\n",
"R_a=0.015;//armature winding resistance in ohms\n",
"I_g1=P1/V_t;//in amperes\n",
"I_a1=I_g1;//in amperes\n",
"E_g1=V_t+I_a1*R_a+V_b;//in volts\n",
"I_g2=P2/V_t;//in amperes\n",
"I_a2=I_g2;//in amperes\n",
"E_g2=V_t+I_a2*R_a+V_b;//in volts\n",
"//since E_g is directly proportional to N\n",
"//therefore,E_g1/E_g2=N_1/N_2\n",
"r=E_g2/E_g1;\n",
"reduction=(1-r)*100;\n",
"disp(reduction,'Percentage reduction in speed (%)=') "
   ]
   }
,
{
		   "cell_type": "markdown",
		   "metadata": {},
		   "source": [
			"## Example 2.14: Find_the_speed.sce"
		   ]
		  },
  {
"cell_type": "code",
	   "execution_count": null,
	   "metadata": {
	    "collapsed": true
	   },
	   "outputs": [],
"source": [
"//Caption:Find the speed\n",
"//Exa:2.14\n",
"clc;\n",
"clear;\n",
"close;\n",
"V_t=400;//in volts\n",
"V_b=2;//total brush drop in volts\n",
"R_a=0.12;//armature winding resistance in ohms\n",
"N1=1000;//speed in rpm\n",
"I_a1=150;//in amperes\n",
"I_a2=100;//in amperes\n",
"R_L=V_t/I_a1;//load resistance in ohms\n",
"E_g1=V_t+I_a1*R_a+V_b;//in volts\n",
"V_to=R_L*I_a2;//in volts\n",
"E_g2=ceil (V_to+I_a2*R_a+V_b);//in volts\n",
"//Since E_g is directly proportional to N\n",
"//therefore,E_g1/E_g2=N1/N2\n",
"N2= N1*E_g2/E_g1;//in rpm\n",
"disp(ceil(N2),'Speed (in rpm)=')"
   ]
   }
,
{
		   "cell_type": "markdown",
		   "metadata": {},
		   "source": [
			"## Example 2.15: Find_the_Cu_loss_and_iron_and_friction_loss_and_torque.sce"
		   ]
		  },
  {
"cell_type": "code",
	   "execution_count": null,
	   "metadata": {
	    "collapsed": true
	   },
	   "outputs": [],
"source": [
"//Caption:Find the (a)Cu-loss (b)iron and friction loss (c) torque\n",
"//Exa:2.15\n",
"clc;\n",
"clear;\n",
"close;\n",
"P_o=25000;//output power in watts\n",
"V_t=250;//in volts\n",
"R_se=0.05;//series resistance in ohms\n",
"R_a=0.04;//armature winding resistance in ohms\n",
"R_f=50;//shunt feild winding resistance in ohms\n",
"Eff=0.89;//efficiency\n",
"N=1000;//speed in rpm\n",
"I=P_o/V_t;//in amperes\n",
"I_f=V_t/R_f;//in amperes\n",
"I_a=I+I_f;\n",
"P_cu=R_a*I_a^2+R_se*I_a^2+R_f*I_f^2;//copper loss in watts\n",
"disp(P_cu,'(a) Cu-loss (in watts)=');\n",
"P_i=P_o/Eff;//input power in watts\n",
"P_L=P_i-P_o;//total losses in watts\n",
"P_fric=P_L-P_cu;\n",
"disp(P_fric,'(b) Iron and friction loss (in watts)=');\n",
"T=P_i*60/(2*%pi*N);\n",
"disp(T,'(c) Torque (in N-m)=')"
   ]
   }
,
{
		   "cell_type": "markdown",
		   "metadata": {},
		   "source": [
			"## Example 2.16: Find_the_Flux_per_pole_and_total_number_of_conductors_and_torque.sce"
		   ]
		  },
  {
"cell_type": "code",
	   "execution_count": null,
	   "metadata": {
	    "collapsed": true
	   },
	   "outputs": [],
"source": [
"//Caption:Find the (a)Flux per pole (b)total number of conductors (c) torque\n",
"//Exa:2.16\n",
"clc;\n",
"clear;\n",
"close;\n",
"I_a=50;//in amperes\n",
"P=6;//no.of poles\n",
"E_g=200;//in volts\n",
"N=1500;//speed in rpm\n",
"A=6;\n",
"L=0.25;//in meter\n",
"d=0.2;//in meter\n",
"B=0.9;//in tesla\n",
"Theta=360/P;//angle subtended by pole shoe in degrees\n",
"l=%pi*L*Theta/360;//arc length of pole shoe in meter\n",
"area=l*d;//in meter^2\n",
"Phy=B*area;\n",
"disp(Phy,'(a) Flux per pole (in Weber)=');\n",
"Z=ceil(E_g*60/(Phy*N));\n",
"disp(Z,'(b) Total no. of conductors=');\n",
"T=9.55*E_g*I_a/N;\n",
"disp(T,'(c) Torque (in Newton-meter)=')"
   ]
   }
,
{
		   "cell_type": "markdown",
		   "metadata": {},
		   "source": [
			"## Example 2.17: EX2_17.sce"
		   ]
		  },
  {
"cell_type": "code",
	   "execution_count": null,
	   "metadata": {
	    "collapsed": true
	   },
	   "outputs": [],
"source": [
"//Caption:Find the (a)Demagnetizing AT per pole (b)Cross magnetizing AT per pole (c) number of turns per pole\n",
"//Exa:2.17\n",
"clc;\n",
"clear;\n",
"close;\n",
"P=40000;//in watts\n",
"E_g=400;//in volts\n",
"A=4;\n",
"Pole=4;\n",
"Z=2*30*12;//no. of conductors\n",
"theta_m=10;//in degrees\n",
"I_a=P/E_g;//armature current in amperes\n",
"I=I_a/A;//current in each conductor in amperes\n",
"AT_d=Z*I*theta_m/360;\n",
"disp(AT_d,'(a) Demagnetizing Ampere Turns per pole=');\n",
"AT_cm=Z*I*((1/(2*Pole))-(theta_m/360));\n",
"disp(AT_cm,'(b) Cross magnetizing Ampere Turns per pole=');\n",
"n=Z*I*0.8/(2*Pole*100);\n",
"disp(n,'(c) Number of turns per pole=')"
   ]
   }
,
{
		   "cell_type": "markdown",
		   "metadata": {},
		   "source": [
			"## Example 2.18: EX2_18.sce"
		   ]
		  },
  {
"cell_type": "code",
	   "execution_count": null,
	   "metadata": {
	    "collapsed": true
	   },
	   "outputs": [],
"source": [
"//Caption:Find the (a)current supplied by each generator (b)output voltage (c) output KW of each machine\n",
"//Exa:2.18\n",
"clc;\n",
"clear;\n",
"close;\n",
"V_t1=280;//terminal voltage of generator-1 in volts\n",
"V_nl1=240;//no-load voltage of generator-1 in volts\n",
"V_t2=300;//terminal voltage of generator-2 in volts\n",
"V_nl2=240;//no-load voltage of generator-2 in volts\n",
"I_s1=40;//supply current to generator-1 in amperes\n",
"I_s2=50;//supply current to generator-2 in amperes\n",
"V_d1=V_t1-V_nl1;//voltage drop for generator-1 in volts\n",
"V_d2=V_t2-V_nl2;//voltage drop for generator-2 in volts\n",
"V_d1_pa=V_d1/I_s1;//voltage drop per ampere for generator-1 in volts/ampere\n",
"V_d2_pa=V_d2/I_s2;//voltage drop per ampere for generator-2 in volts/ampere\n",
"I_2=(20+60)/(V_d1_pa+V_d2_pa);//in amperes\n",
"I_1=60-I_2;//in amperes\n",
"disp(I_1,'(a) Current supplied by generator-1(in amperes)=');\n",
"disp(I_2,'    Current supplied by generator-2(in amperes)=');\n",
"V_1=V_t1-(V_d1_pa*I_1);//in volts\n",
"V_2=V_t2-(V_d2_pa*I_2);//in volts\n",
"disp(V_1,'(b) Output voltage of generator-1(in volts)=');\n",
"disp(V_2,'(b) Output voltage of generator-2(in volts)=');\n",
"P_1=V_1*I_1/1000;//in kilo watts\n",
"P_2=V_2*I_2/1000;//in kilo watts\n",
"disp(P_1,'(c) Output KW of generator-1(in Kilo watts)=');\n",
"disp(P_2,'(c) Output KW of generator-2(in Kilo watts)=');"
   ]
   }
,
{
		   "cell_type": "markdown",
		   "metadata": {},
		   "source": [
			"## Example 2.19: Find_the_ratio_of_the_speed_as_a_generator_to_speed_as_a_motor.sce"
		   ]
		  },
  {
"cell_type": "code",
	   "execution_count": null,
	   "metadata": {
	    "collapsed": true
	   },
	   "outputs": [],
"source": [
"//Caption:Find the ratio of the speed as a generator to speed as a motor\n",
"//Exa:2.19\n",
"clc;\n",
"clear;\n",
"close;\n",
"V=250;//in volts\n",
"I_L=80;//in amperes\n",
"R_a=0.12;//in ohms\n",
"R=100;//in ohms\n",
"I_f=V/R;//in amperes\n",
"I_a1=I_L+I_f;//in amperes (generator)\n",
"E_1=V+(I_a1*R_a);//in volts (generator)\n",
"I_a2=I_L-I_f;//in amperes (motor)\n",
"E_2=V-(I_a2*R_a);//in volts (motor)\n",
"Ratio=E_1/E_2;\n",
"disp(Ratio,'Ratio of speed as a generator to speed as motor=')"
   ]
   }
,
{
		   "cell_type": "markdown",
		   "metadata": {},
		   "source": [
			"## Example 2.1: Find_current_delievered_by_each_machine_and_terminal_voltage.sce"
		   ]
		  },
  {
"cell_type": "code",
	   "execution_count": null,
	   "metadata": {
	    "collapsed": true
	   },
	   "outputs": [],
"source": [
"//Caption:Find (a)current delievered by each machine and (b)terminal voltage\n",
"//Exa:2.1\n",
"clc;\n",
"clear;\n",
"close;\n",
"//for 50kw generator\n",
"I_1=50*1000/500;//full load current in ampere\n",
"V_1=0.06*500;//full load voltage drop in volts\n",
"V_1pi=V_1/I_1;//voltage drop per ampere of current supply in volts/ampere\n",
"//for 100kw generator\n",
"I_2=100*1000/500;//full load current in ampere\n",
"V_2=0.04*500;//full load voltage drop in volts\n",
"V_2pi=V_2/I_2;//voltage drop per ampere of current supply in volts/ampere\n",
"i_1=250/(1+(V_1pi/V_2pi));//in amperes\n",
"i_2=250/(1+(V_2pi/V_1pi));//in amperes\n",
"disp(i_1,'(a) Current delievered in 50kw generator (in amperes)=');\n",
"disp(i_2,'    Current delievered in 100kw generator (in amperes)=');\n",
"V_t=500-V_1pi*i_1;//in volts\n",
"disp(V_t,'(b) Terminal voltage (in volts)=')"
   ]
   }
,
{
		   "cell_type": "markdown",
		   "metadata": {},
		   "source": [
			"## Example 2.20: Find_the_no_load_speed.sce"
		   ]
		  },
  {
"cell_type": "code",
	   "execution_count": null,
	   "metadata": {
	    "collapsed": true
	   },
	   "outputs": [],
"source": [
"//Caption:Find the no load speed \n",
"//Exa:2.20\n",
"clc;\n",
"clear;\n",
"close;\n",
"V=200;//in volts\n",
"I_a0=2;//in amperes\n",
"R_a=0.4;//in ohms\n",
"I_a1=50;//in amperes\n",
"N_1=1200;//in rpm\n",
"E_0=V-(I_a0*R_a);//in volts \n",
"E_1=V-(I_a1*R_a);//in volts \n",
"N_0=N_1*(E_0/E_1);//in rpm\n",
"disp(N_0,'No-load speed (in rpm)=')"
   ]
   }
,
{
		   "cell_type": "markdown",
		   "metadata": {},
		   "source": [
			"## Example 2.21: Find_the_speed_of_motor.sce"
		   ]
		  },
  {
"cell_type": "code",
	   "execution_count": null,
	   "metadata": {
	    "collapsed": true
	   },
	   "outputs": [],
"source": [
"//Caption:Find the speed of motor\n",
"//Exa:2.21\n",
"clc;\n",
"clear;\n",
"close;\n",
"V=250;//in volts\n",
"I_L1=5;//in amperes\n",
"R_a=0.2;//in ohms\n",
"R_f=250;//in ohms\n",
"I_f=V/R_f;//in amperes\n",
"I_a1=I_L1-I_f;//in amperes\n",
"I_L2=50;//in amperes\n",
"I_a2=I_L2-I_f;//in amperes\n",
"N_1=1000;//in rpm\n",
"E_2=V-(I_a2*R_a);//in volts \n",
"E_1=V-(I_a1*R_a);//in volts \n",
"N_2=N_1*(E_2/E_1);//in rpm\n",
"disp(N_2,'speed of motor (in rpm)=')"
   ]
   }
,
{
		   "cell_type": "markdown",
		   "metadata": {},
		   "source": [
			"## Example 2.22: Find_the_speed_of_machine.sce"
		   ]
		  },
  {
"cell_type": "code",
	   "execution_count": null,
	   "metadata": {
	    "collapsed": true
	   },
	   "outputs": [],
"source": [
"//Caption:Find the speed of machine\n",
"//Exa:2.22\n",
"clc;\n",
"clear;\n",
"close;\n",
"V=250;//in volts\n",
"P_i=50*10^3;//in watts\n",
"I_L1=P_i/V;//in amperes\n",
"R_a=0.02;//in ohms\n",
"R_f=50;//in ohms\n",
"I_f=V/R_f;//in amperes\n",
"I_a1=I_L1+I_f;//in amperes\n",
"I_L2=P_i/V;//in amperes\n",
"I_a2=I_L2-I_f;//in amperes\n",
"N_1=400;//in rpm\n",
"E_2=V-(I_a2*R_a)-(2*1);//in volts \n",
"E_1=V+(I_a1*R_a)+(2*1);//in volts \n",
"N_2=int(N_1*(E_2/E_1));//in rpm\n",
"disp(N_2,'speed of motor (in rpm)=')"
   ]
   }
,
{
		   "cell_type": "markdown",
		   "metadata": {},
		   "source": [
			"## Example 2.23: EX2_23.sce"
		   ]
		  },
  {
"cell_type": "code",
	   "execution_count": null,
	   "metadata": {
	    "collapsed": true
	   },
	   "outputs": [],
"source": [
"//Caption:Determine the (a)total torque(b)useful torque(c)useful flux per pole(d)rotational losses(e)efficiency\n",
"//Exa:2.23\n",
"clc;\n",
"clear;\n",
"close;\n",
"P=4;//no of poles\n",
"Z=560;//no of conductors\n",
"A=2;\n",
"V=250;//in volts\n",
"P_o=10*10^3;//in watts\n",
"R_a=0.2;//in ohms\n",
"I_f=1;//in amperes\n",
"I_a=60;//in amperes\n",
"N=1000;//in rpm\n",
"V_b=1*2//in volts\n",
"E=V-(I_a*R_a)-V_b;//in volts\n",
"T=60*E*I_a/(2*%pi*N);//in Newton-meter\n",
"disp(T,'(a) Total torque (in Newton-meter)=');\n",
"T_useful=P_o*60/(2*%pi*N);\n",
"disp(T_useful,'(b) Useful torque (in Newton-meter)=');\n",
"Phy=60*E*A/(N*P*Z);\n",
"disp(Phy,'(c) Useful flux per pole (in Weber)=');\n",
"P_d=(V*I_a)-((I_a^2)*R_a)-(V_b*I_a);//in Watts\n",
"P_rot=P_d-P_o;\n",
"disp(P_rot,'(d) Rotational losses (in Watts)=');\n",
"P_i=V*(I_a+I_f);//in Watts\n",
"Eff=P_o*100/P_i;\n",
"disp(Eff,'(e) Efficiency (in %)=');"
   ]
   }
,
{
		   "cell_type": "markdown",
		   "metadata": {},
		   "source": [
			"## Example 2.24: Determine_the_speed_and_percentage_change_in_torque.sce"
		   ]
		  },
  {
"cell_type": "code",
	   "execution_count": null,
	   "metadata": {
	    "collapsed": true
	   },
	   "outputs": [],
"source": [
"//Caption:Determine the speed and percentage change in torque\n",
"//Exa:2.24\n",
"clc;\n",
"clear;\n",
"close;\n",
"V=460;//in volts\n",
"R_a=0.8;//in ohms\n",
"I_a1=40;//in amperes\n",
"I_a2=30;//in amperes\n",
"N_1=500;//in rpm\n",
"E_1=V-(I_a1*R_a);//in volts\n",
"E_2=V-(I_a2*R_a);//in volts\n",
"N_2=int(E_2*I_a1*N_1/(E_1*I_a2));\n",
"disp(N_2,'Speed (in rpm)=');\n",
"ratio=(I_a2/I_a1)^2;\n",
"T_c=(1-ratio)*100;\n",
"disp(T_c,'Percentage change in torque=')"
   ]
   }
,
{
		   "cell_type": "markdown",
		   "metadata": {},
		   "source": [
			"## Example 2.25: Determine_the_speed.sce"
		   ]
		  },
  {
"cell_type": "code",
	   "execution_count": null,
	   "metadata": {
	    "collapsed": true
	   },
	   "outputs": [],
"source": [
"//Caption:Determine the speed \n",
"//Exa:2.25\n",
"clc;\n",
"clear;\n",
"close;\n",
"V=220;//in volts\n",
"R_a=0.1;//in ohms\n",
"I_a1=100;//in amperes\n",
"I_a2=sqrt(I_a1^2/2);//in amperes\n",
"N_1=800;//in rpm\n",
"E_1=V-(I_a1*R_a);//in volts\n",
"E_2=V-(I_a2*R_a);//in volts\n",
"N_2=int(E_2*I_a1*N_1/(E_1*I_a2));\n",
"disp(N_2,'Speed (in rpm)=');"
   ]
   }
,
{
		   "cell_type": "markdown",
		   "metadata": {},
		   "source": [
			"## Example 2.26: Determine_the_speed.sce"
		   ]
		  },
  {
"cell_type": "code",
	   "execution_count": null,
	   "metadata": {
	    "collapsed": true
	   },
	   "outputs": [],
"source": [
"//Caption:Determine the speed \n",
"//Exa:2.26\n",
"clc;\n",
"clear;\n",
"close;\n",
"V=250;//in volts\n",
"R_a=0.25;//in ohms\n",
"I_a1=50;//in amperes\n",
"I_a2=I_a1/0.9;//in amperes\n",
"N_1=750;//in rpm\n",
"E_1=V-(I_a1*R_a);//in volts\n",
"E_2=V-(I_a2*R_a);//in volts\n",
"N_2=int(E_2*N_1/(E_1*0.9));\n",
"disp(N_2,'Speed (in rpm)=');"
   ]
   }
,
{
		   "cell_type": "markdown",
		   "metadata": {},
		   "source": [
			"## Example 2.27: Determine_the_speed_at_half_load_and_125_percent_full_load.sce"
		   ]
		  },
  {
"cell_type": "code",
	   "execution_count": null,
	   "metadata": {
	    "collapsed": true
	   },
	   "outputs": [],
"source": [
"//Caption:Determine the speed (a)at half load (b)125% full load\n",
"//Exa:2.27\n",
"clc;\n",
"clear;\n",
"close;\n",
"V=120;//in volts\n",
"V_b=3;//in volts\n",
"R_a=0.2;//in ohms\n",
"R_f=60;//in ohms\n",
"I_L1=40;//in amperes\n",
"I_f=V/R_f;//inn amperes\n",
"I_a1=I_L1-I_f;//in amperes\n",
"N_1=1800;//in rpm\n",
"E_1=V-(I_a1*R_a)-V_b;//in volts\n",
"I_L2=I_L1/2;\n",
"I_a2=I_L2-I_f;\n",
"E_2=V-(I_a2*R_a)-V_b;//in volts\n",
"N_2=int(E_2*N_1/E_1);\n",
"disp(N_2,'(a) Speed at half load(in rpm)=');\n",
"I_L3=I_L1*1.25;\n",
"I_a3=I_L3-I_f;\n",
"E_3=V-(I_a3*R_a)-V_b;//in volts\n",
"N_3=int(E_3*N_1/E_1);\n",
"disp(N_3,'(b) Speed at 125% load(in rpm)=');"
   ]
   }
,
{
		   "cell_type": "markdown",
		   "metadata": {},
		   "source": [
			"## Example 2.28: Determine_the_value_of_resistance.sce"
		   ]
		  },
  {
"cell_type": "code",
	   "execution_count": null,
	   "metadata": {
	    "collapsed": true
	   },
	   "outputs": [],
"source": [
"//Caption:Determine the value of resistance\n",
"//Exa:2.28\n",
"clc;\n",
"clear;\n",
"close;\n",
"V=220;//in volts\n",
"R_a=0.1;//in ohms\n",
"N_1=800;//in rpm\n",
"N_2=520;//in rpm\n",
"I_a1=20;//in ampers\n",
"E_1=V-(I_a1*R_a);//in volts\n",
"E_2=N_2*E_1/N_1;//in volts\n",
"R_A=-(E_2-V+I_a1*R_a)/20;\n",
"disp(R_A,'Additional resistance(in ohms)=');"
   ]
   }
,
{
		   "cell_type": "markdown",
		   "metadata": {},
		   "source": [
			"## Example 2.29: Determine_the_value_of_additional_resistance_at_starting_and_at_1000rpm.sce"
		   ]
		  },
  {
"cell_type": "code",
	   "execution_count": null,
	   "metadata": {
	    "collapsed": true
	   },
	   "outputs": [],
"source": [
"//Caption:Determine the value of additional resistance (a)at starting (b)at 1000rpm\n",
"//Exa:2.29\n",
"clc;\n",
"clear;\n",
"close;\n",
"V=240;//in volts\n",
"R_a=0.3;//in ohms\n",
"N_1=1500;//in rpm\n",
"I_a=40;//in ampers\n",
"E=V-(I_a*R_a);//in volts\n",
"R_1=(V-I_a*R_a)/I_a;\n",
"disp(R_1,'(a) Additional resistance at starting (in ohms)=');\n",
"N_2=1000;//in rpm\n",
"E_2=N_2*E/N_1;//in volts\n",
"R_2=-(E_2-V+I_a*R_a)/I_a;\n",
"disp(R_2,'(b) Additional resistance at 1000 rpm (in ohms)=');"
   ]
   }
,
{
		   "cell_type": "markdown",
		   "metadata": {},
		   "source": [
			"## Example 2.2: Find_the_load_shared_by_two_DC_generators.sce"
		   ]
		  },
  {
"cell_type": "code",
	   "execution_count": null,
	   "metadata": {
	    "collapsed": true
	   },
	   "outputs": [],
"source": [
"//Caption:Find the load shared by two DC generators\n",
"//Exa:2.2\n",
"clc;\n",
"clear;\n",
"close;\n",
"E_g1=120;//in volts\n",
"E_g2=115;//in volts\n",
"R_a1=0.05;//armature winding resistance of first generator (in ohms)\n",
"R_a2=0.04;//armature winding resistance of second generator (in ohms)\n",
"R_f1=20;//feild winding resistance of first generator (in ohms)\n",
"R_f2=25;//feild winding resistance of seccond generator (in ohms)\n",
"P=25000;//in watts\n",
"V_t=(5275+sqrt((5275^2)-(4*45.09*25000)))/(2*45.09);//terminal voltage in volts\n",
"I_1=(E_g1-(V_t*(1+(R_a1/R_f1))))/R_a1;//in amperes\n",
"I_2=(E_g2-(V_t*(1+(R_a2/R_f2))))/R_a2;//in amperes\n",
"P_1=V_t*I_1/1000;//in kilo watts\n",
"P_2=V_t*I_2/1000;//in kilo watts\n",
"disp(P_1,'Power shared by generator-1(in Kilo Watts)= ');\n",
"disp(P_2,'Power shared by generator-2(in Kilo Watts)= ');"
   ]
   }
,
{
		   "cell_type": "markdown",
		   "metadata": {},
		   "source": [
			"## Example 2.30: EX2_30.sce"
		   ]
		  },
  {
"cell_type": "code",
	   "execution_count": null,
	   "metadata": {
	    "collapsed": true
	   },
	   "outputs": [],
"source": [
"//Caption:Determine the (a)speed at full load (b)speed at double full load (c)stalling torque in terms of full load torque\n",
"//Exa:2.30\n",
"clc;\n",
"clear;\n",
"close;\n",
"V=250;//in volts\n",
"R_a=0.2;//in ohms\n",
"N_1=800;//in rpm\n",
"R_f=250;//in ohms\n",
"I_f=V/R_f;//in amperes\n",
"I=41;//in ampers\n",
"I_a1=I-I_f;//in amperes\n",
"E_1=V-(I_a1*R_a);//in volts\n",
"E_2=V-(I_a1*(R_a+2));//in volts\n",
"N_2=E_2*N_1/E_1;\n",
"disp(N_2,'(a) Speed at full load (in rpm)=');\n",
"I_a2=I_a1*2;//in amperes\n",
"E_3=V-I_a2*(R_a+2);//in volts\n",
"N_3=E_3*N_1/E_1;//in rpm\n",
"disp(N_3,'(b) Speed at double full load (in rpm)=');\n",
"I_ao=V/(R_a+2);\n",
"r=I_ao/I_a1;\n",
"disp(r,'(c) stalling torque is (times full load torque) =')"
   ]
   }
,
{
		   "cell_type": "markdown",
		   "metadata": {},
		   "source": [
			"## Example 2.31: Determine_the_resistance_to_be_inserted_in_series.sce"
		   ]
		  },
  {
"cell_type": "code",
	   "execution_count": null,
	   "metadata": {
	    "collapsed": true
	   },
	   "outputs": [],
"source": [
"//Caption:Determine the resistance to be inserted in series\n",
"//Exa:2.31\n",
"clc;\n",
"clear;\n",
"close;\n",
"V=200;//in volts\n",
"R_a=0.4;//in ohms\n",
"N_1=1000;//in rpm\n",
"N_2=800;//in rpm\n",
"I_a1=20;//in amperes\n",
"E_1=V-(I_a1*R_a);//in volts\n",
"I_a2=0.8*I_a1;//in amperes\n",
"E_2=N_2*I_a2*E_1/(N_1*I_a1);//in volts\n",
"R=-(E_2-193.6)/16;\n",
"disp(R,'the resistance to be inserted in series (in ohms)=')"
   ]
   }
,
{
		   "cell_type": "markdown",
		   "metadata": {},
		   "source": [
			"## Example 2.32: Determine_the_resistance_to_be_inserted_in_series.sce"
		   ]
		  },
  {
"cell_type": "code",
	   "execution_count": null,
	   "metadata": {
	    "collapsed": true
	   },
	   "outputs": [],
"source": [
"//Caption:Determine the resistance to be inserted in series\n",
"//Exa:2.32\n",
"clc;\n",
"clear;\n",
"close;\n",
"V=500;//in volts\n",
"R_a=0.5;//in ohms\n",
"I_a1=60;//in amperes\n",
"E_1=V-(I_a1*R_a);//in volts\n",
"I_a2=sqrt(((0.75)^3)*I_a1^2);//in amperes\n",
"E_2=0.75*E_1*I_a2/I_a1;//in volts\n",
"R=-(E_2-480.5)/38.97;\n",
"disp(R,'the resistance to be inserted in series (in ohms)=')"
   ]
   }
,
{
		   "cell_type": "markdown",
		   "metadata": {},
		   "source": [
			"## Example 2.33: Determine_the_output_and_efficiency_when_input_current_is_20A_and_100A.sce"
		   ]
		  },
  {
"cell_type": "code",
	   "execution_count": null,
	   "metadata": {
	    "collapsed": true
	   },
	   "outputs": [],
"source": [
"//Caption:Determine the output and efficiency when input current is (a)20A (b)100A\n",
"//Exa:2.33\n",
"clc;\n",
"clear;\n",
"close;\n",
"V=500;//in volts\n",
"R_a=0.2;//in ohms\n",
"I_o=4;//in amperes\n",
"I_f=1;//in amperes\n",
"P_c=V*I_o-(((I_o-I_f)^2)*R_a);//in watts\n",
"I_1=20;///in amperes\n",
"P_i1=V*I_1;//in watts\n",
"P_a1=((I_1-I_f)^2)*R_a;//in watts\n",
"P_L1=P_c+P_a1;//in watts\n",
"P_o1=P_i1-P_L1;//in watts\n",
"disp(P_o1,'(a) Output (in watts)=');\n",
"disp(P_o1/P_i1*100,'  Efficiency (in %)=');\n",
"I_2=100;///in amperes\n",
"P_i2=V*I_2;//in watts\n",
"P_a2=((I_2-I_f)^2)*R_a;//in watts\n",
"P_L2=P_c+P_a2;//in watts\n",
"P_o2=P_i2-P_L2;//in watts\n",
"disp(P_o2,'(b) Output (in watts)=');\n",
"disp(P_o2/P_i2*100,'  Efficiency (in %)=');"
   ]
   }
,
{
		   "cell_type": "markdown",
		   "metadata": {},
		   "source": [
			"## Example 2.34: Determine_the_no_load_speed_and_Full_load_speed_and_Speed_Regulation.sce"
		   ]
		  },
  {
"cell_type": "code",
	   "execution_count": null,
	   "metadata": {
	    "collapsed": true
	   },
	   "outputs": [],
"source": [
"//Caption:Determine the (a)no load speed  (b)Full load speed (c)Speed Regulation\n",
"//Exa:2.34\n",
"clc;\n",
"clear;\n",
"close;\n",
"V=240;//in volts\n",
"V_b=2;//in volts\n",
"R_a=0.15;//in ohms\n",
"P=4;\n",
"Z=700;\n",
"Phy=0.06;//in Webers\n",
"A=P;\n",
"I_o=7;//in amperes\n",
"I_f=2;//in amperes\n",
"I=90;//in amperes\n",
"I_ao=I_o-I_f;//in amperes\n",
"E_bo=V-I_ao*R_a-V_b;//in volts\n",
"N_o=E_bo*60*A/(P*Phy*Z);//in rpm\n",
"disp(N_o,'(a)no load speed (in rpm)=');\n",
"I_a=I-I_f;//in amperes\n",
"E_b1=V-I_a*R_a-V_b;//in volts\n",
"N=E_b1*N_o/(E_bo*0.98);\n",
"disp(N,'(b)Full load speed (in rpm)=');\n",
"SR=100*(N_o-N)/N;\n",
"disp(SR,'(c)Speed Regulation (in %)=');"
   ]
   }
,
{
		   "cell_type": "markdown",
		   "metadata": {},
		   "source": [
			"## Example 2.35: Determine_the_no_load_speed_and_Percentage_reduction_in_flux_per_pole.sce"
		   ]
		  },
  {
"cell_type": "code",
	   "execution_count": null,
	   "metadata": {
	    "collapsed": true
	   },
	   "outputs": [],
"source": [
"//Caption:Determine the (a)no load speed  (b)Percentage reduction in flux per pole\n",
"//Exa:2.35\n",
"clc;\n",
"clear;\n",
"close;\n",
"V=220;//in volts\n",
"V_b=1;//in volts\n",
"R_f=110;//in ohms\n",
"R_a=0.14;//in ohms\n",
"I_o=7;//in amperes\n",
"I_f=2;//in amperes\n",
"I=90;//in amperes\n",
"N_1=700;//in rpm\n",
"I_ao=I_o-I_f;//in amperes\n",
"E_bo=V-I_ao*R_a-V_b;//in volts\n",
"I=55;//in amperes\n",
"I_a1=I-I_f;//in amperes\n",
"E_b1=V-I_a1*R_a-V_b;//in volts\n",
"N_o=E_bo*N_1/E_b1;\n",
"disp(N_o,'(a)no load speed (in rpm) =');\n",
"I_a2=35;//in amperes\n",
"N_2=900;//in rpm\n",
"E_b2=V-I_a2*R_a-V_b;//in volts\n",
"Phy_r=E_b2*N_1/(E_b1*N_2);\n",
"R=(1-Phy_r)*100;\n",
"disp(R,'(b)Percentage reduction in flux per pole (in %)=');"
   ]
   }
,
{
		   "cell_type": "markdown",
		   "metadata": {},
		   "source": [
			"## Example 2.36: EX2_36.sce"
		   ]
		  },
  {
"cell_type": "code",
	   "execution_count": null,
	   "metadata": {
	    "collapsed": true
	   },
	   "outputs": [],
"source": [
"//Caption:Determine the (a)full load speed  (b)Speed regulation (c)HP rating (d)Full load efficiency\n",
"//Exa:2.36\n",
"clc;\n",
"clear;\n",
"close;\n",
"V=240;//in volts\n",
"R_f=120;//in ohms\n",
"R_a=0.25;//in ohms\n",
"I_1=60;//in amperes\n",
"I_f=V/R_f;//in amperes\n",
"I_a1=I_1-I_f;//in amperes\n",
"E_b1=V-I_a1*R_a;//in volts\n",
"N_o=1000;//in rpm\n",
"I=6;//in amperes\n",
"I_ao=I-I_f;//in amperes\n",
"E_bo=V-I_ao*R_a;//in volts\n",
"N_1=N_o*E_b1/E_bo;\n",
"disp(N_1,'(a)Full load speed (in rpm) =');\n",
"SR=100*(N_o-N_1)/N_o;\n",
"disp(SR,'(b)Speed regulation (in %) =');\n",
"P_o=E_b1*I_a1-(E_bo*I_ao);\n",
"HP=P_o/746;\n",
"disp(HP,'(c)HP rating (in HP)=');\n",
"P_i=V*I_1;\n",
"Eff=P_o*100/P_i;\n",
"disp(Eff,'(d)Efficiency (in %)=')"
   ]
   }
,
{
		   "cell_type": "markdown",
		   "metadata": {},
		   "source": [
			"## Example 2.37: Determine_the_speed_Torque_and_Efficiency.sce"
		   ]
		  },
  {
"cell_type": "code",
	   "execution_count": null,
	   "metadata": {
	    "collapsed": true
	   },
	   "outputs": [],
"source": [
"//Caption:Determine the (a)speed  (b)Torque (c)Efficiency\n",
"//Exa:2.37\n",
"clc;\n",
"clear;\n",
"close;\n",
"V=240;//in volts\n",
"P=4;\n",
"Phy=0.008;//in webers\n",
"Z=1000;\n",
"A=2;\n",
"R_f=240;//in ohms\n",
"R_a=0.4;//in ohms\n",
"I_1=25;//in amperes\n",
"I_f=V/R_f;//in amperes\n",
"I_a1=I_1-I_f;//in amperes\n",
"E_b=V-I_a1*R_a;//in volts\n",
"N=E_b*60*A/(P*Z*Phy);\n",
"disp(N,'(a)speed (in rpm) =');\n",
"P_m=E_b*I_a1;\n",
"T_g=(9.55*P_m)/N;\n",
"disp(T_g,'(b)Torque (in N-m)=');\n",
"P_f=P_m-800;\n",
"P_i=V*I_1;\n",
"Eff=P_f*100/P_i;\n",
"disp(Eff,'(c)Efficiency (in %)=')"
   ]
   }
,
{
		   "cell_type": "markdown",
		   "metadata": {},
		   "source": [
			"## Example 2.38: Determine_the_efficiency_and_power_input.sce"
		   ]
		  },
  {
"cell_type": "code",
	   "execution_count": null,
	   "metadata": {
	    "collapsed": true
	   },
	   "outputs": [],
"source": [
"//Caption:Determine the efficiency and power input\n",
"//Exa:2.38\n",
"clc;\n",
"clear;\n",
"close;\n",
"P_out=20000;//in watts\n",
"P_in=23000;//in watts\n",
"V=250;//in volts\n",
"R_f=125;//in ohms\n",
"R_a=0.2;//in ohms\n",
"I_L=P_in/V;//in amperes\n",
"I_f=V/R_f;//in amperes\n",
"I_a1=I_L-I_f;//in amperes\n",
"P_cu=(I_a1^2)*R_a;\n",
"P_fcu=V*I_f;\n",
"P_tcu=P_cu+P_fcu;\n",
"P_fric=P_in-P_out-P_tcu;\n",
"P_o=12000;//in watts\n",
"P_m=P_o+P_fric\n",
"I_a2=53.85;\n",
"P_tcu2=((I_a2^2)*R_a)+250;\n",
"P_in_2=P_m+P_tcu2;\n",
"disp(P_in_2,'Power input (in watts)=');\n",
"Eff=P_o*100/P_in_2;\n",
"disp(Eff,'Efficiency (in %)=')"
   ]
   }
,
{
		   "cell_type": "markdown",
		   "metadata": {},
		   "source": [
			"## Example 2.39: Determine_the_efficiency_armature_current_and_max_efficiency.sce"
		   ]
		  },
  {
"cell_type": "code",
	   "execution_count": null,
	   "metadata": {
	    "collapsed": true
	   },
	   "outputs": [],
"source": [
"//Caption:Determine the (a)efficiency (b)armature current (c)max efficiency\n",
"//Exa:2.39\n",
"clc;\n",
"clear;\n",
"close;\n",
"V=240;//in volts\n",
"R_f=240;//in ohms\n",
"R_a=0.6;//in ohms\n",
"I_o=5;//in amperes\n",
"I=18;//in amperes\n",
"I_f=V/R_f;//in amperes\n",
"I_ao=I_o-I_f;\n",
"I_a1=I-I_f;\n",
"E_bo=V-I_ao*R_a;//in volts\n",
"E_b1=V-I_a1*R_a;//in volts\n",
"P_dnL=E_bo*I_ao;//in watts\n",
"P_m=E_b1*I_a1;//in watts\n",
"P_o=P_m-P_dnL;\n",
"P_i=V*I;//in watts\n",
"Eff=P_o/P_i;\n",
"disp(Eff*100,'(a)Efficiency (in %)=')\n",
"I_a=sqrt((P_dnL+V*1)/R_a)\n",
"disp(I_a,'(b)Armature current (in Amperes)=')\n",
"E_b=V-I_a*R_a;\n",
"P_m2=E_b*I_a;//in watts\n",
"P_out=P_m2-P_dnL;//in watts\n",
"P_in=V*I_a;//in watts\n",
"Eff_m=P_out/P_in;\n",
"disp(Eff_m*100,'(c)Max Efficiency (in %)=')"
   ]
   }
,
{
		   "cell_type": "markdown",
		   "metadata": {},
		   "source": [
			"## Example 2.3: Find_the_number_of_conductors.sce"
		   ]
		  },
  {
"cell_type": "code",
	   "execution_count": null,
	   "metadata": {
	    "collapsed": true
	   },
	   "outputs": [],
"source": [
"//Caption:Find the number of conductors\n",
"//Exa:2.3\n",
"clc;\n",
"clear;\n",
"close;\n",
"P=8;//no. of poles\n",
"A=8;\n",
"Phy=40*10^-3;//flux in weber\n",
"N=500;//speed in rpm\n",
"E_g=250;//no-load voltage in volts\n",
"Z=(E_g*60*A)/(P*N*Phy);\n",
"disp(Z,'Number of conductors=')"
   ]
   }
,
{
		   "cell_type": "markdown",
		   "metadata": {},
		   "source": [
			"## Example 2.40: EX2_40.sce"
		   ]
		  },
  {
"cell_type": "code",
	   "execution_count": null,
	   "metadata": {
	    "collapsed": true
	   },
	   "outputs": [],
"source": [
"//Caption:Calculate the (a)Speed at full load and developed torque (b)Shaft power (c)Efficiency\n",
"//Exa:2.40\n",
"clc;\n",
"clear;\n",
"close;\n",
"V=230;//in volts\n",
"R_a=0.4;//in ohms\n",
"I_a1=3.4;//in amperes\n",
"R_f=170;//in ohms\n",
"E_b1=V-I_a1*R_a;\n",
"I_f=V/R_f;\n",
"I_L=41;//in amperes\n",
"I_a2=I_L-I_f;\n",
"E_b2=214.142;//in volts\n",
"N_1=1000;//in rpm\n",
"N_2=N_1*E_b2/(E_b1*0.96);//in rpm\n",
"disp(N_2,'(a)Speed at full load (in rpm)=')\n",
"T_a=9.55*E_b2*I_a2/N_2;\n",
"disp(T_a,'Torque Developed (in N-m)=')\n",
"P_r=E_b1*I_a1;\n",
"P_m=E_b2*I_a2;\n",
"P_f=P_m-P_r;\n",
"disp(P_f,'(b)Shaft Power (in watts)=')\n",
"P_in=V*I_L;\n",
"Eff=P_f/P_in;\n",
"disp(Eff*100,'(c)Efficiency (in %)=')"
   ]
   }
,
{
		   "cell_type": "markdown",
		   "metadata": {},
		   "source": [
			"## Example 2.41: EX2_41.sce"
		   ]
		  },
  {
"cell_type": "code",
	   "execution_count": null,
	   "metadata": {
	    "collapsed": true
	   },
	   "outputs": [],
"source": [
"//Caption:Calculate the value of external resistance when (a)the load torque is independent of speed (b)the load torque is proportional to speed (c)the load torque varies as square of the speed\n",
"//Exa:2.41\n",
"clc;\n",
"clear;\n",
"close;\n",
"V=240;//in volts\n",
"R_a=0.25;//in ohms\n",
"R_f=120;//in ohms\n",
"I_f=V/R_f;\n",
"I_L=26;//in amperes\n",
"I_a=I_L-I_f;\n",
"N_1=1000;//in rpm\n",
"N_2=900;//in rpm\n",
"E_b1=V-I_a*R_a;\n",
"r=N_1/N_2;\n",
"R=(E_b1-(E_b1/r))/I_a;\n",
"disp(R,'(a)Value of external resistance when the load torque is independent of speed (in ohms)= ');\n",
"I_a2=I_a/r;\n",
"R1=(E_b1-(E_b1/r))/I_a2;\n",
"disp(R1,'(b)Value of external resistance when the load torque is proportional to speed (in ohms)= ');\n",
"I_a2_n=I_a/r^2;\n",
"R2=(E_b1-(E_b1/r))/I_a2_n;\n",
"disp(R2,'(a)Value of external resistance when the load torque is independent of speed (in ohms)= ');"
   ]
   }
,
{
		   "cell_type": "markdown",
		   "metadata": {},
		   "source": [
			"## Example 2.43: Find_the_efficiency_of_the_motor.sce"
		   ]
		  },
  {
"cell_type": "code",
	   "execution_count": null,
	   "metadata": {
	    "collapsed": true
	   },
	   "outputs": [],
"source": [
"//Caption:Find the efficiency of the motor\n",
"//Exa:2.43\n",
"clc;\n",
"clear;\n",
"close;\n",
"V=240;//in volts\n",
"P=10000;//in watts\n",
"R_a=0.25;//in ohms\n",
"R_f=160;//in ohms\n",
"I_f=V/R_f;\n",
"I_L=5.2;//in amperes\n",
"I_ao=I_L-I_f;\n",
"W=V*I_ao-I_ao^2*R_a;\n",
"I_a=(V-sqrt(V^2-4*R_a*(P+W)))/(2*R_a);\n",
"P_in=P+W+I_a^2*R_a+I_f^2*R_f;\n",
"Eff=P/P_in;\n",
"disp(Eff*100,'Efficiency of the motor (in %)=')"
   ]
   }
,
{
		   "cell_type": "markdown",
		   "metadata": {},
		   "source": [
			"## Example 2.44: Find_the_armature_voltage_drop.sce"
		   ]
		  },
  {
"cell_type": "code",
	   "execution_count": null,
	   "metadata": {
	    "collapsed": true
	   },
	   "outputs": [],
"source": [
"//Caption:Find the armature voltage drop\n",
"//Exa:2.44\n",
"clc;\n",
"clear;\n",
"close;\n",
"V=440;//in volts\n",
"N_1=1000;//in rpm\n",
"N_2=1050;//in rpm\n",
"r=N_1/N_2;\n",
"V_drop=2*(V-V*r)\n",
"disp(V_drop,'Armature voltage drop (in volts)=')"
   ]
   }
,
{
		   "cell_type": "markdown",
		   "metadata": {},
		   "source": [
			"## Example 2.45: Find_the_no_load_speed.sce"
		   ]
		  },
  {
"cell_type": "code",
	   "execution_count": null,
	   "metadata": {
	    "collapsed": true
	   },
	   "outputs": [],
"source": [
"//Caption:Find the no load speed\n",
"//Exa:2.45\n",
"clc;\n",
"clear;\n",
"close;\n",
"V=220;//in volts\n",
"R_a=2.5;//in ohms\n",
"N_1=859;//in rpm\n",
"I_ao=0;\n",
"I_a=8;//in amperes\n",
"E_b1=V-I_a*R_a;\n",
"E_bo=V-I_ao*R_a;\n",
"N_o=N_1*E_bo/E_b1;\n",
"disp(N_o,'No Load Speed (in RPM)=')"
   ]
   }
,
{
		   "cell_type": "markdown",
		   "metadata": {},
		   "source": [
			"## Example 2.46: Find_the_percentage_reduction_in_feild_flux_and_value_of_additional_resistance.sce"
		   ]
		  },
  {
"cell_type": "code",
	   "execution_count": null,
	   "metadata": {
	    "collapsed": true
	   },
	   "outputs": [],
"source": [
"//Caption:Find the percentage reduction in feild flux and value of additional resistance\n",
"//Exa:2.46\n",
"clc;\n",
"clear;\n",
"close;\n",
"V=220;//in volts\n",
"R_a=0.2;//in ohms\n",
"R_f=110;//in ohms\n",
"N_1=700;//in rpm\n",
"N_2=900;//in rpm\n",
"T_a1=90;//in N-m\n",
"T_a2=70;//in N-m\n",
"I_1=27;//in amperes\n",
"I_f=V/R_f;\n",
"I_a1=I_1-I_f;\n",
"E_b1=V-I_a1*R_a;\n",
"x=(V+sqrt(V^2-4*276.43*4.168))/(2*276.43);\n",
"disp((1-x)*100,'percentage reduction in feild flux (%)=');\n",
"I_f2=x*I_f;\n",
"R=(V-I_f2*R_f)/I_f2;\n",
"disp(R,'Value of additional resistance (in ohms)=')"
   ]
   }
,
{
		   "cell_type": "markdown",
		   "metadata": {},
		   "source": [
			"## Example 2.47: Find_the_new_speed_as_a_percentage_of_the_original_speed.sce"
		   ]
		  },
  {
"cell_type": "code",
	   "execution_count": null,
	   "metadata": {
	    "collapsed": true
	   },
	   "outputs": [],
"source": [
"//Caption:Find the new speed as a percentage of the original speed\n",
"//Exa:2.47\n",
"clc;\n",
"clear;\n",
"close;\n",
"V=400;//in volts\n",
"R_f=200;//in ohms\n",
"I_1=25;//in amperes\n",
"I_f=V/R_f;\n",
"I_a1=I_1-I_f;\n",
"x=(-V+sqrt(V^2+4*345*400))/(2*345);\n",
"disp(x*100,'New Speed is= ');\n",
"disp('percent of original speed')"
   ]
   }
,
{
		   "cell_type": "markdown",
		   "metadata": {},
		   "source": [
			"## Example 2.4: Find_the_generated_voltage_and_armature_current.sce"
		   ]
		  },
  {
"cell_type": "code",
	   "execution_count": null,
	   "metadata": {
	    "collapsed": true
	   },
	   "outputs": [],
"source": [
"//Caption:Find the generated voltage and armature current\n",
"//Exa:2.4\n",
"clc;\n",
"clear;\n",
"close;\n",
"V_t=300;//in volts\n",
"V_b=1;//voltage drop per brush in volts\n",
"I=200;//in amperes\n",
"R_f=200;//shunt feild winding resistance in ohms\n",
"R_a=0.05;//armature winding resistance in ohms\n",
"R_se=0.04;//Series feild winding resistance in ohms\n",
"I_f=V_t/R_f;//in amperes\n",
"I_a=I+I_f;//in amperes\n",
"E_g=V_t+(R_a+R_se)*I_a+(2*V_b);\n",
"disp(E_g,'Value of generated voltage (in volts)=');\n",
"disp(I_a,'Value of armature current (in Ampers)=')"
   ]
   }
,
{
		   "cell_type": "markdown",
		   "metadata": {},
		   "source": [
			"## Example 2.5: EX2_5.sce"
		   ]
		  },
  {
"cell_type": "code",
	   "execution_count": null,
	   "metadata": {
	    "collapsed": true
	   },
	   "outputs": [],
"source": [
"//Caption:Find the (a)shunt feild current (b)armature current (c)generated emf in armature (d)load resistance\n",
"//Exa:2.5\n",
"clc;\n",
"clear;\n",
"close;\n",
"V_t=250;//in volts\n",
"I=195;//in amperes\n",
"R_f=50;//shunt feild winding resistance in ohms\n",
"R_a=0.05;//armature winding resistance in ohms\n",
"I_f=V_t/R_f;//in amperes\n",
"I_a=I+I_f;//in amperes\n",
"E_g=V_t+(R_a*I_a);\n",
"R_L=V_t/I;\n",
"disp(I_f,'(a) Value of shunt feild current (in Amperes)=')\n",
"disp(I_a,'(b) Value of armature current (in Amperes)=')\n",
"disp(E_g,'(c) Value of generated voltage (in volts)=');\n",
"disp(R_L,'(d) Value of load resistance (in ohms)=')"
   ]
   }
,
{
		   "cell_type": "markdown",
		   "metadata": {},
		   "source": [
			"## Example 2.6: Find_the_value_of_generated_emf_and_armature_current.sce"
		   ]
		  },
  {
"cell_type": "code",
	   "execution_count": null,
	   "metadata": {
	    "collapsed": true
	   },
	   "outputs": [],
"source": [
"//Caption:Find the value of generated emf and armature current\n",
"//Exa:2.6\n",
"clc;\n",
"clear;\n",
"close;\n",
"V_t=250;//in volts\n",
"V_AC=V_t;\n",
"V_b=1;//voltage drop per brush in volts\n",
"I=40;//in amperes\n",
"R_f=100;//shunt feild winding resistance in ohms\n",
"R_a=0.05;//armature winding resistance in ohms\n",
"R_se=0.04;//series feild winding resistance in ohms\n",
"V_BC=V_AC+I*R_se;//in volts\n",
"I_f=V_BC/R_f;//in amperes\n",
"I_a=I+I_f;//in amperes\n",
"E_g=V_BC+(R_a*I_a)*(2*V_b);\n",
"disp(I_a,' Value of armature current (in Amperes)=');\n",
"disp(E_g,' Value of generated voltage (in volts)=');"
   ]
   }
,
{
		   "cell_type": "markdown",
		   "metadata": {},
		   "source": [
			"## Example 2.7: Find_the_value_of_generated_emf.sce"
		   ]
		  },
  {
"cell_type": "code",
	   "execution_count": null,
	   "metadata": {
	    "collapsed": true
	   },
	   "outputs": [],
"source": [
"//Caption:Find the value of generated emf\n",
"//Exa:2.7\n",
"clc;\n",
"clear;\n",
"close;\n",
"P=8;//no. of poles\n",
"A=8;\n",
"Z=760;//no.of conductors\n",
"Phy=35*10^-3;//flux in weber\n",
"N=500;//speed in rpm\n",
"E_g=(P*N*Phy*Z)/(60*A);\n",
"disp(E_g,'Value of generated emf (in volts)=')"
   ]
   }
,
{
		   "cell_type": "markdown",
		   "metadata": {},
		   "source": [
			"## Example 2.8: Find_the_speed_of_generator.sce"
		   ]
		  },
  {
"cell_type": "code",
	   "execution_count": null,
	   "metadata": {
	    "collapsed": true
	   },
	   "outputs": [],
"source": [
"//Caption:Find the speed of generator\n",
"//Exa:2.8\n",
"clc;\n",
"clear;\n",
"close;\n",
"P=8;//no. of poles\n",
"S=70;//no. of slots\n",
"C=22;//conductors per slot\n",
"A=8;\n",
"D=0.48;//in meter\n",
"Z=S*C;//no.of conductors\n",
"r=0.64;//ratio of pole arc to pole pitch \n",
"l=0.28;//length of pole shoe in meter\n",
"B=0.32;//air gap flux density in weber/meter^2\n",
"E_g=400;//in volts\n",
"Pole_arc=r*%pi*D/P;//in meter\n",
"Ao=Pole_arc*l;//Area of pole shoe in meter\n",
"Phy=Ao*B;//in weber\n",
"N=E_g*60*A/(Phy*Z*P);\n",
"disp(N,'Speed of generator (in rpm)=')"
   ]
   }
,
{
		   "cell_type": "markdown",
		   "metadata": {},
		   "source": [
			"## Example 2.9: Find_the_armature_current_and_generated_emf_and_flux_per_pole.sce"
		   ]
		  },
  {
"cell_type": "code",
	   "execution_count": null,
	   "metadata": {
	    "collapsed": true
	   },
	   "outputs": [],
"source": [
"//Caption:Find the (a)armature current (b)generated emf (c)flux/pole\n",
"//Exa:2.9\n",
"clc;\n",
"clear;\n",
"close;\n",
"V_t=200;//in volts\n",
"P=4;//no. of poles\n",
"A=2;\n",
"Z=676;//no.of conductors\n",
"R_L=10;//load resistance in ohms\n",
"R_a=0.34;//armature winding resistance in ohms\n",
"R_f=100;//feild winding resistance in ohms\n",
"N=600;//speed in rpm\n",
"I_f=V_t/R_f;//in amperes\n",
"I=V_t/R_L;//in amperes\n",
"I_a=I+I_f;\n",
"E_g=V_t+I_a*R_a;\n",
"Phy=E_g*60*A/(P*N*Z);\n",
"disp(I_a,'(a) Armature current (in amperes)=');\n",
"disp(E_g,'(b) Generated emf (in volts)=');\n",
"disp(Phy*1000,'(c) flux/pole (in mili weber)=');"
   ]
   }
],
"metadata": {
		  "kernelspec": {
		   "display_name": "Scilab",
		   "language": "scilab",
		   "name": "scilab"
		  },
		  "language_info": {
		   "file_extension": ".sce",
		   "help_links": [
			{
			 "text": "MetaKernel Magics",
			 "url": "https://github.com/calysto/metakernel/blob/master/metakernel/magics/README.md"
			}
		   ],
		   "mimetype": "text/x-octave",
		   "name": "scilab",
		   "version": "0.7.1"
		  }
		 },
		 "nbformat": 4,
		 "nbformat_minor": 0
}
