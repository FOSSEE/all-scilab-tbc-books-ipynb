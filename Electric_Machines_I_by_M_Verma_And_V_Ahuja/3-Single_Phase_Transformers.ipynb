{
"cells": [
 {
		   "cell_type": "markdown",
	   "metadata": {},
	   "source": [
       "# Chapter 3: Single Phase Transformers"
	   ]
	},
{
		   "cell_type": "markdown",
		   "metadata": {},
		   "source": [
			"## Example 3.10: EX3_10.sce"
		   ]
		  },
  {
"cell_type": "code",
	   "execution_count": null,
	   "metadata": {
	    "collapsed": true
	   },
	   "outputs": [],
"source": [
"//Caption:Find the equivalent circuit parameters of the transformer reffered to LV side and also calculate the secondary voltage\n",
"//Exa:3.10\n",
"clc;\n",
"clear;\n",
"close;\n",
"V1=300;//in volts\n",
"I_o=0.8;//in amperes\n",
"W_o=70;//in watts\n",
"pf=W_o/(V1*I_o);\n",
"I_w=I_o*pf;\n",
"I_m=I_o*sqrt(1-pf^2);\n",
"R_O=V1/I_w;\n",
"X_O=V1/I_m;\n",
"a=300/600;\n",
"V_sc=20;//in volts\n",
"I_sc=12;//in amperes\n",
"P_sc=90;//in watts\n",
"Z_O2=V_sc/I_sc;\n",
"R_O2=P_sc/I_sc^2;\n",
"X_O2=sqrt(Z_O2^2-R_O2^2);\n",
"R_O1=a^2*R_O2;\n",
"X_O1=a^2*X_O2;\n",
"I_2=6000/(600*0.8);\n",
"V2=I_2*(R_O2*pf+X_O2*sqrt(1-pf^2));\n",
"disp(R_O,'R_O (in ohms)=');\n",
"disp(X_O,'X_O Magnetising reactance (in ohms)=');\n",
"disp(R_O1,'Equivalent Resistance reffered to LV Side (in ohms)=');\n",
"disp(X_O1,'Equivalent Reactance reffered to LV Side (in ohms)');\n",
"disp(600-V2,'Secondary Terminal Voltage (in volts)=')"
   ]
   }
,
{
		   "cell_type": "markdown",
		   "metadata": {},
		   "source": [
			"## Example 3.11: EX3_11.sce"
		   ]
		  },
  {
"cell_type": "code",
	   "execution_count": null,
	   "metadata": {
	    "collapsed": true
	   },
	   "outputs": [],
"source": [
"//Caption:Find the equivalent circuit parameters of the transformer reffered to LV side and also calculate the efficiency\n",
"//Exa:3.11\n",
"clc;\n",
"clear;\n",
"close;\n",
"V1=200;//in volts\n",
"I_o=0.8;//in amperes\n",
"W_o=80;//in watts\n",
"pf=W_o/(V1*I_o);\n",
"I_w=I_o*pf;\n",
"I_m=I_o*sqrt(1-pf^2);\n",
"R_O=V1/I_w;\n",
"X_O=V1/I_m;\n",
"a=200/400;\n",
"V_sc=25;//in volts\n",
"I_sc=10;//in amperes\n",
"P_sc=90;//in watts\n",
"Z_O2=V_sc/I_sc;\n",
"R_O2=P_sc/I_sc^2;\n",
"X_O2=sqrt(Z_O2^2-R_O2^2);\n",
"R_O1=a^2*R_O2;\n",
"X_O1=a^2*X_O2;\n",
"I_2=12;\n",
"I_1=I_2/a;\n",
"V2=sqrt((V1*pf+I_1*R_O1)^2+(V1*sqrt(1-pf^2)+I_1*X_O1)^2);\n",
"P_iron=80;//in watts\n",
"P_cu=(12/10)^2*90;\n",
"P_total=P_cu+P_iron;\n",
"Eff=6000*0.8/(6000*0.8+P_total);\n",
"disp(R_O,'R_O (in ohms)=');\n",
"disp(X_O,'X_O Magnetising reactance (in ohms)=');\n",
"disp(R_O1,'Equivalent Resistance reffered to LV Side (in ohms)=');\n",
"disp(X_O1,'Equivalent Reactance reffered to LV Side (in ohms)');\n",
"disp(Eff*100,'Efficiency (in %)=')"
   ]
   }
,
{
		   "cell_type": "markdown",
		   "metadata": {},
		   "source": [
			"## Example 3.12: EX3_12.sce"
		   ]
		  },
  {
"cell_type": "code",
	   "execution_count": null,
	   "metadata": {
	    "collapsed": true
	   },
	   "outputs": [],
"source": [
"//Caption:Calculate (a)Efficiency of transformer (b)Load KVA at which max efficiency occurs and max efficiency (c)voltage regulation\n",
"//Exa:3.12\n",
"clc;\n",
"clear;\n",
"close;\n",
"V1=2000;//in volts\n",
"pf=0.8;\n",
"I1=10000/V1;//in amperes\n",
"P_iron=60;//in watts\n",
"V_sc=40;//in volts\n",
"I_sc=4;//in amperes\n",
"a=2000/200;\n",
"P_sc=70;//in watts\n",
"Z_O1=V_sc/I_sc;\n",
"R_O1=P_sc/I_sc^2;\n",
"X_O1=sqrt(Z_O1^2-R_O1^2);\n",
"R_O2=R_O1/a^2;\n",
"X_O2=X_O1/a^2;\n",
"I2=I1*a/2;//At half load\n",
"Del_V=I2*(R_O2*pf+X_O2*sqrt(1-pf^2));\n",
"V2=200-Del_V;\n",
"P_o=V2*I2*pf;//in watts\n",
"P_cu=(2.5/4)^2*P_sc;//At half load\n",
"Eff=0.5*P_o/(0.5*P_o+P_iron+P_cu);\n",
"disp(Eff*100,'(a)Efficiency (in %)=');\n",
"I_1=sqrt(P_iron/R_O1);\n",
"KVA_Load=10*I_1/5;\n",
"disp(KVA_Load,'(b)Load KVA at which max efficiency occurs=');\n",
"Eff_max=P_o/(P_o+P_iron+P_iron);\n",
"disp(Eff_max*100,'   Max Efficiency (in %)=');\n",
"I_2=50;//at full load\n",
"VR=(I_2*(R_O2*pf-X_O2*sqrt(1-pf^2)))/200;\n",
"disp(VR*100,'(c)Voltage Regulation (in %)=')"
   ]
   }
,
{
		   "cell_type": "markdown",
		   "metadata": {},
		   "source": [
			"## Example 3.13: EX3_13.sce"
		   ]
		  },
  {
"cell_type": "code",
	   "execution_count": null,
	   "metadata": {
	    "collapsed": true
	   },
	   "outputs": [],
"source": [
"//Caption:Determine the KVA rating of auto transformer with additive and subtractive polarity also find the efficiency at full load and unity power factor\n",
"//Exa:3.13\n",
"clc;\n",
"clear;\n",
"close;\n",
"P=120*1000;//in watts\n",
"V1=2400;//in volts\n",
"V2=240;//in volts\n",
"I1=P/V1;//in amperes\n",
"I2=P/V2;//in amperes\n",
"KVA_1=V1*(I1+I2)/1000;\n",
"P_trans=V2*I2/1000;\n",
"P_cond_1=KVA_1-P_trans;\n",
"P_loss_1=((1/0.98)-1)^2*P_trans;\n",
"Eff_a=1-(P_loss_1/KVA_1)\n",
"disp(KVA_1,'KVA Rating of transformer with additive polarity (in KVA)=');\n",
"disp(Eff_a*100,'Efficiency of auto transformer with additive polarity (in %)=');\n",
"KVA_2=V1*(I2-I1)/1000;\n",
"P_trans=V2*I2/1000;\n",
"P_cond_2=KVA_2-P_trans;\n",
"P_loss=((1/0.98)-1)^2*P_trans;\n",
"Eff_s=1-(P_loss/KVA_2)\n",
"disp(KVA_2,'KVA Rating of transformer with subtractive polarity (in KVA)=');\n",
"disp(Eff_s*100,'Efficiency of auto transformer with subtractive polarity (in %)=');"
   ]
   }
,
{
		   "cell_type": "markdown",
		   "metadata": {},
		   "source": [
			"## Example 3.14: EX3_14.sce"
		   ]
		  },
  {
"cell_type": "code",
	   "execution_count": null,
	   "metadata": {
	    "collapsed": true
	   },
	   "outputs": [],
"source": [
"//Caption:Calculate the parameters reffered to LV Side and also find the voltage regulation at full load and efficiency of transformer at full load and half load at 0.8pf lagging\n",
"//Exa:3.14\n",
"clc;\n",
"clear;\n",
"close;\n",
"a=0.5;\n",
"V1=200;//in volts\n",
"I_o=0.8;//in amperes\n",
"W_o=75;//in watts\n",
"pf=W_o/(V1*I_o);\n",
"pf2=0.8;\n",
"R_O=V1/(I_o*pf);\n",
"X_O=V1/(I_o*sqrt(1-pf^2));\n",
"V_sc=20;//in volts\n",
"I_sc=10;//in amperes\n",
"P_sc=90;//in watts\n",
"Z_O2=V_sc/I_sc;\n",
"R_O2=P_sc/I_sc^2;\n",
"X_O2=sqrt(Z_O2^2-R_O2^2);\n",
"R_O1=a^2*R_O2;\n",
"X_O1=a^2*X_O2;\n",
"I_2=4000/400;//in amperes\n",
"VR=I_2*(R_O2*pf2+X_O2*sqrt(1-pf2^2))/400;\n",
"disp(R_O,'R_O (in ohms)=');\n",
"disp(X_O,'X_O Magnetising reactance (in ohms)=');\n",
"disp(R_O1,'Equivalent Resistance reffered to LV Side (in ohms)=');\n",
"disp(X_O1,'Equivalent Reactance reffered to LV Side (in ohms)');\n",
"disp(VR*100,'Voltage Regulation at full load (in %)=');\n",
"P_o=(400-I_2*(R_O2*pf2+X_O2*sqrt(1-pf2^2)))*I_2*pf2;\n",
"P_i=75;//in watts\n",
"P_cu=P_sc;\n",
"P_cu_h=0.5^2*P_cu;\n",
"Eff=P_o/(P_o+P_i+P_cu);\n",
"disp(Eff*100,'Efficiency at full load (in %)=');\n",
"P_o_h=(400-I_2*0.5*(R_O2*pf2+X_O2*sqrt(1-pf2^2)))*I_2*0.5*pf2;\n",
"Eff_h=P_o_h/(P_o_h+P_i+P_cu_h);\n",
"disp(Eff_h*100,'Efficiency at half load (in %)=');"
   ]
   }
,
{
		   "cell_type": "markdown",
		   "metadata": {},
		   "source": [
			"## Example 3.15: EX3_15.sce"
		   ]
		  },
  {
"cell_type": "code",
	   "execution_count": null,
	   "metadata": {
	    "collapsed": true
	   },
	   "outputs": [],
"source": [
"//Caption:Calculate the circuit parameters reffered to LV Side and also calculate the regulation and efficiency of transformer at full load and half load at 0.8 pf\n",
"//Exa:3.15\n",
"clc;\n",
"clear;\n",
"close;\n",
"a=0.5;\n",
"V1=250;//in volts\n",
"I_o=1.2;//in amperes\n",
"W_o=80;//in watts\n",
"pf=W_o/(V1*I_o);\n",
"pf2=0.8;\n",
"R_O=V1/(I_o*pf);\n",
"X_O=V1/(I_o*sqrt(1-pf^2));\n",
"V_sc=25;//in volts\n",
"I_sc=10;//in amperes\n",
"P_sc=95;//in watts\n",
"Z_O2=V_sc/I_sc;\n",
"R_O2=P_sc/I_sc^2;\n",
"X_O2=sqrt(Z_O2^2-R_O2^2);\n",
"R_O1=a^2*R_O2;\n",
"X_O1=a^2*X_O2;\n",
"I_2=6000/500;//in amperes\n",
"VR=I_2*(R_O2*pf2+X_O2*sqrt(1-pf2^2))/500;\n",
"VR_h=0.5*I_2*(R_O2*pf2+X_O2*sqrt(1-pf2^2))/500;\n",
"disp(R_O,'R_O (in ohms)=');\n",
"disp(X_O,'X_O Magnetising reactance (in ohms)=');\n",
"disp(R_O1,'Equivalent Resistance reffered to LV Side (in ohms)=');\n",
"disp(X_O1,'Equivalent Reactance reffered to LV Side (in ohms)');\n",
"disp(VR*100,'Voltage Regulation at full load (in %)=');\n",
"disp(VR_h*100,'Voltage Regulation at half load (in %)=');\n",
"P_o=(500-I_2*(R_O2*pf2+X_O2*sqrt(1-pf2^2)))*I_2*pf2;\n",
"P_i=80;//in watts\n",
"P_cu=(12/10)^2*P_sc;\n",
"P_cu_h=0.5^2*P_cu;\n",
"Eff=P_o/(P_o+P_i+P_cu);\n",
"disp(Eff*100,'Efficiency at full load (in %)=');\n",
"P_o_h=(500-I_2*0.5*(R_O2*pf2+X_O2*sqrt(1-pf2^2)))*I_2*0.5*pf2;\n",
"Eff_h=P_o_h/(P_o_h+P_i+P_cu_h);\n",
"disp(Eff_h*100,'Efficiency at half load (in %)=');"
   ]
   }
,
{
		   "cell_type": "markdown",
		   "metadata": {},
		   "source": [
			"## Example 3.16: Find_the_efficiency_of_transformer_at_full_load_and_75_percent_of_full_load.sce"
		   ]
		  },
  {
"cell_type": "code",
	   "execution_count": null,
	   "metadata": {
	    "collapsed": true
	   },
	   "outputs": [],
"source": [
"//Caption:Find the efficiency of transformer at full load and 75 percent of full load (a)at unity power factor (b)0.8 power factor\n",
"//Exa:3.16\n",
"clc;\n",
"clear;\n",
"close;\n",
"I_2=200;//in amperes\n",
"R_O2=0.008;//in ohms\n",
"x=0.75;\n",
"P_cu=x^2*I_2^2*R_O2;//in watts\n",
"P_i=190;//in watts\n",
"KVA=40;\n",
"P_o=40*1000;//in watts\n",
"Eff=P_o/(P_o+P_i+I_2^2*R_O2);\n",
"Eff_2=KVA*1000*0.8/(KVA*1000*0.8+P_i+I_2^2*R_O2);\n",
"disp(Eff*100,'(a)Efficiency of transformer at full load and at unity power factor (in %)=');\n",
"disp(Eff_2*100,'(b)Efficiency of transformer at full load and at 0.8 power factor (in %)=');\n",
"Eff_3=x*P_o/(x*P_o+P_i+P_cu);\n",
"Eff_4=x*P_o*0.8/(x*0.8*P_o+P_i+P_cu);\n",
"disp(Eff_3*100,'(a)Efficiency of transformer at 75% of load and at unity power factor (in %)=');\n",
"disp(Eff_4*100,'(b)Efficiency of transformer at 75% of load and at 0.8 power factor (in %)=');"
   ]
   }
,
{
		   "cell_type": "markdown",
		   "metadata": {},
		   "source": [
			"## Example 3.17: EX3_17.sce"
		   ]
		  },
  {
"cell_type": "code",
	   "execution_count": null,
	   "metadata": {
	    "collapsed": true
	   },
	   "outputs": [],
"source": [
"//Caption:Determine the (a)Load at which max efficiency occurs and value of max efficiency (b)New core loss and Cu loss\n",
"//Exa:3.17\n",
"clc;\n",
"clear;\n",
"close;\n",
"KVA=20;\n",
"P_i=250;//in watts\n",
"P_cu=500;//in watts\n",
"x=sqrt(P_i/P_cu);\n",
"disp(x*100,'(a)Max efficiency will occur at');\n",
"disp('Percent of full load');\n",
"P_o=x*KVA*1000;\n",
"Eff=P_o/(P_o+P_i+P_i);\n",
"disp(Eff*100,'Maximum Efficiency (in %)=');\n",
"P_cu_n=(P_i+P_cu)/(0.85^2+1);\n",
"P_i_n=P_i+P_cu-P_cu_n;\n",
"disp(P_i_n,'(b)Core Loss (in watts)=');\n",
"disp(P_cu_n,'   Copper Loss (in watts)=')"
   ]
   }
,
{
		   "cell_type": "markdown",
		   "metadata": {},
		   "source": [
			"## Example 3.18: EX3_18.sce"
		   ]
		  },
  {
"cell_type": "code",
	   "execution_count": null,
	   "metadata": {
	    "collapsed": true
	   },
	   "outputs": [],
"source": [
"//Caption:Calculate the secondary current at which max efficiency will occur and also calculate the max efficiency at 0.8pf lagging\n",
"//Exa:3.18\n",
"clc;\n",
"clear;\n",
"close;\n",
"a=1000/200;\n",
"R_1=0.25;//in ohms\n",
"R_2=0.018;//in ohms\n",
"R_O2=R_2+R_1/a^2;\n",
"P_i=240;//in watts\n",
"I_2=sqrt(P_i/R_2);\n",
"disp(I_2,'The secondary current at which max efficiency will occur (in Amperes)=');\n",
"P_o=200*I_2*0.8;//in watts\n",
"P_t=2*P_i;//in watts\n",
"Eff=P_o/(P_o+P_t);\n",
"disp(Eff*100,'Max efficiency at 0.8pf lagging(in %)=')"
   ]
   }
,
{
		   "cell_type": "markdown",
		   "metadata": {},
		   "source": [
			"## Example 3.19: EX3_19.sce"
		   ]
		  },
  {
"cell_type": "code",
	   "execution_count": null,
	   "metadata": {
	    "collapsed": true
	   },
	   "outputs": [],
"source": [
"//Caption:Find the (a)iron loss (b)copper loss at full load (c)Load KVA at which maximum efficiency occurs (d)maximum efficiency of transformer at 0.8pf lagging\n",
"//Exa:3.19\n",
"clc;\n",
"clear;\n",
"close;\n",
"KVA=150;\n",
"pf=0.8;\n",
"Eff=0.96;\n",
"P_o=KVA*1000*pf;//in watts\n",
"P_cu=P_o*((1/Eff)-1)*(1-0.5)*4/3;\n",
"P_i=4999.9-P_cu;\n",
"disp(P_i,'(a)Iron Loss (in watts)=');\n",
"disp(P_cu,'(b)Copper Loss at full load (in watts)=');\n",
"x=sqrt(P_i/P_cu);\n",
"disp(x*KVA,'(c)Load KVA at which maximum efficiency occurs (in KVA)='); \n",
"Eff_max=x*KVA*1000*0.8/(x*KVA*1000*0.8+2*P_i);\n",
"disp(Eff_max*100,'(d)maximum efficiency of transformer at 0.8pf lagging(in %)=')"
   ]
   }
,
{
		   "cell_type": "markdown",
		   "metadata": {},
		   "source": [
			"## Example 3.1: Determine_the_number_of_turns_of_primary_and_secondary_windings_and_emf_per_turn.sce"
		   ]
		  },
  {
"cell_type": "code",
	   "execution_count": null,
	   "metadata": {
	    "collapsed": true
	   },
	   "outputs": [],
"source": [
"//Caption:Determine the (a)number of turns of primary and secondary windings (b)emf per turn\n",
"//Exa:3.1\n",
"clc;\n",
"clear;\n",
"close;\n",
"A=500*10^-4;//in m^2\n",
"B_max=1.5;//in tesla\n",
"f=50;//in Hz\n",
"E_1=5000;//in volts\n",
"E_2=500;//in volts\n",
"S_f=0.85;//Stacking factor\n",
"N_1=int(E_1/(4.44*f*B_max*A*S_f));\n",
"disp(N_1,'(a)Number of turns in primary winding=');\n",
"N_2=int(E_2*N_1/E_1);\n",
"disp(N_2,'Number of turns in secondary winding=');\n",
"disp(E_1/N_1,'(b)Emf per turn (in Volts)=');"
   ]
   }
,
{
		   "cell_type": "markdown",
		   "metadata": {},
		   "source": [
			"## Example 3.22: Calculate_Efficiency_at_full_load_and_half_load.sce"
		   ]
		  },
  {
"cell_type": "code",
	   "execution_count": null,
	   "metadata": {
	    "collapsed": true
	   },
	   "outputs": [],
"source": [
"//Caption:Calculate (a)Efficiency at full load and at unity power factor (b)Efficiency at half load and 0.8 power factor (c)Efficiency at 75 percent of load and 0.7 power factor (d)load KVA at which maximum efficiency will occcur (e)maximum efficiency at 0.85 power factor\n",
"//Exa:3.22\n",
"clc;\n",
"clear;\n",
"close;\n",
"KVA=100;\n",
"P_cu=1200;//in watts\n",
"P_i=960;//in watts\n",
"x1=1;\n",
"pf1=1;\n",
"P_o_1=x1*KVA*pf1*1000;\n",
"Eff_1=P_o_1/(P_o_1+P_i+x1^2*P_cu);\n",
"disp(Eff_1*100,'(a)Efficiency at full load and at unity power factor (in %)=');\n",
"x2=0.5;\n",
"pf2=0.8;\n",
"P_o_2=x2*KVA*1000*pf2;\n",
"Eff_2=P_o_2/(P_o_2+P_i+x2^2*P_cu);\n",
"disp(Eff_2*100,'(b)Efficiency at half load and at 0.8 power factor (in %)=');\n",
"x3=0.75;\n",
"pf3=0.7;\n",
"P_o_3=x3*KVA*1000*pf3;\n",
"Eff_3=P_o_3/(P_o_3+P_i+x3^2*P_cu);\n",
"disp(Eff_3*100,'(c) Efficiency at 75 percent of load and 0.7 power factor(in %)=');\n",
"KVA_max=KVA*sqrt(P_i/P_cu);\n",
"disp(KVA_max,'(d)load KVA at which maximum efficiency will occcur (in KVA)=');\n",
"Eff_max=KVA_max*1000*0.85/(KVA_max*1000*0.85+2*P_i);\n",
"disp(Eff_max*100,'(e)maximum efficiency at 0.85 power factor(in %)=')"
   ]
   }
,
{
		   "cell_type": "markdown",
		   "metadata": {},
		   "source": [
			"## Example 3.23: EX3_23.sce"
		   ]
		  },
  {
"cell_type": "code",
	   "execution_count": null,
	   "metadata": {
	    "collapsed": true
	   },
	   "outputs": [],
"source": [
"//Caption:Calculate the core loss and copper loss and also find the value of load current at which max efficiency will be attained\n",
"//Exa:3.23\n",
"clc;\n",
"clear;\n",
"close;\n",
"KVA=100;\n",
"V2=11000;//in volts\n",
"x1=1;\n",
"x2=0.5;\n",
"pf1=0.8;\n",
"pf2=1;\n",
"Eff_1=0.985;\n",
"Eff_2=0.99;\n",
"P_cu=(KVA*1000*x1*pf1*((1/Eff_1)-1)-x2*KVA*1000*((1/Eff_2)-1))*(4/3);// in watts\n",
"P_i=1218-P_cu;// in watts\n",
"I_fl=KVA*1000/V2;\n",
"I_2=I_fl*sqrt(P_i/P_cu);\n",
"disp(P_cu,'Copper loss (in watts)=');\n",
"disp(P_i,'Core loss (in watts)=');\n",
"disp(I_2,'Load current (in amperes)=')"
   ]
   }
,
{
		   "cell_type": "markdown",
		   "metadata": {},
		   "source": [
			"## Example 3.24: EX3_24.sce"
		   ]
		  },
  {
"cell_type": "code",
	   "execution_count": null,
	   "metadata": {
	    "collapsed": true
	   },
	   "outputs": [],
"source": [
"//Caption:Calculate the efficiency of the transformer at 75 percent of full load and maximum efficiency\n",
"//Exa:3.24\n",
"clc;\n",
"clear;\n",
"close;\n",
"P_o=500;//in watts\n",
"Eff_fl=0.9;\n",
"Eff_hl=0.9;\n",
"P_cu=(((P_o-0.5*P_o)/Eff_fl)-0.5*P_o)*4/3;// in watts\n",
"P_i=0.5*P_cu;// in watts\n",
"Eff=P_o*0.75/(P_o*0.75+P_i+0.75^2*P_cu);\n",
"disp(Eff*100,'Efficiency of transformer at 75 percent of full load(in %)=');\n",
"P_o_max=P_o*sqrt(P_i/P_cu);\n",
"Eff_max=P_o_max/(P_o_max+P_i+P_i);\n",
"disp(Eff_max*100,'Maximum efficiency (in %)=')"
   ]
   }
,
{
		   "cell_type": "markdown",
		   "metadata": {},
		   "source": [
			"## Example 3.25: EX3_25.sce"
		   ]
		  },
  {
"cell_type": "code",
	   "execution_count": null,
	   "metadata": {
	    "collapsed": true
	   },
	   "outputs": [],
"source": [
"//Caption:Calculate the efficiency of the transformer on full load and half load at unity power factor\n",
"//Exa:3.25\n",
"clc;\n",
"clear;\n",
"close;\n",
"KVA=100;\n",
"P_i=1300;//in watts\n",
"P_cu=1200;//in watts\n",
"pf=1;\n",
"Eff_fl=KVA*1000*pf/(KVA*1000*pf+P_i+P_cu);\n",
"disp(Eff_fl*100,'Efficiency of transformer at full load (in %)=');\n",
"Eff_hl=KVA*1000*0.5*pf/(KVA*0.5*1000*pf+P_i+0.25*P_cu);\n",
"disp(Eff_hl*100,'Efficiency of transformer at half load (in %)=');"
   ]
   }
,
{
		   "cell_type": "markdown",
		   "metadata": {},
		   "source": [
			"## Example 3.26: Find_the_voltage_regulation.sce"
		   ]
		  },
  {
"cell_type": "code",
	   "execution_count": null,
	   "metadata": {
	    "collapsed": true
	   },
	   "outputs": [],
"source": [
"//Caption:Find the voltage regulation\n",
"//Exa:3.26\n",
"clc;\n",
"clear;\n",
"close;\n",
"KVA=100;\n",
"Eff_max=0.98;\n",
"x=0.8;\n",
"pf=0.8;\n",
"P_o=x*KVA*1000*pf;//in watts\n",
"P_i=(P_o-P_o*Eff_max)/(2*Eff_max);//in watts\n",
"P_cu=P_i/x^2;\n",
"R_equ=P_cu/(KVA*1000);\n",
"Z_equ=0.05;\n",
"X_equ=sqrt(Z_equ^2-R_equ^2);\n",
"VR=R_equ*pf+X_equ*sqrt(1-pf^2);\n",
"disp(VR*100,'Voltage Regulation (in %)=')"
   ]
   }
,
{
		   "cell_type": "markdown",
		   "metadata": {},
		   "source": [
			"## Example 3.27: EX3_27.sce"
		   ]
		  },
  {
"cell_type": "code",
	   "execution_count": null,
	   "metadata": {
	    "collapsed": true
	   },
	   "outputs": [],
"source": [
"//Caption:Calculate the percentage resistance and reactance drops and the percentage of full load at which max efficiency will occur\n",
"//Exa:3.27\n",
"clc;\n",
"clear;\n",
"close;\n",
"KVA=20;\n",
"V1=1100;//in volts\n",
"V2=220;//in volts\n",
"a=V1/V2;\n",
"P_i=175;//in watts\n",
"R1=0.25;//in ohms\n",
"R2=0.012;//in ohms\n",
"X1=1.1;//in ohms\n",
"X2=0.055;//in ohms\n",
"R_O2=R2+R1/a^2;\n",
"X_O2=X2+X1/a^2;\n",
"I2=KVA*1000/V2;\n",
"V_r=I2*R_O2*100/V2;\n",
"disp(V_r,'Percentage Resistance drop (in %)=');\n",
"V_re=I2*X_O2*100/V2;\n",
"disp(V_re,'Percentage Reactance drop (in %)=');\n",
"P_cu=I2^2*R_O2;\n",
"x=sqrt(P_i/P_cu);\n",
"disp(x*100,'Max Efficiency will occur at');\n",
"disp('percent of full load');"
   ]
   }
,
{
		   "cell_type": "markdown",
		   "metadata": {},
		   "source": [
			"## Example 3.28: Find_the_voltage_regulation.sce"
		   ]
		  },
  {
"cell_type": "code",
	   "execution_count": null,
	   "metadata": {
	    "collapsed": true
	   },
	   "outputs": [],
"source": [
"//Caption:Find the voltage regulation\n",
"//Exa:3.28\n",
"clc;\n",
"clear;\n",
"close;\n",
"KVA=500;\n",
"V2=500;//in volts\n",
"x=0.75;\n",
"pf=1;\n",
"Eff_max=0.97;\n",
"P_i=(KVA*x*1000*pf-KVA*x*1000*pf*Eff_max)/(2*Eff_max);//in watts\n",
"P_cu=P_i/x^2;\n",
"R_equ=P_cu/(KVA*1000);\n",
"X_equ=sqrt(0.1^2-R_equ^2);//in ohms\n",
"VR=R_equ*0.8+X_equ*0.6;\n",
"disp(VR*100,'Voltage Regulation (in %)=')"
   ]
   }
,
{
		   "cell_type": "markdown",
		   "metadata": {},
		   "source": [
			"## Example 3.29: EX3_29.sce"
		   ]
		  },
  {
"cell_type": "code",
	   "execution_count": null,
	   "metadata": {
	    "collapsed": true
	   },
	   "outputs": [],
"source": [
"//Caption:Calculate the value of iron loss and copper loss which will give max efficiency and also the max efficiency\n",
"//Exa:3.29\n",
"clc;\n",
"clear;\n",
"close;\n",
"KVA=25;\n",
"P_iron=350;//in watts\n",
"//For max efficiency P_iron=P_cu\n",
"P_cu=P_iron;\n",
"disp(P_iron,'Iron loss (in watts)=');\n",
"disp(P_cu,'Copper Loss (in watts)=');\n",
"Eff=KVA*1000/(KVA*1000+P_iron+P_cu);\n",
"disp(Eff*100,'Maximum Efficiency (in %)=');"
   ]
   }
,
{
		   "cell_type": "markdown",
		   "metadata": {},
		   "source": [
			"## Example 3.2: EX3_2.sce"
		   ]
		  },
  {
"cell_type": "code",
	   "execution_count": null,
	   "metadata": {
	    "collapsed": true
	   },
	   "outputs": [],
"source": [
"//Caption:Determine the (a)number of turns of primary and secondary windings (b)cross section area of the core\n",
"//Exa:3.2\n",
"clc;\n",
"clear;\n",
"close;\n",
"B_max=1.4;//in tesla\n",
"f=50;//in Hz\n",
"E_1=660;//in volts\n",
"E_2=440;//in volts\n",
"E_T1=1.1;//in volts\n",
"N_1=int(E_1/E_T1);\n",
"disp(N_1,'(a)Number of turns in primary winding=');\n",
"N_2=int(E_2*N_1/E_1);\n",
"disp(N_2,'Number of turns in secondary winding=');\n",
"A=E_1/(4.44*f*N_1*B_max);\n",
"disp(A,'(b)Cross section area of the core (in m^2)=');"
   ]
   }
,
{
		   "cell_type": "markdown",
		   "metadata": {},
		   "source": [
			"## Example 3.30: Find_the_Efficiency_and_voltage_regulation_of_transformer.sce"
		   ]
		  },
  {
"cell_type": "code",
	   "execution_count": null,
	   "metadata": {
	    "collapsed": true
	   },
	   "outputs": [],
"source": [
"//Caption:Find the Efficiency and voltage regulation of transformer\n",
"//Exa:3.30\n",
"clc;\n",
"clear;\n",
"close;\n",
"P_i=100;//in watts\n",
"V2=400;//in volts\n",
"P_sc=200;//in watts\n",
"I_2=11.4;//in amperes\n",
"R_O2=P_sc/I_2^2;//in ohms\n",
"KVA=5;\n",
"I_2fl=KVA*1000/V2;\n",
"P_cu=I_2fl^2*R_O2;\n",
"pf=0.9;\n",
"Eff=KVA*1000*pf/(KVA*1000*pf+P_cu+P_i);\n",
"disp(Eff*100,'Efficiency (in %)=');\n",
"V_2sc=40;//in volts\n",
"Z_O2=V_2sc/I_2;\n",
"X_O2=sqrt(Z_O2^2-R_O2^2);\n",
"VR=I_2fl*(R_O2*pf+X_O2*sqrt(1-pf^2))/V2;\n",
"disp(VR*100,'Voltage Regulation (in %)=')"
   ]
   }
,
{
		   "cell_type": "markdown",
		   "metadata": {},
		   "source": [
			"## Example 3.3: Determine_the_number_of_turns_of_primary_and_secondary_windings.sce"
		   ]
		  },
  {
"cell_type": "code",
	   "execution_count": null,
	   "metadata": {
	    "collapsed": true
	   },
	   "outputs": [],
"source": [
"//Caption:Determine the number of turns of primary and secondary windings \n",
"//Exa:3.3\n",
"clc;\n",
"clear;\n",
"close;\n",
"Phy_max=7.82*10^-3;//in webers\n",
"f=50;//in Hz\n",
"E_1=5000;//in volts\n",
"E_2=500;//in volts\n",
"N_1=int(E_1/(4.44*f*Phy_max));\n",
"disp(N_1,'Number of turns in primary winding=');\n",
"N_2=int(E_2*N_1/E_1);\n",
"disp(N_2,'Number of turns in secondary winding=');"
   ]
   }
,
{
		   "cell_type": "markdown",
		   "metadata": {},
		   "source": [
			"## Example 3.4: EX3_4.sce"
		   ]
		  },
  {
"cell_type": "code",
	   "execution_count": null,
	   "metadata": {
	    "collapsed": true
	   },
	   "outputs": [],
"source": [
"//Caption:Determine the (a)Secondary voltage (b)current flowing through windings (c)max value of flux \n",
"//Exa:3.4\n",
"clc;\n",
"clear;\n",
"close;\n",
"f=50;//in Hz\n",
"E_1=2500;//in volts\n",
"N_1=500;\n",
"N_2=100;\n",
"P=50*1000;//in watts\n",
"E_2=E_1*N_2/N_1;\n",
"disp(E_2,'(a)Secondary Voltage (in volts)=');\n",
"I_1=P/E_1;\n",
"disp(I_1,'(b)Primary current (in amperes)=');\n",
"I_2=P/E_2;\n",
"disp(I_2,'   Secondary current (in amperes)=');\n",
"Phy_max=E_1/(4.44*f*N_1);\n",
"disp(Phy_max,'(c)Max value of flux (in Wb)=')"
   ]
   }
,
{
		   "cell_type": "markdown",
		   "metadata": {},
		   "source": [
			"## Example 3.5: EX3_5.sce"
		   ]
		  },
  {
"cell_type": "code",
	   "execution_count": null,
	   "metadata": {
	    "collapsed": true
	   },
	   "outputs": [],
"source": [
"//Caption:Determine the (a)No load power factor(b)iron loss component of current (c)magnetising component of current\n",
"//Exa:3.5\n",
"clc;\n",
"clear;\n",
"close;\n",
"f=50;//in Hz\n",
"W=80;//in watts\n",
"V=4400;//in volts\n",
"I=0.04;//in amperes\n",
"pf=W/(V*I);\n",
"disp(pf,'(a)No load power factor=');\n",
"I_w=I*pf;\n",
"disp(I_w,'(b)Iron loss component of current (in amperes)=');\n",
"I_m=I*sqrt(1-pf^2);\n",
"disp(I_m,'(c)Magnetising component of current (in amperes)')"
   ]
   }
,
{
		   "cell_type": "markdown",
		   "metadata": {},
		   "source": [
			"## Example 3.6: EX3_6.sce"
		   ]
		  },
  {
"cell_type": "code",
	   "execution_count": null,
	   "metadata": {
	    "collapsed": true
	   },
	   "outputs": [],
"source": [
"//Caption:Determine the (a)No load input power (b)magnetising component of current and no load power factor\n",
"//Exa:3.6\n",
"clc;\n",
"clear;\n",
"close;\n",
"f=50;//in Hz\n",
"P=20*1000;//in watts\n",
"E_1=2200;//in volts\n",
"E_2=220;//in volts\n",
"I=1.3;//in amperes\n",
"I_w=0.5;//in amperes\n",
"W=E_2*I_w;\n",
"disp(W,'(a)No load input power (in watts)=')\n",
"pf=I_w/I;\n",
"disp(pf,'(b)No load power factor=');\n",
"I_m=I*sqrt(1-pf^2);\n",
"disp(I_m,'   Magnetising component of current (in amperes)')"
   ]
   }
,
{
		   "cell_type": "markdown",
		   "metadata": {},
		   "source": [
			"## Example 3.7: EX3_7.sce"
		   ]
		  },
  {
"cell_type": "code",
	   "execution_count": null,
	   "metadata": {
	    "collapsed": true
	   },
	   "outputs": [],
"source": [
"//Caption:Determine the (a)Equivalent resistance,leakage reactances and impedance reffered to high voltage side (b)Equivalent resistance,leakage reactances and impedance reffered to high voltage side (c)Total copper loss of transformer\n",
"//Exa:3.7\n",
"clc;\n",
"clear;\n",
"close;\n",
"f=50;//in Hz\n",
"P=30*1000;//in watts\n",
"E_1=3000;//in volts\n",
"E_2=300;//in volts\n",
"R_1=2.5;//in ohms\n",
"R_2=0.018;//in ohms\n",
"X_1=3.8;//in ohms\n",
"X_2=0.052;//in ohms\n",
"a=E_1/E_2;\n",
"R1=R_1+a^2*R_2;\n",
"X1=X_1+a^2*X_2;\n",
"Z1=sqrt(R1^2+X1^2);\n",
"disp(R1,'(a)Equivalent resistance reffered to high voltage side (in ohms)=');\n",
"disp(X1,'   Equivalent reactance reffered to high voltage side (in ohms)=');\n",
"disp(Z1,'   Equivalent impedance reffered to high voltage side (in ohms)=');\n",
"R2=R_1/a^2+R_2;\n",
"X2=X_1/a^2+X_2;\n",
"Z2=sqrt(R2^2+X2^2);\n",
"disp(R2,'(b)Equivalent resistance reffered to low voltage side (in ohms)=');\n",
"disp(X2,'   Equivalent reactance reffered to low voltage side (in ohms)=');\n",
"disp(Z2,'   Equivalent impedance reffered to low voltage side (in ohms)=');\n",
"I_1=P/E_1;\n",
"I_2=P/E_2;\n",
"P_cu=I_1^2*R1;\n",
"disp(P_cu,'(c)Total copper loss of transformer (in watts)=')"
   ]
   }
,
{
		   "cell_type": "markdown",
		   "metadata": {},
		   "source": [
			"## Example 3.8: Find_the_equivalent_circuit_parameters_reffered_to_primary_side.sce"
		   ]
		  },
  {
"cell_type": "code",
	   "execution_count": null,
	   "metadata": {
	    "collapsed": true
	   },
	   "outputs": [],
"source": [
"//Caption:Find the equivalent circuit parameters reffered to primary side\n",
"//Exa:3.8\n",
"clc;\n",
"clear;\n",
"close;\n",
"a=400/200;\n",
"I_o_Lv=2;//in amperes\n",
"I_o_Hv=I_o_Lv/a;//in amperes\n",
"V_o=400;//in volts\n",
"P_occ=90;//in watts\n",
"pf=P_occ/(V_o*I_o_Hv);\n",
"I_w=I_o_Hv*pf;\n",
"disp(I_w,'I_w (in Amperes)=');\n",
"I_m=I_o_Hv*sqrt(1-pf^2);\n",
"disp(I_m,'Magnetising current I_m (in Amperes)=');\n",
"R_o=V_o/I_w;\n",
"disp(R_o,'R_o (in ohms)=');\n",
"X_o=V_o/I_m;\n",
"disp(X_o,'Magnetizing reactance X_o (in ohms)=');\n",
"V_sc=20;//in volts\n",
"I_sc=10;//in amperes\n",
"P_sc=100;//in watts\n",
"Z_o1=V_sc/I_sc;\n",
"R_o1=P_sc/I_sc^2;\n",
"disp(R_o1,'Effective resistance reffered to primary side (in ohms)=');\n",
"X_o1=sqrt(Z_o1^2-R_o1^2);\n",
"disp(X_o1,'Effective reactance reffered to primary side (in ohms)=')"
   ]
   }
,
{
		   "cell_type": "markdown",
		   "metadata": {},
		   "source": [
			"## Example 3.9: Find_the_readings_of_transformers_when_it_is_connected_for_OC_test_and_SC_test.sce"
		   ]
		  },
  {
"cell_type": "code",
	   "execution_count": null,
	   "metadata": {
	    "collapsed": true
	   },
	   "outputs": [],
"source": [
"//Caption:Find the readings of transformers when it is connected for (a)OC test (b)SC test\n",
"//Exa:3.9\n",
"clc;\n",
"clear;\n",
"close;\n",
"V1=460;//in volts\n",
"V2=230;//in volts\n",
"a=V1/V2;\n",
"R1=0.4;//in ohms\n",
"R2=0.1;//in ohms\n",
"X1=0.5;//in ohms\n",
"X2=0.12;//in ohms\n",
"R_o=650;//in ohms\n",
"X_o=250;//in ohms\n",
"I_w=V1/R_o;\n",
"I_m=V1/X_o;\n",
"P_occ=V1*I_w;\n",
"disp('Readings of transformer for OC test');\n",
"disp(V1,'Voltage Reading (in volts)=');\n",
"disp(sqrt(I_w^2+I_m^2),'Current Reading (in Amperes)=');\n",
"disp(P_occ,'Power output reading (in watts)=');\n",
"R_O1=R1+a^2*R2;\n",
"X_O1=X1+a^2*X2;\n",
"Z=sqrt(R_O1^2+X_O1^2);\n",
"I=4000/V1;\n",
"V_sc=I*Z;\n",
"P_sc=I^2*R_O1;\n",
"disp('Readings of transformer for SC test');\n",
"disp(V_sc,'Voltage Reading (in volts)=');\n",
"disp(I,'Current Reading (in Amperes)=');\n",
"disp(P_sc,'Power output reading (in watts)=');"
   ]
   }
],
"metadata": {
		  "kernelspec": {
		   "display_name": "Scilab",
		   "language": "scilab",
		   "name": "scilab"
		  },
		  "language_info": {
		   "file_extension": ".sce",
		   "help_links": [
			{
			 "text": "MetaKernel Magics",
			 "url": "https://github.com/calysto/metakernel/blob/master/metakernel/magics/README.md"
			}
		   ],
		   "mimetype": "text/x-octave",
		   "name": "scilab",
		   "version": "0.7.1"
		  }
		 },
		 "nbformat": 4,
		 "nbformat_minor": 0
}
