{
"cells": [
 {
		   "cell_type": "markdown",
	   "metadata": {},
	   "source": [
       "# Chapter 1: Introduction To Electrical Machines"
	   ]
	},
{
		   "cell_type": "markdown",
		   "metadata": {},
		   "source": [
			"## Example 1.10: Find_the_average_value_of_emf_induced_in_the_coil.sce"
		   ]
		  },
  {
"cell_type": "code",
	   "execution_count": null,
	   "metadata": {
	    "collapsed": true
	   },
	   "outputs": [],
"source": [
"//Caption:Find the average value of emf induced in the coil\n",
"//Exa:1.10\n",
"clc;\n",
"clear;\n",
"close;\n",
"N=1000;//No.of turns\n",
"Phy_1=2000*10^-6;//In Webers\n",
"//On reversal of current\n",
"Phy_2=2000*10^-6;//In Webers\n",
"t=0.2;//in seconds\n",
"e=N*(Phy_1-(-Phy_2))/t;\n",
"disp(e,'Average value of emf induced in the coil (in volts)=')"
   ]
   }
,
{
		   "cell_type": "markdown",
		   "metadata": {},
		   "source": [
			"## Example 1.11: Find_the_average_emf_induced_in_the_coil_and_current_through_the_coil.sce"
		   ]
		  },
  {
"cell_type": "code",
	   "execution_count": null,
	   "metadata": {
	    "collapsed": true
	   },
	   "outputs": [],
"source": [
"//Caption:Find the (1)average emf induced in the coil (2)current through the coil\n",
"//Exa:1.11\n",
"clc;\n",
"clear;\n",
"close;\n",
"N=300;//No.of turns\n",
"R=60;//resitance in ohms\n",
"Phy_1=2*10^-3;//In Webers\n",
"Phy_2=3*10^-3;//In Webers\n",
"t=0.2;//in seconds\n",
"e=N*(Phy_2-Phy_1)/t;\n",
"disp(e,'(1) Average emf induced in the coil (in volts)=');\n",
"i=e/R;\n",
"disp(i,'(2) Current through the coil (in Amperes)=')"
   ]
   }
,
{
		   "cell_type": "markdown",
		   "metadata": {},
		   "source": [
			"## Example 1.12: Find_the_average_value_of_emf_induced_across_the_feild_terminals.sce"
		   ]
		  },
  {
"cell_type": "code",
	   "execution_count": null,
	   "metadata": {
	    "collapsed": true
	   },
	   "outputs": [],
"source": [
"//Caption:Find the average value of emf induced across the feild terminals\n",
"//Exa:1.12\n",
"clc;\n",
"clear;\n",
"close;\n",
"P=4;//no of poles\n",
"N=4*250;//No.of turns\n",
"Phy_1=40*P*10^-3;//In Webers\n",
"Phy_2=5*P*10^-3;//In Webers\n",
"t=0.1;//in seconds\n",
"e=N*(Phy_1-Phy_2)/t;\n",
"disp(e,'average value of emf induced across the feild terminals (in volts)=')"
   ]
   }
,
{
		   "cell_type": "markdown",
		   "metadata": {},
		   "source": [
			"## Example 1.9: Find_the_emf_induced_in_the_coil.sce"
		   ]
		  },
  {
"cell_type": "code",
	   "execution_count": null,
	   "metadata": {
	    "collapsed": true
	   },
	   "outputs": [],
"source": [
"//Chapter:1:Introduction to electrical Machines\n",
"//Caption:Find the emf induced in the coil\n",
"//Exa:1.9\n",
"clc;\n",
"clear;\n",
"close;\n",
"N=800;//No.of turns\n",
"Phy_1=2000*10^-6;//In Webers\n",
"Phy_2=1000*10^-6;//In Webers\n",
"t=0.1;//in seconds\n",
"e=N*(Phy_1-Phy_2)/t;\n",
"disp(e,'Emf induced in the coil (in volts)=')"
   ]
   }
],
"metadata": {
		  "kernelspec": {
		   "display_name": "Scilab",
		   "language": "scilab",
		   "name": "scilab"
		  },
		  "language_info": {
		   "file_extension": ".sce",
		   "help_links": [
			{
			 "text": "MetaKernel Magics",
			 "url": "https://github.com/calysto/metakernel/blob/master/metakernel/magics/README.md"
			}
		   ],
		   "mimetype": "text/x-octave",
		   "name": "scilab",
		   "version": "0.7.1"
		  }
		 },
		 "nbformat": 4,
		 "nbformat_minor": 0
}
