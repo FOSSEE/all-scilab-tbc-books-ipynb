{
"cells": [
 {
		   "cell_type": "markdown",
	   "metadata": {},
	   "source": [
       "# Chapter 15: Fatigue"
	   ]
	},
{
		   "cell_type": "markdown",
		   "metadata": {},
		   "source": [
			"## Example 15.1: Example_1.sce"
		   ]
		  },
  {
"cell_type": "code",
	   "execution_count": null,
	   "metadata": {
	    "collapsed": true
	   },
	   "outputs": [],
"source": [
"pathname=get_absolute_file_path('15_1.sce')\n",
"filename=pathname+filesep()+'15_1data.sci'\n",
"exec(filename)\n",
"clear\n",
"af=(K^2)/(S^2 *alpha^2 *%pi);\n",
"Nf=(2/(C*(n-2)*((S*%pi^0.5)^n)))*((1/ai^((n-2)/2))-(1/af^((n-2)/2)));\n",
"printf('\naf: %f mm',af)\n",
"if(round(Nf)>Nf) then\n",
"    printf('\nNf: %f cycles',round(Nf));\n",
"else\n",
"    printf('\nNf: %f cycles',round(Nf)+1)\n",
"end"
   ]
   }
],
"metadata": {
		  "kernelspec": {
		   "display_name": "Scilab",
		   "language": "scilab",
		   "name": "scilab"
		  },
		  "language_info": {
		   "file_extension": ".sce",
		   "help_links": [
			{
			 "text": "MetaKernel Magics",
			 "url": "https://github.com/calysto/metakernel/blob/master/metakernel/magics/README.md"
			}
		   ],
		   "mimetype": "text/x-octave",
		   "name": "scilab",
		   "version": "0.7.1"
		  }
		 },
		 "nbformat": 4,
		 "nbformat_minor": 0
}
