{
"cells": [
 {
		   "cell_type": "markdown",
	   "metadata": {},
	   "source": [
       "# Chapter 19: Combined open and closed section beams"
	   ]
	},
{
		   "cell_type": "markdown",
		   "metadata": {},
		   "source": [
			"## Example 19.1: Example_1.sce"
		   ]
		  },
  {
"cell_type": "code",
	   "execution_count": null,
	   "metadata": {
	    "collapsed": true
	   },
	   "outputs": [],
"source": [
"pathname=get_absolute_file_path('19_1.sce')\n",
"filename=pathname+filesep()+'19_1data.sci'\n",
"exec(filename)\n",
"clear\n",
"Yc=(2*L45^2 +L12^2)/(4*L12 +4*L45);\n",
"Ixx=((2*L12 +L45)*t*Yc^2) +(L45*t*(L45-Yc)^2)+ (2*t/3)*((2*Yc^3) -((Yc-L45)^3) -((Yc-L12)^3));\n",
"P=-Sy/Ixx;\n",
"function[q1]=q12(s1),\n",
"    q1=P*t*(Yc-L12)*s1 +P*t*0.5*s1^2;\n",
"endfunction\n",
"s1=linspace(0,L12,10*L12);\n",
"q1=feval(s1,q12);\n",
"subplot(2,3,1)\n",
"plot2d(s1,q1)\n",
"xgrid(3);\n",
"xtitle( 'Shear flow in 1-2 and 8-7', ' -s1- ', '-q-');\n",
"function[q2]=q23(s2),\n",
"    q2= P*t*Yc*s2+q12(L12);\n",
"endfunction\n",
"s2=linspace(0,L12,10*L12);\n",
"q2=feval(s2,q23);\n",
"subplot(2,3,2)\n",
"plot2d(s2,q2)\n",
"xgrid(3);\n",
"xtitle( 'Shear flow in 2-3 and 7-6', ' -s2- ', '-q-');\n",
"function[q3]=q03(s3),\n",
"    q3=P*t*Yc*s3;\n",
"endfunction\n",
"s3=linspace(0,L45/2,5*L45);\n",
"q3=feval(s3,q03);\n",
"subplot(2,3,3)\n",
"plot2d(s3,q3)\n",
"xgrid(3);\n",
"xtitle( 'Shear flow in 0-3 and 0-6', ' -s3- ', '-q-');\n",
"function[q4]=q34(s4),\n",
"    q4=(P*t*Yc*s4 -0.5*P*t*s4^2)+q03(L45/2)+q23(L12);\n",
"endfunction\n",
"s4=linspace(0,L45,10*L45);\n",
"q4=feval(s4,q34);\n",
"subplot(2,3,4)\n",
"plot2d(s4,q4)\n",
"xgrid(3);\n",
"xtitle( 'Shear flow in 3-4 and 6-5', ' -s4- ', '-q-');\n",
"function[q5]=q94(s5),\n",
"    q5=P*t*(Yc-L45)*s5;\n",
"endfunction\n",
"s5=linspace(0,L45/2,5*L45);\n",
"q5=feval(s5,q94);\n",
"subplot(2,3,5)\n",
"plot2d(s5,q5)\n",
"xgrid(3);\n",
"xtitle( 'Shear flow in 9-4 and 9-5', ' -s5- ', '-q-');\n",
"datatipToggle();\n",
"printf('\nclick on the point on the plot to view its coordinates');"
   ]
   }
,
{
		   "cell_type": "markdown",
		   "metadata": {},
		   "source": [
			"## Example 19.2: Example_2.sce"
		   ]
		  },
  {
"cell_type": "code",
	   "execution_count": null,
	   "metadata": {
	    "collapsed": true
	   },
	   "outputs": [],
"source": [
"pathname=get_absolute_file_path('19_2.sce')\n",
"filename=pathname+filesep()+'19_2data.sci'\n",
"exec(filename)\n",
"GJcl=((4*A*A*G*t12)/(L12+L34));\n",
"GJo=((L34+L13)*G*t^3)/3\n",
"GJ=GJcl+GJo;\n",
"Dtheta=T/GJ;\n",
"qcl=GJcl*Dtheta/(2*A);\n",
"tmaxcl=qcl/t12;\n",
"tmaxo=G*t13*Dtheta;\n",
"printf('\nτmax,cl: %f N/mm^2',tmaxcl);\n",
"printf('\nτmax,op: %f N/mm^2',tmaxo);"
   ]
   }
],
"metadata": {
		  "kernelspec": {
		   "display_name": "Scilab",
		   "language": "scilab",
		   "name": "scilab"
		  },
		  "language_info": {
		   "file_extension": ".sce",
		   "help_links": [
			{
			 "text": "MetaKernel Magics",
			 "url": "https://github.com/calysto/metakernel/blob/master/metakernel/magics/README.md"
			}
		   ],
		   "mimetype": "text/x-octave",
		   "name": "scilab",
		   "version": "0.7.1"
		  }
		 },
		 "nbformat": 4,
		 "nbformat_minor": 0
}
