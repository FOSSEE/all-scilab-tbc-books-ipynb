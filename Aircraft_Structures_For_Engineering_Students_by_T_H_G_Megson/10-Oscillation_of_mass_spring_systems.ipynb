{
"cells": [
 {
		   "cell_type": "markdown",
	   "metadata": {},
	   "source": [
       "# Chapter 10: Oscillation of mass spring systems"
	   ]
	},
{
		   "cell_type": "markdown",
		   "metadata": {},
		   "source": [
			"## Example 10.1: Example_1.sce"
		   ]
		  },
  {
"cell_type": "code",
	   "execution_count": null,
	   "metadata": {
	    "collapsed": true
	   },
	   "outputs": [],
"source": [
"pathname=get_absolute_file_path('10_1.sce')\n",
"filename=pathname+filesep()+'10_1data.sci'\n",
"exec(filename)\n",
"lambda=(m*l^3)/(3*48*EI);//λ\n",
"x=poly(0,'x');\n",
"y=21*x^2 -22*x +1;\n",
"m=roots(y);\n",
"omega1=(m(1,:)/lambda)^0.5;//ω1\n",
"omega2=(m(1,:)/lambda)^0.5;//ω2\n",
"f1=omega1/(2*%pi);\n",
"f2=omega2/(2*%pi);\n",
"printf('\nf1:%f',f1);\n",
"printf('\nf2:%f',f2);"
   ]
   }
,
{
		   "cell_type": "markdown",
		   "metadata": {},
		   "source": [
			"## Example 10.2: Example_2.sce"
		   ]
		  },
  {
"cell_type": "code",
	   "execution_count": null,
	   "metadata": {
	    "collapsed": true
	   },
	   "outputs": [],
"source": [
"pathname=get_absolute_file_path('10_2.sce')\n",
"filename=pathname+filesep()+'10_2data.sci'\n",
"exec(filename)\n",
"lambda=(m*l^3)/(6*EI);//λ\n",
"a=188,b=-44,c=1\n",
"m1=(-b+(b*b -4*a*c)^0.5)/(2*a);\n",
"m2=(-b-(b*b -4*a*c)^0.5)/(2*a);\n",
"omega1=(m1/lambda)^0.5;//ω1\n",
"omega2=(m2/lambda)^0.5;//ω2\n",
"f1=[omega1;omega2];\n",
"f=min(f1)/(2*%pi);\n",
"printf('\nlowest natural frequency is: %f',f);"
   ]
   }
,
{
		   "cell_type": "markdown",
		   "metadata": {},
		   "source": [
			"## Example 10.4: Example_4.sce"
		   ]
		  },
  {
"cell_type": "code",
	   "execution_count": null,
	   "metadata": {
	    "collapsed": true
	   },
	   "outputs": [],
"source": [
"pathname=get_absolute_file_path('10_4.sce')\n",
"filename=pathname+filesep()+'10_4data.sci'\n",
"exec(filename)\n",
"for i=1:3\n",
"    f(i)=(0.5*%pi*i/L)*(EI/(rho*A))^0.5;\n",
"end\n",
"printf('\nf1: %f',f(1));\n",
"printf('\nf2: %f',f(2));\n",
"printf('\nf3: %f',f(3));"
   ]
   }
,
{
		   "cell_type": "markdown",
		   "metadata": {},
		   "source": [
			"## Example 10.5: Example_5.sce"
		   ]
		  },
  {
"cell_type": "code",
	   "execution_count": null,
	   "metadata": {
	    "collapsed": true
	   },
	   "outputs": [],
"source": [
"pathname=get_absolute_file_path('10_5.sce')\n",
"filename=pathname+filesep()+'10_5data.sci'\n",
"exec(filename)\n",
"for i=1:3\n",
"    lambda(i)=(i-0.5)*%pi/L;\n",
"    omega(i)=(lambda(i)^2)*(EI/(rho*A))^0.5;\n",
"    fre(i)=omega(i)/(2*%pi);\n",
"    K(i)=(cos(L*lambda(i))+cosh(L*lambda(i)))/(sin(L*lambda(i))+sinh(L*lambda(i)));\n",
"end\n",
"function[V1]=f(z)\n",
"    V1=K(1)*(cosh(z*lambda(1)) -cos(z*lambda(1)) -K(1)*(sinh(z*lambda(1)) -sin(z*lambda(1))));\n",
"endfunction\n",
"function[V2]=f1(z)\n",
"    V2=K(2)*(cosh(z*lambda(2)) -cos(z*lambda(2)) -K(2)*(sinh(z*lambda(2)) -sin(z*lambda(2))));\n",
"endfunction\n",
"function[V3]=f2(z)\n",
"    V3=K(3)*(cosh(z*lambda(3)) -cos(z*lambda(3)) -K(3)*(sinh(z*lambda(3)) -sin(z*lambda(3))));\n",
"endfunction\n",
"z=linspace(0,L,10*L);\n",
"subplot(3,1,1),xgrid(3),xtitle('1st Normal Mode Of Vibration','z','V')\n",
"V1=feval(z,f);\n",
"plot2d(z,V1);\n",
"subplot(3,1,2),xgrid(3),xtitle('2nd Normal Mode Of Vibration','z','V')\n",
"V2=feval(z,f1);\n",
"plot2d(z,V2);\n",
"subplot(3,1,3),xgrid(3),xtitle('3rd Normal Mode Of Vibration','z','V')\n",
"V3=feval(z,f2);\n",
"plot2d(z,V3);\n",
"printf('\nf1: %f ',fre(1));\n",
"printf('\nf2: %f ',fre(2));\n",
"printf('\nf3: %f ',fre(3));"
   ]
   }
,
{
		   "cell_type": "markdown",
		   "metadata": {},
		   "source": [
			"## Example 10.6: Example_6.sce"
		   ]
		  },
  {
"cell_type": "code",
	   "execution_count": null,
	   "metadata": {
	    "collapsed": true
	   },
	   "outputs": [],
"source": [
"pathname=get_absolute_file_path('10_6.sce')\n",
"filename=pathname+filesep()+'10_6data.sci'\n",
"exec(filename)\n",
"omega=1.1584*(EI/(m*l^3));\n",
"printf('\nω1: %f',omega)"
   ]
   }
],
"metadata": {
		  "kernelspec": {
		   "display_name": "Scilab",
		   "language": "scilab",
		   "name": "scilab"
		  },
		  "language_info": {
		   "file_extension": ".sce",
		   "help_links": [
			{
			 "text": "MetaKernel Magics",
			 "url": "https://github.com/calysto/metakernel/blob/master/metakernel/magics/README.md"
			}
		   ],
		   "mimetype": "text/x-octave",
		   "name": "scilab",
		   "version": "0.7.1"
		  }
		 },
		 "nbformat": 4,
		 "nbformat_minor": 0
}
