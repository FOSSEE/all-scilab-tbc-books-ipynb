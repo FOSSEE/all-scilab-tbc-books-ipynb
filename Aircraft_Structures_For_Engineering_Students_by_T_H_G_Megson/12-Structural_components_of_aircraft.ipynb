{
"cells": [
 {
		   "cell_type": "markdown",
	   "metadata": {},
	   "source": [
       "# Chapter 12: Structural components of aircraft"
	   ]
	},
{
		   "cell_type": "markdown",
		   "metadata": {},
		   "source": [
			"## Example 12.1: Example_1.sce"
		   ]
		  },
  {
"cell_type": "code",
	   "execution_count": null,
	   "metadata": {
	    "collapsed": true
	   },
	   "outputs": [],
"source": [
"pathname=get_absolute_file_path('12_1.sce')\n",
"filename=pathname+filesep()+'12_1data.sci'\n",
"exec(filename)\n",
"clear\n",
"Ar=(%pi*d^2)/4;\n",
"b=((2*Ar*Ls)/(t*Lt))+d;\n",
"printf('\nb: %f',b);"
   ]
   }
,
{
		   "cell_type": "markdown",
		   "metadata": {},
		   "source": [
			"## Example 12.2: Example_2.sce"
		   ]
		  },
  {
"cell_type": "code",
	   "execution_count": null,
	   "metadata": {
	    "collapsed": true
	   },
	   "outputs": [],
"source": [
"pathname=get_absolute_file_path('12_2.sce')\n",
"filename=pathname+filesep()+'12_2data.sci'\n",
"exec(filename)\n",
"clear\n",
"Pe=Load*CL;\n",
"V=Load/6;\n",
"r=(DC^2 +AD^2)^0.5;\n",
"sumr=4*r^2 +2*DC^2;//sum(r^2)\n",
"S=(Pe/sumr)*r//shear on rivets A and B\n",
"printf('\nshear force on A & B (S): %f N',S);\n",
"thetaA=3*%pi/4;\n",
"thetaB= %pi/4;\n",
"RA=(S^2 + V^2 +2*S*V*cos(thetaA))^0.5;//resultent force on A\n",
"RB=(S^2 + V^2 +2*S*V*cos(thetaB))^0.5;//resultent force on B\n",
"printf('\nresultent force on A: %f N',RA);\n",
"printf('\nresultent force on B: %f N',RB);"
   ]
   }
],
"metadata": {
		  "kernelspec": {
		   "display_name": "Scilab",
		   "language": "scilab",
		   "name": "scilab"
		  },
		  "language_info": {
		   "file_extension": ".sce",
		   "help_links": [
			{
			 "text": "MetaKernel Magics",
			 "url": "https://github.com/calysto/metakernel/blob/master/metakernel/magics/README.md"
			}
		   ],
		   "mimetype": "text/x-octave",
		   "name": "scilab",
		   "version": "0.7.1"
		  }
		 },
		 "nbformat": 4,
		 "nbformat_minor": 0
}
