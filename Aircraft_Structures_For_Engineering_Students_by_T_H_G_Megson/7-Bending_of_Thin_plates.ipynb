{
"cells": [
 {
		   "cell_type": "markdown",
	   "metadata": {},
	   "source": [
       "# Chapter 7: Bending of Thin plates"
	   ]
	},
{
		   "cell_type": "markdown",
		   "metadata": {},
		   "source": [
			"## Example 7.1: Example_1.sce"
		   ]
		  },
  {
"cell_type": "code",
	   "execution_count": null,
	   "metadata": {
	    "collapsed": true
	   },
	   "outputs": [],
"source": [
"pathname=get_absolute_file_path('7_1.sce')\n",
"filename=pathname+filesep()+'7_1data.sci'\n",
"exec(filename)\n",
"D=(E*t^3)/(12*(1-v^2));\n",
"X=(16*q0/(D*%pi^6))/(((1/a^2)+(1/b^2))^2);\n",
"X1=(16*q0/%pi^4)*((1/a^2)+(v/b^2))/(((1/a^2)+(1/b^2))^2);\n",
"X2=(16*q0/%pi^4)*((v/a^2)+(1/b^2))/(((1/a^2)+(1/b^2))^2);\n",
"function[w]=f(x,y),//taking first term only\n",
"    w=X*(sin(%pi*x/a))*sin(%pi*y/b);\n",
"endfunction\n",
"x=linspace(0,a,10*a);\n",
"y=linspace(0,b,10*b);\n",
"w=feval(x,y,f);\n",
"plot3d1(x,y,w);\n",
"Wmax=(0.0443*q0*a^4)/(E*t^3);//from summation of first 4 terms\n",
"printf('\nWmax: %f mm',Wmax);\n",
"function[Mx,My]=f1(x,y)//taking first term only\n",
"    Mx=X1*(sin(%pi*x/a))*sin(%pi*y/b);\n",
"    My=X2*(sin(%pi*x/a))*sin(%pi*y/b);\n",
"endfunction\n",
"function[Sx,Sy]=f2(x,y,z)//taking first term only\n",
"    Sx=12*X1*(sin(%pi*x/a))*sin(%pi*y/b)*z/t^3;\n",
"    Sy=12*X2*(sin(%pi*x/a))*sin(%pi*y/b)*z/t^3;\n",
"endfunction\n",
"Mxmax=0.0479*q0*a^2;//from summation of first 5 terms\n",
"printf('\nMx,max= My,max= %f N.mm',Mxmzx);\n",
"Sxmax=(0.287*q0*a^2)/t^2;\n",
"printf('\nσx,max= σy,max= %f N.mm',Sxmax);"
   ]
   }
,
{
		   "cell_type": "markdown",
		   "metadata": {},
		   "source": [
			"## Example 7.3: Example_3.sce"
		   ]
		  },
  {
"cell_type": "code",
	   "execution_count": null,
	   "metadata": {
	    "collapsed": true
	   },
	   "outputs": [],
"source": [
"pathname=get_absolute_file_path('7_3.sce')\n",
"filename=pathname+filesep()+'7_3data.sci'\n",
"exec(filename)\n",
"D=(E*t^3)/(12*(1-v^2));\n",
"X=(16*q0/(D*%pi^6))/((((1/a^2)+(1/b^2))^2)+(Nx/(D*a*a*%pi^2)));\n",
"function[w]=f(x,y),//taking first term only\n",
"    w=X*(sin(%pi*x/a))*sin(%pi*y/b);\n",
"endfunction\n",
"x=linspace(0,a,10*a);\n",
"y=linspace(0,b,10*b);\n",
"w=feval(x,y,f);\n",
"plot3d1(x,y,w);\n",
"datatipToggle();\n",
"printf('\nclick on the point to view its coordinate on the plot')"
   ]
   }
,
{
		   "cell_type": "markdown",
		   "metadata": {},
		   "source": [
			"## Example 7.4: Example_4.sce"
		   ]
		  },
  {
"cell_type": "code",
	   "execution_count": null,
	   "metadata": {
	    "collapsed": true
	   },
	   "outputs": [],
"source": [
"pathname=get_absolute_file_path('7_4.sce')\n",
"filename=pathname+filesep()+'7_4data.sci'\n",
"exec(filename)\n",
"clear\n",
"D=(E*t^3)/(12*(1-v^3));\n",
"A11= (16*q0*(a^4)*(b^4))/((%pi^6)*D*((a*a +b*b)^2));\n",
"function[w]=f(x,y)\n",
"    w=A11*(sin(%pi*x/a))*(sin(%pi*y/b));\n",
"endfunction\n",
"funcprot()\n",
"x=linspace(0,a,10*a);\n",
"y=linspace(0,b,10*b);\n",
"clf();\n",
"w=feval(x,y,f);\n",
"plot3d1(x,y,w);\n",
"datatipToggle()\n",
"printf('\nA11= Wmax: %f mm',f(a/2,b/2));"
   ]
   }
],
"metadata": {
		  "kernelspec": {
		   "display_name": "Scilab",
		   "language": "scilab",
		   "name": "scilab"
		  },
		  "language_info": {
		   "file_extension": ".sce",
		   "help_links": [
			{
			 "text": "MetaKernel Magics",
			 "url": "https://github.com/calysto/metakernel/blob/master/metakernel/magics/README.md"
			}
		   ],
		   "mimetype": "text/x-octave",
		   "name": "scilab",
		   "version": "0.7.1"
		  }
		 },
		 "nbformat": 4,
		 "nbformat_minor": 0
}
