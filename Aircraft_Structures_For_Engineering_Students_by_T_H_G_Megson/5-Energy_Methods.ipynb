{
"cells": [
 {
		   "cell_type": "markdown",
	   "metadata": {},
	   "source": [
       "# Chapter 5: Energy Methods"
	   ]
	},
{
		   "cell_type": "markdown",
		   "metadata": {},
		   "source": [
			"## Example 5.10: Example_10.sce"
		   ]
		  },
  {
"cell_type": "code",
	   "execution_count": null,
	   "metadata": {
	    "collapsed": true
	   },
	   "outputs": [],
"source": [
"pathname=get_absolute_file_path('5_10.sce')\n",
"filename=pathname+filesep()+'5_10data.sci'\n",
"exec(filename)\n",
"c=((a*a +b*b)^0.5);\n",
"L=[a;b;a;b;(a*a +b*b)^0.5;(a*a +b*b)^0.5];\n",
"F1=[a/b;1;a/b;1;-c/b;-c/b]\n",
"for i=1:6\n",
"    X(i)=F1(i)*F1(i)*L(i);\n",
"end\n",
"a11=sum(X)/(A*E);\n",
"X1=-alpha*b*T/a11;\n",
"Fa=[X1*a/b;X1;X1*a/b;X1;-X1*c/b;-X1*c/b]\n",
"printf('\nX1: %f N',X1);\n",
"disp('Forces in the Mambrane are (AB,BC,CD,DA,AC,DB):');\n",
"printf('\n %f KN',Fa);"
   ]
   }
,
{
		   "cell_type": "markdown",
		   "metadata": {},
		   "source": [
			"## Example 5.11: Example_11.sce"
		   ]
		  },
  {
"cell_type": "code",
	   "execution_count": null,
	   "metadata": {
	    "collapsed": true
	   },
	   "outputs": [],
"source": [
"pathname=get_absolute_file_path('5_11.sce')\n",
"filename=pathname+filesep()+'5_11data.sci'\n",
"exec(filename)\n",
"VB=(W*L^3)/(48*EI);\n",
"printf('\nVB: %f m',VB);"
   ]
   }
,
{
		   "cell_type": "markdown",
		   "metadata": {},
		   "source": [
			"## Example 5.12: Example_12.sce"
		   ]
		  },
  {
"cell_type": "code",
	   "execution_count": null,
	   "metadata": {
	    "collapsed": true
	   },
	   "outputs": [],
"source": [
"pathname=get_absolute_file_path('5_12.sce')\n",
"filename=pathname+filesep()+'5_12data.sci'\n",
"exec(filename)\n",
"v1= (L1/L0)*V(3);\n",
"v2= (L2/L0)*V(4);\n",
"v3= v1+v2;\n",
"theta=atan(v3/(D(9)-D(6)));\n",
"printf('\nθB: %f rad',theta);"
   ]
   }
,
{
		   "cell_type": "markdown",
		   "metadata": {},
		   "source": [
			"## Example 5.1: Example_1.sce"
		   ]
		  },
  {
"cell_type": "code",
	   "execution_count": null,
	   "metadata": {
	    "collapsed": true
	   },
	   "outputs": [],
"source": [
"pathname=get_absolute_file_path('5_1.sce')\n",
"filename=pathname+filesep()+'5_1data.sci'\n",
"exec(filename)\n",
"L=[(h^2 +AB^2)^0.5;BC;(h^2 +CD^2)^0.5;CD;BC;AB;h;(h^2 +BC^2)^0.5;h];\n",
"A=atan(h/AB),B=atan(h/BC),D=atan(h/CD);\n",
"lFC=Load2;\n",
"P=[\n",
"   0 0 sin(D) 0 0 0 0 sin(B);\n",
"   cos(A) 0 0 0 0 1 0 0;\n",
"   cos(A) -1 0 0 0 0 0 0;\n",
"   sin(A) 0 0 0 0 0 1 0;\n",
"   0 0 0 -1 1 0 0 0;\n",
"   0 0 0 0 1 -1 0 cos(B);\n",
"   0 0 0 0 0 0 1 -sin(B);\n",
"   0 1 -cos(D) 0 0 0 0 cos(B);];\n",
"X=[-Load2;0;0;-Load1;0;0;Load1;0];\n",
"D1=[0;0;0;1;1;1;0;0;0];\n",
"FC=0;\n",
"P1=[cos(A) 0 0 0 0 1 0 0;\n",
"    0 0 cos(D) 1 0 0 0 0;\n",
"    cos(A) -1 0 0 0 0 0 0;\n",
"    sin(A) 0 0 0 0 0 1 0;\n",
"    0 0 0 -1 1 0 0 0;\n",
"    0 0 0 0 1 -1 0 cos(B);\n",
"    0 0 0 0 0 0 1 sin(B);\n",
"    0 0 1 0 0 0 0 1]\n",
"X1=[0;0;0;0;0;0;1;0]\n",
"FA=[inv(P)*X;lFC];\n",
"B1=[inv(P1)*X1;FC];\n",
"for i=1:9\n",
"    K1(i)=FA(i)*B1(i)*L(i);\n",
"    K2(i)=FA(i)*D1(i)*L(i);\n",
"end\n",
"delB=(sum(K1)*10^3)/(E*CS);\n",
"delD=(sum(K2)*10^3)/(E*CS);\n",
"printf('\nδB,v: %f mm',delB);\n",
"printf('\nδD,h: %f mm',delD);"
   ]
   }
,
{
		   "cell_type": "markdown",
		   "metadata": {},
		   "source": [
			"## Example 5.2: Example_2.sce"
		   ]
		  },
  {
"cell_type": "code",
	   "execution_count": null,
	   "metadata": {
	    "collapsed": true
	   },
	   "outputs": [],
"source": [
"pathname=get_absolute_file_path('5_2.sce')\n",
"filename=pathname+filesep()+'5_2data.sci'\n",
"exec(filename)\n",
"delB=(119*w*L^4)/(24576*EI);\n",
"delC=(5*w*L^4)/(384*EI);\n",
"printf('\ndelB: %f m',delB);\n",
"printf('\ndelC: %f m',delC);"
   ]
   }
,
{
		   "cell_type": "markdown",
		   "metadata": {},
		   "source": [
			"## Example 5.3: Example_3.sce"
		   ]
		  },
  {
"cell_type": "code",
	   "execution_count": null,
	   "metadata": {
	    "collapsed": true
	   },
	   "outputs": [],
"source": [
"pathname=get_absolute_file_path('5_3.sce')\n",
"filename=pathname+filesep()+'5_3data.sci'\n",
"exec(filename)\n",
"clear\n",
"L1=[L*tan(theta);L;L*tan(theta);L;L];\n",
"A=[AC;A;AC;A;A];\n",
"F1=[Load*cos(theta);Load*sin(theta);0;0;0];\n",
"F2=[-sin(theta);cos(theta);-sin(theta);1;cos(theta)];\n",
"for i=1:5\n",
"    X(i)=L1(i)/A(i);\n",
"    X1(i)=F1(i)*F2(i)*X(i);\n",
"    X2(i)=F2(i)*F2(i)*X(i);\n",
"end\n",
"R=-sum(X1)/sum(X2);\n",
"F=F1+ R*F2;\n",
"disp('Force (AC,CB,BD,CD,AD):');\n",
"printf('\n %f N',F);"
   ]
   }
,
{
		   "cell_type": "markdown",
		   "metadata": {},
		   "source": [
			"## Example 5.4: Example_4.sce"
		   ]
		  },
  {
"cell_type": "code",
	   "execution_count": null,
	   "metadata": {
	    "collapsed": true
	   },
	   "outputs": [],
"source": [
"pathname=get_absolute_file_path('5_4.sce')\n",
"filename=pathname+filesep()+'5_4data.sci'\n",
"exec(filename)\n",
"clear\n",
"AC=(AB^2 +BC^2)^0.5;\n",
"delBC=BC*delT*alpha;\n",
"F1=[AB/BC;1;AB/BC;1;-AC/BC;-AC/BC];\n",
"L=[AB;BC;AB;BC;AC;AC];\n",
"for i=1:6\n",
"    X(i)=L(i)*F1(i)*F1(i);\n",
"end\n",
"R=(-delBC*A*E)/sum(X);\n",
"F=R*F1;\n",
"disp('Force (AB,BC,CD,DA,AC,DB):');\n",
"printf('\n %f N',F);"
   ]
   }
,
{
		   "cell_type": "markdown",
		   "metadata": {},
		   "source": [
			"## Example 5.5: Example_5.sce"
		   ]
		  },
  {
"cell_type": "code",
	   "execution_count": null,
	   "metadata": {
	    "collapsed": true
	   },
	   "outputs": [],
"source": [
"pathname=get_absolute_file_path('5_5.sce')\n",
"filename=pathname+filesep()+'5_5data.sci'\n",
"exec(filename)\n",
"clear\n",
"L1=0.5*L*ones(7,1);\n",
"A1=[Ab;Ab;A;A;A;A;A];\n",
"R=(11*3^0.5 *P*A*Ab*L^2)/(48*(L*L*A*Ab + 4*I*(A+ 10*Ab)));\n",
"delF=[-cos(theta);-cos(theta);1;1;-1;-1;1];\n",
"F=R*delF;\n",
"disp(R,'R:');\n",
"disp('Force (AB,BC,CD,DE,BD,EB,AE):');\n",
"printf('\n %f N',F)"
   ]
   }
,
{
		   "cell_type": "markdown",
		   "metadata": {},
		   "source": [
			"## Example 5.6: Example_6.sce"
		   ]
		  },
  {
"cell_type": "code",
	   "execution_count": null,
	   "metadata": {
	    "collapsed": true
	   },
	   "outputs": [],
"source": [
"pathname=get_absolute_file_path('5_6.sce')\n",
"filename=pathname+filesep()+'5_6data.sci'\n",
"exec(filename)\n",
"SA=0.187*M0/r;\n",
"SB=0.44*M0/r;\n",
"SC=0.373*M0/r;\n",
"printf('\nSA: %f N ',SA)\n",
"printf('\nSB: %f N',SB)\n",
"printf('\nSC:%f  N',SC)\n",
"printf('\nM1: %f N.mm',SA*r)\n",
"printf('\nM2: %f N.mm',SB*r)\n",
"printf('\nM3: %f N.mm',SC*r)"
   ]
   }
,
{
		   "cell_type": "markdown",
		   "metadata": {},
		   "source": [
			"## Example 5.7: Example_7.sce"
		   ]
		  },
  {
"cell_type": "code",
	   "execution_count": null,
	   "metadata": {
	    "collapsed": true
	   },
	   "outputs": [],
"source": [
"pathname=get_absolute_file_path('5_7.sce')\n",
"filename=pathname+filesep()+'5_7data.sci'\n",
"exec(filename)\n",
"clear\n",
"delY=(W*L^4)*((11/(24*EI))+ 1/(2*GJ));\n",
"delZ=(W*L^4)*((1/(6*EI))+ 1/(2*GJ));\n",
"printf('\ndel Y %f mm',delY);\n",
"printf('\ndel Z %f mm',delZ);"
   ]
   }
,
{
		   "cell_type": "markdown",
		   "metadata": {},
		   "source": [
			"## Example 5.8: Example_8.sce"
		   ]
		  },
  {
"cell_type": "code",
	   "execution_count": null,
	   "metadata": {
	    "collapsed": true
	   },
	   "outputs": [],
"source": [
"pathname=get_absolute_file_path('5_8.sce')\n",
"filename=pathname+filesep()+'5_8data.sci'\n",
"exec(filename)\n",
"L1=[L;L;L;1.41*L;1.41*L;L];\n",
"F0=[0 0 -P 0 1.41*P 0];\n",
"F1=[-0.71;-0.71;-0.71;1;1;-0.71];\n",
"for i=1:6\n",
"    X(i)=F0(i)*F1(i)*L1(i);\n",
"    X1(i)=F1(i)*F1(i)*L1(i);\n",
"end\n",
"XBD= -sum(X)/sum(X1);\n",
"Fa=[-XBD/1.41;-XBD/1.41;((XBD/1.41)+1);XBD;-(((XBD/1.41)+1))*1.41;-XBD/1.41];\n",
"disp('Forces in the Mambrane are:');\n",
"printf('\n %f N',Fa)"
   ]
   }
,
{
		   "cell_type": "markdown",
		   "metadata": {},
		   "source": [
			"## Example 5.9: Example_9.sce"
		   ]
		  },
  {
"cell_type": "code",
	   "execution_count": null,
	   "metadata": {
	    "collapsed": true
	   },
	   "outputs": [],
"source": [
"pathname=get_absolute_file_path('5_9.sce')\n",
"filename=pathname+filesep()+'5_9data.sci'\n",
"exec(filename)\n",
"M=2^0.5;\n",
"L1=[L;M*L;L;L;M*L;M*L;L];\n",
"F0=[P;0;0;0;0;-M*P;0];\n",
"F1=[-0.71;0;0;-0.71;1;1;-0.71];\n",
"F1R2=[-2;-M;1;1;0;M;0];\n",
"for i=1:7\n",
"    X(i)=F0(i)*F1(i)*L1(i);\n",
"    X1(i)=F0(i)*F1R2(i)*L1(i);\n",
"    X2(i)=F1(i)*F1(i)*L1(i);\n",
"    X3(i)=F1R2(i)*F1R2(i)*L1(i);\n",
"    X4(i)=F1(i)*F1R2(i)*L1(i);\n",
"end\n",
"X5=[sum(X2) sum(X4);\n",
"    sum(X4) sum(X3)];\n",
"X6=-[sum(X);sum(X1)]\n",
"X7=inv(X5)*X6;\n",
"printf('\nX1: %f KN',X7(1,:));\n",
"printf('\nR2: %f KN',X7(2,:))\n",
"Fa=[X7(1,:)*M-X7(2,:)*(1+(1/M));-X7(2,:)*M;X7(2,:);X7(2,:)-X7(1,:)/M;X7(1,:);-X7(2,:)*(1+(1/M));-X7(1,:)/M]\n",
"disp('Forces in the Mambrane are:');\n",
"printf('\n %f KN',Fa);"
   ]
   }
],
"metadata": {
		  "kernelspec": {
		   "display_name": "Scilab",
		   "language": "scilab",
		   "name": "scilab"
		  },
		  "language_info": {
		   "file_extension": ".sce",
		   "help_links": [
			{
			 "text": "MetaKernel Magics",
			 "url": "https://github.com/calysto/metakernel/blob/master/metakernel/magics/README.md"
			}
		   ],
		   "mimetype": "text/x-octave",
		   "name": "scilab",
		   "version": "0.7.1"
		  }
		 },
		 "nbformat": 4,
		 "nbformat_minor": 0
}
