{
"cells": [
 {
		   "cell_type": "markdown",
	   "metadata": {},
	   "source": [
       "# Chapter 24: Fuselage frames and wing ribs"
	   ]
	},
{
		   "cell_type": "markdown",
		   "metadata": {},
		   "source": [
			"## Example 24.1: Example_1.sce"
		   ]
		  },
  {
"cell_type": "code",
	   "execution_count": null,
	   "metadata": {
	    "collapsed": true
	   },
	   "outputs": [],
"source": [
"pathname=get_absolute_file_path('24_1.sce')\n",
"filename=pathname+filesep()+'24_1data.sci'\n",
"exec(filename)\n",
"clear\n",
"P=[GH -GH;DK KH],X=[L1*sin(theta);L1*cos(theta)];\n",
"q=inv(P)*X;\n",
"q(3)=L1*cos(theta)/(DK+KH);\n",
"q(4)=(L1*cos(theta)+L2)/(DK+KH);\n",
"PA=GH*q(1) +FG*q(3) +EF*q(4);\n",
"PE=-GH*q(2) -FG*q(3) -EF*q(4);\n",
"X1=[GH*q(1)+FG*q(3)+EF*q(4);GH*q(1)+FG*q(3);GH*q(1);0];\n",
"X2=[-GH*q(2)-FG*q(3)-EF*q(4);-GH*q(2)-FG*q(3);-GH*q(2);0];\n",
"Y=[0;EF;EF+FG;EF+FG+GH];\n",
"subplot(2,1,1)\n",
"plot2d(Y,X1)\n",
"xgrid(3)\n",
"xtitle('Load distribution in ABCD','y','Load')\n",
"subplot(2,1,2)\n",
"plot2d(Y,X2)\n",
"xgrid(3)\n",
"xtitle('Load distribution in EFGH','y','Load')\n",
"datatipToggle();\n",
"printf('\nq1: %f N/mm',q(1));\n",
"printf('\nq2: %f N/mm',q(2));\n",
"printf('\nq3: %f N/mm',q(3));\n",
"printf('\nq4: %f N/mm',q(4));\n",
"printf('\nPA: %f N',PA);\n",
"printf('\nPE: %f N',PE);\n",
"printf('\nclick on the point to view its coordinate on the plot');"
   ]
   }
,
{
		   "cell_type": "markdown",
		   "metadata": {},
		   "source": [
			"## Example 24.2: Example_2.sce"
		   ]
		  },
  {
"cell_type": "code",
	   "execution_count": null,
	   "metadata": {
	    "collapsed": true
	   },
	   "outputs": [],
"source": [
"pathname=get_absolute_file_path('24_2.sce')\n",
"filename=pathname+filesep()+'24_2data.sci'\n",
"exec(filename)\n",
"clear\n",
"P=[2*L11 -2*L11 0;0 -L11 L11;2*A2 2*(A1+A2) 0],X=[L1;L2;440000];\n",
"q=inv(P)*X;\n",
"//actual X is X=[L1;L2;-L2*L11],it leads to wrong answers than book;\n",
"Sy1=-(q(2))*L11;\n",
"Px4= 2*A1*-(q(2))/L11;\n",
"Py2= Px4*tan(theta);\n",
"q1= (Sy1- 2*Py2)/L11;\n",
"P2= (Px4*Px4 +Py2*Py2)^0.5;\n",
"P5= 2*((A1+A22)*(-q(2)) - A21*q(1))/L12;\n",
"q2= ((-q(2))*L11 +(-q(2))*0.5*(L12-L11) -q(1)*0.5*(L12-L11))/L12;\n",
"q31= (q2*L12 +L2)/L12;\n",
"M3= 2*((A1+A2)*(-q(2)) -A2*q(1))+ L2*L11;\n",
"Px1=M3/L11;\n",
"Py1=Px1*tan(theta);\n",
"P1=(Px1*Px1+ Py1*Py1)^0.5;\n",
"q32=((L2+ L11*(-q(2))) -(2*Py1))/L11;\n",
"printf('\nq12: %f N/mm',q(1));\n",
"printf('\nq23: %f N/mm',q(2));\n",
"printf('\nq31: %f N/mm',q(3));\n",
"printf('\nP2= P4= %f N',P2);\n",
"printf('\nP5= P6= %f N',P5);\n",
"printf('\nP1= P3= %f N',P1);\n",
"printf('\nq1: %f N/mm',q1);\n",
"printf('\nq2: %f N/mm',q2);\n",
"printf('\nq3: %f N/mm',q31);\n",
"printf('\nshear flow q3 in the web: %f N/mm',q32)"
   ]
   }
],
"metadata": {
		  "kernelspec": {
		   "display_name": "Scilab",
		   "language": "scilab",
		   "name": "scilab"
		  },
		  "language_info": {
		   "file_extension": ".sce",
		   "help_links": [
			{
			 "text": "MetaKernel Magics",
			 "url": "https://github.com/calysto/metakernel/blob/master/metakernel/magics/README.md"
			}
		   ],
		   "mimetype": "text/x-octave",
		   "name": "scilab",
		   "version": "0.7.1"
		  }
		 },
		 "nbformat": 4,
		 "nbformat_minor": 0
}
