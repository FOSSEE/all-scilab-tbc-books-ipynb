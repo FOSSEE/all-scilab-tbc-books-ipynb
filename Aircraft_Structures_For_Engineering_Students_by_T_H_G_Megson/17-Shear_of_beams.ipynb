{
"cells": [
 {
		   "cell_type": "markdown",
	   "metadata": {},
	   "source": [
       "# Chapter 17: Shear of beams"
	   ]
	},
{
		   "cell_type": "markdown",
		   "metadata": {},
		   "source": [
			"## Example 17.1: Example_1.sce"
		   ]
		  },
  {
"cell_type": "code",
	   "execution_count": null,
	   "metadata": {
	    "collapsed": true
	   },
	   "outputs": [],
"source": [
"pathname=get_absolute_file_path('17_1.sce')\n",
"filename=pathname+filesep()+'17_1data.sci'\n",
"exec(filename)\n",
"Ixx=(t*h^3)/3,Iyy=(t*h^3)/12,Ixy=(t*h^3)/8;\n",
"A=0.5*(Sy/(Ixx*Iyy -Ixy^2));\n",
"function[q1]=q12(s1),\n",
"    q1=A*(((h*t*(Iyy-Ixy))*s1)+(Ixy*t*s1^2));\n",
"endfunction\n",
"s1=linspace(0,h/2,5*h);\n",
"q1=feval(s1,q12);\n",
"subplot(3,1,1)\n",
"plot2d(s1,q1);\n",
"xgrid(3);\n",
"xtitle( 'Direct stress in lower flange', ' -s1- ', '-σz-');\n",
"function[q2]=q23(s2),\n",
"    q2=(A*((Iyy*t*h*s2)-(Iyy*t*s2^2)))+q12(h/2);\n",
"endfunction\n",
"s2=linspace(0,h,10*h);\n",
"q2=feval(s2,q23);\n",
"subplot(3,1,2)\n",
"plot2d(s2,q2);\n",
"xgrid(3);\n",
"xtitle( 'Direct stress in the web', ' -s2- ', '-σz-');\n",
"function[q3]=q34(s3),\n",
"    q3=(A*((Ixy*t*s3*s3)-(Iyy*t*h*s3)))+q23(h);\n",
"endfunction\n",
"s3=linspace(0,h/2,5*h);\n",
"q3=feval(s3,q34);\n",
"subplot(3,1,3)\n",
"plot2d(s3,q3);\n",
"xgrid(3);\n",
"xtitle( 'Direct stress in upper flange', ' -s3- ', '-σz-');\n",
"datatipToggle();\n",
"printf('\nclick on the point to view its coordinate on the plot')"
   ]
   }
,
{
		   "cell_type": "markdown",
		   "metadata": {},
		   "source": [
			"## Example 17.2: Example_2.sce"
		   ]
		  },
  {
"cell_type": "code",
	   "execution_count": null,
	   "metadata": {
	    "collapsed": true
	   },
	   "outputs": [],
"source": [
"pathname=get_absolute_file_path('17_2.sce')\n",
"filename=pathname+filesep()+'17_2data.sci'\n",
"exec(filename)\n",
"Es=(3*b*b)/(h*(1+ 6*b/h));\n",
"printf('\nξs: %f mm',Es);"
   ]
   }
,
{
		   "cell_type": "markdown",
		   "metadata": {},
		   "source": [
			"## Example 17.3: Example_3.sce"
		   ]
		  },
  {
"cell_type": "code",
	   "execution_count": null,
	   "metadata": {
	    "collapsed": true
	   },
	   "outputs": [],
"source": [
"pathname=get_absolute_file_path('17_3.sce')\n",
"filename=pathname+filesep()+'17_3data.sci'\n",
"exec(filename)\n",
"Es=-3.35*a;\n",
"printf('\nξs: %f mm',Es);"
   ]
   }
],
"metadata": {
		  "kernelspec": {
		   "display_name": "Scilab",
		   "language": "scilab",
		   "name": "scilab"
		  },
		  "language_info": {
		   "file_extension": ".sce",
		   "help_links": [
			{
			 "text": "MetaKernel Magics",
			 "url": "https://github.com/calysto/metakernel/blob/master/metakernel/magics/README.md"
			}
		   ],
		   "mimetype": "text/x-octave",
		   "name": "scilab",
		   "version": "0.7.1"
		  }
		 },
		 "nbformat": 4,
		 "nbformat_minor": 0
}
