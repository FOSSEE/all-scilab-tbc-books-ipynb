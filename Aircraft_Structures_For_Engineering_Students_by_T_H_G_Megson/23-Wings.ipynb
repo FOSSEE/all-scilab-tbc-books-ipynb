{
"cells": [
 {
		   "cell_type": "markdown",
	   "metadata": {},
	   "source": [
       "# Chapter 23: Wings"
	   ]
	},
{
		   "cell_type": "markdown",
		   "metadata": {},
		   "source": [
			"## Example 23.1: Example_1.sce"
		   ]
		  },
  {
"cell_type": "code",
	   "execution_count": null,
	   "metadata": {
	    "collapsed": true
	   },
	   "outputs": [],
"source": [
"pathname=get_absolute_file_path('23_1.sce')\n",
"filename=pathname+filesep()+'23_1data.sci'\n",
"exec(filename)\n",
"clear\n",
"for i=1:6\n",
"    I(i)=B(i)*y(i)*y(i);\n",
"end\n",
"Ixx=sum(I);\n",
"for i=1:6\n",
"    S(i)=(Mx/Ixx)*y(i);\n",
"end\n",
"printf('\nσz: %f N/mm^2',S);"
   ]
   }
,
{
		   "cell_type": "markdown",
		   "metadata": {},
		   "source": [
			"## Example 23.2: Example_2.sce"
		   ]
		  },
  {
"cell_type": "code",
	   "execution_count": null,
	   "metadata": {
	    "collapsed": true
	   },
	   "outputs": [],
"source": [
"pathname=get_absolute_file_path('23_2.sce')\n",
"filename=pathname+filesep()+'23_2data.sci'\n",
"exec(filename)\n",
"clear\n",
"for i=1:8\n",
"    ts(i)=(G(i)*t(i))/Gref;\n",
"    del(i)=L(i)/ts(i);\n",
"end\n",
"P=[(((del(1)+del(2))/A(1))+(del(2)/A(2))) -((del(2)/A(1))+((del(2)+del(3)+del(4)+del(5))/A(2))) (del(5)/A(2));\n",
"   ((del(1)+del(2))/A(1))  ((del(5)/A(3))-(del(2)/A(1)))  (-(del(5)+del(6)+del(7)+del(8))/A(3));\n",
"   2*A(1)  2*A(2)  2*A(3)];\n",
"X=[0;0;T]\n",
"q=inv(P)*X;\n",
"disp('shear flows are');\n",
"printf('\nqI: %f N/mm',q(1,:));\n",
"printf('\nqII: %f N/mm',q(2,:));\n",
"printf('\nqIII: %f N/mm\n',q(3,:));\n",
"disp('shear stress distribution is(in order 12o,12i,13,24,34,35,46,56)');\n",
"X1=[q(1,:)/t(1);(q(1,:)-q(2,:))/t(2);q(2,:)/t(3);q(2,:)/t(4);(q(2,:)-q(3,:))/t(5);\n",
"    q(3,:)/t(6);q(3,:)/t(7);q(3,:)/t(8)]\n",
"printf('\n %f N/mm^2',X1)"
   ]
   }
,
{
		   "cell_type": "markdown",
		   "metadata": {},
		   "source": [
			"## Example 23.3: Example_3.sce"
		   ]
		  },
  {
"cell_type": "code",
	   "execution_count": null,
	   "metadata": {
	    "collapsed": true
	   },
	   "outputs": [],
"source": [
"pathname=get_absolute_file_path('23_3.sce')\n",
"filename=pathname+filesep()+'23_3data.sci'\n",
"exec(filename)\n",
"clear\n",
"for i=1:10\n",
"    ts(i)=t(i)*G(i)/Gref;\n",
"    del(i)=L(i)/ts(i);\n",
"end\n",
"for i=1:6\n",
"    I(i)=B(i)*y(i)*y(i);\n",
"end\n",
"Ixx=sum(I);\n",
"for i=1:6\n",
"    q1(i)=(-Sy/Ixx)*B(i)*y(i);\n",
"end\n",
"q=[q1(2);q1(1);0;q1(5);q1(3);q1(4)]\n",
"P=[(((del(4)+del(5)+del(6))/A(1))+(del(6)/A(2))) -(((del(3)+del(6)+del(10)+del(8))/A(2))+(del(6)/A(1))) del(8)/A(2);\n",
"   ((del(4)+del(5)+del(6))/A(1)) -(((-del(8))/A(3))+(del(6)/A(1))) (-((del(2)+del(8)+del(7)+del(1)+del(9))/A(3)));\n",
"   2*A(1) 2*A(2) 2*A(3)]\n",
"X=[-((q(6)*del(5) +q(6)*del(6))/A(1))+((q(4)*del(8) +q(5)*del(6))/A(2));\n",
"   -((q(6)*del(5) +q(6)*del(6))/A(1))+((-q(2)*del(9) +q(1)*del(8)+q(1)*del(7))/A(3));\n",
"   -q(5)*L(10)*L(5)-q(5)*L(10)*L(6)+q(2)*L(1)*L(9)];\n",
"X1=inv(P)*X;\n",
"X2=[X1(1,:);X1(2,:);X1(2,:);X1(3,:);X1(3,:);-q(2)+X1(3,:);q(4)-X1(3,:);q(4)-X1(1,:);q(6)+X1(1,:);-q(5)-X1(1,:)];\n",
"dth=(1/(2*Gref))*((((del(4)+del(5)+del(6))/A(1))*X1(1,:))-(del(6)/A(1))*X1(2,:)+((q(6)*del(5) +q(6)*del(6))/A(1)));\n",
"printf('\ndθ/dz: %f rad/mm\n',dth);\n",
"disp('shear flow distribution is(in order q34,q23,q87,q12,q56,q61,q57,q72,q48,q83)');\n",
"printf('\n %f N/mm',X2)\n",
""
   ]
   }
,
{
		   "cell_type": "markdown",
		   "metadata": {},
		   "source": [
			"## Example 23.4: Example_4.sce"
		   ]
		  },
  {
"cell_type": "code",
	   "execution_count": null,
	   "metadata": {
	    "collapsed": true
	   },
	   "outputs": [],
"source": [
"pathname=get_absolute_file_path('23_4.sce')\n",
"filename=pathname+filesep()+'23_4data.sci'\n",
"exec(filename)\n",
"clear\n",
"y1=0.5*[W1;W1;W1;-W1;-W1;-W1];\n",
"y2=0.5*[W2;W2;W2;-W2;-W2;-W2];\n",
"x1=[0;L12;L12+L11;L12+L11;L12;0];\n",
"x2=[0;L22;L22+L21;L22+L21;L22;0];\n",
"Li=[L12;L11;W1;L11;L12;W1;W1];\n",
"for i=1:6;\n",
"    I1(i)=B(i)*y1(i)*y1(i);\n",
"    del(i)=Li(i)/t(3);\n",
"end\n",
"del(7)=Li(7)/t(3);\n",
"Ixx=sum(I1);\n",
"dely=(y1-y2);\n",
"delx=(x1-x2);\n",
"epr=[L12;0;L11;L11;0;L12];\n",
"nr=abs(y1);\n",
"for i=1:6\n",
"    Pz(i)=(Mx/Ixx)*B(i)*y1(i);\n",
"    Py(i)=Pz(i)*dely(i)/L;\n",
"    Px(i)=Pz(i)*delx(i)/L;\n",
"    Pr(i)=((Px(i)^2 +Py(i)^2 +Pz(i)^2)^0.5)*(y1(i)/abs(y1(i)));\n",
"    Pxn(i)=-abs(Px(i)*nr(i));\n",
"    Pyep(i)=Py(i)*epr(i); \n",
"end\n",
"Pyep(6)=-Pyep(i);\n",
"Sxw=-sum(Px);\n",
"Syw=Sy-sum(Py);\n",
"qb=[0;0;(-Syw/Ixx)*(B(3)*y1(3));0;0;(-Syw/Ixx)*(B(6)*y1(6));(-Syw/Ixx)*B(5)*y1(5)];\n",
"qb1=0;\n",
"for i=1:7\n",
"    qb1=qb(i)*del(i) +qb1;\n",
"end\n",
"A1=L11*W1;\n",
"A2=L12*W1;\n",
"P=[((del(2)+del(3)+del(4)+del(7))/A1)+(del(7))/A2   -((del(7)/A1)+((del(1)+del(5)+del(6)+del(7))/A2));\n",
"   2*A1  2*A2];\n",
"X=[(qb1/(3*A1))+(qb1/(3*A2));-(qb(3)*W1*L12 +qb(6)*W1*L11)-sum(Pxn)+sum(Pyep)];\n",
"qs=inv(P)*X;\n",
"M1=-[qs(2);qs(1);qs(1);qs(1);qs(2);qs(2);qs(1)-qs(2)];\n",
"q=qb+M1;\n",
"disp('shear flow(q12;q23;q34;q45;q56;q61;q52):');\n",
"printf('\n %f N/mm',q)"
   ]
   }
,
{
		   "cell_type": "markdown",
		   "metadata": {},
		   "source": [
			"## Example 23.6: Example_6.sce"
		   ]
		  },
  {
"cell_type": "code",
	   "execution_count": null,
	   "metadata": {
	    "collapsed": true
	   },
	   "outputs": [],
"source": [
"pathname=get_absolute_file_path('23_6.sce')\n",
"filename=pathname+filesep()+'23_6data.sci'\n",
"exec(filename)\n",
"clear\n",
"A=L1*B1;\n",
"q1=T/(2*A);\n",
"S=T/B1;\n",
"q1=S/L1;\n",
"P=S*(L/2)/L1;\n",
"X=[L -L;A A];\n",
"X1=[P;T];\n",
"q=[q1;inv(X)*X1];\n",
"X2=[0;L*q(2)-L*q(3);-L*q(2)+L*q(3);0];\n",
"Y=[0;1500;3000;4500];\n",
"plot(Y,X2);\n",
"xgrid(3);\n",
"xtitle('Distribution of load in the top flange of the front spar',' ','Load')\n",
"datatipToggle();\n",
"printf('\nq1: %f N/mm',q(1))\n",
"printf('\nq2: %f N/mm',q(2))\n",
"printf('\nq3: %f N/mm',q(3))"
   ]
   }
],
"metadata": {
		  "kernelspec": {
		   "display_name": "Scilab",
		   "language": "scilab",
		   "name": "scilab"
		  },
		  "language_info": {
		   "file_extension": ".sce",
		   "help_links": [
			{
			 "text": "MetaKernel Magics",
			 "url": "https://github.com/calysto/metakernel/blob/master/metakernel/magics/README.md"
			}
		   ],
		   "mimetype": "text/x-octave",
		   "name": "scilab",
		   "version": "0.7.1"
		  }
		 },
		 "nbformat": 4,
		 "nbformat_minor": 0
}
