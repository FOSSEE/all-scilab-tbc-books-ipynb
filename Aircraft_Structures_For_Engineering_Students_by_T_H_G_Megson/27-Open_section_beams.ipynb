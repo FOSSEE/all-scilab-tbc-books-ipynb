{
"cells": [
 {
		   "cell_type": "markdown",
	   "metadata": {},
	   "source": [
       "# Chapter 27: Open section beams"
	   ]
	},
{
		   "cell_type": "markdown",
		   "metadata": {},
		   "source": [
			"## Example 27.2: Example_2.sce"
		   ]
		  },
  {
"cell_type": "code",
	   "execution_count": null,
	   "metadata": {
	    "collapsed": true
	   },
	   "outputs": [],
"source": [
"pathname=get_absolute_file_path('27_2.sce')\n",
"filename=pathname+filesep()+'27_2data.sci'\n",
"exec(filename)\n",
"clear\n",
"TR=((t*a^3 *b^2)*(2*b +a))/(12*(b+ 2*a));\n",
"J=(1/3)*(2*a +b)*t^3;\n",
"mu=((G*J)/(E*TR))^0.5;\n",
"Ar1=(-3/4)*(a*b/4);\n",
"Ar2=(1/4)*(a*b/4);\n",
"MT=P*2*Ar2;\n",
"X=-MT/(E*TR);\n",
"D=X/(mu*cosh(mu*L));\n",
"F=-D*cosh(0)/mu;\n",
"function[theta]=th(z)//θ\n",
"    theta=((D/mu)*cosh(mu*z))+F;\n",
"endfunction\n",
"z=linspace(0,L,10*L);\n",
"theta=feval(z,th);\n",
"plot2d(z,theta);\n",
"xgrid(3)\n",
"xtitle('angle of twist versus Z','Z','θ')\n",
"datatipToggle();\n",
"printf('\nθ(top): %f rad',th(L));\n",
"MT0=-E*TR*X/3;\n",
"A=(2*a +b)*t;\n",
"Sz1=(P/A)+(MT0/TR)*2*Ar1;//σz1\n",
"Sz2=(P/A)+(MT0/TR)*2*Ar2;//σz2\n",
"printf('\nσz1= σz4= %f N/mm^2',Sz1)\n",
"printf('\nσz3= σz2= %f N/mm^2',Sz2)"
   ]
   }
],
"metadata": {
		  "kernelspec": {
		   "display_name": "Scilab",
		   "language": "scilab",
		   "name": "scilab"
		  },
		  "language_info": {
		   "file_extension": ".sce",
		   "help_links": [
			{
			 "text": "MetaKernel Magics",
			 "url": "https://github.com/calysto/metakernel/blob/master/metakernel/magics/README.md"
			}
		   ],
		   "mimetype": "text/x-octave",
		   "name": "scilab",
		   "version": "0.7.1"
		  }
		 },
		 "nbformat": 4,
		 "nbformat_minor": 0
}
