{
"cells": [
 {
		   "cell_type": "markdown",
	   "metadata": {},
	   "source": [
       "# Chapter 21: Wing spars and box beams"
	   ]
	},
{
		   "cell_type": "markdown",
		   "metadata": {},
		   "source": [
			"## Example 21.1: Example_1.sce"
		   ]
		  },
  {
"cell_type": "code",
	   "execution_count": null,
	   "metadata": {
	    "collapsed": true
	   },
	   "outputs": [],
"source": [
"pathname=get_absolute_file_path('21_1.sce')\n",
"filename=pathname+filesep()+'21_1data.sci'\n",
"exec(filename)\n",
"Mx=-Sy*L1;//moment at section AA\n",
"Wa=(We*(L-L1)+ W*L1)/L;//width of section AA\n",
"Ixx=2*A*(Wa/2)^2 + (1/12)*t*Wa^3;\n",
"Sz1=Mx*(Wa/2)/Ixx;\n",
"Pz1=Sz1*A;\n",
"Syz=Sy +Pz1*((W-We)/L);\n",
"deff('[q12]=f(s)','q12=(-Syz/Ixx)*((-s^2 +Wa*s) +(A*Wa/2))');\n",
"s=[0:0.01:Wa];\n",
"fplot2d(s,f);\n",
"xgrid(3)\n",
"xtitle('shear flow','-s-','-q12-');\n",
"datatipToggle();"
   ]
   }
,
{
		   "cell_type": "markdown",
		   "metadata": {},
		   "source": [
			"## Example 21.2: Example_2.sce"
		   ]
		  },
  {
"cell_type": "code",
	   "execution_count": null,
	   "metadata": {
	    "collapsed": true
	   },
	   "outputs": [],
"source": [
"pathname=get_absolute_file_path('21_2.sce')\n",
"filename=pathname+filesep()+'21_2data.sci'\n",
"exec(filename)\n",
"clear\n",
"Mx=-Sy*(L-Lc);//moment at section\n",
"L3=(L1*(L-Lc)+ L2*Lc)/L;//leangth of CS\n",
"B3=(B1*(L-Lc)+ B2*Lc)/L;//breadth of CS\n",
"Ixx=4*Aco*(B3/2)^2 + 2*Ace*(B3/2)^2;\n",
"B=[Aco;Ace;Aco;Aco;Ace;Aco];\n",
"Y=[B3/2;B3/2;B3/2;-B3/2;-B3/2;-B3/2];\n",
"Dxr=[(L1-L2)/(2*L);0;-(L1-L2)/(2*L);-(L1-L2)/(2*L);0;(L1-L2)/(2*L)];\n",
"Dyr=[-(B1-B2)/(2*L);-(B1-B2)/(2*L);-(B1-B2)/(2*L);(B1-B2)/(2*L);(B1-B2)/(2*L);(B1-B2)/(2*L)];\n",
"for i=1:6\n",
"    Pz(i)=(Mx/Ixx)*Y(i)*B(i);\n",
"    Px(i)=Pz(i)*Dxr(i);\n",
"    Py(i)=Pz(i)*Dyr(i);\n",
"    P(i)=(((Px(i))^2 +(Py(i))^2 +(Pz(i))^2)^0.5)*((abs(Pz(i)))/Pz(i));\n",
"end\n",
"Syw=Sy-sum(Py);\n",
"qb(1)=0\n",
"for i=2:4\n",
"    qb(i)=qb(i-1)+(-Syw/Ixx)*B(i-1)*Y(i-1);\n",
"end\n",
"qb(5)= qb(3);\n",
"qb(6)= qb(2);\n",
"qs0=((-Sy*L3/2)+(qb(2)*L3*B3*0.5 +qb(3)*L3*B3*0.5 +qb(4)*B3*L3*0.5))/(2*L3*B3);\n",
"q=-qb+qs0*ones(6,1);\n",
"disp(q,'shear flow (61,12,23,34,45,56)')"
   ]
   }
,
{
		   "cell_type": "markdown",
		   "metadata": {},
		   "source": [
			"## Example 21.3: Example_3.sce"
		   ]
		  },
  {
"cell_type": "code",
	   "execution_count": null,
	   "metadata": {
	    "collapsed": true
	   },
	   "outputs": [],
"source": [
"pathname=get_absolute_file_path('21_3.sce')\n",
"filename=pathname+filesep()+'21_3data.sci'\n",
"exec(filename)\n",
"clear\n",
"Lc1=Lc+ 0.1*10^3,Lc2=Lc- 0.1*10^3;\n",
"Mx1=-Sy*(L-Lc1);//moment at section1\n",
"L31=(L1*(L-Lc1)+ L2*Lc1)/L;//leangth of CS1\n",
"B31=(B1*(L-Lc1)+ B2*Lc1)/L;//breadth of CS1\n",
"Mx2=-Sy*(L-Lc2);//moment at section2\n",
"L32=(L1*(L-Lc2)+ L2*Lc2)/L;//leangth of CS2\n",
"B32=(B1*(L-Lc2)+ B2*Lc2)/L;//breadth of CS2\n",
"L3=(L31+L32)/2;\n",
"B3=(B31+B32)/2;\n",
"Ixx1=4*Aco*(B31/2)^2 + 2*Ace*(B31/2)^2;\n",
"Ixx2=4*Aco*(B32/2)^2 + 2*Ace*(B32/2)^2;\n",
"B=[Aco;Ace;Aco;Aco;Ace;Aco];\n",
"Y1=[B31/2;B31/2;B31/2;-B31/2;-B31/2;-B31/2];\n",
"Y2=[B32/2;B32/2;B32/2;-B32/2;-B32/2;-B32/2];\n",
"Dxr=[(L1-L2)/(2*L);0;-(L1-L2)/(2*L);-(L1-L2)/(2*L);0;(L1-L2)/(2*L)];\n",
"Dyr=[-(B1-B2)/(2*L);-(B1-B2)/(2*L);-(B1-B2)/(2*L);(B1-B2)/(2*L);(B1-B2)/(2*L);(B1-B2)/(2*L)];\n",
"for i=1:6\n",
"    Pz1(i)=(Mx1/Ixx1)*Y1(i)*B(i);\n",
"    Px1(i)=Pz1(i)*Dxr(i);\n",
"    Py1(i)=Pz1(i)*Dyr(i);\n",
"    P1(i)=(((Px1(i))^2 +(Py1(i))^2 +(Pz1(i))^2)^0.5)*((abs(Pz1(i)))/Pz1(i));\n",
"    Pz2(i)=(Mx2/Ixx2)*Y2(i)*B(i);\n",
"    Px2(i)=Pz2(i)*Dxr(i);\n",
"    Py2(i)=Pz2(i)*Dyr(i);\n",
"    P2(i)=(((Px2(i))^2 +(Py2(i))^2 +(Pz2(i))^2)^0.5)*((abs(Pz2(i)))/Pz2(i));\n",
"end\n",
"delP=(P1-P2)/200;\n",
"q12=(Sy*L3*0.5 +delP(2)*2*L3*B3*0.25 +(delP(2)+delP(3))*L3*B3*0.5 +delP(6)*L3*B3*0.5)/(2*L3*B3*0.25 +2*L3*B3*0.25 +L3*B3*0.5 +L3*B3*0.5);\n",
"q23=q12-delP(2);\n",
"q34=q12-(delP(2)+delP(3));\n",
"q45=q12-(delP(2)+delP(3)+delP(4));\n",
"q56=q12;\n",
"q61=q12-delP(6);\n",
"q=[q12;q23;q34;q45;q56;q61];\n",
"disp('Shear flow(q12;q23;q34;q45;q56;q61):');\n",
"printf('\n %f N/mm',q);"
   ]
   }
],
"metadata": {
		  "kernelspec": {
		   "display_name": "Scilab",
		   "language": "scilab",
		   "name": "scilab"
		  },
		  "language_info": {
		   "file_extension": ".sce",
		   "help_links": [
			{
			 "text": "MetaKernel Magics",
			 "url": "https://github.com/calysto/metakernel/blob/master/metakernel/magics/README.md"
			}
		   ],
		   "mimetype": "text/x-octave",
		   "name": "scilab",
		   "version": "0.7.1"
		  }
		 },
		 "nbformat": 4,
		 "nbformat_minor": 0
}
