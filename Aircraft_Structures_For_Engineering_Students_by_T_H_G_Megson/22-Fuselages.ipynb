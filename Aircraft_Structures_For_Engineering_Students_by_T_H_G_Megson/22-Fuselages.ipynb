{
"cells": [
 {
		   "cell_type": "markdown",
	   "metadata": {},
	   "source": [
       "# Chapter 22: Fuselages"
	   ]
	},
{
		   "cell_type": "markdown",
		   "metadata": {},
		   "source": [
			"## Example 22.1: Example_1.sce"
		   ]
		  },
  {
"cell_type": "code",
	   "execution_count": null,
	   "metadata": {
	    "collapsed": true
	   },
	   "outputs": [],
"source": [
"pathname=get_absolute_file_path('22_1.sce')\n",
"filename=pathname+filesep()+'22_1data.sci'\n",
"exec(filename)\n",
"b=(2*%pi*r)/16;\n",
"for i=1:16\n",
"    angle(i)=(2*%pi/16)*(i-1);\n",
"    y(i)=r*cos(angle(i));\n",
"end\n",
"B1=A+ 2*((t*b)/6)*(2 +y(2)/y(1));\n",
"for i=1:16\n",
"    B(i)=B1;\n",
"    I(i)=B(i)*y(i)*y(i);\n",
"end\n",
"Ixx=sum(I);\n",
"for i=1:16\n",
"    Sz(i)=(Mx*y(i))/Ixx;\n",
"    printf('\nσz%f =',i);\n",
"    printf(' %f N/mm^2',Sz(i))\n",
"end\n",
"\n",
"\n",
"\n",
""
   ]
   }
,
{
		   "cell_type": "markdown",
		   "metadata": {},
		   "source": [
			"## Example 22.2: Example_2.sce"
		   ]
		  },
  {
"cell_type": "code",
	   "execution_count": null,
	   "metadata": {
	    "collapsed": true
	   },
	   "outputs": [],
"source": [
"pathname=get_absolute_file_path('22_2.sce')\n",
"filename=pathname+filesep()+'22_2data.sci'\n",
"exec(filename)\n",
"b=(2*%pi*r)/16;\n",
"for i=1:16\n",
"    angle(i)=(2*%pi/16)*(i-1);\n",
"    y(i)=r*cos(angle(i));\n",
"end\n",
"B1=A+ 2*((t*b)/6)*(2 +y(2)/y(1));\n",
"for i=1:16\n",
"    B(i)=B1;\n",
"    I(i)=B(i)*y(i)*y(i);\n",
"end\n",
"Ixx=sum(I);\n",
"qs(1)=0;\n",
"qs(8)=qs(1);\n",
"for i=2:5\n",
"    qs(i)=((-Sy*B(i)*y(i))/Ixx)+qs(i-1);\n",
"    qs(9-i)=qs(i);\n",
"end\n",
"qs1(1)=((-Sy*B(1)*y(1))/Ixx);\n",
"qs1(8)=qs1(1);\n",
"for i=2:5\n",
"    qs1(i)=((-Sy*B(18-i)*y(18-i))/Ixx)+qs1(i-1);\n",
"    qs1(9-i)=qs1(i);\n",
"end\n",
"Ac=%pi*r*r/16;\n",
"qs0=-(((Sy*d)-2*Ac*(sum(qs1)-sum(qs)))/(2*Ac*16));\n",
"Q=[qs;-qs1];\n",
"for i=1:16\n",
"    q(i)=Q(i)+qs0;\n",
"    printf('\nq: %f N/mm',q(i))\n",
"end"
   ]
   }
],
"metadata": {
		  "kernelspec": {
		   "display_name": "Scilab",
		   "language": "scilab",
		   "name": "scilab"
		  },
		  "language_info": {
		   "file_extension": ".sce",
		   "help_links": [
			{
			 "text": "MetaKernel Magics",
			 "url": "https://github.com/calysto/metakernel/blob/master/metakernel/magics/README.md"
			}
		   ],
		   "mimetype": "text/x-octave",
		   "name": "scilab",
		   "version": "0.7.1"
		  }
		 },
		 "nbformat": 4,
		 "nbformat_minor": 0
}
