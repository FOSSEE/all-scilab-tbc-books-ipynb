{
"cells": [
 {
		   "cell_type": "markdown",
	   "metadata": {},
	   "source": [
       "# Chapter 9: Thin plates"
	   ]
	},
{
		   "cell_type": "markdown",
		   "metadata": {},
		   "source": [
			"## Example 9.1: Example_1.sce"
		   ]
		  },
  {
"cell_type": "code",
	   "execution_count": null,
	   "metadata": {
	    "collapsed": true
	   },
	   "outputs": [],
"source": [
"pathname=get_absolute_file_path('9_1.sce')\n",
"filename=pathname+filesep()+'9_1data.sci'\n",
"exec(filename)\n",
"alpha= atan(((1+ t*d/(2*Af))/(1+ t*b/As))^0.25);//α\n",
"Ft=(W*z/d)+(W/(2*tan(alpha)));//FT\n",
"printf('\nFT: %f N',Ft);\n",
"Mmax= (W*tan(alpha)*b^2)/(12*d); \n",
"Smax= (Mmax/ESM)+(Ft/Af);//σ max\n",
"printf('\nMaximum Stress in Flange: %f N/mm^2',Smax);\n",
"P=(W*b*tan(alpha))/d;\n",
"if(b<1.5*d) then//le\n",
"    Le=d/((4-(2*b/d))^0.5);\n",
"else\n",
"    Le=d;\n",
"end\n",
"Pcr= ((%pi^2)*E*I)/(Le^2);\n",
"printf('\nPcr: %f KN',Pcr);\n",
"printf('\nP: %f KN',P);\n",
"if(P<Pcr) then\n",
"    printf('\nstiffener will not buckle')\n",
"else\n",
"    printf('\nstiffener will buckle')\n",
"end\n",
"\n",
""
   ]
   }
],
"metadata": {
		  "kernelspec": {
		   "display_name": "Scilab",
		   "language": "scilab",
		   "name": "scilab"
		  },
		  "language_info": {
		   "file_extension": ".sce",
		   "help_links": [
			{
			 "text": "MetaKernel Magics",
			 "url": "https://github.com/calysto/metakernel/blob/master/metakernel/magics/README.md"
			}
		   ],
		   "mimetype": "text/x-octave",
		   "name": "scilab",
		   "version": "0.7.1"
		  }
		 },
		 "nbformat": 4,
		 "nbformat_minor": 0
}
