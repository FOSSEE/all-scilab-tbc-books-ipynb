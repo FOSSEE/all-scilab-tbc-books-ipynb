{
"cells": [
 {
		   "cell_type": "markdown",
	   "metadata": {},
	   "source": [
       "# Chapter 14: Airframe Loads"
	   ]
	},
{
		   "cell_type": "markdown",
		   "metadata": {},
		   "source": [
			"## Example 14.1: Example_1.sce"
		   ]
		  },
  {
"cell_type": "code",
	   "execution_count": null,
	   "metadata": {
	    "collapsed": true
	   },
	   "outputs": [],
"source": [
"pathname=get_absolute_file_path('14_1.sce')\n",
"filename=pathname+filesep()+'14_1data.sci'\n",
"exec(filename)\n",
"T=((W/g)*a)/cos(10*%pi/180);\n",
"printf('\nT: %f N',T);\n",
"R=W+T*sin(10*%pi/180);\n",
"Ls=(R/2)/cos(20*%pi/180);//Load in each strut\n",
"printf('\nLoad in each strut: %f N',Ls);\n",
"Li=(Wa/g)*a;//inertial load at CG of fuselage aft of AA\n",
"N=T-Li*cos(10*%pi/180)+Wa*sin(10*%pi/180);\n",
"S=Li*sin(10*%pi/180)+Wa*cos(10*%pi/180);\n",
"s=v0^2/(2*a);\n",
"printf('\nN: %f N',N);\n",
"printf('\nS: %f N',S);\n",
"printf('\ns: %f m',s);"
   ]
   }
,
{
		   "cell_type": "markdown",
		   "metadata": {},
		   "source": [
			"## Example 14.2: Example_2.sce"
		   ]
		  },
  {
"cell_type": "code",
	   "execution_count": null,
	   "metadata": {
	    "collapsed": true
	   },
	   "outputs": [],
"source": [
"pathname=get_absolute_file_path('14_2.sce')\n",
"filename=pathname+filesep()+'14_2data.sci'\n",
"exec(filename)\n",
"clear\n",
"ax=Rh/(W/g);//horizontal deceleration\n",
"ay=(Rv-W)/(W/g);//vertical deceleration\n",
"Ialpha=Rv*Sh +Rh*Sv;\n",
"alpha=(Ialpha*10^6)/Icg;\n",
"t=v0/ay;\n",
"omega=alpha*t;\n",
"printf('\nhorizontal reaction force: %f kN',W*ax/g);\n",
"printf('\nvertical reaction force: %f kN',W*ay/g);\n",
"printf('\nα: %f rad/s^2',alpha);\n",
"printf('\nt: %f s',t);\n",
"printf('\nω: %f rad/s',omega);"
   ]
   }
,
{
		   "cell_type": "markdown",
		   "metadata": {},
		   "source": [
			"## Example 14.3: Example_3.sce"
		   ]
		  },
  {
"cell_type": "code",
	   "execution_count": null,
	   "metadata": {
	    "collapsed": true
	   },
	   "outputs": [],
"source": [
"pathname=get_absolute_file_path('14_3.sce')\n",
"filename=pathname+filesep()+'14_3data.sci'\n",
"exec(filename)\n",
"clear\n",
"L=n*W;\n",
"Cl1=(L/(0.5*S*rho*v^2));\n",
"l1=4.18*cos((alpha1-2)*%pi/180) +0.31*sin((alpha1-2)*%pi/180);\n",
"Cl2=(L/(0.5*S*rho*v^2))-((c/l1)*Cmcg1);\n",
"l2=4.18*cos((alpha2-2)*%pi/180) +0.31*sin((alpha2-2)*%pi/180);\n",
"Cl3=(L/(0.5*S*rho*v^2))-((c/l2)*Cmcg2);\n",
"//CD from Fig. 14.8(a)\n",
"CD=0.0875;\n",
"Lift=0.5*rho*v*v*S*(Cl1+Cl2+Cl3)/3;\n",
"Drag=0.5*rho*v*v*S*CD;\n",
"printf('\nLift: %f N',Lift);\n",
"printf('\nDrag: %f N',Drag);"
   ]
   }
],
"metadata": {
		  "kernelspec": {
		   "display_name": "Scilab",
		   "language": "scilab",
		   "name": "scilab"
		  },
		  "language_info": {
		   "file_extension": ".sce",
		   "help_links": [
			{
			 "text": "MetaKernel Magics",
			 "url": "https://github.com/calysto/metakernel/blob/master/metakernel/magics/README.md"
			}
		   ],
		   "mimetype": "text/x-octave",
		   "name": "scilab",
		   "version": "0.7.1"
		  }
		 },
		 "nbformat": 4,
		 "nbformat_minor": 0
}
