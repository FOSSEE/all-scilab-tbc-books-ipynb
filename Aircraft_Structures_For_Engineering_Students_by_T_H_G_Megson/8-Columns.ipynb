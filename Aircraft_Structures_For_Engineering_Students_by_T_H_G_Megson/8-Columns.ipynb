{
"cells": [
 {
		   "cell_type": "markdown",
	   "metadata": {},
	   "source": [
       "# Chapter 8: Columns"
	   ]
	},
{
		   "cell_type": "markdown",
		   "metadata": {},
		   "source": [
			"## Example 8.2: Example_2.sce"
		   ]
		  },
  {
"cell_type": "code",
	   "execution_count": null,
	   "metadata": {
	    "collapsed": true
	   },
	   "outputs": [],
"source": [
"pathname=get_absolute_file_path('8_2.sce')\n",
"filename=pathname+filesep()+'8_2data.sci'\n",
"exec(filename)\n",
"mu=(P/(E*I))^0.5;//μ\n",
"deff('[v]=f(z)','v=e*((cos(mu*(z-L/2))/cos(mu*L/2))-1)');//v\n",
"deff('[m]=f1(z)','m=P*(e+e*((cos(mu*(z-L/2))/cos(mu*L/2))-1))');//M\n",
"funcprot(0);\n",
"z=[0:0.05:L];\n",
"subplot(2,1,1);\n",
"fplot2d(z,f);\n",
"xgrid(3);\n",
"xtitle( 'deflection', ' -z- ', '-v-');\n",
"subplot(2,1,2);\n",
"fplot2d(z,f1);\n",
"xgrid(3);\n",
"xtitle( 'bending moment', ' -z- ', ' -M-');\n",
"datatipToggle();\n",
"printf('\nmaximum deflection: %f',f(L/2));\n",
"printf('\nM(max)= %f N.m',f1(L/2));"
   ]
   }
,
{
		   "cell_type": "markdown",
		   "metadata": {},
		   "source": [
			"## Example 8.3: Example_3.sce"
		   ]
		  },
  {
"cell_type": "code",
	   "execution_count": null,
	   "metadata": {
	    "collapsed": true
	   },
	   "outputs": [],
"source": [
"pathname=get_absolute_file_path('8_3.sce')\n",
"filename=pathname+filesep()+'8_3data.sci'\n",
"exec(filename)\n",
"A=t*(2*a +b);\n",
"Ixx=2*a*t*(b/2)^2 +(t*b^3)/12;\n",
"Iyy=(2*t*a^3)/12;\n",
"I0=Ixx+Iyy;\n",
"J=(2*a*t^3)/3 +(b*t^3)/3;\n",
"tau=(t*a^3 *b^2)/24;\n",
"Px=(%pi^2 *E*Ixx/L^2);//PCR(xx)\n",
"Py=(%pi^2 *E*Iyy/L^2);//PCR(yy)\n",
"Pth=(A/I0)*(G*J +(%pi^2 *E*tau)/L^2);//PCR(θ)\n",
"P=poly(0,'P');\n",
"y=(I0/A)*(P^2 -(Px +Pth)*P +Px*Pth);\n",
"m=roots(y);\n",
"Ptb1=m(1,:)\n",
"Ptb2=m(2,:)\n",
"Load=[Px;Py;Pth];\n",
"printf('\nbuckling Load: %f N',min(Load));\n",
"printf('\nflexural-torsional buckling Load: %f N',roots(y));"
   ]
   }
,
{
		   "cell_type": "markdown",
		   "metadata": {},
		   "source": [
			"## Example 8.4: Example_4.sce"
		   ]
		  },
  {
"cell_type": "code",
	   "execution_count": null,
	   "metadata": {
	    "collapsed": true
	   },
	   "outputs": [],
"source": [
"pathname=get_absolute_file_path('8_4.sce')\n",
"filename=pathname+filesep()+'8_4data.sci'\n",
"exec(filename)\n",
"clear\n",
"Xc=(a2^2)/(b+ 2*a2);//x bar\n",
"Xs=-(Xc+((3*a2^2)/(b*(1+ 6*a2/b))));\n",
"A= 2*a2*t + b*t;\n",
"Ixx=2*a2*t*(b/2)^2 +(t*b^3)/12;\n",
"Iyy=b*t*Xc^2 +(2*t/3)*((a2-Xc)^3 +Xc^3);\n",
"I0=Ixx+Iyy+ A*Xs^2;\n",
"J=(2*a2*t^3)/3 +(b*t^3)/3;\n",
"tau= 0.1244*t*a2^3 *b^2;\n",
"Px=((%pi^2)*E*Ixx/(L^2));//PCR(xx)\n",
"Py=((%pi^2)*E*Iyy/(L^2));//PCR(yy)\n",
"Pth=(A/I0)*(G*J +((%pi^2)*E*tau)/(L^2));//PCR(θ)\n",
"a=(1-(A*Xs^2)/I0),b=-(Px +Pth),c=Px*Pth;\n",
"P1=(-b +(b*b -4*a*c)^0.5)/(2*a);\n",
"P2=(-b -(b*b -4*a*c)^0.5)/(2*a);\n",
"Load=[Px;Py;Pth;P1;P2];\n",
"minimum=Load(1);\n",
"for i=2:5\n",
"    if(Load(i)<Load(i-1)) then\n",
"        minimum=Load(i);\n",
"        a1=i;\n",
"    end\n",
"end\n",
"if(a1>3) then\n",
"    printf('\nflexural-torsional buckling will happen.\nand buckling load is: %f N',minimum);\n",
"else\n",
"    printf('\nuncoupled buckling will happen\nand buckling Load is %f N',minimum);\n",
"end"
   ]
   }
],
"metadata": {
		  "kernelspec": {
		   "display_name": "Scilab",
		   "language": "scilab",
		   "name": "scilab"
		  },
		  "language_info": {
		   "file_extension": ".sce",
		   "help_links": [
			{
			 "text": "MetaKernel Magics",
			 "url": "https://github.com/calysto/metakernel/blob/master/metakernel/magics/README.md"
			}
		   ],
		   "mimetype": "text/x-octave",
		   "name": "scilab",
		   "version": "0.7.1"
		  }
		 },
		 "nbformat": 4,
		 "nbformat_minor": 0
}
