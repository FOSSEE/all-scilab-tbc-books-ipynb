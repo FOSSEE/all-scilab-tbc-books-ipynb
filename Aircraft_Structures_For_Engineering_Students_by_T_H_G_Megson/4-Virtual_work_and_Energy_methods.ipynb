{
"cells": [
 {
		   "cell_type": "markdown",
	   "metadata": {},
	   "source": [
       "# Chapter 4: Virtual work and Energy methods"
	   ]
	},
{
		   "cell_type": "markdown",
		   "metadata": {},
		   "source": [
			"## Example 4.1: Example_1.sce"
		   ]
		  },
  {
"cell_type": "code",
	   "execution_count": null,
	   "metadata": {
	    "collapsed": true
	   },
	   "outputs": [],
"source": [
"pathname=get_absolute_file_path('4_1.sce')\n",
"filename=pathname+filesep()+'4_1data.sci'\n",
"exec(filename)\n",
"Ra= W*(L-a)/L;\n",
"Rb= W*a/L;\n",
"printf('\nRA: %f N',Ra);\n",
"printf('\nRB: %f N',Rb);"
   ]
   }
,
{
		   "cell_type": "markdown",
		   "metadata": {},
		   "source": [
			"## Example 4.2: Example_2.sce"
		   ]
		  },
  {
"cell_type": "code",
	   "execution_count": null,
	   "metadata": {
	    "collapsed": true
	   },
	   "outputs": [],
"source": [
"pathname=get_absolute_file_path('4_2.sce')\n",
"filename=pathname+filesep()+'4_2data.sci'\n",
"exec(filename)\n",
"M=(W*a*(L-a))/(L);\n",
"deff('[y]=f(x)','y=(W*x*(L-x))/(L)')//manding moment\n",
"x=[0:0.05:L];\n",
"fplot2d(x,f);\n",
"xgrid(3);\n",
"datatipToggle();\n",
"xtitle( 'Banding Moment versus a', ' -a- ', '-M-');\n",
"printf('\nMB: %f N.m',M);\n",
"printf('\n\nclick on the point to view its coordinate on the plot');"
   ]
   }
,
{
		   "cell_type": "markdown",
		   "metadata": {},
		   "source": [
			"## Example 4.3: Example_3.sce"
		   ]
		  },
  {
"cell_type": "code",
	   "execution_count": null,
	   "metadata": {
	    "collapsed": true
	   },
	   "outputs": [],
"source": [
"pathname=get_absolute_file_path('4_3.sce')\n",
"filename=pathname+filesep()+'4_3data.sci'\n",
"exec(filename)\n",
"Fba=Loadc*(CD/BD);//FBA\n",
"printf('\nFBA: %f KN',Fba);"
   ]
   }
,
{
		   "cell_type": "markdown",
		   "metadata": {},
		   "source": [
			"## Example 4.4: Example_4.sce"
		   ]
		  },
  {
"cell_type": "code",
	   "execution_count": null,
	   "metadata": {
	    "collapsed": true
	   },
	   "outputs": [],
"source": [
"pathname=get_absolute_file_path('4_4.sce')\n",
"filename=pathname+filesep()+'4_4data.sci'\n",
"exec(filename)\n",
"clear\n",
"Vb=(w*L^4)/(8*E*I);//υB\n",
"deff('[y]=f(x)','y= -((w*x^2)/(24*E*I))*(6*L^2 -4*L*x +x^2)');//deflection\n",
"x=[0:0.05:L];\n",
"fplot2d(x,f);\n",
"xgrid(3);\n",
"datatipToggle();\n",
"xtitle( 'vertical deflection versus x', ' -x- ', 'vertical deflection');\n",
"printf('\nυB: %f m//',Vb);\n",
"printf('\n\nclick on the point to view its coordinate on the plot');"
   ]
   }
,
{
		   "cell_type": "markdown",
		   "metadata": {},
		   "source": [
			"## Example 4.5: Example_5.sce"
		   ]
		  },
  {
"cell_type": "code",
	   "execution_count": null,
	   "metadata": {
	    "collapsed": true
	   },
	   "outputs": [],
"source": [
"pathname=get_absolute_file_path('4_5.sce')\n",
"filename=pathname+filesep()+'4_5data.sci'\n",
"exec(filename)\n",
"clear\n",
"theta=(W*L^2)/(16*E*I);//θA\n",
"printf('\nθA: %f',theta);"
   ]
   }
,
{
		   "cell_type": "markdown",
		   "metadata": {},
		   "source": [
			"## Example 4.6: Example_6.sce"
		   ]
		  },
  {
"cell_type": "code",
	   "execution_count": null,
	   "metadata": {
	    "collapsed": true
	   },
	   "outputs": [],
"source": [
"pathname=get_absolute_file_path('4_6.sce')\n",
"filename=pathname+filesep()+'4_6data.sci'\n",
"exec(filename)\n",
"L=[(h^2 +AB^2)^0.5;BC;(h^2 +CD^2)^0.5;CD;BC;AB;h;(h^2 +BC^2)^0.5;h];//column 2\n",
"A=atan(h/AB),B=atan(h/BC),D=atan(h/CD);\n",
"lFC=Load2;\n",
"P=[\n",
"   0 0 sin(D) 0 0 0 0 sin(B);\n",
"   cos(A) 0 0 0 0 1 0 0;\n",
"   cos(A) -1 0 0 0 0 0 0;\n",
"   sin(A) 0 0 0 0 0 1 0;\n",
"   0 0 0 -1 1 0 0 0;\n",
"   0 0 0 0 1 -1 0 cos(B);\n",
"   0 0 0 0 0 0 1 -sin(B);\n",
"   0 1 -cos(D) 0 0 0 0 cos(B);];\n",
"X=[-Load2;0;0;-Load1;0;0;Load1;0];\n",
"D1=[0;0;0;1;1;1;0;0;0];//F1,D\n",
"FC=0;\n",
"P1=[cos(A) 0 0 0 0 1 0 0;\n",
"    0 0 cos(D) 1 0 0 0 0;\n",
"    cos(A) -1 0 0 0 0 0 0;\n",
"    sin(A) 0 0 0 0 0 1 0;\n",
"    0 0 0 -1 1 0 0 0;\n",
"    0 0 0 0 1 -1 0 cos(B);\n",
"    0 0 0 0 0 0 1 sin(B);\n",
"    0 0 1 0 0 0 0 1]\n",
"X1=[0;0;0;0;0;0;1;0]\n",
"FA=[inv(P)*X;lFC];//FA\n",
"B1=[inv(P1)*X1;FC];//F1,B\n",
"for i=1:9\n",
"    K1(i)=FA(i)*B1(i)*L(i);//FA.F1,B.L\n",
"    K2(i)=FA(i)*D1(i)*L(i);//FA.F1,D.L\n",
"end\n",
"delB=(sum(K1)*10^3)/(E*CS);\n",
"delD=(sum(K2)*10^3)/(E*CS);\n",
"printf('\nδB,v: %f mm',delB);\n",
"printf('\nδD,h: %f mm',delD);"
   ]
   }
],
"metadata": {
		  "kernelspec": {
		   "display_name": "Scilab",
		   "language": "scilab",
		   "name": "scilab"
		  },
		  "language_info": {
		   "file_extension": ".sce",
		   "help_links": [
			{
			 "text": "MetaKernel Magics",
			 "url": "https://github.com/calysto/metakernel/blob/master/metakernel/magics/README.md"
			}
		   ],
		   "mimetype": "text/x-octave",
		   "name": "scilab",
		   "version": "0.7.1"
		  }
		 },
		 "nbformat": 4,
		 "nbformat_minor": 0
}
