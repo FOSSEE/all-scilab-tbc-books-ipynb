{
"cells": [
 {
		   "cell_type": "markdown",
	   "metadata": {},
	   "source": [
       "# Chapter 16: Bending of open and closed thin walled beams"
	   ]
	},
{
		   "cell_type": "markdown",
		   "metadata": {},
		   "source": [
			"## Example 16.10: Example_10.sce"
		   ]
		  },
  {
"cell_type": "code",
	   "execution_count": null,
	   "metadata": {
	    "collapsed": true
	   },
	   "outputs": [],
"source": [
"pathname=get_absolute_file_path('16_10.sce')\n",
"filename=pathname+filesep()+'16_10data.sci'\n",
"exec(filename)\n",
"clear\n",
"function[si]=sing(a,b)\n",
"    if(a<b) then\n",
"        si=0;\n",
"    else\n",
"        si=(a-b);\n",
"    end\n",
"endfunction\n",
"deff('[v]=f(z)','v=(1/EI)*(((L*W*z^3)/64) -((W/24)*(sing(z,0.5*L))^4)+((W/24)*(sing(z,0.75*L))^4)-((27*W*z*L^3)/2048))');\n",
"funcprot();\n",
"for i=1:100*L\n",
"    x0=f((i-1)/100),x1=f(i/100),x2=f((i+1)/100);\n",
"    y1=(x0-x1),y2=(x1-x2);\n",
"    if(y1*y2<0) then\n",
"       P=i/100;\n",
"       P1=f(i/100);\n",
"       printf('\nmaximum deflection: %f m',P1);\n",
"       printf('\nat z= %f m',P);\n",
"    end\n",
"end\n",
"\n",
"z=[0:0.05:L];\n",
"fplot2d(z,f);\n",
"xgrid(3);\n",
"datatipToggle();\n",
"xtitle( 'deflection curve', ' -z- ', '-v-');\n",
"printf('\n\nclick on the point to view its coordinate on the plot');"
   ]
   }
,
{
		   "cell_type": "markdown",
		   "metadata": {},
		   "source": [
			"## Example 16.11: Example_11.sce"
		   ]
		  },
  {
"cell_type": "code",
	   "execution_count": null,
	   "metadata": {
	    "collapsed": true
	   },
	   "outputs": [],
"source": [
"pathname=get_absolute_file_path('16_11.sce')\n",
"filename=pathname+filesep()+'16_11data.sci'\n",
"exec(filename)\n",
"function[si]=sing(a,a1)\n",
"    if(a<a1) then\n",
"        si=0;\n",
"    else\n",
"        si=(a-a1);\n",
"    end\n",
"endfunction\n",
"deff('[v]=f(z)','v=(M0/(EI*6*L))*(-z^3 +(3*L*(sing(z,b))^2)-(2*L^2 -6*L*b +3*b^2)*z)');\n",
"z=[0:0.05:L];\n",
"fplot2d(z,f);\n",
"xgrid(3);\n",
"datatipToggle();\n",
"xtitle( 'deflection curve', ' -z- ', '-v-');\n",
"printf('\n\nclick on the point to view its coordinate on the plot');"
   ]
   }
,
{
		   "cell_type": "markdown",
		   "metadata": {},
		   "source": [
			"## Example 16.12: Example_12.sce"
		   ]
		  },
  {
"cell_type": "code",
	   "execution_count": null,
	   "metadata": {
	    "collapsed": true
	   },
	   "outputs": [],
"source": [
"pathname=get_absolute_file_path('16_12.sce')\n",
"filename=pathname+filesep()+'16_12data.sci'\n",
"exec(filename)\n",
"P=(W*Ixy/(E*(Ixx*Iyy -Ixy^2)));\n",
"P1=-(W*Iyy/(E*(Ixx*Iyy -Ixy^2)));\n",
"deff('[u]=f(z)','u=P*(0.5*L*z^2 -(1/6)*z^3)');\n",
"deff('[v]=f1(z)','v=P1*(0.5*L*z^2 -(1/6)*z^3)');\n",
"funcprot();\n",
"z=[0:0.05:L];\n",
"subplot(2,1,1);\n",
"fplot2d(z,f);\n",
"xgrid(3);\n",
"xtitle( 'deflection curve(u)', ' -z- ', '-u-');\n",
"subplot(2,1,2);\n",
"fplot2d(z,f1);\n",
"xgrid(3);\n",
"xtitle( 'deflection curve(v)', ' -z- ', '-v-');\n",
"datatipToggle();\n",
"printf('\nmaximum value of u: %f',f(L));\n",
"printf('\nmaximum value of v: %f',f1(L));\n",
"printf('\n\nclick on the point to view its coordinate on the plot');"
   ]
   }
,
{
		   "cell_type": "markdown",
		   "metadata": {},
		   "source": [
			"## Example 16.13: Example_13.sce"
		   ]
		  },
  {
"cell_type": "code",
	   "execution_count": null,
	   "metadata": {
	    "collapsed": true
	   },
	   "outputs": [],
"source": [
"pathname=get_absolute_file_path('16_13.sce')\n",
"filename=pathname+filesep()+'16_13data.sci'\n",
"exec(filename)\n",
"dw=d- 2*tf;\n",
"Ixx=2*(((b*tf^3)/12)+ b*tf*((dw+tf)/2)^2) + (tw*dw^3)/12;\n",
"Iyy=(2*tf*b^3)/12 + (dw*dw^3)/12;\n",
"printf('\n Ixx= %f mm^4',Ixx);\n",
"printf('\n Iyy= %f mm^4',Iyy)"
   ]
   }
,
{
		   "cell_type": "markdown",
		   "metadata": {},
		   "source": [
			"## Example 16.14: Example_14.sce"
		   ]
		  },
  {
"cell_type": "code",
	   "execution_count": null,
	   "metadata": {
	    "collapsed": true
	   },
	   "outputs": [],
"source": [
"pathname=get_absolute_file_path('16_14.sce')\n",
"filename=pathname+filesep()+'16_14data.sci'\n",
"exec(filename)\n",
"Ixx=(t*h^3)/3;\n",
"Iyy=(t*h^3)/12;\n",
"Ixy=(t*h^3)/8;\n",
"P=Mx/(Ixx*Iyy -Ixy*Ixy);\n",
"deff('[Sz1]=f(x)','Sz1=P*(Iyy*h*0.5 -Ixy*x)');//distribution of direct stress in top flange\n",
"deff('[Sz2]=f1(y)','Sz2=P*(Iyy*y)');//distribution of direct stress in web\n",
"deff('[Sz3]=f2(x1)','Sz3=P*(-Iyy*h*0.5 -Ixy*x1)');//distribution of direct stress in top flange\n",
"deff('[Sz4]=f3(x)','Sz4=0*x');\n",
"deff('[Sz5]=f4(y)','Sz5=0*y');\n",
"y=[-h/2:0.05:h/2];\n",
"x=[0:0.05:h/2];\n",
"x1=[-h/2:0.05:0];\n",
"funcprot(0);\n",
"subplot(3,1,1);\n",
"fplot2d(x,f);\n",
"fplot2d(x,f3);\n",
"xgrid(3);\n",
"xtitle( 'Direct stress in upper flange', ' -x- ', '-σz-');\n",
"subplot(3,1,2);\n",
"fplot2d(y,f1);\n",
"fplot2d(y,f4);\n",
"xgrid(3);\n",
"xtitle( 'Direct stress in web', ' -y- ', '-σz-');\n",
"subplot(3,1,3);\n",
"fplot2d(x1,f2);\n",
"fplot2d(x1,f3);\n",
"xgrid(3);\n",
"xtitle( 'Direct stress in bottom flange', ' -y- ', '-σz-');\n",
"datatipToggle();"
   ]
   }
,
{
		   "cell_type": "markdown",
		   "metadata": {},
		   "source": [
			"## Example 16.15: Example_15.sce"
		   ]
		  },
  {
"cell_type": "code",
	   "execution_count": null,
	   "metadata": {
	    "collapsed": true
	   },
	   "outputs": [],
"source": [
"pathname=get_absolute_file_path('16_15.sce')\n",
"filename=pathname+filesep()+'16_15data.sci'\n",
"exec(filename)\n",
"Nt=4*E*alpha*a*t*T0;\n",
"Mxt=2*E*alpha*t*T0*a^2;\n",
"Myt=-E*alpha*t*T0*a^2;\n",
"printf('\nNt: %f ',Nt);\n",
"printf('\nMxt: %f ',Mxt);\n",
"printf('\nMyt: %f ',Myt);"
   ]
   }
,
{
		   "cell_type": "markdown",
		   "metadata": {},
		   "source": [
			"## Example 16.16: Example_16.sce"
		   ]
		  },
  {
"cell_type": "code",
	   "execution_count": null,
	   "metadata": {
	    "collapsed": true
	   },
	   "outputs": [],
"source": [
"pathname=get_absolute_file_path('16_16.sce')\n",
"filename=pathname+filesep()+'16_16data.sci'\n",
"exec(filename)\n",
"Nt=4*E*alpha*a*t*T0;\n",
"Mxt=(8/3)*E*alpha*t*T0*a^2;\n",
"Myt=-E*alpha*t*T0*a^2;\n",
"printf('\nNt: %f ',Nt);\n",
"printf('\nMxt: %f ',Mxt);\n",
"printf('\nMyt: %f ',Myt);"
   ]
   }
,
{
		   "cell_type": "markdown",
		   "metadata": {},
		   "source": [
			"## Example 16.1: Example_1.sce"
		   ]
		  },
  {
"cell_type": "code",
	   "execution_count": null,
	   "metadata": {
	    "collapsed": true
	   },
	   "outputs": [],
"source": [
"pathname=get_absolute_file_path('16_1.sce')\n",
"filename=pathname+filesep()+'16_1data.sci'\n",
"exec(filename)\n",
"Ixx=(a*b^3)/12 - ((a-tx)*(b-2*ty)^3)/12;\n",
"deff('[Sz]=f(y)','Sz=M*y/Ixx');\n",
"y=[-b/2:0.05:b/2];\n",
"fplot2d(y,f);\n",
"xgrid(3);\n",
"datatipToggle();\n",
"xtitle( 'Direct stress', ' -y- ', '-σz-');\n",
"printf('\nσz at the top of the beam: %f N/mm^2',f(b/2));\n",
"printf('\nσz at the bottom of the beam: %f N/mm^2',f(-b/2));"
   ]
   }
,
{
		   "cell_type": "markdown",
		   "metadata": {},
		   "source": [
			"## Example 16.2: Example_2.sce"
		   ]
		  },
  {
"cell_type": "code",
	   "execution_count": null,
	   "metadata": {
	    "collapsed": true
	   },
	   "outputs": [],
"source": [
"pathname=get_absolute_file_path('16_2.sce')\n",
"filename=pathname+filesep()+'16_2data.sci'\n",
"exec(filename)\n",
"clear\n",
"Iyy=2*(ty*a^3)/12 +((b- 2*ty)*tx^3)/12;\n",
"deff('[Sz]=f(x)','Sz=M*x/Iyy');\n",
"x=[-a/2:0.05:a/2];\n",
"fplot2d(x,f);\n",
"xgrid(3);\n",
"datatipToggle();\n",
"xtitle( 'Direct stress', ' -x- ', '-σ z-');\n",
"printf('\nσz at the left hand edges of flanges: %f N/mm^2',f(-a/2));\n",
"printf('\nσz at the right hand edges of flanges: %f N/mm^2',f(a/2));"
   ]
   }
,
{
		   "cell_type": "markdown",
		   "metadata": {},
		   "source": [
			"## Example 16.3: Example_3.sce"
		   ]
		  },
  {
"cell_type": "code",
	   "execution_count": null,
	   "metadata": {
	    "collapsed": true
	   },
	   "outputs": [],
"source": [
"pathname=get_absolute_file_path('16_3.sce')\n",
"filename=pathname+filesep()+'16_3data.sci'\n",
"exec(filename)\n",
"clear\n",
"Iyy=2*(ty*a^3)/12 +((b- 2*ty)*tx^3)/12;\n",
"Ixx=(a*b^3)/12 - ((a-tx)*(b-2*ty)^3)/12;\n",
"Mx=M*cos(theta),My=M*sin(theta);\n",
"alpha=(atan((My/Iyy)/(Mx/Ixx)))*180/%pi;\n",
"deff('[Sz1]=f(x)','Sz1=((Mx/Ixx)*(b/2))-((My/Iyy)*x)');\n",
"deff('[Sz2]=f1(x)','Sz2=((Mx/Ixx)*(-b/2))-((My/Iyy)*x)');\n",
"deff('[Sz3]=f2(y)','Sz3=((Mx/Ixx)*y)');\n",
"deff('[Sz4]=f3(x)','Sz4=0*x');\n",
"deff('[Sz5]=f4(y)','Sz5=0*y');\n",
"funcprot();\n",
"y=[-b/2:0.05:b/2];\n",
"x=[-a/2:0.05:a/2];\n",
"funcprot(0);\n",
"subplot(3,1,1);\n",
"fplot2d(x,f);\n",
"fplot2d(x,f3);\n",
"xgrid(3);\n",
"xtitle( 'Direct stress in upper flange', ' -x- ', '-σz-');\n",
"subplot(3,1,3);\n",
"fplot2d(x,f1);\n",
"fplot2d(x,f3);\n",
"xgrid(3);\n",
"xtitle( 'Direct stress in lower flange', ' -x- ', '-σz-');\n",
"subplot(3,1,2);\n",
"fplot2d(y,f2);\n",
"fplot2d(y,f4);\n",
"xgrid(3);\n",
"xtitle( 'Direct stress in web', ' -y- ', '-σz-');\n",
"datatipToggle();\n",
"printf('\nclick on the point on the plot to view its coordinates');\n",
""
   ]
   }
,
{
		   "cell_type": "markdown",
		   "metadata": {},
		   "source": [
			"## Example 16.4: Example_4.sce"
		   ]
		  },
  {
"cell_type": "code",
	   "execution_count": null,
	   "metadata": {
	    "collapsed": true
	   },
	   "outputs": [],
"source": [
"pathname=get_absolute_file_path('16_4.sce')\n",
"ilename=pathname+filesep()+'16_4data.sci'\n",
"exec(filename)\n",
"Yc=(b^2 -t^2 +a*t)/(2*(a+b-t));\n",
"Xc=((((a/2)-a1+ 0.5*t)*a) +((b-t)*t/2))/(a+b-t);\n",
"Ixx=(1/3)*((t*((Yc-t)^3 -(Yc-b)^3))+(a*((Yc)^3 -(Yc-t)^3)));\n",
"P=a1- 0.5*t +Xc;\n",
"Iyy=(1/3)*((t*(P^3 -(P-a)^3))+((b-t)*(Xc^3- (Xc-t)^3)));\n",
"Ixy=a*t^2 *(Yc- t*0.5) + (b-t)*t*(Yc+ 0.5*t)*12;\n",
"M1=(1+round(100*Mx*Iyy/(Ixx*Iyy -Ixy^2)))/100,M2=(1+round(100*Mx*Ixy/(Ixx*Iyy -Ixy^2)))/100;\n",
"function[z]=Sz(x,y)\n",
"    z=M1*y -M2*x;\n",
"endfunction\n",
"Load=[Sz(-P,Yc);Sz(a-P,Yc);Sz(-P,Yc-t);Sz(a-P,Yc-t);Sz(-Xc,Yc-b);Sz(-Xc+t,Yc-b)];\n",
"Point1=[-P;a-P;-P;a-P;-Xc;-Xc+t];\n",
"Point2=[Yc;Yc;Yc-t;Yc-t;Yc-b;Yc-b];\n",
"maximum=Load(1);\n",
"for i=2:6\n",
"    if(abs(Load(i))>abs(Load(i-1))) then\n",
"        maximum=abs(Load(i));\n",
"        mm=i;\n",
"    end\n",
"end\n",
"printf('\nσz,max: %f N/mm^2',Load(mm));\n",
"disp('at point');\n",
"printf('\nX: %f ',Point1(mm));\n",
"printf('\nY: %f ',Point2(mm));\n",
"\n",
""
   ]
   }
,
{
		   "cell_type": "markdown",
		   "metadata": {},
		   "source": [
			"## Example 16.5: Example_5.sce"
		   ]
		  },
  {
"cell_type": "code",
	   "execution_count": null,
	   "metadata": {
	    "collapsed": true
	   },
	   "outputs": [],
"source": [
"pathname=get_absolute_file_path('16_5.sce')\n",
"filename=pathname+filesep()+'16_5data.sci'\n",
"exec(filename)\n",
"deff('[v]=f(z)','v=(-W/(6*EI))*(3*L*z^2 -z^3)');\n",
"funcprot();\n",
"z=[0:0.05:L];\n",
"fplot2d(z,f);\n",
"xgrid(3);\n",
"datatipToggle();\n",
"xtitle( 'deflection curve', ' -z- ', '-v-');\n",
"printf('\ntip deflection: %f m',f(L));\n",
"printf('\n\nclick on the point to view its coordinate on the plot');"
   ]
   }
,
{
		   "cell_type": "markdown",
		   "metadata": {},
		   "source": [
			"## Example 16.6: Example_6.sce"
		   ]
		  },
  {
"cell_type": "code",
	   "execution_count": null,
	   "metadata": {
	    "collapsed": true
	   },
	   "outputs": [],
"source": [
"pathname=get_absolute_file_path('16_6.sce')\n",
"filename=pathname+filesep()+'16_6data.sci'\n",
"exec(filename)\n",
"deff('[v]=f(z)','v=(-W/(24*EI))*(6*(L^2)*z^2 -4*L*z^3 +z^4)');\n",
"funcprot();\n",
"z=[0:0.05:L];\n",
"fplot2d(z,f);\n",
"xgrid(3);\n",
"datatipToggle();\n",
"xtitle( 'deflection curve', ' -z- ', '-v-');\n",
"printf('\ntip deflection: %f m',f(L));\n",
"printf('\n\nclick on the point to view its coordinate on the plot');"
   ]
   }
,
{
		   "cell_type": "markdown",
		   "metadata": {},
		   "source": [
			"## Example 16.7: Example_7.sce"
		   ]
		  },
  {
"cell_type": "code",
	   "execution_count": null,
	   "metadata": {
	    "collapsed": true
	   },
	   "outputs": [],
"source": [
"pathname=get_absolute_file_path('16_7.sce')\n",
"filename=pathname+filesep()+'16_7data.sci'\n",
"exec(filename)\n",
"deff('[v]=f(z)','v=(W/(24*EI))*(2*L*z^3 -z*L^3 -z^4)');\n",
"funcprot();\n",
"z=[0:0.05:L];\n",
"fplot2d(z,f);\n",
"xgrid(3);\n",
"datatipToggle();\n",
"xtitle( 'deflection curve', ' -z- ', '-v-');\n",
"printf('\nmaximum deflection: %f m',f(L/2));\n",
"printf('\n\nclick on the point to view its coordinate on the plot');"
   ]
   }
,
{
		   "cell_type": "markdown",
		   "metadata": {},
		   "source": [
			"## Example 16.8: Example_8.sce"
		   ]
		  },
  {
"cell_type": "code",
	   "execution_count": null,
	   "metadata": {
	    "collapsed": true
	   },
	   "outputs": [],
"source": [
"pathname=get_absolute_file_path('16_8.sce')\n",
"filename=pathname+filesep()+'16_8data.sci'\n",
"exec(filename)\n",
"deff('[v]=f(z)','v=(W/(48*EI))*(4*z^3 -3*z*L^2)');\n",
"funcprot();\n",
"z=[0:0.05:L];\n",
"fplot2d(z,f);\n",
"xgrid(3);\n",
"datatipToggle();\n",
"xtitle( 'deflection curve', ' -z- ', '-v-');\n",
"printf('\nmaximum deflection: %f m',f(L/2));\n",
"printf('\n\nclick on the point to view its coordinate on the plot');"
   ]
   }
,
{
		   "cell_type": "markdown",
		   "metadata": {},
		   "source": [
			"## Example 16.9: Example_9.sce"
		   ]
		  },
  {
"cell_type": "code",
	   "execution_count": null,
	   "metadata": {
	    "collapsed": true
	   },
	   "outputs": [],
"source": [
"pathname=get_absolute_file_path('16_9.sce')\n",
"filename=pathname+filesep()+'16_9data.sci'\n",
"exec(filename)\n",
"clear\n",
"function[si]=sing(a,b)\n",
"    if(a<b) then\n",
"        si=0;\n",
"    else\n",
"        si=(a-b);\n",
"    end\n",
"endfunction\n",
"deff('[v]=f(z)','v=(1/EI)*(((W*z^3)/8) -((W/6)*(sing(z,a))^3)-((W/6)*(sing(z,2*a))^3)+((W/3)*(sing(z,3*a))^3)-((5*W*z*a^2)/8))');\n",
"for i=1:400*a\n",
"    x0=f((i-1)/100),x1=f(i/100),x2=f((i+1)/100);\n",
"    y1=(x0-x1),y2=(x1-x2);\n",
"    if(y1*y2<0) then\n",
"        if(y1<0) then\n",
"            P=i/100;\n",
"            P1=f(i/100);\n",
"        else\n",
"            Q=i/100;\n",
"            Q1=f(i/100);\n",
"        end\n",
"    end\n",
"end\n",
"z=[0:0.05:4*a];\n",
"fplot2d(z,f);\n",
"xgrid(3);\n",
"xtitle( 'deflection curve', ' -z- ', '-v-');\n",
"datatipToggle();\n",
"printf('\nmaximum positive deflection: %f m',P1);\n",
"printf('\nat z= %f m',P);\n",
"printf('\nmaximum negative deflection: %f m',Q1);\n",
"printf('\nat z= %f m',Q);\n",
"printf('\n\nclick on the point to view its coordinate on the plot');"
   ]
   }
],
"metadata": {
		  "kernelspec": {
		   "display_name": "Scilab",
		   "language": "scilab",
		   "name": "scilab"
		  },
		  "language_info": {
		   "file_extension": ".sce",
		   "help_links": [
			{
			 "text": "MetaKernel Magics",
			 "url": "https://github.com/calysto/metakernel/blob/master/metakernel/magics/README.md"
			}
		   ],
		   "mimetype": "text/x-octave",
		   "name": "scilab",
		   "version": "0.7.1"
		  }
		 },
		 "nbformat": 4,
		 "nbformat_minor": 0
}
