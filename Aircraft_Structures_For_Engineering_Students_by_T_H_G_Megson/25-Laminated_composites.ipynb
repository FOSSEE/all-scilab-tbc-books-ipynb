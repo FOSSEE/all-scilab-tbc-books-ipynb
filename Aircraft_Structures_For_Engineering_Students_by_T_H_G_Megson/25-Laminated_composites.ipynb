{
"cells": [
 {
		   "cell_type": "markdown",
	   "metadata": {},
	   "source": [
       "# Chapter 25: Laminated composites"
	   ]
	},
{
		   "cell_type": "markdown",
		   "metadata": {},
		   "source": [
			"## Example 25.1: Example_1.sce"
		   ]
		  },
  {
"cell_type": "code",
	   "execution_count": null,
	   "metadata": {
	    "collapsed": true
	   },
	   "outputs": [],
"source": [
"pathname=get_absolute_file_path('25_1.sce')\n",
"filename=pathname+filesep()+'25_1data.sci'\n",
"exec(filename)\n",
"clear\n",
"A=(L1*(Bc+Be1+Be2));\n",
"E1= ((Ec*L1*Bc)+(Ee*L1*(Be1+Be2)))/A;\n",
"S1=Load/A;\n",
"e1=S1/E1;\n",
"dell=e1*L;\n",
"v1= ((vc*L1*Bc)+(ve*L1*(Be1+Be2)))/A;\n",
"et=-e1*v1;\n",
"delt=-et*(Bc+Be1+Be2);\n",
"Se=e1*Ee;\n",
"Sc=e1*Ec;\n",
"printf('\nlengthening of the bar: %f mm',dell);\n",
"printf('\nreduction in thickness: %f mm',delt);\n",
"printf('\nσm(epoxy):  %f N/mm^2',Se);\n",
"printf('\nσf(carbon): %f N/mm^2',Sc);"
   ]
   }
,
{
		   "cell_type": "markdown",
		   "metadata": {},
		   "source": [
			"## Example 25.2: Example_2.sce"
		   ]
		  },
  {
"cell_type": "code",
	   "execution_count": null,
	   "metadata": {
	    "collapsed": true
	   },
	   "outputs": [],
"source": [
"pathname=get_absolute_file_path('25_2.sce')\n",
"filename=pathname+filesep()+'25_2data.sci'\n",
"exec(filename)\n",
"clear\n",
"vtl=vlt*(Et/El);\n",
"e1=(S1/El)-(vtl*S2/Et);\n",
"e2=(S2/Et)-(vlt*S1/El);\n",
"gammalt=S3/Glt;//γlt\n",
"printf('\nνtl:%f ',vtl);\n",
"printf('\nεl:%f ',e1);\n",
"printf('\nεt:%f ',e2);\n",
"printf('\nγlt:%f ',gammalt);"
   ]
   }
,
{
		   "cell_type": "markdown",
		   "metadata": {},
		   "source": [
			"## Example 25.3: Example_3.sce"
		   ]
		  },
  {
"cell_type": "code",
	   "execution_count": null,
	   "metadata": {
	    "collapsed": true
	   },
	   "outputs": [],
"source": [
"pathname=get_absolute_file_path('25_3.sce')\n",
"filename=pathname+filesep()+'25_3data.sci'\n",
"exec(filename)\n",
"clear\n",
"s11=1/El;\n",
"s22=1/Et;\n",
"s12=-vlt/El;\n",
"s33=1/Glt;\n",
"m=cos(theta),n=sin(theta);\n",
"P=[(s11*m^4)+(s22*n^4)+(2*s12*m*m*n*n)+(s33*m*m*n*n) (m*m*n*n)*(s11+s22-s33)+(m^4 +n^4)*s12 0;\n",
"   (m*m*n*n)*(s11+s22-s33)+(m^4 +n^4)*s12 (s11*n^4)+(s22*m^4)+(2*s12*m*m*n*n)+(s33*m*m*n*n) 0;\n",
"   ((-n*m^3 +m*n^3)*(2*s12 +s33))-(2*s22*m*n^3)+(2*n*s11*m^3) ((n*m^3 -m*n^3)*(2*s12 +s33))+(2*s11*m*n^3)-(2*n*s22*m^3) 0];\n",
"X=[S1;S2;0];\n",
"E=P*X;\n",
"printf('\nεx:  %f ',E(1));\n",
"printf('\nεy: %f ',E(2));\n",
"printf('\nγxy:%f ',E(3));"
   ]
   }
,
{
		   "cell_type": "markdown",
		   "metadata": {},
		   "source": [
			"## Example 25.4: Example_4.sce"
		   ]
		  },
  {
"cell_type": "code",
	   "execution_count": null,
	   "metadata": {
	    "collapsed": true
	   },
	   "outputs": [],
"source": [
"pathname=get_absolute_file_path('25_4.sce')\n",
"filename=pathname+filesep()+'25_4data.sci'\n",
"exec(filename)\n",
"clear\n",
"X1=a*tb*Ez1;\n",
"X2=b*ta*Ez2;\n",
"ez=Load/(2*X1+X2);\n",
"P1=ez*X1;\n",
"P2=ez*X2;\n",
"printf('\nP(flanges) %f N',P1);\n",
"printf('\nP(web) %f N',P2);"
   ]
   }
,
{
		   "cell_type": "markdown",
		   "metadata": {},
		   "source": [
			"## Example 25.5: Example_5.sce"
		   ]
		  },
  {
"cell_type": "code",
	   "execution_count": null,
	   "metadata": {
	    "collapsed": true
	   },
	   "outputs": [],
"source": [
"pathname=get_absolute_file_path('25_5.sce')\n",
"filename=pathname+filesep()+'25_5data.sci'\n",
"exec(filename)\n",
"clear\n",
"Ixx=(2*Ez1*a*tb*(b/2)^2) +(Ez2*ta*b^3)/12;\n",
"Iyy=(Ez1*tb*(2*a)^3)/12;\n",
"Ixy= Ez1*a*tb*a*(b/2) +Ez1*a*tb*(-a)*(-b/2);\n",
"P1=(-Mx*Ixy)/(Ixx*Iyy-Ixy*Ixy);\n",
"P2=(Mx*Iyy)/(Ixx*Iyy-Ixy*Ixy);\n",
"function[S1]=Sz1(x,y),//stress in flanges\n",
"    S1=Ez1*(P1*x+P2*y),\n",
"endfunction\n",
"function[S2]=Sz2(x,y),//stress in web\n",
"    S2=Ez2*(P1*x+P2*y),\n",
"endfunction\n",
"X=[Sz1(a,0.5*b);Sz1(0,0.5*b);Sz1(0,-0.5*b);Sz1(-a,-0.5*b);Sz2(0,0.5*b);Sz2(0,-0.5*b)];\n",
"printf('\nmaximum direct stress in the beam cross-section is: %f N/mm^2',max(X));"
   ]
   }
,
{
		   "cell_type": "markdown",
		   "metadata": {},
		   "source": [
			"## Example 25.6: Example_6.sce"
		   ]
		  },
  {
"cell_type": "code",
	   "execution_count": null,
	   "metadata": {
	    "collapsed": true
	   },
	   "outputs": [],
"source": [
"pathname=get_absolute_file_path('25_6.sce')\n",
"filename=pathname+filesep()+'25_6data.sci'\n",
"exec(filename)\n",
"clear\n",
"Ixx=((2*E12*t12*((L23/(2*L12))^2)*L12^3)+(E23*t23*L23^3))/12;\n",
"alpha=asin(L23*0.5/L12);\n",
"function[qb12]=qb12x(s1)\n",
"    qb12= 0.5*(t12*sin(alpha)*E12*Sy/Ixx)*s1^2;\n",
"endfunction\n",
"function[qb23]=qb23x(s2)\n",
"    qb23=((-E23*t23*Sy/Ixx)*(-0.5*L23*s2 +0.5*s2^2))+qb12x(L12);\n",
"endfunction\n",
"funcprot();\n",
"qs0=((Sy*L12)+(L23*L12*qb12x(L12)/3))/(L12*L23);\n",
"function[q12]=q12x(s1)\n",
"    q12=qb12x(s1)-qs0;\n",
"endfunction\n",
"function[q23]=q23x(s2)\n",
"    q23=qb23x(s2)-qs0;\n",
"endfunction\n",
"s1=linspace(0,L12,10*L12);\n",
"s2=linspace(0,L23,10*L23);\n",
"q12=feval(s1,q12x);\n",
"q23=feval(s2,q23x);\n",
"subplot(2,1,1)\n",
"plot2d(s1,q12);\n",
"xgrid(3)\n",
"xtitle('','s1','q12')\n",
"subplot(2,1,2)\n",
"plot2d(s2,q23);\n",
"xgrid(3)\n",
"xtitle('','s2','q23')\n",
"datatipToggle();\n",
"printf('\nclick on the point to view its coordinate on plot')"
   ]
   }
,
{
		   "cell_type": "markdown",
		   "metadata": {},
		   "source": [
			"## Example 25.7: Example_7.sce"
		   ]
		  },
  {
"cell_type": "code",
	   "execution_count": null,
	   "metadata": {
	    "collapsed": true
	   },
	   "outputs": [],
"source": [
"pathname=get_absolute_file_path('25_7.sce')\n",
"filename=pathname+filesep()+'25_7data.sci'\n",
"exec(filename)\n",
"clear\n",
"A=l*b;\n",
"q=T/(2*A);\n",
"P=(2*b/(t1*Gc))+(2*l/(t2*Gw));\n",
"w=q*((0.5*l/(Gw*t2))- 0.25*P);\n",
"X1=0.5*[l,-l],Y1=[w,-w];\n",
"X2=0.5*[l,-l],Y2=[-w,w];\n",
"X3=0.5*[b,-b],Y3=[w,-w];\n",
"X4=0.5*[b,-b],Y4=[-w,w];\n",
"subplot(2,2,1)\n",
"plot(X1,Y1),xgrid(3),xtitle('warpinr in 2-3(mm)','y','w')\n",
"subplot(2,2,2)\n",
"plot(X2,Y2),xgrid(3),xtitle('warpinr in 1-4(mm)','y','w')\n",
"subplot(2,2,3)\n",
"plot(X3,Y3),xgrid(3),xtitle('warpinr in 2-1(mm)','x','w')\n",
"subplot(2,2,4)\n",
"plot(X4,Y4),xgrid(3),xtitle('warpinr in 3-4(mm)','x','w')\n",
"datatipToggle();\n",
"printf('\nW1: %f mm',w);\n",
"printf('\nclick on the point to view its coordinate on plot')"
   ]
   }
,
{
		   "cell_type": "markdown",
		   "metadata": {},
		   "source": [
			"## Example 25.8: Example_8.sce"
		   ]
		  },
  {
"cell_type": "code",
	   "execution_count": null,
	   "metadata": {
	    "collapsed": true
	   },
	   "outputs": [],
"source": [
"pathname=get_absolute_file_path('25_8.sce')\n",
"filename=pathname+filesep()+'25_8data.sci'\n",
"exec(filename)\n",
"clear\n",
"GJ=2*G1*a*(t1^3)/3 +G2*b*(t2^3)/3;\n",
"dtheta=T/GJ;\n",
"tmax12=2*G1*(t1/2)*dtheta;\n",
"tmax23=2*G2*(t2/2)*dtheta;\n",
"maximum=tmax23;\n",
"if(tmax12>tmax23) then\n",
"    maximum=tmax12;\n",
"end\n",
"printf('\nmaximum shear stress: %f N/mm^2',maximum);\n",
"w1=-2*(0.5*a*b/2)*dtheta;\n",
"printf('\nw1: %f mm',w1);\n",
"X=[0;a],Y=[0,w1],X1=-X,Y1=-Y;\n",
"subplot(2,1,1),plot(X,Y),xgrid(3),xtitle('warping in upper flange','x','w');\n",
"subplot(2,1,2),plot(X1,Y1),xgrid(3),xtitle('warping in lower flange','x','w');\n",
"datatipToggle();\n",
"printf('\nclick on the point to view its coordinate on plot');"
   ]
   }
],
"metadata": {
		  "kernelspec": {
		   "display_name": "Scilab",
		   "language": "scilab",
		   "name": "scilab"
		  },
		  "language_info": {
		   "file_extension": ".sce",
		   "help_links": [
			{
			 "text": "MetaKernel Magics",
			 "url": "https://github.com/calysto/metakernel/blob/master/metakernel/magics/README.md"
			}
		   ],
		   "mimetype": "text/x-octave",
		   "name": "scilab",
		   "version": "0.7.1"
		  }
		 },
		 "nbformat": 4,
		 "nbformat_minor": 0
}
