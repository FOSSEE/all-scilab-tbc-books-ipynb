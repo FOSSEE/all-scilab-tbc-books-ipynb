{
"cells": [
 {
		   "cell_type": "markdown",
	   "metadata": {},
	   "source": [
       "# Chapter 18: Torsion of beams"
	   ]
	},
{
		   "cell_type": "markdown",
		   "metadata": {},
		   "source": [
			"## Example 18.1: Example_1.sce"
		   ]
		  },
  {
"cell_type": "code",
	   "execution_count": null,
	   "metadata": {
	    "collapsed": true
	   },
	   "outputs": [],
"source": [
"pathname=get_absolute_file_path('18_1.sce')\n",
"filename=pathname+filesep()+'18_1data.sci'\n",
"exec(filename)\n",
"clear\n",
"A=%pi*d*d/4;\n",
"tmin1=Tmax/(2*A*Smax);\n",
"tmin2= (Tmax*%pi*d*0.5*L)/(4*A*A*G*angle);\n",
"if(tmin1<tmin2) then\n",
"    printf('\nminimum allowable thickness is: %f mm',tmin2);\n",
"else\n",
"    printf('\nminimum allowable thickness is: %f mm',tmin1);\n",
"end"
   ]
   }
,
{
		   "cell_type": "markdown",
		   "metadata": {},
		   "source": [
			"## Example 18.2: Example_2.sce"
		   ]
		  },
  {
"cell_type": "code",
	   "execution_count": null,
	   "metadata": {
	    "collapsed": true
	   },
	   "outputs": [],
"source": [
"pathname=get_absolute_file_path('18_2.sce')\n",
"filename=pathname+filesep()+'18_2data.sci'\n",
"exec(filename)\n",
"clear\n",
"del=2*((b/tb)+(a/ta));//δ\n",
"A=a*b;\n",
"deff('[W41]=f(s1)','W41=(T/(2*A*G))*((s1/tb)+(del*a*s1/(4*A)))');\n",
"deff('[W12]=f1(s2)','W12=(T/(2*A*G))*((s2/ta)+(del*b*s2/(4*A)))');\n",
"deff('[W23]=f2(s1)','W23=-((T/(2*A*G))*((s1/tb)+(del*a*s1/(4*A))))');\n",
"deff('[W34]=f3(s2)','W34=-((T/(2*A*G))*((s2/ta)+(del*b*s2/(4*A))))');\n",
"deff('[Sz]=f4(s1)','Sz=0*s1');\n",
"deff('[Sz1]=f5(s2)','Sz1=0*s2');\n",
"funcprot(0);\n",
"s1=[-b/2:0.05:b/2];\n",
"s2=[-a/2:0.05:a/2];\n",
"subplot(2,2,1)\n",
"fplot2d(s1,f)\n",
"fplot2d(s1,f4)\n",
"xgrid(3);\n",
"xtitle( 'Wraping in 4-1', ' -y- ', '-w-');\n",
"subplot(2,2,2)\n",
"fplot2d(s2,f1)\n",
"fplot2d(s2,f5)\n",
"xgrid(3);\n",
"xtitle( 'Wraping in 1-2', ' -x- ', '-w-');\n",
"subplot(2,2,3)\n",
"fplot2d(s1,f2)\n",
"fplot2d(s1,f4)\n",
"xgrid(3);\n",
"xtitle( 'Wraping in 2-3', ' -y- ', '-w-');\n",
"subplot(2,2,4)\n",
"fplot2d(s2,f3)\n",
"fplot2d(s2,f5)\n",
"xgrid(3);\n",
"xtitle( 'Wraping in 3-4', ' -x- ', '-w-');\n",
"datatipToggle();\n",
"printf('\nclick on the point on the plot to view its coordinates')"
   ]
   }
,
{
		   "cell_type": "markdown",
		   "metadata": {},
		   "source": [
			"## Example 18.3: Example_3.sce"
		   ]
		  },
  {
"cell_type": "code",
	   "execution_count": null,
	   "metadata": {
	    "collapsed": true
	   },
	   "outputs": [],
"source": [
"pathname=get_absolute_file_path('18_3.sce')\n",
"filename=pathname+filesep()+'18_3data.sci'\n",
"exec(filename)\n",
"clear\n",
"J=(2*a*ty^3 + b*tx^3)/3;\n",
"if(tx>ty) then\n",
"    tmax=tx*T/J;\n",
"else\n",
"    tmax=ty*T/J;\n",
"end\n",
"printf('\nmaximum shear stress: %f N/mm^2',tmax);\n",
"Ixx=a*ty*b*b/2 +(tx*b^3)/12;\n",
"Es=(ty*(a*b)^2)/(4*Ixx);\n",
"deff('[W32]=f(s1)','W32=-2*(T/(J*G))*(0.5*Es*s1)');\n",
"deff('[W21]=f1(s2)','W21=-2*(T/(J*G))*(0.5*Es*a -0.5*a*s2)');\n",
"deff('[W43]=f2(s2)','W43=2*(T/(J*G))*(0.5*Es*a -0.5*a*s2)');\n",
"deff('[Sz]=f3(s1)','Sz=0*s1');\n",
"deff('[Sz1]=f4(s2)','Sz1=0*s2');\n",
"s1=[-b/2:0.05:b/2];\n",
"s2=[0:0.05:a];\n",
"subplot(3,1,1)\n",
"fplot2d(s2,f1)\n",
"fplot2d(s2,f4)\n",
"xgrid(3);\n",
"xtitle( 'Wraping in 2-1', ' -x- ', '-w-');\n",
"subplot(3,1,2)\n",
"fplot2d(s1,f)\n",
"fplot2d(s1,f3)\n",
"xgrid(3);\n",
"xtitle( 'Wraping in 3-2', ' -y- ', '-w-');\n",
"subplot(3,1,3)\n",
"fplot2d(s2,f2)\n",
"fplot2d(s2,f4)\n",
"xgrid(3);\n",
"xtitle( 'Wraping in 4-3', ' -x- ', '-w-');\n",
"datatipToggle();\n",
"printf('\nclick on the point on the plot to view its coordinates')"
   ]
   }
],
"metadata": {
		  "kernelspec": {
		   "display_name": "Scilab",
		   "language": "scilab",
		   "name": "scilab"
		  },
		  "language_info": {
		   "file_extension": ".sce",
		   "help_links": [
			{
			 "text": "MetaKernel Magics",
			 "url": "https://github.com/calysto/metakernel/blob/master/metakernel/magics/README.md"
			}
		   ],
		   "mimetype": "text/x-octave",
		   "name": "scilab",
		   "version": "0.7.1"
		  }
		 },
		 "nbformat": 4,
		 "nbformat_minor": 0
}
