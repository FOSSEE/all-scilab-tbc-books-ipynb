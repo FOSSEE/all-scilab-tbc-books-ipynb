{
"cells": [
 {
		   "cell_type": "markdown",
	   "metadata": {},
	   "source": [
       "# Chapter 6: Matrix Methods"
	   ]
	},
{
		   "cell_type": "markdown",
		   "metadata": {},
		   "source": [
			"## Example 6.1: Example_1.sce"
		   ]
		  },
  {
"cell_type": "code",
	   "execution_count": null,
	   "metadata": {
	    "collapsed": true
	   },
	   "outputs": [],
"source": [
"pathname=get_absolute_file_path('6_1.sce')\n",
"filename=pathname+filesep()+'6_1data.sci'\n",
"exec(filename)\n",
"//theta=θ,lambda=λ,mu=μ\n",
"theta12=0,lambda12=cos(theta12),mu12=sin(theta12);\n",
"theta13=%pi/2,lambda13=cos(theta13),mu13=sin(theta13);\n",
"theta23=%pi/2 + atan(L13/L12);lambda23=cos(theta23),mu23=sin(theta23);\n",
"L23=(L12^2 +L13^2)^0.5;\n",
"LL12=lambda12^2,LM12=lambda12*mu12,MM12=mu12^2;\n",
"LL13=lambda13^2,LM13=lambda13*mu13,MM13=mu13^2;\n",
"LL23=lambda23^2,LM23=lambda23*mu23,MM23=mu23^2;\n",
"K220=[LL12 LM12;LM12 MM12];\n",
"K222=(L12/L23)*[LL23 LM23;LM23 MM23];\n",
"K210=[-LL12 -LM12;-LM12 -MM12];\n",
"K232=(L12/L23)*[-LL23 -LM23;-LM23 -MM23];\n",
"K=K220+K222;\n",
"F=[FX2;FY2];\n",
"V=(L12/AE)*inv(K)*F;\n",
"u2=V(1,:),v2=V(2,:);\n",
"u1=0;v1=0;u3=0;v3=0;\n",
"F1=[K210';K232']*inv(K)*F;\n",
"S12=(AE/L12)*[lambda12 mu12]*[u2-u1;v2-v1];\n",
"S13=(AE/L13)*[lambda13 mu13]*[u3-u1;v3-v1];\n",
"S23=(AE/L23)*[lambda23 mu23]*[u3-u2;v3-v2];\n",
"x1=[-L12,-L12],y1=[0,L13];\n",
"x2=[-L12,u2],y2=[0,v2];\n",
"x3=[-L12,u2],y3=[L13,v2];\n",
"plot(x1,y1,x2,y2,x3,y3);\n",
"xgrid(3);\n",
"datatipToggle();\n",
"xtitle( 'framework after deformation', ' -x- ', ' -y- ',boxed = 1);\n",
"printf('\n\nu2: %f m',u2);\n",
"printf('\nv2: %f m',v2);\n",
"printf('\nFx,1: %f N',F1(1,:));\n",
"printf('\nFy,1: %f N',F1(2,:));\n",
"printf('\nFx,3: %f N',F1(3,:));\n",
"printf('\nFy,3: %f N',F1(4,:));\n",
"printf('\nS12: %f N',S12);\n",
"printf('\nS13: %f N',S13);\n",
"printf('\nS23: %f N',S23);\n",
"printf('\n\nclick on the point to view its coordinate on the plot');"
   ]
   }
,
{
		   "cell_type": "markdown",
		   "metadata": {},
		   "source": [
			"## Example 6.2: Example_2.sce"
		   ]
		  },
  {
"cell_type": "code",
	   "execution_count": null,
	   "metadata": {
	    "collapsed": true
	   },
	   "outputs": [],
"source": [
"pathname=get_absolute_file_path('6_2.sce')\n",
"filename=pathname+filesep()+'6_2data.sci'\n",
"exec(filename)\n",
"F=[-W;M;0;0];\n",
"P=EI*[(27/(2*L^3)) (9/(2*L^2)) (6/L^2) -(3/(2*L^2));\n",
"   (9/(2*L^2)) (6/L) (2/L) (1/L);\n",
"   (6/L^2) (2/L) (4/L) 0;\n",
"   -(3/(2*L^2)) (1/L) 0 (2/L)];\n",
"V=inv(P)*F;\n",
"Sy12= EI*(-(6*V(3)/(L^2))-(12*V(1)/(L^3)) -(6*V(2)/(L*L)));//Sy,12\n",
"deff('[M12]=f(x)','M12=EI*(((-6*x/L*L)+(4/L))*V(3) + ((-12*x/L^3)+(6/L^2))*V(1) +((-6*x/L*L)+(2/L))*V(2))');\n",
"x=[0:0.05:L];\n",
"fplot2d(x,f);\n",
"xgrid(3);\n",
"xtitle( 'M12 versus x', ' -x- ', 'M12');\n",
"datatipToggle();\n",
"printf('\nυ2: %f m',V(1));//v2\n",
"printf('\nθ2: %f ',V(2));//θ2\n",
"printf('\nθ2: %f ',V(3));//θ1\n",
"printf('\nθ2: %f ',V(4));//θ3\n",
"printf('\nSy,12: %f',Sy12);//Sy,12"
   ]
   }
,
{
		   "cell_type": "markdown",
		   "metadata": {},
		   "source": [
			"## Example 6.4: Example_4.sce"
		   ]
		  },
  {
"cell_type": "code",
	   "execution_count": null,
	   "metadata": {
	    "collapsed": true
	   },
	   "outputs": [],
"source": [
"pathname=get_absolute_file_path('6_4.sce')\n",
"filename=pathname+filesep()+'6_4data.sci'\n",
"exec(filename)\n",
"P=[1 P1(1) P1(2) P1(1)*P1(2);\n",
"   1 P2(1) P2(2) P2(1)*P2(2);\n",
"   1 P3(1) P3(2) P3(1)*P3(2);\n",
"   1 P4(1) P4(2) P4(1)*P4(2)];\n",
"alpha1=inv(P)*u;\n",
"alpha2=inv(P)*v;\n",
"alpha=[alpha1;alpha2];\n",
"deff('[Ex]=f(y)','Ex=alpha(2)+ y*alpha(4)');//εx\n",
"deff('[Ey]=f1(x)','Ey=alpha(7)+ x*alpha(8)');//εy\n",
"function[G]=Gxy(x,y)//γxy\n",
"    G=x*alpha(4) +y*alpha(8) +alpha(3)+alpha(6);\n",
"endfunction\n",
"//at the centre\n",
"Pc(1)=(P1(1)+P3(1))/2;\n",
"Pc(2)=(P1(2)+P3(2))/2;\n",
"Sy=(E/(1-V^2))*(f1(Pc(2)) +V*f(Pc(1)));\n",
"Sx=(E/(1-V^2))*(f(Pc(1)) +V*f1(Pc(2)));\n",
"gxy=Gxy(0,0);\n",
"txy=(E/(1-V^2))*0.5*(1-V)*gxy;//τxy\n",
"printf('\nσx: %f N/mm^2',Sx);\n",
"printf('\nσy: %f N/mm^2',Sy);\n",
"printf('\nτxy: %f N/mm^2',txy);"
   ]
   }
],
"metadata": {
		  "kernelspec": {
		   "display_name": "Scilab",
		   "language": "scilab",
		   "name": "scilab"
		  },
		  "language_info": {
		   "file_extension": ".sce",
		   "help_links": [
			{
			 "text": "MetaKernel Magics",
			 "url": "https://github.com/calysto/metakernel/blob/master/metakernel/magics/README.md"
			}
		   ],
		   "mimetype": "text/x-octave",
		   "name": "scilab",
		   "version": "0.7.1"
		  }
		 },
		 "nbformat": 4,
		 "nbformat_minor": 0
}
