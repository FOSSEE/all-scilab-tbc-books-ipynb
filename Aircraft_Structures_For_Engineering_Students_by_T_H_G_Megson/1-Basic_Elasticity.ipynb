{
"cells": [
 {
		   "cell_type": "markdown",
	   "metadata": {},
	   "source": [
       "# Chapter 1: Basic Elasticity"
	   ]
	},
{
		   "cell_type": "markdown",
		   "metadata": {},
		   "source": [
			"## Example 1.1: Example_1.sce"
		   ]
		  },
  {
"cell_type": "code",
	   "execution_count": null,
	   "metadata": {
	    "collapsed": true
	   },
	   "outputs": [],
"source": [
"pathname=get_absolute_file_path('1_01.sce')\n",
"filename=pathname+filesep()+'1_01data.sci'\n",
"exec(filename)\n",
"Sx1= p*d/(4*t);\n",
"Sy= p*d/(2*t);//σy\n",
"printf('\nLongitudnal stress produced by internal pressure: %f N/mm^2',Sx1);\n",
"printf('\nCircumferential stress produced by internal pressure (σy): %f N/mm^2',Sy);\n",
"Sx2= Load/(%pi*d*t);\n",
"printf('\ndirect stress due to the axial load: %f N/mm^2',Sx2);\n",
"Sx= Sx1+Sx2;//σx\n",
"printf('\nσx is: %f N/mm^2',Sx);\n",
"printf('\nσy is: %f N/mm^2',Sy);\n",
"Sn=(Sx)*(cos(theta))^2 + Sy*(sin(theta))^2;//σn\n",
"T= (Sx-Sy)*sin(2*(theta)) /2;//τ\n",
"printf('\nσn is: %f N/mm^2',Sn);\n",
"printf('\nτ is: %f N/mm^2',T);\n",
"Tmax= (Sx-Sy)/2;//τ max\n",
"printf('\nτmax: %f N/mm^2',Tmax);"
   ]
   }
,
{
		   "cell_type": "markdown",
		   "metadata": {},
		   "source": [
			"## Example 1.2: Example_2.sce"
		   ]
		  },
  {
"cell_type": "code",
	   "execution_count": null,
	   "metadata": {
	    "collapsed": true
	   },
	   "outputs": [],
"source": [
"pathname=get_absolute_file_path('1_02.sce')\n",
"filename=pathname+filesep()+'1_02data.sci'\n",
"exec(filename)\n",
"printf('\nbending moment due to direct loading in a vertical plane: %f N/mm^2',Load*t);\n",
"Sx1= Load/(%pi*(d^2)/4);//σx (axial load)\n",
"printf('\nσx (axial load) is: %f N/mm^2',Sx1);\n",
"I= %pi*(d^4)/64;// moment of Inertia\n",
"Sx2= t*Load*(d/2)*(1/I);//σx (bending moment)\n",
"printf('\nσx (bending moment) is: %f N/mm^2',Sx2)\n",
"Sx=Sx1+Sx2;//σx \n",
"J= %pi*(d^4)/32;//torsion constant\n",
"Txy=T*(d/2)*(1/J);//τxy\n",
"printf('\nSince the element is positioned at the bottom of the beam\nτxy:%fN/mm^2',-Txy);\n",
"printf('\nσx: %f N/mm^2',-Sx);\n",
"Sn=(-Sx)*(cos(theta))^2 +(-Txy)*sin(2*theta);//σn\n",
"T= (-Sx-0)*sin(2*theta)/2 -(-Txy)*cos(2*theta);//τ\n",
"printf('\nσn: %f N/mm^2',Sn);\n",
"printf('\n τ: %f N/mm^2)',T);"
   ]
   }
,
{
		   "cell_type": "markdown",
		   "metadata": {},
		   "source": [
			"## Example 1.3: Example_3.sce"
		   ]
		  },
  {
"cell_type": "code",
	   "execution_count": null,
	   "metadata": {
	    "collapsed": true
	   },
	   "outputs": [],
"source": [
"pathname=get_absolute_file_path('1_03.sce')\n",
"filename=pathname+filesep()+'1_03data.sci'\n",
"exec(filename)\n",
"Txy=((lLoad-Sx)*(lLoad-Sy))^0.5;\n",
"printf('\nτxy:%f N/mm^2',Txy);\n",
"printf(',%f N/mm^2',-Txy);\n",
"S=poly(0,'S');\n",
"y=(S^2)-(S*(Sx+Sy))+(Sx*Sy)-(Txy^2);\n",
"m=roots(y);\n",
"printf('\nσ1: %f N/mm^2',m(2,:));\n",
"printf('\nσ2:%f N/mm^2',m(1,:));\n",
"Tmax=abs((m(2,:)-m(1,:))/2);\n",
"printf('\nτmax: %f N/mm^2',Tmax);\n",
"//plotting mohr circle\n",
"x=abs((m(2,:)+m(1,:))/2);//Centre of circle\n",
"plot2d(0,0,-1,'031',' ',[x-Tmax-50,-Tmax-50,x+Tmax+100,Tmax+50]);\n",
"xgrid(3);\n",
"xarc(x-Tmax,Tmax,2*Tmax,2*Tmax,0,360*64);\n",
"x1=[m(1,:),m(2,:)],y1=[0,0];\n",
"x2=[Sx,Sy],y2=[Txy,-Txy];\n",
"x3=[Sx,Sx],y3=[Txy,0];\n",
"x4=[Sy,Sy],y4=[-Txy,0];\n",
"x5=[x,x],y5=[Tmax,-Tmax];\n",
"plot(x1,y1,x2,y2,'--',x3,y3,'--',x4,y4,'--',x5,y5,'--');\n",
"datatipToggle();\n",
"printf('\n\nclick on the point to view its coordinate on the plot');\n",
"xtitle( 'Mohr’s circle of stress', ' σ (N/mm^2)', ' τ (N/mm^2)', boxed = 1 );"
   ]
   }
,
{
		   "cell_type": "markdown",
		   "metadata": {},
		   "source": [
			"## Example 1.4: Example_4.sce"
		   ]
		  },
  {
"cell_type": "code",
	   "execution_count": null,
	   "metadata": {
	    "collapsed": true
	   },
	   "outputs": [],
"source": [
"pathname=get_absolute_file_path('1_04.sce')\n",
"filename=pathname+filesep()+'1_04data.sci'\n",
"exec(filename)\n",
"Ex= (1/E)*(Sx-v*Sy);//εx\n",
"Ey= (1/E)*(Sy-v*Sx);//εy\n",
"Ez= (1/E)*(0-v*(Sx+Sy));//εz\n",
"printf('\nεx: %f',Ex);\n",
"printf('\nεy: %f',Ey);\n",
"printf('\nεz: %f',Ez);\n",
"Tmax=(Sx-Sy)/2;//τmax\n",
"Gmax=2*(1+v)*Tmax/E;//γmax\n",
"printf('\nγmax: %f',Gmax);\n",
"printf('\nτmax: %f N/mm^2',Tmax);"
   ]
   }
,
{
		   "cell_type": "markdown",
		   "metadata": {},
		   "source": [
			"## Example 1.5: Example_5.sce"
		   ]
		  },
  {
"cell_type": "code",
	   "execution_count": null,
	   "metadata": {
	    "collapsed": true
	   },
	   "outputs": [],
"source": [
"pathname=get_absolute_file_path('1_05.sce')\n",
"filename=pathname+filesep()+'1_05data.sci'\n",
"exec(filename)\n",
"Ex= (1/E)*(Sx-v*Sy);//εx\n",
"Ey= (1/E)*(Sy-v*Sx);//εy\n",
"G=E/(2*(1+v));//shear modulus\n",
"Gxy=Txy/G;//γxy\n",
"printf('\n εx:  %f',Ex);\n",
"printf('\n εy: %f',Ey);\n",
"printf('\n G: %f',G);\n",
"printf('\nγxy:  %f',Gxy);\n",
"PE1=(Ex+Ey)/2 + 0.5*((Ex-Ey)^2 +Gxy^2)^0.5;//εI\n",
"PE2=(Ex+Ey)/2 - 0.5*((Ex-Ey)^2 +Gxy^2)^0.5;//εII\n",
"theta=0.5*atan(Gxy/(Ex-Ey)) *(180/%pi);//θ in degree\n",
"printf('\n εI:  %f',PE1);\n",
"printf('\nεII: %f',PE2);\n",
"printf('\n  θ:  %f degree',theta);\n",
"printf('\n  θ:  %f degree',theta+90);\n",
"//plotting mohr circle\n",
"x=abs((PE1+PE2)/2);//Centre\n",
"r=(abs(PE1)+abs(PE2))/2;//radius\n",
"plot2d(0,0,-1,'031',' ',[x- 1.5*r,-1.5*r,x+ 1.5*r,1.5*r]);\n",
"xgrid(3);\n",
"xarc(x-r,r,2*r,2*r,0,360*64);\n",
"x1=[PE1,PE2],y1=[0,0];\n",
"x2=[Ex,Ey],y2=0.5*[Gxy,-Gxy];\n",
"theta1=atan(Gxy/(2*Ex)) *(180/%pi);\n",
"plot(x1,y1);\n",
"plot(x2,y2);\n",
"xarc(x-r/4,r/4,r/2,r/2,0,theta1*64);\n",
"xarc(x-r/2,r/2,r,r,180*64,(180+theta1)*64);\n",
"datatipToggle();\n",
"printf('\n\nclick on the point to view its coordinate on the plot');\n",
"xtitle( 'Mohr’s circle of strain', ' ε', ' γ (gamma)', boxed = 1 );"
   ]
   }
,
{
		   "cell_type": "markdown",
		   "metadata": {},
		   "source": [
			"## Example 1.7: Example_7.sce"
		   ]
		  },
  {
"cell_type": "code",
	   "execution_count": null,
	   "metadata": {
	    "collapsed": true
	   },
	   "outputs": [],
"source": [
"pathname=get_absolute_file_path('1_07.sce')\n",
"filename=pathname+filesep()+'1_07data.sci'\n",
"exec(filename)\n",
"E1=0.5*(Ea+Ec) + (((Ea-Eb)^2 +(Ec-Eb)^2)/2)^0.5;\n",
"E2=0.5*(Ea+Ec) - (((Ea-Eb)^2 +(Ec-Eb)^2)/2)^0.5;\n",
"disp(E1,'εI=',E2,'εII=');\n",
"S1=E*(E1+ v*E2)/(1-v^2);//σI\n",
"S2=E*(E2+ v*E1)/(1-v^2);//σII\n",
"Sx=S1+S2;//σx\n",
"printf('\nσI: %f N/mm^2',S1);\n",
"printf('\nσII: %f N/mm^2',S2);\n",
"printf('\nσx: %f N/mm^2',Sx);\n",
"P=Sx*(%pi*d^2)/4;//axial tensile load\n",
"Txy=(((S1-S2)^2 -(S1+S2)^2)/4)^0.5;//τxy\n",
"printf('\nτxy: %f N/mm^2',Txy);\n",
"J=(%pi*d^4)/32;//torsion constant\n",
"T=2*Txy*J/d;//Torque\n",
"disp(p/10^3,'P in KN',P,'P(N)=');\n",
"disp(T/10^6,'T in KN.m',T,'T (N.mm)=');"
   ]
   }
],
"metadata": {
		  "kernelspec": {
		   "display_name": "Scilab",
		   "language": "scilab",
		   "name": "scilab"
		  },
		  "language_info": {
		   "file_extension": ".sce",
		   "help_links": [
			{
			 "text": "MetaKernel Magics",
			 "url": "https://github.com/calysto/metakernel/blob/master/metakernel/magics/README.md"
			}
		   ],
		   "mimetype": "text/x-octave",
		   "name": "scilab",
		   "version": "0.7.1"
		  }
		 },
		 "nbformat": 4,
		 "nbformat_minor": 0
}
