{
"cells": [
 {
		   "cell_type": "markdown",
	   "metadata": {},
	   "source": [
       "# Chapter 26: closed section beams"
	   ]
	},
{
		   "cell_type": "markdown",
		   "metadata": {},
		   "source": [
			"## Example 26.1: Example_1.sce"
		   ]
		  },
  {
"cell_type": "code",
	   "execution_count": null,
	   "metadata": {
	    "collapsed": true
	   },
	   "outputs": [],
"source": [
"pathname=get_absolute_file_path('26_1.sce')\n",
"filename=pathname+filesep()+'26_1data.sci'\n",
"exec(filename)\n",
"clear\n",
"L41=L23*cos(asin((L12-L34)/L23));\n",
"t41=t23;\n",
"C=[0;cos(asin((L12-L34)/L23));0;1];\n",
"S=[1;sin(asin((L12-L34)/L23));1;0];\n",
"P=[1 0 0 0 0 -t12*G 0;\n",
"   0 1 0 0 t23*G*cos(asin((L12-L34)/L23)) t23*G*sin(asin((L12-L34)/L23)) -t23*G*L12*cos(asin((L12-L34)/L23));\n",
"   0 0 1 0 0 t34*G -t34*G*L23*cos(asin((L12-L34)/L23));\n",
"   0 0 0 1 -t41*G 0 0;\n",
"   0 1 0 -1 0 0 0;\n",
"   L12 -L23*sin(asin((L12-L34)/L23)) -L34 0 0 0 0;\n",
"   0 L23*L12*cos(asin((L12-L34)/L23)) L34*L23*cos(asin((L12-L34)/L23)) 0 0 0 0];\n",
"X=[0;0;0;0;0;Load;Load*x];\n",
"q=inv(P)*X;\n",
"printf('\nτ12: %f N/mm^2',q(1)/t12);\n",
"printf('\nτ23: %f N/mm^2',q(2)/t23);\n",
"printf('\nτ34: %f N/mm^2',q(3)/t34);\n",
"printf('\nτ41: %f N/mm^2',q(4)/t41);"
   ]
   }
,
{
		   "cell_type": "markdown",
		   "metadata": {},
		   "source": [
			"## Example 26.2: Example_2.sce"
		   ]
		  },
  {
"cell_type": "code",
	   "execution_count": null,
	   "metadata": {
	    "collapsed": true
	   },
	   "outputs": [],
"source": [
"pathname=get_absolute_file_path('26_2.sce')\n",
"filename=pathname+filesep()+'26_2data.sci'\n",
"exec(filename)\n",
"clear\n",
"du=0;\n",
"P=[1 0 0 G*t*R;\n",
"   0 1 -G*t 2*R*G*t;\n",
"   0 0 1.79 -R\n",
"   0 0 -0.13 R];\n",
"X=[0;0;Load/(2*R*G*t);Load/((-0.5*%pi -6)*G*R*t)];\n",
"q=inv(P)*X;\n",
"printf('\nq12 = q34 = %f N/mm',q(1));\n",
"printf('\nq41= %f N/mm',q(2));\n",
"function[q23]=f(phi)\n",
"    q23=-R*G*t*q(4) -G*t*sin(phi)*q(3);\n",
"endfunction\n",
"phi=linspace(0,%pi,%pi*10);\n",
"q23=feval(phi,f);\n",
"plot2d(phi,q23);\n",
"xgrid(3),xtitle('q23 versus φ','φ','q23');\n",
"datatipToggle();"
   ]
   }
,
{
		   "cell_type": "markdown",
		   "metadata": {},
		   "source": [
			"## Example 26.3: Example_3.sce"
		   ]
		  },
  {
"cell_type": "code",
	   "execution_count": null,
	   "metadata": {
	    "collapsed": true
	   },
	   "outputs": [],
"source": [
"pathname=get_absolute_file_path('26_3.sce')\n",
"filename=pathname+filesep()+'26_3data.sci'\n",
"exec(filename)\n",
"clear\n",
"Tr=T*L1/2;\n",
"mu=(8*G*t/(A*E*(b+a)))^0.5;\n",
"L=L1/2;\n",
"k1=((T*(b-a)*10^3)/(8*a*b*G*t));\n",
"k2=1/(mu*cosh(mu*L));\n",
"k3=((4*(b-a))/(a*b*(b+a)));\n",
"k4=(2*T*(10^3)/(a*b*G*t*(b+a)));\n",
"function[th]=f(z)\n",
"    w=(k1*((k2*sinh(mu*z))-z));\n",
"    F=((k1*k3 +k4)*L*L*0.5 -(k1*k2*k3/mu)*cosh(mu*L));\n",
"    th=(k1*k2*k3/mu)*cosh(mu*z) -(k1*k3 +k4)*z*z*0.5 + F;\n",
"endfunction\n",
"funcprot();\n",
"printf('\nangle of twist at mid-span θ: %f rad',f(0));\n",
""
   ]
   }
,
{
		   "cell_type": "markdown",
		   "metadata": {},
		   "source": [
			"## Example 26.4: Example_4.sce"
		   ]
		  },
  {
"cell_type": "code",
	   "execution_count": null,
	   "metadata": {
	    "collapsed": true
	   },
	   "outputs": [],
"source": [
"pathname=get_absolute_file_path('26_4.sce')\n",
"filename=pathname+filesep()+'26_4data.sci'\n",
"exec(filename)\n",
"B=((a*t2)/6)+((b*t1)/18)*3;\n",
"A=((b*t1)/18)*6;\n",
"L1=Load/4;\n",
"x=L1/a;\n",
"d=b/3;\n",
"E=1,G=GE;\n",
"mu=(((G*t1)/(d*E))*((A+B)/(A*B)))^0.5;\n",
"D=(-x*A)/((A+B)*mu*cosh(L*0.5*mu));\n",
"function[Sb]=f(z)\n",
"     Sb=((D/B)*sinh(mu*z)) -(x/(A+B))*z;\n",
"endfunction\n",
"funcprot()\n",
"z=linspace(0,L,10*L);\n",
"Sb=feval(z,f);\n",
"plot2d(z,Sb);\n",
"xgrid(3),xtitle('σB versus z','z','σB');\n",
"datatipToggle()\n",
"printf('\nclick on the point to view its coordinate on the plot');"
   ]
   }
],
"metadata": {
		  "kernelspec": {
		   "display_name": "Scilab",
		   "language": "scilab",
		   "name": "scilab"
		  },
		  "language_info": {
		   "file_extension": ".sce",
		   "help_links": [
			{
			 "text": "MetaKernel Magics",
			 "url": "https://github.com/calysto/metakernel/blob/master/metakernel/magics/README.md"
			}
		   ],
		   "mimetype": "text/x-octave",
		   "name": "scilab",
		   "version": "0.7.1"
		  }
		 },
		 "nbformat": 4,
		 "nbformat_minor": 0
}
