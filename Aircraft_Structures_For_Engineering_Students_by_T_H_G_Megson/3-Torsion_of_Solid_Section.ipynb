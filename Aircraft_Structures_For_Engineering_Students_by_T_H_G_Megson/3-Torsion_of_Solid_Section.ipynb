{
"cells": [
 {
		   "cell_type": "markdown",
	   "metadata": {},
	   "source": [
       "# Chapter 3: Torsion of Solid Section"
	   ]
	},
{
		   "cell_type": "markdown",
		   "metadata": {},
		   "source": [
			"## Example 3.1: Example_1.sce"
		   ]
		  },
  {
"cell_type": "code",
	   "execution_count": null,
	   "metadata": {
	    "collapsed": true
	   },
	   "outputs": [],
"source": [
"pathname=get_absolute_file_path('3_1.sce')\n",
"filename=pathname+filesep()+'3_1data.sci'\n",
"exec(filename)\n",
"clear\n",
"J= (%pi*R^4)/2;\n",
"x=poly(0,'x');\n",
"y=poly(0,'y');\n",
"t= T*R/J;// τ\n",
"twistrate= T/(G*J);//rate of twist\n",
"deff('[Tzy]=f(x)','Tzy=T*x/J');//τzy\n",
"deff('[Tzx]=f1(y)','Tzx=-T*y/J');//τzx\n",
"funcprot(0);\n",
"function sh=shear(x,y),\n",
"    sh=(T/J)*(x^2 +y^2)^0.5;\n",
"endfunction\n",
"t=linspace(-5,5,50);\n",
"clf();\n",
"sh=feval(t,t,shear);\n",
"plot3d1(t,t,sh);\n",
"xtitle('STRESS DISTRIBUTION','X','Y','τ');\n",
"x=[-R:0.01:R];\n",
"y=[-R:0.01:R];\n",
"xset('window',1)\n",
"subplot(2,1,1);\n",
"fplot2d(x,f);\n",
"xgrid(3);\n",
"xtitle( 'shear stress', ' -x- ', ' τzy');\n",
"subplot(2,1,2);\n",
"fplot2d(y,f1,[2]);\n",
"xgrid(3);\n",
"xtitle( 'shear stress', ' -y-', ' τzx');\n",
"datatipToggle();\n",
"printf('\nrate of twist: %f',twistrate);\n",
"printf('\nτ= %f n/mm^2',t);\n",
"printf('\n\nclick on the point to view its coordinate on the plot');"
   ]
   }
,
{
		   "cell_type": "markdown",
		   "metadata": {},
		   "source": [
			"## Example 3.2: Example_2.sce"
		   ]
		  },
  {
"cell_type": "code",
	   "execution_count": null,
	   "metadata": {
	    "collapsed": true
	   },
	   "outputs": [],
"source": [
"pathname=get_absolute_file_path('3_2.sce')\n",
"filename=pathname+filesep()+'3_2data.sci'\n",
"exec(filename)\n",
"clear\n",
"J= (%pi*a^3 *b^3)/(a^2 +b^2);\n",
"twistrate= T/(G*J);//rate of twist\n",
"x=poly(0,'x');\n",
"y=poly(0,'y');\n",
"deff('[Tzy]=f(x)','Tzy=2*T*x/(%pi*b*a^3)');//τzy\n",
"deff('[Tzx]=f1(y)','Tzx=-2*T*y/(%pi*a*b^3)');//τzx\n",
"function w=wrap(x,y),\n",
"    w=((T*(b^2 -a^2))/(%pi*a^3 *b^3 *G))*x*y*1000;//warping\n",
"endfunction\n",
"t=linspace(-a,a,10*a);\n",
"clf();\n",
"w=feval(t,t,wrap);\n",
"plot3d1(t,t,w);\n",
"xtitle('wraping of cross section','x','y','w * 10^3');\n",
"x=[-a:0.01:a];\n",
"y=[-b:0.01:b];\n",
"xset('window',1)\n",
"subplot(2,1,1);\n",
"fplot2d(x,f);\n",
"xgrid(3);\n",
"xtitle( 'shear stress', ' -x- ', ' τzy');\n",
"subplot(2,1,2);\n",
"fplot2d(y,f1,[2]);\n",
"xgrid(3);\n",
"xtitle( 'shear stress', ' -y-', ' τzx');\n",
"datatipToggle();\n",
"printf('\nrate of twist: %f',twistrate);\n",
"printf('\n\nclick on the point to view its coordinate on the plot');"
   ]
   }
],
"metadata": {
		  "kernelspec": {
		   "display_name": "Scilab",
		   "language": "scilab",
		   "name": "scilab"
		  },
		  "language_info": {
		   "file_extension": ".sce",
		   "help_links": [
			{
			 "text": "MetaKernel Magics",
			 "url": "https://github.com/calysto/metakernel/blob/master/metakernel/magics/README.md"
			}
		   ],
		   "mimetype": "text/x-octave",
		   "name": "scilab",
		   "version": "0.7.1"
		  }
		 },
		 "nbformat": 4,
		 "nbformat_minor": 0
}
