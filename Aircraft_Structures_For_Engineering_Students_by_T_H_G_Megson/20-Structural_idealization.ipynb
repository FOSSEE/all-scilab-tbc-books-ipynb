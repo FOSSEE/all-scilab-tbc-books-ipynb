{
"cells": [
 {
		   "cell_type": "markdown",
	   "metadata": {},
	   "source": [
       "# Chapter 20: Structural idealization"
	   ]
	},
{
		   "cell_type": "markdown",
		   "metadata": {},
		   "source": [
			"## Example 20.1: Example_1.sce"
		   ]
		  },
  {
"cell_type": "code",
	   "execution_count": null,
	   "metadata": {
	    "collapsed": true
	   },
	   "outputs": [],
"source": [
"pathname=get_absolute_file_path('20_1.sce')\n",
"filename=pathname+filesep()+'20_1data.sci'\n",
"exec(filename)\n",
"L25=(L16*L12+L34*L23)/(L12+L23);\n",
"B1=A+ (t16*L16/6) +(t12*L12/6)*(2+(L25/L16));\n",
"B6=B1;\n",
"B2= 2*A + (t12*L12/6)*(2+(L16/L25))+(t25*L25/6) +(t23*L23/6)*(2+(L34/L25));\n",
"B5=B2;\n",
"B3=A + (t23*L23/6)*(2+(L25/L34)) + (t34*L34/6);\n",
"B4=B3;\n",
"printf('\nB1 = B6 = %f mm^2',B1);\n",
"printf('\nB2 = B5 = %f mm^2',B2);\n",
"printf('\nB3 = B4 = %f mm^2',B3)"
   ]
   }
,
{
		   "cell_type": "markdown",
		   "metadata": {},
		   "source": [
			"## Example 20.2: Example_2.sce"
		   ]
		  },
  {
"cell_type": "code",
	   "execution_count": null,
	   "metadata": {
	    "collapsed": true
	   },
	   "outputs": [],
"source": [
"pathname=get_absolute_file_path('20_2.sce')\n",
"filename=pathname+filesep()+'20_2data.sci'\n",
"exec(filename)\n",
"clear\n",
"Yc=(2*(B'*D) -B(1,:)*D(1,:))/((2*sum(B))-(B(1,:)+B(9,:)));\n",
"Y=D-Yc*ones(9,1);\n",
"for i=1:9\n",
"    Ixx(i)=B(i)*(Y(i))^2;\n",
"end\n",
"P=2*sum(Ixx)-Ixx(1)-Ixx(9);\n",
"for i=1:9\n",
"    Sz(i)=(Mx/P)*Y(i);//σz\n",
"end\n",
"printf('\nσz: %f N/mm^2',Sz);"
   ]
   }
,
{
		   "cell_type": "markdown",
		   "metadata": {},
		   "source": [
			"## Example 20.3: Example_3.sce"
		   ]
		  },
  {
"cell_type": "code",
	   "execution_count": null,
	   "metadata": {
	    "collapsed": true
	   },
	   "outputs": [],
"source": [
"pathname=get_absolute_file_path('20_3.sce')\n",
"filename=pathname+filesep()+'20_3data.sci'\n",
"exec(filename)\n",
"clear\n",
"Ixx=4*A*L^2;\n",
"B=[A;A;A;A];\n",
"Y=[L;L;-L;-L];\n",
"q(1)=(-Sy/Ixx)*B(1)*Y(1);\n",
"for i=2:4\n",
"    q(i)=((-Sy/Ixx)*B(i)*Y(i)) +q(i-1);\n",
"end\n",
"printf('\nq12: %f N/mm',q(1));\n",
"printf('\nq23: %f N/mm',q(2));\n",
"printf('\nq34: %f N/mm',q(3));"
   ]
   }
,
{
		   "cell_type": "markdown",
		   "metadata": {},
		   "source": [
			"## Example 20.4: Example_4.sce"
		   ]
		  },
  {
"cell_type": "code",
	   "execution_count": null,
	   "metadata": {
	    "collapsed": true
	   },
	   "outputs": [],
"source": [
"pathname=get_absolute_file_path('20_4.sce')\n",
"filename=pathname+filesep()+'20_4data.sci'\n",
"exec(filename)\n",
"clear\n",
"for i=1:8\n",
"    I(i)=B(i)*y(i)*y(i);\n",
"end\n",
"Ixx=sum(I);\n",
"P=(-Sy/Ixx);\n",
"qb1(1)=0,qb2(1)=0;\n",
"for i=2:3\n",
"    qb1(i)=P*B(i+1)*y(i+1) +qb1(i-1);\n",
"    qb2(i)=(P*B(i+5)*y(i+5) +qb2(i-1));\n",
"end\n",
"qb1(4)=qb1(2);\n",
"qb2(4)=qb2(2);\n",
"qb=[qb1;-qb2];\n",
"A= (y(1)+y(2))*x(3) +(y(2)+y(3))*x(2) +(y(3)+y(4))*x(1);\n",
"qs0=(qb(7)*(x(2)+x(3))*(2*y(1)) +2*qb(6)*(x(3)*y(2) +x(3)*(y(2)-y(1))) + 2*qb(1)*x(2)*y(3) -2*qb(2)*x(1)*y(3) -qb(3)*2*y(4)*x(1))/(2*A);\n",
"q=[qb1+qs0*ones(4,1);qb2+qs0*ones(4,1);];\n",
"disp('shear flow(in order q23,q34,q45,q56,q67,q12,q78,q81)');\n",
"printf('\n q: %f N/mm',q)"
   ]
   }
],
"metadata": {
		  "kernelspec": {
		   "display_name": "Scilab",
		   "language": "scilab",
		   "name": "scilab"
		  },
		  "language_info": {
		   "file_extension": ".sce",
		   "help_links": [
			{
			 "text": "MetaKernel Magics",
			 "url": "https://github.com/calysto/metakernel/blob/master/metakernel/magics/README.md"
			}
		   ],
		   "mimetype": "text/x-octave",
		   "name": "scilab",
		   "version": "0.7.1"
		  }
		 },
		 "nbformat": 4,
		 "nbformat_minor": 0
}
