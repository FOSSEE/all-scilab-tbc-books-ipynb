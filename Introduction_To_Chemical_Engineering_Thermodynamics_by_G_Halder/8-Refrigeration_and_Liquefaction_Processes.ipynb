{
"cells": [
 {
		   "cell_type": "markdown",
	   "metadata": {},
	   "source": [
       "# Chapter 8: Refrigeration and Liquefaction Processes"
	   ]
	},
{
		   "cell_type": "markdown",
		   "metadata": {},
		   "source": [
			"## Example 8.10: Air_Refrigeration_Cycle.sce"
		   ]
		  },
  {
"cell_type": "code",
	   "execution_count": null,
	   "metadata": {
	    "collapsed": true
	   },
	   "outputs": [],
"source": [
"clear;\n",
"clc;\n",
"\n",
"// Example: 8.10\n",
"// Page: 313\n",
"\n",
"printf('Example: 8.10 - Page: 313\n\n');\n",
"\n",
"// Solution\n",
"\n",
"//*****Data******//\n",
"Q = 5;// [tons]\n",
"T1 = 253;// [Temperature of the working fluid leaving the evaporator, K]\n",
"T2 = 303;// [Temperature of the working fluid leaving the evaporator, K]\n",
"T3 = 303;// [K]\n",
"Pressure_Ratio = 4;\n",
"C = 1.008;// [kJ/kg]\n",
"gama = 1.4;\n",
"//**************//\n",
"\n",
"// Solution (a)\n",
"T2 = T1*((Pressure_Ratio)^((gama - 1)/gama));// [K]\n",
"T2 = T1*(Pressure_Ratio)^((gama - 1)/gama);// [K]\n",
"T4 = T3/((Pressure_Ratio)^((gama - 1)/gama));// [K]\n",
"COP = T1/(T2 - T1);\n",
"printf('COP of Air Refrigeration System is %.2f\n',COP);\n",
"\n",
"// Solution (b)\n",
"mdot = Q*12660/(C*(T1 - T4));// [kg/h]\n",
"printf('Mass flow rate of the refrigerant is %.2f kg/h\n',mdot);\n",
"\n",
"// Solution (c)\n",
"Wcompression = mdot*C*(T2 - T3);// [kJ/h]\n",
"printf('The work of Compression is %.2f kW\n',Wcompression/3600);\n",
"\n",
"// Solution (d)\n",
"Wexpansion = mdot*C*(T1 - T4);// [kJ/h]\n",
"printf('The work of expansion is %.2f kW\n',Wexpansion/3600);\n",
"\n",
"// Solution (e)\n",
"Wnet = Wcompression - Wexpansion;// [kJ/h]\n",
"printf('Net work of the system is %.2f kW\n',Wnet/3600);"
   ]
   }
,
{
		   "cell_type": "markdown",
		   "metadata": {},
		   "source": [
			"## Example 8.1: Carnot_Refrigeration_Cycle.sce"
		   ]
		  },
  {
"cell_type": "code",
	   "execution_count": null,
	   "metadata": {
	    "collapsed": true
	   },
	   "outputs": [],
"source": [
"clear;\n",
"clc;\n",
"\n",
"// Example: 8.1\n",
"// Page: 297\n",
"\n",
"printf('Example: 8.1 - Page: 297\n\n');\n",
"\n",
"// Solution\n",
"\n",
"//*****Data******//\n",
"Tl = 273 - 4;// [K]\n",
"Th = 273 + 30;// [K]\n",
"Ql = 30;// [kW]\n",
"//*************//\n",
"\n",
"// Solution (a)\n",
"COP = Tl/(Th - Tl);\n",
"printf('The coeffecient of performance of the cycle is %.2f\n',COP);\n",
"\n",
"// Solution (b)\n",
"Wnet = Ql/COP;// [kW]\n",
"printf('The power required is %.2f kW\n',Wnet);\n",
"\n",
"// Solution (c)\n",
"Qh = Wnet + Ql;// [kW]\n",
"printf('The rate of heat rejection in the room is %.2f kW',Qh);"
   ]
   }
,
{
		   "cell_type": "markdown",
		   "metadata": {},
		   "source": [
			"## Example 8.2: Carnot_Refrigeration_Cycle.sce"
		   ]
		  },
  {
"cell_type": "code",
	   "execution_count": null,
	   "metadata": {
	    "collapsed": true
	   },
	   "outputs": [],
"source": [
"clear;\n",
"clc;\n",
"\n",
"// Example: 8.2\n",
"// Page: 298\n",
"\n",
"printf('Example: 8.2 - Page: 298\n\n');\n",
"\n",
"// Solution\n",
"\n",
"//*****Data******//\n",
"Tl = -10 + 273;// [K]\n",
"Th = 45 + 273;// [K]\n",
"Ql = 1;// [ton]\n",
"//*************//\n",
"\n",
"// Solution (a)\n",
"COP = Tl/(Th - Tl);\n",
"Wnet = Ql*3.516/COP;// [kW]\n",
"printf('The power consumption is %.3f kW\n',Wnet);\n",
"\n",
"// Solution (b)\n",
"Tl = -20 + 273;// [K]\n",
"Th = 45 + 273;// [K]\n",
"COP = Tl/(Th - Tl);\n",
"Ql = Wnet*COP;// [kW]\n",
"printf('Cooling Effect produced is %.3f kW\n',Ql);"
   ]
   }
,
{
		   "cell_type": "markdown",
		   "metadata": {},
		   "source": [
			"## Example 8.3: Carnot_Refrigeration_Cycle.sce"
		   ]
		  },
  {
"cell_type": "code",
	   "execution_count": null,
	   "metadata": {
	    "collapsed": true
	   },
	   "outputs": [],
"source": [
"clear;\n",
"clc;\n",
"\n",
"// Example: 8.3\n",
"// Page: 298\n",
"\n",
"printf('Example: 8.3 - Page: 298\n\n');\n",
"\n",
"// Solution\n",
"\n",
"// From Example 8.2:\n",
"\n",
"// For refrigerated space:\n",
"// Wnet = Ql/4.78 = 0.209*Ql;\n",
"\n",
"// For freezer box.\n",
"// Wnet = Ql/3.89 = 0.257*Ql\n",
"\n",
"percent = ((0.257 - 0.209)/0.209)*100;\n",
"printf('Increase in percentage of work output is %.2f %%',percent);"
   ]
   }
,
{
		   "cell_type": "markdown",
		   "metadata": {},
		   "source": [
			"## Example 8.4: Carnot_Refrigeration_Cycle.sce"
		   ]
		  },
  {
"cell_type": "code",
	   "execution_count": null,
	   "metadata": {
	    "collapsed": true
	   },
	   "outputs": [],
"source": [
"clear;\n",
"clc;\n",
"\n",
"// Example: 8.4\n",
"// Page: 299\n",
"\n",
"printf('Example: 8.4 - Page: 299\n\n');\n",
"\n",
"// Solution\n",
"\n",
"//*****Data******//\n",
"Th = 273 + 24;// [K]\n",
"Tl = 0 + 273;// [K]\n",
"Qh = 25;// [kW]\n",
"//*************//\n",
"\n",
"COP = Th/(Th - Tl);\n",
"Wnet = Qh/COP;// [kW]\n",
"printf('Coeffecient of performance of Carnot Heat Pump is %.2f\n',COP);\n",
"printf('Power input can be estimated as %.2f kW\n',Wnet);"
   ]
   }
,
{
		   "cell_type": "markdown",
		   "metadata": {},
		   "source": [
			"## Example 8.5: Carnot_Refrigeration_Cycle.sce"
		   ]
		  },
  {
"cell_type": "code",
	   "execution_count": null,
	   "metadata": {
	    "collapsed": true
	   },
	   "outputs": [],
"source": [
"clear;\n",
"clc;\n",
"\n",
"// Example: 8.5\n",
"// Page: 299\n",
"\n",
"printf('Example: 8.5 - Page: 299\n\n');\n",
"\n",
"// Solution\n",
"\n",
"//*****Data******//\n",
"Tl = -2 + 273;// [K]\n",
"Th = 20 + 273;// [K]\n",
"Qh = 80000;// [kJ/h]\n",
"//*************//\n",
"\n",
"Ql = Qh*Tl/Th;// [kJ/h]\n",
"Wnet = Qh - Ql;// [kJ/h]\n",
"printf('Minimum Power input required is %.3f kW\n',Wnet/3600);"
   ]
   }
,
{
		   "cell_type": "markdown",
		   "metadata": {},
		   "source": [
			"## Example 8.6: Vapour_Compression_Refrigeration_Cycle.sce"
		   ]
		  },
  {
"cell_type": "code",
	   "execution_count": null,
	   "metadata": {
	    "collapsed": true
	   },
	   "outputs": [],
"source": [
"clear;\n",
"clc;\n",
"\n",
"// Example: 8.6\n",
"// Page: 303\n",
"\n",
"printf('Example: 8.6 - Page: 303\n\n');\n",
"\n",
"// Solution\n",
"\n",
"//*****Data******//\n",
"Tl = 273;// [K]\n",
"Th = 313;// [K]\n",
"H1 = 187;// [Enthalpy of saturated vapour at 273 K, kJ/kg]\n",
"H3 = 74;// [Enthalpy of saturated liquid at 313 K,kJ/kg]\n",
"H4 = H3;// [kJ/kg]\n",
"H2 = 204;// [Enthalpy of Supersaturated Vapour at 273 K, kJ/kg]\n",
"//****************//\n",
"\n",
"// Solution (i)\n",
"// COP = Ql/Wnet;\n",
"COP = ((H1 - H4)/(H2 - H1));\n",
"printf('Enthalpy of saturated vapour is %.2f\n',COP);\n",
"\n",
"// Solution (ii)\n",
"Ref_Effect = H1 - H4;// [kJ/kg]\n",
"printf('Refrigerating Effect is %d kJ/kg\n',Ref_Effect);\n",
"\n",
"// Solution (iii)\n",
"COP = Tl/(Th - Tl);\n",
"printf('The COP of an ideal Carnot refrigerator is %.2f\n',COP);\n",
"\n",
"// Solution (iv)\n",
"W = H2 - H1;// [kJ/kg]\n",
"printf('Work done by the compression is %.2f kJ/kg\n',W);"
   ]
   }
,
{
		   "cell_type": "markdown",
		   "metadata": {},
		   "source": [
			"## Example 8.7: Vapour_Compression_Refrigeration_Cycle.sce"
		   ]
		  },
  {
"cell_type": "code",
	   "execution_count": null,
	   "metadata": {
	    "collapsed": true
	   },
	   "outputs": [],
"source": [
"clear;\n",
"clc;\n",
"\n",
"// Example: 8.7\n",
"// Page: 304\n",
"\n",
"printf('Example: 8.7 - Page: 304\n\n');\n",
"\n",
"// Solution\n",
"\n",
"//*****Data******//\n",
"P1 = 0.18;// [MPa]\n",
"T1 = -10 + 273;// [K]\n",
"mdot = 0.06;// [kg/s]\n",
"P2 = 1;// [MPa]\n",
"T2 = 45 + 273;// [K]\n",
"T = 273 + 29;// [K]\n",
"P = 0.75;// [MPa]\n",
"H1 = 245.16;// [Enthalpy of superheated vapour at -10 OC & 0.18 MPa, kJ/kg]\n",
"H2 = 277.2;// [Enthalpy of superheated vapour at 45 OC & 1 MPa, kJ/kg]\n",
"H3 = 92.22;// [Enthalpy of saturated liquid at 29 OC & 0.75 MPa, kJ/kg]\n",
"H4 = H3;// [kJ/kg]\n",
"//*************//\n",
"\n",
"// Solution (a)\n",
"Ql = mdot*(H1 - H4);// [kW]\n",
"printf('Amount of heat removed from cold space is %.2f kW\n',Ql);\n",
"\n",
"// Solution (b)\n",
"Wnet = mdot*(H2 - H1);// [kW]\n",
"printf('THe power input required is %.2f kW\n',Wnet);\n",
"\n",
"// Solution (c)\n",
"COP = Ql/Wnet;\n",
"printf('COP of refrigeration of cycle is %.2f\n',COP);"
   ]
   }
,
{
		   "cell_type": "markdown",
		   "metadata": {},
		   "source": [
			"## Example 8.8: Vapour_Compression_Refrigeration_Cycle.sce"
		   ]
		  },
  {
"cell_type": "code",
	   "execution_count": null,
	   "metadata": {
	    "collapsed": true
	   },
	   "outputs": [],
"source": [
"clear;\n",
"clc;\n",
"\n",
"// Example: 8.8\n",
"// Page: 305\n",
"\n",
"printf('Example: 8.8 - Page: 305\n\n');\n",
"\n",
"// Solution\n",
"\n",
"//*****Data******//\n",
"Ql = 5;// [tons]\n",
"Tl = -10 + 273;// [K]\n",
"Th = 35 + 273;// [K]\n",
"eta = 0.85;\n",
"H1 = 183.2;// [Enthalpy of saturated vapour at 263 K, kJ/kg]\n",
"H2 = 208.3;// [Enthalpy of superheated vapour, kJ/kg]\n",
"H3 = 69.5;// [Enthalpy of saturated vapour at 308 K, kJ/kg]\n",
"H4 = H3;// [kJ/kg]\n",
"//***************//\n",
"\n",
"// Solution (a)\n",
"// Mass flow rate:\n",
"Ql = Ql*3.516;// [kW]\n",
"mdot = Ql/(H1 - H4);// [kW]\n",
"printf('Mass flow rate of the refrigerant is %.4f kg/s\n',mdot);\n",
"\n",
"// Solution (b)\n",
"W = H2 - H1;// [kJ/kg]\n",
"Wnet = W*mdot/eta;// [kW]\n",
"printf('Power consumption in the compression is %.2f kW\n',Wnet);\n",
"\n",
"// Solution (c)\n",
"Qh = Ql + Wnet;// [kW]\n",
"printf('The amount of heat rejected in the condenser is %.2f kW\n',Qh);\n",
"\n",
"// Solution (d)\n",
"COP_VapourCompression = (H1 - H4)/(H2 - H1);\n",
"COP_Carnot = Tl/(Th - Tl);\n",
"COP_relative = COP_VapourCompression/COP_Carnot;\n",
"printf('Relative COP is %.2f\n',COP_relative);"
   ]
   }
,
{
		   "cell_type": "markdown",
		   "metadata": {},
		   "source": [
			"## Example 8.9: Absorption_Refrigeration_Cycle.sce"
		   ]
		  },
  {
"cell_type": "code",
	   "execution_count": null,
	   "metadata": {
	    "collapsed": true
	   },
	   "outputs": [],
"source": [
"clear;\n",
"clc;\n",
"\n",
"// Example: 8.9\n",
"// Page: 308\n",
"\n",
"printf('Example: 8.9 - Page: 308\n\n');\n",
"\n",
"// Solution\n",
"\n",
"//*****Data******//\n",
"Th = 273 + 125;// [K]\n",
"Tl = 273 - 5;// [K]\n",
"Ts = 273 + 28;// [K]\n",
"COP = 2;\n",
"//*************//\n",
"\n",
"COP_absorption = (Tl/(Ts - Tl))*((Th - Ts)/Th);\n",
"if (COP - 0.1) < COP_absorption | (COP + 0.1) > COP_absorption\n",
"    printf('Claim is Valid and reasonable');\n",
"else\n",
"    printf('Claim is not Valid');\n",
"end"
   ]
   }
],
"metadata": {
		  "kernelspec": {
		   "display_name": "Scilab",
		   "language": "scilab",
		   "name": "scilab"
		  },
		  "language_info": {
		   "file_extension": ".sce",
		   "help_links": [
			{
			 "text": "MetaKernel Magics",
			 "url": "https://github.com/calysto/metakernel/blob/master/metakernel/magics/README.md"
			}
		   ],
		   "mimetype": "text/x-octave",
		   "name": "scilab",
		   "version": "0.7.1"
		  }
		 },
		 "nbformat": 4,
		 "nbformat_minor": 0
}
