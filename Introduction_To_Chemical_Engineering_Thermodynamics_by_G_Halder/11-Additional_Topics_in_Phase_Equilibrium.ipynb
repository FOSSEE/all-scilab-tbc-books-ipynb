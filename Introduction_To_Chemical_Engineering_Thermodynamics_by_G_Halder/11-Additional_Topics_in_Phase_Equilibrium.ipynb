{
"cells": [
 {
		   "cell_type": "markdown",
	   "metadata": {},
	   "source": [
       "# Chapter 11: Additional Topics in Phase Equilibrium"
	   ]
	},
{
		   "cell_type": "markdown",
		   "metadata": {},
		   "source": [
			"## Example 11.1: Depression_of_Freezing_Point_of_Solution.sce"
		   ]
		  },
  {
"cell_type": "code",
	   "execution_count": null,
	   "metadata": {
	    "collapsed": true
	   },
	   "outputs": [],
"source": [
"clear;\n",
"clc;\n",
"\n",
"// Example: 11.1\n",
"// Page: 458\n",
"\n",
"printf('Example: 11.1 - Page: 458\n\n');\n",
"\n",
"// Solution\n",
"\n",
"//*****Data******//\n",
"a = 2.423;// [g]\n",
"b = 100;// [g]\n",
"Lf = 35.7;// [cal/g]\n",
"Tf = 353.1;// [cal/g]\n",
"delta_Tf = 0.64;// [OC]\n",
"R = 2;// [cal/mol K]\n",
"Mw = 32;// [Molecular wt. of Sulphur, g/mol]\n",
"//*************//\n",
"\n",
"M2 =  ((R*Tf^2/(1000*Lf))*(a*1000/(b)))/delta_Tf;// [g/mol]\n",
"n = M2/Mw;\n",
"printf('Molecular Formula of Sulphur is S%d',round(n));"
   ]
   }
,
{
		   "cell_type": "markdown",
		   "metadata": {},
		   "source": [
			"## Example 11.2: Depression_of_Freezing_Point_of_Solution.sce"
		   ]
		  },
  {
"cell_type": "code",
	   "execution_count": null,
	   "metadata": {
	    "collapsed": true
	   },
	   "outputs": [],
"source": [
"clear;\n",
"clc;\n",
"\n",
"// Example: 11.2\n",
"// Page: 459\n",
"\n",
"printf('Example: 11.2 - Page: 459\n\n');\n",
"\n",
"// Solution\n",
"\n",
"//*****Data******//\n",
"Tf = 5 + 273;// [K]\n",
"Lf = 9830;// [J/mol]\n",
"R = 8.314;// [J/mol K]\n",
"M1 = 78;// [kg/kmol]\n",
"//**************//\n",
"\n",
"Kf = R*Tf^2*M1/(1000*Lf);// [kg/kmol]\n",
"printf('Molal Freezing point is %.2f kg/kmol\n',Kf);"
   ]
   }
,
{
		   "cell_type": "markdown",
		   "metadata": {},
		   "source": [
			"## Example 11.3: Depression_of_Freezing_Point_of_Solution.sce"
		   ]
		  },
  {
"cell_type": "code",
	   "execution_count": null,
	   "metadata": {
	    "collapsed": true
	   },
	   "outputs": [],
"source": [
"clear;\n",
"clc;\n",
"\n",
"// Example: 11.3\n",
"// Page: 458\n",
"\n",
"printf('Example: 11.3 - Page: 458\n\n');\n",
"\n",
"// Solution\n",
"\n",
"//*****Data******//\n",
"T_melting = 40;// [OC]\n",
"Tf = T_melting + 273;// [K]\n",
"a = 0.172;// [g]\n",
"b = 12.54;// [g]\n",
"T_new = 39.25;// [OC]\n",
"M2 = 135;// [Molecular wt. of acetanilide, g/mol]\n",
"R = 2;// [cal/mol K]\n",
"//**************//\n",
"\n",
"delta_T = T_melting - T_new;// [OC]\n",
"Kf = delta_T*b*M2/(1000*a);\n",
"Lv = ((R*Tf^2/(1000)))/Kf;// [cal/g]\n",
"printf('Latent Heat of Fusion of phenol is %.2f cal/g\n',Lv);"
   ]
   }
,
{
		   "cell_type": "markdown",
		   "metadata": {},
		   "source": [
			"## Example 11.4: Elevation_Of_Boiling_Point_Of_Solution.sce"
		   ]
		  },
  {
"cell_type": "code",
	   "execution_count": null,
	   "metadata": {
	    "collapsed": true
	   },
	   "outputs": [],
"source": [
"clear;\n",
"clc;\n",
"\n",
"// Example: 11.4\n",
"// Page: 461\n",
"\n",
"printf('Example: 11.4 - Page: 461\n\n');\n",
"\n",
"// Solution\n",
"\n",
"//*****Data******//\n",
"T_boiling = 118.24;// [OC]\n",
"Tb = T_boiling + 273;// [K]\n",
"a = 0.4344;// [g]\n",
"b = 44.16;// [g]\n",
"Lv = 121;// [cal/g]\n",
"T_new = 118.1;// [OC]\n",
"R = 2;// [cal/mol K]\n",
"//**************//\n",
"\n",
"delta_Tb = T_boiling - T_new;// [OC]\n",
"M2 = (R*Tb^2/(1000*Lv))*(a*1000/(b*delta_Tb));\n",
"printf('Molecular weight of anthracene is %d kg/kmol',round(M2));"
   ]
   }
,
{
		   "cell_type": "markdown",
		   "metadata": {},
		   "source": [
			"## Example 11.5: Elevation_Of_Boiling_Point_Of_Solution.sce"
		   ]
		  },
  {
"cell_type": "code",
	   "execution_count": null,
	   "metadata": {
	    "collapsed": true
	   },
	   "outputs": [],
"source": [
"clear;\n",
"clc;\n",
"\n",
"// Example: 11.5\n",
"// Page: 462\n",
"\n",
"printf('Example: 11.5 - Page: 462\n\n');\n",
"\n",
"// Solution\n",
"\n",
"//*****Data******//\n",
"delta_Tb = 2.3;// [K]\n",
"w1 = 100;// [g]\n",
"M1 = 78;// [g/mol]\n",
"w2 = 13.86;// [g]\n",
"M2 = 154;// [g/mol]\n",
"Tb = 353.1;// [K]\n",
"R = 8.314;// [J/mol K]\n",
"//****************//\n",
"\n",
"// Molality:\n",
"m = w2*1000/(w1*M2);// [mol/kg]\n",
"// Molal Elevation Constant:\n",
"Kb = delta_Tb/m;// [K kg/mol]\n",
"// Molar Latent Heat of Vaporisation:\n",
"Lv = R*Tb^2*M1/(1000*Kb);// [J/mol]\n",
"printf('Molar Latent Heat of Vaporisation is %d J/mol',Lv);"
   ]
   }
,
{
		   "cell_type": "markdown",
		   "metadata": {},
		   "source": [
			"## Example 11.6: Osmotic_Pressure_and_Equilibria.sce"
		   ]
		  },
  {
"cell_type": "code",
	   "execution_count": null,
	   "metadata": {
	    "collapsed": true
	   },
	   "outputs": [],
"source": [
"\n",
"clear;\n",
"clc;\n",
"\n",
"// Example: 11.6\n",
"// Page: 465\n",
"\n",
"printf('Example: 11.6 - Page: 465\n\n');\n",
"\n",
"// Solution\n",
"\n",
"//*****Data******//\n",
"Temp = 50 + 273;// [K]\n",
"w2 = 60;// [g]\n",
"w1 = 1500;// [g]\n",
"M1 = 18;// [g/mol]\n",
"M2 = 180;// [g/mol]\n",
"Vl = 18*10^(-6);// [Molar Volume of water, cubic m/mol]\n",
"R = 8.314;// [J/mol K]\n",
"//***************//\n",
"\n",
"// Mole fraction of glucose:\n",
"x2 = (w2/M2)/((w2/M2) + (w1/M1));\n",
"// Applying Eqn. (11.45):\n",
"P = R*Temp*x2/Vl;// [N/square m]\n",
"P = P/1000;// [kPa]\n",
"printf('Osmotic Pressure is %.2f kPa\n',P);"
   ]
   }
,
{
		   "cell_type": "markdown",
		   "metadata": {},
		   "source": [
			"## Example 11.7: Osmotic_Pressure_and_Equilibria.sce"
		   ]
		  },
  {
"cell_type": "code",
	   "execution_count": null,
	   "metadata": {
	    "collapsed": true
	   },
	   "outputs": [],
"source": [
"clear;\n",
"clc;\n",
"\n",
"// Example: 11.7\n",
"// Page: 465\n",
"\n",
"printf('Example: 11.7 - Page: 465\n\n');\n",
"\n",
"// Solution\n",
"\n",
"//*****Data******//\n",
"w2 = 0.6;// [g]\n",
"w3 = 1.8;// [g]\n",
"Temp = 27 + 273;// [K]\n",
"V1 = 100;// [cubic cm]\n",
"M2 = 60;// [g/mol]\n",
"M3 = 180;// [g/mol]\n",
"R = 0.082;// [L.atm/mol.K]\n",
"//****************//\n",
"\n",
"V1 = V1/1000;// [litre]\n",
"// C: Concentration per litre\n",
"C = ((w2/M2) + (w3/M3))/V1;// [mol/litre]\n",
"P = C*R*Temp;// [atm]\n",
"printf('Osmotic Pressure of the solution is %.2f atm',P);"
   ]
   }
],
"metadata": {
		  "kernelspec": {
		   "display_name": "Scilab",
		   "language": "scilab",
		   "name": "scilab"
		  },
		  "language_info": {
		   "file_extension": ".sce",
		   "help_links": [
			{
			 "text": "MetaKernel Magics",
			 "url": "https://github.com/calysto/metakernel/blob/master/metakernel/magics/README.md"
			}
		   ],
		   "mimetype": "text/x-octave",
		   "name": "scilab",
		   "version": "0.7.1"
		  }
		 },
		 "nbformat": 4,
		 "nbformat_minor": 0
}
