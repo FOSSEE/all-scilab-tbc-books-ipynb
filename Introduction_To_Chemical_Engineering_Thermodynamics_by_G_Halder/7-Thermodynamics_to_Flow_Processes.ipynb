{
"cells": [
 {
		   "cell_type": "markdown",
	   "metadata": {},
	   "source": [
       "# Chapter 7: Thermodynamics to Flow Processes"
	   ]
	},
{
		   "cell_type": "markdown",
		   "metadata": {},
		   "source": [
			"## Example 7.10: Nozzles_and_Diffusers.sce"
		   ]
		  },
  {
"cell_type": "code",
	   "execution_count": null,
	   "metadata": {
	    "collapsed": true
	   },
	   "outputs": [],
"source": [
"clear;\n",
"clc;\n",
"\n",
"// Example: 7.10\n",
"// Page: 280\n",
"\n",
"printf('Example: 7.10 - Page: 280\n\n');\n",
"\n",
"// Solution\n",
"\n",
"//*****Data******//\n",
"P1 = 800;// [kPa]\n",
"T1 = 773;// [K]\n",
"H1 = 3480;// [kJ/kg]\n",
"P2 = 100;// [kPa]\n",
"T2 = 573;// [K]\n",
"H2 = 3074;// [kJ/kg]\n",
"//***************//\n",
"\n",
"// Solution (a)\n",
"// Velocity of the fluid exiting the nozzle:\n",
"// U2 = sqrt(U1^2 + 2*(H1 - H2))\n",
"// Neglecting initial velocity:\n",
"U2 = sqrt(2*(H1 - H2)*1000);// [m/s]\n",
"printf('(a) Final Velocity is %.2f m/s\n',U2);\n",
"\n",
"// Solution (b)\n",
"U1 = 40;// [m/s]\n",
"U2 = sqrt((U1^2 + 2*(H1 - H2))*1000);// [m/s]\n",
"printf('(b) Final Velocity is %.2f m/s\n',U2);"
   ]
   }
,
{
		   "cell_type": "markdown",
		   "metadata": {},
		   "source": [
			"## Example 7.11: Nozzles_and_Diffusers.sce"
		   ]
		  },
  {
"cell_type": "code",
	   "execution_count": null,
	   "metadata": {
	    "collapsed": true
	   },
	   "outputs": [],
"source": [
"clear;\n",
"clc;\n",
"\n",
"// Example: 7.11\n",
"// Page: 281\n",
"\n",
"printf('Example: 7.11 - Page: 281\n\n');\n",
"\n",
"// Solution\n",
"\n",
"//*****Data******//\n",
"P1 = 100;// [kPa]\n",
"T1 = 200;// [OC]\n",
"U1 = 190;// [m/s]\n",
"A1 = 2000/10^4;// [square m]\n",
"U2 = 70;// [m/s]\n",
"P2 = 200;// [kPa]\n",
"Qdot = 100;// [kW]\n",
"V1 = 2.172;// [cubic m/kg]\n",
"H1 = 2875.3;// [kJ/kg]\n",
"//***************//\n",
"\n",
"// Solution (a)\n",
"mdot = U1*A1/V1;// [kg/s]\n",
"printf('Mass flow rate of the steam is %.2f kg/s\n',mdot);\n",
"\n",
"// Solution (b)\n",
"// Amount of heat transferred to the surrounding per unit steam:\n",
"Q = Qdot/mdot;// [kJ/kg]\n",
"// The Enthalpy at the diffuser outlet can be estimated as:\n",
"H2 = Q + H1 + (U1^2 - U2^2)/2;// [kJ/kg]\n",
"// From the steam table:\n",
"T2 = 393.38;// [K]\n",
"V2 = 1.123;// [cubic m/kg]\n",
"printf('The temperature of the steam leaving the outlet is %.2f K\n',T2);\n",
"\n",
"// Solution (c)\n",
"A2 = V2*mdot/U2;// [square m]\n",
"printf('Area of diffuser outlet is %.2f square m\n',A2);"
   ]
   }
,
{
		   "cell_type": "markdown",
		   "metadata": {},
		   "source": [
			"## Example 7.1: Steady_Flow_Process_and_Devices.sce"
		   ]
		  },
  {
"cell_type": "code",
	   "execution_count": null,
	   "metadata": {
	    "collapsed": true
	   },
	   "outputs": [],
"source": [
"clear;\n",
"clc;\n",
"\n",
"// Example: 7.1\n",
"// Page: 256\n",
"\n",
"printf('Example: 7.1 - Page: 256\n\n');\n",
"\n",
"// Solution\n",
"\n",
"// *****Data******//\n",
"d1 = 0.15;// [inlet dia, m]\n",
"d2 = 0.20;// [outlet dia, m]\n",
"U1 = 7;// [inlet velocity, m/s]\n",
"//****************//\n",
"\n",
"// From Fig. 7.2 (Pg 256)\n",
"// At the inlet:\n",
"A1 = (%pi/4)*d1^2;// [square m]\n",
"// At the outlet:\n",
"A2 = (%pi/4)*d2^2;// [square m]\n",
"Q = A1*U1;// [cubic m/s]\n",
"printf('Flow rate is %.4f m/s\n',Q);\n",
"// Using Continuity Eqn.\n",
"// density1*U1*A1 = Density2*U2*A2\n",
"// For water: Density1 = Density2. Therefore:\n",
"U2 = A1*U1/A2;\n",
"printf('Velocity of water at the outlet is %.3f m/s',U2);"
   ]
   }
,
{
		   "cell_type": "markdown",
		   "metadata": {},
		   "source": [
			"## Example 7.2: Steady_Flow_Processes_and_Devices.sce"
		   ]
		  },
  {
"cell_type": "code",
	   "execution_count": null,
	   "metadata": {
	    "collapsed": true
	   },
	   "outputs": [],
"source": [
"clear;\n",
"clc;\n",
"\n",
"// Example: 7.2\n",
"// Page: 257\n",
"\n",
"printf('Example: 7.2 - Page: 257\n\n');\n",
"\n",
"// Solution\n",
"\n",
"//*****Data******//\n",
"d1 = 0.2;// [m]\n",
"d2 = 0.15;// [m]\n",
"d3 = 0.1;// [m]\n",
"U1 = 3;// [m/s]\n",
"U2 = 2.5;// [m/s]\n",
"//**************//\n",
"\n",
"// From Fig. 7.3 (Pg: 257)\n",
"// For pipe I:\n",
"A1 = (%pi/4)*d1^2;// [square m]\n",
"Q1 = A1*U1;// [cubic m/s]\n",
"// For pipe II:\n",
"A2 = (%pi/4)*d2^2;// [square m]\n",
"Q2 = A2*U2;// [cubic m/s]\n",
"// For pipe III:\n",
"A3 = (%pi/4)*d3^2;// [square m]\n",
"// From continuity Eqn.:\n",
"Q3 = Q1 - Q2;// [cubic m/s]\n",
"U3 = Q3/A3;// [m/s]\n",
"printf('Discharge through the 10 cm pipe is %.4f cubic m/sec\n',Q1);\n",
"printf('Average velocity in the 15 cm pipe is %.2f m/s',U3);"
   ]
   }
,
{
		   "cell_type": "markdown",
		   "metadata": {},
		   "source": [
			"## Example 7.3: Energy_Analysis_of_Control_Volume.sce"
		   ]
		  },
  {
"cell_type": "code",
	   "execution_count": null,
	   "metadata": {
	    "collapsed": true
	   },
	   "outputs": [],
"source": [
"clear;\n",
"clc;\n",
"\n",
"// Example: 7.3\n",
"// Page: 262\n",
"\n",
"printf('Example: 7.3 - Page: 262\n\n');\n",
"\n",
"// Solution\n",
"\n",
"//*****Data******//\n",
"d1 = 0.3;// [m]\n",
"d2 = 0715;//[m]\n",
"Q = 40/1000;// [cubic m/s]\n",
"Z1 = 8;// [m]\n",
"Z2 = 6;// [m]\n",
"P1 = 5*10^5;// [Pa]\n",
"density = 1000;// [kg/cubic m]\n",
"g = 9.81;// [m/square s]\n",
"//*************//\n",
"\n",
"// From Fig. 7.3 (Pg: 262)\n",
"A1 = (%pi/4)*d1^2;// [square m]\n",
"A2 = (%pi/4)*d2^2;// [square m]\n",
"U1 = Q/A1;// [m/s]\n",
"U2 = Q/A2;// [m/s]\n",
"// Applying Bernoulli's equations at sections 1 & 2:\n",
"P2 =  ((U1^2/(2*g) + Z1 + P1/(density*g)) - (U2^2/(2*g) + Z2))*(density*g);// [Pa]\n",
"printf('Pressure at section 2 is %.2f bar',P2/10^5);"
   ]
   }
,
{
		   "cell_type": "markdown",
		   "metadata": {},
		   "source": [
			"## Example 7.4: Compressor.sce"
		   ]
		  },
  {
"cell_type": "code",
	   "execution_count": null,
	   "metadata": {
	    "collapsed": true
	   },
	   "outputs": [],
"source": [
"clear;\n",
"clc;\n",
"\n",
"// Example: 7.4\n",
"// Page: 268\n",
"\n",
"printf('Example: 7.4 - Page: 268\n\n');\n",
"\n",
"// Solution\n",
"\n",
"//*****Data******//\n",
"P1 = 100;// [kPa]\n",
"T1 = 320;// [K]\n",
"P2 = 600;// [kPa]\n",
"T2 = 430;// [K]\n",
"m_dot = 0.03;// [kg/s]\n",
"Qout = 15;// [kJ/kg]\n",
"//*************//\n",
"\n",
"// The energy balance around the compressor:\n",
"// dE_System/dt = Ein - Eout\n",
"// Since it is a steady state process:\n",
"// dE_Sysytem/dt = 0\n",
"// Ein = Eout\n",
"// Win + m_dot*H1 = Qout + m_dot*H2\n",
"// Since, Qout = Qout/m\n",
"// Win = m_dot*(Qout + (H2 - H1))\n",
"// From enthalpy chart of air:\n",
"H1 = 320.20;// [Enthalpy of air at 320 K, kJ/kg]\n",
"H2 = 431.43;// [Enthalpy of air at 430 K, kJ/kg]\n",
"Win = m_dot*(Qout + (H2 - H1));// [kW]\n",
"printf('Power Requirement of the compressor is %.2f kW',Win);"
   ]
   }
,
{
		   "cell_type": "markdown",
		   "metadata": {},
		   "source": [
			"## Example 7.5: Compressor.sce"
		   ]
		  },
  {
"cell_type": "code",
	   "execution_count": null,
	   "metadata": {
	    "collapsed": true
	   },
	   "outputs": [],
"source": [
"clear;\n",
"clc;\n",
"\n",
"// Example: 7.5\n",
"// Page: 269\n",
"\n",
"printf('Example: 7.5 - Page: 269\n\n');\n",
"\n",
"// Solution\n",
"\n",
"//*****Data******//\n",
"P1 = 100;// [kPa]\n",
"T1 = 250;// [K]\n",
"Q = 0.1;// [cubic m/s]\n",
"P2 = 500;// [kPa]\n",
"M = 44;// [g/mol]\n",
"R = 8.314;// [J/mol K]\n",
"//****************//\n",
"\n",
"// Solution (a)\n",
"// Work done by reversible adiabatic compression, gama = 1.4;\n",
"gama = 1.4;\n",
"T2 = T1*(P2/P1)^((gama - 1)/gama);// [K]\n",
"Wad = (gama*R/(gama - 1))*(T1 - T2);// [J/mol]\n",
"Wad = Wad/M;// [J/g]\n",
"printf('Work done by reversible adiabatic compression when gama = 1.4 is %.2f J/g\n',Wad);\n",
"\n",
"// Solution (b)\n",
"// Work done by isothermal compression:\n",
"Wiso = - (R*T1)*log(P2/P1);// [J/mol]\n",
"Wiso = Wiso/M;// [J/g]\n",
"printf('Work done by isothermal compression is %.2f J/g\n',Wiso);\n",
"\n",
"// Solution (c)\n",
"// Work done in single stage compression, gama = 1.3:\n",
"gama = 1.3;\n",
"V1 = Q;// [cubic m]\n",
"Wsingle_stage = (gama*P1*V1/(gama - 1))*(1-(P2/P1)^((gama - 1)/gama));// [kW]\n",
"printf('Work done in single stage compression is %.2f kW',Wsingle_stage);"
   ]
   }
,
{
		   "cell_type": "markdown",
		   "metadata": {},
		   "source": [
			"## Example 7.6: Heat_Exchangers.sce"
		   ]
		  },
  {
"cell_type": "code",
	   "execution_count": null,
	   "metadata": {
	    "collapsed": true
	   },
	   "outputs": [],
"source": [
   ]
   }
,
{
		   "cell_type": "markdown",
		   "metadata": {},
		   "source": [
			"## Example 7.7: Heat_Exchangers.sce"
		   ]
		  },
  {
"cell_type": "code",
	   "execution_count": null,
	   "metadata": {
	    "collapsed": true
	   },
	   "outputs": [],
"source": [
"clear;\n",
"clc;\n",
"\n",
"// Example: 7.7\n",
"// Page: 274\n",
"\n",
"printf('Example: 7.7 - Page: 274\n\n');\n",
"\n",
"// Solution\n",
"\n",
"//*****Data******//\n",
"T_steam1 = 50;// [OC]\n",
"T_steam2 = 30;// [OC]\n",
"msteam_dot = 10;// [kg/min]\n",
"T_water1 = 15;// [OC]\n",
"T_water2 = 25;// [OC]\n",
"//***************//\n",
"\n",
"// Solution (a)\n",
"// From the Stem Table:\n",
"H1 = 2645.9;// [kJ/kg, At 50 OC]\n",
"H2 = 768.2;// [kJ/kg, At 30 OC]\n",
"H3 = 62.982;// [kJ/kg, At 15 OC]\n",
"H4 = 104.83;// [kJ/kg, At 25 OC]\n",
"// The mass & Energy balance of the above flow gives:\n",
"mwater_dot = msteam_dot*(H1 - H2)/(H4 - H3);// [kg/min]\n",
"printf('The mass flow rate of water is %.2f kg/min\n',mwater_dot);\n",
"\n",
"// Solution (b)\n",
"Qdot = mwater_dot*(H4 - H3);// [kJ/min]\n",
"printf('The rate of heat transfer is %.2f kJ/min',Qdot);"
   ]
   }
,
{
		   "cell_type": "markdown",
		   "metadata": {},
		   "source": [
			"## Example 7.8: Nozzles_and_Diffusers.sce"
		   ]
		  },
  {
"cell_type": "code",
	   "execution_count": null,
	   "metadata": {
	    "collapsed": true
	   },
	   "outputs": [],
"source": [
"clear;\n",
"clc;\n",
"\n",
"// Example: 7.8\n",
"// Page: 279\n",
"\n",
"printf('Example: 7.8 - Page: 279\n\n');\n",
"\n",
"// Solution\n",
"\n",
"//*****Data******//\n",
"P1 = 500;// [kPa]\n",
"T1 = 623;// [K]\n",
"mdot = 12;// [kg/s]\n",
"P2 = 500;// [kPa]\n",
"T2 = 523;// [K]\n",
"Qdot = -120;// [kW]\n",
"H1 = 3168;// [kJ/kg]\n",
"H2 = 2976;// [kJ/kg]\n",
"//************//\n",
"\n",
"Q = Qdot/mdot;// [kJ/kg]\n",
"// By energy balance:\n",
"// (deltaU^2/2) + g*deltaZ + deltaH = Q - Ws\n",
"// Considering negligible change in P.E., deltaZ = 0 & Ws = 0.\n",
"// (U2^2 - U1^2)/2 + deltaH = Q\n",
"deltaH = H2 - H1;// [kJ/kg]\n",
"// Neglecting inlet velocity.\n",
"U2 = sqrt(2*(Q - deltaH)*1000);// [m/s]\n",
"printf('Outlrt velocity is %.1f m/s\n',U2);"
   ]
   }
,
{
		   "cell_type": "markdown",
		   "metadata": {},
		   "source": [
			"## Example 7.9: Nozzles_and_Diffusers.sce"
		   ]
		  },
  {
"cell_type": "code",
	   "execution_count": null,
	   "metadata": {
	    "collapsed": true
	   },
	   "outputs": [],
"source": [
"clear;\n",
"clc;\n",
"\n",
"// Example: 7.9\n",
"// Page: 279\n",
"\n",
"printf('Example: 7.9 - Page: 279\n\n');\n",
"\n",
"// Solution\n",
"\n",
"//*****Data******//\n",
"Pin = 1000;// [kPa]\n",
"Tin = 600;// [K]\n",
"Uin = 50;// [m/s]\n",
"gama = 1.4;\n",
"M = 17;// [g/mol]\n",
"R = 8314;// [kJ/mol K]\n",
"MachNumber = 2;\n",
"//***************//\n",
"\n",
"// Solution (i)\n",
"// Using Eqn. (7.36):\n",
"Critical_Ratio = (2/(gama + 1))^(gama/(gama - 1));\n",
"printf('Critical Ratio is %.2f\n',Critical_Ratio);\n",
"\n",
"// Solution (ii)\n",
"PV_in = R*Tin/M;// [square m]\n",
"Uthroat = sqrt(Uin^2 + (2*gama*PV_in/(gama - 1))*(1-(Critical_Ratio)^((gama - 1)/gama)));// [m/s]\n",
"Uout = MachNumber*Uthroat;// [m/s]\n",
"printf('The discharge velocity is %.2f m/s',Uout);"
   ]
   }
],
"metadata": {
		  "kernelspec": {
		   "display_name": "Scilab",
		   "language": "scilab",
		   "name": "scilab"
		  },
		  "language_info": {
		   "file_extension": ".sce",
		   "help_links": [
			{
			 "text": "MetaKernel Magics",
			 "url": "https://github.com/calysto/metakernel/blob/master/metakernel/magics/README.md"
			}
		   ],
		   "mimetype": "text/x-octave",
		   "name": "scilab",
		   "version": "0.7.1"
		  }
		 },
		 "nbformat": 4,
		 "nbformat_minor": 0
}
