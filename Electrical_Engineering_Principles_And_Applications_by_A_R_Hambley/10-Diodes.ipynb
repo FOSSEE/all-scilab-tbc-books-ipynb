{
"cells": [
 {
		   "cell_type": "markdown",
	   "metadata": {},
	   "source": [
       "# Chapter 10: Diodes"
	   ]
	},
{
		   "cell_type": "markdown",
		   "metadata": {},
		   "source": [
			"## Example 10.1: example_1.sce"
		   ]
		  },
  {
"cell_type": "code",
	   "execution_count": null,
	   "metadata": {
	    "collapsed": true
	   },
	   "outputs": [],
"source": [
"clc\n",
"//ex10.1\n",
"V_ss=2;\n",
"R=1*10^3;\n",
"V_D=[0:0.001:2];\n",
"plot(V_D,10^3*(V_ss-V_D)/R)\n",
"xtitle('load line plot','voltage in volts','current in milli-amperes')      //milli-10^-3\n",
"//we use the equation V_ss=R*i_D+V_D\n",
"//at point B\n",
"i_D=V_ss/R;      //as V_D=0\n",
"//at point A\n",
"V_D=V_ss;      //as i_D=0\n",
"//now we see intersection of load line with characteristic and we get following at operating point\n",
"V_DQ=0.7;      //voltage\n",
"I_DQ=1.3*10^-3;      //current\n",
"//diode characteristic cannot be plotted\n",
"disp(V_DQ,'diode voltage at operating point in volts')\n",
"disp(I_DQ*10^3,'current at opeating point in milli-amperes')      //milli-10^-3\n",
""
   ]
   }
,
{
		   "cell_type": "markdown",
		   "metadata": {},
		   "source": [
			"## Example 10.2: example_2.sce"
		   ]
		  },
  {
"cell_type": "code",
	   "execution_count": null,
	   "metadata": {
	    "collapsed": true
	   },
	   "outputs": [],
"source": [
"clc\n",
"//ex10.2\n",
"V_ss=10;\n",
"R=10*10^3;\n",
"V_D=[0:0.001:2];\n",
"plot(V_D,10^3*(V_ss-V_D)/R)\n",
"xtitle('load line plot','voltage in volts','current in milli-amperes')      //milli-10^-3\n",
"//we use the equation V_ss=R*i_D+V_D\n",
"//at point C\n",
"i_D=V_ss/R;      //as V_D=0\n",
"//now if we take i_D=0, we get V_D=10 which plots at a point far off the page\n",
"//so we take the value on the right-hand edge of V-axis i.e.,V_D=2\n",
"//at point D\n",
"V_D=2;\n",
"i_D=(V_ss-V_D)/R;\n",
"//from the intersection of load line with characteristic\n",
"V_DQ=0.68;\n",
"I_DQ=0.93*10^-3;\n",
"//diode characteristic cannot be plotted\n",
"disp(V_DQ,'diode voltage at operating point in volts')\n",
"disp(I_DQ*10^3,'current at opeating point in milli-amperes')      //milli-10^-3"
   ]
   }
,
{
		   "cell_type": "markdown",
		   "metadata": {},
		   "source": [
			"## Example 10.3: example_3.sce"
		   ]
		  },
  {
"cell_type": "code",
	   "execution_count": null,
	   "metadata": {
	    "collapsed": true
	   },
	   "outputs": [],
"source": [
"clc\n",
"//ex10.3\n",
"R=1*10^3;\n",
"//diode characteristic cannot be plotted\n",
"//case a)V_ss=15\n",
"V_ss=15;\n",
"V_D=[-15:0.001:0];\n",
"//from the intersection of load line and diode characteristic\n",
"V_o=10;\n",
"disp(V_o,'output voltage for Vss=15 in volts')\n",
"//case b)V_ss=20\n",
"V_ss=20;\n",
"V_D=[-20:0.001:0];\n",
"//from the intersection of load line and diode characteristic\n",
"V_o=10.5;\n",
"disp(V_o,'output voltage for Vss=20 in volts')"
   ]
   }
,
{
		   "cell_type": "markdown",
		   "metadata": {},
		   "source": [
			"## Example 10.4: example_4.sce"
		   ]
		  },
  {
"cell_type": "code",
	   "execution_count": null,
	   "metadata": {
	    "collapsed": true
	   },
	   "outputs": [],
"source": [
"\n",
"clc\n",
"//ex10.4\n",
"V_ss=24;\n",
"R=1.2*10^3;\n",
"R_L=6*10^3;\n",
"//by grouping linear elements together on left side of diode\n",
"V_T=V_ss*R_L/(R+R_L);      //thevenin voltage\n",
"//zeroing sources \n",
"R_T=1/((1/R)+(1/R_L));      //thevenin resistance\n",
"//load-line equation is V_T+R_T*i_D+V_D=0\n",
"//locating the operating point\n",
"V_D=-10;\n",
"V_L=-V_D;      //load voltage\n",
"I_s=(V_ss-V_L)/R;      //source current\n",
"//diode characteristic cannot be plotted\n",
"printf(' All the values in the textbook are approximated hence the values in this code differ from those of Textbook')\n",
"disp(V_L,'load voltage in volts')\n",
"disp(I_s,'source current in amperes')      //milli-10^-3"
   ]
   }
,
{
		   "cell_type": "markdown",
		   "metadata": {},
		   "source": [
			"## Example 10.5: example_5.sce"
		   ]
		  },
  {
"cell_type": "code",
	   "execution_count": null,
	   "metadata": {
	    "collapsed": true
	   },
	   "outputs": [],
"source": [
"clc\n",
"//ex10.5\n",
"V_1=10;\n",
"V_2=3;\n",
"R_1=4*10^3;\n",
"R_2=6*10^3;\n",
"//1)analysis by assuming D1 off and D2 on\n",
"I_D_2=V_2/R_2;      //ohm's law\n",
"//applying KVL\n",
"V_D_1=7;      //contradiction to 'D1 is off'\n",
"//this assumption is not correct\n",
"\n",
"//2)analysis by assuming D1 on and D2 off\n",
"I_D_1=V_1/R_1;      //ohm's law\n",
"//applying KVL\n",
"V_D_2=-V_1+V_2+I_D_1*R_1;\n",
"//we get V_D_2 which is consistent\n",
"disp('correct assumption is D2 off and D1 on')"
   ]
   }
,
{
		   "cell_type": "markdown",
		   "metadata": {},
		   "source": [
			"## Example 10.7: example_7.sce"
		   ]
		  },
  {
"cell_type": "code",
	   "execution_count": null,
	   "metadata": {
	    "collapsed": true
	   },
	   "outputs": [],
"source": [
"clc\n",
"//ex10.7\n",
"V_1=3;\n",
"R_1=20;\n",
"//As given voltage source results in forward bias, we assume operating point is on line segment A\n",
"//replacing diode with the equivalent circuit\n",
"V_2=0.6;\n",
"R_2=10;\n",
"i_D=(V_1-V_2)/(R_1+R_2);      //KVL around the circuit\n",
"disp(i_D*10^3,'current in the circuit in milli-amperes')      //milli-10^-3"
   ]
   }
],
"metadata": {
		  "kernelspec": {
		   "display_name": "Scilab",
		   "language": "scilab",
		   "name": "scilab"
		  },
		  "language_info": {
		   "file_extension": ".sce",
		   "help_links": [
			{
			 "text": "MetaKernel Magics",
			 "url": "https://github.com/calysto/metakernel/blob/master/metakernel/magics/README.md"
			}
		   ],
		   "mimetype": "text/x-octave",
		   "name": "scilab",
		   "version": "0.7.1"
		  }
		 },
		 "nbformat": 4,
		 "nbformat_minor": 0
}
