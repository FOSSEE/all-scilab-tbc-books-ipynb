{
"cells": [
 {
		   "cell_type": "markdown",
	   "metadata": {},
	   "source": [
       "# Chapter 6: Frequency response bode plots and resonance"
	   ]
	},
{
		   "cell_type": "markdown",
		   "metadata": {},
		   "source": [
			"## Example 6.1: example_1.sce"
		   ]
		  },
  {
"cell_type": "code",
	   "execution_count": null,
	   "metadata": {
	    "collapsed": true
	   },
	   "outputs": [],
"source": [
"clc\n",
"//ex 6.1\n",
"// given V_in(t)=2*cos(2000*%pi*t+A), A=40*%pi/180\n",
"w=2000*%pi;      //omega\n",
"f=w/(2*%pi);      //frequency\n",
"A=40*%pi/180;      //40 degrees in radians\n",
"//equation of straight line of H_magnitude vs f is x+1000*y-4000=0\n",
"H_max=(4000-f)/1000;      //magnitude of H(traansfer function)\n",
"//equation of straight line of H_phase angle vs f is 6000*y=%pi*x (phase angle in radians)\n",
"H_phi=%pi*f/6000;      //phase angle of H\n",
"H=H_max*complex(cos(H_phi),sin(H_phi));\n",
"V_in=2*complex(cos(A),sin(A));      //input voltage phasor\n",
"V_out=H*V_in;      //output voltage phasor\n",
"V_out_R=real(V_out);      //real part\n",
"V_out_I=imag(V_out);      //imaginary part\n",
"V_out_max=sqrt((V_out_R^2)+(V_out_I^2));      //peak value\n",
"V_out_phi=atan(V_out_I/V_out_R);\n",
"disp(V_out_max,'peak value of Vout in volts')\n",
"disp(V_out_phi*180/%pi,'phase angle of Vout in degrees')\n",
"disp(f,'with frequency equal to')"
   ]
   }
,
{
		   "cell_type": "markdown",
		   "metadata": {},
		   "source": [
			"## Example 6.2: example_2.sce"
		   ]
		  },
  {
"cell_type": "code",
	   "execution_count": null,
	   "metadata": {
	    "collapsed": true
	   },
	   "outputs": [],
"source": [
"clc\n",
"//ex6.2\n",
"//given V_in(t)=3+2*cos(2000*%pi*t)+cos(4000*%pi*t-A), A=70*%pi/180\n",
"//the three parts of V_in(t) are V_in_1=3, V_in_2=2*cos(2000*%pi*t),V_in_3=cos(4000*%pi*t-A)\n",
"\n",
"//first component V_1\n",
"V_in_1=3;\n",
"f_1=0;      //as omega is zero\n",
"//equation of straight line of H_magnitude vs f is x+1000*y-4000=0\n",
"H_1_max=(4000-f_1)/1000;      //magnitude of H(traansfer function)\n",
"//equation of straight line of H_phase angle vs f is 6000*y=%pi*x (phase angle in radians)\n",
"H_1_phi=%pi*f_1/6000;      //phase angle of H\n",
"H_1=H_1_max*complex(cos(H_1_phi),sin(H_1_phi));\n",
"V_out_1=H_1*V_in_1;\n",
"V_out_1_R=real(V_out_1);      //real part\n",
"V_out_1_I=imag(V_out_1);      //imaginary part\n",
"V_out_1_max=sqrt((V_out_1_R^2)+(V_out_1_I^2));      //peak value\n",
"V_out_1_phi=atan(V_out_1_I/V_out_1_R);      //phase angle\n",
"\n",
"//second component V_in_2\n",
"V_in_2=2*complex(cos(0),sin(0));      //V_in_2 phasor\n",
"w=2000*%pi;      //omega\n",
"f_2=w/(2*%pi);      //frequency\n",
"//equation of straight line of H_magnitude vs f is x+1000*y-4000=0\n",
"H_2_max=(4000-f_2)/1000;      //magnitude of H(traansfer function)\n",
"//equation of straight line of H_phase angle vs f is 6000*y=%pi*x (phase angle in radians)\n",
"H_2_phi=%pi*f_2/6000;      //phase angle of H\n",
"H_2=H_2_max*complex(cos(H_2_phi),sin(H_2_phi));\n",
"V_out_2=H_2*V_in_2;\n",
"V_out_2_R=real(V_out_2);      //real part\n",
"V_out_2_I=imag(V_out_2);      //imaginary part\n",
"V_out_2_max=sqrt((V_out_2_R^2)+(V_out_2_I^2));      //peak value\n",
"V_out_2_phi=atan(V_out_2_I/V_out_2_R);      //phase angle\n",
"\n",
"//third component\n",
"A=-70*%pi/180;      //-70 degrees in radians\n",
"V_in_3=complex(cos(A),sin(A));      //V_in_3 phasor\n",
"w=4000*%pi;      //omega\n",
"f_3=w/(2*%pi);      //frequency\n",
"//equation of straight line of H_magnitude vs f is x+1000*y-4000=0\n",
"H_3_max=(4000-f_3)/1000;      //magnitude of H(traansfer function)\n",
"//equation of straight line of H_phase angle vs f is 6000*y=%pi*x (phase angle in radians)\n",
"H_3_phi=%pi*f_3/6000;      //phase angle of H\n",
"H_3=H_3_max*complex(cos(H_3_phi),sin(H_3_phi));\n",
"V_out_3=H_3*V_in_3;\n",
"V_out_3_R=real(V_out_3);      //real part\n",
"V_out_3_I=imag(V_out_3);      //imaginary part\n",
"V_out_3_max=sqrt((V_out_3_R^2)+(V_out_3_I^2));      //peak value\n",
"V_out_3_phi=atan(V_out_3_I/V_out_3_R);      //phase angle\n",
"\n",
"disp('Output voltage is Vout1+Vout2+Vout3 where')\n",
"disp('')\n",
"disp('FOR Vout1:')\n",
"disp(V_out_1_max,'peak value in volts')\n",
"disp(V_out_1_phi*180/%pi,'phase angle in degrees')\n",
"disp(f_1,'with frequency in hertz')\n",
"disp('')\n",
"disp('FOR Vout2:')\n",
"disp(V_out_2_max,'peak value in volts')\n",
"disp(V_out_2_phi*180/%pi,'phase angle in degrees')\n",
"disp(f_2,'with frequency in hertz')\n",
"disp('')\n",
"disp('FOR Vout3:')\n",
"disp(V_out_3_max,'peak value in volts')\n",
"disp(V_out_3_phi*180/%pi,'phase angle in degrees')\n",
"disp(f_3,'with frequency in hertz')"
   ]
   }
,
{
		   "cell_type": "markdown",
		   "metadata": {},
		   "source": [
			"## Example 6.3: example_3.sce"
		   ]
		  },
  {
"cell_type": "code",
	   "execution_count": null,
	   "metadata": {
	    "collapsed": true
	   },
	   "outputs": [],
"source": [
"clc\n",
"//ex6.3\n",
"R=1000/(2*%pi);      //resistance\n",
"C=10*10^-6;      //capacitance\n",
"f_B=1/(2*%pi*R*C);      //half-power frequency\n",
"//the three parts of V_in are V_1=5*cos(20*%pi*t)+5*cos(200*%pi*t)+5*cos(2000*%pi*t)\n",
"\n",
"//first component V_in_1\n",
"V_in_1=5*complex(cos(0),sin(0));      //V_in_1 phasor\n",
"w_1=20*%pi;      //omega\n",
"f_1=w_1/(2*%pi);      //frequency\n",
"H_1=1/(1+%i*(f_1/f_B));      //transfer function\n",
"V_out_1=H_1*V_in_1;\n",
"V_out_1_R=real(V_out_1);      //real part\n",
"V_out_1_I=imag(V_out_1);      //imaginary part\n",
"V_out_1_max=sqrt((V_out_1_R^2)+(V_out_1_I^2));      //peak value\n",
"V_out_1_phi=atan(V_out_1_I/V_out_1_R);      //phase angle\n",
"\n",
"//second component V_in_2\n",
"V_in_2=5*complex(cos(0),sin(0));      //V_in_2 phasor\n",
"w_2=200*%pi;      //omega\n",
"f_2=w_2/(2*%pi);      //frequency\n",
"H_2=1/(1+%i*(f_2/f_B));      //transfer function\n",
"V_out_2=H_2*V_in_2;\n",
"V_out_2_R=real(V_out_2);      //real part\n",
"V_out_2_I=imag(V_out_2);      //imaginary part\n",
"V_out_2_max=sqrt((V_out_2_R^2)+(V_out_2_I^2));      //peak value\n",
"V_out_2_phi=atan(V_out_2_I/V_out_2_R);      //phase angle\n",
"\n",
"//third component V_in_3\n",
"V_in_3=5*complex(cos(0),sin(0));      //V_in_3 phasor\n",
"w_3=2000*%pi;      //omega\n",
"f_3=w_3/(2*%pi);      //frequency\n",
"H_3=1/(1+%i*(f_3/f_B));      //transfer function\n",
"V_out_3=H_3*V_in_3;\n",
"V_out_3_R=real(V_out_3);      //real part\n",
"V_out_3_I=imag(V_out_3);      //imaginary part\n",
"V_out_3_max=sqrt((V_out_3_R^2)+(V_out_3_I^2));      //peak value\n",
"V_out_3_phi=atan(V_out_3_I/V_out_3_R);      //phase angle\n",
"\n",
"printf(' All the values in the textbook are approximated, hence the values in this code differ from those of Textbook')\n",
"disp('Output voltage is Vout1+Vout2+Vout3 where')\n",
"disp('')\n",
"disp('FOR Vout1:')\n",
"disp(V_out_1_max,'peak value in volts')\n",
"disp(V_out_1_phi*180/%pi,'phase angle in degrees')\n",
"disp(f_1,'with frequency in hertz')\n",
"disp('')\n",
"disp('FOR Vout2:')\n",
"disp(V_out_2_max,'peak value in volts')\n",
"disp(V_out_2_phi*180/%pi,'phase angle in degrees')\n",
"disp(f_2,'with frequency in hertz')\n",
"disp('')\n",
"disp('FOR Vout3:')\n",
"disp(V_out_3_max,'peak value in volts')\n",
"disp(V_out_3_phi*180/%pi,'phase angle in degrees')\n",
"disp(f_3,'with frequency in hertz')\n",
"//we can observe that there is a clear discrimination in output signals based on frequencies i.e, lesser the frequency lesser the effect."
   ]
   }
,
{
		   "cell_type": "markdown",
		   "metadata": {},
		   "source": [
			"## Example 6.4: example_4.sce"
		   ]
		  },
  {
"cell_type": "code",
	   "execution_count": null,
	   "metadata": {
	    "collapsed": true
	   },
	   "outputs": [],
"source": [
"clc\n",
"//ex6.4\n",
"H_max=-30;      //transfer function magnitude\n",
"f=60;\n",
"m=20;      //low-frequency asymptote slope rate in db/decade\n",
"//f_B must be K higher than f where K is\n",
"K=abs(H_max)/m;\n",
"//(base 10)log(f_B/60)=1.5 ==>\n",
"f_B=60*10^1.5;\n",
"printf(' All the values in the textbook are approximated, hence the values in this code differ from those of Textbook')\n",
"disp(f_B,'Break frequency in Hz')"
   ]
   }
,
{
		   "cell_type": "markdown",
		   "metadata": {},
		   "source": [
			"## Example 6.5: example_5.sce"
		   ]
		  },
  {
"cell_type": "code",
	   "execution_count": null,
	   "metadata": {
	    "collapsed": true
	   },
	   "outputs": [],
"source": [
"clc\n",
"//ex6.5\n",
"V_s=1*complex(cos(0),sin(0));\n",
"L=159.2*10^-3;\n",
"R=100;\n",
"C=0.1592*10^-6;\n",
"f_o=1/(2*%pi*sqrt(L*C));      //resonant frequency\n",
"Q_s=2*%pi*f_o*L/R;      //quality factor\n",
"B=f_o/Q_s;      //Bandwidth\n",
"//Approximate half-power frequencies are\n",
"f_H=f_o+(B/2);\n",
"f_L=f_o-(B/2);\n",
"//At resonance\n",
"Z_L=%i*2*%pi*f_o*L;      //impedance of inductance\n",
"Z_C=-%i/(2*%pi*f_o*C);      //impedance of capacitance\n",
"Z_s=R+Z_L+Z_C;\n",
"I=V_s/Z_s;      //phasor current\n",
"//voltages across diffrent elements are\n",
"//for resistance\n",
"V_R=R*I;\n",
"V_R_R=real(V_R);      //real part\n",
"V_R_I=imag(V_R);      //imaginary part\n",
"V_R_max=sqrt((V_R_R^2)+(V_R_I^2));      //peak value\n",
"V_R_phi=atan(V_R_I/V_R_R);      //phase angle\n",
"//for inductance\n",
"V_L=Z_L*I;\n",
"V_L_R=real(V_L);      //real part\n",
"V_L_I=imag(V_L);      //imaginary part\n",
"V_L_max=sqrt((V_L_R^2)+(V_L_I^2));      //peak value\n",
"//Z_L is pure imaginary ==> V_L is pure imaginary which means V_L_phi can be +or- %pi/2\n",
"if ((V_L/%i)==abs(V_L)) then\n",
"    V_L_phi=%pi/2\n",
"elseif ((V_L/%i)==-abs(V_L)) then\n",
"    V_L_phi=-%pi/2\n",
"end\n",
"\n",
"//for capacitance\n",
"V_C=Z_C*I;\n",
"V_C_R=real(V_C);      //real part\n",
"V_C_I=imag(V_C);      //imaginary part\n",
"V_C_max=sqrt((V_C_R^2)+(V_C_I^2));      //peak value\n",
"//Z_C is pure imaginary ==> V_C is pure imaginary which means V_C_phi can be +or- %pi/2\n",
"if ((V_C/%i)==abs(V_C)) then\n",
"    V_C_phi=%pi/2\n",
"elseif ((V_C/%i)==-abs(V_C)) then\n",
"    V_C_phi=-%pi/2\n",
"end\n",
" \n",
"disp('Phasor voltage across Resistance')\n",
"disp(V_R_max,'peak value in volts')\n",
"disp(V_R_phi*180/%pi,'phase angle in degrees')\n",
"disp('')\n",
"disp('Phasor voltage across Inductance')\n",
"disp(V_L_max,'peak value in volts')\n",
"disp(V_L_phi*180/%pi,'phase angle in degrees')\n",
"disp('')\n",
"disp('Phasor voltage across Capacitance')\n",
"disp(V_C_max,'peak value in volts')\n",
"disp(V_C_phi*180/%pi,'phase angle in degrees')\n",
"disp('Phasor diagram cannot be drawn here')"
   ]
   }
,
{
		   "cell_type": "markdown",
		   "metadata": {},
		   "source": [
			"## Example 6.6: example_6.sce"
		   ]
		  },
  {
"cell_type": "code",
	   "execution_count": null,
	   "metadata": {
	    "collapsed": true
	   },
	   "outputs": [],
"source": [
"clc\n",
"//ex6.6\n",
"R=10*10^3;\n",
"f_o=1*10^6;\n",
"B=100*10^3;\n",
"I=10^-3*complex(cos(0),sin(0));\n",
"Q_p=f_o/B;      //quality factor\n",
"L=R/(2*%pi*f_o*Q_p);\n",
"C=Q_p/(2*%pi*f_o*R);\n",
"//At resonance\n",
"V_out=I*R;\n",
"Z_L=%i*2*%pi*f_o*L;\n",
"Z_C=-%i/(2*%pi*f_o*C);\n",
"\n",
"//across resistance\n",
"I_R=V_out/R;\n",
"I_R_R=real(I_R);      //real part\n",
"I_R_I=imag(I_R);      //imaginary part\n",
"I_R_max=sqrt((I_R_R^2)+(I_R_I^2));      //peak value\n",
"I_R_phi=atan(I_R_I/I_R_R);      //phase angle\n",
"\n",
"//across inductance\n",
"I_L=V_out/Z_L;\n",
"I_L_R=real(I_L);      //real part\n",
"I_L_I=imag(I_L);      //imaginary part\n",
"I_L_max=sqrt((I_L_R^2)+(I_L_I^2));      //peak value\n",
"//Z_L is pure imaginary ==> V_L is pure imaginary which means V_L_phi can be +or- %pi/2\n",
"if ((I_L/%i)==abs(I_L)) then\n",
"    I_L_phi=%pi/2\n",
"elseif ((I_L/%i)==-abs(I_L)) then\n",
"    I_L_phi=-%pi/2\n",
"end\n",
"\n",
"//across capacitor\n",
"I_C=V_out/Z_C;\n",
"I_C_R=real(I_C);      //real part\n",
"I_C_I=imag(I_C);      //imaginary part\n",
"I_C_max=sqrt((I_C_R^2)+(I_C_I^2));      //peak value\n",
"//Z_C is pure imaginary ==> V_C is pure imaginary which means V_C_phi can be +or- %pi/2\n",
"if ((I_C/%i)==abs(I_C)) then\n",
"    I_C_phi=%pi/2\n",
"elseif ((I_C/%i)==-abs(I_C)) then\n",
"    I_C_phi=-%pi/2\n",
"end\n",
"\n",
"disp('Current phasor across Resistance')\n",
"disp(I_R_max,'peak value in amperes')\n",
"disp(I_R_phi*180/%pi,'phase angle in degrees')\n",
"disp('')\n",
"disp('Current phasor across Inductance')\n",
"disp(I_L_max,'peak value in amperes')\n",
"disp(I_L_phi*180/%pi,'phase angle in degrees')\n",
"disp('')\n",
"disp('current phasor across capacitance')\n",
"disp(I_C_max,'peak value in amperes')\n",
"disp(I_C_phi*180/%pi,'phase angle in degrees')\n",
"disp('Phasor diagram cannot be drawn here')"
   ]
   }
,
{
		   "cell_type": "markdown",
		   "metadata": {},
		   "source": [
			"## Example 6.7: example_7.sce"
		   ]
		  },
  {
"cell_type": "code",
	   "execution_count": null,
	   "metadata": {
	    "collapsed": true
	   },
	   "outputs": [],
"source": [
"clc\n",
"//ex6.7\n",
"//We need a high-pass filter\n",
"L=50*10^-3;\n",
"//for the transfer function to be approximately constant in passband area(from graph given in the text), we choose\n",
"Q_s=1;\n",
"f_o=1*10^3;\n",
"C=1/(((2*%pi)^2)*f_o^2*L);\n",
"R=2*%pi*f_o*L/Q_s;\n",
"printf(' All the values in the textbook are approximated, hence the values in this code differ from those of Textbook')\n",
"disp('')\n",
"disp('The required second order circuit configuration is')\n",
"disp(L*10^3,'Inductance in KH')\n",
"disp(C*10^6,'Capacitance in mF(micro Farads)')\n",
"disp(R,'Resistance in ohms')"
   ]
   }
],
"metadata": {
		  "kernelspec": {
		   "display_name": "Scilab",
		   "language": "scilab",
		   "name": "scilab"
		  },
		  "language_info": {
		   "file_extension": ".sce",
		   "help_links": [
			{
			 "text": "MetaKernel Magics",
			 "url": "https://github.com/calysto/metakernel/blob/master/metakernel/magics/README.md"
			}
		   ],
		   "mimetype": "text/x-octave",
		   "name": "scilab",
		   "version": "0.7.1"
		  }
		 },
		 "nbformat": 4,
		 "nbformat_minor": 0
}
