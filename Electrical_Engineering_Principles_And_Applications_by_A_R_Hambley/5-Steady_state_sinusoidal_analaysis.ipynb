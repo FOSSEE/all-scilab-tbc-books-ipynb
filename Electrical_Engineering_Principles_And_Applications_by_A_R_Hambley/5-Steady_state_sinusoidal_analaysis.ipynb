{
"cells": [
 {
		   "cell_type": "markdown",
	   "metadata": {},
	   "source": [
       "# Chapter 5: Steady state sinusoidal analaysis"
	   ]
	},
{
		   "cell_type": "markdown",
		   "metadata": {},
		   "source": [
			"## Example 5.10: example_10.sce"
		   ]
		  },
  {
"cell_type": "code",
	   "execution_count": null,
	   "metadata": {
	    "collapsed": true
	   },
	   "outputs": [],
"source": [
"clc\n",
"//ex5.10\n",
"R=100;\n",
"V_s_max=100;      //peak value of voltage\n",
"V_s_phi=0;      //phase angle of voltage\n",
"V_s=complex(V_s_max*cos(V_s_phi),V_s_max*sin(V_s_phi));      //phasor of voltage\n",
"Z_C=-%i*100;      //impedance of capacitance\n",
"I_s_max=1;      //peak value of current\n",
"I_s_phi=%pi/2;      //phase angle of current\n",
"I_s=complex(I_s_max*cos(I_s_phi),I_s_max*sin(I_s_phi));      //phasor of current\n",
"//zeroing sources to find Z_t i.e., thevenin impedance\n",
"Z_t=1/((1/R)+(1/Z_C));      //R and Z_C are in parallel combination\n",
"//apply short-circuit to find I_sc i.e., short-circuit current\n",
"I_R=abs(V_s)/R;      //ohm's law\n",
"I_sc=I_R-I_s;      //applying KCL\n",
"V_t=I_sc*Z_t;      //thevenin voltage\n",
"printf(' All the values in the textbook are approximated hence the values in this code differ from those of Textbook')\n",
"disp('FOR THEVENIN CIRCUIT:')\n",
"disp('thevenin voltage')\n",
"disp(abs(V_t),'peak value of voltage in volts')\n",
"//cos(t)=cos(t-180)\n",
"disp(atan(imag(V_t)/real(V_t))*180/%pi,'phase angle in degrees')\n",
"disp('thevenin resistance')\n",
"disp(abs(Z_t),'peak value of resistance in ohms')\n",
"disp(atan(imag(Z_t)/real(Z_t))*180/%pi,'phase angle in degrees')\n",
"disp('FOR NORTON CIRCUIT:')\n",
"disp('norton current')\n",
"disp(abs(I_sc),'peak value of norton current in amperes')\n",
"disp(atan(imag(I_sc)/real(I_sc))*180/%pi,'phase angle in degrees')\n",
"disp('resistance')\n",
"disp(abs(Z_t),'peak value of resistance in ohms')\n",
"disp(atan(imag(Z_t)/real(Z_t))*180/%pi,'phase angle in degrees')\n",
""
   ]
   }
,
{
		   "cell_type": "markdown",
		   "metadata": {},
		   "source": [
			"## Example 5.11: example_11.sce"
		   ]
		  },
  {
"cell_type": "code",
	   "execution_count": null,
	   "metadata": {
	    "collapsed": true
	   },
	   "outputs": [],
"source": [
"clc\n",
"//ex5.11\n",
"//thevenin voltage\n",
"V_t_max=100;\n",
"V_t_phi=-%pi/2;\n",
"V_t=complex(V_t_max*cos(V_t_phi),V_t_max*sin(V_t_phi));\n",
"//thevenin resistance\n",
"Z_t_max=70.71;\n",
"Z_t_phi=-%pi/4;\n",
"Z_t=complex(Z_t_max*cos(Z_t_phi),Z_t_max*sin(Z_t_phi));\n",
"printf(' All the values in the textbook are approximated hence the values in this code differ from those of Textbook')\n",
"//a) Any complex load\n",
"disp('FOR ANY COMPLEX LOAD')\n",
"Z_load=Z_t';\n",
"I_a=V_t/(Z_t+Z_load);      //ohm's law\n",
"I_a_rms=I_a/sqrt(2);      //rms value\n",
"P_1=abs(I_a_rms)^2*real(Z_load);      //power\n",
"disp(Z_load,'required complex load impedance')\n",
"disp(P_1,'power delivered to load in watts')\n",
"//b) purely resistive load\n",
"disp('FOR PURE RESISTIVE LOAD')\n",
"R_load=abs(Z_t);\n",
"I_b=V_t/(Z_t+R_load);\n",
"I_b_rms=I_b/sqrt(2);\n",
"P_2=abs(I_b_rms)^2*R_load;\n",
"disp(R_load,'required pure resistive load')\n",
"disp(P_2,'power delivered to load')"
   ]
   }
,
{
		   "cell_type": "markdown",
		   "metadata": {},
		   "source": [
			"## Example 5.12: example_12.sce"
		   ]
		  },
  {
"cell_type": "code",
	   "execution_count": null,
	   "metadata": {
	    "collapsed": true
	   },
	   "outputs": [],
"source": [
"clc\n",
"//ex5.12\n",
"V_Y=1000;      //line to neutral voltage\n",
"f=60;      //frequency\n",
"L=0.1;      //inductance\n",
"R=50;\n",
"W=2*%pi*f;      //angular frequency\n",
"Z=complex(R,W*L);      //complex impedance\n",
"phi=atan(imag(Z)/real(Z));\n",
"//Balanced wye-wye calculations\n",
"V_an=complex(1000*cos(0),1000*sin(0));\n",
"V_bn=complex(1000*cos(-2*%pi/3),1000*sin(-2*%pi/3));\n",
"V_cn=complex(1000*cos(2*%pi/3),1000*sin(2*%pi/3));\n",
"I_aA=V_an/Z;\n",
"I_bB=V_bn/Z;\n",
"I_cC=V_cn/Z;\n",
"//line-line phasors\n",
"V_ab=V_an*sqrt(3)*complex(cos(%pi/6),sin(%pi/6));\n",
"V_bc=V_bn*sqrt(3)*complex(cos(%pi/6),sin(%pi/6));\n",
"V_ca=V_cn*sqrt(3)*complex(cos(%pi/6),sin(%pi/6));\n",
"I_L=abs(I_aA);\n",
"P=(3/2)*V_Y*I_L*cos(phi);      //power\n",
"Q=(3/2)*V_Y*I_L*sin(phi);      //reactive power\n",
"printf(' All the values in the textbook are approximated hence the values in this code differ from those of Textbook')\n",
"disp('LINE CURRENTS')\n",
"disp(I_aA,'IaA=')\n",
"disp(I_bB,'IbB=')\n",
"disp(I_cC,'IcC=')\n",
"disp('LINE-LINE VOLTAGES')\n",
"disp(V_ab,'Vab=')\n",
"disp(V_bc,'Vbc=')\n",
"disp(V_ca,'Vca=')\n",
"disp(P,'POWER IN WATTS')\n",
"disp(Q,'REACTIVE POWER IN VARs')\n",
"disp('the phasor diagram cannot be plotted')"
   ]
   }
,
{
		   "cell_type": "markdown",
		   "metadata": {},
		   "source": [
			"## Example 5.13: example_13.sce"
		   ]
		  },
  {
"cell_type": "code",
	   "execution_count": null,
	   "metadata": {
	    "collapsed": true
	   },
	   "outputs": [],
"source": [
"clc\n",
"//ex5.13\n",
"Z_line=complex(0.3,0.4);      //impedance of wire\n",
"Z_d=complex(30,6);      //load impedance\n",
"R=real(Z_d);\n",
"R_line=real(Z_line);\n",
"//source voltages\n",
"V_ab=complex(1000*cos(%pi/6),1000*sin(%pi/6));\n",
"V_bc=complex(1000*cos(-%pi/2),1000*sin(-%pi/2));\n",
"V_ca=complex(1000*cos(5*%pi/6),1000*sin(5*%pi/6));\n",
"//choosing A phase of wye-equivalent circuit\n",
"V_an=V_ab/(sqrt(3)*complex(cos(%pi/6),sin(%pi/6)));\n",
"Z_Y=Z_d/3;\n",
"I_aA=V_an/(Z_line+Z_Y);      //line current\n",
"I_aA_rms=abs(I_aA)/sqrt(2);\n",
"V_An=I_aA*Z_Y;      //line to neutral voltage\n",
"V_AB=V_An*sqrt(3)*complex(cos(%pi/6),sin(%pi/6));      //line to line voltage at the load\n",
"I_AB=V_AB/Z_d;      //current through phase AB\n",
"I_AB_rms=abs(I_AB)/sqrt(2);      //rms value\n",
"P_AB=I_AB_rms^2*R;      //power delivered to phase AB\n",
"//power delivered in other two phases is same\n",
"P=3*P_AB;      //total power\n",
"P_A=I_aA_rms^2*R_line;      //power lost in line A\n",
"//power lost in other two lines is same\n",
"P_line=3*P_A;\n",
"printf(' All the values in the textbook are approximated hence the values in this code differ from those of Textbook')\n",
"disp('LINE CURRENTS')\n",
"disp(I_aA,'IaA=')\n",
"disp(I_aA*complex(cos(-2*%pi/3),sin(-2*%pi/3)),'IbB=')\n",
"disp(I_aA*complex(cos(2*%pi/3),sin(2*%pi/3)),'IcC=')\n",
"disp('LINE-LINE VOLTAGES')\n",
"disp(V_AB,'VAB=')\n",
"disp(V_AB*complex(cos(-2*%pi/3),sin(-2*%pi/3)),'VBB=')\n",
"disp(V_AB*complex(cos(2*%pi/3),sin(2*%pi/3)),'VCC=')\n",
"disp(P,'power delivered to load in watts')\n",
"disp(P_line,'total power dissipated in the line')"
   ]
   }
,
{
		   "cell_type": "markdown",
		   "metadata": {},
		   "source": [
			"## Example 5.14: example_14.sce"
		   ]
		  },
  {
"cell_type": "code",
	   "execution_count": null,
	   "metadata": {
	    "collapsed": true
	   },
	   "outputs": [],
"source": [
"clc\n",
"//ex5.14\n",
"V_1=10^3*2.2*sqrt(2)*complex(cos(0),sin(0));\n",
"V_2=10^3*2*sqrt(2)*complex(cos(-%pi/18),sin(-%pi/18));\n",
"//writing matrix form of mesh current equaions obtained by KVL\n",
"Z=[5+3*%i+50*complex(cos(-%pi/18),sin(-%pi/18)),-50*complex(cos(-%pi/18),sin(-%pi/18));-50*complex(cos(-%pi/18),sin(-%pi/18)),4+%i+50*complex(cos(-%pi/18),sin(-%pi/18))];      //coefficient matrix\n",
"V=[2200*sqrt(2);-2000*sqrt(2)*complex(cos(-%pi/18),sin(-%pi/18))];      //voltage matrix\n",
"I=Z\V;      //current matrix\n",
"S_1=(1/2)*V_1*((I(1,:))');      //complex power\n",
"P_1=real(S_1);      //power\n",
"Q_1=imag(S_1);      //reactive power\n",
"printf(' All the values in the textbook are approximated hence the values in this code differ from those of Textbook')\n",
"disp(P_1,'real power supplied by V1 in watts')\n",
"disp(Q_1,'reactive power supplied by V1 in VARs')"
   ]
   }
,
{
		   "cell_type": "markdown",
		   "metadata": {},
		   "source": [
			"## Example 5.1: example_1.sce"
		   ]
		  },
  {
"cell_type": "code",
	   "execution_count": null,
	   "metadata": {
	    "collapsed": true
	   },
	   "outputs": [],
"source": [
"clc\n",
"//ex5.1\n",
"R=50;\n",
"t=[0:0.000001:0.05];\n",
"V_t=100*cos(100*%pi*t);\n",
"V_m=100;      //peak value\n",
"V_rms=V_m/sqrt(2);\n",
"P_avg=(V_rms^2)/R;\n",
"P_t=V_t^2/R;\n",
"printf(' All the values in the textbook are approximated hence the values in this code differ from those of Textbook')\n",
"disp(V_rms,'RMS value of voltage in volts')\n",
"disp(P_avg,'average power in watts')\n",
"subplot(121)\n",
"plot(t*10^3,V_t);\n",
"xtitle('voltage vs time','time in ms','voltage in volts')      //ms-milli seconds(10^-3)\n",
"subplot(122)\n",
"plot(t*10^3,P_t)\n",
"xtitle('power vs time','time in ms','power in watts')      //ms-milli seconds(10^-3)"
   ]
   }
,
{
		   "cell_type": "markdown",
		   "metadata": {},
		   "source": [
			"## Example 5.2: example_2.sce"
		   ]
		  },
  {
"cell_type": "code",
	   "execution_count": null,
	   "metadata": {
	    "collapsed": true
	   },
	   "outputs": [],
"source": [
"clc\n",
"//ex5.2\n",
"//plot of V and t(already given with the question but to get clarity we plot it)\n",
"t_1=[0:0.001:1];\n",
"t_2=[1.001:0.001:2];\n",
"t=[t_1,t_2];\n",
"V_1=3*t_1;\n",
"V_2=6-3*t_2;\n",
"V=[V_1,V_2];\n",
"plot(t,V)\n",
"xtitle('voltage vs time','time in seconds','voltage in volts')\n",
"//now find V_rms\n",
"T=2;      //from the plot of V vs t\n",
"V_rms=sqrt((1/T)*((integrate('(3*t_1)^2','t_1',0,1))+(integrate('(6-3*t_2)^2','t_2',1,2))));\n",
"printf(' All the values in the textbook are approximated hence the values in this code differ from those of Textbook')\n",
"disp(V_rms,'RMS value in volts')"
   ]
   }
,
{
		   "cell_type": "markdown",
		   "metadata": {},
		   "source": [
			"## Example 5.3: example_3.sce"
		   ]
		  },
  {
"cell_type": "code",
	   "execution_count": null,
	   "metadata": {
	    "collapsed": true
	   },
	   "outputs": [],
"source": [
"clc\n",
"//ex5.3\n",
"//V_1 and V_2 are phasors of given voltages\n",
"theta_1=-%pi/4;      //for V_1\n",
"theta_2=-%pi/6;      //for V_2 (in cos form)\n",
"V_1=complex(20*cos(theta_1),20*sin(theta_1));\n",
"V_2=complex(10*cos(theta_2),10*sin(theta_2));\n",
"V_s=V_1+V_2;\n",
"V=sqrt((real(V_s)^2)+(imag(V_s)^2));      //peak voltage of resultant summation\n",
"phi=atan(imag(V_s)/real(V_s));      //phase angle of resultant sum voltage\n",
"printf(' All the values in the textbook are approximated hence the values in this code differ from those of Textbook')\n",
"disp(V,'Peak value of resultant voltage in volts')\n",
"disp(phi*180/%pi,'phase of resulting voltage in degrees')      //converting phi in radians to degrees\n",
"//result : V_t=Vcos(wt+phi)"
   ]
   }
,
{
		   "cell_type": "markdown",
		   "metadata": {},
		   "source": [
			"## Example 5.4: example_4.sce"
		   ]
		  },
  {
"cell_type": "code",
	   "execution_count": null,
	   "metadata": {
	    "collapsed": true
	   },
	   "outputs": [],
"source": [
"clc\n",
"//ex5.4\n",
"L=0.3;\n",
"C=40*10^-6;\n",
"R=100;\n",
"V_s_max=100;      //peak value of given voltage\n",
"W=500;      //angular frequency\n",
"V_s_phi=%pi/6;      //phase angle in degrees\n",
"V_s=complex(V_s_max*cos(V_s_phi),V_s_max*sin(V_s_phi));      //phasor for voltage source\n",
"Z_L=%i*W*L;      //complex impedance of inductance\n",
"Z_C=-%i/(W*C);      //complex impedance of capacitance\n",
"Z_eq=R+Z_L+Z_C;      //R,Z_L and Z_C in series\n",
"I=V_s/Z_eq;      //phasor current\n",
"V_R=R*I;\n",
"V_L=Z_L*I;\n",
"V_C=Z_C*I;\n",
"printf(' All the values in the textbook are approximated hence the values in this code differ from those of Textbook')\n",
"//for resistance R\n",
"disp('For resistance R')\n",
"V_R_max=sqrt((real(V_R)^2)+(imag(V_R)^2));\n",
"V_R_phi=(atan(imag(V_R)/real(V_R)))*180/%pi;\n",
"disp(V_R_max,'peak value of voltage in volts')\n",
"disp(V_R_phi,'phase angle in degrees')\n",
"//result : V_R=Vcos(wt+phi)  V-peak voltage\n",
"//for inductance L\n",
"disp('For inductance L')\n",
"V_L_max=sqrt((real(V_L)^2)+(imag(V_L)^2));\n",
"V_L_phi=(atan(imag(V_L)/real(V_L)))*180/%pi;\n",
"disp(V_L_max,'peak value of voltage in volts')\n",
"disp(V_L_phi,'phase angle in degrees')\n",
"//result : V_L=Vcos(wt+phi)  V-peak voltage\n",
"//for capacitor C\n",
"disp('For capacitor C')\n",
"V_C_max=sqrt((real(V_C)^2)+(imag(V_C)^2));\n",
"V_C_phi=(atan(imag(V_C)/real(V_C)))*180/%pi;\n",
"disp(V_C_max,'peak value of voltage in volts')\n",
"disp(V_C_phi,'phase angle in degrees')      //cos(t)=cos(t-180)  (we get 75 instead of -105 given in textbook)\n",
"//result : V_C=Vcos(wt+phi)  V-peak voltage\n",
"disp('The phasor diagram cannot be plotted')"
   ]
   }
,
{
		   "cell_type": "markdown",
		   "metadata": {},
		   "source": [
			"## Example 5.5: example_5.sce"
		   ]
		  },
  {
"cell_type": "code",
	   "execution_count": null,
	   "metadata": {
	    "collapsed": true
	   },
	   "outputs": [],
"source": [
"clc\n",
"//ex5.5\n",
"V_s_max=10;      //peak value of source voltage\n",
"phi=-%pi/2;      //phase of source voltage\n",
"V_s=complex(10*cos(%pi/2),10*sin(%pi/2));      //phasor of source voltage\n",
"W=1000;      //angular frequency\n",
"R=100;\n",
"L=0.1;\n",
"C=10*10^-6;\n",
"Z_L=%i*W*L;      //impedance of inductance\n",
"Z_C=-%i/(W*C);      //impedance of capacitance\n",
"Z_RC=1/((1/R)+(1/Z_C));      //R and Z_C in parallel combination\n",
"V_C=V_s*Z_RC/(Z_L+Z_RC);      //voltage division principle\n",
"I=V_s/(Z_L+Z_RC);      //current through source and inductor\n",
"I_R=V_C/R;      //current through resistance\n",
"I_C=V_C/Z_C;      //current through capacitor\n",
"//cos(t)=cos(180-t)\n",
"disp(sqrt((real(V_C)^2)+(imag(V_C)^2)),'peak value of Vc in volts')\n",
"disp((atan(imag(V_C)/real(V_C)))*180/%pi,'phase angle of Vc in degrees')\n",
"////result : V_C=Vcos(wt+phi)  V-peak voltage\n",
"disp(I,'current through source and inductor in amperes')\n",
"disp(I_R,'current through resistance in amperes')\n",
"disp(I_C,'current through capacitance in amperes')\n",
"disp('phasor diagram cannot be plotted')"
   ]
   }
,
{
		   "cell_type": "markdown",
		   "metadata": {},
		   "source": [
			"## Example 5.6: example_6.sce"
		   ]
		  },
  {
"cell_type": "code",
	   "execution_count": null,
	   "metadata": {
	    "collapsed": true
	   },
	   "outputs": [],
"source": [
"clc\n",
"//ex5.6\n",
"V_s_max=2;      //peak value of source voltage\n",
"V_s_phi=-%pi/2;      //phase angle of source voltage\n",
"V_s=complex(V_s_max*cos(V_s_phi),V_s_max*sin(V_s_phi));\n",
"R=10;\n",
"Z_C=-%i*5;      //impedance of capacitance\n",
"Z_L=%i*10;      //impedance of inductance\n",
"I_s_max=1.5;      //peak value of current source\n",
"I_s_phi=0;      //phase angle of current source\n",
"I_s=complex(I_s_max*cos(I_s_phi),I_s_max*sin(I_s_phi));\n",
"//we write the standard equations of V_1 and V_2 in matrix form\n",
"//from node-voltage relation\n",
"A=[0.1+%i*0.2,-%i*0.2;-%i*0.2,%i*0.1];      //coefficient matrix\n",
"B=[-%i*2;1.5];      //constant matrix\n",
"//As in A*X=B form\n",
"V=inv(A)*B;\n",
"V_1=sqrt((real(V(1,:)))^2+(imag(V(1,:)))^2);      //peak value of V_1\n",
"V_1_phi=atan(imag(V(1,:))/real(V(1,:)));      //phase angle of V_1\n",
"printf(' All the values in the textbook are approximated hence the values in this code differ from those of Textbook')\n",
"disp(V_1,'peak value of V1 in volts')\n",
"disp(V_1_phi*180/%pi,'phase angle of V1 in degrees')"
   ]
   }
,
{
		   "cell_type": "markdown",
		   "metadata": {},
		   "source": [
			"## Example 5.7: example_7.sce"
		   ]
		  },
  {
"cell_type": "code",
	   "execution_count": null,
	   "metadata": {
	    "collapsed": true
	   },
	   "outputs": [],
"source": [
"//ex5.7\n",
"phi_v=-%pi/2;      //angle of voltage source\n",
"phi_i=-3*%pi/4;      //angle of current source\n",
"phi=phi_v-phi_i;      //power angle\n",
"V_s_max=10;      //peak value of voltage source\n",
"V_s_phi=phi_v;      //phase angle of voltage source\n",
"R=100;\n",
"V_s=complex(V_s_max*cos(V_s_phi),V_s_max*sin(V_s_phi));      //phasor of voltage source\n",
"X_L=%i*100;\n",
"X_C=-%i*100;\n",
"I_max=0.1414;      //peak value of current\n",
"I_phi=phi_i;      //phase angle of current\n",
"I=complex(I_max*cos(I_phi),I_max*sin(I_phi));      //phasor of current\n",
"V_s_rms=V_s_max/sqrt(2);      //rms value of voltage\n",
"I_rms=I_max/sqrt(2);      //rms value of current\n",
"I_R_max=0.1;      //peak value\n",
"I_R_phi=-2*%pi;      //phase angle\n",
"I_R=complex(I_R_max*cos(I_R_phi),I_R_max*sin(I_R_phi));      //phasor of current\n",
"I_R_rms=I_R_max/sqrt(2);      //rms value\n",
"I_C_max=0.1;      //peak value\n",
"I_C_phi=-%pi/2;      //phase angle\n",
"I_C=complex(I_C_max*cos(I_C_phi),I_C_max*sin(I_C_phi));      //phasor current in capacitor\n",
"I_C_rms=I_C_max/sqrt(2);      //rms value\n",
"P=V_s_rms*I_rms*cos(phi);      //power by source\n",
"Q=V_s_rms*I_rms*sin(phi);      //reactive power by source\n",
"printf(' All the values in the textbook are approximated hence the values in this code differ from those of Textbook')\n",
"disp(P,'power delivered by source in watts')\n",
"disp(Q,'reactive power delivered by source in VARs')\n",
"//using complex power method\n",
"disp('Using complex power method:')\n",
"S=(1/2)*V_s*(I');      //complex power\n",
"P=real(S);\n",
"Q=imag(S);\n",
"disp(P,'power delivered by source in watts')\n",
"disp(Q,'reactive power delivered by source in VARs')\n",
"disp('we see that, in both the methods answers are the same')\n",
"Q_L=I_rms^2*X_L/%i;      //reactive power to inductance\n",
"Q_C=I_C_rms^2*X_C/%i;      //reactive power to capacitance\n",
"P_R=I_R_rms^2*R;      //power to resistance\n",
"disp(Q_L,'reactive power delivered to inductance in VARs')\n",
"disp(Q_C,'reactive power delivered to capacitance in VARs')\n",
"disp(P_R,'power delivered to resistance in watts')"
   ]
   }
,
{
		   "cell_type": "markdown",
		   "metadata": {},
		   "source": [
			"## Example 5.8: example_8.sce"
		   ]
		  },
  {
"cell_type": "code",
	   "execution_count": null,
	   "metadata": {
	    "collapsed": true
	   },
	   "outputs": [],
"source": [
"\n",
"clc\n",
"//initialisation of variables\n",
"clear\n",
"Vrms = 10^2 //V\n",
"Irms= 10^2 //amp\n",
"pf= 0.5\n",
"pf1= 0.7\n",
"r= 1.41\n",
"//CALCULATIONS\n",
"PA= Vrms*Irms*pf\n",
"QA= -sqrt((Vrms*Irms)^2-PA^2)/1000\n",
"a= acosd(pf1)\n",
"QB= PA*tand(a)/1000\n",
"P= 2*PA/1000\n",
"Q= QA+QB\n",
"o= atand(Q/P)\n",
"pf2= cosd(o)\n",
"A= o+69.18\n",
"S= sqrt(P^2+Q^2)\n",
"I= S*r\n",
"//RESULTS\n",
"printf ('Phasor Current = %.f A',I)\n",
"printf ('\n Angle = %.2f degrees',A)"
   ]
   }
,
{
		   "cell_type": "markdown",
		   "metadata": {},
		   "source": [
			"## Example 5.9: example_9.sce"
		   ]
		  },
  {
"cell_type": "code",
	   "execution_count": null,
	   "metadata": {
	    "collapsed": true
	   },
	   "outputs": [],
"source": [
"clc\n",
"//ex5.9\n",
"//L is load\n",
"P_L=50*10^3;      //power of load\n",
"f=60;      //frequency\n",
"V_rms=10*10^3;      //rms voltage\n",
"PF_L=0.6;      //power factor\n",
"phi_L=acos(PF_L);      //power angle\n",
"Q_L=P_L*tan(phi_L);      //reactive power of load\n",
"//when capacitor is added, power angle changes\n",
"PF_L_new=0.9;\n",
"phi_L_new=acos(PF_L_new);\n",
"Q_new=P_L*tan(phi_L_new);\n",
"Q_C=Q_new-Q_L;      //reactive power of capacitance\n",
"X_C=-V_rms^2/Q_C;      //reactance of capacitor\n",
"W=2*%pi*f;      //angular frequency\n",
"C=1/(W*abs(X_C));      //capacitance\n",
"printf(' All the values in the textbook are approximated hence the values in this code differ from those of Textbook')\n",
"disp(C*10^6,'Required capacitance in micro-farads')"
   ]
   }
],
"metadata": {
		  "kernelspec": {
		   "display_name": "Scilab",
		   "language": "scilab",
		   "name": "scilab"
		  },
		  "language_info": {
		   "file_extension": ".sce",
		   "help_links": [
			{
			 "text": "MetaKernel Magics",
			 "url": "https://github.com/calysto/metakernel/blob/master/metakernel/magics/README.md"
			}
		   ],
		   "mimetype": "text/x-octave",
		   "name": "scilab",
		   "version": "0.7.1"
		  }
		 },
		 "nbformat": 4,
		 "nbformat_minor": 0
}
