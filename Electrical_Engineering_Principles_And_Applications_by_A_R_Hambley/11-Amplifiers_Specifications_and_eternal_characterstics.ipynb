{
"cells": [
 {
		   "cell_type": "markdown",
	   "metadata": {},
	   "source": [
       "# Chapter 11: Amplifiers Specifications and eternal characterstics"
	   ]
	},
{
		   "cell_type": "markdown",
		   "metadata": {},
		   "source": [
			"## Example 11.10: example_10.sce"
		   ]
		  },
  {
"cell_type": "code",
	   "execution_count": null,
	   "metadata": {
	    "collapsed": true
	   },
	   "outputs": [],
"source": [
"clc\n",
"//ex11.10\n",
"t=[0:0.000001:0.002];\n",
"V_i=3*cos(2000*%pi*t)-2*cos(6000*%pi*t);\n",
"//for A\n",
"A_1000_A_peak=10;\n",
"A_1000_A_phi=0;\n",
"A_3000_A_peak=10;\n",
"A_3000_A_phi=0;\n",
"V_o_A=A_1000_A_peak*3*cos(2000*%pi*t+A_1000_A_phi)-A_3000_A_peak*2*cos(6000*%pi*t+A_3000_A_phi);\n",
"//for B\n",
"A_1000_B_peak=10;\n",
"A_1000_B_phi=-%pi/4;\n",
"A_3000_B_peak=10;\n",
"A_3000_B_phi=-3*%pi/4;\n",
"V_o_B=A_1000_B_peak*3*cos(2000*%pi*t+A_1000_B_phi)-A_3000_B_peak*2*cos(6000*%pi*t+A_3000_B_phi);\n",
"//for C\n",
"A_1000_C_peak=10;\n",
"A_1000_C_phi=-%pi/4;\n",
"A_3000_C_peak=10;\n",
"A_3000_C_phi=-%pi/4;\n",
"V_o_C=A_1000_C_peak*3*cos(2000*%pi*t+A_1000_C_phi)-A_3000_C_peak*2*cos(6000*%pi*t+A_3000_C_phi);\n",
"disp('VoA(t)=30cos(2000%pit)-10cos(6000%pit)')\n",
"disp('VoB(t)=30cos(2000%pit-%pi/4)-10cos(6000%pit-3%pi/4)')\n",
"disp('VoC(t)=30cos(2000%pit-%pi/4)-10cos(6000%pit-%pi/4)')\n",
"subplot(221)\n",
"xtitle('Output-voltage vs time for A','time in ms','Output-voltage for A in volts')\n",
"plot(t*10^3,V_o_A)\n",
"subplot(222)\n",
"xtitle('Output-voltage vs time for B','time in ms','Output voltage for B in volts')\n",
"plot(t*10^3,V_o_B)\n",
"subplot(223)\n",
"xtitle('Output-voltage vs time for C','time in ms','Output voltage for C in volts')\n",
"plot(t*10^3,V_o_C)"
   ]
   }
,
{
		   "cell_type": "markdown",
		   "metadata": {},
		   "source": [
			"## Example 11.11: example_11.sce"
		   ]
		  },
  {
"cell_type": "code",
	   "execution_count": null,
	   "metadata": {
	    "collapsed": true
	   },
	   "outputs": [],
"source": [
"clc\n",
"//ex11.11\n",
"A_d=1000;      //differential gain\n",
"V_d_peak=1*10^-3;      //peak value of differential input signal\n",
"V_o_peak=A_d*V_d_peak;      //peak output signal\n",
"V_cm=100;\n",
"V_o_cm=0.01*V_o_peak;      //common mode contribution is 1% or less\n",
"A_cm=V_o_cm/V_cm;      //common mode gain\n",
"CMRR=20*log(A_d/A_cm)/2.30258;\n",
"printf(' All the values in the textbook are approximated, hence the values in this code differ from those of Textbook')\n",
"disp(CMRR,'The minimum CMRR is')"
   ]
   }
,
{
		   "cell_type": "markdown",
		   "metadata": {},
		   "source": [
			"## Example 11.12: example_12.sce"
		   ]
		  },
  {
"cell_type": "code",
	   "execution_count": null,
	   "metadata": {
	    "collapsed": true
	   },
	   "outputs": [],
"source": [
"clc \n",
"//initialisation of variables\n",
"Rin= 1 //Mohms\n",
"Rs1= 100 //kohms\n",
"Rs2= 100 //kohms\n",
"Ioff= 84 //Amperes\n",
"Voff= 5 //mV\n",
"//CALCULARIONS\n",
"Vioff= Rin*Ioff*10^-3*(Rs1+Rs2)/(2*(Rin+10^-3*(Rs1+Rs2)))\n",
"Vvoff= Voff*Rin/(Rin+10^-3*(Rs1+Rs2))\n",
"//RESULTS\n",
"printf ('Vioff = %.f mV ',Vioff)\n",
"printf ('\n Vvoff = %.2f mV ',Vvoff)"
   ]
   }
,
{
		   "cell_type": "markdown",
		   "metadata": {},
		   "source": [
			"## Example 11.1: example_1.sce"
		   ]
		  },
  {
"cell_type": "code",
	   "execution_count": null,
	   "metadata": {
	    "collapsed": true
	   },
	   "outputs": [],
"source": [
"clc\n",
"//ex11.1\n",
"V_s=1*10^-3;\n",
"R_s=1*10^6;\n",
"A_voc=10^4;      //open-circuit voltage gain\n",
"R_i=2*10^6;      //input resistance\n",
"R_o=2;      //output resistance\n",
"R_L=8;      //load resistance\n",
"V_i=V_s*(R_i/(R_i+R_s));      //input voltage(voltage-divider principle)\n",
"V_vcs=A_voc*V_i;      //voltage controlled source voltage\n",
"V_o=V_vcs*(R_L/(R_L+R_o));      //output voltage(voltage-divider principle)\n",
"A_v=V_o/V_i;\n",
"A_vs=V_o/V_s;\n",
"A_i=A_v*R_i/R_L;      //current gain\n",
"G=A_v*A_i;      //power gain\n",
"printf(' All the values in the textbook are approximated, hence the values in this code differ from those of Textbook')\n",
"disp(A_v,'Voltage gain Av')\n",
"disp(A_vs,'Voltage gain Avs')\n",
"disp(A_i,'Current gain')\n",
"disp(G,'Power gain')"
   ]
   }
,
{
		   "cell_type": "markdown",
		   "metadata": {},
		   "source": [
			"## Example 11.2: example_2.sce"
		   ]
		  },
  {
"cell_type": "code",
	   "execution_count": null,
	   "metadata": {
	    "collapsed": true
	   },
	   "outputs": [],
"source": [
"clc\n",
"//ex11.2\n",
"R_i_1=10^6;\n",
"R_o_1=500;\n",
"R_i_2=1500;\n",
"R_o_2=100;\n",
"R_L=100;\n",
"A_voc_1=200;\n",
"A_voc_2=100;\n",
"//voltage gain of the first stage...A_v_1=(V_o_1/V_i_1)=(V_i_2/V_i_2)=A_voc_1(R_i_2/(R_i_2+R_o_1))\n",
"A_v_1=A_voc_1*(R_i_2/(R_i_2+R_o_1));\n",
"A_v_2=A_voc_2*(R_L/(R_L+R_o_2));\n",
"A_i_1=A_v_1*R_i_1/R_i_2;\n",
"A_i_2=A_v_2*R_i_2/R_L;\n",
"A_i=A_i_1*A_i_2;\n",
"G_1=A_v_1*A_i_1;\n",
"G_2=A_v_2*A_i_2;\n",
"G=G_1*G_2;\n",
"disp(A_i_1,'Current gain of first stage')\n",
"disp(A_i_2,'Current gain of second stage')\n",
"disp(A_v_1,'Voltage gain of first stage')\n",
"disp(A_v_2,'Voltage gain of second stage')\n",
"disp(G_1,'Power gain of first stage')\n",
"disp(G_2,'Power gain of second stage')\n",
"disp(G,'Overall power gain')"
   ]
   }
,
{
		   "cell_type": "markdown",
		   "metadata": {},
		   "source": [
			"## Example 11.3: example_3.sce"
		   ]
		  },
  {
"cell_type": "code",
	   "execution_count": null,
	   "metadata": {
	    "collapsed": true
	   },
	   "outputs": [],
"source": [
"clc\n",
"//ex11.3\n",
"R_i_1=10^6;\n",
"R_o_1=500;\n",
"R_i_2=1500;\n",
"R_o_2=100;\n",
"R_L=100;\n",
"A_voc_1=200;\n",
"A_voc_2=100;\n",
"A_v_1=A_voc_1*(R_i_2/(R_i_2+R_o_1));      //Voltage gain of first stage\n",
"A_v_2=A_voc_2;      //Voltage gain of second stage with open-circuit load\n",
"A_voc=A_v_1*A_v_2;      //overall open-circuit voltage gain\n",
"R_i=R_i_1;      //input resistance of cascading amplifier\n",
"R_o=R_o_2;      //output resistance\n",
"disp('Hence the simplified model for the cascade is with an:')\n",
"disp(R_i,'Input resistance in ohms')\n",
"disp(R_o,'Input resistance in ohms')\n",
"disp(A_voc,'Overall open-circuit voltage gain')"
   ]
   }
,
{
		   "cell_type": "markdown",
		   "metadata": {},
		   "source": [
			"## Example 11.4: example_4.sce"
		   ]
		  },
  {
"cell_type": "code",
	   "execution_count": null,
	   "metadata": {
	    "collapsed": true
	   },
	   "outputs": [],
"source": [
"clc\n",
"//ex11.4\n",
"V_AA=15;\n",
"V_BB=15;\n",
"V_i=1*10^-3;\n",
"I_A=1;\n",
"I_B=0.5;\n",
"R_L=8;\n",
"R_o=2;\n",
"R_i=100*10^3;\n",
"A_voc=10^4;\n",
"P_i=V_i^2/R_i;\n",
"V_o=A_voc*V_i*(R_L/(R_L+R_o));\n",
"P_o=V_o^2/R_L;\n",
"P_s=V_AA*I_A+V_BB*I_B;\n",
"P_d=P_s+P_i-P_o;\n",
"n=P_o*100/P_s;\n",
"printf(' All the values in the textbook are approximated, hence the values in this code differ from those of Textbook')\n",
"disp(P_i*10^12,'Input power in picowatts')\n",
"disp(P_o,'Output power in watts')\n",
"disp(P_s,'Supply power in watts')\n",
"disp(P_d,'Dissipated power in watts')\n",
"disp(n,'Efficiency of the amplifier')"
   ]
   }
,
{
		   "cell_type": "markdown",
		   "metadata": {},
		   "source": [
			"## Example 11.5: example_5.sce"
		   ]
		  },
  {
"cell_type": "code",
	   "execution_count": null,
	   "metadata": {
	    "collapsed": true
	   },
	   "outputs": [],
"source": [
"clc\n",
"//ex11.5\n",
"R_i=1*10^3;\n",
"R_o=100;\n",
"A_voc=100;\n",
"//I_i=V_i/R_i, I_osc=A_voc*V_i/R_o    from these two we get A_isc=(i_osc/I_i)=(A_voc(R_i/R_o))\n",
"A_isc=A_voc*(R_i/R_o);\n",
"disp('The resulting current-amplifier is with an:')\n",
"\n",
"disp(R_i,'input resitance in ohms')\n",
"disp(R_o,'output resistance in ohms')\n",
"disp(A_isc,'and a short-cut current gain of:')"
   ]
   }
,
{
		   "cell_type": "markdown",
		   "metadata": {},
		   "source": [
			"## Example 11.6: example_6.sce"
		   ]
		  },
  {
"cell_type": "code",
	   "execution_count": null,
	   "metadata": {
	    "collapsed": true
	   },
	   "outputs": [],
"source": [
"clc\n",
"//ex11.6\n",
"R_i=1*10^3;\n",
"R_o=100;\n",
"A_voc=100;\n",
"//i_osc=A_voc*V_i/R_o and G_msc=i_osc/V_i gives G_msc=A_voc/R_o\n",
"G_msc=A_voc/R_o;\n",
"disp('The resulting transconductance model is with an:')\n",
"\n",
"disp(R_i,'input resitance in ohms')\n",
"disp(R_o,'output resistance in ohms')\n",
"disp(G_msc,'and transconductance in siemens')"
   ]
   }
,
{
		   "cell_type": "markdown",
		   "metadata": {},
		   "source": [
			"## Example 11.7: example_7.sce"
		   ]
		  },
  {
"cell_type": "code",
	   "execution_count": null,
	   "metadata": {
	    "collapsed": true
	   },
	   "outputs": [],
"source": [
"clc\n",
"//ex11.7\n",
"R_i=1*10^3;\n",
"R_o=100;\n",
"A_voc=100;\n",
"//V_ooc=A_voc*V_i and I_i=V_i/R_i gives R_moc=V_ooc/I_i\n",
"R_moc=A_voc*R_i;\n",
"disp('The resulting transconductance model is with an:')\n",
"\n",
"disp(R_i,'input resitance in ohms')\n",
"disp(R_o,'output resistance in ohms')\n",
"disp(R_moc,'and transresistance in ohms')\n",
""
   ]
   }
,
{
		   "cell_type": "markdown",
		   "metadata": {},
		   "source": [
			"## Example 11.8: example_8.sce"
		   ]
		  },
  {
"cell_type": "code",
	   "execution_count": null,
	   "metadata": {
	    "collapsed": true
	   },
	   "outputs": [],
"source": [
"clc\n",
"//ex11.8\n",
"V_i=complex(0.1*cos(-%pi/6),0.1*sin(-%pi/6));\n",
"V_o=complex(10*cos(%pi/12),10*sin(%pi/12));\n",
"A_v=V_o/V_i;\n",
"A_v_max=sqrt((real(A_v)^2)+(imag(A_v)^2))\n",
"phi=atan(imag(A_v)/real(A_v));\n",
"printf(' All the values in the textbook are approximated, hence the values in this code differ from those of Textbook')\n",
"disp('The complex voltage gain is with')\n",
"disp(A_v_max,'a peak value of')\n",
"disp(phi,'a phase angle in degrees')\n",
"disp(20*log(A_v_max)/2.30258,'and the decibel gain is')      //2.30258 is for base 10"
   ]
   }
,
{
		   "cell_type": "markdown",
		   "metadata": {},
		   "source": [
			"## Example 11.9: example_9.sce"
		   ]
		  },
  {
"cell_type": "code",
	   "execution_count": null,
	   "metadata": {
	    "collapsed": true
	   },
	   "outputs": [],
"source": [
"clc\n",
"//ex11.9\n",
"t=[0:0.000001:0.002];\n",
"V_i=3*cos(2000*%pi*t)-2*cos(6000*%pi*t);\n",
"//let A_1000 and A_3000 be the gains\n",
"A_1000_peak=10;\n",
"A_1000_phi=0;\n",
"A_3000_peak=2.5;\n",
"A_3000_phi=0;\n",
"//multiplying by respective gains\n",
"V_o=A_1000_peak*3*cos(2000*%pi*t+A_1000_phi)-A_3000_peak*2*cos(6000*%pi*t+A_3000_phi);\n",
"subplot(121)\n",
"xtitle('Input-voltage vs time','time in ms','Internal-voltage in volts')\n",
"plot(t*10^3,V_i)\n",
"subplot(122)\n",
"xtitle('Output-voltage vs time','time in ms','Output voltage in volts')\n",
"plot(t*10^3,V_o)"
   ]
   }
],
"metadata": {
		  "kernelspec": {
		   "display_name": "Scilab",
		   "language": "scilab",
		   "name": "scilab"
		  },
		  "language_info": {
		   "file_extension": ".sce",
		   "help_links": [
			{
			 "text": "MetaKernel Magics",
			 "url": "https://github.com/calysto/metakernel/blob/master/metakernel/magics/README.md"
			}
		   ],
		   "mimetype": "text/x-octave",
		   "name": "scilab",
		   "version": "0.7.1"
		  }
		 },
		 "nbformat": 4,
		 "nbformat_minor": 0
}
