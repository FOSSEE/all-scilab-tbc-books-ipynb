{
"cells": [
 {
		   "cell_type": "markdown",
	   "metadata": {},
	   "source": [
       "# Chapter 17: AC Machines"
	   ]
	},
{
		   "cell_type": "markdown",
		   "metadata": {},
		   "source": [
			"## Example 17.1: example_1.sce"
		   ]
		  },
  {
"cell_type": "code",
	   "execution_count": null,
	   "metadata": {
	    "collapsed": true
	   },
	   "outputs": [],
"source": [
"clc\n",
"//ex17.1\n",
"P_rot=900;      //rotational losses\n",
"V_L=440*complex(cos(0),sin(0));\n",
"R_s=1.2;\n",
"X_s=%i*2;\n",
"X_m=%i*50;\n",
"R_r_1=0.6;\n",
"R_r_2=19.4;\n",
"X_r=%i*0.8;\n",
"n_m=1746;      //machine operating speed in rpm\n",
"W_m=n_m*2*%pi/60;      //speed in radians per second\n",
"n_s=1800;      //synchronous speed for a four-pole monitor\n",
"s=(n_s-n_m)/n_s;      //slip\n",
"Z_s=R_s+X_s+(X_m*(R_r_1+R_r_2+X_r))/(X_m+R_r_1+R_r_2+X_r);      //impedance seen by the source\n",
"[Z_s_max,phi]=polar(Z_s);\n",
"Z_s_phi=real(phi);      //removing negligible imaginary part(if any is there)\n",
"PF=cos(Z_s_phi);      //power factor\n",
"V_s=V_L;      //phase voltage\n",
"I_s=V_s/Z_s;      //phase current\n",
"[I_s_max,I_s_phi]=polar(I_s);\n",
"I_L=I_s_max*sqrt(3);      //line current\n",
"P_in=3*I_s*V_s*PF;      //input power\n",
"V_x=I_s*(X_m*(R_r_1+R_r_2+X_r))/(X_m+R_r_1+R_r_2+X_r);\n",
"I_r=V_x/(X_r+R_r_1+R_r_2);\n",
"[I_r_max,I_r_phi]=polar(I_r);\n",
"P_s=3*R_s*I_s_max^2;      //copper loss in stator\n",
"P_r=3*R_r_1*I_r_max^2;      //copper loss in rotor\n",
"P_dev=3*(1-s)*R_r_1*I_r_max^2/s;      //developed power\n",
"//we may verify that P_in=P_dev+P_s+P_r to within rounding error\n",
"P_in=P_dev+P_s+P_r;      //input power\n",
"P_o=P_dev-P_rot;      //output power\n",
"T_o=P_o/W_m;      //output torque\n",
"eff=P_o*100/P_in;      //efficiency\n",
"printf(' All the values in the textbook are approximated hence the values in this code differ from those of Textbook')\n",
"disp(PF,'Power factor')\n",
"disp(I_L,'line current in amperes')\n",
"disp(P_o,'output power in watts')\n",
"disp(T_o,'output torque in Nm')\n",
"disp(eff,'efficiency percentage is')"
   ]
   }
,
{
		   "cell_type": "markdown",
		   "metadata": {},
		   "source": [
			"## Example 17.2: example_2.sce"
		   ]
		  },
  {
"cell_type": "code",
	   "execution_count": null,
	   "metadata": {
	    "collapsed": true
	   },
	   "outputs": [],
"source": [
"clc\n",
"//ex17.2\n",
"s=1;      //slip for starting\n",
"V_L=440*complex(cos(0),sin(0));\n",
"f=60;\n",
"R_s=1.2;\n",
"X_s=%i*2;\n",
"X_m=%i*50;\n",
"R_r_1=0.6;\n",
"R_r_2=19.4;\n",
"X_r=%i*0.8;\n",
"Z_eq=X_m*(R_r_1+X_r)/(X_m+R_r_1+X_r);      //equivalent impedance to the right in the figure in textbook\n",
"Z_s=R_s+X_s+Z_eq;\n",
"I_s=V_s/Z_s;      //starting phase current\n",
"[I_s_max,phi]=polar(I_s);\n",
"I_L=sqrt(3)*I_s_max;      //starting line current\n",
"//I_L here is almost six times larger than in previous example. It is a typical characteristic of induction motors.\n",
"P_ag=3*real(Z_eq)*I_s_max^2;      //power crossing air gap\n",
"W_s=2*%pi*(60);\n",
"T_dev=P_ag/(W_s/2);\n",
"printf(' All the values in the textbook are approximated hence the values in this code differ from those of Textbook')\n",
"disp(I_L,'Starting line current')\n",
"disp(T_dev,'Torque in Nm')"
   ]
   }
,
{
		   "cell_type": "markdown",
		   "metadata": {},
		   "source": [
			"## Example 17.3: example_3.sce"
		   ]
		  },
  {
"cell_type": "code",
	   "execution_count": null,
	   "metadata": {
	    "collapsed": true
	   },
	   "outputs": [],
"source": [
"clc\n",
"//ex17.3\n",
"V_L=220;\n",
"V_s=V_L/sqrt(3);      //phase voltage\n",
"I_s=31.87;\n",
"P_s=400;      //total stator copper losses\n",
"P_r=150;      //total rotoe copper losses\n",
"P_rot=500;      //rotational losses\n",
"PF=0.75;      //power factor\n",
"P_in=3*V_s*I_s*PF;      //input power\n",
"P_ag=P_in-P_s;      //air-gap power\n",
"P_dev=P_in-P_s-P_r;      //developed power\n",
"P_o=P_dev-P_rot;      //output power\n",
"eff=P_o*100/P_in;      //efficiency\n",
"printf(' All the values in the textbook are approximated hence the values in this code differ from those of Textbook')\n",
"disp(P_ag,'Power crossing the air gap in watts')\n",
"disp(P_dev,'developed power in watts')\n",
"disp(P_o,'output power in watts')\n",
"disp(eff,'effciency percentage')      //this value is given wrong in the textbook"
   ]
   }
,
{
		   "cell_type": "markdown",
		   "metadata": {},
		   "source": [
			"## Example 17.4: example_4.sce"
		   ]
		  },
  {
"cell_type": "code",
	   "execution_count": null,
	   "metadata": {
	    "collapsed": true
	   },
	   "outputs": [],
"source": [
"//ex17.4\n",
"P_dev_1=50*746;      //developed power\n",
"V_L=480;      //line voltage\n",
"PF=0.9;      //power factor\n",
"f=60;      //frequency\n",
"P=8;      //number of poles\n",
"X_s=1.4;      //synchronous reactance\n",
"//CASE a\n",
"n_s=120*f/P;      //speed of machine in rpm\n",
"W_s=n_s*2*%pi/60;      //speed in radians per second\n",
"T_dev=P_dev_1/W_s;      //developed torque\n",
"printf(' All the values in the textbook are approximated hence the values in this code differ from those of Textbook')\n",
"disp('CASE a:')\n",
"disp(n_s,'speed in rpm')\n",
"disp(T_dev,'developed torque in Nm')\n",
"//CASE b\n",
"V_a=V_L;      //phase voltage\n",
"I_a_max=P_dev_1/(3*V_a*PF);      //phase current\n",
"phi=acos(PF);\n",
"I_a=I_a_max*complex(cos(phi),sin(phi));\n",
"E_r=V_a-%i*X_s*I_a;      //voltage induced by rotor\n",
"E_r_max=sqrt((real(E_r)^2)+(imag(E_r)^2));\n",
"E_r_phi=atan(imag(E_r)/real(E_r));\n",
"TA=-E_r_phi;      //torque angle\n",
"disp('CASE b:')\n",
"disp('Phase current:')\n",
"disp(I_a_max,'peak value in amperes')\n",
"disp(phi*180/%pi,'phase angle in degrees')\n",
"disp('Voltage induced by rotor:')\n",
"disp(E_r_max,'peak value in volts')\n",
"disp(E_r_phi*180/%pi,'phase angle in degrees')\n",
"disp(TA*180/%pi,'torque angle in degrees')\n",
"//CASE c\n",
"//excitation constant means the values of I_f, B_r and E_r are constant\n",
"P_dev_2=100*746;\n",
"sin_t=P_dev_2*sin(TA)/P_dev_1;      //developed power is proportional to sin_t\n",
"t=asin(sin_t);\n",
"E_r=E_r_max*complex(cos(-t),sin(-t));      //E_r is constant in magnitude\n",
"I_a=(V_a-E_r)/(%i*X_s);      //new phase current\n",
"I_a_max=sqrt((real(I_a)^2)+(imag(I_a)^2));\n",
"I_a_phi=atan(imag(I_a)/real(I_a));\n",
"PF=cos(I_a_phi);\n",
"disp('CASE c:')\n",
"disp('Phase current:')\n",
"disp(I_a_max,'peak value in amperes')\n",
"disp(I_a_phi*180/%pi,'phase angle in degrees')\n",
"disp('Voltage induced by rotor:')\n",
"disp(E_r_max,'peak value in volts')\n",
"disp(-t*180/%pi,'phase angle in degrees')\n",
"disp(t*180/%pi,'torque angle in degrees')\n",
"disp(PF,'power factor is')"
   ]
   }
,
{
		   "cell_type": "markdown",
		   "metadata": {},
		   "source": [
			"## Example 17.5: example_6.sce"
		   ]
		  },
  {
"cell_type": "code",
	   "execution_count": null,
	   "metadata": {
	    "collapsed": true
	   },
	   "outputs": [],
"source": [
"clc \n",
"//ex17.5\n",
"V_a=480;      //phase voltage\n",
"f=60;      //frequency\n",
"P_dev=200*746;      //developed power\n",
"PF=0.85;      //power factor\n",
"I_f_1=10;      //field current\n",
"X_s=1.4;      //synchronous resistance\n",
"phi=acos(PF);\n",
"I_a_1_max=P_dev/(3*V_a*PF);      //phase current\n",
"I_a_1_phi=-phi;\n",
"I_a_1=I_a_1_max*complex(cos(-phi),sin(-phi));\n",
"E_r_1=V_a-%i*X_s*I_a_1;      //rotor induced voltage\n",
"[E_r_1_max,E_r_1_phi]=polar(E_r_1);\n",
"//to achieve 100 percent power factor, increase I_a until it is in phase with V_a\n",
"I_a_2=P_dev/(3*V_a*cos(0));\n",
"E_r_2=V_a-%i*X_s*I_a_2;\n",
"[E_r_2_max,E_r_2_phi]=polar(E_r_2);\n",
"I_f_2=I_f_1*E_r_2_max/E_r_1_max;      //magnitude of E_r proportional to field current\n",
"printf(' All the values in the textbook are approximated hence the values in this code differ from those of Textbook')\n",
"disp(I_f_2,'The new field current to achieve 100% power factor in amperes')"
   ]
   }
],
"metadata": {
		  "kernelspec": {
		   "display_name": "Scilab",
		   "language": "scilab",
		   "name": "scilab"
		  },
		  "language_info": {
		   "file_extension": ".sce",
		   "help_links": [
			{
			 "text": "MetaKernel Magics",
			 "url": "https://github.com/calysto/metakernel/blob/master/metakernel/magics/README.md"
			}
		   ],
		   "mimetype": "text/x-octave",
		   "name": "scilab",
		   "version": "0.7.1"
		  }
		 },
		 "nbformat": 4,
		 "nbformat_minor": 0
}
