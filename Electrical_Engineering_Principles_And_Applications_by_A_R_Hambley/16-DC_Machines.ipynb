{
"cells": [
 {
		   "cell_type": "markdown",
	   "metadata": {},
	   "source": [
       "# Chapter 16: DC Machines"
	   ]
	},
{
		   "cell_type": "markdown",
		   "metadata": {},
		   "source": [
			"## Example 16.1: example_1.sce"
		   ]
		  },
  {
"cell_type": "code",
	   "execution_count": null,
	   "metadata": {
	    "collapsed": true
	   },
	   "outputs": [],
"source": [
"clc\n",
"//ex16.1\n",
"V_rms=440;\n",
"P_o_fl=5*746;      //full-load rated output power\n",
"I_rms_fl=6.8;      //full-load line current\n",
"PF_fl=0.78;      //full-load power factor\n",
"n_fl=1150;      //full-load speed in rpm\n",
"I_rms_nl=1.2;      //no-load line current\n",
"PF_nl=0.3;      //no-load power factor\n",
"n_nl=1195;      //no-load speed in rpm\n",
"P_in_fl=sqrt(3)*V_rms*I_rms_fl*PF_fl;      //full-load input power\n",
"P_loss_fl=P_in_fl-P_o_fl;      //full-load power loss\n",
"eff_fl=(P_o_fl/P_in_fl)*100;      //full-load efficiency\n",
"P_in_nl=sqrt(3)*V_rms*I_rms_nl*PF_nl;      //no-load input power\n",
"P_o_nl=0;      //no-load output power\n",
"eff_nl=0;      //no-load efficiency('0' as P_o_nl=0)\n",
"SR=(n_nl-n_fl)*100/n_fl;      //speed regulation\n",
"printf(' All the values in the textbook are approximated hence the values in this code differ from those of Textbook')\n",
"disp(P_loss_fl,'Power loss with full-load in watts')\n",
"disp(eff_fl,'Efficiency with full-load')\n",
"disp(P_in_nl,'Input power with no-load in watts')\n",
"disp(SR,'speed regulation percentage for the motor')"
   ]
   }
,
{
		   "cell_type": "markdown",
		   "metadata": {},
		   "source": [
			"## Example 16.2: example_2.sce"
		   ]
		  },
  {
"cell_type": "code",
	   "execution_count": null,
	   "metadata": {
	    "collapsed": true
	   },
	   "outputs": [],
"source": [
"clc\n",
"//ex16.2\n",
"B=1;      //magnetic flux density\n",
"l=0.3;\n",
"V_T=2;\n",
"R_A=0.05;\n",
"//CASE a\n",
"//bar is stationary at t=0\n",
"u_ini=0;      //initial velocity of bar is 0\n",
"e_A=B*l*u_ini;      //induced voltage\n",
"i_A_ini=(V_T-e_A)/R_A;      //initial current\n",
"F_ini=B*l*i_A_ini;      //initial force on the bar\n",
"//steady state condition with no-load e_A=B*l*u=V_T\n",
"u=V_T/(B*l);      //from steady state condition with no-load\n",
"printf(' All the values in the textbook are approximated hence the values in this code differ from those of Textbook')\n",
"disp('CASE a:')\n",
"disp(i_A_ini,'initial current in amperes')\n",
"disp(F_ini,'initial force on the bar in newtons')\n",
"disp(u,'steady-state final speed in m/s')\n",
"//CASE b\n",
"F_load=4;      //mechanical load\n",
"//steady state condition F=B*l*i_A=F_load\n",
"i_A=F_load/(B*l);      //from steady state condition\n",
"e_A=V_T-R_A*i_A;      //induced voltage\n",
"u=e_A/(B*l);      //steady-state speed\n",
"P_m=F_load*u;      //mechanical power\n",
"P_t=V_T*i_A;      //power taken from battery\n",
"P_R=i_A^2*R_A;      //power dissipated in the resistance\n",
"eff=P_m*100/P_t;      //efficiency\n",
"disp('CASE b:')\n",
"disp(u,'steady-state speed in m/s')\n",
"disp(P_t,'power delivered by V_t in watts')\n",
"disp(P_m,'power delivered to mechanical load in watts')\n",
"disp(P_R,'power lost to heat in the resistance in watts')\n",
"disp(eff,'effciency of converting electrical power to mechanical power')\n",
"//CASE c\n",
"//with the pulling force acting to the right, machine operates as a generator\n",
"F_pull=2;      //pulling force\n",
"//steady-state condition F=B*l*i_A=F_pull\n",
"i_A=F_pull/(B*l);      //from steady-state condition\n",
"e_A=V_T+R_A*i_A;      //induced voltage\n",
"u=e_A/(B*l);      //steady-state speed\n",
"P_m=F_pull*u;      //mechanical power\n",
"P_t=V_T*i_A;      //power taken by battery\n",
"P_R=i_A^2*R_A;      //power dissipated in the resistance\n",
"eff=P_t*100/P_m;      //efficiency\n",
"disp('CASE c:')\n",
"disp(u,'steady-state speed in m/s')\n",
"disp(P_m,'power taken from mechanical source in watts')\n",
"disp(P_t,'power delivered to the battery in watts')\n",
"disp(P_R,'power lost to heat in the resistance')\n",
"disp(eff,'efficiency of converting mechanical power to electrical power')"
   ]
   }
,
{
		   "cell_type": "markdown",
		   "metadata": {},
		   "source": [
			"## Example 16.3: example_3.sce"
		   ]
		  },
  {
"cell_type": "code",
	   "execution_count": null,
	   "metadata": {
	    "collapsed": true
	   },
	   "outputs": [],
"source": [
"clc\n",
"//ex16.3\n",
"n_2=800;      //speed in rpm\n",
"I_A=30;      //armature current\n",
"I_F=2.5;      //field current\n",
"R_A=0.3;      //armature resistance\n",
"R_F=50;      //field resistance\n",
"V_F=I_F*R_F;      //field coil voltage\n",
"//E_A1 and n_1 from magnetization curve\n",
"E_A1=145;      //induced voltage\n",
"n_1=1200;      //speed in rpm\n",
"E_A2=n_2*E_A1/n_1;\n",
"W_m=n_2*2*%pi/60;      //speed in radians per second\n",
"K=E_A2/W_m;      //K*phi is taken as K, machine constant\n",
"T_dev=K*I_A;      //developed torque\n",
"P_dev=W_m*T_dev;      //developed power\n",
"V_T=R_A*I_A+E_A2;      //voltage applied to armature\n",
"printf(' All the values in the textbook are approximated hence the values in this code differ from those of Textbook')\n",
"disp(V_F,'Voltage applied to field circuit in volts')\n",
"disp(V_T,'Voltage applied to armature in volts')\n",
"disp(T_dev,'Developed torque in Nm')      //Nm-newton meter\n",
"disp(P_dev,'Developed power in watts')"
   ]
   }
,
{
		   "cell_type": "markdown",
		   "metadata": {},
		   "source": [
			"## Example 16.4: example_4.sce"
		   ]
		  },
  {
"cell_type": "code",
	   "execution_count": null,
	   "metadata": {
	    "collapsed": true
	   },
	   "outputs": [],
"source": [
"clc\n",
"//ex16.4\n",
"V_T=240;      //dc supply voltage\n",
"R_A=0.065;      //armature resistance\n",
"R_F=10;      //field resistance\n",
"R_adj=14;      //adjustable resistance\n",
"n=1200;      //speed in rpm\n",
"P_rot=1450;      //rotational power loss\n",
"T_out=250;      //hoist torque\n",
"I_F=V_T/(R_F+R_adj);      //field current\n",
"//E_A at I_F and n from magnetization curve  \n",
"E_A_1=280;      //armature voltage\n",
"W_m_1=n*2*%pi/60;      //speed in radians per second\n",
"K=E_A_1/W_m_1;      //machine constant\n",
"T_rot=P_rot/W_m_1;      //rotational loss-torque\n",
"T_dev=T_rot+T_out;      //developed torque\n",
"I_A=T_dev/K;      //armature current\n",
"E_A_2=V_T-R_A*I_A;      //applying KVL\n",
"W_m_2=E_A_2/K;      //speed in radians per second\n",
"n_m=W_m_2*60/(2*%pi);      //speed in rpm\n",
"P_out=T_out*W_m_2;      //output power\n",
"I_L=I_F+I_A;      //line current\n",
"P_in=V_T*I_L;      //input power\n",
"eff=P_out*100/P_in;      //efficiency\n",
"printf(' All the values in the textbook are approximated hence the values in this code differ from those of Textbook')\n",
"disp(n_m,'Motor speed in rpm')\n",
"disp(eff,'Efficiency of the motor')"
   ]
   }
,
{
		   "cell_type": "markdown",
		   "metadata": {},
		   "source": [
			"## Example 16.5: example_5.sce"
		   ]
		  },
  {
"cell_type": "code",
	   "execution_count": null,
	   "metadata": {
	    "collapsed": true
	   },
	   "outputs": [],
"source": [
"clc\n",
"//ex16.5\n",
"n_m_1=1200;      //speed in rpm\n",
"T_out_1=12;      //motor torque\n",
"W_m_1=n_m_1*2*%pi/60;      //angular speed\n",
"//As we are neglecting losses, the output torque and power are equal to the developed torque and power respectively\n",
"P_out_1=W_m_1*T_out_1;      //output power\n",
"//For Torque=24\n",
"T_out_2=24;\n",
"T_dev_2=T_out_2;\n",
"//T_dev=K*K_F*V_T^2/(R_A+R_F+K*K_F*W_m^2)\n",
"//neglecting resistances and with the above equation for T_dev, we get inverse relation between torque and square of speed\n",
"W_m_2=W_m_1*sqrt(T_out_1)/sqrt(T_dev_2);\n",
"n_m_2=W_m_2*60/(2*%pi);\n",
"P_out_2=T_dev_2*W_m_2;\n",
"printf(' All the values in the textbook are approximated hence the values in this code differ from those of Textbook')\n",
"disp(P_out_1,'Output power for load torque=12 in watts')\n",
"disp(n_m_2,'speed for torque=24 in rpm')\n",
"disp(P_out_2,'Output power for load torque=24 in watts')"
   ]
   }
,
{
		   "cell_type": "markdown",
		   "metadata": {},
		   "source": [
			"## Example 16.6: example_6.sce"
		   ]
		  },
  {
"cell_type": "code",
	   "execution_count": null,
	   "metadata": {
	    "collapsed": true
	   },
	   "outputs": [],
"source": [
"clc\n",
"//ex16.6\n",
"V_F=140;      //field voltage\n",
"R_F=10;      //field resistance\n",
"R_adj=4;      //adjusting resistance\n",
"R_A=0.065;      //armature resistance\n",
"n_A=1000;      //armature speed in rpm\n",
"I_fl=200;      //full-load current\n",
"eff=0.85;      //efficiency not including power supplied to field circuit\n",
"I_F=V_F/(R_adj+R_F);      //field current\n",
"//E, voltage from magnetization curve for speed of n=1200\n",
"n=1200;\n",
"E=280;      //voltage of armature\n",
"//E_A is no-load voltage\n",
"E_A=E*n_A/n;      //E_A is proportional to speed\n",
"V_FL=E_A-R_A*I_fl;      //full-load voltage\n",
"VR=(E_A-V_FL)*100/V_FL;      //voltage regulation\n",
"P_out=I_fl*V_FL;      //output power\n",
"P_dev=P_out+(I_fl^2)*R_A;      //developed power\n",
"W_m=n_A*2*%pi/60;      //angular speed\n",
"P_in=P_out/eff;      //input power\n",
"P_loss=P_in-P_dev;      //all power losses combined\n",
"T_in=P_in/W_m;      //input torque\n",
"T_dev=P_dev/W_m;      //developed torque\n",
"printf(' All the values in the textbook are approximated hence the values in this code differ from those of Textbook')\n",
"disp(I_F,'Field current in amperes')\n",
"disp(E_A,'no-load voltage in volts')\n",
"disp(V_FL,'full-load voltage in volts')\n",
"disp(VR,'percentage voltage regulation')\n",
"disp(T_in,'input torque in Nm')\n",
"disp(T_dev,'developed torque')\n",
"disp(P_loss,'all types of power losses combined in watts')"
   ]
   }
],
"metadata": {
		  "kernelspec": {
		   "display_name": "Scilab",
		   "language": "scilab",
		   "name": "scilab"
		  },
		  "language_info": {
		   "file_extension": ".sce",
		   "help_links": [
			{
			 "text": "MetaKernel Magics",
			 "url": "https://github.com/calysto/metakernel/blob/master/metakernel/magics/README.md"
			}
		   ],
		   "mimetype": "text/x-octave",
		   "name": "scilab",
		   "version": "0.7.1"
		  }
		 },
		 "nbformat": 4,
		 "nbformat_minor": 0
}
