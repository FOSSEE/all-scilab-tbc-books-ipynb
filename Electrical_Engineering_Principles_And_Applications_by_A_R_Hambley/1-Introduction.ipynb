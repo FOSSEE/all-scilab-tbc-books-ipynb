{
"cells": [
 {
		   "cell_type": "markdown",
	   "metadata": {},
	   "source": [
       "# Chapter 1: Introduction"
	   ]
	},
{
		   "cell_type": "markdown",
		   "metadata": {},
		   "source": [
			"## Example 1.1: example_1.sce"
		   ]
		  },
  {
"cell_type": "code",
	   "execution_count": null,
	   "metadata": {
	    "collapsed": true
	   },
	   "outputs": [],
"source": [
"//ex1.1\n",
"//As both q and i are 0 when t<0, graph coincides with x-axis till t=0 and we here,show the part where t>0\n",
"t=[0:0.000001:0.04];\n",
"q=2*(1-%e^(-100*t));\n",
"//current i=dq/dt=200*e^(-100*t)\n",
"i=200*%e^(-100*t);\n",
"subplot(121)\n",
"xtitle('charge vs time','time in ms','charge in coulombs')      //ms-milli second(10^-3)\n",
"plot(t*10^3,q)\n",
"subplot(122)\n",
"xtitle('current vs time','time in ms','current in amperes')      //ms-milli second(10^-3)\n",
"plot(t*10^3,i)"
   ]
   }
,
{
		   "cell_type": "markdown",
		   "metadata": {},
		   "source": [
			"## Example 1.2: example_2.sce"
		   ]
		  },
  {
"cell_type": "code",
	   "execution_count": null,
	   "metadata": {
	    "collapsed": true
	   },
	   "outputs": [],
"source": [
"clc \n",
"//ex1.2\n",
"\n",
"//element A\n",
"disp('ELEMENT A :')\n",
"V_a=12;\n",
"i_a=2;\n",
"P_a=V_a*i_a;      //passive reference configuration (current enters through +ve polarity)\n",
"if(P_a>0) then,      //absorption of power\n",
"    disp(P_a,'Power for element A in watts is')\n",
"    disp('As a battery, element A is being charged')\n",
"elseif(P_a<0) then,      //supplying of power\n",
"    disp(P_a,'Power for element A in watts is')\n",
"    disp('As a battery, element A is being discharged')\n",
"end\n",
"\n",
"//element B\n",
"disp('ELEMENT B')\n",
"V_b=12;\n",
"i_b=1;\n",
"P_b=-V_b*i_b;      //opposite to passive reference configuration (current enters through -ve polarity)\n",
"if(P_b>0) then,      //absorption of power\n",
"    disp(P_b,'Power for element B in watts is')\n",
"    disp('As a battery, element B is being charged')\n",
"elseif(P_b<0) then,      //supplying of power\n",
"    disp(P_b,'Power for element B in watts is')\n",
"    disp('As a battery, element B is being discharged')\n",
"end\n",
"\n",
"//element C\n",
"disp('ELEMENT C')\n",
"V_c=12;\n",
"i_c=-3;\n",
"P_c=V_c*i_c;      //passive reference configuration (current enters through +ve polarity)\n",
"if(P_c>0) then,      //absorption of power\n",
"    disp(P_c,'Power for element C in watts is')\n",
"    disp('As a battery, element C is being charged')\n",
"elseif(P_c<0) then,      //supplying of power\n",
"    disp(P_c,'Power for element C in watts is')\n",
"    disp('As a battery, element C is being discharged')\n",
"end"
   ]
   }
,
{
		   "cell_type": "markdown",
		   "metadata": {},
		   "source": [
			"## Example 1.3: example_3.sce"
		   ]
		  },
  {
"cell_type": "code",
	   "execution_count": null,
	   "metadata": {
	    "collapsed": true
	   },
	   "outputs": [],
"source": [
"clc\n",
"// initialisation of variables\n",
"G= 9200 // N/m^2\n",
"g1= 9.81 // m/sec^2\n",
"g2= 9.805 //m/sec^2\n",
"// Calculations\n",
"rho= G/g1\n",
"G2= rho*g2\n",
"// Results\n",
"printf ('Density of Fluid = %.1f N sec^2/m^4',rho)\n",
"printf ('\n New Specific Weight = %.f N/m^3',G2)"
   ]
   }
,
{
		   "cell_type": "markdown",
		   "metadata": {},
		   "source": [
			"## Example 1.4: example_4.sce"
		   ]
		  },
  {
"cell_type": "code",
	   "execution_count": null,
	   "metadata": {
	    "collapsed": true
	   },
	   "outputs": [],
"source": [
"clc\n",
"//ex1.4\n",
"d=2.05*10^-3;      //diameter of wire\n",
"l=10;      //length of wire\n",
"P=1.72*10^-8;      //resistivity of copper\n",
"A=%pi*d^2/4;      //area of wire\n",
"R=P*l/A;      //resistance of the copper wire\n",
"printf(' All the values in the textbook are approximated, hence the values in this code differ from those of textbook')\n",
"disp(R,'Resistance of copper wire in ohms')"
   ]
   }
,
{
		   "cell_type": "markdown",
		   "metadata": {},
		   "source": [
			"## Example 1.5: example_5.sce"
		   ]
		  },
  {
"cell_type": "code",
	   "execution_count": null,
	   "metadata": {
	    "collapsed": true
	   },
	   "outputs": [],
"source": [
"clc\n",
"//ex1.5\n",
"P=1500;      //power of heater\n",
"V=120;      //operating voltage\n",
"R=V^2/P;      //resistance of heater element\n",
"i=V/R;      //operating current\n",
"disp(R,'resistance of heater element in ohms')\n",
"disp(i,'operating current in amperes')"
   ]
   }
,
{
		   "cell_type": "markdown",
		   "metadata": {},
		   "source": [
			"## Example 1.6: example_6.sce"
		   ]
		  },
  {
"cell_type": "code",
	   "execution_count": null,
	   "metadata": {
	    "collapsed": true
	   },
	   "outputs": [],
"source": [
"clc\n",
"//ex1.6\n",
"V_s=10;      //source voltage\n",
"R=5;\n",
"V_x=-V_s;      //Voltage across R(applying KVL)\n",
"//the actual polarity is opposite to the reference, so we take polarity to be +ve at the top end of resistance\n",
"i_x=-V_x/R;      //ohm's law(-ve sign as V_x and i_x have references opposite to passive configuration)\n",
"i_y=-i_x;      //current through source\n",
"P_s=V_s*i_y;      //power for voltage source\n",
"P_R=-V_x*i_x;      //power for resistance(-ve sign as V_x and i_x have references opposite to passive configuration)\n",
"disp(V_x,'voltage across resistance in volts')\n",
"disp(i_x,'current through resistance in amperes')\n",
"disp(i_y,'current through source in amperes')\n",
"disp(P_s,'power for voltage source in watts')\n",
"disp(P_R,'power for resistance in watts')\n",
"if(V_x==-10&i_x==2&i_y==-2&P_s==-20&P_R==20) then,\n",
"    disp('Results are in agreement with those previously found in the textbook')\n",
"end\n",
""
   ]
   }
,
{
		   "cell_type": "markdown",
		   "metadata": {},
		   "source": [
			"## Example 1.7: example_7.sce"
		   ]
		  },
  {
"cell_type": "code",
	   "execution_count": null,
	   "metadata": {
	    "collapsed": true
	   },
	   "outputs": [],
"source": [
"clc\n",
"//ex1.7\n",
"R_1=10;\n",
"R_2=5;\n",
"V_R_2=15;      //voltage across R_2\n",
"a=0.5;\n",
"i_y=V_R_2/R_2;      //current across R_2\n",
"i_x=i_y*2/3;      //current across R_1, by applying KCL at the top end of the controlled source \n",
"V_x=i_x*R_1;      //ohm's law\n",
"V_s=V_x+V_R_2;      //KVL around the periphery of the circuit\n",
"disp(V_s,'Source voltage for given circuit in volts')"
   ]
   }
],
"metadata": {
		  "kernelspec": {
		   "display_name": "Scilab",
		   "language": "scilab",
		   "name": "scilab"
		  },
		  "language_info": {
		   "file_extension": ".sce",
		   "help_links": [
			{
			 "text": "MetaKernel Magics",
			 "url": "https://github.com/calysto/metakernel/blob/master/metakernel/magics/README.md"
			}
		   ],
		   "mimetype": "text/x-octave",
		   "name": "scilab",
		   "version": "0.7.1"
		  }
		 },
		 "nbformat": 4,
		 "nbformat_minor": 0
}
