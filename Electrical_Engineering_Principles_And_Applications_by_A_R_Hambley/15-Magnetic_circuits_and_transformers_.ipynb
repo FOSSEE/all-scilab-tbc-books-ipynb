{
"cells": [
 {
		   "cell_type": "markdown",
	   "metadata": {},
	   "source": [
       "# Chapter 15: Magnetic circuits and transformers "
	   ]
	},
{
		   "cell_type": "markdown",
		   "metadata": {},
		   "source": [
			"## Example 15.10: example_10.sce"
		   ]
		  },
  {
"cell_type": "code",
	   "execution_count": null,
	   "metadata": {
	    "collapsed": true
	   },
	   "outputs": [],
"source": [
"clc\n",
"//ex15.10\n",
"V_1_rms=110;\n",
"R_L=10;\n",
"tr=5;      //turns ratio(N1/N2)\n",
"V_2_rms=V_1_rms/tr;      //primary and secondary voltage relation\n",
"//a)open switch\n",
"disp('OPEN switch')\n",
"disp(V_1_rms,'Primary voltage in volts')\n",
"disp(V_2_rms,'Secondary voltage in volts')\n",
"//As switch is open, current in second winding is 0 which implies the current in primary coil to be 0 (ideal transformer condition)\n",
"disp(0,'Current in primary winding in amperes')\n",
"disp(0,'Current in secondary winding in amperes')\n",
"//b)closed switch\n",
"disp('CLOSED switch')\n",
"I_2_rms=V_2_rms/R_L;      //ohm's law\n",
"I_1_rms=I_2_rms/tr;      //ideal transformer condition\n",
"disp(V_1_rms,'Primary voltage in volts')\n",
"disp(V_2_rms,'Secondary voltage in volts')\n",
"disp(I_1_rms,'Current in primary winding in amperes')\n",
"disp(I_2_rms,'Current in secondary winding in amperes')"
   ]
   }
,
{
		   "cell_type": "markdown",
		   "metadata": {},
		   "source": [
			"## Example 15.11: example_11.sce"
		   ]
		  },
  {
"cell_type": "code",
	   "execution_count": null,
	   "metadata": {
	    "collapsed": true
	   },
	   "outputs": [],
"source": [
"clc\n",
"//ex15.11\n",
"V_s=1000*complex(cos(0),sin(0));      //source voltage phasor\n",
"R_1=10^3;\n",
"R_L=10;\n",
"Z_L_1=R_L+%i*20;      //impedance\n",
"tr=10;      //turns ratio(N1/N2)\n",
"Z_L_2=(tr^2)*Z_L_1;      //reflecting Z_L_1 onto primary side\n",
"Z_s=R_1+Z_L_2;      //total impedance seen by the source \n",
"[Z_s_max,Z_s_phi]=polar(Z_s);\n",
"//primary quantities\n",
"I_1=V_s/Z_s;\n",
"[I_1_max,I_1_phi]=polar(I_1);\n",
"V_1=I_1*Z_L_2;\n",
"[V_1_max,V_1_phi]=polar(V_1);\n",
"//using turns ratio to find secondary quantities\n",
"I_2=tr*I_1;\n",
"[I_2_max,I_2_phi]=polar(I_2);\n",
"V_2=V_1/tr;\n",
"[V_2_max,V_2_phi]=polar(V_2);\n",
"I_2_rms=I_2_max/sqrt(2);\n",
"P_L=(I_2_rms^2)*R_L;      //power to load\n",
"printf(' All the values in the textbook are approximated hence the values in this code differ from those of Textbook')\n",
"//we take real parts of angles to take out neglegible and unnecessary imaginary parts(if any are there)\n",
"disp('PRIMARY CURRENT:')\n",
"disp(I_1_max,'peak value in amperes')\n",
"disp(real(I_1_phi*180/%pi),'phase angle in degrees')\n",
"disp('PRIMARY VOLTAGE:')\n",
"disp(V_1_max,'peak value in amperes')\n",
"disp(real(V_1_phi*180/%pi),'phase angle in degrees')\n",
"disp('SECONDARY CURRENT')\n",
"disp(I_2_max,'peak value in amperes')\n",
"disp(real(I_2_phi*180/%pi),'phase angle in degrees')\n",
"disp('SECONDARY VOLTAGE')\n",
"disp(V_2_max,'peak value in amperes')\n",
"disp(real(V_2_phi*180/%pi),'phase angle in degrees')\n",
"disp(P_L,'power delivered to load in watts')"
   ]
   }
,
{
		   "cell_type": "markdown",
		   "metadata": {},
		   "source": [
			"## Example 15.12: example_12.sce"
		   ]
		  },
  {
"cell_type": "code",
	   "execution_count": null,
	   "metadata": {
	    "collapsed": true
	   },
	   "outputs": [],
"source": [
"clc\n",
"//ex15.12\n",
"V_s=1000*complex(cos(0),sin(0));      //source voltage phasor\n",
"R_1=10^3;\n",
"tr=10;      //turns ratio(N1/N2)\n",
"V_S=V_s/tr;      //reflected voltage\n",
"[V_S_max,V_S_phi]=polar(V_S);\n",
"R1=R_1/(tr^2);      //reflected resistance\n",
"//we take real parts of angles to take out neglegible and unnecessary imaginary parts(if any are there)\n",
"disp('Reflected voltage:')\n",
"disp(V_S_max,'Peak value in volts')\n",
"disp(V_S_phi*180/%pi,'phase angle in degrees')\n",
"disp(R1,'Reflected resistance in ohms')"
   ]
   }
,
{
		   "cell_type": "markdown",
		   "metadata": {},
		   "source": [
			"## Example 15.13: example_13.sce"
		   ]
		  },
  {
"cell_type": "code",
	   "execution_count": null,
	   "metadata": {
	    "collapsed": true
	   },
	   "outputs": [],
"source": [
"clc\n",
"//ex15.13\n",
"V_L_max=240;\n",
"V_L=V_L_max*complex(cos(0),sin(0));      //load voltage\n",
"R_1=3;\n",
"R_2=0.03;\n",
"R_c=100*10^3;      //core-loss resistance\n",
"tr=10;      //turns ratio(N1/N2)\n",
"//leakage reactances\n",
"Z_1=%i*6.5;\n",
"Z_2=%i*0.07;\n",
"Z_m=%i*15*10^3;\n",
"P_R=20*10^3;      //rated power\n",
"I_2_max=P_R/real(V_L);\n",
"PF=0.8;      //power factor\n",
"phi=-acos(PF);      //-ve for lagging power\n",
"I_2=complex(I_2_max*cos(phi),I_2_max*sin(phi));      //phasor\n",
"I_1=I_2/tr;      //primary current\n",
"[I_1_max,I_1_phi]=polar(I_1);\n",
"V_2=V_L+(R_2+Z_2)*I_2;      //KVL equation\n",
"V_1=tr*V_2;\n",
"V_s=V_1+(R_1+Z_1)*I_1;      //KVL equation\n",
"[V_s_max,V_s_phi]=polar(V_s);\n",
"P_loss=((V_s_max^2)/R_c)+((I_1_max^2)*R_1)+((I_2_max^2)*R_2);      //power loss in transformer\n",
"P_L=V_L*I_2*PF;      //power to load\n",
"P_in=P_L+P_loss;      //input power\n",
"P_eff=(1-(P_loss/P_in))*100;\n",
"//under no-load condtions\n",
"I_1=0;\n",
"I_2=0;\n",
"V_1=V_s_max;\n",
"V_no_load=V_1/tr;\n",
"PR=((V_no_load-V_L_max)/V_L_max)*100;\n",
"disp(PR,'Percent regulation')"
   ]
   }
,
{
		   "cell_type": "markdown",
		   "metadata": {},
		   "source": [
			"## Example 15.3: example_3.sce"
		   ]
		  },
  {
"cell_type": "code",
	   "execution_count": null,
	   "metadata": {
	    "collapsed": true
	   },
	   "outputs": [],
"source": [
"clc\n",
"//ex15.3\n",
"M_r=5000;      //relative permeability\n",
"R=10*10^-2;\n",
"r=2*10^-2;\n",
"N=100;      //number of turns\n",
"//complex number 'i' is used as a symbol here\n",
"I=2*%i;      //here 'i' represents sin(200*%pi*t), not as a complex number\n",
"M_o=4*%pi*10^-7;      //permeability of free space\n",
"M=M_r*M_o;      //permeability of the core material\n",
"phi=M*N*I*r^2/(2*R);      //flux\n",
"FL=N*phi;      //flux linkages\n",
"printf(' All the values in the textbook are approximated hence the values in this code differ from those of Textbook')\n",
"disp('In the below two values,i represents sin(200*%pi*t)')      //t-time\n",
"disp(phi,'flux in webers')\n",
"disp(FL,'flux linkages in weber turns')\n",
"//differentiating 'λ' with respect to t\n",
"disp('In the below answer, i represents cos(200*%pi*t)')\n",
"disp(FL*200*%pi,'Voltage induced in the coil in volts')"
   ]
   }
,
{
		   "cell_type": "markdown",
		   "metadata": {},
		   "source": [
			"## Example 15.5: example_5.sce"
		   ]
		  },
  {
"cell_type": "code",
	   "execution_count": null,
	   "metadata": {
	    "collapsed": true
	   },
	   "outputs": [],
"source": [
"clc\n",
"//ex15.5\n",
"M_r=6000;      //relative permeability\n",
"M_o=4*%pi*10^-7;      //permeability of free space\n",
"w_r=3*10^-2;      //width of rectangular cross-section\n",
"d_r=2*10^-2;      //depth of rectangular cross-section\n",
"N=500;      //number of turns of coil\n",
"B_gap=0.25;      //flux density\n",
"gap=0.5*10^-2;      //air gap\n",
"//centerline of the flux path is a square of side 6cm\n",
"l_s=6*10^-2;      //side of square\n",
"l_core=4*l_s-gap;      //mean length of the iron core\n",
"A_core=w_r*d_r;      //cross-sectional area of the core\n",
"M_core=M_r*M_o;      //permeability of core\n",
"R!_core=l_core/(M_core*A_core);      //reluctance of the core\n",
"A_gap=(d_r+gap)*(w_r+gap);      //effective area of gap\n",
"M_gap=M_o;      //permeability of air(gap)\n",
"R!_gap=gap/(M_gap*A_gap);      //reluctance of gap\n",
"R!=R!_gap+R!_core;      //total reluctance\n",
"phi=B_gap*A_gap;      //flux\n",
"F=phi*R!;      //magnetomotive force\n",
"i=F/N;      //current\n",
"printf(' All the values in the textbook are approximated hence the values in this code differ from those of Textbook')\n",
"disp(i,'Current value in amperes')"
   ]
   }
,
{
		   "cell_type": "markdown",
		   "metadata": {},
		   "source": [
			"## Example 15.6: example_6.sce"
		   ]
		  },
  {
"cell_type": "code",
	   "execution_count": null,
	   "metadata": {
	    "collapsed": true
	   },
	   "outputs": [],
"source": [
"clc\n",
"//ex15.6\n",
"w_core=2*10^-2;      //width\n",
"d_core=2*10^-2;      //depth\n",
"A_core=w_core*d_core;      //area of core\n",
"M_r=1000;      //relative permeability\n",
"M_o=4*%pi*10^-7;      //permeability of free space\n",
"gap_a=1*10^-2;\n",
"gap_b=0.5*10^-2;\n",
"N=500;      //number of turns of coil\n",
"i=2;      //current in the coil\n",
"l_c=10*10^-2;      //length for center path\n",
"R!_c=l_c/(M_r*M_o*A_core);      //reluctance of center path\n",
"//For left side\n",
"//taking fringing ino account\n",
"A_gap_a=(w_core+gap_a)*(d_core+gap_a);      //area of gap a\n",
"R!_gap_a=gap_a/(M_o*A_gap_a);      //reluctance of gap a\n",
"l_s=10*10^-2;      //side of square\n",
"l_core_l=3*l_s-gap_a;      //mean length on left side\n",
"R!_core_l=l_core_l/(M_r*M_o*A_core);      //reluctance of core\n",
"R!_L=R!_core_l+R!_gap_a;      //total reluctance on left side\n",
"//For right side\n",
"//taking fringing ino account\n",
"A_gap_b=(w_core+gap_b)*(d_core+gap_b);      //area of gap b\n",
"R!_gap_b=gap_b/(M_o*A_gap_b);      //reluctance of gap b\n",
"l_s=10*10^-2;      //side of square\n",
"l_core_r=3*l_s-gap_b;      //mean length on right side\n",
"R!_core_r=l_core_r/(M_r*M_o*A_core);      //reluctance of core\n",
"R!_R=R!_core_r+R!_gap_b;      //total reluctance on right side\n",
"R!_T=R!_c+1/((1/R!_L)+(1/(R!_R)));      //total reluctance\n",
"phi_c=N*i/(R!_T);      //flux in the center leg of coil\n",
"//by current-division principle\n",
"phi_L=phi_c*R!_R/(R!_L+R!_R);      //left side\n",
"phi_R=phi_c*R!_L/(R!_L+R!_R);      //right side\n",
"B_L=phi_L/A_gap_a;      //flux density in gap a\n",
"B_R=phi_R/A_gap_b;      //flux density in gap b\n",
"printf(' All the values in the textbook are approximated hence the values in this code differ from those of Textbook')\n",
"disp(B_L,'flux density in gap a in tesla')\n",
"disp(B_R,'flux density in gap b in tesla')"
   ]
   }
,
{
		   "cell_type": "markdown",
		   "metadata": {},
		   "source": [
			"## Example 15.7: example_7.sce"
		   ]
		  },
  {
"cell_type": "code",
	   "execution_count": null,
	   "metadata": {
	    "collapsed": true
	   },
	   "outputs": [],
"source": [
"clc\n",
"//ex15.7\n",
"N=500;      //number of turns of coil\n",
"R!=4.6*10^6;      //reluctance of the magnetic path from ex15.5\n",
"L=N^2/R!;      //inductance\n",
"printf(' All the values in the textbook are approximated hence the values in this code differ from those of Textbook')\n",
"disp(L*10^3,'Inductance of the given coil in milli-henry')      //milli-10^-3"
   ]
   }
,
{
		   "cell_type": "markdown",
		   "metadata": {},
		   "source": [
			"## Example 15.8: example_8.sce"
		   ]
		  },
  {
"cell_type": "code",
	   "execution_count": null,
	   "metadata": {
	    "collapsed": true
	   },
	   "outputs": [],
"source": [
"clc\n",
"//ex15.8\n",
"R!=10^7;      //reluctance of core\n",
"N_1=100;      //turns for coil 1\n",
"N_2=200;      //turns for coil 2\n",
"L_1=N_1^2/R!;      //self-inductance of coil 1\n",
"L_2=N_2^2/R!;      //self-inductance of coil 2\n",
"//here, complex number i represents i_1 in textbook\n",
"phi_1=N_1*%i/R!;      //flux produced by i(i_1)\n",
"L_21=N_2*phi_1;      //flux linkages of coil 2 from current in coil 1\n",
"M=L_21/%i;      //mutual inductance\n",
"//milli-(10^-3)\n",
"disp(L_1*10^3,'self-inductance of coil 1 in milli henry')\n",
"disp(L_2*10^3,'self-inductance of coil 2 in milli henry')\n",
"disp(M*10^3,'mutual inductance of the coils in milli henry')"
   ]
   }
,
{
		   "cell_type": "markdown",
		   "metadata": {},
		   "source": [
			"## Example 15.9: example_9.sce"
		   ]
		  },
  {
"cell_type": "code",
	   "execution_count": null,
	   "metadata": {
	    "collapsed": true
	   },
	   "outputs": [],
"source": [
"clc\n",
"//ex15.9\n",
"V_s_rms=4700;      //for source\n",
"V_L_rms=220;      //load voltage\n",
"tr=V_s_rms/V_L_rms;      //turns ratio\n",
"printf(' All the values in the textbook are approximated hence the values in this code differ from those of Textbook')\n",
"disp('The required turns ratio N1/N2=')\n",
"disp(tr)"
   ]
   }
],
"metadata": {
		  "kernelspec": {
		   "display_name": "Scilab",
		   "language": "scilab",
		   "name": "scilab"
		  },
		  "language_info": {
		   "file_extension": ".sce",
		   "help_links": [
			{
			 "text": "MetaKernel Magics",
			 "url": "https://github.com/calysto/metakernel/blob/master/metakernel/magics/README.md"
			}
		   ],
		   "mimetype": "text/x-octave",
		   "name": "scilab",
		   "version": "0.7.1"
		  }
		 },
		 "nbformat": 4,
		 "nbformat_minor": 0
}
