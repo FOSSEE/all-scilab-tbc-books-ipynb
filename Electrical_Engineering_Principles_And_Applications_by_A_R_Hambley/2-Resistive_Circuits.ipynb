{
"cells": [
 {
		   "cell_type": "markdown",
	   "metadata": {},
	   "source": [
       "# Chapter 2: Resistive Circuits"
	   ]
	},
{
		   "cell_type": "markdown",
		   "metadata": {},
		   "source": [
			"## Example 2.11: example_11.sce"
		   ]
		  },
  {
"cell_type": "code",
	   "execution_count": null,
	   "metadata": {
	    "collapsed": true
	   },
	   "outputs": [],
"source": [
"clc\n",
"//ex2.11\n",
"disp('KCL for a supernode enclosing the conrolled voltage source')\n",
"disp('(V1/R2)+((V1-V3)/R1)+((V2-V3)/R3)=is')\n",
"disp('KCL at node 3')\n",
"disp('(V3/R4)+((V3-V2)/R3)+((V3-V1)/R1)=0')\n",
"disp('KCL at the reference node')\n",
"disp('(V1/R2)+(V3/R4)=is')\n",
"disp('From the closed loop with V1,Vx and V3')\n",
"disp('Vx=V3-V1')\n",
"disp('Applying KVL')\n",
"disp('V1=0.5(V3-V1)+V2')\n",
"disp('The last KVL equation along with any two of the first three KCL equations forms an independent set that can be solved for the node voltages.')"
   ]
   }
,
{
		   "cell_type": "markdown",
		   "metadata": {},
		   "source": [
			"## Example 2.12: example_12.sce"
		   ]
		  },
  {
"cell_type": "code",
	   "execution_count": null,
	   "metadata": {
	    "collapsed": true
	   },
	   "outputs": [],
"source": [
"clc\n",
"//ex2.12\n",
"//In all the below equations, mesh currents are taken to be flown in clockwise direction\n",
"disp('The required equations to solve for mesh currents are:')\n",
"disp('R2(i1-i3)+R3(i1-i2)-VA=0')      //KVL for mesh1\n",
"disp('R3(i2-i1)+R4(i2)+VB=0')      //KVL for mesh 2\n",
"disp('R2(i3-i1)+R1(i3)-VB=0')      //KVL for mesh 3"
   ]
   }
,
{
		   "cell_type": "markdown",
		   "metadata": {},
		   "source": [
			"## Example 2.13: example_13.sce"
		   ]
		  },
  {
"cell_type": "code",
	   "execution_count": null,
	   "metadata": {
	    "collapsed": true
	   },
	   "outputs": [],
"source": [
"clc\n",
"//ex2.13\n",
"R=[30 -10 -20;-10 22 -12;-20 -12 46];      //coefficient matrix\n",
"V=[70;-42;0]      //voltage matrix\n",
"I=R\V;      //current matrix(from R*I=V)\n",
"disp(I(1),'current in mesh1 in amperes, i1=')\n",
"disp(I(2),'current in mesh2 in amperes, i2=')\n",
"disp(I(3),'current in mesh3 in amperes, i3=')"
   ]
   }
,
{
		   "cell_type": "markdown",
		   "metadata": {},
		   "source": [
			"## Example 2.14: example_14.sce"
		   ]
		  },
  {
"cell_type": "code",
	   "execution_count": null,
	   "metadata": {
	    "collapsed": true
	   },
	   "outputs": [],
"source": [
"clc\n",
"//ex2.14\n",
"//taking mesh currents i1, i2 and i3 in clockwise direction\n",
"disp('The matrix form is')\n",
"disp('RI=V')\n",
"disp('where the matrices are defined as')\n",
"disp('R=[R2+R4+R5,-R2,-R5;-R2,R1+R2+R3,-R3;-R5,-R3,R3+R5+R6]')\n",
"disp('I=[i1;i2;i3]')\n",
"disp('V=[-VA+VB;VA;-VB]')"
   ]
   }
,
{
		   "cell_type": "markdown",
		   "metadata": {},
		   "source": [
			"## Example 2.15: example_15.sce"
		   ]
		  },
  {
"cell_type": "code",
	   "execution_count": null,
	   "metadata": {
	    "collapsed": true
	   },
	   "outputs": [],
"source": [
"clc\n",
"//ex2.15\n",
"//KVL over the supermesh, we get eqn-1   -20+4(i1)+8(i2)=0\n",
"//Vx=2(i2)   ohm's law\n",
"//writing an expression for the source current in terms of mesh currents and substituting Vx from above, we get eqn-2   (1/2)i2=i2-i1\n",
"//Putting eqn-1 and eqn-2 in standard form   4(i1)+8(i2)=20 and i1-(1/2)i2=0\n",
"//solving for currents in matrix method(Ax=b)\n",
"A=[4,8;1,-1/2];      //coeffcient matrix\n",
"b=[20;0];      //constant matrix\n",
"x=A\b;      //solution\n",
"disp(x(1),'Value of i1 in amperes')\n",
"disp(x(2),'Value of i2 in amperes')"
   ]
   }
,
{
		   "cell_type": "markdown",
		   "metadata": {},
		   "source": [
			"## Example 2.16: example_16.sce"
		   ]
		  },
  {
"cell_type": "code",
	   "execution_count": null,
	   "metadata": {
	    "collapsed": true
	   },
	   "outputs": [],
"source": [
"clc\n",
"//ex2.16\n",
"V_s=15;      //source voltage\n",
"R_1=100;\n",
"R_2=50;\n",
"//Analysis with an open circuit to find V_t\n",
"i_1=V_s/(R_1+R_2);      //closed circuit with R_1 and R_2 in series\n",
"V_oc=R_2*i_1;      //open-circuit voltage across R_2\n",
"V_t=V_oc;      //thevenin voltage\n",
"//Analysis with a short-circuit to find i_sc\n",
"i_sc=V_s/R_1;      //R_2 is short-circuited\n",
"R_t=V_oc/i_sc;      //thevenin resistance\n",
"printf(' All the values in the textbook are approximated, hence the values in this code differ from those of textbook')\n",
"disp(V_t,'Thevenin voltage for given circuit in volts')\n",
"disp(R_t,'Thevenin voltage for given circuit in ohms')"
   ]
   }
,
{
		   "cell_type": "markdown",
		   "metadata": {},
		   "source": [
			"## Example 2.17: example_17.sce"
		   ]
		  },
  {
"cell_type": "code",
	   "execution_count": null,
	   "metadata": {
	    "collapsed": true
	   },
	   "outputs": [],
"source": [
"clc\n",
"//ex2.17\n",
"V_s=20;      //source voltage\n",
"i_s=2;      //source current\n",
"R_1=5;\n",
"R_2=20;\n",
"//after zeroing the sources which includes replacing voltage source with short circuit and current source with open circuit, we get R_t\n",
"R_eq=1/((1/R_1)+(1/R_2));      //R_1 and R_2 are in parallel combination\n",
"R_t=R_eq;      //Thevenin resistance\n",
"//short-circuit analysis to find i_sc\n",
"i_2=0;      //voltage across R_2 is 0\n",
"i_1=V_s/R_1;\n",
"i_sc=i_1+2-i_2;      //short-circuit current(KCL at junction of R_2 and I_s)\n",
"V_t=R_t*i_sc;      //thevenin voltage\n",
"disp(i_sc,'short-circuit current in amperes')\n",
"disp(R_t,'thevenin resistance in ohms')\n",
"disp(V_t,'thevenin voltage in volts')\n",
"//thevenin equivalent can be made of V_t and R_t."
   ]
   }
,
{
		   "cell_type": "markdown",
		   "metadata": {},
		   "source": [
			"## Example 2.18: example_18.sce"
		   ]
		  },
  {
"cell_type": "code",
	   "execution_count": null,
	   "metadata": {
	    "collapsed": true
	   },
	   "outputs": [],
"source": [
"clc\n",
"//ex2.18\n",
"V=10;\n",
"R_1=5;\n",
"R_2=10;\n",
"//Open-circuit anlaysis\n",
"//let V_oc be the open circuit voltage\n",
"//Current equation at node1   3(i_x)=(1/10)V_oc\n",
"//i_x=(10-V_oc)/5   ix in terms of V_oc\n",
"V_oc=2/((1/5)+(1/30));      //open-circuit voltage(from above two equations)\n",
"V_t=V_oc;      //thevenin voltage\n",
"//short-circuit analysis\n",
"i_x=V/R_1;\n",
"i_sc=3*i_x;      //short-circuit current\n",
"R_t=V_oc/i_sc;\n",
"printf(' All the values in the textbook are approximated, hence the values in this code differ from those of textbook')\n",
"disp(V_t,'Thevenin voltage in volts')\n",
"disp(R_t,'Thevenin resistance in ohms')"
   ]
   }
,
{
		   "cell_type": "markdown",
		   "metadata": {},
		   "source": [
			"## Example 2.19: example_19.sce"
		   ]
		  },
  {
"cell_type": "code",
	   "execution_count": null,
	   "metadata": {
	    "collapsed": true
	   },
	   "outputs": [],
"source": [
"clc\n",
"//ex2.19\n",
"R1= 20 //Ohms\n",
"R2= 15 //ohms\n",
"vs= 15 //V\n",
"R3= 5 //Ohms\n",
"k= 0.25\n",
"///CALCULATIONS\n",
"voc= (R2/R1)/((1/R1)+(1/(R2+R3))+(k/4))\n",
"isc= vs/R1\n",
"Rf= voc/isc\n",
"//RESULTS\n",
"printf ('Rf = %.2f ohms',Rf)"
   ]
   }
,
{
		   "cell_type": "markdown",
		   "metadata": {},
		   "source": [
			"## Example 2.1: example_1.sce"
		   ]
		  },
  {
"cell_type": "code",
	   "execution_count": null,
	   "metadata": {
	    "collapsed": true
	   },
	   "outputs": [],
"source": [
"clc\n",
"//ex2.1\n",
"R_1=10;\n",
"R_2=20;\n",
"R_3=5;\n",
"R_4=15;\n",
"//We proceed through various combinations of resistances in series or parallel while we replace them with equivalent resistances  We start with R_3 and R_4.\n",
"R_eq_1=R_3+R_4;      //R_3 and R_4 in series\n",
"R_eq_2=1/((1/R_eq_1)+(1/R_2));      //R_eq_1 and R_2 in parallel\n",
"R_eq=R_1+R_eq_2;      //R_1 and R_eq_2 in series\n",
"disp(R_eq,'Equivalent resistance in ohms')"
   ]
   }
,
{
		   "cell_type": "markdown",
		   "metadata": {},
		   "source": [
			"## Example 2.20: example_20.sce"
		   ]
		  },
  {
"cell_type": "code",
	   "execution_count": null,
	   "metadata": {
	    "collapsed": true
	   },
	   "outputs": [],
"source": [
"clc\n",
"//ex2.20\n",
"V_s_1=20;      //voltage source\n",
"R_1=5;\n",
"R_2=10;\n",
"i_s_1=1;      //current source\n",
"//Method 1: To transform current source and R_2 into a voltage source in series with R_2\n",
"V_s_2=i_s_1*R_2;      //source transformation\n",
"i_1=(V_s_1-V_s_2)/(R_1+R_2);      //clockwise KVL\n",
"i_2=i_1+i_s_1;      //KCL at top node of original circuit\n",
"printf(' All the values in the textbook are approximated hence the values in this code differ from those of Textbook')\n",
"disp('By current source to voltage source transformation:')\n",
"disp(i_1,'current i1 in amperes')\n",
"disp(i_2,'current i2 in amperes')\n",
"//Method 2: To transform voltage source and R_1 into a current source in parallel with R_1\n",
"i_s_2=V_s_1/R_1;      //source transformation\n",
"i_t=i_s_2+i_s_1;      //total current\n",
"i_2=R_1*i_t/(R_1+R_2)      //current-division principle\n",
"i_1=i_2-i_s_1;      //KCL at top node of original circuit\n",
"disp('By voltage source to current source transformation:')\n",
"disp(i_1,'current i1 in amperes')\n",
"disp(i_2,'current i2 in amperes')\n",
"disp('In any method we get the same answers.')\n",
""
   ]
   }
,
{
		   "cell_type": "markdown",
		   "metadata": {},
		   "source": [
			"## Example 2.21: example_21.sce"
		   ]
		  },
  {
"cell_type": "code",
	   "execution_count": null,
	   "metadata": {
	    "collapsed": true
	   },
	   "outputs": [],
"source": [
"clc\n",
"//ex2.21\n",
"V_s=50;\n",
"R_1=20;\n",
"R_2=5;\n",
"//Zeroing the voltage source\n",
"R_eq=1/((1/R_1)+(1/R_2));      //R_1 and R_2 in parallel\n",
"R_t=R_eq;      //thevenin resistance\n",
"//open-circuit analysis\n",
"V_oc=V_s*R_2/(R_1+R_2);      //open-circuit voltage\n",
"V_t=V_oc;      //thevenin voltage\n",
"R_L=R_t;\n",
"P_L_max=V_t^2/(4*R_t)\n",
"disp(R_L,'load resistance for maximum power transfer in ohms')\n",
"disp(P_L_max,'maximum power in watts')"
   ]
   }
,
{
		   "cell_type": "markdown",
		   "metadata": {},
		   "source": [
			"## Example 2.22: example_22.sce"
		   ]
		  },
  {
"cell_type": "code",
	   "execution_count": null,
	   "metadata": {
	    "collapsed": true
	   },
	   "outputs": [],
"source": [
"clc\n",
"//ex2.22\n",
"V_s=15;      //voltage source\n",
"R_1=10;\n",
"R_2=5;\n",
"i_s=2;      //current source\n",
"//Analysis with only voltage source active\n",
"V_1=R_2*V_s/(R_1+R_2);      //voltage-division principle\n",
"//Analysis with only current source active\n",
"R_eq=1/((1/R_1)+(1/R_2));      //R_1 and R_2 in parallel\n",
"V_2=i_s*R_eq;      //ohm's law\n",
"V_T=V_1+V_2;      //total response\n",
"printf(' All the values in the textbook are approximated hence the values in this code differ from those of Textbook')\n",
"disp(V_T,'VT i.e., voltage across R2 in volts')"
   ]
   }
,
{
		   "cell_type": "markdown",
		   "metadata": {},
		   "source": [
			"## Example 2.23: example_23.sce"
		   ]
		  },
  {
"cell_type": "code",
	   "execution_count": null,
	   "metadata": {
	    "collapsed": true
	   },
	   "outputs": [],
"source": [
"clc\n",
"//ex2.23\n",
"R_1=1*10^3;\n",
"//case (a)\n",
"disp('case a:')\n",
"R_2=10*10^3;\n",
"R_3=732;\n",
"R_x=R_2*R_3/R_1;      //wheatstone bridge condition\n",
"disp(R_x,'Value of Rx in ohms')\n",
"//case (b)\n",
"disp('case b:')\n",
"//R_x is maximum when both R_2 and R_3 are maximum\n",
"R_2_max=1*10^6;\n",
"R_3_max=1100;\n",
"R_x_max=R_2_max*R_3_max/R_1;      //wheatstone bridge condition\n",
"disp(R_x_max,'Maximum value of Rx in ohms')\n",
"//case(c)\n",
"disp('case c:')\n",
"//increment in R_x is scale factor times increment in R_3\n",
"R_2=1*10^6;\n",
"R_3_inc=1;      //increment in R_3\n",
"R_x_inc=R_2*R_3_inc/R_1;      //increment in R_x from bride balance condition\n",
"disp(R_x_inc,'Increment between values of Rx in ohms for the bridge to be balanced')"
   ]
   }
,
{
		   "cell_type": "markdown",
		   "metadata": {},
		   "source": [
			"## Example 2.2: example_2.sce"
		   ]
		  },
  {
"cell_type": "code",
	   "execution_count": null,
	   "metadata": {
	    "collapsed": true
	   },
	   "outputs": [],
"source": [
"clc\n",
"//ex2.2\n",
"V_s=90;      //source voltage\n",
"R_1=10;\n",
"R_2=30;\n",
"R_3=60;\n",
"R_eq_1=1/((1/R_2)+(1/R_3));      //R_2 and R_3 in parallel\n",
"R_eq=R_1+R_eq_1;      //R_1 and R_eq_1 in series\n",
"i_1=V_s/R_eq;      //ohm's law\n",
"//i_1 flows clockwise through V_s,R_1 and R_eq_1\n",
"V_2=R_eq_1*i_1;      //voltage across R_eq_1\n",
"//As R_eq_1 is equivalent of parallel combination of R_2 and R_3, V_2 appears across both of them\n",
"i_2=V_2/R_2;      //ohm's law\n",
"i_3=V_2/R_3;      //ohm's law\n",
"//we can verify KCL, i_1=i_2+i_3\n",
"V_1=i_1*R_1;      //ohm's law\n",
"//we can verify KVL, V_s=V_1+V_2\n",
"P_s=-V_s*i_1;      //source power(-ve sign as V_s and i_1 have references opposite to passive configuration)\n",
"P_1=i_1^2*R_1;      //power for R_1\n",
"P_2=V_2^2/R_2;      //power for R_2\n",
"P_3=V_2^2/R_3;      //power for R_3\n",
"disp('FOR SOURCE')\n",
"disp(i_1,'current in amperes')\n",
"disp(P_s,'power in watts')\n",
"disp('FOR R1')\n",
"disp(i_1,'current in amperes')\n",
"disp(V_1,'voltage in volts')\n",
"disp(P_1,'power in watts')\n",
"disp('FOR R2')\n",
"disp(i_2,'current in amperes')\n",
"disp(V_2,'voltage in volts')\n",
"disp(P_2,'power in watts')\n",
"disp('FOR R3')\n",
"disp(i_3,'current in amperes')\n",
"disp(V_2,'voltage in volts')\n",
"disp(P_3,'power in watts')\n",
"//we may verify that P_s+P_1+P_2+P_3=0"
   ]
   }
,
{
		   "cell_type": "markdown",
		   "metadata": {},
		   "source": [
			"## Example 2.3: example_3.sce"
		   ]
		  },
  {
"cell_type": "code",
	   "execution_count": null,
	   "metadata": {
	    "collapsed": true
	   },
	   "outputs": [],
"source": [
"//ex2.3\n",
"V_total=15;\n",
"R_1=1*10^3;\n",
"R_2=1*10^3;\n",
"R_3=2*10^3;\n",
"R_4=6*10^3;\n",
"//By voltage-division priciple\n",
"V_1=R_1*V_total/(R_1+R_2+R_3+R_4);      //voltage across R_1\n",
"V_4=R_4*V_total/(R_1+R_2+R_3+R_4);      //voltage across R_4\n",
"disp(V_1,'voltage across R_1')\n",
"disp(V_4,'voltage across R_4')"
   ]
   }
,
{
		   "cell_type": "markdown",
		   "metadata": {},
		   "source": [
			"## Example 2.4: example_4.sce"
		   ]
		  },
  {
"cell_type": "code",
	   "execution_count": null,
	   "metadata": {
	    "collapsed": true
	   },
	   "outputs": [],
"source": [
"clc\n",
"//ex2.4\n",
"V_s=100;      //source current\n",
"R_1=60;\n",
"R_2=30;\n",
"R_3=60;\n",
"R_x=1/((1/R_2)+(1/R_3));      //R_2 and R_3 parallel\n",
"V_x=R_x*V_s/(R_1+R_x);      //voltage across R_x(voltage-division principle)\n",
"i_s=V_s/(R_1+R_x);      //ohm's law\n",
"i_3=R_2*i_s/(R_2+R_3);      //current through R_3(current-division principle)\n",
"printf(' All the values in the textbook are approximated, hence the values in this code differ from those of Textbook')\n",
"disp(V_x,'voltage across R2 or R3 in volts')\n",
"disp(i_s,'source current in amperes')\n",
"disp(i_3,'current through R3 in amperes')"
   ]
   }
,
{
		   "cell_type": "markdown",
		   "metadata": {},
		   "source": [
			"## Example 2.5: example_5.sce"
		   ]
		  },
  {
"cell_type": "code",
	   "execution_count": null,
	   "metadata": {
	    "collapsed": true
	   },
	   "outputs": [],
"source": [
"clc\n",
"//ex2.5\n",
"i_s=15;      //source current\n",
"R_1=10;\n",
"R_2=30;\n",
"R_3=60;\n",
"R_eq=1/((1/R_2)+(1/R_3));      //R_2 and R_3 in parallel\n",
"i_1=R_eq*i_s/(R_1+R_eq);      //current through R_1(current-division principle)\n",
"disp(i_1,'current through R1 in amperes from resistance method')\n",
"//we can also do the above calculations using conductances as shown below.\n",
"//Conductances of respective resistances\n",
"G_1=1/R_1;\n",
"G_2=1/R_2;\n",
"G_3=1/R_3;\n",
"i_1=G_1*i_s/(G_1+G_2+G_3);\n",
"disp(i_1,'current through R1 in amperes from conductance method')\n",
"disp('We get the same alue in both methods')"
   ]
   }
,
{
		   "cell_type": "markdown",
		   "metadata": {},
		   "source": [
			"## Example 2.6: example_6.sce"
		   ]
		  },
  {
"cell_type": "code",
	   "execution_count": null,
	   "metadata": {
	    "collapsed": true
	   },
	   "outputs": [],
"source": [
"clc\n",
"//ex2.6\n",
"//we display the equations in scilab as follows\n",
"disp('At node 1:')\n",
"disp('(V1/R1)+((V1-V2)/R2)+i_s=0')      //KCL at node 1\n",
"disp('At node 2:')\n",
"disp('((V2-V1)/R2)+(V2/R3)+((V2-V3)/R4)=0')      //KCL at node 2\n",
"disp('At node 3:')\n",
"disp('(V3/R5)+((V3-V2)/R4))=i_s')      //KCL at node 3"
   ]
   }
,
{
		   "cell_type": "markdown",
		   "metadata": {},
		   "source": [
			"## Example 2.7: example_7.sce"
		   ]
		  },
  {
"cell_type": "code",
	   "execution_count": null,
	   "metadata": {
	    "collapsed": true
	   },
	   "outputs": [],
"source": [
"clc\n",
"//ex2.7\n",
"disp('The matrix form is')\n",
"disp('G*V=I')\n",
"disp('where')\n",
"G=[0.45,-0.25,0;-0.25,0.85,-0.20;0,-0.20,0.30];\n",
"disp(G,'G=')\n",
"disp('V=')\n",
"disp('transpose of [V_1,V_2,V_3]')\n",
"disp('and')\n",
"I=[-3.5;3.5;2];\n",
"disp(I,'I=')"
   ]
   }
,
{
		   "cell_type": "markdown",
		   "metadata": {},
		   "source": [
			"## Example 2.8: example_8.sce"
		   ]
		  },
  {
"cell_type": "code",
	   "execution_count": null,
	   "metadata": {
	    "collapsed": true
	   },
	   "outputs": [],
"source": [
"clc\n",
"//ex2.8\n",
"R=20;\n",
"G=[0.35,-0.2,-0.05;-0.2,0.3,-0.1;-0.05,-0.1,0.35];      //coefficient matrix\n",
"I=[0;10;0]      //current matrix\n",
"V=G\I;      //voltage matrix(from G=V*I)\n",
"i_x=(V(1)-V(3))/R;\n",
"printf(' All the values in the textbook are approximated,hence the values in this code differ from those of textbook')\n",
"disp(V(1),'voltage at node1 in volts')\n",
"disp(V(2),'voltage at node2 in volts')\n",
"disp(V(3),'voltage at node3 in volts')\n",
"disp(i_x,'value of current ix in amperes')"
   ]
   }
,
{
		   "cell_type": "markdown",
		   "metadata": {},
		   "source": [
			"## Example 2.9: example_9.sce"
		   ]
		  },
  {
"cell_type": "code",
	   "execution_count": null,
	   "metadata": {
	    "collapsed": true
	   },
	   "outputs": [],
"source": [
"clc\n",
"//ex2.9\n",
"//we display the required equations as follows\n",
"disp('Current equations at node1 and node2:')\n",
"disp('((V1-V2)/5)+((V1-10)/2)=1')\n",
"disp('(V2/5)+((V2-10)/10)+((V2-V1)/5)=0')\n",
"disp('Writing the above equations in standard form')\n",
"disp('0.7V1-0.2V2=6')\n",
"disp('-0.2V1+0.5V2=1')"
   ]
   }
],
"metadata": {
		  "kernelspec": {
		   "display_name": "Scilab",
		   "language": "scilab",
		   "name": "scilab"
		  },
		  "language_info": {
		   "file_extension": ".sce",
		   "help_links": [
			{
			 "text": "MetaKernel Magics",
			 "url": "https://github.com/calysto/metakernel/blob/master/metakernel/magics/README.md"
			}
		   ],
		   "mimetype": "text/x-octave",
		   "name": "scilab",
		   "version": "0.7.1"
		  }
		 },
		 "nbformat": 4,
		 "nbformat_minor": 0
}
