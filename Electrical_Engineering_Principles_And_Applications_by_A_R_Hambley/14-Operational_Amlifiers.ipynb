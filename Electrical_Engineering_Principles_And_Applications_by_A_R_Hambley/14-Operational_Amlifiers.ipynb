{
"cells": [
 {
		   "cell_type": "markdown",
	   "metadata": {},
	   "source": [
       "# Chapter 14: Operational Amlifiers"
	   ]
	},
{
		   "cell_type": "markdown",
		   "metadata": {},
		   "source": [
			"## Example 14.5: example_5.sce"
		   ]
		  },
  {
"cell_type": "code",
	   "execution_count": null,
	   "metadata": {
	    "collapsed": true
	   },
	   "outputs": [],
"source": [
"clc \n",
"//initialisation of variables\n",
"ADOL= 10^5\n",
"ADOL1= 10\n",
"dc= 20\n",
"dc1= 10\n",
"f= 40 //kHz\n",
"//CALCULATIONS\n",
"ADOL2= dc*log(ADOL)\n",
"ADOL3= dc*log10(ADOL1)\n",
"f1= ADOL1*f\n",
"//RESULTS\n",
"printf ('A0CL = %.f dB ',ADOL3)\n",
"printf ('\n frequency = %.f kHz ',f1)"
   ]
   }
,
{
		   "cell_type": "markdown",
		   "metadata": {},
		   "source": [
			"## Example 14.6: example_6.sce"
		   ]
		  },
  {
"cell_type": "code",
	   "execution_count": null,
	   "metadata": {
	    "collapsed": true
	   },
	   "outputs": [],
"source": [
"clc \n",
"//initialisation of variables\n",
"SR= 0.5 //V/us\n",
"Vcon= 12 //V\n",
"//CALCULATIONS\n",
"f= SR*1000/(2*%pi*Vcon)\n",
"//RESULTS\n",
"printf ('full power = %.2f kHz ',f)"
   ]
   }
,
{
		   "cell_type": "markdown",
		   "metadata": {},
		   "source": [
			"## Example 14.7: example_7.sce"
		   ]
		  },
  {
"cell_type": "code",
	   "execution_count": null,
	   "metadata": {
	    "collapsed": true
	   },
	   "outputs": [],
"source": [
"//ex14.7\n",
"V_in=0;\n",
"I_B_max=100*10^-9;      //maximum bias current\n",
"I_os_max=40*10^-9;      //maximum offset current magnitude\n",
"V_os_max=2*10^-3;      //maximum offset voltage\n",
"R_1=10*10^3;\n",
"R_2=100*10^3;\n",
"//we approach in such a way to calculate output voltage due to each of dc sources and using superposition\n",
"//1)OFFSET-VOLTAGE\n",
"//As we place offset voltage at noninverting input\n",
"V_o_osV_max=-(1+(R_2/R_1))*(-V_os_max);\n",
"V_o_osV_min=-(1+(R_2/R_1))*V_os_max;\n",
"//2)BIAS-CURRENT SOURCES\n",
"//assuming ideal opamp conditions\n",
"V_i=0;\n",
"I_1=0;\n",
"I_2=-I_B_max;\n",
"V_o_bias_max=-R_2*I_2-R_1*I_1;\n",
"V_o_bias_min=0;      //no minimum value of I_B is specified\n",
"//3)OFFSET-CURRENT SOURCE\n",
"//by analysis as in bias-current sources\n",
"V_o_osI_max=R_2*I_os_max/2;\n",
"V_o_osI_min=-R_2*I_os_max/2;\n",
"\n",
"V_o_max=V_o_osV_max+V_o_bias_max+V_o_osI_max;      //maximum output volage\n",
"V_o_min=V_o_osV_min+V_o_bias_min+V_o_osI_min;      //minimum output voltage\n",
"disp(V_o_max*10^3,'Maximum output voltage in milli-volts')\n",
"disp(V_o_min*10^3,'Minimum output voltage in milli-volts')"
   ]
   }
],
"metadata": {
		  "kernelspec": {
		   "display_name": "Scilab",
		   "language": "scilab",
		   "name": "scilab"
		  },
		  "language_info": {
		   "file_extension": ".sce",
		   "help_links": [
			{
			 "text": "MetaKernel Magics",
			 "url": "https://github.com/calysto/metakernel/blob/master/metakernel/magics/README.md"
			}
		   ],
		   "mimetype": "text/x-octave",
		   "name": "scilab",
		   "version": "0.7.1"
		  }
		 },
		 "nbformat": 4,
		 "nbformat_minor": 0
}
