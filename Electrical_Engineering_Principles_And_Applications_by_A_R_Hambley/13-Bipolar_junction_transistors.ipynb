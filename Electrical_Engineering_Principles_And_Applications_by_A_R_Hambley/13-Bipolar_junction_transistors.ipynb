{
"cells": [
 {
		   "cell_type": "markdown",
	   "metadata": {},
	   "source": [
       "# Chapter 13: Bipolar junction transistors"
	   ]
	},
{
		   "cell_type": "markdown",
		   "metadata": {},
		   "source": [
			"## Example 13.1: example_1.sce"
		   ]
		  },
  {
"cell_type": "code",
	   "execution_count": null,
	   "metadata": {
	    "collapsed": true
	   },
	   "outputs": [],
"source": [
"clc\n",
"//ex13.1\n",
"V_CE=4;      //It should be high enough so that collector base junction is reverse-biased\n",
"i_B=30*10^-6;      //base current, a value is selected from the graph\n",
"i_C=3*10^-3;      //collector current corresponding to values of i_B and V_CE\n",
"B=i_C/i_B;      //beta value\n",
"disp(B,'The value of beta B is')"
   ]
   }
,
{
		   "cell_type": "markdown",
		   "metadata": {},
		   "source": [
			"## Example 13.2: example_2.sce"
		   ]
		  },
  {
"cell_type": "code",
	   "execution_count": null,
	   "metadata": {
	    "collapsed": true
	   },
	   "outputs": [],
"source": [
"clc\n",
"//ex13.2\n",
"V_CC=10;\n",
"V_BB=1.6;\n",
"R_B=40*10^3;\n",
"R_C=2*10^3;\n",
"V_in_Q=0;      //Q point\n",
"V_in_max=0.4;\n",
"V_in_min=-0.4;\n",
"//the following values are found from the intersection of input loadlines with the input characteristic\n",
"i_B_Q=25*10^-3;      //for V_in_Q\n",
"i_B_max=35*10^-3;      //for V_in_max\n",
"i_B_min=15*10^-3;      //for V_in_min\n",
"//the following values are found from the intersection of output loadlines with the output characteristic\n",
"V_CE_Q=5;      //corresponding to i_B_Q\n",
"V_CE_max=7;      //corresponding to i_B_min\n",
"V_CE_min=3;      //corresponding to i_B_max\n",
"disp('graphs cannot be shown but the required values are')\n",
"disp(V_CE_max,'maximum value of V_CE')\n",
"disp(V_CE_min,'minimum value of V_CE')\n",
"disp(V_CE_Q,'Q-point value of V_CE')"
   ]
   }
,
{
		   "cell_type": "markdown",
		   "metadata": {},
		   "source": [
			"## Example 13.4: example_4.sce"
		   ]
		  },
  {
"cell_type": "code",
	   "execution_count": null,
	   "metadata": {
	    "collapsed": true
	   },
	   "outputs": [],
"source": [
"clc\n",
"//ex13.4\n",
"V_CC=15;\n",
"B=100;      //beta value\n",
"R_B=200*10^3;\n",
"R_C=1*10^3;\n",
"//we proceed in such a way that the required values will be displayed according to the satisfied condition of the below three cases\n",
"\n",
"//a)cut-off region\n",
"V_BE=15;      //no voltage drop across R_B in cut-off state\n",
"V_CE=15;      //no voltage drop across R_C in cut-off state\n",
"i_C=0;      //no collector current flows as there is no voltage drop\n",
"i_B=0;      //no base current flows as there is no voltage drop\n",
"if(V_BE<0.5) then,      //cut-off condition\n",
"    disp(i_C,'collector current in amperes')\n",
"    disp(V_CE,'collector to emitter voltage in volts')\n",
"    end\n",
"\n",
"//b)saturation region\n",
"V_BE=0.7;      //base to emitter voltage in saturation state\n",
"V_CE=0.2;      //collector to emitter voltage in saturation state\n",
"i_C=(V_CC-V_CE)/R_C;      //collector current\n",
"i_B=(V_CC-V_BE)/R_B;      //base current\n",
"if((B*i_B>i_C)&(i_B>0)) then,      //saturation state conditions\n",
"        disp(i_C,'collector current in amperes')\n",
"        disp(V_CE,'collector to emitter voltage in volts')\n",
"    end\n",
"\n",
"//c)active region\n",
"V_BE=0.7;      //base to emitter voltage in active state\n",
"i_B=(V_CC-V_BE)/R_B;      //base current\n",
"i_C=B*i_B;      //collector current in active state\n",
"V_CE=V_CC-i_C*R_C;      //collector to emitter voltage\n",
"if((V_CE>0.2)&(i_B>0)) then,      //active state conditions\n",
"        disp(i_C,'collector current in amperes')\n",
"        disp(V_CE,'collector to emitter voltage in volts')\n",
"    end"
   ]
   }
,
{
		   "cell_type": "markdown",
		   "metadata": {},
		   "source": [
			"## Example 13.5: example_5.sce"
		   ]
		  },
  {
"cell_type": "code",
	   "execution_count": null,
	   "metadata": {
	    "collapsed": true
	   },
	   "outputs": [],
"source": [
"clc\n",
"//ex13.5\n",
"R_B=200*10^3;\n",
"R_C=1*10^3;\n",
"V_CC=15;\n",
"B=300;      //beta value\n",
"//we proceed in such a way that the required values will be displayed according to the satisfied condition of the below three cases\n",
"\n",
"//a)active region\n",
"V_BE=0.7;      //base to emitter voltage in active state\n",
"i_B=(V_CC-V_BE)/R_B;      //base current\n",
"i_C=B*i_B;      //collector current in active state\n",
"V_CE=V_CC-i_C*R_C;      //collector to emitter voltage\n",
"if((V_CE>0.2)&(i_B>0)) then,      //active state conditions\n",
"        disp(i_C,'collector current in amperes')\n",
"        disp(V_CE,'collector to emitter voltage in volts')\n",
"    end\n",
"\n",
"//b)saturation region\n",
"V_BE=0.7;      //base to emitter voltage in saturation state\n",
"V_CE=0.2;      //collector to emitter voltage in saturation state\n",
"i_C=(V_CC-V_CE)/R_C;      //collector current\n",
"i_B=(V_CC-V_BE)/R_B;      //base current\n",
"if((B*i_B>i_C)&(i_B>0)) then,      //saturation state conditions\n",
"        disp(i_C,'collector current in amperes')\n",
"        disp(V_CE,'collector to emitter voltage in volts')\n",
"    end\n",
"\n",
"//c)cut-off region\n",
"V_BE=15;      //no voltage drop across R_B in cut-off state\n",
"V_CE=15;      //no voltage drop across R_C in cut-off state\n",
"i_C=0;      //no collector current flows as there is no voltage drop\n",
"i_B=0;      //no base current flows as there is no voltage drop\n",
"if(V_BE<0.5) then,      //cut-off condition\n",
"    disp(i_C,'collector current in amperes')\n",
"    disp(V_CE,'collector to emitter voltage in volts')\n",
"    end"
   ]
   }
,
{
		   "cell_type": "markdown",
		   "metadata": {},
		   "source": [
			"## Example 13.6: example_6.sce"
		   ]
		  },
  {
"cell_type": "code",
	   "execution_count": null,
	   "metadata": {
	    "collapsed": true
	   },
	   "outputs": [],
"source": [
"clc\n",
"//ex13.6\n",
"V_CC=15;\n",
"V_BB=5;\n",
"V_BE=0.7;      //assuming the device is in the active state\n",
"R_C=2*10^3;\n",
"R_E=2*10^3;\n",
"i_E=(V_BB-V_BE)/R_E;      //emitter current\n",
"printf(' All the values in the textbook are Approximated hence the values in this code differ from those of Textbook')\n",
"\n",
"//a)B=100\n",
"disp('For beta B=100:')\n",
"B=100;      //beta value\n",
"i_B=i_E/(B+1);      //base current\n",
"i_C=B*i_B;      //collector current\n",
"V_CE=V_CC-i_C*R_C-i_E*R_E;      //collector to emitter voltage\n",
"disp(i_C,'collector current in amperes')\n",
"disp(V_CE,'collector to emitter voltage in volts')\n",
"\n",
"//b)B=300\n",
"disp('For beta B=300:')\n",
"B=300;      //beta value\n",
"i_B=i_E/(B+1);      //base current\n",
"i_C=B*i_B;      //collector current\n",
"V_CE=V_CC-i_C*R_C-i_E*R_E;      //collector to emitter voltage\n",
"disp(i_C,'collector current in amperes')\n",
"disp(V_CE,'collector to emitter voltage in volts')"
   ]
   }
,
{
		   "cell_type": "markdown",
		   "metadata": {},
		   "source": [
			"## Example 13.7: example_7.sce"
		   ]
		  },
  {
"cell_type": "code",
	   "execution_count": null,
	   "metadata": {
	    "collapsed": true
	   },
	   "outputs": [],
"source": [
"clc\n",
"//ex13.7\n",
"V_CC=15;\n",
"R_1=10*10^3;\n",
"R_2=5*10^3;\n",
"R_C=1*10^3;\n",
"R_E=1*10^3;\n",
"V_BE=0.7;\n",
"R_B=1/((1/R_1)+(1/R_2));      //thevenin resistance\n",
"V_B=V_CC*R_2/(R_1+R_2);      //thevenin voltage\n",
"printf(' All the values in the textbook are Approximated hence the values in this code differ from those of Textbook')\n",
"\n",
"//a)B=100\n",
"disp('For beta B=100:')\n",
"B=100;      //beta value\n",
"i_B=(V_B-V_BE)/(R_B+(B+1)*R_E);      //base current\n",
"i_C=B*i_B;      //collector current\n",
"i_E=i_B+i_C;      //emitter current\n",
"V_CE=V_CC-i_C*R_C-i_E*R_E;      //collector to emitter voltage\n",
"disp(i_C,'collector current in amperes')\n",
"disp(V_CE,'collector to emitter voltage in volts')\n",
"\n",
"//b)B=300\n",
"disp('For beta B=300:')\n",
"B=300;      //beta value\n",
"i_B=(V_B-V_BE)/(R_B+(B+1)*R_E);      //base current\n",
"i_C=B*i_B;      //collector current\n",
"i_E=i_B+i_C;      //emitter current\n",
"V_CE=V_CC-i_C*R_C-i_E*R_E;      //collector to emitter voltage\n",
"disp(i_C,'collector current in amperes')\n",
"disp(V_CE,'collector to emitter voltage in volts')"
   ]
   }
,
{
		   "cell_type": "markdown",
		   "metadata": {},
		   "source": [
			"## Example 13.8: example_8.sce"
		   ]
		  },
  {
"cell_type": "code",
	   "execution_count": null,
	   "metadata": {
	    "collapsed": true
	   },
	   "outputs": [],
"source": [
"clc\n",
"//ex13.8\n",
"V_CC=15;\n",
"V_BE=0.7;\n",
"B=100;      //beta value\n",
"R_1=10*10^3;\n",
"R_2=5*10^3;\n",
"R_L_1=2*10^3;      //R_L is taken as R_L_1\n",
"R_C=1*10^3;\n",
"R_E=1*10^3;\n",
"V_T=26*10^-3;      //thermal voltage\n",
"//from the analysis of the previous example we have the the values of i_C_Q and V_CE\n",
"i_C_Q=4.12*10^-3;\n",
"V_CE=6.72;\n",
"r_pi=(B*V_T)/i_C_Q;\n",
"R_B=1/((1/R_1)+(1/R_2));      //thevenin resistance\n",
"R_L_2=1/((1/R_L_1)+(1/R_C));      //R_L' is taken as R_L_2\n",
"A_v=-(R_L_2*B)/r_pi;      //voltage gain\n",
"A_voc=-(R_C*B)/r_pi;      //open circuit voltage gain\n",
"Z_in=1/((1/R_B)+(1/r_pi));      //input impedance\n",
"A_i=(A_v*Z_in)/R_L_1;      //current gain\n",
"G=A_i*A_v;      //power gain\n",
"Z_o=R_C      //output impedance\n",
"//assume f=1hz\n",
"f=1;\n",
"t=0:0.0005:3;\n",
"V_in=0.001*sin(2*%pi*f*t);\n",
"V_o=-(V_in*R_L_2*B)/r_pi;\n",
"subplot(121)\n",
"xtitle('Input voltage vs time','time','input voltage')\n",
"plot(t,V_in)\n",
"subplot(122)\n",
"xtitle('output voltage vs time','time','output voltage')\n",
"plot(t,V_o)\n",
"//In the graph, notice the phase inversion between input and output voltages\n",
"printf(' All the values in the textbook are Approximated hence the values in this code differ from those of Textbook')\n",
"disp(A_v,'voltage gain')\n",
"disp(A_voc,'open circuit voltage gain')\n",
"disp(Z_in,'input impedance in ohms')\n",
"disp(A_i,'current gain')\n",
"disp(G,'power gain')\n",
"disp(Z_o,'output impedance in ohms')"
   ]
   }
,
{
		   "cell_type": "markdown",
		   "metadata": {},
		   "source": [
			"## Example 13.9: example_9.sce"
		   ]
		  },
  {
"cell_type": "code",
	   "execution_count": null,
	   "metadata": {
	    "collapsed": true
	   },
	   "outputs": [],
"source": [
"clc\n",
"//ex_13.9\n",
"V_CC=20;\n",
"V_BE_Q=0.7;\n",
"V_T=26*10^-3;      //thermal voltage\n",
"B=200;      //beta value\n",
"R_S_1=10*10^3;      //R_S is taken as R_S_1\n",
"R_1=100*10^3;\n",
"R_2=100*10^3;\n",
"R_L_1=1*10^3;      //R_L is taken as R_L_1\n",
"R_E=2*10^3;\n",
"V_B=V_CC*R_2/(R_1+R_2);      //thevenin voltage\n",
"R_B=1/((1/R_1)+(1/R_2));      //thevenin resistance\n",
"R_L_2=1/((1/R_L_1)+(1/R_E));      //R_L' is taken as R_L_2\n",
"i_B_Q=(V_B-V_BE_Q)/(R_B+R_E*(1+B))\n",
"i_C_Q=B*i_B_Q;\n",
"i_E_Q=i_B_Q+i_C_Q;\n",
"V_CE_Q=V_CC-i_E_Q*R_E;\n",
"//we can verify that the device is in active region as we get V_CE>0.2 and i_BQ>0\n",
"r_pi=B*V_T/i_C_Q;\n",
"A_v=(1+B)*R_L_2/(r_pi+(1+B)*R_L_2);      //voltage gain\n",
"Z_it=r_pi+(1+B)*R_L_2;      //input impedance of base of transistor\n",
"Z_i=1/((1/R_B)+(1/Z_it));      //input impedance of emitter-follower\n",
"R_S_2=1/((1/R_S_1)+(1/R_1)+(1/R_2));      //R_S' is taken as R_S_2\n",
"Z_o=1/(((1+B)/(R_S_2+r_pi))+(1/R_E));      //output impedance\n",
"A_i=A_v*Z_i/R_L_1;      //current gain\n",
"G=A_v*A_i;      //power gain\n",
"printf(' All the values in the textbook are Approximated hence the values in this code differ from those of Textbook')\n",
"disp(A_v,'voltage gain')\n",
"disp(Z_i,'input impedance in ohms')\n",
"disp(A_i,'current gain')\n",
"disp(G,'power gain')\n",
"disp(Z_o,'output impedance in ohms')"
   ]
   }
],
"metadata": {
		  "kernelspec": {
		   "display_name": "Scilab",
		   "language": "scilab",
		   "name": "scilab"
		  },
		  "language_info": {
		   "file_extension": ".sce",
		   "help_links": [
			{
			 "text": "MetaKernel Magics",
			 "url": "https://github.com/calysto/metakernel/blob/master/metakernel/magics/README.md"
			}
		   ],
		   "mimetype": "text/x-octave",
		   "name": "scilab",
		   "version": "0.7.1"
		  }
		 },
		 "nbformat": 4,
		 "nbformat_minor": 0
}
