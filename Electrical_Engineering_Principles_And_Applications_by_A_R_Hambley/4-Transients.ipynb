{
"cells": [
 {
		   "cell_type": "markdown",
	   "metadata": {},
	   "source": [
       "# Chapter 4: Transients"
	   ]
	},
{
		   "cell_type": "markdown",
		   "metadata": {},
		   "source": [
			"## Example 4.1: example_1.sce"
		   ]
		  },
  {
"cell_type": "code",
	   "execution_count": null,
	   "metadata": {
	    "collapsed": true
	   },
	   "outputs": [],
"source": [
"clc\n",
"//ex4.1\n",
"V_s=10;      //source voltage\n",
"R_1=5;\n",
"R_2=5;\n",
"L=1;\n",
"C=1*10^-6;\n",
"//for t>>0, we apply steady state conditions i.e., inductor and capacitor are replaced by short and open circuits respectively\n",
"R_eq=R_1+R_2;      //R_1 and R_2 in series\n",
"i_x=V_s/R_eq;      //ohm's law\n",
"V_x=R_2*i_x;      //voltage across R_2\n",
"disp(i_x,'current ix in amperes')\n",
"disp(V_x,'voltage Vx in volts')"
   ]
   }
,
{
		   "cell_type": "markdown",
		   "metadata": {},
		   "source": [
			"## Example 4.2: example_2.sce"
		   ]
		  },
  {
"cell_type": "code",
	   "execution_count": null,
	   "metadata": {
	    "collapsed": true
	   },
	   "outputs": [],
"source": [
"clc\n",
"//ex4.3\n",
"//Vs is a direct source\n",
"//Circuit is in steady state prior to t=0\n",
"//Before t=0, the inductor behaves as a short circuit ==>V(t)=0 for t<0 and i(t)=Vs/Ri for t<0\n",
"//Before the switch opens, current circulates through Vs,R1 and the inductance and When it opens, nothing changes but the return path through R2\n",
"//Then, a voltage appears across R2 and the inductance, causing the current to decay\n",
"//There are no sources driving the circuit after the switch opens ==>the steady-state solution is zero for t>0\n",
"//Hence, the solution for i(t) is given by i(t)=K*e^(-t/T) for t>0 in time constant T=L/R2\n",
"//For current to be continuous i(0+)=(Vs/R1)=K*e^0=K ==> K=Vs/R1\n",
"//The voltage is given by V(t)=(L*d(i(t))/dt)=-(L*Vs*e^(-t/T))/(R1*T) for t>0\n",
"disp('Both current and voltage are 0 for t<0')\n",
"disp('')\n",
"disp('And for t>0:')\n",
"disp('The expression for the current is i(t)=(Vs/R1)*e^(-t/T)')\n",
"disp('The expression for the volatge is V(t)=-(L*Vs*e^(-t/T))/(R1*T)')"
   ]
   }
],
"metadata": {
		  "kernelspec": {
		   "display_name": "Scilab",
		   "language": "scilab",
		   "name": "scilab"
		  },
		  "language_info": {
		   "file_extension": ".sce",
		   "help_links": [
			{
			 "text": "MetaKernel Magics",
			 "url": "https://github.com/calysto/metakernel/blob/master/metakernel/magics/README.md"
			}
		   ],
		   "mimetype": "text/x-octave",
		   "name": "scilab",
		   "version": "0.7.1"
		  }
		 },
		 "nbformat": 4,
		 "nbformat_minor": 0
}
