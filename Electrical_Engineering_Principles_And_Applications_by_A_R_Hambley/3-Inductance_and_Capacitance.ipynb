{
"cells": [
 {
		   "cell_type": "markdown",
	   "metadata": {},
	   "source": [
       "# Chapter 3: Inductance and Capacitance"
	   ]
	},
{
		   "cell_type": "markdown",
		   "metadata": {},
		   "source": [
			"## Example 3.1: example_1.sce"
		   ]
		  },
  {
"cell_type": "code",
	   "execution_count": null,
	   "metadata": {
	    "collapsed": true
	   },
	   "outputs": [],
"source": [
"clc\n",
"//ex3.1\n",
"C=1*10^-6;\n",
"//t in micro seconds\n",
"t_1=[0:0.001:2];\n",
"t_2=[2.001:0.001:4];\n",
"t_3=[4.001:0.001:5];\n",
"t=[t_1,t_2,t_3];\n",
"//corresponding voltage variations\n",
"V_1=5*t_1;\n",
"V_2=0*t_2+10;\n",
"V_3=-10*t_3+50;\n",
"//charge q=C*V\n",
"q_1=C*V_1;\n",
"q_2=C*V_2;\n",
"q_3=C*V_3;\n",
"q=[q_1,q_2,q_3];\n",
"subplot(121)\n",
"plot(t,q*10^6)\n",
"xtitle('charge vs time','time in Ms','charge in Mc')      //M-micro(10^-6)\n",
"//current i=C*dV/dt*10^6, for above equations we get\n",
"i_1=10^6*(0*t_1+C*(5));\n",
"i_2=10^6*0*t_2;\n",
"i_3=10^6*(0*t_3+C*(-10));\n",
"i=[i_1,i_2,i_3];\n",
"subplot(122)\n",
"plot(t,i)\n",
"xtitle('current vs time','time in Ms','current in amperes')      //M-micro(10^-6)"
   ]
   }
,
{
		   "cell_type": "markdown",
		   "metadata": {},
		   "source": [
			"## Example 3.2: example_2.sce"
		   ]
		  },
  {
"cell_type": "code",
	   "execution_count": null,
	   "metadata": {
	    "collapsed": true
	   },
	   "outputs": [],
"source": [
"clc\n",
"//ex3.2\n",
"C=0.1*10^-6;\n",
"//symbolic integration cannot be done in scilab\n",
"t=[0:0.001*10^-3:3*%pi*10^-4];\n",
"i=0.5*sin((10^4)*t);\n",
"//on integrating 'i' w.r.t t\n",
"q=0.5*10^-4*(1-cos(10^4*t));\n",
"C=10^-7;\n",
"V=q/C;\n",
"subplot(221)\n",
"plot(t,q*10^6)\n",
"xtitle('charge vs time','time in seconds','charge in Mc')      //Mc=micro coulombs(10^-6)\n",
"subplot(222)\n",
"plot(t,i)\n",
"xtitle('current vs time','time in seconds','current in amperes')      //Mc=micro coulombs(10^-6)\n",
"subplot(223)\n",
"xtitle('voltage vs time','time in seconds','voltage in volts')\n",
"plot(t,V)"
   ]
   }
,
{
		   "cell_type": "markdown",
		   "metadata": {},
		   "source": [
			"## Example 3.3: example_3.sce"
		   ]
		  },
  {
"cell_type": "code",
	   "execution_count": null,
	   "metadata": {
	    "collapsed": true
	   },
	   "outputs": [],
"source": [
"clc\n",
"//ex3.3\n",
"C=10*10^-6;\n",
"t_1=[0:0.001:1];\n",
"t_2=[1.001:0.001:3];\n",
"t_3=[3.001:0.001:5];\n",
"t=[t_1,t_2,t_3];\n",
"//voltage variations\n",
"V_1=1000*t_1;\n",
"V_2=0*t_2+1000;\n",
"V_3=500*(5-t_3);\n",
"//current i=C*dv/dt, for above equations we get\n",
"i_1=C*(0*t_1+1000);\n",
"i_2=C*(0*t_2);\n",
"i_3=C*(0*t_3-500);\n",
"i=[i_1,i_2,i_3];\n",
"//power delivered, P=V*i\n",
"P_1=C*(10^6*t_1);\n",
"P_2=C*(0*t_2+1000);\n",
"P_3=C*(-25*10^4*(5-t_3));\n",
"P=[P_1,P_2,P_3];\n",
"//energy stored, W=(1/2)*C*V^2\n",
"W_1=(1/2)*C*V_1^2;\n",
"W_2=(1/2)*C*V_2^2;\n",
"W_3=(1/2)*C*V_3^2;\n",
"W=[W_1,W_2,W_3];\n",
"subplot(221)\n",
"plot(t,i*10^3)\n",
"xtitle('current vs time','time in seconds','current in mA')      //mA-milli amperes(10^-3)\n",
"subplot(222)\n",
"plot(t,P)\n",
"xtitle('power delivered vs time','time in seconds','power in watts')\n",
"subplot(223)\n",
"plot(t,W)\n",
"xtitle('energy stored vs time','time in seconds','work in joules')"
   ]
   }
,
{
		   "cell_type": "markdown",
		   "metadata": {},
		   "source": [
			"## Example 3.4: example_4.sce"
		   ]
		  },
  {
"cell_type": "code",
	   "execution_count": null,
	   "metadata": {
	    "collapsed": true
	   },
	   "outputs": [],
"source": [
"clc\n",
"//ex3.4\n",
"L=10*10^-2;      //length\n",
"W=20*10^-2;      //width\n",
"d=0.1*10^-3;      //distance between plates\n",
"A=L*W;      //area\n",
"E_o=8.85*10^-12;      //dielectric constant of vacuum\n",
"//dielectric is air\n",
"E_r=1;      //relative dielectric constant of air\n",
"E=E_r*E_o;      //dielectric constant\n",
"C=E*A/d;      //capacitance\n",
"disp('When the dielectric is air, capacitance in pF is')      //pF-pico Farad(10^-12)\n",
"disp(C*10^12)\n",
"//dielectric is mica\n",
"E_r=7;      //relative dielectric constant of mica\n",
"E=E_r*E_o;      //dielectric constant\n",
"C=E*A/d;      //capacitance\n",
"disp('When the dielectric is mica, capacitance in pF is')      //pF-pico Farad(10^-12)\n",
"disp(C*10^12)"
   ]
   }
,
{
		   "cell_type": "markdown",
		   "metadata": {},
		   "source": [
			"## Example 3.5: example_5.sce"
		   ]
		  },
  {
"cell_type": "code",
	   "execution_count": null,
	   "metadata": {
	    "collapsed": true
	   },
	   "outputs": [],
"source": [
"clc\n",
"//ex3.5\n",
"C_1=1*10^-6;\n",
"C_2=1*10^-6;\n",
"//Before the switch is closed\n",
"V_1=100;\n",
"V_2=0;\n",
"W_1=(1/2)*C_1*V_1^2;\n",
"W_2=0;      //V_2=0\n",
"W_t_1=W_1+W_2;      //total energy stored by both the capacitors before switch is closed\n",
"q_1=C_1*V_1;\n",
"q_2=0;\n",
"//After the switch is closed\n",
"q_eq=q_1+q_2;      //charge on equivalent capacitance\n",
"C_eq=C_1+C_2;      //C_1 and C_2 in parallel\n",
"V_eq=q_eq/C_eq;\n",
"V_1=V_eq;      //parallel combination\n",
"V_2=V_eq;      //parallel combination\n",
"W_1=(1/2)*C_1*V_eq^2;\n",
"W_2=(1/2)*C_2*V_eq^2;\n",
"W_t_2=W_1+W_2;      //total energy stored by both the capacitors after switch is closed\n",
"disp(W_t_1*10^3,'Total energy stored by both the capacitors before switch is closed in mJ')      //mJ-milli Joules(10^-3)\n",
"disp(W_t_2*10^3,'Total energy stored by both the capacitors after switch is closed in mJ')      //mJ-milli Joules(10^-3)"
   ]
   }
,
{
		   "cell_type": "markdown",
		   "metadata": {},
		   "source": [
			"## Example 3.6: example_6.sce"
		   ]
		  },
  {
"cell_type": "code",
	   "execution_count": null,
	   "metadata": {
	    "collapsed": true
	   },
	   "outputs": [],
"source": [
"clc\n",
"//ex3.6\n",
"L=5;      //inductance\n",
"t_1=[0:0.001:2];\n",
"t_2=[2.001:0.001:4];\n",
"t_3=[4.001:0.001:5];\n",
"t=[t_1,t_2,t_3];\n",
"//corresponding current variations\n",
"i_1=(1.5)*t_1;\n",
"i_2=0*t_2+3;\n",
"i_3=(-3*t_3)+15;\n",
"//voltage V=L*(di/dt)\n",
"V_1=L*(0*t_1+(1.5));\n",
"V_2=L*(0*t_2);\n",
"V_3=L*(0*t_3-3);\n",
"V=[V_1,V_2,V_3];\n",
"//stored energy W=1/2*L*i^2\n",
"W_1=(1/2)*L*i_1^2;\n",
"W_2=(1/2)*L*i_2^2;\n",
"W_3=(1/2)*L*i_3^2;\n",
"W=[W_1,W_2,W_3];\n",
"//power P=V*i\n",
"P_1=L*t_1*(1.5^2);\n",
"P_2=0*t_2;\n",
"P_3=-3*L*(-3*t_3+15);\n",
"P=[P_1,P_2,P_3];\n",
"subplot(221)\n",
"plot(t,V)\n",
"xtitle('voltage vs time','time in seconds','voltage in volts')\n",
"subplot(222)\n",
"plot(t,W)\n",
"xtitle('energy vs time','time in seconds','energy in joules')\n",
"subplot(223)\n",
"plot(t,P)\n",
"xtitle('power vs time','time in seconds','power in watts')"
   ]
   }
],
"metadata": {
		  "kernelspec": {
		   "display_name": "Scilab",
		   "language": "scilab",
		   "name": "scilab"
		  },
		  "language_info": {
		   "file_extension": ".sce",
		   "help_links": [
			{
			 "text": "MetaKernel Magics",
			 "url": "https://github.com/calysto/metakernel/blob/master/metakernel/magics/README.md"
			}
		   ],
		   "mimetype": "text/x-octave",
		   "name": "scilab",
		   "version": "0.7.1"
		  }
		 },
		 "nbformat": 4,
		 "nbformat_minor": 0
}
