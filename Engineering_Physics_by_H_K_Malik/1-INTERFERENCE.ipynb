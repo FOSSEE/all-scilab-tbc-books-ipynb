{
"cells": [
 {
		   "cell_type": "markdown",
	   "metadata": {},
	   "source": [
       "# Chapter 1: INTERFERENCE"
	   ]
	},
{
		   "cell_type": "markdown",
		   "metadata": {},
		   "source": [
			"## Example 1.10: Calculation_of_Wavelength_of_light.sce"
		   ]
		  },
  {
"cell_type": "code",
	   "execution_count": null,
	   "metadata": {
	    "collapsed": true
	   },
	   "outputs": [],
"source": [
"clc \n",
"// Given that\n",
"d = 0.0001 // distance between two slits in meter\n",
"Beta = 0.005 // width of the fringes formed in meter\n",
"D = 1 // distance between slit and screen in meter\n",
"// Sample Problem 10 on page no. 1.43\n",
"printf('\n # PROBLEM 10 # \n')\n",
"lambda = (Beta * d) / D // calculation for wavelength of light = %e meter\n",
"printf('\n Standard formula used \n lambda = (Beta * d) / D.\n')\n",
"printf('\n Wavelength of light = %f A. ',lambda*1e10)"
   ]
   }
,
{
		   "cell_type": "markdown",
		   "metadata": {},
		   "source": [
			"## Example 1.11: Calculation_of_Fringe_width.sce"
		   ]
		  },
  {
"cell_type": "code",
	   "execution_count": null,
	   "metadata": {
	    "collapsed": true
	   },
	   "outputs": [],
"source": [
"clc \n",
"// Given that\n",
"alpha = %pi / 180 // angle of bi prism in radian\n",
"mu = 1.5 // refractive index of biprism \n",
"a = 0.4 // distance of bi prism from slit in meter\n",
"b = 0.6 // distance of bi prism from screen in meter\n",
"lambda = 5.893e-7 // wavelength of light in meter\n",
"// Sample Problem 11 on page no. 1.43\n",
"printf('\n # PROBLEM 11 # \n')\n",
"D = a + b // calculation for distance between slits and screen\n",
"fringe_width = (lambda * D) / (2 * a * (mu - 1) * alpha) // calculation for fringe width\n",
"printf('\n Standard formula used \nD = a + b.\n fringe_width = (lambda * D) / (2 * a * (mu - 1) * alpha).\n ')\n",
"printf('\n Fringe width = %e meter.',fringe_width)"
   ]
   }
,
{
		   "cell_type": "markdown",
		   "metadata": {},
		   "source": [
			"## Example 1.12: Calculation_of_Fringe_width.sce"
		   ]
		  },
  {
"cell_type": "code",
	   "execution_count": null,
	   "metadata": {
	    "collapsed": true
	   },
	   "outputs": [],
"source": [
"clc \n",
"// Given that\n",
"d1 = 4.05e-3 // distance between slits in first position in meter\n",
"d2 = 2.90e-3 // distance between slits in second position in meter\n",
"lambda = 5.893e-7 // wavelength of light in meter\n",
"D = 1 // distance between slit and screen\n",
"// Sample Problem 12 on page no. 1.44\n",
"printf('\n # PROBLEM 12 # \n')\n",
"d = sqrt(d1 * d2)// calculation for distance between fringe\n",
"fringe_width = (lambda * D) / d // calculation for fringe width\n",
"printf('\n Standard formula used \n d = sqrt(d1*d2),\n beta = lambda*D/d \n')\n",
"printf('\n Fringe width = %f mm',fringe_width*1000)"
   ]
   }
,
{
		   "cell_type": "markdown",
		   "metadata": {},
		   "source": [
			"## Example 1.13: Calculation_of_Thickness_of_glass.sce"
		   ]
		  },
  {
"cell_type": "code",
	   "execution_count": null,
	   "metadata": {
	    "collapsed": true
	   },
	   "outputs": [],
"source": [
"clc \n",
"// Given that\n",
"fringe_width = 3.42e-4 // fringe width in meter\n",
"mu = 1.542 // refractive index of glass\n",
"Xn = 2.143e-3 // shift of central fringe in meter\n",
"lambda = 5.89e-7 // wavelength of light in meter\n",
"// Sample Problem 13 on page no. 1.44\n",
"printf('\n # PROBLEM 13 # \n')\n",
"n = Xn / fringe_width // calculation for order of the fringe\n",
"t = (floor(n) * lambda) / (mu - 1) // calculation for thickness of the glass\n",
"printf('\n Standard formula used \n (mu - 1)*t = n*lambda \n')\n",
"printf('\n Thickness of glass sheet = %e meter. ',t)"
   ]
   }
,
{
		   "cell_type": "markdown",
		   "metadata": {},
		   "source": [
			"## Example 1.14: Calculation_of_Distance_between_coherent_sources.sce"
		   ]
		  },
  {
"cell_type": "code",
	   "execution_count": null,
	   "metadata": {
	    "collapsed": true
	   },
	   "outputs": [],
"source": [
"clc \n",
"// Given that\n",
"fringe_width = 9e-4 // fringe width in meter\n",
"a = 0.1 // distance of bi prism from slit in meter\n",
"b = 0.9 // distance of bi prism from screen in meter\n",
"lambda = 5.896e-7 // wavelength of light in meter\n",
"// Sample Problem 14 on page no. 1.45\n",
"printf('\n # PROBLEM 14 # \n')\n",
"D = a + b // calculation for distance between slits and screen\n",
"d = (lambda * D) / fringe_width // calculation for distance between coherent sources\n",
"printf('\n Standard formula used \n D = a + b. \n d = (lambda * D) / fringe_width.\n')\n",
"printf('\n Distance between coherent sources = %e meter. ',d)"
   ]
   }
,
{
		   "cell_type": "markdown",
		   "metadata": {},
		   "source": [
			"## Example 1.15: Calculation_of_Wavelength_of_light.sce"
		   ]
		  },
  {
"cell_type": "code",
	   "execution_count": null,
	   "metadata": {
	    "collapsed": true
	   },
	   "outputs": [],
"source": [
"\n",
"clc \n",
"// Given that\n",
"fringe_width = 1.35e-2 // fringe width in meter\n",
"a = 0.5 // distance of bi prism from slits in meter\n",
"b = 0.5 // distance of bi prism from screen in meter\n",
"mu = 1.5 // refractive index of bi prism \n",
"alpha = %pi / 360 // angle of bi prism in radian \n",
"// Sample Problem 15 on page no. 1.45\n",
"printf('\n # PROBLEM 15 # \n')\n",
"D = a + b // calculation for distance between slits and screen \n",
"lambda = (2 * a * (mu - 1) * alpha * fringe_width) / D // calculation for wavelength of light = %e meter\n",
"printf('\n Standard formula used \n D = a + b. \nlambda = (2 * a * (mu - 1) * alpha * fringe_width) / D.\n ') \n",
"printf('\n Wavelength of light = %f A. ',lambda*1e10)\n",
"//Answer in the book:5893 A\n",
"//Answer in the program:589048.622541 A\n",
""
   ]
   }
,
{
		   "cell_type": "markdown",
		   "metadata": {},
		   "source": [
			"## Example 1.16: Calculation_of_Wavelength_of_light.sce"
		   ]
		  },
  {
"cell_type": "code",
	   "execution_count": null,
	   "metadata": {
	    "collapsed": true
	   },
	   "outputs": [],
"source": [
"clc \n",
"// Given That\n",
"a = 0.45 // distance between slit and bi prism in meter\n",
"b = 0.45 // distance between screen and bi prism in meter\n",
"alpha = %pi / 180 // angle of bi prism in radian\n",
"Mu = 1.5 // refractive index of bi prism\n",
"fringe_width = 1.56e-4 // fringe width in meter \n",
"// Sample Problem 16 on page no. 1.45\n",
"printf('\n # PROBLEM 16 # \n')\n",
"D = a + b // calculation for distance between screen and slit\n",
"lambda = (fringe_width * 2 * a * (Mu - 1) * alpha) / D // calculation for wavelength\n",
"printf('\n Standard formula used \n lambda = (2a*(mu-1)*alpha*beta)/D. \n')\n",
"printf('\n Wavelength of light = %f A.', lambda*1e10)"
   ]
   }
,
{
		   "cell_type": "markdown",
		   "metadata": {},
		   "source": [
			"## Example 1.17: Calculation_of_Wavelength_of_light.sce"
		   ]
		  },
  {
"cell_type": "code",
	   "execution_count": null,
	   "metadata": {
	    "collapsed": true
	   },
	   "outputs": [],
"source": [
"clc \n",
"// Given That\n",
"D = 1.20 // distance between source and eye piece in meter\n",
"Xn = 1.9e-2 // distance move by eye piece for 20 fringe in meter\n",
"n = 20 // no. of fringes\n",
"d = 6e-4 // distance between slits in meter \n",
"// Sample Problem 17 on page no. 1.45\n",
"printf('\n # PROBLEM 17 # \n')\n",
"lambda = (Xn * d) / (D * n)// calculation for wavelength\n",
"printf('\n Standard formula used \n beta = lambda*D/d.')\n",
"printf('\n Wavelength of light = %f A.', lambda*1e10)"
   ]
   }
,
{
		   "cell_type": "markdown",
		   "metadata": {},
		   "source": [
			"## Example 1.18: Calculation_of_No_of_fringes_observed_in_field_of_view_in_second_case.sce"
		   ]
		  },
  {
"cell_type": "code",
	   "execution_count": null,
	   "metadata": {
	    "collapsed": true
	   },
	   "outputs": [],
"source": [
"clc \n",
"// Given That\n",
"lambda1 = 5.890e-7 // wavelength of first light in meter\n",
"lambda2 = 4.358e-7 // wavelength of second light in meter\n",
"n1 = 40 // no. of fringes observed in the field of in first case \n",
"// Sample Problem 18 on page no. 1.46\n",
"printf('\n # PROBLEM 18 # \n')\n",
"n2 = (n1 * lambda1) / lambda2 // by using formula n1*lambda1=n2*lambda2\n",
"printf('\n Standard formula used \n n1*lambda1=n2*lambda2. \n')\n",
"printf('\n No. of fringes observed in field of view in second case = %d. ', floor(n2))"
   ]
   }
,
{
		   "cell_type": "markdown",
		   "metadata": {},
		   "source": [
			"## Example 1.19: Calculation_of_Least_thickness_of_soap_film.sce"
		   ]
		  },
  {
"cell_type": "code",
	   "execution_count": null,
	   "metadata": {
	    "collapsed": true
	   },
	   "outputs": [],
"source": [
"clc \n",
"// Given That\n",
"lambda = 5.893e-7 // wavelength of light in meter\n",
"Mu = 1.42 // refractive index of soap film \n",
"i = 0 // incidence angle in radian \n",
"r = 0 // refracted angle in radian\n",
"// Sample Problem 19 on page no. 1.46\n",
"printf('\n # PROBLEM 19 # \n')\n",
"n = 1 // for smallest thickness\n",
"t1 = ((2 * n - 1) * lambda) / (4 * Mu * cos(r)) // calculation for east thickness of soap film for bright fringe\n",
"t2 = (n * lambda) / (2 * Mu * cos(r)) // calculation for east thickness of soap film for dark fringe\n",
"printf('\n Standard formula used \n thickness for bright fringe = ((2 * n - 1) * lambda) / (4 * Mu * cos(r)). \n thickness for dark fringe = (n * lambda) / (2 * Mu * cos(r)).\n ')\n",
"printf('\n Least thickness of soap film -\n (a) For bright fringe = %e mm. \n (b) For dark fringe = %e mm.',t1*1000,t2*1000)"
   ]
   }
,
{
		   "cell_type": "markdown",
		   "metadata": {},
		   "source": [
			"## Example 1.1: Calculation_of_time_Coherence.sce"
		   ]
		  },
  {
"cell_type": "code",
	   "execution_count": null,
	   "metadata": {
	    "collapsed": true
	   },
	   "outputs": [],
"source": [
"clc \n",
"// Given that\n",
"lambda = 6.6e-7 // wavelength of light in meter\n",
"L = 1.32e-5 // coherence length in meter\n",
"// Sample Problem 1 on page no. 1.40\n",
"printf('\n # PROBLEM 1 # \n')\n",
"printf('\n Standard formulae used \n delta_L = c * delta_t \n')\n",
"coherence_time = L / (3 * 10 ^ 8)//calculation for coherence time\n",
"printf('\n Coherence time = %e sec',coherence_time)"
   ]
   }
,
{
		   "cell_type": "markdown",
		   "metadata": {},
		   "source": [
			"## Example 1.20: Calculation_of_Thickness_of_oil_film.sce"
		   ]
		  },
  {
"cell_type": "code",
	   "execution_count": null,
	   "metadata": {
	    "collapsed": true
	   },
	   "outputs": [],
"source": [
"clc \n",
"// Given That\n",
"lambda = 5.89e-7 // wavelength of light in meter\n",
"Mu_o = 1.4 // refractive index of oil film \n",
"Mu_w = 1.33 // refractive index of water\n",
"i = %pi / 6 // incidence angle in radian \n",
"n = 6 // no. of fringes seen\n",
"// Sample Problem 20 on page no. 1.46\n",
"printf('\n # PROBLEM 20 # \n')\n",
"r = asin(sin(i) / Mu_o) // calculation for angle of refraction\n",
"t = (n * lambda) / (2 * Mu_o * cos(r)) // calculation for thickness of film\n",
"printf('\n Standard formula used \n mu = sin(i)/sin(r),\n 1*mu*t*cos(r) = n*lambda. \n')\n",
"printf('\n Thickness of oil film = %e mm.',t*1000)"
   ]
   }
,
{
		   "cell_type": "markdown",
		   "metadata": {},
		   "source": [
			"## Example 1.21: Calculation_of_Least_thickness_of_soap_film_for_bright_fringe.sce"
		   ]
		  },
  {
"cell_type": "code",
	   "execution_count": null,
	   "metadata": {
	    "collapsed": true
	   },
	   "outputs": [],
"source": [
"clc \n",
"// Given That\n",
"lambda = 6e-7 // wavelength of light in meter\n",
"Mu = 1.463 // refractive index of soap film \n",
"i = 0 // incidence angle in radian \n",
"r = 0 // refracted angle in radian\n",
"// Sample Problem 21 on page no. 1.47\n",
"printf('\n # PROBLEM 21 # \n')\n",
"n = 1 // for smallest thickness\n",
"t = ((2 * n - 1) * lambda) / (4 * Mu * cos(r)) // calculation for least thickness of soap film for bright fringe\n",
"printf('\n Standard formula used \n t = ((2 * n - 1) * lambda) / (4 * Mu * cos(r)).\n')\n",
"printf('\n Least thickness of soap film for bright fringe = %e mm. ',t*1000)"
   ]
   }
,
{
		   "cell_type": "markdown",
		   "metadata": {},
		   "source": [
			"## Example 1.22: Calculation_of_Thickness_of_oil_film.sce"
		   ]
		  },
  {
"cell_type": "code",
	   "execution_count": null,
	   "metadata": {
	    "collapsed": true
	   },
	   "outputs": [],
"source": [
"clc \n",
"// Given That\n",
"lambda = 5.89e-7 // wavelength of light \n",
"Mu_o = 1.46 // refractive index of oil film \n",
"i = %pi / 6 // incidence angle in radian \n",
"n = 8 // no. of fringe is seen\n",
"// Sample Problem 22 on page no. 1.47\n",
"printf('\n # PROBLEM 22 # \n')\n",
"r = asin(sin(i) / Mu_o) // calculation for angle of refraction\n",
"t = (n * lambda) / (2 * Mu_o * cos(r)) // calculation for thickness of oil film\n",
"printf('\n Standard formula used \n r = asin(sin(i) / Mu_o.\n t = (n * lambda) / (2 * Mu_o * cos(r)).\n')\n",
"printf('\n  Thickness of oil film = %e mm. ',t*1000)"
   ]
   }
,
{
		   "cell_type": "markdown",
		   "metadata": {},
		   "source": [
			"## Example 1.23: Calculation_of_No_of_dark_bands_seen_between_wavelengths.sce"
		   ]
		  },
  {
"cell_type": "code",
	   "execution_count": null,
	   "metadata": {
	    "collapsed": true
	   },
	   "outputs": [],
"source": [
"clc \n",
"// Given That\n",
"lambda1 = 4e-7 // max. wavelength of light in meter\n",
"lambda2 = 5e-7 // min. wavelength of light in meter\n",
"Mu = 1.4 // refractive index of soap film \n",
"i = %pi / 4 // incidence angle in radian \n",
"t = 1e-5 // thickness of oil film in meter\n",
"// Sample Problem 23 on page no. 1.47\n",
"printf('\n # PROBLEM 23 # \n')\n",
"r = asin(sin(i) / Mu) // calculation for angle of refraction\n",
"n1 = (2 * Mu * t * cos(r)) / lambda1 // calculation for no. of dark bands seen in the case of max. wavelength \n",
"n2 = (2 * t * Mu * cos(r)) / lambda2 // calculation for no. of dark seen in the case of min. wavelength \n",
"n = floor(n1) - floor(n2) // claculation for no. of dark bands seen between wavelengths\n",
"printf('\n Standard formula used \n r = asin(sin(i) / Mu).\n n = (2 * Mu * t * cos(r)) / lambda.\n')\n",
"printf('\n No. of dark bands seen between wavelengths. = %d',n)"
   ]
   }
,
{
		   "cell_type": "markdown",
		   "metadata": {},
		   "source": [
			"## Example 1.24: Calculation_of_Least_thickness_of_soap_film_for_bright_fringe.sce"
		   ]
		  },
  {
"cell_type": "code",
	   "execution_count": null,
	   "metadata": {
	    "collapsed": true
	   },
	   "outputs": [],
"source": [
"clc \n",
"// Given That\n",
"lambda = 5.89e-7 // wavelength of light in meter\n",
"Mu = 1.5 // refractive index of soap film  \n",
"r = %pi / 3 // refracted angle in radian\n",
"// Sample Problem 24 on page no. 1.48\n",
"printf('\n # PROBLEM 24 # \n')\n",
"n = 1 // for smallest thickness\n",
"t = (n * lambda) / (2 * Mu * cos(r)) // calculation for least thickness of soap film for bright fringe\n",
"printf('\n Standard formula used \n t = (n * lambda) / (2 * Mu * cos(r)).\n')\n",
"printf('\n Least thickness of soap film for bright fringe = %e meter. ',t)"
   ]
   }
,
{
		   "cell_type": "markdown",
		   "metadata": {},
		   "source": [
			"## Example 1.25: Calculation_of_Thickness_of_the_film.sce"
		   ]
		  },
  {
"cell_type": "code",
	   "execution_count": null,
	   "metadata": {
	    "collapsed": true
	   },
	   "outputs": [],
"source": [
"clc \n",
"// Given That\n",
"lambda1 = 6.1e-7 // max. wavelength of light in meter\n",
"lambda2 = 6e-7 // min. wavelength of light in meter\n",
"Mu = 1.333 // refractive index of  film \n",
"i = %pi / 4 // incidence angle in radian \n",
"// Sample Problem 25 on page no. 1.48\n",
"printf('\n # PROBLEM 25 # \n')\n",
"r = asin(sin(i) / Mu) // calculation for angle of refraction\n",
"n = lambda2 / (lambda1 - lambda2) // calculation for no. of bright band\n",
"t = (n * lambda1) / (2 * Mu * cos(r)) // calculation for thickness of the film\n",
"printf('\n Standard formulae used \n r = asin(sin(i) / Mu).\n n = lambda2 / (lambda1 - lambda2).\n t = (n * lambda1) / (2 * Mu * cos(r)).\n')\n",
"printf('\n Thickness of the film = %e meter. ',t)"
   ]
   }
,
{
		   "cell_type": "markdown",
		   "metadata": {},
		   "source": [
			"## Example 1.26: Calculation_of_Least_thickness_of_soap_film_for_bright_fringe.sce"
		   ]
		  },
  {
"cell_type": "code",
	   "execution_count": null,
	   "metadata": {
	    "collapsed": true
	   },
	   "outputs": [],
"source": [
"clc \n",
"// Given That\n",
"lambda = 6e-7 // wavelength of light in meter\n",
"Mu = 1.463 // refractive index of soap film \n",
"i = 0 // incidence angle in radian \n",
"r = 0 // refracted angle in radian\n",
"// Sample Problem 26 on page no. 1.49\n",
"printf('\n # PROBLEM 26 # \n')\n",
"n = 1 // for smallest thickness\n",
"t = ((2 * n - 1) * lambda) / (4 * Mu * cos(r)) // calculation for thickness of soap film\n",
"printf('\n Standard formula used \n 2*mu*t*cos(r)=(2n-1)*lambda/2. \n')\n",
"printf('\n Least thickness of soap film for bright fringe = %e meter. ',t)"
   ]
   }
,
{
		   "cell_type": "markdown",
		   "metadata": {},
		   "source": [
			"## Example 1.27: Calculation_of_Thickness_of_the_film.sce"
		   ]
		  },
  {
"cell_type": "code",
	   "execution_count": null,
	   "metadata": {
	    "collapsed": true
	   },
	   "outputs": [],
"source": [
"clc \n",
"// Given That\n",
"lambda1 = 6.1e-7 // max. wavelength of light in meter\n",
"lambda2 = 6e-7 // min. wavelength of light in meter\n",
"Mu = 4 / 3 // refractive index of film \n",
"i = asin(4 / 5) // incidence angle in radian \n",
"// Sample Problem 27 on page no. 1.49\n",
"printf('\n # PROBLEM 27 # \n')\n",
"r = asin(sin(i) / Mu) // calculation for angle of refraction\n",
"n = lambda2 / (lambda1 - lambda2) // calculation for order of fringe\n",
"t = (n * lambda1) / (2 * Mu * cos(r)) // calculation for thickness of film\n",
"printf('\n Standard formula used \n mu = sin(i)/sin(r),\n 2*mu*t*cos(r) = n*lambda. \n')\n",
"printf('\n Thickness of the film = %e mm. ',t*1000)"
   ]
   }
,
{
		   "cell_type": "markdown",
		   "metadata": {},
		   "source": [
			"## Example 1.28: Calculation_of_Thickness_of_wire.sce"
		   ]
		  },
  {
"cell_type": "code",
	   "execution_count": null,
	   "metadata": {
	    "collapsed": true
	   },
	   "outputs": [],
"source": [
"clc \n",
"// Given That\n",
"lambda = 5.893e-7 // wavelenth of light in meter\n",
"n = 20 // no. of interference fringes are observed \n",
"Mu = 1 // refractive index of air\n",
"i = 0 // incidence angle in radian \n",
"r = 0 // refracted angle in radian \n",
"// Sample Problem 28 on page no. 1.50\n",
"printf('\n # PROBLEM 28 # \n')\n",
"t = (n * lambda) / (2 * Mu) // calculation for thickness of fringe\n",
"printf('\n Standard formula used \n w = lambda/(2*mu*theta).\n')\n",
"printf('\n  Thickness of wire = %e mm. ',t*1000)"
   ]
   }
,
{
		   "cell_type": "markdown",
		   "metadata": {},
		   "source": [
			"## Example 1.29: Calculation_of_Fringe_width.sce"
		   ]
		  },
  {
"cell_type": "code",
	   "execution_count": null,
	   "metadata": {
	    "collapsed": true
	   },
	   "outputs": [],
"source": [
"clc \n",
"// Given That\n",
"lambda = 6e-7 // wavelength of light in meter\n",
"Mu = 1 // refractive index of air film\n",
"l = 6e-5 // diameter of wire in meter\n",
"L = 0.15 // distance of wire from edge in meter\n",
"i = 0 // incidence angle in radian \n",
"r = 0 // refracted angle in radian \n",
"// Sample Problem 29 on page no. 1.50\n",
"printf('\n # PROBLEM 29 # \n')\n",
"theta = l / L //calculation for theta\n",
"fringe_width = lambda / (2 * Mu * theta) // calculation for fringe width\n",
"printf('\n Standard formula used \n w = lambda/(2*mu*theta).\n')\n",
"printf('\n Fringe width = %f mm.',fringe_width*1000)"
   ]
   }
,
{
		   "cell_type": "markdown",
		   "metadata": {},
		   "source": [
			"## Example 1.2: Calculation_No_of_oscillations_of.sce"
		   ]
		  },
  {
"cell_type": "code",
	   "execution_count": null,
	   "metadata": {
	    "collapsed": true
	   },
	   "outputs": [],
"source": [
"clc \n",
"// Given that\n",
"lambda = 5.896e-7 // wavelength of light in meter\n",
"L = 2.945e-2 // coherence length in meter\n",
"// Sample Problem 2 on page no. 1.40\n",
"printf('\n # PROBLEM 2 # \n')\n",
"printf('\n Standard formula used \n delta_L = c*delta_t. \n')\n",
"coherence_time = L / (3 * 10 ^ 8) // calculation for coherence time\n",
"n = L / lambda // calculation for number of oscillations \n",
"printf('\n Coherence time = %e sec.',coherence_time)\n",
"printf('\n No. of oscillations = %e.',n)"
   ]
   }
,
{
		   "cell_type": "markdown",
		   "metadata": {},
		   "source": [
			"## Example 1.30: Calculation_of_Fringe_width.sce"
		   ]
		  },
  {
"cell_type": "code",
	   "execution_count": null,
	   "metadata": {
	    "collapsed": true
	   },
	   "outputs": [],
"source": [
"clc \n",
"// Given That\n",
"lambda = 4.56e-7 // wavelength of light in meter\n",
"theta = 1.9e-4 // angle of wedge in radian \n",
"Mu = 1 // refractive index of air\n",
"// Sample Problem 30 on page no. 1.51\n",
"printf('\n # PROBLEM 30 # \n')\n",
"fringe_width = lambda / (2 * Mu * theta)// calculation for fringe width \n",
"printf('\n Standard formula used \n w = lambda/(2*mu*alpha).\n')\n",
"printf('\n Fringe width = %f mm.',fringe_width*1000)"
   ]
   }
,
{
		   "cell_type": "markdown",
		   "metadata": {},
		   "source": [
			"## Example 1.31: Calculation_of_Fringe_width.sce"
		   ]
		  },
  {
"cell_type": "code",
	   "execution_count": null,
	   "metadata": {
	    "collapsed": true
	   },
	   "outputs": [],
"source": [
"clc \n",
"// Given That\n",
"lambda = 6e-7 // wavelength of light in meter\n",
"Mu = 1 // refractive index of air film\n",
"l = 3e-5 // diameter of wire in meter\n",
"L = 0.15 // distance of wire from edge in meter\n",
"i = 0 // incidence angle in radian \n",
"r = 0 // refracted angle in radian \n",
"// Sample Problem 31 on page no. 1.51\n",
"printf('\n # PROBLEM 31 # \n')\n",
"theta = l / L // calculation for theta\n",
"fringe_width = lambda / (2 * Mu * theta) // calculation for fringe width \n",
"printf('\n Standard formula used \n w = lambda/ (2*mu*theta).\n')\n",
"printf('\n Fringe width = %f mm.',fringe_width*1000)"
   ]
   }
,
{
		   "cell_type": "markdown",
		   "metadata": {},
		   "source": [
			"## Example 1.32: Calculation_of_Distance.sce"
		   ]
		  },
  {
"cell_type": "code",
	   "execution_count": null,
	   "metadata": {
	    "collapsed": true
	   },
	   "outputs": [],
"source": [
"clc \n",
"// Given That\n",
"lambda = 5.890e-7 // wavelength of light in meter\n",
"theta = 1e-2 // angle of wedge in radian \n",
"n = 12 // no. of dark fringe\n",
"Mu = 1 // refractive index of air\n",
"i = 0 // incidence angle in radian\n",
"r = 0 // refracted angle in radian\n",
"// Sample Problem 32 on page no. 1.51\n",
"printf('\n # PROBLEM 32 # \n')\n",
"x = ( n * lambda) / (2 * theta) // calculation for distance\n",
"printf('\n Standard formula used \n x = n*lambda/(2*theta).\n')\n",
"printf('\n Distance = %f mm. ',x*1000)"
   ]
   }
,
{
		   "cell_type": "markdown",
		   "metadata": {},
		   "source": [
			"## Example 1.33: Calculation_of_Angle_of_wedge.sce"
		   ]
		  },
  {
"cell_type": "code",
	   "execution_count": null,
	   "metadata": {
	    "collapsed": true
	   },
	   "outputs": [],
"source": [
"clc \n",
"// Given That\n",
"lambda = 5.5e-7 // wavelength of light in meter\n",
"w = 2e-5 // fringe width in meter\n",
"Mu = 1.5 // refractive index of film\n",
"i = 0 // incidence angle in radian\n",
"r = 0 // refracted angle in radian\n",
"// Sample Problem 33 on page no. 1.52\n",
"printf('\n # PROBLEM 33 # \n')\n",
"theta = lambda / (2 * Mu * w)// calculation for the angle of the film\n",
"printf('\n Standard formula used \n w = lambda/(2*mu*theta).\n')\n",
"printf('\n Angle of wedge = %f degree. ',theta * 180/ %pi)"
   ]
   }
,
{
		   "cell_type": "markdown",
		   "metadata": {},
		   "source": [
			"## Example 1.34: Calculation_of_Wavelength_of_light.sce"
		   ]
		  },
  {
"cell_type": "code",
	   "execution_count": null,
	   "metadata": {
	    "collapsed": true
	   },
	   "outputs": [],
"source": [
"clc \n",
"// Given That\n",
"d1 = 5.9e-3 // diameter of 15th ring in meter\n",
"d2 = 3.36e-3 // diameter of 5th ring in meter\n",
"R = 1 // redius of the plano-convex lens in meter\n",
"// Sample Problem 34 on page no. 1.52\n",
"printf('\n # PROBLEM 34 # \n') \n",
"p = 15 - 5\n",
"lambda = ((d1^2) - (d2^2)) / (4 * p * R) // calculation for wavelength of light\n",
"printf('\n Standard formula used \n lambda = (d1^2-d2^2)/(4*p*R).\n')\n",
"printf('\n Wavelength of light = %f A.',lambda*1e10)"
   ]
   }
,
{
		   "cell_type": "markdown",
		   "metadata": {},
		   "source": [
			"## Example 1.35: Calculation_of_Wavelength_of_light.sce"
		   ]
		  },
  {
"cell_type": "code",
	   "execution_count": null,
	   "metadata": {
	    "collapsed": true
	   },
	   "outputs": [],
"source": [
"clc \n",
"// Given That\n",
"d1 = 2e-3 // diameter of 10th ring in meter\n",
"d2 = 3e-3 // diameter of 20th ring in meter\n",
"f = 0.9 // focal length of the plano-convex lens in meter\n",
"mu = 1.5 // refractive index of lens\n",
"// Sample Problem 35 on page no. 1.52\n",
"printf('\n # PROBLEM 35 # \n') \n",
"p = 20 - 10\n",
"R = (f * (mu - 1)) // calculation for radius of convex surface of lens\n",
"lambda = ((d2^2) - (d1^2)) / (4 * p * R)\n",
"printf('\n Standard formula used \n lambda = ((d2^2) - (d1^2)) / (4 * p * R).\n')\n",
"printf('\n Wavelength of light = %f nm.',lambda*1e9)\n",
"//Answer in the book:2777 nm\n",
"//Answer in the program:277.77778 nm"
   ]
   }
,
{
		   "cell_type": "markdown",
		   "metadata": {},
		   "source": [
			"## Example 1.36: Calculation_of_Diameter_of_7th_bright_ring.sce"
		   ]
		  },
  {
"cell_type": "code",
	   "execution_count": null,
	   "metadata": {
	    "collapsed": true
	   },
	   "outputs": [],
"source": [
"clc \n",
"// Given That\n",
"lambda = 5.896e-7 // wavelength of light in meter\n",
"f = 1 // focal length of the plano-convex lens in meter\n",
"mu = 1.5 // refractive index of lens \n",
"n = 7 // no. of bright ring\n",
"// Sample Problem 36 on page no. 1.53\n",
"printf('\n # PROBLEM 36 # \n') \n",
"p = 20 - 10\n",
"R = (f * (mu - 1)) * 2 // calculation for radius of lens\n",
"D = sqrt(4 * n * lambda * R) // calculation for diameter of 7th ring \n",
"printf('\n Standard formula used \n Dn^2 = 4n*lambda*R. \n')\n",
"printf('\n Diameter of 7th bright ring = %e meter.',D)"
   ]
   }
,
{
		   "cell_type": "markdown",
		   "metadata": {},
		   "source": [
			"## Example 1.37: Calculation_of_Diameter_of_dark_ring.sce"
		   ]
		  },
  {
"cell_type": "code",
	   "execution_count": null,
	   "metadata": {
	    "collapsed": true
	   },
	   "outputs": [],
"source": [
"clc \n",
"// Given That\n",
"lambda1 = 6e-7 // wavelength of first light in meter\n",
"lambda2 = 4.8e-7 // wavelength of second light in meter\n",
"r = 0.96 // radius of curvature of curved surface of lens in meter\n",
"// Sample Problem 37 on page no. 1.53\n",
"printf('\n # PROBLEM 37 # \n') \n",
"n = lambda2 / (lambda1 - lambda2) // calculation for order of fringe\n",
"D = sqrt(4 * (n + 1) * lambda2 * r) // calculation for diameter of ring\n",
"printf('\n Standard formula used \n n^2 = 4n*lambda*R. \n')\n",
"printf('\n Diameter of (n +1)th dark ring of lambda2. = %e meter.',D)"
   ]
   }
,
{
		   "cell_type": "markdown",
		   "metadata": {},
		   "source": [
			"## Example 1.38: Calculation_of_Diameter_of_nth_dark_ring.sce"
		   ]
		  },
  {
"cell_type": "code",
	   "execution_count": null,
	   "metadata": {
	    "collapsed": true
	   },
	   "outputs": [],
"source": [
"clc \n",
"// Given That\n",
"lambda1 = 6e-7 // wavelength of first light in meter\n",
"lambda2 = 5.9e-7 // wavelength of second light in meter\n",
"r = 0.9 // radius of curvature of curved surface of lens in meter\n",
"// Sample Problem 38 on page no. 1.54\n",
"printf('\n # PROBLEM 38 # \n') \n",
"n = lambda2 / (lambda1 - lambda2) // calculation for order of ring\n",
"D = sqrt(4 * (n + 1) * lambda1 * r) // calculation for diameter of ring\n",
"printf('\n Standard formula used \n n^2 = 4n*lambda*R.\n')\n",
"printf('\n Diameter of nth dark ring of lambda1 = %f meter.',D)"
   ]
   }
,
{
		   "cell_type": "markdown",
		   "metadata": {},
		   "source": [
			"## Example 1.39: Calculation_of_Refractive_index_of_liquid.sce"
		   ]
		  },
  {
"cell_type": "code",
	   "execution_count": null,
	   "metadata": {
	    "collapsed": true
	   },
	   "outputs": [],
"source": [
"clc \n",
"// Given That\n",
"lambda = 5.896e-7 // wavelength of light in meter\n",
"D = 4e-3 // diameter of 7th brighter fringe in m\n",
"R = 1 // radius of curvature in m\n",
"// Sample Problem 39 on page no. 1.54\n",
"printf('\n # PROBLEM 39 # \n') \n",
"n = 7 // for seventh brighter fringe\n",
"mu = 2*(2*n-1)*lambda*R / D^2 // calculation for refractive index of liquid\n",
"printf('\n Standard formula used \n mu = 2*(2*n-1)*lambda*R / D^2.\n')\n",
"printf('\n Refractive index of liquid = %f.',mu)"
   ]
   }
,
{
		   "cell_type": "markdown",
		   "metadata": {},
		   "source": [
			"## Example 1.3: Calculation_of_Coherence_time_and_Line_width_and_Frequency_stability.sce"
		   ]
		  },
  {
"cell_type": "code",
	   "execution_count": null,
	   "metadata": {
	    "collapsed": true
	   },
	   "outputs": [],
"source": [
"clc \n",
"// Given that\n",
"lambda = 6.058e-7 // wavelength of light in meter\n",
"L = 0.2 // coherence length in meter\n",
"// Sample Problem 3 on page no. 1.40\n",
"printf('\n # PROBLEM 3 # \n')\n",
"printf('\n Standard formula used \n f = c/lambda. \n')\n",
"line_width = (lambda ^ 2) / L//calculation for line width\n",
"f_spread = (3 * 10 ^ 8) / L// calculation for frequency spread\n",
"f = (3 * 10 ^ 8) / lambda // calculation for frequency\n",
"f_stability = f_spread / f // calculation for frequency stability\n",
"coherence_time = L / (3 * 10 ^ 8) // calculation for coherence time\n",
"printf('\n Coherence time = %e sec',coherence_time)\n",
"printf('\n Line width = %e meter',line_width)\n",
"printf('\n Frequency stability = %e', f_stability)"
   ]
   }
,
{
		   "cell_type": "markdown",
		   "metadata": {},
		   "source": [
			"## Example 1.40: Calculation_of_Refractive_index_of_liquid.sce"
		   ]
		  },
  {
"cell_type": "code",
	   "execution_count": null,
	   "metadata": {
	    "collapsed": true
	   },
	   "outputs": [],
"source": [
"clc \n",
"// Given That\n",
"D1 = 3e-3 // diameter of nth dark fringe when liquid is absent between the lens and the plate in m\n",
"D2 = 2.5e-3 // diameter of nth dark fringe when liquid is introduced between the lens and the plate in m\n",
"c = 3e8 // velocity of light in vacuum in m/sed\n",
"// Sample Problem 40 on page no. 1.54\n",
"printf('\n # PROBLEM 40 # \n') \n",
"mu = D1^2 / D2^2// calculation for refractive index\n",
"v = 3e8 / mu // calculation for velocity of light \n",
"printf('\n Standard formula used \n mu = D1^2 / D2^2. \n v = 3e8 / mu. \n')\n",
"printf('\n Refractive index of liquid = %f.\n velocity of light in the liquid = %e m/sec.',mu,v)"
   ]
   }
,
{
		   "cell_type": "markdown",
		   "metadata": {},
		   "source": [
			"## Example 1.41: Calculation_of_Refractive_index_of_liquid.sce"
		   ]
		  },
  {
"cell_type": "code",
	   "execution_count": null,
	   "metadata": {
	    "collapsed": true
	   },
	   "outputs": [],
"source": [
"clc \n",
"// Given That\n",
"lambda = 5.896e-7 // wavelength of light in meter\n",
"D = 5.1e-3 // diameter of 16th brighter fringe in m\n",
"R = 1 // radius of curvature in m\n",
"// Sample Problem 41 on page no. 1.55\n",
"printf('\n # PROBLEM 41 # \n') \n",
"n = 16 // for sixteenth brighter fringe\n",
"mu = 4*n*lambda*R / D^2 // calculation for refractive index of liquid\n",
"printf('\n Standard formula used \n mu = 4*n*lambda*R / D^2.\n')\n",
"printf('\n Refractive index of liquid = %f.',mu)"
   ]
   }
,
{
		   "cell_type": "markdown",
		   "metadata": {},
		   "source": [
			"## Example 1.42: Calculation_of_The_radius_of_smallest_dark_ring.sce"
		   ]
		  },
  {
"cell_type": "code",
	   "execution_count": null,
	   "metadata": {
	    "collapsed": true
	   },
	   "outputs": [],
"source": [
"clc \n",
"// Given That\n",
"lambda = 6.3e-7 // wavelength of light in meter\n",
"mu = 1.63 // refractive index of liquid \n",
"R = 0.9 // the radius of curvature of convex lens in meter\n",
"// Sample Problem 42 on page no. 1.55\n",
"printf('\n # PROBLEM 42 # \n') \n",
"r = sqrt(lambda*R/mu) // calculation for the radius of smallest dark ring\n",
"printf('\n Standard formula used \n r = sqrt(n*lambda*R/mu). \n')\n",
"printf('\n The radius of smallest dark ring = %f mm.',r*1000)"
   ]
   }
,
{
		   "cell_type": "markdown",
		   "metadata": {},
		   "source": [
			"## Example 1.43: Calculation_of_the_ratio_refractive_index_of_media.sce"
		   ]
		  },
  {
"cell_type": "code",
	   "execution_count": null,
	   "metadata": {
	    "collapsed": true
	   },
	   "outputs": [],
"source": [
"clc \n",
"// Given That\n",
"r = 10/7 // ratio of nth ring diameter for two media\n",
"// Sample Problem 43 on page no. 1.55\n",
"printf('\n # PROBLEM 43 # \n') \n",
"R = (1/r)^2 // calculation for the ratio of refractive index of media\n",
"printf('\n Standard formula used \n mu1/mu2 = D2/D1. \n')\n",
"printf('\n the ratio refractive index of media = %f:100.',R*100)"
   ]
   }
,
{
		   "cell_type": "markdown",
		   "metadata": {},
		   "source": [
			"## Example 1.44: Calculation_of_Wavelength_of_light.sce"
		   ]
		  },
  {
"cell_type": "code",
	   "execution_count": null,
	   "metadata": {
	    "collapsed": true
	   },
	   "outputs": [],
"source": [
"clc \n",
"// Given That\n",
"R = 0.9 // radius of curvature of the lower face of the lens in meter\n",
"D = 4.8e-3 // diameter of the 10th dark ring in meter\n",
"// Sample Problem 44 on page no. 1.56\n",
"printf('\n # PROBLEM 44 # \n') \n",
"n = 10 // for 10th dark ring\n",
"lambda = D^2 / (4 * n * R) // calculation for wavelength of light\n",
"printf('\n Standard formula used \n lambda = D^2 / (4 * n * R). \n')\n",
"printf('\n Wavelength of light = %f A.',lambda * 1e10)"
   ]
   }
,
{
		   "cell_type": "markdown",
		   "metadata": {},
		   "source": [
			"## Example 1.45: Calculation_of_Refractive_index_of_liquid.sce"
		   ]
		  },
  {
"cell_type": "code",
	   "execution_count": null,
	   "metadata": {
	    "collapsed": true
	   },
	   "outputs": [],
"source": [
"clc \n",
"// Given That\n",
"r = 1/2 // ratio of 5th ring diameter when no liquid between plane glass plate and convex lens and when the liquid between glass plate and convex lens\n",
"// Sample Problem 45 on page no. 1.56\n",
"printf('\n # PROBLEM 45 # \n') \n",
"R = (1/r)^2 // calculation for refractive index of liquid\n",
"printf('\n Standard formula used \n mu1/mu2 = D2/D1. \n')\n",
"printf('\n Refractive index of liquid = %f. ',R)"
   ]
   }
,
{
		   "cell_type": "markdown",
		   "metadata": {},
		   "source": [
			"## Example 1.46: Calculation_of_Distance_between_5th_and_15th_dark_ring.sce"
		   ]
		  },
  {
"cell_type": "code",
	   "execution_count": null,
	   "metadata": {
	    "collapsed": true
	   },
	   "outputs": [],
"source": [
"clc \n",
"// Given That\n",
"R = 1 // radius of curvature of lens of both side in meter\n",
"lambda = 5.4e-7 // wavelength of monochromatic light in meter\n",
"// Sample Problem 46 on page no. 1.56\n",
"printf('\n # PROBLEM 46 # \n') \n",
"n1 = 5 // for 5th dark ring\n",
"n2 = 15 // for 10th dark ring\n",
"r1 = sqrt((n1*lambda)/(1/R + 1/R)) // calculation for radius of 5th dark ring\n",
"r2 = sqrt((n2*lambda)/(1/R + 1/R)) // calculation for radius of 15th dark ring\n",
"d = r2 - r1 // calculation for distance between 5th and 15th dark ring\n",
"printf('\n Standard formula used \n r = sqrt((n*lambda)/(1/R + 1/R)). \n')\n",
"printf('\n Distance between 5th and 15th dark ring = %f cm.',d * 100)"
   ]
   }
,
{
		   "cell_type": "markdown",
		   "metadata": {},
		   "source": [
			"## Example 1.47: Calculation_of_Refractive_index_of_mica.sce"
		   ]
		  },
  {
"cell_type": "code",
	   "execution_count": null,
	   "metadata": {
	    "collapsed": true
	   },
	   "outputs": [],
"source": [
"clc \n",
"// Given That\n",
"x = 2.5e-5 // distance moved by movable mirror in meter\n",
"t = 5e-5 // thickness of mica sheet in meter\n",
"// Sample Problem 47 on page no. 1.57\n",
"printf('\n # PROBLEM 47 # \n') \n",
"mu = x / t + 1 // calculation for refractive index of mica\n",
"printf('\n Standard formula used \n mu = x / t + 1. \n')\n",
"printf('\n Refractive index of mica = %f.',mu)"
   ]
   }
,
{
		   "cell_type": "markdown",
		   "metadata": {},
		   "source": [
			"## Example 1.48: Calculation_of_Wavelength_of_light.sce"
		   ]
		  },
  {
"cell_type": "code",
	   "execution_count": null,
	   "metadata": {
	    "collapsed": true
	   },
	   "outputs": [],
"source": [
"clc \n",
"// Given That\n",
"x = 6e-5 // distance moved by movable mirror in meter\n",
"N = 200 // no. of fringes crossed the field of view \n",
"// Sample Problem 48 on page no. 1.57\n",
"printf('\n # PROBLEM 48 # \n') \n",
"lambda = (2 * x) / N // calculation for wavelength of light\n",
"printf('\n Standard formula used \n lambda = (2 * X) / N. \n')\n",
"printf('\n Wavelength of light = %f A.',lambda * 1e10)"
   ]
   }
,
{
		   "cell_type": "markdown",
		   "metadata": {},
		   "source": [
			"## Example 1.49: Calculation_of_Thickness_of_the_plate.sce"
		   ]
		  },
  {
"cell_type": "code",
	   "execution_count": null,
	   "metadata": {
	    "collapsed": true
	   },
	   "outputs": [],
"source": [
"clc \n",
"// Given That\n",
"n = 50 // no. of bands crosses the line of observation \n",
"lambda = 5.896e-7 // wavelength of light in meter\n",
"mu = 1.4 // refractive index \n",
"// Sample Problem 49 on page no. 1.57\n",
"printf('\n # PROBLEM 49 # \n') \n",
"t = n*lambda / (2*(mu-1)) // calculation for thickness of the plate\n",
"printf('\n Standard formula used \n t = n*lambda /2*(mu-1)\n')\n",
"printf('\n Thickness of the plate = %e m.',t)"
   ]
   }
,
{
		   "cell_type": "markdown",
		   "metadata": {},
		   "source": [
			"## Example 1.4: Calculation_of_Coherence_length.sce"
		   ]
		  },
  {
"cell_type": "code",
	   "execution_count": null,
	   "metadata": {
	    "collapsed": true
	   },
	   "outputs": [],
"source": [
"clc \n",
"// Given that\n",
"lambda_D = 5.5e-13 // Doppler width of orange light in meter\n",
"lambda = 6.058e-7 // wavelength of light in meter\n",
"// Sample Problem 4 on page no. 1.41\n",
"printf('\n # PROBLEM 4 # \n')\n",
"printf('\n Standard formula used \n delta_L = lambda^2/delta_lambda. \n')\n",
"coherence_length = (lambda ^ 2) / lambda_D// calculation for coherence light\n",
"printf('\n Coherence length = %f meter',coherence_length)"
   ]
   }
,
{
		   "cell_type": "markdown",
		   "metadata": {},
		   "source": [
			"## Example 1.50: Calculation_of_The_path_difference.sce"
		   ]
		  },
  {
"cell_type": "code",
	   "execution_count": null,
	   "metadata": {
	    "collapsed": true
	   },
	   "outputs": [],
"source": [
"clc \n",
"// Given That\n",
"n = 50 // no. of bands crosses the line of observation \n",
"lambda1 = 5.896e-7 // max. wavelength of light in meter\n",
"lambda2 = 5.89e-7 // min. wavelength of light in meter\n",
"// Sample Problem 50 on page no. 1.57\n",
"printf('\n # PROBLEM 50 # \n') \n",
"x = lambda1 * lambda2 /(lambda1 - lambda2) // calculation for the path difference\n",
"printf('\n Standard formula used \n t = n*lambda /2*(mu-1)\n')\n",
"printf('\n The path difference = %f mm.',x*10^3)"
   ]
   }
,
{
		   "cell_type": "markdown",
		   "metadata": {},
		   "source": [
			"## Example 1.51: Calculation_of_Wavelength_of_monochromatic_light.sce"
		   ]
		  },
  {
"cell_type": "code",
	   "execution_count": null,
	   "metadata": {
	    "collapsed": true
	   },
	   "outputs": [],
"source": [
"clc \n",
"// Given That\n",
"x = 2.948e-5 // distance moved by movable mirror in meter\n",
"n = 100 // no. of fringes cross the field of view \n",
"// Sample Problem 51 on page no. 1.58\n",
"printf('\n # PROBLEM 51 # \n') \n",
"lambda = 2*x/n // calculation for wavelength of monochromatic light\n",
"printf('\n Standard formula used \n lambda = 2*x/n. \n')\n",
"printf('\n Wavelength of monochromatic light = %f A.',lambda * 1e10)"
   ]
   }
,
{
		   "cell_type": "markdown",
		   "metadata": {},
		   "source": [
			"## Example 1.52: Calculation_of_The_distance_through_which_the_movable_mirror_is_move.sce"
		   ]
		  },
  {
"cell_type": "code",
	   "execution_count": null,
	   "metadata": {
	    "collapsed": true
	   },
	   "outputs": [],
"source": [
"clc \n",
"// Given That\n",
"lambda1 = 5.896e-7 // max. wavelength of light in meter\n",
"lambda2 = 5.89e-7 // min. wavelength of light in meter\n",
"// Sample Problem 52 on page no. 1.58\n",
"printf('\n # PROBLEM 52 # \n') \n",
"x = lambda1 * lambda2 /(2*(lambda1 - lambda2)) // calculation for the path difference\n",
"printf('\n Standard formula used \n x = lambda1 * lambda2 /2*(lambda1 - lambda2).\n')\n",
"printf('\n The distance through which the movable mirror is move = %f mm.',x*10^3)"
   ]
   }
,
{
		   "cell_type": "markdown",
		   "metadata": {},
		   "source": [
			"## Example 1.53: Calculation_of_Difference_between_two_wavelengths.sce"
		   ]
		  },
  {
"cell_type": "code",
	   "execution_count": null,
	   "metadata": {
	    "collapsed": true
	   },
	   "outputs": [],
"source": [
"clc \n",
"// Given That\n",
"x = 2.945e-4 // distance moved by movable mirror in meter\n",
"lambda = 5.893e-7 // mean wavelength of light in meter\n",
"// Sample Problem 53 on page no. 1.58\n",
"printf('\n # PROBLEM 53 # \n') \n",
"delta_lambda = lambda^2 / (2*x) // calculation for difference between two wavelengths\n",
"printf('\n Standard formula used \n delta_lambda = lambda^2 / (2*x). \n')\n",
"printf('\n Difference between two wavelengths = %f A.',delta_lambda*1e10)"
   ]
   }
,
{
		   "cell_type": "markdown",
		   "metadata": {},
		   "source": [
			"## Example 1.54: Calculation_of_Refractive_index_of_gas.sce"
		   ]
		  },
  {
"cell_type": "code",
	   "execution_count": null,
	   "metadata": {
	    "collapsed": true
	   },
	   "outputs": [],
"source": [
"clc \n",
"// Given That\n",
"n = 140 // no. of shift in fringe\n",
"lambda = 5.46e-7 // wavelength of light in meter\n",
"t = 0.2 // length of tube in meter\n",
"// Sample Problem 54 on page no. 1.58\n",
"printf('\n # PROBLEM 54 # \n') \n",
"mu = (n*lambda)/(2*t) + 1 // calculation for refractive index of gas\n",
"printf('\n Standard formula used \n mu = (n*lambda)/(2*t) + 1. \n')\n",
"printf('\n  Refractive index of gas = %f.',mu)"
   ]
   }
,
{
		   "cell_type": "markdown",
		   "metadata": {},
		   "source": [
			"## Example 1.5: EX1_5.sce"
		   ]
		  },
  {
"cell_type": "code",
	   "execution_count": null,
	   "metadata": {
	    "collapsed": true
	   },
	   "outputs": [],
"source": [
"clc \n",
"// Given that\n",
"lambda1 = 5.461e-7 // wavelength of light emitted by mercury vapour lamp in meter\n",
"band_width1 = 6e8 // band width for mercury vapour lamp in Hz\n",
"lambda2 = 6.328e-7 // the operating wavelength of light for He Ne laser \n",
"band_width2 = 1e6 // band width for laser in Hz\n",
"// Sample Problem 5 on page no. 1.41\n",
"printf('\n # PROBLEM 5 # \n')\n",
"delta_lambda1 = (lambda1^2 * band_width1) / 3e8 // calculation for difference between two wavelength for mercury vapour\n",
"delta_L1 = lambda1^2 / delta_lambda1 // calculation for coherence length for mercury vapour lamp\n",
"delta_lambda2 = (lambda2^2 * band_width2) / 3e8 // calculation for difference between two wavelength for He Ne laser\n",
"delta_L2 = lambda2^2 / delta_lambda2 // calculation for coherence length for He Ne laser\n",
"R = delta_L1/delta_L2 // calculation for ratio of coherence length of mercury vapour lamp to the coherence length of He Ne laser\n",
"printf('\n Standard formula used \n delta_lambda = lambda^2*band_width / c, \n coherence length = lambda^2/delta_lambda.\n')\n",
"printf('\n The ratio of coherence length of mercury vapour lamp to the coherence length of He Ne laser = 1:%d. ',1/R)"
   ]
   }
,
{
		   "cell_type": "markdown",
		   "metadata": {},
		   "source": [
			"## Example 1.6: Calculation_of_Coherence_length_of_laser.sce"
		   ]
		  },
  {
"cell_type": "code",
	   "execution_count": null,
	   "metadata": {
	    "collapsed": true
	   },
	   "outputs": [],
"source": [
"clc \n",
"// Given that\n",
"band_width = 3000 // band width of laser in hertz\n",
" // Sample Problem 6 on page no. 1.42\n",
"printf('\n # PROBLEM 6 # \n')\n",
"printf('\n Standard formula used \n delta_L = c*delta_t. \n')\n",
"coherence_length = (3 * 10 ^ 8) / band_width//calculation for coherence length \n",
"printf('\n Coherence length of laser = %e meter.',coherence_length)"
   ]
   }
,
{
		   "cell_type": "markdown",
		   "metadata": {},
		   "source": [
			"## Example 1.7: EX1_7.sce"
		   ]
		  },
  {
"cell_type": "code",
	   "execution_count": null,
	   "metadata": {
	    "collapsed": true
	   },
	   "outputs": [],
"source": [
"clc \n",
"// Given that\n",
"lambda = 6.328e-7 // wavelength of monochromatic light in meter\n",
"t = 1e-10 // chopping time in sec\n",
"// Sample Problem 7 on page no. 1.42\n",
"printf('\n # PROBLEM 7 # \n')\n",
"coherence_length = (3 * 10 ^ 8) * t // calculation for coherence length of monochromatic light \n",
"band_width = 1 / t // calculation for band width \n",
"line_width = ((lambda ^ 2) * band_width) / (3 * 10 ^ 8) // calculation for line width \n",
"printf('\n Standard formula used \n coherence_length = (3 * 10 ^ 8) * t. \n line_width = ((lambda ^ 2) * band_width) / (3 * 10 ^ 8). \n')\n",
"printf('\n Coherence length of monochromatic light = %e meter. \n band width = %e Hz. \n line width = %f A.',coherence_length, band_width, line_width*1e10)"
   ]
   }
,
{
		   "cell_type": "markdown",
		   "metadata": {},
		   "source": [
			"## Example 1.8: Calculation_of_Coherence_time_of_red_cadmium_line_and_Spectral_line_width.sce"
		   ]
		  },
  {
"cell_type": "code",
	   "execution_count": null,
	   "metadata": {
	    "collapsed": true
	   },
	   "outputs": [],
"source": [
"clc \n",
"// Given that\n",
"lambda = 6.438e-7 // wavelength of red cadmium line in meter\n",
"L = 3.8e-1 // coherence length in meter\n",
"// Sample Problem 8 on page no. 1.42\n",
"printf('\n # PROBLEM 8 # \n')\n",
"printf('\n Standard formula used \n delta_L = c*delta_t. \n')\n",
"coherence_time = L / (3 * 10 ^ 8)// calculation for coherence time\n",
"spectral_line_width = (lambda ^ 2) / L // calculation for spectral line width\n",
"printf('\n Coherence time of red cadmium line = %e sec. \n Spectral line width = %e meter.',coherence_time,spectral_line_width)"
   ]
   }
,
{
		   "cell_type": "markdown",
		   "metadata": {},
		   "source": [
			"## Example 1.9: Calculation_of_Ratio_of_maximum_intensity_with_minimum_intensity.sce"
		   ]
		  },
  {
"cell_type": "code",
	   "execution_count": null,
	   "metadata": {
	    "collapsed": true
	   },
	   "outputs": [],
"source": [
"clc \n",
"// Given that\n",
"ratio = 16 // ratio of intensities of two waves\n",
"// Sample Problem 9 on page no. 1.43\n",
"printf('\n # PROBLEM 9 # \n')\n",
"printf('\n Standard formula used \n I = k*a^2. \n')\n",
"a1 = sqrt(ratio) // by the formula amplitude = sqrt(intensity)\n",
"a2 = 1\n",
"R = ((a1 + a2) ^ 2) / ((a1 - a2) ^ 2)// calculation for ratio of maximum intensity with minimum intensity\n",
"printf('\n Ratio of maximum intensity with minimum intensity = %f',R)"
   ]
   }
],
"metadata": {
		  "kernelspec": {
		   "display_name": "Scilab",
		   "language": "scilab",
		   "name": "scilab"
		  },
		  "language_info": {
		   "file_extension": ".sce",
		   "help_links": [
			{
			 "text": "MetaKernel Magics",
			 "url": "https://github.com/calysto/metakernel/blob/master/metakernel/magics/README.md"
			}
		   ],
		   "mimetype": "text/x-octave",
		   "name": "scilab",
		   "version": "0.7.1"
		  }
		 },
		 "nbformat": 4,
		 "nbformat_minor": 0
}
