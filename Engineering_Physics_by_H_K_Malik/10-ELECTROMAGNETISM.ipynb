{
"cells": [
 {
		   "cell_type": "markdown",
	   "metadata": {},
	   "source": [
       "# Chapter 10: ELECTROMAGNETISM"
	   ]
	},
{
		   "cell_type": "markdown",
		   "metadata": {},
		   "source": [
			"## Example 10.15: Calculation_of_The_total_charge_within_volume.sce"
		   ]
		  },
  {
"cell_type": "code",
	   "execution_count": null,
	   "metadata": {
	    "collapsed": true
	   },
	   "outputs": [],
"source": [
"clc \n",
"// Given that\n",
"n = 2000 // flux lines enter in given volume  in Vm\n",
"n_ = 4000 // flux lines diverge from given volume in Vm\n",
"e0 = 8.85e-12 // permittivity of space\n",
"// Sample Problem 15 on page no. 10.42\n",
"printf('\n # PROBLEM 15 # \n')\n",
"fi = n_ - n\n",
"q = e0 * fi\n",
"printf('Standard formula used \n fi = q/e_')\n",
"disp(q,' The total charge within volume(in C) = ')"
   ]
   }
,
{
		   "cell_type": "markdown",
		   "metadata": {},
		   "source": [
			"## Example 10.16: Calculation_of_The_total_charge_enclosed_by_closed_surface.sce"
		   ]
		  },
  {
"cell_type": "code",
	   "execution_count": null,
	   "metadata": {
	    "collapsed": true
	   },
	   "outputs": [],
"source": [
"clc \n",
"// Given that\n",
"n = 20000 // flux lines entering in given volume in Vm\n",
"n_ = 45000 // flux lines entering out from given volume in Vm\n",
"e0 = 8.85e-12 // permittivity of space\n",
"// Sample Problem 16 on page no. 10.42\n",
"printf('\n # PROBLEM 16 # \n')\n",
"fi = n_ - n\n",
"q = e0 * fi\n",
"printf('Standard formula used \n fi= q/e_. \n')\n",
"printf('The total charge enclosed by closed surface is %e C.',q)"
   ]
   }
,
{
		   "cell_type": "markdown",
		   "metadata": {},
		   "source": [
			"## Example 10.17: Calculation_of_Electric_flux.sce"
		   ]
		  },
  {
"cell_type": "code",
	   "execution_count": null,
	   "metadata": {
	    "collapsed": true
	   },
	   "outputs": [],
"source": [
"clc \n",
"// Given that\n",
"q = 13.5e-6 // charge enclosed at the centre of cube in C\n",
"l = 6 // length of the side of cube in cm\n",
"e0 = 8.85e-12 // permittivity of space\n",
"// Sample Problem 17 on page no. 10.43\n",
"printf('\n # PROBLEM 17 # \n')\n",
"fi = q / e0\n",
"fi_ = fi / 6\n",
"q = e0 * fi\n",
"printf('Standard formula used \n fi=q/e_.\n')\n",
"printf('Electric flux through the whole volume of the cube is %e Nm^2/C.\n Electric flux through one face of the cube is %e Nm^2/C.',fi,fi_)"
   ]
   }
,
{
		   "cell_type": "markdown",
		   "metadata": {},
		   "source": [
			"## Example 10.18: Calculation_of_Electric_flux_through_each_surface_of_the_cube.sce"
		   ]
		  },
  {
"cell_type": "code",
	   "execution_count": null,
	   "metadata": {
	    "collapsed": true
	   },
	   "outputs": [],
"source": [
"clc \n",
"// Given that\n",
"q = 11 // charge enclosed at the centre of cube in C\n",
"l = 5 // length of the side of cube in cm\n",
"e0 = 8.85e-12 // permittivity of space\n",
"// Sample Problem 18 on page no. 10.43\n",
"printf('\n # PROBLEM 18 # \n')\n",
"fi_ = (q / e0) / 6\n",
"printf('\nStandard formula used \n fi=q/e_\n')\n",
"printf(' Electric flux through each surface of the cube = %e Nm^2/C.',fi_)"
   ]
   }
,
{
		   "cell_type": "markdown",
		   "metadata": {},
		   "source": [
			"## Example 10.19: Calculation_of_Electric_field_intensity.sce"
		   ]
		  },
  {
"cell_type": "code",
	   "execution_count": null,
	   "metadata": {
	    "collapsed": true
	   },
	   "outputs": [],
"source": [
"clc \n",
"// Given that\n",
"q = 1e-8 // charge uniformly spread over metallic sphere in C\n",
"r = .1 //radius of sphere in m\n",
"d = 7 // distance of a point from centre of the sphere in cm\n",
"d_ = .5 // distance of another point from centre of the sphere in m\n",
"e0 = 8.85e-12 // permittivity of space\n",
"// Sample Problem 19 on page no. 10.43\n",
"printf('\n # PROBLEM 19 # \n')\n",
"E1 = (1 / (4 * %pi * e0) * (q / r^2))\n",
"E2 = 0 //because sphere is metallic\n",
"E3 = (1 / (4 * %pi * e0) * (q / d_^2))\n",
"printf('Standard formula used \n E = (1 / (4 * pi * e0) * (q / r^2)). \n')\n",
"printf(' Electric field intensity-\n (1) On the surface of the sphere = %e N/C,\n (2) At first point = %d N/C,\n (3) At second point = %e N/C',E1,E2,E3)"
   ]
   }
,
{
		   "cell_type": "markdown",
		   "metadata": {},
		   "source": [
			"## Example 10.20: Calculation_of_Electric_field.sce"
		   ]
		  },
  {
"cell_type": "code",
	   "execution_count": null,
	   "metadata": {
	    "collapsed": true
	   },
	   "outputs": [],
"source": [
"clc \n",
"// Given that\n",
"q = 1.6e-19 // charge on a proton in C\n",
"d = 1e-10 // distance of a point from proton in m\n",
"e0 = 8.85e-12 // permittivity of space\n",
"// Sample Problem 20 on page no. 10.44\n",
"printf('\n # PROBLEM 20 # \n')\n",
"E = (1 / (4 * %pi * e0)) * (q / d^2)\n",
"printf('Standard formula used \n E = (1 / (4 * pi * e0)) * (q / d^2).\n')\n",
"printf(' Electric field = %e V/m.',E)"
   ]
   }
,
{
		   "cell_type": "markdown",
		   "metadata": {},
		   "source": [
			"## Example 10.21: Calculation_of_Energy_gained_by_alpha_particle.sce"
		   ]
		  },
  {
"cell_type": "code",
	   "execution_count": null,
	   "metadata": {
	    "collapsed": true
	   },
	   "outputs": [],
"source": [
"clc \n",
"// Given that\n",
"v = 1000 // potential through which alpha particle accelerated in V\n",
"q = 3.2e-19 // charge on an alpha particle in C\n",
"e0 = 8.85e-12 // electric permittivity of space\n",
"// Sample Problem 21 on page no. 10.44\n",
"printf('\n # PROBLEM 21 # \n')\n",
"E = q * v\n",
"printf('Standard formula used \n E = q * v.\n')\n",
"printf(' Energy gained by alpha particle = %e J.',E)"
   ]
   }
,
{
		   "cell_type": "markdown",
		   "metadata": {},
		   "source": [
			"## Example 10.22: Calculation_of_Potential_and_Potential_energy_and_Potential_difference.sce"
		   ]
		  },
  {
"cell_type": "code",
	   "execution_count": null,
	   "metadata": {
	    "collapsed": true
	   },
	   "outputs": [],
"source": [
"clc \n",
"// Given that\n",
"q = 1.6e-19 // charge on a proton in C\n",
"d = 1e-10 // distance of a point from proton in m\n",
"d_ = 2e-11 // distance of another point from proton in m\n",
"e0 = 8.85e-12 // permittivity of space\n",
"// Sample Problem 22 on page no. 10.44\n",
"printf('\n # PROBLEM 22 # \n')\n",
"v = (1 / (4 * %pi * e0)) * (q / d)//calculation for potential at first point\n",
"E = -q * v//calculation for energy at first point in J\n",
"delta_v = (1 / (4 * %pi * e0)) * q * ((1 / d_) - (1 / d))//calculation for potential difference between points\n",
"printf('Standard formula used \n V=(1/(4*pi*e_))*q/r,\n E=-(1/(4*pi*e_))*q^2/r.\n')\n",
"printf(' Potential energy at first point = %f eV.\n Potential difference between points = %f V.',E/q,delta_v)"
   ]
   }
,
{
		   "cell_type": "markdown",
		   "metadata": {},
		   "source": [
			"## Example 10.23: Calculation_of_Radius_of_equipotential_surface.sce"
		   ]
		  },
  {
"cell_type": "code",
	   "execution_count": null,
	   "metadata": {
	    "collapsed": true
	   },
	   "outputs": [],
"source": [
"clc \n",
"// Given that\n",
"q = 1.5e-6 // charge in C\n",
"v = 30 // potential of a surface in V\n",
"e0 = 8.85e-12 // permittivity of space\n",
"// Sample Problem 23 on page no. 10.45\n",
"printf('\n # PROBLEM 23 # \n')\n",
"r = (1 / (4 * %pi * e0)) * (q / v)\n",
"printf('Standard formula used \n v = (1/(4*pi*e_)*(q/r)).\n')\n",
"printf(' Radius of equipotential surface = %d m.',ceil(r))"
   ]
   }
,
{
		   "cell_type": "markdown",
		   "metadata": {},
		   "source": [
			"## Example 10.24: Calculation_of_The_value_of_poynting_vector_at_the_surface_of_the_sun.sce"
		   ]
		  },
  {
"cell_type": "code",
	   "execution_count": null,
	   "metadata": {
	    "collapsed": true
	   },
	   "outputs": [],
"source": [
"clc \n",
"// Given that\n",
"p = 3.8e26 // power radiated by sun in W\n",
"r = 7e8 // radius of sun in m\n",
"e0 = 8.85e-12 // permittivity of space\n",
"// Sample Problem 24 on page no. 10.45\n",
"printf('\n # PROBLEM 24 # \n')\n",
"s = p / (4 * %pi * r^2)\n",
"printf('Standard formula used \n s = p / (4 * pi * r^2).\n')\n",
"printf(' The value of poynting vector at the surface of the sun = %e W/m^2.',s)"
   ]
   }
,
{
		   "cell_type": "markdown",
		   "metadata": {},
		   "source": [
			"## Example 10.28: EX10_28.sce"
		   ]
		  },
  {
"cell_type": "code",
	   "execution_count": null,
	   "metadata": {
	    "collapsed": true
	   },
	   "outputs": [],
"source": [
"clc \n",
"// Given that\n",
"s = 2 // energy received by the earth in cal/cm^2.min\n",
"e0 = 8.85e-12 // electric permittivity of space\n",
"mu0 = 1.2567e-6 // magnetic permittivity of space\n",
"c = 3e8 // speed of light in meter/sec\n",
"// Sample Problem 28 on page no. 10.47\n",
"printf('\n # PROBLEM 28 # \n')\n",
"r = sqrt(mu0 / e0)\n",
"P = s*4.2/(60*1e-4)\n",
"E = sqrt(P*r)\n",
"H = E/r\n",
"printf('Standard formula used \n P = E*H.\n')\n",
"printf(' Magnitude of electric field vector = %f v/m.\n Magnitude of magnetic field vector = %f A/m.',E * sqrt(2),H*sqrt(2))"
   ]
   }
,
{
		   "cell_type": "markdown",
		   "metadata": {},
		   "source": [
			"## Example 10.29: Calculation_of_Magnitude_of_electric_field_vector.sce"
		   ]
		  },
  {
"cell_type": "code",
	   "execution_count": null,
	   "metadata": {
	    "collapsed": true
	   },
	   "outputs": [],
"source": [
"clc \n",
"// Given that\n",
"H = 1 // magnitude of magnetic field vector A/m\n",
"e0 = 8.85e-12 // electric permittivity of space\n",
"mu0 = 1.2567e-6 // magnetic permittivity of space\n",
"c = 3e8 // speed of light in meter/sec\n",
"// Sample Problem 29 on page no. 10.48\n",
"printf('\n # PROBLEM 29 # \n')\n",
"r = sqrt(mu0 / e0) // ratio of E,H\n",
"E = H * r\n",
"printf('Standard formula used \n H_/E_=sqrt(e_/mu_).\n')\n",
"printf(' Magnitude of electric field vector = %f v/m.',E)"
   ]
   }
,
{
		   "cell_type": "markdown",
		   "metadata": {},
		   "source": [
			"## Example 10.31: Calculation_of_Average_value_of_the_intensity_of_electric_field_of_radiation.sce"
		   ]
		  },
  {
"cell_type": "code",
	   "execution_count": null,
	   "metadata": {
	    "collapsed": true
	   },
	   "outputs": [],
"source": [
"clc \n",
"// Given that\n",
"p = 1000 // power of lamp in W\n",
"d = 2 // distance of a point from lamp in meter\n",
"e0 = 8.85e-12 // electric permittivity of space\n",
"mu0 = 1.2567e-6 // magnetic permittivity of space\n",
"c = 3e8 // speed of light in meter/sec\n",
"// Sample Problem 31 on page no. 10.48\n",
"printf('\n # PROBLEM 31 # \n')\n",
"s = p / (4 * %pi * d^2) //calculation for \n",
"r = sqrt(mu0 / e0) // ratio of E,H\n",
"E = sqrt(s * r)//calculation for average value of intensity of electric field of radiation\n",
"printf('Standard formula used \n E_/H_=sqrt(mu_/e_),\nP=E*H.\n')\n",
"printf(' Average value of the intensity of electric field of radiation = %f v/m.',E)"
   ]
   }
,
{
		   "cell_type": "markdown",
		   "metadata": {},
		   "source": [
			"## Example 10.32: Calculation_of_Refractive_index_of_distilled_water_and_Speed_of_light_in_water.sce"
		   ]
		  },
  {
"cell_type": "code",
	   "execution_count": null,
	   "metadata": {
	    "collapsed": true
	   },
	   "outputs": [],
"source": [
"clc \n",
"// Given that\n",
"k = 81 // relative permittivity of water \n",
"c = 3e8 // speed of light in meter/sec\n",
"// Sample Problem 32 on page no. 10.49\n",
"printf('\n # PROBLEM 32 # \n')\n",
"printf(' Standard formula used \n')\n",
"printf(' mu_ = ( mu*epsilon /(mu_0/*psilon_0))^1/2  \n \n' )\n",
"mu = sqrt(k)\n",
"v = c / mu\n",
"printf(' Refractive index of distilled water is %d .\n Speed of light in water is %e m/sec.',mu,v)"
   ]
   }
],
"metadata": {
		  "kernelspec": {
		   "display_name": "Scilab",
		   "language": "scilab",
		   "name": "scilab"
		  },
		  "language_info": {
		   "file_extension": ".sce",
		   "help_links": [
			{
			 "text": "MetaKernel Magics",
			 "url": "https://github.com/calysto/metakernel/blob/master/metakernel/magics/README.md"
			}
		   ],
		   "mimetype": "text/x-octave",
		   "name": "scilab",
		   "version": "0.7.1"
		  }
		 },
		 "nbformat": 4,
		 "nbformat_minor": 0
}
