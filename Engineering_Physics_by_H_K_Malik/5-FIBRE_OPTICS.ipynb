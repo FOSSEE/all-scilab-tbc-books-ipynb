{
"cells": [
 {
		   "cell_type": "markdown",
	   "metadata": {},
	   "source": [
       "# Chapter 5: FIBRE OPTICS"
	   ]
	},
{
		   "cell_type": "markdown",
		   "metadata": {},
		   "source": [
			"## Example 5.10: Calculation_of_Number_of_modes.sce"
		   ]
		  },
  {
"cell_type": "code",
	   "execution_count": null,
	   "metadata": {
	    "collapsed": true
	   },
	   "outputs": [],
"source": [
"clc \n",
"// Given that\n",
"mu1 = 3.6 // refractive index for core\n",
"mu2 = 3.55 // refractive index for cladding\n",
"// Sample Problem 10 on page no. 5.19\n",
"printf('\n # PROBLEM 10 # \n')\n",
"NA = sqrt(mu1^2 - mu2^2)//calculation for numerical aperture\n",
"Mm1 = 0.5 * (%pi * 5 * NA)^2//calculation for no. of modes in first case\n",
"Mm2 = 0.5 * (%pi * 50 * NA)^2//calculation for no. of modes in second case\n",
"printf('\n Standard formula used \n Mm=1/2(pi*d*NA/lambda)^2. NA=sqrt(mu1^2-mu2^2). \n')\n",
"printf('\n Number of modes in first case = %d. \n Number of modes in second case = %d.',Mm1,Mm2)"
   ]
   }
,
{
		   "cell_type": "markdown",
		   "metadata": {},
		   "source": [
			"## Example 5.11: Calculation_of_Maximum_diameter_of_core.sce"
		   ]
		  },
  {
"cell_type": "code",
	   "execution_count": null,
	   "metadata": {
	    "collapsed": true
	   },
	   "outputs": [],
"source": [
"clc \n",
"// Given that\n",
"lambda = 1.25e-6 //wavelength of light in meter\n",
"mu1 = 1.46 // refractive index for core\n",
"mu2 = 1.457 // refractive index for cladding\n",
"// Sample Problem 11 on page no. 5.20\n",
"printf('\n # PROBLEM 11 # \n')\n",
"NA = sqrt(mu1^2 - mu2^2)//calculation for numerical aperture\n",
"k = (2.4 * lambda) / ( %pi * NA)\n",
"printf('\n Standard formula used \n d<8*lambda/(pi*NA)\n')\n",
"printf('\n Maximum diameter of core = %f micro meter',k*1e6)"
   ]
   }
,
{
		   "cell_type": "markdown",
		   "metadata": {},
		   "source": [
			"## Example 5.12: Calculation_of_Absorption_coefficient.sce"
		   ]
		  },
  {
"cell_type": "code",
	   "execution_count": null,
	   "metadata": {
	    "collapsed": true
	   },
	   "outputs": [],
"source": [
"clc \n",
"// Given that\n",
"L = 0.1 // length of fiber in km\n",
"p = 5e-6 // power of signal in watt\n",
"p_ = 1e-6 // power of signal inside the fiber in watt\n",
"// Sample Problem 12 on page no. 5.20\n",
"printf('\n # PROBLEM 12 # \n')\n",
"alpha = (10 * log10(p / p_)) / L//calculation for absorption coefficient\n",
"printf('\n Standard formula used \n alpha=10/L*log(Pi/Po).\n')\n",
"printf('\n Absorption coefficient = %f dB/km. ',alpha)"
   ]
   }
,
{
		   "cell_type": "markdown",
		   "metadata": {},
		   "source": [
			"## Example 5.13: Calculation_of_Output_power.sce"
		   ]
		  },
  {
"cell_type": "code",
	   "execution_count": null,
	   "metadata": {
	    "collapsed": true
	   },
	   "outputs": [],
"source": [
"clc \n",
"// Given that\n",
"L = 3 // length of optical fiber in km\n",
"l = 6 // losses in dB\n",
"p = 5e-3 // input power in watt \n",
"// Sample Problem 13 on page no. 5.20\n",
"printf('\n # PROBLEM 13 # \n')\n",
"alpha = (l * 3) / L\n",
"p_ = p / (exp((2.303 * alpha * L) / 10))\n",
"printf('\n Standard formula used \n alpha = (l * 3) / L. \n p_ = p / (exp((2.303 * alpha * L) / 10)). \n')\n",
"printf('\n Output power = %f mW. ',p_*1e3)"
   ]
   }
,
{
		   "cell_type": "markdown",
		   "metadata": {},
		   "source": [
			"## Example 5.1: Calculation_of_Critical_angle_and_Numerical_aperture_and_Maximum_incidence_angle.sce"
		   ]
		  },
  {
"cell_type": "code",
	   "execution_count": null,
	   "metadata": {
	    "collapsed": true
	   },
	   "outputs": [],
"source": [
"clc \n",
"// Given that\n",
"mu1 = 1.52 // refractive index for core\n",
"mu2 = 1.41 // refractive index for cladding\n",
"// Sample Problem 1 on page no. 5.15\n",
"printf('\n # PROBLEM 1 # \n')\n",
"theta_c = asin(mu2 / mu1) * (180 / %pi)\n",
"NA = sqrt(mu1^2 - mu2^2)\n",
"theta_0 = asin(NA) * (180 / %pi)\n",
"printf('\n Standard formula used \n theta_c = asin(mu2 / mu1) * (180 / pi). \n NA = sqrt(mu1^2 - mu2^2). \n theta_0 = asin(NA) * (180 / pi). \n')\n",
"printf('\n Critical angle = %f degree. \n Numerical aperture = %f,\n Maximum incidence angle = %f degree.',theta_c,NA,theta_0)"
   ]
   }
,
{
		   "cell_type": "markdown",
		   "metadata": {},
		   "source": [
			"## Example 5.2: Calculation_of_Numerical_aperture_and_Maximum_incidence_angle.sce"
		   ]
		  },
  {
"cell_type": "code",
	   "execution_count": null,
	   "metadata": {
	    "collapsed": true
	   },
	   "outputs": [],
"source": [
"clc \n",
"// Given that\n",
"mu1 = 1.6 // refractive index for core\n",
"mu2 = 1.5 // refractive index for cladding\n",
"// Sample Problem 2 on page no. 5.16\n",
"printf('\n # PROBLEM 2 # \n')\n",
"NA = sqrt(mu1^2 - mu2^2)//calculation for numerical aperture\n",
"theta_0 = asin(NA) * (180 / %pi)//calculation for maximum incidence angle\n",
"printf('Standard formula used \n NA=aqrt(mu1^2-mu2^2),\n sin(theta_)=NA. \n')\n",
"printf('\n Numerical aperture = %f.\n Maximum incidence angle = %f degree.',NA,theta_0)"
   ]
   }
,
{
		   "cell_type": "markdown",
		   "metadata": {},
		   "source": [
			"## Example 5.3: EX5_3.sce"
		   ]
		  },
  {
"cell_type": "code",
	   "execution_count": null,
	   "metadata": {
	    "collapsed": true
	   },
	   "outputs": [],
"source": [
"clc \n",
"// Given that\n",
"mu_0 = 1 // refractive index of air\n",
"mu1 = 1.5 // refractive index for core\n",
"mu2 = 1.48 // refractive index for cladding\n",
"// Sample Problem 3 on page no. 5.16\n",
"printf('\n # PROBLEM 3 # \n')\n",
"theta_c = asin(mu2 / mu1) * (180 / %pi)\n",
"delta_mu = (mu1 - mu2) / mu1\n",
"NA = sqrt(mu1^2 - mu2^2)\n",
"theta_0 = asin(NA) * (180 / %pi)\n",
"printf('\n Standard formula used \n theta_c = asin(mu2 / mu1) * (180 / pi). \n delta_mu = (mu1 - mu2) / mu1. \n NA = sqrt(mu1^2 - mu2^2). \n theta_0 = asin(NA) * (180 / pi). \n ')\n",
"printf('\n Critical angle = %f degree. \n Numerical aperture = %f. \n Acceptance angle = %f degree.\n Fractional refractive index = %f.',theta_c,NA,theta_0,delta_mu)"
   ]
   }
,
{
		   "cell_type": "markdown",
		   "metadata": {},
		   "source": [
			"## Example 5.4: Calculation_of_Numerical_aperture_and_Maximum_incidence_angle.sce"
		   ]
		  },
  {
"cell_type": "code",
	   "execution_count": null,
	   "metadata": {
	    "collapsed": true
	   },
	   "outputs": [],
"source": [
"clc \n",
"// Given that\n",
"mu1 = 1.62 // refractive index for core\n",
"mu2 = 1.52 // refractive index for cladding\n",
"// Sample Problem 4 on page no. 5.17\n",
"printf('\n # PROBLEM 4 # \n')\n",
"NA = sqrt(mu1^2 - mu2^2)\n",
"theta_0 = asin(NA) * (180 / %pi)\n",
"printf('\n Standard formula used \n NA = sqrt(mu1^2 - mu2^2). \n theta_0 = asin(NA) * (180 / pi). \n')\n",
"printf('\n Numerical aperture = %f. \n Maximum incidence angle = %f degree.',NA,theta_0)"
   ]
   }
,
{
		   "cell_type": "markdown",
		   "metadata": {},
		   "source": [
			"## Example 5.5: Calculation_of_Refractive_index_for_core_Refractive_index_for_cladding.sce"
		   ]
		  },
  {
"cell_type": "code",
	   "execution_count": null,
	   "metadata": {
	    "collapsed": true
	   },
	   "outputs": [],
"source": [
"clc \n",
"// Given that\n",
"NA = 0.22 // numerical aperture\n",
"delta_mu = 0.012 // fractional refractive index\n",
"// Sample Problem 5 on page no. 5.17\n",
"printf('\n # PROBLEM 5 # \n')\n",
"mu1 = sqrt(NA^2 / (1 - (1 - delta_mu)^2))\n",
"mu2 = (1 - delta_mu) * mu1\n",
"printf('\n Standard formula used \n mu1 = sqrt(NA^2 / (1 - (1 - delta_mu)^2)). \n mu2 = (1 - delta_mu) * mu1. \n')\n",
"printf('\n Refractive index for core = %f.\n Refractive index for cladding = %f.',mu1,mu2)"
   ]
   }
,
{
		   "cell_type": "markdown",
		   "metadata": {},
		   "source": [
			"## Example 5.6: EX5_6.sce"
		   ]
		  },
  {
"cell_type": "code",
	   "execution_count": null,
	   "metadata": {
	    "collapsed": true
	   },
	   "outputs": [],
"source": [
"clc \n",
"// Given that\n",
"d = 0.0064 // diameter of fiber in cm\n",
"mu1 = 1.53 // refractive index for core\n",
"mu2 = 1.39 // refractive index for clad\n",
"L = 90 // length of fiber in cm\n",
"mu_0 = 1 // refractive index of air\n",
"// Sample Problem 6 on page no. 5.17\n",
"printf('\n # PROBLEM 6 # \n')\n",
"NA = sqrt(mu1^2 - mu2^2)\n",
"theta_0 = asin(NA) * (180 / %pi)\n",
"N1 = L / (d * sqrt((mu1 / (mu_0 * sin(theta_0 * (%pi / 180))))^2 - 1))\n",
"N2 = L / (d * sqrt((mu1 / (mu_0 * sin(theta_0 * (%pi / 360))))^2 - 1))\n",
"printf('\n Standard formula used \n NA = sqrt(mu1^2 - mu2^2). \n theta_0 = asin(NA) * (180 / pi). \n N = L / (d * sqrt((mu / (mu_0 * sin(theta_0 * (pi / 180))))^2 - 1)). \n ')\n",
"printf('\n Numerical aperture = %f.\n Acceptance angle = %f degree. \n Number of reflections at maximum incidence = %f. \n Number of reflections in second case = %f. ',NA,theta_0,N1,N2)"
   ]
   }
,
{
		   "cell_type": "markdown",
		   "metadata": {},
		   "source": [
			"## Example 5.7: Calculation_of_The_normalized_frequency_and_number_of_guided_in_the_core.sce"
		   ]
		  },
  {
"cell_type": "code",
	   "execution_count": null,
	   "metadata": {
	    "collapsed": true
	   },
	   "outputs": [],
"source": [
"clc \n",
"// Given that\n",
"d = 0.05 // diameter of fiber in mm\n",
"NA = 0.22 // numerical aperture\n",
"lambda = 8.5e-4 // wavelength of light in mm\n",
"// Sample Problem 7 on page no. 5.18\n",
"printf('\n # PROBLEM 7 # \n')\n",
"Vn = (%pi * d * NA) / lambda\n",
"Mm = 0.5 * (Vn)^2\n",
"printf('\n Standard formula used \n Vn = (pi * d * NA) / lambda. \n Mm = 0.5 * (Vn)^2. \n')\n",
"printf('\n The normalized frequency = %f,\n number of guided in the core = %f',Vn,Mm)"
   ]
   }
,
{
		   "cell_type": "markdown",
		   "metadata": {},
		   "source": [
			"## Example 5.8: Calculation_of_Diameter_of_core_and_number_of_modes.sce"
		   ]
		  },
  {
"cell_type": "code",
	   "execution_count": null,
	   "metadata": {
	    "collapsed": true
	   },
	   "outputs": [],
"source": [
"clc \n",
"// Given that\n",
"lambda = 1.25e-6 //wavelength of light in meter\n",
"mu1 = 1.465 // refractive index for core\n",
"mu2 = 1.460 // refractive index for cladding\n",
"// Sample Problem 8 on page no. 5.18\n",
"printf('\n # PROBLEM 8 # \n')\n",
"NA = sqrt(mu1^2 - mu2^2)\n",
"k = (2.4 * lambda) / ( %pi * NA)\n",
"Mm = 0.5 * ((%pi * 50e-6 * NA) / lambda)^2\n",
"printf('\n Standard formula used \n NA = sqrt(mu1^2 - mu2^2). \n k = (2.4 * lambda) / ( pi * NA). \n Mm = 0.5 * ((pi * 50e-6 * NA) / lambda)^2. \n ')\n",
"printf('\n Diameter of core < %e meter,\n number of modes = %d',k,Mm)"
   ]
   }
,
{
		   "cell_type": "markdown",
		   "metadata": {},
		   "source": [
			"## Example 5.9: Calculation_of_Numerical_aperture_and_Number_of_modes.sce"
		   ]
		  },
  {
"cell_type": "code",
	   "execution_count": null,
	   "metadata": {
	    "collapsed": true
	   },
	   "outputs": [],
"source": [
"clc \n",
"// Given that\n",
"lambda = 0.85e-6 //wavelength of light in meter\n",
"mu1 = 1.461 // refractive index for core\n",
"mu2 = 1.456 // refractive index for clad\n",
"d = 4e-5 // diameter of core in meter\n",
"// Sample Problem 9 on page no. 5.19\n",
"printf('\n # PROBLEM 9 # \n')\n",
"NA = sqrt(mu1^2 - mu2^2)\n",
"Mm = 0.5 * ((%pi * d * NA) / lambda)^2\n",
"printf('\n Standard formula used \n NA = sqrt(mu1^2 - mu2^2). \n Mm = 0.5 * ((pi * d * NA) / lambda)^2. \n ')\n",
"printf('\n Numerical aperture = %f.\n Number of modes = %d. ',NA,Mm)"
   ]
   }
],
"metadata": {
		  "kernelspec": {
		   "display_name": "Scilab",
		   "language": "scilab",
		   "name": "scilab"
		  },
		  "language_info": {
		   "file_extension": ".sce",
		   "help_links": [
			{
			 "text": "MetaKernel Magics",
			 "url": "https://github.com/calysto/metakernel/blob/master/metakernel/magics/README.md"
			}
		   ],
		   "mimetype": "text/x-octave",
		   "name": "scilab",
		   "version": "0.7.1"
		  }
		 },
		 "nbformat": 4,
		 "nbformat_minor": 0
}
