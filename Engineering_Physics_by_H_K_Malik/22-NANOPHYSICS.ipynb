{
"cells": [
 {
		   "cell_type": "markdown",
	   "metadata": {},
	   "source": [
       "# Chapter 22: NANOPHYSICS"
	   ]
	},
{
		   "cell_type": "markdown",
		   "metadata": {},
		   "source": [
			"## Example 22.1: EX22_1.sce"
		   ]
		  },
  {
"cell_type": "code",
	   "execution_count": null,
	   "metadata": {
	    "collapsed": true
	   },
	   "outputs": [],
"source": [
"clc \n",
"// Given that\n",
"d = 12e-6 // diameter in m\n",
"d_ = 90e-9 // diameter of nanoparticle in m\n",
"// Sample Problem 1 on page no. 22.13\n",
"printf('\n # PROBLEM 1 # \n')\n",
"r = d / 2\n",
"r_ = d_ / 2\n",
"k = r / 3\n",
"k_ = r_ / 3\n",
"R = k_ / k\n",
"printf('\n The ratio of the value of Nb/Ns of spherical particle and nanoparticle = %e .',R)"
   ]
   }
],
"metadata": {
		  "kernelspec": {
		   "display_name": "Scilab",
		   "language": "scilab",
		   "name": "scilab"
		  },
		  "language_info": {
		   "file_extension": ".sce",
		   "help_links": [
			{
			 "text": "MetaKernel Magics",
			 "url": "https://github.com/calysto/metakernel/blob/master/metakernel/magics/README.md"
			}
		   ],
		   "mimetype": "text/x-octave",
		   "name": "scilab",
		   "version": "0.7.1"
		  }
		 },
		 "nbformat": 4,
		 "nbformat_minor": 0
}
