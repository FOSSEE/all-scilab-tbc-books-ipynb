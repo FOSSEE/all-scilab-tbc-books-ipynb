{
"cells": [
 {
		   "cell_type": "markdown",
	   "metadata": {},
	   "source": [
       "# Chapter 20: X RAY"
	   ]
	},
{
		   "cell_type": "markdown",
		   "metadata": {},
		   "source": [
			"## Example 20.10: Calculation_of_Applied_voltage.sce"
		   ]
		  },
  {
"cell_type": "code",
	   "execution_count": null,
	   "metadata": {
	    "collapsed": true
	   },
	   "outputs": [],
"source": [
"clc \n",
"// Given that\n",
"lambda1 = 40e-12 // minimum wavelength in first case in m\n",
"lambda2 = 1e-10 // minimum wavelength in second case in m\n",
"// Sample Problem 10 on page no. 20.10\n",
"printf('\n # PROBLEM 10 # \n')\n",
"printf('Standard formula used \n ')\n",
"printf('lambda_min = 12400/V \n')\n",
"V1 = 12400e-10 / lambda1\n",
"V2 = 12400e-10 / lambda2\n",
"printf('\n Applied voltage to get wavelength of %e meter is %f KV. \n Applied voltage to get wavelength of %e meter is %f KV.',lambda1,V1/10^3,lambda2,V2/10^3)"
   ]
   }
,
{
		   "cell_type": "markdown",
		   "metadata": {},
		   "source": [
			"## Example 20.11: Calculation_of_Planck_constant.sce"
		   ]
		  },
  {
"cell_type": "code",
	   "execution_count": null,
	   "metadata": {
	    "collapsed": true
	   },
	   "outputs": [],
"source": [
"clc \n",
"// Given that\n",
"V1 = 44e3 // voltage in first case in V\n",
"V2 = 50e3 // voltage in second case in V\n",
"lambda1 = 0.284e-10 // shortest wavelength in first case in m\n",
"lambda2 = 0.248e-10 // shortest wavelength in second case in m\n",
"e = 1.6e-19 // charge on an electron in C\n",
"c = 3e8 // speed of light in m/sec\n",
"// Sample Problem 11 on page no. 20.10\n",
"printf('\n # PROBLEM 11 # \n')\n",
"printf('Standard formula used \n ')\n",
"printf(' h*c/Lambda = eV \n')\n",
"h1 = e * V1 * lambda1 / c\n",
"h2 = e * V2 * lambda2 / c\n",
"printf('\n Planck constant is %e J sec if shortest wavelength is %e m .\n Planck constant is %e Jsec if shortest wavelength is %e m. ',h1,lambda1,h2,lambda2)"
   ]
   }
,
{
		   "cell_type": "markdown",
		   "metadata": {},
		   "source": [
			"## Example 20.12: Calculation_of_Excitation_potential.sce"
		   ]
		  },
  {
"cell_type": "code",
	   "execution_count": null,
	   "metadata": {
	    "collapsed": true
	   },
	   "outputs": [],
"source": [
"clc \n",
"// Given that\n",
"lambda = 1e-11 // K-absorption limit for uranium in m\n",
"// Sample Problem 12 on page no. 20.10\n",
"printf('\n # PROBLEM 12 # \n')\n",
"printf('Standard formula used \n ')\n",
"printf('lambda_min = 12400/V \n')\n",
"V = 12400e-10 / lambda\n",
"printf('\n Excitation potential is %d kV.',V/10^3)"
   ]
   }
,
{
		   "cell_type": "markdown",
		   "metadata": {},
		   "source": [
			"## Example 20.13: Calculation_of_the_value_of_the_ratio_of_plank_constant_and_charge_of_electron.sce"
		   ]
		  },
  {
"cell_type": "code",
	   "execution_count": null,
	   "metadata": {
	    "collapsed": true
	   },
	   "outputs": [],
"source": [
"clc \n",
"// Given that\n",
"lambda = 1.4e-11 // K-absorption edge for lead in m\n",
"V = 88.6e3 // minimum voltage required for producing k-lines in V\n",
"c = 3e8 // speed of light in m/sec\n",
"// Sample Problem 13 on page no. 20.11\n",
"printf('\n # PROBLEM 13 # \n')\n",
"printf('Standard formula used \n ')\n",
"printf(' h*c/Lambda = eV \n')\n",
"r = V * lambda / c\n",
"printf('\n The value of the ratio of h/e = %e Jsec/C.',r)"
   ]
   }
,
{
		   "cell_type": "markdown",
		   "metadata": {},
		   "source": [
			"## Example 20.14: Calculation_of_Wavelength_of_K_line.sce"
		   ]
		  },
  {
"cell_type": "code",
	   "execution_count": null,
	   "metadata": {
	    "collapsed": true
	   },
	   "outputs": [],
"source": [
"clc \n",
"// Given that\n",
"Z = 92 // atomic no. of atom\n",
"Rh = 1.1e5 // Rydberg constant in cm^-1\n",
"c = 3e8 // speed of light in m/sec\n",
"// Sample Problem 14 on page no. 20.11\n",
"printf('\n # PROBLEM 14 # \n')\n",
"printf('Standard formula used \n ')\n",
"printf(' Moseley Law \n ')\n",
"lambda = 1 / (Rh *(Z-1)^2 * (1 - (1 / 2^2)))\n",
"printf('\n Wavelength of K line = %f A',lambda*1e8)"
   ]
   }
,
{
		   "cell_type": "markdown",
		   "metadata": {},
		   "source": [
			"## Example 20.15: Calculation_of_Wavelength.sce"
		   ]
		  },
  {
"cell_type": "code",
	   "execution_count": null,
	   "metadata": {
	    "collapsed": true
	   },
	   "outputs": [],
"source": [
"clc \n",
"// Given that\n",
"Z = 42 // atomic no. of Mo\n",
"lambda = 0.71e-10 // wavelength in m\n",
"Z_ = 29 // atomic no. of Cu\n",
"// Sample Problem 15 on page no. 20.11\n",
"printf('\n # PROBLEM 15 # \n')\n",
"printf('Standard formula used \n ')\n",
"printf(' nu = a*(Z-b)^2 ........Moseley law \n')\n",
"lambda_ = (Z-1)^2 * lambda / (Z_-1)^2\n",
"printf('\n Wavelength of the corresponding radiation of Cu is %f Angstrom.',lambda_*1e10)"
   ]
   }
,
{
		   "cell_type": "markdown",
		   "metadata": {},
		   "source": [
			"## Example 20.16: Calculation_of_Wavelength_of_xray.sce"
		   ]
		  },
  {
"cell_type": "code",
	   "execution_count": null,
	   "metadata": {
	    "collapsed": true
	   },
	   "outputs": [],
"source": [
"clc \n",
"// Given that\n",
"Z = 79 // atomic no. of element\n",
"b = 1 // a constant\n",
"a = 2.468e15 // a constant in per sec\n",
"c = 3e8 // speed of light in m/sec\n",
"// Sample Problem 16 on page no. 20.12\n",
"printf('\n # PROBLEM 16 # \n')\n",
"printf('Standard formula used \n ')\n",
"printf(' nu = a*(Z-b)^2 ........Moseley law \n')\n",
"f = a * (Z - b)^2\n",
"lambda = c / f\n",
"printf('\n Wavelength of x-ray is %f Angstrom.',lambda*1e10)"
   ]
   }
,
{
		   "cell_type": "markdown",
		   "metadata": {},
		   "source": [
			"## Example 20.17: Calculation_of_Ionization_potential_of_K_shell_electron_of_Cu.sce"
		   ]
		  },
  {
"cell_type": "code",
	   "execution_count": null,
	   "metadata": {
	    "collapsed": true
	   },
	   "outputs": [],
"source": [
"clc \n",
"// Given that\n",
"Z = 29 // atomic no. of Cu\n",
"R = 1.097e7 // Rydberg constant in m^-1\n",
"c = 3e8 // speed of light in m/sec\n",
"h = 6.62e-34 // Planck constant in J sec\n",
"// Sample Problem 17 on page no. 20.12\n",
"printf('\n # PROBLEM 17 # \n')\n",
"printf('Standard formula used \n ')\n",
"printf(' nu = a*(Z-b)^2 ........Moseley law \n')\n",
"f = 3/4 * (R * c) * (Z-1)^2\n",
"E = h * f / 1.6e-16\n",
"E_L = 0.931 // let E_L = 0.931 KeV\n",
"E_ = E + E_L\n",
"printf('\n Ionization potential of K-shell electron of Cu is %f keV.',E_)"
   ]
   }
,
{
		   "cell_type": "markdown",
		   "metadata": {},
		   "source": [
			"## Example 20.18: Calculation_of_Frequency_of_k_line.sce"
		   ]
		  },
  {
"cell_type": "code",
	   "execution_count": null,
	   "metadata": {
	    "collapsed": true
	   },
	   "outputs": [],
"source": [
"clc \n",
"// Given that\n",
"Z = 79 // atomic no. of anticathode\n",
"R = 1.097e7 // Rydberg constant in m^-1\n",
"c = 3e8 // speed of light in m/sec\n",
"// Sample Problem 18 on page no. 20.13\n",
"printf('\n # PROBLEM 18 # \n')\n",
"printf('Standard formula used \n ')\n",
"printf(' nu = a*(Z-b)^2 ........Moseley law \n')\n",
"f = 3/4 * (R * c) * (Z-1)^2\n",
"printf('\n Frequency of k line is %e Hz.',f)"
   ]
   }
,
{
		   "cell_type": "markdown",
		   "metadata": {},
		   "source": [
			"## Example 20.19: Calculation_of_Energy_and_Wavelength_of_xray.sce"
		   ]
		  },
  {
"cell_type": "code",
	   "execution_count": null,
	   "metadata": {
	    "collapsed": true
	   },
	   "outputs": [],
"source": [
"clc \n",
"// Given that\n",
"Z = 27 // atomic no. of Co\n",
"R = 1.097e7 // Rydberg constant in m^-1\n",
"c = 3e8 // speed of light in m/sec\n",
"h = 6.62e-34 // Planck constant in J sec\n",
"// Sample Problem 19 on page no. 20.13\n",
"printf('\n # PROBLEM 19 # \n')\n",
"printf('Standard formula used \n')\n",
"printf(' nu = a*(Z-b)^2 ........Moseley law \n')\n",
"f = 3/4 * (R * c) * (Z-1)^2\n",
"E = h * f\n",
"lambda = c / f\n",
"printf('\n Energy is %f keV.\n Wavelength of x-ray is %f Angstrom.',E / 1.6e-16,lambda*1e10)"
   ]
   }
,
{
		   "cell_type": "markdown",
		   "metadata": {},
		   "source": [
			"## Example 20.1: Calculation_of_Max_speed_and_Shortest_wavelength.sce"
		   ]
		  },
  {
"cell_type": "code",
	   "execution_count": null,
	   "metadata": {
	    "collapsed": true
	   },
	   "outputs": [],
"source": [
"clc \n",
"// Given that\n",
"V1 = 40e3 // voltage in first case in V\n",
"V2 = 20e3 // voltage in second case in V\n",
"V3 = 100e3 // voltage in second in V\n",
"// Sample Problem 1 on page no. 20.7\n",
"printf('\n # PROBLEM 1 # \n')\n",
"printf('Standard formula used \n ')\n",
"printf('1/2*m*v^2 = eV \n')\n",
"v1 = 0.593e6 * sqrt(V1)\n",
"lambda1 = 12400 / V1\n",
"v2 = 0.593e6 * sqrt(V2)\n",
"lambda2 = 12400 / V2\n",
"v3 = 0.593e6 * sqrt(V3)\n",
"lambda3 = 12400 / V3\n",
"printf('\n Max. speed of electrons at %d Volts is %e m/sec.\n Max. speed of electrons at %d Volts is %e m/sec./sec.\n Max. speed of electrons at %d Volts is %e m/sec. \n Shortest wavelength of x-ray = %f Angstrom.\n Shortest wavelength of x-ray = %f Angstrom.\n Shortest wavelength of x-ray = %f Angstrom.',V1,v1,V2,v2,V3,v3,lambda1,lambda2,lambda3)"
   ]
   }
,
{
		   "cell_type": "markdown",
		   "metadata": {},
		   "source": [
			"## Example 20.2: Calculation_of_Planck_constant.sce"
		   ]
		  },
  {
"cell_type": "code",
	   "execution_count": null,
	   "metadata": {
	    "collapsed": true
	   },
	   "outputs": [],
"source": [
"clc \n",
"// Given that\n",
"V = 30e3 // voltage in V\n",
"lambda_min = 0.414e-10 // shortest wavelength in m\n",
"e = 1.6e-19 // charge on an electron in C\n",
"c = 3e8 // speed of light in m/sec\n",
"// Sample Problem 2 on page no. 20.7\n",
"printf('\n # PROBLEM 2 # \n')\n",
"printf('Standard formula used \n ')\n",
"printf('h*c/lambda = eV \n')\n",
"h = (e * V * lambda_min) / c\n",
"printf('\n Planck constant is %e J sec.',h)"
   ]
   }
,
{
		   "cell_type": "markdown",
		   "metadata": {},
		   "source": [
			"## Example 20.3: Calculation_of_Minimum_wavelength.sce"
		   ]
		  },
  {
"cell_type": "code",
	   "execution_count": null,
	   "metadata": {
	    "collapsed": true
	   },
	   "outputs": [],
"source": [
"clc \n",
"// Given that\n",
"V = 25e3 // voltage in V\n",
"// Sample Problem 3 on page no. 20.8\n",
"printf('\n # PROBLEM 3 # \n')\n",
"printf('Standard formula used \n ')\n",
"printf('Lambda_min = 12400/V \n')\n",
"lambda_min = 12400 / V\n",
"printf('\n Minimum wavelength of x-ray is %f Angstrom.',lambda_min)"
   ]
   }
,
{
		   "cell_type": "markdown",
		   "metadata": {},
		   "source": [
			"## Example 20.4: Calculation_of_Maximum_speed_of_electron.sce"
		   ]
		  },
  {
"cell_type": "code",
	   "execution_count": null,
	   "metadata": {
	    "collapsed": true
	   },
	   "outputs": [],
"source": [
"clc \n",
"// Given that\n",
"V = 13.6e3 // voltage in V\n",
"// Sample Problem 4 on page no. 20.8\n",
"printf('\n # PROBLEM 4 # \n')\n",
"printf('Standard formula used \n ')\n",
"printf('1/2*m*v^2 = eV \n')\n",
"v = 0.593e6*sqrt(V)\n",
"printf('\n Maximum speed of electron is %e m/sec.',v)"
   ]
   }
,
{
		   "cell_type": "markdown",
		   "metadata": {},
		   "source": [
			"## Example 20.5: Calculation_of_Velocity_of_electron.sce"
		   ]
		  },
  {
"cell_type": "code",
	   "execution_count": null,
	   "metadata": {
	    "collapsed": true
	   },
	   "outputs": [],
"source": [
"clc \n",
"// Given that\n",
"V = 10e3 // voltage in V\n",
"i = 2e-3 // current in amp\n",
"// Sample Problem 5 on page no. 20.8\n",
"printf('\n # PROBLEM 5 # \n')\n",
"printf('Standard formula used \n ')\n",
"printf('1/2*m*v^2 = eV \n')\n",
"v = 0.593e6*sqrt(V)\n",
"printf('\n Velocity of electron is %e m/sec.',v)"
   ]
   }
,
{
		   "cell_type": "markdown",
		   "metadata": {},
		   "source": [
			"## Example 20.6: Calculation_of_Highest_frequency_and_Minimum_wavelength.sce"
		   ]
		  },
  {
"cell_type": "code",
	   "execution_count": null,
	   "metadata": {
	    "collapsed": true
	   },
	   "outputs": [],
"source": [
"clc \n",
"// Given that\n",
"V = 9.8e3 // voltage in V\n",
"i = 2e-3 // current in amp\n",
"c = 3e8 // speed of light in m/sec\n",
"// Sample Problem 6 on page no. 20.8\n",
"printf('\n # PROBLEM 6 # \n')\n",
"printf('Standard formula used \n ')\n",
"printf('h*c/lambda = eV \n')\n",
"lambda = 12400 / V\n",
"f = c / lambda\n",
"printf('\n Highest frequency is %e Hz.\n Minimum wavelength is %f Angstrom.',f,lambda)"
   ]
   }
,
{
		   "cell_type": "markdown",
		   "metadata": {},
		   "source": [
			"## Example 20.7: Calculation_of_Number_of_electrons_striking_the_target_and_Speed_of_electrons.sce"
		   ]
		  },
  {
"cell_type": "code",
	   "execution_count": null,
	   "metadata": {
	    "collapsed": true
	   },
	   "outputs": [],
"source": [
"clc \n",
"// Given that\n",
"V = 12.4e3 // voltage in V\n",
"i = 2e-3 // current in amp\n",
"e = 1.6e-19 // charge on an electron in C\n",
"// Sample Problem 7 on page no. 20.9\n",
"printf('\n # PROBLEM 7 # \n')\n",
"printf('Standard formula used \n ')\n",
"printf('I = ne \n 1/2*m*v^2 = eV \n')\n",
"n = i / e\n",
"v = 0.593e6*sqrt(V)\n",
"printf('\n Number of electrons striking the target per sec is %e.\n Speed of electrons is %e m/sec.',n,v)"
   ]
   }
,
{
		   "cell_type": "markdown",
		   "metadata": {},
		   "source": [
			"## Example 20.8: Calculation_of_Number_of_electrons_striking_the_anode_and_Minimum_wavelength.sce"
		   ]
		  },
  {
"cell_type": "code",
	   "execution_count": null,
	   "metadata": {
	    "collapsed": true
	   },
	   "outputs": [],
"source": [
"clc \n",
"// Given that\n",
"V = 10e3 // voltage in V\n",
"i = 15e-3 // current in amp\n",
"e = 1.6e-19 // charge on an electron in C\n",
"// Sample Problem 8 on page no. 20.9\n",
"printf('\n # PROBLEM 8 # \n')\n",
"printf('Standard formula used \n ')\n",
"printf('I = ne \n 1/2*m*v^2 = eV \n')\n",
"n = i / e\n",
"lambda = 12400 / V \n",
"printf('\n Number of electrons striking the anode per sec is %e.\n Minimum wavelength produced  is %f Angstrom.',n,lambda)"
   ]
   }
,
{
		   "cell_type": "markdown",
		   "metadata": {},
		   "source": [
			"## Example 20.9: Calculation_of_Number_of_electrons_striking_the_anode.sce"
		   ]
		  },
  {
"cell_type": "code",
	   "execution_count": null,
	   "metadata": {
	    "collapsed": true
	   },
	   "outputs": [],
"source": [
"clc \n",
"// Given that\n",
"V = 50e3 // voltage in V\n",
"i = 1e-3 // current in amp\n",
"e = 1.6e-19 // charge on an electron in C\n",
"// Sample Problem 9 on page no. 20.9\n",
"printf('\n # PROBLEM 9 # \n')\n",
"printf('Standard formula used \n ')\n",
"printf('I = ne \n')\n",
"n = i / e\n",
"printf('\n Number of electrons striking the anode per sec is %e.',n)"
   ]
   }
],
"metadata": {
		  "kernelspec": {
		   "display_name": "Scilab",
		   "language": "scilab",
		   "name": "scilab"
		  },
		  "language_info": {
		   "file_extension": ".sce",
		   "help_links": [
			{
			 "text": "MetaKernel Magics",
			 "url": "https://github.com/calysto/metakernel/blob/master/metakernel/magics/README.md"
			}
		   ],
		   "mimetype": "text/x-octave",
		   "name": "scilab",
		   "version": "0.7.1"
		  }
		 },
		 "nbformat": 4,
		 "nbformat_minor": 0
}
