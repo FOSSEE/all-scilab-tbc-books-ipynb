{
"cells": [
 {
		   "cell_type": "markdown",
	   "metadata": {},
	   "source": [
       "# Chapter 9: DIELECTRICS"
	   ]
	},
{
		   "cell_type": "markdown",
		   "metadata": {},
		   "source": [
			"## Example 9.1: Calculation_of_Polarization_vector_and_Displacement_vector.sce"
		   ]
		  },
  {
"cell_type": "code",
	   "execution_count": null,
	   "metadata": {
	    "collapsed": true
	   },
	   "outputs": [],
"source": [
"clc \n",
"// Given that\n",
"E = 10^6 // electric field inside the plates in V/m\n",
"d = 0.02 // distance between the plates in meter\n",
"k = 3 // dielectric constant of slab\n",
"e_ = 8.85e-12 // electric permittivity of air in C^2/Nm^2\n",
"// Sample Problem 1 on page no. 9.11\n",
"printf('\n # PROBLEM 1 # \n')\n",
"printf(' Standard formula used \n')\n",
"printf(' D = e_*E+p. \n D=e_*k*E.\n\n ')\n",
"D = e_*k*E\n",
"P = D-e_*E\n",
"printf('Polarization vector is %e C/m^2. \n Displacement vector is %e C/m^2',P,D)"
   ]
   }
,
{
		   "cell_type": "markdown",
		   "metadata": {},
		   "source": [
			"## Example 9.2: Calculation_of_The_included_charge_density_on_the_surface_of_the_dielectric.sce"
		   ]
		  },
  {
"cell_type": "code",
	   "execution_count": null,
	   "metadata": {
	    "collapsed": true
	   },
	   "outputs": [],
"source": [
"clc \n",
"// Given that\n",
"E1 = 3*10^5 // electric intensity when space between plates evacuated in V/m\n",
"E2 = 1*10^5 // electric intensity when space between plates is filled with dielectric in V/m\n",
"e_ = 8.85e-12 // electric permittivity of air in C^2/Nm^2\n",
"// Sample Problem 2 on page no. 9.11\n",
"printf('\n # PROBLEM 2 # \n')\n",
"printf(' Standard formula used \n')\n",
"printf(' E = E_-P/e_.\n\n ')\n",
"sigma = e_*(E1 - E2)\n",
"printf('The included charge density on the surface of the dielectric is %e C/m^2',sigma )"
   ]
   }
,
{
		   "cell_type": "markdown",
		   "metadata": {},
		   "source": [
			"## Example 9.3: Calculation_of_Polarization_vector_and_Displacement_vector_and_Energy_density.sce"
		   ]
		  },
  {
"cell_type": "code",
	   "execution_count": null,
	   "metadata": {
	    "collapsed": true
	   },
	   "outputs": [],
"source": [
"clc \n",
"// Given that\n",
"E = 1*10^5 // electric field strength inside the plates in V/m\n",
"d = 6 // distance between the plates in mm\n",
"k = 2.8 // dielectric constant of slab\n",
"e_ = 8.85e-12 // electric permittivity of air in C^2/Nm^2\n",
"// Sample Problem 3 on page no. 9.11\n",
"printf('\n # PROBLEM 3 # \n')\n",
"printf(' Standard formula used \n')\n",
"printf(' P = e_*(k-1)*E.\n\n ')\n",
"P = e_*(k-1)*E\n",
"D = e_*k*E\n",
"energy_density = 1/2 * k*e_*E^2\n",
"printf('Polarization vector is %e C/m^2. \n Displacement vector is %eC/m^2. \n Energy density is %f J/m^3.',P,D,energy_density )"
   ]
   }
,
{
		   "cell_type": "markdown",
		   "metadata": {},
		   "source": [
			"## Example 9.4: EX9_4.sce"
		   ]
		  },
  {
"cell_type": "code",
	   "execution_count": null,
	   "metadata": {
	    "collapsed": true
	   },
	   "outputs": [],
"source": [
"clc \n",
"// Given that\n",
"D = 5e-4 // electric displacement vector in C/m^2\n",
"P = 4e-4 // electric polarization vector in C/m^2\n",
"v = 0.5 // volume of the slab in m^3\n",
"e_ = 8.85e-12 // electric permittivity of air in C^2/Nm^2\n",
"// Sample Problem 4 on page no. 9.12\n",
"printf('\n # PROBLEM 4 # \n')\n",
"printf(' Standard formula used \n')\n",
"printf(' D= e_*E.\n\n ')\n",
"E= (D-P)/ e_\n",
"k = D/(e_*E)\n",
"p = P*v\n",
"energy_density = 1/2 * k*e_*E^2\n",
"printf('Value of relative permittivity is %d. \n Total dipole moment of the slab is %e C-m.',k,p )"
   ]
   }
,
{
		   "cell_type": "markdown",
		   "metadata": {},
		   "source": [
			"## Example 9.5: Calculation_of_Induce_dipole_moment_of_each.sce"
		   ]
		  },
  {
"cell_type": "code",
	   "execution_count": null,
	   "metadata": {
	    "collapsed": true
	   },
	   "outputs": [],
"source": [
"clc \n",
"// Given that\n",
"E = 3e4 // external field in V/m\n",
"k = 1.00074 // dielectric constant of gas at N.T.P.\n",
"e_ = 8.85e-12 // electric permittivity of air in C^2/Nm^2\n",
"// Sample Problem 5 on page no. 9.12\n",
"printf('\n # PROBLEM 5 # \n')\n",
"printf(' Standard formula used \n')\n",
"printf(' P=x*e_*E.\n\n ')\n",
"x = k-1\n",
"P = x*e_*E\n",
"N = 6.023e23/22.4e-3\n",
"p = P/N\n",
"printf('Induce dipole moment of each is %e C-m',p)"
   ]
   }
,
{
		   "cell_type": "markdown",
		   "metadata": {},
		   "source": [
			"## Example 9.6: Calculation_of_Electric_susceptibility_at_0_degree_centigrade.sce"
		   ]
		  },
  {
"cell_type": "code",
	   "execution_count": null,
	   "metadata": {
	    "collapsed": true
	   },
	   "outputs": [],
"source": [
"clc \n",
"// Given that\n",
"E = 3e4 // external field in V/m\n",
"k = 1.000041 // dielectric constant of gas at 0 degree centigrate\n",
"// Sample Problem 6 on page no. 9.1\n",
"printf('\n # PROBLEM 6 # \n')\n",
"printf(' Standard formula used \n')\n",
"printf(' P=x*e_*E.\n\n ')\n",
"x = k-1\n",
"printf('Electric susceptibility at 0 degree centigrate is %e.',x)"
   ]
   }
],
"metadata": {
		  "kernelspec": {
		   "display_name": "Scilab",
		   "language": "scilab",
		   "name": "scilab"
		  },
		  "language_info": {
		   "file_extension": ".sce",
		   "help_links": [
			{
			 "text": "MetaKernel Magics",
			 "url": "https://github.com/calysto/metakernel/blob/master/metakernel/magics/README.md"
			}
		   ],
		   "mimetype": "text/x-octave",
		   "name": "scilab",
		   "version": "0.7.1"
		  }
		 },
		 "nbformat": 4,
		 "nbformat_minor": 0
}
