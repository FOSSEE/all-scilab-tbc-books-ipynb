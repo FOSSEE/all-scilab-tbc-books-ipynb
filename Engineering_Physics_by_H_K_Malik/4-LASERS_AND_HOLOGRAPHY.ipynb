{
"cells": [
 {
		   "cell_type": "markdown",
	   "metadata": {},
	   "source": [
       "# Chapter 4: LASERS AND HOLOGRAPHY"
	   ]
	},
{
		   "cell_type": "markdown",
		   "metadata": {},
		   "source": [
			"## Example 4.1: EX4_1.sce"
		   ]
		  },
  {
"cell_type": "code",
	   "execution_count": null,
	   "metadata": {
	    "collapsed": true
	   },
	   "outputs": [],
"source": [
"clc \n",
"// Given that\n",
"lambda = 5.5e-7 // wavelength of light in meter\n",
"c = 3e+8 // speed of light in m/sec\n",
"h = 6.63e-34 // Planck constant in j/sec\n",
"e = 1.6e-19 // charge on electron in coulomb \n",
"k = 8.62e-5 // Boltzmann constant in eV/K\n",
"T = 300 // temperature in kelvin\n",
"// Sample Problem 1 on page no. 4.24\n",
"printf('\n # PROBLEM 1 # \n')\n",
"delta_E = (h * c) / (lambda * e) // calculation for energy difference \n",
"r = exp(-delta_E / (k * T)) // calculation for ratio of population of upper level to the lower energy level\n",
"T_ = (delta_E / (k * 0.693)) // calculation for temperature for the second condition\n",
"printf('\n Standard formula used \n delta_E = (h * c) / (lambda * e). \n r = exp(-delta_E / (k * T)). \n T_ = (delta_E / (k * 0.693)). \n')\n",
"printf('\n Ratio of population of upper level to the lower energy level = %e. \n Temperature for the second condition = %f K. ',r,T_)\n",
"//Answer in the book: 1.3 X 10^-38 and 37800 K\n",
"//Answer in the program:1.100524 X 10^-38 and 37836.557301 K'"
   ]
   }
,
{
		   "cell_type": "markdown",
		   "metadata": {},
		   "source": [
			"## Example 4.2: Calculation_of_Beam_divergence_angle.sce"
		   ]
		  },
  {
"cell_type": "code",
	   "execution_count": null,
	   "metadata": {
	    "collapsed": true
	   },
	   "outputs": [],
"source": [
"clc \n",
"// Given that\n",
"lambda1 = 6.328e-7 // wavelength of light in first case in meter\n",
"lambda2 =2e-7 // wavelength of light in second case in meter\n",
"r1 = 2.3e-4 // the radius of internal beam of laser in first case in meter\n",
"r2 = 2.4e-3 // the radius of internal beam of laser in second case in meter\n",
"// Sample Problem 2 on page no. 4.24\n",
"printf('\n # PROBLEM 2 # \n')\n",
"theta1 = lambda1 / (%pi * r1) // calculation for beam divergence angle in first case\n",
"theta2 = lambda2 / (%pi * r2) // calculation for beam divergence angle in second case\n",
"printf('\n Standard formula used \n theta = lambda / (pi * r). \n')\n",
"printf('\n Beam divergence angle in first case = %e radian. \n Beam divergence angle in second case = %e radian. ',theta1,theta2)"
   ]
   }
,
{
		   "cell_type": "markdown",
		   "metadata": {},
		   "source": [
			"## Example 4.3: Calculation_of_Total_energy.sce"
		   ]
		  },
  {
"cell_type": "code",
	   "execution_count": null,
	   "metadata": {
	    "collapsed": true
	   },
	   "outputs": [],
"source": [
"clc \n",
"// Given that\n",
"l = 6e-2 // length of laser in meter\n",
"D = 1e-2 // diameter of laser in meter\n",
"lambda = 6.944e-7 // wavelength of light in meter\n",
"d = 3700 // density of aluminium oxide in kg/meter cube\n",
"Na = 6e+23 // Avogadro number\n",
"M = 0.102 // molar mass of aluminium oxide in kg/meter cube\n",
"h = 4.1e-15 // Planck constant in eV-sec\n",
"c = 3e+8 // speed of light in meter/sec\n",
"// Sample Problem 3 on page no. 4.25\n",
"printf('\n # PROBLEM 3 # \n')\n",
"v = (%pi * (D^2) * l) / 4 // calculation for volume \n",
"N = (2 * Na * d * v) / M // calculation for no. of aluminium ions\n",
"N_ = N / 3500 // calculation for the no. of chromium ions\n",
"E = (h * c) / lambda // calculation for the energy of stimulated emission photon \n",
"Et = N_ * E * (1.6e-19) // calculation for total energy\n",
"printf('\n Standard formula used \n v = (pi * (D^2) * l) / 4. \n N = (2 * Na * d * v) / M. \n N_ = N / 3500. \n E = (h * c) / lambda. \n Et = N_ * E * (1.6e-19). \n')\n",
"printf('\n Total energy = %f J',ceil(Et))"
   ]
   }
,
{
		   "cell_type": "markdown",
		   "metadata": {},
		   "source": [
			"## Example 4.4: Calculation_of_Power_per_unit_area_delivered_by_the_laser.sce"
		   ]
		  },
  {
"cell_type": "code",
	   "execution_count": null,
	   "metadata": {
	    "collapsed": true
	   },
	   "outputs": [],
"source": [
"clc \n",
"// Given that\n",
"p = 4e-3 // energy of laser pulse in meter\n",
"r = 1.5e-5 // radius of spot in meter\n",
"t = 1e-9 // pulse length in time in sec\n",
"// Sample Problem 4 on page no. 4.26\n",
"printf('\n # PROBLEM 4 # \n')\n",
"p_ = p / t// calculation for  power in watt\n",
"I = p_ / (%pi * r^2)// calculation for power per unit area delivered by the laser\n",
"printf('Standard formula used \n I=P/a\n')\n",
"printf('\nPower per unit area delivered by the laser = %e watt/square meter',I)"
   ]
   }
,
{
		   "cell_type": "markdown",
		   "metadata": {},
		   "source": [
			"## Example 4.5: Calculation_of_Power_per_unit_area_delivered_by_the_laser.sce"
		   ]
		  },
  {
"cell_type": "code",
	   "execution_count": null,
	   "metadata": {
	    "collapsed": true
	   },
	   "outputs": [],
"source": [
"clc \n",
"// Given that\n",
"D = 5e-3 // diameter of laser in meter\n",
"lambda = 7.2e-7 // wavelength of light in meter\n",
"d = 4e8 // distance at moon from earth in meter\n",
"// Sample Problem 5 on page no. 4.26\n",
"printf('\n # PROBLEM 5 # \n')\n",
"r = (D / 2) // calculation for radius\n",
"theta = (0.637 * lambda) / r // calculation for angular spread\n",
"areal_spread = (d * theta)^2 // calculation for areal spread\n",
"printf('\n Standard formula used \n theta = (0.637 * lambda) / r. \n areal_spread = (d * theta)^2. \n ')\n",
"printf('\n Angular spread = %e radian ,\n Areal spread = %e square meter',theta,areal_spread)"
   ]
   }
,
{
		   "cell_type": "markdown",
		   "metadata": {},
		   "source": [
			"## Example 4.6: Calculation_of_Areal_spread_and_Intensity.sce"
		   ]
		  },
  {
"cell_type": "code",
	   "execution_count": null,
	   "metadata": {
	    "collapsed": true
	   },
	   "outputs": [],
"source": [
"clc \n",
"// Given that\n",
"D = 5e-3 // diameter of laser in meter\n",
"lambda = 6.943e-7 // wavelength of light in meter\n",
"f =0.1 // focal length in meter\n",
"P = 0.1 // power of laser in watt\n",
"// Sample Problem 6 on page no. 4.27\n",
"printf('\n # PROBLEM 6 # \n')\n",
"r = (D / 2)// calculation for \n",
"theta = (0.637 * lambda) / r// calculation for angular spread\n",
"areal_spread = (f * theta)^2// calculation for areal spread\n",
"I = P / areal_spread// calculation for intensity\n",
"printf('Standard formula used \n theta=0.637*lambda/r,\n areal spread = (theta*D)^2,\n I=P/A\n')\n",
"printf('\n Areal spread = %e square meter,\n Intensity = %e watt/square meter',areal_spread,I)"
   ]
   }
,
{
		   "cell_type": "markdown",
		   "metadata": {},
		   "source": [
			"## Example 4.7: Calculation_of_Degree_of_non_monochromaticity.sce"
		   ]
		  },
  {
"cell_type": "code",
	   "execution_count": null,
	   "metadata": {
	    "collapsed": true
	   },
	   "outputs": [],
"source": [
"clc \n",
"// Given that\n",
"tou = 1e-10 // coherence time in sec\n",
"lambda = 5.4e-7 // wavelength of light in meter\n",
"// Sample Problem 7 on page no. 4.28\n",
"printf('\n # PROBLEM 7 # \n')\n",
"delta_v = 1 / tou \n",
"v_ = (3e+8) / lambda // calculation for frequency\n",
"d = delta_v / v_ // calculation for degree of non-monochromaticity\n",
"printf('\n Standard formula used \n delta_v = 1 / tou. \n v_ = (3e+8) / lambda. \n d = delta_v / v_. \n ')\n",
"printf('\n Degree of non-monochromaticity = %f ',d)"
   ]
   }
],
"metadata": {
		  "kernelspec": {
		   "display_name": "Scilab",
		   "language": "scilab",
		   "name": "scilab"
		  },
		  "language_info": {
		   "file_extension": ".sce",
		   "help_links": [
			{
			 "text": "MetaKernel Magics",
			 "url": "https://github.com/calysto/metakernel/blob/master/metakernel/magics/README.md"
			}
		   ],
		   "mimetype": "text/x-octave",
		   "name": "scilab",
		   "version": "0.7.1"
		  }
		 },
		 "nbformat": 4,
		 "nbformat_minor": 0
}
