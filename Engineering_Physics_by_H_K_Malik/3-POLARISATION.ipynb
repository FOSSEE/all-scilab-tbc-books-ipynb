{
"cells": [
 {
		   "cell_type": "markdown",
	   "metadata": {},
	   "source": [
       "# Chapter 3: POLARISATION"
	   ]
	},
{
		   "cell_type": "markdown",
		   "metadata": {},
		   "source": [
			"## Example 3.10: Calculation_of_Percentage_reduction_in_intensity_of_light.sce"
		   ]
		  },
  {
"cell_type": "code",
	   "execution_count": null,
	   "metadata": {
	    "collapsed": true
	   },
	   "outputs": [],
"source": [
"clc \n",
"// Given that\n",
"theta1 = %pi / 6 // angle between Nicole prisms in first case in radian\n",
"theta2 = %pi / 4 // angle between Nicole prisms in second case in radian\n",
"theta3 = %pi / 3 // angle between Nicole prisms in third case in radian\n",
"theta4 = %pi / 2 // angle between Nicole prisms in fourth case in radian\n",
"// Sample Problem 10 on page no. 3.26\n",
"printf('\n # PROBLEM 10 # \n')\n",
"I1 = (1 - (cos(theta1))^2) * 100\n",
"I2 = (1 - (cos(theta2))^2) * 100\n",
"I3 = (1 - (cos(theta3))^2) * 100\n",
"I4 = (1 - (cos(theta4))^2) * 100\n",
" // calculation for percentage reduction in intensity of ligth\n",
" printf('\n Standard formula used \n I = (1 - (cos(theta))^2) * 100. \n')\n",
"printf('\n Percentage reduction in intensity of ligth-\n(i)%f per\n(ii)%f per\n(iii)%f per\n(iv)%f per',I1,I2,I3,I4)"
   ]
   }
,
{
		   "cell_type": "markdown",
		   "metadata": {},
		   "source": [
			"## Example 3.11: Calculation_of_Angle_between_the_Nicols.sce"
		   ]
		  },
  {
"cell_type": "code",
	   "execution_count": null,
	   "metadata": {
	    "collapsed": true
	   },
	   "outputs": [],
"source": [
"clc \n",
"// Given that\n",
"i1 = 1 / 2 // reduced intensity ratio in first case\n",
"i2 = 1 / 4 // reduced intensity ratio in second case\n",
"// Sample Problem 11 on page no. 3.27\n",
"printf('\n # PROBLEM 11 # \n')\n",
"theta1 = acos(sqrt(i1)) * (180 / %pi)// calculation for angle between nicols in first case \n",
"theta2 = acos(sqrt(i2)) * (180 / %pi)// calculation for angle between nicols in second case\n",
"printf('Standard formula used \n I=I_cos(theta)^2\n')\n",
"printf('\n Angle between the Nicols in first case = %f degree\n And in second case = %f degree',theta1,theta2)"
   ]
   }
,
{
		   "cell_type": "markdown",
		   "metadata": {},
		   "source": [
			"## Example 3.12: Calculation_of_Thickness_of_half_wave_plate_of_quartz.sce"
		   ]
		  },
  {
"cell_type": "code",
	   "execution_count": null,
	   "metadata": {
	    "collapsed": true
	   },
	   "outputs": [],
"source": [
"clc \n",
"// Given that\n",
"lambda = 5e-7 // wavelength of light in meter\n",
"mu_e = 1.553 // refractive index for extraordinary light\n",
"mu_o = 1.544 // refractive index for ordinary light\n",
"// Sample Problem 12 on page no. 3.27\n",
"printf('\n # PROBLEM 12 # \n')\n",
"t = lambda / (2 * (mu_e - mu_o)) // calculation for thickness of half-wave plate of quartz\n",
"printf('\n Standard formula used \n t = lambda / (2 * (mu_e - mu_o)). \n')\n",
"printf('\n Thickness of half-wave plate of quartz = %e meter',t)"
   ]
   }
,
{
		   "cell_type": "markdown",
		   "metadata": {},
		   "source": [
			"## Example 3.13: Calculation_of_Thickness_of_quartz_plate.sce"
		   ]
		  },
  {
"cell_type": "code",
	   "execution_count": null,
	   "metadata": {
	    "collapsed": true
	   },
	   "outputs": [],
"source": [
"clc \n",
"// Given that\n",
"lambda = 5.893e-7 // wavelength of light in meter\n",
"mu_e = 1.533 // refractive index for extraordinary light\n",
"mu_o = 1.554 // refractive index for ordinary light\n",
"// Sample Problem 13 on page no. 3.27\n",
"printf('\n # PROBLEM 13 # \n')\n",
"t = lambda / (4 * (mu_o - mu_e)) // calculation for thickness of quartz plate\n",
"printf('\n Standard formula used \n t = lambda / (4 * (mu_o - mu_e)). \n ')\n",
"printf('\n Thickness of quartz plate  = %e meter',t)"
   ]
   }
,
{
		   "cell_type": "markdown",
		   "metadata": {},
		   "source": [
			"## Example 3.14: Calculation_of_Thickness_quartz_plate.sce"
		   ]
		  },
  {
"cell_type": "code",
	   "execution_count": null,
	   "metadata": {
	    "collapsed": true
	   },
	   "outputs": [],
"source": [
"clc \n",
"// Given that\n",
"lambda = 5.89e-7 // wavelength of light in meter\n",
"mu_e1 = 1.5 // refractive index for extraordinary light in first case\n",
"mu_o1 = 1.55 // refractive index for ordinary light in first case\n",
"mu_e2 = 1.57 // refractive index for extraordinary light in second case\n",
"mu_o2 = 1.55 // refractive index for ordinary light in second case\n",
"// Sample Problem 14 on page no. 3.28\n",
"printf('\n # PROBLEM 14 # \n')\n",
"t1 = lambda / (4 * (mu_o1 - mu_e1))\n",
"t2 = lambda / (4 * (mu_e2 - mu_o2))\n",
" // calculation for thickness of plate of quartz\n",
" printf('\n Standard formula used \n t = lambda / (4 * (mu_o - mu_e)) ')\n",
"printf('\n Thickness of plate of quartz in first case = %e meter,\n And thickness of plate of quartz in second case = %e meter',t1,t2)"
   ]
   }
,
{
		   "cell_type": "markdown",
		   "metadata": {},
		   "source": [
			"## Example 3.15: Calculation_of_Thickness_of_calcite_plate.sce"
		   ]
		  },
  {
"cell_type": "code",
	   "execution_count": null,
	   "metadata": {
	    "collapsed": true
	   },
	   "outputs": [],
"source": [
"clc \n",
"// Given that\n",
"lambda = 5.89e-7 // wavelength of light in meter\n",
"mu_e = 1.486 // refractive index for extraordinary light\n",
"mu_o = 1.658 // refractive index for ordinary light\n",
"// Sample Problem 15 on page no. 3.28\n",
"printf('\n # PROBLEM 15 # \n')\n",
"t = lambda / (4 * (mu_o - mu_e)) // calculation for thickness of calcite plate \n",
"printf('\n Standard formula used \n t = lambda / (4 * (mu_o - mu_e)). \n')\n",
"printf('\n Thickness of calcite plate  = %e meter',t)"
   ]
   }
,
{
		   "cell_type": "markdown",
		   "metadata": {},
		   "source": [
			"## Example 3.16: Calculation_of_Thickness_of_quartz_plate.sce"
		   ]
		  },
  {
"cell_type": "code",
	   "execution_count": null,
	   "metadata": {
	    "collapsed": true
	   },
	   "outputs": [],
"source": [
"clc \n",
"// Given that\n",
"lambda = 5e-7 // wavelength of light in meter\n",
"mu_e = 1.5533 // refractive index for extraordinary light\n",
"mu_o = 1.5442 // refractive index for ordinary light\n",
"// Sample Problem 16 on page no. 3.28\n",
"printf('\n # PROBLEM 16 # \n')\n",
"t = lambda / (4 * (mu_e - mu_o)) // calculation for thickness of quartz plate\n",
"printf('\n Standard formula used \n t = lambda / (4 * (mu_e - mu_o)). \n')\n",
"printf('\n Thickness of quartz plate  = %e meter',t)"
   ]
   }
,
{
		   "cell_type": "markdown",
		   "metadata": {},
		   "source": [
			"## Example 3.17: Calculation_of_Thickness_of_quartz_plate.sce"
		   ]
		  },
  {
"cell_type": "code",
	   "execution_count": null,
	   "metadata": {
	    "collapsed": true
	   },
	   "outputs": [],
"source": [
"clc \n",
"// Given that\n",
"lambda = 5.89e-7 // wavelength of light in meter\n",
"mu_e = 1.54 // refractive index for extraordinary light\n",
"mu_o = 1.55 // refractive index for ordinary light\n",
"// Sample Problem 17 on page no. 3.28\n",
"printf('\n # PROBLEM 17 # \n')\n",
"t = lambda / (4 * (mu_o - mu_e)) // calculation for thickness of quartz plate\n",
"printf('\n Standard formula used \n t = lambda / (4 * (mu_o - mu_e))')\n",
"printf('\n Thickness of quartz plate  = %e meter',t)"
   ]
   }
,
{
		   "cell_type": "markdown",
		   "metadata": {},
		   "source": [
			"## Example 3.18: Calculation_of_Thickness_of_quartz_plate.sce"
		   ]
		  },
  {
"cell_type": "code",
	   "execution_count": null,
	   "metadata": {
	    "collapsed": true
	   },
	   "outputs": [],
"source": [
"clc \n",
"// Given that\n",
"lambda = 5.89e-7 // wavelength of light in meter\n",
"mu_e = 1.553 // refractive index for extraordinary light\n",
"mu_o = 1.544 // refractive index for ordinary light\n",
"// Sample Problem 18 on page no. 3.28\n",
"printf('\n # PROBLEM 18 # \n')\n",
"t = lambda / (4 * (mu_e - mu_o)) // calculation for thickness of quartz plate\n",
"printf('\n Standard formula used \n t = lambda / (4 * (mu_e - mu_o)).\n')\n",
"printf('\n Thickness of quartz plate  = %e meter',t)"
   ]
   }
,
{
		   "cell_type": "markdown",
		   "metadata": {},
		   "source": [
			"## Example 3.19: Calculation_of_Thickness_of_quartz_plate.sce"
		   ]
		  },
  {
"cell_type": "code",
	   "execution_count": null,
	   "metadata": {
	    "collapsed": true
	   },
	   "outputs": [],
"source": [
"clc \n",
"// Given that\n",
"mu_e = 1.5442 // refractive index for extraordinary light\n",
"mu_o = 1.5533 // refractive index for ordinary light\n",
"lambda = 5e-7 // wavelength of plane polarized light in meter\n",
"// Sample Problem 19 on page no. 3.29\n",
"printf('\n # PROBLEM 19 # \n')\n",
"t = lambda / (2 * (mu_o - mu_e))// calculation for thickness of quartz plate\n",
"printf('Standard formula used \n t=lambda/4(mu_o-mu_e)\n')\n",
"printf('\n Thickness of quartz plate  = %e meter',t)"
   ]
   }
,
{
		   "cell_type": "markdown",
		   "metadata": {},
		   "source": [
			"## Example 3.1: Calculation_of_Brewster_angle_and_Angle_of_refraction.sce"
		   ]
		  },
  {
"cell_type": "code",
	   "execution_count": null,
	   "metadata": {
	    "collapsed": true
	   },
	   "outputs": [],
"source": [
"clc \n",
"// Given that\n",
"mu = 1.5 // refractive index of glass\n",
"// Sample Problem 1 on page no. 3.23\n",
"printf('\n # PROBLEM 1 # \n')\n",
"Ip = atan(mu) * (180 / %pi) // by brewster's law\n",
"r = 90 - Ip // calculation for angle of refraction\n",
"printf('Standard formula used \n mu=tan(Ip)\n')\n",
"printf('\n Brewster angle = %f degree\n Angle of refraction = %f degree',Ip,r)"
   ]
   }
,
{
		   "cell_type": "markdown",
		   "metadata": {},
		   "source": [
			"## Example 3.20: Calculation_of_Concentration_of_sugar_solution.sce"
		   ]
		  },
  {
"cell_type": "code",
	   "execution_count": null,
	   "metadata": {
	    "collapsed": true
	   },
	   "outputs": [],
"source": [
"clc \n",
"// Given that\n",
"theta = 10 // rotation of plane of polarization in degree\n",
"s = 60 // specific rotation of sugar solution in degree per decimeter per unit concentration\n",
"l = 2.5 // length of Polari meter in decimeter\n",
"// Sample Problem 20 on page no. 3.29\n",
"printf('\n # PROBLEM 20 # \n')\n",
"c = theta / (s * l) // calculation for concentration of sugar solution\n",
"printf('\n Standard formula used \n c = theta / (s * l). \n')\n",
"printf('\n Concentration of sugar solution = %f gm/cc',c)"
   ]
   }
,
{
		   "cell_type": "markdown",
		   "metadata": {},
		   "source": [
			"## Example 3.21: Calculation_of_Specific_rotation_of_sugar_solution.sce"
		   ]
		  },
  {
"cell_type": "code",
	   "execution_count": null,
	   "metadata": {
	    "collapsed": true
	   },
	   "outputs": [],
"source": [
"clc \n",
"// Given that\n",
"theta = 26.4 // rotation of plane of polarization in degree\n",
"c = 0.2 // concentration of sugar solution in gm/cc\n",
"l = 2 // length of polarizing tube in decimeter\n",
"// Sample Problem 21 on page no. 3.29\n",
"printf('\n # PROBLEM 21 # \n')\n",
"s = theta / (l * c)// calculation for specific rotation of sugar solution\n",
"printf('Standard formula used \n s = (10*theta)/(l*c)\n')\n",
"printf('\n Specific rotation of sugar solution = %f degree/(dm-cc)',s)"
   ]
   }
,
{
		   "cell_type": "markdown",
		   "metadata": {},
		   "source": [
			"## Example 3.22: Calculation_of_Specific_rotation_of_sugar_solution.sce"
		   ]
		  },
  {
"cell_type": "code",
	   "execution_count": null,
	   "metadata": {
	    "collapsed": true
	   },
	   "outputs": [],
"source": [
"clc \n",
"// Given that\n",
"theta = 6.5 // rotation of plane of polarization in degree\n",
"c = 0.05 // concentration of sugar solution in gm/cc\n",
"l = 2 // length of polarizing tube in decimeter\n",
"// Sample Problem 22 on page no. 3.29\n",
"printf('\n # PROBLEM 22 # \n')\n",
"s = theta / (l * c) // calculation for specific rotation of sugar solution\n",
"printf('\n Standard formula used \n s = theta / (l * c). \n ')\n",
"printf('\n Specific rotation of sugar solution = %f degree/(dm-cc)',s)"
   ]
   }
,
{
		   "cell_type": "markdown",
		   "metadata": {},
		   "source": [
			"## Example 3.23: Calculation_of_Concentration_of_sugar_solution.sce"
		   ]
		  },
  {
"cell_type": "code",
	   "execution_count": null,
	   "metadata": {
	    "collapsed": true
	   },
	   "outputs": [],
"source": [
"clc \n",
"// Given that\n",
"w = 80 // weight of impure sugar in gm\n",
"theta = 9.9 // rotation of plane of polarization in degree\n",
"s = 66 // specific rotation of sugar solution in degree per decimeter per unit concentration\n",
"l = 2 // length of Polari meter in decimeter\n",
"// Sample Problem 23 on page no. 3.30\n",
"printf('\n # PROBLEM 23 # \n')\n",
"c = theta / (s * l) * (1000) // in gm/l\n",
"per_c = (c * 100) / w // calculation for concentration of sugar solution\n",
"printf('\n Standard formula used \n c = theta / (s * l) * (1000). \n per_c = (c * 100) / w. \n')\n",
"printf('\n Concentration of sugar solution = %f percent',per_c)"
   ]
   }
,
{
		   "cell_type": "markdown",
		   "metadata": {},
		   "source": [
			"## Example 3.24: Calculation_of_Concentration_of_sugar_solution.sce"
		   ]
		  },
  {
"cell_type": "code",
	   "execution_count": null,
	   "metadata": {
	    "collapsed": true
	   },
	   "outputs": [],
"source": [
"clc \n",
"// Given that\n",
"theta = 11 // rotation of plane of polarization in degree\n",
"s = 66 // specific rotation of sugar solution in degree per decimeter per unit concentration\n",
"l = 2 // length of Polari meter in decimeter\n",
"// Sample Problem 24 on page no. 3.29\n",
"printf('\n # PROBLEM 24 # \n')\n",
"c = theta / (s * l) // calculation for concentration of sugar solution\n",
"printf('\n Standard formula used \n c = theta / (s * l). \n ')\n",
"printf('\n Concentration of sugar solution = %f gm/cc',c)"
   ]
   }
,
{
		   "cell_type": "markdown",
		   "metadata": {},
		   "source": [
			"## Example 3.25: Calculation_of_Specific_rotation_of_sugar_solution.sce"
		   ]
		  },
  {
"cell_type": "code",
	   "execution_count": null,
	   "metadata": {
	    "collapsed": true
	   },
	   "outputs": [],
"source": [
"clc \n",
"// Given that\n",
"theta = 26.4 // rotation of plane of polarization in degree\n",
"c = 0.2 // concentration of sugar solution in gm/cc\n",
"l = 2 // length of polarizing tube in decimeter\n",
"// Sample Problem 25 on page no. 3.30\n",
"printf('\n # PROBLEM 25 # \n')\n",
"s = theta / (l * c) // calculation for specific rotation of sugar solution\n",
"printf('\n Standard formula used \n s = theta / (l * c). \n')\n",
"printf('\n Specific rotation of sugar solution = %f degree/(dm-cc)',s)"
   ]
   }
,
{
		   "cell_type": "markdown",
		   "metadata": {},
		   "source": [
			"## Example 3.26: Calculation_of_Optical_rotation_of_diluted_solution.sce"
		   ]
		  },
  {
"cell_type": "code",
	   "execution_count": null,
	   "metadata": {
	    "collapsed": true
	   },
	   "outputs": [],
"source": [
"clc \n",
"// Given that\n",
"theta = 13 // rotation of plane of polarization in degree\n",
"r = (1 / 3) // ratio of the final concentration to the initial solution\n",
"l = 2 // length of Polari meter in decimeter\n",
"l_ = 3 // length of second polarizing tube in decimeter \n",
"// Sample Problem 26 on page no. 3.30\n",
"printf('\n # PROBLEM 26 # \n')\n",
"theta_ = (l_ * r * theta) / l// calculation for optical rotation of diluted solution\n",
"printf('Standard formula used \n s=theta/(l*c)\n')\n",
"printf('\nOptical rotation of diluted solution = %f degree',theta_)"
   ]
   }
,
{
		   "cell_type": "markdown",
		   "metadata": {},
		   "source": [
			"## Example 3.2: Calculation_of_Angle_of_Brewster.sce"
		   ]
		  },
  {
"cell_type": "code",
	   "execution_count": null,
	   "metadata": {
	    "collapsed": true
	   },
	   "outputs": [],
"source": [
"clc \n",
"// Given that\n",
"mu = 1.33 // refractive index of glass\n",
"// Sample Problem 2 on page no. 3.24\n",
"printf('\n # PROBLEM 2 # \n')\n",
"Ip = atan(mu) * (180 / %pi) // by Brewster's law\n",
"printf('Standard formula used \n mu=tan(Ip)\n')\n",
"printf('\n Angle of brewster = %f degree',Ip)"
   ]
   }
,
{
		   "cell_type": "markdown",
		   "metadata": {},
		   "source": [
			"## Example 3.3: Calculation_of_difference_between_polarization_angle.sce"
		   ]
		  },
  {
"cell_type": "code",
	   "execution_count": null,
	   "metadata": {
	    "collapsed": true
	   },
	   "outputs": [],
"source": [
"clc \n",
"// Given that\n",
"mu_w = 1.33 // refractive index of water\n",
"mu_g = 1.54 // refractive index of glass\n",
"// Sample Problem 3 on page no. 3.24\n",
"printf('\n # PROBLEM 3 # \n')\n",
"Ip_1 = atan(mu_g / mu_w) * (180 / %pi)//calculation for polarizing angle for water\n",
"Ip_2 = atan(mu_w / mu_g) * (180 / %pi) // calculation for polarizing angle for glass\n",
"printf('Standard formula used \n mu=tan(Ip)\n')\n",
"printf('\n Polarizing angle for water to glass = %f degree,\n Polarizing angle for glass to water = %f degree',Ip_1,Ip_2)\n",
"printf('\n So polarizing angle is greater for a beam incident from water to glass')"
   ]
   }
,
{
		   "cell_type": "markdown",
		   "metadata": {},
		   "source": [
			"## Example 3.4: Calculation_of_Angle_of_minimum_deviation.sce"
		   ]
		  },
  {
"cell_type": "code",
	   "execution_count": null,
	   "metadata": {
	    "collapsed": true
	   },
	   "outputs": [],
"source": [
"clc \n",
"// Given that\n",
"Ip = %pi / 3 // polarizing angle of piece of glass for green light in radian\n",
"a = %pi / 3 // angle of prism in radian \n",
"// Sample Problem 4 on page no. 3.24\n",
"printf('\n # PROBLEM 4 # \n')\n",
"mu = tan(Ip) // calculation for refractive index\n",
"delta_m = 2 * (asin(mu * sin(a / 2)) - (a / 2)) * (180 / %pi) // calculation for angle of minimum deviation\n",
"printf('\n Standard formula used \n mu = tan(Ip). \n delta_m = 2 * (asin(mu * sin(a / 2)) - (a / 2)) * (180 / pi). \n')\n",
"printf('\n Angle of minimum deviation = %f degree',delta_m)"
   ]
   }
,
{
		   "cell_type": "markdown",
		   "metadata": {},
		   "source": [
			"## Example 3.5: Calculation_of_Brewster_angle.sce"
		   ]
		  },
  {
"cell_type": "code",
	   "execution_count": null,
	   "metadata": {
	    "collapsed": true
	   },
	   "outputs": [],
"source": [
"clc \n",
"// Given that\n",
"mu_w = 1.33 // refractive index of water\n",
"mu_g = 1.5 // refractive index of glass\n",
"// Sample Problem 5 on page no. 3.25\n",
"printf('\n # PROBLEM 5 # \n')\n",
"Ip = atan(mu_g / mu_w) * (180 / %pi) // calculation for Brewster angle\n",
"printf('\n Standard formula used \n Ip = atan(mu_g / mu_w) * (180 / pi). \n')\n",
"printf('\n Brewster angle = %f degree',Ip)"
   ]
   }
,
{
		   "cell_type": "markdown",
		   "metadata": {},
		   "source": [
			"## Example 3.6: Calculation_of_Angle_of_incidence_and_angle_of_refraction.sce"
		   ]
		  },
  {
"cell_type": "code",
	   "execution_count": null,
	   "metadata": {
	    "collapsed": true
	   },
	   "outputs": [],
"source": [
"clc \n",
"// Given that\n",
"mu = 1.732 // refractive index of glass\n",
"// Sample Problem 6 on page no. 3.25\n",
"printf('\n # PROBLEM 6 # \n')\n",
"Ip = atan(mu) * (180 / %pi) // by Brewster's law\n",
"r = 90 - Ip// calculation for angle of refraction\n",
"printf('Standard formula used \n mu=tan(Ip)\n')\n",
"printf('\n Angle of incidence = %f degree\n Angle of refraction = %f degree',Ip,r)"
   ]
   }
,
{
		   "cell_type": "markdown",
		   "metadata": {},
		   "source": [
			"## Example 3.7: Calculation_of_Ratio_between_transmitted_intensity_to_incident_intensity.sce"
		   ]
		  },
  {
"cell_type": "code",
	   "execution_count": null,
	   "metadata": {
	    "collapsed": true
	   },
	   "outputs": [],
"source": [
"clc \n",
"// Given that\n",
"alpha = %pi / 3 // angle between polarizer and analyzer\n",
"// Sample Problem 7 on page no. 3.25\n",
"printf('\n # PROBLEM 7 # \n')\n",
"r = (cos(alpha))^2 // where r = transmitted intensity / incident intensity\n",
"printf('\n Standard formula used \n r = (cos(alpha))^2. \n')\n",
"printf('\n Ratio between transmitted intensity to incident intensity = %f ',r)"
   ]
   }
,
{
		   "cell_type": "markdown",
		   "metadata": {},
		   "source": [
			"## Example 3.8: Calculation_of_The_angle_between_characteristics_directions_of_the_sheet.sce"
		   ]
		  },
  {
"cell_type": "code",
	   "execution_count": null,
	   "metadata": {
	    "collapsed": true
	   },
	   "outputs": [],
"source": [
"clc \n",
"// Given that\n",
"r1 = 1/3 // ratio of intensity of transmitted light to the intensity of transmitted beam in first case\n",
"r2 = 1/3 // ratio of intensity of transmitted light to the intensity of incident beam in second case\n",
"p = 50 // percentage reduction in intensity of unpolarized light by the sheet \n",
"// Sample Problem 8 on page no. 3.25\n",
"printf('\n # PROBLEM 8 # \n')\n",
"theta1 = acosd(sqrt(r1)) // calculation for the angle between characteristics directions of the sheet in first case\n",
"theta2 = acosd(sqrt(2*r2)) // calculation for the angle between characteristics directions of the sheet in second case\n",
"printf('\n Standard formula used \n theta = acosd(sqrt(r)). \n')\n",
"printf('\n The angle between characteristics directions of the sheet in first case = %f degree. \n the angle between characteristics directions of the sheet in second case = %f degree.',theta1,theta2)"
   ]
   }
,
{
		   "cell_type": "markdown",
		   "metadata": {},
		   "source": [
			"## Example 3.9: Calculation_of_Angle_between_the_nicol_prisms.sce"
		   ]
		  },
  {
"cell_type": "code",
	   "execution_count": null,
	   "metadata": {
	    "collapsed": true
	   },
	   "outputs": [],
"source": [
"clc \n",
"// Given that\n",
"r = 3 / 4 // ratio of intensity of transmitted light to the intensity of incident light\n",
"// Sample Problem 9 on page no. 3.26\n",
"printf('\n # PROBLEM 9 # \n')\n",
"theta = acos(sqrt(r)) * (180 / %pi) // calculation for angle between the nicol prisms\n",
"printf('\n Standard formula used \n theta = acos(sqrt(r)) * (180 / pi). \n') \n",
"printf('\n Angle between the nicol prisms = %f degree',theta)"
   ]
   }
],
"metadata": {
		  "kernelspec": {
		   "display_name": "Scilab",
		   "language": "scilab",
		   "name": "scilab"
		  },
		  "language_info": {
		   "file_extension": ".sce",
		   "help_links": [
			{
			 "text": "MetaKernel Magics",
			 "url": "https://github.com/calysto/metakernel/blob/master/metakernel/magics/README.md"
			}
		   ],
		   "mimetype": "text/x-octave",
		   "name": "scilab",
		   "version": "0.7.1"
		  }
		 },
		 "nbformat": 4,
		 "nbformat_minor": 0
}
