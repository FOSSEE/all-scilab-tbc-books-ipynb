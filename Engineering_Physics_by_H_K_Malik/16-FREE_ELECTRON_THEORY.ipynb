{
"cells": [
 {
		   "cell_type": "markdown",
	   "metadata": {},
	   "source": [
       "# Chapter 16: FREE ELECTRON THEORY"
	   ]
	},
{
		   "cell_type": "markdown",
		   "metadata": {},
		   "source": [
			"## Example 16.10: Calculation_of_Energy_difference.sce"
		   ]
		  },
  {
"cell_type": "code",
	   "execution_count": null,
	   "metadata": {
	    "collapsed": true
	   },
	   "outputs": [],
"source": [
"clc \n",
"// Given that\n",
"l = 1e-10 //length of box in m\n",
"e = 1.6e-19 // charge on an electron in C\n",
"m = 9.1e-31 // mass of electron in kg\n",
"h = 6.62e-34 // Planck constant in J-sec\n",
"// Sample Problem 10 on page no. 16.18\n",
"printf('\n # PROBLEM 10 # \n')\n",
"printf('Standard formula used \n')\n",
"printf('E = (n^2 * h^2) / (8 * m * l^2) \n')\n",
"n = 1 // for n=1\n",
"E = (n^2 * h^2) / (8 * m * l^2)\n",
"n = 2 // for n=2\n",
"E_ = (n^2 * h^2) / (8 * m * l^2)\n",
"d = (E_ - E) * (1 / e)\n",
"printf('\n Energy difference is %f eV.',d)"
   ]
   }
,
{
		   "cell_type": "markdown",
		   "metadata": {},
		   "source": [
			"## Example 16.1: Calculation_of_Average_energy_of_electron_and_Speed_of_electron.sce"
		   ]
		  },
  {
"cell_type": "code",
	   "execution_count": null,
	   "metadata": {
	    "collapsed": true
	   },
	   "outputs": [],
"source": [
"clc \n",
"// Given that \n",
"t = 0 // temperature in K\n",
"E = 10 // Fermi energy of electron in eV\n",
"e = 1.6e-19 // charge on an electron in C\n",
"m = 9.1e-31 // mass of electron in kg\n",
"// Sample Problem 1 on page no. 16.14\n",
"printf('\n # PROBLEM 1 # \n')\n",
"printf('Standard formula used \n')\n",
"printf('1/2 * m*v^2 = E_0 \n')\n",
"E_ = E * 3 / 5\n",
"v = sqrt(2 * E_ * e / m)\n",
"printf('\n Average energy of electron is %f eV.\n Speed of electron is %e m/sec.',E_,v)"
   ]
   }
,
{
		   "cell_type": "markdown",
		   "metadata": {},
		   "source": [
			"## Example 16.2: Calculation_of_Average_energy_of_electron_and_Speed_of_electron.sce"
		   ]
		  },
  {
"cell_type": "code",
	   "execution_count": null,
	   "metadata": {
	    "collapsed": true
	   },
	   "outputs": [],
"source": [
"clc \n",
"// Given that \n",
"t = 0 // temperature in K\n",
"E = 7.9 // Fermi energy in eV\n",
"e = 1.6e-19 // charge on an electron in C\n",
"m = 9.1e-31 // mass of electron in kg\n",
"// Sample Problem 2 on page no. 16.14\n",
"printf('\n # PROBLEM 2 # \n')\n",
"printf('Standard formula used \n')\n",
"printf('1/2 * m*v^2 = E_0 \n')\n",
"E_ = E * 3 / 5\n",
"v = sqrt(2 * E_ * e / m)\n",
"printf('\n Average energy of electron is %f eV.\n Speed of electron is %e m/sec.',E_,v)"
   ]
   }
,
{
		   "cell_type": "markdown",
		   "metadata": {},
		   "source": [
			"## Example 16.3: Calculation_of_Fermi_energy_and_Speed_of_electron.sce"
		   ]
		  },
  {
"cell_type": "code",
	   "execution_count": null,
	   "metadata": {
	    "collapsed": true
	   },
	   "outputs": [],
"source": [
"clc \n",
"// Given that \n",
"n = 2.5e28 // no. of free electron in per meter cube\n",
"e = 1.6e-19 // charge on an electron in C\n",
"m = 9.1e-31 // mass of electron in kg\n",
"h = 6.62e-34 // Planck constant in J-sec\n",
"// Sample Problem 3 on page no. 16.15\n",
"printf('\n # PROBLEM 3 # \n')\n",
"printf('Standard formula used \n')\n",
"printf('1/2 * m*v^2 = E_0 \n ')\n",
"printf('E_0 = (h^2 /(8 * pi^2 * m))*(3 * pi^2 * n)^(2/3) * (1 / e)\n')\n",
"E = (h^2 / (8 * %pi^2 * m)) * (3 * %pi^2 * n)^(2/3) * (1 / e)\n",
"v = (h / (2 * %pi * m)) * (3 * %pi^2 * n)^(1/3)\n",
"printf('\n Fermi energy is %f eV.\n Speed of electron is %e m/sec.',E,v)"
   ]
   }
,
{
		   "cell_type": "markdown",
		   "metadata": {},
		   "source": [
			"## Example 16.4: Calculation_of_Fermi_energy_and_Average_energy.sce"
		   ]
		  },
  {
"cell_type": "code",
	   "execution_count": null,
	   "metadata": {
	    "collapsed": true
	   },
	   "outputs": [],
"source": [
"clc \n",
"// Given that \n",
"d = 8940 // density of copper in kg/m^3\n",
"w = 63.55 // atomic weight of copper\n",
"t = 0 // temperature in K\n",
"N = 6.02e26 // Avogadro no. in per kg\n",
"m = 9.1e-31 // mass of electron in kg\n",
"h = 6.62e-34 // Planck constant in J-sec\n",
"e = 1.6e-19 // charge on an electron in C\n",
"// Sample Problem 4 on page no. 16.15\n",
"printf('\n # PROBLEM 4 # \n')\n",
"printf('Standard formula used \n')\n",
"printf('1/2 * m*v^2 = E_0 \n ')\n",
"printf('E = (h^2 / (8 * pi^2 * m)) * (3 * pi^2 * N/V)^(2/3) \n')\n",
"V = w / d\n",
"n = N / V \n",
"E = (h^2 / (8 * %pi^2 * m)) * (3 * %pi^2 * n)^(2/3) * (1 / e)\n",
"E_ = 3 * E / 5\n",
"printf('\n Fermi energy is %f eV.\n Average energy is %f eV.',E,E_)"
   ]
   }
,
{
		   "cell_type": "markdown",
		   "metadata": {},
		   "source": [
			"## Example 16.5: Calculation_of_Fermi_energy.sce"
		   ]
		  },
  {
"cell_type": "code",
	   "execution_count": null,
	   "metadata": {
	    "collapsed": true
	   },
	   "outputs": [],
"source": [
"clc \n",
"// Given that \n",
"d = 10.5e6 // density of silver in g/m^3\n",
"w = 108 // atomic weight of silver\n",
"t = 0 // temperature in K\n",
"N = 6.02e23 // Avogadro no. in per kg\n",
"m = 9.1e-31 // mass of electron in kg\n",
"h = 6.62e-34 // Planck constant in J-sec\n",
"e = 1.6e-19 // charge on an electron in C\n",
"// Sample Problem 5 on page no. 16.16\n",
"printf('\n # PROBLEM 5 # \n')\n",
"printf('Standard formula used \n')\n",
"printf('E = (h^2 / (8 * pi^2 * m)) * (3 * pi^2 * N/V)^(2/3) \n')\n",
"V = w / d\n",
"n = N / V \n",
"E = (h^2 / (8 * %pi^2 * m)) * (3 * %pi^2 * n)^(2/3) * (1 / e)\n",
"printf('\n Fermi energy is %f eV.',E)"
   ]
   }
,
{
		   "cell_type": "markdown",
		   "metadata": {},
		   "source": [
			"## Example 16.6: Calculation_of_Fermi_energy_and_Fermi_vector_and_Total_kinetic_energy.sce"
		   ]
		  },
  {
"cell_type": "code",
	   "execution_count": null,
	   "metadata": {
	    "collapsed": true
	   },
	   "outputs": [],
"source": [
"clc \n",
"// Given that \n",
"a = 4e-10 // lattice constant in mr\n",
"t = 0 // temperature in K\n",
"N = 6.02e23 // Avogadro no. in per kg\n",
"m = 9.1e-31 // mass of electron in kg\n",
"h = 6.62e-34 // Planck constant in J-sec\n",
"e = 1.6e-19 // charge on an electron in C\n",
"// Sample Problem 6 on page no. 16.16\n",
"printf('\n # PROBLEM 6 # \n')\n",
"printf('Standard formula used \n')\n",
"printf('E = (h^2 / (8 * pi^2 * m)) * (3 * pi^2 * N/V)^(2/3) \n')\n",
"V = a^3\n",
"n = 4 / V \n",
"E = (h^2 / (8 * %pi^2 * m)) * (3 * %pi^2 * n)^(2/3) * (1 / e)\n",
"k = (3 * %pi^2 *n)^(1/3)\n",
"KE = (3 * E / 5) * (n)\n",
"printf('\n Fermi energy is %f eV.\n Fermi vector is %e per m.\n Total kinetic energy is %e eV.',E,k,KE)"
   ]
   }
,
{
		   "cell_type": "markdown",
		   "metadata": {},
		   "source": [
			"## Example 16.7: Calculation_of_Drift_velocity_of_electron.sce"
		   ]
		  },
  {
"cell_type": "code",
	   "execution_count": null,
	   "metadata": {
	    "collapsed": true
	   },
	   "outputs": [],
"source": [
"clc \n",
"// Given that\n",
"d = 0.9e-3 // diameter of aluminium in m\n",
"i = 6 // current in amp\n",
"n = 4.5e28 // no. of electron available for conduction per meter^3 \n",
"e =  1.6e-19 // charge on an electron in C\n",
"// Sample Problem 7 on page no. 16.17\n",
"printf('\n # PROBLEM 7 # \n')\n",
"printf('Standard formula used \n')\n",
"printf('J = I*A \n v_d = J/ne \n')\n",
"J = i * 4 / (%pi * (d)^2)\n",
"v = J / (n * e)\n",
"printf('\n Drift velocity of electron is %e m/sec.',v)"
   ]
   }
,
{
		   "cell_type": "markdown",
		   "metadata": {},
		   "source": [
			"## Example 16.8: Calculation_of_Current_density_and_Drift_velocity.sce"
		   ]
		  },
  {
"cell_type": "code",
	   "execution_count": null,
	   "metadata": {
	    "collapsed": true
	   },
	   "outputs": [],
"source": [
"clc \n",
"// Given that \n",
"d = 8.92e3 // density of copper in kg/m^3\n",
"i = 5 // current in amp\n",
"w = 63.5 // atomic weight of copper\n",
"r = 0.7e-3 // radius in meter\n",
"N = 6.02e28 // Avogadro no.\n",
"e = 1.6e-19 // charge on an electron in C\n",
"// Sample Problem 8 on page no. 16.17\n",
"printf('\n # PROBLEM 8 # \n')\n",
"printf('Standard formula used \n')\n",
"printf(' J = I*A \n v_d = J/ne \n')\n",
"V = (w / d)\n",
"n = N / V \n",
"J = i / (%pi * r^2)\n",
"v = J / (n * e)\n",
"printf('\n Current density = %e amp/m^2.\n Drift velocity is %e m/sec.',J,v)"
   ]
   }
,
{
		   "cell_type": "markdown",
		   "metadata": {},
		   "source": [
			"## Example 16.9: Calculation_of_Fermi_Energy.sce"
		   ]
		  },
  {
"cell_type": "code",
	   "execution_count": null,
	   "metadata": {
	    "collapsed": true
	   },
	   "outputs": [],
"source": [
"clc \n",
"// Given that\n",
"d1= 0.534*10^3 // densiy of Li in kg/m^3\n",
"d2= 0.971*10^3 // densiy of Na in kg/m^3\n",
"d3= 0.86*10^3 // densiy of K in kg/m^3\n",
"w1 = 6.939 // atomic weight of Li \n",
"w2 = 22.99 // atomic weight of Na\n",
"w3 = 39.202 // atomic weight of K\n",
"h = 6.62e-34 // Planck constant in J sec\n",
"m = 9.1e-31 // mass of an electron in kg\n",
"NA = 6.023e26 // Avogadro no.\n",
"e = 1.6e-19 // charge on an electron in C\n",
"// Sample Problem 9 on page no. 16.17\n",
"printf('\n # PROBLEM 9 # \n')\n",
"printf('Standard formula used \n')\n",
"printf('E = h^2 / (8 * m * pi^2) * (3*pi^2*N/V)^2/3 \n')\n",
"// For Li\n",
"n1 = NA * d1/w1\n",
"E1 = h^2/(8*%pi^2*m)*(3*%pi^2*n1)^(2/3)\n",
"// For Na\n",
"n2 = NA * d2/w2\n",
"E2 = h^2/(8*%pi^2*m)*(3*%pi^2*n2)^(2/3)\n",
"// For K\n",
"n3 = NA * d3/w3\n",
"E3 = h^2/(8*%pi^2*m)*(3*%pi^2*n3)^(2/3)\n",
"printf('\n Fermi Energy \n For Li is %f eV.\n For Na is %f eV. \n For K is %f eV',E1/e,E2/e,E3/e)"
   ]
   }
],
"metadata": {
		  "kernelspec": {
		   "display_name": "Scilab",
		   "language": "scilab",
		   "name": "scilab"
		  },
		  "language_info": {
		   "file_extension": ".sce",
		   "help_links": [
			{
			 "text": "MetaKernel Magics",
			 "url": "https://github.com/calysto/metakernel/blob/master/metakernel/magics/README.md"
			}
		   ],
		   "mimetype": "text/x-octave",
		   "name": "scilab",
		   "version": "0.7.1"
		  }
		 },
		 "nbformat": 4,
		 "nbformat_minor": 0
}
