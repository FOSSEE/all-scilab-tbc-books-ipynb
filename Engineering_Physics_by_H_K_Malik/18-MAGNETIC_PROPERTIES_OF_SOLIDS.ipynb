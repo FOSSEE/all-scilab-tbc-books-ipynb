{
"cells": [
 {
		   "cell_type": "markdown",
	   "metadata": {},
	   "source": [
       "# Chapter 18: MAGNETIC PROPERTIES OF SOLIDS"
	   ]
	},
{
		   "cell_type": "markdown",
		   "metadata": {},
		   "source": [
			"## Example 18.10: Calculation_of_Number_of_ampere_turns.sce"
		   ]
		  },
  {
"cell_type": "code",
	   "execution_count": null,
	   "metadata": {
	    "collapsed": true
	   },
	   "outputs": [],
"source": [
"clc \n",
"// Given that \n",
"l = 1 // length of iron rod in m\n",
"a = 4e-4 // area in m^2\n",
"mu = 50e-4 // permeability of iron in H/m\n",
"Phi = 4e-4 // magnetic flux in Weber\n",
"// Sample Problem 10 on page no. 18.24\n",
"printf('\n # PROBLEM 10 # \n')\n",
"printf('Standard formula used \n ')\n",
"printf('B = mu*N*I \n')\n",
"B = Phi / a\n",
"NI = B / mu\n",
"printf('\n Number of ampere turns is %d A/m. ',NI)"
   ]
   }
,
{
		   "cell_type": "markdown",
		   "metadata": {},
		   "source": [
			"## Example 18.11: Calculation_of_Current_through_the_winding.sce"
		   ]
		  },
  {
"cell_type": "code",
	   "execution_count": null,
	   "metadata": {
	    "collapsed": true
	   },
	   "outputs": [],
"source": [
"clc \n",
"// Given that \n",
"n = 200 // no. of turns \n",
"l = 0.5 // the mean length of iron wire in m\n",
"phi = 4e-4 // magnetic flux in Weber\n",
"a = 4e-4 // area of cross section in m^2\n",
"mu = 6.5e-4 // permeability of iron in wb/Am\n",
"mu_ = 4 * %pi * 1e-7 // magnetic permeability of space\n",
"// Sample Problem 11 on page no. 18.25\n",
"printf('\n # PROBLEM 11 # \n')\n",
"printf('Standard formula used \n ')\n",
"printf('B = mu*N*I \n')\n",
"B = phi / a\n",
"N = n / l\n",
"I = B / (mu * N)\n",
"printf('\n Current through the winding is %f A. ',I)"
   ]
   }
,
{
		   "cell_type": "markdown",
		   "metadata": {},
		   "source": [
			"## Example 18.12: Calculation_of_Radius_of_atom.sce"
		   ]
		  },
  {
"cell_type": "code",
	   "execution_count": null,
	   "metadata": {
	    "collapsed": true
	   },
	   "outputs": [],
"source": [
"clc \n",
"// Given that \n",
"X = -5.6e-6 // magnetic susceptibility of material\n",
"a = 2.55e-10 // lattice constant in m\n",
"H = 1e4 // magnetic field in A/m\n",
"mu_ = 4 * %pi * 1e-7 // magnetic permittivity of space\n",
"m = 9.1e-31 // mass of electron in kg\n",
"e = 1.6e-19 // charge in an electron in C\n",
"// Sample Problem 12 on page no. 18.25\n",
"printf('\n # PROBLEM 12 # \n')\n",
"printf('Standard formula used \n ')\n",
"printf('  Chi = mu_0*Z*e^2 *N*R^2 /(6*m) \n')\n",
"N = 2 / a^3\n",
"z = 1 \n",
"R = ((-X * 6 * m) / (mu_ * z * e^2 * N))^(1/2)\n",
"printf('\n Radius of  atom is %f A.',R * 1e10)"
   ]
   }
,
{
		   "cell_type": "markdown",
		   "metadata": {},
		   "source": [
			"## Example 18.13: Calculation_of_Susceptibility.sce"
		   ]
		  },
  {
"cell_type": "code",
	   "execution_count": null,
	   "metadata": {
	    "collapsed": true
	   },
	   "outputs": [],
"source": [
"clc \n",
"// Given that \n",
"N = 6.5e25 // no. of atom per m^3\n",
"T = 300 // room temperature in K\n",
"mu_ = 4 * %pi * 1e-7 // magnetic permittivity of space\n",
"k = 1.38e-23 // Boltzmann's constant in J/K\n",
"m = 9.1e-31 // mass of electron in kg\n",
"e = 1.6e-19 // charge in an electron in C\n",
"h = 6.62e-34 // Planck constant in J sec\n",
"// Sample Problem 13 on page no. 18.25\n",
"printf('\n # PROBLEM 13 # \n')\n",
"printf('Standard formula used \n ')\n",
"printf('  Chi = mu_0*N*M^2 /(3*k*t) \n')\n",
"M = (e * h) / (4 * %pi * m)\n",
"X = (mu_ * N * M^2) / (3 * k * T)\n",
"printf('\n Susceptibility is %e',X)"
   ]
   }
,
{
		   "cell_type": "markdown",
		   "metadata": {},
		   "source": [
			"## Example 18.14: Calculation_of_Magnetization.sce"
		   ]
		  },
  {
"cell_type": "code",
	   "execution_count": null,
	   "metadata": {
	    "collapsed": true
	   },
	   "outputs": [],
"source": [
"clc \n",
"// Given that \n",
"w = 168.5 // molecular weight \n",
"d = 4370 // density of material in kg/m^3\n",
"H = 2e5 // magnetic field in A/m\n",
"T = 300 // room temperature in K\n",
"mu_ = 4 * %pi * 1e-7 // magnetic permittivity of space]\n",
"NA = 6.02e26 // Avogadro no. in per kg\n",
"mu_b = 9.24e-24 // Bohr magnetons in Am^2\n",
"k = 1.38e-23 // Boltzmann's constant in J/K\n",
"// Sample Problem 14 on page no. 18.26\n",
"printf('\n # PROBLEM 14 # \n')\n",
"printf('Standard formula used \n ')\n",
"printf('  Chi = mu_0*N*M^2 /(3*k*t) \n')\n",
"N = d * NA / w\n",
"X = (mu_ * N * (2 * mu_b)^2) / (3 * k * T)\n",
"I = X * H\n",
"printf('\n Magnetisation is %f A/m',I)"
   ]
   }
,
{
		   "cell_type": "markdown",
		   "metadata": {},
		   "source": [
			"## Example 18.15: Calculation_of_Total_loss_of_energy.sce"
		   ]
		  },
  {
"cell_type": "code",
	   "execution_count": null,
	   "metadata": {
	    "collapsed": true
	   },
	   "outputs": [],
"source": [
"clc \n",
"// Given that\n",
"A = 2500 // area of hysteresis loop \n",
"m = 10000 // weight in kg\n",
"d = 7.5 // density of material in g/cm^3\n",
"f = 50 // frequency in Hz\n",
"// Sample Problem 15 on page no. 18.26\n",
"printf('\n # PROBLEM 15 # \n')\n",
"printf('Standard formula used \n ')\n",
"printf('  M = V*d \n')\n",
"E = f * A * 3600\n",
"V = m / d\n",
"L = E * V\n",
"printf('\n Total loss of energy per hour is %e ergs.',L)"
   ]
   }
,
{
		   "cell_type": "markdown",
		   "metadata": {},
		   "source": [
			"## Example 18.16: Calculation_of_Current_in_solenoid.sce"
		   ]
		  },
  {
"cell_type": "code",
	   "execution_count": null,
	   "metadata": {
	    "collapsed": true
	   },
	   "outputs": [],
"source": [
"clc \n",
"// Given that\n",
"H = 5e3 // coercivity in A/m\n",
"l = 0.10 // length of solenoid in m\n",
"n = 50 // no. of turns \n",
"// Sample Problem 16 on page no. 18.27\n",
"printf('\n # PROBLEM 16 # \n')\n",
"printf('Standard formula used \n ')\n",
"printf(' H=N*i \n')\n",
"N = n / l\n",
"i = H / N\n",
"printf('\n Current in solenoid should be %d A.',i)"
   ]
   }
,
{
		   "cell_type": "markdown",
		   "metadata": {},
		   "source": [
			"## Example 18.17: Calculation_of_Number_of_turns.sce"
		   ]
		  },
  {
"cell_type": "code",
	   "execution_count": null,
	   "metadata": {
	    "collapsed": true
	   },
	   "outputs": [],
"source": [
"clc \n",
"// Given that\n",
"l = 0.50 // length of iron rod in m\n",
"a = 4e-4 // area of cross section of rod in m^2\n",
"mu = 65e-4 // permeability of iron in H/m\n",
"fi = 4e-5 // flux in weber \n",
"// Sample Problem 17 on page no. 18.27\n",
"printf('\n # PROBLEM 17 # \n')\n",
"printf('Standard formula used \n ')\n",
"printf('  N =H*l \n')\n",
"B = fi / a\n",
"H = B / mu\n",
"N = H * l\n",
"printf('\n Number of turns are %f',N)"
   ]
   }
,
{
		   "cell_type": "markdown",
		   "metadata": {},
		   "source": [
			"## Example 18.18: Calculation_of_Permeability_and_Susceptibility.sce"
		   ]
		  },
  {
"cell_type": "code",
	   "execution_count": null,
	   "metadata": {
	    "collapsed": true
	   },
	   "outputs": [],
"source": [
"clc \n",
"// Given that\n",
"H = 600 // magnetic flux in A/m\n",
"a = 0.2e-4 // area of cross section of rod in m^2\n",
"phi = 2.4e-5 // flux in weber \n",
"mu_ = 4*%pi * 1e-7 // permeability of space in N/A^2\n",
"// Sample Problem 18 on page no. 18.27\n",
"printf('\n # PROBLEM 18 # \n')\n",
"printf('Standard formula used \n ')\n",
"printf(' mu_r = 1 + Chi \n')\n",
"B = phi / a\n",
"mu = B / H\n",
"X = mu / mu_ - 1\n",
"printf('\n Permeability is %f N/A^2.\n Susceptibility is %f.',mu,X)"
   ]
   }
,
{
		   "cell_type": "markdown",
		   "metadata": {},
		   "source": [
			"## Example 18.19: Calculation_of_Relative_permeability.sce"
		   ]
		  },
  {
"cell_type": "code",
	   "execution_count": null,
	   "metadata": {
	    "collapsed": true
	   },
	   "outputs": [],
"source": [
"clc \n",
"// Given that\n",
"X = 9.5e-9 // susceptibility of medium \n",
"mu_ = 4*%pi * 1e-7 // permeability of space in N/A^2\n",
"// Sample Problem 19 on page no. 18.28\n",
"printf('\n # PROBLEM 19 # \n')\n",
"printf('Standard formula used \n ')\n",
"printf(' mu_r = 1 + Chi \n')\n",
"mu = mu_ * (1 + X)\n",
"mu_r = mu / mu_\n",
"printf('\n Relative permeability is 1 + %e',mu_r -1)"
   ]
   }
,
{
		   "cell_type": "markdown",
		   "metadata": {},
		   "source": [
			"## Example 18.1: Calculation_of_Magnetic_moment_and_Bohr_magneton.sce"
		   ]
		  },
  {
"cell_type": "code",
	   "execution_count": null,
	   "metadata": {
	    "collapsed": true
	   },
	   "outputs": [],
"source": [
"clc \n",
"// Given that \n",
"r = 0.53e-10 // radius of orbit in m\n",
"f = 6.6e15 // frequency of revolution in Hz\n",
"h = 6.6e-34 // Planck constant in J sec\n",
"e = 1.6e-19 // charge on an electron in C\n",
"m = 9.1e-31 // mass of electron in kg\n",
"// Sample Problem 1 on page no. 18.21\n",
"printf('\n # PROBLEM 1 # \n')\n",
"printf('Standard formula used \n ')\n",
"printf(' M = I*a \n')\n",
"M = e * f * %pi * r^2\n",
"mu = (e * h) / (4 * %pi * m) \n",
"printf('\n Magnetic moment is %e Am^2.\n Bohr magneton is %e J/T.',M,mu)"
   ]
   }
,
{
		   "cell_type": "markdown",
		   "metadata": {},
		   "source": [
			"## Example 18.20: Calculation_of_Energy_loss.sce"
		   ]
		  },
  {
"cell_type": "code",
	   "execution_count": null,
	   "metadata": {
	    "collapsed": true
	   },
	   "outputs": [],
"source": [
"clc \n",
"// Given that\n",
"a = 250 // area of the B-H loop in J/m^3\n",
"f = 50 // frequency in Hz\n",
"d = 7.5e3 // density of iron in kg/m^3\n",
"m = 100 // mass of core in kg\n",
"// Sample Problem 20 on page no. 18.28\n",
"printf('\n # PROBLEM 20 # \n')\n",
"printf('Standard formula used \n ')\n",
"printf(' M = V*d \n')\n",
"V = m / d\n",
"n = 3600 * f\n",
"A = a * V * n\n",
"printf('\n Energy loss per hour is %e J.',A)"
   ]
   }
,
{
		   "cell_type": "markdown",
		   "metadata": {},
		   "source": [
			"## Example 18.21: Calculation_of_Hysteresis_loss.sce"
		   ]
		  },
  {
"cell_type": "code",
	   "execution_count": null,
	   "metadata": {
	    "collapsed": true
	   },
	   "outputs": [],
"source": [
"clc \n",
"// Given that\n",
"B_max = 1.375 // maximum value of B in Wb/m^2\n",
"a = 0.513 // area of the loop in cm^2\n",
"k = 1000 // value of 1 cm on x axis in A/m\n",
"k_ = 1 // value of 1 cm on y axis in Wb/m^2\n",
"B = 1.375 // alternating magnetic flux density in Wb/m^2\n",
"v = 1e-3 // volume of specimen in m^3\n",
"f = 50 // frequency in Hz\n",
"// Sample Problem 21 on page no. 18.28\n",
"printf('\n # PROBLEM 21 # \n')\n",
"printf('Standard formula used \n K = a * k * k_.\n')\n",
"K = a * k * k_\n",
"L = K * v * f\n",
"printf('\n Hysteresis loss per sec is %f W',L)"
   ]
   }
,
{
		   "cell_type": "markdown",
		   "metadata": {},
		   "source": [
			"## Example 18.2: Calculation_of_Magnetization_and_Flux_density_and_Relative_permeability.sce"
		   ]
		  },
  {
"cell_type": "code",
	   "execution_count": null,
	   "metadata": {
	    "collapsed": true
	   },
	   "outputs": [],
"source": [
"clc \n",
"// Given that \n",
"X = -4.2e-6 // magnetic susceptibility\n",
"H = 1.19e5 // magnetic field in A/m\n",
"mu_ = 4 * %pi * 1e-7 // magnetic permeability of space\n",
"// Sample Problem 2 on page no. 18.21\n",
"printf('\n # PROBLEM 2 # \n')\n",
"printf('Standard formula used \n ')\n",
"printf(' I = cai*H  \n')\n",
"I = X * H\n",
"B = mu_ * (H + I)\n",
"mur = (1 + I/H)\n",
"printf('\n Magnetisation is %f A/m.\n Flux density is %f T.\n Relative permeability is %f .',I,B,mur)"
   ]
   }
,
{
		   "cell_type": "markdown",
		   "metadata": {},
		   "source": [
			"## Example 18.3: Calculation_of_Percentage_increase_in_magnetic_induction.sce"
		   ]
		  },
  {
"cell_type": "code",
	   "execution_count": null,
	   "metadata": {
	    "collapsed": true
	   },
	   "outputs": [],
"source": [
"clc \n",
"// Given that \n",
"X = 1.2e-5 // magnetic susceptibility of magnesium\n",
"// Sample Problem 3 on page no. 18.22\n",
"printf('\n # PROBLEM 3 # \n')\n",
"printf('Standard formula used \n ')\n",
"printf(' B = mu_0*H \n')\n",
"p = 100 * X\n",
"printf('\n Percentage increase in magnetic induction is %f percent.',p)"
   ]
   }
,
{
		   "cell_type": "markdown",
		   "metadata": {},
		   "source": [
			"## Example 18.4: Calculation_of_Magnetization_and_Magnetic_flux_density.sce"
		   ]
		  },
  {
"cell_type": "code",
	   "execution_count": null,
	   "metadata": {
	    "collapsed": true
	   },
	   "outputs": [],
"source": [
"clc \n",
"// Given that \n",
"X = -0.4e-5 // magnetic susceptibility of material\n",
"H = 1e4 // magnetic field in A/m\n",
"mu_ = 4 * %pi * 1e-7 // magnetic permittivity of space\n",
"// Sample Problem 4 on page no. 18.22\n",
"printf('\n # PROBLEM 4 # \n')\n",
"printf('Standard formula used \n ')\n",
"printf(' I = Chi *H \n')\n",
"I = X * H\n",
"B = mu_ * (H + I)\n",
"printf('\n Magnetisation is %f A/m.\n Magnetic flux density is %f T.',I,B)"
   ]
   }
,
{
		   "cell_type": "markdown",
		   "metadata": {},
		   "source": [
			"## Example 18.5: Calculation_of_Permeability_of_aluminium.sce"
		   ]
		  },
  {
"cell_type": "code",
	   "execution_count": null,
	   "metadata": {
	    "collapsed": true
	   },
	   "outputs": [],
"source": [
"clc \n",
"// Given that \n",
"X = 2.3e-5 // magnetic susceptibility of aluminium\n",
"mu_ = 4 * %pi * 1e-7 // magnetic permeability of space\n",
"// Sample Problem 5 on page no. 18.23\n",
"printf('\n # PROBLEM 5 # \n')\n",
"printf('Standard formula used \n ')\n",
"printf(' mu_r = 1 + Chi \n')\n",
"mur = 1 + X\n",
"mu = mu_ * mur\n",
"printf('\n Permeability of aluminium is %e N/A^2.',mu)"
   ]
   }
,
{
		   "cell_type": "markdown",
		   "metadata": {},
		   "source": [
			"## Example 18.6: Calculation_of_Absolute_permeability_and_Relative_permeability.sce"
		   ]
		  },
  {
"cell_type": "code",
	   "execution_count": null,
	   "metadata": {
	    "collapsed": true
	   },
	   "outputs": [],
"source": [
"clc \n",
"// Given that \n",
"X = 9.4e-2 // magnetic susceptibility\n",
"mu_ = 4 * %pi * 1e-7 // magnetic permeability of space\n",
"// Sample Problem 6 on page no. 18.23\n",
"printf('\n # PROBLEM 6 # \n')\n",
"printf('Standard formula used \n ')\n",
"printf(' mu_r = 1 + Chi \n')\n",
"mu_r = 1 + X\n",
"mu = mu_ * mu_r\n",
"printf('\n Absolute permeability is %e N/A^2.\n Relative permeability is %f.',mu,mu_r)"
   ]
   }
,
{
		   "cell_type": "markdown",
		   "metadata": {},
		   "source": [
			"## Example 18.7: Calculation_of_Magnetic_susceptibility_and_Relative_permeability.sce"
		   ]
		  },
  {
"cell_type": "code",
	   "execution_count": null,
	   "metadata": {
	    "collapsed": true
	   },
	   "outputs": [],
"source": [
"clc \n",
"// Given that \n",
"mu = 0.126 // maximum value of the permeability in N/A^2\n",
"mu_ = 4 * %pi * 1e-7 // magnetic permeability of space\n",
"// Sample Problem 7 on page no. 18.23\n",
"printf('\n # PROBLEM 7 # \n')\n",
"printf('Standard formula used \n ')\n",
"printf(' mu_r = 1 + Chi \n')\n",
"mu_r = mu / mu_\n",
"X = mu_r - 1\n",
"printf('\n Magnetic susceptibility is %f .\n Relative permeability is %e',X,mu_r)"
   ]
   }
,
{
		   "cell_type": "markdown",
		   "metadata": {},
		   "source": [
			"## Example 18.8: Calculation_of_Diamagnetic_susceptibility.sce"
		   ]
		  },
  {
"cell_type": "code",
	   "execution_count": null,
	   "metadata": {
	    "collapsed": true
	   },
	   "outputs": [],
"source": [
"clc \n",
"// Given that \n",
"r = 0.6e-10 // radius of the atom\n",
"N = 28e26 // no. of electron in per m^3\n",
"mu_ = 4 * %pi * 1e-7 // magnetic permeability of space\n",
"Z = 2 // atomic no. of helium\n",
"m = 9.1e-31 // mass of an electron in kg\n",
"e = 1.6e-19 // charge on an electron in C\n",
"// Sample Problem 8 on page no. 18.24\n",
"printf('\n # PROBLEM 8 # \n')\n",
"printf('Standard formula used \n ')\n",
"printf('  Chi = mu_0*Z*e^2 *N*R^2 /(6*m) \n')\n",
"Chi = -(mu_ * Z * N * r^2 * e^2) / (6 * m)\n",
"printf('\n Diamagnetic susceptibility is %e .',Chi)"
   ]
   }
,
{
		   "cell_type": "markdown",
		   "metadata": {},
		   "source": [
			"## Example 18.9: Calculation_of_Permeability_and_Susceptibility.sce"
		   ]
		  },
  {
"cell_type": "code",
	   "execution_count": null,
	   "metadata": {
	    "collapsed": true
	   },
	   "outputs": [],
"source": [
"clc \n",
"// Given that \n",
"H = 1e3 // magnetisation field in A/m\n",
"phi = 2e-5 // magnetic flux in Weber\n",
"a = 0.2e-4 // area of cross section in m^2\n",
"mu_ = 4 * %pi * 1e-7 // magnetic permeability of space\n",
"// Sample Problem 9 on page no. 18.24\n",
"printf('\n # PROBLEM 9 # \n')\n",
"printf('Standard formula used \n ')\n",
"printf(' mu_r = 1 + Chi \n')\n",
"B = phi / a\n",
"mu = B / H\n",
"X = mu / mu_ - 1\n",
"printf('\n Permeability is %e N/A^2.\n Susceptibility is %f .',mu,X)"
   ]
   }
],
"metadata": {
		  "kernelspec": {
		   "display_name": "Scilab",
		   "language": "scilab",
		   "name": "scilab"
		  },
		  "language_info": {
		   "file_extension": ".sce",
		   "help_links": [
			{
			 "text": "MetaKernel Magics",
			 "url": "https://github.com/calysto/metakernel/blob/master/metakernel/magics/README.md"
			}
		   ],
		   "mimetype": "text/x-octave",
		   "name": "scilab",
		   "version": "0.7.1"
		  }
		 },
		 "nbformat": 4,
		 "nbformat_minor": 0
}
