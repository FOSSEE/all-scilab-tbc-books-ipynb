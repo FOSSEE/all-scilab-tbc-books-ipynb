{
"cells": [
 {
		   "cell_type": "markdown",
	   "metadata": {},
	   "source": [
       "# Chapter 8: SOUND WAVES AND ACOUSTICS OF BUILDINGS"
	   ]
	},
{
		   "cell_type": "markdown",
		   "metadata": {},
		   "source": [
			"## Example 8.1: Calculation_of_Wavelength_range_of_the_sound_wave.sce"
		   ]
		  },
  {
"cell_type": "code",
	   "execution_count": null,
	   "metadata": {
	    "collapsed": true
	   },
	   "outputs": [],
"source": [
"clc \n",
"// Given that\n",
"v = 34500 // speed of sound in cm/sec\n",
"f = 20 // lower limit of frequency for human hearing ear in Hz\n",
"f_ = 20000 // upper limit of frequency for human hearing ear in Hz\n",
"// Sample Problem 1 on page no. 8.17\n",
"printf('\n # PROBLEM 1 # \n')\n",
"printf(' Standard formula used \n')\n",
"printf(' V = f*lambda \n \n' )\n",
"lambda = v / f\n",
"lambda_ = v / f_\n",
"printf('\n Wavelength range of the sound wave is %f cm to %f cm.',lambda_,lambda)"
   ]
   }
,
{
		   "cell_type": "markdown",
		   "metadata": {},
		   "source": [
			"## Example 8.2: Calculation_of_Velocity_of_sound_in_the_air.sce"
		   ]
		  },
  {
"cell_type": "code",
	   "execution_count": null,
	   "metadata": {
	    "collapsed": true
	   },
	   "outputs": [],
"source": [
"clc \n",
"// Given that\n",
"T = 373 // temperature in kelvin\n",
"d = 1.293e-3 // density of air at S.T.P. in gm/cm^3\n",
"d_ = 13.6 // density of mercury in gm/cm^3\n",
"s = 0.2417 // specific heat of air at constant pressure \n",
"s_ = 0.1715 // specific heat of air at constant volume\n",
"g = 980 // gravitational constant i dynes/cm^3\n",
"// Sample Problem 2 on page no. 8.18\n",
"printf('\n # PROBLEM 2 # \n')\n",
"printf(' Standard formula used \n')\n",
"printf(' nu = (gamma*p/rho)^1/2  \n gamma = C_p/C_v \n p =rho*g*h \n' )\n",
"p = 76 * d_ * g\n",
"gama = s / s_\n",
"v = sqrt(gama * (p / d))\n",
"v_ = v * sqrt(T / 273)\n",
"printf('\n Velocity of sound in the air in %f cm/sec.',v_)"
   ]
   }
,
{
		   "cell_type": "markdown",
		   "metadata": {},
		   "source": [
			"## Example 8.3: Calculation_of_Ratio_of_two_principal_specific_heats_of_air.sce"
		   ]
		  },
  {
"cell_type": "code",
	   "execution_count": null,
	   "metadata": {
	    "collapsed": true
	   },
	   "outputs": [],
"source": [
"clc \n",
"// Given that\n",
"n = 512 // frequency of tuning fork in Hz \n",
"T = 290 // temperature in kelvin\n",
"lambda = 66.5 // wavelength of the gas emitted by tuning fork in cm\n",
"d = 1.293e-3 // density of air at S.T.P. in gm/cm^3\n",
"d_ = 13.6 // density of mercury in gm/cm^3\n",
"g = 980 // gravitational constant i dynes/cm^3\n",
"// Sample Problem 3 on page no. 8.18\n",
"printf('\n # PROBLEM 3 # \n')\n",
"printf(' Standard formula used \n')\n",
"printf(' nu = (gamma*p/rho)^1/2  \n p =rho*g*h \n\n' )\n",
"p = 76 * d_ * g// calculation for pressure\n",
"v_ = n * lambda// calculation for velocity of sound in air at temperature 17 c \n",
"v = v_ * sqrt(273 / T)// calculation for velocity of sound in air at temp 0 c\n",
"gama = v^2 * (d / p)// calculation for ratio of two specific heat\n",
"printf('\n Ratio of  two principal specific heats of air is %f',gama)"
   ]
   }
,
{
		   "cell_type": "markdown",
		   "metadata": {},
		   "source": [
			"## Example 8.4: EX8_4.sce"
		   ]
		  },
  {
"cell_type": "code",
	   "execution_count": null,
	   "metadata": {
	    "collapsed": true
	   },
	   "outputs": [],
"source": [
"clc \n",
"// Given that\n",
"A = 15 * 30 // area of the floor in square meter\n",
"h = 6 // height of hall in meter\n",
"N = 500 // no. of people\n",
"t = 1.36 // optimum time for orchestral music in sec\n",
"k = 0.44 // absorption coefficient per person\n",
"// Sample Problem 4 on page no. 8.19\n",
"printf('\n # PROBLEM 4 # \n')\n",
"printf(' Standard formula used \n')\n",
"printf(' T = 0.161 V/a*S \n' )\n",
"aS = 0.161 * ((A * h) / t)\n",
"a = N * k\n",
"a_ = aS - a\n",
"w = a_ + (N / 2) * k + (N / 2) * 0.02\n",
"t = (0.161 * (A * h)) / w\n",
"printf('\n Coefficient of absorption to be provided by the walls, floor and ceiling when the hall is fully occupied is %f SI unit.\n Reverberation time if only half upholstered seats are occupied is %f sec.',a_,t)"
   ]
   }
,
{
		   "cell_type": "markdown",
		   "metadata": {},
		   "source": [
			"## Example 8.5: Calculation_of_The_total_absorption_constant.sce"
		   ]
		  },
  {
"cell_type": "code",
	   "execution_count": null,
	   "metadata": {
	    "collapsed": true
	   },
	   "outputs": [],
"source": [
"clc \n",
"// Given that\n",
"V = 8000 // volume of hall in meter^3\n",
"t = 1.8 // reverberation time in sec\n",
"// Sample Problem 5 on page no. 8.19\n",
"printf('\n # PROBLEM 5 # \n')\n",
"printf(' Standard formula used \n')\n",
"printf(' T = 0.161 V/a*S \n' )\n",
"aS = (0.161 * V) / t// calculation for the total absorption constant\n",
"printf('\n The total absorption constant = %f O.W.U.',aS)"
   ]
   }
,
{
		   "cell_type": "markdown",
		   "metadata": {},
		   "source": [
			"## Example 8.6: Calculation_of_Reverberation_time.sce"
		   ]
		  },
  {
"cell_type": "code",
	   "execution_count": null,
	   "metadata": {
	    "collapsed": true
	   },
	   "outputs": [],
"source": [
"clc \n",
"// Given that\n",
"V = 1700 // volume in meter^3\n",
"a1 = 98 // area of plastered wall in m^2\n",
"a2 = 144 // area of plastered ceiling in m^2\n",
"a3 = 15 // area of wooden door in m^2\n",
"a4 = 88 // area of cushioned chairs in m^2\n",
"a5 = 150 // area of audience (each person) in m^2\n",
"k1 = 0.03 // coefficient of absorption for plastered wall in O.W.U.\n",
"k2 = 0.04 // coefficient of absorption for plastered ceiling in O.W.U.\n",
"k3 = 0.06 // coefficient of absorption for wooden door in O.W.U.\n",
"k4 = 1 // coefficient of absorption for cushioned chair in O.W.U.\n",
"k5 = 4.7 // coefficient of absorption for audience (each person) in O.W.U.\n",
"// Sample Problem 6 on page no. 8.20\n",
"printf('\n # PROBLEM 6 # \n')\n",
"printf(' Standard formula used \n')\n",
"printf(' T = 0.161 V/a*S \n' )\n",
"A1 = a1 * k1// calculation for the absorption by the plaster wall\n",
"A2 = a2 * k2// calculation for the absorption by the plastered ceiling\n",
"A3 = a3 * k3// calculation for wooden door\n",
"A4 = a4 * k4// calculation for cushioned chairs \n",
"A = A1 + A2 + A3 + A4// calculation for total absorption\n",
"T = 0.161 * (V / A)// calculation for reverberation time\n",
"printf('\n Reverberation time is %f sec.',T)"
   ]
   }
,
{
		   "cell_type": "markdown",
		   "metadata": {},
		   "source": [
			"## Example 8.7: Calculation_of_Reverberation_time.sce"
		   ]
		  },
  {
"cell_type": "code",
	   "execution_count": null,
	   "metadata": {
	    "collapsed": true
	   },
	   "outputs": [],
"source": [
"clc \n",
"// Given that\n",
"V = 1400 // volume of hall in meter^3\n",
"C = 110 // seating capacity of hall \n",
"a1 = 98 // area of plastered wall in m^2\n",
"a2 = 144 // area of plastered ceiling in m^2\n",
"a3 = 15 // area of wooden door in m^2\n",
"a4 = 88 // area of cushioned chairs in m^2\n",
"a5 = 150 // area of audience (each person) in m^2\n",
"k1 = 0.03 // coefficient of absorption for plastered wall in O.W.U.\n",
"k2 = 0.04 // coefficient of absorption for plastered ceiling in O.W.U.\n",
"k3 = 0.06 // coefficient of absorption for wooden door in O.W.U.\n",
"k4 = 1 // coefficient of absorption for cushioned chair in O.W.U.\n",
"k5 = 4.7 // coefficient of absorption for audience (each person) in O.W.U.\n",
"// Sample Problem 7 on page no. 8.20\n",
"printf('\n # PROBLEM 7 # \n')\n",
"printf(' Standard formula used \n')\n",
"printf(' T = 0.161 V/a*S \n' )\n",
"A1 = a1 * k1// calculation for the absorption by the plaster wall\n",
"A2 = a2 * k2// calculation for the absorption by the plastered ceiling\n",
"A3 = a3 * k3// calculation for wooden door\n",
"A4 = a4 * k4// calculation for cushioned chairs \n",
"A5 = C*k5 // the absorption due to persons\n",
"A = A1 + A2 + A3 + A4 + A5 // calculation for total absorption\n",
"T = (0.161 * V) / A// calculation for the reverberation time\n",
"printf('\n Reverberation time is %f sec.',T)"
   ]
   }
,
{
		   "cell_type": "markdown",
		   "metadata": {},
		   "source": [
			"## Example 8.8: Calculation_of_Reverberation_time.sce"
		   ]
		  },
  {
"cell_type": "code",
	   "execution_count": null,
	   "metadata": {
	    "collapsed": true
	   },
	   "outputs": [],
"source": [
"clc \n",
"// Given that\n",
"V = 980 // volume in meter^3\n",
"a1 = 150 // area of wall in m^2\n",
"a2 = 95 // area of ceiling in m^2\n",
"a3 = 90 // area of floor in m^2\n",
"k1 = 0.03 // coefficient of absorption for wall in O.W.U.\n",
"k2 = 0.80 // coefficient of absorption for ceiling in O.W.U.\n",
"k3 = 0.06 // coefficient of absorption for floor in O.W.U.\n",
"// Sample Problem 8 on page no. 8.21\n",
"printf('\n # PROBLEM 8 # \n')\n",
"printf(' Standard formula used \n')\n",
"printf(' T = 0.161 V/a*S \n' )\n",
"A1 = a1 * k1\n",
"A2 = a2 * k2\n",
"A3 = a3 * k3\n",
"A = A1 + A2 + A3\n",
"T = 0.161 * (V / A)\n",
"printf('\n Reverberation time = %f sec',T)"
   ]
   }
,
{
		   "cell_type": "markdown",
		   "metadata": {},
		   "source": [
			"## Example 8.9: Calculation_of_Acoustic_power.sce"
		   ]
		  },
  {
"cell_type": "code",
	   "execution_count": null,
	   "metadata": {
	    "collapsed": true
	   },
	   "outputs": [],
"source": [
"clc \n",
"// Given that\n",
"V = 980 // volume in meter^3\n",
"a = 1.58 // area of window in m^2\n",
"I_ = 1e-12 // standard intensity level of sound wave in W/m^2\n",
"l = 60 // intensity level in dB\n",
"// Sample Problem 9 on page no. 8.21\n",
"printf('\n # PROBLEM 9 # \n')\n",
"I = I_ * 10^(l / 10)// calculation for intensity\n",
"AP = I * a// calculation for acoustic power\n",
"printf('Standard formula used \n Intensity level=10log(I/I_),\nAP=I*A\n')\n",
"printf('\n Acoustic power = %e watt.',AP)"
   ]
   }
],
"metadata": {
		  "kernelspec": {
		   "display_name": "Scilab",
		   "language": "scilab",
		   "name": "scilab"
		  },
		  "language_info": {
		   "file_extension": ".sce",
		   "help_links": [
			{
			 "text": "MetaKernel Magics",
			 "url": "https://github.com/calysto/metakernel/blob/master/metakernel/magics/README.md"
			}
		   ],
		   "mimetype": "text/x-octave",
		   "name": "scilab",
		   "version": "0.7.1"
		  }
		 },
		 "nbformat": 4,
		 "nbformat_minor": 0
}
