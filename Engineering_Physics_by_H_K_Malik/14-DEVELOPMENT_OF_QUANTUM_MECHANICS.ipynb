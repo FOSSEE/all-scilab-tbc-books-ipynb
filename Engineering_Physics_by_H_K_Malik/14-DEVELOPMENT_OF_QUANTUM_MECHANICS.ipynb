{
"cells": [
 {
		   "cell_type": "markdown",
	   "metadata": {},
	   "source": [
       "# Chapter 14: DEVELOPMENT OF QUANTUM MECHANICS"
	   ]
	},
{
		   "cell_type": "markdown",
		   "metadata": {},
		   "source": [
			"## Example 1.1: Calculation_of_Frequency_and_Wavelength.sce"
		   ]
		  },
  {
"cell_type": "code",
	   "execution_count": null,
	   "metadata": {
	    "collapsed": true
	   },
	   "outputs": [],
"source": [
"clc \n",
"// Given that\n",
"E = 75 // energy of photon in eV\n",
"h = 6.62e-34 // Planck constant in J-sec\n",
"c = 3e8 // speed of light in m/sec\n",
"e = 1.6e-19 // charge on an electron in J \n",
"// Sample Problem 1 on page no. 14.20\n",
"printf('\n # PROBLEM 1 # \n')\n",
"printf('Standard formula used \n')\n",
"printf(' E = h*c/lambda \n')\n",
"f = E * e / h\n",
"lambda = c / f \n",
"printf('\n Frequency is %e Hz.\n Wavelength is %f Angstrom.',f,lambda * 10^10)\n",
"                                                               "
   ]
   }
,
{
		   "cell_type": "markdown",
		   "metadata": {},
		   "source": [
			"## Example 14.10: Calculation_of_Maximum_energy_of_photoelectron.sce"
		   ]
		  },
  {
"cell_type": "code",
	   "execution_count": null,
	   "metadata": {
	    "collapsed": true
	   },
	   "outputs": [],
"source": [
"clc \n",
"// Given that\n",
"f = 1.2e15 // frequency of light in Hz\n",
"f_ = 1.1e+15 // threshold frequency of photoelectron emission in copper in Hz\n",
"h = 6.62e-34 // Planck constant in J-sec\n",
"c = 3e8 // speed of light in m/sec\n",
"e = 1.6e-19 // charge on an electron in C\n",
"// Sample Problem 10 on page no. 14.23\n",
"printf('\n # PROBLEM 10 # \n')\n",
"printf('Standard formula used \n ')\n",
"printf(' 1/2 m*v^2 = h*(mu - mu_0) \n')\n",
"E = h * (f - f_) / e\n",
"printf('\n Maximum energy of photoelectron is %f eV.',E)\n",
"                                                               "
   ]
   }
,
{
		   "cell_type": "markdown",
		   "metadata": {},
		   "source": [
			"## Example 14.11: Calculation_of_Work_function.sce"
		   ]
		  },
  {
"cell_type": "code",
	   "execution_count": null,
	   "metadata": {
	    "collapsed": true
	   },
	   "outputs": [],
"source": [
"clc \n",
"// Given that\n",
"lambda = 6.2e-7 // threshold wavelength of photoelectron in first case in meter\n",
"lambda_ = 5e-7 // threshold wavelength of photoelectron in second case in meter\n",
"h = 6.62e-34 // Planck constant in J-sec\n",
"c = 3e8 // speed of light in m/sec\n",
"e = 1.6e-19 // charge on an electron in C\n",
"// Sample Problem 11 on page no. 14.23\n",
"printf('\n # PROBLEM 11 # \n')\n",
"printf('Standard formula used \n ')\n",
"printf(' E = h*c/lambda \n')\n",
"w = ((h * c) / lambda) * (1 / e)\n",
"w_ = ((h * c) / lambda_) * (1 / e)\n",
"printf('\n Work function for wavelength %e angstrom is %f eV.\n Work function for wavelength %e angstrom is %f eV',lambda,w,lambda_,w_)\n",
"                                                               "
   ]
   }
,
{
		   "cell_type": "markdown",
		   "metadata": {},
		   "source": [
			"## Example 14.12: Calculation_of_Work_function_and_Maximum_energy_and_Threshold_frequency.sce"
		   ]
		  },
  {
"cell_type": "code",
	   "execution_count": null,
	   "metadata": {
	    "collapsed": true
	   },
	   "outputs": [],
"source": [
"clc \n",
"// Given that\n",
"lambda = 3.132e-7 // wavelength of light in meter\n",
"V = 1.98 // stopping potential in V\n",
"h = 6.62e-34 // Planck constant in J-sec\n",
"c = 3e8 // speed of light in m/sec\n",
"e = 1.6e-19 // charge on an electron in C\n",
"m = 9.1e-31 // mass of an electron in kg \n",
"// Sample Problem 12 on page no. 14.24\n",
"printf('\n # PROBLEM 12 # \n')\n",
"printf('Standard formula used \n ')\n",
"printf(' 1/2 m*v^2 = h*(mu - mu_0) \n')\n",
"E = e * V\n",
"lambda_ = 1 / ((1 / lambda) - (E / (h * c)))\n",
"f = c / lambda_\n",
"w = ((h * c) / lambda_)\n",
"printf('\n Work function is %e J.\n Maximum energy is %e J.\n Threshold frequency is %e Hz.',w,E,f)"
   ]
   }
,
{
		   "cell_type": "markdown",
		   "metadata": {},
		   "source": [
			"## Example 14.13: Calculation_of_work_function.sce"
		   ]
		  },
  {
"cell_type": "code",
	   "execution_count": null,
	   "metadata": {
	    "collapsed": true
	   },
	   "outputs": [],
"source": [
"clc \n",
"// Given that\n",
"w = 4.8 // work function in eV\n",
"lambda1 = 5e-7 // wavelength of incident radiation in first case in meter\n",
"lambda2 = 2e-7 // wavelength of incident radiation in second case in meter\n",
"h = 6.62e-34 // Planck constant in J-sec\n",
"c = 3e8 // speed of light in m/sec\n",
"e = 1.6e-19 // charge on an electron in C\n",
"// Sample Problem 13 on page no. 14.24\n",
"printf('\n # PROBLEM 13 # \n')\n",
"printf('Standard formula used \n ')\n",
"printf(' E_k = h*c/lambda \n')\n",
"E_k1 = h*c/lambda1\n",
"E_k2 = h*c / lambda2\n",
"printf('\n From the above it is clear that the energy corresponding to wavelength 5000 A is i.e. %f found to be less than the work function i.e. 4.8 eV . So it will not be able to liberate an electron.\n As the energy to wavelength 2000 A i.e. %f is greater than the work function. So it is sufficient to liberate electrons. ',E_k1/e,E_k2/e)\n",
"                                                               "
   ]
   }
,
{
		   "cell_type": "markdown",
		   "metadata": {},
		   "source": [
			"## Example 14.14: Calculation_of_Work_function_and_Maximum_energy_and_Threshold_frequency.sce"
		   ]
		  },
  {
"cell_type": "code",
	   "execution_count": null,
	   "metadata": {
	    "collapsed": true
	   },
	   "outputs": [],
"source": [
"clc \n",
"// Given that\n",
"lambda = 5.893e-7 // wavelength of light in meter\n",
"V = 0.36 // stopping potential for emitted electron in eV\n",
"h = 6.62e-34 // Planck constant in J-sec\n",
"c = 3e8 // speed of light in m/sec\n",
"e = 1.6e-19 // charge on an electron in C\n",
"m = 9.1e-31 // mass of an electron in kg \n",
"// Sample Problem 14 on page no. 14.25\n",
"printf('\n # PROBLEM 14 # \n')\n",
"printf('Standard formula used \n ')\n",
"printf(' E_k = h*mu - phi \n')\n",
"E = h * c / lambda\n",
"w = ((h * c) / lambda) * (1 / e) - V\n",
"f = w * e / h\n",
"printf('\n Maximum energy is %f eV.\n Work function is %f eV.\n Threshold frequency is %e Hz. ',E/e,w,f)\n",
"                                                               "
   ]
   }
,
{
		   "cell_type": "markdown",
		   "metadata": {},
		   "source": [
			"## Example 14.15: Calculation_of_Stopping_potential_and_Maximum_kinetic_energy.sce"
		   ]
		  },
  {
"cell_type": "code",
	   "execution_count": null,
	   "metadata": {
	    "collapsed": true
	   },
	   "outputs": [],
"source": [
"clc \n",
"// Given that\n",
"lambda = 5.89e-7 // wavelength of light in meter\n",
"lambda_ = 7.32e-7 // threshold wavelength of photoelectron in meter\n",
"h = 6.62e-34 // Planck constant in J-sec\n",
"c = 3e8 // speed of light in m/sec\n",
"e = 1.6e-19 // charge on an electron in C\n",
"m = 9.1e-31 // mass of an electron in kg \n",
"// Sample Problem 15 on page no. 14.25\n",
"printf('\n # PROBLEM 15 # \n')\n",
"printf('Standard formula used \n ')\n",
"printf(' E = (h * c) * (1 / lambda1 - 1 / lambda2) \n')\n",
"E = (h * c) * (1 / lambda - 1 / lambda_)\n",
"V = E / e\n",
"printf('\n Stopping potential is %f V.\n Maximum kinetic energy is %e J.',V,E)\n",
"                                                               "
   ]
   }
,
{
		   "cell_type": "markdown",
		   "metadata": {},
		   "source": [
			"## Example 14.16: Calculation_of_Wavelength_of_light.sce"
		   ]
		  },
  {
"cell_type": "code",
	   "execution_count": null,
	   "metadata": {
	    "collapsed": true
	   },
	   "outputs": [],
"source": [
"clc \n",
"// Given that\n",
"E = 1.5 // maximum energy in eV\n",
"lambda_ = 2.3e-7 // threshold wavelength of photoelectron in meter\n",
"h = 6.62e-34 // Planck constant in J-sec\n",
"c = 3e8 // speed of light in m/sec\n",
"e = 1.6e-19 // charge on an electron in C\n",
"m = 9.1e-31 // mass of an electron in kg \n",
"// Sample Problem 16 on page no. 14.26\n",
"printf('\n # PROBLEM 16 # \n')\n",
"printf('Standard formula used \n ')\n",
"printf(' E = (h * c) * (1 / lambda1 - 1 / lambda2) \n')\n",
"lambda = 1 / ((E * e / (h * c)) + (1 / lambda_))\n",
"printf('\n Wavelength of light is %f Angstrom.',lambda * 1e10)\n",
"                                                               "
   ]
   }
,
{
		   "cell_type": "markdown",
		   "metadata": {},
		   "source": [
			"## Example 14.17: EX14_17.sce"
		   ]
		  },
  {
"cell_type": "code",
	   "execution_count": null,
	   "metadata": {
	    "collapsed": true
	   },
	   "outputs": [],
"source": [
"clc \n",
"// Given that\n",
"lambda = 1.5e-7 // wavelength of light in in meter\n",
"w = 4.53 // work function of tungsten in eV\n",
"h = 6.62e-34 // Planck constant in J-sec\n",
"c = 3e8 // speed of light in m/sec\n",
"e = 1.6e-19 // charge on an electron in C\n",
"// Sample Problem 17 on page no. 14.26\n",
"printf('\n # PROBLEM 17 # \n')\n",
"printf(' Standard formula used \n ')\n",
"printf(' E = (h * c)/lambda = 1/2*m*v^2 \n ')\n",
"E = ((h * c) / lambda) * (1 / e)\n",
"k = E - w\n",
"printf('\n Energy of incident photon is %f eV,which is greater than the work function \n So it causes photoelectric emission.\n Kinetic energy of the emitted electron is %f eV.',E,k)\n",
"                                                               "
   ]
   }
,
{
		   "cell_type": "markdown",
		   "metadata": {},
		   "source": [
			"## Example 14.18: Calculation_of_Longest_wavelength_required_for_photoemission.sce"
		   ]
		  },
  {
"cell_type": "code",
	   "execution_count": null,
	   "metadata": {
	    "collapsed": true
	   },
	   "outputs": [],
"source": [
"clc \n",
"// Given that\n",
"w = 2.3 // work function of sodium in eV\n",
"h = 6.62e-34 // Planck constant in J-sec\n",
"c = 3e8 // speed of light in m/sec\n",
"e = 1.6e-19 // charge on an electron in C\n",
"// Sample Problem 18 on page no. 14.26\n",
"printf('\n # PROBLEM 18 # \n')\n",
"printf('Standard formula used \n ')\n",
"printf(' E = (h * c)/ lambda \n')\n",
"lambda = ((h * c) / w) * (1 / e)\n",
"printf('\n Longest wavelength required for photoemission is %f Angstrom',lambda * 1e10)\n",
"                                                               "
   ]
   }
,
{
		   "cell_type": "markdown",
		   "metadata": {},
		   "source": [
			"## Example 14.19: Calculation_of_Threshold_wavelength_for_photo_emission.sce"
		   ]
		  },
  {
"cell_type": "code",
	   "execution_count": null,
	   "metadata": {
	    "collapsed": true
	   },
	   "outputs": [],
"source": [
"clc \n",
"// Given that\n",
"w = 2 // work function of sodium in eV\n",
"h = 6.62e-34 // Planck constant in J-sec\n",
"c = 3e8 // speed of light in m/sec\n",
"e = 1.6e-19 // charge on an electron in C\n",
"// Sample Problem 19 on page no. 14.27\n",
"printf('\n # PROBLEM 19 # \n')\n",
"printf('Standard formula used \n ')\n",
"printf(' E = (h * c)/ lambda \n')\n",
"lambda = ((h * c) / w) * (1 / e)\n",
"printf('\n Threshold wavelength for photo emission is %d Angstrom.',lambda * 1e10)\n",
"                                                               "
   ]
   }
,
{
		   "cell_type": "markdown",
		   "metadata": {},
		   "source": [
			"## Example 14.20: Calculation_of_Threshold_wavelength_and_Incident_electromagnetic_wavelength.sce"
		   ]
		  },
  {
"cell_type": "code",
	   "execution_count": null,
	   "metadata": {
	    "collapsed": true
	   },
	   "outputs": [],
"source": [
"clc \n",
"// Given that\n",
"k = 4 // maximum kinetic energy of electron in eV\n",
"w = 2.2 // work function of sodium in eV\n",
"h = 6.62e-34 // Planck constant in J-sec\n",
"c = 3e8 // speed of light in m/sec\n",
"e = 1.6e-19 // charge on an electron in C\n",
"// Sample Problem 20 on page no. 14.27\n",
"printf('\n # PROBLEM 20 # \n')\n",
"printf('Standard formula used \n ')\n",
"printf(' E = (h * c) * (1 / lambda1 - 1 / lambda2) \n E = (h * c)/ lambda \n')\n",
"lambda_ = ((h * c) / (w * e)) \n",
"lambda = (1 / ((((k * e)  / (h * c))) + (1 / lambda_)))\n",
"printf('\n Threshold wavelength is %d Angstrom.\n Incident electromagnetic wavelength is %f Angstrom',lambda_ * 1e10,lambda * 1e10)\n",
"                                                               "
   ]
   }
,
{
		   "cell_type": "markdown",
		   "metadata": {},
		   "source": [
			"## Example 14.21: Calculation_of_Maximum_kinetic_energy_and_Number_of_electrons_emitted_per_sec.sce"
		   ]
		  },
  {
"cell_type": "code",
	   "execution_count": null,
	   "metadata": {
	    "collapsed": true
	   },
	   "outputs": [],
"source": [
"clc \n",
"// Given that\n",
"lambda = 3.5e-7 // wavelength of light in meter\n",
"i = 1 // intensity in W/m^2\n",
"p = 0.5 // percent of incident photon produce electron\n",
"a = 1 // surface area of potassium in cm^2\n",
"w = 2.1 // work function of potassium in eV\n",
"h = 6.62e-34 // Planck constant in J-sec\n",
"c = 3e8 // speed of light in m/sec\n",
"e = 1.6e-19 // charge on an electron in C\n",
"m = 9.1e-31 // mass of an electron in kg \n",
"// Sample Problem 21 on page no. 14.28\n",
"printf('\n # PROBLEM 21 # \n')\n",
"printf('Standard formula used \n ')\n",
"printf(' 1/2*m*v^2 = (h * c)/ lambda\n')\n",
"E = (((h * c) / lambda) * (1 / e) - w) * e\n",
"E_ = (p * a * 1e-4) / 100 // in W/cm^2\n",
"n = E_ / E\n",
"printf('\n Maximum kinetic energy is %e J.\n Number of electrons emitted per sec from 1cm^2 area is %e .',E,n)\n",
"                                                               "
   ]
   }
,
{
		   "cell_type": "markdown",
		   "metadata": {},
		   "source": [
			"## Example 14.22: Calculation_of_Value_of_Planck_constant.sce"
		   ]
		  },
  {
"cell_type": "code",
	   "execution_count": null,
	   "metadata": {
	    "collapsed": true
	   },
	   "outputs": [],
"source": [
"clc \n",
"// Given that\n",
"lambda = 5.896e-7 // wavelength of first light in meter\n",
"lambda_ = 2.83e-7 // wavelength of second light in meter\n",
"V1 = 0.12 // stopping potential for emitted electrons for first light in V\n",
"V2 = 2.2 // stopping potential for emitted electrons for second light in V\n",
"c = 3e8 // speed of light in m/sec\n",
"e = 1.6e-19 // charge on an electron in C \n",
"// Sample Problem 22 on page no. 14.28\n",
"printf('\n # PROBLEM 22 # \n')\n",
"printf('Standard formula used \n ')\n",
"printf(' E = (h * c) * (1 / lambda1 - 1 / lambda2)  \n')\n",
"h = (e * (V2 - V1) / c) / (1 / lambda_ - 1 / lambda)\n",
"printf('\n Value of Planck constant is %e J-sec.',h)\n",
"                                                               "
   ]
   }
,
{
		   "cell_type": "markdown",
		   "metadata": {},
		   "source": [
			"## Example 14.23: Calculation_of_Compton_shift.sce"
		   ]
		  },
  {
"cell_type": "code",
	   "execution_count": null,
	   "metadata": {
	    "collapsed": true
	   },
	   "outputs": [],
"source": [
"clc \n",
"// Given that\n",
"lambda = 1e-10 // wavelength of light in meter\n",
"theta = 90 // angle at which scattered radiation is viewed in degree\n",
"h = 6.62e-34 // Planck constant in J-sec\n",
"c = 3e8 // speed of light in m/sec\n",
"e = 1.6e-19 // charge on an electron in C \n",
"m = 9.1e-31 // mass of an electron in kg\n",
"// Sample Problem 23 on page no. 14.29\n",
"printf('\n # PROBLEM 23 # \n')\n",
"printf('Standard formula used \n ')\n",
"printf(' delta_lambda = (h / (m * c) * (1 - cos(theta))) \n')\n",
"delta_lambda = (h * (1 - cosd(theta))) / (m * c)\n",
"printf('\n Compton shift is %f Angstrom',delta_lambda * 1e10)\n",
"                                                               "
   ]
   }
,
{
		   "cell_type": "markdown",
		   "metadata": {},
		   "source": [
			"## Example 14.24: Calculation_of_Compton_shift_and_Energy_of_incident_beam.sce"
		   ]
		  },
  {
"cell_type": "code",
	   "execution_count": null,
	   "metadata": {
	    "collapsed": true
	   },
	   "outputs": [],
"source": [
"clc \n",
"// Given that\n",
"lambda = 1e-10 // wavelength of light in meter\n",
"theta = 90 // angle in degree\n",
"h = 6.62e-34 // Planck constant in J-sec\n",
"c = 3e8 // speed of light in m/sec\n",
"e = 1.6e-19 // charge on an electron in C \n",
"m = 9.1e-31 // mass of an electron in kg\n",
"// Sample Problem 24 on page no. 14.29\n",
"printf('\n # PROBLEM 24 # \n')\n",
"printf('Standard formula used \n ')\n",
"printf(' delta_lambda = (h / (m * c) * (1 - cos(theta))) \n')\n",
"delta_lambda = (h * (1 - cosd(theta))) / (m * c)\n",
"E = (h * c) / delta_lambda\n",
"printf('\n Compton shift is %f Angstrom.\n Energy of incident beam is %f MeV.',delta_lambda * 1e10,E / 1.6e-13)\n",
"                                                               "
   ]
   }
,
{
		   "cell_type": "markdown",
		   "metadata": {},
		   "source": [
			"## Example 14.25: Calculation_of_Wavelength_of_incident_beam.sce"
		   ]
		  },
  {
"cell_type": "code",
	   "execution_count": null,
	   "metadata": {
	    "collapsed": true
	   },
	   "outputs": [],
"source": [
"clc \n",
"// Given that\n",
"E = 4 // enrgy of recoil electron in KeV\n",
"theta = 180 // scattered angle of photon in degree\n",
"h = 6.62e-34 // Planck constant in J-sec\n",
"c = 3e8 // speed of light in m/sec\n",
"e = 1.6e-19 // charge on an electron in C \n",
"m = 9.1e-31 // mass of an electron in kg\n",
"// Sample Problem 25 on page no. 14.30\n",
"printf('\n # PROBLEM 25 # \n')\n",
"printf('Standard formula used \n ')\n",
"printf(' 1/2*m*v^2 = h*c*(1/lambda1 - 1/lambda2)\n')\n",
"p = sqrt(2 * E * 10^3 * e * m)\n",
"lambda = (2 * h * c) / (p * c + E * 10^3 * e)\n",
"printf('\n Wavelength of incident beam is %f Angstrom.',lambda * 1e10)\n",
"                                                               "
   ]
   }
,
{
		   "cell_type": "markdown",
		   "metadata": {},
		   "source": [
			"## Example 14.26: Calculation_of_Compton_shift_and_Kinetic_energy.sce"
		   ]
		  },
  {
"cell_type": "code",
	   "execution_count": null,
	   "metadata": {
	    "collapsed": true
	   },
	   "outputs": [],
"source": [
"clc \n",
"// Given that\n",
"lambda = 1e-10 // wavelength of light in meter\n",
"theta = 90 // angle in degree\n",
"h = 6.62e-34 // Planck constant in J-sec\n",
"c = 3e8 // speed of light in m/sec\n",
"e = 1.6e-19 // charge on an electron in C \n",
"m = 9.1e-31 // mass of an electron in kg\n",
"// Sample Problem 26 on page no. 14.31\n",
"printf('\n # PROBLEM 26 # \n')\n",
"printf('Standard formula used \n ')\n",
"printf(' delta_lambda = (h / (m * c) * (1 - cos(theta))) \n E = h*c*(1/lambda1 - 1/lambda2)\n')\n",
"delta_lambda = (h * (1 - cosd(theta))) / (m * c)\n",
"E = (h * c) * ((1 / lambda) - (1 / (lambda + delta_lambda)))\n",
"printf('\n Compton shift is %e m.\n Kinetic energy is %f eV.',delta_lambda,E / 1.6e-19)\n",
"                                                               "
   ]
   }
,
{
		   "cell_type": "markdown",
		   "metadata": {},
		   "source": [
			"## Example 14.27: Calculation_of_Maximum_Compton_shift_and_Kinetic_energy.sce"
		   ]
		  },
  {
"cell_type": "code",
	   "execution_count": null,
	   "metadata": {
	    "collapsed": true
	   },
	   "outputs": [],
"source": [
"clc \n",
"// Given that\n",
"lambda = 0.144e-10 // wavelength of x-ray in meter\n",
"h = 6.62e-34 // Planck constant in J-sec\n",
"c = 3e8 // speed of light in m/sec\n",
"e = 1.6e-19 // charge on an electron in C \n",
"m = 9.1e-31 // mass of an electron in kg\n",
"// Sample Problem 27 on page no. 14.31\n",
"printf('\n # PROBLEM 27 # \n')\n",
"printf('Standard formula used \n ')\n",
"printf(' delta_lambda = (h / (m * c) * (1 - cos(theta))) \n E = h*c*(1/lambda1 - 1/lambda2)\n')\n",
"theta = 180 // for maximum shift\n",
"delta_lambda = (h * (1 - cosd(theta))) / (m * c)\n",
"E = (h * c) * ((1 / lambda) - (1 / (lambda + delta_lambda)))\n",
"printf('\n Maximum Compton shift is %f A.\n Kinetic energy is %f KeV.',delta_lambda * 1e10,E / 1.6e-16)\n",
"                                                               "
   ]
   }
,
{
		   "cell_type": "markdown",
		   "metadata": {},
		   "source": [
			"## Example 14.28: Calculation_of_Wavelength_of_x_ray_and_Maximum_kinetic_energy.sce"
		   ]
		  },
  {
"cell_type": "code",
	   "execution_count": null,
	   "metadata": {
	    "collapsed": true
	   },
	   "outputs": [],
"source": [
"clc \n",
"// Given that\n",
"lambda = 0.2e-10 // wavelength of x-ray in meter\n",
"theta = 45 // scattered angle in degree\n",
"h = 6.62e-34 // Planck constant in J-sec\n",
"c = 3e8 // speed of light in m/sec\n",
"e = 1.6e-19 // charge on an electron in C \n",
"m = 9.1e-31 // mass of an electron in kg\n",
"// Sample Problem 28 on page no. 14.32\n",
"printf('\n # PROBLEM 28 # \n')\n",
"printf('Standard formula used \n ')\n",
"printf(' delta_lambda = (h / (m * c) * (1 - cos(theta))) \n E = h*c*(1/lambda1 - 1/lambda2)\n')\n",
"delta_lambda = (h * (1 - cosd(theta))) / (m * c)\n",
"E = (h * c) * ((1 / lambda) - (1 / (lambda + delta_lambda)))\n",
"theta_ = 180 // for maximum\n",
"delta_lambda_ = (h * (1 - cosd(theta_))) / (m * c)\n",
"lambda_ = lambda + delta_lambda_\n",
"E_k = h*c*(1/lambda - 1/lambda_)\n",
"printf('\n Wavelength of x-ray is %f A.\n Maximum kinetic energy %e J.',lambda_ * 1e10,E_k)\n",
"                                                               "
   ]
   }
,
{
		   "cell_type": "markdown",
		   "metadata": {},
		   "source": [
			"## Example 14.29: Calculation_of_deBroglie_wavelength.sce"
		   ]
		  },
  {
"cell_type": "code",
	   "execution_count": null,
	   "metadata": {
	    "collapsed": true
	   },
	   "outputs": [],
"source": [
"clc \n",
"// Given that\n",
"h = 6.62e-34 // Planck constant in J-sec\n",
"v = 96 // speed of automobile in km/hr\n",
"e = 1.6e-19 // charge on an electron in C \n",
"m = 2e3 // mass of automobile in kg\n",
"// Sample Problem 29 on page no. 14.33\n",
"printf('\n # PROBLEM 29 # \n')\n",
"printf('Standard formula used \n ')\n",
"printf(' lambda = h /(m*v)\n')\n",
"v_ = v * (5 / 18)\n",
"lambda = h / (m * v_)\n",
"printf('\n de-Broglie wavelength is %e m.',lambda)\n",
"                                                               "
   ]
   }
,
{
		   "cell_type": "markdown",
		   "metadata": {},
		   "source": [
			"## Example 14.2: Calculation_of_Number_of_quanta.sce"
		   ]
		  },
  {
"cell_type": "code",
	   "execution_count": null,
	   "metadata": {
	    "collapsed": true
	   },
	   "outputs": [],
"source": [
"clc \n",
"// Given that\n",
"P = 2e5 // radiated power in W\n",
"f = 98e6 // frequency in Hz \n",
"h = 6.62e-34 // Planck constant in J-sec\n",
"c = 3e8 // speed of light in m/sec\n",
"e = 1.6e-19 // charge on an electron in C \n",
"// Sample Problem 2 on page no. 14.20\n",
"printf('\n # PROBLEM 2 # \n')\n",
"printf('Standard formula used \n')\n",
"printf(' E = h*mu \n')\n",
"E = h * f\n",
"n = P / E\n",
"printf('\n Number of quanta emitted per sec is %e . ',n)\n",
"                                                               "
   ]
   }
,
{
		   "cell_type": "markdown",
		   "metadata": {},
		   "source": [
			"## Example 14.30: Calculation_of_deBroglie_wavelength.sce"
		   ]
		  },
  {
"cell_type": "code",
	   "execution_count": null,
	   "metadata": {
	    "collapsed": true
	   },
	   "outputs": [],
"source": [
"clc \n",
"// Given that\n",
"v = 50 // potential differece in volt\n",
"h = 6.62e-34 // Planck constant in J-sec\n",
"c = 3e8 // speed of light in m/sec\n",
"e = 1.6e-19 // charge on an electron in C \n",
"m = 9.1e-31 // mass of an electron in kg\n",
"// Sample Problem 30 on page no. 14.33\n",
"printf('\n # PROBLEM 30 # \n')\n",
"printf('Standard formula used \n ')\n",
"printf(' lambda = h /(m*v)\n 1/2*m*v^2 = eV \n')\n",
"lambda =  h  / sqrt(2 * m * v * e)\n",
"printf('\n de-Broglie wavelength is %f Angstrom.',lambda * 1e10)\n",
"                                                               "
   ]
   }
,
{
		   "cell_type": "markdown",
		   "metadata": {},
		   "source": [
			"## Example 14.31: Calculation_of_Wavelength_of_thermal_neutron.sce"
		   ]
		  },
  {
"cell_type": "code",
	   "execution_count": null,
	   "metadata": {
	    "collapsed": true
	   },
	   "outputs": [],
"source": [
"clc \n",
"// Given that\n",
"t = 300 // temperature in K\n",
"k = 1.37e-23 // Boltzmann's constant in J/K\n",
"h = 6.62e-34 // Planck constant in J-sec\n",
"e = 1.6e-19 // charge on an electron in C \n",
"m = 1.67e-27 // mass of neutron in kg\n",
"// Sample Problem 31 on page no. 14.33\n",
"printf('\n # PROBLEM 31 # \n')\n",
"printf('Standard formula used \n ')\n",
"printf(' lambda = h /(m*v)\n 1/2*m*v^2 = 3/2*k*T \n')\n",
"lambda = h / sqrt(3 * m * k * t)\n",
"printf('\n Wavelength of thermal neutron is %f Angstrom.',lambda * 1e10)\n",
"                                                               "
   ]
   }
,
{
		   "cell_type": "markdown",
		   "metadata": {},
		   "source": [
			"## Example 14.32: Calculation_of_Wavelength_of_matter_wave.sce"
		   ]
		  },
  {
"cell_type": "code",
	   "execution_count": null,
	   "metadata": {
	    "collapsed": true
	   },
	   "outputs": [],
"source": [
"clc \n",
"// Given that\n",
"v = 2e8 // speed of proton in m/sec\n",
"h = 6.62e-34 // Planck constant in J-sec\n",
"e = 1.6e-19 // charge on an electron in C \n",
"m = 1.67e-27 // mass of proton in kg\n",
"// Sample Problem 32 on page no. 14.34\n",
"printf('\n # PROBLEM 32 # \n')\n",
"printf('Standard formula used \n ')\n",
"printf(' lambda = h /(m*v) \n')\n",
"lambda = h / (m * v)\n",
"printf('\n Wavelength of matter wave associated with proton is %e m',lambda)\n",
"                                                               "
   ]
   }
,
{
		   "cell_type": "markdown",
		   "metadata": {},
		   "source": [
			"## Example 14.33: Calculation_of_Potential_difference.sce"
		   ]
		  },
  {
"cell_type": "code",
	   "execution_count": null,
	   "metadata": {
	    "collapsed": true
	   },
	   "outputs": [],
"source": [
"clc \n",
"// Given that\n",
"lambda = 0.1e-10 // DE Broglie wavelength associated with electron in M\n",
"h = 6.62e-34 // Planck constant in J-sec\n",
"e = 1.6e-19 // charge on an electron in C \n",
"m = 9.1e-31 // mass of electron in kg\n",
"// Sample Problem 33 on page no. 14.34\n",
"printf('\n # PROBLEM 33 # \n')\n",
"printf('Standard formula used \n ')\n",
"printf(' lambda = h /(m*v)\n 1/2*m*v^2 = qV \n')\n",
"V = h^2 / (2 * m* e * lambda^2)\n",
"printf('\n Potential difference is %f KV.',V * 10^-3)"
   ]
   }
,
{
		   "cell_type": "markdown",
		   "metadata": {},
		   "source": [
			"## Example 14.34: Calculation_of_deBroglie_wavelength.sce"
		   ]
		  },
  {
"cell_type": "code",
	   "execution_count": null,
	   "metadata": {
	    "collapsed": true
	   },
	   "outputs": [],
"source": [
"clc \n",
"// Given that\n",
"v = 200 // potential differece in volt\n",
"h = 6.62e-34 // Planck constant in J-sec\n",
"c = 3e8 // speed of light in m/sec\n",
"q = 3.2e-19 // charge on an alpha particle in C \n",
"m = 4 * 1.67e-27 // mass of alpha particle in kg\n",
"// Sample Problem 34 on page no. 14.34\n",
"printf('\n # PROBLEM 34 # \n')\n",
"printf('Standerd formula used \n ')\n",
"printf(' lambda = h /(m*v)\n 1/2*m*v^2 = qV \n')\n",
"lambda =  h  / sqrt(2 * m * v * q)\n",
"printf('\n de-Broglie wavelength = %e m.',lambda)\n",
"                                                               "
   ]
   }
,
{
		   "cell_type": "markdown",
		   "metadata": {},
		   "source": [
			"## Example 14.35: Calculation_of_deBroglie_wavelength.sce"
		   ]
		  },
  {
"cell_type": "code",
	   "execution_count": null,
	   "metadata": {
	    "collapsed": true
	   },
	   "outputs": [],
"source": [
"clc \n",
"// Given that\n",
"t = 400 // temperature in K\n",
"k = 1.38e-23 // Boltzmann's constant in J/K\n",
"h = 6.62e-34 // Planck constant in J-sec\n",
"e = 1.6e-19 // charge on an electron in C \n",
"m = 4 * 1.67e-27 // mass of helium atom in kg\n",
"// Sample Problem 35 on page no. 14.34\n",
"printf('\n # PROBLEM 35 # \n')\n",
"printf('Standard formula used \n ')\n",
"printf(' lambda = h /(m*v)\n 1/2*m*v^2 = 3/2*k*T \n')\n",
"lambda = h / sqrt(3 * m * k * t)\n",
"printf('\n de-Broglie wavelength = %f Angstrom.',lambda * 1e10)\n",
"                                                               "
   ]
   }
,
{
		   "cell_type": "markdown",
		   "metadata": {},
		   "source": [
			"## Example 14.36: Calculation_of_deBroglie_wavelength.sce"
		   ]
		  },
  {
"cell_type": "code",
	   "execution_count": null,
	   "metadata": {
	    "collapsed": true
	   },
	   "outputs": [],
"source": [
"clc \n",
"// Given that\n",
"v = 2000 // velocity of neutron in m/sec\n",
"h = 6.62e-34 // Planck constant in J-sec\n",
"e = 1.6e-19 // charge on an electron in C \n",
"m = 1.67e-27 // mass of neutron in kg\n",
"// Sample Problem 36 on page no. 14.35\n",
"printf('\n # PROBLEM 36 # \n')\n",
"printf('Standard formula used \n ')\n",
"printf(' lambda = h /(m*v)\n')\n",
"lambda = h / (m * v)\n",
"printf('\n de-Broglie wavelength is %f Angstrom.',lambda * 1e10)\n",
"                                                               "
   ]
   }
,
{
		   "cell_type": "markdown",
		   "metadata": {},
		   "source": [
			"## Example 14.37: Calculation_of_Energy.sce"
		   ]
		  },
  {
"cell_type": "code",
	   "execution_count": null,
	   "metadata": {
	    "collapsed": true
	   },
	   "outputs": [],
"source": [
"clc \n",
"// Given that\n",
"lambda = 1e-10 // wavelength in m\n",
"h = 6.62e-34 // Planck constant in J-sec\n",
"e = 1.6e-19 // charge on an electron in C \n",
"m = 9.1e-31 // mass of electron in kg\n",
"m_ = 1.67e-27 // mass of neutron in kg\n",
"// Sample Problem 37 on page no. 14.35\n",
"printf('\n # PROBLEM 37 # \n')\n",
"printf('Standard formula used \n ')\n",
"printf(' lambda = h /(m*v)\n')\n",
"v = h / (m * lambda)\n",
"E = h^2 / (2 * m * lambda^2)\n",
"E_ = h^2 / (2 * m_ * lambda^2)\n",
"printf('\n Energy for electron is %f eV.\n Energy for neutron is %f eV.',E / e,E_ / e)\n",
"                                                               "
   ]
   }
,
{
		   "cell_type": "markdown",
		   "metadata": {},
		   "source": [
			"## Example 14.38: Calculation_of_deBroglie_wavelength.sce"
		   ]
		  },
  {
"cell_type": "code",
	   "execution_count": null,
	   "metadata": {
	    "collapsed": true
	   },
	   "outputs": [],
"source": [
"clc \n",
"// Given that\n",
"E1 = 500 // kinetic energy of electron in first case in eV\n",
"E2 = 50 // kinetic energy of electron in second case in eV\n",
"E3 = 1 // kinetic energy of electron in third case in eV\n",
"h = 6.62e-34 // Planck constant in J-sec\n",
"e = 1.6e-19 // charge on an electron in C \n",
"m = 9.1e-31 // mass of electron in kg\n",
"// Sample Problem 38 on page no. 14.36\n",
"printf('\n # PROBLEM 38 # \n')\n",
"printf('Standard formula used \n ')\n",
"printf(' lambda = h/(2*m*E)^1/2.\n')\n",
"lambda1 = h / sqrt(2 * m * E1 * e)\n",
"lambda2 = h / sqrt(2 * m * E2 * e)\n",
"lambda3 = h / sqrt(2 * m * E3 * e)\n",
"printf('\n de-Broglie wavelength of electron - (1) In first case is %f A. \n (2) In second case is %f A. \n (3) In third is %f A.',lambda1*1e10,lambda2*1e10,lambda3*1e10)\n",
"                                                               "
   ]
   }
,
{
		   "cell_type": "markdown",
		   "metadata": {},
		   "source": [
			"## Example 14.39: Calculation_of_Ratio_of_deBroglie_wavelengths.sce"
		   ]
		  },
  {
"cell_type": "code",
	   "execution_count": null,
	   "metadata": {
	    "collapsed": true
	   },
	   "outputs": [],
"source": [
"clc \n",
"// Given that\n",
"E1 = 1 // kinetic energy of neutron in first case in eV\n",
"E2 = 510 // kinetic energy of neutron in second case in eV\n",
"h = 6.62e-34 // Planck constant in J-sec\n",
"e = 1.6e-19 // charge on an electron in C \n",
"m = 1.67e-27 // mass of neutron in kg\n",
"// Sample Problem 39 on page no. 14.36\n",
"printf('\n # PROBLEM 39 # \n')\n",
"printf('Standard formula used \n ')\n",
"printf(' lambda = h/(2*m*E)^1/2\n')\n",
"lambda1 = h / sqrt(2 * m * E1 * e)\n",
"lambda2 = h / sqrt(2 * m * E2 * e)\n",
"r = lambda1 / lambda2\n",
"printf('\n Ratio of de-Broglie wavelengths is %f .',r)\n",
"                                                               "
   ]
   }
,
{
		   "cell_type": "markdown",
		   "metadata": {},
		   "source": [
			"## Example 14.3: Calculation_of_Energy_of_photon.sce"
		   ]
		  },
  {
"cell_type": "code",
	   "execution_count": null,
	   "metadata": {
	    "collapsed": true
	   },
	   "outputs": [],
"source": [
"clc \n",
"// Given that\n",
"lambda = 4e-7 // wavelength of spectral line in meter\n",
"h = 6.62e-34 // Planck constant in J-sec\n",
"c = 3e8 // speed of light in m/sec\n",
"e = 1.6e-19 // charge on an electron in C \n",
"// Sample Problem 3 on page no. 14.20\n",
"printf('\n # PROBLEM 3 # \n')\n",
"printf('Standard formula used \n')\n",
"printf(' E = h*c/lambda \n')\n",
"E = (h * c) / lambda\n",
"printf('\n Energy of photon is %e J.',E)\n",
"                                                               "
   ]
   }
,
{
		   "cell_type": "markdown",
		   "metadata": {},
		   "source": [
			"## Example 14.40: Calculation_of_Ratio_of_deBroglie_wavelengths.sce"
		   ]
		  },
  {
"cell_type": "code",
	   "execution_count": null,
	   "metadata": {
	    "collapsed": true
	   },
	   "outputs": [],
"source": [
"clc \n",
"// Given that\n",
"E = 20 // kinetic energy of proton in MeV\n",
"E2 = 510 // kinetic energy of neutron in second case in eV\n",
"h = 6.62e-34 // Planck constant in J-sec\n",
"e = 1.6e-19 // charge on an electron in C \n",
"m = 1.67e-27 // mass of proton in kg\n",
"m_ = 9.1e-31 // mass of electron in kg\n",
"// Sample Problem 40 on page no. 14.37\n",
"printf('\n # PROBLEM 40 # \n')\n",
"printf('Standard formula used \n ')\n",
"printf(' lambda = h/(2*m*E)^1/2\n')\n",
"lambda1 = h / sqrt(2 * m * 10^6 * E * e)\n",
"lambda2 = h / sqrt(2 * m_ * E * 10^6 * e)\n",
"r = lambda2 / lambda1\n",
"printf('\n Ratio of de-Broglie wavelengths is %f.',r)\n",
"                                                               "
   ]
   }
,
{
		   "cell_type": "markdown",
		   "metadata": {},
		   "source": [
			"## Example 14.41: Calculation_of_Velocity.sce"
		   ]
		  },
  {
"cell_type": "code",
	   "execution_count": null,
	   "metadata": {
	    "collapsed": true
	   },
	   "outputs": [],
"source": [
"clc \n",
"// Given that\n",
"E = 1 // kinetic energy of proton in MeV\n",
"h = 6.62e-34 // Planck constant in J-sec\n",
"e = 1.6e-19 // charge on an electron in C \n",
"m = 1.67e-27 // mass of proton in kg\n",
"// Sample Problem 41 on page no. 14.37\n",
"printf('\n # PROBLEM 41 # \n')\n",
"printf('Standard formula used \n ')\n",
"printf(' E = 1/2 * m*v^2 \n')\n",
"v = sqrt(2 * E * 1.6e-13 / m)\n",
"printf('\n Velocity is %e m/sec.\n From the above result it is clear that the velocity of proton is nearly one twentieth of the velocity of light. So the relativistic calculation are not required.',v)\n",
"                                                               "
   ]
   }
,
{
		   "cell_type": "markdown",
		   "metadata": {},
		   "source": [
			"## Example 14.42: Calculation_of_deBroglie_wavelength.sce"
		   ]
		  },
  {
"cell_type": "code",
	   "execution_count": null,
	   "metadata": {
	    "collapsed": true
	   },
	   "outputs": [],
"source": [
"clc \n",
"// Given that\n",
"r = 1 / 20 // ratio of velocity of proton to the velocity of light \n",
"c = 3e8 // velocity of light in m/sec\n",
"h = 6.62e-34 // Planck constant in J-sec\n",
"e = 1.6e-19 // charge on an electron in C \n",
"m = 1.67e-27 // mass of proton in kg\n",
"// Sample Problem 42 on page no. 14.38\n",
"printf('\n # PROBLEM 42 # \n')\n",
"printf('Standard formula used \n ')\n",
"printf(' lambda = h/(m*v)\n')\n",
"v = r * c\n",
"lambda = h / (m * v)\n",
"printf('\n de-Broglie wavelength is %e m.',lambda)\n",
"                                                               "
   ]
   }
,
{
		   "cell_type": "markdown",
		   "metadata": {},
		   "source": [
			"## Example 14.43: Calculation_of_kinetic_energy.sce"
		   ]
		  },
  {
"cell_type": "code",
	   "execution_count": null,
	   "metadata": {
	    "collapsed": true
	   },
	   "outputs": [],
"source": [
"clc \n",
"// Given that\n",
"lambda = 5e-7 // wavelength in m\n",
"c = 3e8 // velocity of light in m/sec\n",
"h = 6.62e-34 // Planck constant in J-sec\n",
"e = 1.6e-19 // charge on an electron in C \n",
"m = 1.67e-27 // mass of proton in kg\n",
"m_ = 9.1e-31 // mass of electron in kg\n",
"// Sample Problem 43 on page no. 14.38\n",
"printf('\n # PROBLEM 43 # \n')\n",
"printf('Standard formula used \n ')\n",
"printf(' lambda = h/(2*m*E)^1/2\n')\n",
"E1 = h^2 / (2 * m * lambda^2)\n",
"E2 = h^2 / (2 * m_ * lambda^2)\n",
"disp(E1,'kinetic energy of proton(in J) =')\n",
"disp(E2,'kinetic energy of electron(in J) =')\n",
"                                                               "
   ]
   }
,
{
		   "cell_type": "markdown",
		   "metadata": {},
		   "source": [
			"## Example 14.44: Calculation_of_deBrogli_wavelength.sce"
		   ]
		  },
  {
"cell_type": "code",
	   "execution_count": null,
	   "metadata": {
	    "collapsed": true
	   },
	   "outputs": [],
"source": [
"clc \n",
"// Given that\n",
"n = 1 // no. of Bohr's orbit of hydrogen atom\n",
"c = 3e8 // velocity of light in m/sec\n",
"h = 6.62e-34 // Planck constant in J-sec\n",
"e = 1.6e-19 // charge on an electron in C \n",
"m = 9.1e-31 // mass of electron in kg\n",
"// Sample Problem 44 on page no. 14.38\n",
"printf('\n # PROBLEM 44 # \n')\n",
"printf('Standard formula used \n ')\n",
"printf(' E = (13.6 / n^2)\n')\n",
"E = (13.6 / n^2) * e\n",
"lambda = h / sqrt(2 * m * E)\n",
"printf('\n de-Broglie wavelength is %f Angstrom.',lambda*1e10)\n",
"                                                               "
   ]
   }
,
{
		   "cell_type": "markdown",
		   "metadata": {},
		   "source": [
			"## Example 14.45: Calculation_of_Ratio_of_deBroglie_wavelengths.sce"
		   ]
		  },
  {
"cell_type": "code",
	   "execution_count": null,
	   "metadata": {
	    "collapsed": true
	   },
	   "outputs": [],
"source": [
"clc \n",
"// Given that\n",
"t = 300 // temperature in K\n",
"k = 1.376e-23 // Boltzmann's constant in J/K\n",
"c = 3e8 // velocity of light in m/sec\n",
"h = 6.62e-34 // Planck constant in J-sec\n",
"e = 1.6e-19 // charge on an electron in C \n",
"m_ = 4 * 1.67e-27 // mass of helium atom in kg\n",
"m = 1.67e-27 // mass of hydrogen atom in kg\n",
"// Sample Problem 45 on page no. 14.39\n",
"printf('\n # PROBLEM 45 # \n')\n",
"printf('Standard formula used \n ')\n",
"printf(' lambda = h/(3*m*k*T)^1/2\n')\n",
"lambda1 = h / sqrt(3 * m * k * t)\n",
"lambda2 = h / sqrt(3 * m_ * k * t)\n",
"r = lambda1 / lambda2\n",
"printf('\n Ratio of de-Broglie wavelengths is %d .',r)\n",
"                                                               "
   ]
   }
,
{
		   "cell_type": "markdown",
		   "metadata": {},
		   "source": [
			"## Example 14.47: Calculation_of_Group_velocity_and_Phase_velocity.sce"
		   ]
		  },
  {
"cell_type": "code",
	   "execution_count": null,
	   "metadata": {
	    "collapsed": true
	   },
	   "outputs": [],
"source": [
"clc \n",
"// Given that\n",
"lambda = 1.2e-10 // DE Broglie wavelength in m\n",
"c = 3e8 // velocity of light in m/sec\n",
"h = 6.62e-34 // Planck constant in J-sec\n",
"e = 1.6e-19 // charge on an electron in C \n",
"m = 9.1e-31 // mass of electron in kg\n",
"// Sample Problem 47 on page no. 14.40\n",
"printf('\n # PROBLEM 47 # \n')\n",
"printf('Standard formula used \n ')\n",
"printf(' lambda = h/(m*v)\n')\n",
"v1 = h / (m * lambda)\n",
"v2 = h / (2 * m * lambda)\n",
"printf('\n Group velocity is %e m/sec.\n Phase velocity is %e m/sec.',v1,v2)\n",
"                                                               "
   ]
   }
,
{
		   "cell_type": "markdown",
		   "metadata": {},
		   "source": [
			"## Example 14.4: Calculation_of_Number_of_photons_of_green_light.sce"
		   ]
		  },
  {
"cell_type": "code",
	   "execution_count": null,
	   "metadata": {
	    "collapsed": true
	   },
	   "outputs": [],
"source": [
"clc \n",
"// Given that\n",
"lambda = 5e-7 // wavelength of green light in meter\n",
"h = 6.62e-34 // Planck constant in J-sec\n",
"c = 3e8 // speed of light in m/sec\n",
"e = 1.6e-19 // charge on an electron in C \n",
"P = 1 // energy in erg\n",
"// Sample Problem 4 on page no. 14.21\n",
"printf('\n # PROBLEM 4 # \n')\n",
"printf('Standard formula used \n')\n",
"printf(' E = h*c/lambda \n')\n",
"E = ((h * c) / lambda) * (10^7)\n",
"n = P / E\n",
"printf('\n Number of photons of green light emitted is %e .',n)\n",
"                                                               "
   ]
   }
,
{
		   "cell_type": "markdown",
		   "metadata": {},
		   "source": [
			"## Example 14.5: Calculation_of_Wavelength.sce"
		   ]
		  },
  {
"cell_type": "code",
	   "execution_count": null,
	   "metadata": {
	    "collapsed": true
	   },
	   "outputs": [],
"source": [
"clc \n",
"// Given that\n",
"E = 5e-19 // energy of photon in J\n",
"h = 6.62e-34 // Planck constant in J-sec\n",
"c = 3e8 // speed of light in m/sec\n",
"e = 1.6e-19 // charge on an electron in C\n",
"// Sample Problem 5 on page no. 14.21\n",
"printf('\n # PROBLEM 5 # \n')\n",
"printf('Standard formula used \n')\n",
"printf(' E = h*c/lambda \n')\n",
"lambda = c * h / E\n",
"printf('\n Wavelength is %f Angstrom.',lambda * 10^10)\n",
"                                                               "
   ]
   }
,
{
		   "cell_type": "markdown",
		   "metadata": {},
		   "source": [
			"## Example 14.6: Calculation_of_Energy_of_an_electron.sce"
		   ]
		  },
  {
"cell_type": "code",
	   "execution_count": null,
	   "metadata": {
	    "collapsed": true
	   },
	   "outputs": [],
"source": [
"clc \n",
"// Given that\n",
"lambda = 4.35e-7 // wavelength of green light in meter\n",
"h = 6.62e-34 // Planck constant in J-sec\n",
"c = 3e8 // speed of light in m/sec\n",
"e = 1.6e-19 // charge on an electron in C \n",
"P = 1 // energy in erg\n",
"// Sample Problem 6 on page no. 14.21\n",
"printf('\n # PROBLEM 6 # \n')\n",
"printf('Standard formula used \n')\n",
"printf(' E = h*c/lambda \n')\n",
"E = ((h * c) / lambda)\n",
"printf('\n Energy of an electron is %e J.',E)\n",
"                                                               "
   ]
   }
,
{
		   "cell_type": "markdown",
		   "metadata": {},
		   "source": [
			"## Example 14.7: Calculation_of_Energy_received_by_the_eye.sce"
		   ]
		  },
  {
"cell_type": "code",
	   "execution_count": null,
	   "metadata": {
	    "collapsed": true
	   },
	   "outputs": [],
"source": [
"clc \n",
"// Given that\n",
"lambda = 5.6e-7 // wavelength of light in meter\n",
"n = 120 // no. of photons per second\n",
"h = 6.62e-34 // Planck constant in J-sec\n",
"c = 3e8 // speed of light in m/sec\n",
"e = 1.6e-19 // charge on an electron in C \n",
"// Sample Problem 7 on page no. 14.22\n",
"printf('\n # PROBLEM 7 # \n')\n",
"printf('Standard formula used \n')\n",
"printf(' E = h*c/lambda \n')\n",
"E = ((h * c) / lambda)\n",
"p = E * n\n",
"printf('\n Energy received by the eye per second is %e W.',p)\n",
"                                                               "
   ]
   }
,
{
		   "cell_type": "markdown",
		   "metadata": {},
		   "source": [
			"## Example 14.8: Calculation_of_Number_of_photons_of_yellow_light.sce"
		   ]
		  },
  {
"cell_type": "code",
	   "execution_count": null,
	   "metadata": {
	    "collapsed": true
	   },
	   "outputs": [],
"source": [
"clc \n",
"// Given that\n",
"lambda = 5.5e-7 // wavelength of light in meter\n",
"E = 1.5 // energy in J\n",
"h = 6.62e-34 // Planck constant in J-sec\n",
"c = 3e8 // speed of light in m/sec\n",
"e = 1.6e-19 // charge on an electron in C \n",
"// Sample Problem 8 on page no. 14.22\n",
"printf('\n # PROBLEM 8 # \n')\n",
"printf('Standard formula used \n')\n",
"printf(' E = h*c/lambda \n')\n",
"E_ = ((h * c) / lambda)\n",
"n = E / E_\n",
"printf('\n Number of photons of yellow light = %e .',n)\n",
"                                                               "
   ]
   }
,
{
		   "cell_type": "markdown",
		   "metadata": {},
		   "source": [
			"## Example 14.9: Calculation_of_Work_function_and_Stopping_potential_and_Maximum_velocity.sce"
		   ]
		  },
  {
"cell_type": "code",
	   "execution_count": null,
	   "metadata": {
	    "collapsed": true
	   },
	   "outputs": [],
"source": [
"clc \n",
"// Given that\n",
"lambda = 4.35e-7 // wavelength of light in meter\n",
"lambda_ = 5.42e-7 // threshold wavelength of photoelectron in meter\n",
"h = 6.62e-34 // Planck constant in J-sec\n",
"c = 3e8 // speed of light in m/sec\n",
"e = 1.6e-19 // charge on an electron in C\n",
"m = 9.1e-31 // mass of an electron in kg \n",
"// Sample Problem 9 on page no. 14.22\n",
"printf('\n # PROBLEM 9 # \n')\n",
"printf('Standard formula used \n ')\n",
"printf(' 1/2 m*v^2 = eV \n  E = h*c/lambda \n')\n",
"w = ((h * c) / lambda_)\n",
"v = sqrt(((2 * h * c) / m) * (1 / lambda - 1 / lambda_))\n",
"V = m * v^2 / (2 * e)\n",
"printf('\n Work function is %e J.\n Stopping potential is %f V.\n Maximum velocity is %e m/sec.',w,V,v)\n",
"                                                               "
   ]
   }
],
"metadata": {
		  "kernelspec": {
		   "display_name": "Scilab",
		   "language": "scilab",
		   "name": "scilab"
		  },
		  "language_info": {
		   "file_extension": ".sce",
		   "help_links": [
			{
			 "text": "MetaKernel Magics",
			 "url": "https://github.com/calysto/metakernel/blob/master/metakernel/magics/README.md"
			}
		   ],
		   "mimetype": "text/x-octave",
		   "name": "scilab",
		   "version": "0.7.1"
		  }
		 },
		 "nbformat": 4,
		 "nbformat_minor": 0
}
