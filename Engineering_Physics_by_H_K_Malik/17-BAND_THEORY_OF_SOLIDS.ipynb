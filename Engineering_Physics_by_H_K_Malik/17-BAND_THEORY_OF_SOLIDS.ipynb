{
"cells": [
 {
		   "cell_type": "markdown",
	   "metadata": {},
	   "source": [
       "# Chapter 17: BAND THEORY OF SOLIDS"
	   ]
	},
{
		   "cell_type": "markdown",
		   "metadata": {},
		   "source": [
			"## Example 17.1: EX17_1.sce"
		   ]
		  },
  {
"cell_type": "code",
	   "execution_count": null,
	   "metadata": {
	    "collapsed": true
	   },
	   "outputs": [],
"source": [
"clc \n",
"// Given that \n",
"a = 3e-10 // side of square lattice in m\n",
"h = 6.62e-34 // Planck constant in J sec\n",
"e = 1.6e-19 // charge on an electron in C\n",
"m = 9.1e-31 // mass of electron in kg\n",
"// Sample Problem 1 on page no. 17.18\n",
"printf('\n # PROBLEM 1 # \n')\n",
"printf('Standard formula used \n ')\n",
"printf('E = P^2 / (2*m) \n P = h_cut*k \n')\n",
"p = (h / (2 * a))\n",
"E = (p^2 / (2 * m)) * (1 / e)\n",
"printf('\n Electron momentum value at the sides of first Brilloin zone is %e kg-m/sec.\n Enrgy of free electron is %f eV.',p,E)"
   ]
   }
,
{
		   "cell_type": "markdown",
		   "metadata": {},
		   "source": [
			"## Example 17.2: Calculation_of_Position_of_Fermi_level.sce"
		   ]
		  },
  {
"cell_type": "code",
	   "execution_count": null,
	   "metadata": {
	    "collapsed": true
	   },
	   "outputs": [],
"source": [
"clc \n",
"// Given that \n",
"n = 5e22 // no. of atoms per m^3\n",
"t = 300 // room temperature in K\n",
"k = 1.37e-23 // Boltzmann's constant in J/K\n",
"h = 6.62e-34 // Planck constant in J sec\n",
"e = 1.6e-19 // charge on an electron in C\n",
"m = 9.1e-31 // mass of electron in kg\n",
"// Sample Problem 2 on page no. 17.19\n",
"printf('\n # PROBLEM 2 # \n')\n",
"printf('Standard formula used \n')\n",
"printf('n_c = 2*(2*pi*m*k*T/h^2)^(3/2) * e^(E_f-E_c)/kT \n')\n",
"d = (k * t) * log(n * h^3 / (2 * (2 * %pi * m * k * t)^(3/2)))\n",
"printf('\n Position of fermi level is %f eV.',-d/e)"
   ]
   }
,
{
		   "cell_type": "markdown",
		   "metadata": {},
		   "source": [
			"## Example 17.3: Calculation_of_New_position_of_Fermi_level.sce"
		   ]
		  },
  {
"cell_type": "code",
	   "execution_count": null,
	   "metadata": {
	    "collapsed": true
	   },
	   "outputs": [],
"source": [
"clc \n",
"// Given that \n",
"E = 0.3 // Fermi energy in eV\n",
"T = 330 // temperature in K\n",
"t = 300 // room temperature in K\n",
"k = 1.37e-23 // Boltzmann's constant in J/K\n",
"h = 6.62e-34 // Planck constant in J sec\n",
"e = 1.6e-19 // charge on an electron in C\n",
"m = 9.1e-31 // mass of electron in kg\n",
"// Sample Problem 3 on page no. 17.19\n",
"printf('\n # PROBLEM 3 # \n')\n",
"printf('Standard formula used \n')\n",
"printf('n_c = n_d * e^(E_f-E_c)/kT \n')\n",
"d = (T / t) * (E)\n",
"printf('\n New position of fermi level is %f eV.',d)"
   ]
   }
,
{
		   "cell_type": "markdown",
		   "metadata": {},
		   "source": [
			"## Example 17.4: Calculation_of_Density_of_holes_and_electron.sce"
		   ]
		  },
  {
"cell_type": "code",
	   "execution_count": null,
	   "metadata": {
	    "collapsed": true
	   },
	   "outputs": [],
"source": [
"clc \n",
"// Given that \n",
"E = 0.7 // band gap for semiconductor in eV\n",
"t = 300 // room temperature in K\n",
"k = 1.38e-23 // Boltzmann's constant in J/K\n",
"h = 6.62e-34 // Planck constant in J sec\n",
"e = 1.6e-19 // charge on an electron in C\n",
"m = 9.1e-31 // mass of electron in kg\n",
"// Sample Problem 4 on page no. 17.20\n",
"printf('\n # PROBLEM 4 # \n')\n",
"printf('Standard formula used \n')\n",
"printf('n_c = 2*(2*pi*m*k*T/h^2)^(3/2) * e^(E_f-E_c)/kT \n')\n",
"n = 2 * ((2 * %pi * k * t * m) / h^2)^(3/2) * exp(-(E * e / (2 * k * t)))\n",
"printf('\n Density of holes and electron is %e per m^3.',n)"
   ]
   }
,
{
		   "cell_type": "markdown",
		   "metadata": {},
		   "source": [
			"## Example 17.5: Calculation_of_Hall_coefficient.sce"
		   ]
		  },
  {
"cell_type": "code",
	   "execution_count": null,
	   "metadata": {
	    "collapsed": true
	   },
	   "outputs": [],
"source": [
"clc \n",
"// Given that \n",
"n = 5e28 // no. of atoms in per m^3\n",
"e = 1.6e-19 // charge on an electron in C\n",
"// Sample Problem 5 on page no. 17.20\n",
"printf('\n # PROBLEM 5 # \n')\n",
"printf('Standard formula used \n')\n",
"printf('R_h = 1/(n*e) \n')\n",
"R = -(1 / (n * e))\n",
"printf('\n Hall coefficient is %e m^3/C.',R)"
   ]
   }
,
{
		   "cell_type": "markdown",
		   "metadata": {},
		   "source": [
			"## Example 17.6: Calculation_of_Hall_coefficient.sce"
		   ]
		  },
  {
"cell_type": "code",
	   "execution_count": null,
	   "metadata": {
	    "collapsed": true
	   },
	   "outputs": [],
"source": [
"clc \n",
"// Given that \n",
"a = 4.28e-10 // cell side of Na in m\n",
"e = 1.6e-19 // charge on an electron in C\n",
"// Sample Problem 6 on page no. 17.20\n",
"printf('\n # PROBLEM 6 # \n')\n",
"printf('Standard formula used \n')\n",
"printf('R_h = 1/(n*e) \n')\n",
"n = (2 / a^3)\n",
"R = -(1 / (n * e))\n",
"printf('\n Hall coefficient is %e m^3/C.',R)"
   ]
   }
],
"metadata": {
		  "kernelspec": {
		   "display_name": "Scilab",
		   "language": "scilab",
		   "name": "scilab"
		  },
		  "language_info": {
		   "file_extension": ".sce",
		   "help_links": [
			{
			 "text": "MetaKernel Magics",
			 "url": "https://github.com/calysto/metakernel/blob/master/metakernel/magics/README.md"
			}
		   ],
		   "mimetype": "text/x-octave",
		   "name": "scilab",
		   "version": "0.7.1"
		  }
		 },
		 "nbformat": 4,
		 "nbformat_minor": 0
}
