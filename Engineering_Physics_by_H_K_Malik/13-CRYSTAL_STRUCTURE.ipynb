{
"cells": [
 {
		   "cell_type": "markdown",
	   "metadata": {},
	   "source": [
       "# Chapter 13: CRYSTAL STRUCTURE"
	   ]
	},
{
		   "cell_type": "markdown",
		   "metadata": {},
		   "source": [
			"## Example 13.10: Calculation_of_primitive_translation_vector.sce"
		   ]
		  },
  {
"cell_type": "code",
	   "execution_count": null,
	   "metadata": {
	    "collapsed": true
	   },
	   "outputs": [],
"source": [
"clc \n",
"// Given that\n",
"a = 3.56 // the length of cube edge in angstrom\n",
"// Sample Problem 10 on page no. 13.28\n",
"printf('\n # PROBLEM 10 # \n')\n",
"printf('Standard formula used \n')\n",
"printf(' d = a / sqrt(2) \n')\n",
"d = a / sqrt(2)\n",
"printf('\n Permitive translation vector is %f Angstrom.',d)\n",
"                                                               "
   ]
   }
,
{
		   "cell_type": "markdown",
		   "metadata": {},
		   "source": [
			"## Example 13.11: Calculation_of_Number_of_atom_per_unit_cell.sce"
		   ]
		  },
  {
"cell_type": "code",
	   "execution_count": null,
	   "metadata": {
	    "collapsed": true
	   },
	   "outputs": [],
"source": [
"clc \n",
"// Given that\n",
"w = 207.2 // atomic weight of Pb\n",
"d = 11.36e3 // density of Pb in kg/m^3\n",
"a = 3.2e-10 // length of cube edge in meter\n",
"N = 6.023e26 // Avogadro's no. in per kg mole\n",
"// Sample Problem 11 on page no. 13.28\n",
"printf('\n # PROBLEM 11 # \n')\n",
"printf('Standard formula used \n')\n",
"printf(' n = (a^3 * d * N) / w \n')\n",
"n = (a^3 * d * N) / w\n",
"printf('\n Number  of atom per unit cell is %d.',n)\n",
"                                                               "
   ]
   }
,
{
		   "cell_type": "markdown",
		   "metadata": {},
		   "source": [
			"## Example 13.12: Calculation_of_Wavelength_of_x_ray.sce"
		   ]
		  },
  {
"cell_type": "code",
	   "execution_count": null,
	   "metadata": {
	    "collapsed": true
	   },
	   "outputs": [],
"source": [
"clc \n",
"// Given that\n",
"w = 60.2 // molecular weight\n",
"d = 6250 // density in kg/m^3\n",
"N = 6.023e+26 // Avogadro's no. in per kg mole\n",
"n = 4 // for fcc lattice\n",
"// Sample Problem 12 on page no. 13.28\n",
"printf('\n # PROBLEM 12 # \n')\n",
"printf('Standard formula used \n')\n",
"printf(' a = (((4 * w) / (N * d))^(1 / 3)) \n')\n",
"a = (((4 * w) / (N * d))^(1 / 3)) * 1e10\n",
"printf('\n Lattice constant is %f angstrom.',a)\n",
"                                                               "
   ]
   }
,
{
		   "cell_type": "markdown",
		   "metadata": {},
		   "source": [
			"## Example 13.13: Calculation_of_Wavelength_of_x_ray_and_Glancing_angle.sce"
		   ]
		  },
  {
"cell_type": "code",
	   "execution_count": null,
	   "metadata": {
	    "collapsed": true
	   },
	   "outputs": [],
"source": [
"clc \n",
"// Given that\n",
"x1 = 1 // coordinate on x axis of plane\n",
"y1 = 0 // coordinate on y axis of plane\n",
"z1 = 0 // coordinate on z axis of plane\n",
"d = 2.82 // the space between successive plane in angstrom\n",
"theta = 8.8 // glancing angle in degree\n",
"// Sample Problem 13 on page no. 13.29\n",
"printf('\n # PROBLEM 13 # \n')\n",
"printf(' Standard formula used \n')\n",
"printf(' n*lambda = 2 * d * sin(theta) \n')\n",
"n = 1\n",
"lambda = 2 * d * sind(theta) / n\n",
"printf('\n Wavelength of x-ray is %f angstrom.',lambda)\n",
"                                                               "
   ]
   }
,
{
		   "cell_type": "markdown",
		   "metadata": {},
		   "source": [
			"## Example 13.14: Calculation_of_Lattice_constant_of_NaCl.sce"
		   ]
		  },
  {
"cell_type": "code",
	   "execution_count": null,
	   "metadata": {
	    "collapsed": true
	   },
	   "outputs": [],
"source": [
"clc \n",
"// Given that\n",
"d = 2.51 // the space between adjacent plane in angstrom\n",
"theta = 9 // glancing angle in degree\n",
"// Sample Problem 14 on page no. 13.29\n",
"printf('\n # PROBLEM 14 # \n')\n",
"printf(' Standard formula used \n')\n",
"printf(' n*lambda = 2 * d * sin(theta) \n')\n",
"n = 1 // for n=1\n",
"lambda = 2 * d * sind(theta) / n\n",
"n = 2 // for n=2\n",
"theta = asind(lambda / d)\n",
"printf('\n Wavelength of x-ray is %f angstrom.\n Glancing angle for second order diffraction is %f degree.',lambda,theta)\n",
"                                                               "
   ]
   }
,
{
		   "cell_type": "markdown",
		   "metadata": {},
		   "source": [
			"## Example 13.15: Calculation_of_Angle_of_incidence_of_x_ray_on_the_plane.sce"
		   ]
		  },
  {
"cell_type": "code",
	   "execution_count": null,
	   "metadata": {
	    "collapsed": true
	   },
	   "outputs": [],
"source": [
"clc \n",
"// Given that\n",
"lambda = 1.5 // wavelength of x-ray in angstrom\n",
"theta = 60 // glancing angle in degree\n",
"// Sample Problem 15 on page no. 13.29\n",
"printf('\n # PROBLEM 15 # \n')\n",
"printf(' Standard formula used \n')\n",
"printf(' n*lambda = 2 * d * sin(theta) \n')\n",
"n = 1 // for first order\n",
"d = ( n * lambda) / (2 * sind(theta))\n",
"printf('\n Lattice constant of NaCl is %f angstrom.',d)\n",
"                                                               "
   ]
   }
,
{
		   "cell_type": "markdown",
		   "metadata": {},
		   "source": [
			"## Example 13.16: Calculation_of_Glancing_angle.sce"
		   ]
		  },
  {
"cell_type": "code",
	   "execution_count": null,
	   "metadata": {
	    "collapsed": true
	   },
	   "outputs": [],
"source": [
"clc \n",
"// Given that\n",
"lambda = 1.4 // wavelength of x-ray in angstrom\n",
"x1 = 1 // coordinate on x axis of plane\n",
"y1 = 1 // coordinate on y axis of plane\n",
"z1 = 1 // coordinate on z axis of plane\n",
"a = 5 // lattice parameter of of crystal in angstrom\n",
"// Sample Problem 16 on page no. 13.30\n",
"printf('\n # PROBLEM 16 # \n')\n",
"printf(' Standard formula used \n')\n",
"printf(' d = a / (x1^2 + y1^2 + z1^2)^1/2 \n')\n",
"n = 1 // for first order\n",
"d = a / sqrt(x1^2 + y1^2 + z1^2)\n",
"theta = asind((n * lambda) / (2 * d))\n",
"printf('\n Angle of incidence of x-ray on the plane is %f degree.',theta)\n",
"                                                               "
   ]
   }
,
{
		   "cell_type": "markdown",
		   "metadata": {},
		   "source": [
			"## Example 13.17: Calculation_of_Wavelength_of_neutron_beam_and_Speed_of_neutron_beam.sce"
		   ]
		  },
  {
"cell_type": "code",
	   "execution_count": null,
	   "metadata": {
	    "collapsed": true
	   },
	   "outputs": [],
"source": [
"clc \n",
"// Given that\n",
"lambda = 0.710 // wavelength of x-ray in angstrom\n",
"x1 = 1 // coordinate on x axis of plane\n",
"y1 = 0 // coordinate on y axis of plane\n",
"z1 = 0 // coordinate on z axis of plane\n",
"a = 2.814 // lattice parameter of of crystal in angstrom\n",
"// Sample Problem 17 on page no. 13.30\n",
"printf('\n # PROBLEM 17 # \n')\n",
"printf(' Standard formula used \n')\n",
"printf(' n*lambda = 2 * d * sin(theta)\n')\n",
"n = 2 // for second order\n",
"d = a / sqrt(x1^2 + y1^2 + z1^2)\n",
"theta = asind((n * lambda) / (2 * d))\n",
"printf('\n Glancing angle is %f degree.',theta)"
   ]
   }
,
{
		   "cell_type": "markdown",
		   "metadata": {},
		   "source": [
			"## Example 13.18: Calculation_of_Lattice_parameter.sce"
		   ]
		  },
  {
"cell_type": "code",
	   "execution_count": null,
	   "metadata": {
	    "collapsed": true
	   },
	   "outputs": [],
"source": [
"clc \n",
"// Given that\n",
"n = 1 // order of brag reflection \n",
"d = 3.84e-10 // the space between successive plane in m\n",
"theta = 30 // glancing angle in degree\n",
"// Sample Problem 18 on page no. 13.30\n",
"printf('\n # PROBLEM 18 # \n')\n",
"printf(' Standard formula used \n')\n",
"printf(' n*lambda = 2 * d * sin(theta) \n lambda = h/(m*v) \n')\n",
"lambda = 2 * d * sind(theta) / n\n",
"v = 6.62e-34 / (1.67e-27 * lambda)\n",
"printf('\n Wavelength of neutron beam is %f angstrom.\n Speed of neutron beam is %e meter/sec.',lambda * 10^10,v)\n",
"                                                               "
   ]
   }
,
{
		   "cell_type": "markdown",
		   "metadata": {},
		   "source": [
			"## Example 13.19: Calculation_of_Inter_planner_distances.sce"
		   ]
		  },
  {
"cell_type": "code",
	   "execution_count": null,
	   "metadata": {
	    "collapsed": true
	   },
	   "outputs": [],
"source": [
"clc \n",
"// Given that\n",
"v = 120 // voltage at which electron is accelerated in v\n",
"n = 1 // order of Bragg reflection \n",
"x1 = 1 // coordinate on x axis of plane\n",
"y1 = 1 // coordinate on y axis of plane\n",
"z1 = 1 // coordinate on z axis of plane\n",
"theta = 22 // angle at which maximum reflection is obtain in degree\n",
"n = 1 // order of reflection\n",
"// Sample Problem 19 on page no. 13.31\n",
"printf('\n # PROBLEM 19 # \n')\n",
"printf(' Standard formula used \n')\n",
"printf(' n*lambda = 2 * d * sin(theta) \n lambda = h/(2*m*e*V)^1/2 \n')\n",
"lambda = 6.62e-34 / sqrt(2 * 9.1e-31 * 1.6e-19 * v)\n",
"d = (n * lambda) / (2 * sind(theta))\n",
"a = d * sqrt(3) \n",
"printf('\n Lattice parameter is %f angstrom.',a * 10^10)                           "
   ]
   }
,
{
		   "cell_type": "markdown",
		   "metadata": {},
		   "source": [
			"## Example 13.1: Calculation_of_Miller_indices_of_the_plane.sce"
		   ]
		  },
  {
"cell_type": "code",
	   "execution_count": null,
	   "metadata": {
	    "collapsed": true
	   },
	   "outputs": [],
"source": [
"clc \n",
"// Given that\n",
"x = 2 // intercepts cut by the plane along vector a of crystallographic axes\n",
"y = 3 // intercepts cut by the plane along vector b of crystallographic axes\n",
"z = 1 // intercepts cut by the plane along vector c of crystallographic axes\n",
"// Sample Problem 1 on page no. 13.24\n",
"printf('\n # PROBLEM 1 # \n')\n",
"printf('Standard formula used \n')\n",
"printf(' x_ = a / x \n y_ = b / y \n z_ = c / z \n')\n",
"x_ = 6 / x\n",
"y_ = 6 / y\n",
"z_ = 6 / z\n",
"printf('\n Miller indices of the plane are (%d %d %d)',x_,y_,z_)\n",
"                                                               "
   ]
   }
,
{
		   "cell_type": "markdown",
		   "metadata": {},
		   "source": [
			"## Example 13.20: Calculation_of_Inter_planner_distance.sce"
		   ]
		  },
  {
"cell_type": "code",
	   "execution_count": null,
	   "metadata": {
	    "collapsed": true
	   },
	   "outputs": [],
"source": [
"clc \n",
"// Given that\n",
"lambda = 1.24e-10 // wavelength of X-ray in A\n",
"x1 = 1 // coordinate on x axis of first plane\n",
"y1 = 0 // coordinate on y axis of first plane\n",
"z1 = 0 // coordinate on z axis of first plane\n",
"x2 = 1 // coordinate on x axis of second plane\n",
"y2 = 1 // coordinate on y axis of second plane\n",
"z2 = 0 // coordinate on z axis of second plane\n",
"x3 = 1 // coordinate on x axis of third plane\n",
"y3 = 1 // coordinate on y axis of third plane\n",
"z3 = 1 // coordinate on z axis of third plane\n",
"M = 74.5 // molecular weight of KCl\n",
"d = 1980 // density of KCl in kg/m^3\n",
"N = 6.023e+26 // Avogadro's No per Kg mole\n",
"// Sample Problem 20 on page no. 13.31\n",
"printf('\n # PROBLEM 20 # \n')\n",
"printf(' \n Standard formula used are D = 1/sqrt(x^2+y^2+z^2) and a^3 = n*M/(N*d)')\n",
"a = (4*M / (N*d))^(1/3)\n",
"D1 = a/sqrt(x1^2 + y1^2 + z1^2)\n",
"D2 = a/sqrt(x2^2 + y2^2 + z2^2)\n",
"D3 = a/sqrt(x3^2 + y3^2 + z3^2)\n",
"printf('\n Inter planner distances are - \n (1) in first case %f A, \n (2) in second case %f A ,\n (3) in third case %f A',D1*10^10,D2*10^10,D3*10^10)"
   ]
   }
,
{
		   "cell_type": "markdown",
		   "metadata": {},
		   "source": [
			"## Example 13.21: Calculation_of_Potential_energy_of_molecule.sce"
		   ]
		  },
  {
"cell_type": "code",
	   "execution_count": null,
	   "metadata": {
	    "collapsed": true
	   },
	   "outputs": [],
"source": [
"clc \n",
"// Given that\n",
"d = 0.15e-9 // distance between K(+) and Cl(-) in m\n",
"// Sample Problem 21 on page no. 13.32\n",
"printf('\n # PROBLEM 21 # \n')\n",
"printf(' Standard formula used \n')\n",
"printf(' v = -1.6e-19 / (4 * pi * 8.85e-12 * d) \n')\n",
"v = -1.6e-19 / (4 * %pi * 8.85e-12 * d)\n",
"printf('\n Potential energy of molecule is %f eV.',v)\n",
"                                                               "
   ]
   }
,
{
		   "cell_type": "markdown",
		   "metadata": {},
		   "source": [
			"## Example 13.22: Calculation_of_Cohesive_energy_of_Nacl.sce"
		   ]
		  },
  {
"cell_type": "code",
	   "execution_count": null,
	   "metadata": {
	    "collapsed": true
	   },
	   "outputs": [],
"source": [
"clc \n",
"// Given that\n",
"d = 0.32e-9 // equilibrium separation in m\n",
"alpha = 1.748 \n",
"n = 9\n",
"e = 4 // ionization energy in eV\n",
"a = -2.16 // electron affinity in eV\n",
"// Sample Problem 22 on page no. 13.32\n",
"printf('\n # PROBLEM 22 # \n')\n",
"printf(' Standard formula used \n')\n",
"printf(' E = -((alpha * 1.6e-19) / (4 * pi * 8.85e-12 * d)) * (1 - (1 / n)) \n')\n",
"E = -((alpha * 1.6e-19) / (4 * %pi * 8.85e-12 * d)) * (1 - (1 / n))\n",
"printf('\n Cohesive energy of Nacl is %f eV.',E)\n",
"                                                               "
   ]
   }
,
{
		   "cell_type": "markdown",
		   "metadata": {},
		   "source": [
			"## Example 13.23: EX13_23.sce"
		   ]
		  },
  {
"cell_type": "code",
	   "execution_count": null,
	   "metadata": {
	    "collapsed": true
	   },
	   "outputs": [],
"source": [
"clc \n",
"// Given that\n",
"E = 2.02 // average energy required to produce a Schottky defect at room temperature in eV\n",
"k = 1.38e-23 // Boltzmann constant in J/k\n",
"T = 300 // room temperature in K\n",
"// Sample Problem 23 on page no. 13.33\n",
"printf('\n # PROBLEM 23 # \n')\n",
"printf(' Standard formula used \n')\n",
"printf(' r = exp(-(E * 1.6e-19) / (2 * k * T))\n')\n",
"r = exp(-(E * 1.6e-19) / (2 * k * T))\n",
"printf('\n Ratio of number of Schottky defects to total number of cation-anion pairs is %e .',r)\n",
"                                                               "
   ]
   }
,
{
		   "cell_type": "markdown",
		   "metadata": {},
		   "source": [
			"## Example 13.2: Calculation_of_Miller_indices_of_the_plane.sce"
		   ]
		  },
  {
"cell_type": "code",
	   "execution_count": null,
	   "metadata": {
	    "collapsed": true
	   },
	   "outputs": [],
"source": [
"clc \n",
"// Given that\n",
"x = 1 // intercepts cut by the plane along vector a of crystallographic axes\n",
"y = 2 // intercepts cut by the plane along vector b of crystallographic axes\n",
"z = -3 / 2 // intercepts cut by the plane along vector c of crystallographic axes\n",
"// Sample Problem 2 on page no. 13.24\n",
"printf('\n # PROBLEM 2 # \n')\n",
"printf('Standard formula used \n')\n",
"printf(' x_ = a / x \n y_ = b / y \n z_ = c / z \n')\n",
"x_ = 6 / x\n",
"y_ = 6 / y\n",
"z_ = 6 / z\n",
"printf('\n Miller indices of the plane are (%d %d %d)',x_,y_,z_)\n",
"                                                               "
   ]
   }
,
{
		   "cell_type": "markdown",
		   "metadata": {},
		   "source": [
			"## Example 13.3: Calculation_of_Miller_indices_of_the_plane.sce"
		   ]
		  },
  {
"cell_type": "code",
	   "execution_count": null,
	   "metadata": {
	    "collapsed": true
	   },
	   "outputs": [],
"source": [
"clc \n",
"// Given that\n",
"x1 = 3 // intercepts cut by the plane along vector a of crystallographic axes in first case\n",
"y1 = 3 // intercepts cut by the plane along vector b of crystallographic axes in first case \n",
"z1 = 2 // intercepts cut by the plane along vector c of crystallographic axes in first case\n",
"x2 = 1 // intercepts cut by the plane along vector a of crystallographic axes in second case\n",
"y2 = 2 // intercepts cut by the plane along vector b of crystallographic axes in second case\n",
"k2 = 0 // raciprocal of intercepts cut by the plane along vector c of crystallographic axes in second case\n",
"x3 = 1 // intercepts cut by the plane along vector a of crystallographic axes in third case\n",
"y3 = 1/2 // intercepts cut by the plane along vector b of crystallographic axes in third case\n",
"z3 = 1 // intercepts cut by the plane along vector c of crystallographic axes in third case\n",
"// Sample Problem 3 on page no. 13.24\n",
"printf('\n # PROBLEM 3 # \n')\n",
"printf('Standard formula used \n')\n",
"printf(' x_ = a / x \n y_ = b / y \n z_ = c / z \n')\n",
"x_1 = 6 / x1\n",
"y_1 = 6 / y1\n",
"z_1 = 6 / z1\n",
"x_2 = 2 / x2\n",
"y_2 = 2 / y2\n",
"z_2 = 2*k2\n",
"x_3 = 1 / x3\n",
"y_3 = 1 / y3\n",
"z_3 = 1 / z3\n",
"printf('\n Miller indices of the plane (i) In first case are (%d %d %d),(ii) In second case are (%d %d %d),(iii)In the third case  are (%d %d %d).',x_1,y_1,z_1,x_2,y_2,z_2,x_3,y_3,z_3)\n",
"                                                               "
   ]
   }
,
{
		   "cell_type": "markdown",
		   "metadata": {},
		   "source": [
			"## Example 13.4: Calculation_of_Spacing_between_the_plane.sce"
		   ]
		  },
  {
"cell_type": "code",
	   "execution_count": null,
	   "metadata": {
	    "collapsed": true
	   },
	   "outputs": [],
"source": [
"clc \n",
"// Given that\n",
"x1 = 1 // coordinate on x axis for first plane\n",
"y1 = 0 // coordinate on y axis for first plane\n",
"z1 = 0 // coordinate on z axis for first plane\n",
"x2 = 1 // coordinate on x axis for second plane\n",
"y2 = 1 // coordinate on y axis for second plane\n",
"z2 = 1 // coordinate on z axis for second plane\n",
"// Sample Problem 4 on page no. 13.25\n",
"printf('\n # PROBLEM 4 # \n')\n",
"printf('Standard formula used \n')\n",
"printf(' d = 1 / (x1^2 + y1^2 + z1^2)^1/2 \n')\n",
"d1 = 1 / sqrt(x1^2 + y1^2 + z1^2)\n",
"d2 = 1 / sqrt(x2^2 + y2^2 + z2^2)\n",
"printf('\n Spacing between the plane in first case is a / %d.\n Spacing between the plane in second case is a / %f .',d1,d2)\n",
"                                                               "
   ]
   }
,
{
		   "cell_type": "markdown",
		   "metadata": {},
		   "source": [
			"## Example 13.5: Calculation_of_Miller_indices_of_the_plane_and_Inter_planer_distance.sce"
		   ]
		  },
  {
"cell_type": "code",
	   "execution_count": null,
	   "metadata": {
	    "collapsed": true
	   },
	   "outputs": [],
"source": [
"clc \n",
"// Given that\n",
"x = 1 // intercepts cut by the plane along vector a of crystallographic axes\n",
"y = 2 // intercepts cut by the plane along vector b of crystallographic axes\n",
"k = 0 // raciprocal of intercepts cut by the plane along vector c of crystallographic axes\n",
"a = 5 // length of vector a of crystallographic axes in angstrom\n",
"b = 5 // length of vector b of crystallographic axes in angstrom \n",
"c = 5 // length of vector c of crystallographic axes in angstrom\n",
"// Sample Problem 5 on page no. 13.26\n",
"printf('\n # PROBLEM 5 # \n')\n",
"printf('Standard formula used \n')\n",
"printf(' d = 1 / (x1^2 + y1^2 + z1^2)^1/2 \n')\n",
"x_ = 2 / x\n",
"y_ = 2 / y\n",
"z_ = 2 * k\n",
"d = a / sqrt(x_^2 + y_^2 + z_^2)\n",
"D=d^2\n",
"printf('\n Miller indices of the plane are (%d %d %d).\n Inter planar distance is sqrt(%d) angstrom.',x_,y_,z_,D)\n",
"                                                               "
   ]
   }
,
{
		   "cell_type": "markdown",
		   "metadata": {},
		   "source": [
			"## Example 13.6: Calculation_of_Miller_indices_of_the_plane.sce"
		   ]
		  },
  {
"cell_type": "code",
	   "execution_count": null,
	   "metadata": {
	    "collapsed": true
	   },
	   "outputs": [],
"source": [
"clc \n",
"// Given that\n",
"x = 2 // intercepts cut by the plane along vector a of crystallographic axes\n",
"y = 2 / 3 // intercepts cut by the plane along vector b of crystallographic axes\n",
"k = 0 // raciprocal of intercepts cut by the plane along vector c of crystallographic axes\n",
"// Sample Problem 6 on page no. 13.26\n",
"printf('\n # PROBLEM 6 # \n')\n",
"printf('Standard formula used \n')\n",
"printf(' x_ = a / x \n y_ = b / y \n z_ = c / z \n')\n",
"x_ = 2 / x\n",
"y_ = 2 / y\n",
"z_ = 2 * k\n",
"printf('\n Miller indices of the plane are (%d %d %d)',x_,y_,z_)\n",
"                                                               "
   ]
   }
,
{
		   "cell_type": "markdown",
		   "metadata": {},
		   "source": [
			"## Example 13.7: Calculation_of_Miller_indices_of_the_plane.sce"
		   ]
		  },
  {
"cell_type": "code",
	   "execution_count": null,
	   "metadata": {
	    "collapsed": true
	   },
	   "outputs": [],
"source": [
"clc \n",
"// Given that\n",
"x1 = 2 // coordinate on x axis \n",
"y1 = 3 // coordinate on y axis \n",
"z1 = 1 // coordinate on z axis \n",
"r = 0.175 // atomic radius of fcc structure in nm\n",
"// Sample Problem 7 on page no. 13.27\n",
"printf('\n # PROBLEM 7 # \n')\n",
"printf('Standard formula used \n')\n",
"printf(' d = 1 / (x1^2 + y1^2 + z1^2)^1/2 \n')\n",
"a = (4 * r) / sqrt(2)\n",
"d = a / sqrt(x1^2 + y1^2 + z1^2)\n",
"printf('\n Inter planar spacing is %f nm.',d)\n",
"                                                               "
   ]
   }
,
{
		   "cell_type": "markdown",
		   "metadata": {},
		   "source": [
			"## Example 13.8: Calculation_of_ratio_of_intercepts_and_The_ratio_of_spacing_between_two_planes.sce"
		   ]
		  },
  {
"cell_type": "code",
	   "execution_count": null,
	   "metadata": {
	    "collapsed": true
	   },
	   "outputs": [],
"source": [
"clc \n",
"// Given that\n",
"x1 = 1 // coordinate on x axis in first case\n",
"y1 = 2 // coordinate on y axis in first case \n",
"z1 = 3 // coordinate on z axis in first case\n",
"x2 = 1\n",
"y2 = 1\n",
"z2 = 0\n",
"// coordinate of first plane in second case\n",
"x3 = 1\n",
"y3= 1\n",
"z3 = 1\n",
"// coordinate of second plane in second case\n",
"// Sample Problem 8 on page no. 13.27\n",
"printf('\n # PROBLEM 8 # \n')\n",
"printf('Standard formula used \n')\n",
"printf(' d = 1 / (x1^2 + y1^2 + z1^2)^1/2 \n')\n",
"x_=6/x1\n",
"y_=6/y1\n",
"z_=6/z1\n",
"d1 = 1 / sqrt(x2^2 + y2^2 + z2^2)\n",
"d2= 1/ sqrt(x3^2 + y3^2 + z3^2)\n",
"d = d1/d2\n",
"printf('\n The ratio of intercepts of three axes by the point are %d : %d : %d. \n The ratio of  spacing between two planes is %f.',x_,y_,z_,d)\n",
"                                                               "
   ]
   }
,
{
		   "cell_type": "markdown",
		   "metadata": {},
		   "source": [
			"## Example 13.9: Calculation_of_Distance_between_two_atoms.sce"
		   ]
		  },
  {
"cell_type": "code",
	   "execution_count": null,
	   "metadata": {
	    "collapsed": true
	   },
	   "outputs": [],
"source": [
"clc \n",
"// Given that\n",
"a = 5 // the lattice constant of the structure in angstrom\n",
"// Sample Problem 9 on page no. 13.28\n",
"printf('\n # PROBLEM 9 # \n')\n",
"printf('Standard formula used \n')\n",
"printf(' d = a*sqrt(3) /4 \n')\n",
"d = (sqrt(3) / 4) * a\n",
"printf('\n Distance between two atoms is %f Angstrom. ',d)\n",
"                                                               "
   ]
   }
],
"metadata": {
		  "kernelspec": {
		   "display_name": "Scilab",
		   "language": "scilab",
		   "name": "scilab"
		  },
		  "language_info": {
		   "file_extension": ".sce",
		   "help_links": [
			{
			 "text": "MetaKernel Magics",
			 "url": "https://github.com/calysto/metakernel/blob/master/metakernel/magics/README.md"
			}
		   ],
		   "mimetype": "text/x-octave",
		   "name": "scilab",
		   "version": "0.7.1"
		  }
		 },
		 "nbformat": 4,
		 "nbformat_minor": 0
}
