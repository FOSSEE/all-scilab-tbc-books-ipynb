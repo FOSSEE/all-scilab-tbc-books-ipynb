{
"cells": [
 {
		   "cell_type": "markdown",
	   "metadata": {},
	   "source": [
       "# Chapter 15: QUANTUM MECHANICS"
	   ]
	},
{
		   "cell_type": "markdown",
		   "metadata": {},
		   "source": [
			"## Example 15.10: Calculation_of_Uncertainty_in_determining_the_position.sce"
		   ]
		  },
  {
"cell_type": "code",
	   "execution_count": null,
	   "metadata": {
	    "collapsed": true
	   },
	   "outputs": [],
"source": [
"clc \n",
"// Given that\n",
"v = 3e7 // speed of electron in m/sec \n",
"e = 1.6e-19 // charge on an electron in C\n",
"m = 9.1e-31 // mass of electron in kg\n",
"h = 6.62e-34 // Planck constant in J-sec\n",
"c = 3e8 // speed of light in m/sec\n",
"// Sample Problem 10 on page no. 15.28\n",
"printf('\n # PROBLEM 10 # \n')\n",
"printf('Standard formula used \n')\n",
"printf(' del_x*del_p = h/(4*pi) \n m = m_0/(1-(v^2/c^2))^1/2 \n')\n",
"delta_p = m * v / sqrt(1 - (v/c)^2)\n",
"delta_x = h / (4 * %pi * delta_p)\n",
"printf('\n Uncertainty in determining the position is %e m.',delta_x)"
   ]
   }
,
{
		   "cell_type": "markdown",
		   "metadata": {},
		   "source": [
			"## Example 15.11: Calculation_of_Minimum_error_in_measurement_of_the_energy.sce"
		   ]
		  },
  {
"cell_type": "code",
	   "execution_count": null,
	   "metadata": {
	    "collapsed": true
	   },
	   "outputs": [],
"source": [
"clc \n",
"// Given that\n",
"t = 2.5e-14 // life time of hydrogen atom in exited state in sec\n",
"h = 6.62e-34 // Planck constant in J-sec\n",
"// Sample Problem 11 on page no. 15.28\n",
"printf('\n # PROBLEM 11 # \n')\n",
"printf('Standard formula used \n')\n",
"printf(' del_E*del_t = h/(4*pi) \n')\n",
"delta_E = h / (4 * %pi * t)\n",
"printf('\n Minimum error in measurement of the energy is %e J.',delta_E)"
   ]
   }
,
{
		   "cell_type": "markdown",
		   "metadata": {},
		   "source": [
			"## Example 15.12: Calculation_of_Minimum_uncertainty_in_frequency.sce"
		   ]
		  },
  {
"cell_type": "code",
	   "execution_count": null,
	   "metadata": {
	    "collapsed": true
	   },
	   "outputs": [],
"source": [
"clc \n",
"// Given that\n",
"t = 10^-8 // life time of atom in exited state in sec\n",
"h = 6.62e-34 // Planck constant in J-sec\n",
"// Sample Problem 12 on page no. 15.28\n",
"printf('\n # PROBLEM 12 # \n')\n",
"printf('Standard formula used \n')\n",
"printf(' del_E*del_t = h/(4*pi) \n')\n",
"delta_f = 1 / (4 * %pi * t)\n",
"printf('\n Minimum uncertainty in frequency is %e Hz.',delta_f)"
   ]
   }
,
{
		   "cell_type": "markdown",
		   "metadata": {},
		   "source": [
			"## Example 15.13: Calculation_of_Ratio_of_uncertainty_in_velocity_of_a_proton_and_an_electron.sce"
		   ]
		  },
  {
"cell_type": "code",
	   "execution_count": null,
	   "metadata": {
	    "collapsed": true
	   },
	   "outputs": [],
"source": [
"clc \n",
"// Given that\n",
"delta_x = 20e-10 // uncertainty in position in m\n",
"e = 1.6e-19 // charge on an electron in C\n",
"m = 9.1e-31 // mass of electron in kg\n",
"m_ = 1.67e-27 // mass of proton in kg\n",
"c = 3e8 // speed of light in m/sec\n",
"h = 6.62e-34 // Planck constant in J-sec\n",
"// Sample Problem 13 on page no. 15.29\n",
"printf('\n # PROBLEM 13 # \n')\n",
"printf('Standard formula used \n')\n",
"printf(' del_x*del_p = h/(4*pi) \n')\n",
"delta_v1 = h / (4 * %pi * m * delta_x)\n",
"delta_v2 = h / (4 * %pi * m_ * delta_x)\n",
"r = delta_v2 / delta_v1\n",
"printf('\n Ratio of uncertainty in velocity of a proton and an electron is %e. ',r)"
   ]
   }
,
{
		   "cell_type": "markdown",
		   "metadata": {},
		   "source": [
			"## Example 15.14: Calculation_of_Energy_of_electron.sce"
		   ]
		  },
  {
"cell_type": "code",
	   "execution_count": null,
	   "metadata": {
	    "collapsed": true
	   },
	   "outputs": [],
"source": [
"clc \n",
"// Given that\n",
"delta_x = 1e-10 // width of box in m\n",
"e = 1.6e-19 // charge on an electron in C\n",
"m = 9.1e-31 // mass of electron in kg\n",
"c = 3e8 // speed of light in m/sec\n",
"h = 6.62e-34 // Planck constant in J-sec\n",
"// Sample Problem 14 on page no. 15.29\n",
"printf('\n # PROBLEM 14 # \n')\n",
"printf('Standard formula used \n')\n",
"printf(' E = (n^2 * h^2) / (8 * m * L^2)) \n')\n",
"n = 1 // for n=1\n",
"E = (n^2 * h^2) / (8 * m * delta_x^2)\n",
"n = 2 // for n=2\n",
"E_ = (n^2 * h^2) / (8 * m * delta_x^2)\n",
"printf('\n Energy of electron - \n For (n=1) energy is %e J.\n For (n=2) energy is %e J.',E,E_)"
   ]
   }
,
{
		   "cell_type": "markdown",
		   "metadata": {},
		   "source": [
			"## Example 15.15: Calculation_of_Energy_difference.sce"
		   ]
		  },
  {
"cell_type": "code",
	   "execution_count": null,
	   "metadata": {
	    "collapsed": true
	   },
	   "outputs": [],
"source": [
"clc \n",
"// Given that\n",
"l = 1e-10 // width of box in m\n",
"e = 1.6e-19 // charge on an electron in C\n",
"m = 9.1e-31 // mass of electron in kg\n",
"c = 3e8 // speed of light in m/sec\n",
"h = 6.62e-34 // Planck constant in J-sec\n",
"// Sample Problem 15 on page no. 15.30\n",
"printf('\n # PROBLEM 15 # \n')\n",
"printf('Standard formula used \n')\n",
"printf(' E = (n^2 * h^2) / (8 * m * L^2)) \n')\n",
"n = 1 // for n=1\n",
"E = (n^2 * h^2) / (8 * m * l^2)\n",
"n = 2 // for n=2\n",
"E_ = (n^2 * h^2) / (8 * m * l^2)\n",
"d = E_ - E\n",
"printf('\n Energy difference is %e J.',d)"
   ]
   }
,
{
		   "cell_type": "markdown",
		   "metadata": {},
		   "source": [
			"## Example 15.16: Calculation_of_Energy_difference.sce"
		   ]
		  },
  {
"cell_type": "code",
	   "execution_count": null,
	   "metadata": {
	    "collapsed": true
	   },
	   "outputs": [],
"source": [
"clc \n",
"// Given that\n",
"l = 3e-10 // width of box in m\n",
"e = 1.6e-19 // charge on an electron in C\n",
"m = 9.1e-31 // mass of electron in kg\n",
"c = 3e8 // speed of light in m/sec\n",
"h = 6.62e-34 // Planck constant in J-sec\n",
"// Sample Problem 16 on page no. 15.30\n",
"printf('\n # PROBLEM 16 # \n')\n",
"printf('Standard Formula used \n')\n",
"printf(' E = (n^2 * h^2) / (8 * m * L^2)) \n')\n",
"n = 1 // For n=1\n",
"E = (n^2 * h^2) / (8 * m * l^2)\n",
"n = 2 // For n=2\n",
"E_ = (n^2 * h^2) / (8 * m * l^2)\n",
"n = 3 // For n=3\n",
"E__ = (n^2 * h^2) / (8 * m * l^2)\n",
"printf('\n Energy of electron -\n For (n=1) is %e J.\n For (n=2) is %e J.\n For (n=3) is %e J.',E,E_,E__)"
   ]
   }
,
{
		   "cell_type": "markdown",
		   "metadata": {},
		   "source": [
			"## Example 15.17: Calculation_of_Energy_difference.sce"
		   ]
		  },
  {
"cell_type": "code",
	   "execution_count": null,
	   "metadata": {
	    "collapsed": true
	   },
	   "outputs": [],
"source": [
"clc \n",
"// Given that\n",
"l = 2.5e-10 // width of box in m\n",
"e = 1.6e-19 // charge on an electron in C\n",
"m = 9.1e-31 // mass of electron in kg\n",
"c = 3e8 // speed of light in m/sec\n",
"h = 6.62e-34 // Planck constant in J-sec\n",
"// Sample Problem 17 on page no. 15.30\n",
"printf('\n # PROBLEM 17 # \n')\n",
"printf('Standard formula used \n')\n",
"printf(' E = (n^2 * h^2) / (8 * m * L^2)) \n')\n",
"n = 1 // for n=1\n",
"E = (n^2 * h^2) / (8 * m * l^2)\n",
"n = 2 // for n=2\n",
"E_ = (n^2 * h^2) / (8 * m * l^2)\n",
"printf('\n Energy of electron -\n For (n=1) is %e J.\n For (n=2) is %e J.',E,E_)"
   ]
   }
,
{
		   "cell_type": "markdown",
		   "metadata": {},
		   "source": [
			"## Example 15.18: Calculation_of_Lowest_energy_of_neutron_confined_in_the_nucleus.sce"
		   ]
		  },
  {
"cell_type": "code",
	   "execution_count": null,
	   "metadata": {
	    "collapsed": true
	   },
	   "outputs": [],
"source": [
"clc \n",
"// Given that\n",
"l = 1e-14 // width of box in m\n",
"e = 1.6e-19 // charge on an electron in C\n",
"m = 1.67e-27 // mass of neutron in kg\n",
"c = 3e8 // speed of light in m/sec\n",
"h = 6.62e-34 // Planck constant in J-sec\n",
"// Sample Problem 18 on page no. 15.31\n",
"printf('\n # PROBLEM 18 # \n')\n",
"printf('Standard formula used \n')\n",
"printf(' E = (n^2 * h^2) / (8 * m * L^2)) \n')\n",
"n = 1 // for n=1\n",
"E = (n^2 * h^2) / (8 * m * l^2)\n",
"printf('\n Lowest energy of neutron confined in the nucleus is %e J.',E)"
   ]
   }
,
{
		   "cell_type": "markdown",
		   "metadata": {},
		   "source": [
			"## Example 15.19: Calculation_of_Energy_of_electron_and_Momentum_of_electron.sce"
		   ]
		  },
  {
"cell_type": "code",
	   "execution_count": null,
	   "metadata": {
	    "collapsed": true
	   },
	   "outputs": [],
"source": [
"clc \n",
"// Given that\n",
"l = 1e-10 // width of box in m\n",
"e = 1.6e-19 // charge on an electron in C\n",
"m = 9.1e-31 // mass of electron in kg\n",
"c = 3e8 // speed of light in m/sec\n",
"h = 6.63e-34 // Planck constant in J-sec\n",
"// Sample Problem 19 on page no. 15.31\n",
"printf('\n # PROBLEM 19 # \n')\n",
"printf('Standard formula used \n')\n",
"printf(' E = (n^2 * h^2) / (8 * m * L^2)) \n p_n = n*h/(2*pi) \n')\n",
"n = 1 // for n=1\n",
"p1 = (n * h) / (2 * l)\n",
"E = (n^2 * h^2) / (8 * m * l^2)\n",
"n = 2 // for n=2\n",
"p2 = (n * h) / (2 * l)\n",
"E_ = (n^2 * h^2) / (8 * m * l^2)\n",
"printf('\n Energy of electron -\n For (n=1) is %e J.\n For (n=2) is %e J.\n Momentum of electron -\n For (n=1) is %e kg-m/sec.\n For (n=2) is %e kg-m/sec.',E,E_,p1,p2)"
   ]
   }
,
{
		   "cell_type": "markdown",
		   "metadata": {},
		   "source": [
			"## Example 15.1: Calculation_of_Percentage_of_uncertainty_in_momentum.sce"
		   ]
		  },
  {
"cell_type": "code",
	   "execution_count": null,
	   "metadata": {
	    "collapsed": true
	   },
	   "outputs": [],
"source": [
"clc \n",
"// Given that \n",
"E = 1000 // energy of electron in eV\n",
"delta_x = 1e-10 // error in position in m\n",
"e = 1.6e-19 // charge on an electron in C\n",
"m = 9.1e-31 // mass of electron in kg\n",
"h = 6.62e-34 // Planck constant in J-sec\n",
"// Sample Problem 1 on page no. 15.24\n",
"printf('\n # PROBLEM 1 # \n')\n",
"printf('Standard formula used \n')\n",
"printf(' p = (2 * m * E * e)^(1/2) \n')\n",
"p = sqrt(2 * m * E * e)\n",
"delta_p = h / (4 * %pi * delta_x)\n",
"P = (delta_p / p) * 100\n",
"printf('\n Percentage of uncertainty in momentum is %f.',P)"
   ]
   }
,
{
		   "cell_type": "markdown",
		   "metadata": {},
		   "source": [
			"## Example 15.20: Calculation_of_Energy_Eigen_value_of_electron_and_deBroglie_wavelength.sce"
		   ]
		  },
  {
"cell_type": "code",
	   "execution_count": null,
	   "metadata": {
	    "collapsed": true
	   },
	   "outputs": [],
"source": [
"clc \n",
"// Given that\n",
"l = 1e-10 // length of box in m\n",
"m = 9.1e-31 // mass of electron in kg\n",
"c = 3e8 // speed of light in m/sec\n",
"h = 6.62e-34 // Planck constant in J-sec\n",
"// Sample Problem 20 on page no. 15.32\n",
"printf('\n # PROBLEM 20 # \n')\n",
"printf('Standard formula used \n')\n",
"printf(' E = (n^2 * h^2) / (8 * m * L^2)) \n p_n = n*h/(2*pi) \n')\n",
"n = 1 // for n=1\n",
"E1 = (n^2 * h^2) / (8 * m * l^2)\n",
"lambda1 =2*l\n",
"n = 2 // for n=2\n",
"E2 = (n^2 * h^2) / (8 * m * l^2)\n",
"lambda2 =2*l/2\n",
"n = 3 // for n=3\n",
"E3 = (n^2 * h^2) / (8 * m * l^2)\n",
"lambda3 =2*l/3\n",
"printf('\n Energy Eigen value of electron -\n For (n=1) is %e J.\n For (n=2) is %e J.\n For (n=3) is %e J. \nde-Broglie wavelength of electron -\n For (n=1) is %f A.\n For (n=2) is %f A. \n For (n=3) is %f A',E1,E2,E3,lambda1*1e10,lambda2*1e10,lambda3*1e10)"
   ]
   }
,
{
		   "cell_type": "markdown",
		   "metadata": {},
		   "source": [
			"## Example 15.21: Calculation_of_Energy_Eigen_values.sce"
		   ]
		  },
  {
"cell_type": "code",
	   "execution_count": null,
	   "metadata": {
	    "collapsed": true
	   },
	   "outputs": [],
"source": [
"clc \n",
"// Given that\n",
"E1 = 3.2e-18 // minimum energy possible for a particle entrapped in a one dimensional box in J\n",
"e = 1.6e-19 // charge on an electron in C\n",
"m = 9.1e-31 // mass of electron in kg\n",
"c = 3e8 // speed of light in m/sec\n",
"h = 6.62e-34 // Planck constant in J-sec\n",
"// Sample Problem 21 on page no. 15.32\n",
"printf('\n # PROBLEM 21 # \n')\n",
"printf('Standard formula used \n')\n",
"printf(' E = (n^2 * h^2) / (8 * m * L^2)) \n')\n",
"E1 = E1 / e // in eV\n",
"n = 2 // for n=2\n",
"E2 = n^2 * E1\n",
"n = 3 // for n=3\n",
"E3 = n^2 * E1\n",
"n = 4 // for n=4\n",
"E4 = n^2 * E1\n",
"printf('\n Energy Eigen values -\n For (n=2) for %f eV.\n For (n=3) is %f eV.\n For (n=4) is %f eV.',E2,E3,E4)"
   ]
   }
,
{
		   "cell_type": "markdown",
		   "metadata": {},
		   "source": [
			"## Example 15.22: Calculation_of_Order_of_exited_state.sce"
		   ]
		  },
  {
"cell_type": "code",
	   "execution_count": null,
	   "metadata": {
	    "collapsed": true
	   },
	   "outputs": [],
"source": [
"clc \n",
"// Given that\n",
"l = 4e-10 // width of box in m\n",
"E = 9.664e-17 // energy of electron in J\n",
"e = 1.6e-19 // charge on an electron in C\n",
"m = 9.1e-31 // mass of electron in kg\n",
"c = 3e8 // speed of light in m/sec\n",
"h = 6.62e-34 // Planck constant in J-sec\n",
"// Sample Problem 22 on page no. 15.33\n",
"printf('\n # PROBLEM 22 # \n')\n",
"printf('Standard formula used \n')\n",
"printf(' E = (n^2 * h^2) / (8 * m * L^2)) \n p_n = n*h/(2*pi) \n')\n",
"n = 1 // for n=1\n",
"E1 = (n^2 * h^2) / (8 * m * l^2)\n",
"N = sqrt(E / E1)\n",
"p = ((N) * h) / (2 * l)\n",
"printf('\n Order of exited state is %d.\n Momentum of electron is %e kg-m/sec.',N,p)"
   ]
   }
,
{
		   "cell_type": "markdown",
		   "metadata": {},
		   "source": [
			"## Example 15.23: Calculation_of_Energy_levels_of_electron_and_Energy_levels_of_marble.sce"
		   ]
		  },
  {
"cell_type": "code",
	   "execution_count": null,
	   "metadata": {
	    "collapsed": true
	   },
	   "outputs": [],
"source": [
"clc \n",
"// Given that\n",
"l = 10e-10 // width of box containing electron in m\n",
"E = 9.664e-17 // energy of electron in J\n",
"M = 0.001 // mass of glass marble in kg\n",
"l_ = 0.2 // width of box containing marble in m\n",
"e = 1.6e-19 // charge on an electron in C\n",
"m = 9.1e-31 // mass of electron in kg\n",
"c = 3e8 // speed of light in m/sec\n",
"h = 6.62e-34 // Planck constant in J-sec\n",
"// Sample Problem 23 on page no. 15.33\n",
"printf('\n # PROBLEM 23 # \n')\n",
"printf('Standard formula used \n')\n",
"printf(' E = (n^2 * h^2) / (8 * m * L^2)) \n p_n = n*h/(2*pi) \n')\n",
"// For electron\n",
"n = 1 // for n=1\n",
"E1 = (n^2 * h^2) / (8 * m * l^2)\n",
"E2 = 2^2* E1\n",
"E3 = 3^2 * E1\n",
"// For glass marble\n",
"E1_ = h^2/(8*M*l_^2)\n",
"E2_ = 2^2 * E1_\n",
"E3_ = 3^2 *E1_\n",
"printf('\n Energy levels of electron \n For (n=1) is %e J.\n For (n=2) is %e J.\n For (n=3) is %e J.\n Energy levels of marble \n For (n=1) is %e J.\n For (n=2) is %e J.\n For (n=3) is %e J.',E1,E2,E3,E1_,E2_,E3_)\n",
"printf('\n It is clear that the levels in case of marble are very small and are nearly zero. So it is not possible to measure them experimentally.')"
   ]
   }
,
{
		   "cell_type": "markdown",
		   "metadata": {},
		   "source": [
			"## Example 15.3: Calculation_of_Percentage_of_uncertainty_in_momentum.sce"
		   ]
		  },
  {
"cell_type": "code",
	   "execution_count": null,
	   "metadata": {
	    "collapsed": true
	   },
	   "outputs": [],
"source": [
"clc \n",
"// Given that \n",
"E = 500 // energy of electron in eV\n",
"delta_x = 2e-10 // error in position in m\n",
"e = 1.6e-19 // charge on an electron in C\n",
"m = 9.1e-31 // mass of electron in kg\n",
"h = 6.62e-34 // Planck constant in J-sec\n",
"// Sample Problem 3 on page no. 15.25\n",
"printf('\n # PROBLEM 3 # \n')\n",
"printf('Standard formula used \n')\n",
"printf(' p = (2 * m * E * e)^(1/2) \n')\n",
"p = sqrt(2 * m * E * e)\n",
"delta_p = h / (4 * %pi * delta_x)\n",
"P = (delta_p / p) * 100\n",
"printf('\n Percentage of uncertainty in momentum is %f.',P)"
   ]
   }
,
{
		   "cell_type": "markdown",
		   "metadata": {},
		   "source": [
			"## Example 15.4: Calculation_of_Uncertainty_in_position.sce"
		   ]
		  },
  {
"cell_type": "code",
	   "execution_count": null,
	   "metadata": {
	    "collapsed": true
	   },
	   "outputs": [],
"source": [
"clc \n",
"// Given that \n",
"delta_lambda = 1e-6 // accuracy in wavelength of its one part\n",
"lambda = 1e-10 // wavelength of x-ray in m\n",
"h = 6.62e-34 // Planck constant in J-sec\n",
"// Sample Problem 4 on page no. 15.25\n",
"printf('\n # PROBLEM 4 # \n')\n",
"printf('Standard formula used \n')\n",
"printf(' del_x*del_p = h/(4*pi) \n')\n",
"delta_x = lambda / (4 * %pi * delta_lambda)\n",
"printf('\n Uncertainty in position is %f micrometer.',delta_x*10^6)"
   ]
   }
,
{
		   "cell_type": "markdown",
		   "metadata": {},
		   "source": [
			"## Example 15.5: Calculation_of_Uncertainty_in_momentum.sce"
		   ]
		  },
  {
"cell_type": "code",
	   "execution_count": null,
	   "metadata": {
	    "collapsed": true
	   },
	   "outputs": [],
"source": [
"clc \n",
"// Given that \n",
"delta_x = 1e-10 // error in position in m\n",
"e = 1.6e-19 // charge on an electron in C\n",
"m = 9.1e-31 // mass of electron in kg\n",
"h = 6.62e-34 // Planck constant in J-sec\n",
"// Sample Problem 5 on page no. 15.26\n",
"printf('\n # PROBLEM 5 # \n')\n",
"printf('Standard formula used \n')\n",
"printf(' del_x*del_p = h/(4*pi) \n')\n",
"delta_p = h / (4 * %pi * delta_x)\n",
"printf('\n Uncertainty in momentum is %e kg m/sec.',delta_p)"
   ]
   }
,
{
		   "cell_type": "markdown",
		   "metadata": {},
		   "source": [
			"## Example 15.6: Calculation_of_Uncertainty_in_position.sce"
		   ]
		  },
  {
"cell_type": "code",
	   "execution_count": null,
	   "metadata": {
	    "collapsed": true
	   },
	   "outputs": [],
"source": [
"clc \n",
"// Given that \n",
"M = 5.4e-26 // momentum of electron in kg-m/sec\n",
"p = 0.05 // percentage accuracy in momentum\n",
"e = 1.6e-19 // charge on an electron in C\n",
"m = 9.1e-31 // mass of electron in kg\n",
"h = 6.62e-34 // Planck constant in J-sec\n",
"// Sample Problem 6 on page no. 15.26\n",
"printf('\n # PROBLEM 6 # \n')\n",
"printf('Standard formula used \n')\n",
"printf(' del_x*del_p = h/(4*pi) \n')\n",
"delta_m = p * M / 100\n",
"delta_x = h / (4 * %pi * delta_m)\n",
"printf('\n Uncertainty in position is %f micrometre.',delta_x * 10^6)"
   ]
   }
,
{
		   "cell_type": "markdown",
		   "metadata": {},
		   "source": [
			"## Example 15.7: Calculation_of_Minimum_energy_of_electron.sce"
		   ]
		  },
  {
"cell_type": "code",
	   "execution_count": null,
	   "metadata": {
	    "collapsed": true
	   },
	   "outputs": [],
"source": [
"clc \n",
"// Given that \n",
"r = 0.53e-10 // radius of hydrogen atom in m\n",
"e = 1.6e-19 // charge on an electron in C\n",
"m = 9.1e-31 // mass of electron in kg\n",
"h = 6.62e-34 // Planck constant in J-sec\n",
"// Sample Problem 7 on page no. 15.27\n",
"printf('\n # PROBLEM 7 # \n')\n",
"printf('Standard formula used \n')\n",
"printf(' del_x*del_p = h/(4*pi) \n p = (2 * m * E * e)^(1/2) \n')\n",
"delta_M = h / (4 * %pi * r)\n",
"delta_k = delta_M^2 / (2 * m)\n",
"printf('\n Minimum energy of electron is %e J.',delta_k)"
   ]
   }
,
{
		   "cell_type": "markdown",
		   "metadata": {},
		   "source": [
			"## Example 15.8: Calculation_of_Uncertainty_in_determining_the_position_of_electron.sce"
		   ]
		  },
  {
"cell_type": "code",
	   "execution_count": null,
	   "metadata": {
	    "collapsed": true
	   },
	   "outputs": [],
"source": [
"clc \n",
"// Given that\n",
"v = 5e3 // speed of electron in m/sec\n",
"a = 0.003 // percentage accuracy in measurement of speed \n",
"e = 1.6e-19 // charge on an electron in C\n",
"m = 9.1e-31 // mass of electron in kg\n",
"h = 6.62e-34 // Planck constant in J-sec\n",
"// Sample Problem 8 on page no. 15.27\n",
"printf('\n # PROBLEM 8 # \n')\n",
"printf('Standard formula used \n')\n",
"printf(' del_x*del_p = h/(4*pi) \n')\n",
"delta_v = v * a / 100\n",
"delta_p = m * delta_v\n",
"delta_x = h / (4 * %pi * delta_p)\n",
"printf('\n Uncertainty in determining the position of electron is %e m.',delta_x)"
   ]
   }
,
{
		   "cell_type": "markdown",
		   "metadata": {},
		   "source": [
			"## Example 15.9: Calculation_of_Uncertainty_in_determining_the_position.sce"
		   ]
		  },
  {
"cell_type": "code",
	   "execution_count": null,
	   "metadata": {
	    "collapsed": true
	   },
	   "outputs": [],
"source": [
"clc \n",
"// Given that\n",
"v = 6.6e4 // speed of electron in m/sec\n",
"a = 0.01 // percentage accuracy in measurement of speed \n",
"e = 1.6e-19 // charge on an electron in C\n",
"m = 9.1e-31 // mass of electron in kg\n",
"h = 6.6e-34 // Planck constant in J-sec\n",
"// Sample Problem 9 on page no. 15.27\n",
"printf('\n # PROBLEM 9 # \n')\n",
"printf('Standard formula used \n')\n",
"printf(' del_x*del_p = h/(4*pi) \n')\n",
"delta_v = v * a / 100\n",
"delta_p = m * delta_v\n",
"delta_x = h / (4 * %pi * delta_p)\n",
"printf('\n Uncertainty in determining the position is %e m.',delta_x)"
   ]
   }
],
"metadata": {
		  "kernelspec": {
		   "display_name": "Scilab",
		   "language": "scilab",
		   "name": "scilab"
		  },
		  "language_info": {
		   "file_extension": ".sce",
		   "help_links": [
			{
			 "text": "MetaKernel Magics",
			 "url": "https://github.com/calysto/metakernel/blob/master/metakernel/magics/README.md"
			}
		   ],
		   "mimetype": "text/x-octave",
		   "name": "scilab",
		   "version": "0.7.1"
		  }
		 },
		 "nbformat": 4,
		 "nbformat_minor": 0
}
