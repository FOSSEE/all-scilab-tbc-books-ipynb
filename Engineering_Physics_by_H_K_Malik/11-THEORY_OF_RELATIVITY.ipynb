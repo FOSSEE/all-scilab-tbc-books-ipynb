{
"cells": [
 {
		   "cell_type": "markdown",
	   "metadata": {},
	   "source": [
       "# Chapter 11: THEORY OF RELATIVITY"
	   ]
	},
{
		   "cell_type": "markdown",
		   "metadata": {},
		   "source": [
			"## Example 11.10: Calculation_of_Velocity.sce"
		   ]
		  },
  {
"cell_type": "code",
	   "execution_count": null,
	   "metadata": {
	    "collapsed": true
	   },
	   "outputs": [],
"source": [
"clc \n",
"// Given that\n",
"u = 3e8 // speed of signal in meter/sec\n",
"// Sample Problem 10 on page no. 11.21\n",
"printf('\n # PROBLEM 10 # \n')\n",
"printf(' Standard formula used \n')\n",
"printf(' u_x = u_x_ + v / (1+ v*u_x_/c^2). \n ')\n",
"u_ = (u + 3e8) / (1 + (u * 3e8) / 3e8^2)\n",
"printf('\n Velocity is %d*c, hence we can say that no signal can travel faster than light.',u_/3e8)"
   ]
   }
,
{
		   "cell_type": "markdown",
		   "metadata": {},
		   "source": [
			"## Example 11.11: Calculation_of_Speed_of_particle.sce"
		   ]
		  },
  {
"cell_type": "code",
	   "execution_count": null,
	   "metadata": {
	    "collapsed": true
	   },
	   "outputs": [],
"source": [
"clc \n",
"// Given that\n",
"r = 2.25 // ratio of mass of particle to the rest mass\n",
"// Sample Problem 11 on page no. 11.22\n",
"printf('\n # PROBLEM 11 # \n')\n",
"printf(' Standard formula used \n')\n",
"printf(' m = m_0/((1-v^2/c^2)^1/2) \n ')\n",
"v = 3e8 * sqrt(1 - (1 / r)^2)\n",
"printf('\n Speed of particle is %e meter/sec.',v)"
   ]
   }
,
{
		   "cell_type": "markdown",
		   "metadata": {},
		   "source": [
			"## Example 11.12: Calculation_of_Velocity_of_particle.sce"
		   ]
		  },
  {
"cell_type": "code",
	   "execution_count": null,
	   "metadata": {
	    "collapsed": true
	   },
	   "outputs": [],
"source": [
"clc \n",
"// Given that\n",
"r = 2 // ratio of kinetic energy of body to its rest mass\n",
"// Sample Problem 12 on page no. 11.22\n",
"printf('\n # PROBLEM 12 # \n')\n",
"printf(' Standard formula used \n')\n",
"printf(' m = m_0/((1-v^2/c^2)^1/2) \n KE = (m-m_0)*c^2  \n ')\n",
"v = 3e8 * sqrt(1 - (1 / (r + 1))^2)\n",
"printf('\n Velocity of particle is %f c.',v/3e8)"
   ]
   }
,
{
		   "cell_type": "markdown",
		   "metadata": {},
		   "source": [
			"## Example 11.13: Calculation_of_Kinetic_energy_of_electron_and_Momentum_of_particle.sce"
		   ]
		  },
  {
"cell_type": "code",
	   "execution_count": null,
	   "metadata": {
	    "collapsed": true
	   },
	   "outputs": [],
"source": [
"clc \n",
"// Given that\n",
"r = 11 // ratio of mass of particle to the rest mass of electron\n",
"// Sample Problem 13 on page no. 11.22\n",
"printf('\n # PROBLEM 13 # \n')\n",
"printf(' Standard formula used \n')\n",
"printf(' m = m_0/((1-v^2/c^2)^1/2) \n KE = (m-m_0)*c^2  \n ')\n",
"KE = (r - 1) * 9.1e-31 * 3e8^2 / (1.6e-19)\n",
"m = 3e8 * sqrt(1 - (1 / r)^2) * 9.1e-31 * 11\n",
"printf('\n Kinetic energy of electron is %f MeV.\n Momentum of particle is %e N-sec.',KE/1e6,m)"
   ]
   }
,
{
		   "cell_type": "markdown",
		   "metadata": {},
		   "source": [
			"## Example 11.14: Calculation_of_Velocity_of_electron.sce"
		   ]
		  },
  {
"cell_type": "code",
	   "execution_count": null,
	   "metadata": {
	    "collapsed": true
	   },
	   "outputs": [],
"source": [
"clc \n",
"// Given that\n",
"m = 1.67e-27  // mass of electron in kg\n",
"m_ = 9.1e-31 // rest mass of electron in kg\n",
"// Sample Problem 14 on page no. 11.23\n",
"printf('\n # PROBLEM 14 # \n')\n",
"printf(' Standard formula used \n')\n",
"printf(' m = m_0/((1-v^2/c^2)^1/2) \n ')\n",
"v = 3e8 * sqrt(1 - (m_ / m)^2)\n",
"printf('\n Velocity of electron is %f meter/sec.',v)"
   ]
   }
,
{
		   "cell_type": "markdown",
		   "metadata": {},
		   "source": [
			"## Example 11.15: EX11_15.sce"
		   ]
		  },
  {
"cell_type": "code",
	   "execution_count": null,
	   "metadata": {
	    "collapsed": true
	   },
	   "outputs": [],
"source": [
"clc \n",
"// Given that\n",
"E = 0.1 // kinetic speed of electron in Mev\n",
"// Sample Problem 15 on page no. 11.23\n",
"printf('\n # PROBLEM 15 # \n')\n",
"printf(' Standard formula used \n')\n",
"printf(' m = m_0/((1-v^2/c^2)^1/2) \n KE = (m-m_0)*c^2  \n KE = 1/2*m*v^2 \n')\n",
"v_ = sqrt(2 * (E * 1.6e-13) / 9.1e-31)\n",
"v = 3e8 * sqrt(1 - (1 / (1 + (1.6e-13 * E) / (9.1e-31 * 3e8^2)))^2)\n",
"printf('\n Speed according to classical mechanics is %e meter/sec.\n Speed according to relativistic mechanics is %e meter/sec.',v_,v)"
   ]
   }
,
{
		   "cell_type": "markdown",
		   "metadata": {},
		   "source": [
			"## Example 11.17: Calculation_of_Velocity_of_particle.sce"
		   ]
		  },
  {
"cell_type": "code",
	   "execution_count": null,
	   "metadata": {
	    "collapsed": true
	   },
	   "outputs": [],
"source": [
"clc \n",
"// Given that\n",
"r1 = 3 // ratio of kinetic energy of body to its rest mass in first case\n",
"r2 = 1 // ratio of kinetic energy of body to its rest mass in second case\n",
"// Sample Problem 17 on page no. 11.24\n",
"printf('\n # PROBLEM 17 # \n')\n",
"printf(' Standard formula used \n')\n",
"printf(' m = m_0/((1-v^2/c^2)^1/2) \n KE = (m-m_0)*c^2 \n')\n",
"v1 = 3e8 * sqrt(1 - (1 / (r1 + 1))^2)\n",
"v2 = 3e8 * sqrt(1 - (1 / (r2 + 1))^2)\n",
"printf('\n Velocity of particle if kinetic energy is %d times of rest mass energy  is %e meter/sec.\n Velocity of particle if kinetic energy is %d times of rest mass energy  is %e meter/sec.\n',r1,v1,r2,v2)"
   ]
   }
,
{
		   "cell_type": "markdown",
		   "metadata": {},
		   "source": [
			"## Example 11.19: Calculation_of_Speed_of_electron_and_Mass_of_electron.sce"
		   ]
		  },
  {
"cell_type": "code",
	   "execution_count": null,
	   "metadata": {
	    "collapsed": true
	   },
	   "outputs": [],
"source": [
"clc \n",
"// Given that\n",
"E = 1.5 // kinetic energy of electron in Mev\n",
"// Sample Problem 19 on page no. 11.25\n",
"printf('\n # PROBLEM 19 # \n')\n",
"printf(' Standard formula used \n')\n",
"printf(' m = m_0/((1-v^2/c^2)^1/2) \n KE = (m-m_0)*c^2 \n')\n",
"v = 3e8 * sqrt(1 - (1 / (1 + (1.6e-19 * 2e6) / (9.1e-31 * 3e8^2)))^2)\n",
"m = (E * 1.6e-13 / (3e8)^2) + 9.1e-31\n",
"printf('\n Speed of electron is %e meter/sec.\n Mass of electron is %e kg.',v,m)"
   ]
   }
,
{
		   "cell_type": "markdown",
		   "metadata": {},
		   "source": [
			"## Example 11.20: Calculation_of_Length_of_meter_stick.sce"
		   ]
		  },
  {
"cell_type": "code",
	   "execution_count": null,
	   "metadata": {
	    "collapsed": true
	   },
	   "outputs": [],
"source": [
"clc \n",
"// Given that\n",
"r = 3 / 2 // ratio of mass of metre stick to the rest mass of metre stick\n",
"// Sample Problem 20 on page no. 11.26\n",
"printf('\n # PROBLEM 20 # \n')\n",
"printf(' Standard formula used \n')\n",
"printf(' m = m_0/((1-v^2/c^2)^1/2) \n l = l_0/((1-v^2/c^2)^1/2)  \n')\n",
"l = 1 * (1 / r)\n",
"printf('\n Length of meter stick is %f meter if mass is %f times of its rest mass.',l,r)"
   ]
   }
,
{
		   "cell_type": "markdown",
		   "metadata": {},
		   "source": [
			"## Example 11.21: Calculation_of_Velocity_of_a_frame_with_respect_to_other_frame.sce"
		   ]
		  },
  {
"cell_type": "code",
	   "execution_count": null,
	   "metadata": {
	    "collapsed": true
	   },
	   "outputs": [],
"source": [
"clc \n",
"// Given that\n",
"r = 1 / 2 // ratio of area of circular lamina in frame S_ to the ratio of area of circular lamina in frame S\n",
"// Sample Problem 21 on page no. 11.26\n",
"printf('\n # PROBLEM 21 # \n')\n",
"printf(' Standard formula used \n')\n",
"printf(' d = d_0/((1-v^2/c^2)^1/2)  \n')\n",
"v = 3e8 * sqrt(1 - r^2)\n",
"printf('\n Velocity of frame S_ w.r.t. frame S is %e meter/sec.',v)"
   ]
   }
,
{
		   "cell_type": "markdown",
		   "metadata": {},
		   "source": [
			"## Example 11.22: Calculation_of_Speed_of_clock.sce"
		   ]
		  },
  {
"cell_type": "code",
	   "execution_count": null,
	   "metadata": {
	    "collapsed": true
	   },
	   "outputs": [],
"source": [
"clc \n",
"// Given that\n",
"t = 1 // lose in time in an hour in minute\n",
"// Sample Problem 22 on page no. 11.27\n",
"printf('\n # PROBLEM 22 # \n')\n",
"printf(' Standard formula used \n')\n",
"printf(' t = t_0/((1-v^2/c^2)^1/2) \n')\n",
"v = 3e8 * sqrt(1 - ((60 - t) / 60)^2)\n",
"printf('\n Speed of clock is %e meter/sec.',v)"
   ]
   }
,
{
		   "cell_type": "markdown",
		   "metadata": {},
		   "source": [
			"## Example 11.23: Calculation_of_Distance_travel_by_the_beam.sce"
		   ]
		  },
  {
"cell_type": "code",
	   "execution_count": null,
	   "metadata": {
	    "collapsed": true
	   },
	   "outputs": [],
"source": [
"clc \n",
"// Given that\n",
"t_ = 2.5e-8 // proper life of pi+ mesons in sec\n",
"v = 2.4e8 // velocity of beam of mesons in m/sec\n",
"r = 1 / exp(2) // ratio of final flux to initial flux of the meson beam\n",
"// Sample Problem 23 on page no. 11.27\n",
"printf('\n # PROBLEM 23 # \n')\n",
"printf(' Standard formula used \n')\n",
"printf(' t = t_0/((1-v^2/c^2)^1/2) \n N = N_0*e^(-t/tau) \n')\n",
"t = t_ / sqrt(1 - (v / 3e8)^2)\n",
"T = t * log(1 / r)\n",
"d = T * v\n",
"printf('\n Distance travel by the beam is %f meter.',d)"
   ]
   }
,
{
		   "cell_type": "markdown",
		   "metadata": {},
		   "source": [
			"## Example 11.24: Calculation_of_Velocity_of_rocket_with_respect_to_earth.sce"
		   ]
		  },
  {
"cell_type": "code",
	   "execution_count": null,
	   "metadata": {
	    "collapsed": true
	   },
	   "outputs": [],
"source": [
"clc \n",
"// Given that\n",
"v = 1.8e8 // velocity of space ship away from the earth in m/sec\n",
"v1 = 2.1e8 // velocity of rocket w.r.t. space ship away from the earth in first case in m/sec\n",
"v2 = -2.1e8 // velocity of rocket w.r.t. space ship away from the earth in second case in m/sec\n",
"// Sample Problem 24 on page no. 11.27\n",
"printf('\n # PROBLEM 24 # \n')\n",
"printf(' Standard formula used \n')\n",
"printf(' u_x = u_x_ + v / (1+ v*u_x_/c^2) \n ')\n",
"u1 = (v1 + v) / (1 + ((v1 * v) / (3e8)^2))\n",
"u2 = (v2 + v) / (1 + ((v2 * v) / (3e8)^2))\n",
"printf('\n Velocity of rocket w.r.t. earth in first case = %f c away from the earth.\n Velocity of rocket w.r.t. earth in second case = %f c away from the earth ',u1/3e8,u2/3e8)"
   ]
   }
,
{
		   "cell_type": "markdown",
		   "metadata": {},
		   "source": [
			"## Example 11.25: Calculation_of_Length_as_it_appear_to_the_observer.sce"
		   ]
		  },
  {
"cell_type": "code",
	   "execution_count": null,
	   "metadata": {
	    "collapsed": true
	   },
	   "outputs": [],
"source": [
"clc \n",
"// Given that\n",
"l = 1 // length of the rod in meter\n",
"v = 1.8e8 // speed of rod along its length in meter/sec\n",
"// Sample Problem 25 on page no. 11.28\n",
"printf('\n # PROBLEM 25 # \n')\n",
"printf(' Standard formula used \n')\n",
"printf(' l = l_0/((1-v^2/c^2)^1/2)  \n')\n",
"L = l * sqrt(1- (v / 3e8)^2)\n",
"printf('\n Length as it appear to the observer is %f meter. ',L)"
   ]
   }
,
{
		   "cell_type": "markdown",
		   "metadata": {},
		   "source": [
			"## Example 11.26: Calculation_of_Length_as_it_appear_to_the_observer.sce"
		   ]
		  },
  {
"cell_type": "code",
	   "execution_count": null,
	   "metadata": {
	    "collapsed": true
	   },
	   "outputs": [],
"source": [
"clc \n",
"// Given that\n",
"l = 2 // length of the rod in meter\n",
"v = 2.7e8 // speed of rod along its length in meter/sec\n",
"// Sample Problem 26 on page no. 11.28\n",
"printf('\n # PROBLEM 26 # \n')\n",
"printf(' Standard formula used \n')\n",
"printf(' l = l_0/((1-v^2/c^2)^1/2)  \n')\n",
"L = l * sqrt(1- (v / 3e8)^2)\n",
"printf('\n Length as it appear to the observer is %f meter.',L)"
   ]
   }
,
{
		   "cell_type": "markdown",
		   "metadata": {},
		   "source": [
			"## Example 11.27: Calculation_of_Percentage_length_contraction.sce"
		   ]
		  },
  {
"cell_type": "code",
	   "execution_count": null,
	   "metadata": {
	    "collapsed": true
	   },
	   "outputs": [],
"source": [
"clc \n",
"// Given that\n",
"l = 100 // consider the length of the rod in meter\n",
"v = 2.4e8 // speed of rod in meter/sec\n",
"theta = %pi / 3 // direction of velocity of rod along its length in radian\n",
"// Sample Problem 27 on page no. 11.28\n",
"printf('\n # PROBLEM 27 # \n')\n",
"printf(' Standard formula used \n')\n",
"printf(' l = l_0/((1-v^2/c^2)^1/2)  \n l^2 = l_x^2 + l_y^2 \n')\n",
"Lx = l * cos(theta)\n",
"Ly = l * sin(theta)\n",
"L_x = Lx * sqrt(1 - (v / 3e8)^2)\n",
"L_y = Ly \n",
"L = sqrt(L_x^2 + L_y^2)\n",
"p_l = ((l - L) / l) * 100 \n",
"printf('\n Percentage length contraction is %f percent.',p_l)"
   ]
   }
,
{
		   "cell_type": "markdown",
		   "metadata": {},
		   "source": [
			"## Example 11.28: Calculation_of_Speed_of_the_rod_relative_to_observer.sce"
		   ]
		  },
  {
"cell_type": "code",
	   "execution_count": null,
	   "metadata": {
	    "collapsed": true
	   },
	   "outputs": [],
"source": [
"clc \n",
"// Given that\n",
"r = 0.5 // ratio of length of rod when it is in motion to the length of the rod when it is in rest \n",
"// Sample Problem 28 on page no. 11.29\n",
"printf('\n # PROBLEM 28 # \n')\n",
"printf(' Standard formula used \n')\n",
"printf(' l = l_0/((1-v^2/c^2)^1/2)  \n')\n",
"v = 3e8 * sqrt(1 - r^2)\n",
"printf('\n Speed of the rod relative to observer is %f c.',v/3e8)"
   ]
   }
,
{
		   "cell_type": "markdown",
		   "metadata": {},
		   "source": [
			"## Example 11.29: Calculation_of_Length_of_the_rod_in_moving_frame_and_Orientation_of_the_rod.sce"
		   ]
		  },
  {
"cell_type": "code",
	   "execution_count": null,
	   "metadata": {
	    "collapsed": true
	   },
	   "outputs": [],
"source": [
"clc \n",
"// Given that\n",
"l = 5 // length of the rod in meter\n",
"v = 1.8e8 // speed of rod in meter/sec\n",
"theta = %pi / 6 // direction of velocity of rod along its length in radian\n",
"// Sample Problem 29 on page no. 11.30\n",
"printf('\n # PROBLEM 29 # \n')\n",
"printf(' Standard formula used \n')\n",
"printf(' l = l_0/((1-v^2/c^2)^1/2)  \n l^2 = l_x^2 + l_y^2 \n')\n",
"Lx = l * cos(theta)\n",
"Ly = l * sin(theta)\n",
"L_x = Lx * sqrt(1 - (v / 3e8)^2)\n",
"L_y = Ly \n",
"L = sqrt(L_x^2 + L_y^2)\n",
"orientation = atan(L_y / L_x) * (180 / %pi)\n",
"printf('\n Length of the rod in moving frame is %f meter.\n Orientation of the rod is %f degree.',L,orientation)"
   ]
   }
,
{
		   "cell_type": "markdown",
		   "metadata": {},
		   "source": [
			"## Example 11.30: Calculation_of_half_life_of_particle.sce"
		   ]
		  },
  {
"cell_type": "code",
	   "execution_count": null,
	   "metadata": {
	    "collapsed": true
	   },
	   "outputs": [],
"source": [
"clc \n",
"// Given that\n",
"T = 17.8e-9 // half-life of prticle at rest in sec\n",
"v = 2.4e8 // speed of particle in meter/sec\n",
"// Sample Problem 30 on page no. 11.30\n",
"printf('\n # PROBLEM 30 # \n')\n",
"printf(' Standard formula used \n')\n",
"printf(' t = t_0/((1-v^2/c^2)^1/2) \n')\n",
"t = T / (sqrt(1 - (v / 3e8)^2))\n",
"printf('\n New half-life of particle is %f nanosec.',t/1e-9)"
   ]
   }
,
{
		   "cell_type": "markdown",
		   "metadata": {},
		   "source": [
			"## Example 11.31: Calculation_of_Time_lost_per_day.sce"
		   ]
		  },
  {
"cell_type": "code",
	   "execution_count": null,
	   "metadata": {
	    "collapsed": true
	   },
	   "outputs": [],
"source": [
"clc \n",
"// Given that\n",
"T = 24 // no. of hours in a day\n",
"v = 1e8 // speed of spaceship in meter/sec\n",
"// Sample Problem 31 on page no. 11.30\n",
"printf('\n # PROBLEM 31 # \n')\n",
"printf(' Standard formula used \n')\n",
"printf(' t = t_0/((1-v^2/c^2)^1/2) \n')\n",
"t = T * (sqrt(1 - (v / 3e8)^2))\n",
"T_ = T - t\n",
"m=(T_-1)*60\n",
"s=(m-22)*60\n",
"printf('\n Time lost per day is %d hours %d minute %d sec.',T_,m,s)\n",
"//Answer in the book:1 hr 22 min 12 sec\n",
"//Answer in the program:1.372583 e+00 hours"
   ]
   }
,
{
		   "cell_type": "markdown",
		   "metadata": {},
		   "source": [
			"## Example 11.32: Calculation_of_Speed_of_rocket.sce"
		   ]
		  },
  {
"cell_type": "code",
	   "execution_count": null,
	   "metadata": {
	    "collapsed": true
	   },
	   "outputs": [],
"source": [
"clc \n",
"// Given that\n",
"T = 4 // no. of year when rocket is moving corresponding to one year \n",
"// Sample Problem 32 on page no. 11.30\n",
"printf('\n # PROBLEM 32 # \n')\n",
"printf(' Standard formula used \n')\n",
"printf(' t = t_0/((1-v^2/c^2)^1/2) \n')\n",
"v = 3e8 * sqrt(1 - (1 / T)^2)\n",
"printf('\n Speed of rocket is %f c.',v/3e8)"
   ]
   }
,
{
		   "cell_type": "markdown",
		   "metadata": {},
		   "source": [
			"## Example 11.33: Calculation_of_Time_taken_by_the_rocket.sce"
		   ]
		  },
  {
"cell_type": "code",
	   "execution_count": null,
	   "metadata": {
	    "collapsed": true
	   },
	   "outputs": [],
"source": [
"clc \n",
"// Given that\n",
"d = 4 // distance of star from the earth in light years\n",
"v = 3e8 * sqrt(0.9999) // speed of rocket in meter/sec\n",
"// Sample Problem 33 on page no. 11.31\n",
"printf('\n # PROBLEM 33 # \n')\n",
"printf(' Standard formula used \n')\n",
"printf(' t = t_0/((1-v^2/c^2)^1/2) \n')\n",
"t = (2 * d * 3e8) / v\n",
"T_ = t * sqrt(1 - (v / 3e8)^2)\n",
"printf('\n Time taken by the rocket is %f year.',T_)"
   ]
   }
,
{
		   "cell_type": "markdown",
		   "metadata": {},
		   "source": [
			"## Example 11.34: Calculation_of_Proper_life_time_of_particle.sce"
		   ]
		  },
  {
"cell_type": "code",
	   "execution_count": null,
	   "metadata": {
	    "collapsed": true
	   },
	   "outputs": [],
"source": [
"clc \n",
"// Given that\n",
"t = 2e-7 // life time of particle when it is moving in sec\n",
"v = 2.8e8 // speed of particle in meter/sec\n",
"// Sample Problem 34 on page no. 11.31\n",
"printf('\n # PROBLEM 34 # \n')\n",
"printf(' Standard formula used \n')\n",
"printf(' t = t_0/((1-v^2/c^2)^1/2) \n')\n",
"T_ = t * sqrt(1 - (v / 3e8)^2)\n",
"printf('\n Proper life time of particle is %e sec.',T_)"
   ]
   }
,
{
		   "cell_type": "markdown",
		   "metadata": {},
		   "source": [
			"## Example 11.35: EX11_35.sce"
		   ]
		  },
  {
"cell_type": "code",
	   "execution_count": null,
	   "metadata": {
	    "collapsed": true
	   },
	   "outputs": [],
"source": [
"clc \n",
"// Given that\n",
"v1 = 2.7e8 // velocity of first electron beam in meter/sec\n",
"v2 = -2.7e8 // velocity of second electron beam in meter/sec\n",
"// Sample Problem 35 on page no. 11.31\n",
"printf('\n # PROBLEM 35 # \n')\n",
"printf(' Standard formula used \n')\n",
"printf(' u_x = u_x_ + v / (1+ v*u_x_/c^2) \n ')\n",
"u = v1 - v2\n",
"u_ = (v1 - v2) / (1 - (v1 * v2) / (3e8)^2)\n",
"printf('\n Velocity of electrons beam w.r.t. another electron beam according to Newtonian mechanics is %f c.\n Velocity of electrons beam measured by the observer moving with other electron beam = %f c.',u/3e8,u_/3e8)"
   ]
   }
,
{
		   "cell_type": "markdown",
		   "metadata": {},
		   "source": [
			"## Example 11.36: Calculation_of_Relative_velocity_of_photons.sce"
		   ]
		  },
  {
"cell_type": "code",
	   "execution_count": null,
	   "metadata": {
	    "collapsed": true
	   },
	   "outputs": [],
"source": [
"clc \n",
"// Given that\n",
"c = 3e8 // velocity of photon in meter/sec\n",
"// Sample Problem 36 on page no. 11.32\n",
"printf('\n # PROBLEM 36 # \n')\n",
"printf(' Standard formula used \n')\n",
"printf(' u_x = u_x_ + v / (1+ v*u_x_/c^2) \n ')\n",
"u = (c + c) / ( 1 + (c / 3e8)^2)\n",
"printf('\n Relative velocity of photons is %e meter/sec.',u)"
   ]
   }
,
{
		   "cell_type": "markdown",
		   "metadata": {},
		   "source": [
			"## Example 11.37: Calculation_of_Relativistic_mass_of_proton.sce"
		   ]
		  },
  {
"cell_type": "code",
	   "execution_count": null,
	   "metadata": {
	    "collapsed": true
	   },
	   "outputs": [],
"source": [
"clc \n",
"// Given that\n",
"E = 900 // total relativistic energy of proton in Mev\n",
"m = 1.63-27 // rest mass of proton in kg\n",
"c = 3e8 // velocity of photon in meter/sec\n",
"// Sample Problem 37 on page no. 11.32\n",
"printf('\n # PROBLEM 37 # \n')\n",
"printf(' Standard formula used \n')\n",
"printf(' E = m*c^2 \n ')\n",
"m_ = (E * 1.6e-13) / (c)^2\n",
"printf('\n Relativistic mass of proton is %e kg,\n Here relativistic mass is same as rest mass\n hence proton is at rest and speed and kinetic energy of proton will be zero',m_)"
   ]
   }
,
{
		   "cell_type": "markdown",
		   "metadata": {},
		   "source": [
			"## Example 11.38: Calculation_of_Fraction_of_total_energy_content.sce"
		   ]
		  },
  {
"cell_type": "code",
	   "execution_count": null,
	   "metadata": {
	    "collapsed": true
	   },
	   "outputs": [],
"source": [
"clc \n",
"// Given that\n",
"E = 5.4e6 // energy liberates during dynamite explosion in J/kg\n",
"c = 3e8 // velocity of photon in meter/sec\n",
"// Sample Problem 38 on page no. 11.32\n",
"printf('\n # PROBLEM 38 # \n')\n",
"printf(' Standard formula used \n')\n",
"printf(' E = m*c^2 \n ')\n",
"E_ = 1 * c^2 // energy liberated by 1 kg content in J\n",
"f = E / E_\n",
"printf('\n Fraction of total energy content in it is %e per kg.',f)"
   ]
   }
,
{
		   "cell_type": "markdown",
		   "metadata": {},
		   "source": [
			"## Example 11.39: Calculation_of_Speed_of_the_electron.sce"
		   ]
		  },
  {
"cell_type": "code",
	   "execution_count": null,
	   "metadata": {
	    "collapsed": true
	   },
	   "outputs": [],
"source": [
"clc \n",
"// Given that\n",
"k = 1.02 // kinetic energy of electron in Mev\n",
"E_ = 0.51 // rest mass energy of electron in Mev\n",
"c = 3e8 // velocity of photon in meter/sec\n",
"// Sample Problem 39 on page no. 11.32\n",
"printf('\n # PROBLEM 39 # \n')\n",
"printf(' Standard formula used \n')\n",
"printf(' E = KE + m*c^2 \n m = m_0/((1-v^2/c^2)^1/2) \n')\n",
"E = k + E_\n",
"v = c * sqrt(1 - (E_ / E)^2)\n",
"printf('\n Speed of the electron is %e meter/sec.',v)"
   ]
   }
,
{
		   "cell_type": "markdown",
		   "metadata": {},
		   "source": [
			"## Example 11.40: Calculation_of_Rate_of_decrement_of_mass_of_the_sun.sce"
		   ]
		  },
  {
"cell_type": "code",
	   "execution_count": null,
	   "metadata": {
	    "collapsed": true
	   },
	   "outputs": [],
"source": [
"clc \n",
"// Given that\n",
"E = 1400 // solar energy receives by the earth in W/square meter\n",
"d = 1.5e11 // distance between earth and the sun in meter\n",
"c = 3e8 // velocity of photon in meter/sec\n",
"// Sample Problem 40 on page no. 11.33\n",
"printf('\n # PROBLEM 40 # \n')\n",
"printf(' Standard formula used \n')\n",
"printf(' E = m*c^2 \n ')\n",
"E_ = 4 * %pi * d^2 * E\n",
"m = E_ / c^2\n",
"printf('\n Rate of decrement of mass of the sun is %e kg/sec.',m)"
   ]
   }
,
{
		   "cell_type": "markdown",
		   "metadata": {},
		   "source": [
			"## Example 11.5: EX11_5.sce"
		   ]
		  },
  {
"cell_type": "code",
	   "execution_count": null,
	   "metadata": {
	    "collapsed": true
	   },
	   "outputs": [],
"source": [
"clc \n",
"// Given that\n",
"x = 100 // in meter\n",
"y = 10 // in meter\n",
"z = 5  // in meter\n",
"t = 1e-4 // in sec\n",
"// coordinates of point in frame F\n",
"v = 2.7e8 // velocity of frame F_ w.r.t. frame F in m/sed\n",
"c=3e8 // speed of light in m/sec\n",
"// Sample Problem 5 on page no. 11.19\n",
"printf('\n # PROBLEM 5 # \n')\n",
"// according to Galilean transformation\n",
"x__ = x-v*t\n",
"y__=y\n",
"z__=z\n",
"t__=t\n",
"// according to Lorentz transformation\n",
"x_ = (x-v*t)/sqrt(1-(v/c)^2)\n",
"y_=y\n",
"z_=z\n",
"t_=(t-(v*x/c^2))/sqrt(1-(v/c)^2)\n",
"printf('\n Coordinate of the event in reference frame F_ using (a)Galilean transformation-x=%f m, y=%f m, z = %f m, t = %e sec. \n (b)Lorentz transformation-x=%f m,y =%f m, z = %f m, t=%e sec. ',x__,y__,z__,t__,x_,y_,z_,t_)"
   ]
   }
,
{
		   "cell_type": "markdown",
		   "metadata": {},
		   "source": [
			"## Example 11.6: Calculation_of_Speed_of_particle.sce"
		   ]
		  },
  {
"cell_type": "code",
	   "execution_count": null,
	   "metadata": {
	    "collapsed": true
	   },
	   "outputs": [],
"source": [
"clc \n",
"// Given that\n",
"r = 4 // ratio of mass of particle to the rest mass\n",
"// Sample Problem 6 on page no. 11.20\n",
"printf('\n # PROBLEM 6 # \n')\n",
"printf(' Standard formula used \n')\n",
"printf(' m = m_0/((1-v^2/c^2)^1/2) \n ')\n",
"v = 3e8 * sqrt(1 - (1 / r)^2)\n",
"printf('\n Speed of particle is %e meter/sec.',v)"
   ]
   }
,
{
		   "cell_type": "markdown",
		   "metadata": {},
		   "source": [
			"## Example 11.7: Calculation_of_Speed_of_particle.sce"
		   ]
		  },
  {
"cell_type": "code",
	   "execution_count": null,
	   "metadata": {
	    "collapsed": true
	   },
	   "outputs": [],
"source": [
"clc \n",
"// Given that\n",
"r = 1.2 // ratio of mass of particle to the rest mass\n",
"// Sample Problem 7 on page no. 11.20\n",
"printf('\n # PROBLEM 7 # \n')\n",
"printf(' Standard formula used \n')\n",
"printf(' m = m_0/((1-v^2/c^2)^1/2) \n ')\n",
"v = 3e8 * sqrt(1 - (1 / r)^2)\n",
"printf('\n Speed of particle is %f c.',v/3e8)"
   ]
   }
,
{
		   "cell_type": "markdown",
		   "metadata": {},
		   "source": [
			"## Example 11.9: Calculation_of_Speed_of_electron_and_Mass_of_electron.sce"
		   ]
		  },
  {
"cell_type": "code",
	   "execution_count": null,
	   "metadata": {
	    "collapsed": true
	   },
	   "outputs": [],
"source": [
"clc \n",
"// Given that\n",
"E = 2 // kinetic energy of electron in Mev\n",
"// Sample Problem 9 on page no. 11.20\n",
"printf('\n # PROBLEM 9 # \n')\n",
"printf(' Standard formula used \n')\n",
"printf(' m = m_0/((1-v^2/c^2)^1/2) \n  KE = m*c^2 - m_0*c^2 \n')\n",
"v = 3e8 * sqrt(1 - (1 / (1 + (1.6e-19 * 2e6) / (9.1e-31 * 3e8^2)))^2)\n",
"m = (9.1e-31) / sqrt(1 - (v / 3e8)^2)\n",
"printf('\n Speed of electron is %f c.\n Mass of electron is %e kg.',v/3e8,m)"
   ]
   }
],
"metadata": {
		  "kernelspec": {
		   "display_name": "Scilab",
		   "language": "scilab",
		   "name": "scilab"
		  },
		  "language_info": {
		   "file_extension": ".sce",
		   "help_links": [
			{
			 "text": "MetaKernel Magics",
			 "url": "https://github.com/calysto/metakernel/blob/master/metakernel/magics/README.md"
			}
		   ],
		   "mimetype": "text/x-octave",
		   "name": "scilab",
		   "version": "0.7.1"
		  }
		 },
		 "nbformat": 4,
		 "nbformat_minor": 0
}
