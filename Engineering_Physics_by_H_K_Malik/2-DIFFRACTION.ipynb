{
"cells": [
 {
		   "cell_type": "markdown",
	   "metadata": {},
	   "source": [
       "# Chapter 2: DIFFRACTION"
	   ]
	},
{
		   "cell_type": "markdown",
		   "metadata": {},
		   "source": [
			"## Example 2.10: Calculation_of_No_of_zone_of_Fresnel.sce"
		   ]
		  },
  {
"cell_type": "code",
	   "execution_count": null,
	   "metadata": {
	    "collapsed": true
	   },
	   "outputs": [],
"source": [
"clc \n",
"// Given that\n",
"lambda = 4e-7 // wavelength of light in meter\n",
"u = 0.2 // distance of object from zone plate in meter\n",
"v = 0.2 // distance of brightest image from from zone plate in meter \n",
"r = 0.01 // radius in meter\n",
"// Sample Problem 10 on page no. 2.41\n",
"printf('\n # PROBLEM 10 # \n')\n",
"f = (u * v) / (u + v) // calculation for focal length\n",
"n = (r^2) / (f * lambda) // calculation for no. of zone of Fresnel\n",
"printf('\n Standard formula used \n f = (u * v) / (u + v). \n n = (r^2) / (f * lambda).\n ')\n",
"printf('\n No. of zone of Fresnel = %f',n)"
   ]
   }
,
{
		   "cell_type": "markdown",
		   "metadata": {},
		   "source": [
			"## Example 2.11: Calculation_of_Distance_of_first_image_from_zone_plate.sce"
		   ]
		  },
  {
"cell_type": "code",
	   "execution_count": null,
	   "metadata": {
	    "collapsed": true
	   },
	   "outputs": [],
"source": [
"clc \n",
"// Given that\n",
"lambda = 5.893e-7 // wavelength of light in meter\n",
"d = 2.3e-3 // diameter of the central zone of zone plate in meter\n",
"u = 6 // distance between point source from zone plate in meter\n",
"// Sample Problem 11 on page no. 2.42\n",
"printf('\n # PROBLEM 11 # \n')\n",
"n = 1 // for central zone\n",
"f = (d^2) / (4 * lambda * n) // calculation for focal length\n",
"disp(f)\n",
"v = (f * u) / (u - f)  // calculation for distance of first image from zone plate\n",
"printf('\n Standard formula used \n f = (d^2) / (4 * lambda * n). \n v = (f * u) / (u - f). \n ')\n",
"printf('\n Distance of first image from zone plate = %f meter ',v)"
   ]
   }
,
{
		   "cell_type": "markdown",
		   "metadata": {},
		   "source": [
			"## Example 2.12: Calculation_of_Principal_focal_length_of_zone_plate.sce"
		   ]
		  },
  {
"cell_type": "code",
	   "execution_count": null,
	   "metadata": {
	    "collapsed": true
	   },
	   "outputs": [],
"source": [
"clc \n",
"// Given that\n",
"R = 2 // radius of curvature in meter\n",
"// Sample Problem 12 on page no. 2.42\n",
"printf('\n # PROBLEM 12 # \n')\n",
"f = R // calculation for principal focal length of zone plate\n",
"printf('\n Standard formula used \n f = r^2 / lambda. \n r = sqrt(lambda*R). \n ')\n",
"printf('\n Principal focal length of zone plate = %f meter ',f)"
   ]
   }
,
{
		   "cell_type": "markdown",
		   "metadata": {},
		   "source": [
			"## Example 2.13: Calculation_of_Angular_spread_of_the_central_maxima.sce"
		   ]
		  },
  {
"cell_type": "code",
	   "execution_count": null,
	   "metadata": {
	    "collapsed": true
	   },
	   "outputs": [],
"source": [
"clc \n",
"// Given that\n",
"lambda = 5.89e-7 // wavelength of light in meter\n",
"b = 1e-3 // slit-width in meter\n",
"// Sample Problem 13 on page no. 2.42\n",
"printf('\n # PROBLEM 13 # \n')\n",
"m = 1 // for first minima\n",
"theta = asin((m * lambda) / b) // calculation for angular spread of the central maxima in radian\n",
"theta_ = theta * (180 / %pi) // calculation for angular spread of the central maxima in degree\n",
"printf('\n Standard formula used \n theta = asin((m * lambda) / b).\n')\n",
"printf('\n Angular spread of the central maxima = %f degree ',2 * theta_)"
   ]
   }
,
{
		   "cell_type": "markdown",
		   "metadata": {},
		   "source": [
			"## Example 2.14: Calculation_of_Wavelength_of_light.sce"
		   ]
		  },
  {
"cell_type": "code",
	   "execution_count": null,
	   "metadata": {
	    "collapsed": true
	   },
	   "outputs": [],
"source": [
"clc \n",
"// Given that\n",
"d = 1.2 // distance of screen from slit in meter\n",
"x = 3.7e-3 // distance between first maxima to central maxima in meter\n",
"b = 2e-4 // slit-width in meter\n",
"// Sample Problem 14 on page no. 2.43\n",
"printf('\n # PROBLEM 14 # \n')\n",
"lambda = (x * b) / d // calculation for wavelength of light\n",
"printf('\n Standard formula used \n lambda = (x * b) / d.\n')\n",
"printf('\n Wavelength of light = %e meter. ',lambda)"
   ]
   }
,
{
		   "cell_type": "markdown",
		   "metadata": {},
		   "source": [
			"## Example 2.15: Calculation_of_Angular_position_of_second_and_third_minima.sce"
		   ]
		  },
  {
"cell_type": "code",
	   "execution_count": null,
	   "metadata": {
	    "collapsed": true
	   },
	   "outputs": [],
"source": [
"clc \n",
"// Given that\n",
"lambda = 5.5e-7 // wavelength of light in meter\n",
"b = 2.2e-6 // slit-width in meter\n",
"// Sample Problem 15 on page no. 2.43\n",
"printf('\n # PROBLEM 15 # \n')\n",
"m2 = 2 // for second minima\n",
"theta2 = asin((m2 * lambda) / b) * (180 / %pi) // calculation for angular position of second minima\n",
"m3 = 3 // for third minima\n",
"theta3 = asin((m3 * lambda) / b) * (180 / %pi) // calculation for angular position of third minima\n",
"printf('\n Standard formula used \n theta = asin((m * lambda) / b) * (180 / pi). \n')\n",
"printf('\n Angular position of second and third minima = %f , %f degree respectively ',theta2 ,theta3)"
   ]
   }
,
{
		   "cell_type": "markdown",
		   "metadata": {},
		   "source": [
			"## Example 2.16: Calculation_of_Half_angular_width_of_the_central_bright_maxima.sce"
		   ]
		  },
  {
"cell_type": "code",
	   "execution_count": null,
	   "metadata": {
	    "collapsed": true
	   },
	   "outputs": [],
"source": [
"clc \n",
"// Given that\n",
"lambda = 5.89e-7 // wavelength of light in meter\n",
"b = 1.2e-6 // slit-width in meter\n",
"// Sample Problem 16 on page no. 2.44\n",
"printf('\n # PROBLEM 16 # \n')\n",
"m = 1 // for first minima\n",
"theta = asin((m * lambda) / b) // calculation for half angular width of the central bright maxima in radian\n",
"theta_ = theta * (180 / %pi) // calculation for half angular width of the central bright maxima in degree\n",
"printf('\n Standard formula used \n theta = asin((m * lambda) / b).\n')\n",
"printf('\n Half angular width of the central bright maxima = %f degree ',theta_)"
   ]
   }
,
{
		   "cell_type": "markdown",
		   "metadata": {},
		   "source": [
			"## Example 2.17: Calculation_of_Slit_width.sce"
		   ]
		  },
  {
"cell_type": "code",
	   "execution_count": null,
	   "metadata": {
	    "collapsed": true
	   },
	   "outputs": [],
"source": [
"clc \n",
"// Given that\n",
"lambda = 5e-7 // wavelength of light in meter\n",
"theta = %pi / 6 // half angular width of central maximum in first case in radian\n",
"theta_ = %pi / 2 // half angular width of central maximum in second case in radian\n",
"// Sample Problem 17 on page no. 2.44\n",
"printf('\n # PROBLEM 17 # \n')\n",
"m = 1 // for first minima\n",
"b1 = (lambda * m) / sin(theta) // calculation for slit width in first case\n",
"b2 = (lambda * m) / sin(theta_) // calculation for slit width in second case\n",
"printf('\n Standard formula used \n b = (lambda * m) / sin(theta). \n')\n",
"printf('\n Slit width in first case = %e meter. \n Slit width in second case = %e meter',b1,b2)"
   ]
   }
,
{
		   "cell_type": "markdown",
		   "metadata": {},
		   "source": [
			"## Example 2.18: Calculation_of_Angular_spread_and_linear_width.sce"
		   ]
		  },
  {
"cell_type": "code",
	   "execution_count": null,
	   "metadata": {
	    "collapsed": true
	   },
	   "outputs": [],
"source": [
"clc \n",
"// Given that\n",
"lambda = 5.89e-7 // wavelength of light in meter\n",
"d = 1 // distance of screen from slit in meter\n",
"b = 1e-4 // slit-width in meter\n",
"// Sample Problem 18 on page no. 2.44\n",
"printf('\n # PROBLEM 18 # \n')\n",
"theta = (asin(lambda / b)) * (180 / %pi) // calculation for angular spread\n",
"x = (2 * d * lambda) / b// calculation for linear width\n",
"printf('\n Standard formula used \n theta = (asin(lambda / b)) * (180 / pi). \n x = (2 * d * lambda) / b. \n')\n",
"printf('\n Angular spread = %f degree\n Linear width = %e meter ',theta,x)"
   ]
   }
,
{
		   "cell_type": "markdown",
		   "metadata": {},
		   "source": [
			"## Example 2.1: Calculation_of_Radius_of_half_period_zone_and_Area_of_half_period_zone.sce"
		   ]
		  },
  {
"cell_type": "code",
	   "execution_count": null,
	   "metadata": {
	    "collapsed": true
	   },
	   "outputs": [],
"source": [
"clc \n",
"// Given that\n",
"lambda = 5e-7 // wavelength of light in meter\n",
"d = 1 // distance of wavefront received on the screen from the opening in meter\n",
"n = 80 // no. of half period zone\n",
"// Sample Problem 1 on page no. 2.38\n",
"printf('\n # PROBLEM 1 # \n')\n",
"Rn = sqrt(n * lambda * d)// calculation for radius of nth half period zone\n",
"A = %pi * d * lambda// calculation for area of half period zone\n",
"printf('Standard formula used\n Rn = sqrt(n*d*lambda).\n A = pi*d*lambda.\n')\n",
"printf('\n Radius of 80th half period zone = %f cm. \n Area of half period zone = %f square cm.',Rn*100,A*10000)"
   ]
   }
,
{
		   "cell_type": "markdown",
		   "metadata": {},
		   "source": [
			"## Example 2.20: Calculation_of_Angular_width_of_the_central_maxima.sce"
		   ]
		  },
  {
"cell_type": "code",
	   "execution_count": null,
	   "metadata": {
	    "collapsed": true
	   },
	   "outputs": [],
"source": [
"clc \n",
"// Given that\n",
"lambda = 6e-7 // wavelength of light in meter\n",
"b = 1.2e-6 // slit-width in meter\n",
"// Sample Problem 20 on page no. 2.46\n",
"printf('\n # PROBLEM 20 # \n')\n",
"m = 1 // for first minima\n",
"theta = asin((m * lambda) / b) // calculation for angular width of the central maxima in radian\n",
"theta_ = theta * (180 / %pi) // calculation for angular width of the central maxima in degree\n",
"printf('\n Standard formula used \n theta = asin((m * lambda) / b). \n')\n",
"printf('\n Angular width of the central maxima = %f degree ',2 * theta_)"
   ]
   }
,
{
		   "cell_type": "markdown",
		   "metadata": {},
		   "source": [
			"## Example 2.21: Calculation_of_Separation_of_dark_band.sce"
		   ]
		  },
  {
"cell_type": "code",
	   "execution_count": null,
	   "metadata": {
	    "collapsed": true
	   },
	   "outputs": [],
"source": [
"clc \n",
"// Given that\n",
"lambda = 4.890e-7 // wavelength of light in meter\n",
"b = 5e-3 // slit-width in meter\n",
"f = 0.4 // focal-length of convex lens in meter\n",
"// Sample Problem 21 on page no. 2.46\n",
"printf('\n # PROBLEM 21 # \n')\n",
"m = 1 // for first dark fringe\n",
"x = (f * m * lambda) / b  \n",
"n = 1 // for first secondary maxima\n",
"x_ = ((2 * n + 1) * lambda * f) / (2 * b) \n",
"delta_x = x_ - x // calculation for separation of dark band \n",
"printf('\n Standard formula used \n x = (f * m * lambda) / b . \n delta_x = x_ - x. \n')\n",
"printf('\n Separation of dark band = %e meter.',delta_x)"
   ]
   }
,
{
		   "cell_type": "markdown",
		   "metadata": {},
		   "source": [
			"## Example 2.22: Calculation_of_Separation_of_dark_band_on_either_side_of_the_central_maximum.sce"
		   ]
		  },
  {
"cell_type": "code",
	   "execution_count": null,
	   "metadata": {
	    "collapsed": true
	   },
	   "outputs": [],
"source": [
"clc \n",
"// Given that\n",
"lambda = 5.893e-7 // wavelength of light in meter\n",
"b = 5e-4 // slit-width in meter\n",
"f = 1 // focal length of convex lens in meter\n",
"// Sample Problem 22 on page no. 2.47\n",
"printf('\n # PROBLEM 22 # \n')\n",
"x = (2 * lambda * f) / b // calculation for Separation of dark band on either side of the cenral maximum\n",
"printf('Standard formula used \n. \n')\n",
"printf('\n Separation of dark band on either side of the central maximum = %e meter',x)"
   ]
   }
,
{
		   "cell_type": "markdown",
		   "metadata": {},
		   "source": [
			"## Example 2.23: Calculation_of_Missing_orders.sce"
		   ]
		  },
  {
"cell_type": "code",
	   "execution_count": null,
	   "metadata": {
	    "collapsed": true
	   },
	   "outputs": [],
"source": [
"clc \n",
"// Given that\n",
"d = 4e-4 // separation between slits in meter\n",
"b = 8e-5 // slit-width in meter\n",
"// Sample Problem 23 on page no. 2.47\n",
"printf('\n # PROBLEM 23 # \n')\n",
"r = (b + d) / b // calculation for ratio of n with m\n",
"m1 = 1\n",
"n1 = r * m1 // calculation for Missing orders \n",
"m2 = 2\n",
"n2 = r * m2 // calculation for Missing orders \n",
"m3 = 3\n",
"n3 = r * m3 // calculation for Missing orders \n",
"printf('\n Standard formula used \n r = (b + d) / b. \n n = r * m. \n')\n",
"printf('\n Missing orders = %d,%d,%d,......',n1,n2,n3)"
   ]
   }
,
{
		   "cell_type": "markdown",
		   "metadata": {},
		   "source": [
			"## Example 2.24: Calculation_of_Wavelength_of_light_and_Missing_order.sce"
		   ]
		  },
  {
"cell_type": "code",
	   "execution_count": null,
	   "metadata": {
	    "collapsed": true
	   },
	   "outputs": [],
"source": [
"clc \n",
"// Given that\n",
"d = 4e-4 // separation between slits in meter\n",
"b = 2e-4 // slit-width in meter\n",
"fringe_width = 2.5e-3 // fringe width in meter\n",
"D = 1.6 // distance between screen and slits\n",
"// Sample Problem 24 on page no. 2.47\n",
"printf('\n # PROBLEM 24 # \n')\n",
"lambda = (fringe_width * d) / D // calculation for wavelength of light\n",
"r = (b + d) / b // calculation for ratio of n with m\n",
"m1 = 1\n",
"n1 = r * m1 // calculation for missing order\n",
"m2 = 2\n",
"n2 = r * m2 // calculation for missing order\n",
"m3 = 3\n",
"n3 = r * m3 // calculation for missing order\n",
"printf('\n Standard formula used \n lambda = (fringe_width * d) / D. \n r = (b + d) / b. \n n = r * m. \n')\n",
"printf('\n Wavelength of light = %e meter. \n Missing order = %d,%d,%d....',lambda,n1,n2,n3)"
   ]
   }
,
{
		   "cell_type": "markdown",
		   "metadata": {},
		   "source": [
			"## Example 2.25: Calculation_of_Wavelength_of_light.sce"
		   ]
		  },
  {
"cell_type": "code",
	   "execution_count": null,
	   "metadata": {
	    "collapsed": true
	   },
	   "outputs": [],
"source": [
"clc \n",
"// Given that\n",
"N = 425000 // no. of lines in plane transmission grating per meter\n",
"theta = %pi / 6 // angle at which second order spectral line is observed in radian\n",
"n = 2 // order of spectral line\n",
"// Sample Problem 25 on page no. 2.48\n",
"printf('\n # PROBLEM 25 # \n')\n",
"lambda = sin(theta) / (2 * N) // calculation for wavelength of light\n",
"printf('\n Standard formula used \n lambda = sin(theta) / (2 * N). \n')\n",
"printf('\n Wavelength of light = %e meter. ',lambda)"
   ]
   }
,
{
		   "cell_type": "markdown",
		   "metadata": {},
		   "source": [
			"## Example 2.26: Calculation_of_Wavelength_of_light.sce"
		   ]
		  },
  {
"cell_type": "code",
	   "execution_count": null,
	   "metadata": {
	    "collapsed": true
	   },
	   "outputs": [],
"source": [
"clc \n",
"// Given that\n",
"N = 500000 // no. of lines in plane transmission grating per meter\n",
"theta = %pi / 6 // angle at which second order spectral line is observed in radian\n",
"n = 2 // order of spectral line\n",
"// Sample Problem 26 on page no. 2.48\n",
"printf('\n # PROBLEM 26 # \n')\n",
"lambda = sin(theta) / (2 * N) // calculation for wavelength of light\n",
"printf('\n Standard formula used \n lambda = sin(theta) / (2 * N). \n ')\n",
"printf('\n wavelength of light = %e meter. ',lambda)"
   ]
   }
,
{
		   "cell_type": "markdown",
		   "metadata": {},
		   "source": [
			"## Example 2.27: Calculation_of_Wavelength_of_light.sce"
		   ]
		  },
  {
"cell_type": "code",
	   "execution_count": null,
	   "metadata": {
	    "collapsed": true
	   },
	   "outputs": [],
"source": [
"clc \n",
"// Given that\n",
"lambda2 = 5.461e-7 // wavelength of  light in second case in meter\n",
"n1 = 4 // no. of order in first case\n",
"n2 = 3 // no. of order in second case \n",
"// Sample Problem 27 on page no. 2.48\n",
"printf('\n # PROBLEM 27 # \n')\n",
"lambda1 = (n2 * lambda2) / n1 // calculation for Wavelength of light in first case\n",
"printf('Standard formula used \n lambda1 = (n2 * lambda2) / n1. \n')\n",
"printf('\n Wavelength of light in first case = %d A',ceil(lambda1*1e10))"
   ]
   }
,
{
		   "cell_type": "markdown",
		   "metadata": {},
		   "source": [
			"## Example 2.28: Calculation_of_No_of_lines_in_per_cm.sce"
		   ]
		  },
  {
"cell_type": "code",
	   "execution_count": null,
	   "metadata": {
	    "collapsed": true
	   },
	   "outputs": [],
"source": [
"clc \n",
"// Given that\n",
"lambda = 5e-7 // wavelength of light in meter\n",
"theta = %pi / 6 // angle at which second order spectral line is observed in radian\n",
"n = 2 // order of spectral line\n",
"// Sample Problem 28 on page no. 2.49\n",
"printf('\n # PROBLEM 28 # \n')\n",
"k = (n * lambda) / sin(theta) // calculation for (b+d)\n",
"N = 1 / k // calculation for no. of lines in per cm\n",
"printf('\n Standard formula used \n b+d = (n * lambda) / sin(theta). \n N = 1 / k. \n ')\n",
"printf('\n No. of lines per cm = %f ',N / 100)"
   ]
   }
,
{
		   "cell_type": "markdown",
		   "metadata": {},
		   "source": [
			"## Example 2.29: Calculation_of_Angle_of_separation.sce"
		   ]
		  },
  {
"cell_type": "code",
	   "execution_count": null,
	   "metadata": {
	    "collapsed": true
	   },
	   "outputs": [],
"source": [
"clc \n",
"// Given that\n",
"lambda1 = 5.048e-7 // wavelength of light in first case in meter\n",
"lambda2 = 5.016e-7 // wavelength of light in second case in meter\n",
"n = 2 // no. of order in first case\n",
"N = 15000 // no. of lines in grating per inch  \n",
"// Sample Problem 29 on page no. 2.49\n",
"printf('\n # PROBLEM 29 # \n')\n",
"k = 2.54 / 1500000 // in meter\n",
"theta1 = asin(n * lambda1 / k) * (180 / %pi) // calculation for angle in first case\n",
"theta2 = asin(n * lambda2 / k) * (180 / %pi) // calculation for angle in second case\n",
"delta_theta = theta1 - theta2 // calculation for angle of separation\n",
"printf('\n Standard formula used \n theta = asin(n * lambda / k) * (180 / pi). \n')\n",
"printf('\n Angle of separation = %f degree',delta_theta)"
   ]
   }
,
{
		   "cell_type": "markdown",
		   "metadata": {},
		   "source": [
			"## Example 2.2: Calculation_of_Radius_of_half_period_zone.sce"
		   ]
		  },
  {
"cell_type": "code",
	   "execution_count": null,
	   "metadata": {
	    "collapsed": true
	   },
	   "outputs": [],
"source": [
"clc \n",
"// Given that\n",
"lambda = 6e-7 // wavelength of light in meter\n",
"f = 0.6 // focal length of convex lens in meter\n",
"n = 1 // no. of half period zone\n",
"// Sample Problem 2 on page no. 2.38\n",
"printf('\n # PROBLEM 2 # \n')\n",
"Rn = sqrt(n * lambda * f)// calculation for radius of half period zone\n",
"printf('Standard formula used \n f = Rn^2/(n*lambda)\n')\n",
"printf('\n Radius of  half period zone = %f mm ',Rn*1000)"
   ]
   }
,
{
		   "cell_type": "markdown",
		   "metadata": {},
		   "source": [
			"## Example 2.30: Calculation_of_Angle_of_separation.sce"
		   ]
		  },
  {
"cell_type": "code",
	   "execution_count": null,
	   "metadata": {
	    "collapsed": true
	   },
	   "outputs": [],
"source": [
"clc \n",
"// Given that\n",
"lambda1 = 5.89e-7 // wavelength of  light in first case in meter\n",
"lambda2 = 5.896e-7 // wavelength of  light in second case in meter\n",
"n = 2 // no. of order in first case\n",
"N = 600000 // no. of lines in grating per meter  \n",
"// Sample Problem 30 on page no. 2.50\n",
"printf('\n # PROBLEM 30 # \n')\n",
"k = 1 / N // in meter\n",
"theta1 = asin(n * lambda1 / k) * (180 / %pi) // calculation for angle in first case\n",
"theta2 = asin(n * lambda2 / k) * (180 / %pi) // calculation for angle in second case\n",
"delta_theta = theta2 - theta1 // calculation for angle of separation\n",
"printf('\n Standard formula used \n theta1 = asin(n * lambda1 / k) * (180 / pi). \n ')\n",
"printf('\n Angle of separation = %f degree',delta_theta)"
   ]
   }
,
{
		   "cell_type": "markdown",
		   "metadata": {},
		   "source": [
			"## Example 2.31: Calculation_of_No_of_lines_per_cm.sce"
		   ]
		  },
  {
"cell_type": "code",
	   "execution_count": null,
	   "metadata": {
	    "collapsed": true
	   },
	   "outputs": [],
"source": [
"clc \n",
"// Given that\n",
"lambda1 = 5.4e-7 // wavelength of light for nth order in meter\n",
"lambda2 = 4.05e-7 // wavelength of light for (n+1)th order in meter \n",
"theta = %pi / 6 // angle of diffraction in radian \n",
"// Sample Problem 31 on page no. 2.50\n",
"printf('\n # PROBLEM 31 # \n')\n",
"k = (lambda1 * lambda2) / ((lambda1 - lambda2) * sin(theta)) // calculation for b+d\n",
"N = (1 / k) * (0.01) // calculation for no. of lines per cm\n",
"printf('\n Standard formula used \n b+d = (lambda1 * lambda2) / ((lambda1 - lambda2) * sin(theta)). \n N = (1 / k) * (0.01). \n')\n",
"printf('\n No. of lines per cm = %d ',N)"
   ]
   }
,
{
		   "cell_type": "markdown",
		   "metadata": {},
		   "source": [
			"## Example 2.32: Calculation_of_Difference_in_two_wavelength.sce"
		   ]
		  },
  {
"cell_type": "code",
	   "execution_count": null,
	   "metadata": {
	    "collapsed": true
	   },
	   "outputs": [],
"source": [
"clc \n",
"// Given that\n",
"d_theta = 0.01 // angular separation between two wavelengths in radian \n",
"theta = %pi / 6 // angle of diffraction in radian \n",
"lambda = 5e-7 // wavelength of light in meter\n",
"// Sample Problem 32 on page no. 2.51\n",
"printf('\n # PROBLEM 32 # \n')\n",
"d_lambda = (lambda * cos(theta) * d_theta) / sin(theta) // calculation for difference in two waveligth\n",
"printf('Standard formula used \n d_lambda = (lambda * cos(theta) * d_theta) / sin(theta). \n\n')\n",
"printf('\n Difference in two wavelength = %e meter ',d_lambda)"
   ]
   }
,
{
		   "cell_type": "markdown",
		   "metadata": {},
		   "source": [
			"## Example 2.33: Calculation_of_Order_of_spectrum.sce"
		   ]
		  },
  {
"cell_type": "code",
	   "execution_count": null,
	   "metadata": {
	    "collapsed": true
	   },
	   "outputs": [],
"source": [
"clc \n",
"// Given that\n",
"N = 2620 // no. of lines in plane transmission grating per inch\n",
"lambda = 5e-7 // wavelength of incident radiation in meter\n",
"// Sample Problem 33 on page no. 2.51\n",
"printf('\n # PROBLEM 33 # \n')\n",
"k = 2.54 / N * 1 / 100 // calculation for b+d in meter\n",
"n = k / lambda // calculation for order of spectrum\n",
"printf('\n Standard formula used \n n = k / lambda ')\n",
"printf('\n Order of spectrum = %d',n)"
   ]
   }
,
{
		   "cell_type": "markdown",
		   "metadata": {},
		   "source": [
			"## Example 2.34: Calculation_of_Order_of_spectrum.sce"
		   ]
		  },
  {
"cell_type": "code",
	   "execution_count": null,
	   "metadata": {
	    "collapsed": true
	   },
	   "outputs": [],
"source": [
"clc \n",
"// Given that\n",
"N = 500000 // no. of lines in plane transmission grating per meter\n",
"lambda = 5e-7 // wavelength of incident radiation in meter\n",
"// Sample Problem 34 on page no. 2.51\n",
"printf('\n # PROBLEM 34 # \n')\n",
"k = 1 / N // calculation for b+d in meter\n",
"n = k / lambda // calculation for order of spectrum \n",
"printf('\n Standard formula used \n k = 1 / N. \n n = k / lambda. \n')\n",
"printf('\n Order of spectrum = %d',n)"
   ]
   }
,
{
		   "cell_type": "markdown",
		   "metadata": {},
		   "source": [
			"## Example 2.35: Calculation_of_Observed_order.sce"
		   ]
		  },
  {
"cell_type": "code",
	   "execution_count": null,
	   "metadata": {
	    "collapsed": true
	   },
	   "outputs": [],
"source": [
"clc \n",
"// Given that\n",
"N = 400000 // no. of lines in plane transmission grating per meter\n",
"lambda1 = 4e-7 // wavelength of light in first case in meter\n",
"lambda2 = 7e-7 // wavelength of light in second case in meter\n",
"// Sample Problem 35 on page no. 2.52\n",
"printf('\n # PROBLEM 35 # \n')\n",
"n1 = 1 / (N * lambda1) // calculation for Observed order in first case\n",
"n2 = 1 / (N * lambda2) // calculation for Observed order in second case\n",
"printf('Standard formula used \n n = 1 / (N * lambda). \n')\n",
"printf('\n Observed order = %d,%d',n1,n2)"
   ]
   }
,
{
		   "cell_type": "markdown",
		   "metadata": {},
		   "source": [
			"## Example 2.36: Calculation_of_Dispersive_power.sce"
		   ]
		  },
  {
"cell_type": "code",
	   "execution_count": null,
	   "metadata": {
	    "collapsed": true
	   },
	   "outputs": [],
"source": [
"clc \n",
"// Given that\n",
"N = 400000 // no. of lines in grating per meter\n",
"lambda = 5e-7 // wavelength of incident radiation in meter\n",
"n = 3 // no. of order\n",
"// Sample Problem 36 on page no. 2.52\n",
"printf('\n # PROBLEM 36 # \n')\n",
"p = (n * N) / (sqrt(1 - (N * n * lambda)))// dispersive power (p) = d(theta)/d(lambda)\n",
"printf('\n Standard formula used \n p = (n * N) / (sqrt(1 - (N * n * lambda))). \n')\n",
"printf('\n Dispersive power = %e rad/m',p)"
   ]
   }
,
{
		   "cell_type": "markdown",
		   "metadata": {},
		   "source": [
			"## Example 2.37: Calculation_of_Minimum_no_of_lines_in_grating.sce"
		   ]
		  },
  {
"cell_type": "code",
	   "execution_count": null,
	   "metadata": {
	    "collapsed": true
	   },
	   "outputs": [],
"source": [
"clc \n",
"// Given that\n",
"n = 2 // no. of order\n",
"lambda1 = 5.89e-7 // wavelength of light in first case in meter\n",
"lambda2 = 5.896e-7 // wavelength of light in second case in meter\n",
"// Sample Problem 37 on page no. 2.52\n",
"printf('\n # PROBLEM 37 # \n')\n",
"N = lambda1 / (n * (lambda2 - lambda1)) // calculation for minimum no. of lines in grating \n",
"printf('\n Standard formula used \n N = lambda1 / (n * (lambda2 - lambda1)). \n') \n",
"printf('\n Minimum no. of lines in grating = %f,',N)"
   ]
   }
,
{
		   "cell_type": "markdown",
		   "metadata": {},
		   "source": [
			"## Example 2.38: Calculation_of_Minimum_no_of_lines_in_grating.sce"
		   ]
		  },
  {
"cell_type": "code",
	   "execution_count": null,
	   "metadata": {
	    "collapsed": true
	   },
	   "outputs": [],
"source": [
"clc \n",
"// Given that\n",
"n = 1 // no. of order\n",
"lambda1 = 5.89e-7 // wavelength of light in first case in meter\n",
"lambda2 = 5.896e-7 // wavelength of light in second case in meter\n",
"// Sample Problem 38 on page no. 2.53\n",
"printf('\n # PROBLEM 38 # \n')\n",
"N = lambda1 / (n * (lambda2 - lambda1)) // calculation for minimum no. of lines in grating\n",
"printf('Standard formula used \n lambda/d(lambda)=n*N. \n')\n",
"printf('\n Minimum no. of lines in grating = %f,',N)"
   ]
   }
,
{
		   "cell_type": "markdown",
		   "metadata": {},
		   "source": [
			"## Example 2.39: Calculation_of_Grating_space_and_Total_width_of_ruled_surface.sce"
		   ]
		  },
  {
"cell_type": "code",
	   "execution_count": null,
	   "metadata": {
	    "collapsed": true
	   },
	   "outputs": [],
"source": [
"clc \n",
"// Given that\n",
"n = 3 // no. of order\n",
"theta = %pi / 6 // view angle of third order in radian\n",
"lambda1 = 5.89e-7 // min. wavelength of light in meter\n",
"lambda2 = 5.896e-7 // max.wavelength of light in meter\n",
"// Sample Problem 39 on page no. 2.53\n",
"printf('\n # PROBLEM 39 # \n')\n",
"mean_lambda = (lambda1 + lambda2) / 2 // calculation for mean wavelength\n",
"s = (n * mean_lambda) / sin(theta) // calculation for grating space b+d\n",
"N = lambda1 / (n * (lambda2 - lambda1)) // calculation for minimum no. of lines in grating\n",
"printf('\n Standard formula used \n mean_lambda = (lambda1 + lambda2) / 2. \n s = (n * mean_lambda) / sin(theta). \n N = lambda1 / (n * (lambda2 - lambda1)). \n')\n",
"printf('\n Grating space = %e meter. \n Total width of ruled surface = %e meter. ',s,s * N)"
   ]
   }
,
{
		   "cell_type": "markdown",
		   "metadata": {},
		   "source": [
			"## Example 2.3: Calculation_of_Radius_of_half_period_zone.sce"
		   ]
		  },
  {
"cell_type": "code",
	   "execution_count": null,
	   "metadata": {
	    "collapsed": true
	   },
	   "outputs": [],
"source": [
"clc \n",
"// Given that\n",
"lambda = 5e-7 // wavelength of light in meter\n",
"d = 0.3 // distance of wavefront received on screen from the opening in meter\n",
"// Sample Problem 3 on page no. 2.38\n",
"printf('\n # PROBLEM 3 # \n')\n",
"n = 1 // no. of half period zone\n",
"Rn = sqrt(n * lambda * d) // because at maxima intensity is four time the individual intensity of light\n",
"printf('Standard formula used \n r = sqrt(d*lambda)\n')\n",
"printf('\n Radius of 80th half period zone = %f mm. ',Rn*1000)"
   ]
   }
,
{
		   "cell_type": "markdown",
		   "metadata": {},
		   "source": [
			"## Example 2.40: Calculation_of_The_separation_of_two_points_on_moon.sce"
		   ]
		  },
  {
"cell_type": "code",
	   "execution_count": null,
	   "metadata": {
	    "collapsed": true
	   },
	   "outputs": [],
"source": [
"clc \n",
"// Given that\n",
"lambda = 5.5e-7 // wavelength of light in meter\n",
"a = 5 // diameter of objective lens of telescope in meter\n",
"R = 3.8e8 // distance of moon in meter\n",
"// Sample Problem 40 on page no. 2.53\n",
"printf('\n # PROBLEM 40 # \n')\n",
"theta = (1.22 * lambda) / a // calculation for angle \n",
"x = (R * theta) // calculation for the separation of two points on moon\n",
"printf('\n Standard formula used \n theta = (1.22 * lambda) / a. \n x = (R * theta). \n')\n",
"printf('\n The separation of two points on moon = %f meter',x)"
   ]
   }
,
{
		   "cell_type": "markdown",
		   "metadata": {},
		   "source": [
			"## Example 2.41: Calculation_of_Diameter_of_telescope_objective.sce"
		   ]
		  },
  {
"cell_type": "code",
	   "execution_count": null,
	   "metadata": {
	    "collapsed": true
	   },
	   "outputs": [],
"source": [
"clc \n",
"// Given that\n",
"lambda = 5e-7 // wavelength of light in meter\n",
"theta = (1e-3) * (%pi / 180) // separation angle of stars in radian\n",
"// Sample Problem 41 on page no. 2.54\n",
"printf('\n # PROBLEM 41 # \n')\n",
"a = (1.22 * lambda) / theta // calculation for diameter of telescope objective\n",
"printf('\n Standard formula used \n a = (1.22 * lambda) / theta. \n')\n",
"printf('\n Diameter of telescope objective = %f meter',a)"
   ]
   }
,
{
		   "cell_type": "markdown",
		   "metadata": {},
		   "source": [
			"## Example 2.42: Calculation_of_Diameter_of_telescope_objective.sce"
		   ]
		  },
  {
"cell_type": "code",
	   "execution_count": null,
	   "metadata": {
	    "collapsed": true
	   },
	   "outputs": [],
"source": [
"clc \n",
"// Given that\n",
"lambda = 6e-7 // wavelength of light in meter\n",
"theta = 2.44e-6 // separation angle of stars in radian\n",
"// Sample Problem 42 on page no. 2.54\n",
"printf('\n # PROBLEM 42 # \n')\n",
"a = (1.22 * lambda) / theta // calculation for diameter of telescope objective\n",
"printf('\n Standard formula used \n a = (1.22 * lambda) / theta. \n')\n",
"printf('\n Diameter of telescope objective = %f meter',a)"
   ]
   }
,
{
		   "cell_type": "markdown",
		   "metadata": {},
		   "source": [
			"## Example 2.43: Calculation_of_Max_distance_of_pin_holes_from_microscope.sce"
		   ]
		  },
  {
"cell_type": "code",
	   "execution_count": null,
	   "metadata": {
	    "collapsed": true
	   },
	   "outputs": [],
"source": [
"clc \n",
"// Given that\n",
"lambda = 5.5e-7 // wavelength of light in meter\n",
"a = 0.004 // diameter of objective lens of telescope in meter\n",
"x = 1.5e-3 // distance between two pin holes in meter\n",
"// Sample Problem 43 on page no. 2.54\n",
"printf('\n # PROBLEM 43 # \n')\n",
"theta = (1.22 * lambda) / a // calculation for angle  \n",
"R = x / theta // calculation for max. distance of pin holes from microscope\n",
"printf('\n Standard formula used \n theta = (1.22 * lambda) / a. \n R = x / theta. \n ')\n",
"printf('\n Max. distance of pin holes from microscope = %f meter',R)"
   ]
   }
,
{
		   "cell_type": "markdown",
		   "metadata": {},
		   "source": [
			"## Example 2.44: Calculation_of_The_resolving_limit_of_microscope.sce"
		   ]
		  },
  {
"cell_type": "code",
	   "execution_count": null,
	   "metadata": {
	    "collapsed": true
	   },
	   "outputs": [],
"source": [
"clc \n",
"// Given that\n",
"lambda = 5.5e-7 // wavelength of light in meter\n",
"theta = %pi / 6 // semi-angle of cone in radian\n",
"// Sample Problem 44 on page no. 2.55\n",
"printf('\n # PROBLEM 44 # \n')\n",
"d = (1.22 * lambda) / (2 * sin(theta)) // calculation for the resolving limit of microscope \n",
"printf('Standard formula used \n d*sin(theta)= 1.22*lamda. \n')\n",
"printf('\n The resolving limit of microscope = %e meter',d)"
   ]
   }
,
{
		   "cell_type": "markdown",
		   "metadata": {},
		   "source": [
			"## Example 2.45: Calculation_of_Numerical_aperture_of_objective.sce"
		   ]
		  },
  {
"cell_type": "code",
	   "execution_count": null,
	   "metadata": {
	    "collapsed": true
	   },
	   "outputs": [],
"source": [
"clc \n",
"// Given that\n",
"lambda = 5.461e-7 // wavelength of light in meter\n",
"d = 4e-7 // separation between objects in meter\n",
"// Sample Problem 45 on page no. 2.55\n",
"printf('\n # PROBLEM 45 # \n')\n",
"NA = (1.22 * lambda) / (2 * d) // calculation for numerical aperture of objective \n",
"printf('\n Standard formula used \n NA = (1.22 * lambda) / (2 * d). \n')\n",
"printf('\n Numerical aperture of objective = %f',NA)"
   ]
   }
,
{
		   "cell_type": "markdown",
		   "metadata": {},
		   "source": [
			"## Example 2.4: Calculation_of_No_of_half_period_zone.sce"
		   ]
		  },
  {
"cell_type": "code",
	   "execution_count": null,
	   "metadata": {
	    "collapsed": true
	   },
	   "outputs": [],
"source": [
"clc \n",
"// Given that\n",
"lambda = 6e-7 // wavelength of light in meter\n",
"d = 0.5 // distance of observation point from circular opening in meter\n",
"r1 = 2e-3 // radius of circular opening in first case in meter\n",
"r2 = 2e-2 // radius of circular opening in second case in meter \n",
"// Sample Problem 4 on page no. 2.39\n",
"printf('\n # PROBLEM 4 # \n')\n",
"n1 = (r1^2) / (d * lambda) // calculation for no. of half period zone in first case \n",
"n2 = (r2^2) / (d * lambda) // calculation for no. of half period zone in second case\n",
"printf('\n Standard formula used \n n = (r^2) / (d * lambda) \n')\n",
"printf('\n No. of half period zone in first case = %d \n no. of half period zone in second case = %d ',n1,n2)"
   ]
   }
,
{
		   "cell_type": "markdown",
		   "metadata": {},
		   "source": [
			"## Example 2.5: Calculation_of_Distance_of_screen_from_opening.sce"
		   ]
		  },
  {
"cell_type": "code",
	   "execution_count": null,
	   "metadata": {
	    "collapsed": true
	   },
	   "outputs": [],
"source": [
"clc \n",
"// Given that\n",
"lambda = 5e-7 // wavelength of light in meter\n",
"d = 1e-3 // diameter of the first ring of zone plate in meter\n",
"// Sample Problem 5 on page no. 2.39\n",
"printf('\n # PROBLEM 5 # \n')\n",
"n = 1 // no. of half period zone\n",
"D = (d^2) / (4 * lambda * n) // calculation for distance of screen from opening\n",
"printf('\n Standard formula used \n D = (d^2) / (4 * lambda * n). \n')\n",
"printf('\n Distance of screen from opening = %f meter ',D)"
   ]
   }
,
{
		   "cell_type": "markdown",
		   "metadata": {},
		   "source": [
			"## Example 2.6: Calculation_of_Radius_of_first_and_second_and_third_half_period_zone.sce"
		   ]
		  },
  {
"cell_type": "code",
	   "execution_count": null,
	   "metadata": {
	    "collapsed": true
	   },
	   "outputs": [],
"source": [
"clc \n",
"// Given that\n",
"lambda = 5.893e-7 // wavelength of light in meter\n",
"f = 1 // focal-length of convex lens in meter\n",
"n1 = 1 // no. of first half period zone\n",
"n2 = 3 // no. of second half period zone\n",
"n3 = 5 // no. of third half period zone\n",
"// Sample Problem 6 on page no. 2.40\n",
"printf('\n # PROBLEM 6 # \n')\n",
"R1 = sqrt(n1 * lambda * f) // calculation for Radius of first half period zone\n",
"R2 = sqrt(n2 * lambda * f) // calculation for Radius of second half period zone\n",
"R3 = sqrt(n3 * lambda * f) // calculation for Radius of third half period zone\n",
"printf('Standard formula used \n R = sqrt(f*n*lambda)\n')\n",
"printf('\n Radius of first ,second and third half period zone = %e,%e and %e meter. ',R1,R2,R3)"
   ]
   }
,
{
		   "cell_type": "markdown",
		   "metadata": {},
		   "source": [
			"## Example 2.7: Calculation_of_Radius_of_half_period_zone.sce"
		   ]
		  },
  {
"cell_type": "code",
	   "execution_count": null,
	   "metadata": {
	    "collapsed": true
	   },
	   "outputs": [],
"source": [
"clc \n",
"// Given that\n",
"lambda = 5e-7 // wavelength of light in meter\n",
"f = 0.2 // focal length of convex lens in meter\n",
"n = 10 // no. of half period zone\n",
"// Sample Problem 7 on page no. 2.40\n",
"printf('\n # PROBLEM 7 # \n')\n",
"Rn = sqrt(n * lambda * f) // calculation for radius of 10th half period zone\n",
"printf('\n Standard formula used \n Rn = sqrt(n * lambda * f).\n')\n",
"printf('\n Radius of 10th half period zone = %f mm. ',Rn*1000)"
   ]
   }
,
{
		   "cell_type": "markdown",
		   "metadata": {},
		   "source": [
			"## Example 2.8: Calculation_of_Focal_length_and_Power_and_Diameter_of_first_zone.sce"
		   ]
		  },
  {
"cell_type": "code",
	   "execution_count": null,
	   "metadata": {
	    "collapsed": true
	   },
	   "outputs": [],
"source": [
"clc \n",
"// Given that\n",
"lambda = 5.89e-7 // wavelength of light in meter\n",
"d1 = 1 // distance of wavefront recieved on the screen from the opening in first side in meter\n",
"d2 = 2 // distance of wavefront recieved on the screen from the opening in other side in meter\n",
"// Sample Problem 8 on page no. 2.40\n",
"printf('\n # PROBLEM 8 # \n')\n",
"f = (d1 * d2) / (d1 + d2)\n",
"p = 1 / f // beacause zone plate act as a convex lens\n",
"n = 1 // for first zone\n",
"Rn = sqrt(n * lambda * f) // calculation for radius of first zone\n",
"Dn = 2 * Rn // calculation for diameter of first zone\n",
"printf('\n Standard formula used \n ')\n",
"printf('\n Focal length = %f meter. \n Power = %f D. \n Diameter of first zone = %f mm. ',f,p,Dn*1000)"
   ]
   }
,
{
		   "cell_type": "markdown",
		   "metadata": {},
		   "source": [
			"## Example 2.9: Calculation_of_Focal_length.sce"
		   ]
		  },
  {
"cell_type": "code",
	   "execution_count": null,
	   "metadata": {
	    "collapsed": true
	   },
	   "outputs": [],
"source": [
"clc \n",
"// Given that\n",
"lambda1 = 6e-7 // wavelength of first light in meter\n",
"lambda2 = 5e-7 // wavelength of second light in meter\n",
"f1 = 1 // focal length in first case in meter \n",
"// Sample Problem 9 on page no. 2.41\n",
"printf('\n # PROBLEM 9 # \n')\n",
"f2 = (lambda1 * f1) / lambda2 // calculation for focal length in second case\n",
"printf('\n Standard formula used \n f2 = (lambda1 * f1) / lambda2')\n",
"printf('\n Focal length in second case = %f meter',f2)"
   ]
   }
],
"metadata": {
		  "kernelspec": {
		   "display_name": "Scilab",
		   "language": "scilab",
		   "name": "scilab"
		  },
		  "language_info": {
		   "file_extension": ".sce",
		   "help_links": [
			{
			 "text": "MetaKernel Magics",
			 "url": "https://github.com/calysto/metakernel/blob/master/metakernel/magics/README.md"
			}
		   ],
		   "mimetype": "text/x-octave",
		   "name": "scilab",
		   "version": "0.7.1"
		  }
		 },
		 "nbformat": 4,
		 "nbformat_minor": 0
}
