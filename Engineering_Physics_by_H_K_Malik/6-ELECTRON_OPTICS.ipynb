{
"cells": [
 {
		   "cell_type": "markdown",
	   "metadata": {},
	   "source": [
       "# Chapter 6: ELECTRON OPTICS"
	   ]
	},
{
		   "cell_type": "markdown",
		   "metadata": {},
		   "source": [
			"## Example 6.10: Calculation_of_Internal_electric_field.sce"
		   ]
		  },
  {
"cell_type": "code",
	   "execution_count": null,
	   "metadata": {
	    "collapsed": true
	   },
	   "outputs": [],
"source": [
"clc \n",
"// Given that\n",
"v = 1e6 // velocity of ion beam in m/sec\n",
"B = 1 // magnetic field in tesla\n",
"// Sample Problem 10 on page no. 6.24\n",
"printf('\n # PROBLEM 10 # \n')\n",
"E = B * v\n",
"printf('\n Standard formula used \n E = B * v. \n')\n",
"printf('\n Internal electric field = %e V/m',E)"
   ]
   }
,
{
		   "cell_type": "markdown",
		   "metadata": {},
		   "source": [
			"## Example 6.12: Calculation_of_Ratio_of_the_new_focus_length_to_the_initial_focus_length.sce"
		   ]
		  },
  {
"cell_type": "code",
	   "execution_count": null,
	   "metadata": {
	    "collapsed": true
	   },
	   "outputs": [],
"source": [
"clc \n",
"// Given that\n",
"r = 1.1 // ratio of new number of turns to the initial number of turns\n",
"// Sample Problem 12 on page no. 6.24\n",
"printf('\n # PROBLEM 12 # \n')\n",
"r_ = (1 / r)^2\n",
"printf('\n Standard formula used \n r_ = (1 / r)^2. \n')\n",
"printf('\n Ratio of the new focus length to the initial focus length = %f ',r_)"
   ]
   }
,
{
		   "cell_type": "markdown",
		   "metadata": {},
		   "source": [
			"## Example 6.1: EX6_1.sce"
		   ]
		  },
  {
"cell_type": "code",
	   "execution_count": null,
	   "metadata": {
	    "collapsed": true
	   },
	   "outputs": [],
"source": [
"clc \n",
"// Given that\n",
"V = 500 // voltage across the electrode in eV\n",
"m = 9e-31 // mass of electron in kg\n",
"e = 1.6e-19 // charge on an electron in coulomb\n",
"// Sample Problem 1 on page no. 6.20\n",
"printf('\n # PROBLEM 1 # \n')\n",
"E = e * V\n",
"v = sqrt((2 * e * V) / m)\n",
"p = m * v\n",
"printf('\n Standard formula used \n E = e * V. \n v = sqrt((2 * e * V) / m). \n p = m * v. \n ')\n",
"printf('\n Energy gained by electron = %e J,\n Speed of electron = %e meter/sec,\n Momentum of electron = %e kg-meter/sec',E,v,p)"
   ]
   }
,
{
		   "cell_type": "markdown",
		   "metadata": {},
		   "source": [
			"## Example 6.2: Calculation_of_Momentum_of_acceleration.sce"
		   ]
		  },
  {
"cell_type": "code",
	   "execution_count": null,
	   "metadata": {
	    "collapsed": true
	   },
	   "outputs": [],
"source": [
"clc \n",
"// Given that\n",
"v = 2.5e6 // speed of electron in meter/sec\n",
"B = 2e-4 // magnetic field in tesla\n",
"r = 1.76e11 // ratio of charge on electron to the mass of electron in C/kg\n",
"// Sample Problem 2 on page no. 6.20\n",
"printf('\n # PROBLEM 2 # \n')\n",
"a = (B * r * v)\n",
"printf('\n Standard formula used \n a = (B * r * v). \n ')\n",
"printf('\n Momentum of acceleration = %e meter/square sec.',a)"
   ]
   }
,
{
		   "cell_type": "markdown",
		   "metadata": {},
		   "source": [
			"## Example 6.4: Calculation_of_Radius_of_circle_traced_by_the_beam_and_Speed_of_beam.sce"
		   ]
		  },
  {
"cell_type": "code",
	   "execution_count": null,
	   "metadata": {
	    "collapsed": true
	   },
	   "outputs": [],
"source": [
"clc \n",
"// Given that\n",
"v = 5.2e6 // speed of electron in meter/sec\n",
"B = 1.3e-4 // magnetic field in tesla\n",
"r = 1.76e11 // ratio of charge on electron to the mass of electron in C/kg\n",
"E = 3.2e-12 // energy of the electron beam in J\n",
"M = 9e-31 // mass of an electron in kg\n",
"// Sample Problem 4 on page no. 6.22\n",
"printf('\n # PROBLEM 4 # \n')\n",
"R = v / (r * B)\n",
"v_ = sqrt((2 * E) / M )\n",
"printf('\n Standard formula used \n R = v / (r * B). \n v_ = sqrt((2 * E) / M ). \n')\n",
"printf('\n Radius of circle traced by the beam = %f cm. \n Speed of beam in second case = %e meter/sec.\n Speed of beam in second case is greater than speed of light so we cannot use above formula.',R*100,v_)"
   ]
   }
,
{
		   "cell_type": "markdown",
		   "metadata": {},
		   "source": [
			"## Example 6.5: Calculation_of_Ratio_of_the_charge_on_an_electron_to_the_mass_of_an_electron.sce"
		   ]
		  },
  {
"cell_type": "code",
	   "execution_count": null,
	   "metadata": {
	    "collapsed": true
	   },
	   "outputs": [],
"source": [
"clc \n",
"// Given that\n",
"V = 2.500e3 // voltage across the electrode in V\n",
"E = 3.6e4 // strength of electric field in V/m\n",
"B = 1.2e-3 // magnetic field in tesla\n",
"// Sample Problem 5 on page no. 6.22\n",
"printf('\n # PROBLEM 5 # \n')\n",
"r = (E / B)^2 / (2 * V)//calculation for ratio of the charge on an electron to the mass of an electron\n",
"printf('\n Standard formula used \n e/m=(E/B)^2 / (2V). \n')\n",
"printf('\n Ratio of the charge on an electron to the mass of an electron = %e C/kg.',r)"
   ]
   }
,
{
		   "cell_type": "markdown",
		   "metadata": {},
		   "source": [
			"## Example 6.6: Calculation_of_Lamoure_radius.sce"
		   ]
		  },
  {
"cell_type": "code",
	   "execution_count": null,
	   "metadata": {
	    "collapsed": true
	   },
	   "outputs": [],
"source": [
"clc \n",
"// Given that\n",
"M = 9.1e-31 // mass of electron in kg\n",
"E = 1.6e-15 // energy of electron in J\n",
"B = 5e-5 // magnetic field in tesla\n",
"e = 1.6e-19 // charge on an electron in coulomb\n",
"// Sample Problem 6 on page no. 6.23\n",
"printf('\n # PROBLEM 6 # \n')\n",
"v = sqrt((2 * E) / M)\n",
"r = (M * v) / (e * B)\n",
"printf('\n Standard formula used \n v = sqrt((2 * E) / M). \n r = (M * v) / (e * B). \n')\n",
"printf('\n Larmoure radius = %f meter',r)"
   ]
   }
,
{
		   "cell_type": "markdown",
		   "metadata": {},
		   "source": [
			"## Example 6.7: Calculation_of_Lamoure_radius.sce"
		   ]
		  },
  {
"cell_type": "code",
	   "execution_count": null,
	   "metadata": {
	    "collapsed": true
	   },
	   "outputs": [],
"source": [
"clc \n",
"// Given that\n",
"Mp = 1.67e-27 // mass of proton in kg\n",
"v = 3e5 // speed of proton in meter/sec\n",
"B = 5e-9 // magnetic field in tesla\n",
"e = 1.6e-19 // charge on a proton in coulomb\n",
"// Sample Problem 7 on page no. 6.23\n",
"printf('\n # PROBLEM 7 # \n')\n",
"r = (Mp * v) / (e * B)//calculation for Larmour radius\n",
"printf('\n Standard formula used \n r=m*v/(e*B). \n')\n",
"printf('\n Larmour radius = %e meter',r)"
   ]
   }
,
{
		   "cell_type": "markdown",
		   "metadata": {},
		   "source": [
			"## Example 6.8: Calculation_of_Area_traced_by_the_trajectory_of_helium_ion.sce"
		   ]
		  },
  {
"cell_type": "code",
	   "execution_count": null,
	   "metadata": {
	    "collapsed": true
	   },
	   "outputs": [],
"source": [
"clc \n",
"// Given that\n",
"M = 6.68e-27 // mass of helium ion in kg\n",
"E = 1.6e-16 // energy of helium ion in J\n",
"B = 5e-2 // magnetic field in tesla\n",
"e = 1.6e-19 // charge on helium ion in coulomb\n",
"// Sample Problem 8 on page no. 6.23\n",
"printf('\n # PROBLEM 8 # \n')\n",
"v = sqrt((2 * E) / M)//calculation for velocity\n",
"r = (M * v) / (e * B)//calculation for Larmour radius\n",
"A = %pi * r^2//calculation for area traced by the trajectory of helium ion\n",
"printf('Standard formula used \n E=1/2*m*v^2,\n Rl=m*v/(e*B),\n A=pi*r^2\n')\n",
"printf('\n Area traced by the trajectory of helium ion = %f square meter',A)"
   ]
   }
,
{
		   "cell_type": "markdown",
		   "metadata": {},
		   "source": [
			"## Example 6.9: Calculation_of_The_drift_of_the_guiding_center.sce"
		   ]
		  },
  {
"cell_type": "code",
	   "execution_count": null,
	   "metadata": {
	    "collapsed": true
	   },
	   "outputs": [],
"source": [
"clc \n",
"// Given that\n",
"E = 100 // strength of electric field in V/m\n",
"B = 1e-3 // magnetic field in tesla\n",
"// Sample Problem 9 on page no. 6.24\n",
"printf('\n # PROBLEM 9 # \n')\n",
"v = E / B\n",
"printf('\n Standard formula used \n v = E / B. ')\n",
"printf('\n The drift of the guiding center = %e m/sec',v)"
   ]
   }
],
"metadata": {
		  "kernelspec": {
		   "display_name": "Scilab",
		   "language": "scilab",
		   "name": "scilab"
		  },
		  "language_info": {
		   "file_extension": ".sce",
		   "help_links": [
			{
			 "text": "MetaKernel Magics",
			 "url": "https://github.com/calysto/metakernel/blob/master/metakernel/magics/README.md"
			}
		   ],
		   "mimetype": "text/x-octave",
		   "name": "scilab",
		   "version": "0.7.1"
		  }
		 },
		 "nbformat": 4,
		 "nbformat_minor": 0
}
