{
"cells": [
 {
		   "cell_type": "markdown",
	   "metadata": {},
	   "source": [
       "# Chapter 12: APPLIED NUCLEAR PHYSICS"
	   ]
	},
{
		   "cell_type": "markdown",
		   "metadata": {},
		   "source": [
			"## Example 12.10: Calculation_of_Activity_of_sample.sce"
		   ]
		  },
  {
"cell_type": "code",
	   "execution_count": null,
	   "metadata": {
	    "collapsed": true
	   },
	   "outputs": [],
"source": [
"clc \n",
"// Given that\n",
"t = 2.7 // half-life of Au(198) in days\n",
"m = 1e-6 // mass of sample in gm\n",
"T = 8 * 86400 // time in seconds\n",
"// Sample Problem 10 on page no. 12.35\n",
"printf('\n # PROBLEM 10 # \n')\n",
"printf('Standard formula used \n')\n",
"printf(' lambda = 0.693 / t_1/2     (Decay constant) \n A =lambda*N    (Activity of sample) \n')\n",
"lambda = 0.693 / (t * 86400)\n",
"N = (m * 6.023e23) / 198 // by the formula (N = mass*Avogadro number/molar mass)\n",
"A_ = lambda * N\n",
"A = A_ * (1 / exp(lambda * T))\n",
"printf('\n Activity of sample is %e decays/sec.',A)"
   ]
   }
,
{
		   "cell_type": "markdown",
		   "metadata": {},
		   "source": [
			"## Example 12.11: Calculation_of_Fraction_of_sample.sce"
		   ]
		  },
  {
"cell_type": "code",
	   "execution_count": null,
	   "metadata": {
	    "collapsed": true
	   },
	   "outputs": [],
"source": [
"clc \n",
"// Given that\n",
"n = 3 // no. of half lives\n",
"// Sample Problem 11 on page no. 12.35\n",
"printf('\n # PROBLEM 11 # \n')\n",
"printf('Standard formula used \n')\n",
"printf(' N = 2^(-n) ...... fraction after n half lives.\n')\n",
"f = (1 / 2)^n\n",
"printf('\n Fraction of sample left after %d half lives is %f . ',n,f)"
   ]
   }
,
{
		   "cell_type": "markdown",
		   "metadata": {},
		   "source": [
			"## Example 12.12: Calculation_of_Substance_remained_unchanged.sce"
		   ]
		  },
  {
"cell_type": "code",
	   "execution_count": null,
	   "metadata": {
	    "collapsed": true
	   },
	   "outputs": [],
"source": [
"clc \n",
"// Given that\n",
"t = 2 // life period of radioactive substance in years\n",
"T = 4 // time in years\n",
"m = 10 // mass of substance in mg\n",
"// Sample Problem 12 on page no. 12.35\n",
"printf('\n # PROBLEM 12 # \n')\n",
"printf('Standard formula used \n')\n",
"printf(' N = N_0/2^(n) ...... fraction after n half lives.\n')\n",
"N = m / T // in mg\n",
"printf('\n  Substance remained unchanged after 4 years is %f mg.',N)"
   ]
   }
,
{
		   "cell_type": "markdown",
		   "metadata": {},
		   "source": [
			"## Example 12.13: Calculation_of_Decay_constant.sce"
		   ]
		  },
  {
"cell_type": "code",
	   "execution_count": null,
	   "metadata": {
	    "collapsed": true
	   },
	   "outputs": [],
"source": [
"clc \n",
"// Given that\n",
"m = 1 // initial mass of radium in gm\n",
"m_ = 0.0021 // final mass of radium in gm\n",
"t = 5 // time for decay from m to m_ in years\n",
"// Sample Problem 13 on page no. 12.36\n",
"printf('\n # PROBLEM 13 # \n')\n",
"printf('Standard formula used \n')\n",
"printf(' lambda = 0.693 / t_1/2     (Decay constant) \n N =N_0*e^(-lambda*t) \n')\n",
"lambda = log(m / (1 - m_)) / t\n",
"T = 0.693 / lambda\n",
"T_ = 1 / lambda\n",
"printf('\n Decay constant is %f per year.\n Half life of sample is %f years.\n Average life of sample is %f years.',lambda,T,T_)\n",
"//Answer in the book:2500 years\n",
"//Answer in the program:2378.451405 years"
   ]
   }
,
{
		   "cell_type": "markdown",
		   "metadata": {},
		   "source": [
			"## Example 12.14: Calculation_of_Half_life_of_sample.sce"
		   ]
		  },
  {
"cell_type": "code",
	   "execution_count": null,
	   "metadata": {
	    "collapsed": true
	   },
	   "outputs": [],
"source": [
"clc \n",
"// Given that\n",
"t = 10 // time in days\n",
"r = 15 // percentage fraction of sample which remain \n",
"// Sample Problem 14 on page no. 12.36\n",
"printf('\n # PROBLEM 14 # \n')\n",
"printf('Standard formula used \n')\n",
"printf(' lambda = 0.693 / t_1/2     (Decay constant) \n N =N_0*e^(-lambda*t) \n')\n",
"lambda = log(100 / 15) / t\n",
"T = 0.693 / lambda\n",
"printf('\n Half life of sample is %f days.',T)"
   ]
   }
,
{
		   "cell_type": "markdown",
		   "metadata": {},
		   "source": [
			"## Example 12.15: Calculation_of_Fraction_of_radioactive_isotope_remained.sce"
		   ]
		  },
  {
"cell_type": "code",
	   "execution_count": null,
	   "metadata": {
	    "collapsed": true
	   },
	   "outputs": [],
"source": [
"clc \n",
"// Given that\n",
"t = 12.3 // half life in year\n",
"T = 50 // time in year \n",
"// Sample Problem 15 on page no. 12.36\n",
"printf('\n # PROBLEM 15 # \n')\n",
"printf('Standard formula used \n')\n",
"printf(' lambda = 0.693 / t_1/2     (Decay constant) \n N =N_0*e^(-lambda*t) \n')\n",
"lambda = 0.693 / t\n",
"f = 1 / exp(lambda * T)\n",
"printf('\n Fraction of radioactive isotope remained is %f .',f)"
   ]
   }
,
{
		   "cell_type": "markdown",
		   "metadata": {},
		   "source": [
			"## Example 12.16: Calculation_of_Mass_of_Pb.sce"
		   ]
		  },
  {
"cell_type": "code",
	   "execution_count": null,
	   "metadata": {
	    "collapsed": true
	   },
	   "outputs": [],
"source": [
"clc \n",
"// Given that\n",
"R = 1 // radioactivity of Pb(214) in curie\n",
"t = 26.8 // half life in minute \n",
"// Sample Problem 16 on page no. 12.37\n",
"printf('\n # PROBLEM 16 # \n')\n",
"printf('Standard formula used \n')\n",
"printf(' lambda = 0.693 / t_1/2     (Decay constant) \n A =N*lambda      (Activity of sample) \n')\n",
"lambda = 0.693 / (t * 60)\n",
"R = 1 * 3.7e10 // in disintegration per sec\n",
"m = (R * 214) / (6.023e23 * lambda)\n",
"printf('\n Mass of Pb(214)is %e gm.',m)"
   ]
   }
,
{
		   "cell_type": "markdown",
		   "metadata": {},
		   "source": [
			"## Example 12.17: Calculation_of_Mass_of_Pb.sce"
		   ]
		  },
  {
"cell_type": "code",
	   "execution_count": null,
	   "metadata": {
	    "collapsed": true
	   },
	   "outputs": [],
"source": [
"clc \n",
"// Given that\n",
"R = 1e6 // radioactivity of Pb(214) in disintegrations per sec\n",
"t = 26.8 // half life in minute \n",
"// Sample Problem 17 on page no. 12.37\n",
"printf('\n # PROBLEM 17 # \n')\n",
"printf('Standard formula used \n')\n",
"printf(' lambda = 0.693 / t_1/2     (Decay constant) \n A =N*lambda      (Activity of sample) \n')\n",
"lambda = 0.693 / (t * 60)\n",
"m = (R * 214) / (6.023e23 * lambda)\n",
"printf('\n Mass of Pb(214) is %e gm.',m)"
   ]
   }
,
{
		   "cell_type": "markdown",
		   "metadata": {},
		   "source": [
			"## Example 12.18: Calculation_of_Mean_life_of_radium_and_Half_life_of_radium.sce"
		   ]
		  },
  {
"cell_type": "code",
	   "execution_count": null,
	   "metadata": {
	    "collapsed": true
	   },
	   "outputs": [],
"source": [
"clc \n",
"// Given that\n",
"m = 1 // mass of Ra(226) in gm \n",
"R = 1 // radioactivity of Ra(226) in curie\n",
"// Sample Problem 18 on page no. 12.37\n",
"printf('\n # PROBLEM 18 # \n')\n",
"printf('Standard formula used \n')\n",
"printf(' lambda = 0.693 / t_1/2     (Decay constant) \n tau = 1/lambda \n A =N*lambda      (Activity of sample) \n')\n",
"r = R * 3.7e10 // in disintegrations per sec\n",
"N = 6.023e23 * m / 226\n",
"lambda = r * 226 / 6.023e23\n",
"T = 1 / lambda\n",
"T_ = 0.693 / lambda\n",
"printf('\n Mean life of radium is %e year.\n Half life of radium is %e year.',T,T_)"
   ]
   }
,
{
		   "cell_type": "markdown",
		   "metadata": {},
		   "source": [
			"## Example 12.19: Calculation_of_Activity_of_Sr.sce"
		   ]
		  },
  {
"cell_type": "code",
	   "execution_count": null,
	   "metadata": {
	    "collapsed": true
	   },
	   "outputs": [],
"source": [
"clc \n",
"// Given that\n",
"m = 0.0001 // mass of Sr(90) in gm\n",
"t = 28 // half life of Sr(90) in year\n",
"t_ = 9 // time in sec\n",
"// Sample Problem 19 on page no. 12.38\n",
"printf('\n # PROBLEM 19 # \n')\n",
"printf('Standard formula used \n')\n",
"printf(' lambda = 0.693 / t_1/2     (Decay constant) \n del_N = N_0*lambda*t (disintegration of sample) \n')\n",
"lambda = 0.693 / (t * 86400 * 365)\n",
"N_ = 6.023e23 * m / 90\n",
"n = N_ * lambda * t_\n",
"printf('\n Activity of Sr is %e disintegration/sec.',n)\n",
"//Answer in the book:5.25 X 10^8\n",
"//Answer in the program:4.726955 e+09"
   ]
   }
,
{
		   "cell_type": "markdown",
		   "metadata": {},
		   "source": [
			"## Example 12.1: Calculation_of_Mass_absorption_coefficient_of_Al_and_Half_value_thickness.sce"
		   ]
		  },
  {
"cell_type": "code",
	   "execution_count": null,
	   "metadata": {
	    "collapsed": true
	   },
	   "outputs": [],
"source": [
"clc \n",
"// Given that\n",
"E = 1.14 // energy of gamma radiation in Mev\n",
"l = 0.2 // length of aluminium in meter\n",
"p = 0.03 // reduce in intensity in beam\n",
"d = 2700 // density of aluminium in kg/m^3 \n",
"// Sample Problem 1 on page no. 12.31\n",
"printf('\n # PROBLEM 1 # \n')\n",
"printf('Standard formula used \n')\n",
"printf('I = I_0*e^(-mu*x) \n')\n",
"mu = (1 / l) * log(1 / p)\n",
"k = mu / d\n",
"x = 0.693 / mu\n",
"printf('\n Mass absorption coeffiecient of Al for this radiation is %f m^2/kg.\n Half value thickness is %f meter.',k,x)"
   ]
   }
,
{
		   "cell_type": "markdown",
		   "metadata": {},
		   "source": [
			"## Example 12.20: Calculation_of_Mass_of_radon.sce"
		   ]
		  },
  {
"cell_type": "code",
	   "execution_count": null,
	   "metadata": {
	    "collapsed": true
	   },
	   "outputs": [],
"source": [
"clc \n",
"// Given that\n",
"t = 1600 // the half life of radium(226) in year\n",
"t1 = 3.8 // the half life of radon(222) in days\n",
"m = 1 // mass of Ra(226) in gm\n",
"// Sample Problem 20 on page no. 12.38\n",
"printf('\n # PROBLEM 20 # \n')\n",
"printf(' Standard formula used \n')\n",
"printf(' N_1*lambda_1 = N_2*lambda_2 \n')\n",
"m_ = (222 * t1 * m) / (226 * 365 * t) // by the formula N1*t = N2*t1\n",
"printf('\n Mass of radon is %e gm.',m_)"
   ]
   }
,
{
		   "cell_type": "markdown",
		   "metadata": {},
		   "source": [
			"## Example 12.21: Calculation_of_Energy_of_gamma_ray_photon.sce"
		   ]
		  },
  {
"cell_type": "code",
	   "execution_count": null,
	   "metadata": {
	    "collapsed": true
	   },
	   "outputs": [],
"source": [
"clc \n",
"// Given that\n",
"m1 = 4.002603 // mass of He(4) in a.m.u.\n",
"m2 = 3.016056 // mass of H(3) in a.m.u.\n",
"m3 = 1.007276 // mass of H(1) in a.m.u.\n",
"// Sample Problem 21 on page no. 12.39\n",
"printf('\n # PROBLEM 21 # \n')\n",
"printf('Standard law used \n')\n",
"printf(' Law of conservation of Energy \n')\n",
"k = m2 + m3 - m1\n",
"E = k * 931\n",
"printf('\n Energy of gamma ray photon is %f MeV.',E)"
   ]
   }
,
{
		   "cell_type": "markdown",
		   "metadata": {},
		   "source": [
			"## Example 12.22: Calculation_of_Q_value_of_reaction.sce"
		   ]
		  },
  {
"cell_type": "code",
	   "execution_count": null,
	   "metadata": {
	    "collapsed": true
	   },
	   "outputs": [],
"source": [
"clc \n",
"// Given that\n",
"E = 3 // kinetic energy of proton in Mev\n",
"m1 = 1.007276 // mass of H(1) in a.m.u.\n",
"m2 = 3.016056 // mass of H(3) in a.m.u.\n",
"m3 = 1.008665 // mass of neutron in a.m.u.\n",
"m4 = 3.016036 // mass of He(3) in a.m.u.\n",
"// Sample Problem 22 on page no. 12.39\n",
"printf('\n # PROBLEM 22 # \n')\n",
"printf('Standard law used \n')\n",
"printf(' Law of conservation of Energy \n')\n",
"k = m1 + m2 - m3 - m4\n",
"E = k * 931.5\n",
"printf('\n Q value of reaction is %f MeV.',E)"
   ]
   }
,
{
		   "cell_type": "markdown",
		   "metadata": {},
		   "source": [
			"## Example 12.23: Calculation_of_Heat_produce_by_complete_disintegration_and_Energy_released.sce"
		   ]
		  },
  {
"cell_type": "code",
	   "execution_count": null,
	   "metadata": {
	    "collapsed": true
	   },
	   "outputs": [],
"source": [
"clc \n",
"// Given that\n",
"E = 200 // energy released per fission in Mev\n",
"m = 0.01 // mass of U(235) in gm\n",
"n = 235 // atomic no of sample\n",
"N_0=6.023e23 // Avogadro constant\n",
"// Sample Problem 23 on page no. 12.40\n",
"printf('\n # PROBLEM 23 # \n')\n",
"printf('Standard formula used \n')\n",
"printf(' E_total = E*N_0/n \n')\n",
"E_ = E * 1.6e-13\n",
"k = E_ * N_0 * m / n\n",
"H = k / 4.168\n",
"printf('\n Heat produce by complete disintegration is %e cal.\n Energy released is %e J.',H,E_)"
   ]
   }
,
{
		   "cell_type": "markdown",
		   "metadata": {},
		   "source": [
			"## Example 12.24: Calculation_of_Energy_released_by_fission.sce"
		   ]
		  },
  {
"cell_type": "code",
	   "execution_count": null,
	   "metadata": {
	    "collapsed": true
	   },
	   "outputs": [],
"source": [
"clc \n",
"// Given that\n",
"E = 200 // energy released per fission in Mev\n",
"m = 1 // mass of U(235) in kg\n",
"// Sample Problem 24 on page no. 12.40\n",
"printf('\n # PROBLEM 24 # \n')\n",
"printf('Standard formula used \n')\n",
"printf(' E_total = E*N_0/n \n')\n",
"E_ = E * 1.6e-13\n",
"k = E_ * 6.023e26 * m / 235\n",
"printf('\n Energy released  by fission of 1 kg of U(235)is %e J.',k)"
   ]
   }
,
{
		   "cell_type": "markdown",
		   "metadata": {},
		   "source": [
			"## Example 12.25: Calculation_of_Amount_of_fuel_required.sce"
		   ]
		  },
  {
"cell_type": "code",
	   "execution_count": null,
	   "metadata": {
	    "collapsed": true
	   },
	   "outputs": [],
"source": [
"clc \n",
"// Given that\n",
"P = 1e9 // power required for enlighten the city in watt\n",
"e = 30 // percentage efficiency of nuclear reactor\n",
"E = 3.2e-11 // energy released per fission in J\n",
"// Sample Problem 25 on page no. 12.40\n",
"printf('\n # PROBLEM 25 # \n')\n",
"printf('Standard formula used \n')\n",
"printf(' E_total = E*N_0/n \n')\n",
"E_ = E * 30 / 100\n",
"N = P / E_\n",
"N_ = N * 24 * 3600\n",
"m = N_ * 235 / 6.023e26 \n",
"printf('\n Amount of fuel required per day is %f kg.',m)"
   ]
   }
,
{
		   "cell_type": "markdown",
		   "metadata": {},
		   "source": [
			"## Example 12.26: Calculation_of_Power_output_of_reactor.sce"
		   ]
		  },
  {
"cell_type": "code",
	   "execution_count": null,
	   "metadata": {
	    "collapsed": true
	   },
	   "outputs": [],
"source": [
"clc \n",
"// Given that\n",
"E = 200 // energy released per fission of U(235)in Mev\n",
"m = 3.7 // mass of U(235) consumed in a day in kg\n",
"e = 20 // percentage efficiency of reactor\n",
"// Sample Problem 26 on page no. 12.41\n",
"printf('\n # PROBLEM 26 # \n')\n",
"printf('Standard formula used \n')\n",
"printf(' E_total = E*N_0/n \n')\n",
"E_ = E * 1.6e-13\n",
"N = m * 6.023e26 / 235\n",
"H = E_ * e / 100\n",
"k = H * N / (24 * 3600)\n",
"printf('\n Power output of reactor is %f GW.',k * 1e-9)"
   ]
   }
,
{
		   "cell_type": "markdown",
		   "metadata": {},
		   "source": [
			"## Example 12.27: Calculation_of_Energy_produce_by_each_reaction.sce"
		   ]
		  },
  {
"cell_type": "code",
	   "execution_count": null,
	   "metadata": {
	    "collapsed": true
	   },
	   "outputs": [],
"source": [
"clc \n",
"// Given that\n",
"m1 = 4.00260 // mass of He(4) in a.m.u.\n",
"m2 = 0.00055 // mass of electron in a.m.u.\n",
"m3 = 12 // mass of C(12) in a.m.u.\n",
"// Sample Problem 27 on page no. 12.40\n",
"printf('\n # PROBLEM 27 # \n')\n",
"printf(' Standard formula used \n')\n",
"printf(' del_E = del_m * c^2 \n')\n",
"delta_m = 3 * m1 - m3\n",
"E = delta_m * 931\n",
"printf('\n Energy produce by each reaction is %f MeV.',E)"
   ]
   }
,
{
		   "cell_type": "markdown",
		   "metadata": {},
		   "source": [
			"## Example 12.28: Calculation_of_Mass_of_deuterium.sce"
		   ]
		  },
  {
"cell_type": "code",
	   "execution_count": null,
	   "metadata": {
	    "collapsed": true
	   },
	   "outputs": [],
"source": [
"clc \n",
"// Given that\n",
"P = 5e7 // power in watt\n",
"e = 33 // percentage efficiency of nuclear reactor\n",
"m1 = 2.01478 // mass of H(2) in a.m.u.\n",
"m2 = 4.00388 // mass of He(4) in a.m.u.\n",
"// Sample Problem 28 on page no. 12.42\n",
"printf('\n # PROBLEM 28 # \n')\n",
"printf(' Standard formula used \n')\n",
"printf(' del_E = del_m * c^2 \n efficiency = output/input \n')\n",
"m = (2 * m1) - m2\n",
"E = m * 931 * 1.6e-13\n",
"E_O = E * e /(2 * 100)\n",
"N = P / E_O\n",
"k = N * m1 / 6.023e26\n",
"M = k * 24 * 3600 \n",
"printf('\n Mass of deuterium consumed per day is %f kg.',M)"
   ]
   }
,
{
		   "cell_type": "markdown",
		   "metadata": {},
		   "source": [
			"## Example 12.29: Calculation_of_Number_of_revolution.sce"
		   ]
		  },
  {
"cell_type": "code",
	   "execution_count": null,
	   "metadata": {
	    "collapsed": true
	   },
	   "outputs": [],
"source": [
"clc \n",
"// Given that\n",
"d = 1.8 // diameter in meter\n",
"B = 0.8 // magnetic field in tesla\n",
"m = 6.68e-27 // mass of He(4) in kg\n",
"e = 1.6e-19 // charge on an electron in Coulomb\n",
"// Sample Problem 29on page no. 12.43\n",
"printf('\n # PROBLEM 29 # \n')\n",
"printf(' Standard formula used \n')\n",
"printf(' E = B^2*q^2*r^2/(2*m) \n f = B*q/(2*pi*m) \n')\n",
"r = d / 2\n",
"E = (B^2 * (2 * e)^2 * r^2) / (2 * m * 1.6e-19 * 10^6) \n",
"f = B * 2 * e / (2 * %pi * m)\n",
"N = f / 2\n",
"printf('\n Energy  is %f MeV.\n Number of revolution made by particle to obtain above energy is %e per sec',E,N)"
   ]
   }
,
{
		   "cell_type": "markdown",
		   "metadata": {},
		   "source": [
			"## Example 12.2: Calculation_of_Mass_attenuation_coefficient_of_Al.sce"
		   ]
		  },
  {
"cell_type": "code",
	   "execution_count": null,
	   "metadata": {
	    "collapsed": true
	   },
	   "outputs": [],
"source": [
"clc \n",
"// Given that\n",
"E = 1.1 // energy of gamma radiation in Mev\n",
"l = 0.25 // length of aluminium in meter\n",
"p = 0.02 // reduce in intensity in beam\n",
"d = 2700 // density of aluminium in kg/m^3 \n",
"// Sample Problem 2 on page no. 12.32\n",
"printf('\n # PROBLEM 2 # \n')\n",
"printf('Standard formula used \n')\n",
"printf('I = I_0*e^(-mu*x) \n')\n",
"mu = (1 / l) * log(1 / p)\n",
"k = mu / d\n",
"x = 0.693 / mu\n",
"printf('\n Mass attenuation coefficient of Al for this radiation is %e m^2/kg.\n Half value thickness is %f meter.',k,x)"
   ]
   }
,
{
		   "cell_type": "markdown",
		   "metadata": {},
		   "source": [
			"## Example 12.30: Calculation_of_Value_of_magnetic_induction_needed_to_accelerate_deuteron.sce"
		   ]
		  },
  {
"cell_type": "code",
	   "execution_count": null,
	   "metadata": {
	    "collapsed": true
	   },
	   "outputs": [],
"source": [
"clc \n",
"// Given that\n",
"f = 12e6 // oscillator frequency of cyclotron in Hz\n",
"r = 0.53 // radius of dee in meter\n",
"e = 1.6e-19 // charge on an electron in Coulomb\n",
"// Sample Problem 30 on page no. 12.43\n",
"printf('\n # PROBLEM 30 # \n')\n",
"printf(' Standard formula used \n')\n",
"printf(' f = B*q/(2*pi*m) \n')\n",
"B = (2 * %pi * f * 2 * 1.67e-27) / e\n",
"printf('\n Value of magnetic induction needed to accelerate deuteron in it is %f T.',B)"
   ]
   }
,
{
		   "cell_type": "markdown",
		   "metadata": {},
		   "source": [
			"## Example 12.31: EX12_31.sce"
		   ]
		  },
  {
"cell_type": "code",
	   "execution_count": null,
	   "metadata": {
	    "collapsed": true
	   },
	   "outputs": [],
"source": [
"clc \n",
"// Given that\n",
"f = 10e6 // frequency of applied Emf in Hz\n",
"r = 0.32 // radius in meter\n",
"m = 3.32e-27 // mass of deuteron in kg\n",
"e = 1.6e-19 // charge on an electron in Coulomb\n",
"// Sample Problem 31 on page no. 12.44\n",
"printf('\n # PROBLEM 31 # \n')\n",
"printf(' Standard formula used \n')\n",
"printf(' q*v*B = m*v^2/r \n f = B*q/(2*pi*m) \n')\n",
"B = (2 * %pi * f * m) / e\n",
"v = (e * B * r) / m\n",
"printf('\n Flux density of the magnetic field is %f T.\n Velocity of the deuterons emerging out of the cyclotron is %e m/sec. ',B, v)"
   ]
   }
,
{
		   "cell_type": "markdown",
		   "metadata": {},
		   "source": [
			"## Example 12.32: Calculation_of_Energy_gained_per_turn_and_Final_energy.sce"
		   ]
		  },
  {
"cell_type": "code",
	   "execution_count": null,
	   "metadata": {
	    "collapsed": true
	   },
	   "outputs": [],
"source": [
"clc \n",
"// Given that\n",
"f = 60 // operating frequency in Hz\n",
"d = 1.6 // diameter in meter\n",
"B = 0.5 // magnetic field at the orbit in tesla\n",
"e = 1.6e-19 // charge on an electron in Coulomb\n",
"// Sample Problem 32 on page no. 12.44\n",
"printf('\n # PROBLEM 32 # \n')\n",
"printf(' Standard formula used \n')\n",
"printf(' E_ = 3e8 * r * B / 1e6 \n')\n",
"r = d / 2\n",
"w = 2 * %pi * f\n",
"E = 4 * e * w * r^2 * B\n",
"E_ = 3e8 * r * B / 1e6\n",
"printf('\n Energy gained per turn is %f eV.\n Final energy is %d MeV.',E / e,E_)"
   ]
   }
,
{
		   "cell_type": "markdown",
		   "metadata": {},
		   "source": [
			"## Example 12.33: Calculation_of_Magnitude_of_magnetic_field.sce"
		   ]
		  },
  {
"cell_type": "code",
	   "execution_count": null,
	   "metadata": {
	    "collapsed": true
	   },
	   "outputs": [],
"source": [
"clc \n",
"// Given that\n",
"E = 70 // energy of betatron synchrotron in Mev\n",
"r = 0.28 // radius in meter\n",
"e = 1.6e-19 // charge on an electron in C\n",
"// Sample Problem 33 on page no. 12.45\n",
"printf('\n # PROBLEM 33 # \n')\n",
"printf(' Standard formula used \n')\n",
"printf(' E = c* e * r* B \n')\n",
"E_ = E * 1.6e-13\n",
"B = E_ / (3e8 * e * r)\n",
"printf('\n Magnitude of magnetic field is %f T.',B)"
   ]
   }
,
{
		   "cell_type": "markdown",
		   "metadata": {},
		   "source": [
			"## Example 12.34: Calculation_of_The_current_produced.sce"
		   ]
		  },
  {
"cell_type": "code",
	   "execution_count": null,
	   "metadata": {
	    "collapsed": true
	   },
	   "outputs": [],
"source": [
"clc \n",
"// Given that\n",
"E = 4.18 // energy of alpha particle in Mev\n",
"n = 12 // no. of particle enter the chamber per sec\n",
"E_ = 40 // required energy of an ion pair in ev\n",
"e = 1.6e-19 // charge on an electron in C\n",
"// Sample Problem 34 on page no. 12.45\n",
"printf('\n # PROBLEM 34 # \n')\n",
"R = n * E * 10^6 // in eV\n",
"N = R / E_\n",
"i = N * e\n",
"printf('Standard formula used \n N = R / E_.\n')\n",
"printf('\n The current produced = %e Amp',i)"
   ]
   }
,
{
		   "cell_type": "markdown",
		   "metadata": {},
		   "source": [
			"## Example 12.35: Calculation_of_Average_current_in_the_circuit.sce"
		   ]
		  },
  {
"cell_type": "code",
	   "execution_count": null,
	   "metadata": {
	    "collapsed": true
	   },
	   "outputs": [],
"source": [
"clc \n",
"// Given that\n",
"n = 10^8 // no. of electron per discharge counted by GM counter\n",
"r = 500 // counting rate in counts per minutes\n",
"e = 1.6e-19 // charge on an electron in C\n",
"// Sample Problem 35 on page no. 12.46\n",
"printf('\n # PROBLEM 35 # \n')\n",
"N = r / 60\n",
"i = N * n * e \n",
"printf('Standard formula used \n i = N * n * e . \n')\n",
"printf('\n Average current in the circuit = %e Amp',i)"
   ]
   }
,
{
		   "cell_type": "markdown",
		   "metadata": {},
		   "source": [
			"## Example 12.36: Calculation_of_Frequency_of_cyclotron_and_Larmour_radius.sce"
		   ]
		  },
  {
"cell_type": "code",
	   "execution_count": null,
	   "metadata": {
	    "collapsed": true
	   },
	   "outputs": [],
"source": [
"clc \n",
"// Given that\n",
"E = 10 // energy of electron in kev\n",
"B = 5e-5 // magnetic field of earth in tesla\n",
"e = 1.6e-19 // charge on an electron in C\n",
"// Sample Problem 36 on page no. 12.46\n",
"printf('\n # PROBLEM 36 # \n')\n",
"f = e * B / 9.1e-31\n",
"E_ = E * 1.6e-16\n",
"v = sqrt((2 * E_) / 9.1e-31)\n",
"r = v / f\n",
"printf('Standard formula used \n f = e * B / 9.1e-31 . \n')\n",
"printf('\n Frequency of cyclotron = %e per sec,\n Larmour radius = %f meter',f,r)"
   ]
   }
,
{
		   "cell_type": "markdown",
		   "metadata": {},
		   "source": [
			"## Example 12.37: Calculation_of_Larmour_radius.sce"
		   ]
		  },
  {
"cell_type": "code",
	   "execution_count": null,
	   "metadata": {
	    "collapsed": true
	   },
	   "outputs": [],
"source": [
"clc \n",
"// Given that\n",
"B = 5e-9 // magnetic field in tesla\n",
"v = 3e5 // velocity of proton stream in m/sec\n",
"e = 1.6e-19 // charge on an electron in C\n",
"// Sample Problem 37 on page no. 12.46\n",
"printf('\n # PROBLEM 37 # \n')\n",
"printf(' Standard formula used \n')\n",
"printf(' E = 1/2*m*v^2  \n')\n",
"r = (1.67e-27 * v) / (e * B)\n",
"printf('\n Larmour radius is %e meter.',r)"
   ]
   }
,
{
		   "cell_type": "markdown",
		   "metadata": {},
		   "source": [
			"## Example 12.38: Calculation_of_Magnetic_field.sce"
		   ]
		  },
  {
"cell_type": "code",
	   "execution_count": null,
	   "metadata": {
	    "collapsed": true
	   },
	   "outputs": [],
"source": [
"clc \n",
"// Given that\n",
"E = 1 // energy of He+ in kev\n",
"r = 0.188 // Larmour radius in meter\n",
"e = 1.6e-19 // charge on an electron in C\n",
"// Sample Problem 38 on page no. 12.46\n",
"printf('\n # PROBLEM 38 # \n')\n",
"printf(' Standard formula used \n')\n",
"printf(' E = 1/2*m*v^2  \n E = q*B*v \n')\n",
"E_ = E * 1.6e-16\n",
"v = sqrt((2 * E_) / (4 * 1.67e-27))\n",
"B = (4 * 1.67e-27 * v) / (e * r)\n",
"printf('\n Magnetic field is %e tesla.',B)"
   ]
   }
,
{
		   "cell_type": "markdown",
		   "metadata": {},
		   "source": [
			"## Example 12.39: Calculation_of_Larmour_radius.sce"
		   ]
		  },
  {
"cell_type": "code",
	   "execution_count": null,
	   "metadata": {
	    "collapsed": true
	   },
	   "outputs": [],
"source": [
"clc \n",
"// Given that\n",
"E = 3.5 // energy of He++ ash particle in Mev\n",
"B = 8 // magnetic field in tesla\n",
"e = 1.6e-19 // charge on an electron in C\n",
"// Sample Problem 39 on page no. 12.47\n",
"printf('\n # PROBLEM 39 # \n')\n",
"E_ = E * 1.6e-13\n",
"v = sqrt(2 * E_ / (4 * 1.67e-27))\n",
"printf(' Standard formula used \n')\n",
"printf(' E = 1/2*m*v^2  \n E = q*B*v \n')\n",
"r = (4 * 1.67e-27 * v) / (2 * e * B)\n",
"printf('\n Larmour radius is %e meter.',r)"
   ]
   }
,
{
		   "cell_type": "markdown",
		   "metadata": {},
		   "source": [
			"## Example 12.3: Calculation_of_Time.sce"
		   ]
		  },
  {
"cell_type": "code",
	   "execution_count": null,
	   "metadata": {
	    "collapsed": true
	   },
	   "outputs": [],
"source": [
"clc \n",
"// Given that\n",
"t = 15 // half-life for Na(23) in hours\n",
"r = 93.75 // percentage fraction of sample which decayed \n",
"// Sample Problem 3 on page no. 12.32\n",
"printf('\n # PROBLEM 3 # \n')\n",
"printf('Standard formula used \n')\n",
"printf(' lambda = 0.693 / t_1/2     (Decay constant) \n N =N_0*e^(-lambda*t) \n')\n",
"lambda = 0.693 / t\n",
"T = (1 / lambda) * (log(100 / (100 - r)))\n",
"printf('\n Time taken for 93.75 per decay of sample is %d hours.',T)"
   ]
   }
,
{
		   "cell_type": "markdown",
		   "metadata": {},
		   "source": [
			"## Example 12.40: Calculation_of_Debye_length_and_Plasma_frequency.sce"
		   ]
		  },
  {
"cell_type": "code",
	   "execution_count": null,
	   "metadata": {
	    "collapsed": true
	   },
	   "outputs": [],
"source": [
"clc \n",
"// Given that\n",
"d = 1e12 // electron density in number per m^3\n",
"E = 0.1 // thermal energy in eV\n",
"e = 1.6e-19 // charge on an electron in C\n",
"// Sample Problem 40 on page no. 12.47\n",
"printf('\n # PROBLEM 40 # \n')\n",
"printf(' Standard formula used \n')\n",
"printf(' l_debye = (epsilon_0*K*T/(n*e^2))^1/2  \n f = omega/(2*pi) \n')\n",
"lambda = sqrt((8.85e-12 * E * e) / (d * e * e))\n",
"omega = sqrt(d * e^2 / (9.1e-31 * 8.85e-12))\n",
"f = omega / (2 * %pi)\n",
"printf('\n Debye length is %e meter.\n Plasma frequency is %f MHz.',lambda,f / 1e6)"
   ]
   }
,
{
		   "cell_type": "markdown",
		   "metadata": {},
		   "source": [
			"## Example 12.41: Calculation_of_Debye_length_and_Plasma_frequency.sce"
		   ]
		  },
  {
"cell_type": "code",
	   "execution_count": null,
	   "metadata": {
	    "collapsed": true
	   },
	   "outputs": [],
"source": [
"clc \n",
"// Given that\n",
"d = 1e16 // density in per m^3\n",
"E = 2 // thermal energy in eV\n",
"e = 1.6e-19 // charge on an electron in C\n",
"// Sample Problem 41 on page no. 12.48\n",
"printf('\n # PROBLEM 41 # \n')\n",
"lambda = sqrt((8.85e-12 * E * e) / (d * e * e))\n",
"printf(' Standard formula used \n')\n",
"printf(' l_debye = (epsilon_0*K*T/(n*e^2))^1/2  \n f = omega/(2*pi) \n')\n",
"omega = sqrt(d * e^2 / (9.1e-31 * 8.85e-12))\n",
"f = omega / (2 * %pi)\n",
"printf('\n Debye length is %e meter.\n Plasma frequency is %e Hz.',lambda,f)"
   ]
   }
,
{
		   "cell_type": "markdown",
		   "metadata": {},
		   "source": [
			"## Example 12.4: Calculation_of_Time.sce"
		   ]
		  },
  {
"cell_type": "code",
	   "execution_count": null,
	   "metadata": {
	    "collapsed": true
	   },
	   "outputs": [],
"source": [
"clc \n",
"// Given that\n",
"t = 4 // half-life of radioactive element in years\n",
"r = 1 / 64 // ratio of mass of element present in specimen to the initial mass of element \n",
"// Sample Problem 4 on page no. 12.33\n",
"printf('\n # PROBLEM 4 # \n')\n",
"printf('Standard formula used \n')\n",
"printf(' lambda = 0.693 / t_1/2     (Decay constant) \n N =N_0*e^(-lambda*t) \n')\n",
"lambda = 0.693 / t\n",
"T = (1 / lambda) * log(1 / r)\n",
"printf('\n Time after which element present in specimen reduce to 1/64 of its original value is %d years.',T)"
   ]
   }
,
{
		   "cell_type": "markdown",
		   "metadata": {},
		   "source": [
			"## Example 12.5: Calculation_of_Period.sce"
		   ]
		  },
  {
"cell_type": "code",
	   "execution_count": null,
	   "metadata": {
	    "collapsed": true
	   },
	   "outputs": [],
"source": [
"clc \n",
"// Given that\n",
"t = 15 // half-life of radioactive element in years\n",
"r = 0.025 // ratio of mass of element present in specimen to the intial mass of element \n",
"// Sample Problem 5 on page no. 12.33\n",
"printf('\n # PROBLEM 5 # \n')\n",
"printf('Standard formula used \n')\n",
"printf(' lambda = 0.693 / t_1/2     (Decay constant) \n N =N_0*e^(-lambda*t) \n')\n",
"lambda = 0.693 / t\n",
"T = (1 / lambda) * log(1 / r)\n",
"printf('\n Period in which 2.5 percent of the initial quantity left over is %f years.',T)"
   ]
   }
,
{
		   "cell_type": "markdown",
		   "metadata": {},
		   "source": [
			"## Example 12.6: Calculation_of_Time.sce"
		   ]
		  },
  {
"cell_type": "code",
	   "execution_count": null,
	   "metadata": {
	    "collapsed": true
	   },
	   "outputs": [],
"source": [
"clc \n",
"// Given that\n",
"t = 3.8 // half-life for radon in days\n",
"r = 60 // percentage fraction of sample which decayed \n",
"// Sample Problem 6 on page no. 12.33\n",
"printf('\n # PROBLEM 6 # \n')\n",
"printf('Standard formula used \n')\n",
"printf(' lambda = 0.693 / t_1/2     (Decay constant) \n N =N_0*e^(-lambda*t) \n')\n",
"lambda = 0.693 / t\n",
"T = (1 / lambda) * (log(100 / (100 - r)))\n",
"printf('\n Time taken for 60 percent decay of sample is %f days.',T)"
   ]
   }
,
{
		   "cell_type": "markdown",
		   "metadata": {},
		   "source": [
			"## Example 12.7: Calculation_of_Half_life_time_and_Mean_life_time.sce"
		   ]
		  },
  {
"cell_type": "code",
	   "execution_count": null,
	   "metadata": {
	    "collapsed": true
	   },
	   "outputs": [],
"source": [
"clc \n",
"// Given that\n",
"lambda = 4.28e-4 // decay constant in per year\n",
"// Sample Problem 7 on page no. 12.34\n",
"printf('\n # PROBLEM 7 # \n')\n",
"printf('Standard formula used \n')\n",
"printf(' lambda = 0.693 / t_1/2     (Decay constant) \n tau = 1/lambda \n')\n",
"T = 0.693 / lambda\n",
"t = 1 / lambda\n",
"printf('\n Half life time is %f years.\n Mean life time is %f years.',T,t)"
   ]
   }
,
{
		   "cell_type": "markdown",
		   "metadata": {},
		   "source": [
			"## Example 12.8: Calculation_of_Half_life_of_radioactive_material.sce"
		   ]
		  },
  {
"cell_type": "code",
	   "execution_count": null,
	   "metadata": {
	    "collapsed": true
	   },
	   "outputs": [],
"source": [
"clc \n",
"// Given that\n",
"t = 30 // time in years\n",
"r = 1 / 64 // ratio of final mass of element to the intial mass of element \n",
"// Sample Problem 8 on page no. 12.34\n",
"printf('\n # PROBLEM 8 # \n')\n",
"printf('Standard formula used \n')\n",
"printf(' lambda = 0.693 / t_1/2     (Decay constant) \n N =N_0*e^(-lambda*t) \n')\n",
"lambda = log(1 / r) / t\n",
"T = 0.693 / lambda\n",
"printf('\n Half life of radioactive material is %d years.',ceil(T))"
   ]
   }
,
{
		   "cell_type": "markdown",
		   "metadata": {},
		   "source": [
			"## Example 12.9: Calculation_of_Decay_constant.sce"
		   ]
		  },
  {
"cell_type": "code",
	   "execution_count": null,
	   "metadata": {
	    "collapsed": true
	   },
	   "outputs": [],
"source": [
"clc \n",
"// Given that\n",
"t = 2.1 // half life in minute\n",
"r = 60 // percentage fraction of sample which decayed \n",
"// Sample Problem 9 on page no. 12.34\n",
"printf('\n # PROBLEM 9 # \n')\n",
"printf('Standard formula used \n')\n",
"printf(' lambda = 0.693 / t_1/2     (Decay constant) \n ')\n",
"lambda = 0.693 / t\n",
"printf('\n Decay constant is %f per minute.',lambda)"
   ]
   }
],
"metadata": {
		  "kernelspec": {
		   "display_name": "Scilab",
		   "language": "scilab",
		   "name": "scilab"
		  },
		  "language_info": {
		   "file_extension": ".sce",
		   "help_links": [
			{
			 "text": "MetaKernel Magics",
			 "url": "https://github.com/calysto/metakernel/blob/master/metakernel/magics/README.md"
			}
		   ],
		   "mimetype": "text/x-octave",
		   "name": "scilab",
		   "version": "0.7.1"
		  }
		 },
		 "nbformat": 4,
		 "nbformat_minor": 0
}
