{
"cells": [
 {
		   "cell_type": "markdown",
	   "metadata": {},
	   "source": [
       "# Chapter 19: SUPERCONDUCTIVITY"
	   ]
	},
{
		   "cell_type": "markdown",
		   "metadata": {},
		   "source": [
			"## Example 19.1: Calculation_of_Penetration_depth.sce"
		   ]
		  },
  {
"cell_type": "code",
	   "execution_count": null,
	   "metadata": {
	    "collapsed": true
	   },
	   "outputs": [],
"source": [
"clc \n",
"// Given that\n",
"T_c = 7.2 // critical temperature in K\n",
"T = 5.1 // temperature in K\n",
"lambda_ = 380 // penetration depth at 0 K in A\n",
"// Sample Problem 1 on page no. 19.13\n",
"printf('\n # PROBLEM 1 # \n')\n",
"printf('Standard formula used \n ')\n",
"printf(' lambda = lambda_0 * (1 - (T / T_c)^4)^(-1/2) \n')\n",
"lambda = lambda_ * (1 - (T / T_c)^4)^(-1/2)\n",
"printf('\n Penetration depth is %f Angstrom.',lambda)"
   ]
   }
,
{
		   "cell_type": "markdown",
		   "metadata": {},
		   "source": [
			"## Example 19.2: Calculation_of_Transition_temperature_and_Critical_field_at_temperate.sce"
		   ]
		  },
  {
"cell_type": "code",
	   "execution_count": null,
	   "metadata": {
	    "collapsed": true
	   },
	   "outputs": [],
"source": [
"clc \n",
"// Given that\n",
"Hc1 = 1.41e5 // first critical field at 14.1K\n",
"Hc2 = 4.205e5 // second critical field at 12.9K \n",
"T1 = 14.11 // temperature in K\n",
"T2 = 12.9 // temperature in K \n",
"T = 4.2 // temperature in K\n",
"lambda_ = 380 // penetration depth at 0 K in A\n",
"// Sample Problem 2 on page no. 19.13\n",
"printf('\n # PROBLEM 2 # \n')\n",
"printf('Standard formula used \n ')\n",
"printf(' H = H_0 * (1 - (T / T_c)^2) \n')\n",
"Tc = sqrt((Hc2*T1^2 - Hc1*T2^2) / (Hc2 - Hc1))\n",
"H_ = Hc1 / (1 - (T1 / Tc)^2)\n",
"Hc = H_ * (1 - (T/Tc)^2)\n",
"printf('\n Transition temperature is %f K.\n Critical field at temperate at 4.2 k is %e A/m.',Tc,Hc)"
   ]
   }
,
{
		   "cell_type": "markdown",
		   "metadata": {},
		   "source": [
			"## Example 19.3: Calculation_of_Critical_current_density.sce"
		   ]
		  },
  {
"cell_type": "code",
	   "execution_count": null,
	   "metadata": {
	    "collapsed": true
	   },
	   "outputs": [],
"source": [
"clc \n",
"// Given that \n",
"d = 1e-3 // diameter of wire in m\n",
"T1 = 4.2 // temperature in K\n",
"T2 = 7.18 // temperature in K\n",
"H_ = 6.51e4 // critical magnetic field at 0 K\n",
"// Sample Problem 3 on page no. 19.14\n",
"printf('\n # PROBLEM 3 # \n')\n",
"printf('Standard formula used \n ')\n",
"printf(' H = H_0 * (1 - (T / T_c)^2) \n I = 2*pi*r*H \n')\n",
"r = d / 2\n",
"Hc = H_ * (1 - (T1 / T2)^2)\n",
"Jc = (2 * %pi * r * Hc) / (%pi * r^2)\n",
"printf('\n Critical current density is %e A/m^2',Jc)"
   ]
   }
,
{
		   "cell_type": "markdown",
		   "metadata": {},
		   "source": [
			"## Example 19.4: Calculation_of_Critical_temperature.sce"
		   ]
		  },
  {
"cell_type": "code",
	   "execution_count": null,
	   "metadata": {
	    "collapsed": true
	   },
	   "outputs": [],
"source": [
"clc \n",
"// Given that\n",
"w = 199.5 // isotopic mass of Hg\n",
"Tc = 4.186 // critical temperature in K \n",
"w_ = 203.4 // increased isotope mass of Hg\n",
"// Sample Problem 4 on page no. 19.15\n",
"printf('\n # PROBLEM 4 # \n')\n",
"printf('Standard formula used \n ')\n",
"printf(' T_c*M^(1/2) = constant \n')\n",
"Tc_ = Tc * (w / w_)^(1/2)\n",
"printf('\n Critical temperature is %f K.',Tc_)"
   ]
   }
,
{
		   "cell_type": "markdown",
		   "metadata": {},
		   "source": [
			"## Example 19.5: Calculation_of_Penetration_depth.sce"
		   ]
		  },
  {
"cell_type": "code",
	   "execution_count": null,
	   "metadata": {
	    "collapsed": true
	   },
	   "outputs": [],
"source": [
"clc \n",
"// Given that\n",
"T_c = 4.2 // critical temperature in K\n",
"T = 2.9 // temperature in K\n",
"lambda = 57 // penetration depth at 2.9 K in nm\n",
"// Sample Problem 5 on page no. 19.15\n",
"printf('\n # PROBLEM 5 # \n')\n",
"printf('Standard formula used \n ')\n",
"printf(' lambda_0 = lambda * (1 - (T / T_c)^4)^(1/2) \n')\n",
"lambda_ = lambda * (1 - (T / T_c)^4)^(1/2)\n",
"printf('\n Penetration depth at 0 K is %f nm.',lambda_)"
   ]
   }
,
{
		   "cell_type": "markdown",
		   "metadata": {},
		   "source": [
			"## Example 19.6: Calculation_of_Critical_temperature.sce"
		   ]
		  },
  {
"cell_type": "code",
	   "execution_count": null,
	   "metadata": {
	    "collapsed": true
	   },
	   "outputs": [],
"source": [
"clc \n",
"// Given that\n",
"T1 = 2.18 // temperature in first case in K\n",
"lambda1 = 16 // penetration depth at 2.18 K in nm\n",
"T2 = 8.1 // temperature in second case in K\n",
"lambda2 = 96 // penetration depth at 8.1 K in nm\n",
"// Sample Problem 6 on page no. 19.15\n",
"printf('\n # PROBLEM 6 # \n')\n",
"printf('Standard formula used \n ')\n",
"printf(' lambda = lambda_0 * (1 - (T / T_c)^4)^(-1/2) \n')\n",
"Tc = (((lambda2^2 * T2^4) - (T1^4 * lambda1^2)) / (lambda2^2 - lambda1^2))^(1/4)\n",
"printf('\n Critical temperature is %f K.',Tc)"
   ]
   }
,
{
		   "cell_type": "markdown",
		   "metadata": {},
		   "source": [
			"## Example 19.7: Calculation_of_Critical_temperature.sce"
		   ]
		  },
  {
"cell_type": "code",
	   "execution_count": null,
	   "metadata": {
	    "collapsed": true
	   },
	   "outputs": [],
"source": [
"clc \n",
"// Given that\n",
"w = 26.91 // isotopic mass of superconducting sample\n",
"Tc = 1.19 // first critical temperature in K \n",
"w_ = 32.13 // increased isotope mass of superconducting sample\n",
"// Sample Problem 7 on page no. 19.16\n",
"printf('\n # PROBLEM 7 # \n')\n",
"printf('Standard formula used \n ')\n",
"printf(' T_c*M^(1/2) = constant \n')\n",
"Tc_ = Tc * (w / w_)^(1/2)\n",
"printf('\n Critical temperature is %f K.',Tc_)"
   ]
   }
,
{
		   "cell_type": "markdown",
		   "metadata": {},
		   "source": [
			"## Example 19.8: Calculation_of_Energy_gap.sce"
		   ]
		  },
  {
"cell_type": "code",
	   "execution_count": null,
	   "metadata": {
	    "collapsed": true
	   },
	   "outputs": [],
"source": [
"clc \n",
"// Given that\n",
"k = 1.38e-23 // Boltzmann's constant in J/K\n",
"h = 6.62e-34 // Planck constant in J sec\n",
"Tc = 4.2 // critical temperature of Hg in K\n",
"c = 3e8 // speed of light in m/sec \n",
"// Sample Problem 8 on page no. 19.16\n",
"printf('\n # PROBLEM 8 # \n')\n",
"printf('Standard formula used \n ')\n",
"printf(' E = 3 * k * Tc \n')\n",
"E = 3 * k * Tc\n",
"lambda = h * c / E\n",
"printf('\n Energy gap is %e eV.\n Wavelength of photon is %e m.\n From the value of above lambda it is clear that these photons are in the very short wavelength part of the microwave region.',E/1.6e-19,lambda)"
   ]
   }
],
"metadata": {
		  "kernelspec": {
		   "display_name": "Scilab",
		   "language": "scilab",
		   "name": "scilab"
		  },
		  "language_info": {
		   "file_extension": ".sce",
		   "help_links": [
			{
			 "text": "MetaKernel Magics",
			 "url": "https://github.com/calysto/metakernel/blob/master/metakernel/magics/README.md"
			}
		   ],
		   "mimetype": "text/x-octave",
		   "name": "scilab",
		   "version": "0.7.1"
		  }
		 },
		 "nbformat": 4,
		 "nbformat_minor": 0
}
