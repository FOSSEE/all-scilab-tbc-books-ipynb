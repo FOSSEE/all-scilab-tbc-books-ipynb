{
"cells": [
 {
		   "cell_type": "markdown",
	   "metadata": {},
	   "source": [
       "# Chapter 12: Power Electronic Devices"
	   ]
	},
{
		   "cell_type": "markdown",
		   "metadata": {},
		   "source": [
			"## Example 12.10: example_10.sce"
		   ]
		  },
  {
"cell_type": "code",
	   "execution_count": null,
	   "metadata": {
	    "collapsed": true
	   },
	   "outputs": [],
"source": [
"//pagenumber 557 example 10\n",
"clear\n",
"re=1*10^3;//ohm\n",
"i1=5*10^-3;//ampere\n",
"\n",
"voltag=re*i1+2;\n",
"disp('voltage   =   '+string((voltag))+'volt');\n",
"\n",
"\n",
"disp('this voltage makes to off');\n",
""
   ]
   }
,
{
		   "cell_type": "markdown",
		   "metadata": {},
		   "source": [
			"## Example 12.1: example_1.sce"
		   ]
		  },
  {
"cell_type": "code",
	   "execution_count": null,
	   "metadata": {
	    "collapsed": true
	   },
	   "outputs": [],
"source": [
"//pagenumber 553 example 1\n",
"clear\n",
"slope1=130;\n",
"trivol=15;//volt\n",
"d=0.5;//watts\n",
"ig=sqrt(d/slope1);\n",
"vg=slope1*ig;\n",
"r=(trivol-vg)/ig;\n",
"\n",
"disp('source resistance   =   '+string((r))+'ohm');\n",
""
   ]
   }
,
{
		   "cell_type": "markdown",
		   "metadata": {},
		   "source": [
			"## Example 12.2: example_2.sce"
		   ]
		  },
  {
"cell_type": "code",
	   "execution_count": null,
	   "metadata": {
	    "collapsed": true
	   },
	   "outputs": [],
"source": [
"//pagenumber 553 example 2\n",
"clear\n",
"latcur=50*10^-3;//ampere\n",
"durpul=50*10^-6;//second\n",
"induct=0.5;//henry\n",
"r=20;//ohm\n",
"voltag=100;//volt\n",
"w=induct/r;\n",
"inpcur=-(voltag/r)*((1)-exp(-durpul/w));\n",
"disp('current   =   '+string(abs(inpcur))+'ampere');\n",
"disp('input current less than required current');"
   ]
   }
,
{
		   "cell_type": "markdown",
		   "metadata": {},
		   "source": [
			"## Example 12.3: example_3.sce"
		   ]
		  },
  {
"cell_type": "code",
	   "execution_count": null,
	   "metadata": {
	    "collapsed": true
	   },
	   "outputs": [],
"source": [
"//pagenumber 554 example 3\n",
"clear\n",
"latcur=4*10^-3;//ampere\n",
"induct=0.1;//henry\n",
"voltag=100;//volt\n",
"durmin=induct*latcur/voltag;\n",
"disp('min duration   =   '+string((durmin))+'second');\n",
"\n",
"\n",
"\n",
""
   ]
   }
,
{
		   "cell_type": "markdown",
		   "metadata": {},
		   "source": [
			"## Example 12.4: example_4.sce"
		   ]
		  },
  {
"cell_type": "code",
	   "execution_count": null,
	   "metadata": {
	    "collapsed": true
	   },
	   "outputs": [],
"source": [
"//pagenumber 554 example 4\n",
"clear\n",
"slope1=3*10^3;\n",
"egs=10;//volt\n",
"d=0.012;//watts\n",
"ig=sqrt(d/slope1);\n",
"vg=slope1*ig;\n",
"r=(egs-vg)/ig;\n",
"\n",
"disp('source resistance   =   '+string((r))+'ohm');//it is not given in the book\n",
""
   ]
   }
,
{
		   "cell_type": "markdown",
		   "metadata": {},
		   "source": [
			"## Example 12.5: example_5.sce"
		   ]
		  },
  {
"cell_type": "code",
	   "execution_count": null,
	   "metadata": {
	    "collapsed": true
	   },
	   "outputs": [],
"source": [
"//pagenumber 554 example 5\n",
"clear\n",
"slope1=16;\n",
"durmax=4*10^-6;//second\n",
"curmin=500*10^-3;//ampere\n",
"voltag=15;//volt\n",
"//(1) resistance\n",
"vg=slope1*curmin\n",
"r=(voltag-vg)/curmin;\n",
"//(2)\n",
"d=vg*curmin;\n",
"freque=0.3/(d*durmax);\n",
"disp('resistance   =   '+string((r))+'ohm');\n",
"\n",
"\n",
"disp('frequency   =   '+string((freque))+'hertz');\n",
"\n",
"\n",
"\n",
""
   ]
   }
,
{
		   "cell_type": "markdown",
		   "metadata": {},
		   "source": [
			"## Example 12.6: example_6.sce"
		   ]
		  },
  {
"cell_type": "code",
	   "execution_count": null,
	   "metadata": {
	    "collapsed": true
	   },
	   "outputs": [],
"source": [
"//pagenumber 555 example 6\n",
"clear\n",
"c1=20*10^-12;//farad\n",
"limcur=16*10^-3;//ampere\n",
"w=(limcur/c1)*10^-6;//convert second to microsecond\n",
"disp('change of voltage   =   '+string((w))+'volt per microsecond');"
   ]
   }
,
{
		   "cell_type": "markdown",
		   "metadata": {},
		   "source": [
			"## Example 12.7: example_7.sce"
		   ]
		  },
  {
"cell_type": "code",
	   "execution_count": null,
	   "metadata": {
	    "collapsed": true
	   },
	   "outputs": [],
"source": [
"//pagenumber 555 example 7\n",
"clear\n",
"ratcur=3000;//ampere\n",
"freque=50;//hertz\n",
"i=sqrt(ratcur^2/2);\n",
"disp('current   =   '+string((i))+'ampere');\n",
"i=((ratcur)/sqrt(2))^2/(2*freque);\n",
"disp('current   =   '+string((i))+'ampere square second');\n",
"\n",
"\n",
""
   ]
   }
,
{
		   "cell_type": "markdown",
		   "metadata": {},
		   "source": [
			"## Example 12.9: example_9.sce"
		   ]
		  },
  {
"cell_type": "code",
	   "execution_count": null,
	   "metadata": {
	    "collapsed": true
	   },
	   "outputs": [],
"source": [
"//pagenumber 556 example 9\n",
"clear\n",
"voltag=30;//volt\n",
"w=0.51;\n",
"i1=10*10^-6;//ampere\n",
"v1=3.5;//volt\n",
"curen1=10*10^-3;//ampere\n",
"freque=60;//hertz\n",
"tridun=50*10^-6;//second\n",
"pinvol=w*voltag+0.6;\n",
"r=(voltag-pinvol)/i1;\n",
"disp('max limit resistance   =   '+string((r))+'ohm');\n",
"r=(voltag-v1)/(curen1);\n",
"disp('min limit resistance   =   '+string((r))+'ohm');\n",
"capac1=0.5*10^-6;//farad\n",
"r=(1/freque)*(1/(capac1*log(1/(1-w))));\n",
"disp('resistance   =   '+string((r))+'ohm');\n",
"rb2=10^4/(w*voltag);\n",
"rb1=tridun/capac1;\n",
"disp('rb1   =   '+string((rb1))+'ohm');\n",
"disp('rb2   =   '+string((rb2))+'ohm');\n",
"disp('peak voltage   =   '+string((pinvol))+'volt');\n",
""
   ]
   }
],
"metadata": {
		  "kernelspec": {
		   "display_name": "Scilab",
		   "language": "scilab",
		   "name": "scilab"
		  },
		  "language_info": {
		   "file_extension": ".sce",
		   "help_links": [
			{
			 "text": "MetaKernel Magics",
			 "url": "https://github.com/calysto/metakernel/blob/master/metakernel/magics/README.md"
			}
		   ],
		   "mimetype": "text/x-octave",
		   "name": "scilab",
		   "version": "0.7.1"
		  }
		 },
		 "nbformat": 4,
		 "nbformat_minor": 0
}
