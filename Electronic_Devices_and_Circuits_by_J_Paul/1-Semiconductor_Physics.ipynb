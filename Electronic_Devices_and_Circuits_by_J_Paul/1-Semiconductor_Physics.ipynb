{
"cells": [
 {
		   "cell_type": "markdown",
	   "metadata": {},
	   "source": [
       "# Chapter 1: Semiconductor Physics"
	   ]
	},
{
		   "cell_type": "markdown",
		   "metadata": {},
		   "source": [
			"## Example 1.10: example_10.sce"
		   ]
		  },
  {
"cell_type": "code",
	   "execution_count": null,
	   "metadata": {
	    "collapsed": true
	   },
	   "outputs": [],
"source": [
"//pagenumber 32 example 10\n",
"clear\n",
"resist=0.12;//ohm metre\n",
"q=1.6*10^-19;\n",
"concn1=((1/resist)/(0.048*q));//concentration of hole\n",
"concne=((1.5*10^16)^(2))/concn1;//concentration of electron\n",
"disp('concentration of hole   =   '+string((concn1))+'per cubic centimetre');\n",
"disp('concentration of electron   =   '+string((concne))+'per cubic centimetre');\n",
"\n",
"\n",
""
   ]
   }
,
{
		   "cell_type": "markdown",
		   "metadata": {},
		   "source": [
			"## Example 1.11: example_11.sce"
		   ]
		  },
  {
"cell_type": "code",
	   "execution_count": null,
	   "metadata": {
	    "collapsed": true
	   },
	   "outputs": [],
"source": [
"//pagenumber 32 example 11\n",
"clear\n",
"resist=1*10^3;//ohm\n",
"w=20*10^-6;//wide metre\n",
"w1=400*10^-6;//long metre\n",
"mo1=500;//square centimetre/velocity second\n",
"q=1.6*10^-19;\n",
"conduc=(resist*w*4*10^-6)/w1;\n",
"concentration=((1)/(conduc*mo1*q));\n",
"disp('concentration of acceptor atoms   =   '+string((concentration))+'per cubic metre');//correction in the book\n",
""
   ]
   }
,
{
		   "cell_type": "markdown",
		   "metadata": {},
		   "source": [
			"## Example 1.12: example_12.sce"
		   ]
		  },
  {
"cell_type": "code",
	   "execution_count": null,
	   "metadata": {
	    "collapsed": true
	   },
	   "outputs": [],
"source": [
"//pagenumber 32 example 12\n",
"clear\n",
"w=0.026;\n",
"moe=3800;//square centimetre/velocitysecond\n",
"mo1=1300;//square centimetre/velocitysecond\n",
"u=(moe*w);\n",
"u1=(mo1*w);\n",
"disp('dn constants   =   '+string((u))+'square metre per second');//correction in the book\n",
"disp('dp constants   =   '+string((u1))+'square metre per second');//correction in the book\n",
"\n",
""
   ]
   }
,
{
		   "cell_type": "markdown",
		   "metadata": {},
		   "source": [
			"## Example 1.13: example_13.sce"
		   ]
		  },
  {
"cell_type": "code",
	   "execution_count": null,
	   "metadata": {
	    "collapsed": true
	   },
	   "outputs": [],
"source": [
"//pagenumber 33 example 13\n",
"clear\n",
"w=0.026*(3/2)*log(3)/2;\n",
"disp('distance of fermi level from center   =   '+string((w))+'   electron volt');\n",
"\n",
""
   ]
   }
,
{
		   "cell_type": "markdown",
		   "metadata": {},
		   "source": [
			"## Example 1.14: example_14.sce"
		   ]
		  },
  {
"cell_type": "code",
	   "execution_count": null,
	   "metadata": {
	    "collapsed": true
	   },
	   "outputs": [],
"source": [
"//pagenumber 33 example 14\n",
"clear\n",
"up=1800;//centimetre square per velocity second\n",
"un=3800;//centimetre square per velocity second\n",
"\n",
"//(1) resistivity is 45 ohm\n",
"q=1.6*10^-19;//coulomb\n",
"ni=2.5*10^13;\n",
"sigma1=(un+up)*q*ni;\n",
"resist=1/sigma1;\n",
"disp('resistivity   =   '+string((resist))+'   ohm centimetre');\n",
"disp('resistivity equal to 45');\n",
"//(2) impurity added to extent of 1 atom per 10^9\n",
"n=4.4*10^22/10^9;\n",
"\n",
"p1=ni^2/n;\n",
"sigma1=(n*un+p1*up)*q;\n",
"resist=1/sigma1;\n",
"\n",
"disp('resistivity   =   '+string((resist))+'   ohm centimetre');\n",
"disp('resistivity equal to 32.4');\n",
"\n",
""
   ]
   }
,
{
		   "cell_type": "markdown",
		   "metadata": {},
		   "source": [
			"## Example 1.15: example_15.sce"
		   ]
		  },
  {
"cell_type": "code",
	   "execution_count": null,
	   "metadata": {
	    "collapsed": true
	   },
	   "outputs": [],
"source": [
"//pagenumber 34 example 15\n",
"clear\n",
"nd=4*10^14;//atoms per cubic centimetre\n",
"na=5*10^14;//atoms per cubic centimetre\n",
"//(1) concentration\n",
"ni=2.5*10^13;\n",
"np=ni^2;\n",
"//p1=n+10^14\n",
"z=1;\n",
"z1=10^14;\n",
"u=-ni^2;\n",
"n=poly([z z1 u],'q');\n",
"roots(n);//n taken as \n",
"n=1.05*10^4;\n",
"disp('concentration of the a free electrons   =   '+string((n)));\n",
"p1=n+10^14;\n",
"disp('concentration of the a free holes   =   '+string((p1)));\n",
"//(2)\n",
"disp('sample p');\n",
"a=ni^2/(300^3*exp(-(0.785/0.026)));\n",
"w=400;//kelvin\n",
"ni=sqrt(a*w^3*exp(-0.786/(8.62*10^-5*w)));\n",
"ni=((n)*(n+10^14))/10^3;\n",
"n=ni-0.05*10^15;\n",
"disp('n   =   '+string((n))+'electrons per cubic centimetre');\n",
"p1=n+10^14;\n",
"disp('p   =   '+string((p1))+'holes per cubic centimetre');\n",
"\n",
"\n",
"disp('essentially intrinsic');\n",
"\n",
""
   ]
   }
,
{
		   "cell_type": "markdown",
		   "metadata": {},
		   "source": [
			"## Example 1.16: example_16.sce"
		   ]
		  },
  {
"cell_type": "code",
	   "execution_count": null,
	   "metadata": {
	    "collapsed": true
	   },
	   "outputs": [],
"source": [
"//pagenumber 35 example 16\n",
"clear\n",
"w=300;//kelvin\n",
"conduc=300;//ohm centimetre inverse\n",
"u=1800;\n",
"p=conduc/(u*1.6*10^-19);//concentration holes\n",
"n=(2.5*10^13)^2/(p);\n",
"disp('concentration of n   =   '+string((n))+'electrons per cubic centimetre');\n",
"\n",
"disp('concentration of holes   =   '+string((p))+'holes per cubic centimetre');\n",
""
   ]
   }
,
{
		   "cell_type": "markdown",
		   "metadata": {},
		   "source": [
			"## Example 1.17: example_17.sce"
		   ]
		  },
  {
"cell_type": "code",
	   "execution_count": null,
	   "metadata": {
	    "collapsed": true
	   },
	   "outputs": [],
"source": [
"//pagenumber 35 example 17\n",
"clear\n",
"nd=10^14;//atoms per cubic centimetre\n",
"na=5*10^13;//atoms per cubic centimetre\n",
"un=3800;\n",
"up=1800;\n",
"q=1.6*10^-19;//coulomb\n",
"resist=80;//ohm metre\n",
"e1=5;//volt per metre\n",
"w=nd-na;\n",
"ni=(un+up)*q*resist;\n",
"p1=poly([1 w -ni^2],'q');\n",
"roots(p1);//p1=taken as 3.65*19^12\n",
"p1=3.65*10^12;\n",
"n=p1+w;\n",
"j=(n*un+p1*up)*q*e1;\n",
"disp('current density   =   '+string((j))+'ampere per square centimetre');\n",
"\n",
""
   ]
   }
,
{
		   "cell_type": "markdown",
		   "metadata": {},
		   "source": [
			"## Example 1.18: example_18.sce"
		   ]
		  },
  {
"cell_type": "code",
	   "execution_count": null,
	   "metadata": {
	    "collapsed": true
	   },
	   "outputs": [],
"source": [
"//pagenumber 36 example 18\n",
"clear\n",
"na=1*10^16;//per cubic centimetre            correction in the book\n",
"ni=1.48*10^10;//per cubic centimetre\n",
"un=0.13*10^4;//centimetre square per velocity second\n",
"u=0.05*10^4;//centimetre square per velocity second\n",
"n=ni^2/na;\n",
"q=1/(1.6*10^-19*(un*n+(u*na)));\n",
"disp('resistivity   =   '+string((q))+'ohm centimetre');\n",
"\n",
""
   ]
   }
,
{
		   "cell_type": "markdown",
		   "metadata": {},
		   "source": [
			"## Example 1.19: example_19.sce"
		   ]
		  },
  {
"cell_type": "code",
	   "execution_count": null,
	   "metadata": {
	    "collapsed": true
	   },
	   "outputs": [],
"source": [
"//pagenumber 37 example 19\n",
"clear\n",
"e1=750;//volt per metre\n",
"b=0.05;//metre square per velocity second\n",
"un=0.05;//metre square per velocity second\n",
"up=0.14;//metre square per velocity second\n",
"//(1) voltage\n",
"w=1.25*10^-2;//metre\n",
"v1=e1*w;\n",
"disp('voltage across sample   =   '+string((v1))+'volt');\n",
"//(2) drift velocity\n",
"vd=un*e1;\n",
"disp('drift velocity   =   '+string((vd))+'metre per second');\n",
"//transverse force per  coulomb\n",
"f1=vd*b;\n",
"disp('transverse force per  coulomb   =   '+string((f1))+'newton per coulomb');\n",
"//(4) transverse electric field\n",
"e1=vd*b;\n",
"disp('transverse electric field   =   '+string((e1))+'volt per metre');\n",
"//(5) hall voltage\n",
"q=0.9*10^-2;\n",
"vh=e1*q;\n",
"\n",
"disp('hall voltage   =   '+string((vh))+'volt');\n",
"\n",
"\n",
"\n",
"\n",
""
   ]
   }
,
{
		   "cell_type": "markdown",
		   "metadata": {},
		   "source": [
			"## Example 1.1: Minority_carrier_concentration.sce"
		   ]
		  },
  {
"cell_type": "code",
	   "execution_count": null,
	   "metadata": {
	    "collapsed": true
	   },
	   "outputs": [],
"source": [
"//pagenumber 24 example 1\n",
"clear\n",
"incaco=1.5*10^16;//cubic metre\n",
"resist=2*10^3;//ohm metre\n",
"dopcon=10^20;//metre\n",
"q=26*10^-3;//electron volt\n",
"//(1)\n",
"w=2.25*10^32/dopcon;\n",
"//(3)\n",
"shifer=q*log(dopcon/incaco);//shift in fermi level\n",
"ni=9*10^32;\n",
"//(3)\n",
"w1=ni/dopcon;\n",
"disp('minority concentration   =   '+string((w))+'per metre square');\n",
"disp('shift in fermi   =   '+string((shifer))+'volt');\n",
"disp('minority concentration when n doubled   =   '+string((w1))+'per cubic metre');\n",
"\n",
"\n",
""
   ]
   }
,
{
		   "cell_type": "markdown",
		   "metadata": {},
		   "source": [
			"## Example 1.20: example_20.sce"
		   ]
		  },
  {
"cell_type": "code",
	   "execution_count": null,
	   "metadata": {
	    "collapsed": true
	   },
	   "outputs": [],
"source": [
"//pagenumber 37 example 20\n",
"clear\n",
"un=1300;//centimetre square per velocity second\n",
"//at 300kelvin\n",
"ni=1.5*10^10;\n",
"u=500;//centimetre square per velocity second\n",
"conduc=1.6*10^-19*1.5*10^10*(un+u);\n",
"q=1/conduc;\n",
"//impurity of 1 atom included per 10^5 atoms\n",
"disp('resistivity at 300kelvin   =   '+string((q))+'ohm centimetre');\n",
"n=5*10^22/10^5;\n",
"p=ni^2/n;\n",
"q=1/(1.6*10^-19*(un*n+(u*p)));\n",
"\n",
"\n",
"disp('resistivity at impurity of 1 atom included per 10^5 atoms   =   '+string((q))+'ohm centimetre');\n",
"\n",
"\n",
"\n",
""
   ]
   }
,
{
		   "cell_type": "markdown",
		   "metadata": {},
		   "source": [
			"## Example 1.21: example_21.sce"
		   ]
		  },
  {
"cell_type": "code",
	   "execution_count": null,
	   "metadata": {
	    "collapsed": true
	   },
	   "outputs": [],
"source": [
"//pagenumber 38 example 21\n",
"clear\n",
"n=4.4*10^22;\n",
"nd=n/10^7;\n",
"w=300;//kelvin\n",
"nc=4.82*10^15*w^(3/2)/1/sqrt(8);\n",
"ec_ef1=-0.026*log((nc/(nd)));\n",
"disp('ec-ef   =   '+string((ec_ef1)));\n",
"//(2) impurities included inratio 1 to 10^3\n",
"n=4.4*10^22;\n",
"nd=n/(10^3);\n",
"ec_ef1=-0.026*log(nc/nd);\n",
"disp('ec-ef   =   '+string((ec_ef1))+'electron volt   ef above ec');\n",
"q=log10(nd/nc)/log10(10);\n",
"disp('impurities included per germanium atoms   =   0.0002');"
   ]
   }
,
{
		   "cell_type": "markdown",
		   "metadata": {},
		   "source": [
			"## Example 1.22: example_22.sce"
		   ]
		  },
  {
"cell_type": "code",
	   "execution_count": null,
	   "metadata": {
	    "collapsed": true
	   },
	   "outputs": [],
"source": [
"//pagenumber 39 example 22\n",
"clear\n",
"n=5*10^22;//atoms per cubic centimetre\n",
"//(1) 1 atom per 10^6\n",
"m=0.8;//metre\n",
"na=n/10^6;\n",
"w=300;//kelvin\n",
"nv=4.82*10^15*(m)^(3/2)*w^(3/2);\n",
"ef_ec=0.026*log(nv/na);\n",
"disp('ef-ec   =   '+string((ef_ec))+'electron volt');\n",
"//(2) impurity included 10*10^3 per atom\n",
"na=n/(10*10^3);\n",
"ef_ec=0.026*log(nv/na);\n",
"disp('ef-ec   =   '+string((ef_ec))+'electron volt');\n",
"//(3) condition to concide ec=ef\n",
"na=4.81*10^15;\n",
"w=(nv/na)^(2/3);\n",
"disp('temperature   =   '+string((w))+'kelvin');//correction in the book\n",
""
   ]
   }
,
{
		   "cell_type": "markdown",
		   "metadata": {},
		   "source": [
			"## Example 1.23: example_23.sce"
		   ]
		  },
  {
"cell_type": "code",
	   "execution_count": null,
	   "metadata": {
	    "collapsed": true
	   },
	   "outputs": [],
"source": [
"//pagenumber 40 example 23 //figure is not given in the book\n",
"clear\n",
"nd=10^7;//per cubic centimetre\n",
"na=10^17;//per cubic centimetre\n",
"voltag=0.1*3800*10^-4*1500*3*10^-3;\n",
"disp('hall voltage   =   '+string((voltag))+'volt');\n",
"disp('remains the same but there change in polarity');\n",
"\n",
"\n",
"\n",
""
   ]
   }
,
{
		   "cell_type": "markdown",
		   "metadata": {},
		   "source": [
			"## Example 1.24: example_24.sce"
		   ]
		  },
  {
"cell_type": "code",
	   "execution_count": null,
	   "metadata": {
	    "collapsed": true
	   },
	   "outputs": [],
"source": [
"//pagenumber example 24\n",
"clear\n",
"vh=60*10^-3;//volt\n",
"w=6*10^-3;//metre\n",
"bz=0.1;//weber per metre square\n",
"i1=10*10^-6;//ampere\n",
"resist=300000*10^-2;//ohm metre\n",
"//(1)\n",
"//mobility\n",
"rh=vh*w/(bz*i1);\n",
"u1=rh/resist;\n",
"disp('mobilty   =   '+string((u1))+'metre square per velocity second');\n",
"\n",
"\n",
""
   ]
   }
,
{
		   "cell_type": "markdown",
		   "metadata": {},
		   "source": [
			"## Example 1.2: example_2.sce"
		   ]
		  },
  {
"cell_type": "code",
	   "execution_count": null,
	   "metadata": {
	    "collapsed": true
	   },
	   "outputs": [],
"source": [
"//pagenumber 25 example 2\n",
"clear\n",
"format(12)\n",
"numfre=7.87*10^28;//per cubic metre\n",
"molity=34.8;//square centimetre/velocity second\n",
"e=30;//volt per centimetre\n",
"//(1)\n",
"molity=molity*10^-4;q=1.6*10^-19;\n",
"conduc=numfre*q*molity;\n",
"//(2)\n",
"e=e*10^2;\n",
"veloci=(molity*e);\n",
"curden=conduc*e;\n",
"disp('conductivity   =   '+string((conduc))+'second per metre');\n",
"disp('drift velocity   =   '+string((veloci))+'metre per second');\n",
"disp('density   =   '+string((curden))+'ampere per cubic metre');\n",
"\n",
"\n",
""
   ]
   }
,
{
		   "cell_type": "markdown",
		   "metadata": {},
		   "source": [
			"## Example 1.3: example_3.sce"
		   ]
		  },
  {
"cell_type": "code",
	   "execution_count": null,
	   "metadata": {
	    "collapsed": true
	   },
	   "outputs": [],
"source": [
"//pagenumber 26 example 3\n",
"clear\n",
"ni=2.5*10^13;//per square centimetre\n",
"moe=3800//square centimetre/velocity second\n",
"mo1=1800;//square centimetre/velocity second\n",
"num=4.51*10^22;//number of atoms\n",
"q=1.6*10^-19;\n",
"conduc=ni*q*(moe+mo1);\n",
"num=num/10^7;\n",
"impura=(ni^2)/num;\n",
"ni=5*10^14;\n",
"condu1=ni*q*moe;\n",
"disp('conductivity   =   '+string((conduc))+'second per centimetre');\n",
"disp('conductivity at extent of 1 impurity   =   '+string((condu1))+'second per centimetre');//there is mistake in book as 3.04s/cm\n",
"conduc=num*q*mo1;\n",
"disp('conductivity  acceptor to extent of 1 impurity   =   '+string((conduc))+'second per centimetre');\n",
"\n",
"\n",
""
   ]
   }
,
{
		   "cell_type": "markdown",
		   "metadata": {},
		   "source": [
			"## Example 1.4: example_4.sce"
		   ]
		  },
  {
"cell_type": "code",
	   "execution_count": null,
	   "metadata": {
	    "collapsed": true
	   },
	   "outputs": [],
"source": [
"//pagenumber 27 example 4\n",
"clear\n",
"ni=1.5*10^10;//per cubic centimetre\n",
"moe=1300;//square centimetre/velocity second\n",
"mo1=500;//square centimetre/velocity second\n",
"w=5*10^22;//atoms per cubic centimetre\n",
"q=1.6*10^-19;\n",
"//(a) conductivity intrinisc at 300kelvin\n",
"conduc=ni*q*(moe+mo1);//conductivity\n",
"u=((ni)/(5*10^14));\n",
"ni=5*10^14;\n",
"//(b)conductivity when donor atom added to extent of 1 impurity\n",
"condu1=ni*q*moe;\n",
"disp('conductivity intrinisc at 300kelvin   =   '+string((conduc))+'second per centimetre');\n",
"disp('conductivity when donor atom added to extent of 1 impurity   =   '+string((condu1))+'second per centimetre');\n",
"//conductivity when acceptor added to extent of 1 impurity\n",
"conduc=ni*q*mo1;\n",
"disp('conductivity when acceptor added to extent of 1 impurity   =   '+string((conduc))+'second per centimetre');\n",
"\n",
""
   ]
   }
,
{
		   "cell_type": "markdown",
		   "metadata": {},
		   "source": [
			"## Example 1.5: example_5.sce"
		   ]
		  },
  {
"cell_type": "code",
	   "execution_count": null,
	   "metadata": {
	    "collapsed": true
	   },
	   "outputs": [],
"source": [
"//pagenumber 28 example 5\n",
"clear\n",
"ni=2.5*10^13;//per cubic centimetre\n",
"moe=3800;//square centimetre/velocity second\n",
"mo1=1800;//square centimetre/velocity second\n",
"w=4.5*10^22;//atoms per cubic centimetre\n",
"q=1.6*10^-19;\n",
"//(1) conductivity intrinisc at 300kelvin\n",
"conduc=ni*q*(moe+mo1);\n",
"u=10^6;\n",
"u=((w)/(u));\n",
"//(2) conductivity with donor impurity 1\n",
"condu1=u*q*moe;\n",
"disp('conductivity intrinisc at 300kelvin   =   '+string((conduc))+'second per centimetre');\n",
"disp('conductivity with donor impurity 1   =   '+string((condu1))+'second per centimetre');\n",
"u=10^7;u=w/u;\n",
"//(3) conductivity with acceptor impurity 1\n",
"conduc=u*q*mo1;\n",
"disp('conductivity with acceptor impurity 1   =   '+string((conduc))+'second per centimetre');\n",
"u=0.9*(w/10^6);\n",
"//(4) conductivity on both\n",
"conduc=u*q*moe;\n",
"disp('conductivity on both   =   '+string((conduc))+'second per centimetre');"
   ]
   }
,
{
		   "cell_type": "markdown",
		   "metadata": {},
		   "source": [
			"## Example 1.6: example_6.sce"
		   ]
		  },
  {
"cell_type": "code",
	   "execution_count": null,
	   "metadata": {
	    "collapsed": true
	   },
	   "outputs": [],
"source": [
"//pagenumber 29 example 6\n",
"clear\n",
"ferlev=0.3;//electron volt\n",
"u=300;//kelvin\n",
"u1=330;//kelvin\n",
"ferlev=ferlev*u1/u;\n",
"disp('fermi   =   '+string((ferlev))+'electron volt');\n",
"disp('fermi below the conduction band');\n",
"\n",
"\n",
""
   ]
   }
,
{
		   "cell_type": "markdown",
		   "metadata": {},
		   "source": [
			"## Example 1.7: example_7.sce"
		   ]
		  },
  {
"cell_type": "code",
	   "execution_count": null,
	   "metadata": {
	    "collapsed": true
	   },
	   "outputs": [],
"source": [
"//pagenumber 29 example 7\n",
"clear\n",
"ferlev=0.02;//electron volt\n",
"q=4;//donor impurity added\n",
"w=0.025;//electron volt\n",
"ferlev=-((log(q)-8))/40;\n",
"disp('fermi   =   '+string((ferlev))+'electron volt');\n",
"\n",
"\n",
"\n",
""
   ]
   }
,
{
		   "cell_type": "markdown",
		   "metadata": {},
		   "source": [
			"## Example 1.8: example_8.sce"
		   ]
		  },
  {
"cell_type": "code",
	   "execution_count": null,
	   "metadata": {
	    "collapsed": true
	   },
	   "outputs": [],
"source": [
"//pagenumber 30 example 8\n",
"clear\n",
"area=1.5*10^-2;//centimetre square\n",
"w=1.6;//centimetre\n",
"resist=20;//ohm centimetre\n",
"durati=60*10^-6;//second in book given as mili\n",
"quanti=8*10^15;//photons per second\n",
"\n",
"\n",
"//(1) resistance at each photon gives a electron hole pair\n",
"up=1800;//centimetre square per velocity second\n",
"un=3800;//centimetre square per velocity second\n",
"q=1.6*10^-19;//coulomb\n",
"ni=2.5*10^13;//per cubic centimetre\n",
"sigma1=1/resist;\n",
"z1=3800;\n",
"z=-sigma1/q;\n",
"u=ni^2/up;\n",
"n=poly([(z1) z u],'n');\n",
"roots(n);\n",
"n=7.847*10^13;//n>ni taken so it is admissible\n",
"p1=ni^2/n;\n",
"volume=w*area;\n",
"nchang=quanti*durati/volume;\n",
"pchang=nchang;\n",
"sigm11=q*((n+nchang)*un+(pchang+p1)*up);\n",
"resis1=1/sigm11;\n",
"r1=resis1*w/area;\n",
"disp('resistance   =   '+string((r1))+'ohm');//book only one resistance has been given\n",
"\n",
"\n",
""
   ]
   }
,
{
		   "cell_type": "markdown",
		   "metadata": {},
		   "source": [
			"## Example 1.9: example_9.sce"
		   ]
		  },
  {
"cell_type": "code",
	   "execution_count": null,
	   "metadata": {
	    "collapsed": true
	   },
	   "outputs": [],
"source": [
"//pagenumber 31 example 9\n",
"clear\n",
"moe=1350;//square centimetre/velocity second\n",
"mo1=450;//square centimetre/velocity second\n",
"ni=1.5*10^10;//per cubic centimetre\n",
"concn1=ni*((sqrt(mo1/moe)));//concentration\n",
"concne=((ni^2)/(concn1));\n",
"\n",
"\n",
"disp('concentration of electron   =   '+string((concn1))+'per cubic centimetre');\n",
"disp('concentration of holes   =   '+string((concne))+'per cubic centimetre');"
   ]
   }
],
"metadata": {
		  "kernelspec": {
		   "display_name": "Scilab",
		   "language": "scilab",
		   "name": "scilab"
		  },
		  "language_info": {
		   "file_extension": ".sce",
		   "help_links": [
			{
			 "text": "MetaKernel Magics",
			 "url": "https://github.com/calysto/metakernel/blob/master/metakernel/magics/README.md"
			}
		   ],
		   "mimetype": "text/x-octave",
		   "name": "scilab",
		   "version": "0.7.1"
		  }
		 },
		 "nbformat": 4,
		 "nbformat_minor": 0
}
