{
"cells": [
 {
		   "cell_type": "markdown",
	   "metadata": {},
	   "source": [
       "# Chapter 7: Field Effect Transistor"
	   ]
	},
{
		   "cell_type": "markdown",
		   "metadata": {},
		   "source": [
			"## Example 7.1: example_1.sce"
		   ]
		  },
  {
"cell_type": "code",
	   "execution_count": null,
	   "metadata": {
	    "collapsed": true
	   },
	   "outputs": [],
"source": [
"//pagenumber 370 example 1\n",
"clear\n",
"rd=12*10^3;//ohm\n",
"r=1*10^6;//ohm\n",
"resour=470;//ohm\n",
"vdd=30;//volt\n",
"idss=3*10^-3;//ampere\n",
"vd=2.4;//volt\n",
"\n",
"vgs=[0.24 2.175 1.41];\n",
"vgs=roots(vgs);\n",
"vgs=0.7;\n",
"id=idss*((1-(vgs/vd)))^2;\n",
"vds=vdd-id*(rd+resour);\n",
"g=(2*idss/vd)*(1-((vgs/vd)));\n",
"volgai=-g*rd;\n",
"disp('vgs   =   '+string((vgs))+'volt');\n",
"disp('id   =   '+string((id))+'ampere');\n",
"disp('vds   =   '+string((vds))+'volt');\n",
"disp('voltage gain   =   '+string((volgai)));"
   ]
   }
,
{
		   "cell_type": "markdown",
		   "metadata": {},
		   "source": [
			"## Example 7.2: example_2.sce"
		   ]
		  },
  {
"cell_type": "code",
	   "execution_count": null,
	   "metadata": {
	    "collapsed": true
	   },
	   "outputs": [],
"source": [
"//pagenumber 371 example 2\n",
"clear\n",
"idss=1*10^-3;//ampere\n",
"pinvol=1;//volt\n",
"q=10;//volt\n",
"rd=56*10^3;//ohm\n",
"vdd=24;//volt\n",
"dracur=(vdd-q)/rd;\n",
"vgs=0.5;\n",
"r1=vgs/dracur;\n",
"disp('r1   =   '+string((r1))+'ohm');"
   ]
   }
,
{
		   "cell_type": "markdown",
		   "metadata": {},
		   "source": [
			"## Example 7.4: example_4.sce"
		   ]
		  },
  {
"cell_type": "code",
	   "execution_count": null,
	   "metadata": {
	    "collapsed": true
	   },
	   "outputs": [],
"source": [
"//pagenumber 372 example 4\n",
"clear\n",
"ids=4*10^-3;//ampere\n",
"vp=4;//volt\n",
"r=1.3*10^3//ohm\n",
"r1=200*10^3;//ohm\n",
"vdd=60;//volt\n",
"drares=18*10^3;//ohm\n",
"soresi=4*10^3;//ohm\n",
"rth=(r*r1)/(r+r1);\n",
"vth=r1*(1-vdd)/(1500*10^3);\n",
"id=-2.25*10^-3;\n",
"vds=-vdd-(drares+soresi)*id;\n",
"disp('id   =   '+string(abs(id))+'ampere');\n",
"disp('vds   =   '+string(abs(vds))+'volt');"
   ]
   }
,
{
		   "cell_type": "markdown",
		   "metadata": {},
		   "source": [
			"## Example 7.5: example_5.sce"
		   ]
		  },
  {
"cell_type": "code",
	   "execution_count": null,
	   "metadata": {
	    "collapsed": true
	   },
	   "outputs": [],
"source": [
"//pagenumber 373 example 5\n",
"clear\n",
"idss=10*10^-3;//ampere\n",
"pinvol=-1;//volt\n",
"ids=6.4*10^-3;//ampere\n",
"vgs=-(sqrt(ids/idss)-(1))*pinvol;\n",
"r=pinvol/ids;\n",
"\n",
"\n",
"disp('source resistance   =   '+string(abs(r))+'ohm');\n",
""
   ]
   }
,
{
		   "cell_type": "markdown",
		   "metadata": {},
		   "source": [
			"## Example 7.6: 6.sce"
		   ]
		  },
  {
"cell_type": "code",
	   "execution_count": null,
	   "metadata": {
	    "collapsed": true
	   },
	   "outputs": [],
"source": [
"//pagenumber 374 example 6\n",
"clear\n",
"v1=2;//volt\n",
"vgs=4;//volt\n",
"voltag=5;//volt\n",
"q=5*10^-3;//ampere per volt square\n",
"id=q*(vgs-v1);\n",
"durati=10^-7*log(4);\n",
"\n",
"disp('duration   =   '+string((durati))+'second');\n",
""
   ]
   }
,
{
		   "cell_type": "markdown",
		   "metadata": {},
		   "source": [
			"## Example 7.7: example_7.sce"
		   ]
		  },
  {
"cell_type": "code",
	   "execution_count": null,
	   "metadata": {
	    "collapsed": true
	   },
	   "outputs": [],
"source": [
"//pagenumber 7 example 7\n",
"clear\n",
"idss=1*10^-3;//ampere\n",
"pinvol=-5;//volt\n",
"tracon=(2*idss)/abs(pinvol);\n",
"disp('max transconductance   =   '+string((tracon))+'mho');"
   ]
   }
,
{
		   "cell_type": "markdown",
		   "metadata": {},
		   "source": [
			"## Example 7.8: example_8.sce"
		   ]
		  },
  {
"cell_type": "code",
	   "execution_count": null,
	   "metadata": {
	    "collapsed": true
	   },
	   "outputs": [],
"source": [
"//pagenumber 376 example 8\n",
"clear\n",
"vdd=10;//volt\n",
"beta1=10^-4;//ampere per square volt\n",
"ids=0.5*10^-3;//ampere\n",
"voltag=1;//volt\n",
"vgs=(sqrt(ids/beta1)+(1));\n",
"rd=(vdd-vgs)/ids;\n",
"\n",
"disp('vgs   =   '+string((vgs))+'volt');\n",
"disp('rd   =   '+string((rd))+'ohm');"
   ]
   }
,
{
		   "cell_type": "markdown",
		   "metadata": {},
		   "source": [
			"## Example 7.9: example_9.sce"
		   ]
		  },
  {
"cell_type": "code",
	   "execution_count": null,
	   "metadata": {
	    "collapsed": true
	   },
	   "outputs": [],
"source": [
"//pagenumber 376 example 9\n",
"clear\n",
"v1=2;//volt\n",
"ids=4*10^-3;//ampere\n",
"\n",
"rd=910;//ohm\n",
"r1=3*10^3;//ohm\n",
"r=12*01^6;//ohm\n",
"r11=8.57*10^6;//ohm\n",
"vdd=24;//volt\n",
"vg=vdd*(r11/(r+(r11)));\n",
"id=3.39*10^-3;\n",
"vgsq=vg-id*r1;\n",
"vdsq=vdd-id*(rd+r1);\n",
"vdgq=vdsq-vgsq;\n",
"disp('point '+string(vdsq)+'>'+string(v1)+'volt');\n",
"disp('vds greater than 2volt the point in pinch');\n",
"\n",
""
   ]
   }
],
"metadata": {
		  "kernelspec": {
		   "display_name": "Scilab",
		   "language": "scilab",
		   "name": "scilab"
		  },
		  "language_info": {
		   "file_extension": ".sce",
		   "help_links": [
			{
			 "text": "MetaKernel Magics",
			 "url": "https://github.com/calysto/metakernel/blob/master/metakernel/magics/README.md"
			}
		   ],
		   "mimetype": "text/x-octave",
		   "name": "scilab",
		   "version": "0.7.1"
		  }
		 },
		 "nbformat": 4,
		 "nbformat_minor": 0
}
