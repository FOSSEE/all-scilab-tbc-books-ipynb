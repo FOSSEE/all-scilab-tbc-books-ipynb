{
"cells": [
 {
		   "cell_type": "markdown",
	   "metadata": {},
	   "source": [
       "# Chapter 10: Negative Feedback Amplifiers"
	   ]
	},
{
		   "cell_type": "markdown",
		   "metadata": {},
		   "source": [
			"## Example 10.1: example_1.sce"
		   ]
		  },
  {
"cell_type": "code",
	   "execution_count": null,
	   "metadata": {
	    "collapsed": true
	   },
	   "outputs": [],
"source": [
"//pagenumber 467 example 1\n",
"clear\n",
"av=1000;\n",
"chvoga=0.001;//change in voltage gain\n",
"beta1=1/((chvoga)/(100/av))-1;\n",
"beta1=beta1/av;\n",
"fegain=(av)/(1+(av*(beta1)));\n",
"disp('reverse transmission   =   '+string((beta1)));\n",
"\n",
"disp('gain with feedback   =   '+string((fegain)));\n",
""
   ]
   }
,
{
		   "cell_type": "markdown",
		   "metadata": {},
		   "source": [
			"## Example 10.2: example_2.sce"
		   ]
		  },
  {
"cell_type": "code",
	   "execution_count": null,
	   "metadata": {
	    "collapsed": true
	   },
	   "outputs": [],
"source": [
"//pagenumber 467 example 2\n",
"clear\n",
"voltag=36;//volt\n",
"w=0.07;//harmonic distortion\n",
"inpvol=0.028;//volt\n",
"beta1=0.012;\n",
"a=voltag/inpvol;\n",
"fegain=a/(1+beta1*a);//correction in book\n",
"volta1=fegain*inpvol;\n",
"disp('output voltage   =   '+string((volta1)));\n",
"//decrease of gain 9\n",
"inpvol=9*inpvol;\n",
"\n",
"\n",
"\n",
"disp('input voltage   =   '+string((inpvol))+'volt');\n",
"\n",
"\n",
"\n",
""
   ]
   }
,
{
		   "cell_type": "markdown",
		   "metadata": {},
		   "source": [
			"## Example 10.3: example_3.sce"
		   ]
		  },
  {
"cell_type": "code",
	   "execution_count": null,
	   "metadata": {
	    "collapsed": true
	   },
	   "outputs": [],
"source": [
"//pagenumber 468 example 3\n",
"clear\n",
"volgain=2000;//voltage gain\n",
"outpower=20;//watts\n",
"inpsig=10*10^-3;//volts\n",
"fedbac=40;//decibel\n",
"fedgai=volgain/100;\n",
"outvol=volgain*inpsig;//output voltage\n",
"inpvol=outvol/fedgai;//required input\n",
"//10 second harmonic distortion\n",
"distor=(10/100);\n",
"disp('required input   =   '+string((inpvol))+'volt');\n",
"\n",
"\n",
"\n",
"disp('harmonic distortion   =   '+string((distor)));\n",
"\n",
"\n",
""
   ]
   }
,
{
		   "cell_type": "markdown",
		   "metadata": {},
		   "source": [
			"## Example 10.5: example_5.sce"
		   ]
		  },
  {
"cell_type": "code",
	   "execution_count": null,
	   "metadata": {
	    "collapsed": true
	   },
	   "outputs": [],
"source": [
"//pagenumber 469 example 5\n",
"clear\n",
"fedgai=60;//decibel\n",
"outimp=10*10^3;//ohm\n",
"outim1=500;//ohm modified impedance\n",
"fedgai=1000;\n",
"fedbac=((outimp/outim1)-(1))/fedgai;\n",
"//10 change in gain\n",
"overga=1/((1+(fedgai*fedbac))/0.1);//over gain\n",
"disp('feedback factor   =   '+string((fedbac)));\n",
"disp('over gain   =   '+string((overga)));"
   ]
   }
,
{
		   "cell_type": "markdown",
		   "metadata": {},
		   "source": [
			"## Example 10.6: example_6.sce"
		   ]
		  },
  {
"cell_type": "code",
	   "execution_count": null,
	   "metadata": {
	    "collapsed": true
	   },
	   "outputs": [],
"source": [
"//pagenumber 470 example 6\n",
"clear\n",
"colres=4*10^3;//ohm\n",
"r=4*10^3;//ohm\n",
"basres=20*10^3;//ohm\n",
"r1=1*10^3;//ohm\n",
"hie=1.1*10^3;\n",
"hfe=50;\n",
"hoe=(40*10^3);\n",
"ri=basres*hie/(basres+hie);\n",
"curgai=((r1/(r1+ri)))*((basres/(basres+hie)))*((-hfe*colres)/(colres+r));\n",
"volgai=curgai*r/r1;\n",
"tranco=volgai/r;\n",
"tranre=r1*volgai;\n",
"outres=hoe*colres/(hoe+colres);\n",
"disp('current gain   =   '+string((curgai)));\n",
"disp('voltage gain   =   '+string((volgai)));\n",
"disp('transconductance   =   '+string((tranco))+'ampere per volt');\n",
"disp('transresistance   =   '+string((tranre))+'ohm');\n",
"disp('input resistance   =   '+string((ri))+'ohm');\n",
"disp('output resistance   =   '+string((outres))+'ohm');\n",
"\n",
""
   ]
   }
],
"metadata": {
		  "kernelspec": {
		   "display_name": "Scilab",
		   "language": "scilab",
		   "name": "scilab"
		  },
		  "language_info": {
		   "file_extension": ".sce",
		   "help_links": [
			{
			 "text": "MetaKernel Magics",
			 "url": "https://github.com/calysto/metakernel/blob/master/metakernel/magics/README.md"
			}
		   ],
		   "mimetype": "text/x-octave",
		   "name": "scilab",
		   "version": "0.7.1"
		  }
		 },
		 "nbformat": 4,
		 "nbformat_minor": 0
}
