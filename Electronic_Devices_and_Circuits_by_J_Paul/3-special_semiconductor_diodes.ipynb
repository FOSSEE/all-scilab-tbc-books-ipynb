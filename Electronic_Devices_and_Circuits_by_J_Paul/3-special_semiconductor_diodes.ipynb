{
"cells": [
 {
		   "cell_type": "markdown",
	   "metadata": {},
	   "source": [
       "# Chapter 3: special semiconductor diodes"
	   ]
	},
{
		   "cell_type": "markdown",
		   "metadata": {},
		   "source": [
			"## Example 3.1: example_1.sce"
		   ]
		  },
  {
"cell_type": "code",
	   "execution_count": null,
	   "metadata": {
	    "collapsed": true
	   },
	   "outputs": [],
"source": [
"//pagenumber 138 example 1\n",
"clear\n",
"//zener diode\n",
"voltag=5.2;//volts\n",
"w=260*10^-3;//watts\n",
"appv=15;//voltsw1=50;//watts\n",
"imax=w/voltag*0.1;\n",
"//to maitain a constant voltage\n",
"imax1=(w/voltag)-imax;\n",
"resmin=(appv-voltag)/(w/voltag);\n",
"resmax=(appv-voltag)/imax1;\n",
"//load 50\n",
"resmax1=((9.8)/(45*10^-3))-50;\n",
"resmin1=((9.8)/(50*10^-3))-50;\n",
"res50=resmax1-resmin1;\n",
"disp('resistance range from '+string(resmin)+' to '+string(resmax)+'ohms');\n",
"disp('resistance range at 50 from '+string(resmin1)+' to '+string(resmax1)+'ohms');\n",
"\n",
"\n",
""
   ]
   }
,
{
		   "cell_type": "markdown",
		   "metadata": {},
		   "source": [
			"## Example 3.2: example_2.sce"
		   ]
		  },
  {
"cell_type": "code",
	   "execution_count": null,
	   "metadata": {
	    "collapsed": true
	   },
	   "outputs": [],
"source": [
"//pagenumber 139 example 2\n",
"clear\n",
"i1=20*10^-3;//ampere\n",
"i=30*10^-3;//ampere\n",
"v1=5.6;//volts\n",
"v=5.65;//volts\n",
"//condition\n",
"u=35*10^-3;//ampere\n",
"voltag=5*u+5.5;\n",
"disp('voltage drop   =   '+string(voltag)+'volts');\n",
""
   ]
   }
,
{
		   "cell_type": "markdown",
		   "metadata": {},
		   "source": [
			"## Example 3.3: example_3.sce"
		   ]
		  },
  {
"cell_type": "code",
	   "execution_count": null,
	   "metadata": {
	    "collapsed": true
	   },
	   "outputs": [],
"source": [
"//example 3 pagenumber 139\n",
"clear\n",
"v=4.3;//volt\n",
"q=4;//volt\n",
"dop=10^17;//per cubic centimetre\n",
"fi0=0.254*log(dop/(5.1*10^10));\n",
"fi01=0.407+q+0.55;\n",
"disp('fi0   =   '+string(fi01));\n",
"\n",
"\n",
""
   ]
   }
,
{
		   "cell_type": "markdown",
		   "metadata": {},
		   "source": [
			"## Example 3.4: example_4.sce"
		   ]
		  },
  {
"cell_type": "code",
	   "execution_count": null,
	   "metadata": {
	    "collapsed": true
	   },
	   "outputs": [],
"source": [
"//example 4 pagenumber 140\n",
"clear\n",
"v1=20;//volt\n",
"i1=((v1)/(200+1))*10^-3;\n",
"disp('current   =   '+string(i1)+'ampere');\n",
"//greater than 20\n",
"vone=16;\n",
"r=vone/i1;\n",
"r1=r-1*10^3;\n",
"r11=200*10^3-r1;\n",
"disp('resistance   =   '+string(r)+'ohm');\n",
"disp('r1   =   '+string((r1))+'ohm');\n",
"disp('r2   =   '+string((r11))+'ohm');\n",
"\n",
""
   ]
   }
,
{
		   "cell_type": "markdown",
		   "metadata": {},
		   "source": [
			"## Example 3.6: example_6.sce"
		   ]
		  },
  {
"cell_type": "code",
	   "execution_count": null,
	   "metadata": {
	    "collapsed": true
	   },
	   "outputs": [],
"source": [
"//example 6 pagenumber 142\n",
"clear\n",
"v1=150;//volt\n",
"vone=300//volt\n",
"idmax=40*10^-3;//ampere\n",
"idmin=5*10^-3;//ampere\n",
"r=(vone-v1)/idmax;\n",
"imax=idmax-idmin;\n",
"disp('maximum current   =   '+string(imax)+'ampere');\n",
"//minimum\n",
"zq=1;\n",
"while (zq<=2)\n",
"    if zq==1 then\n",
"        ione=25*10^-3;\n",
"        i1=ione+idmin;\n",
"        vmin=(i1*r)+v1;\n",
"        disp('v1 minimum   =   '+string(vmin)+'volt');\n",
"        else\n",
"        ione=25*10^-3;\n",
"        i1=ione+idmax;\n",
"        vmin=(i1*r)+v1;\n",
"        disp('v1 maximum   =   '+string(vmin)+'volt');\n",
"        \n",
"    end\n",
"    zq=zq+1;\n",
"    \n",
"    \n",
"    \n",
"    \n",
"end\n",
"\n",
""
   ]
   }
,
{
		   "cell_type": "markdown",
		   "metadata": {},
		   "source": [
			"## Example 3.7: example_7.sce"
		   ]
		  },
  {
"cell_type": "code",
	   "execution_count": null,
	   "metadata": {
	    "collapsed": true
	   },
	   "outputs": [],
"source": [
"//example 7 pagenumber 142\n",
"clear\n",
"q=4.5*10^22;//atoms per cubic metre\n",
"na=q/(10^4);\n",
"eo=0.026*24.16;\n",
"e=1.6*10^-19;\n",
"W=sqrt((4*16*0.628)/(36*3.14*10^9*na*10^6*e));\n",
"disp('width   =   '+string(W)+'metre');\n",
"\n",
"\n",
""
   ]
   }
],
"metadata": {
		  "kernelspec": {
		   "display_name": "Scilab",
		   "language": "scilab",
		   "name": "scilab"
		  },
		  "language_info": {
		   "file_extension": ".sce",
		   "help_links": [
			{
			 "text": "MetaKernel Magics",
			 "url": "https://github.com/calysto/metakernel/blob/master/metakernel/magics/README.md"
			}
		   ],
		   "mimetype": "text/x-octave",
		   "name": "scilab",
		   "version": "0.7.1"
		  }
		 },
		 "nbformat": 4,
		 "nbformat_minor": 0
}
