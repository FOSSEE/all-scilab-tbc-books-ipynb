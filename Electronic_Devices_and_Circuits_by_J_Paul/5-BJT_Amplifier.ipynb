{
"cells": [
 {
		   "cell_type": "markdown",
	   "metadata": {},
	   "source": [
       "# Chapter 5: BJT Amplifier"
	   ]
	},
{
		   "cell_type": "markdown",
		   "metadata": {},
		   "source": [
			"## Example 5.10: example_10.sce"
		   ]
		  },
  {
"cell_type": "code",
	   "execution_count": null,
	   "metadata": {
	    "collapsed": true
	   },
	   "outputs": [],
"source": [
"//pagenumber 290 example 10\n",
"clear\n",
"re=1*10^3;//ohm\n",
"hie=100;//ohm\n",
"hfe=100;\n",
"//voltage gain\n",
"volgai=1/((1+(hie/(2*(1+hfe)*re))));\n",
"//ri\n",
"ri=(hie/2)+(1+hfe)*re;\n",
"disp('voltage gain   =   '+string((volgai)));\n",
"disp('input resistance   =   '+string((ri))+'ohm');"
   ]
   }
,
{
		   "cell_type": "markdown",
		   "metadata": {},
		   "source": [
			"## Example 5.11: example_11.sce"
		   ]
		  },
  {
"cell_type": "code",
	   "execution_count": null,
	   "metadata": {
	    "collapsed": true
	   },
	   "outputs": [],
"source": [
"//pagenumber 292 example 11\n",
"clear\n",
"beta1=90;\n",
"re=2*10^3;//ohm\n",
"rb=240*10^3;//ohm\n",
"vcc=20;\n",
"ib=(vcc-0.7)/(rb+(1+beta1)*(re));\n",
"ic=beta1*ib;\n",
"vce=vcc-(ib+ic)*re;\n",
"disp('emitter current   =   '+string((ib+ic))+'ampere');\n",
"disp('vce   =   '+string((vce))+'volt');"
   ]
   }
,
{
		   "cell_type": "markdown",
		   "metadata": {},
		   "source": [
			"## Example 5.12: example_12.sce"
		   ]
		  },
  {
"cell_type": "code",
	   "execution_count": null,
	   "metadata": {
	    "collapsed": true
	   },
	   "outputs": [],
"source": [
"//pagenumber 292 example 12\n",
"clear\n",
"hfe=110;\n",
"hie=1.6*10^3;//ohm\n",
"hoe=20*10^-6;//ohm\n",
"colres=4.7*10^3;//ohm\n",
"hre=2*10^-4;\n",
"r1=470*10^3;//ohm\n",
"curgai=-hfe/(1+hoe*colres);\n",
"ri=hie+hre*curgai*colres;\n",
"volgai=curgai*colres/ri;\n",
"y1=hoe-((hfe*hre)/(hie+1*10^3))\n",
"z1=1/y1;\n",
"disp('voltage gain   =   '+string((volgai)));\n",
"disp('current gain   =   '+string((curgai)));\n",
"disp('impedance   =   '+string((z1))+'ohm');\n",
"r0=z1*colres/(z1+colres);\n",
"curgai=-hfe;\n",
"ri=hie;\n",
"disp('parameters using approxmiate');\n",
"volgai=curgai*(colres)/ri;\n",
"disp('voltage gain   =   '+string((volgai)));//correction in the book\n",
"disp('current gain   =   '+string((curgai)));\n",
"disp('impedance   =   '+string((z1))+'ohm');\n",
"\n",
"\n",
"\n",
"\n",
""
   ]
   }
,
{
		   "cell_type": "markdown",
		   "metadata": {},
		   "source": [
			"## Example 5.13: example_13.sce"
		   ]
		  },
  {
"cell_type": "code",
	   "execution_count": null,
	   "metadata": {
	    "collapsed": true
	   },
	   "outputs": [],
"source": [
"//pagenumber 293 example 13\n",
"clear\n",
"re=1*10^3;//ohm\n",
"hie=1000;//ohm\n",
"hfe=99;\n",
"//inptut resistance\n",
"ri=hie+((1+hfe)*(hie+1+hfe*re));\n",
"\n",
"\n",
"disp('input resistance   =   '+string((ri))+'ohm');//correction in the book\n",
"//voltage gain\n",
"volgai=((1+hfe)*(1+hfe)*re)/ri;\n",
"disp('voltage gain   =   '+string((volgai)));\n",
"\n",
"\n",
"//current gain\n",
"curgai=-((1+hfe)*(1+hfe));\n",
"\n",
"\n",
"disp('current gain   =   '+string((curgai)));"
   ]
   }
,
{
		   "cell_type": "markdown",
		   "metadata": {},
		   "source": [
			"## Example 5.14: example_14.sce"
		   ]
		  },
  {
"cell_type": "code",
	   "execution_count": null,
	   "metadata": {
	    "collapsed": true
	   },
	   "outputs": [],
"source": [
"//pagenumber 294 example 14\n",
"clear\n",
"hie=2*10^3;//ohm\n",
"beta1=100;\n",
"colres=5*10^3;//ohm\n",
"volgai=beta1*colres/hie;\n",
"disp('voltage gain   =   '+string((volgai))+'<180');\n",
"disp('input impedance   =   '+string((hie))+'ohm');\n",
"disp('current gain   =   '+string((beta1)));\n",
"\n",
""
   ]
   }
,
{
		   "cell_type": "markdown",
		   "metadata": {},
		   "source": [
			"## Example 5.15: example_15.sce"
		   ]
		  },
  {
"cell_type": "code",
	   "execution_count": null,
	   "metadata": {
	    "collapsed": true
	   },
	   "outputs": [],
"source": [
"//pagenumber 294 example 15\n",
"clear\n",
"colres=4.7*10^3;//ohm\n",
"beta1=150;\n",
"r1=12*10^3;//ohm\n",
"vcc=15;//volt\n",
"re=1.2*10^3;//ohm\n",
"rac=colres*r1/(colres+r1);\n",
"r=2*10^3;//ohm\n",
"//voltage gain\n",
"volgai=beta1*rac/r;\n",
"disp('voltage gain   =   '+string((volgai)));\n",
"r1=75*10^3;//ohm\n",
"r2=7.5*10^3;//ohm\n",
"//input impedance\n",
"zin=(r1*r2)/(r1+r2);\n",
"zin=zin*r/(zin+r);\n",
"disp('input impedance   =   '+string((zin)));\n",
"//coordinates\n",
"vb=vcc*r2/(r1+r2);\n",
"ie=vb/re;\n",
"vce=vcc-((colres+re)*(ie));\n",
"disp('coordinates ic   =   '+string((ie))+'ampere vce   =  '+string((vce))+'volt');"
   ]
   }
,
{
		   "cell_type": "markdown",
		   "metadata": {},
		   "source": [
			"## Example 5.16: example_16.sce"
		   ]
		  },
  {
"cell_type": "code",
	   "execution_count": null,
	   "metadata": {
	    "collapsed": true
	   },
	   "outputs": [],
"source": [
"//pagenumber 296 example 16\n",
"clear\n",
"r1=2000;//ohm\n",
"r=900;//ohm\n",
"hie=1200;//ohm\n",
"hre=2*10^-4;\n",
"hfe=60;\n",
"hoe=25*10^-6;//ampere per volt\n",
"curgai=(hfe)/(1+hoe*r1);\n",
"disp('current gain   =   '+string((curgai)));\n",
"ri=hie+(curgai*r1);\n",
"disp('input impedance   =   '+string((ri))+'ohm');\n",
"volgai=curgai*r1/ri;\n",
"disp('voltage gain   =   '+string((volgai)));\n",
"admita=1/ri;\n",
"admita=hoe-(-hfe*hre)/(hie+r);\n",
"r=1/admita;\n",
"disp('output resistance   =   '+string((r))+'ohm');\n",
""
   ]
   }
,
{
		   "cell_type": "markdown",
		   "metadata": {},
		   "source": [
			"## Example 5.17: example_17.sce"
		   ]
		  },
  {
"cell_type": "code",
	   "execution_count": null,
	   "metadata": {
	    "collapsed": true
	   },
	   "outputs": [],
"source": [
"//pagenumber 296 example 17\n",
"clear\n",
"hfe=60;\n",
"hie=500;//ohm\n",
"ic=3*10^-3;//ampere\n",
"zi=hie;\n",
"rb=220*10^3;//ohm\n",
"colres=5.1*10^3;//ohm\n",
"z=colres;\n",
"volgai=-hfe*colres/hie;\n",
"curgai=-hfe;\n",
"vcc=12;//volt\n",
"ib=(vcc-0.6)/rb;\n",
"ie=hfe*ib;\n",
"re=0.026/ie;\n",
"zi=hfe*re;\n",
"z=colres;\n",
"volgai=-colres/re;\n",
"curgai=-hfe;\n",
"disp('voltage gain   =   '+string((volgai)));\n",
"disp('current gain   =   '+string((curgai)));\n",
"disp('input impedance   =   '+string((zi))+'ohm');\n",
"disp('output impedance   =   '+string((z))+'ohm');"
   ]
   }
,
{
		   "cell_type": "markdown",
		   "metadata": {},
		   "source": [
			"## Example 5.18: example_18.sce"
		   ]
		  },
  {
"cell_type": "code",
	   "execution_count": null,
	   "metadata": {
	    "collapsed": true
	   },
	   "outputs": [],
"source": [
"//pagenumber 297 example 18\n",
"clear\n",
"hie=3.2*10^3;//ohm\n",
"hfe=100;\n",
"r=40*10^3;//ohm\n",
"r1=4.7*10^3;//ohm\n",
"colres=4*10^3;//ohm\n",
"rb=r*r1/(r+r1);\n",
"zi=hie*rb/(hie+rb);\n",
"z=colres;\n",
"re=1.2*10^3;//ohm\n",
"volgai=-hfe*colres/hie;\n",
"disp('input impedance   =   '+string((zi))+'ohm');\n",
"disp('output impedance   =   '+string((z))+'ohm');\n",
"disp('voltage gain   =   '+string((volgai)));\n",
"curgai=-hfe*rb/(rb+hie);\n",
"disp('current gain   =   '+string((curgai)));\n",
"hie=833;\n",
"//(1) load open\n",
"vi=1;\n",
"ib=vi/hie;\n",
"volgai=hfe*ib*1.5*10^3;\n",
"//load closed\n",
"hoe=50;\n",
"r2=2*10^3;//ohm\n",
"ib=vi/(r2+hie);\n",
"vb=1.682;\n",
"ib=(vb-0.6)/(rb+(1+hfe)*(re));\n",
"ic=hfe*ib;\n",
"ie=ic+ib;\n",
"re=0.026/ie;\n",
"zi=rb*hfe*re/((rb)+(hfe*re));\n",
"disp('parameters in re');\n",
"disp('input impedance   =   '+string((zi))+'ohm');\n",
"z=colres;\n",
"disp('output impedance   =   '+string((z))+'ohm');\n",
"volgai=colres/(-re);\n",
"disp('voltage gain   =   '+string((volgai)));\n",
"curgai=-hfe*rb/(rb+hfe*re);\n",
"disp('current gain   =   '+string((curgai)));\n",
""
   ]
   }
,
{
		   "cell_type": "markdown",
		   "metadata": {},
		   "source": [
			"## Example 5.19: example_19.sce"
		   ]
		  },
  {
"cell_type": "code",
	   "execution_count": null,
	   "metadata": {
	    "collapsed": true
	   },
	   "outputs": [],
"source": [
"//pagenumber 299 example 19\n",
"clear\n",
"hfe=120;\n",
"hie=0.02;//ohm\n",
"r1=5.8*10^3;//ohm\n",
"r=27*10^3;//ohm\n",
"colres=1.5*10^3;//ohm\n",
"re=330*10^3;//ohm\n",
"vcc=10;//volt\n",
"vb=vcc*r1/(r1+r);\n",
"rb=(r*r1)/(r+r1);\n",
"ib=(vb-0.7)/(rb+((1+hfe)*re));\n",
"volgai=-hfe*ib*2*10^3;\n",
"disp('voltage gain   =   '+string((volgai)));//correction in the book\n",
""
   ]
   }
,
{
		   "cell_type": "markdown",
		   "metadata": {},
		   "source": [
			"## Example 5.1: example_1.sce"
		   ]
		  },
  {
"cell_type": "code",
	   "execution_count": null,
	   "metadata": {
	    "collapsed": true
	   },
	   "outputs": [],
"source": [
"//pagenumber 283 example 1\n",
"clear\n",
"ic=1*10^-3;//ampere\n",
"vcc=5;//volt\n",
"colres=2*10^3;//ohm\n",
"r1=1.4*10^3;//ohm\n",
"re=100;//ohm\n",
"beta1=100;\n",
"rb=100;//ohm\n",
"v1=0.026;\n",
"c1=25*10^-6;//farad\n",
"g1=ic/v1;\n",
"freque=10*10^3;//hertz\n",
"xc=1/(2*freque*3.14*c1);\n",
"volgai=-beta1*colres/(r1+0.1*10^3+2.5*10^3);\n",
"disp('voltage gain   =   '+string((volgai)));\n",
"ri=(0.1+2.5)*10^3-imag((xc)*(1+beta1));\n",
"disp('input resistance   =   '+string((ri))+'ohm');\n",
"//ce removed\n",
"volgai=-beta1*colres/((r1+0.1*10^3+2.5*10^3)+(101/1000)*10^3*100);\n",
"disp('ce removed');\n",
"disp('voltage gain   =   '+string((volgai)));\n",
"ri=(0.1+2.5)*10^3+100*101/1000*10^3;\n",
"disp('input resistance   =   '+string((ri))+'ohm');\n",
"\n",
"\n",
"\n",
"\n",
""
   ]
   }
,
{
		   "cell_type": "markdown",
		   "metadata": {},
		   "source": [
			"## Example 5.20: example_20.sce"
		   ]
		  },
  {
"cell_type": "code",
	   "execution_count": null,
	   "metadata": {
	    "collapsed": true
	   },
	   "outputs": [],
"source": [
"//pagenumber 300 example 20\n",
"clear\n",
"freque=6*10^6;//hertz\n",
"hfe=50;\n",
"r1=500;//ohm\n",
"g=0.04\n",
"rbb=100;//ohm\n",
"\n",
"\n",
"c1=10*10^-12;//farad\n",
"r=1000;//ohm\n",
"rbe=hfe/g;\n",
"ce=g/(2*3.14*freque);\n",
"c1=ce+c1*(1+g*r);\n",
"hie=rbb+rbe;\n",
"resist=(r1+rbb)*rbe/(r1+rbb+rbe);\n",
"frequ2=1/(2*3.14*resist*c1);\n",
"curgai=-hfe*r1/(r1+hie);\n",
"volgai=(-hfe*r)/(r1+hie);\n",
"q=volgai*frequ2;\n",
"disp('upper frequency voltage gain   =   '+string(abs(q))+'hertz');//correction in the book\n",
"q=curgai*frequ2;\n",
"disp('upper current gain   =   '+string(abs(q))+'hertz');"
   ]
   }
,
{
		   "cell_type": "markdown",
		   "metadata": {},
		   "source": [
			"## Example 5.21: example_21.sce"
		   ]
		  },
  {
"cell_type": "code",
	   "execution_count": null,
	   "metadata": {
	    "collapsed": true
	   },
	   "outputs": [],
"source": [
"//pagenumber 301 example 21\n",
"clear\n",
"hie=1*10^3;//ohm\n",
"hre=2*10^-4;\n",
"hoe=25*10^-6;//ampere per volt\n",
"hfe=50;\n",
"colres=1*10^3;//ohm\n",
"curgai=-hfe/(1+hoe*colres);\n",
"disp('current gain   =   '+string((curgai)));\n",
"ri=hie-hfe*hre/(hoe+1/colres);\n",
"disp('input resistance   =   '+string((ri))+'ohm');\n",
"volgai=curgai*colres/ri;\n",
"disp('voltage gain   =   '+string((volgai)));\n",
"y1=hoe-((hfe*hre)/(hie+800));\n",
"r1=1/y1;\n",
"disp('output resistance   =   '+string((r1))+'ohm');\n",
"//approximate\n",
"disp('approximate');\n",
"curgai=-hfe;\n",
"disp('current gain   =   '+string((curgai)));\n",
"ri=hie;\n",
"disp('input resistance   =   '+string((ri))+'ohm');\n",
"volgai=-hfe*colres/hie;\n",
"disp('voltage gain   =   '+string((volgai)));\n",
"\n",
"\n",
"\n",
"\n",
""
   ]
   }
,
{
		   "cell_type": "markdown",
		   "metadata": {},
		   "source": [
			"## Example 5.22: example_22.sce"
		   ]
		  },
  {
"cell_type": "code",
	   "execution_count": null,
	   "metadata": {
	    "collapsed": true
	   },
	   "outputs": [],
"source": [
"//example 22\n",
"clear\n",
"rb1=7.5*10^3;//ohm\n",
"rb2=6.8*10^3;//ohm\n",
"\n",
"rb3=3.3*10^3;//ohm\n",
"re=1.3*10^3;//ohm\n",
"colres=2.2*10^3;//ohm\n",
"beta1=120;\n",
"vcc=18;//volt\n",
"vb1=rb3*vcc/(rb3+rb2+rb1);\n",
"ie1=(vb1-0.7)/(re);\n",
"re1=0.026/ie1;\n",
"re2=0.026/ie1;\n",
"volgai=colres/re2;\n",
"disp('voltage gain   =   '+string((volgai)));\n",
"\n",
"\n",
""
   ]
   }
,
{
		   "cell_type": "markdown",
		   "metadata": {},
		   "source": [
			"## Example 5.23: example_23.sce"
		   ]
		  },
  {
"cell_type": "code",
	   "execution_count": null,
	   "metadata": {
	    "collapsed": true
	   },
	   "outputs": [],
"source": [
"//pagenumber 302 example 23\n",
"clear\n",
"vcc=5;//volt\n",
"colres=250;//ohm\n",
"v1=5;//volt\n",
"rb=25*10^3;//ohm\n",
"beta1=200;\n",
"vbs=0.8;//volt\n",
"vcon=0.3;//volt\n",
"icon=(vcc-vcon)/colres;\n",
"ibon=icon/beta1;\n",
"ibs=(v1-vbs)/rb;\n",
"ic=(vcc-0.2)/colres;\n",
"beta1=ic/ibs;\n",
"disp('forced beta   =   '+string((beta1)));"
   ]
   }
,
{
		   "cell_type": "markdown",
		   "metadata": {},
		   "source": [
			"## Example 5.24: example_24.sce"
		   ]
		  },
  {
"cell_type": "code",
	   "execution_count": null,
	   "metadata": {
	    "collapsed": true
	   },
	   "outputs": [],
"source": [
"//pagenumber 303 example 24\n",
"clear\n",
"vb=0.6;//volt\n",
"beta1=100;\n",
"ic=1*10^-3;//ampere\n",
"vce=2.5;//volt\n",
"re=300;//ohm\n",
"vcc=5;//volt\n",
"ib=ic/beta1;\n",
"ie=ic+ib;\n",
"ve=ie*re;\n",
"vce=vce+ve;\n",
"r3=(vcc-vce)/ic;\n",
"vb=ve+vb;\n",
"r1=(vcc-vb)/(vb/(10*10^3)+(ib));\n",
"disp('resistance r1   =   '+string((r1))+'ohm');\n",
"disp('resistance r3   =   '+string((r3))+'ohm');\n",
"\n",
""
   ]
   }
,
{
		   "cell_type": "markdown",
		   "metadata": {},
		   "source": [
			"## Example 5.25: example_25.sce"
		   ]
		  },
  {
"cell_type": "code",
	   "execution_count": null,
	   "metadata": {
	    "collapsed": true
	   },
	   "outputs": [],
"source": [
"//pagenumber 304 example 25\n",
"clear\n",
"vce2=7.5;//volt\n",
"vb=0.7;//volt\n",
"beta1=200;\n",
"v1=25;//volt\n",
"r1=10*10^3;//ohm\n",
"vcc=15;//volt\n",
"i1=(vcc-vb)/r1;\n",
"r=(vcc-vce2)/i1;\n",
"z1=beta1*v1/i1;\n",
"z=v1/i1;\n",
"disp('input impedance q1   =   '+string((z))+'ohm');//correction in the book\n",
"disp('input impedance q2   =   '+string((z1))+'ohm');\n",
""
   ]
   }
,
{
		   "cell_type": "markdown",
		   "metadata": {},
		   "source": [
			"## Example 5.26: example_26.sce"
		   ]
		  },
  {
"cell_type": "code",
	   "execution_count": null,
	   "metadata": {
	    "collapsed": true
	   },
	   "outputs": [],
"source": [
"//pagenumber 305 example 26\n",
"clear\n",
"beta1=99;\n",
"r1=1*10^3;//ohm\n",
"g=beta1/r1;\n",
"r=r1*((r1+r1)/(100))/((r1+((r1+r1)/(100))));\n",
"disp('make input   =   0');\n",
"disp('ground dc');\n",
"\n",
"\n",
"disp('output resistance   =   '+string((r))+'ohm');"
   ]
   }
,
{
		   "cell_type": "markdown",
		   "metadata": {},
		   "source": [
			"## Example 5.27: example_27.sce"
		   ]
		  },
  {
"cell_type": "code",
	   "execution_count": null,
	   "metadata": {
	    "collapsed": true
	   },
	   "outputs": [],
"source": [
"//pagenumber 305 example 27\n",
"clear\n",
"ic=0.5*10^-3;//ampere\n",
"rb=100*10^3;//ohm\n",
"v1=0.026;//volt\n",
"r1=50;//ohm\n",
"colres=1*10^3;//ohm\n",
"g=ic/v1;\n",
"volgai=g*colres;\n",
"disp('output resistance   =   '+string((colres))+'ohm');\n",
"disp('input resistance very low');//not given in the book\n",
"disp('voltage gain   =   '+string((volgai)));\n",
"\n",
"\n",
""
   ]
   }
,
{
		   "cell_type": "markdown",
		   "metadata": {},
		   "source": [
			"## Example 5.28: example_28.sce"
		   ]
		  },
  {
"cell_type": "code",
	   "execution_count": null,
	   "metadata": {
	    "collapsed": true
	   },
	   "outputs": [],
"source": [
"//pagenumber 306 example 28\n",
"clear\n",
"re=4*10^3;//ohm\n",
"r1=4*10^3;//ohm\n",
"hie=1.1*10^3;//ohm\n",
"resist=10*10^3;//ohm\n",
"hfe=50;\n",
"rb=10*10^3;//ohm\n",
"r=1*10^3;//ohm\n",
"colres=5*10^3;//ohm\n",
"//(1) current gain\n",
"ri=rb*hie/(rb+hie);\n",
"curgai=(1/2.04)*((rb)/(rb+hie))*((-hfe*colres)/(colres+r1));\n",
"disp('current gain   =   '+string((curgai)));\n",
"//(2) voltage gain\n",
"volgai=curgai*r1/r;\n",
"disp('voltage gain   =   '+string((volgai)));\n",
"//(3) tranconductance\n",
"conduc=volgai/r1;\n",
"disp('transconductance   =   '+string((conduc))+'ampere per volt');\n",
"//transresistance\n",
"resist=resist*volgai;\n",
"disp('transresistance   =   '+string((resist))+'ohm');\n",
"disp('input resistance   =   '+string((ri))+'ohm');\n",
"r=(40*10^3*colres)/(40*10^3+colres);\n",
"disp('output resistance   =   '+string((r))+'ohm');\n",
"\n",
"\n",
""
   ]
   }
,
{
		   "cell_type": "markdown",
		   "metadata": {},
		   "source": [
			"## Example 5.29: example_29.sce"
		   ]
		  },
  {
"cell_type": "code",
	   "execution_count": null,
	   "metadata": {
	    "collapsed": true
	   },
	   "outputs": [],
"source": [
"//pagenumber 307 example 29\n",
"clear\n",
"beta1=500;\n",
"ib=20*10^-6;//ampere\n",
"re=100;//ohm\n",
"ic=beta1*ib;\n",
"vc=ic*0.47*10^3;//voltage drop across collector resistance\n",
"v1=(10-vc);\n",
"vb=v1-0.6;\n",
"rb=vc/ib;\n",
"disp('base resistance   =   '+string((rb))+'ohm');\n",
"ve=re*ic;\n",
"disp('base resistance with re');\n",
"b=0.6+0.1;\n",
"rb=(v1-b)/ib;\n",
"disp('base resistance   =   '+string((rb))+'ohm');\n",
"\n",
"\n",
""
   ]
   }
,
{
		   "cell_type": "markdown",
		   "metadata": {},
		   "source": [
			"## Example 5.2: example_2.sce"
		   ]
		  },
  {
"cell_type": "code",
	   "execution_count": null,
	   "metadata": {
	    "collapsed": true
	   },
	   "outputs": [],
"source": [
"//pagenumber 285 example 2\n",
"clear\n",
"ic=1.3*10^-3;//ampere\n",
"colres=2*10^3;//ohm\n",
"re=500;//ohm\n",
"v1=0.026;//volt\n",
"beta1=100;\n",
"vcc=15;//volt\n",
"c1=10*10^-6;//farad\n",
"ib=ic/beta1;\n",
"ri=0.01/ib;\n",
"volgai=beta1*colres*ib/0.01;\n",
"disp('voltage gain   =   '+string((volgai))+'<180');\n",
"disp('voltage gain reduced ce removed');\n",
"disp('when cb is   short circuited the voltage gain increased');"
   ]
   }
,
{
		   "cell_type": "markdown",
		   "metadata": {},
		   "source": [
			"## Example 5.30: example_30.sce"
		   ]
		  },
  {
"cell_type": "code",
	   "execution_count": null,
	   "metadata": {
	    "collapsed": true
	   },
	   "outputs": [],
"source": [
"//pagenumber 308 example 30\n",
"clear\n",
"beta1=100;\n",
"re=100;//ohm\n",
"vcc=10;//volt\n",
"colres=1.5*10^3;//ohm\n",
"r=100*10^3;//ohm\n",
"r1=10*10^3;//ohm\n",
"vb=vcc*r1/(r1+r);\n",
"ie=0.3/re;\n",
"ib=ie/beta1;\n",
"disp('collector current   =   '+string((ie))+'ampere');\n",
"disp('base current   =   '+string((ib))+'ampere');\n",
"disp('emitter current   =   '+string((ie))+'ampere');\n",
""
   ]
   }
,
{
		   "cell_type": "markdown",
		   "metadata": {},
		   "source": [
			"## Example 5.3: example_3.sce"
		   ]
		  },
  {
"cell_type": "code",
	   "execution_count": null,
	   "metadata": {
	    "collapsed": true
	   },
	   "outputs": [],
"source": [
"//pagenumber 286 example 3\n",
"clear\n",
"colres=4*10^3;//ohm\n",
"r1=4*10^3;//ohm\n",
"\n",
"rb=20*10^3;//ohm\n",
"r=1*10^3;//ohm\n",
"hie=1.1*10^3;//ohm\n",
"\n",
"//current gain\n",
"ri=rb*hie/(rb+hie);\n",
"curgai=(1/2.04)*(rb/(rb+(hie)))*(-50*colres/(colres+(r1)));\n",
"disp('current gain   =   '+string((curgai)));\n",
"//voltage gain\n",
"volgai=curgai*r1/r;\n",
"disp('voltage gain   =   '+string((volgai)));\n",
"//transconductance\n",
"conduc=volgai/r1;\n",
"disp('transconductance   =   '+string((conduc))+'ampere per volt');\n",
"//transresistance\n",
"resist=volgai*r;\n",
"disp('transresistance   =   '+string((resist))+'ohm');\n",
"//input resistance\n",
"disp('input resistance   =   '+string((ri))+'ohm');\n",
"//output resistance\n",
"resist=40*10^3*colres/(40*10^3+colres);\n",
"\n",
"\n",
"\n",
"disp('output resistance   =   '+string((resist))+'ohm');\n",
"\n",
""
   ]
   }
,
{
		   "cell_type": "markdown",
		   "metadata": {},
		   "source": [
			"## Example 5.4: example_4.sce"
		   ]
		  },
  {
"cell_type": "code",
	   "execution_count": null,
	   "metadata": {
	    "collapsed": true
	   },
	   "outputs": [],
"source": [
"//pagenumber 287 example 4\n",
"clear\n",
"ib=20*10^-6;//ampere\n",
"beta1=500;\n",
"re=10;//ohm correction in the book\n",
"r1=4.7*10^2;//ohm correction in the book\n",
"ic=ib*beta1;\n",
"voltag=ic*r1;//voltage drop at 4.7*10^3ohm\n",
"vc=(10-voltag);\n",
"rb=(vc-0.6)/ib;\n",
"disp('rb   =   '+string((rb))+'ohm');\n",
"//re included\n",
"voltag=ic*re;//voltage drop at re\n",
"vb=(0.6+voltag);\n",
"rb=(vc-vb)/ib;\n",
"disp('rb including emitter resistance   =   '+string((rb))+'ohm');\n",
"\n",
"\n",
"\n",
""
   ]
   }
,
{
		   "cell_type": "markdown",
		   "metadata": {},
		   "source": [
			"## Example 5.5: example_5.sce"
		   ]
		  },
  {
"cell_type": "code",
	   "execution_count": null,
	   "metadata": {
	    "collapsed": true
	   },
	   "outputs": [],
"source": [
"//pagenumber 288 example 5\n",
"clear\n",
"av=12480;\n",
"fedbac=8;//decibel\n",
"volgai=20*log10(av);//gain without fedback\n",
"volga1=volgai-fedbac;\n",
"beta1=((av/5000)-1)/av;\n",
"\n",
"disp('voltage gain with fedback   =   '+string((volga1))+'decibel');\n",
"disp('beta   =   '+string((beta1)));\n",
""
   ]
   }
,
{
		   "cell_type": "markdown",
		   "metadata": {},
		   "source": [
			"## Example 5.6: example_6.sce"
		   ]
		  },
  {
"cell_type": "code",
	   "execution_count": null,
	   "metadata": {
	    "collapsed": true
	   },
	   "outputs": [],
"source": [
"//pagenumber 288 example 6\n",
"beta1=100;\n",
"r1=1.5*10^3;//ohm\n",
"vcc=10;//volt\n",
"r=100*10^3;//ohm\n",
"vb=((vcc)/(r+10*10^3))*10*10^3;\n",
"ie=0.3/100;\n",
"ib=ie/beta1;\n",
"disp('collector current   =   '+string((ie))+'ampere');\n",
"disp('emitter current   =   '+string((ie))+'ampere');\n",
"disp('base current   =   '+string((ib))+'ampere');"
   ]
   }
,
{
		   "cell_type": "markdown",
		   "metadata": {},
		   "source": [
			"## Example 5.7: example_7.sce"
		   ]
		  },
  {
"cell_type": "code",
	   "execution_count": null,
	   "metadata": {
	    "collapsed": true
	   },
	   "outputs": [],
"source": [
"//pagenumber 268 example 7\n",
"clear\n",
"hie=800;//ohm\n",
"he=50*10^-6;//mho\n",
"hfe=-55;\n",
"z1=2*10^3;//ohm\n",
"curgai=hfe/(1+he*z1);\n",
"zi=hie\n",
"volgai=curgai*z1/zi;\n",
"powgai=volgai*curgai;\n",
"//if hoe neglected\n",
"av=137.5;\n",
"hfe=-55;\n",
"w=((av-abs(volgai))*100)/abs(volgai);\n",
"ap=hfe*(-av);\n",
"w1=((ap-powgai)*100)/powgai;\n",
"disp('voltage gain   =   '+string((volgai)));\n",
"\n",
"\n",
"disp('power gain   =   '+string((powgai)));\n",
"disp('error without hoe   =   '+string((w)));\n",
"disp('error   =   '+string((w1)));\n",
""
   ]
   }
,
{
		   "cell_type": "markdown",
		   "metadata": {},
		   "source": [
			"## Example 5.8: example_8.sce"
		   ]
		  },
  {
"cell_type": "code",
	   "execution_count": null,
	   "metadata": {
	    "collapsed": true
	   },
	   "outputs": [],
"source": [
"//pagenumber 289 example 8\n",
"clear\n",
"rb=5*10^3;//ohm\n",
"vcc=20;//volt\n",
"r=10*10^3;//ohm\n",
"colres=5*10^3;//ohm\n",
"vb=vcc*r/(r+r);\n",
"beta1=50;\n",
"v1=0.6;//volt\n",
"ib=(vb-v1)/(1+beta1*colres);\n",
"ic=beta1*ib;\n",
"vc=vcc-ic*1*10^3;\n",
"vce=vc-rb*(ic+ib);\n",
"disp('emitter current   =   '+string((ic+ib))+'ampere');\n",
"disp('vc   =   '+string((vc))+'volt');\n",
"disp('collector emitter voltage   =   '+string((vce))+'volt');\n",
"\n",
"\n",
""
   ]
   }
,
{
		   "cell_type": "markdown",
		   "metadata": {},
		   "source": [
			"## Example 5.9: example_9.sce"
		   ]
		  },
  {
"cell_type": "code",
	   "execution_count": null,
	   "metadata": {
	    "collapsed": true
	   },
	   "outputs": [],
"source": [
"//pagenumber 290 example 9\n",
"clear\n",
"hib=25;//ohm\n",
"hfb=0.999;\n",
"hob=10^-6;//ohm\n",
"colres=10*10^3;//ohm\n",
"//voltage gain\n",
"curgai=hfb/(1+hob*colres);\n",
"zi=hib+hob*colres*curgai;\n",
"volgai=curgai*colres/(zi);\n",
"disp('voltage gain   =   '+string((volgai)));//correction in the book"
   ]
   }
],
"metadata": {
		  "kernelspec": {
		   "display_name": "Scilab",
		   "language": "scilab",
		   "name": "scilab"
		  },
		  "language_info": {
		   "file_extension": ".sce",
		   "help_links": [
			{
			 "text": "MetaKernel Magics",
			 "url": "https://github.com/calysto/metakernel/blob/master/metakernel/magics/README.md"
			}
		   ],
		   "mimetype": "text/x-octave",
		   "name": "scilab",
		   "version": "0.7.1"
		  }
		 },
		 "nbformat": 4,
		 "nbformat_minor": 0
}
