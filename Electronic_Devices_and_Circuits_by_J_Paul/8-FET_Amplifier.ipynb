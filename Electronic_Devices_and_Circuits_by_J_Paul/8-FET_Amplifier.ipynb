{
"cells": [
 {
		   "cell_type": "markdown",
	   "metadata": {},
	   "source": [
       "# Chapter 8: FET Amplifier"
	   ]
	},
{
		   "cell_type": "markdown",
		   "metadata": {},
		   "source": [
			"## Example 8.1: example_1.sce"
		   ]
		  },
  {
"cell_type": "code",
	   "execution_count": null,
	   "metadata": {
	    "collapsed": true
	   },
	   "outputs": [],
"source": [
"//pagenumber 399 example 1\n",
"clear\n",
"freque=5*10^3;//hertz\n",
"//(1)\n",
"g=2*10^-3;//ampere per volt\n",
"rd=10*10^3;//ohm\n",
"r1=30*10^3;//ohm\n",
"r12=r1*r1/(r1+r1);\n",
"volgai=-(g*r12*rd)/(r12+rd);\n",
"disp('voltage gain   =   '+string((volgai)));//correction r12 should be taken as 15*10^3ohm in book\n",
"//(2) capacitance included\n",
"c=0.025*10^-6;//farad\n",
"frequ1=1/((2*3.14*(((rd*r1)/(rd+r1))+r1))*c);\n",
"volgai=(volgai/(sqrt((1+(frequ1/freque)^2))));\n",
"\n",
"disp('voltage gain   =   '+string((volgai)));\n",
"\n",
"\n",
""
   ]
   }
,
{
		   "cell_type": "markdown",
		   "metadata": {},
		   "source": [
			"## Example 8.2: example_2.sce"
		   ]
		  },
  {
"cell_type": "code",
	   "execution_count": null,
	   "metadata": {
	    "collapsed": true
	   },
	   "outputs": [],
"source": [
"//pagenumber 400 example 2\n",
"clear\n",
"rd=80*10^3;//ohm\n",
"r1=8*10^3;//ohm\n",
"rd12=5*10^3;//ohm\n",
"rd1=rd*r1/(rd+r1);\n",
"u=30;\n",
"volgai=-(u*rd1)/(rd1+rd12);\n",
"\n",
"disp('voltage gain   '+string((volgai)));\n",
""
   ]
   }
,
{
		   "cell_type": "markdown",
		   "metadata": {},
		   "source": [
			"## Example 8.3: example_3.sce"
		   ]
		  },
  {
"cell_type": "code",
	   "execution_count": null,
	   "metadata": {
	    "collapsed": true
	   },
	   "outputs": [],
"source": [
"//pagenumber 401 example 3\n",
"clear\n",
"r1=60*10^3;//ohm\n",
"volgai=-17.7;\n",
"rg=80*10^3;//ohm\n",
"volgai=((volgai*rg)/(1-volgai))/((rg/(1-volgai))+r1);\n",
"disp('voltage gain   =   '+string((volgai)));\n",
"\n",
"\n",
"\n",
""
   ]
   }
,
{
		   "cell_type": "markdown",
		   "metadata": {},
		   "source": [
			"## Example 8.6: example_6.sce"
		   ]
		  },
  {
"cell_type": "code",
	   "execution_count": null,
	   "metadata": {
	    "collapsed": true
	   },
	   "outputs": [],
"source": [
"//pagenumber 405 example 6\n",
"clear\n",
"vds=14;//volt\n",
"idq=3*10^-3;//ampere\n",
"vdd=20;//volt\n",
"g=2*10^-2;\n",
"rd=50*10^3;//ohm\n",
"vgs=-1.5;//volt\n",
"w=(vdd-vds)/idq;\n",
"r1=-vgs/idq;\n",
"r2=w-r1;\n",
"inpres=1/(1-(0.8*((r1)/(r1+r2))));\n",
"volgai=(r1+r2)/(r1+r2+(1/(g)));\n",
"disp('r1   =   '+string((r1))+'ohm');\n",
"disp('effective input resistance   =   '+string((inpres))+'r3ohm');\n",
"disp('r2   =   '+string((r2))+'ohm');\n",
"\n",
"\n",
"disp('voltage gain   =   '+string((volgai))+'av`');"
   ]
   }
,
{
		   "cell_type": "markdown",
		   "metadata": {},
		   "source": [
			"## Example 8.7: example_7.sce"
		   ]
		  },
  {
"cell_type": "code",
	   "execution_count": null,
	   "metadata": {
	    "collapsed": true
	   },
	   "outputs": [],
"source": [
"//pagenumber 405 example 7\n",
"clear\n",
"rg=40*10^3;//ohm\n",
"voltag=(1-6*50)*3.3*10^3/(5.3*10^3);\n",
"\n",
"disp('output voltage   =   '+string((voltag))+'volt');//correction in the book"
   ]
   }
,
{
		   "cell_type": "markdown",
		   "metadata": {},
		   "source": [
			"## Example 8.9: example_9.sce"
		   ]
		  },
  {
"cell_type": "code",
	   "execution_count": null,
	   "metadata": {
	    "collapsed": true
	   },
	   "outputs": [],
"source": [
"//pagenumber 406 example 9\n",
"clear\n",
"u=50;\n",
"rd=10*10^3;//ohm\n",
"cgs=5*10^-12;//farad\n",
"cgd=2*10^-12;//farad\n",
"cds=2*10^-12;//farad\n",
"freque=3;//decibel\n",
"g=u/rd;\n",
"volgai=-u*rd/(rd+rd);\n",
"req=rd*rd/(rd+rd);\n",
"frequ1=1/(2*3.14*cgd*req);\n",
"disp('voltage gain   =   '+string((volgai)));//correction in book\n",
"disp('frequency   =   '+string((frequ1))+'hertz');\n",
"capac1=cgd*(1+g);\n",
"disp('output capacitance   =   '+string((capac1))+'farad');\n",
"\n",
"\n",
"\n",
"disp('req   =   '+string((req))+'ohm');"
   ]
   }
],
"metadata": {
		  "kernelspec": {
		   "display_name": "Scilab",
		   "language": "scilab",
		   "name": "scilab"
		  },
		  "language_info": {
		   "file_extension": ".sce",
		   "help_links": [
			{
			 "text": "MetaKernel Magics",
			 "url": "https://github.com/calysto/metakernel/blob/master/metakernel/magics/README.md"
			}
		   ],
		   "mimetype": "text/x-octave",
		   "name": "scilab",
		   "version": "0.7.1"
		  }
		 },
		 "nbformat": 4,
		 "nbformat_minor": 0
}
