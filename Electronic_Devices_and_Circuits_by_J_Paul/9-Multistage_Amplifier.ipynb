{
"cells": [
 {
		   "cell_type": "markdown",
	   "metadata": {},
	   "source": [
       "# Chapter 9: Multistage Amplifier"
	   ]
	},
{
		   "cell_type": "markdown",
		   "metadata": {},
		   "source": [
			"## Example 9.1: example_1.sce"
		   ]
		  },
  {
"cell_type": "code",
	   "execution_count": null,
	   "metadata": {
	    "collapsed": true
	   },
	   "outputs": [],
"source": [
"//pagenumber 424 example 1\n",
"clear\n",
"//(1) frequency\n",
"freque=100*10^3*sqrt(2^(1/3)-(1));\n",
"frequ2=100*10^3/sqrt(2^(1/3)-(1));\n",
"disp('frequency1   =   '+string((freque))+'hertz');\n",
"disp('frequency2   =   '+string((frequ2))+'hertz');\n",
"//(2)frequency\n",
"freq11=100*10^6;//hertz\n",
"freq12=150*10^6;//hertz\n",
"freq13=200*10^6;//hertz\n",
"freq21=100*10^3;//hertz\n",
"freq22=150*10^3;//hertz\n",
"freq23=200*10^3;//hertz\n",
"frequ1=sqrt(freq11^2+freq12^2+freq13^2);\n",
"disp('frequency   =   '+string((frequ1))+'hertz');//correction in the book 269.25mega hertz\n",
"frequ1=1/sqrt((1/(freq21^2))+(1/(freq22^2))+(1/(freq23^2)));\n",
"\n",
"\n",
"disp('frequency   =   '+string((frequ1))+'hertz');//correction in the book"
   ]
   }
,
{
		   "cell_type": "markdown",
		   "metadata": {},
		   "source": [
			"## Example 9.2: example_2.sce"
		   ]
		  },
  {
"cell_type": "code",
	   "execution_count": null,
	   "metadata": {
	    "collapsed": true
	   },
	   "outputs": [],
"source": [
"//pagenumber 424 example 2\n",
"clear\n",
"freque=60;//hertz\n",
"frequ1=freque*0.484;\n",
"cb=1/(frequ1*2*3.14*10^3);\n",
"disp('coupling capacitance   =   '+string((cb))+'/r`');"
   ]
   }
,
{
		   "cell_type": "markdown",
		   "metadata": {},
		   "source": [
			"## Example 9.3: example.sce"
		   ]
		  },
  {
"cell_type": "code",
	   "execution_count": null,
	   "metadata": {
	    "collapsed": true
	   },
	   "outputs": [],
"source": [
"//pagenumber 425 example 3\n",
"clear\n",
"g=10*10^-3;//ampere per volt\n",
"rd=5.5*10^3;//ohm\n",
"rg=1*10^6;//ohm\n",
"//(1) cb frequency 1decibel to 10hertz\n",
"ri=rg;\n",
"r1=(rd*8*10^3)/(rd+8*10^3);\n",
"cb=10^-6/(3.14*5.07);\n",
"disp('cb   =   '+string((cb))+'farad');\n",
"//(2) cb\n",
"cb=(cb*(5)/(3.52));\n",
"disp('cb   =   '+string((cb))+'farad');\n",
"//(3) gain\n",
"a1=g^2*(3.26^2);\n",
"disp('gain of each stage   =   '+string((a1)));//correction in the book\n",
"\n",
"\n",
""
   ]
   }
,
{
		   "cell_type": "markdown",
		   "metadata": {},
		   "source": [
			"## Example 9.4: example_4.sce"
		   ]
		  },
  {
"cell_type": "code",
	   "execution_count": null,
	   "metadata": {
	    "collapsed": true
	   },
	   "outputs": [],
"source": [
"//pagenumber 427 example 4\n",
"clear\n",
"freque=40*10^3;//hertz\n",
"frequ1=freque/0.507;\n",
"disp('upper frequency   =   '+string((frequ1))+'hertz');\n",
"frequ1=freque/1.96;\n",
"disp('lower frequency   =   '+string((frequ1))+'hertz');\n",
"\n",
"\n",
"\n",
""
   ]
   }
,
{
		   "cell_type": "markdown",
		   "metadata": {},
		   "source": [
			"## Example 9.5: example_5.sce"
		   ]
		  },
  {
"cell_type": "code",
	   "execution_count": null,
	   "metadata": {
	    "collapsed": true
	   },
	   "outputs": [],
"source": [
"//pagenumber 427 example 5\n",
"clear\n",
"g=2.6*10^-3;//ampere per volt\n",
"rd=7.7*10^3;//ohm\n",
"rd1=12*10^3;//ohm\n",
"cb=0.005*10^-6;//farad\n",
"//(1) voltage gain\n",
"volgai=g*((1/rd)+1/rd1+1/(1*10^3));\n",
"volgai=(20*(log10(10.8)))*3;\n",
"disp('overal voltage gain   =   '+string((volgai))+'decibel');//correction in the book\n",
"//(2) lower frequency\n",
"r=rd*rd1/(rd+rd1);\n",
"freque=1/((2*3.14)*(r+1*10^6)*cb);\n",
"disp('lower frequency of each   =   '+string((freque))+'hertz');\n",
"//(3) overal lower frequency\n",
"freque=freque*1.96;\n",
"disp('lower frequency overal   =   '+string((freque))+'hertz');\n",
"\n",
""
   ]
   }
,
{
		   "cell_type": "markdown",
		   "metadata": {},
		   "source": [
			"## Example 9.6: example_6.sce"
		   ]
		  },
  {
"cell_type": "code",
	   "execution_count": null,
	   "metadata": {
	    "collapsed": true
	   },
	   "outputs": [],
"source": [
"//pagenumber 429 example 6\n",
"clear\n",
"hfe=50;\n",
"hie=1.1*10^3;//ohm\n",
"//(1) gain\n",
"r1=2*10^3;//ohm\n",
"volgai=-hfe*r1/(hie);\n",
"r11=25*10^3*hie/(25*10^3+hie);\n",
"r11=r1*r11/(r1+r11);\n",
"volga1=-hfe*r11/hie;\n",
"volgai=volgai*volga1;\n",
"disp('voltage gain   =   '+string((volgai)));\n",
"freque=20;//hertz\n",
"ri=25*10^3*hie/(25*10^3+hie);\n",
"cb=1/(2*3.14*(ri+r1)*(freque));\n",
"disp('cb   =   '+string((cb))+'farad');\n",
"cb=1/(2*3.14*3.05*10^3*10/3.14);\n",
"disp('cb   <=   '+string((cb))+'farad');\n",
""
   ]
   }
,
{
		   "cell_type": "markdown",
		   "metadata": {},
		   "source": [
			"## Example 9.8: example_8.sce"
		   ]
		  },
  {
"cell_type": "code",
	   "execution_count": null,
	   "metadata": {
	    "collapsed": true
	   },
	   "outputs": [],
"source": [
"//pagenumber 432 example 8\n",
"clear\n",
"theta1=atand(0.1);\n",
"disp('theta1   =   '+string((theta1)));\n",
"disp('phase constant 10f1<=f<=0.1f11');\n",
"\n",
"\n",
"\n",
""
   ]
   }
],
"metadata": {
		  "kernelspec": {
		   "display_name": "Scilab",
		   "language": "scilab",
		   "name": "scilab"
		  },
		  "language_info": {
		   "file_extension": ".sce",
		   "help_links": [
			{
			 "text": "MetaKernel Magics",
			 "url": "https://github.com/calysto/metakernel/blob/master/metakernel/magics/README.md"
			}
		   ],
		   "mimetype": "text/x-octave",
		   "name": "scilab",
		   "version": "0.7.1"
		  }
		 },
		 "nbformat": 4,
		 "nbformat_minor": 0
}
