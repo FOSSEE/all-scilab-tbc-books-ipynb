{
"cells": [
 {
		   "cell_type": "markdown",
	   "metadata": {},
	   "source": [
       "# Chapter 4: Biplolar Junction Transistor"
	   ]
	},
{
		   "cell_type": "markdown",
		   "metadata": {},
		   "source": [
			"## Example 4.10: example_10.sce"
		   ]
		  },
  {
"cell_type": "code",
	   "execution_count": null,
	   "metadata": {
	    "collapsed": true
	   },
	   "outputs": [],
"source": [
"//example 10\n",
"clear\n",
"\n",
"\n",
"\n",
"disp('rb/re<<1');"
   ]
   }
,
{
		   "cell_type": "markdown",
		   "metadata": {},
		   "source": [
			"## Example 4.11: example_11.sce"
		   ]
		  },
  {
"cell_type": "code",
	   "execution_count": null,
	   "metadata": {
	    "collapsed": true
	   },
	   "outputs": [],
"source": [
"//example 11\n",
"clear\n",
"vbe=0.65;//volt\n",
"colres=2*10^3;//ohm\n",
"voltag=10;//volt\n",
"i1=voltag/10;\n",
"q=(1.65-vbe)/(1*10^3);\n",
"\n",
"\n",
"disp('current   =   '+string((q))+'ampere');\n",
""
   ]
   }
,
{
		   "cell_type": "markdown",
		   "metadata": {},
		   "source": [
			"## Example 4.12: example_12.sce"
		   ]
		  },
  {
"cell_type": "code",
	   "execution_count": null,
	   "metadata": {
	    "collapsed": true
	   },
	   "outputs": [],
"source": [
"//example 12\n",
"clear\n",
"vcc=12;//volt\n",
"r1=10*10^3;//ohm\n",
"colres=1*10^3;//ohm\n",
"re=5*10^3;//ohm\n",
"rb=5*10^3;//ohm\n",
"beta1=100;\n",
"vbe=0.7;//volt\n",
"basvol=vcc*10/20;\n",
"ib=((basvol-vbe)/(rb+beta1*rb));\n",
"ic=beta1*ib;\n",
"vce=vcc-ic*(colres+re);\n",
"disp('vce   =   '+string((vce))+'volt');\n",
"disp('collector current   =   '+string((ic))+'ampere');"
   ]
   }
,
{
		   "cell_type": "markdown",
		   "metadata": {},
		   "source": [
			"## Example 4.13: example_13.sce"
		   ]
		  },
  {
"cell_type": "code",
	   "execution_count": null,
	   "metadata": {
	    "collapsed": true
	   },
	   "outputs": [],
"source": [
"//example 13\n",
"clear\n",
"colres=330;//ohm\n",
"re=0.1*10^3;//ohm\n",
"vcc=12;//volt\n",
"vce=0.2;//volt\n",
"revcur=18*10^-3//ampere\n",
"ib=0.3*10^-3;//ampere\n",
"stability=10;\n",
"beta1=100;\n",
"colres=0.330;//ohm\n",
"re=0.1*10^3;//ohm\n",
"vbe=0.2;\n",
"rb=(((1+beta1)*re)/10-((1+beta1)*re))/(1-10.1);\n",
"vb=2+ib*rb;\n",
"w=vcc/vb;\n",
"q=w-1;\n",
"r1=1.2*10^3;\n",
"r=q*1.2*10^3;\n",
"disp('r1   =   '+string((q))+'times r2');\n",
"disp('if r2 is 1200ohm');\n",
"disp('r1   =   '+string((r))+'ohm');\n",
"\n",
"disp('r2   =   '+string((r1))+'ohm');"
   ]
   }
,
{
		   "cell_type": "markdown",
		   "metadata": {},
		   "source": [
			"## Example 4.14: example_14.sce"
		   ]
		  },
  {
"cell_type": "code",
	   "execution_count": null,
	   "metadata": {
	    "collapsed": true
	   },
	   "outputs": [],
"source": [
"//example 14\n",
"clear\n",
"alpha1=0.99;\n",
"ib=25*10^-6;//ampere\n",
"icb=200*10^-9;//ampere\n",
"beta1=alpha1/(1-alpha1);\n",
"ic=beta1*ib+(beta1+1)*icb;\n",
"disp('collector current   =   '+string((ic))+'ampere');\n",
"ie1=(ic-icb)/alpha1;\n",
"disp('emitter current   =   '+string((ie1))+'ampere');\n",
"ic=beta1*ib;\n",
"disp('collector current with ib   =   '+string((ic))+'ampere');\n",
"ie=ic/alpha1;\n",
"disp('emitter current   =   '+string((ie))+'ampere');\n",
"w=(ie1-ie)/ie1;\n",
"disp('error   =   '+string((w)));\n",
"\n",
"\n",
""
   ]
   }
,
{
		   "cell_type": "markdown",
		   "metadata": {},
		   "source": [
			"## Example 4.15: example_15.sce"
		   ]
		  },
  {
"cell_type": "code",
	   "execution_count": null,
	   "metadata": {
	    "collapsed": true
	   },
	   "outputs": [],
"source": [
"//example 15\n",
"clear\n",
"vcc=26;//volt\n",
"colres=20*10^3;//ohm\n",
"re=470;//ohm\n",
"beta1=45;\n",
"vce=8;//volt\n",
"ib=(vcc-vce)/((1+beta1)*(colres+re));\n",
"ic=beta1*ib;\n",
"r1=((vcc-colres*(ib+ic)-re*(ib+ic)-(0.7)))/ib;\n",
"disp('resistance   =   '+string((r1))+'ohm');\n",
"stability=(1+beta1)/(1+(beta1*re)/(re+colres));\n",
"disp('stability   =   '+string((stability)));//correction in the book\n",
"\n",
""
   ]
   }
,
{
		   "cell_type": "markdown",
		   "metadata": {},
		   "source": [
			"## Example 4.16: example_16.sce"
		   ]
		  },
  {
"cell_type": "code",
	   "execution_count": null,
	   "metadata": {
	    "collapsed": true
	   },
	   "outputs": [],
"source": [
"//example 16\n",
"clear\n",
"vcc=1.5//volt in book should be changed as 1.5\n",
"colres=1.5*10^3;//ohm\n",
"emresi=0.27*10^3;//ohm\n",
"r1=2.7*10^3;//ohm\n",
"r=2.7*10^3;//ohm\n",
"beta1=45;\n",
"basre1=690;//ohm\n",
"voltag=r*vcc/(r*r1);\n",
"basres=(r*r1)/(r+r1);\n",
"vbe=0.2;\n",
"for q= 1:2\n",
"    if q==2 then\n",
"        disp('resistance   =   '+string((basre1))+'ohm');\n",
"        basres=basres+basre1;\n",
"    end\n",
"    bascur=(((voltag+vbe)))/(basres+(45*(emresi)));\n",
"    colcur=beta1*bascur;\n",
"    vce=(vcc+colcur*colres+(bascur+colcur)*emresi);\n",
"    disp('current   =   '+string((colcur))+'ampere');\n",
"    disp('vce   =   '+string((vce))+'volt');\n",
"end"
   ]
   }
,
{
		   "cell_type": "markdown",
		   "metadata": {},
		   "source": [
			"## Example 4.17: example_17.sce"
		   ]
		  },
  {
"cell_type": "code",
	   "execution_count": null,
	   "metadata": {
	    "collapsed": true
	   },
	   "outputs": [],
"source": [
"//example 17\n",
"clear\n",
"beta1=25;\n",
"colres=2.5*10^3;//ohm\n",
"vcc=10;//volt\n",
"vce=-5;//volt\n",
"ic=-(vcc+vce)/colres;\n",
"ib=ic/beta1;\n",
"rb=vce/ib;\n",
"stability=(1+beta1)/((1+beta1)*((colres)/(colres+rb)));\n",
"disp('base resistance   =   '+string((rb))+'ohm');//correction in book\n",
"disp('stability   =   '+string((stability)));\n",
"\n",
"\n",
""
   ]
   }
,
{
		   "cell_type": "markdown",
		   "metadata": {},
		   "source": [
			"## Example 4.18: example_18.sce"
		   ]
		  },
  {
"cell_type": "code",
	   "execution_count": null,
	   "metadata": {
	    "collapsed": true
	   },
	   "outputs": [],
"source": [
"//example 18\n",
"clear\n",
"therre=8;//celsius per watts\n",
"tepera=27;//celsius ambient temperature\n",
"potran=3;//watt\n",
"tejunc=tepera+(therre*potran);\n",
"disp('junction temperature   =   '+string((tejunc))+'celsius');\n",
"\n",
"\n",
"\n",
""
   ]
   }
,
{
		   "cell_type": "markdown",
		   "metadata": {},
		   "source": [
			"## Example 4.19: example_19.sce"
		   ]
		  },
  {
"cell_type": "code",
	   "execution_count": null,
	   "metadata": {
	    "collapsed": true
	   },
	   "outputs": [],
"source": [
"//example.19\n",
"clear\n",
"ambtep=40;//celsius\n",
"juntep=160;//celsius\n",
"hs_a=8;\n",
"j_c=5;\n",
"c_a=85;\n",
"j_a=(j_c)+(c_a*hs_a)/(c_a+hs_a);\n",
"podiss=(juntep-ambtep)/j_a;\n",
"disp('dissipation   =   '+string((podiss))+'watt');\n",
""
   ]
   }
,
{
		   "cell_type": "markdown",
		   "metadata": {},
		   "source": [
			"## Example 4.1: example_1.sce"
		   ]
		  },
  {
"cell_type": "code",
	   "execution_count": null,
	   "metadata": {
	    "collapsed": true
	   },
	   "outputs": [],
"source": [
"//page number 201 example 1\n",
"clear\n",
"alpha=0.98;\n",
"vbe=0.7;//base emitter voltage volt\n",
"ie=-4*10^-3;//emitter current\n",
"vc=12;//colector voltage volt\n",
"colr=3.3*10^3;//ohms\n",
"colCurrent=ie*(-alpha);\n",
"baseCurrent=0.02*ie;\n",
"vbn=vbe+(-4*10^-3*100);\n",
"i2=-vbn/(10*10^3);\n",
"i1=-(baseCurrent+i2);\n",
"vcn=(vc-((colCurrent+i1)*colr));\n",
"v1=vcn-0.9;\n",
"r1=v1/i1;\n",
"disp('r1   =   '+string(abs(r1))+'ohm');\n",
"\n",
"\n",
""
   ]
   }
,
{
		   "cell_type": "markdown",
		   "metadata": {},
		   "source": [
			"## Example 4.21: example_21.sce"
		   ]
		  },
  {
"cell_type": "code",
	   "execution_count": null,
	   "metadata": {
	    "collapsed": true
	   },
	   "outputs": [],
"source": [
"//example 21\n",
"clear\n",
"emicur=1*10^-3;//ampere\n",
"colcur=0.995*10^-3;//ampere\n",
"alpha1=colcur/emicur;\n",
"beta1=alpha1/(1-alpha1);\n",
"disp('alpha   =   '+string((alpha1)));\n",
"disp('beta   =   '+string((beta1)));\n",
"\n",
"\n",
""
   ]
   }
,
{
		   "cell_type": "markdown",
		   "metadata": {},
		   "source": [
			"## Example 4.22: example_22.sce"
		   ]
		  },
  {
"cell_type": "code",
	   "execution_count": null,
	   "metadata": {
	    "collapsed": true
	   },
	   "outputs": [],
"source": [
"//example 22\n",
"clear\n",
"beta1=100;\n",
"alpha1=beta1/(beta1+1);\n",
"\n",
"disp('alpha   =   '+string((alpha1)));"
   ]
   }
,
{
		   "cell_type": "markdown",
		   "metadata": {},
		   "source": [
			"## Example 4.23: example_23.sce"
		   ]
		  },
  {
"cell_type": "code",
	   "execution_count": null,
	   "metadata": {
	    "collapsed": true
	   },
	   "outputs": [],
"source": [
"//example.23\n",
"rb=200*10^3;//ohm\n",
"rc=2*10^3;//ohm\n",
"vcc=20;//volt\n",
"ib=(vcc)/(rb+200*rc);\n",
"ic=200*ib;\n",
"disp('ic   =   '+string((ic))+'ampere');//correction in book\n",
"\n",
"\n",
"\n",
""
   ]
   }
,
{
		   "cell_type": "markdown",
		   "metadata": {},
		   "source": [
			"## Example 4.24: example_24.sce"
		   ]
		  },
  {
"cell_type": "code",
	   "execution_count": null,
	   "metadata": {
	    "collapsed": true
	   },
	   "outputs": [],
"source": [
"//example 24\n",
"clear\n",
"alpha1=0.98;\n",
"revcur=1*10^-6;//ampere\n",
"emicur=1*10^-3;//ampere\n",
"colcur=alpha1*emicur+revcur;\n",
"bascur=emicur-colcur;\n",
"disp('collector current   =   '+string((colcur))+'ampere');\n",
"disp('base current   =   '+string((bascur))+'ampere');\n",
"\n",
""
   ]
   }
,
{
		   "cell_type": "markdown",
		   "metadata": {},
		   "source": [
			"## Example 4.25: example_25.sce"
		   ]
		  },
  {
"cell_type": "code",
	   "execution_count": null,
	   "metadata": {
	    "collapsed": true
	   },
	   "outputs": [],
"source": [
"//example 25\n",
"clear\n",
"colcur=100*10^-3;//ampere\n",
"ouresi=20;//ohm\n",
"r=200;//ohm\n",
"r1=100;//ohm\n",
"vcc=15;//volt\n",
"basvol=((r1)/(r+r1))*vcc;\n",
"em1res=basvol/colcur;\n",
"vce=vcc-(ouresi+em1res)*colcur;\n",
"disp('vce   =   '+string((vce))+'volt');\n",
"disp('emitter resistance   =   '+string((em1res))+'ohm');\n",
"\n",
"\n",
""
   ]
   }
,
{
		   "cell_type": "markdown",
		   "metadata": {},
		   "source": [
			"## Example 4.26: example_26.sce"
		   ]
		  },
  {
"cell_type": "code",
	   "execution_count": null,
	   "metadata": {
	    "collapsed": true
	   },
	   "outputs": [],
"source": [
"//example 26\n",
"colres=1*10^3;//ohm\n",
"beta1=50;\n",
"vbe=0.3;//volt\n",
"vcc=6;//volt\n",
"rb=10*10^3;//ohm\n",
"re=100;//ohm\n",
"em1cur=((vcc-vbe)*(beta1+1))/((rb+((beta1+1)*re)));\n",
"for q=1:2\n",
"    if q==2 then\n",
"        colres=1*10^3;\n",
"        vce=vcc-(colres+re)*em1cur;\n",
"        ic=vcc/(colres+re);\n",
"        disp('collector to emitter   =   '+string((vce))+'volt');\n",
"        disp('collector current   =   '+string((ic))+'ampere');\n",
"    end\n",
"    if q==1 then\n",
"        colres=50;\n",
"        rb=100;\n",
"        vce=vcc-(colres+rb)*em1cur;\n",
"        disp('emitter current   =   '+string((em1cur))+'ampere');\n",
"        disp('collector to emitter   =   '+string((vce))+'volt');\n",
"    end\n",
"end\n",
"\n",
"\n",
"\n",
"\n",
""
   ]
   }
,
{
		   "cell_type": "markdown",
		   "metadata": {},
		   "source": [
			"## Example 4.27: example_27.sce"
		   ]
		  },
  {
"cell_type": "code",
	   "execution_count": null,
	   "metadata": {
	    "collapsed": true
	   },
	   "outputs": [],
"source": [
"//example 27\n",
"clear\n",
"beta1=99;\n",
"stability=5;\n",
"vbe=0.2;//volt\n",
"colres=2.5*10^3;//ohm\n",
"vce=6;//volt\n",
"ven=5.5;//volt\n",
"vcc=15;//volt\n",
"vcn=vce+ven;\n",
"colvol=vcc-vcn;//voltage across collector resistance\n",
"ic=colvol/colres;\n",
"ib=ic/beta1;\n",
"colre1=ven/ic;\n",
"rb=stability*colre1/(1-(stability/(1+beta1)));//correction in the book taken collector resistance as 3.13*10^3ohm but it is 3.93*10^3ohm\n",
"v1=(ib*rb)+(vbe)+((ib+ic)*colre1);\n",
"r=rb*vcc/v1;\n",
"r1=r*v1/(vcc-v1);\n",
"disp('resistance   =   '+string((colre1))+'ohm');\n",
"disp('resistance r1    =   '+string((r))+'ohm');\n",
"disp('resistance r2   =   '+string((r1))+'ohm');\n",
"\n",
""
   ]
   }
,
{
		   "cell_type": "markdown",
		   "metadata": {},
		   "source": [
			"## Example 4.28: example_28.sce"
		   ]
		  },
  {
"cell_type": "code",
	   "execution_count": null,
	   "metadata": {
	    "collapsed": true
	   },
	   "outputs": [],
"source": [
"//example 28\n",
"clear\n",
"beta1=50;\n",
"vbb=5;//volt\n",
"rb=10*10^3;//ohm\n",
"colres=800;//ohm\n",
"re=1.8*10^3;//ohm\n",
"vcc=5;//volt\n",
"ib=(0.7-vbb)/((rb)+(beta1+1)*re);//correction in book\n",
"re=beta1*ib;\n",
"ie=(ib+re);\n",
"vce=vcc-colres*re-re*ie;\n",
"vcb=(vce-0.7);\n",
"disp('base current   =   '+string((ib))+'ampere');\n",
"disp('collector current   =   '+string((re))+'ampere');\n",
"disp('emitter current   =   '+string((ie))+'ampere');\n",
"disp('vcb   =   '+string((vcb))+'volt');//correction in book\n",
"disp('the collector base junction is reverse biased the transistor in active region');\n",
"\n",
""
   ]
   }
,
{
		   "cell_type": "markdown",
		   "metadata": {},
		   "source": [
			"## Example 4.29: example_29.sce"
		   ]
		  },
  {
"cell_type": "code",
	   "execution_count": null,
	   "metadata": {
	    "collapsed": true
	   },
	   "outputs": [],
"source": [
"//example 29\n",
"clear\n",
"r=40*10^3;//ohm\n",
"r1=5*10^3;//ohm\n",
"colres=r1;\n",
"beta1=50;\n",
"em1res=1*10^3;//ohm\n",
"vcc=12;//volt\n",
"rth=r*r1/(r+r1);\n",
"v1=r1*vcc/(r1+r);\n",
"bascur=(v1-0.3)/(rth+(beta1*em1res));\n",
"colcur=beta1*bascur;\n",
"vce=vcc-(colres+em1res)*colcur;\n",
"disp('collector current   =   '+string((colcur))+'ampere');\n",
"disp('collector emitter voltage   =   '+string((vce))+'volt');\n",
"\n",
"\n",
"\n",
"\n",
""
   ]
   }
,
{
		   "cell_type": "markdown",
		   "metadata": {},
		   "source": [
			"## Example 4.2: example_2.sce"
		   ]
		  },
  {
"cell_type": "code",
	   "execution_count": null,
	   "metadata": {
	    "collapsed": true
	   },
	   "outputs": [],
"source": [
"//pagenumber 202 example 2\n",
"clear\n",
"colvoltag=12;//volts\n",
"vbe=5;//volts\n",
"colcur=10*10^-3;//ampere\n",
"vce=5;//volts\n",
"beta1=50;\n",
"ib=colcur/beta1;\n",
"rb=(vbe-0.7)/ib;\n",
"rc=(12-vbe)/colcur;\n",
"//when 100ohm included\n",
"disp('rb   =   '+string(rb)+'ohm');\n",
"disp('rc   =   '+string(rc)+'ohm');\n",
"rb=(vce-0.7-(colcur+ib)*beta1)/ib;\n",
"\n",
"disp('rb at emitter resistance 100ohm   =   '+string(rb)+'ohm');//correction in the book\n",
"\n",
"\n",
""
   ]
   }
,
{
		   "cell_type": "markdown",
		   "metadata": {},
		   "source": [
			"## Example 4.30: example_30.sce"
		   ]
		  },
  {
"cell_type": "code",
	   "execution_count": null,
	   "metadata": {
	    "collapsed": true
	   },
	   "outputs": [],
"source": [
"//example 30\n",
"colcur=8*10^-3;//ampere\n",
"re=500;//ohm\n",
"vce=3;//volt\n",
"beta1=80;\n",
"vcc=9;//volt\n",
"ib=colcur/beta1;\n",
"rb=(vcc-(1+beta1)*(ib*re))/ib;\n",
"disp(' base resistance   =   '+string((rb))+'ohm');\n",
"\n",
""
   ]
   }
,
{
		   "cell_type": "markdown",
		   "metadata": {},
		   "source": [
			"## Example 4.31: example_31.sce"
		   ]
		  },
  {
"cell_type": "code",
	   "execution_count": null,
	   "metadata": {
	    "collapsed": true
	   },
	   "outputs": [],
"source": [
"//example 31\n",
"clear\n",
"vcc=10;//volt\n",
"basres=1*10^6;//ohm\n",
"colres=2*10^3;//ohm\n",
"em1res=1*10^3;//ohm\n",
"beta1=100;\n",
"bascur=vcc/(basres+(beta1+1)*(em1res));\n",
"colcur=beta1*bascur;\n",
"em1cur=colcur+bascur;\n",
"disp('base current   =   '+string((bascur))+'ampere');\n",
"disp('collector current   =   '+string((colcur))+'ampere');//correction in book\n",
"disp('emitter current   =   '+string((em1cur))+'ampere');//correction in book\n",
"\n",
""
   ]
   }
,
{
		   "cell_type": "markdown",
		   "metadata": {},
		   "source": [
			"## Example 4.32: example_32.sce"
		   ]
		  },
  {
"cell_type": "code",
	   "execution_count": null,
	   "metadata": {
	    "collapsed": true
	   },
	   "outputs": [],
"source": [
"//example 32\n",
"alpha1=0.99;\n",
"rebacu=1*10^-11;//ampere\n",
"colres=2*10^3;//ohm\n",
"vcc=10;//volt\n",
"bascur=20*10^-6;//ampere\n",
"beta1=alpha1/(1-alpha1);\n",
"i1=(1+beta1)*rebacu;\n",
"colcur=beta1*bascur+i1;\n",
"em1cur=-(bascur+colcur);\n",
"vcb=vcc-colcur*colres;\n",
"vce=vcb-0.7;\n",
"disp('collector current   =   '+string((colcur))+'ampere');\n",
"disp('emitter current   =   '+string((em1cur))+'ampere');\n",
"disp('collector emitter voltage   =   '+string((vce))+'volt');"
   ]
   }
,
{
		   "cell_type": "markdown",
		   "metadata": {},
		   "source": [
			"## Example 4.33: example_33.sce"
		   ]
		  },
  {
"cell_type": "code",
	   "execution_count": null,
	   "metadata": {
	    "collapsed": true
	   },
	   "outputs": [],
"source": [
"//pagenumber 220 example 33\n",
"clear\n",
"beta1=100;\n",
"revcur=20*10^-9;//ampere\n",
"colres=3*10^3;//ohm\n",
"rb=200*10^3;//ohm\n",
"vbb=5;//volt\n",
"vcc=11;//volt\n",
"em1res=2*10^3;//ohm\n",
"ib=(vbb-0.7)/rb;\n",
"ic=beta1*ib;\n",
"ie=ib+ic;\n",
"disp('base current   =   '+string((ib))+'ampere');\n",
"disp('collector current   =   '+string((ic))+'ampere');\n",
"disp('emitter current   =   '+string((ie))+'ampere');//question asked only currents\n",
"//2*10^3 ohm added to emitter\n",
"ib=-(0.7-vcc)/(rb+((1+beta1)*em1res));\n",
"ic=beta1*ib;\n",
"ie=ib+ic;\n",
"disp('base current   =   '+string((ib))+'ampere');//correction in book\n",
"disp('collector current   =   '+string((ic))+'ampere');\n",
"disp('emitter current   =   '+string((ie))+'ampere');//question asked only currents\n",
""
   ]
   }
,
{
		   "cell_type": "markdown",
		   "metadata": {},
		   "source": [
			"## Example 4.34: example_34.sce"
		   ]
		  },
  {
"cell_type": "code",
	   "execution_count": null,
	   "metadata": {
	    "collapsed": true
	   },
	   "outputs": [],
"source": [
"//pagenumber 221 example 34\n",
"clear\n",
"em1cur=2*10^-3;//ampere\n",
"v1=12;//volt\n",
"vcc=12;//volt\n",
"format(12);\n",
"colres=5*10^3;//ohm\n",
"em1res=v1/em1cur;\n",
"colcur=em1cur;\n",
"voltag=colcur*colres;//ic*r\n",
"v1=vcc-(colres*colcur);\n",
"disp('emitter current   =   '+string((em1cur))+'ampere');\n",
"disp('collector current   =   '+string((colcur))+'ampere');\n",
"disp('voltage   =   '+string((voltag))+'volt');\n",
"disp('vcb   =   '+string(abs(v1))+'volt');\n",
"disp('emitter resistance   =   '+string((em1res))+'ohm');\n",
"\n",
"\n",
"\n",
""
   ]
   }
,
{
		   "cell_type": "markdown",
		   "metadata": {},
		   "source": [
			"## Example 4.35: example_35.sce"
		   ]
		  },
  {
"cell_type": "code",
	   "execution_count": null,
	   "metadata": {
	    "collapsed": true
	   },
	   "outputs": [],
"source": [
"//example 35\n",
"clear\n",
"vbb=4;//volt\n",
"ib=50*10^-6;//ampere\n",
"for q=[0 0.7 4 12];\n",
"    if q==0 then\n",
"        rb=(vbb-q)/ib;\n",
"        disp('resistance at '+string((q))+'volt   '+string((rb))+'ohm');\n",
"    elseif q==0.7\n",
"        rb=(vbb-q)/ib;\n",
"        disp('resistance at '+string((q))+'volt   '+string((rb))+'ohm');\n",
"    elseif q==4\n",
"        disp('vbb at 12volt');\n",
"        q=0;\n",
"        vbb=12;\n",
"        rb=(vbb-q)/ib;\n",
"        disp('resistance at '+string((q))+'volt   '+string((rb))+'ohm');\n",
"    else\n",
"        q=0.7;\n",
"        vbb=12;\n",
"        rb=(vbb-q)/ib;\n",
"        \n",
"        \n",
"        disp('resistance at '+string((q))+'volt   '+string((rb))+'ohm');\n",
"    end\n",
"end\n",
"\n",
"\n",
""
   ]
   }
,
{
		   "cell_type": "markdown",
		   "metadata": {},
		   "source": [
			"## Example 4.36: example_36.sce"
		   ]
		  },
  {
"cell_type": "code",
	   "execution_count": null,
	   "metadata": {
	    "collapsed": true
	   },
	   "outputs": [],
"source": [
"//example 36\n",
"clear\n",
"ic=5.2*10^-3;//ampere\n",
"ib=50*10^-6;//ampere\n",
"icb=2*10^-6;//ampere\n",
"beta1=(ic-icb)/(ib+icb);\n",
"disp('beta   =   '+string((beta1)));\n",
"ie=ib+ic;\n",
"\n",
"disp('ie   =   '+string((ie))+'ampere');\n",
"alpha1=(ic-icb)/ic;\n",
"disp('alpha   =   '+string((alpha1)));\n",
"\n",
"\n",
"\n",
"ic=10*10^-3;//ampere\n",
"ib=(ic-(beta1+1)*(icb))/beta1;\n",
"\n",
"\n",
"disp('ib   =   '+string((ib))+'ampere');//correction in the book"
   ]
   }
,
{
		   "cell_type": "markdown",
		   "metadata": {},
		   "source": [
			"## Example 4.37: example_37.sce"
		   ]
		  },
  {
"cell_type": "code",
	   "execution_count": null,
	   "metadata": {
	    "collapsed": true
	   },
	   "outputs": [],
"source": [
"//example 37\n",
"clear\n",
"beta1=160;\n",
"vb=-0.8;//volt\n",
"re=2.5*10^3;//ohm\n",
"vcc=10;//volt\n",
"for q=[160 80]\n",
"    ib=(vcc-vb)*10^2/((re)*(1+q)*400);\n",
"    ic=q*ib;\n",
"    colres=1.5*10^3;//ohm\n",
"    disp('collector current at beta '+string((q))+'   =   '+string((ic))+'ampere');//correction in the book\n",
"    ie=(1+beta1)*ib;\n",
"    vce=-(vcc-colres*ic-re*ie);\n",
"    disp('vce at beta '+string((q))+'   =   '+string((vce))+'volt');//correction in the book\n",
"end"
   ]
   }
,
{
		   "cell_type": "markdown",
		   "metadata": {},
		   "source": [
			"## Example 4.38: example_38.sce"
		   ]
		  },
  {
"cell_type": "code",
	   "execution_count": null,
	   "metadata": {
	    "collapsed": true
	   },
	   "outputs": [],
"source": [
"//pagenumber 222 example 38\n",
"clear\n",
"vb=0.7;//volt\n",
"vce=7;//volt\n",
"ic=1*10^-3;//ampere\n",
"vcc=12;//volt\n",
"beta1=100;\n",
"colres=(vcc-vce)/ic;\n",
"ib=ic/beta1;\n",
"//rb\n",
"rb=(vcc-vb-ic*colres)/ib;\n",
"disp('rb   =   '+string((rb))+' ohm');\n",
"//stability\n",
"stability=(1+beta1)/(1+beta1*(colres/(colres+rb)));\n",
"disp('stability   =   '+string((stability)));\n",
"//beta=50\n",
"beta1=50;\n",
"disp('new point');\n",
"ib=(vcc-vb)/(beta1*colres+rb);\n",
"ic=beta1*ib;\n",
"disp('ic   =   '+string((ic))+' ampere');\n",
"vce=vcc-(ic*colres);\n",
"disp('vce   =   '+string((vce))+' volt');"
   ]
   }
,
{
		   "cell_type": "markdown",
		   "metadata": {},
		   "source": [
			"## Example 4.39: example_39.sce"
		   ]
		  },
  {
"cell_type": "code",
	   "execution_count": null,
	   "metadata": {
	    "collapsed": true
	   },
	   "outputs": [],
"source": [
"//pagenumber 223 example 39\n",
"clear\n",
"vcc=16;//volt\n",
"colres=3*10^3;//ohm\n",
"re=2*10^3;//ohm\n",
"r1=56*10^3;//ohm\n",
"r2=20*10^3;//ohm\n",
"alpha1=0.985;\n",
"vb=0.3;//volt\n",
"//coordinates\n",
"beta1=alpha1/(1-alpha1);\n",
"v1=vcc*r2/(r1+r2);\n",
"rb=r2/(r1+r2);\n",
"ic=(v1-vb)/((rb/beta1)+(re/beta1)+re);\n",
"disp('new point');\n",
"disp('vce   =   '+string((v1))+' volt');\n",
"disp('ic   =   '+string((ic))+' ampere');\n",
"\n",
""
   ]
   }
,
{
		   "cell_type": "markdown",
		   "metadata": {},
		   "source": [
			"## Example 4.40: example_40.sce"
		   ]
		  },
  {
"cell_type": "code",
	   "execution_count": null,
	   "metadata": {
	    "collapsed": true
	   },
	   "outputs": [],
"source": [
"//pagenumber 224 example 40\n",
"clear\n",
"vce=12;//volt\n",
"ic=2*10^-3;//ampere\n",
"vcc=24;//volt\n",
"vb=0.7;//volt\n",
"beta1=50;\n",
"colres=4.7*10^3;//ohm\n",
"//re\n",
"re=((vcc-vce)/(ic))-colres;\n",
"disp('re   =   '+string((re))+' ohm');\n",
"//r1\n",
"ib=ic/beta1;\n",
"v1=ib*3.25*10^3+vb+(ib+1.5*10^3);\n",
"r1=3.25*18*10^3/2.23;\n",
"disp('r1   =   '+string((r1))+' ohm');\n",
"//r2\n",
"r2=26.23*2.23*10^3/(18-2.3);\n",
"disp('r2   =   '+string((r2))+' ohm');\n",
""
   ]
   }
,
{
		   "cell_type": "markdown",
		   "metadata": {},
		   "source": [
			"## Example 4.41: example_41.sce"
		   ]
		  },
  {
"cell_type": "code",
	   "execution_count": null,
	   "metadata": {
	    "collapsed": true
	   },
	   "outputs": [],
"source": [
"//pagenumber 225 example 41\n",
"clear\n",
"colres=3*10^3;//ohm\n",
"rb=150*10^3;//ohm\n",
"beta1=125;\n",
"vcc=10;//volt\n",
"v1=5;//volt\n",
"vb=0.7;//volt\n",
"ib=(v1-vb)/rb;\n",
"disp('ib   =   '+string((ib))+' ampere');\n",
"ic=beta1*ib;\n",
"ie=ic+ib;\n",
"disp('ic   =   '+string((ic))+' ampere');\n",
"disp('ie   =   '+string((ie))+' ampere');//correction in the book in question to find only currents\n",
""
   ]
   }
,
{
		   "cell_type": "markdown",
		   "metadata": {},
		   "source": [
			"## Example 4.42: example_42.sce"
		   ]
		  },
  {
"cell_type": "code",
	   "execution_count": null,
	   "metadata": {
	    "collapsed": true
	   },
	   "outputs": [],
"source": [
"//pagenumber 226 example 42\n",
"clear\n",
"beta1=50;\n",
"vb=0.6;//volt\n",
"vcc=18;//volt\n",
"colres=4.3*10^3;//ohm\n",
"ic=1.5*10^-3;//ampere\n",
"vce=10;//volt\n",
"stability=4;\n",
"r1=(vcc-vce)/ic;\n",
"re=r1-colres;\n",
"w=(beta1+1)*(stability)*re/(1+beta1-stability);\n",
"disp('re   =   '+string((re))+'ohm');\n",
"disp('rb   =   '+string((w))+'ohm');//correction in the book\n",
""
   ]
   }
,
{
		   "cell_type": "markdown",
		   "metadata": {},
		   "source": [
			"## Example 4.43: example_43.sce"
		   ]
		  },
  {
"cell_type": "code",
	   "execution_count": null,
	   "metadata": {
	    "collapsed": true
	   },
	   "outputs": [],
"source": [
"//pagenumber 226 example 43\n",
"re=100;//ohm\n",
"beta1=100;\n",
"rb=1*10^3;//ohm\n",
"stability=(1+beta1)/(1+beta1*(re/(re+rb)));\n",
"r1=3.8//r2\n",
"disp('r1   =   3.8*r2');//correction in the book not given in question\n",
"\n",
"\n",
"\n",
""
   ]
   }
,
{
		   "cell_type": "markdown",
		   "metadata": {},
		   "source": [
			"## Example 4.45: example_45.sce"
		   ]
		  },
  {
"cell_type": "code",
	   "execution_count": null,
	   "metadata": {
	    "collapsed": true
	   },
	   "outputs": [],
"source": [
"//pagenumber 228 example 45\n",
"clear\n",
"icb=2*10^-6;//ampere\n",
"vbb=1;//volt\n",
"r1=50*10^3;//ohm\n",
"//current increases every 10celsius rb at 75celsius\n",
"vb=-0.1;//volt\n",
"icb=2^6*10^-6;//at 75celsius\n",
"rb=(vb+vbb)/icb;\n",
"disp('rb at 75 celsius   =   '+string((rb))+'ohm');\n",
"icb=(vb+vbb)/r1;\n",
"disp('icb   =   '+string((icb))+'ampere');\n",
"w=(log10(icb*10^6)*20/log10(2))-25;\n",
"disp('temperature at which current till max   =   '+string((w))+'celsius');\n",
""
   ]
   }
,
{
		   "cell_type": "markdown",
		   "metadata": {},
		   "source": [
			"## Example 4.46: example_46.sce"
		   ]
		  },
  {
"cell_type": "code",
	   "execution_count": null,
	   "metadata": {
	    "collapsed": true
	   },
	   "outputs": [],
"source": [
"//pagenumber 228 example 46\n",
"clear\n",
"vb=0.8;//volt\n",
"beta1=100;\n",
"vce=0.2;//volt\n",
"vcc=10;//volt\n",
"rb=200*10^3;//ohm\n",
"//collector resistance\n",
"ib=(5-0.7)/rb;\n",
"colres=(vcc-vce)/(beta1*ib);\n",
"disp('min collector resistance   =   '+string((colres))+'ohm');"
   ]
   }
,
{
		   "cell_type": "markdown",
		   "metadata": {},
		   "source": [
			"## Example 4.47: example_47.sce"
		   ]
		  },
  {
"cell_type": "code",
	   "execution_count": null,
	   "metadata": {
	    "collapsed": true
	   },
	   "outputs": [],
"source": [
"//pagenumber 229 example 47\n",
"clear\n",
"alpha1=0.98;\n",
"alph11=0.96;\n",
"vcc=24;//volt\n",
"colres=120;//ohm\n",
"ie=100*10^-3;//ampere\n",
"beta1=alpha1/(1-alpha1);\n",
"bet11=alph11/(1-alph11);\n",
"ib2=ie/(1+bet11);\n",
"ie1=-ib2;\n",
"disp('ib2   =   '+string((ib2))+'ampere');\n",
"disp('ie1   =   '+string((ie1))+'ampere');\n",
"\n",
"\n",
"ic2=bet11*ib2;\n",
"ib1=ib2/(1+beta1);\n",
"ic1=beta1*ib1;\n",
"disp('ic2   =   '+string((ic2))+'ampere');\n",
"disp('ib1   =   '+string((ib1))+'ampere');\n",
"disp('ic1   =   '+string((ic1))+'ampere');\n",
"ic=ic1+ic2;\n",
"vce=vcc-ic*colres;\n",
"ib=ib1;\n",
"w=ic/ib;\n",
"q=-ic/ie;\n",
"disp('ic   =   '+string((ic))+'ampere');\n",
"disp('ic/ib   =   '+string((w)));\n",
"disp('ic/ie   =   '+string((q)));//correction in the book\n",
"disp('vce   =   '+string((vce))+'volt');\n",
"\n",
""
   ]
   }
,
{
		   "cell_type": "markdown",
		   "metadata": {},
		   "source": [
			"## Example 4.5: example_5.sce"
		   ]
		  },
  {
"cell_type": "code",
	   "execution_count": null,
	   "metadata": {
	    "collapsed": true
	   },
	   "outputs": [],
"source": [
"//pagenumber 205 example 5\n",
"clear\n",
"//given\n",
"reveri=2*10^-6;//ampere at 25\n",
"icb=2*10^-6*2^5;//ampere at 75\n",
"basevoltag=5;//volt\n",
"//(1)\n",
"rb=(-0.1+basevoltag)/(icb);\n",
"disp('max resistance   =   '+string((rb))+'ohm');//correction in the book\n",
"//(2)\n",
"basevoltag=1;\n",
"rb=100*10^3;\n",
"reveri=(-0.1+basevoltag)/rb;\n",
"q=reveri/(2*10^-6);\n",
"w=q^10;\n",
"u=log(w)\n",
"t=25+(u/log((2)));\n",
"disp('baseresistance   =   '+string((rb))+'ohm');\n",
"disp('temperature   =   '+string((t))+'celsius');"
   ]
   }
,
{
		   "cell_type": "markdown",
		   "metadata": {},
		   "source": [
			"## Example 4.6: example_6.sce"
		   ]
		  },
  {
"cell_type": "code",
	   "execution_count": null,
	   "metadata": {
	    "collapsed": true
	   },
	   "outputs": [],
"source": [
"//pagenumber 205 example 6\n",
"clear\n",
"//given\n",
"vbe=0.8;//volt\n",
"beta1=100;\n",
"vce=0.2;//volt\n",
"rb=200*10^3;//ohm\n",
"bascur=(6-vbe)/rb;\n",
"colres=(10-vce)/(beta1*bascur);\n",
"disp('min resistance   =   '+string((colres))+'ohm');\n",
""
   ]
   }
,
{
		   "cell_type": "markdown",
		   "metadata": {},
		   "source": [
			"## Example 4.7: example_7.sce"
		   ]
		  },
  {
"cell_type": "code",
	   "execution_count": null,
	   "metadata": {
	    "collapsed": true
	   },
	   "outputs": [],
"source": [
"//pagenumber 206 example 7\n",
"clear\n",
"beta1=100;\n",
"colres=3*10^3;//collector resistance //ohm\n",
"rb=8*10^3;//ohm\n",
"r1=500;//ohm\n",
"voltag=5;//volt\n",
"//(1)\n",
"ib=(-voltag+0.7)/((1+beta1)*r1+(rb));\n",
"ic=beta1*ib;\n",
"vce=(-10-ic*(colres)+r1*(ib+ic));\n",
"vcb=vce+0.7;\n",
"//(2)\n",
"volmin=-0.2+abs(ib+ic)*r1;\n",
"re=-(0.7+rb*ib+voltag)/((1+(beta1))*ib);\n",
"disp('in saturation mode')\n",
"disp('vo   =   '+string((volmin))+'volt');//correction in the book\n",
"disp('emitter resistance   <   '+string((re))+'ohm');\n",
"\n",
""
   ]
   }
,
{
		   "cell_type": "markdown",
		   "metadata": {},
		   "source": [
			"## Example 4.9: example_9.sce"
		   ]
		  },
  {
"cell_type": "code",
	   "execution_count": null,
	   "metadata": {
	    "collapsed": true
	   },
	   "outputs": [],
"source": [
"//example 9\n",
"clear\n",
"vcc=12;//volt\n",
"rb=12*10^3;//ohm\n",
"colres=2*10^3;//ohm\n",
"beta1=100;\n",
"vb=0.7;//volt\n",
"vce=0.1;//volt\n",
"\n",
"for q=1:2\n",
"    if q==1 then\n",
"        vbb=1;\n",
"    else\n",
"        vbb=12;\n",
"    end\n",
"    ib=(vbb-vb)/rb;\n",
"    ic=beta1*ib;\n",
"    ie=ic+ib;\n",
"    vce=vcc-ic*colres;\n",
"    if q==2 then\n",
"        ic=(vcc-0.1)/colres;\n",
"    end\n",
"\n",
"    disp('the operating point at vbb   =   '+string((vbb))+'volt ic   =   '+string((ic))+'ampere vce   =   '+string((vce))+' volt');\n",
"end\n",
"beta1=ic/ib;\n",
"\n",
"disp('beta at saturation   =   '+string((beta1)));\n",
""
   ]
   }
],
"metadata": {
		  "kernelspec": {
		   "display_name": "Scilab",
		   "language": "scilab",
		   "name": "scilab"
		  },
		  "language_info": {
		   "file_extension": ".sce",
		   "help_links": [
			{
			 "text": "MetaKernel Magics",
			 "url": "https://github.com/calysto/metakernel/blob/master/metakernel/magics/README.md"
			}
		   ],
		   "mimetype": "text/x-octave",
		   "name": "scilab",
		   "version": "0.7.1"
		  }
		 },
		 "nbformat": 4,
		 "nbformat_minor": 0
}
