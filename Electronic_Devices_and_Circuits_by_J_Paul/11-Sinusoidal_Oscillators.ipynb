{
"cells": [
 {
		   "cell_type": "markdown",
	   "metadata": {},
	   "source": [
       "# Chapter 11: Sinusoidal Oscillators"
	   ]
	},
{
		   "cell_type": "markdown",
		   "metadata": {},
		   "source": [
			"## Example 11.2: example_2.sce"
		   ]
		  },
  {
"cell_type": "code",
	   "execution_count": null,
	   "metadata": {
	    "collapsed": true
	   },
	   "outputs": [],
"source": [
"//pagenumber 514 example 2\n",
"clear\n",
"macapa=900*10^-12;//farad\n",
"micapa=90*10^-12;//farad\n",
"r=100*10^3;//ohm\n",
"//(a) frequency range\n",
"fremin=1/(2*3.14*r*macapa);\n",
"disp('min frequency   =   '+string((fremin))+'hertz');\n",
"fremax=1/(2*3.14*r*micapa);\n",
"disp('max frequency   =   '+string((fremax))+'hertz');\n",
"//(b) r3\n",
"r=10*10^3;//ohm\n",
"r3=2*r;\n",
"disp('resistance r3   =   '+string((r3))+'ohm');\n",
""
   ]
   }
,
{
		   "cell_type": "markdown",
		   "metadata": {},
		   "source": [
			"## Example 11.3: example_3.sce"
		   ]
		  },
  {
"cell_type": "code",
	   "execution_count": null,
	   "metadata": {
	    "collapsed": true
	   },
	   "outputs": [],
"source": [
"//pagenumber 516 example 3\n",
"clear\n",
"c1=0.004*10^-6;//farad\n",
"c2=0.03*10^-6;//farad\n",
"induct=4*10^-3;//henry\n",
"//min voltage\n",
"mivolt=c2/c1;\n",
"disp('min voltage   >=   '+string((mivolt))+'volt');\n",
"//frequency\n",
"freque=(((1/(2*3.14)))*sqrt((c1+c2)/(induct*c1*c2)));\n",
"disp('frequency   =   '+string((freque))+'hertz');"
   ]
   }
,
{
		   "cell_type": "markdown",
		   "metadata": {},
		   "source": [
			"## Example 11.5: example_5.sce"
		   ]
		  },
  {
"cell_type": "code",
	   "execution_count": null,
	   "metadata": {
	    "collapsed": true
	   },
	   "outputs": [],
"source": [
"//pagenumber 517 example 5\n",
"clear\n",
"induct=500*10^-6;//henry\n",
"induc1=5000*10^-6;//henry\n",
"mutuin=300*10^-6;//henry\n",
"c1=150*10^-12;//farad\n",
"//(a) frequency\n",
"indcto=induct+induc1+2*mutuin;\n",
"freque=1/((2)*3.14*sqrt(indcto*c1));\n",
"//(b) condition\n",
"r=10*10^3;//ohm\n",
"conduc=8*10^-3;//ampere per volt\n",
"r1=50*10^3;//ohm\n",
"r`=r*r1/(r+r1);\n",
"volgai=conduc*r';\n",
"disp('frequency   =   '+string((freque))+'hertz');\n",
"ratio1=(induc1+mutuin)/(induct+mutuin);\n",
"ratio1=ratio1*volgai;\n",
"disp('ratio1 greater than 1 so oscillations possible');\n",
""
   ]
   }
,
{
		   "cell_type": "markdown",
		   "metadata": {},
		   "source": [
			"## Example 11.6: example_6.sce"
		   ]
		  },
  {
"cell_type": "code",
	   "execution_count": null,
	   "metadata": {
	    "collapsed": true
	   },
	   "outputs": [],
"source": [
"//pagenumber 518 example 6\n",
"clear\n",
"cgs=5*10^-12;//farad\n",
"cds=1*10^-12;//farad\n",
"conduct=10*10^-3;//ampere per volt\n",
"rd=50*10^3;//ohm\n",
"r=10*10^6;//ohm\n",
"induct=0.5;//henry\n",
"c1=0.05*10^-12;//farad\n",
"rse=1*10^3;//ohm\n",
"c=1*10^-12;//farad\n",
"//(1) c11\n",
"c11=((((cds*cgs)/(cds+cgs))+1)*c1)/(((cds*cgs)/(cds+cgs))+1+c1);\n",
"disp('resonanting capacitance   =   '+string((c11))+'farad');\n",
"//(2) frequency\n",
"freque=((sqrt(2))/(2*3.14*sqrt(induct*c11)));\n",
"disp('resonant frequency   =   '+string((freque))+'hertz');\n",
"//(3) frequency parallel\n",
"\n",
"freque=1/(2*3.14*sqrt(((induct*c*c1))/(c+c1)));\n",
"disp('parallel resonant frequency   =   '+string((freque))+'hertz');\n",
"//frequency series\n",
"freque=1/((2*3.14*sqrt(induct*c1)));\n",
"disp('series resonant frequency   =   '+string((freque))+'hertz');\n",
"qualit=((induct/c1)^(0.5))/rse;\n",
"disp('quality factor   =   '+string((qualit)));//correction in book\n",
"//(4) loop gain\n",
"abeta1=conduct*rd*cds/cgs;\n",
"disp('loop gain   =   '+string((abeta1)));\n",
"//(5)\n",
"w=r*(cds+cgs);\n",
"disp('bias   =   '+string((w))+'second');"
   ]
   }
,
{
		   "cell_type": "markdown",
		   "metadata": {},
		   "source": [
			"## Example 11.7: example_7.sce"
		   ]
		  },
  {
"cell_type": "code",
	   "execution_count": null,
	   "metadata": {
	    "collapsed": true
	   },
	   "outputs": [],
"source": [
"//pagenumber 519 example 7\n",
"clear\n",
"c=200*10^-12;//farad\n",
"c1=1000*10^-12;//farad\n",
"induct=100*10^-6;//henry\n",
"//(1) frequency\n",
"ceq=(c*c1)/(c+c1);\n",
"freque=1/(2*3.14*(sqrt(induct*ceq)));\n",
"disp('frequency   =   '+string((freque))+'hertz');//correction in the book\n",
"gaimin=c1/c;\n",
"disp('gain   =   '+string((gaimin)));"
   ]
   }
,
{
		   "cell_type": "markdown",
		   "metadata": {},
		   "source": [
			"## Example 11.8: example_8.sce"
		   ]
		  },
  {
"cell_type": "code",
	   "execution_count": null,
	   "metadata": {
	    "collapsed": true
	   },
	   "outputs": [],
"source": [
"//pagenumber 520 example 8\n",
"clear\n",
"induc1=0.4*10^-3;//henry\n",
"c=0.004*10^-6;//farad\n",
"freque=120*10^3;//hertz\n",
"induct=((1/(4*3.14^2*freque^2*c)))-induc1;\n",
"disp('inductance   =   '+string((induct))+'henry');\n",
"\n",
"\n",
"\n",
""
   ]
   }
,
{
		   "cell_type": "markdown",
		   "metadata": {},
		   "source": [
			"## Example 11.9: example_9.sce"
		   ]
		  },
  {
"cell_type": "code",
	   "execution_count": null,
	   "metadata": {
	    "collapsed": true
	   },
	   "outputs": [],
"source": [
"//pagenumber 520 example 9\n",
"clear\n",
"induct=0.33;//henry\n",
"c=0.065*10^-12;//farad\n",
"c1=1*10^-12;//farad\n",
"r=5.5*10^3;//ohm\n",
"//(1) series resonant frequency\n",
"freque=(1/(2*(3.14)))*sqrt(1/((induct)*c));\n",
"disp('frequency   =   '+string((freque))+'hertz');\n",
"//(2)exceed of frequency\n",
"ratio1=sqrt((1+(c/c1)))\n",
"disp('ratio parallel series   =   '+string((ratio1)));//correction in the book\n",
"//(3) quality factor\n",
"qualit=(1/r)*sqrt(induct/c);\n",
"\n",
"disp('quality factor   =   '+string((qualit)));\n",
"\n",
"\n",
""
   ]
   }
],
"metadata": {
		  "kernelspec": {
		   "display_name": "Scilab",
		   "language": "scilab",
		   "name": "scilab"
		  },
		  "language_info": {
		   "file_extension": ".sce",
		   "help_links": [
			{
			 "text": "MetaKernel Magics",
			 "url": "https://github.com/calysto/metakernel/blob/master/metakernel/magics/README.md"
			}
		   ],
		   "mimetype": "text/x-octave",
		   "name": "scilab",
		   "version": "0.7.1"
		  }
		 },
		 "nbformat": 4,
		 "nbformat_minor": 0
}
