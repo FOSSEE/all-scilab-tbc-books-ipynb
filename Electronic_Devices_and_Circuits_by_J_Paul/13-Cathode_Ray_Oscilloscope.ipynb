{
"cells": [
 {
		   "cell_type": "markdown",
	   "metadata": {},
	   "source": [
       "# Chapter 13: Cathode Ray Oscilloscope"
	   ]
	},
{
		   "cell_type": "markdown",
		   "metadata": {},
		   "source": [
			"## Example 13.10: example_10.sce"
		   ]
		  },
  {
"cell_type": "code",
	   "execution_count": null,
	   "metadata": {
	    "collapsed": true
	   },
	   "outputs": [],
"source": [
"//pagenumber 582 example 10\n",
"clear\n",
"y=2.5;//divisions\n",
"y1=1.25;//divisions\n",
"y=y1/y;\n",
"w=asind(y);\n",
"disp('phase angle   =   '+string((w))+'degre');\n",
"\n",
"\n",
"\n",
""
   ]
   }
,
{
		   "cell_type": "markdown",
		   "metadata": {},
		   "source": [
			"## Example 13.1: example_1.sce"
		   ]
		  },
  {
"cell_type": "code",
	   "execution_count": null,
	   "metadata": {
	    "collapsed": true
	   },
	   "outputs": [],
"source": [
"//pagenumber 578 example 1\n",
"clear\n",
"quanti=3*10^17;\n",
"voltag=10*10^3;//volt\n",
"distan=40*10^-3;//metre per minute\n",
"w=quanti*1.6*10^-19*voltag\n",
"w=w/60;//per second\n",
"\n",
"\n",
"disp('power to electrons   =   '+string((w))+'watts');\n",
""
   ]
   }
,
{
		   "cell_type": "markdown",
		   "metadata": {},
		   "source": [
			"## Example 13.2: example_2.sce"
		   ]
		  },
  {
"cell_type": "code",
	   "execution_count": null,
	   "metadata": {
	    "collapsed": true
	   },
	   "outputs": [],
"source": [
"//pagenumber 578 example 2\n",
"clear\n",
"sensit=5;// per centimetre\n",
"q=50*10^-6;//second per centimetre\n",
"petope=5.4;//centimetre\n",
"horiax=8.4;//centimetre\n",
"voltag=petope*sensit;\n",
"voltag=voltag/((2)*sqrt(2));\n",
"//one cycle\n",
"horiax=(horiax/2)*q;\n",
"freque=1/horiax;\n",
"disp('input voltage   =   '+string((voltag))+'volt');\n",
"disp('frequency   =   '+string((freque))+'hertz');\n",
"\n",
"\n",
"disp('vm1coswt vm2sinwt squaring and adding gives ellipse');\n",
"\n",
"\n",
"\n",
""
   ]
   }
,
{
		   "cell_type": "markdown",
		   "metadata": {},
		   "source": [
			"## Example 13.3: example_3.sce"
		   ]
		  },
  {
"cell_type": "code",
	   "execution_count": null,
	   "metadata": {
	    "collapsed": true
	   },
	   "outputs": [],
"source": [
"//pagenumber 579 example 3\n",
"clear\n",
"voltag=1000;//volt\n",
"//(1) velocity\n",
"vx=sqrt(2*1.6*10^-19*(voltag)/(9.11*10^-31));\n",
"disp('velocity x   =   '+string((vx))+'metre per second');\n",
"vox=1*10^5;//metre per second intial velocity\n",
"vx=sqrt((vox)+((2*1.6*10^-19*voltag)/(2.01*1.66*10^-27)));\n",
"\n",
"disp('velocity x   =   '+string((vx))+'metre per second');\n",
""
   ]
   }
,
{
		   "cell_type": "markdown",
		   "metadata": {},
		   "source": [
			"## Example 13.4: example_4.sce"
		   ]
		  },
  {
"cell_type": "code",
	   "execution_count": null,
	   "metadata": {
	    "collapsed": true
	   },
	   "outputs": [],
"source": [
"//pagenumber 580 example 4\n",
"clear\n",
"voltag=2000;//volt\n",
"d=15;//centimetre\n",
"d1=3;//centimetre\n",
"r1=((d^2+d1^2)/(6))*10^-2;//centimetre to metre\n",
"vox=sqrt(2*1.6*10^-19*(voltag)/(9.11*10^-31));\n",
"b=vox/((1.6*10^-19*r1)/(9.11*10^-31));\n",
"\n",
"disp('transverse magnetic field   =   '+string((b))+'weber per metre square');\n",
""
   ]
   }
,
{
		   "cell_type": "markdown",
		   "metadata": {},
		   "source": [
			"## Example 13.5: example_5.sce"
		   ]
		  },
  {
"cell_type": "code",
	   "execution_count": null,
	   "metadata": {
	    "collapsed": true
	   },
	   "outputs": [],
"source": [
"//pagenumber 581 example 5\n",
"clear\n",
"voltag=2000;//volt\n",
"d=2*10^-2;//metre\n",
"//(1) frequency\n",
"vx=sqrt(2*1.6*10^-19*(voltag)/(9.11*10^-31));\n",
"durati=d/vx;\n",
"freque=1/(2*durati);\n",
"disp('max frequency   '+string((freque))+'hertz');\n",
"//(2)\n",
"durati=60*durati;\n",
"disp('duration electron between the plates   =   '+string((durati))+'second');//correction in book\n",
"\n",
"\n",
""
   ]
   }
,
{
		   "cell_type": "markdown",
		   "metadata": {},
		   "source": [
			"## Example 13.7: example_7.sce"
		   ]
		  },
  {
"cell_type": "code",
	   "execution_count": null,
	   "metadata": {
	    "collapsed": true
	   },
	   "outputs": [],
"source": [
"//pagenumber 582 example 7\n",
"clear\n",
"voltag=800;//volt\n",
"\n",
"\n",
"q=1.6*10^-19;//coulomb\n",
"m=9.11*10^-31;//kilogram\n",
"vox=sqrt(2*q*voltag/m);\n",
"\n",
"disp('max velocity   '+string((vox))+'metre per second');\n",
""
   ]
   }
,
{
		   "cell_type": "markdown",
		   "metadata": {},
		   "source": [
			"## Example 13.8: example_8.sce"
		   ]
		  },
  {
"cell_type": "code",
	   "execution_count": null,
	   "metadata": {
	    "collapsed": true
	   },
	   "outputs": [],
"source": [
"//pagenumber 582 example 8\n",
"clear\n",
"voltag=2000;//volt\n",
"d=1.5*10^-2;//centimetre\n",
"d1=5*10^-3;//metre\n",
"distan=50*10^-2;//metre\n",
"//(1) velocity\n",
"vox=sqrt(2*1.6*10^-19*(voltag)/(9.11*10^-31));\n",
"//(2) sensitivity\n",
"defsen=distan*d/(2*d1*voltag);\n",
"//deflection factor\n",
"g=1/defsen;\n",
"disp('velocity   =   '+string((vox))+'metre per second');\n",
"disp('sensitivity   =   '+string((defsen))+'metre per volt');\n",
"\n",
"disp('deflection factor   =   '+string((g))+'volt per metre');//correction in the book\n",
"\n",
"\n",
""
   ]
   }
,
{
		   "cell_type": "markdown",
		   "metadata": {},
		   "source": [
			"## Example 13.9: example_9.sce"
		   ]
		  },
  {
"cell_type": "code",
	   "execution_count": null,
	   "metadata": {
	    "collapsed": true
	   },
	   "outputs": [],
"source": [
"//pagenumber 582 example 9\n",
"clear\n",
"voltag=2000;//volt\n",
"d=50*10^-3;//metre\n",
"//(1) velocity\n",
"vox=sqrt(2*1.6*10^-19*(voltag)/(9.11*10^-31));\n",
"disp('velocity   =   '+string((vox))+'metre per second');\n",
"//(2) fc\n",
"fc=vox/(4*d);\n",
"\n",
"disp('fc   =   '+string((fc))+'hertz');"
   ]
   }
],
"metadata": {
		  "kernelspec": {
		   "display_name": "Scilab",
		   "language": "scilab",
		   "name": "scilab"
		  },
		  "language_info": {
		   "file_extension": ".sce",
		   "help_links": [
			{
			 "text": "MetaKernel Magics",
			 "url": "https://github.com/calysto/metakernel/blob/master/metakernel/magics/README.md"
			}
		   ],
		   "mimetype": "text/x-octave",
		   "name": "scilab",
		   "version": "0.7.1"
		  }
		 },
		 "nbformat": 4,
		 "nbformat_minor": 0
}
