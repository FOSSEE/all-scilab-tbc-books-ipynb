{
"cells": [
 {
		   "cell_type": "markdown",
	   "metadata": {},
	   "source": [
       "# Chapter 6: BJT at high frequency"
	   ]
	},
{
		   "cell_type": "markdown",
		   "metadata": {},
		   "source": [
			"## Example 6.1: example_1.sce"
		   ]
		  },
  {
"cell_type": "code",
	   "execution_count": null,
	   "metadata": {
	    "collapsed": true
	   },
	   "outputs": [],
"source": [
"//pagenumber 337 example 1\n",
"clear\n",
"colcur=10*10^-3;//ampere\n",
"vce=10;//volt\n",
"hie=500;//ohm\n",
"hoe=4*10^-5;\n",
"hfe=100;\n",
"hre=1*10^-4;\n",
"fqu=50*10^6;//hertz\n",
"q=3*10^12;//farad\n",
"voltag=26*10^-3;//volt\n",
"g=colcur/voltag;\n",
"gbe=g/hfe;\n",
"gbc=gbe*hre;\n",
"rbb=hie-260;\n",
"oucond=hoe-(1+hfe)*gbc;\n",
"cbe=g/(2*3.14*fqu);\n",
"rbc=1/gbc;\n",
"rce=1/oucond;\n",
"disp('transconductance g   =   '+string((g))+'ampere/volt');\n",
"disp('input conductance gbe   =   '+string((gbe))+'ampere/volt');\n",
"disp('feedback conductance gbc   =   '+string((gbc))+'ampere/volt');\n",
"disp('base spread resistance rbb   =   '+string((rbb))+'ohm');\n",
"disp('output conductance   =   '+string((oucond))+'ampere/volt');\n",
"disp('transition capacitance cbe   =   '+string((cbe))+'farad');\n",
"disp('rbc    =   '+string((rbc))+'ohm');//correction as 2.6mega ohm\n",
"disp('rce   =   '+string((rce))+'ohm');\n",
"\n",
""
   ]
   }
,
{
		   "cell_type": "markdown",
		   "metadata": {},
		   "source": [
			"## Example 6.2: example_2.sce"
		   ]
		  },
  {
"cell_type": "code",
	   "execution_count": null,
	   "metadata": {
	    "collapsed": true
	   },
	   "outputs": [],
"source": [
"//pagenumber 337 example 2\n",
"clear\n",
"colcur=5*10^-3;//ampere\n",
"vce=10;//volt\n",
"hfe=100;\n",
"hie=600;//ohm\n",
"cugain=10;\n",
"fqu=10*10^6;//hertz\n",
"\n",
"tracat=3*10^-12;//farad\n",
"voltag=26*10^-3;//volt\n",
"fbeta1=((((hfe^2)/(cugain^2))-1)/fqu^2)^(1/2);\n",
"fbeta1=1/fbeta1;\n",
"fq1=hfe*fbeta1;\n",
"cbe=colcur/(2*3.14*fq1*voltag);\n",
"rbe=hfe/(colcur/voltag);\n",
"rbb=hie-rbe;\n",
"disp('fbeta   =   '+string((fbeta1))+'hertz');\n",
"disp('f   =   '+string((fq1))+'hertz');\n",
"disp('cbe   =   '+string((cbe))+'farad');\n",
"disp('rbe   =   '+string((rbe))+'ohm');\n",
"disp('rbb   =   '+string((rbb))+'ohm');\n",
""
   ]
   }
,
{
		   "cell_type": "markdown",
		   "metadata": {},
		   "source": [
			"## Example 6.3: example_3.sce"
		   ]
		  },
  {
"cell_type": "code",
	   "execution_count": null,
	   "metadata": {
	    "collapsed": true
	   },
	   "outputs": [],
"source": [
"//pagenumber 338 example 3\n",
"clear\n",
"w=1*10^-4;//centimetre\n",
"em1cur=2*10^-3;//ampere\n",
"q=47;\n",
"voltag=26*10^-3;//volt\n",
"cde=(em1cur*w^2)/(voltag*2*q);\n",
"fq1=(em1cur)/(2*3.14*cde*voltag);\n",
"disp('cde   =   '+string((cde))+'farad');\n",
"disp('frequency   =   '+string((fq1))+'hertz');\n",
""
   ]
   }
,
{
		   "cell_type": "markdown",
		   "metadata": {},
		   "source": [
			"## Example 6.6: example_6.sce"
		   ]
		  },
  {
"cell_type": "code",
	   "execution_count": null,
	   "metadata": {
	    "collapsed": true
	   },
	   "outputs": [],
"source": [
"//pagenumber 339 example 6\n",
"clear\n",
"w=5*10^-4;//centimetre\n",
"em1cur=2*10^-3;//ampere\n",
"q=47;\n",
"voltag=26*10^-3;//volt\n",
"re=voltag/em1cur;\n",
"fq1=2*q/(w^2*2*3.14);\n",
"cde=(em1cur*w^2)/(voltag*2*q);\n",
"w=(w^2)/(2*q);\n",
"disp('re   =   '+string((re))+'ohm');\n",
"disp('falpha   =   '+string((fq1))+'hertz');\n",
"disp('cde   =   '+string((cde))+'farad');\n",
"\n",
"\n",
"disp('w   =   '+string((w))+'second');\n",
"\n",
"\n",
""
   ]
   }
,
{
		   "cell_type": "markdown",
		   "metadata": {},
		   "source": [
			"## Example 6.8: example_8.sce"
		   ]
		  },
  {
"cell_type": "code",
	   "execution_count": null,
	   "metadata": {
	    "collapsed": true
	   },
	   "outputs": [],
"source": [
"//pagenumber example 8\n",
"clear\n",
"w=10^-6;//centimetre\n",
"em1cur=4*10^-3;//ampere\n",
"voltag=26*10^-3;//volt\n",
"q=47;\n",
"cde=(em1cur*w^2)/(voltag*2*q);\n",
"fq1=(em1cur)/(2*3.14*cde*voltag);\n",
"disp('f   =   '+string((fq1))+'hertz');\n",
"disp('cde   =   '+string((cde))+'farad');//correction in book 0.0016pico farad\n",
""
   ]
   }
],
"metadata": {
		  "kernelspec": {
		   "display_name": "Scilab",
		   "language": "scilab",
		   "name": "scilab"
		  },
		  "language_info": {
		   "file_extension": ".sce",
		   "help_links": [
			{
			 "text": "MetaKernel Magics",
			 "url": "https://github.com/calysto/metakernel/blob/master/metakernel/magics/README.md"
			}
		   ],
		   "mimetype": "text/x-octave",
		   "name": "scilab",
		   "version": "0.7.1"
		  }
		 },
		 "nbformat": 4,
		 "nbformat_minor": 0
}
