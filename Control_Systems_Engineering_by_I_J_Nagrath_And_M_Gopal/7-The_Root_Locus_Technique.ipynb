{
"cells": [
 {
		   "cell_type": "markdown",
	   "metadata": {},
	   "source": [
       "# Chapter 7: The Root Locus Technique"
	   ]
	},
{
		   "cell_type": "markdown",
		   "metadata": {},
		   "source": [
			"## Example 7.10: root_locus.sce"
		   ]
		  },
  {
"cell_type": "code",
	   "execution_count": null,
	   "metadata": {
	    "collapsed": true
	   },
	   "outputs": [],
"source": [
"syms Kh\n",
"s=%s;\n",
"G=syslin('c',10*Kh*(s+0.04)*(s+1)/((s+0.5)*(s^2-(0.4*s)+0.2)*(s+8)));\n",
"evans(G,3)\n",
"Kh=kpure(G)\n",
"K=10*Kh\n",
"zeta=1/(2)^(1/2);\n",
"wn=.575;\n",
"sgrid(zeta,wn)\n",
"K=-1/real((2*horner(G,[1 %i]*locate(1))));\n",
"printf('The zeta=1/(2)^1/2 line intersects the root locus at two points with K1=1.155 and K2=0.79')\n",
"Kh1=0.156;\n",
"Kh2=0.079;\n",
"//  from the block diagram \n",
"Td(s)=1/s;\n",
"E(s)=C(s)=G/(1+(G*Kh*(s+1))/(s+8))*Td(s);\n",
"// substituting value of G\n",
"F=s*E(s)=10*Kh/(1+(10*Kh));\n",
"// steay state error\n",
"ess=limit(F,s,0)\n",
"// for Kh1=0.156\n",
"ess=0.609;\n",
"// for Kh2=0.079\n",
"ess=0.44;\n",
"\n",
"\n",
""
   ]
   }
,
{
		   "cell_type": "markdown",
		   "metadata": {},
		   "source": [
			"## Example 7.1: root_locus.sce"
		   ]
		  },
  {
"cell_type": "code",
	   "execution_count": null,
	   "metadata": {
	    "collapsed": true
	   },
	   "outputs": [],
"source": [
"s=%s;\n",
"syms k\n",
"H=syslin('c',(k*(s+1)*(s+2))/(s*(s+3)*(s+4)));\n",
"evans(H,5)\n",
"printf('There are three branches of root locus starting with K=0 and poles s=0,-3,-4.')\n",
"printf('As k increases two branches terminate at zeros s=-1,-2 and one at infinity')"
   ]
   }
,
{
		   "cell_type": "markdown",
		   "metadata": {},
		   "source": [
			"## Example 7.2: root_locus.sce"
		   ]
		  },
  {
"cell_type": "code",
	   "execution_count": null,
	   "metadata": {
	    "collapsed": true
	   },
	   "outputs": [],
"source": [
"s=%s;\n",
"syms k\n",
"H=syslin('c',1+(k/(s*(s+1)*(s+2))));\n",
"evans(H,5)\n",
"printf('The branches of root locus starts with K=0 and poles s=0,-1,-2.')\n",
"printf('Since there is no open loop zero the branches terminate at infinity')"
   ]
   }
,
{
		   "cell_type": "markdown",
		   "metadata": {},
		   "source": [
			"## Example 7.3: root_locus.sce"
		   ]
		  },
  {
"cell_type": "code",
	   "execution_count": null,
	   "metadata": {
	    "collapsed": true
	   },
	   "outputs": [],
"source": [
"s=%s;\n",
"syms k\n",
"H=syslin('c',1+(k/(s*(s+1)*(s+2))))\n",
"evans(H,5)\n",
"d=derivat(H)\n",
"p=numer(d)\n",
"a=roots(p)  // a=breakaway point\n",
"disp(a,'breakaway ppoint=')\n",
"\n",
" "
   ]
   }
,
{
		   "cell_type": "markdown",
		   "metadata": {},
		   "source": [
			"## Example 7.4: root_locus.sce"
		   ]
		  },
  {
"cell_type": "code",
	   "execution_count": null,
	   "metadata": {
	    "collapsed": true
	   },
	   "outputs": [],
"source": [
"s=%s;\n",
"syms k\n",
"H=syslin('c',k/(s*(s+4)*(s^2+(4*s)+20)))\n",
"evans(H,1000)\n",
"printf('Since there are no open loop zeros all branches terminate at infimity')"
   ]
   }
,
{
		   "cell_type": "markdown",
		   "metadata": {},
		   "source": [
			"## Example 7.6: root_locus.sce"
		   ]
		  },
  {
"cell_type": "code",
	   "execution_count": null,
	   "metadata": {
	    "collapsed": true
	   },
	   "outputs": [],
"source": [
"s=%s;\n",
"syms k\n",
"H=syslin('c',k/(s*(s+3)*(s^2+(2*s)+2)))\n",
"evans(H,10)"
   ]
   }
,
{
		   "cell_type": "markdown",
		   "metadata": {},
		   "source": [
			"## Example 7.8: root_locus.sce"
		   ]
		  },
  {
"cell_type": "code",
	   "execution_count": null,
	   "metadata": {
	    "collapsed": true
	   },
	   "outputs": [],
"source": [
"syms K\n",
"s=%s;\n",
"G=syslin('c',(K*(s+1)*(s+2))/((s+0.1)*(s-1)))\n",
"evans(G)\n",
"n=2;\n",
"disp(n,'no of poles=')\n",
"m=2;\n",
"disp(m,'no of zeroes=')\n",
"K=kpure(G)\n",
"disp(K,'value of K where RL crosses jw axis=')\n",
"d=derivat(G)\n",
"p=numer(d)\n",
"a=roots(p);    // a=breakaway points\n",
"disp(a,'breakaway points=')\n",
"for i=1:2\n",
"    K=-(a(i,1)+0.1)*(a(i,1)-1)/((a(i,1)+1)*(a(i,1)+2))\n",
"    disp(a(i,1),'s=')\n",
"    disp(K,'K=')\n",
"end\n",
"printf('zeta=1 is achieved when the two roots are equal and negative(real).This happens at the breakaway point in the left half s-plane/n')\n",
"zeta=1;\n",
"wn=0.6;\n",
"sgrid(zeta,wn)\n",
"K=-1/real(horner(G,[1 %i]*locate(1)));\n",
"disp(K,'The corresponding value of gain is=')\n",
""
   ]
   }
,
{
		   "cell_type": "markdown",
		   "metadata": {},
		   "source": [
			"## Example 7.9: root_locus.sce"
		   ]
		  },
  {
"cell_type": "code",
	   "execution_count": null,
	   "metadata": {
	    "collapsed": true
	   },
	   "outputs": [],
"source": [
"syms K\n",
"s=%s;\n",
"G=syslin('c',(K*(s+4/3))/(s^2*(s+12)))\n",
"evans(G,60)\n",
"d=derivat(G)\n",
"p=numer(d)\n",
"a=roots(p)    // a=breakaway points\n",
"disp(a,'Breakaway points=')\n",
"printf('Equal roots are at s=-4')\n",
"printf('/n Value of K at s=-4=')\n",
"K=4*4*8/(4-(4/3))\n",
"disp(K)"
   ]
   }
],
"metadata": {
		  "kernelspec": {
		   "display_name": "Scilab",
		   "language": "scilab",
		   "name": "scilab"
		  },
		  "language_info": {
		   "file_extension": ".sce",
		   "help_links": [
			{
			 "text": "MetaKernel Magics",
			 "url": "https://github.com/calysto/metakernel/blob/master/metakernel/magics/README.md"
			}
		   ],
		   "mimetype": "text/x-octave",
		   "name": "scilab",
		   "version": "0.7.1"
		  }
		 },
		 "nbformat": 4,
		 "nbformat_minor": 0
}
