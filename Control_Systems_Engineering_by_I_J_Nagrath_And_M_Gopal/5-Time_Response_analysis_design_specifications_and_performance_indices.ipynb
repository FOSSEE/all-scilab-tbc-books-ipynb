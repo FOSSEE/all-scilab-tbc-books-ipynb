{
"cells": [
 {
		   "cell_type": "markdown",
	   "metadata": {},
	   "source": [
       "# Chapter 5: Time Response analysis design specifications and performance indices"
	   ]
	},
{
		   "cell_type": "markdown",
		   "metadata": {},
		   "source": [
			"## Example 5.2_2: steady_state_error.sce"
		   ]
		  },
  {
"cell_type": "code",
	   "execution_count": null,
	   "metadata": {
	    "collapsed": true
	   },
	   "outputs": [],
"source": [
"// given Qi(s)=0.04/s^2\n",
"Qi=0.04/s^2;\n",
"e=limit(s*Qi*H,s,0)\n",
"disp(e,'Steady stste eror=')"
   ]
   }
,
{
		   "cell_type": "markdown",
		   "metadata": {},
		   "source": [
			"## Example 5.2: steady_state_error.sce"
		   ]
		  },
  {
"cell_type": "code",
	   "execution_count": null,
	   "metadata": {
	    "collapsed": true
	   },
	   "outputs": [],
"source": [
"s=%s\n",
"syms K J f\n",
"K=60; // given\n",
"J=10; // given\n",
"p=K/J\n",
"q=K/J+(f/J)*s+s^2\n",
"G=p/q;\n",
"disp(G,'Qo(s)/Qi(s)=')\n",
"zeta=0.3;  // given\n",
"cof1=coeffs(q,'s',0)\n",
"// on comparing the coefficients\n",
"Wn=sqrt(cof1)\n",
"cof2=coeffs(q,'s',1)\n",
"// 2*zeta*Wn=cof2\n",
"f/J=2*zeta*Wn\n",
"r=s^2+f/J\n",
"s=s^2+f/J+K/J\n",
"H=r/s;\n",
"disp(H,'Qe(s)/Qi(s)=')\n",
""
   ]
   }
,
{
		   "cell_type": "markdown",
		   "metadata": {},
		   "source": [
			"## Example 5.3_2: transfer_function.sce"
		   ]
		  },
  {
"cell_type": "code",
	   "execution_count": null,
	   "metadata": {
	    "collapsed": true
	   },
	   "outputs": [],
"source": [
"s=%s;\n",
"syms Kp Ka Kt Kd J f\n",
"// given \n",
"J=0.4; \n",
"Kp=0.6; \n",
"Kt=2; \n",
"f=2;\n",
"Ka=5;\n",
"p=Kp*Ka*Kt\n",
"q=s^2+((f+Ka*Kd*Kt)/J)*s+(Kp*Ka*Kt)/J\n",
"G=p/q;\n",
"disp(G,'Qm(s)/Qr(s)=')\n",
"cof_1=coeffs(q,'s',0)\n",
"// on comparing the coefficients\n",
"Wn=sqrt(cof_1)\n",
"zeta=1 // given\n",
"cof_2=coeffs(q,'s',1)\n",
"// 2*zeta*Wn=cof_2\n",
"Kd=(2*zeta*sqrt(Kp*J*Ka*Kt)-f)/(Ka*Kt)\n",
"disp(Kd,'Tachogenertor constant=')"
   ]
   }
,
{
		   "cell_type": "markdown",
		   "metadata": {},
		   "source": [
			"## Example 5.3: transfer_function.sce"
		   ]
		  },
  {
"cell_type": "code",
	   "execution_count": null,
	   "metadata": {
	    "collapsed": true
	   },
	   "outputs": [],
"source": [
"s=%s;\n",
"syms Kp Ka Kt J f\n",
"// given \n",
"J=0.4; \n",
"Kp=0.6; \n",
"Kt=2; \n",
"f=2;\n",
"p=Kp*Ka*Kt\n",
"q=s^2+f/J+(Kp*Ka*Kt)/J\n",
"G=p/q;\n",
"disp(G,'Qm(s)/Qr(s)=')\n",
"cof_1=coeffs(q,'s',0)\n",
"// on comparing the coefficients\n",
"// Wn=sqrt(cof_1)\n",
"Wn=10;\n",
"Ka=(Wn)^2*J/(Kp*f)\n",
"disp(Ka,'Amplifier Constant=')"
   ]
   }
,
{
		   "cell_type": "markdown",
		   "metadata": {},
		   "source": [
			"## Example 5.4_1: steady_state_error.sce"
		   ]
		  },
  {
"cell_type": "code",
	   "execution_count": null,
	   "metadata": {
	    "collapsed": true
	   },
	   "outputs": [],
"source": [
"syms Wn zeta Kv Ess\n",
"s=%s;\n",
"p=poly([8 2 1],'s','coeff'); // characteristic equation\n",
"z=coeff(p);\n",
"Wn=sqrt(z(1,1))\n",
"zeta=z(1,2)/(2*Wn)\n",
"Kv=z(1,1)/z(1,2)\n",
"Ess=1/Kv  // Steady state error for unit ramp i/p\n",
"disp(Ess,'Steady state Error=')"
   ]
   }
,
{
		   "cell_type": "markdown",
		   "metadata": {},
		   "source": [
			"## Example 5.4_2: steady_state_error.sce"
		   ]
		  },
  {
"cell_type": "code",
	   "execution_count": null,
	   "metadata": {
	    "collapsed": true
	   },
	   "outputs": [],
"source": [
"// with derivative feedback\n",
"// characteristic equation is\n",
"syms a\n",
"s=%s;\n",
"p=s^2+(2+(8*a))*s+8=0\n",
"zeta=0.7 // given\n",
"Wn=2.828;\n",
"cof_1=coeffs(p,'s',1)\n",
"// on comparing 2*zeta*Wn=cof_1\n",
"a=((2*zeta*Wn)-2)/8\n",
"disp(a,'Derivative feedback=')\n",
"cof_2=coeffs(p,'s',0)\n",
"cof_1=2+8*0.245;\n",
"Kv=cof_2/cof_1;\n",
"Ess=1/Kv\n",
"disp(Ess,'Steady state error=')"
   ]
   }
,
{
		   "cell_type": "markdown",
		   "metadata": {},
		   "source": [
			"## Example 5.4_3: steady_state_error.sce"
		   ]
		  },
  {
"cell_type": "code",
	   "execution_count": null,
	   "metadata": {
	    "collapsed": true
	   },
	   "outputs": [],
"source": [
"// let the char equation be\n",
"syms Ka\n",
"s=%s;\n",
"p=s^2+(2+(a*Ka))*s+Ka=0\n",
"cof_1=coeffs(p,'s',0)\n",
"// Wn^2=cof_1\n",
"Wn=sqrt(cof_1)\n",
"cof_2=coeffs(p,'s',1)\n",
"// 2*zeta*Wn=cof_2\n",
"Kv=cof_1/cof_2;\n",
"Ess=1/Kv;\n",
"// given Ess=0.25\n",
"Ess=0.25;\n",
"Ka=2/(Ess-a)\n",
"disp(Ka.'Ka=')"
   ]
   }
,
{
		   "cell_type": "markdown",
		   "metadata": {},
		   "source": [
			"## Example 5.8: steady_state_error.sce"
		   ]
		  },
  {
"cell_type": "code",
	   "execution_count": null,
	   "metadata": {
	    "collapsed": true
	   },
	   "outputs": [],
"source": [
"s=%s;\n",
"syms K V\n",
"p=s^2+(100*K)*s+100=0\n",
"cof_1=coeffs(p,'s',0)\n",
"Wn=sqrt(cof_1)\n",
"zeta=1 // given\n",
"cof_2=coeffs(p,'s',1)\n",
"// 2*zeta*Wn=cof_2\n",
"K=(2*Wn*zeta)/100\n",
"// For ramp input\n",
"R=V/s^2\n",
"E=R/p\n",
"// steady state error\n",
"e=limit(s*E(s),s,0)\n",
"disp(e,'e(ss)=')"
   ]
   }
,
{
		   "cell_type": "markdown",
		   "metadata": {},
		   "source": [
			"## Example 5.9: state_variable_analysis.sce"
		   ]
		  },
  {
"cell_type": "code",
	   "execution_count": null,
	   "metadata": {
	    "collapsed": true
	   },
	   "outputs": [],
"source": [
"s=%s;\n",
"syms t m\n",
"A=[0 1;-100 -20];\n",
"B=[0;100];\n",
"C=[1 0];\n",
"x=[0;0];\n",
"[r c]=size(A)\n",
"p=s*eye(r,c)-A\n",
"q=inv(p);\n",
"disp(q,'phi(s)=') // Resolvant matrix\n",
"for i=1:r;\n",
"for j=1:c;\n",
"q(i,j)=ilaplace(q(i,j),s,t)\n",
"end\n",
"end\n",
"disp(q,'phi(t)=') // State transition matrix\n",
"t=t-m;\n",
"q=eval(q)\n",
"// Integrate q w.r.t m\n",
"r=integrate(q*B,m)\n",
"m=0    // Upper limit is t\n",
"g=eval(r)  // Puting upper limit in q\n",
"m=t // Lower limit is 0\n",
"h=eval(r)   // Putting lower limit in q\n",
"y=(h-g);\n",
"disp(y,'y=')\n",
"printf('x(t)=phi(t)*x(0)+integrate(phi(t-m*B) w.r.t m from 0 to t)')\n",
"y1=(q*x)+y;\n",
"disp(y1,'x(t)=')\n",
"// transfer function\n",
"t=C*q*B;\n",
"disp(t,'T(s)=')"
   ]
   }
],
"metadata": {
		  "kernelspec": {
		   "display_name": "Scilab",
		   "language": "scilab",
		   "name": "scilab"
		  },
		  "language_info": {
		   "file_extension": ".sce",
		   "help_links": [
			{
			 "text": "MetaKernel Magics",
			 "url": "https://github.com/calysto/metakernel/blob/master/metakernel/magics/README.md"
			}
		   ],
		   "mimetype": "text/x-octave",
		   "name": "scilab",
		   "version": "0.7.1"
		  }
		 },
		 "nbformat": 4,
		 "nbformat_minor": 0
}
