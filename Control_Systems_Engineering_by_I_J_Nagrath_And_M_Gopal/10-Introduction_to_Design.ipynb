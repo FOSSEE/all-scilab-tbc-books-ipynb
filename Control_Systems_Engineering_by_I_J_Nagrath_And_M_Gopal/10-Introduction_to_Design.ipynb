{
"cells": [
 {
		   "cell_type": "markdown",
	   "metadata": {},
	   "source": [
       "# Chapter 10: Introduction to Design"
	   ]
	},
{
		   "cell_type": "markdown",
		   "metadata": {},
		   "source": [
			"## Example 10.6: lead_compensation.sce"
		   ]
		  },
  {
"cell_type": "code",
	   "execution_count": null,
	   "metadata": {
	    "collapsed": true
	   },
	   "outputs": [],
"source": [
"s=%s;\n",
"syms Kv;\n",
"g=(Kv/(s*(s+1)));\n",
"// given Kv=12\n",
"Kv=12;\n",
"g=(12/(s*(s+1)));\n",
"G=syslin('c',g)\n",
"fmin=0.01;\n",
"fmax=100;\n",
"bode(G,fmin,fmax)\n",
"show_margins(G)\n",
"xtitle('uncompensated system')\n",
"[gm,freqGM]=g_margin(G)\n",
"[pm,freqPM]=p_margin(G)\n",
"disp(gm,'gain_margin=')\n",
"disp((freqGM*2*%pi),'gain margin freq=');\n",
"disp(pm,'phase margin=')\n",
"disp((freqPM*2*%pi),'phase margin freq=');\n",
"printf('since P.M is less than desired value so we need phase lead network')\n",
"disp('selecting zero of lead compensting network at w=2.65rad/sec and pole at w=7.8rad/sec and applying gain to account attenuation factor.')\n",
"gc=(1+0.377*s)/(1+0.128*s)\n",
"Gc=syslin('c',gc)\n",
"disp(Gc,'transfer function of lead compensator=');\n",
"G1=G*Gc\n",
"disp(G1,'overall transfer function=');\n",
"fmin=0.01;\n",
"fmax=100;\n",
"bode(G1,fmin,fmax);\n",
"show_margins(G1)\n",
"xtitle('compensated system')\n",
"[gm,freqGM]=g_margin(G1);\n",
"[pm,freqPM]=p_margin(G1);\n",
"disp(pm,'phase margin of compensated system=')\n",
"disp((freqPM*2*%pi),'gain cross over frequency=')"
   ]
   }
,
{
		   "cell_type": "markdown",
		   "metadata": {},
		   "source": [
			"## Example 10.7: lead_compensation.sce"
		   ]
		  },
  {
"cell_type": "code",
	   "execution_count": null,
	   "metadata": {
	    "collapsed": true
	   },
	   "outputs": [],
"source": [
"s=%s;\n",
"syms Ka;\n",
"g=(Ka/(s^2*(1+0.2*s)));\n",
"// given Ka=10\n",
"Ka=10;\n",
"g=(10/(s^2*(1+0.2*s)));\n",
"G=syslin('c',g)\n",
"fmin=0.01;\n",
"fmax=100;\n",
"bode(G,fmin,fmax)\n",
"show_margins(G)\n",
"xtitle('uncompensated system')\n",
"[gm,freqGM]=g_margin(G)\n",
"[pm,freqPM]=p_margin(G)\n",
"disp(gm,'gain_margin=')\n",
"disp((freqGM*2*%pi),'gain margin freq=');\n",
"disp(pm,'phase margin=')\n",
"disp((freqPM*2*%pi),'phase margin freq=');\n",
"disp('since P.M is negative so system is unstable')\n",
"disp('selecting zero of lead compensating network at w=2.8 rad/sec and pole at w=14 rad/sec and applying gain to account attenuation factor.')\n",
"gc=(1+0.358*s)/(1+0.077*s)\n",
"Gc=syslin('c',gc)\n",
"disp(Gc,'transfer function of lead compensator=');\n",
"G1=G*Gc\n",
"disp(G1,'overall transfer function=');\n",
"fmin=0.01;\n",
"fmax=100;\n",
"bode(G1,fmin,fmax);\n",
"show_margins(G1)\n",
"xtitle('compensated system')\n",
"[gm,freqGM]=g_margin(G1);\n",
"[pm,freqPM]=p_margin(G1);\n",
"disp(pm,'phase margin of compensated system=')\n",
"disp((freqPM*2*%pi),'gain cross over frequency=')"
   ]
   }
,
{
		   "cell_type": "markdown",
		   "metadata": {},
		   "source": [
			"## Example 10.8: lag_compnsation.sce"
		   ]
		  },
  {
"cell_type": "code",
	   "execution_count": null,
	   "metadata": {
	    "collapsed": true
	   },
	   "outputs": [],
"source": [
"s=%s;\n",
"syms K;\n",
"g=(K/(s*(s+1)*(s+4)));\n",
"g=((K/4)/(s*(s+1)*(0.25*s+1)))\n",
"// given Kv=5 :velocity error constant\n",
"K=20;\n",
"g=(5/(s*(s+1)*(0.25*s+1)))\n",
"G=syslin('c',g)\n",
"fmin=0.01;\n",
"fmax=100;\n",
"bode(G,fmin,fmax)\n",
"show_margins(G)\n",
"xtitle('uncompensated system')\n",
"[gm,freqGM]=g_margin(G)\n",
"[pm,freqPM]=p_margin(G)\n",
"disp(gm,'gain_margin=')\n",
"disp((freqGM*2*%pi),'gain margin freq=');\n",
"disp(pm,'phase margin=')\n",
"disp((freqPM*2*%pi),'phase margin freq=');\n",
"disp('since P.M is negative so system is unstable')\n",
"disp('selecting zero of phase lag network at w=0.013 rad/sec and pole at w=0.13 rad/sec and applying gain to account attenuation factor')\n",
"gc=((s+0.13)/(10*(s+0.013)))\n",
"Gc=syslin('c',gc)\n",
"disp(Gc,'transfer function of lag compensator=');\n",
"G1=G*Gc\n",
"disp(G1,'overall transfer function=');\n",
"fmin=0.01;\n",
"fmax=100;\n",
"bode(G1,fmin,fmax);\n",
"show_margins(G1)\n",
"xtitle('compensated system')\n",
"[gm,freqGM]=g_margin(G1);\n",
"[pm,freqPM]=p_margin(G1);\n",
"disp(pm,'phase margin of compensated system=')\n",
"disp((freqPM*2*%pi),'gain cross over frequency=')"
   ]
   }
,
{
		   "cell_type": "markdown",
		   "metadata": {},
		   "source": [
			"## Example 10.9: lag_and_lead_compensation.sce"
		   ]
		  },
  {
"cell_type": "code",
	   "execution_count": null,
	   "metadata": {
	    "collapsed": true
	   },
	   "outputs": [],
"source": [
"s=%s;\n",
"syms K;\n",
"g=(K/(s*(0.1*s+1)*(0.2*s+1)));\n",
"// given Kv=30 :velocity error constsnt\n",
"K=30;\n",
"g=(30/(s*(0.1*s+1)*(0.2*s+1)))\n",
"G=syslin('c',g)\n",
"fmin=0.01;\n",
"fmax=100;\n",
"bode(G,fmin,fmax)\n",
"show_margins(G)\n",
"xtitle('uncompensated system')\n",
"[gm,freqGM]=g_margin(G)\n",
"[pm,freqPM]=p_margin(G)\n",
"disp(gm,'gain_margin=')\n",
"disp((freqGM*2*%pi),'gain margin freq=');\n",
"disp(pm,'phase margin=')\n",
"disp((freqPM*2*%pi),'phase margin freq=');\n",
"disp('since P.M is negative so system is unstable')\n",
"disp('If lead compenstion is used bandwidth will increase resulting in undesirable system sensitive to noise. If lag compensation is used bandwidth decreases so as to fall short of specified value of 12 rad/sec resulting in sluggish system')\n",
"disp('/n hence we use a lag-lead compensator')\n",
"// lag compensator\n",
"disp('selecting zero of phase lag network w=1 rad/sec and pole at w=0.1 rad/sec and applying gain to account attenuation factor')\n",
"gc1=((s+1)/(10*s+1));\n",
"Gc1=syslin('c',gc1)\n",
"disp(Gc1,'transfer function of lag compensator')\n",
"// lead compensator\n",
"disp('selecting zero of lead compensator at w=0.425rad/sec and pole at w=0.0425rad/sec ')\n",
"gc2=((0.425*s+1)/(0.0425*s+1));\n",
"Gc2=syslin('c',gc2)\n",
"disp(Gc2,'transfer function of lead compensator')\n",
"Gc=Gc1*Gc2 // transfer function of lag and lead sections\n",
"disp(Gc,'transfer function of lag and lead sections')\n",
"G1=G*Gc\n",
"disp(G1,'overall transfer function=');\n",
"fmin=0.01;\n",
"fmax=100;\n",
"bode(G1,fmin,fmax);\n",
"show_margins(G1)\n",
"xtitle('compensated system')\n",
"[gm,freqGM]=g_margin(G1);\n",
"[pm,freqPM]=p_margin(G1);\n",
"disp(pm,'phase margin of compensated system=')\n",
"disp((freqPM*2*%pi),'gain cross over frequency=')"
   ]
   }
],
"metadata": {
		  "kernelspec": {
		   "display_name": "Scilab",
		   "language": "scilab",
		   "name": "scilab"
		  },
		  "language_info": {
		   "file_extension": ".sce",
		   "help_links": [
			{
			 "text": "MetaKernel Magics",
			 "url": "https://github.com/calysto/metakernel/blob/master/metakernel/magics/README.md"
			}
		   ],
		   "mimetype": "text/x-octave",
		   "name": "scilab",
		   "version": "0.7.1"
		  }
		 },
		 "nbformat": 4,
		 "nbformat_minor": 0
}
