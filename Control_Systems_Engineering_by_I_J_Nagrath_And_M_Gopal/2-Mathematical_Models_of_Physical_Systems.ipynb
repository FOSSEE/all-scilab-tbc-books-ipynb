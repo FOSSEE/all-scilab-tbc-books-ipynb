{
"cells": [
 {
		   "cell_type": "markdown",
	   "metadata": {},
	   "source": [
       "# Chapter 2: Mathematical Models of Physical Systems"
	   ]
	},
{
		   "cell_type": "markdown",
		   "metadata": {},
		   "source": [
			"## Example 2.3: signal_flow_graph.sce"
		   ]
		  },
  {
"cell_type": "code",
	   "execution_count": null,
	   "metadata": {
	    "collapsed": true
	   },
	   "outputs": [],
"source": [
"s=%s;\n",
"syms L C R1 R2\n",
"// forward path denoted by P! and loop by L1,L2 and so on\n",
"// path factor by D1 and graph determinant by D\n",
"P1=1/(s*L*s*C);\n",
"L1=-R1/(s*L);\n",
"L2=-1/(s*R2*C);\n",
"L3=-1/(s^2*L*C);\n",
"D1=1;\n",
"D=1-(L1+L2+L3);\n",
"Y=(P1*D1)/D;\n",
"disp(Y,'Transfer function=')"
   ]
   }
,
{
		   "cell_type": "markdown",
		   "metadata": {},
		   "source": [
			"## Example 2.4: transfer_function.sce"
		   ]
		  },
  {
"cell_type": "code",
	   "execution_count": null,
	   "metadata": {
	    "collapsed": true
	   },
	   "outputs": [],
"source": [
"syms xv Qf Qo Cf Co V Qw Kv \n",
"Qo=Qw+Qf;\n",
"// rate of salt inflow\n",
"mi=Qf*Cf;\n",
"// rate of salt outflow\n",
"mo=Qo*Co;\n",
"// rate of salt accumulation\n",
"ma=diff(V*Co,t);\n",
"mi=ma+mo;\n",
"Qf*Cf=V*diff(Co,t)+Qo*Co;\n",
"Qf=Kv*xv;\n",
"K=Cf*Kv/Qo;\n",
"G=V/Qo;\n",
"G*diff(Co,t)+Co=K*xv;\n",
"// taking laplace\n",
"G*s*Co+Co=K*xv;\n",
"// transfer function= Co/xv\n",
"Co/xv=K/(G*s+1);\n",
""
   ]
   }
],
"metadata": {
		  "kernelspec": {
		   "display_name": "Scilab",
		   "language": "scilab",
		   "name": "scilab"
		  },
		  "language_info": {
		   "file_extension": ".sce",
		   "help_links": [
			{
			 "text": "MetaKernel Magics",
			 "url": "https://github.com/calysto/metakernel/blob/master/metakernel/magics/README.md"
			}
		   ],
		   "mimetype": "text/x-octave",
		   "name": "scilab",
		   "version": "0.7.1"
		  }
		 },
		 "nbformat": 4,
		 "nbformat_minor": 0
}
