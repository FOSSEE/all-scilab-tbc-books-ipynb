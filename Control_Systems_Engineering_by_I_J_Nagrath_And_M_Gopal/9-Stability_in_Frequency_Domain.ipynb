{
"cells": [
 {
		   "cell_type": "markdown",
	   "metadata": {},
	   "source": [
       "# Chapter 9: Stability in Frequency Domain"
	   ]
	},
{
		   "cell_type": "markdown",
		   "metadata": {},
		   "source": [
			"## Example 9.10: gm_and_pm_using_nyquist_plot.sce"
		   ]
		  },
  {
"cell_type": "code",
	   "execution_count": null,
	   "metadata": {
	    "collapsed": true
	   },
	   "outputs": [],
"source": [
"s=%s;\n",
"syms K\n",
"H=syslin('c',K/(s*(0.2*s+1)*(0.05*s+1)))\n",
"nyquist(H)\n",
"show_margins(H,'nyquist')\n",
"mtlb_axis([-1 1 -5 1])\n",
"gm=g_margin(H)  // gain margin\n",
"pm=p_margin(H)  // phase margin"
   ]
   }
,
{
		   "cell_type": "markdown",
		   "metadata": {},
		   "source": [
			"## Example 9.11: bode_plot.sce"
		   ]
		  },
  {
"cell_type": "code",
	   "execution_count": null,
	   "metadata": {
	    "collapsed": true
	   },
	   "outputs": [],
"source": [
"s=%s;\n",
"H=syslin('c',10/(s*(0.1*s+1)*(0.05*s+1)))\n",
"fmin=0.1;\n",
"fmax=100;\n",
"bode(H,fmin,fmax)\n",
"show_margins(H)\n",
"gm=g_margin(H)\n",
"pm=p_margin(H)"
   ]
   }
,
{
		   "cell_type": "markdown",
		   "metadata": {},
		   "source": [
			"## Example 9.13_a: bode_plot.sce"
		   ]
		  },
  {
"cell_type": "code",
	   "execution_count": null,
	   "metadata": {
	    "collapsed": true
	   },
	   "outputs": [],
"source": [
"s=%s;\n",
"H=syslin('c',(8*(s+4))/((s-1)*(s-2)))\n",
"fmin=0.1;\n",
"fmax=100;\n",
"bode(H,fmin,fmax)\n",
"show_margins(H)\n",
"gm=g_margin(H)\n",
"pm=p_margin(H)"
   ]
   }
,
{
		   "cell_type": "markdown",
		   "metadata": {},
		   "source": [
			"## Example 9.13_b: bode_plot.sce"
		   ]
		  },
  {
"cell_type": "code",
	   "execution_count": null,
	   "metadata": {
	    "collapsed": true
	   },
	   "outputs": [],
"source": [
"syms K\n",
"H=syslin('c',(K*(s+4))/((s-1)*(s-2)))\n",
"fmin=0.1;\n",
"fmax=100;\n",
"bode(H,fmin,fmax)\n",
"show_margins(H)\n",
"// for phase margin =30\n",
"printf('From bode plot it can be seen that gain should be reduced by 4db')"
   ]
   }
,
{
		   "cell_type": "markdown",
		   "metadata": {},
		   "source": [
			"## Example 9.14: m_circles.sce"
		   ]
		  },
  {
"cell_type": "code",
	   "execution_count": null,
	   "metadata": {
	    "collapsed": true
	   },
	   "outputs": [],
"source": [
"s=%s;\n",
"H=syslin('c',10/(s*((0.1*s)+1)*((0.5*s)+1)))\n",
"fmin=0.1;\n",
"fmax=100;\n",
"clf()\n",
"black(H,0.1,100)\n",
"chart(list(1,0))\n",
"gm=g_margin(H)\n",
"pm=p_margin(H)\n",
"printf('For gain margin of 20 db plot is shifted downwards by 8 db and a phase margin of 24 degrees is obtained if curve is shifted upwards by 3.5 db')\n",
"\n",
"\n",
"\n",
"\n",
""
   ]
   }
,
{
		   "cell_type": "markdown",
		   "metadata": {},
		   "source": [
			"## Example 9.15: m_circles.sce"
		   ]
		  },
  {
"cell_type": "code",
	   "execution_count": null,
	   "metadata": {
	    "collapsed": true
	   },
	   "outputs": [],
"source": [
"s=%s;\n",
"H=syslin('c',10/(s*((0.1*s)+1)*((0.05*s)+1)))\n",
"fmin=0.1;\n",
"fmax=100;\n",
"clf()\n",
"black(H,0.1,100)\n",
"chart(list(1,0))\n",
"gm=g_margin(H)\n",
"pm=p_margin(H)\n",
"printf('For gain margin of 20 db plot is shifted downwards by 8 db and a phase margin of 24 degrees is obtained if curve is shifted upwards by 3.5 db')\n",
"\n",
"\n",
"\n",
"\n",
""
   ]
   }
,
{
		   "cell_type": "markdown",
		   "metadata": {},
		   "source": [
			"## Example 9.1: nyquist_plot.sce"
		   ]
		  },
  {
"cell_type": "code",
	   "execution_count": null,
	   "metadata": {
	    "collapsed": true
	   },
	   "outputs": [],
"source": [
"s=%s;\n",
"syms K T1 T2\n",
"H=syslin('c',K/((T1*s+1)*(T2*s+1)));\n",
"nyquist(H)\n",
"show_margins(H,'nyquist')\n",
"printf('Since P=0(no of poles in RHP) and the nyquist contour does not encircle the point -1+j0')\n",
"printf('System is stable')"
   ]
   }
,
{
		   "cell_type": "markdown",
		   "metadata": {},
		   "source": [
			"## Example 9.2: nyquist_plot.sce"
		   ]
		  },
  {
"cell_type": "code",
	   "execution_count": null,
	   "metadata": {
	    "collapsed": true
	   },
	   "outputs": [],
"source": [
"s=%s;\n",
"H=syslin('c',(s+2)/((s+1)*(s-1)))\n",
"nyquist(H)\n",
"show_margins(H,'nyquist')\n",
"printf('Since P=1 and the pt. -1+j0 is encircled once by the locus')\n",
"printf('Hence N=1 therefore, Z=0(no of zeros in RHP)')\n",
"printf('System is stable')"
   ]
   }
,
{
		   "cell_type": "markdown",
		   "metadata": {},
		   "source": [
			"## Example 9.3: nyquist_plot.sce"
		   ]
		  },
  {
"cell_type": "code",
	   "execution_count": null,
	   "metadata": {
	    "collapsed": true
	   },
	   "outputs": [],
"source": [
"s=%s;\n",
"syms K T\n",
"H=syslin('c',K/(s*(T*s+1)))\n",
"nyquist(H)\n",
"show_margins(H,'nyquist')\n",
"mtlb_axis([-1 1 -1 1])\n",
"printf('Since P=0(no of poles in RHP) and the nyquist contour does not encircle the point -1+j0')\n",
"printf('System is stable')"
   ]
   }
,
{
		   "cell_type": "markdown",
		   "metadata": {},
		   "source": [
			"## Example 9.4: nyquist_plot.sce"
		   ]
		  },
  {
"cell_type": "code",
	   "execution_count": null,
	   "metadata": {
	    "collapsed": true
	   },
	   "outputs": [],
"source": [
"s=%s;\n",
"H=syslin('c',(4*s+1)/(s^2*(s+1)*(2*s+1)))\n",
"nyquist(H)\n",
"show_margins(H,'nyquist')\n",
"mtlb_axis([-20 20 -5 5])\n",
"('We see from the locus that the point -1+j0 is encircled twice,hence N=2 and P=0.')\n",
"printf('Therefore Z=2,hence two zeros lie in RHP') // N=P-Z\n",
"printf('System is unstable')"
   ]
   }
,
{
		   "cell_type": "markdown",
		   "metadata": {},
		   "source": [
			"## Example 9.5: nyquist_plot.sce"
		   ]
		  },
  {
"cell_type": "code",
	   "execution_count": null,
	   "metadata": {
	    "collapsed": true
	   },
	   "outputs": [],
"source": [
"s=%s;\n",
"syms K a\n",
"H=syslin('c',(K*(s+a))/(s*(s-1)))\n",
"// for K>1\n",
"nyquist(H)\n",
"show_margins(H,'nyquist')\n",
"mtlb_axis([-5 5 -5 5])\n",
"xtitle('For K>1')\n",
"printf('P=1(pole in RHP))\n",
"printf('Nyquist plot encircles the the point -1+j0 once anti-clockwise i.e.,N=1')\n",
"printf('Hence Z=0') // N=P-Z\n",
"printf('System is stable')\n",
"// for K<1\n",
"H=syslin('c',(-2*(s+1))/(s*(s-1)))\n",
"show_margins(H,'nyquist')\n",
"mtlb_axis([-5 5 -5 5])\n",
"xtitle('For K<1')\n",
"printf('The point -1+j0 lie beyond -K(the crossing point of the plot).So N=-1,P=1')\n",
"printf('Hence Z=2,zeros in RHP=2')\n",
"printf('System is unstable')\n",
""
   ]
   }
,
{
		   "cell_type": "markdown",
		   "metadata": {},
		   "source": [
			"## Example 9.6: stability_using_nyquist_plot.sce"
		   ]
		  },
  {
"cell_type": "code",
	   "execution_count": null,
	   "metadata": {
	    "collapsed": true
	   },
	   "outputs": [],
"source": [
"s=%s;\n",
"syms k\n",
"H=syslin('c',(k*(s-2))/(s+1)^2)\n",
"// for K/2>-1 or K>-2\n",
"nyquist(H)\n",
"show_margins(H,'nyquist')\n",
"printf('P=0(poles in RHP)')\n",
"printf('N=-1,hence Z=1')\n",
"printf('Therefore,System is unstable')"
   ]
   }
,
{
		   "cell_type": "markdown",
		   "metadata": {},
		   "source": [
			"## Example 9.7_a: stability_using_nyquist_plot.sce"
		   ]
		  },
  {
"cell_type": "code",
	   "execution_count": null,
	   "metadata": {
	    "collapsed": true
	   },
	   "outputs": [],
"source": [
"s=%s;\n",
"syms k\n",
"H=syslin('c',(K*(s+2))/(s^2*(s+1)))\n",
"nyquist(H)\n",
"show_margins(H,'nyquist')\n",
"mtlb_axis([-20 20 -20 20])\n",
"printf('P=0 and the locus does not encircle the point -1+j0')\n",
"printf('System is stable')"
   ]
   }
,
{
		   "cell_type": "markdown",
		   "metadata": {},
		   "source": [
			"## Example 9.7_b: stability_using_nyquist_plot.sce"
		   ]
		  },
  {
"cell_type": "code",
	   "execution_count": null,
	   "metadata": {
	    "collapsed": true
	   },
	   "outputs": [],
"source": [
"H=syslin('c',k/(s*(s^2+s+4)))\n",
"nyquist(H)\n",
"show_margins(H,'nyquist')\n",
"mtlb_axis([-5 5 -5 5])\n",
"// nyquist plot crosses the axis of reals with intercept of -k/4\n",
"// for k/4>1 or k>4\n",
"printf('N=-2 as it encircles the point twice in clockwise direction')\n",
"printf('P=0 and hence Z=2')\n",
"printf('System is unstable for k>4')"
   ]
   }
,
{
		   "cell_type": "markdown",
		   "metadata": {},
		   "source": [
			"## Example 9.8_a: nyquist_criterion.sce"
		   ]
		  },
  {
"cell_type": "code",
	   "execution_count": null,
	   "metadata": {
	    "collapsed": true
	   },
	   "outputs": [],
"source": [
"// from the nyquist plot\n",
"N=-2;   // no of encirclements\n",
"P=0;   // given\n",
"Z=P-N\n",
"printf('Since Z=2 therefore two roots of the characteristic equation lies in the right half of s-plane,hence the system is unstable')"
   ]
   }
,
{
		   "cell_type": "markdown",
		   "metadata": {},
		   "source": [
			"## Example 9.8_b: nyquist_criterion.sce"
		   ]
		  },
  {
"cell_type": "code",
	   "execution_count": null,
	   "metadata": {
	    "collapsed": true
	   },
	   "outputs": [],
"source": [
"// from the nyquist plot\n",
"N=0;  // one clockwise and one anticlockwise encirclement\n",
"P=0;  // given\n",
"Z=N-P\n",
"printf('Since Z=0 no root of the characterisic equation lies in the right half hence the system is stable')"
   ]
   }
],
"metadata": {
		  "kernelspec": {
		   "display_name": "Scilab",
		   "language": "scilab",
		   "name": "scilab"
		  },
		  "language_info": {
		   "file_extension": ".sce",
		   "help_links": [
			{
			 "text": "MetaKernel Magics",
			 "url": "https://github.com/calysto/metakernel/blob/master/metakernel/magics/README.md"
			}
		   ],
		   "mimetype": "text/x-octave",
		   "name": "scilab",
		   "version": "0.7.1"
		  }
		 },
		 "nbformat": 4,
		 "nbformat_minor": 0
}
