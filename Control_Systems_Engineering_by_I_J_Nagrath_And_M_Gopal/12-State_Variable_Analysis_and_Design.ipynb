{
"cells": [
 {
		   "cell_type": "markdown",
	   "metadata": {},
	   "source": [
       "# Chapter 12: State Variable Analysis and Design"
	   ]
	},
{
		   "cell_type": "markdown",
		   "metadata": {},
		   "source": [
			"## Example 12.12: check_for_controllability.sce"
		   ]
		  },
  {
"cell_type": "code",
	   "execution_count": null,
	   "metadata": {
	    "collapsed": true
	   },
	   "outputs": [],
"source": [
"A=[0 1 0;0 0 1;-6 -11 -6];\n",
"B=[0;0;1];\n",
"P=cont_mat(A,B);\n",
"disp(P,'Controllability Matrix=')\n",
"d=det(P)\n",
"if d==0\n",
"  printf('matrix is singular, so system is uncontrollable');\n",
"else\n",
"  printf('system is controllable');\n",
"end;"
   ]
   }
,
{
		   "cell_type": "markdown",
		   "metadata": {},
		   "source": [
			"## Example 12.13: check_for_controllability.sce"
		   ]
		  },
  {
"cell_type": "code",
	   "execution_count": null,
	   "metadata": {
	    "collapsed": true
	   },
	   "outputs": [],
"source": [
"A=[0 1;-1 -2];\n",
"B=[1;-1];\n",
"P=cont_mat(A,B);\n",
"disp(P,'Controllability Matrix=')\n",
"d=determ(P)\n",
"if d==0\n",
"  printf('matrix is singular, so system is uncontrollable');\n",
"else\n",
"  printf('system is controllable');\n",
"end;"
   ]
   }
,
{
		   "cell_type": "markdown",
		   "metadata": {},
		   "source": [
			"## Example 12.14: check_for_observability.sce"
		   ]
		  },
  {
"cell_type": "code",
	   "execution_count": null,
	   "metadata": {
	    "collapsed": true
	   },
	   "outputs": [],
"source": [
"A=[0 1 0;0 0 1;0 -2 -3];\n",
"B=[0;0;1];\n",
"C=[3 4 1];\n",
"P=obsv_mat(A,C);\n",
"disp(P,'Observability Matrix=');\n",
"d=det(P)\n",
"if d==0\n",
"  printf('matrix is singular, so system is unobservable');\n",
"else\n",
"  printf('system is observable');\n",
"end;"
   ]
   }
,
{
		   "cell_type": "markdown",
		   "metadata": {},
		   "source": [
			"## Example 12.17: design_state_observer.sce"
		   ]
		  },
  {
"cell_type": "code",
	   "execution_count": null,
	   "metadata": {
	    "collapsed": true
	   },
	   "outputs": [],
"source": [
"syms g1 g2 g3 \n",
"poly(0,'l');\n",
"A=[1 2 0;3 -1 1;0 2 0];\n",
"C=[0;0;1];\n",
"G=[g1;g2;g3];\n",
"p=A-G*C;\n",
"[r c]=size(A);\n",
"I=eye(r,c);\n",
"q=lI-p; // lI-(A-G*C) where I is identity matrix\n",
"r=det(q) // detrminant of lI-(A-G*C)\n",
"// on equating r=0 we get\n",
"// characteristic equation\n",
"l^3+g3*(l)^2+(2*g2-9)l+2+6*g1-2*g2-7*g3=0;\n",
"printf('desired characteristic equation given is\n')\n",
"l^3+10*(l)^2+34*l+40=0;\n",
"// on comparing the coefficients og the two equations\n",
"// we get g1=25.2 g2=21.5 g3=10\n",
"g1=25.2;\n",
"g2=21.5;\n",
"g3=10;\n",
"disp(G)\n",
"\n",
""
   ]
   }
,
{
		   "cell_type": "markdown",
		   "metadata": {},
		   "source": [
			"## Example 12.3: state_matrix.sce"
		   ]
		  },
  {
"cell_type": "code",
	   "execution_count": null,
	   "metadata": {
	    "collapsed": true
	   },
	   "outputs": [],
"source": [
"s=%s;\n",
"H=syslin('c',(2*s^2+6*s+7)/((s+1)^2*(s+2)))\n",
"SS=tf2ss(H)\n",
"[Ac,Bc,U,ind]=canon(SS(2),SS(3))"
   ]
   }
,
{
		   "cell_type": "markdown",
		   "metadata": {},
		   "source": [
			"## Example 12.4: modal_matrix.sce"
		   ]
		  },
  {
"cell_type": "code",
	   "execution_count": null,
	   "metadata": {
	    "collapsed": true
	   },
	   "outputs": [],
"source": [
"syms m11 m12 m13 m21 m22 m23 m31 m32 m33 ^\n",
"s=%s;\n",
"poly(0,'l');\n",
"A=[0 1 0;3 0 2;-12 -7 -6]\n",
"[r c]=size(A)\n",
"I=eye(r,c);\n",
"p=l*I-A;\n",
"q=det(p); // determinant of li-p\n",
"// roots of q are\n",
"l1=-1;\n",
"l2=-2;\n",
"l3=-3;\n",
"x1=[m11;m21;m31];\n",
"q1=(l1*I-A)*1\n",
"// on solving we find m11=1 m21=-1 31=-1\n",
"m11=1;m21=-1;m31=-1;\n",
"x2=[m12;m22;m32];\n",
"q2=(l2*I-A)*1\n",
"// on solving we find m12=2 m22=-4 m32=1\n",
"m12=2;m22=-4;m32=1;\n",
"x3=[m13;m23;m33];\n",
"q3=(l3*I-A)*1\n",
"// on solving we get m13=1 m23=-3 m33=3\n",
"m13=1;m23=-3;m33=3;\n",
"// modal matrix is\n",
"M=[m11 m12 m13;m21 m22 23;m31 m32 m33]"
   ]
   }
,
{
		   "cell_type": "markdown",
		   "metadata": {},
		   "source": [
			"## Example 12.5: obtain_time_response.sce"
		   ]
		  },
  {
"cell_type": "code",
	   "execution_count": null,
	   "metadata": {
	    "collapsed": true
	   },
	   "outputs": [],
"source": [
"syms t m\n",
"s=%s;\n",
"A=[1 0;1 1];\n",
"B=[1;1];\n",
"x=[1;0];\n",
"[r c]=size(A)\n",
"p=s*eye(r,c)-A // s*I-A \n",
"q=inv(p)\n",
"for i=1:r\n",
"for j=1:c\n",
" // inverse laplace of each element of Matrix q\n",
"q(i,j)=ilaplace(q(i,j),s,t);\n",
"end\n",
"end\n",
"disp(q,'phi(t)=') // State Transition Matrix\n",
"t=t-m;\n",
"q=eval(q)\n",
"// Integrate q w.r.t m\n",
"r=integrate(q*B,m)\n",
"m=0    // Upper limit is t\n",
"g=eval(r)  // Puting upper limit in q\n",
"m=t // Lower limit is 0\n",
"h=eval(r)   // Putting lower limit in q\n",
"y=(h-g);\n",
"disp(y,'y=')\n",
"printf('x(t)=phi(t)*x(0)+integrate(phi(t-m*B) w.r.t m from 0 to t)')\n",
"y1=(q*x)+y;\n",
"disp(y1,'x(t)=')"
   ]
   }
,
{
		   "cell_type": "markdown",
		   "metadata": {},
		   "source": [
			"## Example 12.6: resolvant_matrix.sce"
		   ]
		  },
  {
"cell_type": "code",
	   "execution_count": null,
	   "metadata": {
	    "collapsed": true
	   },
	   "outputs": [],
"source": [
"syms t\n",
"s=%s;\n",
"A=[1 0;1 1];\n",
"[r c]=size(A)\n",
"p=s*eye(r,c)-A \n",
"// resolvent matrix\n",
"q=inv(p)\n",
"disp(q,'phi(s)=')\n",
"for i=1:r\n",
"for j=1:c\n",
"q(i,j)=ilaplace(q(i,j),s,t)    \n",
"end\n",
"end\n",
"disp(q,'phi(t)=') // state transition matrix"
   ]
   }
,
{
		   "cell_type": "markdown",
		   "metadata": {},
		   "source": [
			"## Example 12.7: state_transition_matrix_and_state_response.sce"
		   ]
		  },
  {
"cell_type": "code",
	   "execution_count": null,
	   "metadata": {
	    "collapsed": true
	   },
	   "outputs": [],
"source": [
"syms t m\n",
"s=%s;\n",
"A=[0 1;-2 -3];\n",
"B=[0;2];\n",
"x=[0;1];\n",
"[r c]=size(A)\n",
"p=s*eye(r,c)-A\n",
"q=inv(p)\n",
"for i=1:r\n",
"for j=1:c\n",
"q(i,j)=ilaplace(q(i,j),s,t)\n",
"end\n",
"end\n",
"disp(q,'phi(t)=') // state transition matrix\n",
"t=t-m;\n",
"q=eval(q)\n",
"// Integrate q w.r.t m\n",
"r=integrate(q*B,m)\n",
"m=0    // Upper limit is t\n",
"g=eval(r)  // Puting upper limit in q\n",
"m=t // Lower limit is 0\n",
"h=eval(r)   // Putting lower limit in q\n",
"y=(h-g);\n",
"disp(y,'y=')\n",
"printf('x(t)=phi(t)*x(0)+integrate(phi(t-m*B) w.r.t m from 0 to t)')\n",
"y1=(q*x)+y;\n",
"disp(y1,'x(t)=')"
   ]
   }
],
"metadata": {
		  "kernelspec": {
		   "display_name": "Scilab",
		   "language": "scilab",
		   "name": "scilab"
		  },
		  "language_info": {
		   "file_extension": ".sce",
		   "help_links": [
			{
			 "text": "MetaKernel Magics",
			 "url": "https://github.com/calysto/metakernel/blob/master/metakernel/magics/README.md"
			}
		   ],
		   "mimetype": "text/x-octave",
		   "name": "scilab",
		   "version": "0.7.1"
		  }
		 },
		 "nbformat": 4,
		 "nbformat_minor": 0
}
