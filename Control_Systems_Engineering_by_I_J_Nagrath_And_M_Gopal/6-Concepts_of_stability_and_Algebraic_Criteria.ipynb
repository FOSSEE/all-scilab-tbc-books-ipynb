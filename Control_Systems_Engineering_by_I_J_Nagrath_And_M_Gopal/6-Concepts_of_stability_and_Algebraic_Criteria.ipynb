{
"cells": [
 {
		   "cell_type": "markdown",
	   "metadata": {},
	   "source": [
       "# Chapter 6: Concepts of stability and Algebraic Criteria"
	   ]
	},
{
		   "cell_type": "markdown",
		   "metadata": {},
		   "source": [
			"## Example 6.10: routh_array.sce"
		   ]
		  },
  {
"cell_type": "code",
	   "execution_count": null,
	   "metadata": {
	    "collapsed": true
	   },
	   "outputs": [],
"source": [
"s=%s;\n",
"p=s^3+7*s^2+25*s+39\n",
"// to check if the roots lie left of s=-1\n",
"// substitute s=s-1\n",
"p=(s-1)^3+7*(s-1)^2+25*(s-1)+20\n",
"r=routh_t(p)\n",
"printf('All the signs of elements first column are positive hence the roots lie left of s=-1')"
   ]
   }
,
{
		   "cell_type": "markdown",
		   "metadata": {},
		   "source": [
			"## Example 6.11_a: routh_array.sce"
		   ]
		  },
  {
"cell_type": "code",
	   "execution_count": null,
	   "metadata": {
	    "collapsed": true
	   },
	   "outputs": [],
"source": [
"s=%s;\n",
"syms K\n",
"// the system characteristic eq can be written as\n",
"p=s^3+8.5*s^2+20*s+12.5(1+K)\n",
"cof_a_0=coeffs(p,'s',0);\n",
"cof_a_1=coeffs(p,'s',1);\n",
"cof_a_2=coeffs(p,'s',2);\n",
"cof_a_3=coeffs(p,'s',3);\n",
"r=[cof_a_0 cof_a_1 cof_a_2 cof_a_3]\n",
"n=length(r);\n",
"routh=[r([4,2]);r([3,1])]\n",
"routh=[routh;-det(routh)/routh(2,1),0]\n",
"t=routh(2:3,1:2);\n",
"routh=[routh;-det(t)/routh(3,1),0]\n",
"disp(routh,'routh=');\n",
"// for limiting value of K\n",
"routh(3,1)=0\n",
"K=12.6;\n",
"disp(K,'Limiting value of K')"
   ]
   }
,
{
		   "cell_type": "markdown",
		   "metadata": {},
		   "source": [
			"## Example 6.11_b: routh_array.sce"
		   ]
		  },
  {
"cell_type": "code",
	   "execution_count": null,
	   "metadata": {
	    "collapsed": true
	   },
	   "outputs": [],
"source": [
"syms zeta Wn ts z\n",
"// settling time ts=4/zeta*Wn\n",
"// given ts=4sec\n",
"ts=4;\n",
"zeta*Wn=ts/4\n",
"printf('now the real part of dominant root should be -1 or more')\n",
"// substituting s=s-1\n",
"p=(s-1)^3+8.5*(s-1)^2+20*(s-1)+12.5*(1+K)\n",
"cof_a_0=coeffs(p,'s',0);\n",
"cof_a_1=coeffs(p,'s',1);\n",
"cof_a_2=coeffs(p,'s',2);\n",
"cof_a_3=coeffs(p,'s',3);\n",
"r=[cof_a_0 cof_a_1 cof_a_2 cof_a_3]\n",
"n=length(r);\n",
"routh=[r([4,2]);r([3,1])]\n",
"routh=[routh;-det(routh)/routh(2,1),0]\n",
"t=routh(2:3,1:2);\n",
"routh=[routh;-det(t)/routh(3,1),0]\n",
"disp(routh,'routh=');\n",
"// for limiting value of K\n",
"routh(3,1)=0\n",
"K=2.64\n",
"disp(K,'Limiting value of K for settling time of 4s=')\n",
"// roots of char eq at K=2.64\n",
"g=s^3+8.5*s^2+20*s+12.5*(1+2.64)\n",
"roots(g)"
   ]
   }
,
{
		   "cell_type": "markdown",
		   "metadata": {},
		   "source": [
			"## Example 6.1: hurwitz_criterio.sce"
		   ]
		  },
  {
"cell_type": "code",
	   "execution_count": null,
	   "metadata": {
	    "collapsed": true
	   },
	   "outputs": [],
"source": [
"s=%s;\n",
"p=s^4+8*s^3+18*s^2+16*s+5\n",
"r=coeff(p)\n",
"D1=r(4)\n",
"d2=[r(4) r(5);r(2) r(3)]\n",
"D2=det(d2);\n",
"d3=[r(4) r(5) 0;r(2) r(3) r(4);0 r(1) r(2)]\n",
"D3=det(d3);\n",
"d4=[r(4) r(5) 0 0;r(2) r(3) r(4) r(5);0 r(1) r(2) r(3);0 0 0 r(1)]\n",
"D4=det(d4);\n",
"disp(D1,'D1=')\n",
"disp(D2,'D2=')\n",
"disp(D3,'D3=')\n",
"disp(D4,'D4=')\n",
"printf('Since all the determinants are positive the system is stable')"
   ]
   }
,
{
		   "cell_type": "markdown",
		   "metadata": {},
		   "source": [
			"## Example 6.2: routh_array.sce"
		   ]
		  },
  {
"cell_type": "code",
	   "execution_count": null,
	   "metadata": {
	    "collapsed": true
	   },
	   "outputs": [],
"source": [
"s=%s;\n",
"p=s^4+8*s^3+18*s^2+16*s+5\n",
"r=routh_t(p)\n",
"m=coeff(p)\n",
"l=length(m)\n",
"c=0;\n",
"for i=1:l\n",
"if (r(i,1)<0)\n",
"c=c+1;\n",
"end    \n",
"end\n",
"if(c>=1)\n",
"printf('System is unstable')\n",
"else ('Sysem is stable')\n",
"end"
   ]
   }
,
{
		   "cell_type": "markdown",
		   "metadata": {},
		   "source": [
			"## Example 6.3: routh_array.sce"
		   ]
		  },
  {
"cell_type": "code",
	   "execution_count": null,
	   "metadata": {
	    "collapsed": true
	   },
	   "outputs": [],
"source": [
"s=%s;\n",
"p=3*s^4+10*s^3+5*s^2+5*s+2\n",
"r=routh_t(p)\n",
"m=coeff(p)\n",
"l=length(m)\n",
"c=0;\n",
"for i=1:l\n",
"if (r(i,1)<0)\n",
"c=c+1;\n",
"end    \n",
"end\n",
"if(c>=1)\n",
"printf('System is unstable')\n",
"else ('Sysem is stable')\n",
"end"
   ]
   }
,
{
		   "cell_type": "markdown",
		   "metadata": {},
		   "source": [
			"## Example 6.4: routh_array.sce"
		   ]
		  },
  {
"cell_type": "code",
	   "execution_count": null,
	   "metadata": {
	    "collapsed": true
	   },
	   "outputs": [],
"source": [
"s=%s;\n",
"syms Kv Kd Kp Kt\n",
"p=s^3+(1+(Kv*Kd))*s^2+(Kv*Kp)*s+(Kp*Kt)\n",
"cof_a_0=coeffs(p,'s',0);\n",
"cof_a_1=coeffs(p,'s',1);\n",
"cof_a_2=coeffs(p,'s',2);\n",
"cof_a_3=coeffs(p,'s',3);\n",
"r=[cof_a_0 cof_a_1 cof_a_2 cof_a_3]\n",
"n=length(r);\n",
"routh=[r([4,2]);r([3,1])]\n",
"routh=[routh;-det(routh)/routh(2,1),0]\n",
"t=routh(2:3,1:2);\n",
"routh=[routh;-det(t)/routh(3,1),0]\n",
"disp(routh,'routh=');\n",
"// for stability r(:,1)>0\n",
"// for the given table\n",
"b=routh(3,1)\n",
"disp('for stability'b,'>0')\n",
""
   ]
   }
,
{
		   "cell_type": "markdown",
		   "metadata": {},
		   "source": [
			"## Example 6.5: routh_array.sce"
		   ]
		  },
  {
"cell_type": "code",
	   "execution_count": null,
	   "metadata": {
	    "collapsed": true
	   },
	   "outputs": [],
"source": [
"s=%s;\n",
"syms K\n",
"p=(1+K)*s^2+((3*K)-0.9)*s+(2K-1)\n",
"cof_a_0=coeffs(p,'s',0);\n",
"cof_a_1=coeffs(p,'s',1);\n",
"cof_a_2=coeffs(p,'s',2);\n",
"r=[cof_a_0 cof_a_1 cof_a_2]\n",
"n=length(r);\n",
"routh=[r([3,1]);r(2),0];\n",
"routh=[routh;-det(routh)/routh(2,1),0];\n",
"disp(routh,'routh=')\n",
"// for no root in right half\n",
"// routh(1,1),routh(2,1),routh(3,1)>0\n",
"routh(1,1)=0\n",
"routh(2,1)=0\n",
"routh(3,1)=0\n",
"// combining the result\n",
"K=0.9/3;\n",
"disp(K,'For no roots in right half=')\n",
"// for 1 pole in right half i.e. one sign change\n",
"//routh(1,1)>0 n routh(3,1)<0\n",
"disp('For one pole in right half, -1<K<0.05')\n",
"// for 2 poles in right half\n",
"// routh(2,1)<0 n routh(3,1)>0\n",
"disp('For 2 poles in right half, 0.05<K<0.3')"
   ]
   }
,
{
		   "cell_type": "markdown",
		   "metadata": {},
		   "source": [
			"## Example 6.6: routh_criterio.sce"
		   ]
		  },
  {
"cell_type": "code",
	   "execution_count": null,
	   "metadata": {
	    "collapsed": true
	   },
	   "outputs": [],
"source": [
"s=%s;\n",
"syms K\n",
"p=s^2-(K+2)*s+((2*K)+5)\n",
"cof_a_0=coeffs(p,'s',0);\n",
"cof_a_1=coeffs(p,'s',1);\n",
"cof_a_2=coeffs(p,'s',2);\n",
"r=[cof_a_0 cof_a_1 cof_a_2]\n",
"n=length(r);\n",
"routh=[r([3,1]);r(2),0];\n",
"routh=[routh;-det(routh)/routh(2,1),0];\n",
"disp(routh,'routh=')\n",
"// for system to be stable\n",
"routh(2,1)>0\n",
"K<-2;\n",
"routh(3,1)>0\n",
"K>-2.5;\n",
"disp('For stable system, -2>K>-2.5')\n",
"// for limited stability\n",
"routh(2,1)=0\n",
"K=-2\n",
"routh(3,1)=0\n",
"K=-2.5\n",
"disp('For limted stable system K=-2 and K=-2.5')\n",
"// for unstable system\n",
"disp('For unstable system K<-2 or K>-2.5')\n",
"roots(p) // gives the roots of the polynomial m\n",
"// for critically damped case\n",
"g=(K+2)^2-4*((2*K)+5)\n",
"roots(g)\n",
"// for stablity K=6.47 is unstable\n",
"// for critical damping K=-2.47\n",
"disp('For underdamded case, -2>K>-2.47')\n",
"disp('for overdamped case, -2.47>K>-2.5')"
   ]
   }
,
{
		   "cell_type": "markdown",
		   "metadata": {},
		   "source": [
			"## Example 6.7: routh_array.sce"
		   ]
		  },
  {
"cell_type": "code",
	   "execution_count": null,
	   "metadata": {
	    "collapsed": true
	   },
	   "outputs": [],
"source": [
"s=%s;\n",
"syms eps\n",
"p=s^5+s^4+2*s^3+2*s^2+3*s+5\n",
"r=coeff(p);\n",
"n=length(r);\n",
"routh=[r([6,4,2]);r([5,3,1])]\n",
"syms eps;\n",
"routh=[routh;eps,-det(routh(1:2,2:3))/routh(2,2),0];\n",
"routh=[routh;-det(routh(2:3,1:2))/routh(3,1),-det(routh(2:3,2:3))/routh(4,2),0];\n",
"routh=[routh;-det(routh(4:5,1:2))/routh(5,1),0,0];\n",
"disp(routh,'routh=')\n",
"// to check stability\n",
"routh(4,1)=8-limit(5/eps,eps,0);\n",
"disp(routh(4,1),'routh(4,1)=')\n",
"routh(5,1)=limit(routh(5,1),eps,0);\n",
"disp(routh(5,1),'routh(5,1)=')\n",
"printf('There are two sign changes of first column hence the system is unstable')"
   ]
   }
,
{
		   "cell_type": "markdown",
		   "metadata": {},
		   "source": [
			"## Example 6.8: routh_array.sce"
		   ]
		  },
  {
"cell_type": "code",
	   "execution_count": null,
	   "metadata": {
	    "collapsed": true
	   },
	   "outputs": [],
"source": [
"s=%s;\n",
"p=s^6+2*s^5+8*s^4+12*s^3+20*s^2+16*s+16\n",
"r=routh_t(p)\n",
"roots(p)\n",
"disp(0,'the number of real part of roots lying in the right half')\n",
"printf('System is stable')"
   ]
   }
,
{
		   "cell_type": "markdown",
		   "metadata": {},
		   "source": [
			"## Example 6.9: routh_array.sce"
		   ]
		  },
  {
"cell_type": "code",
	   "execution_count": null,
	   "metadata": {
	    "collapsed": true
	   },
	   "outputs": [],
"source": [
"s=%s;\n",
"syms K a\n",
"p=s^4+10*s^3+32*s^2+(K+32)*s+(K*a)\n",
"cof_a_0=coeffs(p,'s',0);\n",
"cof_a_1=coeffs(p,'s',1);\n",
"cof_a_2=coeffs(p,'s',2);\n",
"cof_a_3=coeffs(p,'s',3);\n",
"cof_a_4=coeffs(p,'s',4);\n",
"r=[cof_a_0 cof_a_1 cof_a_3 cof_a_4]\n",
"n=length(r);\n",
"routh=[r([5,3,1]);r([4,2]),0]\n",
"routh=[routh;-det(routh(1:2,1:2))/routh(2,1),-det(routh(1:2,2:3))/routh(2,2),0];\n",
"routh=[routh;-det(routh(2:3,1:2))/routh(3,1),-det(routh(2:3,2:3))/routh(3,2),0];\n",
"routh=[routh;-det(routh(3:4,1:2))/routh(4,1),0,0];\n",
"disp(routh,'routh=')\n",
"// for the given system to be stable\n",
"routh(3,1)>0\n",
"K<288;\n",
"routh(4,1)>0\n",
"(288-K)*(K+32)-100(K*a)>0\n",
"// let K=200\n",
"K=200;\n",
"a=((288-K)*(K+32))/(100*K)\n",
"// velocity error \n",
"Kv=(K*a)/(4*2*4);\n",
"// % velocity error\n",
"Kvs=100/Kv\n",
"disp(a,'control parameter=')\n",
"disp(K,'Gain=')"
   ]
   }
],
"metadata": {
		  "kernelspec": {
		   "display_name": "Scilab",
		   "language": "scilab",
		   "name": "scilab"
		  },
		  "language_info": {
		   "file_extension": ".sce",
		   "help_links": [
			{
			 "text": "MetaKernel Magics",
			 "url": "https://github.com/calysto/metakernel/blob/master/metakernel/magics/README.md"
			}
		   ],
		   "mimetype": "text/x-octave",
		   "name": "scilab",
		   "version": "0.7.1"
		  }
		 },
		 "nbformat": 4,
		 "nbformat_minor": 0
}
