{
"cells": [
 {
		   "cell_type": "markdown",
	   "metadata": {},
	   "source": [
       "# Chapter 3: Feedback Characteristics of control sytems"
	   ]
	},
{
		   "cell_type": "markdown",
		   "metadata": {},
		   "source": [
			"## Example 3.2: sensitivity_of_transfer_function.sce"
		   ]
		  },
  {
"cell_type": "code",
	   "execution_count": null,
	   "metadata": {
	    "collapsed": true
	   },
	   "outputs": [],
"source": [
"syms K;\n",
"s=%s;\n",
"G=syslin('c',25(s+1)/(s+5));\n",
"p=K;\n",
"q=s^2+s;\n",
"J=p/q;\n",
"F=G*J;\n",
"T=F/(1+F); // Closed loop transfer function\n",
"disp(T,'C(s)/R(s)')\n",
"// sensitivity w.r.t K = dT/dK*K/T\n",
"S=(diff(T,K))*(K/T)\n",
"disp(S,'Sensitivity')"
   ]
   }
,
{
		   "cell_type": "markdown",
		   "metadata": {},
		   "source": [
			"## Example 3.3_a: sensitivity_of_transfer_function.sce"
		   ]
		  },
  {
"cell_type": "code",
	   "execution_count": null,
	   "metadata": {
	    "collapsed": true
	   },
	   "outputs": [],
"source": [
"syms K1 K t;\n",
"s=%s;\n",
"p=K1*K;\n",
"q=t*s+1+(K1*K);\n",
"T=p/q;\n",
"disp(T,'V(s)/R(s)')\n",
"// sensitivity w.r.t K is dT/dK*K/T\n",
"S=(diff(T,K))*(K/T)\n",
"// given K1=50 K=1.5\n",
"s=0\n",
"S=horner(S,s)\n",
"K1=50;\n",
"K=1.5;\n",
"S=1/(1+K1*K)\n",
"disp(S,'sensitivity=')"
   ]
   }
,
{
		   "cell_type": "markdown",
		   "metadata": {},
		   "source": [
			"## Example 3.3_b: steady_state_error.sce"
		   ]
		  },
  {
"cell_type": "code",
	   "execution_count": null,
	   "metadata": {
	    "collapsed": true
	   },
	   "outputs": [],
"source": [
"syms A K K1 t\n",
"s=%s;\n",
"p=K1*K*A;\n",
"q=s*(1+(t*s)+(K1*K));\n",
"K=1.5;\n",
"K1=50;\n",
"V=p/q\n",
"v=limit(s*V,s,0)\n",
"// given steady state speed = 60km/hr\n",
"A=60*(1+(K1*K))/(K1*K)\n",
"// steady error e(ss)=A-v\n",
"v=60;\n",
"e=A-v;\n",
"disp(e,'e(ss)=')"
   ]
   }
,
{
		   "cell_type": "markdown",
		   "metadata": {},
		   "source": [
			"## Example 3.3_c: calculation_of_slope.sce"
		   ]
		  },
  {
"cell_type": "code",
	   "execution_count": null,
	   "metadata": {
	    "collapsed": true
	   },
	   "outputs": [],
"source": [
"// under stalled conditions\n",
"syms Kg K1 D;\n",
"A=60.8;\n",
"A*K1=Kg*D;\n",
"// given Kg=100 \n",
"Kg=100;\n",
"K1=50;\n",
"D=(A*K1)/Kg;\n",
"disp(D,'upslope=')"
   ]
   }
,
{
		   "cell_type": "markdown",
		   "metadata": {},
		   "source": [
			"## Example 3.3_d: calculation_of_slope.sce"
		   ]
		  },
  {
"cell_type": "code",
	   "execution_count": null,
	   "metadata": {
	    "collapsed": true
	   },
	   "outputs": [],
"source": [
"// steady speed=10km/hr\n",
"syms K Kg D\n",
"(((A-10)*K1)-(-D*Kg))K=100;\n",
"A=(60.8*10)/60;\n",
"K=1.5;\n",
"Kg=100;\n",
"D=((100/K)-((A-10)*K))/Kg;\n",
"disp(D,'Down slope=')"
   ]
   }
,
{
		   "cell_type": "markdown",
		   "metadata": {},
		   "source": [
			"## Example 3.3_f: calculation_of_input.sce"
		   ]
		  },
  {
"cell_type": "code",
	   "execution_count": null,
	   "metadata": {
	    "collapsed": true
	   },
	   "outputs": [],
"source": [
"// for open loop system\n",
"// given speed=60km/hr\n",
"syms R K1 K;\n",
"(R*K1*K)=60\n",
"K1=50;\n",
"K=1.5;\n",
"R=60/(K1*K)\n",
"disp(R,'Input open=')\n",
"// for closed loop\n",
"R=60(1+(K1*K))/(K1*K)\n",
"disp(R,'Input closed=')"
   ]
   }
,
{
		   "cell_type": "markdown",
		   "metadata": {},
		   "source": [
			"## Example 3.3_g: calculation_of_time.sce"
		   ]
		  },
  {
"cell_type": "code",
	   "execution_count": null,
	   "metadata": {
	    "collapsed": true
	   },
	   "outputs": [],
"source": [
"// for open loop\n",
"syms t g s;\n",
"s=%s;\n",
"K1=50;\n",
"K=1.5;\n",
"g=20;\n",
"V=syslin('c',((K1*K)*0.8)/(s*((g*s)+1)))\n",
"// taking inverse laplace\n",
"v=ilaplace(V,s,t)\n",
"v=60(11-%e^(-t/20))\n",
"// given v=90%\n",
"v=0.9;\n",
"t=-20*log(1-v);\n",
"disp(t,'time open=')\n",
"// for closed loop\n",
"syms K' g'\n",
"s=%s;\n",
"V=syslin('c',(60.8*K')/(s*((g'*s)+1)))\n",
"// taking inverse laplace\n",
"v=ilaplace(V,s,t)\n",
"// given \n",
"K'=75/76; \n",
"g'=.263;\n",
"v=60(1-%e^(-t/.263))\n",
"// at v=90%\n",
"v=0.9;\n",
"t=-.263*log(1-(v/60));\n",
"disp(t,'time closed=')\n",
""
   ]
   }
],
"metadata": {
		  "kernelspec": {
		   "display_name": "Scilab",
		   "language": "scilab",
		   "name": "scilab"
		  },
		  "language_info": {
		   "file_extension": ".sce",
		   "help_links": [
			{
			 "text": "MetaKernel Magics",
			 "url": "https://github.com/calysto/metakernel/blob/master/metakernel/magics/README.md"
			}
		   ],
		   "mimetype": "text/x-octave",
		   "name": "scilab",
		   "version": "0.7.1"
		  }
		 },
		 "nbformat": 4,
		 "nbformat_minor": 0
}
