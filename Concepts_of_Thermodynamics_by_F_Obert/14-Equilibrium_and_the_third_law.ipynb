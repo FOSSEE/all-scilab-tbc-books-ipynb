{
"cells": [
 {
		   "cell_type": "markdown",
	   "metadata": {},
	   "source": [
       "# Chapter 14: Equilibrium and the third law"
	   ]
	},
{
		   "cell_type": "markdown",
		   "metadata": {},
		   "source": [
			"## Example 14.1: Equilibrium_constant_calculations.sce"
		   ]
		  },
  {
"cell_type": "code",
	   "execution_count": null,
	   "metadata": {
	    "collapsed": true
	   },
	   "outputs": [],
"source": [
"clc\n",
"clear\n",
"//Initialization of variables\n",
"n1=0.95\n",
"n2=0.05\n",
"n3=0.025\n",
"P=147 //psia\n",
"pa=14.7 //psia\n",
"//calculations\n",
"n=n1+n2+n3\n",
"p1=n1/n *P/pa\n",
"p2=n2/n *P/pa\n",
"p3=n3/n *P/pa\n",
"Kp1= p1/(p2*p3^0.5)\n",
"Kp2= p1^2 /(p2^2 *p3)\n",
"//results\n",
"printf('In case 1, Equilibrium constant = %.1f ',Kp1)\n",
"printf('\n In case 2, Equilibrium constant = %.1f ',Kp2)"
   ]
   }
,
{
		   "cell_type": "markdown",
		   "metadata": {},
		   "source": [
			"## Example 14.2: Degree_of_dissociatio.sce"
		   ]
		  },
  {
"cell_type": "code",
	   "execution_count": null,
	   "metadata": {
	    "collapsed": true
	   },
	   "outputs": [],
"source": [
"clc\n",
"clear\n",
"//Initialization of variables\n",
"kp=5 \n",
"//calculations\n",
"x=poly(0,'x')\n",
"vec=roots(24*x^3 + 3*x-2)\n",
"x=vec(3)\n",
"y=poly(0,'y')\n",
"vec2=roots(249*y^3 +3*y-2)\n",
"y=vec2(3)\n",
"//results\n",
"printf('degree of dissociation = %.2f',x)\n",
"printf('\n If pressure =10 . degree of dissociation = %.2f',y)"
   ]
   }
,
{
		   "cell_type": "markdown",
		   "metadata": {},
		   "source": [
			"## Example 14.3: Degree_of_dissociation_calculation.sce"
		   ]
		  },
  {
"cell_type": "code",
	   "execution_count": null,
	   "metadata": {
	    "collapsed": true
	   },
	   "outputs": [],
"source": [
"clc\n",
"clear\n",
"//Initialization of variables\n",
"k=5\n",
"//calculations\n",
"x=poly(0,'x')\n",
"p=x^2 *(k-x) -k^2 *(1-x)^2 *(3-x)\n",
"vec=roots(p)\n",
"x=vec(3)\n",
"//results\n",
"printf('degree of dissociation = %.2f',x)"
   ]
   }
,
{
		   "cell_type": "markdown",
		   "metadata": {},
		   "source": [
			"## Example 14.4: Work_done_calculations.sce"
		   ]
		  },
  {
"cell_type": "code",
	   "execution_count": null,
	   "metadata": {
	    "collapsed": true
	   },
	   "outputs": [],
"source": [
"clc\n",
"clear\n",
"//Initialization of variables\n",
"T=77+460 //R\n",
"x1=0.21\n",
"x2=1-x1\n",
"G=-169557 //Btu/mole\n",
"n1=1\n",
"n2=3.76\n",
"R0=1.986\n",
"v=0.0885\n",
"pi=14.7\n",
"J=778\n",
"//calculations\n",
"dg1=-n1*R0*T*log(x1)\n",
"dg2=-n2*R0*T*log(x2)\n",
"dg=dg1+dg2\n",
"dG=dg+G\n",
"W=-dG\n",
"W2=-G\n",
"p=0.0004 //atm\n",
"G1=-n1*R0*T*log(1/p)\n",
"W3= -(dg1+G+G1)\n",
"dgf=v*pi*144/J\n",
"//results\n",
"printf('In case 1,Work done = %d Btu/mole C',W)\n",
"printf('\n In case 2,Work done = %d Btu/mole C',W2)\n",
"printf('\n In case 3,Work done = %d Btu/mole C',W3)\n",
"printf('\n In case 4,Work done = %.2f Btu/mole C',dgf)"
   ]
   }
],
"metadata": {
		  "kernelspec": {
		   "display_name": "Scilab",
		   "language": "scilab",
		   "name": "scilab"
		  },
		  "language_info": {
		   "file_extension": ".sce",
		   "help_links": [
			{
			 "text": "MetaKernel Magics",
			 "url": "https://github.com/calysto/metakernel/blob/master/metakernel/magics/README.md"
			}
		   ],
		   "mimetype": "text/x-octave",
		   "name": "scilab",
		   "version": "0.7.1"
		  }
		 },
		 "nbformat": 4,
		 "nbformat_minor": 0
}
