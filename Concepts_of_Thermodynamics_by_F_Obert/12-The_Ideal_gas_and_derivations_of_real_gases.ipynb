{
"cells": [
 {
		   "cell_type": "markdown",
	   "metadata": {},
	   "source": [
       "# Chapter 12: The Ideal gas and derivations of real gases"
	   ]
	},
{
		   "cell_type": "markdown",
		   "metadata": {},
		   "source": [
			"## Example 12.1: Work_done.sce"
		   ]
		  },
  {
"cell_type": "code",
	   "execution_count": null,
	   "metadata": {
	    "collapsed": true
	   },
	   "outputs": [],
"source": [
"clc\n",
"clear\n",
"//Initialization of variables\n",
"n=1.3\n",
"T1=460+60 //R\n",
"P1=14.7 //psia\n",
"P2=125 //psia\n",
"R=1545\n",
"M=29\n",
"//calculations\n",
"T2=T1*(P2/P1)^((n-1)/n)\n",
"wrev=R/M *(T2-T1)/(1-n)\n",
"//results\n",
"printf('Work done = %d ft-lbf/lbm',wrev)\n",
"disp('The answer is a bit different due to rounding off error in textbook')"
   ]
   }
,
{
		   "cell_type": "markdown",
		   "metadata": {},
		   "source": [
			"## Example 12.2: kinetic_energy_change.sce"
		   ]
		  },
  {
"cell_type": "code",
	   "execution_count": null,
	   "metadata": {
	    "collapsed": true
	   },
	   "outputs": [],
"source": [
"clc\n",
"clear\n",
"//Initialization of variables\n",
"P2=10 //psia\n",
"P1=100 //psia\n",
"T1=900 //R\n",
"w=50 //Btu/lbm\n",
"k=1.39\n",
"cp=0.2418\n",
"//calculations\n",
"T2=T1*(P2/P1)^((k-1)/k)\n",
"T2=477\n",
"KE=-w-cp*(T2-T1)\n",
"//results\n",
"printf('Change in kinetic energy = %.1f Btu/lbm',KE)"
   ]
   }
,
{
		   "cell_type": "markdown",
		   "metadata": {},
		   "source": [
			"## Example 12.3: Final_temperature_calculation.sce"
		   ]
		  },
  {
"cell_type": "code",
	   "execution_count": null,
	   "metadata": {
	    "collapsed": true
	   },
	   "outputs": [],
"source": [
"clc\n",
"clear\n",
"//Initialization of variables\n",
"T1=900 //R\n",
"P1=100 //psia\n",
"P2=10 //psia\n",
"//calculations\n",
"disp('From table B-9')\n",
"pr1=8.411\n",
"pr2=pr1*P2/P1\n",
"T2=468 //R\n",
"//results\n",
"printf('Final temperature = %d R ',T2)"
   ]
   }
,
{
		   "cell_type": "markdown",
		   "metadata": {},
		   "source": [
			"## Example 12.4: temperature_pressure_and_work_done_calculation.sce"
		   ]
		  },
  {
"cell_type": "code",
	   "execution_count": null,
	   "metadata": {
	    "collapsed": true
	   },
	   "outputs": [],
"source": [
"clc\n",
"clear\n",
"//Initialization of variables\n",
"cr=6\n",
"p1=14.7 //psia\n",
"t1=60.3 //F\n",
"M=29\n",
"R=1.986\n",
"//calculations\n",
"disp('from table b-9')\n",
"vr1=158.58 \n",
"u1=88.62 //Btu/lbm\n",
"pr1=1.2147\n",
"vr2=vr1/cr\n",
"T2=1050 //R\n",
"u2=181.47 //Btu/lbm\n",
"pr2=14.686\n",
"p2=p1*(pr2/pr1)\n",
"dw=u1-u2\n",
"h2=u2+T2*R/M\n",
"//results\n",
"printf('final temperature = %d R',T2)\n",
"printf('\n final pressure = %.1f psia',p2)\n",
"printf('\n work done = %.2f Btu/lbm',dw)\n",
"printf('\n final enthalpy = %.1f Btu/lbm',h2)"
   ]
   }
],
"metadata": {
		  "kernelspec": {
		   "display_name": "Scilab",
		   "language": "scilab",
		   "name": "scilab"
		  },
		  "language_info": {
		   "file_extension": ".sce",
		   "help_links": [
			{
			 "text": "MetaKernel Magics",
			 "url": "https://github.com/calysto/metakernel/blob/master/metakernel/magics/README.md"
			}
		   ],
		   "mimetype": "text/x-octave",
		   "name": "scilab",
		   "version": "0.7.1"
		  }
		 },
		 "nbformat": 4,
		 "nbformat_minor": 0
}
