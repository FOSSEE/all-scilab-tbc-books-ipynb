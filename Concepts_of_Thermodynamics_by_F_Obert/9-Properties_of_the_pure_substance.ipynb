{
"cells": [
 {
		   "cell_type": "markdown",
	   "metadata": {},
	   "source": [
       "# Chapter 9: Properties of the pure substance"
	   ]
	},
{
		   "cell_type": "markdown",
		   "metadata": {},
		   "source": [
			"## Example 9.10: Work_done_calculation.sce"
		   ]
		  },
  {
"cell_type": "code",
	   "execution_count": null,
	   "metadata": {
	    "collapsed": true
	   },
	   "outputs": [],
"source": [
"clc\n",
"clear\n",
"//Initialization of variables\n",
"P1=144 //psia\n",
"T1=400 //F\n",
"y=0.7\n",
"//calculations\n",
"disp('From steam tables,')\n",
"h1=1220.4 //Btu/lbm\n",
"s1=1.6050 //Btu/lbm R\n",
"s2=1.6050 //Btu/lbm R\n",
"P2=3 //psia\n",
"sf=0.2008 //Btu/lbm R\n",
"sfg=1.6855 //Btu/lbm R\n",
"x=(s1-sf)/sfg\n",
"hf=109.37 //Btu/lbm\n",
"hfg=1013.2 //Btu/;bm\n",
"h2=hf+x*hfg\n",
"work=h1-h2\n",
"dw=y*work\n",
"h2d=h1-dw\n",
"//results\n",
"printf('Work done = %d Btu/lbm',work)\n",
"printf('\n work done in case 2 = %.1f Btu/lbm',dw)\n",
"printf('\n Final state pressure = %d psia',P2)"
   ]
   }
,
{
		   "cell_type": "markdown",
		   "metadata": {},
		   "source": [
			"## Example 9.11: Quality_calculatio.sce"
		   ]
		  },
  {
"cell_type": "code",
	   "execution_count": null,
	   "metadata": {
	    "collapsed": true
	   },
	   "outputs": [],
"source": [
"clc\n",
"clear\n",
"//Initialization of variables\n",
"pb=14.696 //psia\n",
"pa=150 //psia\n",
"tb=300 //F\n",
"//calculations\n",
"disp('From steam tables,')\n",
"hb=1192.8 //Btu/lbm\n",
"ha=hb\n",
"hf=330.51 //Btu/lbm\n",
"hfg=863.6 //Btu/lbm\n",
"x=(ha-hf)/hfg\n",
"//results\n",
"printf('Quality of wet steam = %.1f percent',x*100)"
   ]
   }
,
{
		   "cell_type": "markdown",
		   "metadata": {},
		   "source": [
			"## Example 9.12: Efficiency_calculation.sce"
		   ]
		  },
  {
"cell_type": "code",
	   "execution_count": null,
	   "metadata": {
	    "collapsed": true
	   },
	   "outputs": [],
"source": [
"clc\n",
"clear\n",
"//Initialization of variables\n",
"p1=600 //psia\n",
"p2=0.2563 //psia\n",
"t1=486.21 //F\n",
"t2=60 //F\n",
"fur=0.75\n",
"//calculations\n",
"disp('from steam tables,')\n",
"h1=1203.2\n",
"hf1=471.6\n",
"hfg1=731.6\n",
"h2=1088\n",
"hf2=28.06\n",
"hfg2=1059.9\n",
"s1=1.4454\n",
"sf1=0.6720\n",
"sfg1=0.7734\n",
"s2=2.0948\n",
"sf2=0.0555\n",
"sfg2=2.0393\n",
"xd=(s1-sf2)/sfg2\n",
"hd=hf2+xd*hfg2\n",
"xa=0.3023\n",
"ha=hf2+xa*hfg2\n",
"wbc=0\n",
"wda=0\n",
"wcd=h1-hd\n",
"wab=ha-hf1\n",
"W=wab+wcd+wbc+wda\n",
"Wrev=hfg1- (t2+459.7)*sfg1\n",
"etat=(t1-t2)/(t1+459.7)\n",
"eta=fur*etat\n",
"//results\n",
"printf('Thermal efficiency = %d percent',etat*100)\n",
"printf('\n Furnace efficiency = %.1f percent',eta*100)\n",
""
   ]
   }
,
{
		   "cell_type": "markdown",
		   "metadata": {},
		   "source": [
			"## Example 9.13: Efficiency_calculation.sce"
		   ]
		  },
  {
"cell_type": "code",
	   "execution_count": null,
	   "metadata": {
	    "collapsed": true
	   },
	   "outputs": [],
"source": [
"clc\n",
"clear\n",
"//Initialization of variables\n",
"dhab=-123.1\n",
"etac=0.5\n",
"ha=348.5\n",
"etaf=0.75\n",
"eta=0.85\n",
"hf=471.6\n",
"hfg=731.6\n",
"hc=1203.2\n",
"dhcd=452.7\n",
"//calculations\n",
"dwabs=dhab/etac\n",
"hbd=ha-dwabs\n",
"dwcds=dhcd*eta\n",
"dqa=hc-hbd\n",
"etat=(dwcds+dwabs)/dqa\n",
"eta=etat*etaf\n",
"//results\n",
"printf('Thermal efficiency = %.1f percent',etat*100)\n",
"printf('\n Overall efficiency = %.1f percent',eta*100)"
   ]
   }
,
{
		   "cell_type": "markdown",
		   "metadata": {},
		   "source": [
			"## Example 9.14: Efficiency_calculation.sce"
		   ]
		  },
  {
"cell_type": "code",
	   "execution_count": null,
	   "metadata": {
	    "collapsed": true
	   },
	   "outputs": [],
"source": [
"clc\n",
"clear\n",
"//Initialization of variables\n",
"t=60 //F\n",
"J=778.16\n",
"p1=600 //psia\n",
"p2=0.2563 //psia\n",
"etaf=0.85 \n",
"//calculations\n",
"disp('From steam tables,')\n",
"vf=0.01604 //ft^3/lbm\n",
"dw=-vf*(p1-p2)*144/J\n",
"ha=28.06 //Btu/lbm\n",
"hb=29.84 //Btu/lbm\n",
"hd=1203.2 //Btu/lbm\n",
"he=750.5 //Btu/lbm\n",
"dqa=hd-hb\n",
"dqr=ha-he\n",
"dw=dqa+dqr\n",
"dwturb=hd-he\n",
"dwpump=ha-hb\n",
"etat=dw/dqa\n",
"eta=etat*etaf\n",
"//results\n",
"printf('Thermal efficiency = %.1f percent',etat*100)\n",
"printf('\n Overall efficiency = %.1f percent',eta*100)\n",
"    "
   ]
   }
,
{
		   "cell_type": "markdown",
		   "metadata": {},
		   "source": [
			"## Example 9.15: Efficiency_calculation.sce"
		   ]
		  },
  {
"cell_type": "code",
	   "execution_count": null,
	   "metadata": {
	    "collapsed": true
	   },
	   "outputs": [],
"source": [
"clc\n",
"clear\n",
"//Initialization of variables\n",
"dhab=-1.78\n",
"etac=0.5\n",
"ha=28.06\n",
"eta=0.85\n",
"hf=471.6\n",
"hfg=731.6\n",
"hd=1203.2\n",
"dhcd=452.7\n",
"//calculations\n",
"dwabs=dhab/etac\n",
"hbd=ha-dwabs\n",
"dwcds=dhcd*eta\n",
"dqa=hd-hbd\n",
"etat=(dwcds+dwabs)/dqa\n",
"eta=etat*eta\n",
"//results\n",
"printf('Thermal efficiency = %.1f percent',etat*100)\n",
"printf('\n Overall efficiency = %.1f percent',eta*100)\n",
""
   ]
   }
,
{
		   "cell_type": "markdown",
		   "metadata": {},
		   "source": [
			"## Example 9.16: cop_and_work_calculation.sce"
		   ]
		  },
  {
"cell_type": "code",
	   "execution_count": null,
	   "metadata": {
	    "collapsed": true
	   },
	   "outputs": [],
"source": [
"clc\n",
"clear\n",
"//Initialization of variables\n",
"Ta=500 //R\n",
"Tr=540 //R\n",
"//calculations\n",
"cop=Ta/(Tr-Ta)\n",
"hp=4.71/cop\n",
"disp('From steam tables,')\n",
"ha=48.02\n",
"hb=46.6\n",
"hc=824.1\n",
"hd=886.9\n",
"Wc=-(hd-hc)\n",
"We=-(hb-ha)\n",
"//results\n",
"printf('Coefficient of performance = %.1f ',cop)\n",
"printf('\n horsepower required per ton of refrigeration = %.3f hp/ton refrigeration',hp)\n",
"printf('\n Work of compression = %.1f Btu/lbm',Wc)\n",
"printf('\n Work of expansion = %.2f Btu/lbm',We)\n",
""
   ]
   }
,
{
		   "cell_type": "markdown",
		   "metadata": {},
		   "source": [
			"## Example 9.17: cop_calculatio.sce"
		   ]
		  },
  {
"cell_type": "code",
	   "execution_count": null,
	   "metadata": {
	    "collapsed": true
	   },
	   "outputs": [],
"source": [
"clc\n",
"clear\n",
"//Initialization of variables\n",
"x=0.8\n",
"he=26.28 //Btu/lbm\n",
"hb=26.28 //Btu/lbm\n",
"pe=98.76 //psia\n",
"pc=51.68 //psia\n",
"hc=82.71 //Btu/lbm\n",
"hf=86.80+0.95\n",
"//calculations\n",
"dwisen=-(hf-hc)\n",
"dwact=dwisen/x\n",
"hd=hc-dwact\n",
"cop=(hc-hb)/(hd-hc)\n",
"//results\n",
"printf('Coefficient of performance = %.2f',cop)"
   ]
   }
,
{
		   "cell_type": "markdown",
		   "metadata": {},
		   "source": [
			"## Example 9.1: Internal_energy_calculation.sce"
		   ]
		  },
  {
"cell_type": "code",
	   "execution_count": null,
	   "metadata": {
	    "collapsed": true
	   },
	   "outputs": [],
"source": [
"clc\n",
"clear\n",
"//Initialization of variables\n",
"T=32 //F\n",
"m=1 //lbm\n",
"J=778.16\n",
"//calculations\n",
"disp('From steam tables,')\n",
"hf=0 \n",
"p=0.08854 //psia\n",
"vf=0.01602 //ft^3/lbm\n",
"u=hf-p*144*vf/J\n",
"//results\n",
"printf('Internal energy = %.7f Btu/lbm',u)"
   ]
   }
,
{
		   "cell_type": "markdown",
		   "metadata": {},
		   "source": [
			"## Example 9.2: Change_in_entropy_calculation.sce"
		   ]
		  },
  {
"cell_type": "code",
	   "execution_count": null,
	   "metadata": {
	    "collapsed": true
	   },
	   "outputs": [],
"source": [
"clc\n",
"clear\n",
"//Initialization of variables\n",
"P=40 //psia\n",
"//calculations\n",
"disp('from steam tables,')\n",
"hf=200.8 //Btu/lbm\n",
"hg=27 //Btu/lbm\n",
"T=495  //R\n",
"ds=(hf-hg)/T\n",
"//results\n",
"printf('Change in entropy = %.3f Btu/lbm R',ds)"
   ]
   }
,
{
		   "cell_type": "markdown",
		   "metadata": {},
		   "source": [
			"## Example 9.3: Specific_enthalpy_calculation.sce"
		   ]
		  },
  {
"cell_type": "code",
	   "execution_count": null,
	   "metadata": {
	    "collapsed": true
	   },
	   "outputs": [],
"source": [
"clc\n",
"clear\n",
"//Initialization of variables\n",
"x=0.35\n",
"T=18 //F\n",
"//calculations\n",
"disp('From table B-14,')\n",
"hf=12.12 //Btu/lbm\n",
"hg=80.27 //Btu.lbm\n",
"hfg=-hf+hg\n",
"h=hf+x*hfg\n",
"//results\n",
"printf('specific enthalpy = %.1f Btu/lbm',h)"
   ]
   }
,
{
		   "cell_type": "markdown",
		   "metadata": {},
		   "source": [
			"## Example 9.4: Heat_required.sce"
		   ]
		  },
  {
"cell_type": "code",
	   "execution_count": null,
	   "metadata": {
	    "collapsed": true
	   },
	   "outputs": [],
"source": [
"clc\n",
"clear\n",
"//Initialization of variables\n",
"x=0.35\n",
"T=18 //F\n",
"T2=55.5 //F\n",
"//calculations\n",
"disp('From table B-14,')\n",
"hf=12.12 //Btu/lbm\n",
"hg=80.27 //Btu.lbm\n",
"hfg=-hf+hg\n",
"h=hf+x*hfg\n",
"h2=85.68 //Btu/lbm\n",
"dh=h2-h\n",
"//results\n",
"printf('Heat required = %.2f Btu/lbm',dh)"
   ]
   }
,
{
		   "cell_type": "markdown",
		   "metadata": {},
		   "source": [
			"## Example 9.5: Enthalpy_and_quality.sce"
		   ]
		  },
  {
"cell_type": "code",
	   "execution_count": null,
	   "metadata": {
	    "collapsed": true
	   },
	   "outputs": [],
"source": [
"clc\n",
"clear\n",
"//Initialization of variables\n",
"P=1460 //psia\n",
"T=135 //F\n",
"P2=700 //psia\n",
"//calculations\n",
"disp('From mollier chart,')\n",
"h=120 //Btu/lbm\n",
"x=0.83\n",
"//results\n",
"printf('enthalpy = %d Btu/lbm',h)\n",
"printf('\n Qulaity = %.2f',x)"
   ]
   }
,
{
		   "cell_type": "markdown",
		   "metadata": {},
		   "source": [
			"## Example 9.6: Heat_transferred.sce"
		   ]
		  },
  {
"cell_type": "code",
	   "execution_count": null,
	   "metadata": {
	    "collapsed": true
	   },
	   "outputs": [],
"source": [
"clc\n",
"clear\n",
"//Initialization of variables\n",
"m=1 //lbm\n",
"P1=144 //psia\n",
"P2=150 //psia\n",
"T1=360 //F\n",
"J=778.16\n",
"//calculations\n",
"disp('From table 3,')\n",
"v1=3.160 //ft^3/lbm\n",
"h1=1196.5 //Btu/lbm\n",
"u1=h1-P1*144*v1/J\n",
"h2=1211.4 //Btu/lbm\n",
"u2=h2-P2*144*v1/J\n",
"dq=u2-u1\n",
"//results\n",
"printf('Heat transferred = %.1f Btu/lbm',dq)"
   ]
   }
,
{
		   "cell_type": "markdown",
		   "metadata": {},
		   "source": [
			"## Example 9.7: Work_done_calculation.sce"
		   ]
		  },
  {
"cell_type": "code",
	   "execution_count": null,
	   "metadata": {
	    "collapsed": true
	   },
	   "outputs": [],
"source": [
"clc\n",
"clear\n",
"//Initialization of variables\n",
"T1=100 //F\n",
"P2=1000 //psia\n",
"x=0.6\n",
"J=778.16\n",
"tir=2 \n",
"P1=0.9 //psia\n",
"//calculations\n",
"disp('From table 3,')\n",
"hf=67.97\n",
"htc=2.7\n",
"hpc=0.32\n",
"h1=67.97\n",
"dv=0.000051\n",
"v=0.01613\n",
"h2=hf+htc+hpc\n",
"wrev=h1-h2\n",
"wact=wrev/x\n",
"dt=hpc+tir\n",
"t2act=T1+dt\n",
"wrev2=-v*144*(P2-P1)/J\n",
"dw=(P1+P2)/2 *dv *144/J\n",
"//results\n",
"printf('Work required = %.2f Btu/lbm',wact)\n",
"printf('\n reversible work done = %.2f Btu/lbm',wrev2)\n",
"printf('\n Work done in compression = %.4f Btu/lbm',dw)"
   ]
   }
,
{
		   "cell_type": "markdown",
		   "metadata": {},
		   "source": [
			"## Example 9.8: Heat_transferred.sce"
		   ]
		  },
  {
"cell_type": "code",
	   "execution_count": null,
	   "metadata": {
	    "collapsed": true
	   },
	   "outputs": [],
"source": [
"clc\n",
"clear\n",
"//Initialization of variables\n",
"pa=1000 //atm\n",
"ta=100 //F\n",
"//calculations\n",
"hf=67.97 //Btu/lbm\n",
"w=3 //Btu/lbm\n",
"ha=hf+w\n",
"disp('from steam table 2,')\n",
"hc=1191.8 //Btu/lbm\n",
"qrev=hc-ha\n",
"//results\n",
"printf('Heat transferred = %.1f Btu/lbm',qrev)"
   ]
   }
],
"metadata": {
		  "kernelspec": {
		   "display_name": "Scilab",
		   "language": "scilab",
		   "name": "scilab"
		  },
		  "language_info": {
		   "file_extension": ".sce",
		   "help_links": [
			{
			 "text": "MetaKernel Magics",
			 "url": "https://github.com/calysto/metakernel/blob/master/metakernel/magics/README.md"
			}
		   ],
		   "mimetype": "text/x-octave",
		   "name": "scilab",
		   "version": "0.7.1"
		  }
		 },
		 "nbformat": 4,
		 "nbformat_minor": 0
}
