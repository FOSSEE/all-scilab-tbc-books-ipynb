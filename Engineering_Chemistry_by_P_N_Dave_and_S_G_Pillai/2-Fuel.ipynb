{
"cells": [
 {
		   "cell_type": "markdown",
	   "metadata": {},
	   "source": [
       "# Chapter 2: Fuel"
	   ]
	},
{
		   "cell_type": "markdown",
		   "metadata": {},
		   "source": [
			"## Example 2.1: Calculating_GCV_and_NCV.sce"
		   ]
		  },
  {
"cell_type": "code",
	   "execution_count": null,
	   "metadata": {
	    "collapsed": true
	   },
	   "outputs": [],
"source": [
"//calculating GCV and NCV\n",
"//Example 2.1\n",
"clc\n",
"clear\n",
"C=60//percentage of Carbon in coal\n",
"O=33//percentage of Oxygen in coal\n",
"H=6//percentage of Hydrogen in coal\n",
"S=0.5//percentage of Sulphur in coal\n",
"N=0.5//percentage of Nitrogen in coal\n",
"GCV=((8080*C)+(34500*(H-O/8))+(2240*S))/100//gross calorific value in kcal/kg\n",
"NCV=(GCV-(0.09*H*587))//net calorific value in kcal/kg\n",
"printf('Thus the higher calorific value of coal = %4.2f kcal/kg',GCV)\n",
"printf('\n and the lower calorific value of coal = %4.2f kcal/kg',NCV)"
   ]
   }
,
{
		   "cell_type": "markdown",
		   "metadata": {},
		   "source": [
			"## Example 2.2: Calculating_GCV_and_NCV.sce"
		   ]
		  },
  {
"cell_type": "code",
	   "execution_count": null,
	   "metadata": {
	    "collapsed": true
	   },
	   "outputs": [],
"source": [
"//calculating GCV and NCV\n",
"//Example 2.2\n",
"clc\n",
"clear\n",
"C=90//percentage of Carbon in coal\n",
"O=2//percentage of Oxygen in coal\n",
"H=4//percentage of Hydrogen in coal\n",
"S=2.5//percentage of Sulphur in coal\n",
"N=1//percentage of Nitrogen in coal\n",
"GCV=((8080*C)+(34500*(H-O/8))+(2240*S))/100//gross calorific value in kcal/kg\n",
"NCV=(GCV-(0.09*H*587))//net calorific value in kcal/kg\n",
"printf('Thus the gross calorific value of coal = %4.2f kcal/kg',GCV)\n",
"printf('\n and the net calorific value of coal = %4.2f kcal/kg',NCV)"
   ]
   }
,
{
		   "cell_type": "markdown",
		   "metadata": {},
		   "source": [
			"## Example 2.3: Calculating_GCV_and_NCV.sce"
		   ]
		  },
  {
"cell_type": "code",
	   "execution_count": null,
	   "metadata": {
	    "collapsed": true
	   },
	   "outputs": [],
"source": [
"//calculating GCV and NCV\n",
"//Example 2.3\n",
"clc\n",
"clear\n",
"C=80//percentage of Carbon in coal\n",
"O=3//percentage of Oxygen in coal\n",
"H=7//percentage of Hydrogen in coal\n",
"S=3.5//percentage of Sulphur in coal\n",
"N=2.1//percentage of Nitrogen in coal\n",
"GCV=((8080*C)+(34500*(H-O/8))+(2240*S))/100//gross calorific value in kcal/kg\n",
"NCV=(GCV-(0.09*H*587))//net calorific value in kcal/kg\n",
"printf('Thus the gross calorific value of coal = %4.0f kcal/kg',GCV)\n",
"printf('\n and the net calorific value of coal = %4.0f kcal/kg',NCV)"
   ]
   }
,
{
		   "cell_type": "markdown",
		   "metadata": {},
		   "source": [
			"## Example 2.4: Calculating_GCV_and_NCV.sce"
		   ]
		  },
  {
"cell_type": "code",
	   "execution_count": null,
	   "metadata": {
	    "collapsed": true
	   },
	   "outputs": [],
"source": [
"//calculating GCV and NCV\n",
"//Example 2.4\n",
"clc\n",
"clear\n",
"C=84//percentage of Carbon in coal\n",
"O=8.4//percentage of Oxygen in coal\n",
"H=5.5//percentage of Hydrogen in coal\n",
"S=1.5//percentage of Sulphur in coal\n",
"N=0.6//percentage of Nitrogen in coal\n",
"GCV=((8080*C)+(34500*(H-O/8))+(2240*S))/100//gross calorific value in kcal/kg\n",
"NCV=(GCV-(0.09*H*587))//net calorific value in kcal/kg\n",
"printf('Thus the gross calorific value of coal = %4.0f kcal/kg',GCV)\n",
"printf('\n and the net calorific value of coal = %4.0f kcal/kg',NCV)"
   ]
   }
,
{
		   "cell_type": "markdown",
		   "metadata": {},
		   "source": [
			"## Example 2.5: Proximate_Analysis.sce"
		   ]
		  },
  {
"cell_type": "code",
	   "execution_count": null,
	   "metadata": {
	    "collapsed": true
	   },
	   "outputs": [],
"source": [
"//calculating proximate analysis\n",
"//Example 2.5\n",
"clc\n",
"clear\n",
"m1=1//mass of air dried coal in g\n",
"m2=0.985//mass of dry coal residue after heating for 1hr in g\n",
"m3=0.8//mass of residue after heating for 7min in g\n",
"m4=0.1//mass of last residue\n",
"Mm=m1-m2//mass of moisture in coal sample in g\n",
"Mv=m2-m3//mass of volatile matter in g\n",
"Ma=m4//mass of ash\n",
"%m=Mm*100//percentage moisture\n",
"%v=Mv*100//percentage of volatile matter\n",
"%a=Ma*100//percentage of ash\n",
"%c=100-(%m+%v+%a)//percentage of fixed carbon\n",
"printf('Thus (i)percentage of moisture = %2.1f percent\n',%m)\n",
"printf('(ii)percentage of volatile matter = %2.1f percent\n',%v)\n",
"printf('(iii)percentage of ash = %2.0f percent\n',%a)\n",
"printf('(iv)percentage of fixed carbon = %2.0f percent \n',%c)"
   ]
   }
,
{
		   "cell_type": "markdown",
		   "metadata": {},
		   "source": [
			"## Example 2.6: Calculating_percentage_C_and_H.sce"
		   ]
		  },
  {
"cell_type": "code",
	   "execution_count": null,
	   "metadata": {
	    "collapsed": true
	   },
	   "outputs": [],
"source": [
"//calculating percentage C and H\n",
"//Example 2.6\n",
"clc\n",
"clear\n",
"wt1=2.75//increase in wt of KOH tube in gm\n",
"wt2=0.45//increase in wt of CaCl2 tube in gm\n",
"wt=1//weight of coal sample in gm\n",
"%c=(wt1*12*100)/(wt*44)//percentage of carbon\n",
"%h=(wt2*2*100)/(wt*18)//percentage of hydrogen\n",
"printf('Thus (i)Percentage of carbon = %2.0f percent',%c)\n",
"printf('\n(ii)Percentage of hydrogen =%2.0f percent',%h)"
   ]
   }
,
{
		   "cell_type": "markdown",
		   "metadata": {},
		   "source": [
			"## Example 2.7: Calculating_percentage_S_and_N.sce"
		   ]
		  },
  {
"cell_type": "code",
	   "execution_count": null,
	   "metadata": {
	    "collapsed": true
	   },
	   "outputs": [],
"source": [
"//calculating percentage S and N\n",
"//Example 2.7\n",
"clc\n",
"clear\n",
"wt1=2.6//weight of coal taken for quantitative analysis in gm\n",
"wt=1.56//weight of coal sample taken in gm\n",
"v=50-6.25//volume of H2SO4 used\n",
"N=0.1//normality\n",
"m=0.1755//wt of BaSO4 ppt. obtained \n",
"%n=(v*N*1.4)/(wt)//percentage of nitrogen\n",
"%su=(m*32*100)/(wt1*233)//percentage of sulphur\n",
"printf('Thus (i)Percentage of nitrogen = %2.3f percent',%n)\n",
"printf('\n(ii)Percentage of sulphur =%2.3f percent',%su)"
   ]
   }
,
{
		   "cell_type": "markdown",
		   "metadata": {},
		   "source": [
			"## Example 2.8: Calculating_percentage_S.sce"
		   ]
		  },
  {
"cell_type": "code",
	   "execution_count": null,
	   "metadata": {
	    "collapsed": true
	   },
	   "outputs": [],
"source": [
"//calculating percentage S\n",
"//Example 2.8\n",
"clc\n",
"clear\n",
"wt=0.5//weight of coal taken for quantitative analysis in gm\n",
"m=0.05//wt of BaSO4 ppt. obtained \n",
"%su=(m*32*100)/(wt*233)//percentage of sulphur\n",
"printf('Thus Percentage of sulphur =%2.3f percent',%su)"
   ]
   }
],
"metadata": {
		  "kernelspec": {
		   "display_name": "Scilab",
		   "language": "scilab",
		   "name": "scilab"
		  },
		  "language_info": {
		   "file_extension": ".sce",
		   "help_links": [
			{
			 "text": "MetaKernel Magics",
			 "url": "https://github.com/calysto/metakernel/blob/master/metakernel/magics/README.md"
			}
		   ],
		   "mimetype": "text/x-octave",
		   "name": "scilab",
		   "version": "0.7.1"
		  }
		 },
		 "nbformat": 4,
		 "nbformat_minor": 0
}
