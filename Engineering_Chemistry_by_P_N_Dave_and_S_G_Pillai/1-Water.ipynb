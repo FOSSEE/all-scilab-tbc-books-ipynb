{
"cells": [
 {
		   "cell_type": "markdown",
	   "metadata": {},
	   "source": [
       "# Chapter 1: Water"
	   ]
	},
{
		   "cell_type": "markdown",
		   "metadata": {},
		   "source": [
			"## Example 1.10: Calculating_Volume.sce"
		   ]
		  },
  {
"cell_type": "code",
	   "execution_count": null,
	   "metadata": {
	    "collapsed": true
	   },
	   "outputs": [],
"source": [
"//calculating volume\n",
"//Example 1.10\n",
"clc\n",
"clear\n",
"v=100//Amount of NaCl solution in litres\n",
"m=120*v//Amount of NaCl in g\n",
"wt=58.5*2//molecular mass of NaCl\n",
"Eq=m*100/wt//Equivalents of CaCO3 in g\n",
"h=500//hardness in ppm\n",
"V=Eq*1000/h//water required to soften the zeolite softner in litres\n",
"printf('Thus the zeolite softner can soften %5.2f L of Hard water',V)"
   ]
   }
,
{
		   "cell_type": "markdown",
		   "metadata": {},
		   "source": [
			"## Example 1.11: Calculating_Hardness.sce"
		   ]
		  },
  {
"cell_type": "code",
	   "execution_count": null,
	   "metadata": {
	    "collapsed": true
	   },
	   "outputs": [],
"source": [
"//calculating hardness\n",
"//Example 1.11\n",
"clc\n",
"clear\n",
"v=30//Amount of NaCl solution in litres\n",
"m=15*v//Amount of NaCl in g\n",
"wt=58.5*2//molecular mass of NaCl\n",
"Eq=m*100/wt//Equivalents of CaCO3 in g\n",
"V=1000//water required to soften the zeolite softner in litres\n",
"h=Eq*1000/V//hardness in ppm\n",
"printf('Thus the hardness of water = %3.2f ppm',h)"
   ]
   }
,
{
		   "cell_type": "markdown",
		   "metadata": {},
		   "source": [
			"## Example 1.1: Calculating_Hardness.sce"
		   ]
		  },
  {
"cell_type": "code",
	   "execution_count": null,
	   "metadata": {
	    "collapsed": true
	   },
	   "outputs": [],
"source": [
"//calculating hardness\n",
"//Example 1.1\n",
"clc\n",
"clear\n",
"//100gm of CaCO3 = 136gm of CaSO4\n",
"m=204//mass of the substance\n",
"wt=136//molecular mass\n",
"Eq=(m*100)/wt//Equivalents of CaCO3\n",
"printf('Thus Equivalents of CaCO3 = %3.2f mg/L or ppm',Eq)"
   ]
   }
,
{
		   "cell_type": "markdown",
		   "metadata": {},
		   "source": [
			"## Example 1.2: Calculating_Mass.sce"
		   ]
		  },
  {
"cell_type": "code",
	   "execution_count": null,
	   "metadata": {
	    "collapsed": true
	   },
	   "outputs": [],
"source": [
"//calculating mass\n",
"//Example 1.2\n",
"clc\n",
"clear\n",
"wt=152//molar mass of FeSo4 in moles\n",
"Eq=210.5//equivalents of CaCO3 in ppm\n",
"m=wt*Eq/100//Mass of FeSO4 in ppm\n",
"m1=m/1000//Mass of FeSO4 required per liter\n",
"printf('Thus the mass of FeSO4 required per litre is %2.5f g/L',m1)"
   ]
   }
,
{
		   "cell_type": "markdown",
		   "metadata": {},
		   "source": [
			"## Example 1.3: Calculating_Hardness.sce"
		   ]
		  },
  {
"cell_type": "code",
	   "execution_count": null,
	   "metadata": {
	    "collapsed": true
	   },
	   "outputs": [],
"source": [
"//calculating hardness\n",
"//Example 1.3\n",
"clc\n",
"clear\n",
"//For Ca(HCO3)2,\n",
"q1=10//quantity\n",
"wt1=162//molecular weight \n",
"M1=100/wt1//multiplication factor\n",
"Eq1=M1*q1//CaCO3 equivalents in mg/L\n",
"//For Mg(HCO3)2,\n",
"q2=8.5//quantity\n",
"wt2=146//molecular weight \n",
"M2=100/wt2//multiplication factor\n",
"Eq2=M2*q2//CaCO3 equivalents in mg/L\n",
"//For CaSO4,\n",
"q3=12//quantity\n",
"wt3=136//molecular weight \n",
"M3=100/wt3//multiplication factor\n",
"Eq3=M3*q3//CaCO3 equivalents in mg/L\n",
"//For MgSO4,\n",
"q4=14//quantity\n",
"wt4=120//molecular weight \n",
"M4=100/wt4//multiplication factor\n",
"Eq4=M4*q4//CaCO3 equivalents in mg/L\n",
"Th=Eq1+Eq2//Temperory hardness due to Mg(HCO3)2 and Ca(HCO3)2\n",
"Ph=Eq3+Eq4//Permanent hardness due to CaSO4 and MgSO4\n",
"T=Th+Ph//Total hardness\n",
"printf('Thus (i) in mg/L Temporary hardness = %2.2f',Th)\n",
"printf('\n and permanent hardness = %2.2f',Ph)\n",
"printf('\n and total hardness = %2.2f',T)\n",
"printf('\n\n(ii) in ppm Temporary hardness = %2.2f',Th)\n",
"printf('\n and permanent hardness = %2.2f',Ph)\n",
"printf('\n and total hardness = %2.2f',T)\n",
"ThC=Th*0.07//temperory hardness in degreeCl\n",
"PhC=Ph*0.07//permanent hardness in degreeCl\n",
"TC=T*0.07//total hardness in degreeCl\n",
"ThF=Th*0.1//temperory hardness in degreeFr\n",
"PhF=Ph*0.1//permanent hardness in degreeFr\n",
"TF=T*0.1//total hardness in degreeFr\n",
"printf('\n\n(iii) in degreeCl Temporary hardness = %2.4f',ThC)\n",
"printf('\n and permanent hardness = %2.4f',PhC)\n",
"printf('\n and total hardness = %2.4f',TC)\n",
"printf('\n\n(iv) in degreeFr Temporary hardness = %2.4f',ThF)\n",
"printf('\n and permanent hardness = %2.4f',PhF)\n",
"printf('\n and total hardness = %2.4f',TF)\n",
"\n",
"\n",
""
   ]
   }
,
{
		   "cell_type": "markdown",
		   "metadata": {},
		   "source": [
			"## Example 1.4: Calculating_Hardness.sce"
		   ]
		  },
  {
"cell_type": "code",
	   "execution_count": null,
	   "metadata": {
	    "collapsed": true
	   },
	   "outputs": [],
"source": [
"//calculating hardness\n",
"//Example 1.4\n",
"clc\n",
"clear\n",
"//For Ca(HCO3)2,\n",
"q1=40.5//quantity\n",
"wt1=162//molecular weight \n",
"M1=100/wt1//multiplication factor\n",
"Eq1=M1*q1//CaCO3 equivalents in mg/L\n",
"//For Mg(HCO3)2,\n",
"q2=46.5//quantity\n",
"wt2=146//molecular weight \n",
"M2=100/wt2//multiplication factor\n",
"Eq2=M2*q2//CaCO3 equivalents in mg/L\n",
"//For MgSO4,\n",
"q3=27.6//quantity\n",
"wt3=120//molecular weight \n",
"M3=100/wt3//multiplication factor\n",
"Eq3=M3*q3//CaCO3 equivalents in mg/L\n",
"//For CaSO4,\n",
"q4=32.1//quantity\n",
"wt4=136//molecular weight \n",
"M4=100/wt4//multiplication factor\n",
"Eq4=M4*q4//CaCO3 equivalents in mg/L\n",
"//For CaCl2\n",
"q5=22.45//quantity\n",
"wt5=111//molecular weight \n",
"M5=100/wt5//multiplication factor\n",
"Eq5=M5*q5//CaCO3 equivalents in mg/L\n",
"Th=Eq1+Eq2//Temperory hardness due to Mg(HCO3)2 and Ca(HCO3)2\n",
"Ph=Eq3+Eq4+Eq5//Permanent hardness due to CaSO4 and MgSO4 and CaCl2\n",
"T=Th+Ph//Total hardness\n",
"printf('Thus in Temporary hardness = %2.2f mg/L',Th)\n",
"printf('\n and permanent hardness = %2.2f mg/L',Ph)\n",
"printf('\n and total hardness = %3.2f mg/L',T)"
   ]
   }
,
{
		   "cell_type": "markdown",
		   "metadata": {},
		   "source": [
			"## Example 1.5: Calculating_Hardness.sce"
		   ]
		  },
  {
"cell_type": "code",
	   "execution_count": null,
	   "metadata": {
	    "collapsed": true
	   },
	   "outputs": [],
"source": [
"//calculating hardness\n",
"//Example 1.5\n",
"clc\n",
"clear\n",
"//For Ca(HCO3)2,\n",
"q1=12.5//quantity\n",
"wt1=162//molecular weight \n",
"M1=100/wt1//multiplication factor\n",
"Eq1=M1*q1//CaCO3 equivalents in mg/L\n",
"//For CaCl2,\n",
"q2=8.2//quantity\n",
"wt2=111//molecular weight \n",
"M2=100/wt2//multiplication factor\n",
"Eq2=M2*q2//CaCO3 equivalents in mg/L\n",
"//For MgSO4,\n",
"q3=2.6//quantity\n",
"wt3=120//molecular weight \n",
"M3=100/wt3//multiplication factor\n",
"Eq3=M3*q3//CaCO3 equivalents in mg/L\n",
"Th=Eq1//Temperory hardness due to Ca(HCO3)2 in ppm\n",
"Ph=Eq3+Eq2//Permanent hardness due to MgSO4 and CaCl2 in ppm\n",
"T=Th+Ph//Total hardness in ppm\n",
"TF=T*0.1//Total hardness in degreeFr\n",
"printf('Thus in ppm Temporary hardness = %2.2f ppm',Th)\n",
"printf('\n and permanent hardness = %2.2f ppm',Ph)\n",
"printf('\n in degreeFr total hardness = %3.3f',TF)"
   ]
   }
,
{
		   "cell_type": "markdown",
		   "metadata": {},
		   "source": [
			"## Example 1.6: Calculating_Lime_and_Soda.sce"
		   ]
		  },
  {
"cell_type": "code",
	   "execution_count": null,
	   "metadata": {
	    "collapsed": true
	   },
	   "outputs": [],
"source": [
"//calculating lime and soda\n",
"//Example 1.6\n",
"clc\n",
"clear\n",
"//For Ca(HCO3)2,\n",
"q1=4.86//quantity\n",
"wt1=162//molecular weight \n",
"M1=100/wt1//multiplication factor\n",
"Eq1=M1*q1//CaCO3 equivalents in mg/L\n",
"//For Mg(HCO3)2,\n",
"q2=7.3//quantity\n",
"wt2=146//molecular weight \n",
"M2=100/wt2//multiplication factor\n",
"Eq2=M2*q2//CaCO3 equivalents in mg/L\n",
"//For CaSO4,\n",
"q3=6.8//quantity\n",
"wt3=136//molecular weight \n",
"M3=100/wt3//multiplication factor\n",
"Eq3=M3*q3//CaCO3 equivalents in mg/L\n",
"//For MgCl2,\n",
"q4=5.7//quantity\n",
"wt4=95//molecular weight \n",
"M4=100/wt4//multiplication factor\n",
"Eq4=M4*q4//CaCO3 equivalents in mg/L\n",
"//For MgSO4,\n",
"q5=9//quantity\n",
"wt5=120//molecular weight \n",
"M5=100/wt5//multiplication factor\n",
"Eq5=M5*q5//CaCO3 equivalents in mg/L\n",
"//SiO2 and NaCl neglected\n",
"V=25000//Volume of water in litres\n",
"L=74*(Eq1+(2*Eq2)+Eq4+Eq5)/100//lime requirement in mg/L\n",
"L1=L*V/1000000//Lime required for softening 25000 litres in kg\n",
"S=106*(Eq3+Eq4+Eq5)/100//soda requirement in mg/L\n",
"S1=S*V/1000000//soda required for softening 25000 litres in kg\n",
"printf('Thus amount of lime required to soften 25000 litres of water = %2.5f kg\n',L1)\n",
"printf('and amount of soda required to soften 25000 litres of water = %2.5f kg\n',S1)"
   ]
   }
,
{
		   "cell_type": "markdown",
		   "metadata": {},
		   "source": [
			"## Example 1.7: Calculating_Hardness_and_Lime_Soda.sce"
		   ]
		  },
  {
"cell_type": "code",
	   "execution_count": null,
	   "metadata": {
	    "collapsed": true
	   },
	   "outputs": [],
"source": [
"//calculating lime-soda and hardness\n",
"//Example 1.7\n",
"clc\n",
"clear\n",
"//For Ca(HCO3)2,\n",
"q1=40.5//quantity\n",
"wt1=162//molecular weight \n",
"M1=100/wt1//multiplication factor\n",
"Eq1=M1*q1//CaCO3 equivalents in mg/L\n",
"//For Mg(HCO3)2,\n",
"q2=36.5//quantity\n",
"wt2=146//molecular weight \n",
"M2=100/wt2//multiplication factor\n",
"Eq2=M2*q2//CaCO3 equivalents in mg/L\n",
"//For MgSO4,\n",
"q3=30//quantity\n",
"wt3=120//molecular weight \n",
"M3=100/wt3//multiplication factor\n",
"Eq3=M3*q3//CaCO3 equivalents in mg/L\n",
"//For CaSO4,\n",
"q4=34//quantity\n",
"wt4=136//molecular weight \n",
"M4=100/wt4//multiplication factor\n",
"Eq4=M4*q4//CaCO3 equivalents in mg/L\n",
"//For CaCl2,\n",
"q5=27.75//quantity\n",
"wt5=111//molecular weight \n",
"M5=100/wt5//multiplication factor\n",
"Eq5=M5*q5//CaCO3 equivalents in mg/L\n",
"// NaCl neglected\n",
"V=20000//Volume of water in litres\n",
"L=(74*(Eq1+(2*Eq2)+Eq3)/100)*(V/1000)//Lime required for softening 20000 litres in g\n",
"S=(106*(Eq3+Eq4+Eq5)/100)*(V/1000)//soda required for softening 20000 litres in g\n",
"L1=(100*L)/(84*1000)//Lime required for 84% purity in kg\n",
"S1=(100*S)/(92*1000)//Soda required for 92% purity in kg\n",
"Th=Eq1+Eq2//Temperory hardness due to Mg(HCO3)2 and Ca(HCO3)2\n",
"Ph=Eq3+Eq4+Eq5//Permanent hardness due to CaSO4 and MgSO4and CaCL2\n",
"printf('Thus amount of lime(84percent pure) required to soften 20000 litres of water = %2.5f kg\n',L1)\n",
"printf('and amount of soda(92percent pure) required to soften 20000 litres of water = %2.5f kg\n',S1)\n",
"printf('\nAlso Temporary hardness = %2.2f ppm',Th)\n",
"printf('\n and permanent hardness = %2.2f ppm',Ph)"
   ]
   }
,
{
		   "cell_type": "markdown",
		   "metadata": {},
		   "source": [
			"## Example 1.8: Calculating_Lime_and_Soda.sce"
		   ]
		  },
  {
"cell_type": "code",
	   "execution_count": null,
	   "metadata": {
	    "collapsed": true
	   },
	   "outputs": [],
"source": [
"//calculating lime and soda\n",
"//Example 1.8\n",
"clc\n",
"clear\n",
"//For raw water Ca+2,\n",
"q1=240//quantity\n",
"wt1=40//molecular weight \n",
"M1=100/wt1//multiplication factor\n",
"Eq1=M1*q1//CaCO3 equivalents in mg/L\n",
"//For Mg+2,\n",
"q2=96//quantity\n",
"wt2=24//molecular weight \n",
"M2=100/wt2//multiplication factor\n",
"Eq2=M2*q2//CaCO3 equivalents in mg/L\n",
"//For CO2,\n",
"q3=44//quantity\n",
"wt3=44//molecular weight \n",
"M3=100/wt3//multiplication factor\n",
"Eq3=M3*q3//CaCO3 equivalents in mg/L\n",
"//For HCO3-,\n",
"q4=732//quantity\n",
"wt4=122//molecular weight \n",
"M4=100/wt4//multiplication factor\n",
"Eq4=M4*q4//CaCO3 equivalents in mg/L\n",
"//For FeSO4.7H2O,\n",
"q5=278//quantity\n",
"wt5=278//molecular weight \n",
"M5=100/wt5//multiplication factor\n",
"Eq5=M5*q5//CaCO3 equivalents in mg/L\n",
"V=250000//Volume of water in litres\n",
"L=(74*(Eq2+Eq3+Eq4+Eq5)/100)*(V/1000000)//lime requirement in kg\n",
"S=(106*(Eq1+Eq2+Eq5-Eq4)/100)*(V/1000000)//soda requirement in kg\n",
"printf('Thus amount of lime required to soften 250000 litres of water = %3.1f kg\n',L)\n",
"printf('and amount of soda required to soften 250000 litres of water = %3.1f kg\n',S)"
   ]
   }
,
{
		   "cell_type": "markdown",
		   "metadata": {},
		   "source": [
			"## Example 1.9: Calculating_Lime_and_Soda.sce"
		   ]
		  },
  {
"cell_type": "code",
	   "execution_count": null,
	   "metadata": {
	    "collapsed": true
	   },
	   "outputs": [],
"source": [
"//calculating lime and soda\n",
"//Example 1.9\n",
"clc\n",
"clear\n",
"//For raw water Ca+2,\n",
"q1=160//quantity\n",
"wt1=40//molecular weight \n",
"M1=100/wt1//multiplication factor\n",
"Eq1=M1*q1//CaCO3 equivalents in mg/L\n",
"//For Mg+2,\n",
"q2=96//quantity\n",
"wt2=24//molecular weight \n",
"M2=100/wt2//multiplication factor\n",
"Eq2=M2*q2//CaCO3 equivalents in mg/L\n",
"//For CO2,\n",
"q3=34//quantity\n",
"wt3=44//molecular weight \n",
"M3=100/wt3//multiplication factor\n",
"Eq3=M3*q3//CaCO3 equivalents in mg/L\n",
"//For HCO3-,\n",
"q4=403//quantity\n",
"wt4=122//molecular weight \n",
"M4=100/wt4//multiplication factor\n",
"Eq4=M4*q4//CaCO3 equivalents in mg/L\n",
"//For NaAlO2,\n",
"q5=20//quantity\n",
"wt5=82*2//molecular weight \n",
"M5=100/wt5//multiplication factor\n",
"Eq5=M5*q5//CaCO3 equivalents in mg/L\n",
"V=300000//Volume of water in litres\n",
"L=(74*(Eq2+Eq3+Eq4-Eq5)/100)*(V/1000000)//lime requirement in kg\n",
"S=(106*(Eq1+Eq2-Eq4)/100)*(V/1000000)//soda requirement in kg\n",
"printf('Thus amount of lime required to soften 250000 litres of water = %3.1f kg\n',L)\n",
"printf('and amount of soda required to soften 250000 litres of water = %3.1f kg\n',S)"
   ]
   }
],
"metadata": {
		  "kernelspec": {
		   "display_name": "Scilab",
		   "language": "scilab",
		   "name": "scilab"
		  },
		  "language_info": {
		   "file_extension": ".sce",
		   "help_links": [
			{
			 "text": "MetaKernel Magics",
			 "url": "https://github.com/calysto/metakernel/blob/master/metakernel/magics/README.md"
			}
		   ],
		   "mimetype": "text/x-octave",
		   "name": "scilab",
		   "version": "0.7.1"
		  }
		 },
		 "nbformat": 4,
		 "nbformat_minor": 0
}
