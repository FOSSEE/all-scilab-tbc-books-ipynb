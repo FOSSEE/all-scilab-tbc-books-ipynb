{
"cells": [
 {
		   "cell_type": "markdown",
	   "metadata": {},
	   "source": [
       "# Chapter 6: Electrochemical System"
	   ]
	},
{
		   "cell_type": "markdown",
		   "metadata": {},
		   "source": [
			"## Example 6.10: Calculating_Kc.sce"
		   ]
		  },
  {
"cell_type": "code",
	   "execution_count": null,
	   "metadata": {
	    "collapsed": true
	   },
	   "outputs": [],
"source": [
"//calculating Kc\n",
"//Example 6.10\n",
"clc\n",
"clear\n",
"//E'cell=0.0591*logKc/n\n",
"Ecell=-0.8277\n",
"n=1\n",
"Kc=10^(n*Ecell/0.0591)//equilibrium constant\n",
"printf('Thus the equilibrium constant for the reaction = %e',Kc)"
   ]
   }
,
{
		   "cell_type": "markdown",
		   "metadata": {},
		   "source": [
			"## Example 6.11: Calculating_Ecell_and_Energy.sce"
		   ]
		  },
  {
"cell_type": "code",
	   "execution_count": null,
	   "metadata": {
	    "collapsed": true
	   },
	   "outputs": [],
"source": [
"//calculating Ecell and energy\n",
"//Example 6.11\n",
"clc\n",
"clear\n",
"Ec=0.4\n",
"Ea=-0.87\n",
"Ecell=Ec-Ea\n",
"F=96500\n",
"Wmax=(2*F*Ecell)/1000\n",
"printf('Thus (i)Ecell = %2.2f V',Ecell)\n",
"printf('\n (ii)Wmax= %3.0f kJ',Wmax)"
   ]
   }
,
{
		   "cell_type": "markdown",
		   "metadata": {},
		   "source": [
			"## Example 6.12: Calculating_Kc.sce"
		   ]
		  },
  {
"cell_type": "code",
	   "execution_count": null,
	   "metadata": {
	    "collapsed": true
	   },
	   "outputs": [],
"source": [
"//calculating Kc\n",
"//Example 6.12\n",
"clc\n",
"clear\n",
"//E'cell=0.0591*logKc/n\n",
"Ec=0.77\n",
"Ea=0.54\n",
"Ecell=Ec-Ea\n",
"n=2\n",
"Kc=10^(n*Ecell/0.059)//equilibrium constant\n",
"printf('Thus the equilibrium constant for the reaction = %e',Kc)"
   ]
   }
,
{
		   "cell_type": "markdown",
		   "metadata": {},
		   "source": [
			"## Example 6.1: Calculating_emf.sce"
		   ]
		  },
  {
"cell_type": "code",
	   "execution_count": null,
	   "metadata": {
	    "collapsed": true
	   },
	   "outputs": [],
"source": [
"//calculating emf\n",
"//Example 6.1\n",
"clc\n",
"clear\n",
"Es=1.5273//emf of known cell in V\n",
"Ns=90//null point of known cell in cm\n",
"Nu=60//null point of unknown cell in cm\n",
"Eu=Nu*Es/Ns//Emf of cell\n",
"printf('Thus the emf of cell = %2.4f V',Eu)"
   ]
   }
,
{
		   "cell_type": "markdown",
		   "metadata": {},
		   "source": [
			"## Example 6.2: Calculating_pH.sce"
		   ]
		  },
  {
"cell_type": "code",
	   "execution_count": null,
	   "metadata": {
	    "collapsed": true
	   },
	   "outputs": [],
"source": [
"//calculating pH\n",
"//Example 6.2\n",
"clc\n",
"clear\n",
"//for quinhydrone electrode\n",
"Ecell=0.284//Emf of cell in V\n",
"pH=(0.6996-0.2422-Ecell)/0.0591//pH of the solution\n",
"printf('Thus the pH of the solution = %2.3f V',pH)"
   ]
   }
,
{
		   "cell_type": "markdown",
		   "metadata": {},
		   "source": [
			"## Example 6.3: Calculating_pH.sce"
		   ]
		  },
  {
"cell_type": "code",
	   "execution_count": null,
	   "metadata": {
	    "collapsed": true
	   },
	   "outputs": [],
"source": [
"//calculating pH\n",
"//Example 6.3\n",
"clc\n",
"clear\n",
"//for hydrogen electrode\n",
"Ecell=0.6734//Emf of cell in V\n",
"pH=(Ecell-0.2422)/0.0591//pH of the solution\n",
"printf('Thus the pH of the solution = %2.3f ',pH)"
   ]
   }
,
{
		   "cell_type": "markdown",
		   "metadata": {},
		   "source": [
			"## Example 6.4: Calculating_potential.sce"
		   ]
		  },
  {
"cell_type": "code",
	   "execution_count": null,
	   "metadata": {
	    "collapsed": true
	   },
	   "outputs": [],
"source": [
"//calculating potential\n",
"//Example 6.4\n",
"clc\n",
"clear\n",
"Ag=1\n",
"Ksp=8.7*(10^-17)\n",
"Agplus=sqrt(Ksp)\n",
"X=Ag/Agplus\n",
"E1=0.799//E(Ag+/Ag)\n",
"E2=E1-(0.0591*log10(X))\n",
"printf('Thus E(Ag+/Ag) = %2.3f V',E2)"
   ]
   }
,
{
		   "cell_type": "markdown",
		   "metadata": {},
		   "source": [
			"## Example 6.5: Calculating_solubility.sce"
		   ]
		  },
  {
"cell_type": "code",
	   "execution_count": null,
	   "metadata": {
	    "collapsed": true
	   },
	   "outputs": [],
"source": [
"//calculating solubility\n",
"//Example 6.5\n",
"clc\n",
"clear\n",
"Ecell=0.169\n",
"AgC=0.01\n",
"C1=AgC/(10^(Ecell/0.0591))\n",
"S=C1*143.5//solubility of AgCl in g/L\n",
"Ksp=C1^2//solubility product of AgCl in Mol^2/L^2\n",
"printf('Thus solubility of AgCl = %e g/L',S)\n",
"printf('\n and Ksp = %e Mol^2/L^2',Ksp)"
   ]
   }
,
{
		   "cell_type": "markdown",
		   "metadata": {},
		   "source": [
			"## Example 6.6: Calculating_Ksp.sce"
		   ]
		  },
  {
"cell_type": "code",
	   "execution_count": null,
	   "metadata": {
	    "collapsed": true
	   },
	   "outputs": [],
"source": [
"//calculating Ksp\n",
"//Example 6.6\n",
"clc\n",
"clear\n",
"Ec=0.071\n",
"Ea=0.799\n",
"Ecell=Ec-Ea\n",
"Ksp=10^(Ecell/0.0591)//solubility product of AgCl in Mol^2/L^2\n",
"printf('Thus Ksp = %e Mol^2/L^2',Ksp)"
   ]
   }
,
{
		   "cell_type": "markdown",
		   "metadata": {},
		   "source": [
			"## Example 6.7: Calculating_Kc.sce"
		   ]
		  },
  {
"cell_type": "code",
	   "execution_count": null,
	   "metadata": {
	    "collapsed": true
	   },
	   "outputs": [],
"source": [
"//calculating Kc\n",
"//Example 6.7\n",
"clc\n",
"clear\n",
"//E'cell=0.0591*logKc/n\n",
"Eag=0.8\n",
"Ecu=0.34\n",
"Ecell=Eag-Ecu\n",
"n=2\n",
"Kc=10^(n*Ecell/0.059)//equilibrium constant\n",
"printf('Thus the equilibrium constant for the reaction = %e',Kc)"
   ]
   }
,
{
		   "cell_type": "markdown",
		   "metadata": {},
		   "source": [
			"## Example 6.8: Calculating_Kc.sce"
		   ]
		  },
  {
"cell_type": "code",
	   "execution_count": null,
	   "metadata": {
	    "collapsed": true
	   },
	   "outputs": [],
"source": [
"//calculating Kc\n",
"//Example 6.8\n",
"clc\n",
"clear\n",
"//E'cell=0.0591*logKc/n\n",
"Ecell=0.16\n",
"n=4\n",
"Kc=10^(n*Ecell/0.0591)//equilibrium constant\n",
"printf('Thus the equilibrium constant for the reaction = %e',Kc)"
   ]
   }
,
{
		   "cell_type": "markdown",
		   "metadata": {},
		   "source": [
			"## Example 6.9: Calculating_deltaG_and_Kc.sce"
		   ]
		  },
  {
"cell_type": "code",
	   "execution_count": null,
	   "metadata": {
	    "collapsed": true
	   },
	   "outputs": [],
"source": [
"//calculating deltaG and Kc\n",
"//Example 6.9\n",
"clc\n",
"clear\n",
"Ecell=0.89//in V\n",
"n=6\n",
"F=96500// in 1/mol\n",
"deltaG=-n*F*Ecell//in C.V or J\n",
"//Kc related to deltaG\n",
"R=8.314//in J/molk\n",
"T=298//in K\n",
"Kc1=10^(-deltaG/(2.303*R*T))\n",
"//Kc related to Ecell\n",
"Kc2=10^((n*F*Ecell)/(2.303*R*T))\n",
"printf('Thus (i)deltaG = %e',deltaG)\n",
"printf('\n(ii)Kc in relation with deltaG = %e',Kc1)\n",
"printf('\n(iii)Kc in relation with Ecell = %e',Kc2)"
   ]
   }
],
"metadata": {
		  "kernelspec": {
		   "display_name": "Scilab",
		   "language": "scilab",
		   "name": "scilab"
		  },
		  "language_info": {
		   "file_extension": ".sce",
		   "help_links": [
			{
			 "text": "MetaKernel Magics",
			 "url": "https://github.com/calysto/metakernel/blob/master/metakernel/magics/README.md"
			}
		   ],
		   "mimetype": "text/x-octave",
		   "name": "scilab",
		   "version": "0.7.1"
		  }
		 },
		 "nbformat": 4,
		 "nbformat_minor": 0
}
