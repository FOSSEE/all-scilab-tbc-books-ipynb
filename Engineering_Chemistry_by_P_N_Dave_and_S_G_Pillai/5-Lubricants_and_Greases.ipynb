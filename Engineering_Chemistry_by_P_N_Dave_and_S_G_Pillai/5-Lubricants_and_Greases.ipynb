{
"cells": [
 {
		   "cell_type": "markdown",
	   "metadata": {},
	   "source": [
       "# Chapter 5: Lubricants and Greases"
	   ]
	},
{
		   "cell_type": "markdown",
		   "metadata": {},
		   "source": [
			"## Example 5.1: Calculating_VI.sce"
		   ]
		  },
  {
"cell_type": "code",
	   "execution_count": null,
	   "metadata": {
	    "collapsed": true
	   },
	   "outputs": [],
"source": [
"//calculating VI\n",
"//Example 5.1\n",
"clc\n",
"clear\n",
"L=674//viscosity of low viscosity index oil\n",
"H=314//viscosity of high viscosity index oil\n",
"U=464//viscosity of test oil in S\n",
"VI=(L-U)*100/(L-H)//viscosity index\n",
"printf('Thus VI of the oil sample under test =%2.2f',VI)"
   ]
   }
],
"metadata": {
		  "kernelspec": {
		   "display_name": "Scilab",
		   "language": "scilab",
		   "name": "scilab"
		  },
		  "language_info": {
		   "file_extension": ".sce",
		   "help_links": [
			{
			 "text": "MetaKernel Magics",
			 "url": "https://github.com/calysto/metakernel/blob/master/metakernel/magics/README.md"
			}
		   ],
		   "mimetype": "text/x-octave",
		   "name": "scilab",
		   "version": "0.7.1"
		  }
		 },
		 "nbformat": 4,
		 "nbformat_minor": 0
}
