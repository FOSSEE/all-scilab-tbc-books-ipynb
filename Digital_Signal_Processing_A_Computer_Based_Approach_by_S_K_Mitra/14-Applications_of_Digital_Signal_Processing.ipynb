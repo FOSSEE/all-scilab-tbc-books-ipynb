{
"cells": [
 {
		   "cell_type": "markdown",
	   "metadata": {},
	   "source": [
       "# Chapter 14: Applications of Digital Signal Processing"
	   ]
	},
{
		   "cell_type": "markdown",
		   "metadata": {},
		   "source": [
			"## Example 14.1: Effect_of_DFT_length.sce"
		   ]
		  },
  {
"cell_type": "code",
	   "execution_count": null,
	   "metadata": {
	    "collapsed": true
	   },
	   "outputs": [],
"source": [
"//Example 14.1\n",
"//EFFECT OF DFT LENGTH ON SPECTRAL ANALYSIS\n",
"clear;\n",
"clc;\n",
"N=16;\n",
"n=0:N-1;\n",
"f1=0.22;\n",
"f2=0.34;\n",
"R = input('R point DFT(R E [16,128]) = ');        //Input f1 = 64\n",
"if R >= N \n",
"    x=0.5*(sin(2*%pi*f1*n')) + sin(sin(2*%pi*f2*n'));\n",
"    x=[x',zeros(1,R-length(n))];\n",
"    disp(x,'the sequence is :');\n",
"    for n=0:R-1\n",
"        for k=0:R-1\n",
"            W(n+1,k+1) = exp(-(%i*2*%pi*k/R)*n);\n",
"        end\n",
"    end\n",
"    X = W*x';\n",
"    disp(X,'DFT is, X = ')\n",
"else\n",
"    disp('invalid computation');\n",
"end\n",
"m=0:R-1;\n",
"clf();\n",
"figure(0)\n",
"a = gca();\n",
"plot2d3(m,abs(X),2) //  plotting DFT of sequence\n",
"plot(m,abs(X),'r.')\n",
"a.x_location = 'origin';\n",
"a.y_location = 'origin';\n",
"poly1 = a . children (1) . children (1) ;\n",
"poly1.thickness = 2.5;\n",
"xtitle('original sequence','n','x[n]');"
   ]
   }
,
{
		   "cell_type": "markdown",
		   "metadata": {},
		   "source": [
			"## Example 14.2: Effect_of_DFT_length.sce"
		   ]
		  },
  {
"cell_type": "code",
	   "execution_count": null,
	   "metadata": {
	    "collapsed": true
	   },
	   "outputs": [],
"source": [
"//Example 14.2\n",
"//EFFECT OF DFT LENGTH ON SPECTRAL ANALYSIS\n",
"clear;\n",
"clc;\n",
"N=16;\n",
"n=0:N-1;\n",
"f1=input('Enter f1 value between 0.28 to 0.31 = ');      //Input f1 = 64\n",
"f2=0.34;\n",
"R = 128//\n",
"//DFT of the sequence x[n] \n",
"    x=0.5*(sin(2*%pi*f1*n')) + sin((2*%pi*f2*n'));\n",
"    x=[x',zeros(1,R-length(n))];\n",
"    disp(x,'the sequence is :');\n",
"    for n=0:R-1\n",
"        for k=0:R-1\n",
"            W(n+1,k+1) = exp(-(%i*2*%pi*k/R)*n);\n",
"        end\n",
"    end\n",
"    X = W*x';\n",
"    disp(X,'DFT is, X = ')\n",
"//plotting DFT of sequence\n",
"m=0:R-1;\n",
"clf();\n",
"figure(0)\n",
"a = gca();\n",
"plot2d3(m,abs(X),2) \n",
"plot(m,abs(X),'r.')\n",
"a.x_location = 'origin';\n",
"a.y_location = 'origin';\n",
"poly1 = a . children (1) . children (1) ;\n",
"poly1.thickness = 2.5;\n",
"xtitle('original sequence','n','x[n]');"
   ]
   }
],
"metadata": {
		  "kernelspec": {
		   "display_name": "Scilab",
		   "language": "scilab",
		   "name": "scilab"
		  },
		  "language_info": {
		   "file_extension": ".sce",
		   "help_links": [
			{
			 "text": "MetaKernel Magics",
			 "url": "https://github.com/calysto/metakernel/blob/master/metakernel/magics/README.md"
			}
		   ],
		   "mimetype": "text/x-octave",
		   "name": "scilab",
		   "version": "0.7.1"
		  }
		 },
		 "nbformat": 4,
		 "nbformat_minor": 0
}
