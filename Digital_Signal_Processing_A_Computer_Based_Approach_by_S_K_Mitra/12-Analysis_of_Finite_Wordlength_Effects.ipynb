{
"cells": [
 {
		   "cell_type": "markdown",
	   "metadata": {},
	   "source": [
       "# Chapter 12: Analysis of Finite Wordlength Effects"
	   ]
	},
{
		   "cell_type": "markdown",
		   "metadata": {},
		   "source": [
			"## Example 12.3: Signal_to_Quantisation_Noise_Ratio.sce"
		   ]
		  },
  {
"cell_type": "code",
	   "execution_count": null,
	   "metadata": {
	    "collapsed": true
	   },
	   "outputs": [],
"source": [
"//Example 12.3\n",
"//Signal-to-quantization Noise ratio\n",
"clear;\n",
"clc;\n",
"b=[7 9 11 13 15];//Given values of b\n",
"K=[4 6 8];//Given values of K\n",
"for i=1:5\n",
"    for j=1:3\n",
"        SNR(j,i)=6.02*b(i)+16.81-20*log10(K(j)); \n",
"    end\n",
"end\n",
"disp(SNR,'SNR,A/D = ');"
   ]
   }
],
"metadata": {
		  "kernelspec": {
		   "display_name": "Scilab",
		   "language": "scilab",
		   "name": "scilab"
		  },
		  "language_info": {
		   "file_extension": ".sce",
		   "help_links": [
			{
			 "text": "MetaKernel Magics",
			 "url": "https://github.com/calysto/metakernel/blob/master/metakernel/magics/README.md"
			}
		   ],
		   "mimetype": "text/x-octave",
		   "name": "scilab",
		   "version": "0.7.1"
		  }
		 },
		 "nbformat": 4,
		 "nbformat_minor": 0
}
