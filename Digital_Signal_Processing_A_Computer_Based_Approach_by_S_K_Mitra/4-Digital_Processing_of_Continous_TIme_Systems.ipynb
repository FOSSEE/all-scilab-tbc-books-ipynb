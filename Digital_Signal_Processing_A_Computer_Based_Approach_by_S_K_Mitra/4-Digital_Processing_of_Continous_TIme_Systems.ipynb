{
"cells": [
 {
		   "cell_type": "markdown",
	   "metadata": {},
	   "source": [
       "# Chapter 4: Digital Processing of Continous TIme Systems"
	   ]
	},
{
		   "cell_type": "markdown",
		   "metadata": {},
		   "source": [
			"## Example 4.16: Design_of_Analof_Butterworth_HP_Filter.sce"
		   ]
		  },
  {
"cell_type": "code",
	   "execution_count": null,
	   "metadata": {
	    "collapsed": true
	   },
	   "outputs": [],
"source": [
"//EXAMPLE 4.16\n",
"//Design analog butterworth High pass filter\n",
"clc;\n",
"clear;\n",
"wp=4000;\n",
"ws=1000;\n",
"ap=0.1;\n",
"as=40;\n",
"Ap=1; // assumption\n",
"As=(2*%pi*wp)*Ap/(2*%pi*ws);\n",
"N=ceil(log10(sqrt((10^(0.1* as)-1)/(10^(0.1*ap)-1)))/log10(As/Ap));\n",
"disp(N,'order of the filter is :');\n",
"Ac = As/((10^(0.1*as)-1)^(1/(N*2)));\n",
"disp(Ac,'cutoff frequency = ')\n",
"//[hs,pole,zero,gain]=analpf(N,'butt',Ac);\n",
"s=%s;\n",
"hs=1/((s + 1)*(s^2 + 0.61803*s + 1)*(s^2 + 1.61803*s + 1));\n",
"Hs=horner(hs,s/Ac);\n",
"H1 = numer(Hs)/0.0976514;\n",
"H2 = denom(Hs)/0.0976514;\n",
"disp(H1/H2,'the low pass transfer function is,HLP(s) = ');\n",
"Hs=horner(hs,Ac/s);\n",
"H1 = numer(Hs);\n",
"H2 = denom(Hs);\n",
"disp(H1/H2,'the High pass transfer function is,HHP(s) = ');"
   ]
   }
,
{
		   "cell_type": "markdown",
		   "metadata": {},
		   "source": [
			"## Example 4.5: Passband_and_Stopband_ripple_computation.sce"
		   ]
		  },
  {
"cell_type": "code",
	   "execution_count": null,
	   "metadata": {
	    "collapsed": true
	   },
	   "outputs": [],
"source": [
"//EXAMPLE 4.5\n",
"//determine ripple values in db;\n",
"clc\n",
"clear;\n",
"ap = 0.01//Peak passband ripple in dB\n",
"as = 70//min. stopband atteuation in dB\n",
"dp = 1-10^-(ap/20);\n",
"ds = 10^-(as/20); \n",
"disp( dp,'dp = ');\n",
"disp( ds,'ds = '); "
   ]
   }
,
{
		   "cell_type": "markdown",
		   "metadata": {},
		   "source": [
			"## Example 4.6: Order_of_Analog_filter.sce"
		   ]
		  },
  {
"cell_type": "code",
	   "execution_count": null,
	   "metadata": {
	    "collapsed": true
	   },
	   "outputs": [],
"source": [
"//EXAMPLE 4.6\n",
"//Order of LP filter\n",
"clc;\n",
"clear;\n",
"ap = 1 //Peak passband ripple in dB\n",
"as = 40 //min. stopband atteuation in dB\n",
"wp = 1000 //Hz\n",
"ws = 5000 //Hz\n",
"k  = wp/ws;\n",
"disp(1/k,'1/k = ');\n",
"k1 = 1/(sqrt((10^(0.1* as)-1)/(10^(0.1*ap)-1)));\n",
"disp(1/k1,'1/k1 = ');\n",
"N=ceil(log10(sqrt((10^(0.1* as)-1)/(10^(0.1*ap)-1)))/log10(1/k));\n",
"disp(N,'order of the filter is :');"
   ]
   }
,
{
		   "cell_type": "markdown",
		   "metadata": {},
		   "source": [
			"## Example 4.7: Order_of_Analog_Chebyshev_Filter.sce"
		   ]
		  },
  {
"cell_type": "code",
	   "execution_count": null,
	   "metadata": {
	    "collapsed": true
	   },
	   "outputs": [],
"source": [
"//EXAMPLE 4.7\n",
"//Determine the order of Analog Chebyshev LP filter.\n",
"clc;\n",
"clear;\n",
"ap = 1 //dB\n",
"as = 40 //dB\n",
"wp = 1000 //Hz\n",
"ws = 5000 //Hz\n",
"k  = wp/ws;\n",
"disp(1/k,'1/k = ');\n",
"k1 = 1/(sqrt(((10^(0.1* as))-1)/((10^(0.1*ap))-1)));\n",
"disp(1/k1,'1/k1 = ');\n",
"N = acosh(1/k1)/acosh(1/k);\n",
"disp(N,'N = ');\n",
"disp('Since order of the filter is always an integer, ');\n",
"disp(ceil(N),'Order of the filter is, N = ');"
   ]
   }
,
{
		   "cell_type": "markdown",
		   "metadata": {},
		   "source": [
			"## Example 4.8: Order_of_Analog_Lowpass_Elliptic_Filter.sce"
		   ]
		  },
  {
"cell_type": "code",
	   "execution_count": null,
	   "metadata": {
	    "collapsed": true
	   },
	   "outputs": [],
"source": [
"//EXAMPLE 4.8\n",
"//Determine the order of Analog Elliptic LP filter.\n",
"clc;\n",
"clear;\n",
"ap = 1 //dB\n",
"as = 40 //dB\n",
"Fp = 1000 //Hz\n",
"Fs = 5000 //Hz\n",
"wp = Fp*2*%pi;\n",
"ws = Fs*2*%pi;\n",
"k1 = 1/(sqrt((10^(0.1* as)-1)/(10^(0.1*ap)-1)));\n",
"disp(1/k1,'1/k1 = ');\n",
"k  = wp/ws;\n",
"k2 = sqrt(1 - (k*k)); \n",
"disp(k2,'k2 = ');\n",
"po = (1 - sqrt(k2))/(2*(1 + sqrt(k2)));\n",
"disp(po,'po = ');\n",
"p  = po +2*po^5 + 15*po^9 + 150*po^13;\n",
"disp(p,'p = ');\n",
"N = (2*log10(4/k1))/log10(1/p);\n",
"disp(N,'N = ');\n",
"disp('Since order of the filter is always an integer, ');\n",
"disp(ceil(N),'Order of the filter is, N = ');"
   ]
   }
],
"metadata": {
		  "kernelspec": {
		   "display_name": "Scilab",
		   "language": "scilab",
		   "name": "scilab"
		  },
		  "language_info": {
		   "file_extension": ".sce",
		   "help_links": [
			{
			 "text": "MetaKernel Magics",
			 "url": "https://github.com/calysto/metakernel/blob/master/metakernel/magics/README.md"
			}
		   ],
		   "mimetype": "text/x-octave",
		   "name": "scilab",
		   "version": "0.7.1"
		  }
		 },
		 "nbformat": 4,
		 "nbformat_minor": 0
}
