{
"cells": [
 {
		   "cell_type": "markdown",
	   "metadata": {},
	   "source": [
       "# Chapter 10: FIR digital filter design"
	   ]
	},
{
		   "cell_type": "markdown",
		   "metadata": {},
		   "source": [
			"## Example 10.1: Kaiser_formula.sce"
		   ]
		  },
  {
"cell_type": "code",
	   "execution_count": null,
	   "metadata": {
	    "collapsed": true
	   },
	   "outputs": [],
"source": [
"//Example 10.01\n",
"//Order estimation using Kaiser's formula\n",
"clear;\n",
"clc;\n",
"Fp=1800;//Passband edge freq. in Hz\n",
"Fs=2000;//stopband edge freq. in Hz\n",
"ap=0.1;//peak passband ripple in dB\n",
"as=35;//min. stopband attenuation in dB\n",
"FT=12000;//Sampling freq. in Hz\n",
"//calculation of peak ripple values\n",
"dp=1-10^-(ap/20);\n",
"disp(dp,'dp = ');\n",
"ds=10^-(as/20);\n",
"disp(ds,'ds = ');\n",
"//Order of the FIR filter\n",
"N=(-(20*log10(sqrt(ds*dp))) - 13)/((14.6)*(Fs-Fp)/FT);\n",
"disp(ceil(N),'Order of the filter is N = ')"
   ]
   }
,
{
		   "cell_type": "markdown",
		   "metadata": {},
		   "source": [
			"## Example 10.2: Bellenger_formula.sce"
		   ]
		  },
  {
"cell_type": "code",
	   "execution_count": null,
	   "metadata": {
	    "collapsed": true
	   },
	   "outputs": [],
"source": [
"//Example 10.01\n",
"// Order estimation using Bellanger's formula\n",
"clear;\n",
"clc;\n",
"Fp=1800;//Passband edge freq. in Hz\n",
"Fs=2000;//stopband edge freq. in Hz\n",
"ap=0.1;//peak passband ripple in dB\n",
"as=35;//min. stopband attenuation in dB\n",
"FT=12000;//Sampling freq. in Hz\n",
"//calculation of peak ripple values\n",
"dp=1-10^-(ap/20);\n",
"disp(dp,'dp = ');\n",
"ds=10^-(as/20);\n",
"disp(ds,'ds = ');\n",
"//Order of the FIR filter\n",
"N=((-2*log10(10*ds*dp)) /((3)*(Fs-Fp)/FT)) -1 ;\n",
"disp(ceil(N),'Order of the filter is N = ')"
   ]
   }
,
{
		   "cell_type": "markdown",
		   "metadata": {},
		   "source": [
			"## Example 10.3: Hermann_formula.sce"
		   ]
		  },
  {
"cell_type": "code",
	   "execution_count": null,
	   "metadata": {
	    "collapsed": true
	   },
	   "outputs": [],
"source": [
"//Example 10.03\n",
"//Order estimation using Hermann's formula\n",
"clear;\n",
"clc;\n",
"Fp=1800;//Passband edge freq. in Hz\n",
"Fs=2000;//stopband edge freq. in Hz\n",
"ap=0.1;//peak passband ripple in dB\n",
"as=35;//min. stopband attenuation in dB\n",
"FT=12000;//Sampling freq. in Hz\n",
"//calculation of peak ripple values\n",
"dp=1-10^-(ap/20);\n",
"disp(dp,'dp = ');\n",
"ds=10^-(as/20);\n",
"disp(ds,'ds = ');\n",
"a1=0.005309;\n",
"a2=0.07114;\n",
"a3=-0.4761;\n",
"a4=0.00266;\n",
"a5=0.5941;\n",
"a6=0.4278;\n",
"D_infi=((a1*(log10(dp)^2) + a2*log10(dp) + a3)*log10(ds))-(a4*(log10(dp))^2 + a5*(log10(dp)) + a6); \n",
"disp(D_infi,'D_infi = ');\n",
"b1=11.01217;\n",
"b2=0.51244;\n",
"F=b1 + b2*((log10(dp))-(log10(ds)));\n",
"disp(F,'F = ');\n",
"//Order of the FIR filter\n",
"N=(D_infi- F*((Fs-Fp)/FT)^2)/((Fs-Fp)/FT);\n",
"disp(ceil(N),'Order of the filter is N = ')"
   ]
   }
,
{
		   "cell_type": "markdown",
		   "metadata": {},
		   "source": [
			"## Example 10.4: Order_Estimatio.sce"
		   ]
		  },
  {
"cell_type": "code",
	   "execution_count": null,
	   "metadata": {
	    "collapsed": true
	   },
	   "outputs": [],
"source": [
"//Example 10.04\n",
"//Kaiser's formula for bandpass filter \n",
"clear;\n",
"clc;\n",
"Fp1=300;//Passband edge freq. in Hz\n",
"Fs1=350;//stopband edge freq. in Hz\n",
"Fp2=1000;//Passband edge freq. in Hz\n",
"Fs2=1100;//stopband edge freq. in Hz\n",
"dp=0.004;//passband ripple in dB\n",
"ds=0.01;//stopband ripple in dB\n",
"FT=10000;//Sampling freq. in Hz\n",
"//Since (Fp1-Fs1)<(Fs2-Fp2),bandwith used is (Fp1-Fs1)\n",
"//Order of the FIR filter\n",
"N=(-(20*log10(sqrt(ds*dp))) - 13)/((14.6)*(Fs1-Fp1)/FT);\n",
"disp(ceil(N),'Order of the filter is N = ')"
   ]
   }
,
{
		   "cell_type": "markdown",
		   "metadata": {},
		   "source": [
			"## Example 10.6: Filter_length_estimation_for_window_based_design.sce"
		   ]
		  },
  {
"cell_type": "code",
	   "execution_count": null,
	   "metadata": {
	    "collapsed": true
	   },
	   "outputs": [],
"source": [
"//EXAMPLE 10.6\n",
"//FIlter length  for window -based design \n",
"clear;\n",
"clc;\n",
"wp=0.3*%pi;//rad/sec\n",
"ws=0.5*%pi;//rad/sec\n",
"as=40;//dB\n",
"wc=(wp+ws)/2;//cutoff frequency\n",
"Bw=ws-wp;\n",
"disp(Bw,'Normalized transition bandwidth is = ')\n",
"//Hann window\n",
"M1=3.11*%pi/Bw;\n",
"disp(M1,'Value of M = ')\n",
"//Hamming window\n",
"M2=3.32*%pi/Bw;\n",
"disp(M2,'Value of M = ')\n",
"//Blackman window\n",
"M3=5.56*%pi/Bw;\n",
"disp(M3,'Value of M = ')"
   ]
   }
,
{
		   "cell_type": "markdown",
		   "metadata": {},
		   "source": [
			"## Example 10.7: Order_Estimatio.sce"
		   ]
		  },
  {
"cell_type": "code",
	   "execution_count": null,
	   "metadata": {
	    "collapsed": true
	   },
	   "outputs": [],
"source": [
"//EXAMPLE 10.6\n",
"//Order estimation using Dolph-Cebyshev window\n",
"clear;\n",
"clc;\n",
"wp=0.3*%pi;//rad/sec\n",
"ws=0.5*%pi;//rad/sec\n",
"as=40;//dB\n",
"wc=(wp+ws)/2;//cutoff frequency\n",
"Bw=ws-wp;\n",
"disp(Bw,'Normalized transition bandwidth is = ')\n",
"//Order of the filter\n",
"N = ((2.056*as) - 16.4)/(2.285*Bw);\n",
"disp(ceil(N),'Order of the filter,N =  ')"
   ]
   }
,
{
		   "cell_type": "markdown",
		   "metadata": {},
		   "source": [
			"## Example 10.8: Kaiser_window.sce"
		   ]
		  },
  {
"cell_type": "code",
	   "execution_count": null,
	   "metadata": {
	    "collapsed": true
	   },
	   "outputs": [],
"source": [
"//EXAMPLE 10.8\n",
"//Design of LP FIR filter using Kaiser window\n",
"clear;\n",
"clc;\n",
"wp=0.3*%pi;//rad/sec\n",
"ws=0.5*%pi;//rad/sec\n",
"as=40;//dB\n",
"wc=(wp+ws)/2;//cutoff frequency\n",
"Bw=ws-wp;\n",
"disp(Bw,'Normalized transition bandwidth is = ')\n",
"ds=10^(-as/20);\n",
"B = (0.5842*(as-21)^0.4) + 0.07886*(as-21);\n",
"N = ceil((as - 8)/(2.285*Bw));\n",
"disp(N,'Order of the filter,N =  ');\n",
"M=(N-1)*0.5;\n",
"disp(M,'M = ');\n",
"w=window('kr',N,6);//Kaiser window\n",
"i=-M:1:M;\n",
"    hn=(wc/%pi)*sinc(wc*i'/(%pi));\n",
"    h=hn*w;\n",
"clf();\n",
"n=0:0.001:1;\n",
"[H,fr]=frmag(w,1001);\n",
"plot2d(2*fr,log10(H./max(H)),style=color('blue'))\n",
"set(gca(),'grid',[1 1]*color('gray'))\n",
"a = gca () ;\n",
"xlabel ( 'w/%pi' ) ;\n",
"ylabel ('Magnitude in dB') ;\n",
"title ( 'Gain Response of Kaiser Window' );"
   ]
   }
],
"metadata": {
		  "kernelspec": {
		   "display_name": "Scilab",
		   "language": "scilab",
		   "name": "scilab"
		  },
		  "language_info": {
		   "file_extension": ".sce",
		   "help_links": [
			{
			 "text": "MetaKernel Magics",
			 "url": "https://github.com/calysto/metakernel/blob/master/metakernel/magics/README.md"
			}
		   ],
		   "mimetype": "text/x-octave",
		   "name": "scilab",
		   "version": "0.7.1"
		  }
		 },
		 "nbformat": 4,
		 "nbformat_minor": 0
}
