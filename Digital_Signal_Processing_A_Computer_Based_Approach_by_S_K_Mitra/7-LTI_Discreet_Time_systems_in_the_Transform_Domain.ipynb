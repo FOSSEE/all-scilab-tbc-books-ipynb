{
"cells": [
 {
		   "cell_type": "markdown",
	   "metadata": {},
	   "source": [
       "# Chapter 7: LTI Discreet Time systems in the Transform Domain"
	   ]
	},
{
		   "cell_type": "markdown",
		   "metadata": {},
		   "source": [
			"## Example 7.1: Bounded_real_function.sce"
		   ]
		  },
  {
"cell_type": "code",
	   "execution_count": null,
	   "metadata": {
	    "collapsed": true
	   },
	   "outputs": [],
"source": [
"//EXAMPLE 7.1\n",
"//PROGRAM REQUIRES MAXIMA SCILAB TOOLBOX\n",
"clc;\n",
"clear;\n",
"syms K a z w;\n",
"hzden = (1-a*(z^-1)); //0<|a|<1;\n",
"Hz = K/hzden;\n",
"disp('|H(e^(jw))|^2 = K^2/((1+a)^2 - 2*cos(w)') ; \n",
"// considering a>0\n",
"disp('(at w = %pi),K^2/(1+a)^2 < |H|^2  < K^2/(1-a)^2,(at w = 0)');\n",
"//considering a<0\n",
"disp(' (at w = 0),K^2/(1+a)^2 < |H|^2  < K^2/(1-a)^2,(at w = %pi)');\n",
"disp('if K = +/-(1-a), observe....');\n",
"disp('|H(e^(jw))|  <= 1     Hence a Bounded real function.');\n",
"//w=0:%pi;\n",
"//[a,b]=freq(hznum,hzden,w);\n",
"disp(abs(Hz))"
   ]
   }
,
{
		   "cell_type": "markdown",
		   "metadata": {},
		   "source": [
			"## Example 7.2: Transfer_function_determination.sce"
		   ]
		  },
  {
"cell_type": "code",
	   "execution_count": null,
	   "metadata": {
	    "collapsed": true
	   },
	   "outputs": [],
"source": [
"//EXAMPLE 7.2\n",
"//|H(e^(jw))|^2 = 4*((1.09 + 0.6*cosw)*(1.16-0.8*cosw))/((1.04-0.2*cosw)*(1.25+cosw))\n",
"//REPLACING cosw = (z + z(^-1))/2\n",
"clc;\n",
"clear;\n",
"z=%z;\n",
"H1=4*((1.09 + (0.3)*(z+1/z))*(1.16 - (0.4)*(z+1/z)));\n",
"H2=((1.04 - (0.2)*(z+1/z))*(1.25 + (0.5)*(z+1/z)));\n",
"H=H1/H2;\n",
"disp(H,'The transfer function is, H = ')\n",
"elts1=factors(numer(H));\n",
"disp(elts1,'The factors of numerator are :');\n",
"elts2=factors(denom(H));\n",
"disp(elts2,'The factors of denominator are :');\n",
"disp('The Four posible stable transfer function with same square magnitude function are :');\n",
"h1=2*((1+(0.3)/z)*(1- (0.4)/z))/((1-(0.2)/z)*(1+(0.5)/z));\n",
"disp(h1,'stable transfer function,h1 = ');\n",
"h2=2*((1+(0.3)/z)*((0.4)- (1)/z))/((1-(0.2)/z)*(1+(0.5)/z));\n",
"disp(h2,'stable transfer function,h2s = ');\n",
"h3=2*(((0.3)+1/z)*((1)- (0.4)/z))/((1-(0.2)/z)*(1+(0.5)/z));\n",
"disp(h3,'stable transfer function,h3 = ');\n",
"h4=2*(((0.3)+1/z)*((0.4)- (1)/z))/((1-(0.2)/z)*(1+(0.5)/z));\n",
"disp(h4,'stable transfer function,h4 = ');"
   ]
   }
,
{
		   "cell_type": "markdown",
		   "metadata": {},
		   "source": [
			"## Example 7.6: FIR_Transfer_function.sce"
		   ]
		  },
  {
"cell_type": "code",
	   "execution_count": null,
	   "metadata": {
	    "collapsed": true
	   },
	   "outputs": [],
"source": [
"//EXAMPLE 7.6\n",
"//FIR Trasnfer functions with different Phase.\n",
"clc;\n",
"clear;\n",
"z  = %z;\n",
"W  = 0:(1/400):1;\n",
"z  = exp(%i*2*%pi*W);\n",
"for i=1:401\n",
"    H1z(i)= -1+ 2/z(i) - 3/(z(i)^2) + 6/(z(i)^3) -3/(z(i)^4) +2/(z(i)^5) -1/z(i)^(6); \n",
"end\n",
"H1z_phase = phasemag(H1z);\n",
"clf();\n",
"figure(0);\n",
"plot2d(W/(2*%pi),H1z_phase,1);\n",
"xtitle('phase response','W/(2*%pi)','H2z_phase in degrees');\n",
"for i=1:401\n",
"    H2z(i)= +1 - 2/z(i) + 3/(z(i)^2) - 6/(z(i)^3) + 3/(z(i)^4) - 2/(z(i)^5) + 1/z(i)^(6); \n",
"end\n",
"H2z_phase = phasemag(H2z);\n",
"plot2d(W/(2*%pi),H2z_phase,2);\n",
"xtitle('phase response','W/(2*%pi)','H2z_phase in degrees');"
   ]
   }
],
"metadata": {
		  "kernelspec": {
		   "display_name": "Scilab",
		   "language": "scilab",
		   "name": "scilab"
		  },
		  "language_info": {
		   "file_extension": ".sce",
		   "help_links": [
			{
			 "text": "MetaKernel Magics",
			 "url": "https://github.com/calysto/metakernel/blob/master/metakernel/magics/README.md"
			}
		   ],
		   "mimetype": "text/x-octave",
		   "name": "scilab",
		   "version": "0.7.1"
		  }
		 },
		 "nbformat": 4,
		 "nbformat_minor": 0
}
