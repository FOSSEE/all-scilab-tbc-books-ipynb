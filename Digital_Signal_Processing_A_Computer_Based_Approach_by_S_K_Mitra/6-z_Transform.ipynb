{
"cells": [
 {
		   "cell_type": "markdown",
	   "metadata": {},
	   "source": [
       "# Chapter 6: z Transform"
	   ]
	},
{
		   "cell_type": "markdown",
		   "metadata": {},
		   "source": [
			"## Example 6.10: Rational_form_of_z_Transform_from_its_zero_and_pole_locations.sce"
		   ]
		  },
  {
"cell_type": "code",
	   "execution_count": null,
	   "metadata": {
	    "collapsed": true
	   },
	   "outputs": [],
"source": [
"//EXAMPLE 6.10\n",
"//Z-transform from pole-zero locations\n",
"clc;\n",
"clear;\n",
"z=%z;\n",
"//using the pole & zero locations provided\n",
"num=(z-0.21)*(z-3.14)*(z-(-0.3+%i*0.5))*(z-(-0.3-%i*0.5));\n",
"den=(z+0.45)*(z-0.67)*(z-(0.81+%i*0.72))*(z-(0.81-%i*0.72));\n",
"k=2.2;\n",
"Gz=(num/den);\n",
"disp(k*Gz,'Gz  =  ');"
   ]
   }
,
{
		   "cell_type": "markdown",
		   "metadata": {},
		   "source": [
			"## Example 6.11: Inverse_z_Transform.sce"
		   ]
		  },
  {
"cell_type": "code",
	   "execution_count": null,
	   "metadata": {
	    "collapsed": true
	   },
	   "outputs": [],
"source": [
"//EXAMPLE 6.11\n",
"//Inverse Z-transform\n",
"clc;\n",
"clear;\n",
"syms n z1;\n",
"z  = %z;\n",
"num = z;      //given |z|>1;\n",
"den = (z-1)^2;\n",
"//Power series expansion\n",
"x=ldiv(num,den,20);\n",
"disp(x,'x = ');\n",
"disp('x = n*u[n]');"
   ]
   }
,
{
		   "cell_type": "markdown",
		   "metadata": {},
		   "source": [
			"## Example 6.12: Inverse_z_Transform.sce"
		   ]
		  },
  {
"cell_type": "code",
	   "execution_count": null,
	   "metadata": {
	    "collapsed": true
	   },
	   "outputs": [],
"source": [
"//EXAMPLE 6.12\n",
"//Inverse Z-transform\n",
"clear;\n",
"clc;\n",
"z=%z;\n",
"num = 0.5*z;\n",
"den = z^2 -z + 0.25;\n",
"func = num/den;\n",
"v = factors(den);\n",
"disp(v,'factors are = ');\n",
"h1=ldiv(num,den,10);\n",
"disp(h1,'h  = ');\n",
"//using the property of z-trasnform\n",
"disp('observing v(1) & v(2) we conclude        h=n*(0.5)^n ')"
   ]
   }
,
{
		   "cell_type": "markdown",
		   "metadata": {},
		   "source": [
			"## Example 6.13: Proper_fraction_of_Rational_z_Transform.sce"
		   ]
		  },
  {
"cell_type": "code",
	   "execution_count": null,
	   "metadata": {
	    "collapsed": true
	   },
	   "outputs": [],
"source": [
"//EXAMPLE 6.13\n",
"//Determining proper fraction\n",
"clc;\n",
"clear;\n",
"z=%z;\n",
"num = 2*z^3 + 0.8*z^2 + 0.5*z +0.3;\n",
"den = (z^3 + 0.8*z^2 + 0.2*z);\n",
"func = num/den;\n",
"disp(func,'the polynomial function is H = ')\n",
"  if degree(num)>=degree(den) \n",
"           disp('An  improper fraction');\n",
"      else disp('A proper fraction');\n",
"  end\n",
"disp('decomposing the fraction we get .....');\n",
"H1=func-(-3.5*z + 1.5)/z;\n",
"disp(H1,'H1 = ');\n",
"disp('H1 is a Proper fraction')"
   ]
   }
,
{
		   "cell_type": "markdown",
		   "metadata": {},
		   "source": [
			"## Example 6.14: Inverse_z_Transform_by_partial_fraction_expansion.sce"
		   ]
		  },
  {
"cell_type": "code",
	   "execution_count": null,
	   "metadata": {
	    "collapsed": true
	   },
	   "outputs": [],
"source": [
"//EXAMPLE 6.14\n",
"//Inverse Z-transform\n",
"clear;\n",
"clc;\n",
"z = %z;\n",
"num=z*(z+2);\n",
"den=(z-0.2)*(z+0.6);\n",
"H=num/den;\n",
"elts=factors(den);\n",
"disp(elts);\n",
"//solving Partial Fractions, we get:\n",
"Hz = 2.75/(1-(0.2)/z) - 1.75/(1+(0.6)/z);\n",
"disp(Hz);\n",
"//disp(h = 2.75*(0.2^n) - 1.75*(0.6^n)*u(n));\n",
"h1= ldiv(2.75*z,(z-(0.2)),10)\n",
"disp(h1/2.75,'h1 = ');\n",
"h1= ldiv(1.75*z,(z+(0.6)),10)\n",
"disp(h1/1.75,'h2 = ');\n",
"disp('the inverse z-transform is :')\n",
"disp('h = 2.75*(0.2^n)*u(n) - 1.75*(-0.6^n)*u(n)')"
   ]
   }
,
{
		   "cell_type": "markdown",
		   "metadata": {},
		   "source": [
			"## Example 6.15: residue_computation_using_coefficient_matching_approach.sce"
		   ]
		  },
  {
"cell_type": "code",
	   "execution_count": null,
	   "metadata": {
	    "collapsed": true
	   },
	   "outputs": [],
"source": [
"//EXAMPLE 6.15\n",
"//solving for coefficients;\n",
"clear;\n",
"clc;\n",
"z = %z;\n",
"num=z*(z+2);\n",
"den=(z-0.2)*(z+0.6);\n",
"H=num/den;\n",
"disp('the factors are :');\n",
"elts=factors(den);\n",
"disp(elts);\n",
"//coeff are:\n",
"disp('The coefficients are p1,p2:');\n",
"p1 = horner((z+2)/(z+0.6),0.2);\n",
"disp(p1,'p1 = ') ;\n",
"p2 = horner((z+2)/(z-0.2),-0.6);\n",
"disp(p2,'p2 = ') ;"
   ]
   }
,
{
		   "cell_type": "markdown",
		   "metadata": {},
		   "source": [
			"## Example 6.16: Inverse_z_Transform_by_power_series_expansion.sce"
		   ]
		  },
  {
"cell_type": "code",
	   "execution_count": null,
	   "metadata": {
	    "collapsed": true
	   },
	   "outputs": [],
"source": [
"//EXAMPLE 6.16\n",
"//Partial fraction expansion\n",
"clc;\n",
"clear;\n",
"z=%z;\n",
"num = z^3;\n",
"den = 18*z^3 + 3*z^2 - 4*z - 1;\n",
"elts=factors(den);\n",
"disp(elts,'the factors are :') ;\n",
"func = num/den;\n",
"//the partial fraction gives:\n",
"p1 = horner((1/(1+0.3333333/z)^2),0.5);\n",
"disp(p1,'p1 = ');\n",
"p2 = horner(1/((1-0.5/z)),-0.3333333);\n",
"disp(p2,'p2 = ');\n",
"p3 = horner(0.6/((1-0.5/z)),-0.3333333);\n",
"disp(p3,'p3 = ');\n",
"disp('partial fraction gives : ');\n",
"disp(p1*z/elts(1),'h1 = ');\n",
"disp(p3*z/elts(3),'h2 = ');\n",
"disp(p2*z^2/(elts(2)*elts(2)),'h3 = ');"
   ]
   }
,
{
		   "cell_type": "markdown",
		   "metadata": {},
		   "source": [
			"## Example 6.17: Coefficients_of_rational_form.sce"
		   ]
		  },
  {
"cell_type": "code",
	   "execution_count": null,
	   "metadata": {
	    "collapsed": true
	   },
	   "outputs": [],
"source": [
"//EXAMPLE 6.16\n",
"//Coefficients of Rational form\n",
"clc;\n",
"clear;\n",
"z=%z;\n",
"num = 18*z^3;\n",
"den = 18*z^3 + 3*z^2 - 4*z - 1;\n",
"disp(coeff(num)/18,'the Numerator polynomial coefficients are:');\n",
"disp(coeff(den)/18,'the denominator polynomial coefficients are:');"
   ]
   }
,
{
		   "cell_type": "markdown",
		   "metadata": {},
		   "source": [
			"## Example 6.18: Inverse_z_Transform_using_long_division.sce"
		   ]
		  },
  {
"cell_type": "code",
	   "execution_count": null,
	   "metadata": {
	    "collapsed": true
	   },
	   "outputs": [],
"source": [
"//EXAMPLE 6.18\n",
"//Inverse Z-transform using power series expansion\n",
"clc;\n",
"clear;\n",
"z=%z;\n",
"Xnum=z;\n",
"Xden=(z-1)^2;\n",
"xn=ldiv(Xnum,Xden,15);\n",
"disp(xn,'The function is = ');\n",
"disp(' Thus, xn = n*u(n)');"
   ]
   }
,
{
		   "cell_type": "markdown",
		   "metadata": {},
		   "source": [
			"## Example 6.19: Inverse_z_Transform_using_long_division.sce"
		   ]
		  },
  {
"cell_type": "code",
	   "execution_count": null,
	   "metadata": {
	    "collapsed": true
	   },
	   "outputs": [],
"source": [
"//EXAMPLE 6.19\n",
"//Inverse Z-transform using Long division method\n",
"clc;\n",
"clear;\n",
"z=%z;\n",
"Hnum=z^2 + 2*z;\n",
"Hden=z^2 + 0.4*z -0.12;\n",
"hn=ldiv(Hnum,Hden,20);\n",
"disp(hn,'The function is, hn = ');"
   ]
   }
,
{
		   "cell_type": "markdown",
		   "metadata": {},
		   "source": [
			"## Example 6.1: z_Transform_of_causal_exponential_sequence.sce"
		   ]
		  },
  {
"cell_type": "code",
	   "execution_count": null,
	   "metadata": {
	    "collapsed": true
	   },
	   "outputs": [],
"source": [
"//EXAMPLE 6.1\n",
"//Z-Transform of causal sequence\n",
"clc;\n",
"clear;\n",
"syms n a z;\n",
"x = a^n;\n",
"X = nusum(x*(1/z)^n,n,0,%inf);\n",
"limit(X);\n",
"disp(' X = ',X);\n",
"disp(' ROC = |z|>|a| ')"
   ]
   }
,
{
		   "cell_type": "markdown",
		   "metadata": {},
		   "source": [
			"## Example 6.20: Inverse_z_Transform.sce"
		   ]
		  },
  {
"cell_type": "code",
	   "execution_count": null,
	   "metadata": {
	    "collapsed": true
	   },
	   "outputs": [],
"source": [
"//EXAMPLE 6.20\n",
"//Inverse Z-transform using power series expansion\n",
"clc;\n",
"clear;\n",
"z=%z;\n",
"Hnum=z^2 + 2*z;\n",
"Hden=z^2 + 0.4*z -0.12;\n",
"hn=ldiv(Hnum,Hden,20);\n",
"disp(hn,'The impulse response is, hn = ');"
   ]
   }
,
{
		   "cell_type": "markdown",
		   "metadata": {},
		   "source": [
			"## Example 6.22: z_Transform.sce"
		   ]
		  },
  {
"cell_type": "code",
	   "execution_count": null,
	   "metadata": {
	    "collapsed": true
	   },
	   "outputs": [],
"source": [
"﻿//Example 6.22\n",
"//MAXIMA SCILAB TOOLBOX REQUIRED FOR THIS PROGRAM\n",
"//Z transform of rˆn.cos(wo∗n)\n",
"clc ;\n",
"clear;\n",
"syms r wo n z ;\n",
"x1 =(r^n)*exp(%i*wo*n) ;\n",
"X1 = nusum(x1*(z^-n),n,0,%inf);\n",
"x2 =(r^n)*exp(-%i*wo*n) ;\n",
"X2 = nusum(x2*(z^-n),n,0,%inf) ;\n",
"X =(X1+X2)/2 ;\n",
"disp(X,'X(z)=') ;\n",
"disp('ROC : |z|>r');"
   ]
   }
,
{
		   "cell_type": "markdown",
		   "metadata": {},
		   "source": [
			"## Example 6.23: z_Transform.sce"
		   ]
		  },
  {
"cell_type": "code",
	   "execution_count": null,
	   "metadata": {
	    "collapsed": true
	   },
	   "outputs": [],
"source": [
"//Example 6.23\n",
"//MAXIMA SCILAB TOOLBOX REQUIRED FOR THIS PROGRAM\n",
"//Z transform of w(n)  =((-0.5)^(n-2) +(0.2)^(n-1))*u(n)\n",
"syms n z ;\n",
"w1 = 4*(-0.5)^n\n",
"W1 = nusum(w1,n,0,%inf);\n",
"disp(W1,'ROC = |z|> 0.5 ,W1 = ');\n",
"w2 = 5*(0.2)^n\n",
"W2 = nusum(w2,n,0,%inf);\n",
"disp(W2,' ROC = |z|> 0.2 , W2 = ');\n",
"disp(W1+W2,'The Z-Transform is = ');\n",
"disp('ROC = |z|>0.5');"
   ]
   }
,
{
		   "cell_type": "markdown",
		   "metadata": {},
		   "source": [
			"## Example 6.24: sum_of_sequences_of_non_overlapping_ROC.sce"
		   ]
		  },
  {
"cell_type": "code",
	   "execution_count": null,
	   "metadata": {
	    "collapsed": true
	   },
	   "outputs": [],
"source": [
"//Example 6.24\n",
"//MAXIMA SCILAB TOOLBOX REQUIRED FOR THIS PROGRAM\n",
"//Z transform of v(n)  =(a)^(n)*u(n) - (b)^(n)*u(-n-1)\n",
"clc;\n",
"clear;\n",
"disp('assuming  |b| > a');\n",
"syms a n;\n",
"x1 = a^n;\n",
"X1 = nusum(x1,n,0,%inf);\n",
"x1 = b^n;\n",
"X1 = nusum(x2,n,-%inf,-1);\n",
"Vz = X1 + X2;\n",
"disp(Vz,'The Z-transform is = ');\n",
"disp('ROC = |a|<|z|<|b|');"
   ]
   }
,
{
		   "cell_type": "markdown",
		   "metadata": {},
		   "source": [
			"## Example 6.25: z_Transform.sce"
		   ]
		  },
  {
"cell_type": "code",
	   "execution_count": null,
	   "metadata": {
	    "collapsed": true
	   },
	   "outputs": [],
"source": [
"//Example 6.25\n",
"//Z transform of Vz , d0*v[n] + d1*v[n-1] = p0*d[n] + p1*d[n-1]; \n",
"//MAXIMA SCILAB TOOLBOX REQUIRED FOR THIS EXAMPLE\n",
"clc;\n",
"clear;\n",
"syms p0 p1 d0 d1;\n",
"z= %z;\n",
"disp('given that v[n] -->  V(z).Using Time shifting property,we get : ')\n",
"disp(' d0*Vz + d1*Vz*(1/z) = p0 + p1*(1/z) ');\n",
"disp('Rearranging the terms ...');\n",
"Vz = (p0 + p1/z)/(d0 + d1/z);\n",
"disp(Vz,'Z-transform is Vz =');\n",
" "
   ]
   }
,
{
		   "cell_type": "markdown",
		   "metadata": {},
		   "source": [
			"## Example 6.26: z_Transform.sce"
		   ]
		  },
  {
"cell_type": "code",
	   "execution_count": null,
	   "metadata": {
	    "collapsed": true
	   },
	   "outputs": [],
"source": [
"﻿// Example 6.26\n",
"//MAXIMA SCILAB TOOLBOX\n",
"//Z transform of (n+1)*a^n*u(n)\n",
"clear ;\n",
"clc ;\n",
"syms a n z ;\n",
"x1 =(a)^n ;\n",
"X1 = symsum(x1*(z^(-n)),n,0,%inf);\n",
"X2 = -z*(diff (X,z,1)) ;\n",
"X = X1 + X2;\n",
"disp (X , 'Z−transform of(n+1)*a^n*u(n) is X = ');"
   ]
   }
,
{
		   "cell_type": "markdown",
		   "metadata": {},
		   "source": [
			"## Example 6.27: Inverse_z_Transform.sce"
		   ]
		  },
  {
"cell_type": "code",
	   "execution_count": null,
	   "metadata": {
	    "collapsed": true
	   },
	   "outputs": [],
"source": [
"// Example 6.27\n",
"//inverse Z-transform of z^3/(z-0.5)*(z+1/3)^2;\n",
"clear ;\n",
"clc ;\n",
"z=%z;\n",
"Gnum = z^3;\n",
"Gden = (z-0.5)*(z+1/3)^2;\n",
"G = Gnum/Gden;\n",
"g1=ldiv(Gnum,Gden,10);\n",
"elts=factors(Gden);\n",
"//the partial fraction gives:\n",
"p1 = horner((1/(1+0.3333333/z)^2),0.5);\n",
"disp(p1,'p1 = ');\n",
"p2 = horner(1/((1-0.5/z)),-0.3333333);\n",
"disp(p2,'p2 = ');\n",
"p3 = horner(0.6/((1-0.5/z)),-0.3333333);\n",
"disp(p3,'p3 = ')\n",
"disp('partial fraction gives : ');\n",
"disp(p1*z/elts(1),'h1 = ');\n",
"disp(p3*z/elts(3),'h2 = ');\n",
"disp(p2*z^2/(elts(2)*elts(2)),'h3 = ');\n",
"disp('gn = 0.36*(0.5)^n + 0.24*(-1/3)^n + 0.4*(n+1)*(-1/3)^n')\n",
"disp(g1,'the first 10 samples of g[n] = ');"
   ]
   }
,
{
		   "cell_type": "markdown",
		   "metadata": {},
		   "source": [
			"## Example 6.28: Enlargement_of_ROC_by_pole_zero_cancellation.sce"
		   ]
		  },
  {
"cell_type": "code",
	   "execution_count": null,
	   "metadata": {
	    "collapsed": true
	   },
	   "outputs": [],
"source": [
"// Example 6.28\n",
"//Enlargement of ROC by pole-zero cancellation\n",
"clc;\n",
"clear;\n",
"z=%z;\n",
"Gz = (2 + 1.2*(1/z))/(1 - 0.2*(1/z))\n",
"disp(Gz,'Gz = ');\n",
"disp('ROC = |z|>0.2');\n",
"Hz = 3/(1 + 0.6*(1/z));\n",
"disp(Hz,'Hz = ');\n",
"disp('ROC = |z|>0.6');\n",
"Xz = Gz*Hz;\n",
"disp(Xz,'Xz = ');\n",
"disp('ROC = |z|>0.2');"
   ]
   }
,
{
		   "cell_type": "markdown",
		   "metadata": {},
		   "source": [
			"## Example 6.2: z_transform_of_anticausal_sequence.sce"
		   ]
		  },
  {
"cell_type": "code",
	   "execution_count": null,
	   "metadata": {
	    "collapsed": true
	   },
	   "outputs": [],
"source": [
"clc;\n",
"clear;\n",
"syms n a z;\n",
"x = a^n;\n",
"X = nusum(-x*(1/z)^n,n,-%inf,-1);\n",
"limit(X);\n",
"disp(' X = ',X);\n",
"disp(' ROC = |z|<|a| ')"
   ]
   }
,
{
		   "cell_type": "markdown",
		   "metadata": {},
		   "source": [
			"## Example 6.30: Convolution.sce"
		   ]
		  },
  {
"cell_type": "code",
	   "execution_count": null,
	   "metadata": {
	    "collapsed": true
	   },
	   "outputs": [],
"source": [
"//EXAMPLE 6.30\n",
"//PROGRAM REQUIRES MAXIMA SCILAB TOOLBOX\n",
"//USE Z-TRANSFORM TO EVALUATE CONVOLUTION OF TWO SEQUENCES:\n",
"clc;\n",
"clear;\n",
"syms n z;\n",
"x = [-2  0 1 -1 3];\n",
"h = [1 2 0 -1 0];\n",
"for n=0:4\n",
"    X(n+1) = x(n+1)*z^(-n);\n",
"    H(n+1) = h(n+1)*z^(-n);\n",
"end\n",
"disp(X','X = ');\n",
"disp(H','H = ');\n",
"for i=1:5\n",
"    U(i)=0;\n",
"    for j=1:5\n",
"        U(i)=U(i)+X(i)*H(j);\n",
"    end\n",
"end\n",
"Y=0;\n",
"for i=1:5;\n",
"    Y = Y + U(i);\n",
"end\n",
"disp(Y,'Y = ');\n",
"disp('y = [-2 -4 1 3 1 5 1 -3]')"
   ]
   }
,
{
		   "cell_type": "markdown",
		   "metadata": {},
		   "source": [
			"## Example 6.31: Convolution.sce"
		   ]
		  },
  {
"cell_type": "code",
	   "execution_count": null,
	   "metadata": {
	    "collapsed": true
	   },
	   "outputs": [],
"source": [
"//EXAMPLE 6.31\n",
"//PROGRAM REQUIRES MAXIMA SCILAB TOOLBOX\n",
"//USE Z-TRANSFORM TO EVALUATE CONVOLUTION OF TWO SEQUENCES:\n",
"clc;\n",
"clear;\n",
"syms n z;\n",
"x = [3 -2 4];\n",
"h = [4 2 -1];\n",
"for n=-1:1\n",
"    X(n+2) = x(n+2)*(z^-n);\n",
"end\n",
"disp(X','X = ');\n",
"for n=0:2\n",
"    H(n+1) = h(n+1)*(z^-n);\n",
"end\n",
"disp(H','H = ');\n",
"for i=1:3\n",
"    U(i)=0;\n",
"    for j=1:3\n",
"        U(i)=U(i)+X(i)*H(j);\n",
"    end\n",
"end\n",
"Y=0;\n",
"for i=1:3;\n",
"    Y = Y + U(i);\n",
"end\n",
"disp(Y,'Y = ');\n",
"disp('y = [12 -2 9 10 -4]');"
   ]
   }
,
{
		   "cell_type": "markdown",
		   "metadata": {},
		   "source": [
			"## Example 6.33: Transfer_Function_of_Moving_Average_Filter.sce"
		   ]
		  },
  {
"cell_type": "code",
	   "execution_count": null,
	   "metadata": {
	    "collapsed": true
	   },
	   "outputs": [],
"source": [
"//EXAMPLE 6.33\n",
"//Transfer function of moving average filter\n",
"clear;\n",
"clc;\n",
"syms n z M;\n",
"x=z^(-n);\n",
"H1=nusum(x,n,0,M-1);\n",
"H=H1/M;\n",
"disp(H,'Transfer function, Hz = ');"
   ]
   }
,
{
		   "cell_type": "markdown",
		   "metadata": {},
		   "source": [
			"## Example 6.34: Transfer_function_determination.sce"
		   ]
		  },
  {
"cell_type": "code",
	   "execution_count": null,
	   "metadata": {
	    "collapsed": true
	   },
	   "outputs": [],
"source": [
"//EXAMPLE 6.34\n",
"//y[n]=x[n-1] - 1.2*x[n-2] + x[n-3] + 1.3*y[n-1] -1.04*y[n-2] + 0.222*y[n-3] \n",
"//Transfer function determination\n",
"clc;\n",
"clear;\n",
"z=%z;\n",
"disp('Given the difference equation taking ztransform on both sides :')\n",
"Yz = z^2 -1.2*z +1;\n",
"Xz = z^3 -1.3*z^2 + 1.04*z -0.222;\n",
"Hz = Yz/Xz;\n",
"disp(Hz,'The transfer function is = ')\n",
"elts = factors(Xz);\n",
"disp(elts,'factors of Xz are = ')\n",
"plzr(Hz);"
   ]
   }
,
{
		   "cell_type": "markdown",
		   "metadata": {},
		   "source": [
			"## Example 6.3: z_Transform.sce"
		   ]
		  },
  {
"cell_type": "code",
	   "execution_count": null,
	   "metadata": {
	    "collapsed": true
	   },
	   "outputs": [],
"source": [
"//EXAMPLE 6.3\n",
"//Z-Transform \n",
"clc;\n",
"clear;\n",
"syms n a z M N;\n",
"x = a^n;\n",
"X = nusum(x*(1/z)^n,n,M,N-1);\n",
"limit(X);\n",
"disp(X,' X = ');"
   ]
   }
,
{
		   "cell_type": "markdown",
		   "metadata": {},
		   "source": [
			"## Example 6.4: z_Transform.sce"
		   ]
		  },
  {
"cell_type": "code",
	   "execution_count": null,
	   "metadata": {
	    "collapsed": true
	   },
	   "outputs": [],
"source": [
"//EXAMPLE 6.4\n",
"//Z-Transform \n",
"clc;\n",
"clear;\n",
"syms n z;\n",
"x = (-0.6)^n;\n",
"X = nusum(x*((1/z)^n),n,0,%inf);\n",
"limit(X);\n",
"disp(X,' X = ');"
   ]
   }
,
{
		   "cell_type": "markdown",
		   "metadata": {},
		   "source": [
			"## Example 6.5: Z_transform_of_causal_sequence.sce"
		   ]
		  },
  {
"cell_type": "code",
	   "execution_count": null,
	   "metadata": {
	    "collapsed": true
	   },
	   "outputs": [],
"source": [
"//EXAMPLE 6.9\n",
"//Z-Transform of causal sequence\n",
"clc;\n",
"clear;\n",
"//z=%z;\n",
"syms n a z M N;\n",
"x = a^n;\n",
"X = nusum(x*(1/z)^n,n,-M,N);\n",
"limit(X);\n",
"disp(X,' X = ');"
   ]
   }
,
{
		   "cell_type": "markdown",
		   "metadata": {},
		   "source": [
			"## Example 6.9: z_Transform.sce"
		   ]
		  },
  {
"cell_type": "code",
	   "execution_count": null,
	   "metadata": {
	    "collapsed": true
	   },
	   "outputs": [],
"source": [
"//EXAMPLE 6.9\n",
"//Determination of ROC\n",
"clc;\n",
"clear;\n",
"z=%z;\n",
"a=2*z^4+16*z^3+44*z^2+56*z+32;\n",
"b=3*z^4+3*z^3-15*z^2+18*z-12;\n",
"[h1,g1]=factors(a);\n",
"[h2,g2]=factors(b);\n",
"disp(h1,'h1 = ');\n",
"disp(h2,'h2 = ');\n",
"c=a/b;\n",
"disp(c,'function is = ');\n",
"plzr(c);"
   ]
   }
],
"metadata": {
		  "kernelspec": {
		   "display_name": "Scilab",
		   "language": "scilab",
		   "name": "scilab"
		  },
		  "language_info": {
		   "file_extension": ".sce",
		   "help_links": [
			{
			 "text": "MetaKernel Magics",
			 "url": "https://github.com/calysto/metakernel/blob/master/metakernel/magics/README.md"
			}
		   ],
		   "mimetype": "text/x-octave",
		   "name": "scilab",
		   "version": "0.7.1"
		  }
		 },
		 "nbformat": 4,
		 "nbformat_minor": 0
}
