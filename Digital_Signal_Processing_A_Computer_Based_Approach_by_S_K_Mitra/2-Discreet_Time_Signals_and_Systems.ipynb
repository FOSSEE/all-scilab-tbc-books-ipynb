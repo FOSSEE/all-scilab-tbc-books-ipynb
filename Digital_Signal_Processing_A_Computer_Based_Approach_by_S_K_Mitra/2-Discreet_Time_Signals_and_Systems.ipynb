{
"cells": [
 {
		   "cell_type": "markdown",
	   "metadata": {},
	   "source": [
       "# Chapter 2: Discreet Time Signals and Systems"
	   ]
	},
{
		   "cell_type": "markdown",
		   "metadata": {},
		   "source": [
			"## Example 2.16: Linearity_of_accumulator.sce"
		   ]
		  },
  {
"cell_type": "code",
	   "execution_count": null,
	   "metadata": {
	    "collapsed": true
	   },
	   "outputs": [],
"source": [
"//EXAMPLE 2.16, \n",
"clear;\n",
"clc;\n",
"//Given input sequence = [3 4 5]\n",
"x=[0 3 4 5 0];\n",
"disp([3 4 5],'Input sequence = ')\n",
"//determining median filter\n",
"//first sequence\n",
"for k=2:4\n",
"    if  x(k)>x(k-1) & x(k+1)>x(k-1) & x(k+1)>x(k)\n",
"         y(k-1)=x(k);\n",
"     else\n",
"         x(k-1)>x(k+1) & x(k)>x(k+1) & x(k)>x(k-1)\n",
"         y(k-1)=x(k-1);\n",
"    end\n",
"end\n",
"disp(y','The Median Filter of the given input is =');"
   ]
   }
,
{
		   "cell_type": "markdown",
		   "metadata": {},
		   "source": [
			"## Example 2.1: Ensemble_Averaging.sce"
		   ]
		  },
  {
"cell_type": "code",
	   "execution_count": null,
	   "metadata": {
	    "collapsed": true
	   },
	   "outputs": [],
"source": [
"//EXAMPLE 2.1\n",
"//Ensemble averaging\n",
"clear ;\n",
"clc ;\n",
"n = 1:50;\n",
"clf();\n",
"figure(0)\n",
"a=gca();\n",
"a.x_location='origin';\n",
"a.y_location='origin';\n",
"   for i =1:length(n)\n",
"       s(i)=2*n(i)*((0.9)^n(i));\n",
"       d(i)=(-0.1)^n(i);       //arbitrary noise signal.\n",
"   end\n",
"M=length(n);\n",
" \n",
" for i =1:M\n",
"     d(i)=(-0.1)^i;\n",
"     S=sum(d);\n",
" end\n",
"Eav=(s+S/M)';          //Ensemble average.\n",
"disp(Eav,'The output of Ensemble averaging is')\n",
"plot2d3(n,s)\n",
"plot(n,s,'r.')\n",
"xtitle('Ensemble averaging','n','Eav-s');\n",
"a.children.children.thickness=2;\n",
"a.children.children.foreground=2;"
   ]
   }
,
{
		   "cell_type": "markdown",
		   "metadata": {},
		   "source": [
			"## Example 2.20: Passive_system.sce"
		   ]
		  },
  {
"cell_type": "code",
	   "execution_count": null,
	   "metadata": {
	    "collapsed": true
	   },
	   "outputs": [],
"source": [
"//EXAMPLE 2.20,Passive or lossless system.\n",
"clear;\n",
"clc;\n",
"a=input('any value of a less than or equal to one')\n",
"n=-10:1:10;\n",
" x=n;\n",
" y=a*n;\n",
" S=0;\n",
" for i=1:length(n)\n",
"     S=S+y^2; \n",
" end\n",
" if a<1 then\n",
"     disp('the system is passive')\n",
" else\n",
"     \n",
"     a==1\n",
"     disp('the system is lossless')\n",
"    \n",
" end"
   ]
   }
,
{
		   "cell_type": "markdown",
		   "metadata": {},
		   "source": [
			"## Example 2.22: Impulse_response_of_Accumulator.sce"
		   ]
		  },
  {
"cell_type": "code",
	   "execution_count": null,
	   "metadata": {
	    "collapsed": true
	   },
	   "outputs": [],
"source": [
"//EXAMPLE 2.22,impulse response of accumulator\n",
"clear;\n",
"clc;\n",
"d=[1];\n",
"t=-1:.01:1;\n",
"h=0;\n",
"clf();\n",
"figure(0);\n",
"a=gca();\n",
"a.x_location='origin';\n",
"for i=1:length(t)\n",
"    if t(i)<0 \n",
"      h=0;\n",
"    else\n",
"        h=d;\n",
"        plot2d3(i-101,h)\n",
"        plot(i-101,h,'.r') \n",
"        xtitle('Impulse Response of accumulator','t','Y');\n",
"        a.children.children.thickness=1;\n",
"        a.children.children.foreground=2;\n",
"    end\n",
"end\n",
"disp(h,'The impulse response of Accumulator is =')"
   ]
   }
,
{
		   "cell_type": "markdown",
		   "metadata": {},
		   "source": [
			"## Example 2.26: Convolution.sce"
		   ]
		  },
  {
"cell_type": "code",
	   "execution_count": null,
	   "metadata": {
	    "collapsed": true
	   },
	   "outputs": [],
"source": [
"//EXAMPLE 2.26,convolution of x & h\n",
"x=[-2 0 1 -1 3];\n",
"disp(x,'x = ');\n",
"h=[1 2 0 -1];\n",
"disp(h,'h = ');\n",
"n=0:7;\n",
"y=convol(x,h);\n",
"disp(y,'The convolution of the two inputs is :')"
   ]
   }
,
{
		   "cell_type": "markdown",
		   "metadata": {},
		   "source": [
			"## Example 2.27: Convolution.sce"
		   ]
		  },
  {
"cell_type": "code",
	   "execution_count": null,
	   "metadata": {
	    "collapsed": true
	   },
	   "outputs": [],
"source": [
"//EXAMPLE 2.27, convolution of an exponential sequence\n",
"clear;\n",
"clc;\n",
"n=0:.5:5\n",
"c=0.5;\n",
"b=0.4;\n",
"clf();\n",
"figure(0);\n",
"a=gca();\n",
"a.x_location='origin';\n",
"x = c^n;\n",
"subplot(2,2,1);\n",
"plot2d3(n,x,2);\n",
"plot(n,x,'.r');\n",
"xtitle('','n','x');\n",
"h = b^n ;\n",
"subplot(2,2,2);\n",
"plot2d3(n,h,2)\n",
"plot(n,h,'.r')\n",
"xtitle('','n','h');\n",
"N=0:.5:10;\n",
"y = convol (x , h ); \n",
"subplot(2,2,3);\n",
"plot2d3(N,y,2)\n",
"plot(N,y,'.r')\n",
"xtitle('convol(x,h)' ,'n','y');\n",
"disp(y,'Convolution of the two exponential sequences is =')"
   ]
   }
,
{
		   "cell_type": "markdown",
		   "metadata": {},
		   "source": [
			"## Example 2.28: Convolution.sce"
		   ]
		  },
  {
"cell_type": "code",
	   "execution_count": null,
	   "metadata": {
	    "collapsed": true
	   },
	   "outputs": [],
"source": [
"//EXAMPLE 2.28,graphical representation of convolution of x & h.\n",
"clear;\n",
"clc;\n",
"x=[-2 0 1 -1 3];\n",
"disp(x,'x');\n",
"h=[1 2 0 -1];\n",
"disp(h,'h');\n",
"n=0:7;\n",
"y=convol(x,h);\n",
"disp(y,'convolution = ');\n",
"clf();\n",
"figure(0);\n",
"a=gca();\n",
"a.x_location='origin';\n",
"a.y_location='origin';\n",
"plot2d3(n,y)\n",
"plot(n,y,'r.')\n",
"xtitle('convolution','n','Y');\n",
"a.children.children.thickness=2;\n",
"a.children.children.foreground=2;"
   ]
   }
,
{
		   "cell_type": "markdown",
		   "metadata": {},
		   "source": [
			"## Example 2.29: Convolution.sce"
		   ]
		  },
  {
"cell_type": "code",
	   "execution_count": null,
	   "metadata": {
	    "collapsed": true
	   },
	   "outputs": [],
"source": [
"//Example 2.29,Convolution using Tabular method.\n",
"clear;\n",
"clc;\n",
"x=[-2 0 1 -1 3];\n",
"h=[1 2 0 -1];\n",
"q=length(x);\n",
"w=length(h);\n",
"z=q+w-1;\n",
"y0=0;\n",
"for i=1:z;\n",
"    y(i)=0;\n",
"    for k=1:i;\n",
"        if k>q\n",
"            x(k)=0;\n",
"        else\n",
"            if (i-k+1)>w\n",
"                h(i-k+1)=0;\n",
"            else\n",
"             y(i)= y(i) + x(k)*h(i-k+1);\n",
"            end\n",
"        end\n",
"    end\n",
"end\n",
"disp(y','The Convolution of the two sequences is =')"
   ]
   }
,
{
		   "cell_type": "markdown",
		   "metadata": {},
		   "source": [
			"## Example 2.2: Basic_operations.sce"
		   ]
		  },
  {
"cell_type": "code",
	   "execution_count": null,
	   "metadata": {
	    "collapsed": true
	   },
	   "outputs": [],
"source": [
"//EXAMPLE 2.2 , BASIC OPERATIONS.\n",
"clear;\n",
"clc;\n",
"c=[3.2 41 36 -9.5 0];\n",
"disp(c,'c = ');\n",
"d=[1.7 -0.5 0 0.8 1];\n",
"disp(d,'d = ');\n",
"w1=c.*d;                   //Multiplication\n",
"disp(w1,'The product of two input vectors is =');\n",
"w2=c+d;                    //addition\n",
"disp(w2,'The addition of two input vectors is =');\n",
"w3=3.5*c;                  \n",
"disp(w3,'The scaling of first input vector is =');"
   ]
   }
,
{
		   "cell_type": "markdown",
		   "metadata": {},
		   "source": [
			"## Example 2.30: Convolution.sce"
		   ]
		  },
  {
"cell_type": "code",
	   "execution_count": null,
	   "metadata": {
	    "collapsed": true
	   },
	   "outputs": [],
"source": [
"//EXAMPLE 2.30\n",
"//Convolution of two sided sequences\n",
"clear;\n",
"clc;\n",
"g=[3 -2 4];//originating at n=-1 \n",
"h=[4 2 -1];//originating at n=0\n",
"q=length(g);\n",
"w=length(h);\n",
"z=q+w-1;\n",
"y0=0;\n",
"for i=1:z;\n",
"    y(i)=0;\n",
"    for k=1:i;\n",
"        if k>q\n",
"            g(k)=0;\n",
"        else\n",
"            if (i-k+1)>w\n",
"                h(i-k+1)=0;\n",
"            else\n",
"             y(i)= y(i) + g(k)*h(i-k+1);\n",
"            end\n",
"        end\n",
"    end\n",
"end\n",
"n=-1:z-2;\n",
"disp(y,'The Convolution of the two sequences is =')\n",
"clf();\n",
"a=gca();\n",
"figure(0);\n",
"a.x_location='origin';\n",
"plot2d3(n,y,2);\n",
"plot(n,y,'r.');\n",
"xtitle('convolution','n','y');"
   ]
   }
,
{
		   "cell_type": "markdown",
		   "metadata": {},
		   "source": [
			"## Example 2.31: Stabbility_of_causal_system.sce"
		   ]
		  },
  {
"cell_type": "code",
	   "execution_count": null,
	   "metadata": {
	    "collapsed": true
	   },
	   "outputs": [],
"source": [
"//EXAMPLE 2.31, Stability for causal system.\n",
"//h[i]=impulse response of LTI system.\n",
"clear;\n",
"clc;\n",
"n= -5:0.001:5;\n",
"a=0.6;\n",
"for i=1:length(n)\n",
"    if (n(i)<0)\n",
"        h(i)=0;\n",
"    else\n",
"        h(i)=abs(a^n(i));\n",
"        \n",
"    end\n",
"end\n",
"S=sum(h);\n",
"if(S<%inf)\n",
"    disp('BIBO stable system');\n",
"else\n",
"    disp('BIBO unstable system');\n",
"    \n",
"end"
   ]
   }
,
{
		   "cell_type": "markdown",
		   "metadata": {},
		   "source": [
			"## Example 2.32: Stability_of_Anti_causal_system.sce"
		   ]
		  },
  {
"cell_type": "code",
	   "execution_count": null,
	   "metadata": {
	    "collapsed": true
	   },
	   "outputs": [],
"source": [
"//EXAMPLE2.32 Stability for anti-Causal system. \n",
"//h[i]=impulse response of LTI system.\n",
"clear;\n",
"clc;\n",
"n= -5:1/1000:5;\n",
"a=5;\n",
"for i=1:length(n)\n",
"    if (n(i)>-1)\n",
"        h(i)=0;\n",
"    else\n",
"        h(i)=a^n(i);\n",
"        S=sum(h);\n",
"    end\n",
"end\n",
"if(S<%inf)\n",
"    disp('BIBO stable system');\n",
"else\n",
"    disp('BIBO unstable system');\n",
"    \n",
"end"
   ]
   }
,
{
		   "cell_type": "markdown",
		   "metadata": {},
		   "source": [
			"## Example 2.33: Stability_of_a_system.sce"
		   ]
		  },
  {
"cell_type": "code",
	   "execution_count": null,
	   "metadata": {
	    "collapsed": true
	   },
	   "outputs": [],
"source": [
"//EXAMPLE 2.33 ,stability of finite impulse response.\n",
"//h[i]=impulse response of LTI system.\n",
"clear;\n",
"clc;\n",
"n= -5:1/100:5;\n",
"a= input('value of a');\n",
"N1=input('lower limit');\n",
"N2=input('upper limit');\n",
"for i=1:length(a)\n",
"    if (n(i)<N1 & n(i)>N2)\n",
"        h(i)=0;\n",
"    else\n",
"        h(i)=a^n(i);\n",
"        S=sum(h);\n",
"    end\n",
"end\n",
"if(S<%inf)\n",
"    disp('BIBO stable system');       //as long as N1,N2!=%inf \n",
"else\n",
"    disp('BIBO unstable system');\n",
"    \n",
"end"
   ]
   }
,
{
		   "cell_type": "markdown",
		   "metadata": {},
		   "source": [
			"## Example 2.3: Unequal_length_sequence.sce"
		   ]
		  },
  {
"cell_type": "code",
	   "execution_count": null,
	   "metadata": {
	    "collapsed": true
	   },
	   "outputs": [],
"source": [
"//EXAMPLE 2.3, Basic ops on unequal length sequence\n",
"clear;\n",
"clc;\n",
"c=[3.2 41 36 -9.5 0];\n",
"disp(c,'c = ');\n",
"g=[-21 1.5 3];\n",
"disp(g,'g = ');\n",
"a=length(g);\n",
"b=length(c);\n",
"i=0;\n",
"    while(i<b-a)\n",
"        g(b-i)=0;\n",
"        i=i+1;\n",
"    end\n",
"w4=g.*c;\n",
"disp(w4,'The product of two sequences is =');\n",
"w5=c+g;\n",
"disp(w5,'The addition  of two sequences is =');"
   ]
   }
,
{
		   "cell_type": "markdown",
		   "metadata": {},
		   "source": [
			"## Example 2.46: Cross_coreation_computation.sce"
		   ]
		  },
  {
"cell_type": "code",
	   "execution_count": null,
	   "metadata": {
	    "collapsed": true
	   },
	   "outputs": [],
"source": [
"//EXAMPLE 2.46, Cross corelation Computation.\n",
"// Given two finite length sequence.x[n],y[n]:\n",
"clear;\n",
"clc;\n",
"x=[1 3 -2 1 2 -1 4 4 2];\n",
"disp(x,'x');\n",
"y=[2 -1 4 1 -2 3];\n",
"disp(y,'y');\n",
"//Cross corelation rxy[n]:\n",
"rxy=convol(x,mtlb_fliplr(y));\n",
"disp(rxy,'The Cross-Corelation Operation of the Inputs is =')"
   ]
   }
,
{
		   "cell_type": "markdown",
		   "metadata": {},
		   "source": [
			"## Example 2.5: Generating_symmetric_parts.sce"
		   ]
		  },
  {
"cell_type": "code",
	   "execution_count": null,
	   "metadata": {
	    "collapsed": true
	   },
	   "outputs": [],
"source": [
"//EXAMPLE 2.5,Conjugate-Antisymmetric & Conjugate-symmetric parts of Sequence\n",
"clc;\n",
"clear;\n",
"g=[0, 1+%i*4, -2+%i*3, 4-%i*2, -5-%i*6, -%i*2, 3];\n",
"disp(g,'g = ')\n",
"g1=conj(g);          //Conjugate of g;       \n",
"disp(g1,conj(g));\n",
"a=length(g);\n",
"for i=1:a\n",
"    g2(1,i)=g1(a-i+1);\n",
"end\n",
"gcs=(g+g2)/2        //Conjugate-Symmetric part\n",
"disp(gcs,'The Conjugate symmetric part is =');\n",
"gcas=(g-g2)/2;      //Conjugate-Antisymmetric part\n",
"disp(gcas,'The Conjugate antisymmetric part is =');"
   ]
   }
,
{
		   "cell_type": "markdown",
		   "metadata": {},
		   "source": [
			"## Example 2.6: Energy_Signal.sce"
		   ]
		  },
  {
"cell_type": "code",
	   "execution_count": null,
	   "metadata": {
	    "collapsed": true
	   },
	   "outputs": [],
"source": [
"//EXAMPLE 2.6, Energy Signal \n",
"clear ;\n",
"clc ;\n",
"n = -5:5;\n",
"for i =1:length ( n )\n",
" if(n(i)>=1)\n",
" h(i)=1/n(i);\n",
" else\n",
" h(i)=0;\n",
" end\n",
"end\n",
"Sum=0;\n",
"N=1:10000;\n",
"  for i=1:length(N)\n",
"  h(i)=(1/N(i))^2;\n",
"  end \n",
"Energy = sum(h);\n",
" if (Energy<%inf ) then\n",
"  disp ('Energy Signal') ;\n",
"  disp(Energy,'Energy of signal = ');\n",
"  else\n",
"  if  (Energy/length(N)<%inf ) then\n",
"  disp ('Power Signal') ;\n",
"     \n",
"  else\n",
"  disp ('Niether Energy nor Power Signal') ;   \n",
"  end\n",
" end"
   ]
   }
,
{
		   "cell_type": "markdown",
		   "metadata": {},
		   "source": [
			"## Example 2.7: Power_Signal.sce"
		   ]
		  },
  {
"cell_type": "code",
	   "execution_count": null,
	   "metadata": {
	    "collapsed": true
	   },
	   "outputs": [],
"source": [
"//EXAMPLE 2.7,Example of Power signal\n",
"clear ;\n",
"clc ;\n",
"Sum=0;\n",
"N=1:10000;\n",
"    for i=1:length(N)\n",
"     h1= 3*((-1)^i);\n",
"     h=h1^2;\n",
"    end\n",
"Energy = sum(h);\n",
"  if  (Energy/(2*(length(N))+1)<%inf ) then\n",
"  disp ('Power Signal') ;\n",
"  disp(Energy/2,'Power Signal = ');\n",
"  else\n",
"  disp ('Not a Power Signal') ;   \n",
"  end"
   ]
   }
,
{
		   "cell_type": "markdown",
		   "metadata": {},
		   "source": [
			"## Example 2.9: Square_wave_generation.sce"
		   ]
		  },
  {
"cell_type": "code",
	   "execution_count": null,
	   "metadata": {
	    "collapsed": true
	   },
	   "outputs": [],
"source": [
"//EXAMPLE 2.9, Generation of a Square wave sequence:\n",
"clc;\n",
"clear;\n",
"clf();\n",
"a=gca();\n",
"figure(0);\n",
"a.x_location='origin';\n",
"x=[0:1:80];\n",
"y1=sin(x*.05*%pi);\n",
"y2=sin(x*.15*%pi);\n",
"y3=sin(x*.25*%pi);\n",
"y4=y1+y2/3+y3/5;\n",
"plot2d3(x,y4,2)\n",
"plot(x,y4,'r.')\n",
"xtitle('Approximate Square wave','x','y4');\n",
"a.children.children.thickness=3;"
   ]
   }
],
"metadata": {
		  "kernelspec": {
		   "display_name": "Scilab",
		   "language": "scilab",
		   "name": "scilab"
		  },
		  "language_info": {
		   "file_extension": ".sce",
		   "help_links": [
			{
			 "text": "MetaKernel Magics",
			 "url": "https://github.com/calysto/metakernel/blob/master/metakernel/magics/README.md"
			}
		   ],
		   "mimetype": "text/x-octave",
		   "name": "scilab",
		   "version": "0.7.1"
		  }
		 },
		 "nbformat": 4,
		 "nbformat_minor": 0
}
