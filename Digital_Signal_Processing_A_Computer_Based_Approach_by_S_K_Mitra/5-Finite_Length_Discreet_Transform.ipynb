{
"cells": [
 {
		   "cell_type": "markdown",
	   "metadata": {},
	   "source": [
       "# Chapter 5: Finite Length Discreet Transform"
	   ]
	},
{
		   "cell_type": "markdown",
		   "metadata": {},
		   "source": [
			"## Example 5.10: Generating_symmetric_parts.sce"
		   ]
		  },
  {
"cell_type": "code",
	   "execution_count": null,
	   "metadata": {
	    "collapsed": true
	   },
	   "outputs": [],
"source": [
"//EXAMPLE 5_10\n",
"//conjugate symmetric & anti-symmetric parts of complex sequence\n",
"clear;\n",
"clc;\n",
"un=[1+%i*4,-2+%i*3,4-%i*2,-5-%i*6];\n",
"disp(un,'u[n] = ');\n",
"u1=conj(un);\n",
"disp(u1,'u*[n] = ');\n",
"//modulo-4 circularly time reversed version:\n",
"disp(pmodulo(0,4),'u[<-0>4] = ');\n",
"disp(pmodulo(-1,4),'u[<-1>4] = ');\n",
"disp(pmodulo(-2,4),'u[<-2>4] = ');\n",
"disp(pmodulo(-3,4),'u[<-3>4] = ');\n",
"un1=[u1(pmodulo(-0,4)+1),u1(pmodulo(-1,4)+1),u1(pmodulo(-2,4)+1),u1(pmodulo(-3,4)+1)];\n",
"disp(un1,'u*[<-n>4] = ');\n",
"disp(0.5*(un+un1),'ucs[n] = ');\n",
"disp(0.5*(un-un1),'uca[n] = ');"
   ]
   }
,
{
		   "cell_type": "markdown",
		   "metadata": {},
		   "source": [
			"## Example 5.11: Cicular_convolution_computation.sce"
		   ]
		  },
  {
"cell_type": "code",
	   "execution_count": null,
	   "metadata": {
	    "collapsed": true
	   },
	   "outputs": [],
"source": [
"//EXAMPLE 5.11\n",
"//Circular convolution using DFT\n",
"clc;\n",
"clear;\n",
"g = [1 2 0 1];\n",
"disp(g,'g[n] = ');\n",
"h = [2 2 1 1];\n",
"disp(h,'h[n] = ');\n",
"M=4;\n",
"for n=0:M-1\n",
"        for k=0:M-1\n",
"            W(n+1,k+1) = exp(-(%i*2*%pi*k/M)*n);\n",
"        end\n",
"    end\n",
"    G = W*g';\n",
"    H = W*h';\n",
"disp(G,'DFT is, G = ');\n",
"disp(H,'DFT is, H = ');\n",
"Y=G.*H;\n",
"y=(1/4)*conj(W)*(Y);\n",
"disp(real(y),'Circular convolution = ');"
   ]
   }
,
{
		   "cell_type": "markdown",
		   "metadata": {},
		   "source": [
			"## Example 5.12: Linear_Convolution_using_DFT.sce"
		   ]
		  },
  {
"cell_type": "code",
	   "execution_count": null,
	   "metadata": {
	    "collapsed": true
	   },
	   "outputs": [],
"source": [
"//EXAMPLE 5.12\n",
"//Linear convolution using Circular convolution\n",
"clc;\n",
"clear;\n",
"g = [1 2 0 1];\n",
"disp(g,'g[n] = ');\n",
"h = [2 2 1 1];\n",
"disp(h,'h[n] = ');\n",
"//linea convolution length = 4+4-1 = 7 \n",
"//appending the two signals with zeros\n",
"g = [g,zeros(1,3)]\n",
"h = [h,zeros(1,3)]\n",
"G = fft(g,-1);\n",
"H = fft(h,-1);\n",
"Y = G.*H;     //element wise multiplication\n",
"y = fft(Y,1);//IDFT\n",
"//Plotting linear convolution\n",
"n=0:6;\n",
"figure(0);\n",
"clf();\n",
"a = gca();\n",
"a.x_location = 'origin';\n",
"a.y_location = 'origin';\n",
"plot2d3(n,y,2);\n",
"plot(n,y,'r.');\n",
"poly1 = a . children (1) . children (1) ;\n",
"poly1.thickness = 2;\n",
"xtitle('Linear convolution','n','y');\n",
"disp(y,' linear convolution ,y = ');"
   ]
   }
,
{
		   "cell_type": "markdown",
		   "metadata": {},
		   "source": [
			"## Example 5.14: DFT_computationusing_single_DFT.sce"
		   ]
		  },
  {
"cell_type": "code",
	   "execution_count": null,
	   "metadata": {
	    "collapsed": true
	   },
	   "outputs": [],
"source": [
"//EXAMPLE 5.14\n",
"//DFT of two real sequences using one DFT\n",
"clear;\n",
"clc;\n",
"g = [1 2 0 1];\n",
"disp(g,'g[n] = ');\n",
"h = [2 2 1 1];\n",
"disp(h,'h[n] = ');\n",
"x = g + %i.*h;\n",
"disp(x,'x[n] = ');\n",
"X = fft(x,-1);\n",
"disp(X,'The DFT, X[k] = ');\n",
"X1 = conj(X);\n",
"disp(X1,'X*[k] = ');\n",
"for i=0:3;\n",
"    a(i+1)=pmodulo(-i,4);\n",
"    X2(i+1)=X1(a(i+1)+1);\n",
"end\n",
"X3 = conj(X2');\n",
"disp(X3,'X*[<4-k>4] = ');\n",
"disp(0.5*(X + X3),'G[k] = ');\n",
"disp((X - X3)/(2*%i),'H[k] = ');"
   ]
   }
,
{
		   "cell_type": "markdown",
		   "metadata": {},
		   "source": [
			"## Example 5.15: DFT_computationusing_single_DFT_of_shorter_length.sce"
		   ]
		  },
  {
"cell_type": "code",
	   "execution_count": null,
	   "metadata": {
	    "collapsed": true
	   },
	   "outputs": [],
"source": [
"//EXAMPLE 5.15\n",
"//DFT computation using DFT of shorter length sequences\n",
"clc;\n",
"clear;\n",
"v = [1 2 2 2 0 1 1 1];\n",
"disp(v,'Length-8 real sequence v[n] = ')\n",
"for i=1:4\n",
"    g(i)=v(2*i-1);\n",
"    h(i)=v(2*i);\n",
"end\n",
"G = fft(g,-1);\n",
"H = fft(h,-1);\n",
"M=length(v);\n",
"//for n=0:M-1\n",
"        for k=0:M-1\n",
"            W(1,k+1) = exp(-(%i*2*%pi*k/M)*1);\n",
"        end\n",
"//end\n",
"G=[G(1) G(2) G(3) G(4) G(1) G(2) G(3) G(4)] ;\n",
"H=[H(1) H(2) H(3) H(4) H(1) H(2) H(3) H(4)] ;\n",
"V=G + W.*H;\n",
"disp(V,'DFt,V[k] = ');\n",
"//for k = 0:3\n",
"//    V1(k+1) = G(k+1) + (exp(-2*%pi*%i*k/8))*H(k+1);\n",
"//end\n",
"//for k = 4:7\n",
"//    V2(k) = G(k-3) + (exp(-2*%pi*%i*k/8))*H(k-3);\n",
"//end\n",
"//disp([V1,zeros(1,3)]+V2)"
   ]
   }
,
{
		   "cell_type": "markdown",
		   "metadata": {},
		   "source": [
			"## Example 5.1: DFT_computatio.sce"
		   ]
		  },
  {
"cell_type": "code",
	   "execution_count": null,
	   "metadata": {
	    "collapsed": true
	   },
	   "outputs": [],
"source": [
"//EXAMPLE 5.1\n",
"//DETERMINE DFT OF GIVEN SEQUENCE\n",
"clc;\n",
"clear;\n",
"N = input('length of sequence  =  ');\n",
"x = [1,zeros(1,N-1)];\n",
"disp(x,'The sequence is,x = ');\n",
"X = dft(x,0);\n",
"disp(X,'DFT of the sequence is X = ');\n",
"m = input('value of some intemediate (mth) point  =  ');\n",
"y = [zeros(1,m-1),1,zeros(1,N-m)];\n",
"Y = dft(y,0);\n",
"disp(Y,'DFT of the sequence is Y = ');"
   ]
   }
,
{
		   "cell_type": "markdown",
		   "metadata": {},
		   "source": [
			"## Example 5.2: DFT_of_sinusoidal_sequence.sce"
		   ]
		  },
  {
"cell_type": "code",
	   "execution_count": null,
	   "metadata": {
	    "collapsed": true
	   },
	   "outputs": [],
"source": [
"//EXAMPLE 5.2\n",
"//DFT of sinusoidal sequence\n",
"clc;\n",
"clear;\n",
"N = input('   input value of N   ');\n",
"r = input('   input r value   ') ;\n",
"n = 0:N-1;\n",
"x = cos(2*%pi*r*n/N)\n",
"X = dft(x,-1)\n",
"//X exisits only at n={r,N-r} where X = N/2\n",
"clf();\n",
"a=gca();\n",
"a.x_location = 'origin';\n",
"a.y_location = 'origin';\n",
"plot2d3(n,X,2);\n",
"a.thickness=1;\n",
"plot(n,X,'r.');\n",
"xtitle('DFT','K -->','X[K] -->');\n",
"X = disp(X,'DFT of x--> ');"
   ]
   }
,
{
		   "cell_type": "markdown",
		   "metadata": {},
		   "source": [
			"## Example 5.3: DFT_computatio.sce"
		   ]
		  },
  {
"cell_type": "code",
	   "execution_count": null,
	   "metadata": {
	    "collapsed": true
	   },
	   "outputs": [],
"source": [
"//EXAMPLE 5.3\n",
"//DETERMINE DFT OF GIVEN SEQUENCE\n",
"clc;\n",
"clear;\n",
"N = input('length of sequence,N  =  ');\n",
"M = input('M point DFT = ');\n",
"if M > N \n",
"    x = [ones(1,N),zeros(1,M-N)];\n",
"    disp(x,'the sequence is :');\n",
"    for n=0:M-1\n",
"        for k=0:M-1\n",
"            W(n+1,k+1) = exp(-(%i*2*%pi*k/M)*n);\n",
"        end\n",
"    end\n",
"    X = W*x';\n",
"    disp(X,'DFT is, X = ');\n",
"else\n",
"    disp('invalid computation');\n",
"end\n",
"n=0:M-1;\n",
"clf();\n",
"figure(0)\n",
"a = gca();\n",
"plot2d3(n,x,2) //  plotting the sequence\n",
"plot(n,x,'r.');\n",
"a.x_location = 'origin';\n",
"a.y_location = 'origin';\n",
"poly1 = a . children (1) . children (1) ;\n",
"poly1.thickness = 2.5;\n",
"xtitle('original sequence','n','x[n]');\n",
"figure(1)\n",
"a = gca();\n",
"plot2d3(n,abs(X),2)  //  plotting absolute value of DFT of sequence\n",
"plot(n,abs(X),'r.');\n",
"a.x_location = 'origin';\n",
"a.y_location = 'origin';\n",
"poly1 = a . children (1) . children (1) ;\n",
"poly1.thickness = 2.5;\n",
"xtitle('magnitude plot','M','Absolute value');"
   ]
   }
,
{
		   "cell_type": "markdown",
		   "metadata": {},
		   "source": [
			"## Example 5.4: IDFT_Computatio.sce"
		   ]
		  },
  {
"cell_type": "code",
	   "execution_count": null,
	   "metadata": {
	    "collapsed": true
	   },
	   "outputs": [],
"source": [
"//EXAMPLE 5.4\n",
"//DETERMINE IDFT OF GIVEN SEQUENCE\n",
"clc;\n",
"clear;\n",
"K = input('   value of K   ');\n",
"disp('input M > K');\n",
"M = input('   value of M   ');\n",
"k1 = 0:K-1;\n",
"V1 = k1./K;//DFT\n",
"k=0:M-1;\n",
"N = length(V1);\n",
"V = [V1,zeros(1,M-N)];\n",
"v = dft(V,1);//IDFT\n",
"clf();\n",
"subplot(1,2,1)\n",
"a = gca();\n",
"plot2d3(k,real(v),2);\n",
"plot(k,real(v),'r.');\n",
"a.x_location = 'origin';\n",
"a.y_location = 'origin';\n",
"poly1 = a . children (1) . children (1) ;\n",
"poly1.thickness = 2;\n",
"xtitle('real part','N','v');\n",
"subplot(1,2,2)\n",
"a = gca();\n",
"plot2d3(k,imag(v),2)\n",
"plot(k,imag(v),'r.');\n",
"a.x_location = 'origin';\n",
"a.y_location = 'origin';\n",
"poly1 = a . children (1) . children (1) ;\n",
"poly1.thickness = 2;\n",
"xtitle('imaginary part','N','v');\n",
"v = disp(v);"
   ]
   }
,
{
		   "cell_type": "markdown",
		   "metadata": {},
		   "source": [
			"## Example 5.5: DFT_computatio.sce"
		   ]
		  },
  {
"cell_type": "code",
	   "execution_count": null,
	   "metadata": {
	    "collapsed": true
	   },
	   "outputs": [],
"source": [
"//EXAMPLE 5.5\n",
"//DFT computation\n",
"clc;\n",
"clear;\n",
"N = 16 ;\n",
"r = 3 ;\n",
"n = 0:N-1;\n",
"x = cos(2*%pi*r*n/N)\n",
"X = fft(x,-1)//DFT of the sequence\n",
"clf();\n",
"a = gca();\n",
"plot2d3(n,X,2);\n",
"plot(n,X,'r.')\n",
"a.x_location = 'origin';\n",
"a.y_location = 'origin';\n",
"poly1 = a . children (1) . children (1) ;\n",
"poly1.thickness = 3;\n",
"xtitle('DFT','k','X');\n",
"X = disp(real(X),'  X = ');"
   ]
   }
,
{
		   "cell_type": "markdown",
		   "metadata": {},
		   "source": [
			"## Example 5.7: Cicular_convolution_computation.sce"
		   ]
		  },
  {
"cell_type": "code",
	   "execution_count": null,
	   "metadata": {
	    "collapsed": true
	   },
	   "outputs": [],
"source": [
"//EXAMPLE 5.7\n",
"//Circular convolution\n",
"clear;\n",
"clc;\n",
"g = [1 2 0 1];\n",
"disp(g,'g[n] = ');\n",
"h = [2 2 1 1];\n",
"disp(h,'h[n] = ');\n",
"G = fft(g,-1);\n",
"H = fft(h,-1);\n",
"Y = G.*H;\n",
"yc = fft(Y,1);\n",
"n1 = 0:length(yc)-1;\n",
"yl = convol(g,h);\n",
"n2 = 0:length(yl)-1;\n",
"clf();\n",
"subplot(2,1,1)\n",
"a = gca();\n",
"plot2d3(n1,yc,2);\n",
"plot(n1,yc,'r.');\n",
"a.x_location = 'origin';\n",
"a.y_location = 'origin';\n",
"poly1 = a . children (1) . children (1) ;\n",
"poly1.thickness = 3;\n",
"xtitle('circular convolution','n','yc');\n",
"subplot(2,1,2)\n",
"a = gca();\n",
"plot2d3(n2,yl,2);\n",
"plot(n2,yl,'r.');\n",
"a.x_location = 'origin';\n",
"a.y_location = 'origin';\n",
"poly1 = a . children (1) . children (1) ;\n",
"poly1.thickness = 3;\n",
"xtitle('linear convolution','n','yl');\n",
"disp(real(yc),'  circular convolution,yc = ');\n",
"disp(yl,'  linear convolution,yl = ');"
   ]
   }
,
{
		   "cell_type": "markdown",
		   "metadata": {},
		   "source": [
			"## Example 5.8: Cicular_convolution_computation.sce"
		   ]
		  },
  {
"cell_type": "code",
	   "execution_count": null,
	   "metadata": {
	    "collapsed": true
	   },
	   "outputs": [],
"source": [
"//EXAMPLE 5.8\n",
"//Cicular convolution\n",
"clc;\n",
"clear;\n",
"g = [1 2 0 1];\n",
"disp(g,'g[n] = ');\n",
"h = [2 2 1 1];\n",
"disp(h,'h[n] = ');\n",
"G = fft(g,-1);\n",
"H = fft(h,-1);\n",
"Y = G.*H;\n",
"yc = fft(Y,1);//IDFT of Y\n",
"disp(yc,'circular convolution,yc = ')\n",
"n=0:3;\n",
"clf();\n",
"figure(0);\n",
"a = gca();\n",
"plot2d3(n,yc,2);\n",
"plot(n,yc,'r.');\n",
"a.x_location = 'origin';\n",
"a.y_location = 'origin';\n",
"poly1 = a . children (1) . children (1) ;\n",
"poly1.thickness = 3;\n",
"xtitle('Circular convolution','n','yc');"
   ]
   }
],
"metadata": {
		  "kernelspec": {
		   "display_name": "Scilab",
		   "language": "scilab",
		   "name": "scilab"
		  },
		  "language_info": {
		   "file_extension": ".sce",
		   "help_links": [
			{
			 "text": "MetaKernel Magics",
			 "url": "https://github.com/calysto/metakernel/blob/master/metakernel/magics/README.md"
			}
		   ],
		   "mimetype": "text/x-octave",
		   "name": "scilab",
		   "version": "0.7.1"
		  }
		 },
		 "nbformat": 4,
		 "nbformat_minor": 0
}
