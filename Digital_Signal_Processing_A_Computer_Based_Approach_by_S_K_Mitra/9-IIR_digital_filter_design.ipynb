{
"cells": [
 {
		   "cell_type": "markdown",
	   "metadata": {},
	   "source": [
       "# Chapter 9: IIR digital filter design"
	   ]
	},
{
		   "cell_type": "markdown",
		   "metadata": {},
		   "source": [
			"## Example 9.12: Minimum_order_of_Type_2_Chebyshev_HP_IIR_digital_filter.sce"
		   ]
		  },
  {
"cell_type": "code",
	   "execution_count": null,
	   "metadata": {
	    "collapsed": true
	   },
	   "outputs": [],
"source": [
"//EXAMPLE 9.12\n",
"//Minimum order of type-2 Chebyshev highpass digital filter\n",
"clc;\n",
"clear;\n",
"ap = 1 //dB\n",
"as = 40 //dB\n",
"Fp = 1000 //Hz\n",
"Fs = 600 //Hz\n",
"Wp = Fp*2*%pi;\n",
"Ws = Fs*2*%pi;\n",
"F = 4000//Hz\n",
"T=1/F;\n",
"Ap=(2/T)*(tan(Wp*T/2))\n",
"As=(2/T)*(tan(Ws*T/2))\n",
"k  = Ap/As;\n",
"disp(1/k,'1/k = ');\n",
"k1 = 1/(sqrt(((10^(0.1* as))-1)/((10^(0.1*ap))-1)));\n",
"disp(1/k1,'1/k1 = ');\n",
"N = acosh(1/k1)/acosh(k);//order of the filter\n",
"disp(N,'N = ');\n",
"disp('Since order of the filter is always an integer, ');\n",
"disp(ceil(N),'Order of the filter is, N = ');"
   ]
   }
,
{
		   "cell_type": "markdown",
		   "metadata": {},
		   "source": [
			"## Example 9.1: Computating_ripple_values.sce"
		   ]
		  },
  {
"cell_type": "code",
	   "execution_count": null,
	   "metadata": {
	    "collapsed": true
	   },
	   "outputs": [],
"source": [
"//EXAMPLE 9.1\n",
"//pass band & stop band ripple\n",
"clc;\n",
"clear;\n",
"ap=0.1;//peak passband ripple in dB\n",
"as=35;//min. stopband attenuation in dB\n",
"//calculation of peak ripple values\n",
"dp=1-10^-(ap/20);\n",
"disp(dp,'dp = ');\n",
"ds=10^-(as/20);\n",
"disp(ds,'ds = ');"
   ]
   }
,
{
		   "cell_type": "markdown",
		   "metadata": {},
		   "source": [
			"## Example 9.2: conversion_of_bandedged_frequencies_to_Normalized_digital_frequencies.sce"
		   ]
		  },
  {
"cell_type": "code",
	   "execution_count": null,
	   "metadata": {
	    "collapsed": true
	   },
	   "outputs": [],
"source": [
"//EXAMPLE 9.2\n",
"//analog passband & stopband frequencies(in KHz) :\n",
"clc;\n",
"clear;\n",
"ap=7;\n",
"as=3;\n",
"//Sampling frequency (in KHz):\n",
"FT=25;\n",
"//digital frequencies:\n",
"wp=2*%pi*ap/FT;\n",
"disp(wp,'wp = ');\n",
"ws=2*%pi*as/FT;\n",
"disp(ws,'ws = ');"
   ]
   }
,
{
		   "cell_type": "markdown",
		   "metadata": {},
		   "source": [
			"## Example 9.3: Design_of_HP_Digital_Filter.sce"
		   ]
		  },
  {
"cell_type": "code",
	   "execution_count": null,
	   "metadata": {
	    "collapsed": true
	   },
	   "outputs": [],
"source": [
"//Example 9.3\n",
"//Design of HP IIR filter\n",
"clc;\n",
"clear;\n",
"Fp=700//Hz\n",
"Fs=500//Hz\n",
"ap=1//dB\n",
"as=32//dB\n",
"FT=2000//Hz\n",
"//normalized angular edge frequencies in rad/sec\n",
"wp=2*%pi*Fp/FT;\n",
"ws=2*%pi*Fs/FT;\n",
"//prewarp the digital edge frequencies\n",
"Ap1=tan(wp/2);\n",
"As1=tan(ws/2);\n",
"Ap=1;//assuming \n",
"As=(2*%pi*Ap1)*Ap/(2*%pi*As1);\n",
"disp(As,'As = ')\n",
"//Order 'N' of the filter\n",
"k  = Ap/As;\n",
"disp(1/k,'1/k = ');\n",
"k1 = 1/(sqrt(((10^(0.1* as))-1)/((10^(0.1*ap))-1)));\n",
"disp(1/k1,'1/k1 = ');\n",
"N = ceil(acosh(1/k1)/acosh(1/k));\n",
"disp(N,'N = ');\n",
"disp(N,'Order of the filter is, N = ');\n",
"e=sqrt(10^(0.1*ap)-1);\n",
"u=1/e + sqrt(1+(1/(e*e)));\n",
"a=Ap*(u^(1/N) - u^(-1/N))/2;\n",
"b=Ap*(u^(1/N) + u^(-1/N))/2;\n",
"for i=1:N\n",
"    phi(i)= %pi/2 + (2*i -1)*(%pi)/(2*N);\n",
"    p(i)=a*cos(phi(i)) + %i*b*sin(phi(i));\n",
"end\n",
"s=%s;\n",
"z=%z;\n",
"H1=1;\n",
"//Numerator of H(s)\n",
"for i=1:N\n",
"    H1=H1*(s + p(i))\n",
"end\n",
"//Denominator of H(s)\n",
"H2=horner(H1,0);\n",
"//Transfer function\n",
"H=H2/H1;\n",
"disp(H,'H = ')\n",
"//Bilnear Transformaation, s=((z-1/(z+1));\n",
"Hz=horner(H,(z-1)/(z+1));\n",
"disp(Hz,'The digital HP filter is Hz = ');"
   ]
   }
,
{
		   "cell_type": "markdown",
		   "metadata": {},
		   "source": [
			"## Example 9.6: Changing_passband_edge_frequencies_to_LP_IIR_digital_frequencies.sce"
		   ]
		  },
  {
"cell_type": "code",
	   "execution_count": null,
	   "metadata": {
	    "collapsed": true
	   },
	   "outputs": [],
"source": [
"//EXAMPLE 9.6\n",
"//LP TO LP Transformation\n",
"clc;\n",
"clear;\n",
"z=%z;\n",
"w=0:0.001*%pi:%pi;\n",
"Glz=(0.0662272*(1+1/z)^3)/((1-0.2593284/z)*(1-0.6762858/z+0.3917468/(z^2)))\n",
"wc=0.25*%pi;//Oringinal passband edge\n",
"Wc=0.35*%pi;//Required passband edge\n",
"l=sin((wc-Wc)/2)/sin((wc+Wc)/2)\n",
"disp(l,'lambda = ');\n",
"Gdz=horner(Glz,((1-l/z)/(1/z-l)));\n",
"disp(Gdz,'The transfer function is Gdz = ');"
   ]
   }
,
{
		   "cell_type": "markdown",
		   "metadata": {},
		   "source": [
			"## Example 9.7: Design_of_HP_IIR_Digital_Filter_from_LP_Digital_Filter.sce"
		   ]
		  },
  {
"cell_type": "code",
	   "execution_count": null,
	   "metadata": {
	    "collapsed": true
	   },
	   "outputs": [],
"source": [
"//EXAMPLE 9.7\n",
"//LP TO HP Transformation\n",
"clc;\n",
"clear;\n",
"z=%z;\n",
"Glz=(0.0662272*(1+1/z)^3)/((1-0.2593284/z)*(1-0.6762858/z+0.3917468/(z^2)));\n",
"wc=0.25*%pi;//Oringinal passband edge\n",
"Wc=0.55*%pi;//Required passband edge\n",
"l=-cos((wc+Wc)/2)/cos((wc-Wc)/2);\n",
"disp(l,'lambda = ');\n",
"w=0:0.001:1;\n",
"Ghz=horner(Glz,-((z + l)/(1 +l*z)));//LP TO HP Transformation formula\n",
"den=factors(denom(Ghz));\n",
"disp(Ghz,'The transfer function is Gdz = ');\n",
"disp(den,'the facors of the denominator are = ');"
   ]
   }
],
"metadata": {
		  "kernelspec": {
		   "display_name": "Scilab",
		   "language": "scilab",
		   "name": "scilab"
		  },
		  "language_info": {
		   "file_extension": ".sce",
		   "help_links": [
			{
			 "text": "MetaKernel Magics",
			 "url": "https://github.com/calysto/metakernel/blob/master/metakernel/magics/README.md"
			}
		   ],
		   "mimetype": "text/x-octave",
		   "name": "scilab",
		   "version": "0.7.1"
		  }
		 },
		 "nbformat": 4,
		 "nbformat_minor": 0
}
