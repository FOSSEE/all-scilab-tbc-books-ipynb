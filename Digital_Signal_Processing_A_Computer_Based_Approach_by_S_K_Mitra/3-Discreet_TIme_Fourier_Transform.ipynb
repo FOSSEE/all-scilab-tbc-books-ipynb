{
"cells": [
 {
		   "cell_type": "markdown",
	   "metadata": {},
	   "source": [
       "# Chapter 3: Discreet TIme Fourier Transform"
	   ]
	},
{
		   "cell_type": "markdown",
		   "metadata": {},
		   "source": [
			"## Example 3.10: DTFT_of_finite_length_exponential_sequence.sce"
		   ]
		  },
  {
"cell_type": "code",
	   "execution_count": null,
	   "metadata": {
	    "collapsed": true
	   },
	   "outputs": [],
"source": [
"//EXAMPLE 3.10\n",
"// DTFT of a sequence\n",
"clc;\n",
"clear;\n",
"syms a n M w;\n",
"x=a^n;\n",
"X=nusum(x*(exp(-%i*w*n)),n,0,M-1)\n",
"disp(limit(X),'The DTFT of the given sequence, X = ')"
   ]
   }
,
{
		   "cell_type": "markdown",
		   "metadata": {},
		   "source": [
			"## Example 3.12: Plotting_DTFT_of_exponential_sequence.sce"
		   ]
		  },
  {
"cell_type": "code",
	   "execution_count": null,
	   "metadata": {
	    "collapsed": true
	   },
	   "outputs": [],
"source": [
"//EXAMPLE 3.12\n",
"//x[n]=((-1)^n)*(a^n)*u[n].....given a=0.5;\n",
"clc;\n",
"clear;\n",
"a=0.5;\n",
"n=0:9;\n",
"for i = 0:9\n",
"    x(i+1) = (a*exp(-%i*%pi))^i;\n",
"end\n",
"//The DTFT of the sequence\n",
"K = 4;\n",
"k = 0:4/1000:4;\n",
"W = k*6*%pi/K;\n",
"X = (x')*exp(%i*n'*W);\n",
"X_mag   = abs(X);\n",
"X_phase = phasemag(X);\n",
"//PLOTTING GRAPHS FOR THE INTERVAL OF 0 TO 6*%pi\n",
"clf();\n",
"a=gca();\n",
"figure(0);\n",
"plot2d3(mtlb_fliplr(W),X_mag);\n",
"xtitle('Magnitude response','W','Amplitude');\n",
"figure(1);\n",
"plot2d3(mtlb_fliplr(W),X_phase);\n",
"xtitle('Phase response','W','X_phase,degrees');"
   ]
   }
,
{
		   "cell_type": "markdown",
		   "metadata": {},
		   "source": [
			"## Example 3.13: DTFT_computatio.sce"
		   ]
		  },
  {
"cell_type": "code",
	   "execution_count": null,
	   "metadata": {
	    "collapsed": true
	   },
	   "outputs": [],
"source": [
"//EXAMPLE 3.13\n",
"clc;\n",
"clear;\n",
"a=0.5;\n",
"n=0:9;\n",
"for i = 0:9\n",
"    x(i+1) = a^i; \n",
"end\n",
"//The DTFT of the sequence\n",
"K  = 4;\n",
"k  = 0:4/1000:4;\n",
"W  = k*6*%pi/K;\n",
"X1 = (x')*exp(%i*n'*W);\n",
"X  = %i*diff(X1);\n",
"X  = [X,0] + X1;\n",
"X_mag   = abs(X);\n",
"[X_phase,db] = phasemag(X);\n",
"clf();\n",
"a=gca();\n",
"figure(0);\n",
"plot2d3(mtlb_fliplr(W),X_mag);\n",
"xtitle('Magnitude response','W','X_mag');\n",
"figure(1);\n",
"plot2d3(mtlb_fliplr(W),X_phase);\n",
"xtitle('Phase response','W','X_phase');"
   ]
   }
,
{
		   "cell_type": "markdown",
		   "metadata": {},
		   "source": [
			"## Example 3.14: Energy_of_signal.sce"
		   ]
		  },
  {
"cell_type": "code",
	   "execution_count": null,
	   "metadata": {
	    "collapsed": true
	   },
	   "outputs": [],
"source": [
"//EXAMPLE 3.14\n",
"//ENERGY OF LP DISCREET TIME SIGNAL\n",
"//PROGRAM REQUIRES MAXIMA SCILAB TOOLBOX\n",
"clc;\n",
"clear;\n",
"syms n wc w;\n",
" wc = input('the value of wc ( less than %pi)= ');\n",
"n = -5:0.05:5;\n",
"for i =0:length (n)\n",
"    hlp(i+1) = (wc/%pi)*sinc((wc*i)/%pi);\n",
"    E(i+1)=(abs(hlp(i+1)))^2;\n",
"end\n",
"Energy = sum(E);\n",
" if (Energy<%inf ) then\n",
"  disp ('The filter is Energy Signal') ;\n",
"  else\n",
"  if  (Energy/length(N)<%inf ) then\n",
"  disp ('Power Signal') ;\n",
"  else\n",
"  disp ('Niether Energy nor Power Signal') ;   \n",
"  end\n",
" end\n",
"disp(Energy,'the energy is = '); "
   ]
   }
,
{
		   "cell_type": "markdown",
		   "metadata": {},
		   "source": [
			"## Example 3.15: Energy_of_exponential_sequence.sce"
		   ]
		  },
  {
"cell_type": "code",
	   "execution_count": null,
	   "metadata": {
	    "collapsed": true
	   },
	   "outputs": [],
"source": [
"//EXAMPLE 3.15\n",
"//ENERGY OF A SIGNAL x[n]=a^n*u[n]\n",
"clc;\n",
"clear;\n",
"a=0.5;\n",
"n=0:0.1:9.9;\n",
"//x[n]=a^n*u[n]\n",
"for i = 0:length(n)\n",
"    x(i+1) = a^i;\n",
"    E=(abs(x))^2; \n",
"end\n",
"Energy=sum(E);\n",
"disp(Energy,'Energy of the signal = ');"
   ]
   }
,
{
		   "cell_type": "markdown",
		   "metadata": {},
		   "source": [
			"## Example 3.5: DTFT_computatio.sce"
		   ]
		  },
  {
"cell_type": "code",
	   "execution_count": null,
	   "metadata": {
	    "collapsed": true
	   },
	   "outputs": [],
"source": [
"//EXAMPLE 3.5\n",
"//DTFT of unit sample sequence\n",
"clc;\n",
"clear;\n",
"//a=0.5;\n",
"n=0:9;\n",
"x = [1,zeros(1,9)];\n",
"disp(x,'x[n] = ')\n",
"K = 4;\n",
"k = 0:4/1000:4;\n",
"W = k*2*%pi/K;\n",
"X = (x)*exp(%i*n'*W);\n",
"disp(X,'DTFT,x[n] --> ')\n",
"X_mag   = abs(X);\n",
"X_phase = phasemag(X);//no phase exists\n",
"figure(0);\n",
"plot2d3(mtlb_fliplr(W),X_mag);\n",
"xtitle('Magnitude plot','W --->','X_mag --->');\n",
"figure(1);\n",
"plot2d3(mtlb_fliplr(W),X_phase);\n",
"xtitle(' zero phase plot','W --->','X_phase --->');"
   ]
   }
,
{
		   "cell_type": "markdown",
		   "metadata": {},
		   "source": [
			"## Example 3.6: DTFT_computatio.sce"
		   ]
		  },
  {
"cell_type": "code",
	   "execution_count": null,
	   "metadata": {
	    "collapsed": true
	   },
	   "outputs": [],
"source": [
"//EXAMPLE 3.6\n",
"//Determine DTFT of sequence\n",
"//PROGRAM REQUIRES MAXIMA SCILAB TOOLBOX\n",
"clc;\n",
"clear;\n",
"//Symbolic calculation\n",
"Syms n w a ;\n",
"x1=(a^n)*exp(-%i*n*w);\n",
"X1=nusum(x1,n,0,%inf);\n",
"disp(X1,'DFT,X = ');\n",
"//Given:\n",
"a=0.5;\n",
"n=0:9;\n",
"//x[n]=a^n*u[n]\n",
"for i = 0:9\n",
"    x(i+1) = a^i; \n",
"end\n",
"//The DTFT of the sequence\n",
"K = 4;\n",
"k = 0:4/1000:4;\n",
"W = k*6*%pi/K;\n",
"X = (x')*exp(%i*n'*W);\n",
"X_mag   = abs(X);\n",
"[X_phase,db] = phasemag(X);\n",
"clf();\n",
"a=gca();\n",
"figure(0);\n",
"//Note %pi ~ 3.14\n",
"plot2d3(mtlb_fliplr(W),X_mag);\n",
"xtitle('Magnitude response','W --->','Amplitude --->');\n",
"figure(1);\n",
"plot2d3(mtlb_fliplr(W),X_phase);\n",
"xtitle('Phase response','W --->','Phase in degrees --->');"
   ]
   }
,
{
		   "cell_type": "markdown",
		   "metadata": {},
		   "source": [
			"## Example 3.7: Plotting_real_and_imaginary_part.sce"
		   ]
		  },
  {
"cell_type": "code",
	   "execution_count": null,
	   "metadata": {
	    "collapsed": true
	   },
	   "outputs": [],
"source": [
"//EXAMPLE 3.12\n",
"//x[n]=((-1)^n)*(a^n)*u[n].....given a=0.5;\n",
"clc;\n",
"clear;\n",
"a=0.5;\n",
"n=0:9;\n",
"for i = 0:9\n",
"    x(i+1) = (a*exp(-%i*%pi))^i;\n",
"end\n",
"//The DTFT of the sequence\n",
"K = 4;\n",
"k = 0:4/1000:4;\n",
"W = k*6*%pi/K;\n",
"X = (x')*exp(%i*n'*W);\n",
"X_mag   = abs(X);\n",
"X_phase = phasemag(X);\n",
"//PLOTTING GRAPHS FOR THE INTERVAL OF 0 TO 6*%pi\n",
"clf();\n",
"a=gca();\n",
"figure(0);\n",
"plot2d3(mtlb_fliplr(W),X_mag);\n",
"xtitle('Magnitude response','W','Amplitude');\n",
"figure(1);\n",
"plot2d3(mtlb_fliplr(W),X_phase);\n",
"xtitle('Phase response','W','X_phase,degrees');"
   ]
   }
],
"metadata": {
		  "kernelspec": {
		   "display_name": "Scilab",
		   "language": "scilab",
		   "name": "scilab"
		  },
		  "language_info": {
		   "file_extension": ".sce",
		   "help_links": [
			{
			 "text": "MetaKernel Magics",
			 "url": "https://github.com/calysto/metakernel/blob/master/metakernel/magics/README.md"
			}
		   ],
		   "mimetype": "text/x-octave",
		   "name": "scilab",
		   "version": "0.7.1"
		  }
		 },
		 "nbformat": 4,
		 "nbformat_minor": 0
}
