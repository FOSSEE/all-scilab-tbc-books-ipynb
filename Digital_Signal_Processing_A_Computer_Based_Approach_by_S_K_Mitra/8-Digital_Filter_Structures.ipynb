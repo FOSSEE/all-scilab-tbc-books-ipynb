{
"cells": [
 {
		   "cell_type": "markdown",
	   "metadata": {},
	   "source": [
       "# Chapter 8: Digital Filter Structures"
	   ]
	},
{
		   "cell_type": "markdown",
		   "metadata": {},
		   "source": [
			"## Example 8.10: Cascaded_lattice_realization_of_IIR_digital_Transfer_Function.sce"
		   ]
		  },
  {
"cell_type": "code",
	   "execution_count": null,
	   "metadata": {
	    "collapsed": true
	   },
	   "outputs": [],
"source": [
"//Example 8.10\n",
"//Cascaded lattice realization of IIR Transfer Function\n",
"clear;\n",
"clc;\n",
"z=%z;\n",
"P3z= -0.2 + 0.18/z + 0.4/(z^2) + 1/(z^3);\n",
"D3z=  1 + 0.4/z + 0.18/(z^2) - 0.2/(z^3);\n",
"A3z=P3z/D3z;\n",
"p1=coeff(numer(P3z));\n",
"p=mtlb_fliplr(p1);\n",
"disp(mtlb_fliplr(p),'The coefficients ofnumerator are = ');\n",
"d1=coeff(numer(D3z-1));\n",
"d=mtlb_fliplr(d1)\n",
"disp((d),'The coefficients ofnumerator are = ');\n",
"d1_1dash=(d(1)-d(3)*d(2))/(1-d(3)*d(3));\n",
"disp(d1_1dash,'d1_1dash = ');\n",
"d2_1dash=(d(2)-d(3)*d(1))/(1-d(3)*d(3));\n",
"disp(d2_1dash,'d2_1dash  ');\n",
"d1_2dash=(d1_1dash)/(1+d2_1dash);\n",
"disp(d1_2dash,'d1_2dash = ');\n",
"A1z=(d1_2dash + 1/z)/(1 + d1_2dash/z);\n",
"disp(A1z,'A1z = ');\n",
"A2z=(d2_1dash + d1_1dash*1/z + 1/z^2)/(1 + d1_1dash/z - d2_1dash/z^2);\n",
"disp(A2z,'A2z = ');"
   ]
   }
,
{
		   "cell_type": "markdown",
		   "metadata": {},
		   "source": [
			"## Example 8.12: Gray_Markel_method_of_realizatio.sce"
		   ]
		  },
  {
"cell_type": "code",
	   "execution_count": null,
	   "metadata": {
	    "collapsed": true
	   },
	   "outputs": [],
"source": [
"//Example 8.12\n",
"//Gray Markel method of Realisation\n",
"clear;\n",
"clc;\n",
"z=%z;\n",
"P3z= 0 + 0.44/z + 0.362/(z^2) +0.02/(z^3);\n",
"D3z= 0.4/z + 0.18/(z^2) - .2/(z^3);\n",
"Hz=P3z/D3z;\n",
"p1=coeff(numer(P3z));\n",
"p=mtlb_fliplr(p1)\n",
"disp(mtlb_fliplr(p),'The coefficients ofnumerator are = ');\n",
"d1=coeff(numer(D3z));\n",
"d=mtlb_fliplr(d1)\n",
"disp(mtlb_fliplr(d),'The coefficients ofnumerator are = ');\n",
"d1_1dash=(d(1)-d(3)*d(2))/(1-d(3)*d(3));\n",
"disp(d1_1dash,'d1_1dash = ');\n",
"d2_1dash=(d(2)-d(3)*d(1))/(1-d(3)*d(3));\n",
"disp(d2_1dash,'d2_1dash  ');\n",
"d1_2dash=(d1_1dash)/(1+d2_1dash);\n",
"disp(d1_2dash,'d1_2dash = ');\n",
"a1=p(3);\n",
"disp(p(3),'a1 = ');\n",
"a2=p(2)-a1*d(1);\n",
"disp(p(2)-a1*d(1),'a2 = ');\n",
"a3=p(1)-a1*d(2)-a2*d1_1dash;\n",
"disp(p(1)-a1*d(2)-a2*d1_1dash,'a3 = ');\n",
"disp(0-a1*d(3)-a3*d1_2dash-a2*d2_1dash,'a4 = ');"
   ]
   }
,
{
		   "cell_type": "markdown",
		   "metadata": {},
		   "source": [
			"## Example 8.18: Cascaded_lattice_realizatio.sce"
		   ]
		  },
  {
"cell_type": "code",
	   "execution_count": null,
	   "metadata": {
	    "collapsed": true
	   },
	   "outputs": [],
"source": [
"//Example 8.18\n",
"//Cascaded lattice realization of Power-symmetric FIR Transfer Function\n",
"clear;\n",
"clc;\n",
"z=%z;\n",
"H5z=(1 + 0.3/z + 0.2/z^2 - 0.376/z^3 - 0.06/z^4 + 0.2/z^5);\n",
"disp(H5z,'FIR filter = ');\n",
"G5=horner(H5z,-1/z);\n",
"G5z=G5/z^5;\n",
"disp(G5z,'FIR filter = ');\n",
"k5=0.2;\n",
"H3z=(1/(1+k5^2))*(H5z - k5*G5z);\n",
"disp(H3z,'Synthesis eqn,H3z = ');\n",
"G3z=(1/(1+k5^2))*(k5*H5z + G5z);\n",
"disp(G3z,'Synthesis eqn,G3z = ');\n",
"k=coeff(numer(G3z));\n",
"disp(k(4),'k3 = ');\n",
"disp(k(2),'k1 = ');"
   ]
   }
,
{
		   "cell_type": "markdown",
		   "metadata": {},
		   "source": [
			"## Example 8.1: Analysis_of_Cascaded_lattice_digital_filter_structure.sce"
		   ]
		  },
  {
"cell_type": "code",
	   "execution_count": null,
	   "metadata": {
	    "collapsed": true
	   },
	   "outputs": [],
"source": [
"//EXAMPLE 8.1\n",
"//MAXIMA SCILAB TOOLBOX REQUIRED FOR THIS EXAMPLE\n",
"//Digital filter structure\n",
"clear;\n",
"clc;\n",
"syms W1 W2 W3 X Y a d B y E z;\n",
"//Equations obtained are as follows:\n",
"W1 = X - a*W3/z;\n",
"W2 = W1 - d*W2/z;\n",
"W3 = W2/z + E*W2;\n",
"Y  = B*W1 +y*W3/z;\n",
"//Solving the above equations:\n",
"Hz=(B + (B*d+y*E)/z + y/(z^2))/(1 + (d+a*E)/z + a/(z^2))\n",
"disp(Hz,'Hz = ');"
   ]
   }
,
{
		   "cell_type": "markdown",
		   "metadata": {},
		   "source": [
			"## Example 8.6: Factorization_of_FIR_Transfer_Function.sce"
		   ]
		  },
  {
"cell_type": "code",
	   "execution_count": null,
	   "metadata": {
	    "collapsed": true
	   },
	   "outputs": [],
"source": [
"//Example 8.6\n",
"//Factorization of FIR Transfer Function\n",
"clear;\n",
"clc;\n",
"z=%z;\n",
"Hz=50.4+28.02/z+13.89/z^2+7.42/z^3+6.09/z^4+3/z^5+1/z^6;\n",
"disp(factors(numer(Hz)),'The Factors of the FIR Transfer Function are = ');"
   ]
   }
,
{
		   "cell_type": "markdown",
		   "metadata": {},
		   "source": [
			"## Example 8.7: Factorization_of_IIR_Transfer_Function.sce"
		   ]
		  },
  {
"cell_type": "code",
	   "execution_count": null,
	   "metadata": {
	    "collapsed": true
	   },
	   "outputs": [],
"source": [
"//Example 8.7\n",
"//Factorization of IIR Transfer Function\n",
"clear;\n",
"clc;\n",
"z=%z;\n",
"//Numerator of the transfer function\n",
"Numz=6+17.1/z+33.05/z^2+24.72/z^3+19.908/z^4-5.292/z^5+18.144/z^6;\n",
"//Denominator of the transfer function\n",
"Denz=1+2.2/z+2.56/z^2+1.372/z^3+0.118/z^4-0.332/z^5-0.168/z^6;\n",
"Fn=factors(numer(Numz));\n",
"disp(Fn,'Factors of the numerator of the Transfer Function = ');\n",
"Fd=factors(numer(Denz));\n",
"disp(Fd,'Factors of the denominator of the Transfer Function = ');"
   ]
   }
],
"metadata": {
		  "kernelspec": {
		   "display_name": "Scilab",
		   "language": "scilab",
		   "name": "scilab"
		  },
		  "language_info": {
		   "file_extension": ".sce",
		   "help_links": [
			{
			 "text": "MetaKernel Magics",
			 "url": "https://github.com/calysto/metakernel/blob/master/metakernel/magics/README.md"
			}
		   ],
		   "mimetype": "text/x-octave",
		   "name": "scilab",
		   "version": "0.7.1"
		  }
		 },
		 "nbformat": 4,
		 "nbformat_minor": 0
}
