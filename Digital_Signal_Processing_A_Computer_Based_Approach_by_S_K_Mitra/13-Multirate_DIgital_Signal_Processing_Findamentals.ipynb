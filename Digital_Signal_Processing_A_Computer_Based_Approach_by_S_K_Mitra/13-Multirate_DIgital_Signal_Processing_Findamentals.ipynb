{
"cells": [
 {
		   "cell_type": "markdown",
	   "metadata": {},
	   "source": [
       "# Chapter 13: Multirate DIgital Signal Processing Findamentals"
	   ]
	},
{
		   "cell_type": "markdown",
		   "metadata": {},
		   "source": [
			"## Example 13.1: Up_sampling_operation.sce"
		   ]
		  },
  {
"cell_type": "code",
	   "execution_count": null,
	   "metadata": {
	    "collapsed": true
	   },
	   "outputs": [],
"source": [
"//Example 13.1\n",
"//Upsampling Operation\n",
"clear;\n",
"clc;\n",
"clf();\n",
"a=gca();\n",
"figure(0);\n",
"n=[0:0.1:4.9];\n",
"a.x_location='origin';\n",
"x=sin(%pi*n);\n",
"plot2d3(n,x,2);\n",
"xtitle('The sine wave','n','sin(x)');\n",
"plot(n,x,'r.');\n",
"//Up sampling\n",
"//Up sampling value - user input\n",
"figure(1);\n",
"L=input(' The up sampling value  ');\n",
"a.x_location='origin';\n",
"x1=sin(%pi*n/L);\n",
"plot2d3(n,x1,5);\n",
"plot(n,x1,'r.');\n",
"xtitle('The sine wave','n','sin(x/L)');"
   ]
   }
,
{
		   "cell_type": "markdown",
		   "metadata": {},
		   "source": [
			"## Example 13.2: Down_sampling_operation.sce"
		   ]
		  },
  {
"cell_type": "code",
	   "execution_count": null,
	   "metadata": {
	    "collapsed": true
	   },
	   "outputs": [],
"source": [
"//Example 13.2\n",
"//Downsampling Operation\n",
"clear;\n",
"clc;\n",
"clf();\n",
"a=gca();\n",
"figure(0);\n",
"n=[0:0.1:4.9];\n",
"a.x_location='origin';\n",
"x=sin(%pi*n);\n",
"plot2d3(n,x,2);\n",
"xtitle('The sine wave','n','sin(x)');\n",
"plot(n,x,'r.');\n",
"//Down sampling\n",
"//Down sampling - user input\n",
"figure(1);\n",
"M=input(' The down sampling factor  ');\n",
"a.x_location='origin';\n",
"x1=sin(%pi*n*M);\n",
"plot2d3(n,x1,1);\n",
"plot(n,x1,'r.');\n",
"xtitle('The sine wave','n','sin(x*M)');"
   ]
   }
,
{
		   "cell_type": "markdown",
		   "metadata": {},
		   "source": [
			"## Example 13.6: Decimator_Computation_complexity.sce"
		   ]
		  },
  {
"cell_type": "code",
	   "execution_count": null,
	   "metadata": {
	    "collapsed": true
	   },
	   "outputs": [],
"source": [
"//Example 13.6\n",
"//Decimator computational complexity\n",
"clear;\n",
"clc;\n",
"//no. of multiplications/sec =Rm\n",
"FT = input('Sampling Frequency');\n",
"N  = input('The order of the FIR Hz');\n",
"Rm1 = N*FT;\n",
"disp(Rm1,'Rm,FIR = ');\n",
"//M = factor of Down sampler\n",
"M = input('The Down Sampling factor ');\n",
"disp(Rm1/M,'Rm,FIR-DEC = ');\n",
"K  = input('The order of the IIR Hz');\n",
"Rm2 = (2*K + 1)*FT;\n",
"disp(Rm2,'Rm,IIR = ');\n",
"disp( (K*FT + ((K+1)*FT/M)),'Rm,IIR-DEC = ');"
   ]
   }
],
"metadata": {
		  "kernelspec": {
		   "display_name": "Scilab",
		   "language": "scilab",
		   "name": "scilab"
		  },
		  "language_info": {
		   "file_extension": ".sce",
		   "help_links": [
			{
			 "text": "MetaKernel Magics",
			 "url": "https://github.com/calysto/metakernel/blob/master/metakernel/magics/README.md"
			}
		   ],
		   "mimetype": "text/x-octave",
		   "name": "scilab",
		   "version": "0.7.1"
		  }
		 },
		 "nbformat": 4,
		 "nbformat_minor": 0
}
