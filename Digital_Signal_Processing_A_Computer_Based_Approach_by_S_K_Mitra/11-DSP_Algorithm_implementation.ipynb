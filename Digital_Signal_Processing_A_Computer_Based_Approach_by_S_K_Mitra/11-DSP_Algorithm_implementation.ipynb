{
"cells": [
 {
		   "cell_type": "markdown",
	   "metadata": {},
	   "source": [
       "# Chapter 11: DSP Algorithm implementation"
	   ]
	},
{
		   "cell_type": "markdown",
		   "metadata": {},
		   "source": [
			"## Example 11.11: Cascaded_lattice_Filter_structure.sce"
		   ]
		  },
  {
"cell_type": "code",
	   "execution_count": null,
	   "metadata": {
	    "collapsed": true
	   },
	   "outputs": [],
"source": [
"//Example 11.11\n",
"//Simulation of IIR cascaded lattice filter structure\n",
"clear;\n",
"clc;\n",
"z=%z;\n",
"P3z= 0 + 0.44/z + 0.362/(z^2) +0.02/(z^3);\n",
"D3z= 1 + 0.4/z + 0.18/(z^2) - 0.2/(z^3);\n",
"Hz=P3z/D3z;\n",
"p1=coeff(numer(P3z));\n",
"p=mtlb_fliplr(p1)\n",
"disp(mtlb_fliplr(p),'The coefficients ofnumerator are = ');\n",
"d1=coeff(numer(D3z-1));\n",
"d=mtlb_fliplr(d1)\n",
"disp(mtlb_fliplr(d),'The coefficients ofnumerator are = ');\n",
"d1_1dash=(d(1)-d(3)*d(2))/(1-d(3)*d(3));\n",
"disp(d1_1dash,'d1_1dash = ');\n",
"d2_1dash=(d(2)-d(3)*d(1))/(1-d(3)*d(3));\n",
"disp(d2_1dash,'d2_1dash  ');\n",
"d1_2dash=(d1_1dash)/(1+d2_1dash);\n",
"disp(d1_2dash,'d1_2dash = ');\n",
"a1=p(3);\n",
"disp(p(3),'a1 = ');\n",
"a2=p(2)-a1*d(1);\n",
"disp(p(2)-a1*d(1),'a2 = ');\n",
"a3=p(1)-a1*d(2)-a2*d1_1dash;\n",
"disp(p(1)-a1*d(2)-a2*d1_1dash,'a3 = ');\n",
"disp(0-a1*d(3)-a3*d1_2dash-a2*d2_1dash,'a4 = ');"
   ]
   }
,
{
		   "cell_type": "markdown",
		   "metadata": {},
		   "source": [
			"## Example 11.3: Reconstruction_of_Transfer_function_from_Impulse_response_coeeficients.sce"
		   ]
		  },
  {
"cell_type": "code",
	   "execution_count": null,
	   "metadata": {
	    "collapsed": true
	   },
	   "outputs": [],
"source": [
"//example 11.3\n",
"//Reconstruction of Transfer function from Impulse response coeff.\n",
"clear;\n",
"clc;\n",
"z=%z;\n",
"numz=2+6/z+3/(z^2);\n",
"denz=(1+1/z+2/z^2);\n",
"disp(numz/denz,'Hz = ');\n",
"d=coeff(numer(denz));\n",
"disp(d,'coefficients of the denominator are = ')\n",
"h1=ldiv(numer(numz),numer(denz),5);\n",
"disp(h1','The first five coeffcients are of H(z) = ');\n",
"for i=1:3\n",
"    for j=1:3\n",
"        if i>=j\n",
"            h(i,j)=h1(i-j+1)\n",
"        else\n",
"            h(i,j)=0;\n",
"        end\n",
"    end\n",
"end\n",
"disp(h,'h = ');\n",
"disp((h'*d')','coefficients of the numerator are = ');"
   ]
   }
],
"metadata": {
		  "kernelspec": {
		   "display_name": "Scilab",
		   "language": "scilab",
		   "name": "scilab"
		  },
		  "language_info": {
		   "file_extension": ".sce",
		   "help_links": [
			{
			 "text": "MetaKernel Magics",
			 "url": "https://github.com/calysto/metakernel/blob/master/metakernel/magics/README.md"
			}
		   ],
		   "mimetype": "text/x-octave",
		   "name": "scilab",
		   "version": "0.7.1"
		  }
		 },
		 "nbformat": 4,
		 "nbformat_minor": 0
}
