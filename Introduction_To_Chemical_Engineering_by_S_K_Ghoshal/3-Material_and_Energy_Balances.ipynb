{
"cells": [
 {
		   "cell_type": "markdown",
	   "metadata": {},
	   "source": [
       "# Chapter 3: Material and Energy Balances"
	   ]
	},
{
		   "cell_type": "markdown",
		   "metadata": {},
		   "source": [
			"## Example 3.10: Crystallizatio.sce"
		   ]
		  },
  {
"cell_type": "code",
	   "execution_count": null,
	   "metadata": {
	    "collapsed": true
	   },
	   "outputs": [],
"source": [
"clc\n",
"clear \n",
"printf('example 3.10 page number 98\n\n')\n",
"\n",
"//to find the amount of water evaporated\n",
"xf = 0.15;\n",
"xl = (114.7)/(114.7+1000);\n",
"xc = 1;\n",
"\n",
"K2Cr2O7_feed = 1000*0.15;   //in kg\n",
"\n",
"n = 0.8;\n",
"C = n*K2Cr2O7_feed;\n",
"V = (K2Cr2O7_feed-120 - 880*0.103)/(-0.103);\n",
"\n",
"printf('amount of water evaporated = %f kg',V)"
   ]
   }
,
{
		   "cell_type": "markdown",
		   "metadata": {},
		   "source": [
			"## Example 3.11: crystallizatio.sce"
		   ]
		  },
  {
"cell_type": "code",
	   "execution_count": null,
	   "metadata": {
	    "collapsed": true
	   },
	   "outputs": [],
"source": [
"clc\n",
"clear \n",
"printf('example 3.10 page number 98\n\n')\n",
"\n",
"//to find the yield of crystals\n",
"\n",
"xc = 106/286;\n",
"xf = 0.25;\n",
"xl = 27.5/127.5;\n",
"\n",
"water_present = 100*(1-xf);    //in kg\n",
"V = 0.15*75;   //in kg\n",
"C = (100*xf - 88.7*xl)/(xc-xl);\n",
"Na2CO3_feed = 25/xc;\n",
"\n",
"yield = (C/Na2CO3_feed)*100;\n",
"\n",
"printf('yield = %f ',yield)"
   ]
   }
,
{
		   "cell_type": "markdown",
		   "metadata": {},
		   "source": [
			"## Example 3.12: Drying.sce"
		   ]
		  },
  {
"cell_type": "code",
	   "execution_count": null,
	   "metadata": {
	    "collapsed": true
	   },
	   "outputs": [],
"source": [
"clc\n",
"clear \n",
"printf('example 3.12 page number 99\n\n')\n",
"\n",
"//to find the fraction of air recirculated\n",
"\n",
"r = 50   //weight of dry air passing through drier\n",
"w1 = 1.60   //in kg per kg dry solid\n",
"w2 = 0.1    //in kg/kg dry solid\n",
"H0 = 0.016  //in kg water vapor/kg dry air\n",
"H2 = 0.055  //in kg water vapor/kg dry air\n",
"\n",
"y = 1 - (w1-w2)/(r*(H2-H0));\n",
"printf('fraction of air recirculated = %f',y)\n",
"\n",
"H1 = H2 - (w1-w2)/r;\n",
"printf('\n\nhumidity of air entering the drier = %f kg water vapor/kg kg dry air',H1)\n",
"\n",
"//check\n",
"H11 = H2*y+H0*(1-y);\n",
"if H1 == H11 then printf('\n\nfraction of air recirculated = %f \n verified',y)\n",
"end"
   ]
   }
,
{
		   "cell_type": "markdown",
		   "metadata": {},
		   "source": [
			"## Example 3.13: Conditioning_of_air.sce"
		   ]
		  },
  {
"cell_type": "code",
	   "execution_count": null,
	   "metadata": {
	    "collapsed": true
	   },
	   "outputs": [],
"source": [
"clc\n",
"clear \n",
"printf('example 3.13 page number 100\n\n')\n",
"\n",
"//to find the volumetric flow rate and fraction of air passing through the cooler\n",
"\n",
"//basis 60m3/h of conditioned air at 25 degree C and 60% RH\n",
"\n",
"Hf = 0.012;\n",
"Hi = 0.033;\n",
"H1 = 0.0075;\n",
"\n",
"water_vapor = Hf/18;   //in kmol of water vapor\n",
"dry_air = 1/28.9;  //in kmol\n",
"total_mass = water_vapor+dry_air;\n",
"\n",
"volume = 22.4*(298/273)*total_mass;\n",
"weight = 60/volume;\n",
"printf('weight of dry air handled per hr = %f kg',weight)\n",
"\n",
"//part 1\n",
"inlet_watervapor = 0.033/18;    //in kmol of water vapor\n",
"volume_inlet = 22.4*(308/273)*(inlet_watervapor+dry_air);\n",
"printf('\n\nvolumetric flow rate of inlet air = %f cubic meter',volume_inlet*weight)\n",
"\n",
"//part 2\n",
"y = (Hf - Hi)/(H1 - Hi);\n",
"printf('\n\nfraction of inlet air passing through cooler = %f',y)"
   ]
   }
,
{
		   "cell_type": "markdown",
		   "metadata": {},
		   "source": [
			"## Example 3.14: Ammonia_Synthesis.sce"
		   ]
		  },
  {
"cell_type": "code",
	   "execution_count": null,
	   "metadata": {
	    "collapsed": true
	   },
	   "outputs": [],
"source": [
"clc\n",
"clear \n",
"printf('example 3.14 page number 102\n\n')\n",
"\n",
"//to find the fraction of purged recycle and total yield\n",
"\n",
"//x- moles of N2 and H2 recycled; y - moles of N2 H2 purged\n",
"\n",
"Ar_freshfeed = 0.2;\n",
"//argon in fresh feed is equal to argon in purge \n",
"\n",
"y = 0.2/0.0633;   //argon in purge = 0.0633y\n",
"x = (0.79*100 - y)/(1-0.79);\n",
"printf('y = %f kmol\nx = %f kmol',y,x)\n",
"\n",
"//part 1\n",
"fraction = y/x;\n",
"printf('\n\nfration of recycle that is purged = %f',fraction)\n",
"\n",
"//part 2\n",
"yield = 0.105*(100+x);\n",
"printf('\n\noverall yield of ammonia = %f kmol',yield)"
   ]
   }
,
{
		   "cell_type": "markdown",
		   "metadata": {},
		   "source": [
			"## Example 3.15: Enthalpy_calculation.sce"
		   ]
		  },
  {
"cell_type": "code",
	   "execution_count": null,
	   "metadata": {
	    "collapsed": true
	   },
	   "outputs": [],
"source": [
"clc\n",
"clear \n",
"printf('example 3.15 page number 107\n\n')\n",
"\n",
"//to find change in enthalpy\n",
"H0_CH4 = -74.9   //in kJ\n",
"H0_CO2 = -393.5   //in kJ\n",
"H0_H2O = -241.8   //in kJ\n",
"\n",
"delta_H0 = H0_CO2+2*H0_H2O-H0_CH4;\n",
"printf('change in enthalpy = %f kJ',delta_H0)"
   ]
   }
,
{
		   "cell_type": "markdown",
		   "metadata": {},
		   "source": [
			"## Example 3.16: Enthalpy_calculation.sce"
		   ]
		  },
  {
"cell_type": "code",
	   "execution_count": null,
	   "metadata": {
	    "collapsed": true
	   },
	   "outputs": [],
"source": [
"clc\n",
"clear \n",
"printf('example 3.16 page number 107\n\n')\n",
"\n",
"//to compare the enthalpy change in two reactions\n",
"\n",
"H0_glucose = -1273  //in kJ\n",
"H0_ethanol = -277.6  //in kJ\n",
"H0_CO2 = -393.5  //in kJ\n",
"H0_H2O = -285.8   //in kJ\n",
"\n",
"//for reaction 1\n",
"delta_H1 = 2*H0_ethanol+2*H0_CO2-H0_glucose;\n",
"printf('enthalpy change in reaction 1 = %f KJ',delta_H1)\n",
"\n",
"//for reaction 2\n",
"delta_H2 = 6*H0_H2O+6*H0_CO2-H0_glucose;\n",
"printf('\n\nenthalpy change in reaction 2 = %f kJ',delta_H2)\n",
"\n",
"if delta_H1>delta_H2 then disp ('reaction 2 supplies more energy')\n",
"    else disp ('reaction 1 supplies more energy')\n",
"end"
   ]
   }
,
{
		   "cell_type": "markdown",
		   "metadata": {},
		   "source": [
			"## Example 3.17: Enthalpy_of_formation.sce"
		   ]
		  },
  {
"cell_type": "code",
	   "execution_count": null,
	   "metadata": {
	    "collapsed": true
	   },
	   "outputs": [],
"source": [
"clc\n",
"clear \n",
"printf('example 3.17 page number 108\n\n')\n",
"\n",
"//to find enthalpy of formation of CuSO4.5H2O\n",
"\n",
"delta_H2 = 11.7   //in kJ/mol\n",
"m_CuSO4 = 16  //in gm\n",
"m_H2O = 384   //in gm\n",
"\n",
"delta_H3 = -((m_CuSO4+m_H2O)*4.18*3.95*159.6)/(16*10^3)\n",
"delta_H1 = delta_H3 - delta_H2;\n",
"\n",
"printf('enthalpy of formation = %f kJ/mol',delta_H1)"
   ]
   }
,
{
		   "cell_type": "markdown",
		   "metadata": {},
		   "source": [
			"## Example 3.18: Combustio.sce"
		   ]
		  },
  {
"cell_type": "code",
	   "execution_count": null,
	   "metadata": {
	    "collapsed": true
	   },
	   "outputs": [],
"source": [
"clc\n",
"clear \n",
"printf('example 3.18 page number 108\n\n')\n",
"\n",
"//to find the temperature of combustion\n",
"\n",
"H_combustion = 1560000    //in kJ/kmol \n",
"H0_CO2 = 54.56   //in kJ/kmol\n",
"H0_O2 = 35.2   //in kJ/kmol\n",
"H0_steam = 43.38   //in kJ/kmol\n",
"H0_N2 = 33.32   //in kJ/kmol\n",
"\n",
"t = H_combustion/(2*H0_CO2+3*H0_steam+0.875*H0_O2+16.46*H0_N2);\n",
"\n",
"printf('theoritical temperature of combustion = %f degree C',t)"
   ]
   }
,
{
		   "cell_type": "markdown",
		   "metadata": {},
		   "source": [
			"## Example 3.19: Heat_of_reactio.sce"
		   ]
		  },
  {
"cell_type": "code",
	   "execution_count": null,
	   "metadata": {
	    "collapsed": true
	   },
	   "outputs": [],
"source": [
"clc\n",
"clear \n",
"printf('example 3.19 page number 109\n\n')\n",
"\n",
"//to find the heat of reaction and consumption of coke\n",
"\n",
"H_NaCl = 410.9   //in MJ/kmol\n",
"H_H2SO4 = 811.3   //in MJ/kmol\n",
"H_Na2SO4 = 1384   //in MJ/kmol\n",
"H_HCl = 92.3   //in MJ/kmol\n",
"\n",
"Q = H_Na2SO4 + 2*H_HCl -2*H_NaCl-H_H2SO4;\n",
"printf('heat of reaction = %f MJ\n\n',Q)\n",
"\n",
"heat_required = 64.5*(500/73);\n",
"coke_consumption = heat_required/19\n",
"printf('amount of coke oven gas consumed = %f cubic meter',coke_consumption)"
   ]
   }
,
{
		   "cell_type": "markdown",
		   "metadata": {},
		   "source": [
			"## Example 3.1: Coal_consumption.sce"
		   ]
		  },
  {
"cell_type": "code",
	   "execution_count": null,
	   "metadata": {
	    "collapsed": true
	   },
	   "outputs": [],
"source": [
"clc\n",
"clear \n",
"printf('example 3.1 page number 90\n\n')\n",
"\n",
"//to find the coal consumption\n",
"w_C = 0.6;   //amount of carbon in coal\n",
"N2_content = 40   //in m3 per 100m3 air\n",
"\n",
"air_consumed = N2_content/0.79;\n",
"weight_air = air_consumed*(28.8/22.4);\n",
"O2_content = air_consumed*32*(0.21/22.4);    //in kg\n",
"\n",
"H2_content = 20   //in m3\n",
"\n",
"steam_consumed = H2_content*(18/22.4);\n",
"\n",
"C_consumption1 = (12/18)*steam_consumed;   //in reaction 1\n",
"C_consumption2 = (24/32)*O2_content;    //in reaction 2\n",
"\n",
"total_consumption = C_consumption1+C_consumption2;\n",
"coal_consumption = total_consumption/w_C;\n",
"\n",
"printf('coal consumption = %f kg',coal_consumption)"
   ]
   }
,
{
		   "cell_type": "markdown",
		   "metadata": {},
		   "source": [
			"## Example 3.20: Heat_transfer.sce"
		   ]
		  },
  {
"cell_type": "code",
	   "execution_count": null,
	   "metadata": {
	    "collapsed": true
	   },
	   "outputs": [],
"source": [
"clc\n",
"clear \n",
"printf('example 3.20 page number 109\n\n')\n",
"\n",
"//to find the rate of heat flow\n",
"\n",
"cp_water = 146.5   //in kj/kg\n",
"cp_steam = 3040   //in kJ/kg\n",
"d = 0.102  //in m\n",
"u = 1.5  //in m/s\n",
"density = 1000   //in kg/m3\n",
"\n",
"m = (3.14/4)*d^2*u*density;\n",
"Q = m*(cp_steam-cp_water);\n",
"\n",
"printf('rate of heat flow = %f kW',Q)"
   ]
   }
,
{
		   "cell_type": "markdown",
		   "metadata": {},
		   "source": [
			"## Example 3.21: Calorific_value.sce"
		   ]
		  },
  {
"cell_type": "code",
	   "execution_count": null,
	   "metadata": {
	    "collapsed": true
	   },
	   "outputs": [],
"source": [
"clc\n",
"//EXAMPLE 3.21\n",
"//To find the calorific value of coal\n",
"disp('this is a theoritical problem.Refer the book for solution')"
   ]
   }
,
{
		   "cell_type": "markdown",
		   "metadata": {},
		   "source": [
			"## Example 3.22: Coal_combustio.sce"
		   ]
		  },
  {
"cell_type": "code",
	   "execution_count": null,
	   "metadata": {
	    "collapsed": true
	   },
	   "outputs": [],
"source": [
"clc\n",
"clear \n",
"printf('example 3.22 page number 110\n\n')\n",
"\n",
"//to find the amount of air required for combustion and composition of flue gas\n",
"wt_C = 0.75   //in kg\n",
"wt_H2 = 0.05   //in kg\n",
"wt_O2 = 0.12   //in kg\n",
"wt_N2 = 0.03   //in kg\n",
"wt_S = 0.01    //in kg\n",
"wt_ash = 0.04  //in kg\n",
"\n",
"O2_C = wt_C*(32/12);  //in kg\n",
"O2_H2 = wt_H2*(16/2);   //in kg\n",
"O2_S = wt_S*(32/32);   //in kg\n",
"O2_required = O2_C+O2_H2+O2_S;\n",
"\n",
"oxygen_supplied = O2_required - wt_O2;\n",
"air_needed = oxygen_supplied/0.23;\n",
"printf('amount of air required = %f kg',air_needed)\n",
"\n",
"volume = (22.4/28.8)*air_needed;\n",
"printf('\n\nvolume of air needed = %f cubic meter',volume)\n",
"\n",
"air_supplied = 1.20*air_needed;\n",
"N2_supplied = air_supplied*0.77;\n",
"total_N2 = N2_supplied+wt_N2;\n",
"\n",
"O2_fluegas = air_supplied*0.23 - oxygen_supplied;\n",
"\n",
"wt_CO2 = wt_C+O2_C;\n",
"wt_SO2 = wt_S+O2_S;\n",
"\n",
"moles_CO2 = wt_CO2/44;\n",
"moles_SO2 = wt_SO2/64;\n",
"moles_N2 = total_N2/28;\n",
"moles_O2 = O2_fluegas/32;\n",
"total_moles = moles_CO2+moles_SO2+moles_N2+moles_O2;\n",
"\n",
"x_CO2 = moles_CO2/total_moles;\n",
"x_SO2 = moles_SO2/total_moles;\n",
"x_N2 = moles_N2/total_moles;\n",
"x_O2 = moles_O2/total_moles;\n",
"\n",
"printf('\n\nCO2 = %f',x_CO2*100)\n",
"printf('\n\nSO2 = %f',x_SO2*100)\n",
"printf('\n\nN2 = %f',x_N2*100)\n",
"printf('\n\nO2 = %f',x_O2*100)"
   ]
   }
,
{
		   "cell_type": "markdown",
		   "metadata": {},
		   "source": [
			"## Example 3.23: Coal_combustio.sce"
		   ]
		  },
  {
"cell_type": "code",
	   "execution_count": null,
	   "metadata": {
	    "collapsed": true
	   },
	   "outputs": [],
"source": [
"clc\n",
"clear \n",
"printf('example 3.23 page number 110\n\n')\n",
"\n",
"//to find the composition of flue gas\n",
"\n",
"C = 0.8   //in kg\n",
"H2 = 0.05   //in kg\n",
"S = 0.005   //in kg\n",
"ash = 0.145  //in kg\n",
"\n",
"//required oxygen in kg\n",
"C_O2 = C*(32/12);  \n",
"H2_O2 = H2*(16/2);\n",
"S_O2 = S*(32/32);\n",
"O2_supplied = C_O2+S_O2+H2_O2;\n",
"printf('amount of O2 supplied = %f kg\n\n',O2_supplied)\n",
"\n",
"wt_air = O2_supplied*(100/23);\n",
"wt_airsupplied = 1.25*wt_air;\n",
"printf('amount of air supplied = %f kg\n\n',wt_airsupplied)\n",
"\n",
"//flue gas composition\n",
"m_N2 = wt_airsupplied*0.77;   //in kg\n",
"mole_N2 = m_N2/28;\n",
"\n",
"m_O2 = (wt_airsupplied-wt_air)*0.23;   //in kg\n",
"mole_O2 = m_O2/32;\n",
"\n",
"m_CO2 = C*(44/12);   //in kg\n",
"mole_CO2 = m_CO2/44;\n",
"\n",
"m_H2O = H2*(18/2);   //in kg\n",
"mole_H2O = m_H2O/18;\n",
"\n",
"m_SO2 = S*(64/32);   //in kg\n",
"mole_SO2 = m_SO2/64;\n",
"\n",
"m = m_N2+m_O2+m_CO2+m_H2O+m_SO2\n",
"\n",
"//percent by weight\n",
"w_N2 = m_N2/m;\n",
"printf('percentage of N2 by weight = %f\n\n',w_N2*100)\n",
"\n",
"w_O2 = m_O2/m;\n",
"printf('percentage of O2 by weight = %f\n\n',w_O2*100)\n",
"\n",
"w_CO2 = m_CO2/m;\n",
"printf('percentage of CO2 by weight = %f\n\n',w_CO2*100)\n",
"\n",
"w_H2O = m_H2O/m;\n",
"printf('percentage of H2O by weight = %f\n\n',w_H2O*100)\n",
"\n",
"w_SO2 = m_SO2/m;\n",
"printf('percentage of SO2 by weight = %f\n\n',w_SO2*100)\n",
"\n",
"m1 = mole_N2+mole_O2+mole_CO2+mole_H2O+mole_SO2\n",
"\n",
"//percent by mole \n",
"x_N2 = mole_N2/m1;\n",
"printf('percentage of N2 by mole = %f\n\n',x_N2*100)\n",
"\n",
"x_O2 = mole_O2/m1;\n",
"printf('percentage of O2 by mole = %f\n\n',x_O2*100)\n",
"\n",
"x_CO2 = mole_CO2/m1;\n",
"printf('percentage of CO2 by mole = %f\n\n',x_CO2*100)\n",
"\n",
"x_H2O = mole_H2O/m1;\n",
"printf('percentage of H2O by mole = %f\n\n',x_H2O*100)\n",
"\n",
"x_SO2 = mole_SO2/m1;\n",
"printf('percentage of SO2 by mole = %f\n\n',x_SO2*100)"
   ]
   }
,
{
		   "cell_type": "markdown",
		   "metadata": {},
		   "source": [
			"## Example 3.24: Petrol_combustio.sce"
		   ]
		  },
  {
"cell_type": "code",
	   "execution_count": null,
	   "metadata": {
	    "collapsed": true
	   },
	   "outputs": [],
"source": [
"clc\n",
"clear \n",
"printf('example 3.24 page number 112\n\n')\n",
"\n",
"//to find volumetric composition of flue glass\n",
"\n",
"wt_H2 = 0.15;\n",
"wt_C = 0.85;\n",
"O2_H2 = wt_H2*(16/2);\n",
"O2_C = wt_C*(32/12);\n",
"\n",
"total_O2 = O2_H2+O2_C;\n",
"\n",
"wt_air = total_O2/0.23;\n",
"\n",
"air_supplied = 1.15*(wt_air);\n",
"N2_supplied = 0.77*air_supplied/28;\n",
"O2_supplied = 0.23*(air_supplied-wt_air)/32;\n",
"moles_CO2 = 0.85/12;\n",
"\n",
"printf('moles of CO2 = %f kmol\n\n',moles_CO2)\n",
"printf('moles of N2 = %f kmol \n\n',N2_supplied)\n",
"printf('moles of O2 = %f kmol\n\n',O2_supplied)\n",
"\n",
"total_moles = N2_supplied+O2_supplied+moles_CO2;\n",
"\n",
"printf('percentage of CO2 = %f\n\n',(moles_CO2/total_moles)*100)\n",
"printf('percentage of N2 = %f\n\n',(N2_supplied/total_moles)*100)\n",
"printf('percentage of O2 = %f',(O2_supplied/total_moles)*100)"
   ]
   }
,
{
		   "cell_type": "markdown",
		   "metadata": {},
		   "source": [
			"## Example 3.25: Air_supply.sce"
		   ]
		  },
  {
"cell_type": "code",
	   "execution_count": null,
	   "metadata": {
	    "collapsed": true
	   },
	   "outputs": [],
"source": [
"clc\n",
"clear \n",
"printf('example 3.25 page number 113\n\n')\n",
"\n",
"//to find the excess air supplied\n",
"\n",
"N2 = 80.5   //in m3\n",
"air_supplied = N2/0.79   //in m3\n",
"volume_O2 = air_supplied*0.21;  //in m3\n",
"O2_fluegas = 6.1   //in m3\n",
"\n",
"O2_used = volume_O2 - O2_fluegas;\n",
"excess_air_supplied = (O2_fluegas/O2_used)*100;\n",
"\n",
"printf('percentage of excess air supplied = %f',excess_air_supplied)"
   ]
   }
,
{
		   "cell_type": "markdown",
		   "metadata": {},
		   "source": [
			"## Example 3.26: CO2_cooling.sce"
		   ]
		  },
  {
"cell_type": "code",
	   "execution_count": null,
	   "metadata": {
	    "collapsed": true
	   },
	   "outputs": [],
"source": [
"clc\n",
"clear \n",
"printf('example 3.26 page number 114\n\n')\n",
"\n",
"//to find the outlet temperature of water\n",
"\n",
"q_NTP = 10*(200/101.3)*(273/313);\n",
"m_CO2 = 44*(q_NTP/22.4);\n",
"s_CO2 = 0.85   //in kJ/kg K\n",
"\n",
"Q = m_CO2*s_CO2*(40-20)   //Q = ms*delta_T\n",
"\n",
"d0 = 0.023   //in mm\n",
"A0 = (3.14/4)*d0^2;\n",
"di = 0.035   //in mm\n",
"Ai = (3.14/4)*di^2;\n",
"\n",
"A_annular = Ai-A0;\n",
"u = 0.15   //in m/s\n",
"m_water = A_annular*(u*3600)*1000   //in kg/hr\n",
"\n",
"s_water = 4.19    //in kJ/kg K\n",
"t = 15+(Q/(m_water*s_water));\n",
"\n",
"printf('exit water temperature = %f degree C',t)"
   ]
   }
,
{
		   "cell_type": "markdown",
		   "metadata": {},
		   "source": [
			"## Example 3.27: Heating_area.sce"
		   ]
		  },
  {
"cell_type": "code",
	   "execution_count": null,
	   "metadata": {
	    "collapsed": true
	   },
	   "outputs": [],
"source": [
"clc\n",
"clear \n",
"printf('example 3.27 page number 114\n\n')\n",
"\n",
"//to find the area of heating surface\n",
"F = 1000   //in kg\n",
"xF = 0.01   \n",
"\n",
"solid_feed = F*xF;\n",
"water_feed = F - solid_feed;\n",
"\n",
"tF = 40  //in degree C\n",
"hF = 167.5   //in kJ/kg\n",
"xL = 0.02;\n",
"\n",
"solid_liquor = 10  //in kg\n",
"L = solid_liquor/xL;\n",
"tL = 100  //in degree C\n",
"hL = 418.6   //in kJ/kg\n",
"\n",
"V = F -L;\n",
"\n",
"tv = 100  //in degree C\n",
"Hv = 2675   //in kJ/kg\n",
"ts = 108.4  //in degree C\n",
"Hs = 2690  //in kJ/kg\n",
"tc = 108.4  //in degree C\n",
"hc = 454   //in kJ/kg\n",
"\n",
"//applying heat balance\n",
"S = (F*hF-V*Hv-L*hL)/(hc-Hs);\n",
"printf('weight of steam required = %f kg/hr',S)\n",
"\n",
"Q = S*(Hs-hc);\n",
"U = 1.4   //in kW/m2K\n",
"delta_t = ts-tL;\n",
"A = 383.2/(U*delta_t);\n",
"printf('\n\narea of heating surface = %f square meter',A)"
   ]
   }
,
{
		   "cell_type": "markdown",
		   "metadata": {},
		   "source": [
			"## Example 3.28: Distillation_column.sce"
		   ]
		  },
  {
"cell_type": "code",
	   "execution_count": null,
	   "metadata": {
	    "collapsed": true
	   },
	   "outputs": [],
"source": [
"clc\n",
"clear \n",
"printf('example 3.28 page number 115\n\n')\n",
"\n",
"//to find the top and bottom product,condenser duty,heat input to rebpoiler\n",
"hF = 171  //in kJ/kg\n",
"hD = 67   //in kJ/kg\n",
"hL = hD;\n",
"\n",
"hW = 200  //in kJ/kg\n",
"H = 540  //in kJ/kg\n",
"\n",
"disp('part 1')\n",
"F = 1000   //in kg/h\n",
"xF = 0.40\n",
"xW = 0.02;\n",
"xD = 0.97;\n",
"D = F*(xF-xW)/(xD-xW);\n",
"W = F-D;\n",
"\n",
"printf('bottom product = %f kg/hr',W)\n",
"printf('\ntop product = %f kg/hr\n\n',D)\n",
"\n",
"disp('part 2')\n",
"L = 3.5*D;\n",
"V = L+D;\n",
"Qc = V*H-L*hL-D*hD;\n",
"printf('condenser duty = %f KJ/hr\n\n',Qc)\n",
"\n",
"disp('part 3')\n",
"Qr = Qc - 24200;\n",
"printf('rate of heat input to reboiler = %f kJ/hr',Qr)"
   ]
   }
,
{
		   "cell_type": "markdown",
		   "metadata": {},
		   "source": [
			"## Example 3.29: Crystallizatio.sce"
		   ]
		  },
  {
"cell_type": "code",
	   "execution_count": null,
	   "metadata": {
	    "collapsed": true
	   },
	   "outputs": [],
"source": [
"clc\n",
"clear \n",
"printf('example 3.29 page number 117\n\n')\n",
"\n",
"//to find the rate of crystal formation, cooling water rate, required area\n",
"\n",
"F = 1000;    //in kg\n",
"V = 0.05*F;   //in kg\n",
"xF = 0.48;\n",
"xL = 75/(100+75);\n",
"xC = 1;\n",
"C = (F*xF-950*xL)/(1-0.429);\n",
"printf ('rate of crystal formation = %f kg',C)\n",
"\n",
"L = F-C-V;\n",
"\n",
"//cooling water\n",
"W = (F*2.97*(85-35)+126.9*75.2-V*2414)/(4.19*11);\n",
"printf('\n\nrate of cooling water = %f kg',W)\n",
"\n",
"delta_T1 = 56;\n",
"delta_T2 = 17;\n",
"delta_Tm = (delta_T1-delta_T2)/(log(delta_T1/delta_T2))\n",
"U = 125;\n",
"\n",
"A=(F*2.97*(85-35)+126.9*75.2-V*2414)/(U*delta_Tm*3.6);\n",
"printf('\n\narea = %f square meter',A)"
   ]
   }
,
{
		   "cell_type": "markdown",
		   "metadata": {},
		   "source": [
			"## Example 3.2: Nitric_acid_preparatio.sce"
		   ]
		  },
  {
"cell_type": "code",
	   "execution_count": null,
	   "metadata": {
	    "collapsed": true
	   },
	   "outputs": [],
"source": [
"clc\n",
"clear \n",
"printf('example 3.2 page number 91\n\n')\n",
"\n",
"//to find amount of ammonia and air consumed\n",
"\n",
"NH3_required = (17/63)*1000;    //NH3 required for 1 ton of nitric acid\n",
"NO_consumption = 0.96;\n",
"HNO3_consumption = 0.92;\n",
"NH3_consumed = NH3_required/(NO_consumption*HNO3_consumption);\n",
"volume_NH3 = NH3_consumed*(22.4/17);\n",
"printf('volume of ammonia consumed= %f cubic metre/h',volume_NH3)\n",
"\n",
"NH3_content = 11   //% by volume\n",
"air_consumption = volume_NH3*((100-11)/11);\n",
"printf('\n\nvolume of air consumed = %f cubic metre/h',air_consumption)"
   ]
   }
,
{
		   "cell_type": "markdown",
		   "metadata": {},
		   "source": [
			"## Example 3.30: Combustio.sce"
		   ]
		  },
  {
"cell_type": "code",
	   "execution_count": null,
	   "metadata": {
	    "collapsed": true
	   },
	   "outputs": [],
"source": [
"clc\n",
"clear \n",
"printf('example 3.30 page number 118\n\n')\n",
"\n",
"//to find the heat of combustion\n",
"\n",
"delta_n = 10-12;  //mole per mole napthanlene\n",
"\n",
"//basis 1g\n",
"moles_napthalene = (1/128);\n",
"\n",
"disp('part 1')\n",
"Qv = 40.28   //in kJ\n",
"Qp = Qv-(delta_n*moles_napthalene*8.3144*298/1000);\n",
"printf('heat of combustion = %f kJ\n\n',Qp)\n",
"\n",
"disp('part 2')\n",
"delta_H = 44.05   //in kJ/gmol\n",
"water_formed = 4/128;   //in g mol\n",
"Qp1 = Qp - (delta_H*water_formed);\n",
"printf('heat of combustion = %f kJ',Qp1)"
   ]
   }
,
{
		   "cell_type": "markdown",
		   "metadata": {},
		   "source": [
			"## Example 3.3: HCl_productio.sce"
		   ]
		  },
  {
"cell_type": "code",
	   "execution_count": null,
	   "metadata": {
	    "collapsed": true
	   },
	   "outputs": [],
"source": [
"clc\n",
"clear \n",
"printf('example 3.3 page number 91\n\n')\n",
"\n",
"//to find the consumption of NaCl and H2SO4 in HCl consumption\n",
"\n",
"HCl_production = 500   //required to be produced in kg\n",
"NaCl_required = (117/73)*HCl_production;\n",
"yield = 0.92;\n",
"purity_NaCl= 0.96;\n",
"\n",
"actual_NaCl = NaCl_required/(purity_NaCl*yield);\n",
"printf('amount of NaCl required = %f kg',actual_NaCl)\n",
"\n",
"purity_H2SO4 = 0.93;\n",
"H2SO4_consumption = (98/73)*(HCl_production/(yield*purity_H2SO4));\n",
"printf('\n\namount of H2SO4 consumed = %f kg',H2SO4_consumption)\n",
"\n",
"Na2SO4_produced = (142/73)*HCl_production;\n",
"printf('\n\namount of Na2SO4 produced = %f kg',Na2SO4_produced)"
   ]
   }
,
{
		   "cell_type": "markdown",
		   "metadata": {},
		   "source": [
			"## Example 3.4: Acetylene_consumption.sce"
		   ]
		  },
  {
"cell_type": "code",
	   "execution_count": null,
	   "metadata": {
	    "collapsed": true
	   },
	   "outputs": [],
"source": [
"clc\n",
"clear \n",
"printf('example 3.4 page number 92\n\n')\n",
"\n",
"//to find the period of service\n",
"\n",
"C2H2_produced = (1/64)*0.86;   //in kmol\n",
"volume_C2H2 = C2H2_produced*22.4*1000;    //in l\n",
"\n",
"//assuming ideal behaviour,\n",
"volume = (100/101.3)*(273/(273+30));\n",
"time = (volume_C2H2/volume)*(1/60);\n",
"printf('time of service = %f hr',time)\n",
"\n",
"\n",
"\n",
""
   ]
   }
,
{
		   "cell_type": "markdown",
		   "metadata": {},
		   "source": [
			"## Example 3.5: Screen_effectiveness.sce"
		   ]
		  },
  {
"cell_type": "code",
	   "execution_count": null,
	   "metadata": {
	    "collapsed": true
	   },
	   "outputs": [],
"source": [
"clc\n",
"clear \n",
"printf('example 3.5 page number 92\n\n')\n",
"\n",
"//to find the screen effectiveness\n",
"\n",
"xv = 0.88;\n",
"xf = 0.46;\n",
"xl = 0.32;\n",
"F= 100   //in kg\n",
"\n",
"L = (F*(xf-xv))/(xl-xv);\n",
"V = F-L;\n",
"printf('L = %f Kg \nV = %f Kg',L,V)\n",
"Eo = (V*xv)/(F*xf);\n",
"\n",
"printf(' \n\neffectiveness based on oversized partices = %f \n\n',Eo)\n",
"Eu = (L*(1-xl))/(F*(1-xf));\n",
"\n",
"printf('effectiveness based on undersized partices = %f',Eu)\n",
"E=Eu*Eo;\n",
"\n",
"printf('\n\noverall effectiveness = %f',E)"
   ]
   }
,
{
		   "cell_type": "markdown",
		   "metadata": {},
		   "source": [
			"## Example 3.6: Absorptio.sce"
		   ]
		  },
  {
"cell_type": "code",
	   "execution_count": null,
	   "metadata": {
	    "collapsed": true
	   },
	   "outputs": [],
"source": [
"clc\n",
"clear \n",
"printf('example 3.6 page number 94\n\n')\n",
"\n",
"//to find the flow rate and concentration\n",
"\n",
"G1 = 3600   //in m3/h\n",
"P = 106.6    //in kPa\n",
"T = 40   //in degree C\n",
"q = G1*(P/101.3)*(273/((273+T)));   //in m3/s\n",
"m = q/22.4;   //in kmol/h\n",
"y1 = 0.02;\n",
"Y1 = y1/(1-y1);\n",
"\n",
"printf('mole ratio of benzene = %f kmol benzene/kmol dry gas',Y1)\n",
"\n",
"Gs = m*(1-y1);\n",
"printf('\n\nmoles of benzene free gas = %f kmol drygas/h',Gs)\n",
"\n",
"//for 95% removal\n",
"Y2 = Y1*(1-0.95);\n",
"printf('\n\nfinal mole ratio of benzene = %f kmol benzene/kmol dry gas',Y2)\n",
"\n",
"x2 = 0.002\n",
"X2 = 0.002/(1-0.002);\n",
"\n",
"//at equilibrium y* = 0.2406X\n",
"//part 1\n",
"//for oil rate to be minimum the wash oil leaving the absorber must be in equilibrium with the entering gas\n",
"\n",
"y1 = 0.02;\n",
"x1 = y1/(0.2406);\n",
"X1 = x1/(1-x1);\n",
"min_Ls = Gs*((Y1-Y2)/(X1-X2));\n",
"printf('\n\nminimum Ls required = %f kg/h',min_Ls*260)\n",
"\n",
"//for 1.5 times of the minimum\n",
"Ls = 1.5*min_Ls;\n",
"printf('\n\nflow rate of wash oil = %f kg/h',Ls*260)\n",
"X1 = X2 + (Gs*((Y1-Y2)/Ls));\n",
"printf('\n\nconcentration of benzene in wash oil = %f kmol benzene/kmol wash oil',X1)"
   ]
   }
,
{
		   "cell_type": "markdown",
		   "metadata": {},
		   "source": [
			"## Example 3.7: Extractio.sce"
		   ]
		  },
  {
"cell_type": "code",
	   "execution_count": null,
	   "metadata": {
	    "collapsed": true
	   },
	   "outputs": [],
"source": [
"clc\n",
"clear \n",
"printf('example 3.7 page number 95\n\n')\n",
"\n",
"//to find the extraction of nicotine\n",
"xf = 0.01\n",
"Xf = xf/(1-xf);\n",
"Feed = 100   //feed in kg\n",
"c_nicotine = Feed*Xf;   //nicotine conc in feed\n",
"c_water = Feed*(1-Xf)    //water conc in feed\n",
"\n",
"//part 1\n",
"function[f] = F1(x)\n",
"    funcprot(0)\n",
"    f = (x/150)-0.9*((1-x)/99);\n",
"endfunction\n",
"\n",
"//initial guess\n",
"x = 10;\n",
"y = fsolve(x,F1);\n",
"printf('amount of nicotine removed N = %f kg',y)\n",
"//part 2\n",
"function[f] = F1(x)\n",
"    f = (x/50)-0.9*((1-x)/99);\n",
"endfunction\n",
"\n",
"//initial guess\n",
"x = 10;\n",
"N1 = fsolve(x,F1);\n",
"printf('\n\namount of nicotine removed in stage 1, N1 = %f kg',N1)\n",
"function[f] = F1(x,N1)\n",
"    f = (x/50)-0.9*((1-x-N1)/99);\n",
"endfunction\n",
"\n",
"//initial guess\n",
"x = 10;\n",
"N2 = fsolve(x,F1);\n",
"printf('\n\namount of nicotine removed in stage 2, N2 = %f kg',N2)\n",
"function[f] = F1(x,N1,N2)\n",
"    f = (x/50)-0.9*((1-x-N2-N1)/99);\n",
"endfunction\n",
"\n",
"//initial guess\n",
"x = 10;\n",
"N3 = fsolve(x,F1);\n",
"\n",
"printf('\n\namount of nicotine removed in stage 3, N3 = %f kg',N3)\n",
"N = N1+N2+N3;\n",
"printf('\n\ntotal amount of nicotine removed = %f kg',N)"
   ]
   }
,
{
		   "cell_type": "markdown",
		   "metadata": {},
		   "source": [
			"## Example 3.8: Distillatio.sce"
		   ]
		  },
  {
"cell_type": "code",
	   "execution_count": null,
	   "metadata": {
	    "collapsed": true
	   },
	   "outputs": [],
"source": [
"clc\n",
"clear \n",
"printf('example 3.8 page number 96\n\n')\n",
"\n",
"//to find the amount of water in residue\n",
"\n",
"vp_water = 31.06   //in kPa\n",
"vp_benzene = 72.92   //in kPa\n",
"\n",
"P = vp_water +vp_benzene;\n",
"x_benzene = vp_benzene/P;\n",
"x_water = vp_water/P;\n",
"\n",
"initial_water = 50/18;   //in kmol of water\n",
"initial_benzene = 50/78   //in kmol of benzene\n",
"water_evaporated = initial_benzene*(x_water/x_benzene);\n",
"water_left = (initial_water - water_evaporated);\n",
"\n",
"printf('amount of water left in residue = %f kg',water_left*18)"
   ]
   }
,
{
		   "cell_type": "markdown",
		   "metadata": {},
		   "source": [
			"## Example 3.9: Distillatio.sce"
		   ]
		  },
  {
"cell_type": "code",
	   "execution_count": null,
	   "metadata": {
	    "collapsed": true
	   },
	   "outputs": [],
"source": [
"clc\n",
"clear \n",
"printf('example 3.9 page number 97\n\n')\n",
"\n",
"//to find the vapor content of dimethylanaline\n",
"po_D = 4.93   //in kPa\n",
"po_W = 96.3   //in kPa\n",
"n = 0.75   //vaporization efficiency\n",
"\n",
"P = n*po_D+po_W;\n",
"printf('P = %f kPa',P)\n",
"\n",
"x_water = 96.3/100;\n",
"x_dimethylanaline = 1-x_water;\n",
"wt_dimethylanaline = (x_dimethylanaline*121)/(x_dimethylanaline*121+x_water*18);\n",
"printf('\n\nweight of dimethylanaline in water = %f',wt_dimethylanaline*100)\n",
"\n",
"//part 1\n",
"n = 0.8;\n",
"po_D = 32   //in kPa\n",
"actual_vp = n*po_D;\n",
"p_water = 100 - actual_vp;\n",
"steam_required = (p_water*18)/(actual_vp*121);\n",
"printf('\n\namount of steam required = %f kg steam/kg dimethylanaline',steam_required)\n",
"\n",
"//part 2\n",
"x_water = p_water/100;\n",
"wt_water = x_water*18/(x_water*18+(1-x_water)*121);\n",
"printf('\n\nweight of water vapor = %f \nweight of dimethylanaline =%f',wt_water*100,100*(1-wt_water))"
   ]
   }
],
"metadata": {
		  "kernelspec": {
		   "display_name": "Scilab",
		   "language": "scilab",
		   "name": "scilab"
		  },
		  "language_info": {
		   "file_extension": ".sce",
		   "help_links": [
			{
			 "text": "MetaKernel Magics",
			 "url": "https://github.com/calysto/metakernel/blob/master/metakernel/magics/README.md"
			}
		   ],
		   "mimetype": "text/x-octave",
		   "name": "scilab",
		   "version": "0.7.1"
		  }
		 },
		 "nbformat": 4,
		 "nbformat_minor": 0
}
