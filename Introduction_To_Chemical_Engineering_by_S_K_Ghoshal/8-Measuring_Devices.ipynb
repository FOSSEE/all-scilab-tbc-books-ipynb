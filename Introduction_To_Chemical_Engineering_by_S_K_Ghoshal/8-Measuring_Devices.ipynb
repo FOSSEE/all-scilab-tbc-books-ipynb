{
"cells": [
 {
		   "cell_type": "markdown",
	   "metadata": {},
	   "source": [
       "# Chapter 8: Measuring Devices"
	   ]
	},
{
		   "cell_type": "markdown",
		   "metadata": {},
		   "source": [
			"## Example 8.10: Pitot_tube.sce"
		   ]
		  },
  {
"cell_type": "code",
	   "execution_count": null,
	   "metadata": {
	    "collapsed": true
	   },
	   "outputs": [],
"source": [
"clc\n",
"clear \n",
"printf('example 8.10 page number 370\n\n')\n",
"\n",
"//to find the rate of oil flow in l/s\n",
"\n",
"density_oil=900;       //in kg/m3\n",
"viscosity_oil=38.8*10^-3;    //in Pa-s\n",
"density_water = 1000;       //in kg/m3\n",
"diameter=0.102              //in m\n",
"manometer_reading=0.9;       //m of water\n",
"delta_H=manometer_reading*(density_water-density_oil)/density_oil;\n",
"printf('manometer reading as m of oil = %f m',delta_H)\n",
"\n",
"maximum_velocity=(2*9.8*delta_H)^0.5;\n",
"printf('\n\nmaximum_velocity(Vmax) = %f m/s',maximum_velocity)\n",
"\n",
"Re=diameter*maximum_velocity*density_oil/viscosity_oil;\n",
"printf('\n\nif Re<4000 then v=0.5*Vmax Re = %f',Re)\n",
"if Re<4000 then velocity=maximum_velocity*0.5;\n",
"end\n",
"\n",
"printf('\n\nvelocity = %f m/s',velocity)\n",
"\n",
"flow_rate=(3.14/4)*diameter^2*velocity*1000;\n",
"printf('\n\nflow rate =%f litre/s',flow_rate)"
   ]
   }
,
{
		   "cell_type": "markdown",
		   "metadata": {},
		   "source": [
			"## Example 8.11: Rotameter_capacity.sce"
		   ]
		  },
  {
"cell_type": "code",
	   "execution_count": null,
	   "metadata": {
	    "collapsed": true
	   },
	   "outputs": [],
"source": [
"clc\n",
"clear \n",
"printf('example 8.11 page number 372\n\n')\n",
"\n",
"//to find the maximum capacity of keroscene\n",
"flow_rate_steel=1.2;     //l/s\n",
"density_steel=7.92;\n",
"density_kerosene=0.82;\n",
"density_water=1;\n",
"flow_rate_kerosene =(((density_steel-density_kerosene)/density_kerosene)/((density_steel-density_water)/density_water))^0.5*flow_rate_steel\n",
"printf('maximum_flow rate of kerosene = %f litre/s',flow_rate_kerosene)"
   ]
   }
,
{
		   "cell_type": "markdown",
		   "metadata": {},
		   "source": [
			"## Example 8.12: Flow_rate_calculatio.sce"
		   ]
		  },
  {
"cell_type": "code",
	   "execution_count": null,
	   "metadata": {
	    "collapsed": true
	   },
	   "outputs": [],
"source": [
"clc\n",
"clear \n",
"printf('example 8.12 page number 373\n\n')\n",
"\n",
"//to find the rate of flow of flue gas\n",
"\n",
"initial_CO2 = 0.02;       //weight fraction\n",
"flow_rate_CO2 = 22.5;     //gm/s\n",
"final_CO2=0.031;          //weight fraction\n",
"\n",
"//flow rate of flue gas =x\n",
"//amount of CO2 entering = 0.02*x\n",
"//amount of CO2 leaving = 0.02x+0.0225\n",
"//amount of gas leaving = x+0.0225\n",
"//amount of CO2 leaving = 0.031*(x+0.0225)\n",
"\n",
"deff('y=f(x)','y=initial_CO2*x+0.0225 - 0.031*(x+0.0225)');\n",
"\n",
"flow_rate_flue_gas=fsolve(0,f)\n",
"\n",
"printf('flow rate of flue gas = %f kg/s',flow_rate_flue_gas)\n",
""
   ]
   }
,
{
		   "cell_type": "markdown",
		   "metadata": {},
		   "source": [
			"## Example 8.1: Specific_gravity.sce"
		   ]
		  },
  {
"cell_type": "code",
	   "execution_count": null,
	   "metadata": {
	    "collapsed": true
	   },
	   "outputs": [],
"source": [
"clc\n",
"clear \n",
"printf('example 8.1 page number 334\n\n')\n",
"\n",
"printf('this is a theoritical problem, book shall be referred for solution')"
   ]
   }
,
{
		   "cell_type": "markdown",
		   "metadata": {},
		   "source": [
			"## Example 8.2: Specific_gravity.sce"
		   ]
		  },
  {
"cell_type": "code",
	   "execution_count": null,
	   "metadata": {
	    "collapsed": true
	   },
	   "outputs": [],
"source": [
"clc\n",
"clear \n",
"printf('example 8.2 page number 335\n\n')\n",
"\n",
"printf('this is a theoritical problem, book shall be referred for solution')"
   ]
   }
,
{
		   "cell_type": "markdown",
		   "metadata": {},
		   "source": [
			"## Example 8.3: Specific_gravity.sce"
		   ]
		  },
  {
"cell_type": "code",
	   "execution_count": null,
	   "metadata": {
	    "collapsed": true
	   },
	   "outputs": [],
"source": [
"clc\n",
"clear \n",
"printf('example 8.3 page number 335\n\n')\n",
"\n",
"printf('this is a theoritical problem, book shall be referred for solution')"
   ]
   }
,
{
		   "cell_type": "markdown",
		   "metadata": {},
		   "source": [
			"## Example 8.4: Mixture_density.sce"
		   ]
		  },
  {
"cell_type": "code",
	   "execution_count": null,
	   "metadata": {
	    "collapsed": true
	   },
	   "outputs": [],
"source": [
"clc\n",
"clear \n",
"printf('example 8.4 page number 336\n\n')\n",
"\n",
"//Chapter 8 : Measuring Devices\n",
"//Given: Balance Height=4m\n",
"//side 1-air, side 2:- N2-H2 mixture\n",
"\n",
"pressure_difference = 3.4          //in mm water\n",
"pressure = 1.0133*10^5            //in pa\n",
"temperatue = 293        //in K\n",
"mass_of_air = 29       //in Kg\n",
"density_air = pressure/(temperatue*8314)*mass_of_air      //in kg/m3\n",
"printf('Density of air = %f kg/cu m',density_air)\n",
"\n",
"delta_p = pressure_difference*9.8           //in pascal, acceleration due to gravity, g=9.8\n",
"Height=4\n",
"density_difference = delta_p/(9.8*Height);\n",
"printf('\n\nDensity difference = %f kg/cu m',density_difference)\n",
"\n",
"density_mixture= density_air-density_difference;      //in kg/m3\n",
"printf('\n\nDensity of mixture = %f kg/cu m',density_mixture)\n",
""
   ]
   }
,
{
		   "cell_type": "markdown",
		   "metadata": {},
		   "source": [
			"## Example 8.5: Viscosity_calculatio.sce"
		   ]
		  },
  {
"cell_type": "code",
	   "execution_count": null,
	   "metadata": {
	    "collapsed": true
	   },
	   "outputs": [],
"source": [
"clc\n",
"clear \n",
"printf('example 8.5 page number 341\n\n')\n",
"\n",
"//to find viscosity of oil \n",
"diameter=0.6;     //in m\n",
"disk_distance=1.25*10^-3;    //in m\n",
"speed=5;      //revolutions/min\n",
"torque=11.5;  //in Joules\n",
"\n",
"//we know that torque= pi*omega*viscosity*radius^4/2*disc_distance\n",
"viscosity=(2*disk_distance*torque)/(3.14*(10*3.14)*(diameter/2)^4);\n",
"printf('viscosity = %f Pa-s',viscosity)"
   ]
   }
,
{
		   "cell_type": "markdown",
		   "metadata": {},
		   "source": [
			"## Example 8.6: Solution_viscosity.sce"
		   ]
		  },
  {
"cell_type": "code",
	   "execution_count": null,
	   "metadata": {
	    "collapsed": true
	   },
	   "outputs": [],
"source": [
"clc\n",
"clear \n",
"printf('example 8.6 page number 342\n\n')\n",
"\n",
"//to find the viscosity of solution using given parameters\n",
"\n",
"diameter =10;               //in mm\n",
"density_of_solution = 1750;     //in kg/m3\n",
"density_of_air = 1.2;           //in kg/m3\n",
"velocity = 0.9;          //in mm/s\n",
"viscosity = (density_of_solution-density_of_air)*9.8*(diameter*10^-3)^2/(18*velocity*10^-3);         //expression for finding viscosity\n",
"\n",
"printf('viscosity of solution = %f Pa-s',viscosity)\n",
"\n",
"\n",
"//checking stoke's region validity\n",
"v=(0.2*viscosity)/(density_of_solution*diameter*10^-3);\n",
"if v>0.9 then printf('\n\nsystem follows stokes law')\n",
"end"
   ]
   }
,
{
		   "cell_type": "markdown",
		   "metadata": {},
		   "source": [
			"## Example 8.7: Flow_rate_calculatio.sce"
		   ]
		  },
  {
"cell_type": "code",
	   "execution_count": null,
	   "metadata": {
	    "collapsed": true
	   },
	   "outputs": [],
"source": [
"clc\n",
"clear \n",
"printf('example 8.7 page number 367\n\n')\n",
"\n",
"//to find the flow rate in an orifice\n",
"density_of_water = 1000;     //in kg/m3\n",
"viscosity = 1*10^-3;         //in Pa-s\n",
"pipe_diameter = 250;         //in mm\n",
"orifice_diameter = 50;       // in mm\n",
"density_of_mercury = 13600;  // in mm\n",
"manometer_height = 242;      //in mm\n",
"\n",
"//calculation\n",
"height_water_equivalent = (density_of_mercury-density_of_water)*(manometer_height*10^-3)/(density_of_water)     //in m\n",
"\n",
"//assuming Re>30000\n",
"Co = 0.61;\n",
"velocity = Co*(2*9.8*height_water_equivalent/(1-(orifice_diameter/pipe_diameter)^4))^0.5;     //in m/s\n",
"\n",
"//checking Reynold's number\n",
"Re = (orifice_diameter*10^-3*velocity*density_of_water)/viscosity;\n",
"printf('reynolds number = %f\nwhich is greater than 30000',Re)\n",
"\n",
"if Re>30000 then printf('\n\nvelocity of water = %f m/s',velocity)\n",
"\n",
"end\n",
"\n",
"rate_of_flow = (3.14*(orifice_diameter*10^-3)^2/4)*velocity*density_of_water;\n",
"printf('\n\nrate of flow = %f litre/s',rate_of_flow)"
   ]
   }
,
{
		   "cell_type": "markdown",
		   "metadata": {},
		   "source": [
			"## Example 8.8: Venturi_meter.sce"
		   ]
		  },
  {
"cell_type": "code",
	   "execution_count": null,
	   "metadata": {
	    "collapsed": true
	   },
	   "outputs": [],
"source": [
"clc\n",
"clear \n",
"printf('example 8.8 page number 368\n\n')\n",
"\n",
"//to find the coefficient of discharge for converging cone\n",
"\n",
"pipe_diameter=0.15;          //in m\n",
"venturi_diameter=0.05;       //in m\n",
"pressure_drop=0.12;           //m of water\n",
"flow_rate=3;                 //in kg/s\n",
"density = 1000;              //in kg/m3\n",
"viscosity = 0.001            //in Pa-s\n",
"\n",
"velocity = ((4/3.14)*flow_rate)/(venturi_diameter^2*density);\n",
"printf('velociy = %f m/s',velocity)\n",
"\n",
"//calculating coefficient of discharge\n",
"Cv=velocity*((1-(venturi_diameter/pipe_diameter)^4)/(2*9.8*pressure_drop))^0.5;\n",
"printf('\n\ncoefficient of discharge = %f',Cv)\n",
"\n",
"//calculating reynold's number\n",
"Re = velocity*(venturi_diameter/pipe_diameter)^2*pipe_diameter*density/viscosity;\n",
"printf('\n\nreynolds No = %f',Re)"
   ]
   }
,
{
		   "cell_type": "markdown",
		   "metadata": {},
		   "source": [
			"## Example 8.9: Venturi_meter.sce"
		   ]
		  },
  {
"cell_type": "code",
	   "execution_count": null,
	   "metadata": {
	    "collapsed": true
	   },
	   "outputs": [],
"source": [
"clc\n",
"clear \n",
"printf('example 8.9 page number 369\n\n')\n",
"\n",
"//to find pA and pB\n",
"//part 1\n",
"\n",
"h1=0.66;       //in m\n",
"h2=0.203;      //in m\n",
"h3=0.305      //in m\n",
"density=1000;  //in kg/m3\n",
"pB=68900;      //in Pa\n",
"s1=0.83;\n",
"s2=13.6;\n",
"disp('part 1')\n",
"pA=pB+(h2*s2-(h1-h3)*s1)*density*9.81;    //in Pa\n",
"printf('\npressure at A = %f Pa\n',pA)\n",
"\n",
"disp('part 2')\n",
"pA1=137800      //in Pa\n",
"pressure=735   //mm Hg\n",
"pB1=pA1-(h2*s2-(h1-h3)*s1)*density*9.81;\n",
"pressure_B=(pB1-pressure*133.3)/9810;        //m of water\n",
"printf('\npressure at B = %f m of water',pressure_B)"
   ]
   }
],
"metadata": {
		  "kernelspec": {
		   "display_name": "Scilab",
		   "language": "scilab",
		   "name": "scilab"
		  },
		  "language_info": {
		   "file_extension": ".sce",
		   "help_links": [
			{
			 "text": "MetaKernel Magics",
			 "url": "https://github.com/calysto/metakernel/blob/master/metakernel/magics/README.md"
			}
		   ],
		   "mimetype": "text/x-octave",
		   "name": "scilab",
		   "version": "0.7.1"
		  }
		 },
		 "nbformat": 4,
		 "nbformat_minor": 0
}
