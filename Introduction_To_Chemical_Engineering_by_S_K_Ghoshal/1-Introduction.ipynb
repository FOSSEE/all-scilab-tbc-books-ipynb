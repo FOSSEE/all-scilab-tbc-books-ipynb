{
"cells": [
 {
		   "cell_type": "markdown",
	   "metadata": {},
	   "source": [
       "# Chapter 1: Introduction"
	   ]
	},
{
		   "cell_type": "markdown",
		   "metadata": {},
		   "source": [
			"## Example 1.10: Flow_relatio.sce"
		   ]
		  },
  {
"cell_type": "code",
	   "execution_count": null,
	   "metadata": {
	    "collapsed": true
	   },
	   "outputs": [],
"source": [
"clc\n",
"clear \n",
"\n",
"printf('example 1.10 page number 33\n')\n",
"\n",
"//to find relation between friction factor and reynold's number\n",
"\n",
"//log f=y, log Re=x, log a=c\n",
"sigma_x=23.393;\n",
"sigma_y=-12.437;\n",
"sigma_x2=91.456\n",
"sigma_xy=-48.554;\n",
"m=((6*sigma_xy)-(sigma_x*sigma_y))/(6*sigma_x2-(sigma_x)^2);\n",
"printf('m = %f \n',m)\n",
"\n",
"c=((sigma_x2*sigma_y)-(sigma_xy*sigma_x))/(6*sigma_x2-(sigma_x)^2);\n",
"printf('c = %f \n',c)\n",
"\n",
"printf('f=0.084*Re^-0.256')"
   ]
   }
,
{
		   "cell_type": "markdown",
		   "metadata": {},
		   "source": [
			"## Example 1.11: Average_Velocity.sce"
		   ]
		  },
  {
"cell_type": "code",
	   "execution_count": null,
	   "metadata": {
	    "collapsed": true
	   },
	   "outputs": [],
"source": [
"clc\n",
"clear\n",
"printf('example 1.11 page number 35\n\n')\n",
"\n",
"//to find the average velocity\n",
"\n",
"u = [2;1.92;1.68;1.28;0.72;0];\n",
"r = [0;1;2;3;4;5];\n",
"\n",
"z = u.*r;\n",
"plot(r,z)\n",
"title('variation of ur with r')\n",
"xlabel('r')\n",
"ylabel('ur')\n",
"\n",
"//by graphical integration, we get\n",
"u_avg = (2/25)*12.4\n",
"printf('average velocity = %f cm/s\n',u_avg)"
   ]
   }
,
{
		   "cell_type": "markdown",
		   "metadata": {},
		   "source": [
			"## Example 1.12: Velocity_determination.sce"
		   ]
		  },
  {
"cell_type": "code",
	   "execution_count": null,
	   "metadata": {
	    "collapsed": true
	   },
	   "outputs": [],
"source": [
"clc\n",
"clear \n",
"\n",
"printf('example 1.12 page number 37\n')\n",
"\n",
"//to find the average velocity\n",
"printf('using trapezoid rule\n')\n",
"\n",
"n = 6;\n",
"h = (3 - 0)/n;\n",
"I = (h/2)*(0+2*0.97+2*1.78+2*2.25+2*2.22+2*1.52+0);\n",
"u_avg = (2/3^2)*I;\n",
"\n",
"printf('average velocity = %f cm/s\n',u_avg)\n",
"\n",
"disp('Simpsons rule')\n",
"\n",
"n = 6;\n",
"h = 3/n;\n",
"I = (h/3)*(0+4*(0.97+2.25+1.52)+2*(1.78+2.22)+0);\n",
"u_avg = (2/3^2)*I;\n",
"\n",
"printf('average velocity = %f cm/s\n',u_avg)\n",
"\n",
""
   ]
   }
,
{
		   "cell_type": "markdown",
		   "metadata": {},
		   "source": [
			"## Example 1.13: Velocity_determination.sce"
		   ]
		  },
  {
"cell_type": "code",
	   "execution_count": null,
	   "metadata": {
	    "collapsed": true
	   },
	   "outputs": [],
"source": [
"clc\n",
"clear \n",
"\n",
"printf('example 1.13 page number 38\n\n')\n",
"\n",
"//to find the settling velocity as a function of time\n",
"z0 = 30.84;\n",
"z1 = 29.89;\n",
"z2 = 29.10;\n",
"h = 4;\n",
"\n",
"u1_t0 = (-3*z0+4*z1-z2)/(2*h);\n",
"u1_t4 = (-z0+z2)/(2*h);\n",
"u1_t8 = (z0-4*z1+3*z2)/(2*h);\n",
"\n",
"//considering data set for t = 4,8,12 min\n",
"z0 = 29.89;\n",
"z1 = 29.10;\n",
"z2 = 28.30;\n",
"u2_t4 = (-3*z0+4*z1-z2)/(2*h);\n",
"u2_t8 = (-z0+z2)/(2*h);\n",
"u2_t12 = (z0-4*z1+3*z2)/(2*h);\n",
"\n",
"//considering data set for t = 8,12,16 min\n",
"z0 = 29.10;\n",
"z1 = 28.30;\n",
"z2 = 27.50;\n",
"u3_t8 = (-3*z0+4*z1-z2)/(2*h);\n",
"u3_t12 = (-z0+z2)/(2*h);\n",
"u3_t16 = (z0-4*z1+3*z2)/(2*h);\n",
"\n",
"//taking average\n",
"u_t4 = (u1_t4+u2_t4)/2;\n",
"u_t8 = (u1_t8+u2_t8+u3_t8)/3;\n",
"u_t12 = (u2_t12+u3_t12)/2;\n",
"\n",
"printf('u_t0 = %f cm/min\n u_t4 = %f cm/min\n u_t8 = %f cm/min \n u_t12 = %f/n cm/min\n u_t16 =%f/n cm/min ',u1_t0,u_t4,u_t8,u_t12,u3_t16)"
   ]
   }
,
{
		   "cell_type": "markdown",
		   "metadata": {},
		   "source": [
			"## Example 1.14: Dimensional_analysis.sce"
		   ]
		  },
  {
"cell_type": "code",
	   "execution_count": null,
	   "metadata": {
	    "collapsed": true
	   },
	   "outputs": [],
"source": [
"printf('example 1.14 page number 45')\n",
"disp ('this is a theoritical question, book shall be referred for solution')"
   ]
   }
,
{
		   "cell_type": "markdown",
		   "metadata": {},
		   "source": [
			"## Example 1.15: Dimensional_analysis.sce"
		   ]
		  },
  {
"cell_type": "code",
	   "execution_count": null,
	   "metadata": {
	    "collapsed": true
	   },
	   "outputs": [],
"source": [
"printf('example 1.15 page number 46')\n",
"disp ('this is a theoritical question, book shall be referred for solution')"
   ]
   }
,
{
		   "cell_type": "markdown",
		   "metadata": {},
		   "source": [
			"## Example 1.16: Dynamic_similarity.sce"
		   ]
		  },
  {
"cell_type": "code",
	   "execution_count": null,
	   "metadata": {
	    "collapsed": true
	   },
	   "outputs": [],
"source": [
"clc\n",
"clear \n",
"printf('example 1.16 page number 49\n')\n",
"\n",
"//to find the flow rate and pressure drop\n",
"density_water=988     //in kg/m3\n",
"viscosity_water=55*10^-5   //in Ns/m2\n",
"density_air=1.21      //in kg/m3\n",
"viscosity_air=1.83*10^-5   //in Ns/m2\n",
"L=1     //length in m\n",
"\n",
"L1=10*L   //length in m\n",
"Q=0.0133;\n",
"\n",
"Q1=((Q*density_water*viscosity_air*L)/(L1*viscosity_water*density_air))\n",
"\n",
"printf('flow rate = %f cubic meter/s\n',Q1)\n",
"\n",
"//equating euler number\n",
"\n",
"p=9.8067*10^4;     //pressure in pascal\n",
"p1=(p*density_water*Q^2*L^4)/(density_air*Q1^2*L1^4);\n",
"\n",
"printf('pressure drop corresponding to 1kp/square cm = %f kP/square cm',p1/p)"
   ]
   }
,
{
		   "cell_type": "markdown",
		   "metadata": {},
		   "source": [
			"## Example 1.17: Dynamic_similarity.sce"
		   ]
		  },
  {
"cell_type": "code",
	   "execution_count": null,
	   "metadata": {
	    "collapsed": true
	   },
	   "outputs": [],
"source": [
"clc\n",
"clear \n",
"printf('example 1.17 page number 50\n')\n",
"\n",
"//to find the specific gravity of plasstic\n",
"\n",
"L=1       //length of prototype in m\n",
"L1=10*L    //length of model in m\n",
"density_prototype=2.65    //gm/cc\n",
"density_water=1       //gm/cc\n",
"\n",
"density_model=(L^3*(density_prototype-density_water))/(L1^3)+1;\n",
"\n",
"printf('specific gravity of plastic = %f',density_model)"
   ]
   }
,
{
		   "cell_type": "markdown",
		   "metadata": {},
		   "source": [
			"## Example 1.18: Nomographic_chart.sce"
		   ]
		  },
  {
"cell_type": "code",
	   "execution_count": null,
	   "metadata": {
	    "collapsed": true
	   },
	   "outputs": [],
"source": [
"clc\n",
"clear \n",
"printf('example 1.18 page number 53\n\n')\n",
"\n",
"//to find error in actual data and nomographic chat value\n",
"\n",
"//for my\n",
"ly = 8   //in cm\n",
"my = ly/((1/0.25) - (1/0.5));\n",
"lz = 10.15   //in cm\n",
"mz = lz/((1/2.85) - (1/6.76));\n",
"mx = (my*mz)/(my+mz);\n",
"printf('mx = %f cm\n',mx)\n",
"err = ((1-0.9945)/0.9945)*100;\n",
"printf('\nerror = %f \n',err)\n",
"\n",
"x = 2\n",
"y = 0.5:0.5:2.5;\n",
"\n",
"plot(x,y)\n",
"title('nomograph')\n",
"xlabel('x')\n",
"ylabel('y')\n",
"\n",
"x = 3\n",
"y = 0.4:0.2:2;\n",
"plot(x,y)"
   ]
   }
,
{
		   "cell_type": "markdown",
		   "metadata": {},
		   "source": [
			"## Example 1.19: Calculation_using_Nomograph.sce"
		   ]
		  },
  {
"cell_type": "code",
	   "execution_count": null,
	   "metadata": {
	    "collapsed": true
	   },
	   "outputs": [],
"source": [
"clc\n",
"clear \n",
"printf('example 1.19 page number 54\n')\n",
"\n",
"//to find the economic pipe diameter from nomograph\n",
"//from the nomograph,we get the values of w and density\n",
"\n",
"w=450     //in kg/hr\n",
"density=1000   //in kg/m3\n",
"d=16   //in mm\n",
"\n",
"u=(w/density)/(3.14*d^2/4);\n",
"Re=u*density*d/0.001;\n",
"\n",
"if Re>2100 then printf('flow is turbulent and d= %f mm',d)\n",
"else disp ('flow is laminar and this nomograph is not valid')\n",
"end"
   ]
   }
,
{
		   "cell_type": "markdown",
		   "metadata": {},
		   "source": [
			"## Example 1.1: Air_compositio.sce"
		   ]
		  },
  {
"cell_type": "code",
	   "execution_count": null,
	   "metadata": {
	    "collapsed": true
	   },
	   "outputs": [],
"source": [
"clc\n",
"clear \n",
"printf('example 1.1 page number 19\n\n')\n",
"//to find composition of air by weight\n",
"y_oxygen = 0.21       //mole fraction of oxygen\n",
"y_nitrogen = 0.79     //mole fraction of nitrogen\n",
"molar_mass_oxygen = 32\n",
"molar_mass_nitrogen = 28\n",
"\n",
"molar_mass_air = y_oxygen*molar_mass_oxygen+y_nitrogen*molar_mass_nitrogen;\n",
"mass_fraction_oxygen =y_oxygen*molar_mass_oxygen/molar_mass_air;\n",
"mass_fraction_nitrogen = y_nitrogen*molar_mass_nitrogen/molar_mass_air;\n",
"\n",
"printf('mass fraction of oxygen = %f \n\n',mass_fraction_oxygen)\n",
"printf('mass fraction of nitrogen = %f \n\n',mass_fraction_nitrogen)\n",
"\n",
"V1 = 22.4       //in liters\n",
"P1 = 760        //in mm Hg\n",
"P2= 735.56      //in mm Hg\n",
"T1= 273         //in K\n",
"T2 = 298     //in K\n",
"\n",
"V2= (P1*T2*V1)/(P2*T1);\n",
"density = molar_mass_air/V2;\n",
"\n",
"printf('density = %f gm/l',density)"
   ]
   }
,
{
		   "cell_type": "markdown",
		   "metadata": {},
		   "source": [
			"## Example 1.2: Volume_calculatio.sce"
		   ]
		  },
  {
"cell_type": "code",
	   "execution_count": null,
	   "metadata": {
	    "collapsed": true
	   },
	   "outputs": [],
"source": [
"clc\n",
"clear \n",
"printf('example 1.2 page number 20\n\n')\n",
"//find the volume occupied by propane\n",
"\n",
"mass_propane=14.2    //in kg\n",
"molar_mass=44       //in kg\n",
"moles=(mass_propane*1000)/molar_mass;\n",
"volume=22.4*moles;   //in liters\n",
"\n",
"printf('volume = %d liters\n\n',volume)"
   ]
   }
,
{
		   "cell_type": "markdown",
		   "metadata": {},
		   "source": [
			"## Example 1.3: Gas_Compositio.sce"
		   ]
		  },
  {
"cell_type": "code",
	   "execution_count": null,
	   "metadata": {
	    "collapsed": true
	   },
	   "outputs": [],
"source": [
"clc\n",
"clear \n",
"printf('example 1.3 page number 20\n\n')\n",
"//to find the average weight, weight composition, gas volume in absence of SO2\n",
"y_CO2 = 0.25;\n",
"y_CO = 0.002;\n",
"y_SO2 = 0.012;\n",
"y_N2 = 0.680;\n",
"y_O2 = 0.056;\n",
"\n",
"Mm = y_CO2*44+y_CO*28+y_SO2*64+y_N2*28+y_O2*32;\n",
"printf ('\n molar mass = %d \n',Mm)\n",
"\n",
"printf('\n finding weight composition \n')\n",
"w_CO2 = y_CO2*44*100/Mm;\n",
"printf ('\n weight_CO2 = %f \n\n',w_CO2)\n",
"w_CO = y_CO*28*100/Mm;\n",
"printf ('weight_CO = %f \n\n',w_CO)\n",
"w_SO2 = y_SO2*64*100/Mm;\n",
"printf ('weight_SO2 = %f \n\n', w_SO2)\n",
"w_N2 = y_N2*28*100/Mm;\n",
"printf ('weight_N2 = %f \n\n', w_N2)\n",
"w_O2 = y_O2*32*100/Mm;\n",
"printf ('weight_O2 = %f \n\n', w_O2)\n",
"\n",
"printf('if SO2 is removed \n\n')\n",
"v_CO2 = 25;\n",
"v_CO = 0.2;\n",
"v_N2 = 68.0;\n",
"v_O2 = 5.6;\n",
"v = v_CO2+v_CO+v_N2+v_O2;\n",
"v1_CO2 = (v_CO2*100/98.8);\n",
"\n",
"printf ('volume_CO2 = %f \n\n', v1_CO2)\n",
"v1_CO = (v_CO*100/98.8);\n",
"printf ('volume_CO = %f \n\n',v1_CO)\n",
"v1_N2 = (v_N2*100/98.8);\n",
"printf ('volume_N2 = %f \n\n',v1_N2)\n",
"v1_O2 = (v_O2*100/98.8);\n",
"printf ('volume_O2 = %f \n\n',v1_O2 )"
   ]
   }
,
{
		   "cell_type": "markdown",
		   "metadata": {},
		   "source": [
			"## Example 1.4: Volume_calculatio.sce"
		   ]
		  },
  {
"cell_type": "code",
	   "execution_count": null,
	   "metadata": {
	    "collapsed": true
	   },
	   "outputs": [],
"source": [
"clc\n",
"clear \n",
"printf('example 1.4 page number 24\n\n')\n",
"//to find volume of NH3 dissolvable in water\n",
"\n",
"p=1    //atm\n",
"H=2.7   //atm\n",
"x=p/H;\n",
"\n",
"mole_ratio = (x)/(1-x);\n",
"moles_of_water=(100*1000)/18;\n",
"moles_of_NH3=mole_ratio*moles_of_water;\n",
"\n",
"printf('moles of NH3 dissolved = %f\n\n',moles_of_NH3)\n",
"\n",
"volume_NH3=(moles_of_NH3*22.4*293)/273;\n",
"printf('volume of NH3 dissolved = %f liters',volume_NH3)"
   ]
   }
,
{
		   "cell_type": "markdown",
		   "metadata": {},
		   "source": [
			"## Example 1.5: Amount_of_CO2_released.sce"
		   ]
		  },
  {
"cell_type": "code",
	   "execution_count": null,
	   "metadata": {
	    "collapsed": true
	   },
	   "outputs": [],
"source": [
"clc\n",
"clear \n",
"\n",
"printf('example 1.5 page number 24\n\n')\n",
"\n",
"//to calculate amount of CO2 released by water\n",
"p=746    //in mm Hg\n",
"H=1.08*10^6   //in mm Hg, Henry's constant\n",
"\n",
"x= p/H;    //mole fraction of CO2\n",
"X=x*(44/18);   //mass ratio of CO2 in water\n",
"\n",
"initial_CO2 = 0.005;     //kg CO2/kg H20\n",
"G=1000*(initial_CO2-X);\n",
"\n",
"printf('CO2 given up by 1 cubic meter of water = %f kg CO2/cubic meter H20',G)"
   ]
   }
,
{
		   "cell_type": "markdown",
		   "metadata": {},
		   "source": [
			"## Example 1.6: Vapor_pressure.sce"
		   ]
		  },
  {
"cell_type": "code",
	   "execution_count": null,
	   "metadata": {
	    "collapsed": true
	   },
	   "outputs": [],
"source": [
"clc\n",
"clear \n",
"\n",
"printf('example 1.6 page number 27 \n\n')\n",
"//to find vapor pressre of ethyl alchohal\n",
"\n",
"pa1 = 23.6;      //VP of ethyl alchohal at 10 degree C\n",
"pa3=760      //VP of ethyl alchohal at 78.3 degree C in mm Hg\n",
"pb1 = 9.2      //VP of ethyl water at 10 degree C in mm Hg\n",
"pb3=332      //VP of ethyl water at 78.3 degree C in mm Hg\n",
"\n",
"C=(log10(pa1/pa3)/(log10(pb1/pb3)));\n",
"\n",
"pb2=149      //VP of water at 60 degree C in mm Hg\n",
"\n",
"pas=(pb3/pb2);\n",
"pa=C*log10(pas);\n",
"pa2=pa3/(10^pa);\n",
"\n",
"printf('vapor pressure of ethyl alcholoh at 60 degree C = %f mm Hg',pa2)"
   ]
   }
,
{
		   "cell_type": "markdown",
		   "metadata": {},
		   "source": [
			"## Example 1.7: Duhring_Plot_calculations.sce"
		   ]
		  },
  {
"cell_type": "code",
	   "execution_count": null,
	   "metadata": {
	    "collapsed": true
	   },
	   "outputs": [],
"source": [
"clc\n",
"clear \n",
"\n",
"printf('example 1.7 page number 28 \n\n')\n",
"\n",
"//to find vapor pressure using duhring plot\n",
"\n",
"t1 = 41     //in degree C\n",
"t2=59        //in degree C\n",
"theta_1 =83        //in degree C\n",
"theta_2=100        //in degree C\n",
"\n",
"K = (t1-t2)/(theta_1-theta_2);\n",
"t=59+(K*(104.2-100));\n",
"\n",
"printf ('boiling point of SCl2 at 880 Torr = %f degree celcius',t)"
   ]
   }
,
{
		   "cell_type": "markdown",
		   "metadata": {},
		   "source": [
			"## Example 1.8: Vapor_Pressure_of_Mixture.sce"
		   ]
		  },
  {
"cell_type": "code",
	   "execution_count": null,
	   "metadata": {
	    "collapsed": true
	   },
	   "outputs": [],
"source": [
"clc\n",
"clear \n",
"printf('example 1.8 page number 29\n\n')\n",
"//to find the amount of steam released\n",
"\n",
"vp_C6H6 = 520    //in torr\n",
"vp_H2O = 225     //in torr\n",
"mass_water=18\n",
"mass_benzene=78\n",
"\n",
"amount_of_steam = (vp_H2O/vp_C6H6)/(mass_benzene/mass_water);\n",
"\n",
"printf('amount of steam = %f', amount_of_steam)"
   ]
   }
,
{
		   "cell_type": "markdown",
		   "metadata": {},
		   "source": [
			"## Example 1.9: Vapor_pressure.sce"
		   ]
		  },
  {
"cell_type": "code",
	   "execution_count": null,
	   "metadata": {
	    "collapsed": true
	   },
	   "outputs": [],
"source": [
"clc\n",
"clear \n",
"printf('example 1.9 page number 30\n\n')\n",
"\n",
"//to find equilibrium vapor liquid composition\n",
"p0b = 385     //vapor pressue of benzene at 60 degree C in torr\n",
"p0t=140     //vapor pressue of toluene at 60 degree C in torr\n",
"xb=0.4;\n",
"xt=0.6;\n",
"\n",
"pb=p0b*xb;\n",
"pt=p0t*xt;\n",
"P=pb+pt;\n",
"\n",
"printf('total pressure = %f torr\n\n',P)\n",
"\n",
"yb=pb/P;\n",
"yt=pt/P;\n",
"printf('vapor composition of benzene = %f \n vapor composition of toluene = %f\n\n',yb,yt)\n",
"\n",
"//for liquid boiling at 90 degree C and 760 torr, liquid phase composition\n",
"//x=(760-408)/(1013-408);\n",
"(1013*x)+(408*(1-x))==760;\n",
"printf('mole fraction of benzene in liquid mixture = %f \n mole fraction of toluene in liquid mixture= %f',x,1-x)"
   ]
   }
],
"metadata": {
		  "kernelspec": {
		   "display_name": "Scilab",
		   "language": "scilab",
		   "name": "scilab"
		  },
		  "language_info": {
		   "file_extension": ".sce",
		   "help_links": [
			{
			 "text": "MetaKernel Magics",
			 "url": "https://github.com/calysto/metakernel/blob/master/metakernel/magics/README.md"
			}
		   ],
		   "mimetype": "text/x-octave",
		   "name": "scilab",
		   "version": "0.7.1"
		  }
		 },
		 "nbformat": 4,
		 "nbformat_minor": 0
}
