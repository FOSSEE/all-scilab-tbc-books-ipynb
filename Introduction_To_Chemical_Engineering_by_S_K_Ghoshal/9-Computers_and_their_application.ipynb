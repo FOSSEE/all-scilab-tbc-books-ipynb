{
"cells": [
 {
		   "cell_type": "markdown",
	   "metadata": {},
	   "source": [
       "# Chapter 9: Computers and their application"
	   ]
	},
{
		   "cell_type": "markdown",
		   "metadata": {},
		   "source": [
			"## Example 9.1: Coiled_tube_pressure_drop.sce"
		   ]
		  },
  {
"cell_type": "code",
	   "execution_count": null,
	   "metadata": {
	    "collapsed": true
	   },
	   "outputs": [],
"source": [
"clc\n",
"clear\n",
"printf('example 9.1 page number 384\n\n')\n",
"\n",
"//to find the pressure drop in the coil\n",
"\n",
"D = 38*10^-3;    //in m\n",
"U = 1   //in m/s\n",
"density = 998   //in kg/cubic m\n",
"viscosity = 8*10^-4   //in Pa-s\n",
"DC = 1   //in m\n",
"N = 10\n",
"e = 4*10^-6;   //in m\n",
"\n",
"Re = (density*U*D)/viscosity;\n",
"printf ('Reynolds number = %f',Re)\n",
"\n",
"f = (4*log10((e/D)/3.7+(6.81/Re)^0.9))^-2;\n",
"printf('\n\nfriction factor = %f',f);\n",
"\n",
"L = 3.14*DC*N;\n",
"\n",
"delta_Pstr = (2*f*U*density*L)/D;\n",
"printf('\n\npressure drop through straight pipe = %f Pa',delta_Pstr)\n",
"\n",
"S = 1+3.54*(D/DC);\n",
"printf('\n\ncorrection factor = %f',S)\n",
"\n",
"delta_P = S*delta_Pstr\n",
"printf('\n\npressure drop of coil = %f Pa',delta_P)"
   ]
   }
,
{
		   "cell_type": "markdown",
		   "metadata": {},
		   "source": [
			"## Example 9.2: Heat_exchanger_pressure_drop.sce"
		   ]
		  },
  {
"cell_type": "code",
	   "execution_count": null,
	   "metadata": {
	    "collapsed": true
	   },
	   "outputs": [],
"source": [
"clc\n",
"clear\n",
"printf('example 9.2 page number 384\n\n')\n",
"\n",
"//to find the shell side pressure drop in heat exchanger\n",
"\n",
"U = 0.5   //in m/s\n",
"N = 19;\n",
"DT = 0.026   //in m\n",
"L = 2.7   //in m\n",
"DS = 0.2   //in m\n",
"e = 0.0002   //in m\n",
"density = 836  //in kg/cu m\n",
"viscosity = 0.00032   //in Pa s\n",
"Pr = 6.5;\n",
"Prw = 7.6;\n",
"\n",
"\n",
"HYDIA = (DS^2-N*DT^2)/(DS+N*DT);\n",
"\n",
"Re = HYDIA*U*density/viscosity;\n",
"printf ('Reynolds number = %f',Re)\n",
"\n",
"f = (4*log10((e/HYDIA)/3.7+(6.81/Re)^0.9))^-2;\n",
"printf('\n\nfriction factor = %f',f);\n",
"\n",
"L = 3.14*DT*N;\n",
"\n",
"delta_Pstr = (2*f*U*density*L)/HYDIA;\n",
"printf('\n\npressure drop through straight pipe = %f Pa',delta_Pstr)\n",
"\n",
"S = (Prw/Pr)^0.33;\n",
"printf('\n\ncorrection factor = %f',S)\n",
"\n",
"delta_P = S*delta_Pstr\n",
"printf('\n\npressure drop of coil = %f Pa',delta_P)"
   ]
   }
,
{
		   "cell_type": "markdown",
		   "metadata": {},
		   "source": [
			"## Example 9.3: Heat_exchanger_area.sce"
		   ]
		  },
  {
"cell_type": "code",
	   "execution_count": null,
	   "metadata": {
	    "collapsed": true
	   },
	   "outputs": [],
"source": [
"clc\n",
"clear\n",
"printf('example 9.3 page number 385\n\n')\n",
"\n",
"MH = 10   //in kg/s\n",
"MC = 12.5  //in kg/s\n",
"CPH = 4.2   //in kJ/kg\n",
"CPC = 4.2   //in kJ/kg\n",
"THI = 353   //in K\n",
"THO = 333   //in K\n",
"TCI = 300   //in K\n",
"U = 1.8    //in kW/sq m K\n",
"\n",
"Q = MH*CPH*(THI-THO);\n",
"printf('heat load = %f J',Q)\n",
"\n",
"TCO = Q/(MC*CPC)+TCI;\n",
"printf('\n\ncold fluid outlet temperature = %f K',TCO)\n",
"\n",
"//for co current flow\n",
"\n",
"DT1 = THI-TCO;\n",
"DT2 = THO-TCO;\n",
"\n",
"LMTD = (DT1-DT2)/log(DT1/DT2);\n",
"\n",
"A = Q/(U*LMTD);\n",
"printf('\n\nfor co current flow, area = %f sq m',A);\n",
"\n",
"//for counter current flow\n",
"\n",
"DT1 = THI-TCO;\n",
"DT2 = THO-TCI;\n",
"\n",
"LMTD = (DT1-DT2)/log(DT1/DT2);\n",
"\n",
"A = Q/(U*LMTD);\n",
"printf('\n\nfor counter current flow, area = %f sq m',A);"
   ]
   }
,
{
		   "cell_type": "markdown",
		   "metadata": {},
		   "source": [
			"## Example 9.4: Batch_distillatio.sce"
		   ]
		  },
  {
"cell_type": "code",
	   "execution_count": null,
	   "metadata": {
	    "collapsed": true
	   },
	   "outputs": [],
"source": [
"clc\n",
"clear\n",
"printf('example 9.4 page number 387\n\n')\n",
"\n",
"printf('this is a theoretical question, book shall be referred for solution')"
   ]
   }
,
{
		   "cell_type": "markdown",
		   "metadata": {},
		   "source": [
			"## Example 9.5: Gas_mixture_exit_temperature.sce"
		   ]
		  },
  {
"cell_type": "code",
	   "execution_count": null,
	   "metadata": {
	    "collapsed": true
	   },
	   "outputs": [],
"source": [
"clc\n",
"clear\n",
"printf('example 9.5 page number 392\n\n')\n",
"\n",
"printf('this is a theoretical question, book shall be referred for solution')"
   ]
   }
,
{
		   "cell_type": "markdown",
		   "metadata": {},
		   "source": [
			"## Example 9.6: Friction_factor_calculation.sce"
		   ]
		  },
  {
"cell_type": "code",
	   "execution_count": null,
	   "metadata": {
	    "collapsed": true
	   },
	   "outputs": [],
"source": [
"clc\n",
"clear\n",
"printf('example 9.6 page number 395\n\n')\n",
"\n",
"printf('this is a theoritical problem, book shall be referred for solution')"
   ]
   }
],
"metadata": {
		  "kernelspec": {
		   "display_name": "Scilab",
		   "language": "scilab",
		   "name": "scilab"
		  },
		  "language_info": {
		   "file_extension": ".sce",
		   "help_links": [
			{
			 "text": "MetaKernel Magics",
			 "url": "https://github.com/calysto/metakernel/blob/master/metakernel/magics/README.md"
			}
		   ],
		   "mimetype": "text/x-octave",
		   "name": "scilab",
		   "version": "0.7.1"
		  }
		 },
		 "nbformat": 4,
		 "nbformat_minor": 0
}
