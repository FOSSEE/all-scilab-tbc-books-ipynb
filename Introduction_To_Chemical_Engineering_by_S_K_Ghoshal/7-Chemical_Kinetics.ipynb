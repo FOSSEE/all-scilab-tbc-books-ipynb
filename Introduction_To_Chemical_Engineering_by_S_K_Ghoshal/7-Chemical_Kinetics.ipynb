{
"cells": [
 {
		   "cell_type": "markdown",
	   "metadata": {},
	   "source": [
       "# Chapter 7: Chemical Kinetics"
	   ]
	},
{
		   "cell_type": "markdown",
		   "metadata": {},
		   "source": [
			"## Example 7.10: Equilibrium_conversion.sce"
		   ]
		  },
  {
"cell_type": "code",
	   "execution_count": null,
	   "metadata": {
	    "collapsed": true
	   },
	   "outputs": [],
"source": [
"clc\n",
"clear \n",
"printf('example 7.10 page number 316\n\n')\n",
"\n",
"//to find the % transformation\n",
"moles_A = 3;\n",
"moles_B = 5;\n",
"K = 1;\n",
"\n",
"function[f] = F(x)\n",
"    f = 15-8*x;\n",
"endfunction\n",
"\n",
"//initial guess\n",
"x = 10;\n",
"y = fsolve(x,F);\n",
"printf('amount of A transformed = %f percent',y*(100/3))\n",
""
   ]
   }
,
{
		   "cell_type": "markdown",
		   "metadata": {},
		   "source": [
			"## Example 7.11: Equilibrium_conversion.sce"
		   ]
		  },
  {
"cell_type": "code",
	   "execution_count": null,
	   "metadata": {
	    "collapsed": true
	   },
	   "outputs": [],
"source": [
"clc\n",
"clear \n",
"printf('example 7.11 page number 316\n\n')\n",
"\n",
"//to find the product concentration\n",
"printf('this is a theoritical question, book shall be referred for solution')"
   ]
   }
,
{
		   "cell_type": "markdown",
		   "metadata": {},
		   "source": [
			"## Example 7.12: Concentration_calculation.sce"
		   ]
		  },
  {
"cell_type": "code",
	   "execution_count": null,
	   "metadata": {
	    "collapsed": true
	   },
	   "outputs": [],
"source": [
"clc\n",
"clear \n",
"printf('example 7.11 page number 316\n\n')\n",
"\n",
"//to find the initial conc of A and B\n",
"Cp = 0.02;\n",
"Cq = 0.02;\n",
"K = 4*10^-2;\n",
"Cb = 0.05;\n",
"Cb_i = Cb+Cp;\n",
"a = (Cp*Cq)/(K*Cb);\n",
"funcprot(0)\n",
"function[f] = F(x,a)\n",
"    f = x-0.02-a;\n",
"endfunction\n",
"\n",
"//initial guess\n",
"x = 10;\n",
"y = fsolve(x,F);\n",
"printf('conc of A= %f mol/l',y)\n",
"printf('\n\nconc of B= %f mol/l',Cb_i)"
   ]
   }
,
{
		   "cell_type": "markdown",
		   "metadata": {},
		   "source": [
			"## Example 7.13: Equilibrium_conversion.sce"
		   ]
		  },
  {
"cell_type": "code",
	   "execution_count": null,
	   "metadata": {
	    "collapsed": true
	   },
	   "outputs": [],
"source": [
"clc\n",
"clear \n",
"printf('example 7.11 page number 316\n\n')\n",
"\n",
"//to find the % transformation\n",
"\n",
"moles_A = 0.02;\n",
"K = 1;\n",
"\n",
"//part 1\n",
"moles_B = 0.02;\n",
"function[f] = F(x)\n",
"    f = moles_A*moles_B-(moles_A+moles_B)*x;\n",
"endfunction\n",
"\n",
"//initial guess\n",
"x = 10;\n",
"y = fsolve(x,F);\n",
"printf('amount of A transformed = %f percent',y*(100/0.02))\n",
"\n",
"//part 2\n",
"moles_B = 0.1;\n",
"y = fsolve(x,F);\n",
"printf('\n\namount of A transformed = %f percent',y*(100/0.02))\n",
"\n",
"//part 1\n",
"moles_B = 0.2;\n",
"y = fsolve(x,F);\n",
"printf('\n\namount of A transformed = %f percent',y*(100/0.02))\n",
""
   ]
   }
,
{
		   "cell_type": "markdown",
		   "metadata": {},
		   "source": [
			"## Example 7.14: Equilibrium_shifts.sce"
		   ]
		  },
  {
"cell_type": "code",
	   "execution_count": null,
	   "metadata": {
	    "collapsed": true
	   },
	   "outputs": [],
"source": [
"clc\n",
"clear \n",
"printf('example 7.14 page number 317\n\n')\n",
"\n",
"//to find the initial concentration and shift in equilibrium\n",
"\n",
"Ce_N2 = 3;   //equilibrium conc of N2\n",
"Ce_H2 = 9;   //equilibrium conc of H2\n",
"Ce_NH3 = 4;  //equilibrium conc oh NH3\n",
"C_N2 = Ce_N2 + 0.5*Ce_NH3;\n",
"C_H2 = Ce_H2 + 1.5*Ce_NH3;\n",
"\n",
"printf('concentration of N2 = %f mol/l\nconcentration of H2 = %f mol/l',C_N2,C_H2)\n",
"printf('\n\nsecond part is theoritical, book shall be referred for solution')\n",
"\n",
"n_H2 = 3;   //stotiometric coefficient\n",
"n_N2 = 1;   //stotiometric coefficient\n",
"n_NH3= 2;   //stotiometric coefficient\n",
"delta_n = n_H2+n_N2-n_NH3;\n",
"if delta_n > 0 then printf ('\n\ndelta_n =%f\nsince delta_n is greater than 0,equilibrium will shift to right with increase in volume',delta_n)\n",
"end"
   ]
   }
,
{
		   "cell_type": "markdown",
		   "metadata": {},
		   "source": [
			"## Example 7.15: Rate_equatio.sce"
		   ]
		  },
  {
"cell_type": "code",
	   "execution_count": null,
	   "metadata": {
	    "collapsed": true
	   },
	   "outputs": [],
"source": [
"clc\n",
"//example 7.15\n",
"//to find the rate equation\n",
"t = [0;5;10;15;20;25]\n",
"C_A = [25;18.2;13.2;9.6;7;5.1]\n",
"\n",
"//integral method of rate determination\n",
"s = 0;\n",
"for i = 2:6\n",
"    k(i) = (1/t(i))*log(25/C_A(i))\n",
"    //disp (k(i),'k values for various conc.')\n",
"    s = s+k(i)\n",
"end\n",
"\n",
"printf('average value of k = %f',s/5)\n",
"disp ('ra =- 0.06367*CA','since its a first order reaction,')\n",
"\n",
"subplot(221) \n",
"plot(t,C_A)\n",
"xlabel('time')\n",
"ylabel('concentration')\n",
"title('integral method')\n",
"\n",
"//differential method of rate determination\n",
"ra = [-1.16;-0.83;-0.60;-0.43];\n",
"C_A = [18.2;13.2;9.6;7];\n",
"\n",
"subplot(222) \n",
"plot(ra,C_A)\n",
"xlabel('Concentration')\n",
"ylabel('-ra')\n",
"title('differential method')\n",
"\n",
"printf('\n\nrate from differential method = -0.064*CA')"
   ]
   }
,
{
		   "cell_type": "markdown",
		   "metadata": {},
		   "source": [
			"## Example 7.16: Rate_of_reactio.sce"
		   ]
		  },
  {
"cell_type": "code",
	   "execution_count": null,
	   "metadata": {
	    "collapsed": true
	   },
	   "outputs": [],
"source": [
"clc\n",
"clear \n",
"//example 7.16\n",
"//to find the rate of reaction\n",
"E = 75200    //in J/mol\n",
"E1 = 50100   //in J/mol\n",
"R = 8.314    //in J/mol K\n",
"T = 298   //in K\n",
"ratio = exp((E1-E)/(R*T));\n",
"rate_increase = ratio^-1\n",
"disp ('times',rate_increase,'increase in rate of reaction =')"
   ]
   }
,
{
		   "cell_type": "markdown",
		   "metadata": {},
		   "source": [
			"## Example 7.1: Constant_volume_reaction.sce"
		   ]
		  },
  {
"cell_type": "code",
	   "execution_count": null,
	   "metadata": {
	    "collapsed": true
	   },
	   "outputs": [],
"source": [
"clc\n",
"clear \n",
"printf('example 7.1 page number 305\n\n')\n",
"\n",
"printf('it is a theoritical problem, book shall be referred for solution')"
   ]
   }
,
{
		   "cell_type": "markdown",
		   "metadata": {},
		   "source": [
			"## Example 7.2: Rate_of_reactio.sce"
		   ]
		  },
  {
"cell_type": "code",
	   "execution_count": null,
	   "metadata": {
	    "collapsed": true
	   },
	   "outputs": [],
"source": [
"clc\n",
"clear\n",
"printf('example 7.2 page number 306\n\n')\n",
"printf('it is a theoritical problem, book shall be referred for solution')"
   ]
   }
,
{
		   "cell_type": "markdown",
		   "metadata": {},
		   "source": [
			"## Example 7.3: Rate_of_reactio.sce"
		   ]
		  },
  {
"cell_type": "code",
	   "execution_count": null,
	   "metadata": {
	    "collapsed": true
	   },
	   "outputs": [],
"source": [
"clc\n",
"clear\n",
"printf('example 7.3 page number 305\n\n')\n",
"\n",
"//to find the change on rate of reaction\n",
"//part 1\n",
"//rate equation r = kC_NO^2*C_O2\n",
"//if pressure increases 3 times\n",
"\n",
"r = 3^2*3;   //according to the rate reaction\n",
"printf('reaction reate will be increased by with 3 times increase in pressure = %f times',r)\n",
"\n",
"//part 2\n",
"r = 3^2*3;   //according to the rate reaction\n",
"printf('\n\nreaction reate will be increased by with 3 times decrease in volume = %f times',r)\n",
"\n",
"r = 3^2;   //according to the rate reaction\n",
"printf('\n\nreaction reate will be increased by with 3 times increase in conc of NO = %f times',r)"
   ]
   }
,
{
		   "cell_type": "markdown",
		   "metadata": {},
		   "source": [
			"## Example 7.4: Order_of_reactio.sce"
		   ]
		  },
  {
"cell_type": "code",
	   "execution_count": null,
	   "metadata": {
	    "collapsed": true
	   },
	   "outputs": [],
"source": [
"clc\n",
"clear\n",
"printf('example 7.4 page number 308\n\n')\n",
"\n",
"printf('it is a theoritical problem, book shall be referred for solution')"
   ]
   }
,
{
		   "cell_type": "markdown",
		   "metadata": {},
		   "source": [
			"## Example 7.5: Rate_Expressio.sce"
		   ]
		  },
  {
"cell_type": "code",
	   "execution_count": null,
	   "metadata": {
	    "collapsed": true
	   },
	   "outputs": [],
"source": [
"clc\n",
"clear\n",
"printf('example 7.5 page number 308\n\n')\n",
"\n",
"printf('it is a theoritical problem, book shall be referred for solution')"
   ]
   }
,
{
		   "cell_type": "markdown",
		   "metadata": {},
		   "source": [
			"## Example 7.6: Volume_function.sce"
		   ]
		  },
  {
"cell_type": "code",
	   "execution_count": null,
	   "metadata": {
	    "collapsed": true
	   },
	   "outputs": [],
"source": [
"clc\n",
"clear\n",
"printf('example 7.6 page number 308\n\n')\n",
"\n",
"printf('it is a theoritical problem, book shall be referred for solution')"
   ]
   }
,
{
		   "cell_type": "markdown",
		   "metadata": {},
		   "source": [
			"## Example 7.7: Pressure_time_relatio.sce"
		   ]
		  },
  {
"cell_type": "code",
	   "execution_count": null,
	   "metadata": {
	    "collapsed": true
	   },
	   "outputs": [],
"source": [
"clc\n",
"clear\n",
"printf('example 7.7 page number 309\n\n')\n",
"\n",
"printf('it is a theoritical problem, book shall be referred for solution')"
   ]
   }
,
{
		   "cell_type": "markdown",
		   "metadata": {},
		   "source": [
			"## Example 7.8: Entropy_changes.sce"
		   ]
		  },
  {
"cell_type": "code",
	   "execution_count": null,
	   "metadata": {
	    "collapsed": true
	   },
	   "outputs": [],
"source": [
"clc\n",
"clear\n",
"printf('example 7.8 page number 312\n\n')\n",
"\n",
"printf('it is a theoritical problem, book shall be referred for solution')"
   ]
   }
,
{
		   "cell_type": "markdown",
		   "metadata": {},
		   "source": [
			"## Example 7.9: Hydrocarbon_cracking.sce"
		   ]
		  },
  {
"cell_type": "code",
	   "execution_count": null,
	   "metadata": {
	    "collapsed": true
	   },
	   "outputs": [],
"source": [
"clc\n",
"clear\n",
"printf('example 7.9 page number 312\n\n')\n",
"\n",
"printf('this is a theoretical question, book shall be referred for solution')"
   ]
   }
],
"metadata": {
		  "kernelspec": {
		   "display_name": "Scilab",
		   "language": "scilab",
		   "name": "scilab"
		  },
		  "language_info": {
		   "file_extension": ".sce",
		   "help_links": [
			{
			 "text": "MetaKernel Magics",
			 "url": "https://github.com/calysto/metakernel/blob/master/metakernel/magics/README.md"
			}
		   ],
		   "mimetype": "text/x-octave",
		   "name": "scilab",
		   "version": "0.7.1"
		  }
		 },
		 "nbformat": 4,
		 "nbformat_minor": 0
}
