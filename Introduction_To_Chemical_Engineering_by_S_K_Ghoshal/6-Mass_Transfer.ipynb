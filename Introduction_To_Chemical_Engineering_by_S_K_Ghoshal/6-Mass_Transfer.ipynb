{
"cells": [
 {
		   "cell_type": "markdown",
	   "metadata": {},
	   "source": [
       "# Chapter 6: Mass Transfer"
	   ]
	},
{
		   "cell_type": "markdown",
		   "metadata": {},
		   "source": [
			"## Example 6.10: Equilibrium_Compositio.sce"
		   ]
		  },
  {
"cell_type": "code",
	   "execution_count": null,
	   "metadata": {
	    "collapsed": true
	   },
	   "outputs": [],
"source": [
"clc\n",
"clear \n",
"printf('example 6.10 page number 231\n\n')\n",
"\n",
"// to find the equilibrium composition\n",
"P_M = 53.32   //kPa\n",
"P_W = 12.33   //in kpA\n",
"P = 40  //IN K pA\n",
"x = (P - P_W)/(P_M-P_W);\n",
"\n",
"printf('liquid phase composition = %f',x)\n",
"\n",
"y = P_M*x/P;\n",
"printf('\n\nvapor phase composition = %f',y)"
   ]
   }
,
{
		   "cell_type": "markdown",
		   "metadata": {},
		   "source": [
			"## Example 6.11: Vapor_Liquid_Equilibrium.sce"
		   ]
		  },
  {
"cell_type": "code",
	   "execution_count": null,
	   "metadata": {
	    "collapsed": true
	   },
	   "outputs": [],
"source": [
"clc\n",
"clear \n",
"printf('example 6.11 page number 232\n\n')\n",
"\n",
"printf('this is a theoritical question, book shall be referred for solution')"
   ]
   }
,
{
		   "cell_type": "markdown",
		   "metadata": {},
		   "source": [
			"## Example 6.12: Distillation_Column.sce"
		   ]
		  },
  {
"cell_type": "code",
	   "execution_count": null,
	   "metadata": {
	    "collapsed": true
	   },
	   "outputs": [],
"source": [
"clc\n",
"clear \n",
"printf('example 6.12 page number 231\n\n')\n",
"\n",
"//to find the top and bottom composition\n",
"x = [1;0.69;0.40;0.192;0.045;0];\n",
"y = [1;0.932;0.78;0.538;0.1775;0];\n",
"plot(x,y)\n",
"xlabel('x')\n",
"ylabel('y')\n",
"title('distillation curve')\n",
"x = 0:0.1:1;\n",
"y = 0:0.1:1;\n",
"plot(x,y)\n",
"x = [0.5,0.31];\n",
"y = [0.5,0.7];\n",
"plot (x,y)\n",
"Z=0.5;\n",
"y_D=0.69;\n",
"x_W=0.31;\n",
"\n",
"\n",
"printf('composition of top product = %f mole percent of hexane',y_D*100)\n",
"printf('\n\ncomposition of bottom product = %f mole percent of hexane',x_W*100)"
   ]
   }
,
{
		   "cell_type": "markdown",
		   "metadata": {},
		   "source": [
			"## Example 6.13: Distillatio.sce"
		   ]
		  },
  {
"cell_type": "code",
	   "execution_count": null,
	   "metadata": {
	    "collapsed": true
	   },
	   "outputs": [],
"source": [
"clc\n",
"clear \n",
"printf('example 6.13 page number 237\n\n')\n",
"\n",
"//to find the composite distillate and residue\n",
"\n",
"F = 100   //moles\n",
"xf = 0.4;\n",
"D = 60   //moles\n",
"W = 40   //moles\n",
"\n",
"x = 0.2:0.05:0.45;\n",
"for i =1:((0.45-0.2)/0.05)+1\n",
"\n",
"y(i) = 2.16*x(i)/(1+1.16*x(i));\n",
"\n",
"\n",
"z(i) = (y(i)-x(i))^-1;\n",
"\n",
"end\n",
"\n",
"plot (x,z'/10)\n",
"title('Batch Distillation Curve')\n",
"xlabel('x')\n",
"ylabel('y')\n",
"xw = 0.22;   //from the graph\n",
"yd = (F*xf-W*xw)/D;\n",
"\n",
"printf('composition of distillate = %f',yd)\n",
"printf('\n\ncomposition of residue = %f',xw)"
   ]
   }
,
{
		   "cell_type": "markdown",
		   "metadata": {},
		   "source": [
			"## Example 6.14: Steam_Distillatio.sce"
		   ]
		  },
  {
"cell_type": "code",
	   "execution_count": null,
	   "metadata": {
	    "collapsed": true
	   },
	   "outputs": [],
"source": [
"clc\n",
"clear \n",
"printf('example 6.14 page number 238\n\n')\n",
"\n",
"printf('this is a theoritical question and solution can be referred from the book')"
   ]
   }
,
{
		   "cell_type": "markdown",
		   "metadata": {},
		   "source": [
			"## Example 6.15: Mcabe_Thiele_Method.sce"
		   ]
		  },
  {
"cell_type": "code",
	   "execution_count": null,
	   "metadata": {
	    "collapsed": true
	   },
	   "outputs": [],
"source": [
"clc\n",
"clear \n",
"printf('example 6.15 page number 249\n\n')\n",
"\n",
"//to find the top and bottom product composition\n",
"\n",
"//part 1\n",
"x=0.4;\n",
"y=0.8;\n",
"x_D=y;\n",
"x_W=0.135;   //bottom concentration\n",
"D=(100*x-100*x_W)/(y-x_W);     //distillate amount\n",
"printf('amount of distillate =%f moles/h',D)\n",
"\n",
"//part 2\n",
"alpha=6;   //relative volatility\n",
"x_R=y/(y+(alpha*(1-y)));    //liquid leaving partial condensor\n",
"printf('\n\nliquid leaving partial condenser = %f',x_R)\n",
"\n",
"y1=(1/3)*y+(2/3)*x;\n",
"x1=y1/(y1+(alpha*(1-y1)));\n",
"y_W = (1/3)*x_D+(2/3)*x1;\n",
"x_W=y_W/(y_W+(alpha*(1-y_W)));\n",
"D=(100*(x-x_W))/(y-x_W);\n",
"\n",
"printf('\n\namount of distillate = %f moles/h',D)"
   ]
   }
,
{
		   "cell_type": "markdown",
		   "metadata": {},
		   "source": [
			"## Example 6.16: Liquid_liquid_extractio.sce"
		   ]
		  },
  {
"cell_type": "code",
	   "execution_count": null,
	   "metadata": {
	    "collapsed": true
	   },
	   "outputs": [],
"source": [
"clc\n",
"clear \n",
"printf('example 6.16 page number 264\n\n')\n",
"\n",
"//to find the percentage extraction of nicotine\n",
"x=0.01;    //% of nicotine\n",
"X0 = x/(1-x);\n",
"w=150    //weight of nicotine water solution\n",
"A0=w*(1-X0);\n",
"B0=250;    //kg keroscene\n",
"X1 = A0*X0/(A0+B0*0.798);\n",
"printf('final concentration of nicotine = %f',X1)\n",
"\n",
"c=A0*(X0-X1);\n",
"printf('\n\namount of nicotine removed = %f kg',c)\n",
"\n",
"percentage = (c*100)/(A0*x);\n",
"printf('\n\npercentage recovery = %f percent',percentage)"
   ]
   }
,
{
		   "cell_type": "markdown",
		   "metadata": {},
		   "source": [
			"## Example 6.17: Liquid_liquid_extractio.sce"
		   ]
		  },
  {
"cell_type": "code",
	   "execution_count": null,
	   "metadata": {
	    "collapsed": true
	   },
	   "outputs": [],
"source": [
"clc\n",
"clear \n",
"printf('example 6.17 page number 264\n\n')\n",
"\n",
"//to find the number of stages\n",
"x=0.01   //mole fraction of nicotine\n",
"yN = 0.0006;   //mole fraction in solvent\n",
"xN = 0.001;     //final mole fraction in water\n",
"\n",
"X0=x/(1-x);    //in kg nicotine/kg water\n",
"YN =yN/(1-yN);   //in kg nicotine/kg keroscene\n",
"XN = xN/(1-xN);\n",
"A0=100*(1-X0);    //kgwater/h\n",
"B0=150*(1-YN);   //in kg kerosene/h\n",
"\n",
"Y1=((A0*(X0-XN))/B0)+YN;    //in kg nicotine/kg kerosene\n",
"printf('Y1 = %f kg nicotine/kg kerosene',Y1)\n",
"\n",
"//for graph refer to the book\n",
"number_of_stages = 8.4;\n",
"printf('\n\nnumnber of stages = %f',number_of_stages)"
   ]
   }
,
{
		   "cell_type": "markdown",
		   "metadata": {},
		   "source": [
			"## Example 6.18: Humidity_calculatio.sce"
		   ]
		  },
  {
"cell_type": "code",
	   "execution_count": null,
	   "metadata": {
	    "collapsed": true
	   },
	   "outputs": [],
"source": [
"clc\n",
"clear \n",
"printf('example 6.18 page number 274\n\n')\n",
"\n",
"//to calculate the humidity\n",
"P = 101.3    //in kPa\n",
"pA = 3.74    //in kPa\n",
"p_AS = 7.415  //in kPa\n",
"H = (18.02/28.97)*(pA/(P-pA));\n",
"printf('humidity = %f kg H2O/kg air',H)\n",
"\n",
"Hs = (18.02/28.97)*(p_AS/(P-p_AS));\n",
"printf('\n\nSaturated humidity = %f kg H2O/kg air',Hs)\n",
"\n",
"%_humidity = 100*(H/Hs);\n",
"printf('\n\npercentage humidity = %f percent',%_humidity)\n",
"\n",
"relative_humidity = 100*(pA/p_AS);\n",
"printf('\n\npercentage relative humidity = %f percent',relative_humidity)"
   ]
   }
,
{
		   "cell_type": "markdown",
		   "metadata": {},
		   "source": [
			"## Example 6.19: Drying_operation.sce"
		   ]
		  },
  {
"cell_type": "code",
	   "execution_count": null,
	   "metadata": {
	    "collapsed": true
	   },
	   "outputs": [],
"source": [
"clc\n",
"clear \n",
"printf('example 6.17 page number 264\n\n')\n",
"\n",
"//to find the air flow rate and outlet humidity\n",
"S=425.6   //in kg/h\n",
"X1 = 0.035   //in kgwater/kg dry solid\n",
"t_s1=25   //in degree C\n",
"X2 = 0.017   //in kg H2O/kg dry air\n",
"t_s2=60   //in degree C\n",
"H2 = 0.0175    //in kg H2O/kg dry air\n",
"t_G2 = 84.2   //in degree C\n",
"t_G1= 32.8   //in degree C\n",
"C_pS = 1.465   //in kJ/kg dry solid\n",
"C_pA = 4.187   //in kg/ kg H2O K\n",
"\n",
"H_G2=(1.005+1.88*H2)*(t_G2-0)+H2*2501;\n",
"H_S1 = C_pS*(t_s1-0)+X1*C_pA*(t_s1-0);    //in kJ/kg\n",
"H_S2 = C_pS*(t_s2-0)+X2*C_pA*(t_s2-0);   //in kJ/kg\n",
"Q=9300;  //in kJ/h\n",
"\n",
"printf('Latent heat of water at 0C, HG2 = %f kJ/kg dryair',H_G2)\n",
"printf('\n\nEnthalpy of entering solid, HS1 = %f kJ/kg dryair',H_S1)\n",
"printf('\n\nEnthalpy of exit solid, HS2 = %f kJ/kg dryair',H_S2)\n",
"\n",
"//applying GHg2 + SHs1 = GHg1 +SHs2 +Q, we get two linear equations\n",
"//0.0175G+14.17248 = GH1 and 98.194G-29745.398 = 2562.664GH1\n",
"A = [0.0175 -1;98.194 -2562.664];\n",
"b = [-14.17248;29745.398];\n",
"x = A\b;\n",
"G = x(1);\n",
"H1 = x(2)/G;\n",
"printf('\n\nAir flow rate, G = %f kg dryair/hr',G)\n",
"printf('\n\nHumidity, H1 = %f kg dryair/hr',H1)"
   ]
   }
,
{
		   "cell_type": "markdown",
		   "metadata": {},
		   "source": [
			"## Example 6.1: Diffusivity.sce"
		   ]
		  },
  {
"cell_type": "code",
	   "execution_count": null,
	   "metadata": {
	    "collapsed": true
	   },
	   "outputs": [],
"source": [
"clc\n",
"clear \n",
"printf('example 6.1 page number 213\n\n')\n",
"\n",
"printf('This is a theoritical problem and book shall be referred for solution')"
   ]
   }
,
{
		   "cell_type": "markdown",
		   "metadata": {},
		   "source": [
			"## Example 6.20: Crystallizatio.sce"
		   ]
		  },
  {
"cell_type": "code",
	   "execution_count": null,
	   "metadata": {
	    "collapsed": true
	   },
	   "outputs": [],
"source": [
"clc\n",
"clear \n",
"printf('example 6.20 page number 291\n\n')\n",
"\n",
"//to find the crystal yield\n",
"\n",
"M_Na2CO3 = 106\n",
"M_10H2O = 180.2\n",
"M_Na2CO3_10H2O = 286.2;\n",
"w_Na2CO3 = 5000   //in kg\n",
"%_water = 0.05   //% of water evaporated\n",
"\n",
"W = %_water*w_Na2CO3;\n",
"//solving material balance, we have two equations\n",
"//equation 1 -> 0.8230L +0.6296C = 3500\n",
"//equation 2 -> 0.1769L + 0.3703C = 1250\n",
"\n",
"A=[0.8230 0.6296;0.1769 0.3703]\n",
"b = [3500;1250]\n",
"x = A\b;\n",
"L = x(1);\n",
"C = x(2);\n",
"printf('L = %f kg solution',L)\n",
"printf('\n\nC = %f kg of Na2CO3.10H2O crystals',C)"
   ]
   }
,
{
		   "cell_type": "markdown",
		   "metadata": {},
		   "source": [
			"## Example 6.21: Crystallizatio.sce"
		   ]
		  },
  {
"cell_type": "code",
	   "execution_count": null,
	   "metadata": {
	    "collapsed": true
	   },
	   "outputs": [],
"source": [
"clc\n",
"clear \n",
"printf('example 6.21 page number 291\n\n')\n",
"\n",
"//to find the crystal yield\n",
"//from material balance, we have two linear equations\n",
"//1400 = 0.7380L+0.5117C and 600 = 0.2619L+0.4882C\n",
"\n",
"A=[0.7380 0.5117;0.2619 0.4882]\n",
"b = [1400;600]\n",
"x = A\b;\n",
"L = x(1);\n",
"C = x(2);\n",
"printf('L = %f kg solution',L)\n",
"printf('\n\nC = %f kg of MgSO4.7H2O crystals',C)\n",
"\n",
"F = 2000   //in kg/h\n",
"cv = 2.93   //in kJ/kg K\n",
"H1 = F*cv*(330-293);\n",
"printf('\n\nenthalpy of feed = %f kJ',H1)\n",
"\n",
"wt = 246.49   //molar mass MgSO4.7H2O\n",
"heat_soln = -13.31*10^3;   //in kJ/kg mol\n",
"heat = heat_soln/wt;\n",
"heat_crystallization = abs(heat);\n",
"H2 = heat_crystallization*C;   //total heat\n",
"q = -H1-H2;\n",
"printf('\n\nheat absorbed = %f kJ\nthus heat shall be removed',q)"
   ]
   }
,
{
		   "cell_type": "markdown",
		   "metadata": {},
		   "source": [
			"## Example 6.2: Absorptio.sce"
		   ]
		  },
  {
"cell_type": "code",
	   "execution_count": null,
	   "metadata": {
	    "collapsed": true
	   },
	   "outputs": [],
"source": [
"clc\n",
"clear \n",
"printf('example 6.2 page number 214\n\n')\n",
"\n",
"printf('This is a theoritical problem and book shall be referred for solution')"
   ]
   }
,
{
		   "cell_type": "markdown",
		   "metadata": {},
		   "source": [
			"## Example 6.3: Equimolar_counter_diffusion.sce"
		   ]
		  },
  {
"cell_type": "code",
	   "execution_count": null,
	   "metadata": {
	    "collapsed": true
	   },
	   "outputs": [],
"source": [
"clc\n",
"clear \n",
"printf('example 6.3 page number 215\n\n')\n",
"\n",
"//to find the flux and pressure difference\n",
"\n",
"D_AB=6.75*10^-5   //in m2/s\n",
"Z=0.03   //in m\n",
"R=8314\n",
"p_A1=5.5*10^4   //in Pa\n",
"p_A2=1.5*10^4   //in Pa\n",
"T=298   //in K\n",
"\n",
"N_A=D_AB*(p_A1-p_A2)/(R*T*Z);\n",
"printf('flux = %f kmol/sq m s',N_A)\n",
"\n",
"//for partial pressure\n",
"Z=0.02;   //in m\n",
"p_A2=p_A1-((N_A*R*T*Z)/D_AB);\n",
"printf('\n\npressure = %f Pa',p_A2)"
   ]
   }
,
{
		   "cell_type": "markdown",
		   "metadata": {},
		   "source": [
			"## Example 6.4: Resistane_to_diffusion.sce"
		   ]
		  },
  {
"cell_type": "code",
	   "execution_count": null,
	   "metadata": {
	    "collapsed": true
	   },
	   "outputs": [],
"source": [
"clc\n",
"clear \n",
"printf('example 6.4 page number 216\n\n')\n",
"\n",
"//to find the flux of NH3 and equimolar counter diffusion flux\n",
"\n",
"Z=0.15   //in m\n",
"P=1.103*10^5    //in Pa\n",
"p_A1=1.5*10^4    //in Pa\n",
"p_A2=5*10^3    //in Pa\n",
"\n",
"p_B1=P-p_A1;\n",
"p_B2=P-p_A2;\n",
"\n",
"D_AB=2.30*10^-5   //in m2/s\n",
"R=8314\n",
"T=298   //in K\n",
"\n",
"//for non diffusing N2\n",
"p_BM=(p_B2-p_B1)/log (p_B2/p_B1);\n",
"N_A=D_AB*(p_A1-p_A2)*P/(R*T*Z*p_BM);\n",
"printf('flux = %f kmol/sq m s',N_A)\n",
"\n",
"//for diffusing N2\n",
"N_A=D_AB*(p_A1-p_A2)/(R*T*Z);\n",
"printf('\n\nflux = %f kmol/sq m s',N_A)"
   ]
   }
,
{
		   "cell_type": "markdown",
		   "metadata": {},
		   "source": [
			"## Example 6.5: Vapor_diffusio.sce"
		   ]
		  },
  {
"cell_type": "code",
	   "execution_count": null,
	   "metadata": {
	    "collapsed": true
	   },
	   "outputs": [],
"source": [
"clc\n",
"clear \n",
"printf('example 6.5 page number 216\n\n')\n",
"printf('This is a theoritical problem and book shall be referred for solution')"
   ]
   }
,
{
		   "cell_type": "markdown",
		   "metadata": {},
		   "source": [
			"## Example 6.6: Flux_of_HCl.sce"
		   ]
		  },
  {
"cell_type": "code",
	   "execution_count": null,
	   "metadata": {
	    "collapsed": true
	   },
	   "outputs": [],
"source": [
"clc\n",
"clear \n",
"printf('example 6.6 page number 218\n\n')\n",
"\n",
"M_A=36.5    //molar mass of HCl\n",
"M_B=18      //molar masss of water\n",
"w_A1=12;    //weight % of HCL\n",
"w_A2=4      //weight % of HCL\n",
"x_A1=(w_A1/M_A)/((w_A1/M_A)+((100-w_A1)/M_B));\n",
"printf('x_A1 =%f',x_A1)\n",
"\n",
"x_B1=1-x_A1;\n",
"M1=100/((w_A1/M_A)+((100-w_A1)/M_B));\n",
"printf('\n\nmolar mass at point 1 = %f kg/kmol',M1)\n",
"\n",
"//at point 2\n",
"x_A2=(w_A2/M_A)/((w_A2/M_A)+((100-w_A2)/M_B));\n",
"x_B2=1-x_A2;\n",
"M2=100/((w_A2/M_A)+((100-w_A2)/M_B));    //avg molecular weight at point 2\n",
"printf('\n\nmolar mass at point 2 = %f Kg/kmol',M2)\n",
"\n",
"density_1=1060.7;    //in kg/m3\n",
"density_2=1020.15;   //in kg/m3\n",
"C_av=((density_1/M1)+(density_2/M2))/2;\n",
"printf('\n\nC_av = %f kmol/cubic m',C_av)\n",
"\n",
"x_BM=(x_B2-x_B1)/(log (x_B2/x_B1));\n",
"Z=0.004    //in m\n",
"D_AB=2.5*10^-9;\n",
"N_A=(D_AB*C_av*(x_A1-x_A2))/(x_BM*Z);\n",
"printf('\n\nflux = %f kmol/sq m-s',N_A)"
   ]
   }
,
{
		   "cell_type": "markdown",
		   "metadata": {},
		   "source": [
			"## Example 6.7: Vaporizatio.sce"
		   ]
		  },
  {
"cell_type": "code",
	   "execution_count": null,
	   "metadata": {
	    "collapsed": true
	   },
	   "outputs": [],
"source": [
"clc\n",
"clear \n",
"printf('example 6.7 page number 220\n\n')\n",
"\n",
"printf('This is a theoritical problem and book shall be referred for solution')"
   ]
   }
,
{
		   "cell_type": "markdown",
		   "metadata": {},
		   "source": [
			"## Example 6.8: Gas_Absorptio.sce"
		   ]
		  },
  {
"cell_type": "code",
	   "execution_count": null,
	   "metadata": {
	    "collapsed": true
	   },
	   "outputs": [],
"source": [
"clc\n",
"clear \n",
"printf('example 6.8 page number 229\n\n')\n",
"\n",
"//to find the mean driving force and mass transfer area\n",
"\n",
"Gs=700/22.4    //in kmol of dry air/hr\n",
"Ls=1500/18     //in kmol of dry air/hr\n",
"y1=0.05\n",
"Y1=y1/(1-y1);\n",
"Y2=0.02*Y1;\n",
"X2=0\n",
"X1=(Gs/Ls)*(Y1-Y2);\n",
"m=Gs*(Y1-Y2);\n",
"\n",
"//driving force\n",
"delta_Y1=Y1-1.68*X1;\n",
"delta_Y2=Y2-1.68*X2;\n",
"delta_Y=(delta_Y1-delta_Y2)/(log (delta_Y1/delta_Y2));\n",
"printf('driving force = %f kmol acetone/kmol dry air',delta_Y)\n",
"\n",
"//mass transfer area\n",
"K_G=0.4    //in kmol acetone/kmol dry air\n",
"A=m/(K_G*delta_Y);\n",
"printf('\n\narea = %f sq m',A)"
   ]
   }
,
{
		   "cell_type": "markdown",
		   "metadata": {},
		   "source": [
			"## Example 6.9: Equilibrium_Compositio.sce"
		   ]
		  },
  {
"cell_type": "code",
	   "execution_count": null,
	   "metadata": {
	    "collapsed": true
	   },
	   "outputs": [],
"source": [
"clc\n",
"clear \n",
"printf('example 6.9 page number 229\n\n')\n",
"\n",
"//to calculate minimum oil circulation rate\n",
"\n",
"G1=(855/22.4)*(106.6/101.3)*(273/299.7);\n",
"y1=0.02;\n",
"Y1=y1/(1-y1);\n",
"Gs=G1*(1-y1);\n",
"\n",
"//for 95% removal\n",
"Y2=0.05*Y1;\n",
"x2=0.005;\n",
"X2=x2/(1-x2);\n",
"Y=0.204;\n",
"X1=0.176;    //in kmol bgenzene/kmol benzene free oil\n",
"\n",
"Ls_molar=(Gs*(Y1-Y2))/(X1-X2);\n",
"Ls=Ls_molar*260;\n",
"\n",
"printf('minimum oil circulation rate = %f kg/hr',Ls)"
   ]
   }
],
"metadata": {
		  "kernelspec": {
		   "display_name": "Scilab",
		   "language": "scilab",
		   "name": "scilab"
		  },
		  "language_info": {
		   "file_extension": ".sce",
		   "help_links": [
			{
			 "text": "MetaKernel Magics",
			 "url": "https://github.com/calysto/metakernel/blob/master/metakernel/magics/README.md"
			}
		   ],
		   "mimetype": "text/x-octave",
		   "name": "scilab",
		   "version": "0.7.1"
		  }
		 },
		 "nbformat": 4,
		 "nbformat_minor": 0
}
