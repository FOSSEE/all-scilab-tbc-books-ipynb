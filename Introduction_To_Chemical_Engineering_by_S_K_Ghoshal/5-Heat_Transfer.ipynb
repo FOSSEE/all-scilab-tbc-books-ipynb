{
"cells": [
 {
		   "cell_type": "markdown",
	   "metadata": {},
	   "source": [
       "# Chapter 5: Heat Transfer"
	   ]
	},
{
		   "cell_type": "markdown",
		   "metadata": {},
		   "source": [
			"## Example 5.10: Earth_Temperature.sce"
		   ]
		  },
  {
"cell_type": "code",
	   "execution_count": null,
	   "metadata": {
	    "collapsed": true
	   },
	   "outputs": [],
"source": [
"clc\n",
"clear \n",
"printf('example 5.10 page number 191\n\n')\n",
"\n",
"//to find temperature of earth\n",
"R=7*10^10;   //in cm\n",
"Ts=6000;   //in K\n",
"l=1.5*10^13;   //in m\n",
"To=((R^2/(4*l^2))^0.25)*Ts;\n",
"printf('temperature of earth = %f K',To)"
   ]
   }
,
{
		   "cell_type": "markdown",
		   "metadata": {},
		   "source": [
			"## Example 5.11: Equilibrium_temperature.sce"
		   ]
		  },
  {
"cell_type": "code",
	   "execution_count": null,
	   "metadata": {
	    "collapsed": true
	   },
	   "outputs": [],
"source": [
"clc\n",
"clear \n",
"printf('example 5.11 page number 192\n\n')\n",
"\n",
"//to find the equilibrium temperature\n",
"R=6.92*10^5    //in km\n",
"l=14.97*10^7   //in km\n",
"Ts=6200;    //in K\n",
"To=(R^2/l^2)^0.25*Ts;\n",
"printf('Equilibrium temperature = %f K',To)"
   ]
   }
,
{
		   "cell_type": "markdown",
		   "metadata": {},
		   "source": [
			"## Example 5.12: Equilibrium_temperature.sce"
		   ]
		  },
  {
"cell_type": "code",
	   "execution_count": null,
	   "metadata": {
	    "collapsed": true
	   },
	   "outputs": [],
"source": [
"clc\n",
"clear \n",
"printf('example 5.12 page number 192\n\n')\n",
"\n",
"//to find the equilibrium temperature\n",
"view_factor=0.5;\n",
"R=6.92*10^5    //in km\n",
"l=14.97*10^7   //in km\n",
"Ts=6200;    //in K\n",
"To=(view_factor*(R^2/l^2))^0.25*Ts;\n",
"printf('Equilibrium temperature = %f K',To)"
   ]
   }
,
{
		   "cell_type": "markdown",
		   "metadata": {},
		   "source": [
			"## Example 5.13: Temperature_calculatio.sce"
		   ]
		  },
  {
"cell_type": "code",
	   "execution_count": null,
	   "metadata": {
	    "collapsed": true
	   },
	   "outputs": [],
"source": [
"clc\n",
"clear \n",
"printf('example 5.13 page number 193\n\n')\n",
"\n",
"//to find the surface temperature\n",
"view_factor=0.25;\n",
"R=7.1*10^10    //in cm\n",
"l=1.5*10^13   //in cm\n",
"Ts=5973;    //in K\n",
"alpha=0.2;\n",
"epsilon=0.1;\n",
"\n",
"ratio=alpha/epsilon;\n",
"To=(ratio*view_factor*(R^2/l^2))^0.25*Ts;\n",
"printf('Equilibrium temperature = %f K',To)"
   ]
   }
,
{
		   "cell_type": "markdown",
		   "metadata": {},
		   "source": [
			"## Example 5.14: Solar_constant.sce"
		   ]
		  },
  {
"cell_type": "code",
	   "execution_count": null,
	   "metadata": {
	    "collapsed": true
	   },
	   "outputs": [],
"source": [
"clc\n",
"clear \n",
"printf('example 5.14 page number 193\n\n')\n",
"\n",
"//to find the solar constant\n",
"R=7*10^10;   //in cm\n",
"l=1.5*10^13;  //in cm\n",
"sigma=5.3*10^-5;   //in erd/s(cm2)(K)4\n",
"T=6000;    //in K\n",
"\n",
"S=(R/l)^2*(sigma)*(T^4)*60;\n",
"printf('solar constant = %f J/sq cm min',S/10^7)"
   ]
   }
,
{
		   "cell_type": "markdown",
		   "metadata": {},
		   "source": [
			"## Example 5.15: Evaporator.sce"
		   ]
		  },
  {
"cell_type": "code",
	   "execution_count": null,
	   "metadata": {
	    "collapsed": true
	   },
	   "outputs": [],
"source": [
"clc\n",
"clear \n",
"printf('example 5.15 page number 207\n\n')\n",
"\n",
"//to find the amount of vapor and liquid and amount of heat transfer\n",
"\n",
"F = 5000   //in kg/hr\n",
"xF = 0.01\n",
"xL = 0.02;\n",
"\n",
"L = F*xF/xL;\n",
"V = F-L;\n",
"printf('L = %f Kg/hr\n V = %f kg/hr',L,V)\n",
"\n",
"TF= 303  //in K\n",
"hF = 125.9   //in KJ/kg\n",
"T1 = 373.2   //in K\n",
"Hv = 2676.1   //in kJ/kg\n",
"hL = 419.04;   //in kJ/kg\n",
"Ts = 383.2   //in K\n",
"Hs = 2691.5   //in kJ/kg\n",
"hs = 461.30   //in kJ/kg\n",
"\n",
"S = (F*hF-L*hL-V*Hv)/(hs-Hs);\n",
"printf('\n\namount of steam = %f kg steam/h',S)\n",
"\n",
"q = S*(Hs - hs);\n",
"q = q*1000/3600   //conversion to Watt\n",
"U = q/(69.9*10);\n",
"printf('\n\nheat reansfer coefficient = %f W/sq m K',U)"
   ]
   }
,
{
		   "cell_type": "markdown",
		   "metadata": {},
		   "source": [
			"## Example 5.16: Evaporator.sce"
		   ]
		  },
  {
"cell_type": "code",
	   "execution_count": null,
	   "metadata": {
	    "collapsed": true
	   },
	   "outputs": [],
"source": [
"clc\n",
"clear \n",
"printf('example 5.16 page number 208\n\n')\n",
"\n",
"//to find the amount of liquid and vapor leaving and outlet concentration\n",
"//we have two linear equations in L and V so we will write them in form of a matrix and then solve using principles of linear algebra\n",
"\n",
"b1 = 6000*125.79+3187.56*2691.5-3187.56*461.30;    //data from previous problem\n",
"b2 = 6000;\n",
"A = [419.04 2676.1;1 1];\n",
"\n",
"b = [b1;b2];\n",
"x = A\b;\n",
"L = x(1);\n",
"V = x(2);\n",
"\n",
"printf('L = %f kg/hr\nV = %f kg/hr',L,V)\n",
"\n",
"F = 6000   //in kg/hr\n",
"xF = 0.01;\n",
"xL = F*xF/L;\n",
"printf('\n\npercentage increase in outlet concentration = %f',xL*100)"
   ]
   }
,
{
		   "cell_type": "markdown",
		   "metadata": {},
		   "source": [
			"## Example 5.17: Evaporator.sce"
		   ]
		  },
  {
"cell_type": "code",
	   "execution_count": null,
	   "metadata": {
	    "collapsed": true
	   },
	   "outputs": [],
"source": [
"clc\n",
"clear \n",
"printf('example 5.17 page number 209\n\n')\n",
"\n",
"//to find the change in heat trnasfer area\n",
"\n",
"Hv=2635.3    //kJ/kg\n",
"hL=313.93    //in kJ/kg\n",
"S=(2500*313.93+2500*2635.3-5000*125.79)/(2691.5-461.30);\n",
"printf('steam flow rate = %f kg steam/hr',S)\n",
"\n",
"q = S*(2691.5 - 461.30);\n",
"q = q*1000/3600    //in W\n",
"U = 2833.13;   //in W/m2 K\n",
"delta_T = 383.2-348.2;   //in K\n",
"A = q/(U*delta_T);\n",
"\n",
"printf('\n\nArea = %f sq meter',A)\n",
"printf('\n\nin this case a condensor and vaccum pump should be used')"
   ]
   }
,
{
		   "cell_type": "markdown",
		   "metadata": {},
		   "source": [
			"## Example 5.1: Heat_conduction.sce"
		   ]
		  },
  {
"cell_type": "code",
	   "execution_count": null,
	   "metadata": {
	    "collapsed": true
	   },
	   "outputs": [],
"source": [
"clc\n",
"clear \n",
"printf('example 5.1 page number 171\n\n')\n",
"\n",
"//to find the rate of heat loss\n",
"A=5*4   //in m2\n",
"T1=100;   //in K\n",
"T2=30;    //in K\n",
"\n",
"delta_T=T1-T2;\n",
"\n",
"x=0.25   //in m\n",
"k=0.70    //in W/mK\n",
"Q=k*A*(delta_T/x);\n",
"\n",
"printf('rate of heat loss = %f W',Q)"
   ]
   }
,
{
		   "cell_type": "markdown",
		   "metadata": {},
		   "source": [
			"## Example 5.2: Heat_conduction.sce"
		   ]
		  },
  {
"cell_type": "code",
	   "execution_count": null,
	   "metadata": {
	    "collapsed": true
	   },
	   "outputs": [],
"source": [
"clc\n",
"clear \n",
"printf('example 5.1 page number 171\n\n')\n",
"\n",
"//to find the heat loss\n",
"\n",
"d1=0.15   //in m\n",
"d2=0.16   //in m\n",
"l=1   //in m\n",
"\n",
"A1=3.14*d1*l;\n",
"A2=3.14*d2*l\n",
"Am=(A1-A2)/log (A1/A2);\n",
"\n",
"T1=120;   //in K\n",
"T2=119.8;   //in K\n",
"\n",
"delta_T=T1-T2;\n",
"x=(d2-d1)/2;\n",
"k=50   //in W/mK\n",
"Q=k*Am*(delta_T/x);\n",
"\n",
"printf('rate of heat loss per unit length = %f W/m',Q)"
   ]
   }
,
{
		   "cell_type": "markdown",
		   "metadata": {},
		   "source": [
			"## Example 5.3: Heat_conduction_through_sphere.sce"
		   ]
		  },
  {
"cell_type": "code",
	   "execution_count": null,
	   "metadata": {
	    "collapsed": true
	   },
	   "outputs": [],
"source": [
"clc\n",
"clear \n",
"printf('example 5.3 page number 172\n\n')\n",
"\n",
"//to find the rate of heat loss\n",
"\n",
"ri=0.5   //in m\n",
"ro=0.6;  //in m\n",
"A1=4*3.14*ri^2;\n",
"A2=4*3.14*ro^2;\n",
"\n",
"Am=(A1*A2)^0.5;\n",
"\n",
"Ti=140;    //in K\n",
"To=50;    //in K\n",
"delta_T=Ti-To;\n",
"x=0.1   //in m\n",
"k=0.12    //in W/mK\n",
"\n",
"Q=k*Am*(delta_T/x);\n",
"printf('Heat loss through sphere = %f W',Q)"
   ]
   }
,
{
		   "cell_type": "markdown",
		   "metadata": {},
		   "source": [
			"## Example 5.4: Composite_wall.sce"
		   ]
		  },
  {
"cell_type": "code",
	   "execution_count": null,
	   "metadata": {
	    "collapsed": true
	   },
	   "outputs": [],
"source": [
"clc\n",
"clear \n",
"printf('example 5.4 page number 173\n\n')\n",
"\n",
"//to find the heat loss from composite wall\n",
"//for the red brick layer\n",
"\n",
"x1=0.250;  //in m\n",
"k1=0.7;  //in W/mK\n",
"A1=1;   //in m2\n",
"R1=x1/(k1*A1);   //in K/W\n",
"\n",
"//for the felt layer\n",
"x2=0.020;  //in m\n",
"k2=0.046;  //in W/mK\n",
"A2=1;   //in m2\n",
"R2=x2/(k2*A2);   //in K/W\n",
"R=R1+R2;\n",
"printf('Total resistance = %f K/W',R)\n",
"\n",
"T1=110;   //in K\n",
"T2=25    //in K\n",
"delta_T=T1-T2;\n",
"Q=delta_T/R;\n",
"printf('\n\nheat loss through wall = %f W/square m',Q)"
   ]
   }
,
{
		   "cell_type": "markdown",
		   "metadata": {},
		   "source": [
			"## Example 5.5: Composite_Pipeline.sce"
		   ]
		  },
  {
"cell_type": "code",
	   "execution_count": null,
	   "metadata": {
	    "collapsed": true
	   },
	   "outputs": [],
"source": [
"clc\n",
"clear \n",
"printf('example 5.5 page number 173\n\n')\n",
"\n",
"//to find the rate of heat loss through pipeline\n",
"//resistance by pipeline\n",
"\n",
"d1=0.15   //in m\n",
"d2=0.16   //in m\n",
"l=1   //in m\n",
"A1=3.14*d1*l;\n",
"A2=3.14*d2*l\n",
"Am1=(A2-A1)/log (A2/A1);\n",
"x1=(d2-d1)/2;\n",
"k1=50   //in W/mK\n",
"R1=x1/(k1*Am1);\n",
"\n",
"//resistance by insulation\n",
"d2=0.16   //in m\n",
"d3=0.26   //in m\n",
"l=1   //in m\n",
"A2=3.14*d2*l;\n",
"A3=3.14*d3*l\n",
"Am2=(A3-A2)/log (A3/A2);\n",
"x2=(d3-d2)/2;\n",
"k2=0.08   //in W/mK\n",
"R2=x2/(k2*Am2);\n",
"R=R1+R2;\n",
"\n",
"printf('total resistance = %f K/W',R)\n",
"\n",
"T1=120;   //in K\n",
"T2=40;   //in K\n",
"delta_T=T1-T2;\n",
"Q=delta_T/R;\n",
"\n",
"printf('\n\nheat loss = %f W/m',Q)"
   ]
   }
,
{
		   "cell_type": "markdown",
		   "metadata": {},
		   "source": [
			"## Example 5.6: Parellel_Resistance.sce"
		   ]
		  },
  {
"cell_type": "code",
	   "execution_count": null,
	   "metadata": {
	    "collapsed": true
	   },
	   "outputs": [],
"source": [
"clc\n",
"clear \n",
"printf('example 5.6 page number 174\n\n')\n",
"\n",
"//to find the increase in heat transfer rate\n",
"\n",
"x1=0.1;   //in m\n",
"x2= 0.25;  //in m\n",
"k_rb=0.93;   //in W/mK\n",
"k_ib=0.116    //in W/mK\n",
"k_al=203.6    //in W/mK\n",
"A=0.1   //in m2\n",
"\n",
"//to find resistance without rivets\n",
"R=(1/A)*((x1/k_rb)+(x2/k_ib));\n",
"T1=225   //in K\n",
"T2=37    //in K\n",
"delta_T=T1-T2;\n",
"Q=delta_T/R;\n",
"printf('heat transfer rate = %f W',Q)\n",
"\n",
"//to find resistance with rivet\n",
"d=0.03   //in m\n",
"rivet_area= (3.14/4)*d^2;\n",
"R_r=(x1+x2)/(k_al*rivet_area);\n",
"area_norivet=A-rivet_area;\n",
"R_cl=(A/area_norivet)*R;\n",
"R_eq=1/(1/R_r+1/R_cl);\n",
"Q_new=delta_T/R_eq;\n",
"\n",
"printf('\n\nRate of heat transfer with rivet = %f W',Q_new)\n",
"increase=((Q_new-Q)/Q)*100;\n",
"printf('\n\npercentage increase in heat transfer rate = %f',increase)"
   ]
   }
,
{
		   "cell_type": "markdown",
		   "metadata": {},
		   "source": [
			"## Example 5.7: Heat_transfer_coefficient.sce"
		   ]
		  },
  {
"cell_type": "code",
	   "execution_count": null,
	   "metadata": {
	    "collapsed": true
	   },
	   "outputs": [],
"source": [
"clc\n",
"clear \n",
"printf('example 5.6 page number 174\n\n')\n",
"\n",
"//to find the increase in heat transfer rate\n",
"\n",
"x1=0.1;   //in m\n",
"x2= 0.25;  //in m\n",
"k_rb=0.93;   //in W/mK\n",
"k_ib=0.116    //in W/mK\n",
"k_al=203.6    //in W/mK\n",
"A=0.1   //in m2\n",
"\n",
"//to find resistance without rivets\n",
"R=(1/A)*((x1/k_rb)+(x2/k_ib));\n",
"T1=225   //in K\n",
"T2=37    //in K\n",
"delta_T=T1-T2;\n",
"Q=delta_T/R;\n",
"printf('heat transfer rate = %f W',Q)\n",
"\n",
"//to find resistance with rivet\n",
"d=0.03   //in m\n",
"rivet_area= (3.14/4)*d^2;\n",
"R_r=(x1+x2)/(k_al*rivet_area);\n",
"area_norivet=A-rivet_area;\n",
"R_cl=(A/area_norivet)*R;\n",
"R_eq=1/(1/R_r+1/R_cl);\n",
"Q_new=delta_T/R_eq;\n",
"\n",
"printf('\n\nRate of heat transfer with rivet = %f W',Q_new)\n",
"increase=((Q_new-Q)/Q)*100;\n",
"printf('\n\npercentage increase in heat transfer rate = %f',increase)"
   ]
   }
,
{
		   "cell_type": "markdown",
		   "metadata": {},
		   "source": [
			"## Example 5.8: Heat_transfer_coefficient.sce"
		   ]
		  },
  {
"cell_type": "code",
	   "execution_count": null,
	   "metadata": {
	    "collapsed": true
	   },
	   "outputs": [],
"source": [
"clc\n",
"clear \n",
"printf('example 5.8 page number 188\n\n')\n",
"\n",
"//to find the heat transfer coefficient\n",
"density=984.1     //in kg/cubic meter\n",
"v=3   //in m/s\n",
"viscosity=485*10^-6;    //in Pa-s\n",
"k=0.657    //in W/mK\n",
"cp=4178   //in J/kg K\n",
"d=0.016    //in m\n",
"\n",
"Re=(density*v*d)/viscosity;\n",
"Pr=(cp*viscosity)/k;\n",
"\n",
"//dittus boelter equation\n",
"h=0.023*Re^0.8*Pr^0.3*(k/d);\n",
"printf('heat transfer coefficient = %f W/sq meter K',h)\n",
"\n",
"//Sieder Tate equation\n",
"viscosity_w=920*10^-6\n",
"h1=0.023*Re^0.8*Pr^(1/3)*(k/d)*(viscosity/viscosity_w)^0.14;\n",
"printf('\n\nheat transfer coefficient = %f W/sq meter K',h1)"
   ]
   }
,
{
		   "cell_type": "markdown",
		   "metadata": {},
		   "source": [
			"## Example 5.9: Earth_Temperature.sce"
		   ]
		  },
  {
"cell_type": "code",
	   "execution_count": null,
	   "metadata": {
	    "collapsed": true
	   },
	   "outputs": [],
"source": [
"clc\n",
"clear \n",
"printf('example 5.9 page number 191\n\n')\n",
"\n",
"//to find the surface temperature of earth\n",
"T_sun = 5973   //in degree C\n",
"d = 1.5*10^13    //in cm\n",
"R = 7.1*10^10;  //in cm\n",
"\n",
"T_earth = ((R/(2*d))^0.5)*T_sun;\n",
"printf('Temperature of earth = %f C',T_earth-273) "
   ]
   }
],
"metadata": {
		  "kernelspec": {
		   "display_name": "Scilab",
		   "language": "scilab",
		   "name": "scilab"
		  },
		  "language_info": {
		   "file_extension": ".sce",
		   "help_links": [
			{
			 "text": "MetaKernel Magics",
			 "url": "https://github.com/calysto/metakernel/blob/master/metakernel/magics/README.md"
			}
		   ],
		   "mimetype": "text/x-octave",
		   "name": "scilab",
		   "version": "0.7.1"
		  }
		 },
		 "nbformat": 4,
		 "nbformat_minor": 0
}
