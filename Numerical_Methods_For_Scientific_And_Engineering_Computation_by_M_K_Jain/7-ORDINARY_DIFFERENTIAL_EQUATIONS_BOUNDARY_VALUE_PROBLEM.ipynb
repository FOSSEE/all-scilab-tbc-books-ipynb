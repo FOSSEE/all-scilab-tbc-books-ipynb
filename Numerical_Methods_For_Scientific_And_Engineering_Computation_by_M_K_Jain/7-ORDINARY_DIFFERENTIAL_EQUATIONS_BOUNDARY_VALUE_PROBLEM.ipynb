{
"cells": [
 {
		   "cell_type": "markdown",
	   "metadata": {},
	   "source": [
       "# Chapter 7: ORDINARY DIFFERENTIAL EQUATIONS BOUNDARY VALUE PROBLEM"
	   ]
	},
{
		   "cell_type": "markdown",
		   "metadata": {},
		   "source": [
			"## Example 7.11: solution_to_the_BVP_by_finite_differences.sce"
		   ]
		  },
  {
"cell_type": "code",
	   "execution_count": null,
	   "metadata": {
	    "collapsed": true
	   },
	   "outputs": [],
"source": [
"// example 7.11\n",
"// solve the boundary value problem      u''=u'+1;\n",
"// u(0)=1;   u(x=1)=2(%e-1);          h=1/3;\n",
"\n",
"\n",
"// we know;     u''=(u(j-1)-2*u(j)+u(j+1))/h^2;\n",
"// we know;      u'=(u(j+1)-u(j-1))/2h;\n",
"\n",
"// 1) second order method;\n",
" x=0:1/3:1;                                  \n",
" \n",
" u=[u0 u1 u2 u3 ];\n",
"// hence;\n",
"disp('(u(j-1)-2*u(j)+u(j+1))/h^2=((u(j+1)-u(j-1))/2h)+1')           // for j=1,2;\n",
"\n",
"\n",
"disp('for j=1            (7/6)*u0-2*u1+(5/6)*u2=(1/9)')\n",
"\n",
"disp('for j=2            (7/6)*u1-2*u2+(5/6)*u3=(1/9)')\n",
"\n",
"\n",
"// hence eliminating u1!\n",
"// solving for u1,u2, \n",
"u0=1;\n",
"u3=2*(%e-1);\n",
"u1=1.454869;\n",
"u2=2.225019;\n",
"\n",
"disp(x);\n",
"disp(u);\n",
"\n",
""
   ]
   }
,
{
		   "cell_type": "markdown",
		   "metadata": {},
		   "source": [
			"## Example 7.1: solution_to_the_BVP_by_shooting_method.sce"
		   ]
		  },
  {
"cell_type": "code",
	   "execution_count": null,
	   "metadata": {
	    "collapsed": true
	   },
	   "outputs": [],
"source": [
"// example 7.1\n",
"// solve by shooting method;\n",
"\n",
"//   u''=u+1;\n",
"// u(0)=0;  u(1)=%e-1;              \n",
"\n",
"// let ->   U1(x)=du/dx;\n",
"// U2(x)=d2u/dx2;\n",
"\n",
"// U(x)=[U1(x);U2(x)]\n",
"\n",
"// hence ;\n",
"// dU/dx=f(x,U);\n",
"\n",
"\n",
"\n",
"deff('[w]=f(x,U)','w=[U(2); U(1)+1]')\n",
"\n",
"h=0.25;\n",
"x=[0:h:1];\n",
"ub=[0,%e-1];\n",
"up=[0:1:10];\n",
"\n",
"\n",
"[U] = shooting(ub,up,x,f);\n",
"\n",
"// the solution obtained would show the values of u and their derivatives at various x taken in regular intervals of h;"
   ]
   }
,
{
		   "cell_type": "markdown",
		   "metadata": {},
		   "source": [
			"## Example 7.3: solution_to_the_BVP_by_shooting_method.sce"
		   ]
		  },
  {
"cell_type": "code",
	   "execution_count": null,
	   "metadata": {
	    "collapsed": true
	   },
	   "outputs": [],
"source": [
"// example 7.3\n",
"// solve by shooting method;\n",
"\n",
"//   u''=2*u*u';\n",
"// u(0)=0.5;  u(1)=1;              \n",
"\n",
"// let ->   U1(x)=du/dx;\n",
"// U2(x)=d2u/dx2;\n",
"\n",
"// U(x)=[U1(x);U2(x)]\n",
"\n",
"// hence ;\n",
"// dU/dx=f(x,U);\n",
"\n",
"h=.25;\n",
"\n",
"ub=[.5,1];\n",
"\n",
"up=[0:.1:1];\n",
" \n",
"x=0:h:1;\n",
" \n",
"deff('[w]=f(x,U)','w=[U(2); 2*U(1)*U(2)]')\n",
"\n",
"\n",
"\n",
"[U] = shooting(ub,up,x,f);\n",
"\n",
"// the solution obtained would show the values of u in the first collumn and their corresponding  derivatives in the second collumn ;"
   ]
   }
,
{
		   "cell_type": "markdown",
		   "metadata": {},
		   "source": [
			"## Example 7.4: solution_to_the_BVP_by_shooting_method.sce"
		   ]
		  },
  {
"cell_type": "code",
	   "execution_count": null,
	   "metadata": {
	    "collapsed": true
	   },
	   "outputs": [],
"source": [
"// example 7.4\n",
"// solve by shooting method;\n",
"\n",
"//   u''=2*u*u';\n",
"// u(0)=0.5;  u(1)=1;              \n",
"\n",
"// let ->   U1(x)=du/dx;\n",
"// U2(x)=d2u/dx2;\n",
"\n",
"// U(x)=[U1(x);U2(x)]\n",
"\n",
"// hence ;\n",
"// dU/dx=f(x,U);\n",
"\n",
"h=.25;\n",
"\n",
"ub=[.5,1];\n",
"\n",
"up=[0:.1:1];\n",
" \n",
"x=0:h:1;\n",
" \n",
"deff('[w]=f(x,U)','w=[U(2); 2*U(1)*U(2)]')\n",
"\n",
"\n",
"[U] = shooting(ub,up,x,f);\n",
"\n",
"// the solution obtained would show the values of u in the first collumn and their corresponding  derivatives in the second collumn ;"
   ]
   }
,
{
		   "cell_type": "markdown",
		   "metadata": {},
		   "source": [
			"## Example 7.5: solution_to_the_BVP.sce"
		   ]
		  },
  {
"cell_type": "code",
	   "execution_count": null,
	   "metadata": {
	    "collapsed": true
	   },
	   "outputs": [],
"source": [
"// example 7.5\n",
"// solve the boundary value problem      u''=u+x;\n",
"// u(x=0)=u(0)=0;   u(x=1)=u(4)=0;          h=1/4;\n",
"\n",
"\n",
"// we know;     u''=(u(j-1)-2*u(j)+u(j+1))/h^2;\n",
"\n",
"// 1) second order method;\n",
" x=0:1/4:1;                                  \n",
" u0=0;\n",
" u4=0;\n",
" u=[u0 u1 u2 u3 u4];\n",
"// hence;\n",
"disp('(u(j-1)-2*u(j)+u(j+1))/h^2=u(j)+x(j)')           // for j=1,2,3;\n",
"\n",
"disp('for j=1            -16*u0+33*u1-16*u2=-.25')\n",
"\n",
"disp('for j=2            -16*u1+33*u2-16*u3=-.50')\n",
"\n",
"disp('for j=3            -16*u2+33*u3-16*u4=-.75')\n",
"\n",
"// hence solving for u1,u2,u3)   , \n",
"u1=-.034885;\n",
"u2=-.056326;\n",
"u3=-.050037;\n",
"\n",
"disp(x);\n",
"disp(u);\n",
"\n",
"// 2) numerov method;\n",
" x=0:1/4:1;                                  \n",
" u0=0;\n",
" u4=0;\n",
" u=[u0 u1 u2 u3 u4];\n",
"// since according to numerov method we get the following system of equations;\n",
"disp('(191*u(j-1)-394*u(j)+191*u(j+1)=x(j-1)+10*x(j)+x(j+1)')           // for j=1,2,3;\n",
"\n",
"disp('for j=1            191*u0-394*u1+191*u2=3')\n",
"\n",
"disp('for j=2            191*u1-394*u2+191*u3=6')\n",
"\n",
"disp('for j=3            191*u2-394*u3+191*u4=9')\n",
"\n",
"// hence solving for u1,u2,u3   , \n",
"u1=-.034885\n",
"u2=-.056326\n",
"u3=-.050037\n",
"\n",
"\n",
"disp(x);\n",
"disp(u);\n",
""
   ]
   }
,
{
		   "cell_type": "markdown",
		   "metadata": {},
		   "source": [
			"## Example 7.6: solution_to_the_BVP_by_finite_differences.sce"
		   ]
		  },
  {
"cell_type": "code",
	   "execution_count": null,
	   "metadata": {
	    "collapsed": true
	   },
	   "outputs": [],
"source": [
"// example 7.6\n",
"// solve the boundary value problem      u''=u*x;\n",
"// u(0)+u'(0)=1;   u(x=1)=0;          h=1/3;\n",
"\n",
"\n",
"// we know;     u''=(u(j-1)-2*u(j)+u(j+1))/h^2;\n",
"\n",
"// 1) second order method;\n",
" x=0:1/3:1;                                  \n",
" \n",
" u3=1;\n",
" u=[u0 u1 u2 u3 ];\n",
"// hence;\n",
"disp('(u(j-1)-2*u(j)+u(j+1))/h^2=u(j)*x(j)')           // for j=0,1,2,3;\n",
"\n",
"disp('for j=0            u1!-2*u0+u1=0')            // u1!=u(-1)\n",
"\n",
"disp('for j=1            u0-2*u1+u2=(1/27)u1')\n",
"\n",
"disp('for j=2            u1-2*u2+u3=(2/27)u2')\n",
"\n",
"// we know;      u'=(u(j+1)-u(j-1))/2h\n",
"// hence eliminating u1!\n",
"// solving for u0,u1,u2,u3 , \n",
"u0=-.9879518;\n",
"u1=-.3253012;\n",
"u2=-.3253012;\n",
"\n",
"disp(x);\n",
"disp(u);\n",
"\n",
""
   ]
   }
],
"metadata": {
		  "kernelspec": {
		   "display_name": "Scilab",
		   "language": "scilab",
		   "name": "scilab"
		  },
		  "language_info": {
		   "file_extension": ".sce",
		   "help_links": [
			{
			 "text": "MetaKernel Magics",
			 "url": "https://github.com/calysto/metakernel/blob/master/metakernel/magics/README.md"
			}
		   ],
		   "mimetype": "text/x-octave",
		   "name": "scilab",
		   "version": "0.7.1"
		  }
		 },
		 "nbformat": 4,
		 "nbformat_minor": 0
}
