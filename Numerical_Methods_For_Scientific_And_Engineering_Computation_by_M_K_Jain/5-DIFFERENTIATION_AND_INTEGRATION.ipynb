{
"cells": [
 {
		   "cell_type": "markdown",
	   "metadata": {},
	   "source": [
       "# Chapter 5: DIFFERENTIATION AND INTEGRATION"
	   ]
	},
{
		   "cell_type": "markdown",
		   "metadata": {},
		   "source": [
			"## Example 5.10: jacobian_matrix_of_the_given_system.sce"
		   ]
		  },
  {
"cell_type": "code",
	   "execution_count": null,
	   "metadata": {
	    "collapsed": true
	   },
	   "outputs": [],
"source": [
"// example 5.10;\n",
"// find the jacobian matrix;\n",
"\n",
"\n",
"// given two functions in x,y;\n",
"// and the point at which the jacobian has to be found out;\n",
"\n",
"deff('[w]=f1(x,y)','w=x^2+y^2-x'); \n",
"\n",
"deff('[q]=f2(x,y)','q=x^2-y^2-y');\n",
"\n",
"h=1;k=1;\n",
"\n",
"J= jacobianmat (f1,f2,h,k);\n",
"disp(J); "
   ]
   }
,
{
		   "cell_type": "markdown",
		   "metadata": {},
		   "source": [
			"## Example 5.11: solution_by_trapizoidal_and_simpsons.sce"
		   ]
		  },
  {
"cell_type": "code",
	   "execution_count": null,
	   "metadata": {
	    "collapsed": true
	   },
	   "outputs": [],
"source": [
"// example : 5.11\n",
"// solve the definite integral by 1) trapezoidal rule, 2)simpsons rule\n",
"// exact value of the integral is ln 2= 0.693147,\n",
"\n",
"deff('[y]=F(x)','y=1/(1+x)')\n",
"\n",
"//1)trapezoidal rule,\n",
"\n",
"a=0;\n",
"b=1;\n",
"I =trapezoidal(0,1,F)\n",
"disp(error =.75-.693147)\n",
"\n",
"// simpson's rule\n",
"\n",
"I=simpson(a,b,F)\n",
"\n",
"disp(error =.694444-.693147)"
   ]
   }
,
{
		   "cell_type": "markdown",
		   "metadata": {},
		   "source": [
			"## Example 5.12: integral_approximation_by_mid_point_and_two_point.sce"
		   ]
		  },
  {
"cell_type": "code",
	   "execution_count": null,
	   "metadata": {
	    "collapsed": true
	   },
	   "outputs": [],
"source": [
"// example 5.12\n",
"// caption: solve the integral by 1)mid-point rule,2)two-point open type rule\n",
"\n",
"\n",
"// let integration of f(x)=sin(x)/(x) in the range [0,1]  is equal to I1 and I2 \n",
"// 1)mid -point rule;\n",
"a=0;b=1;\n",
"h=(b-a)/2;\n",
"\n",
"x=0:h:1;\n",
"deff('[y]=f(x)','y=sin(x)/x')\n",
"I1=2*h*f(x(1)+h)\n",
"\n",
"\n",
"//2)  two-point open type rule\n",
"h=(b-a)/3;\n",
"I2=(3/2)*h*(f(x(1)+h)+f(x(1)+2*h))"
   ]
   }
,
{
		   "cell_type": "markdown",
		   "metadata": {},
		   "source": [
			"## Example 5.13: integral_approximation_by_simpson_three_eight_rule.sce"
		   ]
		  },
  {
"cell_type": "code",
	   "execution_count": null,
	   "metadata": {
	    "collapsed": true
	   },
	   "outputs": [],
"source": [
"// example 5.13\n",
"// caption: simpson 3-8 rule\n",
"\n",
"\n",
"// let integration of f(x)=1/(1+x) in the range [0,1] by simpson 3-8 rule is equal to I\n",
"\n",
"x=0:1/3:1;\n",
"deff('[y]=f(x)','y=1/(1+x)')\n",
"\n",
"[I] = simpson38(x,f)\n",
"\n",
"  "
   ]
   }
,
{
		   "cell_type": "markdown",
		   "metadata": {},
		   "source": [
			"## Example 5.15: quadrature_formula.sce"
		   ]
		  },
  {
"cell_type": "code",
	   "execution_count": null,
	   "metadata": {
	    "collapsed": true
	   },
	   "outputs": [],
"source": [
"// example :5.15\n",
"// find the quadrature formula of\n",
"// integral of f(x)*(1/sqrt(x(1+x))) in the range [0,1]= a1*f(0)+a2*f(1/2)+a3*f(1)=I\n",
"// hence find integral 1/sqrt(x-x^3) in the range [0,1]\n",
"\n",
"// making the method exact for polinomials of degree upto 2,\n",
"// I=I1=a1+a2+a3\n",
"// I=I2=(1/2)*a2+a3\n",
"// I=I3=(1/4)*a2+a3\n",
"\n",
"// A=[a1 a2 a3]'\n",
"\n",
"I1=integrate('1/sqrt(x*(1-x))','x',0,1)\n",
"I2=integrate('x/sqrt(x*(1-x))','x',0,1)\n",
"I3=integrate('x^2/sqrt(x*(1-x))','x',0,1)\n",
"\n",
"//hence\n",
"//  [1 1 1;0 1/2 1 ;0 1/4 1]*A=[I1 I2 I3]'\n",
"\n",
"A=inv([1 1 1;0 1/2 1 ;0 1/4 1])*[I1 I2 I3]'\n",
"// I=(3.14/4)*(f(0)+2*f(1/2)+f(1));\n",
"\n",
"// hence,   for solving the integral 1/sqrt(x-x^3) in the range [0,1]=I\n",
"\n",
"deff('[y]=f(x)','y=1/sqrt(1+x)');\n",
"I=(3.14/4)*[1+2*sqrt(2/3)+sqrt(2)/2]"
   ]
   }
,
{
		   "cell_type": "markdown",
		   "metadata": {},
		   "source": [
			"## Example 5.16: gauss_legendary_three_point_method.sce"
		   ]
		  },
  {
"cell_type": "code",
	   "execution_count": null,
	   "metadata": {
	    "collapsed": true
	   },
	   "outputs": [],
"source": [
"// example 5.16\n",
"// caption: gauss-legendre three point method\n",
"// I= integral 1/(1+x) in the range [0,1];\n",
"// first we need ti transform the interval [0,1 ] to [-1,1], since gauss-legendre three point method is applicable in the range[-1,1],\n",
"\n",
"// let t=ax+b;\n",
"// solving for a,b from the two ranges, we get a=2; b=-1; t=2x-1;\n",
"\n",
"// hence I=integral 1/(1+x) in the range [0,1]= integral 1/(t+3) in the range [-1,1];\n",
"\n",
"\n",
"deff('[y]=f(t)','y=1/(t+3)');\n",
"// since , from gauss legendre three point rule(n=2);\n",
"I=(1/9)*(5*f(-sqrt(3/5))+8*f(0)+5*f(sqrt(3/5))) \n",
"\n",
"// we know , exact solution is ln 2=0.693147;"
   ]
   }
,
{
		   "cell_type": "markdown",
		   "metadata": {},
		   "source": [
			"## Example 5.17: gauss_legendary_method.sce"
		   ]
		  },
  {
"cell_type": "code",
	   "execution_count": null,
	   "metadata": {
	    "collapsed": true
	   },
	   "outputs": [],
"source": [
"// example 5.17\n",
"// caption: gauss-legendre method\n",
"// I= integral 2*x/(1+x^4) in the range [1,2];\n",
"// first we need ti transform the interval [1,2 ] to [-1,1], since gauss-legendre three point method is applicable in the range[-1,1],\n",
"\n",
"// let t=ax+b;\n",
"// solving for a,b from the two ranges, we get a=1/2; b=3/2; x=(t+3)/2;\n",
"\n",
"// hence I=integral  2*x/(1+x^4) in the range [0,1]= integral 8*(t+3)/16+(t+3)^4 in the range [-1,1];\n",
"\n",
"\n",
"deff('[y]=f(t)','y=8*(t+3)/(16+(t+3)^4) ');\n",
"\n",
"// 1) since , from gauss legendre one point rule;\n",
"I1=2*f(0)\n",
"\n",
"// 2) since , from gauss legendre two point rule;\n",
"I2=f(-1/sqrt(3))+f(1/sqrt(3))\n",
"\n",
"// 3) since , from gauss legendre three point rule;\n",
"I=(1/9)*(5*f(-sqrt(3/5))+8*f(0)+5*f(sqrt(3/5))) \n",
"\n",
"\n",
"// we know , exact solution is 0.5404;"
   ]
   }
,
{
		   "cell_type": "markdown",
		   "metadata": {},
		   "source": [
			"## Example 5.18: integral_approximation_by_gauss_chebishev.sce"
		   ]
		  },
  {
"cell_type": "code",
	   "execution_count": null,
	   "metadata": {
	    "collapsed": true
	   },
	   "outputs": [],
"source": [
"// example 5.18\n",
"// caption: gauss-chebyshev method\n",
"\n",
"// we write the integral as I=integral f(x)/sqrt(1-x^2) in the range [-1,1];\n",
"// where f(x)=(1-x^2)^2*cos(x)\n",
"\n",
"deff('[y]=f(x)','y=(1-x^2)^2*cos(x)');\n",
"\n",
"// 1) since , from gauss chebyshev one point rule;\n",
"I1=(3.14)*f(0)\n",
"\n",
"// 2) since , from gauss chebyshev two point rule;\n",
"I2=(3.14/2)*f(-1/sqrt(2))+f(1/sqrt(2))\n",
"\n",
"// 3) since , from gauss chebyshev three point rule;\n",
"I=(3.14/3)*(f(-sqrt(3)/2)+f(0)+f(sqrt(3)/2)) \n",
"\n",
"\n",
"// and 4) since , from gauss legendre three point rule;\n",
"I=(1/9)*(5*f(-sqrt(3/5))+8*f(0)+5*f(sqrt(3/5))) \n",
"\n",
"\n",
""
   ]
   }
,
{
		   "cell_type": "markdown",
		   "metadata": {},
		   "source": [
			"## Example 5.1: linear_interpolation.sce"
		   ]
		  },
  {
"cell_type": "code",
	   "execution_count": null,
	   "metadata": {
	    "collapsed": true
	   },
	   "outputs": [],
"source": [
"// example: 5.1\n",
"// linear and quadratic interpolation:\n",
"\n",
"// f(x)=ln x;\n",
"\n",
"xL=[2 2.2 2.6];\n",
"f=[.69315 .78846 .95551];\n",
"\n",
"// 1) fp(2) with linear interpolation;\n",
"\n",
"fp=linearinterpol(xL,f);\n",
"disp(fp);"
   ]
   }
,
{
		   "cell_type": "markdown",
		   "metadata": {},
		   "source": [
			"## Example 5.20: integral_approximation_by_gauss_legurre_method.sce"
		   ]
		  },
  {
"cell_type": "code",
	   "execution_count": null,
	   "metadata": {
	    "collapsed": true
	   },
	   "outputs": [],
"source": [
"// example 5.20\n",
"// caption: gauss-leguerre method\n",
"// I= integral e^-x/(1+x^2) in the range [0,~];\n",
"\n",
"// observing the integral we can inffer that f(x)=1/(1+x^2)\n",
"\n",
"deff('[y]=f(x)','y=1/(1+x^2) ');\n",
"\n",
"\n",
"// 1) since , from gauss leguerre two point rule;\n",
"I2=(1/4)*[(2+sqrt(2))*f(2-sqrt(2))+(2-sqrt(2))*f(2+sqrt(2))]\n",
"\n",
"// 3) since , from gauss leguerre  three point rule;\n",
"I=(0.71109*f(0.41577)+0.27852*f(2.29428)+0.01039*f(6.28995)) \n",
"\n",
""
   ]
   }
,
{
		   "cell_type": "markdown",
		   "metadata": {},
		   "source": [
			"## Example 5.21: integral_approximation_by_gauss_legurre_method.sce"
		   ]
		  },
  {
"cell_type": "code",
	   "execution_count": null,
	   "metadata": {
	    "collapsed": true
	   },
	   "outputs": [],
"source": [
"// example 5.21\n",
"// caption: gauss-leguerre method\n",
"// I= integral e^-x*(3*x^3-5*x+1) in the range [0,~];\n",
"\n",
"// observing the integral we can inffer that f(x)=(3*x^3-5*x+1)\n",
"\n",
"deff('[y]=f(x)','y=(3*x^3-5*x+1) ');\n",
"\n",
"\n",
"// 1) since , from gauss leguerre two point rule;\n",
"I2=(1/4)*[(2+sqrt(2))*f(2-sqrt(2))+(2-sqrt(2))*f(2+sqrt(2))]\n",
"\n",
"// 3) since , from gauss leguerre  three point rule;\n",
"I3=(0.71109*f(0.41577)+0.27852*f(2.29428)+0.01039*f(6.28995)) \n",
"\n",
""
   ]
   }
,
{
		   "cell_type": "markdown",
		   "metadata": {},
		   "source": [
			"## Example 5.22: integral_approximation_by_gauss_legurre_method.sce"
		   ]
		  },
  {
"cell_type": "code",
	   "execution_count": null,
	   "metadata": {
	    "collapsed": true
	   },
	   "outputs": [],
"source": [
"// example 5.22\n",
"// caption: gauss-leguerre method\n",
"// I= integral 1/(x^2+2*x+2) in the range [0,~];\n",
"\n",
"// since in the gauss-leguerre method the integral would be of the form e^x*f(x);\n",
"\n",
"// observing the integral we can inffer that f(x)=%e^x/(x^2+2*x+2)\n",
"deff('[y]=f(x)','y=%e^x/(x^2+2*x+2) ');\n",
"\n",
"\n",
"// 1) since , from gauss leguerre two point rule;\n",
"I2=(1/4)*[(2+sqrt(2))*f(2-sqrt(2))+(2-sqrt(2))*f(2+sqrt(2))]\n",
"\n",
"// 3) since , from gauss leguerre  three point rule;\n",
"I=(0.71109*f(0.41577)+0.27852*f(2.29428)+0.01039*f(6.28995)) \n",
"\n",
"\n",
"// the exact solution is given by,\n",
"\n",
"I=integrate('1/((x+1)^2+1)','x',0,1000)     // 1000 ~infinite;"
   ]
   }
,
{
		   "cell_type": "markdown",
		   "metadata": {},
		   "source": [
			"## Example 5.26: composite_trapizoidal_and_composite_simpson.sce"
		   ]
		  },
  {
"cell_type": "code",
	   "execution_count": null,
	   "metadata": {
	    "collapsed": true
	   },
	   "outputs": [],
"source": [
"// Example 5.26\n",
"// caption: 1) composite trapizoidal rule, 2) composite simpsons rule with 2,4 ,8 equal sub-intervals,\n",
"\n",
"// I=integral 1/(1+x) in the range [0,1]\n",
"\n",
"deff('[y]=f(x)','y=1/(1+x)')\n",
"\n",
"// when N=2; \n",
"// 1)composite trapizoidal rule\n",
"h=1/2;\n",
"x=0:h:1;\n",
"\n",
" IT=comptrapezoidal(x,h,f)\n",
" \n",
" // 2)composite simpsons rule\n",
" \n",
"  [I] = simpson13(x,h,f)\n",
"  \n",
"  \n",
"  // when N=4\n",
" // 1)composite trapizoidal rule\n",
"h=1/4;\n",
"x=0:h:1;\n",
"\n",
" IT=comptrapezoidal(x,h,f)\n",
" \n",
" // 2)composite simpsons rule\n",
" \n",
"  [I] = simpson13(x,h,f)\n",
"  \n",
"  \n",
"  \n",
"    // when N=8\n",
" // 1)composite trapizoidal rule\n",
"h=1/8;\n",
"x=0:h:1;\n",
"\n",
" IT=comptrapezoidal(x,h,f)\n",
" \n",
" // 2)composite simpsons rule\n",
"\n",
"  [I] = simpson13(x,h,f)"
   ]
   }
,
{
		   "cell_type": "markdown",
		   "metadata": {},
		   "source": [
			"## Example 5.27: integral_approximation_by_gauss_legurre_method.sce"
		   ]
		  },
  {
"cell_type": "code",
	   "execution_count": null,
	   "metadata": {
	    "collapsed": true
	   },
	   "outputs": [],
"source": [
"// example 5.27\n",
"// caption: gauss-legendre three point method\n",
"// I= integral 1/(1+x) in the range [0,1];\n",
"\n",
"// we are asked to subdivide the range into two,\n",
"// first we need to sub-divide the interval [0,1 ] to [0,1/2] and [1/2,1] and then transform both to [-1,1], since gauss-legendre three point method is applicable in the range[-1,1],\n",
"\n",
"// t=4x-1 and y=4x-3;\n",
"\n",
"// hence I=integral 1/(1+x) in the range [0,1]= integral 1/(t+5) in the range [-1,1]+ integral 1/(t+7) in the range [-1,1]\n",
"\n",
"\n",
"deff('[y1]=f1(t)','y1=1/(t+5)');\n",
"// since , from gauss legendre three point rule(n=2);\n",
"I1=(1/9)*(5*f1(-sqrt(3/5))+8*f1(0)+5*f1(sqrt(3/5))) \n",
"\n",
"deff('[y2]=f2(t)','y2=1/(t+7)');\n",
"// since , from gauss legendre three point rule(n=2);\n",
"I2=(1/9)*(5*f2(-sqrt(3/5))+8*f2(0)+5*f2(sqrt(3/5))) \n",
"\n",
"I=I1+I2\n",
"\n",
"// we know , exact solution is .693147;"
   ]
   }
,
{
		   "cell_type": "markdown",
		   "metadata": {},
		   "source": [
			"## Example 5.29: double_integral_using_simpson_rule.sce"
		   ]
		  },
  {
"cell_type": "code",
	   "execution_count": null,
	   "metadata": {
	    "collapsed": true
	   },
	   "outputs": [],
"source": [
"// example 5.29\n",
"// evaluate the given double integral using the simpsons rule;\n",
"\n",
"// I= double integral f(x)=1/(x+y) in the range x=[1,2],y=[1,1.5];\n",
"\n",
"h=.5;\n",
"k=.25;\n",
"deff('[w]=f(x,y)','w=1/(x+y)')\n",
"\n",
"I=(.125/9)*[{f(1,1)+f(2,1)+f(1,1.5)+f(2,1.5)}+4*{f(1.5,1)+f(1,1.25)+f(1.5,1.5)+f(2,1.25)}+16*f(1.5,1.25)];\n",
"disp(I);\n",
""
   ]
   }
,
{
		   "cell_type": "markdown",
		   "metadata": {},
		   "source": [
			"## Example 5.2: quadratic_interpolation.sce"
		   ]
		  },
  {
"cell_type": "code",
	   "execution_count": null,
	   "metadata": {
	    "collapsed": true
	   },
	   "outputs": [],
"source": [
"// example 5.2\n",
"// evaluate fp(.8) and fpp(.8) with quadratic interpolation;\n",
"\n",
"xL=[.4 .6 .8];\n",
"f=[.0256 .1296 .4096];\n",
"h=.2;\n",
"\n",
"fp=(1/2*h)*(f(1)-4*f(2)+3*f(3))              \n",
"fpp=(1/h^2)*(f(1)-2*f(2)+f(3))                          // from equation 5.22c and 5.24c in the book;"
   ]
   }
,
{
		   "cell_type": "markdown",
		   "metadata": {},
		   "source": [
			"## Example 5.30: double_integral_using_simpson_rule.sce"
		   ]
		  },
  {
"cell_type": "code",
	   "execution_count": null,
	   "metadata": {
	    "collapsed": true
	   },
	   "outputs": [],
"source": [
"// example 5.30\n",
"// evaluate the given double integral using the simpsons rule;\n",
"\n",
"// I= double integral f(x)=1/(x+y) in the range x=[1,2],y=[1,2];\n",
"// 1)\n",
"h=.5;\n",
"k=.5;\n",
"deff('[w]=f(x,y)','w=1/(x+y)')\n",
"\n",
"I=(1/16)*[{f(1,1)+f(2,1)+f(1,2)+f(2,2)}+2*{f(1.5,1)+f(1,1.5)+f(2,1.5)+f(1.5,2)}+4*f(1.5,1.5)]\n",
"\n",
"// 2)\n",
"h=.25;\n",
"k=.25;\n",
"deff('[w]=f(x,y)','w=1/(x+y)')\n",
"\n",
"I=(1/64)*[{f(1,1)+f(2,1)+f(1,2)+f(2,2)}+2*{f(5/4,1)+f(3/2,1)+f(7/4,1)+f(1,5/4)+f(1,3/2)+f(1,7/4)+f(2,5/4)+f(2,3/4)+f(2,7/4)+f(5/4,2)+f(3/2,2)+f(7/4,2)}+4*{f(5/4,5/4)+f(5/4,3/2)+f(5/4,7/4)+f(3/2,5/4)+f(3/2,3/2)+f(3/2,7/4)+f(7/4,5/4)+f(7/4,3/2)+f(7/4,7/4)}]\n",
""
   ]
   }
],
"metadata": {
		  "kernelspec": {
		   "display_name": "Scilab",
		   "language": "scilab",
		   "name": "scilab"
		  },
		  "language_info": {
		   "file_extension": ".sce",
		   "help_links": [
			{
			 "text": "MetaKernel Magics",
			 "url": "https://github.com/calysto/metakernel/blob/master/metakernel/magics/README.md"
			}
		   ],
		   "mimetype": "text/x-octave",
		   "name": "scilab",
		   "version": "0.7.1"
		  }
		 },
		 "nbformat": 4,
		 "nbformat_minor": 0
}
