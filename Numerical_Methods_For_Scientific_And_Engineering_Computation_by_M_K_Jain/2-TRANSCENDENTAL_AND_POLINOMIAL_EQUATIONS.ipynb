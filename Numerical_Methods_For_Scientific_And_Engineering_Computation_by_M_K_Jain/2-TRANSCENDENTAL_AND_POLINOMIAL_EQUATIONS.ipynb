{
"cells": [
 {
		   "cell_type": "markdown",
	   "metadata": {},
	   "source": [
       "# Chapter 2: TRANSCENDENTAL AND POLINOMIAL EQUATIONS"
	   ]
	},
{
		   "cell_type": "markdown",
		   "metadata": {},
		   "source": [
			"## Example 2.11: solution_to_the_given_equation_by_muller_method.sce"
		   ]
		  },
  {
"cell_type": "code",
	   "execution_count": null,
	   "metadata": {
	    "collapsed": true
	   },
	   "outputs": [],
"source": [
"                               // The equation x^3-5*x+1==0 has  real roots.\n",
"                          // the graph of this function can be observed here.\n",
"xset('window',10);                                   \n",
"x=-2:.01:4;                                       // defining the range of x.\n",
"deff('[y]=f(x)','y=x^3-5*x+1');                  //defining the cunction.\n",
"y=feval(x,f);\n",
" \n",
"a=gca(); \n",
" \n",
"a.y_location = 'origin';\n",
" \n",
"a.x_location = 'origin'; \n",
"plot(x,y)                                   // instruction to plot the graph \n",
"title(' y = x^3-5*x+1')\n",
"\n",
"// from the above plot we can infre that the function has roots between   \n",
"// the intervals (0,1),(2,3).\n",
"// since we have been asked for the smallest positive root of the equation,\n",
"// we are intrested on the interval (0,1)\n",
"\n",
"\n",
"        //sollution by muller method to 3 iterations.\n",
"        \n",
"muller3(0,.5,1,f)\n",
""
   ]
   }
,
{
		   "cell_type": "markdown",
		   "metadata": {},
		   "source": [
			"## Example 2.12: solution_by_five_itrations_of_muller_method.sce"
		   ]
		  },
  {
"cell_type": "code",
	   "execution_count": null,
	   "metadata": {
	    "collapsed": true
	   },
	   "outputs": [],
"source": [
"                                   // The equation cos(x)-x*%e^x==0 has  real roots.\n",
"                                   // the graph of this function can be observed here.\n",
"xset('window',8);                                   \n",
"x=-1:.001:2;                                             // defining the range of x.\n",
"deff('[y]=f(x)','y=cos(x)-x*%e^x');                  //defining the cunction.\n",
"deff('[y]=fp(x)','y=-sin(x)-x*%e^x-%e^x');\n",
"y=feval(x,f);\n",
" \n",
"a=gca(); \n",
" \n",
"a.y_location = 'origin';\n",
" \n",
"a.x_location = 'origin'; \n",
"plot(x,y)                                                  // instruction to plot the graph \n",
"title(' y = cos(x)-x*%e^x')\n",
"\n",
"// from the above plot we can infre that the function has root between   \n",
"// the interval (0,1)\n",
"\n",
"\n",
"        //sollution by muller method to 5 iterations.\n",
"        \n",
"\n",
"muller5(-1,0,1,f)"
   ]
   }
,
{
		   "cell_type": "markdown",
		   "metadata": {},
		   "source": [
			"## Example 2.13: solution_by_chebeshev_method.sce"
		   ]
		  },
  {
"cell_type": "code",
	   "execution_count": null,
	   "metadata": {
	    "collapsed": true
	   },
	   "outputs": [],
"source": [
"                                   // The equation x^3-5*x+1==0 has  real roots.\n",
"                                   // the graph of this function can be observed here.\n",
"xset('window',12);                                   \n",
"x=-2:.01:4;                                             // defining the range of x.\n",
"deff('[y]=f(x)','y=x^3-5*x+1');                  //defining the function.\n",
"deff('[y]=fp(x)','y=3*x^2-5');\n",
"deff('[y]=fpp(x)','y=6*x');\n",
"y=feval(x,f);\n",
" \n",
"a=gca(); \n",
" \n",
"a.y_location = 'origin';\n",
" \n",
"a.x_location = 'origin'; \n",
"plot(x,y)                                                  // instruction to plot the graph \n",
"title(' y = x^3-5*x+1')\n",
"\n",
"// from the above plot we can infre that the function has roots between   \n",
"// the intervals (0,1),(2,3).\n",
"// since we have been asked for the smallest positive root of the equation,\n",
"// we are intrested on the interval (0,1)\n",
"// a=0;b=1,\n",
"\n",
"\n",
"//                solution by chebyshev method\n",
"\n",
"// the approximate  root after 4 iterations can be observed.\n",
"\n",
"\n",
"chebyshev(0.5,f,fp)  \n",
"\n",
"\n",
"// hence the approximate root  witin the permissible error of 10^-15 is .2016402,"
   ]
   }
,
{
		   "cell_type": "markdown",
		   "metadata": {},
		   "source": [
			"## Example 2.14: solution_by_chebeshev_method.sce"
		   ]
		  },
  {
"cell_type": "code",
	   "execution_count": null,
	   "metadata": {
	    "collapsed": true
	   },
	   "outputs": [],
"source": [
"     \n",
"                       \n",
"                                   // The equation 1/x-7==0 has a real root.\n",
"                                   // the graph of this function can be observed here.\n",
"xset('window',13);                                   \n",
"x=0.001:.001:.25;                                             // defining the range of x.\n",
"deff('[y]=f(x)','y=1/x-7');                  //defining the function.\n",
"deff('[y]=fp(x)','y=-1/x^2');\n",
"y=feval(x,f);\n",
" \n",
"a=gca(); \n",
" \n",
"a.y_location = 'origin';\n",
" \n",
"a.x_location = 'origin'; \n",
"plot(x,y)                                                  // instruction to plot the graph \n",
"title(' y =1/x-7')\n",
"\n",
"// from the above plot we can infre that the function has roots between   \n",
"// the interval (0,2/7)\n",
"\n",
"\n",
"           //solution by chebyshev method\n",
"           \n",
"           \n",
" chebyshev(0.1,f,fp)                //calling the pre-defined function 'chebyshev' to find the approximate root in the range of (0,2/7).\n",
" \n",
" \n",
"\n",
" "
   ]
   }
,
{
		   "cell_type": "markdown",
		   "metadata": {},
		   "source": [
			"## Example 2.15: solution_by_chebeshev_method.sce"
		   ]
		  },
  {
"cell_type": "code",
	   "execution_count": null,
	   "metadata": {
	    "collapsed": true
	   },
	   "outputs": [],
"source": [
"                                   // The equation cos(x)-x*%e^x==0 has  real roots.\n",
"                                   // the graph of this function can be observed here.\n",
"xset('window',8);                                   \n",
"x=-1:.001:2;                                             // defining the range of x.\n",
"deff('[y]=f(x)','y=cos(x)-x*%e^x');                  //defining the cunction.\n",
"deff('[y]=fp(x)','y=-sin(x)-x*%e^x-%e^x');\n",
"deff('[y]=fpp(x)','y=-cos(x)-x*%e^x-2*%e^x');\n",
"y=feval(x,f);\n",
" \n",
"a=gca(); \n",
" \n",
"a.y_location = 'origin';\n",
" \n",
"a.x_location = 'origin'; \n",
"plot(x,y)                                                  // instruction to plot the graph \n",
"title(' y = cos(x)-x*%e^x')\n",
"\n",
"// from the above plot we can infre that the function has root between   \n",
"// the interval (0,1)\n",
"\n",
"\n",
"// a=0;b=1,\n",
"\n",
"\n",
"\n",
"            // solution by chebyshev with a permissible error of 10^-15.\n",
"\n",
"// we call a user-defined function 'chebyshev' so as to find the approximate \n",
"// root of the equation within the defined permissible error limit.  \n",
"\n",
"chebyshev(1,f,fp)\n",
"\n",
"\n",
"\n",
"// hence the approximate root witin the permissible error of 10^-15 is "
   ]
   }
,
{
		   "cell_type": "markdown",
		   "metadata": {},
		   "source": [
			"## Example 2.16: multipoint_iteration.sce"
		   ]
		  },
  {
"cell_type": "code",
	   "execution_count": null,
	   "metadata": {
	    "collapsed": true
	   },
	   "outputs": [],
"source": [
"                                   // The equation x^3-5*x+1==0 has  real roots.\n",
"                                   // the graph of this function can be observed here.\n",
"xset('window',15);                                   \n",
"x=-2:.01:4;                                             // defining the range of x.\n",
"deff('[y]=f(x)','y=x^3-5*x+1');                  //defining the function.\n",
"deff('[y]=fp(x)','y=3*x^2-5');\n",
"deff('[y]=fpp(x)','y=6*x');\n",
"y=feval(x,f);\n",
" \n",
"a=gca(); \n",
" \n",
"a.y_location = 'origin';\n",
" \n",
"a.x_location = 'origin'; \n",
"plot(x,y)                                                  // instruction to plot the graph \n",
"title(' y = x^3-5*x+1')\n",
"\n",
"// from the above plot we can infre that the function has roots between   \n",
"// the intervals (0,1),(2,3).\n",
"// since we have been asked for the smallest positive root of the equation,\n",
"// we are intrested on the interval (0,1)\n",
"// a=0;b=1,\n",
"\n",
"\n",
"//                solution by multipoint iteration method\n",
"\n",
"// the approximate  root after 3 iterations can be observed.\n",
"\n",
"\n",
"multipoint_iteration31(0.5,f,fp)  \n",
"\n",
"// hence the approximate root  witin the permissible error of 10^-15 is .201640,\n",
"\n",
"\n",
"\n",
"multipoint_iteration33(0.5,f,fp)\n",
"  \n",
"// hence the approximate root  witin the permissible error of 10^-15 is .201640,"
   ]
   }
,
{
		   "cell_type": "markdown",
		   "metadata": {},
		   "source": [
			"## Example 2.17: multipoint_iteration.sce"
		   ]
		  },
  {
"cell_type": "code",
	   "execution_count": null,
	   "metadata": {
	    "collapsed": true
	   },
	   "outputs": [],
"source": [
"                                   // The equation cos(x)-x*%e^x==0 has  real roots.\n",
"                                   // the graph of this function can be observed here.\n",
"xset('window',8);                                   \n",
"x=-1:.001:2;                                             // defining the range of x.\n",
"deff('[y]=f(x)','y=cos(x)-x*%e^x');                  //defining the function.\n",
"deff('[y]=fp(x)','y=-sin(x)-x*%e^x-%e^x');\n",
"deff('[y]=fpp(x)','y=-cos(x)-x*%e^x-2*%e^x');\n",
"y=feval(x,f);\n",
" \n",
"a=gca(); \n",
" \n",
"a.y_location = 'origin';\n",
" \n",
"a.x_location = 'origin'; \n",
"plot(x,y)                                                  // instruction to plot the graph \n",
"title(' y = cos(x)-x*%e^x')\n",
"\n",
"// from the above plot we can infre that the function has root between   \n",
"// the interval (0,1)\n",
"\n",
"\n",
"// a=0;b=1,\n",
"\n",
"\n",
"\n",
"            // solution by multipoint_iteration method using the formula given in equation no.2.33.\n",
"\n",
"// we call a user-defined function 'multipoint_iteration33' so as to find the approximate \n",
"// root of the equation within the defined permissible error limit.  \n",
"\n",
"multipoint_iteration33(1,f,fp)\n",
"\n",
"\n",
"// hence the approximate root witin the permissible error of 10^-5 is 0.5177574. "
   ]
   }
,
{
		   "cell_type": "markdown",
		   "metadata": {},
		   "source": [
			"## Example 2.1: intervals_containing_the_roots_of_the_equation.sce"
		   ]
		  },
  {
"cell_type": "code",
	   "execution_count": null,
	   "metadata": {
	    "collapsed": true
	   },
	   "outputs": [],
"source": [
"                                   // The equation 8*x^3-12*x^2-2*x+3==0 has three real roots.\n",
"                                   // the graph of this function can be observed here.\n",
"xset('window',0);                                   \n",
"x=-1:.01:2.5;                                             // defining the range of x.\n",
"deff('[y]=f(x)','y=8*x^3-12*x^2-2*x+3');                  //defining the cunction \n",
"y=feval(x,f);\n",
" \n",
"a=gca(); \n",
" \n",
"a.y_location = 'origin';\n",
" \n",
"a.x_location = 'origin'; \n",
"plot(x,y)                                                  // instruction to plot the graph\n",
"\n",
"title(' y = 8*x^3-12*x^2-2*x+3')\n",
"\n",
"// from the above plot we can infre that the function has roots between   \n",
"// the intervals (-1,0),(0,1),(1,2)."
   ]
   }
,
{
		   "cell_type": "markdown",
		   "metadata": {},
		   "source": [
			"## Example 2.23: general_iteration.sce"
		   ]
		  },
  {
"cell_type": "code",
	   "execution_count": null,
	   "metadata": {
	    "collapsed": true
	   },
	   "outputs": [],
"source": [
"                                   // The equation 3*x^3+4*x^2+4*x+1==0 has three real roots.\n",
"                                   // the graph of this function can be observed here.\n",
"xset('window',22);                                   \n",
"x=-1.5:.001:1.5;                                             // defining the range of x.\n",
"deff('[y]=f(x)','y=3*x^3+4*x^2+4*x+1');                  //defining the cunction \n",
"y=feval(x,f);\n",
" \n",
"a=gca(); \n",
" \n",
"a.y_location = 'origin';\n",
" \n",
"a.x_location = 'origin'; \n",
"plot(x,y)                                                  // instruction to plot the graph\n",
"title(' y =3*x^3+4*x^2+4*x+1')\n",
"// from the above plot we can infre that the function has root between   \n",
"// the interval (-1,0),\n",
"x0=-.5;                 // initial approximation \n",
"// let the iterative function g(x) be x+A*(3*x^3+4*x^2+4*x+1) =g(x);\n",
"// gp(x)=(1+A*(9*x^2+8*x+4) )\n",
"// we need to choose a value for A , which makes abs(gp(x0))<1\n",
"// hence abs(gp(x0))=abs(1+9*A/4)\n",
"A=-1:.1:1;\n",
"abs(1+9*A/4)            // tryin to check the values of abs(gp(x0)) for different values of A.\n",
"// from the above values of 'A' and the values of 'abs(gp(x0))',\n",
"// we can infer that for the vales of 'A 'in the range (-.8,0) g(x ) will be giving a converging solution ,\n",
"// hence deliberatele we choose a to be -0.5,\n",
"A=-0.5;\n",
"deff('[y]=g(x)','y= x-0.5*(3*x^3+4*x^2+4*x+1)');\n",
"deff('[y]=gp(x)','y= 1-0.5*(9*x^2+8*x+4)');      // hence defining g(x) and gp(x),\n",
"generaliteration(x0,g,gp)"
   ]
   }
,
{
		   "cell_type": "markdown",
		   "metadata": {},
		   "source": [
			"## Example 2.24_1: solution_by_general_iteration_and_aitken_method.sce"
		   ]
		  },
  {
"cell_type": "code",
	   "execution_count": null,
	   "metadata": {
	    "collapsed": true
	   },
	   "outputs": [],
"source": [
"                               // The equation x^3-5*x+1==0 has  real roots.\n",
"                          // the graph of this function can be observed here.\n",
"xset('window',2);                                   \n",
"x=-2:.01:4;                                       // defining the range of x.\n",
"deff('[y]=f(x)','y=x^3-5*x+1');                  //defining the function.\n",
"y=feval(x,f);\n",
" \n",
"a=gca(); \n",
" \n",
"a.y_location = 'origin';\n",
" \n",
"a.x_location = 'origin'; \n",
"plot(x,y)                                   // instruction to plot the graph \n",
"title(' y = x^3-5*x+1')\n",
"\n",
"// from the above plot we can infre that the function has roots between   \n",
"// the intervals (0,1),(2,3).\n",
"// since we have been asked for the smallest positive root of the equation,\n",
"// we are intrested on the interval (0,1)\n",
"\n",
"x0=.5; \n",
"\n",
"         //solution using linear iteration method for the first two iterations and aitken's process two times for the third iteration.\n",
"         \n",
"         deff('[y]=g(x)','y=1/5*(x^3+1)');\n",
"          deff('[y]=gp(x)','y=1/5*(3*x^2)');\n",
"          \n",
"          \n",
"generaliteration2(x0,g,gp)\n",
"\n",
"\n",
"// from the above iterations performed we can infer that-\n",
"x1=0.225;\n",
"x2=0.202278;\n",
"\n",
"\n",
"\n",
"\n",
"aitken(x0,x1,x2,g)          // calling the aitken method for one iteration"
   ]
   }
,
{
		   "cell_type": "markdown",
		   "metadata": {},
		   "source": [
			"## Example 2.24_2: solution_by_general_iteration_and_aitken_method.sce"
		   ]
		  },
  {
"cell_type": "code",
	   "execution_count": null,
	   "metadata": {
	    "collapsed": true
	   },
	   "outputs": [],
"source": [
"                            // The equation x-%e^-x==0 has  real roots.\n",
"                          // the graph of this function can be observed here.\n",
"xset('window',24);                                   \n",
"x=-3:.01:4;                                             // defining the range of x.\n",
"deff('[y]=f(x)','y=x-%e^-x');                  //defining the cunction.\n",
"y=feval(x,f);\n",
" \n",
"a=gca(); \n",
" \n",
"a.y_location = 'origin';\n",
" \n",
"a.x_location = 'origin'; \n",
"plot(x,y)                                                  // instruction to plot the graph \n",
"title(' y = x-%e^-x')\n",
"\n",
"// from the above plot we can infre that the function has root between   \n",
"// the interval (0,1)\n",
"\n",
"x0=1;\n",
"\n",
"          //solution using linear iteration method for the first two iterations and aitken's process two times for the third iteration.\n",
"          \n",
"          \n",
"         \n",
"         deff('[y]=g(x)','y=%e^-x');\n",
"         deff('[y]=gp(x)','y=-%e^-x');\n",
"         \n",
"        \n",
"generaliteration2(x0,g,gp)\n",
"\n",
"\n",
"// from the above iterations performed we can infer that-\n",
"x1=0.367879;\n",
"x2=0.692201;\n",
"\n",
"\n",
"\n",
"\n",
"aitken(x0,x1,x2,g)          // calling the aitken method for one iteration"
   ]
   }
,
{
		   "cell_type": "markdown",
		   "metadata": {},
		   "source": [
			"## Example 2.25: solution_by_general_iteration_and_aitken_method.sce"
		   ]
		  },
  {
"cell_type": "code",
	   "execution_count": null,
	   "metadata": {
	    "collapsed": true
	   },
	   "outputs": [],
"source": [
"                                   // The equation cos(x)-x*%e^x==0 has  real roots.\n",
"                                   // the graph of this function can be observed here.\n",
"xset('window',25);                                   \n",
"x=0:.01:2;                                             // defining the range of x.\n",
"deff('[y]=f(x)','y=cos(x)-x*%e^x');                  //defining the cunction.\n",
"y=feval(x,f);\n",
" \n",
"a=gca(); \n",
" \n",
"a.y_location = 'origin';\n",
" \n",
"a.x_location = 'origin'; \n",
"plot(x,y)                                                  // instruction to plot the graph \n",
"title(' y = cos(x)-x*%e^x')\n",
"\n",
"// from the above plot we can infre that the function has root between   \n",
"// the interval (0,1)\n",
"\n",
"x0=0;\n",
"\n",
"         //solution using linear iteration method for the first two iterations and aitken's process two times for the third iteration.\n",
"         \n",
"         deff('[y]=g(x)','y=x+1/2*(cos(x)-x*%e^x)');\n",
"         deff('[y]=gp(x)','y=1+1/2*(-sin(x)-x*%e^x-%e^x)');\n",
"         \n",
"         \n",
"generaliteration2(x0,g,gp)\n",
"\n",
"\n",
"// from the above iterations performed we can infer that-\n",
"x1=0.50000000;\n",
"x2=0.5266110;\n",
"\n",
"\n",
"\n",
"aitken(x0,x1,x2,g)          // calling the aitken method for one iteration"
   ]
   }
,
{
		   "cell_type": "markdown",
		   "metadata": {},
		   "source": [
			"## Example 2.26: solution_to_the_eq_with_multiple_roots.sce"
		   ]
		  },
  {
"cell_type": "code",
	   "execution_count": null,
	   "metadata": {
	    "collapsed": true
	   },
	   "outputs": [],
"source": [
"                                   // The equation x^3-7*x^2+16*x-12==0 has  real roots.\n",
"                                   // the graph of this function can be observed here.\n",
"xset('window',25);                                   \n",
"x=0:.001:4;                                             // defining the range of x.\n",
"deff('[y]=f(x)','y=x^3-7*x^2+16*x-12');                  //defining the cunction.\n",
"deff('[y]=fp(x)','y=3*x^2-14*x+16');\n",
"y=feval(x,f);\n",
" \n",
"a=gca(); \n",
" \n",
"a.y_location = 'origin';\n",
" \n",
"a.x_location = 'origin'; \n",
"plot(x,y)                                                  // instruction to plot the graph \n",
"title(' y = x^3-7*x^2+16*x-12')\n",
"\n",
"\n",
"\n",
"\n",
"// given that the equation has double roots at x=2 hence m=2;\n",
"\n",
"m=2;\n",
"\n",
"                  // solution by newton raphson method\n",
"                  \n",
"                 \n",
"newton(1,f,fp)                  // calling the user defined function\n",
"\n",
"\n",
"\n",
"\n",
"                        //solution by modified newton raphsons mathod\n",
"                        \n",
"                 \n",
"\n",
"modified_newton(1,f,fp)                     "
   ]
   }
,
{
		   "cell_type": "markdown",
		   "metadata": {},
		   "source": [
			"## Example 2.27: solution_to_the_given_transcendental_equation.sce"
		   ]
		  },
  {
"cell_type": "code",
	   "execution_count": null,
	   "metadata": {
	    "collapsed": true
	   },
	   "outputs": [],
"source": [
"                                   // The equation 27*x^5+27*x^4+36*x^3+28*x^2+9*x+1==0 has  real roots.\n",
"                                   // the graph of this function can be observed here.\n",
"xset('window',26);                                   \n",
"x=-2:.001:3;                                             // defining the range of x.\n",
"deff('[y]=f(x)','y=27*x^5+27*x^4+36*x^3+28*x^2+9*x+1');                  //defining the cunction.\n",
"deff('[y]=fp(x)','y=27*5*x^4+27*4*x^3+36*3*x^2+28*2*x+9');\n",
"deff('[y]=fpp(x)','y=27*5*4*x^3+27*4*3*x^2+36*3*2*x+28*2');\n",
"y=feval(x,f);\n",
" \n",
"a=gca(); \n",
" \n",
"a.y_location = 'origin';\n",
" \n",
"a.x_location = 'origin'; \n",
"plot(x,y)                                                  // instruction to plot the graph \n",
"title(' y = 27*x^5+27*x^4+36*x^3+28*x^2+9*x+1')\n",
"\n",
"\n",
"\n",
"\n",
"                  // solution by newton raphson method as per the equation no.  2.14\n",
"                  \n",
"                  \n",
"newton(-1,f,fp)                  // calling the user defined function\n",
"\n",
"\n",
"newton4(-1,f,fp)\n",
"\n",
"\n",
"                        // solution by newton raphson method as per the equation no.  2.63\n",
"\n",
"newton63(-1,f,fp,fpp)                  // calling the user defined function\n",
"                           // solution by the secant method defined to satisfy the equation no.2.64.\n",
"                           \n",
"    \n",
"secant64(0,-1,f,fp)\n",
"\n",
"\n",
"\n",
"\n",
"\n",
"\n",
"                           // solution by the secant method defined to satisfy the equation no.2.65.\n",
"                           \n",
"    \n",
"secant65(0,-.5,f)"
   ]
   }
,
{
		   "cell_type": "markdown",
		   "metadata": {},
		   "source": [
			"## Example 2.2: interval_containing_the_roots.sce"
		   ]
		  },
  {
"cell_type": "code",
	   "execution_count": null,
	   "metadata": {
	    "collapsed": true
	   },
	   "outputs": [],
"source": [
"                                   // The equation cos(x)-x*%e^x==0 has  real roots.\n",
"                                   // the graph of this function can be observed here.\n",
"xset('window',1);                                   \n",
"x=0:.01:2;                                             // defining the range of x.\n",
"deff('[y]=f(x)','y=cos(x)-x*%e^x');                  //defining the cunction.\n",
"y=feval(x,f);\n",
" \n",
"a=gca(); \n",
" \n",
"a.y_location = 'origin';\n",
" \n",
"a.x_location = 'origin'; \n",
"plot(x,y)                                                  // instruction to plot the graph \n",
"title(' y = cos(x)-x*%e^x')\n",
"\n",
"// from the above plot we can infre that the function has root between   \n",
"// the interval (0,1)"
   ]
   }
,
{
		   "cell_type": "markdown",
		   "metadata": {},
		   "source": [
			"## Example 2.3: solution_to_the_eq_by_bisection_method.sce"
		   ]
		  },
  {
"cell_type": "code",
	   "execution_count": null,
	   "metadata": {
	    "collapsed": true
	   },
	   "outputs": [],
"source": [
"                                   // The equation x^3-5*x+1==0 has  real roots.\n",
"                                   // the graph of this function can be observed here.\n",
"xset('window',2);                                   \n",
"x=-2:.01:4;                                             // defining the range of x.\n",
"deff('[y]=f(x)','y=x^3-5*x+1');                  //defining the cunction.\n",
"y=feval(x,f);\n",
" \n",
"a=gca(); \n",
" \n",
"a.y_location = 'origin';\n",
" \n",
"a.x_location = 'origin'; \n",
"plot(x,y)                                                  // instruction to plot the graph \n",
"title(' y = x^3-5*x+1')\n",
"\n",
"// from the above plot we can infre that the function has roots between   \n",
"// the intervals (0,1),(2,3).\n",
"// since we have been asked for the smallest positive root of the equation,\n",
"// we are intrested on the interval (0,1)\n",
"// a=0;b=1,\n",
"\n",
"// we call a user-defined function 'bisection' so as to find the approximate \n",
"// root of the equation with a defined permissible error.  \n",
"\n",
"bisection(0,1,f)\n",
"\n",
"// since in the example 2.3 we have been asked to perform 5 itterations\n",
"// the approximate  root after 5 iterations can be observed.\n",
"\n",
"\n",
"\n",
"bisection5(0,1,f)  \n",
"\n",
"\n",
"// hence the approximate root after 5 iterations is 0.203125 witin the permissible error of 10^-4,"
   ]
   }
,
{
		   "cell_type": "markdown",
		   "metadata": {},
		   "source": [
			"## Example 2.4: solution_to_the_eq_by_bisection_method.sce"
		   ]
		  },
  {
"cell_type": "code",
	   "execution_count": null,
	   "metadata": {
	    "collapsed": true
	   },
	   "outputs": [],
"source": [
"                                   // The equation cos(x)-x*%e^x==0 has  real roots.\n",
"                                   // the graph of this function can be observed here.\n",
"xset('window',3);                                   \n",
"x=0:.01:2;                                             // defining the range of x.\n",
"deff('[y]=f(x)','y=cos(x)-x*%e^x');                  //defining the cunction.\n",
"y=feval(x,f);\n",
" \n",
"a=gca(); \n",
" \n",
"a.y_location = 'origin';\n",
" \n",
"a.x_location = 'origin'; \n",
"plot(x,y)                                                  // instruction to plot the graph \n",
"title(' y = cos(x)-x*%e^x')\n",
"\n",
"// from the above plot we can infre that the function has root between   \n",
"// the interval (0,1)\n",
"\n",
"\n",
"// a=0;b=1,\n",
"\n",
"// we call a user-defined function 'bisection' so as to find the approximate \n",
"// root of the equation with a defined permissible error.  \n",
"\n",
"bisection(0,1,f)\n",
"\n",
"// since in the example 2.4 we have been asked to perform 5 itterations ,\n",
"\n",
"bisection5(0,1,f)  \n",
"\n",
"\n",
"// hence the approximate root after 5 iterations is 0.515625 witin the permissible error of 10^-4,"
   ]
   }
,
{
		   "cell_type": "markdown",
		   "metadata": {},
		   "source": [
			"## Example 2.5: solution_to_the_given_equation.sce"
		   ]
		  },
  {
"cell_type": "code",
	   "execution_count": null,
	   "metadata": {
	    "collapsed": true
	   },
	   "outputs": [],
"source": [
"                                   // The equation x^3-5*x+1==0 has  real roots.\n",
"                                   // the graph of this function can be observed here.\n",
"xset('window',4);                                   \n",
"x=-2:.01:4;                                             // defining the range of x.\n",
"deff('[y]=f(x)','y=x^3-5*x+1');                  //defining the cunction.\n",
"y=feval(x,f);\n",
" \n",
"a=gca(); \n",
" \n",
"a.y_location = 'origin';\n",
" \n",
"a.x_location = 'origin'; \n",
"plot(x,y)                                                  // instruction to plot the graph \n",
"title(' y = x^3-5*x+1')\n",
"\n",
"// from the above plot we can infre that the function has roots between   \n",
"// the intervals (0,1),(2,3).\n",
"// since we have been given the interval  to be considered as (0,1)\n",
"// a=0;b=1,\n",
"\n",
"\n",
"                                // Solution by secant method\n",
"\n",
"\n",
"\n",
"\n",
"\n",
"// since in the example 2.5 we have been asked to perform 4 itterations ,\n",
"secant4(0,1,f)            // we call a user-defined function 'bisection' so as to find the approximate \n",
"// root of the equation with a defined permissible error.  \n",
"\n",
"\n",
"\n",
"// hence the approximate root occured in secant method after 4 iterations is 0.201640 witin the permissible error of 10^-4,\n",
"\n",
"\n",
"\n",
"                              // solution by regular falsi  method\n",
"\n",
"\n",
"// since in the example 2.5 we have been asked to perform 4 itterations ,\n",
"\n",
"regulafalsi4(0,1,f)            // we call a user-defined function 'regularfalsi4' so as to find the approximate \n",
"// root of the equation with a defined permissible error.  \n",
"\n",
"\n",
"\n",
"// hence the approximate root occured in regularfalsi method after 4 iterations is 0.201640 witin the permissible error of 10^-4,"
   ]
   }
,
{
		   "cell_type": "markdown",
		   "metadata": {},
		   "source": [
			"## Example 2.6: solution_by_secant_and_regula_falsi.sce"
		   ]
		  },
  {
"cell_type": "code",
	   "execution_count": null,
	   "metadata": {
	    "collapsed": true
	   },
	   "outputs": [],
"source": [
"                                    // The equation cos(x)-x*%e^x==0 has  real roots.\n",
"                                   // the graph of this function can be observed here.\n",
"xset('window',3);                                   \n",
"x=0:.01:2;                                             // defining the range of x.\n",
"deff('[y]=f(x)','y=cos(x)-x*%e^x');                  //defining the cunction.\n",
"y=feval(x,f);\n",
" \n",
"a=gca(); \n",
" \n",
"a.y_location = 'origin';\n",
" \n",
"a.x_location = 'origin'; \n",
"plot(x,y)                                                  // instruction to plot the graph \n",
"title(' y = cos(x)-x*%e^x')\n",
"\n",
"// from the above plot we can infre that the function has root between   \n",
"// the interval (0,1)\n",
"\n",
"\n",
"// a=0;b=1,\n",
"\n",
"\n",
"                                // Solution by secant method\n",
"\n",
"\n",
"\n",
"\n",
"\n",
"// since in the example 2.6 we have no specification of the no. of itterations ,\n",
"// we define a function 'secant' and execute it.\n",
"\n",
"\n",
"\n",
"secant(0,1,f)            // we call a user-defined function 'secant' so as to find the approximate \n",
"// root of the equation with a defined permissible error.  \n",
"\n",
"\n",
"\n",
"// hence the approximate root occured in secant method witin the permissible error of 10^-5 is  ,\n",
"\n",
"\n",
"\n",
"                              // solution by regular falsi  method\n",
"\n",
"\n",
"\n",
"\n",
"\n",
"// since in the example 2.6 we have no specification of the no. of itterations ,\n",
"\n",
"\n",
"regulafalsi(0,1,f)            // we call a user-defined function 'regularfalsi' so as to find the approximate \n",
"// root of the equation with a defined permissible error.  \n",
"\n",
""
   ]
   }
,
{
		   "cell_type": "markdown",
		   "metadata": {},
		   "source": [
			"## Example 2.7: solution_to_the_equation_by_newton_raphson_method.sce"
		   ]
		  },
  {
"cell_type": "code",
	   "execution_count": null,
	   "metadata": {
	    "collapsed": true
	   },
	   "outputs": [],
"source": [
"                                   // The equation x^3-5*x+1==0 has  real roots.\n",
"                                   // the graph of this function can be observed here.\n",
"xset('window',6);                                   \n",
"x=-2:.01:4;                                             // defining the range of x.\n",
"deff('[y]=f(x)','y=x^3-5*x+1');                  //defining the function.\n",
"deff('[y]=fp(x)','y=3*x^2-5');\n",
"y=feval(x,f);\n",
" \n",
"a=gca(); \n",
" \n",
"a.y_location = 'origin';\n",
" \n",
"a.x_location = 'origin'; \n",
"plot(x,y)                                                  // instruction to plot the graph \n",
"title(' y = x^3-5*x+1')\n",
"\n",
"// from the above plot we can infre that the function has roots between   \n",
"// the intervals (0,1),(2,3).\n",
"// since we have been asked for the smallest positive root of the equation,\n",
"// we are intrested on the interval (0,1)\n",
"// a=0;b=1,\n",
"\n",
"// since in the example 2.7 we have been asked to perform 4 itterations ,\n",
"// the approximate  root after 4 iterations can be observed.\n",
"\n",
"\n",
"newton4(0.5,f,fp)  \n",
"\n",
"\n",
"// hence the approximate root after 4 iterations is 0.201640 witin the permissible error of 10^-15,"
   ]
   }
,
{
		   "cell_type": "markdown",
		   "metadata": {},
		   "source": [
			"## Example 2.8: solution_to_the_equation_by_newton_raphson_method.sce"
		   ]
		  },
  {
"cell_type": "code",
	   "execution_count": null,
	   "metadata": {
	    "collapsed": true
	   },
	   "outputs": [],
"source": [
"                                   // The equation x^3-17==0 has three real roots.\n",
"                                   // the graph of this function can be observed here.\n",
"xset('window',7);                                   \n",
"x=-5:.001:5;                                             // defining the range of x.\n",
"deff('[y]=f(x)','y=x^3-17');                  //defining the cunction.\n",
"deff('[y]=fp(x)','y=3*x^2');\n",
"y=feval(x,f);\n",
" \n",
"a=gca(); \n",
" \n",
"a.y_location = 'origin';\n",
" \n",
"a.x_location = 'origin'; \n",
"plot(x,y)                                                  // instruction to plot the graph \n",
"title(' y = x^3-17')\n",
"\n",
"// from the above plot we can infre that the function has root between   \n",
"// the interval (2,3).\n",
"\n",
"\n",
"\n",
"           //solution by newton raphson's method\n",
"           \n",
"           \n",
"\n",
" // since in example no.2.8 we have been asked to perform 4 iterations ,we define a fuction newton4'' which does newton raphson's method of finding approximate root upto 4 iterations,\n",
" \n",
"  \n",
" \n",
" newton4(2,f,fp)                //calling the pre-defined function 'newton4'.\n",
"       "
   ]
   }
,
{
		   "cell_type": "markdown",
		   "metadata": {},
		   "source": [
			"## Example 2.9: solution_to_the_equation_by_newton_raphson_method.sce"
		   ]
		  },
  {
"cell_type": "code",
	   "execution_count": null,
	   "metadata": {
	    "collapsed": true
	   },
	   "outputs": [],
"source": [
"                                   // The equation cos(x)-x*%e^x==0 has  real roots.\n",
"                                   // the graph of this function can be observed here.\n",
"xset('window',8);                                   \n",
"x=-1:.001:2;                                             // defining the range of x.\n",
"deff('[y]=f(x)','y=cos(x)-x*%e^x');                  //defining the cunction.\n",
"deff('[y]=fp(x)','y=-sin(x)-x*%e^x-%e^x');\n",
"y=feval(x,f);\n",
" \n",
"a=gca(); \n",
" \n",
"a.y_location = 'origin';\n",
" \n",
"a.x_location = 'origin'; \n",
"plot(x,y)                                                  // instruction to plot the graph \n",
"title(' y = cos(x)-x*%e^x')\n",
"\n",
"// from the above plot we can infre that the function has root between   \n",
"// the interval (0,1)\n",
"\n",
"\n",
"// a=0;b=1,\n",
"\n",
"\n",
"\n",
"            // solution by newton raphson's method with a permissible error of 10^-8.\n",
"\n",
"\n",
"// we call a user-defined function 'newton' so as to find the approximate \n",
"// root of the equation within the defined permissible error limit.  \n",
"\n",
"newton(1,f,fp)\n",
"\n",
"\n",
"\n",
"\n",
"\n",
"// hence the approximate root witin the permissible error of 10^-8 is 0.5177574. "
   ]
   }
],
"metadata": {
		  "kernelspec": {
		   "display_name": "Scilab",
		   "language": "scilab",
		   "name": "scilab"
		  },
		  "language_info": {
		   "file_extension": ".sce",
		   "help_links": [
			{
			 "text": "MetaKernel Magics",
			 "url": "https://github.com/calysto/metakernel/blob/master/metakernel/magics/README.md"
			}
		   ],
		   "mimetype": "text/x-octave",
		   "name": "scilab",
		   "version": "0.7.1"
		  }
		 },
		 "nbformat": 4,
		 "nbformat_minor": 0
}
