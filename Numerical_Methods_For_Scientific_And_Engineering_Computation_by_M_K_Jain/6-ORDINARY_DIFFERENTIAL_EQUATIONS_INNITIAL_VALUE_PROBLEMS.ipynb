{
"cells": [
 {
		   "cell_type": "markdown",
	   "metadata": {},
	   "source": [
       "# Chapter 6: ORDINARY DIFFERENTIAL EQUATIONS INNITIAL VALUE PROBLEMS"
	   ]
	},
{
		   "cell_type": "markdown",
		   "metadata": {},
		   "source": [
			"## Example 6.12: solution_ti_IVP_by_back_euler_method.sce"
		   ]
		  },
  {
"cell_type": "code",
	   "execution_count": null,
	   "metadata": {
	    "collapsed": true
	   },
	   "outputs": [],
"source": [
"// example 6.12,\n",
"// caption: solve the IVP by backward euler method,\n",
"// with h=0.2,\n",
"// u'=f(t,u)\n",
"deff('[z]=f(t,u)','z=-2*t*u^2');\n",
"\n",
"\n",
"[u] = backeuler(1,0,0.4,.2,f)     // h=0.2;\n",
""
   ]
   }
,
{
		   "cell_type": "markdown",
		   "metadata": {},
		   "source": [
			"## Example 6.13: solution_ti_IVP_by_euler_mid_point_method.sce"
		   ]
		  },
  {
"cell_type": "code",
	   "execution_count": null,
	   "metadata": {
	    "collapsed": true
	   },
	   "outputs": [],
"source": [
"// example 6.13,\n",
"// caption: solve the IVP by euler midpoint method,\n",
"// with h=0.2,\n",
"// u'=f(t,u)\n",
"deff('[z]=f(t,u)','z=-2*t*u^2');\n",
"deff('[w]=fp(t,u)','w=-2*u^2-4*u*t');\n",
"\n",
"\n",
"\n",
"[u] =  eulermidpoint(1,0,1,.2,f,fp)    // h=0.2;\n",
""
   ]
   }
,
{
		   "cell_type": "markdown",
		   "metadata": {},
		   "source": [
			"## Example 6.15: solution_ti_IVP_by_taylor_expansion.sce"
		   ]
		  },
  {
"cell_type": "code",
	   "execution_count": null,
	   "metadata": {
	    "collapsed": true
	   },
	   "outputs": [],
"source": [
"// example 6.15\n",
"//caption: solving ODE by tailor series method\n",
"// u'=t^2+ u^2,  u0=0;\n",
"\n",
"t=0;U=0;                   //at t=0, the value of u is 0\n",
"U1=0;                  // u1 is the 1st derivatove of the funtion u \n",
"U2=2*t+2*U*U1                // U2 ---- 2nd derivative\n",
"U3=2+2*(U*U2+U1^2)\n",
"U4=2*(U*U3+3*U1*U2)\n",
"U5=2*(U*U4+4*U1*U3+3*U2^2)\n",
"U6=2*(U*U5+5*U1*U4+10*U2*U3)\n",
"U7=2*(U*U6+6*U1*U5+15*U2*U4+10*U3^2)\n",
"U8=0;\n",
"U9=0;\n",
"U10=0;\n",
"U11=2*(U*U10+10*U1*U9+45*U2*U8+120*U3*U7+210*U4*U6+126*U5^2)\n",
"                                 // U11 is the 11th derivative of u\n",
"\n",
"\n",
"taylor(1)                             "
   ]
   }
,
{
		   "cell_type": "markdown",
		   "metadata": {},
		   "source": [
			"## Example 6.17: solution_ti_IVP_by_modified_euler_cauchy_and_heun.sce"
		   ]
		  },
  {
"cell_type": "code",
	   "execution_count": null,
	   "metadata": {
	    "collapsed": true
	   },
	   "outputs": [],
"source": [
"// example 6.17,\n",
"// caption: solve by 1)modified euler cauchy, 2)heun method\n",
"\n",
"// h=0.2\n",
"// 1) modified euler cauchy method,\n",
"\n",
"// u'=f(t,u)\n",
"// u'=-2tu^2\n",
"deff('[z]=f(t,u)','z=-2*t*u^2');\n",
"\n",
"modifiedeuler(1,0,.4,.2,f)       // calling the function,\n",
"\n",
"// 2) heun method,\n",
"deff('[z]=f(t,u)','z=-2*t*u^2');\n",
"\n",
"\n",
"heun(1,0,.4,.2,f)       // calling the function,"
   ]
   }
,
{
		   "cell_type": "markdown",
		   "metadata": {},
		   "source": [
			"## Example 6.18: solution_ti_IVP_by_fourth_order_range_kutta_method.sce"
		   ]
		  },
  {
"cell_type": "code",
	   "execution_count": null,
	   "metadata": {
	    "collapsed": true
	   },
	   "outputs": [],
"source": [
"// example 6.18,\n",
"// caption: use of 4th order runge kutta method,\n",
"\n",
"// u'=f(t,u)\n",
"// u'=-2tu^2\n",
"deff('[z]=f(t,u)','z=-2*t*u^2');\n",
"\n",
"RK4(1,0,.4,.2,f)       // calling the function,"
   ]
   }
,
{
		   "cell_type": "markdown",
		   "metadata": {},
		   "source": [
			"## Example 6.20: solution_to_the_IVP_systems.sce"
		   ]
		  },
  {
"cell_type": "code",
	   "execution_count": null,
	   "metadata": {
	    "collapsed": true
	   },
	   "outputs": [],
"source": [
"// example no. 6.20,\n",
"// caption: solve the system of equations\n",
"\n",
"//1) eulercauchy  method solving simultanious ODE\n",
"\n",
"deff('[z]=f1(t,u,v)','z=-3*u+2*v');\n",
"deff('[w]=f2(t,u,v)','w=3*u-4*v');\n",
"\n",
"\n",
"[u,v,t] = simeulercauchy(0,.5,0,.4,.2,f1,f2)\n",
"\n",
"// 2)  RK4 method solving simultanious ODE\n",
"\n",
"\n",
"\n",
"[u,v,t]=simRK4(0,.5,0,.4,.2,f1,f2)\n",
"\n",
""
   ]
   }
,
{
		   "cell_type": "markdown",
		   "metadata": {},
		   "source": [
			"## Example 6.21: solution_ti_IVP_by_second_order_range_kutta_method.sce"
		   ]
		  },
  {
"cell_type": "code",
	   "execution_count": null,
	   "metadata": {
	    "collapsed": true
	   },
	   "outputs": [],
"source": [
"// example  no. 6.21,\n",
"// caption: solving the IVP by implicit RK2 method \n",
"\n",
"// u'=f(t,u)\n",
"// u'=-2tu^2\n",
"//u(0)=1,h=0.2;\n",
"t0=0;h=0.2;tn=.4;u0=1;\n",
"deff('[z]=f(t,u)','z=-2*t*u^2');\n",
"umaxAllowed = 1e+100;\n",
"\n",
"t = [t0:h:tn]; u = zeros(t); n = length(u); u(1) = u0;\n",
"\n",
"for j = 1:n-1\n",
"   // k1=h*f(t(j)+h/2,u(j)+k1/2);\n",
"	// conidering the IVP we can infer that the above expression in non linear in k1,\n",
"// hence we use newton rapson method to solve for k1;\n",
"deff('[w]=F(u2)','w=k1+h*(2*t(j)+h)*(u(j)+k1/2)^2')    // u2=u(2)\n",
"deff('[x]=Fp(u2)','x=1+h*(2*t(j)+h)*(u(j)+k1/2)')\n",
"\n",
"k1=h*f(t(j),u(j));\n",
"\n",
"newton(k1,F,Fp);\n",
"   u(j+1) = u(j) +k1\n",
"   disp(u(j+1))\n",
"	\n",
"end;\n",
""
   ]
   }
,
{
		   "cell_type": "markdown",
		   "metadata": {},
		   "source": [
			"## Example 6.25: solution_ti_IVP_by_third_order_adamsbashfort_meth.sce"
		   ]
		  },
  {
"cell_type": "code",
	   "execution_count": null,
	   "metadata": {
	    "collapsed": true
	   },
	   "outputs": [],
"source": [
"// example 6.25\n",
"// caption: solving the IVP by adams-bashforth 3rd order method.\n",
"// u'=f(t,u)\n",
"// u'=-2tu^2\n",
"//u(0)=1,h=0.2;\n",
"deff('[z]=f(t,u)','z=-2*t*u^2');\n",
"\n",
"adamsbashforth3(1,0,1,.2,f)       // calling the function,"
   ]
   }
,
{
		   "cell_type": "markdown",
		   "metadata": {},
		   "source": [
			"## Example 6.27: solution_ti_IVP_by_third_order_adams_moult_method.sce"
		   ]
		  },
  {
"cell_type": "code",
	   "execution_count": null,
	   "metadata": {
	    "collapsed": true
	   },
	   "outputs": [],
"source": [
"// example 6.27\n",
"// solving IVP by 3rd order adams moulton\n",
"// u'=t^2+u^2,    u(1)=2,\n",
"// h=0.1,       [1,1.2]\n",
"deff('[z]=f(t,u)','z=t^2+u^2');\n",
"t0=1;u0=2;h=0.1;tn=1.2;\n",
"// third order adams moulton method,\n",
"// u(j+2)=u(j+1)+(h/12)*(5*f(t(j+2),u(j+2))+8*f(t(j+1),u(j+1))-f(t(j),u(j)));-  is the expression for adamsbas-moulton3\n",
"\n",
"\n",
"// on observing the IVP we can  inffer that this would be a non linear equation,\n",
"// u(j+2)=u(j+1)+(h/12)*(5*((t(j+2))^2+(u(j+2))^2)+8*((t(j+1))^2+(u(j+1))^2)-((t(j))^2+(u(j))^2))\n",
"\n",
"t = [t0:h:tn]; u = zeros(t); n = length(u); u(1) = u0;\n",
"for j = 1:n-2\n",
"    if j==1 then\n",
"         k1=h*f(t(j),u(j));\n",
"    k2=h*f(t(j)+h,u(j)+k1);\n",
"	u(j+1) = u(j) + (k2+k1)/2;\n",
"    disp(u(j+1))\n",
"    end;\n",
"end;\n",
"\n",
"// hence the third order adams moulton expression turns to be,\n",
"// u(2)= 0.041667*(u(2))^2+3.194629     \n",
"// let us use newton raphsom method to solve this,\n",
"deff('[w]=F(u2)','w=-u2+ 0.041667*(u2)^2+3.194629')    // u2=u(2)\n",
"deff('[x]=Fp(u2)','x=-1+ 0.041667*2*u2')\n",
"\n",
"// let us assume the initial guess of u(2)=u(1);\n",
"\n",
"newton(2.633333,F,Fp) "
   ]
   }
,
{
		   "cell_type": "markdown",
		   "metadata": {},
		   "source": [
			"## Example 6.32: solution_by_numerov_method.sce"
		   ]
		  },
  {
"cell_type": "code",
	   "execution_count": null,
	   "metadata": {
	    "collapsed": true
	   },
	   "outputs": [],
"source": [
"// example 6.32\n",
"// caption: solving the IVP by numerov method\n",
"// u''=(1+t^2)*u\n",
"// u(0)=1, u'(0)=0 ,[0,1]\n",
"// h=0.2,\n",
"\n",
"// expression for numerov method is \n",
"//u(j+1)-2*u(j)+u(j-1)=(h^2/12)*(u''(j+1)+10*u''(j)+u''(j-1));\n",
"\n",
"// observing the IVP we can reduce the  numerov method to \n",
"//u(2)=2*u(1)-u(0)+(.2^2/12)*(1.16*u(2)+10.4*u(1)+1);     for j=1\n",
"// u(3)=2*u(2)-u(1)+(.2^2/12)*(1.36*u(3)+11.6*u(2)+1.04*u(1));     for j=2\n",
"// u(4)=2*u(3)-u(2)+(.2^2/12)*(1.64*u(4)+13.6*u(3)+1.16*u(2));     for j=3\n",
"// u(5)=2*u(4)-u(3)+(.2^2/12)*(2*u(5)+16.4*u(4)+1.36*u(3));     for j=4\n",
"\n",
"// from taylor series expansion we observe that \n",
"u1=1.0202;u0=1;\n",
"//u2-(.2^2/12)*(1.16*u2)=2*u1-u0+(.2^2/12)*(10.4*u1+1);\n",
"u2=(1/.9961333)*2*u1-u0+(.2^2/12)*(10.4*u1+1)\n",
"\n",
"u3=(1/.995467)*(2.038667*u2-.996533*u1)\n",
"\n",
"u4=(1/.994533)*(2.045333*u3-.996133*u2)\n",
"\n",
"u5=(1/.993333)*(2.054667*u4-.995467*u3)"
   ]
   }
,
{
		   "cell_type": "markdown",
		   "metadata": {},
		   "source": [
			"## Example 6.3: solution_to_the_system_of_equations.sce"
		   ]
		  },
  {
"cell_type": "code",
	   "execution_count": null,
	   "metadata": {
	    "collapsed": true
	   },
	   "outputs": [],
"source": [
"// example 6.3\n",
"// solution to the given IVP\n",
"\n",
"disp('du/dt= A*u');\n",
"// u=[u1 u2]';\n",
"A=[-3 4 ;-2 3];                      // given \n",
"B=[1 0;0 1];                          // identity matrix;\n",
"\n",
"\n",
"\n",
" \n",
"[x,lam] = geigenvectors(A,B);\n",
"\n",
"// hence;\n",
"disp('u=c1*%e^t*x(:,1)+c2*%e^-t*x(:,2)');\n",
"disp('u1=c1*%e^t+c2*%e^-t*2')\n",
"disp('u2=c1*%e^t+c2*%e^-t')"
   ]
   }
,
{
		   "cell_type": "markdown",
		   "metadata": {},
		   "source": [
			"## Example 6.4: solution_ti_the_IVP.sce"
		   ]
		  },
  {
"cell_type": "code",
	   "execution_count": null,
	   "metadata": {
	    "collapsed": true
	   },
	   "outputs": [],
"source": [
"// example 6.4\n",
"// solution to the given IVP\n",
"\n",
"disp('du/dt= A*u');\n",
"// u=[u1 u2]';\n",
"A=[-2 1;1 -20];                      // given \n",
"B=[1 0;0 1];                          // identity matrix;\n",
"\n",
"\n",
"\n",
"\n",
" \n",
"[x,lam] = geigenvectors(A,B);\n",
"\n",
"// hence;\n",
"disp('u=c1*%e^(lam(1)*t)*x(:,1)+c2*%e^-(lam(2)*t)*x(:,2)');"
   ]
   }
,
{
		   "cell_type": "markdown",
		   "metadata": {},
		   "source": [
			"## Example 6.9: euler_method_to_solve_the_IVP.sce"
		   ]
		  },
  {
"cell_type": "code",
	   "execution_count": null,
	   "metadata": {
	    "collapsed": true
	   },
	   "outputs": [],
"source": [
"// example 6.9\n",
"// solve the IVP by euler method,\n",
"// with h=0.2, 0.1, 0.05;\n",
"// u'=f(t,u)\n",
"// u'=-2tu^2\n",
"deff('[z]=f(t,u)','z=-2*t*u^2');\n",
"\n",
"\n",
"[u,t] = Euler1(1,0,1,.2,f)      // h=0.2;\n",
"\n",
"[u,t] = Euler1(1,0,1,0.1,f)      // h=0.1;\n",
"\n",
"\n",
"[u,t] = Euler1(1,0,1,0.05,f)      // h=0.05; "
   ]
   }
],
"metadata": {
		  "kernelspec": {
		   "display_name": "Scilab",
		   "language": "scilab",
		   "name": "scilab"
		  },
		  "language_info": {
		   "file_extension": ".sce",
		   "help_links": [
			{
			 "text": "MetaKernel Magics",
			 "url": "https://github.com/calysto/metakernel/blob/master/metakernel/magics/README.md"
			}
		   ],
		   "mimetype": "text/x-octave",
		   "name": "scilab",
		   "version": "0.7.1"
		  }
		 },
		 "nbformat": 4,
		 "nbformat_minor": 0
}
