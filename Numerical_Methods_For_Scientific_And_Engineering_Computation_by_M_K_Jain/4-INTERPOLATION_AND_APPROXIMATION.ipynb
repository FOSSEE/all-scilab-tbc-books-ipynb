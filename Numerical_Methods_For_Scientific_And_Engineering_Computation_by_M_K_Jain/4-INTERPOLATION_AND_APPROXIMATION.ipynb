{
"cells": [
 {
		   "cell_type": "markdown",
	   "metadata": {},
	   "source": [
       "# Chapter 4: INTERPOLATION AND APPROXIMATION"
	   ]
	},
{
		   "cell_type": "markdown",
		   "metadata": {},
		   "source": [
			"## Example 4.15: forward_and_backward_difference_polynomial.sce"
		   ]
		  },
  {
"cell_type": "code",
	   "execution_count": null,
	   "metadata": {
	    "collapsed": true
	   },
	   "outputs": [],
"source": [
"// example 4.15:\n",
"// obtain the interpolate using backward differences polinomial\n",
"\n",
"\n",
"xL=[.1 .2 .3 .4 .5 ]'\n",
"\n",
"f=[1.4 1.56 1.76 2 2.28]'\n",
"n=2;\n",
"\n",
"\n",
"// hence;\n",
"disp('P=1.4+(x-.1)*(.16/.1)+(x-.5)*(x-.4)*(.04/.02)')\n",
"disp('P=2x^2+x+1.28');\n",
"\n",
"// 1) obtain the interpolate at x=0.25;\n",
"x=0.25;\n",
"[P]=NBDP(x,n,xL,f);\n",
"P\n",
"disp('f(.25)=1.655');\n",
"\n",
"\n",
"// 2) obtain the interpolate at x=0.35;\n",
"x=0.35;\n",
"[P]=NBDP(x,n,xL,f);\n",
"P\n",
"disp('f(.35)=1.875');"
   ]
   }
,
{
		   "cell_type": "markdown",
		   "metadata": {},
		   "source": [
			"## Example 4.20: hermite_interpolation.sce"
		   ]
		  },
  {
"cell_type": "code",
	   "execution_count": null,
	   "metadata": {
	    "collapsed": true
	   },
	   "outputs": [],
"source": [
"// example 4.20;\n",
"// hermite interpolation:\n",
"\n",
"x=[-1 0 1];\n",
"\n",
"f=[1  1 3];\n",
"\n",
"fp=[-5 1 7];\n",
"\n",
" P= hermiteinterpol(x,f,fp);\n",
" \n",
"// hence; \n",
"disp('f(-0.5)=3/8');\n",
"disp('f(0.5)=11/8');"
   ]
   }
,
{
		   "cell_type": "markdown",
		   "metadata": {},
		   "source": [
			"## Example 4.21: piecewise_linear_interpolating_polinomial.sce"
		   ]
		  },
  {
"cell_type": "code",
	   "execution_count": null,
	   "metadata": {
	    "collapsed": true
	   },
	   "outputs": [],
"source": [
"// example: 4.21;\n",
"// piecewise linear interpolating polinomials:\n",
"\n",
"x1=1;x2=2; x3=4;x4=8;\n",
"f1=3; f2=7; f3=21; f4=73;\n",
"//  we need to apply legranges interpolation in sub-ranges [1,2];[2,4],[4,8];\n",
"\n",
" x=poly(0,'x');\n",
"\n",
"P1=legrangeinterpol (x1,x2,f1,f2);         // in the range [1,2]\n",
"P1\n",
"\n",
"P1=legrangeinterpol (x2,x3,f2,f3);         // in the range [2,4]\n",
"P1\n",
"\n",
"P1=legrangeinterpol (x3,x4,f3,f4);         // in the range [4,8]\n",
"P1"
   ]
   }
,
{
		   "cell_type": "markdown",
		   "metadata": {},
		   "source": [
			"## Example 4.22: piecewise_quadratic_interpolating_polinomial.sce"
		   ]
		  },
  {
"cell_type": "code",
	   "execution_count": null,
	   "metadata": {
	    "collapsed": true
	   },
	   "outputs": [],
"source": [
"// example: 4.22;\n",
"// piecewise quadratic interpolating polinomials:\n",
"\n",
"X=[-3 -2 -1 1 3 6 7];\n",
"F=[369 222 171 165 207 990 1779];\n",
"//  we need to apply legranges interpolation in sub-ranges [-3 ,-1];[-1,3],[3,7];\n",
"\n",
" x=poly(0,'x');\n",
" \n",
"  // 1) in the range [-3,-1]\n",
"  x=[-3 -2 -1];\n",
"  f=[369 222 171];\n",
"  n=2;\n",
"P2=lagrangefundamentalpoly(x,f,n);\n",
"\n",
" // 2) in the range [-1,3]\n",
" x=[-1 1 3];\n",
" f=[171 165 207];\n",
"n=2;\n",
"P2=lagrangefundamentalpoly(x,f,n) \n",
"\n",
" // 3) in the range [3,7] \n",
"  x=[3 6 7];\n",
" f=[207 990 1779];\n",
"n=2;\n",
"P2=lagrangefundamentalpoly(x,f,n) \n",
"\n",
"\n",
"\n",
"// hence, we obtain the values of f(-2.5)=48;  f(6.5)=1351.5;"
   ]
   }
,
{
		   "cell_type": "markdown",
		   "metadata": {},
		   "source": [
			"## Example 4.23: piecewise_cubical_interpolating_polinomial.sce"
		   ]
		  },
  {
"cell_type": "code",
	   "execution_count": null,
	   "metadata": {
	    "collapsed": true
	   },
	   "outputs": [],
"source": [
"// example: 4.23;\n",
"// piecewise cubical interpolating polinomials:\n",
"\n",
"X=[-3 -2 -1 1 3 6 7];\n",
"F=[369 222 171 165 207 990 1779];\n",
"//  we need to apply legranges interpolation in sub-ranges [-3 ,1];[1,7];\n",
"\n",
"\n",
" x=poly(0,'x');\n",
" \n",
"  // 1) in the range [-3,1]\n",
"  x=[-3 -2 -1 1];\n",
"  f=[369 222 171 165];\n",
"  n=3;\n",
"P2=lagrangefundamentalpoly(x,f,n);\n",
"\n",
" // 2) in the range [1,7]\n",
" x=[1 3 6 7];\n",
" f=[165 207 990 1779];\n",
"n=3;\n",
"P2=lagrangefundamentalpoly(x,f,n) \n",
"\n",
" \n",
" \n",
" // hence, \n",
" disp('f(6.5)=1339.25');"
   ]
   }
,
{
		   "cell_type": "markdown",
		   "metadata": {},
		   "source": [
			"## Example 4.31: linear_approximation.sce"
		   ]
		  },
  {
"cell_type": "code",
	   "execution_count": null,
	   "metadata": {
	    "collapsed": true
	   },
	   "outputs": [],
"source": [
"// example 4.31\n",
"// obtain the linear polinomial approximation to the function f(x)=x^3\n",
"\n",
"// let P(x)=a0*x+a1\n",
"\n",
"// hence I(a0,a1)= integral (x^3-(a0*x+a1))^2 in the interval [0,1]\n",
"\n",
"printf('I=1/7-2*(a0/5+a1/4)+a0^2/3+a0*a1+a1^2')\n",
"printf('dI/da0 = -2/5+2/3*a0+a1=0')\n",
"\n",
"printf('dI/da1 = -1/2+a0+2*a1=0')\n",
"\n",
"// hence\n",
"\n",
"printf('[2/3 1;1 2]*[a0 ;a1]=[2/5; 1/2]')\n",
"\n",
"// solving for a0 and a1;\n",
"\n",
"a0=9/10;\n",
"a1=-1/5;\n",
"// hence  considering the polinomial with intercept P1(x)=(9*x-2)/10;\n",
"\n",
"// considering the polinomial approximation through origin P2(x)=3*x/5;"
   ]
   }
,
{
		   "cell_type": "markdown",
		   "metadata": {},
		   "source": [
			"## Example 4.32: linear_polinomial_approximation.sce"
		   ]
		  },
  {
"cell_type": "code",
	   "execution_count": null,
	   "metadata": {
	    "collapsed": true
	   },
	   "outputs": [],
"source": [
"// example 4.32\n",
"// obtain the linear polinomial approximation to the function f(x)=x^1/2\n",
"\n",
"// let P(x)=a0*x+a1\n",
"\n",
"\n",
"// for n=1;\n",
"// hence I(c0,c1)= integral (x^1/2-(c1*x+c0))^2 in the interval [0,1]\n",
"\n",
"\n",
"printf('dI/dc0 = -2*(2/3-c0-c1/2)=0')\n",
"\n",
"printf('dI/dc1 =-2*(2/5-c0/2-c1/3) =0')\n",
"\n",
"// hence\n",
"\n",
"printf('[1 1/2;1/2 1/3]*[c0 ;c1]=[-4/3; -4/5]')\n",
"\n",
"//  hence solving for c0 and c1;\n",
"\n",
"\n",
"// the first degree square approximation P(x)=4*(1+3*x)/15;\n",
"\n",
"// for n=2;\n",
"\n",
"// hence I(c0,c1,c2)= integral (x^1/2-(c2*x^2+c1*x+c0))^2 in the interval [0,1]\n",
"\n",
"\n",
"printf('dI/dc0 = (2/3-c0-c1/2-c2/2)=0')\n",
"\n",
"printf('dI/dc1 =(2/5-c0/2-c1/3-c2/4) =0')\n",
"\n",
"printf('dI/dc2 =(2/7-c0/3-c1/4-c2/5) =0')\n",
"\n",
"\n",
"// hence\n",
"\n",
"printf('[1 1/2 1/2;1/2 1/3 1/4;1/3 1/4 1/5]*[c0 ;c1;c2]=[-2/3; -2/5;-2/7]')\n",
"\n",
"//  hence solving for c0,c1 and c2;\n",
"\n",
"\n",
"// the first degree square approximation P(x)=(6+48*x-20*x^2)/35;\n",
"\n",
""
   ]
   }
,
{
		   "cell_type": "markdown",
		   "metadata": {},
		   "source": [
			"## Example 4.34: least_square_straight_fit.sce"
		   ]
		  },
  {
"cell_type": "code",
	   "execution_count": null,
	   "metadata": {
	    "collapsed": true
	   },
	   "outputs": [],
"source": [
"// example 4.34\n",
"\n",
"// obtain least square straight line fit\n",
"\n",
"x=[.2 .4 .6 .8 1];\n",
"f=[.447 .632 .775 .894 1];\n",
"\n",
"\n",
"[P]=straightlineapprox(x,f)        // call of the function to get the desired solution"
   ]
   }
,
{
		   "cell_type": "markdown",
		   "metadata": {},
		   "source": [
			"## Example 4.35: least_square_approximatio.sce"
		   ]
		  },
  {
"cell_type": "code",
	   "execution_count": null,
	   "metadata": {
	    "collapsed": true
	   },
	   "outputs": [],
"source": [
"// example 4.35\n",
"\n",
"// obtain least square approximation of second degree;\n",
"x=[-2 -1 0 1 2];\n",
"f=[15 1 1 3 19];\n",
"\n",
"[P]=quadraticapprox(x,f)       // call of the function to get the desired solution"
   ]
   }
,
{
		   "cell_type": "markdown",
		   "metadata": {},
		   "source": [
			"## Example 4.36: least_square_fit.sce"
		   ]
		  },
  {
"cell_type": "code",
	   "execution_count": null,
	   "metadata": {
	    "collapsed": true
	   },
	   "outputs": [],
"source": [
"// example 4.36\n",
"// method of least squares to fit the data to the curve P(x)=c0*X+c1/squrt(X)\n",
"\n",
"x=[.2 .3 .5 1 2];\n",
"f=[16 14 11 6 3];\n",
"\n",
"// I(c0,c1)= summation of (f(x)-(c0*X+c1/sqrt(X)))^2 \n",
"\n",
"// hence on parcially derivating the summation,\n",
"\n",
"n=length(x);m=length(f);\n",
"if m<>n then \n",
"   error('linreg - Vectors x and f are not of the same length.');\n",
"   abort;\n",
"end;\n",
"\n",
"s1=0;                        // s1= summation of x(i)*f(i)\n",
"s2=0;                        // s2= summation of f(i)/sqrt(x(i))\n",
"s3=0;\n",
"for i=1:n\n",
"    s1=s1+x(i)*f(i);\n",
"    s2=s2+f(i)/sqrt(x(i));\n",
"    s3=s3+1/x(i);\n",
"end\n",
"\n",
"c0=det([s1 sum(sqrt(x));s2 s3])/det([sum(x^2) sum(sqrt(x));sum(sqrt(x)) s3])\n",
"\n",
"c1=det([sum(x^2) s1;sum(sqrt(x)) s2])/det([sum(x^2) sum(sqrt(x));sum(sqrt(x)) s3])\n",
"X=poly(0,'X');\n",
"P=c0*X+c1/X^1/2\n",
"// hence  considering the polinomial  P(x)=7.5961*X^1/2-1.1836*X"
   ]
   }
,
{
		   "cell_type": "markdown",
		   "metadata": {},
		   "source": [
			"## Example 4.37: least_square_fit.sce"
		   ]
		  },
  {
"cell_type": "code",
	   "execution_count": null,
	   "metadata": {
	    "collapsed": true
	   },
	   "outputs": [],
"source": [
"// example 4.37\n",
"// method of least squares to fit the data to the curve P(x)=a*%e^(-3*t)+b*%e^(-2*t);\n",
"\n",
"t=[.1 .2 .3 .4];\n",
"f=[.76 .58 .44 .35];\n",
"\n",
"// I(c0,c1)= summation of (f(x)-a*%e^(-3*t)+b*%e^(-2*t))\n",
"\n",
"// hence on parcially derivating the summation,\n",
"\n",
"n=length(t);m=length(f);\n",
"if m<>n then \n",
"   error('linreg - Vectors t and f are not of the same length.');\n",
"   abort;\n",
"end;\n",
"\n",
"s1=0;                        // s1= summation of f(i)*%e^(-3*t(i));\n",
"s2=0;                        // s2= summation of f(i)*%e^(-2*t(i));\n",
"\n",
"for i=1:n\n",
"    s1=s1+f(i)*%e^(-3*t(i));\n",
"    s2=s2+f(i)*%e^(-2*t(i));\n",
"    \n",
"end\n",
"\n",
"a=det([s1 sum(%e^(-5*t)); s2 sum(%e^(-4*t))])/det([sum(%e^(-6*t)) sum(%e^(-5*t)); sum(%e^(-5*t)) sum(%e^(-4*t))])\n",
"\n",
"b=det([sum(%e^(-6*t)) s1; sum(%e^(-5*t)) s2])/det([sum(%e^(-6*t)) sum(%e^(-5*t)); sum(%e^(-5*t)) sum(%e^(-4*t))])\n",
"\n",
"// hence  considering the polinomial  P(t)=.06853*%e^(-3*t)+0.3058*%e^(-2*t)"
   ]
   }
,
{
		   "cell_type": "markdown",
		   "metadata": {},
		   "source": [
			"## Example 4.38: gram_schmidt_orthogonalisation.sce"
		   ]
		  },
  {
"cell_type": "code",
	   "execution_count": null,
	   "metadata": {
	    "collapsed": true
	   },
	   "outputs": [],
"source": [
"// example 4.38\n",
"// gram schmidt orthogonalisation\n",
"\n",
"W=1;\n",
" x=poly(0,'x');\n",
"    P0=1;\n",
"    phi0=P0;\n",
"      a10=integrate('W*x*phi0','x',0,1)/integrate('W*1*phi0','x',0,1)\n",
"    P1=x-a10*phi0\n",
"    phi1=P1;\n",
"    \n",
"      a20=integrate('W*x^2*phi0','x',0,1)/integrate('W*1*phi0','x',0,1)\n",
"     \n",
"    a21=integrate('(x^2)*(x-1/2)','x',0,1)/integrate('(x-1/2)^2','x',0,1)\n",
"    \n",
"    P2=x^2-a20*x-a21*phi1\n",
"    \n",
"// since ,I= intgral [x^(1/2)-c0*P0-c1*P1-c2*P2]^2 inthe range [0,1]\n",
"\n",
"// hence partially derivating I \n",
"\n",
"c0=integrate('x^(1/2)','x',0,1)/integrate('1','x',0,1)   \n",
"c1=integrate('(x^(1/2))*(x-(1/2))','x',0,1)/integrate('(x-(1/2))^2','x',0,1)\n",
"c1=integrate('(x^(1/2))*(x^2-4*x/3+1/2)','x',0,1)/integrate('(x^2-4*x/3+1/2)^2','x',0,1)\n",
"\n",
""
   ]
   }
,
{
		   "cell_type": "markdown",
		   "metadata": {},
		   "source": [
			"## Example 4.39: gram_schmidt_orthogonalisation.sce"
		   ]
		  },
  {
"cell_type": "code",
	   "execution_count": null,
	   "metadata": {
	    "collapsed": true
	   },
	   "outputs": [],
"source": [
"// example 4.39\n",
"// gram schmidt orthogonalisation\n",
"\n",
"// 1)\n",
" W=1;\n",
" x=poly(0,'x');\n",
"    P0=1\n",
"    phi0=P0;\n",
"      a10=0;\n",
"    P1=x-a10*phi0\n",
"    phi1=P1;\n",
"    \n",
"     a20=integrate('x^2','x',-1,1)/integrate('W*1*phi0','x',-1,1);\n",
"     \n",
"    a21=integrate('(x^3)','x',-1,1)/integrate('(x)^2','x',-1,1);\n",
"    \n",
"    P2=x^2-a20*x-a21*phi1\n",
"    \n",
"\n",
"// 2)\n",
"disp(' W=1/(1-x^2)^(1/2)');\n",
" x=poly(0,'x');\n",
"    P0=1\n",
"    phi0=P0;\n",
"      a10=0;\n",
"    P1=x-a10*phi0\n",
"    phi1=P1;\n",
"    \n",
"     a20=integrate('x^2/(1-x^2)^(1/2)','x',-1,1)/integrate('1/(1-x^2)^(1/2)','x',-1,1);\n",
"     \n",
"    a21=0;                         // since x^3 is an odd function;\n",
"    \n",
"    P2=x^2-a20*x-a21*phi1\n",
"    "
   ]
   }
,
{
		   "cell_type": "markdown",
		   "metadata": {},
		   "source": [
			"## Example 4.3: linear_interpolation_polinomial.sce"
		   ]
		  },
  {
"cell_type": "code",
	   "execution_count": null,
	   "metadata": {
	    "collapsed": true
	   },
	   "outputs": [],
"source": [
" // example 4.3\n",
" // find the linear interpolation polinomial\n",
" // using \n",
" \n",
" disp('f(2)=4');\n",
" disp('f(2.5)=5.5');\n",
" // 1)lagrange interpolation, \n",
" \n",
" P1=legrangeinterpol (2,2.5,4,5.5)\n",
" // 2)aitken's iterated interpolation,\n",
" \n",
" P1=aitkeninterpol (2,2.5,4,5.5)\n",
" \n",
" // 3) newton devided differance interpolation,\n",
" \n",
" P1=NDDinterpol (2,2.5,4,5.5)\n",
" \n",
" // hence approximate value of f(2.2)= 4.6;\n",
" "
   ]
   }
,
{
		   "cell_type": "markdown",
		   "metadata": {},
		   "source": [
			"## Example 4.41: chebishev_polinomial.sce"
		   ]
		  },
  {
"cell_type": "code",
	   "execution_count": null,
	   "metadata": {
	    "collapsed": true
	   },
	   "outputs": [],
"source": [
"// example 4.41\n",
"// using chebyshev polinomials obtain least squares approximation of second degree;\n",
"\n",
"// the chebeshev polinomials;\n",
"x=poly(0,'x');\n",
"T0=1;\n",
"T1=x;\n",
"T2=2*x^2-1;\n",
"\n",
"\n",
"// I=integrate ('1/(1-x^2)^(1/2)*(x^4-c0*T0-c1*T1-c2*T2)^2','x',-1,1)\n",
"\n",
"// since;\n",
"c0=integrate('(1/3.14)*(x^4)/(1-x^2)^(1/2)','x',-1,1)\n",
"\n",
"c1=integrate('(2/3.14)*(x^5)/(1-x^2)^(1/2)','x',-1,1)\n",
"\n",
"c2=integrate('(2/3.14)*(x^4)*(2*x^2-1)/(1-x^2)^(1/2)','x',-1,1)\n",
"\n",
" f=(3/8)*T0+(1/2)*T2;"
   ]
   }
,
{
		   "cell_type": "markdown",
		   "metadata": {},
		   "source": [
			"## Example 4.4: linear_interpolation_polinomial.sce"
		   ]
		  },
  {
"cell_type": "code",
	   "execution_count": null,
	   "metadata": {
	    "collapsed": true
	   },
	   "outputs": [],
"source": [
" // example 4.4\n",
" // find the linear interpolation polinomial\n",
" // using lagrange interpolation, \n",
" \n",
" disp('sin(.1)=.09983; sin(.2)=.19867');\n",
" \n",
" \n",
" P1=legrangeinterpol (.1,.2,.09983,.19867)\n",
" \n",
"// hence; \n",
"disp('P(.15)=.00099+.9884*.15')\n",
"disp('P(0.15)=0.14925');"
   ]
   }
,
{
		   "cell_type": "markdown",
		   "metadata": {},
		   "source": [
			"## Example 4.6: legrange_linear_interpolation_polinomial.sce"
		   ]
		  },
  {
"cell_type": "code",
	   "execution_count": null,
	   "metadata": {
	    "collapsed": true
	   },
	   "outputs": [],
"source": [
"//  example :4.6\n",
"//  caption : obtain the legrange linear interpolating polinomial\n",
"\n",
"\n",
"// 1)  obtain the legrange linear interpolating polinomial in the interval [1,3] and obtain approximate value of f(1.5),f(2.5);\n",
"x0=1;x1=2;x2=3;f0=.8415;f1=.9093;f2=.1411;\n",
"\n",
"P13=legrangeinterpol (x0,x2,f0,f2)              //in the range [1 ,3]\n",
"\n",
"\n",
"P12=legrangeinterpol (x0,x1,f0,f1)                // in the range [1,2]\n",
"\n",
"P23=legrangeinterpol (x1,x2,f1,f2)                 // inthe range [2,3]\n",
"\n",
"// from P23 we find that ; where as exact value is sin(2.5)=0.5985; \n",
"disp('P(1.5)=0.8754');\n",
"disp('exact value of sin(1.5)=.9975')\n",
"disp('P(2.5)=0.5252');"
   ]
   }
,
{
		   "cell_type": "markdown",
		   "metadata": {},
		   "source": [
			"## Example 4.7: polynomial_of_degree_two.sce"
		   ]
		  },
  {
"cell_type": "code",
	   "execution_count": null,
	   "metadata": {
	    "collapsed": true
	   },
	   "outputs": [],
"source": [
" // example 4.7\n",
" // polinomial of degree 2;\n",
" \n",
" // f(0)=1;f(1)=3;f(3)=55;\n",
" \n",
" // using legrange fundamental polinomial rule,\n",
" \n",
" x=[0 1 3];                       // arrainging the inputs of the function as elements of a row, \n",
" f=[1 3 55];                       // arrainging the outputs of the function as elements of a row, \n",
" n=2;                               // degree of the polinomial;\n",
"\n",
" \n",
" P2=lagrangefundamentalpoly(x,f,n)\n",
" \n",
" "
   ]
   }
,
{
		   "cell_type": "markdown",
		   "metadata": {},
		   "source": [
			"## Example 4.8: solution_by_quadratic_interpolation.sce"
		   ]
		  },
  {
"cell_type": "code",
	   "execution_count": null,
	   "metadata": {
	    "collapsed": true
	   },
	   "outputs": [],
"source": [
"   \n",
" // example 4.8\n",
" // caption: solution by quadratic interpolation;\n",
" \n",
" // x-degrees:[10 20 30]\n",
" // hence x in radians is\n",
" x=[3.14/18 3.14/9 3.14/6];\n",
" f=[1.1585 1.2817 1.3660];\n",
" n=2;\n",
" \n",
" \n",
" P2=lagrangefundamentalpoly(x,f,n)\n",
" \n",
" // hence from P2 ,the exact value of f(3.14/12) is 1.2246; \n",
" // where as exact value is 1.2247;"
   ]
   }
,
{
		   "cell_type": "markdown",
		   "metadata": {},
		   "source": [
			"## Example 4.9: polinomial_of_degree_two.sce"
		   ]
		  },
  {
"cell_type": "code",
	   "execution_count": null,
	   "metadata": {
	    "collapsed": true
	   },
	   "outputs": [],
"source": [
"// example 4.9\n",
"// caption :obtain the polinomial of degree 2 \n",
"\n",
"x=[0 1 3];\n",
"f=[1 3 55];\n",
"n=2;\n",
"\n",
"// 1) iterated interpolation;\n",
"\n",
"\n",
"[L012,L02,L01]=iteratedinterpol (x,f,n)\n",
"\n",
"//  2) newton divided diffrences interpolation;\n",
"\n",
"\n",
" P2=NDDinterpol2 (x,f)"
   ]
   }
],
"metadata": {
		  "kernelspec": {
		   "display_name": "Scilab",
		   "language": "scilab",
		   "name": "scilab"
		  },
		  "language_info": {
		   "file_extension": ".sce",
		   "help_links": [
			{
			 "text": "MetaKernel Magics",
			 "url": "https://github.com/calysto/metakernel/blob/master/metakernel/magics/README.md"
			}
		   ],
		   "mimetype": "text/x-octave",
		   "name": "scilab",
		   "version": "0.7.1"
		  }
		 },
		 "nbformat": 4,
		 "nbformat_minor": 0
}
