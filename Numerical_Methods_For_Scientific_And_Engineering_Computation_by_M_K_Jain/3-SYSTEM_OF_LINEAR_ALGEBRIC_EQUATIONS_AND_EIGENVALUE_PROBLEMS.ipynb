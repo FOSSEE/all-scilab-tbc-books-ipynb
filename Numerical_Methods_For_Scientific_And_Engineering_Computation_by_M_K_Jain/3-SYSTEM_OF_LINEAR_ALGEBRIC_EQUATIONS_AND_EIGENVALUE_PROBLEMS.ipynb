{
"cells": [
 {
		   "cell_type": "markdown",
	   "metadata": {},
	   "source": [
       "# Chapter 3: SYSTEM OF LINEAR ALGEBRIC EQUATIONS AND EIGENVALUE PROBLEMS"
	   ]
	},
{
		   "cell_type": "markdown",
		   "metadata": {},
		   "source": [
			"## Example 3.10: decomposition_method.sce"
		   ]
		  },
  {
"cell_type": "code",
	   "execution_count": null,
	   "metadata": {
	    "collapsed": true
	   },
	   "outputs": [],
"source": [
"//example no. 3.10\n",
"//solve system by decomposition method\n",
"\n",
"A=[1 1 1;4 3 -1;3 5 3]\n",
"n=3;\n",
"\n",
"b=[1;6;4]\n",
"\n",
"[U,L]=LandU(A,3)\n",
"\n",
"Z=fore(L,b)\n",
"\n",
"X=back(U,Z)"
   ]
   }
,
{
		   "cell_type": "markdown",
		   "metadata": {},
		   "source": [
			"## Example 3.11: inverse_using_LU_decoposition.sce"
		   ]
		  },
  {
"cell_type": "code",
	   "execution_count": null,
	   "metadata": {
	    "collapsed": true
	   },
	   "outputs": [],
"source": [
"//example no.3.11\n",
"//caption: Inverse using LU decomposition\n",
"\n",
"A=[3 2 1;2 3 2;1 2 2]\n",
"\n",
"[U,L]=LandU(A,3)      // call LandU function to evaluate U,L of A,\n",
"\n",
"//since  A=L*U ,\n",
"// inv(A)=inv(U)*inv(L)\n",
"// let inv(A)=AI\n",
"\n",
"AI=U^-1*L^-1"
   ]
   }
,
{
		   "cell_type": "markdown",
		   "metadata": {},
		   "source": [
			"## Example 3.12: solution_by_decomposition_method.sce"
		   ]
		  },
  {
"cell_type": "code",
	   "execution_count": null,
	   "metadata": {
	    "collapsed": true
	   },
	   "outputs": [],
"source": [
"//example no. 3.12\n",
"//solve system by decomposition method\n",
"\n",
"A=[1 1 -1;2 2 5;3 2 -3]\n",
"\n",
"b=[2;-3;6]\n",
"\n",
"\n",
"\n",
"       // hence we can observe that LU decomposition method fails to solve this system since the pivot L(2,2)=0;\n",
"       \n",
"       \n",
"       //we note that the coefficient matrix is not a positive definite matrix and hence its LU decomposition is not guaranteed,\n",
"       \n",
"       \n",
"       //if we interchange the rows of A as shown below the LU decomposition would work,\n",
"       \n",
"       A=[3 2 -3;2 2 5;1 1 -1]\n",
"       \n",
"       b=[6;-3;2]\n",
"       \n",
"       [U,L]=LandU(A,3)        // call LandU function to evaluate U,L of A,\n",
"\n",
"n=3;\n",
"Z=fore(L,b);\n",
"\n",
"X=back(U,Z)\n",
"                 "
   ]
   }
,
{
		   "cell_type": "markdown",
		   "metadata": {},
		   "source": [
			"## Example 3.13: LU_decompositio.sce"
		   ]
		  },
  {
"cell_type": "code",
	   "execution_count": null,
	   "metadata": {
	    "collapsed": true
	   },
	   "outputs": [],
"source": [
"//example no. 3.13\n",
"//solve system by LU decomposition method\n",
"\n",
"A=[2 1 1 -2;4 0 2 1;3 2 2 0;1 3 2 -1]\n",
"\n",
"b=[-10;8;7;-5]\n",
"\n",
"[U,L]=LandU(A,4)\n",
"n=4;\n",
"Z=fore(L,b);\n",
"\n",
"X=back(U,Z)\n",
"\n",
"//since  A=L*U ,\n",
"// inv(A)=inv(U)*inv(L)\n",
"// let inv(A)=AI\n",
"\n",
"AI=U^-1*L^-1"
   ]
   }
,
{
		   "cell_type": "markdown",
		   "metadata": {},
		   "source": [
			"## Example 3.14: cholesky_method.sce"
		   ]
		  },
  {
"cell_type": "code",
	   "execution_count": null,
	   "metadata": {
	    "collapsed": true
	   },
	   "outputs": [],
"source": [
"//example no. 3.14\n",
"//solve system by cholesky method\n",
"\n",
"A=[1 2 3;2 8 22;3 22 82]\n",
"\n",
"b=[5;6;-10]\n",
"\n",
"L=cholesky (A,3)  //call cholesky function to evaluate the root of the system\n",
"n=3;\n",
"Z=fore(L,b);\n",
"\n",
"X=back(L',Z)"
   ]
   }
,
{
		   "cell_type": "markdown",
		   "metadata": {},
		   "source": [
			"## Example 3.15: cholesky_method.sce"
		   ]
		  },
  {
"cell_type": "code",
	   "execution_count": null,
	   "metadata": {
	    "collapsed": true
	   },
	   "outputs": [],
"source": [
"//example no. 3.15\n",
"//solve system by cholesky method\n",
"\n",
"A=[4 -1 0 0;-1 4 -1 0;0 -1 4 -1;0 0 -1 4]\n",
"\n",
"b=[1;0;0;0]\n",
"\n",
"L=cholesky (A,4)  //call cholesky function to evaluate the root of the system\n",
"\n",
"n=4;\n",
"Z=fore(L,b);\n",
"\n",
"X=back(L',Z)\n",
"\n",
"//since  A=L*L' ,\n",
"// inv(A)=inv(L')*inv(L)\n",
"// let inv(A)=AI\n",
"\n",
"AI=L'^-1*L^-1"
   ]
   }
,
{
		   "cell_type": "markdown",
		   "metadata": {},
		   "source": [
			"## Example 3.1: determinent.sce"
		   ]
		  },
  {
"cell_type": "code",
	   "execution_count": null,
	   "metadata": {
	    "collapsed": true
	   },
	   "outputs": [],
"source": [
"// example 3.1\n",
"//Positive definite\n",
"\n",
"A=[12 4 -1;4 7 1;-1 1 6];\n",
"//check if the determinant of the leading minors is a positive value-\n",
"\n",
"A1=A(1);\n",
"det(A1)\n",
"A2=A(1:2,1:2);\n",
"det(A2)\n",
"A3=A(1:3,1:3);\n",
"det(A3)\n",
"\n",
"//we observe that the determinant of the leading minors is a positive ,hence the given matrix A is a positive definite."
   ]
   }
,
{
		   "cell_type": "markdown",
		   "metadata": {},
		   "source": [
			"## Example 3.21: jacobi_iteration_method.sce"
		   ]
		  },
  {
"cell_type": "code",
	   "execution_count": null,
	   "metadata": {
	    "collapsed": true
	   },
	   "outputs": [],
"source": [
"//example no. 3.21\n",
"//solve the system by jacobi iteration method\n",
"\n",
"A=[4 1 1;1 5 2;1 2 3]\n",
"\n",
"b=[2 ;-6;-4]\n",
"\n",
"N=3;        //no. of ierations\n",
"n=3;        // order of the matrix is n*n\n",
"\n",
"X=[.5;-.5;-.5]              //initial approximation\n",
"\n",
"\n",
"jacobiiteration(A,n,N,X,b)              //call the function which performs jacobi iteration method to solve the system"
   ]
   }
,
{
		   "cell_type": "markdown",
		   "metadata": {},
		   "source": [
			"## Example 3.22: solution_by_gauss_siedal_method.sce"
		   ]
		  },
  {
"cell_type": "code",
	   "execution_count": null,
	   "metadata": {
	    "collapsed": true
	   },
	   "outputs": [],
"source": [
"//example no. 3.22\n",
"//solve the system by gauss seidel method\n",
"\n",
"A=[2 -1 0;-1 2 -1;0 -1 2]\n",
"\n",
"b=[7;1;1]\n",
"\n",
"N=3;        //no. of ierations\n",
"n=3;        // order of the matrix is n*n\n",
"\n",
"X=[0;0;0]              //initial approximation\n",
"\n",
"\n",
"gaussseidel(A,n,N,X,b)              //call the function which performs gauss seidel method to solve the system"
   ]
   }
,
{
		   "cell_type": "markdown",
		   "metadata": {},
		   "source": [
			"## Example 3.27: eigen_vale_and_eigen_vector.sce"
		   ]
		  },
  {
"cell_type": "code",
	   "execution_count": null,
	   "metadata": {
	    "collapsed": true
	   },
	   "outputs": [],
"source": [
"// example 3.27\n",
"// a) find eigenvalue and eigen vector;\n",
"// b) verify inv(S)*A*S is a diagonal matrix;\n",
"\n",
"// 1) \n",
"A=[1 2 -2 ;1 1 1;1 3 -1];\n",
"\n",
"B=[1 0 0;0 1 0; 0 0 1];\n",
"\n",
" [x,lam] = geigenvectors(A,B);\n",
" \n",
" inv(x)*A*x\n",
" \n",
" // 2) \n",
"A=[3 2 2;2 5 2;2 2 3];\n",
"\n",
"B=[1 0 0;0 1 0; 0 0 1];\n",
"\n",
"\n",
" [x,lam] = geigenvectors(A,B);\n",
" \n",
" inv(x)*A*x\n",
" \n",
" "
   ]
   }
,
{
		   "cell_type": "markdown",
		   "metadata": {},
		   "source": [
			"## Example 3.2: property_A_in_the_book.sce"
		   ]
		  },
  {
"cell_type": "code",
	   "execution_count": null,
	   "metadata": {
	    "collapsed": true
	   },
	   "outputs": [],
"source": [
"//example no.3.2\n",
"// show if a given matrix 'A' possesses 'property A'\n",
"A=[2 -1 0 -1;-1 2 -1 0;0 -1 2 0;0 0 -1 2 ]\n",
"P=[0 0 0 1;0 1 0 0;0 0 1 0;1 0 0 0]             // let us take the pemutation matrix as P\n",
"// then we find that \n",
"P*A*P'\n",
"// is of the form (3.2) . hence the matrix 'A' has property A"
   ]
   }
,
{
		   "cell_type": "markdown",
		   "metadata": {},
		   "source": [
			"## Example 3.4: solution_to_the_system_of_equations.sce"
		   ]
		  },
  {
"cell_type": "code",
	   "execution_count": null,
	   "metadata": {
	    "collapsed": true
	   },
	   "outputs": [],
"source": [
"// example no.3.4\n",
"// solve the system of equations\n",
"\n",
"//(a) . by using cramer's rule,\n",
"\n",
"A=[1 2 -1;3 6 1;3 3 2]\n",
"\n",
"B1=[2 2 -1;1 6 1;3 3 2]\n",
"\n",
"B2=[1 2 -1;3 1 1;3 3 2]\n",
"\n",
"B3=[1 2 2;3 6 1; 3 3 3]\n",
"\n",
"\n",
"//we know;\n",
"\n",
"X1=det(B1)/det(A)\n",
"X2=det(B2)/det(A)\n",
"X3=det(B3)/det(A)\n",
"\n",
"\n",
"//(b). by detemining the inverse of the coefficient matrix\n",
"\n",
"A=[1 2 -1;3 6 1;3 3 2]\n",
"\n",
"b=[2 ;1 ;3]\n",
"\n",
"//we know;\n",
"\n",
"X=inv(A)*b"
   ]
   }
,
{
		   "cell_type": "markdown",
		   "metadata": {},
		   "source": [
			"## Example 3.5: solution_by_gauss_elimination_method.sce"
		   ]
		  },
  {
"cell_type": "code",
	   "execution_count": null,
	   "metadata": {
	    "collapsed": true
	   },
	   "outputs": [],
"source": [
"//example-3.5\n",
"//caption-solution by gauss elimibnation method\n",
"\n",
"A=[10 -1 2;1 10 -1;2 3 20]                //matrices A and b from the above \n",
"                                                 //system of equations\n",
"b=[4;3;7]\n",
"\n",
"gausselim(A,b)            //call gauss elimination function to solve the \n",
"                                //matrices A and b"
   ]
   }
,
{
		   "cell_type": "markdown",
		   "metadata": {},
		   "source": [
			"## Example 3.6: solution_by_pivoted_gauss_elimination_method.sce"
		   ]
		  },
  {
"cell_type": "code",
	   "execution_count": null,
	   "metadata": {
	    "collapsed": true
	   },
	   "outputs": [],
"source": [
"//example-3.6\n",
"//caption-solution by gauss elimibnation method\n",
"\n",
"A=[1 1 1;3 3 4;2 1 3]               //matrices A and b from the above \n",
"                                                 //system of equations\n",
"\n",
"b=[6;20;13]\n",
"\n",
"pivotgausselim(A,b)           //call gauss elimination function to solve the \n",
"                                //matrices A and b"
   ]
   }
,
{
		   "cell_type": "markdown",
		   "metadata": {},
		   "source": [
			"## Example 3.8: solution_by_pivoted_gauss_elimination_method.sce"
		   ]
		  },
  {
"cell_type": "code",
	   "execution_count": null,
	   "metadata": {
	    "collapsed": true
	   },
	   "outputs": [],
"source": [
"//example no. 3.8\n",
"// solving the matrix equation with partial pivoting in gauss elimination\n",
"\n",
"A=[2 1 1 -2;4 0 2 1;3 2 2 0;1 3 2 -1]\n",
"\n",
"b=[-10;8;7;-5]\n",
"\n",
"pivotgausselim(A,b)"
   ]
   }
,
{
		   "cell_type": "markdown",
		   "metadata": {},
		   "source": [
			"## Example 3.9: solution_using_the_inverse_of_the_matrix.sce"
		   ]
		  },
  {
"cell_type": "code",
	   "execution_count": null,
	   "metadata": {
	    "collapsed": true
	   },
	   "outputs": [],
"source": [
"//example no.3.9\n",
"//solving the system using inverse of the cofficient matrix\n",
"\n",
"A=[1 1 1;4 3 -1;3 5 3]\n",
"\n",
"I=[1 0 0;0 1 0;0 0 1]\n",
"\n",
"b=[1 ;6 ;4]\n",
"\n",
"M=jorden(A,I)\n",
"\n",
"IA=M(1:3,4:6)\n",
"\n",
"X=IA*b\n",
""
   ]
   }
],
"metadata": {
		  "kernelspec": {
		   "display_name": "Scilab",
		   "language": "scilab",
		   "name": "scilab"
		  },
		  "language_info": {
		   "file_extension": ".sce",
		   "help_links": [
			{
			 "text": "MetaKernel Magics",
			 "url": "https://github.com/calysto/metakernel/blob/master/metakernel/magics/README.md"
			}
		   ],
		   "mimetype": "text/x-octave",
		   "name": "scilab",
		   "version": "0.7.1"
		  }
		 },
		 "nbformat": 4,
		 "nbformat_minor": 0
}
