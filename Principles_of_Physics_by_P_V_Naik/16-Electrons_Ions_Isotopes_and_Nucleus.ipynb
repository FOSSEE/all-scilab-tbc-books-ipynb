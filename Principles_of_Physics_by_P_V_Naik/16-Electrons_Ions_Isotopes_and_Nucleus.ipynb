{
"cells": [
 {
		   "cell_type": "markdown",
	   "metadata": {},
	   "source": [
       "# Chapter 16: Electrons Ions Isotopes and Nucleus"
	   ]
	},
{
		   "cell_type": "markdown",
		   "metadata": {},
		   "source": [
			"## Example 16.1: Seperatio.sce"
		   ]
		  },
  {
"cell_type": "code",
	   "execution_count": null,
	   "metadata": {
	    "collapsed": true
	   },
	   "outputs": [],
"source": [
"clc\n",
"clear\n",
"//Input data\n",
"E=(200*100)//Electric field in V/m\n",
"B=0.2//Magnetic field in T\n",
"B1=0.3//Magnetic field in the main chamber in T\n",
"q=(1.6*10^-19)//Charge of the electron in coloumbs\n",
"m=[12,13]//Carbon isotopes C12 and C13\n",
"M=(1.67*10^-27)//AMU(Atomic Mass Unit) in kg\n",
"\n",
"//Calculations\n",
"v=(E/B)//Velocity in m/s\n",
"s=(2*v*(m(2)-m(1))*M*100)/(q*B1)//Seperation in cm\n",
"\n",
"//Output\n",
"printf('Seperation on photographic plate is %3.4f cm',s)"
   ]
   }
,
{
		   "cell_type": "markdown",
		   "metadata": {},
		   "source": [
			"## Example 16.2: BE_per_nucleon.sce"
		   ]
		  },
  {
"cell_type": "code",
	   "execution_count": null,
	   "metadata": {
	    "collapsed": true
	   },
	   "outputs": [],
"source": [
"clc\n",
"clear\n",
"//Input data\n",
"a=20//Atomic number of Ca\n",
"m=40//mass number of Ca\n",
"M=39.962591//Mass of Ca nucleus in u\n",
"mp=1.007276//Mass of proton in AMU\n",
"mn=1.008665//Mass of neutron in AMU\n",
"\n",
"//Calculations\n",
"BE=(1/m)*((a*mp)+(a*mn)-M)*1000//BE per nucleon in MeV\n",
"\n",
"//Output\n",
"printf('BE per nucleon is %3.6f MeV',BE)"
   ]
   }
],
"metadata": {
		  "kernelspec": {
		   "display_name": "Scilab",
		   "language": "scilab",
		   "name": "scilab"
		  },
		  "language_info": {
		   "file_extension": ".sce",
		   "help_links": [
			{
			 "text": "MetaKernel Magics",
			 "url": "https://github.com/calysto/metakernel/blob/master/metakernel/magics/README.md"
			}
		   ],
		   "mimetype": "text/x-octave",
		   "name": "scilab",
		   "version": "0.7.1"
		  }
		 },
		 "nbformat": 4,
		 "nbformat_minor": 0
}
