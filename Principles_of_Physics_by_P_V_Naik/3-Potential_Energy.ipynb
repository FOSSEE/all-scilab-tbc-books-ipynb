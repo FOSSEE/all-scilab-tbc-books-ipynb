{
"cells": [
 {
		   "cell_type": "markdown",
	   "metadata": {},
	   "source": [
       "# Chapter 3: Potential Energy"
	   ]
	},
{
		   "cell_type": "markdown",
		   "metadata": {},
		   "source": [
			"## Example 3.1: Potential_energy.sce"
		   ]
		  },
  {
"cell_type": "code",
	   "execution_count": null,
	   "metadata": {
	    "collapsed": true
	   },
	   "outputs": [],
"source": [
"clc\n",
"clear\n",
"//Input data\n",
"m=0.04//Mass of stone in kg\n",
"vi=25//Initial velocity in m/s\n",
"vf=0//Final velocity in m/s\n",
"yi=0//Initial height in m\n",
"\n",
"//Calculations\n",
"Ui=(m*9.81*yi)//Initial potential energy in J\n",
"Ki=(1/2)*m*vi^2//Initial kinetic energy in J\n",
"Etotal=(Ui+Ki)//Total energy in J\n",
"h=(Etotal/(m*9.8))//Maximum height in m\n",
"//when the stone is at (2/3)h, total energy is again same\n",
"v=sqrt((Etotal-(m*9.8*(2/3)*h))/((1/2)*m))//Velocity at (2/3) of its maximum height in m/s\n",
"\n",
"//Output\n",
"printf('Maximum height it will reach is %3.1f m \n Potential energy at that height is %3.1f J \n velocity when it is at the two-third of its maximum height is %3.2f m/s',h,Etotal,v)"
   ]
   }
,
{
		   "cell_type": "markdown",
		   "metadata": {},
		   "source": [
			"## Example 3.2: Potential_energy.sce"
		   ]
		  },
  {
"cell_type": "code",
	   "execution_count": null,
	   "metadata": {
	    "collapsed": true
	   },
	   "outputs": [],
"source": [
"clc\n",
"clear\n",
"//Input data\n",
"m=0.5//Mass of the sphere in kg\n",
"vi=100//Initial velocity in m/s\n",
"vf=20//Final velocity in m/s\n",
"\n",
"//Calculations\n",
"h=(vi^2-vf^2)/(2*9.8)//Height in m\n",
"PE=(m*9.8*h)//Potential energy in J\n",
"\n",
"//Calculations\n",
"printf('Potential energy of the sphere is %i J',PE)"
   ]
   }
,
{
		   "cell_type": "markdown",
		   "metadata": {},
		   "source": [
			"## Example 3.3: Potential_Energy.sce"
		   ]
		  },
  {
"cell_type": "code",
	   "execution_count": null,
	   "metadata": {
	    "collapsed": true
	   },
	   "outputs": [],
"source": [
"clc\n",
"clear\n",
"//Input data\n",
"m=0.5//Mass of the block in kg\n",
"x=0.05//Distance to which block is pulled in m\n",
"k=300//Force constant of the spring in N/m\n",
"\n",
"//Calculations\n",
"U=(1/2)*k*x^2//Potential energy of the block in J\n",
"v=x*sqrt(k/m)//Velocity of the block in m/s\n",
"\n",
"//Output\n",
"printf('Potential energy of the block when spring is in stretched position is %3.3f J \n Velocity of the block when it passes through the equilibrium position is %3.2f m/s',U,v)"
   ]
   }
,
{
		   "cell_type": "markdown",
		   "metadata": {},
		   "source": [
			"## Example 3.4: Speed.sce"
		   ]
		  },
  {
"cell_type": "code",
	   "execution_count": null,
	   "metadata": {
	    "collapsed": true
	   },
	   "outputs": [],
"source": [
"clc\n",
"clear\n",
"//Input data\n",
"l=0.8//Length of a simple pendulum in m\n",
"q=30//Angle with the vertical through which the bob is released in degrees\n",
"q1=10//Required angle in degrees\n",
"\n",
"//Calculations\n",
"v=sqrt(2*9.8*l*(cosd(q1)-cosd(q)))//Speed in m/s\n",
"\n",
"//Output\n",
"printf('Speed when the bob is at the angle of %i degrees with the vertical is %3.2f m/s',q1,v)"
   ]
   }
,
{
		   "cell_type": "markdown",
		   "metadata": {},
		   "source": [
			"## Example 3.5: Rest_and_total_energy.sce"
		   ]
		  },
  {
"cell_type": "code",
	   "execution_count": null,
	   "metadata": {
	    "collapsed": true
	   },
	   "outputs": [],
"source": [
"clc\n",
"clear\n",
"//Input data\n",
"m=(9.1*10^-31)//Mass of the electron in kg\n",
"v=(3*10^8)//Velocity of light in m/s\n",
"c=(1.6*10^-19)//Charge of the electron in coloumbs\n",
"\n",
"//Calculations\n",
"Re=(m*v^2)/(c*10^6)//Rest energy in MeV\n",
"E=(Re/sqrt(1-0.9^2))//Total energy in MeV\n",
"\n",
"//Output\n",
"printf('Rest energy of the electron is %3.3f MeV \n Total energy is %3.4f MeV',Re,E)"
   ]
   }
],
"metadata": {
		  "kernelspec": {
		   "display_name": "Scilab",
		   "language": "scilab",
		   "name": "scilab"
		  },
		  "language_info": {
		   "file_extension": ".sce",
		   "help_links": [
			{
			 "text": "MetaKernel Magics",
			 "url": "https://github.com/calysto/metakernel/blob/master/metakernel/magics/README.md"
			}
		   ],
		   "mimetype": "text/x-octave",
		   "name": "scilab",
		   "version": "0.7.1"
		  }
		 },
		 "nbformat": 4,
		 "nbformat_minor": 0
}
