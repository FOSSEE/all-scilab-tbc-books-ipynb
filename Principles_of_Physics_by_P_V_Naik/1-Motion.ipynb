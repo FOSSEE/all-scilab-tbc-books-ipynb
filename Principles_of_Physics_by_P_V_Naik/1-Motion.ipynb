{
"cells": [
 {
		   "cell_type": "markdown",
	   "metadata": {},
	   "source": [
       "# Chapter 1: Motion"
	   ]
	},
{
		   "cell_type": "markdown",
		   "metadata": {},
		   "source": [
			"## Example 1.1: Orbital_speed_and_centripetal_acceleration.sce"
		   ]
		  },
  {
"cell_type": "code",
	   "execution_count": null,
	   "metadata": {
	    "collapsed": true
	   },
	   "outputs": [],
"source": [
"clc\n",
"clear\n",
"//Input data\n",
"d=180//Distance of satellite above the surface of earth in km\n",
"t=90//Time taken to complete one revolution of the earth in minutes\n",
"r=6400//Radius of the earth in kms\n",
"\n",
"//Calculations\n",
"R=(r+d)*1000//Total distance in m\n",
"T=t*60//Time in seconds\n",
"v=(2*3.14*R)/T//Orbital speed in m/s\n",
"a=(v^2/R)//Centripetal acceleration in m/s^2\n",
"\n",
"//Output\n",
"printf('Orbital speed is %i m/s \n Centripetal acceleration is %3.1f m/s^2',v,a)"
   ]
   }
,
{
		   "cell_type": "markdown",
		   "metadata": {},
		   "source": [
			"## Example 1.2: Speed.sce"
		   ]
		  },
  {
"cell_type": "code",
	   "execution_count": null,
	   "metadata": {
	    "collapsed": true
	   },
	   "outputs": [],
"source": [
"clc\n",
"clear\n",
"//Input data\n",
"m=0.05//Mass of the stone in kg\n",
"r=0.4//Radius of the string in m\n",
"\n",
"//Calculations\n",
"vh=sqrt(9.8*r)//Minimum speed when the stone is at the top of the circle in m/s\n",
"vl=sqrt((2/m)*(((1/2)*m*vh^2)+(m*9.8*2*r)))//Minimum speed when the stone is at the bottom of the circle in m/s\n",
"\n",
"//Output\n",
"printf('Minimum speed when the stone is at the top of the circle is %3.2f m/s \n Minimum speed when the stone is at the bottom of the circle is %3.2f m/s',vh,vl)"
   ]
   }
,
{
		   "cell_type": "markdown",
		   "metadata": {},
		   "source": [
			"## Example 1.3: Tension_and_acceleration.sce"
		   ]
		  },
  {
"cell_type": "code",
	   "execution_count": null,
	   "metadata": {
	    "collapsed": true
	   },
	   "outputs": [],
"source": [
"clc\n",
"clear\n",
"//Input data\n",
"m=0.2//Mass of the ball in kg\n",
"r=1.5//Radius of vertical circle in m\n",
"q=35//Angle made by the ball in degrees\n",
"v=6//Velocity of the ball in m/s\n",
"\n",
"//Calculations\n",
"T=(m*((v^2/r)+(9.8*cosd(q))))//Tension in the string in N\n",
"at=9.8*sind(q)//Tangential acceleration in m/s^2\n",
"ar=(v^2/r)//Radial acceleration in m/s^2\n",
"a=sqrt(at^2+ar^2)//Acceleration in m/s^2\n",
"\n",
"//Output\n",
"printf('Tension in the string is %3.1f N \n Tangential acceleration is %3.2f m/s^2 \n Radial acceleration is %i m/s^2',T,at,ar)"
   ]
   }
,
{
		   "cell_type": "markdown",
		   "metadata": {},
		   "source": [
			"## Example 1.4: Acceleratio.sce"
		   ]
		  },
  {
"cell_type": "code",
	   "execution_count": null,
	   "metadata": {
	    "collapsed": true
	   },
	   "outputs": [],
"source": [
"clc\n",
"clear\n",
"//Input data\n",
"//A small ball is released from height of 4r measured from the bottom of the loop, where r is the radius of the loop\n",
"\n",
"//Calculations\n",
"ar=(6*9.8)//Radial acceleration in m/s^2\n",
"at=(9.8*sind(90))//Tangential acceleration in m/s^2\n",
"\n",
"//Output\n",
"printf('Radial acceleration is %3.1f m/s^2 \n Tangential acceleration is %3.1f m/s^2',ar,at)"
   ]
   }
,
{
		   "cell_type": "markdown",
		   "metadata": {},
		   "source": [
			"## Example 1.5: Period_of_rotatio.sce"
		   ]
		  },
  {
"cell_type": "code",
	   "execution_count": null,
	   "metadata": {
	    "collapsed": true
	   },
	   "outputs": [],
"source": [
"clc\n",
"clear\n",
"//Input data\n",
"l=0.95//Length of the strring in m\n",
"m=0.15//Mass of the bob in kg\n",
"r=0.25//Radius of the circle in m\n",
"\n",
"//Calculations\n",
"h=sqrt(l^2-r^2)//Height of the pendulum in m\n",
"t=2*3.14*sqrt(h/9.8)//Period of rotation in s\n",
"\n",
"//Output\n",
"printf('The period of rotation is %3.4f s',t)"
   ]
   }
,
{
		   "cell_type": "markdown",
		   "metadata": {},
		   "source": [
			"## Example 1.6: Coefficient_of_limiting_friction.sce"
		   ]
		  },
  {
"cell_type": "code",
	   "execution_count": null,
	   "metadata": {
	    "collapsed": true
	   },
	   "outputs": [],
"source": [
"clc\n",
"clear\n",
"//Input data\n",
"N=40//Minimum speed of rotor in rpm\n",
"r=2.5//Radius of rotor in m\n",
"\n",
"//Calculations\n",
"t=60/N//Time period in s\n",
"u=(9.8*t^2)/(4*3.14^2*r)//Coefficient of limiting friction\n",
"\n",
"//Output\n",
"printf('The coefficient of limiting friction between the object and the wall of the rotor is %3.4f',u)"
   ]
   }
,
{
		   "cell_type": "markdown",
		   "metadata": {},
		   "source": [
			"## Example 1.7: Speed.sce"
		   ]
		  },
  {
"cell_type": "code",
	   "execution_count": null,
	   "metadata": {
	    "collapsed": true
	   },
	   "outputs": [],
"source": [
"clc\n",
"clear\n",
"//Input data\n",
"a=30//Angle of inclination in degrees\n",
"t=3//Time in s\n",
"\n",
"//Calculations\n",
"a=(9.8*sind(a))//Acceleration in m/s^2\n",
"v=(0+a*t)//Velocity in m/s\n",
"\n",
"//Output\n",
"printf('Speed of the block after %i s is %3.1f m/s',t,v)"
   ]
   }
,
{
		   "cell_type": "markdown",
		   "metadata": {},
		   "source": [
			"## Example 1.8: Coefficient_of_static_and_kinetic_friction.sce"
		   ]
		  },
  {
"cell_type": "code",
	   "execution_count": null,
	   "metadata": {
	    "collapsed": true
	   },
	   "outputs": [],
"source": [
"clc\n",
"clear\n",
"//Input data\n",
"m=10//Mass of the block in kg\n",
"F1=40//Horizontal force to start moving in N\n",
"F2=32//Horizontal force to move with constant velocity in N\n",
"\n",
"//Calculations\n",
"u1=(F1/(m*9.8))//Coefficient of static friction\n",
"u2=(F2/(m*9.8))//Coefficient of kinetic friction\n",
"\n",
"//Output\n",
"printf('Coefficient of static friction is %3.3f \n Coefficient of kinetic friction is %3.3f',u1,u2)"
   ]
   }
,
{
		   "cell_type": "markdown",
		   "metadata": {},
		   "source": [
			"## Example 1.9: Tension_and_coefficient_of_friction.sce"
		   ]
		  },
  {
"cell_type": "code",
	   "execution_count": null,
	   "metadata": {
	    "collapsed": true
	   },
	   "outputs": [],
"source": [
"clc\n",
"clear\n",
"//Input data\n",
"m=[3,12]//Masses of the blocks in kg\n",
"q=50//Angle made by the string in degrees\n",
"a=3//Acceleration of 12kg block in m/s^2\n",
"\n",
"//Calculations\n",
"T=m(1)*(9.8+a)//Tension in the string in N\n",
"u=(m(2)*(9.8*sind(q)-a)-T)/(m(2)*9.8*cosd(q))//Coefficient of kinetic friction\n",
"\n",
"//Output\n",
"printf('Tension in the string is %3.1f N \n The coefficient of kinetic friction between %i kg block and the plane is %3.3f',T,m(2),u)"
   ]
   }
,
{
		   "cell_type": "markdown",
		   "metadata": {},
		   "source": [
			"## Example 1.e_1: Tensions_in_the_cables.sce"
		   ]
		  },
  {
"cell_type": "code",
	   "execution_count": null,
	   "metadata": {
	    "collapsed": true
	   },
	   "outputs": [],
"source": [
"clc\n",
"clear\n",
"//Input data\n",
"w=50//Weight in N\n",
"a=[40,50]//Angles made by two cables in degrees\n",
"\n",
"//Calculations\n",
"//Solving two equations obtained from fig. 1.10 on page no.10\n",
"//-T1cos40+T2cos50=0\n",
"//T1sin40+T2sin50=50\n",
"A=[-cosd(a(1)) cosd(a(2))\n",
"    sind(a(1)) sind(a(2))]//Coefficient matrix\n",
"B=[0\n",
"   w]//Constant matrix\n",
"X=inv(A)*B//Variable matrix\n",
"\n",
"//Output\n",
"printf('Tensions in all three cables are %3.2f N, %3.2f N, %i N',X(1),X(2),w)"
   ]
   }
,
{
		   "cell_type": "markdown",
		   "metadata": {},
		   "source": [
			"## Example 1.e_5: Acceleration_of_the_block.sce"
		   ]
		  },
  {
"cell_type": "code",
	   "execution_count": null,
	   "metadata": {
	    "collapsed": true
	   },
	   "outputs": [],
"source": [
"clc\n",
"clear\n",
"m=100//Mass of block in kg\n",
"F=500//Force in N\n",
"q=30//Angle made with the horizontal in degrees\n",
"u=0.4//Coefficient of sliding friction\n",
"\n",
"//Calculations\n",
"R=m*9.8//Reaction force in N\n",
"f=(u*R)//Frictional force in N\n",
"a=(F*cosd(q)-f)/m//Acceleration of the block in m/s^2\n",
"\n",
"//Output\n",
"printf('The acceleration of the block is %3.2f m/s^2',a)"
   ]
   }
,
{
		   "cell_type": "markdown",
		   "metadata": {},
		   "source": [
			"## Example 1.e_6: Acceleration_and_Tension.sce"
		   ]
		  },
  {
"cell_type": "code",
	   "execution_count": null,
	   "metadata": {
	    "collapsed": true
	   },
	   "outputs": [],
"source": [
"clc\n",
"clear\n",
"//Input data\n",
"m=[20,80]//Masses of blocks in kg\n",
"F=1000//Force with which 20kg block is pulled in N\n",
"\n",
"//Calculations\n",
"a=(F/(m(1)+m(2)))//Acceleration of the block in m/s^2\n",
"T=F-(m(1)*a)//Tension in the string in N\n",
"\n",
"//Output\n",
"printf('The acceleration produced is %i m/s^2 \n The tension in the string connecting the blocks is %i N',a,T)"
   ]
   }
,
{
		   "cell_type": "markdown",
		   "metadata": {},
		   "source": [
			"## Example 1.e_8: Weight_of_the_perso.sce"
		   ]
		  },
  {
"cell_type": "code",
	   "execution_count": null,
	   "metadata": {
	    "collapsed": true
	   },
	   "outputs": [],
"source": [
"clc\n",
"clear\n",
"//Input data\n",
"w=588//Weight of the person in N\n",
"a=3//Acceleration in m/s^2\n",
"\n",
"//Calculations\n",
"m=(w/9.8)//Mass of the person in kg\n",
"P=(w+(m*a))//Weight of the person when the elevator is accelerated upwards in N\n",
"\n",
"//Output\n",
"printf('Weight of the person when the elevator is accelerated upwards is %i N',P)"
   ]
   }
],
"metadata": {
		  "kernelspec": {
		   "display_name": "Scilab",
		   "language": "scilab",
		   "name": "scilab"
		  },
		  "language_info": {
		   "file_extension": ".sce",
		   "help_links": [
			{
			 "text": "MetaKernel Magics",
			 "url": "https://github.com/calysto/metakernel/blob/master/metakernel/magics/README.md"
			}
		   ],
		   "mimetype": "text/x-octave",
		   "name": "scilab",
		   "version": "0.7.1"
		  }
		 },
		 "nbformat": 4,
		 "nbformat_minor": 0
}
