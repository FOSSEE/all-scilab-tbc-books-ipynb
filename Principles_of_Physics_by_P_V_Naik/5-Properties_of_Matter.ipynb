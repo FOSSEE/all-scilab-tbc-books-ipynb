{
"cells": [
 {
		   "cell_type": "markdown",
	   "metadata": {},
	   "source": [
       "# Chapter 5: Properties of Matter"
	   ]
	},
{
		   "cell_type": "markdown",
		   "metadata": {},
		   "source": [
			"## Example 5.1: Period_of_pendulum.sce"
		   ]
		  },
  {
"cell_type": "code",
	   "execution_count": null,
	   "metadata": {
	    "collapsed": true
	   },
	   "outputs": [],
"source": [
"clc\n",
"clear\n",
"//Input data\n",
"m=1//Mass of torsional pendulum in kg\n",
"R=0.06//Radius of torsional pendulum in m\n",
"l=1.2//Length of the wire in m\n",
"r=0.0008//Radius of wire in m\n",
"S=(9*10^9)//Modulus of rigidity of the material in N/m^2\n",
"\n",
"//Calculations\n",
"I=(1/2)*m*R^2//Moment of inertia in kg.m^2\n",
"C=(3.14*S*r^4)/(2*l)//Couple per unit twist in N.m\n",
"T=2*3.14*sqrt(I/C)//Period of pendulum in s\n",
"\n",
"//Output\n",
"printf('Period of pendulum is %3.1f s',T)"
   ]
   }
,
{
		   "cell_type": "markdown",
		   "metadata": {},
		   "source": [
			"## Example 5.2: Work_done.sce"
		   ]
		  },
  {
"cell_type": "code",
	   "execution_count": null,
	   "metadata": {
	    "collapsed": true
	   },
	   "outputs": [],
"source": [
"clc\n",
"clear\n",
"//Input data\n",
"l=0.8//Length of the wire in m\n",
"d=(1.8*10^-3)//Diameter of the wire in m\n",
"a=1.5//Angle of twist in degrees\n",
"S=(1.8*10^11)//Modulus of rigidity of the material in N/m^2\n",
"\n",
"//Calculations\n",
"r=(a*3.14)/180//Angle of twist in radians\n",
"W=((3.14*S*(d/2)^4*r^2)/(4*l))/10^-5//Work required to twist the wire in J*10^-5\n",
"\n",
"//Output\n",
"printf('Work required to twist the wire is %3.2f*10^-5 J',W)"
   ]
   }
,
{
		   "cell_type": "markdown",
		   "metadata": {},
		   "source": [
			"## Example 5.3: PProperties_of_Material.sce"
		   ]
		  },
  {
"cell_type": "code",
	   "execution_count": null,
	   "metadata": {
	    "collapsed": true
	   },
	   "outputs": [],
"source": [
"clc\n",
"clear\n",
"//Input data\n",
"l=2//Length of wire in m\n",
"d=(0.4*10^-3)//Diameter of the wire in m\n",
"x=(1.03*10^-3)//Extension in length in m\n",
"L=2//Load in kg\n",
"C=(4.52*10^-6)//Couple in N/m\n",
"a=0.03//Twist angle in radians\n",
"\n",
"//Calculations\n",
"Y=((L*9.8*l)/(x*3.14*(d/2)^2))/10^11//Young's modulus in N/m^2*10^11\n",
"S=((C*2*l)/(3.14*(d/2)^4*a))/10^11//Modulus of rigidity in N/m^2*10^11\n",
"s=(Y/(2*S))-1//Poisson's ratio\n",
"\n",
"//Output\n",
"printf('Youngs modulus is %3.2f*10^11 N/m^2\nModulus of rigidity is %3.2f*10^11 N/m^2\nPoissons ratio is %3.4f',Y,S,s)"
   ]
   }
,
{
		   "cell_type": "markdown",
		   "metadata": {},
		   "source": [
			"## Example 5.4: Excess_pressure.sce"
		   ]
		  },
  {
"cell_type": "code",
	   "execution_count": null,
	   "metadata": {
	    "collapsed": true
	   },
	   "outputs": [],
"source": [
"clc\n",
"clear\n",
"//Input data\n",
"r=0.003//Radius of drop of glycerine in m\n",
"T=(63.1*10^-3)//Surface tension of glycerine in N/m\n",
"\n",
"//Calculations\n",
"P=((2*T)/r)//Excess pressure inside the drop of glycerine in N/m^2\n",
"\n",
"//Output\n",
"printf('Excess pressure inside the drop of glycerine is %3.2f N/m^2',P)"
   ]
   }
,
{
		   "cell_type": "markdown",
		   "metadata": {},
		   "source": [
			"## Example 5.5: Rate_of_change_of_pressure.sce"
		   ]
		  },
  {
"cell_type": "code",
	   "execution_count": null,
	   "metadata": {
	    "collapsed": true
	   },
	   "outputs": [],
"source": [
"clc\n",
"clear\n",
"//Input data\n",
"r1=0.001//Initial radius in m\n",
"r2=0.004//Final radius in m\n",
"t=2*10^-3//Time in s\n",
"s=(7*10^-2)//Surface tension of water in N/m\n",
"\n",
"//Calculations\n",
"P=((2*s)*((1/r2)-(1/r1)))/(t*10^4)//Rate of change of pressure in N/m^2.s*10^4\n",
"\n",
"//Output\n",
"printf('Rate of change of pressure is %3.2f*10^4 N/m^2.s',P)"
   ]
   }
,
{
		   "cell_type": "markdown",
		   "metadata": {},
		   "source": [
			"## Example 5.6: Work_done.sce"
		   ]
		  },
  {
"cell_type": "code",
	   "execution_count": null,
	   "metadata": {
	    "collapsed": true
	   },
	   "outputs": [],
"source": [
"clc\n",
"clear\n",
"//Input data\n",
"d=0.02//Diamter of soap bubble in m\n",
"s=(25*10^-3)//Surface tension in N/m\n",
"//Initial surface area of the bubble is zero and final area is 2*4*pie*r^2 where r is the radius of the bubble\n",
"\n",
"//Calculations\n",
"W=(s*2*4*3.14*(d/2)^2)/10^-5//Work done in blowing a soap bubble in J*10^-5\n",
"\n",
"//Output\n",
"printf('Work done in blowing a soap bubble is %3.2f*10^-5 J',W)"
   ]
   }
,
{
		   "cell_type": "markdown",
		   "metadata": {},
		   "source": [
			"## Example 5.7: Energy_required.sce"
		   ]
		  },
  {
"cell_type": "code",
	   "execution_count": null,
	   "metadata": {
	    "collapsed": true
	   },
	   "outputs": [],
"source": [
"clc\n",
"clear\n",
"//Input data\n",
"r=0.01//Radius of liquid drop in m\n",
"n=500//Number of drops\n",
"s=(63*10^-3)//Surface tension in N/m\n",
"\n",
"//Calculations\n",
"r1=(((4*3.14*r^3)/3)/((n*4*3.14)/3))^(1/3)//Radius of one small drop in m\n",
"As=(n*4*3.14*r1^2)//Total surface of 500 drops in m^2\n",
"as=4*3.14*r^2//Original surface area of the drop in m^2\n",
"W=(s*(As-as))/10^-4//Work done in J*10^-4\n",
"\n",
"//Output\n",
"printf('Energy required to break up a drop of a liquid is %3.1f*10^-4 J',W)"
   ]
   }
,
{
		   "cell_type": "markdown",
		   "metadata": {},
		   "source": [
			"## Example 5.8: Speed_of_flow.sce"
		   ]
		  },
  {
"cell_type": "code",
	   "execution_count": null,
	   "metadata": {
	    "collapsed": true
	   },
	   "outputs": [],
"source": [
"clc\n",
"clear\n",
"//Input data\n",
"d=0.04//Inside diameter of garden hose in m\n",
"D=0.01//Diamter of nozzle opening in m\n",
"v1=0.6//speed of flow of water in the hose in m/s\n",
"\n",
"//calculations\n",
"a=3.14*(d/2)^2//Area of hose in m^2\n",
"A=3.14*(D/2)^2//Area of nozzle in m^2\n",
"v2=(v1*a)/A//Speed of flow through the nozzle in m/s\n",
"\n",
"//Output\n",
"printf('Speed of flow through the nozzle is %3.1f m/s',v2)"
   ]
   }
],
"metadata": {
		  "kernelspec": {
		   "display_name": "Scilab",
		   "language": "scilab",
		   "name": "scilab"
		  },
		  "language_info": {
		   "file_extension": ".sce",
		   "help_links": [
			{
			 "text": "MetaKernel Magics",
			 "url": "https://github.com/calysto/metakernel/blob/master/metakernel/magics/README.md"
			}
		   ],
		   "mimetype": "text/x-octave",
		   "name": "scilab",
		   "version": "0.7.1"
		  }
		 },
		 "nbformat": 4,
		 "nbformat_minor": 0
}
