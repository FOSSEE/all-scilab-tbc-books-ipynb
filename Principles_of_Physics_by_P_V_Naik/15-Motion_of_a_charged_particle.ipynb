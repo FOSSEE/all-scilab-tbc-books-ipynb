{
"cells": [
 {
		   "cell_type": "markdown",
	   "metadata": {},
	   "source": [
       "# Chapter 15: Motion of a charged particle"
	   ]
	},
{
		   "cell_type": "markdown",
		   "metadata": {},
		   "source": [
			"## Example 15.1: Speed.sce"
		   ]
		  },
  {
"cell_type": "code",
	   "execution_count": null,
	   "metadata": {
	    "collapsed": true
	   },
	   "outputs": [],
"source": [
"clc\n",
"clear\n",
"//Input data\n",
"E=5000//Intensity of electric field in N/C\n",
"d=0.02//Distance in m\n",
"e=(1.6*10^-19)//Charge of the electron in C\n",
"m=(9.1*10^-31)//Mass of the electron in kg\n",
"\n",
"//Calculations\n",
"v=sqrt(2*e*E*d/m)/10^6//Speed of the electron in m/s *10^6\n",
"\n",
"//Output\n",
"printf('Speed of the electron is %3.2f *10^6 m/s',v)"
   ]
   }
,
{
		   "cell_type": "markdown",
		   "metadata": {},
		   "source": [
			"## Example 15.2: Vertical_displacement.sce"
		   ]
		  },
  {
"cell_type": "code",
	   "execution_count": null,
	   "metadata": {
	    "collapsed": true
	   },
	   "outputs": [],
"source": [
"clc\n",
"clear\n",
"//Input data\n",
"v=(5*10^6)//Velocity of the electron in m/s\n",
"E=2000//Intensity of electric field in N/C\n",
"d=0.06//Distance in m\n",
"e=(1.6*10^-19)//Charge of the electron in C\n",
"m=(9.1*10^-31)//Mass of the electron in kg\n",
"\n",
"\n",
"//Calculations\n",
"y=((-e*E*d^2)/(2*m*v^2))*100//Vertical displacement of the electron when it just leaves the electric field in cm\n",
"\n",
"//Output\n",
"printf('Vertical displacement of the electron when it just leaves the electric field is %3.2f cm',y)"
   ]
   }
,
{
		   "cell_type": "markdown",
		   "metadata": {},
		   "source": [
			"## Example 15.3: Time_required.sce"
		   ]
		  },
  {
"cell_type": "code",
	   "execution_count": null,
	   "metadata": {
	    "collapsed": true
	   },
	   "outputs": [],
"source": [
"clc\n",
"clear\n",
"v=(4*10^5)//Velocity of the positively charged particle in m/s\n",
"E=300//Intensity of electric field in N/C\n",
"e=(1.6*10^-19)//Charge of the positively charged particle in C\n",
"m=(1.67*10^-27)//Mass of the positively charged particle in kg\n",
"q=35//Angle made by the particle in degrees\n",
"\n",
"//Calculations\n",
"t=((v*sind(q)*m)/(e*E))/10^-6//Time required by the particle to reach the maximum height in the electric field in micro s\n",
"\n",
"//Output\n",
"printf('Time required by the particle to reach the maximum height in the electric field is %3.2f micro s',t)"
   ]
   }
,
{
		   "cell_type": "markdown",
		   "metadata": {},
		   "source": [
			"## Example 15.4: Orbital_speed.sce"
		   ]
		  },
  {
"cell_type": "code",
	   "execution_count": null,
	   "metadata": {
	    "collapsed": true
	   },
	   "outputs": [],
"source": [
"clc\n",
"clear\n",
"//Input data\n",
"r=0.3//Radius of circular orbit in m\n",
"B=0.38//Magnetic field strength in T\n",
"e=(1.6*10^-19)//Charge of the proton in C\n",
"m=(1.672*10^-27)//Mass of the proton in kg\n",
"\n",
"//Calculations\n",
"v=((e*B*r)/m)/10^6//Orbital speed of the proton in m/s\n",
"\n",
"//Output\n",
"printf('Orbital speed of the proton is %3.0f *10^6 m/s',v)"
   ]
   }
,
{
		   "cell_type": "markdown",
		   "metadata": {},
		   "source": [
			"## Example 15.5: Pitch_of_helix_and_radius_of_trajectory.sce"
		   ]
		  },
  {
"cell_type": "code",
	   "execution_count": null,
	   "metadata": {
	    "collapsed": true
	   },
	   "outputs": [],
"source": [
"clc\n",
"clear\n",
"//Input data\n",
"e=(1.6*10^-19)//Charge of the proton in C\n",
"m=(1.67*10^-27)//Mass of the proton in kg\n",
"B=0.8//Magnetic field strength in T\n",
"v=[4*10^6,3*10^6]//Velocity of charged particle in vxi+vyj form in m/s\n",
"\n",
"//Calculations\n",
"p=(v(1)*2*3.14*m)/(e*B)//Pitch of the helix in m\n",
"R=(m*v(2))/(e*B)//Radius of the trajectory in m\n",
"\n",
"//Output\n",
"printf('The pitch of the helix is %3.3f m \n Radius of the trajectory is %3.5f m',p,R)"
   ]
   }
],
"metadata": {
		  "kernelspec": {
		   "display_name": "Scilab",
		   "language": "scilab",
		   "name": "scilab"
		  },
		  "language_info": {
		   "file_extension": ".sce",
		   "help_links": [
			{
			 "text": "MetaKernel Magics",
			 "url": "https://github.com/calysto/metakernel/blob/master/metakernel/magics/README.md"
			}
		   ],
		   "mimetype": "text/x-octave",
		   "name": "scilab",
		   "version": "0.7.1"
		  }
		 },
		 "nbformat": 4,
		 "nbformat_minor": 0
}
