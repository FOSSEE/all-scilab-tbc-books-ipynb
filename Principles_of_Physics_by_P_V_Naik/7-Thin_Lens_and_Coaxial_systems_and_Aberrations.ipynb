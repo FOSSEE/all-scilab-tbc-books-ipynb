{
"cells": [
 {
		   "cell_type": "markdown",
	   "metadata": {},
	   "source": [
       "# Chapter 7: Thin Lens and Coaxial systems and Aberrations"
	   ]
	},
{
		   "cell_type": "markdown",
		   "metadata": {},
		   "source": [
			"## Example 7.1: Position_of_cardinal_points.sce"
		   ]
		  },
  {
"cell_type": "code",
	   "execution_count": null,
	   "metadata": {
	    "collapsed": true
	   },
	   "outputs": [],
"source": [
"clc\n",
"clear\n",
"//Input data\n",
"f1=-12//Focal length of a converging lens in cm\n",
"f2=25//Focal length of a diverging lens in cm\n",
"d=8//Distance between the lens in cm\n",
"\n",
"//Calculations\n",
"C=(1/f1)+(1/f2)+(d/(f1*f2))//Inverse of focal length in cm^-1\n",
"D=(d/f2)+1//Constant value\n",
"A=(d/f1)+1//Constant value\n",
"O1F1=(-D/C)//Poistion of cardinal point in cm\n",
"O2F2=(A/C)//Poistion of cardinal point in cm\n",
"O1H1=(1-D)/C//Poistion of cardinal point in cm\n",
"O2H2=(A-1)/C//Poistion of cardinal point in cm\n",
"\n",
"//Output\n",
"printf('Position of cardinal points are O1F1 = %3.2f cm, O2F2 = %3.2f cm, O1H1 = %3.2f cm, O2H2 = %3.2f cm\n The system is in air, therfore, nodal points coincide with unit points',O1F1,O2F2,O1H1,O2H2)"
   ]
   }
,
{
		   "cell_type": "markdown",
		   "metadata": {},
		   "source": [
			"## Example 7.2: Focal_lengths.sce"
		   ]
		  },
  {
"cell_type": "code",
	   "execution_count": null,
	   "metadata": {
	    "collapsed": true
	   },
	   "outputs": [],
"source": [
"clc\n",
"clear\n",
"//Input data\n",
"f=15//Focal length of achromatic doublet made up of crown and flint glasses in cm\n",
"fl=[0.01506,0.02427]//Dispersive power of crown and flint glasses respectively \n",
"\n",
"//Calculations\n",
"//Solving two equations\n",
"//(1/f)=(1/f1)+(1/f2)\n",
"//(f1/f2)=(-0.01506/0.02427)\n",
"fx=(fl(1)/fl(2))//Ratio of focal lengths\n",
"f2=(-(1/fx)+1)/(1/f)//Focal length of converging lens in cm\n",
"f1=(-fx*f2)//Focal length of diverging lens in cm\n",
"\n",
"//Output\n",
"printf('Focal length of converging lens is %3.4f cm \n Focal length of diverging lens is %3.1f cm',f2,f1)"
   ]
   }
,
{
		   "cell_type": "markdown",
		   "metadata": {},
		   "source": [
			"## Example 7.3: Radii_of_curvature.sce"
		   ]
		  },
  {
"cell_type": "code",
	   "execution_count": null,
	   "metadata": {
	    "collapsed": true
	   },
	   "outputs": [],
"source": [
"clc\n",
"clear\n",
"//Input data\n",
"f=20//Focal length in cm\n",
"fl=[0.015,0.019]//Dispersive powers of crown and flint glasses respectively\n",
"r=[1.495,1.53]//Refractive indices respectively\n",
"\n",
"//Calculations\n",
"fx=-(fl(1)/fl(2))//Ratio of focal lengths\n",
"//Solving two equations\n",
"//(1/f)=(1/f1)+(1/f2)\n",
"//(f1/f2)=(-0.015/0.019)\n",
"f2=((1/fx)+1)/(1/f)//Focal length of converging lens in cm\n",
"f1=(fx*f2)//Focal length of diverging lens in cm\n",
"r2=(r(2)-1)*f2//Radius of curvature of convergent lens in cm\n",
"r1=1/(((1/f1)/(r(1)-1))+(1/r2))//Radius of curvature of divergent lens in cm\n",
"\n",
"//Output\n",
"printf('Radius of curvature of converging lens is %3.4f cm \n Radius of curvature of diverging lens is %3.3f cm',r2,r1)"
   ]
   }
,
{
		   "cell_type": "markdown",
		   "metadata": {},
		   "source": [
			"## Example 7.4: Radii_of_curvature.sce"
		   ]
		  },
  {
"cell_type": "code",
	   "execution_count": null,
	   "metadata": {
	    "collapsed": true
	   },
	   "outputs": [],
"source": [
"clc\n",
"clear\n",
"//Input data\n",
"r=1.5//Refractive index of the material of a thin lens\n",
"f=-20//Focal length of the lens in cm\n",
"rx=-6//Ratio of radii of curvature of lens\n",
"\n",
"//Calculations\n",
"r1=1/((1/f)/((r-1)*(1-(1/rx))))//Radius of curvature of convergent lens in cm\n",
"r2=(rx*r1)//Radius of curvature of divergent lens in cm\n",
"\n",
"//Output\n",
"printf('Radii of curvature of lens are %3.2f cm and %i cm',r1,r2)"
   ]
   }
],
"metadata": {
		  "kernelspec": {
		   "display_name": "Scilab",
		   "language": "scilab",
		   "name": "scilab"
		  },
		  "language_info": {
		   "file_extension": ".sce",
		   "help_links": [
			{
			 "text": "MetaKernel Magics",
			 "url": "https://github.com/calysto/metakernel/blob/master/metakernel/magics/README.md"
			}
		   ],
		   "mimetype": "text/x-octave",
		   "name": "scilab",
		   "version": "0.7.1"
		  }
		 },
		 "nbformat": 4,
		 "nbformat_minor": 0
}
