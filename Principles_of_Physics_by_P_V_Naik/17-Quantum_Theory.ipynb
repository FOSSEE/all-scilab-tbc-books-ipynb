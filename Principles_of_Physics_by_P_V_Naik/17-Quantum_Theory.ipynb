{
"cells": [
 {
		   "cell_type": "markdown",
	   "metadata": {},
	   "source": [
       "# Chapter 17: Quantum Theory"
	   ]
	},
{
		   "cell_type": "markdown",
		   "metadata": {},
		   "source": [
			"## Example 17.1: Maximum_kinetic_energy.sce"
		   ]
		  },
  {
"cell_type": "code",
	   "execution_count": null,
	   "metadata": {
	    "collapsed": true
	   },
	   "outputs": [],
"source": [
"clc\n",
"clear\n",
"//Input data\n",
"w=4000//Wavelength of the light in Angstrom units\n",
"wf=2.25//Work function of potassium in eV\n",
"m=(9.1*10^-31)//Mass of the electron in kg\n",
"v=(3*10^8)//Velocity of light in m/s\n",
"c=(1.6*10^-19)//Charge of the electron in coloumbs\n",
"h=6.626*10^-34//Plancks constant in Js\n",
"\n",
"//Calculations\n",
"E=(h*v)/(w*10^-10*c)//Energy of incident photon in eV\n",
"KE=(E-wf)//Kinetic energy in eV\n",
"\n",
"//Output\n",
"printf('Maximum kinetic energy of photoelectron is %3.3f eV',KE)"
   ]
   }
,
{
		   "cell_type": "markdown",
		   "metadata": {},
		   "source": [
			"## Example 17.2: Stopping_potential.sce"
		   ]
		  },
  {
"cell_type": "code",
	   "execution_count": null,
	   "metadata": {
	    "collapsed": true
	   },
	   "outputs": [],
"source": [
"clc\n",
"clear\n",
"//Input data\n",
"wf=1.9//Workfunction of the material in eV\n",
"w=3000//Wavelength of the light in Angstrom units\n",
"v=(3*10^8)//Velocity of light in m/s\n",
"c=(1.6*10^-19)//Charge of the electron in coloumbs\n",
"h=6.626*10^-34//Plancks constant in Js\n",
"\n",
"//Calculations\n",
"V=(1/c)*(((h*v)/(w*10^-10))-(wf*c))//Stopping potential in V\n",
"\n",
"//Output\n",
"printf('Stopping potential is %3.2f V',V)"
   ]
   }
,
{
		   "cell_type": "markdown",
		   "metadata": {},
		   "source": [
			"## Example 17.3: Shortest_wavelength.sce"
		   ]
		  },
  {
"cell_type": "code",
	   "execution_count": null,
	   "metadata": {
	    "collapsed": true
	   },
	   "outputs": [],
"source": [
"clc\n",
"clear\n",
"//Input data\n",
"V=(70*10^3)//Accelerating potential in V\n",
"v=(3*10^8)//Velocity of light in m/s\n",
"c=(1.6*10^-19)//Charge of the electron in coloumbs\n",
"h=6.626*10^-34//Plancks constant in Js\n",
"\n",
"//Calculations\n",
"lmin=((h*v)/(c*V))/10^-9//Shortest wavelength of X-rays produced in mm\n",
"\n",
"//Output\n",
"printf('Shortest wavelength of X-rays produced is %3.4f mm',lmin)"
   ]
   }
,
{
		   "cell_type": "markdown",
		   "metadata": {},
		   "source": [
			"## Example 17.4: Wavelength.sce"
		   ]
		  },
  {
"cell_type": "code",
	   "execution_count": null,
	   "metadata": {
	    "collapsed": true
	   },
	   "outputs": [],
"source": [
"clc\n",
"clear\n",
"//Input data\n",
"w1=2//Wavelength in Angstrom \n",
"Z1=24//Target one\n",
"Z2=42//Target two\n",
"a=1//Constant value\n",
"\n",
"//Calculations\n",
"w2=w1*((Z1-a)/(Z2-a))^2//Wavelength in Angstrom\n",
"\n",
"//Output\n",
"printf('Wavelength is %3.2f Angstrom',w2)"
   ]
   }
,
{
		   "cell_type": "markdown",
		   "metadata": {},
		   "source": [
			"## Example 17.5: Wavelength.sce"
		   ]
		  },
  {
"cell_type": "code",
	   "execution_count": null,
	   "metadata": {
	    "collapsed": true
	   },
	   "outputs": [],
"source": [
"clc\n",
"clear\n",
"//Input data\n",
"w=3//Wavelength of the light in Angstrom\n",
"v=(3*10^8)//Velocity of light in m/s\n",
"h=6.626*10^-34//Plancks constant in Js\n",
"q=40//Scattering angle in degrees\n",
"m=(9.11*10^-31)//Mass of electron in kg\n",
"c=(1.6*10^-19)//Charge of the electron in coloumbs\n",
"\n",
"//Calculations\n",
"dl=(h/(m*v))*(1-cosd(q))/10^-10//Wavelength in Angstrom\n",
"l=(w+dl)//Wavelength of scattered X-rays\n",
"\n",
"//Output\n",
"printf('Wavelength of scattered X-rays is %3.6f Angstrom',l)"
   ]
   }
],
"metadata": {
		  "kernelspec": {
		   "display_name": "Scilab",
		   "language": "scilab",
		   "name": "scilab"
		  },
		  "language_info": {
		   "file_extension": ".sce",
		   "help_links": [
			{
			 "text": "MetaKernel Magics",
			 "url": "https://github.com/calysto/metakernel/blob/master/metakernel/magics/README.md"
			}
		   ],
		   "mimetype": "text/x-octave",
		   "name": "scilab",
		   "version": "0.7.1"
		  }
		 },
		 "nbformat": 4,
		 "nbformat_minor": 0
}
