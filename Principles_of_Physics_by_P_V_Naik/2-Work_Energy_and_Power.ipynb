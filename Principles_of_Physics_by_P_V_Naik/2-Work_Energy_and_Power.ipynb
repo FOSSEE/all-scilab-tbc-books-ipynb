{
"cells": [
 {
		   "cell_type": "markdown",
	   "metadata": {},
	   "source": [
       "# Chapter 2: Work Energy and Power"
	   ]
	},
{
		   "cell_type": "markdown",
		   "metadata": {},
		   "source": [
			"## Example 2.1: Workdone.sce"
		   ]
		  },
  {
"cell_type": "code",
	   "execution_count": null,
	   "metadata": {
	    "collapsed": true
	   },
	   "outputs": [],
"source": [
"clc\n",
"clear\n",
"//Input data\n",
"F=[6,2]//Constant force in vector form 6i+2j in N\n",
"s=[3,5]//Displacement in vector form 3i+5j in N\n",
"\n",
"//Calculations\n",
"W=(F(1)*s(1))+(F(2)*s(2))//Workdone in J\n",
"q=acosd(W/(sqrt(F(1)^2+F(2)^2)*sqrt(s(1)^2+s(2)^2)))//Angle between Force and displacement in degrees\n",
"\n",
"//Output\n",
"printf('Workdone by the force is %3.0f J \n Angle between Force and displacement is %3.1f degrees',W,q)"
   ]
   }
,
{
		   "cell_type": "markdown",
		   "metadata": {},
		   "source": [
			"## Example 2.2: Workdone.sce"
		   ]
		  },
  {
"cell_type": "code",
	   "execution_count": null,
	   "metadata": {
	    "collapsed": true
	   },
	   "outputs": [],
"source": [
"clc\n",
"clear\n",
"//Input data\n",
"m=10//Mass of block in kg\n",
"q=40//Angle made by the force with horizontal in degrees\n",
"s=5//Horizontal displacement of the block in m\n",
"u=0.3//Coefficient of kinematic friction \n",
"\n",
"//Calculations\n",
"F=(u*m*9.8)/(cosd(q)+(u*sind(q)))//Pulling force in N\n",
"W=(F*cosd(q))*s//Workdone by the pulling force in J\n",
"\n",
"//Output\n",
"printf('Workdone by the pulling force is %3.2f J',W)"
   ]
   }
,
{
		   "cell_type": "markdown",
		   "metadata": {},
		   "source": [
			"## Example 2.3: Workdone.sce"
		   ]
		  },
  {
"cell_type": "code",
	   "execution_count": null,
	   "metadata": {
	    "collapsed": true
	   },
	   "outputs": [],
"source": [
"clc\n",
"clear\n",
"//Input data\n",
"r1=[0,1]//Interval in m\n",
"r2=[1,2]//Interval in m\n",
"r3=[2,4]//Interval in m\n",
"r4=[0,5]//Interval in m\n",
"y=[6,12]//Y- coordinates from the graph 2.5 on page no. 27\n",
"\n",
"//Calculations\n",
"a1=(1/2)*(r1(2)-r1(1))*y(1)//Area under the curve in J\n",
"a2=(r2(2)-r2(1))*y(1)//Area under the curve in J\n",
"a3=((r3(2)-r3(1))*y(1))+((1/2)*((r3(2)-r3(1))/2)*(y(2)-y(1)))+(((r3(2)-r3(1))/2)*(y(2)-y(1)))//Area under the curve in J\n",
"a4=(a1+a2+a3+((1/2)*y(2)*(r4(2)-r3(2))))//Area under the curve in J\n",
"\n",
"//Output\n",
"X=[0,1,2,3,4,5]//X- coordinate is distance in m\n",
"Y=[0,6,6,12,12,0]//Y- coordinate is Force in N\n",
"plot(X,Y)//Graph shown in figure 2.5 on page no.27\n",
"xtitle('Distance versus Force','Distance in m','Force in N')\n",
"\n",
"printf('The work done in the intervals: \n (a)%i<=x<=%i m is %i J \n (b)%i<=x<=%i m is %i J \n (c)%i<=x<=%i m is %i J \n (d)%i<=x<=%i m is %i J \n',r1(1),r1(2),a1,r2(1),r2(2),a2,r3(1),r3(2),a3,r4(1),r4(2),a4)"
   ]
   }
,
{
		   "cell_type": "markdown",
		   "metadata": {},
		   "source": [
			"## Example 2.4: Kinetic_energy.sce"
		   ]
		  },
  {
"cell_type": "code",
	   "execution_count": null,
	   "metadata": {
	    "collapsed": true
	   },
	   "outputs": [],
"source": [
"clc\n",
"clear\n",
"//Input data\n",
"m=0.05//Mass of the body in kg\n",
"v=[3,5]//Velocity in vector form 3i+4j in m/s\n",
"\n",
"//Calculations\n",
"ke=(1/2)*m*(v(1)^2+v(2)^2)//Kinetic energy in J\n",
"\n",
"//Output\n",
"printf('Kinetic energy is %3.2f J',ke)"
   ]
   }
,
{
		   "cell_type": "markdown",
		   "metadata": {},
		   "source": [
			"## Example 2.5: Workdone.sce"
		   ]
		  },
  {
"cell_type": "code",
	   "execution_count": null,
	   "metadata": {
	    "collapsed": true
	   },
	   "outputs": [],
"source": [
"clc\n",
"clear\n",
"//Input data\n",
"k=50//Spring force constant in N/m\n",
"x=-0.02//Length of compression in m\n",
"\n",
"//Calculations\n",
"W=(1/2)*k*(x)^2//Work done by the spring in J\n",
"\n",
"//Output\n",
"printf('Work done by the spring when the block comes from the compressed position to the equilibrium position is %3.2f J',W)"
   ]
   }
,
{
		   "cell_type": "markdown",
		   "metadata": {},
		   "source": [
			"## Example 2.6: Force_constant_of_the_spring.sce"
		   ]
		  },
  {
"cell_type": "code",
	   "execution_count": null,
	   "metadata": {
	    "collapsed": true
	   },
	   "outputs": [],
"source": [
"clc\n",
"clear\n",
"//Input data\n",
"x=0.03//Length stretched by the spring in m\n",
"m=0.25//Mass of the body in kg\n",
"\n",
"//Calculations\n",
"k=(m*9.8)/x//Force constant of the spring in N/m\n",
"\n",
"//Output\n",
"printf('Force constant of the spring is %3.2f N/m',k)"
   ]
   }
,
{
		   "cell_type": "markdown",
		   "metadata": {},
		   "source": [
			"## Example 2.7: Speed_of_the_block.sce"
		   ]
		  },
  {
"cell_type": "code",
	   "execution_count": null,
	   "metadata": {
	    "collapsed": true
	   },
	   "outputs": [],
"source": [
"clc\n",
"clear\n",
"//Input data\n",
"m=5//Mass of block in kg\n",
"F=20//Constant force in N\n",
"x=6//Distance moved by the block in m\n",
"\n",
"//Calculations\n",
"W=(F*x)//Workdone by the block in J\n",
"v=sqrt((2*W)/m)//Speed of the block in m/s\n",
"\n",
"//Output\n",
"printf('Speed of the block when it moves through a distance of %3.0f m is %3.2f m/s',x,v)"
   ]
   }
,
{
		   "cell_type": "markdown",
		   "metadata": {},
		   "source": [
			"## Example 2.8: Workdone_and_average_power.sce"
		   ]
		  },
  {
"cell_type": "code",
	   "execution_count": null,
	   "metadata": {
	    "collapsed": true
	   },
	   "outputs": [],
"source": [
"clc\n",
"clear\n",
"//Input data\n",
"m=50//Mass of the object in kg\n",
"v=8//Speed in m/s\n",
"t=4//Time taken in s\n",
"\n",
"//Calculations\n",
"a=(v-0)/t//Acceleration in m/s^2\n",
"s=(v^2/(2*a))//Distance in m\n",
"W=(m*a*s)//Workdone in J\n",
"P=(W/t)//Power delivered in watt\n",
"\n",
"//Output\n",
"printf('Workdone on the object is %i J \n The average power delivered by the force in the first %i s is %i watt',W,t,P)"
   ]
   }
],
"metadata": {
		  "kernelspec": {
		   "display_name": "Scilab",
		   "language": "scilab",
		   "name": "scilab"
		  },
		  "language_info": {
		   "file_extension": ".sce",
		   "help_links": [
			{
			 "text": "MetaKernel Magics",
			 "url": "https://github.com/calysto/metakernel/blob/master/metakernel/magics/README.md"
			}
		   ],
		   "mimetype": "text/x-octave",
		   "name": "scilab",
		   "version": "0.7.1"
		  }
		 },
		 "nbformat": 4,
		 "nbformat_minor": 0
}
