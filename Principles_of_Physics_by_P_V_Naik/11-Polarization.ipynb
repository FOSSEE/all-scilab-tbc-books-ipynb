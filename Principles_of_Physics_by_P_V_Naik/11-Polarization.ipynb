{
"cells": [
 {
		   "cell_type": "markdown",
	   "metadata": {},
	   "source": [
       "# Chapter 11: Polarization"
	   ]
	},
{
		   "cell_type": "markdown",
		   "metadata": {},
		   "source": [
			"## Example 11.1: Polarizing_angles.sce"
		   ]
		  },
  {
"cell_type": "code",
	   "execution_count": null,
	   "metadata": {
	    "collapsed": true
	   },
	   "outputs": [],
"source": [
"clc\n",
"clear\n",
"//Input data\n",
"r1=1.538//Refractive index of the crown glass for violet\n",
"r2=1.52//Refractive index of the crown glass for red\n",
"\n",
"//Calculations\n",
"ip1=atand(r1)//Polarizing angle in degrees\n",
"ip2=atand(r2)//Polarizing angle in degrees\n",
"\n",
"//Output\n",
"printf('Polarizing angles for violet and red are %3.2f degrees and %3.2f degrees',ip1,ip2)"
   ]
   }
,
{
		   "cell_type": "markdown",
		   "metadata": {},
		   "source": [
			"## Example 11.2: Angle.sce"
		   ]
		  },
  {
"cell_type": "code",
	   "execution_count": null,
	   "metadata": {
	    "collapsed": true
	   },
	   "outputs": [],
"source": [
"clc\n",
"clear\n",
"//Input data\n",
"I=0.09//Ratio of observed intensity to the initial intensity\n",
"\n",
"//Calculations\n",
"q=acosd(sqrt(I))//Angle between the plane of transmission of the analyser and that of the polarizer in degrees\n",
"\n",
"//Output\n",
"printf('Angle between the plane of transmission of the analyser and that of the polarizer is %3.2f degrees',q)\n",
""
   ]
   }
],
"metadata": {
		  "kernelspec": {
		   "display_name": "Scilab",
		   "language": "scilab",
		   "name": "scilab"
		  },
		  "language_info": {
		   "file_extension": ".sce",
		   "help_links": [
			{
			 "text": "MetaKernel Magics",
			 "url": "https://github.com/calysto/metakernel/blob/master/metakernel/magics/README.md"
			}
		   ],
		   "mimetype": "text/x-octave",
		   "name": "scilab",
		   "version": "0.7.1"
		  }
		 },
		 "nbformat": 4,
		 "nbformat_minor": 0
}
