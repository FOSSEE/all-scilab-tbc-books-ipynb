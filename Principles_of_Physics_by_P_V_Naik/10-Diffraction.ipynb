{
"cells": [
 {
		   "cell_type": "markdown",
	   "metadata": {},
	   "source": [
       "# Chapter 10: Diffraction"
	   ]
	},
{
		   "cell_type": "markdown",
		   "metadata": {},
		   "source": [
			"## Example 10.1: Width_of_central_band.sce"
		   ]
		  },
  {
"cell_type": "code",
	   "execution_count": null,
	   "metadata": {
	    "collapsed": true
	   },
	   "outputs": [],
"source": [
"clc\n",
"clear\n",
"//Input data\n",
"D=1//Distance of screen from the slit in m\n",
"w=6000//Wavelength in Angstrom\n",
"w1=0.6//Slit width in mm\n",
"\n",
"//Calculations\n",
"x=((2*D*w*10^-10)/(w1*10^-3))*1000//Width of central band in mm\n",
"\n",
"//Output\n",
"printf('Width of central band is %i mm',x)"
   ]
   }
,
{
		   "cell_type": "markdown",
		   "metadata": {},
		   "source": [
			"## Example 10.2: Wavelength.sce"
		   ]
		  },
  {
"cell_type": "code",
	   "execution_count": null,
	   "metadata": {
	    "collapsed": true
	   },
	   "outputs": [],
"source": [
"clc\n",
"clear\n",
"//Input data\n",
"d1=6000//Diffraction grating have number of lines per cm\n",
"q=50//Diffracted second order spectral line observed in degrees\n",
"n=2//Second order\n",
"\n",
"//Calculations\n",
"w=(sind(q)/(d1*n))*10^8//Wavelength of radiation in Angstrom\n",
"\n",
"//Output\n",
"printf('Wavelength of radiation is %3.1f Angstrom',w)"
   ]
   }
,
{
		   "cell_type": "markdown",
		   "metadata": {},
		   "source": [
			"## Example 10.3: Maximum_order_of_diffractio.sce"
		   ]
		  },
  {
"cell_type": "code",
	   "execution_count": null,
	   "metadata": {
	    "collapsed": true
	   },
	   "outputs": [],
"source": [
"clc\n",
"clear\n",
"//Input data\n",
"d1=6000//Diffraction grating have number of lines per cm\n",
"w=6000//Wavelength in Angstrom\n",
"\n",
"//Calculations\n",
"n=(1/(d1*w*10^-8))//Maxmum order of diffraction\n",
"\n",
"//Output\n",
"printf('Maximum order of diffraction that can be observed is %i',n)"
   ]
   }
,
{
		   "cell_type": "markdown",
		   "metadata": {},
		   "source": [
			"## Example 10.4: Ratio_of_intensity.sce"
		   ]
		  },
  {
"cell_type": "code",
	   "execution_count": null,
	   "metadata": {
	    "collapsed": true
	   },
	   "outputs": [],
"source": [
"clc\n",
"clear\n",
"//Input data\n",
"B=(3*3.14)/2//First secondary maxima at B\n",
"\n",
"//Calculations\n",
"I=(sin(B)/B)^2//Ratio of intensity of central maxima to first secondary maxima\n",
"\n",
"//Output\n",
"printf('Ratio of intensity of central maxima to first secondary maxima is %3.3f',I)"
   ]
   }
,
{
		   "cell_type": "markdown",
		   "metadata": {},
		   "source": [
			"## Example 10.5: Distance.sce"
		   ]
		  },
  {
"cell_type": "code",
	   "execution_count": null,
	   "metadata": {
	    "collapsed": true
	   },
	   "outputs": [],
"source": [
"clc\n",
"clear\n",
"//Input data\n",
"w=6400//Wave length of light in Angstrom\n",
"w1=0.3//Slit width in mm\n",
"d=110//Distance of screen from the slit in cm\n",
"n=3//order\n",
"\n",
"//Calculations\n",
"x=((n*w*10^-10*(d/100))/(w1*10^-3))*1000//Distance between the centre of the central maximum and the third dark fringe in mm\n",
"\n",
"//Output\n",
"printf('Distance between the centre of the central maximum and the third dark fringe is %3.2f mm',x)"
   ]
   }
],
"metadata": {
		  "kernelspec": {
		   "display_name": "Scilab",
		   "language": "scilab",
		   "name": "scilab"
		  },
		  "language_info": {
		   "file_extension": ".sce",
		   "help_links": [
			{
			 "text": "MetaKernel Magics",
			 "url": "https://github.com/calysto/metakernel/blob/master/metakernel/magics/README.md"
			}
		   ],
		   "mimetype": "text/x-octave",
		   "name": "scilab",
		   "version": "0.7.1"
		  }
		 },
		 "nbformat": 4,
		 "nbformat_minor": 0
}
