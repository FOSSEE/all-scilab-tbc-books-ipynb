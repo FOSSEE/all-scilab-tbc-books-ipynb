{
"cells": [
 {
		   "cell_type": "markdown",
	   "metadata": {},
	   "source": [
       "# Chapter 9: Interference"
	   ]
	},
{
		   "cell_type": "markdown",
		   "metadata": {},
		   "source": [
			"## Example 9.1: Wavelength.sce"
		   ]
		  },
  {
"cell_type": "code",
	   "execution_count": null,
	   "metadata": {
	    "collapsed": true
	   },
	   "outputs": [],
"source": [
"clc\n",
"clear\n",
"//Input data\n",
"t=0.2//Thickness of film in micro m\n",
"r=1.25//Refractive index of liquid\n",
"w=[4000,5000]//Range of wavelength in Angstrom\n",
"q=35//Angle observed in degrees\n",
"\n",
"//Calculations\n",
"u=asind(sind(q)/r)//Angle of reflection in degrees\n",
"w1=(2*t*10^-6*r*cosd(u))/10^-10//Wavelength in Angstrom\n",
"w2=w1/2//Wavelength in Angstrom\n",
"\n",
"//Output\n",
"printf('Wavelength absent in reflected light is %i Angstrom',w2)"
   ]
   }
,
{
		   "cell_type": "markdown",
		   "metadata": {},
		   "source": [
			"## Example 9.2: Thickness_of_the_film.sce"
		   ]
		  },
  {
"cell_type": "code",
	   "execution_count": null,
	   "metadata": {
	    "collapsed": true
	   },
	   "outputs": [],
"source": [
"clc\n",
"clear\n",
"//Input data\n",
"r=1.39//Refractive index of the film \n",
"q=30//Angle observed in degrees\n",
"w=[5125,5000]//Wavelengths of two consecutive dark bands in Angstrom\n",
"\n",
"//Calculations\n",
"r1=asind(sind(q)/r)//Angle of reflection in degrees\n",
"n=w(2)/(w(1)-w(2))//Constant value\n",
"t=((n*w(1)*10^-8)/(2*r*cosd(r1)))/10^-4//Thickness of the film in cm *10^-4\n",
"\n",
"//Output\n",
"printf('Thickness of the film is %3.4f *10^-4 cm',t)"
   ]
   }
,
{
		   "cell_type": "markdown",
		   "metadata": {},
		   "source": [
			"## Example 9.3: Angle_of_wedge.sce"
		   ]
		  },
  {
"cell_type": "code",
	   "execution_count": null,
	   "metadata": {
	    "collapsed": true
	   },
	   "outputs": [],
"source": [
"clc\n",
"clear\n",
"//Input data\n",
"r=1.4//Refractive index of the material\n",
"w=5893//Wavelength of yellow light in Angstrom\n",
"n=10//Number of bands\n",
"w1=0.009//Width of band in m\n",
"\n",
"//Calculations\n",
"b=asind((w*10^-8)/(2*r*n*w1))//Angle of wedge in degrees\n",
"\n",
"//Output\n",
"printf('Angle of wedge is %3.4f degrees',b)"
   ]
   }
,
{
		   "cell_type": "markdown",
		   "metadata": {},
		   "source": [
			"## Example 9.4: Thickness.sce"
		   ]
		  },
  {
"cell_type": "code",
	   "execution_count": null,
	   "metadata": {
	    "collapsed": true
	   },
	   "outputs": [],
"source": [
"clc\n",
"clear\n",
"//Input data\n",
"r=1//Refractive index\n",
"n=4//Number of bands\n",
"w=6500//Wavelength in Angstrom\n",
"\n",
"//Calculations\n",
"t=(((n+(1/2))*w*10^-8)/(2*r))/10^-4//Thickness of wedge shaped air film in cm *10^-4\n",
"\n",
"//Output\n",
"printf('Thickness of wedge shaped air film is %3.4f *10^-4 cm',t)"
   ]
   }
,
{
		   "cell_type": "markdown",
		   "metadata": {},
		   "source": [
			"## Example 9.5: Radius_of_curvature.sce"
		   ]
		  },
  {
"cell_type": "code",
	   "execution_count": null,
	   "metadata": {
	    "collapsed": true
	   },
	   "outputs": [],
"source": [
"clc\n",
"clear\n",
"//Input data\n",
"d=0.5//Diameter of the ring in cm\n",
"n=4//number of bands\n",
"w=5893//Wavelength of light in Angstrom\n",
"q=30//Angle at which light enters in degrees\n",
"\n",
"//Calculations\n",
"R=((d^2*cosd(q))/(2*(2*n+1)*w*10^-8))//Radius of curvature of lens in cm\n",
"\n",
"//Output\n",
"printf('Radius of curvature of lens is %3.1f cm',R)"
   ]
   }
],
"metadata": {
		  "kernelspec": {
		   "display_name": "Scilab",
		   "language": "scilab",
		   "name": "scilab"
		  },
		  "language_info": {
		   "file_extension": ".sce",
		   "help_links": [
			{
			 "text": "MetaKernel Magics",
			 "url": "https://github.com/calysto/metakernel/blob/master/metakernel/magics/README.md"
			}
		   ],
		   "mimetype": "text/x-octave",
		   "name": "scilab",
		   "version": "0.7.1"
		  }
		 },
		 "nbformat": 4,
		 "nbformat_minor": 0
}
