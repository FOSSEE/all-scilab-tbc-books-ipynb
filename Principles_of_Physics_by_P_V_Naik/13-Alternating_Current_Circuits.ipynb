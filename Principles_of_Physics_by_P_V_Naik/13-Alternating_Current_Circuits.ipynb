{
"cells": [
 {
		   "cell_type": "markdown",
	   "metadata": {},
	   "source": [
       "# Chapter 13: Alternating Current Circuits"
	   ]
	},
{
		   "cell_type": "markdown",
		   "metadata": {},
		   "source": [
			"## Example 13.1: rms_current_and_maximum_current.sce"
		   ]
		  },
  {
"cell_type": "code",
	   "execution_count": null,
	   "metadata": {
	    "collapsed": true
	   },
	   "outputs": [],
"source": [
"clc\n",
"clear\n",
"//Input data\n",
"Vm=100//Maximum voltage in V\n",
"R=50//resitance in ohms\n",
"\n",
"//Calculations\n",
"Vrms=(Vm/sqrt(2))//rms voltage in V\n",
"Irms=(Vrms/R)//rms current in A\n",
"Im=(Vm/R)//Maximum current in A\n",
"\n",
"//Output\n",
"printf('rms current is %3.2f A and maximum current is %i A',Irms,Im)"
   ]
   }
,
{
		   "cell_type": "markdown",
		   "metadata": {},
		   "source": [
			"## Example 13.2: rms_current.sce"
		   ]
		  },
  {
"cell_type": "code",
	   "execution_count": null,
	   "metadata": {
	    "collapsed": true
	   },
	   "outputs": [],
"source": [
"clc\n",
"clear\n",
"//Input data\n",
"c=50//Capacitor in micro F\n",
"Vm=220//Maximum voltage in V\n",
"f=50//Frequency in Hz\n",
"\n",
"//Calculations\n",
"Xc=(1/(2*3.14*c*10^-6*f))//Reactance in ohms\n",
"I=(Vm/Xc)//Maximum current in A \n",
"Irms=I/sqrt(2)//rms current in A\n",
"\n",
"//Output\n",
"printf('rms current is %3.2f A',Irms)"
   ]
   }
,
{
		   "cell_type": "markdown",
		   "metadata": {},
		   "source": [
			"## Example 13.3: rms_current.sce"
		   ]
		  },
  {
"cell_type": "code",
	   "execution_count": null,
	   "metadata": {
	    "collapsed": true
	   },
	   "outputs": [],
"source": [
"clc\n",
"clear\n",
"//Input data\n",
"L=2//Inductance in H\n",
"Vrms=220//rms voltage in V\n",
"f=50//Frequency in Hz\n",
"\n",
"//Calculations\n",
"Xl=(2*3.14*f*L)//Reactance in ohms\n",
"Irms=(Vrms/Xl)//rms current in A\n",
"\n",
"//Output\n",
"printf('rms current is %3.3f A',Irms)"
   ]
   }
,
{
		   "cell_type": "markdown",
		   "metadata": {},
		   "source": [
			"## Example 13.4: Maximum_potential_difference.sce"
		   ]
		  },
  {
"cell_type": "code",
	   "execution_count": null,
	   "metadata": {
	    "collapsed": true
	   },
	   "outputs": [],
"source": [
"clc\n",
"clear\n",
"//Input data\n",
"Vm=220//Maximum voltage in V\n",
"f=50//frequency in Hz\n",
"R=2000//Resistance in ohms\n",
"C=5*10^-6//Capacitor in F\n",
"\n",
"//Calculations\n",
"Xc=(1/(2*3.14*f*C))//Reactance in ohms\n",
"Z=sqrt(R^2+Xc^2)//Impedence in ohm\n",
"Vc=(Vm*Xc)/Z//Maximum potential difference across the capacitor in V\n",
"\n",
"//Output\n",
"printf('Maximum potential difference across the capacitor is %3.2f V',Vc)"
   ]
   }
,
{
		   "cell_type": "markdown",
		   "metadata": {},
		   "source": [
			"## Example 13.5: rms_potential_difference.sce"
		   ]
		  },
  {
"cell_type": "code",
	   "execution_count": null,
	   "metadata": {
	    "collapsed": true
	   },
	   "outputs": [],
"source": [
"clc\n",
"clear\n",
"//Input data\n",
"R=5000//Resistance in ohms\n",
"L=2//Inductance in H\n",
"Vrms=200//rms Voltage in V\n",
"f=50//Frequency in Hz\n",
"\n",
"//Calculations\n",
"Xl=(2*3.14*f*L)//Inductive reactance in ohms\n",
"Z=sqrt(R^2+Xl^2)//Impedence in ohms\n",
"Vl=(Vrms*Xl)/Z//rms potential difference across the inductor in V\n",
"\n",
"//Output\n",
"printf('rms potential difference across the inductor is %3.2f V',Vl)"
   ]
   }
,
{
		   "cell_type": "markdown",
		   "metadata": {},
		   "source": [
			"## Example 13.6: Parameters.sce"
		   ]
		  },
  {
"cell_type": "code",
	   "execution_count": null,
	   "metadata": {
	    "collapsed": true
	   },
	   "outputs": [],
"source": [
"clc\n",
"clear\n",
"//Input data\n",
"R=10//Resistance in ohms\n",
"L=5*10^-3//Inductance in H\n",
"C=10*10^-6//Capacitance in F\n",
"V=100//Voltage in V\n",
"f=50//Frequency in Hz\n",
"\n",
"//Calculations\n",
"Xc=(1/(2*3.14*f*C))//Capacitive reactance in ohms\n",
"Xl=(2*3.14*f*L)//Inductive reactance in ohms\n",
"Z=sqrt(R^2+(Xl-Xc)^2)//Impedence in ohms\n",
"I=(V/Z)//Current in A\n",
"q=atand((Xl-Xc)/R)//Phase angle in degrees\n",
"Vr=(I*R)//Voltage across resistor in V\n",
"Vc=(I*Xc)//Voltage across capacitor in V\n",
"Vl=(I*Xl)//Voltage across inductor in V\n",
"\n",
"//Output\n",
"printf('Total impedence is %3.1f ohms \n Current is %3.3f A \n Phase angle is %3.2f degrees \n Voltage across resistor is %3.2f V \n Voltage across capacitor is %3.2f V \n Voltage across inductor is %3.3f V',Z,I,q,Vr,Vc,Vl)"
   ]
   }
,
{
		   "cell_type": "markdown",
		   "metadata": {},
		   "source": [
			"## Example 13.7: Resonating_frequency_and_Q_factor.sce"
		   ]
		  },
  {
"cell_type": "code",
	   "execution_count": null,
	   "metadata": {
	    "collapsed": true
	   },
	   "outputs": [],
"source": [
"clc\n",
"clear\n",
"//Input data\n",
"R=5//Resistance in ohms\n",
"L=2*10^-3//Inductance in H\n",
"C=25*10^-6//Capacitance in F\n",
"V=50//Voltage in V\n",
"\n",
"//Calculations\n",
"w=1/sqrt(L*C)//Angular speed in rad/s\n",
"f=(w/(2*3.14))//Frequency in Hz\n",
"Q=(w*L)/R//Q factor\n",
"\n",
"//Output\n",
"printf('Resonating frequency is %3.2f Hz \n Q factor is %3.2f',f,Q)"
   ]
   }
,
{
		   "cell_type": "markdown",
		   "metadata": {},
		   "source": [
			"## Example 13.8: Capacitance_and_resistance.sce"
		   ]
		  },
  {
"cell_type": "code",
	   "execution_count": null,
	   "metadata": {
	    "collapsed": true
	   },
	   "outputs": [],
"source": [
"clc\n",
"clear\n",
"//Input data\n",
"L=(20*10^-3)//Inductance in H\n",
"Q=8//Q factor\n",
"f=1000//Frequency in Hz\n",
"\n",
"//Calculations\n",
"R=(2*3.14*f*L)/Q//Resistance in ohms\n",
"C=(1/((2*3.14*f)^2*L))/10^-6//Capacitance in microF\n",
"\n",
"//Output\n",
"printf('Capacitance and resistance of coil is %3.2f micro F and %3.1f ohms respectively',C,R)"
   ]
   }
],
"metadata": {
		  "kernelspec": {
		   "display_name": "Scilab",
		   "language": "scilab",
		   "name": "scilab"
		  },
		  "language_info": {
		   "file_extension": ".sce",
		   "help_links": [
			{
			 "text": "MetaKernel Magics",
			 "url": "https://github.com/calysto/metakernel/blob/master/metakernel/magics/README.md"
			}
		   ],
		   "mimetype": "text/x-octave",
		   "name": "scilab",
		   "version": "0.7.1"
		  }
		 },
		 "nbformat": 4,
		 "nbformat_minor": 0
}
