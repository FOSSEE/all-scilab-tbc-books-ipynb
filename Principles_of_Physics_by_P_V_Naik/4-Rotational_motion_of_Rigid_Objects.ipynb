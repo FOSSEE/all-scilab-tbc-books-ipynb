{
"cells": [
 {
		   "cell_type": "markdown",
	   "metadata": {},
	   "source": [
       "# Chapter 4: Rotational motion of Rigid Objects"
	   ]
	},
{
		   "cell_type": "markdown",
		   "metadata": {},
		   "source": [
			"## Example 4.1: Moment_of_inertia_and_Kinetic_energy.sce"
		   ]
		  },
  {
"cell_type": "code",
	   "execution_count": null,
	   "metadata": {
	    "collapsed": true
	   },
	   "outputs": [],
"source": [
"clc\n",
"clear\n",
"//Input data\n",
"w=4//Angular velocity in rad/s\n",
"m=[1,2,3,4]//Masses in kg from the figure 4.17 on page no.54 \n",
"r=[2.5,1.5]//Centre position in m\n",
"\n",
"//Calculations\n",
"I=(m(1)+m(2)+m(3)+m(4))*(r(1)^2+r(2)^2)//Moment of inertia in kg.m^2\n",
"KE=(1/2)*I*w^2//Kinetic energy of the system in J\n",
"\n",
"//Output\n",
"printf('The moment of inertia is %i kg.m^2 \n Kinetic energy of the system is %i J',I,KE)"
   ]
   }
,
{
		   "cell_type": "markdown",
		   "metadata": {},
		   "source": [
			"## Example 4.2: Velocity_and_acceleration.sce"
		   ]
		  },
  {
"cell_type": "code",
	   "execution_count": null,
	   "metadata": {
	    "collapsed": true
	   },
	   "outputs": [],
"source": [
"clc\n",
"clear\n",
"//input data\n",
"q=30//Angle of inclination in degrees\n",
"h=1//Height in m\n",
"\n",
"//Calculations\n",
"v=sqrt((10/7)*9.8*h)//Velocity in m/s\n",
"a=(5/7)*9.8*sind(q)//Acceleration in m/s^2\n",
"\n",
"//Output\n",
"printf('Velocity and acceleration of the centre of mass of the sphere is %3.2f m/s and %3.1f m/s^2',v,a)"
   ]
   }
,
{
		   "cell_type": "markdown",
		   "metadata": {},
		   "source": [
			"## Example 4.3: Period_of_oscillatio.sce"
		   ]
		  },
  {
"cell_type": "code",
	   "execution_count": null,
	   "metadata": {
	    "collapsed": true
	   },
	   "outputs": [],
"source": [
"clc\n",
"clear\n",
"//Input data\n",
"m=1.2//Mass of the rod in kg\n",
"l=0.8//Length of the rod in m\n",
"\n",
"//Calculations\n",
"T=2*3.14*sqrt((2*l)/(3*9.8))//Time period in s\n",
"\n",
"//Output\n",
"printf('Period of oscillation is %3.2f s',T)"
   ]
   }
,
{
		   "cell_type": "markdown",
		   "metadata": {},
		   "source": [
			"## Example 4.4: Period_of_oscillatio.sce"
		   ]
		  },
  {
"cell_type": "code",
	   "execution_count": null,
	   "metadata": {
	    "collapsed": true
	   },
	   "outputs": [],
"source": [
"clc\n",
"clear\n",
"//Input data\n",
"r=0.2//Radius of uniform disc in m\n",
"d=0.15//Distance from the centre in m\n",
"\n",
"//Calculations\n",
"T=2*3.14*sqrt((17*r)/(12*9.8))//Period of oscillations in s\n",
"\n",
"//Output\n",
"printf('The period of oscillation is %3.2f s',T)"
   ]
   }
,
{
		   "cell_type": "markdown",
		   "metadata": {},
		   "source": [
			"## Example 4.5: Angular_speed_of_rotation.sce"
		   ]
		  },
  {
"cell_type": "code",
	   "execution_count": null,
	   "metadata": {
	    "collapsed": true
	   },
	   "outputs": [],
"source": [
"clc\n",
"clear\n",
"//Input data\n",
"m=3//Mass of the rotor in kg\n",
"I=0.03//Moment of inertia in kg.m^2\n",
"d=0.25//Distance of pivot from the centre in m\n",
"p=30//Precession in rpm\n",
"\n",
"//Calculations\n",
"T=m*9.8*d//Torgue in N.m\n",
"w=(p*2*3.14)/60//Angular velocity in rad/s\n",
"w1=(T/(I*w))//Angular speed of rotation of the rotor in rpm\n",
"\n",
"//Output\n",
"printf('Angular speed of rotation of the rotor is %i rpm',w1)"
   ]
   }
],
"metadata": {
		  "kernelspec": {
		   "display_name": "Scilab",
		   "language": "scilab",
		   "name": "scilab"
		  },
		  "language_info": {
		   "file_extension": ".sce",
		   "help_links": [
			{
			 "text": "MetaKernel Magics",
			 "url": "https://github.com/calysto/metakernel/blob/master/metakernel/magics/README.md"
			}
		   ],
		   "mimetype": "text/x-octave",
		   "name": "scilab",
		   "version": "0.7.1"
		  }
		 },
		 "nbformat": 4,
		 "nbformat_minor": 0
}
