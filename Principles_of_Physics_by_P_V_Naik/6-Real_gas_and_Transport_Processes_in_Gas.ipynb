{
"cells": [
 {
		   "cell_type": "markdown",
	   "metadata": {},
	   "source": [
       "# Chapter 6: Real gas and Transport Processes in Gas"
	   ]
	},
{
		   "cell_type": "markdown",
		   "metadata": {},
		   "source": [
			"## Example 6.1: Critical_constants.sce"
		   ]
		  },
  {
"cell_type": "code",
	   "execution_count": null,
	   "metadata": {
	    "collapsed": true
	   },
	   "outputs": [],
"source": [
"clc\n",
"clear\n",
"//Input data\n",
"a=(2.1*10^-2)//Vanderwaals constant a for neon gas in Nm^4/mol^2\n",
"b=(1.71*10^-5)//Vanderwaals constant b for neon gas in m^3/mol\n",
"R=8.314//Gas constant in J/mol.K\n",
"\n",
"//Calculations\n",
"Tc=(8*a)/(27*b*R)//Critical temperature in K\n",
"Vc=(3*b)/10^-5//Critical volume in m^3/mol * 10^-5\n",
"Pc=(a/(27*b^2))/10^6//Critical pressure in N/m^2 * 10^6\n",
"\n",
"//Output \n",
"printf('Critical temperature is %3.2f K \n Critical volume is %3.2f * 10^-5 m^3/mol \n Critical pressure is %3.3f * 10^6 N/m^2',Tc,Vc,Pc)"
   ]
   }
,
{
		   "cell_type": "markdown",
		   "metadata": {},
		   "source": [
			"## Example 6.2: Mean_free_path.sce"
		   ]
		  },
  {
"cell_type": "code",
	   "execution_count": null,
	   "metadata": {
	    "collapsed": true
	   },
	   "outputs": [],
"source": [
"clc\n",
"clear\n",
"//Input data\n",
"n=181*10^-6//Coefficient of viscosity of a gas in p\n",
"v=3*10^4//Average speed of molecules in cm/s\n",
"d=1.2929*10^-3//Density in g/cm^3\n",
"\n",
"//Calculations\n",
"lemda=((3*n)/(d*v))/10^-6//Mean free path in cm*10^-6\n",
"\n",
"//Output\n",
"printf('Mean free path is %3.0f * 10^-6 cm',lemda)"
   ]
   }
,
{
		   "cell_type": "markdown",
		   "metadata": {},
		   "source": [
			"## Example 6.3: Diffusion_coefficient_of_the_gas.sce"
		   ]
		  },
  {
"cell_type": "code",
	   "execution_count": null,
	   "metadata": {
	    "collapsed": true
	   },
	   "outputs": [],
"source": [
"clc\n",
"clear\n",
"//Input data\n",
"m=(28*1.66*10^-27)//Molecular mass of a gas in kg\n",
"d=(3.48*10^-10)//Diameter in m\n",
"k=(1.38*10^-23)//Boltzmans constant in J/K\n",
"P=1.01*10^5//Pressure at STP in N/m^2\n",
"T=273//Temperature at STP in K\n",
"\n",
"//Calculations\n",
"D=((1/(P*3*d^2*sqrt(m)))*((2*k*T)/3.14)^(3/2))/10^-5//Diffusion coefficient of a gas at STP in m^2/s\n",
"\n",
"//Output\n",
"printf('Diffusion coefficient of a gas at STP is %3.2f * 10^-5 m^2/s',D)"
   ]
   }
,
{
		   "cell_type": "markdown",
		   "metadata": {},
		   "source": [
			"## Example 6.4: Viscosity_of_a_gas.sce"
		   ]
		  },
  {
"cell_type": "code",
	   "execution_count": null,
	   "metadata": {
	    "collapsed": true
	   },
	   "outputs": [],
"source": [
"clc\n",
"clear\n",
"//Input data\n",
"m=(32*1.66*10^-27)//Molecular mass of a gas in kg\n",
"d=(3.65*10^-10)//Diameter in m\n",
"k=(1.38*10^-23)//Boltzmans constant in J/K\n",
"P=1.01*10^5//Pressure at STP in N/m^2\n",
"T=273//Temperature at STP in K\n",
"\n",
"//Calculations\n",
"n=((1/(3.14*d^2))*sqrt((8*k*T*m)/(9*3.14)))/10^-5//Viscosity of gas at STP in N.s/m^2\n",
"\n",
"//Output\n",
"printf('Viscosity of a gas at STP is %3.5f *10^-5 N.s/m^2',n)"
   ]
   }
,
{
		   "cell_type": "markdown",
		   "metadata": {},
		   "source": [
			"## Example 6.5: Thermal_conductivity.sce"
		   ]
		  },
  {
"cell_type": "code",
	   "execution_count": null,
	   "metadata": {
	    "collapsed": true
	   },
	   "outputs": [],
"source": [
"clc\n",
"clear\n",
"//Input data\n",
"v=460//Average speed of molecules in m/s\n",
"l=(720*10^-10)//Mean free path in m\n",
"Cv=21.06//Specific heat at constant volume in J/K.mol\n",
"k=(1.38*10^-23)//Boltzmans constant in J/K\n",
"P=1.01*10^5//Pressure at STP in N/m^2\n",
"T=273//Temperature at STP in K\n",
"N=6.022*10^23//Avagadro constant\n",
"\n",
"//Calculations\n",
"K=((1/3)*(Cv/N)*(P/(k*T))*v*l)/10^-2//Thermal conductivity of the gas at STP in W/m.K *10^-2\n",
"\n",
"//Output\n",
"printf('Thermal conductivity of the gas at STP is %3.5f *10^-2 W/m.K',K)"
   ]
   }
],
"metadata": {
		  "kernelspec": {
		   "display_name": "Scilab",
		   "language": "scilab",
		   "name": "scilab"
		  },
		  "language_info": {
		   "file_extension": ".sce",
		   "help_links": [
			{
			 "text": "MetaKernel Magics",
			 "url": "https://github.com/calysto/metakernel/blob/master/metakernel/magics/README.md"
			}
		   ],
		   "mimetype": "text/x-octave",
		   "name": "scilab",
		   "version": "0.7.1"
		  }
		 },
		 "nbformat": 4,
		 "nbformat_minor": 0
}
