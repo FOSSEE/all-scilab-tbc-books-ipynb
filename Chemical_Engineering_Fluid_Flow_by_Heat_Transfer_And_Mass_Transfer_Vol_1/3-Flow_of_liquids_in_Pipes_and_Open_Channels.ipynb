{
"cells": [
 {
		   "cell_type": "markdown",
	   "metadata": {},
	   "source": [
       "# Chapter 3: Flow of liquids in Pipes and Open Channels"
	   ]
	},
{
		   "cell_type": "markdown",
		   "metadata": {},
		   "source": [
			"## Example 3.10: EX3_10.sce"
		   ]
		  },
  {
"cell_type": "code",
	   "execution_count": null,
	   "metadata": {
	    "collapsed": true
	   },
	   "outputs": [],
"source": [
"clc;\n",
"\n",
"printf('Example 3.10\n');\n",
"\n",
"k=10;\n",
"n=0.2;\n",
"//Using the power-law model (equation 3.121):\n",
"printf('\n Given:\n Consistency coefficient k = %d N.s^n/m^-2',k);\n",
"printf('\n Flow behaviour index = %.1f',n);\n",
"Ucl=1; // centre line velocity\n",
"printf('\n Centre line velocity = %d m/s',Ucl);\n",
"l=200; // length of pipe\n",
"printf('\n Length of pipe = %d m',l)\n",
"r=.02; // radius of pipe\n",
"printf('\n Radius of pipe = %.2f m',r);\n",
"dux_dy_1=10;\n",
"dux_dy_2=50;\n",
"Ry_1=k*dux_dy_1^0.2;\n",
"Ry_2=k*dux_dy_2^0.2;\n",
"//Using the Bingham-plastic model (equation 3.125):\n",
"A=[1 10;1 50]\n",
"B=[15.85;21.87]\n",
"C=inv(A)*B;\n",
"Ry=C(1);\n",
"Meu_p=C(2);\n",
"printf('\n\n Plastic viscosity (Meu_p) = %.3f N s/m^2',C(2));\n",
"printf('\n Yeild stress (Ry) = %.2f N s/m^2',C(1));\n",
"// Using Equation 3.131\n",
"DP=2*k*l*Ucl^n*((n+1)/n)^n*r^(-n-1);\n",
"printf('\n Pressure drop (Bingham plastic model)= %.0f kN/m^2',DP/1e3);\n",
"// For a Bingham-plastic fluid:\n",
"// The centre line velocity is given by equation 3.145:\n",
"X=(l*2*Ry)/(r*DP);\n",
"Up=(DP*r^2*(2-4*X+2*X^2))/(8*Meu_p*l);\n",
"printf('\n centre line velocity (Bingham plastic model) = %.2f m/s',Up);"
   ]
   }
,
{
		   "cell_type": "markdown",
		   "metadata": {},
		   "source": [
			"## Example 3.11: Calculation_of_velocity_and_ratio_of_volumetric_flow_rates.sce"
		   ]
		  },
  {
"cell_type": "code",
	   "execution_count": null,
	   "metadata": {
	    "collapsed": true
	   },
	   "outputs": [],
"source": [
"clc;\n",
"\n",
"printf('Example 3.11\n');\n",
"// given:\n",
"Meu=0.1; // Viscosity of liquid\n",
"printf('\n Given \n Viscosity of liquid = %.1f N s/m^2',Meu);\n",
"d=25e-3; // Diameter of pipe\n",
"printf('\n Diameter of pipe = %.3f m',d);\n",
"l=20; // length of pipe\n",
"printf('\n length of pipe = %d m',l);\n",
"DP=1e5; // Pressure drop\n",
"printf('\n Pressure drop = %d N/m^2',DP);\n",
"n=1/3; // flow index of polymer solution\n",
"printf('\n flow index = %.2f',n);\n",
"dux_dy=1000;\n",
"k=Meu;\n",
"Meu_a=Meu;\n",
"k_poly_sol=Meu_a/(dux_dy)^(n-1);\n",
"Ry=10*(dux_dy)^n;\n",
"//From equation 3.136:\n",
"//For a power-law fluid:\n",
"u2=((DP/(4*k_poly_sol*l))^3)*(n*(d^((n+1)/n)))/(2*(3*n+1));\n",
"printf('\n\n Velocity for polymer solution = %.4f m/s',u2);\n",
"u1=(DP/(4*k*l))*(d^2)/8\n",
"printf('\n Velocity for original solution = %.3f m/s',u1);\n",
"ratio=u2/u1;\n",
"printf('\n Ratio of the volumetric flow rates of the two liquids = %.3f',ratio);"
   ]
   }
,
{
		   "cell_type": "markdown",
		   "metadata": {},
		   "source": [
			"## Example 3.1: Pressure_drop_calculation_in_pipeline.sce"
		   ]
		  },
  {
"cell_type": "code",
	   "execution_count": null,
	   "metadata": {
	    "collapsed": true
	   },
	   "outputs": [],
"source": [
"clc;\n",
"\n",
"printf('Example 3.1\n\n');\n",
"sap=1.25; //Sulphuric acid pumped\n",
"d=25e-3; //Diameter of pipe\n",
"l=30; //length of pipe\n",
"meu=25e-3; //Viscosity of acid\n",
"rho_a=1840; //Density of acid\n",
"printf(' Given :\n Sulphuric acid pumped = %.2f kg/s\n Diameter of pipe = %.3f m\n length of pipe = %d m\n Viscosity of acid = %d x 10^-3 N s/m^2\n Density of acid = %d kg/m^3',sap,d,l,meu*1000,rho_a);\n",
"Re=4*sap/(%pi*meu*d);\n",
"printf('\n\n\n Reynolds number , Re=(u*d*rho)/meu = 4G/(pi*meu*d)= %d',Re);\n",
"\n",
"//For a mild steel pipe, suitable for conveying the acid, the roughness e will be between 0.05 and 0.5 mm (0.00005 and 0.0005 m).\n",
"//The relative roughness is thus: e/d = 0.002 to 0.02\n",
"//From Figure 3.7: R/(rho*u^2) = 0.006 over this range of e/d\n",
"u=sap/(rho_a*%pi/4*d^2);\n",
"printf('\n Velocity is , u=G/(rho *A) = %.2f m/s',u);\n",
"\n",
"//calculating pressure drop from the energy balance equation and equation 3.19\n",
"Dp=rho_a*((0.5+4*0.006*30/0.025)*u^2+9.81*12);\n",
"printf('\n Pressure Drop = %.0f N/m^2',Dp);\n",
"printf('\n Pressure drop = %.0f kN/m^2',(Dp/10^3));"
   ]
   }
,
{
		   "cell_type": "markdown",
		   "metadata": {},
		   "source": [
			"## Example 3.2: Maximum_allowable_water_velocity_calculatio.sce"
		   ]
		  },
  {
"cell_type": "code",
	   "execution_count": null,
	   "metadata": {
	    "collapsed": true
	   },
	   "outputs": [],
"source": [
"clc;\n",
"printf('Example 3.2\n\n');\n",
"d=50e-3; //Diameter of pipe\n",
"l=100; //length of pipe\n",
"e=0.013; //Roughness of pipe\n",
"DPf=50e3; //Maximum pressure drop\n",
"rho=1000; //density of water\n",
"meu=1e-3; //viscosity of water\n",
"printf(' Given:\n Diameter of pipe = %.3f m\n length of pipe = %d m\n Roughness of pipe = %.3f \n Maximum pressure drop = %d kN/m^2\n Density of water = %d kg/m^3\n Viscosity of water = %.1f mN s/m^2',d,l,e,DPf/10e3,rho,meu*10e3);\n",
"//From Equation 3.23\n",
"// phi*Re^2=R*Re^2/(rho*u^2)=-(DPf)*d^3*rho/(4*l*meu^2)\n",
"phi_re2=(DPf)*d^3*rho/(4*l*meu^2);\n",
"e_d=e/(d*1e3);\n",
"printf('\n\n phi*Re^2 = %.2f*10^7\n e/d = %.5f',phi_re2*1e-7,e_d);\n",
"//From Figure 3.8, for given phi*Re^2 = 1.56 x 10^7 and (e/d) = 0.00026, then:\n",
"//Re=7.9*10^4\n",
"Re=7.9e4;\n",
"u=Re*meu/(rho*d);\n",
"printf('\n\n Ans \n The maximum allowable velocity is = %.1f m/s',u);"
   ]
   }
,
{
		   "cell_type": "markdown",
		   "metadata": {},
		   "source": [
			"## Example 3.3: Calculation_of_time_for_drop_in_water_level.sce"
		   ]
		  },
  {
"cell_type": "code",
	   "execution_count": null,
	   "metadata": {
	    "collapsed": true
	   },
	   "outputs": [],
"source": [
"clc;\n",
"\n",
"printf('Example 3.3\n');\n",
"Dia_tank=5; //Diameter of the tank\n",
"len_pipe=100; //Length of pipe\n",
"dia_pipe=225e-3; //Diameter of pipe\n",
"printf('\n Given:\n Diameter of the tank = %d m\n Length of pipe = %d m\n Diameter of pipe = %.2f m',Dia_tank,len_pipe,dia_pipe);\n",
"\n",
"//If at time t the liquid level is D m above the bottom of the tank, then \n",
"// designating point 1 as the liquid level and point 2 as the pipe outlet,\n",
"// and applying the energy balance equation (2.67) for turbulent flow, then:\n",
"\n",
"// The equation becomes (u2^2/2)-D*g+(4*R*len_pipe*u2^2/(rho*u^2*dia_pipe))\n",
"\n",
"//As the level of liquid in the tank changes from D to (D + dD), the quantity\n",
"// of fluid discharged = (pi/4)5^2(-dD) = -19.63dD m^3.\n",
"// The time taken for the level to change by an amount dD is given by:\n",
"//dt=19.63dD/((pi/4)0.225^2 x 4.43D^0.5/([l + 3552(/R/rho*u^2)])^0.5)\n",
"\n",
"// calculating the value of X=R/rho*u^2 as given in example (refer to book)\n",
"X=.0020;\n",
"t=integrate('111.5*(1+(3552*X))^0.5*D^-0.5','D',0.3,3);\n",
"printf('\n\n The time taken for the level to fall is therefore about %d s',t);"
   ]
   }
,
{
		   "cell_type": "markdown",
		   "metadata": {},
		   "source": [
			"## Example 3.4: Calculation_of_volumetric_flow_rate.sce"
		   ]
		  },
  {
"cell_type": "code",
	   "execution_count": null,
	   "metadata": {
	    "collapsed": true
	   },
	   "outputs": [],
"source": [
"clc;\n",
"\n",
"printf('Example 3.4\n');\n",
"\n",
"d1=0.3; //diameter of pipe from junction A to D or B to D\n",
"l1=1.5e3; //length of pipe from junction A to D or B to D\n",
"d2=0.5; // diameter of pipe from junction D to C\n",
"l2=0.75e3; // length of pipe from junction D to C\n",
"h_A=10; // height of tank A above C\n",
"h_B=h_A+6; // height of tank A above C\n",
"rho=870; // density of liquid\n",
"Meu_l=0.7e-3; // viscosity of liquid\n",
"\n",
"//It may be assumed, as a first approximation, that R/(rho*u^2) is the same in each pipe and that the velocities in pipes AD, BD, and DC are u1,u2 and u3 \n",
"//respectively,\n",
"//Taking the roughness of mild steel pipe e as 0.00005 m, e/d varies from \n",
"//0.0001 to 0.00017. As a first approximation, R/(rho*u^2) may be taken as 0.002\n",
"//Then applying the energy balance equation between D and the liquid level in\n",
"//each of the tanks gives\n",
"//On forming and solving the equations\n",
"\n",
"x=poly([0],'x');\n",
"u2=roots(x^4-(7.38*x^2)+13.57);\n",
"u1=(u2^2-1.47)^0.5;\n",
"u3=(u1+u2)/2.78;\n",
"//taking the positive values and which satisfy equation 7\n",
"U1=u1(4);\n",
"U2=u2(4);\n",
"U3=u3(4);\n",
"Q=%pi/4*d2^2*U3;\n",
"printf('\n The volumetric flow rate = %.2f m^3/s',Q);"
   ]
   }
,
{
		   "cell_type": "markdown",
		   "metadata": {},
		   "source": [
			"## Example 3.5: Calculation_of_radius_for_given_condition.sce"
		   ]
		  },
  {
"cell_type": "code",
	   "execution_count": null,
	   "metadata": {
	    "collapsed": true
	   },
	   "outputs": [],
"source": [
"clc;\n",
"\n",
"printf('Example 3.5\n');\n",
"\n",
"// Ux = Ucl*(y/r)^l/7     equation 3.59 (Prandtl one-seventh power law)\n",
"//where UCL is the velocity at the centre line of the pipe, and r is the radius of the pipe.\n",
"// Then total flow, Q = 49/60*pi*r^2*Ucl     equation 3.62\n",
"\n",
"//When the flow in the central core is equal to the flow in the surrounding annulus, then taking a = y/r, the flow in the central core is:\n",
"//Qc=pi*r^2*Ucl*(105*a^(8/7)-56*a^(15/7))/60\n",
"//flow in the core = 0.5 (flow in the whole pipe)\n",
"\n",
"r=50;\n",
"a=poly([0],'a');\n",
"p=roots((a^8*(105-56*a)^7)-24.5^7);\n",
"\n",
"printf('\n a = %.2f',p(8));\n",
"y=p(8)*r;\n",
"printf('\n y = %.1f mm',y)"
   ]
   }
,
{
		   "cell_type": "markdown",
		   "metadata": {},
		   "source": [
			"## Example 3.6: Calculation_of_loss_in_head_due_to_sudden_enlargement_of_pipe.sce"
		   ]
		  },
  {
"cell_type": "code",
	   "execution_count": null,
	   "metadata": {
	    "collapsed": true
	   },
	   "outputs": [],
"source": [
"clc;\n",
"\n",
"printf('Example 3.6\n');\n",
"\n",
"Q=7.2;//Water flow rate\n",
"d1=40e-3; //initial pipe diameter\n",
"d2=50e-3; //diameter of pipe after enlargement\n",
"g=9.81;\n",
"printf('\n Given\n Water flow rate = %.1f m^3/h\n d1 = %d mm\n d1 = %d mm',Q,d1*1e3,d2*1e3);\n",
"\n",
"u1=(Q/3600)/(%pi/4*d1^2);//Velocity in 40 mm pipe\n",
"u2=(Q/3600)/(%pi/4*d2^2);//Velocity in 50 mm pipe\n",
"printf('\n Velocity in 40 mm pipe = %.2f m/s\n Velocity in 50 mm pipe = %.2f m/s',u1,u2);\n",
"// The head lost is given by equation 3.77 as:\n",
"hf=(u1-u2)^2/(2*g);\n",
"printf('\n\n Ans\n Head lost = %.1f mm of water',hf*1e3);"
   ]
   }
,
{
		   "cell_type": "markdown",
		   "metadata": {},
		   "source": [
			"## Example 3.7: Calculation_of_power_supplied_to_the_pump.sce"
		   ]
		  },
  {
"cell_type": "code",
	   "execution_count": null,
	   "metadata": {
	    "collapsed": true
	   },
	   "outputs": [],
"source": [
"clc;\n",
"\n",
"printf('Example 3.7\n');\n",
"Q_h=2.27; // flow rate of water in m^3/h\n",
"T=320; //Temperature of water to be pumped\n",
"id=40e-3; //internal diameter of pipe\n",
"l_h=150; //length of pipe horizontally\n",
"l_v=10; //length of pipe vertically\n",
"e=0.2e-3;\n",
"g=9.81;\n",
"rho=1000;\n",
"printf('\n Given\n flow rate of water in m^3/h = %.2f m^3/h\n Temperature of water to be pumped = %d K\n internal diameter of pipe = %d mm\n length of pipe horizontally = %d m\n length of pipe vertically = %d m',Q_h,T,id*1e3,l_h,l_v);\n",
"\n",
"rel_rough=e/id; //Relative roughness\n",
"printf('\n\n Relative roughness = %.3f',rel_rough);\n",
"meu=0.65e-3; //Viscosity at 320 K\n",
"Q_s=Q_h/3600; //flow rate of water in m^3/s\n",
"area=%pi/4*id^2; // Area for flow\n",
"printf('\n Area for flow = %.2f * 10^-3 m^2',area*1e3);\n",
"u=Q_s/area; //Velocity\n",
"printf('\n Velocity = %.2f m/s',u);\n",
"Re=(id*u*rho)/meu;\n",
"printf('\n Reynolds No. = %d',Re);\n",
"\n",
"//X=R/(rho*u^2)=0.004 (from Figure 3.7)\n",
"X=.004;\n",
"equi_len=l_h+l_v+(260*id); // Equivalent length of pipe\n",
"printf('\n Equivalent length of pipe = %.1f m',equi_len);\n",
"hf=4*X*equi_len*u^2/(id*g);\n",
"tot_head=hf+1.5+10; // Total head to be developed\n",
"printf('\n Total head to be developed = %.2f m',tot_head);\n",
"mass_thr=Q_s*rho; //Mass throughput\n",
"printf('\n Mass throughput = %.2f kg/s',mass_thr);\n",
"power_reqd=(mass_thr*tot_head*g)/0.60;\n",
"printf('\n\n Power required = %.1f W = %.3f kW',power_reqd,power_reqd*1e-3);"
   ]
   }
,
{
		   "cell_type": "markdown",
		   "metadata": {},
		   "source": [
			"## Example 3.8: Calculation_of_initial_rate_of_discharge_of_water.sce"
		   ]
		  },
  {
"cell_type": "code",
	   "execution_count": null,
	   "metadata": {
	    "collapsed": true
	   },
	   "outputs": [],
"source": [
"clc;\n",
"printf('Example 3.8\n');\n",
"\n",
"d=0.15; // diameter of pipe\n",
"g=9.81;\n",
"printf('\n Given\n Diameter of pipe = %.2f',d); \n",
"// From equation 3.20, the head lost due to friction is given by:\n",
"// hf = 4*phi*l*u^2/(d*g)m water\n",
"// The total head loss is:\n",
"// h=(u^2/(2*g))+hf+loss in fittings\n",
"// From Table 3.2., the losses in the fittings are:From Table 3.2., the losses in the fittings are:\n",
"//6.6*u^2/(2*g)\n",
"//Taking\n",
"phi=.0045;\n",
"x=poly([0],'x');\n",
"u=roots((7.6+4*phi*(105/.15))*x^2/(2*g)-10);\n",
"printf('\n\n Velocity = %.2f m/s',u(1));\n",
"rate_dis=u(1)*%pi*d^2/4;\n",
"printf('\n Rate of discharge = %.3f m^3/s = %d kg/s',rate_dis,rate_dis*1e3);"
   ]
   }
,
{
		   "cell_type": "markdown",
		   "metadata": {},
		   "source": [
			"## Example 3.9: Calculation_of_velocity_and_liquid_depth.sce"
		   ]
		  },
  {
"cell_type": "code",
	   "execution_count": null,
	   "metadata": {
	    "collapsed": true
	   },
	   "outputs": [],
"source": [
"clc;\n",
"\n",
"printf('Example 3.9\n');\n",
"\n",
"u1=1.5; // velocity\n",
"D1=75e-3; //depth\n",
"g=9.81;\n",
"printf('\n Given\n velocity before jump= %.1f m/s\n depth before jump= %d mm',u1,D1*1e3);\n",
"//The depth of fluid in the channel after the jump is given by:\n",
"D2=0.5*(-D1+(D1^2+(8*u1^2*D1/g)^0.5)); //equation 3.113\n",
"printf('\n\n The depth of fluid in the channel after the jump is = %.1f mm',D2*1e3);\n",
"//If the channel is of uniform cross-sectional area, then:\n",
"u2=u1*D1/D2;\n",
"printf('\n The velocity of fluid in the channel after the jump is = %.2f m/s',u2);"
   ]
   }
],
"metadata": {
		  "kernelspec": {
		   "display_name": "Scilab",
		   "language": "scilab",
		   "name": "scilab"
		  },
		  "language_info": {
		   "file_extension": ".sce",
		   "help_links": [
			{
			 "text": "MetaKernel Magics",
			 "url": "https://github.com/calysto/metakernel/blob/master/metakernel/magics/README.md"
			}
		   ],
		   "mimetype": "text/x-octave",
		   "name": "scilab",
		   "version": "0.7.1"
		  }
		 },
		 "nbformat": 4,
		 "nbformat_minor": 0
}
