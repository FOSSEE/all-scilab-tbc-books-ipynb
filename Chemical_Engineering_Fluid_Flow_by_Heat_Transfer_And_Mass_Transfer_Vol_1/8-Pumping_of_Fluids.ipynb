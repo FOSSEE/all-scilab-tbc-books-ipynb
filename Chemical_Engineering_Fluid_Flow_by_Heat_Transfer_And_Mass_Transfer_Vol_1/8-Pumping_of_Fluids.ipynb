{
"cells": [
 {
		   "cell_type": "markdown",
	   "metadata": {},
	   "source": [
       "# Chapter 8: Pumping of Fluids"
	   ]
	},
{
		   "cell_type": "markdown",
		   "metadata": {},
		   "source": [
			"## Example 8.10: Calculation_of_flow_rate_and_power_required_by_the_pump.sce"
		   ]
		  },
  {
"cell_type": "code",
	   "execution_count": null,
	   "metadata": {
	    "collapsed": true
	   },
	   "outputs": [],
"source": [
"clc;\n",
"clear;\n",
"printf('\n Example 8.10\n');\n",
"\n",
"Meu_H2=0.009e-3; //Viscosity of hydrogen\n",
"P2=2e6; //Downstream Pressure\n",
"P1=2.5e6;//Upstream pressure\n",
"P_m=(P1+P2)/2;//Mean Pressure\n",
"T=295;//Temperature of the gas\n",
"l=500;//Length of the pipe used\n",
"d=50e-3;//diameter of pipe used\n",
"rho_H2=2*P_m*273/(22.4*101.3e3*T);//Density of hydrogen at the mean pressure\n",
"A=%pi*d^2/4;//Area of the pipe\n",
"eta=0.60; //Efficiency of the pump\n",
"v_m=1/rho_H2;\n",
"//Firstly, an approximate value of G is obtained by neglecting the kinetic energy of the fluid\n",
"//Using equation 4.56\n",
"//phi*Re^2=7.02 * 10 ^8\n",
"//Taking the roughness of the pipe surface, e as 0.00005 m\n",
"//e/d= 0.001 and Re = 5.7 x 10^5 from Figure 3.8\n",
"//G=.201(approximate value)\n",
"//From Figure 3.7, \n",
"phi=0.0024;\n",
"//Taking the kinetic energy of the fluid into account, equation 4.56 may be used:\n",
"x=poly([0],'x');\n",
"G=roots((x/A)^2*log(P1/P2)+(P2-P1)*rho_H2+4*phi*l/d*(x/A)^2);\n",
"printf('\n Mass flow rate = %.2f kg/s',G(1));\n",
"P=G(1)*P_m*v_m*log(P1/P2)/eta;\n",
"printf('\n Power required = %.1f kW',P*1e-3);"
   ]
   }
,
{
		   "cell_type": "markdown",
		   "metadata": {},
		   "source": [
			"## Example 8.1: Calculation_of_the_maximum_speed_at_which_the_pump_can_run.sce"
		   ]
		  },
  {
"cell_type": "code",
	   "execution_count": null,
	   "metadata": {
	    "collapsed": true
	   },
	   "outputs": [],
"source": [
"clc;\n",
"clear;\n",
"printf('\n Example 8.1\n');\n",
"\n",
"dia_cy=110e-3; //Cylinder diameter\n",
"printf('\n Given\n Cylinder diameter = %d mm',dia_cy*1e3)\n",
"str=230e-3; //stroke\n",
"printf('\n Stroke length = %d mm',str*1e3);\n",
"l_su=6; //Suction line length\n",
"printf('\n Suction line length = %d m',l_su);\n",
"d_su=50e-3; //Suction line diameter\n",
"printf('\n Suction line diameter = %d mm',d_su*1e3);\n",
"lvl_wtr=3; //level of the water in the suction tank\n",
"printf('\n level of the water in the suction tank = %d m',lvl_wtr);\n",
"atm_P=10.36;\n",
"printf('\n Atmospheric pressure is equivalent to = %.2f m of water',atm_P);\n",
"//If the maximum permissible speed of the pump is N Hz:\n",
"//Angular velocity of the driving mechanism = 2*pi*N radians/s\n",
"//Acceleration of piston = 0.5x0.230(2*pi*N)^2*cos(2*pi*N*t) m/s^2\n",
"//Maximum acceleration(when t=0) = 4.54*N^2 m/s^2\n",
"//Maximum acceleration of the liquid in the suction pipe\n",
"//                            =(.110/.05)^2 x 4.54*N^2 = 21.91*N^2 m/s^2\n",
"//Accelerating force acting on the liquid\n",
"//                            = 21.97*N^2*pi/4*(0.050)^2*(6*1000) N\n",
"//Pressure drop in suction line due to acceleration\n",
"//                            = 21.97*N^2 *6*1000 N/m^2\n",
"//                            = 1.32x 10^5*N^2 N/m^2\n",
"//                            = 13.44*N^2  m water\n",
"//Pressure head at cylinder when separation is about to occur,\n",
"x=poly([0],'x');\n",
"N=roots(1.20-(10.36-3.0-13.44*x^2));\n",
"printf('\n\n Calculations:\n Maximum speed at which the pump can run = %.3f Hz',N(1));"
   ]
   }
,
{
		   "cell_type": "markdown",
		   "metadata": {},
		   "source": [
			"## Example 8.2: EX8_2.sce"
		   ]
		  },
  {
"cell_type": "code",
	   "execution_count": null,
	   "metadata": {
	    "collapsed": true
	   },
	   "outputs": [],
"source": [
"clc;\n",
"clear;\n",
"printf('\n Example 8.2\n');\n",
"\n",
"rho_l=800; //Density of liquid\n",
"printf('\n Given\n Density of liquid = %d kg/m^3',rho_l);\n",
"Meu_l=0.5e-3;//Viscosity of liquid\n",
"printf('\n Viscosity of liquid = %.1f * 10^-3 N s/m^2',Meu_l*1e3);\n",
"Q=0.0004;//Volumetric flow rate\n",
"printf('\n Volumetric flow rate = %d m^3/s',Q*1e6);\n",
"liq_depth=0.07;\n",
"d=25e-3;//Diameter of pipe used\n",
"printf('\n Diameter of pipe used = %d',d*1e3);\n",
"p_v_r=1e3;//Pressure of vapor in reboiler\n",
"printf('\n Pressure of vapor in reboiler = %d kN/m^2',p_v_r*1e-3);\n",
"Z=2;//Net Positive Suction Head\n",
"printf('\n Net Positive Suction Head = %d m',Z);\n",
"A=%pi/4*d^2;//Cross sectional area of pipe\n",
"printf('\n\n Calculations:\n Cross sectional area of pipe = %.5f m^2',A);\n",
"u=Q/A;//Velocity in pipe\n",
"printf('\n Velocity in pipe = %.3f m/s',u);\n",
"Re=d*u*rho_l/Meu_l;//Reynolds no.\n",
"printf('\n Reynolds no. = %d ',Re);\n",
"//From Figure 3.7, the friction factor for a smooth pipe is:\n",
"phi=0.0028;\n",
"hf_l=(4*phi*u^2)/(d*9.81);\n",
"printf('\n head loss due to friction per unit length = %.4f m/m of pipe',hf_l);\n",
"//It should be noted that a slightly additional height will be required if the kinetic energy at the pump inlet cannot be utilised.\n",
"//Thus the height between the liquid level in the reboiler and the pump, HQ, depends on the length of pipe between the reboiler and the pump.  If this is say 10 m\n",
"l=10;\n",
"hf=hf_l*l;\n",
"//equation 8.26 becomes:\n",
"ho=Z+hf;\n",
"printf('\n The minimum height required = %.1f m',ho);"
   ]
   }
,
{
		   "cell_type": "markdown",
		   "metadata": {},
		   "source": [
			"## Example 8.3: Calculation_of_the_theoretical_power_requirements_for_the_compression.sce"
		   ]
		  },
  {
"cell_type": "code",
	   "execution_count": null,
	   "metadata": {
	    "collapsed": true
	   },
	   "outputs": [],
"source": [
"clc;\n",
"clear;\n",
"printf('\n Example 8.3\n');\n",
"\n",
"Q=0.1;//Flow rate of air suppplied by compressor\n",
"printf('\n Given:\n Flow rate of air suppplied by compressor = %.1f m^3/s',Q);\n",
"T=273;//Temperature\n",
"printf('\n Temperature = %d K',T);\n",
"P=101.3e3;//Pressure\n",
"printf('\n Pressure = %.1f kN/m^2',P*1e-3);\n",
"P2=380e3;//Air compressed to a pressure\n",
"printf('\n Air compressed to a pressure = %d kN/m^2',P2*1e-3);\n",
"T2=289;//Suction Temperature\n",
"printf('\n Suction Temperature = %d K',T2);\n",
"l=0.25;//Length of the stroke\n",
"printf('\n Length of the stroke = %.2f m',l);\n",
"u=4;//Speed\n",
"printf('\n Speed = %d Hz',u);\n",
"c=4/100;//Cylinder clearance\n",
"printf('\n Cylinder clearance = %.2f',c);\n",
"Gamma=1.4;\n",
"V=Q*T2/(u*T);//Volume per stroke\n",
"printf('\n\n Calculations:\n Volume per stroke = %.4f m^3',V);\n",
"R=P2/P;//Compression ratio\n",
"printf('\n Compression ratio = %.2f',R);\n",
"//The swept volume is given by equation 8.42\n",
"Vs=V/(1+c-(c*(R)^(1/Gamma)));\n",
"printf('\n The swept volume is = %.4f m^3',Vs);\n",
"A=Vs/l;//Cross sectional Area of cylinder\n",
"printf('\n Cross sectional Area of cylinder = %.3f m^2',A);\n",
"d=(A/%pi*4)^0.5;//Diameter of cylinder\n",
"printf('\n Diameter of cylinder = %.2f m',d);\n",
"//From equation 8.41, work of compression per cycle\n",
"W=P*V*(Gamma/(Gamma-1))*((R)^((Gamma-1)/Gamma)-1);\n",
"printf('\n Work of compression per cycle = %.0f J',W);\n",
"printf('\n Theoretical power requirements = %.1f kW',W*4/1e3);"
   ]
   }
,
{
		   "cell_type": "markdown",
		   "metadata": {},
		   "source": [
			"## Example 8.4: EX8_4.sce"
		   ]
		  },
  {
"cell_type": "code",
	   "execution_count": null,
	   "metadata": {
	    "collapsed": true
	   },
	   "outputs": [],
"source": [
"clc;\n",
"clear;\n",
"printf('\n Example 8.4\n');\n",
"\n",
"T=290;//Temperature at which compression takes place\n",
"printf('\n Given:\n Temperature at which compression takes place = %d K',T);\n",
"P1=101.3e3;//Initial pressure\n",
"P2=2065e3;//Final pressure\n",
"printf('\n Compressed from a Pressure of %.1f kN/m^2 to %d kN/m^2',P1*1e-3,P2*1e-3);\n",
"eta=.85;//Mechanical efficiecy\n",
"printf('\n Mechanical efficiecy = %d percent',eta*1e2);\n",
"c1=4/100;//Clearance in cylinder 1\n",
"printf('\n Clearance in cylinder 1 = %d percent',c1*1e2);\n",
"c2=5/100;//Clearance in cylinder 1\n",
"printf('\n Clearance in cylinder 2 = %d percent',c2*1e2);\n",
"R=P2/P1;//Overall compression ratio\n",
"printf('\n\n Overall compression ratio = %.1f',R);\n",
"V_spe=22.4/28.8*T/273;//Specific volume of air at 290 K\n",
"printf('\n Specific volume of air at 290 K = %.3f m^3/kg\n (a)',V_spe);\n",
"W=P1*V_spe*2*(1.25/(1.25-1))*(R^.1-1);\n",
"//Energy supplied to the compressor, that is the work of compression\n",
"W_act=W/0.85;\n",
"printf('\n Energy supplied to the compressor, that is the work of compression = %.1f kJ/kg',W_act*1e-3);\n",
"printf('\n (b)');\n",
"//the work done in isothermal compression of 1 kg of gas\n",
"W_it=P1*V_spe*log(R);\n",
"//Isothermal efficiency\n",
"eta_it=100*W_it/W_act;\n",
"printf('\n Isothermal efficiency = %.0f percent',eta_it);\n",
"printf('\n (c)');\n",
"Gamma=1.4;\n",
"//the work done in isentropic compression of 1 kg of gas\n",
"W_ie=P1*V_spe*(Gamma/(Gamma-1))*((R)^((Gamma-1)/Gamma)-1);\n",
"//Isentropic efficiency\n",
"eta_ie=100*W_ie/W_act;\n",
"printf('\n Isentropic efficiency = %d percent',eta_ie);\n",
"printf('\n (d)')\n",
"//From equation 8.47, volume swept out in first cylinder in compression of 1 kg of gas is given by:\n",
"Vs1=V_spe/(1+c1-(c1*(R)^(1/(2*2.5))));\n",
"//Similarly, the swept volume of the second cylinder is given by:\n",
"Vs2=V_spe*(1/R)^0.5/(1+c2-(c2*(R)^(1/(2*2.5))));\n",
"ratio=Vs1/Vs2;\n",
"printf('\n the ratio of the swept volumes in the two cylinders = %.2f',ratio);"
   ]
   }
,
{
		   "cell_type": "markdown",
		   "metadata": {},
		   "source": [
			"## Example 8.5: Calculation_of_the_power_requirement_of_the_pump.sce"
		   ]
		  },
  {
"cell_type": "code",
	   "execution_count": null,
	   "metadata": {
	    "collapsed": true
	   },
	   "outputs": [],
"source": [
"clc;\n",
"clear;\n",
"printf('\n Example 8.5\n');\n",
"\n",
"Q_l=7.5e-4;\n",
"printf('\n Given:\n Volume flow rate of liquid = %.1f m^3/s',Q_l*1e4);\n",
"rho_l=1200;\n",
"printf('\n Density of liquid = %d kg/m^3',rho_l);\n",
"h=20;\n",
"printf('\n height to which liquid is raised = %d m',h);\n",
"P=450e3;\n",
"printf('\n Air is available at pressure = %d kN/m^2',P*1e-3);\n",
"eta=30/100;\n",
"printf('\n Efficiency = %d percent',eta*100);\n",
"P_atm=101.3e3;\n",
"Gamma=1.4;\n",
"G=Q_l*rho_l;//Mass flow of liquid\n",
"//Work per unit time done by the pump\n",
"W=G*9.81*h;\n",
"printf('\n\n Calculations:\n Work per unit time done by the pump = %.1f W',W);\n",
"//Actual work of expansion of air per unit time\n",
"W_act=W/eta;\n",
"printf('\n Actual work of expansion of air per unit time = %.1f W',W_act);\n",
"//Taking the molecular weight of air\n",
"M=28.9;\n",
"//the specific volume of air at 101.3 kN/m2 and 273 K\n",
"va=22.4/M;\n",
"//and in equation 8,49:\n",
"x=poly([0],'x');\n",
"Ga=roots(P_atm*va*x*log(P/P_atm)-W_act);\n",
"Q=Ga*va;\n",
"printf('\n volume flow rate of air = %.4f m^3/s',Q);\n",
"//From equation 8.37\n",
"//Power for compression\n",
"Power=(P_atm*Q)*(Gamma/(Gamma-1))*((P/P_atm)^((Gamma-1)/Gamma)-1);\n",
"Power_reqd=Power/1000;\n",
"printf('\n power requirement of the pump = %.3f kW',Power_reqd);"
   ]
   }
,
{
		   "cell_type": "markdown",
		   "metadata": {},
		   "source": [
			"## Example 8.6: EX8_6.sce"
		   ]
		  },
  {
"cell_type": "code",
	   "execution_count": null,
	   "metadata": {
	    "collapsed": true
	   },
	   "outputs": [],
"source": [
"clc;\n",
"clear;\n",
"printf('\n Example 8.6\n');\n",
"\n",
"P1=101.3e3;\n",
"Q_watr=0.01;\n",
"printf('\n Given:\n Flow rate of Water = %.2f m^3/s',Q_watr);\n",
"depth=100;\n",
"printf('\n Depth of well = %d m',depth);\n",
"d=100e-3;\n",
"printf('\n Diameter of pipe = %d mm',d*1e3);\n",
"depth_watr=40;\n",
"printf('\n Level of water below water = %d m',depth_watr);\n",
"Q_air=0.1;\n",
"printf('\n Flow rate of Air = %.2f m^3/s',Q_air);\n",
"P2=800e3;\n",
"Gamma=1.4;\n",
"//V1=Q_air;\n",
"G_watr=Q_watr*1000;//Mass flow of water\n",
"W=G_watr*depth_watr*9.81;\n",
"//The energy needed to compress 0. 1 m^3/s of air is given by:\n",
"E=P1*Q_air*(1.4/0.4)*((P2/P1)^(0.4/1.4)-1);//     equation 8.37\n",
"printf('\n\n Calculations:\n The power required for this compression is = %d W',E);\n",
"effi=W/E*100;\n",
"printf('\n Efficiency = %.1f per cent',effi);\n",
"//the mean pressure\n",
"P=345e3;\n",
"printf('\n The mean pressure = %d kN/m^2',P);\n",
"v1=8314*273/(29*P);\n",
"printf('\n The specific volume v of air at 273 K and given pressure is = %.3f m^3/kg',v1);\n",
"v2=8314*273/(29*P1);\n",
"printf('\n The specific volume v of air at 273 K and 101.3 kN/m^2 is = %.3f m^3/kg',v2);\n",
"G_air=Q_air/v2; //mass flowrate of the air is:\n",
"Q_mean=G_air*v1;//Mean volumetric flowrate of air\n",
"Q_tot=Q_watr+Q_mean;//Total volumetric flowrate\n",
"A=%pi/4*d^2;//Area of pipe\n",
"v_mean=Q_tot/A;\n",
"printf('\n Mean velocity of the mixture = %.2f m/s',v_mean);\n",
"\n",
"\n",
""
   ]
   }
,
{
		   "cell_type": "markdown",
		   "metadata": {},
		   "source": [
			"## Example 8.7: Calculation_of_power_to_be_supplied_to_the_pump.sce"
		   ]
		  },
  {
"cell_type": "code",
	   "execution_count": null,
	   "metadata": {
	    "collapsed": true
	   },
	   "outputs": [],
"source": [
"clc;\n",
"clear;\n",
"printf('\n Example 8.7\n');\n",
"d=40e-3;//Internal Diameter of the pipe\n",
"l_p=150; //Lendth of pipe\n",
"Q_watr=600e-6;//Flow of water\n",
"h1=10; //Vertical Height\n",
"h2=2; //head lost across heat exchanger\n",
"eta=60/100; //Efficiency of pump\n",
"A=%pi/4*d^2; //Area for flow\n",
"printf('\n Area for flow = %.4f m^2',A);\n",
"u=Q_watr/A; //Velocity\n",
"//At 320 K,\n",
"Meu=0.65e-3;\n",
"rho=1000;\n",
"Re=d*u*rho/Meu;\n",
"printf('\n Reynolds no. = %d',Re);\n",
"phi=0.004; //for a relative roughness of 0.005\n",
"l=l_p+h1+(260*d);\n",
"printf('\n Equivalent length of pipe = %.1f m',l);\n",
"hf=4*phi*l*u^2/(d*9.81);\n",
"h_tot=hf+h1+h2;//Total head to be developed\n",
"printf('\n Total head to be developed = %.2f m',h_tot);\n",
"G=Q_watr*rho;// Mass flow of water\n",
"P_r=G*h_tot*9.81; //Power Required\n",
"P_s=P_r/eta; //Power Supplied\n",
"printf('\n Power Required = %.0f W',P_s);"
   ]
   }
,
{
		   "cell_type": "markdown",
		   "metadata": {},
		   "source": [
			"## Example 8.8: Estimation_of_the_rate_of_flow_and_the_power_to_be_supplied_to_the_pump.sce"
		   ]
		  },
  {
"cell_type": "code",
	   "execution_count": null,
	   "metadata": {
	    "collapsed": true
	   },
	   "outputs": [],
"source": [
"clc;\n",
"clear;\n",
"printf('\n Example 8.8\n');\n",
"\n",
"eta=0.50;\n",
"Q=[0.0028 0.0039 0.0050 0.0056 0.0059]\n",
"h=[23.2 21.3 18.9 15.2 11.0]\n",
"plot(Q,h,'o-');\n",
"//The head to be developed, h=10+4.12*u^2 m water\n",
"//h=10+2.205e5*Q^2\n",
"Q1=0.0015:0.0001:0.0060\n",
"h1=10+2.205e5*Q1^2;\n",
"plot2d(Q1,h1,style=1);\n",
"xtitle('Data for Example 8.8','Discharge (Q m^3/s)','Head (m water)');\n",
"legend('Pump characteristics','h=10+2.205e5*Q^2');\n",
"//showing the intersection point\n",
"x1=[0 0.0054];\n",
"y1=[16.43 16.43];\n",
"x2=[0.0054 0.0054];\n",
"y2=[0 16.43];\n",
"plot(x1,y1,x2,y2);\n",
"Q_r=0.0054;\n",
"printf('\n The discharge at the point of intersection between\n the purnp characteristic equation = %.4f m^3/s',Q_r);\n",
"h_r=10+2.205e5*Q_r^2;\n",
"printf('\n The total head developed = %.2f m',h_r);\n",
"P=Q_r*1000*h_r*9.81/eta;\n",
"printf('\n Power required = %.0f W = %.2f kW',P,P*1e-3);"
   ]
   }
],
"metadata": {
		  "kernelspec": {
		   "display_name": "Scilab",
		   "language": "scilab",
		   "name": "scilab"
		  },
		  "language_info": {
		   "file_extension": ".sce",
		   "help_links": [
			{
			 "text": "MetaKernel Magics",
			 "url": "https://github.com/calysto/metakernel/blob/master/metakernel/magics/README.md"
			}
		   ],
		   "mimetype": "text/x-octave",
		   "name": "scilab",
		   "version": "0.7.1"
		  }
		 },
		 "nbformat": 4,
		 "nbformat_minor": 0
}
