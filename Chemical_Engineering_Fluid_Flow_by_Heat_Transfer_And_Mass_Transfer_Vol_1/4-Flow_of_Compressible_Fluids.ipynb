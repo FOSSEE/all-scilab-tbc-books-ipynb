{
"cells": [
 {
		   "cell_type": "markdown",
	   "metadata": {},
	   "source": [
       "# Chapter 4: Flow of Compressible Fluids"
	   ]
	},
{
		   "cell_type": "markdown",
		   "metadata": {},
		   "source": [
			"## Example 4.1: EX4_1.sce"
		   ]
		  },
  {
"cell_type": "code",
	   "execution_count": null,
	   "metadata": {
	    "collapsed": true
	   },
	   "outputs": [],
"source": [
"clc;\n",
"clear;\n",
"\n",
"printf('\n Example 4.1\n');\n",
"\n",
"d=0.006;//Diameter of the cylinder\n",
"Gamma=1.4;\n",
"//The critical pressure ratio for discharge through the valve\n",
"C_r=(2/(Gamma+1))^(Gamma/(Gamma-1));\n",
"printf('\n The graphs are plotted between\n (1) Rate of discharge of air from the cylinder against cylinder pressure\n (2) For a constant pressure of 5 MN/m^2 in the cylinder, the discharge rate vs Downstream pressure.')\n",
"//(i) Sonic velocity will occur until the\n",
"P_c=101.3/C_r;//pressure at which sonic velocity will occur\n",
"M=29;//molecular mass of air\n",
"//The rate of discharge for cylinder pressures greater than 191.1 kN/m^2 is\n",
"//given by equation 4.30: taking mean value for Gamma i.e. 1.47\n",
"//we get \n",
"//G_max=4.23e-8*P1 kg/s\n",
"//For cylinder pressures below 191.1 kN/m2, the mass flowrate is given by equation 4.20\n",
"P1a=[0.1 0.125 0.15 0.17 0.19 0.2 0.5 1.0 2.0 3.0 4.0 5.0 6.0]\n",
"for i=5:13\n",
"    G(i)=4.23e-2*P1a(i);\n",
"end\n",
"for j=1:4\n",
"    G(j)=0.0314*P1a(j)^0.286*((1-0.519*P1a(j)^(-0.286)))^0.5;\n",
"end\n",
"xset('window',1)\n",
"plot(P1a,G);\n",
"xtitle('Rate of discharge of air vs Cylider Pressure','Cylinder pressure P1a (MN/m )','Mass flow (kg/s)');\n",
"xset('window',2);\n",
"P2a=[0 1 2 2.65 3 3.5 4 4.5 4.9 4.95 5];\n",
"for j=5:11\n",
"    G2(j)=0.2548*P2a(j)^0.714*((1-0.631*P2a(j)^0.286))^0.5;\n",
"end\n",
"for i=1:4\n",
"    G2(i)=0.210;\n",
"end\n",
"plot(P2a,G2);\n",
"xtitle('Rate of discharge of air vs Downstream Pressure','Downstream pressure P2a (MN/m )','Mass flow (kg/s)')"
   ]
   }
,
{
		   "cell_type": "markdown",
		   "metadata": {},
		   "source": [
			"## Example 4.2: Calculation_of_approximate_flow_rate_of_fluid.sce"
		   ]
		  },
  {
"cell_type": "code",
	   "execution_count": null,
	   "metadata": {
	    "collapsed": true
	   },
	   "outputs": [],
"source": [
"clc;\n",
"\n",
"printf('\n Example 4.2\n');\n",
"\n",
"l=30;//Length of the tube\n",
"d=150e-3;//Diameter of the tube\n",
"P1=0.4e3;//Initial Pressure\n",
"P2=0.13e3;//final Pressure\n",
"//X=e/d, Relative roughness\n",
"//Y=R/(rho*u^2) = 0.004\n",
"X=0.003;\n",
"Y=0.005;\n",
"v1=21.15e1;\n",
"\n",
"G_A=poly([0],'G_A');\n",
"f=(G_A^2*log(P1/P2))+((P2^2-P1^2)/(2*P1*v1))+(4*(Y*l/d)*G_A^2);\n",
"A=roots(f);\n",
"printf('\n The approximate flow rate = %.2f kg/m^2 s',A(1));"
   ]
   }
,
{
		   "cell_type": "markdown",
		   "metadata": {},
		   "source": [
			"## Example 4.3: EX4_3.sce"
		   ]
		  },
  {
"cell_type": "code",
	   "execution_count": null,
	   "metadata": {
	    "collapsed": true
	   },
	   "outputs": [],
"source": [
"clc;\n",
"\n",
"printf('\n Example 4.3\n');\n",
"\n",
"Q=50; //volumetric flow rate of methane\n",
"P=101.3e3;//Given Pressure\n",
"T1=288;//Given Temperature\n",
"d=0.6;//Diameter of pipeline\n",
"l=3e3;//length of the pipe line\n",
"R_R=0.0001;//Relative roughness\n",
"P2=170e3;//Pressure at which methane is to be discharged\n",
"T2=297;//Temperature at which methane leaves the compressor\n",
"M=16;//molecular mass of methane\n",
"R=8314;//Gas constant\n",
"Meu=1e-5;//Viscosity of methane at 293 K\n",
"\n",
"T=(T1+T2)/2;//Mean temperature\n",
"P1_v1=R*T/(M);\n",
"//At 288 K and 101.3 kN/m^2\n",
"v=P1_v1/P*T1/T;\n",
"G=Q/v;//Mass flow rate of methane\n",
"A=%pi/4*d^2;//cross sectional area of pipeline\n",
"G_A=G/A;\n",
"Re=G_A*d/Meu;\n",
"//Y=R/(rho*u^2) = 0.0015\n",
"Y=0.0015;//(from fig 3.7)\n",
"//The upstream pressure is calculated using equation 4.55:\n",
"function[y]=pressure(P1)\n",
"    y=G_A^(2)*log(P1/P2)+(P2^2-P1^2)/(2*1.5525e5)+4*Y*(l/d)*G_A^2;\n",
"    funcprot(0);\n",
"endfunction\n",
"P1 = 1e5;\n",
"z = fsolve(P1,pressure);\n",
"printf('\n Pressure to be developed at the compressor in order to achieve this flowrate = %.2f * 10^5 N/m^2',z*1e-5);\n",
"\n",
"\n",
"\n",
"\n",
"\n",
"\n",
"\n",
"\n",
"\n",
"\n",
"\n",
"\n",
""
   ]
   }
,
{
		   "cell_type": "markdown",
		   "metadata": {},
		   "source": [
			"## Example 4.4: EX4_4.sce"
		   ]
		  },
  {
"cell_type": "code",
	   "execution_count": null,
	   "metadata": {
	    "collapsed": true
	   },
	   "outputs": [],
"source": [
"clc;\n",
"clear;\n",
"\n",
"printf('\n Example 4.4');\n",
"\n",
"A1=0.007;//cross sectional area of stack pipe\n",
"A2=4000e-6;//flow area of ruptured disc\n",
"P1=10e6;//Pressure of the gas in the vessel\n",
"Gamma=1.4;\n",
"M=40;//mean molecular weight of gas\n",
"\n",
"w_c=(2/(Gamma+1))^(Gamma/(Gamma-1));\n",
"P_c=P1*w_c;\n",
"V1=(22.4/M)*(500/273)*(101.3e3/P1);//Specific volume of the gas in the reactor\n",
"V=V1*(1/w_c)^(1/Gamma);//Specific volume of gas at the throat\n",
"u=(Gamma*P_c*V)^0.5;//velocity at the throat\n",
"G=u*A2/V;//initial rate of discharge\n",
"\n",
"printf('\n (a)Initial rate of discharge of gas = %.1f kg/s',G);\n",
"//obtaining the equations as given in book and solving for 'w' we get\n",
"w=0.0057;//Pressure ratio\n",
"P_u=P1*w;\n",
"printf('\n (b)The pressure upstream from the shockwave = %.0f kN/m^2',P_u*1e-3);\n",
"Mach_no=2.23*(w^(-0.29)-1)^0.5;\n",
"printf('\n    The mach number is = %.2f',Mach_no);\n",
"P_s=56.3*w*(w^(-0.29)-1)*1e6;\n",
"printf('\n (c)The pressure downstream from the shockwave = %.0f kN/m^2',P_s*1e-3);\n",
"\n",
""
   ]
   }
],
"metadata": {
		  "kernelspec": {
		   "display_name": "Scilab",
		   "language": "scilab",
		   "name": "scilab"
		  },
		  "language_info": {
		   "file_extension": ".sce",
		   "help_links": [
			{
			 "text": "MetaKernel Magics",
			 "url": "https://github.com/calysto/metakernel/blob/master/metakernel/magics/README.md"
			}
		   ],
		   "mimetype": "text/x-octave",
		   "name": "scilab",
		   "version": "0.7.1"
		  }
		 },
		 "nbformat": 4,
		 "nbformat_minor": 0
}
