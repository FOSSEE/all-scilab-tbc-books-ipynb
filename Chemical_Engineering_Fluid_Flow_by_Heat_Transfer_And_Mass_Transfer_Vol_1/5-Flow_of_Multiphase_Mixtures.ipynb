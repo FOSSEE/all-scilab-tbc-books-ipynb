{
"cells": [
 {
		   "cell_type": "markdown",
	   "metadata": {},
	   "source": [
       "# Chapter 5: Flow of Multiphase Mixtures"
	   ]
	},
{
		   "cell_type": "markdown",
		   "metadata": {},
		   "source": [
			"## Example 5.1: Calculation_of_Pressure_drop_per_unit_length_of_pipe_under_adiabatic_conditions.sce"
		   ]
		  },
  {
"cell_type": "code",
	   "execution_count": null,
	   "metadata": {
	    "collapsed": true
	   },
	   "outputs": [],
"source": [
"clc;\n",
"clear;\n",
"\n",
"printf('Example 5.1\n');\n",
"id=75e-3; // internal diameter of pipe\n",
"printf('\n Given: \n Internal diameter of pipe = %d mm',id*1e3);\n",
"f_r_s=0.05; // Flow rate of steam in (kg/s)\n",
"printf('\n Flow rate of steam = %.2f kg/s',f_r_s);\n",
"f_r_w=1.5; // Flow rate of water in (kg/s)\n",
"printf('\n Flow rate of water = %.1f kg/s',f_r_w);\n",
"T=330; // Mean Temperature\n",
"printf('\n Mean Temperature = %d K',T);\n",
"P=120; // Mean Pressure drop\n",
"printf('\n Mean Pressure drop = %d kN/m^2',P);\n",
"area=%pi*id^2/4; // Cross-sectional area for flow\n",
"f_r_w_m3s=f_r_w/1000; // Flow of water\n",
"wtr_vel=f_r_w_m3s/area; //Water velocity\n",
"rho_steam=18*273*120/(22.4*330*101.3); // density of steam at 330 K and 120 kN/m^2\n",
"f_r_s_m3s=f_r_s/rho_steam; //Flow of Steam\n",
"steam_vel=f_r_s_m3s/area; //Steam velocity\n",
"printf('\n\n Calculations:\n Cross-sectional area for flow = %.5f m^2\n Water velocity = %.3f m/s\n Steam velocity = %.2f m/s',area,wtr_vel,steam_vel);\n",
"meu_steam=0.0113e-3;\n",
"meu_water=0.52e-3;\n",
"Rel=id*wtr_vel*1000/meu_water;\n",
"Reg=id*steam_vel*rho_steam/meu_steam;\n",
"printf('\n Reynolds no.(water) = %.2f *10^4',Rel*1e-4);\n",
"printf('\n Reynolds no.(steam) = %.2f *10^4',Reg*1e-4);\n",
"// That is, both the gas and liquid are in turbulent flow. From the friction chart (Figure 3.7), assuming e/d = 0.00015:\n",
"// R/(rho*u^2) liq=0.0025     R/(rho*u^2) gas=0.0022\n",
"// From equation 3.18:\n",
"DPl=4*0.0025*(1000*wtr_vel^2)/id;\n",
"DPg=4*0.0022*(rho_steam*steam_vel^2)/id;\n",
"X=(DPl/DPg)^0.5;\n",
"phi_l=4.35;\n",
"phi_g=3.95;\n",
"DP_tpf=phi_g^2*DPg;\n",
"printf('\n Pressure drop per unit length of pipe = %.0f N/m^2',DP_tpf);"
   ]
   }
,
{
		   "cell_type": "markdown",
		   "metadata": {},
		   "source": [
			"## Example 5.2: Calculation_of_maximum_mass_flow_of_sand.sce"
		   ]
		  },
  {
"cell_type": "code",
	   "execution_count": null,
	   "metadata": {
	    "collapsed": true
	   },
	   "outputs": [],
"source": [
"clc;\n",
"clear;\n",
"\n",
"printf('\n Example 5.2\n');\n",
"\n",
"M_p_d=0.2e-3; // Mean particle diameter\n",
"printf('\n Given:\n Mean particle diameter = %.1f mm',M_p_d*1e3);\n",
"f_r_w=0.5; //Flow rate of water\n",
"printf('\n Flow rate of water = %.1f kg/s',f_r_w);\n",
"id=25e-3; //Diameter of pipe\n",
"printf('\n Diameter of pipe = %d mm',id*1e3);\n",
"l=100; //length of pipe\n",
"printf('\n length of pipe = %d m',l);\n",
"t_vel=0.0239; //Terminal velocity of falling sand particles\n",
"printf('\n Terminal velocity of falling sand particles = %.4f m/s',t_vel);\n",
"//Assuming the mean velocity of the suspension is equal to the water velocity, that is, neglecting slip, then:\n",
"Um=f_r_w/(1000*%pi*id^2/4);\n",
"printf('\n\n Calculations:\n Mean velocity of suspension = %.2f m/s',Um);\n",
"Re=id*Um*1000/0.001;\n",
"printf('\n Reynolds no. of water alone = %d',Re);\n",
"//Assuming e/d = 0.008, then, from Figure 3.7:\n",
"phi=0.0046;\n",
"f=0.0092;\n",
"//From, equation 3.20, the head loss is:\n",
"hf=4*phi*l*Um^2/(9.81*id);\n",
"printf('\n Head loss = %.1f m water',hf);\n",
"iw=hf/l;\n",
"printf('\n Hydraulic gradient = %.3f m water/m',iw);\n",
"i=300*1000/(1000*9.81*100);\n",
"// Substituting in equation 5.20:\n",
"C=(iw/(i-iw)*(1100*9.81*id*(2.6-1)*t_vel)/(Um^2*Um))^-1;\n",
"printf('\n C = %.2f',C);\n",
"//If G kg/s is the mass flow of sand, then:\n",
"G=poly([0],'G');\n",
"p=2600^-1*G-0.30*(2600^-1*G+.0005);\n",
"printf('\n Mass flow of sand = %.2f kg/s',roots(p));\n",
"printf('')"
   ]
   }
,
{
		   "cell_type": "markdown",
		   "metadata": {},
		   "source": [
			"## Example 5.3: Calculation_of_Pressure_drop.sce"
		   ]
		  },
  {
"cell_type": "code",
	   "execution_count": null,
	   "metadata": {
	    "collapsed": true
	   },
	   "outputs": [],
"source": [
"clc;\n",
"clear;\n",
"\n",
"printf('\n Example 5.3');\n",
"\n",
"p_s=1.25e-3; // Particle size of sand\n",
"printf('\n Given:\n Particle size of sand = %.2f mm',p_s*1e3);\n",
"rho_sand=2600; //Density of sand\n",
"printf('\n Density of sand = %d kg/m^3',rho_sand);\n",
"flow_sand=1; //flow rate of sand in air\n",
"printf('\n flow rate of sand in air = %d kg/s',flow_sand);\n",
"l=200; //length of pipe\n",
"printf('\n length of pipe = %d m',l);\n",
"// Assuming a solids:gas mass ratio of 5, then:\n",
"flow_air=flow_sand/5;\n",
"vol_flow_air=1*flow_air;\n",
"printf('\n\n Calculations:\n Volumetric flow rate of air = %.2f m^3/s',vol_flow_air);\n",
"//In order to avoid an excessive pressure drop, an air velocity of 30 m/s is acceptable\n",
"d=100e-3; // taking nearest standard size of pipe\n",
"// For sand of particle size 1.25 mm and density 2600 kg/m3, the free-falling velocity is given in Table 5.3 as:\n",
"Uo=4.7;\n",
"// In equation 5.37:\n",
"area=%pi*d^2/4;\n",
"printf('\n The cross-sectional area of a 100 mm ID. pipe = %.5f m^2',area);\n",
"Ug=flow_air/area;\n",
"Us=Ug-(Uo/(0.468+(7.25*(Uo/rho_sand)^0.5)));\n",
"printf('\n Air velocity = %.1f m/s',Ug);\n",
"printf('\n solids velocity = %.1f m/s',Us);\n",
"//Taking\n",
"Meu_air=1.7e-5; // viscosity of air\n",
"rho_air=1; // Density of air\n",
"Re=(d*Ug*rho_air/Meu_air);\n",
"printf('\n Reynolds no. of air alone = %d',Re);\n",
"phi=0.004;\n",
"//Assuming isothermal conditions and incompressible flow, then, in equation 3.18:\n",
"DP_air=(4*phi*l/d)*rho_air*Ug^2/2;\n",
"printf('\n Pressure drop due to air = %.1f kN/m^2',DP_air*1e-3);\n",
"//and in equation 5.38:\n",
"DP_x=2805*DP_air/(Uo*Us^2);\n",
"printf('\n Pressure drop due to sand particles = %.1f kN/m^2',DP_x*1e-3);\n",
"DP=DP_air+DP_x;\n",
"printf('\n The total pressure drop = %.1f kN/m^2',DP*1e-3);"
   ]
   }
],
"metadata": {
		  "kernelspec": {
		   "display_name": "Scilab",
		   "language": "scilab",
		   "name": "scilab"
		  },
		  "language_info": {
		   "file_extension": ".sce",
		   "help_links": [
			{
			 "text": "MetaKernel Magics",
			 "url": "https://github.com/calysto/metakernel/blob/master/metakernel/magics/README.md"
			}
		   ],
		   "mimetype": "text/x-octave",
		   "name": "scilab",
		   "version": "0.7.1"
		  }
		 },
		 "nbformat": 4,
		 "nbformat_minor": 0
}
