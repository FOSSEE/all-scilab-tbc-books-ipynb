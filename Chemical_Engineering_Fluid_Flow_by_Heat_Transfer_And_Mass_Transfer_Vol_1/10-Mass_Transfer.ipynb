{
"cells": [
 {
		   "cell_type": "markdown",
	   "metadata": {},
	   "source": [
       "# Chapter 10: Mass Transfer"
	   ]
	},
{
		   "cell_type": "markdown",
		   "metadata": {},
		   "source": [
			"## Example 10.10: Determination_of_order_of_chemical_reaction.sce"
		   ]
		  },
  {
"cell_type": "code",
	   "execution_count": null,
	   "metadata": {
	    "collapsed": true
	   },
	   "outputs": [],
"source": [
"clc;\n",
"clear;\n",
"\n",
"printf('Example 10.10\n');\n",
"\n",
"//The mass transfer rate (moles/unit area and unit time) is given by equation \n",
"//10.180, where denoting the original conditions by subscript 1 and the \n",
"//conditions at the higher temperature by subscript 2 gives\n",
"//N_A2=0.83*N_A1\n",
"//Substituting the numerical values gives:\n",
"n=2*(log(0.83/(1.35)^0.5)/log(0.8))-1;\n",
"printf('\n n = %.2f ',n);\n",
"printf('\n Thus the reaction is of second order');"
   ]
   }
,
{
		   "cell_type": "markdown",
		   "metadata": {},
		   "source": [
			"## Example 10.11: Calculate_By_what_factor_will_the_mass_transfer_rate_across_the_interface_change.sce"
		   ]
		  },
  {
"cell_type": "code",
	   "execution_count": null,
	   "metadata": {
	    "collapsed": true
	   },
	   "outputs": [],
"source": [
"clear;\n",
"clc;\n",
"//Coulson and Richardson's Chemical Engineering Volume I\n",
"//Chapter 10 Example 11\n",
"//Page 630\n",
"printf('Example 10.11');\n",
"//What factor will the mass transfer rate across interface change\n",
"\n",
"k = 2.5*10^-6            //[s^-1] Rate constant\n",
"E = 2.643*10^7           //[J/kmol] Energy of Activation\n",
"R = 8314                 //[J/kmol.K] Universal gas contss\n",
"D = 10^-9                //[m^2/s] MOlecular diffuisivity\n",
"L = .01                  //[m] Film Thickness\n",
"\n",
"//At T =293K\n",
"T = 293                 //[K] temperature\n",
"A = k/exp(-E/(R*T));    //[s^-1]\n",
"e = exp(-2*L*sqrt(k/D));\n",
"N = sqrt(k/D)*(1+e)/(1-e); //Consider relative Solubility at 293 K be unity\n",
"\n",
"//At T =313K\n",
"T2 = 313                 //[K] temperature\n",
"k2 = A*exp(-E/(R*T2));    //[s^-1]\n",
"e2 = exp(-2*L*sqrt(k2/D));\n",
"N2 = .8*sqrt(k2/D)*(1+e2)/(1-e2); //Consider relative Solubility at 313 K be .8 wrt that of 293K\n",
"\n",
"Nr = N2/N;\n",
"\n",
"printf('\n\nChange in mass transfer rate is given by factor %.2f',Nr)\n",
"//END"
   ]
   }
,
{
		   "cell_type": "markdown",
		   "metadata": {},
		   "source": [
			"## Example 10.12: Estimation_of_the_Thiele_modulus_and_the_effectiveness_factor_for_a_reactor.sce"
		   ]
		  },
  {
"cell_type": "code",
	   "execution_count": null,
	   "metadata": {
	    "collapsed": true
	   },
	   "outputs": [],
"source": [
"clc;\n",
"clear;\n",
"\n",
"printf('\n Example 10.12\n');\n",
"\n",
"k=5e-4;//first order rate constant\n",
"D_e=2e-9;//effective diffusivity of reactants in the pores of the particles\n",
"\n",
"lambda=(k/D_e)^0.5;\n",
"// (i) For the platelet of thickness 8 mm,\n",
"L=0.5*(8e-3);\n",
"phi=lambda*L;//thiele modulus\n",
"//From equation 10.202, the effectiveness factor 'eta' is given by:\n",
"eta=(1/phi)*tanh(phi);\n",
"printf('\n (i) Thiele modulus = %.1f',phi);\n",
"printf('\n     The effectiveness factor = %.3f',eta);\n",
"\n",
"//(ii) For the sphere of diameter 10 mm, r_o = 0.005 m^-1.\n",
"r_o=5e-3;\n",
"phi_o=lambda*r_o;//Thiele modulus\n",
"//From equation 10.212, the effectiveness factor 'eta' is given by:\n",
"eta_o=(3/phi_o)*(coth(phi_o)-(1/phi_o));\n",
"printf('\n (i) Thiele modulus = %.1f',phi_o);\n",
"printf('\n     The effectiveness factor = %.3f',eta_o);"
   ]
   }
,
{
		   "cell_type": "markdown",
		   "metadata": {},
		   "source": [
			"## Example 10.13: EX10_13.sce"
		   ]
		  },
  {
"cell_type": "code",
	   "execution_count": null,
	   "metadata": {
	    "collapsed": true
	   },
	   "outputs": [],
"source": [
"clc;\n",
"clear;\n",
"printf('\n Example 10.13\n');\n",
"\n",
"D_e=1e-5;//Effective diffusivity for the reactants in the catalyst particle\n",
"k=14.4;//first order rate constant\n",
"L=2.5e-3;\n",
"\n",
"lambda=(k/D_e)^0.5;\n",
"phi=(k/D_e)^0.5*(L);//Thiele modulus\n",
"//From equation 10.202, the effectiveness factor,\n",
"eta=(1/phi)*tanh(phi);\n",
"printf('\n (i) The effectiveness factor = %.3f',eta);\n",
"//The concentration profile is given by equation 10.198\n",
"y=1.25e-3;\n",
"C_Ai=0.15;\n",
"C_A=C_Ai*(cosh(lambda*y)/cosh(lambda*L));\n",
"printf('\n (ii) The concentration of reactant at a position half-way between the centre and the outside of the\n\t pellet = %.3f kmol/m^3',C_A);"
   ]
   }
,
{
		   "cell_type": "markdown",
		   "metadata": {},
		   "source": [
			"## Example 10.14: Calculation_of_the_effectiveness_factor.sce"
		   ]
		  },
  {
"cell_type": "code",
	   "execution_count": null,
	   "metadata": {
	    "collapsed": true
	   },
	   "outputs": [],
"source": [
"clear;\n",
"clc;\n",
"\n",
"printf('\n Example 10.14\n');\n",
"\n",
"R_r=8.2e-2;//reaction rate when concentration =0.011 kmol/m^3\n",
"D_e=7.5e-8;//Effective diffusivity\n",
"\n",
"//Since the value of the first-order rate constant is not given, lambda and \n",
"//phi_l cannot be calculated directly. The reaction rate per unit volume of \n",
"//catalyst = eta*k*C_Ai (equation 10.217),\n",
"//eta=phi_L^-1\n",
"//It is assumed that the reactor is operating in this regime and the assumption \n",
"//is then checked.Substituting numerical values in equation 10.217:\n",
"k=(1.217*R_r/0.011)^2;\n",
"phi_L=1.217*(k)^0.5;\n",
"eta=phi_L^-1;\n",
"printf('\n Effectiveness factor = %.4f',eta);"
   ]
   }
,
{
		   "cell_type": "markdown",
		   "metadata": {},
		   "source": [
			"## Example 10.1: Estimation_of_the_rate_of_diffusion_of_ammonia_through_the_layer.sce"
		   ]
		  },
  {
"cell_type": "code",
	   "execution_count": null,
	   "metadata": {
	    "collapsed": true
	   },
	   "outputs": [],
"source": [
"clc;\n",
"clear;\n",
"\n",
"printf('\n Example 10.1\n');\n",
"\n",
"x=1e-3; //Thickness of stagnant air film\n",
"D=1.8e-5;//Difffusivity of ammonia\n",
"R=8314; //Gas constant\n",
"T=295; //Temperature \n",
"P=101.3e3; //Total Pressure\n",
"\n",
"//If the subscripts 1 and 2 refer to the two sides of the stagnant layer and \n",
"//the subscripts A and B refer to ammonia and air respectively,\n",
"P_A1=.50*P;\n",
"P_A2=0;\n",
"P_B1=P-P_A1;\n",
"P_B2=P-P_A2;\n",
"P_BM=(P-P_A1)/log(P/P_A1);\n",
"//Thus, substituting in equation 10.31 gives:\n",
"N_A=(-D/(R*T*x))*(P/P_BM)*(P_A2-P_A1);\n",
"printf('\n The rate of diffusion of ammonia through the layer = %.2f *10^-4 kmol/m^2*s',N_A*1e4);\n",
""
   ]
   }
,
{
		   "cell_type": "markdown",
		   "metadata": {},
		   "source": [
			"## Example 10.2: Calculation_of_the_diffusivity_of_carbon_tetrachloride_vapour_in_air.sce"
		   ]
		  },
  {
"cell_type": "code",
	   "execution_count": null,
	   "metadata": {
	    "collapsed": true
	   },
	   "outputs": [],
"source": [
"clear;\n",
"clc;\n",
"\n",
"printf('Example 10.2\n');\n",
"\n",
"th=[0 0 3 7 22 32 46 55 80 106];      //Time in hours\n",
"tm=[0 26 5 36 16 38 50 25 22 25];     //Time in min\n",
"\n",
"//Conversion to kilo seconds\n",
"for i=1:10\n",
"    tm(i)=tm(i)*60;\n",
"    th(i)=th(i)*3600;\n",
"    tim(i)=(tm(i)+th(i))/1000;\n",
"end\n",
"\n",
"L=[0 2.5 12.9 23.2 43.9 54.7 67.0 73.8 90.3 104.8];   //in mm\n",
"\n",
"Lo=L(1);\n",
"\n",
"//Calculations are done as indicated in the procedure\n",
"//To obtain the values of x and y as below\n",
"//For plotting x and t axis of graph\n",
"x=L-Lo;\n",
"\n",
"y(1)=0;\n",
"for j=2:10\n",
"    y(j)=tim(j)/(L(j)-Lo);\n",
"end\n",
"\n",
"plot2d(x,y);\n",
"plot(x,y,'+');\n",
"xtitle('t/(L-L0) vs (L-L0)','(L-L0) in mm','t/(L-L0) in ks/mm^2');\n",
"\n",
"//Calculation of slope\n",
"s=(y(4)-y(3))/(x(4)-x(3))*10^3*10^6;\n",
"printf('\nSlope is %.2e sec/m^2\n',s);\n",
"\n",
"Vl=22.4;                 //Molar volume in litres\n",
"den=1540;                //Density in kg/m^3\n",
"T0=273;\n",
"T=321;\n",
"vp=37.6;                 //vapour pressure in kPa\n",
"P0=101.3;                //PRessue in kPa\n",
"M=154;\n",
"\n",
"Ct=T0/(Vl*T);\n",
"Ca=(vp*Ct)/P0;\n",
"\n",
"Cb1=Ct;\n",
"Cb2=(P0-vp)*Ct/P0;\n",
"Cbm=(Cb1-Cb2)/log(Cb1/Cb2);\n",
"\n",
"//Diffusivity calculation\n",
"D=den*Cbm/(2*M*Ca*Ct*s);\n",
"printf('\nDiffusivity is %.2e m^2/s\n',D);\n",
"\n",
"//End"
   ]
   }
,
{
		   "cell_type": "markdown",
		   "metadata": {},
		   "source": [
			"## Example 10.3: Calculation_of_the_mass_transfer_rate_per_unit_area.sce"
		   ]
		  },
  {
"cell_type": "code",
	   "execution_count": null,
	   "metadata": {
	    "collapsed": true
	   },
	   "outputs": [],
"source": [
"clear;\n",
"clc;\n",
"\n",
"printf('Example 10.3\n');\n",
"\n",
"P=101.3e3; //pressure of the operating column\n",
"T=295; //Temperature of the operating column\n",
"P_A=7e3; //partial pressure of ammonia\n",
"x=1e-3; //=(y1-y2)Thickness of stationary gas film\n",
"D=2.36e-5; //Diffusivity of ammonia\n",
"\n",
"C_A=(1/22.4)*(273/T)*(P_A/P);//=(C_A1-C_A2)Concentration of ammonia gas\n",
"//X=C_T/C_BM\n",
"X=P*log(P/(P-P_A))/(P-(P-P_A));\n",
"//From equation 10.33\n",
"N_A_=(D/x)*X*(C_A);\n",
"printf('\n The transfer rate per unit area = %.2f *10^-5 kmol/m^2*s',N_A_*1e5)"
   ]
   }
,
{
		   "cell_type": "markdown",
		   "metadata": {},
		   "source": [
			"## Example 10.4: EX10_4.sce"
		   ]
		  },
  {
"cell_type": "code",
	   "execution_count": null,
	   "metadata": {
	    "collapsed": true
	   },
	   "outputs": [],
"source": [
"clear;\n",
"clc;\n",
"\n",
"printf('Example 10.4\n');\n",
"\n",
"Q=3e-6; //Flow rate of water\n",
"Meu=1e-3; //Viscosity of water\n",
"D=1.5e-9; //diffusivity of carbon dioxide in water\n",
"rho=1e3; //Density of water\n",
"\n",
"//the mean velocity of flow is governed by equation 3.87 in which sin(phi)is \n",
"//put equal to unity for a vertical surface:\n",
"s=(Q*1e2*Meu*3/(rho*9.81))^(1/3);//Thickness of film\n",
"\n",
"//A=Ux/Us=0.95;\n",
"A=0.95;\n",
"y=s*(1-A)^0.5;//The distance below the free surface\n",
"//using equation 10.108 and using tables of error fuctions\n",
"t=(1.305/1.822)^2\n",
"Us=rho*9.81*s^2/(2*Meu);//surface velocity\n",
"L=Us*t;//The maximum lend=gth of column\n",
"printf('\n The maximum length of column = %.2f m',L);"
   ]
   }
,
{
		   "cell_type": "markdown",
		   "metadata": {},
		   "source": [
			"## Example 10.5: Calculation_of_equivalent_resisitance_and_time_required.sce"
		   ]
		  },
  {
"cell_type": "code",
	   "execution_count": null,
	   "metadata": {
	    "collapsed": true
	   },
	   "outputs": [],
"source": [
"clear;\n",
"clc;\n",
"\n",
"printf('Example 10.5\n');\n",
"\n",
"N_dot=50; //Initial maas transfer rate\n",
"D=1.8e-9; //Diffusivity of gas in liquid phase\n",
"\n",
"C_bg=(1/22.4)*(273/293); //bulk gas concentration\n",
"N_C=N_dot*C_bg; //Initial maas transfer rate in terms of cocentration\n",
"h=N_C/0.04;// Effective Mass transfer coefficient\n",
"R=1/h;//Equivalent resistance\n",
"printf('\n Equivalent resistance = %.4f s/m',R);\n",
"R_l=R*9; //Liquid phase resistance\n",
"h_l=1/R_l; //Liquid phase coefficient\n",
"\n",
"//From equation 10.113 and using liquid phase resistance\n",
"t=R_l^2/(%pi/D);\n",
"\n",
"printf('\n The required time is = %.2f *10^-11s',t*1e11)"
   ]
   }
,
{
		   "cell_type": "markdown",
		   "metadata": {},
		   "source": [
			"## Example 10.6: Calculating_proportion_of_absorbed_carbon_dioxide.sce"
		   ]
		  },
  {
"cell_type": "code",
	   "execution_count": null,
	   "metadata": {
	    "collapsed": true
	   },
	   "outputs": [],
"source": [
"clear;\n",
"clc;\n",
"\n",
"printf('Example 10.6\n');\n",
"\n",
"//Diffusivity of CO2 in ethanol\n",
"D=4D-9;               //in m^2/s\n",
"t=100;                //Time in sec\n",
"\n",
"//Solving all the integral as defined in the proces \n",
"//as per described in the book\n",
"//a useful result is obtained\n",
"\n",
"Cai=poly([0],'x');\n",
"\n",
"y=[0 10^-3];\n",
"\n",
"for i=1:2\n",
"    mole(i)=((2*sqrt(D*t/%pi)*exp(-y(i)^2/(4*D*t)))-(y(i)*erfc(y(i)/(2*sqrt(D*t)))));\n",
"end\n",
"ret=(mole(1)-mole(2))/mole(1);\n",
"\n",
"printf('\nProportion retained is %.1f %%\n',ret*100);\n",
"\n",
"//End"
   ]
   }
,
{
		   "cell_type": "markdown",
		   "metadata": {},
		   "source": [
			"## Example 10.8: Calculation_of_overall_mass_transfer_coeffecient_based_on_gas_phase.sce"
		   ]
		  },
  {
"cell_type": "code",
	   "execution_count": null,
	   "metadata": {
	    "collapsed": true
	   },
	   "outputs": [],
"source": [
"clc;\n",
"clear;\n",
"\n",
"printf('Example 10.8\n')\n",
"\n",
"L=825e-3; //length of the tube\n",
"d=15e-3; //diameter of the tube\n",
"P_i=7.5e3; //Partial pressure of ammonia at inlet\n",
"P_o=2e3; //Partial pressure of ammonia at inlet\n",
"A_r=2e-5; //Air rate\n",
"P=101.3e3; //Atmospheric pressure\n",
"\n",
"D_F_m=(P_i-P_o)/log(P_i/P_o);//Mean driving force\n",
"A_absorbd=A_r*((P_i/(P-P_i))-(P_o/(P-P_o)));\n",
"A_w=%pi*d*L;//Wetted surface\n",
"K_G=(A_absorbd/(A_w*D_F_m));//Overall transfer coefficient\n",
"printf('\n Overall Transfer coefficient = %.2f * 10^-9 kmol/[m^2 s (N/m^2)]',K_G*1e9)"
   ]
   }
,
{
		   "cell_type": "markdown",
		   "metadata": {},
		   "source": [
			"## Example 10.9: Calculation_of_numerical_value_of_a_given_ratio.sce"
		   ]
		  },
  {
"cell_type": "code",
	   "execution_count": null,
	   "metadata": {
	    "collapsed": true
	   },
	   "outputs": [],
"source": [
"clear;\n",
"clc;\n",
"\n",
"printf('\n Example 10.9\n');\n",
"\n",
"//The proces is defined by\n",
"//    Ca = B1*exp(sqrt((k/D)y)) + B2*exp(-sqrt((k/D)y))\n",
"\n",
"//Boundary conditions as \n",
"//    Ca=Cai       at y=0\n",
"//    Ca=Cai/2     at y=l\n",
"\n",
"//Using above 3 equations, final equation is derived as follows\n",
"\n",
"//Assuming\n",
"//    ratio = (Na)y=l / (Na)y=0\n",
"//    z=l*sqrt(k/D)\n",
"\n",
"z=0.693;\n",
"\n",
"ratio=(exp(sqrt(z))+exp(-sqrt(z))-4)/(2*(1-exp(-sqrt(z))-exp(sqrt(z))));\n",
"\n",
"printf('\n The final ratio is %.2f \n',ratio);\n",
"\n",
"//End"
   ]
   }
],
"metadata": {
		  "kernelspec": {
		   "display_name": "Scilab",
		   "language": "scilab",
		   "name": "scilab"
		  },
		  "language_info": {
		   "file_extension": ".sce",
		   "help_links": [
			{
			 "text": "MetaKernel Magics",
			 "url": "https://github.com/calysto/metakernel/blob/master/metakernel/magics/README.md"
			}
		   ],
		   "mimetype": "text/x-octave",
		   "name": "scilab",
		   "version": "0.7.1"
		  }
		 },
		 "nbformat": 4,
		 "nbformat_minor": 0
}
