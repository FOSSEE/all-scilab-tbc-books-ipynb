{
"cells": [
 {
		   "cell_type": "markdown",
	   "metadata": {},
	   "source": [
       "# Chapter 13: Humidification and Water Cooling"
	   ]
	},
{
		   "cell_type": "markdown",
		   "metadata": {},
		   "source": [
			"## Example 13.1: Pressure_calculatio.sce"
		   ]
		  },
  {
"cell_type": "code",
	   "execution_count": null,
	   "metadata": {
	    "collapsed": true
	   },
	   "outputs": [],
"source": [
"clc;\n",
"clear;\n",
"\n",
"printf('\n Example 13.1\n');\n",
"\n",
"P=101.3e3;\n",
"T=297; \n",
"R=8314; //gas constant\n",
"RH=60; //Relative humidity\n",
"p_b1=12.2e3;//Vapor pressure at 297 K\n",
"p_b2=6e3; //Vapor pressure at 283 K\n",
"M_w=78; //molecular weight of benzene\n",
"M_a=28; //Mass of nitrogen \n",
"\n",
"//From the definition of percentage relative humidity (RH)\n",
"P_w=(p_b1)*(RH/100);\n",
"//In the benzene -nitrogen mixture:\n",
"m_b=P_w*M_w/(R*T);//mass of benzene\n",
"m_n=(P-P_w)*M_a/(R*T);//mass of nitrogen\n",
"H=m_b/m_n; //Humidity at 297 K\n",
"\n",
"//In order to recover 80 per cent of the benzene, the humidity must be reduced to 20 per cent of the initial value\n",
"H_o=H*.20;\n",
"//Thus in equation 13.2\n",
"P_r=p_b2+(p_b2/M_a*M_w)/H_o;\n",
"printf('\n The required pressure is = %.0f kN/m^2',P_r*1e-3);"
   ]
   }
,
{
		   "cell_type": "markdown",
		   "metadata": {},
		   "source": [
			"## Example 13.2: EX13_2.sce"
		   ]
		  },
  {
"cell_type": "code",
	   "execution_count": null,
	   "metadata": {
	    "collapsed": true
	   },
	   "outputs": [],
"source": [
"clc;\n",
"clear;\n",
"\n",
"printf('\n Example 13.2\n');\n",
"\n",
"P=101.3e3; //Given pressure\n",
"T=300; //Given Temperature\n",
"RH=25; //Percentage relative humidity of water \n",
"P_wo=3.6e3; //partial pressure of water vapour when air is saturated with vapour\n",
"M_w=18; //Molecular weight of water\n",
"M_a=29; //Molecular weight of air\n",
"R=8314; //gas constant\n",
"\n",
"printf('\n (a)\n The partial pressure of the water vapour in the vessel = ')\n",
"P_w=P_wo*(RH/100);\n",
"printf('%.1f kN/m^2',P_w*1e-3);\n",
"\n",
"printf('\n (b)');\n",
"m_w=P_w*M_w/(R*T);//mass of water vapour\n",
"m_a=(P-P_w)*M_a/(R*T);//mass of water air\n",
"Vs_w=1/m_w;//specific volume of water vapour at 0.9 kN/m^2\n",
"Vs_a=1/m_a;//specific volume of air at 100.4 kN/m^2\n",
"printf('\n Specific volume of water vapour = %.0f m^3/kg',Vs_w);\n",
"printf('\n Specific volume of air = %.3f m^3/kg',Vs_a);\n",
"\n",
"H=m_w/m_a;//Humidity\n",
"printf('\n (a)\n Humidity of air = %.4f kg water/kg air',H);\n",
"H_v=Vs_a;//Humid volume\n",
"printf('\n Humid volume = %.3f m^3/kg',H_v);\n",
"\n",
"H_p=(P-P_wo)/(P-P_w)*RH; //Percentage humidity\n",
"printf('\n (d)\n Percentage humidity = %.1f per cent',H_p)"
   ]
   }
,
{
		   "cell_type": "markdown",
		   "metadata": {},
		   "source": [
			"## Example 13.3: Estimation_of_the_humidity_of_the_air_and_the_percentage_relative_humidity.sce"
		   ]
		  },
  {
"cell_type": "code",
	   "execution_count": null,
	   "metadata": {
	    "collapsed": true
	   },
	   "outputs": [],
"source": [
"clc;\n",
"clear;\n",
"\n",
"printf('\n Example 13.3\n');\n",
"\n",
"T=310; //Temperature of moist air\n",
"T_w=300; //Wet bulb tempeature\n",
"L=2440e3; //Latent heat of vapourisation of water at 300 K\n",
"P=105e3; //Given total pressure\n",
"P_wo1=3.6e3; //Vapour pressure of water vapour at 300 K\n",
"P_wo2=6.33e3; //Vapour pressure of water vapour at 310 K\n",
"M_w=18; //Molecular weight of water\n",
"M_a=29; //Molecular weight of air\n",
"\n",
"H_w=(P_wo1/(P-P_wo1))*(M_w/M_a); //The humidity of air saturated at the wet-bulb temperature\n",
"//Therefore, taking (h/hD*rho*A) as 1.0 kJ/kg K, in equation 13.8:\n",
"H=H_w-(1e3/L)*(T-T_w);\n",
"printf('\n The humidity of the air = %.3f kg/kg',H);\n",
"\n",
"//In equation 13.2:\n",
"x=poly([0],'x');\n",
"P_w=roots(H*(P-x)*M_a-M_w*x);\n",
"RH=P_w/P_wo2*100;\n",
"printf('\n The percentage relative humidity (RH)= %.1f per cent',RH);"
   ]
   }
,
{
		   "cell_type": "markdown",
		   "metadata": {},
		   "source": [
			"## Example 13.4: EX13_4.sce"
		   ]
		  },
  {
"cell_type": "code",
	   "execution_count": null,
	   "metadata": {
	    "collapsed": true
	   },
	   "outputs": [],
"source": [
"clc;\n",
"clear;\n",
"\n",
"printf('Example 13.4');\n",
"\n",
"//Refer HUMIDITY ENTHALPY PLOT Figure 13.5 Page 748 as Humidity Chart\n",
"//According the given passes and situatuion\n",
"T = [325 301 308 312 315]        //[K]\n",
"H = [.005 .015 .022 .027 .032]    //[kg/kg]\n",
"//From Humidity Chart on humidifying to 60 percent humidity\n",
"Tw = [296 301 305 307]            //[K]\n",
"\n",
"Hin = H(5)-H(1)            //[kg/kg] Increase in Humidity\n",
"\n",
"printf('\n\n (a) The temperature of the material on each tray (in Kelvin)')\n",
"disp(Tw);\n",
"printf(' Thus the air leaving the system is at %i K and 60 per cent humidity.',T(5));\n",
"\n",
"//From Humitidy Chart at the obtained leaving conditions\n",
"v = .893         //[m^3/kg] Specific Volume of dry air\n",
"vs = .968        //[m^3/kg] Specific Volume of Saturated air\n",
"vh = .937        //[m^3/kg] Humid Volume of air of 60 per cent humidity by Interpolation of Curve in Humidity Chart\n",
"x = 5        //[m^3/s] Amount of moist air leaves the dryer in (b)\n",
"m = x/vh        //[kg/s] Mass of air passing through the dryer\n",
"mw = m*Hin      //  [kg/s] Mass of water evaporated\n",
"\n",
"printf('\n\n (b) If 5 m^3/s moist air leaves the dryer, The amount of water removed is %.3f kg/s.',mw)\n",
"Tb = 370            //[K] dry Bulb temperature corresponding to humidity of .005 kg/kg and wet-bulb temperature 307 K\n",
"printf('\n\n (c) The Temperature to which the inlet air would have to be raised to carry out the drying in single stage is %i K.',Tb)\n",
"\n",
"//END"
   ]
   }
,
{
		   "cell_type": "markdown",
		   "metadata": {},
		   "source": [
			"## Example 13.5: Calculation_of_enthalpy_humidity_and_temperature_of_resultant_stream.sce"
		   ]
		  },
  {
"cell_type": "code",
	   "execution_count": null,
	   "metadata": {
	    "collapsed": true
	   },
	   "outputs": [],
"source": [
"clc;\n",
"clear;\n",
"\n",
"printf('Example 13.5\n')\n",
"\n",
"G1=1; //flow rate of air at 350 K\n",
"PH1=10; //Percentage Humidity at 350 K\n",
"G2=5; //flow rate of air at 300 K\n",
"PH2=30; //Percentage Humidity at 300 K\n",
"\n",
"//from fig 13.4\n",
"H1=0.043; //Humidity at 350 K and 10 percent humidity\n",
"H2=0.0065; //Humidity at 300 K and 30 percent humidity\n",
"//Thus, in equation 13.23:\n",
"H=((G1*H1)+(G2*H2))/(G1+G2);\n",
"printf('\n Humidity of final stream = %.4f kg/kg',H);\n",
"\n",
"//from fig 13.5\n",
"H_1=192e3;//Entahlpy at 350 K and 10 percent humidity\n",
"H_2=42e3;//Enthalpy at 300 K and 30 percent humidity\n",
"x=poly([0],'x');\n",
"H_=roots((G1*(x-H_1))-(G2*(H_2-x)));\n",
"printf('\n Entahlpy of the resultant stream = %.0f kJ/kg',H_*1e-3);\n",
"\n",
"//From Figure 13.5:\n",
"//at H_ (Enthalpy)= 67 kJ/kg and H(humidity) = 0.0125 kg/kg\n",
"T=309;\n",
"printf('\n Temperature of the resultant stream = %d K',T);"
   ]
   }
,
{
		   "cell_type": "markdown",
		   "metadata": {},
		   "source": [
			"## Example 13.6: Calculation_of_temperature_enthalpy_and_relative_humidity_of_mixed_stream.sce"
		   ]
		  },
  {
"cell_type": "code",
	   "execution_count": null,
	   "metadata": {
	    "collapsed": true
	   },
	   "outputs": [],
"source": [
"clc;\n",
"clear;\n",
"\n",
"printf('Example 13.6\n')\n",
"\n",
"G_s=0.15; //Mass flow rate of steam\n",
"T=400; //Temperature to which steam is superheated\n",
"T_a=320;//Tremperature of air \n",
"RH_a=20; //Percentage relative humidity of air\n",
"G_a=5;//Mass flow rate of air\n",
"L=2258e3; //latent heat of steam\n",
"Cp=2e3; //Specific heat of superheated steam\n",
"//Enthalpy of steam\n",
"H_3=4.18*(373-273)+L+Cp*(T-373);\n",
"//From Figure .13.5:\n",
"//at T=320 K and 20 percent Relative Humidity\n",
"H1=0.013;//Humidity\n",
"H_1=83e3;//Enthalpy\n",
"//By making required constructions we get\n",
"H=0.043;\n",
"printf('\n Relative humidity of stream= %.3f kg/kg',H);\n",
"H_=165e3;\n",
"printf('\n Entahlpy of stream = %d kJ/kg',H_*1e-3);\n",
"T_s=324;\n",
"printf('\n Temperature of stream = %d K',T_s);\n",
"\n",
"printf('\n\n When exit temperature = 330 K');\n",
"//from chart and equation 13.28\n",
"G_case2=0.41;\n",
"printf('\n The required flow of steam = %.2f kg/s',G_case2);\n",
"printf('\n humidity of this mixture = %.3f kg/kg',0.094);"
   ]
   }
],
"metadata": {
		  "kernelspec": {
		   "display_name": "Scilab",
		   "language": "scilab",
		   "name": "scilab"
		  },
		  "language_info": {
		   "file_extension": ".sce",
		   "help_links": [
			{
			 "text": "MetaKernel Magics",
			 "url": "https://github.com/calysto/metakernel/blob/master/metakernel/magics/README.md"
			}
		   ],
		   "mimetype": "text/x-octave",
		   "name": "scilab",
		   "version": "0.7.1"
		  }
		 },
		 "nbformat": 4,
		 "nbformat_minor": 0
}
