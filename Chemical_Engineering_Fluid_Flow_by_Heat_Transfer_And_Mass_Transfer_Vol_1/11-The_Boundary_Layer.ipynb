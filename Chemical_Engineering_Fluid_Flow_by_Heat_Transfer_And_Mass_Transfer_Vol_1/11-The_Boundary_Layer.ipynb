{
"cells": [
 {
		   "cell_type": "markdown",
	   "metadata": {},
	   "source": [
       "# Chapter 11: The Boundary Layer"
	   ]
	},
{
		   "cell_type": "markdown",
		   "metadata": {},
		   "source": [
			"## Example 11.1: Calculation_of_total_drag_force_acting_on_a_surface.sce"
		   ]
		  },
  {
"cell_type": "code",
	   "execution_count": null,
	   "metadata": {
	    "collapsed": true
	   },
	   "outputs": [],
"source": [
"clc;\n",
"clear;\n",
"\n",
"printf('\n Example 11.1\n');\n",
"\n",
"u_s=1; //Velocity of water\n",
"w=0.6; //Width of plane surface\n",
"l=1; //Length of plane surface\n",
"A=0.6*1; //Area of the surface\n",
"//Taking\n",
"Meu=1e-3;//Viscosity of water\n",
"rho=1000; //Density of water\n",
"//Mean value of S/pw2 from equation 11.41\n",
"//X=R/(rho*u^2)\n",
"X=0.00214;\n",
"F=X*rho*u_s^2*A;\n",
"printf('\n Total drag force = %.2f N',F);"
   ]
   }
,
{
		   "cell_type": "markdown",
		   "metadata": {},
		   "source": [
			"## Example 11.2: Calculation_of_thickness_and_displacement_thickness_of_the_boundary_layer.sce"
		   ]
		  },
  {
"cell_type": "code",
	   "execution_count": null,
	   "metadata": {
	    "collapsed": true
	   },
	   "outputs": [],
"source": [
"clc;\n",
"clear;\n",
"\n",
"printf('\n Example 11.2\n');\n",
"\n",
"x=150e-3; //Distance from leading edge where thicness is to be found\n",
"Meu_o=0.05; //viscosity of oil\n",
"rho_o=1000; //Density of oil\n",
"u=0.3; //Velocity of flow\n",
"\n",
"Re_x=x*u*rho_o/Meu_o;\n",
"//For streamline flow:\n",
"//from equation 11.17\n",
"del=4.64*x/Re_x^0.5;//thickness of the boundary layer\n",
"printf('\n The thickness of the boundary layer = %.1f mm',del*1e3);\n",
"//from equation 11.20\n",
"del_star=0.375*del;\n",
"printf('\n The displacement thickness = %.1f mm',del_star*1e3);"
   ]
   }
,
{
		   "cell_type": "markdown",
		   "metadata": {},
		   "source": [
			"## Example 11.3: Calculation_of_the_thickness_of_the_laminar_sublayer_and_velocity_of_the_benzene.sce"
		   ]
		  },
  {
"cell_type": "code",
	   "execution_count": null,
	   "metadata": {
	    "collapsed": true
	   },
	   "outputs": [],
"source": [
"clc;\n",
"clear;\n",
"\n",
"printf('\n Example 11.3\n');\n",
"\n",
"D=50e-3; //Diameter of the pipe\n",
"Q=2e-3; //Flow rate of benzene through pipe\n",
"rho_b=870; //Density of benzene\n",
"Meu_b=0.7e-3; //Viscosity of benzene\n",
"\n",
"G=Q*rho_b; //Mass flow rate of benzene\n",
"Re=4*G/(Meu_b*%pi*D); //Reynolds number\n",
"\n",
"//From equation 11.49:\n",
"del_b=62*D*Re^(-7/8);\n",
"printf('\n The thickness of the laminar sub-layer = %.3f mm',del_b*1e3);\n",
"\n",
"area=%pi/4*D^2; //Cross sectional are of pipe\n",
"u=G/(rho_b*area); //mean velocity\n",
"\n",
"//From equation 11.47:\n",
"u_b=2.49*u*Re^(-1/8);\n",
"printf('\n The velocity of the benzene at the edge of the laminar sub-layer = %.3f m/s',u_b);"
   ]
   }
],
"metadata": {
		  "kernelspec": {
		   "display_name": "Scilab",
		   "language": "scilab",
		   "name": "scilab"
		  },
		  "language_info": {
		   "file_extension": ".sce",
		   "help_links": [
			{
			 "text": "MetaKernel Magics",
			 "url": "https://github.com/calysto/metakernel/blob/master/metakernel/magics/README.md"
			}
		   ],
		   "mimetype": "text/x-octave",
		   "name": "scilab",
		   "version": "0.7.1"
		  }
		 },
		 "nbformat": 4,
		 "nbformat_minor": 0
}
