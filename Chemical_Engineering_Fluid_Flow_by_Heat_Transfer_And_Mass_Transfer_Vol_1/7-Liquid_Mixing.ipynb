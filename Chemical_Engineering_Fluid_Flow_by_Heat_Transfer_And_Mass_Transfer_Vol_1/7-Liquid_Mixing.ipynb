{
"cells": [
 {
		   "cell_type": "markdown",
	   "metadata": {},
	   "source": [
       "# Chapter 7: Liquid Mixing"
	   ]
	},
{
		   "cell_type": "markdown",
		   "metadata": {},
		   "source": [
			"## Example 7.2: Calculation_of_the_power_provided_by_the_propeller_to_the_liquid.sce"
		   ]
		  },
  {
"cell_type": "code",
	   "execution_count": null,
	   "metadata": {
	    "collapsed": true
	   },
	   "outputs": [],
"source": [
"clc;\n",
"clear;\n",
"\n",
"printf('\n Example 7.2\n');\n",
"\n",
"rho_sol=1650;//Density of the solution\n",
"printf('\n Given \n Density of the solution = %d kg/m^3',rho_sol);\n",
"Meu_sol=50e-3;//Viscosity of the solution\n",
"printf('\n Viscosity of the solution = %d mN s/m^2',Meu_sol*1e3);\n",
"Dt=2.28;//Density of the tank\n",
"printf('\n Density of the tank = %.2f m',Dt);\n",
"D=0.5;//Diameter of the propeller mixer\n",
"printf('\n Diameter of the propeller mixer = %.2f m',D);\n",
"H=2.28;//Liquid depth\n",
"printf('\n Liquid depth = %.2f m',H);\n",
"Za=0.5;//Height of the propeller\n",
"printf('\n Height of the propeller = %.1f m',Za);\n",
"N=2;//Rotational speed\n",
"//In this problem the geometrical arrangement corresponds with the configuration for which the curves in Figure 7.6 are applicable.\n",
"Re=D^2*N*rho_sol/(Meu_sol);\n",
"Fr=N^2*D/9.81;\n",
"//From figure 7.6\n",
"Np=0.5;\n",
"P=Np*rho_sol*N^3*D^5;\n",
"printf('\n\n Calculations:\n Power provided by propeller to the liquid = %.0f W',P);"
   ]
   }
,
{
		   "cell_type": "markdown",
		   "metadata": {},
		   "source": [
			"## Example 7.3: Determining_new_power_consumption_reynolds_number_and_rotor_speed.sce"
		   ]
		  },
  {
"cell_type": "code",
	   "execution_count": null,
	   "metadata": {
	    "collapsed": true
	   },
	   "outputs": [],
"source": [
"clc;\n",
"clear;\n",
"printf('Example 7.3\n');\n",
"d=0.6;//Tank diameter\n",
"N1=4;//Rotor dpeed in Hertz\n",
"P1=0.15;//Power consumption\n",
"Re1=160000;//Reynold's number\n",
"//The correlation of power consumption and Reynolds number is given by:\n",
"//equation (7.13)\n",
"printf('\n For Constant impeller tip speed \n');\n",
"D1=d/3;\n",
"D2=6*D1;\n",
"N2=%pi*N1*D1/(%pi*D2);\n",
"printf('\n The new rotor speed = %.2f Hz',N2);\n",
"//from eq(1) of the solution\n",
"P2=7.32*N2^3*D2^5;\n",
"printf('\n The new power required = %.2f kW',P2);\n",
"//For thermal similarity, that is the same temperature in both systems:\n",
"Re2=Re1*(N2*D2^2/(N1*D1^2));\n",
"printf('\n The new reynolds number = %d',Re2);\n",
"printf('\n\n For Constant power input per unit volume\n');\n",
"V2=(%pi/4)*(6*d)^3;\n",
"P=V2*0.884;\n",
"printf('\n The new power required = %.2f kW',P);\n",
"N=(P/(7.32*(6*0.6/3)^5))^(1/3);\n",
"printf('\n The new rotor speed = %.2f Hz',N);\n",
"Re=Re1*(N*D2^2/(N1*D1^2));\n",
"printf('\n The new reynolds number = %d',Re);"
   ]
   }
],
"metadata": {
		  "kernelspec": {
		   "display_name": "Scilab",
		   "language": "scilab",
		   "name": "scilab"
		  },
		  "language_info": {
		   "file_extension": ".sce",
		   "help_links": [
			{
			 "text": "MetaKernel Magics",
			 "url": "https://github.com/calysto/metakernel/blob/master/metakernel/magics/README.md"
			}
		   ],
		   "mimetype": "text/x-octave",
		   "name": "scilab",
		   "version": "0.7.1"
		  }
		 },
		 "nbformat": 4,
		 "nbformat_minor": 0
}
