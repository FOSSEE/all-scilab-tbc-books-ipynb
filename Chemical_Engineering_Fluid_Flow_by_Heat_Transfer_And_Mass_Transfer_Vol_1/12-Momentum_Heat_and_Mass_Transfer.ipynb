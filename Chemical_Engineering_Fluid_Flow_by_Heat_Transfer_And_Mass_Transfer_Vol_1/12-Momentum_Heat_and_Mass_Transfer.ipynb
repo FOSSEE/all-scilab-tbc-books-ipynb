{
"cells": [
 {
		   "cell_type": "markdown",
	   "metadata": {},
	   "source": [
       "# Chapter 12: Momentum Heat and Mass Transfer"
	   ]
	},
{
		   "cell_type": "markdown",
		   "metadata": {},
		   "source": [
			"## Example 12.1: Calculation_of_thickness_of_laminar_sub_layer.sce"
		   ]
		  },
  {
"cell_type": "code",
	   "execution_count": null,
	   "metadata": {
	    "collapsed": true
	   },
	   "outputs": [],
"source": [
"clc;\n",
"clear;\n",
"\n",
"printf('\n Example 12.1\n');\n",
"\n",
"d=250e-3; //internal diameter of pipe\n",
"u=15; //Velocity of air through the pipe\n",
"y1=50e-3; //First point where velocity is to be found out\n",
"y2=5e-3; //Second point where velocity is to be found out\n",
"rho_air=1.10; //Density of air\n",
"Meu_air=20e-6; //Viscosity of air\n",
"\n",
"Re=d*u*rho_air/Meu_air;\n",
"//Hence, from Figure 3.7: X=R/(rho*u^2)=0.0018\n",
"X=0.0018;\n",
"u_s=u/0.817;\n",
"u_star=u*X^0.5;\n",
"\n",
"//At 50 mm from the wall:\n",
"y1_r=2*y1/d;// y/r\n",
"//Hence, from equation 12.34:\n",
"u_x1=u_s+2.5*u_star*log(y1_r);\n",
"printf('\n The fluid velocity at 50 mm from the wall = %.1f m/s',u_x1);\n",
"\n",
"//At 5 mm from the wall:\n",
"y2_r=2*y2/d;// y/r\n",
"//Hence, from equation 12.34:\n",
"u_x2=u_s+2.5*u_star*log(y2_r);\n",
"printf('\n The fluid velocity at 5 mm from the wall = %.1f m/s',u_x2);\n",
"\n",
"//The thickness of the laminar sub-layer is given by equation 12.54:\n",
"del_b=5*d/(Re*X^0.5);\n",
"printf('\n The thickness of the laminar sub-layer = %.3f mm',del_b*1e3);"
   ]
   }
,
{
		   "cell_type": "markdown",
		   "metadata": {},
		   "source": [
			"## Example 12.2: Estimation_of_the_air_temperature_at_a_given_point_along_the_pipe.sce"
		   ]
		  },
  {
"cell_type": "code",
	   "execution_count": null,
	   "metadata": {
	    "collapsed": true
	   },
	   "outputs": [],
"source": [
"clc;\n",
"clear;\n",
"\n",
"printf('\n Example 12.2\n');\n",
"\n",
"u=10; //Velocity of air\n",
"T=330; //Temperature of air\n",
"d=25e-3; //Inner diameter of pipe\n",
"T_p=415; //Temperature at which the pipe is maintained\n",
"DP_l=80; //Drop of static pressure along the pipe per unit length\n",
"\n",
"//From equations 12.98 and 3.18:\n",
"//we get h=0.05*Cp\n",
"//The heat taken up per unit time by the air dQ=0.0052*Cp*dT......(i)\n",
"//The heat transferred through the pipe wall is also given by: = 0.039*Cp*(415-T)......(ii)\n",
"//Equating (i) & (ii)\n",
"//On integrating we get\n",
"T_0=415-(85/exp(0.45))\n",
"printf('\n The required air Temperature = %d K',T_0);"
   ]
   }
,
{
		   "cell_type": "markdown",
		   "metadata": {},
		   "source": [
			"## Example 12.3: Estimation_of_outlet_temperature_by_different_methods.sce"
		   ]
		  },
  {
"cell_type": "code",
	   "execution_count": null,
	   "metadata": {
	    "collapsed": true
	   },
	   "outputs": [],
"source": [
"clc;\n",
"clear;\n",
"\n",
"printf('\n Example 12.3\n');\n",
"\n",
"u=3.5; //Velocity of water\n",
"d=25e-3; //Diameter of the pipe\n",
"l=6; //Length of the pipe\n",
"T1=300; //Temperature at enterance\n",
"T2=330; //Temperature at exit\n",
"rho=1000; //density of water at 310 K\n",
"Meu=0.7e-3; //Viscosity of water at 310 K\n",
"//Taking the fluid properties at 310 K and assuming that fully developed flow exists\n",
"Cp=4.18e3; //heat capapcity\n",
"k=0.65; //Thermal conductivity\n",
"\n",
"Re=d*u*rho/Meu;\n",
"Pr=Cp*Meu/k;\n",
"\n",
"printf('\n (a) Reynolds analogy');\n",
"h1=0.032*(Re^-0.25)*Cp*rho*u;//....Equation 12.139\n",
"printf('\n h = %.2f kW/m^2 K',h1*1e-3);\n",
"// on solving we get final equation as\n",
"theta_dash1=330-10^(log10(30)-(0.0654*h1*1e-3/2.303));\n",
"printf('\n The outlet temperature = %.1f K',theta_dash1)\n",
"\n",
"printf('\n\n (b) Taylor Prandtl Equation');\n",
"h2=0.032*(Re^-0.25)*(1+2*Re^(-1/8)*(Pr-1))^-1*Cp*rho*u;\n",
"printf('\n h = %.2f kW/m^2 K',h2*1e-3);\n",
"// on solving we get final equation as\n",
"theta_dash2=330-10^(log10(30)-(0.0654*h2*1e-3/2.303));//....Equation 12.140\n",
"printf('\n The outlet temperature = %.1f K',theta_dash2)\n",
"\n",
"printf('\n\n (c) Universal velocity profile equation');\n",
"h3=0.032*(Re^-0.25)*(1+0.82*Re^(-1/8)*((Pr-1)+log(0.83*Pr+0.17)))^-1*Cp*rho*u;//...equation 12.141\n",
"printf('\n h = %.2f kW/m^2 K',h3*1e-3);\n",
"// on solving we get final equation as\n",
"theta_dash3=330-10^(log10(30)-(0.0654*h3*1e-3/2.303));\n",
"printf('\n The outlet temperature = %.1f K',theta_dash3)\n",
"\n",
"printf('\n\n (d) Nu=0.023*Re^0.8*Pr^0.33');\n",
"h4=k/d*0.023*Re^0.8*Pr^0.33;\n",
"printf('\n h = %.2f kW/m^2 K',h4*1e-3);\n",
"// on solving we get final equation as\n",
"theta_dash4=330-10^(log10(30)-(0.0654*h4*1e-3/2.303));\n",
"printf('\n The outlet temperature = %.1f K',theta_dash4)"
   ]
   }
,
{
		   "cell_type": "markdown",
		   "metadata": {},
		   "source": [
			"## Example 12.4: Estimation_of_outlet_temperature_by_different_methods.sce"
		   ]
		  },
  {
"cell_type": "code",
	   "execution_count": null,
	   "metadata": {
	    "collapsed": true
	   },
	   "outputs": [],
"source": [
"clc;\n",
"clear;\n",
"\n",
"printf('\n Example 12.4\n');\n",
"\n",
"u=3.5; //Velocity of air\n",
"d=25e-3; //Diameter of the pipe\n",
"l=6; //Length of the pipe\n",
"T1=290; //Temperature at enterance\n",
"T2=350; //Temperature at exit\n",
"rho=29/22.4*273/310; //density of air at 310 K\n",
"Meu=0.018e-3; //Viscosity of air at 310 K\n",
"//Taking the physical properties at 310 K and assuming that fully developed flow exists\n",
"Cp=1.003e3; //heat capapcity\n",
"k=0.024; //Thermal conductivity\n",
"\n",
"Re=d*u*rho/Meu;\n",
"Pr=Cp*Meu/k;\n",
"\n",
"printf('\n (a) Reynolds analogy');\n",
"h1=0.032*(Re^-0.25)*Cp*rho*u;//....Equation 12.139\n",
"printf('\n h = %.2f W/m^2 K',h1);\n",
"// on solving we get final equation as\n",
"theta_dash1=350-10^(log10(60)-(239.88*h1*1e-3/2.303));\n",
"printf('\n The outlet temperature = %.1f K',theta_dash1)\n",
"\n",
"printf('\n\n (b) Taylor Prandtl Equation');\n",
"h2=0.032*(Re^-0.25)*(1+2*Re^(-1/8)*(Pr-1))^-1*Cp*rho*u;\n",
"printf('\n h = %.2f W/m^2 K',h2);\n",
"// on solving we get final equation as\n",
"theta_dash2=350-10^(log10(60)-(239.88*h2*1e-3/2.303));//....Equation 12.140\n",
"printf('\n The outlet temperature = %.1f K',theta_dash2)\n",
"\n",
"printf('\n\n (c) Universal velocity profile equation');\n",
"h3=0.032*(Re^-0.25)*(1+0.82*Re^(-1/8)*((Pr-1)+log(0.83*Pr+0.17)))^-1*Cp*rho*u;//...equation 12.141\n",
"printf('\n h = %.2f W/m^2 K',h3);\n",
"// on solving we get final equation as\n",
"theta_dash3=350-10^(log10(60)-(239.88*h3*1e-3/2.303));\n",
"printf('\n The outlet temperature = %.1f K',theta_dash3)\n",
"\n",
"printf('\n\n (d) Nu=0.023*Re^0.8*Pr^0.33');\n",
"h4=k/d*0.023*Re^0.8*Pr^0.33;\n",
"printf('\n h = %.2f W/m^2 K',h4);\n",
"// on solving we get final equation as\n",
"theta_dash4=350-10^(log10(60)-(239.88*h4*1e-3/2.303));\n",
"printf('\n The outlet temperature = %.1f K',theta_dash4)"
   ]
   }
],
"metadata": {
		  "kernelspec": {
		   "display_name": "Scilab",
		   "language": "scilab",
		   "name": "scilab"
		  },
		  "language_info": {
		   "file_extension": ".sce",
		   "help_links": [
			{
			 "text": "MetaKernel Magics",
			 "url": "https://github.com/calysto/metakernel/blob/master/metakernel/magics/README.md"
			}
		   ],
		   "mimetype": "text/x-octave",
		   "name": "scilab",
		   "version": "0.7.1"
		  }
		 },
		 "nbformat": 4,
		 "nbformat_minor": 0
}
