{
"cells": [
 {
		   "cell_type": "markdown",
	   "metadata": {},
	   "source": [
       "# Chapter 9: Heat Transfer"
	   ]
	},
{
		   "cell_type": "markdown",
		   "metadata": {},
		   "source": [
			"## Example 9.10: Calculation_of_pressure_drop_over_tube_bundle.sce"
		   ]
		  },
  {
"cell_type": "code",
	   "execution_count": null,
	   "metadata": {
	    "collapsed": true
	   },
	   "outputs": [],
"source": [
"clc;\n",
"clear;\n",
"\n",
"printf('\n Example 9.10\n');\n",
"\n",
"G=15;//Mass flow rate of benzene\n",
"d_s=1; //Internal diameter of Heat Exchanger\n",
"l=5; //Length of tubes\n",
"od=19e-3; //Outer diameter of tubes\n",
"C=6e-3; //Clearance\n",
"l_b=0.25; //Baffle spacing\n",
"Meu=.5e-3;\n",
"Y=25e-3; //dimension of square pitch\n",
"N=19; //no. of Baffles\n",
"\n",
"As=d_s*l_b*C/Y; //Cross-flow area\n",
"printf('\n Cross-flow area = %.2f m^2',As);\n",
"G_dash_s=G/As; //Mass flow\n",
"printf('\n Mass flow = %d kg/m^2 s',G_dash_s);\n",
"d_e=4*(Y^2-(%pi*od^2/4))/(%pi*od);//Equivalent Diameter\n",
"printf('\n Equivalent Diameter = %.4f m',d_e);\n",
"Re=G_dash_s*d_e/Meu;\n",
"//From Figure 9.29:\n",
"f_dash=.280;\n",
"rho_b=881;//density of benzene\n",
"DPf=f_dash*G_dash_s^2*(N+1)*d_s/(2*rho_b*d_e);\n",
"printf('\n The pressure drop over the tube bundle = %.0f N/m^2',DPf);\n",
"printf('\n\t\t\t\t\t= %.0f m of Benzene',DPf/(rho_b*9.81));\n",
"\n",
""
   ]
   }
,
{
		   "cell_type": "markdown",
		   "metadata": {},
		   "source": [
			"## Example 9.11: Calculation_of_heat_transfer_coefficient.sce"
		   ]
		  },
  {
"cell_type": "code",
	   "execution_count": null,
	   "metadata": {
	    "collapsed": true
	   },
	   "outputs": [],
"source": [
"clc;\n",
"clear;\n",
"\n",
"printf('\n Example 9.11\n');\n",
"\n",
"d=0.15; //Diameter of pipe\n",
"Ts=400; //Surface temperature\n",
"Ta=294; //Air temperture\n",
"//Over a wide range of temperature, k^4*(beta*g*rho^2*Cp/(Meu*k)) = 36.0\n",
"//For air at a mean temperature i.e. 347 K\n",
"k=0.0310; //Thermal conductivity ---Table 6, Appendix A1\n",
"//X=beta*g*rho^2*Cp/(Meu*k)\n",
"X=36/k^4;\n",
"//From Equation 9.102:\n",
"GrPr=X*(Ts-Ta)*d^3;\n",
"//From Table 9.5:\n",
"n=0.25;\n",
"C_dd=1.32;\n",
"//Thus, in Equation 9.104:\n",
"h=C_dd*(Ts-Ta)^n*d^(3*n-1);\n",
"printf('\n The heat transfer coefficient = %.2f W/m^2 K',h);"
   ]
   }
,
{
		   "cell_type": "markdown",
		   "metadata": {},
		   "source": [
			"## Example 9.12: Calculation_of_temperature_of_a_surface_coated_with_carbon_black.sce"
		   ]
		  },
  {
"cell_type": "code",
	   "execution_count": null,
	   "metadata": {
	    "collapsed": true
	   },
	   "outputs": [],
"source": [
"clc;\n",
"clear;\n",
"\n",
"printf('\n Example 9.12\n');\n",
"\n",
"lambda=1e-6;//Wavelength\n",
"E_l_b=1e9; //Emissive power at given lambda\n",
"\n",
"//From equation 9.108\n",
"C2=1.439e-2;\n",
"C1=3.742e-16;\n",
"T=C2/lambda/log(C1/(E_l_b*lambda^5));\n",
"printf('\n The temperature of surface = %d K',T);\n",
"//With an error of +2 per cent, the correct value is given by:\n",
"E_l_b_n=(100-2)*E_l_b/100;\n",
"//In equation 9.108:\n",
"T_n=C2/lambda/log(C1/(E_l_b_n*lambda^5));\n",
"printf('\n The temperature of surface with +2 per cent error= %.0f K',T_n);"
   ]
   }
,
{
		   "cell_type": "markdown",
		   "metadata": {},
		   "source": [
			"## Example 9.13: Calculation_of_number_of_heating_elements.sce"
		   ]
		  },
  {
"cell_type": "code",
	   "execution_count": null,
	   "metadata": {
	    "collapsed": true
	   },
	   "outputs": [],
"source": [
"clc;\n",
"clear;\n",
"\n",
"printf('\n Example 9.13\n');\n",
"\n",
"d=10e-3; //Diameter of carbide elements\n",
"l=0.5; //Length of carbide elements\n",
"Ts=1750; //Maximun surface temperature of carbide\n",
"P=500e3; //Thermal power output required\n",
"sigma=5.67e-8;\n",
"\n",
"//From equation 9.112, the total emissive power is given by:\n",
"Eb=sigma*Ts^4;\n",
"printf('\n The total emissive power is = %.2f *10^5 W/m^2',Eb*1e-5);\n",
"A=%pi*d*l;\n",
"printf('\n The area of one element = %.3f *10^-2 m^2',A*1e2);\n",
"P1=Eb*A;//Power dissipated by one element\n",
"printf('\n Power dissipated by one element = %.3f *10^3 W',P1*1e-3);\n",
"n=P/P1; //Number of elements required\n",
"printf('\n Number of elements required = %.0f ',n);"
   ]
   }
,
{
		   "cell_type": "markdown",
		   "metadata": {},
		   "source": [
			"## Example 9.14: Calculation_of_emissivity_of_a_grey_surface.sce"
		   ]
		  },
  {
"cell_type": "code",
	   "execution_count": null,
	   "metadata": {
	    "collapsed": true
	   },
	   "outputs": [],
"source": [
"clc;\n",
"clear;\n",
"\n",
"printf('\n Example 9.14\n');\n",
"\n",
"A=10; //Area of the surface\n",
"P_r=1000e3; //Power radiated\n",
"T1=1500; //First Temperature\n",
"T2=1600; //Second Temperatue\n",
"sigma=5.67e-8;\n",
"\n",
"E=P_r/A; //The emissive Power\n",
"printf('\n The emissive Power when T=1500 K = %d kW',E*1e-3);\n",
"//From equation 9,118:\n",
"e=E/(sigma*T1^4);\n",
"printf('\n Emissivity when T=1500 K = %.3f',e);\n",
"E2=e*sigma*T2^4;\n",
"printf('\n The Emissive power when T=1600 K = %.1f kW',E2*1e-3); "
   ]
   }
,
{
		   "cell_type": "markdown",
		   "metadata": {},
		   "source": [
			"## Example 9.15: Calculation_of_the_view_factor_and_net_radiation_transfer.sce"
		   ]
		  },
  {
"cell_type": "code",
	   "execution_count": null,
	   "metadata": {
	    "collapsed": true
	   },
	   "outputs": [],
"source": [
"clc;\n",
"clear;\n",
"\n",
"printf('\n Example 9.15\n');\n",
"\n",
"A1=2; //Area of rectangle(Surface 1)\n",
"A2=%pi*1^2/4; //Area of disc (Surface 2)\n",
"T1=1500; //Temperature of Surface 1\n",
"T2=750; //Temperature of Surface 2\n",
"F12=0.25; //View factor\n",
"sigma=5.67e-8;\n",
"//From equation 9. 1 26:\n",
"F21=A1*F12/A2;\n",
"printf('\n View factor, F12 = %.3f',F21);\n",
"Q12=sigma*A1*F12*(T1^4-T2^4);\n",
"printf('\n The net radiation transfer = %.0f kW',Q12*1e-3);"
   ]
   }
,
{
		   "cell_type": "markdown",
		   "metadata": {},
		   "source": [
			"## Example 9.16: Calculation_of_view_factor_for_3_dimensional_geometry_using_figures.sce"
		   ]
		  },
  {
"cell_type": "code",
	   "execution_count": null,
	   "metadata": {
	    "collapsed": true
	   },
	   "outputs": [],
"source": [
"clc;\n",
"clear;\n",
"\n",
"printf('\n Example 9.16\n');\n",
"\n",
"printf('\n (a)')\n",
"//Using the nomenclature in Figure 9.40 iii;\n",
"X=4;//width of horizontal plate and length vertical plate\n",
"Y=6;//length of horizontal plate\n",
"Z=3;//height of verical plate\n",
"W=Y/X;\n",
"H=Z/X;\n",
"A1=Z*X;//Area of plate 1\n",
"A2=X*Y;//Area of plate 2\n",
"F12=0.12;\n",
"printf('\n View Factor, F12= %.2f',F12);\n",
"//From equation 9.126:\n",
"F21=A1*F12/A2;\n",
"printf('\n View Factor, F21= %.2f',F21);\n",
"printf('\n (b)');\n",
"//For the two spheres\n",
"r1=1; //Diameter of sphere 1\n",
"r2=2; //Diameter of sphere 2\n",
"F12b=1;\n",
"F21b=(r1/r2)^2;\n",
"printf('\n View Factor, F21= %.2f',F21b);\n",
"F22b=1-F21b;\n",
"printf('\n View Factor, F22= %.2f',F22b);"
   ]
   }
,
{
		   "cell_type": "markdown",
		   "metadata": {},
		   "source": [
			"## Example 9.17: Calculation_of_view_factor_of_two_parallel_rings.sce"
		   ]
		  },
  {
"cell_type": "code",
	   "execution_count": null,
	   "metadata": {
	    "collapsed": true
	   },
	   "outputs": [],
"source": [
"clc;\n",
"clear;\n",
"\n",
"printf('\n Example 9.17\n');\n",
"\n",
"ri_u=0.2;// Inner radius of the upper ring\n",
"ro_u=0.3;// Outer radius of the upper ring\n",
"ri_l=0.3;// Inner radius of the lower ring\n",
"ro_l=0.4;// Outer radius of the lower ring\n",
"//F23 = ((A12/A2)*(F12_34))-F12_4-((A1/A2)*(F1_34 - F14))\n",
"//Laying out the data in tabular form and obtaining F from Figure 9.40 ii, y,then\n",
"F12_34=0.4;\n",
"F12_4=0.22;\n",
"F1_34=0.55;\n",
"F14=0.30;\n",
"A12_A2=ro_l^2/(ro_l^2-ri_l^2);\n",
"A1_A2=ro_u^2/(ro_l^2-ri_l^2);\n",
"F23=((A12_A2)*(F12_34-F12_4))+((A1_A2)*(F1_34-F14));\n",
"printf('\n F23 = %.2f',F23);"
   ]
   }
,
{
		   "cell_type": "markdown",
		   "metadata": {},
		   "source": [
			"## Example 9.18: Calculation_of_net_rate_of_heat_transfer_by_radiation_to_the_plate.sce"
		   ]
		  },
  {
"cell_type": "code",
	   "execution_count": null,
	   "metadata": {
	    "collapsed": true
	   },
	   "outputs": [],
"source": [
"clc;\n",
"clear;\n",
"\n",
"printf('\n Example 9.18\n');\n",
"\n",
"d=1; //Diameter of plate\n",
"r1=0.5;\n",
"r4=r1; //Radius of the imaginary disc sealing the hemisphere\n",
"L=r1; //The distance between the plate and the bottom of the dome\n",
"\n",
"A1=%pi*d^2/4; //Area of the plate\n",
"A2=2*%pi*d^2/4; //Area of the underside of the Hemisphere\n",
"A4=%pi*r4^2/4;//Area of an imaginary disc sealing the hemisphere and parallel \n",
"              //to the plate\n",
"T1=750;//Temperature of the plate\n",
"T2=1200;//Temperature of hemispherical cone\n",
"T3=290;//Temperature of the surroundings\n",
"sigma=5.67e-8;\n",
"//from equation 9.134, the net radiation to the surface of the plate 1 is \n",
"//given by:\n",
"//Q1=sigma*A2*F21*(T2^4-T1^4)+sigma*A3*F31(T3^4-T1^4)\n",
"//using the reciprocity rule:\n",
"//Q1=sigma*A1*F12*(T2^4-T1^4)+sigma*A3*F31(T3^4-T1^4)\n",
"//All radiation from the disc 1 to the dome 2 is intercepted by the imaginary \n",
"// disc 4 and hence F\2 = F\4, which may be obtained from Figure 9.39ii, with \n",
"//i and j representing areas 1 and 4 respectively\n",
"R1=r1/L;\n",
"R4=r4/L;\n",
"S=1+(1+R4^2)/(R1^2);\n",
"F14=0.5*(S-(S^2-4*(r4/r1)^2)^0.5);\n",
"F12=F14;\n",
"//The summation rule states that\n",
"//F11+F12+F13=1\n",
"//F11=0\n",
"F13=1-F12;\n",
"Q1=sigma*A1*F12*(T2^4-T1^4)+sigma*A1*F13*(T3^4-T1^4);\n",
"printf('\n the net rate of heat transfer by radiation to the plate = %.1f kW',Q1*1e-3);"
   ]
   }
,
{
		   "cell_type": "markdown",
		   "metadata": {},
		   "source": [
			"## Example 9.19: Calculation_of_radiant_heat_transfer_to_the_vessel.sce"
		   ]
		  },
  {
"cell_type": "code",
	   "execution_count": null,
	   "metadata": {
	    "collapsed": true
	   },
	   "outputs": [],
"source": [
"clc;\n",
"clear;\n",
"\n",
"printf('\n Example 9.19\n');\n",
"d=2; //Diameter of the cylinder\n",
"h=1; //Depth of insulated cylinder\n",
"A1=%pi*d^2/4; //Radiant heater surface\n",
"A2=A1; //Under-Surface of the vessel\n",
"A_R=%pi*d*h;\n",
"T1=1500;\n",
"T2=373;\n",
"//From Figure 9.40ii, with i = 1, j = 2\n",
"r1=1;\n",
"r2=1;\n",
"L=1;\n",
"//The view factor may also be obtained from Figure 9.39ii as follows:\n",
"//Using the nomenclature of Figure 9.39\n",
"R1=r1/L;\n",
"R2=r2/L;\n",
"S=1+(1+R2^2)/(R1^2);\n",
"F12=0.5*(S-(S^2-4*(r2/r1)^2)^0.5);\n",
"sigma=5.67e-8;\n",
"//Using the summation rule\n",
"//F11=0\n",
"F1R=1-F12;;\n",
"F2R=F1R;\n",
"Q2=(A1*F12+((1/(A1*F1R)+(1/(A2*F2R))))^-1)*sigma*(T1^4-T2^4);\n",
"printf('\n The rate of radiant heat transfer to the vessel = %d kW',Q2*1e-3);\n",
"//If the surroundings without insulation are surface 3 at\n",
"T3=290;\n",
"F23=F2R;\n",
"//from equation 9.135\n",
"Q2_d=sigma*A1*F12*(T1^4-T2^4)+sigma*A2*F23*(T3^4-T2^4);\n",
"printf('\n The rate of radiant heat transfer to the vessel\n if the insulation were removed = %.0f kW',Q2_d*1e-3);\n",
"red=(Q2-Q2_d)/Q2*100; //Percentage Reduction\n",
"printf('\n\n Reduction percentage = %.0f per cent',red);"
   ]
   }
,
{
		   "cell_type": "markdown",
		   "metadata": {},
		   "source": [
			"## Example 9.1: EX9_1.sce"
		   ]
		  },
  {
"cell_type": "code",
	   "execution_count": null,
	   "metadata": {
	    "collapsed": true
	   },
	   "outputs": [],
"source": [
"clc;\n",
"clear;\n",
"\n",
"printf('\n Example 9.1\n');\n",
"\n",
"M_dot1=20; //rate of mass to be cooled\n",
"M_dot2=25; //rate of cooling water\n",
"Cp=4.18e3; //Heat capacity\n",
"T1=360; //Initial temp.\n",
"T2=340; //Final temp.\n",
"theta_1=300; //Temperature of cooing water entering\n",
"U=2e3; //Overall heat transfer coefficient\n",
"\n",
"Q=M_dot1*Cp*(T1-T2); //Heat load\n",
"printf('\n Heat load = %.0f kW',Q*1e-3);\n",
"//The cooling water outlet temperature is given by\n",
"x=poly([0],'x');\n",
"theta_2=roots(Q-(M_dot2*Cp*(x-300)));\n",
"printf('\n The cooling water outlet temperature is = %.0f K',theta_2);\n",
"printf('\n (a) Counter flow')\n",
"//In equation 9.9:\n",
"theta_m1=((T1-theta_2)-(T2-theta_1))/(log((T1-theta_2)/(T2-theta_1)));\n",
"A1=Q/(U*theta_m1)\n",
"printf('\n The surface area required %.2f m^2',A1);\n",
"printf('\n (b) Co-current flow')\n",
"//In equation 9.9:\n",
"theta_m2=((T1-theta_1)-(T2-theta_2))/(log((T1-theta_1)/(T2-theta_2)));\n",
"A2=Q/(U*theta_m2)\n",
"printf('\n The surface area required %.2f m^2',A2);"
   ]
   }
,
{
		   "cell_type": "markdown",
		   "metadata": {},
		   "source": [
			"## Example 9.20: EX9_20.sce"
		   ]
		  },
  {
"cell_type": "code",
	   "execution_count": null,
	   "metadata": {
	    "collapsed": true
	   },
	   "outputs": [],
"source": [
"clc;\n",
"clear;\n",
"\n",
"printf('\n Example 9.20\n');\n",
"\n",
"e=0.75; //Emissivity of grey surface\n",
"r=1-e; //reflectivity of surface\n",
"Ts=400; //Temperature of surface\n",
"T_amb=295;\n",
"sigma=5.67e-8;\n",
"q1=3e3; //Rate of radiation arriving at grey surface\n",
"//From equation 9.118\n",
"Eb=sigma*Ts^4;\n",
"printf('\n Emissive Power = %.0f W/m^2',Eb);\n",
"//From equation 9.138\n",
"qo=e*Eb+r*q1;\n",
"printf('\n Radiosity = %.0f W/m^2',qo);\n",
"//From equation 9.140\n",
"Q_A=e/r*(Eb-qo);\n",
"q=Q_A;\n",
"printf('\n The net rate of radiation trasfer = %.0f W/m^2',q);\n",
"printf('\n where the negative value indicates heat transfer to the surface.');\n",
"//For convective heat transfer from the surface\n",
"qc=-1*q;\n",
"hc=qc/(Ts-T_amb);\n",
"printf('\n Coefficient of heat transfer = %.1f W/m^2 K',hc);"
   ]
   }
,
{
		   "cell_type": "markdown",
		   "metadata": {},
		   "source": [
			"## Example 9.21: EX9_21.sce"
		   ]
		  },
  {
"cell_type": "code",
	   "execution_count": null,
	   "metadata": {
	    "collapsed": true
	   },
	   "outputs": [],
"source": [
"clc;\n",
"clear;\n",
"\n",
"printf('\n Example 9.21\n');\n",
"\n",
"sigma=5.67e-8;\n",
"T=[1000 500 300];//tempertaure of surfaces\n",
"//Taking surface 1 as the heater, surface 2 as the heated plate and surface 3 \n",
"//as an imaginary enclosure\n",
"A=[1.07 1.07 0.628];//Array of area of surfaces\n",
"e=[0.75 0.50 1.0];//Array of emissivity of the surfaces\n",
"r=[0.250 0.50];// Array of radius of two surfaces\n",
"//X is ratio of area to radius(A/r)\n",
"//Y = A*e/r\n",
"L=0.2; //distance between two discs\n",
"for i=1:2\n",
"    X(i)=A(i)/r(i);\n",
"    Y(i)=A(i)*e(i)/r(i);\n",
"    R(i)=r(i)/L;\n",
"end\n",
"\n",
"F11=0;\n",
"F22=0;\n",
"S=1+(1+R(2)^2)/(R(2)^2);\n",
"F12=0.5*(S-(S^2-4*(r(2)/(2*r(1)))^2)^0.5);\n",
"A1_F11=0;\n",
"A2_F22=0;\n",
"A1_F12=A(1)*F12;\n",
"A1_F13=A(1)-(A(1)*F11+A(2)*F12);\n",
"//for surface 2:\n",
"A2_F21=A1_F12;\n",
"A2_F23=A1_F13;\n",
"//for surface 3:\n",
"//By reciprocity rule\n",
"A3_F31=A1_F13;\n",
"A3_F32=A2_F23;\n",
"A3_F33=A(3)-(A3_F31+A3_F32);\n",
"\n",
"//From equation 9.112:\n",
"for i=1:3\n",
"    E_b(i)=sigma*T(i)^4/1000;\n",
"end\n",
"\n",
"//Since surface 3 is a black body\n",
"q_o3=E_b(3);\n",
"//From equations 9.157 and 9.158:\n",
"//we get\n",
"\n",
"function [f]=F(x)\n",
"    f(1)=(A1_F11-A(1)/r(1))*x(1)+A2_F21*x(2)+A3_F31*q_o3+E_b(1)*A(1)*e(1)/r(1);\n",
"    f(2)=(A1_F12*x(1))+((A2_F22-A(2)/r(2))*x(2))+E_b(2)*A(2)*e(2)/r(2);\n",
"    funcprot(0);\n",
"endfunction\n",
"\n",
"x=[0 0];\n",
"q_o=fsolve(x,F);\n",
"\n",
"//From equation 9.140:\n",
"Q1=(A(1)*e(1)/r(1))*(E_b(1)-q_o(1));\n",
"Q2=(A(2)*e(2)/r(2))*(E_b(2)-q_o(2));\n",
"printf('\n Power input to the heater = %.1f kW',Q1);\n",
"printf('\n The rate of heat transfer to the plate = %.2f kW',Q2);\n",
"printf('\n where the negative sign indicates heat transfer to the plate')"
   ]
   }
,
{
		   "cell_type": "markdown",
		   "metadata": {},
		   "source": [
			"## Example 9.22: Calculation_of_net_radiation_to_the_walls.sce"
		   ]
		  },
  {
"cell_type": "code",
	   "execution_count": null,
	   "metadata": {
	    "collapsed": true
	   },
	   "outputs": [],
"source": [
"clc;\n",
"clear;\n",
"\n",
"printf('\n Example 9.22\n');\n",
"\n",
"d=0.5;//diameter of chamber\n",
"l=2;//Length of chamber\n",
"e=0.5;//Emissivity\n",
"T_s=750;//Temperature at which the chamber is maintained\n",
"P=150e3;\n",
"T_g=1250;\n",
"sigma=5.67e-8;\n",
"\n",
"//The partial pressures of carbon dioxide (P_c) and of water (P_w) are:\n",
"P_c=0.1*P;\n",
"P_w=P_c;\n",
"//From Table 9.7:\n",
"V=%pi/4*d^2*l;//Volume of the chamber\n",
"A_s=(2*%pi/4*d^2)+(%pi*d*l);//total surface are of chamber\n",
"\n",
"L_e=3.6*(V/A_s);\n",
"//FOR WATER VAPOUR\n",
"//and from Figure 9.44, e_w = 0.075\n",
"//Since P_w*L_e = 0.06 bar m, then from Figure 9.44:\n",
"C_w=1.4;\n",
"e_w1=C_w*0.075;\n",
"//FOR CARBON DIOXIDE\n",
"//Since P = 1.5 bar, Pc = 0.15 bar and P_c*L_e = 0.06 bar m, then, from \n",
"//Figure 9.38:\n",
"//and from Figure 9.45, e_c = 0.037\n",
"C_c1=1.2;\n",
"e_c1=(C_c1*0.037);\n",
"A=(P_w+P_c)*L_e;\n",
"B=P_c/(P_c+P_w)\n",
"//Thus, from Figure 9.45 for T_g > 1203 K, De = 0.001\n",
"//and, from equation 9.160:\n",
"De=0.001;\n",
"e_g=e_w1+0.044-De;\n",
"\n",
"//FOR WATER VAPOUR\n",
"//Since 0.5*(P_w+P)=0.825 bar and P_w*L_e*(Ts/Tg)=P_c*L_e(Ts/Tg)=0.036 bar m,\n",
"//then, from Figure 9.44:C_w=1.4\n",
"e_w2=(0.12*C_w);\n",
"//and the absorptivity, from equation 9.163 is:\n",
"a_w=e_w2*(T_g/T_s)^0.65;\n",
"//FOR CARBON DIOXIDE\n",
"//From Figure 9.45 at 750 K, e_c=0.08\n",
"//From Figure 9.45 at P=1.5 bar and P_c*L_e*(Ts/Tg)= 0.036 bar m:\n",
"C_c2=1.02;\n",
"e_c2=(0.08*C_c2);\n",
"//and the absorptivity, from equation 9.164 is:\n",
"a_c=e_c2*(T_g/T_s)^0.65;\n",
"//P_w/(P_c+Pw)=0.5 and (P_c+P_w)*L_e*(T_s/T_g)=(0.036+0.036)=0.072 bar m\n",
"//Thus, from Figure 9.46, for Tg=813 K, De=Da <0.01 and this may be neglected\n",
"a_g=a_w+a_c;\n",
"//If the surrounding surface is black, then:\n",
"Q=sigma*A_s*(e_g*T_g^4-a_g*T_s^4);\n",
"printf('\n Radiation to the walls if the surface is black = %.1f kW',Q*1e-3);\n",
"//For grey walls, the correction factor allowing for multiple reflection of\n",
"//incident radiation is:\n",
"C_g=0.5/(1-(1-0.326)*(1-0.5));\n",
"Q_w=(Q*C_g);\n",
"printf('\n Net radiation to the walls = %.1f kW',Q_w*1e-3);"
   ]
   }
,
{
		   "cell_type": "markdown",
		   "metadata": {},
		   "source": [
			"## Example 9.23: EX9_23.sci"
		   ]
		  },
  {
"cell_type": "code",
	   "execution_count": null,
	   "metadata": {
	    "collapsed": true
	   },
	   "outputs": [],
"source": [
"clear;\n",
"clc;\n",
"printf('\t Example 9.23\n');\n",
"function[n]=mole(w,m)\n",
"    n = w/m;\n",
"    funcprot(0);\n",
"endfunction\n",
"\n",
"function[p]=partial(n1)\n",
"    p = 308*(n1/total);\n",
"    funcprot(0);\n",
"endfunction\n",
"\n",
"w_steam = 0.57;      //mass flow rate of steam entering in [kg/sec]\n",
"w_CO2 = 0.20;        //mass flow rate of CO2 entering in [kg/sec]\n",
"m_water = 18;        //molecular mass of water in kg\n",
"m_CO2 = 44;          //molecular mass of CO2 in kg\n",
"n_steam = mole(w_steam,m_water);     //number of moles in kmol\n",
"n_CO2 = mole(w_CO2,m_CO2);           //number of moles in kmol\n",
"printf('\n At the entrance there is %.3f kmol steam',n_steam);\n",
"printf('\n At the entrance there is %.4f kmol water',n_CO2);\n",
"total = n_steam + n_CO2;\n",
"printf('\n Total number of moles fed to the condenser per second = %.4f kmol',total);\n",
"p_steam = partial(n_steam);\n",
"p_CO2 = partial(n_CO2);\n",
"printf('\n At the inlet partial pressure is %d kN/m^2 watre',p_steam);\n",
"printf('\n At the inlet there is %d kN/m^2 CO2',p_CO2);\n",
"printf('\n From the Table 11A in the appendix Dew point = %d K',404);\n",
"mean_mol = (0.57 + 0.20)/total;     //mean molecular weight of the mixture in kg/kmol\n",
"\n",
"outlet_steam = 11.7;            //partial pressure of water in kN/m^2\n",
"outlet_CO2 = 308 - outlet_steam; //partial pressure of water in kN/m^2\n",
"printf('\n At the outlet partial pressure is %.1f kN/m^2 water',outlet_steam);\n",
"printf('\n At the outlet there is %.1f kN/m^2 CO2',outlet_CO2);\n",
"n_s = n_CO2*outlet_steam/outlet_CO2;\n",
"steam_condensed = n_steam - n_s;\n",
"printf('\n steam codensed = %.5f kmol',steam_condensed);\n",
"\n",
"printf('\n\n For the interval 404 to 401 K');\n",
"p_steam_401K = 252.2;   //[kN/m^2]\n",
"p_CO2_401K = 308 - 252.2;//[kN/m^2]\n",
"steam_remaining = 0.0045*p_steam_401K/p_CO2_401K;\n",
"s_c = n_steam - steam_remaining;   //[kmol]\n",
"Heat_cond = s_c*18*(2180 + 1.93*(404-401));         //[kW]\n",
"Heat_uncondensed_steam = 0.0203*18*1.93*(404-401);  //[kW]\n",
"Heat_CO2 = 0.020*0.92*(404-401);\n",
"total_heat = Heat_cond + Heat_uncondensed_steam + Heat_CO2;\n",
"printf('\n Heat of condensation = %d kW',Heat_cond);\n",
"printf('\n Heat of uncondensed steam = %.1f kW',Heat_uncondensed_steam);\n",
"printf('\n Heat from CO2 = %.1f kW',Heat_CO2);\n",
"printf('\n Total = %.1f kW',total_heat);\n",
"\n",
"printf('\n\n For other intervals simiarly');\n",
"printf('\n Interval(K)         Heat Load(kW)');\n",
"printf('\n  404 - 401             %.1f      ',total_heat);\n",
"printf('\n  401 - 397             %.1f      ',323.5);\n",
"printf('\n  397 - 380             %.1f      ',343.5);\n",
"printf('\n  380 - 339             %.1f      ',220.1);\n",
"printf('\n  339 - 322             %.1f      ',57.9);\n",
"printf('\n  total                 %.1f      ',total_heat+323.5+343.5+220.1+57.9);\n",
"flow_water = 1407.3/(4.187*(319-300));      //[kg/sec]\n",
"hi = 6.36;       //[kW/m^2 K]Based on flow velocity of 1425 kg/m^2 sec\n",
"ho = 5.25;       //[kW/m^2 K]Based on outside area\n",
"Cp = (0.20*0.92 + 0.57*1.93)/0.77;  //[kJ/kg K]\n",
"printf('\n Mean specific heat, Cp = %.3f kJ/kg K',Cp);\n",
"k_mean = 0.025;   //[kW/m K]\n",
"a = 0.0411;       //[m^2]\n",
"mass_velocity = (0.20+0.57)/0.0411;     //[kg/m^2 sec]\n",
"printf('\n Mass velocity = %.1f kg/m^2 sec',mass_velocity);\n",
"hg = 107;         //[W/m^2 K] at Re = 29,800 at equivalent diameter = 0.024m\n",
"u_pD = 0.62;      //(u/pD)^0.67 = 0.62\n",
"Cpu_k = 1.01;     //(Cp*u/k)^0.67\n",
"Psf = (122.6 - 38)/log(122.6/38);\n",
"kG = hg*(Cpu_k)/(1000*Cp*Psf*u_pD);\n",
"printf('\n\n kG = %.4f',kG);\n",
"\n",
"printf('\n Point  Ts  Tc  UT   UTow  Q     A = Q/(UT)    T   Tow   (Q/T)ow');\n",
"printf('\n  1    404  378 309  -     -        -        84.4  -     -     ');\n",
"printf('\n  2    401  356 228  268.5 468.4   1.75      88.1 86.3     5.42');\n",
"printf('\n  3    397  336 145  186.5 323.5   1.74      88.6 8.4      3.66');\n",
"printf('\n  4    380  312 40.6 88.1  343.5   3.89      76.7 82.7     4.15');\n",
"printf('\n  5    339  302 5.4  17.5  220.1   12.58     38.1 55.2     4.00');\n",
"printf('\n  6    322  300 2.1  3.5   51.9    14.83     22.2 29.6     1.75');\n",
"\n",
"printf('\n Assuming no scale resistance, the overall coefficient = %.3f W/m^ K',1407.3/(34.8*74.2));\n",
"printf('\n The available surface area on the outside of the tubes = 0.060 m^2 or %.1f m^2',246*3.65*0.060);\n",
"printf('\n Actual coeficient = %.3f kW/m^2 K',1407.3/(53.9*74.2));\n",
"printf('\n Dirt factor = %.2f m^2 K/kW',(0.545-0.352)/(0.545*0.352));\n",
"\n",
"\n",
"\n",
"\n",
"\n",
"\n",
"\n",
"\n",
"\n",
"\n",
"\n",
"\n",
"\n",
"\n",
"\n",
"\n",
""
   ]
   }
,
{
		   "cell_type": "markdown",
		   "metadata": {},
		   "source": [
			"## Example 9.24: Calculation_of_overall_heat_transfer_coeffecient.sce"
		   ]
		  },
  {
"cell_type": "code",
	   "execution_count": null,
	   "metadata": {
	    "collapsed": true
	   },
	   "outputs": [],
"source": [
"clc;\n",
"clear;\n",
"\n",
"printf('\n Example 9.24');\n",
"\n",
"d_v=1;//diameter of the vessel\n",
"L=0.3;//diameter of propeller agitator\n",
"N=2.5;//rotating speed of propeller agitator\n",
"T=310;//Temperature\n",
"G=0.5;//circulation speed of cooling water\n",
"d_o=25e-3;//outer diameter of stainless steel coil\n",
"d=22e-3;//inner diameter of stainless steel coil\n",
"d_w=(d_o+d)/2;\n",
"d_c=0.8;//diameter of helix\n",
"T_m=290;//mean temperature\n",
"k1=0.59;\n",
"Meu1=1.08e-3;\n",
"C_p1=4.18e3;\n",
"x_w=1.5e-3;\n",
"\n",
"//From equations 9.202 and 9.203, the inside film coefficient for the water\n",
"//is given by:\n",
"h_i=(k1/d)*(1+3.5*(d/d_c))*0.023*(d*1315/Meu1)^0.8*(C_p1*Meu1/k1)^0.4;\n",
"//The external film coefficient is given by equation 9.204:\n",
"C_p2=1.88e3;//Specefic heat capacity\n",
"Meu2=6.5e-3;//viscosity\n",
"k2=0.40;\n",
"rho=1666;\n",
"Meu_s=8.6e-3;\n",
"h_o=0.87*(C_p2*Meu2/k2)^(1/3)*(L^2*N*rho/Meu2)^0.62*(Meu2/Meu_s)^0.14*k2/d_v;\n",
"\n",
"k_w=15.9;\n",
"R_o=0.0004;\n",
"R_i=0.0002;\n",
"U_o=((1/h_o)+(x_w*d_o/(k_w*d_w))+(d_o/(h_i*d))+(R_o)+(R_i*d_o/d))^-1;\n",
"printf('\n\n The overall coeffecient of heat transfer = %.0f W/m^2.K',U_o);\n",
""
   ]
   }
,
{
		   "cell_type": "markdown",
		   "metadata": {},
		   "source": [
			"## Example 9.25: To_calculate_the_time_required_fo_heating_the_liquid.sce"
		   ]
		  },
  {
"cell_type": "code",
	   "execution_count": null,
	   "metadata": {
	    "collapsed": true
	   },
	   "outputs": [],
"source": [
"clc;\n",
"clear;\n",
"\n",
"printf('\n Example 9.25')\n",
"\n",
"C_p=4e3;\n",
"\n",
"//If T K is the temperature of the liquid at time / s, then a heat balance on \n",
"//the vessel gives:\n",
"x=poly([0],'x');\n",
"T_max=roots((600*0.5)*(393-x)-(10*6)*(x-293));\n",
"printf('\n\n Maximum temperature to which it can be heated = %.1f K',T_max)\n",
"//solving the equation finally we get \n",
"\n",
"t1=integrate('11111*(1/(376.3-T))','T',293,353);\n",
"printf('\n Time taken to heat the liquid from 293 K to 353 K = %.0f s',t1);\n",
"//The steam is turned off for 7200 s and during this time a heat balance gives:\n",
"//on solving as given in book we get\n",
"T=346.9;\n",
"//The time taken to reheat the liquid to 353 K is then given by:\n",
"t2=integrate('11111*(1/(376.3-T))','T',346.9,353);\n",
"printf('\n Time taken to reheat the liquid to 353 K = %.0f s',t2);"
   ]
   }
,
{
		   "cell_type": "markdown",
		   "metadata": {},
		   "source": [
			"## Example 9.26: EX9_26.sce"
		   ]
		  },
  {
"cell_type": "code",
	   "execution_count": null,
	   "metadata": {
	    "collapsed": true
	   },
	   "outputs": [],
"source": [
"clc;\n",
"clear;\n",
"\n",
"printf('\n Example 9.26\n');\n",
"\n",
"//As in Example 9.1, the heat load = 1672 kW\n",
"Q=1672;\n",
"//With reference to Figure 9.71:\n",
"T1=360;\n",
"T2=340;\n",
"theta1=300;//Temperature of cooling water entering\n",
"theta2=316;\n",
"X=(theta2-theta1)/(T1-theta1);\n",
"Y=(T1-T2)/(theta2-theta1);\n",
"//from Figure 9.58\n",
"F=0.97;\n",
"theta_m=41.9;\n",
"//and hence:\n",
"A=Q/(2*F*theta_m);//the heat transfer area\n",
"printf('\n The heat transfer area is = %.1f m^2',A);"
   ]
   }
,
{
		   "cell_type": "markdown",
		   "metadata": {},
		   "source": [
			"## Example 9.27: Estimation_of_the_heat_transfer_area_required_for_the_system.sce"
		   ]
		  },
  {
"cell_type": "code",
	   "execution_count": null,
	   "metadata": {
	    "collapsed": true
	   },
	   "outputs": [],
"source": [
"clc;\n",
"clear;\n",
"\n",
"printf('\n Example 9.27\n');\n",
"\n",
"//As in Example 9.1, the heat load = 1672 kW\n",
"Q=1672;\n",
"//With reference to Figure 9.71:\n",
"T1=360;\n",
"T2=340;\n",
"theta1=300;//Temperature of cooling water entering\n",
"theta2=316;\n",
"F_theta_m=40.6;//corrected mean temperature difference\n",
"T=(T1+T2)/2;\n",
"d=1.9e-3;//Tube diameter\n",
"u=1;//Water velocity\n",
"//then, in equation 9,221:\n",
"h_i=4.28*(0.00488*T-1)*u^0.8/d^0.2;\n",
"//From Table 9.18, an estimate of the shell-side film coefficient is:\n",
"h_o=(1700+11000)/2000;\n",
"//For steel tubes of a wall thickness of 1.6 mm, the thermal resistance of the wall, from Table 9.15 is:\n",
"xw_kw=0.025;\n",
"//the thermal resistance for treated water, from Table 9.16, is 0.26 m2K/kW\n",
"Ri=0.26;\n",
"Ro=Ri;\n",
"U=((1/h_o)+xw_kw+Ri+Ro+(1/h_i))^-1;\n",
"A=Q/(F_theta_m*U);\n",
"printf('\n The heat transfer area = %.1f m^2',A);\n",
"\n",
"\n",
""
   ]
   }
,
{
		   "cell_type": "markdown",
		   "metadata": {},
		   "source": [
			"## Example 9.28: Using_Kerns_method_to_design_Shell_n_tube_heat_exchanger.sce"
		   ]
		  },
  {
"cell_type": "code",
	   "execution_count": null,
	   "metadata": {
	    "collapsed": true
	   },
	   "outputs": [],
"source": [
"clear;\n",
"clc;\n",
"\n",
"printf('Example 9.28');\n",
"//Using Kern's method design Shell n tube heat exchanger\n",
"\n",
"mh = 30;            //[kg/s] Hot fluid flow rate\n",
"Thi = 370;         //[K] Hot Fluid Inlet Temperature\n",
"Tho = 315;         //[K] Hot Fluid outlet Temperature\n",
"Tci = 300;         //[K] Cold Fluid Inlet Temperature\n",
"Tco = 315;         //[K] Cold Fluid Outlet Temperature\n",
"cpc = 4.18*10^3;        //[J/kg.K] Thermal Conductivity of Cold Fluid\n",
"//From table A1.3 at mean temperature 343 K\n",
"cph = 2.9*10^3;            //[J/kg.K] Thermal Capacity of Hot fluid\n",
"\n",
"q = mh*cph*(Thi-Tho);        //[kW] Heat load\n",
"mc = q/(cpc*(Tco-Tci));      //[kg/s] Flow of cooling water\n",
"\n",
"Tln = ((Thi-Tho)-(Tco-Tci))/(log((Thi-Tho)/(Tco-Tci)));    //[K] Logarithm mean temperature difference\n",
"\n",
"//for one-shell side pass and two-tube side pass Equation 9.213\n",
"X = (Thi - Tho)/(Tco-Tci);\n",
"Y = (Tco-Tci)/(Thi - Tci);\n",
"\n",
"//From Figure 9.757\n",
"F = .85;\n",
"//From Table 9.17\n",
"U = 500        //[W/m^2.K]\n",
"A = q/(F*Tln * U);\n",
"//Thus COnvenient tubes to bo used\n",
"od = .02        //[m] outer dia\n",
"id = .016       //[m] inner dia\n",
"l = 4.83        //[m] effective tube length\n",
"\n",
"s = %pi*od*l;\n",
"N = A/s;\n",
"//From equation 9.211\n",
"db = (1210/.249)^(2.207)^-1*20/1000;            //[m]\n",
"//From figure 9.71\n",
"dc = .068        //[m] diametric clearance between shell and tubes\n",
"ds = db+dc            //[m] Shell dia\n",
"\n",
"//Tube-Side Coefficient\n",
"//From equation 9.218\n",
"Ac = %pi/4*id^2            //[m^2] Cross sectional area\n",
"Ntp = N/2;\n",
"\n",
"Af = N/2*Ac        //[m^2] Tube side flow area\n",
"mw = 76.3/Af            //[kg/m^2.s] Mass velocity of water\n",
"rho = 995        //[kg/m^3] mas density of water\n",
"u = mw/rho            //[m/s] water velocity\n",
"\n",
"//At mean temperature 308 K\n",
"vu = .8*10^-3            //[N.s/m^2] viscosity\n",
"k = .59                //[W/m.K]\n",
"\n",
"Re = id*u*rho/vu;\n",
"Pr = cpc*vu/k;\n",
"ld = l/id;\n",
"//from figure 9.77\n",
"jh = 3.7*10^-3\n",
"hi = jh*Re*Pr^.3334*.59/id;            //[W/m^2.K]\n",
"\n",
"//Shell-Side Coefficient\n",
"//Baffle packing will be taken as 20percent of shell dia\n",
"dbf = .20*ds;        //[m] Baffle Dia\n",
"tb = 1.25*20*10^-3        //[mm] Tube Pitch\n",
"//From equation 9.226\n",
"As = (25-20)/25*10^3*(ds*Ac)            //[m^2]\n",
"Gs = 30/As;                        //[kg/m^2.s]\n",
"//From Equation 9.228\n",
"de = 1.1*(.025^2-.917*od^2)/od;            //[m]\n",
"//At mean temperature 343 K Butyl Alcohol\n",
"rho2 = 780            //[kg/m^3] density\n",
"vu2 = .8*10^-3            //[N.s/m^2] viscosity\n",
"Cp2 = 3.1*10^3                //[J/kg.K] Heat capacity\n",
"k2 = .16                //[W/m.K]\n",
"//Equation 9.229\n",
"Re2 = Gs*de/vu2;\n",
"Pr2 = Cp2*vu2/k2;\n",
"//From figure 9.81\n",
"jh2 = 5*10^-3;\n",
"//Equation 9.230\n",
"hs = jh2*Re2*Pr2^.334*k2/de;\n",
"\n",
"//Overall Coefficient\n",
"//from Table 9.16\n",
"k3 = 50                //[W/m.K]        Thermal Conductivity\n",
"Rw = .00020            //[m^2.K/W]      Scale Resistances \n",
"Ro = .00015            //[m^2.K/W]      Resistance for organic\n",
"\n",
"U = [1/hs + Rw + .5*(od-id)/k3 + Ro*od/id+od/(id*hi)]^-1\n",
"\n",
"//From figure 9.78\n",
"jf = 4.5*10^-3;\n",
"n = 2;\n",
"delP = n*[4*jf*(4.830/id) + 1.25]*(rho*u^2);\n",
"u2 = Gs/rho2;\n",
"jf2 = 4.6*10^-2;\n",
"N2 = 1;\n",
"delP2 = N2*[4*jf2*(4.830/od)*(1005/14.2)]*(rho2*u2^2);\n",
"\n",
"//Increasing the baffle spacing pressure drop is reduced one-fourth\n",
"delPs = delP2/4;\n",
"\n",
"ho = hs*(.5)^.8;            //[W/m^2.K]\n",
"U2 = [1/ho + Rw + .5*(od-id)/k3 + Ro*od/id+od/(id*hi)]^-1\n",
"printf('\n\n Overall Coefficient of %i W/m^2.K \n Number of tubes/pass = %i\n Number of tubes required = %i ',U2,Ntp,N)\n",
"//END"
   ]
   }
,
{
		   "cell_type": "markdown",
		   "metadata": {},
		   "source": [
			"## Example 9.29: Estimation_of_Effectiveness_of_the_given_double_pipe_heat_exchanger.sce"
		   ]
		  },
  {
"cell_type": "code",
	   "execution_count": null,
	   "metadata": {
	    "collapsed": true
	   },
	   "outputs": [],
"source": [
"clc;\n",
"clear;\n",
"\n",
"printf('\n Example 9.29\n');\n",
"\n",
"G=1; //Flow rate of organic liquid\n",
"Cp=2e3//Heat capacity of organic liquid\n",
"T1=350;\n",
"T2=330;\n",
"theta1=290;\n",
"theta2=320;\n",
"\n",
"Q=G*Cp*(T2-T1);//heat load\n",
"G_cool=Q/(4187*(theta1-theta2));//flow of water\n",
"GCp_hot=(G*Cp);//for organic\n",
"GCp_cold=(G_cool*4187);\n",
"\n",
"//From equation 9.235:\n",
"eta=GCp_hot*(T1-T2)/(GCp_cold*(T1-theta1));\n",
"printf('\n Effectiveness of the given double pipe heat exchanger = %.2f',eta);"
   ]
   }
,
{
		   "cell_type": "markdown",
		   "metadata": {},
		   "source": [
			"## Example 9.2: Calculation_of_the_heat_loss_per_square_meter_of_the_surface.sce"
		   ]
		  },
  {
"cell_type": "code",
	   "execution_count": null,
	   "metadata": {
	    "collapsed": true
	   },
	   "outputs": [],
"source": [
"clc\n",
"clear;\n",
"\n",
"printf('\n Example 9.2\n');\n",
"dx=0.5; //Thickness of wall\n",
"T1=400; //Temperartue of inner surface\n",
"T2=300; //Temperature of outer surface\n",
"K=0.7; //Thermal conductivity\n",
"A=1; //Area of heat transfer\n",
"//From equation 9.12:\n",
"Q=K*A*(T1-T2)/dx;\n",
"printf('\n The heat loss per square metre of surface = %.0f w/m^2',Q);"
   ]
   }
,
{
		   "cell_type": "markdown",
		   "metadata": {},
		   "source": [
			"## Example 9.30: Estimate_heat_transfer_surfaces_of_One_shell_pass_two_tube_pass_heat_exchanger.sce"
		   ]
		  },
  {
"cell_type": "code",
	   "execution_count": null,
	   "metadata": {
	    "collapsed": true
	   },
	   "outputs": [],
"source": [
"clear;\n",
"clc;\n",
"\n",
"printf('Example 9.30');\n",
"\n",
"Tci = 320        //[K] Cold Fluid Initial Temperature\n",
"Tce = 340        //[K] Cold Fluid Final Temperature\n",
"mc = 4            //[kg/s] Flow rate of cold fluid\n",
"mh = 8            //[kg/s] Flow rate of hot fluid\n",
"Thi = [380 370 360 350]    //[K] Hot fluid initial temperature\n",
"Cp = 4.18            //[kJ/kg.K] mean heat capacity\n",
"U = 1.5        //[W/m^2.K] Overall heat transfer coefficient\n",
"\n",
"GCpu= mh*Cp;            //[kW/K]\n",
"GCpp= mc*Cp;            //[kW/K]\n",
"if(GCpu<GCpp)\n",
"    GCpmin = GCpu;       //[kW/K]\n",
"    ratio = GCpmin/GCpp;\n",
"else\n",
"    GCpmin = GCpp;      //[kW/K]\n",
"    ratio = GCpmin/GCpu;\n",
"    \n",
"//Equation 9.235\n",
"n = mc*Cp*(Tce-Tci)*(mc*Cp*(Thi - Tci))^-1;\n",
"//From Figure 9.85b Number of transfer Units\n",
"N = [.45 .6 .9 1.7];    //[NTU]\n",
"A = N*GCpmin/U;        //Area of required [m^2]\n",
"\n",
"format('v',4)\n",
"printf('\n\n   Thi(K)   n      N     A (m^2)');\n",
"disp([Thi(4) n(4) N(4) A(4)],[Thi(3) n(3) N(3) A(3)],[Thi(2) n(2) N(2) A(2)],[Thi(1) n(1) N(1) A(1)])\n",
"//END"
   ]
   }
,
{
		   "cell_type": "markdown",
		   "metadata": {},
		   "source": [
			"## Example 9.31: Calculation_of_gas_temperature_flowing_through_a_copper_pipe.sce"
		   ]
		  },
  {
"cell_type": "code",
	   "execution_count": null,
	   "metadata": {
	    "collapsed": true
	   },
	   "outputs": [],
"source": [
"clc;\n",
"clear;\n",
"\n",
"printf('\n Example 9.31\n');\n",
"\n",
"o_d=10e-3;//outer diameter of the tube\n",
"i_d=8.2e-3; //inner diameter of the tube\n",
"h=140;//coeffecient of heat transfer between gas and copper tube\n",
"k=350;//Thermal conductivity of copper tube\n",
"L=0.075;\n",
"\n",
"b=%pi*o_d;//perimeter of tube\n",
"A=%pi/4*(o_d^2-i_d^2);//cross sectional area of the metal\n",
"m=((h*b)/(k*A))^0.5;\n",
"T_g=((475*cosh(m*L))-365)/(cosh(m*L)-1);\n",
"printf('\n The gas temperature is = %.0f K',T_g)"
   ]
   }
,
{
		   "cell_type": "markdown",
		   "metadata": {},
		   "source": [
			"## Example 9.32: Determination_of_the_heat_loss_per_metre_run_of_the_tube.sce"
		   ]
		  },
  {
"cell_type": "code",
	   "execution_count": null,
	   "metadata": {
	    "collapsed": true
	   },
	   "outputs": [],
"source": [
"clc;\n",
"clear;\n",
"\n",
"printf('\n Example 9.32\n');\n",
"\n",
"d2=54e-3; //outer diameter of the tube\n",
"d1=70e-3; // fin diameter\n",
"w=2e-3; //fin thickness\n",
"n=230;// number of fins per metre run\n",
"T_s=370; //Surface temperature\n",
"T=280; //Temperature of surroundings\n",
"h=30; //Heat transfer coeffecient between gas and fin\n",
"k=43; //Thermal conductivity of steel\n",
"L=(d1-d2)/2;\n",
"\n",
"theta1=T_s-T;\n",
"//Assuming that the height of the fin is small compared with its circumference \n",
"//and that it may be treated as a straight fin of length\n",
"l=(%pi/2)*(d1+d2);\n",
"b=2*l;//perimeter\n",
"A=l*w;//the average area at right-angles to the heat flow\n",
"m=((h*b)/(k*A))^0.5;\n",
"//From equation 9.254, the heat flow is given for case (b) as:\n",
"Qf=m*k*A*theta1*(%e^(2*m*L)-1)/(1+%e^(2*m*L));\n",
"Q=Qf*n;//Heat loss per meter run of tube\n",
"printf('\n The heat loss per metre run of tube = %.2f kW/m',Q*1e-3);"
   ]
   }
,
{
		   "cell_type": "markdown",
		   "metadata": {},
		   "source": [
			"## Example 9.33: Calculation_of_heat_loss_to_the_air.sce"
		   ]
		  },
  {
"cell_type": "code",
	   "execution_count": null,
	   "metadata": {
	    "collapsed": true
	   },
	   "outputs": [],
"source": [
"clc;\n",
"clear;\n",
"\n",
"printf('\n Example 9.33\n');\n",
"\n",
"d=150e-3;//Internal diameter of tube\n",
"d_o=168e-3;//outer diameter of tube\n",
"d_w=159e-3;\n",
"d_s=268e-3;\n",
"d_m=(d_s-d_o)/log(d_s/d_o);//log mean of d_o and d_s\n",
"h_i=8500;//The coefficient for condensing steam together with that for any scale\n",
"k_w=45;\n",
"k_l=0.073;\n",
"x_l=50e-3;\n",
"x_w=9e-3;\n",
"DT=444-294;\n",
"sigma=5.67e-8;\n",
"//The temperature on the outside of the lagging is estimated at 314 K and (hr + hc) will be taken as 10 W/m2 K.\n",
"//total thermal resisitance \n",
"R=(h_i*%pi*d)^-1+(10*%pi*d_s)^-1+(k_w*%pi*d_w/x_w)^-1+(k_l*%pi*d_m/x_l)^-1;\n",
"Q_l=DT/R; //The heat loss per metre of length(from eq 9.261)\n",
"DT_lagging=((k_l*%pi*d_m/x_l)^-1/R)*DT;\n",
"//Taking an emissivity of 0.9, from equation 9.119:\n",
"\n",
"h_r=(0.9*sigma*(310^4-294^4))/(310-294);\n",
"C=1.32;\n",
"//Substituting in equation 9.105 (putting l = diameter = 0.268 m):\n",
"h_c=C*((310-294)/d_s)^0.25;\n",
"//If the pipe were unlagged,(hc+hr)for DT=150 K would be about 20 W/m2 K and the heat loss would then be:\n",
"Q_l=20*%pi*d_o*150;\n",
"printf('\n The heat loss to the air = %.2f kW/m',Q_l*1e-3);"
   ]
   }
,
{
		   "cell_type": "markdown",
		   "metadata": {},
		   "source": [
			"## Example 9.34: Determination_of_the_economic_thickness_of_lagging.sce"
		   ]
		  },
  {
"cell_type": "code",
	   "execution_count": null,
	   "metadata": {
	    "collapsed": true
	   },
	   "outputs": [],
"source": [
"clc;\n",
"clear;\n",
"printf('Example 9.34\n');\n",
"\n",
"\n",
"T1=420;//temperature of steam\n",
"k=0.1;//Thermal conductivity\n",
"T2=285; //Ambient temperature\n",
"h=10;//the coefficient of heat transfer from the outside of the lagging to \n",
"     //the surroundings\n",
"//determining Q/l from equation 9.21 and equating it to heat loss from the\n",
"//outside of the lagging we get\n",
"//(Q/l)=84.82/(log(d_o/0.1)+(0.02/d_o)) W/m\n",
"//using various equations we finally get an equation in terms of d_o and we\n",
"// will solve it by using fsolve\n",
"function [f]=F(d_o)\n",
"    f(1)=(1/(log(d_o/0.1)+(0.02/d_o))^2)-(2.35*(d_o^3)/(d_o-0.02));\n",
"    funcprot(0);\n",
"endfunction\n",
"d_o=1;\n",
"ans=fsolve(d_o,F);\n",
"E_t=(ans-0.1)/2;\n",
"printf('\n Economic thickness of lagging = %d mm',E_t*1e3);"
   ]
   }
,
{
		   "cell_type": "markdown",
		   "metadata": {},
		   "source": [
			"## Example 9.3: Estimation_of_Heat_loss_and_temperature_at_firebrick_insulating_brick_interface.sce"
		   ]
		  },
  {
"cell_type": "code",
	   "execution_count": null,
	   "metadata": {
	    "collapsed": true
	   },
	   "outputs": [],
"source": [
"clc;\n",
"clear;\n",
"\n",
"printf('\n Example 9.3\n');\n",
"\n",
"dx1=0.20; //thickness of firebrick\n",
"dx2=0.10; //thickness of insulating brick\n",
"dx3=0.20; //thickness of building brick\n",
"k1=1.4; //Thermal conductivity of firebrick\n",
"k2=0.21; //Thermal conductivity of insulating brick\n",
"k3=0.7; //Thermal conductivity of building brick\n",
"T1=1200; //Temperature at junction 1\n",
"T4=330; //Temperature at junction 4\n",
"\n",
"//From equation 9.19:\n",
"Q=(T1-T4)/((dx1/k1)+(dx2/k2)+(dx3/k3));\n",
"printf('\n Heat loss per unit area = %d W/m^2',Q);\n",
"//The ratio (Temperature drop over firebrick)/(Total temperature drop)\n",
"R=(dx1/k1)/((dx1/k1)+(dx2/k2)+(dx3/k3));\n",
"//Temperature drop over firebrick \n",
"dT=(T1-T4)*R;\n",
"printf('\n Temperature drop over firebrick = %.0f K',dT);\n",
"T2=(T1-dT);\n",
"printf('\n The temperature at the firebrick-insulating brick interface = %.0f K',T2);"
   ]
   }
,
{
		   "cell_type": "markdown",
		   "metadata": {},
		   "source": [
			"## Example 9.4: EX9_4.sce"
		   ]
		  },
  {
"cell_type": "code",
	   "execution_count": null,
	   "metadata": {
	    "collapsed": true
	   },
	   "outputs": [],
"source": [
"clc;\n",
"clear;\n",
"\n",
"printf('\n Example 9.4\n');\n",
"T=295; //initial temperature of surfaces\n",
"T2f=375; //Final temperature of far surface\n",
"dT1=900; //Temperature of near face raised\n",
"//The temperature at any distance x from the near face at time t is given by equation 9.37\n",
"//Choosing the temperature scale so that the initial temperature is everywhere zero, then:\n",
"R=(T2f-T)/(2*(dT1-T)); //ratio of theta to twice of theta dash\n",
"\n",
"//An approximate solution is obtained by taking the first term only, to give:\n",
"//   R=erfc(346*t^-0.5)\n",
"//erfc(1.30)=R\n",
"//solving above equation\n",
"x=poly([0],'x');\n",
"t=roots((1.30^2*x)-346^2);\n",
"printf('\n Time taken to rise from 295 to 375 K = %.1f h',t/3600);"
   ]
   }
,
{
		   "cell_type": "markdown",
		   "metadata": {},
		   "source": [
			"## Example 9.5: EX9_5.sce"
		   ]
		  },
  {
"cell_type": "code",
	   "execution_count": null,
	   "metadata": {
	    "collapsed": true
	   },
	   "outputs": [],
"source": [
"clc;\n",
"clear;\n",
"\n",
"printf('\n Example 9.5\n');\n",
"\n",
"T=295; //initial temperature of surfaces\n",
"T2f=375; //Final temperature of far surface\n",
"dT1=900; //Temperature of near face raised\n",
"DH=4.2e-7; //Thermal diffusivity\n",
"//The development of the temperature profile is shown in Figure 9.12\n",
"//The problem will be solved by taking relatively large intervals for dx.\n",
"//Choosing dx = 50 mm, the construction shown in Figure 9.12\n",
"dx=50e-3;\n",
"//Because the second face is perfectly insulated, the temperature gradient must\n",
"// be zero at this point.\n",
"//It is seen that the temperature is\n",
"//less than 375 K after time 23dt and greater than 375 K after time 25dt\n",
"//Thus:\n",
"//t=24*dt\n",
"//from equation 9.43\n",
"dt=dx^2/(2*DH);\n",
"t=24*dt;\n",
"printf('\n The time taken to rise from 295 to 375 K = %.1f h',t/3600);"
   ]
   }
,
{
		   "cell_type": "markdown",
		   "metadata": {},
		   "source": [
			"## Example 9.6: Calculation_of_final_temperature_of_a_sphere_and_a_cube.sce"
		   ]
		  },
  {
"cell_type": "code",
	   "execution_count": null,
	   "metadata": {
	    "collapsed": true
	   },
	   "outputs": [],
"source": [
"clc;\n",
"clear;\n",
"\n",
"printf('\n Example 9.6\n');\n",
"\n",
"d=25e-3; //Diameter of copper sphere\n",
"l=25e-3; //Side length of a copper cube\n",
"h=75; //External heat transfer coefficient\n",
"rho_cu=8950; //Density of copper at mean temperature\n",
"Cp=0.38e3; //Heat capacity of copper at mean temperature\n",
"k=385; // Thermal conductivity of copper at mean temperature\n",
"Tf=923; //Temperature of the furnace\n",
"Ta=368; //Temperature at which they are annealed\n",
"t=5*60; // time taken\n",
"\n",
"V_Ae_S=(d/6); //V/Ae tor the sphere\n",
"printf('\n V/Ae tor the sphere = %.2f * 10^-3 m',V_Ae_S*1e3);\n",
"V_Ae_C=(l/6); //V/Ae tor the cube\n",
"printf('\n V/Ae tor the cube = %.2f * 10^-3 m',V_Ae_C*1e3);\n",
"Bi=h*(V_Ae_S)/k;\n",
"//The use of a lumped capacity method is therefore justified\n",
"tao=rho_cu*Cp*V_Ae_S/h;\n",
"//Then using equation 9.49\n",
"//theta=T\n",
"x=poly([0],'x');\n",
"T=roots(((x-Ta)/(Tf-Ta))-%e^(-t/tao));\n",
"printf('\n Temperature of the sphere and of the cube at the end of 5 minutes = %.0f degree C',T-273);"
   ]
   }
,
{
		   "cell_type": "markdown",
		   "metadata": {},
		   "source": [
			"## Example 9.7: Calculation_of_minimum_time_required_for_heating_a_sheet.sce"
		   ]
		  },
  {
"cell_type": "code",
	   "execution_count": null,
	   "metadata": {
	    "collapsed": true
	   },
	   "outputs": [],
"source": [
"clc;\n",
"clear;\n",
"\n",
"printf('\n Example 9.7\n');\n",
"\n",
"k=2.5; //Thermal conductivity\n",
"DH=2e-7;//Thermal diffusivity of the surrounding fluid\n",
"h=100; //External heat transfer coefficient\n",
"To=293; //Initial Temperature\n",
"T_dash=373; //Oven Temperture\n",
"Tc=353; //temperature throughout the whole of the sheet reaches a minimum\n",
"l=10e-3; //thickness of sheet\n",
"L=l/2;\n",
"\n",
"//For the given process, the Biot number\n",
"Bi=h*L/k;\n",
"Bi_1=1/Bi;\n",
"lim_val=(T_dash-Tc)/(T_dash-To);\n",
"//From Figure 9.17, the Fourier number\n",
"Fo=7.7; \n",
"t=Fo*L^2/DH\n",
"printf('\n The minimum time for which the sheet must be heated = %.0f s or %.0f min approx.',t,t/60);"
   ]
   }
,
{
		   "cell_type": "markdown",
		   "metadata": {},
		   "source": [
			"## Example 9.8: EX9_8.sce"
		   ]
		  },
  {
"cell_type": "code",
	   "execution_count": null,
	   "metadata": {
	    "collapsed": true
	   },
	   "outputs": [],
"source": [
"clc;\n",
"clear;\n",
"\n",
"printf('\n Example 9.8\n');\n",
"\n",
"l=5;//Length of the channel of uranium reactor\n",
"Q=.25e6; //Heat release from uranium reactor\n",
"k=33; //Thermal conductivity of the uranium\n",
"Q_m=Q/l; //Heat release rate\n",
"//Thus, from equation 9.52:\n",
"dT=Q_m/(4*%pi*k);\n",
"printf('\nThe temperature difference between the surface and the centre of the uranium element = %.0f deg K',dT);"
   ]
   }
,
{
		   "cell_type": "markdown",
		   "metadata": {},
		   "source": [
			"## Example 9.9: Calculation_of_value_of_scale_resistance.sce"
		   ]
		  },
  {
"cell_type": "code",
	   "execution_count": null,
	   "metadata": {
	    "collapsed": true
	   },
	   "outputs": [],
"source": [
"clc;\n",
"clear;\n",
"\n",
"printf('\n Example 9.9\n');\n",
"\n",
"Cp=2380;//specific heat capacity of nitrobenzene\n",
"k=0.15;\n",
"Meu=0.70e-3;//Viscosity of nitrobenzene\n",
"d_i=15e-3;//internal diameter of tube\n",
"d_o=19e-3;//external diameter of the tube\n",
"d_s=0.44;//shell diameter\n",
"b_s=0.150;//baffle spacing\n",
"p=0.025;//pitch\n",
"c=0.006;//clearance\n",
"//(i)Tube side coefficient\n",
"h_i=1000;//based on inside area\n",
"h_io=1000*d_i/d_o;//based on outside area\n",
"//(ii) Shell side coefficient.\n",
"A=d_s*b_s*c/p;//Area for flow\n",
"G_s_=4/A;\n",
"//Taking Meu/Meu_s=1 in equation 9.91\n",
"d_e=4*((25e-3^2-(%pi*d_o^2/4))/(%pi/d_o));\n",
"h_o=0.36*k/d_e*(d_e*G_s_/Meu)^0.55*(Cp*Meu/k)^0.33;\n",
"//(iii) Overall coefficient\n",
"//The logarithmic mean temperature difference is given by:\n",
"Tm=(((400-345)-(315-305))/log((400-345)/(315-305)));\n",
"//The corrected mean temperature difference is\n",
"Tm_c=Tm*0.8;\n",
"Q=4*Cp*(400-315);\n",
"//The surface area of each tube\n",
"A_t=0.0598;\n",
"U_o=Q/(2*166*5*A_t*Tm_c);\n",
"//(iv) Scale resistance.\n",
"R_d=(1/U_o)-(1/750)-(1/1000);\n",
"printf('\n Value of scale resistance that could be allowed = %.5f m^2 K/W',R_d);"
   ]
   }
],
"metadata": {
		  "kernelspec": {
		   "display_name": "Scilab",
		   "language": "scilab",
		   "name": "scilab"
		  },
		  "language_info": {
		   "file_extension": ".sce",
		   "help_links": [
			{
			 "text": "MetaKernel Magics",
			 "url": "https://github.com/calysto/metakernel/blob/master/metakernel/magics/README.md"
			}
		   ],
		   "mimetype": "text/x-octave",
		   "name": "scilab",
		   "version": "0.7.1"
		  }
		 },
		 "nbformat": 4,
		 "nbformat_minor": 0
}
