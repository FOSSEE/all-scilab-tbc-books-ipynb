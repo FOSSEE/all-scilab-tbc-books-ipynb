{
"cells": [
 {
		   "cell_type": "markdown",
	   "metadata": {},
	   "source": [
       "# Chapter 2: Flow of Fluids Energy and Momentum Relationships"
	   ]
	},
{
		   "cell_type": "markdown",
		   "metadata": {},
		   "source": [
			"## Example 2.1: Estimation_of_volume_of_vessel_by_3_methods.sce"
		   ]
		  },
  {
"cell_type": "code",
	   "execution_count": null,
	   "metadata": {
	    "collapsed": true
	   },
	   "outputs": [],
"source": [
"clc;\n",
"\n",
"printf('Example 2.1\n');\n",
"//For 1 kmol of methane\n",
"\n",
"//(a) PV = 1 * RT, where \n",
"R=8314;\n",
"P=60*10^6;\n",
"T=320;\n",
"Tc=191;\n",
"Pc=4.64*10^6;\n",
"printf('\n Given\n R=8314 J/kmol K.\n P=60*10^6 N/m^2\n T=320 K;')\n",
"printf('\n Tc=191 K \n Pc=4.64*10^6 N/m^2')\n",
"V1=8314*T/P;\n",
"printf('\n(a)\n Volume of vessel (ideal gas law) = %.4f m^3',V1);\n",
"\n",
"\n",
"//(b) In van der Waals equation (2.32), the constants may be taken as:\n",
"a=27*R^2*Tc^2/(64*Pc);\n",
"b=R*Tc/(8*Pc);\n",
"printf('\n(b)\n a = %d (N/m^2)*(m^3)^2/(kmol)^2',a);\n",
"printf('\n b = %.4f m^3/kmol',b);\n",
"//Thus using equation 2.32:\n",
"x=poly([0],'x');\n",
"p=roots((60*10^6*x^2+a)*(x-0.0427)-(8314*320*x^2));\n",
"printf(' \n Volume of vessel(van der waals eq.) = %.3f m^3',p(1,1));\n",
"\n",
"\n",
"//(c) Tr=T/Tc  ,Pr=P/Pc\n",
"Tr=T/Tc;\n",
"printf('\n(c)\n Tr = %.2f',Tr);\n",
"Pr=P/Pc;\n",
"printf('\n Pr = %.2f',Pr);\n",
"//Thus from Figure 2.1, \n",
"Z=1.33;\n",
"//V = ZnRT/P (from equation 2.31)\n",
"V3=Z*R*T/P;\n",
"printf('\n Volume of vessel(generalised compressibility-factor chart) = %.4f m^3',V3);"
   ]
   }
,
{
		   "cell_type": "markdown",
		   "metadata": {},
		   "source": [
			"## Example 2.3: Calculation_of_reaction_force.sce"
		   ]
		  },
  {
"cell_type": "code",
	   "execution_count": null,
	   "metadata": {
	    "collapsed": true
	   },
	   "outputs": [],
"source": [
"clc;\n",
"\n",
"printf('Example 2.3\n');\n",
"//Mass rate of discharge of water, G = rho*u*A\n",
"rho=1000; //Density of Water\n",
"d=25*10^-3; //Diameter of nozzle\n",
"u=25; //Velocity of water at nozzle\n",
"printf('\n Given:\n Density of water = %d kg/m^3\n Nozzle diameter = %.3f m \n Velocity = %d m/s',rho,d,u);\n",
"G=rho*u*%pi/4*d^2;\n",
"printf('\n\n Mass rate of discharge of water, G = %.2f kg/s',G);\n",
"//Momentum of fluid per second = Gu\n",
"F=G*25;\n",
"printf('\n Momentum of fluid per second = %.0f N',F);\n",
"printf('\n Reaction force = Rate of change of momentum = %.0f N',F);"
   ]
   }
,
{
		   "cell_type": "markdown",
		   "metadata": {},
		   "source": [
			"## Example 2.4: Calculation_of_resultant_force.sce"
		   ]
		  },
  {
"cell_type": "code",
	   "execution_count": null,
	   "metadata": {
	    "collapsed": true
	   },
	   "outputs": [],
"source": [
"clc;\n",
"\n",
"printf('Example 2.4\n');\n",
"//Momentum per second of approaching liquid in Y-direction = rho*u^2*A\n",
"rho=1000; //Density of water\n",
"d=50*10^-3; //Diameter of pipe\n",
"u=5; //Velocity of water in pipe\n",
"printf('\n Given\n Density of water = %d kg/m^3\n Pipe diameter = %.3f m \n Velocity = %d m/s',rho,d,u);\n",
"M=rho*u^2*%pi/4*d^2;\n",
"printf('\n\n Momentum per second of approaching liquid in Y-direction = %.1f N',M);\n",
"Rf=M*(cos(%pi/4)+sin(%pi/4));\n",
"printf('\n The resultant force in direction of arm of bracket = %.1f N',Rf);"
   ]
   }
,
{
		   "cell_type": "markdown",
		   "metadata": {},
		   "source": [
			"## Example 2.5: Calculation_of_jet_velocity_neglecting_frictional_effects.sce"
		   ]
		  },
  {
"cell_type": "code",
	   "execution_count": null,
	   "metadata": {
	    "collapsed": true
	   },
	   "outputs": [],
"source": [
"clc;\n",
"\n",
"printf('Example 2.5\n');\n",
"//From equation 2.68:\n",
"// 0.5*((u2)^2-(u1)^2)=g*(z1-z2)+((P1-P2)/rho)\n",
"//Suffix 1 to denote conditions in the pipe and suffix 2 to denote conditions in the jet\n",
"//Symbols have their usual meaning\n",
"u1=0;\n",
"z1=0;\n",
"z2=0;\n",
"P1=250*10^3;\n",
"P2=0;\n",
"rho=1000;//Density of water\n",
"printf('\n Suffix 1 to denote conditions in the pipe and suffix 2 to denote conditions in the jet')\n",
"printf('\n Given:\n u1=%d m/s\n z1= %d m\n z2= %d m\n P1= %.3f kN/m^2\n P2= %d kN/m^2\n Density of water= %d kg/m^3',u1,z1,z2,P1,P2,rho);\n",
"g=9.81;\n",
"x=poly([0],'x');\n",
"u2=roots((0.5*(x)^2)-((P1-P2)/rho));\n",
"printf('\n\n Ans:\n Velocity of the jet, u2 = %.1f m/s',u2(1,1));"
   ]
   }
,
{
		   "cell_type": "markdown",
		   "metadata": {},
		   "source": [
			"## Example 2.6: Calculation_of_pressure_at_the_wall.sce"
		   ]
		  },
  {
"cell_type": "code",
	   "execution_count": null,
	   "metadata": {
	    "collapsed": true
	   },
	   "outputs": [],
"source": [
"clc;\n",
"\n",
"printf('Example 2.6\n');\n",
"id=0.5; //internal diameter of pipe\n",
"rs=50; //revolution speed\n",
"ir=0.15; //internal radius of water\n",
"rho=1000; //density of water\n",
"printf('\n Given:\n Internal diameter = %.1f m\n Rotating speed = %d rev/s\n Inner radius of liquid = %.2f m\n Density of water= %d kg/m^3',id,rs,ir,rho);\n",
"omega=2*%pi*rs;\n",
"printf('\n\n Angular speed of rotation = %d rad/s',omega);\n",
"//The wall pressure is given by equation 2.82 as:\n",
"wall_pressure=rho*(omega)^2/2*((id/2)^2-ir^2);\n",
"printf('\n The wall pressure is = %f N/m^2 \n\t\t\t=%.2f x 10^6 N/m^2',wall_pressure,wall_pressure/10^6);"
   ]
   }
],
"metadata": {
		  "kernelspec": {
		   "display_name": "Scilab",
		   "language": "scilab",
		   "name": "scilab"
		  },
		  "language_info": {
		   "file_extension": ".sce",
		   "help_links": [
			{
			 "text": "MetaKernel Magics",
			 "url": "https://github.com/calysto/metakernel/blob/master/metakernel/magics/README.md"
			}
		   ],
		   "mimetype": "text/x-octave",
		   "name": "scilab",
		   "version": "0.7.1"
		  }
		 },
		 "nbformat": 4,
		 "nbformat_minor": 0
}
