{
"cells": [
 {
		   "cell_type": "markdown",
	   "metadata": {},
	   "source": [
       "# Chapter 6: Flow and Pressure Measurement"
	   ]
	},
{
		   "cell_type": "markdown",
		   "metadata": {},
		   "source": [
			"## Example 6.1: Calculation_of_difference_in_level_on_a_water_manometer.sce"
		   ]
		  },
  {
"cell_type": "code",
	   "execution_count": null,
	   "metadata": {
	    "collapsed": true
	   },
	   "outputs": [],
"source": [
"clc;\n",
"clear;\n",
"\n",
"printf('\n Example 6.1');\n",
"d_o=25e-3;//Diameter of orifice\n",
"printf('\n\n Given:\n Diameter of orifice = %d mm',d_o*1e3);\n",
"d_p=75e-3;//Diameter of pipe\n",
"printf('\n Diameter of pipe = %d mm',d_p*1e3);\n",
"flow_o=300e-6;//Flow rate through pipe\n",
"printf('\n Flow rate through pipe = %d m^3/s',flow_o*1e6);\n",
"Meu_watr=1e-3;//Viscosity of water\n",
"printf('\n Viscosity of water = %d mN s/m^2',Meu_watr*1e3);\n",
"area_o=%pi/4*d_o^2;//Area of orifice\n",
"printf('\n\n Calculations:\n Area of orifice = %.2f * 10^-4 m^2',area_o*1e4);\n",
"vel_o=flow_o/area_o;//Velocity of water through the orifice\n",
"printf('\n Velocity of water through the orifice = %.2f m/s',vel_o);\n",
"Re_o=d_o*vel_o*1000/Meu_watr;//Re at the orifice\n",
"printf('\n Re at the orifice = %d',Re_o);\n",
"//From Figure 6.16, the corresponding value of Cd = 0.61 (diameter ratio = 0.33)\n",
"Cd=0.61;\n",
"G=flow_o*1e3; //mass flow rate water\n",
"//Equation 6.21 may therefore be applied:\n",
"ho=poly([0],'ho');\n",
"p=G^2-((Cd*area_o*1000)^2*2*9.81*ho);\n",
"printf('\n Difference in level on a water manometer = %.0f mm of water',roots(p)*1e3);"
   ]
   }
,
{
		   "cell_type": "markdown",
		   "metadata": {},
		   "source": [
			"## Example 6.2: Calculation_of_mass_flow_rate_and_drop_in_pressure.sce"
		   ]
		  },
  {
"cell_type": "code",
	   "execution_count": null,
	   "metadata": {
	    "collapsed": true
	   },
	   "outputs": [],
"source": [
"clc;\n",
"clear;\n",
"\n",
"printf('\n Example 6.2\n');\n",
"rho_sul=1300;//Density of sulphuric acid\n",
"printf('\n Given:\n Density of sulphuric acid = %d kg/ m^3',rho_sul);\n",
"id=50e-3;//Internal diameter of pipe\n",
"printf('\n Internal diameter of pipe = %d mm',id*1e3);\n",
"d_o=10e-3;//Diameter of orifice\n",
"printf('\n Diameter of orifice = %d mm',d_o*1e3);\n",
"h=.1;//Differential pressure shown on a mercury manometer\n",
"printf('\n Differential pressure shown on a mercury manometer = %.1f m',h);\n",
"Cd=0.61//Coeffecient of discharge\n",
"printf('\n Coeffecient of discharge = %.2f',Cd);\n",
"rho_merc=13550;//Density of mercury\n",
"printf('\n Density of mercury = %d kg/m^3',rho_merc);\n",
"rho_watr=1000;//Density of water\n",
"printf('\n Density of water = %d kg/m^3',rho_watr);\n",
"printf('\n\n Calculations:\n (a)');\n",
"area_o=%pi/4*d_o^2;//area of orifice\n",
"//The differential pressure is given by:\n",
"h_sul=h*(rho_merc-rho_sul)/rho_sul;//\n",
"//The mass flow-rate G is given by:\n",
"//substituting in equation 6.21 gives the mass flowrate as:\n",
"G_sul=Cd*area_o*rho_sul*(2*9.81*h_sul)^0.5;\n",
"printf('\n The mass flow rate of acid = %.3f kg/s\n (b)',G_sul);\n",
"DP=rho_sul*9.81*h_sul;\n",
"printf('\n The drop in pressure = %.0f kN/m^2',DP*1e-3);"
   ]
   }
,
{
		   "cell_type": "markdown",
		   "metadata": {},
		   "source": [
			"## Example 6.3: EX6_3.sce"
		   ]
		  },
  {
"cell_type": "code",
	   "execution_count": null,
	   "metadata": {
	    "collapsed": true
	   },
	   "outputs": [],
"source": [
"clc;\n",
"clear;\n",
"\n",
"printf('\n Example 6.3\n');\n",
"d=150e-3;//Diameter of pipe\n",
"printf('\n Given:\n Diameter of pipe = %d mm',d*1e3);\n",
"d_t=50e-3;//Throat diameter\n",
"printf('\n Throat diameter = %d mm',d_t*1e3);\n",
"hv=121e-3;//Pressure drop over the converging section\n",
"printf('\n Pressure drop over the converging section = %d mm of water',hv*1e3);\n",
"G=2.91; //Mass Flow rate of water\n",
"printf('\n Mass Flow rate of water = %.2f kg/s',G);\n",
"//From equation 6.32, the mass rate of flow\n",
"A1=%pi*d^2/4;\n",
"A2=%pi*d_t^2/4;\n",
"Cd=G*(A1^2-A2^2)^0.5/(1000*A1*A2*(2*9.81*hv)^0.5);\n",
"printf('\n\n Calculations:\n Coefficient for the converging cone of the meter at given flowrate = %.3f',Cd);"
   ]
   }
,
{
		   "cell_type": "markdown",
		   "metadata": {},
		   "source": [
			"## Example 6.4: Calculation_of_flow_rate_of_water.sce"
		   ]
		  },
  {
"cell_type": "code",
	   "execution_count": null,
	   "metadata": {
	    "collapsed": true
	   },
	   "outputs": [],
"source": [
"clc;\n",
"clear;\n",
"\n",
"printf('\n Example 6.4\n');\n",
"l=0.3;//length of tube\n",
"printf('\n Given:\n length of tube = %.1f m',l);\n",
"id_t=25e-3;//Top internal diameter of tube\n",
"printf('\n Top internal diameter of tube = %d mm',id_t*1e3);\n",
"id_b=20e-3;//Bottom internal diameter of tube\n",
"printf('\n Bottom internal diameter of tube = %d mm',id_b*1e3);\n",
"d_f=20e-3;//Diameter of float\n",
"printf('\n Diameter of float = %d mm',d_f*1e3);\n",
"v_f=6e-6;//Volume of float\n",
"printf('\n Volume of float = %d cm^3',v_f*1e6);\n",
"Cd=0.7;//Coefficient of discharge\n",
"printf('\n Coefficient of discharge = %.1f',Cd);\n",
"rho=1000;//Density of water\n",
"printf('\n Density of water = %d kg/m^3',rho);\n",
"rho_f=4800;//Density of float\n",
"printf('\n Density of float = %d kg/m^3',rho_f);\n",
"area_t=%pi/4*id_t^2;//Cross-sectional area at top of tube\n",
"printf('\n\n Calculations:\n Cross-sectional area at top of tube = %.2f *10^-4 m^2',area_t*1e4);\n",
"area_b=%pi/4*id_b^2;//Cross-sectional area at bottom of tube\n",
"printf('\n Cross-sectional area at bottom of tube = %.2f *10^-4 m^2',area_b*1e4);\n",
"A_f=%pi/4*d_f^2;//Area of float\n",
"printf('\n Area of float = %.2f *10^-4 m^2',A_f*1e4);\n",
"//When the float is halfway up the tube, the area at the height of the float A1 is given by:\n",
"A1=%pi/4*((id_t+id_b)/2)^2;\n",
"printf('\n The area of the height of the float A1 is = %.2f *10^-4 m^2',A1*1e4)\n",
"//The area of the annulus A2 is given by:\n",
"A2=A1-A_f;\n",
"printf('\n The area of the annulus A2 is = %.2f *10^-4 m^2',A2*1e4)\n",
"//Substituting into equation 6.36:\n",
"//The flow rate of water = \n",
"G=Cd*A2*((2*9.81*v_f*(rho_f-rho)*rho)/(A_f*(1-(A2/A1)^2)))^0.5;\n",
"printf('\n\n The flow rate of water = %.3f kg/s',G);"
   ]
   }
,
{
		   "cell_type": "markdown",
		   "metadata": {},
		   "source": [
			"## Example 6.5: Calculation_of_volumetric_flow_rate_of_water.sce"
		   ]
		  },
  {
"cell_type": "code",
	   "execution_count": null,
	   "metadata": {
	    "collapsed": true
	   },
	   "outputs": [],
"source": [
"clc;\n",
"clear;\n",
"\n",
"printf('\n Example 6.5\n');\n",
"\n",
"L=0.5;// Length of the weir\n",
"printf('\n Given\n Length of the weir = %.1f m',L);\n",
"D=100e-3;//Height of water over the weir\n",
"printf('\n Height of water over the weir = %d',D*1e3);\n",
"n=0;\n",
"//Using Francis formula:\n",
"Q=1.84*(L-(0.1*n*D))*D^1.5;\n",
"printf('\n\n Calculations:\n Volumetric flowrate of water = %.2f m^3/s',Q);"
   ]
   }
,
{
		   "cell_type": "markdown",
		   "metadata": {},
		   "source": [
			"## Example 6.6: Calculation_of_Height_of_liquid_flowing_over_the_weir.sce"
		   ]
		  },
  {
"cell_type": "code",
	   "execution_count": null,
	   "metadata": {
	    "collapsed": true
	   },
	   "outputs": [],
"source": [
"clc;\n",
"clear;\n",
"\n",
"printf('\n Example 6.6\n');\n",
"\n",
"G=15; //Mass flow rate of organic liquid\n",
"printf('\n Given:\n Mass flow rate of organic liquid = %d kg/s',G)\n",
"L_ow=2;//Length of the weir\n",
"printf('\n Length of the weir = %.1f m',L_ow);\n",
"rho_l=650;\n",
"printf('\n Density of liquid = %d kg/m^3',rho_l);\n",
"Q=G/rho_l;\n",
"//Use is made of the Francis formula (equation 6.43),\n",
"h_ow=(2/3)*(Q/L_ow)^(2/3);\n",
"printf('\n\n Calculations:\n Height of liquid flowing over the weir = %.2f mm',h_ow*1e3);"
   ]
   }
],
"metadata": {
		  "kernelspec": {
		   "display_name": "Scilab",
		   "language": "scilab",
		   "name": "scilab"
		  },
		  "language_info": {
		   "file_extension": ".sce",
		   "help_links": [
			{
			 "text": "MetaKernel Magics",
			 "url": "https://github.com/calysto/metakernel/blob/master/metakernel/magics/README.md"
			}
		   ],
		   "mimetype": "text/x-octave",
		   "name": "scilab",
		   "version": "0.7.1"
		  }
		 },
		 "nbformat": 4,
		 "nbformat_minor": 0
}
