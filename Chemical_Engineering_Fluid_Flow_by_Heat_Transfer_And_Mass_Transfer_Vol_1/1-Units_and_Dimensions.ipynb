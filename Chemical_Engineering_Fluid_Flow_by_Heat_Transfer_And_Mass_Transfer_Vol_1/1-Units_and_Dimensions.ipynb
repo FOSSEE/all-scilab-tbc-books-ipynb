{
"cells": [
 {
		   "cell_type": "markdown",
	   "metadata": {},
	   "source": [
       "# Chapter 1: Units and Dimensions"
	   ]
	},
{
		   "cell_type": "markdown",
		   "metadata": {},
		   "source": [
			"## Example 1.1: Conversion_of_poise_into_British_Engineering_and_SI_units.sce"
		   ]
		  },
  {
"cell_type": "code",
	   "execution_count": null,
	   "metadata": {
	    "collapsed": true
	   },
	   "outputs": [],
"source": [
"clc;\n",
"\n",
"printf('Example 1.1\n');\n",
"// 1 Poise = 1g/cm s = ((1/453.6)lb)/((1/30.48)ft*1s)\n",
"be=30.48/453.6*3600; //be->british engineering unit\n",
"printf('\n 1 Poise = %.4f lb/ft s',be/3600);\n",
"printf('\n         = %.0f lb/ft h',be);\n",
"\n",
"// 1 Poise = 1g/cm s = ((1/1000)kg)/((1/100)m*1s)\n",
"si=100/1000; //si->SI units\n",
"printf('\n 1 Poise = %.1f kg/m s ',si);\n",
"printf('\n         = %.1f N s/m^2 ',si);"
   ]
   }
,
{
		   "cell_type": "markdown",
		   "metadata": {},
		   "source": [
			"## Example 1.2: Conversion_of_kW_to_hp.sce"
		   ]
		  },
  {
"cell_type": "code",
	   "execution_count": null,
	   "metadata": {
	    "collapsed": true
	   },
	   "outputs": [],
"source": [
"clc;\n",
"printf('Example 1.2\n');\n",
"// 1 kW= 103 W = 103 J/s = 10^3 * (1 kg*1 m^2)/1 s^3\n",
"//                       = (10^3 * (1/0.4536) lb x (1/0.3048)^2 ft^2)/1 s^3\n",
"lfs=(10^3*(1/0.4536)*(1/.3048)^2); //lfs->lb ft^2/s^3\n",
"printf('\n 1 kW = %.0f lb ft^2/s^3',lfs);\n",
"sfs=lfs/32.2; //sfs->slug ft^2/s^3\n",
"printf('\n 1 kW = %.0f slug ft^2/s^3',sfs);\n",
"printf('\n 1 kW = %.0f lbf ft/s',sfs);\n",
"hp=sfs/550;\n",
"printf('\n 1 kW = %.2f h.p.',hp);\n",
"printf('\n 1 h.p.= %.3f kW',1/hp)"
   ]
   }
],
"metadata": {
		  "kernelspec": {
		   "display_name": "Scilab",
		   "language": "scilab",
		   "name": "scilab"
		  },
		  "language_info": {
		   "file_extension": ".sce",
		   "help_links": [
			{
			 "text": "MetaKernel Magics",
			 "url": "https://github.com/calysto/metakernel/blob/master/metakernel/magics/README.md"
			}
		   ],
		   "mimetype": "text/x-octave",
		   "name": "scilab",
		   "version": "0.7.1"
		  }
		 },
		 "nbformat": 4,
		 "nbformat_minor": 0
}
