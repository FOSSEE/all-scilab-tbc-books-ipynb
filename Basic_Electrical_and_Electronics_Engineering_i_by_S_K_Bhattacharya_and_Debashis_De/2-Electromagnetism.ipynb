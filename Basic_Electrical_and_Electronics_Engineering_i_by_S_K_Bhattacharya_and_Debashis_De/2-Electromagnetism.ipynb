{
"cells": [
 {
		   "cell_type": "markdown",
	   "metadata": {},
	   "source": [
       "# Chapter 2: Electromagnetism"
	   ]
	},
{
		   "cell_type": "markdown",
		   "metadata": {},
		   "source": [
			"## Example 2.10: Calculate_the_amount_of_flux.sce"
		   ]
		  },
  {
"cell_type": "code",
	   "execution_count": null,
	   "metadata": {
	    "collapsed": true
	   },
	   "outputs": [],
"source": [
"//Ex_2_10\n",
"clc;\n",
"clear;\n",
"format('v',6);\n",
"close;\n",
"//given data : \n",
"D=25/100;//m\n",
"A=9/10000;//m^2\n",
"N=100;//turns\n",
"I=1.5;//A\n",
"l=%pi*D;//m\n",
"mur=2000;//relative permeability\n",
"mu0=4*%pi*10^-7;//permeability\n",
"fi=N*I/l*(mu0*mur*A);//Wb\n",
"disp(fi*1000,'Flux produced(mWb)');"
   ]
   }
,
{
		   "cell_type": "markdown",
		   "metadata": {},
		   "source": [
			"## Example 2.11: Calculate_the_current.sce"
		   ]
		  },
  {
"cell_type": "code",
	   "execution_count": null,
	   "metadata": {
	    "collapsed": true
	   },
	   "outputs": [],
"source": [
"//Ex_2_11\n",
"clc;\n",
"clear;\n",
"close;\n",
"format('v',6);\n",
"//given data : \n",
"lg=0.01/100;//m(airgap)\n",
"li=39.99/100;//m(mean length)\n",
"mur=2000;//relative permeability\n",
"mu0=4*%pi*10^-7;//permeability\n",
"N=1000;//turns\n",
"A=9/10000;//m^2\n",
"fi=1;//mWb\n",
"S=li/(mu0*mur*A)+lg/(mu0*A);//AT/Wb\n",
"I=fi*10^-3*S/N;//A\n",
"disp(I,'Current required(A)');"
   ]
   }
,
{
		   "cell_type": "markdown",
		   "metadata": {},
		   "source": [
			"## Example 2.12: Calculate_the_current.sce"
		   ]
		  },
  {
"cell_type": "code",
	   "execution_count": null,
	   "metadata": {
	    "collapsed": true
	   },
	   "outputs": [],
"source": [
"//Ex_2_12\n",
"clc;\n",
"clear;\n",
"close;\n",
"format('v',7);\n",
"//given data : \n",
"Ac=10/10000;//m^2\n",
"Ao=5/10000;//m^2(outer limbs)\n",
"Lo=25;//cm(outer limbs)\n",
"Lc=16;//cm\n",
"N=1000;//turns\n",
"fic=1.2;//mWb\n",
"fio=1.2;//mWb\n",
"B=1.2;//Wb/m^2\n",
"mmf=750;//AT/m\n",
"Bc=fic*10^-3/Ac;//Wb/m^2\n",
"Bo=fio*10^-3/Ao;//Wb/m^2\n",
"mmf_total=mmf*Lo/100+mmf*Lc/100;//AT/m\n",
"I=mmf_total/N;//A\n",
"disp(I,'Current required(A)');"
   ]
   }
,
{
		   "cell_type": "markdown",
		   "metadata": {},
		   "source": [
			"## Example 2.13: Calculate_the_amount_of_flux.sce"
		   ]
		  },
  {
"cell_type": "code",
	   "execution_count": null,
	   "metadata": {
	    "collapsed": true
	   },
	   "outputs": [],
"source": [
"//Ex_2_13\n",
"clc;\n",
"clear;\n",
"close;\n",
"format('v',4);\n",
"//given data : \n",
"Ao=5/10000;//m^2(outer limbs)\n",
"li=100/100;//m(iron path)\n",
"A=10/10000;//m^2\n",
"lg=1/1000;//m(airgap)\n",
"I1=3;//A\n",
"I2=2;//A\n",
"N1=100;//turns\n",
"N2=50;//turns\n",
"mur=2000;//relative permeability\n",
"mu0=4*%pi*10^-7;//permeability\n",
"mmf=N1*I1-N2*I2;//AT\n",
"S=1/(mu0*A)*[li/mur+lg];//AT/Wb\n",
"fi=mmf/S*1000;//mWb\n",
"disp(fi,'Flux available(mWb)');"
   ]
   }
,
{
		   "cell_type": "markdown",
		   "metadata": {},
		   "source": [
			"## Example 2.14: Calculate_the_amount_of_flux.sce"
		   ]
		  },
  {
"cell_type": "code",
	   "execution_count": null,
	   "metadata": {
	    "collapsed": true
	   },
	   "outputs": [],
"source": [
"//Ex_2_14\n",
"clc;\n",
"clear;\n",
"close;\n",
"format('v',10);\n",
"//given data : \n",
"N1=100;//turns\n",
"N2=80;//turns\n",
"I1=10;//A\n",
"I2=1.5;//A\n",
"li=40/100;//m\n",
"lg=1/1000;//m(airgap)\n",
"A=10/10000;//m^2\n",
"mur=2000;//relative permeability\n",
"mu0=4*%pi*10^-7;//permeability\n",
"mmf=N1*I1-N2*I2;//AT\n",
"S=1/(mu0*A)*[li/mur+lg];//AT/Wb\n",
"fi=mmf/S;//Wb\n",
"disp(fi,'Flux produced(Wb)');"
   ]
   }
,
{
		   "cell_type": "markdown",
		   "metadata": {},
		   "source": [
			"## Example 2.15: Calculate_the_current.sce"
		   ]
		  },
  {
"cell_type": "code",
	   "execution_count": null,
	   "metadata": {
	    "collapsed": true
	   },
	   "outputs": [],
"source": [
"//Ex_2_15\n",
"clc;\n",
"clear;\n",
"close;\n",
"format('v',5);\n",
"//given data : \n",
"N=2000;//turns\n",
"lg=2/1000;//m(airgap)\n",
"lc=20/100;//m(mean diameter)\n",
"Ac=10/10000;//m^2(cross section central limb)\n",
"Ao=5/10000;//m^2(cross section outer limb)\n",
"B=[1 1.1 1.2 1.3 1.4];//Wb/m^2\n",
"H=[550 650.750 820 870];//AT/m\n",
"fi=1.1/1000;//Wb\n",
"Bc=fi/Ac;//Wb/m^2(For central limb)\n",
"Bo=fi/Ao;//Wb/m^2(For outer limb)\n",
"for i=1:5\n",
"    if Bc==B(i) then\n",
"        H=H(i);//AT/m\n",
"B=B(i);//Wb/m^2\n",
"        break;\n",
"    end;\n",
"end;\n",
"lo=%pi*lc/2;//m(outer limb, including airgap)\n",
"//H=NI/l\n",
"NIc=H*lc;//AT//NI for central limb\n",
"NIo=H*(lo-lg);//AT//NI for outer limb\n",
"mu0=4*%pi*10^-7;//permeability of air\n",
"Hg=B/mu0;//AT/m\n",
"NIag=Hg*lg;////AT//NI for airgap\n",
"NI=NIc+NIo+NIag;//AT//Total AT required\n",
"I=NI/N;//A\n",
"disp(I,'Current I(A)');"
   ]
   }
,
{
		   "cell_type": "markdown",
		   "metadata": {},
		   "source": [
			"## Example 2.16: Calculate_the_flux.sce"
		   ]
		  },
  {
"cell_type": "code",
	   "execution_count": null,
	   "metadata": {
	    "collapsed": true
	   },
	   "outputs": [],
"source": [
"//Ex_2_16\n",
"clc;\n",
"clear;\n",
"close;\n",
"format('v',5);\n",
"//given data :\n",
"LA=75/100;///m\n",
"LB=25/100;///m\n",
"lg=2/100;//m(airgap)\n",
"mu_r1=1000;///relative permeability\n",
"mu_r2=1500;///relative permeability\n",
"mu0=4*%pi*10^-7;//permeability of air\n",
"A=10*10^-4;//m^2//Area of core\n",
"N=1000;//turns\n",
"I=5;//A\n",
"S=LA/(mu0*mu_r1*A)+LB/(mu0*mu_r2*A)+lg/(mu0*A);//Wb/m^2\n",
"fi=N*I/S*1000;//mWb\n",
"disp(fi,'Flux produced in the air-gap(mWb)');"
   ]
   }
,
{
		   "cell_type": "markdown",
		   "metadata": {},
		   "source": [
			"## Example 2.17: Calculate_the_magnetizing_current.sce"
		   ]
		  },
  {
"cell_type": "code",
	   "execution_count": null,
	   "metadata": {
	    "collapsed": true
	   },
	   "outputs": [],
"source": [
"//Ex_2_17\n",
"clc;\n",
"clear;\n",
"close;\n",
"format('v',5);\n",
"//given data :\n",
"CD=10/100;BE=10/100;AF=10/100;//m\n",
"BC=8/100;ED=8/100;AB=8/100;EF=8/100;//m\n",
"BCDE=BC+CD+ED;//m\n",
"BAFE=AB+BE+EF;//m\n",
"A=2*2*10^-4;//m^2\n",
"mu_r=1200;///relative permeability\n",
"N=800;//turns\n",
"fi2=2*10^-3;//Wb\n",
"mu0=4*%pi*10^-7;//permeability of air\n",
"S2=BAFE/(mu0*mu_r*A);//Wb/m^2\n",
"S1=BE/(mu0*mu_r*A);//Wb/m^2\n",
"fi1=fi2*S2/S1;//Wb\n",
"fi=fi1+fi2;//Wb\n",
"AT2=fi*S2;//AT//for portion BAFE\n",
"AT1=fi1*S1;//AT//for portion BCDE\n",
"AT=AT1+AT2;//AT//Toal AT required\n",
"NI=AT;//AT\n",
"I=NI/N;//A\n",
"disp(I,'Magnetizing current(A)');"
   ]
   }
,
{
		   "cell_type": "markdown",
		   "metadata": {},
		   "source": [
			"## Example 2.18: Flux_density_and_magnetic_pull.sce"
		   ]
		  },
  {
"cell_type": "code",
	   "execution_count": null,
	   "metadata": {
	    "collapsed": true
	   },
	   "outputs": [],
"source": [
"//Ex_2_18\n",
"clc;\n",
"clear;\n",
"close;\n",
"format('v',7);\n",
"//given data :\n",
"lg=1/1000;//m//air-gap\n",
"li=20/100;//m//flux path\n",
"mu0=4*%pi*10^-7;//permeability of air\n",
"mu_r=500;///relative permeability\n",
"A=0.5*10^-4;//m^2//Area\n",
"I=50/1000;//A\n",
"N=8000;//turns\n",
"S=li/mu0/mu_r/A+2*lg/mu0/A;//AT/Wb\n",
"fi=N*I/S;//Wb\n",
"B=fi/A;//Wb/m^2\n",
"disp(B,'Flux Density(Wb/m^2)');\n",
"format('v',5);\n",
"F=B*A/2/mu0;//N\n",
"disp(F,'Magnetic Pull(N)');"
   ]
   }
,
{
		   "cell_type": "markdown",
		   "metadata": {},
		   "source": [
			"## Example 2.19: Calculate_the_magnetic_field.sce"
		   ]
		  },
  {
"cell_type": "code",
	   "execution_count": null,
	   "metadata": {
	    "collapsed": true
	   },
	   "outputs": [],
"source": [
"//Ex_2_19\n",
"clc;\n",
"clear;\n",
"close;\n",
"format('v',7);\n",
"//given data :\n",
"I=100;//A\n",
"r=1;//m\n",
"mu0=4*%pi*10^-7;//permeability of air\n",
"B=mu0*I/2/%pi/r;//Wb/m^2\n",
"disp(B,'Magnetic field produced(Wb/m^2)');"
   ]
   }
,
{
		   "cell_type": "markdown",
		   "metadata": {},
		   "source": [
			"## Example 2.1: Inductance_and_coupling_coefficient.sce"
		   ]
		  },
  {
"cell_type": "code",
	   "execution_count": null,
	   "metadata": {
	    "collapsed": true
	   },
	   "outputs": [],
"source": [
"//Ex_2_1\n",
"clc;\n",
"clear;\n",
"close;\n",
"format('v',6);\n",
"//given data : \n",
"LTsc=1.6;//H(Series cumulative)\n",
"LTd=0.4;//H(differentially)\n",
"L1=0.6;//H\n",
"M=(LTsc-LTd)/4;//H(Mutual Inductance)\n",
"L2=LTsc-2*M-L1;//H\n",
"K=M/sqrt(L1*L2);//Coupling Coefficient\n",
"disp(M,'Mutual Inductance(H)');\n",
"disp(K,'Coupling Coefficient');"
   ]
   }
,
{
		   "cell_type": "markdown",
		   "metadata": {},
		   "source": [
			"## Example 2.20: Calculate_the_resultant_force.sce"
		   ]
		  },
  {
"cell_type": "code",
	   "execution_count": null,
	   "metadata": {
	    "collapsed": true
	   },
	   "outputs": [],
"source": [
"//Ex_2_20\n",
"clc;\n",
"clear;\n",
"close;\n",
"format('e',9);\n",
"//given data :\n",
"I1=100;//A\n",
"I2=10;//A\n",
"l=20/100;//m\n",
"r1=1/100;//m\n",
"r2=11/100;//m\n",
"mu0=4*%pi*10^-7;//permeability of air\n",
"//Force of attraction between Conductor & AB\n",
"F1=mu0*I1*I2*l/2/%pi/r1;//N\n",
"//Force of repulsion between Conductor & CD\n",
"F2=mu0*I1*I2*l/2/%pi/r2;//N\n",
"//Net Force\n",
"F=F1-F2;//N\n",
"disp(F,'Resultant force developed(N)');"
   ]
   }
,
{
		   "cell_type": "markdown",
		   "metadata": {},
		   "source": [
			"## Example 2.21: Value_of_exciting_current.sce"
		   ]
		  },
  {
"cell_type": "code",
	   "execution_count": null,
	   "metadata": {
	    "collapsed": true
	   },
	   "outputs": [],
"source": [
"//Ex_2_21\n",
"clc;\n",
"clear;\n",
"close;\n",
"format('v',4);\n",
"//given data :\n",
"N=500;//turns\n",
"A=0.01;//m^2(Area of cross section of poles)\n",
"l=0.5;//m(mean length)\n",
"mu0=4*%pi*10^-7;//permeability of air\n",
"mu_r=1000;///relative permeability\n",
"g=9.8;//gravitational acceleration\n",
"W=200;//kg\n",
"F=W/2;//kg\n",
"F=F*g;//N\n",
"B=sqrt(F*2*mu0/A);//Wb/m^2\n",
"H=B/mu0/mu_r;//Wb/m^2\n",
"I=H*l/N;//A\n",
"disp(I,'Exciting current(A)');"
   ]
   }
,
{
		   "cell_type": "markdown",
		   "metadata": {},
		   "source": [
			"## Example 2.2: Calculate_the_emf_induced.sce"
		   ]
		  },
  {
"cell_type": "code",
	   "execution_count": null,
	   "metadata": {
	    "collapsed": true
	   },
	   "outputs": [],
"source": [
"//Ex_2_2\n",
"clc;\n",
"clear;\n",
"close;\n",
"format('v',6);\n",
"//given data : \n",
"l=0.5;//m\n",
"B=0.5;//Wb/m^2\n",
"I=50;//A\n",
"v=20;//m/s\n",
"F=B*l*I;//N\n",
"disp(F,'Force expereinced by the conductor(N)');\n",
"e=B*l*v;//V\n",
"disp(e,'emf induced(V)');"
   ]
   }
,
{
		   "cell_type": "markdown",
		   "metadata": {},
		   "source": [
			"## Example 2.3: Calculate_Inductance_and_emf.sce"
		   ]
		  },
  {
"cell_type": "code",
	   "execution_count": null,
	   "metadata": {
	    "collapsed": true
	   },
	   "outputs": [],
"source": [
"//Ex_2_3\n",
"clc;\n",
"clear;\n",
"close;\n",
"format('v',6);  \n",
"//given data : \n",
"N=100;//turns\n",
"l=0.5;//m\n",
"A=10/10000;//m^2\n",
"mur=2000;//relative permeability of iron\n",
"mu0=4*%pi*10^-7;//permeability\n",
"I=5;//A\n",
"t=10;//ms\n",
"L=mur*mu0*N^2*A/l*1000;//mH\n",
"disp(L,'Inductance of the coil(mH)');\n",
"E=L*2*I/t;//V\n",
"disp(E,'Induced emf in the coil(V)');"
   ]
   }
,
{
		   "cell_type": "markdown",
		   "metadata": {},
		   "source": [
			"## Example 2.4: Calculate_Inductance_and_emf.sce"
		   ]
		  },
  {
"cell_type": "code",
	   "execution_count": null,
	   "metadata": {
	    "collapsed": true
	   },
	   "outputs": [],
"source": [
"//Ex_2_4\n",
"clc;\n",
"clear;\n",
"close;\n",
"format('v',6);\n",
"//given data : \n",
"N1=500;//turns\n",
"N2=2000;//turns\n",
"K=50/100;//coefficient for 50% flux linked\n",
"diBYdt=10;//A/s\n",
"L1=200;//mH\n",
"fi1BYI1=L1/N1;\n",
"M=N2*fi1BYI1;//mH\n",
"e2=M*10^-3*diBYdt;//V\n",
"disp(M/1000,'Mutual Inductance of two coil(H)');\n",
"disp(e2,'Induced emf in the coil having 1000 turns(V)');"
   ]
   }
,
{
		   "cell_type": "markdown",
		   "metadata": {},
		   "source": [
			"## Example 2.5: Mutual_and_Self_Inductance.sce"
		   ]
		  },
  {
"cell_type": "code",
	   "execution_count": null,
	   "metadata": {
	    "collapsed": true
	   },
	   "outputs": [],
"source": [
"//Ex_2_5\n",
"clc;\n",
"clear;\n",
"close;\n",
"format('v',6);\n",
"//given data : \n",
"I1=5;//A\n",
"N1=500;//turns\n",
"fi1=1;//mWb\n",
"dt=10;//ms\n",
"e2=50;//V\n",
"K=60/100;//coefficient of coupling\n",
"di1=2*(I1);//A(as current changes from +5A to -5A)\n",
"M=e2*dt*10^-3/di1;//H\n",
"L1=N1*fi1/1000/I1;//H\n",
"L2=L1*M^2/K^2;//H\n",
"disp(M,'Mutual Inductance of two coil(H)');\n",
"disp(L1,'Self inductance of coil 1(H)');\n",
"disp(L2,'Self inductance of coil 2(H)');\n",
"//Answer is wrong in the book."
   ]
   }
,
{
		   "cell_type": "markdown",
		   "metadata": {},
		   "source": [
			"## Example 2.6: Determine_L1_L2_M_and_K.sce"
		   ]
		  },
  {
"cell_type": "code",
	   "execution_count": null,
	   "metadata": {
	    "collapsed": true
	   },
	   "outputs": [],
"source": [
"//Ex_2_6\n",
"clc;\n",
"clear;\n",
"close;\n",
"format('v',6);\n",
"//given data : \n",
"N1=1000;//turns\n",
"N2=400;//turns\n",
"K1=75/100;//coefficient of coupling\n",
"I1=6;//A\n",
"I2=6;//A\n",
"fi1=0.8;//mWb\n",
"fi2=0.5;//mWb\n",
"L1=N1*fi1*10^-3/I1;//H\n",
"L2=N2*fi2*10^-3/I2;//H\n",
"M=N2*K1*fi1*10^-3/I1;//H\n",
"K=M/sqrt(L1*L2);\n",
"disp(L1,'Self inductance of coil 1(H)');\n",
"disp(L2,'Self inductance of coil 2(H)');\n",
"disp(M,'Mutual Inductance of two coil(H)');\n",
"disp(K,'Coefficient of coupling');"
   ]
   }
,
{
		   "cell_type": "markdown",
		   "metadata": {},
		   "source": [
			"## Example 2.7: Calculate_flux_density.sce"
		   ]
		  },
  {
"cell_type": "code",
	   "execution_count": null,
	   "metadata": {
	    "collapsed": true
	   },
	   "outputs": [],
"source": [
"//Ex_2_7\n",
"clc;\n",
"clear;\n",
"close;\n",
"format('v',7);\n",
"//given data : \n",
"r=10;//cm\n",
"I=100;//A\n",
"d=5;//cm\n",
"mu0=4*%pi*10^-7;//permeability\n",
"Bc=mu0*I/2/(r/100);//Wb/m^2 or T\n",
"B=mu0*I*(r/100)^2/(2*((r/100)^2+(d/100)^2)^(3/2));//Wb/m^2\n",
"disp(Bc,'Flux density at the centre(Wb/m^2)');\n",
"disp(B,'Flux density in the plane(Wb/m^2)');\n",
"//Answer is wrong in the book."
   ]
   }
,
{
		   "cell_type": "markdown",
		   "metadata": {},
		   "source": [
			"## Example 2.8: MMF_and_current.sce"
		   ]
		  },
  {
"cell_type": "code",
	   "execution_count": null,
	   "metadata": {
	    "collapsed": true
	   },
	   "outputs": [],
"source": [
"//Ex_2_8\n",
"clc;\n",
"clear;\n",
"close;\n",
"format('v',6);\n",
"//given data : \n",
"D=0.5;//m(mean diameter)\n",
"A=0.01;//m^2\n",
"fi=10/1000;//Wb\n",
"N=100;//turns\n",
"mmf1=10;//A-turn//(for Ni alloy)\n",
"mmf2=50;//A-turn//(for Si-steel alloy)\n",
"l=%pi*D;//m(total length)\n",
"lni=l/2;//m(length of Ni alloy)\n",
"lsi=l/2;//m(length of Si-steel)\n",
"mmf=mmf1*lni+mmf2*lsi;//A-turn///total mmf\n",
"disp(mmf,'mmf required(A-turn)');\n",
"I=mmf/N;//A\n",
"disp(I,'Current(A)');"
   ]
   }
,
{
		   "cell_type": "markdown",
		   "metadata": {},
		   "source": [
			"## Example 2.9: Calculate_the_reluctance.sce"
		   ]
		  },
  {
"cell_type": "code",
	   "execution_count": null,
	   "metadata": {
	    "collapsed": true
	   },
	   "outputs": [],
"source": [
"//Ex_2_9\n",
"clc;\n",
"clear;\n",
"close;\n",
"format('e',9);\n",
"//given data : \n",
"l=20/100;//m\n",
"A=1.5/10000;//m^2\n",
"mur=2000;//relative permeability\n",
"mu0=4*%pi*10^-7;//permeability\n",
"S=l/(mu0*mur*A);//AT/Wb\n",
"disp(S,'Reluctance of silicon steel(AT/Wb)');"
   ]
   }
],
"metadata": {
		  "kernelspec": {
		   "display_name": "Scilab",
		   "language": "scilab",
		   "name": "scilab"
		  },
		  "language_info": {
		   "file_extension": ".sce",
		   "help_links": [
			{
			 "text": "MetaKernel Magics",
			 "url": "https://github.com/calysto/metakernel/blob/master/metakernel/magics/README.md"
			}
		   ],
		   "mimetype": "text/x-octave",
		   "name": "scilab",
		   "version": "0.7.1"
		  }
		 },
		 "nbformat": 4,
		 "nbformat_minor": 0
}
