{
"cells": [
 {
		   "cell_type": "markdown",
	   "metadata": {},
	   "source": [
       "# Chapter 8: BJT Circuits"
	   ]
	},
{
		   "cell_type": "markdown",
		   "metadata": {},
		   "source": [
			"## Example 8.1: Calculate_IB_IC_VCE.sce"
		   ]
		  },
  {
"cell_type": "code",
	   "execution_count": null,
	   "metadata": {
	    "collapsed": true
	   },
	   "outputs": [],
"source": [
"//Ex_8_1\n",
"clc;\n",
"clear;\n",
"close;\n",
"format('v',6);\n",
"//given data : \n",
"Beta=100;//unitless\n",
"Rc=2;//kohm\n",
"Rb=100;//kohm\n",
"Vcc=10;//V\n",
"VBE=0.7;//V\n",
"//Part (a)\n",
"IB=(Vcc-VBE)/(Beta*Rc+Rc+Rb);//mA\n",
"disp(IB,'IB(mA)');\n",
"format('v',4);\n",
"IC=Beta*IB;//mA\n",
"disp(IC,'IC(mA)');\n",
"format('v',5);\n",
"VCE=Vcc-(IB+IC)*Rc;//V\n",
"disp(VCE,'VCE(V)');\n",
"//Part (b)\n",
"format('v',8);\n",
"VCE=7;//V\n",
"ICB=(Vcc-VCE)/Rc;//mA(ICB=IC+IB)\n",
"IB=ICB/(1+Beta);//mA\n",
"IC=ICB*Beta;//mA\n",
"Rb=(Vcc-VBE-Rc*ICB)/IB;//kohm\n",
"disp(Rb,'Value of Rb(kohm)');"
   ]
   }
,
{
		   "cell_type": "markdown",
		   "metadata": {},
		   "source": [
			"## Example 8.4: Find_Re_R1_and_R2.sce"
		   ]
		  },
  {
"cell_type": "code",
	   "execution_count": null,
	   "metadata": {
	    "collapsed": true
	   },
	   "outputs": [],
"source": [
"//Ex_8_4\n",
"clc;\n",
"clear;\n",
"close;\n",
"format('v',6);\n",
"//given data : \n",
"Beta=50;//unitless\n",
"VBE=0.7;//V\n",
"VCC=22.5;//V\n",
"Rc=5.6;//kohm\n",
"VCE=12;//V\n",
"IC=1.5;//mA\n",
"S=3;//Stability factor(S<=3)\n",
"Rec=(VCC-VCE)/IC;//kohm(Rec=Re+Rc)\n",
"Re=Rec-Rc;//kohm\n",
"RbBYRe=(S-1)/(1-S/(1+Beta))\n",
"Rb=RbBYRe*Re;//kohm\n",
"IB=IC/Beta;//mA\n",
"V=IB*Rb+VBE+(IB/1000+IC)*Re;//V\n",
"R1=Rb*VCC/V;//kohm\n",
"R2=R1*V/(VCC-V);//kohm\n",
"disp(Re,'Value of Re(kohm)');\n",
"disp(R1,'Value of R1(kohm)');\n",
"disp(R2,'Value of R2(kohm)');\n",
"//Answer in the book is wrong for R1."
   ]
   }
,
{
		   "cell_type": "markdown",
		   "metadata": {},
		   "source": [
			"## Example 8.5: Find_R1_R2_Re.sce"
		   ]
		  },
  {
"cell_type": "code",
	   "execution_count": null,
	   "metadata": {
	    "collapsed": true
	   },
	   "outputs": [],
"source": [
"//Ex_8_5\n",
"clc;\n",
"clear;\n",
"close;\n",
"format('v',6);\n",
"//given data : \n",
"VCC=20;//V\n",
"Rc=1.5;//kohm\n",
"VCE=8;//V\n",
"IC=4;//mA\n",
"Beta=50;//unitless\\n",
"VBE=0.2;//V\n",
"disp('Part (a)');\n",
"S=12;//Stability factor\n",
"IB=IC/Beta;//mA\n",
"Re=(VCC-VCE-IC*Rc)/(IB+IC);//kohm\n",
"RbBYRe=(S-1)/(1-S/(1+Beta))\n",
"Rb=RbBYRe*Re;//kohm\n",
"IE=IB+IC;//mA\n",
"VBN=VBE+IE*Re;//V\n",
"V=VBN+IB*Rb;//V\n",
"R1=Rb*VCC/V;//kohm\n",
"IR1=(VCC-VBN)/R1;//mA\n",
"IR2=IR1-IB;//mA\n",
"R2=VBN/IR2;//kohm\n",
"disp(R1,'Value of R1(kohm)');\n",
"disp(R2,'Value of R2(kohm)');\n",
"disp(Re,'Value of Re(kohm)');\n",
"disp('Part (b)');\n",
"S=3;//Stability factor\n",
"IB=IC/Beta;//mA\n",
"Re=(VCC-VCE-IC*Rc)/(IB+IC);//kohm\n",
"RbBYRe=(S-1)/(1-S/(1+Beta))\n",
"Rb=RbBYRe*Re;//kohm\n",
"IE=IB+IC;//mA\n",
"VBN=VBE+IE*Re;//V\n",
"V=VBN+IB*Rb;//V\n",
"R1=Rb*VCC/V;//kohm\n",
"IR1=(VCC-VBN)/R1;//mA\n",
"IR2=IR1-IB;//mA\n",
"R2=VBN/IR2;//kohm\n",
"disp(R1,'Value of R1(kohm)');\n",
"disp(R2,'Value of R2(kohm)');\n",
"format('v',5);\n",
"disp(Re,'Value of Re(kohm)');\n",
"disp(Rb,'Value of Rb(kohm)');\n",
"//Answer in the book is wrong."
   ]
   }
,
{
		   "cell_type": "markdown",
		   "metadata": {},
		   "source": [
			"## Example 8.6: Determine_Re_and_stability_factor.sce"
		   ]
		  },
  {
"cell_type": "code",
	   "execution_count": null,
	   "metadata": {
	    "collapsed": true
	   },
	   "outputs": [],
"source": [
"//Ex_8_6\n",
"clc;\n",
"clear;\n",
"close;\n",
"format('v',6);\n",
"//given data : \n",
"VBE=0.7;//V\n",
"Beta=50;//unitless\n",
"VCE=4;//V\n",
"VCC=12;//V\n",
"Rc=4.3;//kohm\n",
"VEE=-6;//V\n",
"IC=1.5;//mA\n",
"S=3;//Stability factor(S<=3)\n",
"Rec=(VCC-VCE)/IC;//kohm(Rec=Re+Rc)\n",
"Re=Rec-Rc;//kohm\n",
"RbBYRe=(S-1)/(1-S/(1+Beta))\n",
"Rb=RbBYRe*Re;//kohm\n",
"IB=IC/Beta;//mA\n",
"V=IB*Rb+VBE+(IB/1000+IC)*Re;//V\n",
"R1=Rb*VCC/V;//kohm\n",
"R2=R1*V/(VCC-V);//kohm\n",
"disp(Re,'Value of Re(kohm)');\n",
"disp(R1,'Value of R1(kohm)');\n",
"disp(R2,'Value of R2(kohm)');\n",
"//Answer in the book is wrong for R1."
   ]
   }
],
"metadata": {
		  "kernelspec": {
		   "display_name": "Scilab",
		   "language": "scilab",
		   "name": "scilab"
		  },
		  "language_info": {
		   "file_extension": ".sce",
		   "help_links": [
			{
			 "text": "MetaKernel Magics",
			 "url": "https://github.com/calysto/metakernel/blob/master/metakernel/magics/README.md"
			}
		   ],
		   "mimetype": "text/x-octave",
		   "name": "scilab",
		   "version": "0.7.1"
		  }
		 },
		 "nbformat": 4,
		 "nbformat_minor": 0
}
