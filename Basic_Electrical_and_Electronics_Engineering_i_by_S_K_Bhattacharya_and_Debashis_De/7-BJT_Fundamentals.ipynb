{
"cells": [
 {
		   "cell_type": "markdown",
	   "metadata": {},
	   "source": [
       "# Chapter 7: BJT Fundamentals"
	   ]
	},
{
		   "cell_type": "markdown",
		   "metadata": {},
		   "source": [
			"## Example 7.10: Voltage_changes.sce"
		   ]
		  },
  {
"cell_type": "code",
	   "execution_count": null,
	   "metadata": {
	    "collapsed": true
	   },
	   "outputs": [],
"source": [
"//Ex_7_10\n",
"clc;\n",
"clear;\n",
"close;\n",
"format('v',6);\n",
"//given data :\n",
"delVB=0.4;//V\n",
"delVC=0;//V//No change\n",
"delVE=delVB;//V//Same change\n",
"disp(delVC,delVE,'delVE(V) & delVC(V) are : ');"
   ]
   }
,
{
		   "cell_type": "markdown",
		   "metadata": {},
		   "source": [
			"## Example 7.11: Emitter_Voltage.sce"
		   ]
		  },
  {
"cell_type": "code",
	   "execution_count": null,
	   "metadata": {
	    "collapsed": true
	   },
	   "outputs": [],
"source": [
"//Ex_7_11\n",
"clc;\n",
"clear;\n",
"close;\n",
"format('v',6);\n",
"//given data :\n",
"VBE=0.7;////V\n",
"Beta=100;///Current Gain\n",
"//Part (a)\n",
"VCC=6;////V\n",
"VEE=0;////V\n",
"VB=2;////V\n",
"RE=18;//kohm\n",
"RC=3;//kohm\n",
"VE=VB-VBE;//V\n",
"disp(VE,'(a) Emitter Voltage(V) : ');\n",
"IE=1;///mA\n",
"IC=IE*Beta/(1+Beta);///mA\n",
"VC=VCC-IC*RC;//V\n",
"if VC>VE then\n",
"    disp('Circuit is in active mode.');\n",
"end;\n",
"//Part (b)\n",
"VEE=6;////V\n",
"VCC=0;////V\n",
"VB=1;////V\n",
"RE=10;//kohm\n",
"RC=10;//kohm\n",
"VE=VB+VBE;//V\n",
"disp(VE,'(b) Emitter Voltage(V) : ');\n",
"IE=(VEE-VE)/RE;///mA\n",
"IC=IE;///mA(Assumed nearly equal)\n",
"VC=VCC+IC*RC;//V\n",
"if VC>VB then\n",
"    disp('Circuit is in saturation mode.');\n",
"end;\n",
"//Part (c)\n",
"VEE=9.5;////V\n",
"VCC=-50;////V\n",
"VB=-5;////V\n",
"RE=200;//kohm\n",
"RC=20;//kohm\n",
"VE=VB+VBE;//V\n",
"disp(VE,'(c) Emitter Voltage(V) : ');\n",
"IE=(VEE-VE)/RE;///mA;///mA\n",
"IC=IE*Beta/(1+Beta);///mA\n",
"VC=VCC-IC*RC;//V\n",
"if VC>VE then\n",
"    disp('Circuit is in active mode.');\n",
"elseif VC<VE\n",
"    disp('Circuit is in reverse active mode.')\n",
"end;\n",
"//Part (d)\n",
"VEE=-30;////V\n",
"VCC=-10;////V\n",
"VB=-20;////V\n",
"RE=6;//kohm\n",
"RC=2;//kohm\n",
"VE=VB-VBE;//V\n",
"disp(VE,'(d) Emitter Voltage(V) : ');\n",
"IE=(VEE-VE)/RE;///mA;///mA\n",
"IC=IE*Beta/(1+Beta);///mA\n",
"VC=VCC-IC*RC;//V\n",
"if VC>VE then\n",
"    disp('Circuit is in active mode.');\n",
"end;\n",
"//Note : Printing error in part (a) in the textbook. Answer is also not accurate in the textbook for part(c)"
   ]
   }
,
{
		   "cell_type": "markdown",
		   "metadata": {},
		   "source": [
			"## Example 7.1: Base_and_collector_current.sce"
		   ]
		  },
  {
"cell_type": "code",
	   "execution_count": null,
	   "metadata": {
	    "collapsed": true
	   },
	   "outputs": [],
"source": [
"//Ex_7_1\n",
"clc;\n",
"clear;\n",
"close;\n",
"//given data : \n",
"format('v',6);\n",
"alfa=0.90;//current gain\n",
"ICO=15;//micro A(reverse saturation currenrt)\n",
"IE=4;//mA(Emitter currenrt)\n",
"IC=ICO*10^-3+alfa*IE;//mA\n",
"IB=IE-IC;//mA\n",
"IB=IB*1000;//micro A\n",
"disp(IC,'Collector Current(mA)');\n",
"disp(IB,'Base Current(micro A)');"
   ]
   }
,
{
		   "cell_type": "markdown",
		   "metadata": {},
		   "source": [
			"## Example 7.2: Value_f_alfa.sce"
		   ]
		  },
  {
"cell_type": "code",
	   "execution_count": null,
	   "metadata": {
	    "collapsed": true
	   },
	   "outputs": [],
"source": [
"//Ex_7_2\n",
"clc;\n",
"clear;\n",
"close;\n",
"//given data : \n",
"format('v',6);\n",
"Beta=90;//unitless\n",
"IC=4;//mA(Collector Current)\n",
"alfa=Beta/(1+Beta);//current gain\n",
"IB=IC/Beta;//mA(Base Current)\n",
"IE=IC+IB;//mA(Emitter currenrt)\n",
"disp(alfa,'Value of alfa');\n",
"disp(IB*1000,'Base Current(micro A)');\n",
"disp(IE,'Emmiter Current(mA)');"
   ]
   }
,
{
		   "cell_type": "markdown",
		   "metadata": {},
		   "source": [
			"## Example 7.3: Calculate_the_collector_current.sce"
		   ]
		  },
  {
"cell_type": "code",
	   "execution_count": null,
	   "metadata": {
	    "collapsed": true
	   },
	   "outputs": [],
"source": [
"//Ex_7_3\n",
"clc;\n",
"clear;\n",
"close;\n",
"format('v',6);\n",
"//given data : \n",
"alfa=0.90;//current gain\n",
"ICO=15;//micro A(reverse saturation currenrt)\n",
"IB=0.5;///mA(Base Current)\n",
"Beta=alfa/(1-alfa);//unitless\n",
"IC=Beta*IB+(1+Beta)*ICO/1000;//mA(Collector Current)\n",
"disp(IC,'Collector Current(mA)');"
   ]
   }
,
{
		   "cell_type": "markdown",
		   "metadata": {},
		   "source": [
			"## Example 7.4: Value_of_Beta.sce"
		   ]
		  },
  {
"cell_type": "code",
	   "execution_count": null,
	   "metadata": {
	    "collapsed": true
	   },
	   "outputs": [],
"source": [
"//Ex_7_4\n",
"clc;\n",
"clear;\n",
"close;\n",
"format('v',6);\n",
"//given data : \n",
"IB=20;///micro A(Base Current)\n",
"IC=5;//mA(Collector Current)\n",
"Beta=IC*1000/IB;//unitless\n",
"disp(Beta,'Beta=');"
   ]
   }
,
{
		   "cell_type": "markdown",
		   "metadata": {},
		   "source": [
			"## Example 7.5: Value_of_IE.sce"
		   ]
		  },
  {
"cell_type": "code",
	   "execution_count": null,
	   "metadata": {
	    "collapsed": true
	   },
	   "outputs": [],
"source": [
"//Ex_7_5\n",
"clc;\n",
"clear;\n",
"close;\n",
"format('v',6);\n",
"//given data : \n",
"IB=50;///micro A(Base Current)\n",
"IC=5;//mA(Collector Current)\n",
"IE=IC+IB/1000;//mA\n",
"Beta=IC*1000/IB;//unitless\n",
"alfa=IC/IE;//current gain\n",
"disp(IE,'Emitter Current(mA)');\n",
"disp(Beta,'Beta=');\n",
"disp(alfa,'alfa=');\n",
"disp('Verify that alfa=Beta/(Beta+1)');\n",
"disp(string(alfa==Beta/(Beta+1)));\n",
"disp('Verify that Beta=alfa/(1-alfa)');\n",
"disp(string(Beta==round(alfa/(1-alfa))));"
   ]
   }
,
{
		   "cell_type": "markdown",
		   "metadata": {},
		   "source": [
			"## Example 7.6: Value_of_alfa_and_beta.sce"
		   ]
		  },
  {
"cell_type": "code",
	   "execution_count": null,
	   "metadata": {
	    "collapsed": true
	   },
	   "outputs": [],
"source": [
"//Ex_7_6\n",
"clc;\n",
"clear;\n",
"close;\n",
"format('v',6);\n",
"//given data : \n",
"IE=10;//mA\n",
"IB=5;///mA(Base Current)\n",
"IC=IE-IB;//mA(Collector Current)\n",
"BetaR=IC/IB;//unitless\n",
"alfaR=IC/IE;//current gain\n",
"disp(BetaR,'BetaR=');\n",
"disp(alfaR,'alfaR=');\n",
"//Answer is wrong in the book."
   ]
   }
,
{
		   "cell_type": "markdown",
		   "metadata": {},
		   "source": [
			"## Example 7.7: Find_current_and_voltage.sce"
		   ]
		  },
  {
"cell_type": "code",
	   "execution_count": null,
	   "metadata": {
	    "collapsed": true
	   },
	   "outputs": [],
"source": [
"//Ex_7_7\n",
"clc;\n",
"clear;\n",
"close;\n",
"format('v',6);\n",
"//given data : \n",
"Beta=100;//unitless\n",
"VBE=0.7;//V\n",
"VCC=10;//V\n",
"//(a) VE=-0.7;//V\n",
"disp('For the circuit in fig(a)');\n",
"VE=-0.7;//V(Constant voltage)\n",
"R1=10;//kohm\n",
"R2=10;//kohm\n",
"IE=(VCC+VE)/R2;//mA\n",
"IB=IE/(Beta+1);//mA\n",
"VC=VCC-R1*1000*(IE-IB)/1000;//V\n",
"disp(VE,'Constant voltage fo the given transistor, VE(V)');\n",
"disp(IE,'Emitter current(mA)');\n",
"format('v',5);\n",
"IB=IB*1000;///micro A\n",
"disp(IB,'Base current(micro A)');\n",
"format('v',6);\n",
"disp(VC,'VC(V)');\n",
"\n",
"//(b) VE=-0.7;//V\n",
"R1=5;//kohm\n",
"R2=5;//kohm\n",
"VEE=-15;//V\n",
"disp('For the circuit in fig(b)');\n",
"VE=-0.7;//V(Constant voltage)\n",
"R1=5;//kohm\n",
"R2=5;//kohm\n",
"IE=(VCC+VE)/R2;//mA\n",
"IC=IE*Beta/(Beta+1);//mA\n",
"VC=VEE+R2*IC;//V\n",
"disp(VE,'Constant voltage fo the given transistor, VE(V)');\n",
"disp(IE,'Emitter current(mA)');\n",
"disp(IC,'Base current(mA)');\n",
"format('v',5);\n",
"disp(VC,'VC(V)');"
   ]
   }
,
{
		   "cell_type": "markdown",
		   "metadata": {},
		   "source": [
			"## Example 7.8: Find_the_voltage.sce"
		   ]
		  },
  {
"cell_type": "code",
	   "execution_count": null,
	   "metadata": {
	    "collapsed": true
	   },
	   "outputs": [],
"source": [
"//Ex_7_8\n",
"clc;\n",
"clear;\n",
"close;\n",
"format('v',6);\n",
"//given data : \n",
"Beta=%inf;//Current gain\n",
"VBE=0.7;////V\n",
"VB=0;//V(For large Beta)\n",
"VE=VB-VBE;////V\n",
"disp(VE,VB,'(a) Value of VB(V) & VE(V) are : ');\n",
"//Part (b)\n",
"R1=5;///kohm\n",
"R2=5;///kohm\n",
"VCC=10;///V\n",
"VEE=-15;///V\n",
"VE=VBE;////V\n",
"VC=VEE+R1/R2*(VCC-VBE);//V\n",
"disp(VC,VE,'(b) Value of VE(V) & VC(V) are : ');\n",
""
   ]
   }
,
{
		   "cell_type": "markdown",
		   "metadata": {},
		   "source": [
			"## Example 7.9: Find_VB_IB_IE_IC.sce"
		   ]
		  },
  {
"cell_type": "code",
	   "execution_count": null,
	   "metadata": {
	    "collapsed": true
	   },
	   "outputs": [],
"source": [
"//Ex_7_9\n",
"clc;\n",
"clear;\n",
"close;\n",
"format('v',6);\n",
"//given data :\n",
"VEE=5;////V\n",
"VCC=-5;////V\n",
"VE=1;////V\n",
"RB=20;//kohm\n",
"RE=5;//kohm\n",
"RC=5;//kohm\n",
"VBE=0.7;////V\n",
"VB=VE-VBE;///V\n",
"IB=VB/RB;///mA\n",
"IE=(VEE-VE)/RE;//mA\n",
"IC=IE-IB;//mA\n",
"VC=VCC+IC*RC;//V\n",
"Beta=IC/IB;//Current gain\n",
"Alfa=IC/IE;//Current gain\n",
"disp(VB,'VB(V) : ');\n",
"disp(IB,'IB(mA) : ');\n",
"disp(IE,'IE(mA) : ');\n",
"disp(IC,'IC(mA) : ');\n",
"format('v',5);\n",
"disp(Beta,'Beta : ');\n",
"disp(Alfa,'Alfa : ');"
   ]
   }
],
"metadata": {
		  "kernelspec": {
		   "display_name": "Scilab",
		   "language": "scilab",
		   "name": "scilab"
		  },
		  "language_info": {
		   "file_extension": ".sce",
		   "help_links": [
			{
			 "text": "MetaKernel Magics",
			 "url": "https://github.com/calysto/metakernel/blob/master/metakernel/magics/README.md"
			}
		   ],
		   "mimetype": "text/x-octave",
		   "name": "scilab",
		   "version": "0.7.1"
		  }
		 },
		 "nbformat": 4,
		 "nbformat_minor": 0
}
