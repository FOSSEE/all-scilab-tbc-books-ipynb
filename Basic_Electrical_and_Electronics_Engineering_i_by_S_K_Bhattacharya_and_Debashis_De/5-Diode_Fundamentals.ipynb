{
"cells": [
 {
		   "cell_type": "markdown",
	   "metadata": {},
	   "source": [
       "# Chapter 5: Diode Fundamentals"
	   ]
	},
{
		   "cell_type": "markdown",
		   "metadata": {},
		   "source": [
			"## Example 5.10: Reverse_saturation_point.sce"
		   ]
		  },
  {
"cell_type": "code",
	   "execution_count": null,
	   "metadata": {
	    "collapsed": true
	   },
	   "outputs": [],
"source": [
"//Example 5_10\n",
"clc;\n",
"clear;\n",
"close;\n",
"format('v',6);\n",
"//given data : \n",
"sigma_p=3;//(ohm-cm)^-1\n",
"sigma_n=0.1;//(ohm-cm)^-1\n",
"Ln=0.15;//cm\n",
"Lp=0.15;//cm\n",
"e=1.6*10^-19;//C/electron\n",
"mu_p=1800;//cm^2/V-s//For Ge\n",
"mu_n=3800;//cm^2/V-s//For Si\n",
"VT=0.026;///eV//at T=27 degree C\n",
"A=1.5;//mm^2\n",
"A=A*10^-6;//m^2\n",
"b=mu_n/mu_p;//unitless\n",
"ni=2.5*10^15;//m^-3\n",
"sigma_i=(mu_n+mu_p)*ni*e;//(ohm-m)^-1\n",
"I0=A*VT*b*sigma_i^2/(1+b)^2*(1/Lp/sigma_p+1/Ln/sigma_n)*10^6;//micro A\n",
"disp(I0,'Reverse saturation point of current(micro A)');"
   ]
   }
,
{
		   "cell_type": "markdown",
		   "metadata": {},
		   "source": [
			"## Example 5.12: Reverse_saturation_current.sce"
		   ]
		  },
  {
"cell_type": "code",
	   "execution_count": null,
	   "metadata": {
	    "collapsed": true
	   },
	   "outputs": [],
"source": [
"//Example 5_12\n",
"clc;\n",
"clear;\n",
"close;\n",
"format('v',6);\n",
"//given data : \n",
"A=5;//mm^2\n",
"A=A*10^-2;//cm^2\n",
"Ln=0.01;//cm\n",
"Lp=0.01;//cm\n",
"sigma_p=0.01;//(ohm-cm)^-1\n",
"sigma_n=0.01;//(ohm-cm)^-1\n",
"mu_p=500;//cm^2/V-s//For Ge\n",
"mu_n=1300;//cm^2/V-s//For Si\n",
"e=1.6*10^-19;//C/electron\n",
"VT=0.026;///eV//at T=27 degree C\n",
"b=mu_n/mu_p;//unitless\n",
"ni=1.5*10^10;//m^-3\n",
"sigma_i=(mu_n+mu_p)*ni*e;//(ohm-m)^-1\n",
"I0=A*VT*b*sigma_i^2/(1+b)^2*(1/Lp/sigma_p+1/Ln/sigma_n)*10^12;//pA\n",
"disp(I0,'Reverse saturation current(pA)');"
   ]
   }
,
{
		   "cell_type": "markdown",
		   "metadata": {},
		   "source": [
			"## Example 5.13: Ratio_of_reverse_saturation_current.sce"
		   ]
		  },
  {
"cell_type": "code",
	   "execution_count": null,
	   "metadata": {
	    "collapsed": true
	   },
	   "outputs": [],
"source": [
"//Example 5_13\n",
"clc;\n",
"clear;\n",
"close;\n",
"format('e',9);\n",
"//given data : \n",
"Ln=0.1;//cm\n",
"Lp=0.1;//cm\n",
"e=1.6*10^-19;//C/electron\n",
"//For Si\n",
"ni=1.5*10^10;//m^-3\n",
"sigma_p=0.01;//(ohm-cm)^-1\n",
"sigma_n=0.01;//(ohm-cm)^-1\n",
"mu_n=1300;//cm^2/V-s//For Si\n",
"mu_p=500;//cm^2/V-s//For Ge\n",
"b=mu_n/mu_p;//unitless\n",
"sigma_i=(mu_n+mu_p)*ni*e;//(ohm-m)^-1\n",
"YSi=b*sigma_i^2/(1+b)^2*(1/Lp/sigma_p+1/Ln/sigma_n);//(ohm-cm^2)^-1\n",
"//For Ge\n",
"ni=2.5*10^13;//m^-3\n",
"sigma_p=1;//(ohm-cm)^-1\n",
"sigma_n=1;//(ohm-cm)^-1\n",
"mu_n=3800;//cm^2/V-s//For Si\n",
"mu_p=1800;//cm^2/V-s//For Ge\n",
"b=mu_n/mu_p;//unitless\n",
"sigma_i=(mu_n+mu_p)*ni*e;//(ohm-m)^-1\n",
"YGe=b*sigma_i^2/(1+b)^2*(1/Lp/sigma_p+1/Ln/sigma_n);//(ohm-cm^2)^-1\n",
"ratio=YGe/YSi;\n",
"disp(ratio,'Ratio of reverse saturation current in Ge to that in Si');\n",
"//Answer given in the book is not accurate."
   ]
   }
,
{
		   "cell_type": "markdown",
		   "metadata": {},
		   "source": [
			"## Example 5.14: Calculate_the_current.sce"
		   ]
		  },
  {
"cell_type": "code",
	   "execution_count": null,
	   "metadata": {
	    "collapsed": true
	   },
	   "outputs": [],
"source": [
"//Example 5_14\n",
"clc;\n",
"clear;\n",
"close;\n",
"format('v',6);\n",
"//given data : \n",
"I0=9*10^-7;//A\n",
"VF=0.1;//V\n",
"I=I0*(exp(40*VF)-1)*10^6;//micro A\n",
"disp(I,'Current flowing(micro A)');\n",
"//Answer given in the book is not accurate."
   ]
   }
,
{
		   "cell_type": "markdown",
		   "metadata": {},
		   "source": [
			"## Example 5.15: Find_the_voltage.sce"
		   ]
		  },
  {
"cell_type": "code",
	   "execution_count": null,
	   "metadata": {
	    "collapsed": true
	   },
	   "outputs": [],
"source": [
"//Example 5_15\n",
"clc;\n",
"clear;\n",
"close;\n",
"format('v',7);\n",
"//given data : \n",
"e=1.6*10^-19;//C/electron\n",
"J0=500;//mA/m^2\n",
"J0=J0/1000;//A/m^2\n",
"T=350;//K\n",
"Eta=1;//For Ge\n",
"k=1.38*10^-23;//Boltzman constant\n",
"J=10^5;//Am^-2\n",
"//J=J0*(exp(e*V/Eta/kT-1)\n",
"V=(1+log(J/J0))/e*Eta*k*T;//V\n",
"disp(V,'Voltage to be applied at junction(V)');\n",
"//Answer given in the book is not accurate."
   ]
   }
,
{
		   "cell_type": "markdown",
		   "metadata": {},
		   "source": [
			"## Example 5.16: Find_the_current.sce"
		   ]
		  },
  {
"cell_type": "code",
	   "execution_count": null,
	   "metadata": {
	    "collapsed": true
	   },
	   "outputs": [],
"source": [
"//Example 5_16\n",
"clc;\n",
"clear;\n",
"close;\n",
"format('v',7);\n",
"//given data : \n",
"e=1.6*10^-19;//C/electron\n",
"kB=1.38*10^-23;//Boltzman constant\n",
"Is=0.15;//pA\n",
"Is=Is*10^-12;//A\n",
"V=0.55;//V(Forward Biased)\n",
"Eta=1;//Assumed\n",
"//At t=20 degee C\n",
"t=20;//degree C\n",
"T=t+273;//K\n",
"VT=kB*T/e;//V\n",
"I=Is*(exp(V/Eta/VT)-1)*1000;//mA\n",
"//At t=100 degee C\n",
"t=100;//degree C\n",
"T=t+273;//K\n",
"VT=kB*T/e;//V\n",
"//Is increased by factor 2^8\n",
"Is=Is*2^8;//A\n",
"I=Is*(exp(V/Eta/VT)-1);//A\n",
"disp(I,'Current in the diode(A)');"
   ]
   }
,
{
		   "cell_type": "markdown",
		   "metadata": {},
		   "source": [
			"## Example 5.17: Calculate_the_current_and_voltage.sce"
		   ]
		  },
  {
"cell_type": "code",
	   "execution_count": null,
	   "metadata": {
	    "collapsed": true
	   },
	   "outputs": [],
"source": [
"//Example 5_17\n",
"clc;\n",
"clear;\n",
"close;\n",
"format('v',7);\n",
"//given data : \n",
"e=1.6*10^-19;//C/electron\n",
"kB=1.38*10^-23;//Boltzman constant\n",
"Eta=2;//For Si diode\n",
"I01=2;//micro A\n",
"I02=4;//micro A\n",
"Vz1=100;//V\n",
"Vz2=100;//V\n",
"VT=0.026;//V//Thermal temperature\n",
"disp('When V=90V : ');\n",
"V=90;//V\n",
"//V<Vz1 & Vz2; Breakdown will not occur\n",
"I1=I01/2;//micro A(For D1)\n",
"disp(I1,'For D1, Current is (micro A)');\n",
"I2=-I01/2;//micro A\n",
"disp(I2,'For D2, Current is (micro A)');\n",
"V2=Eta*VT*log(1-I01/I02);//V\n",
"V1=V+V2;//V\n",
"disp(V1,'Voltage V1(V) : ');\n",
"format('v',5);\n",
"V2=V2*1000;//mV\n",
"disp(V2,'Voltage V2(mV) : ');\n",
"disp('When V=110V : ');\n",
"V=110;//V\n",
"//V>Vz1 //D1 breakdown & D2 reverse biased\n",
"I=I01;//micro A\n",
"disp(I,'Current in the circuit is (micro A)');\n",
"V1=-Vz1;///V\n",
"V2=-(V-Vz2);//V\n",
"disp(V1,'Voltage V1(V) : ');\n",
"disp(V2,'Voltage V1(V) : ');"
   ]
   }
,
{
		   "cell_type": "markdown",
		   "metadata": {},
		   "source": [
			"## Example 5.18: Ratio_of_current.sce"
		   ]
		  },
  {
"cell_type": "code",
	   "execution_count": null,
	   "metadata": {
	    "collapsed": true
	   },
	   "outputs": [],
"source": [
"//Example 5_18\n",
"clc;\n",
"clear;\n",
"close;\n",
"format('v',6);\n",
"//given data : \n",
"e=1.6*10^-19;//C/electron\n",
"VT=0.026;//V//Thermal Voltage\n",
"IBYI0=-90/100;//ratio\n",
"//Part (a)\n",
"//I=I0*(exp(V/VT)-1)\n",
"V=log(IBYI0+1)*VT;//V\n",
"disp(V,'(a) Required Voltage is (V)');\n",
"//Part (b)\n",
"format('v',5);\n",
"V=0.05;//V(Forward bias)\n",
"ratio=(exp(V/VT)-1)/(exp(-V/VT)-1);//ratio\n",
"disp(ratio,'(b) Current ratio');\n",
"//Part (c)\n",
"format('v',6);\n",
"I0=15;//micro A\n",
"V=[0.1 0.2 0.3]*1000;//mV\n",
"VT=VT*1000;//mV\n",
"I1=I0*(exp(V(1)/VT)-1)/1000;//mA \n",
"I2=I0*(exp(V(2)/VT)-1)/1000;//mA \n",
"I3=I0*(exp(V(3)/VT)-1)/10^6;//A \n",
"disp('(c) Current for 0.1 V is '+string(I1)+' mA, for 0.2 V is '+string(I2)+' mA & for 0.3 V is '+string(I3)+' A.');\n",
"//Answer given in the book is not accurate."
   ]
   }
,
{
		   "cell_type": "markdown",
		   "metadata": {},
		   "source": [
			"## Example 5.19: Calculate_the_anticipated_factor.sce"
		   ]
		  },
  {
"cell_type": "code",
	   "execution_count": null,
	   "metadata": {
	    "collapsed": true
	   },
	   "outputs": [],
"source": [
"//Example 5_19\n",
"clc;\n",
"clear;\n",
"close;\n",
"format('v',4);\n",
"//given data : \n",
"//Part (a)\n",
"t1=25;//degree C\n",
"t2=70;//degree C\n",
"I0t2BYI0t1=2^((t2-t1)/10+1);//anticipated factor\n",
"disp(I0t2BYI0t1,'(a) Anticipated factor');\n",
"disp('I0(70 degree C) = '+string(I0t2BYI0t1)+'*I0(25 degree C)');\n",
"//Part (b)\n",
"format('v',6)\n",
"t1=25;//degree C\n",
"t2=150;//degree C\n",
"I0t2BYI0t1=2^((t2-t1)/10);//anticipated factor\n",
"disp(I0t2BYI0t1,'(b) Anticipated factor');\n",
"disp('I0(150 degree C) = '+string(I0t2BYI0t1)+'*I0(25 degree C)');\n",
"//Answer in the textbook is not accurate."
   ]
   }
,
{
		   "cell_type": "markdown",
		   "metadata": {},
		   "source": [
			"## Example 5.1: Height_of_potential_barrier.sce"
		   ]
		  },
  {
"cell_type": "code",
	   "execution_count": null,
	   "metadata": {
	    "collapsed": true
	   },
	   "outputs": [],
"source": [
"//Example 5_1\n",
"clc;\n",
"clear;\n",
"close;\n",
"format('v',6);\n",
"//given data : \n",
"rho_p=1.5;//ohm-cm\n",
"rho_n=1;//ohm-cm\n",
"e=1.6*10^-19;//C/electron\n",
"//For Ge diode\n",
"mu_p=1800;//cm^2/V-s//For Ge\n",
"mu_n=3800;//cm^2/V-s//For Si\n",
"VT=0.026;///eV//at room temperature\n",
"ni=2.5*10^13;//cm^-3s\n",
"//rho=1/(NA*e*mu)\n",
"NA=1/(rho_p*e*mu_p);//cm^-3\n",
"ND=1/(rho_n*e*mu_n);//cm^-3\n",
"V0=VT*log(NA*ND/ni^2);//eV\n",
"disp(V0,'(a) Height of potential barrier(eV)');\n",
"//For Si diode\n",
"mu_p=500;//cm^2/V-s//For Ge\n",
"mu_n=1300;//cm^2/V-s//For Si\n",
"VT=0.026;///eV//at room temperature\n",
"ni=1.5*10^10;//cm^-3s\n",
"//rho=1/(NA*e*mu)\n",
"NA=1/(rho_p*e*mu_p);//cm^-3\n",
"ND=1/(rho_n*e*mu_n);//cm^-3\n",
"V0=VT*log(NA*ND/ni^2);//eV\n",
"disp(V0,'(b) Height of potential barrier(eV)');\n",
"///Answer in the texbook is not accurate."
   ]
   }
,
{
		   "cell_type": "markdown",
		   "metadata": {},
		   "source": [
			"## Example 5.20: Leakage_resistance.sce"
		   ]
		  },
  {
"cell_type": "code",
	   "execution_count": null,
	   "metadata": {
	    "collapsed": true
	   },
	   "outputs": [],
"source": [
"//Example 5_20\n",
"clc;\n",
"clear;\n",
"close;\n",
"format('v',5);\n",
"//given data : \n",
"I=5;//micro A\n",
"V=10;//V\n",
"//1/I0*dI0/dT=0.15 & 1/I*dI0/dT=0.07\n",
"I0=I/(0.15/0.07);//micro A\n",
"//I=I0+IR\n",
"IR=I-I0;//micro A\n",
"R=V/IR;//Mohm\n",
"disp(R,'Leakage Resistance(Mohm)');"
   ]
   }
,
{
		   "cell_type": "markdown",
		   "metadata": {},
		   "source": [
			"## Example 5.21: Maximum_reverse_bias_voltage.sce"
		   ]
		  },
  {
"cell_type": "code",
	   "execution_count": null,
	   "metadata": {
	    "collapsed": true
	   },
	   "outputs": [],
"source": [
"//Example 5_21\n",
"clc;\n",
"clear;\n",
"close;\n",
"format('v',5);\n",
"//given data : \n",
"Rt=0.15;//mW/degree C(Thermal resistance)\n",
"t1=25;//degree C\n",
"I0_t1=5;//micro A(at 25 degree C)\n",
"delt=10;//degree C\n",
"t2=t1+delt;//degree C\n",
"Pout=Rt*(t2-t1);//mW\n",
"//reverse current doubles at evry 10 degree C \n",
"I0_t2=2*I0_t1;//micro A\n",
"V=Pout/(I0_t2/1000);//V\n",
"disp(V,'Maximum reverse bias voltage(V)');"
   ]
   }
,
{
		   "cell_type": "markdown",
		   "metadata": {},
		   "source": [
			"## Example 5.22: Current_multiplying_factor.sce"
		   ]
		  },
  {
"cell_type": "code",
	   "execution_count": null,
	   "metadata": {
	    "collapsed": true
	   },
	   "outputs": [],
"source": [
"//Example 5_22\n",
"clc;\n",
"clear;\n",
"close;\n",
"format('v',5);\n",
"//given data : \n",
"V=0.4;//V(Forward voltage)\n",
"t1=25;//degree C\n",
"t=150;//degree C\n",
"T=t+273;//K\n",
"T1=t1+273;//K\n",
"VT=T/11600;//V\n",
"//I0T=I01*2^((T-T1)/10)\n",
"I0TBYI0T1=2^((T-T1)/10);//ratio of current\n",
"Eta=2;//for Si\n",
"I2ByI0T=(exp(V/Eta/VT)-1);//ratio of current\n",
"//At 25 degree C\n",
"VT1=T1/11600;//V\n",
"I1ByI0T1=(exp(V/Eta/VT1)-1);//A///at 25 degree C\n",
"I2ByI1=I2ByI0T/I1ByI0T1*I0TBYI0T1;///ratio of I2 & I1\n",
"disp(I2ByI1,'Current multiplying factor is ');\n",
"//Note : Solution is complete in this code.\n",
"//In the textbook, extra lines are given for which data is not given."
   ]
   }
,
{
		   "cell_type": "markdown",
		   "metadata": {},
		   "source": [
			"## Example 5.24: Diffusion_Length.sce"
		   ]
		  },
  {
"cell_type": "code",
	   "execution_count": null,
	   "metadata": {
	    "collapsed": true
	   },
	   "outputs": [],
"source": [
"//Example 5_24\n",
"clc;\n",
"clear;\n",
"close;\n",
"format('e',10);\n",
"//given data : \n",
"I=1;///mA\n",
"CD=1.5;//micro F\n",
"Eta=2;//for Si\n",
"Dp=13;//for Si\n",
"VT=0.026;//V(Thermal voltage)\n",
"Lp=sqrt(CD/10^6*Dp*Eta*VT/(I*10^-3));//m\n",
"disp(Lp,'Diffusion Length(m)');"
   ]
   }
,
{
		   "cell_type": "markdown",
		   "metadata": {},
		   "source": [
			"## Example 5.25: Find_the_static_resistance.sce"
		   ]
		  },
  {
"cell_type": "code",
	   "execution_count": null,
	   "metadata": {
	    "collapsed": true
	   },
	   "outputs": [],
"source": [
"//Example 5_25\n",
"clc;\n",
"clear;\n",
"close;\n",
"format('v',7);\n",
"//given data : \n",
"I0=20;///micro A\n",
"VF=0.2;//V\n",
"t=27;//degree C\n",
"T=t+273;//K\n",
"VT=T/11600;//V(Thermal voltage)\n",
"Eta=1;//for Ge\n",
"I=I0*10^-6*[exp(VF/Eta/VT)-1]*1000;//mA\n",
"rdc=VT/(I0*10^-6)*exp(VF/Eta/VT)/10^6;//Mohm\n",
"disp(rdc,'Static Resistance(Mohm) : ');\n",
"//Note : Answer & Solution in the textbook is wrong as they calculated rdc for the values given in next example.\n",
"//I0 taken 80micro A instead 20 micro A & VT taken for 125 degree C instead 25 degree C."
   ]
   }
,
{
		   "cell_type": "markdown",
		   "metadata": {},
		   "source": [
			"## Example 5.26: Find_the_dynamic_resistance.sce"
		   ]
		  },
  {
"cell_type": "code",
	   "execution_count": null,
	   "metadata": {
	    "collapsed": true
	   },
	   "outputs": [],
"source": [
"//Example 5_26\n",
"clc;\n",
"clear;\n",
"close;\n",
"format('v',6);\n",
"//given data : \n",
"I0=80;///micro A\n",
"t=125;//degree C\n",
"T=t+273;//K\n",
"Eta=1;//for Ge\n",
"VF=0.2;//V\n",
"VT=T/11600;//V(Volt equivalent of temperature)\n",
"///Part(a) In forward direction\n",
"Rac=VT/(I0*10^-6)*exp(-VF/Eta/VT);//ohm\n",
"disp(Rac,'(a) Dynamic Resistance in forward diection(ohm) :  ');\n",
"///Part(b) In reverse direction\n",
"format('v',8);\n",
"Rac=VT/(I0*10^-6)*exp(VF/Eta/VT)/10^6;//Mohm\n",
"disp(Rac,'(b) Dynamic Resistance in reverse diection(Mohm) :  ');\n",
"//Answer in the textbook is not accurate."
   ]
   }
,
{
		   "cell_type": "markdown",
		   "metadata": {},
		   "source": [
			"## Example 5.27: Determine_ac_resistance.sce"
		   ]
		  },
  {
"cell_type": "code",
	   "execution_count": null,
	   "metadata": {
	    "collapsed": true
	   },
	   "outputs": [],
"source": [
"//Example 5_27\n",
"clc;\n",
"clear;\n",
"close;\n",
"format('v',7);\n",
"//given data : \n",
"I0=1.5;///micro A\n",
"T=300;//K\n",
"VF=150;//mV\n",
"kB=8.62*10^-5;//Boltzman Constant\n",
"VT=T/11600;//V(Volt equivalent of temperature)\n",
"rac=1/(I0*10^-6/kB/T*exp(VF/1000/VT));\n",
"disp(rac,'Ac resistance(ohm)')\n",
"//Answer and unit in the textbok is wrong."
   ]
   }
,
{
		   "cell_type": "markdown",
		   "metadata": {},
		   "source": [
			"## Example 5.28: Maximum_allowable_current.sce"
		   ]
		  },
  {
"cell_type": "code",
	   "execution_count": null,
	   "metadata": {
	    "collapsed": true
	   },
	   "outputs": [],
"source": [
"//Example 5_28\n",
"clc;\n",
"clear;\n",
"close;\n",
"format('v',5);\n",
"//given data : \n",
"Pmax=2.5;//W\n",
"Vf=900;//mV\n",
"If_max=Pmax/(Vf/1000);//A\n",
"disp(If_max,'(a) Maximum allowable forward current(A) : ');\n",
"Rf=Pmax/If_max^2;//ohm\n",
"format('v',7);\n",
"disp(Rf,'(b) Forward Diode Resistance(ohm)')\n",
"//Answer in the textbok is wrong."
   ]
   }
,
{
		   "cell_type": "markdown",
		   "metadata": {},
		   "source": [
			"## Example 5.29: Height_of_potential_barrier.sce"
		   ]
		  },
  {
"cell_type": "code",
	   "execution_count": null,
	   "metadata": {
	    "collapsed": true
	   },
	   "outputs": [],
"source": [
"//Example 5_29\n",
"clc;\n",
"clear;\n",
"close;\n",
"format('v',5);\n",
"//given data : \n",
"//for Ge diode\n",
"rho_p=2;//ohm-cm(p-side resistivity)\n",
"rho_n=1;//ohm-cm(n-side resistivity)\n",
"e=1.6*10^-19;//C/electron\n",
"mu_p=1800;//m^2/V-s\n",
"mu_n=3800;//m^2/V-s\n",
"VT=0.026;//V(Thermal Voltage)\n",
"ni=2.5*10^13;//per cm^3(intrinsic concentration)\n",
"NA=1/(rho_p*e*mu_p);//per cm^3\n",
"ND=1/(rho_n*e*mu_n);//per cm^3\n",
"V0=VT*log(ND*NA/ni^2);//eV\n",
"disp(V0,'(a) Height of potential barrier(eV) : ');\n",
"//for Si diode\n",
"format('v',6);\n",
"mu_p=500;//m^2/V-s\n",
"mu_n=1300;//m^2/V-s\n",
"ni=1.5*10^10;//per cm^3(intrinsic concentration)\n",
"NA=1/(rho_p*e*mu_p);//per cm^3\n",
"ND=1/(rho_n*e*mu_n);//per cm^3\n",
"V0=VT*log(ND*NA/ni^2);//eV\n",
"disp(V0,'(b) Height of potential barrier(eV) : ');"
   ]
   }
,
{
		   "cell_type": "markdown",
		   "metadata": {},
		   "source": [
			"## Example 5.2: Width_of_depletion_zone.sce"
		   ]
		  },
  {
"cell_type": "code",
	   "execution_count": null,
	   "metadata": {
	    "collapsed": true
	   },
	   "outputs": [],
"source": [
"//Example 5_2\n",
"clc;\n",
"clear;\n",
"close;\n",
"format('e',9);\n",
"//given data : \n",
"ND=10^16;//cm^-3\n",
"A=4*10^-4;//cm^2\n",
"NA=5*10^18;//cm^-3\n",
"T=300;//K\n",
"epsilon0=8.85*10^-14;//vaccum permittivity\n",
"epsilonr=11.8;//relative permittivity\n",
"e=1.6*10^-19;//C/electron\n",
"ni=1.5*10^10;//cm^-3\n",
"kBT=0.0259;//eV//at room temperture\n",
"V0=kBT*log(NA*ND/ni^2);//V\n",
"W=sqrt(2*epsilonr*epsilon0*V0/e*(1/NA+1/ND));//cm\n",
"disp(W,'Width of depletion zone(cm)');\n",
"///Answer in the texbook is not accurate.Calculation mistake in W."
   ]
   }
,
{
		   "cell_type": "markdown",
		   "metadata": {},
		   "source": [
			"## Example 5.30: Find_the_dynamic_resistance.sce"
		   ]
		  },
  {
"cell_type": "code",
	   "execution_count": null,
	   "metadata": {
	    "collapsed": true
	   },
	   "outputs": [],
"source": [
"//Example 5_30\n",
"clc;\n",
"clear;\n",
"close;\n",
"format('v',6);\n",
"//given data : \n",
"t=125;//degree C\n",
"T=t+273;//K\n",
"Eta=1;//for Ge\n",
"VF=0.2;//V\n",
"VT=T/11600;//V(Volt equivalent of temperature)\n",
"I0=35;//micro A\n",
"//Part(a) Forward Direction\n",
"r=VT/(I0*10^-6)/exp(VF/VT);//ohm\n",
"disp(r,'(a) Dynamic Resistance in forward direcion(ohm) : ');\n",
"//Part(b) Reverse Direction\n",
"r=VT/(I0*10^-6)/exp(-VF/VT);//ohm\n",
"r=r/10^6;//Mohm\n",
"disp(r,'(b) Dynamic Resistance in reverse direcion(Mohm) : ');\n",
"///Answer in the textbook is not accurate."
   ]
   }
,
{
		   "cell_type": "markdown",
		   "metadata": {},
		   "source": [
			"## Example 5.31: Maximum_and_minimum_zener_current.sce"
		   ]
		  },
  {
"cell_type": "code",
	   "execution_count": null,
	   "metadata": {
	    "collapsed": true
	   },
	   "outputs": [],
"source": [
"//Example 5_31\n",
"clc;\n",
"clear;\n",
"close;\n",
"format('v',6);\n",
"//given data : \n",
"Vz=10;//V\n",
"Rs=1;//kohm\n",
"RL=10;//kohm\n",
"IL=5;//mA(Assumed)\n",
"Vi=25:40;//V\n",
"RLmin=Rs;//kohm\n",
"Iz=(max(Vi)-Vz)/RLmin-IL;//mA\n",
"disp(Iz,'(a) Maximum value of zener current(mA) : ');\n",
"Iz_min=(min(Vi)-Vz)/Rs-IL;//mA\n",
"disp(Iz_min,'(b) Minimum value of zener current(mA) : ');"
   ]
   }
,
{
		   "cell_type": "markdown",
		   "metadata": {},
		   "source": [
			"## Example 5.32: Find_the_range_of_R.sce"
		   ]
		  },
  {
"cell_type": "code",
	   "execution_count": null,
	   "metadata": {
	    "collapsed": true
	   },
	   "outputs": [],
"source": [
"//Example 5_32\n",
"clc;\n",
"clear;\n",
"close;\n",
"format('v',6);\n",
"//given data : \n",
"Vz=5;//V\n",
"Pmax=250;//mW\n",
"Vs=15;//V(Supply voltage)\n",
"PL=50;//W(Load)\n",
"Imax=Pmax/Vz;//mA(Maximum permissible current)\n",
"//Minimum current to maintain constant voltage\n",
"Imin=Imax-Imax*10/100;//mA\n",
"Rmin=Vs/Imax;//kohm\n",
"Rmax=Vs/Imin;//kohm\n",
"disp('For maintainng constant voltage, Range of R is '+string(Rmin)+' kohm to '+string(Rmax)+' kohm.');\n",
"//Diode loaded with 50W load\n",
"Imax=PL/Vz;//mA(Maximum permissible current)\n",
"//Minimum current to maintain constant voltage\n",
"Imin=Imax-Imax*10/100;//mA\n",
"Rmin=Vs/Imax;//kohm\n",
"Rmax=Vs/Imin;//kohm\n",
"disp('New range of R is '+string(Rmin)+' kohm to '+string(Rmax)+' kohm.');\n",
"//Solution is not complete in the textbook. "
   ]
   }
,
{
		   "cell_type": "markdown",
		   "metadata": {},
		   "source": [
			"## Example 5.33: Find_out_breakdown_voltage.sce"
		   ]
		  },
  {
"cell_type": "code",
	   "execution_count": null,
	   "metadata": {
	    "collapsed": true
	   },
	   "outputs": [],
"source": [
"//Example 5_33\n",
"clc;\n",
"clear;\n",
"close;\n",
"format('v',6);\n",
"//given data : \n",
"ND=2*10^15;//cm^-3\n",
"Ep=1.5*10^5;//V/cm\n",
"epsilon=8.854*10^-14;//Permittivity\n",
"e=1.6*10^-19;//C/electron\n",
"//Width of depletion region\n",
"W=Ep*11.9*epsilon/e/ND;\n",
"VBR=W*Ep/2;//V\n",
"disp(VBR,'Breakdown Voltage(V) : ');"
   ]
   }
,
{
		   "cell_type": "markdown",
		   "metadata": {},
		   "source": [
			"## Example 5.35: Breakdown_Voltage.sce"
		   ]
		  },
  {
"cell_type": "code",
	   "execution_count": null,
	   "metadata": {
	    "collapsed": true
	   },
	   "outputs": [],
"source": [
"//Example 5_35\n",
"clc;\n",
"clear;\n",
"close;\n",
"format('v',4);\n",
"//given data : \n",
"Ez=2*10^7;///V/m\n",
"//Vz=epsilon*Ez^2/(2*e*NA)\n",
"//e*NA=sigp/mu_p; as sigp=NA*e*mu_p\n",
"epsilon=16/(36*%pi*10^9);//F/m\n",
"mu_p=1800;//cm^2/V-s\n",
"sigp=poly(0,'sigp');//Notation : sigp=sigma_p\n",
"Vz=epsilon*Ez^2/2*mu_p*10^-6/sigp;//V\n",
"disp(Vz,'(a) Breakdown Voltage calculated and proved as ');\n",
"format('v',6);\n",
"sigma_i=1/45;//(ohm-cm)^-1\n",
"sigma_p=sigma_i;//(ohm-cm)^-1//as p-material is intrinsic\n",
"Vz=51/sigma_p;//V\n",
"disp(Vz,'(b) Vz(V) : ');\n",
"sigma_p=1/3.9;//(ohm-cm)^-1\n",
"Vz=51/sigma_p;//V\n",
"disp(Vz,'(c) Vz(V) : ');\n",
"//Part (d)\n",
"Vz=1.5;///V\n",
"sigma_p=51/Vz;//V\n",
"disp(sigma_p,'(d) Resistivity(ohm-cm)^-1 : ');\n",
"//Note : Part(b) answer wrong in the book & part(d) not complete.\n",
"//Note : sigp is used instead sigma_p as poly support only less than 5 character."
   ]
   }
,
{
		   "cell_type": "markdown",
		   "metadata": {},
		   "source": [
			"## Example 5.36: Voltage_across_junction.sce"
		   ]
		  },
  {
"cell_type": "code",
	   "execution_count": null,
	   "metadata": {
	    "collapsed": true
	   },
	   "outputs": [],
"source": [
"//Example 5_36\n",
"clc;\n",
"clear;\n",
"close;\n",
"format('v',5);\n",
"//given data : \n",
"Eta=1;//for Ge\n",
"T=300;//K\n",
"VT=0.026;//V(Thermal Voltage)\n",
"VF=5;///V\n",
"//I=I0;///given\n",
"IByI0=1;//ratio\n",
"//Using I=I0*(exp(V/VT)-1)\n",
"V=log(IByI0+1)*VT;//V\n",
"V2=VF-V;//V(Voltage across 2nd diode)\n",
"disp(V2,'(a) Voltage across each junction(V) : ');\n",
"//Part (b)\n",
"format('v',6);\n",
"Vz=4.9;//V\n",
"Vrb=Vz;//V(Across reverse biased diode)\n",
"V2=VF-Vrb;//V\n",
"I0=6;//micro A\n",
"I=I0*(exp(V2/VT)-1);//micro A\n",
"disp(I,'(b) Current in the circuit(micro A) : ');\n",
"//Note : Answer in the textbook is not accurate."
   ]
   }
,
{
		   "cell_type": "markdown",
		   "metadata": {},
		   "source": [
			"## Example 5.37: Find_out_ideality_factor.sce"
		   ]
		  },
  {
"cell_type": "code",
	   "execution_count": null,
	   "metadata": {
	    "collapsed": true
	   },
	   "outputs": [],
"source": [
"//Example 5_37\n",
"clc;\n",
"clear;\n",
"close;\n",
"format('v',5);\n",
"//given data : \n",
"I1=0.5;//mA\n",
"V1=340;//mV\n",
"I2=15;//mA\n",
"V2=465;//mV\n",
"kBTBye=25;//mV(It is kB*T/e)\n",
"//I=Is*(exp(V/Eta/kBTBye)-1)\n",
"Eta=(V2/kBTBye-V1/kBTBye)/log(I2/I1);//neglecting 1 as exp(V/Eta/kBTBye)>>1\n",
"disp(Eta,'Ideality Factor(Eta) : ');"
   ]
   }
,
{
		   "cell_type": "markdown",
		   "metadata": {},
		   "source": [
			"## Example 5.38: Temperature_coefficient.sce"
		   ]
		  },
  {
"cell_type": "code",
	   "execution_count": null,
	   "metadata": {
	    "collapsed": true
	   },
	   "outputs": [],
"source": [
"//Example 5_38\n",
"clc;\n",
"clear;\n",
"close;\n",
"format('v',7);\n",
"//given data : \n",
"Vd=12;//V\n",
"TC1=-1.7;//mV/degree C(Temperatre Coefficient of Si diode)\n",
"//For series combination to have TC=0\n",
"TC2=-TC1;//mV/degree C(Temperatre Coefficient of Avalanche diode)\n",
"//In percentage\n",
"TC2=TC2*10^-3/Vd*100;//%/degree C\n",
"disp(TC2,'Required temperature coefficient(%/degree C) : ');"
   ]
   }
,
{
		   "cell_type": "markdown",
		   "metadata": {},
		   "source": [
			"## Example 5.39: Calculate_R.sce"
		   ]
		  },
  {
"cell_type": "code",
	   "execution_count": null,
	   "metadata": {
	    "collapsed": true
	   },
	   "outputs": [],
"source": [
"//Example 5_39\n",
"clc;\n",
"clear;\n",
"close;\n",
"format('v',6);\n",
"//given data : \n",
"//For IL=0;//A\n",
"V0=60;//V\n",
"V=200;//V(Supply Voltage)\n",
"ID=5:40;//mA\n",
"R=(V-V0)/max(ID);//kohm(R is >= this value)\n",
"//For IL=ILmax;//A\n",
"IT=max(ID);//mA\n",
"ID=min(ID)///mA(ID<=this value)\n",
"Imax=IT-ID;///mA\n",
"disp(Imax,'(a) Imax(mA) : ');\n",
"//Part (b)\n",
"IL=25;//mA\n",
"ID=5:40;//mA\n",
"//Taking minimum current for good regulation\n",
"IT=min(ID)+IL;///mA\n",
"Vmax1=IT*R+V0;//V\n",
"//Taking maximum current for good regulation\n",
"IT=max(ID)+IL;///mA\n",
"Vmax2=IT*R+V0;//V\n",
"disp('(b) Without loss of regulation, V may vary from '+string(Vmax1)+' V to '+string(Vmax2)+' V.');\n",
""
   ]
   }
,
{
		   "cell_type": "markdown",
		   "metadata": {},
		   "source": [
			"## Example 5.3: Thermal_and_barrier_voltage.sce"
		   ]
		  },
  {
"cell_type": "code",
	   "execution_count": null,
	   "metadata": {
	    "collapsed": true
	   },
	   "outputs": [],
"source": [
"//Example 5_3\n",
"clc;\n",
"clear;\n",
"close;\n",
"format('v',5);\n",
"//given data : \n",
"ND=1.2*10^21;//cm^-3\n",
"NA=10^22;//cm^-3\n",
"T=(273+30);//K\n",
"kB=1.38*10^-23;//Boltzman constant\n",
"e=1.6*10^-19;//C/electron\n",
"VT=kB*T/e*1000;//mV//Thermal Voltage\n",
"disp(VT,'Thermal Voltage(mV)')\n",
"format('v',6);\n",
"ni=1.5*10^16;//cm^-3\n",
"V0=VT/1000*log(NA*ND/ni^2);//V\n",
"disp(V0,'Barrier Voltage(V)');\n",
"///Answer in the texbook is not accurate."
   ]
   }
,
{
		   "cell_type": "markdown",
		   "metadata": {},
		   "source": [
			"## Example 5.4: Calculate_the_barrier_potential.sce"
		   ]
		  },
  {
"cell_type": "code",
	   "execution_count": null,
	   "metadata": {
	    "collapsed": true
	   },
	   "outputs": [],
"source": [
"//Example 5_4\n",
"clc;\n",
"clear;\n",
"close;\n",
"format('v',5);\n",
"//given data : \n",
"t1=25;//degree C\n",
"t2=70;//degree C\n",
"VB1=0.7;//V\n",
"delV=-0.002*(t2-t1);//V\n",
"VB2=VB1+delV;//V//barrier potential\n",
"disp(VB2,'(a) Barrier potential at 70 degree C is (V)');\n",
"//Part (b)\n",
"t1=25;//degree C\n",
"t2=0;//degree C\n",
"VB1=0.7;//V\n",
"delV=-0.002*(t2-t1);//V\n",
"VB2=VB1+delV;//V//barrier potential\n",
"disp(VB2,'(b) Barrier potential at 0 degree C is (V)');"
   ]
   }
,
{
		   "cell_type": "markdown",
		   "metadata": {},
		   "source": [
			"## Example 5.5: Find_CT.sce"
		   ]
		  },
  {
"cell_type": "code",
	   "execution_count": null,
	   "metadata": {
	    "collapsed": true
	   },
	   "outputs": [],
"source": [
"//Example 5_5\n",
"clc;\n",
"clear;\n",
"close;\n",
"format('v',6);\n",
"//Part(a) Derivation\n",
"//Part(b)\n",
"//given data : \n",
"mu_p=500;//cm^2/V-s\n",
"q=1.6*10^-19;//C/electron\n",
"rho=3;//ohm-cm\n",
"V0=0.4;//V//Barrier Height\n",
"Vd=4.5;//V//Reverse Voltage\n",
"D=40;//mils\n",
"D=D*10^-3;//inch\n",
"D=D*2.54;//cm/in\n",
"A=%pi/4*D^2;//cm^2\n",
"NA=1/rho/mu_p/q;//cm^-3\n",
"W=sqrt((V0+Vd)/(14.13*10^10));//m^2\n",
"Vj=V0+Vd;//V\n",
"CT=2.9*10^-4*sqrt(NA/Vj)*A;///pF\n",
"disp(CT,'CT(pF) : ');\n",
"//Answer given in the textbook is not accurate."
   ]
   }
,
{
		   "cell_type": "markdown",
		   "metadata": {},
		   "source": [
			"## Example 5.6: Compute_the_decrease_in_capacitance.sce"
		   ]
		  },
  {
"cell_type": "code",
	   "execution_count": null,
	   "metadata": {
	    "collapsed": true
	   },
	   "outputs": [],
"source": [
"//Example 5_6\n",
"clc;\n",
"clear;\n",
"close;\n",
"format('v',5);\n",
"//given data : \n",
"V=5;//V\n",
"CT=20;//pF\n",
"lambda=CT*sqrt(V);//pm\n",
"//increased V=V+1.5;//V\n",
"V=V+1.5;//V\n",
"CTnew=lambda/sqrt(V);//pF\n",
"dCT=CT-CTnew;//pF\n",
"disp(dCT,'Decrese in capacitance(pF)');\n",
"//Answer given in the textbook is not accurate."
   ]
   }
,
{
		   "cell_type": "markdown",
		   "metadata": {},
		   "source": [
			"## Example 5.7: Calculate_the_barrier_capacitance.sce"
		   ]
		  },
  {
"cell_type": "code",
	   "execution_count": null,
	   "metadata": {
	    "collapsed": true
	   },
	   "outputs": [],
"source": [
"//Example 5_7\n",
"clc;\n",
"clear;\n",
"close;\n",
"format('v',6);\n",
"//given data : \n",
"A=1.5*1.5;//mm^2\n",
"A=A/100;//cm^2\n",
"W=2*10^-4;//cm(Space charge thikness)\n",
"epsilon=16/(36*%pi*10^11);//F/cm(For Ge)\n",
"CT=epsilon*A/W*10^12;//pF\n",
"disp(CT,'Barrier capacitance(pF)');"
   ]
   }
,
{
		   "cell_type": "markdown",
		   "metadata": {},
		   "source": [
			"## Example 5.8: Width_of_depletion_layer.sce"
		   ]
		  },
  {
"cell_type": "code",
	   "execution_count": null,
	   "metadata": {
	    "collapsed": true
	   },
	   "outputs": [],
"source": [
"//Example 5_8\n",
"clc;\n",
"clear;\n",
"close;\n",
"format('v',4);\n",
"//given data : \n",
"e=1.6*10^-19;//C/electron\n",
"NA=2.5*10^20;//atoms/m^3\n",
"epsilon=16/(36*%pi*10^9);//F/m(For Ge)\n",
"Vd=0.2;//V//Barrier height\n",
"//Part(a)\n",
"V0=10;//V(reverse bias)\n",
"W=sqrt((V0+Vd)*2*epsilon/e/NA)*10^6;//micro m\n",
"disp(W,'(a) Width of depletion layer(micro m)');\n",
"format('v',5);\n",
"//Part(b)\n",
"V0=0.1;//V(reverse bias)\n",
"W=sqrt((V0+Vd)*2*epsilon/e/NA)*10^6;//micro m\n",
"disp(W,'(b) Width of depletion layer(micro m)');\n",
"//Part(c)\n",
"V0=0.1;//V(forward bias)\n",
"W=sqrt((Vd-V0)*2*epsilon/e/NA)*10^6;//micro m\n",
"disp(W,'(c) Width of depletion layer(micro m)');\n",
"//Part(d)\n",
"A=1;//mm^2//Cross section area\n",
"A=A/10^6;//m^2\n",
"format('v',6);\n",
"//For (a)\n",
"V0=10;//V(reverse bias)\n",
"W=sqrt((V0+Vd)*2*epsilon/e/NA)*10^6;//micro m\n",
"CT=epsilon*A/(W*10^-6)*10^12;//pF\n",
"disp(CT,'(d)(a) Space Charge capacitance(pF) ');\n",
"//For (b)\n",
"V0=0.1;//V(reverse bias)\n",
"W=sqrt((V0+Vd)*2*epsilon/e/NA)*10^6;//micro m\n",
"CT=epsilon*A/(W*10^-6)*10^12;//pF\n",
"disp(CT,'(d)(b) Space Charge capacitance(pF) ');\n",
"//Answer given in the textbook is not accurate."
   ]
   }
],
"metadata": {
		  "kernelspec": {
		   "display_name": "Scilab",
		   "language": "scilab",
		   "name": "scilab"
		  },
		  "language_info": {
		   "file_extension": ".sce",
		   "help_links": [
			{
			 "text": "MetaKernel Magics",
			 "url": "https://github.com/calysto/metakernel/blob/master/metakernel/magics/README.md"
			}
		   ],
		   "mimetype": "text/x-octave",
		   "name": "scilab",
		   "version": "0.7.1"
		  }
		 },
		 "nbformat": 4,
		 "nbformat_minor": 0
}
