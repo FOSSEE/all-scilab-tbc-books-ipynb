{
"cells": [
 {
		   "cell_type": "markdown",
	   "metadata": {},
	   "source": [
       "# Chapter 3: AC Fundamentals"
	   ]
	},
{
		   "cell_type": "markdown",
		   "metadata": {},
		   "source": [
			"## Example 3.10: Apparent_Real_and_active_power.sce"
		   ]
		  },
  {
"cell_type": "code",
	   "execution_count": null,
	   "metadata": {
	    "collapsed": true
	   },
	   "outputs": [],
"source": [
"//Example 3_10\n",
"clc;\n",
"clear;\n",
"close;\n",
"format('v',6);\n",
"//given data :\n",
"V=200;//V\n",
"f=50;//Hz\n",
"R=40;//ohm\n",
"L=0.0637;//H\n",
"XL=2*%pi*f*L;//ohm\n",
"IR=V/R;//A\n",
"IL=V/XL;//A\n",
"I=sqrt(IR^2+IL^2);//A\n",
"disp(I,'(a) Current drawn from supply(A)');\n",
"S=V*I/1000;//kVA\n",
"disp(S,'(b) Apparent Power(kVA)');\n",
"P=V*IR/1000;//kW\n",
"disp(P,'(c) Real Power(kW)');"
   ]
   }
,
{
		   "cell_type": "markdown",
		   "metadata": {},
		   "source": [
			"## Example 3.11: Current_Power_factor_and_power.sce"
		   ]
		  },
  {
"cell_type": "code",
	   "execution_count": null,
	   "metadata": {
	    "collapsed": true
	   },
	   "outputs": [],
"source": [
"//Example 3_11\n",
"clc;\n",
"clear;\n",
"close;\n",
"format('v',6);\n",
"//given data :\n",
"V=100;//V\n",
"f=50;//Hz\n",
"R1=8;//ohm\n",
"X1=6;//ohm\n",
"R2=6;//ohm\n",
"X2=-8;//ohm\n",
"Z1=R1+%i*X1;//ohm\n",
"Z2=R2+%i*X2;//ohm\n",
"I1=V/Z1;//A\n",
"I1mag=abs(I1);//A\n",
"I1ang=atand(imag(I1),real(I1));//degree\n",
"disp(I1ang,I1mag,'Branch Current I1, magnitude(A) & angle(degree) are: ');\n",
"I2=V/Z2;//A\n",
"I2mag=abs(I2);//A\n",
"I2ang=atand(imag(I2),real(I2));//degree\n",
"disp(I2ang,I2mag,'Branch Current I2, magnitude(A) & angle(degree) are: ');\n",
"I=I1+I2;//A\n",
"Imag=abs(I);//A\n",
"Iang=atand(imag(I),real(I));//degree\n",
"disp(Iang,Imag,'Total Current I, magnitude(A) & angle(degree) are: ');\n",
"fi=atand(imag(I),real(I));//degree\n",
"pf=cosd(fi);//Power Factor lagging\n",
"disp(pf,'Total Power Factor(lagging)');\n",
"P=V*Imag*cosd(fi);//W\n",
"disp(P,'Active Power(W)');\n",
"S=V*Imag*sind(fi);//VAR\n",
"disp(S,'Reactive Power(VAR)');\n",
"//Answer is not accurate in the book."
   ]
   }
,
{
		   "cell_type": "markdown",
		   "metadata": {},
		   "source": [
			"## Example 3.12: Current_Power_factor_and_power.sce"
		   ]
		  },
  {
"cell_type": "code",
	   "execution_count": null,
	   "metadata": {
	    "collapsed": true
	   },
	   "outputs": [],
"source": [
"//Example 3_12\n",
"clc;\n",
"clear;\n",
"close;\n",
"format('v',6);\n",
"//given data :\n",
"V=230;//V\n",
"f=50;//Hz\n",
"R=5;//ohm\n",
"L=30;//mH\n",
"XL=2*%pi*f*L*10^-3;//ohm\n",
"Z=R+%i*XL;//ohm\n",
"I=V/Z;//A\n",
"Imag=abs(I);//A\n",
"disp(Imag,'Magnitude of current(A) : ');\n",
"fi=atand(imag(I),real(I));//degree\n",
"format('v',5);\n",
"pf=cosd(fi);//Power Factor\n",
"disp(pf,'Power Factor(lagging)');\n",
"P=V*Imag*cosd(fi);//W\n",
"disp(P,'Power Consumed(W) : ' );\n",
"//Answer is not accurate in the book."
   ]
   }
,
{
		   "cell_type": "markdown",
		   "metadata": {},
		   "source": [
			"## Example 3.13: Current_Power_factor_and_power.sce"
		   ]
		  },
  {
"cell_type": "code",
	   "execution_count": null,
	   "metadata": {
	    "collapsed": true
	   },
	   "outputs": [],
"source": [
"//Example 3_13\n",
"clc;\n",
"clear;\n",
"close;\n",
"format('v',6);\n",
"//given data :\n",
"V=230;//V\n",
"f=50;//Hz\n",
"R=15;//ohm\n",
"L=0.15;//H\n",
"C=100;//micro F\n",
"XL=2*%pi*f*L;//ohm\n",
"XC=1/2/%pi/f/(C*10^-6);//ohm\n",
"Z=R+%i*(XL-XC);//ohm\n",
"I=V/Z;//A\n",
"Imag=abs(I);//A\n",
"fi=atand(imag(I),real(I));//degree\n",
"disp(Imag,'Magnitude of current(A) : ');\n",
"disp(fi,'Angle(lagging) of current(degree) : ');\n",
"format('v',7);\n",
"pf=cosd(fi);//Power Factor\n",
"disp(pf,'Power Factor(lagging)');\n",
"P=V*Imag*cosd(fi);//W\n",
"disp(P,'Power Consumed(W) : ' );\n",
"//Answer is not accurate in the book."
   ]
   }
,
{
		   "cell_type": "markdown",
		   "metadata": {},
		   "source": [
			"## Example 3.14: Value_of_Z2.sce"
		   ]
		  },
  {
"cell_type": "code",
	   "execution_count": null,
	   "metadata": {
	    "collapsed": true
	   },
	   "outputs": [],
"source": [
"//Example 3_14\n",
"clc;\n",
"clear;\n",
"close;\n",
"format('v',5);\n",
"//given data :\n",
"V=230;//V\n",
"f=50;//Hz\n",
"V1=120*expm(%i*30*%pi/180);//V\n",
"Z1=15*expm(%i*40*%pi/180);//ohm\n",
"V2=V-V1;//V\n",
"I=V1/Z1;//A\n",
"Z2=V2/I;//ohm\n",
"R=real(Z2);//ohm\n",
"XC=imag(Z2);//ohm\n",
"C=-1/2/%pi/f/XC*10^6;//micro F\n",
"disp(Z2,'Value of Z2(ohm) : ');\n",
"disp(R,'Resistance(ohm)');\n",
"format('v',7);\n",
"disp(C,'Capacitance(micro F)');\n",
"//Answer is not accurate in the book."
   ]
   }
,
{
		   "cell_type": "markdown",
		   "metadata": {},
		   "source": [
			"## Example 3.15: Impedence_Power_factor_and_Power.sce"
		   ]
		  },
  {
"cell_type": "code",
	   "execution_count": null,
	   "metadata": {
	    "collapsed": true
	   },
	   "outputs": [],
"source": [
"//Example 3_15\n",
"clc;\n",
"clear;\n",
"close;\n",
"format('v',5);\n",
"//given data :\n",
"f=50;///Hz\n",
"V=160+%i*170;//V\n",
"I=12-%i*5;//A\n",
"Z=V/I;//ohm\n",
"disp(Z,'Impedence Z(ohm)');\n",
"fi=atand(imag(Z)/real(Z));//degree\n",
"pf=cosd(fi);//Power Factor\n",
"disp(pf,'Power Factor(lagging)');\n",
"P=abs(V)*abs(I)*pf;//W\n",
"disp(P,'Power Consumed(W)');\n",
"XL=imag(Z);//ohm\n",
"L=XL/2/%pi/f*1000;//mH\n",
"disp(L,'Inductance L(mH)');\n",
"//Answer is not accurate in the book."
   ]
   }
,
{
		   "cell_type": "markdown",
		   "metadata": {},
		   "source": [
			"## Example 3.16: Value_of_L_and_R.sce"
		   ]
		  },
  {
"cell_type": "code",
	   "execution_count": null,
	   "metadata": {
	    "collapsed": true
	   },
	   "outputs": [],
"source": [
"//Example 3_16\n",
"clc;\n",
"clear;\n",
"close;\n",
"format('v',5);\n",
"//given data :\n",
"//v=325*sin(314*t)\n",
"//i=14.14*sin(314*t-60)\n",
"Vm=325;//V\n",
"omega=314;//rad/s\n",
"V=Vm/sqrt(2);//V\n",
"f=omega/2/%pi;//Hz\n",
"Im=14.14;//A\n",
"I=Im/sqrt(2);//A\n",
"fi=60;//degree\n",
"pf=cosd(fi);//power factor\n",
"P=V*I*cosd(fi);//W\n",
"disp(P,'Powe Consumed(W)');\n",
"Z=V/(I*expm(%i*-fi*%pi/180));//ohm\n",
"R=real(Z);//ohm\n",
"disp(R,'Value of R(ohm)');\n",
"XL=imag(Z);//ohm\n",
"L=XL/2/%pi/f*1000;//mH\n",
"disp(L,'Value of L(mH)');\n",
"//Answer is not accurate in the book."
   ]
   }
,
{
		   "cell_type": "markdown",
		   "metadata": {},
		   "source": [
			"## Example 3.17: Value_of_R.sce"
		   ]
		  },
  {
"cell_type": "code",
	   "execution_count": null,
	   "metadata": {
	    "collapsed": true
	   },
	   "outputs": [],
"source": [
"//Example 3_17\n",
"clc;\n",
"clear;\n",
"close;\n",
"format('v',5);\n",
"//given data :\n",
"L=100;//mH\n",
"f=50;//Hz\n",
"XL=2*%pi*f*L/1000;///ohm\n",
"//VL should be equal to 1/2*V\n",
"//equalting : VL=I*XL & 1/2*V=1/2*I*Z=1/2*I*sqrt(R^2+XL^2)\n",
"R=sqrt(3*XL^2);//ohm\n",
"disp(R,'Value of R(ohm)');"
   ]
   }
,
{
		   "cell_type": "markdown",
		   "metadata": {},
		   "source": [
			"## Example 3.18: Value_of_L_and_R.sce"
		   ]
		  },
  {
"cell_type": "code",
	   "execution_count": null,
	   "metadata": {
	    "collapsed": true
	   },
	   "outputs": [],
"source": [
"//Example 3_18\n",
"clc;\n",
"clear;\n",
"close;\n",
"format('v',6);\n",
"//given data :\n",
"//v=100*sin(314*t)\n",
"//i=10*sin(314*t-%pi/6)\n",
"Vm=100;//V\n",
"omega=314;//rad/s\n",
"V=Vm/sqrt(2);//V\n",
"f=omega/2/%pi;//Hz\n",
"Im=10;//A\n",
"I=Im/sqrt(2);//A\n",
"fi=%pi/6;//radian\n",
"pf=cos(fi);//power factor\n",
"disp(pf,'Power Factor(Lagging)');\n",
"P=V*I*cos(fi);//W\n",
"disp(P,'Powe Consumed(W)');\n",
"Z=V/(I*expm(%i*-fi));//ohm\n",
"R=real(Z);//ohm\n",
"disp(R,'Value of R(ohm)');\n",
"XL=imag(Z);//ohm\n",
"L=XL/2/%pi/f*1000;//mH\n",
"disp(L,'Value of L(mH)');"
   ]
   }
,
{
		   "cell_type": "markdown",
		   "metadata": {},
		   "source": [
			"## Example 3.19: Power_Impedence_R_and_L.sce"
		   ]
		  },
  {
"cell_type": "code",
	   "execution_count": null,
	   "metadata": {
	    "collapsed": true
	   },
	   "outputs": [],
"source": [
"//Example 3_19\n",
"clc;\n",
"clear;\n",
"close;\n",
"format('v',6);\n",
"//given data :\n",
"//v=200*sin(314*t+%pi/3)\n",
"//i=20*sin(314*t+%pi/6)\n",
"Vm=200;//V\n",
"omega=314;//rad/s\n",
"V=Vm/sqrt(2);//V\n",
"f=omega/2/%pi;//Hz\n",
"Im=20;//A\n",
"I=Im/sqrt(2);//A\n",
"fi=%pi/3-%pi/6;//radian\n",
"pf=cos(fi);//power factor\n",
"disp(pf,'(i) Power Factor(Lagging)');\n",
"P=V*I*cos(fi);//W\n",
"disp(P,'(ii) Average Power(W)');\n",
"Z=V/(I*expm(%i*-fi));//ohm\n",
"Zmag=abs(Z);//ohm\n",
"Zang=atand(imag(Z),real(Z));//degree\n",
"disp(Zang,Zmag,'(iii) Impedence in polar form, Magnitude(ohm) & angle(degree) are');\n",
"disp(Z,'(iii) Impedence in rectangular form(ohm)');\n",
"R=real(Z);//ohm\n",
"disp(R,'(iv)Value of R(ohm)');\n",
"XL=imag(Z);//ohm\n",
"L=XL/2/%pi/f*1000;//mH\n",
"disp(L,'(iv)Value of L(mH)');"
   ]
   }
,
{
		   "cell_type": "markdown",
		   "metadata": {},
		   "source": [
			"## Example 3.1: rms_value_of_current.sce"
		   ]
		  },
  {
"cell_type": "code",
	   "execution_count": null,
	   "metadata": {
	    "collapsed": true
	   },
	   "outputs": [],
"source": [
"//Example 3_1\n",
"clc;\n",
"clear;\n",
"close;\n",
"format('v',6);\n",
"//given data :\n",
"//v=100*sin(314*t)\n",
"R=20;//ohm\n",
"Vm=100;//V\n",
"omega=314;//\n",
"Vrms=Vm/2;//V\n",
"Irms=Vrms/R;//A\n",
"disp(Irms,'rms value of current (A)');"
   ]
   }
,
{
		   "cell_type": "markdown",
		   "metadata": {},
		   "source": [
			"## Example 3.20: Voltage_and_power_factor.sce"
		   ]
		  },
  {
"cell_type": "code",
	   "execution_count": null,
	   "metadata": {
	    "collapsed": true
	   },
	   "outputs": [],
"source": [
"//Example 3_20\n",
"clc;\n",
"clear;\n",
"close;\n",
"format('v',4);\n",
"//given data :\n",
"VR=20;//V\n",
"VL=60;//V\n",
"VC=30;//V\n",
"V=sqrt(VR^2+(VL-VC)^2);//V\n",
"disp(V,'Magnitude of voltage(V)');\n",
"format('v',5);\n",
"fi=acosd(VR/V);//degree\n",
"disp(fi,'Power Factor angle(degree)');\n",
"pf=cosd(fi);//Power Factor\n",
"disp(pf,'Power Factor');\n",
"//Answer is not accurate in the book."
   ]
   }
,
{
		   "cell_type": "markdown",
		   "metadata": {},
		   "source": [
			"## Example 3.21: Value_of_R_and_C.sce"
		   ]
		  },
  {
"cell_type": "code",
	   "execution_count": null,
	   "metadata": {
	    "collapsed": true
	   },
	   "outputs": [],
"source": [
"//Example 3_21\n",
"clc;\n",
"clear;\n",
"close;\n",
"format('v',5);\n",
"//given data :\n",
"L=100;//mH\n",
"//i=14.148sin(314*t+%pi/6)\n",
"//v=325*sin(314*t)\n",
"Vm=325;//V\n",
"Im=14.14;//A\n",
"omega=314;//rad/s\n",
"V=Vm/sqrt(2);//V\n",
"I=Im/sqrt(2);//A\n",
"Z=V/(I*expm(%i*%pi/6));//ohm\n",
"R=real(Z);//ohm\n",
"disp(R,'Value of R(ohm)');\n",
"XCL=-imag(Z);//ohm//XCL=XC-XL\n",
"XC=XCL+omega*L/1000;//ohm\n",
"C=1/XC/omega;//F\n",
"C=C*10^6;//micro F\n",
"disp(C,'Value of C(micro F)');\n",
"//Answer is not accurate in the book."
   ]
   }
,
{
		   "cell_type": "markdown",
		   "metadata": {},
		   "source": [
			"## Example 3.22: Current_and_power_factor.sce"
		   ]
		  },
  {
"cell_type": "code",
	   "execution_count": null,
	   "metadata": {
	    "collapsed": true
	   },
	   "outputs": [],
"source": [
"//Example 3_22\n",
"clc;\n",
"clear;\n",
"close;\n",
"format('v',6);\n",
"//given data :\n",
"L=100;//mH\n",
"R=15;//ohm\n",
"V=230;//V\n",
"f=50;//Hz\n",
"XL=2*%pi*f*L/1000;//ohm\n",
"IR=V/R;//A\n",
"disp(IR,'Branch Current IR(A)');\n",
"IL=V/XL;//A\n",
"format('v',5);\n",
"disp(IL,'Branch Current IL(A)');\n",
"I=sqrt(IR^2+IL^2);//A\n",
"disp(I,'Line Current I(A)');\n",
"pf=IR/I;//Power factor(lagging)\n",
"disp(pf,'Power Factor(lagging)');\n",
"fi=acosd(pf);//degree\n",
"P=V*I*cosd(fi);//W\n",
"disp(P,'Power Consumed(W)');\n",
"//Answer is not accurate in the book."
   ]
   }
,
{
		   "cell_type": "markdown",
		   "metadata": {},
		   "source": [
			"## Example 3.23: Current_and_power_factor.sce"
		   ]
		  },
  {
"cell_type": "code",
	   "execution_count": null,
	   "metadata": {
	    "collapsed": true
	   },
	   "outputs": [],
"source": [
"//Example 3_23\n",
"clc;\n",
"clear;\n",
"close;\n",
"format('v',6);\n",
"//given data :\n",
"R1=5;//ohm\n",
"L1=150;//mH\n",
"R2=50;//ohm\n",
"L2=15;//mH\n",
"V=230;//V\n",
"f=50;//Hz\n",
"Z1=R1+%i*2*%pi*f*L1/1000;//ohm\n",
"Z2=R2+%i*2*%pi*f*L2/1000;//ohm\n",
"I1=V/Z1;//A\n",
"I2=V/Z2;//A\n",
"I=I1+I2;//A\n",
"Imag=abs(I);//A\n",
"Iang=atand(imag(I)/real(I));//degree\n",
"disp(Iang,Imag,'Total current drawn, magnitude(A) & Angle(degree) are');\n",
"pf=cosd(Iang);//Power Factor(lagging)\n",
"format('v',4);\n",
"disp(pf,'Power Factor(lagging)');\n",
"P=V*Imag*pf;//W\n",
"format('v',5);\n",
"disp(P,'Power Consumed(W)');\n",
"//Answer is not accurate in the book."
   ]
   }
,
{
		   "cell_type": "markdown",
		   "metadata": {},
		   "source": [
			"## Example 3.24: Current_and_Power.sce"
		   ]
		  },
  {
"cell_type": "code",
	   "execution_count": null,
	   "metadata": {
	    "collapsed": true
	   },
	   "outputs": [],
"source": [
"//Example 3_24\n",
"clc;\n",
"clear;\n",
"close;\n",
"format('v',6);\n",
"//given data :\n",
"Z1=10+%i*12;//ohm\n",
"Z2=12-%i*10;//ohm\n",
"V=230;//V\n",
"f=50;//Hz\n",
"Z=Z1*Z2/(Z1+Z2);//ohm\n",
"I=V/Z;//A\n",
"Imag=abs(I);//A\n",
"Iang=atand(imag(I)/real(I));//degree\n",
"disp(Iang,Imag,'Total current drawn, magnitude(A) & Angle(degree) are');\n",
"pf=cosd(Iang);//Power Factor(lagging)\n",
"format('v',6);\n",
"disp(pf,'Power Factor(lagging)');\n",
"P=V*Imag*pf;//W\n",
"P=P/1000;//kW\n",
"disp(P,'Power Consumed(kW)');\n",
"//Answer is not accurate in the book."
   ]
   }
,
{
		   "cell_type": "markdown",
		   "metadata": {},
		   "source": [
			"## Example 3.25: Apparent_and_reactive_power.sce"
		   ]
		  },
  {
"cell_type": "code",
	   "execution_count": null,
	   "metadata": {
	    "collapsed": true
	   },
	   "outputs": [],
"source": [
"//Example 3_25\n",
"clc;\n",
"clear;\n",
"close;\n",
"format('v',6);\n",
"//given data :\n",
"R1=12;//ohm\n",
"L=50;//mH\n",
"R2=50;//ohm\n",
"C=50;//micro F\n",
"V=200*expm(%i*30*%pi/180);//V\n",
"f=50;//Hz\n",
"XL=2*%pi*f*L/1000;//ohm\n",
"XC=1/2/%pi/f/(C*10^-6);//ohm\n",
"Z1=R1+%i*XL;//ohm\n",
"Z2=R2+%i*XC;//ohm\n",
"I1=V/Z1;//A\n",
"I2=V/Z2;//A\n",
"I=I1+I2;//A\n",
"Imag=abs(I);//A\n",
"Iang=atand(imag(I)/real(I));//degree\n",
"disp(Iang,Imag,'Total current drawn, magnitude(A) & Angle(degree) are');\n",
"pf=cosd(Iang);//Power Factor(lagging)\n",
"fi=acosd(pf);//degree\n",
"disp(pf,'Power Factor(lagging)');\n",
"P=abs(V)*Imag*pf;//W\n",
"P=P/1000;//kW\n",
"disp(P,'Power Consumed(kW)');\n",
"S=abs(V)*Imag*sind(fi);//VARs\n",
"S=S/1000;//kVARs\n",
"disp(S,'Reactive Power (kVARs)');\n",
"Pa=abs(V)*Imag/1000;//kVA\n",
"disp(Pa,'Apparent Power(kVA)');\n",
"//Answer is not accurate in the book.\n",
""
   ]
   }
,
{
		   "cell_type": "markdown",
		   "metadata": {},
		   "source": [
			"## Example 3.26: Admittance_and_power_factor.sce"
		   ]
		  },
  {
"cell_type": "code",
	   "execution_count": null,
	   "metadata": {
	    "collapsed": true
	   },
	   "outputs": [],
"source": [
"//Example 3_26\n",
"clc;\n",
"clear;\n",
"close;\n",
"format('v',6);\n",
"//given data :\n",
"V=230;//V\n",
"f=50;//Hz\n",
"Z1=12*expm(%i*30*%pi/180);//ohm\n",
"Z2=8*expm(%i*-30*%pi/180);//ohm\n",
"Z3=10*expm(%i*60*%pi/180);//ohm\n",
"Y1=1/Z1;//mho\n",
"Y2=1/Z2;//mhob\n",
"Y3=1/Z3;//mho\n",
"Y=Y1+Y2+Y3;//mho\n",
"Ymag=abs(Y);//mho\n",
"Yang=atand(imag(Y)/real(Y));//degree\n",
"disp(Yang,Ymag,'Total admittance, magnitude(mho) & Angle(degree) are');\n",
"Z=1/Y;//ohm\n",
"Zmag=abs(Z);//ohm\n",
"Zang=atand(imag(Z)/real(Z));//degree\n",
"disp(Zang,Zmag,'Equivallent Impedance, magnitude(ohm) & Angle(degree) are');\n",
"I=V/Z;//A\n",
"Imag=abs(I);//A\n",
"Iang=atand(imag(I)/real(I));//degree\n",
"disp(Iang,Imag,'Total current, magnitude(A) & Angle(degree) are');\n",
"pf=cosd(Iang);//Power Factor(lagging)\n",
"fi=acosd(pf);//degree\n",
"disp(pf,'Power Factor(lagging)');\n",
"format('v',7);\n",
"P=abs(V)*Imag*pf;//W\n",
"P=P/1000;//kW\n",
"disp(P,'Power Consumed(kW)');\n",
"//Answer is not accurate in the book.\n",
""
   ]
   }
,
{
		   "cell_type": "markdown",
		   "metadata": {},
		   "source": [
			"## Example 3.27: Calculate_power_and_power_factor.sce"
		   ]
		  },
  {
"cell_type": "code",
	   "execution_count": null,
	   "metadata": {
	    "collapsed": true
	   },
	   "outputs": [],
"source": [
"//Example 3_27\n",
"clc;\n",
"clear;\n",
"close;\n",
"format('v',6);\n",
"//given data :\n",
"V=230;//V\n",
"f=50;//Hz\n",
"R1=12;//ohm\n",
"XL1=12;//ohm\n",
"R2=8;//ohm\n",
"XL2=16;//ohm\n",
"Z1=R1+%i*XL1;//ohm\n",
"Z2=R2+%i*XL2;//ohm\n",
"Y1=1/Z1;//mho\n",
"Y2=1/Z2;//mhob\n",
"I1=V*Y1;//A\n",
"I1mag=abs(I1);//A\n",
"I1ang=atand(imag(I1)/real(I1));//degree\n",
"disp(I1ang,I1mag,'current I1, magnitude(A) & Angle(degree) are');\n",
"I2=V*Y2;//A\n",
"I2mag=abs(I2);//A\n",
"I2ang=atand(imag(I2)/real(I2));//degree\n",
"disp(I2ang,I2mag,'Current I2, magnitude(A) & Angle(degree) are');\n",
"I=I1+I2;//A\n",
"Imag=abs(I);//A\n",
"Iang=atand(imag(I)/real(I));//degree\n",
"disp(Iang,Imag,'Total current, magnitude(A) & Angle(degree) are');\n",
"pf=cosd(Iang);//Power Factor(lagging)\n",
"fi=acosd(pf);//degree\n",
"disp(pf,'Power Factor(lagging)');\n",
"P=abs(V)*Imag*pf;//W\n",
"P=P/1000;//kW\n",
"disp(P,'Power Consumed(kW)');\n",
"//Answer is not accurate in the book.\n",
""
   ]
   }
,
{
		   "cell_type": "markdown",
		   "metadata": {},
		   "source": [
			"## Example 3.28: Total_Current_drawn.sce"
		   ]
		  },
  {
"cell_type": "code",
	   "execution_count": null,
	   "metadata": {
	    "collapsed": true
	   },
	   "outputs": [],
"source": [
"//Example 3_28\n",
"clc;\n",
"clear;\n",
"close;\n",
"format('v',5);\n",
"//given data :\n",
"V=230;//V\n",
"f=50;//Hz\n",
"R1=10;//ohm\n",
"L1=0.0636;//H\n",
"R2=8;//ohm\n",
"C=398;//micro F\n",
"R3=6;//ohm\n",
"L2=0.0319;//H\n",
"Z1=R1+%i*2*%pi*f*L1;//ohm\n",
"Z2=R2-%i/2/%pi/f/(C*10^-6);//ohm\n",
"Z3=R3+%i*2*%pi*f*L2;//ohm\n",
"Z=Z1*Z2/(Z1+Z2)+Z3;//ohm\n",
"I=V/Z;//A\n",
"Imag=abs(I);//A\n",
"Iang=atand(imag(I)/real(I));//degree\n",
"disp(Iang,Imag,'Current, magnitude(A) & Angle(degree) are');\n",
"disp(Imag,'Total Current(A)');\n",
"pf=cosd(Iang);//Power Factor(lagging)\n",
"fi=acosd(pf);//degree\n",
"disp(pf,'Power Factor(lagging)');\n",
"//Answer is not accurate in the book.\n",
""
   ]
   }
,
{
		   "cell_type": "markdown",
		   "metadata": {},
		   "source": [
			"## Example 3.29: Value_of_R.sce"
		   ]
		  },
  {
"cell_type": "code",
	   "execution_count": null,
	   "metadata": {
	    "collapsed": true
	   },
	   "outputs": [],
"source": [
"//Example 3_29\n",
"clc;\n",
"clear;\n",
"close;\n",
"format('v',4);\n",
"//given data :\n",
"V=230;//V\n",
"I=25;//A\n",
"f=50;//Hz\n",
"R1=5;//ohm\n",
"R2=10;//ohm\n",
"L2=50;//mH\n",
"Z1=R1;//ohm\n",
"Z2=R2+%i*2*%pi*f*L2/1000;//ohm\n",
"R=poly(0,'R');\n",
"Z3=R;//ohm\n",
"Z12=Z1*Z2/(Z1+Z2);//ohm\n",
"Z=V/I;//ohm//Zdash is Z durectly\n",
"R3=Z-Z12;//ohm\n",
"R3=real(R3);//ohm\n",
"disp(R3,'Value of R(ohm)');"
   ]
   }
,
{
		   "cell_type": "markdown",
		   "metadata": {},
		   "source": [
			"## Example 3.2: Frequency_of_the_supply.sce"
		   ]
		  },
  {
"cell_type": "code",
	   "execution_count": null,
	   "metadata": {
	    "collapsed": true
	   },
	   "outputs": [],
"source": [
"//Example 3_2\n",
"clc;\n",
"clear;\n",
"close;\n",
"format('v',5);\n",
"//given data :\n",
"//v=150*sin(100*%pi*t)\n",
"R=50;//ohm\n",
"Vm=150;//V\n",
"omega=100*%pi;//\n",
"f=omega/2/%pi;//Hz\n",
"Vrms=Vm/2;//V\n",
"Vav=Vm/%pi;//V\n",
"Irms=Vm/2/R;//A\n",
"disp(Irms,'rms value of current (A)');\n",
"Iav=Vm/%pi/R;//A\n",
"disp(Iav,'Average value of current (A)');\n",
"Kf=Irms/Iav;//Form Factor\n",
"disp(Kf,'Form Factor')"
   ]
   }
,
{
		   "cell_type": "markdown",
		   "metadata": {},
		   "source": [
			"## Example 3.30: Current_and_power_factor.sce"
		   ]
		  },
  {
"cell_type": "code",
	   "execution_count": null,
	   "metadata": {
	    "collapsed": true
	   },
	   "outputs": [],
"source": [
"//Example 3_30\n",
"clc;\n",
"clear;\n",
"close;\n",
"format('v',5);\n",
"//given data :\n",
"V=200;//V\n",
"f=50;//Hz\n",
"ZA=4+%i*3;//ohm\n",
"ZB=10-%i*7;//ohm\n",
"ZC=6+%i*5;//ohm\n",
"Z=ZC+ZA*ZB/(ZA*ZB);//ohm\n",
"IC=V/Z;//A\n",
"ICmag=abs(IC);//A\n",
"ICang=atand(imag(IC)/real(IC));//degree\n",
"disp(ICang,ICmag,'Current IC, magnitude(A) & Angle(degree) are');\n",
"IA=IC*ZB/(ZA+ZB);//A\n",
"IAmag=abs(IA);//A\n",
"IAang=atand(imag(IA)/real(IA));//degree\n",
"disp(IAang,IAmag,'Current IA, magnitude(A) & Angle(degree) are');\n",
"IB=IC*ZA/(ZA+ZB);//A\n",
"IBmag=abs(IB);//A\n",
"IBang=atand(imag(IB)/real(IB));//degree\n",
"disp(IBang,IBmag,'Current IB, magnitude(A) & Angle(degree) are');\n",
"fi=ICang;//degree//angle of pf\n",
"pf=cosd(fi);//Power Factor(lagging)\n",
"disp(pf,'Power Factor(lagging)');\n",
"VC=IC*ZC;//V\n",
"VCmag=abs(VC);//A\n",
"VCang=atand(imag(VC)/real(VC));//degree\n",
"disp(VCang,VCmag,'Voltage VC, magnitude(V) & Angle(degree) are');\n",
"VA=IC*ZA*ZB/(ZA+ZB);//V\n",
"VAmag=abs(VA);//A\n",
"VAang=atand(imag(VA)/real(VA));//degree\n",
"disp(VAang,VAmag,'Voltage VA, magnitude(V) & Angle(degree) are');\n",
"VB=IC*ZA*ZB/(ZA+ZB);//V\n",
"VBmag=abs(VB);//A\n",
"VBang=atand(imag(VB)/real(VB));//degree\n",
"disp(VBang,VBmag,'Voltage VB, magnitude(V) & Angle(degree) are');\n",
"//Answer is not accurate in the book."
   ]
   }
,
{
		   "cell_type": "markdown",
		   "metadata": {},
		   "source": [
			"## Example 3.31: Determine_the_voltage.sce"
		   ]
		  },
  {
"cell_type": "code",
	   "execution_count": null,
	   "metadata": {
	    "collapsed": true
	   },
	   "outputs": [],
"source": [
"//Example 3_31\n",
"clc;\n",
"clear;\n",
"close;\n",
"format('v',5);\n",
"//given data :\n",
"I2=10;//A\n",
"f=50;//Hz\n",
"R1=5;//ohm\n",
"L1=0.0191;//H\n",
"R2=7;//ohm\n",
"C2=398;//micro F\n",
"R3=8;//ohm\n",
"L3=0.0318;//H\n",
"Z1=R1+%i*2*%pi*f*L1;//ohm\n",
"Z2=R2-%i/2/%pi/f/(C2*10^-6);//ohm\n",
"Z3=R3+%i*2*%pi*f*L3;//ohm\n",
"VAC=I2*Z2;//V\n",
"I1=VAC/Z1;//A\n",
"I=I1+I2;//A\n",
"VCB=I*Z3;//V\n",
"VAB=VAC+VCB;//V\n",
"VABmag=abs(VAB);//A\n",
"VABang=atand(imag(VAB)/real(VAB));//degree\n",
"disp(VABang,VABmag,'Voltage AB, magnitude(V) & Angle(degree) are');\n",
"//Answer is not accurate in the book."
   ]
   }
,
{
		   "cell_type": "markdown",
		   "metadata": {},
		   "source": [
			"## Example 3.32: Impedence_Current_and_power.sce"
		   ]
		  },
  {
"cell_type": "code",
	   "execution_count": null,
	   "metadata": {
	    "collapsed": true
	   },
	   "outputs": [],
"source": [
"//Example 3_32\n",
"clc;\n",
"clear;\n",
"close;\n",
"format('v',6);\n",
"//given data :\n",
"V=110;//V\n",
"f=50;//Hz\n",
"ZA=2;//ohm\n",
"ZB=3+%i*4;//ohm\n",
"ZC=2-%i*2;//ohm\n",
"ZAB=ZA*ZB/(ZA+ZB);//ohm\n",
"ZP=ZAB*ZC/(ZAB+ZC);//ohm\n",
"ZD=1+%i*1;//ohm\n",
"z=ZP+ZD;//ohm\n",
"zmag=abs(z);//A\n",
"zang=atand(imag(z)/real(z));//degree\n",
"disp(zang,zmag,'(a) Total impedence, magnitude(ohm) & Angle(degree) are');\n",
"I=V/abs(z);//A\n",
"format('v',5);\n",
"disp(I,'(b) Current taken by circuit(A)');\n",
"format('v',7);\n",
"ID=I;//A\n",
"RD=real(ZD);//ohm\n",
"PD=ID^2*RD;///W\n",
"disp(PD,'Power Consumed by branch D(W)');\n",
"//VPQ=I*ZP;\n",
"IA=I*abs(ZP)/abs(ZA);//A\n",
"RA=2;//ohm\n",
"PA=IA^2*RA;//W\n",
"disp(PA,'Power Consumed by branch A(W)');\n",
"IB=I*abs(ZP)/abs(ZB);//A\n",
"RB=3;//ohm\n",
"PB=IB^2*RB;//W\n",
"disp(PB,'Power Consumed by branch B(W)');\n",
"IC=I*abs(ZP)/abs(ZC);//A\n",
"RC=2;//ohm\n",
"PC=IC^2*RC;//W\n",
"disp(PC,'Power Consumed by branch C(W)');\n",
"P=PA+PB+PC+PD;//W\n",
"disp(P,'Total Power Consumed(W)');\n",
"//Answer is not accurate in the book."
   ]
   }
,
{
		   "cell_type": "markdown",
		   "metadata": {},
		   "source": [
			"## Example 3.33: Frequency_and_Q_factor.sce"
		   ]
		  },
  {
"cell_type": "code",
	   "execution_count": null,
	   "metadata": {
	    "collapsed": true
	   },
	   "outputs": [],
"source": [
"//Example 3_33\n",
"clc;\n",
"clear;\n",
"close;\n",
"format('v',5);\n",
"//given data :\n",
"R=10;///ohm\n",
"L=0.1;//H\n",
"C=8;//micro F\n",
"f0=1/2/%pi/sqrt(L*C*10^-6);//Hz\n",
"disp(f0,'(a) Resonant Frequency(Hz)');\n",
"Q=2*%pi*f0*L/R;//Q-factor\n",
"disp(Q,'(b) Q-factor');\n",
"f1=f0-R/4/%pi/L;//Hz\n",
"f2=f0+R/4/%pi/L;//Hz\n",
"disp(f2,f1,'(c) Half power frequencies, f1 & f2 in Hz are');\n",
"BW=f2-f1;//Hz\n",
"disp(BW,'Bandwidth(Hz)');\n",
"//Answer is not accurate in the book."
   ]
   }
,
{
		   "cell_type": "markdown",
		   "metadata": {},
		   "source": [
			"## Example 3.34: Capacitance_and_Q_factor.sce"
		   ]
		  },
  {
"cell_type": "code",
	   "execution_count": null,
	   "metadata": {
	    "collapsed": true
	   },
	   "outputs": [],
"source": [
"//Example 3_34\n",
"clc;\n",
"clear;\n",
"close;\n",
"format('v',6);\n",
"//given data :\n",
"R=4;///ohm\n",
"L=0.5;//H\n",
"V=100;///V\n",
"f=50;//Hz\n",
"C=(1/2/%pi/f)^2/L*10^6;//micro F\n",
"disp(C,'(a) Capacitance at resonant Frequency(micro F)');\n",
"I0=V/R;//A\n",
"VC=I0/2/%pi/f/(C*10^-6);//V\n",
"disp(VC,'(b) Voltage across the capacitor at resonant(V)');\n",
"Q=VC/V;//Q-factor\n",
"disp(Q,'(b) Q-factor');\n",
"//Answer is not accurate in the book."
   ]
   }
,
{
		   "cell_type": "markdown",
		   "metadata": {},
		   "source": [
			"## Example 3.35: Circuit_parameters.sce"
		   ]
		  },
  {
"cell_type": "code",
	   "execution_count": null,
	   "metadata": {
	    "collapsed": true
	   },
	   "outputs": [],
"source": [
"//Example 3_35\n",
"clc;\n",
"clear;\n",
"close;\n",
"format('v',6);\n",
"//given data :\n",
"V=230;///V\n",
"f=50;//Hz\n",
"Im=1.5;//A//Maximum current\n",
"VC=600;//V\n",
"VL=600;//V\n",
"R=V/Im;//ohm\n",
"XL=VL/Im;//ohm\n",
"L=XL/2/%pi/f;//H\n",
"XC=XL;//ohm\n",
"C=1/2/%pi/f/XC;//F\n",
"disp(R,'Resistance(ohm)');\n",
"format('v',5);\n",
"disp(L,'Inductance(H)');\n",
"format('v',11);\n",
"disp(C,'Capacitance(F)');\n",
"//Answer is not accurate in the book."
   ]
   }
,
{
		   "cell_type": "markdown",
		   "metadata": {},
		   "source": [
			"## Example 3.36: Circuit_parameters_and_Q_factors.sce"
		   ]
		  },
  {
"cell_type": "code",
	   "execution_count": null,
	   "metadata": {
	    "collapsed": true
	   },
	   "outputs": [],
"source": [
"//Example 3_36\n",
"clc;\n",
"clear;\n",
"close;\n",
"format('v',6);\n",
"//given data :\n",
"f=100;//Hz\n",
"C=100;//micro F\n",
"Cdash=200;//micro F//When current is half of maximum\n",
"L=1/(2*%pi*f)^2/(C*10^-6);//H\n",
"disp(L,'Inductance(H)');\n",
"XL=2*%pi*f*L;//ohm\n",
"XC=1/2/%pi/f/(Cdash*10^-6);//ohm\n",
"//at I=Im/2  Z will be 2*R\n",
"//Im=V/R and I=V/Z=V/sqrt(R^2+(XL-XC)^2)\n",
"R=(XL-XC)/sqrt(3);//ohm\n",
"format('v',5);\n",
"disp(R,'Resistance(ohm)');\n",
"//Answer is not accurate in the book."
   ]
   }
,
{
		   "cell_type": "markdown",
		   "metadata": {},
		   "source": [
			"## Example 3.37: Voltage_and_Q_factor.sce"
		   ]
		  },
  {
"cell_type": "code",
	   "execution_count": null,
	   "metadata": {
	    "collapsed": true
	   },
	   "outputs": [],
"source": [
"//Example 3_37\n",
"clc;\n",
"clear;\n",
"close;\n",
"format('v',5);\n",
"//given data :\n",
"R=10;//ohm\n",
"L=20;//mH\n",
"C=10;//micro F\n",
"V=50;//V\n",
"f0=1/2/%pi/sqrt(L/1000*C/10^6);//Hz\n",
"disp(f0,'Resonance frequency(Hz)');\n",
"I0=V/R;//A\n",
"XL=2*%pi*f0*L/1000;//ohm\n",
"VL=I0*XL;//V\n",
"disp(VL,'Voltage across inductance(V)');\n",
"VR=I0*R;//V\n",
"disp(VR,'Voltage across Resistance(V)');\n",
"XC=1/2/%pi/f0/(C*10^-6);//ohm\n",
"VC=I0*XC;//V\n",
"disp(VC,'Voltage across Capacitance(V)');\n",
"Q=VL/V;//Q-factor\n",
"disp(Q,'Q-factor');\n",
"//Answer is not accurate in the book."
   ]
   }
,
{
		   "cell_type": "markdown",
		   "metadata": {},
		   "source": [
			"## Example 3.38: Value_of_C_and_voltage.sce"
		   ]
		  },
  {
"cell_type": "code",
	   "execution_count": null,
	   "metadata": {
	    "collapsed": true
	   },
	   "outputs": [],
"source": [
"//Example 3_38\n",
"clc;\n",
"clear;\n",
"close;\n",
"format('v',7);\n",
"//given data :\n",
"R=50;//ohm\n",
"L=1;//mH\n",
"Im=5;//A//Maximum current\n",
"f0=50;//Hz\n",
"C=1/(2*%pi*f0)^2/(L/1000);//F\n",
"disp(C,'Value of C(F)');\n",
"V=Im*R;///V\n",
"disp(V,'Applied Voltage(V)');\n",
"//Answer is not accurate in the book."
   ]
   }
,
{
		   "cell_type": "markdown",
		   "metadata": {},
		   "source": [
			"## Example 3.39: Power_factor_Impedence_and_current.sce"
		   ]
		  },
  {
"cell_type": "code",
	   "execution_count": null,
	   "metadata": {
	    "collapsed": true
	   },
	   "outputs": [],
"source": [
"//Example 3_39\n",
"clc;\n",
"clear;\n",
"close;\n",
"format('v',10);\n",
"//given data :\n",
"R=2.5;//ohm\n",
"XL=25;//ohm\n",
"V=200;//V\n",
"f0=50;//Hz\n",
"XC=XL;//ohm\n",
"C=1/(2*%pi*f0*XC);//F\n",
"disp(C,'For maximum current, Value of C(F)');\n",
"//At resonance Z=R\n",
"pf=1;//power factor\n",
"disp(pf,'Power Factor ');\n",
"Z=R;//ohm\n",
"disp(Z,'Impedence(ohm)');\n",
"Im=V/R;//A\n",
"disp(Im,'Current(A)');\n",
"//Answer is not accurate in the book."
   ]
   }
,
{
		   "cell_type": "markdown",
		   "metadata": {},
		   "source": [
			"## Example 3.3: Form_factor.sce"
		   ]
		  },
  {
"cell_type": "code",
	   "execution_count": null,
	   "metadata": {
	    "collapsed": true
	   },
	   "outputs": [],
"source": [
"//Example 3_3\n",
"clc;\n",
"clear;\n",
"close;\n",
"format('v',5);\n",
"//given data :\n",
"v=10;//V\n",
"T=0.2;//second\n",
"Vav=1/T*integrate('1*v','t',0,T/2);//V\n",
"Vrms=sqrt(1/T*integrate('v^2','t',0,T/2));//V\n",
"disp(Vrms,'rms value of Voltage (V)');\n",
"disp(Vav,'Average value of Voltage (V)');\n",
"Kf=Vrms/Vav;//Form Factor\n",
"disp(Kf,'Form Factor')\n",
"//Answer is not accurate in the book."
   ]
   }
,
{
		   "cell_type": "markdown",
		   "metadata": {},
		   "source": [
			"## Example 3.40: Frequency_Q_factor_and_current.sce"
		   ]
		  },
  {
"cell_type": "code",
	   "execution_count": null,
	   "metadata": {
	    "collapsed": true
	   },
	   "outputs": [],
"source": [
"//Example 3_40\n",
"clc;\n",
"clear;\n",
"close;\n",
"format('v',7);\n",
"//given data :\n",
"R=10;//ohm\n",
"L=100;//mH\n",
"C=20;//micro F\n",
"V=100;//V\n",
"f0=1/2/%pi*sqrt(1/(L/1000*C*10^-6)-R^2/(L/1000)^2);//Hz\n",
"disp(f0,'Resonant frequency(Hz)');\n",
"Q=2*%pi*f0*L/1000/R;//Q-factor\n",
"disp(Q,'Q-factor');\n",
"Z0=L/1000/(C*10^-6)/R;//ohm\n",
"disp(Z0,'Dynamic Impedence(ohm)');\n",
"I0=V/Z0;//A\n",
"disp(I0,'Current at resonance(A)');\n",
"//Answer is not accurate in the book."
   ]
   }
,
{
		   "cell_type": "markdown",
		   "metadata": {},
		   "source": [
			"## Example 3.41: Value_of_capacitor.sce"
		   ]
		  },
  {
"cell_type": "code",
	   "execution_count": null,
	   "metadata": {
	    "collapsed": true
	   },
	   "outputs": [],
"source": [
"//Example 3_41\n",
"clc;\n",
"clear;\n",
"close;\n",
"format('v',6);\n",
"//given data :\n",
"R=5;//ohm\n",
"XL=10;//ohm\n",
"V=230;//V\n",
"f=50;//Hz\n",
"Z=R+%i*XL;//ohm\n",
"IL=V/Z;//A\n",
"fi_L=atand(imag(IL)/real(IL));//degree\n",
"IC=abs(IL)*sind(fi_L);//A\n",
"XC=-V/IC;//ohm\n",
"C=1/2/%pi/f/XC*10^6;//micro F\n",
"disp(C,'Value of capacitor(micro F)');\n",
"I=abs(IL)*cosd(fi_L);//A\n",
"format('v',3);\n",
"disp(I,'Magnitude of in-phase current(A)');\n",
"//Answer is not accurate in the book."
   ]
   }
,
{
		   "cell_type": "markdown",
		   "metadata": {},
		   "source": [
			"## Example 3.42: Resonant_current.sce"
		   ]
		  },
  {
"cell_type": "code",
	   "execution_count": null,
	   "metadata": {
	    "collapsed": true
	   },
	   "outputs": [],
"source": [
"//Example 3_42\n",
"clc;\n",
"clear;\n",
"close;\n",
"format('v',7);\n",
"//given data :\n",
"R=4;//ohm\n",
"L=20;//mH\n",
"V=230;//V\n",
"f=50;//Hz\n",
"omega=2*%pi*f;//rad/s\n",
"ZL=R+%i*omega*L/1000;//ohm\n",
"IL=V/ZL;//A\n",
"fi_L=atand(imag(IL)/real(IL));//degree\n",
"IC=abs(IL)*sind(fi_L);//A\n",
"XC=-V/IC;//ohm\n",
"C=1/2/%pi/f/XC*10^6;//micro F\n",
"disp(C,'Value of capacitor(micro F)');\n",
"I0=abs(IL)*cosd(fi_L);//A\n",
"format('v',5);\n",
"disp(I0,'Magnitude of in-phase current(A)');\n",
"//Answer is not accurate in the book."
   ]
   }
,
{
		   "cell_type": "markdown",
		   "metadata": {},
		   "source": [
			"## Example 3.43: Value_of_Ri.sce"
		   ]
		  },
  {
"cell_type": "code",
	   "execution_count": null,
	   "metadata": {
	    "collapsed": true
	   },
	   "outputs": [],
"source": [
"//Example 3_43\n",
"clc;\n",
"clear;\n",
"close;\n",
"format('v',6);\n",
"//given data :\n",
"XL1=6;//ohm\n",
"R2=10;//ohm\n",
"XC2=4;//ohm\n",
"R1=poly(0,'R1');\n",
"Z1=R1+%i*XL1;//ohm\n",
"Z2=R2-%i*XC2;//ohm\n",
"Z=Z1*Z2/(Z1+Z2);//ohm\n",
"//Imaginary part of Z will be zero\n",
"//For Calculation\n",
"eq=imag(numer(Z)*denom(Z'));//equaltion of imaginary part\n",
"R1=roots(eq);//ohm\n",
"R1=R1(1);//ohm//leaving -ve value\n",
"disp(R1,'Value of R1(ohm)');"
   ]
   }
,
{
		   "cell_type": "markdown",
		   "metadata": {},
		   "source": [
			"## Example 3.4: Rms_and_average_value.sce"
		   ]
		  },
  {
"cell_type": "code",
	   "execution_count": null,
	   "metadata": {
	    "collapsed": true
	   },
	   "outputs": [],
"source": [
"//Example 3_4\n",
"clc;\n",
"clear;\n",
"close;\n",
"format('v',5);\n",
"//given data :\n",
"//Let T=1 for calculation\n",
"T=1;\n",
"//i=5*t/T+5;//A\n",
"Iav=1/T*integrate('5*t/T+5','t',0,T);\n",
"disp(Iav,'Average value(A)');\n",
"Irms=sqrt(1/T*integrate('(5*t/T+5)^2','t',0,T));//V\n",
"disp(Irms,'rms value(A)');\n",
"//Answer is not accurate in the book."
   ]
   }
,
{
		   "cell_type": "markdown",
		   "metadata": {},
		   "source": [
			"## Example 3.5: Rms_and_average_value_and_form_factor.sce"
		   ]
		  },
  {
"cell_type": "code",
	   "execution_count": null,
	   "metadata": {
	    "collapsed": true
	   },
	   "outputs": [],
"source": [
"//Example 3_5\n",
"clc;\n",
"clear;\n",
"close;\n",
"format('v',5);\n",
"//given data :\n",
"//Let T=1 for calculation\n",
"T=1;\n",
"//y=m*x, m=10/T & x=t\n",
"//i=10*t/T\n",
"Im=10;//A\n",
"Irms=sqrt(1/T*integrate('(10*t/T)^2','t',0,T));//V\n",
"disp(Irms,'rms value(A)');\n",
"Iav=Im/2;//A\n",
"disp(Iav,'Average value(A)');\n",
"Kf=Irms/Iav;//Form Factor\n",
"disp(Kf,'Form Factor')"
   ]
   }
,
{
		   "cell_type": "markdown",
		   "metadata": {},
		   "source": [
			"## Example 3.6: Voltage_and_current.sce"
		   ]
		  },
  {
"cell_type": "code",
	   "execution_count": null,
	   "metadata": {
	    "collapsed": true
	   },
	   "outputs": [],
"source": [
"//Example 3_6\n",
"clc;\n",
"clear;\n",
"close;\n",
"format('v',5);\n",
"//given data :\n",
"L=0.5;//H\n",
"V=230;//V\n",
"f=50;//Hz\n",
"Vm=sqrt(2)*V;//V\n",
"XL=2*%pi*f*L;//ohm\n",
"I=V/XL;//A\n",
"Im=sqrt(2)*I;//A\n",
"disp('Equations are :  ');\n",
"disp('V='+string(Vm)+'*sin'+string(2*%pi*f)+'*t');\n",
"disp('i='+string(Im)+'*sin('+string(2*%pi*f)+'*t-%pi/2)');\n",
"//Answer is not accurate in the book."
   ]
   }
,
{
		   "cell_type": "markdown",
		   "metadata": {},
		   "source": [
			"## Example 3.7: Instantaneous_current.sce"
		   ]
		  },
  {
"cell_type": "code",
	   "execution_count": null,
	   "metadata": {
	    "collapsed": true
	   },
	   "outputs": [],
"source": [
"//Example 3_7\n",
"clc;\n",
"clear;\n",
"close;\n",
"format('v',6);\n",
"//given data :\n",
"L=0.5;//H\n",
"C=100;//micro F\n",
"V=230;//V\n",
"f=50;//Hz\n",
"R=25;//ohm\n",
"Vm=sqrt(2)*V;//V\n",
"omega=2*%pi*f;//rad/s\n",
"disp('Voltage equation')\n",
"disp('V='+string(Vm)+'*sin'+string(omega)+'*t');\n",
"XL=omega*L;//ohm\n",
"XC=1/omega/(C*10^-6);///ohm\n",
"disp('Current through the resistor will be ');\n",
"disp('i='+string(Vm/R)+'*sin('+string(2*%pi*f)+'*t)');\n",
"disp('Current through the inductor will be ');\n",
"disp('i='+string(Vm/XL)+'*sin('+string(2*%pi*f)+'*t-90)');\n",
"disp('Current through the capacitor will be ');\n",
"disp('i='+string(Vm/XC)+'*sin('+string(2*%pi*f)+'*t+90)');\n",
"//Answer is not accurate in the book."
   ]
   }
,
{
		   "cell_type": "markdown",
		   "metadata": {},
		   "source": [
			"## Example 3.8: Calculate_the_current.sce"
		   ]
		  },
  {
"cell_type": "code",
	   "execution_count": null,
	   "metadata": {
	    "collapsed": true
	   },
	   "outputs": [],
"source": [
"//Example 3_8\n",
"clc;\n",
"clear;\n",
"close;\n",
"format('v',5);\n",
"//given data :\n",
"V=100;//V\n",
"f=50;//Hz\n",
"R=10;//ohm\n",
"L=100;//mH\n",
"C=100;//micro F\n",
"XL=2*%pi*f*L*10^-3;//ohm\n",
"XC=1/2/%pi/f/(C*10^-6);//ohm\n",
"IR=V/R;//A\n",
"disp(IR,'Current through R(A)');\n",
"IL=V/XL;//A\n",
"disp(IL,'Current through L(A)');\n",
"IC=V/XC;//A\n",
"disp(IC,'Current through C(A)');"
   ]
   }
,
{
		   "cell_type": "markdown",
		   "metadata": {},
		   "source": [
			"## Example 3.9: Branch_and_Line_current_Power_factor.sce"
		   ]
		  },
  {
"cell_type": "code",
	   "execution_count": null,
	   "metadata": {
	    "collapsed": true
	   },
	   "outputs": [],
"source": [
"//Example 3_9\n",
"clc;\n",
"clear;\n",
"close;\n",
"format('v',5);\n",
"//given data :\n",
"V=230;//V\n",
"f=50;//Hz\n",
"R1=14;//ohm\n",
"L1=16;//mH\n",
"R2=18;//ohm\n",
"L2=32;//mH\n",
"XL1=2*%pi*f*L1*10^-3;//ohm\n",
"XL2=2*%pi*f*L2*10^-3;//ohm\n",
"Z1mag=sqrt(R1^2+XL1^2);//ohm\n",
"Z2mag=sqrt(R2^2+XL2^2);//ohm\n",
"fi1=atand(XL1/R1);//radian\n",
"fi2=atand(XL2/R2);//radian\n",
"Z1=Z1mag*expm(%i*fi1*%pi/180);//ohm\n",
"Z2=Z2mag*expm(%i*fi2*%pi/180);//ohm\n",
"Y1=1/Z1;//mho\n",
"Y2=1/Z2;//mho\n",
"I1=V*Y1;//A\n",
"I1mag=abs(I1);//A\n",
"I1ang=atand(imag(I1),real(I1));//degree\n",
"disp(I1ang,I1mag,'Branch Current I1, magnitude(A) & angle(degree) are: ');\n",
"I2=V*Y2;//A\n",
"I2mag=abs(I2);//A\n",
"I2ang=atand(imag(I2),real(I2));//degree\n",
"disp(I2ang,I2mag,'Branch Current I2, magnitude(A) & angle(degree) are: ');\n",
"I_cosfi=I1mag*cosd(fi1)+I2mag*cosd(fi1);\n",
"I_sinfi=I1mag*sind(fi1)+I2mag*sind(fi1);\n",
"tanfi=I_sinfi/I_cosfi;\n",
"fi=atand(tanfi);//degree\n",
"pf=cosd(fi);//Power Factor lagging\n",
"disp(pf,'Total Power Factor(lagging)');\n",
"I=sqrt(I_sinfi^2+I_cosfi^2);//A\n",
"disp(fi,-I,'Line Current I, magnitude(A) & angle(degree) are: ');\n",
"//Answer is not accurate in the book."
   ]
   }
],
"metadata": {
		  "kernelspec": {
		   "display_name": "Scilab",
		   "language": "scilab",
		   "name": "scilab"
		  },
		  "language_info": {
		   "file_extension": ".sce",
		   "help_links": [
			{
			 "text": "MetaKernel Magics",
			 "url": "https://github.com/calysto/metakernel/blob/master/metakernel/magics/README.md"
			}
		   ],
		   "mimetype": "text/x-octave",
		   "name": "scilab",
		   "version": "0.7.1"
		  }
		 },
		 "nbformat": 4,
		 "nbformat_minor": 0
}
