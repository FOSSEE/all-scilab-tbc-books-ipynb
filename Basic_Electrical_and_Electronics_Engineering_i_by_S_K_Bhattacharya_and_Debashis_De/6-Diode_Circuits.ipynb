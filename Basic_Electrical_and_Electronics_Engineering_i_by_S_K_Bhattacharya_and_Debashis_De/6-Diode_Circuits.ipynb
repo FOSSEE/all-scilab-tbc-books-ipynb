{
"cells": [
 {
		   "cell_type": "markdown",
	   "metadata": {},
	   "source": [
       "# Chapter 6: Diode Circuits"
	   ]
	},
{
		   "cell_type": "markdown",
		   "metadata": {},
		   "source": [
			"## Example 6.10: Full_scale_reading.sce"
		   ]
		  },
  {
"cell_type": "code",
	   "execution_count": null,
	   "metadata": {
	    "collapsed": true
	   },
	   "outputs": [],
"source": [
"//Example 6_10\n",
"clc;\n",
"clear;\n",
"close;\n",
"format('v',4);\n",
"Rm=20;//ohm(meter resistance)\n",
"Rs=5;//kohm(series resistance)\n",
"Im=1;///mA\n",
"Idc=2*Im/%pi;//mA\n",
"RL=Rm+Rs*1000;//ohm\n",
"Vm=Idc/1000*%pi*RL/2;///V\n",
"v0_max=2*sqrt(2)*Vm;//V\n",
"disp(v0_max,'Full scale reading(V) : ');"
   ]
   }
,
{
		   "cell_type": "markdown",
		   "metadata": {},
		   "source": [
			"## Example 6.11: dc_output_voltage_and_PIV.sce"
		   ]
		  },
  {
"cell_type": "code",
	   "execution_count": null,
	   "metadata": {
	    "collapsed": true
	   },
	   "outputs": [],
"source": [
"//Example 6_11\n",
"clc;\n",
"clear;\n",
"close;\n",
"format('v',5);\n",
"//given data : \n",
"V1=220;//V\n",
"N1ByN2=10/1;//turns ratio\n",
"V2=V1/N1ByN2;//V\n",
"Vm=sqrt(2)*V2;//V\n",
"Vdc=0.318*Vm;//V\n",
"disp(Vdc,'(a) dc output voltage(V) : ' );\n",
"format('v',6);\n",
"PIV=Vm;//V\n",
"disp(PIV,'(b) PIV(V) : ' );"
   ]
   }
,
{
		   "cell_type": "markdown",
		   "metadata": {},
		   "source": [
			"## Example 6.12: Maximum_and_average_Power.sce"
		   ]
		  },
  {
"cell_type": "code",
	   "execution_count": null,
	   "metadata": {
	    "collapsed": true
	   },
	   "outputs": [],
"source": [
"//Example 6_12\n",
"clc;\n",
"clear;\n",
"close;\n",
"format('v',6);\n",
"//given data : \n",
"V1=230;//V\n",
"N2ByN1=1/3;//turns ratio\n",
"RL=200;//ohm\n",
"V2=V1*N2ByN1;//V\n",
"Vm=sqrt(2)*V2;//V\n",
"Im=Vm/RL;//A\n",
"Pmax=Im^2*RL;//W\n",
"disp(Pmax,'Maximum load power(W) : ');\n",
"format('v',5);\n",
"Vdc=0.318*Vm;//V\n",
"Idc=Vdc/RL;//A\n",
"Pdc=Idc^2*RL;//W\n",
"disp(Pdc,'Average value of load power(W) : ');\n",
"//Answer in the textbook is not accurate."
   ]
   }
,
{
		   "cell_type": "markdown",
		   "metadata": {},
		   "source": [
			"## Example 6.13: Maximum_value_of_voltage.sce"
		   ]
		  },
  {
"cell_type": "code",
	   "execution_count": null,
	   "metadata": {
	    "collapsed": true
	   },
	   "outputs": [],
"source": [
"//Example 6_13\n",
"clc;\n",
"clear;\n",
"close;\n",
"format('v',6);\n",
"//given data : \n",
"Vdc=30;//V\n",
"rf=25;//ohm\n",
"RL=500;//ohm\n",
"Idc=Vdc/RL;//A\n",
"Im=%pi*Idc;//A\n",
"Vi_max=Im^2*(rf+RL);//V\n",
"disp(Vi_max,'Voltage required at input(V) : ');\n",
"//Answer in the textbook is not accurate."
   ]
   }
,
{
		   "cell_type": "markdown",
		   "metadata": {},
		   "source": [
			"## Example 6.14: AC_voltage_and_efficiency.sce"
		   ]
		  },
  {
"cell_type": "code",
	   "execution_count": null,
	   "metadata": {
	    "collapsed": true
	   },
	   "outputs": [],
"source": [
"//Example 6_14\n",
"clc;\n",
"clear;\n",
"close;\n",
"format('v',7);\n",
"//given data : \n",
"Vdc=100;//V\n",
"rf=20;//ohm\n",
"RL=500;//ohm\n",
"Idc=Vdc/RL;//A\n",
"Im=%pi*Idc;//A\n",
"Vm=Im*(RL+rf);//V\n",
"disp(Vm,'(a) The ac voltage required(V) : ');\n",
"format('v',5);\n",
"Eta=0.406/(1+rf/RL)*100;//%(Rectification Efficiency)\n",
"disp(Eta,'Rectification Efficiency(%) : ');"
   ]
   }
,
{
		   "cell_type": "markdown",
		   "metadata": {},
		   "source": [
			"## Example 6.15: dc_output_voltage.sce"
		   ]
		  },
  {
"cell_type": "code",
	   "execution_count": null,
	   "metadata": {
	    "collapsed": true
	   },
	   "outputs": [],
"source": [
"//Example 6_15\n",
"clc;\n",
"clear;\n",
"close;\n",
"format('v',4);\n",
"//given data : \n",
"//v=50*sin(100*%pi*t)\n",
"Vm=50;//V\n",
"f=50;//Hz\n",
"rf=20;//ohm\n",
"RL=5000;//ohm\n",
"Im=Vm/(rf+RL)*1000;//mA\n",
"disp('(a) Current is '+string(Im)+'*sin(100*%pi*t) for %pi <100*%pi*t<2*%pi & it will be zero for 0 <100*%pi*t<%pi');\n",
"format('v',5);\n",
"Vdc=Im/1000/%pi*RL;//V\n",
"disp('(b) Output Voltage, Vo = '+string(Vdc)+'*sin(100*%pi*t) for %pi <100*%pi*t<2*%pi & it will be zero for 0 <100*%pi*t<%pi ');\n",
"//Assuming diode is ideal\n",
"disp('(c) Voltage across diode, v = '+string(Vdc)+'*sin(100*%pi*t) for 0 <100*%pi*t<%pi & it will be zero for %pi <100*%pi*t<2*%pi ');\n",
""
   ]
   }
,
{
		   "cell_type": "markdown",
		   "metadata": {},
		   "source": [
			"## Example 6.16: Value_of_capacitance.sce"
		   ]
		  },
  {
"cell_type": "code",
	   "execution_count": null,
	   "metadata": {
	    "collapsed": true
	   },
	   "outputs": [],
"source": [
"//Example 6_16\n",
"clc;\n",
"clear;\n",
"close;\n",
"format('v',5);\n",
"//given data : \n",
"Vrms=230;//V\n",
"f=50;//Hz\n",
"Gamma=0:0.001:0.005;//Ripple factor(Gamma<=0.005)\n",
"IL=0.5;//A\n",
"Gamma=Gamma(4);//Taken for the solution\n",
"Vm=sqrt(2)*Vrms;//V\n",
"Vdc=Vm/%pi;//V\n",
"Idc=IL;//A\n",
"RL=Vdc/Idc;//ohm\n",
"C=1/(2*sqrt(3)*f*RL*Gamma)*1000;//mF\n",
"disp(C,'Value of capacitance(mF) : ');\n",
"//Answer in the textbook is not accurate."
   ]
   }
,
{
		   "cell_type": "markdown",
		   "metadata": {},
		   "source": [
			"## Example 6.17: calculate_ripple_factor.sce"
		   ]
		  },
  {
"cell_type": "code",
	   "execution_count": null,
	   "metadata": {
	    "collapsed": true
	   },
	   "outputs": [],
"source": [
"//Example 6_17\n",
"clc;\n",
"clear;\n",
"close;\n",
"format('v',5);\n",
"//given data : \n",
"RL=3.15;//kohm\n",
"rf=20;//ohm\n",
"//v=230*sin(314*t)\n",
"Vm=230;//V\n",
"f=50;//Hz\n",
"Irms=0.707*Vm/(rf+RL*1000);//A\n",
"Im=Vm/(rf+RL*1000);//A\n",
"Idc=0.637*Im\n",
"Gamma=sqrt((Irms/Idc)^2-1);//Ripple factor\n",
"disp(Gamma,'Ripple factor : ');"
   ]
   }
,
{
		   "cell_type": "markdown",
		   "metadata": {},
		   "source": [
			"## Example 6.18: dc_output_voltage_and_frequency.sce"
		   ]
		  },
  {
"cell_type": "code",
	   "execution_count": null,
	   "metadata": {
	    "collapsed": true
	   },
	   "outputs": [],
"source": [
"//Example 6_18\n",
"clc;\n",
"clear;\n",
"close;\n",
"format('v',4);\n",
"//given data : \n",
"Vp=230;//V\n",
"fin=50;//Hz\n",
"RL=200;//ohm\n",
"NsByNp=1/4;//turns ratio\n",
"Vs=Vp*NsByNp;//V\n",
"Vrms=Vs;//V\n",
"Vm=Vrms*sqrt(2);//V\n",
"Idc=2*Vm/%pi/RL;//A\n",
"RL=150;//ohm\n",
"Vdc=Idc*RL;//V\n",
"disp(Vdc,'dc output Voltage(V) : ');\n",
"//Because of two output pulses\n",
"fout=2*fin;///Hz\n",
"disp(fout,'Pulse frequency of the output(Hz) : ');"
   ]
   }
,
{
		   "cell_type": "markdown",
		   "metadata": {},
		   "source": [
			"## Example 6.19: Maximum_dc_voltage.sce"
		   ]
		  },
  {
"cell_type": "code",
	   "execution_count": null,
	   "metadata": {
	    "collapsed": true
	   },
	   "outputs": [],
"source": [
"//Example 6_19\n",
"clc;\n",
"clear;\n",
"close;\n",
"format('v',5);\n",
"//given data : \n",
"Vp=220;//V\n",
"fi=50;//Hz\n",
"RL=1.5;//kohm\n",
"Np=1000;//turns\n",
"Ns=100;//turns\n",
"Vs=Vp*Ns/Np;//V\n",
"Vrms=Vs*sqrt(2);//V\n",
"Vm=Vrms/2;//V(Across half secondary winding)\n",
"Idc=2*Vm/%pi/(RL*1000);//A\n",
"Vdc=Idc*RL*1000;//V\n",
"disp(Vdc,'dc output Voltage(V) : ');\n",
"//Answer in the textbook is not accurate."
   ]
   }
,
{
		   "cell_type": "markdown",
		   "metadata": {},
		   "source": [
			"## Example 6.1: Find_the_current.sce"
		   ]
		  },
  {
"cell_type": "code",
	   "execution_count": null,
	   "metadata": {
	    "collapsed": true
	   },
	   "outputs": [],
"source": [
"//Example 6_1\n",
"clc;\n",
"clear;\n",
"close;\n",
"format('v',5);\n",
"//given data : \n",
"I0=10;//micro A\n",
"Vz=100;//V\n",
"R=1.5;//kohm\n",
"V=45;//V\n",
"///Part(a)\n",
"I=V/R;//mA(neglecting diode threshold voltage)\n",
"//I=I0*(exp(38.4*V)-1)//Diode Current Equation\n",
"Vd=(log(I*10^-3/(I0*10^-6)+1))/38.4;//V(Diode Voltage)\n",
"//Now calculating I again\n",
"I=(V-Vd)/R;//mA\n",
"disp(I,'(a) If diode is forward biased, Current(mA)');\n",
"//Part(b)\n",
"Vd=-V;//V(for reverse polarity of battery)\n",
"I=-I0;//micro A\n",
"//Voltage drop across resistor neglected\n",
"disp(I,'(b) If battery inserted with reverse polarity, Current(micro A)');\n",
"//Part(c)\n",
"Vz=10;//V\n",
"//in forward direction behaviour will remain same\n",
"I=V/R;//mA(neglecting diode threshold voltage)\n",
"//I=I0*(exp(38.4*V)-1)//Diode Current Equation\n",
"Vd=(log(I*10^-3/(I0*10^-6)+1))/38.4;//V(Diode Voltage)\n",
"//Now calculating I again\n",
"I=(V-Vd)/R;//mA\n",
"disp(I,'(c) If diode is forward biased, Current(mA)');\n",
"//reverse direction\n",
"//load line dataV=30;//\n",
"V=30;//V\n",
"I=-30;//mA\n",
"V1=20;//V//from Load Line\n",
"Idash=I*V1/V;///A\n",
"disp(Idash,'(c) If battery inserted with reverse polarity, Current(mA)');\n",
"//Answer in the book is not accurate,"
   ]
   }
,
{
		   "cell_type": "markdown",
		   "metadata": {},
		   "source": [
			"## Example 6.20: Calculate_input_voltage.sce"
		   ]
		  },
  {
"cell_type": "code",
	   "execution_count": null,
	   "metadata": {
	    "collapsed": true
	   },
	   "outputs": [],
"source": [
"//Example 6_20\n",
"clc;\n",
"clear;\n",
"close;\n",
"format('v',5);\n",
"//given data : \n",
"Vdc=30;//V\n",
"RL=1;//kohm\n",
"Gamma=0.015;//Ripple factor\n",
"Idc=Vdc/RL;//mA\n",
"C=2900/Gamma/(RL*1000);//micro F\n",
"disp(C,'Filter capacitor(micro F) : ');\n",
"format('v',6);\n",
"Vm=Vdc+5000*Idc/1000/C;///V\n",
"V2=2*Vm/sqrt(2);//V\n",
"disp(V2,'Required intput Voltage(V) : ');\n",
"//Answer in the textbook is not accurate."
   ]
   }
,
{
		   "cell_type": "markdown",
		   "metadata": {},
		   "source": [
			"## Example 6.21: Inductance_and_output_voltage.sce"
		   ]
		  },
  {
"cell_type": "code",
	   "execution_count": null,
	   "metadata": {
	    "collapsed": true
	   },
	   "outputs": [],
"source": [
"//Example 6_21\n",
"clc;\n",
"clear;\n",
"close;\n",
"format('v',5);\n",
"//given data : \n",
"IL=0.1;//A\n",
"C=40;///micro F\n",
"R=40;//ohm\n",
"Vrms=40;//V\n",
"Gamma=0.0001;//Ripple factor\n",
"n=2;//For 2 stage filter\n",
"L=1.76/C*(0.472/Gamma)^(1/n);//H\n",
"disp(L,'(a) Value of inductance(H) : ');\n",
"Vdc=2*sqrt(2)*Vrms/%pi-IL*R;//V\n",
"disp(Vdc,'(b) Output Voltage(V) : ' );"
   ]
   }
,
{
		   "cell_type": "markdown",
		   "metadata": {},
		   "source": [
			"## Example 6.22: dc_output_voltage_and_ripple_voltage.sce"
		   ]
		  },
  {
"cell_type": "code",
	   "execution_count": null,
	   "metadata": {
	    "collapsed": true
	   },
	   "outputs": [],
"source": [
"//Example 6_22\n",
"clc;\n",
"clear;\n",
"close;\n",
"format('v',7);\n",
"//given data : \n",
"IL=50;//micro A\n",
"C=4;///micro F\n",
"C1=4;///micro F\n",
"L=20;///H(Choke Inductance)\n",
"R=200;//ohm(Choke Resistance)\n",
"V=300;//V\n",
"Idc=IL/1000;//mA\n",
"Vdc=V*sqrt(2)-4170*Idc/C-Idc*R;//V\n",
"disp(Vdc,'Output Voltage(V) : ' );\n",
"r=3300*Idc/C/C1/L/R;//Ripple factor\n",
"Vrms=r*Vdc;//V\n",
"disp(Vrms,'Ripple Voltage(V) : ');\n",
"//Answer in the textbook is wrong. calculation & value putting mistake."
   ]
   }
,
{
		   "cell_type": "markdown",
		   "metadata": {},
		   "source": [
			"## Example 6.2: Find_the_current.sce"
		   ]
		  },
  {
"cell_type": "code",
	   "execution_count": null,
	   "metadata": {
	    "collapsed": true
	   },
	   "outputs": [],
"source": [
"//Example 6_2\n",
"clc;\n",
"clear;\n",
"close;\n",
"format('v',5);\n",
"//given data : \n",
"V=100;//V\n",
"//For diode D1\n",
"V1gamma=0.2;//V\n",
"r1=20;//ohm\n",
"//For diode D2\n",
"V2gamma=0.6;//V\n",
"r2=15;//ohm\n",
"//Part(a)\n",
"//Assume D1 & D2 are ON\n",
"R=10;//kohm\n",
"//Writing loop equations\n",
"//V=(R+r1/1000)*I1+R*I2+V1gamma;(eqn(1))\n",
"A1=[(R+r1/1000) R];//Coefficient matrix\n",
"B1=[V-V1gamma];//Coefficient matrix\n",
"//V=(R+r2/1000)*I2+R*I1+V2gamma;(eqn(2))\n",
"A2=[R (R+r2/1000)];//Coefficient matrix\n",
"B2=[V-V2gamma];//Coefficient matrix\n",
"A=[A1;A2];//Coefficient matrix\n",
"B=[B1;B2];//Coefficient matrix\n",
"X=A^-1*B;//solution matrix\n",
"I1=X(1);///mA\n",
"I2=X(2);///mA\n",
"if I2<0 then\n",
"    disp('I2<0, Assumption D2 is ON, not valid.')\n",
"//Assume D1 is ON & D2 is OFF\n",
"I2=0;//A\n",
"I1=(V-V1gamma)/(R+r1/1000);//mA\n",
"disp(I2,I1,'(a) Diode current I1 & I2 in mA are : ');\n",
"end;\n",
"//Part(b)\n",
"format('v',7);\n",
"//Assume D1 & D2 are ON\n",
"R=1.5;//kohm\n",
"//Writing loop equations\n",
"//V=(R+r1/1000)*I1+R*I2+V1gamma;(eqn(1))\n",
"A1=[(R+r1/1000) R];//Coefficient matrix\n",
"B1=[V-V1gamma];//Coefficient matrix\n",
"//V=(R+r2/1000)*I2+R*I1+V2gamma;(eqn(2))\n",
"A2=[R (R+r2/1000)];//Coefficient matrix\n",
"B2=[V-V2gamma];//Coefficient matrix\n",
"A=[A1;A2];//Coefficient matrix\n",
"B=[B1;B2];//Coefficient matrix\n",
"X=A^-1*B;//solution matrix\n",
"I1=X(1);///mA\n",
"I2=X(2);///mA\n",
"disp(I2,I1,'(b) Diode current I1 & I2 in mA are : ');"
   ]
   }
,
{
		   "cell_type": "markdown",
		   "metadata": {},
		   "source": [
			"## Example 6.3: Calculate_the_break_regio.sce"
		   ]
		  },
  {
"cell_type": "code",
	   "execution_count": null,
	   "metadata": {
	    "collapsed": true
	   },
	   "outputs": [],
"source": [
"//Example 6_3\n",
"clc;\n",
"clear;\n",
"close;\n",
"format('v',5);\n",
"//given data : \n",
"r1BYr2=10000;//multipying factor\n",
"//r=Eta*VT/I0*eps^(-V/Eta/VT)\n",
"//log(r1BYr2)=(-V1/Eta/VT)/(-V2/Eta/VT)=delV/Eta/VT\n",
"VT=26;//mV\n",
"Eta=2;//for silicon\n",
"delV=log(r1BYr2)*Eta*VT;\n",
"disp(delV,'Break region for Si(mV)');\n",
"Eta=1;//for Germenium\n",
"delV=log(r1BYr2)*Eta*VT;\n",
"disp(delV,'Break region for Ge(mV)');\n",
"//Answer in the book is not accurate."
   ]
   }
,
{
		   "cell_type": "markdown",
		   "metadata": {},
		   "source": [
			"## Example 6.4: Peak_and_dc_load_current.sce"
		   ]
		  },
  {
"cell_type": "code",
	   "execution_count": null,
	   "metadata": {
	    "collapsed": true
	   },
	   "outputs": [],
"source": [
"//Example 6_4\n",
"clc;\n",
"clear;\n",
"close;\n",
"format('v',6);\n",
"//given data : \n",
"Rf=30;//ohm\n",
"RL=990;//ohm\n",
"Vrms=110;//V\n",
"//Part (a)\n",
"Vm=Vrms*sqrt(2);//V\n",
"Im=Vm/(Rf+RL)*1000;///mA\n",
"disp(Im,'(a) Peak Load Current(mA)');\n",
"//Part (b)\n",
"format('v',5);\n",
"Idc=Im/%pi;//mA\n",
"disp(Idc,'(b) The dc Load Current(mA)');\n",
"//Part (c)\n",
"Irms=Im/2;//mA\n",
"disp(Irms,'(c) The ac Load Current(mA)');\n",
"//Part (d)\n",
"format('v',4);\n",
"Vdc=-Im*RL/1000/%pi;//mA\n",
"disp(Vdc,'(d) The dc diode Voltage(mV)');\n",
"//Part (e)\n",
"format('v',5);\n",
"Pi=(Irms*10^-3)^2*(Rf+RL);//W\n",
"disp(Pi,'(e) Total Input Power(W)');\n",
"//Part (f)\n",
"format('v',6);\n",
"VNL=Vm/%pi;//V\n",
"VFL=Idc*RL/1000;//V\n",
"Reg=(VNL-VFL)/VFL*100;//%(Regulation)\n",
"disp(Reg,'(f) % Regulation(%)');\n",
"//Answer not accurate in the book & unit of answer for part(d) is wrong."
   ]
   }
,
{
		   "cell_type": "markdown",
		   "metadata": {},
		   "source": [
			"## Example 6.8: dc_load_current_and_power.sce"
		   ]
		  },
  {
"cell_type": "code",
	   "execution_count": null,
	   "metadata": {
	    "collapsed": true
	   },
	   "outputs": [],
"source": [
"//Example 6_8\n",
"clc;\n",
"clear;\n",
"close;\n",
"format('v',5);\n",
"//given data : \n",
"Rf=500;//ohm\n",
"RL=2000;//ohm\n",
"Vrms=280;//V\n",
"Vm=Vrms*sqrt(2);//V\n",
"//Part (a)\n",
"Idc=2*Vm/%pi/(Rf+RL);//A\n",
"Idc=Idc*1000;//mA\n",
"disp(Idc,'(a) The dc load current(mA) : ');\n",
"//Part (b)\n",
"Idc_tube=Idc/2;///mA\n",
"disp(Idc_tube,'(b) Direct current in each tube(mA) : ');\n",
"//Part (c)  \n",
"v2=Vm*Rf/(Rf+RL);//V\n",
"v1=-2*Vm+v2;//V\n",
"Vrms=sqrt(1/2/%pi*integrate('v2^2*(sin(alfa))^2','alfa',0,%pi)+1/2/%pi*integrate('v1^2*(sin(alfa))^2','alfa',%pi,2*%pi));//V\n",
"Vrms=floor(Vrms);///V\n",
"disp(Vrms,'(c) The ac voltage across each diode(V) : ');\n",
"//Part (d)\n",
"Pdc=(Idc/1000)^2*RL;//W\n",
"disp(Pdc,'(d) The dc output power(W) : ');\n",
"//Part(e)\n",
"Reg=Rf/RL*100;//%\n",
"disp(Reg,'(e) % Regulation : ');\n",
"//Answer in the textbook is not accurate."
   ]
   }
],
"metadata": {
		  "kernelspec": {
		   "display_name": "Scilab",
		   "language": "scilab",
		   "name": "scilab"
		  },
		  "language_info": {
		   "file_extension": ".sce",
		   "help_links": [
			{
			 "text": "MetaKernel Magics",
			 "url": "https://github.com/calysto/metakernel/blob/master/metakernel/magics/README.md"
			}
		   ],
		   "mimetype": "text/x-octave",
		   "name": "scilab",
		   "version": "0.7.1"
		  }
		 },
		 "nbformat": 4,
		 "nbformat_minor": 0
}
