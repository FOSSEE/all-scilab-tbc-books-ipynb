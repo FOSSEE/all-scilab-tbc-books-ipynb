{
"cells": [
 {
		   "cell_type": "markdown",
	   "metadata": {},
	   "source": [
       "# Chapter 4: Semiconductor Fundamentals"
	   ]
	},
{
		   "cell_type": "markdown",
		   "metadata": {},
		   "source": [
			"## Example 4.10: Position_of_fermi_level.sce"
		   ]
		  },
  {
"cell_type": "code",
	   "execution_count": null,
	   "metadata": {
	    "collapsed": true
	   },
	   "outputs": [],
"source": [
"//Example 4_10\n",
"clc;\n",
"clear;\n",
"close;\n",
"format('v',7)\n",
"//given data : \n",
"h=1.05*10^-34;//Js//Planks Constant\n",
"mc=0.067;//mo\n",
"mc=mc*0.91*10^-30;//kg\n",
"n0=10^18;//cm^-3\n",
"n0=n0*10^6;//m^-3\n",
"EF=(h^2/2/mc)*(3*%pi^2*n0)^(2/3);//J\n",
"EF=EF/(1.6*10^-19);//eV\n",
"disp(EF,'Position of fermi level(eV)');\n",
"//Answer given in the textbook is wrong"
   ]
   }
,
{
		   "cell_type": "markdown",
		   "metadata": {},
		   "source": [
			"## Example 4.11: Calculate_the_time.sce"
		   ]
		  },
  {
"cell_type": "code",
	   "execution_count": null,
	   "metadata": {
	    "collapsed": true
	   },
	   "outputs": [],
"source": [
"//Example 4_11\n",
"clc;\n",
"clear;\n",
"close;\n",
"format('v',6)\n",
"//given data : \n",
"h=1.05*10^-34;//Js//Planks Constant\n",
"e=1.6*10^-19;//C///Charge on electron\n",
"E0=10^4;//V/cm\n",
"a=5.62*10^-8;//cm//lattice constant for n-GaAs\n",
"kB=2*%pi/a;//cm^-1///Brillouin Edge\n",
"tau=h*kB/e/E0*10^12;//ps\n",
"disp(tau,'Time taken by electron to reach Brillouin Zone(ps)');\n",
"//Answer given in the textbook is wrong"
   ]
   }
,
{
		   "cell_type": "markdown",
		   "metadata": {},
		   "source": [
			"## Example 4.12: Calculate_the_drift_velocity.sce"
		   ]
		  },
  {
"cell_type": "code",
	   "execution_count": null,
	   "metadata": {
	    "collapsed": true
	   },
	   "outputs": [],
"source": [
"//Example 4_12\n",
"clc;\n",
"clear;\n",
"close;\n",
"format('e',9)\n",
"//given data : \n",
"h=1.05*10^-34;//Js//Planks Constant\n",
"e=1.6*10^-19;//C///Charge on electron\n",
"mc=0.067;//mo\n",
"mc=mc*0.91*10^-30;//kg\n",
"E0=1;//kV/cm\n",
"E0=E0*10^3/10^-2;//V/m\n",
"//Part (a)\n",
"tau_sc=10^-13;//s\n",
"v0=e*tau_sc*E0/mc;///m/s\n",
"v0=v0*100;//cm/s\n",
"disp(v0,'(a) Drift velocity(cm/s)');\n",
"//Part (b)\n",
"tau_sc=10^-12;//s\n",
"v0=e*tau_sc*E0/mc;///m/s\n",
"v0=v0*100;//cm/s\n",
"disp(v0,'(b) Drift velocity(cm/s)');\n",
"//Part (c)\n",
"tau_sc=10^-11;//s\n",
"v0=e*tau_sc*E0/mc;///m/s\n",
"v0=v0*100;//cm/s\n",
"disp(v0,'(c) Drift velocity(cm/s)');"
   ]
   }
,
{
		   "cell_type": "markdown",
		   "metadata": {},
		   "source": [
			"## Example 4.13: Conductivity_and_drift_velocity.sce"
		   ]
		  },
  {
"cell_type": "code",
	   "execution_count": null,
	   "metadata": {
	    "collapsed": true
	   },
	   "outputs": [],
"source": [
"//Example 4_13\n",
"clc;\n",
"clear;\n",
"close;\n",
"format('v',9)\n",
"//given data : \n",
"n0=7.87*10^28;//m^-3\n",
"mu=35.2;//cm^2/vs\n",
"E0=30*10^2;//V/m\n",
"h=1.05*10^-34;//Js//Planks Constant\n",
"e=1.6*10^-19;//C///Charge on electron\n",
"//Part (a)\n",
"sigma=n0*e*mu*10^-4;//s/m\n",
"disp(sigma,'(a) Conductivity(s/m)');\n",
"//Part (b)\n",
"V0=E0*mu*10^-4;//m/s\n",
"disp(V0,'(b) Drift velocity of electron(m/s)');\n",
"J=sigma*E0;//A/m^3\n",
"disp(J,'(b) Current density(A/m^3)')\n",
"//Answer given in the textbook is not accurate."
   ]
   }
,
{
		   "cell_type": "markdown",
		   "metadata": {},
		   "source": [
			"## Example 4.14: Calculate_the_drift_velocity.sce"
		   ]
		  },
  {
"cell_type": "code",
	   "execution_count": null,
	   "metadata": {
	    "collapsed": true
	   },
	   "outputs": [],
"source": [
"//Example 4_14\n",
"clc;\n",
"clear;\n",
"close;\n",
"format('e',9)\n",
"//given data : \n",
"A=10^-5;//m^2\n",
"I=100;//A\n",
"n0=8.5*10^28;//m^-3\n",
"e=1.6*10^-19;//C///Charge on electron\n",
"//Formula : I=no*A*vd*e\n",
"vd=I/n0/A/e;//ms^-1\n",
"disp(vd,'Drift Velocity(ms^-1)')"
   ]
   }
,
{
		   "cell_type": "markdown",
		   "metadata": {},
		   "source": [
			"## Example 4.15: Calculate_the_drift_velocity.sce"
		   ]
		  },
  {
"cell_type": "code",
	   "execution_count": null,
	   "metadata": {
	    "collapsed": true
	   },
	   "outputs": [],
"source": [
"//Example 4_15\n",
"clc;\n",
"clear;\n",
"close;\n",
"format('e',9)\n",
"//given data : \n",
"A=10^-5;//m^2\n",
"I=100;//A\n",
"n0=8.5*10^28;//m^-3\n",
"e=1.6*10^-19;//C///Charge on electron\n",
"//Formula : I=no*A*vd*e\n",
"vd=I/n0/A/e;//ms^-1\n",
"disp(vd,'Drift Velocity(ms^-1)')"
   ]
   }
,
{
		   "cell_type": "markdown",
		   "metadata": {},
		   "source": [
			"## Example 4.16: Calculate_the_drift_velocity.sce"
		   ]
		  },
  {
"cell_type": "code",
	   "execution_count": null,
	   "metadata": {
	    "collapsed": true
	   },
	   "outputs": [],
"source": [
"//Example 4_16\n",
"clc;\n",
"clear;\n",
"close;\n",
"format('v',7);\n",
"//given data : \n",
"V=1;//V\n",
"L=10;//m\n",
"tau=10^-14;//s\n",
"e=1.6*10^-19;//C///Charge on electron\n",
"m=0.02*9.1*10^-31;//kg//effective mass of electron\n",
"E0=V/L;//V/m\n",
"v0=e*E0*tau/m;//m/s\n",
"disp(v0,'Drift Velocity(ms^-1)')"
   ]
   }
,
{
		   "cell_type": "markdown",
		   "metadata": {},
		   "source": [
			"## Example 4.17: Equilibrium_hole_concentration.sce"
		   ]
		  },
  {
"cell_type": "code",
	   "execution_count": null,
	   "metadata": {
	    "collapsed": true
	   },
	   "outputs": [],
"source": [
"//Example 4_17\n",
"clc;\n",
"clear;\n",
"close;\n",
"format('e',9);\n",
"//given data : \n",
"Nd=10^17;//atoms/cm^3\n",
"ni=1.5*10^10;//atoms/cm^3\n",
"n0=Nd;//atoms/cm^3(For Nd>>ni)\n",
"p0=ni^2/n0;//atoms/cm^3\n",
"disp(p0,'Equilibrium hole concentration(cm^-3)')"
   ]
   }
,
{
		   "cell_type": "markdown",
		   "metadata": {},
		   "source": [
			"## Example 4.18: Calculate_the_time.sce"
		   ]
		  },
  {
"cell_type": "code",
	   "execution_count": null,
	   "metadata": {
	    "collapsed": true
	   },
	   "outputs": [],
"source": [
"//Example 4_18\n",
"clc;\n",
"clear;\n",
"close;\n",
"format('v',6);\n",
"//given data : \n",
"h=1.05*10^-34;//Js//Planks Constant\n",
"e=1.6*10^-19;//C///Charge on electron\n",
"E0=10^4;//V/cm\n",
"a=5.62*10^-8;//cm//lattice constant for n-GaAs\n",
"kB=2*%pi/a;//cm^-1///Brillouin Edge\n",
"tau=h*kB/e/E0*10^12;//ps\n",
"disp(tau,'Time taken by electron to reach Brillouin Zone(ps)');\n",
"//Answer given in the textbook is wrong"
   ]
   }
,
{
		   "cell_type": "markdown",
		   "metadata": {},
		   "source": [
			"## Example 4.19: Estimate_smallest_k_vector.sce"
		   ]
		  },
  {
"cell_type": "code",
	   "execution_count": null,
	   "metadata": {
	    "collapsed": true
	   },
	   "outputs": [],
"source": [
"//Example 4_19\n",
"clc;\n",
"clear;\n",
"close;\n",
"format('v',8);\n",
"//given data : \n",
"c=3*10^8;//m/s//Speed of light\n",
"h=1.05*10^-34;//Js//Planks Constant\n",
"mc=0.067;//mo\n",
"mc=mc*0.91*10^-30;//kg\n",
"E=0.3;//eV\n",
"E=E*1.6*10^-19;//J\n",
"//Formula//E=3*h^2*kx^2/2/mc\n",
"kx=sqrt(2*mc*E/3/h^2);//m^-1\n",
"disp(kx,'Smallest k-vector along x-direction(m^-1)');"
   ]
   }
,
{
		   "cell_type": "markdown",
		   "metadata": {},
		   "source": [
			"## Example 4.1: Value_of_wave_vector.sce"
		   ]
		  },
  {
"cell_type": "code",
	   "execution_count": null,
	   "metadata": {
	    "collapsed": true
	   },
	   "outputs": [],
"source": [
"//Example 4_1\n",
"clc;\n",
"clear;\n",
"close;\n",
"format('v',9)\n",
"//given data : \n",
"E=2;//eV\n",
"c=3*10^8;//m/s//Speed of light\n",
"h=6.64*10^-34;//Js//Planks Constant\n",
"E=E*1.6*10^-19;//J\n",
"lambda=c*h/E;//m\n",
"lambda=lambda/10^-10;//Angstrum\n",
"disp(lambda,'Wavelength(Angstrum)');\n",
"k=2*%pi/(lambda*10^-10);//m^-1\n",
"disp(k,'k-vector(m^-1)');"
   ]
   }
,
{
		   "cell_type": "markdown",
		   "metadata": {},
		   "source": [
			"## Example 4.20: Electron_and_hole_concentration.sce"
		   ]
		  },
  {
"cell_type": "code",
	   "execution_count": null,
	   "metadata": {
	    "collapsed": true
	   },
	   "outputs": [],
"source": [
"//Example 4_20\n",
"clc;\n",
"clear;\n",
"close;\n",
"format('e',9);\n",
"//given data : \n",
"ni=1.5*10^10;//cm^-3\n",
"mu_n=1350;//cm^2/V-s\n",
"mu_p=450;//cm^2/V-s\n",
"n0=ni*sqrt(mu_p/mu_n);//cm^-3\n",
"p0=ni*sqrt(mu_n/mu_p);//cm^-3\n",
"disp(n0,'Electron concentration(cm^-3)')\n",
"disp(p0,'Hole concentration(cm^-3)')"
   ]
   }
,
{
		   "cell_type": "markdown",
		   "metadata": {},
		   "source": [
			"## Example 4.21: Position_of_fermi_level.sce"
		   ]
		  },
  {
"cell_type": "code",
	   "execution_count": null,
	   "metadata": {
	    "collapsed": true
	   },
	   "outputs": [],
"source": [
"//Example 4_21\n",
"clc;\n",
"clear;\n",
"close;\n",
"format('v',7);\n",
"//given data : \n",
"h=1.05*10^-34;//Js//Planks Constant\n",
"n0=6.02*10^23;//atom/mole\n",
"n0=n0/72.6;//atom/gram\n",
"n0=n0*5.32;//atom/cm^3\n",
"ND=1/10^7*n0;//cm^-3\n",
"T=300;//K\n",
"//mc=1/2*mo\n",
"mcBYmo=1/2;\n",
"kBT=0.026;//eV//For T=300K\n",
"Nc=ND*(mcBYmo*T)^(3/2);//cm^-3\n",
"n0=ND;//cm^-3///Considering full ionization\n",
"EF=kBT*log(n0/Nc);//eV\n",
"disp(EF,'Position of fermi level(eV)')"
   ]
   }
,
{
		   "cell_type": "markdown",
		   "metadata": {},
		   "source": [
			"## Example 4.22: Mobility_of_free_electro.sce"
		   ]
		  },
  {
"cell_type": "code",
	   "execution_count": null,
	   "metadata": {
	    "collapsed": true
	   },
	   "outputs": [],
"source": [
"//Example 4_22\n",
"clc;\n",
"clear;\n",
"close;\n",
"format('e',8);\n",
"//given data : \n",
"e=1.6*10^-19;//C/electron\n",
"d=270;//g/cm^3\n",
"rho=3.44*10^-6;//ohm-cm\n",
"ne=3;//electrons/atom\n",
"me=26.97*1.66*10^-27\n",
"n0=d/100*ne*10^-3/me*10^6;//m^-3\n",
"mu=1/n0/e/rho*10^2;//V-sec\n",
"disp(mu,'Mobility of free electron(m^2/V-s)')"
   ]
   }
,
{
		   "cell_type": "markdown",
		   "metadata": {},
		   "source": [
			"## Example 4.23: Mobility_of_free_electro.sce"
		   ]
		  },
  {
"cell_type": "code",
	   "execution_count": null,
	   "metadata": {
	    "collapsed": true
	   },
	   "outputs": [],
"source": [
"//Example 4_23\n",
"clc;\n",
"clear;\n",
"close;\n",
"format('v',4);\n",
"//given data : \n",
"e=1.6*10^-19;//C/electron\n",
"Eg=1.21;//eV\n",
"ne=3;//electrons/atom\n",
"dniBYni=(1.5+Eg/0.052)*(1/ne/100)*100;//% per degree\n",
"disp(dniBYni,'100*dni/ni is ( % per degree)');"
   ]
   }
,
{
		   "cell_type": "markdown",
		   "metadata": {},
		   "source": [
			"## Example 4.24: Drift_velocity_mobility_and_conductivity.sce"
		   ]
		  },
  {
"cell_type": "code",
	   "execution_count": null,
	   "metadata": {
	    "collapsed": true
	   },
	   "outputs": [],
"source": [
"//Example 4_24\n",
"clc;\n",
"clear;\n",
"close;\n",
"format('e',9);\n",
"//given data : \n",
"d=1.03;//mm\n",
"R=6.51;//ohm per 1000 ft.\n",
"n0=8.4*10^27;//electrons/m^3\n",
"I=2;//A\n",
"A=%pi/4*d^2*10^-6;//m^2\n",
"J=I/A;//A/m^2\n",
"e=1.6*10^-19;//C/electron\n",
"v0=J/n0/e;//m/s\n",
"disp(v0,'(a) Drift Velocity(m/s)');\n",
"R=R/1000/0.304;//ohm/m\n",
"E0=I*R;//V/m\n",
"mu=v0/E0;//m^2/V-s\n",
"disp(mu,'(b) Mobility(m^2/V-s)');\n",
"sigma=n0*e*mu;//(ohm-m)^-1\n",
"disp(sigma,'(c) Conductivity((ohm-m)^-1)')\n",
"//Answer wrong in the book. calculation mistake."
   ]
   }
,
{
		   "cell_type": "markdown",
		   "metadata": {},
		   "source": [
			"## Example 4.25: Concentration_of_free_electron.sce"
		   ]
		  },
  {
"cell_type": "code",
	   "execution_count": null,
	   "metadata": {
	    "collapsed": true
	   },
	   "outputs": [],
"source": [
"//Example 4_25\n",
"clc;\n",
"clear;\n",
"close;\n",
"format('v',9);\n",
"//given data : \n",
"T=300;//K\n",
"//Part (a)\n",
"ND=2*10^14;//cm^-3//Donor\n",
"NA=3*10^14;//cm^-3//Acceptor\n",
"ni=2.5*10^19;//m^-3//Intrinsic\n",
"ni=ni/10^6;//m^-3\n",
"n0=-(NA-ND)/2+sqrt([((NA-ND)/2)^2+ni^2]);//cm^-3\n",
"p0=-(ND-NA)/2+sqrt([((ND-NA)/2)^2+ni^2]);//cm^-3\n",
"disp(n0,'n0 is(cm^-3)');\n",
"disp(p0,'p0 is(cm^-3)');\n",
"if p0>n0 then\n",
"    disp('(a) Since p0>n0, Sample is of p-type.');\n",
"end;\n",
"//Part (b)\n",
"format('v',4);\n",
"ND=10^15;//cm^-3\n",
"NA=10^15;//cm^-3\n",
"p0=poly(0,'p0');\n",
"n0=p0+ND-NA;//cm^-3\n",
"disp(n0,'(b) n0 is equal to ');\n",
"disp('It is Intrinsic Semiconductor')\n",
"//Part (c)\n",
"disp('Part(c) : ');\n",
"format('v',7);\n",
"ND=10^16;//cm^-3\n",
"NA=10^14;//cm^-3\n",
"n0=ND;//cm^-3(For NA<<ND)\n",
"p0=ni^2/ND;//cm^-3\n",
"disp(n0,'n0 is(cm^-3)');\n",
"format('v',9);\n",
"disp(p0,'p0 is(cm^-3)');\n",
"if p0<n0 then\n",
"    disp('(c) Since p0<n0, Sample is of n-type.');\n",
"end;"
   ]
   }
,
{
		   "cell_type": "markdown",
		   "metadata": {},
		   "source": [
			"## Example 4.26: Concentration_of_holes_and_electron.sce"
		   ]
		  },
  {
"cell_type": "code",
	   "execution_count": null,
	   "metadata": {
	    "collapsed": true
	   },
	   "outputs": [],
"source": [
"//Example 4_26\n",
"clc;\n",
"clear;\n",
"close;\n",
"format('e',9);\n",
"//given data : \n",
"T=300;//K\n",
"e=1.6*10^-19;//C/electron\n",
"disp('Part(a) :');\n",
"sigma=100;//(ohm-cm)^-1\n",
"ni=2.5*10^13;//cm^-3//For Ge\n",
"mu_p=1800;//cm^2/V-s//For Ge\n",
"//sigma=p0*e*mu_p, since p0>>n0\n",
"p0=sigma/e/mu_p;//cm^-3\n",
"n0=ni^2/p0*10^6;//m^-3\n",
"disp(p0,'Concentration of holes(cm^-3)');\n",
"disp(n0,'Concentration of electrones(m^-3)');\n",
"disp('Part(b) :');\n",
"sigma=0.1;//(ohm-cm)^-1\n",
"ni=1.5*10^10;//cm^-3//For Si\n",
"mu_n=1300;//cm^2/V-s//For Si\n",
"//sigma=n0*e*mu_p, since n0>>p0\n",
"n0=sigma/e/mu_n;//cm^-3\n",
"p0=ni^2/n0*10^6;//m^-3\n",
"disp(n0,'Concentration of electrones(cm^-3)');\n",
"disp(p0,'Concentration of holes(m^-3)');"
   ]
   }
,
{
		   "cell_type": "markdown",
		   "metadata": {},
		   "source": [
			"## Example 4.27: Resistivity_of_intrinsic_Ge.sce"
		   ]
		  },
  {
"cell_type": "code",
	   "execution_count": null,
	   "metadata": {
	    "collapsed": true
	   },
	   "outputs": [],
"source": [
"//Example 4_27\n",
"clc;\n",
"clear;\n",
"close;\n",
"format('v',5);\n",
"//data for intrinsic Ge\n",
"//n0=p0=ni;///for intrinsic\n",
"ni=2.5*10^13;//cm^-3\n",
"mu_n=3800;//cm^2/V-s\n",
"mu_p=1800;//cm^2/V-s\n",
"mu=mu_n+mu_p;//cm^2/V-s\n",
"e=1.6*10^-19;//C/electron\n",
"sigma=e*ni*(mu);//(s/cm)\n",
"rho=1/sigma;//ohm-cm\n",
"disp(rho,'Resistivity of intrinsic Ge(ohm-cm) : ');"
   ]
   }
,
{
		   "cell_type": "markdown",
		   "metadata": {},
		   "source": [
			"## Example 4.28: Conductivity_of_intrinsic_Ge.sce"
		   ]
		  },
  {
"cell_type": "code",
	   "execution_count": null,
	   "metadata": {
	    "collapsed": true
	   },
	   "outputs": [],
"source": [
"//Example 4_28\n",
"clc;\n",
"clear;\n",
"close;\n",
"format('v',8);\n",
"//data for intrinsic Ge\n",
"//n0=p0=ni;///for intrinsic\n",
"ni=2.5*10^13;//cm^-3\n",
"mu_n=3800;//cm^2/V-s\n",
"mu_p=1800;//cm^2/V-s\n",
"mu=mu_n+mu_p;//cm^2/V-s\n",
"e=1.6*10^-19;//C/electron\n",
"sigma=e*ni*(mu);//(s/cm)\n",
"disp(sigma,'(a) Conductivity of intrinsic Ge(s/cm) : ');\n",
"format('v',5);\n",
"n=4.41*10^22;//cm^-3//Concentration of Ge atom\n",
"ND=n/10^7;//cm^-3\n",
"n0=ND;//cm^-3\n",
"p0=ni^2/ND;//cm^-3\n",
"sigma=n0*e*mu_n;//s/cm(n0<<p0, n0 neglected)\n",
"disp(sigma,'(b) Conductivity(s/cm)');\n",
"NA=n/10^7;//cm^-3\n",
"p0=NA;//cm^-3\n",
"n0=ni^2/NA;//cm^-3\n",
"sigma=p0*e*mu_p;//s/cm(p0<<n0, p0 neglected)\n",
"disp(sigma,'(c) Conductivity(s/cm)');\n",
"\n",
""
   ]
   }
,
{
		   "cell_type": "markdown",
		   "metadata": {},
		   "source": [
			"## Example 4.2: Identify_the_semicnductor.sce"
		   ]
		  },
  {
"cell_type": "code",
	   "execution_count": null,
	   "metadata": {
	    "collapsed": true
	   },
	   "outputs": [],
"source": [
"//Example 4_2\n",
"clc;\n",
"clear;\n",
"close;\n",
"format('v',7)\n",
"//given data : \n",
"c=3*10^8;//m/s//Speed of light\n",
"h=1.05*10^-34;//Js//Planks Constant\n",
"lambda=0.5;//micro m///or less\n",
"lambda=lambda/10^6;//m\n",
"Eg=2*%pi*h*c/lambda;//J\n",
"Eg=Eg/(1.6*10^-19);//eV\n",
"disp(Eg,'Bandgap Eg(eV)');\n",
"disp('Semiconductors Guess: C, BN, GaN & SiC');"
   ]
   }
,
{
		   "cell_type": "markdown",
		   "metadata": {},
		   "source": [
			"## Example 4.3: Calculate_the_energy_of_electron.sce"
		   ]
		  },
  {
"cell_type": "code",
	   "execution_count": null,
	   "metadata": {
	    "collapsed": true
	   },
	   "outputs": [],
"source": [
"//Example 4_3\n",
"clc;\n",
"clear;\n",
"close;\n",
"format('v',4)\n",
"//given data : \n",
"c=3*10^8;//m/s//Speed of light\n",
"h=1.05*10^-34;//Js//Planks Constant\n",
"mc=0.1;//mo\n",
"mc=mc*0.91*10^-30;//kg\n",
"k=0.3;///per Angstrum\n",
"E=h^2*(k/10^-10)^2/2/mc;//J\n",
"E=E/(1.6*10^-19);//eV\n",
"disp(E,'Energy of the electron(eV)');"
   ]
   }
,
{
		   "cell_type": "markdown",
		   "metadata": {},
		   "source": [
			"## Example 4.4: Calculate_the_energy_of_electron.sce"
		   ]
		  },
  {
"cell_type": "code",
	   "execution_count": null,
	   "metadata": {
	    "collapsed": true
	   },
	   "outputs": [],
"source": [
"//Example 4_4\n",
"clc;\n",
"clear;\n",
"close;\n",
"format('v',6)\n",
"//given data : \n",
"c=3*10^8;//m/s//Speed of light\n",
"h=1.05*10^-34;//Js//Planks Constant\n",
"mc_GaAs=0.067;//mo\n",
"mc_InAs=0.01;//mo\n",
"k=0.01;///per Angstrum\n",
"mc_GaAs=mc_GaAs*0.91*10^-30;//kg\n",
"mc_InAs=mc_InAs*0.91*10^-30;//kg\n",
"E_GaAs=h^2*(3*k*10^10)^2/2/mc_GaAs;//J\n",
"E_GaAs=E_GaAs/(1.6*10^-19)*1000;//meV\n",
"disp(E_GaAs,'Energy of the electron in GaAs(meV)');\n",
"E_InAs=h^2*(3*k*10^10)^2/2/mc_InAs;//J\n",
"E_InAs=E_InAs/(1.6*10^-19)*1000;//meV\n",
"disp(E_InAs,'Energy of the electron in InAs(meV)');\n",
"//Answer given in the textbook is wrong."
   ]
   }
,
{
		   "cell_type": "markdown",
		   "metadata": {},
		   "source": [
			"## Example 4.5: Calculate_the_energy_of_electron.sce"
		   ]
		  },
  {
"cell_type": "code",
	   "execution_count": null,
	   "metadata": {
	    "collapsed": true
	   },
	   "outputs": [],
"source": [
"//Example 4_5\n",
"clc;\n",
"clear;\n",
"close;\n",
"format('v',6)\n",
"//given data : \n",
"c=3*10^8;//m/s//Speed of light\n",
"h=1.05*10^-34;//Js//Planks Constant\n",
"mc=0.067;//mo\n",
"k=[0.1 0.1 0 0];///per Angstrum\n",
"mc=mc*0.91*10^-30;//kg\n",
"E=h^2*((k(1)*10^10)^2+(k(2)*10^10)^2)/2/mc;//J\n",
"E=E/(1.6*10^-19);//eV\n",
"disp(E,'Energy of the electron in GaAs(eV)');\n",
"//Answer given in the textbook is wrong."
   ]
   }
,
{
		   "cell_type": "markdown",
		   "metadata": {},
		   "source": [
			"## Example 4.6: Estimate_smallest_k_vector.sce"
		   ]
		  },
  {
"cell_type": "code",
	   "execution_count": null,
	   "metadata": {
	    "collapsed": true
	   },
	   "outputs": [],
"source": [
"//Example 4_6\n",
"clc;\n",
"clear;\n",
"close;\n",
"format('v',8)\n",
"//given data : \n",
"c=3*10^8;//m/s//Speed of light\n",
"h=1.05*10^-34;//Js//Planks Constant\n",
"mc=0.067;//mo\n",
"mc=mc*0.91*10^-30;//kg\n",
"E=0.3;//eV\n",
"E=E*1.6*10^-19;//J\n",
"//Formula//E=3*h^2*kx^2/2/mc\n",
"kx=sqrt(2*mc*E/3/h^2);//m^-1\n",
"disp(kx,'Smallest k-vector along x-direction(m^-1)');"
   ]
   }
,
{
		   "cell_type": "markdown",
		   "metadata": {},
		   "source": [
			"## Example 4.7: Calculate_the_energy_of_electron.sce"
		   ]
		  },
  {
"cell_type": "code",
	   "execution_count": null,
	   "metadata": {
	    "collapsed": true
	   },
	   "outputs": [],
"source": [
"//Example 4_7\n",
"clc;\n",
"clear;\n",
"close;\n",
"format('v',6)\n",
"//given data : \n",
"c=3*10^8;//m/s//Speed of light\n",
"h=1.05*10^-34;//Js//Planks Constant\n",
"mc_GaAs=0.067;//mo\n",
"mc_InAs=0.01;//mo\n",
"k=[0.01 0.01 0.01];///per Angstrum\n",
"mc_GaAs=mc_GaAs*0.91*10^-30;//kg\n",
"mc_InAs=mc_InAs*0.91*10^-30;//kg\n",
"E_GaAs=h^2*(3*k(1)*10^10)^2/2/mc_GaAs;//J\n",
"E_GaAs=E_GaAs/(1.6*10^-19)*1000;//meV\n",
"disp(E_GaAs,'Energy of the electron in GaAs(meV)');\n",
"E_InAs=h^2*(3*k(1)*10^10)^2/2/mc_InAs;//J\n",
"E_InAs=E_InAs/(1.6*10^-19)*1000;//meV\n",
"disp(E_InAs,'Energy of the electron in InAs(meV)');\n",
"//Answer given in the textbook is wrong."
   ]
   }
,
{
		   "cell_type": "markdown",
		   "metadata": {},
		   "source": [
			"## Example 4.8: Position_of_fermi_level.sce"
		   ]
		  },
  {
"cell_type": "code",
	   "execution_count": null,
	   "metadata": {
	    "collapsed": true
	   },
	   "outputs": [],
"source": [
"//Example 4_8\n",
"clc;\n",
"clear;\n",
"close;\n",
"format('v',6)\n",
"//given data : \n",
"n0=6*10^17;//cm^-3\n",
"Nc=4.45*10^17;//cm^-3\n",
"kBT=0.026;//eV//at room temperature/T=300 K\n",
"EF=kBT*log(n0/Nc)*1000;//meV\n",
"disp(EF,'Position of fermi level(meV)');"
   ]
   }
,
{
		   "cell_type": "markdown",
		   "metadata": {},
		   "source": [
			"## Example 4.9: Position_of_fermi_level.sce"
		   ]
		  },
  {
"cell_type": "code",
	   "execution_count": null,
	   "metadata": {
	    "collapsed": true
	   },
	   "outputs": [],
"source": [
"//Example 4_9\n",
"clc;\n",
"clear;\n",
"close;\n",
"format('v',6)\n",
"//given data : \n",
"//me=2*mh\n",
"meBYmh=2;//ratio\n",
"T=300;//K\n",
"kT=0.026;//eV//at room temperature/T=300 K\n",
"//EF=3/4*kT*log(1/meBYmh)-EG/2\n",
"//position of fermi level below centre of forbidden gap\n",
"EF=-3/4*kT*log(1/meBYmh);//eV\n",
"disp(EF,'Position of fermi level below centre of forbidden gap by (eV) : ');"
   ]
   }
],
"metadata": {
		  "kernelspec": {
		   "display_name": "Scilab",
		   "language": "scilab",
		   "name": "scilab"
		  },
		  "language_info": {
		   "file_extension": ".sce",
		   "help_links": [
			{
			 "text": "MetaKernel Magics",
			 "url": "https://github.com/calysto/metakernel/blob/master/metakernel/magics/README.md"
			}
		   ],
		   "mimetype": "text/x-octave",
		   "name": "scilab",
		   "version": "0.7.1"
		  }
		 },
		 "nbformat": 4,
		 "nbformat_minor": 0
}
