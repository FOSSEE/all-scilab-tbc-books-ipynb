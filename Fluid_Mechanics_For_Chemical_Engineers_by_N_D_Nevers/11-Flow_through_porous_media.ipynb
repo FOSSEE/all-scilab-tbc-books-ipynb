{
"cells": [
 {
		   "cell_type": "markdown",
	   "metadata": {},
	   "source": [
       "# Chapter 11: Flow through porous media"
	   ]
	},
{
		   "cell_type": "markdown",
		   "metadata": {},
		   "source": [
			"## Example 11.1: volumetric_flow_rate.sce"
		   ]
		  },
  {
"cell_type": "code",
	   "execution_count": null,
	   "metadata": {
	    "collapsed": true
	   },
	   "outputs": [],
"source": [
"clc\n",
"//Example 11.1\n",
"//Calculate the volumetric flow rate\n",
"g=32.2//ft/s^2\n",
"dz=1.25//ft\n",
"Dp=0.03//in (Diameter of particle)\n",
"eta=0.33//dimentionless\n",
"rho=62.3//lbm/ft^3\n",
"mew=1.002//cP\n",
"dx=1//ft\n",
"//1 cP.ft.s = 6.72*10^(-4)//lbm\n",
"//1 ft = 12 in\n",
"Vs=g*dz*(Dp/12)^2*eta^3*rho/(150*mew*(1-eta)^2*dx*6.72*10^(-4))//ft/s\n",
"printf('The velocity of water is %f ft/s\n',Vs);\n",
"d=2//in (diameter of pipe)\n",
"A=(%pi)/4*(d/12)^2//ft^2\n",
"Q=Vs*A//ft^3/s\n",
"printf('The volumetric flow rate is %f ft^3/s\n',Q);\n",
"R=(Dp/12)*Vs*rho/(mew*6.72*10^(-4)*(1-eta))//dimentionless (Reynold's number)\n",
"printf('Reynolds number is %f',R);"
   ]
   }
,
{
		   "cell_type": "markdown",
		   "metadata": {},
		   "source": [
			"## Example 11.2: Pressure_gradient.sce"
		   ]
		  },
  {
"cell_type": "code",
	   "execution_count": null,
	   "metadata": {
	    "collapsed": true
	   },
	   "outputs": [],
"source": [
"clc\n",
"//Example 11.2\n",
"//Calculate the pressure gradient\n",
"Vs=2//ft/s\n",
"dp=0.03//in (diameter of particle)\n",
"rho=62.3//lbm/ft^3\n",
"eta=0.33//dimentionless\n",
"//let DP denote pressure gradient\n",
"//1 ft = 12 in\n",
"//1 lbf.s^2 = 32.2lbm.ft\n",
"DP=1.75*rho*Vs^2*(1-eta)/((dp/12)*eta^3*32.2*144)//psi/ft\n",
"printf('The pressure gradient is %f psi/ft',DP);"
   ]
   }
,
{
		   "cell_type": "markdown",
		   "metadata": {},
		   "source": [
			"## Example 11.3: Permeability.sce"
		   ]
		  },
  {
"cell_type": "code",
	   "execution_count": null,
	   "metadata": {
	    "collapsed": true
	   },
	   "outputs": [],
"source": [
"clc\n",
"//Example 11.3\n",
"//Calculate the permeability\n",
"Q=1//ft^3/min\n",
"mew=0.018//cP\n",
"dx=0.5//in\n",
"A=1//ft^2\n",
"dP=2//lbf/in^2\n",
"//1 ft = 12 in\n",
"//1 min = 60 sec\n",
"//1 ft^2.cP = 2.09*10^(-5) lbf.s\n",
"//1 darcy = 1.06*10^(-11) ft^2\n",
"k=(Q*mew*(dx/12)/A/dP)*(1/144)*2.09*10^(-5)*(1/60)*(1/(1.06*10^(-11)))//darcy\n",
"printf('The permeability is %f darcy',k);"
   ]
   }
],
"metadata": {
		  "kernelspec": {
		   "display_name": "Scilab",
		   "language": "scilab",
		   "name": "scilab"
		  },
		  "language_info": {
		   "file_extension": ".sce",
		   "help_links": [
			{
			 "text": "MetaKernel Magics",
			 "url": "https://github.com/calysto/metakernel/blob/master/metakernel/magics/README.md"
			}
		   ],
		   "mimetype": "text/x-octave",
		   "name": "scilab",
		   "version": "0.7.1"
		  }
		 },
		 "nbformat": 4,
		 "nbformat_minor": 0
}
