{
"cells": [
 {
		   "cell_type": "markdown",
	   "metadata": {},
	   "source": [
       "# Chapter 2: Fluid statics"
	   ]
	},
{
		   "cell_type": "markdown",
		   "metadata": {},
		   "source": [
			"## Example 2.10: Thickness.sce"
		   ]
		  },
  {
"cell_type": "code",
	   "execution_count": null,
	   "metadata": {
	    "collapsed": true
	   },
	   "outputs": [],
"source": [
"clc\n",
"//calc thickness of a storage tank\n",
"p_working=250;//lbf/in^2\n",
"//diameter of the cylinder = 10ft = 120in\n",
"d=120;//in\n",
"sigma_tensile=20000;//lbf/in^2\n",
"t=p_working*d/sigma_tensile/2;//in\n",
"disp('Thichness of the storage tank is')\n",
"disp(t)\n",
"disp('in')"
   ]
   }
,
{
		   "cell_type": "markdown",
		   "metadata": {},
		   "source": [
			"## Example 2.11: Payload.sce"
		   ]
		  },
  {
"cell_type": "code",
	   "execution_count": null,
	   "metadata": {
	    "collapsed": true
	   },
	   "outputs": [],
"source": [
"clc\n",
"//calc payload of a helium balloon\n",
"p_atm=1;//atm\n",
"T=293;//K\n",
"d=3;//m (diameter of the balloon)\n",
"//buoyant force=(density of air)*g*(volume of balloon)\n",
"//weight of balloon = (density of helium)*g*(volume of balloon)\n",
"//density for gases = PM/RT\n",
"//payload of balloon = buoyant force - weight\n",
"V_balloon=(%pi)*d^3/6;//m^3\n",
"R=8.2*10^(-2);//m^3.atm/mol/K\n",
"M_air=29;//Kg/Kmol\n",
"M_he=4;//Kg/Kmol\n",
"g=9.81;//m/s^2\n",
"payload=(V_balloon)*g*p_atm*(M_air-M_he)/R/T;//N\n",
"disp('Payload of the balloon is')\n",
"disp(payload)\n",
"disp('N')"
   ]
   }
,
{
		   "cell_type": "markdown",
		   "metadata": {},
		   "source": [
			"## Example 2.12: Fraction_of_block_inside_water.sce"
		   ]
		  },
  {
"cell_type": "code",
	   "execution_count": null,
	   "metadata": {
	    "collapsed": true
	   },
	   "outputs": [],
"source": [
"clc\n",
"//wooden block floating in two phase mix of water and gasoline\n",
"//calc fraction of block in water\n",
"SG_wood=0.96;//Specific gravity\n",
"SG_gasoline=0.72;\n",
"//Let r be the ratio - V_water/V_wood\n",
"r=(SG_wood-SG_gasoline)/(1-SG_gasoline);\n",
"disp('Fraction of wood in water')\n",
"disp(r)"
   ]
   }
,
{
		   "cell_type": "markdown",
		   "metadata": {},
		   "source": [
			"## Example 2.13: Gauge_pressure.sce"
		   ]
		  },
  {
"cell_type": "code",
	   "execution_count": null,
	   "metadata": {
	    "collapsed": true
	   },
	   "outputs": [],
"source": [
"clc\n",
"//calc gauge pressure of cylinder in a manometer\n",
"//height of water above pt.C = 2.5ft\n",
"rho_water=62.3;//lbm/ft^3;\n",
"h1=2.5;//ft\n",
"rho_gas=0.1;//lbm/ft^3\n",
"h2=0.5;//ft (height of gas)\n",
"g=32.2;//ft/s^2\n",
"gauge_pressure=[(rho_water)*g*h1+(rho_gas)*g*h2]/144/32.2;//lbf/in^2\n",
"disp('Gauge pressure is')\n",
"disp(gauge_pressure)\n",
"disp('lbf/in^2')"
   ]
   }
,
{
		   "cell_type": "markdown",
		   "metadata": {},
		   "source": [
			"## Example 2.14: Pressure_difference.sce"
		   ]
		  },
  {
"cell_type": "code",
	   "execution_count": null,
	   "metadata": {
	    "collapsed": true
	   },
	   "outputs": [],
"source": [
"clc\n",
"//calc pressure diff between two tanks in a two liquid manometer\n",
"rho_water=62.3;//lbm/ft^3\n",
"SG_oil=1.1;\n",
"rho_oil=SG_oil*(rho_water);\n",
"g=32.2;//ft/s^2\n",
"h1_1=1;//ft\n",
"h1_2=2;//ft\n",
"h2_1=2;//ft\n",
"h2_2=1;//ft\n",
"p_diff=[(rho_water)*g*(h1_1-h1_2)+(rho_oil)*g*(h2_1-h2_2)]/32.2/144;//lbf/in^2\n",
"disp('The pressure difference is')\n",
"disp(p_diff)\n",
"disp('lbf/in^2')"
   ]
   }
,
{
		   "cell_type": "markdown",
		   "metadata": {},
		   "source": [
			"## Example 2.15: Gauge_pressure.sce"
		   ]
		  },
  {
"cell_type": "code",
	   "execution_count": null,
	   "metadata": {
	    "collapsed": true
	   },
	   "outputs": [],
"source": [
"clc\n",
"//calc pressure of gauge through a spring piston system\n",
"k=10000;//N/m (spring constant)\n",
"x=0.025;//m (displacement in spring)\n",
"A=0.01;//m^2 (area of piston)\n",
"gauge_pressure=k*x/A/1000;//KPa\n",
"disp('The gauge pressure is')\n",
"disp(gauge_pressure)\n",
"disp('KPa')"
   ]
   }
,
{
		   "cell_type": "markdown",
		   "metadata": {},
		   "source": [
			"## Example 2.16: Pressure_difference.sce"
		   ]
		  },
  {
"cell_type": "code",
	   "execution_count": null,
	   "metadata": {
	    "collapsed": true
	   },
	   "outputs": [],
"source": [
"clc\n",
"//calc pressure diff at the mouth of the fire place\n",
"g=32.2;//ft/s^2\n",
"h=20;//ft (height of fireplace)\n",
"rho_air=0.075;//lbm/ft^3\n",
"T_air=293;//K (surrounding temperature)\n",
"T_fluegas=422;//K\n",
"p_diff=g*h*(rho_air)*[1-(T_air/T_fluegas)]/32.2/144;//lbf/in^2\n",
"disp('The pressure difference is')\n",
"disp(p_diff)\n",
"disp('lbf/in^2')"
   ]
   }
,
{
		   "cell_type": "markdown",
		   "metadata": {},
		   "source": [
			"## Example 2.17: Gauge_pressure.sce"
		   ]
		  },
  {
"cell_type": "code",
	   "execution_count": null,
	   "metadata": {
	    "collapsed": true
	   },
	   "outputs": [],
"source": [
"clc\n",
"rho_water=1000;//Kg/m^3\n",
"g=9.81;//m/s^2\n",
"h=5;//m (depth of water)\n",
"//for elevator not accelerated\n",
"p_gauge=(rho_water)*g*h/1000;//KPa\n",
"disp('THe gauge pressure is')\n",
"disp(p_gauge)\n",
"disp('KPa')\n",
"//for elevator accelerated at 5m/s^2 in upward direction\n",
"a=5;//m/s^2\n",
"p_gauge=(rho_water)*(g+a)*h/1000;//KPa\n",
"disp('THe gauge pressure is')\n",
"disp(p_gauge)\n",
"disp('KPa')\n",
"//for elevator accelerated at 5m/s^2 in downward direction\n",
"a=5;//m/s^2\n",
"p_gauge=(rho_water)*(g-a)*h/1000;//KPa\n",
"disp('THe gauge pressure is')\n",
"disp(p_gauge)\n",
"disp('KPa')"
   ]
   }
,
{
		   "cell_type": "markdown",
		   "metadata": {},
		   "source": [
			"## Example 2.18: Angle.sce"
		   ]
		  },
  {
"cell_type": "code",
	   "execution_count": null,
	   "metadata": {
	    "collapsed": true
	   },
	   "outputs": [],
"source": [
"clc\n",
"//angle free surface makes with the horizontal in an accelerated body\n",
"a=1;//ft/s^2\n",
"g=32.2;//ft/s^2\n",
"theta=atan(a/g);//radians\n",
"theta=theta*180/%pi;//degrees\n",
"disp('The angle made by free surface with the horizontal is')\n",
"disp(theta)\n",
"disp('degrees')"
   ]
   }
,
{
		   "cell_type": "markdown",
		   "metadata": {},
		   "source": [
			"## Example 2.19: Height_of_liquid.sce"
		   ]
		  },
  {
"cell_type": "code",
	   "execution_count": null,
	   "metadata": {
	    "collapsed": true
	   },
	   "outputs": [],
"source": [
"clc\n",
"//calc the height to which liq in a cylinder rises when rotated\n",
"f=78/60;//rps\n",
"r=0.15;//m\n",
"g=9.81;//m/s^2\n",
"//omega=2*(%pi)*f\n",
"z=[(2*(%pi)*f)^2]*r^2/2/g;//m\n",
"disp('The liquid in the cylinder rises to a height of')\n",
"disp(z)\n",
"disp('m')"
   ]
   }
,
{
		   "cell_type": "markdown",
		   "metadata": {},
		   "source": [
			"## Example 2.1: Specific_weight.sce"
		   ]
		  },
  {
"cell_type": "code",
	   "execution_count": null,
	   "metadata": {
	    "collapsed": true
	   },
	   "outputs": [],
"source": [
"clc\n",
"g=32.2;//ft/s^2\n",
"rho_water=62.3;//lbm/ft^3\n",
"//specific weoight=(density)*(acceleration due to gravity)\n",
"specific_wt=rho_water*g;//lbm.ft/ft^3.s^2\n",
"//1 lbf=32.2 lbm.ft/s^2\n",
"specific_wt=specific_wt/32.2;//lbf/ft^3\n",
"disp('Specific weight of water is')\n",
"disp(specific_wt)\n",
"disp('lbf/ft^3')"
   ]
   }
,
{
		   "cell_type": "markdown",
		   "metadata": {},
		   "source": [
			"## Example 2.20: Thickness.sce"
		   ]
		  },
  {
"cell_type": "code",
	   "execution_count": null,
	   "metadata": {
	    "collapsed": true
	   },
	   "outputs": [],
"source": [
"clc\n",
"//calc thickness of liquid strip at the bottom of the industrial centrifuge\n",
"//Let difference between heights at bottom and top be d\n",
"d=20;//in\n",
"r_a=14;//in\n",
"f=1000/60;//rps\n",
"g=32.2;//ft/s^2\n",
"r_b=[(r_a)^2-2*(d)*g*12/(2*(%pi)*f)^2]^0.5;//in\n",
"disp('The thickness of water strip at bottom of industrial centrifuge')\n",
"disp(r_b)\n",
"disp('in')"
   ]
   }
,
{
		   "cell_type": "markdown",
		   "metadata": {},
		   "source": [
			"## Example 2.2: Pressure_at_depth.sce"
		   ]
		  },
  {
"cell_type": "code",
	   "execution_count": null,
	   "metadata": {
	    "collapsed": true
	   },
	   "outputs": [],
"source": [
"clc\n",
"//calc pressure at depth of 304.9m\n",
"d=304.9;//m\n",
"rho_water=1024;//Kg/m^3\n",
"g=9.81;//m/s^2\n",
"p_atm=101.3;//KPa\n",
"//gauge pressure=(desity)*(acc. due to gravity)*(depth)\n",
"p_depth=p_atm+rho_water*g*d/1000;//KPa\n",
"disp('pressure at the depth is')\n",
"disp(p_depth)\n",
"disp('KPa')"
   ]
   }
,
{
		   "cell_type": "markdown",
		   "metadata": {},
		   "source": [
			"## Example 2.3: Gauge_pressure.sce"
		   ]
		  },
  {
"cell_type": "code",
	   "execution_count": null,
	   "metadata": {
	    "collapsed": true
	   },
	   "outputs": [],
"source": [
"clc\n",
"//gauge pressure=(density)*(acc. due to gravity)*(depth)\n",
"rho_oil=55;//lbm/ft^3\n",
"g=32.2;//ft/s^2\n",
"d=60;//ft (depth of oil cylinder)\n",
"gauge_pressure=rho_oil*g*d/32.2;//lbf/ft^2\n",
"disp('Gauge pressure is')\n",
"disp(gauge_pressure)\n",
"disp('lbf/ft^2')\n",
"//1 ft=12 in\n",
"gauge_pressure=gauge_pressure/144;//lbf/in^2\n",
"disp('Gauge pressure is')\n",
"disp(gauge_pressure)\n",
"disp('lbf/in^2')"
   ]
   }
,
{
		   "cell_type": "markdown",
		   "metadata": {},
		   "source": [
			"## Example 2.4: Density_of_air.sce"
		   ]
		  },
  {
"cell_type": "code",
	   "execution_count": null,
	   "metadata": {
	    "collapsed": true
	   },
	   "outputs": [],
"source": [
"clc\n",
"//calc of density of air at a certain height\n",
"p_atm=14.7;//psia\n",
"T=289;//K\n",
"//P2=P1*exp^(-(acc. due to gravity)*(mass of air)*(height)/(universal gas const.)/(temp.))\n",
"g=9.81;//m/s^2\n",
"R=8314;//N.m^2/Kmol/K\n",
"//for height of 1000 ft=304.8m\n",
"h=304.8;//m\n",
"p_1000=14.7*exp(-g*29*h/R/289);\n",
"disp('pressure at 1000ft is')\n",
"disp(p_1000)\n",
"disp('psia')\n",
"//for height of 10000 ft=3048m\n",
"h=3048;//m\n",
"p_10000=p_atm*exp(-g*29*h/R/289);\n",
"disp('pressure at 10000ft is')\n",
"disp(p_10000)\n",
"disp('psia')\n",
"//for height of 100000 ft=30480m\n",
"h=30480;//m\n",
"p_100000=14.7*exp(-g*29*h/R/289);\n",
"disp('pressure at 100000ft is')\n",
"disp(p_100000)\n",
"disp('psia')"
   ]
   }
,
{
		   "cell_type": "markdown",
		   "metadata": {},
		   "source": [
			"## Example 2.5: Pressure_at_height.sce"
		   ]
		  },
  {
"cell_type": "code",
	   "execution_count": null,
	   "metadata": {
	    "collapsed": true
	   },
	   "outputs": [],
"source": [
"clc\n",
"//calc pressuer at different heights considering on density change in air\n",
"p_atm=14.7;//psia\n",
"g=9.81;//m/s^2\n",
"//P2=P1*[1-(acc. due to gravity)*(mass of air)*(height)/(univ. gas const.)/(temp.)]\n",
"T=289;//K\n",
"R=8314//N.m^2/Kmol/K\n",
"//for height of 1000ft=304.8m\n",
"h=304.8//m\n",
"p_1000=p_atm*[1-g*29*h/R/T];\n",
"disp('pressure at 1000ft is')\n",
"disp(p_1000)\n",
"disp('psia')\n",
"//for height of 10000ft=3048m\n",
"h=3048//m\n",
"p_10000=p_atm*[1-g*29*h/R/T];\n",
"disp('pressure at 10000ft is')\n",
"disp(p_10000)\n",
"disp('psia')\n",
"//for height of 100000ft=30480m\n",
"h=30480//m\n",
"p_100000=p_atm*[1-g*29*h/R/T];\n",
"disp('pressure at 100000ft is')\n",
"disp(p_100000)\n",
"disp('psia')\n",
"//NOTE that the pressure comes out to be negative at 100000ft justifying that density of air changes with altitude"
   ]
   }
,
{
		   "cell_type": "markdown",
		   "metadata": {},
		   "source": [
			"## Example 2.6: Pressure.sce"
		   ]
		  },
  {
"cell_type": "code",
	   "execution_count": null,
	   "metadata": {
	    "collapsed": true
	   },
	   "outputs": [],
"source": [
"clc\n",
"//calc atm pressure on a storage tank roof\n",
"p_atm=14.7;//psia\n",
"//diameter of roof is 120ft\n",
"d_roof=120;//ft\n",
"//force=(pressure)*(area)\n",
"f_roof=p_atm*(%pi)*d_roof^2/4*144;//lbf ;144 because 1ft=12inch\n",
"disp('Force exerted by atmosphere on the roof is')\n",
"disp(f_roof)\n",
"disp('lbf')"
   ]
   }
,
{
		   "cell_type": "markdown",
		   "metadata": {},
		   "source": [
			"## Example 2.7: Pressure.sce"
		   ]
		  },
  {
"cell_type": "code",
	   "execution_count": null,
	   "metadata": {
	    "collapsed": true
	   },
	   "outputs": [],
"source": [
"clc\n",
"//calc atm pressure on a storage tank roof\n",
"p_atm=14.7;//psia\n",
"//diameter of roof is 120ft\n",
"d_roof=120;//ft\n",
"//force=(atm. pressure + gauge pressure)*(area)\n",
"//gauge pressure=(desity)*(acc. due to gravity)*(depth)\n",
"rho_water=62.3//lbm/ft^3\n",
"g=32.2;//ft/s^2\n",
"//depth of water on roof=8 inch=o.667 ft\n",
"h=0.667;//ft\n",
"gauge_pressure=rho_water*g*h/32.2*(%pi)*d_roof^2/4;//lbf\n",
"disp(gauge_pressure)"
   ]
   }
,
{
		   "cell_type": "markdown",
		   "metadata": {},
		   "source": [
			"## Example 2.8: Force.sce"
		   ]
		  },
  {
"cell_type": "code",
	   "execution_count": null,
	   "metadata": {
	    "collapsed": true
	   },
	   "outputs": [],
"source": [
"clc\n",
"//calc the total force on a lock gate\n",
"//lock gate has water on one side and air on the other at atm. pressure\n",
"w=20;//m (width of the lock gate)\n",
"h=10;//m (height of the lock gate)\n",
"p_atm=1;//atm\n",
"rho_water=1000;//Kg/m^3\n",
"g=9.81//m/s^2\n",
"//for a small strip of dx height at the depth of x on the lock gate\n",
"//net pressure on strip = (p_atm+(rho_water)*g*x) - p_atm\n",
"//thus, net pressure on strip = (rho_water)*g*x\n",
"//force on strip = (rho_water*g*x)*w.dx = (rho_water)*g*w*(x.dx)\n",
"//force on lock gate = integration of force on strip fromm h=0 to h=10\n",
"//integration(x.dx) = x^2/2\n",
"//for h=0 to h=10; integration (x.dx) = h^2/2\n",
"force_lockgate=(rho_water)*g*w*h^2/2;\n",
"disp('The net force on the lock gate is')\n",
"disp(force_lockgate/10^6)\n",
"disp('MN')"
   ]
   }
,
{
		   "cell_type": "markdown",
		   "metadata": {},
		   "source": [
			"## Example 2.9: Thickness.sce"
		   ]
		  },
  {
"cell_type": "code",
	   "execution_count": null,
	   "metadata": {
	    "collapsed": true
	   },
	   "outputs": [],
"source": [
"clc\n",
"//calc thickness of an oil storage\n",
"sigma_tensile=20000;//lbf/in^2 (tensile stress is normally 1/4 rupture stress)\n",
"//max pressure is observed at the bottom of the storage\n",
"p_max=22.9;//lbf/in^2\n",
"//diameter of storaeg tank = 120ft =1440in\n",
"d=1440;//in\n",
"t=(p_max)*d/sigma_tensile/2;//in\n",
"disp('Thichness of the storage tank is')\n",
"disp(t)\n",
"disp('in')"
   ]
   }
],
"metadata": {
		  "kernelspec": {
		   "display_name": "Scilab",
		   "language": "scilab",
		   "name": "scilab"
		  },
		  "language_info": {
		   "file_extension": ".sce",
		   "help_links": [
			{
			 "text": "MetaKernel Magics",
			 "url": "https://github.com/calysto/metakernel/blob/master/metakernel/magics/README.md"
			}
		   ],
		   "mimetype": "text/x-octave",
		   "name": "scilab",
		   "version": "0.7.1"
		  }
		 },
		 "nbformat": 4,
		 "nbformat_minor": 0
}
