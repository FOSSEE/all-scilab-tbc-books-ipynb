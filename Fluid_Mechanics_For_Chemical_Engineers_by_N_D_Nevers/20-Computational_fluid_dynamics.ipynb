{
"cells": [
 {
		   "cell_type": "markdown",
	   "metadata": {},
	   "source": [
       "# Chapter 20: Computational fluid dynamics"
	   ]
	},
{
		   "cell_type": "markdown",
		   "metadata": {},
		   "source": [
			"## Example 20.1: fist_and_second_derivative_of_fluid_flow.sce"
		   ]
		  },
  {
"cell_type": "code",
	   "execution_count": null,
	   "metadata": {
	    "collapsed": true
	   },
	   "outputs": [],
"source": [
"clc\n",
"//Example 20.1\n",
"//Calculate first derivative and second derivative of the fluid flow\n",
"y_fd2=0.4336//m\n",
"y_fd1=0.4375//m\n",
"delta_yfd=y_fd2-y_fd1//m\n",
"x_fd2=0.75//m\n",
"x=0.5//m\n",
"delta_xfd=x_fd2-x//m\n",
"y_bd2=0.4375//m\n",
"y_bd1=0.2461//m\n",
"delta_ybd=y_bd2-y_bd1//m\n",
"x_bd1=0.25//m\n",
"delta_xbd=x-x_bd1//m\n",
"//Let D denote d/dx and D2 denote d^2/dx^2\n",
"Dy_fd=delta_yfd/delta_xfd//dimentionless\n",
"Dy_bd=delta_ybd/delta_xbd//dimentionless\n",
"Dy=(Dy_fd+Dy_bd)/2//dimentionless\n",
"printf('The first derivative of fluid flow is %f\n',Dy);\n",
"D2y=(Dy_fd-Dy_bd)/delta_xfd//dimentionless\n",
"printf('The second derivative of fluid flow is %f',D2y);"
   ]
   }
,
{
		   "cell_type": "markdown",
		   "metadata": {},
		   "source": [
			"## Example 20.3: Grid_velocities.sce"
		   ]
		  },
  {
"cell_type": "code",
	   "execution_count": null,
	   "metadata": {
	    "collapsed": true
	   },
	   "outputs": [],
"source": [
"clc\n",
"//Example 20.3\n",
"//Calculate the grid velocities\n",
"v=1.077*10^(-5)//ft^2/s\n",
"t=2//sec\n",
"dy=0.01//ft\n",
"w=v*t/dy^2//dimentionless\n",
"//Let Vij represent velocity through the i,j grid\n",
"V00=5//ft/s\n",
"V10=5//ft/s\n",
"V01=0//ft/s\n",
"V02=0//ft/s\n",
"V12=0//ft/s\n",
"V11=V01+w*(V00-2*V01+V02)//ft/s\n",
"V21=V11+w*(V10-2*V11+V12)//ft/s\n",
"printf('The grid velocity for 2,1 is %f ft/s\n',V21);\n",
"V13=0//ft/s\n",
"V22=V12+w*(V11-2*V12+V13)//ft/s\n",
"printf('The grid velocity for 2,2 is %f ft/s\n',V22);"
   ]
   }
],
"metadata": {
		  "kernelspec": {
		   "display_name": "Scilab",
		   "language": "scilab",
		   "name": "scilab"
		  },
		  "language_info": {
		   "file_extension": ".sce",
		   "help_links": [
			{
			 "text": "MetaKernel Magics",
			 "url": "https://github.com/calysto/metakernel/blob/master/metakernel/magics/README.md"
			}
		   ],
		   "mimetype": "text/x-octave",
		   "name": "scilab",
		   "version": "0.7.1"
		  }
		 },
		 "nbformat": 4,
		 "nbformat_minor": 0
}
