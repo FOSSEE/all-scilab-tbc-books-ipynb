{
"cells": [
 {
		   "cell_type": "markdown",
	   "metadata": {},
	   "source": [
       "# Chapter 1: Introduction"
	   ]
	},
{
		   "cell_type": "markdown",
		   "metadata": {},
		   "source": [
			"## Example 1.1: Mass.sce"
		   ]
		  },
  {
"cell_type": "code",
	   "execution_count": null,
	   "metadata": {
	    "collapsed": true
	   },
	   "outputs": [],
"source": [
"clc\n",
"//let the total mass of mud be 100lbm\n",
"m_total=100;//lbm\n",
"//70% by wt of mud is sand(SiO2)and remaining is water\n",
"m_sand=0.7*m_total;//lbm\n",
"m_water=0.3*m_total;//lbm\n",
"rho_sand=165;//lbm/ft^3\n",
"rho_water=62.5;//lbm/ft^3\n",
"//rho=mass/volume\n",
"rho_mud=m_total/((m_sand/rho_sand)+(m_water/rho_water));\n",
"disp('The density of mud=')\n",
"disp(rho_mud)\n",
"disp('lbm/ft^3')"
   ]
   }
,
{
		   "cell_type": "markdown",
		   "metadata": {},
		   "source": [
			"## Example 1.2: Shear_stress.sce"
		   ]
		  },
  {
"cell_type": "code",
	   "execution_count": null,
	   "metadata": {
	    "collapsed": true
	   },
	   "outputs": [],
"source": [
"clc\n",
"//Example 1.2\n",
"//Calculate the shear stress at the surface of the inner cylinder\n",
"D1=25.15//mm\n",
"D2=27.62//mm\n",
"dr=0.5*(D2-D1)//mm\n",
"f=10//rpm\n",
"Vo=(%pi)*D1*f/60//mm/s\n",
"//Let D denote d/dr\n",
"DV=Vo/dr//s^-1\n",
"tow=0.005//Nm\n",
"L=92.37//mm\n",
"s=2*tow/D1^2/(%pi)/L*10^6//N/m^2\n",
"printf('The stress at the surface of the inner cylinder is %f N/m^2',s);"
   ]
   }
,
{
		   "cell_type": "markdown",
		   "metadata": {},
		   "source": [
			"## Example 1.3: Surface_tension.sce"
		   ]
		  },
  {
"cell_type": "code",
	   "execution_count": null,
	   "metadata": {
	    "collapsed": true
	   },
	   "outputs": [],
"source": [
"clc\n",
"//problem on surface tension\n",
"l=0.10;//m (length of sliding part)\n",
"f=0.00589;//N (pull due to 0.6 gm of mass)\n",
"f_onefilm=f/2;//N\n",
"//surface tension=(force for one film)/(length)\n",
"sigma=f_onefilm/l;\n",
"disp('The surface tension of fluid is')\n",
"disp(sigma)\n",
"disp('N/m')"
   ]
   }
,
{
		   "cell_type": "markdown",
		   "metadata": {},
		   "source": [
			"## Example 1.4: speed_conversion.sce"
		   ]
		  },
  {
"cell_type": "code",
	   "execution_count": null,
	   "metadata": {
	    "collapsed": true
	   },
	   "outputs": [],
"source": [
"clc\n",
"//Example 1.4\n",
"//Convert 327 miles/hr into ft/s\n",
"V=327//miles/hr\n",
"//1 mile = 5280 ft\n",
"//1 hour = 3600 sec\n",
"V1=V*(5280/3600)//ft/s\n",
"printf('327 miles/hr = %f ft/s',V1);"
   ]
   }
,
{
		   "cell_type": "markdown",
		   "metadata": {},
		   "source": [
			"## Example 1.5: Time_conversion.sce"
		   ]
		  },
  {
"cell_type": "code",
	   "execution_count": null,
	   "metadata": {
	    "collapsed": true
	   },
	   "outputs": [],
"source": [
"clc\n",
"//Example 1,5\n",
"//Convert 2.6 hours into seconds\n",
"t=2.6//hr\n",
"//1 hr = 3600 s\n",
"t1=2.6*3600//s\n",
"printf('2.6 hours = %f seconds',t1);"
   ]
   }
,
{
		   "cell_type": "markdown",
		   "metadata": {},
		   "source": [
			"## Example 1.6: Acceleratio.sce"
		   ]
		  },
  {
"cell_type": "code",
	   "execution_count": null,
	   "metadata": {
	    "collapsed": true
	   },
	   "outputs": [],
"source": [
"clc\n",
"//Example 1.6\n",
"//Calculate the acceleration in ft/min^2\n",
"m=10//lbm\n",
"F=3.5//lbf\n",
"//1 lbf.s^2 = 32.2 lbm.ft\n",
"//1 min = 60 sec\n",
"a=(F/m)*32.2*60^2//ft/min^2\n",
"printf('The acceleration provided is %f ft/min^2',a);"
   ]
   }
,
{
		   "cell_type": "markdown",
		   "metadata": {},
		   "source": [
			"## Example 1.7: Electrolysis.sce"
		   ]
		  },
  {
"cell_type": "code",
	   "execution_count": null,
	   "metadata": {
	    "collapsed": true
	   },
	   "outputs": [],
"source": [
"clc\n",
"//Example 1.7\n",
"//Calculate the wt of metallic aluminium deposited in an electrolytic cell\n",
"I=50000//Ampere or Coulumbs/sec\n",
"//1 hr = 3600 sec\n",
"I1=50000*3600//C/hr\n",
"//96500 C = 1 gm.eq\n",
"//1 mole of aluminium = 3 gm.eq\n",
"//1 mole of aluminium = 27 gm\n",
"m=I1*(1/96500)*(27/3)/1000//Kg/hr\n",
"printf('the wt of metallic aluminium deposited in an electrolytic cell is %f Kg/hr',m);"
   ]
   }
],
"metadata": {
		  "kernelspec": {
		   "display_name": "Scilab",
		   "language": "scilab",
		   "name": "scilab"
		  },
		  "language_info": {
		   "file_extension": ".sce",
		   "help_links": [
			{
			 "text": "MetaKernel Magics",
			 "url": "https://github.com/calysto/metakernel/blob/master/metakernel/magics/README.md"
			}
		   ],
		   "mimetype": "text/x-octave",
		   "name": "scilab",
		   "version": "0.7.1"
		  }
		 },
		 "nbformat": 4,
		 "nbformat_minor": 0
}
