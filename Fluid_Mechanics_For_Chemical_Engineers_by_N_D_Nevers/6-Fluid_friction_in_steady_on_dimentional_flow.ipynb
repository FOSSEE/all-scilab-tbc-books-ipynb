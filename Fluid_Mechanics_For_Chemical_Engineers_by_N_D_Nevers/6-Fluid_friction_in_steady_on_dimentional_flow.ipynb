{
"cells": [
 {
		   "cell_type": "markdown",
	   "metadata": {},
	   "source": [
       "# Chapter 6: Fluid friction in steady on dimentional flow"
	   ]
	},
{
		   "cell_type": "markdown",
		   "metadata": {},
		   "source": [
			"## Example 6.10: Pressure_difference.sce"
		   ]
		  },
  {
"cell_type": "code",
	   "execution_count": null,
	   "metadata": {
	    "collapsed": true
	   },
	   "outputs": [],
"source": [
"clc\n",
"//Example 6.10\n",
"//Calculate the pressure difference created due to expansion and contraction\n",
"rho=62.3//lbm/ft^3\n",
"K=1.5//dimentionless\n",
"v=13//ft/s\n",
"//1 ft = 12 in\n",
"//1 lbf.s^2 = 32.2 lbm.ft\n",
"dp=rho*K*(v^2/2)/32.2/144//lbf/in^2\n",
"printf('The pressure drop due to expansion and contraction is %f lbf/in^2',dp);"
   ]
   }
,
{
		   "cell_type": "markdown",
		   "metadata": {},
		   "source": [
			"## Example 6.11: Pressure_drop.sce"
		   ]
		  },
  {
"cell_type": "code",
	   "execution_count": null,
	   "metadata": {
	    "collapsed": true
	   },
	   "outputs": [],
"source": [
"clc\n",
"//Example 6.11\n",
"//Calculate the pressure drop in the pipe due to fittings\n",
"dx=3000//ft actual length of pipe\n",
"dx1=281//ft equivalent length of fittings\n",
"p=484//psi\n",
"dx_total=dx+dx1//ft\n",
"dp_total=p*(dx_total/dx)//psi\n",
"dp_vnf=dp_total-p//psi pressure drop fue to valves and fittings\n",
"printf('The pressure drop due to valves and fittings is %f psi',dp_vnf);"
   ]
   }
,
{
		   "cell_type": "markdown",
		   "metadata": {},
		   "source": [
			"## Example 6.12: Pressure_drop.sce"
		   ]
		  },
  {
"cell_type": "code",
	   "execution_count": null,
	   "metadata": {
	    "collapsed": true
	   },
	   "outputs": [],
"source": [
"clc\n",
"//Example 6.12\n",
"//Calculate pressure drop due to valves and fittings\n",
"K=27.56//deimentionless\n",
"rho=62.3//lbm/ft^3\n",
"v=13//ft/s\n",
"//1 ft = 12 in\n",
"//1 lbf.s^2 = 32.2 lbm.ft\n",
"dp=rho*K*(v^2/2)/32.2/144//psi\n",
"printf('THe pressure drop due to valves and fittings is %d psi',dp);"
   ]
   }
,
{
		   "cell_type": "markdown",
		   "metadata": {},
		   "source": [
			"## Example 6.13: Leakage_rate.sce"
		   ]
		  },
  {
"cell_type": "code",
	   "execution_count": null,
	   "metadata": {
	    "collapsed": true
	   },
	   "outputs": [],
"source": [
"clc\n",
"//Example 6.13\n",
"//Calculate the gasoline leakage rate through a seal\n",
"p=100//lbf/in^2\n",
"l=1//in length od seal in direction of leak\n",
"mew=0.6//cP\n",
"d=0.25//in diameter of valve stem\n",
"t=0.0001//in thickness of valva stem\n",
"//1 cP = 0.0000209 lbf.s/ft^2\n",
"//1 ft = 12 in\n",
"q=(p/l)*(1/12/mew)*(%pi)*d*t^3/0.0000209*144*3600//in^3/hr\n",
"printf('The volumetric leakage rate of gasoline is %f in^3/hr\n',q);\n",
"rho=0.026//lbm/in^3\n",
"m=q*rho//lbm/hr\n",
"printf('The mass leakage rate of gasoline is %f lbm/hr',m);"
   ]
   }
,
{
		   "cell_type": "markdown",
		   "metadata": {},
		   "source": [
			"## Example 6.1: Pressure_drop.sce"
		   ]
		  },
  {
"cell_type": "code",
	   "execution_count": null,
	   "metadata": {
	    "collapsed": true
	   },
	   "outputs": [],
"source": [
"clc\n",
"//Example 6.1\n",
"//calculate the drop in pressure per unit length in a pipe\n",
"q=50//gal/min flow rate\n",
"d=3.068//in inner diameter\n",
"a=(%pi)*(3.068/12)^2/4//ft^2\n",
"//1 ft^3 = 7.48 gal\n",
"//1 min = 60 sec\n",
"v_avg=q/a/60/7.48//ft/s\n",
"mew=50//cP\n",
"//1 cP = 0.000672 lbm/ft/s\n",
"rho=62.3//lbm/ft^3\n",
"R=(d/12)*v_avg*rho/(mew*0.000672)//dimentionless reynold's no.\n",
"if (R<2000)\n",
"  printf('Laminar flow\n');\n",
"else\n",
"  printf('Turbulent flow\n');\n",
"end\n",
"dx=3000//ft length of pipe\n",
"//1 gal = 231 in^3\n",
"//1 cP.ft^3 = 0.0000209 lbf.s\n",
"dp=(q/60)*(128/%pi)*(mew/d^4)*dx*231*0.0000209/12//lbf/in^2 or psi\n",
"//let D represent d/dx\n",
"Dp=(dp/dx)*100//psi/ft\n",
"printf('The pressure gradient in the pipe is %f psi/100ft',Dp);"
   ]
   }
,
{
		   "cell_type": "markdown",
		   "metadata": {},
		   "source": [
			"## Example 6.2: Viscosity.sce"
		   ]
		  },
  {
"cell_type": "code",
	   "execution_count": null,
	   "metadata": {
	    "collapsed": true
	   },
	   "outputs": [],
"source": [
"clc\n",
"//Example 6.2\n",
"//calculate viscosity of fluid using a viscometer\n",
"rho=1050//Kg/m^3\n",
"g=9.81//m/s^2\n",
"dz=0.12//m change in height\n",
"d=0.001//m inner diameter of capillary of viscometer\n",
"q=10^(-8)//m^3/s\n",
"dx=0.1//m length of capillary\n",
"mew=(rho*g*dz*(%pi)*d^4)*1000/128/(q*dx)//cP\n",
"printf('The viscosity of the fluid is %f cP',mew);"
   ]
   }
,
{
		   "cell_type": "markdown",
		   "metadata": {},
		   "source": [
			"## Example 6.3: Fanning_friction_factor.sce"
		   ]
		  },
  {
"cell_type": "code",
	   "execution_count": null,
	   "metadata": {
	    "collapsed": true
	   },
	   "outputs": [],
"source": [
"clc\n",
"//Example 6.3\n",
"//Calculate the fanning friction factor\n",
"R=10^5//dimentionless reynold's no.\n",
"ratio_ED=0.0002//dimentionless\n",
"f=0.001375*(1+(20000*ratio_ED+10^6/R)^(1/3))//dimentionless\n",
"printf('The fanning friction factor is %f',f);"
   ]
   }
,
{
		   "cell_type": "markdown",
		   "metadata": {},
		   "source": [
			"## Example 6.4: Gauge_pressure.sce"
		   ]
		  },
  {
"cell_type": "code",
	   "execution_count": null,
	   "metadata": {
	    "collapsed": true
	   },
	   "outputs": [],
"source": [
"clc\n",
"//Example 6.4\n",
"//Calculate the gauge pressure in the tank\n",
"q=300//gal/min flow rate\n",
"d=3.068//in inner diameter\n",
"a=(%pi)*(3.068/12)^2/4//ft^2\n",
"//1 ft^3 = 7.48 gal\n",
"//1 min = 60 sec\n",
"v_avg=q/a/60/7.48//ft/s\n",
"f=0.0091//dimentionless fanning friction factor\n",
"dx=3000//ft\n",
"rho=62.3//lbm/ft^3\n",
"dp=4*f*(dx/(d/12))*rho*(v_avg^2/2)/32.2/144//lbf/in^2 or psi\n",
"printf('The gauge pressure in the tank is %f psi',dp);"
   ]
   }
,
{
		   "cell_type": "markdown",
		   "metadata": {},
		   "source": [
			"## Example 6.5: volumetric_flow_rate.sce"
		   ]
		  },
  {
"cell_type": "code",
	   "execution_count": null,
	   "metadata": {
	    "collapsed": true
	   },
	   "outputs": [],
"source": [
"clc\n",
"//Example 6.5\n",
"//Calculate volumetric flow rate of gasoline through a pipe\n",
"d=0.1//m internal diameter of pipe\n",
"A=%pi*d^2/4//m^2\n",
"dx=100//m length of pipe\n",
"f=0.005//dimentionless fanning friction factor\n",
"dz=10//m difference in water level\n",
"g=9.81//m/s^2\n",
"v=((2*g*dz/4/f)*d/dx)^0.5//m/s\n",
"printf('The velocity of gasoline through pipe is %f m/s\n',v);\n",
"q=A*v//m^3/s\n",
"printf('The volumteric flow arte od gasoline through the pipe is %f m^3/s',q);"
   ]
   }
,
{
		   "cell_type": "markdown",
		   "metadata": {},
		   "source": [
			"## Example 6.6: Pressure_difference.sce"
		   ]
		  },
  {
"cell_type": "code",
	   "execution_count": null,
	   "metadata": {
	    "collapsed": true
	   },
	   "outputs": [],
"source": [
"clc\n",
"//Example 6.6\n",
"//Calculate pressure difference across the duct\n",
"p=14.75//lbf/in^2\n",
"M=29//lbm/lbmol\n",
"R=10.73//lbf.ft^3/(in^2.lbmol.R)\n",
"T=500//R Rankine temperature scale\n",
"rho=p*M/(R*T)//lbm/ft^3\n",
"q=500//ft^3/min\n",
"d=1//ft\n",
"A=(%pi)*d^2/4//ft^2\n",
"v=(q/60)/A//ft/s\n",
"mew=0.017//cP\n",
"//1cP = 0.000672 lbm/ft/s\n",
"R=d*v*rho/(mew*0.000672)//dimentionless reynold's no.\n",
"f=0.00465//fanning friction factor\n",
"dx=800//ft lenght of duct\n",
"//1 ft = 12 in\n",
"//1 lbf.s^2 = 32.2 lbm.ft\n",
"dP=rho*(4*f*(dx/d)*(v^2/2))/32.2/144//lbf/in^2\n",
"printf('The pressure drop across the duct is %f lbf/in^2',dP);"
   ]
   }
,
{
		   "cell_type": "markdown",
		   "metadata": {},
		   "source": [
			"## Example 6.8: Power.sce"
		   ]
		  },
  {
"cell_type": "code",
	   "execution_count": null,
	   "metadata": {
	    "collapsed": true
	   },
	   "outputs": [],
"source": [
"clc\n",
"//Example 6.8\n",
"//Calculate the pump power required\n",
"q=200//gal/min\n",
"rho=62.3//lbm/ft^3\n",
"//1 ft^3 = 7.48 gal\n",
"m=(q/60)*rho/7.48//lbm/s\n",
"dx=2000//ft\n",
"dp=3.87//psi/100ft\n",
"F=(dp/100)*dx/rho*32.2*144//ft\n",
"//1 hp = 550 lbf.ft/s\n",
"Po=F*m/550//hp\n",
"printf('The pump power required is %f hp',Po);"
   ]
   }
,
{
		   "cell_type": "markdown",
		   "metadata": {},
		   "source": [
			"## Example 6.9: Pressure_drop.sce"
		   ]
		  },
  {
"cell_type": "code",
	   "execution_count": null,
	   "metadata": {
	    "collapsed": true
	   },
	   "outputs": [],
"source": [
"clc\n",
"//Example 6.9\n",
"//Calculate the drop in pressure per unit length in a pipe\n",
"dp=0.1//psi\n",
"dx=800//ft\n",
"//let D represent d/dx\n",
"//1 psi = 6895 Pa\n",
"//1 m = 3.28 ft\n",
"Dp=(dp/dx)*6895*3.28//Pa/m\n",
"printf('The drop in pressure per unit length in the pipe is %f Pa/m',Dp);"
   ]
   }
],
"metadata": {
		  "kernelspec": {
		   "display_name": "Scilab",
		   "language": "scilab",
		   "name": "scilab"
		  },
		  "language_info": {
		   "file_extension": ".sce",
		   "help_links": [
			{
			 "text": "MetaKernel Magics",
			 "url": "https://github.com/calysto/metakernel/blob/master/metakernel/magics/README.md"
			}
		   ],
		   "mimetype": "text/x-octave",
		   "name": "scilab",
		   "version": "0.7.1"
		  }
		 },
		 "nbformat": 4,
		 "nbformat_minor": 0
}
