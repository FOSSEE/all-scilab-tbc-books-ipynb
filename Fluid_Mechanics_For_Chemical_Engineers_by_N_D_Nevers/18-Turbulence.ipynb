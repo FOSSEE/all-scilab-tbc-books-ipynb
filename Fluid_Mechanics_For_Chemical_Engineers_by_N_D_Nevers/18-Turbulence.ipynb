{
"cells": [
 {
		   "cell_type": "markdown",
	   "metadata": {},
	   "source": [
       "# Chapter 18: Turbulence"
	   ]
	},
{
		   "cell_type": "markdown",
		   "metadata": {},
		   "source": [
			"## Example 18.2: Energy_per_unit_mass_and_dissipation_rate.sce"
		   ]
		  },
  {
"cell_type": "code",
	   "execution_count": null,
	   "metadata": {
	    "collapsed": true
	   },
	   "outputs": [],
"source": [
"clc\n",
"//Example 18.2\n",
"//Calculate the energy per unit mass and heat dissipation rate\n",
"v=0.82//m/s\n",
"energy_per_unit_mass=v^2/2//J/Kg\n",
"printf('The energy per unit mass is %f J/Kg\n',energy_per_unit_mass);\n",
"//Let dissipation rate be denoted by eta\n",
"//Let D denote d/dL\n",
"DP=0.0286//Pa/m\n",
"rho=1.2//Kg/m^3\n",
"eta=DP*v/rho//m^2/s^3 or J/Kg/s\n",
"printf('The heat dissipation rate is %f J/Kg/s',eta);"
   ]
   }
,
{
		   "cell_type": "markdown",
		   "metadata": {},
		   "source": [
			"## Example 18.3: Turbulence.sce"
		   ]
		  },
  {
"cell_type": "code",
	   "execution_count": null,
	   "metadata": {
	    "collapsed": true
	   },
	   "outputs": [],
"source": [
"clc\n",
"//Example 18.3\n",
"//Calculate the value of k\n",
"Vx_rms=9.5//cm/s\n",
"Vy_rms=5//cm/s\n",
"k=(1/2)*((Vx_rms/100)^2+(Vy_rms/100)^2)//J/Kg\n",
"printf('k = %f J/Kg',k);"
   ]
   }
,
{
		   "cell_type": "markdown",
		   "metadata": {},
		   "source": [
			"## Example 18.4: Kolmogorov_scale.sce"
		   ]
		  },
  {
"cell_type": "code",
	   "execution_count": null,
	   "metadata": {
	    "collapsed": true
	   },
	   "outputs": [],
"source": [
"clc\n",
"//Example 18.4\n",
"//Calculate the Kolmogorov scale\n",
"v=1.613*10^(-4)//ft^2/s\n",
"eta=0.21//ft^2/s^3\n",
"kolmogorov_scale=(v^3/eta)^0.25//ft\n",
"printf('The Kolmogorov scale is %f ft',kolmogorov_scale);"
   ]
   }
,
{
		   "cell_type": "markdown",
		   "metadata": {},
		   "source": [
			"## Example 18.7: turbulent_kinematic_viscosity.sce"
		   ]
		  },
  {
"cell_type": "code",
	   "execution_count": null,
	   "metadata": {
	    "collapsed": true
	   },
	   "outputs": [],
"source": [
"clc\n",
"//Example 18.7\n",
"//Calculate the value of turbulent kinematic viscosity\n",
"K=0.00576//m^2/s^2\n",
"eta=0.0196//m^2/s^3\n",
"C_mew=0.09//dimentionless\n",
"v_t=C_mew*(0.00576)^2/(0.0196)//m^2/s\n",
"printf('the value of turbulent kinematic viscosity is %f m^2/s',v_t);"
   ]
   }
],
"metadata": {
		  "kernelspec": {
		   "display_name": "Scilab",
		   "language": "scilab",
		   "name": "scilab"
		  },
		  "language_info": {
		   "file_extension": ".sce",
		   "help_links": [
			{
			 "text": "MetaKernel Magics",
			 "url": "https://github.com/calysto/metakernel/blob/master/metakernel/magics/README.md"
			}
		   ],
		   "mimetype": "text/x-octave",
		   "name": "scilab",
		   "version": "0.7.1"
		  }
		 },
		 "nbformat": 4,
		 "nbformat_minor": 0
}
