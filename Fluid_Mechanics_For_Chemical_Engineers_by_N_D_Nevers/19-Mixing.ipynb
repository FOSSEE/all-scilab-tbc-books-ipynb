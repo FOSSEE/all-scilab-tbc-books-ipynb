{
"cells": [
 {
		   "cell_type": "markdown",
	   "metadata": {},
	   "source": [
       "# Chapter 19: Mixing"
	   ]
	},
{
		   "cell_type": "markdown",
		   "metadata": {},
		   "source": [
			"## Example 19.1: Time_required_for_mixing.sce"
		   ]
		  },
  {
"cell_type": "code",
	   "execution_count": null,
	   "metadata": {
	    "collapsed": true
	   },
	   "outputs": [],
"source": [
"clc\n",
"//Example 19.1\n",
"//Calculate the time required for mixing\n",
"L=10^(-6)//m\n",
"D=1.2*10^(-9)//m^2/s\n",
"t=2*L^2/D//s\n",
"printf('The time required for mixing is %f seconds',t);"
   ]
   }
,
{
		   "cell_type": "markdown",
		   "metadata": {},
		   "source": [
			"## Example 19.2: Power_required.sce"
		   ]
		  },
  {
"cell_type": "code",
	   "execution_count": null,
	   "metadata": {
	    "collapsed": true
	   },
	   "outputs": [],
"source": [
"clc\n",
"//Example 19.2\n",
"//Calculate the power required to run an impeller\n",
"D_tank=3//ft\n",
"D_impeller=D_tank/3//ft\n",
"N=4//rps\n",
"v=1.077*10^(-5)//ft^2/s\n",
"R_impeller=N*D_impeller^2//dimentionless (reynold's number)\n",
"//1 lbf.s^2 = 32.2 lbm.ft\n",
"//1 hp.s = 550 lbf.ft\n",
"rho_water=62.3//lbm/ft^3\n",
"P=5*rho_water*N^3*D_impeller^5/32.2/550//hp\n",
"printf('The power required to run an impeller is %f hp',P);"
   ]
   }
,
{
		   "cell_type": "markdown",
		   "metadata": {},
		   "source": [
			"## Example 19.3: Impeller_speed.sce"
		   ]
		  },
  {
"cell_type": "code",
	   "execution_count": null,
	   "metadata": {
	    "collapsed": true
	   },
	   "outputs": [],
"source": [
"clc\n",
"//Example 19.3\n",
"//Calculate the impeller speed in a model of a large mixer if the power per unit volume remains the same\n",
"//let D1/D2 be denoted by ratio_D\n",
"ratio_D=5//dimentionless\n",
"N2=240//rpm\n",
"N1=N2/ratio_D^(2/3)//rpm\n",
"printf('the impeller speed in a model of a large mixer if the power per unit volume remains the same is %f rpm',N1);"
   ]
   }
,
{
		   "cell_type": "markdown",
		   "metadata": {},
		   "source": [
			"## Example 19.4: Time_required_for_blending.sce"
		   ]
		  },
  {
"cell_type": "code",
	   "execution_count": null,
	   "metadata": {
	    "collapsed": true
	   },
	   "outputs": [],
"source": [
"clc\n",
"//Example 19.4\n",
"//Calculate the time required to blend two miscible, low viscosity liquids\n",
"D_tank=3//ft\n",
"D_impeller=D_tank/3//ft\n",
"H_tank=D_tank//ft\n",
"N=4//rps\n",
"t_blend=4.3*(D_tank/H_tank)*(D_tank/D_impeller)^2/N//s\n",
"printf('the time required to blend two miscible, low viscosity liquids is %f s',t_blend);"
   ]
   }
,
{
		   "cell_type": "markdown",
		   "metadata": {},
		   "source": [
			"## Example 19.5: Concentration.sce"
		   ]
		  },
  {
"cell_type": "code",
	   "execution_count": null,
	   "metadata": {
	    "collapsed": true
	   },
	   "outputs": [],
"source": [
"clc\n",
"//Example 19.5\n",
"//Calculate how far is the concentration of 0.1% from initial interface and the volume mixed\n",
"c=0.1//percent\n",
"c_interface=50//percent\n",
"c_original=0//percent\n",
"ratio_c=(c-c_interface)/(c_original-c_interface)//dimentionless\n",
"//erf(0.998)=2.15\n",
"//time required forfluid to travel 700 miles at 8ft/s is 4.57*10^5 sec\n",
"t=4.57*10^5//s\n",
"D=2*10^(-9)//m^2/s\n",
"x=2*2.15*(D*t)^0.5//m\n",
"printf('x=%f m\n',x);\n",
"v0=0.355//ft^3 of liquid/ft of pipe\n",
"//1 m = 3.281 ft\n",
"V_mixed=2*(3.281*x)*v0//ft^3\n",
"printf('the mixed volume is %f ft^3',V_mixed);"
   ]
   }
,
{
		   "cell_type": "markdown",
		   "metadata": {},
		   "source": [
			"## Example 19.6: Concentration.sce"
		   ]
		  },
  {
"cell_type": "code",
	   "execution_count": null,
	   "metadata": {
	    "collapsed": true
	   },
	   "outputs": [],
"source": [
"clc\n",
"//Example 19.6\n",
"//Calculate how far is the concentration of 0.1% from initial interface and the volume mixed\n",
"v=8//ft/s\n",
"f=0.0039//dimentionless (fanning friction factor)\n",
"D_turbulent=0.665*v*3.57*(f)^0.5//ft^2/s\n",
"//time required forfluid to travel 700 miles at 8ft/s is 4.57*10^5 sec\n",
"t=4.57*10^5//s\n",
"x=2*2.15*(D_turbulent*t)^0.5//ft\n",
"printf('x=%f m\n',x);\n",
"v0=0.355//ft^3 of liquid/ft of pipe\n",
"V_mixed=2*x*v0//ft^3\n",
"printf('the mixed volume is %f ft^3',V_mixed);"
   ]
   }
,
{
		   "cell_type": "markdown",
		   "metadata": {},
		   "source": [
			"## Example 19.7: Extent_of_mixing.sce"
		   ]
		  },
  {
"cell_type": "code",
	   "execution_count": null,
	   "metadata": {
	    "collapsed": true
	   },
	   "outputs": [],
"source": [
"clc\n",
"//Example 19.7\n",
"//Calculate how far downstream does the dye become uniformly distributed throughout the fluid\n",
"f=0.0039//dimentionless (fanning friction factor)\n",
"D=0.665//ft\n",
"L=D*0.56/(f)^0.5//ft\n",
"printf('L = %f ft',L);"
   ]
   }
,
{
		   "cell_type": "markdown",
		   "metadata": {},
		   "source": [
			"## Example 19.8: width_of_jet_and_entrainment_ratio.sce"
		   ]
		  },
  {
"cell_type": "code",
	   "execution_count": null,
	   "metadata": {
	    "collapsed": true
	   },
	   "outputs": [],
"source": [
"clc\n",
"//Example 19.8\n",
"//Calculate the width of jet and entrainment ratio\n",
"Vo=40//ft/s\n",
"Do=1//ft\n",
"x=10//ft\n",
"K=6.2//dimentionless\n",
"V_centerline=Vo*K*(Do/x)//ft/s\n",
"alpha=20//degrees\n",
"Dx=Do*(1+(x/Do)*sin(alpha*%pi/180))//ft\n",
"printf('The jet diameter is %f ft\n',Dx);\n",
"//Let entrainment ratio be r\n",
"r=0.62*(x/Do)^0.5//dimentionless\n",
"printf('The entrainment ratio is %f',r);"
   ]
   }
,
{
		   "cell_type": "markdown",
		   "metadata": {},
		   "source": [
			"## Example 19.9: Concentration.sce"
		   ]
		  },
  {
"cell_type": "code",
	   "execution_count": null,
	   "metadata": {
	    "collapsed": true
	   },
	   "outputs": [],
"source": [
"clc\n",
"//Example 19.9\n",
"//Calculate the SO2 concentration at the centerline\n",
"Q=20//gm/s\n",
"u=3//m/s\n",
"sigma_y=30//m\n",
"sigma_z=20//m\n",
"y=60//m\n",
"z=20//m\n",
"H=0//m\n",
"c=Q/(2*%pi*u*sigma_y*sigma_z)*exp(-((y^2/2/sigma_y^2)+((z-H)^2/2/sigma_z^2)))//gm/m^3\n",
"printf('the SO2 concentration at the centerline is %f gm/m^3',c);"
   ]
   }
],
"metadata": {
		  "kernelspec": {
		   "display_name": "Scilab",
		   "language": "scilab",
		   "name": "scilab"
		  },
		  "language_info": {
		   "file_extension": ".sce",
		   "help_links": [
			{
			 "text": "MetaKernel Magics",
			 "url": "https://github.com/calysto/metakernel/blob/master/metakernel/magics/README.md"
			}
		   ],
		   "mimetype": "text/x-octave",
		   "name": "scilab",
		   "version": "0.7.1"
		  }
		 },
		 "nbformat": 4,
		 "nbformat_minor": 0
}
