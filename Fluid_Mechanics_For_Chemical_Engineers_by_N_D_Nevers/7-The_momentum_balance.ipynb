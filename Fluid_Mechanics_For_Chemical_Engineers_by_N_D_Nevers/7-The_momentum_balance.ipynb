{
"cells": [
 {
		   "cell_type": "markdown",
	   "metadata": {},
	   "source": [
       "# Chapter 7: The momentum balance"
	   ]
	},
{
		   "cell_type": "markdown",
		   "metadata": {},
		   "source": [
			"## Example 7.10: Mass_flow_rate.sce"
		   ]
		  },
  {
"cell_type": "code",
	   "execution_count": null,
	   "metadata": {
	    "collapsed": true
	   },
	   "outputs": [],
"source": [
"clc\n",
"//Example 7.10\n",
"//Calculate the Mass air flow rate required by a jet engine\n",
"F_thrust=20000//lbf\n",
"Vx_out=1350//ft/s\n",
"Vx_in=0//ft/s\n",
"//1 lbf.s^2 = 32.2 lbm.ft\n",
"m=F_thrust/(Vx_out-Vx_in)*32.2//lbm/s\n",
"printf('The mass air flow rate required by a jet engine is %f lbm/s',m);"
   ]
   }
,
{
		   "cell_type": "markdown",
		   "metadata": {},
		   "source": [
			"## Example 7.12: Velocity.sce"
		   ]
		  },
  {
"cell_type": "code",
	   "execution_count": null,
	   "metadata": {
	    "collapsed": true
	   },
	   "outputs": [],
"source": [
"clc\n",
"//Example 7.12\n",
"//Calculate the final velocity of a rocket after launch\n",
"Isp=430//lbf.s/lbm specific impulse\n",
"v_initial=0//m/s\n",
"//1 lbf.s^2 = 32.2 lbm.ft\n",
"Vrel_out=-Isp*32.2//ft/s\n",
"ratio_m=0.1//dimentionless (ratio of final mass to initial mass)\n",
"v_final=Vrel_out*log(ratio_m)//ft/s\n",
"printf('The velocity of the rocket after launch is %f ft/s',v_final);"
   ]
   }
,
{
		   "cell_type": "markdown",
		   "metadata": {},
		   "source": [
			"## Example 7.15: Velocity.sce"
		   ]
		  },
  {
"cell_type": "code",
	   "execution_count": null,
	   "metadata": {
	    "collapsed": true
	   },
	   "outputs": [],
"source": [
"clc\n",
"//Example 7.15\n",
"//Calculate the velocity and height of flow in an open channel\n",
"v1=4//ft/s\n",
"g=32.2//ft/s^2\n",
"z1=0.0005//ft\n",
"Fr=v1^2/(g*z1)//dimentionless (Fraude number)\n",
"ratio_z=-0.5+(0.25+2*Fr)^0.5//dimentionless\n",
"//ratio_z = z2/z1\n",
"z2=ratio_z*z1//ft\n",
"printf('The height of flow in open channel is %f ft\n',z2);\n",
"v2=v1/(ratio_z)//ft/s\n",
"printf('The velocity of flow in open channel is %f ft/s',v2);"
   ]
   }
,
{
		   "cell_type": "markdown",
		   "metadata": {},
		   "source": [
			"## Example 7.16: Verticle_downward_velocity.sce"
		   ]
		  },
  {
"cell_type": "code",
	   "execution_count": null,
	   "metadata": {
	    "collapsed": true
	   },
	   "outputs": [],
"source": [
"clc\n",
"//Example 7.16\n",
"//calculate the verticle downward velocity of air hitting an aircraft wing\n",
"l=15//m length of wing\n",
"b=3//m thickness of wing\n",
"A=l*b//m^2 area of the colliding surface of the wing\n",
"rho_air=1.21//Kg/m^3\n",
"Vx=50//m/s\n",
"m=rho_air*A*Vx//Kg/s\n",
"Fy=9810//N Weight of the aircraft\n",
"Vy=Fy/m//m/s\n",
"printf('The verticle downward velocity of air hitting the aircraft wing is %f m/s',Vy);"
   ]
   }
,
{
		   "cell_type": "markdown",
		   "metadata": {},
		   "source": [
			"## Example 7.17: ratio_of_weight_of_aircraft_to_engine.sce"
		   ]
		  },
  {
"cell_type": "code",
	   "execution_count": null,
	   "metadata": {
	    "collapsed": true
	   },
	   "outputs": [],
"source": [
"clc\n",
"//Example 7.17\n",
"//Calculate the ratio of the total weight of the aircraft to the weight of engine\n",
"//Let ratio of weight to thrust be denoted by r1\n",
"//Let ratio of thrust to the engine weight be denoted by r2\n",
"r1=10//dimentionless\n",
"r2=2//dimentionless\n",
"//weight/engine wt = (weight/thrust)*(thrust/engine wt)\n",
"//let ratio of total wt to engine wt be denoted by r3\n",
"r3=r1*r2//dimentionless\n",
"printf('The ratio of the total weight of the aircraft to the weight of engine is %f',r3);"
   ]
   }
,
{
		   "cell_type": "markdown",
		   "metadata": {},
		   "source": [
			"## Example 7.18: Torque.sce"
		   ]
		  },
  {
"cell_type": "code",
	   "execution_count": null,
	   "metadata": {
	    "collapsed": true
	   },
	   "outputs": [],
"source": [
"clc\n",
"//Example 7.18\n",
"//Calculate the torque exerted on the rotor in a centrifugal pump\n",
"q=100//gal/min\n",
"rho=8.33//lbm/gal\n",
"m=rho*q//lbm/min\n",
"f=1800//rev/min frequency of impeller\n",
"omega=2*(%pi)*f//rad/min\n",
"r_in=1/12//ft\n",
"r_out=6/12//ft\n",
"//1 min = 60 sec\n",
"//1 lbf.s^2 = 32.2 lbm.ft\n",
"tou=m*omega*(r_out^2-r_in^2)/32.2/3600//lbf.ft\n",
"printf('The torque exerted on the rotor is %f lbf.ft',tou);"
   ]
   }
,
{
		   "cell_type": "markdown",
		   "metadata": {},
		   "source": [
			"## Example 7.2: Velocity.sce"
		   ]
		  },
  {
"cell_type": "code",
	   "execution_count": null,
	   "metadata": {
	    "collapsed": true
	   },
	   "outputs": [],
"source": [
"clc\n",
"//Example 7.2\n",
"//Calulate the final velocity of duck after being hit by a bullet\n",
"m_duck=3//lbm\n",
"v_duck=-15//ft/s due west\n",
"m_bullet=0.05//lbm\n",
"v_bullet=1000//ft/s due east\n",
"//total initial momentum = final momentum\n",
"v_sys=((m_duck*v_duck)+(m_bullet*v_bullet))/(m_duck+m_bullet)//ft/s\n",
"printf('The final velocity of the duck is %f ft/s',v_sys);"
   ]
   }
,
{
		   "cell_type": "markdown",
		   "metadata": {},
		   "source": [
			"## Example 7.3: Force.sce"
		   ]
		  },
  {
"cell_type": "code",
	   "execution_count": null,
	   "metadata": {
	    "collapsed": true
	   },
	   "outputs": [],
"source": [
"clc\n",
"//Example 7.3\n",
"//calculate the force required to hold of water from a hoze\n",
"rho=998.2//Kg/m^3\n",
"q=0.01//m^3/s\n",
"v_initial=30//m/s\n",
"v_final=0//m/s\n",
"F=q*rho*(v_final-v_initial)//N\n",
"printf('The force required to hold of water from a hoze %f N',F);"
   ]
   }
,
{
		   "cell_type": "markdown",
		   "metadata": {},
		   "source": [
			"## Example 7.4: Force.sce"
		   ]
		  },
  {
"cell_type": "code",
	   "execution_count": null,
	   "metadata": {
	    "collapsed": true
	   },
	   "outputs": [],
"source": [
"clc\n",
"//Example 7.4\n",
"//calculate the force required to hold of water from a hoze\n",
"rho=998.2//Kg/m^3\n",
"q=0.01//m^3/s\n",
"v_initial=30//m/s\n",
"v_final=-15//m/s\n",
"F=q*rho*(v_final-v_initial)//N\n",
"printf('The force required to hold of water from a hoze %f N',F);"
   ]
   }
,
{
		   "cell_type": "markdown",
		   "metadata": {},
		   "source": [
			"## Example 7.5: Force.sce"
		   ]
		  },
  {
"cell_type": "code",
	   "execution_count": null,
	   "metadata": {
	    "collapsed": true
	   },
	   "outputs": [],
"source": [
"clc\n",
"//Example 7.5\n",
"//Calculate the force exerted on the flange when the valve of the nozzle is closed\n",
"//Let the gauge pressure be denoted by Pg\n",
"Pg=100//lbf/in^2\n",
"A=10//in^2\n",
"//F_bolts = -F_liq-F_atm\n",
"//F_bolts = -(Pg + P_atm)A - (-P_atm.A)\n",
"//F_bolts = -Pg.A\n",
"F_bolts=-Pg*A\n",
"printf('The force exerted on the flange when the valve of the nozzle is closed is %f lbf',F_bolts);"
   ]
   }
,
{
		   "cell_type": "markdown",
		   "metadata": {},
		   "source": [
			"## Example 7.6: Force.sce"
		   ]
		  },
  {
"cell_type": "code",
	   "execution_count": null,
	   "metadata": {
	    "collapsed": true
	   },
	   "outputs": [],
"source": [
"clc\n",
"//Example 7.6\n",
"//Calculate the force exerted on the flange\n",
"dP=100//lbf/in^2\n",
"A_out=1//in^2\n",
"rho=62.3//lbm/ft^3\n",
"ratio_A=0.1//dimentionless\n",
"//1 ft = 12 in\n",
"//1 lbf.s^2 = 32.2 lbm.ft\n",
"v_out=(2*dP/rho/(1-ratio_A^2)*32.2*144)^0.5//ft/s\n",
"v_in=12.3//ft/s\n",
"m=rho*A_out*v_out/144//lbm/s\n",
"F=m*(v_out-v_in)/32.2//lbf\n",
"printf('The force exerted on the flange is %f lbf',F);"
   ]
   }
,
{
		   "cell_type": "markdown",
		   "metadata": {},
		   "source": [
			"## Example 7.7: Support_forces.sce"
		   ]
		  },
  {
"cell_type": "code",
	   "execution_count": null,
	   "metadata": {
	    "collapsed": true
	   },
	   "outputs": [],
"source": [
"clc\n",
"//Example 7.7\n",
"//Calculate the support forces in x and y direction in a 90 degree bend tube\n",
"p1=200//KPa\n",
"A=0.1//m^2\n",
"m=500//Kg/s\n",
"rho=998.2//Kg/m^3\n",
"q=m/rho//m^3/s\n",
"v=q/A//m/s\n",
"Vx_initial=v//m/s\n",
"Vx_final=0//m/s\n",
"Vy_initial=0//m/s\n",
"Vy_final=-v//m/s\n",
"Fx=m*(Vx_final-Vx_initial)-p1*1000*A//N\n",
"printf('The support force in the x direction is %f N\n',Fx);\n",
"Fy=m*(Vy_final-Vy_initial)-p1*1000*A//N\n",
"printf('The support force in the y direction is %f N',Fy);"
   ]
   }
,
{
		   "cell_type": "markdown",
		   "metadata": {},
		   "source": [
			"## Example 7.8: Thrust.sce"
		   ]
		  },
  {
"cell_type": "code",
	   "execution_count": null,
	   "metadata": {
	    "collapsed": true
	   },
	   "outputs": [],
"source": [
"clc\n",
"//Example 7.8\n",
"//Calculate the thrust on a rocket\n",
"m=1000//Kg/s\n",
"v_out=-3000//m/s its in the negative y direction\n",
"v_in=0//m/s\n",
"A=7//m^2\n",
"P=35000//Pa\n",
"F_thrust=(-m*(v_out-v_in)+P*A)/1000000//MN\n",
"printf('The thrust on the rocket is %f MN',F_thrust);"
   ]
   }
,
{
		   "cell_type": "markdown",
		   "metadata": {},
		   "source": [
			"## Example 7.9: Specific_impulse.sce"
		   ]
		  },
  {
"cell_type": "code",
	   "execution_count": null,
	   "metadata": {
	    "collapsed": true
	   },
	   "outputs": [],
"source": [
"clc\n",
"//Example 7.9\n",
"//Calculate the specific impulse for a rocket\n",
"Vy_exh=-3000//m/s in negative y direction\n",
"Isp=-Vy_exh/1000//KN.s/Kg\n",
"printf('The specific impulse on the rocket is %f KN.s/Kg',Isp);"
   ]
   }
],
"metadata": {
		  "kernelspec": {
		   "display_name": "Scilab",
		   "language": "scilab",
		   "name": "scilab"
		  },
		  "language_info": {
		   "file_extension": ".sce",
		   "help_links": [
			{
			 "text": "MetaKernel Magics",
			 "url": "https://github.com/calysto/metakernel/blob/master/metakernel/magics/README.md"
			}
		   ],
		   "mimetype": "text/x-octave",
		   "name": "scilab",
		   "version": "0.7.1"
		  }
		 },
		 "nbformat": 4,
		 "nbformat_minor": 0
}
