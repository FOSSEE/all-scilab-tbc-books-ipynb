{
"cells": [
 {
		   "cell_type": "markdown",
	   "metadata": {},
	   "source": [
       "# Chapter 3: The balance equation and mass balance"
	   ]
	},
{
		   "cell_type": "markdown",
		   "metadata": {},
		   "source": [
			"## Example 3.11: volumetric_flow_rate.sce"
		   ]
		  },
  {
"cell_type": "code",
	   "execution_count": null,
	   "metadata": {
	    "collapsed": true
	   },
	   "outputs": [],
"source": [
"clc\n",
"//Example 3.11\n",
"//calculate flow rate of ventilation air supply\n",
"q=5/8;//kg/hr mass evaporation rate of benzene\n",
"c=1.3*10^(-6);//kg/m^3 concentration of benzene\n",
"Q=q/c/3600//m^3/s\n",
"printf('The flow rate of ventilation air supply is %f m^3/s',Q);"
   ]
   }
,
{
		   "cell_type": "markdown",
		   "metadata": {},
		   "source": [
			"## Example 3.4: volumetric_flow_rate.sce"
		   ]
		  },
  {
"cell_type": "code",
	   "execution_count": null,
	   "metadata": {
	    "collapsed": true
	   },
	   "outputs": [],
"source": [
"clc\n",
"//Calculate vol. flow rate, mass flow  rate and average vel of gasoline through pipe\n",
"V=15;//gal volume of gasoline\n",
"t=2;//min\n",
"rho_water=62.3;//lbm/ft^3\n",
"sg=0.72;//specific gravity\n",
"q=(15/2)*(0.1336/60)//ft^3/s vol. flow rate\n",
"printf('volumetric flow rate is %f ft^3/s\n',q);\n",
"m=q*sg*rho_water//lbm/s\n",
"printf('Mass flow rate is %f lbm/s\n',m);\n",
"d=1;//in diameter of pipe\n",
"a=((%pi)*d^2/4)/144;//ft^2 area of pipe\n",
"v_avg=q/a//ft/s\n",
"printf('The average velocity is %f ft/s',v_avg);"
   ]
   }
,
{
		   "cell_type": "markdown",
		   "metadata": {},
		   "source": [
			"## Example 3.5: Velocity_and_Mass_flow_rate.sce"
		   ]
		  },
  {
"cell_type": "code",
	   "execution_count": null,
	   "metadata": {
	    "collapsed": true
	   },
	   "outputs": [],
"source": [
"clc\n",
"//Example 3.5\n",
"//calculate velocity and mass flow rate of natural in a pipe\n",
"d1=2;//ft diameter of pipe at position 1\n",
"a1=(%pi)/4*d1^2;//ft^2\n",
"v1=50;//ft/s vel of gas at position 1\n",
"rho1=2.58;//lbm/ft^3 density of gas at position 1\n",
"d2=3;//ft diameter of pipe at position 2\n",
"a2=(%pi)/4*d2^2;\n",
"rho2=1.54;//lbm/ft^3 density at position 2\n",
"v2=(rho1/rho2)*(a1/a2)*v1//ft/s\n",
"printf('Velocity is %f ft/s\n',v2);\n",
"m=rho1*v1*a1//lbm/s mass flow rate\n",
"printf('The mass flow rate is %f lbm/s',m);"
   ]
   }
,
{
		   "cell_type": "markdown",
		   "metadata": {},
		   "source": [
			"## Example 3.6: Velocity_and_Mass_flow_rate.sce"
		   ]
		  },
  {
"cell_type": "code",
	   "execution_count": null,
	   "metadata": {
	    "collapsed": true
	   },
	   "outputs": [],
"source": [
"clc\n",
"//Example 3.6\n",
"//calculate the mass flow rate, volumetric flow rate and velocity of waterin a pipe\n",
"d1=0.25;//m diameter of pipe at position 1\n",
"v1=2;//m/s velocity\n",
"rho=998.2;//kg/m^3  density of water\n",
"a1=(%pi)/4*d1^2;//m^2\n",
"d2=0.125//m diameter of pipe at position 2\n",
"a2=(%pi)/4*d2^2;//m^2\n",
"m=rho*a1*v1//kg/s mass flow rate\n",
"printf('Mass flow rate is %f kg/s\n',m);\n",
"q=m/rho//m^3/s volumetric flow rate\n",
"printf('The volumetric flow rate is %f m^3/s\n',q);\n",
"v2=(a1/a2)*v1//m/s velocity\n",
"printf('Velocity of water is %f m/s',v2);"
   ]
   }
,
{
		   "cell_type": "markdown",
		   "metadata": {},
		   "source": [
			"## Example 3.7: Time_required.sce"
		   ]
		  },
  {
"cell_type": "code",
	   "execution_count": null,
	   "metadata": {
	    "collapsed": true
	   },
	   "outputs": [],
"source": [
"clc\n",
"//Example 3.7\n",
"//calulate the time required\n",
"p_initial=1;//atm pressure initially\n",
"p_final=0.0001;//atm pressure finally\n",
"V=10;//ft^3 volume of system\n",
"q=1;//ft^3/min vol. flow rate\n",
"t=(V/q)*log(p_initial/p_final)//min\n",
"printf('The time required is %f min',t);"
   ]
   }
,
{
		   "cell_type": "markdown",
		   "metadata": {},
		   "source": [
			"## Example 3.8: Steady_state_pressure.sce"
		   ]
		  },
  {
"cell_type": "code",
	   "execution_count": null,
	   "metadata": {
	    "collapsed": true
	   },
	   "outputs": [],
"source": [
"clc\n",
"//Example 3.8\n",
"//calculate the final or steady state pressure in tank\n",
"m_in=0.0001;//lbm/min\n",
"q_out=1;//ft^3/min\n",
"rho_sys=m_in/q_out//lbm/ft^3\n",
"rho_air=0.075;//lbm/ft^3\n",
"p_initial=1;//atm\n",
"p_steady=p_initial*(rho_sys/rho_air)//atm\n",
"printf('The steady state pressure is %f atm',p_steady);"
   ]
   }
,
{
		   "cell_type": "markdown",
		   "metadata": {},
		   "source": [
			"## Example 3.9: Velocity_of_rising_water.sce"
		   ]
		  },
  {
"cell_type": "code",
	   "execution_count": null,
	   "metadata": {
	    "collapsed": true
	   },
	   "outputs": [],
"source": [
"clc\n",
"//Example 3.9\n",
"//calculate how fast the level of water is rising or falling in a cylindrical tank\n",
"d=3;//m diameter of tank\n",
"a=(%pi)*d^2/4;//m^2\n",
"d_in=0.1;//m inner diameter of inflow pipe\n",
"d_out=0.2;//m\n",
"v_in=2;//m/s\n",
"v_out=1;//m/s\n",
"q_in=((%pi)*d_in^2/4)*v_in;//m^3/s\n",
"q_out=((%pi)*d_out^2/4)*v_out;//m^3/s\n",
"//let D represent d/dt\n",
"DV=q_in-q_out;//m^3/s\n",
"if DV>1 then\n",
"  printf('The water level in tank is rising\n');\n",
"else if DV<1 then\n",
"    printf('The water level in tank is falling\n');\n",
"    else\n",
"      printf('No accumulation\n');\n",
"      end\n",
"//let h be the height of water in tank\n",
"Dh=DV/a//m/s \n",
"printf('The rate of level of water is rising or falling in a cylindrical tank is %f m/s',Dh);   "
   ]
   }
],
"metadata": {
		  "kernelspec": {
		   "display_name": "Scilab",
		   "language": "scilab",
		   "name": "scilab"
		  },
		  "language_info": {
		   "file_extension": ".sce",
		   "help_links": [
			{
			 "text": "MetaKernel Magics",
			 "url": "https://github.com/calysto/metakernel/blob/master/metakernel/magics/README.md"
			}
		   ],
		   "mimetype": "text/x-octave",
		   "name": "scilab",
		   "version": "0.7.1"
		  }
		 },
		 "nbformat": 4,
		 "nbformat_minor": 0
}
