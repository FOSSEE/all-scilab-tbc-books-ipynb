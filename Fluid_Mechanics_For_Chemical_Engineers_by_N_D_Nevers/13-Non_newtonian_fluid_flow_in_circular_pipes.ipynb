{
"cells": [
 {
		   "cell_type": "markdown",
	   "metadata": {},
	   "source": [
       "# Chapter 13: Non newtonian fluid flow in circular pipes"
	   ]
	},
{
		   "cell_type": "markdown",
		   "metadata": {},
		   "source": [
			"## Example 13.1: Pressure_gradient.sce"
		   ]
		  },
  {
"cell_type": "code",
	   "execution_count": null,
	   "metadata": {
	    "collapsed": true
	   },
	   "outputs": [],
"source": [
"clc\n",
"//Example 13.1\n",
"//Calculate the pressure gradient\n",
"v=1//ft/s\n",
"d=0.5//ft\n",
"A=(%pi)/4*d^2//ft^2\n",
"Q=v*A//ft^3/s\n",
"//Let DP denote the pressure gradient\n",
"n=0.41//dimentionless\n",
"K=0.66//kg/m/s\n",
"//1 m = 3.281 ft \n",
"Q1=Q/3.281^3//m^3/s\n",
"d1=d/3.281//m\n",
"DP=(Q1*8*(3*n+1)/(n*(%pi)*d1^3))^n*(4*K/d1)//Pa/m\n",
"printf('The pressure gradient is %f Pa/m',DP);"
   ]
   }
,
{
		   "cell_type": "markdown",
		   "metadata": {},
		   "source": [
			"## Example 13.3: Fanning_friction_factor_and_reynolds_number_by_power_law.sce"
		   ]
		  },
  {
"cell_type": "code",
	   "execution_count": null,
	   "metadata": {
	    "collapsed": true
	   },
	   "outputs": [],
"source": [
"clc\n",
"//Example 13.3\n",
"//Calculate the fanning friction factor and reynolds number by power law\n",
"DP=61.3//Pa/m (pressure gradient)\n",
"D=0.152//m\n",
"V_avg=0.305//m/s\n",
"rho=1000//kg/m^3\n",
"f=DP*D/(4*rho*V_avg^2/2)//dimentionless\n",
"printf('The fanning friction factor is %f\n',f);\n",
"n=0.41//dimentionless\n",
"K=0.66//dimentionless\n",
"R_pl=8*rho*V_avg^(2-n)*D^n/(K*(2*(3*n+1)/n)^n)//dimentionless\n",
"printf('The reynolds number is %f\n',R_pl);\n",
"if (R_pl<2000)\n",
"    printf('The flow is Laminar');\n",
"else\n",
"    printf('The flow is turbulent');    \n",
"end"
   ]
   }
,
{
		   "cell_type": "markdown",
		   "metadata": {},
		   "source": [
			"## Example 13.4: Pressure_gradient.sce"
		   ]
		  },
  {
"cell_type": "code",
	   "execution_count": null,
	   "metadata": {
	    "collapsed": true
	   },
	   "outputs": [],
"source": [
"clc\n",
"//Example 13.4\n",
"//Calculate the pressure gradient\n",
"D=0.152//m\n",
"V_avg=3.04//m/s\n",
"rho=1000//kg/m^3\n",
"n=0.41//dimentionless\n",
"K=0.66//dimentionless\n",
"R_pl=8*rho*V_avg^(2-n)*D^n/(K*(2*(3*n+1)/n)^n)//dimentionless\n",
"printf('The reynolds number is %f\n',R_pl);\n",
"f=0.004//dimentionless (fanning friction factor)\n",
"//Let DP denote the pressure gradient\n",
"DP=4*f*(rho/D)*(V_avg^2/2)/1000//KPa/m\n",
"printf('The pressure gradient is %f KPa/m',DP);"
   ]
   }
,
{
		   "cell_type": "markdown",
		   "metadata": {},
		   "source": [
			"## Example 13.5: Headstrom_Reynold_number_and_fanning_friction_factor.sce"
		   ]
		  },
  {
"cell_type": "code",
	   "execution_count": null,
	   "metadata": {
	    "collapsed": true
	   },
	   "outputs": [],
"source": [
"clc\n",
"//Example 13.5\n",
"//Calculate the headstrom ,reynold numbers and the fanning friction factor\n",
"tow_yield=3.8//Pa\n",
"mew=0.00686//Pa.s\n",
"D=0.0206//m\n",
"rho=1530//kg/m^3\n",
"V=3.47//m/s\n",
"He=tow_yield*D^2*rho/mew^2//dimentionless (headstrom number)\n",
"printf('The headstrom number is %f\n',He);\n",
"R=D*V*rho/mew//dimentionless (reynolds number)\n",
"printf('The reynolds number is %f\n',R);\n",
"dP=11069//Pa/m\n",
"f=dP*D/(4*rho*V^2/2)//dimentionless (fanning friction factor)\n",
"printf('The fanning friction factor is %f',f);"
   ]
   }
],
"metadata": {
		  "kernelspec": {
		   "display_name": "Scilab",
		   "language": "scilab",
		   "name": "scilab"
		  },
		  "language_info": {
		   "file_extension": ".sce",
		   "help_links": [
			{
			 "text": "MetaKernel Magics",
			 "url": "https://github.com/calysto/metakernel/blob/master/metakernel/magics/README.md"
			}
		   ],
		   "mimetype": "text/x-octave",
		   "name": "scilab",
		   "version": "0.7.1"
		  }
		 },
		 "nbformat": 4,
		 "nbformat_minor": 0
}
