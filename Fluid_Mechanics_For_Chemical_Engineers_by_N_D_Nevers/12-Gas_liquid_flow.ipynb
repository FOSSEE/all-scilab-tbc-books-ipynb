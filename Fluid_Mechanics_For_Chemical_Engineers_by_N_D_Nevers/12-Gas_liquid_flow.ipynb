{
"cells": [
 {
		   "cell_type": "markdown",
	   "metadata": {},
	   "source": [
       "# Chapter 12: Gas liquid flow"
	   ]
	},
{
		   "cell_type": "markdown",
		   "metadata": {},
		   "source": [
			"## Example 12.1: Eta_and_slip_velocity.sce"
		   ]
		  },
  {
"cell_type": "code",
	   "execution_count": null,
	   "metadata": {
	    "collapsed": true
	   },
	   "outputs": [],
"source": [
"clc\n",
"//Example 12.1\n",
"//Calculate the eta and slip velocity\n",
"ratio_Q=10//dimentionless (ratio of Qg to Ql)\n",
"x=3.5/ratio_Q//dimentionless\n",
"eta=1/(1+x)//dimentionless\n",
"printf('Eta = %f\n',eta);\n",
"Vl=2.06//ft/s\n",
"Vl_avg=Vl/(1-eta)//ft/s\n",
"Vg_avg=ratio_Q*Vl/eta//ft/s\n",
"V_slip=Vg_avg-Vl_avg//ft/s\n",
"printf('The slip velocity is %f ft/s',V_slip);"
   ]
   }
],
"metadata": {
		  "kernelspec": {
		   "display_name": "Scilab",
		   "language": "scilab",
		   "name": "scilab"
		  },
		  "language_info": {
		   "file_extension": ".sce",
		   "help_links": [
			{
			 "text": "MetaKernel Magics",
			 "url": "https://github.com/calysto/metakernel/blob/master/metakernel/magics/README.md"
			}
		   ],
		   "mimetype": "text/x-octave",
		   "name": "scilab",
		   "version": "0.7.1"
		  }
		 },
		 "nbformat": 4,
		 "nbformat_minor": 0
}
