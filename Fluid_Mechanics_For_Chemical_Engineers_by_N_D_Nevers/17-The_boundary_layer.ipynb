{
"cells": [
 {
		   "cell_type": "markdown",
	   "metadata": {},
	   "source": [
       "# Chapter 17: The boundary layer"
	   ]
	},
{
		   "cell_type": "markdown",
		   "metadata": {},
		   "source": [
			"## Example 17.1: Boundary_layer_thickness.sce"
		   ]
		  },
  {
"cell_type": "code",
	   "execution_count": null,
	   "metadata": {
	    "collapsed": true
	   },
	   "outputs": [],
"source": [
"clc\n",
"//Example 17.1\n",
"//Calculate the boundary layer thickness\n",
"//for the aeroplane\n",
"v=1.61*10^(-4)//ft^2/s\n",
"x=2//ft\n",
"V=200//miles/hr\n",
"//1 mile = 5280 ft\n",
"//1 hr = 3600 sec\n",
"delta_aeroplane=5*(v*x/(V*5280/3600))^0.5\n",
"printf('The boundary layer thickness for the aeroplane is %f ft\n',delta_aeroplane);\n",
"//for the boat\n",
"v1=1.08*10^(-5)//ft^2/s\n",
"x1=2//ft\n",
"V1=10//miles/hr\n",
"//1 mile = 5280 ft\n",
"//1 hr = 3600 sec\n",
"delta_boat=5*(v1*x1/(V1*5280/3600))^0.5\n",
"printf('The boundary layer thickness for the boat is %f ft\n',delta_boat);"
   ]
   }
,
{
		   "cell_type": "markdown",
		   "metadata": {},
		   "source": [
			"## Example 17.2: Force.sce"
		   ]
		  },
  {
"cell_type": "code",
	   "execution_count": null,
	   "metadata": {
	    "collapsed": true
	   },
	   "outputs": [],
"source": [
"clc\n",
"//Example 17.2\n",
"//Calculate the force required to tow a square metal plate by a boat\n",
"rho_water=998.2//Kg/m^3\n",
"V=15//km/hr\n",
"v=1.004*10^(-6)//m^2/s\n",
"l=1//m length of plate\n",
"//1 km = 1000 m\n",
"//1 hr = 3600 s\n",
"Rx=(V*1000/3600)*l/v//dimentionless (reynold's number)\n",
"Cf=1.328/Rx^0.5//dimentionless\n",
"F=Cf*rho_water*(V*1000/3600)^2//N\n",
"printf('The force required to tow the square plate is %f N',F);"
   ]
   }
,
{
		   "cell_type": "markdown",
		   "metadata": {},
		   "source": [
			"## Example 17.3: Laminar_sublayer_and_buffer_layer.sce"
		   ]
		  },
  {
"cell_type": "code",
	   "execution_count": null,
	   "metadata": {
	    "collapsed": true
	   },
	   "outputs": [],
"source": [
"clc\n",
"//Example 17.3\n",
"//Calculate the distance between the wall and edge of the laminar sublayer and buffer layer\n",
"V=10//ft/s\n",
"l=0.25//ft\n",
"v=1.08*10^(-5)//ft^2/s\n",
"R=V*l/v//dimentionless (reynold's number)\n",
"f=0.0037//dimentionless (fanning friction factor)\n",
"u1=V*(f/2)^0.5//ft/s\n",
"u01=5//dimentionless\n",
"y01=5//dimentionless\n",
"r1=y01*v/u1//ft\n",
"printf('the distance between the wall and edge of the laminar sublayer is %f ft\n',r1);\n",
"//for buffer layer\n",
"u02=12//dimentionless\n",
"y02=26//dimentionless\n",
"r2=y02*v/u1//ft\n",
"printf('the distance between the wall and edge of the buffer layer is %f ft',r2);"
   ]
   }
,
{
		   "cell_type": "markdown",
		   "metadata": {},
		   "source": [
			"## Example 17.4: Boundary_layer_thickness_and_drag.sce"
		   ]
		  },
  {
"cell_type": "code",
	   "execution_count": null,
	   "metadata": {
	    "collapsed": true
	   },
	   "outputs": [],
"source": [
"clc\n",
"//Example 17.4\n",
"//Calculate the boundary layer thickness and the drag on the plate\n",
"V=50//ft/s\n",
"l=20//ft\n",
"b=1//ft\n",
"v=1.08*10^(-5)//ft^2/s\n",
"R=V*l/v//dimentionless (reynold's number)\n",
"delta=0.37*l/R^0.2//ft\n",
"printf('The boundary layer thichness at the end of the plate is %f ft\n',delta);\n",
"Cf=0.072/R^0.2//dimentionless\n",
"rho_water=62.3//lbm/ft^3\n",
"V=50//ft/s\n",
"//let A be the area of contact\n",
"A=2*l*b//ft^2\n",
"//1 lbf.s^2 = 32.2 lbm.ft\n",
"F=(1/2)*Cf*rho_water*V^2*A/32.2//lbf\n",
"printf('The drag on the plate is %f lbf',F);"
   ]
   }
],
"metadata": {
		  "kernelspec": {
		   "display_name": "Scilab",
		   "language": "scilab",
		   "name": "scilab"
		  },
		  "language_info": {
		   "file_extension": ".sce",
		   "help_links": [
			{
			 "text": "MetaKernel Magics",
			 "url": "https://github.com/calysto/metakernel/blob/master/metakernel/magics/README.md"
			}
		   ],
		   "mimetype": "text/x-octave",
		   "name": "scilab",
		   "version": "0.7.1"
		  }
		 },
		 "nbformat": 4,
		 "nbformat_minor": 0
}
