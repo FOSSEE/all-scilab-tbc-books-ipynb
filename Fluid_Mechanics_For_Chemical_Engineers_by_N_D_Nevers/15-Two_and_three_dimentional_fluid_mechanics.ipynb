{
"cells": [
 {
		   "cell_type": "markdown",
	   "metadata": {},
	   "source": [
       "# Chapter 15: Two and three dimentional fluid mechanics"
	   ]
	},
{
		   "cell_type": "markdown",
		   "metadata": {},
		   "source": [
			"## Example 15.4: Time_required.sce"
		   ]
		  },
  {
"cell_type": "code",
	   "execution_count": null,
	   "metadata": {
	    "collapsed": true
	   },
	   "outputs": [],
"source": [
"clc\n",
"//Example 15.4\n",
"//Calculate the time taken by water in a long pipe to reach its steady state velocity\n",
"//let (new)*t/r0^2 be denoted by y\n",
"y=0.05//dimentionless\n",
"r0=0.077//m\n",
"mew=1//Pa.s\n",
"rho=1000//Kg/m^3\n",
"new=mew/rho//m^2/s\n",
"t=y*r0^2/new//s\n",
"printf('the time taken by water in a long pipe to reach its steady state velocity is % f seconds',t);"
   ]
   }
],
"metadata": {
		  "kernelspec": {
		   "display_name": "Scilab",
		   "language": "scilab",
		   "name": "scilab"
		  },
		  "language_info": {
		   "file_extension": ".sce",
		   "help_links": [
			{
			 "text": "MetaKernel Magics",
			 "url": "https://github.com/calysto/metakernel/blob/master/metakernel/magics/README.md"
			}
		   ],
		   "mimetype": "text/x-octave",
		   "name": "scilab",
		   "version": "0.7.1"
		  }
		 },
		 "nbformat": 4,
		 "nbformat_minor": 0
}
