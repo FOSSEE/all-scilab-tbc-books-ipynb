{
"cells": [
 {
		   "cell_type": "markdown",
	   "metadata": {},
	   "source": [
       "# Chapter 8: One dimentional high velocity gas flow"
	   ]
	},
{
		   "cell_type": "markdown",
		   "metadata": {},
		   "source": [
			"## Example 8.12: Temperature_and_pressure_of_gas.sce"
		   ]
		  },
  {
"cell_type": "code",
	   "execution_count": null,
	   "metadata": {
	    "collapsed": true
	   },
	   "outputs": [],
"source": [
"clc\n",
"//Example 8.12\n",
"//Calculate the reservoir temperature and the pressure of air around the aircraft\n",
"gama=1.4//dimentionless\n",
"Ma=2//dimentionless (Mach number)\n",
"To=273.15//K\n",
"Tr=To*(Ma^2*(gama-1)/2+1)//K\n",
"printf('the reservoir temperature of air around the aircraft is %f K\n',Tr);\n",
"P1=50//KPa\n",
"Pr=P1*(Tr/To)^(gama*5/2)//KPa\n",
"printf('The pressure of air around the aircraft is %f KPa',Pr);"
   ]
   }
,
{
		   "cell_type": "markdown",
		   "metadata": {},
		   "source": [
			"## Example 8.13: Temperature_and_velocity_of_air.sce"
		   ]
		  },
  {
"cell_type": "code",
	   "execution_count": null,
	   "metadata": {
	    "collapsed": true
	   },
	   "outputs": [],
"source": [
"clc\n",
"//Example 8.13\n",
"//Calculate temperature and the velocity of air inside the shock wave\n",
"//Let subscript y denote air inside the shock wave and x denote the air outside the shock wave\n",
"ratio_T=1.2309//dimentionless\n",
"Tx=528//R (Rankine temperature scale)\n",
"Ty=ratio_T*Tx//R (Rankine temperature scale)\n",
"printf('temperature of air inside the shock wave is %f R\n',Ty);\n",
"My=0.7558//dimentionless\n",
"cy=1249//ft/s\n",
"Vy=My*cy//ft/s\n",
"printf('the velocity of air inside the shock wave is %f ft/s',Vy);"
   ]
   }
,
{
		   "cell_type": "markdown",
		   "metadata": {},
		   "source": [
			"## Example 8.14: Ratio_of_area_of_nozzle.sce"
		   ]
		  },
  {
"cell_type": "code",
	   "execution_count": null,
	   "metadata": {
	    "collapsed": true
	   },
	   "outputs": [],
"source": [
"clc\n",
"//Example 8.14\n",
"//Calculate the ratio of area of throat to area of a certain point\n",
"A_throat=1//in^2\n",
"A_exit=1.5//in^2\n",
"ratio_A=2.2385//dimentionless\n",
"ratio_A1=ratio_A*(A_throat/A_exit)//dimentionless\n",
"printf('the ratio of area of throat to area of a certain point is %f',ratio_A1);"
   ]
   }
,
{
		   "cell_type": "markdown",
		   "metadata": {},
		   "source": [
			"## Example 8.1: Speed_of_sound.sce"
		   ]
		  },
  {
"cell_type": "code",
	   "execution_count": null,
	   "metadata": {
	    "collapsed": true
	   },
	   "outputs": [],
"source": [
"clc\n",
"//Example 8.1\n",
"//Calculate the speed of sound in water amd steel at 20 C\n",
"//for steel\n",
"K_steel=1.94*10^11//Pa\n",
"rho_steel=7800//Kg.m^3\n",
"c_steel=(K_steel/rho_steel)^0.5/1000//Km/s\n",
"printf('the speed of sound in steel at 20 C is %f km/s\n',c_steel);\n",
"//for water\n",
"K_water=3.14*10^5//lbf/in^2\n",
"rho_water=62.3//lbm/ft^3\n",
"//1 ft =12 in\n",
"//1 lbf.s^2 = 32.2 lbm.ft\n",
"c_water=(K_water/rho_water*144*32.2)^0.5//ft/s\n",
"printf('the speed of sound in water at 20 C is %f ft/s',c_water);"
   ]
   }
,
{
		   "cell_type": "markdown",
		   "metadata": {},
		   "source": [
			"## Example 8.2: Speed_of_sound.sce"
		   ]
		  },
  {
"cell_type": "code",
	   "execution_count": null,
	   "metadata": {
	    "collapsed": true
	   },
	   "outputs": [],
"source": [
"clc\n",
"//Example 8.2\n",
"//Calculate the speed of sound in air at 20 C\n",
"R=10.73//lbf.ft^3/in^2/lbmol/R\n",
"//1 ft = 12 in\n",
"//1 lbf.s^2 = 32.2 lbm.ft\n",
"R1=(R*144*32.2)^0.5//ft/s*(lbm/lbmol/R)^0.5\n",
"k=1.4//dimentionless\n",
"T=528//R (Rankine temperature scale)\n",
"M=29//lbm/lbmol\n",
"c=R1*(k*T/M)^0.5//ft/s\n",
"printf('the speed of sound in air at 20 C is %f ft/s',c);"
   ]
   }
,
{
		   "cell_type": "markdown",
		   "metadata": {},
		   "source": [
			"## Example 8.3: Temperature_of_gas.sce"
		   ]
		  },
  {
"cell_type": "code",
	   "execution_count": null,
	   "metadata": {
	    "collapsed": true
	   },
	   "outputs": [],
"source": [
"clc\n",
"//Example 8.3\n",
"//Calculate the temperature of the gas where is mach number is 2\n",
"Ma=2//dimentionless (Mach number)\n",
"k=1.4//dimentionless\n",
"T1=528//R (Rankine temperature scale)\n",
"T2=T1/((Ma^2*(k-1)/2)+1)//R (Rankine temperature scale)\n",
"printf('The temperature of the gas when mach number is 2 is %f R',T2);"
   ]
   }
,
{
		   "cell_type": "markdown",
		   "metadata": {},
		   "source": [
			"## Example 8.4: Speed_of_sound.sce"
		   ]
		  },
  {
"cell_type": "code",
	   "execution_count": null,
	   "metadata": {
	    "collapsed": true
	   },
	   "outputs": [],
"source": [
"clc\n",
"//Example 8.4\n",
"//Calculate the speed of sound in air at 20 C\n",
"R=10.73//lbf.ft^3/(in^2.lbmol.R)\n",
"//1 ft = 12 in\n",
"////1 lbf.s^2 = 32.2 lbm.ft\n",
"R_root=(R*144*32.2)^0.5//ft/s*(lbm/lbmol.R)^0.5\n",
"Ma=2//dimentionless (Mach number)\n",
"k=1.4//dimentionless\n",
"T=298//R (Rankine temperature scale)\n",
"M=29//lbm/lbmol\n",
"c=R_root*(k*T/M)^0.5//ft/s\n",
"printf('%f',c);\n",
"v=c*Ma//ft/s\n",
"printf('The speed of sound in air at 20 C is %f ft/s',v);"
   ]
   }
,
{
		   "cell_type": "markdown",
		   "metadata": {},
		   "source": [
			"## Example 8.5: Pressure_and_density.sce"
		   ]
		  },
  {
"cell_type": "code",
	   "execution_count": null,
	   "metadata": {
	    "collapsed": true
	   },
	   "outputs": [],
"source": [
"clc\n",
"//Example 8.5\n",
"//Calculate the pressure and density at a pt where temperature ratio is 1.8 and initial pressure and density are given\n",
"ratio_T=1.8//dimentionless\n",
"P1=2//bar\n",
"k=1.4//dimentionless\n",
"P2=P1/ratio_T^(k/(k-1))//bar\n",
"printf('The pressure where temperature ratio is 1.8 and initial pressure is 2 bar is %f bar\n',P2);\n",
"rho1=2.39//Kg/m^3\n",
"rho2=rho1/ratio_T^(1/(k-1))//Kg/m^3\n",
"printf('The density where temperature ratio is 1.8 and initial density is 2.39 Kg/m^3 is %f Kg/m^3',rho2);"
   ]
   }
,
{
		   "cell_type": "markdown",
		   "metadata": {},
		   "source": [
			"## Example 8.6: Cross_sectional_area.sce"
		   ]
		  },
  {
"cell_type": "code",
	   "execution_count": null,
	   "metadata": {
	    "collapsed": true
	   },
	   "outputs": [],
"source": [
"clc\n",
"//Example 8.6\n",
"//Calculate the cross sectional area, pressure, temperature and mach number at a pt in duct where air velocity is 1400ft/s\n",
"P1=30//psia\n",
"T1=660//R (Rankine temperature scale)\n",
"m=10//lbm/s mass flow rate\n",
"v1=1400//ft/s\n",
"R=4.98*10^4//(ft^2/s^2)*(lbm/lbmol.R)^0.5\n",
"k=1.4//dimentionless\n",
"M=29//lbm/lbmol\n",
"T2=T1-v1^2*((k-1)/k)*M/2/R//R (Rankine temperature scale)\n",
"printf('The temperature at the pt in the duct where air velocity is 1400 ft/s is %f R\n',T2);\n",
"c=223*(k*T2/M)^0.5//ft/s\n",
"Ma=v1/c//dimentionless (Mach number)\n",
"printf('The mach number at the pt in the duct where air velocity is 1400 ft/s is %f\n',Ma);\n",
"P2=P1/(T1/T2)^(k/(k-1))//psia\n",
"printf('The pressure at the pt in the duct where air velocity is 1400 ft/s is %f psia\n',P2);\n",
"//1 lbf.s^2 = 32.2 lbm.ft\n",
"A0=m/(P1*(M*k)^0.5*32.2/223/(T1)^0.5/((k-1)/2+1)^((k+1)/2/(k-1)))//in^2\n",
"ratio_A=((Ma^2*(k-1)/2+1)/((k-1)/2+1))^((k+1)/2/(k-1))/Ma//dimentionless\n",
"A=ratio_A*A0//in^2\n",
"printf('The cross sectional at the pt in the duct where air velocity is 1400 ft/s is %f in^2',A);"
   ]
   }
,
{
		   "cell_type": "markdown",
		   "metadata": {},
		   "source": [
			"## Example 8.7: Cross_sectional_area.sce"
		   ]
		  },
  {
"cell_type": "code",
	   "execution_count": null,
	   "metadata": {
	    "collapsed": true
	   },
	   "outputs": [],
"source": [
"clc\n",
"//Example 8.7\n",
"//Calculate the cross sectional area, pressure, temperature and mach number at a pt in duct where air velocity is 1400ft/s\n",
"P1=30//psia\n",
"T1=660//R (Rankine temperature scale)\n",
"ratio_T=0.83333//dimentionless\n",
"m=10//lbm/s mass flow rate\n",
"v1=1400//ft/s\n",
"R=4.98*10^4//(ft^2/s^2)*(lbm/lbmol.R)^0.5\n",
"k=1.4//dimentionless\n",
"M=29//lbm/lbmol\n",
"T2=T1*ratio_T//R (Rankine temperature scale)\n",
"printf('The temperature at the pt in the duct where air velocity is 1400 ft/s is %f R\n',T2);\n",
"c=223*(k*T2/M)^0.5//ft/s\n",
"Ma=v1/c//dimentionless (Mach number)\n",
"printf('The mach number at the pt in the duct where air velocity is 1400 ft/s is %f\n',Ma);\n",
"ratio_t=0.7528//dimentionless\n",
"ratio_P=0.3701//dimentionless\n",
"ratio_A=1.0587//dimentionless\n",
"T=T1*ratio_t//R (Rankine temperature scale)\n",
"printf('T=%f\n',T);\n",
"P=P1*ratio_P//psia\n",
"printf('P=%f',P);"
   ]
   }
,
{
		   "cell_type": "markdown",
		   "metadata": {},
		   "source": [
			"## Example 8.8: Cross_sectional_area.sce"
		   ]
		  },
  {
"cell_type": "code",
	   "execution_count": null,
	   "metadata": {
	    "collapsed": true
	   },
	   "outputs": [],
"source": [
"clc\n",
"//Example 8.8\n",
"//Calculate the cross sectional area, pressure, temperature and mach number at a pt in duct where air velocity is 1400ft/s\n",
"P1=30//psia\n",
"T1=660//R (Rankine temperature scale)\n",
"m=10//lbm/s mass flow rate\n",
"v1=4000//ft/s\n",
"R=4.98*10^4//(ft^2/s^2)*(lbm/lbmol.R)^0.5\n",
"k=1.4//dimentionless\n",
"M=29//lbm/lbmol\n",
"T2=T1-v1^2*((k-1)/k)*M/2/R//R (Rankine temperature scale)\n",
"printf('The temperature at the pt in the duct where air velocity is 1400 ft/s is %f R\n',T2);\n",
"c=223*(k*T2/M)^0.5//ft/s\n",
"Ma=v1/c//dimentionless (Mach number)\n",
"P2=P1/(T1/T2)^(k/(k-1))//psia\n",
"//1 lbf.s^2 = 32.2 lbm.ft\n",
"A0=m/(P1*(M*k)^0.5*32.2/223/(T1)^0.5/((k-1)/2+1)^((k+1)/2/(k-1)))//in^2\n",
"ratio_A=((Ma^2*(k-1)/2+1)/((k-1)/2+1))^((k+1)/2/(k-1))/Ma//dimentionless\n",
"A=ratio_A*A0//in^2"
   ]
   }
,
{
		   "cell_type": "markdown",
		   "metadata": {},
		   "source": [
			"## Example 8.9: Temperature_of_gas.sce"
		   ]
		  },
  {
"cell_type": "code",
	   "execution_count": null,
	   "metadata": {
	    "collapsed": true
	   },
	   "outputs": [],
"source": [
"clc\n",
"//Example 8.9\n",
"//Calculate the temperatures at different pts in a duct with different mach numbers\n",
"//for mach number=0.5\n",
"ratio_T=0.9524//dimentionless\n",
"T1=293.15//K\n",
"T2=T1/ratio_T//K\n",
"printf('The temperature at the pt in the duct where mach number is 0.5 is %f K\n',T2);\n",
"//for mach number 2\n",
"ratio_t=0.5556//dimentionless\n",
"t2=293.15//K\n",
"t1=t2*ratio_t//K\n",
"printf('The temperature initially at the start of the nozzle is %f K',t1);"
   ]
   }
],
"metadata": {
		  "kernelspec": {
		   "display_name": "Scilab",
		   "language": "scilab",
		   "name": "scilab"
		  },
		  "language_info": {
		   "file_extension": ".sce",
		   "help_links": [
			{
			 "text": "MetaKernel Magics",
			 "url": "https://github.com/calysto/metakernel/blob/master/metakernel/magics/README.md"
			}
		   ],
		   "mimetype": "text/x-octave",
		   "name": "scilab",
		   "version": "0.7.1"
		  }
		 },
		 "nbformat": 4,
		 "nbformat_minor": 0
}
