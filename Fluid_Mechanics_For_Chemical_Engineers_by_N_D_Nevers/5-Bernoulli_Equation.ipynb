{
"cells": [
 {
		   "cell_type": "markdown",
	   "metadata": {},
	   "source": [
       "# Chapter 5: Bernoulli Equation"
	   ]
	},
{
		   "cell_type": "markdown",
		   "metadata": {},
		   "source": [
			"## Example 5.10: Pressure_difference.sce"
		   ]
		  },
  {
"cell_type": "code",
	   "execution_count": null,
	   "metadata": {
	    "collapsed": true
	   },
	   "outputs": [],
"source": [
"clc\n",
"//Example 5.10\n",
"//Calculate the pressure difference in a pipe\n",
"v1=1//m/s\n",
"d1=0.4//m\n",
"A1=(%pi)*d1^2/4//m^2\n",
"d2=0.2//m\n",
"A2=(%pi)*d2^2/4//m^2\n",
"v2=A1*v1/A2//m/s\n",
"Cv=0.62//dimentionless\n",
"rho_water=998.2//kg/m^3\n",
"dP=(rho_water*v2^2/2/Cv^2)*(1-(A2/A1)^2)/1000//KPa\n",
"printf('The pressure difference in the pipe is %f KPa',dP);"
   ]
   }
,
{
		   "cell_type": "markdown",
		   "metadata": {},
		   "source": [
			"## Example 5.11: volumetric_flow_rate.sce"
		   ]
		  },
  {
"cell_type": "code",
	   "execution_count": null,
	   "metadata": {
	    "collapsed": true
	   },
	   "outputs": [],
"source": [
"clc\n",
"//Example 5.11\n",
"//Calculate the flow rate of helium with rotameter caliberated with nitogen\n",
"M_N2=28//dimentionless\n",
"M_He=4//dimentionless\n",
"//Density is proportional to molecular weight\n",
"q_N2=100//cm^3/min\n",
"q_He=q_N2*(M_N2/M_He)^0.5//cm^3/min\n",
"printf('The flow rate of Helium is %f cm^3/min',q_He);"
   ]
   }
,
{
		   "cell_type": "markdown",
		   "metadata": {},
		   "source": [
			"## Example 5.12: Absolute_pressure.sce"
		   ]
		  },
  {
"cell_type": "code",
	   "execution_count": null,
	   "metadata": {
	    "collapsed": true
	   },
	   "outputs": [],
"source": [
"clc\n",
"//Example 5.12\n",
"//Calculate the absolute pressure at the top of a inverted manometer tube\n",
"p_atm=14.7//lbf/in^2\n",
"g=32.2//ft/s^2\n",
"//one end of the inverted manometer is immersed in a tank and the other end is open to atmosphere 10 ft below tank level\n",
"//pt 1 is at tank water level, pt 2 is at top of inverted manometer and pt3 is at the other end of manometer\n",
"dh=10//ft\n",
"v3=(2*g*dh)^0.5//ft/s\n",
"p1=p_atm//lbf/in^2\n",
"rho_water=62.3//lbm/ft^3\n",
"//Difference of height between pt 1 and pt 2 is 40 ft\n",
"dh1=40//dft\n",
"p2=p1-(rho_water*v3^2/2/32.2/144)-(rho_water*g*dh1)/32.2/144//lbf/in^2\n",
"printf('The absolute pressure at the top of the inverted manometer is %f lbf/in^2',p2);"
   ]
   }
,
{
		   "cell_type": "markdown",
		   "metadata": {},
		   "source": [
			"## Example 5.13: Pressure_at_throat.sce"
		   ]
		  },
  {
"cell_type": "code",
	   "execution_count": null,
	   "metadata": {
	    "collapsed": true
	   },
	   "outputs": [],
"source": [
"clc\n",
"//Example 5.13\n",
"//Calculate pressure at the throat in a venturimeter\n",
"dP=10//psi or lbf/in^2\n",
"rho_water=62.3//lbm/ft^3\n",
"//1ft = 12in\n",
"//1 lbf.s^2 = 32.2 lbm.ft\n",
"v3=(2*dP*144*32.2/rho_water)^0.5//ft/s\n",
"printf('The velocity of water after the throat is %f ft/s\n',v3);\n",
"ratio_A=0.5//dimentionless (ratio of throat area to pipe area)\n",
"v2=v3/ratio_A//ft/s\n",
"printf('The velocity of water at the throat is %f ft/s\n',v2);\n",
"P1=24.7//psia\n",
"rho_water=62.3//lbm/ft^3\n",
"P2=P1-(rho_water)*v2^2/32.2/144/2//psia\n",
"printf('The pressure of water at the throat is %f psia',P2);"
   ]
   }
,
{
		   "cell_type": "markdown",
		   "metadata": {},
		   "source": [
			"## Example 5.1: Increase_in_temperature.sce"
		   ]
		  },
  {
"cell_type": "code",
	   "execution_count": null,
	   "metadata": {
	    "collapsed": true
	   },
	   "outputs": [],
"source": [
"clc\n",
"//Example 5.1\n",
"//Calculate the increase in temperature due to falling water of waterfall\n",
"g=9.81;//m/s^2 acc. due to gravity\n",
"dz=100;//m Height of waterfall\n",
"du=g*dz;//J/kg Change in internal energy\n",
"Cv=4184;//J/kg/K;\n",
"dT=du/Cv//K Change in temperature\n",
"printf('Change in temperature is %f K or degree centigrade',dT);"
   ]
   }
,
{
		   "cell_type": "markdown",
		   "metadata": {},
		   "source": [
			"## Example 5.2: Velocity.sce"
		   ]
		  },
  {
"cell_type": "code",
	   "execution_count": null,
	   "metadata": {
	    "collapsed": true
	   },
	   "outputs": [],
"source": [
"clc\n",
"//Example 5.2\n",
"//calculate velocity of air coming out from the nozzle\n",
"T=528;//R Rankine scale\n",
"R=10.73;//psi.ft^3/R/lbmol universal gas constant\n",
"p=14.71;//psi\n",
"p_atm=14.7;//psi\n",
"M=29;//lbm/lbmol\n",
"//considering the velocity at the start of the nozzle is negligible\n",
"v=((2*R*T/p/M)*(p-p_atm)*(144*32.2))^0.5;//ft/s\n",
"printf('Velocity of the air flowing out of the pipe %f ft/s',v);"
   ]
   }
,
{
		   "cell_type": "markdown",
		   "metadata": {},
		   "source": [
			"## Example 5.3: Velocity.sce"
		   ]
		  },
  {
"cell_type": "code",
	   "execution_count": null,
	   "metadata": {
	    "collapsed": true
	   },
	   "outputs": [],
"source": [
"clc\n",
"//Example 5.3\n",
"//Calculate the velocity of water flowing out of a nozzle at the bottom of a tank\n",
"g=32.2;//ft/s^2\n",
"h=30;//ft height tank\n",
"//considering the velocityof water at the top of the tank is negligible\n",
"v=(2*g*h)^0.5;//ft/s\n",
"printf('The velocity of the water flowing out through the nozzle is %f ft/s',v);"
   ]
   }
,
{
		   "cell_type": "markdown",
		   "metadata": {},
		   "source": [
			"## Example 5.4: Velocity.sce"
		   ]
		  },
  {
"cell_type": "code",
	   "execution_count": null,
	   "metadata": {
	    "collapsed": true
	   },
	   "outputs": [],
"source": [
"clc\n",
"//Example 5.4\n",
"//calculate velocity of water flowing out of nozzle\n",
"A_nozzle=1//ft^2\n",
"A_tank=4//ft^2\n",
"g=32.2//ft/s^2\n",
"h=30//ft\n",
"v=(2*g*h/(1-(A_nozzle/A_tank)^2))^0.5//ft/s\n",
"printf('The velocity of water flowing out of nozzle is %f ft/s',v);"
   ]
   }
,
{
		   "cell_type": "markdown",
		   "metadata": {},
		   "source": [
			"## Example 5.5: Velocity.sce"
		   ]
		  },
  {
"cell_type": "code",
	   "execution_count": null,
	   "metadata": {
	    "collapsed": true
	   },
	   "outputs": [],
"source": [
"clc\n",
"//Example 5.5\n",
"//calculate the velocity of water flowing out of a nozzle\n",
"g=32.2//ft/s^2\n",
"h=30//ft\n",
"M_air=29//dimentionless (molecular weight)\n",
"M_CO2=44//dimentionless (molecular weight)\n",
"v=(2*g*h*(1-(M_air/M_CO2)))^0.5//ft/s\n",
"printf('The velocity of water flowing out of nozzle is %f ft/s',v);"
   ]
   }
,
{
		   "cell_type": "markdown",
		   "metadata": {},
		   "source": [
			"## Example 5.6: Velocity.sce"
		   ]
		  },
  {
"cell_type": "code",
	   "execution_count": null,
	   "metadata": {
	    "collapsed": true
	   },
	   "outputs": [],
"source": [
"clc\n",
"//Example 5.6\n",
"//calculate velocity of sailboat using pitot tube\n",
"h=1//m height of water above the water level\n",
"g=9.81//m/s^2\n",
"v=(2*g*h)^0.5//m/s\n",
"printf('The velocity of sailboat is %f m/s',v);"
   ]
   }
,
{
		   "cell_type": "markdown",
		   "metadata": {},
		   "source": [
			"## Example 5.7: Velocity.sce"
		   ]
		  },
  {
"cell_type": "code",
	   "execution_count": null,
	   "metadata": {
	    "collapsed": true
	   },
	   "outputs": [],
"source": [
"clc\n",
"//Example 5.7\n",
"//Calculate velocity of air flowing through an air duct\n",
"dP=0.05//psi or lbf/in^2\n",
"rho_air=0.075//lbm/ft^3\n",
"//1ft = 12in\n",
"//1 lbf.s^2 = 32.2 lbm.ft\n",
"v=(2*dP*144*32.2/rho_air)^0.5//ft/s\n",
"printf('The velocity of air in the air duct is %f ft/s',v);"
   ]
   }
,
{
		   "cell_type": "markdown",
		   "metadata": {},
		   "source": [
			"## Example 5.8: volumetric_flow_rate.sce"
		   ]
		  },
  {
"cell_type": "code",
	   "execution_count": null,
	   "metadata": {
	    "collapsed": true
	   },
	   "outputs": [],
"source": [
"clc\n",
"//Example 5.8\n",
"//calculate volumetric flow rate using a venturi-meter\n",
"dP=1//psi\n",
"rho_water=62.3//lbm/ft^3\n",
"d1=1//ft area at pt 1 in venturimeter\n",
"A1=(%pi)*d1^2/4//ft^2\n",
"d2=0.5//ft\n",
"A2=(%pi)*d2^2/4//ft^2\n",
"//1ft = 12in\n",
"//1 lbf.s^2 = 32.2 lbm.ft\n",
"v=((2*dP*144*32.2/rho_water)/(1-(A2/A1)^2))^0.5//ft/s\n",
"printf('The velocity of the water flowing through venturimeter is %f ft/s\n',v);\n",
"q=v*A2//ft^3/s\n",
"printf('The volumetric flow rate of water is %f ft^3/s',q);"
   ]
   }
,
{
		   "cell_type": "markdown",
		   "metadata": {},
		   "source": [
			"## Example 5.9: volumetric_flow_rate.sce"
		   ]
		  },
  {
"cell_type": "code",
	   "execution_count": null,
	   "metadata": {
	    "collapsed": true
	   },
	   "outputs": [],
"source": [
"clc\n",
"//Example 5.9\n",
"//calculate actual volumetric flow rate using a venturi-meter\n",
"dP=1//psi\n",
"rho_water=62.3//lbm/ft^3\n",
"d1=1//ft area at pt 1 in venturimeter\n",
"A1=(%pi)*d1^2/4//ft^2\n",
"d2=0.5//ft\n",
"A2=(%pi)*d2^2/4//ft^2\n",
"//1ft = 12in\n",
"//1 lbf.s^2 = 32.2 lbm.ft\n",
"v_th=((2*dP*144*32.2/rho_water)/(1-(A2/A1)^2))^0.5//ft/s\n",
"Cv=0.984//dimentionless\n",
"v_act=Cv*v_th//ft/s actual velocity\n",
"printf('The velocity of the water flowing through venturimeter is %f ft/s\n',v_act);\n",
"q=v_act*A2//ft^3/s\n",
"printf('The volumetric flow rate of water is %f ft^3/s',q);"
   ]
   }
],
"metadata": {
		  "kernelspec": {
		   "display_name": "Scilab",
		   "language": "scilab",
		   "name": "scilab"
		  },
		  "language_info": {
		   "file_extension": ".sce",
		   "help_links": [
			{
			 "text": "MetaKernel Magics",
			 "url": "https://github.com/calysto/metakernel/blob/master/metakernel/magics/README.md"
			}
		   ],
		   "mimetype": "text/x-octave",
		   "name": "scilab",
		   "version": "0.7.1"
		  }
		 },
		 "nbformat": 4,
		 "nbformat_minor": 0
}
