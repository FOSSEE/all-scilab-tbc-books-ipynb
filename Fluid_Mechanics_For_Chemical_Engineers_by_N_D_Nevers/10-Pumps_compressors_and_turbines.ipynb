{
"cells": [
 {
		   "cell_type": "markdown",
	   "metadata": {},
	   "source": [
       "# Chapter 10: Pumps compressors and turbines"
	   ]
	},
{
		   "cell_type": "markdown",
		   "metadata": {},
		   "source": [
			"## Example 10.1: Efficiency_of_pump.sce"
		   ]
		  },
  {
"cell_type": "code",
	   "execution_count": null,
	   "metadata": {
	    "collapsed": true
	   },
	   "outputs": [],
"source": [
"clc\n",
"//Example 10.1\n",
"//Calculate the efficiency of a pump\n",
"Q=50//gal/min\n",
"P1=30//psia 0r lbf/in^2\n",
"P2=100//psia 0r lbf/in^2\n",
"dP=P2-P1//psia 0r lbf/in^2\n",
"power=2.8//hp\n",
"//1 ft = 12 in\n",
"//1 hp.min = 33000 lbf.ft\n",
"//1 gal = 231 in^3\n",
"eta=(Q*dP/power)*(1/33000)*231*(1/12)//dimentionless\n",
"printf('The efficiency of the pump is %f',eta);"
   ]
   }
,
{
		   "cell_type": "markdown",
		   "metadata": {},
		   "source": [
			"## Example 10.2: Elevatio.sce"
		   ]
		  },
  {
"cell_type": "code",
	   "execution_count": null,
	   "metadata": {
	    "collapsed": true
	   },
	   "outputs": [],
"source": [
"clc\n",
"//Example 10.2\n",
"//Calculate the maximum elevation above the lowest water level in sump at which pump inlet can be placed\n",
"P1=3.72//psia 0r lbf/in^2\n",
"P2=14.5//psia 0r lbf/in^2\n",
"dP=P2-P1//psia 0r lbf/in^2\n",
"rho=61.3//lbm/ft^3\n",
"g=32.2//ft/s^2\n",
"//1 ft = 12 in\n",
"//1 lbf.s^2 = 32.2 lbm.ft\n",
"h_loss=4//ft\n",
"v=10//ft/s\n",
"h_max=(dP/rho/g)*144*32.2-(v^2/2/g)-h_loss//ft\n",
"printf('the maximum elevation above the lowest water level in sump at which pump inlet can be placed is %f ft',h_max);"
   ]
   }
,
{
		   "cell_type": "markdown",
		   "metadata": {},
		   "source": [
			"## Example 10.3: Work.sce"
		   ]
		  },
  {
"cell_type": "code",
	   "execution_count": null,
	   "metadata": {
	    "collapsed": true
	   },
	   "outputs": [],
"source": [
"clc\n",
"//Example 10.3\n",
"//Calculate the work requird per pound mole for a 100% efficient isothermal and adiabatic compressor\n",
"R=1.987//Btu/lbmol/R (universal gas constant)\n",
"T=528//R (Rankine temperature scale)\n",
"ratio_P=10//dimentionless\n",
"//for isothermal compressor\n",
"W1=R*T*log(ratio_P)//Btu/lbmol\n",
"printf('The work required per pound mole for a 100 percent efficient isothermal compressor is %f ',W1);\n",
"printf('Btu/lbmol\n');\n",
"//for adiabatic compressor\n",
"gama=1.4//dimentionless\n",
"W2=(gama/(gama-1))*R*T*(ratio_P^((gama-1)/gama)-1)//Btu/lbmol\n",
"printf('The work required per pound mole for a 100 percent efficient adiabatic compressor is %f ',W2);\n",
"printf('Btu/lbmol');"
   ]
   }
,
{
		   "cell_type": "markdown",
		   "metadata": {},
		   "source": [
			"## Example 10.4: Work.sce"
		   ]
		  },
  {
"cell_type": "code",
	   "execution_count": null,
	   "metadata": {
	    "collapsed": true
	   },
	   "outputs": [],
"source": [
"clc\n",
"//Example 10.4\n",
"//Calculate the work requird per pound mole for a 100% efficient 2 stage adiabatic compressor\n",
"R=1.987//Btu/lbmol/R (universal gas constant)\n",
"T=528//R (Rankine temperature scale)\n",
"ratio_P1=3//dimentionless\n",
"ratio_P2=10/3//dimentionless\n",
"gama=1.4//dimentionless\n",
"W=(gama/(gama-1))*R*T*((ratio_P1^((gama-1)/gama)-1)+(ratio_P2^((gama-1)/gama)-1))//Btu/lbmol\n",
"printf('The work required per pound mole for a 100 percent efficient adiabatic compressor is %f ',W);\n",
"printf('Btu/lbmol');"
   ]
   }
,
{
		   "cell_type": "markdown",
		   "metadata": {},
		   "source": [
			"## Example 10.5: Pump_head.sce"
		   ]
		  },
  {
"cell_type": "code",
	   "execution_count": null,
	   "metadata": {
	    "collapsed": true
	   },
	   "outputs": [],
"source": [
"clc\n",
"//Example 10.5\n",
"//Calculate the pump head\n",
"N=1750//rev/min\n",
"//1 min 60 sec\n",
"omega=2*(%pi)*N/60//radians/sec\n",
"Q=100//gal/min\n",
"//1 gallon = 231 in^3\n",
"//1 ft =12 in\n",
"//1 min = 60 sec\n",
"d_inlet = 2.067//ft\n",
"A_inlet=(%pi)/4*(d_inlet^2)//ft^2\n",
"V1=(Q/A_inlet)*231/60/12//ft/s\n",
"d_outlet = 1.61//ft\n",
"A_outlet=(%pi)/4*(d_outlet^2)//ft^2\n",
"V2=(Q/A_outlet)*231/60/12//ft/s\n",
"g=32.2//ft/s^2\n",
"d_inner=0.086//ft\n",
"d_outer=0.336//ft\n",
"h=(omega)^2/g*((d_outer^2)-(d_inner)^2)+(V2^2-V1^2)/2/g//ft\n",
"printf('The pump head is %f ft',h);"
   ]
   }
,
{
		   "cell_type": "markdown",
		   "metadata": {},
		   "source": [
			"## Example 10.6: Pump_head.sce"
		   ]
		  },
  {
"cell_type": "code",
	   "execution_count": null,
	   "metadata": {
	    "collapsed": true
	   },
	   "outputs": [],
"source": [
"clc\n",
"//Example 10.6\n",
"//Calculate the pump head\n",
"rho=62.3//lbm/ft^3\n",
"g=32.2//ft/s^2\n",
"v=18.46//ft/s\n",
"//1 lbf/s^2 = 32.2 lbm.ft\n",
"h=(v^2/2)*32.2/rho/g//ft\n",
"printf('The pump head is %f ft',h);"
   ]
   }
,
{
		   "cell_type": "markdown",
		   "metadata": {},
		   "source": [
			"## Example 10.7: Pressure_rise.sce"
		   ]
		  },
  {
"cell_type": "code",
	   "execution_count": null,
	   "metadata": {
	    "collapsed": true
	   },
	   "outputs": [],
"source": [
"clc\n",
"//Example 10.7\n",
"//Calculate the estimated pressure rise in the first stage of mutisatge centrifugal compressor\n",
"rho=0.075//lbm/ft^3\n",
"omega=1047//rad/sec\n",
"d=2//ft\n",
"dP=(1/2)*(rho)*(omega*d/2)^2/32.2/144//psia\n",
"//1 lbf.s^2 = 32.2 lbm into feed\n",
"//1 ft = 144 in^2\n",
"printf('the estimated pressure rise in the first stage of mutisatge centrifugal compressor is %f psia',dP);"
   ]
   }
,
{
		   "cell_type": "markdown",
		   "metadata": {},
		   "source": [
			"## Example 10.8: Efficiency_of_compressor.sce"
		   ]
		  },
  {
"cell_type": "code",
	   "execution_count": null,
	   "metadata": {
	    "collapsed": true
	   },
	   "outputs": [],
"source": [
"clc\n",
"//Example 10.8\n",
"//Calculate the efficiency of a compressor and the change respective change in temperature\n",
"m=100//Kg/hr\n",
"M=29//gm/mol\n",
"gama=1.4//dimentionless\n",
"R=8.314//J/mol/K\n",
"T=293.15//K\n",
"ratio_P=4//dimentionless\n",
"Po=(m/M)*R*T*(gama/(gama-1))*((ratio_P)^((gama-1)/gama)-1)/3600//kW\n",
"P_real=5.3//kW\n",
"eta=Po/P_real//dimentionless\n",
"printf('The efficiency of the compressor is %f\n',eta);\n",
"Cp=29.1//J/mol/K\n",
"dT_real=P_real*(M/m)*3600/Cp//K\n",
"printf('dT_real = %f K\n',dT_real);\n",
"dT_isentropic=Po*(M/m)*3600/Cp//K\n",
"printf('dT_isentropic = %f K',dT_isentropic);"
   ]
   }
],
"metadata": {
		  "kernelspec": {
		   "display_name": "Scilab",
		   "language": "scilab",
		   "name": "scilab"
		  },
		  "language_info": {
		   "file_extension": ".sce",
		   "help_links": [
			{
			 "text": "MetaKernel Magics",
			 "url": "https://github.com/calysto/metakernel/blob/master/metakernel/magics/README.md"
			}
		   ],
		   "mimetype": "text/x-octave",
		   "name": "scilab",
		   "version": "0.7.1"
		  }
		 },
		 "nbformat": 4,
		 "nbformat_minor": 0
}
