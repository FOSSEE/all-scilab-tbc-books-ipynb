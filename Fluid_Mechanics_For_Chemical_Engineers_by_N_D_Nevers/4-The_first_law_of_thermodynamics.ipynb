{
"cells": [
 {
		   "cell_type": "markdown",
	   "metadata": {},
	   "source": [
       "# Chapter 4: The first law of thermodynamics"
	   ]
	},
{
		   "cell_type": "markdown",
		   "metadata": {},
		   "source": [
			"## Example 4.1: Change_in_potential_energy.sce"
		   ]
		  },
  {
"cell_type": "code",
	   "execution_count": null,
	   "metadata": {
	    "collapsed": true
	   },
	   "outputs": [],
"source": [
"clc\n",
"//Example 4.1\n",
"//calculate change in pot. energy per unit mass and total change in pot. energy\n",
"g=9.81;//m/s^2 acc. due to gravity\n",
"dh=23;//m change in height\n",
"dpe=g*dh//m^2/s^2 change in pot energy per unit mass\n",
"printf('change in pot. energy per unit mass is %f m^2/s^2\n',dpe);\n",
"m=10;//kg\n",
"dPE=m*dpe//kgm^2/s^2 or J change in pot. energy \n",
"printf('The total change in potential energy is %f J',dPE);"
   ]
   }
,
{
		   "cell_type": "markdown",
		   "metadata": {},
		   "source": [
			"## Example 4.2: Kinetic_energy.sce"
		   ]
		  },
  {
"cell_type": "code",
	   "execution_count": null,
	   "metadata": {
	    "collapsed": true
	   },
	   "outputs": [],
"source": [
"clc\n",
"//Example 4.2\n",
"//calculate the kinetic energy of bullet\n",
"m=0.01;//lbm mass of bullet\n",
"v=2000;//ft/s\n",
"KE=(m*v^2/2)*(1.356/32.2)//J\n",
"printf('the kinetic energy of bullet is %f J',KE);"
   ]
   }
,
{
		   "cell_type": "markdown",
		   "metadata": {},
		   "source": [
			"## Example 4.3: Kinetic_energy.sce"
		   ]
		  },
  {
"cell_type": "code",
	   "execution_count": null,
	   "metadata": {
	    "collapsed": true
	   },
	   "outputs": [],
"source": [
"clc\n",
"//Example 4.3\n",
"//Calculate the kinetic energy of bullet fired from a airplane\n",
"v_bp=2000;//ft/s vel of bullet wrt plane\n",
"v_p=-1990;//ft/s\n",
"v_b=v_bp+v_p//ft/s vel of bullet wrt ground\n",
"m=0.01;//lbm\n",
"KE=(m*v_b^2/2)*(1.356/32.2)//J\n",
"printf('the kinetic energy of bullet fired from a airplane is %f J',KE);"
   ]
   }
,
{
		   "cell_type": "markdown",
		   "metadata": {},
		   "source": [
			"## Example 4.4: Change_in_internal_energy.sce"
		   ]
		  },
  {
"cell_type": "code",
	   "execution_count": null,
	   "metadata": {
	    "collapsed": true
	   },
	   "outputs": [],
"source": [
"clc\n",
"//Example 4.4\n",
"//calculate the change in internal energy of the system\n",
"p=14.7;//lbf/in^2 atmospheric pressure\n",
"dV=1;//ft^3 change in volume\n",
"dW=p*dV*(144/778)//Btu work done\n",
"dQ=-42;//Btu heat removed from the system\n",
"dU=dQ-dW//Btu change in internal energy of the system\n",
"printf('the change in internal energy of the system is %f Btu',dU);"
   ]
   }
,
{
		   "cell_type": "markdown",
		   "metadata": {},
		   "source": [
			"## Example 4.5: Work.sce"
		   ]
		  },
  {
"cell_type": "code",
	   "execution_count": null,
	   "metadata": {
	    "collapsed": true
	   },
	   "outputs": [],
"source": [
"clc\n",
"//Example 4.5\n",
"//calculate the work done\n",
"//work done=change in pot. energy + change in kinetic energy considering steady flow and adiabatic conditions\n",
"v_in=3;//m/s\n",
"v_out=10;//m/s\n",
"dke=(v_in^2-v_out^2)/2;//m^2/s^2\n",
"g=9.81;//m/s^2\n",
"dh=15;//m change in height in inlet and outlet\n",
"dpe=g*dh;//m^2/s^2\n",
"W=dpe+dke//J/kg\n",
"printf('The work done is %f J/Kg',W);"
   ]
   }
,
{
		   "cell_type": "markdown",
		   "metadata": {},
		   "source": [
			"## Example 4.6: Mass_consumed_in_nuclear_reactor.sce"
		   ]
		  },
  {
"cell_type": "code",
	   "execution_count": null,
	   "metadata": {
	    "collapsed": true
	   },
	   "outputs": [],
"source": [
"clc\n",
"//Example 4.6\n",
"//calculate the mass consumed in a nuclear reactor per unit time\n",
"//let D=d/dt\n",
"DQ=-13*10^8;//J/s\n",
"DW=7*10^8;//J/s\n",
"//Dm=(DQ-DW)/c^2 where c is velocity of light sice E=mc^2\n",
"c=3*10^8;//m/s\n",
"c1=3;//velocity of light without power\n",
"pow=8//power of 10 in speed of light \n",
"Dm=(DW-DQ)/c/c1//kg/s\n",
"printf('the mass consumed in a nuclear reactor per unit time is %f * 10^(-%d) kg/s',Dm,pow);"
   ]
   }
],
"metadata": {
		  "kernelspec": {
		   "display_name": "Scilab",
		   "language": "scilab",
		   "name": "scilab"
		  },
		  "language_info": {
		   "file_extension": ".sce",
		   "help_links": [
			{
			 "text": "MetaKernel Magics",
			 "url": "https://github.com/calysto/metakernel/blob/master/metakernel/magics/README.md"
			}
		   ],
		   "mimetype": "text/x-octave",
		   "name": "scilab",
		   "version": "0.7.1"
		  }
		 },
		 "nbformat": 4,
		 "nbformat_minor": 0
}
