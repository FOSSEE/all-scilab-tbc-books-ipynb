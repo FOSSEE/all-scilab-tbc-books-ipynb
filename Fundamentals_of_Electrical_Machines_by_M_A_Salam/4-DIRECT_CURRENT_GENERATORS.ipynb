{
"cells": [
 {
		   "cell_type": "markdown",
	   "metadata": {},
	   "source": [
       "# Chapter 4: DIRECT CURRENT GENERATORS"
	   ]
	},
{
		   "cell_type": "markdown",
		   "metadata": {},
		   "source": [
			"## Example 4.10: determine_flux_per_pole.sce"
		   ]
		  },
  {
"cell_type": "code",
	   "execution_count": null,
	   "metadata": {
	    "collapsed": true
	   },
	   "outputs": [],
"source": [
"// FUNDAMENTALS OF ELECTICAL MACHINES \n",
"// M.A.SALAM \n",
"// NAROSA PUBLISHING HOUSE \n",
"// SECOND EDITION\n",
"\n",
"// Chapter 4 : DIRECT CURRENT GENERATORS\n",
"// Example : 4.10\n",
"\n",
"clc;clear; // clears the console and command history \n",
"\n",
"// Given data\n",
"Pw = 12         // power in kW\n",
"P = 4           // number of poles\n",
"Z = 500         // number of conductors\n",
"V_t = 250       // generator voltage in V\n",
"N = 1000        // speed in rpm\n",
"P_cu = 600      // full load copper loss in W\n",
"brush_drop = 2  // brush drop in V\n",
"\n",
"// caclulations \n",
"A = 4                        // for lab wound A=P\n",
"I_a = Pw*10^3/V_t            // armature current in A\n",
"R_a = P_cu/I_a^2             // from copper loss equestion R_a in ohm\n",
"E_g = V_t+I_a*R_a+brush_drop // generated voltage in V\n",
"phi = E_g*60*A/(P*Z*N)       // flux per pole in Wb\n",
"\n",
"\n",
"// display the result \n",
"disp('Example 4.10 solution');\n",
"printf(' \n Flux per pole \n phi = %.3f Wb \n', phi );"
   ]
   }
,
{
		   "cell_type": "markdown",
		   "metadata": {},
		   "source": [
			"## Example 4.11: determine_induced_voltage_and_efficiency.sce"
		   ]
		  },
  {
"cell_type": "code",
	   "execution_count": null,
	   "metadata": {
	    "collapsed": true
	   },
	   "outputs": [],
"source": [
"// FUNDAMENTALS OF ELECTICAL MACHINES \n",
"// M.A.SALAM \n",
"// NAROSA PUBLISHING HOUSE \n",
"// SECOND EDITION\n",
"\n",
"// Chapter 4 : DIRECT CURRENT GENERATORS\n",
"// Example : 4.11\n",
"\n",
"clc;clear; // clears the console and command history \n",
"\n",
"// Given data\n",
"P = 4             // number of poles\n",
"I_L = 25          // generator delivering current in A\n",
"V_t = 230         // generator terminal voltage in V\n",
"R_a = 0.2         // armature resistance in ohm\n",
"R_sh = 55         // shunt field resistance in ohm\n",
"brush_drop = 1    // brush drop in V\n",
"\n",
"// caclulations \n",
"I_sh = V_t/R_sh              // shunt field current in A\n",
"I_a = I_L+I_sh               // armature current in A\n",
"E_g = V_t+I_a*R_a+brush_drop // induced voltage in V\n",
"P_arm = E_g*I_a              // power generated in armature in W\n",
"P_L = V_t*I_L                // power absorbed by load in W\n",
"n = (P_L/P_arm)*100          // efficiency\n",
"\n",
"// display the result \n",
"disp('Example 4.11 solution');\n",
"printf(' \n Induced voltage \n E_g = %.1f V \n', E_g );\n",
"printf(' \n Efficiency \n n = %.1f percent \n', n );"
   ]
   }
,
{
		   "cell_type": "markdown",
		   "metadata": {},
		   "source": [
			"## Example 4.2: determine_induced_voltage.sce"
		   ]
		  },
  {
"cell_type": "code",
	   "execution_count": null,
	   "metadata": {
	    "collapsed": true
	   },
	   "outputs": [],
"source": [
"// FUNDAMENTALS OF ELECTICAL MACHINES \n",
"// M.A.SALAM \n",
"// NAROSA PUBLISHING HOUSE \n",
"// SECOND EDITION\n",
"\n",
"// Chapter 4 : DIRECT CURRENT GENERATORS\n",
"// Example : 4.2\n",
"\n",
"\n",
"clc;clear; // clears the console and command history \n",
"\n",
"// Given data\n",
"l = 0.65 // length of conductor in m\n",
"v = 35   // speed in m/s\n",
"B = 0.8  // magnetic flux density in T\n",
"\n",
"// caclulations \n",
"e = B*l*v // induced voltage in V\n",
"\n",
"// display the result \n",
"disp('Example 4.2 solution');\n",
"printf(' \n Induced voltage \n e = %.1f V \n', e);\n",
""
   ]
   }
,
{
		   "cell_type": "markdown",
		   "metadata": {},
		   "source": [
			"## Example 4.3: determine_induced_voltage.sce"
		   ]
		  },
  {
"cell_type": "code",
	   "execution_count": null,
	   "metadata": {
	    "collapsed": true
	   },
	   "outputs": [],
"source": [
"// FUNDAMENTALS OF ELECTICAL MACHINES \n",
"// M.A.SALAM \n",
"// NAROSA PUBLISHING HOUSE \n",
"// SECOND EDITION\n",
"\n",
"// Chapter 4 : DIRECT CURRENT GENERATORS\n",
"// Example : 4.3\n",
"\n",
"\n",
"clc;clear; // clears the console and command history \n",
"\n",
"// Given data\n",
"l = 1.5    // length of conductor in m\n",
"v = 20     // speed in m/s\n",
"B = 0.9    // magnetic flux density in Wb/m^2\n",
"teta = 35  // angle of rotation in degree\n",
"\n",
"// caclulations \n",
"e = B*l*v*sind(teta) // induced voltage in V\n",
"\n",
"// display the result \n",
"disp('Example 4.3 solution');\n",
"printf(' \n Induced voltage \n e = %.1f V \n', e);\n",
""
   ]
   }
,
{
		   "cell_type": "markdown",
		   "metadata": {},
		   "source": [
			"## Example 4.4: calculate_generated_emf.sce"
		   ]
		  },
  {
"cell_type": "code",
	   "execution_count": null,
	   "metadata": {
	    "collapsed": true
	   },
	   "outputs": [],
"source": [
"// FUNDAMENTALS OF ELECTICAL MACHINES \n",
"// M.A.SALAM \n",
"// NAROSA PUBLISHING HOUSE \n",
"// SECOND EDITION\n",
"\n",
"// Chapter 4 : DIRECT CURRENT GENERATORS\n",
"// Example : 4.4\n",
"\n",
"\n",
"clc;clear; // clears the console and command history \n",
"\n",
"// Given data\n",
"P = 4       // number of poles\n",
"Z = 40*10   // number of conductors\n",
"phi = 0.02  // flux per pole in Wb\n",
"N = 1200    // speed in rpm\n",
"\n",
"// caclulations \n",
"A = P/2\n",
"E_g = (P*phi*Z*N)/(60*A) // generated voltage in V\n",
"\n",
"// display the result \n",
"disp('Example 4.4 solution');\n",
"printf('\n Generated voltage \n E_g = %.0f V \n', E_g);\n",
""
   ]
   }
,
{
		   "cell_type": "markdown",
		   "metadata": {},
		   "source": [
			"## Example 4.5: find_electromagnetic_torque.sce"
		   ]
		  },
  {
"cell_type": "code",
	   "execution_count": null,
	   "metadata": {
	    "collapsed": true
	   },
	   "outputs": [],
"source": [
"// FUNDAMENTALS OF ELECTICAL MACHINES \n",
"// M.A.SALAM \n",
"// NAROSA PUBLISHING HOUSE \n",
"// SECOND EDITION\n",
"\n",
"// Chapter 4 : DIRECT CURRENT GENERATORS\n",
"// Example : 4.5\n",
"\n",
"\n",
"clc;clear; // clears the console and command history \n",
"\n",
"// Given data\n",
"P = 6 // number of poles\n",
"Z = 600 // number of conductors\n",
"phi = 0.05 // flux per pole in Wb\n",
"N = 1000 // speed in rpm\n",
"I_a = 120 // generetor supply current in A\n",
"\n",
"// caclulations \n",
"A=6 // for lap-wound A=P\n",
"E_g = (P*phi*Z*N)/(60*A) // generated voltage in V\n",
"T_em = ((P*Z*phi)/(2*%pi*A))*I_a // electromagnetic torque in N-m\n",
"\n",
"\n",
"// display the result \n",
"disp('Example 4.5 solution');\n",
"printf(' \n Generated voltage \n E_g = %.0f V \n', E_g);\n",
"printf(' \n Electromagnetic torque \n T_em = %.2f N-m \n', T_em);"
   ]
   }
,
{
		   "cell_type": "markdown",
		   "metadata": {},
		   "source": [
			"## Example 4.6: calculate_the_generated_voltage.sce"
		   ]
		  },
  {
"cell_type": "code",
	   "execution_count": null,
	   "metadata": {
	    "collapsed": true
	   },
	   "outputs": [],
"source": [
"// FUNDAMENTALS OF ELECTICAL MACHINES \n",
"// M.A.SALAM \n",
"// NAROSA PUBLISHING HOUSE \n",
"// SECOND EDITION\n",
"\n",
"// Chapter 4 : DIRECT CURRENT GENERATORS\n",
"// Example : 4.6\n",
"\n",
"\n",
"clc;clear; // clears the console and command history \n",
"\n",
"// Given data\n",
"V_t = 220    // shunt generator voltage in V\n",
"I = 250      // shunt generator current in A\n",
"R_sh = 50    // shunt field resistance in ohm\n",
"R_a = 0.02   // armature resistance in ohm\n",
"\n",
"// caclulations \n",
"I_sh = V_t/R_sh   // shunt field current in A\n",
"I_a = I+I_sh      // armature current in A\n",
"E_g = V_t+I_a*R_a // generated voltage in V\n",
"\n",
"\n",
"// display the result \n",
"disp('Example 4.6 solution');\n",
"printf(' \n Generated voltage \n E_g = %.2f V \n', E_g);\n",
""
   ]
   }
,
{
		   "cell_type": "markdown",
		   "metadata": {},
		   "source": [
			"## Example 4.7: determine_generated_emf.sce"
		   ]
		  },
  {
"cell_type": "code",
	   "execution_count": null,
	   "metadata": {
	    "collapsed": true
	   },
	   "outputs": [],
"source": [
"// FUNDAMENTALS OF ELECTICAL MACHINES \n",
"// M.A.SALAM \n",
"// NAROSA PUBLISHING HOUSE \n",
"// SECOND EDITION\n",
"\n",
"// Chapter 4 : DIRECT CURRENT GENERATORS\n",
"// Example : 4.7\n",
"\n",
"\n",
"clc;clear; // clears the console and command history \n",
"\n",
"// Given data\n",
"E = 25 // power of compound generator in kW\n",
"V_t = 220 // terminal voltage in V\n",
"R_se = 0.05    // series resistance in ohm\n",
"R_sh = 55    // shunt field resistance in ohm\n",
"R_a = 0.07   // armature resistance in ohm\n",
"brush_drop = 1 // voltage drop per brush in V\n",
"\n",
"// caclulations \n",
"I_L = E*10^3/V_t // load current in A\n",
"I_sh1 = V_t/R_sh // shunt field current in A\n",
"I_a1 = I_sh1+I_L // armature current in A\n",
"E_g1 = V_t+I_a1*(R_a+R_se)+2*brush_drop // generator voltage in V\n",
"V_ab = V_t+I_L*R_se // voltage across the shunt field in V for short shunt generator\n",
"I_sh2 = V_ab/R_sh // current in the shunt field in A for short shunt generator\n",
"I_a2 = I_sh2+I_L // armature current in A for short shunt generator\n",
"E_g2 = V_ab+I_a2*R_a+2*brush_drop // generator voltage in V for short shunt generator\n",
"\n",
"// display the result \n",
"disp('Example 4.7 solution');\n",
"printf(' \n Generated emf when generatar is connected in long shunt \n E_g1 = %.f V \n', E_g1);\n",
"printf(' \n Generated emf when generatar is connected in short shunt \n E_g2 = %.1f V \n', E_g2);\n",
""
   ]
   }
,
{
		   "cell_type": "markdown",
		   "metadata": {},
		   "source": [
			"## Example 4.8: determine_the_generated_volatge_and_PD.sce"
		   ]
		  },
  {
"cell_type": "code",
	   "execution_count": null,
	   "metadata": {
	    "collapsed": true
	   },
	   "outputs": [],
"source": [
"// FUNDAMENTALS OF ELECTICAL MACHINES \n",
"// M.A.SALAM \n",
"// NAROSA PUBLISHING HOUSE \n",
"// SECOND EDITION\n",
"\n",
"// Chapter 4 : DIRECT CURRENT GENERATORS\n",
"// Example : 4.8\n",
"\n",
"\n",
"clc;clear; // clears the console and command history \n",
"\n",
"// Given data\n",
"V_t = 220   // shunt generator voltage in V\n",
"I_L = 146   // generator delivering current in A\n",
"R_sh = 50   // shunt field resistance in ohm\n",
"R_a = 0.012 // armature resistance in ohm\n",
"R_s = 0.02  // series field resistance in ohm\n",
"R_d = 0.03  // diverter field resistance in ohm\n",
"\n",
"// caclulations \n",
"I_sh = V_t/R_sh             // shunt field current in A\n",
"I_a = I_L+I_sh              // armature current in A\n",
"R_com = R_s*R_d/(R_s+R_d)   // combined resistance in ohm\n",
"E_g = V_t+(I_a*(R_a+R_com)) // generated voltage in V\n",
"P_lsd = I_a^2*R_com         // power loss in series and diverter in W\n",
"P_la = I_a^2*R_com         // power loss in the armature circuit resistance in W\n",
"P_lsh =  V_t*I_sh          // power loss in shunt field resistance in W\n",
"P_dl = I_L*V_t             // power delivered in W\n",
"\n",
"// display the result \n",
"disp('Example 4.8 solution');\n",
"printf(' \n Generated voltage \n E_g = %.1f V \n', E_g);\n",
"printf(' \n Power distribution \n P_dl = %.0f W \n', P_dl);"
   ]
   }
,
{
		   "cell_type": "markdown",
		   "metadata": {},
		   "source": [
			"## Example 4.9: determine_ATc_and_ATd.sce"
		   ]
		  },
  {
"cell_type": "code",
	   "execution_count": null,
	   "metadata": {
	    "collapsed": true
	   },
	   "outputs": [],
"source": [
"// FUNDAMENTALS OF ELECTICAL MACHINES \n",
"// M.A.SALAM \n",
"// NAROSA PUBLISHING HOUSE \n",
"// SECOND EDITION\n",
"\n",
"// Chapter 4 : DIRECT CURRENT GENERATORS\n",
"// Example : 4.9\n",
"\n",
"clc;clear; // clears the console and command history \n",
"\n",
"// Given data\n",
"P = 4      // number of poles\n",
"Z = 500    // number of conductors\n",
"I_a = 30   // generetor supply current in A\n",
"alpa = 6   // brushes displaced angle in degree\n",
"\n",
"// caclulations \n",
"A = P/2               // for wave connected A=P/2\n",
"I_c = I_a/A           // current per conductor in A\n",
"AT_d = Z*I_c*alpa/360 // demagnetizing ampere turns per pole in At\n",
"AT_c = Z*I_c*((1/(2*P))-(alpa/360)) // cross magnetizing ampere turn per pole in At\n",
"\n",
"\n",
"// display the result \n",
"disp('Example 4.9 solution');\n",
"printf(' \n Demagnetizing ampere turns per pole \n AT_d = %.1f At \n', AT_d );\n",
"printf(' \n Cross magnetizing ampere turn per pole \n AT_c = %.1f At \n', AT_c );"
   ]
   }
],
"metadata": {
		  "kernelspec": {
		   "display_name": "Scilab",
		   "language": "scilab",
		   "name": "scilab"
		  },
		  "language_info": {
		   "file_extension": ".sce",
		   "help_links": [
			{
			 "text": "MetaKernel Magics",
			 "url": "https://github.com/calysto/metakernel/blob/master/metakernel/magics/README.md"
			}
		   ],
		   "mimetype": "text/x-octave",
		   "name": "scilab",
		   "version": "0.7.1"
		  }
		 },
		 "nbformat": 4,
		 "nbformat_minor": 0
}
