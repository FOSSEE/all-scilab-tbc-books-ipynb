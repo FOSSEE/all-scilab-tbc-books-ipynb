{
"cells": [
 {
		   "cell_type": "markdown",
	   "metadata": {},
	   "source": [
       "# Chapter 1: REVIEW OF ELECTRIC CIRCUITS"
	   ]
	},
{
		   "cell_type": "markdown",
		   "metadata": {},
		   "source": [
			"## Example 1.10: find_current_in_each_load_and_line_currents.sce"
		   ]
		  },
  {
"cell_type": "code",
	   "execution_count": null,
	   "metadata": {
	    "collapsed": true
	   },
	   "outputs": [],
"source": [
"// FUNDAMENTALS OF ELECTICAL MACHINES \n",
"// M.A.SALAM \n",
"// NAROSA PUBLISHING HOUSE \n",
"// SECOND EDITION\n",
"\n",
"// Chapter 1 : REVIEW OF ELECRTIC CIRCUITS  \n",
"// Example : 1.10\n",
"\n",
"clc;clear; // clears the console and command history \n",
"\n",
"// Given data\n",
"V_AN = 200 // voltage in V\n",
" Z = 3+%i*4 // impedance in Ω\n",
"\n",
"// caclulations \n",
"\n",
"V_AB = sqrt(3)*(V_AN*exp(%i*(30)*(%pi/180)))   // phase voltage in V\n",
"V_BC = sqrt(3)*(V_AN*exp(%i*(-90)*(%pi/180))) // phase voltage in V\n",
"V_CA = sqrt(3)*(V_AN*exp(%i*(150)*(%pi/180))) // phase voltage in V\n",
"\n",
"I_ab = V_AB/Z  // magnitude of load current in A\n",
"I_bc = V_BC/Z  // magnitude of loadcurrent in A\n",
"I_ca = V_CA/Z // magnitude of  load current `in A\n",
"\n",
"I_Aa = I_ab-I_ca // magnitude of  line current in A\n",
"I_Bb = I_bc-I_ab // magnitude of  line current in A\n",
"I_Cc = I_ca-I_bc // magnitude of  line current in A\n",
"\n",
"// display the result \n",
"disp('Example 1.10 solution');\n",
"printf(' \n Current in each load \n I_ab = %.2f<%.2f A \n', abs(I_ab),atand(imag(I_ab),real(I_ab)) );\n",
"printf(' I_bc = %.2f<% 2f A \n', abs(I_bc),atand(imag(I_bc),real(I_bc)) );\n",
"printf(' I_ca = %.2f<% 2f A \n\n', abs(I_ca),atand(imag(I_ca),real(I_ca)) );\n",
"\n",
"printf(' \n Line currents \n I_Aa = %.2f<%.2f A \n', abs(I_Aa),atand(imag(I_Aa),real(I_Aa)) );\n",
"printf(' I_Bb = %.2f<% 2f A \n', abs(I_Bb),atand(imag(I_Bb),real(I_Bb)) );\n",
"printf(' I_Cc = %.2f<% 2f A \n\n', abs(I_Cc),atand(imag(I_Cc),real(I_Cc)) );\n",
"\n",
"printf(' NOTE : The  line currents as given in this example in text book are wrong since ,the quesion says that both the three phase supply and load are balanced so the line should be balanced which they fail to do in text book.');"
   ]
   }
,
{
		   "cell_type": "markdown",
		   "metadata": {},
		   "source": [
			"## Example 1.11: calculate_line_currents_pf_power_supplied.sce"
		   ]
		  },
  {
"cell_type": "code",
	   "execution_count": null,
	   "metadata": {
	    "collapsed": true
	   },
	   "outputs": [],
"source": [
"// FUNDAMENTALS OF ELECTICAL MACHINES \n",
"// M.A.SALAM \n",
"// NAROSA PUBLISHING HOUSE \n",
"// SECOND EDITION\n",
"\n",
"// Chapter 1 : REVIEW OF ELECRTIC CIRCUITS  \n",
"// Example : 1.11\n",
"\n",
"clc;clear; // clears the console and command history \n",
"\n",
"// Given data\n",
"Z = 3+%i*4 // impedance in Ω\n",
"V_AN = 150 // voltage in V\n",
"R = 3 // resistance in Ω from Z\n",
"\n",
"// caclulations \n",
"\n",
"V_AN = (150*exp(%i*(0)*(%pi/180)))   //source voltage in V\n",
"V_BN = (150*exp(%i*(-120)*(%pi/180))) // source voltage in V\n",
"V_CN = (150*exp(%i*(120)*(%pi/180))) // source voltage in V\n",
"\n",
"I_Aa = V_AN/Z   // line current in A\n",
"I_Bb = V_BN/Z   // line current in  A\n",
"I_Cc = V_CN/Z  // line current in A\n",
"\n",
"pf = R/abs(Z)    // power factor\n",
"I = V_AN/abs(Z) // current in A\n",
"P = V_AN*I*pf  // power supplied in W\n",
"P_t = 3*P     // total power supplied in W\n",
"\n",
"// display the result \n",
"disp('Example 1.11 solution');\n",
"printf(' \n Line currents are \n I_Aa = %.2f<%.2f A \n', abs(I_Aa),atand(imag(I_Aa),real(I_Aa)) );\n",
"printf(' I_Bb = %.2f<% 2f A \n', abs(I_Bb),atand(imag(I_Bb),real(I_Bb)) );\n",
"printf(' I_Cc = %.2f<% 2f A \n\n', abs(I_Cc),atand(imag(I_Cc),real(I_Cc)) );\n",
"printf(' Power factor \n pf = %.1f \n', pf);\n",
"printf(' \n Power supplied to each phase is \n P = %.2f W \n', P);\n",
"printf(' \n Total power supplied \n P_t = %.2f W \n', P_t);\n",
""
   ]
   }
,
{
		   "cell_type": "markdown",
		   "metadata": {},
		   "source": [
			"## Example 1.12: find_second_wattmeter_reading.sce"
		   ]
		  },
  {
"cell_type": "code",
	   "execution_count": null,
	   "metadata": {
	    "collapsed": true
	   },
	   "outputs": [],
"source": [
"// FUNDAMENTALS OF ELECTICAL MACHINES \n",
"// M.A.SALAM \n",
"// NAROSA PUBLISHING HOUSE \n",
"// SECOND EDITION\n",
"\n",
"// Chapter 1 : REVIEW OF ELECRTIC CIRCUITS  \n",
"// Example : 1.12\n",
"\n",
"clc;clear; // clears the console and command history \n",
"\n",
"\n",
"// Given data\n",
"P = 120        // total power in kW\n",
"cos_teta = 0.6 // power factor \n",
"\n",
"// caclulations \n",
"teta = acosd(0.6)           // power factor angle\n",
"P_1 = tand(teta)*P/sqrt(3)\n",
"P_2 = (P_1+P)/2           // second wattmeter reading in kW\n",
"\n",
"// display the result \n",
"disp('Example 1.12 solution');\n",
"printf(' \n Second wattmeter reading \n P_2= %.1f kW \n', P_2);\n",
""
   ]
   }
,
{
		   "cell_type": "markdown",
		   "metadata": {},
		   "source": [
			"## Example 1.1: calculate_current.sce"
		   ]
		  },
  {
"cell_type": "code",
	   "execution_count": null,
	   "metadata": {
	    "collapsed": true
	   },
	   "outputs": [],
"source": [
"// FUNDAMENTALS OF ELECTICAL MACHINES \n",
"// M.A.SALAM \n",
"// NAROSA PUBLISHING HOUSE \n",
"// SECOND EDITION\n",
"\n",
"// Chapter 1 : REVIEW OF ELECRTIC CIRCUITS  \n",
"// Example : 1.1 \n",
"\n",
"clc;clear; // clears the console and command history \n",
"\n",
"// Given data \n",
"Q = 4    // chagre in C \n",
"t = 0.54 // time in sec \n",
"\n",
"\n",
"// caclulations \n",
"I = Q/t  // current in A \n",
"\n",
"// display the result \n",
"disp('Example 1.1 solution');\n",
"printf(' \n Current is \n I = %.2f A ', I); "
   ]
   }
,
{
		   "cell_type": "markdown",
		   "metadata": {},
		   "source": [
			"## Example 1.2: determine_magnitude_and_sign_of_power.sce"
		   ]
		  },
  {
"cell_type": "code",
	   "execution_count": null,
	   "metadata": {
	    "collapsed": true
	   },
	   "outputs": [],
"source": [
"// FUNDAMENTALS OF ELECTICAL MACHINES \n",
"// M.A.SALAM \n",
"// NAROSA PUBLISHING HOUSE \n",
"// SECOND EDITION\n",
"\n",
"// Chapter 1 : REVIEW OF ELECRTIC CIRCUITS  \n",
"// Example : 1.2 \n",
"\n",
"clc;clear; // clears the console and command history \n",
"\n",
"// Given data \n",
"V = -24 // voltage in V\n",
"I = 3  // current in A\n",
"\n",
"// caclulations \n",
" P = V*I // power for the element A in network in W \n",
"\n",
"// display the result \n",
"disp('Example 1.2 solution');\n",
"printf(' \n Power for the element A in network \n P = %.0f W ', P); "
   ]
   }
,
{
		   "cell_type": "markdown",
		   "metadata": {},
		   "source": [
			"## Example 1.3: use_Thevenin_theorem_to_find_current.sce"
		   ]
		  },
  {
"cell_type": "code",
	   "execution_count": null,
	   "metadata": {
	    "collapsed": true
	   },
	   "outputs": [],
"source": [
"// FUNDAMENTALS OF ELECTICAL MACHINES \n",
"// M.A.SALAM \n",
"// NAROSA PUBLISHING HOUSE \n",
"// SECOND EDITION\n",
"\n",
"// Chapter 1 : REVIEW OF ELECRTIC CIRCUITS  \n",
"// Example : 1.3 \n",
"\n",
"clc;clear; // clears the console and command history \n",
"// Given data \n",
"R1 = 5  // resistance in ohm \n",
"R2 = 4  // resistance in ohm \n",
"R3 = 9  // resistance in ohm \n",
"R4 = 6  // resistance in ohm \n",
"V1 = 10 // voltage in V\n",
"V2 = 6  // voltage in V\n",
"\n",
"\n",
"// caclulations \n",
"// Remove R3 and find R_th by short circuiting  V1 and V2 than R1 and R4  wiil be in parallel \n",
"R = (R1*R4)/(R1+R4)   // equivalent resistance in ohm\n",
"// R is connected in series with R2 \n",
"R_th = R2+R           // Thevenin's resistance in ohm\n",
"I = 4/11              // current in the figure applying KVL in A\n",
"V_th = (6*0.36)+6     // voltage in V\n",
"I_9 = V_th/(R_th+R3) // current through R3 in A\n",
"\n",
"\n",
"// display the result \n",
"disp('Example 1.3 solution');\n",
"printf(' \n Current through 9Ω \n I_9Ω = %.2f A ', I_9); "
   ]
   }
,
{
		   "cell_type": "markdown",
		   "metadata": {},
		   "source": [
			"## Example 1.4: find_the_rms_value.sce"
		   ]
		  },
  {
"cell_type": "code",
	   "execution_count": null,
	   "metadata": {
	    "collapsed": true
	   },
	   "outputs": [],
"source": [
"// FUNDAMENTALS OF ELECTICAL MACHINES \n",
"// M.A.SALAM \n",
"// NAROSA PUBLISHING HOUSE \n",
"// SECOND EDITION\n",
"\n",
"// Chapter 1 : REVIEW OF ELECRTIC CIRCUITS  \n",
"// Example : 1.4 \n",
"\n",
"clc;clear; // clears the console and command history\n",
"\n",
"// Given data \n",
"V_t1 = 30   // magnitudes of voltages in V  0 < t1 < 2\n",
"V_t2 = -10  // magnitudes of voltages in V  2 < t2 < 4\n",
"T = 4 // time period from figure \n",
"\n",
"// caclulations \n",
"\n",
"V1 = 30;\n",
"V2 = -10;\n",
"X= sqrt((1/4)*(integrate('V1^2','x',0,2) + integrate('V2^2','x',2,4)));\n",
"\n",
"//display the result \n",
"disp('Example 1.4 solution');\n",
"printf('\n RMS value of the voltage waveform : \n V_rms = %.2f V ', X);"
   ]
   }
,
{
		   "cell_type": "markdown",
		   "metadata": {},
		   "source": [
			"## Example 1.5: calculate_the_magnitude_of_the_line_voltage.sce"
		   ]
		  },
  {
"cell_type": "code",
	   "execution_count": null,
	   "metadata": {
	    "collapsed": true
	   },
	   "outputs": [],
"source": [
"// FUNDAMENTALS OF ELECTICAL MACHINES \n",
"// M.A.SALAM \n",
"// NAROSA PUBLISHING HOUSE \n",
"// SECOND EDITION\n",
"\n",
"// Chapter 1 : REVIEW OF ELECRTIC CIRCUITS  \n",
"// Example : 1.5\n",
"\n",
"clc;clear; // clears the console and command history \n",
"\n",
"\n",
"// Given data \n",
"V_P = 200                           // magnitude of phase voltage \n",
"V_an = 200                          // magnitude of phase voltage in V\n",
"V_bn = 200*exp(%i*(-120)*(%pi/180)) // magnitude of phase voltage in V\n",
"V_cn = 200*exp(%i*(120)*(%pi/180))  // magnitude of phase voltage in V\n",
"\n",
"// caclulations \n",
"V_L = sqrt(3)*V_P // magnitude of line voltage in V\n",
"\n",
"// display the result \n",
"disp('Example 1.5 solution');\n",
"printf(' \n Magnitude of line voltage \n V_L = %.2f V ', V_L); "
   ]
   }
,
{
		   "cell_type": "markdown",
		   "metadata": {},
		   "source": [
			"## Example 1.6: find_line_currents_and_power_factor.sce"
		   ]
		  },
  {
"cell_type": "code",
	   "execution_count": null,
	   "metadata": {
	    "collapsed": true
	   },
	   "outputs": [],
"source": [
"// FUNDAMENTALS OF ELECTICAL MACHINES \n",
"// M.A.SALAM \n",
"// NAROSA PUBLISHING HOUSE \n",
"// SECOND EDITION\n",
"\n",
"// Chapter 1 : REVIEW OF ELECRTIC CIRCUITS  \n",
"// Example : 1.6\n",
"\n",
"clc;clear; // clears the console and command history \n",
"\n",
"\n",
"// Given data \n",
"R = 10      // resistance in Ω\n",
"L = 15     // inductance reactance in Ω\n",
"V_L = 420 // voltage in V\n",
"f = 50   // frwuency in Hz\n",
"\n",
"// caclulations \n",
"V_an = (V_L/sqrt(3))*exp(%i*(-30)*(%pi/180))   // phase voltage\n",
"V_bn = (V_L/sqrt(3))*exp(%i*(-150)*(%pi/180)) // phase voltage\n",
"V_cn = (V_L/sqrt(3))*exp(%i*(90)*(%pi/180)) // phase voltage\n",
"Z_p = R+%i*L // phase impedance in Ω\n",
"I_L1 = V_an/Z_p  // line current\n",
"I_L2 = V_bn/Z_p  // line current\n",
"I_L3 = V_cn/Z_p  // line current\n",
"pf =  R/abs(Z_p) // lagging power factor \n",
"\n",
"// display the result \n",
"disp('Example 1.6 solution');\n",
"printf(' \n Line currents are \n I_L1 = %.2f<%.2f A \n', abs(I_L1),atand(imag(I_L1),real(I_L1)) );\n",
"printf(' I_L2 = %.2f<% 2f A \n', abs(I_L2),atand(imag(I_L2),real(I_L2)) );\n",
"printf(' I_L3 = %.2f<% 2f A \n', abs(I_L3),atand(imag(I_L3),real(I_L3)) );\n",
"printf(' \n Power factor \n pf = %.1f lag \n', pf ); "
   ]
   }
,
{
		   "cell_type": "markdown",
		   "metadata": {},
		   "source": [
			"## Example 1.7: find_magnitude_of_phase_currents_and_line_current.sce"
		   ]
		  },
  {
"cell_type": "code",
	   "execution_count": null,
	   "metadata": {
	    "collapsed": true
	   },
	   "outputs": [],
"source": [
"// FUNDAMENTALS OF ELECTICAL MACHINES \n",
"// M.A.SALAM \n",
"// NAROSA PUBLISHING HOUSE \n",
"// SECOND EDITION\n",
"\n",
"// Chapter 1 : REVIEW OF ELECRTIC CIRCUITS  \n",
"// Example : 1.7\n",
"\n",
"clc;clear; // clears the console and command history \n",
"\n",
"\n",
"// Given data \n",
"Z_p = 10+%i*15 // per phase impedance in Ω\n",
"V_ab = 420                          // magnitude of phase voltage in V\n",
"V_bc = 420*exp(%i*(-120)*(%pi/180))// magnitude of phase voltage in V\n",
"V_ca = 420*exp(%i*(120)*(%pi/180)) // magnitude of phase voltage in V\n",
"\n",
"\n",
"\n",
"// caclulations \n",
"I_ab = V_ab/Z_p  // phase current in A\n",
"I_bc = V_bc/Z_p // phase current in A\n",
"I_ca = V_ca/Z_p // phase current in A\n",
"I_P = V_ab/abs(Z_p) \n",
"I_L = sqrt(3)*I_P // line current in A\n",
"\n",
"// display the result \n",
"disp('Example 1.7 solution');\n",
"printf(' \n Phase currents are \n I_ab = %.2f<%.2f A \n', abs(I_ab),atand(imag(I_ab),real(I_ab)) );\n",
"printf(' I_bc = %.2f<% 2f A \n', abs(I_bc),atand(imag(I_bc),real(I_bc)) );\n",
"printf(' I_ca = %.2f<% 2f A \n', abs(I_ca),atand(imag(I_ca),real(I_ca)) );\n",
"printf(' \n Line current \n I_L = %.2f A \n', I_L); "
   ]
   }
,
{
		   "cell_type": "markdown",
		   "metadata": {},
		   "source": [
			"## Example 1.8: find_line_currents_and_load_phase_voltages.sce"
		   ]
		  },
  {
"cell_type": "code",
	   "execution_count": null,
	   "metadata": {
	    "collapsed": true
	   },
	   "outputs": [],
"source": [
"\n",
"// FUNDAMENTALS OF ELECTICAL MACHINES \n",
"// M.A.SALAM \n",
"// NAROSA PUBLISHING HOUSE \n",
"// SECOND EDITION\n",
"\n",
"// Chapter 1 : REVIEW OF ELECRTIC CIRCUITS  \n",
"// Example : 1.8\n",
"\n",
"clc;clear; // clears the console and command history \n",
"\n",
"// Given data\n",
"V_L = 280 // generator phase voltage in V rms\n",
"Z_1 = 2+%i*3 // line impedance \n",
"Z_L = 4+%i*5 // load impedance \n",
"\n",
"// caclulations \n",
"Z_t = Z_1+Z_L // \n",
"V_An = (V_L*exp(%i*(0)*(%pi/180)))    // phase voltage\n",
"V_Bn = (V_L*exp(%i*(-120)*(%pi/180))) // phase voltage\n",
"V_Cn = (V_L*exp(%i*(120)*(%pi/180)))  // phase voltage\n",
"\n",
"I_Aa = V_An/Z_t   // line current for phase A in A\n",
"I_Bb = V_Bn/Z_t   // line current for phase B in  A\n",
"I_Cc = V_Cn/Z_t  // line current for phase C in A\n",
"\n",
"V_an = I_Aa*Z_L  // voltage of load in V\n",
"V_bn = I_Bb*Z_L // voltage of load in V\n",
"V_cn = I_Cc*Z_L  // voltage of load in V\n",
"\n",
"// display the result \n",
"disp('Example 1.8 solution');\n",
"// There is error in the textbook regarding phasor angles of \n",
"printf(' \n Line currents are \n I_Aa = %.2f<%.2f A \n', abs(I_Aa),atand(imag(I_Aa),real(I_Aa)) );\n",
"printf(' I_Bb = %.2f<% 2f A \n', abs(I_Bb),atand(imag(I_Bb),real(I_Bb)) );\n",
"printf(' I_Cc = %.2f<% 2f A \n\n', abs(I_Cc),atand(imag(I_Cc),real(I_Cc)) );\n",
"printf(' NOTE : PHASOR ANGLES CALCULATED IN TEXTBOOK FOR Van,Vbn & Vcn are wrong,\n because 4+j5 = 6.4<51.34, but in the textbook it is taken as 6.4<38.6');\n",
"// NOTE : PHASOR ANGLES CALCULATED IN TEXTBOOK FOR Van,Vbn & Vcn are wrong,because 4+j5 = 6.4<51.34, but in the textbook it is taken as 6.4<38.6\n",
"printf(' \n\n Phase voltages are ');\n",
"printf('\n V_an = %.2f<%.2f V \n', abs(V_an),atand(imag(V_an),real(V_an)) );\n",
"printf(' V_bn = %.2f<% 2f V \n', abs(V_bn),atand(imag(V_bn),real(V_bn)) );\n",
"printf(' V_cn = %.2f<% 2f V \n', abs(V_cn),atand(imag(V_cn),real(V_cn)) );"
   ]
   }
,
{
		   "cell_type": "markdown",
		   "metadata": {},
		   "source": [
			"## Example 1.9: find_phase_currents_and_neutral_current.sce"
		   ]
		  },
  {
"cell_type": "code",
	   "execution_count": null,
	   "metadata": {
	    "collapsed": true
	   },
	   "outputs": [],
"source": [
"// FUNDAMENTALS OF ELECTICAL MACHINES \n",
"// M.A.SALAM \n",
"// NAROSA PUBLISHING HOUSE \n",
"// SECOND EDITION\n",
"\n",
"// Chapter 1 : REVIEW OF ELECRTIC CIRCUITS  \n",
"// Example : 1.9\n",
"\n",
"clc;clear; // clears the console and command history \n",
"\n",
"// Given data\n",
"V_P = 340 //  phase voltage in V \n",
"Z = 6+%i*8 // per phase impedance \n",
" \n",
"// caclulations \n",
"\n",
"V_AN = (V_P/exp(%i*(0)*(%pi/180)))   // phase voltage\n",
"V_BN = (V_P/exp(%i*(-120)*(%pi/180))) // phase voltage\n",
"V_CN = (V_P/exp(%i*(120)*(%pi/180))) // phase voltage\n",
"\n",
"I_Aa = V_AN/Z   // line current for phase A in A\n",
"I_Bb = V_BN/Z  // line current for phase B in  A\n",
"I_Cc = V_CN/Z  // line current for phase C in A\n",
"\n",
"\n",
"\n",
"// display the result \n",
"disp('Example 1.9 solution');\n",
"printf(' \n Line currents are \n I_Aa = %.2f<%.2f A \n', abs(I_Aa),atand(imag(I_Aa),real(I_Aa)) );\n",
"printf(' I_Bb = %.2f<% 2f A \n', abs(I_Bb),atand(imag(I_Bb),real(I_Bb)) );\n",
"printf(' I_Cc = %.2f<% 2f A \n', abs(I_Cc),atand(imag(I_Cc),real(I_Cc)) );\n",
"printf(' \n The load is balanced, so the value of the neutral current will be zero')"
   ]
   }
],
"metadata": {
		  "kernelspec": {
		   "display_name": "Scilab",
		   "language": "scilab",
		   "name": "scilab"
		  },
		  "language_info": {
		   "file_extension": ".sce",
		   "help_links": [
			{
			 "text": "MetaKernel Magics",
			 "url": "https://github.com/calysto/metakernel/blob/master/metakernel/magics/README.md"
			}
		   ],
		   "mimetype": "text/x-octave",
		   "name": "scilab",
		   "version": "0.7.1"
		  }
		 },
		 "nbformat": 4,
		 "nbformat_minor": 0
}
