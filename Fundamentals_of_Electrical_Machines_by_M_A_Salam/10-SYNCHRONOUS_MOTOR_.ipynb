{
"cells": [
 {
		   "cell_type": "markdown",
	   "metadata": {},
	   "source": [
       "# Chapter 10: SYNCHRONOUS MOTOR "
	   ]
	},
{
		   "cell_type": "markdown",
		   "metadata": {},
		   "source": [
			"## Example 10.1: determine_excitation_voltage_per_phase.sce"
		   ]
		  },
  {
"cell_type": "code",
	   "execution_count": null,
	   "metadata": {
	    "collapsed": true
	   },
	   "outputs": [],
"source": [
"// FUNDAMENTALS OF ELECTICAL MACHINES \n",
"// M.A.SALAM \n",
"// NAROSA PUBLISHING HOUSE \n",
"// SECOND EDITION\n",
"\n",
"// Chapter 10 : SYNCHRONOUS MOTOR\n",
"// Example : 10.1\n",
"\n",
"clc;clear; // clears the console and command history \n",
"\n",
"// Given data\n",
"V = 2.5*10^3 // supply voltage in V\n",
"R_r = 0.12   // per phase resistance in ohm\n",
"X_r = 3.2    // syncronous reactance in ohm\n",
"I_a = 185    // line current in A\n",
"pf = 0.8     // leading power factor\n",
"\n",
"// caclulations\n",
"phi = acosd(pf)\n",
"V_t = V/sqrt(3)    // terminal voltage per phase in V\n",
"Z_s = R_r+%i*X_r   // impedance per phase ohm\n",
"beta = atand(X_r/R_r)\n",
"E_r = I_a*Z_s      // resultant voltage due to impedance in V\n",
"E_f = sqrt(V_t^2+abs(E_r)^2-2*V_t*abs(E_r)*cosd(beta+phi)) // excitation voltage per phase in V\n",
"\n",
"\n",
"// display the result  \n",
"disp('Example 10.1 solution'); \n",
"printf(' \n Excitation voltage per phase \n E_f = %.2f V \n', E_f );\n",
""
   ]
   }
,
{
		   "cell_type": "markdown",
		   "metadata": {},
		   "source": [
			"## Example 10.2: calculate_the_excitation_voltage_per_phase_and_torque_angle.sce"
		   ]
		  },
  {
"cell_type": "code",
	   "execution_count": null,
	   "metadata": {
	    "collapsed": true
	   },
	   "outputs": [],
"source": [
"// FUNDAMENTALS OF ELECTICAL MACHINES \n",
"// M.A.SALAM \n",
"// NAROSA PUBLISHING HOUSE \n",
"// SECOND EDITION\n",
"\n",
"// Chapter 10 : SYNCHRONOUS MOTOR\n",
"// Example : 10.2\n",
"\n",
"clc;clear; // clears the console and command history \n",
"\n",
"// Given data\n",
"kVA = 1200   // kVA ratings\n",
"V = 14*10^3  // supply voltage in V\n",
"R_r = 4.8    // per phase resistance in ohm\n",
"X_r = 35     // syncronous reactance in ohm\n",
"pf = 0.95    // leading power factor\n",
"\n",
"// caclulations\n",
"phi = acosd(pf)\n",
"Z_s = R_r+%i*X_r           // impedance per phase ohm\n",
"I_a = kVA*10^3/(sqrt(3)*V) // armature current in A\n",
"E_r = I_a*Z_s              // resultant voltage due to impedance in V\n",
"V_t = V/sqrt(3)            // terminal voltage per phase in V\n",
"b = atand(X_r/R_r)         // beta value\n",
"E_f = sqrt(V_t^2+abs(E_r)^2-2*V_t*abs(E_r)*cosd(b-phi)) // excitation voltage per phase in V\n",
"teta = sind(64)\n",
"D = (E_r*teta/E_f)         // torque angle\n",
"delta = asind(abs(D))\n",
"\n",
"// display the result  \n",
"disp('Example 10.2 solution'); \n",
"printf(' \n Excitation voltage per phase \n E_f = %.2f V \n', E_f );\n",
"printf(' \n Torque angle at 0.95 power factor lagging \n delta = %.2f degree \n', delta );"
   ]
   }
,
{
		   "cell_type": "markdown",
		   "metadata": {},
		   "source": [
			"## Example 10.3: calculate_maximum_power.sce"
		   ]
		  },
  {
"cell_type": "code",
	   "execution_count": null,
	   "metadata": {
	    "collapsed": true
	   },
	   "outputs": [],
"source": [
"// FUNDAMENTALS OF ELECTICAL MACHINES \n",
"// M.A.SALAM \n",
"// NAROSA PUBLISHING HOUSE \n",
"// SECOND EDITION\n",
"\n",
"// Chapter 10 : SYNCHRONOUS MOTOR\n",
"// Example : 10.3\n",
"\n",
"clc;clear; // clears the console and command history \n",
"\n",
"// Given data\n",
"V = 440          // supply voltage in V\n",
"R_a = 1.5        // per phase resistance in ohm\n",
"X_a = 8          // syncronous reactance in ohm\n",
"P = 4            // number of poles\n",
"f = 50           // supply frequency in Hz\n",
"pf = 0.9         // leading power factor\n",
"I_a = 50         // armature current in A\n",
"\n",
"// caclulations\n",
"V_t = V/sqrt(3)      // terminal voltage per phase in V\n",
"phi = acosd(pf)      // angle in degree\n",
"Z_s = R_a+%i*X_a     // impedance per phase ohm\n",
"E_r = I_a*abs(Z_s)        // resultant voltage due to impedance in V\n",
"bet = atand(X_a/R_a)\n",
"E_f = sqrt(V_t^2+E_r^2-2*V_t*E_r*cosd(bet+phi)) // excitation voltage per phase in V\n",
"P_dm = (((E_f*V_t)/Z_s)-((E_f^2*R_a)/Z_s^2))          // maximum power per phase in W\n",
"\n",
"// display the result  \n",
"disp('Example 10.3 solution'); \n",
"printf(' \n Maximum power per phase \n P_dm = %.2f W \n', P_dm );\n",
"printf(' \n In textbook solution they took E_f = 513.5V instead of 533.33V');"
   ]
   }
,
{
		   "cell_type": "markdown",
		   "metadata": {},
		   "source": [
			"## Example 10.4: determine_max_power_and_max_torque.sce"
		   ]
		  },
  {
"cell_type": "code",
	   "execution_count": null,
	   "metadata": {
	    "collapsed": true
	   },
	   "outputs": [],
"source": [
"// FUNDAMENTALS OF ELECTICAL MACHINES \n",
"// M.A.SALAM \n",
"// NAROSA PUBLISHING HOUSE \n",
"// SECOND EDITION\n",
"\n",
"// Chapter 10 : SYNCHRONOUS MOTOR\n",
"// Example : 10.4\n",
"\n",
"clc;clear; // clears the console and command history \n",
"\n",
"// Given data\n",
"P = 4 // number of poles\n",
"f = 50 // supply frequency in Hz\n",
"V_t = 1500 // terminal voltage per phase in V\n",
"E_f = 1000 // excitation voltage per phase in V\n",
"Z_s = 12 // synchronnous impedance in ohm\n",
"R_a = 1.5 //armature resistance in ohm\n",
"\n",
"// caclulations\n",
"P_dm = (((E_f*V_t)/Z_s)-((E_f^2*R_a)/Z_s^2)) // maximum power per phase in W\n",
"T_dm = 9.55*P_dm/1500 // maximum torque in N-m\n",
"\n",
"// display the result  \n",
"disp('Example 10.4 solution'); \n",
"printf(' \n Maximum power developed \n P_dm = %.0f W \n', P_dm );\n",
"printf(' \n Maximum toruqe \n T_dm = %.1f N-m \n', T_dm );"
   ]
   }
],
"metadata": {
		  "kernelspec": {
		   "display_name": "Scilab",
		   "language": "scilab",
		   "name": "scilab"
		  },
		  "language_info": {
		   "file_extension": ".sce",
		   "help_links": [
			{
			 "text": "MetaKernel Magics",
			 "url": "https://github.com/calysto/metakernel/blob/master/metakernel/magics/README.md"
			}
		   ],
		   "mimetype": "text/x-octave",
		   "name": "scilab",
		   "version": "0.7.1"
		  }
		 },
		 "nbformat": 4,
		 "nbformat_minor": 0
}
