{
"cells": [
 {
		   "cell_type": "markdown",
	   "metadata": {},
	   "source": [
       "# Chapter 7: THREE PHASE INDUCTION MOTOR"
	   ]
	},
{
		   "cell_type": "markdown",
		   "metadata": {},
		   "source": [
			"## Example 7.1: determine_synchronous_speed_slip_and_rotor_frequency.sce"
		   ]
		  },
  {
"cell_type": "code",
	   "execution_count": null,
	   "metadata": {
	    "collapsed": true
	   },
	   "outputs": [],
"source": [
"// FUNDAMENTALS OF ELECTICAL MACHINES \n",
"// M.A.SALAM \n",
"// NAROSA PUBLISHING HOUSE \n",
"// SECOND EDITION\n",
"\n",
"// Chapter 7 : THREE-PHASE INDUCTION MOTOR\n",
"// Example : 7.1\n",
"\n",
"clc;clear; // clears the console and command history \n",
"\n",
"// Given data\n",
"V = 230      // supply voltage in V\n",
"P = 4       // number of poles\n",
"f = 50      // frequecny Hz\n",
"N_l = 1445  // speed in rpm\n",
"\n",
"// caclulations \n",
"N_s = 120*f/P      // synchronous speed in rpm\n",
"s = (N_s-N_l)/N_s  // slip\n",
"f_r = s*f          // rotor frequency in Hz\n",
"\n",
"// display the result \n",
"disp('Example 7.1 solution');\n",
"printf(' \n Synchronous speed \n N_s = %.1f rpm \n', N_s);\n",
"printf(' \n Slip \n s = %.4f \n', s);\n",
"printf(' \n Rotor frequency \n f_r = %.1f Hz \n', f_r);\n",
""
   ]
   }
,
{
		   "cell_type": "markdown",
		   "metadata": {},
		   "source": [
			"## Example 7.2: determine_synchronous_speed_rotor_frequency_and_rotor_voltage.sce"
		   ]
		  },
  {
"cell_type": "code",
	   "execution_count": null,
	   "metadata": {
	    "collapsed": true
	   },
	   "outputs": [],
"source": [
"// FUNDAMENTALS OF ELECTICAL MACHINES \n",
"// M.A.SALAM \n",
"// NAROSA PUBLISHING HOUSE \n",
"// SECOND EDITION\n",
"\n",
"// Chapter 7 : THREE-PHASE INDUCTION MOTOR\n",
"// Example : 7.2\n",
"\n",
"clc;clear; // clears the console and command history \n",
"\n",
"// Given data\n",
"E_BR = 120    // voltage found under blocked condition in V\n",
"P = 4        // number of poles\n",
"f = 50       // frequecny in Hz\n",
"N_l = 1450   // speed in rpm\n",
"\n",
"// caclulations \n",
"N_s = 120*f/P     // synchronous speed in rpm\n",
"s = (N_s-N_l)/N_s // slip\n",
"f_r = s*f         // rotor frequency in Hz\n",
"E_r = s*E_BR      // Rotor voltage in V\n",
"\n",
"// display the result \n",
"disp('Example 7.2 solution');\n",
"printf(' \n Synchronous speed \n N_s = %.1f rpm \n', N_s);\n",
"printf(' \n Slip \n s = %.3f \n', s);\n",
"printf(' \n Rotor frequency \n f_r = %.2f Hz \n', f_r);\n",
"printf(' \n Rotor voltage \n E_r = %.2f V \n', E_r);\n",
""
   ]
   }
,
{
		   "cell_type": "markdown",
		   "metadata": {},
		   "source": [
			"## Example 7.3: find_the_value_of_starting_torque_and_current.sce"
		   ]
		  },
  {
"cell_type": "code",
	   "execution_count": null,
	   "metadata": {
	    "collapsed": true
	   },
	   "outputs": [],
"source": [
"// FUNDAMENTALS OF ELECTICAL MACHINES \n",
"// M.A.SALAM \n",
"// NAROSA PUBLISHING HOUSE \n",
"// SECOND EDITION\n",
"\n",
"// Chapter 7 : THREE-PHASE INDUCTION MOTOR\n",
"// Example : 7.3\n",
"\n",
"clc;clear; // clears the console and command history \n",
"\n",
"// Given data\n",
"V_0 = 230 // supply voltage in V\n",
"P = 4     // number of poles\n",
"T_0 = 230 // original torque in N-m\n",
"V_s = 150 // stator voltage in V\n",
"I_0 = 560 // starting cuurent in A\n",
"\n",
"// caclulations \n",
"T_st = (V_s/V_0)^2*T_0 // starting torque in N-m\n",
"I_st = I_0*(V_s/V_0)   // starting current in A\n",
"\n",
"// display the result \n",
"disp('Example 7.3 solution');\n",
"printf(' \n Starting torque \n T_st = %.1f N-m \n', T_st);\n",
"printf(' \n Starting current \n I_st = %.1f A \n', I_st);"
   ]
   }
,
{
		   "cell_type": "markdown",
		   "metadata": {},
		   "source": [
			"## Example 7.4: find_speed_and_ratio.sce"
		   ]
		  },
  {
"cell_type": "code",
	   "execution_count": null,
	   "metadata": {
	    "collapsed": true
	   },
	   "outputs": [],
"source": [
"// FUNDAMENTALS OF ELECTICAL MACHINES \n",
"// M.A.SALAM \n",
"// NAROSA PUBLISHING HOUSE \n",
"// SECOND EDITION\n",
"\n",
"// Chapter 7 : THREE-PHASE INDUCTION MOTOR\n",
"// Example : 7.4\n",
"\n",
"clc;clear; // clears the console and command history \n",
"\n",
"// Given data\n",
"f = 50        // frequency in Hz\n",
"P = 8         // number of poles\n",
"a = 0.03      // full load slip\n",
"R_2 = 0.01    // rotor resistance in ohm\n",
"X_2 = 0.1     // standstill resistance in ohm\n",
"\n",
"// caclulations \n",
"N_s = 120*f/P             // synchronous speed in rpm\n",
"s = R_2/X_2               // slip at maximum torque\n",
"N_l = (1-s)*N_s           // rotor maximum speed in rpm\n",
"T = (2*a*s)/(s^2+a^2)     // ratio of full load torque to maximum torque\n",
"T_ratio = 1/T             // ratio of maximum torque to full load torque\n",
" \n",
"// display the result \n",
"disp('Example 7.4 solution');\n",
"printf(' \n Rotor speed at maximum torque \n N_l = %.0f rpm \n', N_l);\n",
"printf(' \n Ratio of maximum torque to full load torque \n T_ratio = %.2f \n', T_ratio);\n",
""
   ]
   }
,
{
		   "cell_type": "markdown",
		   "metadata": {},
		   "source": [
			"## Example 7.5: determine_slip_synchronous_speed_shaft_speed_and_mechanical_power.sce"
		   ]
		  },
  {
"cell_type": "code",
	   "execution_count": null,
	   "metadata": {
	    "collapsed": true
	   },
	   "outputs": [],
"source": [
"// FUNDAMENTALS OF ELECTICAL MACHINES \n",
"// M.A.SALAM \n",
"// NAROSA PUBLISHING HOUSE \n",
"// SECOND EDITION\n",
"\n",
"// Chapter 7 : THREE-PHASE INDUCTION MOTOR\n",
"// Example : 7.5\n",
"\n",
"clc;clear; // clears the console and command history \n",
"\n",
"// Given data\n",
"V = 440     // supply voltage in V\n",
"P = 4       // number of poles\n",
"P_ag = 1500 // rotor i/p in kW\n",
"P_rcu = 250 // copper loss in W\n",
"f = 50      // frequency in Hz\n",
"\n",
"// caclulations \n",
"s = P_rcu/P_ag       // slip\n",
"N_s = 120*f/P        // synchronous speed in rpm\n",
"N_l = (1-s)*N_s      // rotor maximum speed in rpm\n",
"P_mech = (1-s)*P_ag  // mechanical power developed in W\n",
"\n",
"// display the result \n",
"disp('Example 7.5 solution');\n",
"printf(' \n Slip \n s = %.3f \n', s);\n",
"printf(' \n Synchronous speed \n N_s = %.f rpm \n', N_s);\n",
"printf(' \n Rotor speed \n N_l = %.0f rpm \n', N_l);\n",
"printf(' \n Mecahnical power developed \n P_mech = %.0f W \n', P_mech);\n",
"\n",
"// NOTE : small change in answer instead 1245 got 1250W"
   ]
   }
,
{
		   "cell_type": "markdown",
		   "metadata": {},
		   "source": [
			"## Example 7.6: determine_max_mechanical_power_Tmax_and_slip.sce"
		   ]
		  },
  {
"cell_type": "code",
	   "execution_count": null,
	   "metadata": {
	    "collapsed": true
	   },
	   "outputs": [],
"source": [
"// FUNDAMENTALS OF ELECTICAL MACHINES \n",
"// M.A.SALAM \n",
"// NAROSA PUBLISHING HOUSE \n",
"// SECOND EDITION\n",
"\n",
"// Chapter 7 : THREE-PHASE INDUCTION MOTOR\n",
"// Example : 7.6\n",
"\n",
"clc;clear; // clears the console and command history \n",
"\n",
"// Given data\n",
"V_1 = 150              // supply voltage in V\n",
"P = 4                  // number of poles\n",
"f = 50                 // frequency in Hz\n",
"Z_1 = 0.12+%i*0.16     // per phase standstill stator impedance in ohm\n",
"Z_2 = 0.22+%i*0.28     // per phase standstill rotor impedance in ohm\n",
"R_2 = real(Z_2)             // from Z_2\n",
"\n",
"// caclulations \n",
"Z_eq = Z_1+Z_2                           // equivalent impedance in ohm\n",
"P_mech =  3*V_1^2/(2*(R_2+abs(Z_eq)))  // maximum mechanical power developed in W\n",
"s_mp = R_2/(abs(Z_eq)+R_2)              // slip\n",
"W_s = 2*%pi*2*f/P                       // since N_s = f/(P/2) and W_s = 2*%pi*N_s\n",
"W = (1-s_mp)*W_s                        // speed of rotor in rad/s\n",
"T_mxm = P_mech/W                        // miximum torque in N-m \n",
"\n",
"// display the result \n",
"disp('Example 7.6 solution');\n",
"printf(' \n maximum mechanical power developed \n P_mech = %.f W \n', P_mech);\n",
"printf(' \n Maximum torque \n T_mxm = %.3f N-m \n', T_mxm);\n",
"printf(' \n Maximum slip \n s_mp = %.2f \n', s_mp);\n",
"printf(' \n NOTE : Error in calculation of P_mech and T_mxm ');\n",
""
   ]
   }
,
{
		   "cell_type": "markdown",
		   "metadata": {},
		   "source": [
			"## Example 7.7: determine_slip_rotor_cu_loss_shaft_motor_efficiency.sce"
		   ]
		  },
  {
"cell_type": "code",
	   "execution_count": null,
	   "metadata": {
	    "collapsed": true
	   },
	   "outputs": [],
"source": [
"// FUNDAMENTALS OF ELECTICAL MACHINES \n",
"// M.A.SALAM \n",
"// NAROSA PUBLISHING HOUSE \n",
"// SECOND EDITION\n",
"\n",
"// Chapter 7 : THREE-PHASE INDUCTION MOTOR\n",
"// Example : 7.7\n",
"\n",
"clc;clear; // clears the console and command history \n",
"\n",
"// Given data\n",
"V = 440         // supply voltage in V\n",
"P = 6           // number of poles\n",
"f = 50          // frequency in Hz\n",
"P_a = 45000     // i/p power\n",
"N_l = 900       // speed in rpm\n",
"P_tloss = 2000  // total power loss in W\n",
"\n",
"// caclulations \n",
"N_s = 120*f/P            // synchronous speed in rpm\n",
"s = (N_s-N_l)/N_s        // slip\n",
"P_ag = (P_a-P_tloss)     // air gap power in W\n",
"P_rcu = s*P_ag           // rotor copper loss in W\n",
"P_mech = P_ag-P_rcu      // mechanical power in W\n",
"P_0 = P_mech-3000        // o/p power in W\n",
"n = (P_0/P_ag)*100       // efficiency since n = P_o/P_in\n",
"\n",
"// display the result \n",
"disp('Example 7.7 solution');\n",
"printf(' \n Slip \n s = %.1f  \n', s );\n",
"printf(' \n Rotor copper loss  \n P_rcu = %.f W \n', P_rcu );\n",
"printf(' \n Out put power \n P_0 = %.f W \n', P_0 );\n",
"printf(' \n Efficiency  \n n = %.f percent \n', n );\n",
"\n",
""
   ]
   }
,
{
		   "cell_type": "markdown",
		   "metadata": {},
		   "source": [
			"## Example 7.8: determine_length.sce"
		   ]
		  },
  {
"cell_type": "code",
	   "execution_count": null,
	   "metadata": {
	    "collapsed": true
	   },
	   "outputs": [],
"source": [
"// FUNDAMENTALS OF ELECTICAL MACHINES \n",
"// M.A.SALAM \n",
"// NAROSA PUBLISHING HOUSE \n",
"// SECOND EDITION\n",
"\n",
"// Chapter 7 : THREE-PHASE INDUCTION MOTOR\n",
"// Example : 7.8\n",
"\n",
"clc;clear; // clears the console and command history \n",
"\n",
"// Given data\n",
"v_s = 120      // train speed in km/h\n",
"f = 50         // frequency in Hz\n",
"\n",
"// caclulations \n",
"v_s = 120*1000/(60*60)    // train speed in m/s\n",
"w = v_s/(2*f)             // length of the pole-pitch in m\n",
"\n",
"// display the result \n",
"disp('Example 7.8 solution');\n",
"printf(' \n Length of the pole-pitch lenear induction motor \n w = %.2f m \n', w );\n",
"\n",
"\n",
""
   ]
   }
],
"metadata": {
		  "kernelspec": {
		   "display_name": "Scilab",
		   "language": "scilab",
		   "name": "scilab"
		  },
		  "language_info": {
		   "file_extension": ".sce",
		   "help_links": [
			{
			 "text": "MetaKernel Magics",
			 "url": "https://github.com/calysto/metakernel/blob/master/metakernel/magics/README.md"
			}
		   ],
		   "mimetype": "text/x-octave",
		   "name": "scilab",
		   "version": "0.7.1"
		  }
		 },
		 "nbformat": 4,
		 "nbformat_minor": 0
}
