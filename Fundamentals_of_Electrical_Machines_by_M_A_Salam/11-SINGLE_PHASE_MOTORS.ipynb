{
"cells": [
 {
		   "cell_type": "markdown",
	   "metadata": {},
	   "source": [
       "# Chapter 11: SINGLE PHASE MOTORS"
	   ]
	},
{
		   "cell_type": "markdown",
		   "metadata": {},
		   "source": [
			"## Example 11.1: determine_slip_due_to_forward_and_backward_field_and_effective_rotor_resistance.sce"
		   ]
		  },
  {
"cell_type": "code",
	   "execution_count": null,
	   "metadata": {
	    "collapsed": true
	   },
	   "outputs": [],
"source": [
"// FUNDAMENTALS OF ELECTICAL MACHINES \n",
"// M.A.SALAM \n",
"// NAROSA PUBLISHING HOUSE \n",
"// SECOND EDITION\n",
"\n",
"// Chapter 11 : SINGLE-PHASE MOTORS\n",
"// Example : 11.1\n",
"\n",
"clc;clear; // clears the console and command history \n",
"\n",
"// Given data\n",
"V = 220            // supply voltage in V\n",
"P = 4              // number of poles\n",
"f = 50             // frequency in Hz\n",
"N_l = 1450         // speed in rpm\n",
"P_tloss = 2000     // total power loss in W\n",
"R_2 = 10           // rotor resistance at standstill in ohm\n",
"\n",
"// caclulations\n",
"N_s = 120*f/P       // synchronous speed in rpm\n",
"s_f = (N_s-N_l)/N_s // slip due to forward field\n",
"s_b = 2-s_f         // slip due to backward field\n",
"R_f = R_2/s_f       // effective rotor resistance due to forward slip in ohm\n",
"R_b = R_2/(2-s_f)   // effective rotor resistance due to backward slip in ohm\n",
"\n",
"// display the result  \n",
"disp('Example 11.1 solution'); \n",
"printf(' \n Slip due to forward field \n s_f = %.2f \n', s_f );\n",
"printf(' \n Slip due to backward field \n s_b = %.2f \n', s_b );\n",
"printf(' \n Effective rotor resistance due to forward slip \n R_f = %.2f ohm \n', R_f );\n",
"printf(' \n Effective rotor resistance due to backward slip \n R_b = %.2f ohm \n', R_b );\n",
"\n",
"printf(' \n NOTE : for caclulating R_f, s_f is taken as 0.033333 so we got R_f=300');\n",
""
   ]
   }
,
{
		   "cell_type": "markdown",
		   "metadata": {},
		   "source": [
			"## Example 11.2: calculate_in_put_current_power_developed_power_and_torque_developed.sce"
		   ]
		  },
  {
"cell_type": "code",
	   "execution_count": null,
	   "metadata": {
	    "collapsed": true
	   },
	   "outputs": [],
"source": [
"// FUNDAMENTALS OF ELECTICAL MACHINES \n",
"// M.A.SALAM \n",
"// NAROSA PUBLISHING HOUSE \n",
"// SECOND EDITION\n",
"\n",
"// Chapter 11 : SINGLE-PHASE MOTORS\n",
"// Example : 11.2\n",
"\n",
"clc;clear; // clears the console and command history \n",
"\n",
"// Given data\n",
"V_t = 220  // supply voltage in V\n",
"R_1 = 6    // equivalent parameters of single phase induction motor in ohm\n",
"R_2 = 6    // equivalent parameters of single phase induction motor in ohm\n",
"X_1 = 10   // equivalent parameters of single phase induction motor in ohm\n",
"X_2 = 10  // equivalent parameters of single phase induction motor in ohm\n",
"N = 1500   // speed in rpm\n",
"s = 0.03   // slip\n",
"X_m = 150  // equivalent parameters of single phase induction motor in ohm\n",
"\n",
"// caclulations\n",
"Z_f = 0.5*%i*X_m*((R_2/s)+%i*X_2)/((R_2/s)+%i*(X_2+X_m)) // impedance due to forward field in ohm\n",
"R_f = real(Z_f) // from Z_f\n",
"Z_b = 0.5*%i*X_m*((R_2/(2-s))+%i*X_2)/((R_2/(2-s))+%i*(X_2+X_m)) // impedance due to backward field in ohm\n",
"R_b = real(Z_b) // from Z_b\n",
"Z_t = R_1+%i*X_1+Z_f+Z_b // total impedence in ohm \n",
"I_1 = V_t/Z_t // input current in A\n",
"P_d = (abs(I_1))^2*(R_f-R_b)*(1-s) // power developed in W\n",
"T_d = 9.55*P_d/N // torque in N-m\n",
"\n",
"// display the result  \n",
"disp('Example 11.2 solution'); \n",
"printf(' \n input current \n I_1 = %.2f<%.2f A \n', abs(I_1),atand(imag(I_1),real(I_1)));\n",
"printf(' \n power developed \n P_d = %.2f \n', P_d );\n",
"printf(' \n torque \n T_d = %.2f \n', T_d );\n",
"printf('\n NOTE : ERROR : There is calculation mistake in Z_b in textbook. So there is change in answers from textbook')"
   ]
   }
,
{
		   "cell_type": "markdown",
		   "metadata": {},
		   "source": [
			"## Example 11.3: starting_current_main_winding_current_and_line_current.sce"
		   ]
		  },
  {
"cell_type": "code",
	   "execution_count": null,
	   "metadata": {
	    "collapsed": true
	   },
	   "outputs": [],
"source": [
"// FUNDAMENTALS OF ELECTICAL MACHINES \n",
"// M.A.SALAM \n",
"// NAROSA PUBLISHING HOUSE \n",
"// SECOND EDITION\n",
"\n",
"// Chapter 11 : SINGLE-PHASE MOTORS\n",
"// Example : 11.3\n",
"\n",
"clc;clear; // clears the console and command history \n",
"\n",
"// Given data\n",
"V_t = 220    // supply voltage in V\n",
"f = 50       // frequency in Hz\n",
"Z_m = 3+%i*5 // main winding impedance of motor in ohm\n",
"Z_s = 5+%i*3 // starting impedance of motor in ohm\n",
"\n",
"// caclulations\n",
"alpha_s = atand(imag(Z_s),real(Z_s))                             // angle in degree from Z_s\n",
"I_s = V_t/Z_s                          // starting current in A\n",
"alpha_m = atand(imag(Z_m),real(Z_m))                                // angle in degree from Z_m\n",
"I_m = V_t/(Z_m)                          // main winding current in A\n",
"alpha = alpha_m-alpha_s                     // angle of line current\n",
"I = sqrt((abs(I_s))^2+(abs(I_m))^2+2*abs(I_s)*abs(I_m)*cosd(alpha)) // line current in A\n",
"\n",
"// display the result  \n",
"disp('Example 11.3 solution'); \n",
"printf(' \n Input current \n I_s = %.2f<%.2f A \n', abs(I_s),atand(imag(I_s),real(I_s)) );\n",
"printf(' \n Main winding current \n I_m = %.2f<%.f A \n', abs(I_m),atand(imag(I_m),real(I_m)));\n",
"printf(' \n Line current \n I = %.2f A \n', I );"
   ]
   }
,
{
		   "cell_type": "markdown",
		   "metadata": {},
		   "source": [
			"## Example 11.4: find_value_of_capacitance.sce"
		   ]
		  },
  {
"cell_type": "code",
	   "execution_count": null,
	   "metadata": {
	    "collapsed": true
	   },
	   "outputs": [],
"source": [
"// FUNDAMENTALS OF ELECTICAL MACHINES \n",
"// M.A.SALAM \n",
"// NAROSA PUBLISHING HOUSE \n",
"// SECOND EDITION\n",
"\n",
"// Chapter 11 : SINGLE-PHASE MOTORS\n",
"// Example : 11.4\n",
"\n",
"clc;clear; // clears the console and command history \n",
"\n",
"// Given data\n",
"V_t = 220      // supply voltage in V\n",
"f = 50         // frequency in Hz\n",
"Z_m = 4+%i*3.5 // main winding impedance of motor in ohm\n",
"Z_s = 5+%i*3   // starting impedance of motor in ohm\n",
"R_s = 5        // from Z_s\n",
"X_s = 3        // from Z_s\n",
"\n",
"// caclulations\n",
"alpha_m = 41.2 // angle in degree from Z_m\n",
"// Let X_c be connected in series with the starting winding. Then the total impedance of starting winding is Z_s = Z_m-%i*X_c\n",
"// The torque will be the maximum when the angle between the starting winding and main winding currents in 90 electrical degree.The value of the angle of the starting winding current is\n",
"alpha_s = alpha_m-90\n",
"X_c = X_s-R_s*tand(alpha_s)\n",
"C = 1/(2*%pi*f*X_c) // starting capacitance to get maximum torque in F\n",
"\n",
"// display the result  \n",
"disp('Example 11.4 solution'); \n",
"printf(' \n Starting capacitance for getting maximum torque \n C = %.2e F \n', C );"
   ]
   }
,
{
		   "cell_type": "markdown",
		   "metadata": {},
		   "source": [
			"## Example 11.5: calculate_the_equivalent_circuit_parameters.sce"
		   ]
		  },
  {
"cell_type": "code",
	   "execution_count": null,
	   "metadata": {
	    "collapsed": true
	   },
	   "outputs": [],
"source": [
"// FUNDAMENTALS OF ELECTICAL MACHINES \n",
"// M.A.SALAM \n",
"// NAROSA PUBLISHING HOUSE \n",
"// SECOND EDITION\n",
"\n",
"// Chapter 11 : SINGLE-PHASE MOTORS\n",
"// Example : 11.5\n",
"\n",
"clc;clear; // clears the console and command history \n",
"\n",
"// Given data\n",
"f = 50      // supply frequency in Hz\n",
"V_nl = 100  // no-load voltage in v\n",
"I_nl = 2.5  // no-load current in A\n",
"P_nl = 60   // no-load power in W\n",
"\n",
"V_br = 60    // Block rotor test voltage in v\n",
"I_br = 3     // Block rotor test current in A\n",
"P_br = 130   // Block rotor test  power in W\n",
"R_1 = 2      // main windning resistance in ohm\n",
"\n",
"// caclulations\n",
"Z_br = V_br/I_br                    // impedance due to blocked rotor test\n",
"R_br = P_br/I_br^2                  // resistance due to blocked rotor test in ohm\n",
"X_br = sqrt(Z_br^2-R_br^2)          // reactance under blocked condition in ohm\n",
"X_1 = X_br/2                        // reactance in ohm X_1=X_2\n",
"R_2 = R_br-R_1                      // resistance in ohm\n",
"Z_nl = V_nl/I_nl                    // impedance due to no-load in ohm\n",
"R_nl = P_nl/I_nl^2                  // resistance due to no-load in ohm\n",
"X_nl = sqrt(Z_nl^2-R_nl^2)          // reactance due to no-load in ohm\n",
"X_m =2*(X_nl-X_1-0.5*X_1)           // magnetizing reactance in ohm\n",
"P_rot = P_nl-I_nl^2*(R_1+((R_2)/4)) // rotational loss in W\n",
"\n",
"// display the result  \n",
"disp('Example 11.5 solution'); \n",
"printf(' \n Magnetizing reactance \n X_m = %.1f ohm \n', X_m );\n",
"printf(' \n Rotational loss \n P_rot = %.0f W \n', P_rot );"
   ]
   }
,
{
		   "cell_type": "markdown",
		   "metadata": {},
		   "source": [
			"## Example 11.6: determine_tooth_pitch_and_step_angle.sce"
		   ]
		  },
  {
"cell_type": "code",
	   "execution_count": null,
	   "metadata": {
	    "collapsed": true
	   },
	   "outputs": [],
"source": [
"// FUNDAMENTALS OF ELECTICAL MACHINES \n",
"// M.A.SALAM \n",
"// NAROSA PUBLISHING HOUSE \n",
"// SECOND EDITION\n",
"\n",
"// Chapter 11 : SINGLE-PHASE MOTORS\n",
"// Example : 11.6\n",
"\n",
"clc;clear; // clears the console and command history \n",
"\n",
"// Given data\n",
"r_t = 36 // rotor teeth of stepper motor\n",
"N = 4    // stator phases\n",
"\n",
"// caclulations\n",
"T_p = 360/r_t      // tooth pitch\n",
"teta = 360/(N*r_t) // step angle\n",
"\n",
"// display the result  \n",
"disp('Example 11.6 solution'); \n",
"printf(' \n Tooth pitch \n T_p = %.0i degree \n', T_p );\n",
"printf(' \n Strp angle \n teta = %.1f degree \n', teta );\n",
""
   ]
   }
],
"metadata": {
		  "kernelspec": {
		   "display_name": "Scilab",
		   "language": "scilab",
		   "name": "scilab"
		  },
		  "language_info": {
		   "file_extension": ".sce",
		   "help_links": [
			{
			 "text": "MetaKernel Magics",
			 "url": "https://github.com/calysto/metakernel/blob/master/metakernel/magics/README.md"
			}
		   ],
		   "mimetype": "text/x-octave",
		   "name": "scilab",
		   "version": "0.7.1"
		  }
		 },
		 "nbformat": 4,
		 "nbformat_minor": 0
}
