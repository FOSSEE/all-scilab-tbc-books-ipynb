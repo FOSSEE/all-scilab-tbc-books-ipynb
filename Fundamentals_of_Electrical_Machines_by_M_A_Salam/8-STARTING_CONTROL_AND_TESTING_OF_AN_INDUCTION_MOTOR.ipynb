{
"cells": [
 {
		   "cell_type": "markdown",
	   "metadata": {},
	   "source": [
       "# Chapter 8: STARTING CONTROL AND TESTING OF AN INDUCTION MOTOR"
	   ]
	},
{
		   "cell_type": "markdown",
		   "metadata": {},
		   "source": [
			"## Example 8.2: determine_percentage_taping_on_the_autotransformer.sce"
		   ]
		  },
  {
"cell_type": "code",
	   "execution_count": null,
	   "metadata": {
	    "collapsed": true
	   },
	   "outputs": [],
"source": [
"// FUNDAMENTALS OF ELECTICAL MACHINES \n",
"// M.A.SALAM \n",
"// NAROSA PUBLISHING HOUSE \n",
"// SECOND EDITION\n",
"\n",
"// Chapter 8 : STARTING, CONTROL AND TESTING OF AN INDUCTION MOTOR\n",
"// Example : 8.2\n",
"\n",
"clc;clear; // clears the console and command history \n",
"\n",
"// Given data\n",
"T_ratio = 1/2    // T_st/T_f ratio of starting torque to full load torque\n",
"s_f = 0.03      // full load slip\n",
"I_ratio = 5     // I_sc/I_f ratio pf short circuit current to full load current\n",
"\n",
"// caclulations \n",
"x = (1/I_ratio)*sqrt(T_ratio*(1/s_f)) // percentage of tapping\n",
"\n",
"// display the result \n",
"disp('Example 8.2 solution');\n",
"printf(' \n Percentage of tapping \n x = %.3f \n', x );\n",
"\n",
"\n",
""
   ]
   }
,
{
		   "cell_type": "markdown",
		   "metadata": {},
		   "source": [
			"## Example 8.3: determine_the_full_load_current.sce"
		   ]
		  },
  {
"cell_type": "code",
	   "execution_count": null,
	   "metadata": {
	    "collapsed": true
	   },
	   "outputs": [],
"source": [
"// FUNDAMENTALS OF ELECTICAL MACHINES \n",
"// M.A.SALAM \n",
"// NAROSA PUBLISHING HOUSE \n",
"// SECOND EDITION\n",
"\n",
"// Chapter 8 : STARTING, CONTROL AND TESTING OF AN INDUCTION MOTOR\n",
"// Example : 8.3\n",
"\n",
"clc;clear; // clears the console and command history \n",
"\n",
"// Given data\n",
"T_ratio = 0.25    // T_st/T_f ratio of starting torque to full load torque\n",
"I_ratio = 3.6     //  I_sc/I_f ratio pf short circuit current to full load current\n",
"                  // since given I_sc = 3*1.2*I_f\n",
"\n",
"// caclulations \n",
"s_f = T_ratio*3/(I_ratio)^2 // full load slip\n",
"\n",
"// display the result \n",
"disp('Example 8.3 solution'); \n",
"printf(' \n Full load slip \n s_f = %.2f \n', s_f );\n",
"\n",
"\n",
""
   ]
   }
,
{
		   "cell_type": "markdown",
		   "metadata": {},
		   "source": [
			"## Example 8.4: determine_torques.sce"
		   ]
		  },
  {
"cell_type": "code",
	   "execution_count": null,
	   "metadata": {
	    "collapsed": true
	   },
	   "outputs": [],
"source": [
"// FUNDAMENTALS OF ELECTICAL MACHINES \n",
"// M.A.SALAM \n",
"// NAROSA PUBLISHING HOUSE \n",
"// SECOND EDITION\n",
"\n",
"// Chapter 8 : STARTING, CONTROL AND TESTING OF AN INDUCTION MOTOR\n",
"// Example : 8.4\n",
"\n",
"clc;clear; // clears the console and command history \n",
"\n",
"// Given data\n",
"Z_icr = 0.04+%i*0.5          // inner cage impedance per phase at standstill\n",
"Z_ocr = 0.4+%i*0.2           // outer cage impedance per phase at standstill\n",
"V = 120                      // per phase rotor induced voltage at standstill in V\n",
"\n",
"// caclulations \n",
"Z_com = (Z_icr*Z_ocr)/(Z_icr+Z_ocr)      // combined impedance in ohm\n",
"I_2 = V/abs(Z_com)                       // rotor current per phase in A\n",
"R_2 = real(Z_com)                        // combined rotor resistance in ohm from Z_com\n",
"T = I_2^2*R_2                            // torque at stand still condition in syn.watt\n",
"s = 0.06                                // slip of 6%\n",
"Z_icr6 = 0.04/s+%i*0.5          // inner cage impedance per phase at standstill\n",
"Z_ocr6 = 0.4/s+%i*0.2           // outer cage impedance per phase at standstill\n",
"Z_com6 = ((Z_icr6)*Z_ocr6)/((Z_icr6)+Z_ocr6) // combined impedance in ohm at 6% slip\n",
"I2_6 = V/abs(Z_com6)                    // rotor current per phase in A at 6% slip\n",
"R2_6 = real(Z_com6)                             // combined rotor resistance in ohm from Z_com6\n",
"T6 = I2_6^2*R2_6                        // torque at stand still condition in syn.watt\n",
"\n",
"// display the result \n",
"disp('Example 8.4 solution'); \n",
"printf(' \n Torque at stand still condition \n T = %.2f syn.watt \n', T );\n",
"printf(' \n Torque at stand 6 percent slip \n T6 = %.2f syn.watt \n', T6 );"
   ]
   }
,
{
		   "cell_type": "markdown",
		   "metadata": {},
		   "source": [
			"## Example 8.5: determine_the_equivalent_parameters.sce"
		   ]
		  },
  {
"cell_type": "code",
	   "execution_count": null,
	   "metadata": {
	    "collapsed": true
	   },
	   "outputs": [],
"source": [
"// FUNDAMENTALS OF ELECTICAL MACHINES \n",
"// M.A.SALAM \n",
"// NAROSA PUBLISHING HOUSE \n",
"// SECOND EDITION\n",
"\n",
"// Chapter 8 : STARTING, CONTROL AND TESTING OF AN INDUCTION MOTOR\n",
"// Example : 8.5\n",
"\n",
"clc;clear; // clears the console and command history \n",
"\n",
"// Given data\n",
"V = 210      // supply voltage in V\n",
"f = 50       // supply frequency in Hz\n",
"P = 50       // i/p power in W\n",
"I_br = 2.5   // line current in A\n",
"V_br = 25    // line voltgae\n",
"R_1 = 2.4    // resistance between two resistance in ohm\n",
"\n",
"// caclulations \n",
"V_br = V_br/sqrt(3)        // phase voltage\n",
"P_br = P/3                 // power per phase in W\n",
"R_eq = P_br/I_br^2         // equivalent resistance in ohm\n",
"R_2 = R_eq-(R_1/2)         // per phase rotor resistance in ohm\n",
"Z_eq = V_br/I_br           // equivalent impedance in ohm\n",
"X_eq = sqrt(Z_eq^2-R_2^2)  // equivalent reactance in ohm\n",
"X_1 = 0.5*X_eq\n",
"\n",
"// display the result \n",
"disp('Example 8.5 solution'); \n",
"printf(' \n Equivalent resistance \n R_eq = %.1f ohm \n', R_eq );\n",
"printf(' \n Equivalent reactance \n X_eq = %.1f ohm \n', X_eq );\n",
"printf(' \n Equivalent reactance \n X_1 = %.1f ohm \n', X_1 );\n",
""
   ]
   }
,
{
		   "cell_type": "markdown",
		   "metadata": {},
		   "source": [
			"## Example 8.6: determine_equivalent_parameters.sce"
		   ]
		  },
  {
"cell_type": "code",
	   "execution_count": null,
	   "metadata": {
	    "collapsed": true
	   },
	   "outputs": [],
"source": [
"// FUNDAMENTALS OF ELECTICAL MACHINES \n",
"// M.A.SALAM \n",
"// NAROSA PUBLISHING HOUSE \n",
"// SECOND EDITION\n",
"\n",
"// Chapter 8 : STARTING, CONTROL AND TESTING OF AN INDUCTION MOTOR\n",
"// Example : 8.5\n",
"\n",
"clc;clear; // clears the console and command history \n",
"\n",
"// Given data\n",
"V = 210      // supply voltage in V\n",
"f = 50       // supply frequency in Hz\n",
"P = 4        // number of poles\n",
"P_0 = 400    // i/p power in W\n",
"I_0 = 1.2    // line current in A\n",
"V_0 = 210    // line voltage\n",
"P_fw = 150   // total friction and windage losses in W\n",
"R = 2.2      // stator resistance between two terminals in ohm\n",
"\n",
"// caclulations \n",
"R_1 = R/2                               // per phase stator resistance in ohm\n",
"P_scu = 3*I_0^2*R_1                     // copper loss in W\n",
"P_core = P_0-P_fw-P_scu                 // stator core loss in W\n",
"R_0 = (V_0/sqrt(3))^2/(P_core/3)        // no-load resistance in ohm\n",
"// alternate approach\n",
"phi_0 = acosd(P_core/(sqrt(3)*V_0*I_0)) // power factor angle\n",
"X_0 = (V_0/sqrt(3))/(I_0*sind(phi_0))   // magnetizing reactance per phase in ohm\n",
"\n",
"// display the result \n",
"disp('Example 8.6 solution'); \n",
"printf(' \n No-load resistance \n R_0 = %.1f ohm \n', R_0 );\n",
"printf(' \n Magnetizing reactance per phase \n X_0 = %.0f ohm \n', X_0 );\n",
""
   ]
   }
,
{
		   "cell_type": "markdown",
		   "metadata": {},
		   "source": [
			"## Example 8.7: determine_combined_slip_combined_synchronous_speed_out_put.sce"
		   ]
		  },
  {
"cell_type": "code",
	   "execution_count": null,
	   "metadata": {
	    "collapsed": true
	   },
	   "outputs": [],
"source": [
"// FUNDAMENTALS OF ELECTICAL MACHINES \n",
"// M.A.SALAM \n",
"// NAROSA PUBLISHING HOUSE \n",
"// SECOND EDITION\n",
"\n",
"// Chapter 8 : STARTING, CONTROL AND TESTING OF AN INDUCTION MOTOR\n",
"// Example : 8.7\n",
"\n",
"clc;clear; // clears the console and command history \n",
"\n",
"// Given data\n",
"P_1 = 6      // number of pole\n",
"P_2 = 4      // number of pole\n",
"f =50        // supply frequency in Hz\n",
"P = 60       // power in kW\n",
"\n",
"// caclulations \n",
"s = P_2/(P_1+P_2)        // combined slip\n",
"N_cs = 120*f/(P_1+P_2)   // combined synchronous speed in rpm\n",
"P_0 = P*(P_2/(P_1+P_2))  // o/p of 4-pole motor in kW\n",
"\n",
"// display the result \n",
"disp('Example 8.7 solution'); \n",
"printf(' \n Combined slip \n s = %.1f  \n', s );\n",
"printf(' \n Combined synchronous speed \n N_cs = %.0f rpm \n', N_cs );\n",
"printf(' \n Out-power of 4-pole motor \n P_0 = %.f kW \n', P_0 );\n",
""
   ]
   }
],
"metadata": {
		  "kernelspec": {
		   "display_name": "Scilab",
		   "language": "scilab",
		   "name": "scilab"
		  },
		  "language_info": {
		   "file_extension": ".sce",
		   "help_links": [
			{
			 "text": "MetaKernel Magics",
			 "url": "https://github.com/calysto/metakernel/blob/master/metakernel/magics/README.md"
			}
		   ],
		   "mimetype": "text/x-octave",
		   "name": "scilab",
		   "version": "0.7.1"
		  }
		 },
		 "nbformat": 4,
		 "nbformat_minor": 0
}
