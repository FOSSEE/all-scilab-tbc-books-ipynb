{
"cells": [
 {
		   "cell_type": "markdown",
	   "metadata": {},
	   "source": [
       "# Chapter 6: CONTROL AND STARTING OF A DC MOTOR"
	   ]
	},
{
		   "cell_type": "markdown",
		   "metadata": {},
		   "source": [
			"## Example 6.1: find_value_of_resistance.sce"
		   ]
		  },
  {
"cell_type": "code",
	   "execution_count": null,
	   "metadata": {
	    "collapsed": true
	   },
	   "outputs": [],
"source": [
"// FUNDAMENTALS OF ELECTICAL MACHINES \n",
"// M.A.SALAM \n",
"// NAROSA PUBLISHING HOUSE \n",
"// SECOND EDITION\n",
"\n",
"// Chapter 6 : CONTROL AND STARTING OF A DC MOTORS\n",
"// Example : 6.1\n",
"\n",
"clc;clear; // clears the console and command history \n",
"\n",
"// Given data\n",
"V_t = 220    // supply voltage in V\n",
"I_a1 = 10    // dc shunt motor armature current in A\n",
"N_1 = 900    // speed in rpm\n",
"R_a = 1      // armature resistance in ohm\n",
"N_2 = 500    // speed in rpm\n",
"\n",
"// caclulations \n",
"E_b1 = V_t-I_a1*R_a           // initial back emf in V\n",
"R = (E_b1/10)*(1-(N_2/N_1))   // additional value of resistance in ohm\n",
"\n",
"// display the result \n",
"disp('Example 6.1 solution');\n",
"printf(' \n additional value of resistance \n R = %.1f ohm \n', R);\n",
"\n",
""
   ]
   }
,
{
		   "cell_type": "markdown",
		   "metadata": {},
		   "source": [
			"## Example 6.2: find_the_speed_at_full_load_and_half_load_torque.sce"
		   ]
		  },
  {
"cell_type": "code",
	   "execution_count": null,
	   "metadata": {
	    "collapsed": true
	   },
	   "outputs": [],
"source": [
"// FUNDAMENTALS OF ELECTICAL MACHINES \n",
"// M.A.SALAM \n",
"// NAROSA PUBLISHING HOUSE \n",
"// SECOND EDITION\n",
"\n",
"// Chapter 6 : CONTROL AND STARTING OF A DC MOTORS\n",
"// Example : 6.2\n",
"\n",
"clc;clear; // clears the console and command history \n",
"\n",
"// Given data\n",
"V_t = 230   // supply voltage in V\n",
"I_a1 = 15   // dc shunt motor armature current in A\n",
"N_1 = 650   // speed in rpm\n",
"R_a = 0.4   // armature resistance in ohm\n",
"R = 1       // variable resistance in series with the armature\n",
"\n",
"// caclulations \n",
"// at full load \n",
"E_b1 = V_t-I_a1*R_a       // initial back emf in V\n",
"E_b2 = V_t-I_a1*(R+R_a)   // final back emf in V\n",
"N_2 = N_1*(E_b2/E_b1)     // speed at full load in rpm\n",
"\n",
"// at half load\n",
"I_a21 = I_a1/2               // armature current in A\n",
"E_b21 = V_t-I_a21*(R+R_a)    // back emf in V\n",
"N_21 = N_1*(E_b21/E_b1)      // speed at half load torque in rpm\n",
"\n",
"\n",
"\n",
"// display the result \n",
"disp('Example 6.2 solution');\n",
"printf(' \n speed at full load \n N_2 = %.1f rpm \n', N_2);\n",
"printf(' \n speed at half load torque \n N_21 = %.1f rpm \n', N_21);\n",
""
   ]
   }
,
{
		   "cell_type": "markdown",
		   "metadata": {},
		   "source": [
			"## Example 6.3: find_new_speed.sce"
		   ]
		  },
  {
"cell_type": "code",
	   "execution_count": null,
	   "metadata": {
	    "collapsed": true
	   },
	   "outputs": [],
"source": [
"// FUNDAMENTALS OF ELECTICAL MACHINES \n",
"// M.A.SALAM \n",
"// NAROSA PUBLISHING HOUSE \n",
"// SECOND EDITION\n",
"\n",
"// Chapter 6 : CONTROL AND STARTING OF A DC MOTORS\n",
"// Example : 6.3\n",
"\n",
"clc;clear; // clears the console and command history \n",
"\n",
"// Given data\n",
"V_t = 230    // supply voltage series motor in V\n",
"R_a = 0.2    // armature resistance in ohm\n",
"R_f = 0.2    // field resistance in ohm\n",
"I_a1 = 10    // dc series motor armature current in A\n",
"N = 1000     // speed in rpm\n",
"I_a2 = 8     // dc series motor armature current in A when R=2 ohm\n",
"R_2 = 2      //  series resistance in ohm\n",
"R_1 = 0      // series resistance in ohm\n",
"// phi2 = 0.8*phi1 \n",
"// phi1/phi2 = 1.25\n",
"\n",
"// caclulations \n",
"R_a1 = R_a+R_1            // new armature resistance in ohm\n",
"E_b1 = V_t-I_a1*R_a1      // back emf in V\n",
"R_a2 = R_a+R_2            // new armature resistance in ohm\n",
"E_b2 = V_t-I_a2*R_a2      // back emf in V\n",
"N_2 = (E_b2/E_b1)*1.25*N  // new speed in rpm \n",
"\n",
"// display the result \n",
"disp('Example 6.3 solution');\n",
"printf(' \n New speed \n N_2 = %.1f rpm \n', N_2);"
   ]
   }
,
{
		   "cell_type": "markdown",
		   "metadata": {},
		   "source": [
			"## Example 6.4: determine_the_speed.sce"
		   ]
		  },
  {
"cell_type": "code",
	   "execution_count": null,
	   "metadata": {
	    "collapsed": true
	   },
	   "outputs": [],
"source": [
"// FUNDAMENTALS OF ELECTICAL MACHINES \n",
"// M.A.SALAM \n",
"// NAROSA PUBLISHING HOUSE \n",
"// SECOND EDITION\n",
"\n",
"// Chapter 6 : CONTROL AND STARTING OF A DC MOTORS\n",
"// Example : 6.4\n",
"\n",
"clc;clear; // clears the console and command history \n",
"\n",
"// Given data\n",
"N = 1100         // speed of dc series motor in rpm\n",
"P = 4            // number of poles\n",
"I_a1 = 15        // supply current to dc series motor in A\n",
"V_t = 220        // supply voltage in V\n",
"R_a = 0.9        // series armature resistance in ohm\n",
"R_se1 = 0.6      // series field resistance in ohm\n",
"I_a2 = 25        // supply current to dc series motor in A\n",
"// phi2 = 0.8*phi1 \n",
"// phi1/phi2 = 1.25\n",
"\n",
"// caclulations \n",
"E_b1 = V_t-I_a1*(R_a+R_se1)    // back emf in V\n",
"R_se2 = 0.6/4                 // value of resistance per path in ohm\n",
"E_b2 = V_t-I_a2*(R_a+R_se2)   // back emf in V\n",
"N_2 = (E_b2/E_b1)*1.25*N      // new speed in rpm \n",
"\n",
"// display the result \n",
"disp('Example 6.4 solution');\n",
"printf(' \n New speed \n N_2 = %.1f rpm \n', N_2);\n",
""
   ]
   }
,
{
		   "cell_type": "markdown",
		   "metadata": {},
		   "source": [
			"## Example 6.5: calculate_value_of_resistance.sce"
		   ]
		  },
  {
"cell_type": "code",
	   "execution_count": null,
	   "metadata": {
	    "collapsed": true
	   },
	   "outputs": [],
"source": [
"// FUNDAMENTALS OF ELECTICAL MACHINES \n",
"// M.A.SALAM \n",
"// NAROSA PUBLISHING HOUSE \n",
"// SECOND EDITION\n",
"\n",
"// Chapter 6 : CONTROL AND STARTING OF A DC MOTORS\n",
"// Example : 6.5\n",
"\n",
"clc;clear; // clears the console and command history \n",
"\n",
"// Given data\n",
"V_t = 230         // shunt motor supply voltage in V\n",
"R_a = 0.4         // armature resistance in ohm\n",
"I_a = 30          // armature current in A\n",
"n = 3             // number of steps\n",
"\n",
"// caclulations \n",
"R_1 = V_t/I_a        // maximum value of current in ohm\n",
"k = (R_1/R_a)^(1/3)  // constant\n",
"R_2 = R_1/k          // other value of resistance in ohm\n",
"R_3 = R_2/k          // other value of resistance in ohm\n",
"R_4 = R_3/k          // other value of resistance in ohm\n",
"R_1step = R_1-R_2    // resistance of the 1st step in ohm\n",
"R_2step = R_2-R_3    // resistance of the 1st step in ohm\n",
"R_3step = R_3-R_4    // resistance of the 1st step in ohm\n",
"\n",
"// display the result \n",
"disp('Example 6.5 solution');\n",
"printf(' \n resistance of the 1st step in ohm \n R_1step = %.1f ohm \n', R_1step);\n",
"printf(' \n resistance of the 2nd step in ohm \n R_2step = %.1f ohm \n', R_2step);\n",
"printf(' \n resistance of the 3rd step in ohm \n R_3step = %.2f ohm \n', R_3step);"
   ]
   }
,
{
		   "cell_type": "markdown",
		   "metadata": {},
		   "source": [
			"## Example 6.6: find_the_value_of_resistance.sce"
		   ]
		  },
  {
"cell_type": "code",
	   "execution_count": null,
	   "metadata": {
	    "collapsed": true
	   },
	   "outputs": [],
"source": [
"// FUNDAMENTALS OF ELECTICAL MACHINES \n",
"// M.A.SALAM \n",
"// NAROSA PUBLISHING HOUSE \n",
"// SECOND EDITION\n",
"\n",
"// Chapter 6 : CONTROL AND STARTING OF A DC MOTORS\n",
"// Example : 6.6\n",
"\n",
"clc;clear; // clears the console and command history \n",
"\n",
"// Given data\n",
"V_t = 220      // shunt motor supply voltage in V\n",
"P_0 = 3550     // o/p power in W \n",
"n = 0.85       // efficiency\n",
"// condition given : starting current of the motor should not exceed twice the load current\n",
"\n",
"// caclulations \n",
"P_in = P_0/n          // i/p power in W\n",
"P_tloss = P_in-P_0    // total loss in W\n",
"I_a = P_in/V_t        // neglet the field current then armature current in A\n",
"P_cu = P_tloss/2      // copper loss in W\n",
"R_a = P_cu/I_a^2      // armature resistance in ohm\n",
"I_1 = 2*I_a           // maximum starting current in A\n",
"R_1 = V_t/I_1         // maximum resistance in ohm\n",
"k = (R_1/R_a)^(1/4)   // constant\n",
"R_2 = R_1/k           // other value of resistance in ohm\n",
"R_3 = R_2/k           // other value of resistance in ohm\n",
"R_4 = R_3/k           // other value of resistance in ohm\n",
"R_5 = R_4/k           // other value of resistance in ohm\n",
"R_1step = R_1-R_2     // resistance of the 1st step in ohm\n",
"R_2step = R_2-R_3     // resistance of the 1st step in ohm\n",
"R_3step = R_3-R_4     // resistance of the 1st step in ohm\n",
"R_4step = R_4-R_5     // resistance of the 1st step in ohm\n",
"\n",
"// display the result \n",
"disp('Example 6.6 solution');\n",
"printf(' \n resistance of the 1st step in ohm \n R_1step = %.1f ohm \n', R_1step);\n",
"printf(' \n resistance of the 2nd step in ohm \n R_2step = %.2f ohm \n', R_2step);\n",
"printf(' \n resistance of the 3rd step in ohm \n R_3step = %.2f ohm \n', R_3step);\n",
"printf(' \n resistance of the 4th step in ohm \n R_3step = %.2f ohm \n', R_4step);"
   ]
   }
],
"metadata": {
		  "kernelspec": {
		   "display_name": "Scilab",
		   "language": "scilab",
		   "name": "scilab"
		  },
		  "language_info": {
		   "file_extension": ".sce",
		   "help_links": [
			{
			 "text": "MetaKernel Magics",
			 "url": "https://github.com/calysto/metakernel/blob/master/metakernel/magics/README.md"
			}
		   ],
		   "mimetype": "text/x-octave",
		   "name": "scilab",
		   "version": "0.7.1"
		  }
		 },
		 "nbformat": 4,
		 "nbformat_minor": 0
}
