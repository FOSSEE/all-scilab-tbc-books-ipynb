{
"cells": [
 {
		   "cell_type": "markdown",
	   "metadata": {},
	   "source": [
       "# Chapter 3: TRANSFORMER AND PER UNIT SYSTEM"
	   ]
	},
{
		   "cell_type": "markdown",
		   "metadata": {},
		   "source": [
			"## Example 3.10: calculate_all_day_efficiency.sce"
		   ]
		  },
  {
"cell_type": "code",
	   "execution_count": null,
	   "metadata": {
	    "collapsed": true
	   },
	   "outputs": [],
"source": [
"// FUNDAMENTALS OF ELECTICAL MACHINES \n",
"// M.A.SALAM \n",
"// NAROSA PUBLISHING HOUSE \n",
"// SECOND EDITION\n",
"\n",
"// Chapter 3 : TRANSFORMER AND PER UNIT SYSTEM\n",
"// Example : 3.10\n",
"\n",
"\n",
"clc;clear; // clears the console and command history \n",
"\n",
"// Given data\n",
"kVA = 12    // kVA ratingss of transformer\n",
"n = 0.97    // maximum efficiency at unity power factor\n",
"t_1 = 8     // time in hours\n",
"P_1 = 10    // load in kW\n",
"pf_1 = 0.8  // lagging power factor\n",
"t_2 = 10    // time in hours\n",
"P_2 = 15    // load in kW\n",
"pf_2 = 0.90 // leading power factor\n",
"t_3 = 6     // time in hours at no load\n",
"P_3 = 0     // load in kW\n",
"\n",
"// caclulations \n",
"P_01 = kVA*1                      // o/p power at full load and unity factor in kW\n",
"P_in1 = (P_01/n)                  // i/p power at full load\n",
"P_tloss = P_in1-P_01              // total loss in kW\n",
"P_cu = P_tloss/2                  // copper loss at 12 kVA P_cu=P_i in kW\n",
"P_024 = P_1*t_1+P_2*t_2+P_3*t_3   // all day o.p power in kWh\n",
"P_i24 = 24*P_cu                   // iron loss for 24 hours in kWh\n",
"P_cu24 = P_cu*t_1*((P_1/pf_1)/P_01)^2+P_cu*t_2*((P_2/pf_2)/P_01)^2 // copper loss for 24 hours\n",
"P_in24 = P_024+P_i24+P_cu24       // all day i/p power in kWh\n",
"n_allday = (P_024/P_in24)*100     // all day efficiency\n",
"\n",
"// display the result \n",
"disp('Example 3.10 solution');\n",
"printf(' \n All day efficiency \n n_allday = %.0f percent \n', n_allday);\n",
""
   ]
   }
,
{
		   "cell_type": "markdown",
		   "metadata": {},
		   "source": [
			"## Example 3.11: determine_noload_circuit_resisatnce_and_reactance.sce"
		   ]
		  },
  {
"cell_type": "code",
	   "execution_count": null,
	   "metadata": {
	    "collapsed": true
	   },
	   "outputs": [],
"source": [
"// FUNDAMENTALS OF ELECTICAL MACHINES \n",
"// M.A.SALAM \n",
"// NAROSA PUBLISHING HOUSE \n",
"// SECOND EDITION\n",
"\n",
"// Chapter 3 : TRANSFORMER AND PER UNIT SYSTEM\n",
"// Example : 3.11\n",
"\n",
"\n",
"clc;clear; // clears the console and command history \n",
"\n",
"// Given data\n",
"V_1 = 200  // voltage in V\n",
"f = 50     // frequency in Hz\n",
"I_0 = 0.6  // single phase current in A\n",
"P_0 = 80   // power in W\n",
"\n",
"// caclulations \n",
"cos_phi0 = P_0/(V_1*I_0) // power factor\n",
"sin_phi0 = 0.74          // from above expression\n",
"I_w = I_0*cos_phi0       // working component of no load current in A\n",
"I_m = I_0*sin_phi0       // working component of no load current in A\n",
"R_0 = V_1/I_w            // no load circuit resistance in ohm\n",
"X_0 = V_1/I_m            // no load circuit reactance in ohm\n",
"\n",
"// display the result \n",
"disp('Example 3.11 solution');\n",
"printf(' \n No-load circuit resistance \n R_0 = %.2f ohm \n', R_0);\n",
"printf(' \n No-load circuit reactance \n X_0 = %.1f ohm \n', X_0);"
   ]
   }
,
{
		   "cell_type": "markdown",
		   "metadata": {},
		   "source": [
			"## Example 3.12: find_equivlent_R_L_Z_referred_to_primary_and_secondary_and_VR.sce"
		   ]
		  },
  {
"cell_type": "code",
	   "execution_count": null,
	   "metadata": {
	    "collapsed": true
	   },
	   "outputs": [],
"source": [
"// FUNDAMENTALS OF ELECTICAL MACHINES \n",
"// M.A.SALAM \n",
"// NAROSA PUBLISHING HOUSE \n",
"// SECOND EDITION\n",
"\n",
"// Chapter 3 : TRANSFORMER AND PER UNIT SYSTEM\n",
"// Example : 3.12\n",
"\n",
"\n",
"clc;clear; // clears the console and command history \n",
"\n",
"// Given data\n",
"kVA = 25    // kVA ratings of transformer\n",
"V1 = 2200   // primary side voltage in V\n",
"V2 = 220    // secondary side voltage in V\n",
"V_1 = 40    // voltage at high voltage side in V\n",
"I_1 = 5     // current at high voltage side in A\n",
"P = 150     // power at high voltage side in W\n",
"\n",
"// caclulations \n",
"Z_01 = V_1/I_1         // reactance to primary sidec in ohm\n",
"R_01 = P/I_1^2         // resistance to primary side in ohm\n",
"phi = acosd(R_01/Z_01) // power factor angle\n",
"X_01 = Z_01*sind(phi)  // impedance to primary side in ohm\n",
"a = V1/V2              // turn ratio\n",
"Z_02 = Z_01/a^2        // reactance to secondary side in ohm\n",
"R_02 = R_01/a^2        // resistance to secondary side in ohm\n",
"X_02 = X_01/a^2        // impedance to secondary side in ohm\n",
"I_2 = kVA*10^3/V2      // secondary side current in A\n",
"E_2 = V2+I_2*Z_02      // secondary induced voltage in V\n",
"VR = ((E_2-V2)/V2)*100 // voltage regulation\n",
"\n",
"// display the result \n",
"disp('Example 3.12 solution');\n",
"printf(' \n Resistance to primary side \n Z_01 = %.2f ohm \n', Z_01);\n",
"printf(' \n Resistance to primary side \n R_01 = %.1f ohm \n', R_01);\n",
"printf(' \n Impedance to primary side \n X_01 = %.2f ohm \n', X_01);\n",
"printf(' \n Reactance to secondary side \n Z_02 = %.2f ohm \n', Z_02);\n",
"printf(' \n Resistance to secondary side \n R_02 = %.2f ohm \n', R_02);\n",
"printf(' \n Impedance to secondary side \n X_02 = %.3f ohm \n', X_02);\n",
"printf(' \n oltage regulation \n VR = %.0f percent \n', VR);\n",
""
   ]
   }
,
{
		   "cell_type": "markdown",
		   "metadata": {},
		   "source": [
			"## Example 3.13: determine_kVA_ratings.sce"
		   ]
		  },
  {
"cell_type": "code",
	   "execution_count": null,
	   "metadata": {
	    "collapsed": true
	   },
	   "outputs": [],
"source": [
"// FUNDAMENTALS OF ELECTICAL MACHINES \n",
"// M.A.SALAM \n",
"// NAROSA PUBLISHING HOUSE \n",
"// SECOND EDITION\n",
"\n",
"// Chapter 3 : TRANSFORMER AND PER UNIT SYSTEM\n",
"// Example : 3.13\n",
"\n",
"clc;clear; // clears the console and command history \n",
"\n",
"// Given data\n",
"kVA = 120               // kVA ratings of autotransformer\n",
"V1 = 2200               // lower part voltage of autotransformer in V\n",
"V2 = 220                // upper part voltage of autotransformer in V\n",
"\n",
"// caclulations \n",
"I_pq = kVA*10^3/V2     // currents of respective windings\n",
"I_qr = kVA*10^3/V1     // currents of respective windings\n",
"I_1 = I_pq+I_qr        // current in primary side in A\n",
"V_2 = V1+V2            // voltage across the secondary side in V\n",
"kVA_1 = I_1*V1/1000    // kVA ratings of autotrnsformer\n",
"kVA_2 = I_pq*V_2/1000  // kVA ratings of autotrnsformer\n",
" \n",
"\n",
"// display the result \n",
"disp('Example 3.13 solution');\n",
"printf(' \n kVA ratings of autotrnsformer \n kVA_1 = %.0f kVA \n', kVA_1);\n",
"printf(' \n kVA ratings of autotrnsformer \n kVA_2 = %.0f kVA \n', kVA_2);\n",
""
   ]
   }
,
{
		   "cell_type": "markdown",
		   "metadata": {},
		   "source": [
			"## Example 3.14: determine_circulating_current.sce"
		   ]
		  },
  {
"cell_type": "code",
	   "execution_count": null,
	   "metadata": {
	    "collapsed": true
	   },
	   "outputs": [],
"source": [
"// FUNDAMENTALS OF ELECTICAL MACHINES \n",
"// M.A.SALAM \n",
"// NAROSA PUBLISHING HOUSE \n",
"// SECOND EDITION\n",
"\n",
"// Chapter 3 : TRANSFORMER AND PER UNIT SYSTEM\n",
"// Example : 3.14\n",
"\n",
"clc;clear; // clears the console and command history \n",
"\n",
"// Given data\n",
"E_1 = 500   // secondary induced voltages in V\n",
"E_2 = 450   // secondary induced voltages in V\n",
"kVA_1 = 100 // kVA ratings of transformer\n",
"kVA_2 = 200 // kVA ratings of transformer\n",
"Z_1 = 0.05  // impedance of transformer\n",
"Z_2 = 0.08  // impedance of transformer\n",
"\n",
"// caclulations \n",
"Z1 =Z_1*E_1/(kVA_1*10^3/E_1)  // actual impedance of 1st transformer in ohm\n",
"Z2 = Z_2*E_2/(kVA_1*10^3/E_2) // actual impedance of 2nd transformer in ohm\n",
"Z = %i*(Z1+Z2)\n",
"I_c = (E_1-E_2)/(Z)          // value of the circulating current\n",
"\n",
"// display the result \n",
"disp('Example 3.14 solution');\n",
"printf(' \n Value of the circulating current \n I_c = %.3f<%.f A \n', abs(I_c),atand(imag(I_c),real(I_c)));\n",
""
   ]
   }
,
{
		   "cell_type": "markdown",
		   "metadata": {},
		   "source": [
			"## Example 3.15: determine_line_voltage_and_current_at_secondary_side.sce"
		   ]
		  },
  {
"cell_type": "code",
	   "execution_count": null,
	   "metadata": {
	    "collapsed": true
	   },
	   "outputs": [],
"source": [
"// FUNDAMENTALS OF ELECTICAL MACHINES \n",
"// M.A.SALAM \n",
"// NAROSA PUBLISHING HOUSE \n",
"// SECOND EDITION\n",
"\n",
"// Chapter 3 : TRANSFORMER AND PER UNIT SYSTEM\n",
"// Example : 3.15\n",
"\n",
"clc;clear; // clears the console and command history \n",
"\n",
"// Given data\n",
"V_L1 = 11 // three-phase transformer supply in kV\n",
"I_P1 = 6  // three-phase transformer current in A\n",
"a = 11    // turns ratio\n",
"\n",
"// caclulations \n",
"// delta-wye\n",
"V_dP2 = V_L1*10^3/a         // phase voltage at secondary side in V\n",
"V_dL2 = sqrt(3)*V_dP2       // line voltage at secondary side in V\n",
"I_dP1 = a/sqrt(3)           // phase current in the primary in A\n",
"I_dL2 = a*I_dP1             // line current in secondary in A\n",
"//Wye delta connection \n",
"V_wP1 = V_L1*10^3/sqrt(3)   // phase voltage at primary in V\n",
"V_wP2 = V_wP1/a             // phase voltage at secondary in V, V_L2=V_P2\n",
"I_wP2 = a*I_P1              // phase current in secondary in A\n",
"I_wL2 = sqrt(3)*I_wP2       // line current in secondary in A\n",
"\n",
"// display the result \n",
"disp('Example 3.15 solution');\n",
"printf(' \n For delta-wye connection-');\n",
"printf(' \n Phase voltage at secondary side \n V_dL2 = %.f V \n', V_dL2);\n",
"printf(' \n Line voltage at secondary side \n I_dL2 = %.2f A \n', I_dL2);\n",
"printf(' \n For wye-delta connection-')\n",
"printf(' \n Phase voltage at secondary side \n V_wL2 = %.2f V \n', V_wP2);\n",
"printf(' \n Line current in secondary side \n I_wL2 = %.2f A \n', I_wL2);\n",
""
   ]
   }
,
{
		   "cell_type": "markdown",
		   "metadata": {},
		   "source": [
			"## Example 3.16: determine_the_per_unit_values_of_R_L_Z.sce"
		   ]
		  },
  {
"cell_type": "code",
	   "execution_count": null,
	   "metadata": {
	    "collapsed": true
	   },
	   "outputs": [],
"source": [
"// FUNDAMENTALS OF ELECTICAL MACHINES \n",
"// M.A.SALAM \n",
"// NAROSA PUBLISHING HOUSE \n",
"// SECOND EDITION\n",
"\n",
"// Chapter 3 : TRANSFORMER AND PER UNIT SYSTEM\n",
"// Example : 3.16\n",
"\n",
"\n",
"clc;clear; // clears the console and command history \n",
"\n",
"// Given data\n",
"V_b = 220   // voltage in V\n",
"f = 50      // frequency in Hz\n",
"S_b = 600   // power ratings\n",
"R = 3       // resistance in ohm\n",
"X_L = 5     // inducatnce in ohm\n",
"Z = R+X_L   // impedance\n",
"\n",
"// caclulations \n",
"I_b = S_b/V_b         // base value of current in A\n",
"Z_b = V_b^2/S_b       // base value of impedance in ohm\n",
"R_pu = R/Z_b          // per unit value of resistance in ohm\n",
"X_Lpu = X_L/Z_b       // per unit value of impedance in ohm\n",
"Z_pu = abs(Z)/Z_b     // per unit of value of impedance in ohm\n",
"Z_pu = R_pu+%i*X_Lpu  // per unit of value of impedance in ohm NOTE:alternative                          method\n",
"\n",
"// display the result \n",
"disp('Example 3.16 solution');\n",
"printf(' \n Per unit value of resistance \n R_pu = %.3f ohm \n', R_pu);\n",
"printf(' \n Per unit value of impedance \n X_Lpu = %.3f ohm \n', X_Lpu);\n",
"printf(' \n Per unit of value of impedance \n Z_pu = %.3f<%.f \n', abs(Z_pu),atand(imag(Z_pu),real(Z_pu)));\n",
""
   ]
   }
,
{
		   "cell_type": "markdown",
		   "metadata": {},
		   "source": [
			"## Example 3.17: find_grid_bus_voltage.sce"
		   ]
		  },
  {
"cell_type": "code",
	   "execution_count": null,
	   "metadata": {
	    "collapsed": true
	   },
	   "outputs": [],
"source": [
"// FUNDAMENTALS OF ELECTICAL MACHINES \n",
"// M.A.SALAM \n",
"// NAROSA PUBLISHING HOUSE \n",
"// SECOND EDITION\n",
"\n",
"// Chapter 3 : TRANSFORMER AND PER UNIT SYSTEM\n",
"// Example : 3.17\n",
"\n",
"\n",
"clc;clear; // clears the console and command history \n",
"\n",
"// Given data\n",
"S_b1 = 100    // base apparent power\n",
"V_bT11 = 220  // voltage of 1st transformer in kV\n",
"V_bT12 = 132  // voltage of 1st transformer in kV\n",
"X_T1 = 0.02    // impedance of 1st transformer in pu\n",
"S_b2 = 50    // base apparent power\n",
"V_bT21 = 132  // voltage of 2nd transformer in kV\n",
"V_bT22 = 66   // voltage of 2nd transformer in kV\n",
"X_T2 = 0.05   // impedance of 2nd transformer in pu\n",
"X_L = 4       // line impedance in ohm\n",
"P = 50        // power absorded in MW\n",
"pf = 0.6      // lagging power factor from transmission line\n",
"Z_p = 0.32*%i     //Reactance of transformer in ohm\n",
"\n",
"// caclulations \n",
"S_b = S_b1                           //Base power(MW)\n",
"V_b = V_bT11                           //Base voltage(kV)\n",
"a = V_bT11/V_bT12                                // turn ratio for 1st transformer\n",
"Vb_line = (V_bT11/a)               // base voltage of line in kV\n",
"Zb_line = Vb_line^2/S_b1                         // base impedance of line in ohm\n",
"Xpu_line = X_L/Zb_line                           // per unit reactance of line\n",
"Xpu_T1 = X_T1*(V_bT11/V_b)^2*(S_b/S_b1)  // 1st grid transformer ,the per unit reactance\n",
"Vb_load = (V_bT12/(V_bT12/V_bT22))               // load side base voltage in kV\n",
"Xpu_load = X_T2*(V_bT22/Vb_load)^2*(S_b/S_b2)       // second load transformer ,the per  unit reactance\n",
"I_b = S_b*1000/(sqrt(3)*Vb_load)                      // base current\n",
"I_L = S_b2*1000/(sqrt(3)*V_bT22*pf)         // actualcurrent in load in A\n",
"I_Lpu = I_L/I_b                                 // per unit value of the load\n",
"V_L = V_bT22/V_bT22     //per unit value of the voltage at the load terminal(bus4)\n",
"V_gb = I_Lpu*exp(%i*acos(pf))*Z_p + 1 // per unit value of bus voltage \n",
"V_gba = abs(V_gb)*V_bT11 // actual value of grid to bus voltage \n",
"\n",
"// display the result \n",
"disp('Example 3.17 solution');\n",
"printf(' \n Actual value of grid to bus voltage \n V_gba = %.2f kV \n', V_gba);"
   ]
   }
,
{
		   "cell_type": "markdown",
		   "metadata": {},
		   "source": [
			"## Example 3.1: EX3_1.sce"
		   ]
		  },
  {
"cell_type": "code",
	   "execution_count": null,
	   "metadata": {
	    "collapsed": true
	   },
	   "outputs": [],
"source": [
"// FUNDAMENTALS OF ELECTICAL MACHINES \n",
"// M.A.SALAM \n",
"// NAROSA PUBLISHING HOUSE \n",
"// SECOND EDITION\n",
"\n",
"// Chapter 3 : TRANSFORMER AND PER UNIT SYSTEM\n",
"// Example : 3.1\n",
"clc;clear; // clears the console and command history \n",
"\n",
"// Given data\n",
"V_1 = 2200  // primary voltage of transformer in V\n",
"V_2 = 220   // secondary voltage of transformer in V\n",
"N_2 = 56    // number of turns in the secondary coil of transformer\n",
"kVA = 25    // kVA rating of transformer\n",
"\n",
"// caclulations \n",
"a = V_1/V_2         // turn ratio\n",
"N_1 = a*N_2         // number of primary turns \n",
"I_1 = kVA*10^3/V_1  // primary full load current in A\n",
"I_2 = kVA*10^3/V_2  // secondary full load current in A\n",
"\n",
"// display the result \n",
"disp('Example 3.1 solution');\n",
"printf(' \n Number of primary turns \n N_1 = %.0f \n', N_1);\n",
"printf(' \n Primary full load current \n I_2 = %.2f A \n', I_1);\n",
"printf(' \n Secondary full load current \n I_2 = %.1f A \n', I_2);"
   ]
   }
,
{
		   "cell_type": "markdown",
		   "metadata": {},
		   "source": [
			"## Example 3.2: determine_turns_ratio_and_mutual_flux.sce"
		   ]
		  },
  {
"cell_type": "code",
	   "execution_count": null,
	   "metadata": {
	    "collapsed": true
	   },
	   "outputs": [],
"source": [
"// FUNDAMENTALS OF ELECTICAL MACHINES \n",
"// M.A.SALAM \n",
"// NAROSA PUBLISHING HOUSE \n",
"// SECOND EDITION\n",
"\n",
"// Chapter 3 : TRANSFORMER AND PER UNIT SYSTEM\n",
"// Example : 3.2\n",
"clc;clear; // clears the console and command history \n",
"\n",
"// Given data\n",
"V_1 = 220 // voltage in V\n",
"N_1 = 150 // number of turns in the primary coil of transformer\n",
"N_2 = 300 // number of turns in the secondary coil of transformer\n",
"f = 50    // frequency in Hz\n",
"\n",
"// caclulations \n",
"a = N_1/N_2               // turn ratio\n",
"phi_m = V_1/(4.44*f*N_1) // mutual flux in Wb\n",
"\n",
"// display the result \n",
"disp('Example 3.2 solution');\n",
"printf(' \n Mutual flux \n phi_m = %.2e Wb \n', phi_m);"
   ]
   }
,
{
		   "cell_type": "markdown",
		   "metadata": {},
		   "source": [
			"## Example 3.3: find_iron_loss_and_magnetizing_component_of_currents.sce"
		   ]
		  },
  {
"cell_type": "code",
	   "execution_count": null,
	   "metadata": {
	    "collapsed": true
	   },
	   "outputs": [],
"source": [
"// FUNDAMENTALS OF ELECTICAL MACHINES \n",
"// M.A.SALAM \n",
"// NAROSA PUBLISHING HOUSE \n",
"// SECOND EDITION\n",
"\n",
"// Chapter 3 : TRANSFORMER AND PER UNIT SYSTEM\n",
"// Example : 3.3\n",
"clc;clear; // clears the console and command history \n",
"\n",
"// Given data\n",
"V_1 = 2200 // primary voltage of transformer in V\n",
"V_2 = 220  // secondary voltage of transformer in V\n",
"I_0 = 0.5  // no-load current in A\n",
"P_0 = 350  // absorbed power by transformer \n",
"\n",
"// caclulations \n",
"phi = acos(.32)\n",
"sin_phi = sin(phi)\n",
"cos_phi = P_0/(V_1*I_0) // no-load power factor\n",
"I_w = I_0*cos_phi       // iron loss component of current A\n",
"I_m = I_0*sin_phi       // magnetizing component of current A\n",
"\n",
"\n",
"// display the result \n",
"disp('Example 3.3 solution');\n",
"printf(' \n The iron loss component of current A \n I_w = %.2f A \n', I_w);\n",
"printf(' \n The magnetizing component of current A \n I_m = %.2f A \n', I_m);"
   ]
   }
,
{
		   "cell_type": "markdown",
		   "metadata": {},
		   "source": [
			"## Example 3.4: find_turns_ratio_load_impedance_primary_current.sce"
		   ]
		  },
  {
"cell_type": "code",
	   "execution_count": null,
	   "metadata": {
	    "collapsed": true
	   },
	   "outputs": [],
"source": [
"// FUNDAMENTALS OF ELECTICAL MACHINES \n",
"// M.A.SALAM \n",
"// NAROSA PUBLISHING HOUSE \n",
"// SECOND EDITION\n",
"\n",
"// Chapter 3 : TRANSFORMER AND PER UNIT SYSTEM\n",
"// Example : 3.4\n",
"clc;clear; // clears the console and command history \n",
"\n",
"// Given data\n",
"N_1 = 450  // number of turns in the primary coil of transformer\n",
"N_2 = 45   // number of turns in the secondary coil of transformer\n",
"Z_L = 3    // load impedance in Ω\n",
"V_1 = 15   // primary coil voltage of transformer in V\n",
"\n",
"// caclulations \n",
"a = N_1/N_2   // turn ratio\n",
"Z_1 = a^2*Z_L // load impedance referred to primary ohm\n",
"I_1 = V_1/Z_1 // primary current in A\n",
"\n",
"\n",
"// display the result \n",
"disp('Example 3.4 solution');\n",
"printf(' \n Turn ratio \n a = %.0f \n', a);\n",
"printf(' \n Load impedance referred to primary \n Z_1 = %.0f Ω \n', Z_1);\n",
"printf(' \n Primary current \n I_1 = %.2f A \n', I_1);"
   ]
   }
,
{
		   "cell_type": "markdown",
		   "metadata": {},
		   "source": [
			"## Example 3.5: determine_primary_current.sce"
		   ]
		  },
  {
"cell_type": "code",
	   "execution_count": null,
	   "metadata": {
	    "collapsed": true
	   },
	   "outputs": [],
"source": [
"// FUNDAMENTALS OF ELECTICAL MACHINES \n",
"// M.A.SALAM \n",
"// NAROSA PUBLISHING HOUSE \n",
"// SECOND EDITION\n",
"\n",
"// Chapter 3 : TRANSFORMER AND PER UNIT SYSTEM\n",
"// Example : 3.5\n",
"clc;clear; // clears the console and command history \n",
"\n",
"// Given data\n",
"V_1 = 400      // primary voltage of transformer in V\n",
"V_2 = 100      // secondary voltage of transformer in V\n",
"I_0 = 0.4      // no-load current in A\n",
"I_2 = 100      // load draws current in A\n",
"cos_phi0 = 0.3 // power factor lagging from the supply\n",
"cos_phi2 = 0.6 // power factor lagging from the secondary\n",
"\n",
"// caclulations \n",
"phi0 = acosd(0.3)\n",
"phi2 = acosd(0.6)\n",
"phi1 = phi0-phi2 \n",
"a = V_1/V_2  // turn ratio\n",
"I_2! = I_2/a // secondary current equivalent to the primary \n",
"I_1 = sqrt((I_2!^2)+(I_0^2)+(2*I_2!*I_0*cosd(19.4))) // primary current in A\n",
"\n",
"// display the result \n",
"disp('Example 3.5 solution');\n",
"printf(' \n Primary current \n I_1 = %.2f A \n', I_1);"
   ]
   }
,
{
		   "cell_type": "markdown",
		   "metadata": {},
		   "source": [
			"## Example 3.6: determine_impedance_referred_to_the_primary_and_secondary.sce"
		   ]
		  },
  {
"cell_type": "code",
	   "execution_count": null,
	   "metadata": {
	    "collapsed": true
	   },
	   "outputs": [],
"source": [
"// FUNDAMENTALS OF ELECTICAL MACHINES \n",
"// M.A.SALAM \n",
"// NAROSA PUBLISHING HOUSE \n",
"// SECOND EDITION\n",
"\n",
"// Chapter 3 : TRANSFORMER AND PER UNIT SYSTEM\n",
"// Example : 3.6\n",
"clc;clear; // clears the console and command history \n",
"\n",
"// Given data\n",
"V_1 = 2000  // primary voltage of transformer in V\n",
"V_2 = 400   // secondary voltage of transformer in V\n",
"kVA = 200   // kVA rating of transformer\n",
"R_1 = 3     // primary resistance in Ω\n",
"X_1 = 12    // primary reactance in Ω\n",
"R_2 = 0.3   // secondary resistance in Ω\n",
"X_2 = 0.1   // secondary reactance in Ω\n",
"\n",
"// caclulations \n",
"a = V_1/V_2 // turn ratio\n",
"R_01 = R_1+(a^2*R_2)           // total resistance referred to primary side Ω\n",
"X_01 = X_1+(a^2*X_2)           // total reactance referred to primary side Ω\n",
"Z_01 = sqrt((R_01^2)+(X_01^2)) // equivalent impedance reffered to primary side in Ω\n",
"R_02 = R_2+(R_1/a^2)           // total resistance referred to secondary side Ω\n",
"X_02 = X_2+(X_1/a^2)           // total reactance referred to secondary side Ω\n",
"Z_02 = sqrt((R_02^2)+(X_02^2)) // equivalent impedance reffered to secondary side in Ω\n",
"\n",
"// display the result \n",
"disp('Example 3.6 solution');\n",
"printf(' \n Equivalent impedance reffered to primary side \n Z_01 = %.1f Ω \n', Z_01);\n",
"printf(' \n Equivalent impedance reffered to secondary side \n Z_02 = %.2f Ω \n', Z_02);"
   ]
   }
,
{
		   "cell_type": "markdown",
		   "metadata": {},
		   "source": [
			"## Example 3.7: find_voltage_regulation.sce"
		   ]
		  },
  {
"cell_type": "code",
	   "execution_count": null,
	   "metadata": {
	    "collapsed": true
	   },
	   "outputs": [],
"source": [
"// FUNDAMENTALS OF ELECTICAL MACHINES \n",
"// M.A.SALAM \n",
"// NAROSA PUBLISHING HOUSE \n",
"// SECOND EDITION\n",
"\n",
"// Chapter 3 : TRANSFORMER AND PER UNIT SYSTEM\n",
"// Example : 3.7\n",
"clc;clear; // clears the console and command history \n",
"\n",
"// Given data\n",
"V_1 = 200      // primary voltage of transformer in V\n",
"V_2 = 400      // secondary voltage of transformer in V\n",
"R_1 = 0.3      // primary resistance in Ω\n",
"X_1 = 0.6      // primary reactance in Ω\n",
"R_2 = 0.8      // secondary resistance in Ω\n",
"X_2 = 1.6      // secondary reactance in Ω\n",
"I_2 = 10       // secondary supply current in A\n",
"cos_phi2 = 0.8 // power factor lagging\n",
"\n",
"// caclulations \n",
"a = V_1/V_2          // turn ratio\n",
"phi2 = acosd(0.8)\n",
"sin_phi2 = sind(phi2)\n",
"R_02 = R_2+(R_1/a^2) // total resistance referred to secondary side Ω\n",
"X_02 = X_2+(X_1/a^2) // total reactance referred to secondary side Ω\n",
"E_2 = (V_2*cos_phi2+I_2*R_02)+(%i*(V_2*sin_phi2+I_2*X_02)) // no-load voltage\n",
"V_r = (abs(E_2)-V_2)/V_2*100                              // voltage regulation\n",
"\n",
"// display the result \n",
"disp('Example 3.7 solution');\n",
"printf(' \n Voltage regulation \n V_r = %.0f percent \n', V_r);\n",
"\n",
""
   ]
   }
,
{
		   "cell_type": "markdown",
		   "metadata": {},
		   "source": [
			"## Example 3.8: calculate_efficiency.sce"
		   ]
		  },
  {
"cell_type": "code",
	   "execution_count": null,
	   "metadata": {
	    "collapsed": true
	   },
	   "outputs": [],
"source": [
"// FUNDAMENTALS OF ELECTICAL MACHINES \n",
"// M.A.SALAM \n",
"// NAROSA PUBLISHING HOUSE \n",
"// SECOND EDITION\n",
"\n",
"// Chapter 3 : TRANSFORMER AND PER UNIT SYSTEM\n",
"// Example : 3.8\n",
"clc;clear; // clears the console and command history \n",
"\n",
"// Given data\n",
"P_i = 1   // iron loss of transformer in kW\n",
"P_cu = 2  // copper loss of transformer in kW\n",
"kVA = 200 // kVA ratingss of transformer\n",
"pf = 0.95 // power factor\n",
"\n",
"// caclulations \n",
"P_cu1 = (3/4)^2*P_cu   // copper loss at 1/2th of full load in kW\n",
"P_cu2 = (1/2)^2*P_cu   // copper loss at 1/2th of full load in kW\n",
"P_01 = (3/4)*kVA*P_i   // o/p power at 3/4 full load and unity power factor in kW\n",
"P_in1 = P_01+P_i+P_cu1 // i/p power at 3/4 full load and unity power factor in kW\n",
"n_1 = (P_01/P_in1)*100 // efficiency at 3/4 full load and unity power factor\n",
"P_02 = (1/2)*kVA*pf   // o/p power factor at1/2 full load and 0.95 power factor in kW\n",
"P_in2 = P_02+P_i+P_cu2 // i/p power at 1/2 full load and 0.95 power factor in kW\n",
"n_2 = (P_02/P_in2)*100 // efficiency at 1/2 full load and 0.95 power factor\n",
"\n",
"// display the result \n",
"disp('Example 3.8 solution');\n",
"printf(' \n Efficiency at 3/4 full load and unity power factor \n n_1 = %.2f percent \n', n_1);\n",
"printf(' \n Efficiency at 1/2 full load and 0.95 power factor \n n_2 = %.2f percent \n', n_2);\n",
""
   ]
   }
,
{
		   "cell_type": "markdown",
		   "metadata": {},
		   "source": [
			"## Example 3.9: full_load_efficiency_output_kVA.sce"
		   ]
		  },
  {
"cell_type": "code",
	   "execution_count": null,
	   "metadata": {
	    "collapsed": true
	   },
	   "outputs": [],
"source": [
"// FUNDAMENTALS OF ELECTICAL MACHINES \n",
"// M.A.SALAM \n",
"// NAROSA PUBLISHING HOUSE \n",
"// SECOND EDITION\n",
"\n",
"// Chapter 3 : TRANSFORMER AND PER UNIT SYSTEM\n",
"// Example : 3.9\n",
"\n",
"\n",
"clc;clear; // clears the console and command history \n",
"\n",
"// Given data\n",
"P_i = 350   // iron loss of transformer in W\n",
"P_cu = 650  // copper loss of transformer in W\n",
"kVA = 30    // kVA ratingss of transformer\n",
"pf = 0.6    // power factor\n",
"\n",
"// caclulations \n",
"P_tloss = (P_i+P_cu)*10^-3   // total full load loss in kW\n",
"P_out = kVA*pf               // o/p power at full load in kW\n",
"P_in = P_out+P_tloss         // i/p power at full load\n",
"n_1 = (P_out/P_in)*100       // efficiency at full load\n",
"kVA_out = kVA*sqrt(P_i/P_cu) // o/p kVA corresponding to maximum efficiency \n",
"P_01 = kVA_out*pf            // o/p power in W\n",
"P_tloss1 = 2*P_i             // maximum efficiency iron loss=copper loss in W\n",
"P_in1 = P_01+P_tloss1*10^-3  // i/p power in kW\n",
"n_2 = (P_01/P_in1)*100       // efficiency\n",
"\n",
"// display the result \n",
"disp('Example 3.9 solution');\n",
"printf(' \n Efficiency at full load \n n_1 = %.2f percent \n', n_1);\n",
"printf(' \n Out put power \n P_01 = %.1f kW \n', P_01);\n",
"printf(' \n Efficiency \n n_2 = %.2f percent \n', n_2);\n",
""
   ]
   }
],
"metadata": {
		  "kernelspec": {
		   "display_name": "Scilab",
		   "language": "scilab",
		   "name": "scilab"
		  },
		  "language_info": {
		   "file_extension": ".sce",
		   "help_links": [
			{
			 "text": "MetaKernel Magics",
			 "url": "https://github.com/calysto/metakernel/blob/master/metakernel/magics/README.md"
			}
		   ],
		   "mimetype": "text/x-octave",
		   "name": "scilab",
		   "version": "0.7.1"
		  }
		 },
		 "nbformat": 4,
		 "nbformat_minor": 0
}
