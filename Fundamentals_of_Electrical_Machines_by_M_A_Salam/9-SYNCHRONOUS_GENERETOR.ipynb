{
"cells": [
 {
		   "cell_type": "markdown",
	   "metadata": {},
	   "source": [
       "# Chapter 9: SYNCHRONOUS GENERETOR"
	   ]
	},
{
		   "cell_type": "markdown",
		   "metadata": {},
		   "source": [
			"## Example 9.10: determine_power_delivered_and_three_phase_max_power.sce"
		   ]
		  },
  {
"cell_type": "code",
	   "execution_count": null,
	   "metadata": {
	    "collapsed": true
	   },
	   "outputs": [],
"source": [
"// FUNDAMENTALS OF ELECTICAL MACHINES \n",
"// M.A.SALAM \n",
"// NAROSA PUBLISHING HOUSE \n",
"// SECOND EDITION\n",
"\n",
"// Chapter 9 : SYNCHRONOUS GENERATOR\n",
"// Example : 9.10\n",
"\n",
"clc;clear; // clears the console and command history \n",
"\n",
"// Given data\n",
"MVA = 30   // MVA ratings\n",
"V = 20     // supply voltage in kV\n",
"N = 1800   // speed in rpm\n",
"V_t = 15   // voltage per phase in kV\n",
"E_f = 10   // per phase terminal voltage in kV\n",
"teta = 40  // power angle in degree\n",
"X_s = 6    // 3 phase synchronous reactance in ohm\n",
"\n",
"// caclulations \n",
"P = 3*V_t*E_f*sind(teta)/X_s   // power delivered to the load in MW\n",
"P_max = 3*V_t*E_f/X_s          // three phase maximum power in MW\n",
"\n",
"// display the result  \n",
"disp('Example 9.10 solution'); \n",
"printf(' \n Three phase power delivered to the load \n P = %.2f MW \n', P );\n",
"printf(' \n Three phase maximum power \n P_max = %.0f MW \n', P_max );\n",
"\n",
""
   ]
   }
,
{
		   "cell_type": "markdown",
		   "metadata": {},
		   "source": [
			"## Example 9.11: determine_torque_angle_induced_voltage_per_phase_VR.sce"
		   ]
		  },
  {
"cell_type": "code",
	   "execution_count": null,
	   "metadata": {
	    "collapsed": true
	   },
	   "outputs": [],
"source": [
"// FUNDAMENTALS OF ELECTICAL MACHINES \n",
"// M.A.SALAM \n",
"// NAROSA PUBLISHING HOUSE \n",
"// SECOND EDITION\n",
"\n",
"// Chapter 9 : SYNCHRONOUS GENERATOR\n",
"// Example : 9.11\n",
"\n",
"clc;clear; // clears the console and command history \n",
"\n",
"// Given data\n",
"kVA = 25        // kVA ratings\n",
"V = 440         // suppy voltage in V\n",
"f = 50          // supply frequency in Hz\n",
"pf = 0.8        // lagging power factor\n",
"R_a = 0.3       // resistance of machine per phase in ohm\n",
"X_d = 5         // reactance of machine per phase in ohm\n",
"X_q = 3         // reactance of machine per phase in ohm\n",
"\n",
"// caclulations \n",
"phi = acosd(pf)\n",
"V_t = V/sqrt(3)                                   // terminal voltage per phase in V\n",
"I_a = 25*10^3/(sqrt(3)*V)                         // armature current\n",
"delta = atand(I_a*X_q*pf/(V_t+I_a*X_q*sind(phi))) // torque angle\n",
"I_d = I_a*sind(delta+phi)                  // direct axis component of the current in A\n",
"E_f = V_t*cosd(delta)+I_d*X_d                     // induced voltage per phase in V\n",
"VR = ((E_f-V_t)/V_t)*100                          // voltage regulation in V\n",
"\n",
"// display the result  \n",
"disp('Example 9.11 solution'); \n",
"printf(' \n Torque angle \n delta = %.2f degree \n', delta );\n",
"printf(' \n Induced voltage per phase \n E_f = %.2f V \n', E_f );\n",
"printf(' \n Voltage regulation \n VR = %.2f percent \n', VR );\n",
"\n",
""
   ]
   }
,
{
		   "cell_type": "markdown",
		   "metadata": {},
		   "source": [
			"## Example 9.12: determine_load_current_terminal_voltage_and_power_per_pahse.sce"
		   ]
		  },
  {
"cell_type": "code",
	   "execution_count": null,
	   "metadata": {
	    "collapsed": true
	   },
	   "outputs": [],
"source": [
"// FUNDAMENTALS OF ELECTICAL MACHINES \n",
"// M.A.SALAM \n",
"// NAROSA PUBLISHING HOUSE \n",
"// SECOND EDITION\n",
"\n",
"// Chapter 9 : SYNCHRONOUS GENERATOR\n",
"// Example : 9.12\n",
"\n",
"clc;clear; // clears the console and command history \n",
"\n",
"// Given data\n",
"E_1 = 220   // induced voltage per phase by an alternator1\n",
"E_2 = 220*exp(%i*5*%pi/180)   // induced voltage per phase by an alternator2\n",
"Z_1 = %i*3  // impedance of an alternator1\n",
"Z_2 = %i*4  // impedance of an alternator2\n",
"R = 5       // resistance in ohm\n",
"Z = 5\n",
"\n",
"// caclulations \n",
"I = (E_1*Z_2+E_2*Z_1)/(Z_1*Z_2+Z*(Z_1+Z_2))        // load current in A\n",
"V_t = I*R                                          // terminal voltage in V\n",
"I_a1 = ((E_1-E_2)*Z+E_1*Z_2)/(Z_1*Z_2+Z*(Z_1+Z_2)) // armature current in A\n",
"D = atand(imag(I),real(I))// from V_t\n",
"A = atand(imag(V_t),real(V_t))                                             // from I_a1\n",
"P_1 = abs(V_t*I_a1)*cosd(D-A)        // power per phase delivered by the 1st alternator in W\n",
"\n",
"// display the result   \n",
"disp('Example 9.12 solution'); \n",
"printf(' \n load current \n I = %.1f<%.2f degree \n', abs(I),atand(imag(I),real(I)) );\n",
"printf(' \n terminal voltage \n V_t = %.f<%.2f V \n', abs(V_t),atand(imag(V_t),real(V_t)) );\n",
"printf(' \n Power per phase delivered by the 1st alternator \n P_1 = %.2f W \n', P_1 );\n",
"printf(' \n NOTE : ERROR : Calculation mistakes in textbook \n')"
   ]
   }
,
{
		   "cell_type": "markdown",
		   "metadata": {},
		   "source": [
			"## Example 9.1: determine_number_of_poles.sce"
		   ]
		  },
  {
"cell_type": "code",
	   "execution_count": null,
	   "metadata": {
	    "collapsed": true
	   },
	   "outputs": [],
"source": [
"// FUNDAMENTALS OF ELECTICAL MACHINES \n",
"// M.A.SALAM \n",
"// NAROSA PUBLISHING HOUSE \n",
"// SECOND EDITION\n",
"\n",
"// Chapter 9 : SYNCHRONOUS GENERATOR\n",
"// Example : 9.1\n",
"\n",
"clc;clear; // clears the console and command history \n",
"\n",
"// Given data\n",
"N = 300     // speed of water turbine in rpm\n",
"f = 50      // frequency in Hz\n",
"\n",
"// caclulations \n",
"P = 120*f/N // number of poles\n",
"\n",
"// display the result \n",
"disp('Example 9.1 solution'); \n",
"printf(' \n Number of poles of the generator \n P = %.0f poles \n', P );\n",
"\n",
""
   ]
   }
,
{
		   "cell_type": "markdown",
		   "metadata": {},
		   "source": [
			"## Example 9.2: determine_pitch_factor.sce"
		   ]
		  },
  {
"cell_type": "code",
	   "execution_count": null,
	   "metadata": {
	    "collapsed": true
	   },
	   "outputs": [],
"source": [
"// FUNDAMENTALS OF ELECTICAL MACHINES \n",
"// M.A.SALAM \n",
"// NAROSA PUBLISHING HOUSE \n",
"// SECOND EDITION\n",
"\n",
"// Chapter 9 : SYNCHRONOUS GENERATOR\n",
"// Example : 9.2\n",
"\n",
"clc;clear; // clears the console and command history \n",
"\n",
"// Given data\n",
"P = 8     // number of poles\n",
"m = 3     // number of phase \n",
"S = 144   // number of slots\n",
"\n",
"// caclulations \n",
"T_p = S/P         // pole pitch interms of slots\n",
"slots_1 = 180/T_p // pole pitch per slots\n",
"y = 2*slots_1     // short pitch angle in degree\n",
"k_p = cosd(y/2)   // pitch factor\n",
"\n",
"// display the result \n",
"disp('Example 9.2 solution'); \n",
"printf(' \n Pitch factor is \n k_p = %.2f \n', k_p );\n",
"\n",
""
   ]
   }
,
{
		   "cell_type": "markdown",
		   "metadata": {},
		   "source": [
			"## Example 9.3: determine_pitch_factor.sce"
		   ]
		  },
  {
"cell_type": "code",
	   "execution_count": null,
	   "metadata": {
	    "collapsed": true
	   },
	   "outputs": [],
"source": [
"// FUNDAMENTALS OF ELECTICAL MACHINES \n",
"// M.A.SALAM \n",
"// NAROSA PUBLISHING HOUSE \n",
"// SECOND EDITION\n",
"\n",
"// Chapter 9 : SYNCHRONOUS GENERATOR\n",
"// Example : 9.3\n",
"\n",
"clc;clear; // clears the console and command history \n",
"\n",
"// Given data\n",
"P = 4  // number of poles\n",
"m = 3  // number of phase \n",
"S = 40 // number of slots\n",
"\n",
"// caclulations \n",
"T_p = S/P             // pole pitch interms of slots\n",
"T_c = 9-1             // coil span 1 to 9 i.e. coil pitch in terms of slots\n",
"slots_1 = 180/T_p     // pole pitch per slots\n",
"y = T_p-T_c           // short pitch angle\n",
"y_angle = y*slots_1   // in terms of angle\n",
"k_p = cosd(y_angle/2) // pitch factor\n",
"\n",
"// display the result \n",
"disp('Example 9.3 solution'); \n",
"printf(' \n Pitch factor is \n k_p = %.2f \n', k_p );\n",
"\n",
""
   ]
   }
,
{
		   "cell_type": "markdown",
		   "metadata": {},
		   "source": [
			"## Example 9.4: find_distribution_factor.sce"
		   ]
		  },
  {
"cell_type": "code",
	   "execution_count": null,
	   "metadata": {
	    "collapsed": true
	   },
	   "outputs": [],
"source": [
"// FUNDAMENTALS OF ELECTICAL MACHINES \n",
"// M.A.SALAM \n",
"// NAROSA PUBLISHING HOUSE \n",
"// SECOND EDITION\n",
"\n",
"// Chapter 9 : SYNCHRONOUS GENERATOR\n",
"// Example : 9.4\n",
"\n",
"clc;clear; // clears the console and command history \n",
"\n",
"// Given data\n",
"P = 4   // number of poles\n",
"S = 48  // number of slots\n",
"\n",
"// caclulations \n",
"T_p = S/P                                     // pole pitch interms of slots\n",
"slots_1 = 180/T_p                             // pole pitch per slots\n",
"n = S/(P*3)                                 // number of slots or coils per pole per phase\n",
"k_d = sind((n*slots_1)/2)/(n*sind(slots_1/2)) // distribution factor\n",
"\n",
"// display the result \n",
"disp('Example 9.4 solution'); \n",
"printf(' \n Distribution factor is \n k_d = %.2f \n', k_d );\n",
"\n",
""
   ]
   }
,
{
		   "cell_type": "markdown",
		   "metadata": {},
		   "source": [
			"## Example 9.5: determine_line_voltage.sce"
		   ]
		  },
  {
"cell_type": "code",
	   "execution_count": null,
	   "metadata": {
	    "collapsed": true
	   },
	   "outputs": [],
"source": [
"// FUNDAMENTALS OF ELECTICAL MACHINES \n",
"// M.A.SALAM \n",
"// NAROSA PUBLISHING HOUSE \n",
"// SECOND EDITION\n",
"\n",
"// Chapter 9 : SYNCHRONOUS GENERATOR\n",
"// Example : 9.5\n",
"\n",
"clc;clear; // clears the console and command history \n",
"\n",
"// Given data\n",
"P = 12       // number of poles\n",
"S = 180      // number of slots\n",
"phi_m = 0.05 // flux per pole in Wb\n",
"N = 600      // speed of machine in rpm\n",
"\n",
"// caclulations \n",
"T_p = S/P                                     // pole pitch interms of slots\n",
"slots_1 = 180/T_p                             // pole pitch per slots\n",
"n = S/(P*3)                              // number of slots or coils per pole per phase\n",
"k_d = sind((n*slots_1)/2)/(n*sind(slots_1/2)) // distribution factor\n",
"k_p = 1                                       // pitch factor\n",
"Z = (180/3)*slots_1                           // number of conductor per phase\n",
"T = Z/2                                       // number of turns per phase\n",
"f = P*N/120                                   // frequency in Hz\n",
"E = 4.44*k_p*k_d*f*phi_m*T                    // induced voltage in V\n",
"E_L = sqrt(3)*E                               // line voltage in V\n",
"\n",
"// display the result \n",
"disp('Example 9.5 solution'); \n",
"printf(' \n Line voltage is \n E_L = %.0f V \n', E_L );\n",
"\n",
"// NOTE : correction in answer "
   ]
   }
,
{
		   "cell_type": "markdown",
		   "metadata": {},
		   "source": [
			"## Example 9.6: determine_voltage_per_pahse.sce"
		   ]
		  },
  {
"cell_type": "code",
	   "execution_count": null,
	   "metadata": {
	    "collapsed": true
	   },
	   "outputs": [],
"source": [
"// FUNDAMENTALS OF ELECTICAL MACHINES \n",
"// M.A.SALAM \n",
"// NAROSA PUBLISHING HOUSE \n",
"// SECOND EDITION\n",
"\n",
"// Chapter 9 : SYNCHRONOUS GENERATOR\n",
"// Example : 9.6\n",
"\n",
"clc;clear; // clears the console and command history \n",
"\n",
"// Given data\n",
"P = 4        // number of poles\n",
"m = 3        // number of phase \n",
"f = 50       // frequency in Hz\n",
"phi_m = 0.05 // flux per pole in Wb\n",
"\n",
"// caclulations \n",
"T_p = 6*3 // pole pitch interms of slots 6 slots per pole per phase hence for 3  phase\n",
"slots_1 = 180/T_p                             // pole pitch per slots\n",
"T_c = (5/6)*T_p                               // coil per pitch\n",
"y = T_p-T_c                                   // short pitch angle\n",
"y_angle = y*10                                // short pitch in terms of angle\n",
"k_p = cosd(y_angle/2)                         // pitch factor\n",
"n = 6                                         // number of slots\n",
"k_d = sind((n*slots_1)/2)/(n*sind(slots_1/2)) // distribution factor\n",
"T = (1/2)*n*P*2*5                             // 2=no. of layers, 5=condctor per layer\n",
"E = 4.44*k_p*k_d*f*phi_m*T                    // induced voltage in V\n",
"\n",
"// display the result \n",
"disp('Example 9.6 solution'); \n",
"printf(' \n Voltage per phase is \n E = %.0f V \n', E );\n",
""
   ]
   }
,
{
		   "cell_type": "markdown",
		   "metadata": {},
		   "source": [
			"## Example 9.7: determine_rms_value_of_the_induced_voltage_per_phase.sce"
		   ]
		  },
  {
"cell_type": "code",
	   "execution_count": null,
	   "metadata": {
	    "collapsed": true
	   },
	   "outputs": [],
"source": [
"// FUNDAMENTALS OF ELECTICAL MACHINES \n",
"// M.A.SALAM \n",
"// NAROSA PUBLISHING HOUSE \n",
"// SECOND EDITION\n",
"\n",
"// Chapter 9 : SYNCHRONOUS GENERATOR\n",
"// Example : 9.7\n",
"\n",
"clc;clear; // clears the console and command history \n",
"\n",
"// Given data\n",
"P = 10         // number of poles\n",
"m = 3          // number of phase \n",
"f = 50         // frequency in Hz\n",
"phi_m1 = 0.05  // flux per pole in Wb\n",
"phi_m3 = 0.006 // flux per pole in Wb\n",
"T_c = 150      // coil \n",
"\n",
"// caclulations \n",
"T_p = 3*3 // pole pitch interms of slots 3 slots per pole per phase hence for 3  phase\n",
"slots_1 = 180/T_p                              // pole pitch per slots\n",
"y = 180-T_c                                    // short pitch angle\n",
"n = 3                                          // number of slots\n",
"k_p1 = cosd(y/2)                               // pitch factor\n",
"k_d1 = sind((n*slots_1)/2)/(n*sind(slots_1/2)) // distribution factor\n",
"E_1 = 4.44*k_p1*k_d1*f*phi_m1*T_c              // induced voltage in V\n",
"k_p3 = cosd(y/2)                               // pitch factor\n",
"k_d3 = sind((n*slots_1)/2)/(n*sind(slots_1/2)) // distribution factor\n",
"E_3 = 4.44*k_p3*k_d3*f*phi_m3*T_c              // induced voltage in V\n",
"E = sqrt(E_1^2+E_3^2)                          // induced voltage per phase in V\n",
"\n",
"// display the result \n",
"disp('Example 9.7 solution'); \n",
"printf(' \n Induced voltage per phase is \n E = %.0f V \n', E );\n",
""
   ]
   }
,
{
		   "cell_type": "markdown",
		   "metadata": {},
		   "source": [
			"## Example 9.8: determine_noload_induced_voltage_per_phase_and_VR.sce"
		   ]
		  },
  {
"cell_type": "code",
	   "execution_count": null,
	   "metadata": {
	    "collapsed": true
	   },
	   "outputs": [],
"source": [
"// FUNDAMENTALS OF ELECTICAL MACHINES \n",
"// M.A.SALAM \n",
"// NAROSA PUBLISHING HOUSE \n",
"// SECOND EDITION\n",
"\n",
"// Chapter 9 : SYNCHRONOUS GENERATOR\n",
"// Example : 9.8\n",
"\n",
"clc;clear; // clears the console and command history \n",
"\n",
"// Given data\n",
"kVA = 50    // kVA ratings\n",
"V_t = 220   // terminal voltage in V\n",
"R_a = 0.011 // effective resistance in ohm\n",
"X_s = 0.09  // synchronous reactance in ohm\n",
"\n",
"// caclulations \n",
"phi = acosd(0.85)                                  // since power factor in 0.85\n",
"I_a = kVA*10^3/V_t                                // armature current in A\n",
"E_f = sqrt((V_t*cosd(phi)+I_a*R_a)^2+(V_t*sind(phi)+I_a*X_s)^2) // induced voltage per phase in V\n",
"VR = ((E_f-V_t)/V_t)*100                         // voltage regulation\n",
"\n",
"// display the result \n",
"disp('Example 9.8 solution'); \n",
"printf(' \n No-load induced voltage per phase \n E_f = %.1f V \n', E_f );\n",
"printf(' \n Voltage regulation is \n VR = %.1f percent \n', VR );\n",
""
   ]
   }
,
{
		   "cell_type": "markdown",
		   "metadata": {},
		   "source": [
			"## Example 9.9: determine_synchronous_impedance_reactance_full_load_VR.sce"
		   ]
		  },
  {
"cell_type": "code",
	   "execution_count": null,
	   "metadata": {
	    "collapsed": true
	   },
	   "outputs": [],
"source": [
"// FUNDAMENTALS OF ELECTICAL MACHINES \n",
"// M.A.SALAM \n",
"// NAROSA PUBLISHING HOUSE \n",
"// SECOND EDITION\n",
"\n",
"// Chapter 9 : SYNCHRONOUS GENERATOR\n",
"// Example : 9.9\n",
"\n",
"clc;clear; // clears the console and command history \n",
"\n",
"// Given data\n",
"kVA = 200      // kVA ratings\n",
"V_t = 33*10^3  // terminal voltage in V\n",
"R_a = 0.54     // armature resistance in ohm\n",
"V_L = 415      // voltage between lines for SC test in V\n",
"I_sh = 25      // short circuit current in A\n",
"\n",
"// caclulations \n",
"phi = acosd(0.9)               // since power factor in 0.9\n",
"V_P = V_L/sqrt(3)              // phase voltage during short circuit test in V\n",
"Z_s = V_P/I_sh                 // synchronous impedance in ohm\n",
"X_s = sqrt(Z_s^2 - R_a^2)       // synchronous reactance in ohm\n",
"I_a = kVA/(sqrt(3)*V_t*10^-3) // full loa current in A\n",
"V_ta = V_t/sqrt(3)            // voltage per phase alternator\n",
"E_f = sqrt((V_ta*cosd(phi)+I_a*R_a)^2+(V_ta*sind(phi)+I_a*X_s)^2) // no-load voltage per phase in V \n",
"VR = ((E_f-V_ta)/V_ta)*100    // voltage regulation\n",
"\n",
"// display the result \n",
"disp('Example 9.9 solution'); \n",
"printf(' \n Synchronous impedance \n Z_s = %.1f ohm \n', Z_s );\n",
"printf(' \n Synchronous reactance is \n X_s = %.2f ohm \n', X_s );\n",
"printf(' \n Voltage regulation is \n VR = %.2f percent \n', VR );\n",
"printf(' \n NOTE : error in calculation, R_a is taken instead of X_s in E_f calculation \n');\n",
"\n",
"\n",
""
   ]
   }
],
"metadata": {
		  "kernelspec": {
		   "display_name": "Scilab",
		   "language": "scilab",
		   "name": "scilab"
		  },
		  "language_info": {
		   "file_extension": ".sce",
		   "help_links": [
			{
			 "text": "MetaKernel Magics",
			 "url": "https://github.com/calysto/metakernel/blob/master/metakernel/magics/README.md"
			}
		   ],
		   "mimetype": "text/x-octave",
		   "name": "scilab",
		   "version": "0.7.1"
		  }
		 },
		 "nbformat": 4,
		 "nbformat_minor": 0
}
