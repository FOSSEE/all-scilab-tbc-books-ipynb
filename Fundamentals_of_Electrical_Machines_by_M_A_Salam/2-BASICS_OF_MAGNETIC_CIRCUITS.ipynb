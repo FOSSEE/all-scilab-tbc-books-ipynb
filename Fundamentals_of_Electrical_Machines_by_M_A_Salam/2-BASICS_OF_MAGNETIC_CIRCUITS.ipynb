{
"cells": [
 {
		   "cell_type": "markdown",
	   "metadata": {},
	   "source": [
       "# Chapter 2: BASICS OF MAGNETIC CIRCUITS"
	   ]
	},
{
		   "cell_type": "markdown",
		   "metadata": {},
		   "source": [
			"## Example 2.10: calculate_current.sce"
		   ]
		  },
  {
"cell_type": "code",
	   "execution_count": null,
	   "metadata": {
	    "collapsed": true
	   },
	   "outputs": [],
"source": [
"// FUNDAMENTALS OF ELECTICAL MACHINES \n",
"// M.A.SALAM \n",
"// NAROSA PUBLISHING HOUSE \n",
"// SECOND EDITION\n",
"\n",
"// Chapter 2 : BESICS OF MAGNETIC CIRCUITS \n",
"// Example : 2.10\n",
"clc;clear; // clears the console and command history \n",
"\n",
"// Given data\n",
"A = 2*10^-4        // cross sectional area in m^2\n",
"N = 200            // number of turns \n",
"flux = 1.5*10^-3   // flux in Wb\n",
"myu_r = 4000       // relative permiability of core\n",
"l_1 = 0.01         // length in m\n",
"a = 9              // length in cm\n",
"w = 3              // width in cm\n",
"\n",
"// caclulations \n",
"myu = myu_r*4*%pi*10^-7       // permiability \n",
"l_2 = (4*(a-w-w+(1.5+1.5))-1) // mean length in cm \n",
"R_mg = l_1/(4*%pi*10^-7*A)    // reluctance of iron for air gap At/Wb\n",
"R_mi = l_2*10^-2/(myu*A)      // reluctance of iron for air gapAt/Wb\n",
"R_mt = R_mg+R_mi              // total relectance in At/Wb\n",
"I = R_mt*flux/N               // current in A \n",
"\n",
"// display the result \n",
"disp('Example 2.10 solution');\n",
"printf(' \n Current flowing through the coil \n I = %.0f A \n', I);\n",
"\n",
"// NOTE : In question they given flux=2.5mWb but in solution they took flux=1.5mWb"
   ]
   }
,
{
		   "cell_type": "markdown",
		   "metadata": {},
		   "source": [
			"## Example 2.11: determine_force.sce"
		   ]
		  },
  {
"cell_type": "code",
	   "execution_count": null,
	   "metadata": {
	    "collapsed": true
	   },
	   "outputs": [],
"source": [
"// FUNDAMENTALS OF ELECTICAL MACHINES \n",
"// M.A.SALAM \n",
"// NAROSA PUBLISHING HOUSE \n",
"// SECOND EDITION\n",
"\n",
"// Chapter 2 : BESICS OF MAGNETIC CIRCUITS \n",
"// Example : 2.11\n",
"clc;clear; // clears the console and command history \n",
"\n",
"// Given data\n",
"I = 150  // current through conductor in A\n",
"l = 2    // conductor length in m\n",
"B = 0.35 // magnetic flux density in T\n",
"\n",
"// caclulations \n",
"F = B*l*I // force in N\n",
"\n",
"// display the result \n",
"disp('Example 2.11 solution');\n",
"printf('\n Force \n F = %.0f N \n', F);\n",
""
   ]
   }
,
{
		   "cell_type": "markdown",
		   "metadata": {},
		   "source": [
			"## Example 2.12: determine_the_inductance_of_the_coil.sce"
		   ]
		  },
  {
"cell_type": "code",
	   "execution_count": null,
	   "metadata": {
	    "collapsed": true
	   },
	   "outputs": [],
"source": [
"// FUNDAMENTALS OF ELECTICAL MACHINES \n",
"// M.A.SALAM \n",
"// NAROSA PUBLISHING HOUSE \n",
"// SECOND EDITION\n",
"\n",
"// Chapter 2 : BESICS OF MAGNETIC CIRCUITS \n",
"// Example : 2.12\n",
"clc;clear; // clears the console and command history \n",
"\n",
"// Given data\n",
"l = 25*10^-2   // length of air-core coil in m\n",
"A = 4*10^-4    // cross sectional area in m^2\n",
"N = 65         // number of turns\n",
"myu_0 = 4*%pi*10^-7 \n",
"myu_r = 1\n",
"\n",
"// caclulations \n",
"myu = myu_0*myu_r \n",
"L = N^2*myu*A/l  // inductance in H\n",
"\n",
"// display the result \n",
"disp('Example 2.12 solution');\n",
"printf(' \n Inductance of the coil \n L = %.1e H \n', L);\n",
""
   ]
   }
,
{
		   "cell_type": "markdown",
		   "metadata": {},
		   "source": [
			"## Example 2.13: determine_hysteresis_loss.sce"
		   ]
		  },
  {
"cell_type": "code",
	   "execution_count": null,
	   "metadata": {
	    "collapsed": true
	   },
	   "outputs": [],
"source": [
"// FUNDAMENTALS OF ELECTICAL MACHINES \n",
"// M.A.SALAM \n",
"// NAROSA PUBLISHING HOUSE \n",
"// SECOND EDITION\n",
"\n",
"// Chapter 2 : BESICS OF MAGNETIC CIRCUITS \n",
"// Example : 2.13\n",
"clc;clear; // clears the console and command history \n",
"\n",
"// Given data\n",
"k_h = 110       // hysteresis co-efficient in J/m^3\n",
"V_cvol = 0.005  // volume of the core in m^3\n",
"B_m = 1.12      // flux density in T\n",
"f = 60          // frequency in Hz\n",
"n = 1.6\n",
"\n",
"// caclulations \n",
"P_h = k_h*V_cvol*B_m^n*f // hysteresis loss in W\n",
"\n",
"// display the result \n",
"disp('Example 2.13 solution');\n",
"printf(' \n Hysteresis loss \n P_h = %.2f W \n', P_h);\n",
""
   ]
   }
,
{
		   "cell_type": "markdown",
		   "metadata": {},
		   "source": [
			"## Example 2.1: calculate_total_flux.sce"
		   ]
		  },
  {
"cell_type": "code",
	   "execution_count": null,
	   "metadata": {
	    "collapsed": true
	   },
	   "outputs": [],
"source": [
"// FUNDAMENTALS OF ELECTICAL MACHINES \n",
"// M.A.SALAM \n",
"// NAROSA PUBLISHING HOUSE \n",
"// SECOND EDITION\n",
"\n",
"// Chapter 2 : BESICS OF MAGNETIC CIRCUITS \n",
"// Example : 2.1\n",
"\n",
"clc;clear; // clears the console and command history \n",
"\n",
"// Given data\n",
"l = 4      // lenght in m\n",
"w = 2     // width in m\n",
"B = 0.12 // magnetis flux density in tesla\n",
"\n",
"// caclulations \n",
"A = l*w     // area in m^2\n",
"flux = B*A  // magnetic flux in Wb\n",
"\n",
"\n",
"// display the result \n",
"disp('Example 2.1 solution');\n",
"printf(' \n Magnetic flux \n flux = %.2f Wb \n', flux);\n",
"\n",
""
   ]
   }
,
{
		   "cell_type": "markdown",
		   "metadata": {},
		   "source": [
			"## Example 2.2: calculate_flux_density_MMF_magnetic_field_intensity.sce"
		   ]
		  },
  {
"cell_type": "code",
	   "execution_count": null,
	   "metadata": {
	    "collapsed": true
	   },
	   "outputs": [],
"source": [
"// FUNDAMENTALS OF ELECTICAL MACHINES \n",
"// M.A.SALAM \n",
"// NAROSA PUBLISHING HOUSE \n",
"// SECOND EDITION\n",
"\n",
"// Chapter 2 : BESICS OF MAGNETIC CIRCUITS \n",
"// Example : 2.2\n",
"\n",
"clc;clear; // clears the console and command history \n",
"\n",
"// Given data\n",
"d_in = 3 // inside diameter of iron toroid in cm\n",
"d_out = 6 // outside diameter of iron toroid in cm\n",
"N =200 // number of turns\n",
"I = 3 // current in A\n",
"flux = 0.015 // flux in Wb\n",
"\n",
"// caclulations \n",
"d = d_in+((d_out-d_in)/2) // distance in cm\n",
"l = %pi*d // mean length in cm\n",
"A = %pi*d^2/4 // area in cm^2\n",
"B =flux/(A*10^-4) // flux density in mWb/m^2\n",
"MMF = N*I // magnetomotive force in At\n",
"H = (N*I)/(l*10^-2) // magnetic field intensity in At/m\n",
"\n",
"// display the result \n",
"disp('Example 2.2 solution');\n",
"printf('\n Flux density \n B= %.6f mWb/m^2 \n', B);\n",
"printf(' \n Magnetomotive force \n MMF= %.2f At \n', MMF);\n",
"printf(' \n Magnetic field intensity \n H= %.2f At/m \n', H);\n",
"printf(' NOTE:correction in solution they took d=1.5 insted of 4.5')"
   ]
   }
,
{
		   "cell_type": "markdown",
		   "metadata": {},
		   "source": [
			"## Example 2.3: find_permeability_MFI_MFD.sce"
		   ]
		  },
  {
"cell_type": "code",
	   "execution_count": null,
	   "metadata": {
	    "collapsed": true
	   },
	   "outputs": [],
"source": [
"// FUNDAMENTALS OF ELECTICAL MACHINES \n",
"// M.A.SALAM \n",
"// NAROSA PUBLISHING HOUSE \n",
"// SECOND EDITION\n",
"\n",
"// Chapter 2 : BESICS OF MAGNETIC CIRCUITS \n",
"// Example : 2.3\n",
"\n",
"clc;clear; // clears the console and command history \n",
"\n",
"// Given data\n",
"myu_r = 625 // relative permiability of rectangular core\n",
"N = 25      // number of turns\n",
"I = 2       // current in A\n",
"a = 5.5     // lenght of rectangular box in cm\n",
"b = 1.5     // width of rectangular box in cm\n",
"\n",
"// caclulations \n",
"l = 2*(a+b)             // mean length of core in cm\n",
"H = N*I/(l*10^-2)       // magnetic field intensity in At/m\n",
"myu = 4*%pi*10^-7*myu_r // permeabilty\n",
"B = myu*H               // magnetic flux density in Wb/m^2;\n",
"\n",
"// display the result \n",
"disp('Example 2.3 solution');\n",
"printf(' \n Magnetic field intensity \n H= %.0f At/m \n', H);\n",
"printf(' \n Permeabilty \n myu= %.2e  \n', myu);\n",
"printf(' \n Magnetic flux density \n B= %.2f Wb/m^2 \n', B);\n",
"\n",
""
   ]
   }
,
{
		   "cell_type": "markdown",
		   "metadata": {},
		   "source": [
			"## Example 2.4: find_MMF_and_reluctance.sce"
		   ]
		  },
  {
"cell_type": "code",
	   "execution_count": null,
	   "metadata": {
	    "collapsed": true
	   },
	   "outputs": [],
"source": [
"// FUNDAMENTALS OF ELECTICAL MACHINES \n",
"// M.A.SALAM \n",
"// NAROSA PUBLISHING HOUSE \n",
"// SECOND EDITION\n",
"\n",
"// Chapter 2 : BESICS OF MAGNETIC CIRCUITS \n",
"// Example : 2.4\n",
"\n",
"clc;clear; // clears the console and command history \n",
"\n",
"// Given data\n",
"N = 6         // number of turns\n",
"I =3          // current in A\n",
"flux = 0.056 // flux in Wb\n",
"\n",
"// caclulations \n",
"MMF = N*I       // magnetomotive force in At\n",
"R_m = MMF/flux // reluctance in At/Wb\n",
"\n",
"// display the result \n",
"disp('Example 2.4 solution');\n",
"printf(' \n Magnetomotive force \n MMF= %.0f At \n', MMF);\n",
"printf( '\n Reluctance \n R_m= %.1f At/Wb \n', R_m);\n",
"\n",
""
   ]
   }
,
{
		   "cell_type": "markdown",
		   "metadata": {},
		   "source": [
			"## Example 2.5: find_MFD.sce"
		   ]
		  },
  {
"cell_type": "code",
	   "execution_count": null,
	   "metadata": {
	    "collapsed": true
	   },
	   "outputs": [],
"source": [
"// FUNDAMENTALS OF ELECTICAL MACHINES \n",
"// M.A.SALAM \n",
"// NAROSA PUBLISHING HOUSE \n",
"// SECOND EDITION\n",
"\n",
"// Chapter 2 : BESICS OF MAGNETIC CIRCUITS \n",
"// Example : 2.5\n",
"clc;clear; // clears the console and command history \n",
"\n",
"// Given data\n",
"I = 15                 // current through conductor in A\n",
"N = 10                 // number of turns\n",
"myu_0 = 4*%pi*10^-7   // permiability \n",
"myu_r = 1            // relative permiability of air\n",
"r = 0.015\n",
"\n",
"// caclulations \n",
"B = myu_0*myu_r*N*I/(2*%pi*r) // magnetic flux in T\n",
"\n",
"// display the result \n",
"disp('Example 2.5 solution');\n",
"printf(' \n Magnetic flux \n B= %.0e T \n', B);\n",
"\n",
""
   ]
   }
,
{
		   "cell_type": "markdown",
		   "metadata": {},
		   "source": [
			"## Example 2.6: find_MFS_flux_density_and_flux.sce"
		   ]
		  },
  {
"cell_type": "code",
	   "execution_count": null,
	   "metadata": {
	    "collapsed": true
	   },
	   "outputs": [],
"source": [
"// FUNDAMENTALS OF ELECTICAL MACHINES \n",
"// M.A.SALAM \n",
"// NAROSA PUBLISHING HOUSE \n",
"// SECOND EDITION\n",
"\n",
"// Chapter 2 : BESICS OF MAGNETIC CIRCUITS \n",
"// Example : 2.6\n",
"\n",
"clc;clear; // clears the console and command history \n",
"\n",
"// Given data\n",
"N = 200      // number of turns \n",
"d_in = 7    // inner diameter of wooden toroidal coil in cm\n",
"d_out = 10  // outer diameter  of wooden toroidal coil in cm\n",
"A = 0.005  // cross sectional area m^2\n",
"I = 5      // current through coil in A\n",
"R = d_out-d_in \n",
"myu_0 = 4*%pi*10^-7\n",
"\n",
"// caclulations \n",
"l = 2*%pi*R*10^-2  // mean circumference length in m\n",
"H = N*I/l          // magnetic field intensity in At/m\n",
"B = myu_0*H        // flux density in Wb/m^2\n",
"flux = B*A        // flux in Wb\n",
"\n",
"// display the result \n",
"disp('Example 2.6 solution');\n",
"printf(' \n Magnetic field intensity  \n H= %.0f At/m \n', H);\n",
"printf(' \n Flux density \n B= %.2e Wb/m^2 \n', B);\n",
"printf(' \n Flux \n flux= %.1e Wb \n', flux);"
   ]
   }
,
{
		   "cell_type": "markdown",
		   "metadata": {},
		   "source": [
			"## Example 2.7: calculate_flux_flux_density_and_field_intensity.sce"
		   ]
		  },
  {
"cell_type": "code",
	   "execution_count": null,
	   "metadata": {
	    "collapsed": true
	   },
	   "outputs": [],
"source": [
"// FUNDAMENTALS OF ELECTICAL MACHINES \n",
"// M.A.SALAM \n",
"// NAROSA PUBLISHING HOUSE \n",
"// SECOND EDITION\n",
"\n",
"// Chapter 2 : BESICS OF MAGNETIC CIRCUITS \n",
"// Example : 2.7\n",
"clc;clear; // clears the console and command history \n",
"\n",
"// Given data\n",
"l = 0.1     // length in m\n",
"w = 0.01    // width in m\n",
"h =0.1      // height in m\n",
"N = 450     // number of turns\n",
"I = 0.2     // current in A\n",
"myu_r = 850 // relative permiability magnetic material\n",
"\n",
"// caclulations \n",
"MMF = N*I                       // magnetomotive force in At\n",
"l_c = (h-w)*4                   //  mean length of the path in m\n",
"A = w*w                         // cross sectional area in m^2\n",
"R_m = l_c/(4*%pi*10^-7*myu_r*A) // relectance in At/Wb\n",
"flux = MMF/R_m                  // flux in Wb\n",
"B = flux/A                      // magnetic flux density in Wb/m^2\n",
"H = B/(4*%pi*10^-7*myu_r)       // field intensity in At/m\n",
"\n",
"// display the result \n",
"disp('Example 2.7 solution');\n",
"printf(' \n Flux \n flux= %.2e Wb \n', flux);\n",
"printf(' \n Magnetic flux density \n B= %.4f Wb/m^2 \n', B);\n",
"printf(' \n Field intensity \n H= %.2f At/m \n', H);"
   ]
   }
,
{
		   "cell_type": "markdown",
		   "metadata": {},
		   "source": [
			"## Example 2.8: calculate_current.sce"
		   ]
		  },
  {
"cell_type": "code",
	   "execution_count": null,
	   "metadata": {
	    "collapsed": true
	   },
	   "outputs": [],
"source": [
"// FUNDAMENTALS OF ELECTICAL MACHINES \n",
"// M.A.SALAM \n",
"// NAROSA PUBLISHING HOUSE \n",
"// SECOND EDITION\n",
"\n",
"// Chapter 2 : BESICS OF MAGNETIC CIRCUITS \n",
"// Example : 2.8\n",
"\n",
"clc;clear; // clears the console and command history \n",
"\n",
"// Given data\n",
"N = 450       // number of turns wound on left side of limb\n",
"A = 4         // cross sectional area in m^2\n",
"I = 5        // current through coil in A\n",
"fulx = 3     // flux in right limb Wb\n",
"myu_r = 500  // relative permiability magnetic material\n",
"l_1 = 0.12\n",
"l_2 = 0.24\n",
"phi2 = 3\n",
"\n",
"// caclulations \n",
"// we have relation \n",
"// phi1*rm1 = phi2*rm2 \n",
"// phi1*l_1/uA = pi2*l_2/uA\n",
"phi1 = phi2*l_2/l_1           // flux on left side in Wb\n",
"flux = phi1+phi2              // total flux in Wb\n",
"B_1 = flux/A                  // flux density in the left limb\n",
"H_1 = B_1/(4*%pi*10^-7*myu_r) // magnetic flux in At/m\n",
"MMF_1 = H_1*l_2               // magnetomotive force in At\n",
"B_2 = phi2/A                  // flux density in the right limb\n",
"H_2 = B_2/(4*%pi*10^-7*myu_r) // magnetic flux in At/m\n",
"MMF_2 = H_2*l_2               // magnetomotive force in At\n",
"MMF_t = MMF_1+MMF_2           // total magnetomotive force in At\n",
"I = MMF_t/N                   // current in A\n",
"\n",
"// display the result \n",
"disp('Example 2.8 solution');\n",
"printf(' \n Current\n I= %.2f A \n', I);"
   ]
   }
,
{
		   "cell_type": "markdown",
		   "metadata": {},
		   "source": [
			"## Example 2.9: find_relucatance_and_relative_permeability.sce"
		   ]
		  },
  {
"cell_type": "code",
	   "execution_count": null,
	   "metadata": {
	    "collapsed": true
	   },
	   "outputs": [],
"source": [
" // FUNDAMENTALS OF ELECTICAL MACHINES \n",
"// M.A.SALAM \n",
"// NAROSA PUBLISHING HOUSE \n",
"// SECOND EDITION\n",
"\n",
"// Chapter 2 : BESICS OF MAGNETIC CIRCUITS \n",
"// Example : 2.9\n",
"clc;clear; // clears the console and command history \n",
"\n",
"// Given data\n",
"l = 0.45            // mean lenght in m\n",
"A = 25*10^-4        // cross sectional area in m^2\n",
"l_ag = 0.8*10^-3    // air gap in m\n",
"N = 500            // number of turns \n",
"I = 1.25           // current in A \n",
"fulx = 2.25*10^-3  // flux in Wb\n",
"phi = 1.5*10^-3   // flux in Wb\n",
"\n",
"// caclulations \n",
"B = phi/A                      // magnetic flux density in Wb/m^2\n",
"MMF = N*I                      // magnetomotive force in At\n",
"H = B/(4*%pi*10^-7)            // magnetomotizing force in At/m\n",
"MMF_ag = H*l_ag                // magnetomotive force in At\n",
"MMF_i = MMF-MMF_ag             // magnetomotive force for iron ring in At\n",
"H_i = MMF_i/l                  // magnetic field intensity for iron part in At/m\n",
"myu_r = B/((4*%pi*10^-7)*H_i)  // relative permiability for iron \n",
"\n",
"// display the result \n",
"disp('Example 2.9 solution');\n",
"printf(' \n Relative permiability for iron \n myu_r = %.2f  \n', myu_r);\n",
"printf(' given current value in question is 2.25A, but in solution they took value of current as 1.25A ');"
   ]
   }
,
{
		   "cell_type": "markdown",
		   "metadata": {},
		   "source": [
			"## Example 9.2: determine_pitch_factor.sce"
		   ]
		  },
  {
"cell_type": "code",
	   "execution_count": null,
	   "metadata": {
	    "collapsed": true
	   },
	   "outputs": [],
"source": [
"// FUNDAMENTALS OF ELECTICAL MACHINES \n",
"// M.A.SALAM \n",
"// NAROSA PUBLISHING HOUSE \n",
"// SECOND EDITION\n",
"\n",
"// Chapter 9 : SYNCHRONOUS GENERATOR\n",
"// Example : 9.2\n",
"\n",
"clc;clear; // clears the console and command history \n",
"\n",
"// Given data\n",
"P = 8     // number of poles\n",
"m = 3     // number of phase \n",
"S = 144   // number of slots\n",
"\n",
"// caclulations \n",
"T_p = S/P         // pole pitch interms of slots\n",
"slots_1 = 180/T_p // pole pitch per slots\n",
"y = 2*slots_1     // short pitch angle in degree\n",
"k_p = cosd(y/2)   // pitch factor\n",
"\n",
"// display the result \n",
"disp('Example 9.2 solution'); \n",
"printf(' \n Pitch factor is \n k_p = %.2f \n', k_p );\n",
"\n",
""
   ]
   }
],
"metadata": {
		  "kernelspec": {
		   "display_name": "Scilab",
		   "language": "scilab",
		   "name": "scilab"
		  },
		  "language_info": {
		   "file_extension": ".sce",
		   "help_links": [
			{
			 "text": "MetaKernel Magics",
			 "url": "https://github.com/calysto/metakernel/blob/master/metakernel/magics/README.md"
			}
		   ],
		   "mimetype": "text/x-octave",
		   "name": "scilab",
		   "version": "0.7.1"
		  }
		 },
		 "nbformat": 4,
		 "nbformat_minor": 0
}
