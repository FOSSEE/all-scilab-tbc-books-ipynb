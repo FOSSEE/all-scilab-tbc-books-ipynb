{
"cells": [
 {
		   "cell_type": "markdown",
	   "metadata": {},
	   "source": [
       "# Chapter 5: DIRECT CURRENT MOTORS"
	   ]
	},
{
		   "cell_type": "markdown",
		   "metadata": {},
		   "source": [
			"## Example 5.1: determine_magnitude_of_force.sce"
		   ]
		  },
  {
"cell_type": "code",
	   "execution_count": null,
	   "metadata": {
	    "collapsed": true
	   },
	   "outputs": [],
"source": [
"// FUNDAMENTALS OF ELECTICAL MACHINES \n",
"// M.A.SALAM \n",
"// NAROSA PUBLISHING HOUSE \n",
"// SECOND EDITION\n",
"\n",
"// Chapter 5 : REVIEW OF ELECRTIC CIRCUITS  \n",
"// Example : 5.1 \n",
"\n",
"clc;clear; // clears the console and command history \n",
"\n",
"// Given data \n",
"l = 10 // conductor length in m\n",
"B = 0.56 // magnetic flux density in T\n",
"I = 2 // current through conductor in A\n",
"\n",
"// caclulations \n",
"F = B*I*l // magnitude of force in N\n",
"\n",
"// display the result \n",
"disp('Example 5.1 solution');\n",
"printf(' \n Magnitude of force \n F = %.1f N ', F); "
   ]
   }
,
{
		   "cell_type": "markdown",
		   "metadata": {},
		   "source": [
			"## Example 5.2: determine_value_of_back_emf_and_mechanical_power_developed.sce"
		   ]
		  },
  {
"cell_type": "code",
	   "execution_count": null,
	   "metadata": {
	    "collapsed": true
	   },
	   "outputs": [],
"source": [
"// FUNDAMENTALS OF ELECTICAL MACHINES \n",
"// M.A.SALAM \n",
"// NAROSA PUBLISHING HOUSE \n",
"// SECOND EDITION\n",
"\n",
"// Chapter 5 : DIRECT CURRENT MOTORS \n",
"// Example : 5.2 \n",
"\n",
"clc;clear; // clears the console and command history \n",
"// Given data \n",
"I = 20      // total current in A\n",
"V_t = 250;  // supply voltage in volt \n",
"R_sh = 200;  // shunt field resistance in Ω\n",
"R_a = 0.3;   // armature resistance in Ω\n",
"\n",
"// caclulations \n",
" I_sh = V_t/R_sh;     // shunt field current in A\n",
" I_a = I-I_sh'        // armature current \n",
" E_b = V_t - R_a*I_a; // the back emf in V \n",
" P_md = E_b*I_a;      // mechanical power developed in W \n",
" \n",
" // display the result \n",
"disp('Example 5.2 solution');\n",
"printf('\n The back emf is \n E_b = %.1f V \n\n',E_b ); \n",
"printf(' \n Mechanical power developed is \n P_md = %.1f W' ,P_md );\n",
"printf(' \n NOTE : error in calculation they has taken I_a=18.13, instead of I_a=18.75');"
   ]
   }
,
{
		   "cell_type": "markdown",
		   "metadata": {},
		   "source": [
			"## Example 5.3: determine_change_in_back_emf.sce"
		   ]
		  },
  {
"cell_type": "code",
	   "execution_count": null,
	   "metadata": {
	    "collapsed": true
	   },
	   "outputs": [],
"source": [
"// FUNDAMENTALS OF ELECTICAL MACHINES \n",
"// M.A.SALAM \n",
"// NAROSA PUBLISHING HOUSE \n",
"// SECOND EDITION\n",
"\n",
"// Chapter 5 : DIRECT CURRENT MOTORS \n",
"// Example : 5.3 \n",
"\n",
"clc;clear; // clears the console and command history \n",
"// Given data \n",
"R_a = 0.7;     // armature circuit resistance in Ω\n",
"V_t = 5;       // applied voltage in V\n",
"I_anl = 5;     // no-load armature current in A\n",
"I_afl = 35;    // full-load armature current in A\n",
"\n",
"\n",
"// caclulations \n",
"E_bnl =  V_t - R_a*I_anl;   // back emf under no-load in V\n",
"E_bfl =  V_t - R_a*I_afl;   // back emf under full-load in V\n",
"E_bc =  E_bnl - E_bfl;      // change in back emf from  no-load to full load in V\n",
" \n",
" // display the result \n",
"disp('Example 5.3 solution');\n",
"printf('\n The change in back emf is \n E_bc = %d V ',E_bc ); "
   ]
   }
,
{
		   "cell_type": "markdown",
		   "metadata": {},
		   "source": [
			"## Example 5.4: find_torque_developed_by_armature.sce"
		   ]
		  },
  {
"cell_type": "code",
	   "execution_count": null,
	   "metadata": {
	    "collapsed": true
	   },
	   "outputs": [],
"source": [
"// FUNDAMENTALS OF ELECTICAL MACHINES \n",
"// M.A.SALAM \n",
"// NAROSA PUBLISHING HOUSE \n",
"// SECOND EDITION\n",
"\n",
"// Chapter 5 : DIRECT CURRENT MOTORS \n",
"// Example : 5.4 \n",
"\n",
"clc;clear; // clears the console and command history \n",
"// Given data \n",
"I = 40;      // current in A \n",
"V_t = 230;   // supply in V\n",
"N = 1100;    // speed in rpm\n",
"R_a = 0.25;  // armature resistance in Ω\n",
"R_sh = 230;  //shunt resistance in Ω \n",
"\n",
"\n",
"// caclulations \n",
"I_sh = V_t/R_sh;       // shunt field current in A\n",
"I_a = I - 1;           // armature current in A\n",
"E_b = V_t - I_a*R_a;   // back emf \n",
"T_a = 9.55*E_b*I_a/N;  //  amrature torque in N-m\n",
" \n",
" // display the result \n",
"disp('Example 5.4 solution');\n",
"printf('\n The armature torque is \n T_a = %.2f N-m ',T_a ); "
   ]
   }
,
{
		   "cell_type": "markdown",
		   "metadata": {},
		   "source": [
			"## Example 5.5: find_speed_and_shaft_torque.sce"
		   ]
		  },
  {
"cell_type": "code",
	   "execution_count": null,
	   "metadata": {
	    "collapsed": true
	   },
	   "outputs": [],
"source": [
"// FUNDAMENTALS OF ELECTICAL MACHINES \n",
"// M.A.SALAM \n",
"// NAROSA PUBLISHING HOUSE \n",
"// SECOND EDITION\n",
"\n",
"// Chapter 5 : DIRECT CURRENT MOTORS\n",
"// Example : 5.5\n",
"\n",
"clc;clear; // clears the console and command history \n",
"\n",
"// Given data\n",
"P = 6          // number of poles\n",
"V_t = 230      // supply to shunt motor in V\n",
"Z = 450        // number of conductors\n",
"R_a = 0.8      // armature resistance in ohm\n",
"I = 30          // supply current in A\n",
"P_0 = 5560      // out put power in W\n",
"I_F = 3         // current through field winding\n",
"phi = 25*10^-3  // flux per pole in Wb\n",
"\n",
"// caclulations \n",
"A = 6                    // for lap wond A=P\n",
"I_a = I-I_F              // armature current in A\n",
"E_b = V_t-I_a*R_a        // back emf in V\n",
"N = 60*A*E_b/(P*Z*phi)   // speed in rpm\n",
"T_sh = 9.55*P_0/N        // shaft torque in N-m\n",
"\n",
"// display the result \n",
"disp('Example 5.5 solution');\n",
"printf(' speed \n N = %.1f rpm \n', N );\n",
"printf(' shaft torque \n T_sh = %.1f N-m \n', T_sh );"
   ]
   }
,
{
		   "cell_type": "markdown",
		   "metadata": {},
		   "source": [
			"## Example 5.6: determine_the_motor_speed_under_load_condition.sce"
		   ]
		  },
  {
"cell_type": "code",
	   "execution_count": null,
	   "metadata": {
	    "collapsed": true
	   },
	   "outputs": [],
"source": [
"// FUNDAMENTALS OF ELECTICAL MACHINES \n",
"// M.A.SALAM \n",
"// NAROSA PUBLISHING HOUSE \n",
"// SECOND EDITION\n",
"\n",
"// Chapter 5 : DIRECT CURRENT MOTORS\n",
"// Example : 5.6\n",
"\n",
"clc;clear; // clears the console and command history \n",
"\n",
"// Given data\n",
"I_L1 = 5      // dc shunt motor current\n",
"V_t = 230     // terminal voltage in V\n",
"N_1 = 1000    // speed in rpm\n",
"R_a = 0.2     // armature resistance in ohm\n",
"R_F = 230     // field resistance in ohm\n",
"I_L2 = 30     // dc shunt motor current\n",
"\n",
"// caclulations \n",
"// at noload condition\n",
"I_sh = V_t/R_F         // shunt field current in A\n",
"I_a1 = I_L1-I_sh       // armature current in A\n",
"E_b1 = V_t-I_a1*R_a    // back emf in V\n",
"// under load condition\n",
"I_a2 = I_L2-I_sh       // armature current in A\n",
"E_b2 = V_t-I_a2*R_a    // back emf in V\n",
"N_2 = (E_b2/E_b1)*N_1   // motor speed under load condtion in rpm\n",
"\n",
"// display the result \n",
"disp('Example 5.6 solution');\n",
"printf(' \n Speed under load condition \n N_2 = %.1f rpm \n', N_2 );\n",
""
   ]
   }
,
{
		   "cell_type": "markdown",
		   "metadata": {},
		   "source": [
			"## Example 5.7: find_the_speed_of_the_motor.sce"
		   ]
		  },
  {
"cell_type": "code",
	   "execution_count": null,
	   "metadata": {
	    "collapsed": true
	   },
	   "outputs": [],
"source": [
"// FUNDAMENTALS OF ELECTICAL MACHINES \n",
"// M.A.SALAM \n",
"// NAROSA PUBLISHING HOUSE \n",
"// SECOND EDITION\n",
"\n",
"// Chapter 5 : DIRECT CURRENT MOTORS\n",
"// Example : 5.7\n",
"\n",
"clc;clear; // clears the console and command history \n",
"\n",
"// Given data\n",
"I_a1 = 65     // supply current to dc series motor in A\n",
"V_t = 230     // supply voltage in V\n",
"N_1 = 900     // speed in rpm\n",
"R_a = 0.2     // armature resistance in ohm\n",
"R_sh = 0.25   // field resistance in ohm\n",
"I_a2 = 15     // supply current to dc series motor in A\n",
"// phi_2 = 0.4*phi_1 value of flux\n",
"\n",
"\n",
"// caclulations \n",
"E_b1 = V_t-I_a1*(R_a+R_sh)     // initial back emf in V\n",
"E_b2 = V_t-I_a2*(R_a+R_sh)     // final back emf in V\n",
"// phi_2 = 0.4*phi_1 value of flux\n",
"N_2 = (E_b2/E_b1)*(2.5)*N_1    // motor speed when line current is 15A in rpm\n",
"\n",
"// display the result \n",
"disp('Example 5.7 solution');\n",
"printf(' \n motor speed when line current is 15A \n N_2 = %.0f rpm \n', N_2 );\n",
"\n",
"printf(' NOTE: in question they given I_a1=56A , but in solution they took I_a1=65A');"
   ]
   }
,
{
		   "cell_type": "markdown",
		   "metadata": {},
		   "source": [
			"## Example 5.8: calculate_the_iron_and_friction_loss_and_efficiency.sce"
		   ]
		  },
  {
"cell_type": "code",
	   "execution_count": null,
	   "metadata": {
	    "collapsed": true
	   },
	   "outputs": [],
"source": [
"// FUNDAMENTALS OF ELECTICAL MACHINES \n",
"// M.A.SALAM \n",
"// NAROSA PUBLISHING HOUSE \n",
"// SECOND EDITION\n",
"\n",
"// Chapter 5 : DIRECT CURRENT MOTORS\n",
"// Example : 5.8\n",
"\n",
"clc;clear; // clears the console and command history \n",
"\n",
"// Given data\n",
"I_L1 = 5     // dc shunt motor current in A\n",
"V_t = 230    // supply voltage in V\n",
"R_a = 0.25   // armature resistance in ohm\n",
"R_sh = 115   // field resistance in ohm\n",
"I_L2 = 40    // dc shunt motor current in A\n",
"\n",
"\n",
"// caclulations \n",
"// at noload condition\n",
"P_in1 = V_t*I_L1                        // input power in W\n",
"I_sh = V_t/R_sh                         // shunt field current in A\n",
"I_a1 = I_L1-I_sh                        // armature current in A\n",
"P_acu1 = I_a1^2*R_a                     // armature copper loss in W\n",
"P_shcu = I_sh^2*R_sh                    //shunt field copper loss in W\n",
"P_iron_friction = P_in1-(P_acu1+P_shcu) // iron and friction losses in W\n",
"// under load condition\n",
"I_a2 = I_L2-I_sh                        // armature current in A\n",
"P_acu2 = I_a2^2*R_a                     // armature copper loss in W\n",
"P_loss = P_iron_friction+P_shcu+P_acu2  // total losses in W\n",
"P_in2 = V_t*I_L2                        // input power in W\n",
"P_0 = P_in2-P_loss                      // output power in W\n",
"n = (P_0/P_in2)*100                     // efficiency in percent\n",
"\n",
"// display the result \n",
"disp('Example 5.8 solution');\n",
"printf(' \n iron and friction losses \n P_iron_friction = %.2f W \n', P_iron_friction );\n",
"printf(' \n efficiency \n n = %.0f percent \n', n)\n",
"\n",
""
   ]
   }
,
{
		   "cell_type": "markdown",
		   "metadata": {},
		   "source": [
			"## Example 5.9: determine_Pcu_Ta_Tsh_and_efficiency.sce"
		   ]
		  },
  {
"cell_type": "code",
	   "execution_count": null,
	   "metadata": {
	    "collapsed": true
	   },
	   "outputs": [],
"source": [
"// FUNDAMENTALS OF ELECTICAL MACHINES \n",
"// M.A.SALAM \n",
"// NAROSA PUBLISHING HOUSE \n",
"// SECOND EDITION\n",
"\n",
"// Chapter 5 : DIRECT CURRENT MOTORS\n",
"// Example : 5.9\n",
"\n",
"clc;clear; // clears the console and command history \n",
"\n",
"// Given data\n",
"I_L= 80          // dc shunt motor current in A\n",
"V_t = 220        // supply voltage in V\n",
"N = 800          // speed in rpm\n",
"R_a = 0.1        // armature resistance in ohm\n",
"R_sh = 50        // shunt field resistance in ohm\n",
"P_if = 1600      // iron and friction losses in W\n",
"\n",
"// caclulations \n",
"I_sh = V_t/R_sh        // shunt field current in A\n",
"I_a = I_L-I_sh         // armature current\n",
"E_b = V_t-I_a*R_a      // back emf in V\n",
"P_in = V_t*I_L         // i/p power in W\n",
"P_md = E_b*I_a         // mechanical power developed in the armature in W\n",
"P_cu = P_in-P_md       // copper loss in W\n",
"T_a = 9.55*(E_b*I_a)/N // armature torque in N-m\n",
"P_0 = P_md-P_if        // o/p power in W\n",
"T_sh = 9.55*(P_0/N)    // shaft torque in N-m\n",
"n= (P_0/P_in)*100      // efficiency \n",
"\n",
"// display the result \n",
"disp('Example 5.9 solution');\n",
"printf(' \n Copper loss \n P_cu = %.2f W \n', P_cu);\n",
"printf(' \n Armature torque \n T_a = %.2f N-m \n', T_a);\n",
"printf(' \n Shaft torque \n T_sh = %.2f N-m \n', T_sh);\n",
"printf(' \n Efficiency \n n = %.0f percent \n', n);\n",
""
   ]
   }
],
"metadata": {
		  "kernelspec": {
		   "display_name": "Scilab",
		   "language": "scilab",
		   "name": "scilab"
		  },
		  "language_info": {
		   "file_extension": ".sce",
		   "help_links": [
			{
			 "text": "MetaKernel Magics",
			 "url": "https://github.com/calysto/metakernel/blob/master/metakernel/magics/README.md"
			}
		   ],
		   "mimetype": "text/x-octave",
		   "name": "scilab",
		   "version": "0.7.1"
		  }
		 },
		 "nbformat": 4,
		 "nbformat_minor": 0
}
