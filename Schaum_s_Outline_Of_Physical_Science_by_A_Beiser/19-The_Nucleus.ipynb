{
"cells": [
 {
		   "cell_type": "markdown",
	   "metadata": {},
	   "source": [
       "# Chapter 19: The Nucleus"
	   ]
	},
{
		   "cell_type": "markdown",
		   "metadata": {},
		   "source": [
			"## Example 19.10: 10.sce"
		   ]
		  },
  {
"cell_type": "code",
	   "execution_count": null,
	   "metadata": {
	    "collapsed": true
	   },
	   "outputs": [],
"source": [
"clc;\n",
"m=0.001;     //mass in kg\n",
"c=3*10^8;    //velocity in m/sec \n",
"p=10^8;      //power in Watt\n",
"t=24;        //time in hr/day\n",
"E=m*c*c;     //Eintstein equation\n",
"disp(E,'Energy in Joule = ');  //displaying result\n",
"M=(p*3600*t)/E;    //calculating mass of U required\n",
"m=E/(7822*4185);   //calculating mass of coal required\n",
"disp(M,'Mass of U required in kg/day = ');  //displaying result\n",
"disp(m,'Mass of coal required in kg/day = ');  //displaying result"
   ]
   }
,
{
		   "cell_type": "markdown",
		   "metadata": {},
		   "source": [
			"## Example 19.5: 5.sce"
		   ]
		  },
  {
"cell_type": "code",
	   "execution_count": null,
	   "metadata": {
	    "collapsed": true
	   },
	   "outputs": [],
"source": [
"clc;\n",
"delm=(8.0626+8.0693)-15.9949;    //in u\n",
"E=delm*931;     //calculating binding energy in MeV\n",
"disp(E,'Binding Energy in MeV = ');    //displaying result"
   ]
   }
,
{
		   "cell_type": "markdown",
		   "metadata": {},
		   "source": [
			"## Example 19.6: 6.sce"
		   ]
		  },
  {
"cell_type": "code",
	   "execution_count": null,
	   "metadata": {
	    "collapsed": true
	   },
	   "outputs": [],
"source": [
"clc;\n",
"m0=10.07825+10.08665; //in u\n",
"delm=160.6/931;   //calculating mass eqvi. of 160.6 MeV\n",
"disp((m0-delm),'Atomic Mass in u = ');  //displaying result"
   ]
   }
],
"metadata": {
		  "kernelspec": {
		   "display_name": "Scilab",
		   "language": "scilab",
		   "name": "scilab"
		  },
		  "language_info": {
		   "file_extension": ".sce",
		   "help_links": [
			{
			 "text": "MetaKernel Magics",
			 "url": "https://github.com/calysto/metakernel/blob/master/metakernel/magics/README.md"
			}
		   ],
		   "mimetype": "text/x-octave",
		   "name": "scilab",
		   "version": "0.7.1"
		  }
		 },
		 "nbformat": 4,
		 "nbformat_minor": 0
}
