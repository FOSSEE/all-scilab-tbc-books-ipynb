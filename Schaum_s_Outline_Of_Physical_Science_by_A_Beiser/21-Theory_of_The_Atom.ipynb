{
"cells": [
 {
		   "cell_type": "markdown",
	   "metadata": {},
	   "source": [
       "# Chapter 21: Theory of The Atom"
	   ]
	},
{
		   "cell_type": "markdown",
		   "metadata": {},
		   "source": [
			"## Example 21.11: 11.sce"
		   ]
		  },
  {
"cell_type": "code",
	   "execution_count": null,
	   "metadata": {
	    "collapsed": true
	   },
	   "outputs": [],
"source": [
"clc;\n",
"e1=-13.6;    //energy in eV\n",
"disp(e1/9,'Energy in eV = ');  //displaying result"
   ]
   }
,
{
		   "cell_type": "markdown",
		   "metadata": {},
		   "source": [
			"## Example 21.5: 5.sce"
		   ]
		  },
  {
"cell_type": "code",
	   "execution_count": null,
	   "metadata": {
	    "collapsed": true
	   },
	   "outputs": [],
"source": [
"clc;\n",
"e1=-13.6;   //in eV\n",
"disp((e1/4),'Energy of first excited state in eV = ');  //displaying result\n",
"disp((e1/9),'Energy of second excited state in eV = ');  //displaying result\n",
"disp((e1/16),'Energy of third excited state in eV = ');  //displaying result"
   ]
   }
,
{
		   "cell_type": "markdown",
		   "metadata": {},
		   "source": [
			"## Example 21.6: 6.sce"
		   ]
		  },
  {
"cell_type": "code",
	   "execution_count": null,
	   "metadata": {
	    "collapsed": true
	   },
	   "outputs": [],
"source": [
"clc;\n",
"h=6.63*10^-34;      //Plancks constant in J.sec\n",
"m=9.1*10^-31;       //mass in kg\n",
"r1=5.3*10^-11;      //radius in m\n",
"v=h/(2*%pi*m*r1);   //calculating velocity in m/sec\n",
"disp(v,'Velocity in m/sec = ');  //displaying result"
   ]
   }
,
{
		   "cell_type": "markdown",
		   "metadata": {},
		   "source": [
			"## Example 21.7: 7.sce"
		   ]
		  },
  {
"cell_type": "code",
	   "execution_count": null,
	   "metadata": {
	    "collapsed": true
	   },
	   "outputs": [],
"source": [
"clc;\n",
"E=2.18*10^-18;      //energy in Joule\n",
"k=1.38*10^-23;      //constant in J/K\n",
"disp(((2*E)/(3*k)),'Temperature in Kelvin = ');  //displaying result"
   ]
   }
,
{
		   "cell_type": "markdown",
		   "metadata": {},
		   "source": [
			"## Example 21.8: 8.sce"
		   ]
		  },
  {
"cell_type": "code",
	   "execution_count": null,
	   "metadata": {
	    "collapsed": true
	   },
	   "outputs": [],
"source": [
"clc;\n",
"E=2.18*10^-18;      //energy in Joule\n",
"k=1.38*10^-23;      //constant in J/K\n",
"disp(E/h,'Frequency in Hz = ');  //displaying result"
   ]
   }
],
"metadata": {
		  "kernelspec": {
		   "display_name": "Scilab",
		   "language": "scilab",
		   "name": "scilab"
		  },
		  "language_info": {
		   "file_extension": ".sce",
		   "help_links": [
			{
			 "text": "MetaKernel Magics",
			 "url": "https://github.com/calysto/metakernel/blob/master/metakernel/magics/README.md"
			}
		   ],
		   "mimetype": "text/x-octave",
		   "name": "scilab",
		   "version": "0.7.1"
		  }
		 },
		 "nbformat": 4,
		 "nbformat_minor": 0
}
