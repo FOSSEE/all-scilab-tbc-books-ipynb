{
"cells": [
 {
		   "cell_type": "markdown",
	   "metadata": {},
	   "source": [
       "# Chapter 30: Electrochemistry"
	   ]
	},
{
		   "cell_type": "markdown",
		   "metadata": {},
		   "source": [
			"## Example 30.10: 10.sce"
		   ]
		  },
  {
"cell_type": "code",
	   "execution_count": null,
	   "metadata": {
	    "collapsed": true
	   },
	   "outputs": [],
"source": [
"clc;\n",
"A=107.87;         //atomic mass in gm\n",
"F=96500;          //in Coloumb\n",
"v=1;             //valency\n",
"z=A/(F*v);        //calculating ECE using Faraday's Law\n",
"disp(z,'(a)Electrochemical Eqvivalent = ');  //displaying result\n",
"A1=16;         //atomic mass in gm\n",
"v1=2;          //valency\n",
"z1=A1/(F*v1);    //Faraday's Law\n",
"disp(z1,'(b)Electrochemical Equivalent = ');  //displaying result"
   ]
   }
,
{
		   "cell_type": "markdown",
		   "metadata": {},
		   "source": [
			"## Example 30.11: 11.sce"
		   ]
		  },
  {
"cell_type": "code",
	   "execution_count": null,
	   "metadata": {
	    "collapsed": true
	   },
	   "outputs": [],
"source": [
"clc;\n",
"z=0.405;          //ECE in mg/C\n",
"i=25;             //current in Ampere\n",
"t=1200;           //time in sec\n",
"m=z*i*t;          //calculating mass\n",
"disp(m,'Mass in gm = ');  //displaying result\n",
"m1=10^6;          //mass\n",
"t=m1/(z*i);        //calculating time\n",
"disp(t,'Time in sec = ');  //displaying result"
   ]
   }
,
{
		   "cell_type": "markdown",
		   "metadata": {},
		   "source": [
			"## Example 30.13: 13.sce"
		   ]
		  },
  {
"cell_type": "code",
	   "execution_count": null,
	   "metadata": {
	    "collapsed": true
	   },
	   "outputs": [],
"source": [
"clc;\n",
"Q=200;      //charge in Coloumb\n",
"A=65.37;    //molar mass of zinc\n",
"F=96500;    //in Coloumb\n",
"v=2;        //valency\n",
"m=(Q*A)/(F*v);  //calculating mass\n",
"disp(m,'Mass in gm = ');  //displaying result"
   ]
   }
,
{
		   "cell_type": "markdown",
		   "metadata": {},
		   "source": [
			"## Example 30.3: 3.sce"
		   ]
		  },
  {
"cell_type": "code",
	   "execution_count": null,
	   "metadata": {
	    "collapsed": true
	   },
	   "outputs": [],
"source": [
"clc;\n",
"F=96500/3600;    //calculating 1F\n",
"disp(F,'1 Faraday in ampere.hr = ');  //displaying result"
   ]
   }
,
{
		   "cell_type": "markdown",
		   "metadata": {},
		   "source": [
			"## Example 30.4: 4.sce"
		   ]
		  },
  {
"cell_type": "code",
	   "execution_count": null,
	   "metadata": {
	    "collapsed": true
	   },
	   "outputs": [],
"source": [
"clc;\n",
"i=12;      //current in Ampere\n",
"t=7200;    //time in sec\n",
"A=65.37;   //molar mass of zinc\n",
"F=96500;     //in Coloumb\n",
"v=2;       //valency\n",
"m=(i*t*A)/(F*v);  //calculating mass\n",
"disp(m,'Mass in gm = ');  //displaying result"
   ]
   }
,
{
		   "cell_type": "markdown",
		   "metadata": {},
		   "source": [
			"## Example 30.5: 5.sce"
		   ]
		  },
  {
"cell_type": "code",
	   "execution_count": null,
	   "metadata": {
	    "collapsed": true
	   },
	   "outputs": [],
"source": [
"clc;\n",
"i=20;      //current in Ampere\n",
"A=112.4;   //molar mass of cadmium\n",
"F=96500;     //in Coloumb\n",
"v=2;       //valency\n",
"m=50;       //mass in gm\n",
"t=(m*F*v)/(i*A);  //calculating time\n",
"disp(t,'Time in sec = ');  //displaying result"
   ]
   }
,
{
		   "cell_type": "markdown",
		   "metadata": {},
		   "source": [
			"## Example 30.6: 6.sce"
		   ]
		  },
  {
"cell_type": "code",
	   "execution_count": null,
	   "metadata": {
	    "collapsed": true
	   },
	   "outputs": [],
"source": [
"clc;\n",
"t=600;      //time in sec\n",
"i=100;      //current in Ampere\n",
"A=26.98;   //molar mass of aluminium\n",
"F=96500;     //in Coloumb\n",
"m=5.6;       //mass in gm\n",
"v=(i*t*A)/(F*m);  //calculating valency\n",
"disp(v,'Valency = ');  //displaying result"
   ]
   }
,
{
		   "cell_type": "markdown",
		   "metadata": {},
		   "source": [
			"## Example 30.7: 7.sce"
		   ]
		  },
  {
"cell_type": "code",
	   "execution_count": null,
	   "metadata": {
	    "collapsed": true
	   },
	   "outputs": [],
"source": [
"clc;\n",
"d=8.9;     //density of copper in gm/cm cube\n",
"V=6000*0.002;      //volume in cm cube\n",
"m=d*V;              //calculating mass in gm\n",
"i=100;      //current in Ampere\n",
"A=63.54;   //molar mass of copper\n",
"F=96500;     //in Coloumb\n",
"v=2;       //valency\n",
"t=(m*F*v)/(i*A);  //calculating time\n",
"disp(t,'Time in sec = ');  //displaying result"
   ]
   }
,
{
		   "cell_type": "markdown",
		   "metadata": {},
		   "source": [
			"## Example 30.8: 8.sce"
		   ]
		  },
  {
"cell_type": "code",
	   "execution_count": null,
	   "metadata": {
	    "collapsed": true
	   },
	   "outputs": [],
"source": [
"clc;\n",
"i=50;      //current in Ampere\n",
"t=3600;    //time in sec\n",
"A=22.99;   //molar mass of zinc\n",
"F=96500;     //in Coloumb\n",
"v=1;       //valency\n",
"m=(i*t*A)/(F*v);  //calculating mass\n",
"disp(m,'Mass in gm = ');  //displaying result\n",
"M=(i*t)/(F*v);   //calculating moles\n",
"disp(M,'No. of moles per hour = ');  //displaying result"
   ]
   }
,
{
		   "cell_type": "markdown",
		   "metadata": {},
		   "source": [
			"## Example 30.9: 9.sce"
		   ]
		  },
  {
"cell_type": "code",
	   "execution_count": null,
	   "metadata": {
	    "collapsed": true
	   },
	   "outputs": [],
"source": [
"clc;\n",
"i=10;      //current in Ampere\n",
"t=3600;    //time in sec\n",
"F=96500;     //in Coloumb\n",
"v=1;       //valency\n",
"M=(i*t)/(F*v);   //calculating moles\n",
"disp(M,'No. of moles per hour = ');  //displaying result"
   ]
   }
],
"metadata": {
		  "kernelspec": {
		   "display_name": "Scilab",
		   "language": "scilab",
		   "name": "scilab"
		  },
		  "language_info": {
		   "file_extension": ".sce",
		   "help_links": [
			{
			 "text": "MetaKernel Magics",
			 "url": "https://github.com/calysto/metakernel/blob/master/metakernel/magics/README.md"
			}
		   ],
		   "mimetype": "text/x-octave",
		   "name": "scilab",
		   "version": "0.7.1"
		  }
		 },
		 "nbformat": 4,
		 "nbformat_minor": 0
}
