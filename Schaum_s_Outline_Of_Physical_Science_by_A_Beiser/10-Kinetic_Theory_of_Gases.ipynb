{
"cells": [
 {
		   "cell_type": "markdown",
	   "metadata": {},
	   "source": [
       "# Chapter 10: Kinetic Theory of Gases"
	   ]
	},
{
		   "cell_type": "markdown",
		   "metadata": {},
		   "source": [
			"## Example 10.10: 10.sce"
		   ]
		  },
  {
"cell_type": "code",
	   "execution_count": null,
	   "metadata": {
	    "collapsed": true
	   },
	   "outputs": [],
"source": [
"clc;\n",
"t1=293;     //temp in Kelvin\n",
"t2=233;     //temp in Kelvin\n",
"v1=0.1;     //volume in m cube\n",
"p1=10;      //pressure in atm\n",
"p2=1;       //pressure in atm\n",
"v2=(p1*v1*t2)/(t1*p2);   //calculating v2 using ideal gas law\n",
"p3=1;       //pressure in atm\n",
"v3=(p1*v1)/p3;      //calculating volume using ideal gas law\n",
"disp(v2-0.1,'(a)Volume of ballon in m cube = ');  //displaying result.\n",
"disp(v3-0.1,'(b)Volume of ballon after Helium absorbs heat from air  in m cube = ');  //displaying result."
   ]
   }
,
{
		   "cell_type": "markdown",
		   "metadata": {},
		   "source": [
			"## Example 10.11: 11.sce"
		   ]
		  },
  {
"cell_type": "code",
	   "execution_count": null,
	   "metadata": {
	    "collapsed": true
	   },
	   "outputs": [],
"source": [
"clc;\n",
"d1=1.293;      //density in kg/m cube\n",
"t1=273;        //temperature in Kelvin\n",
"p2=2;          //pressure in atm\n",
"t2=373;        //temperature in Kelvin\n",
"p1=1;          //pressure in atm\n",
"d2=(d1*t1*p2)/(t2*p1);    //calculating density using ideal gas law in kg/m cube\n",
"disp(d2,'Density in kg/m cube = ');    //displaying result"
   ]
   }
,
{
		   "cell_type": "markdown",
		   "metadata": {},
		   "source": [
			"## Example 10.12: 12.sce"
		   ]
		  },
  {
"cell_type": "code",
	   "execution_count": null,
	   "metadata": {
	    "collapsed": true
	   },
	   "outputs": [],
"source": [
"clc;\n",
"o=16.00;     //atomic mass of O\n",
"h=1.008;    //atomic mass of H\n",
"mh2o=(o+2*h)*1.66*10^-27;     //mass of H2O molecule\n",
"disp(mh2o,'Mass of H20 molecule in kg = ');   //displaying result\n",
"c=12.01;     //atomic mass of carbon\n",
"m=((2*c)+o+(6*h))*1.66*10^-27;     //mass of C2H6O molecule\n",
"disp(m,'Mass of Ethyl Alcohol molecule in kg = ');     //displaying result"
   ]
   }
,
{
		   "cell_type": "markdown",
		   "metadata": {},
		   "source": [
			"## Example 10.13: 13.sce"
		   ]
		  },
  {
"cell_type": "code",
	   "execution_count": null,
	   "metadata": {
	    "collapsed": true
	   },
	   "outputs": [],
"source": [
"clc;\n",
"m=1;      //mass of H2O in kg\n",
"m1=2.99*10^-26;     //mass of H2O molecule in kg\n",
"mo=m/m1;         //calculating no. of molecules of H2O using no=mass of H2O/mass of H2) molecule\n",
"disp(mo,'Molecules of H2O = ');        //displaying result"
   ]
   }
,
{
		   "cell_type": "markdown",
		   "metadata": {},
		   "source": [
			"## Example 10.14: 14.sce"
		   ]
		  },
  {
"cell_type": "code",
	   "execution_count": null,
	   "metadata": {
	    "collapsed": true
	   },
	   "outputs": [],
"source": [
"clc;\n",
"k=1.38*10^-23;    //Boltzmann's constant in J/K\n",
"tk=273+100;      //absolute temp (in Kelvin)\n",
"KE=3/2*(k*tk);   //calculating average Kinetic Energy in Joule using kinetic theory of gases\n",
"disp(KE,'Average Kinetic Energy in Joule = ');    //displaying result"
   ]
   }
,
{
		   "cell_type": "markdown",
		   "metadata": {},
		   "source": [
			"## Example 10.15: 15.sce"
		   ]
		  },
  {
"cell_type": "code",
	   "execution_count": null,
	   "metadata": {
	    "collapsed": true
	   },
	   "outputs": [],
"source": [
"clc;\n",
"k=1.38*10^-23;        //Boltzmann's constant in J/K\n",
"t=100+273;            //temperature in Kelvin\n",
"m=5.3*10^-26;         //mass of oxygen molecule in kg\n",
"v=sqrt((3*k*t)/m);     //calculating average velocity using kinetic theory of gases.\n",
"disp(v,'Average velocity of molecules in m/sec = ');   //displaying result"
   ]
   }
,
{
		   "cell_type": "markdown",
		   "metadata": {},
		   "source": [
			"## Example 10.4: 4.sce"
		   ]
		  },
  {
"cell_type": "code",
	   "execution_count": null,
	   "metadata": {
	    "collapsed": true
	   },
	   "outputs": [],
"source": [
"clc;\n",
"gp=200;      //gauge pressure in lb/in square\n",
"atmp=15;     //atmospheric pressure in lb/in square\n",
"p1=gp+atmp;   //pressure in lb/in square\n",
"v1=3;         //volume in ft cube\n",
"p2=15;         //pressure at sea-level in lb/in square\n",
"v2=(p1*v1)/p2;   //calculating pressure in ft cube using Boyle's law  ie. p1*v1=p2*v2 at constant temperature\n",
"disp(v2,'Volume occupied in ft cube = ');     //displaying result."
   ]
   }
,
{
		   "cell_type": "markdown",
		   "metadata": {},
		   "source": [
			"## Example 10.5: 5.sce"
		   ]
		  },
  {
"cell_type": "code",
	   "execution_count": null,
	   "metadata": {
	    "collapsed": true
	   },
	   "outputs": [],
"source": [
"clc;\n",
"p1=300+15;        //absolute pressure in lb/in square\n",
"p2=15;            //pressure in lb/in square\n",
"v1=3;             //volume in ft cube\n",
"v2=(p1*v1)/p2;    //calculating v2 using Boyle's law at const. temp.\n",
"disp(v2,'Volume in ft cube = ');    //displaying result.\n",
"disp(v2-43,'Additional Volume of air in ft cube = ');  //displaying result."
   ]
   }
,
{
		   "cell_type": "markdown",
		   "metadata": {},
		   "source": [
			"## Example 10.6: 6.sce"
		   ]
		  },
  {
"cell_type": "code",
	   "execution_count": null,
	   "metadata": {
	    "collapsed": true
	   },
	   "outputs": [],
"source": [
"clc;\n",
"Tc=-196;     //Boiling Point of Nitrogen in celcius\n",
"Tk=Tc+273;   //calculating B.P. in Kelvin using Kelvin=Celcius+273\n",
"disp(Tk,'Boiling Point of Nitrogen in Kelvin = ');  //displaying result."
   ]
   }
,
{
		   "cell_type": "markdown",
		   "metadata": {},
		   "source": [
			"## Example 10.7: 7.sce"
		   ]
		  },
  {
"cell_type": "code",
	   "execution_count": null,
	   "metadata": {
	    "collapsed": true
	   },
	   "outputs": [],
"source": [
"clc;\n",
"tk=6000;      //temperature in Kelvin\n",
"disp(tk-273,'Temperature in celcius = ');    //displaying result"
   ]
   }
,
{
		   "cell_type": "markdown",
		   "metadata": {},
		   "source": [
			"## Example 10.8: 8.sce"
		   ]
		  },
  {
"cell_type": "code",
	   "execution_count": null,
	   "metadata": {
	    "collapsed": true
	   },
	   "outputs": [],
"source": [
"clc;\n",
"t1=273;      //temperature in Kelvin\n",
"v2=2;         //twice v1\n",
"disp((t1*v2)-273,'Temperature in celcius = ');    //displaying result"
   ]
   }
,
{
		   "cell_type": "markdown",
		   "metadata": {},
		   "source": [
			"## Example 10.9: 9.sce"
		   ]
		  },
  {
"cell_type": "code",
	   "execution_count": null,
	   "metadata": {
	    "collapsed": true
	   },
	   "outputs": [],
"source": [
"clc;\n",
"T1=283;        //temperature Kelvin\n",
"T2=322;       //temp. in Kelvin\n",
"p1=35;        //pressure in lb/in square\n",
"p2=(T2*p1)/T1;    //calculating p2 using ideal gas equation since,v1=v2\n",
"disp(p2,'Pressure in lb/in square = ');     //displaying result."
   ]
   }
],
"metadata": {
		  "kernelspec": {
		   "display_name": "Scilab",
		   "language": "scilab",
		   "name": "scilab"
		  },
		  "language_info": {
		   "file_extension": ".sce",
		   "help_links": [
			{
			 "text": "MetaKernel Magics",
			 "url": "https://github.com/calysto/metakernel/blob/master/metakernel/magics/README.md"
			}
		   ],
		   "mimetype": "text/x-octave",
		   "name": "scilab",
		   "version": "0.7.1"
		  }
		 },
		 "nbformat": 4,
		 "nbformat_minor": 0
}
