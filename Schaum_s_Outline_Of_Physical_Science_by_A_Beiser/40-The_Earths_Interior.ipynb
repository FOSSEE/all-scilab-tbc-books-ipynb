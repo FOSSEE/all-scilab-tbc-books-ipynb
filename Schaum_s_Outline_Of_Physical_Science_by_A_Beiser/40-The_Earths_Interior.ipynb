{
"cells": [
 {
		   "cell_type": "markdown",
	   "metadata": {},
	   "source": [
       "# Chapter 40: The Earths Interior"
	   ]
	},
{
		   "cell_type": "markdown",
		   "metadata": {},
		   "source": [
			"## Example 40.7: 7.sce"
		   ]
		  },
  {
"cell_type": "code",
	   "execution_count": null,
	   "metadata": {
	    "collapsed": true
	   },
	   "outputs": [],
"source": [
"clc;\n",
"r=6.4*10^6;   //radius in metre\n",
"v=(4/3)*%pi*r*r*r;  //calculating volume\n",
"m=6.0*10^24;     //mass in kg\n",
"d=m/v;     //calculating density\n",
"disp(d,'Density in kg/m cube = ');  //displaying result"
   ]
   }
],
"metadata": {
		  "kernelspec": {
		   "display_name": "Scilab",
		   "language": "scilab",
		   "name": "scilab"
		  },
		  "language_info": {
		   "file_extension": ".sce",
		   "help_links": [
			{
			 "text": "MetaKernel Magics",
			 "url": "https://github.com/calysto/metakernel/blob/master/metakernel/magics/README.md"
			}
		   ],
		   "mimetype": "text/x-octave",
		   "name": "scilab",
		   "version": "0.7.1"
		  }
		 },
		 "nbformat": 4,
		 "nbformat_minor": 0
}
