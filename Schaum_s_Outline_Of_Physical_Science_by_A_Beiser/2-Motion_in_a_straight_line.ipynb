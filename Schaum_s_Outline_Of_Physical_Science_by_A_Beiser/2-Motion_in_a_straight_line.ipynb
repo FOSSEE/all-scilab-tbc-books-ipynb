{
"cells": [
 {
		   "cell_type": "markdown",
	   "metadata": {},
	   "source": [
       "# Chapter 2: Motion in a straight line"
	   ]
	},
{
		   "cell_type": "markdown",
		   "metadata": {},
		   "source": [
			"## Example 2.10: 10.sce"
		   ]
		  },
  {
"cell_type": "code",
	   "execution_count": null,
	   "metadata": {
	    "collapsed": true
	   },
	   "outputs": [],
"source": [
"clc;\n",
"v=30;      //velocity in m/sec\n",
"a=6;       //acc. in m/sec square\n",
"t=v/a;     //using t=v/a\n",
"disp(t,'Time in sec = '); //displaying result\n",
"s=(1/2)*(a*t*t);      //kinematical equation\n",
"disp(s,'Distance in metre = ');      //displaying result"
   ]
   }
,
{
		   "cell_type": "markdown",
		   "metadata": {},
		   "source": [
			"## Example 2.11: 11.sce"
		   ]
		  },
  {
"cell_type": "code",
	   "execution_count": null,
	   "metadata": {
	    "collapsed": true
	   },
	   "outputs": [],
"source": [
"clc;\n",
"disp(sqrt(2*5*600),'Velocity in ft/sec = '); //displaying result"
   ]
   }
,
{
		   "cell_type": "markdown",
		   "metadata": {},
		   "source": [
			"## Example 2.1: 1.sce"
		   ]
		  },
  {
"cell_type": "code",
	   "execution_count": null,
	   "metadata": {
	    "collapsed": true
	   },
	   "outputs": [],
"source": [
"clc;\n",
"disp(9/(3/4),'Velocity in min/hr = ');    //displaying result"
   ]
   }
,
{
		   "cell_type": "markdown",
		   "metadata": {},
		   "source": [
			"## Example 2.12: 12.sce"
		   ]
		  },
  {
"cell_type": "code",
	   "execution_count": null,
	   "metadata": {
	    "collapsed": true
	   },
	   "outputs": [],
"source": [
"clc;\n",
"v=50;        //velocity in m/sec\n",
"s=500;       //distance in m\n",
"disp((v*v)/(2*s),'Acc. in m/sec square = ');     //displaying result"
   ]
   }
,
{
		   "cell_type": "markdown",
		   "metadata": {},
		   "source": [
			"## Example 2.13: 13.sce"
		   ]
		  },
  {
"cell_type": "code",
	   "execution_count": null,
	   "metadata": {
	    "collapsed": true
	   },
	   "outputs": [],
"source": [
"clc;\n",
"v=15;     //velocity in m/sec\n",
"v0=30;    //velocity in m/sec\n",
"a=-2;     //acc. in m/sec square\n",
"s=((v*v)-(v0*v0))/(2*a);     //kinematical equation\n",
"disp(s,'Distance in metre = ');      //displaying result\n",
"v=0;\n",
"s=(v*v)-(v0*v0)/(2*a);\n",
"disp(s,'Distance in metre = ');      //displaying result"
   ]
   }
,
{
		   "cell_type": "markdown",
		   "metadata": {},
		   "source": [
			"## Example 2.14: 14.sce"
		   ]
		  },
  {
"cell_type": "code",
	   "execution_count": null,
	   "metadata": {
	    "collapsed": true
	   },
	   "outputs": [],
"source": [
"clc;\n",
"g=9.8;    //gravitational constant in m/sec square\n",
"t=2.5;    //time in sec\n",
"v=g*t;\n",
"disp(v,'Velocity in m/sec = ');     //displaying result\n",
"h=(1/2)*g*t*t;    //kinematical equation\n",
"disp(h,'Height in m = ');     //displaying result"
   ]
   }
,
{
		   "cell_type": "markdown",
		   "metadata": {},
		   "source": [
			"## Example 2.15: 15.sce"
		   ]
		  },
  {
"cell_type": "code",
	   "execution_count": null,
	   "metadata": {
	    "collapsed": true
	   },
	   "outputs": [],
"source": [
"clc;\n",
"g=32;     //gravitational constant in ft/sec square\n",
"h=64;     //height in ft\n",
"t=(sqrt((2*h)/g));   //kinematical equation\n",
"disp(t,'Time in sec = ');     //displaying result\n",
"v=g*t;      //kinematical equation\n",
"disp(v,'Velocity in ft/sec = ');      //displaying result"
   ]
   }
,
{
		   "cell_type": "markdown",
		   "metadata": {},
		   "source": [
			"## Example 2.16: 16.sce"
		   ]
		  },
  {
"cell_type": "code",
	   "execution_count": null,
	   "metadata": {
	    "collapsed": true
	   },
	   "outputs": [],
"source": [
"clc;\n",
"g=32;        //gravitational constant in ft/sec square\n",
"h=100;       //height in ft\n",
"v=sqrt(2*g*h);    //calculating velocity \n",
"disp(v,'Velocity in ft/sec = ');     //displaying result"
   ]
   }
,
{
		   "cell_type": "markdown",
		   "metadata": {},
		   "source": [
			"## Example 2.17: 17.sce"
		   ]
		  },
  {
"cell_type": "code",
	   "execution_count": null,
	   "metadata": {
	    "collapsed": true
	   },
	   "outputs": [],
"source": [
"clc;\n",
"h=0.78;     //height in m\n",
"g=9.8;      //gravitational constant in m/sec square\n",
"v=0.5;      //velocity in m/sec\n",
"t=sqrt((2*h)/g);    //calculating t\n",
"disp(t,'Time required in sec = ');    //displaying result\n",
"s=v*t;     //calculating distance\n",
"disp(s,'Horizontal distance in m = ');   //displaying result"
   ]
   }
,
{
		   "cell_type": "markdown",
		   "metadata": {},
		   "source": [
			"## Example 2.18: 18.sce"
		   ]
		  },
  {
"cell_type": "code",
	   "execution_count": null,
	   "metadata": {
	    "collapsed": true
	   },
	   "outputs": [],
"source": [
"clc;\n",
"v0=20;    //velocity in ft/sec\n",
"g=32;     //gravitational constant in ft/sec\n",
"t=2;      //time in sec\n",
"v=v0+(g*t);    //kinematical equation\n",
"disp(v,'Velocity in ft/sec = ');        //displaying result\n",
"s=(v0*t)+(1/2)*g*t*t;     //kinematical equation\n",
"disp(s,'Distance in ft = '); //displaying result"
   ]
   }
,
{
		   "cell_type": "markdown",
		   "metadata": {},
		   "source": [
			"## Example 2.19: 19.sce"
		   ]
		  },
  {
"cell_type": "code",
	   "execution_count": null,
	   "metadata": {
	    "collapsed": true
	   },
	   "outputs": [],
"source": [
"clc;\n",
"v0=20;    //velocity in ft/sec\n",
"g=-32;     //gravitational constant in ft/sec\n",
"t=0.5;      //time in sec\n",
"v=v0+(g*t);    //kinematical equation\n",
"disp(v,'Velocity in ft/sec = ');        //displaying result\n",
"t=2;          //time in sec\n",
"s=v0+(g*t);     //kinematical equation\n",
"disp(s,'Distance in ft = '); //displaying result"
   ]
   }
,
{
		   "cell_type": "markdown",
		   "metadata": {},
		   "source": [
			"## Example 2.20: 20.sce"
		   ]
		  },
  {
"cell_type": "code",
	   "execution_count": null,
	   "metadata": {
	    "collapsed": true
	   },
	   "outputs": [],
"source": [
"clc;\n",
"h=6;         //height in ft\n",
"g=32;        //gravitaional constant in ft/sec square\n",
"t=sqrt((2*h)/g);   //calculating time\n",
"disp(t,'Time in sec = '); //displaying result"
   ]
   }
,
{
		   "cell_type": "markdown",
		   "metadata": {},
		   "source": [
			"## Example 2.2: 2.sce"
		   ]
		  },
  {
"cell_type": "code",
	   "execution_count": null,
	   "metadata": {
	    "collapsed": true
	   },
	   "outputs": [],
"source": [
"clc;\n",
"disp(1100*3,'Distance in ft = ');    //using s=v*t"
   ]
   }
,
{
		   "cell_type": "markdown",
		   "metadata": {},
		   "source": [
			"## Example 2.3: 3.sce"
		   ]
		  },
  {
"cell_type": "code",
	   "execution_count": null,
	   "metadata": {
	    "collapsed": true
	   },
	   "outputs": [],
"source": [
"clc;\n",
"disp((1.5*10^11)/(3*10^8),'Time in second = ');      //using t=s/v"
   ]
   }
,
{
		   "cell_type": "markdown",
		   "metadata": {},
		   "source": [
			"## Example 2.4: 4.sce"
		   ]
		  },
  {
"cell_type": "code",
	   "execution_count": null,
	   "metadata": {
	    "collapsed": true
	   },
	   "outputs": [],
"source": [
"clc;\n",
"disp(270/4.5,'Velocity in min/hr = ');    //using v=s/t\n",
"disp(60*7,'Distance in mile = ');    //using v=s/t\n",
"disp(300/60,'Time in hr = ');     //using t=s/v"
   ]
   }
,
{
		   "cell_type": "markdown",
		   "metadata": {},
		   "source": [
			"## Example 2.5: 5.sce"
		   ]
		  },
  {
"cell_type": "code",
	   "execution_count": null,
	   "metadata": {
	    "collapsed": true
	   },
	   "outputs": [],
"source": [
"clc;\n",
"s=1000;      //distance in mile\n",
"v=400+120;     //velocity in mile/hr\n",
"disp(s/v,'Time in hr = ');    //using t=s/v"
   ]
   }
,
{
		   "cell_type": "markdown",
		   "metadata": {},
		   "source": [
			"## Example 2.6: 6.sce"
		   ]
		  },
  {
"cell_type": "code",
	   "execution_count": null,
	   "metadata": {
	    "collapsed": true
	   },
	   "outputs": [],
"source": [
"clc;\n",
"v1=100;          //speed in km/hr\n",
"v2=60;         //speed in km/hr\n",
"v3=80;        //speed in km/hr\n",
"t1=2;         //time in hr\n",
"t2=2;         //time in hr\n",
"t3=1;        //time in hr\n",
"disp(((v1*t1)+(v2*t2)+(v3*t3))/(t1+t2+t3),'Velocity in km/hr = ');    //displaying result"
   ]
   }
,
{
		   "cell_type": "markdown",
		   "metadata": {},
		   "source": [
			"## Example 2.7: 7.sce"
		   ]
		  },
  {
"cell_type": "code",
	   "execution_count": null,
	   "metadata": {
	    "collapsed": true
	   },
	   "outputs": [],
"source": [
"clc;\n",
"v=40;         //velocity in ft/sec\n",
"t=10;         //time in sec\n",
"a=v/t;\n",
"disp(a,'Accelaration in ft/sec square = '); //using a=v/t\n",
"disp(a*t,'Velocity in ft/sec = ');      //using v=a*t"
   ]
   }
,
{
		   "cell_type": "markdown",
		   "metadata": {},
		   "source": [
			"## Example 2.8: 8.sce"
		   ]
		  },
  {
"cell_type": "code",
	   "execution_count": null,
	   "metadata": {
	    "collapsed": true
	   },
	   "outputs": [],
"source": [
"clc;\n",
"v=30;    //velocity in min/hr\n",
"v0=20;   //velocity in min/hr\n",
"t=1.5;    //time in sec\n",
"a=((v-v0)/t);     //calculating acc. \n",
"t1=(36-30)/a;        //calculating time\n",
"disp(a,'Accelaration in (min/h)/sec = ');  //displaying result\n",
"disp(t1,'Time in second = ');     //displaying result"
   ]
   }
,
{
		   "cell_type": "markdown",
		   "metadata": {},
		   "source": [
			"## Example 2.9: 9.sce"
		   ]
		  },
  {
"cell_type": "code",
	   "execution_count": null,
	   "metadata": {
	    "collapsed": true
	   },
	   "outputs": [],
"source": [
"clc;\n",
"v=24;      //velocity in m/sec\n",
"a=8;       //acc. in m/sec square\n",
"t=v/a;     //using t=v/a\n",
"disp(t,'Time in sec = '); //displaying result\n",
"s=(1/2)*(a*t*t);      //kinematical equation\n",
"disp(s,'Distance in metre = ');      //displaying result"
   ]
   }
],
"metadata": {
		  "kernelspec": {
		   "display_name": "Scilab",
		   "language": "scilab",
		   "name": "scilab"
		  },
		  "language_info": {
		   "file_extension": ".sce",
		   "help_links": [
			{
			 "text": "MetaKernel Magics",
			 "url": "https://github.com/calysto/metakernel/blob/master/metakernel/magics/README.md"
			}
		   ],
		   "mimetype": "text/x-octave",
		   "name": "scilab",
		   "version": "0.7.1"
		  }
		 },
		 "nbformat": 4,
		 "nbformat_minor": 0
}
