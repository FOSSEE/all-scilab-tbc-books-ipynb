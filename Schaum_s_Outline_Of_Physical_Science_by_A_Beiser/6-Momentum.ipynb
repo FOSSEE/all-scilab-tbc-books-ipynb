{
"cells": [
 {
		   "cell_type": "markdown",
	   "metadata": {},
	   "source": [
       "# Chapter 6: Momentum"
	   ]
	},
{
		   "cell_type": "markdown",
		   "metadata": {},
		   "source": [
			"## Example 6.10: 10.sce"
		   ]
		  },
  {
"cell_type": "code",
	   "execution_count": null,
	   "metadata": {
	    "collapsed": true
	   },
	   "outputs": [],
"source": [
"clc;\n",
"m1=40;   //weight in kg\n",
"m2=60;   //weight in kg\n",
"v1=4;    //velocity in m/sec\n",
"v2=-2;    //velocity in m/sec\n",
"v3=((m1*v1)+(m2*v2))/(m1+m2);  //calculating v3 using law of conservation of momentum\n",
"disp(v3,'Final velocity in m/sec = ');  //displaying result.\n",
"fiKE=(1/2)*(m1+m2)*v3*v3;    //calculating initial KE in Joules\n",
"inKE=(1/2)*((m1*v1*v1)+(m2*v2*v2));  //calculating final KE in Joules\n",
"disp(inKE-fiKE,'Kinetic Energy lost in Joules = ');  //displaying result."
   ]
   }
,
{
		   "cell_type": "markdown",
		   "metadata": {},
		   "source": [
			"## Example 6.3: 3.sce"
		   ]
		  },
  {
"cell_type": "code",
	   "execution_count": null,
	   "metadata": {
	    "collapsed": true
	   },
	   "outputs": [],
"source": [
"clc;\n",
"m=50;         //mass in kg\n",
"v=6;          //velocity in m/sec\n",
"p=m*v;      //calculating momentum\n",
"disp(p,'Momentum of woman in kg.m/sec = ');     //displaying result"
   ]
   }
,
{
		   "cell_type": "markdown",
		   "metadata": {},
		   "source": [
			"## Example 6.4: 4.sce"
		   ]
		  },
  {
"cell_type": "code",
	   "execution_count": null,
	   "metadata": {
	    "collapsed": true
	   },
	   "outputs": [],
"source": [
"clc;\n",
"w=160;    //weight in lb\n",
"g=32;     //g in ft/sec square\n",
"m=w/g;    //calculating m in slugs\n",
"v=(1*5280)/(4*60)'  //calculating v in ft/sec\n",
"mom=m*v;            //calculating avg. momentum in slug.ft/sec\n",
"disp(mom,'Average Momentum in slug.ft/sec = ');  //displaying result"
   ]
   }
,
{
		   "cell_type": "markdown",
		   "metadata": {},
		   "source": [
			"## Example 6.6: 6.sce"
		   ]
		  },
  {
"cell_type": "code",
	   "execution_count": null,
	   "metadata": {
	    "collapsed": true
	   },
	   "outputs": [],
"source": [
"clc;\n",
"mr=5;      //weight of rifle in kg\n",
"mb=0.015;  //weight of bullet in kg\n",
"vb=600;    //velocity of bullet in m/sec\n",
"vr=(mb*vb)/mr;  //calculating vr using law of conservation of momentum\n",
"disp(vr,'Recoil velocity of rifle in m/sec = ');  //displaying result"
   ]
   }
,
{
		   "cell_type": "markdown",
		   "metadata": {},
		   "source": [
			"## Example 6.7: 7.sce"
		   ]
		  },
  {
"cell_type": "code",
	   "execution_count": null,
	   "metadata": {
	    "collapsed": true
	   },
	   "outputs": [],
"source": [
"clc;\n",
"wa=300;  //weight of astronaut in lb\n",
"ww=1;    //weight in of wrench lb\n",
"vw=15;   //velocity of wrench in ft/sec\n",
"va=(ww*vw)/wa;   //calculating va using law of conservation of momentum\n",
"disp(va,'Velocity of astronaut in ft/sec = ');  //displaying result"
   ]
   }
,
{
		   "cell_type": "markdown",
		   "metadata": {},
		   "source": [
			"## Example 6.8: 8.sce"
		   ]
		  },
  {
"cell_type": "code",
	   "execution_count": null,
	   "metadata": {
	    "collapsed": true
	   },
	   "outputs": [],
"source": [
"clc;\n",
"mm=70;  //weight in of man kg\n",
"ms=0.5; //weight of snow-ball in kg\n",
"v1=20;  //man's initial velocity in m/sec\n",
"v2=(ms/(mm+ms))*v1;  //calculating v2 using law of conservation of momentum\n",
"disp(v2,'Mans final velocity in m/sec = ');  //displaying result"
   ]
   }
,
{
		   "cell_type": "markdown",
		   "metadata": {},
		   "source": [
			"## Example 6.9: 9.sce"
		   ]
		  },
  {
"cell_type": "code",
	   "execution_count": null,
	   "metadata": {
	    "collapsed": true
	   },
	   "outputs": [],
"source": [
"clc;\n",
"m1=40;    //weight in kg\n",
"m2=60;    //weight in kg\n",
"v1=4;     //speed in m/sec\n",
"v2=2;     //speed in m/sec\n",
"v3=((m1*v1)+(m2*v2))/(m1+m2);  //calculating v3 using law of conservation of momentum\n",
"disp(v3,'Final velocity in m/sec = ');  //displaying result\n",
"inKE=(1/2)*(m1*v1*v1)+(1/2)*(m2*v2*v2);  //calculating initial KE in Joules\n",
"fiKE=(1/2)*(m1+m2)*v3*v3;  //calculating final KE in Joules\n",
"disp(inKE-fiKE,'Kinetic Energy lost in Joules = ');  //displaying result."
   ]
   }
],
"metadata": {
		  "kernelspec": {
		   "display_name": "Scilab",
		   "language": "scilab",
		   "name": "scilab"
		  },
		  "language_info": {
		   "file_extension": ".sce",
		   "help_links": [
			{
			 "text": "MetaKernel Magics",
			 "url": "https://github.com/calysto/metakernel/blob/master/metakernel/magics/README.md"
			}
		   ],
		   "mimetype": "text/x-octave",
		   "name": "scilab",
		   "version": "0.7.1"
		  }
		 },
		 "nbformat": 4,
		 "nbformat_minor": 0
}
