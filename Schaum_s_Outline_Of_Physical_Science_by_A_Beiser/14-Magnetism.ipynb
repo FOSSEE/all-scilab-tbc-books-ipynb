{
"cells": [
 {
		   "cell_type": "markdown",
	   "metadata": {},
	   "source": [
       "# Chapter 14: Magnetism"
	   ]
	},
{
		   "cell_type": "markdown",
		   "metadata": {},
		   "source": [
			"## Example 14.10: 10.sce"
		   ]
		  },
  {
"cell_type": "code",
	   "execution_count": null,
	   "metadata": {
	    "collapsed": true
	   },
	   "outputs": [],
"source": [
"clc;\n",
"K=2*10^-7;        //constant in N/A square\n",
"I=8;            //current in Ampere\n",
"s=5*10^-2;              //distance in m\n",
"B=(K*I)/s;       //calculating magnitude of field\n",
"disp(B,'Magnitude of field in Tesla = ');    //displaying result\n",
"disp(2*B,'Total field in Tesla = ');   //displaying result"
   ]
   }
,
{
		   "cell_type": "markdown",
		   "metadata": {},
		   "source": [
			"## Example 14.11: 11.sce"
		   ]
		  },
  {
"cell_type": "code",
	   "execution_count": null,
	   "metadata": {
	    "collapsed": true
	   },
	   "outputs": [],
"source": [
"clc;\n",
"K=2*10^-7;        //constant in N/A square\n",
"N=100;           //number of turns\n",
"I=4;            //current in Ampere\n",
"r=5*10^-2;              //radius in m\n",
"B=(%pi*K*I*N)/s;       //calculating magnitude of field\n",
"disp(B,'Magnitude of field in Tesla = ');    //displaying result"
   ]
   }
,
{
		   "cell_type": "markdown",
		   "metadata": {},
		   "source": [
			"## Example 14.12: 12.sce"
		   ]
		  },
  {
"cell_type": "code",
	   "execution_count": null,
	   "metadata": {
	    "collapsed": true
	   },
	   "outputs": [],
"source": [
"clc;\n",
"K=2*10^-7;        //constant in N/A square\n",
"N=1000;           //number of turns\n",
"B=2.5*10^-5;      //field in Tesla\n",
"l=0.2;              //length in m\n",
"I=(B*l)/(2*%pi*K*N);       //calculating magnitude of field\n",
"disp(I,'Current in Ampere = ');    //displaying result"
   ]
   }
,
{
		   "cell_type": "markdown",
		   "metadata": {},
		   "source": [
			"## Example 14.13: 13.sce"
		   ]
		  },
  {
"cell_type": "code",
	   "execution_count": null,
	   "metadata": {
	    "collapsed": true
	   },
	   "outputs": [],
"source": [
"clc;\n",
"I=5;        //current in Ampere\n",
"L=0.01;     //length in m\n",
"B=0.8;      //magnitude of field in Tesla\n",
"F=B*I*L;    //calculating force\n",
"disp(F,'Force in Newton = ');     //displaying result"
   ]
   }
,
{
		   "cell_type": "markdown",
		   "metadata": {},
		   "source": [
			"## Example 14.14: 14.sce"
		   ]
		  },
  {
"cell_type": "code",
	   "execution_count": null,
	   "metadata": {
	    "collapsed": true
	   },
	   "outputs": [],
"source": [
"clc;\n",
"P=2000;    //power in Watt\n",
"V=120;     //potential diff in volt\n",
"I=P/V;     //current in Ampere\n",
"s=2*10^-3;   //distance in m\n",
"K=2*10^-7;   //constant in N/A square\n",
"F=(I*I*K)/s;    //calculating force per metre\n",
"disp(F,'Force in Newton per metre in opposite direction = ');   //displaying result"
   ]
   }
,
{
		   "cell_type": "markdown",
		   "metadata": {},
		   "source": [
			"## Example 14.8: 8.sce"
		   ]
		  },
  {
"cell_type": "code",
	   "execution_count": null,
	   "metadata": {
	    "collapsed": true
	   },
	   "outputs": [],
"source": [
"clc;\n",
"K=2*10^-7;        //constant in N/A square\n",
"I=100;            //current in Ampere\n",
"s=5;              //distance in m\n",
"B=(K*I)/s;       //calculating magnitude of field\n",
"disp(B,'Magnitude of field in Tesla = ');    //displaying result"
   ]
   }
],
"metadata": {
		  "kernelspec": {
		   "display_name": "Scilab",
		   "language": "scilab",
		   "name": "scilab"
		  },
		  "language_info": {
		   "file_extension": ".sce",
		   "help_links": [
			{
			 "text": "MetaKernel Magics",
			 "url": "https://github.com/calysto/metakernel/blob/master/metakernel/magics/README.md"
			}
		   ],
		   "mimetype": "text/x-octave",
		   "name": "scilab",
		   "version": "0.7.1"
		  }
		 },
		 "nbformat": 4,
		 "nbformat_minor": 0
}
