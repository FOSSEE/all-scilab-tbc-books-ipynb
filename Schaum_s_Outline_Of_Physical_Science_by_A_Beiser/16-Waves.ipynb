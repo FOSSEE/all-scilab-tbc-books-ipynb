{
"cells": [
 {
		   "cell_type": "markdown",
	   "metadata": {},
	   "source": [
       "# Chapter 16: Waves"
	   ]
	},
{
		   "cell_type": "markdown",
		   "metadata": {},
		   "source": [
			"## Example 16.10: 10.sce"
		   ]
		  },
  {
"cell_type": "code",
	   "execution_count": null,
	   "metadata": {
	    "collapsed": true
	   },
	   "outputs": [],
"source": [
"clc;\n",
"v=5020;     //velocity in ft/sec\n",
"f=256;      //frequency in Hz\n",
"l=v/f;       //calculatin lamda\n",
"disp(l,'Wavelength in ft = ');    //diplaying result"
   ]
   }
,
{
		   "cell_type": "markdown",
		   "metadata": {},
		   "source": [
			"## Example 16.11: 11.sce"
		   ]
		  },
  {
"cell_type": "code",
	   "execution_count": null,
	   "metadata": {
	    "collapsed": true
	   },
	   "outputs": [],
"source": [
"clc;\n",
"f=1/4;      //frequency in Hz\n",
"l=30;        //wavwlength in metre\n",
"v=f*l;       //calculating velocity\n",
"disp(v,'Velocity in m/sec = ');    //diplaying result"
   ]
   }
,
{
		   "cell_type": "markdown",
		   "metadata": {},
		   "source": [
			"## Example 16.12: 12.sce"
		   ]
		  },
  {
"cell_type": "code",
	   "execution_count": null,
	   "metadata": {
	    "collapsed": true
	   },
	   "outputs": [],
"source": [
"clc;\n",
"l=3.2*10^-2;    //lambda in m\n",
"v=3*10^8;     //velocity in m/sec\n",
"f=v/l;      //calculating frequency\n",
"disp(f,'Frequency in Hz = ');    //diplaying result"
   ]
   }
,
{
		   "cell_type": "markdown",
		   "metadata": {},
		   "source": [
			"## Example 16.13: 13.sce"
		   ]
		  },
  {
"cell_type": "code",
	   "execution_count": null,
	   "metadata": {
	    "collapsed": true
	   },
	   "outputs": [],
"source": [
"clc;\n",
"c=3*10^8;     //velocity in m/sec\n",
"n=2.42;      //refractive index\n",
"v=c/n;       //calculating velocity\n",
"disp(v,'Velocity in m/sec = ');    //diplaying result"
   ]
   }
,
{
		   "cell_type": "markdown",
		   "metadata": {},
		   "source": [
			"## Example 16.15: 15.sce"
		   ]
		  },
  {
"cell_type": "code",
	   "execution_count": null,
	   "metadata": {
	    "collapsed": true
	   },
	   "outputs": [],
"source": [
"clc;\n",
"v=343;     //velocity in m/sec\n",
"vs=20;     //velocity in m/sec\n",
"fs=500;    //original frquency\n",
"f1=(fs*v)/(v-vs);   //doppler effect\n",
"disp(f1,'Percieved frequency in Hz = ');   //diplaying result"
   ]
   }
,
{
		   "cell_type": "markdown",
		   "metadata": {},
		   "source": [
			"## Example 16.16: 16.sce"
		   ]
		  },
  {
"cell_type": "code",
	   "execution_count": null,
	   "metadata": {
	    "collapsed": true
	   },
	   "outputs": [],
"source": [
"clc;\n",
"v1=-20;     //velocity in m/sec\n",
"vs=0;     //velocity in m/sec\n",
"fs=500;    //original frquency\n",
"f1=(fs*(v+v1))/(v-vs);   //doppler effect\n",
"disp(f1,'Percieved frequency in Hz = ');   //diplaying result"
   ]
   }
,
{
		   "cell_type": "markdown",
		   "metadata": {},
		   "source": [
			"## Example 16.17: 17.sce"
		   ]
		  },
  {
"cell_type": "code",
	   "execution_count": null,
	   "metadata": {
	    "collapsed": true
	   },
	   "outputs": [],
"source": [
"clc;\n",
"v=343;     //velocity in m/sec\n",
"fs=800;    //original frquency\n",
"f1=750;   //percieved frquency\n",
"vs=v*(1-(fs/f1)); //calculating velocity\n",
"disp(vs,'Trains velocity in m/sec = ');   //diplaying result"
   ]
   }
,
{
		   "cell_type": "markdown",
		   "metadata": {},
		   "source": [
			"## Example 16.18: 18.sce"
		   ]
		  },
  {
"cell_type": "code",
	   "execution_count": null,
	   "metadata": {
	    "collapsed": true
	   },
	   "outputs": [],
"source": [
"clc;\n",
"l=0.1;      //l=(v/c)\n",
"f=sqrt((1-l)/(1+l));     //ratio of frquencies f=(f/fs)\n",
"disp(f*100,'Percent shift = ');   //diplaying result"
   ]
   }
,
{
		   "cell_type": "markdown",
		   "metadata": {},
		   "source": [
			"## Example 16.9: 9.sce"
		   ]
		  },
  {
"cell_type": "code",
	   "execution_count": null,
	   "metadata": {
	    "collapsed": true
	   },
	   "outputs": [],
"source": [
"clc;\n",
"l=10^-4;    //lambda in m\n",
"v=0.25;     //velocity in m/sec\n",
"f=v/l;      //calculating frequency\n",
"disp(f,'Frequency in Hz = ');    //diplaying result"
   ]
   }
],
"metadata": {
		  "kernelspec": {
		   "display_name": "Scilab",
		   "language": "scilab",
		   "name": "scilab"
		  },
		  "language_info": {
		   "file_extension": ".sce",
		   "help_links": [
			{
			 "text": "MetaKernel Magics",
			 "url": "https://github.com/calysto/metakernel/blob/master/metakernel/magics/README.md"
			}
		   ],
		   "mimetype": "text/x-octave",
		   "name": "scilab",
		   "version": "0.7.1"
		  }
		 },
		 "nbformat": 4,
		 "nbformat_minor": 0
}
