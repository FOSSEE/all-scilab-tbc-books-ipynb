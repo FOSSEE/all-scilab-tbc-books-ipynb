{
"cells": [
 {
		   "cell_type": "markdown",
	   "metadata": {},
	   "source": [
       "# Chapter 3: The Laws of Motion"
	   ]
	},
{
		   "cell_type": "markdown",
		   "metadata": {},
		   "source": [
			"## Example 3.10: 10.sce"
		   ]
		  },
  {
"cell_type": "code",
	   "execution_count": null,
	   "metadata": {
	    "collapsed": true
	   },
	   "outputs": [],
"source": [
"clc;\n",
"m=1500;      //mass in kg\n",
"F=3000;     //force in Newton\n",
"t=5;        //time in sec\n",
"a=F/m;     //calculating acc. (Newton's Law)\n",
"disp(a,'Accelaration in m/sec square = '); //displaying result\n",
"v=a*t;      //kinematical equation\n",
"disp(v,'Velocity in m/sec = ');      //displaying result"
   ]
   }
,
{
		   "cell_type": "markdown",
		   "metadata": {},
		   "source": [
			"## Example 3.11: 11.sce"
		   ]
		  },
  {
"cell_type": "code",
	   "execution_count": null,
	   "metadata": {
	    "collapsed": true
	   },
	   "outputs": [],
"source": [
"clc;\n",
"m=2000;      //mass in kg\n",
"a=1;     //acc. in m/sec square\n",
"F=m*a;       //Newton's Law\n",
"disp(F,'Force in Newton = '); //displaying result\n",
"m=3000;        //mass in kg\n",
"a=F/m;   //Newton's Law\n",
"disp(a,'Accelaration in m/sec square = ');   //displaying result"
   ]
   }
,
{
		   "cell_type": "markdown",
		   "metadata": {},
		   "source": [
			"## Example 3.12: 12.sce"
		   ]
		  },
  {
"cell_type": "code",
	   "execution_count": null,
	   "metadata": {
	    "collapsed": true
	   },
	   "outputs": [],
"source": [
"clc;\n",
"v=20;         //velocity in m/sec\n",
"v0=10;        //velocity in m/sec\n",
"t=5;          //time in sec\n",
"a=(v-v0)/t;    //kinematical equation\n",
"disp(a,'Accelaration in m/sec square = ');    //displaying result\n",
"m=1000;      //mass in kg\n",
"a=2;     //acc. in m/sec square\n",
"F=m*a;       //Newton's Law\n",
"disp(F,'Force in Newton = '); //displaying result"
   ]
   }
,
{
		   "cell_type": "markdown",
		   "metadata": {},
		   "source": [
			"## Example 3.13: 13.sce"
		   ]
		  },
  {
"cell_type": "code",
	   "execution_count": null,
	   "metadata": {
	    "collapsed": true
	   },
	   "outputs": [],
"source": [
"clc;\n",
"v=-20;         //velocity in m/sec\n",
"v0=15;        //velocity in m/sec\n",
"t=0.005;          //time in sec\n",
"a=(v-v0)/t;    //kinematical equation\n",
"disp(a,'Accelaration in m/sec square = ');    //displaying result\n",
"m=0.06;      //mass in kg\n",
"F=m*a;       //Newton's Law\n",
"disp(F,'Force in Newton = '); //displaying result"
   ]
   }
,
{
		   "cell_type": "markdown",
		   "metadata": {},
		   "source": [
			"## Example 3.14: 14.sce"
		   ]
		  },
  {
"cell_type": "code",
	   "execution_count": null,
	   "metadata": {
	    "collapsed": true
	   },
	   "outputs": [],
"source": [
"clc;\n",
"m=1000;      //mass in kg\n",
"F=3000;     //force in Newton\n",
"a=F/m;     //calculating acc.\n",
"disp(a,'Accelaration in m/sec square = '); //displaying result\n",
"v0=30;   //initial velocity in m/sec\n",
"v=0;     //final velocity in m/sec\n",
"t=v0/a;    //uisng kinematical equation\n",
"a=-3;    //acc. inm/sec square\n",
"disp(t,'Time in sec = ');      //displaying result\n",
"s=(v0*t)+(1/2)*(a*t*t);      //kinematical equation\n",
"disp(s,'Distance in m = ');     //displaying result"
   ]
   }
,
{
		   "cell_type": "markdown",
		   "metadata": {},
		   "source": [
			"## Example 3.15: 15.sce"
		   ]
		  },
  {
"cell_type": "code",
	   "execution_count": null,
	   "metadata": {
	    "collapsed": true
	   },
	   "outputs": [],
"source": [
"clc;\n",
"g=32;      //gravitational constant in ft/sec square\n",
"m=50;      //mass in slugs\n",
"w=m*g;     //calculating weight in lb\n",
"disp(w,'Weight in lb = ');\n",
"w=50;         //weight in lb\n",
"m=w/g        //calculating mass in slugs.\n",
"disp(m,'Mass in slugs = '); //displaying result"
   ]
   }
,
{
		   "cell_type": "markdown",
		   "metadata": {},
		   "source": [
			"## Example 3.16: 16.sce"
		   ]
		  },
  {
"cell_type": "code",
	   "execution_count": null,
	   "metadata": {
	    "collapsed": true
	   },
	   "outputs": [],
"source": [
"clc;\n",
"g=32;      //gravitational constant in ft/sec square\n",
"w=160;         //weight in lb\n",
"m=w/g        //calculating mass in slugs.\n",
"disp(m,'Mass in slugs = '); //displaying result"
   ]
   }
,
{
		   "cell_type": "markdown",
		   "metadata": {},
		   "source": [
			"## Example 3.17: 17.sce"
		   ]
		  },
  {
"cell_type": "code",
	   "execution_count": null,
	   "metadata": {
	    "collapsed": true
	   },
	   "outputs": [],
"source": [
"clc;\n",
"m=25;      //mass in slugsg\n",
"F=75;     //force in lb\n",
"a=F/m;     //calculating acc.\n",
"t=12;     //time in sec\n",
"disp(a,'Accelaration in ft/sec square = '); //displaying result\n",
"v=a*t;      //kinematical equation\n",
"disp(v,'Velocity in ft/sec = ');     //displaying result"
   ]
   }
,
{
		   "cell_type": "markdown",
		   "metadata": {},
		   "source": [
			"## Example 3.18: 18.sce"
		   ]
		  },
  {
"cell_type": "code",
	   "execution_count": null,
	   "metadata": {
	    "collapsed": true
	   },
	   "outputs": [],
"source": [
"clc;\n",
"F=150;        //force in lb\n",
"g=32;        //gravitational constant in ft/sec square\n",
"w=96;         //weight in lb\n",
"m=w/g;    //calculating mass\n",
"disp(m,'Mass in slugs = '); //displaying result\n",
"a=F/m;         //calculating acc\n",
"disp(a,'Accelaration in ft/sec square = ');     //displaying result"
   ]
   }
,
{
		   "cell_type": "markdown",
		   "metadata": {},
		   "source": [
			"## Example 3.19: 19.sce"
		   ]
		  },
  {
"cell_type": "code",
	   "execution_count": null,
	   "metadata": {
	    "collapsed": true
	   },
	   "outputs": [],
"source": [
"clc;\n",
"g=32;        //gravitational constant in ft/sec square\n",
"w=3200;         //weight in lb\n",
"m=w/g;    //calculating mass\n",
"disp(m,'Mass in slugs = '); //displaying result\n",
"v=44;         //velocity in ft/sec\n",
"t=8;          //time in sec\n",
"a=v/t;         //calculating acc\n",
"disp(a,'Accelaration in ft/sec square = ');     //displaying result\n",
"F=m*a;         //calculating force in lb\n",
"disp(F,'Force in lb = ');   //displaying result"
   ]
   }
,
{
		   "cell_type": "markdown",
		   "metadata": {},
		   "source": [
			"## Example 3.20: 20.sce"
		   ]
		  },
  {
"cell_type": "code",
	   "execution_count": null,
	   "metadata": {
	    "collapsed": true
	   },
	   "outputs": [],
"source": [
"clc;\n",
"g=32;        //gravitational constant in ft/sec square\n",
"w=2400;         //weight in lb\n",
"m=w/g;    //calculating mass\n",
"disp(m,'Mass in slugs = '); //displaying result\n",
"F=750;         //force in lb\n",
"m=75;          //mass in slugs\n",
"a=F/m;         //calculating acc\n",
"disp(a,'Accelaration in ft/sec square = ');     //displaying result\n",
"v0=60;     //initial velocity in ft/sec\n",
"v=20;      //final velocity in ft/sec\n",
"a=-10;    //acc. in ft/sec square\n",
"t=(v-v0)/a;      //kinematical equation\n",
"s=(v0*t)+((1/2)*a*t*t);         //calculating distance in ft\n",
"disp(s,'Distance in ft = ');   //displaying result"
   ]
   }
,
{
		   "cell_type": "markdown",
		   "metadata": {},
		   "source": [
			"## Example 3.21: 21.sce"
		   ]
		  },
  {
"cell_type": "code",
	   "execution_count": null,
	   "metadata": {
	    "collapsed": true
	   },
	   "outputs": [],
"source": [
"clc;\n",
"g=32;        //gravitational constant in ft/sec square\n",
"w=3200;         //weight in lb\n",
"m=w/g;    //calculating mass\n",
"disp(m,'Mass in slugs = '); //displaying result\n",
"F=800;         //force in lb\n",
"m=100;          //mass in slugs\n",
"a=F/m;         //calculating acc\n",
"disp(a,'Accelaration in ft/sec square = ');     //displaying result"
   ]
   }
,
{
		   "cell_type": "markdown",
		   "metadata": {},
		   "source": [
			"## Example 3.22: 22.sce"
		   ]
		  },
  {
"cell_type": "code",
	   "execution_count": null,
	   "metadata": {
	    "collapsed": true
	   },
	   "outputs": [],
"source": [
"clc;\n",
"F=50-30;     //force in lb\n",
"w1=50;     //weight in lb\n",
"w2=30;      //weight in lb\n",
"m=(w1+w2)/g;   //calculating mass\n",
"disp(m,'Mass in slugs = '); //displaying result\n",
"a=F/m;      //Newton's Law\n",
"disp(a,'Accelaration in ft/sec square = ');   //displaying result"
   ]
   }
,
{
		   "cell_type": "markdown",
		   "metadata": {},
		   "source": [
			"## Example 3.4: 4.sce"
		   ]
		  },
  {
"cell_type": "code",
	   "execution_count": null,
	   "metadata": {
	    "collapsed": true
	   },
	   "outputs": [],
"source": [
"clc;\n",
"g=9.8;      //gravitational constant in m/sec square\n",
"m=100;      //mass in kg\n",
"disp(m*g,'Weight in Newton = ');"
   ]
   }
,
{
		   "cell_type": "markdown",
		   "metadata": {},
		   "source": [
			"## Example 3.5: 5.sce"
		   ]
		  },
  {
"cell_type": "code",
	   "execution_count": null,
	   "metadata": {
	    "collapsed": true
	   },
	   "outputs": [],
"source": [
"clc;\n",
"g=9.8;      //gravitational constant in m/sec square\n",
"m=5;      //mass in kg\n",
"F=100;     //force in Newton\n",
"disp(m*g,'Weight in Newton = ');\n",
"a=F/m;     //calculating acc.\n",
"disp(a,'Accelaration in m/sec square = '); //displaying result"
   ]
   }
,
{
		   "cell_type": "markdown",
		   "metadata": {},
		   "source": [
			"## Example 3.6: 6.sce"
		   ]
		  },
  {
"cell_type": "code",
	   "execution_count": null,
	   "metadata": {
	    "collapsed": true
	   },
	   "outputs": [],
"source": [
"clc;\n",
"g=9.8;      //gravitational constant in m/sec square\n",
"m=1;      //mass in kg\n",
"F=1;     //force in Newton\n",
"w=1;     //in Newton\n",
"a=F/m;     //calculating acc.\n",
"disp(a,'Accelaration in m/sec square = '); //displaying result\n",
"a=(F*g)/w;\n",
"disp(a,'Accelaration in m/sec square = ');   //displaying result"
   ]
   }
,
{
		   "cell_type": "markdown",
		   "metadata": {},
		   "source": [
			"## Example 3.7: 7.sce"
		   ]
		  },
  {
"cell_type": "code",
	   "execution_count": null,
	   "metadata": {
	    "collapsed": true
	   },
	   "outputs": [],
"source": [
"clc;\n",
"g=9.8;      //gravitational constant in m/sec square\n",
"m=10;      //mass in kg\n",
"a=5;       //acc. in m/sec square\n",
"F=m*a;      //calculating force\n",
"disp(F,'Force in Newton = ');      //displaying result"
   ]
   }
,
{
		   "cell_type": "markdown",
		   "metadata": {},
		   "source": [
			"## Example 3.8: 8.sce"
		   ]
		  },
  {
"cell_type": "code",
	   "execution_count": null,
	   "metadata": {
	    "collapsed": true
	   },
	   "outputs": [],
"source": [
"clc;\n",
"a=20;       //acc. in m/sec square\n",
"F=80;      //force in Newton\n",
"m=F/a;     //using F=m*a (Newton's Law)\n",
"disp(m,'Mass in kg = ');      //displaying result"
   ]
   }
,
{
		   "cell_type": "markdown",
		   "metadata": {},
		   "source": [
			"## Example 3.9: 9.sce"
		   ]
		  },
  {
"cell_type": "code",
	   "execution_count": null,
	   "metadata": {
	    "collapsed": true
	   },
	   "outputs": [],
"source": [
"clc;\n",
"g=9.8;      //gravitational constant in m/sec square\n",
"m=60;      //mass in kg\n",
"a=2;     //acc. in m/sec square\n",
"F=(m*g)+(m*a);     //calculating force in Newton\n",
"disp(F,'Force in Newton = '); //displaying result"
   ]
   }
],
"metadata": {
		  "kernelspec": {
		   "display_name": "Scilab",
		   "language": "scilab",
		   "name": "scilab"
		  },
		  "language_info": {
		   "file_extension": ".sce",
		   "help_links": [
			{
			 "text": "MetaKernel Magics",
			 "url": "https://github.com/calysto/metakernel/blob/master/metakernel/magics/README.md"
			}
		   ],
		   "mimetype": "text/x-octave",
		   "name": "scilab",
		   "version": "0.7.1"
		  }
		 },
		 "nbformat": 4,
		 "nbformat_minor": 0
}
