{
"cells": [
 {
		   "cell_type": "markdown",
	   "metadata": {},
	   "source": [
       "# Chapter 7: Relativity"
	   ]
	},
{
		   "cell_type": "markdown",
		   "metadata": {},
		   "source": [
			"## Example 7.5: 5.sce"
		   ]
		  },
  {
"cell_type": "code",
	   "execution_count": null,
	   "metadata": {
	    "collapsed": true
	   },
	   "outputs": [],
"source": [
"clc;\n",
"l=4;         //height in ft\n",
"v=0.444;    //v=(v/c)^2 (given)\n",
"l0=l/sqrt(1-v);     //calculating using l=l0sqrt(1-(v/c)^2)\n",
"disp(l0,'Astronauts height at rest in ft = '); //displaying result"
   ]
   }
,
{
		   "cell_type": "markdown",
		   "metadata": {},
		   "source": [
			"## Example 7.6: 6.sce"
		   ]
		  },
  {
"cell_type": "code",
	   "execution_count": null,
	   "metadata": {
	    "collapsed": true
	   },
	   "outputs": [],
"source": [
"clc;\n",
"m=0.934;         //v=(v/c)^2 (given)\n",
"v=2.9*10^8;      //velocity in m/sec\n",
"t0=2.2*10^-6;    //initial velocity in m/sec\n",
"t=t0/sqrt(1-m);     //calculating t using t=t0/sqrt(1-(v/c)^2)\n",
"disp(t,'Time in sec = ');      //displaying result"
   ]
   }
,
{
		   "cell_type": "markdown",
		   "metadata": {},
		   "source": [
			"## Example 7.7: 7.sce"
		   ]
		  },
  {
"cell_type": "code",
	   "execution_count": null,
	   "metadata": {
	    "collapsed": true
	   },
	   "outputs": [],
"source": [
"clc;\n",
"t0=3600;      //time in sec\n",
"t=3601;       //time in sec\n",
"c=3*10^8;     //velocity in m/sec\n",
"v=c*sqrt((1-(t0/t)^2));     //calculating velocity\n",
"disp(v,'Velocity in m/sec = ');     //displaying result"
   ]
   }
,
{
		   "cell_type": "markdown",
		   "metadata": {},
		   "source": [
			"## Example 7.8: 8.sce"
		   ]
		  },
  {
"cell_type": "code",
	   "execution_count": null,
	   "metadata": {
	    "collapsed": true
	   },
	   "outputs": [],
"source": [
"clc;\n",
"m0=9.1*10^-31;      //mass in kg\n",
"t=0.998;       //t=(v/c)^2 (given)t\n",
"m=m0/(sqrt(1-(t)));      //calculating mass in kg\n",
"disp(m,'Mass in kg = ');     //displaying result"
   ]
   }
,
{
		   "cell_type": "markdown",
		   "metadata": {},
		   "source": [
			"## Example 7.9: 9.sce"
		   ]
		  },
  {
"cell_type": "code",
	   "execution_count": null,
	   "metadata": {
	    "collapsed": true
	   },
	   "outputs": [],
"source": [
"clc;\n",
"m=0.980;      //m=(m0/m)^2 (given)\n",
"c=186000;     //velocity in m/sec\n",
"v=c*(sqrt(1-m));      //calculating velocity\n",
"disp(v,'Velocity in min/sec = ');    //displaying result"
   ]
   }
],
"metadata": {
		  "kernelspec": {
		   "display_name": "Scilab",
		   "language": "scilab",
		   "name": "scilab"
		  },
		  "language_info": {
		   "file_extension": ".sce",
		   "help_links": [
			{
			 "text": "MetaKernel Magics",
			 "url": "https://github.com/calysto/metakernel/blob/master/metakernel/magics/README.md"
			}
		   ],
		   "mimetype": "text/x-octave",
		   "name": "scilab",
		   "version": "0.7.1"
		  }
		 },
		 "nbformat": 4,
		 "nbformat_minor": 0
}
