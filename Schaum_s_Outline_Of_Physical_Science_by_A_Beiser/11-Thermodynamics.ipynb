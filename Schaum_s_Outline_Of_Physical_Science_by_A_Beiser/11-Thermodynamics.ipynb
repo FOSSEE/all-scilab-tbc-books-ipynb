{
"cells": [
 {
		   "cell_type": "markdown",
	   "metadata": {},
	   "source": [
       "# Chapter 11: Thermodynamics"
	   ]
	},
{
		   "cell_type": "markdown",
		   "metadata": {},
		   "source": [
			"## Example 11.10: 10.sce"
		   ]
		  },
  {
"cell_type": "code",
	   "execution_count": null,
	   "metadata": {
	    "collapsed": true
	   },
	   "outputs": [],
"source": [
"clc;\n",
"t1=267+273;      //temp in Kelvin\n",
"eff=0.25;        //efficiency\n",
"t2=t1*(1-eff);   //calculating t2 using eff=1-(t2/t1)\n",
"disp(t2-273,'Temperature in celcius = ');      //displaying result"
   ]
   }
,
{
		   "cell_type": "markdown",
		   "metadata": {},
		   "source": [
			"## Example 11.11: 11.sce"
		   ]
		  },
  {
"cell_type": "code",
	   "execution_count": null,
	   "metadata": {
	    "collapsed": true
	   },
	   "outputs": [],
"source": [
"clc;\n",
"t1=34+273;      //temperature in Kelvin\n",
"t2=35+273;      //temperature in Kelvin\n",
"r=((t2^4)-(t1^4))/(t1^4);    //calculating percentage difference in radiation\n",
"disp(r*100,'Percentage difference in radiation = ');     //displaying result"
   ]
   }
,
{
		   "cell_type": "markdown",
		   "metadata": {},
		   "source": [
			"## Example 11.4: 4.sce"
		   ]
		  },
  {
"cell_type": "code",
	   "execution_count": null,
	   "metadata": {
	    "collapsed": true
	   },
	   "outputs": [],
"source": [
"clc;\n",
"lf=335;     //heat of fusion in kJ/kg\n",
"g=9.8;      //gravitational constant in m/sec square\n",
"h=lf/g;     //height in km\n",
"disp(h,'Height in km = ');     //displaying result"
   ]
   }
,
{
		   "cell_type": "markdown",
		   "metadata": {},
		   "source": [
			"## Example 11.6: 6.sce"
		   ]
		  },
  {
"cell_type": "code",
	   "execution_count": null,
	   "metadata": {
	    "collapsed": true
	   },
	   "outputs": [],
"source": [
"clc;\n",
"hc=1.1*10^4;     //heat of combustion of heat oil in kcal/kg\n",
"p=10^6;       //Power in Watt\n",
"t=3600*24;       //time in sec\n",
"w=p*t;          //calculating power produced in a day in Joule\n",
"e=0.4;         //efficiency\n",
"hi=w/e;        //Heat input in Joule sice efficiency=output/input\n",
"hi=hi/(4.185*10^3);   //for calculating heat input in kcal\n",
"m=hi/hc;     //amount of fuel burnt each day in kg\n",
"disp(m,'Amount of fuel burnt each day in kg = ');   //displaying result"
   ]
   }
,
{
		   "cell_type": "markdown",
		   "metadata": {},
		   "source": [
			"## Example 11.7: 7.sce"
		   ]
		  },
  {
"cell_type": "code",
	   "execution_count": null,
	   "metadata": {
	    "collapsed": true
	   },
	   "outputs": [],
"source": [
"clc;\n",
"w=40000;    //weight in lb\n",
"t=3600;     //time in sec\n",
"g=32;       //gravitational constant in ft/sec square\n",
"v1=2500;    //initial velocity in m/sec\n",
"v2=400;     //final velocity in m/sec\n",
"W=(w/(2*g))*((v1*v1)-(v2*v2));  //calculating Work done in ft.lb using work done=difference in Kinetic Energy\n",
"p=W/(t*550);      //calculating Power using P=W/t since 1hp=550 ft.lb/sec;\n",
"disp(p,'Power Ouput in hp = ');      //displaying result"
   ]
   }
,
{
		   "cell_type": "markdown",
		   "metadata": {},
		   "source": [
			"## Example 11.8: 8.sce"
		   ]
		  },
  {
"cell_type": "code",
	   "execution_count": null,
	   "metadata": {
	    "collapsed": true
	   },
	   "outputs": [],
"source": [
"clc;\n",
"t1=327+273;     //temp in Kelvin\n",
"t2=127+273;     //temp in Kelvin\n",
"eff=1-(t2/t1);  //calculating efficiency\n",
"hi=4185;        //1 kcal=4185 Joule\n",
"W=eff*hi;       //calculating Work in joule\n",
"disp(W,'Work in Joule = ');   //displaying result"
   ]
   }
,
{
		   "cell_type": "markdown",
		   "metadata": {},
		   "source": [
			"## Example 11.9: 9.sce"
		   ]
		  },
  {
"cell_type": "code",
	   "execution_count": null,
	   "metadata": {
	    "collapsed": true
	   },
	   "outputs": [],
"source": [
"clc;\n",
"woa=3000;         //work ouput of a in Joule\n",
"wob=2000;         //work output of b in Joule\n",
"woc=1000;         //work output of c in Joule\n",
"hi=4185;          //1 kcal=4185 Joule\n",
"t1=500;           //temp in Kelvin\n",
"t2=300;           //temp in Kelvin\n",
"eff=1-(t2/t1);    //efficiency\n",
"effa=woa/hi;     //calculating efficiency of a\n",
"effb=wob/hi;     //calculating efficiency of b\n",
"effc=woc/hi;     //calculating efficiency of c\n",
"disp(effa*100,'Efficiency of A = ');        //displaying result\n",
"disp(effb*100,'Efficiency of B = ');        //displaying result\n",
"disp(effc*100,'Efficiency of C = ');        //displaying result"
   ]
   }
],
"metadata": {
		  "kernelspec": {
		   "display_name": "Scilab",
		   "language": "scilab",
		   "name": "scilab"
		  },
		  "language_info": {
		   "file_extension": ".sce",
		   "help_links": [
			{
			 "text": "MetaKernel Magics",
			 "url": "https://github.com/calysto/metakernel/blob/master/metakernel/magics/README.md"
			}
		   ],
		   "mimetype": "text/x-octave",
		   "name": "scilab",
		   "version": "0.7.1"
		  }
		 },
		 "nbformat": 4,
		 "nbformat_minor": 0
}
