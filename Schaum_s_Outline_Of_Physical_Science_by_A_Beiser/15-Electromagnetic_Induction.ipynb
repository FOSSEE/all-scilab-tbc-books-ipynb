{
"cells": [
 {
		   "cell_type": "markdown",
	   "metadata": {},
	   "source": [
       "# Chapter 15: Electromagnetic Induction"
	   ]
	},
{
		   "cell_type": "markdown",
		   "metadata": {},
		   "source": [
			"## Example 15.3: 3.sce"
		   ]
		  },
  {
"cell_type": "code",
	   "execution_count": null,
	   "metadata": {
	    "collapsed": true
	   },
	   "outputs": [],
"source": [
"clc;\n",
"l=5*0.305;     //converting ft to metre\n",
"v=40*0.447;    //converting mile/hr to m/sec\n",
"B=3*10^-5;     //magnetic field in Tesla\n",
"ve=B*l*v;       //calculating potential difference\n",
"disp(ve,'Potential difference in Volt = ');    //diplaying result"
   ]
   }
,
{
		   "cell_type": "markdown",
		   "metadata": {},
		   "source": [
			"## Example 15.4: 4.sce"
		   ]
		  },
  {
"cell_type": "code",
	   "execution_count": null,
	   "metadata": {
	    "collapsed": true
	   },
	   "outputs": [],
"source": [
"clc;\n",
"i=0.707*10;    //current in Ampere\n",
"r=20;          //resistance in Ohm\n",
"p=i*i*r;       //calculating power dissipated\n",
"disp(p,'Power dissipated in Watt = ');    //diplaying result"
   ]
   }
,
{
		   "cell_type": "markdown",
		   "metadata": {},
		   "source": [
			"## Example 15.5: 5.sce"
		   ]
		  },
  {
"cell_type": "code",
	   "execution_count": null,
	   "metadata": {
	    "collapsed": true
	   },
	   "outputs": [],
"source": [
"clc;\n",
"r=5;           //resistance in ohm\n",
"p=1000;        //power in Watt\n",
"va=100;        //potential diff in Volt for a\n",
"vb=100000;    //potential diff in volt for b\n",
"ia=p/va;      //calculating current\n",
"ib=p/vb;      //calculating current\n",
"ha=ia*ia*r;   //heat in Watt\n",
"hb=ib*ib*r;   //heat in Watt\n",
"disp(ha,'Heat produced by a in Watt = ');     //diplaying result\n",
"disp(hb,'Heat produced by b in Watt = ');   //diplaying result"
   ]
   }
,
{
		   "cell_type": "markdown",
		   "metadata": {},
		   "source": [
			"## Example 15.6: 6.sce"
		   ]
		  },
  {
"cell_type": "code",
	   "execution_count": null,
	   "metadata": {
	    "collapsed": true
	   },
	   "outputs": [],
"source": [
"clc;\n",
"i1=3;     //current in Ampere\n",
"n2=500;   //no. of turns\n",
"n1=100;   //no. of turns\n",
"v1=120;   //potential diff in volt\n",
"v2=(n2*v1)/n1;     //calculating v2\n",
"i2=(n1*i1)/n2;     //calculating i2\n",
"disp(v2,'Voltage in volt = ');   //diplaying result\n",
"disp(i2,'Current in Ampere = ');  //diplaying result"
   ]
   }
,
{
		   "cell_type": "markdown",
		   "metadata": {},
		   "source": [
			"## Example 15.7: 7.sce"
		   ]
		  },
  {
"cell_type": "code",
	   "execution_count": null,
	   "metadata": {
	    "collapsed": true
	   },
	   "outputs": [],
"source": [
"clc;\n",
"p=10000;   //power in Watt\n",
"v1=5000;   //potential diff in volt\n",
"v2=240;     //voltage in volt\n",
"i2=p/v2;     //calculating i2\n",
"disp(v1/v2,'Ratio of turns = ');   //diplaying result\n",
"disp(i2,'Maximum current in Ampere = ');  //diplaying result"
   ]
   }
,
{
		   "cell_type": "markdown",
		   "metadata": {},
		   "source": [
			"## Example 15.8: 8.sce"
		   ]
		  },
  {
"cell_type": "code",
	   "execution_count": null,
	   "metadata": {
	    "collapsed": true
	   },
	   "outputs": [],
"source": [
"clc;\n",
"r=100;           //resistance in ohm\n",
"v1=120;        //potential diff in Volt\n",
"n2=50;         //no. of turns\n",
"n1=200;        //no. of turns\n",
"v2=(n2*v1)/n1;    //potential diff in volt\n",
"i2=v2/r;      //calculating current\n",
"i1=(n2/n1)*i2;      //calculating current\n",
"disp(i1,'Current in primary circuit in Ampere = ');   //diplaying result"
   ]
   }
],
"metadata": {
		  "kernelspec": {
		   "display_name": "Scilab",
		   "language": "scilab",
		   "name": "scilab"
		  },
		  "language_info": {
		   "file_extension": ".sce",
		   "help_links": [
			{
			 "text": "MetaKernel Magics",
			 "url": "https://github.com/calysto/metakernel/blob/master/metakernel/magics/README.md"
			}
		   ],
		   "mimetype": "text/x-octave",
		   "name": "scilab",
		   "version": "0.7.1"
		  }
		 },
		 "nbformat": 4,
		 "nbformat_minor": 0
}
