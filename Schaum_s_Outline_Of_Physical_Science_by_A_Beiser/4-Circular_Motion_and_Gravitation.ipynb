{
"cells": [
 {
		   "cell_type": "markdown",
	   "metadata": {},
	   "source": [
       "# Chapter 4: Circular Motion and Gravitation"
	   ]
	},
{
		   "cell_type": "markdown",
		   "metadata": {},
		   "source": [
			"## Example 4.10: 10.sce"
		   ]
		  },
  {
"cell_type": "code",
	   "execution_count": null,
	   "metadata": {
	    "collapsed": true
	   },
	   "outputs": [],
"source": [
"clc;\n",
"r=6.4*10^6;  //radius of earth in m\n",
"g=9.8;  //gravitational constant in m/sec square\n",
"v=sqrt(r*g);  //calculating velocity in m/sec\n",
"disp(v,'Velocity in metre/sec = ');  //displaying result"
   ]
   }
,
{
		   "cell_type": "markdown",
		   "metadata": {},
		   "source": [
			"## Example 4.11: 11.sce"
		   ]
		  },
  {
"cell_type": "code",
	   "execution_count": null,
	   "metadata": {
	    "collapsed": true
	   },
	   "outputs": [],
"source": [
"clc;\n",
"r=6400+1000;     //radius in metre\n",
"g=(6400/7400)*(6400/7400)*9.8;  //calculating g at 1000km using g=(r earth/r)*g\n",
"disp(g,'Accelaration due to gravity at 1000km = ');  //displaying result"
   ]
   }
,
{
		   "cell_type": "markdown",
		   "metadata": {},
		   "source": [
			"## Example 4.1: 1.sce"
		   ]
		  },
  {
"cell_type": "code",
	   "execution_count": null,
	   "metadata": {
	    "collapsed": true
	   },
	   "outputs": [],
"source": [
"clc;\n",
"r=1.5;                      //radius in ft\n",
"t=2;                        //time in sec\n",
"s=2*%pi*r;                  //calculating s using circumference of circle\n",
"                            //=2*3.14*r in ft\n",
"v=s/t;                      //calculating velocity using v=s/t in ft/sec\n",
"ac=(v*v)/r;                 //calculating centripetal accelaration in                                 //ft/sec square.\n",
"disp(ac,'Centripetal Accelaration = ');  //Displaying Result in ft/sec square.\n",
"  "
   ]
   }
,
{
		   "cell_type": "markdown",
		   "metadata": {},
		   "source": [
			"## Example 4.12: 12.sce"
		   ]
		  },
  {
"cell_type": "code",
	   "execution_count": null,
	   "metadata": {
	    "collapsed": true
	   },
	   "outputs": [],
"source": [
"clc;\n",
"g=32        //gravitational constant in ft/sec square\n",
"w=128;      //mass in lb\n",
"F=(1/2)*(1/2)*128'  //calculating F in lb\n",
"m=w/g;      //calculating m in slugs\n",
"disp(F,'Weight at height above the earths surface of one earth radius = ');  //displaying weight\n",
"disp(m,'Mass of the girl in slugs= ');  //displaying mass in slugs"
   ]
   }
,
{
		   "cell_type": "markdown",
		   "metadata": {},
		   "source": [
			"## Example 4.13: 13.sce"
		   ]
		  },
  {
"cell_type": "code",
	   "execution_count": null,
	   "metadata": {
	    "collapsed": true
	   },
	   "outputs": [],
"source": [
"clc;\n",
"T=24*60*60;   //time in sec\n",
"re=6.4*10^6;  //radius of earth in m\n",
"g=9.8;         //gravitational constant in m/sec square\n",
"r=(((6.4*10^6*6.4*10^6)*9.8*(8.64*10^4*8.64*10^4))/(4*%pi*%pi))^(1/3);  //calculating r in metre\n",
"disp(r,'Radius in metre = ');  //displaying radius in metre\n",
"h=r-re;    //h =altitude above earth's surface\n",
"disp(h,'Height above the earths Surface in metre = ');  //displaying height above earth's surface in m\n",
"disp(h/1000,'Height above the earths Surface in kilometre = ');  //displaying height above earth's surface in km)"
   ]
   }
,
{
		   "cell_type": "markdown",
		   "metadata": {},
		   "source": [
			"## Example 4.14: 14.sce"
		   ]
		  },
  {
"cell_type": "code",
	   "execution_count": null,
	   "metadata": {
	    "collapsed": true
	   },
	   "outputs": [],
"source": [
"clc;\n",
"re=6.4*10^6;  //radius of earth in m \n",
"g=9.8;     //gravitational constant in m/sec square\n",
"G=6.67*10^-11;  //Universal gravitational constant in Nm square/kg square\n",
"m=(g*re*re)/G;  //calculating mass of earth in kg\n",
"disp(m,'Mass of Earth in kg = ');  //diaplaying mass of Earth inkg"
   ]
   }
,
{
		   "cell_type": "markdown",
		   "metadata": {},
		   "source": [
			"## Example 4.15: 15.sce"
		   ]
		  },
  {
"cell_type": "code",
	   "execution_count": null,
	   "metadata": {
	    "collapsed": true
	   },
	   "outputs": [],
"source": [
"clc;\n",
"G=6.67*10^-11   //Universal gravitational constant in Nmsquare/kg square\n",
"mm=7.36*10^22;  //mass of moon in kg\n",
"r=1.74*10^6;   //radius of moon in m\n",
"m=75;          //weight of man in kg\n",
"g=(G*mm)/(r*r);  //calculating g in m/sec square\n",
"w=m*g;          //calculating weight in Newton\n",
"disp(g,'Accelaration due to gravity at its surface in m/sec square= ');  //displaying g\n",
"disp(w,'Mans weight on moon in Newton = ');  //displaying mass of man on moon."
   ]
   }
,
{
		   "cell_type": "markdown",
		   "metadata": {},
		   "source": [
			"## Example 4.16: 16.sce"
		   ]
		  },
  {
"cell_type": "code",
	   "execution_count": null,
	   "metadata": {
	    "collapsed": true
	   },
	   "outputs": [],
"source": [
"clc;\n",
"r=1.74*10^6;     //radius in m\n",
"gm=1.6;          //gravitational constant of moon in m/sec square\n",
"v=sqrt(r*gm);    //calculating velocity\n",
"disp(v,'Velocity in m/sec = ');   //displaying result"
   ]
   }
,
{
		   "cell_type": "markdown",
		   "metadata": {},
		   "source": [
			"## Example 4.2: 2.sce"
		   ]
		  },
  {
"cell_type": "code",
	   "execution_count": null,
	   "metadata": {
	    "collapsed": true
	   },
	   "outputs": [],
"source": [
"clc;\n",
"m=0.5;   //weight in kg\n",
"r=1;     //readius in metre\n",
"v=4;     //velocity in metre/sec\n",
"F=(m*v*v)/r;  //calculating centripetal force in Newton\n",
"disp(F,'Centripetal Force = ');  //displaying force in Newton"
   ]
   }
,
{
		   "cell_type": "markdown",
		   "metadata": {},
		   "source": [
			"## Example 4.4: 4.sce"
		   ]
		  },
  {
"cell_type": "code",
	   "execution_count": null,
	   "metadata": {
	    "collapsed": true
	   },
	   "outputs": [],
"source": [
"clc;\n",
"g=32       //gravitational constant in ft/sec square.\n",
"w=160        //weight in lb\n",
"r=20         //radius in ft\n",
"v=10         //velocity in ft/sec\n",
"m=w/g        //calculating mass in slugs\n",
"F=(m*v*v)/r; //calculating centripetal force in lb\n",
"disp(F,'Centripetal Force in lb = '); //displaying result. "
   ]
   }
,
{
		   "cell_type": "markdown",
		   "metadata": {},
		   "source": [
			"## Example 4.5: 5.sce"
		   ]
		  },
  {
"cell_type": "code",
	   "execution_count": null,
	   "metadata": {
	    "collapsed": true
	   },
	   "outputs": [],
"source": [
"clc;\n",
"m=1000;    //mass in kg\n",
"r=30;      //radius in metre\n",
"v=9;       //velocity in metre/sec\n",
"F=(m*v*v)/r;  //calculating centripetal force in Newton.\n",
"disp(F,'Centripetal Force in Newton = ');  //displaying result."
   ]
   }
,
{
		   "cell_type": "markdown",
		   "metadata": {},
		   "source": [
			"## Example 4.6: 6.sce"
		   ]
		  },
  {
"cell_type": "code",
	   "execution_count": null,
	   "metadata": {
	    "collapsed": true
	   },
	   "outputs": [],
"source": [
"clc;\n",
"g=32     //gravitational constant in ft/sec square.\n",
"w=3200   //weight in lb\n",
"F=2000   //Maximum Force in lb\n",
"r=320    //radius in ft\n",
"m=w/g;   //calculating mass in slugs\n",
"v=sqrt((F*r)/m);  //calculating velocity in ft/sec\n",
"disp(v*0.682,'Velocity in min/hr = ');   //displaying velocity in min/hr."
   ]
   }
,
{
		   "cell_type": "markdown",
		   "metadata": {},
		   "source": [
			"## Example 4.7: 7.sce"
		   ]
		  },
  {
"cell_type": "code",
	   "execution_count": null,
	   "metadata": {
	    "collapsed": true
	   },
	   "outputs": [],
"source": [
"clc;\n",
"g=9.8;     //gravitaional constant in metre/sec \n",
"r=0.5;   //radius in metre\n",
"m=1;     //mass in kg\n",
"v=5;      //velocity in metre/sec\n",
"F=(m*v*v)/r;  //calculationg centripetal force in Newton\n",
"w=m*g;      //calculating weight in Newton\n",
"T=F-w;     //calculating Tension in string at top position in Newton\n",
"disp(T,'Tension in the string at the top position in Newton = '); //displaying result\n",
"T=F+w;   //calculating Tension at bottom of string in Newton.\n",
"disp(T,'Tension in the string at the bottom position in Newton = '); //    displaying Tension at bottom of string in Newton."
   ]
   }
,
{
		   "cell_type": "markdown",
		   "metadata": {},
		   "source": [
			"## Example 4.8: 8.sce"
		   ]
		  },
  {
"cell_type": "code",
	   "execution_count": null,
	   "metadata": {
	    "collapsed": true
	   },
	   "outputs": [],
"source": [
"clc;\n",
"G=3.44*10^-8;  //universal gravitational constant in lb.ft square/slug square\n",
"r=10   //radius in ft\n",
"w=2000;     //weight in lb\n",
"g=32;   //gravitational constant in ft/sec square\n",
"m=w/g;  //calculating mass in slugs\n",
"F=(G*m*m)/(r*r);  //calculating gravitational force in lb\n",
"disp(F,'Gravitational force in lb = ');  //displaying gravitational force in lb\n",
""
   ]
   }
,
{
		   "cell_type": "markdown",
		   "metadata": {},
		   "source": [
			"## Example 4.9: 9.sce"
		   ]
		  },
  {
"cell_type": "code",
	   "execution_count": null,
	   "metadata": {
	    "collapsed": true
	   },
	   "outputs": [],
"source": [
"clc;\n",
"G=6.67*10^-11   //universal gravitational constant in Nm square/kg square.\n",
"m1=5.98*10^24;   //mass of earth in kg\n",
"m2=7.36*10^22;   //mass of moon in kg\n",
"r=3.84*10^8;     //radius of moon's orbit\n",
"F=(G*m1*m2)/(r*r);  //calculating gravitationalforce in Newton\n",
"v=sqrt((G*m1)/r);    //calculating velocity of moon in m/sec\n",
"s=2*%pi*r;    //calculating circumference of moon's orbit in metre\n",
"t=s/v;        //calculating time in sec\n",
"disp(F,'Gravitational Force in Newton = ');  //displaying gravitational force in Newton\n",
"disp(v,'Velocity in metre/sec = ');   //displaying velocity in metre\n",
"disp(t,'Time in sec = ');  //displaying time in sec.\n",
"disp(t/86400,'Time in days = ');  //displaying time in days"
   ]
   }
],
"metadata": {
		  "kernelspec": {
		   "display_name": "Scilab",
		   "language": "scilab",
		   "name": "scilab"
		  },
		  "language_info": {
		   "file_extension": ".sce",
		   "help_links": [
			{
			 "text": "MetaKernel Magics",
			 "url": "https://github.com/calysto/metakernel/blob/master/metakernel/magics/README.md"
			}
		   ],
		   "mimetype": "text/x-octave",
		   "name": "scilab",
		   "version": "0.7.1"
		  }
		 },
		 "nbformat": 4,
		 "nbformat_minor": 0
}
