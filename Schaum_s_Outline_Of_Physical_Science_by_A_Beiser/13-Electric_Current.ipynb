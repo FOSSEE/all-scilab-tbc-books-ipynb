{
"cells": [
 {
		   "cell_type": "markdown",
	   "metadata": {},
	   "source": [
       "# Chapter 13: Electric Current"
	   ]
	},
{
		   "cell_type": "markdown",
		   "metadata": {},
		   "source": [
			"## Example 13.10: 10.sce"
		   ]
		  },
  {
"cell_type": "code",
	   "execution_count": null,
	   "metadata": {
	    "collapsed": true
	   },
	   "outputs": [],
"source": [
"clc;\n",
"i=15;      //current in Ampere\n",
"v=240;     //potential diff. in Volt\n",
"t=45/60;   //time in hours\n",
"p=v*i;     //clculating power in Watt using p=v*i\n",
"w=p*t;     //calculating work done in Watt.h using w=p*t\n",
"disp(w/1000,'Work done in  kiloWatt.hr = ');   //displaying result"
   ]
   }
,
{
		   "cell_type": "markdown",
		   "metadata": {},
		   "source": [
			"## Example 13.11: 11.sce"
		   ]
		  },
  {
"cell_type": "code",
	   "execution_count": null,
	   "metadata": {
	    "collapsed": true
	   },
	   "outputs": [],
"source": [
"clc;\n",
"v=12;   //potential diff. in volt\n",
"i=20;   //current in Ampere\n",
"t=3600;     //time in sec\n",
"p=v*i;   //power in Watt using p=v*i\n",
"w=p*t;   //calculating work in Joule using w=p*t\n",
"disp(w,'Work done in Joule = ');    //displaying result"
   ]
   }
,
{
		   "cell_type": "markdown",
		   "metadata": {},
		   "source": [
			"## Example 13.12: 12.sce"
		   ]
		  },
  {
"cell_type": "code",
	   "execution_count": null,
	   "metadata": {
	    "collapsed": true
	   },
	   "outputs": [],
"source": [
"clc;\n",
"p=60;      //power in Watt\n",
"c=80;      //car capacity in Ampere.hr\n",
"t=3600;    //time in seconds\n",
"v=12;      //potential diff. in volt\n",
"q=c*t;     //charge in Ampere.sec = Coulomb\n",
"w=q*v;     //energy provided in Joule\n",
"t=w/p;     //calculating time in second\n",
"disp(w,'(a) Energy stored in the battery in Joule = ');    //displaying result\n",
"disp(t/3600,'(b) Time the battery is on in hours = ');     //displaying result"
   ]
   }
,
{
		   "cell_type": "markdown",
		   "metadata": {},
		   "source": [
			"## Example 13.13: 13.sce"
		   ]
		  },
  {
"cell_type": "code",
	   "execution_count": null,
	   "metadata": {
	    "collapsed": true
	   },
	   "outputs": [],
"source": [
"clc;\n",
"v=600;      //potential diff. in volt\n",
"i=10;       //current in Ampere\n",
"r=v/i;      //calculating resistence in ohm using ohm's law ie.v=i*r\n",
"disp(r,'Resistence in Ohm = ');      //displaying result"
   ]
   }
,
{
		   "cell_type": "markdown",
		   "metadata": {},
		   "source": [
			"## Example 13.14: 14.sce"
		   ]
		  },
  {
"cell_type": "code",
	   "execution_count": null,
	   "metadata": {
	    "collapsed": true
	   },
	   "outputs": [],
"source": [
"clc;\n",
"v=60;            //potential diff in volt\n",
"r1=5;      //resistance in Ohm\n",
"r2=5;      //resistance in Ohm\n",
"r3=5;      //resistance in Ohm\n",
"r=r1+r2+r3;    //resistance in series\n",
"disp(r,'Resistance in Series in Ohm = ');     //displaying result\n",
"i=v/r;                //calculating current in Ampere using Ohm's law ie. V=I*R\n",
"disp(i,'Current in the entire circuit in Ampere = ');   //displaying result"
   ]
   }
,
{
		   "cell_type": "markdown",
		   "metadata": {},
		   "source": [
			"## Example 13.15: 15.sce"
		   ]
		  },
  {
"cell_type": "code",
	   "execution_count": null,
	   "metadata": {
	    "collapsed": true
	   },
	   "outputs": [],
"source": [
"clc;\n",
"v=60;            //potential diff in volt\n",
"r=5;       //resistance in Ohm\n",
"r1=5;      //resistance in Ohm\n",
"r2=5;      //resistance in Ohm\n",
"r3=5;      //resistance in Ohm\n",
"rp=(r1)^-1+(r2)^-1+(r3)^-1;    //resistance in series\n",
"disp((rp^-1),'Resistance in Parallel in Ohm = ');     //displaying result\n",
"i=v/r;                //calculating current in Ampere using Ohm's law ie. V=I*R\n",
"disp(i,'Current in the entire circuit in Ampere = ');   //displaying result"
   ]
   }
,
{
		   "cell_type": "markdown",
		   "metadata": {},
		   "source": [
			"## Example 13.16: 16.sce"
		   ]
		  },
  {
"cell_type": "code",
	   "execution_count": null,
	   "metadata": {
	    "collapsed": true
	   },
	   "outputs": [],
"source": [
"clc;\n",
"v=120;     //potential diff in volt\n",
"r1=240;    //resistance in ohm\n",
"r2=240;    //resistance in ohm\n",
"r=r1+r2;   //resistance in series\n",
"i=v/r;     //calculating current in Ampere using Ohm's law\n",
"disp(i,'(a)Current in each bulb in Ampere = ');   //displaying result\n",
"p=i*i*r1;    //calculating power dissipated in each bulb in Watt\n",
"disp(p,'(b)Power dissipated in each bulb in Watt = ');   //displaying result"
   ]
   }
,
{
		   "cell_type": "markdown",
		   "metadata": {},
		   "source": [
			"## Example 13.17: 17.sce"
		   ]
		  },
  {
"cell_type": "code",
	   "execution_count": null,
	   "metadata": {
	    "collapsed": true
	   },
	   "outputs": [],
"source": [
"clc;\n",
"v=120;     //potential diff in volt\n",
"r=240;     //resistance in ohm\n",
"i=v/r;     //current in Ampere using Ohm's law\n",
"disp(i,'(a)Current in each bulb in Ampere = ');    //displaying result\n",
"p=i*i*r;   //power in Watt\n",
"disp(p,'Power dissipated in each bulb in Watt = ');   //displaying result"
   ]
   }
,
{
		   "cell_type": "markdown",
		   "metadata": {},
		   "source": [
			"## Example 13.5: 5.sce"
		   ]
		  },
  {
"cell_type": "code",
	   "execution_count": null,
	   "metadata": {
	    "collapsed": true
	   },
	   "outputs": [],
"source": [
"clc;\n",
"e=1.6*10^-19;      //charge on an electron in coulomb\n",
"i=1;               //current in Ampere\n",
"n=i/e;             //calculating no of electrons/sec\n",
"disp(n,'No. of electrons flowing per second = ');    //displaying result"
   ]
   }
,
{
		   "cell_type": "markdown",
		   "metadata": {},
		   "source": [
			"## Example 13.6: 6.sce"
		   ]
		  },
  {
"cell_type": "code",
	   "execution_count": null,
	   "metadata": {
	    "collapsed": true
	   },
	   "outputs": [],
"source": [
"clc;\n",
"v=120;    //potential diff in Volt\n",
"r=12;     //resistance in ohms\n",
"i=v/r;    //calculating current in Ampere using Ohm's law ie. V=I*R\n",
"disp(i,'Current in the toaster in Ampere = ');    //displaying result"
   ]
   }
,
{
		   "cell_type": "markdown",
		   "metadata": {},
		   "source": [
			"## Example 13.7: 7.sce"
		   ]
		  },
  {
"cell_type": "code",
	   "execution_count": null,
	   "metadata": {
	    "collapsed": true
	   },
	   "outputs": [],
"source": [
"clc;\n",
"v=120;     //potential diff in volt\n",
"i=25;      //current in Ampere\n",
"r=v/i;    //Ohm's law\n",
"disp(r,'Resistance in ohm = ');    //displaying result"
   ]
   }
,
{
		   "cell_type": "markdown",
		   "metadata": {},
		   "source": [
			"## Example 13.8: 8.sce"
		   ]
		  },
  {
"cell_type": "code",
	   "execution_count": null,
	   "metadata": {
	    "collapsed": true
	   },
	   "outputs": [],
"source": [
"clc;\n",
"v=240;     //potential diff in volt\n",
"p=2000;    //power in Watt\n",
"disp((p/v),'Current in Ampere = ');    //displaying result"
   ]
   }
,
{
		   "cell_type": "markdown",
		   "metadata": {},
		   "source": [
			"## Example 13.9: 9.sce"
		   ]
		  },
  {
"cell_type": "code",
	   "execution_count": null,
	   "metadata": {
	    "collapsed": true
	   },
	   "outputs": [],
"source": [
"clc;\n",
"pi=12*746;    //input power in Watt sice 1hp=746 Watt\n",
"i=30;         //current in Ampere\n",
"v=240;        //potential difference in volt\n",
"po=v*i;       //calculating output power using p=v*i\n",
"e=po/pi;      //calculating efficiency using eff=oupt/input\n",
"disp(e*100,'Efficiency of the generator = ');     //displaying result"
   ]
   }
],
"metadata": {
		  "kernelspec": {
		   "display_name": "Scilab",
		   "language": "scilab",
		   "name": "scilab"
		  },
		  "language_info": {
		   "file_extension": ".sce",
		   "help_links": [
			{
			 "text": "MetaKernel Magics",
			 "url": "https://github.com/calysto/metakernel/blob/master/metakernel/magics/README.md"
			}
		   ],
		   "mimetype": "text/x-octave",
		   "name": "scilab",
		   "version": "0.7.1"
		  }
		 },
		 "nbformat": 4,
		 "nbformat_minor": 0
}
