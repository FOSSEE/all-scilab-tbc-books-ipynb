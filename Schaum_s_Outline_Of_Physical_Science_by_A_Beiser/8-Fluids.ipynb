{
"cells": [
 {
		   "cell_type": "markdown",
	   "metadata": {},
	   "source": [
       "# Chapter 8: Fluids"
	   ]
	},
{
		   "cell_type": "markdown",
		   "metadata": {},
		   "source": [
			"## Example 8.10: 10.sce"
		   ]
		  },
  {
"cell_type": "code",
	   "execution_count": null,
	   "metadata": {
	    "collapsed": true
	   },
	   "outputs": [],
"source": [
"clc;\n",
"g=9.8;         //gravitational constant in m/sec square\n",
"d=1.03*10^3;   //density of sea water in kg/m cube\n",
"depth=50;      //depth in m\n",
"side=20;       //length of side in cm\n",
"p=d*depth*g;   //calculating pressure on window\n",
"A=side*side*10^-4;  //calculating area in metre square\n",
"F=p*A;     //calculating FOrce in Newton\n",
"disp(F,'Force acting on window in Newton = ');   //displaying result."
   ]
   }
,
{
		   "cell_type": "markdown",
		   "metadata": {},
		   "source": [
			"## Example 8.11: 11.sce"
		   ]
		  },
  {
"cell_type": "code",
	   "execution_count": null,
	   "metadata": {
	    "collapsed": true
	   },
	   "outputs": [],
"source": [
"clc;\n",
"w=200;    //weight in lb\n",
"ds=64;    //weight density of seawater in lb/ft cube\n",
"dg=480;   //weight density of iron in lb/ft cube\n",
"V=w/dg;   //calculating V using dg=w/V in ft cube\n",
"w1=ds*V;   //calculating weight of seawater displaced by anchor in lb\n",
"bf=w-w1;  //calculating net force in lb\n",
"disp(bf,'Net Force to support in lb = ');  //displaying result."
   ]
   }
,
{
		   "cell_type": "markdown",
		   "metadata": {},
		   "source": [
			"## Example 8.12: 12.sce"
		   ]
		  },
  {
"cell_type": "code",
	   "execution_count": null,
	   "metadata": {
	    "collapsed": true
	   },
	   "outputs": [],
"source": [
"clc;\n",
"r=2;         //side in m\n",
"m=70;        //mass of man in kg\n",
"d=10^3;      //density in kg/m cube\n",
"V=m/d;       //calculating Volume in m cube\n",
"A=r*r;       //calculating area in m square\n",
"h=V/A;       //calculating height using vol=height*area in metre\n",
"disp(h,'Height in metre = ');   //displaying result."
   ]
   }
,
{
		   "cell_type": "markdown",
		   "metadata": {},
		   "source": [
			"## Example 8.13: 13.sce"
		   ]
		  },
  {
"cell_type": "code",
	   "execution_count": null,
	   "metadata": {
	    "collapsed": true
	   },
	   "outputs": [],
"source": [
"clc;\n",
"dice=920;  //desity of ice in kg/m cube\n",
"dwater=1030;  //density of water in kg/m cube\n",
"vsub=dice/dwater;  //calculating percentage volume of iceberg that is submerged using relation:dice*g*v=dwater*g*vsub\n",
"disp(vsub*100,'Percentage of volume of submerged iceberg = ');  //displaying result."
   ]
   }
,
{
		   "cell_type": "markdown",
		   "metadata": {},
		   "source": [
			"## Example 8.14: 14.sce"
		   ]
		  },
  {
"cell_type": "code",
	   "execution_count": null,
	   "metadata": {
	    "collapsed": true
	   },
	   "outputs": [],
"source": [
"clc;\n",
"v=100*0.134;      //volume in ft cube\n",
"w1=50;           //weight in lb\n",
"dg=42;           //density in lb/ft cube\n",
"dgw=64;          //density in lb/ft cube\n",
"w=w1+(dg*v);     //calculating weight\n",
"disp(w,'Weight in lb = '); //displaying result\n",
"F=dgw*v;     //calculating force\n",
"disp(F,'Maximumforce in lb = ');    //displaying result"
   ]
   }
,
{
		   "cell_type": "markdown",
		   "metadata": {},
		   "source": [
			"## Example 8.15: 15.sce"
		   ]
		  },
  {
"cell_type": "code",
	   "execution_count": null,
	   "metadata": {
	    "collapsed": true
	   },
	   "outputs": [],
"source": [
"clc;\n",
"w1=40000;           //weight in lb\n",
"dga=0.08;           //density in lb/ft cube\n",
"dgh=0.011;          //density in lb/ft cube\n",
"v=w1/(dga-dgh);     //calculating volume\n",
"disp(v,'Volume in ft cube = '); //displaying result"
   ]
   }
,
{
		   "cell_type": "markdown",
		   "metadata": {},
		   "source": [
			"## Example 8.3: 3.sce"
		   ]
		  },
  {
"cell_type": "code",
	   "execution_count": null,
	   "metadata": {
	    "collapsed": true
	   },
	   "outputs": [],
"source": [
"clc;\n",
"dg=1200;   //density in lb/ft cube\n",
"v=1/1728;   //in ft cube/in cube\n",
"w=dg*v;       //calculating weight\n",
"disp(w,'Weight in lb = ');     //displaying result"
   ]
   }
,
{
		   "cell_type": "markdown",
		   "metadata": {},
		   "source": [
			"## Example 8.4: 4.sce"
		   ]
		  },
  {
"cell_type": "code",
	   "execution_count": null,
	   "metadata": {
	    "collapsed": true
	   },
	   "outputs": [],
"source": [
"clc;\n",
"m=58;      //mass in kg\n",
"v=0.1*0.2*4;   //calculating volume using v=l*b*h in m cube\n",
"d=m/v;  //calculating density using d=m/v in kg/m cube\n",
"dw=1000;  //density of water in kg/m cube\n",
"spgr=d/dw;  //calculating specific gravity of oak\n",
"disp(spgr,'Specific Gravity of Oak = ');  //displaying result.\n",
"disp('Since specific gravity of oak is less than that of water (ie. 1), it floats in water');   //displaying result."
   ]
   }
,
{
		   "cell_type": "markdown",
		   "metadata": {},
		   "source": [
			"## Example 8.5: 5.sce"
		   ]
		  },
  {
"cell_type": "code",
	   "execution_count": null,
	   "metadata": {
	    "collapsed": true
	   },
	   "outputs": [],
"source": [
"clc;\n",
"dg=0.08;     //weight density of air in lb/ft cube\n",
"v=12*12*10;  //calculating volume using v=l*b*h in ft cube\n",
"w=dg*v; //calculating weight in lb using weight=weight density*volume\n",
"disp(w,'Weight of the air in lb = ');  //displaying result."
   ]
   }
,
{
		   "cell_type": "markdown",
		   "metadata": {},
		   "source": [
			"## Example 8.6: 6.sce"
		   ]
		  },
  {
"cell_type": "code",
	   "execution_count": null,
	   "metadata": {
	    "collapsed": true
	   },
	   "outputs": [],
"source": [
"clc;\n",
"w=500; //weight in lb\n",
"dg=62;  //density in lb/ft cube\n",
"v=w/dg; //calculating volume using density=mass/volume\n",
"disp(v,'Volume in ft cube = ');  ////displaying result."
   ]
   }
,
{
		   "cell_type": "markdown",
		   "metadata": {},
		   "source": [
			"## Example 8.7: 7.sce"
		   ]
		  },
  {
"cell_type": "code",
	   "execution_count": null,
	   "metadata": {
	    "collapsed": true
	   },
	   "outputs": [],
"source": [
"clc;\n",
"F=130;  //force in lb\n",
"r=1;    //radius in inch\n",
"A=%pi*r*r;  //calculating Area using area=pi*r*r in in square\n",
"p=F/A;      //calculating pressure in lb/in square using p=F/area\n",
"disp(p,'Pressure exerted on ground in lb/in square = ');  //displaying result.\n",
"disp(p/14.7,'Times greater than atmospheric pressure.');  //displaying result."
   ]
   }
,
{
		   "cell_type": "markdown",
		   "metadata": {},
		   "source": [
			"## Example 8.8: 8.sce"
		   ]
		  },
  {
"cell_type": "code",
	   "execution_count": null,
	   "metadata": {
	    "collapsed": true
	   },
	   "outputs": [],
"source": [
"clc;\n",
"m=20000;  //mass in kg\n",
"A=60;     //area in metre square\n",
"g=9.8;    //gravitational constant in m/sec square\n",
"F=m*g;    //calculating force in Newton\n",
"p=F/A;    //calculating pressure in Pascal\n",
"disp(p,'Pressure in Pascal = ');  //displaying result.\n",
"disp(p/(1.013*10^5),'Pressure in atm = ');  //displaying result."
   ]
   }
,
{
		   "cell_type": "markdown",
		   "metadata": {},
		   "source": [
			"## Example 8.9: 9.sce"
		   ]
		  },
  {
"cell_type": "code",
	   "execution_count": null,
	   "metadata": {
	    "collapsed": true
	   },
	   "outputs": [],
"source": [
"clc;\n",
"pa=14.7;   //atm pressure in lb/in square\n",
"dg=62;   //density in lb/ft cube\n",
"h=6/144;   //in ft cube/in square\n",
"p=pa+(dg*h);       //calculating pressure\n",
"disp(p,'Pressure in lb/in square = ');     //displaying result"
   ]
   }
],
"metadata": {
		  "kernelspec": {
		   "display_name": "Scilab",
		   "language": "scilab",
		   "name": "scilab"
		  },
		  "language_info": {
		   "file_extension": ".sce",
		   "help_links": [
			{
			 "text": "MetaKernel Magics",
			 "url": "https://github.com/calysto/metakernel/blob/master/metakernel/magics/README.md"
			}
		   ],
		   "mimetype": "text/x-octave",
		   "name": "scilab",
		   "version": "0.7.1"
		  }
		 },
		 "nbformat": 4,
		 "nbformat_minor": 0
}
