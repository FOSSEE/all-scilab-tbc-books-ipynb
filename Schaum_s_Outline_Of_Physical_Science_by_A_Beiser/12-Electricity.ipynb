{
"cells": [
 {
		   "cell_type": "markdown",
	   "metadata": {},
	   "source": [
       "# Chapter 12: Electricity"
	   ]
	},
{
		   "cell_type": "markdown",
		   "metadata": {},
		   "source": [
			"## Example 12.10: 10.sce"
		   ]
		  },
  {
"cell_type": "code",
	   "execution_count": null,
	   "metadata": {
	    "collapsed": true
	   },
	   "outputs": [],
"source": [
"clc;\n",
"q1=5*10^-7;          //charge in coulomb\n",
"q2=2*10^-7;          //charge in coulomb\n",
"k=9*10^9;            //constant in N.m square/coulomb square\n",
"F=10^2;              //force in Newton\n",
"r=sqrt((k*q1*q2)/F);   //calculating r using Coulomb's law\n",
"disp(r*10^3,'Distance between them in mm = ');     //displaying result"
   ]
   }
,
{
		   "cell_type": "markdown",
		   "metadata": {},
		   "source": [
			"## Example 12.12: 12.sce"
		   ]
		  },
  {
"cell_type": "code",
	   "execution_count": null,
	   "metadata": {
	    "collapsed": true
	   },
	   "outputs": [],
"source": [
"clc;\n",
"k=9*10^9;          //constant in N.m square/kg square\n",
"G=6.67*10^-11;     //universal gravitational constant in N.m square/kg square\n",
"m1=1.67*10^-27;    //mass in kg\n",
"m2=1.67*10^-27;    //mass in kg\n",
"mp=1.6*10^-19;     //mass of proton in kg\n",
"Fg=G*m1*m2;\n",
"Fe=k*mp*mp;\n",
"d=Fe/Fg;\n",
"disp(d,'Times electric force is greater than gravitational force'); //displaying result"
   ]
   }
,
{
		   "cell_type": "markdown",
		   "metadata": {},
		   "source": [
			"## Example 12.13: 13.sce"
		   ]
		  },
  {
"cell_type": "code",
	   "execution_count": null,
	   "metadata": {
	    "collapsed": true
	   },
	   "outputs": [],
"source": [
"clc;\n",
"F=8.2*10^-8;         //force in Newton\n",
"e=1.6*10^-19;        //charge on an electron in Coulomb\n",
"E=F/e;               //calculating electric field in V/m using E=F/Q\n",
"disp(E,'Electric field in v/m = ');      //displaying result"
   ]
   }
,
{
		   "cell_type": "markdown",
		   "metadata": {},
		   "source": [
			"## Example 12.14: 14.sce"
		   ]
		  },
  {
"cell_type": "code",
	   "execution_count": null,
	   "metadata": {
	    "collapsed": true
	   },
	   "outputs": [],
"source": [
"clc;\n",
"e=1.6*10^-19;    //charge on an electron in coulomb\n",
"E=5*10^3;        //electric field in V/m\n",
"m=3.3*10^-26;    //mass of neon ion in kg\n",
"F=E*e;           //calculating foece in Newton using F=Q*E\n",
"a=F/m;           //calculating accelaration in m/sec square using Newton's Law(F=m*a)\n",
"disp(F,'Force on neon Ion in Newton = ');     //displaying result\n",
"disp(a,'Accelaration of the ion in m/sec square');    //displaying result"
   ]
   }
,
{
		   "cell_type": "markdown",
		   "metadata": {},
		   "source": [
			"## Example 12.15: 15.sce"
		   ]
		  },
  {
"cell_type": "code",
	   "execution_count": null,
	   "metadata": {
	    "collapsed": true
	   },
	   "outputs": [],
"source": [
"clc;\n",
"m=1.67*10^-27;    //mass of proton in kg\n",
"g=9.8;            //gravitational constant in m/sec square\n",
"e=1.6*10^-19;     //charge on electron in coulomb\n",
"E=(m*g)/e;        //calculating Electric field in V/m using e*E=m*g\n",
"disp(E,'Electric Field in V/metre = ');     //displaying result"
   ]
   }
,
{
		   "cell_type": "markdown",
		   "metadata": {},
		   "source": [
			"## Example 12.16: 16.sce"
		   ]
		  },
  {
"cell_type": "code",
	   "execution_count": null,
	   "metadata": {
	    "collapsed": true
	   },
	   "outputs": [],
"source": [
"clc;\n",
"Q=50;        //charge in Coulomb\n",
"V=7*10^6;    //Potential difference in Volt\n",
"W=Q*V;       //calculating energy dissipated in Joule\n",
"disp(W,'Power dissipated in Joule = ');    //displaying result"
   ]
   }
,
{
		   "cell_type": "markdown",
		   "metadata": {},
		   "source": [
			"## Example 12.17: 17.sce"
		   ]
		  },
  {
"cell_type": "code",
	   "execution_count": null,
	   "metadata": {
	    "collapsed": true
	   },
	   "outputs": [],
"source": [
"clc;\n",
"V=20;          //potential difference in Volt\n",
"E=500;         //Electric field in V/m\n",
"s=V/E;         //calculating distance between them in metre using s=V/E\n",
"disp(s,'Distance between the plates in metre = ');    //displaying result\n",
"disp(s*100,'Distance between the plates in cm = ');    //displaying result"
   ]
   }
,
{
		   "cell_type": "markdown",
		   "metadata": {},
		   "source": [
			"## Example 12.18: 18.sce"
		   ]
		  },
  {
"cell_type": "code",
	   "execution_count": null,
	   "metadata": {
	    "collapsed": true
	   },
	   "outputs": [],
"source": [
"clc;\n",
"E=600;     //electric field in volt/metre\n",
"s=0.15;    //distance between plates in metre\n",
"r=0.05;    //distance in m\n",
"V=E*s;     //calculating potential difference in Volt\n",
"disp(V,'(a)Potential Difference in Volt = ');      //displaying result\n",
"Q=10^-10;   //charge in coulomb\n",
"F=Q*E;     //calculating force in Newton\n",
"disp(F,'Force on the charge of 10^-10 C in Newton = ');   //displaying result\n",
"KE=F*r;      //calculating Kinetic Energy in Joule\n",
"disp(KE,'Kinetic Energy in Joule = ');      //displaying result"
   ]
   }
,
{
		   "cell_type": "markdown",
		   "metadata": {},
		   "source": [
			"## Example 12.19: 19.sce"
		   ]
		  },
  {
"cell_type": "code",
	   "execution_count": null,
	   "metadata": {
	    "collapsed": true
	   },
	   "outputs": [],
"source": [
"clc;\n",
"m=9.1*10^-31;    //mass of electron in kg\n",
"v=10^7;          //velocity of electron in m/sec\n",
"e=1.6*10^-19;    //charge on electron in coulomb\n",
"KE=(1/2)*(m*v*v);  //Kinetic Energy of electron in Joule\n",
"V=KE/e;          //calculating potential difference in Volt\n",
"disp(KE,'Kinetic Energy in Joule = ');  //displaying result\n",
"disp(V,'Potential difference in Volt = ');    //displaying result"
   ]
   }
,
{
		   "cell_type": "markdown",
		   "metadata": {},
		   "source": [
			"## Example 12.20: 20.sce"
		   ]
		  },
  {
"cell_type": "code",
	   "execution_count": null,
	   "metadata": {
	    "collapsed": true
	   },
	   "outputs": [],
"source": [
"clc;\n",
"V=12;     //potential diff in volt\n",
"Q=15;     //charge per time in Coulomb/sec\n",
"t=3600;   //time (seconds in an hour)\n",
"P=V*Q;    //calculating power in Watt\n",
"W=P*t;    //work done in Joule\n",
"disp(P,'Power in Watt = ');    //displaying result\n",
"disp(W,'Work done in 1 hr in Joule = ');     //displaying result"
   ]
   }
,
{
		   "cell_type": "markdown",
		   "metadata": {},
		   "source": [
			"## Example 12.7: 7.sce"
		   ]
		  },
  {
"cell_type": "code",
	   "execution_count": null,
	   "metadata": {
	    "collapsed": true
	   },
	   "outputs": [],
"source": [
"clc;\n",
"e=1.6*10^-19;    //charge on an electron in coulomb\n",
"q=10^-12;        //charge on pith ball in coulomb\n",
"n=q/e;           //calculating no of electrons\n",
"disp(n,'No. of electrons = ');    //displaying result"
   ]
   }
,
{
		   "cell_type": "markdown",
		   "metadata": {},
		   "source": [
			"## Example 12.8: 8.sce"
		   ]
		  },
  {
"cell_type": "code",
	   "execution_count": null,
	   "metadata": {
	    "collapsed": true
	   },
	   "outputs": [],
"source": [
"clc;\n",
"k=9*10^9;     //constant in free space in N.m square/C square\n",
"q1=4*10^-9;   //charge in coulomb\n",
"q2=5*10^-8;   //charge in coulomb\n",
"r=5*10^-2;    //radius in metre\n",
"F=(k*q1*q2)/(r*r);    //calculating force in Newton\n",
"disp(F,'Force in Newton = ');     //displaying result"
   ]
   }
,
{
		   "cell_type": "markdown",
		   "metadata": {},
		   "source": [
			"## Example 12.9: 9.sce"
		   ]
		  },
  {
"cell_type": "code",
	   "execution_count": null,
	   "metadata": {
	    "collapsed": true
	   },
	   "outputs": [],
"source": [
"clc;\n",
"k=9*10^9;     //constant in free space in N.m square/C square\n",
"q1=1.6*10^-19;   //charge in coulomb\n",
"q2=1.6*10^-19;   //charge in coulomb\n",
"r=5.3*10^-11;    //radius in metre\n",
"F=(k*q1*q2)/(r*r);    //calculating force in Newton\n",
"disp(F,'Force in Newton = ');     //displaying result"
   ]
   }
],
"metadata": {
		  "kernelspec": {
		   "display_name": "Scilab",
		   "language": "scilab",
		   "name": "scilab"
		  },
		  "language_info": {
		   "file_extension": ".sce",
		   "help_links": [
			{
			 "text": "MetaKernel Magics",
			 "url": "https://github.com/calysto/metakernel/blob/master/metakernel/magics/README.md"
			}
		   ],
		   "mimetype": "text/x-octave",
		   "name": "scilab",
		   "version": "0.7.1"
		  }
		 },
		 "nbformat": 4,
		 "nbformat_minor": 0
}
