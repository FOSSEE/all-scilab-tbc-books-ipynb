{
"cells": [
 {
		   "cell_type": "markdown",
	   "metadata": {},
	   "source": [
       "# Chapter 9: Heat"
	   ]
	},
{
		   "cell_type": "markdown",
		   "metadata": {},
		   "source": [
			"## Example 9.10: 10.sce"
		   ]
		  },
  {
"cell_type": "code",
	   "execution_count": null,
	   "metadata": {
	    "collapsed": true
	   },
	   "outputs": [],
"source": [
"clc;\n",
"t=(225990+3360)/2769;          //calculating temperature\n",
"disp(t,'Temperature in celcius = ');     //displaying result"
   ]
   }
,
{
		   "cell_type": "markdown",
		   "metadata": {},
		   "source": [
			"## Example 9.11: 11.sce"
		   ]
		  },
  {
"cell_type": "code",
	   "execution_count": null,
	   "metadata": {
	    "collapsed": true
	   },
	   "outputs": [],
"source": [
"clc;\n",
"t=56.6/0.22;          //calculating temperature\n",
"disp(t,'Temperature in celcius = ');     //displaying result"
   ]
   }
,
{
		   "cell_type": "markdown",
		   "metadata": {},
		   "source": [
			"## Example 9.12: 12.sce"
		   ]
		  },
  {
"cell_type": "code",
	   "execution_count": null,
	   "metadata": {
	    "collapsed": true
	   },
	   "outputs": [],
"source": [
"clc;\n",
"delT=626-70;    //change in temp. in Farenheit\n",
"m=200;          //mass in lb\n",
"c=0.03;         //specific heat capacity in Btu/(lb.Farenheit)\n",
"Lf=10.6;        //Latent Heat of Fusion in Btu/lb\n",
"Q=(m*c*delT)+(m*Lf); //calculating heat in Btu\n",
"disp(Q,'Heat Required in Btu = ');   //displaying result."
   ]
   }
,
{
		   "cell_type": "markdown",
		   "metadata": {},
		   "source": [
			"## Example 9.13: 13.sce"
		   ]
		  },
  {
"cell_type": "code",
	   "execution_count": null,
	   "metadata": {
	    "collapsed": true
	   },
	   "outputs": [],
"source": [
"clc;\n",
"mw=5;   //mass of water in kg\n",
"c=1;    //specific heat of water in kcal/(kg.degree celcius)\n",
"delT=40;  //change in temp in celcius\n",
"Lf=80;    //Latent heat of Fusion in kcal/kg\n",
"mice=(mw*c*delT)/Lf;   //calculating mass of ice in kg\n",
"disp(mice,'Mass of Ice in kg = ');     //displaying result."
   ]
   }
,
{
		   "cell_type": "markdown",
		   "metadata": {},
		   "source": [
			"## Example 9.14: 14.sce"
		   ]
		  },
  {
"cell_type": "code",
	   "execution_count": null,
	   "metadata": {
	    "collapsed": true
	   },
	   "outputs": [],
"source": [
"clc;\n",
"m1=2;    //mass of water in kg\n",
"c=1;     //specific heat in kcal/kg.celcius\n",
"delT=20; //change in temp. in celcius\n",
"L=540;   //L in kcal/kg\n",
"Q1=m1*c*delT;     //calculating heat in kcal\n",
"Q2=500-Q1;        //calculating heat available to convert water at 100 celcius to steam\n",
"msteam=Q2/L;  //calculating mass of steam in kg\n",
"disp(msteam,'Steam produced in kg = ');  //displaying result."
   ]
   }
,
{
		   "cell_type": "markdown",
		   "metadata": {},
		   "source": [
			"## Example 9.15: 15.sce"
		   ]
		  },
  {
"cell_type": "code",
	   "execution_count": null,
	   "metadata": {
	    "collapsed": true
	   },
	   "outputs": [],
"source": [
"clc;\n",
"deltice=10;     //change in temp of ice in celcius\n",
"deltwater=20;   //change in temp of water in celcius\n",
"mwater=0.5;     //mass of water in kg\n",
"cwater=4.185;   //specific heat of water in kJ/kg.celcius\n",
"Lice=335;       //latent heat in kJ/kg\n",
"cice=2.09;      //specific heat of ice in kJ/kg.celcius\n",
"mice=(mwater*cwater*deltwater)/((cice*deltice)+Lice);\n",
"disp(mice*1000,'Minimum amount of ice in gram = ');  //displaying result."
   ]
   }
,
{
		   "cell_type": "markdown",
		   "metadata": {},
		   "source": [
			"## Example 9.18: 18.sce"
		   ]
		  },
  {
"cell_type": "code",
	   "execution_count": null,
	   "metadata": {
	    "collapsed": true
	   },
	   "outputs": [],
"source": [
"clc;\n",
"g=9.8;      //gravitational constant in m/sec square\n",
"Lf=3.35*10^5;             //Latent heat of fusion in J/kg\n",
"h=Lf/g;        //calculating height in metre using potential energy(m*g*h)=(mass*heat of fusion) \n",
"disp(h,'Height of falling in metre = ');   //displaying result."
   ]
   }
,
{
		   "cell_type": "markdown",
		   "metadata": {},
		   "source": [
			"## Example 9.19: 19.sce"
		   ]
		  },
  {
"cell_type": "code",
	   "execution_count": null,
	   "metadata": {
	    "collapsed": true
	   },
	   "outputs": [],
"source": [
"clc;\n",
"m=0.8;     //mass of water in kg\n",
"c=4185;    //specific heat in J/kg.celcius\n",
"delT=100-20;  //change in temperature in celcius\n",
"Q=m*c*delT;  //calculating heat required in Joule\n",
"P=10^3;      //Power in J/sec\n",
"t=Q/P;      //calculating time using P=(Q/t)\n",
"disp(t,'Time required to raise temperature to 100 degree celcius in second = ');    //displaying result.\n",
"disp(t/60,'Time in minutes = ');   //displaying result."
   ]
   }
,
{
		   "cell_type": "markdown",
		   "metadata": {},
		   "source": [
			"## Example 9.2: 2.sce"
		   ]
		  },
  {
"cell_type": "code",
	   "execution_count": null,
	   "metadata": {
	    "collapsed": true
	   },
	   "outputs": [],
"source": [
"clc;\n",
"tf=80;     //temp in farenheit\n",
"tc=(5/9)*(tf-32);   //calculating temp in celcius\n",
"disp(tc,'Temperature in celcius = ');  //displaying result"
   ]
   }
,
{
		   "cell_type": "markdown",
		   "metadata": {},
		   "source": [
			"## Example 9.3: 3.sce"
		   ]
		  },
  {
"cell_type": "code",
	   "execution_count": null,
	   "metadata": {
	    "collapsed": true
	   },
	   "outputs": [],
"source": [
"clc;\n",
"tc=80;     //temp in celcius\n",
"tf=((9/5)*tc)+32;   //calculating temp in farenheit\n",
"disp(tf,'Temperature in farenheit = ');  //displaying result"
   ]
   }
,
{
		   "cell_type": "markdown",
		   "metadata": {},
		   "source": [
			"## Example 9.4: 4.sce"
		   ]
		  },
  {
"cell_type": "code",
	   "execution_count": null,
	   "metadata": {
	    "collapsed": true
	   },
	   "outputs": [],
"source": [
"clc;\n",
"tf=-362;     //temp in farenheit\n",
"tc=(5/9)*(tf-32);   //calculating temp in celcius\n",
"disp(tc,'Temperature in celcius = ');  //displaying result"
   ]
   }
,
{
		   "cell_type": "markdown",
		   "metadata": {},
		   "source": [
			"## Example 9.5: 5.sce"
		   ]
		  },
  {
"cell_type": "code",
	   "execution_count": null,
	   "metadata": {
	    "collapsed": true
	   },
	   "outputs": [],
"source": [
"clc;\n",
"tc=-210;     //temp in celcius\n",
"tf=((9/5)*tc)+32;   //calculating temp in farenheit\n",
"disp(tf,'Temperature in farenheit = ');  //displaying result"
   ]
   }
,
{
		   "cell_type": "markdown",
		   "metadata": {},
		   "source": [
			"## Example 9.6: 6.sce"
		   ]
		  },
  {
"cell_type": "code",
	   "execution_count": null,
	   "metadata": {
	    "collapsed": true
	   },
	   "outputs": [],
"source": [
"clc;\n",
"delt=80-20;     //change in temp in celcius\n",
"m=3;        //mass in lb\n",
"c=4185;      //specific heat in J/kg.celcius\n",
"Q=m*c*delt;    //calculating heat required\n",
"disp(Q,'Heat required in Joule = ');  //displaying result"
   ]
   }
,
{
		   "cell_type": "markdown",
		   "metadata": {},
		   "source": [
			"## Example 9.7: 7.sce"
		   ]
		  },
  {
"cell_type": "code",
	   "execution_count": null,
	   "metadata": {
	    "collapsed": true
	   },
	   "outputs": [],
"source": [
"clc;\n",
"Q=200;   //heat in Btu(British Thermal Unit)\n",
"m=50;    //mass in lb\n",
"c=0.5;   //specific heat capacity inBtu/lb.F\n",
"delT=Q/(m*c);  //calculating change in temperatur using Q=mc(del T)\n",
"disp(delT,'Change in Temperature in Farenheit = ');  //displaying result.\n",
"disp(25-delT,'Final Temperature in Farenheit = ');   //displaying result."
   ]
   }
,
{
		   "cell_type": "markdown",
		   "metadata": {},
		   "source": [
			"## Example 9.8: 8.sce"
		   ]
		  },
  {
"cell_type": "code",
	   "execution_count": null,
	   "metadata": {
	    "collapsed": true
	   },
	   "outputs": [],
"source": [
"clc;\n",
"Q=10;    //Heat in kilo calorie\n",
"m=1;     //mass in kg\n",
"delT=24;  //change in temperature in degree celcius\n",
"c=Q/(m*delT);   //calculating specific heat in kcal/(kg.degree celcius)\n",
"disp(c,'Spacific Heat in kcal/(kg.degree celcius) = ');  //displaying result."
   ]
   }
,
{
		   "cell_type": "markdown",
		   "metadata": {},
		   "source": [
			"## Example 9.9: 9.sce"
		   ]
		  },
  {
"cell_type": "code",
	   "execution_count": null,
	   "metadata": {
	    "collapsed": true
	   },
	   "outputs": [],
"source": [
"clc;\n",
"t=500/8;      //using heat gained = heat lost\n",
"disp(t,'Final temperature in Farenheit = ');    //displaying result"
   ]
   }
],
"metadata": {
		  "kernelspec": {
		   "display_name": "Scilab",
		   "language": "scilab",
		   "name": "scilab"
		  },
		  "language_info": {
		   "file_extension": ".sce",
		   "help_links": [
			{
			 "text": "MetaKernel Magics",
			 "url": "https://github.com/calysto/metakernel/blob/master/metakernel/magics/README.md"
			}
		   ],
		   "mimetype": "text/x-octave",
		   "name": "scilab",
		   "version": "0.7.1"
		  }
		 },
		 "nbformat": 4,
		 "nbformat_minor": 0
}
