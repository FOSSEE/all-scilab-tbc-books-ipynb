{
"cells": [
 {
		   "cell_type": "markdown",
	   "metadata": {},
	   "source": [
       "# Chapter 5: Energy"
	   ]
	},
{
		   "cell_type": "markdown",
		   "metadata": {},
		   "source": [
			"## Example 5.10: 10.sce"
		   ]
		  },
  {
"cell_type": "code",
	   "execution_count": null,
	   "metadata": {
	    "collapsed": true
	   },
	   "outputs": [],
"source": [
"clc;\n",
"p=1;   //power output in hp\n",
"p=1*746 //power output in Watt using 1hp = 746Watt \n",
"F=300; //Force in Newton\n",
"v=p/F; //calculating v in m/sec using P=F*v\n",
"disp(v,'Velocity in m/sec = ');  //displaying velocity in m/sec"
   ]
   }
,
{
		   "cell_type": "markdown",
		   "metadata": {},
		   "source": [
			"## Example 5.11: 11.sce"
		   ]
		  },
  {
"cell_type": "code",
	   "execution_count": null,
	   "metadata": {
	    "collapsed": true
	   },
	   "outputs": [],
"source": [
"clc;\n",
"m=1000;    //mass in kg\n",
"v=20;      //velocity in m/sec\n",
"KE=(m*v*v)/2;  //calculating kinetic energy using KE=1/2*(m*v*v)\n",
"disp(KE,'Kinetic Energy in Joule = ');  //displaying kinetic energy in Joule."
   ]
   }
,
{
		   "cell_type": "markdown",
		   "metadata": {},
		   "source": [
			"## Example 5.12: 12.sce"
		   ]
		  },
  {
"cell_type": "code",
	   "execution_count": null,
	   "metadata": {
	    "collapsed": true
	   },
	   "outputs": [],
"source": [
"clc;\n",
"m=1;     //mass in kg\n",
"KE=1;    //Knetic Energy in Joule\n",
"v=sqrt((2*KE)/m);   //calculating velocity in m/sec using KE=1/2(m*v*v)\n",
"disp(v,'Velocity in m/sec = ');  //displaying velocity in m/sec"
   ]
   }
,
{
		   "cell_type": "markdown",
		   "metadata": {},
		   "source": [
			"## Example 5.13: 13.sce"
		   ]
		  },
  {
"cell_type": "code",
	   "execution_count": null,
	   "metadata": {
	    "collapsed": true
	   },
	   "outputs": [],
"source": [
"clc;\n",
"v=15;       //velocity in ft/sec\n",
"w=128;      //weight in lb\n",
"g=32;       //g in ft/sec square\n",
"m=w/g;      //calculating m in slugs\n",
"KE=(1/2)*(m*v*v);  //calculating KE in ft.lb\n",
"disp(KE,'Kinetic Energy in ft.lb = ');  //displaying result"
   ]
   }
,
{
		   "cell_type": "markdown",
		   "metadata": {},
		   "source": [
			"## Example 5.14: 14.sce"
		   ]
		  },
  {
"cell_type": "code",
	   "execution_count": null,
	   "metadata": {
	    "collapsed": true
	   },
	   "outputs": [],
"source": [
"clc;\n",
"w=2500;        //weight in lb\n",
"v=40;          //velocity in mi/hr\n",
"m=w/g;         //calculating mass in slugs\n",
"v=40*1.47;     //converting velocity in ft/sec\n",
"KE=(1/2)*(m*v*v);  //calculating Kinetic energy in ft.lb\n",
"disp(KE,'Kinetic Energy in ft.lb = ');  //displaying result"
   ]
   }
,
{
		   "cell_type": "markdown",
		   "metadata": {},
		   "source": [
			"## Example 5.15: 15.sce"
		   ]
		  },
  {
"cell_type": "code",
	   "execution_count": null,
	   "metadata": {
	    "collapsed": true
	   },
	   "outputs": [],
"source": [
"clc;\n",
"h=7-3;   //height above ground in ft\n",
"g=32;    //g in ft/sec square\n",
"v=sqrt(2*g*h);  //calculating velocity in ft/sec since PE=KE\n",
"disp(v,'Velocity in ft/sec = ');  //displaying result"
   ]
   }
,
{
		   "cell_type": "markdown",
		   "metadata": {},
		   "source": [
			"## Example 5.16: 16.sce"
		   ]
		  },
  {
"cell_type": "code",
	   "execution_count": null,
	   "metadata": {
	    "collapsed": true
	   },
	   "outputs": [],
"source": [
"clc;\n",
"v=20;   //velocity in m/sec\n",
"g=9.8;  //g in m/sec square\n",
"h=200;  //height in m\n",
"diff=(v*v)/(2*9.8*200);  //calculating Final KE/Initial PE\n",
"disp((1-diff)*100,'Percent of initial PE lost = '); //displaying result"
   ]
   }
,
{
		   "cell_type": "markdown",
		   "metadata": {},
		   "source": [
			"## Example 5.17: 17.sce"
		   ]
		  },
  {
"cell_type": "code",
	   "execution_count": null,
	   "metadata": {
	    "collapsed": true
	   },
	   "outputs": [],
"source": [
"clc;\n",
"w=3;   //weight in lb\n",
"v=15;  //velocity in ft/sec\n",
"g=32;  //g in ft/sec square\n",
"s=(1/24); //s in ft\n",
"F=(w*v*v)/(2*g*s);  //calculating force exerted in lb\n",
"disp(F,'Force exerted in lb = '); //displaying result"
   ]
   }
,
{
		   "cell_type": "markdown",
		   "metadata": {},
		   "source": [
			"## Example 5.18: 18.sce"
		   ]
		  },
  {
"cell_type": "code",
	   "execution_count": null,
	   "metadata": {
	    "collapsed": true
	   },
	   "outputs": [],
"source": [
"clc;\n",
"g=9.8;      //g in m/sec square\n",
"h=2;        //height in m\n",
"F=100;     //force in Newton\n",
"s=15;      //s in m\n",
"v=2;       //velocity in m/sec\n",
"m=30;      //mass in 30 kg\n",
"W=F*s;     //calculating work in Joule\n",
"delKE=(1/2)*(m*v*v);  //calculating change in KE in Joule\n",
"delPE=m*g*h;          //calculating change in PE in Joule\n",
"Wf=W-delKE-delPE;     //calculating work in Joule\n",
"Ff=Wf/s;              //calculating frictional force in Newton\n",
"disp(Ff,'Frictional Force in Newton = ');  //displaying result"
   ]
   }
,
{
		   "cell_type": "markdown",
		   "metadata": {},
		   "source": [
			"## Example 5.19: 19.sce"
		   ]
		  },
  {
"cell_type": "code",
	   "execution_count": null,
	   "metadata": {
	    "collapsed": true
	   },
	   "outputs": [],
"source": [
"clc;\n",
"t=1;        //time in sec\n",
"m=4*10^9;   //m in kg\n",
"c=3*10^8;   //velocity of light in m/sec\n",
"E=m*c*c;    //calculating Energy in Joule using Einstein's equation: E=m*c*c\n",
"P=E/t;      //calculating Power output in Watt\n",
"disp(P,'Power Output in Watt = ');  //displaying result"
   ]
   }
,
{
		   "cell_type": "markdown",
		   "metadata": {},
		   "source": [
			"## Example 5.20: 20.sce"
		   ]
		  },
  {
"cell_type": "code",
	   "execution_count": null,
	   "metadata": {
	    "collapsed": true
	   },
	   "outputs": [],
"source": [
"clc;\n",
"P=10^8;    //power in Watt\n",
"t=60*60*24;   //t in seconds for 1 day\n",
"E=P*t;      //calculating energy in Joule using E=P*t\n",
"m=E/(c*c);  //calculating m in kg using Einstein's equation:E=m*c*c\n",
"disp(m,'Mass in kg = ');  //displaying result"
   ]
   }
,
{
		   "cell_type": "markdown",
		   "metadata": {},
		   "source": [
			"## Example 5.2: 2.sce"
		   ]
		  },
  {
"cell_type": "code",
	   "execution_count": null,
	   "metadata": {
	    "collapsed": true
	   },
	   "outputs": [],
"source": [
"clc;\n",
"F=60;      //force in lb\n",
"s=10;     //distance inft\n",
"W=F*s;   //calculating weight\n",
"disp(W,'Weight in ft.lb = ');  //displaying result"
   ]
   }
,
{
		   "cell_type": "markdown",
		   "metadata": {},
		   "source": [
			"## Example 5.3: 3.sce"
		   ]
		  },
  {
"cell_type": "code",
	   "execution_count": null,
	   "metadata": {
	    "collapsed": true
	   },
	   "outputs": [],
"source": [
"clc;\n",
"F=2000;      //force in lb\n",
"s=80;     //distance inft\n",
"W=F*s;   //calculating weight\n",
"disp(W,'Weight in ft.lb = ');  //displaying result\n",
"disp(W,'Potential Energy in ft.lb = ');   //displaying result"
   ]
   }
,
{
		   "cell_type": "markdown",
		   "metadata": {},
		   "source": [
			"## Example 5.4: 4.sce"
		   ]
		  },
  {
"cell_type": "code",
	   "execution_count": null,
	   "metadata": {
	    "collapsed": true
	   },
	   "outputs": [],
"source": [
"clc;\n",
"g=9.8;      //gravitational constant in m/sec square\n",
"h=1.5;     //height in m\n",
"m=2;     //mass in kg\n",
"W=m*g*h;   //calculating weight\n",
"disp(W,'Weight in Joule = ');  //displaying result\n",
"disp(W,'Potential Energy in Joule = ');   //displaying result"
   ]
   }
,
{
		   "cell_type": "markdown",
		   "metadata": {},
		   "source": [
			"## Example 5.5: 5.sce"
		   ]
		  },
  {
"cell_type": "code",
	   "execution_count": null,
	   "metadata": {
	    "collapsed": true
	   },
	   "outputs": [],
"source": [
"clc;\n",
"g=9.8;      //gravitational constant in m/sec square\n",
"m=2;     //mass in kg\n",
"W=m*g;   //calculating weight\n",
"disp(W,'Weight in Newton = ');  //displaying result"
   ]
   }
,
{
		   "cell_type": "markdown",
		   "metadata": {},
		   "source": [
			"## Example 5.7: 7.sce"
		   ]
		  },
  {
"cell_type": "code",
	   "execution_count": null,
	   "metadata": {
	    "collapsed": true
	   },
	   "outputs": [],
"source": [
"clc;\n",
"F=150;    //F in lb\n",
"s=10;     //distance in ft\n",
"t=5;      //time in sec\n",
"P=(F*s)/t;  //Power in ft.lb/sec\n",
"disp(P/550,'Power in hp = ');   //displaying power in hp"
   ]
   }
,
{
		   "cell_type": "markdown",
		   "metadata": {},
		   "source": [
			"## Example 5.8: 8.sce"
		   ]
		  },
  {
"cell_type": "code",
	   "execution_count": null,
	   "metadata": {
	    "collapsed": true
	   },
	   "outputs": [],
"source": [
"clc;\n",
"s=80;       //height in m\n",
"p=20;       //power of hoist in hp\n",
"m=500;     //weight in kg\n",
"g=9.8;     //gravitational constant in m/sec square\n",
"e=0.8;     //efficiency = 80 percent\n",
"F=m*g;     //Force in Newton\n",
"P=e*p*746;  //calculating power in watt\n",
"t=(F*s)/P;  //calculating time required\n",
"disp(t,'Time required in sec = ');  //displaying time required."
   ]
   }
,
{
		   "cell_type": "markdown",
		   "metadata": {},
		   "source": [
			"## Example 5.9: 9.sce"
		   ]
		  },
  {
"cell_type": "code",
	   "execution_count": null,
	   "metadata": {
	    "collapsed": true
	   },
	   "outputs": [],
"source": [
"clc;\n",
"v=10;      //velocity in min/hr\n",
"p=80;      //power required in hp\n",
"v=v*1.47;   //converting v to ft/sec\n",
"P=p*550;    //converting P to ft.lb/sec\n",
"F=P/v;      //calculating resistive force required\n",
"disp(F,'Resistive force required in lb = ');  //displaying resistive force required."
   ]
   }
],
"metadata": {
		  "kernelspec": {
		   "display_name": "Scilab",
		   "language": "scilab",
		   "name": "scilab"
		  },
		  "language_info": {
		   "file_extension": ".sce",
		   "help_links": [
			{
			 "text": "MetaKernel Magics",
			 "url": "https://github.com/calysto/metakernel/blob/master/metakernel/magics/README.md"
			}
		   ],
		   "mimetype": "text/x-octave",
		   "name": "scilab",
		   "version": "0.7.1"
		  }
		 },
		 "nbformat": 4,
		 "nbformat_minor": 0
}
