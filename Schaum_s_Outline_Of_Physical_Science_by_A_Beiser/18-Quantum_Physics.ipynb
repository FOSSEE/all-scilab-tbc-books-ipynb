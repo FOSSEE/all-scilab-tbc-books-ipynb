{
"cells": [
 {
		   "cell_type": "markdown",
	   "metadata": {},
	   "source": [
       "# Chapter 18: Quantum Physics"
	   ]
	},
{
		   "cell_type": "markdown",
		   "metadata": {},
		   "source": [
			"## Example 18.10: 10.sce"
		   ]
		  },
  {
"cell_type": "code",
	   "execution_count": null,
	   "metadata": {
	    "collapsed": true
	   },
	   "outputs": [],
"source": [
"clc;\n",
"m=10^3;      //mass in kg\n",
"v=20;        //velocity in m/sec\n",
"h=6.63*10^-34;  //planck's constant in J.sec\n",
"l=h/(m*v);         //calculating energy\n",
"disp(l,'Wavelength in m = ');    //displaying reuslt"
   ]
   }
,
{
		   "cell_type": "markdown",
		   "metadata": {},
		   "source": [
			"## Example 18.11: 11.sce"
		   ]
		  },
  {
"cell_type": "code",
	   "execution_count": null,
	   "metadata": {
	    "collapsed": true
	   },
	   "outputs": [],
"source": [
"clc;\n",
"e=1.6*10^-19;      //charge\n",
"ke=1.5*10^4;            //kinetic energy in eV\n",
"KE=ke*e;         //calculating kinetic energy\n",
"m=9.1*10^-31;      //mass in kg\n",
"disp(KE,'Kinetic Energy in Joule = ');     //displaying result\n",
"v=sqrt((2*KE)/m);        //calculating velocity\n",
"disp(v,'Velocity in m/sec = ');      //displaying result\n",
"l=h/(m*v);    //calculating wavelength\n",
"disp(l,'Wavelength in metre = ');     h=6.63*10^-34;  //planck's constant in J.sec"
   ]
   }
,
{
		   "cell_type": "markdown",
		   "metadata": {},
		   "source": [
			"## Example 18.1: 1.sce"
		   ]
		  },
  {
"cell_type": "code",
	   "execution_count": null,
	   "metadata": {
	    "collapsed": true
	   },
	   "outputs": [],
"source": [
"clc;\n",
"f=5*10^14;     //frequency in Hz (given)\n",
"h=6.63*10^-34;  //planck's constant in J.sec\n",
"E=h*f;         //calculating energy\n",
"disp(3*E,'Total Energy in Joule = ');    //displaying reuslt"
   ]
   }
,
{
		   "cell_type": "markdown",
		   "metadata": {},
		   "source": [
			"## Example 18.13: 13.sce"
		   ]
		  },
  {
"cell_type": "code",
	   "execution_count": null,
	   "metadata": {
	    "collapsed": true
	   },
	   "outputs": [],
"source": [
"clc;\n",
"h=6.63*10^-34;     //planck's constant in J.sec\n",
"delx=10^-9;        //in m\n",
"m=9.1*10^-31;      //mass in kg\n",
"u=h/(2*%pi*delx);  //uncertainty principle\n",
"disp(u,'Uncertainty in electrons momentum in kg.m/sec');  //displaying result\n",
"delv=u/m;     //uncertainty principle\n",
"disp(delv,'Uncertainty in electrons velocity in m/sec');  //displaying result\n",
"disp(u*1,'Uncertainty in electrons position in m');  //displaying result"
   ]
   }
,
{
		   "cell_type": "markdown",
		   "metadata": {},
		   "source": [
			"## Example 18.14: 14.sce"
		   ]
		  },
  {
"cell_type": "code",
	   "execution_count": null,
	   "metadata": {
	    "collapsed": true
	   },
	   "outputs": [],
"source": [
"clc;\n",
"h=6.63*10^-34;     //planck's constant in J.sec\n",
"delx=10^-10;        //in m\n",
"m=9.1*10^-31;      //mass in kg\n",
"u=h/(2*%pi*delx);  //uncertainty principle\n",
"disp(u,'Uncertainty in electrons momentum in kg.m/sec = ');  //displaying result\n",
"KE=(1/(2*m))*(u*u); //uncertainty principle\n",
"disp(KE,'Uncertainty in electrons kinetic energy in Joule = ');  //displaying result"
   ]
   }
,
{
		   "cell_type": "markdown",
		   "metadata": {},
		   "source": [
			"## Example 18.2: 2.sce"
		   ]
		  },
  {
"cell_type": "code",
	   "execution_count": null,
	   "metadata": {
	    "collapsed": true
	   },
	   "outputs": [],
"source": [
"clc;\n",
"c=3*10^8;      //velocity in m/sec\n",
"l=5.5*10^-7;    //wavelength in m\n",
"f=c/l;          //calculating frequency\n",
"disp(f,'Frequency in Hz = ');    //displaying reuslt\n",
"h=6.63*10^-34;  //planck's constant in J.sec\n",
"E=h*f;         //calculating energy\n",
"disp(E,'Energy in Joule = ');    //displaying reuslt\n",
"disp((100/E),'No. of photons emitted per second = ');  //displaying result"
   ]
   }
,
{
		   "cell_type": "markdown",
		   "metadata": {},
		   "source": [
			"## Example 18.3: 3.sce"
		   ]
		  },
  {
"cell_type": "code",
	   "execution_count": null,
	   "metadata": {
	    "collapsed": true
	   },
	   "outputs": [],
"source": [
"clc;\n",
"m=9.1*10^-31;     //mass of electron in kg\n",
"v=10^7;           //velocity in m/sec\n",
"KE=(1/2)*m*v*v;   //calculating kinetic energy in Joule\n",
"disp(KE,'Kinetic energy in Joule = ');  //displaying result\n",
"disp(KE/(1.6*10^-19),'Kinetic energy in eV = ');  //displaying result"
   ]
   }
,
{
		   "cell_type": "markdown",
		   "metadata": {},
		   "source": [
			"## Example 18.4: 4.sce"
		   ]
		  },
  {
"cell_type": "code",
	   "execution_count": null,
	   "metadata": {
	    "collapsed": true
	   },
	   "outputs": [],
"source": [
"clc;\n",
"e=1.6*10^-19;      //charge\n",
"ke=200;            //kinetic energy in eV\n",
"KE=ke*e;         //calculating kinetic energy\n",
"m=1.67*10^-27;      //mass in kg\n",
"disp(KE,'Kinetic Energy in Joule = ');     //displaying result\n",
"v=sqrt((2*KE)/m);        //calculating velocity\n",
"disp(v,'Velocity in m/sec = ');      //displaying result"
   ]
   }
,
{
		   "cell_type": "markdown",
		   "metadata": {},
		   "source": [
			"## Example 18.5: 5.sce"
		   ]
		  },
  {
"cell_type": "code",
	   "execution_count": null,
	   "metadata": {
	    "collapsed": true
	   },
	   "outputs": [],
"source": [
"clc;\n",
"e=1.6*10^-19;      //charge\n",
"c=3*10^8;         //velocity in m/sec\n",
"ke=106*10^6;            //kinetic energy in eV\n",
"KE=ke*e;         //calculating kinetic energy\n",
"disp(KE,'Kinetic Energy in Joule = ');     //displaying result\n",
"m=KE/(c*c);        //Einstein's equation\n",
"disp(m,'Mass in kg = ');      //displaying result\n",
"disp(m/(9.1*10^-31),'Times electron mass = ');  //displaying result"
   ]
   }
,
{
		   "cell_type": "markdown",
		   "metadata": {},
		   "source": [
			"## Example 18.6: 6.sce"
		   ]
		  },
  {
"cell_type": "code",
	   "execution_count": null,
	   "metadata": {
	    "collapsed": true
	   },
	   "outputs": [],
"source": [
"clc;\n",
"e=1.6*10^-19;      //charge\n",
"c=3*10^8;         //velocity in m/sec\n",
"KE=1.6*10^-19;         //change in energy\n",
"m=KE/(c*c);        //Einstein's equation\n",
"disp(m,'Mass in kg = ');      //displaying result\n",
"disp(m/(3*10^-26),'Times mass of H20 molecule = ');  //displaying result"
   ]
   }
,
{
		   "cell_type": "markdown",
		   "metadata": {},
		   "source": [
			"## Example 18.7: 7.sce"
		   ]
		  },
  {
"cell_type": "code",
	   "execution_count": null,
	   "metadata": {
	    "collapsed": true
	   },
	   "outputs": [],
"source": [
"clc;\n",
"c=3*10^8;      //velocity in m/sec\n",
"l=5*10^-7;    //wavelength in m\n",
"f=c/l;          //calculating frequency\n",
"disp(f,'Frequency in Hz = ');    //displaying reuslt\n",
"h=6.63*10^-34;  //planck's constant in J.sec\n",
"E=h*f;         //calculating energy\n",
"disp(E,'Energy in Joule = ');    //displaying reuslt\n",
"disp(E/(1.6*10^-19),'(a)Max. energy of photons that emerge = ');  //displaying result"
   ]
   }
,
{
		   "cell_type": "markdown",
		   "metadata": {},
		   "source": [
			"## Example 18.8: 8.sce"
		   ]
		  },
  {
"cell_type": "code",
	   "execution_count": null,
	   "metadata": {
	    "collapsed": true
	   },
	   "outputs": [],
"source": [
"clc;\n",
"h=6.63*10^-34;  //planck's constant in J.sec\n",
"e=1.6*10^-19;   //in Coloumb\n",
"V=10^4;         //potential difference in Volt\n",
"f=(e*V)/h;          //calculating frequency\n",
"disp(f,'Frequency in Hz = ');    //displaying reuslt"
   ]
   }
,
{
		   "cell_type": "markdown",
		   "metadata": {},
		   "source": [
			"## Example 18.9: 9.sce"
		   ]
		  },
  {
"cell_type": "code",
	   "execution_count": null,
	   "metadata": {
	    "collapsed": true
	   },
	   "outputs": [],
"source": [
"clc;\n",
"c=3*10^8;      //velocity in m/sec\n",
"l=2*10^-11;    //wavelength in m\n",
"f=c/l;          //calculating frequency\n",
"e=1.6*10^-19;   //in Coloumb\n",
"disp(f,'Frequency in Hz = ');    //displaying reuslt\n",
"h=6.63*10^-34;  //planck's constant in J.sec\n",
"V=(h*f)/e;         //calculating energy\n",
"disp(V,'operating Voltage in Volt = ');    //displaying reuslt"
   ]
   }
],
"metadata": {
		  "kernelspec": {
		   "display_name": "Scilab",
		   "language": "scilab",
		   "name": "scilab"
		  },
		  "language_info": {
		   "file_extension": ".sce",
		   "help_links": [
			{
			 "text": "MetaKernel Magics",
			 "url": "https://github.com/calysto/metakernel/blob/master/metakernel/magics/README.md"
			}
		   ],
		   "mimetype": "text/x-octave",
		   "name": "scilab",
		   "version": "0.7.1"
		  }
		 },
		 "nbformat": 4,
		 "nbformat_minor": 0
}
