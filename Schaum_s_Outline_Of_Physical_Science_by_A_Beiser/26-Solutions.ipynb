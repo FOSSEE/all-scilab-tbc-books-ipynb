{
"cells": [
 {
		   "cell_type": "markdown",
	   "metadata": {},
	   "source": [
       "# Chapter 26: Solutions"
	   ]
	},
{
		   "cell_type": "markdown",
		   "metadata": {},
		   "source": [
			"## Example 26.10: 10.sce"
		   ]
		  },
  {
"cell_type": "code",
	   "execution_count": null,
	   "metadata": {
	    "collapsed": true
	   },
	   "outputs": [],
"source": [
"clc;\n",
"disp(28.1/0.214,'Molecular mass = ')    //displaying result"
   ]
   }
,
{
		   "cell_type": "markdown",
		   "metadata": {},
		   "source": [
			"## Example 26.1: 1.sce"
		   ]
		  },
  {
"cell_type": "code",
	   "execution_count": null,
	   "metadata": {
	    "collapsed": true
	   },
	   "outputs": [],
"source": [
"clc;\n",
"disp((3/2)*100,'Volume of O2 = ');   //displaying result"
   ]
   }
,
{
		   "cell_type": "markdown",
		   "metadata": {},
		   "source": [
			"## Example 26.2: 2.sce"
		   ]
		  },
  {
"cell_type": "code",
	   "execution_count": null,
	   "metadata": {
	    "collapsed": true
	   },
	   "outputs": [],
"source": [
"clc;\n",
"disp(200/122.56,'Moles = ');   //displaying result\n",
"disp(2.45*22.4,'Volume = ');     //displaying result"
   ]
   }
,
{
		   "cell_type": "markdown",
		   "metadata": {},
		   "source": [
			"## Example 26.3: 3.sce"
		   ]
		  },
  {
"cell_type": "code",
	   "execution_count": null,
	   "metadata": {
	    "collapsed": true
	   },
	   "outputs": [],
"source": [
"clc;\n",
"disp(2/22.4,'Moles = ');   //displaying result\n",
"disp(0.179*84,'Mass = ');     //displaying result"
   ]
   }
,
{
		   "cell_type": "markdown",
		   "metadata": {},
		   "source": [
			"## Example 26.4: 4.sce"
		   ]
		  },
  {
"cell_type": "code",
	   "execution_count": null,
	   "metadata": {
	    "collapsed": true
	   },
	   "outputs": [],
"source": [
"clc;\n",
"p=1;      //atm\n",
"v=1000;      //volume in litres\n",
"t=673;      //Kelvin\n",
"R=0.0821;     //constant in atm-l/mole-K\n",
"n=(p*v)/(R*t);  //calculating n\n",
"disp(n,'n = ');  //displaying result\n",
"disp(6.03*159.7,'Mass = ');  //displaying result\n",
"disp(12.1*55.85,'Mass of Fe = ');    //displaying result"
   ]
   }
,
{
		   "cell_type": "markdown",
		   "metadata": {},
		   "source": [
			"## Example 26.5: 5.sce"
		   ]
		  },
  {
"cell_type": "code",
	   "execution_count": null,
	   "metadata": {
	    "collapsed": true
	   },
	   "outputs": [],
"source": [
"clc;\n",
"N=14.01;  //mass of N\n",
"H=1.008;  //mass of H\n",
"m=N+(3*H);      //calculating mass\n",
"moles=1/m     //cal moles\n",
"v=moles*22.4;      //cal vol\n",
"disp(v,'Volume = ');  //displaying result\n",
"disp((1*1.32*373)/(1.2*273),'V2 = ');    //displaying result"
   ]
   }
,
{
		   "cell_type": "markdown",
		   "metadata": {},
		   "source": [
			"## Example 26.6: 6.sce"
		   ]
		  },
  {
"cell_type": "code",
	   "execution_count": null,
	   "metadata": {
	    "collapsed": true
	   },
	   "outputs": [],
"source": [
"clc;\n",
"p=4;      //atm\n",
"v=40;      //volume in litres\n",
"t=773;      //Kelvin\n",
"R=0.0821;     //constant in atm-l/mole-K\n",
"n=(p*v)/(R*t);  //calculating n\n",
"disp(n,'n = ');  //displaying result\n",
"u=238.03;   //mass of U\n",
"f=19.00;  //mass of F\n",
"m=u+(6*f);  //cal mass\n",
"disp(m*2.52,'Mass = ');  //displaying result"
   ]
   }
,
{
		   "cell_type": "markdown",
		   "metadata": {},
		   "source": [
			"## Example 26.7: 7.sce"
		   ]
		  },
  {
"cell_type": "code",
	   "execution_count": null,
	   "metadata": {
	    "collapsed": true
	   },
	   "outputs": [],
"source": [
"clc;\n",
"p=0.263*10^5;      //Pascal\n",
"v=120;      //volume in m cube\n",
"t=223;      //Kelvin\n",
"R=8.31;     //constant\n",
"n=(p*v)/(R*t);  //calculating n\n",
"disp(n,'n = ');  //displaying result\n",
"m=n*4;      //cal mass of He\n",
"disp(m,'Mass of He = ');  //displaying result"
   ]
   }
,
{
		   "cell_type": "markdown",
		   "metadata": {},
		   "source": [
			"## Example 26.8: 8.sce"
		   ]
		  },
  {
"cell_type": "code",
	   "execution_count": null,
	   "metadata": {
	    "collapsed": true
	   },
	   "outputs": [],
"source": [
"clc;\n",
"c=12.01;\n",
"h=1.008;\n",
"v=22.4;    //vol\n",
"m=(2*c)+(4*h);  //cal mass\n",
"d=m/v;  //cal density\n",
"disp(d,'Density in g/litre = ');  //displaying result"
   ]
   }
,
{
		   "cell_type": "markdown",
		   "metadata": {},
		   "source": [
			"## Example 26.9: 9.sce"
		   ]
		  },
  {
"cell_type": "code",
	   "execution_count": null,
	   "metadata": {
	    "collapsed": true
	   },
	   "outputs": [],
"source": [
"clc;\n",
"p=5;      //atm\n",
"v=1;      //volume in litres\n",
"t=293;      //Kelvin\n",
"R=0.0821;     //constant in atm-l/mole-K\n",
"n=(p*v)/(R*t);  //calculating n\n",
"disp(n,'n = ');  //displaying result\n",
"m=n*32;  //moles of O2\n",
"disp(m,'Moles of O2 = '); //displaying result\n",
"d=m/v;    //cal density\n",
"disp(d,'Density in g/litre = ');  //displaying result"
   ]
   }
,
{
		   "cell_type": "markdown",
		   "metadata": {},
		   "source": [
			"## Example 27.7: 7.sce"
		   ]
		  },
  {
"cell_type": "code",
	   "execution_count": null,
	   "metadata": {
	    "collapsed": true
	   },
	   "outputs": [],
"source": [
"clc;\n",
"disp(0.075*111,'Mass = '); //displaying result"
   ]
   }
],
"metadata": {
		  "kernelspec": {
		   "display_name": "Scilab",
		   "language": "scilab",
		   "name": "scilab"
		  },
		  "language_info": {
		   "file_extension": ".sce",
		   "help_links": [
			{
			 "text": "MetaKernel Magics",
			 "url": "https://github.com/calysto/metakernel/blob/master/metakernel/magics/README.md"
			}
		   ],
		   "mimetype": "text/x-octave",
		   "name": "scilab",
		   "version": "0.7.1"
		  }
		 },
		 "nbformat": 4,
		 "nbformat_minor": 0
}
