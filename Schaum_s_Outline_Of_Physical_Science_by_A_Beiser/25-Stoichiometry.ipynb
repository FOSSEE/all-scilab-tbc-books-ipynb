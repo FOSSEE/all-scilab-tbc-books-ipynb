{
"cells": [
 {
		   "cell_type": "markdown",
	   "metadata": {},
	   "source": [
       "# Chapter 25: Stoichiometry"
	   ]
	},
{
		   "cell_type": "markdown",
		   "metadata": {},
		   "source": [
			"## Example 25.10: 10.sce"
		   ]
		  },
  {
"cell_type": "code",
	   "execution_count": null,
	   "metadata": {
	    "collapsed": true
	   },
	   "outputs": [],
"source": [
"clc;\n",
"m=200;  //mass in g\n",
"o=16.00;  //atomic mass\n",
"moles=m/o;  //moles\n",
"m=6.25;     //moles of S\n",
"as=32.06;      //atomic mass of s\n",
"disp(m*as,'Mass of S = ');  //displaying result"
   ]
   }
,
{
		   "cell_type": "markdown",
		   "metadata": {},
		   "source": [
			"## Example 25.11: 11.sce"
		   ]
		  },
  {
"cell_type": "code",
	   "execution_count": null,
	   "metadata": {
	    "collapsed": true
	   },
	   "outputs": [],
"source": [
"clc;\n",
"c=12.01;   //mass of carbon\n",
"h=1.008;  //mass of hydrogen\n",
"mass=((2*c)+(2*h));     //calculating mass\n",
"o=16.00;      //mass of oxygen\n",
"moles=200/mass;      //moles\n",
"mo=2*o*19.20;  //mass of O2\n",
"disp(mo,'Mass of O2 in g= ');  //displaying result\n",
"mc=((2*o)+c)*15.36;  //mass of CO2;\n",
"disp(mc,'Mass of CO2 in g= ');  //displaying result"
   ]
   }
,
{
		   "cell_type": "markdown",
		   "metadata": {},
		   "source": [
			"## Example 25.12: 12.sce"
		   ]
		  },
  {
"cell_type": "code",
	   "execution_count": null,
	   "metadata": {
	    "collapsed": true
	   },
	   "outputs": [],
"source": [
"clc;\n",
"m=1000;  //mass of H2\n",
"fh=2.02;  //formula mass of hydrogen\n",
"fo=32.00;  //formula mass of oxygen\n",
"disp((m/fh),'Moles of H2 = ');  //displaying result\n",
"disp((m/fo),'MOles of O2 = ');  //displaying result\n",
"mass=62.5*18.02;  //mass\n",
"disp(mass,'Mass of H2O = ');  //displaying result\n",
"disp(432.5*2.02,'Mass of H2 = ');  //displaying result"
   ]
   }
,
{
		   "cell_type": "markdown",
		   "metadata": {},
		   "source": [
			"## Example 25.13: 13.sce"
		   ]
		  },
  {
"cell_type": "code",
	   "execution_count": null,
	   "metadata": {
	    "collapsed": true
	   },
	   "outputs": [],
"source": [
"clc;\n",
"Na=22.99;   //mass of Na\n",
"S=32.06;  //mass of S\n",
"O=16.00;   //mass of O\n",
"mass=((2*Na)+(1*S)+(4*O));     //calculating mass\n",
"m=100/mass; //moles\n",
"disp(m,'Moles = ');  //displaying result\n",
"disp(m*32.06,'Mass of S = ');  //displaying result\n",
"disp(22.99*1.408,'Mass of Na = ');   //displaying result"
   ]
   }
,
{
		   "cell_type": "markdown",
		   "metadata": {},
		   "source": [
			"## Example 25.15: 15.sce"
		   ]
		  },
  {
"cell_type": "code",
	   "execution_count": null,
	   "metadata": {
	    "collapsed": true
	   },
	   "outputs": [],
"source": [
"clc;\n",
"disp(128.8/32.06,'Moles of S = ');  //displaying result\n",
"disp(8.06/1.008,'Moles of H = ');  //displaying result"
   ]
   }
,
{
		   "cell_type": "markdown",
		   "metadata": {},
		   "source": [
			"## Example 25.16: 16.sce"
		   ]
		  },
  {
"cell_type": "code",
	   "execution_count": null,
	   "metadata": {
	    "collapsed": true
	   },
	   "outputs": [],
"source": [
"clc;\n",
"disp(57.54/79.91,'Moles of Br = ');  //displaying result\n",
"disp(17.29/12.01,'Moles of C = ');  //displaying result\n",
"disp(3.63/1.008,'Moles of H = ');    //displaying result"
   ]
   }
,
{
		   "cell_type": "markdown",
		   "metadata": {},
		   "source": [
			"## Example 25.17: 17.sce"
		   ]
		  },
  {
"cell_type": "code",
	   "execution_count": null,
	   "metadata": {
	    "collapsed": true
	   },
	   "outputs": [],
"source": [
"clc;\n",
"disp(100.9/12.01,'Moles of C = ');  //displaying result\n",
"disp(22.6/1.008,'Moles of H = ');    //displaying result"
   ]
   }
,
{
		   "cell_type": "markdown",
		   "metadata": {},
		   "source": [
			"## Example 25.2: 2.sce"
		   ]
		  },
  {
"cell_type": "code",
	   "execution_count": null,
	   "metadata": {
	    "collapsed": true
	   },
	   "outputs": [],
"source": [
"clc;\n",
"a=238.03;     //atomic mass\n",
"m=75;        //no. of moles\n",
"mass=m*a;   //calculating mass of U\n",
"n=6.023*10^23;    //avogadro's no.\n",
"no=m*n;        //calculating no. of atoms\n",
"disp(mass,'Mass of U in gram = ');      //displaying result\n",
"disp(no,'No. of atoms = ');     //displaying result"
   ]
   }
,
{
		   "cell_type": "markdown",
		   "metadata": {},
		   "source": [
			"## Example 25.3: 3.sce"
		   ]
		  },
  {
"cell_type": "code",
	   "execution_count": null,
	   "metadata": {
	    "collapsed": true
	   },
	   "outputs": [],
"source": [
"clc;\n",
"a=63.54;     //atomic mass of Cu\n",
"m=100;        //mass of Cu\n",
"moles=m/a;   //calculating moles of U\n",
"n=6.023*10^23;    //avogadro's no.\n",
"no=moles*n;        //calculating no. of atoms\n",
"disp(moles,'Maoles of U = ');      //displaying result\n",
"disp(no,'No. of atoms = ');     //displaying result"
   ]
   }
,
{
		   "cell_type": "markdown",
		   "metadata": {},
		   "source": [
			"## Example 25.4: 4.sce"
		   ]
		  },
  {
"cell_type": "code",
	   "execution_count": null,
	   "metadata": {
	    "collapsed": true
	   },
	   "outputs": [],
"source": [
"clc;\n",
"no=10^24;     //no of atoms\n",
"n=6.023*10^23;    //avogadro's no.\n",
"moles=no/n;        //calculating no. of moles\n",
"disp(moles,'Moles = ');      //displaying result"
   ]
   }
,
{
		   "cell_type": "markdown",
		   "metadata": {},
		   "source": [
			"## Example 25.5: 5.sce"
		   ]
		  },
  {
"cell_type": "code",
	   "execution_count": null,
	   "metadata": {
	    "collapsed": true
	   },
	   "outputs": [],
"source": [
"clc;\n",
"c=12.01;   //mass of carbon\n",
"h=1.008;  //mass of hydrogen\n",
"mass=((2*c)+(4*h))*9.4;     //calculating mass\n",
"disp(mass,'Required mass = ');  //displaying result\n",
"n=6.023*10^23;      //avogadro's no\n",
"ac=(2*9.4)*n;      //calculating atoms of c\n",
"disp(ac,'Atoms of C = '); //displaying result"
   ]
   }
,
{
		   "cell_type": "markdown",
		   "metadata": {},
		   "source": [
			"## Example 25.6: 6.sce"
		   ]
		  },
  {
"cell_type": "code",
	   "execution_count": null,
	   "metadata": {
	    "collapsed": true
	   },
	   "outputs": [],
"source": [
"clc;\n",
"c=12.01;   //mass of carbon\n",
"h=1.008;  //mass of hydrogen\n",
"o=16.00;  //mass of oxygen\n",
"mass=((6*c)+(12*h)+(6*o));     //calculating formula mass\n",
"m=500*454;        //mass of glucose in g\n",
"moles=m/mass;  //moles \n",
"disp(moles,'Moles = ');  //displaying result"
   ]
   }
,
{
		   "cell_type": "markdown",
		   "metadata": {},
		   "source": [
			"## Example 25.7: 7.sce"
		   ]
		  },
  {
"cell_type": "code",
	   "execution_count": null,
	   "metadata": {
	    "collapsed": true
	   },
	   "outputs": [],
"source": [
"clc;\n",
"pb=207.19;   //mass of carbon\n",
"n=14.01;  //mass of hydrogen\n",
"o=16.00;  //mass of oxygen\n",
"mass=((1*pb)+(2*n)+(6*o));     //calculating formula mass\n",
"m=28.02;        //no. of grams per mole\n",
"moles=m/mass;  //moles \n",
"disp(moles*100,'Proportion in percentage = ');  //displaying result"
   ]
   }
,
{
		   "cell_type": "markdown",
		   "metadata": {},
		   "source": [
			"## Example 25.8: 8.sce"
		   ]
		  },
  {
"cell_type": "code",
	   "execution_count": null,
	   "metadata": {
	    "collapsed": true
	   },
	   "outputs": [],
"source": [
"clc;\n",
"m=50;     //mass of N in g\n",
"a=22.99; //atomic mass in g/mole\n",
"mole=m/a;  //moles of Na\n",
"ac=35.46;  //atomic mass of chlorine\n",
"n=2.17;     //no. of moles\n",
"mass=n*ac;  //mass of Cl\n",
"disp(mole,'Moles of Na = ');  //displaying result\n",
"disp(mass,'Mass oc Cl = ');   //displaying result\n",
"ps=m/127;  //proportion of sodium\n",
"pc=mass/127;  //proportion of chlorine\n",
"disp(ps*100,'Proportion of Sodium = ');  //displaying result\n",
"disp(pc*100,'Proportion of Chlorine = ');  //displaying result"
   ]
   }
,
{
		   "cell_type": "markdown",
		   "metadata": {},
		   "source": [
			"## Example 25.9: 9.sce"
		   ]
		  },
  {
"cell_type": "code",
	   "execution_count": null,
	   "metadata": {
	    "collapsed": true
	   },
	   "outputs": [],
"source": [
"clc;\n",
"m=70;  //mass in g\n",
"a=14.01;  //atomic mass\n",
"moles=m/a;  //moles\n",
"h=1.008;  //atomic mass of hydrogen\n",
"mass=3*moles*h;  //mass of H\n",
"disp(moles,'Moles of N = ');  //displaying result\n",
"disp(mass,'Mass of H = ');  //displaying result\n",
"ma=15+70;  //mass of ammonia\n",
"disp((mass/ma)*100,'Proportion of Hydrogen = ');  //displaying result\n",
"disp((m/ma)*100,'Proportion of Nitrogen = ');  //displaying result"
   ]
   }
],
"metadata": {
		  "kernelspec": {
		   "display_name": "Scilab",
		   "language": "scilab",
		   "name": "scilab"
		  },
		  "language_info": {
		   "file_extension": ".sce",
		   "help_links": [
			{
			 "text": "MetaKernel Magics",
			 "url": "https://github.com/calysto/metakernel/blob/master/metakernel/magics/README.md"
			}
		   ],
		   "mimetype": "text/x-octave",
		   "name": "scilab",
		   "version": "0.7.1"
		  }
		 },
		 "nbformat": 4,
		 "nbformat_minor": 0
}
