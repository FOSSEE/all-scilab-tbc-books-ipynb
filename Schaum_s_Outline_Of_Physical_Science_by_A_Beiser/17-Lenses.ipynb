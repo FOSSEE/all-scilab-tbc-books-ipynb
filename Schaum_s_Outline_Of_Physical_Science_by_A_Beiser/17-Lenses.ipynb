{
"cells": [
 {
		   "cell_type": "markdown",
	   "metadata": {},
	   "source": [
       "# Chapter 17: Lenses"
	   ]
	},
{
		   "cell_type": "markdown",
		   "metadata": {},
		   "source": [
			"## Example 17.10: 10.sce"
		   ]
		  },
  {
"cell_type": "code",
	   "execution_count": null,
	   "metadata": {
	    "collapsed": true
	   },
	   "outputs": [],
"source": [
"clc;\n",
"hd=-36;    //in inch\n",
"h=2;       // in inch\n",
"m=hd/h;    //calculating magnification\n",
"q=-15;    //in ft\n",
"p=-q/m;      //in ft\n",
"f=(p*q)/(p+q);     //calculating focal length\n",
"disp(f,'Focal Length in ft = ');    //displaying result"
   ]
   }
,
{
		   "cell_type": "markdown",
		   "metadata": {},
		   "source": [
			"## Example 17.11: 11.sce"
		   ]
		  },
  {
"cell_type": "code",
	   "execution_count": null,
	   "metadata": {
	    "collapsed": true
	   },
	   "outputs": [],
"source": [
"clc;\n",
"f1=10;     //in cm\n",
"f2=-20;    //in cm\n",
"f=(f1*f2)/(f1+f2);   //calculating focal length\n",
"disp(f,'Focal length of the combination in cm = ');    //displaying result"
   ]
   }
,
{
		   "cell_type": "markdown",
		   "metadata": {},
		   "source": [
			"## Example 17.3: 3.sce"
		   ]
		  },
  {
"cell_type": "code",
	   "execution_count": null,
	   "metadata": {
	    "collapsed": true
	   },
	   "outputs": [],
"source": [
"clc;\n",
"p=24;      //in inch\n",
"f=16;      //inch\n",
"q=(p*f)/(p-f);     //calculating image distance\n",
"disp(q,'Distance of image in inch = ');    //displaying result\n",
"h=3;      //inch\n",
"hd=(-h*q)/p;     //calculating diameter\n",
"disp(hd,'Diameter in inch = ');   //displaying result"
   ]
   }
,
{
		   "cell_type": "markdown",
		   "metadata": {},
		   "source": [
			"## Example 17.4: 4.sce"
		   ]
		  },
  {
"cell_type": "code",
	   "execution_count": null,
	   "metadata": {
	    "collapsed": true
	   },
	   "outputs": [],
"source": [
"clc;\n",
"p=30;      //in cm\n",
"f=15;      //in cm\n",
"q=(p*f)/(p-f);     //calculating image distance\n",
"disp(q,'Distance of image in cm = ');    //displaying result\n",
"h=8;      //in cm\n",
"hd=(-h*q)/p;     //calculating diameter\n",
"disp(hd,'Diameter in cm = ');   //displaying result"
   ]
   }
,
{
		   "cell_type": "markdown",
		   "metadata": {},
		   "source": [
			"## Example 17.5: 5.sce"
		   ]
		  },
  {
"cell_type": "code",
	   "execution_count": null,
	   "metadata": {
	    "collapsed": true
	   },
	   "outputs": [],
"source": [
"clc;\n",
"p=100;      //in cm\n",
"f=40;      //in cm\n",
"q=(p*f)/(p-f);     //calculating image distance\n",
"disp(q,'Distance of image in cm = ');    //displaying result\n",
"h=6;      //in cm\n",
"hd=(-h*q)/p;     //calculating diameter\n",
"disp(hd,'Diameter in cm = ');   //displaying result"
   ]
   }
,
{
		   "cell_type": "markdown",
		   "metadata": {},
		   "source": [
			"## Example 17.6: 6.sce"
		   ]
		  },
  {
"cell_type": "code",
	   "execution_count": null,
	   "metadata": {
	    "collapsed": true
	   },
	   "outputs": [],
"source": [
"clc;\n",
"p=12;      //in ft\n",
"f=-2;      //in ft\n",
"q=(p*f)/(p-f);     //calculating image distance\n",
"disp(q,'Distance of image in ft = ');    //displaying result\n",
"m=-q/p;      //calculating magnification\n",
"disp(m,'Magnification = ');   //displaying result"
   ]
   }
,
{
		   "cell_type": "markdown",
		   "metadata": {},
		   "source": [
			"## Example 17.7: 7.sce"
		   ]
		  },
  {
"cell_type": "code",
	   "execution_count": null,
	   "metadata": {
	    "collapsed": true
	   },
	   "outputs": [],
"source": [
"clc;\n",
"hd=5;     //in mm\n",
"h=2;      //in mm\n",
"f=6;      //in cm\n",
"m=hd/h;   //calculating magnification\n",
"p=((m-1)/m)*f;       //lens formula\n",
"disp(p,'Distance in cm = ');   //displaying result\n",
"q=-m*p;      //lens formula\n",
"disp(q,'Image distance in cm = ');   //displaying result"
   ]
   }
,
{
		   "cell_type": "markdown",
		   "metadata": {},
		   "source": [
			"## Example 17.8: 8.sce"
		   ]
		  },
  {
"cell_type": "code",
	   "execution_count": null,
	   "metadata": {
	    "collapsed": true
	   },
	   "outputs": [],
"source": [
"clc;\n",
"p=1.5;      //in inch\n",
"m=3;      //magnification\n",
"q=-m*p;     //calculating image distance\n",
"disp(q,'Distance of image in inch = ');    //displaying result\n",
"f=(p*q)/(p+q);      //calculating focal length\n",
"disp(f,'Focal Length in inch = ');   //displaying result"
   ]
   }
,
{
		   "cell_type": "markdown",
		   "metadata": {},
		   "source": [
			"## Example 17.9: 9.sce"
		   ]
		  },
  {
"cell_type": "code",
	   "execution_count": null,
	   "metadata": {
	    "collapsed": true
	   },
	   "outputs": [],
"source": [
"clc;\n",
"p=1.5;      //in inch\n",
"f=0.15;        //in metre\n",
"w=(p*f)/(p-f);      //calculating focal length\n",
"disp(w*10^3,'Length in mm = ');   //displaying result"
   ]
   }
],
"metadata": {
		  "kernelspec": {
		   "display_name": "Scilab",
		   "language": "scilab",
		   "name": "scilab"
		  },
		  "language_info": {
		   "file_extension": ".sce",
		   "help_links": [
			{
			 "text": "MetaKernel Magics",
			 "url": "https://github.com/calysto/metakernel/blob/master/metakernel/magics/README.md"
			}
		   ],
		   "mimetype": "text/x-octave",
		   "name": "scilab",
		   "version": "0.7.1"
		  }
		 },
		 "nbformat": 4,
		 "nbformat_minor": 0
}
