{
"cells": [
 {
		   "cell_type": "markdown",
	   "metadata": {},
	   "source": [
       "# Chapter 4: Polarisation"
	   ]
	},
{
		   "cell_type": "markdown",
		   "metadata": {},
		   "source": [
			"## Example 4.10: difference_in_the_refractive_indices.sce"
		   ]
		  },
  {
"cell_type": "code",
	   "execution_count": null,
	   "metadata": {
	    "collapsed": true
	   },
	   "outputs": [],
"source": [
"clc\n",
"//to calculate difference in the refractive indices\n",
"//specific rotation is theta/d=29.73 degree/mm\n",
"theta=29.73 //where theta=theta/d\n",
"lambda=5.086*10^-4 //wavelength in mm\n",
"//optical rotation is given by theta=%pi*d*(mul-mur)/lambda\n",
"//where mul and mur are refractive indices for anti-clockwise and clockwise polarised lights\n",
"mu=theta*lambda/180 //where mu=mul-mur\n",
"disp('difference in refractive indices is mu='+string(mu)+'unitless')"
   ]
   }
,
{
		   "cell_type": "markdown",
		   "metadata": {},
		   "source": [
			"## Example 4.11: optical_rotatio.sce"
		   ]
		  },
  {
"cell_type": "code",
	   "execution_count": null,
	   "metadata": {
	    "collapsed": true
	   },
	   "outputs": [],
"source": [
"clc\n",
"//to calculate optical rotation\n",
"//let theta' be the optical rotation by a solution of strength c' in a tube of length l' then\n",
"//we get 10*theta'/l'*c'=10*theta/l*c\n",
"c=1/3 //it is given that solution is 1/3 of its previous concentration i.e. c'/c=1/3,where c=c'/c\n",
"l1=30  //where l1=l'\n",
"           //length in cm \n",
"l=20\n",
"theta=13 //degree\n",
"//formula is theta'=l'*c'*theta/(l*c)\n",
"theta1=l1*c*theta/l\n",
"disp('optical rotation is theta1='+string(theta1)+'degree')"
   ]
   }
,
{
		   "cell_type": "markdown",
		   "metadata": {},
		   "source": [
			"## Example 4.12: specific_rotatio.sce"
		   ]
		  },
  {
"cell_type": "code",
	   "execution_count": null,
	   "metadata": {
	    "collapsed": true
	   },
	   "outputs": [],
"source": [
"clc\n",
"//to calculate specific rotation\n",
"theta=52.8 //optical rotation in degree\n",
"l=20 //length of the solution in cm\n",
"c=20/50 //concentration of the solution in gm/cc\n",
"alpha=10*theta/(l*c)\n",
"disp('the specific rotation is alpha='+string(alpha)+'degree')"
   ]
   }
,
{
		   "cell_type": "markdown",
		   "metadata": {},
		   "source": [
			"## Example 4.13: length_of_solution.sce"
		   ]
		  },
  {
"cell_type": "code",
	   "execution_count": null,
	   "metadata": {
	    "collapsed": true
	   },
	   "outputs": [],
"source": [
"clc\n",
"//to calculate length \n",
"l=40 //length in cm\n",
"c=5/100 //concentration in percentage\n",
"theta1=35 //optical rotation in degree ,where theta1=theta'\n",
"c1=10/100 //concentration in % ,where c1=c'\n",
"theta=20\n",
"//formula of specific rotation is alpha=10*theta/l*c\n",
"l1=l*c*theta1/(c1*theta)\n",
"disp('length is l1='+string(l1)+'cm')"
   ]
   }
,
{
		   "cell_type": "markdown",
		   "metadata": {},
		   "source": [
			"## Example 4.14: rotation_of_plane_of_polarisation.sce"
		   ]
		  },
  {
"cell_type": "code",
	   "execution_count": null,
	   "metadata": {
	    "collapsed": true
	   },
	   "outputs": [],
"source": [
"clc\n",
"//to calculate rotation of plane of polarisation of light\n",
"mur=1.53914\n",
"                //refractive index\n",
"mul=1.53920\n",
"lambda=6.5*10^-5 //wavelength in cm\n",
"d=0.02 //distance in cm\n",
"thetaR=180*(mul-mur)*d/lambda\n",
"disp('rotation of plane of polarisation of light is thetaR='+string(thetaR)+'degree')"
   ]
   }
,
{
		   "cell_type": "markdown",
		   "metadata": {},
		   "source": [
			"## Example 4.15: percentage_purity_of_sugar_sample.sce"
		   ]
		  },
  {
"cell_type": "code",
	   "execution_count": null,
	   "metadata": {
	    "collapsed": true
	   },
	   "outputs": [],
"source": [
"clc\n",
"//to calculate % purity of the sugar sample\n",
"theta=9.9 //optical rotation in degree\n",
"alpha=66 //specific roation of pure sugar solution in dm^-1(gm/cc)^-1\n",
"l=20 //length of tube in cm\n",
"c=10*theta/(l*alpha) //concentration of solution in gm/c.c\n",
"//it is given that 80 gm of impure sugar is dissolved in a litre of water\n",
"per=(c*100*10^3)/80 //here c is in gm/litre\n",
"disp('percentage of the sugar sample is per='+string(per)+'%')"
   ]
   }
,
{
		   "cell_type": "markdown",
		   "metadata": {},
		   "source": [
			"## Example 4.1: compare_intensities.sce"
		   ]
		  },
  {
"cell_type": "code",
	   "execution_count": null,
	   "metadata": {
	    "collapsed": true
	   },
	   "outputs": [],
"source": [
"clc\n",
"// compare the intensities of ordinary and extraordinary rays\n",
"//intensity of ordinary rays is given by Io=a^2 *(sin theta)^2\n",
"//where theta=30 degree\n",
"//we get Io=a^2/4\n",
"Io=1/4\n",
"//intensity of extraordinary ray is given by IE=(a*cos theta)^2\n",
"//we get IE=3*a^2/4\n",
"IE=3/4\n",
"I=IE/Io\n",
"disp('the intensities of ordinary and extraordinary rays is I='+string(I)+'unitless')"
   ]
   }
,
{
		   "cell_type": "markdown",
		   "metadata": {},
		   "source": [
			"## Example 4.2: angle_of_refraction.sce"
		   ]
		  },
  {
"cell_type": "code",
	   "execution_count": null,
	   "metadata": {
	    "collapsed": true
	   },
	   "outputs": [],
"source": [
"clc\n",
"//to calculate angle of refraction\n",
"//according to brewster's law  mu=tan ip\n",
"mu=1.732   //refractive index\n",
"ip=atand(mu)   //polarising angle in degree\n",
"r=90-ip\n",
"disp('angle of refraction of ray is r='+string(r)+'degree')"
   ]
   }
,
{
		   "cell_type": "markdown",
		   "metadata": {},
		   "source": [
			"## Example 4.3: polarising_angle_and_angle_of_refraction.sce"
		   ]
		  },
  {
"cell_type": "code",
	   "execution_count": null,
	   "metadata": {
	    "collapsed": true
	   },
	   "outputs": [],
"source": [
"clc\n",
"//to calculate polarising angle and angle of refraction\n",
"mu=1.345    //refractive index, mu=1/sinc=1/sin48degree=1/0.7431 \n",
"ip=atand(mu)\n",
"r=90-ip\n",
"disp('polarising angle is ip='+string(ip)+'degree')\n",
"disp('angle of refraction is r='+string(r)+'degree') "
   ]
   }
,
{
		   "cell_type": "markdown",
		   "metadata": {},
		   "source": [
			"## Example 4.4: thickness_of_half_wave_plate.sce"
		   ]
		  },
  {
"cell_type": "code",
	   "execution_count": null,
	   "metadata": {
	    "collapsed": true
	   },
	   "outputs": [],
"source": [
"clc\n",
"//to calculate thickness of a half wave plate of quartz\n",
"lambda=5*10^-5 //wavelength in cm\n",
"mue=1.553 \n",
"            //refractive index (unitless)\n",
"muo=1.544\n",
"//for a half plate of positive crystal\n",
"t=lambda/(2*(mue-muo))\n",
"disp('thickness of a half wave plate of quartz is t='+string(t)+'cm')"
   ]
   }
,
{
		   "cell_type": "markdown",
		   "metadata": {},
		   "source": [
			"## Example 4.5: thickness_of_quarter_wave_plate.sce"
		   ]
		  },
  {
"cell_type": "code",
	   "execution_count": null,
	   "metadata": {
	    "collapsed": true
	   },
	   "outputs": [],
"source": [
"clc\n",
"//to calculate thickness of quarter wave plate\n",
"lambda=5.890*10^-5 //wavelength of light in cm\n",
"mue=1.553\n",
"              //refractive index\n",
"muo=1.544\n",
"t=lambda/(4*(mue-muo)) \n",
"disp('thickness of quarter wave plate is t='+string(t)+'cm') "
   ]
   }
,
{
		   "cell_type": "markdown",
		   "metadata": {},
		   "source": [
			"## Example 4.6: thickness_of_doubly_refracting_plate.sce"
		   ]
		  },
  {
"cell_type": "code",
	   "execution_count": null,
	   "metadata": {
	    "collapsed": true
	   },
	   "outputs": [],
"source": [
"clc\n",
"//to calculate thickness of a doubly refracting plate\n",
"lambda=5.890*10^-5 //wavelength in cm\n",
"muo=1.53 \n",
"               //refractive index\n",
"mue=1.54\n",
"t=lambda/(4*(mue-muo))\n",
"disp('thickness of a plate is t='+string(t)+'cm')"
   ]
   }
,
{
		   "cell_type": "markdown",
		   "metadata": {},
		   "source": [
			"## Example 4.7: angle_of_rotation.sce"
		   ]
		  },
  {
"cell_type": "code",
	   "execution_count": null,
	   "metadata": {
	    "collapsed": true
	   },
	   "outputs": [],
"source": [
"clc\n",
"//to calculate angle of rotation\n",
"alpha=66 //specific rotation of cane sugar in degree\n",
"c=15/100 //concentration of the solution in gm/cc\n",
"l=20 //length of tube in cm\n",
"theta=alpha*l*c/10\n",
"disp('the angle of rotation of the plane of polarisation is theta='+string(theta)+'degree')"
   ]
   }
,
{
		   "cell_type": "markdown",
		   "metadata": {},
		   "source": [
			"## Example 4.8: specific_rotatio.sce"
		   ]
		  },
  {
"cell_type": "code",
	   "execution_count": null,
	   "metadata": {
	    "collapsed": true
	   },
	   "outputs": [],
"source": [
"clc\n",
"//to calculate specific rotation \n",
"theta=26.4 //in degree\n",
"l=20 //length in cm\n",
"c=0.2 //gm/cm^3\n",
"alpha=10*theta/(l*c)\n",
"disp('the specific rotation is alpha='+string(alpha)+'degree')"
   ]
   }
,
{
		   "cell_type": "markdown",
		   "metadata": {},
		   "source": [
			"## Example 4.9: strength_of_solution.sce"
		   ]
		  },
  {
"cell_type": "code",
	   "execution_count": null,
	   "metadata": {
	    "collapsed": true
	   },
	   "outputs": [],
"source": [
"clc\n",
"//to calculate strength of solution\n",
"theta=11 //degree\n",
"l=20 //length in cm\n",
"alpha=66 //specific rotation of sugar in degree\n",
"c=10*theta/(l*alpha)\n",
"disp('strength of solution is c='+string(c)+'gm/cm^3')"
   ]
   }
],
"metadata": {
		  "kernelspec": {
		   "display_name": "Scilab",
		   "language": "scilab",
		   "name": "scilab"
		  },
		  "language_info": {
		   "file_extension": ".sce",
		   "help_links": [
			{
			 "text": "MetaKernel Magics",
			 "url": "https://github.com/calysto/metakernel/blob/master/metakernel/magics/README.md"
			}
		   ],
		   "mimetype": "text/x-octave",
		   "name": "scilab",
		   "version": "0.7.1"
		  }
		 },
		 "nbformat": 4,
		 "nbformat_minor": 0
}
