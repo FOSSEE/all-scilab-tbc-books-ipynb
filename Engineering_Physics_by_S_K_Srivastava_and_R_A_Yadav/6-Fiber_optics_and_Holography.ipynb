{
"cells": [
 {
		   "cell_type": "markdown",
	   "metadata": {},
	   "source": [
       "# Chapter 6: Fiber optics and Holography"
	   ]
	},
{
		   "cell_type": "markdown",
		   "metadata": {},
		   "source": [
			"## Example 6.1: EX6_1.sce"
		   ]
		  },
  {
"cell_type": "code",
	   "execution_count": null,
	   "metadata": {
	    "collapsed": true
	   },
	   "outputs": [],
"source": [
"clc\n",
"//to calculate critical angle for core-cladding interface\n",
"n1=1.5\n",
"n2=1.45\n",
"thetac=asind(n2/n1)\n",
"theta1=90-thetac\n",
"disp('critical angle for core-cladding interface is theta1='+string(theta1)+'degree')\n",
"//to calculate acceptance angle in air for fibre and corresponding angle of obliquences\n",
"na=1\n",
"thetaa=asind(n1*0.26/na)\n",
"disp('acceptance angle thetaa='+string(thetaa)+'degree')\n",
"//to calculate numerical aperture\n",
"NA=((n1+n2)*(n1-n2))^(1/2)\n",
"disp('numerical aperture of fibre is NA='+string(NA)+'unitless')\n",
"//to calculate % of light\n",
"per=(NA)^2*100\n",
"disp('% of light collected is per='+string(per)+'%')\n",
""
   ]
   }
,
{
		   "cell_type": "markdown",
		   "metadata": {},
		   "source": [
			"## Example 6.2: numerical_aperture_and_critical_angle.sce"
		   ]
		  },
  {
"cell_type": "code",
	   "execution_count": null,
	   "metadata": {
	    "collapsed": true
	   },
	   "outputs": [],
"source": [
"clc\n",
"//to calculate numerical aperture\n",
"del=0.02 //relative refractive index difference between the core and the cladding of the fibre i.e. del=(n1-n2)/n1\n",
"n1=1.46      //refractive index of core of W-step index fibre \n",
"n2=n1-del*n1\n",
"NA=((n1+n2)*(n1-n2))^(1/2)\n",
"disp('numerical aperture is NA='+string(NA)+'unitless')\n",
"//to calculate critical angle at the core cladding interface within the fibre\n",
"thetac=asind(n2/n1)\n",
"disp('thetac='+string(thetac)+'degree')"
   ]
   }
,
{
		   "cell_type": "markdown",
		   "metadata": {},
		   "source": [
			"## Example 6.3: EX6_3.sce"
		   ]
		  },
  {
"cell_type": "code",
	   "execution_count": null,
	   "metadata": {
	    "collapsed": true
	   },
	   "outputs": [],
"source": [
"clc\n",
"//to calculate refractive index of the cladding\n",
"a=35*10^-6 //core diameter in micrometre\n",
"//formula is del=(n1-n2)/n1\n",
"//we get\n",
"del=1.5/100 \n",
"n1=1.46 //refractive index of the fibre \n",
"lambda=0.85*10^-6 //wavelength in micrometer\n",
"n2=n1-del*n1\n",
"disp('refractive index is n2='+string(n2)+'unitless')\n",
"//to calculate normalised frequency V number of the fibre\n",
"V=(2*%pi*a*n1*0.173)/lambda\n",
"disp('normalised frequency V number of the fibre is V='+string(V)+'unitless')\n",
"//to calculate total number of guided modes in the fibre\n",
"M=(V^2)/2\n",
"disp('total number of guided modes in the fibre is M='+string(M)+'modes')\n",
"\n",
""
   ]
   }
,
{
		   "cell_type": "markdown",
		   "metadata": {},
		   "source": [
			"## Example 6.4: cutoff_wavelength.sce"
		   ]
		  },
  {
"cell_type": "code",
	   "execution_count": null,
	   "metadata": {
	    "collapsed": true
	   },
	   "outputs": [],
"source": [
"clc\n",
"//to calculate cut-off wavelength of the fibre\n",
"//(2*del)^(1/2)=(2*(n1-n2)/n1)^(1/2)=(0.005)^(1/2)=0.071\n",
"a=5*10^-6 //radius in micrometre\n",
"n1=1.46 //core refractive index in micrometre\n",
"Vc=2.405 //cut-off value of V parametre for single mode operation\n",
"//formula is LAMBDAc=(2*%pi*a*n1*(2*del)^(1/2))/Vc \n",
"lambdac=(2*%pi*a*n1*0.071)/Vc\n",
"disp('cut-off wavelength is LAMBDAc='+string(lambdac)+'metre')"
   ]
   }
,
{
		   "cell_type": "markdown",
		   "metadata": {},
		   "source": [
			"## Example 6.5: maximum_and_minimum_value_of_phase_constant.sce"
		   ]
		  },
  {
"cell_type": "code",
	   "execution_count": null,
	   "metadata": {
	    "collapsed": true
	   },
	   "outputs": [],
"source": [
"clc\n",
"//to calculate maximum and minimum value of phase constant\n",
"lambda=0.8*10^-6 //wavelength in micrometre\n",
"n1=1.6*10^-6 \n",
"                   //refractive indices in micrometre\n",
"n2=1.44*10^-6\n",
"maximum=(2*%pi*n1)/lambda\n",
"minimum=(2*%pi*n2)/lambda\n",
"disp('maximum value of phase constant is maximum='+string(maximum)+'radian/micrometre')\n",
"disp('minimum value of phase constant is minimum='+string(minimum)+'radian/micrametre')"
   ]
   }
],
"metadata": {
		  "kernelspec": {
		   "display_name": "Scilab",
		   "language": "scilab",
		   "name": "scilab"
		  },
		  "language_info": {
		   "file_extension": ".sce",
		   "help_links": [
			{
			 "text": "MetaKernel Magics",
			 "url": "https://github.com/calysto/metakernel/blob/master/metakernel/magics/README.md"
			}
		   ],
		   "mimetype": "text/x-octave",
		   "name": "scilab",
		   "version": "0.7.1"
		  }
		 },
		 "nbformat": 4,
		 "nbformat_minor": 0
}
