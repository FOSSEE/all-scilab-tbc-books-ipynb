{
"cells": [
 {
		   "cell_type": "markdown",
	   "metadata": {},
	   "source": [
       "# Chapter 5: Lasers"
	   ]
	},
{
		   "cell_type": "markdown",
		   "metadata": {},
		   "source": [
			"## Example 5.1: area_of_spot_on_the_moon.sce"
		   ]
		  },
  {
"cell_type": "code",
	   "execution_count": null,
	   "metadata": {
	    "collapsed": true
	   },
	   "outputs": [],
"source": [
"clc\n",
"//to calculate area of the spot on the moon\n",
"lambda=6*10^-7 //wavelength in m\n",
"d=2 //diameter in m\n",
"dtheta=lambda/d //angular spread in radian\n",
"D=4*10^8 //distance of the moon\n",
"A=(D*dtheta)^2\n",
"disp('the areal spread is A='+string(A)+'m^2')"
   ]
   }
,
{
		   "cell_type": "markdown",
		   "metadata": {},
		   "source": [
			"## Example 5.2: angular_spread_and_areal_spread.sce"
		   ]
		  },
  {
"cell_type": "code",
	   "execution_count": null,
	   "metadata": {
	    "collapsed": true
	   },
	   "outputs": [],
"source": [
"clc\n",
"//to calculate angular spread of the beam\n",
"lambda=8*10^-7 //wavelength in m\n",
"d=5*10^-3 //aperture in m\n",
"dtheta=lambda/d \n",
"disp('the angular spread of the beam is dtheta='+string(dtheta)+'radian')\n",
"//to calculate the areal spread when it reaches the moon\n",
"D=4*10^8 //distance of the moon in m\n",
"A=(D*dtheta)^2\n",
"disp('the areal spread is A='+string(A)+'m^2')"
   ]
   }
,
{
		   "cell_type": "markdown",
		   "metadata": {},
		   "source": [
			"## Example 5.3: number_of_oscillations_and_coherence_time.sce"
		   ]
		  },
  {
"cell_type": "code",
	   "execution_count": null,
	   "metadata": {
	    "collapsed": true
	   },
	   "outputs": [],
"source": [
"clc\n",
"//to calculate number of oscillations corresponding to the coherence length\n",
"L=2.945*10^-2 //coherence length in m\n",
"lambda=5890*10^-10 //wavelength of sodium light in m\n",
"n=L/lambda\n",
"disp('the number of oscillations is n='+string(n)+'unitless')\n",
"//to calculate coherence time\n",
"c=3*10^8 //light speed in m\n",
"Time=L/c //coherence time\n",
"disp('the coherence Time='+string(Time)+'s')"
   ]
   }
,
{
		   "cell_type": "markdown",
		   "metadata": {},
		   "source": [
			"## Example 5.4: area_and_intensity_of_image.sce"
		   ]
		  },
  {
"cell_type": "code",
	   "execution_count": null,
	   "metadata": {
	    "collapsed": true
	   },
	   "outputs": [],
"source": [
"clc\n",
"//to calculate area and intensity of the image\n",
"lambda=7200*10^-10 //wavelength in m\n",
"d=5*10^-3 //aperture in m\n",
"dtheta=lambda/d //angular spread in radian \n",
"f=0.1 //focal length in m\n",
"arealspread=(dtheta*f)^2\n",
"disp('areal spread ='+string(arealspread)+'m^2')\n",
"power=50*10^-3\n",
"I=power/arealspread\n",
"disp('intensity of the image is I='+string(I)+'watts/m^2')"
   ]
   }
],
"metadata": {
		  "kernelspec": {
		   "display_name": "Scilab",
		   "language": "scilab",
		   "name": "scilab"
		  },
		  "language_info": {
		   "file_extension": ".sce",
		   "help_links": [
			{
			 "text": "MetaKernel Magics",
			 "url": "https://github.com/calysto/metakernel/blob/master/metakernel/magics/README.md"
			}
		   ],
		   "mimetype": "text/x-octave",
		   "name": "scilab",
		   "version": "0.7.1"
		  }
		 },
		 "nbformat": 4,
		 "nbformat_minor": 0
}
