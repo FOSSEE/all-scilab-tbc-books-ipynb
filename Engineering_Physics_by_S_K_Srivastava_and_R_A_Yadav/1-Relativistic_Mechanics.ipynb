{
"cells": [
 {
		   "cell_type": "markdown",
	   "metadata": {},
	   "source": [
       "# Chapter 1: Relativistic Mechanics"
	   ]
	},
{
		   "cell_type": "markdown",
		   "metadata": {},
		   "source": [
			"## Example 1.10: distance_travelled_by_particle.sce"
		   ]
		  },
  {
"cell_type": "code",
	   "execution_count": null,
	   "metadata": {
	    "collapsed": true
	   },
	   "outputs": [],
"source": [
"clc\n",
"//to calculate distance travelled by the particle \n",
"deltat0=2*10^-8 //proper half life to of the particle in (s) \n",
"c=3*10^8 //light speed (m/s)\n",
"v=0.96*c //speed of the particle (m/s)\n",
"deltat=(deltat0)/(sqrt(1-(v/c)^2)) //half life in the laboratory frame t in (s) \n",
"//t=deltat (flux of the beam falls to (1/2) times initial flux)\n",
"d=v*deltat //d=vt\n",
"disp('distance travelled by the particle in this time is d='+string(d)+'m')\n",
"//answer is given wrong in the textbook =20.45 m"
   ]
   }
,
{
		   "cell_type": "markdown",
		   "metadata": {},
		   "source": [
			"## Example 1.11: speed.sce"
		   ]
		  },
  {
"cell_type": "code",
	   "execution_count": null,
	   "metadata": {
	    "collapsed": true
	   },
	   "outputs": [],
"source": [
"clc\n",
"//to calculate speed\n",
"deltat0=1440 //proper time interval measured by an observer moving with the clock (min)\n",
"deltat=1444 //time interval measured by a stationary observer (min)\n",
"c=3*10^8 //light speed (m/s)\n",
"v=c*sqrt(1-(deltat0/deltat)^2)\n",
"disp(' moving clock appears to lose 4min in 24 hours from the stationary observer is v='+string(v)+'m/s')\n",
"//answer is given wrong in the book =2.32*10^7 m/s"
   ]
   }
,
{
		   "cell_type": "markdown",
		   "metadata": {},
		   "source": [
			"## Example 1.12: velocity_of_beta_particle.sce"
		   ]
		  },
  {
"cell_type": "code",
	   "execution_count": null,
	   "metadata": {
	    "collapsed": true
	   },
	   "outputs": [],
"source": [
"clc\n",
"//to calculate velocity of beta particle\n",
"c=3*10^8 //light velocity(m/s)\n",
"u1=0.9*c //velocity of the beta particle relative to the atom in the direction of motion\n",
"v=0.25*c //velocity of the radioactive atom relative to an experimenter\n",
"u=(u1+v)/(1+u1*v/c^2)  \n",
"disp(' velocity of the beta particle as observed by the experimenter is u='+string(u)+'m/s')\n",
"//answer is given in terms of c in the book =0.94c"
   ]
   }
,
{
		   "cell_type": "markdown",
		   "metadata": {},
		   "source": [
			"## Example 1.13: velocity_of_B_with_respect_to_A.sce"
		   ]
		  },
  {
"cell_type": "code",
	   "execution_count": null,
	   "metadata": {
	    "collapsed": true
	   },
	   "outputs": [],
"source": [
"clc\n",
"//to calculate velocity\n",
"c=3*10^8 // light velocity\n",
"v=0.75*c //speed of A\n",
"ux=-0.85*c //speed of B\n",
"ux1=(ux-v)/(1-ux*v/c^2)\n",
"disp(ux1,'velocity of B with respect to A (m/s) is :')\n",
"//answer is given in terms of c in the book=-0.9771c"
   ]
   }
,
{
		   "cell_type": "markdown",
		   "metadata": {},
		   "source": [
			"## Example 1.14: velocity_in_laboratory_frame.sce"
		   ]
		  },
  {
"cell_type": "code",
	   "execution_count": null,
	   "metadata": {
	    "collapsed": true
	   },
	   "outputs": [],
"source": [
"clc\n",
"//to calculate velocity in the laboratory frame\n",
"c=3*10^8 //light speed (m/s)\n",
"v=0.8*c //velocity relative to laboratory along positive direction of x-axis\n",
"//given that u'=3 i+4 j+12 k (m/s)\n",
"ux1=3 //in (m/s)\n",
"uy1=4 //in (m/s)\n",
"uz1=12 //in (m/s)\n",
"ux=(ux1+v)/(1+v*ux1/c^2)\n",
"uy=(uy1*sqrt(1-(v/c)^2))/(1+v*ux1/c^2)\n",
"uz=(uz1*sqrt(1-(v/c)^2))/(1+v*ux1/c^2)\n",
"disp('u=ux i+uy j+uz k')\n",
"disp('where')\n",
"disp('ux='+string(ux)+'m/s')\n",
"disp('uy='+string(uy)+'m/s')\n",
"disp('uz='+string(uz)+'m/s')"
   ]
   }
,
{
		   "cell_type": "markdown",
		   "metadata": {},
		   "source": [
			"## Example 1.17: resultant_velocity.sce"
		   ]
		  },
  {
"cell_type": "code",
	   "execution_count": null,
	   "metadata": {
	    "collapsed": true
	   },
	   "outputs": [],
"source": [
"clc\n",
"// to calculate velocity of the particle\n",
"c=3*10^8 //light speed (m/s)\n",
"v=0.4*c //velocity of frame s' relative to s along axis x\n",
"ux=0.8*c*(1/2) //component of velocity u(=0.8 c) of the particle along x axis ux=0.8 c cos60\n",
"uy=0.8*c*sin (%pi/3) //component of the velocity u of the particle along y axis \n",
"ux1=(ux-v)/(1-ux*v/c^2)\n",
"uy1=uy*sqrt(1-(v/c)^2)/(1-(ux*v/c^2))\n",
"disp('resultant velocity as observed by a person in frame s1 is u1=ux1 i+uy1 j')\n",
"disp('where')\n",
"disp('ux1='+string(ux1)+'m/s')\n",
"disp('uy1='+string(uy1)+'m/s')\n",
"//answer is given in terms of c in the book i.e. uy1=0.756c m/s"
   ]
   }
,
{
		   "cell_type": "markdown",
		   "metadata": {},
		   "source": [
			"## Example 1.18: mass_and_momentum_and_total_energy_and_kinetic_energy.sce"
		   ]
		  },
  {
"cell_type": "code",
	   "execution_count": null,
	   "metadata": {
	    "collapsed": true
	   },
	   "outputs": [],
"source": [
"clc\n",
"//to calculate mass, momentum,total energy,kinetic energy\n",
"c=3*10^8 //light speed (m/s)\n",
"v=c/sqrt (2) //velocity (m/s)\n",
"//let mo be the rest mass of the particle \n",
"//relativistic mass m of the particle is m=mo/sqrt(1-(v/c)^2)\n",
"m=1/sqrt (1-v^2/c^2) //in kg\n",
"disp('mass m='+string(m)+' mo')\n",
"//momentum p of the particle is p=mv\n",
"p=m*v //in kg-m/s\n",
"disp('momentum p='+string(p)+' mo')\n",
"//total energy E of the particle\n",
"E=m*c^2 //in J\n",
"disp('energy E='+string(E)+' mo')\n",
"//kinetic energy K=E-mo c^2\n",
"K=E-c^2 //in J\n",
"disp('kinetic energy K='+string(K)+' mo')\n",
"//answer is given in terms of m0 and c in the book"
   ]
   }
,
{
		   "cell_type": "markdown",
		   "metadata": {},
		   "source": [
			"## Example 1.19: velocity_of_particle.sce"
		   ]
		  },
  {
"cell_type": "code",
	   "execution_count": null,
	   "metadata": {
	    "collapsed": true
	   },
	   "outputs": [],
"source": [
"clc\n",
"//to calculate velocity of the parcticle \n",
"c=3*10^8 //light speed(m/s)\n",
"// we know that E(energy)=mc^2\n",
"// mo=rest mass\n",
"//E=3 moc^2=mc^2 or m=3 mo (given that total energy of the particle is thrice its rest energy)  \n",
"m=3 // relativistic mass \n",
"//formula is v=c sqrt(1-(mo/m)^2)\n",
"v=sqrt(c^2*(1-(1/m)^2))\n",
"disp('velocity of the particle is v='+string(v)+'m/s')"
   ]
   }
,
{
		   "cell_type": "markdown",
		   "metadata": {},
		   "source": [
			"## Example 1.1: length_of_the_bar.sce"
		   ]
		  },
  {
"cell_type": "code",
	   "execution_count": null,
	   "metadata": {
	    "collapsed": true
	   },
	   "outputs": [],
"source": [
"clc\n",
"//to calculate length of the bar measured by the ststionary observer\n",
"lo =1  //length in metre\n",
"v=0.75*3*10^8 //speed (m/s)\n",
"c=3*10^8 //light speed(m/s)\n",
"l=lo*sqrt(1-(v^2/c^2))\n",
"disp('length of bar in is l='+string(l)+'m')"
   ]
   }
,
{
		   "cell_type": "markdown",
		   "metadata": {},
		   "source": [
			"## Example 1.20: mass_and_speed_of_an_electron.sce"
		   ]
		  },
  {
"cell_type": "code",
	   "execution_count": null,
	   "metadata": {
	    "collapsed": true
	   },
	   "outputs": [],
"source": [
"clc\n",
"//to calculate mass(m),speed(v) of an electron\n",
"K=1.5*10^6*1.6*10^-19 //kinetic energy(J)\n",
"m0=9.11*10^-31 //rest mass of an electron(kg)\n",
"c=3*10^8 // velocity of light in vacuum(m/s)\n",
"m=(K/c^2)+m0 //relativistic kinetic energy(k=(m-mo)c^2)\n",
"disp('mass is m='+string(m)+'kg ')\n",
"v=c*sqrt(1-m0^2/m^2)\n",
"disp('speed of an electron is v='+string(v)+'m/s')"
   ]
   }
,
{
		   "cell_type": "markdown",
		   "metadata": {},
		   "source": [
			"## Example 1.21: work_to_be_done.sce"
		   ]
		  },
  {
"cell_type": "code",
	   "execution_count": null,
	   "metadata": {
	    "collapsed": true
	   },
	   "outputs": [],
"source": [
"clc\n",
"//to calculate work to be done \n",
"E=0.5*10^6 //rest energy of electron (MeV) E=m0*c^2\n",
"v1=0.6*3*10^8 //speed of electron in (m/s)\n",
"v2=0.8*3*10^8\n",
"c=3*10^8 //speed of light in (m/s)\n",
"K1=E*((1/sqrt(1-v1^2/c^2))-1) //kinetic energy in (eV)\n",
"K2=E*((1/sqrt(1-v2^2/c^2))-1)\n",
"w=(K2-K1)*1.6*10^-19\n",
"disp('amount of work to be done is w='+string(w)+'J')\n",
"\n",
""
   ]
   }
,
{
		   "cell_type": "markdown",
		   "metadata": {},
		   "source": [
			"## Example 1.22: speed.sce"
		   ]
		  },
  {
"cell_type": "code",
	   "execution_count": null,
	   "metadata": {
	    "collapsed": true
	   },
	   "outputs": [],
"source": [
"clc\n",
"//to calculate speed\n",
"c=3*10^8 //light speed (m/s)\n",
"m=2.25 //mass m of a body be 2.25 times its rest mass mo i.e. m=2.25m0\n",
"//formula is v=c sqrt(1-(m0/m)^2)\n",
"v=c*sqrt(1-(1/m)^2)\n",
"disp(' speed is v='+string(v)+'m/s')"
   ]
   }
,
{
		   "cell_type": "markdown",
		   "metadata": {},
		   "source": [
			"## Example 1.23: speed_of_rocket_and_electron.sce"
		   ]
		  },
  {
"cell_type": "code",
	   "execution_count": null,
	   "metadata": {
	    "collapsed": true
	   },
	   "outputs": [],
"source": [
"clc\n",
"//to calculate speed of the rocket\n",
"m0=50 //weight of man on the earth(kg)\n",
"m=50.5 //weight of man in rocket ship (kg)\n",
"c=3*10^8 //speed of light(m/s)\n",
"v=c*sqrt(1-m0^2/m^2)\n",
"disp('speed of the rocket is v='+string(v)+'m/s' )\n",
"//to calculate speed of electron\n",
"m0=9.11*10^-31 //mass of electron =rest mass of proton\n",
"m=1.67*10^-27\n",
"v=c*sqrt(1-m0^2/m^2)\n",
"disp('speed of an electron is v='+string(v)+'m/s')"
   ]
   }
,
{
		   "cell_type": "markdown",
		   "metadata": {},
		   "source": [
			"## Example 1.24: velocity.sce"
		   ]
		  },
  {
"cell_type": "code",
	   "execution_count": null,
	   "metadata": {
	    "collapsed": true
	   },
	   "outputs": [],
"source": [
"clc\n",
"//to calculate velocity\n",
"c=3*10^8 //light speed (m/s)\n",
"//K(kinetic energy)=(m-mo(rest mass))c^2\n",
"//it can also be written as mc^2=K+m0c^2\n",
"//given that K=2m0c^2(rest mass energy)\n",
"//m=3m0\n",
"m=3 //relativistic mass\n",
"//formula is v=c sqrt(1-(m0/m)^2)\n",
"v=c*sqrt(1-(1/m)^2)\n",
"disp('velocity of a body is v='+string(v)+'m/s')"
   ]
   }
,
{
		   "cell_type": "markdown",
		   "metadata": {},
		   "source": [
			"## Example 1.25: kinetic_energy_and_momentum_of_electron.sce"
		   ]
		  },
  {
"cell_type": "code",
	   "execution_count": null,
	   "metadata": {
	    "collapsed": true
	   },
	   "outputs": [],
"source": [
"clc\n",
"//to calculate kinetic energy ,momentum of electron\n",
"m0=9.11*10^-31 //its rest mass (kg)\n",
"c=3*10^8 //light velocity in (m/s)\n",
"m=11*m0 //mass of moving electron is 11 times its rest mass\n",
"K=(m-m0)*c^2/(1.6*10^-19) // kinetic energy\n",
"disp('kinetic energy is K='+string(K)+'eV') \n",
"v=c*sqrt(1-(m0/m)^2) //velocity(m/s)\n",
"p=m*v //momentum\n",
"disp('momentum is p='+string(p)+'kg m/s')"
   ]
   }
,
{
		   "cell_type": "markdown",
		   "metadata": {},
		   "source": [
			"## Example 1.26: proton_gain_in_mass.sce"
		   ]
		  },
  {
"cell_type": "code",
	   "execution_count": null,
	   "metadata": {
	    "collapsed": true
	   },
	   "outputs": [],
"source": [
"clc\n",
"//to calculate proton gain in mass\n",
"c=3*10^8 //light speed(m/s)\n",
"K=500*10^6*1.6*10^-19 //kinetic energy (J)\n",
"deltam=K/c^2\n",
"disp('proton gain in mass is delm='+string(deltam)+'kg')\n",
"//answer is given wrong in the book=8.89*10^28 kg"
   ]
   }
,
{
		   "cell_type": "markdown",
		   "metadata": {},
		   "source": [
			"## Example 1.27: speed_and_mass_of_electron.sce"
		   ]
		  },
  {
"cell_type": "code",
	   "execution_count": null,
	   "metadata": {
	    "collapsed": true
	   },
	   "outputs": [],
"source": [
"clc\n",
"//to calculate speed of 0.1MeV electron\n",
"E=0.512*10^6 //rest mass energy E=m0*c^2\n",
"c=3*10^8 //velocity of light (m/s)\n",
"K=0.1*10^6 //kinetic energy (MeV)\n",
"v=c*sqrt(1-(E/(K+E))^2) \n",
"disp('speed of electron is v='+string(v)+'m/s' )\n",
"//to calculate mass and speed of 2MeV electron\n",
"E=2*10^6*1.6*10^-19 //in (J)\n",
"m=E/c^2 \n",
"disp('mass is m='+string(m)+'kg')\n",
"m0=9.11*10^-31 //electron mass (kg)\n",
"v=c*sqrt(1-m0^2/m^2)\n",
"disp('speed is v='+string(v)+'m/s')\n",
"\n",
""
   ]
   }
,
{
		   "cell_type": "markdown",
		   "metadata": {},
		   "source": [
			"## Example 1.2: velocity_of_rocket.sce"
		   ]
		  },
  {
"cell_type": "code",
	   "execution_count": null,
	   "metadata": {
	    "collapsed": true
	   },
	   "outputs": [],
"source": [
"clc\n",
"//to calculate velocity of rocket \n",
"//lo be the length at rest \n",
"l=99/100 //length is 99 per cent of its length at rest is l=(99/100)lo\n",
"c=3*10^8   //light speed(m/s)\n",
"v=sqrt(c^2*(1-l^2)) //formula is v=c sqrt(1-(l/lo)^2)\n",
"disp('velocity of rocket is v='+string(v)+'m/s')"
   ]
   }
,
{
		   "cell_type": "markdown",
		   "metadata": {},
		   "source": [
			"## Example 1.4: percentage_contraction_of_rod.sce"
		   ]
		  },
  {
"cell_type": "code",
	   "execution_count": null,
	   "metadata": {
	    "collapsed": true
	   },
	   "outputs": [],
"source": [
"clc\n",
"//to percentage contraction of a rod\n",
"c=3*10^8 //light speed(m/s)\n",
"v=0.8*c //velocity(m/s)\n",
"//let lo be the length of the rod in the frame in which it is at rest\n",
"//s' is the frame which is moving with a speed 0.8c in a direction making an angle 60 with x-axis\n",
"//components of lo along perpendicular to the direction of motion are lo cos60 and lo sin60 respectively\n",
"l1=cos(%pi/3)*sqrt(1-(v/c)^2) //length of the rod alond the direction of motion =lo cos(pi/3)sqrt(1-(v/c)^2)\n",
"l2=sin(%pi/3)  //length of the rod perpendicular to the direction of motion =lo sin60\n",
"l=sqrt(l1^2+l2^2) // length of the moving rod\n",
"per=(1-l)*100/1\n",
"disp('percentage contraction of a rod is per='+string(per)+'%')\n",
""
   ]
   }
,
{
		   "cell_type": "markdown",
		   "metadata": {},
		   "source": [
			"## Example 1.7: velocity_of_circular_lamina.sce"
		   ]
		  },
  {
"cell_type": "code",
	   "execution_count": null,
	   "metadata": {
	    "collapsed": true
	   },
	   "outputs": [],
"source": [
"clc\n",
"//to calculate velocity of the circular lamina  \n",
"c=3*10^8 //light speed (m/s)\n",
"//R'=R/2 (radius)\n",
"//R'=R sqrt(1-(v/c)^2)\n",
"v=(sqrt(3)/2)*c \n",
"disp('velocity of the circular lamina relative to frame s is v='+string(v)+'m/s')\n",
"//answer is given in terms of c in the textbook\n",
"\n",
"\n",
"\n",
""
   ]
   }
,
{
		   "cell_type": "markdown",
		   "metadata": {},
		   "source": [
			"## Example 1.8: speed_of_clock.sce"
		   ]
		  },
  {
"cell_type": "code",
	   "execution_count": null,
	   "metadata": {
	    "collapsed": true
	   },
	   "outputs": [],
"source": [
"clc\n",
"//to calculate speed of the clock\n",
"//clock should record l=59 minutes for each hour recorded by clocks stationary with respect to the observer\n",
"l=59 \n",
"lo=60\n",
"c=3*10^8 //light speed (m/s)\n",
"v=sqrt(c^2*(1-l^2/lo^2))\n",
"disp('speed of the clock is ='+string(v)+'m/s')\n",
""
   ]
   }
,
{
		   "cell_type": "markdown",
		   "metadata": {},
		   "source": [
			"## Example 1.9: distance_travelled_by_beam.sce"
		   ]
		  },
  {
"cell_type": "code",
	   "execution_count": null,
	   "metadata": {
	    "collapsed": true
	   },
	   "outputs": [],
"source": [
"clc\n",
"//to calculate distance travelled by the beam \n",
"deltat0=2.5*10^-8 //proper half life of pi mesons in (s)\n",
"c=3*10^8 //light speed (m/s)\n",
"v=0.8*c //mesons velocity (m/s)\n",
"deltat=deltat0/sqrt(1-(v/c)^2) //half life (s)\n",
"//No=initial flux ,N=flux after time t\n",
"//N=N0 e^(-t/T)\n",
"//N=N0/e^2 (given)=No e(-t/T)\n",
"//t=2 deltat\n",
"d=2*deltat*v //d=vt\n",
"disp('distance travelled by the beam is d='+string(d)+'m') \n",
"//answer is given in the textbook=19.96 m"
   ]
   }
],
"metadata": {
		  "kernelspec": {
		   "display_name": "Scilab",
		   "language": "scilab",
		   "name": "scilab"
		  },
		  "language_info": {
		   "file_extension": ".sce",
		   "help_links": [
			{
			 "text": "MetaKernel Magics",
			 "url": "https://github.com/calysto/metakernel/blob/master/metakernel/magics/README.md"
			}
		   ],
		   "mimetype": "text/x-octave",
		   "name": "scilab",
		   "version": "0.7.1"
		  }
		 },
		 "nbformat": 4,
		 "nbformat_minor": 0
}
