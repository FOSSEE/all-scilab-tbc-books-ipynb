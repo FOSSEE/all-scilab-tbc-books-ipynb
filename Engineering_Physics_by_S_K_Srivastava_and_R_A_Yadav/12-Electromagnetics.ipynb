{
"cells": [
 {
		   "cell_type": "markdown",
	   "metadata": {},
	   "source": [
       "# Chapter 12: Electromagnetics"
	   ]
	},
{
		   "cell_type": "markdown",
		   "metadata": {},
		   "source": [
			"## Example 12.11: skin_depth.sce"
		   ]
		  },
  {
"cell_type": "code",
	   "execution_count": null,
	   "metadata": {
	    "collapsed": true
	   },
	   "outputs": [],
"source": [
"clc\n",
"//to calculate skin depth \n",
"f=10^8 //frequency\n",
"sigma=3*10^7 //conductivity of the medium\n",
"muo=4*%pi*10^-7 //permeability of free space\n",
"del=sqrt(2/(2*%pi*f*sigma*muo))\n",
"disp('skin depth is del='+string(del)+'m')"
   ]
   }
,
{
		   "cell_type": "markdown",
		   "metadata": {},
		   "source": [
			"## Example 12.12: frequency_and_show_that_frequencies_can_be_considered_as_good_conductor.sce"
		   ]
		  },
  {
"cell_type": "code",
	   "execution_count": null,
	   "metadata": {
	    "collapsed": true
	   },
	   "outputs": [],
"source": [
"clc\n",
"//to calculate frequency \n",
"muo=4*%pi*10^-7            //permeability of free space\n",
"sigma=4.3  // in mhos/m\n",
"del=0.1     //skin depth in m\n",
"f=2/(2*%pi*muo*del^2)\n",
"disp('frequency is f='+string(f)+'Hz')\n",
"//value of frequency is given incorrect in the book \n",
"//show that for frequencies less than 10^8 ,it can be considered as good conductor\n",
"epsilon=80*8.854*10^-12\n",
"f=10^8                                    //frequency in Hz\n",
"sigma=4.3\n",
"//formula is sigma/(omega*epsilon)>4.3/(2*%pi*10^8*80*epsilon)\n",
"sigma1=sigma/(2*%pi*f*epsilon)  //where sigma1=sigma/(omega*epsilon)\n",
"disp('sigma1='+string(sigma1)+'unitless')\n",
"//the ocean water to be good conductor ,the value of sigma/(omega*epsilon) should be greater than 1"
   ]
   }
,
{
		   "cell_type": "markdown",
		   "metadata": {},
		   "source": [
			"## Example 12.13: penetration_depth.sce"
		   ]
		  },
  {
"cell_type": "code",
	   "execution_count": null,
	   "metadata": {
	    "collapsed": true
	   },
	   "outputs": [],
"source": [
"clc\n",
"//to show that for frequency <10^9 Hz ,a sample of silicon will act like a good conductor\n",
"sigma=200 //in mhos/m\n",
"omega=2*%pi*10^9 \n",
"epsilon0=8.85*10^-12              //permittivity in free space\n",
"epsilon=12*epsilon0 \n",
"sigma1=sigma/(omega*epsilon)         //sigma1=sigma/(omega*epsilon)\n",
"disp('sigma1='+string(sigma1)+'unitless')\n",
"//if sigma/(omega*epsilon) is greater than 1 , silicon is a good conductor at frequency <10^9 Hz\n",
"//to calculate penetration depth\n",
"f=10^6 //frequency in Hz\n",
"muo=4*%pi*10^-7       //permeability of free space\n",
"sigma=200\n",
"del=sqrt(2/(2*%pi*f*muo*sigma))\n",
"disp('penetration depth is del='+string(del)+'m')"
   ]
   }
,
{
		   "cell_type": "markdown",
		   "metadata": {},
		   "source": [
			"## Example 12.14: conduction_current_and_displacement_current_densities.sce"
		   ]
		  },
  {
"cell_type": "code",
	   "execution_count": null,
	   "metadata": {
	    "collapsed": true
	   },
	   "outputs": [],
"source": [
"clc\n",
"//to calculate conduction current and displacement current densities \n",
"sigma=10^-3        //conductivity in mhos/m\n",
"E=4*10^-6        //where E=4*10^-6*sin(9*10^9t) v/m\n",
"J=sigma*E\n",
"disp('conduction current density is J='+string(J)+'sin(9*10^9t)    A/m')\n",
"epsilon0=8.85*10^-12            //permittivity in free space\n",
"epsilonr=2.45                    //relative permittivity\n",
"//formula is epsilon0*epsilonr*(delE/delt)\n",
"//delE/delt=4*10^-6*9*10^9*cos(9*10^9*t)\n",
"Jd=epsilon0*epsilonr*4*10^-6*9*10^9\n",
"disp('displacement current density is Jd='+string(Jd)+'cos(9*10^9*t)  A/m^2')"
   ]
   }
,
{
		   "cell_type": "markdown",
		   "metadata": {},
		   "source": [
			"## Example 12.1: electric_flux_and_flux.sce"
		   ]
		  },
  {
"cell_type": "code",
	   "execution_count": null,
	   "metadata": {
	    "collapsed": true
	   },
	   "outputs": [],
"source": [
"clc\n",
"//to calculate electric flux\n",
"//electric flux through a surface is phi=vector(E)*vector(s)\n",
"//where vector E=2i+4j+7k,vector s=10j\n",
"E=4                  //E=4j\n",
"s=10                   //s=10j\n",
"phi=E*s\n",
"disp('electric flux is phi='+string(phi)+'units')\n",
"//to calculate flux coming out of any face of the cube\n",
"q=1          //charge in coulomb\n",
"epsilon0=8.85*10^-12             //permittivity in free space in coul^2/N-m^2\n",
"phi1=q/(6*epsilon0)\n",
"disp('flux coming out of any face of the cube is phi1='+string(phi1)+'N-m^2/coul^2')"
   ]
   }
,
{
		   "cell_type": "markdown",
		   "metadata": {},
		   "source": [
			"## Example 12.2: electric_field.sce"
		   ]
		  },
  {
"cell_type": "code",
	   "execution_count": null,
	   "metadata": {
	    "collapsed": true
	   },
	   "outputs": [],
"source": [
"clc\n",
"//to calculate electric field at a point from centre of the shell\n",
"q=0.2*10^-6 //charge\n",
"r=3 //radius\n",
"epsilon0=8.85*10^-12\n",
"E=q/(4*%pi*epsilon0*r^2)\n",
"disp('electric field at a point from centre of the shell is E='+string(E)+'N/coulomb')\n",
"//to calculate electric field at a point just outside the shell\n",
"R=0.25 //radius\n",
"E=q/(4*%pi*epsilon0*R^2)\n",
"disp('electric field at a point just outside the shell is E='+string(E)+'N/coulomb')\n",
"//to calculate the electric field at a point inside the shell\n",
"//when the point is situated inside the spherical shell,the electric field is zero"
   ]
   }
,
{
		   "cell_type": "markdown",
		   "metadata": {},
		   "source": [
			"## Example 12.3: electric_field.sce"
		   ]
		  },
  {
"cell_type": "code",
	   "execution_count": null,
	   "metadata": {
	    "collapsed": true
	   },
	   "outputs": [],
"source": [
"clc\n",
"//to calculate electric field at a point on earth vertically below the wire\n",
"lambda=10^-4 //wavelength in coulomb/m\n",
"r=4 //radius in m\n",
"epsilon0=8.854*10^-12\n",
"E=2*lambda/(4*%pi*epsilon0*r)\n",
"disp('electric field at a point on earth vertically below the wire is E='+string(E)+'N/coulomb')"
   ]
   }
,
{
		   "cell_type": "markdown",
		   "metadata": {},
		   "source": [
			"## Example 12.4: separation_between_the_equipotential_surfaces.sce"
		   ]
		  },
  {
"cell_type": "code",
	   "execution_count": null,
	   "metadata": {
	    "collapsed": true
	   },
	   "outputs": [],
"source": [
"clc\n",
"//to calculate separation between those equipotential surfaces \n",
"V=5 //potential difference\n",
"epsilon0=8.85*10^-12 //permittivity of free space\n",
"sigma=1*10^-7  //in c/m^2\n",
"//electric field due to an infinite sheet of surface charge density is given by E=sigma/(2*epsilon0)                  eq(1)\n",
"//E=V/d                    eq(2)\n",
"//from eq(1) and eq(2),we get  \n",
"d=(2*epsilon0*V)/sigma\n",
"disp('separation between those equipotential surfaces is d='+string(d)+'m')"
   ]
   }
,
{
		   "cell_type": "markdown",
		   "metadata": {},
		   "source": [
			"## Example 12.5: force_per_unit_area.sce"
		   ]
		  },
  {
"cell_type": "code",
	   "execution_count": null,
	   "metadata": {
	    "collapsed": true
	   },
	   "outputs": [],
"source": [
"clc\n",
"//to calculate force per unit area\n",
"//force of attraction per unit area is given by F=(epsilon0*E^2)/2              eq(1)\n",
"//E=V/d                            eq(2)\n",
"epsilon0=8.85*10^-12 //permittivity  of free space\n",
"d=1*10^-3 //distance\n",
"V=100 //potential difference in volts\n",
"//from eq(1) and eq(2),we get\n",
"F=(epsilon0*V^2)/(2*d^2)\n",
"disp('force per unit area is F='+string(F)+'N/m^2')\n",
"//answer is given incorrect in the book ,F=4.425*10^-12"
   ]
   }
,
{
		   "cell_type": "markdown",
		   "metadata": {},
		   "source": [
			"## Example 12.6: charge.sce"
		   ]
		  },
  {
"cell_type": "code",
	   "execution_count": null,
	   "metadata": {
	    "collapsed": true
	   },
	   "outputs": [],
"source": [
"clc\n",
"//to calculate charge\n",
"//let charge be q coulomb ,then the surface density of charge i.e. sigma=q/(4*%pi*r^2)..............eq(1)\n",
"//outward pull per unit area =sigma^2/(2*epsilon0)............eq(2)\n",
"//put eq(1) in eq(2),we get q^2/(4*%pi*r^2)^2*(2*epsilon0)..............eq(3)\n",
"//pressure due to surface tension =4*T/r............eq(4)\n",
"T=27\n",
"r=1.5*10^-2\n",
"epsilon0=8.85*10^-12\n",
"//equate eq(3) and eq(4),we get\n",
"q=sqrt(4*T*((4*%pi*r^2)^2)*2*epsilon0/r)\n",
"disp('charge is q='+string(q)+'coulomb')\n",
"//answer is given wrong in the book,square of 4*%pi*r^2 is not taken in the solution."
   ]
   }
,
{
		   "cell_type": "markdown",
		   "metadata": {},
		   "source": [
			"## Example 12.7: increase_in_radius.sce"
		   ]
		  },
  {
"cell_type": "code",
	   "execution_count": null,
	   "metadata": {
	    "collapsed": true
	   },
	   "outputs": [],
"source": [
"clc\n",
"//to calculate increase in radius \n",
"q=4.8*10^-8         //charge in coulomb\n",
"r=10*10^-2 //radius in m\n",
"epsilon0=8.85*10^-12  //C^2/N-m^2\n",
"P=10^5 //N/m^2\n",
"dr=(q^2)/(96*((%pi)^2)*(r^3)*epsilon0*P)\n",
"disp('increase in radius is dr='+string(dr)+'m')"
   ]
   }
,
{
		   "cell_type": "markdown",
		   "metadata": {},
		   "source": [
			"## Example 12.8: average_values_of_intensities.sce"
		   ]
		  },
  {
"cell_type": "code",
	   "execution_count": null,
	   "metadata": {
	    "collapsed": true
	   },
	   "outputs": [],
"source": [
"//in page no.340,numbering is done wrongly,it should be like ex-8,ex-9,ex-10,ex-11,ex-12,ex-13,ex-14\n",
"clc\n",
"//to calculate average values of intensities of electric and magnetic fields of radiation\n",
"//energy of lamp=1000 J/s\n",
"//area illuminated =4*%pi*r^2=16*%pi m^2\n",
"//energy radiated per unit area per second =1000/16*%pi\n",
"//from poynting theorem |s|=|E*H|=E*H           eq(1)\n",
"s=1000/(16*%pi)\n",
"muo=4*%pi*10^-7             //permeability of free space\n",
"epsilon0=8.85*10^-12              //permittivity in free space\n",
"//E/H=sqrt(muo/epsilon0)        eq(2)\n",
"//from eq(1) and eq(2),we get\n",
"E=sqrt(s*sqrt(muo/epsilon0))\n",
"H=s/E\n",
"disp('average value of intensity of electric fields of radiation is E='+string(E)+'V/m')\n",
"disp('average value of intensity of magnetic fields of radiation is H='+string(H)+'ampere-turn/m')\n",
"//answer is given wrong in the book E=48.87 V/m,solution of magnetic fields is not given in the book ."
   ]
   }
,
{
		   "cell_type": "markdown",
		   "metadata": {},
		   "source": [
			"## Example 12.9: amplitudes_of_electric_and_magnetic_fields.sce"
		   ]
		  },
  {
"cell_type": "code",
	   "execution_count": null,
	   "metadata": {
	    "collapsed": true
	   },
	   "outputs": [],
"source": [
"clc\n",
"//to calculate amplitudes of electric and magnetic fields of radiation\n",
"//energy received by an electromagnetic wave per sec per unit area is given by    poynting vector |s|=|E*H|=E*H*sin 90 (becoz E is perpendicular to H)\n",
"//it is given that energy received by earth's surface is\n",
"s=1400                //|s|=2 cal min^-1 cm^-2\n",
"muo=4*%pi*10^-7 //permittivity of free space\n",
"epsilon0=8.85*10^-12 //permeability of free space\n",
"//E*H=1400                          eq(1)\n",
"//E/H=sqrt(muo/epsilon0)               eq(2)\n",
"//from eq(1) and eq(2) ,we get\n",
"E=sqrt(sqrt(muo/epsilon0)*s)\n",
"//from eq(1) ,we get\n",
"H=1400/E\n",
"Eo=E*sqrt(2)\n",
"Ho=H*sqrt(2)\n",
"disp('amplitude of electric field is Eo='+string(Eo)+'V/m')\n",
"disp('amplitude of magnetic field is Ho='+string(Ho)+'amp-turn/m')"
   ]
   }
],
"metadata": {
		  "kernelspec": {
		   "display_name": "Scilab",
		   "language": "scilab",
		   "name": "scilab"
		  },
		  "language_info": {
		   "file_extension": ".sce",
		   "help_links": [
			{
			 "text": "MetaKernel Magics",
			 "url": "https://github.com/calysto/metakernel/blob/master/metakernel/magics/README.md"
			}
		   ],
		   "mimetype": "text/x-octave",
		   "name": "scilab",
		   "version": "0.7.1"
		  }
		 },
		 "nbformat": 4,
		 "nbformat_minor": 0
}
