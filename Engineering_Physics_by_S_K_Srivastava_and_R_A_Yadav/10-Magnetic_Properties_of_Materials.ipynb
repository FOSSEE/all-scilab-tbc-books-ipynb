{
"cells": [
 {
		   "cell_type": "markdown",
	   "metadata": {},
	   "source": [
       "# Chapter 10: Magnetic Properties of Materials"
	   ]
	},
{
		   "cell_type": "markdown",
		   "metadata": {},
		   "source": [
			"## Example 10.1: permeability_and_susceptibility_of_bar.sce"
		   ]
		  },
  {
"cell_type": "code",
	   "execution_count": null,
	   "metadata": {
	    "collapsed": true
	   },
	   "outputs": [],
"source": [
"clc\n",
"//to calculate permeability and susceptibility of the bar\n",
"phi=2.4*10^-5 //magnetic flux in weber\n",
"A=0.2*10^-4 //cross sectional area in m^2\n",
"B=phi/A //magnetic induction in N/Am\n",
"H=1200 //magnetising field in A/m\n",
"mu=B/H\n",
"disp('permeability is mu='+string(mu)+'N/A^2')\n",
"muo=4*%pi*10^-7 \n",
"chim=(mu/muo)-1\n",
"disp('susceptibility is chim='+string(chim)+'unitless')\n",
"//the answer is given wrong in the book (round off error) chim=737"
   ]
   }
,
{
		   "cell_type": "markdown",
		   "metadata": {},
		   "source": [
			"## Example 10.2: current.sce"
		   ]
		  },
  {
"cell_type": "code",
	   "execution_count": null,
	   "metadata": {
	    "collapsed": true
	   },
	   "outputs": [],
"source": [
"clc\n",
"//to calculate current should be sent through the solenoid\n",
"l=.10 //length in m\n",
"N=50 //number of turns\n",
"H=5*10^3 //magnetising field in A/m\n",
"i=H*l/N \n",
"disp('current is i='+string(i)+'A')"
   ]
   }
,
{
		   "cell_type": "markdown",
		   "metadata": {},
		   "source": [
			"## Example 10.3: magnetic_moment_of_rod.sce"
		   ]
		  },
  {
"cell_type": "code",
	   "execution_count": null,
	   "metadata": {
	    "collapsed": true
	   },
	   "outputs": [],
"source": [
"clc\n",
"//to calculate magnetic moment of the rod\n",
"//formula is B=muo*(H+I)\n",
"//where H=ni\n",
"n=500 //number of turns in turns/m\n",
"i=0.5 //current passed through the solenoid in A\n",
"mur=1200 //relative permeability\n",
"I=(mur-1)*n*i //intensity of magnetisation in A/m\n",
"V=10^-3 //volume in m^3\n",
"M=I*V\n",
"disp('the magnetic moment of the rod is M='+string(M)+'A-m^2')"
   ]
   }
,
{
		   "cell_type": "markdown",
		   "metadata": {},
		   "source": [
			"## Example 10.4: flux_density_and_magnetic_intensity_and_permeability.sce"
		   ]
		  },
  {
"cell_type": "code",
	   "execution_count": null,
	   "metadata": {
	    "collapsed": true
	   },
	   "outputs": [],
"source": [
"clc\n",
"//to calculate flux density,magnetic intensity,permeability of iron\n",
"phi=2*10^-6 //flux in the ring in weber\n",
"A=10^-4 //cross-sectional area in m^2\n",
"B=phi/A \n",
"disp('flux density is B='+string(B)+'weber/m^2')\n",
"N=200 //number of turns\n",
"i=0.30 //current flows in the windings in A\n",
"l=0.2 //length in m\n",
"H=N*i/l\n",
"disp('magnetic intensity is H='+string(H)+'A-turn/m')\n",
"mu=B/H\n",
"disp('permeability is mu='+string(mu)+'weber/A-m')\n",
"muo=4*%pi*10^-7 \n",
"mur=mu/muo\n",
"disp('relative permeability is mur='+string(mur)+'unitless')"
   ]
   }
,
{
		   "cell_type": "markdown",
		   "metadata": {},
		   "source": [
			"## Example 10.5: number_of_ampere_turns.sce"
		   ]
		  },
  {
"cell_type": "code",
	   "execution_count": null,
	   "metadata": {
	    "collapsed": true
	   },
	   "outputs": [],
"source": [
"clc\n",
"//to calculate number of ampere turns\n",
"l=0.5 //length in m\n",
"mu=6.5*10^-3 //permeability of iron in henry/m\n",
"A=2*10^-4 //area of cross-section in m^-4\n",
"R=l/(mu*A) //reluctance in A-turns/weber\n",
"flux=4*10^-4 //in weber\n",
"mmf=flux*R\n",
"disp('the number of ampere turns is mmf='+string(mmf)+'ampere-turns')"
   ]
   }
,
{
		   "cell_type": "markdown",
		   "metadata": {},
		   "source": [
			"## Example 10.6: relative_permeability.sce"
		   ]
		  },
  {
"cell_type": "code",
	   "execution_count": null,
	   "metadata": {
	    "collapsed": true
	   },
	   "outputs": [],
"source": [
"clc\n",
"//to calculate relative permeability of the medium\n",
"phi=1.5*10^-3 //magnetic flux in weber\n",
"l=%pi*50*10^-2 //length in m\n",
"A=10*10^-4 //area of cross-section\n",
"N=1000 //number of turns\n",
"i=5 //current in A\n",
"muo=4*%pi*10^-7\n",
"//phi(magnetic flux)=m.m.f/reluctance\n",
"//phi=N*i*muo*mur*A/l\n",
"//we get,\n",
"mur=phi*l/(N*i*A*muo)\n",
"disp('relative permeability of the medium is mur='+string(mur)+'unitless')"
   ]
   }
,
{
		   "cell_type": "markdown",
		   "metadata": {},
		   "source": [
			"## Example 10.7: magnetising_current.sce"
		   ]
		  },
  {
"cell_type": "code",
	   "execution_count": null,
	   "metadata": {
	    "collapsed": true
	   },
	   "outputs": [],
"source": [
"clc\n",
"//to calculate magnetising current\n",
"//formula is phi(magnetic flux)=m.m.f/reluctance\n",
"//phi=N*i*mu*A/l--------eq(1)\n",
"//phi=BA------------eq(2)\n",
"B=0.20 //magnetic flux density in weber/m^2\n",
"l=1 //average length of the circuit in m \n",
"N=100 //number of turns\n",
"mu=7.3*10^-3 //in h.m\n",
"//from eq(1)and eq(2),we get\n",
"i=B*l/(N*mu)\n",
"disp('magnetising current is i='+string(i)+'A')"
   ]
   }
],
"metadata": {
		  "kernelspec": {
		   "display_name": "Scilab",
		   "language": "scilab",
		   "name": "scilab"
		  },
		  "language_info": {
		   "file_extension": ".sce",
		   "help_links": [
			{
			 "text": "MetaKernel Magics",
			 "url": "https://github.com/calysto/metakernel/blob/master/metakernel/magics/README.md"
			}
		   ],
		   "mimetype": "text/x-octave",
		   "name": "scilab",
		   "version": "0.7.1"
		  }
		 },
		 "nbformat": 4,
		 "nbformat_minor": 0
}
