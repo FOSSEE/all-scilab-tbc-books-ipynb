{
"cells": [
 {
		   "cell_type": "markdown",
	   "metadata": {},
	   "source": [
       "# Chapter 11: Ultrasonics"
	   ]
	},
{
		   "cell_type": "markdown",
		   "metadata": {},
		   "source": [
			"## Example 11.1: fundamental_frequency.sce"
		   ]
		  },
  {
"cell_type": "code",
	   "execution_count": null,
	   "metadata": {
	    "collapsed": true
	   },
	   "outputs": [],
"source": [
"clc\n",
"//to calculate fundemental frequency\n",
"Y=7.9*10^10 //Young modulus for quartz in Nm^-2\n",
"rho=2.65*10^3 //density of quartz in kg/m^3\n",
"//the velocity of longitudinal wave is given by\n",
"v=sqrt(Y/rho)  //in m/s\n",
"//for fundamental mode of vibration ,thickness is given by lambda/2\n",
"lambda=2*0.001 //wavelength in m\n",
"nu=v/lambda\n",
"disp('the fundamental frequency is nu='+string(nu)+'Hz')\n",
"//answer is given wrong in the book ,nu=2730 Hz"
   ]
   }
],
"metadata": {
		  "kernelspec": {
		   "display_name": "Scilab",
		   "language": "scilab",
		   "name": "scilab"
		  },
		  "language_info": {
		   "file_extension": ".sce",
		   "help_links": [
			{
			 "text": "MetaKernel Magics",
			 "url": "https://github.com/calysto/metakernel/blob/master/metakernel/magics/README.md"
			}
		   ],
		   "mimetype": "text/x-octave",
		   "name": "scilab",
		   "version": "0.7.1"
		  }
		 },
		 "nbformat": 4,
		 "nbformat_minor": 0
}
