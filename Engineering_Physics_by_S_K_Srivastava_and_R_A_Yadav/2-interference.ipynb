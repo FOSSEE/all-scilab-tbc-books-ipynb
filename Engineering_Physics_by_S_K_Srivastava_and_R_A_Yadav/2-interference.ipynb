{
"cells": [
 {
		   "cell_type": "markdown",
	   "metadata": {},
	   "source": [
       "# Chapter 2: interference"
	   ]
	},
{
		   "cell_type": "markdown",
		   "metadata": {},
		   "source": [
			"## Example 2.10: thickness_of_glass_plate.sce"
		   ]
		  },
  {
"cell_type": "code",
	   "execution_count": null,
	   "metadata": {
	    "collapsed": true
	   },
	   "outputs": [],
"source": [
"clc\n",
"//to calculate thickness of glass plate\n",
"n=3\n",
"mu=1.5 //refractive index (unitless)\n",
"lambda=5450*10^-10 //wavelength in m\n",
"t=n*lambda/(mu-1)\n",
"disp('the thickness of glass plate is t='+string(t)+'m')"
   ]
   }
,
{
		   "cell_type": "markdown",
		   "metadata": {},
		   "source": [
			"## Example 2.11: refractive_index_of_sheet.sce"
		   ]
		  },
  {
"cell_type": "code",
	   "execution_count": null,
	   "metadata": {
	    "collapsed": true
	   },
	   "outputs": [],
"source": [
"clc\n",
"//to calculate refractive index of the sheet\n",
"t=6.3*10^-6 //thickness of thin sheet of transparent material in m\n",
"lambda=5460*10^-10 //wavelength in m\n",
"n=6\n",
"mu=(n*lambda/t)+1\n",
"disp('the refractive index of the sheet is mu='+string(mu)+'unitless')"
   ]
   }
,
{
		   "cell_type": "markdown",
		   "metadata": {},
		   "source": [
			"## Example 2.12: refrctive_index_of_mica.sce"
		   ]
		  },
  {
"cell_type": "code",
	   "execution_count": null,
	   "metadata": {
	    "collapsed": true
	   },
	   "outputs": [],
"source": [
"clc\n",
"//to calculate refractive index of mica\n",
"t=1.2*10^-8 //thickness of thin sheet of mica in m\n",
"n=1 \n",
"lambda=6*10^-7 //wavelength in m\n",
"mu=(n*lambda/t)+1\n",
"disp('the refractive index of mica is mu='+string(mu)+'unitless')\n",
"//answer is given wrong in the book=1.50"
   ]
   }
,
{
		   "cell_type": "markdown",
		   "metadata": {},
		   "source": [
			"## Example 2.13: intensity_and_lateral_shift.sce"
		   ]
		  },
  {
"cell_type": "code",
	   "execution_count": null,
	   "metadata": {
	    "collapsed": true
	   },
	   "outputs": [],
"source": [
"clc\n",
"//to calculate intensity\n",
"mu=1.5 //refractive index(unitless)\n",
"t=1.5*10^-6 //thickness of thin glass plate in m\n",
"pathdifference=(mu-1)*t // in m\n",
"lambda=5*10^-7 //wavelength in m\n",
"//del=2*%pi*pathdifference/lambda\n",
"del=3*%pi\n",
"a1=1\n",
"      //where a1=a2=a\n",
"a2=1\n",
"//formula is I=a1^2+a2^2+2*a1*a2*cos del\n",
"// where cos 3%pi=-1\n",
"I=a1^2+a2^2+2*a1*a2*(-1) \n",
"disp('the intensity at the centre of the screen is I='+string(I)+'unitless' )\n",
"//to calculate lateral shift\n",
"D=1 //distance in m\n",
"twod=5*10^-4 //distance between two slits in m\n",
"mu=1.5 //refractive index (unitless)\n",
"t=1.5*10^-6 //thickness of thin glass plate in m\n",
"x0=D*(mu-1)*t/twod\n",
"disp('the lateral shift of the central maximum is x0='+string(x0)+'m')"
   ]
   }
,
{
		   "cell_type": "markdown",
		   "metadata": {},
		   "source": [
			"## Example 2.14: spacing_between_slits.sce"
		   ]
		  },
  {
"cell_type": "code",
	   "execution_count": null,
	   "metadata": {
	    "collapsed": true
	   },
	   "outputs": [],
"source": [
"clc\n",
"//to calculate spacing between the slits\n",
"lambda=6*10^-5 //wavelength in cm\n",
"omegatheta=0.1*%pi/180 //angular width of a fringe in radians\n",
"twod=lambda/omegatheta\n",
"disp('the spacing between the slits is twod='+string(twod)+'cm')"
   ]
   }
,
{
		   "cell_type": "markdown",
		   "metadata": {},
		   "source": [
			"## Example 2.15: distance.sce"
		   ]
		  },
  {
"cell_type": "code",
	   "execution_count": null,
	   "metadata": {
	    "collapsed": true
	   },
	   "outputs": [],
"source": [
"clc\n",
"//to calculate distance of the third bright fringe on the screen from the central maximum \n",
"lambda=6.5*10^-5 //wavelength in cm\n",
"twod=0.2 //distance between the slits in cm\n",
"D=120 //distance between the plane of the slits and the screen in cm\n",
"n=3 \n",
"X3=D*n*lambda/twod\n",
"disp('the distance of the third bright fringe from the central maximum is X3='+string(X3)+'cm')\n",
"//to calculate the least distance from the central maximum \n",
"lambda1=6.5*10^-5 //wavelength in cm\n",
"lambda2=5.2*10^-5 //wavelength in cm\n",
"//Xn=Dnlambda1/2d=D(n+1)lambda2/2d\n",
"//we get,\n",
"n=lambda2/(lambda1-lambda2)\n",
"disp('n='+string(n)+'unitless')\n",
"Xn=D*n*lambda1/twod\n",
"disp('the distance from the central maximum when the bright fringes due to both wavelengths coincide is Xn='+string(Xn)+'cm')\n",
" "
   ]
   }
,
{
		   "cell_type": "markdown",
		   "metadata": {},
		   "source": [
			"## Example 2.16: EX2_16.sce"
		   ]
		  },
  {
"cell_type": "code",
	   "execution_count": null,
	   "metadata": {
	    "collapsed": true
	   },
	   "outputs": [],
"source": [
"clc\n",
"//to calculate refractive index \n",
"D=10 //distance in  cm\n",
"twod=0.2 //distance detween the slits in cm\n",
"t=0.05 //thickness of transparent plate in cm\n",
"deltaX=0.5 //in cm\n",
"mu=(deltaX*twod/(D*t))+1\n",
"disp('the refractive index of the transparent plate is mu='+string(mu)+'unitless')\n",
"//to calculate order\n",
"n=10 \n",
"lambda=7000*10^-8 //wavelength in cm\n",
"//path difference =n*lambda\n",
"n1=n*lambda/(5000*10^-8) \n",
"disp('the order will be visible is n1='+string(n1)+'unitless')\n",
"//to calculate distance between the two coherent sources\n",
"D=100 //distance in m \n",
"lambda=6000*10^-8 //wavelength in cm\n",
"omega=0.05 //distance between two consecutive bright fringes on the screen in cm\n",
"twod=D*lambda/omega\n",
"disp('the distance between the coherent sources is twod='+string(twod)+'cm')\n",
"//to calculate wavelength\n",
"Xn=1 //distance of fourth bright fringe from the central fringe in cm\n",
"twod=0.02 //distance between the two coherent sources in cm\n",
"n=4 \n",
"D=100 //distance in cm \n",
"lambda=Xn*twod/(n*D)\n",
"disp('the wavelength of light is lambda='+string(lambda)+'cm')\n",
"//to calculate wavelength\n",
"//position of nth bright fringe from the centre of the central fringe is Xn=D*n*lambda/2d----eq(1)\n",
"//fringe width umega=D*lambda/2d---------------------eq(2)\n",
"//from eq(1) and eq(2) we get, Xn=n*omega\n",
"//for 11th bright fringe X11=11*omega\n",
"//position for nth dark fringe Xn'=(2n+1)D*lambda/4d\n",
"//X4'=(7/2)*omega\n",
"//distance between 11th and 4th dark fringe =0.8835 cm\n",
"//we get  \n",
"omega=0.1178 //in cm\n",
"twod=0.05 //distance between slis in cm\n",
"D=100 // distance in cm\n",
"lambda=omega*twod/D \n",
"disp('the wavelength of light is lambda='+string(lambda)+'cm')\n",
"//to calculate changed fringe width\n",
"//X10-X0=10*omega\n",
"//given that X10-X0=14.73-12.34=2.39mm \n",
"omega=0.239 //in mm\n",
"lambda=6000 //wavelength in angstrom\n",
"lambda1=5000 //lambda'=5000 angstrom\n",
"omega1=omega*lambda1/lambda\n",
"disp('the changed fringe width is omega1='+string(omega1)+'mm')\n",
"//to calculate thickness of mica sheet\n",
"n=3\n",
"mu=1.6 //refractive index(unitless)\n",
"lambda=5.89*10^-5 //wavelength in cm\n",
"t=n*lambda/(mu-1)\n",
"disp('the thickness of mica sheet is t='+string(t)+'cm')\n",
"//answer of thickness is given wrong in the book =0.002945 cm"
   ]
   }
,
{
		   "cell_type": "markdown",
		   "metadata": {},
		   "source": [
			"## Example 2.17: thickness_of_plate.sce"
		   ]
		  },
  {
"cell_type": "code",
	   "execution_count": null,
	   "metadata": {
	    "collapsed": true
	   },
	   "outputs": [],
"source": [
"clc\n",
"//to calculate the smallest thickness of the plate\n",
"mu=1.5 //refractive index(unitless)\n",
"r=60*%pi/180 //angle of refraction in radians\n",
"lambda=5890*10^-10 //wavelength in m\n",
"n=1\n",
"//formula is t=n*lambda/(2*mu*cosr) where cosr=0.5\n",
"t=n*lambda/(2*mu*0.5)\n",
"disp('the smallest thickness of the plate which will appear dark by reflection is t='+string(t)+'m')"
   ]
   }
,
{
		   "cell_type": "markdown",
		   "metadata": {},
		   "source": [
			"## Example 2.18: least_thickness.sce"
		   ]
		  },
  {
"cell_type": "code",
	   "execution_count": null,
	   "metadata": {
	    "collapsed": true
	   },
	   "outputs": [],
"source": [
"clc\n",
"//to calculate least thickness of the film\n",
"lambda=5893*10^-10//wavelength in m\n",
"r=0 //in degree\n",
"mu=1.42 //refractive index\n",
"n=1\n",
"//the formula is t=n*lambda/(2*mu*cosr), where cos0=1\n",
"t=n*lambda/(2*mu*1)\n",
"disp('the least thickness of the film that will appear black is t='+string(t)+'m')\n",
"t=(2*n-1)*lambda/(2*mu*1*2)\n",
"disp('the least thickness of the film that will appear bright is t='+string(t)+'m')"
   ]
   }
,
{
		   "cell_type": "markdown",
		   "metadata": {},
		   "source": [
			"## Example 2.19: thickness_of_film.sce"
		   ]
		  },
  {
"cell_type": "code",
	   "execution_count": null,
	   "metadata": {
	    "collapsed": true
	   },
	   "outputs": [],
"source": [
"clc\n",
"//to calculate thickness of the film\n",
"lambda1=6.1*10^-7 //wavelength in m\n",
"lambda2=6*10^-7 // wavelength in m\n",
"//the two dark consecutive fringes are overlapping for the wavelength lambda1 and lambda2 respectively\n",
"//then, n*lambda1=(n+1)*lambda2\n",
"//we get,\n",
"n=lambda2/(lambda1-lambda2)\n",
"sini=4/5\n",
"mu=4/3\n",
"//formula is mu=sini/sinr\n",
"sinr=0.6\n",
"cosr=sqrt(1-(sinr)^2)\n",
"t=n*lambda1/(2*mu*cosr)\n",
"disp('the thickness of the film is t='+string(t)+'m')"
   ]
   }
,
{
		   "cell_type": "markdown",
		   "metadata": {},
		   "source": [
			"## Example 2.20: thickness_of_film.sce"
		   ]
		  },
  {
"cell_type": "code",
	   "execution_count": null,
	   "metadata": {
	    "collapsed": true
	   },
	   "outputs": [],
"source": [
"clc\n",
"//to calculate thickness of the film\n",
"mu=1.33 //refractive index of soap film (unitless)\n",
"i=45*%pi/180\n",
"//the formula is mu=sini/sinr \n",
"sinr=0.5317 \n",
"cosr=sqrt(1-(sinr)^2)\n",
"//for destructive interference\n",
"lambda=5890*10^-10 //wavelength in m\n",
"n=1\n",
"t=n*lambda/(2*mu*cosr)\n",
"disp('the thickness of the film is t='+string(t)+'m')"
   ]
   }
,
{
		   "cell_type": "markdown",
		   "metadata": {},
		   "source": [
			"## Example 2.21: angle_of_wedge.sce"
		   ]
		  },
  {
"cell_type": "code",
	   "execution_count": null,
	   "metadata": {
	    "collapsed": true
	   },
	   "outputs": [],
"source": [
"clc\n",
"//to calculate angle of the wedge\n",
"lambda=6000*10^-10 //wavelength in m\n",
"mu=1.4 //refractive index in unitless\n",
"omega=2*10^-3 //distance in m\n",
"theta=lambda/(2*mu*omega)\n",
"disp('the angle of the wedge is theta ='+string(theta)+'radians')"
   ]
   }
,
{
		   "cell_type": "markdown",
		   "metadata": {},
		   "source": [
			"## Example 2.22: wavelength_of_light.sce"
		   ]
		  },
  {
"cell_type": "code",
	   "execution_count": null,
	   "metadata": {
	    "collapsed": true
	   },
	   "outputs": [],
"source": [
"clc\n",
"//to calculate wavelength of light \n",
"theta=10*%pi/(60*60*180) //angle of wedge in radians\n",
"omega=5*10^-3 //distance between the successive fringes in cm\n",
"mu=1.4 //refractive index\n",
"lambda=2*mu*theta*omega\n",
"disp('the wavelength of light is lambda='+string(lambda)+'m')"
   ]
   }
,
{
		   "cell_type": "markdown",
		   "metadata": {},
		   "source": [
			"## Example 2.23: wavelength_of_light.sce"
		   ]
		  },
  {
"cell_type": "code",
	   "execution_count": null,
	   "metadata": {
	    "collapsed": true
	   },
	   "outputs": [],
"source": [
"clc\n",
"//to calculate wavelength of the light\n",
"D15=0.590*10^-2 //diamater of 15th ring in m\n",
"D5=0.336*10^-2 //diameter of 5th ring in m\n",
"p=10\n",
"R=1 //radius of plano convex lens in m\n",
"//formula is lambda=Dn+p^2-Dn^2/4pR\n",
"lambda=((D15^2)-(D5^2))/(4*p*R)\n",
"disp('the wavelength of the monochromatic light is lambda='+string(lambda)+'m')\n",
""
   ]
   }
,
{
		   "cell_type": "markdown",
		   "metadata": {},
		   "source": [
			"## Example 2.24: refractive_index_of_liquid.sce"
		   ]
		  },
  {
"cell_type": "code",
	   "execution_count": null,
	   "metadata": {
	    "collapsed": true
	   },
	   "outputs": [],
"source": [
"clc\n",
"//to calculate refractive index of the liquid\n",
"n=6\n",
"lambda=6000*10^-10 //wavelength in m\n",
"R=1 //radius of curvature of the curved surface in m\n",
"Dn=3.1*10^-3 //diameter of 6th bright ring in m\n",
"mu=2*(2*n-1)*lambda*R/Dn^2\n",
"disp('the refractive index of the liquid is mu='+string(mu)+'unitless')"
   ]
   }
,
{
		   "cell_type": "markdown",
		   "metadata": {},
		   "source": [
			"## Example 2.25: radius_and_thickness.sce"
		   ]
		  },
  {
"cell_type": "code",
	   "execution_count": null,
	   "metadata": {
	    "collapsed": true
	   },
	   "outputs": [],
"source": [
"clc\n",
"//to calculate radius of curvature\n",
"lambda=5900*10^-10 //wavelength in m\n",
"n=10\n",
"Dn=5*10^-3 // diameter of 10th dark ring in m\n",
"R=Dn^2/(4*n*lambda)\n",
"disp('the radius of curvature of the lens is R='+string(R)+'m')\n",
"//to calculate thichness\n",
"t=n*lambda/2\n",
"disp('the thickness of the air film is t='+string(t)+'m')\n",
""
   ]
   }
,
{
		   "cell_type": "markdown",
		   "metadata": {},
		   "source": [
			"## Example 2.26: distance.sce"
		   ]
		  },
  {
"cell_type": "code",
	   "execution_count": null,
	   "metadata": {
	    "collapsed": true
	   },
	   "outputs": [],
"source": [
"clc\n",
"//to calculate the distance from the apex of the wedge at which the maximum due to the two wavelengths first coincide\n",
"//condition for maxima for normal incidence air film is 2t=(2n+1)lambda/2\n",
"//let nth order maximum due to lambda1 coincides with (n+1)th order maximum due to lambda2 \n",
"//we get , n=(3lambda2-lambda1)/2(lambda1-lambda2)\n",
"// we also get, 2t=lambda1*lambda2/(lambda1-lambda2)\n",
"//t=X*theta\n",
"lambda1=5896*10^-8 //wavelength in cm\n",
"lambda2=5890*10^-8 //wavelength in cm\n",
"theta=0.3*%pi/180 //angle of wedge\n",
"X=lambda1*lambda2/(2*(lambda1-lambda2)*theta)\n",
"disp('the distance from the apex of the wedge is X='+string(X)+'cm')"
   ]
   }
,
{
		   "cell_type": "markdown",
		   "metadata": {},
		   "source": [
			"## Example 2.27: radius_and_thickness.sce"
		   ]
		  },
  {
"cell_type": "code",
	   "execution_count": null,
	   "metadata": {
	    "collapsed": true
	   },
	   "outputs": [],
"source": [
"clc\n",
"//to calculate radius of curvature \n",
"n=10\n",
"Dn=0.50 //diameter of 10th ring in cm\n",
"lambda=6000*10^-8 //wavelength in cm\n",
"R=Dn^2/(4*n*lambda)\n",
"disp('the radius of curvature of the lens is R='+string(R)+'cm')\n",
"//answer is given wrong in the book =106 cm\n",
"//to calculate thickness of the film\n",
"t=Dn^2/(8*R)\n",
"disp('the thickness of the film is t='+string(t)+'cm')"
   ]
   }
,
{
		   "cell_type": "markdown",
		   "metadata": {},
		   "source": [
			"## Example 2.28: diameter_of_ring.sce"
		   ]
		  },
  {
"cell_type": "code",
	   "execution_count": null,
	   "metadata": {
	    "collapsed": true
	   },
	   "outputs": [],
"source": [
"clc\n",
"//to calculate diameter\n",
"//the difference of (n+p)th and nth dark ring is Dn+p^2-Dn^2=4nRlambda\n",
"N=12 //where N=n+p\n",
"n=4\n",
"D12=0.7 //diameter of 12th dark ring in cm\n",
"D4=0.4 //diameter of 4th dark ring in cm\n",
"//D12^2-D4^2=4pRlambda where p=8 ----eq(1)\n",
"//D20^2-D4^2=4pRlambda where p=16 -----eq(2)\n",
"//divide eq(2) by eq(1) ,we get\n",
"D20=sqrt((2*D12^2)-D4^2)\n",
"disp('the diameter of 20th dark ring is D20='+string(D20)+'cm')\n",
""
   ]
   }
,
{
		   "cell_type": "markdown",
		   "metadata": {},
		   "source": [
			"## Example 2.29: diameter_of_ring.sce"
		   ]
		  },
  {
"cell_type": "code",
	   "execution_count": null,
	   "metadata": {
	    "collapsed": true
	   },
	   "outputs": [],
"source": [
"clc\n",
"//to calculate diameter \n",
"lambda1=6*10^-5 //wavelength in cm\n",
"lambda2=4.5*10^-5 //wavelength in cm\n",
"R=90 //radius of curvature of the curved surface in cm\n",
"//Dn^2=4nRlambda1 -------eq(1)\n",
"//Dn+1^2=4(n+1)Rlambda2-------eq(2)\n",
"//the nth dark ring due to lambda1 coincides with (n+1)th dark ring due to lambda2\n",
"//from eq(1) and eq(2)-4nRlambda1=4(n+1)Rlambda2\n",
"// we get,\n",
"n=lambda2/(lambda1-lambda2)\n",
"Dn=sqrt(4*n*R*lambda1)\n",
"disp('the diameter of nth dark ring for lambda1 is Dn='+string(Dn)+'cm')"
   ]
   }
,
{
		   "cell_type": "markdown",
		   "metadata": {},
		   "source": [
			"## Example 2.2: ratio_of_intensity.sce"
		   ]
		  },
  {
"cell_type": "code",
	   "execution_count": null,
	   "metadata": {
	    "collapsed": true
	   },
	   "outputs": [],
"source": [
"clc\n",
"//to calculate ratio of intensity\n",
"//I1/I2=1/25\n",
"//formula is a1/a2=sqrt(I1/I2)=1/5\n",
"a2=5 //a2=5*a1\n",
"a1=1\n",
"I=((1+5)^2)/((1-5)^2)\n",
"disp('ratio of intensity at the maxima and minima in the interference pattern is Imax/Imin=((a1+a2)^2)/((a1-a2)^2)='+string(((a1+a2)^2)/((a1-a2)^2))+'unitless')\n",
"//answer is given in terms of ratio"
   ]
   }
,
{
		   "cell_type": "markdown",
		   "metadata": {},
		   "source": [
			"## Example 2.30: difference_of_square_of_diameters.sce"
		   ]
		  },
  {
"cell_type": "code",
	   "execution_count": null,
	   "metadata": {
	    "collapsed": true
	   },
	   "outputs": [],
"source": [
"clc\n",
"//to calculate the difference of square of diameters for nth and (n+p)th ring when light of wavelength lambda is changed to lambda'\n",
"lambda=6*10^-5 //wavelength in cm\n",
"lambda1=4.5*10^-5 //wavelength in cm\n",
"//Let D=(D^2-Dn^2)=0.125 cm^2 \n",
"D=0.125\n",
"//formula is D'(n+p)^2-D'n^2=lambda'*(D(n+p)^2-Dn^2)/lambda\n",
"disp('the difference of square of diameters is D1(n+p)^2-D1n^2=(lambda1*D)/lambda='+string((lambda1*D)/lambda)+'cm^2')\n",
"//to calculate difference of square of diamaters when liqquid of refractive index mu' is introduced\n",
"mu=1 //refractive index (unitless)\n",
"mu1=1.33 // mu'=1.33\n",
"//formula is D'(n+p)^2-D'n^2=(mu/mu')*(D(n+p)^2-Dn^2)\n",
"disp('the difference of square of diameters is D1(n+p)^2-D1n^2=(mu*D)/mu1='+string((mu*D)/mu1)+'cm^2')\n",
"//to calculate difference of square of diameters when radius of curvature of convex surface of the plano convex lens is doubled\n",
"R1=2 //radius of curvature is R'=2R\n",
"R=1\n",
"//formula is D'(n+p)^2-D'n^2=(R'/R)*(D(n+p)^2-Dn^2)\n",
"disp('the difference of square of diameters is D1(n+p)^2-D1n^2=(R1*D)/R='+string((R1*D)/R)+'cm^2')"
   ]
   }
,
{
		   "cell_type": "markdown",
		   "metadata": {},
		   "source": [
			"## Example 2.3: ratio_of_intensity.sce"
		   ]
		  },
  {
"cell_type": "code",
	   "execution_count": null,
	   "metadata": {
	    "collapsed": true
	   },
	   "outputs": [],
"source": [
"clc\n",
"//to calculate ratio of intensity at this point to that at the centre of a bright fringe\n",
"//the intensity at any pont is I=a1^2+a2^2+2*a1*a2*cos del\n",
"//let a1=a2=a\n",
"//phase difference del is 0\n",
"//then I0=a^2+a^2+2*a*a*cos 0\n",
"//we get I0=4a^2\n",
"I0=4 //intensity\n",
"//path difference is lemda/8\n",
"//phase difference =2*%pi/lemda*path difference=%pi/4\n",
"//I1=a^2+a^2+2a*a*cos %pi/4\n",
"//I1=3.414a^2\n",
"I1=3.414\n",
"intensity=I1/I0\n",
"disp(' ratio of intensity ='+string(intensity)+'unitless')"
   ]
   }
,
{
		   "cell_type": "markdown",
		   "metadata": {},
		   "source": [
			"## Example 2.4: ratio_of_intensity.sce"
		   ]
		  },
  {
"cell_type": "code",
	   "execution_count": null,
	   "metadata": {
	    "collapsed": true
	   },
	   "outputs": [],
"source": [
"clc\n",
"//to calculate ratio of maximum intensity to minimum intensity\n",
"//formula is I1/I2=a1^2/a2^2=100/1\n",
"//a1/a2=10/1\n",
"a1=10  //a1=10*a2\n",
"a2=1\n",
"disp('the ratio of maximum intensity to minmum intensity in the interference pattern Imax/Imin=((a1+a2)^2)/((a1-a2)^2)='+string(((a1+a2)^2)/((a1-a2)^2))+'unitless') \n",
"//answer is given in terms of ratio in the book"
   ]
   }
,
{
		   "cell_type": "markdown",
		   "metadata": {},
		   "source": [
			"## Example 2.5: relative_intensities.sce"
		   ]
		  },
  {
"cell_type": "code",
	   "execution_count": null,
	   "metadata": {
	    "collapsed": true
	   },
	   "outputs": [],
"source": [
"clc\n",
"//to calculate relative intensities\n",
"//Imax/Imin=(a1+a2)^2/(a1-a2)^2+105/95\n",
"//(a1+a2)/(a1-a2)=1.051\n",
"//we get a1/a2=40 \n",
"a1=40 //a1=40*a2\n",
"a2=1\n",
"disp('the ratio of the intensities of interfering sources is I1/I2=a1^2/a2^2='+string(a1^2/a2^2)+'unitless')\n",
"//answer is given in terms of ratio in the book"
   ]
   }
,
{
		   "cell_type": "markdown",
		   "metadata": {},
		   "source": [
			"## Example 2.7: distance_between_two_coherent_sources.sce"
		   ]
		  },
  {
"cell_type": "code",
	   "execution_count": null,
	   "metadata": {
	    "collapsed": true
	   },
	   "outputs": [],
"source": [
"clc\n",
"//to calculate distance between the two coherent sources\n",
"lambda=5890*10^-10 //wavelength in m\n",
"omega=9.424*10^-4 //width of the fringes in m\n",
"D=.80 //distance in m\n",
"twod=D*lambda/omega\n",
"disp('the distance between two coherent sources is twod='+string(twod)+'m')"
   ]
   }
,
{
		   "cell_type": "markdown",
		   "metadata": {},
		   "source": [
			"## Example 2.8: fringe_width.sce"
		   ]
		  },
  {
"cell_type": "code",
	   "execution_count": null,
	   "metadata": {
	    "collapsed": true
	   },
	   "outputs": [],
"source": [
"clc\n",
"//to calculate fringe width \n",
"mu=1.5 //refractive index (unitless)\n",
"alpha=%pi/180 //refracting angle in radian\n",
"Y1=20*10^-2 //distance between the source and the biprism in m\n",
"Y2=80*10^-2 //distance in m\n",
"D=Y1+Y2 // distance in m\n",
"lambda=6900*10^-10 //wavelength in m\n",
"twod=2*(mu-1)*alpha*Y1 \n",
"omega=D*lambda/twod\n",
"disp('the fringe width is omega='+string(omega)+'m')"
   ]
   }
,
{
		   "cell_type": "markdown",
		   "metadata": {},
		   "source": [
			"## Example 2.9: wavelength_of_light.sce"
		   ]
		  },
  {
"cell_type": "code",
	   "execution_count": null,
	   "metadata": {
	    "collapsed": true
	   },
	   "outputs": [],
"source": [
"clc\n",
"//to calculate wavelength of light\n",
"omega=1.888*10^-2/20 //in (m)\n",
"D=1.20 //distance of eye piece from the source in m\n",
"twod=0.00075 //distance between two virtual sources in m\n",
"lambda=omega*twod/D\n",
"disp('the wavelength of light is lambda='+string(lambda)+'m')\n",
""
   ]
   }
],
"metadata": {
		  "kernelspec": {
		   "display_name": "Scilab",
		   "language": "scilab",
		   "name": "scilab"
		  },
		  "language_info": {
		   "file_extension": ".sce",
		   "help_links": [
			{
			 "text": "MetaKernel Magics",
			 "url": "https://github.com/calysto/metakernel/blob/master/metakernel/magics/README.md"
			}
		   ],
		   "mimetype": "text/x-octave",
		   "name": "scilab",
		   "version": "0.7.1"
		  }
		 },
		 "nbformat": 4,
		 "nbformat_minor": 0
}
