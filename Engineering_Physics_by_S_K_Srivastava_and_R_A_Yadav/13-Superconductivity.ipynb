{
"cells": [
 {
		   "cell_type": "markdown",
	   "metadata": {},
	   "source": [
       "# Chapter 13: Superconductivity"
	   ]
	},
{
		   "cell_type": "markdown",
		   "metadata": {},
		   "source": [
			"## Example 13.1: value_of_T.sce"
		   ]
		  },
  {
"cell_type": "code",
	   "execution_count": null,
	   "metadata": {
	    "collapsed": true
	   },
	   "outputs": [],
"source": [
"clc\n",
"//to calculate value of Temperature\n",
"Bc=105*10^3 //magnetic field in amp/m\n",
"Bo=150*10^3 //critical field of the metal in amp/m \n",
"Tc=9.2 //critical temperature of the metal in K\n",
"T=Tc*sqrt(1-(Bc/Bo))\n",
"disp('value of temperature is T='+string(T)+'K')\n",
""
   ]
   }
,
{
		   "cell_type": "markdown",
		   "metadata": {},
		   "source": [
			"## Example 13.2: temperature_and_critical_current_density_at_the_temperature.sce"
		   ]
		  },
  {
"cell_type": "code",
	   "execution_count": null,
	   "metadata": {
	    "collapsed": true
	   },
	   "outputs": [],
"source": [
"clc\n",
"//to calculate temperature\n",
"Tc=7.18 //critical temperature in K\n",
"Bc=4.5*10^3  //critical field in A/m\n",
"Bo=6.5*10^3 //critical magnetic field in A/m\n",
"T=Tc*sqrt(1-(Bc/Bo))\n",
"disp('temperature is T='+string(T)+'K')\n",
"//to calculate critical current density at that temperature\n",
"r=1*10^-3 //diameter of the wire in mm\n",
"TJc=(Bc*2*%pi*r)/(%pi*r^2)\n",
"disp('the critical current density at that temperature is TJc='+string(TJc)+'A/m^2')"
   ]
   }
],
"metadata": {
		  "kernelspec": {
		   "display_name": "Scilab",
		   "language": "scilab",
		   "name": "scilab"
		  },
		  "language_info": {
		   "file_extension": ".sce",
		   "help_links": [
			{
			 "text": "MetaKernel Magics",
			 "url": "https://github.com/calysto/metakernel/blob/master/metakernel/magics/README.md"
			}
		   ],
		   "mimetype": "text/x-octave",
		   "name": "scilab",
		   "version": "0.7.1"
		  }
		 },
		 "nbformat": 4,
		 "nbformat_minor": 0
}
