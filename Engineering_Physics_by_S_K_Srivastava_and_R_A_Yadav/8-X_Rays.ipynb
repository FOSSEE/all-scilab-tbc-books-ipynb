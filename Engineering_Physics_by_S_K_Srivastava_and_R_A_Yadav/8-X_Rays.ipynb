{
"cells": [
 {
		   "cell_type": "markdown",
	   "metadata": {},
	   "source": [
       "# Chapter 8: X Rays"
	   ]
	},
{
		   "cell_type": "markdown",
		   "metadata": {},
		   "source": [
			"## Example 8.10: wavelength_of_second_X_Ray_beam.sce"
		   ]
		  },
  {
"cell_type": "code",
	   "execution_count": null,
	   "metadata": {
	    "collapsed": true
	   },
	   "outputs": [],
"source": [
"clc\n",
"//to calculate wavelength of second X-ray beam\n",
"//from bragg's law\n",
"//lambda=(d*sin(%pi/3))/n        eq(1)\n",
"//it is given that,theta=60,n=3,lambda=1.97 angstrom\n",
"//from eq(1) we get,2*d*sin60degree=3*0.97               eq(2)\n",
"//let lambda' be the second X-ray beam \n",
"//we get 2*d'*sin theta'=n'*lambda'                   eq(3)\n",
"//from eq(2) and eq(3),we get\n",
"lambda1=sin(%pi/6)*3*0.97/sin(%pi/3)   //where lambda1=lambda'\n",
"disp('wavelength of X-ray is lambda1='+string(lambda1)+'angstrom')"
   ]
   }
,
{
		   "cell_type": "markdown",
		   "metadata": {},
		   "source": [
			"## Example 8.11: wavelength_of_X_Ray_used.sce"
		   ]
		  },
  {
"cell_type": "code",
	   "execution_count": null,
	   "metadata": {
	    "collapsed": true
	   },
	   "outputs": [],
"source": [
"clc\n",
"//to calculate wavelength\n",
"d=2.82*10^-10 //spacing in m\n",
"n=1 \n",
"lambda=2*d*sin(10*%pi/180)/n\n",
"disp('wavelength of X-ray is lambda='+string(lambda)+'m')"
   ]
   }
,
{
		   "cell_type": "markdown",
		   "metadata": {},
		   "source": [
			"## Example 8.12: possible_spacing_of_the_set_of_planes.sce"
		   ]
		  },
  {
"cell_type": "code",
	   "execution_count": null,
	   "metadata": {
	    "collapsed": true
	   },
	   "outputs": [],
"source": [
"clc\n",
"//deduce possible spacing of the set of planes\n",
"//for first order , 2*d*sintheta1=1*lambda...eq(1)\n",
"//for second order ,2*d*sintheta2=2*lambda..eq(2)\n",
"//for third order, 2*d*sintheta3=3*lambda......eq(3)\n",
"//for fourth order, 2*d*sintheta4=4*lambda..............eq(4)\n",
"//divide eq(2) by eq(1),we get sintheta2=2*sintheta1\n",
"//similarly,sintheta3=3*sintheta1,sintheta4=4*sintheta1\n",
"lambda=1.32*10^-10\n",
"sintheta1=0.1650\n",
"d1=lambda/(2*sintheta1)//for first order n=1,d1=d/n\n",
"d2=lambda/(2*2*sintheta1)   //for second order n=2,d2=d/n\n",
"d3=lambda/(2*3*sintheta1)       //for third order n=3,d3=d/n\n",
"d4=lambda/(2*4*sintheta1)            //for fourth order n=4,d4=d/n\n",
"disp('d1='+string(d1)+'m')\n",
"disp('d2='+string(d2)+'m')\n",
"disp('d3='+string(d3)+'m')\n",
"disp('d4='+string(d4)+'m')"
   ]
   }
,
{
		   "cell_type": "markdown",
		   "metadata": {},
		   "source": [
			"## Example 8.13: Compton_shift_and_wavelength_and_fraction_of_energy_lost.sce"
		   ]
		  },
  {
"cell_type": "code",
	   "execution_count": null,
	   "metadata": {
	    "collapsed": true
	   },
	   "outputs": [],
"source": [
"clc\n",
"//to calculate compton shift and wavelength\n",
"h=6.63*10^-34 //planck's constant in J-s\n",
"m0=9.11*10^-31 //mass of electron\n",
"c=3*10^8 //light speed in m/s\n",
"dellambda=h*(1-(1/sqrt(2)))/(m0*c)\n",
"lambda0=2*10^-10\n",
"lambda=dellambda+lambda0\n",
"disp('compton shift is dellambda='+string(dellambda)+'m')\n",
"disp('wavelength of the scattered X-rays is lambda='+string(lambda)+'m')\n",
"//to calculate fraction of energy lost by the photon in the collision\n",
"//energy lost =E0-E/E0=(hc/lambda0)-(hc/lambda)/(ha/lambda0)\n",
"//we get,\n",
"energylost=dellambda/lambda\n",
"disp('energylost ='+string(energylost)+'unitless') "
   ]
   }
,
{
		   "cell_type": "markdown",
		   "metadata": {},
		   "source": [
			"## Example 8.14: wavelength_and_energy_of_photon.sce"
		   ]
		  },
  {
"cell_type": "code",
	   "execution_count": null,
	   "metadata": {
	    "collapsed": true
	   },
	   "outputs": [],
"source": [
"clc\n",
"//to calculate wavelength and energy\n",
"//formula is lambda'-lambda=h*(1-cos phi)/(m0*c),where phi=90 degree, lambda'=2lambda ---------------eq(1)\n",
"//dellambda=2lambda-lambda=lambda ----------------------------eq(2)\n",
"h=6.62*10^-34 //planck's constant\n",
"c=3*10^8 //light speed in m.s\n",
"m0=9*10^-31 //mass of electron in kg\n",
"//from eq(1) and eq(2) ,we get\n",
"lambda=h/(m0*c)\n",
"disp('wavelength is lambda='+string(lambda)+'m')\n",
"E=h*c/lambda\n",
"disp('energy of the incident photon is E='+string(E)+'J')"
   ]
   }
,
{
		   "cell_type": "markdown",
		   "metadata": {},
		   "source": [
			"## Example 8.15: wavelength_and_direction_of_electron.sce"
		   ]
		  },
  {
"cell_type": "code",
	   "execution_count": null,
	   "metadata": {
	    "collapsed": true
	   },
	   "outputs": [],
"source": [
"clc\n",
"//to calculate wavelength of radiation and direction of emission\n",
"h=6.6*10^-34           //planck's constant in J-s\n",
"c=3*10^8                //speed of light in m/s\n",
"energy=510*10^3                //energy of photon in eV\n",
"lambda=h*c/(energy*1.6*10^-19)\n",
"mo=9.1*10^-31             //mass of electron in Kg\n",
"lambda1=lambda+h*(1-cos(%pi/2))/(mo*c)\n",
"disp('wavelength of radiation is lambda1='+string(lambda1)+'m')\n",
"theta=atand(lambda*sin(%pi/2)/(lambda1-lambda*cos(%pi/2)))\n",
"disp('direction of emission of electron is theta='+string(theta)+'degree')"
   ]
   }
,
{
		   "cell_type": "markdown",
		   "metadata": {},
		   "source": [
			"## Example 8.16: EX8_16.sce"
		   ]
		  },
  {
"cell_type": "code",
	   "execution_count": null,
	   "metadata": {
	    "collapsed": true
	   },
	   "outputs": [],
"source": [
"clc\n",
"//to calculate wavelength of two X-rays\n",
"h=6.6*10^-34 //planck's constant in J-s\n",
"c=3*10^8 //light speed in m/s\n",
"mo=9.1*10^-31 //mass of electron in kg\n",
"lambda=10*10^-12 //wavelength in pm\n",
"lambda1=lambda+((h/(mo*c))*(1-(1/sqrt(2))))\n",
"disp('wavelength of two X-rays is lambda1='+string(lambda1)+'m')\n",
"//to calculate maximum wavelength\n",
"lambda2=lambda+((2*h)/(mo*c))\n",
"disp('maximum wavelength present in the scattered X-rays is lambda2='+string(lambda2)+'m')\n",
"//to calculate maximum kinetic energy \n",
"Kmax=(h*c)*((1/lambda)-(1/lambda2))/(1.6*10^-19)\n",
"disp('maximum kinetic energy of the recoil electrons is Kmax='+string(Kmax)+'eV')"
   ]
   }
,
{
		   "cell_type": "markdown",
		   "metadata": {},
		   "source": [
			"## Example 8.1: value_of_plancks_constant.sce"
		   ]
		  },
  {
"cell_type": "code",
	   "execution_count": null,
	   "metadata": {
	    "collapsed": true
	   },
	   "outputs": [],
"source": [
"clc\n",
"//to calculate value of planck's constant\n",
"e=1.6*10^-19 //in C\n",
"V=100*10^3 //voltage in KV\n",
"c=3*10^8 //light speed in m/s\n",
"lambdamin=12.35*10^-12 //wavelength in m\n",
"h=e*V*lambdamin/c\n",
"disp('the value of plancks constant is h='+string(h)+'J-s')"
   ]
   }
,
{
		   "cell_type": "markdown",
		   "metadata": {},
		   "source": [
			"## Example 8.2: maximum_frequency.sce"
		   ]
		  },
  {
"cell_type": "code",
	   "execution_count": null,
	   "metadata": {
	    "collapsed": true
	   },
	   "outputs": [],
"source": [
"clc\n",
"//to calculate maximum frequency\n",
"h=6.6*10^-34 //planck's constant in J-s\n",
"c=3*10^8 //light speed in m/s\n",
"Ve=50000 //accelerating potential in V\n",
"lambdamin=h*c/Ve //wavelength in m\n",
"numax=c/lambdamin\n",
"disp('maximum frequency present in the radiation from an X-ray tube is numax='+string(numax)+'Hz')\n",
"//answer is given in thec book is incorrect =1.2*10^19 Hz"
   ]
   }
,
{
		   "cell_type": "markdown",
		   "metadata": {},
		   "source": [
			"## Example 8.3: number_of_electrons_and_speed.sce"
		   ]
		  },
  {
"cell_type": "code",
	   "execution_count": null,
	   "metadata": {
	    "collapsed": true
	   },
	   "outputs": [],
"source": [
"clc\n",
"//to calculate number of electrons \n",
"I=2*10^-3 //current in mA\n",
"e=1.6*10^-19 \n",
"n=I/e\n",
"disp('number of electrons striking the target per second is n='+string(n)+'unitless')\n",
"//to calculate speed\n",
"m=9.1*10^-31 //mass of electron in kg\n",
"V=12.4*10^3 //potential difference in V\n",
"v=sqrt(2*V*e/m)\n",
"disp('the speed with which electrons strike the target is v='+string(v)+'m/s')"
   ]
   }
,
{
		   "cell_type": "markdown",
		   "metadata": {},
		   "source": [
			"## Example 8.4: longest_wavelength.sce"
		   ]
		  },
  {
"cell_type": "code",
	   "execution_count": null,
	   "metadata": {
	    "collapsed": true
	   },
	   "outputs": [],
"source": [
"clc\n",
"//to calculate wavelength\n",
"n=2 //second order for longest wavelength\n",
"d=2.82*10^-10 // spacing in angstrom\n",
"sintheta=1 \n",
"lambdamax=2*d*sintheta/n\n",
"disp('the longest wavelength that can be analysed by a rock salt crystal is lambdamax='+string(lambdamax)+'m')"
   ]
   }
,
{
		   "cell_type": "markdown",
		   "metadata": {},
		   "source": [
			"## Example 8.5: spacing_of_crystal.sce"
		   ]
		  },
  {
"cell_type": "code",
	   "execution_count": null,
	   "metadata": {
	    "collapsed": true
	   },
	   "outputs": [],
"source": [
"clc\n",
"//to calculate spacing of the crystal\n",
"h=6.62*10^-34 //planck's constant in J-s\n",
"m=9.1*10^-31 //mass of electron in kg\n",
"V=344 //voltage in V\n",
"e=1.6*10^-19\n",
"lambda=h/sqrt(2*m*e*V) //wavelength in m\n",
"//according to Bragg's law\n",
"n=1\n",
"//formula is 2*d*sintheta=n*lambda\n",
"d=n*lambda/(2*sin(%pi/6))\n",
"disp('the spacing of the crystal is d='+string(d)+'m')"
   ]
   }
,
{
		   "cell_type": "markdown",
		   "metadata": {},
		   "source": [
			"## Example 8.6: wavelength.sce"
		   ]
		  },
  {
"cell_type": "code",
	   "execution_count": null,
	   "metadata": {
	    "collapsed": true
	   },
	   "outputs": [],
"source": [
"clc\n",
"//to calculate wavelength of Kalpha line for an atom\n",
"R=1.1*10^5\n",
"z=92\n",
"//Ka line is emitted when electron jumps from l shell(n2=2) to k shell(n1=1)\n",
"//formula is 1/alphaa=R*(z-b)*((1/n1^2)-(1/n2)^2)\n",
"alphaa=4/(3*R*(z-1)^2)\n",
"disp('wavelength of Kalpha line for an atom is alphaa='+string(alphaa)+'cm')"
   ]
   }
,
{
		   "cell_type": "markdown",
		   "metadata": {},
		   "source": [
			"## Example 8.7: thickness.sce"
		   ]
		  },
  {
"cell_type": "code",
	   "execution_count": null,
	   "metadata": {
	    "collapsed": true
	   },
	   "outputs": [],
"source": [
"clc\n",
"//to calculate thickness\n",
"//mass absorption coefficient mum of an absorber is related with linear absorption coefficient mu and density of the material rho is given by\n",
"//mu=rho*mum=2.7*0.6=1.62 cm^-1\n",
"mu=1.62\n",
"//if initial intensity Io of the X-ray beam is reduced to I in traversing a distance x in absorber I=Io*e^-mu*x\n",
"//where I/Io=20\n",
"//put above values in the  below equation , we get\n",
"x=(2.3026*(log(20)/log(10)))/1.62\n",
"disp('thickness is x='+string(x)+'cm')"
   ]
   }
,
{
		   "cell_type": "markdown",
		   "metadata": {},
		   "source": [
			"## Example 8.8: atomic_number.sce"
		   ]
		  },
  {
"cell_type": "code",
	   "execution_count": null,
	   "metadata": {
	    "collapsed": true
	   },
	   "outputs": [],
"source": [
"clc\n",
"//to calculate atomic number of the element\n",
"//equation for balmer series in hydrogen spectrum is 1/lambda=R*((1/2^2)-(1/n^2))\n",
"//for series limit n=infinity ,R=4/lambdainfinity i.e. R=4/364.6nm\n",
"//X-ray wavelength of K series is 1/lambda=R*(z-1)^2*((1/1^2)-(1/n^2))\n",
"lambda=0.1*10^-9\n",
"R=4/(364.6*10^-9)\n",
"//for n=infinity ,minimum wavelength of k series is given by\n",
"z=sqrt(1/(lambda*R))+1\n",
"disp('atomic number is z='+string(z)+'unitless')"
   ]
   }
,
{
		   "cell_type": "markdown",
		   "metadata": {},
		   "source": [
			"## Example 8.9: wavelength_of_X_Rays.sce"
		   ]
		  },
  {
"cell_type": "code",
	   "execution_count": null,
	   "metadata": {
	    "collapsed": true
	   },
	   "outputs": [],
"source": [
"clc\n",
"//to calculate wavelength\n",
"d=1.87*10^-10 //spacing in angstrom\n",
"n=2 \n",
"//formula is lambda=2*d*sintheta/n\n",
"lambda=2*d*sin(%pi/6)/n\n",
"disp('the waelength of X-rays is lambda='+string(lambda)+'m')"
   ]
   }
],
"metadata": {
		  "kernelspec": {
		   "display_name": "Scilab",
		   "language": "scilab",
		   "name": "scilab"
		  },
		  "language_info": {
		   "file_extension": ".sce",
		   "help_links": [
			{
			 "text": "MetaKernel Magics",
			 "url": "https://github.com/calysto/metakernel/blob/master/metakernel/magics/README.md"
			}
		   ],
		   "mimetype": "text/x-octave",
		   "name": "scilab",
		   "version": "0.7.1"
		  }
		 },
		 "nbformat": 4,
		 "nbformat_minor": 0
}
