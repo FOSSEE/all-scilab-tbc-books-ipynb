{
"cells": [
 {
		   "cell_type": "markdown",
	   "metadata": {},
	   "source": [
       "# Chapter 7: Wave Mechanics"
	   ]
	},
{
		   "cell_type": "markdown",
		   "metadata": {},
		   "source": [
			"## Example 7.10: wavelength_and_number_of_photons.sce"
		   ]
		  },
  {
"cell_type": "code",
	   "execution_count": null,
	   "metadata": {
	    "collapsed": true
	   },
	   "outputs": [],
"source": [
"clc\n",
"//to calculate wavelength\n",
"h=6.6*10^-34 //plank's constant in J/sec\n",
"m=9.1*10^-31 //mass of electron in kg\n",
"c=3*10^8 //light speed in m/s\n",
"lambda=h/(m*c)\n",
"disp('wavelength of quantum of radiant energy is lambda='+string(lambda)+'m')\n",
"//to calculate number of photons \n",
"power=12 //power emitted by the lamp =150*(8/100) in watts\n",
"E=12 //energy emitted per second\n",
"lambda=4500*10^-10\n",
"energy=(h*c)/lambda //energy contained in one photon in J\n",
"number=E/energy\n",
"disp('number of photons emitted per sec is number='+string(number)+'unitless')"
   ]
   }
,
{
		   "cell_type": "markdown",
		   "metadata": {},
		   "source": [
			"## Example 7.11: uncertainity_in_position_of_electron.sce"
		   ]
		  },
  {
"cell_type": "code",
	   "execution_count": null,
	   "metadata": {
	    "collapsed": true
	   },
	   "outputs": [],
"source": [
"clc\n",
"//to calculate uncertainity in position\n",
"//actual formula is (delx)min*(delp)max=h/2*%pi-------------eq(1)\n",
"//(delp)max=p(momentum of the electron)\n",
"//mv=mov/sqrt(1-(v/c)^2)---------------------eq(2)\n",
"mo=9*10^-31 //mass of an electron in m/s\n",
"c=3*10^8 //light speed in m/s\n",
"v=3*10^7 //velocity in m/s  \n",
"h=6.6*10^-34 //plank's constant in J/s\n",
"//from eq(1) and eq(2),we get\n",
"delxmin=(h*sqrt(1-(v/c)^2))/(2*%pi*mo*v)\n",
"disp('smallest possible uncertainity in the position of an electron is delxmin='+string(delxmin)+'m')"
   ]
   }
,
{
		   "cell_type": "markdown",
		   "metadata": {},
		   "source": [
			"## Example 7.12: uncertainity_in_velocity.sce"
		   ]
		  },
  {
"cell_type": "code",
	   "execution_count": null,
	   "metadata": {
	    "collapsed": true
	   },
	   "outputs": [],
"source": [
"clc\n",
"//to calculate minimum uncertainity in the velocity\n",
"delxmax=10^-8 //maximum uncertainity in position in m\n",
"h=6.626*10^-34 //planck's constant\n",
"delpmin=h/(2*%pi*delxmax) //minimum uncertainity in momentum in kg-m/s^2 \n",
"m=9*10^-31 //mass of an electron in kg\n",
"delvmin=delpmin/m\n",
"disp('minimum uncertainity in the velocity is delvmin='+string(delvmin)+'m/s')"
   ]
   }
,
{
		   "cell_type": "markdown",
		   "metadata": {},
		   "source": [
			"## Example 7.13: uncertainity_in_momentum_and_velocity_of_electron_and_alpha_particle.sce"
		   ]
		  },
  {
"cell_type": "code",
	   "execution_count": null,
	   "metadata": {
	    "collapsed": true
	   },
	   "outputs": [],
"source": [
"clc\n",
"//to calculate uncertainity in the momentum of the parcticle \n",
"h=6.626*10^-34 //planck's constant J-s\n",
"delx=0.01*10^-2 //uncertainity in position in m\n",
"delp=h/(2*%pi*delx)\n",
"disp('uncertainity in the momentum of the parcticle is delp='+string(delp)+'kg-m/s^2')\n",
"//to calculate uncertainity in the velocity of an electron\n",
"m=9*10^-31 //mass of an electron in kg\n",
"delx=5*10^-10 \n",
"delv=h/(2*%pi*m*delx)\n",
"disp('uncertainity in the velocity of an electron is delv='+string(delv)+'m/s')\n",
"//to calculate uncertainity in the velocity of alpha particle \n",
"m=4*1.67*10^-27 //mass of alpha particle in kg\n",
"delx=5*10^-10\n",
"delv=h/(2*%pi*m*delx)\n",
"disp('uncertainity in the velocity of an electron is delv='+string(delv)+'m/s')"
   ]
   }
,
{
		   "cell_type": "markdown",
		   "metadata": {},
		   "source": [
			"## Example 7.14: uncertainity_in_position_of_electron.sce"
		   ]
		  },
  {
"cell_type": "code",
	   "execution_count": null,
	   "metadata": {
	    "collapsed": true
	   },
	   "outputs": [],
"source": [
"clc\n",
"//to calculate uncertainity in position\n",
"m=9.11*10^-31 //mass of electron in kg\n",
"delv=40 //uncertainity in velocity in m/s\n",
"h=6.6*10^-34 //plank's constant \n",
"delx=h/(2*%pi*m*delv)\n",
"disp('uncertainity in the position of the electron is delx='+string(delx)+'m')"
   ]
   }
,
{
		   "cell_type": "markdown",
		   "metadata": {},
		   "source": [
			"## Example 7.15: uncertainity_in_frequency.sce"
		   ]
		  },
  {
"cell_type": "code",
	   "execution_count": null,
	   "metadata": {
	    "collapsed": true
	   },
	   "outputs": [],
"source": [
"clc\n",
"//to calculate uncertainity in frequency\n",
"//delE*delt=h/2*%pi----eq(1)\n",
"//delE=h*delv-----------eq(2)\n",
"delt=10^-8 //uncertainity in time in s\n",
"//from eq(1) and eq(2),we get\n",
"delnu=1/(2*%pi*delt)\n",
"disp('minimum uncertainity in the frequency of the photon is delv='+string(delnu)+'sec^-1')"
   ]
   }
,
{
		   "cell_type": "markdown",
		   "metadata": {},
		   "source": [
			"## Example 7.16: minimum_error.sce"
		   ]
		  },
  {
"cell_type": "code",
	   "execution_count": null,
	   "metadata": {
	    "collapsed": true
	   },
	   "outputs": [],
"source": [
"clc\n",
"//to calculate uncertainity in the energy\n",
"h=6.63*10^-34 //plank's constant in J-s\n",
"delt=2.5*10^-14 //uncertainity in time in s\n",
"delE=h/(2*%pi*delt*1.6*10^-19)\n",
"disp('minimum error with which the energy of the state can be measured is delE='+string(delE)+'ev')"
   ]
   }
,
{
		   "cell_type": "markdown",
		   "metadata": {},
		   "source": [
			"## Example 7.17: time_required_for_the_atomic_system.sce"
		   ]
		  },
  {
"cell_type": "code",
	   "execution_count": null,
	   "metadata": {
	    "collapsed": true
	   },
	   "outputs": [],
"source": [
"clc\n",
"//to calculate time required for the atomic system \n",
"//delE=h*c*dellambda/lambda^2 -----eq(1)\n",
"//delE*delt=h/2*%pi----------eq(2)\n",
"dellambda=10^-14\n",
"c=3*10^8\n",
"lambda=6*10^-7\n",
"//from eq(1)and eq(2),we get\n",
"delt=(lambda^2)/(2*%pi*c*dellambda)\n",
"disp('time required for the atomic system to retain rotational energy is delt='+string(delt)+'s')"
   ]
   }
,
{
		   "cell_type": "markdown",
		   "metadata": {},
		   "source": [
			"## Example 7.18: uncertainity_in_momentum_and_kinetic_energy_of_the_nucleon.sce"
		   ]
		  },
  {
"cell_type": "code",
	   "execution_count": null,
	   "metadata": {
	    "collapsed": true
	   },
	   "outputs": [],
"source": [
"clc\n",
"//to calculate minimum uncertainity in the momentum \n",
"delxmax=5*10^-14 //uncertainity in position in m\n",
"h=6.626*10^-34 //plank's constant in Js\n",
"delpmin=h/(2*%pi*delxmax)\n",
"disp('minimum uncertainity in the momentum of the nucleon is delpmin='+string(delpmin)+'kg m/s')\n",
"m=1.675*10^-27 //mass in kg\n",
"Emin=(delpmin^2)/(2*m*1.6*10^-19)\n",
"disp('minimum kinetic energy of the nucleon is Emin='+string(Emin)+'eV')\n",
"//the answer is given wrong in the book Emin=0.039 eV"
   ]
   }
,
{
		   "cell_type": "markdown",
		   "metadata": {},
		   "source": [
			"## Example 7.19: uncertainity_in_velocity.sce"
		   ]
		  },
  {
"cell_type": "code",
	   "execution_count": null,
	   "metadata": {
	    "collapsed": true
	   },
	   "outputs": [],
"source": [
"clc\n",
"//to calculate uncertainity in velocity\n",
"delx=1.1*10^-8 //uncertainity in velocity in m\n",
"h=6.626*10^-34 //plank's constant\n",
"m=9.1*10^-31 //mass of electron in kg\n",
"delv=h/(2*%pi*m*delx)\n",
"disp('minimum uncertainity in velocity is delv='+string(delv)+'m/s')"
   ]
   }
,
{
		   "cell_type": "markdown",
		   "metadata": {},
		   "source": [
			"## Example 7.1: de_broglie_wavelength.sce"
		   ]
		  },
  {
"cell_type": "code",
	   "execution_count": null,
	   "metadata": {
	    "collapsed": true
	   },
	   "outputs": [],
"source": [
"clc\n",
"//to calculate de Broglie wavelength \n",
"v=1.5*10^7 //velocity of proton =(1/20)*velocity of light i.e.3*10^8 in m/s\n",
"m=1.67*10^-27 //mass of the proton in kg\n",
"h=6.6*10^-34 //plank's constant \n",
"lambda=h/(m*v)\n",
"disp('the de Broglie wavelength is lambda='+string(lambda)+'m') "
   ]
   }
,
{
		   "cell_type": "markdown",
		   "metadata": {},
		   "source": [
			"## Example 7.20: uncertainity_in_frequency_and_energy_of_electron.sce"
		   ]
		  },
  {
"cell_type": "code",
	   "execution_count": null,
	   "metadata": {
	    "collapsed": true
	   },
	   "outputs": [],
"source": [
"clc\n",
"//to calculate uncertainity in frequency\n",
"delt=10^-8 //uncertainity in time\n",
"delnu=1/(2*%pi*delt) \n",
"disp('minimum uncertainity in the frequency of a photon is delnu='+string(delnu)+'sec^-1')\n",
"//to use the uncertainity principle to place a lower limit on the energy an electron must have if it is to be part of a nucleus\n",
"delx=5*10^-15 //uncertainity in position\n",
"delp=h/(2*2*%pi*delx) //uncertainbity in momentum\n",
"c=3*10^8 ///speed of light in m/s\n",
"E=delp*c\n",
"disp('energy of an electron is E='+string(E)+'J')"
   ]
   }
,
{
		   "cell_type": "markdown",
		   "metadata": {},
		   "source": [
			"## Example 7.22: probability_of_finding_the_particle.sce"
		   ]
		  },
  {
"cell_type": "code",
	   "execution_count": null,
	   "metadata": {
	    "collapsed": true
	   },
	   "outputs": [],
"source": [
"clc\n",
"//to calculate probability of finding the particle\n",
"a=25*10^-10//width in angstrom \n",
"//wave function of the particle is chi(x)=sqrt(2/a)*sin(n*%pi*x/a),for the particle in the least energy state n=1\n",
"chix=sqrt(2/a)*sin(%pi*(a/2)/a)\n",
"delx=5*10^-10 //interval in angstrom\n",
"P=delx*chix^2\n",
"disp('probability of finding the particle is P='+string(P)+'unitless')"
   ]
   }
,
{
		   "cell_type": "markdown",
		   "metadata": {},
		   "source": [
			"## Example 7.24: energy_of_electron.sce"
		   ]
		  },
  {
"cell_type": "code",
	   "execution_count": null,
	   "metadata": {
	    "collapsed": true
	   },
	   "outputs": [],
"source": [
"clc\n",
"//to calculate energy of an electron\n",
"n=1 //least energy of the particle \n",
"h=6.63*10^-34 //planck's constant in Js\n",
"m=9.11*10^-31 //mass of electron in kg\n",
"a=10^-10 //width in angstrom\n",
"E=(n^2)*(h^2)/(8*m*(1.602*10^-19)*a^2)\n",
"disp('energy of an electron moving in one dimension in an infinitely high potential box is E='+string(E)+'eV')\n",
"//the answer is given wrong in the book E=5.68 eV"
   ]
   }
,
{
		   "cell_type": "markdown",
		   "metadata": {},
		   "source": [
			"## Example 7.26: probability_of_particle.sce"
		   ]
		  },
  {
"cell_type": "code",
	   "execution_count": null,
	   "metadata": {
	    "collapsed": true
	   },
	   "outputs": [],
"source": [
"clc\n",
"//to calculate probability\n",
"x1=0.45 //x1=0.45*L\n",
"x2=0.55       //x2=0.55*L\n",
"n=1                     //for ground state \n",
"//formula is P=integrate('(2/L)*sin(n*%pi*x)^2),'x',x1,x2)\n",
"P1=integrate('2*(sin(n*%pi*x)^2)','x',x1,x2)\n",
"disp('P1='+string(P1)+'unitless')\n",
"probability1=P1*100\n",
"disp('probability for the ground states is probability1 ='+string(probability1)+'%')\n",
"n=2            //for first excited state\n",
"P2=integrate('2*(sin(n*%pi*x)^2)','x',x1,x2)\n",
"disp('P2='+string(P2)+'unitless')\n",
"probability2=P2*100 \n",
"disp('probability for first excited states is probability2='+string(probability2)+'%')"
   ]
   }
,
{
		   "cell_type": "markdown",
		   "metadata": {},
		   "source": [
			"## Example 7.28: energy_of_neutron.sce"
		   ]
		  },
  {
"cell_type": "code",
	   "execution_count": null,
	   "metadata": {
	    "collapsed": true
	   },
	   "outputs": [],
"source": [
"clc\n",
"//to calculate energy of a neutron\n",
"//consider nucleus as a cubical box of size 10^-14m\n",
"//x=y=z=a=10^-14=l\n",
"//for neutron to be in the lowest energy state nx=ny=nz=1\n",
"//formula is E=(%pi^2*h^2/8*%pi^2*m)*((nx/lx)^2+(ny/ly)^2+(nz/lz)^2)\n",
"h=6.626*10^-34  //planck's constant in Js\n",
"m=1.6*10^-27 //mass in kg\n",
"l=10^-14 //in m\n",
"E=(%pi^2)*(h^2)*3/(4*(%pi^2)*2*m*(1.6*10^-19)*l^2)\n",
"disp('lowest energy of a neutron is E='+string(E)+'eV')"
   ]
   }
,
{
		   "cell_type": "markdown",
		   "metadata": {},
		   "source": [
			"## Example 7.29: zero_point_energy.sce"
		   ]
		  },
  {
"cell_type": "code",
	   "execution_count": null,
	   "metadata": {
	    "collapsed": true
	   },
	   "outputs": [],
"source": [
"clc\n",
"//to calculate zero point energy of a linear harmonic oscillator\n",
"h=6.63*10^-34 //planck's constant in Js\n",
"nu=50 //frequency in Hz\n",
"zeropointenergy=(h*nu)/2\n",
"disp('zeropointenergy='+string(zeropointenergy)+'J')"
   ]
   }
,
{
		   "cell_type": "markdown",
		   "metadata": {},
		   "source": [
			"## Example 7.2: de_broglie_wavelength.sce"
		   ]
		  },
  {
"cell_type": "code",
	   "execution_count": null,
	   "metadata": {
	    "collapsed": true
	   },
	   "outputs": [],
"source": [
"clc\n",
"//to calculate de Broglie wavelength\n",
"//mo*c^2=1.507*10^-10/1.6*10^-19=941.87 Mev\n",
"//since 12.8 Mev is very small compared to rest mass energy hence relavistic consideration may be ignored\n",
"m=1.67*10^-27 //mass in kg\n",
"h=6.62*10^-34 //plank's constant\n",
"E=12.8*10^6 //energy in Mev\n",
"lambda=h/sqrt(2*m*E*1.6*10^-19)\n",
"disp('thede Broglie wavelength is lambda='+string(lambda)+'angstrom')"
   ]
   }
,
{
		   "cell_type": "markdown",
		   "metadata": {},
		   "source": [
			"## Example 7.30: zero_point_energy.sce"
		   ]
		  },
  {
"cell_type": "code",
	   "execution_count": null,
	   "metadata": {
	    "collapsed": true
	   },
	   "outputs": [],
"source": [
"clc\n",
"//to calculate zero point energy\n",
"nu=1 //frequency in Hz\n",
"h=6.63*10^-34 //planck's constant in Js\n",
"zeropointenergy=(h*nu)/2\n",
"disp('zeropointenergy='+string(zeropointenergy)+'J')"
   ]
   }
,
{
		   "cell_type": "markdown",
		   "metadata": {},
		   "source": [
			"## Example 7.31: frequency_of_vibration.sce"
		   ]
		  },
  {
"cell_type": "code",
	   "execution_count": null,
	   "metadata": {
	    "collapsed": true
	   },
	   "outputs": [],
"source": [
"clc\n",
"//to calculate frequency of vibration\n",
"En=0.1*1.6*10^-19 //energy of a linear harmonic oscillator in eV\n",
"n=3 //third excited state\n",
"h=6.63*10^-34 //planck's constant\n",
"nu=En/((n+(1/2))*h)\n",
"disp('the frequency of vibration is nu='+string(nu)+'Hz')"
   ]
   }
,
{
		   "cell_type": "markdown",
		   "metadata": {},
		   "source": [
			"## Example 7.4: wavelength.sce"
		   ]
		  },
  {
"cell_type": "code",
	   "execution_count": null,
	   "metadata": {
	    "collapsed": true
	   },
	   "outputs": [],
"source": [
"clc\n",
"//to calculate wavelength\n",
"h=6.6*10^-34 //plank's constant\n",
"m=9.1*10^-31 //mass of electron in kg\n",
"E=1.25*10^3 //pottential difference keV\n",
"lambda=h/sqrt(2*m*E*1.6*10^-19)\n",
"disp('the wavelength is lambda='+string(lambda)+'angstrom')"
   ]
   }
,
{
		   "cell_type": "markdown",
		   "metadata": {},
		   "source": [
			"## Example 7.5: Kinetic_energy_of_electron.sce"
		   ]
		  },
  {
"cell_type": "code",
	   "execution_count": null,
	   "metadata": {
	    "collapsed": true
	   },
	   "outputs": [],
"source": [
"clc\n",
"//to calculate kinetic energy of an electron \n",
"h=6.63*10^-34 //plank's constant\n",
"mo=9.1*10^-31 //rest mass of an electron in kg\n",
"lambda=5896*10^-10  //wavelength in angstrom\n",
"K=(h^2)/(2*mo*(lambda^2)*1.6*10^-19) \n",
"disp('kinetic energy of an electron is K='+string(K)+'eV')"
   ]
   }
,
{
		   "cell_type": "markdown",
		   "metadata": {},
		   "source": [
			"## Example 7.6: wavelength_of_electron.sce"
		   ]
		  },
  {
"cell_type": "code",
	   "execution_count": null,
	   "metadata": {
	    "collapsed": true
	   },
	   "outputs": [],
"source": [
"clc\n",
"//to calculate the wavelength of an electron of kinetic energy\n",
"mo=9.1*10^-31 //mass of an electron in kg\n",
"c=3*10^8 //speed of light in m/s \n",
"K=1*10^6//kinetic energy in eV\n",
"h=6.62*10^-34 //planck's constant in J-s\n",
"//E=moc^2=81.9*10^-15/1.6*10^-19 eV=0.51MeV\n",
"E=0.51*10^6\n",
"lambda=(h*c)/(sqrt(K*(K+2*E))*1.6*10^-19)\n",
"disp('wavelength of an electron of kinetic energy is lambda='+string(lambda)+'m')\n",
""
   ]
   }
,
{
		   "cell_type": "markdown",
		   "metadata": {},
		   "source": [
			"## Example 7.7: de_broglie_wavelength_of_electron.sce"
		   ]
		  },
  {
"cell_type": "code",
	   "execution_count": null,
	   "metadata": {
	    "collapsed": true
	   },
	   "outputs": [],
"source": [
"clc\n",
"//to calculate de Broglie wavelength\n",
"V=100 //potential difference in volts\n",
"lambda=12.25/sqrt(V)\n",
"disp('de Broglie wavelength of any electron is lambda='+string(lambda)+'angstrom')"
   ]
   }
,
{
		   "cell_type": "markdown",
		   "metadata": {},
		   "source": [
			"## Example 7.9: energy_of_neutron.sce"
		   ]
		  },
  {
"cell_type": "code",
	   "execution_count": null,
	   "metadata": {
	    "collapsed": true
	   },
	   "outputs": [],
"source": [
"clc\n",
"//to calculate energy of the neutron\n",
"h=6.60*10^-34 //plank's constant in J/s\n",
"m=1.674*10^-27 //mass of the neutron in kg\n",
"lambda=10^-10 //de Broglie wavelength in m\n",
"E=(h^2)/(2*m*(lambda^2)*1.6*10^-19)\n",
"disp('energy of the neutron is E='+string(E)+'eV')"
   ]
   }
],
"metadata": {
		  "kernelspec": {
		   "display_name": "Scilab",
		   "language": "scilab",
		   "name": "scilab"
		  },
		  "language_info": {
		   "file_extension": ".sce",
		   "help_links": [
			{
			 "text": "MetaKernel Magics",
			 "url": "https://github.com/calysto/metakernel/blob/master/metakernel/magics/README.md"
			}
		   ],
		   "mimetype": "text/x-octave",
		   "name": "scilab",
		   "version": "0.7.1"
		  }
		 },
		 "nbformat": 4,
		 "nbformat_minor": 0
}
