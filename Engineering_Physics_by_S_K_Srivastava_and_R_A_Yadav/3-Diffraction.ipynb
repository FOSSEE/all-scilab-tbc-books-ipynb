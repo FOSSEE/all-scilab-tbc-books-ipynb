{
"cells": [
 {
		   "cell_type": "markdown",
	   "metadata": {},
	   "source": [
       "# Chapter 3: Diffraction"
	   ]
	},
{
		   "cell_type": "markdown",
		   "metadata": {},
		   "source": [
			"## Example 3.10: wavelength_of_light_and_missing_orders.sce"
		   ]
		  },
  {
"cell_type": "code",
	   "execution_count": null,
	   "metadata": {
	    "collapsed": true
	   },
	   "outputs": [],
"source": [
"clc\n",
"//to calculate wavelength of light and missing orders\n",
"omega=0.25  //fringe width in cm\n",
"D=170 //distance in cm\n",
"twod=0.04 // distance in cm\n",
"lambda=omega*twod/D\n",
"disp('wavelength of light is lambda='+string(lambda)+'cm')\n",
"e=0.08 //width of slit in mm\n",
"d=0.4 //in mm\n",
"m=1\n",
"n=m*(e+d)/e \n",
"disp('missing order is n='+string(n)+'unitless')\n",
"//we can also find order for m=2,3,...."
   ]
   }
,
{
		   "cell_type": "markdown",
		   "metadata": {},
		   "source": [
			"## Example 3.11: wavelength_of_spectral_line.sce"
		   ]
		  },
  {
"cell_type": "code",
	   "execution_count": null,
	   "metadata": {
	    "collapsed": true
	   },
	   "outputs": [],
"source": [
"clc\n",
"//to calculate wavelength\n",
"n=2 //order of spectrum\n",
"theta=%pi/6 //in radians\n",
"E=1/5000 //let (e+d)=E\n",
"lambda=E*sin(%pi/6)/n\n",
"disp('the wavelength of the spectral line is lambda='+string(lambda)+'cm')"
   ]
   }
,
{
		   "cell_type": "markdown",
		   "metadata": {},
		   "source": [
			"## Example 3.12: difference_in_deviations.sce"
		   ]
		  },
  {
"cell_type": "code",
	   "execution_count": null,
	   "metadata": {
	    "collapsed": true
	   },
	   "outputs": [],
"source": [
"clc\n",
"//to calculate difference in deviations \n",
"lambda=5*10^-5    //wavelength of light in cm\n",
"eplusd=1/6000         //where eplusd=e+d\n",
"theta1=asind(lambda/eplusd)    //for first order spectrum\n",
"theta3=asind(3*lambda/eplusd) //for second order spectrum\n",
"difference=theta3-theta1\n",
"disp('difference in deviations in first and third order spectra is difference ='+string(difference)+'degree')\n",
""
   ]
   }
,
{
		   "cell_type": "markdown",
		   "metadata": {},
		   "source": [
			"## Example 3.13: orders.sce"
		   ]
		  },
  {
"cell_type": "code",
	   "execution_count": null,
	   "metadata": {
	    "collapsed": true
	   },
	   "outputs": [],
"source": [
"clc\n",
"//to calculate orders\n",
"//let E=(e+d) \n",
"//formula is (e+d)*sin thita=n*lambda\n",
"//for maximum order to be possible thita=90 degree\n",
"//sin theta=1\n",
"E=2.54/2620 //in cm\n",
"lambda=5*10^-5 //wavelength of the incident light in cm\n",
"n=E/lambda\n",
"disp('the orders will be visible is n='+string(n)+'unitless')"
   ]
   }
,
{
		   "cell_type": "markdown",
		   "metadata": {},
		   "source": [
			"## Example 3.14: number_of_lines_per_cm.sce"
		   ]
		  },
  {
"cell_type": "code",
	   "execution_count": null,
	   "metadata": {
	    "collapsed": true
	   },
	   "outputs": [],
"source": [
"clc\n",
"//to calculate number of lines in the grating\n",
"//theta1=theta2=30 degree\n",
"//sin theta1=sin theta2=1/2\n",
"lambda1=6*10^-5 \n",
"                      //wavelength in cm\n",
"lambda2=4.5*10^-5\n",
"//let (e+d)=E \n",
"//formula is (e+d)*sin theta1=n*lambda1----------eq(1)\n",
"//(e+d)*sin theta2=(n+1)*lambda2----------eq(2)\n",
"//we get,\n",
"n=lambda2/(lambda1-lambda2)  //order of spectrum\n",
"E=n*lambda1/sin(%pi/6)\n",
"number=1/E\n",
"disp('number of lines is number='+string(number)+'unitless')"
   ]
   }
,
{
		   "cell_type": "markdown",
		   "metadata": {},
		   "source": [
			"## Example 3.15: orders_of_spectrum.sce"
		   ]
		  },
  {
"cell_type": "code",
	   "execution_count": null,
	   "metadata": {
	    "collapsed": true
	   },
	   "outputs": [],
"source": [
"clc\n",
"//to calculate order when visible light of wavelength in the range 4000 to 7500 angstrom\n",
"//let E=(e+d)\n",
"E=1/4000 //in cm\n",
"lambda1=4*10^-5 \n",
"                        //wavelength in cm\n",
"lambda2=7.5*10^-5\n",
"n1=E*sin(%pi/2)/lambda1\n",
"n2=E*sin(%pi/2)/lambda2\n",
"disp('order when wavelength of 4000 angstrom is n1='+string(n1)+'unitless')\n",
"disp('order when wavelength of 7500 angstrom is n2='+string(n2)+'unitless')"
   ]
   }
,
{
		   "cell_type": "markdown",
		   "metadata": {},
		   "source": [
			"## Example 3.17: angle_of_diffraction.sce"
		   ]
		  },
  {
"cell_type": "code",
	   "execution_count": null,
	   "metadata": {
	    "collapsed": true
	   },
	   "outputs": [],
"source": [
"clc\n",
"//to calculate angle of diffraction \n",
"n=1 //order\n",
"lambda=5000*10^-8             //wavelength of light in cm\n",
"eplusd=1/5000      // in cm\n",
"theta=asind(n*lambda/(eplusd))\n",
"disp('angle of diffraction for maximum intensity in the first order is theta='+string(theta)+'degree') "
   ]
   }
,
{
		   "cell_type": "markdown",
		   "metadata": {},
		   "source": [
			"## Example 3.18: number_of_lines_in_one_centimeter.sce"
		   ]
		  },
  {
"cell_type": "code",
	   "execution_count": null,
	   "metadata": {
	    "collapsed": true
	   },
	   "outputs": [],
"source": [
"clc\n",
"//to calculate number of lines in one centimeter of the grating\n",
"//let E=(e+d)\n",
"//formula for grating equation for principal maxima is (e+d)*sin theta=n*lambda\n",
"n=2 //order of spectrum\n",
"lambda=5*10^-5 //wavelength in cm\n",
"E=n*lambda/sin(%pi/6)\n",
"number=1/E\n",
"disp('number of lines is number='+string(number)+'unitless')\n",
"//answer is given wrong in the book ,number of lines=1000"
   ]
   }
,
{
		   "cell_type": "markdown",
		   "metadata": {},
		   "source": [
			"## Example 3.19: spectral_line.sce"
		   ]
		  },
  {
"cell_type": "code",
	   "execution_count": null,
	   "metadata": {
	    "collapsed": true
	   },
	   "outputs": [],
"source": [
"clc\n",
"//to calculate which spectral line in 5th order will overlap with 4th order line of 5890 angstrom\n",
"//the grating equation for principal maxima is (e+d)*sin theta =n*lambda\n",
"n1=5 \n",
"                //order of spectrum \n",
"n2=4\n",
"lambda2=5890*10^-8 //wavelength of 4th order spectrum in cm\n",
"//(e+d)*sin theta=5*lambda-------------eq(1)\n",
"//(e+d)*sin theta=4*5890*10^-8-----------------eq(2)\n",
"//from eq(1) and eq(2) ,we get\n",
"lambda1=n2*lambda2/n1\n",
"disp('wavelength of 5th order spectrum is lambda1='+string(lambda1)+'cm')"
   ]
   }
,
{
		   "cell_type": "markdown",
		   "metadata": {},
		   "source": [
			"## Example 3.1: angular_width_and_linear_width.sce"
		   ]
		  },
  {
"cell_type": "code",
	   "execution_count": null,
	   "metadata": {
	    "collapsed": true
	   },
	   "outputs": [],
"source": [
"clc\n",
"//to calculate angular width and linear width \n",
"lambda=6*10^-5\n",
"e=0.01 //width of slit in cm\n",
"//position of minima is given by\n",
"sintheta=lambda/e               //sintheta=m*lambda/e             ,where m=1,2,3,......\n",
"disp('sintheta='+string(sintheta)+' m')\n",
"//since theta is very small,so sintheta is approximately equal to theta\n",
"theta=sintheta\n",
"theta1=2*theta\n",
"disp('total angular width of central maximum is theta1='+string(theta1)+' m radians ')\n",
"d=100  //distance in cm\n",
"Y=theta*d\n",
"Y1=2*Y\n",
"disp('linear width of central maximum on the screen is Y1='+string(Y1)+' m cm')\n",
"disp('values of m =1,2,3,............ gives the directions of first, second .............minima')"
   ]
   }
,
{
		   "cell_type": "markdown",
		   "metadata": {},
		   "source": [
			"## Example 3.20: grating_element.sce"
		   ]
		  },
  {
"cell_type": "code",
	   "execution_count": null,
	   "metadata": {
	    "collapsed": true
	   },
	   "outputs": [],
"source": [
"clc\n",
"//to calculate grating element\n",
"//grating equation for principal maxima is given by (e+d)*sintheta=n*lambda\n",
"//let nth order spectrum for yellow line (lambda=6000 angstrom) coincide with (n+1)th order spectrum for blue line (lambda=4800 angstrom) \n",
"//(e+d)*sintheta=n*6000*10^-8..eq(1)\n",
"//(e+d)*sintheta=(n+1)*4800*10^-8.....eq(2)\n",
"//from eq(1) and eq(2),we get n=4\n",
"n=4\n",
"lambda=6000*10^-8      //wavelength in cm\n",
"sintheta=3/4   \n",
"eplusd=n*lambda/sintheta\n",
"disp('grating element is eplusd='+string(eplusd)+'cm')"
   ]
   }
,
{
		   "cell_type": "markdown",
		   "metadata": {},
		   "source": [
			"## Example 3.21: angle_of_diffraction_and_absent_spectra.sce"
		   ]
		  },
  {
"cell_type": "code",
	   "execution_count": null,
	   "metadata": {
	    "collapsed": true
	   },
	   "outputs": [],
"source": [
"clc\n",
"//to calculate angle of diffraction for third order spectrum and absent spectra if any\n",
"n=3\n",
"lambda=6000*10^-8\n",
"eplusd=1/200\n",
"theta=asind(n*lambda/eplusd)\n",
"disp('angle of refraction is theta='+string(theta)+'degree')\n",
"d=0.0025\n",
"e=eplusd-d //width of wire in cm\n",
"m=1\n",
"n=eplusd*m/e\n",
"disp('order of absent spectrum is n='+string(n)+'unitless')\n",
"disp('here,m=1 is considered because the higher values of m result the order of absent spectrum more than the given order 3')"
   ]
   }
,
{
		   "cell_type": "markdown",
		   "metadata": {},
		   "source": [
			"## Example 3.22: difference_in_two_wavelenghts.sce"
		   ]
		  },
  {
"cell_type": "code",
	   "execution_count": null,
	   "metadata": {
	    "collapsed": true
	   },
	   "outputs": [],
"source": [
"clc\n",
"//to calculate difference in the two wavelengths\n",
"//grating equation for principal maxima is (e+d)*sintheta=n*lambda...............eq(1)\n",
"//differentiate both sides ,we get dtheta=n*dlambda/((e+d)*costheta)...........eq(2)\n",
"lambda=5000           //mean value of wavelengths in angstrom\n",
"cottheta=1.732       //cot30degree=1.732\n",
"dtheta=0.01 //in radian\n",
"//put the value of n from eq(2),we can write eq(2)  \n",
"dlambda=lambda*dtheta*cottheta\n",
"disp('difference in two wavelengths is dlambda='+string(dlambda)+'angstrom')"
   ]
   }
,
{
		   "cell_type": "markdown",
		   "metadata": {},
		   "source": [
			"## Example 3.23: dispersive_power.sce"
		   ]
		  },
  {
"cell_type": "code",
	   "execution_count": null,
	   "metadata": {
	    "collapsed": true
	   },
	   "outputs": [],
"source": [
"clc\n",
"//to calculate dispersive power \n",
"//differentiate grating equation ,we get dtheta/dlambda=n/((e+d)*costheta)\n",
"n=2 //order \n",
"eplusd=1/4000\n",
"lambda=5000*10^-8 //wavelength in cm\n",
"sintheta=n*lambda/(eplusd)\n",
"costheta=sqrt(1-(sintheta)^2)\n",
"dtheta=n/((eplusd)*costheta)   //where dispersive power dtheta/dlambda=dtheta\n",
"disp('dispersive power of he grating in the second order spectrum is dtheta='+string(dtheta)+'unitless')"
   ]
   }
,
{
		   "cell_type": "markdown",
		   "metadata": {},
		   "source": [
			"## Example 3.24: orders.sce"
		   ]
		  },
  {
"cell_type": "code",
	   "execution_count": null,
	   "metadata": {
	    "collapsed": true
	   },
	   "outputs": [],
"source": [
"clc\n",
"//to calculate orders\n",
"eplusd=1/4000\n",
"lambda1=5*10^-5\n",
"                          //wavelengh in cm\n",
"lambda2=7.5*10^-5\n",
"nmax1=eplusd/lambda1\n",
"nmax2=eplusd/lambda2\n",
"disp('orders will be observed by a grating ,if it is illuminated by light of wavelength of 5000 angstrom is nmax1='+string(nmax1)+'unitless ')\n",
"disp('orders will be observed ,if it is illuminated by light of wavelength of 7500 angstrom is nmax2='+string(nmax2)+'unitless')"
   ]
   }
,
{
		   "cell_type": "markdown",
		   "metadata": {},
		   "source": [
			"## Example 3.25: difference_in_wavelenghts.sce"
		   ]
		  },
  {
"cell_type": "code",
	   "execution_count": null,
	   "metadata": {
	    "collapsed": true
	   },
	   "outputs": [],
"source": [
"clc\n",
"//to calculate difference in wavelengths of two lines\n",
"//let E=(e+d)=1/5000\n",
"//we get\n",
"E=2*10^-4 //in cm\n",
"n=2 //order of spectrum\n",
"lambda=5893*10^-8 //wavelength in cm\n",
"//dtheta=2.5'=(2.5/60)*(3.14/180),we get\n",
"dtheta=7.27*10^-4 //in radian\n",
"dlambda=sqrt(((E/n)^2)-lambda^2)*dtheta\n",
"disp('the difference in wavelengths of two lines is dlambda='+string(dlambda)+'cm') "
   ]
   }
,
{
		   "cell_type": "markdown",
		   "metadata": {},
		   "source": [
			"## Example 3.26: aperture.sce"
		   ]
		  },
  {
"cell_type": "code",
	   "execution_count": null,
	   "metadata": {
	    "collapsed": true
	   },
	   "outputs": [],
"source": [
"clc\n",
"//to calculate aperture of the objective of a telescope\n",
"lambda=6*10^-5 //wavelength of light in cm\n",
"dtheta=4.88*10^-6 // in radians\n",
"a=1.22*lambda/dtheta\n",
"disp('the aperture of the objective of a telescope is a='+string(a)+'cm')"
   ]
   }
,
{
		   "cell_type": "markdown",
		   "metadata": {},
		   "source": [
			"## Example 3.27: separation_of_two_points_on_the_moon.sce"
		   ]
		  },
  {
"cell_type": "code",
	   "execution_count": null,
	   "metadata": {
	    "collapsed": true
	   },
	   "outputs": [],
"source": [
"clc\n",
"//to calculate separation of two points on the moon\n",
"lambda=5.5*10^-5 //wavelength of light in cm\n",
"a=500 //diameter in cm\n",
"dtheta=1.22*lambda/a //limit of resolution of telescope in radians\n",
"R=3.8*10^8 //distance between earth and moon in m\n",
"X=R*dtheta\n",
"disp('the separation of two points on the moon is X='+string(X)+'m')"
   ]
   }
,
{
		   "cell_type": "markdown",
		   "metadata": {},
		   "source": [
			"## Example 3.28: numerical_aperture.sce"
		   ]
		  },
  {
"cell_type": "code",
	   "execution_count": null,
	   "metadata": {
	    "collapsed": true
	   },
	   "outputs": [],
"source": [
"clc\n",
"//to calculate numerical aperture of the objective\n",
"lambda=5.461*10^-5 //wavelength in cm\n",
"S=5.55*10^-5 //distance in cm\n",
"NA=1.22*lambda/(2*S)\n",
"disp('the numerical aperture of the objective is NA='+string(NA)+'unitless')"
   ]
   }
,
{
		   "cell_type": "markdown",
		   "metadata": {},
		   "source": [
			"## Example 3.29: resolving_power.sce"
		   ]
		  },
  {
"cell_type": "code",
	   "execution_count": null,
	   "metadata": {
	    "collapsed": true
	   },
	   "outputs": [],
"source": [
"clc\n",
"//to calculate resolving power of microscope\n",
"NA=0.12 //numerical aperture\n",
"lambda=6*10^-5 //wavelength of light in cm\n",
"RP=2*NA/lambda //RP=resolving power\n",
"disp('the resolving power of microscope is RP='+string(RP)+'unitless')"
   ]
   }
,
{
		   "cell_type": "markdown",
		   "metadata": {},
		   "source": [
			"## Example 3.2: wavelength_of_light.sce"
		   ]
		  },
  {
"cell_type": "code",
	   "execution_count": null,
	   "metadata": {
	    "collapsed": true
	   },
	   "outputs": [],
"source": [
"clc\n",
"//to calculate wavelength of light\n",
"//in a diffraction pattern due to single slit, minima is given by e*sintheta=m*lambda\n",
"//since theta is very small, sintheta is approximately equal to theta\n",
"//theta=Y/d\n",
"e=0.014 //width of slit in cm\n",
"d=200 //distance in cm\n",
"m=2 \n",
"Y=1.6 //in cm\n",
"lambda=Y*e/(d*m)\n",
"disp('wavelength of light is lambda='+string(lambda)+'cm')"
   ]
   }
,
{
		   "cell_type": "markdown",
		   "metadata": {},
		   "source": [
			"## Example 3.30: maximum_resolving_power.sce"
		   ]
		  },
  {
"cell_type": "code",
	   "execution_count": null,
	   "metadata": {
	    "collapsed": true
	   },
	   "outputs": [],
"source": [
"clc\n",
"//to calculate maximum resolving power\n",
"lambda=5*10^-5 //wavelength of light in cm\n",
"N=40000 //total number of lines on grating\n",
"//(e+d)=12.5*10^-5 cm\n",
"//formula is nmax=(e+d)/lambda\n",
"//we get\n",
"nmax=2 //order of spectrum\n",
"RP=nmax*N //RP=resolving power\n",
"disp('the maximum resolving power is RP='+string(RP)+'unitless') "
   ]
   }
,
{
		   "cell_type": "markdown",
		   "metadata": {},
		   "source": [
			"## Example 3.31: minimum_number_of_lines.sce"
		   ]
		  },
  {
"cell_type": "code",
	   "execution_count": null,
	   "metadata": {
	    "collapsed": true
	   },
	   "outputs": [],
"source": [
"clc\n",
"//to calculate minimum number of lines in a grating\n",
"lambda1=5890 \n",
"             //wavelengh in angstrom\n",
"lambda2=5896\n",
"dlambda=6 //smallest wavelength difference in angstrom\n",
"n=2 //order of spectrum \n",
"lambda=(lambda1+lambda2)/2 //average wavelength in angstrom\n",
"RP=lambda/dlambda //RP=resolving power\n",
"N=RP/n\n",
"disp('minimum number of lines in a grating is N='+string(N)+'unitless')"
   ]
   }
,
{
		   "cell_type": "markdown",
		   "metadata": {},
		   "source": [
			"## Example 3.32: will_the_telescope_be_able_to_observe_the_wiremesh.sce"
		   ]
		  },
  {
"cell_type": "code",
	   "execution_count": null,
	   "metadata": {
	    "collapsed": true
	   },
	   "outputs": [],
"source": [
"clc\n",
"//will the telescope be able to observe the wiremesh\n",
"a=3 //aperture in cm\n",
"lambda=5.5*10^-5 //wavelength of light in cm\n",
"//limit of resolution of telescope is given by\n",
"theta=1.22*lambda/a\n",
"//alpha=spacing of wire-mesh/distance of objective from wire-mesh\n",
"alpha=0.2/(80*10^2)\n",
"disp('theta='+string(theta)+'radian')\n",
"disp('alpha='+string(alpha)+'radian')\n",
"disp('if alpha>theta then telescope will be able to observe the wire-mesh')\n",
"//value of alpha is given wrong in the book 2.25*10^-5 radian"
   ]
   }
,
{
		   "cell_type": "markdown",
		   "metadata": {},
		   "source": [
			"## Example 3.33: distance_between_the_centres_of_the_images_of_two_stars.sce"
		   ]
		  },
  {
"cell_type": "code",
	   "execution_count": null,
	   "metadata": {
	    "collapsed": true
	   },
	   "outputs": [],
"source": [
"clc\n",
"//distance between the centres of  images of two stars\n",
"lambda=5500*10^-8         //wavelength of light in cm\n",
"f=4*10^2              //focal length of telescope objective in cm\n",
"a=0.01*10^2         //diameter in cm\n",
"X=1.22*lambda*f/a\n",
"disp('distance between the centres of images of two stars is X='+string(X)+'cm ')"
   ]
   }
,
{
		   "cell_type": "markdown",
		   "metadata": {},
		   "source": [
			"## Example 3.34: diameter_of_a_telescope_objective.sce"
		   ]
		  },
  {
"cell_type": "code",
	   "execution_count": null,
	   "metadata": {
	    "collapsed": true
	   },
	   "outputs": [],
"source": [
"clc\n",
"//to calculate diameter of a telescope \n",
"lambda=5*10^-5 //wavelength in cm\n",
"theta=(%pi/180)*(1/1000) //in radians\n",
"a=1.22*lambda/theta\n",
"disp('the diameter of a telescope is a='+string(a)+'cm')"
   ]
   }
,
{
		   "cell_type": "markdown",
		   "metadata": {},
		   "source": [
			"## Example 3.35: smallest_angle_between_two_stars.sce"
		   ]
		  },
  {
"cell_type": "code",
	   "execution_count": null,
	   "metadata": {
	    "collapsed": true
	   },
	   "outputs": [],
"source": [
"clc\n",
"//to calculate smallest angle between two stars\n",
"lambda=5*10^-5 //wavelength in cm\n",
"a=100*2.54 //diameter in cm\n",
"theta=1.22*lambda/a\n",
"disp('the smallest angle between two stars is thita='+string(theta)+'radians')"
   ]
   }
,
{
		   "cell_type": "markdown",
		   "metadata": {},
		   "source": [
			"## Example 3.36: limit_of_resolution_of_telescope.sce"
		   ]
		  },
  {
"cell_type": "code",
	   "execution_count": null,
	   "metadata": {
	    "collapsed": true
	   },
	   "outputs": [],
"source": [
"clc\n",
"//to calculate limit of resolution of the telescope\n",
"lambda=5890*10^-8 //wavelength in cm\n",
"a=1 //diameter in cm\n",
"theta=1.22*lambda/a\n",
"disp('the limit of resolution of the telescope is theta='+string(theta)+'radians ')\n",
""
   ]
   }
,
{
		   "cell_type": "markdown",
		   "metadata": {},
		   "source": [
			"## Example 3.37: resolving_limit_of_microscope.sce"
		   ]
		  },
  {
"cell_type": "code",
	   "execution_count": null,
	   "metadata": {
	    "collapsed": true
	   },
	   "outputs": [],
"source": [
"clc\n",
"//to calculate resolving limit of microscope\n",
"lambda=5.5*10^-5 //wavelengh in cm\n",
"theta=%pi/6 //in radians\n",
"s=1.22*lambda/(2*sin(%pi/6))\n",
"disp('resolving limit of microscope is s='+string(s)+'cm')"
   ]
   }
,
{
		   "cell_type": "markdown",
		   "metadata": {},
		   "source": [
			"## Example 3.38: resolving_power_of_grating_and_smallest_wavelength_difference.sce"
		   ]
		  },
  {
"cell_type": "code",
	   "execution_count": null,
	   "metadata": {
	    "collapsed": true
	   },
	   "outputs": [],
"source": [
"clc\n",
"//to calculate resolving power of grating \n",
"N=15000 //total number of lines on grating\n",
"lambda=6*10^-5 //wavelength in cm\n",
"n=2 //order of spectrum\n",
"RP=n*N\n",
"disp('resolving power is RP ='+string(RP)+'unitless')\n",
"//to calculate smallest wavelength difference that can be resolved with a light of wavelength 6000angstrom in the second order\n",
"dlambda=lambda/(n*N)\n",
"disp('smallest wavelength difference dlambda='+string(dlambda)+'cm')"
   ]
   }
,
{
		   "cell_type": "markdown",
		   "metadata": {},
		   "source": [
			"## Example 3.39: resolving_power_and_smallest_wavelength.sce"
		   ]
		  },
  {
"cell_type": "code",
	   "execution_count": null,
	   "metadata": {
	    "collapsed": true
	   },
	   "outputs": [],
"source": [
"clc\n",
"//to calculate resolving power in the second order\n",
"N=6*10^4 //N=total number of lines on grating\n",
"n=2 //order of spectrum\n",
"RP=n*N //RP=resoling power\n",
"disp('the resolving power is RP='+string(RP)+'unitless')\n",
"//to calculate smallest wavelength\n",
"lambda=6000*10^-8 //wavelength in cm\n",
"n=3 //order of spectrum\n",
"dlambda=lambda/(n*N)\n",
"disp('smallest wavelength that can be resolved in the third order in 6000angstrom wavelength region is dlambda='+string(dlambda)+'cm') "
   ]
   }
,
{
		   "cell_type": "markdown",
		   "metadata": {},
		   "source": [
			"## Example 3.3: width_of_slit.sce"
		   ]
		  },
  {
"cell_type": "code",
	   "execution_count": null,
	   "metadata": {
	    "collapsed": true
	   },
	   "outputs": [],
"source": [
"clc\n",
"//to calculate width of slit\n",
"//direction of minima in fraunhofer diffraction due to single slit is given by %pi/lambda*e*siuntheta=+m*%pi,where m=1,2,3\n",
"//angular spread of the central maximum on either side of the incident light is sintheta=lambda/e,where m=1,position of first minima\n",
"lambda=5000*10^-8\n",
"e=lambda/sin(%pi/6)\n",
"disp('width of slit is e='+string(e)+'cm')"
   ]
   }
,
{
		   "cell_type": "markdown",
		   "metadata": {},
		   "source": [
			"## Example 3.4: wavelength_of_incident_light.sce"
		   ]
		  },
  {
"cell_type": "code",
	   "execution_count": null,
	   "metadata": {
	    "collapsed": true
	   },
	   "outputs": [],
"source": [
"clc\n",
"//to calculate wavelength of incident light\n",
"//direction of minima is given by e*sintheta=+m*lambda\n",
"//for first minima m=1,i.e. e*sintheta=lambda,sintheta is approximately equal to theta,then we can write it as e*theta=lambda ...........eq(1)\n",
"//theta=Y/d........................eq(2) \n",
"e=0.02 //in cm\n",
"Y=0.5        //position of first minima from the central maxima in cm\n",
"d=200           //distance of screen from the slit in cm\n",
"//from eq(1) and eq(2),we get\n",
"lambda=e*Y/d\n",
"disp('wavelength of incident light is lambda='+string(lambda)+'cm')"
   ]
   }
,
{
		   "cell_type": "markdown",
		   "metadata": {},
		   "source": [
			"## Example 3.6: values_of_lambda1_and_lambda2.sce"
		   ]
		  },
  {
"cell_type": "code",
	   "execution_count": null,
	   "metadata": {
	    "collapsed": true
	   },
	   "outputs": [],
"source": [
"clc\n",
"//to calculate values of lambda1 and lambda2\n",
"//in fraunhofer diffraction pattern ,the direction of minima is given by e*sintheta=+m*lambda,where m=1,2,.......\n",
"//direction of fourth minima (m=4) for wavelength lambda1 is given by e*sintheta1=4*lambda1..........eq(1)\n",
"//similarly, e*sintheta2=5*lambda2..........eq(2)\n",
"//from eq(1) and eq(2),we get e*sintheta=4*lambda1=5*lambda2....eq(3)\n",
"y=0.5            //in cm\n",
"f=100             //in cm\n",
"theta=y/f                 //in radian\n",
"sintheta=theta //theta is very small\n",
"e=0.05       //width of slit in cm\n",
"lambda1=e*sintheta/4\n",
"disp('lambda1='+string(lambda1)+'cm')\n",
"//from eq(3) we get,\n",
"lambda2=4*lambda1/5\n",
"disp('lambda2='+string(lambda2)+'cm')"
   ]
   }
,
{
		   "cell_type": "markdown",
		   "metadata": {},
		   "source": [
			"## Example 3.7: half_angular_width.sce"
		   ]
		  },
  {
"cell_type": "code",
	   "execution_count": null,
	   "metadata": {
	    "collapsed": true
	   },
	   "outputs": [],
"source": [
"clc\n",
"//to calculate half angular width \n",
"e=1.2*10^-4            //width of slit in cm\n",
"y=6*10^-5      //wavelength of monochromatic light in cm\n",
"theta=y/e\n",
"disp('half angular width of central bright maxima is theta='+string(theta)+'radian')"
   ]
   }
,
{
		   "cell_type": "markdown",
		   "metadata": {},
		   "source": [
			"## Example 3.8: angle.sce"
		   ]
		  },
  {
"cell_type": "code",
	   "execution_count": null,
	   "metadata": {
	    "collapsed": true
	   },
	   "outputs": [],
"source": [
"clc\n",
"//to calculate angle\n",
"lambda=6000*10^-8      //wavelength of light in cm\n",
"e=0.03       //width of slit in cm\n",
"//e*sintheta=m*lambda,where m=1\n",
"theta=asind(lambda/e) \n",
"disp('angle at which the first dark band are formed in the fraunhofer diffraction pattern is theta='+string(theta)+'degree')\n",
"theta1=asind(3*lambda/(2*e))\n",
"disp('angle at which the next bright band are formed in the fraunhofer diffraction pattern is theta1='+string(theta1)+'degree')"
   ]
   }
,
{
		   "cell_type": "markdown",
		   "metadata": {},
		   "source": [
			"## Example 3.9: distances.sce"
		   ]
		  },
  {
"cell_type": "code",
	   "execution_count": null,
	   "metadata": {
	    "collapsed": true
	   },
	   "outputs": [],
"source": [
"clc\n",
"//to calculate distances of first dark band and of next bright band on either side of the central maximum\n",
"//formula is e*sintheta=m*lambda,where m=1\n",
"lambda=5890*10^-8     //wavelength of light in cm\n",
"e=0.03 //width of slit in cm\n",
"sintheta=lambda/e \n",
"theta=sintheta //becoz theta is very small,so sintheta is approximately equal to theta\n",
"f=50\n",
"y=f*theta\n",
"disp('linear distance of first minimum from the central maximum is y='+string(y)+'cm')\n",
"sintheta1=3*lambda/(2*e)\n",
"theta1=sintheta1\n",
"y1=f*theta1\n",
"disp('linear distance of first secondary maxima is y1='+string(y1)+'cm')"
   ]
   }
],
"metadata": {
		  "kernelspec": {
		   "display_name": "Scilab",
		   "language": "scilab",
		   "name": "scilab"
		  },
		  "language_info": {
		   "file_extension": ".sce",
		   "help_links": [
			{
			 "text": "MetaKernel Magics",
			 "url": "https://github.com/calysto/metakernel/blob/master/metakernel/magics/README.md"
			}
		   ],
		   "mimetype": "text/x-octave",
		   "name": "scilab",
		   "version": "0.7.1"
		  }
		 },
		 "nbformat": 4,
		 "nbformat_minor": 0
}
