{
"cells": [
 {
		   "cell_type": "markdown",
	   "metadata": {},
	   "source": [
       "# Chapter 9: Dielectric Properties of Materials"
	   ]
	},
{
		   "cell_type": "markdown",
		   "metadata": {},
		   "source": [
			"## Example 9.1: dielectric_constant_of_liquid.sce"
		   ]
		  },
  {
"cell_type": "code",
	   "execution_count": null,
	   "metadata": {
	    "collapsed": true
	   },
	   "outputs": [],
"source": [
"clc\n",
"//to calculate dielectric constant of the liquid\n",
"//capacitance of the air filled dielectric Cair=Q/Vo-----------eq(1)\n",
"//when dielectric is filled between the plates ,Cliquid=Q/V\n",
"//then Cliquid=epsilonr*Q/Vo------eq(2)\n",
"Vo=60\n",
"                  //voltage in volts\n",
"V=30\n",
"//from eq(1) and eq(2),we get\n",
"epsilon0=Vo/V\n",
"disp('the dielectric constant of the liquid is epsilon0='+string(epsilon0)+'unitless')"
   ]
   }
,
{
		   "cell_type": "markdown",
		   "metadata": {},
		   "source": [
			"## Example 9.2: charge_on_capacitor.sce"
		   ]
		  },
  {
"cell_type": "code",
	   "execution_count": null,
	   "metadata": {
	    "collapsed": true
	   },
	   "outputs": [],
"source": [
"clc\n",
"//to calculate charge on the capacitance\n",
"epsilon0=8.854*10^-12 //permittivity\n",
"epsilonr=6 //relative permittivity\n",
"V=100 //voltage in volts\n",
"d=1.5*10^-3 //distance in m\n",
"A=4*10^-4//area in m^2\n",
"Q=epsilon0*epsilonr*A*V/d\n",
"disp('the charge on the capacitance is Q='+string(Q)+'Coulomb')"
   ]
   }
,
{
		   "cell_type": "markdown",
		   "metadata": {},
		   "source": [
			"## Example 9.3: resultant_voltage.sce"
		   ]
		  },
  {
"cell_type": "code",
	   "execution_count": null,
	   "metadata": {
	    "collapsed": true
	   },
	   "outputs": [],
"source": [
"clc\n",
"//to calculate voltage\n",
"A=6.50*10^-4 //area in m^2\n",
"Q=2*10^-10 //charge in C\n",
"d=4*10^-3 //plate separation in m\n",
"epsilon0=8.854*10^-12\n",
"epsilonr=3.5 //dielectric constant\n",
"V=Q*d/(epsilon0*epsilonr*A)\n",
"disp('the resultant voltage across the capacitor is V='+string(V)+'volt')"
   ]
   }
],
"metadata": {
		  "kernelspec": {
		   "display_name": "Scilab",
		   "language": "scilab",
		   "name": "scilab"
		  },
		  "language_info": {
		   "file_extension": ".sce",
		   "help_links": [
			{
			 "text": "MetaKernel Magics",
			 "url": "https://github.com/calysto/metakernel/blob/master/metakernel/magics/README.md"
			}
		   ],
		   "mimetype": "text/x-octave",
		   "name": "scilab",
		   "version": "0.7.1"
		  }
		 },
		 "nbformat": 4,
		 "nbformat_minor": 0
}
