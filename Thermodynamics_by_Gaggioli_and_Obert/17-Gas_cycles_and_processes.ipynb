{
"cells": [
 {
		   "cell_type": "markdown",
	   "metadata": {},
	   "source": [
       "# Chapter 17: Gas cycles and processes"
	   ]
	},
{
		   "cell_type": "markdown",
		   "metadata": {},
		   "source": [
			"## Example 17.1: Efficiency_and_air_fuel_ratio_Equilibrium_calculations.sce"
		   ]
		  },
  {
"cell_type": "code",
	   "execution_count": null,
	   "metadata": {
	    "collapsed": true
	   },
	   "outputs": [],
"source": [
"clc\n",
"clear\n",
"//Initialization of variables\n",
"ha=1033 //Btu/mol air\n",
"hbd=2992 //Btu/mol air\n",
"hc=7823 //Btu/mol air\n",
"hdd=5142 //Btu/mol air\n",
"Hv=2733000 //Btu/mol\n",
"M=29\n",
"//calculations\n",
"Wt=hc-hdd\n",
"Wc=ha-hbd\n",
"Net=Wt+Wc\n",
"Heat=hc-hbd\n",
"etat=Net*100/Heat\n",
"molair=Heat/Hv\n",
"mr=molair*142/M\n",
"Af=1/mr\n",
"//results\n",
"printf('\n Thermal efficiency = %.1f percent',etat)\n",
"printf('\n Moles of fuel burned per mol of air = %.5f mol fuel/mol air',molair)\n",
"printf('\n Mass ratio in pounds = %.5f lbm fuel/lbm air',mr)\n",
"printf('\n Air fuel ratio = %d lbm air/lbm fuel',Af)"
   ]
   }
],
"metadata": {
		  "kernelspec": {
		   "display_name": "Scilab",
		   "language": "scilab",
		   "name": "scilab"
		  },
		  "language_info": {
		   "file_extension": ".sce",
		   "help_links": [
			{
			 "text": "MetaKernel Magics",
			 "url": "https://github.com/calysto/metakernel/blob/master/metakernel/magics/README.md"
			}
		   ],
		   "mimetype": "text/x-octave",
		   "name": "scilab",
		   "version": "0.7.1"
		  }
		 },
		 "nbformat": 4,
		 "nbformat_minor": 0
}
