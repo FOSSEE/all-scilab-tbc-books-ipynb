{
"cells": [
 {
		   "cell_type": "markdown",
	   "metadata": {},
	   "source": [
       "# Chapter 7: The Second law"
	   ]
	},
{
		   "cell_type": "markdown",
		   "metadata": {},
		   "source": [
			"## Example 7.2: Entropy_and_efficiency_calculation.sce"
		   ]
		  },
  {
"cell_type": "code",
	   "execution_count": null,
	   "metadata": {
	    "collapsed": true
	   },
	   "outputs": [],
"source": [
"clc\n",
"clear\n",
"//Initialization of variables\n",
"cv=0.175 //Btu/lbm R\n",
"R0=1.986\n",
"M=29\n",
"T2=1040 //R\n",
"T1=520 //R\n",
"//calculations\n",
"cp=cv+R0/M\n",
"sab=cv*log(T2/T1)\n",
"sac=cp*log(T2/T1)\n",
"dqab=cv*(T2-T1)\n",
"dqca=cp*(T1-T2)\n",
"dqrev=T2*(sac-sab)\n",
"eta=(dqab+dqrev+dqca)/(dqab+dqrev)\n",
"//results\n",
"printf('Entropy in ab part = %.4f Btu/lbm R',sab)\n",
"printf('\n Entropy in ac part = %.4f Btu/lbm R',sac)\n",
"printf('\n Efficiency = %.2f percent',eta*100)\n",
"disp('The answers are a bit different due to rounding off error in textbook')"
   ]
   }
,
{
		   "cell_type": "markdown",
		   "metadata": {},
		   "source": [
			"## Example 7.3: Entropy_calculation.sce"
		   ]
		  },
  {
"cell_type": "code",
	   "execution_count": null,
	   "metadata": {
	    "collapsed": true
	   },
	   "outputs": [],
"source": [
"clc\n",
"clear\n",
"//Initialization of variables\n",
"tc=32 //F\n",
"th=80 //F\n",
"mw=5 //lbm\n",
"mi=1 //lbm\n",
"P=14.7 //psia\n",
"cp=1\n",
"//calculations\n",
"t= (-144*mi+tc*mi+th*mw)/(mw+mi)\n",
"ds1=144/(tc+460)\n",
"ds2=cp*log((460+t)/(460+tc))\n",
"dsice=ds1+ds2\n",
"dswater=mw*cp*log((t+460)/(460+th))\n",
"ds=dsice+dswater\n",
"//results\n",
"printf('Change in entropy of the process = %.4f Btu/R',ds)\n",
"disp('The answer is a bit different due to rounding off error in textbook')"
   ]
   }
,
{
		   "cell_type": "markdown",
		   "metadata": {},
		   "source": [
			"## Example 7.4: Energy_calculations.sce"
		   ]
		  },
  {
"cell_type": "code",
	   "execution_count": null,
	   "metadata": {
	    "collapsed": true
	   },
	   "outputs": [],
"source": [
"clc\n",
"clear\n",
"//Initialization of variables\n",
"cp=1\n",
"T2=60 //F\n",
"T1=100 //F\n",
"ta=32 //F\n",
"//calculations\n",
"dq=cp*(T2-T1)\n",
"ds=cp*log((460+T2)/(460+T1))\n",
"dE=dq-ds*(ta+460)\n",
"dec=dq-dE\n",
"//results\n",
"printf('Change in available energy = %.1f Btu/lbm',dE)\n",
"printf('\n The available energy of the isolated system decreased in the amount of  %.1f Btu/lbm',dec)\n",
"disp('The answer is a bit different due to rounding off error in textbook')"
   ]
   }
],
"metadata": {
		  "kernelspec": {
		   "display_name": "Scilab",
		   "language": "scilab",
		   "name": "scilab"
		  },
		  "language_info": {
		   "file_extension": ".sce",
		   "help_links": [
			{
			 "text": "MetaKernel Magics",
			 "url": "https://github.com/calysto/metakernel/blob/master/metakernel/magics/README.md"
			}
		   ],
		   "mimetype": "text/x-octave",
		   "name": "scilab",
		   "version": "0.7.1"
		  }
		 },
		 "nbformat": 4,
		 "nbformat_minor": 0
}
