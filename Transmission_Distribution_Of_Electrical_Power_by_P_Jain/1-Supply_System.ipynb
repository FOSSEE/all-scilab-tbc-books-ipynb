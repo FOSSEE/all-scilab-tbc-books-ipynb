{
"cells": [
 {
		   "cell_type": "markdown",
	   "metadata": {},
	   "source": [
       "# Chapter 1: Supply System"
	   ]
	},
{
		   "cell_type": "markdown",
		   "metadata": {},
		   "source": [
			"## Example 1.1: Find_the_copper_saving.sce"
		   ]
		  },
  {
"cell_type": "code",
	   "execution_count": null,
	   "metadata": {
	    "collapsed": true
	   },
	   "outputs": [],
"source": [
"//Find the copper saving\n",
"clear;\n",
"clc;\n",
"//soltion\n",
"//given\n",
"v1=240;//volt//initial voltage of the system\n",
"v2=500;//volt //final voltage of the system\n",
"printf('Volume at 240 volts (vol1) = (4*P^2*d*l)/(%d*W)\n',v1^2/4);\n",
"printf('Volume at 500 volts (vol2) = (4*P^2*d*l)/(%d*W)\n',v2^2/4);\n",
"printf('Percentage saving in copper = ((vol1-vol2)*100)/vol1\n');\n",
"s = (((1/v1^2)-(1/v2^2))/(1/v1^2))*100;\n",
"printf('The percentage saving of the copper is, %.2f percent',s);"
   ]
   }
,
{
		   "cell_type": "markdown",
		   "metadata": {},
		   "source": [
			"## Example 1.4: EX1_4.sce"
		   ]
		  },
  {
"cell_type": "code",
	   "execution_count": null,
	   "metadata": {
	    "collapsed": true
	   },
	   "outputs": [],
"source": [
"//Calculate volume of conductor required in 1 phase 2 wire and 3 phase 3 wire system\n",
"clear;\n",
"clc;\n",
"//solution\n",
"//given\n",
"pf=0.8;//power factor\n",
"pMVA=(2.5*10^6);//volt ampere\n",
"v=(33*10^3);//volts\n",
"l=50*10^3;//m//length of the line\n",
"p=pMVA*pf;//watts//power trasmitted = power in MVA* p.f.\n",
"w=0.2*p;//watts//line losses = 20% of power transmitted\n",
"d=2.85/10^8;//ohm meter//resistivity of aluminium\n",
"printf(' 1 phase 2 wire system\n');\n",
"i1=pMVA/v;\n",
"a1=(2*i1^2*d*l)/w;\n",
"printf(' Load current in 1 phase 2 wire system= %f ampere\n',i1);\n",
"printf(' Cross sectional area of 1 phase 2 wire system= %f m^2\n',a1);\n",
"vol1=2*a1*l;\n",
"printf(' Volume of aluminium conductor required in 1 phase 2 wire system = %f meter cube \n\n',vol1);\n",
"printf(' 3 phase 3 wire system\n');\n",
"i2=pMVA/(3^0.5*v);\n",
"a2=(3*i2^2*d*l)/w;\n",
"printf(' Load current in 3 phase 3 wire system= %f ampere\n',i2);\n",
"printf(' Cross sectional area of 3 phase 3 wire system= %f m^2\n',a2);\n",
"vol2=3*a2*l;\n",
"printf('Volume of aluminium conductor required in 3 phase 3 wire system = %f meter cube ',vol2);"
   ]
   }
,
{
		   "cell_type": "markdown",
		   "metadata": {},
		   "source": [
			"## Example 1.5: Calculate_DC_supply_voltage.sce"
		   ]
		  },
  {
"cell_type": "code",
	   "execution_count": null,
	   "metadata": {
	    "collapsed": true
	   },
	   "outputs": [],
"source": [
"//find the DC supply voltage\n",
"clear;\n",
"clc;\n",
"//soltion\n",
"//given\n",
"//consider 1 phase AC system\n",
"pf=0.8;\n",
"v=(33*10^3);//volts\n",
"r1=0.15;//ohm//total resistance of the 1 phase line\n",
"PD1=0.2;//percentage voltage drop in 1 phase AC system\n",
"Vd=PD1*v;//volt//voltage drop in the line\n",
"I1=Vd/r1;//ampere//load current\n",
"p=v*I1*pf;//watts//power recieved by the consumer\n",
"P=p/10^8;\n",
"printf('1 phase AC system \n');\n",
"printf('Voltage drop= %d volts\n',Vd);\n",
"printf('Load current= %d ampere\n',I1);\n",
"printf('Power recieved by consumer= %d watts or= %f*10^5 kW \n\n',p,P);\n",
"//consider DC 2 wire system\n",
"r2=0.1;//ohm//total resistance of the DC 2 wire line\n",
"PD2=0.25;//percentage voltage drop in DC 2 wire system\n",
"printf('DC 2 wire system\n');\n",
"printf('Load current in DC system= %f/V \n',p);\n",
"printf('Voltage drop= Load curret*line resistance= I2*R2= (%d/V)*%f \n', p, r2);\n",
"printf('Given voltage drop is 25 percentage of max voltage= .25*V \n ');\n",
"V=sqrt((p*r2)/PD2);\n",
"printf('Equating above equation we get V= %f KV',V/1000);"
   ]
   }
],
"metadata": {
		  "kernelspec": {
		   "display_name": "Scilab",
		   "language": "scilab",
		   "name": "scilab"
		  },
		  "language_info": {
		   "file_extension": ".sce",
		   "help_links": [
			{
			 "text": "MetaKernel Magics",
			 "url": "https://github.com/calysto/metakernel/blob/master/metakernel/magics/README.md"
			}
		   ],
		   "mimetype": "text/x-octave",
		   "name": "scilab",
		   "version": "0.7.1"
		  }
		 },
		 "nbformat": 4,
		 "nbformat_minor": 0
}
