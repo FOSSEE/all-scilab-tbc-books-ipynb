{
"cells": [
 {
		   "cell_type": "markdown",
	   "metadata": {},
	   "source": [
       "# Chapter 5: Performance of Short and Medium Transmission Lines"
	   ]
	},
{
		   "cell_type": "markdown",
		   "metadata": {},
		   "source": [
			"## Example 5.10: Find_regulation_and_charging_current_using_nominal_T_method.sce"
		   ]
		  },
  {
"cell_type": "code",
	   "execution_count": null,
	   "metadata": {
	    "collapsed": true
	   },
	   "outputs": [],
"source": [
"//Find regulation and charging current using nominal T method\n",
"clear;\n",
"clc;\n",
"//soltion\n",
"//FUNCTIONS\n",
"function [z]=rxr(A,B)//Function for the multiplication of rectangular\n",
"    z(1)=A(1)*B(1)\n",
"    z(2)=A(2)+B(2)\n",
"    endfunction\n",
"\n",
"function [a]=r2p(z)//Function for rectangular to polar\n",
"    a=z(1)*complex(cosd(z(2)),sind(z(2)))\n",
"endfunction\n",
"\n",
"//given\n",
"P=50*10^6;//M watts\n",
"Vrl=132*1000;//V\n",
"pf=0.8//power factir\n",
"Vr=[floor(Vrl/sqrt(3)) 0];\n",
"Ir=[floor(P/(sqrt(3)*Vrl*pf)) -acosd(pf)];\n",
"A=[0.95 1.4];\n",
"B=[96 78];\n",
"C=[0.0015 90];\n",
"D=A;\n",
"Z1=rxr(A,Vr);\n",
"Z2=rxr(B,Ir);\n",
"AV=r2p(Z1);\n",
"BI=r2p(Z2);\n",
"Vs=AV+BI;\n",
"theta1=atand((imag(Vs)/real(Vs)));\n",
"printf('Sending end voltage= %.0f∠%.2f° Volts\n',abs(Vs),theta1);\n",
"Y1=rxr(C,Vr);\n",
"Y2=rxr(D,Ir);\n",
"CV=r2p(Y1);\n",
"DI=r2p(Y2);\n",
"Is=CV+DI;\n",
"Ira=r2p(Ir);\n",
"Ic=Is-Ira;\n",
"theta2=atand(imag(Ic)/real(Ic));\n",
"Ic_=sqrt(round(imag(Ic))^2+round(real(Ic))^2);\n",
"printf('Charging current= %.1f∠%f° A\n',Ic_,theta2);\n",
"Pr=((abs(Vs)/A(1)-Vr)*100)/Vr;\n",
"printf('Percentage regulation= %.0f percent\n',Pr);\n",
"//1. The Magnitude of Sending end voltage is 94066, it is due to rounding some of the values\n",
"//2. The angle in the book is 93.1° in charging current"
   ]
   }
,
{
		   "cell_type": "markdown",
		   "metadata": {},
		   "source": [
			"## Example 5.11: find_sending_end_voltage_and_current_and_power_and_efficiency.sce"
		   ]
		  },
  {
"cell_type": "code",
	   "execution_count": null,
	   "metadata": {
	    "collapsed": true
	   },
	   "outputs": [],
"source": [
"//find sending end voltage and current and power and efficiency\n",
"clear;\n",
"clc;\n",
"//soltion\n",
"//FUNCTIONS\n",
"function [z]=rxr(A,B)//Function for the multiplication of rectangular\n",
"    z(1)=A(1)*B(1)\n",
"    z(2)=A(2)+B(2)\n",
"    endfunction\n",
"\n",
"function [a]=r2p(z)//Function for rectangular to polar\n",
"    a=z(1)*complex(cosd(z(2)),sind(z(2)))\n",
"endfunction\n",
"//given\n",
"P=50*10^6;//VA\n",
"Vrl=110*1000;//V\n",
"pf=0.8//power factir\n",
"Vr=[Vrl/sqrt(3) 0];\n",
"Ir=[P/(sqrt(3)*Vrl) -acosd(pf)];\n",
"A=[0.98 3];\n",
"B=[110 75];\n",
"C=[0.0005 80];\n",
"D=[0.98 3];\n",
"Z1=rxr(A,Vr);\n",
"Z2=rxr(B,Ir);\n",
"AV=r2p(Z1);\n",
"BI=r2p(Z2);\n",
"Vs=AV+BI;\n",
"theta1=atand((imag(Vs)/real(Vs)));\n",
"printf('Sending end voltage= %.0f V\n',abs(Vs));\n",
"Y1=rxr(C,Vr);\n",
"Y2=rxr(D,Ir);\n",
"CV=r2p(Y1);\n",
"DI=r2p(Y2);\n",
"Is=CV+DI;\n",
"theta2=atand(imag(Is)/real(Is));\n",
"printf('Magnitude of sending end current= %d A\n',abs(Is));\n",
"phis=theta2-theta1;\n",
"Ps=3*abs(Vs)*abs(Is)*cosd(phis);\n",
"printf('Sending end power=%.1fMW\n',floor(Ps/10^5)/10);\n",
"Pr=P*pf;\n",
"n=Pr*100/(floor(Ps/10^5)*10^5);\n",
"printf('Transmission Efficiency= %.1f percent',n);\n",
"//The value of voltage is 87427 V"
   ]
   }
,
{
		   "cell_type": "markdown",
		   "metadata": {},
		   "source": [
			"## Example 5.12: EX5_12.sce"
		   ]
		  },
  {
"cell_type": "code",
	   "execution_count": null,
	   "metadata": {
	    "collapsed": true
	   },
	   "outputs": [],
"source": [
"//Find ABCD parameters and sending end voltage and current and power factor and transmission eficiency\n",
"clear;\n",
"clc;\n",
"//soltion\n",
"//FUNCTIONS\n",
"function [z]=rxr(A,B)//Function for the multiplication of rectangular\n",
"    z(1)=A(1)*B(1)\n",
"    z(2)=A(2)+B(2)\n",
"    endfunction\n",
"\n",
"function [a]=r2p(z)//Function for rectangular to polar\n",
"    a=z(1)*complex(cosd(z(2)),sind(z(2)))\n",
"endfunction\n",
"\n",
"//given\n",
"P=80*10^6;//watts\n",
"Vrl=220*1000;//V\n",
"pf=0.8//power factir\n",
"Vr=[Vrl/sqrt(3) 0];\n",
"Ir_=[P/(sqrt(3)*Vrl*pf) -acosd(pf)];\n",
"Ir=r2p(Ir_);\n",
"Z=[200 80];\n",
"Y=[0.0013 90];\n",
"a=rxr(Z,Y);\n",
"Ac=1+r2p(a)/2;\n",
"A=[abs(Ac) atand((imag(Ac)/real(Ac)))];\n",
"D=A;\n",
"printf('A=D= %.3f∠%.1f° \n',A(1),A(2));\n",
"b=rxr(Z,Y);\n",
"Bc=1+r2p(b)/4;\n",
"B=[abs(Bc) atand((imag(Bc)/real(Bc)))];\n",
"B=rxr(Z,B);\n",
"printf('B= %.1f∠%.2f° ohm\n',B(1),B(2));\n",
"C=Y;\n",
"printf('C=%.4f∠%d° siemens\n',C(1),C(2));\n",
"Z1=rxr(A,Vr);\n",
"Z2=rxr(B,Ir_);\n",
"AV=r2p(Z1);\n",
"BI=r2p(Z2);\n",
"Vs=AV+BI;\n",
"theta1=atand((imag(Vs)/real(Vs)));\n",
"Vsl=sqrt(3)*abs(Vs);\n",
"printf('Sending end voltage= %dkV\n',round(Vsl/1000));\n",
"Y1=rxr(C,Vr);\n",
"Y2=rxr(D,Ir_);\n",
"CV=r2p(Y1);\n",
"DI=r2p(Y2);\n",
"Is=CV+DI;\n",
"theta2=atand(imag(Is)/real(Is));\n",
"printf('Sending end current= %.1f∠%.1f°A\n',abs(Is),theta2);\n",
"phis=theta2-theta1;\n",
"Ps=3*abs(Vs)*abs(Is)*cosd(phis);\n",
"printf('Sending end power=%.2fMW\n',Ps/10^6);\n",
"n=P*100/Ps;\n",
"printf('Transmission Efficiency= %.1f percent',n);"
   ]
   }
,
{
		   "cell_type": "markdown",
		   "metadata": {},
		   "source": [
			"## Example 5.13: find_sending_end_voltage_and_current_and_power_and_efficiency.sce"
		   ]
		  },
  {
"cell_type": "code",
	   "execution_count": null,
	   "metadata": {
	    "collapsed": true
	   },
	   "outputs": [],
"source": [
"//find sending end voltage and current and power and efficiency\n",
"clear;\n",
"clc;\n",
"//soltion\n",
"//FUNCTIONS\n",
"function [z]=rxr(A,B)//Function for the multiplication of rectangular\n",
"    z(1)=A(1)*B(1)\n",
"    z(2)=A(2)+B(2)\n",
"    endfunction\n",
"\n",
"function [a]=r2p(z)//Function for rectangular to polar\n",
"    a=z(1)*complex(cosd(z(2)),sind(z(2)))\n",
"endfunction\n",
"//given\n",
"P=50*10^6;//VA\n",
"Vrl=110*1000;//V\n",
"pf=0.8//power factir\n",
"Vr=[Vrl/sqrt(3) 0];\n",
"Ir=[P/(sqrt(3)*Vrl) -acosd(pf)];\n",
"A=[0.98 3];\n",
"B=[110 75];\n",
"C=[0.0005 80];\n",
"D=[0.98 3];\n",
"Z1=rxr(A,Vr);\n",
"Z2=rxr(B,Ir);\n",
"AV=r2p(Z1);\n",
"BI=r2p(Z2);\n",
"Vs=AV+BI;\n",
"theta1=atand((imag(Vs)/real(Vs)));\n",
"printf('Sending end voltage= %.0f V\n',abs(Vs));\n",
"Y1=rxr(C,Vr);\n",
"Y2=rxr(D,Ir);\n",
"CV=r2p(Y1);\n",
"DI=r2p(Y2);\n",
"Is=CV+DI;\n",
"theta2=atand(imag(Is)/real(Is));\n",
"printf('Magnitude of sending end current= %d A\n',abs(Is));\n",
"phis=theta2-theta1;\n",
"Ps=3*abs(Vs)*abs(Is)*cosd(phis);\n",
"printf('Sending end power=%.1fMW\n',floor(Ps/10^5)/10);\n",
"Pr=P*pf;\n",
"n=Pr*100/(floor(Ps/10^5)*10^5);\n",
"printf('Transmission Efficiency= %.1f percent',n);\n",
"//The value of voltage is 87427 V\n",
"//this is same as ex 12 because of printing mistake in book"
   ]
   }
,
{
		   "cell_type": "markdown",
		   "metadata": {},
		   "source": [
			"## Example 5.14: Determine_ABCD_constant_and_sending_end_power_factor.sce"
		   ]
		  },
  {
"cell_type": "code",
	   "execution_count": null,
	   "metadata": {
	    "collapsed": true
	   },
	   "outputs": [],
"source": [
"//Determine ABCD constant and sending end power factor\n",
"clear;\n",
"clc;\n",
"//soltion\n",
"//FUNCTIONS\n",
"function [z]=rxr(A,B)//Function for the multiplication in rectangular form\n",
"    z(1)=A(1)*B(1)\n",
"    z(2)=A(2)+B(2)\n",
"    endfunction\n",
"\n",
"function [z]=rdr(A,B)//Function for the division in rectangular form\n",
"    z(1)=A(1)/B(1)\n",
"    z(2)=A(2)-B(2)\n",
"    endfunction\n",
"\n",
"function [a]=r2p(z)//Function for rectangular to polar\n",
"    a=z(1)*complex(cosd(z(2)),sind(z(2)))\n",
"endfunction\n",
"\n",
"//given\n",
"P=100*10^6;//watts\n",
"Vrl=132*1000;//V\n",
"pf=0.8//power factir\n",
"Vr=[Vrl/sqrt(3) 0];\n",
"Ir=[P/(sqrt(3)*Vrl*pf) -acosd(pf)];\n",
"A=[0.98 1];\n",
"B=[100 75];\n",
"C=[0.0005 90];\n",
"D=A;\n",
"AB=rxr(A,B);\n",
"Ap=rdr(AB,B);\n",
"printf('A(in parallel)= D = %.2f∠%d°\n',Ap(1),Ap(2));\n",
"BB=rxr(B,B);\n",
"Bp_=rdr(BB,B);\n",
"Bp=[Bp_(1)/2 Bp_(2)];//Bp is a half vector of the Bp_\n",
"printf('B(in parallel)= %d∠%d° ohm\n',Bp(1),Bp(2));\n",
"printf('Here A1=A2 & D1=D2 therefore \n');\n",
"Cp=[C(1)*2 C(2)];\n",
"printf('C(in parallel)= %.3f∠%d° siemens\n',Cp(1),Cp(2));\n",
"Z1=rxr(Ap,Vr);\n",
"Z2=rxr(Bp,Ir);\n",
"AV=r2p(Z1);\n",
"BI=r2p(Z2);\n",
"Vs=AV+BI;\n",
"theta1=atand((imag(Vs)/real(Vs)));\n",
"Y1=rxr(Cp,Vr);\n",
"Y2=rxr(Ap,Ir); //D = A\n",
"CV=r2p(Y1);\n",
"DI=r2p(Y2);\n",
"Is=CV+DI;\n",
"theta2=atand(imag(Is)/real(Is));\n",
"phis=theta1-theta2;\n",
"Spf=cosd(phis);//Sending end power factor\n",
"printf('Sending end power factor= %.3f(lagging)',Spf);"
   ]
   }
,
{
		   "cell_type": "markdown",
		   "metadata": {},
		   "source": [
			"## Example 5.1: EX5_1.sce"
		   ]
		  },
  {
"cell_type": "code",
	   "execution_count": null,
	   "metadata": {
	    "collapsed": true
	   },
	   "outputs": [],
"source": [
"//Find voltage at sending end, percentage regulation and transmission efficiency\n",
"clear;\n",
"clc;\n",
"//soltion\n",
"//given\n",
"P=3300;//kW//power\n",
"Vr=33000;//kV//recieving voltage\n",
"pf=0.8;//peak factor\n",
"R=2;//ohm//resistance\n",
"X=3;//ohm//loop reactance\n",
"I=P*1000/(Vr*pf);\n",
"Vs=sqrt((Vr*pf+I*R)^2+((Vr*sind(acosd(pf)))+I*X)^2);\n",
"printf('Voltage at sending end(Vs)= %.3fV\n',Vs);\n",
"Pr=((Vs-Vr)*100)/Vr;\n",
"printf('Percentage regulation= %f percent\n',Pr);\n",
"Ll=I*I*R/1000;//line losses\n",
"nt=P*100/(P+Ll);\n",
"printf('Transmission efficiency= %.2f percent',nt)"
   ]
   }
,
{
		   "cell_type": "markdown",
		   "metadata": {},
		   "source": [
			"## Example 5.2: EX5_2.sce"
		   ]
		  },
  {
"cell_type": "code",
	   "execution_count": null,
	   "metadata": {
	    "collapsed": true
	   },
	   "outputs": [],
"source": [
"//voltage at sending end, percentage regulation,total line losses and transmission efficiency\n",
"clear;\n",
"clc;\n",
"//soltion\n",
"//given\n",
"P=5000;//kW//power\n",
"V=22000;//kV//recieving voltage\n",
"pf=0.8;//peak factor\n",
"R=4;//ohm//resistance\n",
"X=6;//ohm//loop reactance\n",
"Vr=V/sqrt(3);\n",
"I=P*1000/(3*round(Vr)*pf);\n",
"Vs=round(Vr)+(I*R*pf)+(I*X*sind(acosd(pf)));\n",
"Vsl=sqrt(3)*Vs;\n",
"printf('Sending end line voltage= %.3fkV\n',Vsl/1000)\n",
"Pr=((Vsl-V)*100)/V;\n",
"printf('Percentage regulation= %.2f percent\n',Pr);\n",
"Ll=3*(round(I))^2*R/1000;//line losses\n",
"printf('Total Line Losses= %.3fkW\n',Ll);\n",
"nt=P*100/(P+Ll);\n",
"printf('Transmission efficiency= %.3f percent',nt)"
   ]
   }
,
{
		   "cell_type": "markdown",
		   "metadata": {},
		   "source": [
			"## Example 5.3: find_sending_end_voltage_and_regulation.sce"
		   ]
		  },
  {
"cell_type": "code",
	   "execution_count": null,
	   "metadata": {
	    "collapsed": true
	   },
	   "outputs": [],
"source": [
"//find sending end voltage and regulation\n",
"clear;\n",
"clc;\n",
"//soltion\n",
"//given\n",
"P=5000;//kW//power\n",
"V=11000;//kV//recieving voltage\n",
"pf=0.8;//peak factor\n",
"L=1.1*10^-3//H per km per phase//Line inductance\n",
"Ll=0.12*P*1000;\n",
"Vr=V/sqrt(3);\n",
"I=P*1000/(3*round(Vr)*pf);\n",
"R=Ll/(3*I^2);\n",
"X=5.1836;\n",
"Vs=round(Vr)+(round(I)*R*pf)+(I*X*sind(acosd(pf)));\n",
"Vsl=sqrt(3)*Vs;\n",
"printf('Line voltage at sending end= %.3f kV\n',Vsl/1000);\n",
"Pr=((Vsl-V)*100)/V;\n",
"printf('Percentage regulation= %.3f percent\n',Pr);"
   ]
   }
,
{
		   "cell_type": "markdown",
		   "metadata": {},
		   "source": [
			"## Example 5.4: Find_sending_end_voltage_and_power_factor_and_efficieny_and_regulation.sce"
		   ]
		  },
  {
"cell_type": "code",
	   "execution_count": null,
	   "metadata": {
	    "collapsed": true
	   },
	   "outputs": [],
"source": [
"//Find sending end voltage, power factor, efficieny and regulation\n",
"clear;\n",
"clc;\n",
"//soltion\n",
"//given\n",
"S=12000;//kVA//power supplied\n",
"pf=0.8;//power factor\n",
"del=1.73*10^-6;\n",
"d=140//cm//distance of the conductor\n",
"l=50*10^3;\n",
"Vrl=33000;//V//recieving end voltage\n",
"I=S*1000/(sqrt(3)*Vrl);\n",
"Ll=0.15*S*1000*pf;\n",
"R=Ll/(3*I*I);\n",
"a=del*l*100/(R);\n",
"r=sqrt(a/%pi);\n",
"re=r*exp(-1/4);\n",
"L=0.2*50*(10^-3)*log(d/re);\n",
"X=2*%pi*50*L;\n",
"X_=floor(X*100)/100;\n",
"Vs=Vrl/sqrt(3)+(I*R*pf)+(I*X_*sind(acosd(pf)));\n",
"Vsl=sqrt(3)*Vs;\n",
"printf('Sending end line voltage= %.4fkV\n',Vsl/1000)\n",
"spf=(Vrl*pf/sqrt(3)+I*R)/Vs;\n",
"printf('Sending end power factor= %.3f lagging\n',spf);\n",
"nt=S*pf*100/(S*pf+(Ll/1000));\n",
"printf('Transmission efficiency= %.3f percent\n',nt)\n",
"Pr=((Vsl-Vrl)*100)/Vrl;\n",
"printf('Percentage regulation= %.3f percent\n',Pr);\n",
""
   ]
   }
,
{
		   "cell_type": "markdown",
		   "metadata": {},
		   "source": [
			"## Example 5.5: Find_load_end_voltage_and_efficieny.sce"
		   ]
		  },
  {
"cell_type": "code",
	   "execution_count": null,
	   "metadata": {
	    "collapsed": true
	   },
	   "outputs": [],
"source": [
"//Find load end voltage and efficieny\n",
"clear;\n",
"clc;\n",
"//soltion\n",
"//given\n",
"P=3000//kW//output\n",
"Vsl=11000//volts\n",
"pf=0.8//lagging//power factor\n",
"R=3*0.4;//ohm//resistance of each conductor\n",
"X=3*0.8;//ohm//reactance of each conductor\n",
"Vs=Vsl/sqrt(3);\n",
"Z=(R*pf+X*sind(acosd(pf)));\n",
"Vs_=round(Vs);\n",
"printf('Vr=%d - %.1fI\n',Vs_,Z);\n",
"I_=P*1000/(3*pf)\n",
"Vr=poly(0,'Vr');\n",
"printf('I=%.0f/Vr\n',I_);\n",
"A=2.4*I_-Vs_*Vr+Vr^2\n",
"answ=roots(A);\n",
"Vr=5837.041;\n",
"Vrl=sqrt(3)*Vr;\n",
"printf('Line voltage at the end(Vrl)= %d V\n',Vrl);\n",
"I=I_/Vr;\n",
"Ll=3*I*I*R;\n",
"nt=P*1000*100/(P*1000+Ll);\n",
"printf('Transmission efficiency= %.1f percent',nt)"
   ]
   }
,
{
		   "cell_type": "markdown",
		   "metadata": {},
		   "source": [
			"## Example 5.6: EX5_6.sce"
		   ]
		  },
  {
"cell_type": "code",
	   "execution_count": null,
	   "metadata": {
	    "collapsed": true
	   },
	   "outputs": [],
"source": [
"//Find current and voltage of sending end, percentage regulation,line losses, sending end power factor and transmission efficiency\n",
"clear;\n",
"clc;\n",
"//soltion\n",
"//given\n",
"R=0.6125*100;//ohm//total resistance\n",
"X=1*100;//ohm//reactance\n",
"Y=17.5*10^-4;//S//total susecptance\n",
"Vr=66*1000;//V\n",
"pf=0.8;//power factor\n",
"P=20*10^6;//watts\n",
"Ir=(P/(Vr*pf))*complex(pf,-0.6);\n",
"Ic=complex(0,Y*Vr);\n",
"Is=Ir+Ic;\n",
"theta1=atand((imag(Is)/real(Is)));\n",
"printf('Sending end current= %.2f∠%.3f°A\n',abs(Is),theta1);\n",
"Vs=Vr+Is*(complex(R,X));\n",
"theta2=atand((imag(Vs)/real(Vs)));\n",
"printf('Sending end voltage= %.3f∠%.2f°Volts\n',abs(Vs),theta2);\n",
"phi=theta2-theta1;\n",
"printf('sending end power factor= %.3f(lag)\n',cosd(phi));\n",
"Pr=((abs(Vs)-Vr)*100)/Vr;\n",
"printf('Percentage regulation= %.1f percent\n',Pr);\n",
"Ll=(abs(Is))^2*R/1000;//line losses\n",
"printf('Total Line Losses= %.3fkW\n',Ll);\n",
"nt=P*100/(P+Ll*1000);\n",
"printf('Transmission efficiency= %.2f percent',nt)"
   ]
   }
,
{
		   "cell_type": "markdown",
		   "metadata": {},
		   "source": [
			"## Example 5.7: EX5_7.sce"
		   ]
		  },
  {
"cell_type": "code",
	   "execution_count": null,
	   "metadata": {
	    "collapsed": true
	   },
	   "outputs": [],
"source": [
"//Find current and voltage of sending end and percentage regulation and transmission efficiency\n",
"clear;\n",
"clc;\n",
"//soltion\n",
"//given\n",
"R=0.2*150;//ohm//total resistance\n",
"X=0.5*150;//ohm//reactance\n",
"Y=150*3*10^-6;//S//total susecptance\n",
"Vrl=132*1000;//V\n",
"pf=0.8;//power factor\n",
"P=40*10^6;//MVA\n",
"Vr=Vrl/sqrt(3);\n",
"Ir_=(P/(sqrt(3)*Vrl));\n",
"Ir=Ir_*complex(pf,-0.6);\n",
"Z=complex(R,X);//ohm//Load impedance\n",
"V_=Vr+Ir*(Z/2);\n",
"Ic=V_*(%i)*Y;\n",
"Is=Ir+Ic;\n",
"theta1=atand((imag(Is)/real(Is)));\n",
"printf('Sending end current= %.3f∠%.2f° A\n',abs(Is),theta1);\n",
"Vs=V_+Is*(Z/2);\n",
"theta2=atand((imag(Vs)/real(Vs)));\n",
"Vls=sqrt(3)*abs(Vs)/1000;\n",
"printf('Sending end line voltage= %.2fkV\n',Vls);\n",
"Pr=((abs(Vs)-Vr)*100)/Vr;\n",
"printf('Percentage voltage regulation= %.1f percent\n',Pr);\n",
"phi=theta2-theta1;\n",
"nt=(Vrl*Ir_*pf*100)/(Vls*1000*abs(Is)*cosd(phi));\n",
"printf('Transmission efficiency= %.2f percent',nt);"
   ]
   }
,
{
		   "cell_type": "markdown",
		   "metadata": {},
		   "source": [
			"## Example 5.8: Find_current_and_voltage_of_sending_end_and_percentage_regulation.sce"
		   ]
		  },
  {
"cell_type": "code",
	   "execution_count": null,
	   "metadata": {
	    "collapsed": true
	   },
	   "outputs": [],
"source": [
"//Find current and voltage of sending end and percentage regulation\n",
"clear;\n",
"clc;\n",
"//soltion\n",
"//given\n",
"R=0.1425*200;//ohm//total resistance\n",
"X=0.49*200;//ohm//reactance\n",
"Y=8*10^-4;//S//total susecptance\n",
"Vrl=132*1000;//V\n",
"pf=0.8;//power factor\n",
"P=50*10^6;//MVA\n",
"Vr=round(Vrl/sqrt(3));\n",
"Ir_=(P/(sqrt(3)*Vrl));\n",
"Ir=Ir_*complex(pf,-0.6);\n",
"Icr=0.5*(%i*Y)*Vr;\n",
"Il=Ir+Icr;\n",
"Z=complex(R,X);//ohm//Load impedance\n",
"Vs=Vr+Il*(Z);\n",
"theta=atand((imag(Vs)/real(Vs)));\n",
"printf('Sending end voltage= %.3f∠%.3f°\n',abs(Vs),theta);\n",
"Vls=sqrt(3)*abs(Vs)/1000;\n",
"printf('Sending end line voltage= %.2fkV\n',Vls);\n",
"M=1+0.5*(%i*Y)*Z;//THE BOOK HAS USED 0.9962 BUT IT IS 0.962\n",
"Vrlo=Vls/abs(M);\n",
"Pr=((Vrlo*1000-Vrl)*100)/Vrl;\n",
"printf('Percentage voltage regulation= %.1f percent\n',Pr);\n",
"//THE ANS OF THE REGULATION IS 21.4% BECAUSE OF TYPOLOGICAL ERROR"
   ]
   }
,
{
		   "cell_type": "markdown",
		   "metadata": {},
		   "source": [
			"## Example 5.9: Find_current_and_voltage_of_sending_end.sce"
		   ]
		  },
  {
"cell_type": "code",
	   "execution_count": null,
	   "metadata": {
	    "collapsed": true
	   },
	   "outputs": [],
"source": [
"//Find current and voltage of sending end\n",
"clear;\n",
"clc;\n",
"//soltion\n",
"//given\n",
"R=0.1*150;//ohm//total resistance\n",
"X=0.5*150;//ohm//reactance\n",
"Y=3*150*10^-6;//S//total susecptance\n",
"Vrl=110*1000;//V\n",
"pf=0.8;//power factor\n",
"P=50*10^6;//M watts\n",
"Vr=floor(Vrl/sqrt(3));\n",
"Ir_=(P/(sqrt(3)*Vrl*pf));\n",
"Ir=Ir_*complex(pf,-0.6);\n",
"Ic1=Vr*(%i*Y/2);\n",
"Il=Ir+Ic1;\n",
"Z=complex(R,X);\n",
"Vs=Vr+Il*Z;\n",
"theta=atand((imag(Vs)/real(Vs)));\n",
"Vls=sqrt(3)*abs(Vs)/1000;\n",
"printf('Sending end line voltage= %.2f kV\n',Vls);\n",
"Ic2=Vs*(%i*Y/2);\n",
"Is=Il+Ic2;\n",
"printf('Sending end current(Is)= %.1f A',abs(Is));"
   ]
   }
],
"metadata": {
		  "kernelspec": {
		   "display_name": "Scilab",
		   "language": "scilab",
		   "name": "scilab"
		  },
		  "language_info": {
		   "file_extension": ".sce",
		   "help_links": [
			{
			 "text": "MetaKernel Magics",
			 "url": "https://github.com/calysto/metakernel/blob/master/metakernel/magics/README.md"
			}
		   ],
		   "mimetype": "text/x-octave",
		   "name": "scilab",
		   "version": "0.7.1"
		  }
		 },
		 "nbformat": 4,
		 "nbformat_minor": 0
}
