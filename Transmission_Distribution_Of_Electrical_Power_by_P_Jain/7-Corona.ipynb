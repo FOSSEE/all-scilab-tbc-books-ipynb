{
"cells": [
 {
		   "cell_type": "markdown",
	   "metadata": {},
	   "source": [
       "# Chapter 7: Corona"
	   ]
	},
{
		   "cell_type": "markdown",
		   "metadata": {},
		   "source": [
			"## Example 7.1: Determine_line_voltage_for_commencing_of_corona.sce"
		   ]
		  },
  {
"cell_type": "code",
	   "execution_count": null,
	   "metadata": {
	    "collapsed": true
	   },
	   "outputs": [],
"source": [
"//Determine line voltage for commencing of corona\n",
"clear;\n",
"clc;\n",
"//soltion\n",
"//given\n",
"d=3;//m\n",
"r=2;//cm\n",
"go=30/sqrt(2);//kV/cm.... Dielectric strength of air\n",
"Vdo=go*r*log(d*100/r);\n",
"Vl=sqrt(3)*Vdo;\n",
"printf('Line voltage for corona formation= %.2f kV',Vl);\n",
"//In book its 209.53 kV because of some typological error"
   ]
   }
,
{
		   "cell_type": "markdown",
		   "metadata": {},
		   "source": [
			"## Example 7.2: Determine_whether_corona_will_be_there_or_not.sce"
		   ]
		  },
  {
"cell_type": "code",
	   "execution_count": null,
	   "metadata": {
	    "collapsed": true
	   },
	   "outputs": [],
"source": [
"//Determine whether corona will be there or not\n",
"clear;\n",
"clc;\n",
"//soltion\n",
"//given\n",
"Er=4;//relative permittivity\n",
"r=3.52/2;//cm\n",
"Vp=28;//kV//Voltage between conductor and an earthed clamp surrounding the porcelain\n",
"g1=poly(0,'g1');\n",
"r1=4/2;//cm\n",
"r2=10/2;//cm\n",
"g2=r*g1/(Er*r1);\n",
"g1max=roots(g1*r*log(r1/r)+g2*r1*log(r2/r1)-28);\n",
"printf('Maximum gradient on conductor surface= %.3f kV/cm\n',g1max);\n",
"printf('If gradient exceeds dielectric strength of air (21.1kV/cm) the corona will be present \n In this case it is present');"
   ]
   }
,
{
		   "cell_type": "markdown",
		   "metadata": {},
		   "source": [
			"## Example 7.3: Determine_critical_discruptive_voltage_for_line.sce"
		   ]
		  },
  {
"cell_type": "code",
	   "execution_count": null,
	   "metadata": {
	    "collapsed": true
	   },
	   "outputs": [],
"source": [
"//Determine critical discruptive voltage for line\n",
"clear;\n",
"clc;\n",
"//soltion\n",
"//given\n",
"d=2*100;//cm\n",
"r=0.5;//cm\n",
"go=30/sqrt(2);//kV/cm.... Dielectric strength of air\n",
"mo=0.8;//Irregularity factor\n",
"del=0.95//air density factor\n",
"Vdo=mo*go*del*r*log(d/r);\n",
"Vl=sqrt(3)*Vdo;\n",
"printf('Line voltage (R.M.S)= %.2f kV',Vl);"
   ]
   }
,
{
		   "cell_type": "markdown",
		   "metadata": {},
		   "source": [
			"## Example 7.4: Find_spacing_between_the_conductor.sce"
		   ]
		  },
  {
"cell_type": "code",
	   "execution_count": null,
	   "metadata": {
	    "collapsed": true
	   },
	   "outputs": [],
"source": [
"//Find spacing between the conductor\n",
"clear;\n",
"clc;\n",
"//soltion\n",
"//given\n",
"r=1;//cm\n",
"go=30/sqrt(2);//kV/cm.... Dielectric strength of air\n",
"mo=1;//Irregularity factor\n",
"del=1//air density factor\n",
"Vdo=220/sqrt(3);\n",
"d=exp(Vdo/(mo*go*del*r));\n",
"printf('Spacing between the conductor (d)= %.2f m',d/100)"
   ]
   }
,
{
		   "cell_type": "markdown",
		   "metadata": {},
		   "source": [
			"## Example 7.5: Determine_critical_discruptive_voltage_for_line.sce"
		   ]
		  },
  {
"cell_type": "code",
	   "execution_count": null,
	   "metadata": {
	    "collapsed": true
	   },
	   "outputs": [],
"source": [
"//Determine critical discruptive voltage for line\n",
"clear;\n",
"clc;\n",
"//soltion\n",
"//given\n",
"d=2*100;//cm\n",
"r=1.2;//cm\n",
"go=30/sqrt(2);//kV/cm.... Dielectric strength of air\n",
"mo=0.96;//Irregularity factor\n",
"b=72.2;//barometric pressure\n",
"t=20;//temperature\n",
"del=3.92*b/(273+t);//air density factor\n",
"Vdo=mo*go*del*r*log(d/r);\n",
"Vl=sqrt(3)*Vdo;\n",
"printf('Line voltage (R.M.S)= %.2f kV',Vl);\n",
"//In book its 208 kV because of rounding of floating points"
   ]
   }
,
{
		   "cell_type": "markdown",
		   "metadata": {},
		   "source": [
			"## Example 7.6: Determine_critical_discruptive_voltage_for_line_and_corona_loss.sce"
		   ]
		  },
  {
"cell_type": "code",
	   "execution_count": null,
	   "metadata": {
	    "collapsed": true
	   },
	   "outputs": [],
"source": [
"//Determine critical discruptive voltage for line and corona loss\n",
"clear;\n",
"clc;\n",
"//soltion\n",
"//given\n",
"Vph1=106/sqrt(3);//kV\n",
"Pc1=54;//kW//loss at Vph1\n",
"Vph2=110/sqrt(3);//kV\n",
"Pc2=95;//kW//loss at Vph2\n",
"Vphu=115/sqrt(3);//kV\n",
"printf('Pc α (Vph-Vdo)^2\n');\n",
"Vdo=poly(0,'Vdo');\n",
"A=roots((Vph1-Vdo)^2*Pc2-(Vph2-Vdo)^2*Pc1);\n",
"Vdo=54.123123;//after the solution of roots\n",
"Pcu=Pc1*((Vphu-Vdo)^2)/((Vph1-Vdo)^2)\n",
"printf('Corona loss at 115 kV= %.2f kW\n',Pcu);\n",
"printf('Critical discruptive voltage= %.2f kV',sqrt(3)*Vdo);"
   ]
   }
,
{
		   "cell_type": "markdown",
		   "metadata": {},
		   "source": [
			"## Example 7.7: EX7_7.sce"
		   ]
		  },
  {
"cell_type": "code",
	   "execution_count": null,
	   "metadata": {
	    "collapsed": true
	   },
	   "outputs": [],
"source": [
"//Determine critical disruptive voltage and Visual critical voltage and Corona loss\n",
"clear;\n",
"clc;\n",
"//soltion\n",
"//given\n",
"r=1.036/2;//cm//conductor radius\n",
"d=2.44*10^2;//cm//spacing\n",
"go=21.1;//kV/cm//Dielectric strength\n",
"mo=0.85;//irregularity factor\n",
"mv=0.72;//roughness factor\n",
"b=73.15;//pressure\n",
"t=26.6;//temperature\n",
"f=50;//frequency\n",
"del=3.92*b/(273+t);\n",
"Vph=110/sqrt(3);//kV//Voltage to which conductor are subjected\n",
"Vdo=go*del*mo*r*log(d/r);\n",
"Vvo=go*del*mv*r*(1+0.3/sqrt(del*r))*log(d/r);\n",
"printf('Critical voltage to neutral= %.3f kV(rms)\n',Vdo);\n",
"printf('Visual critical voltage to neutral= %.1f kV(rms)\n',Vvo);\n",
"Pc=(244/del)*(f+25)*sqrt(r/d)*(Vph-0.8*Vdo)^2*10^-5;\n",
"printf('Total corona loss for 160 km, 3 phase line= %d kW\n',ceil(160*3*Pc));\n",
"ra=Vph/(0.8*Vdo);\n",
"k=0.46;\n",
"printf('For this value of the Vph/Vdo(%.2f) K= %.2f\n',ra,k);\n",
"Pc2=21*10^-6*f*((Vph)^2)*k/(log10(d/r))^2;\n",
"printf('Total corona loss(under bad weather) for 160 km, 3 phase line= %.2f kW\n',160*3*Pc2);\n",
"//IN BOOK THE CORONA LOSS UNDER BAD CONDITION IS 1308.5 BECAUSE OF SOME TYPOLOGICAL ERROR"
   ]
   }
,
{
		   "cell_type": "markdown",
		   "metadata": {},
		   "source": [
			"## Example 7.8: Find_corona_characteristics.sce"
		   ]
		  },
  {
"cell_type": "code",
	   "execution_count": null,
	   "metadata": {
	    "collapsed": true
	   },
	   "outputs": [],
"source": [
"//Find corona characteristics\n",
"clear;\n",
"clc;\n",
"//soltion\n",
"//given\n",
"r=1/2;//cm//conductor radius\n",
"d=3*10^2;//cm//spacing\n",
"go=21.1;//kV/cm//Dielectric strength\n",
"mo=0.85;//irregularity factor\n",
"mv=0.72;//roughness factor\n",
"mv_=0.82;//for general corona\n",
"b=74;//pressure\n",
"t=26;//temperature\n",
"f=50;//frequency\n",
"del=3.92*b/(273+t);\n",
"Vph=110/sqrt(3);//kV//Voltage to which conductor are subjected\n",
"Vdo=go*del*mo*r*log(d/r);\n",
"Vvo_=go*del*mv*r*(1+0.3/sqrt(del*r))*log(d/r);\n",
"Vvo=Vvo_*(mv_/mv);\n",
"printf('Critical voltage to neutral= %.2f kV(rms)\n',Vdo);\n",
"printf('Visual critical voltage to neutral= %.1f kV(rms)\n',Vvo);\n",
"Pc=(244/del)*(f+25)*sqrt(r/d)*(Vph-Vdo)^2*10^-5;\n",
"printf('Total corona loss for 175 km, 3 phase line= %d kW\n',ceil(175*3*Pc));\n",
"Pc_=(244/del)*(f+25)*sqrt(r/d)*(Vph-0.8*Vdo)^2*10^-5;\n",
"printf('Total corona loss for 175 km, 3 phase line= %d kW\n',ceil(175*3*Pc_));\n",
"//THE ANS IN BOOK OF FAIR AND STORMY CONDITION IS 253 kW AND 1464kW BECAUSE OF USING ROUND OFF VALUES"
   ]
   }
],
"metadata": {
		  "kernelspec": {
		   "display_name": "Scilab",
		   "language": "scilab",
		   "name": "scilab"
		  },
		  "language_info": {
		   "file_extension": ".sce",
		   "help_links": [
			{
			 "text": "MetaKernel Magics",
			 "url": "https://github.com/calysto/metakernel/blob/master/metakernel/magics/README.md"
			}
		   ],
		   "mimetype": "text/x-octave",
		   "name": "scilab",
		   "version": "0.7.1"
		  }
		 },
		 "nbformat": 4,
		 "nbformat_minor": 0
}
