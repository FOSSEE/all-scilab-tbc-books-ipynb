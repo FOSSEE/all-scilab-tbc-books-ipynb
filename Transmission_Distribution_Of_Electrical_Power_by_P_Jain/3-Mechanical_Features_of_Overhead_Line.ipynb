{
"cells": [
 {
		   "cell_type": "markdown",
	   "metadata": {},
	   "source": [
       "# Chapter 3: Mechanical Features of Overhead Line"
	   ]
	},
{
		   "cell_type": "markdown",
		   "metadata": {},
		   "source": [
			"## Example 3.10: find_the_clearance_of_conductor_from_ground.sce"
		   ]
		  },
  {
"cell_type": "code",
	   "execution_count": null,
	   "metadata": {
	    "collapsed": true
	   },
	   "outputs": [],
"source": [
"//find the clearance of conductor from ground\n",
"clear;\n",
"clc;\n",
"//soltion\n",
"//given\n",
"W=1;//kg/m//Line conductor wieght\n",
"L=300;//meter//span of the line\n",
"T=1500;//kg//max allowable tension\n",
"T1=22-2;//m//effective height of the towers\n",
"g=1/20;//sin Θ//gradient\n",
"h=L*g//m//vertical distance between two towers\n",
"printf('x1+x2≈ %dm\n',L);\n",
"dif=((h*2*T)/(W*L));//x2-x1\n",
"printf('x2-x1= %dm\n',dif);\n",
"x2=(L+dif)/2;//m\n",
"x1=L-x2;//m\n",
"printf('x1= %dm, x2= %dm\n',round(x1),round(x2));\n",
"sag= ((W*x2^2)/(2*T));//m\n",
"printf('Sag= %.3f m\n',sag);\n",
"T2=T1+h;//m//hieght of the second tower\n",
"gf=x1*tand(asind(1/20));//m//elevation of the groundat max sag\n",
"OG=T2-sag-gf;//m//ground clearance\n",
"printf('Clearance of the lowest point O from ground is %.2fm',OG);\n",
"//SINCE THERE IS NO REFRENCE OF WATERLEVEL IN THE QUESTION THEREFORE THE EXTRA SOLUTION IS AN TYPOGRAPHICAL ERROR "
   ]
   }
,
{
		   "cell_type": "markdown",
		   "metadata": {},
		   "source": [
			"## Example 3.11: Find_stringing_tension_in_the_conductor.sce"
		   ]
		  },
  {
"cell_type": "code",
	   "execution_count": null,
	   "metadata": {
	    "collapsed": true
	   },
	   "outputs": [],
"source": [
"//Find stringing tension in the conductor\n",
"clear;\n",
"clc;\n",
"//soltion\n",
"//given\n",
"W=0.7;//kg/m//Line conductor wieght\n",
"L=250;//meter//span of the line\n",
"T1=25;//m//height of the tower 1\n",
"T2=75;//m//height of the tower 2\n",
"h=T2-T1;//m//difference in the between support\n",
"Tm=45;//m//hieght of midway between the towers\n",
"hm=Tm-T1;//m//midway point between the two towers\n",
"Lm=L/2;//m//half of the span\n",
"printf('We know that \nh=(W*L*(L-2*x))/(2*T)\n');\n",
"printf('For the two towers\n%d=(%.1f*%d(%d-2*x))/(2*T)\n',h,W,L,L);\n",
"printf('For the mid point \n%d=(%.1f*%d(%d-2*x))/(2*T)\n',hm,W,Lm,Lm);\n",
"x=-(2*L)+(2.5*Lm);\n",
"printf('By above equation x= %d m\n',x);\n",
"T=(W*L*(L-2*x))/(2*h);\n",
"printf('Stringing Tension(T)=%.2f kg',T)"
   ]
   }
,
{
		   "cell_type": "markdown",
		   "metadata": {},
		   "source": [
			"## Example 3.12: find_the_clearance_of_conductor_from_water_level_at_mid_point.sce"
		   ]
		  },
  {
"cell_type": "code",
	   "execution_count": null,
	   "metadata": {
	    "collapsed": true
	   },
	   "outputs": [],
"source": [
"//find the clearance of conductor from water level at mid point\n",
"clear;\n",
"clc;\n",
"//soltion\n",
"//given\n",
"W=.844;//kg/m//Line conductor wieght\n",
"L=300;//meter//span of the line\n",
"T=1800;//kg//max allowable tension\n",
"T1=40;//m//height of the tower 1\n",
"T2=80;//m//height of the tower 2\n",
"h=T2-T1;//m//difference in the between support\n",
"x=L/2-(T*h)/(W*L);\n",
"printf('Distance between midpoint and lowest point= %.2fm\n',(L/2)-x);\n",
"Smid=(W*(L/2-x)^2)/(2*T);\n",
"printf('Height between midpoint and lowest point= %.3fm\n',Smid);\n",
"S2=(W*(L-x)^2)/(2*T);\n",
"printf('Height between taller tower and lowest point= %.3fm\n',S2);\n",
"C=T2-(S2-Smid);\n",
"printf('Clearance of conductor from water level at mid point= %.3fm',C)"
   ]
   }
,
{
		   "cell_type": "markdown",
		   "metadata": {},
		   "source": [
			"## Example 3.13: EX3_13.sce"
		   ]
		  },
  {
"cell_type": "code",
	   "execution_count": null,
	   "metadata": {
	    "collapsed": true
	   },
	   "outputs": [],
"source": [
"//find the clearance of conductor from ground i)At its lowest elevation ii)the min clearance of the line\n",
"clear;\n",
"clc;\n",
"//soltion\n",
"//given\n",
"W=.8;//kg/m//Line conductor wieght\n",
"L=300;//meter//span of the line\n",
"T=1500;//kg//max allowable tension\n",
"T1=30;//m//height of the towers\n",
"g=1/20;//tan Θ//ground slope\n",
"h=L*g//m//vertical distance between two towers\n",
"T2=T1+h;//m//height of the tower along the slope\n",
"x1=L/2-(T*h)/(W*L);\n",
"printf('Distance between tower on ground and sag=x1= %.2fm\n',x1);\n",
"S1=(W*x1^2)/(2*T);\n",
"printf('Sag for tower on ground(S1)= %.5fm\n',S1);\n",
"S2=(W*(L-x1)^2)/(2*T);\n",
"printf('Sag for tower on hill(S2)= %.5fm\n',S2);\n",
"C=T1-S1-x1*g;\n",
"printf('Clearance of conductor from lowest elevation= %.5fm\n',C);\n",
"x=poly(0, 'x');\n",
"C1= poly([C -g W/(2*T)],'x','c');\n",
"d=derivat(C1);\n",
"xa=roots(d);\n",
"Ca=C-g*xa+W/(2*T)*xa^2;\n",
"printf('Minimum clearance from ground= %dm',Ca);"
   ]
   }
,
{
		   "cell_type": "markdown",
		   "metadata": {},
		   "source": [
			"## Example 3.14: Determine_Sag_and_Tension_under_erection_conditions.sce"
		   ]
		  },
  {
"cell_type": "code",
	   "execution_count": null,
	   "metadata": {
	    "collapsed": true
	   },
	   "outputs": [],
"source": [
"//Determine Sag & Tension under erection conditions\n",
"clear;\n",
"clc;\n",
"//soltion\n",
"//given\n",
"W=.9;//kg/m//Line conductor wieght\n",
"L=300;//meter//span of the line\n",
"a=2.40*10^-4//m^2//area\n",
"D=19.5//mm//diameter\n",
"U=8000;//kg//Ultimate strength\n",
"sf=2;//safety factor\n",
"P=38.5;//kg/m^2//Wind pressure\n",
"T1=U/sf;//kg//max allowable tension\n",
"E=9320*10^6;//kg/m^2//Young's Modulus\n",
"alp=18.44*10^-6;//1/°C//Linear expansion\n",
"t1=5//°C//temperature under normal condition\n",
"t2=35//°C//temperature under worst condition\n",
"dt=t2-t1;//°C//difference in temperature\n",
"f1=T1/a;\n",
"Ww=P*(D)*10^-3;//weight due to wind\n",
"printf('Wind force= %.2fkg\n',Ww);\n",
"Wr=sqrt(W^2+Ww^2);//resultant weight\n",
"C1=W^2*L^2*E/(24*a^2);\n",
"C2=-f1+Wr^2*L^2*E/(24*f1^2*a^2)+dt*alp*E;\n",
"p=poly([-C1 0 C2 1], 'f2', 'c');\n",
"r=roots(p);\n",
"f2= 11951292;//accepted value of f2\n",
"sag=(W*L^2)/(8*f2*a);\n",
"printf('Sag at erection= %.3fm',sag);\n",
"//The book has used in correct value of f2 and in it the sag is 2.121m"
   ]
   }
,
{
		   "cell_type": "markdown",
		   "metadata": {},
		   "source": [
			"## Example 3.1: calculate_the_weight_of_the_conductor_required.sce"
		   ]
		  },
  {
"cell_type": "code",
	   "execution_count": null,
	   "metadata": {
	    "collapsed": true
	   },
	   "outputs": [],
"source": [
"//calculate the weight of the conductor required\n",
"clear;\n",
"clc;\n",
"//soltion\n",
"//given\n",
"p=30*10^6;//watts// power to be transmitted\n",
"v=132*10^3;//volts//Line voltage\n",
"l=120*10^3;//m//length of 3 phase 3 wire line\n",
"n=0.9;//efficieny of the transmission line\n",
"pf=.8;//power factor\n",
"d1=1.78*10^-8;//ohm m//resistivity of copper\n",
"d2=2.6*10^-8;//ohm m//resistivity of aluminuim\n",
"D1=8.9*10^3;//(kg/m^3)//specific gravity of the copper\n",
"D2=2*10^3;//(kg/m^3)//specific gravity of the aluminium\n",
"printf('Weight of the conductor required \n\n');\n",
"printf('W=(3*d*l^2*P*D)/((1-n)*V^2*pf^2) kg\n\n\n');\n",
"W1=(3*d1*l^2*p*D1)/((1-n)*v^2*pf^2);\n",
"printf('Weight of coppper required= %d kg\n\n',round(W1/1000)*1000);\n",
"W2=(3*d2*l^2*p*D2)/((1-n)*v^2*pf^2);\n",
"printf('Weight of aluminuim required= %d kg\n\n\n',round(W2/100)*100);"
   ]
   }
,
{
		   "cell_type": "markdown",
		   "metadata": {},
		   "source": [
			"## Example 3.2: Calculate_the_max_sag.sce"
		   ]
		  },
  {
"cell_type": "code",
	   "execution_count": null,
	   "metadata": {
	    "collapsed": true
	   },
	   "outputs": [],
"source": [
"//Calculate the max sag\n",
"clear;\n",
"clc;\n",
"//soltion\n",
"//given\n",
"W=.6;//kg/m//Line conductor wieght\n",
"L=300;//meter//span of the line\n",
"T=1200;//kg//max allowable tension\n",
"printf('Max sag= (W*L^2)/(8*T)\n');\n",
"sag= (W*L^2)/(8*T);\n",
"printf('Sag= %.3f m',sag);"
   ]
   }
,
{
		   "cell_type": "markdown",
		   "metadata": {},
		   "source": [
			"## Example 3.3: Calculate_the_hieght_above_ground_at_which_conductor_should_be_supported.sce"
		   ]
		  },
  {
"cell_type": "code",
	   "execution_count": null,
	   "metadata": {
	    "collapsed": true
	   },
	   "outputs": [],
"source": [
"//Calculate the hieght above ground at which conductor should be supported\n",
"clear;\n",
"clc;\n",
"//soltion\n",
"//given\n",
"W=680;//kg/km//Line conductor weight\n",
"L=240;//meter//span of the line\n",
"U=3200;//kg//Ultimate strength\n",
"sf=2;//safety factor\n",
"T=U/sf;//kg//max allowable tension\n",
"gc=8;//m//ground clearance\n",
"w=W/1000;//kg/m//Weight of conductor in meter\n",
"printf('Max sag= (W*L^2)/(8*T)\n');\n",
"sag= (w*L^2)/(8*T);\n",
"printf('Sag= %.2f m\n',sag);\n",
"H=gc+sag;\n",
"printf('Height above which conductor should be supported\n= ground clearance+ sag= %.2f m',H);"
   ]
   }
,
{
		   "cell_type": "markdown",
		   "metadata": {},
		   "source": [
			"## Example 3.4: Calculate_horizontal_component_of_tension_and_max_sag.sce"
		   ]
		  },
  {
"cell_type": "code",
	   "execution_count": null,
	   "metadata": {
	    "collapsed": true
	   },
	   "outputs": [],
"source": [
"//Calculate horizontal component of tension and max sag\n",
"clear;\n",
"clc;\n",
"//soltion\n",
"//given\n",
"W=750;//kg/km//Line conductor weight\n",
"L=300;//meter//span of the line\n",
"T=3400;//kg//max allowable tension\n",
"w=W/1000;//kg/m//Weight of conductor in meter\n",
"printf('Max sag= (W*L^2)/(8*Th)\n');\n",
"x= (w*L^2)/(8);\n",
"printf('Sag= %.1f/Th\n\n',x);\n",
"printf('Max tension= Th + wS\n');\n",
"Th=(T+sqrt(T^2+4*w*x))/2;\n",
"printf('Horizontal component of tension (Th)= %.3f kg\n',Th);\n",
"sag= (w*L^2)/(8*Th);\n",
"printf('Sag= %.3f m\n',sag);\n",
"y=sag/2;\n",
"z=sqrt((2*Th*y)/w);\n",
"printf('Point at which sag will be half= %.3f m\n', z);\n",
"//THERE IS TYPOGRAPHICAL ERROR IN BOOK DUE TO THAT THERE IS A VARIATION\n",
"//IN BOOK Th=3448.191 kg\n",
"//MAX SAG=2.446 m\n",
"//Point at which sag will be half= 106.045 m"
   ]
   }
,
{
		   "cell_type": "markdown",
		   "metadata": {},
		   "source": [
			"## Example 3.5: Calculate_the_max_sag_in_still_air_and_wind_pressure.sce"
		   ]
		  },
  {
"cell_type": "code",
	   "execution_count": null,
	   "metadata": {
	    "collapsed": true
	   },
	   "outputs": [],
"source": [
"//Calculate the max sag in still air and wind pressure\n",
"clear;\n",
"clc;\n",
"//soltion\n",
"//given\n",
"Wc=1.13;//kg/m//Line conductor weight\n",
"P=33.7//kg/m^2//Wind pressure\n",
"L=180;//meter//span of the line\n",
"fu=4220;//kg//Ultimate stress\n",
"sf=5;//safety factor\n",
"f=fu/sf;//kg//working stress\n",
"D=1.27;//cm//dia of copper\n",
"r=1.25;//cm//Radial thickness of ice\n",
"a=(%pi*D^2)/4;//cm^2//area of cross section\n",
"printf('Area of cross section= %3f cm^2\n',a);\n",
"T=f*a;//kg//max allowable tension\n",
"printf('Working tension= %.2f kg\n',T);\n",
"sag1= (Wc*L^2)/(8*T);//sag in still air\n",
"printf('Sag in sill air= %.2f m\n',sag1);\n",
"Wi=2890.3*r*(D+r)*10^-4;\n",
"printf('Weight of ice coating= %.2fkg\n',Wi);\n",
"Ww=P*(D+2*r)*10^-2;\n",
"printf('Wind force= %.5fkg\n',Ww);\n",
"Wr=sqrt((Wc+Wi)^2+Ww^2);\n",
"sag2= (Wr*L^2)/(8*T);//sag in wind + ice\n",
"printf('Max Sag= %.3f m\n',sag2);"
   ]
   }
,
{
		   "cell_type": "markdown",
		   "metadata": {},
		   "source": [
			"## Example 3.6: Calculate_the_max_sag.sce"
		   ]
		  },
  {
"cell_type": "code",
	   "execution_count": null,
	   "metadata": {
	    "collapsed": true
	   },
	   "outputs": [],
"source": [
"//Calculate the max sag\n",
"clear;\n",
"clc;\n",
"Wc=.85;//kg/m//Line conductor wieght\n",
"L=275;//meter//span of the line\n",
"U=8000;//kg//Ultimate strength\n",
"sf=2;//safety factor\n",
"P=39;//kg/m^2//Wind pressure\n",
"T=U/sf;//kg//max allowable tension\n",
"D=19.5;//mm//dia of copper\n",
"r=13;//cm//Radial thickness of ice\n",
"Wi=910*%pi*r*(D+r)*10^-6;\n",
"Ww=P*(D+2*r)*10^-3;//Wind force/m lenght\n",
"Wr=sqrt((Wc+Wi)^2+Ww^2);//resultant sag\n",
"sag= (Wr*L^2)/(8*T);//sag in wind + ice\n",
"printf('Max Sag= %.3f m\n',sag);"
   ]
   }
,
{
		   "cell_type": "markdown",
		   "metadata": {},
		   "source": [
			"## Example 3.7: Calculate_the_vertical_sag.sce"
		   ]
		  },
  {
"cell_type": "code",
	   "execution_count": null,
	   "metadata": {
	    "collapsed": true
	   },
	   "outputs": [],
"source": [
"//Calculate the vertical sag\n",
"clear;\n",
"clc;\n",
"//soltion\n",
"//given\n",
"W=1170;//kg/km//Line conductor wieght\n",
"P=122;//kg/m^2//Wind pressure\n",
"L=200;//meter//span of the line\n",
"A=1.29;//cm^2//cross sectional area\n",
"U=4218*A;//kg//Breaking strength\n",
"sf=5;//safety factor\n",
"T=U/sf;//kg//max allowable tension\n",
"Wc=W/1000;//kg/m//Weight of conductor in meter\n",
"D=sqrt((4*A)/%pi);//cm//diameter of the conductor\n",
"printf('Diameter of the conductor= %.2f cm\n',D);\n",
"Ww=P*(D)*10^-2;//Wind force/m lenght\n",
"printf('Wind force= %.2fkg\n',Ww);\n",
"Wr=sqrt(Wc^2+Ww^2);//resultant weight\n",
"printf('Resultant sag= %.2fkg\n',Wr);\n",
"sag= (Wr*L^2)/(8*T);//m//Slant sag\n",
"printf('Slant Sag= %.2f m\n',sag);\n",
"Th=atand(Ww/Wc);//degree//angle between slant sag and vertical sag\n",
"Vsag=sag*cosd(Th);//m//Vertical sag\n",
"printf('Vertical sag= %.3fm',Vsag);"
   ]
   }
,
{
		   "cell_type": "markdown",
		   "metadata": {},
		   "source": [
			"## Example 3.8: Calculate_the_minimum_clearance_of_conductor_and_water.sce"
		   ]
		  },
  {
"cell_type": "code",
	   "execution_count": null,
	   "metadata": {
	    "collapsed": true
	   },
	   "outputs": [],
"source": [
"//Calculate the minimum clearance of conductor and water\n",
"clear;\n",
"clc;\n",
"//soltion\n",
"//given\n",
"W=1.5;//kg/m//Line conductor wieght\n",
"L=500;//meter//span of the line\n",
"T=1600;//kg//max allowable tension\n",
"T1=30;//m//height of the tower 1\n",
"T2=90;//m//height of the tower 2\n",
"h=T2-T1;//m//difference in the between support\n",
"printf('Distance of support T1 from O(Lowest point) be x1\n');\n",
"printf('Distance of support T2 from O(Lowest point) be x2\n');\n",
"printf('x1+x2= %dm\n',L);\n",
"dif=((h*2*T)/(W*L));//x2-x1\n",
"printf('x2-x1= %dm\n',dif);\n",
"x2=(L+dif)/2;//m\n",
"x1=L-x2;//m\n",
"printf('x1= %dm, x2= %dm\n',x1,x2);\n",
"sag= ((W*x1^2)/(2*T));//m\n",
"printf('Sag(From tower 1)= %d m\n',round(sag));\n",
"C=T1-sag;//Clearance\n",
"printf('Clearance of the lowest point from water level= %dm\n',C);"
   ]
   }
,
{
		   "cell_type": "markdown",
		   "metadata": {},
		   "source": [
			"## Example 3.9: Calculate_sag_from_taller_of_the_two_supports.sce"
		   ]
		  },
  {
"cell_type": "code",
	   "execution_count": null,
	   "metadata": {
	    "collapsed": true
	   },
	   "outputs": [],
"source": [
"//Calculate sag from taller of the two supports\n",
"clear;\n",
"clc;\n",
"//soltion\n",
"//given\n",
"Wc=1.925;//kg/m//Line conductor wieght\n",
"L=600;//meter//span of the line\n",
"h=15//m//T1-T2\n",
"Wi=1//kg//Wieght of the ice\n",
"Wr=Wi+Wc;//resultant weight\n",
"A=2.2//cm^2\n",
"U=8000*A;//kg//Breaking strength\n",
"sf=5;//safety factor\n",
"T=U/sf;//kg//max allowable tension\n",
"printf('x1+x2= %dm\n',L);\n",
"dif=((h*2*T)/(Wr*L));//x2-x1\n",
"printf('x2-x1= %dm\n',dif);\n",
"x2=(L+dif)/2;//m\n",
"x1=L-x2;//m\n",
"printf('x1= %dm, x2= %dm\n',round(x1),round(x2));\n",
"sag= ((Wr*(round(x2))^2)/(2*T));//m\n",
"printf('Sag(from taller of the two supports)= %.3f m\n',sag);"
   ]
   }
],
"metadata": {
		  "kernelspec": {
		   "display_name": "Scilab",
		   "language": "scilab",
		   "name": "scilab"
		  },
		  "language_info": {
		   "file_extension": ".sce",
		   "help_links": [
			{
			 "text": "MetaKernel Magics",
			 "url": "https://github.com/calysto/metakernel/blob/master/metakernel/magics/README.md"
			}
		   ],
		   "mimetype": "text/x-octave",
		   "name": "scilab",
		   "version": "0.7.1"
		  }
		 },
		 "nbformat": 4,
		 "nbformat_minor": 0
}
