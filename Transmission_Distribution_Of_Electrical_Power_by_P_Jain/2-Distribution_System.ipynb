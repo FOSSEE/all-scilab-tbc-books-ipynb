{
"cells": [
 {
		   "cell_type": "markdown",
	   "metadata": {},
	   "source": [
       "# Chapter 2: Distribution System"
	   ]
	},
{
		   "cell_type": "markdown",
		   "metadata": {},
		   "source": [
			"## Example 2.1: Calculate_the_most_economical_cross_sectional_area.sce"
		   ]
		  },
  {
"cell_type": "code",
	   "execution_count": null,
	   "metadata": {
	    "collapsed": true
	   },
	   "outputs": [],
"source": [
"//Calculate the most economical cross sectional area\n",
"clear;\n",
"clc;\n",
"//soltion\n",
"//given\n",
"id=0.15;//interest & depreciation charges\n",
"i=260;//ampere//max current\n",
"d=0.173;//ohm//resistance of conductor\n",
"cst=.03;//rs// cost of energy per unit\n",
"t=(365*24)/2;//time of energy loss\n",
"printf('Annual cost of 2 core feeder cable is Rs(90a+10)per meter\n');\n",
"P3=(2*i^2*d*t*cst)/1000//kWh//annual cost of energy loss\n",
"printf('Energy loss per annum= P3/a= %f/a \n',P3);\n",
"P2=90*1000*id;//energy lost per annum\n",
"printf('Capital cost= P2*a= %d*a \n', P2);\n",
"a=sqrt(P3/P2);\n",
"printf('Economic cross section of conductor is= √(P3/P2)= %f square cm',a);"
   ]
   }
,
{
		   "cell_type": "markdown",
		   "metadata": {},
		   "source": [
			"## Example 2.2: Calculate_the_most_economical_current_density.sce"
		   ]
		  },
  {
"cell_type": "code",
	   "execution_count": null,
	   "metadata": {
	    "collapsed": true
	   },
	   "outputs": [],
"source": [
"//Calculate the most economical current density\n",
"clear;\n",
"clc;\n",
"//soltion\n",
"//given\n",
"id=0.1;//interest & depreciation charges\n",
"d=1.78*10^-8;//ohm m//resistivity\n",
"R=(d*1000)/10^-4;//ohm//resistance of conductor\n",
"cst=.50;//rs// cost of energy per unit\n",
"t=(365*24);//time of energy loss\n",
"lf=.7;//load factor of losses\n",
"printf('Annual cost of cable is Rs(2800a+1300)per km\n\n');\n",
"printf('Resistance of each conductor= %f/a \n', R);\n",
"P3=(R*t*cst*lf)/1000;//*I^2//kWh//annual cost of energy loss\n",
"printf('Annual cost of energy loss= P3/a= (%f*I^2)/a \n', P3);\n",
"P2=2800*id;//energy lost per annum\n",
"printf('Annual charge on account of intrest and depreciation on variable cost of line= P2*a= %d*a\n', P2);\n",
"J=sqrt(P2/P3);//current density I/a\n",
"printf('Economic current density of conductor is %f A/cm square',J);"
   ]
   }
,
{
		   "cell_type": "markdown",
		   "metadata": {},
		   "source": [
			"## Example 2.3: Calculate_the_most_economical_current_density_and_diameter_of_conductor.sce"
		   ]
		  },
  {
"cell_type": "code",
	   "execution_count": null,
	   "metadata": {
	    "collapsed": true
	   },
	   "outputs": [],
"source": [
"//Calculate the most economical current density and diameter of conductor\n",
"clear;\n",
"clc;\n",
"//soltion\n",
"//given\n",
"id=0.1;//interest & depreciation charges\n",
"cst=.02;//rs// cost of energy per unit\n",
"d=0.173;//ohm//resistance of conductor\n",
"pf=.8;//lagging\n",
"P=1500*10^3;//Watts//load\n",
"V=11000;//volts//supply voltage\n",
"t=200*8;//hours\n",
"printf('annual cost of 3 core feeder cable is Rs(8000 + 20000 a)per km\n');\n",
"printf('Resistance of each conductor= %.3f/a \n', d);\n",
"i=P/(sqrt(3)*V*pf);//ampere\n",
"printf('Current in each conductor= %.3f A\n', i);\n",
"P2=20000*id;//energy lost per annum\n",
"printf('Capital cost= P2*a= %d*a \n', P2);\n",
"P3=(3*i^2*d*t*cst)/1000;//kWh//annual cost of energy loss\n",
"printf('Energy loss per annum= P3/a= %f/a \n',P3);\n",
"a=sqrt(P3/P2);\n",
"printf('Economic cross section of conductor is= √(P3/P2)= %f square cm \n',a);\n",
"printf('Diameter of conductor= %.1f cm \n', sqrt(4*a/%pi));\n",
"printf('Current density= %f A/cm square', i/a);"
   ]
   }
,
{
		   "cell_type": "markdown",
		   "metadata": {},
		   "source": [
			"## Example 2.4: Calculate_the_most_economical_cross_sectional_area.sce"
		   ]
		  },
  {
"cell_type": "code",
	   "execution_count": null,
	   "metadata": {
	    "collapsed": true
	   },
	   "outputs": [],
"source": [
"//Calculate the most economical cross sectional area\n",
"clear;\n",
"clc;\n",
"//soltion\n",
"//given\n",
"id=0.1;//interest & depreciation charges\n",
"pf=.8;//lagging\n",
"P=10^6;//Watts//load\n",
"V=11000;//volts//supply voltage\n",
"cst=.15;//rs// cost of energy per unit\n",
"d=1.75*10^-6;//ohm cm//specific resistance\n",
"l=1000//m//length of the cable\n",
"t=3000;//hours\n",
"printf('Annual cost of 2 core feeder cable is Rs(30 + 500a)per meter\n');\n",
"R=(d*1000*100);//ohm//resistance of conductor\n",
"printf('Resistance of each conductor= %f/a \n', R);\n",
"i=P/(V*pf);//ampere\n",
"printf('Current in each conductor= %f A\n', i);\n",
"P2=500*10^3*id;//energy lost per annum\n",
"printf('Capital cost= P2*a= %d*a \n', P2);\n",
"P3=(2*i^2*R*t*cst)/1000;//kWh//annual cost of energy loss\n",
"printf('Energy loss per annum= P3/a= %f/a \n',P3);\n",
"a=sqrt(P3/P2);\n",
"printf('Economic cross section of conductor is= √(P3/P2)= %f square cm \n',a);\n",
"printf('Diameter of conductor= %f cm \n', sqrt(4*a/%pi));"
   ]
   }
,
{
		   "cell_type": "markdown",
		   "metadata": {},
		   "source": [
			"## Example 2.5: Calculate_the_most_economical_cross_sectional_area.sce"
		   ]
		  },
  {
"cell_type": "code",
	   "execution_count": null,
	   "metadata": {
	    "collapsed": true
	   },
	   "outputs": [],
"source": [
"\n",
"//Calculate the most economical cross sectional area\n",
"clear;\n",
"clc;\n",
"//soltion\n",
"//given\n",
"id=0.1;//interest & depreciation charges\n",
"pf=.85;//lagging\n",
"Pm=10^3;//Watts//Max Demand\n",
"Pt=5*10^6//kWh//Toatal energy consumption\n",
"V=11000;//volts//supply voltage\n",
"cst=.05;//rs// cost of energy per unit\n",
"d=1.72*10^-6;//ohm cm//specific resistance\n",
"t=(365*24);//time of energy loss\n",
"printf('Annual cost of cable is Rs(80000a + 20000)per km\n');\n",
"lf=Pt/(Pm*t)//Annual load factor\n",
"printf('Annual load factor= %f\n', lf);\n",
"llf=.25*lf+.75*lf^2;//Loss load factor\n",
"printf('Loss load factor= %f\n',llf);\n",
"i=Pm*1000/(sqrt(3)*V*pf);//ampere\n",
"printf('Current in each conductor= %.1f A\n', i);\n",
"P2=80000*id;//energy lost per annum\n",
"printf('Capital cost= P2*a= %d*a*l \n', P2);\n",
"R=d*100*1000;//ohm\n",
"P3=(3*i^2*R*t*cst*llf)/1000;//kWh//annual cost of energy loss\n",
"printf('Energy loss per annum= (P3*l)/a= (%f*l)/a \n',P3);\n",
"a=sqrt(P3/P2);\n",
"printf('Economic cross section of conductor is= √(P3/P2)= %f square cm \n',a);\n",
"//THERE IS TYPOGRAPHICAL ERROR IN THE ANS IN BOOK IT IS 0.2404 cm^2"
   ]
   }
,
{
		   "cell_type": "markdown",
		   "metadata": {},
		   "source": [
			"## Example 2.6: Calculate_the_most_economical_cross_sectional_area.sce"
		   ]
		  },
  {
"cell_type": "code",
	   "execution_count": null,
	   "metadata": {
	    "collapsed": true
	   },
	   "outputs": [],
"source": [
"//Calculate the most economical cross sectional area\n",
"clear;\n",
"clc;\n",
"//soltion\n",
"//given\n",
"id=0.1;//interest & depreciation charges\n",
"V=20000;//volts//supply voltage\n",
"d=1.72*10^-6;//ohm cm//specific resistance\n",
"cst=.6;//rs// cost of energy per unit\n",
"p1=1500//kilowatts\n",
"t1=8//hours\n",
"pf1=.8//power factor\n",
"p2=1000//kilowatts\n",
"t2=10//hours\n",
"pf2=.9//power factor\n",
"p3=100//kilowatts\n",
"t3=6//hours\n",
"pf3=1//power factor\n",
"t=365//no. of days\n",
"i1=p1*1000/(sqrt(3)*V*pf1);//ampere//current at time t1\n",
"i2=p2*1000/(sqrt(3)*V*pf2);//ampere//current at time t2\n",
"i3=p3*1000/(sqrt(3)*V*pf3);//ampere//current at time t3\n",
"R=d*100*1000;//ohm\n",
"P2=8000*id;//Loss load factor\n",
"printf('Annual cost of cable is Rs(80000a + 20000)per km\n');\n",
"printf('Capital cost= P2*a= %d*a*l \n', P2);\n",
"P3=(3*((i1^2*t1)+(i2^2*t2)+(i3^2*t3))*R*t*cst)/1000;//kWh//annual cost of energy loss\n",
"printf('Energy loss per annum= (P3*l)/a= (%f*l)/a \n',P3);\n",
"a=sqrt(P3/P2);\n",
"printf('Economic cross section of conductor is= √(P3/P2)= %f square cm \n',a);"
   ]
   }
],
"metadata": {
		  "kernelspec": {
		   "display_name": "Scilab",
		   "language": "scilab",
		   "name": "scilab"
		  },
		  "language_info": {
		   "file_extension": ".sce",
		   "help_links": [
			{
			 "text": "MetaKernel Magics",
			 "url": "https://github.com/calysto/metakernel/blob/master/metakernel/magics/README.md"
			}
		   ],
		   "mimetype": "text/x-octave",
		   "name": "scilab",
		   "version": "0.7.1"
		  }
		 },
		 "nbformat": 4,
		 "nbformat_minor": 0
}
