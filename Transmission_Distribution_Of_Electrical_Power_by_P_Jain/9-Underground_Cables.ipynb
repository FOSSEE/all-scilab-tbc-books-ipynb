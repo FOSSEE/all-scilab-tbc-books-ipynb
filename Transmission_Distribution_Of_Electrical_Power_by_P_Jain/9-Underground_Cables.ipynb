{
"cells": [
 {
		   "cell_type": "markdown",
	   "metadata": {},
	   "source": [
       "# Chapter 9: Underground Cables"
	   ]
	},
{
		   "cell_type": "markdown",
		   "metadata": {},
		   "source": [
			"## Example 9.10: find_the_voltage_on_the_intersheaths.sce"
		   ]
		  },
  {
"cell_type": "code",
	   "execution_count": null,
	   "metadata": {
	    "collapsed": true
	   },
	   "outputs": [],
"source": [
"//find the voltage on the intersheaths\n",
"clear;\n",
"clc;\n",
"//soltion\n",
"//given\n",
"d=2.5;//cm\n",
"d1=3.1;//cm\n",
"d2=4.2;//cm\n",
"D=6;//cm\n",
"V=66*sqrt(2/3);//kV\n",
"V1=poly(0,'V1');\n",
"V2=poly(0,'V2');\n",
"V3=poly(0,'V3');\n",
"g1max=V1/((d/2)*log(d1/d));//kV/cm\n",
"g2max=V2/((d1/2)*log(d2/d1));//kV/cm\n",
"g3max=V3/((d2/2)*log(D/d2));//kV/cm\n",
"V2=g1max/2.1244605;\n",
"V3=g1max/1.3350825;\n",
"V1=roots(V1+V2+V3-V);\n",
"V2=V1*1.7542;//after solving g1max=g2max\n",
"V3=V1*2.7857;//after solving g1max=g3max\n",
"Vf=V-V1;\n",
"Vs=V-V1-V2;\n",
"printf('Voltage on first intersheath(i.e. near to the core) = %.3f kV\n',Vf);\n",
"printf('Voltage on second intersheath= %.3f kV',Vs);\n",
"//THERE IS A SLIGHT ERROR DUE TO THE USAGE OF FLOATING POINT\n",
"//IN BOOK Vf=44.237 kV & Vs= 27.147kV"
   ]
   }
,
{
		   "cell_type": "markdown",
		   "metadata": {},
		   "source": [
			"## Example 9.11: find_the_position_and_voltage_on_the_intersheaths_and_max_and_min_stress.sce"
		   ]
		  },
  {
"cell_type": "code",
	   "execution_count": null,
	   "metadata": {
	    "collapsed": true
	   },
	   "outputs": [],
"source": [
"//find the position and voltage on the intersheaths and max and min stress\n",
"clear;\n",
"clc;\n",
"//soltion\n",
"//given\n",
"d=2;//cm\n",
"D=5.3;//cm\n",
"V=66*sqrt(2/3);//kV\n",
"V1=poly(0,'V1');\n",
"V2=poly(0,'V2');\n",
"V3=poly(0,'V3');\n",
"d1=poly(0,'d1')\n",
"d1d2=D*d;//d1*d2\n",
"d2=(d1^2)/2;\n",
"printf('d2= ');\n",
"disp(d2);\n",
"d1=(2*d1d2)^(1/3);//after putting value of d2 in d1*d2\n",
"d2=(d1^2)/2;\n",
"printf('d1= %.3f cm \nd2= %.1f cm \n',d1,d2);\n",
"V2=(d1/d)*V1;\n",
"V3=(d2/d)*V1;\n",
"V1=roots(V1+V2+V3-V);\n",
"V2=(d1/d)*V1;\n",
"V3=(d2/d)*V1;\n",
"Vf=V-V1;\n",
"Vs=V-V1-V2;\n",
"printf('Voltage on first intersheath(i.e. near to the core) = %.3f kV\n',Vf);\n",
"printf('Voltage on second intersheath= %.f kV\n',Vs);\n",
"Gmax=V1/((d/2)*log(d1/d));\n",
"Gmin=V1/((d1/2)*log(d1/d));\n",
"printf('Maximum stress= %.f kV/cm \nMinimum stress= %.2f kV/cm',Gmax,Gmin);\n",
"//There is an error in in book it is Voltage on second intersheath= 23.91 kV & Gmax and Gmin in book it is 39kV/cm & Gmin= 28.35 kV/cm"
   ]
   }
,
{
		   "cell_type": "markdown",
		   "metadata": {},
		   "source": [
			"## Example 9.12: Calculate_the_charging_current.sce"
		   ]
		  },
  {
"cell_type": "code",
	   "execution_count": null,
	   "metadata": {
	    "collapsed": true
	   },
	   "outputs": [],
"source": [
"//Calculate the charging current\n",
"clear;\n",
"clc;\n",
"//soltion\n",
"//given\n",
"C3=(0.4*10^-6)*5;//farad\n",
"Vph=11*10^3/sqrt(3);\n",
"f=50;//Hz\n",
"Cn=2*C3;\n",
"Ic=2*%pi*f*Vph*Cn;\n",
"printf('Charging current= %.2f A',Ic)"
   ]
   }
,
{
		   "cell_type": "markdown",
		   "metadata": {},
		   "source": [
			"## Example 9.13: Calculate_the_kVA_take.sce"
		   ]
		  },
  {
"cell_type": "code",
	   "execution_count": null,
	   "metadata": {
	    "collapsed": true
	   },
	   "outputs": [],
"source": [
"//Calculate the kVA taken\n",
"clear;\n",
"clc;\n",
"//soltion\n",
"//given\n",
"C3=(0.2*10^-6)*20;//farad\n",
"Vph=11*10^3/sqrt(3);\n",
"f=50;//Hz\n",
"Cn=2*C3;\n",
"Ic=2*%pi*f*Vph*Cn;\n",
"printf('Charging current= %.2f A\n',Ic)\n",
"kVA=3*Vph*Ic*10^-3;\n",
"printf('kVA taken by the cable= %.2f kVA',kVA);\n",
"//IN BOOK IT IS 24.75 kVA DUE TO SOME PRINTING MISTAKE"
   ]
   }
,
{
		   "cell_type": "markdown",
		   "metadata": {},
		   "source": [
			"## Example 9.14: Calculate_the_charging_current.sce"
		   ]
		  },
  {
"cell_type": "code",
	   "execution_count": null,
	   "metadata": {
	    "collapsed": true
	   },
	   "outputs": [],
"source": [
"//Calculate the charging current\n",
"clear;\n",
"clc;\n",
"//soltion\n",
"//given\n",
"C1=14*10^-6;//farad\n",
"C2=8*10^-6;//farad\n",
"Ce=C1/3;\n",
"Cc=(C2-Ce)/2;\n",
"Vph=66*10^3/sqrt(3);\n",
"f=50;//Hz\n",
"Cn=Ce+3*Cc;\n",
"Ic=2*%pi*f*Vph*Cn;\n",
"printf('Charging current= %.2f A',Ic);\n",
"//In book it is 115.82 A due to some printing mistake "
   ]
   }
,
{
		   "cell_type": "markdown",
		   "metadata": {},
		   "source": [
			"## Example 9.1: Determine_insulation_resistance.sce"
		   ]
		  },
  {
"cell_type": "code",
	   "execution_count": null,
	   "metadata": {
	    "collapsed": true
	   },
	   "outputs": [],
"source": [
"//Determine insulation resistance\n",
"clear;\n",
"clc;\n",
"//soltion\n",
"//given\n",
"row=4*10^12;//ohm m\n",
"l=3*10^3;//m\n",
"r1=12.5;//mm\n",
"r2=12.5+5;//mm\n",
"Rins=row*log(r2/r1)/(2*%pi*l);\n",
"printf('Insulation resistance (Rins)= %.1f M ohm',Rins/10^6);"
   ]
   }
,
{
		   "cell_type": "markdown",
		   "metadata": {},
		   "source": [
			"## Example 9.2: Determine_resistivity_of_dielectric_in_a_cable.sce"
		   ]
		  },
  {
"cell_type": "code",
	   "execution_count": null,
	   "metadata": {
	    "collapsed": true
	   },
	   "outputs": [],
"source": [
"//Determine resistivity of dielectric in a cable\n",
"clear;\n",
"clc;\n",
"//soltion\n",
"//given\n",
"Rins=1840*10^6;//ohm\n",
"l=2*10^3;//m\n",
"r1=2/2;//mm\n",
"r2=6/2;//mm\n",
"row=Rins*(2*%pi*l)/log(r2/r1);\n",
"printf('Resistivity of Dielectric= %.3f*10^12 ohm-m',row/10^12);"
   ]
   }
,
{
		   "cell_type": "markdown",
		   "metadata": {},
		   "source": [
			"## Example 9.3: Find_max_and_min_electrostatic_stresses_and_capacitance_and_charging_current.sce"
		   ]
		  },
  {
"cell_type": "code",
	   "execution_count": null,
	   "metadata": {
	    "collapsed": true
	   },
	   "outputs": [],
"source": [
"//Find max and min electrostatic stresses and capacitance and charging current\n",
"clear;\n",
"clc;\n",
"//soltion\n",
"//given\n",
"a=0.645;//cm^2\n",
"d=sqrt(4*a/%pi)*0.01;//m//Diameter of conductor\n",
"V=11000;//Volts\n",
"f=50;//Hz\n",
"Er=3.5;//permitivity of the dielectric used\n",
"D=0.0218;//m//Internal diameter of sheath\n",
"gmax=2*V/(d*log(D/d))/10^5;\n",
"printf('Maximum electrostatic stresses= %.2f kV/cm\n',gmax);\n",
"gmin=2*V/(D*log(D/d))/10^5;\n",
"printf('Minimum electrostatic stresses= %.1f kV/cm\n',gmin);\n",
"C=0.024*Er*10^-6/(log10(D/d));\n",
"printf('Capacitance of cable= %.2f*10^-6 farad\n',C*10^6);\n",
"Ic=2*%pi*f*C*V/sqrt(3);\n",
"printf('Charging current per phase per km length= %.2f A ',Ic);"
   ]
   }
,
{
		   "cell_type": "markdown",
		   "metadata": {},
		   "source": [
			"## Example 9.4: Find_max_electrostatic_stresses_and_charging_kVA.sce"
		   ]
		  },
  {
"cell_type": "code",
	   "execution_count": null,
	   "metadata": {
	    "collapsed": true
	   },
	   "outputs": [],
"source": [
"//Find max electrostatic stresses and charging kVA\n",
"clear;\n",
"clc;\n",
"//soltion\n",
"//given\n",
"r=0.6;//cm\n",
"d=0.025;//m//Diameter of conductor\n",
"V=33000;//Volts\n",
"f=50;//Hz\n",
"l=3.4;//km\n",
"Er=3.1;//permitivity of the dielectric used\n",
"D=d+2*r*10^-2;//m//Internal diameter of sheath\n",
"gmax=2*V/(d*log(D/d));\n",
"printf('Maximum electrostatic stresses= %.1f*10^6 V/m\n',gmax/10^6);\n",
"C=0.024*Er*l*10^-6/(log10(D/d));\n",
"printf('Capacitance of cable= %.4f*10^-6 farad\n',C*10^6);\n",
"Ic=2*%pi*f*C*(V/sqrt(3));\n",
"printf('Charging current per phase per km length= %.2f A\n',Ic);\n",
"kVA=sqrt(3)*V*Ic*10^-3;\n",
"printf('Total Charging= %.2f kVAR',kVA);\n",
"//THERE ARE SOME CALCULATION ERRORS IN THE BOOK BECAUSE OF WHICH Ic=0.3078 A AND TOTAL CHARGING CURRENT= 17.57kVAR"
   ]
   }
,
{
		   "cell_type": "markdown",
		   "metadata": {},
		   "source": [
			"## Example 9.5: Determine_internal_diameter_of_shealth_D_and_diameter_of_conductor_d.sce"
		   ]
		  },
  {
"cell_type": "code",
	   "execution_count": null,
	   "metadata": {
	    "collapsed": true
	   },
	   "outputs": [],
"source": [
"//Determine internal diameter of shealth D and diameter of conductor d\n",
"clear;\n",
"clc;\n",
"//soltion\n",
"//given\n",
"gmax=23*10^5;//V/cm\n",
"V=10000;//Volts\n",
"d=2*V/gmax;\n",
"D=exp(1)*d*1000;\n",
"printf('Diameter of conductor(d)= %.1f mm \nInternal diameter of shealth (D)= %.2f mm',d*1000,D);"
   ]
   }
,
{
		   "cell_type": "markdown",
		   "metadata": {},
		   "source": [
			"## Example 9.6: Determine_most_economical_value_of_diameter_and_overall_diameter_of_insulation.sce"
		   ]
		  },
  {
"cell_type": "code",
	   "execution_count": null,
	   "metadata": {
	    "collapsed": true
	   },
	   "outputs": [],
"source": [
"//Determine most economical value of diameter and overall diameter of insulation\n",
"clear;\n",
"clc;\n",
"//soltion\n",
"//given\n",
"gmax=60;//kV/cm\n",
"V=132*sqrt(2)/sqrt(3);//kV\n",
"d=2*V/gmax;\n",
"D=exp(1)*d;\n",
"printf('Diameter of conductor(d)= %.1f cm \nInternal diameter of shelath= %.2f cm',d,D);"
   ]
   }
,
{
		   "cell_type": "markdown",
		   "metadata": {},
		   "source": [
			"## Example 9.7: Determine_most_economical_value_of_diameter_of_single_core_cable.sce"
		   ]
		  },
  {
"cell_type": "code",
	   "execution_count": null,
	   "metadata": {
	    "collapsed": true
	   },
	   "outputs": [],
"source": [
"//Determine most economical value of diameter of single core cable\n",
"clear;\n",
"clc;\n",
"//soltion\n",
"//given\n",
"gmax=40;//kV/cm\n",
"V=50*sqrt(2);//kV\n",
"d=2*V/gmax;\n",
"printf('Diameter of conductor(d)= %.3f cm',d); "
   ]
   }
,
{
		   "cell_type": "markdown",
		   "metadata": {},
		   "source": [
			"## Example 9.8: find_safe_working_voltage_of_cable.sce"
		   ]
		  },
  {
"cell_type": "code",
	   "execution_count": null,
	   "metadata": {
	    "collapsed": true
	   },
	   "outputs": [],
"source": [
"//find safe working voltage of cable\n",
"clear;\n",
"clc;\n",
"//soltion\n",
"//given\n",
"d=4;//cm\n",
"D=10;//cm\n",
"e1=5;//realtive permeabilty\n",
"e2=4;//realtive permeabilty\n",
"e3=3;//realtive permeabilty\n",
"d1=e1*d/e2;\n",
"d2=e1*d/e3;\n",
"gmax=40;//kV/cm\n",
"Vper=(gmax/2)*[d*log(d1/d)+d1*log(d2/d1)+d2*log(D/d2)];\n",
"Vsafe1=Vper/sqrt(2);\n",
"printf('Safe working voltage(rms) of a cable= %.2f kV\n',Vsafe1);\n",
"Vpeak=(gmax/2)*[d*log(D/d)];\n",
"Vsafe2=Vpeak/sqrt(2);\n",
"printf('Safe working voltage(rms) of the ungraded cable= %.2f kV',Vsafe2);"
   ]
   }
,
{
		   "cell_type": "markdown",
		   "metadata": {},
		   "source": [
			"## Example 9.9: find_radial_thickness_and_safe_working_voltage_of_cable.sce"
		   ]
		  },
  {
"cell_type": "code",
	   "execution_count": null,
	   "metadata": {
	    "collapsed": true
	   },
	   "outputs": [],
"source": [
"//find radial thickness and safe working voltage of cable\n",
"clear;\n",
"clc;\n",
"//soltion\n",
"//given\n",
"d=6;//cm\n",
"D=18;//cm\n",
"e1=5;//realtive permeabilty\n",
"e2=4;//realtive permeabilty\n",
"g1max=30;//kV/cm\n",
"g2max=20;//kV/cm\n",
"d1=g1max*e1*d/(g2max*e2);\n",
"tin=(d1-d)/2;\n",
"printf('Radial thickness of inner dielectric= %.3f cm \n',tin);\n",
"tout=(D-d1)/2;\n",
"printf('Radial thickness of outer dielectric= %.3f cm \n',tout);\n",
"Vper=(g1max/2)*[d*log(d1/d)]+(g2max/2)*(d1*log(D/d1));\n",
"Vsafe=Vper/sqrt(2);\n",
"printf('Safe working voltage for a cable(rms)= %.2f kV\n',Vsafe);"
   ]
   }
],
"metadata": {
		  "kernelspec": {
		   "display_name": "Scilab",
		   "language": "scilab",
		   "name": "scilab"
		  },
		  "language_info": {
		   "file_extension": ".sce",
		   "help_links": [
			{
			 "text": "MetaKernel Magics",
			 "url": "https://github.com/calysto/metakernel/blob/master/metakernel/magics/README.md"
			}
		   ],
		   "mimetype": "text/x-octave",
		   "name": "scilab",
		   "version": "0.7.1"
		  }
		 },
		 "nbformat": 4,
		 "nbformat_minor": 0
}
