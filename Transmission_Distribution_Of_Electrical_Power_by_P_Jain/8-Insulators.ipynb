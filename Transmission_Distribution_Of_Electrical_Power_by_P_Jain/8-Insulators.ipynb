{
"cells": [
 {
		   "cell_type": "markdown",
	   "metadata": {},
	   "source": [
       "# Chapter 8: Insulators"
	   ]
	},
{
		   "cell_type": "markdown",
		   "metadata": {},
		   "source": [
			"## Example 8.1: find_voltage_distribution_across_each_insulator_and_string_efficiency.sce"
		   ]
		  },
  {
"cell_type": "code",
	   "execution_count": null,
	   "metadata": {
	    "collapsed": true
	   },
	   "outputs": [],
"source": [
"//find voltage distribution across each insulator and string efficiency\n",
"clear;\n",
"clc;\n",
"//soltion\n",
"//given\n",
"k=1/6;//ratio\n",
"V=poly(0,'V');\n",
"V1=100/(k^3+6*k^2+10*k+4);\n",
"V2=(1+k)*V1;\n",
"V3=(1+3*k+k*k)*V1;\n",
"V4=(1+6*k+5*k^2+k^3)*V1;\n",
"printf('V1= %.2f percent of V\n V2= %.2f percent of V\n V3= %.2f percent of V\n V4= %.2f percent of V\n',V1,V2,V3,V4);\n",
"se=100*100/(4*V4);\n",
"printf('String efficiency= %.1f',se);"
   ]
   }
,
{
		   "cell_type": "markdown",
		   "metadata": {},
		   "source": [
			"## Example 8.2: find_max_safe_working_voltage_and_string_efficiency.sce"
		   ]
		  },
  {
"cell_type": "code",
	   "execution_count": null,
	   "metadata": {
	    "collapsed": true
	   },
	   "outputs": [],
"source": [
"//find max safe working voltage and string efficiency\n",
"clear;\n",
"clc;\n",
"//soltion\n",
"//given\n",
"k=0.08;//ratio\n",
"V3=15;\n",
"V1=V3/(1+3*k+k*k);\n",
"V2=V1*(1+k);\n",
"V=V1+V2+V3;\n",
"printf('Max and safe working voltage= %.2f kV\n',V);\n",
"Se=V*100/(3*V3);\n",
"printf('String efficiency %.2f percent',Se);"
   ]
   }
,
{
		   "cell_type": "markdown",
		   "metadata": {},
		   "source": [
			"## Example 8.3: EX8_3.sce"
		   ]
		  },
  {
"cell_type": "code",
	   "execution_count": null,
	   "metadata": {
	    "collapsed": true
	   },
	   "outputs": [],
"source": [
"//find ratio of ground to mutual capacitance, system line voltage and string efficiency\n",
"clear;\n",
"clc;\n",
"//soltion\n",
"//given\n",
"V2=20;//kV\n",
"V3=25;//kV\n",
"k=poly(0,'k');\n",
"k=roots(V2*(1+3*k+k*k)-V3*(1+k));\n",
"k=0.13;//Considering only positive part\n",
"V1=V2/(1+k);\n",
"V=V1+V2+V3;\n",
"Se=V*100/(3*V3);\n",
"printf('K =%.2f \nSystem line voltage(V)= %.3fkV \nString Efficiency= %.1f percent',k,V,Se);"
   ]
   }
,
{
		   "cell_type": "markdown",
		   "metadata": {},
		   "source": [
			"## Example 8.4: find_system_line_voltage_and_string_efficiency.sce"
		   ]
		  },
  {
"cell_type": "code",
	   "execution_count": null,
	   "metadata": {
	    "collapsed": true
	   },
	   "outputs": [],
"source": [
"//find system line voltage and string efficiency\n",
"clear;\n",
"clc;\n",
"//soltion\n",
"//given\n",
"V2=20;//kV\n",
"V3=30;//kV\n",
"k=poly(0,'k');\n",
"k=roots(V2*(1+3*k+k*k)-V3*(1+k));\n",
"k=0.28;//Considering only positive part\n",
"V1=V2/(1+k);\n",
"V4=V1*(1+6*k+5*k^2+k^3);\n",
"V=V1+V2+V3+V4;\n",
"Se=V*100/(4*V4);\n",
"printf('System line voltage(V)= %.3f kV \nString Efficiency= %.3f percent',sqrt(3)*V,Se);"
   ]
   }
,
{
		   "cell_type": "markdown",
		   "metadata": {},
		   "source": [
			"## Example 8.5: find_max_safe_working_voltage.sce"
		   ]
		  },
  {
"cell_type": "code",
	   "execution_count": null,
	   "metadata": {
	    "collapsed": true
	   },
	   "outputs": [],
"source": [
"//find max safe working voltage\n",
"clear;\n",
"clc;\n",
"//soltion\n",
"//given\n",
"V3=11;//kV\n",
"k=12.5/100;//shunt/self cpacitance\n",
"V=poly(0,'V');\n",
"V1=V/(3+4*k+k*k);\n",
"V3_=V1*(1+3*k+k*k);\n",
"V=roots(V3-V3_);\n",
"printf('Maximum Voltage for string= %.2fkV',V);"
   ]
   }
,
{
		   "cell_type": "markdown",
		   "metadata": {},
		   "source": [
			"## Example 8.7: Find_the_values_of_line_to_pin_capacitance.sce"
		   ]
		  },
  {
"cell_type": "code",
	   "execution_count": null,
	   "metadata": {
	    "collapsed": true
	   },
	   "outputs": [],
"source": [
"//Find the values of line to pin capacitance\n",
"clear;\n",
"clc;\n",
"//soltion\n",
"//given\n",
"n=5;\n",
"for p = 1:4\n",
"    C=p/(n-p);\n",
"    printf('C%d = %.3f*C\n',p,C);\n",
"end"
   ]
   }
,
{
		   "cell_type": "markdown",
		   "metadata": {},
		   "source": [
			"## Example 8.8: find_string_efficiency.sce"
		   ]
		  },
  {
"cell_type": "code",
	   "execution_count": null,
	   "metadata": {
	    "collapsed": true
	   },
	   "outputs": [],
"source": [
"//find string efficiency\n",
"clear;\n",
"clc;\n",
"//soltion\n",
"//given\n",
"V1=poly(0,'V1');\n",
"V2=poly(0,'V2');\n",
"V3=poly(0,'V3');\n",
"V=poly(0,'V');\n",
"//Since wC is common so its cancelled\n",
"function x=%c_sign(a)\n",
"            x = '1.05*V2/1.2' + a + '0.05*V3/1.2'\n",
"            endfunction\n",
"printf('V1=');\n",
"disp(sign('+'));\n",
"function x=%c_sin(a)\n",
"            x = '-1.2*V2/0.2' + a + '1.05*V3/0.2'\n",
"            endfunction\n",
"printf('\n\nV1=');\n",
"disp(sin('+'));\n",
"V2=25/23.25*V1;\n",
"V3=1.65/1.1625*V1;\n",
"printf('\n\nOn solving above equation\n\nV2= ');\n",
"disp(V2);\n",
"printf('V3=');\n",
"disp(V3);\n",
"V=V1+V2+V3;\n",
"V1=roots(1-V);//ignoring 'V' for making calculation easy\n",
"V2=25/23.25*V1*poly(0,'V');\n",
"V3=1.65/1.1625*V1;\n",
"Se=100/(3*V3);\n",
"printf('\n\nString Efficiency= %.1f percent',Se);"
   ]
   }
,
{
		   "cell_type": "markdown",
		   "metadata": {},
		   "source": [
			"## Example 8.9: Calculate_voltage_on_line_end_unit_and_capacitance_Cx_required.sce"
		   ]
		  },
  {
"cell_type": "code",
	   "execution_count": null,
	   "metadata": {
	    "collapsed": true
	   },
	   "outputs": [],
"source": [
"//Calculate voltage on line end unit and capacitance Cx required\n",
"clear;\n",
"clc;\n",
"//soltion\n",
"//given\n",
"V=20;//kV\n",
"Sc=0.2;//shunt capacitance\n",
"V2=poly(0,'V2');\n",
"V1=poly(0,'V1');\n",
"V2=V1+0.2*V1;\n",
"V3=V2;\n",
"v1=roots(V1+V2+V3-V);\n",
"V3=1.2*v1;\n",
"printf('Voltage on line end unit= V3= %.2f kV\n',V3);\n",
"Cx=poly(0,'Cx');\n",
"C=poly(0,'C');\n",
"printf('For Cx \nC*1.2*V1 + Cx*1.2*V1 = C*1.2*V1 + C*2.2V1/5\n');\n",
"C_=roots(Cx*1.2-2.2/5);//after simplifying the eqution\n",
"Cx=C_*C;\n",
"printf('Cx=');\n",
"disp(Cx);\n",
"printf('Farads')"
   ]
   }
],
"metadata": {
		  "kernelspec": {
		   "display_name": "Scilab",
		   "language": "scilab",
		   "name": "scilab"
		  },
		  "language_info": {
		   "file_extension": ".sce",
		   "help_links": [
			{
			 "text": "MetaKernel Magics",
			 "url": "https://github.com/calysto/metakernel/blob/master/metakernel/magics/README.md"
			}
		   ],
		   "mimetype": "text/x-octave",
		   "name": "scilab",
		   "version": "0.7.1"
		  }
		 },
		 "nbformat": 4,
		 "nbformat_minor": 0
}
