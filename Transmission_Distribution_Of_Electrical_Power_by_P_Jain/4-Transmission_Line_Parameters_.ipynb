{
"cells": [
 {
		   "cell_type": "markdown",
	   "metadata": {},
	   "source": [
       "# Chapter 4: Transmission Line Parameters "
	   ]
	},
{
		   "cell_type": "markdown",
		   "metadata": {},
		   "source": [
			"## Example 4.10: Find_the_loop_inductance_per_phase.sce"
		   ]
		  },
  {
"cell_type": "code",
	   "execution_count": null,
	   "metadata": {
	    "collapsed": true
	   },
	   "outputs": [],
"source": [
"//Find the loop inductance per phase\n",
"clear;\n",
"clc;\n",
"//soltion\n",
"//given\n",
"r=20;//mm//radius of the conductor\n",
"re=r*exp(-1/4);\n",
"d=7000;//mm//spacing\n",
"L=0.1*log((sqrt(3))*d/(2*re));\n",
"printf('Inductance per km(L)=%.4f mH\n',L);\n",
""
   ]
   }
,
{
		   "cell_type": "markdown",
		   "metadata": {},
		   "source": [
			"## Example 4.11: Find_the_inductance_of_an_ASCR_3_phase_line.sce"
		   ]
		  },
  {
"cell_type": "code",
	   "execution_count": null,
	   "metadata": {
	    "collapsed": true
	   },
	   "outputs": [],
"source": [
"//Find the inductance of an ASCR 3 phase line\n",
"clear;\n",
"clc;\n",
"//soltion\n",
"//given\n",
"r=5/2;//mm//radius of the conductor\n",
"re=r*2.177*10^-3;//m\n",
"dx=6;//m//spacing in X direction\n",
"dy=8;//m//spacing in Y direction\n",
"daa_=sqrt(dx^2+(2*dy)^2);\n",
"dbb_=6;\n",
"dcc_=daa_;\n",
"dab=8;\n",
"dab_=sqrt(dx^2+dy^2);\n",
"dbc=8;\n",
"dbc_=sqrt(dx^2+dy^2);\n",
"dca_=6;\n",
"dca=16;\n",
"Dsa=sqrt(re*daa_);\n",
"Dsb=sqrt(re*dbb_);\n",
"Dsc=sqrt(re*dcc_);\n",
"Ds=(Dsa*Dsb*Dsc)^(1/3);\n",
"printf('Self GMD or GMR, Ds= %.4fm\n',Ds);\n",
"Dab=sqrt(dab*dab_);\n",
"Dbc=sqrt(dbc*dbc_);\n",
"Dca=sqrt(dca*dca_);\n",
"Dm=(Dab*Dbc*Dca)^(1/3);\n",
"printf('GMD, Dm= %.2fm\n',Dm);\n",
"L=0.2*log(Dm/Ds);\n",
"printf('Inductance of 100 km line (L)=%.4f H\n',L*0.1);\n",
"L_=0.1*log((2^(1/3))*(dy/re)*((dx^2+dy^2)/(4*dy^2+dx^2))^(1/3));\n",
"printf('Inductance(By another method) per phase per km(L)=%.4f H\n',L_*.1);"
   ]
   }
,
{
		   "cell_type": "markdown",
		   "metadata": {},
		   "source": [
			"## Example 4.12: Find_inductive_reactance_of_3_phase_bundled_conductor.sce"
		   ]
		  },
  {
"cell_type": "code",
	   "execution_count": null,
	   "metadata": {
	    "collapsed": true
	   },
	   "outputs": [],
"source": [
"//Find inductive reactance of 3 phase bundled conductor\n",
"clear;\n",
"clc;\n",
"//soltion\n",
"//given\n",
"r=1.75*10^-2;//m//radius of the conductor\n",
"re=r*exp(-1/4);\n",
"d=7;//spacing\n",
"S=0.4;//spacing between subconductors\n",
"Ds=sqrt(re*S);//GMR\n",
"dab=7;\n",
"dab_=7.4;\n",
"da_b=6.6;\n",
"da_b_=7;\n",
"Dab=(dab*dab_*da_b*da_b_)^.25;\n",
"Dbc=Dab;\n",
"dca=14;\n",
"dca_=13.6;\n",
"dc_a=14.4;\n",
"dc_a_=14;\n",
"Dca=(dca*dca_*dc_a*dc_a_)^.25;\n",
"Dm=(Dab*Dca*Dbc)^(1/3);//GMD\n",
"L=0.2*log(Dm/Ds);\n",
"printf('Inductance(L)=%.4f mH/km\n',L);\n",
"Xl=2*%pi*50*L*10^-3;\n",
"printf('Inductive reactance= %.1f Ω/km\n',Xl);\n",
"r1=sqrt(2*((r*10^2)^2));\n",
"re1=r1*exp(-1/4);\n",
"Dab1=7;\n",
"Dbc1=7;\n",
"Dca1=14;\n",
"Dm1=(Dab1*Dbc1*Dca1)^(1/3);//GMD of single conductor line\n",
"L1=0.2*log(Dm1/(re1*10^-2));\n",
"printf('Inductance(L)=%.3f mH/km\n',L1);\n",
"Xl1=2*%pi*50*L1*10^-3;\n",
"printf('Inductive reactance= %.3f Ω/km',Xl1);"
   ]
   }
,
{
		   "cell_type": "markdown",
		   "metadata": {},
		   "source": [
			"## Example 4.13: Find_the_capacitance_of_1_phase_line.sce"
		   ]
		  },
  {
"cell_type": "code",
	   "execution_count": null,
	   "metadata": {
	    "collapsed": true
	   },
	   "outputs": [],
"source": [
"//Find the capacitance of 1 phase line\n",
"clear;\n",
"clc;\n",
"//soltion\n",
"//given\n",
"r=15/2;//mm//radius of the conductor\n",
"d=1500;//mm//spacing\n",
"L=30000;//m//length of the line\n",
"Eo=8.85*10^-12//permitivity of the air\n",
"C=%pi*Eo*L/(log(d/r));\n",
"C_=C*10^6;\n",
"printf('Capacitance of 30km line= %f µF',C_);"
   ]
   }
,
{
		   "cell_type": "markdown",
		   "metadata": {},
		   "source": [
			"## Example 4.14: Find_the_capacitance_of_2_wire_1_phase_line.sce"
		   ]
		  },
  {
"cell_type": "code",
	   "execution_count": null,
	   "metadata": {
	    "collapsed": true
	   },
	   "outputs": [],
"source": [
"//Find the capacitance of 2 wire 1 phase line\n",
"clear;\n",
"clc;\n",
"//soltion\n",
"//given\n",
"r=0.25;//cm//radius of the conductor\n",
"d=150;//cm//spacing\n",
"L=50000;//m//length of the line\n",
"h=700//cm//height of conductor above earth\n",
"Eo=8.854*10^-12//permitivity of the air\n",
"C=%pi*Eo*L/(log(120/(sqrt(1+(d^2/(2*h)^2))*r)));\n",
"C_=C*10^6;\n",
"printf('Capacitance of 50km line= %.3fµF',C_);"
   ]
   }
,
{
		   "cell_type": "markdown",
		   "metadata": {},
		   "source": [
			"## Example 4.15: Find_the_capacitance_of_3_phase_line.sce"
		   ]
		  },
  {
"cell_type": "code",
	   "execution_count": null,
	   "metadata": {
	    "collapsed": true
	   },
	   "outputs": [],
"source": [
"//Find the capacitance of 3 phase line\n",
"clear;\n",
"clc;\n",
"//soltion\n",
"//given\n",
"r=1;//cm//radius of the conductor\n",
"d=250;//cm//spacing\n",
"L=100000;//m//length of the line\n",
"Eo=8.854*10^-12//permitivity of the air\n",
"C=2*%pi*Eo*L/(log(d/r));\n",
"C_=C*10^6;\n",
"printf('Capacitance of 100km line= %.4fµF',C_);"
   ]
   }
,
{
		   "cell_type": "markdown",
		   "metadata": {},
		   "source": [
			"## Example 4.16: Find_the_capacitance_of_3_phase_3_wire_line.sce"
		   ]
		  },
  {
"cell_type": "code",
	   "execution_count": null,
	   "metadata": {
	    "collapsed": true
	   },
	   "outputs": [],
"source": [
"//Find the capacitance of 3 phase 3 wire line\n",
"clear;\n",
"clc;\n",
"//soltion\n",
"//given\n",
"r=0.01;//m//radius of the conductor\n",
"d1=3.5;//m//spacing\n",
"d2=5;//m//spacing\n",
"d3=8;//m//spacing\n",
"L=1000;//m//length of the line\n",
"Eo=8.854*10^-12//permitivity of the air\n",
"de=(d1*d2*d3)^(1/3)\n",
"C=2*%pi*Eo*L/(log(de/r));\n",
"C_=C*10^6;\n",
"printf('Capacitance of line= %.4f µF',C_);"
   ]
   }
,
{
		   "cell_type": "markdown",
		   "metadata": {},
		   "source": [
			"## Example 4.17: Find_the_capacitance_and_charging_current.sce"
		   ]
		  },
  {
"cell_type": "code",
	   "execution_count": null,
	   "metadata": {
	    "collapsed": true
	   },
	   "outputs": [],
"source": [
"//Find the capacitance and charging current\n",
"clear;\n",
"clc;\n",
"//soltion\n",
"//given\n",
"f=50;//frequency\n",
"Vph=220*1000/sqrt(3);//phase voltage\n",
"r=0.01;//m//radius of the conductor\n",
"d1=3;//m//spacing\n",
"d2=3;//m//spacing\n",
"d3=6;//m//spacing\n",
"L=1000;//m//length of the line\n",
"Eo=8.854*10^-12//permitivity of the air\n",
"de=(d1*d2*d3)^(1/3)\n",
"C=2*%pi*Eo*L/(log(de/r));\n",
"C_=C*10^9;\n",
"printf('Capacitance of line= %.4f*10^-12F\n',C_);\n",
"Ic=2*%pi*f*C*Vph;\n",
"printf('Charging current per phase is= %.3fmA',Ic);"
   ]
   }
,
{
		   "cell_type": "markdown",
		   "metadata": {},
		   "source": [
			"## Example 4.18: find_capacitive_reactance_to_neutral_and_charging_current.sce"
		   ]
		  },
  {
"cell_type": "code",
	   "execution_count": null,
	   "metadata": {
	    "collapsed": true
	   },
	   "outputs": [],
"source": [
"//find capacitive reactance to neutral and charging current\n",
"clear;\n",
"clc;\n",
"//soltion\n",
"//given\n",
"r=1.25*10^-2;//m//radius of the conductor\n",
"f=50//frequency\n",
"Vph=132*1000/sqrt(3);//phase voltage\n",
"Eo=8.85*10^-12//permitivity of the air\n",
"drr_=sqrt(7^2+(4+4)^2);\n",
"dbb_=drr_;\n",
"dyy_=9;\n",
"Dsr=sqrt(r*drr_);\n",
"Dsy=sqrt(r*dyy_);\n",
"Dsb=sqrt(r*dbb_);\n",
"Ds=(Dsr*Dsy*Dsb)^(1/3);\n",
"dry=sqrt(4^2+(4.5-3.5)^2);\n",
"dry_=sqrt((9-1)^2+4^2);\n",
"Dry=sqrt(dry*dry_);\n",
"Dyb=Dry;\n",
"Dbr=sqrt(8*7);\n",
"Dm=(Dyb*Dbr*Dry)^(1/3);\n",
"C=2*%pi*Eo/(log(Dm/Ds));\n",
"printf('Capacitance per phase= %.2f*10^-9 F/km\n',C*10^12);\n",
"Cr=1/(2*%pi*f*C*1000);\n",
"printf('Capacitance per phase= %.2f kΩ\n',Cr/1000);\n",
"Ic=(2*%pi*f*C*1000)*Vph;\n",
"printf('Charging current= %.4f A/km',Ic);"
   ]
   }
,
{
		   "cell_type": "markdown",
		   "metadata": {},
		   "source": [
			"## Example 4.19: Calculate_the_capacitance_per_phase.sce"
		   ]
		  },
  {
"cell_type": "code",
	   "execution_count": null,
	   "metadata": {
	    "collapsed": true
	   },
	   "outputs": [],
"source": [
"//Calculate the capacitance per phase\n",
"clear;\n",
"clc;\n",
"//soltion\n",
"//given\n",
"Eo=8.85*10^-12//permitivity of the air\n",
"Vph=132*1000/sqrt(3);//phase voltage\n",
"d1=8;//m//distances\n",
"d2=6;//m\n",
"r=3*2.5*10^-3;//m//radius of conductor in m\n",
"C=4*%pi*Eo/log((2^(1/3))*(d1/r)*((d2^2+d1^2)/(4*d1^2+d2^2))^(1/3));\n",
"C_=C*100*1000;\n",
"printf('Capacitance of 100 km line= %.3fμf',C_*10^6);"
   ]
   }
,
{
		   "cell_type": "markdown",
		   "metadata": {},
		   "source": [
			"## Example 4.1: Find_the_loop_inductance_and_reactance.sce"
		   ]
		  },
  {
"cell_type": "code",
	   "execution_count": null,
	   "metadata": {
	    "collapsed": true
	   },
	   "outputs": [],
"source": [
"//Find the loop inductance and reactance\n",
"clear;\n",
"clc;\n",
"//soltion\n",
"//given\n",
"r=(1.213*10^-2)/2;//m//radius of the conductor\n",
"d=1.25;//m//spacing\n",
"f=50;//Hz//freq\n",
"re=r*exp(-1/4);\n",
"L=4*10^-7*log(d/re);\n",
"Lkm=L*1000;\n",
"printf('Inductance per km(L)=%.2f*10^-4 H/Km\n',Lkm*10^4);\n",
"X=2*%pi*f*Lkm;\n",
"printf('Reactance(X)= %.1f ohm/km',X);"
   ]
   }
,
{
		   "cell_type": "markdown",
		   "metadata": {},
		   "source": [
			"## Example 4.2: Find_the_loop_inductance.sce"
		   ]
		  },
  {
"cell_type": "code",
	   "execution_count": null,
	   "metadata": {
	    "collapsed": true
	   },
	   "outputs": [],
"source": [
"//Find the loop inductance\n",
"clear;\n",
"clc;\n",
"//soltion\n",
"//given\n",
"r=(1*10^-2)/2;//m//radius of the conductor\n",
"d=2;//m//spacing\n",
"u=50//relative permeability of steel and copper\n",
"L=(1+4*log(d/r))*10^-7*1000;\n",
"LmH=L*1000;\n",
"printf('Inductance per km(L) copper conductor=%.3f mH\n',LmH);\n",
"Lr=(u+4*log(d/r))*10^-7*1000;\n",
"printf('Inductance per km(L) steel conductor=%.3f mH\n',Lr*1000);"
   ]
   }
,
{
		   "cell_type": "markdown",
		   "metadata": {},
		   "source": [
			"## Example 4.3: Calculate_GMR_pf_ACSR_conductor.sce"
		   ]
		  },
  {
"cell_type": "code",
	   "execution_count": null,
	   "metadata": {
	    "collapsed": true
	   },
	   "outputs": [],
"source": [
"//Calculate GMR pf ACSR conductor\n",
"clear;\n",
"clc;\n",
"//soltion\n",
"//given\n",
"r=3;//mm//radius of the conductor\n",
"re=r*exp(-1/4);\n",
"d11=re;\n",
"d12=2*r//=d17=d16;\n",
"d14=4*r;\n",
"d13=sqrt(d14^2-d12^2);//=d15\n",
"Ds1=(d11*d12*d13*d14*d13*d12*d12);\n",
"Ds1_=Ds1/(r^7);\n",
"printf('Ds1= (%f)^(1/7)*r\n',Ds1_);\n",
"d71=2*r;//=d72=d73=d74=d75=d76\n",
"Ds7=(d71^6*re);\n",
"Ds7_=Ds7/(r^7);\n",
"printf('Ds7= (%f)^(1/7)*r\n',Ds7_);\n",
"Ds=(Ds1^6*Ds7)^(1/49);\n",
"printf('GMR= %.4fmm',Ds);"
   ]
   }
,
{
		   "cell_type": "markdown",
		   "metadata": {},
		   "source": [
			"## Example 4.4: Find_the_total_inductance_of_the_line.sce"
		   ]
		  },
  {
"cell_type": "code",
	   "execution_count": null,
	   "metadata": {
	    "collapsed": true
	   },
	   "outputs": [],
"source": [
"//Find the total inductance of the line\n",
"clear;\n",
"clc;\n",
"//soltion\n",
"//given\n",
"r=1.4;//cm//radius of the conductor\n",
"re=r*exp(-1/4);\n",
"d12=20;//cm//spacing b/w 1&2\n",
"d11_=20+120;//cm//spacing b/w 1&1'\n",
"d12_=20+120+20;//cm//spacing b/w 1&2'\n",
"d21_=120;//cm//spacing b/w 2&1'\n",
"d22_=20+120;//cm//spacing b/w 2&2'\n",
"Dm=(d11_*d12_*d21_*d22_)^(1/4);\n",
"printf('Mutual GMD= %.2fcm\n',Dm);\n",
"Ds=floor((re*d12*re*d12)^(1/4)*100)/100;\n",
"printf('Self GMD= %.2fcm\n',Ds);\n",
"L=0.4*log(Dm/Ds);\n",
"printf('Loop Inductance of line= %.5f mH/km',L);"
   ]
   }
,
{
		   "cell_type": "markdown",
		   "metadata": {},
		   "source": [
			"## Example 4.5: Find_the_loop_inductance.sce"
		   ]
		  },
  {
"cell_type": "code",
	   "execution_count": null,
	   "metadata": {
	    "collapsed": true
	   },
	   "outputs": [],
"source": [
"//Find the loop inductance\n",
"clear;\n",
"clc;\n",
"//soltion\n",
"//given\n",
"r=1/2;//cm//radius of the conductor\n",
"re=r*exp(-1/4);\n",
"d12=200;//cm//spacing b/w 1&2\n",
"d11_=300;//cm//spacing b/w 1&1'\n",
"d12_=sqrt((300)^2+(200)^2);//cm//spacing b/w 1&2'\n",
"d21_=d12_;//cm//spacing b/w 2&1'\n",
"d22_=300;//cm//spacing b/w 2&2'\n",
"Dm=(d11_*d12_*d21_*d22_)^(1/4);\n",
"printf('Mutual GMD= %.3fcm\n',Dm);\n",
"Ds=(re*d12*re*d12)^(1/4);\n",
"printf('Self GMD= %.3fcm\n',Ds);\n",
"L=0.4*log(Dm/Ds);\n",
"printf('Loop Inductance of line= %.3fmH/km\n',L);"
   ]
   }
,
{
		   "cell_type": "markdown",
		   "metadata": {},
		   "source": [
			"## Example 4.6: Find_the_inductance_per_phase_of_30_km_line.sce"
		   ]
		  },
  {
"cell_type": "code",
	   "execution_count": null,
	   "metadata": {
	    "collapsed": true
	   },
	   "outputs": [],
"source": [
"//Find the inductance per phase of 30 km line\n",
"clear;\n",
"clc;\n",
"//soltion\n",
"//given\n",
"r=(15)/2;//mm//radius of the conductor\n",
"re=r*exp(-1/4);\n",
"d=1.5*1000;//mm//spacing\n",
"L=0.2*log(d/re);\n",
"printf('Loop Inductance of line= %.2f mH/km\n',L);\n",
"Ll=L*30/1000;\n",
"printf('Inductance per phase of 30 km long line= %.4f H',Ll);"
   ]
   }
,
{
		   "cell_type": "markdown",
		   "metadata": {},
		   "source": [
			"## Example 4.7: Find_the_inductance_of_a_3_phase_line_situated_at_cornes_of_a_triangle.sce"
		   ]
		  },
  {
"cell_type": "code",
	   "execution_count": null,
	   "metadata": {
	    "collapsed": true
	   },
	   "outputs": [],
"source": [
"//Find the inductance of a 3 phase line(triangle)\n",
"clear;\n",
"clc;\n",
"//soltion\n",
"//given\n",
"r=1;//cm//radius of the conductor\n",
"re=r*exp(-1/4);\n",
"d1=600;//cm//spacing of the triangular shaped system\n",
"d2=700;//cm//spacing of the triangular shaped system\n",
"d3=800;//cm//spacing of the triangular shaped system\n",
"L=0.2*log(((d1*d2*d3)^(1/3))/re);\n",
"printf('Loop Inductance of line= %.4f mH/km\n',L);"
   ]
   }
,
{
		   "cell_type": "markdown",
		   "metadata": {},
		   "source": [
			"## Example 4.8: Find_the_inductance_of_a_3_phase_line_arranged_in_horizontal_plane.sce"
		   ]
		  },
  {
"cell_type": "code",
	   "execution_count": null,
	   "metadata": {
	    "collapsed": true
	   },
	   "outputs": [],
"source": [
"//Find the inductance of a 3 phase line(plane)\n",
"clear;\n",
"clc;\n",
"//soltion\n",
"//given\n",
"r=1;//cm//radius of the conductor\n",
"re=r*exp(-1/4);\n",
"d=300;//cm//spacing b/w conductors\n",
"C1=0.2*[log(d/re)+0.5*log(2)];\n",
"C2=0.2*((sqrt(3))/2)*log(2);\n",
"La=complex(C1,-C2);\n",
"Lb=0.2*log(d/re);\n",
"Lc=complex(C1,C2);\n",
"printf('La= (%.2f %.2fj)mH\n',real(La),imag(La));\n",
"printf('Lb= %.4fmH\n',Lb);\n",
"printf('Lc= (%.2f +%.2fj)mH\n',real(Lc),imag(Lc));"
   ]
   }
,
{
		   "cell_type": "markdown",
		   "metadata": {},
		   "source": [
			"## Example 4.9: Find_the_loop_inductance_per_phase.sce"
		   ]
		  },
  {
"cell_type": "code",
	   "execution_count": null,
	   "metadata": {
	    "collapsed": true
	   },
	   "outputs": [],
"source": [
"//Find the loop inductance per phase\n",
"clear;\n",
"clc;\n",
"//soltion\n",
"//given\n",
"r=5;//mm//radius of the conductor\n",
"re=r*exp(-1/4);\n",
"d=3500;//mm//spacing\n",
"L=2*10^(-7)*log(d/re);\n",
"L_=L*10^6;\n",
"printf('Inductance per km(L)=%.4f*10^-6 H\n',L_);\n",
"printf('Lav=2*10^-7{log(dp/r)+1/3*log(2)}\n');\n",
"printf('Lav= L\n');\n",
"Z=(L/(2*10^-7)-1/3*log(2));\n",
"dp=re*exp(Z);\n",
"dp_=dp/1000;\n",
"printf('After soving above equation\n');\n",
"printf('Spacing between the conductors in the plane(dp)= %.3fm',dp_);"
   ]
   }
],
"metadata": {
		  "kernelspec": {
		   "display_name": "Scilab",
		   "language": "scilab",
		   "name": "scilab"
		  },
		  "language_info": {
		   "file_extension": ".sce",
		   "help_links": [
			{
			 "text": "MetaKernel Magics",
			 "url": "https://github.com/calysto/metakernel/blob/master/metakernel/magics/README.md"
			}
		   ],
		   "mimetype": "text/x-octave",
		   "name": "scilab",
		   "version": "0.7.1"
		  }
		 },
		 "nbformat": 4,
		 "nbformat_minor": 0
}
