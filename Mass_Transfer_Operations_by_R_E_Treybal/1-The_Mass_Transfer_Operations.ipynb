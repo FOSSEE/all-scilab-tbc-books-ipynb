{
"cells": [
 {
		   "cell_type": "markdown",
	   "metadata": {},
	   "source": [
       "# Chapter 1: The Mass Transfer Operations"
	   ]
	},
{
		   "cell_type": "markdown",
		   "metadata": {},
		   "source": [
			"## Example 1.1: Conversion_of_Units.sce"
		   ]
		  },
  {
"cell_type": "code",
	   "execution_count": null,
	   "metadata": {
	    "collapsed": true
	   },
	   "outputs": [],
"source": [
"clear;\n",
"clc;\n",
"\n",
"// Illustration 1.1\n",
"// Page: 17\n",
"\n",
"printf('Illustration 1.1 - Page: 17\n\n');\n",
"\n",
"// solution\n",
"\n",
"// Taking conversion factor from table 1.5 (Pg 15)\n",
"// viscosity: [(lb/ft.h)]*4.134*10^(-4) [kg/m.s] (Pg 15)\n",
"// time: [h] = 3600 [s]\n",
"// Density: [lb/cubic feet]*16.09 = [kg/cubic m] (Pg 15)\n",
"// Length: [ft]*0.3048 = [m]\n",
"N = (2.778*10^(-4))*(30600/(1/(0.3048^(3/2))))*((1/(4.134*(10^(-4))*16.019))^0.111)*(((1/16.019)/(1/16.019))^0.26);\n",
"printf('The coeffecient for S.I. Unit is %f',N);"
   ]
   }
],
"metadata": {
		  "kernelspec": {
		   "display_name": "Scilab",
		   "language": "scilab",
		   "name": "scilab"
		  },
		  "language_info": {
		   "file_extension": ".sce",
		   "help_links": [
			{
			 "text": "MetaKernel Magics",
			 "url": "https://github.com/calysto/metakernel/blob/master/metakernel/magics/README.md"
			}
		   ],
		   "mimetype": "text/x-octave",
		   "name": "scilab",
		   "version": "0.7.1"
		  }
		 },
		 "nbformat": 4,
		 "nbformat_minor": 0
}
