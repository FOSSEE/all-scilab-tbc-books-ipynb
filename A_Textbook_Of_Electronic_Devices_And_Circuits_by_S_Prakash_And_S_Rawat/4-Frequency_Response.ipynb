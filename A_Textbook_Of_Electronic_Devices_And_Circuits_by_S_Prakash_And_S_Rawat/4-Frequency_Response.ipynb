{
"cells": [
 {
		   "cell_type": "markdown",
	   "metadata": {},
	   "source": [
       "# Chapter 4: Frequency Response"
	   ]
	},
{
		   "cell_type": "markdown",
		   "metadata": {},
		   "source": [
			"## Example 4.1: 3dB_Frequeny.sce"
		   ]
		  },
  {
"cell_type": "code",
	   "execution_count": null,
	   "metadata": {
	    "collapsed": true
	   },
	   "outputs": [],
"source": [
"//Exa 4.1\n",
"clc;\n",
"clear;\n",
"close;\n",
"//Given data\n",
"Omega_Z1=0;//in Radian/sec\n",
"Omega_Z2=10;//in Radian/sec\n",
"Omega_P1=100;//in Radian/sec\n",
"Omega_P2=25;//in Radian/sec\n",
"WL=sqrt(Omega_P1^2+Omega_P2^2-2*Omega_Z1^2-2*Omega_Z2^2);//in radian/sec\n",
"disp(WL,'Approximate value of lower 3dB Frequency in radian/sec :  ');"
   ]
   }
,
{
		   "cell_type": "markdown",
		   "metadata": {},
		   "source": [
			"## Example 4.2: Upper_3dB_Frequency.sce"
		   ]
		  },
  {
"cell_type": "code",
	   "execution_count": null,
	   "metadata": {
	    "collapsed": true
	   },
	   "outputs": [],
"source": [
"//Exa 4.2\n",
"clc;\n",
"clear;\n",
"close;\n",
"//Given data\n",
"Omega_P1=10^4;//in Radian/sec\n",
"Omega_P2=2*10^4;//in Radian/sec\n",
"Omega_Z1=10^5;//in Radian/sec\n",
"omegaH=1/sqrt(1/Omega_P1^2+1/Omega_P2^2-2/Omega_Z1^2);//in radian/sec\n",
"disp(round(omegaH),'Approximate value of lower 3dB Frequency in radian/sec :  ');"
   ]
   }
],
"metadata": {
		  "kernelspec": {
		   "display_name": "Scilab",
		   "language": "scilab",
		   "name": "scilab"
		  },
		  "language_info": {
		   "file_extension": ".sce",
		   "help_links": [
			{
			 "text": "MetaKernel Magics",
			 "url": "https://github.com/calysto/metakernel/blob/master/metakernel/magics/README.md"
			}
		   ],
		   "mimetype": "text/x-octave",
		   "name": "scilab",
		   "version": "0.7.1"
		  }
		 },
		 "nbformat": 4,
		 "nbformat_minor": 0
}
