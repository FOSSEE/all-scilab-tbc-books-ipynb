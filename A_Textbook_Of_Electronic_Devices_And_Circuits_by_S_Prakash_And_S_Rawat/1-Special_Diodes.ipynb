{
"cells": [
 {
		   "cell_type": "markdown",
	   "metadata": {},
	   "source": [
       "# Chapter 1: Special Diodes"
	   ]
	},
{
		   "cell_type": "markdown",
		   "metadata": {},
		   "source": [
			"## Example 1.10: Maximum_and_Minimum_LED_current.sce"
		   ]
		  },
  {
"cell_type": "code",
	   "execution_count": null,
	   "metadata": {
	    "collapsed": true
	   },
	   "outputs": [],
"source": [
"//Exa 1.10\n",
"clc;\n",
"clear;\n",
"close;\n",
"//Given data\n",
"VDmin=1.5;//in Volt\n",
"VDmax=2.3;//in Volt\n",
"VS=5;//in Volt\n",
"RS=270;//in Ohm\n",
"Imin=(VS-VDmax)/RS;//in Ampere\n",
"disp(Imin*1000,'Minimum value of LED current in mA : ');\n",
"Imax=(VS-VDmin)/RS;//in Ampere\n",
"disp(round(Imax*1000),'Maximum value of LED current in mA : ');"
   ]
   }
,
{
		   "cell_type": "markdown",
		   "metadata": {},
		   "source": [
			"## Example 1.11: Frequency_range_of_tuning_circuit.sce"
		   ]
		  },
  {
"cell_type": "code",
	   "execution_count": null,
	   "metadata": {
	    "collapsed": true
	   },
	   "outputs": [],
"source": [
"//Exa 1.11\n",
"clc;\n",
"clear;\n",
"close;\n",
"//Given data\n",
"format('v',6);\n",
"C1min=10;//in pF\n",
"C2max=50;//in pF\n",
"L=5;//in mH\n",
"L=L*10^-3;//in H\n",
"//Formula : CT=C1*C2/(C1+C2)\n",
"//Minimum\n",
"C1=10;//in pF\n",
"C2=10;//in pF\n",
"CTmin=C1*C2/(C1+C2);//in pF\n",
"CTmin=CTmin*10^-12;//in F\n",
"//Maximum\n",
"C1=50;//in pF\n",
"C2=50;//in pF\n",
"CTmax=C1*C2/(C1+C2);//in pF\n",
"CTmax=CTmax*10^-12;//in F\n",
"//Formula : f=1/(2*%pi*sqrt(L*C))\n",
"//maximum :\n",
"fmax=1/(2*%pi*sqrt(L*CTmin));\n",
"//minimum :\n",
"fmin=1/(2*%pi*sqrt(L*CTmax));\n",
"disp('The frequency of tuning circuit ranges from '+string(fmin/10^6)+'MHz to '+string(fmax/10^6)+'MHz.');\n",
"//Note : Answer in the book is wrong."
   ]
   }
,
{
		   "cell_type": "markdown",
		   "metadata": {},
		   "source": [
			"## Example 1.12: Diode_Capacitance.sce"
		   ]
		  },
  {
"cell_type": "code",
	   "execution_count": null,
	   "metadata": {
	    "collapsed": true
	   },
	   "outputs": [],
"source": [
"//Exa 1.12\n",
"clc;\n",
"clear;\n",
"close;\n",
"//Given data\n",
"format('v',6);\n",
"C1=21;//in pF\n",
"V1=4;//in volt\n",
"V2=9;//in volt\n",
"disp('C is proportional to 1/sqrt(V)');\n",
"disp('So, C2/C1=sqrt(V1/V2)');\n",
"C2=sqrt(V1/V2)*C1;//in pF\n",
"disp(C2,'At reverse bias 9V, Diode capacitance in pF : ');"
   ]
   }
,
{
		   "cell_type": "markdown",
		   "metadata": {},
		   "source": [
			"## Example 1.13: Photocurrent.sce"
		   ]
		  },
  {
"cell_type": "code",
	   "execution_count": null,
	   "metadata": {
	    "collapsed": true
	   },
	   "outputs": [],
"source": [
"//Exa 1.13\n",
"clc;\n",
"clear;\n",
"close;\n",
"//Given data\n",
"format('v',6);\n",
"R=0.90;//in A/W\n",
"Pop=1;//in mW\n",
"//Part (i)\n",
"IP=R*Pop;//in mA\n",
"disp(IP,'Power of incident light 1mW, Photocurrent in mA is :');\n",
"//Part (ii)\n",
"disp('Here IP is not proportional to Pop(for Pop>1.5mW)');\n",
"disp('Hence Photourrent can not be calculated.');"
   ]
   }
,
{
		   "cell_type": "markdown",
		   "metadata": {},
		   "source": [
			"## Example 1.14: Responsivity_of_InGaAs_photodiode.sce"
		   ]
		  },
  {
"cell_type": "code",
	   "execution_count": null,
	   "metadata": {
	    "collapsed": true
	   },
	   "outputs": [],
"source": [
"//Exa 1.14\n",
"clc;\n",
"clear;\n",
"close;\n",
"//Given data\n",
"format('v',7);\n",
"ETA=70;//in %\n",
"Eg=0.75;//in eV\n",
"Eg=Eg*1.6*10^-19;//in Joule\n",
"h=6.63*10^-34;//Planks constant in J-s\n",
"c=3*10^8;//speed of light in m/s\n",
"e=1.6*10^-19;//in coulamb\n",
"lambda=h*c/Eg;//in meter\n",
"disp(lambda*10^9,'Wavelength in nm :');\n",
"R=(ETA/100)*e*lambda/(h*c);//in A/W\n",
"disp(R,'Responsivity of InGaAs photodiode in A/W : ');"
   ]
   }
,
{
		   "cell_type": "markdown",
		   "metadata": {},
		   "source": [
			"## Example 1.15: Equilibrium_contact_potential.sce"
		   ]
		  },
  {
"cell_type": "code",
	   "execution_count": null,
	   "metadata": {
	    "collapsed": true
	   },
	   "outputs": [],
"source": [
"//Exa 1.15\n",
"clc;\n",
"clear;\n",
"close;\n",
"//Given data\n",
"W1=2.5;//in eV\n",
"W2=1.9;//in eV\n",
"ContactPotential=W1-W2;//in Volt\n",
"disp(ContactPotential,'Contact potential in Volts : ');"
   ]
   }
,
{
		   "cell_type": "markdown",
		   "metadata": {},
		   "source": [
			"## Example 1.1: Reverse_saturation_current.sce"
		   ]
		  },
  {
"cell_type": "code",
	   "execution_count": null,
	   "metadata": {
	    "collapsed": true
	   },
	   "outputs": [],
"source": [
"//Exa 1.1\n",
"clc;\n",
"clear;\n",
"close;\n",
"//Given data\n",
"I=40;//in mA\n",
"V=0.25;//in Volt\n",
"T=20;//in degree C\n",
"T=T+273;//in Kelvin\n",
"ETA=1;//For Ge\n",
"e=1.6*10^-19;//in Coulamb(electronic charge)\n",
"k=1.38*10^-23;//in J/K(Boltzman Constant)\n",
"//Formula : I=Io*(exp(%e*V/(ETA*k*T))-1)\n",
"y=(e*V/(ETA*k*T));//Assumed\n",
"y=round(y);\n",
"Io=I*10^-3/(exp(y)-1);//in mA\n",
"disp(Io*10^6,'Reverse saturation current in micro Ampere : ');"
   ]
   }
,
{
		   "cell_type": "markdown",
		   "metadata": {},
		   "source": [
			"## Example 1.2: Value_of_forward_voltage.sce"
		   ]
		  },
  {
"cell_type": "code",
	   "execution_count": null,
	   "metadata": {
	    "collapsed": true
	   },
	   "outputs": [],
"source": [
"//Exa 1.2\n",
"clc;\n",
"clear;\n",
"close;\n",
"//Given data\n",
"Io=10;//in uA\n",
"I=1;//in Ampere\n",
"ETA=2;//For Si\n",
"T=27;//in degree C\n",
"T=T+273;//in Kelvin\n",
"e=1.6*10^-19;//in Coulamb(electronic charge)\n",
"k=1.38*10^-23;//in J/K(Boltzman Constant)\n",
"//Formula : I=Io*(exp(%e*V/(ETA*k*T))-1)\n",
"V=(ETA*k*T/e)*log(I/(Io*10^-6)+1);//in Volt\n",
"disp(V,'Forward Voltage across the diode in Volt :');"
   ]
   }
,
{
		   "cell_type": "markdown",
		   "metadata": {},
		   "source": [
			"## Example 1.3: DC_current_DC_voltage_Ripple_factor.sce"
		   ]
		  },
  {
"cell_type": "code",
	   "execution_count": null,
	   "metadata": {
	    "collapsed": true
	   },
	   "outputs": [],
"source": [
"//Exa 1.3\n",
"clc;\n",
"clear;\n",
"close;\n",
"//Given data\n",
"RL=1;//in kOhm\n",
"//rf<<RL\n",
"Vrms=200;//in Volt\n",
"//Part (i)\n",
"Vo=Vrms*sqrt(2);//in Volt\n",
"Idc=Vo/(RL*10^3*%pi);//in Ampere\n",
"disp(round(Idc*10^3),'DC current in load in mA :');\n",
"//Part (ii)\n",
"Vdc=RL*10^3*Idc;//in Volt\n",
"disp(round(Vdc),'DC voltage across load in volt :');\n",
"//Part (iii)\n",
"//Gamma=sqrt((Irms/Idc)^2-1)=sqrt((Io/2)/(Io/%pi)-1)=sqrt((%pi/2)^2-1)\n",
"Gamma=sqrt((%pi/2)^2-1);//unitless\n",
"disp(Gamma,'Ripple factor : ');\n",
"//Part (iv)\n",
"PIV=Vrms*sqrt(2);//in volt\n",
"disp(PIV,'Peak Inverse Voltage in volt :');"
   ]
   }
,
{
		   "cell_type": "markdown",
		   "metadata": {},
		   "source": [
			"## Example 1.4: Average_dc_current_rms_current_rectification_efficieny_PIV.sce"
		   ]
		  },
  {
"cell_type": "code",
	   "execution_count": null,
	   "metadata": {
	    "collapsed": true
	   },
	   "outputs": [],
"source": [
"//Exa 1.4\n",
"clc;\n",
"clear;\n",
"close;\n",
"//Given data\n",
"rf=20;//in ohm\n",
"RL=980;//in Ohm\n",
"Vrms=50;//in Volt\n",
"Vo=Vrms*sqrt(2);//in Volt\n",
"Io=Vo/(RL+rf);//in Ampere\n",
"//Part (i)\n",
"Idc=2*Io/%pi;//in Ampere\n",
"disp(round(Idc*10^3),'Average DC current in mA :');\n",
"//Part (ii)\n",
"Irms=Io/sqrt(2);//in Ampere\n",
"disp(Irms*1000,'rms value of load current in mA :')\n",
"//Part (iii)\n",
"Vdc=RL*Idc;//in Volt\n",
"disp(Vdc,'DC output voltage in volt :');\n",
"//Part (iv)\n",
"ETA=(Idc^2*RL/(Irms^2*(RL+rf)))*100;//Rectification Efficiency in %\n",
"disp('Rectification Efficiency is '+string(ETA)+' %')\n",
"//Part (v)\n",
"PIV=2*Vo;//in volt\n",
"disp(PIV,'Peak Inverse Voltage in volt :');"
   ]
   }
,
{
		   "cell_type": "markdown",
		   "metadata": {},
		   "source": [
			"## Example 1.5: Minimum_value_of_resistance.sce"
		   ]
		  },
  {
"cell_type": "code",
	   "execution_count": null,
	   "metadata": {
	    "collapsed": true
	   },
	   "outputs": [],
"source": [
"//Exa 1.5\n",
"clc;\n",
"clear;\n",
"close;\n",
"//Given data\n",
"Vin=40;//in volt\n",
"VZ=10;//in volt\n",
"Vo=10;//in volt\n",
"IZmax=50;//in mA\n",
"IL=0;//in mA\n",
"//Formula : I=IZ+IL=IZmax+0\n",
"I=IZmax+0;//in mA\n",
"//Formula : VZ=Vin-R*I\n",
"Rmin=(Vin-VZ)/(I*10^-3);//in Ohm\n",
"disp(Rmin,'Minimum value of resistance in Ohm : ');"
   ]
   }
,
{
		   "cell_type": "markdown",
		   "metadata": {},
		   "source": [
			"## Example 1.6: Value_of_series_Resistor.sce"
		   ]
		  },
  {
"cell_type": "code",
	   "execution_count": null,
	   "metadata": {
	    "collapsed": true
	   },
	   "outputs": [],
"source": [
"//Exa 1.6\n",
"clc;\n",
"clear;\n",
"close;\n",
"//Given data\n",
"Vmin=15;//Minimum input voltage in volt\n",
"VZ=6.8;//Voltage across zener in volt\n",
"Vo=VZ;//output voltage in volt\n",
"Vsr1=Vmin-Vo;//Voltage aross series resistance in volt\n",
"disp('If R is the series esistance, Total current in series resistance in Ampere : I=Vsr/R=8.2/R ');\n",
"ILmin=5;//in mA\n",
"disp('current in zener diode in Ampere :IZ=I-IL=(8.2/R-IL*10-3)          eqn(1)');\n",
"Vmax=20;//mximum output voltage\n",
"Vo=VZ;//output voltage in volt\n",
"Vsr2=Vmax-Vo;//Voltage aross series resistance in volt\n",
"disp('Current in series resistance circuit in Ampere : I=Vsr/R');\n",
"ILmax=15;//in mA\n",
"disp('current in zener diode in Ampere :IZ=I-IL=(Rs/R-IL*10-3)          eqn(2)')\n",
"disp('For Zener diode to work as voltage regulator,(1) and (2) must be same.');\n",
"disp('(8.2/R-IL*10-3)=(13.2/R-IL*10-3)')\n",
"R=(Vsr2-Vsr1)/(ILmax*10^-3-ILmin*10^-3);//in Ohm\n",
"disp(R,'Required value of Series Resistor in ohm : ');"
   ]
   }
,
{
		   "cell_type": "markdown",
		   "metadata": {},
		   "source": [
			"## Example 1.7: Current_limiting_resistance_and_dissipated_power.sce"
		   ]
		  },
  {
"cell_type": "code",
	   "execution_count": null,
	   "metadata": {
	    "collapsed": true
	   },
	   "outputs": [],
"source": [
"//Exa 1.7\n",
"clc;\n",
"clear;\n",
"close;\n",
"//Given data\n",
"Vin=18;//in volt\n",
"IZ=20;//in mA\n",
"ILav=(5+35)/2;//in mA\n",
"VZ=12;//in volt\n",
"Vo=12;//in volt\n",
"I=IZ+ILav;//in mA\n",
"R=(Vin-Vo)/(I*10^-3);//in Ohm\n",
"disp(R,'Current limiting resistance in Ohm : ');\n",
"P=(I*10^-3)^2*R;//in Watts\n",
"disp(P,'Power disspation in resistance in Watt : ');"
   ]
   }
,
{
		   "cell_type": "markdown",
		   "metadata": {},
		   "source": [
			"## Example 1.8: Maximum_and_minimum_input_supply_voltage.sce"
		   ]
		  },
  {
"cell_type": "code",
	   "execution_count": null,
	   "metadata": {
	    "collapsed": true
	   },
	   "outputs": [],
"source": [
"//Exa 1.8\n",
"clc;\n",
"clear;\n",
"close;\n",
"//Given data\n",
"R=1;//in kOhm\n",
"RL=5;//in kOhm\n",
"VZ=10;//in volt\n",
"Vo=10;//in volt\n",
"P=250;//in mW\n",
"IL=Vo/RL;//in mA\n",
"IZmin=0;//in mA\n",
"IZmax=P/VZ;//in mA\n",
"Imin=IZmin+IL;//in mA\n",
"Imax=IZmax+IL;//in mA\n",
"Vin_min=VZ+Imin*10^-3*R*10^3;//in volt\n",
"Vin_max=VZ+Imax*10^-3*R*10^3;//in volt\n",
"disp('The input voltage ranges from '+string(Vin_min)+'V to '+string(Vin_max)+'V');"
   ]
   }
,
{
		   "cell_type": "markdown",
		   "metadata": {},
		   "source": [
			"## Example 1.9: Output_voltage_voltage_drop_and_current_in_zener_diode.sce"
		   ]
		  },
  {
"cell_type": "code",
	   "execution_count": null,
	   "metadata": {
	    "collapsed": true
	   },
	   "outputs": [],
"source": [
"//Exa 1.9\n",
"clc;\n",
"clear;\n",
"close;\n",
"//Given data\n",
"R=5;//in kOhm\n",
"R=R*1000;//in Ohm\n",
"RL=10;//in kOhm\n",
"RL=RL*1000;//in Ohm\n",
"Vin=120;//in Volt\n",
"VZ=50;//in Volt\n",
"//Part (i)\n",
"Vo=VZ;//in Volt\n",
"disp(Vo,'Output voltage in volt : ');\n",
"//Part (ii)\n",
"VR=Vin-VZ;//in Volt\n",
"disp(VR,'Voltage drop across series resistance in volt :');\n",
"//Part (iii)\n",
"IL=Vo/RL;//in Ampere\n",
"disp(IL*1000,'Load Current in mA :');\n",
"I=VR/R;//in Ampere\n",
"disp(I*1000,'Current through resistance R in mA :');\n",
"IZ=I-IL;//in Ampere\n",
"disp(IZ*1000,'Load Current in mA :');"
   ]
   }
],
"metadata": {
		  "kernelspec": {
		   "display_name": "Scilab",
		   "language": "scilab",
		   "name": "scilab"
		  },
		  "language_info": {
		   "file_extension": ".sce",
		   "help_links": [
			{
			 "text": "MetaKernel Magics",
			 "url": "https://github.com/calysto/metakernel/blob/master/metakernel/magics/README.md"
			}
		   ],
		   "mimetype": "text/x-octave",
		   "name": "scilab",
		   "version": "0.7.1"
		  }
		 },
		 "nbformat": 4,
		 "nbformat_minor": 0
}
