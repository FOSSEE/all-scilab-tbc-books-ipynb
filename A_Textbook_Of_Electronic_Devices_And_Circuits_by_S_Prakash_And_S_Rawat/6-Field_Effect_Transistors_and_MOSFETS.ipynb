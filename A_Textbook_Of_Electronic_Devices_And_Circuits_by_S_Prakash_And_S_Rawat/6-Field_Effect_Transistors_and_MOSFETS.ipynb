{
"cells": [
 {
		   "cell_type": "markdown",
	   "metadata": {},
	   "source": [
       "# Chapter 6: Field Effect Transistors and MOSFETS"
	   ]
	},
{
		   "cell_type": "markdown",
		   "metadata": {},
		   "source": [
			"## Example 6.10: Plot_gm_VS_IDSS.sce"
		   ]
		  },
  {
"cell_type": "code",
	   "execution_count": null,
	   "metadata": {
	    "collapsed": true
	   },
	   "outputs": [],
"source": [
"//Exa 6.10\n",
"clc;\n",
"clear;\n",
"close;\n",
"//given data\n",
"VP=-6;//in Volt\n",
"IDSS=8;//in mA\n",
"disp('We have ID=IDSS*[1-VGS/VP]^2');\n",
"disp('Mutual conductance, gm=(delID/delVGS)=IDSS*2*[1-VGS/VP]*(-1/VP)=(-2*IDSS/VP)*[1-VGS/VP]');\n",
"//For VGS=0\n",
"VGS=0;//in Volt\n",
"IDSS=1:8;//in mA\n",
"for i=1:8\n",
"    gm(i)=-2*IDSS(i)/VP\n",
"end\n",
"title('gm versus IDSS');\n",
"xlabel('gm(in mS)');\n",
"ylabel('IDSS(in mA)');\n",
"plot2d(gm,IDSS);\n",
"disp('Clearly the plot of gm vs IDSS for VD=-6V, IDSS=8mA is a straight line of slope=-2/VP=-(2/-6)=1/3');"
   ]
   }
,
{
		   "cell_type": "markdown",
		   "metadata": {},
		   "source": [
			"## Example 6.11: Channel_width_W.sce"
		   ]
		  },
  {
"cell_type": "code",
	   "execution_count": null,
	   "metadata": {
	    "collapsed": true
	   },
	   "outputs": [],
"source": [
"//Exa 6.11\n",
"clc;\n",
"clear;\n",
"close;\n",
"//given data\n",
"L=1.25;//in um\n",
"mu_n=0.065;//in m^2/V-s\n",
"Cox=6.9*10^-4;//in F/m^2\n",
"VT=0.65//in Volt\n",
"ID_sat=4;//in mA\n",
"VGS=5;//in Volt\n",
"//Formula : ID_sat=W*mu_n*Cox*(VGS-VT)^2/(2*L)\n",
"W=ID_sat*10^-3*2*L*10^-6/(mu_n*Cox*(VGS-VT)^2);//in meter\n",
"disp(W*10^6,'Channel Width in micro meter :');"
   ]
   }
,
{
		   "cell_type": "markdown",
		   "metadata": {},
		   "source": [
			"## Example 6.1: Value_of_Transconductance.sce"
		   ]
		  },
  {
"cell_type": "code",
	   "execution_count": null,
	   "metadata": {
	    "collapsed": true
	   },
	   "outputs": [],
"source": [
"//Exa 6.1\n",
"clc;\n",
"clear;\n",
"close;\n",
"//given data\n",
"VGS1=-3.1;//in Volt\n",
"VGS2=-3;//in Volt\n",
"ID1=1;//in mA\n",
"ID2=1.3;//in mA\n",
"delVGS=VGS2-VGS1;//in Volts\n",
"delID=ID2-ID1;//in mA\n",
"gm=delID*10^-3/delVGS;//in mhos\n",
"disp(gm,'Transconductance in mhos : ');"
   ]
   }
,
{
		   "cell_type": "markdown",
		   "metadata": {},
		   "source": [
			"## Example 6.2: AC_drain_resistance_transconductance_and_amplification_factor.sce"
		   ]
		  },
  {
"cell_type": "code",
	   "execution_count": null,
	   "metadata": {
	    "collapsed": true
	   },
	   "outputs": [],
"source": [
"//Exa 6.2\n",
"clc;\n",
"clear;\n",
"close;\n",
"//given data\n",
"VGS1=0;//in Volt\n",
"VGS2=0;//in Volt\n",
"VGS3=-0.2;//in Volt\n",
"VDS1=7;//in Volt\n",
"VDS2=15;//in Volt\n",
"VDS3=15;//in Volt\n",
"ID1=10;//in mA\n",
"ID2=10.25;//in mA\n",
"ID3=9.65;//in mA\n",
"delVDS=VDS2-VDS1;//in Volts\n",
"delID=ID2-ID1;//in mA\n",
"rd=delVDS/delID;//in Kohm\n",
"disp(rd,'AC drain resistance in Kohm : ');\n",
"delVGS=VGS3-VGS2;//in Volts\n",
"delID=ID3-ID2;//in mA\n",
"gm=delID*10^-3/delVGS;//in mhos\n",
"disp(gm,'Transconductance in mhos : ');\n",
"mu=rd*10^3*gm;//unitless\n",
"disp(mu,'Amplification factor : ');"
   ]
   }
,
{
		   "cell_type": "markdown",
		   "metadata": {},
		   "source": [
			"## Example 6.5: Voltage_Amplificatio.sce"
		   ]
		  },
  {
"cell_type": "code",
	   "execution_count": null,
	   "metadata": {
	    "collapsed": true
	   },
	   "outputs": [],
"source": [
"//Exa 6.5\n",
"clc;\n",
"clear;\n",
"close;\n",
"//given data\n",
"gm=2;//in milli-mho\n",
"RL=10;//in Kohm\n",
"disp('assuming rd>>RL');\n",
"Av=gm*10^-3*RL*10^3;//unitless\n",
"disp(Av,'Voltage amplification : ');"
   ]
   }
,
{
		   "cell_type": "markdown",
		   "metadata": {},
		   "source": [
			"## Example 6.6: Output_voltage_of_amplifier.sce"
		   ]
		  },
  {
"cell_type": "code",
	   "execution_count": null,
	   "metadata": {
	    "collapsed": true
	   },
	   "outputs": [],
"source": [
"//Exa 6.6\n",
"clc;\n",
"clear;\n",
"close;\n",
"//given data\n",
"RL=20;//in Kohm\n",
"RS=1;//in Kohm\n",
"RG=1;//in Mohm\n",
"Cs=25;//in uF\n",
"mu=20;//unitless\n",
"rd=100;//in Kohm\n",
"Vs=2;//in Volt\n",
"f=1;//in KHz\n",
"Xc=1/(2*%pi*f*Cs);//in Ohm\n",
"disp(Xc,'Xc in Ohm : ');\n",
"disp('As Xc<<Rs, therefore Cs bypasses all ac components. ');\n",
"Av=mu*RL/(rd+RL);//unitless\n",
"Vo=Av*Vs;//in Volt\n",
"disp(Vo,'Output voltage in volt : ');"
   ]
   }
,
{
		   "cell_type": "markdown",
		   "metadata": {},
		   "source": [
			"## Example 6.7: IDQ_VGSQ_VD_VS_VDS_VDG.sce"
		   ]
		  },
  {
"cell_type": "code",
	   "execution_count": null,
	   "metadata": {
	    "collapsed": true
	   },
	   "outputs": [],
"source": [
"//Exa 6.7\n",
"clc;\n",
"clear;\n",
"close;\n",
"//given data\n",
"R1=2.1;//in Mohm\n",
"R2=270;//in Kohm\n",
"RD=4.7;//in Kohm\n",
"RS=1.5;//in Kohm\n",
"VDD=20;//in Volt\n",
"VP=-4;//in Volt\n",
"IDSS=8;//in mA\n",
"//step 1 : Find VGS :\n",
"VG=R2*10^3*VDD/(R1*10^6+R2*10^3);//in Volt\n",
"disp('VS=ID*RS-VGS Volt');\n",
"disp('VGS=VG-VS=2.28-1.5*ID')\n",
"//step 2 : Find ID :\n",
"disp('ID=IDSS*[1-VGS/VP]^2 mA');\n",
"disp('ID=8*[1-(2.28-1.5*ID)/4]^2 mA');\n",
"disp('2*ID=39.44-18.84*ID+2.25*ID^2');\n",
"disp('2.25*ID^2-20.84*ID39.44=0')\n",
"disp('ID=6.6mA or 2.65mA');\n",
"disp('For ID =6.6mA VDS=-ve');\n",
"disp('So discard the value so IDQ = 2.65mA.');\n",
"ID=2.65;//in mA\n",
"//step 3 : Find VGSQ :\n",
"IDQ=ID;//in mA\n",
"VGS=2.28;//in Volt\n",
"VGSQ=VGS-1.5*IDQ;///in Volt\n",
"//step 4 : Find VDSQ :\n",
"VDSQ=VDD-IDQ*(RD+RS);//in Volt\n",
"//step 5 : Find VD,VS and VDG :\n",
"VDS=VDSQ;//in Volt\n",
"VG=VGS;//in Volt\n",
"VS=ID*RS;//in Volt\n",
"VD=VS+VDS'//in Volt\n",
"VDG=VD-VG;//in Volt\n",
"disp(IDQ,'IDQ in mA : ');\n",
"disp(VGSQ,'VGSQ in Volt :');\n",
"disp(VD,'VD in Volt :');\n",
"disp(VS,'VS in Volt :');\n",
"disp(VDS,'VDS in Volt :');\n",
"disp(VDG,'VDG in Volt :');"
   ]
   }
,
{
		   "cell_type": "markdown",
		   "metadata": {},
		   "source": [
			"## Example 6.8: Pinch_off_voltage.sce"
		   ]
		  },
  {
"cell_type": "code",
	   "execution_count": null,
	   "metadata": {
	    "collapsed": true
	   },
	   "outputs": [],
"source": [
"//Exa 6.8\n",
"clc;\n",
"clear;\n",
"close;\n",
"//given data\n",
"a=5.6*10^-6/2;//in meter\n",
"k=12;//unitless\n",
"epsilon_o=8.86*10^-12;//in F/m\n",
"epsilon=k*epsilon_o;//in F/m\n",
"ND=10^15;//in cm^-3\n",
"ND=10^15*10^6;//in m^-3\n",
"e=1.6*10^-19;//in Coulamb\n",
"VP=e*ND*a^2/(2*epsilon);//in Volt\n",
"disp(VP,'Pinch off voltage in volts : ');"
   ]
   }
],
"metadata": {
		  "kernelspec": {
		   "display_name": "Scilab",
		   "language": "scilab",
		   "name": "scilab"
		  },
		  "language_info": {
		   "file_extension": ".sce",
		   "help_links": [
			{
			 "text": "MetaKernel Magics",
			 "url": "https://github.com/calysto/metakernel/blob/master/metakernel/magics/README.md"
			}
		   ],
		   "mimetype": "text/x-octave",
		   "name": "scilab",
		   "version": "0.7.1"
		  }
		 },
		 "nbformat": 4,
		 "nbformat_minor": 0
}
