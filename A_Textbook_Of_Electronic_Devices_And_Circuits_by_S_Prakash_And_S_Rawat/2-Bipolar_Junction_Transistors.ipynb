{
"cells": [
 {
		   "cell_type": "markdown",
	   "metadata": {},
	   "source": [
       "# Chapter 2: Bipolar Junction Transistors"
	   ]
	},
{
		   "cell_type": "markdown",
		   "metadata": {},
		   "source": [
			"## Example 2.10: Collector_emitter_saturation_voltage.sce"
		   ]
		  },
  {
"cell_type": "code",
	   "execution_count": null,
	   "metadata": {
	    "collapsed": true
	   },
	   "outputs": [],
"source": [
"//Exa 2.10\n",
"clc;\n",
"clear;\n",
"close;\n",
"//Given data\n",
"alfaF=0.99;//unitless\n",
"alfaR=0.20;//unitless\n",
"IC=1;//in mA\n",
"IB=50;//in micro Ampere\n",
"T=300;//in kelvin\n",
"k=1.38*10^-23;//Boltzman constant\n",
"e=1.6*10^-19;//in cooulamb\n",
"Vth=k*T/e;//in Volt\n",
"VCEsat=Vth*log(((IC*10^-3*(1-alfaR)+IB*10^-6)*alfaF)/((alfaF*IB*10^-6-(1-alfaF)*IC*10^-3)*alfaR));//in volt\n",
"disp(VCEsat,'Collector-Emitter saturation voltage in volt :');"
   ]
   }
,
{
		   "cell_type": "markdown",
		   "metadata": {},
		   "source": [
			"## Example 2.11: Relative_size_of_collector_junction.sce"
		   ]
		  },
  {
"cell_type": "code",
	   "execution_count": null,
	   "metadata": {
	    "collapsed": true
	   },
	   "outputs": [],
"source": [
"//Exa 2.11\n",
"clc;\n",
"clear;\n",
"close;\n",
"//Given data\n",
"IES=10^-14;//in A\n",
"alfaF=1;//unitless\n",
"alfaR=0.1;//unitless\n",
"//Formula : alfaF*IES=alfaR*ICS\n",
"ICS=(alfaF/alfaR)*IES;//in Ampere\n",
"disp(ICS,'Collector base junction saturation current in Ampere : ');\n",
"RelativeSize=ICS/IES;//unitless\n",
"disp('Collector is '+string(RelativeSize)+' times larger in size than emitter.');\n",
"BetaR=alfaR/(1-alfaR);//unitless\n",
"disp(BetaR,'Value of BetaR : ');"
   ]
   }
,
{
		   "cell_type": "markdown",
		   "metadata": {},
		   "source": [
			"## Example 2.12: DC_load_line_and_operating_point.sce"
		   ]
		  },
  {
"cell_type": "code",
	   "execution_count": null,
	   "metadata": {
	    "collapsed": true
	   },
	   "outputs": [],
"source": [
"//Exa 2.12\n",
"clc;\n",
"clear;\n",
"close;\n",
"//Given data\n",
"Beta=100;//unitless\n",
"VCC=6;//in volt\n",
"RB=530;//in kOhm\n",
"RC=2;//in kOhm\n",
"VBE=0.7;//in volt(For Si)\n",
"//Part (i)\n",
"IC1=0;//in A\n",
"VCE1=VCC-IC1*RC;//in volt\n",
"//If VCE=0;//in volt\n",
"VCE2=0;//in volt\n",
"IC2=VCC/RC;//in Ampere\n",
"title('DC load line');\n",
"xlabel('VCE(in volts)');\n",
"ylabel('IC(in mA)');\n",
"plot([VCE1,IC1],[VCE2,IC2]);//DC load line\n",
"//Formula : VCC=VBE+IB*RB\n",
"IB=(VCC-VBE)/(RB*10^3);//in Ampere\n",
"IC=Beta*IB;//in Ampere\n",
"VCE=VCC-IC*RC*10^3;//in volt\n",
"disp('Q point coordinates are :');\n",
"disp('IC='+string(IC*10^3)+' mA and VCE='+string(VCE)+' Volt.');"
   ]
   }
,
{
		   "cell_type": "markdown",
		   "metadata": {},
		   "source": [
			"## Example 2.13: RB_and_new_value_of_IC.sce"
		   ]
		  },
  {
"cell_type": "code",
	   "execution_count": null,
	   "metadata": {
	    "collapsed": true
	   },
	   "outputs": [],
"source": [
"//Exa 2.13\n",
"clc;\n",
"clear;\n",
"close;\n",
"//Given data\n",
"Beta=100;//unitless\n",
"IC=1;//in mA\n",
"VCC=12;//in volt\n",
"VBE=0.3;//in volt(For Ge)\n",
"//Prt (i)\n",
"IB=IC/Beta;//in mA\n",
"//Formula : VCC=VBE+IB*RB\n",
"RB=(VCC-VBE)/(IB*10^-3);//in Ampere\n",
"disp(RB/10^3,'Resistance RB in kOhm : ');\n",
"//part (ii)\n",
"Beta=50;//unitless\n",
"IB=(VCC-VBE)/RB;//in Ampere\n",
"IC=Beta*IB;//in Ampere\n",
"disp(IC*10^3,'Zero signal IC in mA:');"
   ]
   }
,
{
		   "cell_type": "markdown",
		   "metadata": {},
		   "source": [
			"## Example 2.14: Set_the_operating_point.sce"
		   ]
		  },
  {
"cell_type": "code",
	   "execution_count": null,
	   "metadata": {
	    "collapsed": true
	   },
	   "outputs": [],
"source": [
"//Exa 2.14\n",
"clc;\n",
"clear;\n",
"close;\n",
"//Given data :\n",
"format('v',10);\n",
"disp('To set the required operating point, value of RB will be find out. ')\n",
"IC=1;//in mA\n",
"VCE=8;//in volt\n",
"Beta=100;//unitless\n",
"VCC=12;//in volt\n",
"VBE=0.3;//in volt(For Ge)\n",
"//Prt (i)\n",
"RC=(VCC-VCE)/(IC*10^-3);//in ohm\n",
"IB=IC/Beta;//in mA\n",
"RB=(VCC-VBE-Beta*(IB*10^-3)*RC)/(IB*10^-3);//in Ohm\n",
"disp(RB/1000,'Value of RB in kOhm');\n",
"//Part (ii)\n",
"Beta=50;//unitless\n",
"IB=(VCC-VBE)/(RB+Beta*RC);//in mA\n",
"IC=Beta*IB;//in Ampere\n",
"VCE=VCC-IC*RC;//in volt\n",
"disp('New operating point is ('+string(VCE)+'V,'+string(IC*10^3)+'mA)');"
   ]
   }
,
{
		   "cell_type": "markdown",
		   "metadata": {},
		   "source": [
			"## Example 2.15: Value_of_IC.sce"
		   ]
		  },
  {
"cell_type": "code",
	   "execution_count": null,
	   "metadata": {
	    "collapsed": true
	   },
	   "outputs": [],
"source": [
"//Exa 2.15\n",
"clc;\n",
"clear;\n",
"close;\n",
"//Given data :\n",
"R1=50;//in kohm\n",
"R2=10;//in kohm\n",
"RE=1;//in kohm\n",
"VCC=12;//in volt\n",
"//Prt (i)\n",
"VBE=0.1;//in volt\n",
"VBBdash=(R2/(R1+R2))*VCC;//in volt\n",
"IC1=(VBBdash-VBE)/(RE*1000);//in mA\n",
"disp(IC1*1000,'At VBE=0.1V, Value of IC in mA : ');\n",
"//Part (ii)\n",
"VBE=0.3;//in volt\n",
"IC2=(VBBdash-VBE)/(RE*1000);//in mA\n",
"disp(IC2*1000,'At VBE=0.3V, Value of IC in mA : ');"
   ]
   }
,
{
		   "cell_type": "markdown",
		   "metadata": {},
		   "source": [
			"## Example 2.16: Operating_point_and_stability_factor.sce"
		   ]
		  },
  {
"cell_type": "code",
	   "execution_count": null,
	   "metadata": {
	    "collapsed": true
	   },
	   "outputs": [],
"source": [
"//Exa 2.16\n",
"clc;\n",
"clear;\n",
"close;\n",
"//Given data : \n",
"R1=10;//in kohm\n",
"R2=5;//in kohm\n",
"RE=2;//in kohm\n",
"RC=1;//in kohm\n",
"VCC=12;//in volt\n",
"Beta=100;//unitless\n",
"VBE=0.7;//in volt\n",
"//Part (i)\n",
"//Formula : VBE=VBBdash-IB*RBdash-IE*RE\n",
"disp('IB is ver small : VBE=VBBdash-IE*RE');\n",
"VBBdash=(R2/(R1+R2))*VCC;//in volt\n",
"IE=(VBBdash-VBE)/(RE*10^3);//in Ampere\n",
"disp('As base current is very small IC=IE');\n",
"IC=IE;//in mA\n",
"//Formul : VCC=IC*RC+VCE+IE*RE\n",
"VCE=VCC-IC*RC*10^3-IE*RE*10^3;//in Volt\n",
"disp('Operating point is ('+string(VCE)+'V,'+string(IC*10^3)+'mA)');\n",
"//Part (ii)\n",
"RBdash=(R1*R2/(R1+R2));//in kOhm\n",
"S=(Beta+1)/(1+Beta*(RE/(RBdash+RE)));\n",
"disp('Staility factor S is : '+string(S));"
   ]
   }
,
{
		   "cell_type": "markdown",
		   "metadata": {},
		   "source": [
			"## Example 2.17: IC_and_VCE.sce"
		   ]
		  },
  {
"cell_type": "code",
	   "execution_count": null,
	   "metadata": {
	    "collapsed": true
	   },
	   "outputs": [],
"source": [
"//Exa 2.17\n",
"clc;\n",
"clear;\n",
"close;\n",
"//Given data : \n",
"R1=200;//in kohm\n",
"R2=100;//in kohm\n",
"RE=1;//in kohm\n",
"RC=1;//in kohm\n",
"VCC=9;//in volt\n",
"he=2;//in kohm\n",
"hfe=100;//unitless\n",
"hoe=0;//unitless\n",
"hre=0;//unitless\n",
"VBE=0.7;//in volt(For Si)\n",
"//Part (i)\n",
"RB=R1*R2/(R1+R2);//in kohm\n",
"VBBdash=(R2/(R1+R2))*VCC;//in volt\n",
"//Applying Kirchoff Law \n",
"IB=(VBBdash-VBE)/(RB*10^3+RE*10^3*(1+hfe));//in Ampere\n",
"IC=hfe*IB;//in Ampere\n",
"disp(IC*10^3,'Value of IC in mA : ');\n",
"//Part (ii)\n",
"//Applying Kirchoff Law \n",
"VCE=VCC-IC*RC*10^3-RE*1063*IB*(hfe+1);//in volt\n",
"disp(VCE,'VCE in volt :');\n",
"//Note : Ans of VCE is wrong in the book as VCC=10 V has been taken instead of 9 volt."
   ]
   }
,
{
		   "cell_type": "markdown",
		   "metadata": {},
		   "source": [
			"## Example 2.18: Region_of_Q_point.sce"
		   ]
		  },
  {
"cell_type": "code",
	   "execution_count": null,
	   "metadata": {
	    "collapsed": true
	   },
	   "outputs": [],
"source": [
"//Exa 2.18\n",
"clc;\n",
"clear;\n",
"close;\n",
"//Given data : \n",
"RB=50;//in kohm\n",
"RC=3;//in kohm\n",
"VCC=10;//in volt\n",
"VEE=5;//in volt\n",
"hfe=100;//unitless\n",
"VCEsat=0.2;//in volt\n",
"VBEsat=0.8;//in volt\n",
"VBEactive=0.7;//in volt\n",
"VBE=0.7;//in volt(For Si)\n",
"//Applying \n",
"IB=(VEE-VBE)/(RB*10^3);//in Ampere: Kirchoff 2nd Law : VEE-RB*IB-VBE=0\n",
"IC=hfe*IB;//in Ampere \n",
"VCB=VCC-IC*RC*10^3-VBEactive;//in volt: //Applying Kirchoff 2nd Law to collector-emitter loop: VCC-IC*RC-VCB-VBEactive=0\n",
"disp(VCB,'Collector to base voltage, VCB(in V) :');\n",
"disp('This shows that the base collector junction is forward biased. This implies that the transistor is in saturation region.');\n",
"IB=(VEE-VBEsat)/(RB*10^3);//in Ampere\n",
"disp(IB*10^3,'Value of IB in mA :');\n",
"IC=(VCC-VCEsat)/(RC*10^3);\n",
"disp(IC*10^3,'Value of IC in mA :');"
   ]
   }
,
{
		   "cell_type": "markdown",
		   "metadata": {},
		   "source": [
			"## Example 2.19: Voltage_across_RE.sce"
		   ]
		  },
  {
"cell_type": "code",
	   "execution_count": null,
	   "metadata": {
	    "collapsed": true
	   },
	   "outputs": [],
"source": [
"//Exa 2.19\n",
"clc;\n",
"clear;\n",
"close;\n",
"//Given data : \n",
"VCC=20;//in volt\n",
"VBE=0.7;//in volt(For Si)\n",
"Beta=50;//unitless\n",
"RE=200;//in ohm\n",
"R1=60;//in kohm\n",
"R2=30;//in kohm\n",
"V2=VCC*R2/(R1+R2);//in volt\n",
"VEO=V2-VBE;//in volt\n",
"disp(VEO,'Voltage across RE in volt : ');"
   ]
   }
,
{
		   "cell_type": "markdown",
		   "metadata": {},
		   "source": [
			"## Example 2.1: Current_amplification_factors.sce"
		   ]
		  },
  {
"cell_type": "code",
	   "execution_count": null,
	   "metadata": {
	    "collapsed": true
	   },
	   "outputs": [],
"source": [
"//Exa 2.1\n",
"clc;\n",
"clear;\n",
"close;\n",
"//Given data\n",
"deltaIB=50;//in uA\n",
"deltaIC=1;//in mA\n",
"deltaIC=deltaIC*10^3;//in uA\n",
"Beta=deltaIC/deltaIB;//unitless\n",
"disp(Beta,'Current Amplification Factor,Beta :');\n",
"Alfa=Beta/(1+Beta);//unittless\n",
"disp('Current Amplification Factor,Alfa :'+string(Alfa)+' or 20/21');"
   ]
   }
,
{
		   "cell_type": "markdown",
		   "metadata": {},
		   "source": [
			"## Example 2.2: Value_of_IE.sce"
		   ]
		  },
  {
"cell_type": "code",
	   "execution_count": null,
	   "metadata": {
	    "collapsed": true
	   },
	   "outputs": [],
"source": [
"//Exa 2.2\n",
"clc;\n",
"clear;\n",
"close;\n",
"//Given data\n",
"IB=25;//in uA\n",
"Beta=40;//unitless\n",
"IC=Beta*IB;//in uA\n",
"IE=IB+IC;//in uA\n",
"disp('The value of IE :'+string(IE)+' micro Ampere');"
   ]
   }
,
{
		   "cell_type": "markdown",
		   "metadata": {},
		   "source": [
			"## Example 2.3: Change_in_collector_current.sce"
		   ]
		  },
  {
"cell_type": "code",
	   "execution_count": null,
	   "metadata": {
	    "collapsed": true
	   },
	   "outputs": [],
"source": [
"//Exa 2.3\n",
"clc;\n",
"clear;\n",
"close;\n",
"//Given data\n",
"alfa=0.98;//unitless\n",
"deltaIB=0.2;//in mA\n",
"Beta=alfa/(1-alfa);//unitless\n",
"deltaIC=Beta*deltaIB;//in mA\n",
"disp('Change in collector curent : '+string(deltaIC)+' milli Ampere.');"
   ]
   }
,
{
		   "cell_type": "markdown",
		   "metadata": {},
		   "source": [
			"## Example 2.4: Input_current_in_CE_and_CB_configuration.sce"
		   ]
		  },
  {
"cell_type": "code",
	   "execution_count": null,
	   "metadata": {
	    "collapsed": true
	   },
	   "outputs": [],
"source": [
"//Exa 2.4\n",
"clc;\n",
"clear;\n",
"close;\n",
"//Given data\n",
"Beta=45;//unitless\n",
"RL=1;//in kOhm\n",
"deltaVCE=1;//in volt\n",
"disp('Part (i) : CE coniguration');\n",
"IC=deltaVCE/(RL*1000);//in Ampere\n",
"//Formula : Beta=deltaIC/deltaIB\n",
"IB=IC/Beta;//in Ampere\n",
"disp('Input Base Current, IB in mA : '+string(IB*10^3));\n",
"disp('Part (ii) : CB coniguration');\n",
"IC=deltaVCE/(RL*1000);//in Ampere\n",
"//Formula : Beta=deltaIC/deltaIB\n",
"IE=IB+IC;//in Ampere\n",
"disp('Input Emitter Current, IE in mA : '+string(IE*10^3));"
   ]
   }
,
{
		   "cell_type": "markdown",
		   "metadata": {},
		   "source": [
			"## Example 2.5: Current_gain_and_base_current.sce"
		   ]
		  },
  {
"cell_type": "code",
	   "execution_count": null,
	   "metadata": {
	    "collapsed": true
	   },
	   "outputs": [],
"source": [
"//Exa 2.5\n",
"clc;\n",
"clear;\n",
"close;\n",
"//Given data\n",
"Ileakage=12.5;//in uA\n",
"ICBO=12.5;//in uA\n",
"IE=2;//in mA\n",
"IC=1.97;//in mA\n",
"//Formula : IC=alfa*IE+ICBO\n",
"alfa=(IC-ICBO/10^3)/IE;//unitless\n",
"disp(alfa,'Current Gain : ');\n",
"IB=IE-IC;//in mA\n",
"disp(IB,'Base current in mA : ');"
   ]
   }
,
{
		   "cell_type": "markdown",
		   "metadata": {},
		   "source": [
			"## Example 2.6: Input_resistance_of_transistor.sce"
		   ]
		  },
  {
"cell_type": "code",
	   "execution_count": null,
	   "metadata": {
	    "collapsed": true
	   },
	   "outputs": [],
"source": [
"//Exa 2.6\n",
"clc;\n",
"clear;\n",
"close;\n",
"//Given data\n",
"deltaVBE=200;//in mVolt\n",
"deltaIB=100;//in uA\n",
"ri=deltaVBE*10^-3/(deltaIB*10^-6);//in Ohm\n",
"disp(ri/1000,'Input resistane of transistor in kohm :');"
   ]
   }
,
{
		   "cell_type": "markdown",
		   "metadata": {},
		   "source": [
			"## Example 2.7: Dynamic_input_resistance.sce"
		   ]
		  },
  {
"cell_type": "code",
	   "execution_count": null,
	   "metadata": {
	    "collapsed": true
	   },
	   "outputs": [],
"source": [
"//Exa 2.7\n",
"clc;\n",
"clear;\n",
"close;\n",
"//Given data\n",
"deltaVEB=200;//in mVolt\n",
"deltaIE=5;//in mA\n",
"ri=deltaVEB*10^-3/(deltaIE*10^-3);//in Ohm\n",
"disp(ri,'Input resistane of transistor in Ohm :');"
   ]
   }
,
{
		   "cell_type": "markdown",
		   "metadata": {},
		   "source": [
			"## Example 2.9: Current_gain_input_resistance_and_voltage_gain.sce"
		   ]
		  },
  {
"cell_type": "code",
	   "execution_count": null,
	   "metadata": {
	    "collapsed": true
	   },
	   "outputs": [],
"source": [
"//Exa 2.9\n",
"clc;\n",
"clear;\n",
"close;\n",
"//Given data\n",
"format('v',10);\n",
"Ri=500;//in Ohm\n",
"RL=1;//in kOhm\n",
"hie=1;//in kOhm\n",
"hre=2*10^-4;//unitless\n",
"hfe=50;//unitless\n",
"hoe=25;//micro mho\n",
"//Part (a) :\n",
"Ai=-hfe/(1+hoe*10^-6*RL*10^3);//unitless\n",
"disp(Ai,'Current Gain : ');\n",
"//Part (b) :\n",
"Rin=hie*10^3-(hre*hfe/(hoe*10^-6+1/RL*10^3));//in Ohm\n",
"disp(Rin,'Input Resistance in Ohm :');\n",
"//Part (c) :\n",
"Av=Ai*RL*10^3/Ri;//unitless\n",
"disp(Av,'Voltage Gain : ');"
   ]
   }
],
"metadata": {
		  "kernelspec": {
		   "display_name": "Scilab",
		   "language": "scilab",
		   "name": "scilab"
		  },
		  "language_info": {
		   "file_extension": ".sce",
		   "help_links": [
			{
			 "text": "MetaKernel Magics",
			 "url": "https://github.com/calysto/metakernel/blob/master/metakernel/magics/README.md"
			}
		   ],
		   "mimetype": "text/x-octave",
		   "name": "scilab",
		   "version": "0.7.1"
		  }
		 },
		 "nbformat": 4,
		 "nbformat_minor": 0
}
