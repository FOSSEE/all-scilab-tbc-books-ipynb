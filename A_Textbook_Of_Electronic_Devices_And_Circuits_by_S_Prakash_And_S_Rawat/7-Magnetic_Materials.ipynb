{
"cells": [
 {
		   "cell_type": "markdown",
	   "metadata": {},
	   "source": [
       "# Chapter 7: Magnetic Materials"
	   ]
	},
{
		   "cell_type": "markdown",
		   "metadata": {},
		   "source": [
			"## Example 7.1: Horizontal_component_of_magnetic_Intensity.sce"
		   ]
		  },
  {
"cell_type": "code",
	   "execution_count": null,
	   "metadata": {
	    "collapsed": true
	   },
	   "outputs": [],
"source": [
"//Exa 7.1\n",
"clc;\n",
"clear;\n",
"close;\n",
"//Given data\n",
"Bo=1.7*10^-5;//in weber/m^2\n",
"meu_o=4*%pi*10^-7;//permeability of free space in weber/amp-meter\n",
"H=Bo/meu_o;//in A/m\n",
"disp(H,'Horizontal component of magnetic filed intensity in A/m : ');"
   ]
   }
,
{
		   "cell_type": "markdown",
		   "metadata": {},
		   "source": [
			"## Example 7.2: Current_through_solenoid.sce"
		   ]
		  },
  {
"cell_type": "code",
	   "execution_count": null,
	   "metadata": {
	    "collapsed": true
	   },
	   "outputs": [],
"source": [
"//Exa 7.2\n",
"clc;\n",
"clear;\n",
"close;\n",
"//Given data\n",
"H=5*10^3;//in Ampere-turns/m\n",
"l=10;//in cm\n",
"l=l*10^-2;//in meter\n",
"N=50;//no. of turns\n",
"n=N/l;//no. of turns per unit length\n",
"//Formula : H=n*i\n",
"i=H/n;//in Ampere\n",
"disp(i,'Current should be sent through solenoid in Ampere : ');"
   ]
   }
,
{
		   "cell_type": "markdown",
		   "metadata": {},
		   "source": [
			"## Example 7.3: Magnetic_moment_of_rod.sce"
		   ]
		  },
  {
"cell_type": "code",
	   "execution_count": null,
	   "metadata": {
	    "collapsed": true
	   },
	   "outputs": [],
"source": [
"//Exa 7.3\n",
"clc;\n",
"clear;\n",
"close;\n",
"//Given data\n",
"meu_r=1000;//relative permeability\n",
"n=5;//turns/cm\n",
"n=n*10^2;//turns/meter\n",
"i=0.5;//in Ampere\n",
"Volume=10^-4;//in m^3\n",
"I=(meu_r-1)*n*i;//in Ampere\n",
"MagneticMoment=I*Volume;//in Ameter^2\n",
"disp(round(MagneticMoment),'Magnetic moment of the rod in Ampere-meter^2 : ');"
   ]
   }
,
{
		   "cell_type": "markdown",
		   "metadata": {},
		   "source": [
			"## Example 7.4: Flux_density_magnetic_intensity_and_permeability.sce"
		   ]
		  },
  {
"cell_type": "code",
	   "execution_count": null,
	   "metadata": {
	    "collapsed": true
	   },
	   "outputs": [],
"source": [
"//Exa 7.4\n",
"clc;\n",
"clear;\n",
"close;\n",
"//Given data\n",
"l=30;//in cm\n",
"l=l*10^-2;//in meter\n",
"A=1;//in cm^2\n",
"A=A*10^-4;//in meter^2\n",
"N=300;//turns of wire\n",
"i=0.032;//in Ampere\n",
"FI_B=2*10^-6;//in weber\n",
"meu_o=4*%pi*10^-7;//permeability of free space in weber/amp-meter\n",
"B=FI_B/A;//in weber/meter^2\n",
"disp(B,'Flux Density in weber/meter^2 : ');\n",
"H=N*i/l;//in amp-turn/meter\n",
"disp(H,'magnetic Intensity in amp-turn/meter : ');\n",
"meu=B/H;//in weber/Amp-meter\n",
"disp(meu,'Permeability in weber/amp-meter :');\n",
"meu_r=meu/meu_o;//Relative Permeability\n",
"disp(meu_r,'Relative Permeability : ');\n",
"//Answer of relative permeability is wrong in the book."
   ]
   }
,
{
		   "cell_type": "markdown",
		   "metadata": {},
		   "source": [
			"## Example 7.5: Relative_Permeability.sce"
		   ]
		  },
  {
"cell_type": "code",
	   "execution_count": null,
	   "metadata": {
	    "collapsed": true
	   },
	   "outputs": [],
"source": [
"//Exa 7.5\n",
"clc;\n",
"clear;\n",
"close;\n",
"//Given data\n",
"format('v',15);\n",
"Xci_m=9.48*10^-9;//usceptibility of medium(unitless)\n",
"meu_r=1+Xci_m;//relative permeability(unitless)\n",
"disp(meu_r,'Relative Permeability : ');\n",
"disp('i.e, Relative Permeability is sligtly greater than 1.');"
   ]
   }
,
{
		   "cell_type": "markdown",
		   "metadata": {},
		   "source": [
			"## Example 7.6: Magnetising_Force_and_material_magnetisation.sce"
		   ]
		  },
  {
"cell_type": "code",
	   "execution_count": null,
	   "metadata": {
	    "collapsed": true
	   },
	   "outputs": [],
"source": [
"//Exa 7.6\n",
"clc;\n",
"clear;\n",
"close;\n",
"//Given data\n",
"n=10;//turns/cm\n",
"n=n*10^2;//turns/meter\n",
"i=2;//in Ampere\n",
"B=1;//in weber/meter^2\n",
"meu_o=4*%pi*10^-7;//permeability of free space in weber/amp-meter\n",
"H=n*i;//in amp-turn/meter\n",
"disp(H,'Magnetising Force in amp-turn/meter : ');0\n",
"//Formula : B=meu_o*(H+I)\n",
"I=B/meu_o-H;//in amp-turn/meter\n",
"disp(I,'Magnetisation of material in amp-turn/meter :');\n",
"meu_r=B/(meu_o*H);//relative permeability(unitless)\n",
"disp(meu_r,'Relative Permeability : ');"
   ]
   }
],
"metadata": {
		  "kernelspec": {
		   "display_name": "Scilab",
		   "language": "scilab",
		   "name": "scilab"
		  },
		  "language_info": {
		   "file_extension": ".sce",
		   "help_links": [
			{
			 "text": "MetaKernel Magics",
			 "url": "https://github.com/calysto/metakernel/blob/master/metakernel/magics/README.md"
			}
		   ],
		   "mimetype": "text/x-octave",
		   "name": "scilab",
		   "version": "0.7.1"
		  }
		 },
		 "nbformat": 4,
		 "nbformat_minor": 0
}
