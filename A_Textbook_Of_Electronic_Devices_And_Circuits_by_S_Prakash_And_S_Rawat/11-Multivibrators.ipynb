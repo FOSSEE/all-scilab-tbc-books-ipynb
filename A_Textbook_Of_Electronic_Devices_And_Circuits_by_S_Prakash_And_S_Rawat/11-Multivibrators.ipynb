{
"cells": [
 {
		   "cell_type": "markdown",
	   "metadata": {},
	   "source": [
       "# Chapter 11: Multivibrators"
	   ]
	},
{
		   "cell_type": "markdown",
		   "metadata": {},
		   "source": [
			"## Example 11.1: Frequency_of_Oscillators.sce"
		   ]
		  },
  {
"cell_type": "code",
	   "execution_count": null,
	   "metadata": {
	    "collapsed": true
	   },
	   "outputs": [],
"source": [
"//Exa 11.1\n",
"clc;\n",
"clear;\n",
"close;\n",
"//Given data\n",
"R1=15;//in kohm\n",
"R2=15;//in kohm\n",
"C1=0.005;//in uF\n",
"C2=0.005;//in uF\n",
"R=R1;//in Kohm\n",
"C=C1;//in uF\n",
"T=0.69*(R*10^3*C*10^-6+R*10^3*C*10^-6);//in second\n",
"f=1/T;//in Hz\n",
"disp(f*10^-3,'Frequency of oscillators in KHz : ');"
   ]
   }
],
"metadata": {
		  "kernelspec": {
		   "display_name": "Scilab",
		   "language": "scilab",
		   "name": "scilab"
		  },
		  "language_info": {
		   "file_extension": ".sce",
		   "help_links": [
			{
			 "text": "MetaKernel Magics",
			 "url": "https://github.com/calysto/metakernel/blob/master/metakernel/magics/README.md"
			}
		   ],
		   "mimetype": "text/x-octave",
		   "name": "scilab",
		   "version": "0.7.1"
		  }
		 },
		 "nbformat": 4,
		 "nbformat_minor": 0
}
