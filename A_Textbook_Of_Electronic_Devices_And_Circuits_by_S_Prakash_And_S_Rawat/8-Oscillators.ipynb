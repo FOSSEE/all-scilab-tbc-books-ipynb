{
"cells": [
 {
		   "cell_type": "markdown",
	   "metadata": {},
	   "source": [
       "# Chapter 8: Oscillators"
	   ]
	},
{
		   "cell_type": "markdown",
		   "metadata": {},
		   "source": [
			"## Example 8.10: Parallel_and_series_resonant_frequencies.sce"
		   ]
		  },
  {
"cell_type": "code",
	   "execution_count": null,
	   "metadata": {
	    "collapsed": true
	   },
	   "outputs": [],
"source": [
"//Exa 8.10\n",
"clc;\n",
"clear;\n",
"close;\n",
"//Given data :\n",
"L=0.5;//in H\n",
"C=0.05;//in pF\n",
"R=1;//in kohm\n",
"Cm=1;//in pF\n",
"fs=1/(2*%pi*sqrt(L*C*10^-12));//in Hz\n",
"disp(fs/10^6,'Series resonant frequency in MHz :');\n",
"fp=1/(2*%pi*sqrt((L*C*10^-12*Cm*10^-12)/(C*10^-12+Cm*10^-12)));//in Hz\n",
"disp(fp/10^6,'Parallel resonant frequency in MHz :');"
   ]
   }
,
{
		   "cell_type": "markdown",
		   "metadata": {},
		   "source": [
			"## Example 8.1: feed_bck_factor.sce"
		   ]
		  },
  {
"cell_type": "code",
	   "execution_count": null,
	   "metadata": {
	    "collapsed": true
	   },
	   "outputs": [],
"source": [
"//Exa 8.1\n",
"clc;\n",
"clear;\n",
"close;\n",
"//Given data\n",
"A=50;//unitless\n",
"disp('Barkhausen criterion for oscillator : Beta*A=1');\n",
"Beta=1/A;//unitless\n",
"disp(Beta,'Feedback Factor to make oscillator : ');"
   ]
   }
,
{
		   "cell_type": "markdown",
		   "metadata": {},
		   "source": [
			"## Example 8.2: Range_of_variable_capacitor.sce"
		   ]
		  },
  {
"cell_type": "code",
	   "execution_count": null,
	   "metadata": {
	    "collapsed": true
	   },
	   "outputs": [],
"source": [
"//Exa 8.2\n",
"clc;\n",
"clear;\n",
"close;\n",
"//Given data\n",
"format('v',5);\n",
"L=100;//in uH\n",
"L=L*10^-6;//in H\n",
"f1=500;//in kHz\n",
"f1=f1*10^3;//in Hz\n",
"f2=1500;//in kHz\n",
"f2=f2*10^3;//in Hz\n",
"//Formula : f=1/(2*%pi*sqrt(L*C))\n",
"C1=1/(4*%pi^2*f1^2*L);//in F\n",
"C2=1/(4*%pi^2*f2^2*L);//in F\n",
"disp('Range of capacitor : '+string(C2*10^12)+' pF to '+string(C1*10^12)+' pF');"
   ]
   }
,
{
		   "cell_type": "markdown",
		   "metadata": {},
		   "source": [
			"## Example 8.3: C2_of_colpitt_oscilator.sce"
		   ]
		  },
  {
"cell_type": "code",
	   "execution_count": null,
	   "metadata": {
	    "collapsed": true
	   },
	   "outputs": [],
"source": [
"//Exa 8.3\n",
"clc;\n",
"clear;\n",
"close;\n",
"//Given data\n",
"format('v',9);\n",
"L=100;//in mH\n",
"L=L*10^-3;//in H\n",
"C1=0.1;//in uF\n",
"C1=C1*10^-6;//in F\n",
"f=100;//in kHz\n",
"f=f*10^3;//in Hz\n",
"//Formula : f=1/(2*%pi*sqrt(L*C))\n",
"C=1/(4*%pi^2*f^2*L);//in F\n",
"//Formula : C=C1*C2/(C1+C2)\n",
"C2=C*C1/(C1-C);\n",
"disp(C2,'C2 in micro farad : ');\n",
"//Note : Answer in the book is wrong."
   ]
   }
,
{
		   "cell_type": "markdown",
		   "metadata": {},
		   "source": [
			"## Example 8.4: Frequency_of_oscillation.sce"
		   ]
		  },
  {
"cell_type": "code",
	   "execution_count": null,
	   "metadata": {
	    "collapsed": true
	   },
	   "outputs": [],
"source": [
"//Exa 8.4\n",
"clc;\n",
"clear;\n",
"close;\n",
"//Given data\n",
"R=100;//in kOhm\n",
"R=R*10^3;//in Ohm\n",
"C=0.01;//in uF\n",
"C=C*10^-6;//in F\n",
"fo=sqrt(6)/(2*%pi*R*C);//in Hz\n",
"disp(fo,'Frequency of oscillation in Hz : ');\n",
"//Note : Answer in the book is not accurate."
   ]
   }
,
{
		   "cell_type": "markdown",
		   "metadata": {},
		   "source": [
			"## Example 8.5: Amplifier_voltage_gai.sce"
		   ]
		  },
  {
"cell_type": "code",
	   "execution_count": null,
	   "metadata": {
	    "collapsed": true
	   },
	   "outputs": [],
"source": [
"//Exa 8.5\n",
"clc;\n",
"clear;\n",
"close;\n",
"//Given data\n",
"disp('Put alfa=sqrt(6) to find the gain');\n",
"alfa=sqrt(6);//unitless\n",
"Beta=1/(1-5*alfa^2);\n",
"//Barkhausen critera : A*|Beta|>=1\n",
"Beta=-Beta;//\n",
"A=1/Beta;//unitless\n",
"disp(A,'Minimum Gain of Amplifier must be  : ');"
   ]
   }
,
{
		   "cell_type": "markdown",
		   "metadata": {},
		   "source": [
			"## Example 8.6: Frequency_of_oscillation_and_min_current_gain.sce"
		   ]
		  },
  {
"cell_type": "code",
	   "execution_count": null,
	   "metadata": {
	    "collapsed": true
	   },
	   "outputs": [],
"source": [
"//Exa 8.6\n",
"clc;\n",
"clear;\n",
"close;\n",
"//Given data :\n",
"R1=50;//in kohm\n",
"R1=R1*10^3;//in ohm\n",
"C1=0.001;//in uF\n",
"C1=C1*10^-6;//in F\n",
"R2=1;//in kohm\n",
"R2=R2*10^3;//in ohm\n",
"C2=0.01;//in uF\n",
"C2=C2*10^-6;//in F\n",
"//Part (i)\n",
"//Formula : f=1/(2*%pi*sqrt(C1*C2*R1*R2))\n",
"f=1/(2*%pi*sqrt(C1*C2*R1*R2));//in Hz\n",
"disp(f/1000,'Frequency of oscillations in kHz : ');\n",
"//Part (ii)\n",
"CurrentGain=1+C2/C1+R1/R2;//unitless\n",
"disp(CurrentGain,'Current Gain : ');"
   ]
   }
,
{
		   "cell_type": "markdown",
		   "metadata": {},
		   "source": [
			"## Example 8.7: Resistnce_to_cover_frequency_range.sce"
		   ]
		  },
  {
"cell_type": "code",
	   "execution_count": null,
	   "metadata": {
	    "collapsed": true
	   },
	   "outputs": [],
"source": [
"//Exa 8.7\n",
"clc;\n",
"clear;\n",
"close;\n",
"//Given data :\n",
"fmin=20;//in Hz\n",
"fmax=20;//in kHz\n",
"Cmin=30;//in pF\n",
"Cmax=300;//in pF\n",
"//Formula : fo=1/(2*%pi*R*C))\n",
"disp('Minimum Fequeny correspond to maximum capacitance.')\n",
"R=1/(2*%pi*fmin*Cmax*10^-12)\n",
"disp(R/10^6,'Required resistance in Mohm : ');"
   ]
   }
,
{
		   "cell_type": "markdown",
		   "metadata": {},
		   "source": [
			"## Example 8.8: Resonant_Frequency.sce"
		   ]
		  },
  {
"cell_type": "code",
	   "execution_count": null,
	   "metadata": {
	    "collapsed": true
	   },
	   "outputs": [],
"source": [
"//Exa 8.8\n",
"clc;\n",
"clear;\n",
"close;\n",
"//Given data :\n",
"f=500;//in kHz\n",
"T1=50;//in degree C\n",
"T2=60;//in degree C\n",
"TC=-20;//in ppm/degree C\n",
"ChangeInFreq=TC*(f*10^-3)*(T1-T2);//in Hz\n",
"ResonantFreq=f*1000-ChangeInFreq;//in Hz\n",
"disp(ResonantFreq/1000,'Resonant frequency in kHz : ');\n",
"//Note : answer in the book is wrong."
   ]
   }
,
{
		   "cell_type": "markdown",
		   "metadata": {},
		   "source": [
			"## Example 8.9: Resonant_Frequency.sce"
		   ]
		  },
  {
"cell_type": "code",
	   "execution_count": null,
	   "metadata": {
	    "collapsed": true
	   },
	   "outputs": [],
"source": [
"//Exa 8.9\n",
"clc;\n",
"clear;\n",
"close;\n",
"//Given data :\n",
"f=450;//in kHz\n",
"T1=30;//in degree C\n",
"T2=50;//in degree C\n",
"TC=-10;//in ppm/degree C\n",
"PercentChange=-TC*100/10^6;//in %\n",
"TotalChangeInFreq=(PercentChange/100)*(f*10^3)*(T2-T1);//in Hz\n",
"ResonantFreq=f*1000-TotalChangeInFreq;//in Hz\n",
"disp(ResonantFreq/1000,'Resonant frequency in kHz : ');\n",
"//Note : answer in the book is wrong."
   ]
   }
,
{
		   "cell_type": "markdown",
		   "metadata": {},
		   "source": [
			"## Example 8.m_1: Value_of_L1.sce"
		   ]
		  },
  {
"cell_type": "code",
	   "execution_count": null,
	   "metadata": {
	    "collapsed": true
	   },
	   "outputs": [],
"source": [
"//Exa Misc 8.1\n",
"clc;\n",
"clear;\n",
"close;\n",
"//given data\n",
"format('v',5);\n",
"L2=0.4;//in mH\n",
"C=0.004;//in µF\n",
"f=120;//in KHz\n",
"L1=1/(4*%pi^2*(f*10^3)^2*C*10^-6)-L2*10^-3;//in H\n",
"disp(L1*10^3,'Value of L1(in mH) :');"
   ]
   }
,
{
		   "cell_type": "markdown",
		   "metadata": {},
		   "source": [
			"## Example 8.m_2: Value_of_C_and_hfe.sce"
		   ]
		  },
  {
"cell_type": "code",
	   "execution_count": null,
	   "metadata": {
	    "collapsed": true
	   },
	   "outputs": [],
"source": [
"//Exa Misc 8.2\n",
"clc;\n",
"clear;\n",
"close;\n",
"//given data\n",
"format('v',6);\n",
"fo=10;//in KHz\n",
"R1=25;//in kohm\n",
"R2=60;//in kohm\n",
"Rc=40;//in kohm\n",
"R=7.1;//in kohm\n",
"hie=1.8;//in kohm\n",
"C=1/(2*%pi*fo*10^3*R*10^3*sqrt(6+4*Rc/R));//in F\n",
"disp(C*10^9,'Value of Capacitor(in nF) :');\n",
"hfe=23+29*R/Rc+4*Rc/R;//unitless\n",
"disp('Value of hfe is ≥ '+string(hfe));"
   ]
   }
,
{
		   "cell_type": "markdown",
		   "metadata": {},
		   "source": [
			"## Example 8.m_3: Value_of_Capacitor.sce"
		   ]
		  },
  {
"cell_type": "code",
	   "execution_count": null,
	   "metadata": {
	    "collapsed": true
	   },
	   "outputs": [],
"source": [
"//Exa Misc 8.3\n",
"clc;\n",
"clear;\n",
"close;\n",
"//given data\n",
"format('v',5);\n",
"R=100;//in kohm\n",
"fo=10;//in KHz\n",
"C=1/(2*%pi*fo*10^3*R*10^3);//in F\n",
"disp(C*10^12,'Value of Capacitor(in pF) :');"
   ]
   }
,
{
		   "cell_type": "markdown",
		   "metadata": {},
		   "source": [
			"## Example 8.m_4: Various_parameter_of_colpitt_oscillator.sce"
		   ]
		  },
  {
"cell_type": "code",
	   "execution_count": null,
	   "metadata": {
	    "collapsed": true
	   },
	   "outputs": [],
"source": [
"//Exa Misc 8.4\n",
"clc;\n",
"clear;\n",
"close;\n",
"//given data\n",
"format('v',5);\n",
"L=40;//in mH\n",
"C1=100;//in pF\n",
"C2=500;//in pF\n",
"Vout=10;//in volt\n",
"fo=1/(2*%pi*sqrt(L*10^-3*C1*10^-12*C2*10^-12/(C1*10^-12+C2*10^-12)))\n",
"disp(fo*10^-3,'Frequency of oscillation (in KHz) :');\n",
"Vf=Vout*C1/C2;//in volt\n",
"disp(Vf,'Feedback voltage in volt :');\n",
"Gain=C2/C1;//unitless\n",
"disp(Gain,'Minimum Gain is ');\n",
"//if Gain=10\n",
"Gain=10;//given\n",
"C1=C2/Gain;//in pF\n",
"disp(C1,'For a gain of 10 C1 in pF is :');\n",
"fo=1/(2*%pi*sqrt(L*10^-3*C1*10^-12*C2*10^-12/(C1*10^-12+C2*10^-12)))\n",
"disp(fo*10^-3,'New frequency of oscillation (in KHz) :');"
   ]
   }
,
{
		   "cell_type": "markdown",
		   "metadata": {},
		   "source": [
			"## Example 8.m_5: Resonant_frequencies_and_Q_factor.sce"
		   ]
		  },
  {
"cell_type": "code",
	   "execution_count": null,
	   "metadata": {
	    "collapsed": true
	   },
	   "outputs": [],
"source": [
"//Exa Misc 8.5\n",
"clc;\n",
"clear;\n",
"close;\n",
"//given data\n",
"format('v',6);\n",
"L=0.5;//in H\n",
"Cs=0.06;//in pF\n",
"Cp=1;//in pF\n",
"R=5;//in Kohm\n",
"fs=1/(2*%pi*sqrt(L*Cs*10^-12));//in Hz\n",
"Q=2*%pi*fs*L/(R*10^3);//Q-factor\n",
"disp(fs/10^3,'Seies resonance frequency(in KHz)')\n",
"disp(round(Q),'Q-factor f the crystal at fs is ');\n",
"fp=(1/(2*%pi))*sqrt((Cs*10^-12+Cp*10^-12)/(L*Cs*10^-12*Cp*10^-12));//in Hz\n",
"Q=2*%pi*fp*L/(R*10^3);//Q-factor\n",
"disp(fp/10^3,'Seies resonance frequency(in KHz)')\n",
"disp(round(Q),'Q-factor f the crystal at fs is ');"
   ]
   }
],
"metadata": {
		  "kernelspec": {
		   "display_name": "Scilab",
		   "language": "scilab",
		   "name": "scilab"
		  },
		  "language_info": {
		   "file_extension": ".sce",
		   "help_links": [
			{
			 "text": "MetaKernel Magics",
			 "url": "https://github.com/calysto/metakernel/blob/master/metakernel/magics/README.md"
			}
		   ],
		   "mimetype": "text/x-octave",
		   "name": "scilab",
		   "version": "0.7.1"
		  }
		 },
		 "nbformat": 4,
		 "nbformat_minor": 0
}
