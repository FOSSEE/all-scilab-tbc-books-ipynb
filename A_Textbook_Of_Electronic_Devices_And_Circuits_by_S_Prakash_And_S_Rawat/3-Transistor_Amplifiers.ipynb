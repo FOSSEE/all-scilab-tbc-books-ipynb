{
"cells": [
 {
		   "cell_type": "markdown",
	   "metadata": {},
	   "source": [
       "# Chapter 3: Transistor Amplifiers"
	   ]
	},
{
		   "cell_type": "markdown",
		   "metadata": {},
		   "source": [
			"## Example 3.10: Turn_ratio_of_transformer.sce"
		   ]
		  },
  {
"cell_type": "code",
	   "execution_count": null,
	   "metadata": {
	    "collapsed": true
	   },
	   "outputs": [],
"source": [
"//Exa 3.10\n",
"clc;\n",
"clear;\n",
"close;\n",
"//Given data : \n",
"ZL=10;//in ohm\n",
"ZP=1000;//in ohm\n",
"//For max power : ZP=n^2*ZL\n",
"n=sqrt(ZP/ZL);//turn ratio\n",
"disp(n,'Turn ratio : ');"
   ]
   }
,
{
		   "cell_type": "markdown",
		   "metadata": {},
		   "source": [
			"## Example 3.11: Collector_efficieny_and_power_rating.sce"
		   ]
		  },
  {
"cell_type": "code",
	   "execution_count": null,
	   "metadata": {
	    "collapsed": true
	   },
	   "outputs": [],
"source": [
"//Exa 3.11\n",
"clc;\n",
"clear;\n",
"close;\n",
"//Given data : \n",
"Po_dc=10;//in watt\n",
"Po_ac=3.5;//in watt\n",
"//Part (i) :\n",
"ETAcollector=Po_ac/Po_dc;//unitless\n",
"ETAcollector=ETAcollector*100;//collector efficiency in %\n",
"disp(ETAcollector,'Collector Efficiency(in %) : ');\n",
"//Part (ii)\n",
"disp(Po_dc,'Zero signal condition represents maximum power loss. Therefore, all the 10 W power is dissipated by it. Hence Powe Rating of transistor in Watt : ')"
   ]
   }
,
{
		   "cell_type": "markdown",
		   "metadata": {},
		   "source": [
			"## Example 3.12: Power_and_effiiency.sce"
		   ]
		  },
  {
"cell_type": "code",
	   "execution_count": null,
	   "metadata": {
	    "collapsed": true
	   },
	   "outputs": [],
"source": [
"//Exa 3.12\n",
"clc;\n",
"clear;\n",
"close;\n",
"//Given data : \n",
"VCC=20;//in volt\n",
"RC=20;//in ohm\n",
"VCEQ=10;//in volt\n",
"ICQ=500;//in mA\n",
"//part (i) :\n",
"Pin_dc=VCC*ICQ*10^-3;//in watt\n",
"disp(Pin_dc,'Total dc power taken by the circuit in Watt : ');\n",
"//part (ii) :\n",
"PRc_dc=ICQ^2*10^-6*RC;//in watt\n",
"disp(PRc_dc,'dc power dissipated by the collector load in Watt : ');\n",
"//part (iii) :\n",
"Io=250;//in mA(maximum value of output ac current)\n",
"Irms=Io/sqrt(2);//in mA\n",
"Po_ac=Irms^2*10^-6*RC;//in watt\n",
"disp(Po_ac,'Power developed across the load in Watt : ');\n",
"//part (iv) :\n",
"Ptr_dc=Pin_dc-PRc_dc;//in watt\n",
"disp(Ptr_dc,'dc power dissipated by the collector load in Watt : ');\n",
"//part (v) :\n",
"PC_dc=Pin_dc-PRc_dc-Po_ac;//in watt\n",
"disp(PC_dc,'dc power dissipated by the collector load in Watt : ');\n",
"//part (vi) :\n",
"ETAoverall=Po_ac*100/Pin_dc;//Overall Efficiency (in %)\n",
"disp(ETAoverall,'Overall Efficiency (in %) :');\n",
"//part (vii) :\n",
"ETAcollector=Po_ac*100/PRc_dc;//Collector Efficiency (in %)\n",
"disp(ETAcollector,'Collector Efficiency (in %) :');"
   ]
   }
,
{
		   "cell_type": "markdown",
		   "metadata": {},
		   "source": [
			"## Example 3.13: Maximum_ac_power_output.sce"
		   ]
		  },
  {
"cell_type": "code",
	   "execution_count": null,
	   "metadata": {
	    "collapsed": true
	   },
	   "outputs": [],
"source": [
"//Exa 3.13\n",
"clc;\n",
"clear;\n",
"close;\n",
"//Given data : \n",
"n=10;//turn ratio\n",
"RL=100;//in ohm\n",
"ICQ=100;//in mA\n",
"RLdash=n^2*RL;//in ohm\n",
"MaxPowerOut=(ICQ*10^-3)^2*RLdash/2;//in watt\n",
"disp(MaxPowerOut,'Maximum Power output in watt : ');"
   ]
   }
,
{
		   "cell_type": "markdown",
		   "metadata": {},
		   "source": [
			"## Example 3.14: Maximum_permissible_power_dissipatio.sce"
		   ]
		  },
  {
"cell_type": "code",
	   "execution_count": null,
	   "metadata": {
	    "collapsed": true
	   },
	   "outputs": [],
"source": [
"//Exa 3.14\n",
"clc;\n",
"clear;\n",
"close;\n",
"//Given data : \n",
"//Part (i) : without heat sink\n",
"ThetaMax=90;//in degree C\n",
"Theta_o=30;//in degree C\n",
"R=300;//in degree C/W\n",
"Pr=(ThetaMax-Theta_o)/R;//in watt\n",
"disp(Pr,'Without heat sink, Maximum permissible power dissipatio in watt :');\n",
"//Part (ii) : with heat sink\n",
"ThetaMax=90;//in degree C\n",
"Theta_o=30;//in degree C\n",
"R=60;//in degree C/W\n",
"Pr=(ThetaMax-Theta_o)/R;//in watt\n",
"disp(Pr,'With heat sink, Maximum permissible power dissipatio in watt :');"
   ]
   }
,
{
		   "cell_type": "markdown",
		   "metadata": {},
		   "source": [
			"## Example 3.1: Gain_Impedence_and_ac_load.sce"
		   ]
		  },
  {
"cell_type": "code",
	   "execution_count": null,
	   "metadata": {
	    "collapsed": true
	   },
	   "outputs": [],
"source": [
"//Exa 3.2\n",
"clc;\n",
"clear;\n",
"close;\n",
"//Given data\n",
"ib=10;//in uA\n",
"ic=1;//in mA\n",
"ic=ic*10^3;//in uA\n",
"vi=0.02;//in Volt\n",
"RC=5;//in kohm\n",
"RL=10;//in kohm\n",
"//Part (i)\n",
"Ai=-ic/ib;//unitless\n",
"Beta=Ai;//unitless\n",
"disp(Ai,'Current gain : ');\n",
"//Part (ii)\n",
"Rie=vi/(ib*10^-6);//in Ohm\n",
"disp(Rie*10^-3,'Input impedence in kohm :');\n",
"//Part (iii)\n",
"Rac=RC*RL/(RC+RL);//in kohm\n",
"disp(Rac,'AC load in kohm : ');\n",
"//Part (iv)\n",
"Av=-Rac*10^3*Beta/Rie;//unitless\n",
"disp(Av,'Voltage gain : ');\n",
"//Part (v)\n",
"PowerGain=Av*Ai;//unitless\n",
"disp(PowerGain,'Power Gain is : ');\n",
"//Note : Ans of Av and Power gain is wrong in the book."
   ]
   }
,
{
		   "cell_type": "markdown",
		   "metadata": {},
		   "source": [
			"## Example 3.2: Gain_input_and_output_impedence.sce"
		   ]
		  },
  {
"cell_type": "code",
	   "execution_count": null,
	   "metadata": {
	    "collapsed": true
	   },
	   "outputs": [],
"source": [
"//Exa 3.2\n",
"clc;\n",
"clear;\n",
"close;\n",
"//Given data\n",
"RL=10;//in kohm\n",
"RS=1;//in kohm\n",
"hie=1.1;//in kOhm\n",
"hre=2.5*10^-4;//unitless\n",
"hfe=50;//unitless\n",
"hoe=25;//in u mho\n",
"Aie=-hfe/(1+hoe*10^-6*RL*10^3);//unitless\n",
"Zie=hie+hre*Aie*RL;//in kOhm\n",
"Zie=round(Zie);\n",
"Ave=Aie*RL/Zie;//unitless\n",
"Avs_e=Ave*Zie/(Zie+RS);//\n",
"deltah=hoe*10^-6*hie*10^3-hfe*hre;\n",
"Zoe=(hie*10^3+RS*10^3)/(hoe*10^-6*RS*10^3+deltah);\n",
"Ais_e=Aie*RS/(Zie+RS);\n",
"Ape=Ave*Aie;\n",
"Aps_e=Avs_e*Ais_e;\n",
"disp(Aie,'Current gain : ');\n",
"disp(Ais_e,'Current gain with source resistance : ');\n",
"disp(Ave,'Voltage gain : ');\n",
"disp(Avs_e,'Voltage gain with source resistance : ');\n",
"disp(Ape,'Power gain : ');\n",
"disp(Aps_e,'Power gain with source resistance : ');\n",
"disp(Zie,'Input impedence in kohm :');\n",
"disp(Zoe/10^3,'Output impedence in kohm :');"
   ]
   }
,
{
		   "cell_type": "markdown",
		   "metadata": {},
		   "source": [
			"## Example 3.3: Input_Output_impedence_and_output_voltage.sce"
		   ]
		  },
  {
"cell_type": "code",
	   "execution_count": null,
	   "metadata": {
	    "collapsed": true
	   },
	   "outputs": [],
"source": [
"//Exa 3.3\n",
"clc;\n",
"clear;\n",
"close;\n",
"//Given data : \n",
"InputVoltage=1;//in mV\n",
"RL=5.6;//in kohm\n",
"RS=600;//in ohm\n",
"hre=6.5*10^-4;//unitless\n",
"hie=1.7;//in kOhm\n",
"hfe=125;//unitless\n",
"hoe=80;//in uA/V\n",
"deltah=hoe*10^-6*hie*10^3-hfe*hre;\n",
"Zie=(hie*10^3+RL*10^3*deltah)/(1+hoe*10^-6*RL*10^3);//in Ohm\n",
"Zoe=(hie*10^3+RS)/(hoe*10^-6*RS+deltah);//in Ohm\n",
"Ave=-(hfe*RL*10^3)/(hie*10^3+RL*10^3*deltah);//unitless\n",
"Avs_e=Ave*Zie/(Zie+RS);//\n",
"OutputVoltage=Avs_e*InputVoltage;//in \n",
"disp(Zie/1000,'Input impedence in kohm :');\n",
"disp(Zoe/10^3,'Output impedence in kohm :');\n",
"disp(Ave,'Voltage gain : ');\n",
"disp(Avs_e,'Voltage gain with source resistance : ');\n",
"disp(OutputVoltage,'Output Voltage in mV : ');\n",
"//Note : Ans of output impedence is wrong in the book."
   ]
   }
,
{
		   "cell_type": "markdown",
		   "metadata": {},
		   "source": [
			"## Example 3.4: Net_voltage_gain_in_dB.sce"
		   ]
		  },
  {
"cell_type": "code",
	   "execution_count": null,
	   "metadata": {
	    "collapsed": true
	   },
	   "outputs": [],
"source": [
"//Exa 3.4\n",
"clc;\n",
"clear;\n",
"close;\n",
"//Given data : \n",
"A1=100;//unitless\n",
"A2=200;//unitless\n",
"A3=400;//unitless\n",
"A1=20*log10(A1);//in dB\n",
"A2=20*log10(A2);//in dB\n",
"A3=20*log10(A3);//in dB\n",
"NetVoltageGain=A1+A2+A3;//in dB\n",
"disp(NetVoltageGain,'Net Voltage Gain in decibels :');\n",
"//Note : Answer in the book is wrong."
   ]
   }
,
{
		   "cell_type": "markdown",
		   "metadata": {},
		   "source": [
			"## Example 3.5: Bandwidth_and_cut_off_frequencies.sce"
		   ]
		  },
  {
"cell_type": "code",
	   "execution_count": null,
	   "metadata": {
	    "collapsed": true
	   },
	   "outputs": [],
"source": [
"//Exa 3.5\n",
"clc;\n",
"clear;\n",
"close;\n",
"//Given data : \n",
"MaxGain=1000;//unitless(at 2kHz)\n",
"f1=50;//in Hz\n",
"f2=10;//in KHz\n",
"disp('Bandwidth is from '+string(f1)+'Hz to '+string(f2)+'kHz');\n",
"disp('Lower cutoff frequency ' +string(f1)+'Hz');\n",
"disp('Upper cutoff frequency ' +string(f2)+'kHz');"
   ]
   }
,
{
		   "cell_type": "markdown",
		   "metadata": {},
		   "source": [
			"## Example 3.6: Overall_voltage_gai.sce"
		   ]
		  },
  {
"cell_type": "code",
	   "execution_count": null,
	   "metadata": {
	    "collapsed": true
	   },
	   "outputs": [],
"source": [
"//Exa 3.6\n",
"clc;\n",
"clear;\n",
"close;\n",
"//Given data : \n",
"RC=10;//in kohm\n",
"hfe=330;//unitless\n",
"hie=4.5;//in kOhm\n",
"//RS<<hie\n",
"AVM=hfe*RC*10^3/(hie*10^3+RC*10^3);//unitless\n",
"AVM1=AVM;//Gain of 1st stage\n",
"AVM2=AVM;//Gain of 2nd stage\n",
"AVM3=hfe*RC*10^3/(hie*10^3);//unitless(//Gain of 3rd stage)\n",
"OverallGain=AVM1*AVM2*AVM3;//unitless\n",
"disp(AVM,'Gain in mid frequeny range : ');\n",
"disp('This is the gain of 1st and 2nd stage.')\n",
"disp(OverallGain,'Overall Voltage gain for mid frequency range : ');"
   ]
   }
,
{
		   "cell_type": "markdown",
		   "metadata": {},
		   "source": [
			"## Example 3.7: Couopling_capacitor.sce"
		   ]
		  },
  {
"cell_type": "code",
	   "execution_count": null,
	   "metadata": {
	    "collapsed": true
	   },
	   "outputs": [],
"source": [
"//Exa 3.7\n",
"clc;\n",
"clear;\n",
"close;\n",
"//Given data : \n",
"RC=5.5;//in kohm\n",
"hfe=330;//unitless\n",
"hie=4.5;//in kohm\n",
"f1=30;//in Hz\n",
"//Formula : f1=1/(2*%pi*C*(hie+RC))\n",
"C=1/(2*%pi*f1*(hie*10^3+RC*10^3));//in F\n",
"disp(C*10^6,'Value of coupling capacitor in micro farad : ');"
   ]
   }
,
{
		   "cell_type": "markdown",
		   "metadata": {},
		   "source": [
			"## Example 3.8: Voltage_gai.sce"
		   ]
		  },
  {
"cell_type": "code",
	   "execution_count": null,
	   "metadata": {
	    "collapsed": true
	   },
	   "outputs": [],
"source": [
"//Exa 3.8\n",
"clc;\n",
"clear;\n",
"close;\n",
"//Given data : \n",
"RC=10;//in kohm\n",
"Rin=1;//in kohm\n",
"Beta=100;//unitless\n",
"RL=100;//in ohm\n",
"RCdash=RC*10^3*RL/(RC*10^3+RL);//in ohm\n",
"VoltageGain=Beta*RCdash/(Rin*10^3);//in volt\n",
"disp(VoltageGain,'Voltage Gain : ');"
   ]
   }
,
{
		   "cell_type": "markdown",
		   "metadata": {},
		   "source": [
			"## Example 3.9: Inductance_of_primary_and_secondary.sce"
		   ]
		  },
  {
"cell_type": "code",
	   "execution_count": null,
	   "metadata": {
	    "collapsed": true
	   },
	   "outputs": [],
"source": [
"//Exa 3.9\n",
"clc;\n",
"clear;\n",
"close;\n",
"//Given data : \n",
"Rout=10;//in kohm\n",
"Rin=2.5;//in kohm\n",
"f=200;//in Hz\n",
"//Formula : Rout=omega*Lp=2*%pi*f*Lp\n",
"Lp=Rout*10^3/(2*%pi*f);//in H\n",
"disp(round(Lp),'Inductance of primary in Henry : ');\n",
"//Formula : Rin=omega*Ls=2*%pi*f*Ls\n",
"Ls=Rin*10^3/(2*%pi*f);//in H\n",
"disp(round(Ls),'Inductance of seondary in Henry : ');"
   ]
   }
],
"metadata": {
		  "kernelspec": {
		   "display_name": "Scilab",
		   "language": "scilab",
		   "name": "scilab"
		  },
		  "language_info": {
		   "file_extension": ".sce",
		   "help_links": [
			{
			 "text": "MetaKernel Magics",
			 "url": "https://github.com/calysto/metakernel/blob/master/metakernel/magics/README.md"
			}
		   ],
		   "mimetype": "text/x-octave",
		   "name": "scilab",
		   "version": "0.7.1"
		  }
		 },
		 "nbformat": 4,
		 "nbformat_minor": 0
}
