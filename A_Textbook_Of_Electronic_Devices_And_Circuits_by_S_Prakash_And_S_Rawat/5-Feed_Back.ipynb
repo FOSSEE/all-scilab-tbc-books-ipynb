{
"cells": [
 {
		   "cell_type": "markdown",
	   "metadata": {},
	   "source": [
       "# Chapter 5: Feed Back"
	   ]
	},
{
		   "cell_type": "markdown",
		   "metadata": {},
		   "source": [
			"## Example 5.10: Gain_wih_feedbck_in_dB.sce"
		   ]
		  },
  {
"cell_type": "code",
	   "execution_count": null,
	   "metadata": {
	    "collapsed": true
	   },
	   "outputs": [],
"source": [
"//Exa 5.10\n",
"clc;\n",
"clear;\n",
"close;\n",
"//Given data :\n",
"format('v',5);\n",
"A=1000;//gain(unitless)\n",
"Beta=1/20;//feedback ratio (unitless)\n",
"//Formula : Af=A/(1+A*Beta)\n",
"Af=A/(1+A*Beta);//gain with feedback(unitless)\n",
"Af=20*log10(Af);//in dB\n",
"disp(Af,'Gain with feedback in dB : ');"
   ]
   }
,
{
		   "cell_type": "markdown",
		   "metadata": {},
		   "source": [
			"## Example 5.11: Bandwidth_after_feedback.sce"
		   ]
		  },
  {
"cell_type": "code",
	   "execution_count": null,
	   "metadata": {
	    "collapsed": true
	   },
	   "outputs": [],
"source": [
"//Exa 5.11\n",
"clc;\n",
"clear;\n",
"close;\n",
"//Given data :\n",
"A=800;//gain(unitless)\n",
"f1=40;//in Hz\n",
"f2=16;//in kHz\n",
"Beta=2/100;//feedback fator (unitless)\n",
"//Formula : Af=A/(1+A*Beta)\n",
"Af=A/(1+A*Beta);//gain with feedback(unitless)\n",
"disp(Af,'Voltage gin with feedback : ');\n",
"BW=f2*10^3-f1;//Bandwidth of amplifier in Hz\n",
"disp(BW*10^-3,'Bandwidth of amplifier in kHz : ');\n",
"f1_f=f1/(1+A*Beta);//in Hz\n",
"f2_f=f2*(1+A*Beta);//in kHz\n",
"BW_f=f2_f*10^3-f1_f;//Bandwith after feedback in Hz\n",
"disp(round(BW_f*10^-3),'Bandwith after feedback in KHz : ');"
   ]
   }
,
{
		   "cell_type": "markdown",
		   "metadata": {},
		   "source": [
			"## Example 5.12: Gain_and_new_bandwidth.sce"
		   ]
		  },
  {
"cell_type": "code",
	   "execution_count": null,
	   "metadata": {
	    "collapsed": true
	   },
	   "outputs": [],
"source": [
"//Exa 5.12\n",
"clc;\n",
"clear;\n",
"close;\n",
"//Given data :\n",
"A=100;//gain(unitless)\n",
"BW=10;//in Hz\n",
"Beta=5;//in %\n",
"//Part (i) :\n",
"//Formula : Af=A/(1+A*Beta)\n",
"Af=A/(1+A*Beta/100);//gain with feedback(unitless)\n",
"disp(Af,'Voltage gin with feedback : ');\n",
"//Part (ii)\n",
"BW_f=BW*(1+A*Beta/100);//Bandwith after feedback in Hz\n",
"disp(BW_f,'Bandwith with negative feedback in KHz : ');"
   ]
   }
,
{
		   "cell_type": "markdown",
		   "metadata": {},
		   "source": [
			"## Example 5.13: Input_resistance_and_voltage_gain.sce"
		   ]
		  },
  {
"cell_type": "code",
	   "execution_count": null,
	   "metadata": {
	    "collapsed": true
	   },
	   "outputs": [],
"source": [
"//Exa 5.13\n",
"clc;\n",
"clear;\n",
"close;\n",
"//Given data :\n",
"hfe=50;//unitless\n",
"hie=1.1;//in kOhm\n",
"hoe=0;//unitless\n",
"hre=0;//unitless\n",
"RL=4;//in kOhm\n",
"Rs=10;//in kOhm\n",
"RB=40;//in kOhm\n",
"RLdash=RB*RL/(RB+RL);//in Kohm\n",
"AV=-hfe*RLdash/hie;//unitless\n",
"//Part (i) ;\n",
"Rif=hie*(RB/(1-AV))/(hie+(RB/(1-AV)));//in kOhm\n",
"disp(round(Rif*1000),'Input resistance with feedback in Ohm : ');\n",
"//Part (ii) :\n",
"AVf=AV*(Rif/(Rs+Rif));//unitless\n",
"disp(AVf,'Voltage gin with feedback : ');"
   ]
   }
,
{
		   "cell_type": "markdown",
		   "metadata": {},
		   "source": [
			"## Example 5.1: Percentage_of_output_which_is_fed_back.sce"
		   ]
		  },
  {
"cell_type": "code",
	   "execution_count": null,
	   "metadata": {
	    "collapsed": true
	   },
	   "outputs": [],
"source": [
"//Exa 5.1\n",
"clc;\n",
"clear;\n",
"close;\n",
"//Given data :\n",
"A=50;//gain(unitless)\n",
"Af=10;//gain(unitless)\n",
"//Formula : Af=A/(1+A*Beta)\n",
"Beta=(A/Af-1)/A;//feedback ratio (unitless)\n",
"disp(Beta*100,'Percentage of output fed back(%) : ');"
   ]
   }
,
{
		   "cell_type": "markdown",
		   "metadata": {},
		   "source": [
			"## Example 5.2: Voltage_gain_and_reduction_in_voltage.sce"
		   ]
		  },
  {
"cell_type": "code",
	   "execution_count": null,
	   "metadata": {
	    "collapsed": true
	   },
	   "outputs": [],
"source": [
"//Exa 5.2\n",
"clc;\n",
"clear;\n",
"close;\n",
"//Given data :\n",
"A=1000;//gainWithoutFeedback(unitless)\n",
"//Part (i) : \n",
"disp('At normal collector supply :');\n",
"disp('with feedback gain reduces by a factor 0.40');\n",
"Af=A-A*0.40;//gainWithFeedback(unitless)\n",
"disp(Af,'At normal collector supply, Gain with feedback : ');\n",
"//Formula : Af=A/(1+A*Beta)\n",
"Beta=(A/Af-1)/A;//feedback factor (unitless)\n",
"disp('At reduced power supply :');\n",
"Adash=800;//gainWithoutFeedback(unitless)\n",
"Af_dash=Adash/(1+Adash*Beta)\n",
"disp(round(Af_dash),'At Reduced collector supply, Gain with feedback : ');\n",
"//Part (ii)\n",
"Reduction=((A-Adash)/A)*100;//% reduction without feedback\n",
"disp(Reduction,'percentage reduction in gain without feedback(%) :');\n",
"Reduction1=((Af-Af_dash)/Af)*100;//% reduction without feedback\n",
"disp(round(Reduction1),'percentage reduction in gain with feedback(%) :');\n",
"//Note : answer of Af is wrong in the book."
   ]
   }
,
{
		   "cell_type": "markdown",
		   "metadata": {},
		   "source": [
			"## Example 5.3: Gain_with_feedback_factor_and_feedback_voltage.sce"
		   ]
		  },
  {
"cell_type": "code",
	   "execution_count": null,
	   "metadata": {
	    "collapsed": true
	   },
	   "outputs": [],
"source": [
"//Exa 5.3\n",
"clc;\n",
"clear;\n",
"close;\n",
"//Given data :\n",
"A=100;//gain without feedback(unitless)\n",
"Beta=1/25;//feedback ratio (unitless)\n",
"Vi=50;//in mV\n",
"//Part (i) :\n",
"Af=A/(1+A*Beta);//gain with feedback(unitless)\n",
"disp(Af,'(i) Gain with feedback :');\n",
"//Part (ii) :\n",
"FeedbackFactor=Beta*A;//unitless\n",
"disp(FeedbackFactor,'(ii) Feedback Factor :');\n",
"//Part (iii) :\n",
"Vo_dash=Af*Vi*10^-3;//in volt\n",
"disp(Vo_dash,'(iii) Output Voltage in volts :');\n",
"//Part (iv) :\n",
"FeedbackVoltage=Beta*Vo_dash;//in volt\n",
"disp(FeedbackVoltage,'(iv) Feedback Voltage in volts :');\n",
"//Part (v) :\n",
"Vi_dash=Vi*(1+Beta*A);//in mv\n",
"disp(Vi_dash,'(v) New Increased Input Voltage in milli volts :');"
   ]
   }
,
{
		   "cell_type": "markdown",
		   "metadata": {},
		   "source": [
			"## Example 5.4: Bandwidth_with_negative_feedback.sce"
		   ]
		  },
  {
"cell_type": "code",
	   "execution_count": null,
	   "metadata": {
	    "collapsed": true
	   },
	   "outputs": [],
"source": [
"//Exa 5.4\n",
"clc;\n",
"clear;\n",
"close;\n",
"//Given data :\n",
"BW=200;//in kHz\n",
"A=40;//gain without feedback(in dB)\n",
"Beta=5;//negative feedback in %\n",
"Beta=Beta/100;//feedback factor\n",
"//Formula : Af=A/(1+A*Beta)\n",
"Af=A/(1+A*Beta);//gain with feedback(in dB)\n",
"disp('Since gain bandwidth product remains constant, A*BW=Af*BW_dash');\n",
"BW_dash=A*BW/Af;//in kHz\n",
"disp(BW_dash,'New Bandwidth in kHz : ');"
   ]
   }
,
{
		   "cell_type": "markdown",
		   "metadata": {},
		   "source": [
			"## Example 5.5: Fraction_of_output_fed_back.sce"
		   ]
		  },
  {
"cell_type": "code",
	   "execution_count": null,
	   "metadata": {
	    "collapsed": true
	   },
	   "outputs": [],
"source": [
"//Exa 5.5\n",
"clc;\n",
"clear;\n",
"close;\n",
"//Given data :\n",
"A=140;//gain without feedback(unitless)\n",
"Af=17.5;//gain with feedback(unitless)\n",
"//Formula : Af=A/(1+A*Beta)\n",
"Beta=(A/Af-1)/A;//feedback ratio (unitless)\n",
"disp('Fraction of output fed back to input : '+string(Beta)+' or 1/20');"
   ]
   }
,
{
		   "cell_type": "markdown",
		   "metadata": {},
		   "source": [
			"## Example 5.6: Small_Change_in_gain.sce"
		   ]
		  },
  {
"cell_type": "code",
	   "execution_count": null,
	   "metadata": {
	    "collapsed": true
	   },
	   "outputs": [],
"source": [
"//Exa 5.6\n",
"clc;\n",
"clear;\n",
"close;\n",
"//Given data :\n",
"A=200;//gain without feedback(unitless)\n",
"Beta=0.25;//fraction ratio(unitless)\n",
"disp('We have, Af=A/(1+Beta*A)          eqn(1)');\n",
"disp('Differentiating it with respect to A, we get');\n",
"disp('dAf/dA=((1+Beta*A)-Beta*A)/(1+Beta*A)^2=1/(1+Beta*A)^2');\n",
"disp('dAf=dA/(1+Beta*A)^2          eqn(2)');\n",
"disp('Dividing eqn(2) by eqn(1),');\n",
"disp('dAf/Af=(dA/((1+Beta*A)^2))*((1+Beta*A)/A)=(1/(1+Beta*A))*(dA/A)');\n",
"//Given : Normal gain changes by 10 %, it means dA/A=10/100\n",
"dABYA=10/100;//change in gain\n",
"dAfBYAf=(1/(1+Beta*A))*(dABYA);//change in gain\n",
"disp(dAfBYAf,'Change in gain : ');"
   ]
   }
,
{
		   "cell_type": "markdown",
		   "metadata": {},
		   "source": [
			"## Example 5.7: New_gain_distortion_and_input_voltage.sce"
		   ]
		  },
  {
"cell_type": "code",
	   "execution_count": null,
	   "metadata": {
	    "collapsed": true
	   },
	   "outputs": [],
"source": [
"//Exa 5.7\n",
"clc;\n",
"clear;\n",
"close;\n",
"//Given data :\n",
"A=200;//gain without feedback(unitless)\n",
"Dn=10;//Distortion in %\n",
"Vi=0.5;//Initial input voltage in volt\n",
"Beta=0.05;//feedback ratio (unitless)\n",
"//Formula : Af=A/(1+A*Beta)\n",
"Af=A/(1+A*Beta);//gain with feedback(unitless)\n",
"disp(Af,'New gain :');\n",
"Dn_dash=Dn/(1+A*Beta);//new distortion in %\n",
"disp(Dn_dash,'Distortion with negative feedback in % : ');\n",
"InitialOutputVoltage=A*Vi;//in Volt\n",
"disp(InitialOutputVoltage,'Initial Output Voltage in volt:');\n",
"NewInputVoltage=InitialOutputVoltage/Af;//in volt\n",
"disp(NewInputVoltage,'New Input Voltage in volts :');\n",
"//Note :Ans of Af and  NewInputVoltage is not acurate in the book."
   ]
   }
,
{
		   "cell_type": "markdown",
		   "metadata": {},
		   "source": [
			"## Example 5.8: Feedback_rction_voltage_and_impedence.sce"
		   ]
		  },
  {
"cell_type": "code",
	   "execution_count": null,
	   "metadata": {
	    "collapsed": true
	   },
	   "outputs": [],
"source": [
"//Exa 5.8\n",
"clc;\n",
"clear;\n",
"close;\n",
"//Given data :\n",
"A=10000;//gain without feedback(unitless)\n",
"Zi=10;//in kOhm\n",
"Zo=100;//in Ohm\n",
"R1=2;//in Ohm\n",
"R2=18;//in Ohm\n",
"//Part (i) :\n",
"Beta=R1/(R1+R2);//feedback fraction(unitless)\n",
"disp(Beta,'(i) Feedback Fraction :');\n",
"//Part (ii) :\n",
"Af=A/(1+A*Beta);//Gain with negative feedback(unitless)\n",
"disp(round(Af),'(ii) Gain with negative feedback :');\n",
"//Part (iii) :\n",
"inputVoltge=0.5;//in mV\n",
"outputVoltge=Af*inputVoltge;//in mV\n",
"disp(round(outputVoltge),'(iii) Output Voltage in milli volts :');\n",
"//Part (iv) :\n",
"Zif=Zi*(1+Beta*A);//in kOhm\n",
"disp(Zif*10^-3,'(iv) Input impedance of feedback amplifier in Mohm : ');\n",
"//Part (v) :\n",
"Zof=Zo/(1+Beta*A);//in kOhm\n",
"format('v',4);\n",
"disp(Zof,'(v) Output impedance with feedback in Ohm : ');"
   ]
   }
,
{
		   "cell_type": "markdown",
		   "metadata": {},
		   "source": [
			"## Example 5.9: Voltage_gain_input_and_output_resistance.sce"
		   ]
		  },
  {
"cell_type": "code",
	   "execution_count": null,
	   "metadata": {
	    "collapsed": true
	   },
	   "outputs": [],
"source": [
"//Exa 5.9\n",
"clc;\n",
"clear;\n",
"close;\n",
"//Given data :\n",
"A=200;//gain without feedback(unitless)\n",
"Ri=2;//in kOhm\n",
"Ro=12;//in kOhm\n",
"Beta=0.02;//feedbak ratio(unitless)\n",
"//Part (i) :\n",
"Af=A/(1+A*Beta);//gain with feedback(unitless)\n",
"disp(Af,'(i) Gain with Negative Feedback :');\n",
"//Part (ii) :\n",
"Rif=Ri*(1+A*Beta);//in kOhm\n",
"disp(Rif,'(ii) Input resistance with feedback in kOhm :');\n",
"//Part (ii) :\n",
"Rof=Ro/(1+A*Beta);//in kOhm\n",
"disp(Rof,'(ii) Output resistance with feedback in kOhm :');"
   ]
   }
],
"metadata": {
		  "kernelspec": {
		   "display_name": "Scilab",
		   "language": "scilab",
		   "name": "scilab"
		  },
		  "language_info": {
		   "file_extension": ".sce",
		   "help_links": [
			{
			 "text": "MetaKernel Magics",
			 "url": "https://github.com/calysto/metakernel/blob/master/metakernel/magics/README.md"
			}
		   ],
		   "mimetype": "text/x-octave",
		   "name": "scilab",
		   "version": "0.7.1"
		  }
		 },
		 "nbformat": 4,
		 "nbformat_minor": 0
}
