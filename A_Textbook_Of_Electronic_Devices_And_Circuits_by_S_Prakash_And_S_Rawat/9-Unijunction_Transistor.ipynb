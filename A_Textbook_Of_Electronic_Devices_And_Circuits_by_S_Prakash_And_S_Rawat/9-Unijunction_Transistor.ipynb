{
"cells": [
 {
		   "cell_type": "markdown",
	   "metadata": {},
	   "source": [
       "# Chapter 9: Unijunction Transistor"
	   ]
	},
{
		   "cell_type": "markdown",
		   "metadata": {},
		   "source": [
			"## Example 9.1: Stand_off_voltage_and_peak_point_Voltage.sce"
		   ]
		  },
  {
"cell_type": "code",
	   "execution_count": null,
	   "metadata": {
	    "collapsed": true
	   },
	   "outputs": [],
"source": [
"//Exa 9.1\n",
"clc;\n",
"clear;\n",
"close;\n",
"//Given data :\n",
"VBB=20;//in volt\n",
"VB=0.7;//in volt(For Si)\n",
"ETA=0.6;//intrinsic stand off ratio\n",
"//Part (i)\n",
"StandOffVoltage=ETA*VBB;//in volt\n",
"disp(StandOffVoltage,'Stand Off Voltage in volts :');\n",
"//Part (ii)\n",
"VP=ETA*VBB+VB;//in volts\n",
"disp(VP,'Peak point Voltage in volts : ');"
   ]
   }
,
{
		   "cell_type": "markdown",
		   "metadata": {},
		   "source": [
			"## Example 9.2: Time_period_of_sawtooth_waveform.sce"
		   ]
		  },
  {
"cell_type": "code",
	   "execution_count": null,
	   "metadata": {
	    "collapsed": true
	   },
	   "outputs": [],
"source": [
"//Exa 9.2\n",
"clc;\n",
"clear;\n",
"close;\n",
"//Given data :\n",
"VP=10;//in volt\n",
"R=100;//in Kohm\n",
"C=1000;//in pF\n",
"VBB=20;//in Volts\n",
"ETA=VP/VBB;//intrinsic stand off ratio\n",
"T=R*10^3*C*10^-12*log(1/(1-ETA));//in sec\n",
"disp(T*10^6,'Time period of sawtooth wave in miro seconds : ')"
   ]
   }
,
{
		   "cell_type": "markdown",
		   "metadata": {},
		   "source": [
			"## Example 9.3: Resistances_RB1_and_RB2.sce"
		   ]
		  },
  {
"cell_type": "code",
	   "execution_count": null,
	   "metadata": {
	    "collapsed": true
	   },
	   "outputs": [],
"source": [
"//Exa 9.3\n",
"clc;\n",
"clear;\n",
"close;\n",
"//Given data :\n",
"RBB=10;//in Kohm\n",
"ETA=0.6;//intrinsic stand off ratio\n",
"RB1=ETA*RBB;//in Kohm\n",
"RB2=RBB-RB1;//in Kohm\n",
"disp(RB1,'Resistance RB1 in Kohm :');\n",
"disp(RB2,'Resistance RB2 in Kohm :');"
   ]
   }
],
"metadata": {
		  "kernelspec": {
		   "display_name": "Scilab",
		   "language": "scilab",
		   "name": "scilab"
		  },
		  "language_info": {
		   "file_extension": ".sce",
		   "help_links": [
			{
			 "text": "MetaKernel Magics",
			 "url": "https://github.com/calysto/metakernel/blob/master/metakernel/magics/README.md"
			}
		   ],
		   "mimetype": "text/x-octave",
		   "name": "scilab",
		   "version": "0.7.1"
		  }
		 },
		 "nbformat": 4,
		 "nbformat_minor": 0
}
