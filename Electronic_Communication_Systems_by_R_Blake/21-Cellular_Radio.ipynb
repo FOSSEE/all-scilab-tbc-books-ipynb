{
"cells": [
 {
		   "cell_type": "markdown",
	   "metadata": {},
	   "source": [
       "# Chapter 21: Cellular Radio"
	   ]
	},
{
		   "cell_type": "markdown",
		   "metadata": {},
		   "source": [
			"## Example 21.1: example_1.sce"
		   ]
		  },
  {
"cell_type": "code",
	   "execution_count": null,
	   "metadata": {
	    "collapsed": true
	   },
	   "outputs": [],
"source": [
"clc;\n",
"// page no 795\n",
"// prob no 21.1\n",
"v=100;//in km/hr\n",
"// first convert speed into m/sec\n",
"v1=(100*10^3)/3600;//in km/sec\n",
"//part a)\n",
"r=10^4;//in m\n",
"t=(2*r)/v1;\n",
"disp('sec',t,'Handoff time is');\n",
"//part b)\n",
"r=500;//in m\n",
"t=(2*r)/v1;\n",
"disp('sec',t,'Handoff time is');"
   ]
   }
,
{
		   "cell_type": "markdown",
		   "metadata": {},
		   "source": [
			"## Example 21.2: example_2.sce"
		   ]
		  },
  {
"cell_type": "code",
	   "execution_count": null,
	   "metadata": {
	    "collapsed": true
	   },
	   "outputs": [],
"source": [
"clc;\n",
"// page no 807\n",
"// prob no 21.2\n",
"N=12; m=120;\n",
"a=20000;\n",
"th=30;//in min/day this means\n",
"H=0.5;\n",
"tp=10;\n",
"//part a)Calculation of the average and peak traffic in erlangs for the whole system\n",
"// The average traffic is\n",
"T=a*H/24;\n",
"disp('E',T,'a) The average traffic is');\n",
"// The peak traffic is \n",
"T1=(a*tp)/60;\n",
"disp('E',T1,'The peak traffic is');\n",
"//part b)Calculation of the average and peak traffic in erlangs for one cell\n",
"// The average traffic per cell is\n",
"t=T/m;\n",
"disp('E',T,'b) The average traffic per cell is');\n",
"// The peak traffic per cell is\n",
"t=T1/m;\n",
"disp('E',T1,'The peak traffic per cell is');\n",
"// part c)\n",
"// For average traffic at 3.47E, the blocking probability is much less than 1%, since the average no of call is much less than the no of channels. However, the blocking probability increases to just over 5%"
   ]
   }
,
{
		   "cell_type": "markdown",
		   "metadata": {},
		   "source": [
			"## Example 21.3: example_3.sce"
		   ]
		  },
  {
"cell_type": "code",
	   "execution_count": null,
	   "metadata": {
	    "collapsed": true
	   },
	   "outputs": [],
"source": [
"clc;\n",
"// page no 816\n",
"// prob no 21.3\n",
"tg=123*10^-6;\n",
"c=3*10^8;\n",
"//The maximum distance between base and mobile is\n",
"d=c*tg;\n",
"disp('m',d,'The maximum distance between base and mobile is');"
   ]
   }
],
"metadata": {
		  "kernelspec": {
		   "display_name": "Scilab",
		   "language": "scilab",
		   "name": "scilab"
		  },
		  "language_info": {
		   "file_extension": ".sce",
		   "help_links": [
			{
			 "text": "MetaKernel Magics",
			 "url": "https://github.com/calysto/metakernel/blob/master/metakernel/magics/README.md"
			}
		   ],
		   "mimetype": "text/x-octave",
		   "name": "scilab",
		   "version": "0.7.1"
		  }
		 },
		 "nbformat": 4,
		 "nbformat_minor": 0
}
