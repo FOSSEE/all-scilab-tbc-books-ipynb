{
"cells": [
 {
		   "cell_type": "markdown",
	   "metadata": {},
	   "source": [
       "# Chapter 1: Introduction to communication system"
	   ]
	},
{
		   "cell_type": "markdown",
		   "metadata": {},
		   "source": [
			"## Example 1.10: example_10.sce"
		   ]
		  },
  {
"cell_type": "code",
	   "execution_count": null,
	   "metadata": {
	    "collapsed": true
	   },
	   "outputs": [],
"source": [
"clc;\n",
"//page no 25\n",
"//prob no 1.10\n",
"//giiven: SNRin=42 dB, NF=6dB\n",
"// NF in dB is given as SNRin(dB)-SNRop(dB)\n",
"SNRin=42 ; NF=6;\n",
"SNRop=SNRin-NF;\n",
"disp('dB',SNRop,'SNR at the output is ');"
   ]
   }
,
{
		   "cell_type": "markdown",
		   "metadata": {},
		   "source": [
			"## Example 1.11: example_11.sce"
		   ]
		  },
  {
"cell_type": "code",
	   "execution_count": null,
	   "metadata": {
	    "collapsed": true
	   },
	   "outputs": [],
"source": [
"clc;\n",
"//page no 27\n",
"// prob no 1.11\n",
"//Given NFdB=2dB,:.NF=antilog(NFdB)/10=1.585\n",
"NF=1.585;\n",
"Teq=290*(NF-1);\n",
"disp('K',Teq,'The noise temperature is ');"
   ]
   }
,
{
		   "cell_type": "markdown",
		   "metadata": {},
		   "source": [
			"## Example 1.12: example_12.sce"
		   ]
		  },
  {
"cell_type": "code",
	   "execution_count": null,
	   "metadata": {
	    "collapsed": true
	   },
	   "outputs": [],
"source": [
"clc;\n",
"//page no 29\n",
"//prob no 1.12\n",
"//Given: \n",
"A1=10;A2=25;A3=30;NF1=2;NF2=4;NF3=5;\n",
"At=A1*A2*A3;\n",
"disp(At,'The power gain is');\n",
"// The noise figure is given as \n",
"NFt=NF1+((NF2-1)/A1) + ((NF3-1)/(A1*A2));\n",
"disp(NFt,'The noise figure is');\n",
"// Noise temp can be found as \n",
"Teq=290*(NFt-1);\n",
"disp('K',Teq,'The noise temperature is');"
   ]
   }
,
{
		   "cell_type": "markdown",
		   "metadata": {},
		   "source": [
			"## Example 1.13: example_13.sce"
		   ]
		  },
  {
"cell_type": "code",
	   "execution_count": null,
	   "metadata": {
	    "collapsed": true
	   },
	   "outputs": [],
"source": [
"clc;\n",
"// page no 34\n",
"// prob no1.13 refer fig 1.20 of page no 34\n",
"// part A) The signal frequency is f1=110MHz.\n",
"f=110;// in MHz\n",
"disp('MHz',f,'A)The freq is');\n",
"//The signal peak is two divisions below the reference level of -10dBm, with 10dB/division ,so its -30dBm.\n",
"PdBm=-30;\n",
"disp('dBm',PdBm,'The power in dBm');\n",
"// The equivalent power can be found from P(dBm)=10logP/1 mW\n",
"//P(mW)=antilog dBm/10= antilog -30/10=1*10^-3mW=1uW\n",
"//the voltage can be found from the graph but it is more accurately from P=V^2/R\n",
"P=10^-6; R=50;\n",
"disp('W',P,'The power is');\n",
"V=sqrt(P*R);\n",
"disp('volts',V,'The voltage is');\n",
"\n",
"// part B)The signal is 1 division to theleft of center, with 100kHz/div. The freq is 100kHz less than the ref freq of 7.5MHz\n",
"f=7.5-0.1;// in MHz\n",
"disp('MHz',f,'B)The freq is');\n",
"// With regards to the amplitude, the scale is 1dB/div & the signal is 1 div below the reference level. Therefore the signal has a power level given as\n",
"PdBm=10-1;// in dBm\n",
"// This can be converted to watts & volts as same in part A\n",
"//P(mW)=antilog dBm/10= antilog 9/10=7.94mW\n",
"P=7.94*10^-3; R=50;\n",
"disp('W',P,'The power is');\n",
"disp('dBm',PdBm,'The power in dBm');\n",
"V=sqrt(P*R);\n",
"disp('volts',V,'The voltage is');\n",
"\n",
"//part C) The signal is 3 divisions to the right of the center ref freq of 543MHz, with 1MHz/div. Therefore the freq is \n",
"f=543+3*1;// in MHz\n",
"disp('MHz',f,'C)The freq is');\n",
"// from the spectrum, signal level is\n",
"V=22.4*6/8;\n",
"disp('mV',V,'The voltage is');\n",
"// power is given as\n",
"P=V^2/R;\n",
"disp('uW',P,'The power is');\n",
"PdBm=10*log10(P*10^-6/10^-3);\n",
"disp('dBm',PdBm,'The power in dBm');"
   ]
   }
,
{
		   "cell_type": "markdown",
		   "metadata": {},
		   "source": [
			"## Example 1.1: example_1.sce"
		   ]
		  },
  {
"cell_type": "code",
	   "execution_count": null,
	   "metadata": {
	    "collapsed": true
	   },
	   "outputs": [],
"source": [
"clc;\n",
"// page no 7\n",
"// prob no 1.1\n",
"//part a) freq= 1MHz(AM radio broadcast band)\n",
"// We have the equation c=freq*wavelength\n",
"c=3*10^8;\n",
"f=1*10^6;\n",
"wl=c/f;\n",
"disp('m',wl,+'WAVELENGTH IN FREE SPACE IS ');\n",
"//part B) freq= 27MHz(CB radio band)\n",
"f=27*10^6;\n",
"wl=c/f;\n",
"disp('m',wl,+'WAVELENGTH IN FREE SPACE IS ');\n",
"//part C) freq= 4GHz(used for satellite television)\n",
"f=4*10^9;\n",
"wl=c/f;\n",
"disp('m',wl,+'WAVELENGTH IN FREE SPACE IS ');"
   ]
   }
,
{
		   "cell_type": "markdown",
		   "metadata": {},
		   "source": [
			"## Example 1.4: example_4.sce"
		   ]
		  },
  {
"cell_type": "code",
	   "execution_count": null,
	   "metadata": {
	    "collapsed": true
	   },
	   "outputs": [],
"source": [
"clc;\n",
"// page no 18\n",
"// prob no. 1.4\n",
"// In given problem noise power bandwidth is 10kHz; resistor temp T(0c)=27\n",
"// First we have to convert temperature to kelvins:\n",
"T0c=27;\n",
"Tk=T0c+273;\n",
"// noise power contributed by resistor , Pn= k*T*B\n",
"k=1.38*10^(-23);\n",
"B=10*10^3;\n",
"Pn= k*Tk*B;\n",
"disp('W',Pn,'noise power contributed by resistor');"
   ]
   }
,
{
		   "cell_type": "markdown",
		   "metadata": {},
		   "source": [
			"## Example 1.5: example_5.sce"
		   ]
		  },
  {
"cell_type": "code",
	   "execution_count": null,
	   "metadata": {
	    "collapsed": true
	   },
	   "outputs": [],
"source": [
"clc;\n",
"// page no 20\n",
"// prob no 1.5\n",
"// In the given problem B=6MHz, Tk=293, k=1.38*10^-23\n",
"B=6*10^6; Tk=293; k=1.38*10^-23;R=300;\n",
"Pn=k*Tk*B;\n",
"disp('W',Pn,'The noise power is');\n",
"// Th noise voltage is given by Vn=sqrt(4*k*Tk*B*R)\n",
"Vn=sqrt(4*k*Tk*B*R);\n",
"disp('volts',Vn,'Th noise voltage is');\n",
"// only one-half of this voltage is appears across the antenna terminals, the other appears across the source resistance. Therefore the actual noise voltag at the input is 2.7 uV"
   ]
   }
,
{
		   "cell_type": "markdown",
		   "metadata": {},
		   "source": [
			"## Example 1.6: example_6.sce"
		   ]
		  },
  {
"cell_type": "code",
	   "execution_count": null,
	   "metadata": {
	    "collapsed": true
	   },
	   "outputs": [],
"source": [
"clc;\n",
"// page no 21\n",
"// prob no 1.6\n",
"// given: FM broadcast receiver :- Vn=10uV, R=75V, B=200 kHz \n",
"Vn=10;//in uV\n",
"R=75; B=200*10^3;\n",
"//By Ohm's law\n",
"In=Vn/R;\n",
"disp('uA',In,'Noise current is');\n",
"// Noise votlage is also given as In=sqrt(2*q*Io*B)\n",
"q=1.6*10^-19;\n",
"// solving this for Io=In^2/2*q*B;\n",
"Io=(In*10^-6)^2/(2*q*B);\n",
"disp('A',Io,'current through the diode is');"
   ]
   }
,
{
		   "cell_type": "markdown",
		   "metadata": {},
		   "source": [
			"## Example 1.7: example_7.sce"
		   ]
		  },
  {
"cell_type": "code",
	   "execution_count": null,
	   "metadata": {
	    "collapsed": true
	   },
	   "outputs": [],
"source": [
"clc;\n",
"//page no 23\n",
"//pro no 1.7\n",
"//Given:refer fig.1.12 of page no.23;R1=100ohm,300K;R2=200ohm,400k;B=100kHz;Rl=300ohm\n",
"R1=100;T1=300;R2=200;T2=400;B=100*10^3;Rl=300;k=1.38*10^-23;\n",
"//open-ckt noise voltage is given by\n",
"//Vn1 =sqrt(Vr1^2 + Vr2^2)\n",
"//    =sqrt[sqrt(4kTBR1)^2 + sqrt(4kTBR2)^2]\n",
"//by solving this we get Vn1=sqrt[4kB(T1R1 + T2R2)]\n",
"Vn1=sqrt(4*k*B*(T1*R1 + T2*R2));\n",
"disp('volts',Vn1,'Open-ckt noise voltage is ');\n",
"// since in this case the load is equal in value to the sum of the resistors,\n",
"// one-half of this voltage is appear across the load.\n",
"// Now the load power is P=  Vn1^2/Rl\n",
"P=  (Vn1/2)^2/Rl;\n",
"disp('W',P,'The load power is');"
   ]
   }
,
{
		   "cell_type": "markdown",
		   "metadata": {},
		   "source": [
			"## Example 1.8: example_8.sce"
		   ]
		  },
  {
"cell_type": "code",
	   "execution_count": null,
	   "metadata": {
	    "collapsed": true
	   },
	   "outputs": [],
"source": [
"clc;\n",
"// page no 24\n",
"// prob no 1.8\n",
"// Given: N=0.2W; S+N=5W; :. S=4.8W\n",
"N=0.2; S=4.8;\n",
"p=(S+N)/N;\n",
"pdB=10*log10(p);\n",
"disp('dB',pdB,'The power ratio in dB');"
   ]
   }
,
{
		   "cell_type": "markdown",
		   "metadata": {},
		   "source": [
			"## Example 1.9: example_9.sce"
		   ]
		  },
  {
"cell_type": "code",
	   "execution_count": null,
	   "metadata": {
	    "collapsed": true
	   },
	   "outputs": [],
"source": [
"clc;\n",
"//page no 25\n",
"//prob no 1.9\n",
"//Given: Si=100uW; Ni=1uW; So=1uW; No=0.03W\n",
"Si=100; Ni=1; So=1; No= 0.03// all powers are in uW\n",
"r1=Si/Ni;// input SNR\n",
"r2=So/No;// output SNR\n",
"NF=r1/r2;// Amplifier noise figure \n",
"disp(NF,'Te noise figure is');"
   ]
   }
],
"metadata": {
		  "kernelspec": {
		   "display_name": "Scilab",
		   "language": "scilab",
		   "name": "scilab"
		  },
		  "language_info": {
		   "file_extension": ".sce",
		   "help_links": [
			{
			 "text": "MetaKernel Magics",
			 "url": "https://github.com/calysto/metakernel/blob/master/metakernel/magics/README.md"
			}
		   ],
		   "mimetype": "text/x-octave",
		   "name": "scilab",
		   "version": "0.7.1"
		  }
		 },
		 "nbformat": 4,
		 "nbformat_minor": 0
}
