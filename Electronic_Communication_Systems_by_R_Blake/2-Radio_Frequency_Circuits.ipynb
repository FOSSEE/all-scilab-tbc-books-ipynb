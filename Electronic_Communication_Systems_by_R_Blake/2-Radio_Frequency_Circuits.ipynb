{
"cells": [
 {
		   "cell_type": "markdown",
	   "metadata": {},
	   "source": [
       "# Chapter 2: Radio Frequency Circuits"
	   ]
	},
{
		   "cell_type": "markdown",
		   "metadata": {},
		   "source": [
			"## Example 2.10: example_9.sce"
		   ]
		  },
  {
"cell_type": "code",
	   "execution_count": null,
	   "metadata": {
	    "collapsed": true
	   },
	   "outputs": [],
"source": [
"clc;\n",
"//page no 89\n",
"// prob no 2.10\n",
"// refer fig 2.40\n",
"P=10;f_ref=10*10^3;M=10;\n",
"//consider \n",
"N=1;\n",
"// With a fixed-modulus prescalar, the min freq step is \n",
"step_size=M*f_ref;\n",
"// With the two-modulus system, let the main divider modulus N remain constant & increase the modulus m to (m+1) to find how much the freq changes.\n",
"// for 1st case, o/p freq \n",
"fo=(M+N*P)*f_ref;\n",
"// for 2nd case where leave N alone but changes M to M+1, new o/p freq \n",
"fo_=(M+1+N*P)*f_ref;\n",
"// The difference is \n",
"f= fo_-fo;\n",
"disp('Hz',f,'The step size that would have been obtained without prescaling');"
   ]
   }
,
{
		   "cell_type": "markdown",
		   "metadata": {},
		   "source": [
			"## Example 2.11: example_10.sce"
		   ]
		  },
  {
"cell_type": "code",
	   "execution_count": null,
	   "metadata": {
	    "collapsed": true
	   },
	   "outputs": [],
"source": [
"clc;\n",
"//page no 91\n",
"//prob no 2.11\n",
"//refer fig 2.42\n",
"f_ref= 20*10^3;\n",
"f_osc= 10*10^6;\n",
"N1=10;N2=100;\n",
"f0=(N1*f_ref) + f_osc;\n",
"f1=(N2*f_ref) + f_osc;\n",
"disp('Hz',f1,'Hz',f0,'The output frequencies are');\n",
"step_size=(f1-f0)/(N2-N1);\n",
"disp('Hz',step_size,'The step size is');"
   ]
   }
,
{
		   "cell_type": "markdown",
		   "metadata": {},
		   "source": [
			"## Example 2.1: example_1.sce"
		   ]
		  },
  {
"cell_type": "code",
	   "execution_count": null,
	   "metadata": {
	    "collapsed": true
	   },
	   "outputs": [],
"source": [
"clc;\n",
"//page no 50\n",
"//prob no 2.1\n",
"//Refer the fig 2.6 of page 50. L1=25uH;C1=50pF\n",
"L1=25*10^-6;C1=50*10^-12;Q=15;\n",
"//A) The resonent freqency is given as\n",
"fo=(1/(2*%pi*sqrt(L1*C1)));\n",
"disp('Hz',fo,'a)The resonent frequency is ');\n",
"//B) The bandwidth is given as \n",
"B=fo/Q;\n",
"disp('Hz',B,'The bandwidth is ');"
   ]
   }
,
{
		   "cell_type": "markdown",
		   "metadata": {},
		   "source": [
			"## Example 2.2: example_2.sce"
		   ]
		  },
  {
"cell_type": "code",
	   "execution_count": null,
	   "metadata": {
	    "collapsed": true
	   },
	   "outputs": [],
"source": [
"clc;\n",
"//page no 62\n",
"// prob no. 2.2\n",
"// Given : Hartley oscillators L=10uH; C=100pF\n",
"L=10*10^-6; C=100*10^-12;N1=10;N2=100\n",
"// A)The operating frequency is \n",
"fo=1/(2*%pi*sqrt(L*C));\n",
"disp('Hz',fo,'1)The operating frequency is');\n",
"// The feedback fraction is given by\n",
"B=-N1/N2;\n",
"//Operating gain is given as \n",
"A=1/B;\n",
"disp(A,'2)Operating gain');\n",
"disp('The -ve sign denotes a phase inversion');\n",
"//B) The operating frequency is same as in part A)\n",
"N1=20;N2=80;\n",
"// The feedback fraction is given by\n",
"B=(N1+N2)/N1;\n",
"//Operating gain is given as \n",
"A=1/B;\n",
"disp(A,'3)Operating gain');"
   ]
   }
,
{
		   "cell_type": "markdown",
		   "metadata": {},
		   "source": [
			"## Example 2.3: example_3.sce"
		   ]
		  },
  {
"cell_type": "code",
	   "execution_count": null,
	   "metadata": {
	    "collapsed": true
	   },
	   "outputs": [],
"source": [
"clc;\n",
"// page no 66\n",
"//prob no 2.3\n",
"C1=10*10^-12; C2=100*10^-12; L=1*10^-6;\n",
"// The effective capacitance is \n",
"CT=(C1*C2)/(C1+C2);\n",
"disp(CT);\n",
"// The operating frequency is \n",
"f0=1/(2*%pi*sqrt(L*CT));\n",
"disp('Hz',f0,'1)The operating frequency is');\n",
"// The feedback fraction is given approximately by\n",
"B=-C1/C2; \n",
"disp(B,'The feedback fraction is');\n",
"// For the common-base ckt, the op-freq is same but the feedback fraction willbe different.\n",
"C1=100*10^-12; C2=10*10^-12;\n",
"// It is given by \n",
"B=C2/(C1+C2);\n",
"disp(B,'The feedback fraction is');"
   ]
   }
,
{
		   "cell_type": "markdown",
		   "metadata": {},
		   "source": [
			"## Example 2.4: example_4.sce"
		   ]
		  },
  {
"cell_type": "code",
	   "execution_count": null,
	   "metadata": {
	    "collapsed": true
	   },
	   "outputs": [],
"source": [
"clc;\n",
"// page no 68\n",
"//prob no 2.4\n",
"//Refer fig 2.22\n",
"c1=1000;c2=100;c3=10;//all values are in pf\n",
"//The effective total capacitance\n",
"Ct=1/((1/c1)+(1/c2)+(1/c3));\n",
"disp('pF',Ct,'The effective total capacitance is');\n",
"CT=Ct*10^-12;L=10^-6;\n",
"//The operating freq is\n",
"f0=1/(2*%pi*sqrt(L*CT));\n",
"disp('Hz',f0,'The operating freq is');"
   ]
   }
,
{
		   "cell_type": "markdown",
		   "metadata": {},
		   "source": [
			"## Example 2.5: example_5.sce"
		   ]
		  },
  {
"cell_type": "code",
	   "execution_count": null,
	   "metadata": {
	    "collapsed": true
	   },
	   "outputs": [],
"source": [
"clc;\n",
"// page no 70\n",
"//prob no 2.5\n",
"C=80*10^-12; L= 100*10^-6;\n",
"//Part a) The resonent frequency is \n",
"f0=1/(2*%pi*sqrt(L*C));\n",
"disp('Hz',f0,'The resonent freq is');\n",
"// Part b) In this part the circuit is resonate on doubling the frequency,therefore\n",
"f1=2*f0;\n",
"// from the equation of resonent frequency \n",
"C1=1/(4*(%pi*f1)^2*L);\n",
"// Now for tuning voltage  we have to use equation C1=Co/sqrt(1+2V)\n",
"Co=C;\n",
"// after solving the expression\n",
"v=((Co/C1)^2 -1)/2;\n",
"disp('V',v,'The tuning voltage is ');"
   ]
   }
,
{
		   "cell_type": "markdown",
		   "metadata": {},
		   "source": [
			"## Example 2.7: example_6.sce"
		   ]
		  },
  {
"cell_type": "code",
	   "execution_count": null,
	   "metadata": {
	    "collapsed": true
	   },
	   "outputs": [],
"source": [
"clc;\n",
"//page no 76\n",
"//problem 2.7\n",
"// all frequencies are in MHz\n",
"f1=11;f2=10;\n",
"// output frequencies at the output of square-law mixer\n",
"a=f1+f2;\n",
"b=f1-f2;\n",
"disp('MHz',b,'MHz',a,'The output frequencies at the output of square-law mixer are :');"
   ]
   }
,
{
		   "cell_type": "markdown",
		   "metadata": {},
		   "source": [
			"## Example 2.8: example_7.sce"
		   ]
		  },
  {
"cell_type": "code",
	   "execution_count": null,
	   "metadata": {
	    "collapsed": true
	   },
	   "outputs": [],
"source": [
"clc;\n",
"//page no 85\n",
"//problem no. 2.8\n",
"// all the frequencies are in MHz\n",
"freq_free_run =12; \n",
"freq_lock1 =10;\n",
"freq_lock2 =16;\n",
"// capture range is approximately twice the difference between the free-running freq and the freq at which lock is first achieved\n",
"capture_range =2*(freq_free_run - freq_lock1 );\n",
"disp('MHz',capture_range,'The capture range is ');\n",
"// lock range is approximately twice the the difference between the freq where lock is lost and free-running freq\n",
"lock_range = 2*(freq_lock2 - freq_free_run);\n",
"disp('MHz',lock_range,'The lock range is ');\n",
"// The PLL freq response id approximate symmetrical.This means the free-running freq is in the center of the lock range and capture range. Therefore\n",
"freq_lock_acquired = freq_free_run + (capture_range/2);\n",
"freq_lock_lost = freq_free_run - capture_range\n",
"disp('MHz',freq_lock_acquired,'The freq at which the lock is acquired, moving downward in freq is ');\n",
"disp('MHz',freq_lock_lost,'Lock will be lost on the way down at');"
   ]
   }
,
{
		   "cell_type": "markdown",
		   "metadata": {},
		   "source": [
			"## Example 2.9: example_8.sce"
		   ]
		  },
  {
"cell_type": "code",
	   "execution_count": null,
	   "metadata": {
	    "collapsed": true
	   },
	   "outputs": [],
"source": [
"clc;\n",
"//page no 86\n",
"// prob no 2.9\n",
"// refer fig 2.38\n",
"//Here we are using a 10MHz crystal, it will be necessar to devide it by a factor to get 10kHz\n",
"f_osc = 10*10^6; f_ref=10*10^3;f0_1=540*10^3;f0_2=1700*10^3;\n",
"Q=f_osc/f_ref;\n",
"// we have to specify the range of values of N. Find N at each and of the tuning range\n",
"N1=f0_1/f_ref;\n",
"N2=f0_2/f_ref;\n",
"disp(N2,'The values of N at high end is',N1,'The values of N at low end is');"
   ]
   }
],
"metadata": {
		  "kernelspec": {
		   "display_name": "Scilab",
		   "language": "scilab",
		   "name": "scilab"
		  },
		  "language_info": {
		   "file_extension": ".sce",
		   "help_links": [
			{
			 "text": "MetaKernel Magics",
			 "url": "https://github.com/calysto/metakernel/blob/master/metakernel/magics/README.md"
			}
		   ],
		   "mimetype": "text/x-octave",
		   "name": "scilab",
		   "version": "0.7.1"
		  }
		 },
		 "nbformat": 4,
		 "nbformat_minor": 0
}
