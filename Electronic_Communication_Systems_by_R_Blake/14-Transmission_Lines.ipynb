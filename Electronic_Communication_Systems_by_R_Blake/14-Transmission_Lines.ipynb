{
"cells": [
 {
		   "cell_type": "markdown",
	   "metadata": {},
	   "source": [
       "# Chapter 14: Transmission Lines"
	   ]
	},
{
		   "cell_type": "markdown",
		   "metadata": {},
		   "source": [
			"## Example 14.10: example_10.sce"
		   ]
		  },
  {
"cell_type": "code",
	   "execution_count": null,
	   "metadata": {
	    "collapsed": true
	   },
	   "outputs": [],
"source": [
"clc;\n",
"//page no 481\n",
"//prob no. 14.10\n",
"//A series tuned ckt tuned at 1GHz\n",
"vf=0.95;c=3*10^8;f=10^9;\n",
"vp=vf*c;//determination of propagation velo.\n",
"wav=vp/f;//Determination of wavelength \n",
"//Determination of length\n",
"L=wav/2;//Since half wavelength section wiil be series resonant\n",
"disp('m',L,'The length should be');  "
   ]
   }
,
{
		   "cell_type": "markdown",
		   "metadata": {},
		   "source": [
			"## Example 14.11: example_11.sce"
		   ]
		  },
  {
"cell_type": "code",
	   "execution_count": null,
	   "metadata": {
	    "collapsed": true
	   },
	   "outputs": [],
"source": [
"clc;\n",
"//page no 481\n",
"//prob no. 14.10\n",
"//A Tx deliver 100W to antenna through 45m coaxial cable  with loss=4dB/100m\n",
"loss=4/100;L=45;Pout=100;\n",
"loss_dB=L*loss;//Determination of loss in dB\n",
"Pin_Pout=10^(loss_dB/10);\n",
"//Determination of Tx power\n",
"Pin=Pout*Pin_Pout;\n",
"disp('W',Pin,'The transmitter power must be');"
   ]
   }
,
{
		   "cell_type": "markdown",
		   "metadata": {},
		   "source": [
			"## Example 14.13: example_12.sce"
		   ]
		  },
  {
"cell_type": "code",
	   "execution_count": null,
	   "metadata": {
	    "collapsed": true
	   },
	   "outputs": [],
"source": [
"clc;\n",
"//page no 490\n",
"//prob no. 14.13\n",
"Zo=50;//line impedance in ohm\n",
"f=100*10^6;//operating freq\n",
"vf=0.7;//velocity factor\n",
"L=6;//length in m\n",
"c=3*10^8;//velo of light\n",
"ZL=50+%i*50;//load impedance in ohm\n",
"// we have to calculate length in degree,so for this first find wl\n",
"wl=vf*c/f;//wavength in m\n",
"ang=360*L/wl;\n",
"// now from the graph input impedance is 19.36+%i5.44;\n",
"Zi=19.36+%i*5.44;\n",
"disp('ohm',Zi,'Input impedance is');"
   ]
   }
,
{
		   "cell_type": "markdown",
		   "metadata": {},
		   "source": [
			"## Example 14.14: example_13.sce"
		   ]
		  },
  {
"cell_type": "code",
	   "execution_count": null,
	   "metadata": {
	    "collapsed": true
	   },
	   "outputs": [],
"source": [
"clc;\n",
"//page no 492\n",
"//prob no. 14.14\n",
"Zo=50;//line impedance in ohm\n",
"ZL=75+%i*25;\n",
"// the requirment of this is simply to match the 50ohm line to the impedsnce at this point on the line,which is 88.38 ohm,resistive.\n",
"Z2=88.38;//in ohm\n",
"//The required turn ratio is\n",
"N1_N2=sqrt(Zo/Z2);\n",
"disp(N1_N2,'The required turn ratio is');"
   ]
   }
,
{
		   "cell_type": "markdown",
		   "metadata": {},
		   "source": [
			"## Example 14.15: example_14.sce"
		   ]
		  },
  {
"cell_type": "code",
	   "execution_count": null,
	   "metadata": {
	    "collapsed": true
	   },
	   "outputs": [],
"source": [
"clc;\n",
"//page no 494\n",
"//prob no. 14.15\n",
"// refer prob no 14.14\n",
"Zo=50;//line impedance in ohm\n",
"Z2=88.38;//in ohm\n",
"Zo_=sqrt(Zo*Z2);\n",
"disp(Zo_');"
   ]
   }
,
{
		   "cell_type": "markdown",
		   "metadata": {},
		   "source": [
			"## Example 14.16: example_15.sce"
		   ]
		  },
  {
"cell_type": "code",
	   "execution_count": null,
	   "metadata": {
	    "collapsed": true
	   },
	   "outputs": [],
"source": [
"clc;\n",
"//page no 494\n",
"//prob no. 14.16\n",
"Zo=50;//line impedance in ohm\n",
"f=100*10^6;//operating freq in Hz\n",
"ZL1=50+%i*75;// load impedance with Xc=75\n",
"Xc=75;\n",
"// Capacitance in farads is given as\n",
"C=1/(2*%pi*f*Xc);\n",
"disp('F',C,'Capacitance is');"
   ]
   }
,
{
		   "cell_type": "markdown",
		   "metadata": {},
		   "source": [
			"## Example 14.17: example_16.sce"
		   ]
		  },
  {
"cell_type": "code",
	   "execution_count": null,
	   "metadata": {
	    "collapsed": true
	   },
	   "outputs": [],
"source": [
"clc;\n",
"//page no 497\n",
"//prob no. 14.17\n",
"Zo=72;//line impedance in ohm\n",
"ZL=120-%i*100;//load impedance\n",
"//The stub must be inserted at a point on the line where the real part of the load admittance is correct. This alue is\n",
"s=1/Zo;\n",
"disp('S',s,'The value of stude is');"
   ]
   }
,
{
		   "cell_type": "markdown",
		   "metadata": {},
		   "source": [
			"## Example 14.18: example_17.sce"
		   ]
		  },
  {
"cell_type": "code",
	   "execution_count": null,
	   "metadata": {
	    "collapsed": true
	   },
	   "outputs": [],
"source": [
"clc;\n",
"//page no 501\n",
"//prob no. 14.18\n",
"//A TDR display shows dscontinuity  at 1.4us & vf=0.8\n",
"t=1.4*10^-6;vf=0.8;c=3*10^8;//Speed of light\n",
"//Determination of distance of fault\n",
"d=(vf*c*t)/2;//One-half time is used to calculate\n",
"disp('m',d,'The distance is');"
   ]
   }
,
{
		   "cell_type": "markdown",
		   "metadata": {},
		   "source": [
			"## Example 14.19: example_18.sce"
		   ]
		  },
  {
"cell_type": "code",
	   "execution_count": null,
	   "metadata": {
	    "collapsed": true
	   },
	   "outputs": [],
"source": [
"clc;\n",
"//page no 503\n",
"//prob no. 14.19\n",
"//2 adjacent minima on slotted are 23cm apart with velo factor=95%\n",
"L=23*10^-2;vf=0.95;c=3*10^8;//Velo. of light in m/s\n",
"//Determination of wavelength\n",
"wav=2*L;//Minima are seperated by one-half wavelength\n",
"disp('cm',wav*100,'The wavelength is');\n",
"//Determination of freq.\n",
"f=(vf*c)/wav;//vp=vf*c\n",
"disp('MHz',f/10^6,'The freq is'); "
   ]
   }
,
{
		   "cell_type": "markdown",
		   "metadata": {},
		   "source": [
			"## Example 14.1: example_1.sce"
		   ]
		  },
  {
"cell_type": "code",
	   "execution_count": null,
	   "metadata": {
	    "collapsed": true
	   },
	   "outputs": [],
"source": [
"clc;\n",
"//page no 461\n",
"//prob no. 14.1\n",
"//A coaxial cable with capacitance=90pF/m & characteristic impedance=50 ohm\n",
"C=90*10^-12;Zo=50;\n",
"//Determination of inductance of 1m length\n",
"L=(Zo^2)*C;\n",
"disp('nH/m',L*10^9,'The inductance of 1m length is');"
   ]
   }
,
{
		   "cell_type": "markdown",
		   "metadata": {},
		   "source": [
			"## Example 14.20: example_19.sce"
		   ]
		  },
  {
"cell_type": "code",
	   "execution_count": null,
	   "metadata": {
	    "collapsed": true
	   },
	   "outputs": [],
"source": [
"clc;\n",
"//page no 504\n",
"//prob no. 14.20\n",
"//Frwd power in Tx line is 150W,Reverse power=20W\n",
"Pi=150;Pr=20;//All power in watt\n",
"//Determination of SWR\n",
"SWR=(1+sqrt(Pr/Pi))/(1-sqrt(Pr/Pi));\n",
"disp(SWR,'The value of SWR is');"
   ]
   }
,
{
		   "cell_type": "markdown",
		   "metadata": {},
		   "source": [
			"## Example 14.2: example_2.sce"
		   ]
		  },
  {
"cell_type": "code",
	   "execution_count": null,
	   "metadata": {
	    "collapsed": true
	   },
	   "outputs": [],
"source": [
"clc;\n",
"//page no 462\n",
"//prob no. 14.2\n",
"//a)Determination of impedance of open wire with diameter 3mm & r=10mm\n",
"D=3/2;r=10;//All values are in mm\n",
"Zo1=276*log10(r/D); \n",
"disp('ohm',Zo1,'a)The characteristic impedance of conductor is');\n",
"//b)Determination of impedance of coaxial with er=2.3,inner diameter=2mm & outer diameter=8mm\n",
"er=2.3;D=8;d=2;//All diameter values in mm\n",
"Zo2=(138/sqrt(er))*log10(D/d);\n",
"disp('ohm',Zo2,'b)The characteristic impedance of coaxial cable is');"
   ]
   }
,
{
		   "cell_type": "markdown",
		   "metadata": {},
		   "source": [
			"## Example 14.3: example_3.sce"
		   ]
		  },
  {
"cell_type": "code",
	   "execution_count": null,
	   "metadata": {
	    "collapsed": true
	   },
	   "outputs": [],
"source": [
"clc;\n",
"//page no 463\n",
"//prob no. 14.3\n",
"//Cable with teflon dielectric er=2.1\n",
"er=2.1;c=3*10^8;//Velocity of light\n",
"//Determination of velocity factor\n",
"Vf=1/sqrt(er);\n",
"disp(Vf,'The value of velocity factor is');\n",
"//Determination of propagation velocity\n",
"Vp=Vf*c;\n",
"disp('m/s',Vp,'The value of propagation velo. is');"
   ]
   }
,
{
		   "cell_type": "markdown",
		   "metadata": {},
		   "source": [
			"## Example 14.4: example_4.sce"
		   ]
		  },
  {
"cell_type": "code",
	   "execution_count": null,
	   "metadata": {
	    "collapsed": true
	   },
	   "outputs": [],
"source": [
"clc;\n",
"//page no 468\n",
"//prob no. 14.4\n",
"//Refer fig. 14.13(a)\n",
"vs=1;//source voltage\n",
"Rs=50;//source resistance\n",
"Zo=50;//line impedance\n",
"RL=25;//load resistance\n",
"l=10;//length of line\n",
"vf=0.7;//velocity factor\n",
"Vi=0.5;\n",
"c=3*10^8;//velo of light\n",
"//Vs will divide between Rs and Zo of the line.Since two resistors are equal,the voltage will divide equally.\n",
"//Therefore at t=0,the voltage at the source end of the line will rise from zero to 0.5V. The voltage at the load will remain zero untill the surge reaches it.The time for this is\n",
"T=l/(vf*c);\n",
"// After T sec, the voltage at the load will rise.The reflection coefficient is given as\n",
"refl_coeff=(RL-Zo)/(RL+Zo)\n",
"//Now reflection voltage is \n",
"Vr=refl_coeff * Vi;\n",
"//The total voltage at the load is\n",
"Vt=Vr+Vi;\n",
"disp('V',Vt,'The total voltage at the load is');\n",
"// The reflected voltage will propogate back along the line,reaching the source at time 2T.After this the voltage will be 0.3335V all along the line\n",
"//The voltage across the line, and the load will be\n",
"VL=vs*(RL/(RL+Zo));\n",
"disp('V',VL,'The voltage across the line,');"
   ]
   }
,
{
		   "cell_type": "markdown",
		   "metadata": {},
		   "source": [
			"## Example 14.5: example_5.sce"
		   ]
		  },
  {
"cell_type": "code",
	   "execution_count": null,
	   "metadata": {
	    "collapsed": true
	   },
	   "outputs": [],
"source": [
"clc;\n",
"//page no 472\n",
"//prob no. 14.5\n",
"//Standard coaxial cable RG-8/U with 45 degree phase shift at 200MHz\n",
"p=45;f=200*10^6;c=3*10^8;//Speed of light in m/s\n",
"vf=0.66;//velo. factor for this line\n",
"vp=vf*c;//Determination of propagation velo.\n",
"wav=vp/f;//Determination of wavelength of signal\n",
"//Determination of reqd length for 45 degree phase shift\n",
"L=wav*(p/360);\n",
"disp('m',L,'The length reqd for phase shift is');"
   ]
   }
,
{
		   "cell_type": "markdown",
		   "metadata": {},
		   "source": [
			"## Example 14.6: example_6.sce"
		   ]
		  },
  {
"cell_type": "code",
	   "execution_count": null,
	   "metadata": {
	    "collapsed": true
	   },
	   "outputs": [],
"source": [
"clc;\n",
"//page no 476\n",
"//prob no. 14.6\n",
"//A 50ohm line terminated in 25ohm resistance\n",
"Zo=50;Zl=25;\n",
"//Determination of SWR\n",
"SWR=Zo/Zl;//In this case Zo>Zl\n",
"disp(SWR,'The value of SWR is');"
   ]
   }
,
{
		   "cell_type": "markdown",
		   "metadata": {},
		   "source": [
			"## Example 14.7: example_7.sce"
		   ]
		  },
  {
"cell_type": "code",
	   "execution_count": null,
	   "metadata": {
	    "collapsed": true
	   },
	   "outputs": [],
"source": [
"clc;\n",
"//page no 477\n",
"//prob no. 14.7\n",
"//A generator sends 50mW at 50ohm line & reflection coeff I=0.5\n",
"Pi=50;I=0.5;\n",
"//Determination of amount of power reflected\n",
"Pr=(I^2)*Pi;\n",
"disp('mW',Pr,'The amount of power reflected is');\n",
"//Determination of remainder power that reaches load\n",
"Pl=Pi-Pr;\n",
"disp('mW',Pl,'The power dissipated in load is');"
   ]
   }
,
{
		   "cell_type": "markdown",
		   "metadata": {},
		   "source": [
			"## Example 14.8: example_8.sce"
		   ]
		  },
  {
"cell_type": "code",
	   "execution_count": null,
	   "metadata": {
	    "collapsed": true
	   },
	   "outputs": [],
"source": [
"clc;\n",
"//page no 478\n",
"//prob no. 14.8\n",
"//A transmitter supplies 50W with SWR 2:1\n",
"Pi=50;SWR=2;\n",
"//Determination of power absorbed by load\n",
"Pl=(4*SWR*Pi)/(1+SWR)^2;\n",
"disp('W',Pl,'The power absorbed by load is');"
   ]
   }
,
{
		   "cell_type": "markdown",
		   "metadata": {},
		   "source": [
			"## Example 14.9: example_9.sce"
		   ]
		  },
  {
"cell_type": "code",
	   "execution_count": null,
	   "metadata": {
	    "collapsed": true
	   },
	   "outputs": [],
"source": [
"clc;\n",
"// page no 545\n",
"// prob no 14.9\n",
"Zo=50;// line impedence in ohm\n",
"ZL=100;// load impedance in ohm\n",
"vf=0.8;//velocity factor\n",
"l=1;//length of line\n",
"f=30*10^6;// freq of operation\n",
"c=3*10^8;//velo of light\n",
"// we have to find the length of line in degree\n",
"wl=vf*c/f//wavelength\n",
"// Then the length of line in degree is\n",
"ang=l/wl*360\n",
"// calculation of impedance\n",
"Z=Zo*(ZL+(%i*Zo*tand(ang)))/(Zo+(%i*ZL*tand(ang)));\n",
"disp('ohm',Z,'The impedance looking toward the load');"
   ]
   }
],
"metadata": {
		  "kernelspec": {
		   "display_name": "Scilab",
		   "language": "scilab",
		   "name": "scilab"
		  },
		  "language_info": {
		   "file_extension": ".sce",
		   "help_links": [
			{
			 "text": "MetaKernel Magics",
			 "url": "https://github.com/calysto/metakernel/blob/master/metakernel/magics/README.md"
			}
		   ],
		   "mimetype": "text/x-octave",
		   "name": "scilab",
		   "version": "0.7.1"
		  }
		 },
		 "nbformat": 4,
		 "nbformat_minor": 0
}
