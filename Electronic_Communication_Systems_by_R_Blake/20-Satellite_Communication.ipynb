{
"cells": [
 {
		   "cell_type": "markdown",
	   "metadata": {},
	   "source": [
       "# Chapter 20: Satellite Communication"
	   ]
	},
{
		   "cell_type": "markdown",
		   "metadata": {},
		   "source": [
			"## Example 20.1: example_1.sce"
		   ]
		  },
  {
"cell_type": "code",
	   "execution_count": null,
	   "metadata": {
	    "collapsed": true
	   },
	   "outputs": [],
"source": [
"clc;\n",
"// page no 754\n",
"// prob no 20.1\n",
"// part A)\n",
"d=500;\n",
"//By using the equation for velocity of a satellite\n",
"v=sqrt(4*10^11/(d+6400));\n",
"disp('m/s',v,'A) The velocity of a satellite is');\n",
"// The radius of orbit is \n",
"r=(6400+d)*10^3//in m\n",
"//The orbital period of satellite is\n",
"T=(2*%pi*r)/v;\n",
"disp('sec',T,'The orbital period of satellite is');\n",
"//part B)\n",
"d=36000;\n",
"//By using the equation for velocity of a satellite\n",
"v=sqrt(4*10^11/(d+6400));\n",
"disp('m/s',v,'B) The velocity of a satellite is');\n",
"//The radius of orbit is \n",
"r=(6400+d)*10^3//in m\n",
"//The orbital period of satellite is\n",
"T=(2*%pi*r)/v;\n",
"disp('sec',T,'The orbital period of satellite is');"
   ]
   }
,
{
		   "cell_type": "markdown",
		   "metadata": {},
		   "source": [
			"## Example 20.2: example_2.sce"
		   ]
		  },
  {
"cell_type": "code",
	   "execution_count": null,
	   "metadata": {
	    "collapsed": true
	   },
	   "outputs": [],
"source": [
"clc;\n",
"// page no 757\n",
"// prob no 20.2\n",
"R=6400;//Radius of earth\n",
"L=45;//earth station lattitude\n",
"H=36000//Height of satellite above the  earth;\n",
"ang=atand((6400*sind(45))/(36000+(6400*(1-cosd(45)))));\n",
"disp(ang);"
   ]
   }
,
{
		   "cell_type": "markdown",
		   "metadata": {},
		   "source": [
			"## Example 20.3: example_3.sce"
		   ]
		  },
  {
"cell_type": "code",
	   "execution_count": null,
	   "metadata": {
	    "collapsed": true
	   },
	   "outputs": [],
"source": [
"clc;\n",
"// page no 758\n",
"// prob no 20.3\n",
"//Determination of lenght of geostationary satellite with angle of elavation=30 degree\n",
"r=64*10^5;//Radius of earth\n",
"h=36*10^6;//height of satellite\n",
"theta=30;//angle of elevation \n",
"d=sqrt(((r+h)^2)-((r*cosd(theta))^2))-(r*sind(theta));\n",
"disp('km',d/1000,'The length of the path is');"
   ]
   }
,
{
		   "cell_type": "markdown",
		   "metadata": {},
		   "source": [
			"## Example 20.4: example_4.sce"
		   ]
		  },
  {
"cell_type": "code",
	   "execution_count": null,
	   "metadata": {
	    "collapsed": true
	   },
	   "outputs": [],
"source": [
"clc;\n",
"// page no 759\n",
"// prob no 20.4\n",
"//A satellite transmitter operates at 4GHz with 7W & antenna gain 40dBi\n",
"//Receiver antenna gain 30dBi & path length is 4*10^7\n",
"Gt_dBi=40;Gr_dBi=30;Pt=7;d=40000;//in km\n",
"f=4000;//in MHz\n",
"Pr_Pt_dB=Gt_dBi+Gr_dBi-(32.44+(20*log10(d))+(20*log10(f)));\n",
"//Signal strength at transmitter \n",
"Pt_dBm=10*log10(Pt/10^-3);\n",
"Pr_dBm=(Pt_dBm)+(Pr_Pt_dB);\n",
"disp('dBm',Pr_dBm,'The value of signal strength at receiver');"
   ]
   }
,
{
		   "cell_type": "markdown",
		   "metadata": {},
		   "source": [
			"## Example 20.5: example_5.sce"
		   ]
		  },
  {
"cell_type": "code",
	   "execution_count": null,
	   "metadata": {
	    "collapsed": true
	   },
	   "outputs": [],
"source": [
"clc;\n",
"// page no 760\n",
"// prob no 20.5\n",
"// In the given problem\n",
"G=40;// receiving antenna gain\n",
"T_sky=15;// noise temp\n",
"L=0.4;//loss between antenna and LNA input\n",
"T_eq =40;// noise temperature f LNA\n",
"// Fir-st we have to find G in dB\n",
"G_dB = G-L;\n",
"// For the calculation of T, we have to convert the feedhorn loss into a ratio as follows\n",
"L=10^(0.4/10);\n",
"Ta = ((L-1)*290 + T_sky )/ L;\n",
"// The receiver noise temperature is given wrt the chosen reference point,theefore\n",
"Ratio= G -10*log10(Ta+T_eq);\n",
"disp('dB',Ratio,'The receiver noise temperature is');"
   ]
   }
,
{
		   "cell_type": "markdown",
		   "metadata": {},
		   "source": [
			"## Example 20.6: example_6.sce"
		   ]
		  },
  {
"cell_type": "code",
	   "execution_count": null,
	   "metadata": {
	    "collapsed": true
	   },
	   "outputs": [],
"source": [
"clc;\n",
"// page no 761\n",
"// prob no 20.6\n",
"NF_dB=1.5;// noise fig of a receiver\n",
"NF=10^(NF_dB/10);\n",
"// Equivalent noise temperature is giveb as\n",
"T_eq=290*(NF-1);\n",
"disp('K',T_eq,'Equivalent noise temperature is');"
   ]
   }
,
{
		   "cell_type": "markdown",
		   "metadata": {},
		   "source": [
			"## Example 20.7: example_7.sce"
		   ]
		  },
  {
"cell_type": "code",
	   "execution_count": null,
	   "metadata": {
	    "collapsed": true
	   },
	   "outputs": [],
"source": [
"clc;\n",
"// page no 761\n",
"// prob no 20.7\n",
"// refer prob no 20.5\n",
"d=38000;//distance of satellite from the Earth surface\n",
"P=50;//transmitter power\n",
"G=30;//antenna gain\n",
"f=12000;//frequency in MHz\n",
"B=10^6;// Bandwidth in MHz\n",
"//from problem no 2.5\n",
"G_T=21;\n",
"L_misc=0;\n",
"k_dBW=-228.6;//Boltzmann's constant in dBW\n",
"// There are no miscellaneous loss\n",
"//The stellite transmitting power in dBW is \n",
"Pt_dBW = 10*log10(P);\n",
"// The EIPR in dBW \n",
"EIRP_dBW=Pt_dBW + G;\n",
"//FSL in dB\n",
"FSL_dB= 32.44 + (20*log10(d)) + (20*log10(f));\n",
"// The carrier to noise ratio is\n",
"ratio=EIRP_dBW - FSL_dB - L_misc + G_T - k_dBW - 10*log10(B);\n",
"disp('dB',ratio,'The carrier to noise ratio at the receiver is');"
   ]
   }
,
{
		   "cell_type": "markdown",
		   "metadata": {},
		   "source": [
			"## Example 20.8: example_8.sce"
		   ]
		  },
  {
"cell_type": "code",
	   "execution_count": null,
	   "metadata": {
	    "collapsed": true
	   },
	   "outputs": [],
"source": [
"clc;\n",
"// page no 762\n",
"// prob no 20.8\n",
"D=40000;// distance of satellite from the earth station\n",
"v=3*10^8;// velo of light\n",
"d=80000;// distance between two earth stations\n",
"// time delay is given as\n",
"t=d/v;\n",
"// total time delay will be twice that of calculated above\n",
"T=2*t;\n",
"disp('sec',T,'The total time delay is ');"
   ]
   }
,
{
		   "cell_type": "markdown",
		   "metadata": {},
		   "source": [
			"## Example 20.9: example_9.sce"
		   ]
		  },
  {
"cell_type": "code",
	   "execution_count": null,
	   "metadata": {
	    "collapsed": true
	   },
	   "outputs": [],
"source": [
"clc;\n",
"// page no 769\n",
"// prob no 20.9\n",
"f_down = 4*10^9;// downlink freq\n",
"D=3;//diameter\n",
"n=0.55;//efficiency\n",
"c=3*10^8;//velo of light\n",
"// The gain of a parabolic antenna is given as G=(n*%pi^2*D^2)/wl^2. Therefore wavelength is given as\n",
"wl=c/f_down\n",
"G=(n*%pi^2*D^2)/wl^2;\n",
"G_dB = 10*log10(G);\n",
"disp('dB',G_dB,'The gain of TVRO is ');\n",
"// The beamwidth is given as\n",
"bw= (70*wl)/D;\n",
"disp('degree',bw,'The beamwidth is');"
   ]
   }
],
"metadata": {
		  "kernelspec": {
		   "display_name": "Scilab",
		   "language": "scilab",
		   "name": "scilab"
		  },
		  "language_info": {
		   "file_extension": ".sce",
		   "help_links": [
			{
			 "text": "MetaKernel Magics",
			 "url": "https://github.com/calysto/metakernel/blob/master/metakernel/magics/README.md"
			}
		   ],
		   "mimetype": "text/x-octave",
		   "name": "scilab",
		   "version": "0.7.1"
		  }
		 },
		 "nbformat": 4,
		 "nbformat_minor": 0
}
