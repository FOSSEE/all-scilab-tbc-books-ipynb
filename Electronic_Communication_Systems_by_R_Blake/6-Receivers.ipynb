{
"cells": [
 {
		   "cell_type": "markdown",
	   "metadata": {},
	   "source": [
       "# Chapter 6: Receivers"
	   ]
	},
{
		   "cell_type": "markdown",
		   "metadata": {},
		   "source": [
			"## Example 6.10: example_8.sce"
		   ]
		  },
  {
"cell_type": "code",
	   "execution_count": null,
	   "metadata": {
	    "collapsed": true
	   },
	   "outputs": [],
"source": [
"clc;\n",
"//page no 261\n",
"//prob no. 6.10\n",
"//Receiver refering in fig.6.28\n",
"f_sig=25*10^6;//signal i/p freq\n",
"f_lo1=29.5*10^6;//Ist local oscillator freq\n",
"//determination of Ist IF which uses high side injection\n",
"f_IF1=f_lo1-f_sig;//high side injection\n",
"disp('MHz',f_IF1/10^6,'The first IF is');\n",
"//Determination of IInd IF which uses low side injection\n",
"f_lo2=4*10^6;//IInd local oscillator freq\n",
"f_IF2=f_IF1-f_lo2;\n",
"disp('kHz',f_IF2/10^3,'The second IF is');"
   ]
   }
,
{
		   "cell_type": "markdown",
		   "metadata": {},
		   "source": [
			"## Example 6.11: example_9.sce"
		   ]
		  },
  {
"cell_type": "code",
	   "execution_count": null,
	   "metadata": {
	    "collapsed": true
	   },
	   "outputs": [],
"source": [
"clc;\n",
"//page no 265\n",
"//prob no. 6.11\n",
"//An S-meter is given\n",
"V1=50*10^-6;//signal strength at transmitter in V\n",
"P=18;//18 dB power\n",
"V2=V1/(10^(P/20));\n",
"disp('uV',V2*10^6,'Signal strength at receiver i/p is'); "
   ]
   }
,
{
		   "cell_type": "markdown",
		   "metadata": {},
		   "source": [
			"## Example 6.1: example_1.sce"
		   ]
		  },
  {
"cell_type": "code",
	   "execution_count": null,
	   "metadata": {
	    "collapsed": true
	   },
	   "outputs": [],
"source": [
"clc;\n",
"//page no 227\n",
"//prob no. 6.1\n",
"//A tuned ckt with broadast band (540 to 1700 kHz).Bw=10kHz at 540 kHz\n",
"BW1=10*10^3;f1=540*10^3;f2=1700*10^3;//all in Hz\n",
"//Determination of BW at 1700kHz\n",
"BW2=BW1*sqrt(f2/f1);\n",
"disp('kHz',BW2/1000,'The Bandwidth at 1700kHz');"
   ]
   }
,
{
		   "cell_type": "markdown",
		   "metadata": {},
		   "source": [
			"## Example 6.4: example_2.sce"
		   ]
		  },
  {
"cell_type": "code",
	   "execution_count": null,
	   "metadata": {
	    "collapsed": true
	   },
	   "outputs": [],
"source": [
"clc;\n",
"//page no 236\n",
"//prob no. 6.4\n",
"//A receiver with sensitivity 0.5uV & blocking dynamic range 70dB.\n",
"//Determination of vpltage signal V1 \n",
"P1_P2=70;V2=0.5*10^-6;//let\n",
"V1=V2*10^(P1_P2/20);\n",
" disp('mV',V1*1000,'The voltage value of signal is');"
   ]
   }
,
{
		   "cell_type": "markdown",
		   "metadata": {},
		   "source": [
			"## Example 6.5: example_3.sce"
		   ]
		  },
  {
"cell_type": "code",
	   "execution_count": null,
	   "metadata": {
	    "collapsed": true
	   },
	   "outputs": [],
"source": [
"clc;\n",
"//page no 238\n",
"//prob no. 6.5\n",
"//Refer the fig 6.5\n",
"//A receiver tuned to station at 590kHz \n",
"f_if=455*10^3;//Intermediate freq\n",
"f_sig=590*10^3;\n",
"//a)Determintion of image freq\n",
"f_image=f_sig+2*f_if;\n",
"disp('kHz',f_image/1000,'a)The image freq is');\n",
"Q=40;//Q_factor\n",
"//b)Determination of image rejection \n",
"x=(f_image/f_sig)-(f_sig/f_image);\n",
"Asig_Aimage=sqrt(1+(Q*x)^2);//image rejection\n",
"//converting in dB\n",
"IR_dB=20*log10(Asig_Aimage);\n",
"disp('dB',IR_dB,'b)The image rejection is');"
   ]
   }
,
{
		   "cell_type": "markdown",
		   "metadata": {},
		   "source": [
			"## Example 6.6: example_4.sce"
		   ]
		  },
  {
"cell_type": "code",
	   "execution_count": null,
	   "metadata": {
	    "collapsed": true
	   },
	   "outputs": [],
"source": [
"clc;\n",
"//page no 239\n",
"//prob no. 6.6\n",
"//An AM high-freq receiver with IF=1.8MHz tuned at freq 10MHz\n",
"f_sig=10;f_if=1.8;//All freq in MHz\n",
"//Determination of local oscillator freq f_lo\n",
"f_lo=f_sig+f_if;\n",
"//determination of freq. that cause IF response\n",
"m=[1 1 2 2];//values of m that are integer\n",
"n=[1 2 1 2];//values of n that are integer\n",
"for i=1:4\n",
"    fs1(i)=((m(i)/n(i))*(f_lo))+((f_if)/n(i));\n",
"end;\n",
"for i=1:4\n",
"    fs2(i)=((m(i)/n(i))*(f_lo))-((f_if)/n(i));\n",
"end;\n",
"disp('All freqs are in MHz',fs2,fs1,'The different freqs are');"
   ]
   }
,
{
		   "cell_type": "markdown",
		   "metadata": {},
		   "source": [
			"## Example 6.7: example_5.sce"
		   ]
		  },
  {
"cell_type": "code",
	   "execution_count": null,
	   "metadata": {
	    "collapsed": true
	   },
	   "outputs": [],
"source": [
"clc;\n",
"//page no 245\n",
"//prob no. 6.7\n",
"//An FM detector produce Vpp=1.2V with dev=10kHz\n",
"Vpp=1.2;dev=10*10^3;\n",
"//Determination of detector sensitivity\n",
"Vp=Vpp/2;//Peak voltage\n",
"kd=Vp/dev;\n",
"disp('uV/Hz',kd*10^6,'the sensitivity of detector is');"
   ]
   }
,
{
		   "cell_type": "markdown",
		   "metadata": {},
		   "source": [
			"## Example 6.8: example_6.sce"
		   ]
		  },
  {
"cell_type": "code",
	   "execution_count": null,
	   "metadata": {
	    "collapsed": true
	   },
	   "outputs": [],
"source": [
"clc;\n",
"//page no 249\n",
"//prob no. 6.8\n",
"//A PLL FM detector with kf=100kHz/V & dev=75kHz\n",
"kf=100*10^3;dev=75*10^3;\n",
"//Determination of RMS voltage\n",
"Vp_op=dev/kf;\n",
"//Converting peak voltage in RMS voltage\n",
"V_RMS=Vp_op/sqrt(2);\n",
"disp('V',V_RMS,'The RMS voltage is');"
   ]
   }
,
{
		   "cell_type": "markdown",
		   "metadata": {},
		   "source": [
			"## Example 6.9: example_7.sce"
		   ]
		  },
  {
"cell_type": "code",
	   "execution_count": null,
	   "metadata": {
	    "collapsed": true
	   },
	   "outputs": [],
"source": [
"clc;\n",
"//page no 258\n",
"//prob no. 6.9\n",
"//An IF transformer at 455kHz & primary ckt has Qp=40 & secondary Q=30\n",
"fo=455*10^3;Qp=40;Qs=30;\n",
"//a)Determination of critical coupling factor\n",
"kc=1/sqrt(Qp*Qs);\n",
"disp(kc,'a)The critical coupling factor is');\n",
"//b)Determination of optimum coupling factor\n",
"Kopt=1.5*kc;\n",
"disp(Kopt,'b)The optimum coupling factor is');\n",
"//c)Determination of optimum coupling factor\n",
"B=Kopt*fo;\n",
"disp('kHz',B/1000,'c)The BW using optimum coupling factor is');"
   ]
   }
],
"metadata": {
		  "kernelspec": {
		   "display_name": "Scilab",
		   "language": "scilab",
		   "name": "scilab"
		  },
		  "language_info": {
		   "file_extension": ".sce",
		   "help_links": [
			{
			 "text": "MetaKernel Magics",
			 "url": "https://github.com/calysto/metakernel/blob/master/metakernel/magics/README.md"
			}
		   ],
		   "mimetype": "text/x-octave",
		   "name": "scilab",
		   "version": "0.7.1"
		  }
		 },
		 "nbformat": 4,
		 "nbformat_minor": 0
}
