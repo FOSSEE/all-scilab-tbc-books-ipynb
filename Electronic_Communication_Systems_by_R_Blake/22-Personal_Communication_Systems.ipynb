{
"cells": [
 {
		   "cell_type": "markdown",
	   "metadata": {},
	   "source": [
       "# Chapter 22: Personal Communication Systems"
	   ]
	},
{
		   "cell_type": "markdown",
		   "metadata": {},
		   "source": [
			"## Example 22.1: example_1.sce"
		   ]
		  },
  {
"cell_type": "code",
	   "execution_count": null,
	   "metadata": {
	    "collapsed": true
	   },
	   "outputs": [],
"source": [
"clc;\n",
"// page no 842\n",
"// prob no 22.1\n",
"PR = -100;//In dBm\n",
"// The mobile transmitted power is\n",
"PT_dBm =-76-PR;//this is in dBm\n",
"disp('or','dBm',PT_dBm,'The mobile transmitted power in dBm is');\n",
"PT_mW =10^(PT_dBm/10);\n",
"disp('mW',PT_mW,'The mobile transmitted power is');"
   ]
   }
],
"metadata": {
		  "kernelspec": {
		   "display_name": "Scilab",
		   "language": "scilab",
		   "name": "scilab"
		  },
		  "language_info": {
		   "file_extension": ".sce",
		   "help_links": [
			{
			 "text": "MetaKernel Magics",
			 "url": "https://github.com/calysto/metakernel/blob/master/metakernel/magics/README.md"
			}
		   ],
		   "mimetype": "text/x-octave",
		   "name": "scilab",
		   "version": "0.7.1"
		  }
		 },
		 "nbformat": 4,
		 "nbformat_minor": 0
}
