{
"cells": [
 {
		   "cell_type": "markdown",
	   "metadata": {},
	   "source": [
       "# Chapter 15: Radio Wave Propogation"
	   ]
	},
{
		   "cell_type": "markdown",
		   "metadata": {},
		   "source": [
			"## Example 15.11: example_10.sce"
		   ]
		  },
  {
"cell_type": "code",
	   "execution_count": null,
	   "metadata": {
	    "collapsed": true
	   },
	   "outputs": [],
"source": [
"clc;\n",
"// page no 545\n",
"// prob no 15.11\n",
"// An automobile travels at 60km/hr\n",
"v=60*10^3/(60*60);//conversion of car's speedto m/s\n",
"c=3*10^8;//speed of light\n",
"//part a) calculation of time between fades if car uses a cell phone at 800*10^6Hz\n",
"f=800*10^6;\n",
"T=c/(2*f*v);\n",
"disp('sec',T,'The fading period is');\n",
"//part b) calculation of time between fades if car uses a PCS phone at 1900*10^6Hz\n",
"f=1900*10^6;\n",
"T=c/(2*f*v);\n",
"disp('sec',T,'The fading period is');\n",
"// Note that the rapidity of the fading increases with both the frequency of the transmissions and the speed of the vehicle"
   ]
   }
,
{
		   "cell_type": "markdown",
		   "metadata": {},
		   "source": [
			"## Example 15.12: example_11.sce"
		   ]
		  },
  {
"cell_type": "code",
	   "execution_count": null,
	   "metadata": {
	    "collapsed": true
	   },
	   "outputs": [],
"source": [
"clc;\n",
"//page no 550\n",
"// problem no 15.12\n",
"A=1000;//metropolitian area expressed in sq. km\n",
"r=2;//radius of cell in km\n",
"// Number of cell sites given as\n",
"N=A/(3.464*r^2);\n",
"disp(N,'Number of cell sites are');"
   ]
   }
,
{
		   "cell_type": "markdown",
		   "metadata": {},
		   "source": [
			"## Example 15.1: example_1.sce"
		   ]
		  },
  {
"cell_type": "code",
	   "execution_count": null,
	   "metadata": {
	    "collapsed": true
	   },
	   "outputs": [],
"source": [
"clc;\n",
"//page no 517\n",
"//prob no. 15.1\n",
"//Dielectric constt=2.3\n",
"er=2.3;\n",
"//Determination of characteristic impedance\n",
"Z=377/sqrt(er);\n",
"disp('ohm',Z,'The charasteristic impedance of polyethylene is');"
   ]
   }
,
{
		   "cell_type": "markdown",
		   "metadata": {},
		   "source": [
			"## Example 15.2: example_2.sce"
		   ]
		  },
  {
"cell_type": "code",
	   "execution_count": null,
	   "metadata": {
	    "collapsed": true
	   },
	   "outputs": [],
"source": [
"clc;\n",
"//page no 518\n",
"//prob no. 15.2\n",
"//Dielelectric strength of air=3MV/m\n",
"e=3*10^6;//electric field strength\n",
"Z=377;//impedance of air\n",
"Pd=(e^2)/Z;//Determination of power density\n",
"disp('GW/m2',Pd/10^9,'The max power density is');"
   ]
   }
,
{
		   "cell_type": "markdown",
		   "metadata": {},
		   "source": [
			"## Example 15.3: example_3.sce"
		   ]
		  },
  {
"cell_type": "code",
	   "execution_count": null,
	   "metadata": {
	    "collapsed": true
	   },
	   "outputs": [],
"source": [
"clc;\n",
"//page no 520\n",
"//prob no. 15.3\n",
"//An isotropic radiator with power 100W & dist given is 10km\n",
"Pt=100;r=10*10^3;\n",
"//Determination of power density at r=10km\n",
"Pd=Pt/(4*%pi*(r^2));\n",
"disp('nW/m2',Pd*10^9,'Power density at a point 10km');"
   ]
   }
,
{
		   "cell_type": "markdown",
		   "metadata": {},
		   "source": [
			"## Example 15.4: example_4.sce"
		   ]
		  },
  {
"cell_type": "code",
	   "execution_count": null,
	   "metadata": {
	    "collapsed": true
	   },
	   "outputs": [],
"source": [
"clc;\n",
"//page no 521\n",
"//prob no. 15.4\n",
"//An isotropic radiator radiates power=100W at point 10km\n",
"Pt=100;r=10*10^3;\n",
"//Determination of electric field strength\n",
"e=sqrt(30*Pt)/r;\n",
"disp('mW/m',e*1000,'The electric field strength is');"
   ]
   }
,
{
		   "cell_type": "markdown",
		   "metadata": {},
		   "source": [
			"## Example 15.5: example_5.sce"
		   ]
		  },
  {
"cell_type": "code",
	   "execution_count": null,
	   "metadata": {
	    "collapsed": true
	   },
	   "outputs": [],
"source": [
"clc;\n",
"//page no 525\n",
"//prob no. 15.5\n",
"//A transmitter with power o/p=150W at fc=325MHz.antenna gain=12dBi receiver antenna gain=5dBi at 10km away\n",
"//considering no loss in the system\n",
"d=10;Gt_dBi=12;Gr_dBi=5;fc=325;Pt=150;\n",
"//Determination of power delivered\n",
"Lfs=32.44+(20*log10(d))+(20*log10(fc))-(Gt_dBi)-(Gr_dBi);\n",
"Pr=Pt/(10^(Lfs/10));\n",
"disp('nW',Pr*10^9,'The power delivered to receiver is'); "
   ]
   }
,
{
		   "cell_type": "markdown",
		   "metadata": {},
		   "source": [
			"## Example 15.6: example_6.sce"
		   ]
		  },
  {
"cell_type": "code",
	   "execution_count": null,
	   "metadata": {
	    "collapsed": true
	   },
	   "outputs": [],
"source": [
"clc;\n",
"//page no 525\n",
"//prob no. 15.6\n",
"//A transmitter with o/p power=10W at fc=250MHz,connected to Tx 10m line with loss=3dB/100m t0 antenna with gain=6dBi.Rx antenna 20km away with gain=4dBi \n",
"//Refer fig.15.6,assuming free space propagation\n",
"d=20;fc=250;Gt_dBi=6;Gr_dBi=4;loss=3/100;Zl=75;Zo=50;L=10;Pt=10;\n",
"Lfs=32.44+(20*log10(d))+(20*log10(fc))-Gt_dBi-Gr_dBi;//path loss\n",
"disp(Lfs);\n",
"L_tx=L*loss;//Determination of loss\n",
"ref_coe=(Zl-Zo)/(Zl+Zo);//Reflection coefficient\n",
"L_rx=1-(ref_coe^2);//Proportion of incident power that reaches load\n",
"L_rx_dB=-10*log10(L_rx);//Converting that proportion in dB\n",
"//Determination of total loss Lt\n",
"Lt=(Lfs)+(L_tx)+(L_rx_dB);\n",
"//Determination of power delivered to receiver\n",
"Pt_Pr=10^(Lt/10);//Power ratio\n",
"Pr=Pt/Pt_Pr;\n",
"disp('W',Pr,'The power delivered to receiver is');"
   ]
   }
,
{
		   "cell_type": "markdown",
		   "metadata": {},
		   "source": [
			"## Example 15.7: example_7.sce"
		   ]
		  },
  {
"cell_type": "code",
	   "execution_count": null,
	   "metadata": {
	    "collapsed": true
	   },
	   "outputs": [],
"source": [
"clc;\n",
"//page no 530\n",
"//prob no. 15.7\n",
"//A radio wave moves from air(er=1) to glass(er=7.8).angle of incidence=30 deg\n",
"theta_i=30;er1=1;er2=7.8;\n",
"//determination of angle of refraction\n",
"theta_r=asind((sind(theta_i))/(sqrt(er2/er1)));\n",
"disp('degree',theta_r,'The angle of refraction is');"
   ]
   }
,
{
		   "cell_type": "markdown",
		   "metadata": {},
		   "source": [
			"## Example 15.8: example_8.sce"
		   ]
		  },
  {
"cell_type": "code",
	   "execution_count": null,
	   "metadata": {
	    "collapsed": true
	   },
	   "outputs": [],
"source": [
"clc;\n",
"//page no 537\n",
"//prob no. 15.8\n",
"//A Tx statn with fc=11.6MHz & angle of incidence=70 degree\n",
"theta_i=70;fc=11.6;//in MHz\n",
"//determination of max usable freq(MUF)\n",
"MUF=fc/(cosd(theta_i));\n",
"disp('MHz',MUF,'The max usable freq MUF is');"
   ]
   }
,
{
		   "cell_type": "markdown",
		   "metadata": {},
		   "source": [
			"## Example 15.9: example_9.sce"
		   ]
		  },
  {
"cell_type": "code",
	   "execution_count": null,
	   "metadata": {
	    "collapsed": true
	   },
	   "outputs": [],
"source": [
"clc;\n",
"//page no 539\n",
"//prob no. 15.9\n",
"//A taxi compony using central dispatcher with antenna height=15m & taxi antenna height=1.5m\n",
"ht=15;hr=1.5;\n",
"//a)Determination of max commn dist betn dispatcher and taxi\n",
"d1=sqrt(17*ht)+sqrt(17*hr);\n",
"disp('km',d,'a)The max commn dist betn dispatcher & taxi');\n",
"//b)Determination of max ommn dist betn 2 taxis\n",
"d2=sqrt(17*hr)+sqrt(17*hr);//ht=hr=height of antenna of taxi cab\n",
"disp('km',d2,'The max commn dist betn two taxi is');"
   ]
   }
],
"metadata": {
		  "kernelspec": {
		   "display_name": "Scilab",
		   "language": "scilab",
		   "name": "scilab"
		  },
		  "language_info": {
		   "file_extension": ".sce",
		   "help_links": [
			{
			 "text": "MetaKernel Magics",
			 "url": "https://github.com/calysto/metakernel/blob/master/metakernel/magics/README.md"
			}
		   ],
		   "mimetype": "text/x-octave",
		   "name": "scilab",
		   "version": "0.7.1"
		  }
		 },
		 "nbformat": 4,
		 "nbformat_minor": 0
}
