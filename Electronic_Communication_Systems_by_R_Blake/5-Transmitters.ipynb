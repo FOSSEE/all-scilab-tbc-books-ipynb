{
"cells": [
 {
		   "cell_type": "markdown",
	   "metadata": {},
	   "source": [
       "# Chapter 5: Transmitters"
	   ]
	},
{
		   "cell_type": "markdown",
		   "metadata": {},
		   "source": [
			"## Example 5.10: example_9.sce"
		   ]
		  },
  {
"cell_type": "code",
	   "execution_count": null,
	   "metadata": {
	    "collapsed": true
	   },
	   "outputs": [],
"source": [
"clc;\n",
"//page no 206\n",
"//prob no. 5.10\n",
"//Refer fig.5.24\n",
"//Till the antenna there are 2 doubler and 4 tripler\n",
"f_mul=18*18;\n",
"dev_o=75*10^3;//o/p freq deviation is 75kHz\n",
"//Determiantion of reqd freq deviation of oscillator\n",
"dev_osc=dev_o/f_mul;\n",
"disp('Hz',dev_osc,'Freq deviation of oscillator is');"
   ]
   }
,
{
		   "cell_type": "markdown",
		   "metadata": {},
		   "source": [
			"## Example 5.11: example_10.sce"
		   ]
		  },
  {
"cell_type": "code",
	   "execution_count": null,
	   "metadata": {
	    "collapsed": true
	   },
	   "outputs": [],
"source": [
"clc;\n",
"//page no 207\n",
"//prob no. 5.11\n",
"//A PLL FM generator refering fig.5.25 with\n",
"f_ref=100*10^3;N=200;kf=50*10^3;//in Hz/V\n",
"//a)Determination of carrier freq of o/p signal\n",
"fc=N*f_ref;\n",
"disp('MHz',fc/10^6,'The carrier freq of o/p signal');\n",
"//b)Determination of RMS modulating voltage for 10kHz deviation\n",
"dev=10*10^3;\n",
"Vp=dev/kf;\n",
"//Converting peak voltage to RMS voltage\n",
"V_RMS=Vp/sqrt(2);\n",
"disp('mV',V_RMS*1000,'The RMS voltage for needed deviation is ');"
   ]
   }
,
{
		   "cell_type": "markdown",
		   "metadata": {},
		   "source": [
			"## Example 5.2: example_1.sce"
		   ]
		  },
  {
"cell_type": "code",
	   "execution_count": null,
	   "metadata": {
	    "collapsed": true
	   },
	   "outputs": [],
"source": [
"clc;\n",
"//page no 179\n",
"//prob no. 5.2\n",
"//A transmitter  with carrier power o/p 10W at efficiency 70% at 100% modulatn\n",
"Po=10;eta=0.7;\n",
"//Determination of dc power o/p\n",
"Ps=Po/eta;\n",
"disp('W',Ps,'The value of dc power input is');\n",
"//Determination of audio power \n",
"Pa=0.5*Ps;\n",
"disp('W',Pa,'The value of audio power is');"
   ]
   }
,
{
		   "cell_type": "markdown",
		   "metadata": {},
		   "source": [
			"## Example 5.3: example_2.sce"
		   ]
		  },
  {
"cell_type": "code",
	   "execution_count": null,
	   "metadata": {
	    "collapsed": true
	   },
	   "outputs": [],
"source": [
"clc;\n",
"//page no 181\n",
"//prob no. 5.3\n",
"//A transmitter operates at 12V, with collector current 2A.Modulatn transformer has turn ratio 4:1\n",
"//Determination of impedance at transformer secondary  \n",
"Vcc=12;Ic=2;N1=4;N2=1;\n",
"Za=Vcc/Ic;\n",
"disp('ohm',Za,'The impedance of transformer secondary is');\n",
"//Determination of impedance of transformer primary \n",
"Zp=Za*(N1/N2)^2;\n",
"disp('ohm',Zp,'The impedance of transformer primary is');"
   ]
   }
,
{
		   "cell_type": "markdown",
		   "metadata": {},
		   "source": [
			"## Example 5.4: example_3.sce"
		   ]
		  },
  {
"cell_type": "code",
	   "execution_count": null,
	   "metadata": {
	    "collapsed": true
	   },
	   "outputs": [],
"source": [
"clc;\n",
"//page no 182\n",
"//prob no. 5.4\n",
"//Class C amplifier with carrier o/p power of 100W with efficiency of 70% & with 100% modulation\n",
"Pc=100;eta=0.7;\n",
"//Determination of o/p power\n",
"Po=1.5*Pc;\n",
"disp('W',Po,'The o/p power with 100% modulation is');\n",
"//Determination of supply power\n",
"Ps=Po/eta;\n",
"disp('W',Ps,'The value of supply power is');\n",
"//Determination of power dissipated Pd\n",
"Pd=Ps-Po;\n",
"disp('W',Pd,'Power dissipated is');"
   ]
   }
,
{
		   "cell_type": "markdown",
		   "metadata": {},
		   "source": [
			"## Example 5.5: example_4.sce"
		   ]
		  },
  {
"cell_type": "code",
	   "execution_count": null,
	   "metadata": {
	    "collapsed": true
	   },
	   "outputs": [],
"source": [
"clc;\n",
"//page no 184\n",
"//prob no. 5.5\n",
"//An FM transmitter produce 10W of carrier power operating at 15V\n",
"Vcc=15;Pc=10;\n",
"//Determination of load impedance  seen from collector\n",
"Rl=((Vcc)^2)/(2*Pc);\n",
"disp('ohm',Rl,'The load impedance is');"
   ]
   }
,
{
		   "cell_type": "markdown",
		   "metadata": {},
		   "source": [
			"## Example 5.6: example_5.sce"
		   ]
		  },
  {
"cell_type": "code",
	   "execution_count": null,
	   "metadata": {
	    "collapsed": true
	   },
	   "outputs": [],
"source": [
"clc;\n",
"//page no 193\n",
"//prob no. 5.6\n",
"//Refer fig. 5.13\n",
"//Filter method SSB generator \n",
"fc=5*10^6;//filter centre freq.\n",
"BW=3*10^3;//Filter bandwidth\n",
"foc=4.9985*10^6;//carrier oscillator freq.\n",
"disp('a)The USB will be passed');//Since carrier freq is at low end of passband\n",
"disp('b)The carrier freq should be moved to the high end of filter at 5.0015MHz');//To generate the LSB"
   ]
   }
,
{
		   "cell_type": "markdown",
		   "metadata": {},
		   "source": [
			"## Example 5.7: example_6.sce"
		   ]
		  },
  {
"cell_type": "code",
	   "execution_count": null,
	   "metadata": {
	    "collapsed": true
	   },
	   "outputs": [],
"source": [
"clc;\n",
"//page no 196\n",
"//prob no. 5.7\n",
"//SSB transmitter refering fig.5.17 to transmit USB signal at carrier freq 21.5MHz\n",
"fo=21.5;//carrier freq in MHz\n",
"foc=8.9985;//carrier oscillator freq. in MHz\n",
"//Determination of freq of local oscillator\n",
"flo=fo-foc;\n",
"disp('MHz',flo,'The freq of local oscillator');"
   ]
   }
,
{
		   "cell_type": "markdown",
		   "metadata": {},
		   "source": [
			"## Example 5.8: example_7.sce"
		   ]
		  },
  {
"cell_type": "code",
	   "execution_count": null,
	   "metadata": {
	    "collapsed": true
	   },
	   "outputs": [],
"source": [
"clc;\n",
"//page no 199\n",
"//prob no. 5.8\n",
"//LSB transmitter refering fig.5.14 with new carrier freq 9.0015 MHz & local oscillator freq 12.5015MHz\n",
"fco=9.0015;//carrier oscillator freq\n",
"flo=12.5015;//local oscillator freq\n",
"//Determination of new o/p freq\n",
"fo=fco+flo;\n",
"disp('MHz',fo,'The o/p carrier freq');"
   ]
   }
,
{
		   "cell_type": "markdown",
		   "metadata": {},
		   "source": [
			"## Example 5.9: example_8.sce"
		   ]
		  },
  {
"cell_type": "code",
	   "execution_count": null,
	   "metadata": {
	    "collapsed": true
	   },
	   "outputs": [],
"source": [
"clc;\n",
"//page no 204\n",
"//prob no. 5.9\n",
"//A direct FM transmitter with kf=2kHz/V & max deviatn of 300Hz.\n",
"kf=2*10^3;tx_dev=300;\n",
"disp('a)See fig.5.23 for this block diagram');\n",
"f_mul=3*2*3;//3 stage freq multiplier with tripler doubler and tripler\n",
"//b)Determination of max dev at oscillator \n",
"dev_o=5*10^3;//Deviation at o/p\n",
"dev_osc=dev_o/f_mul;\n",
"if  dev_osc < tx_dev then\n",
"    disp('b)Transmitter is capable of 5kHz deviation');\n",
"else\n",
"    disp('b)Transmitter is not capable of 5kHz deviation')\n",
"end;\n",
"//c)Determination of oscillator freq\n",
"fo=150;//carrier freq in MHz\n",
"fosc=fo/f_mul;\n",
"disp('MHz',fosc,'c)The oscillator freq is');\n",
"//d)Determination of audio voltage for full deviation\n",
"Vi_peak=dev_osc/kf;//dev at oscillator of 278Hz causes full 5kHz deviation\n",
"//converting peak voltage to rms voltage\n",
"Vi_RMS=Vi_peak/sqrt(2);\n",
"disp('mV',Vi_RMS*10^3,'The audio RMS voltage is')"
   ]
   }
],
"metadata": {
		  "kernelspec": {
		   "display_name": "Scilab",
		   "language": "scilab",
		   "name": "scilab"
		  },
		  "language_info": {
		   "file_extension": ".sce",
		   "help_links": [
			{
			 "text": "MetaKernel Magics",
			 "url": "https://github.com/calysto/metakernel/blob/master/metakernel/magics/README.md"
			}
		   ],
		   "mimetype": "text/x-octave",
		   "name": "scilab",
		   "version": "0.7.1"
		  }
		 },
		 "nbformat": 4,
		 "nbformat_minor": 0
}
