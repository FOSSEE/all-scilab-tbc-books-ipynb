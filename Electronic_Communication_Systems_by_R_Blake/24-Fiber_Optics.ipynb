{
"cells": [
 {
		   "cell_type": "markdown",
	   "metadata": {},
	   "source": [
       "# Chapter 24: Fiber Optics"
	   ]
	},
{
		   "cell_type": "markdown",
		   "metadata": {},
		   "source": [
			"## Example 24.3: example_1.sce"
		   ]
		  },
  {
"cell_type": "code",
	   "execution_count": null,
	   "metadata": {
	    "collapsed": true
	   },
	   "outputs": [],
"source": [
"clc;\n",
"// page no 888\n",
"// prob no 24.3\n",
"NA=0.15;\n",
"wl=820*10^-9;//in m\n",
"d_core=2*(0.383*wl/NA);\n",
"disp('m',d_core,'The core diameter is');"
   ]
   }
,
{
		   "cell_type": "markdown",
		   "metadata": {},
		   "source": [
			"## Example 24.4: example_2.sce"
		   ]
		  },
  {
"cell_type": "code",
	   "execution_count": null,
	   "metadata": {
	    "collapsed": true
	   },
	   "outputs": [],
"source": [
"clc;\n",
"// page no 890\n",
"// prob no 24.4\n",
"Bl=500;//in MHz-km\n",
"B=85;//in MHz\n",
"// By using Bandwidth-distance product formula\n",
"l=Bl/B;\n",
"disp('km',l,'The maximun distance that can be use between repeaters is');"
   ]
   }
,
{
		   "cell_type": "markdown",
		   "metadata": {},
		   "source": [
			"## Example 24.5: example_3.sce"
		   ]
		  },
  {
"cell_type": "code",
	   "execution_count": null,
	   "metadata": {
	    "collapsed": true
	   },
	   "outputs": [],
"source": [
"clc;\n",
"// page no 891\n",
"// prob no 24.5\n",
"wl0=1310;//in ns\n",
"So=0.05;//in ps/(nm^2*km)\n",
"l=50;//in km\n",
"wl=1550;//in ns\n",
"d=2;//in nm\n",
"// Chromatic dispersion is given as\n",
"Dc=(So/4)*[wl-(wl0^4/wl^3)];\n",
"// Dispersion is\n",
"D=Dc*d;\n",
"// Therefore total dispersion is \n",
"dt=D*l;\n",
"disp('ps',dt,'The total dispersion is');"
   ]
   }
,
{
		   "cell_type": "markdown",
		   "metadata": {},
		   "source": [
			"## Example 24.6: example_6.sce"
		   ]
		  },
  {
"cell_type": "code",
	   "execution_count": null,
	   "metadata": {
	    "collapsed": true
	   },
	   "outputs": [],
"source": [
"clc;\n",
"// page no 893\n",
"// prob no 24.6\n",
"//Refer problem 24.5\n",
"dt=949*10^-12;//in sed\n",
"l=50;//in km\n",
"B=1/(2*dt);\n",
"//By using Bandwidth-distance product formula\n",
"Bl= B*l;\n",
"disp('Hz-km',Bl,'The bandwidth distance product is');"
   ]
   }
,
{
		   "cell_type": "markdown",
		   "metadata": {},
		   "source": [
			"## Example 24.7: example_5.sce"
		   ]
		  },
  {
"cell_type": "code",
	   "execution_count": null,
	   "metadata": {
	    "collapsed": true
	   },
	   "outputs": [],
"source": [
"clc;\n",
"// page no 899\n",
"// prob no 24.7\n",
"// refer table from the problem page no 899\n",
"P_coupling1 =-3; P_coupling2 = -6; P_coupling3 =-40;// in dB\n",
"//Part a) The proportion of input power emerging at port 2\n",
"P2_Pin=10^(P_coupling1/10);\n",
"disp('%',P2_Pin*100,'a) The proportion of input power emerging at port 2');\n",
"P3_Pin=10^(P_coupling2/10);\n",
"disp('%',P3_Pin*100,' The proportion of input power emerging at port 3');\n",
"// Part b) In the reverse direction,the signal is 40dB down for all combinations, so\n",
"directivity = 40;\n",
"disp('dB',directivity,'Directivity is');\n",
"Pin_total = P2_Pin + P3_Pin;\n",
"// excess loss in dB\n",
"loss=-10*log10(Pin_total);\n",
"disp('dB',loss,'the excess loss is');"
   ]
   }
,
{
		   "cell_type": "markdown",
		   "metadata": {},
		   "source": [
			"## Example 24.8: example_6.sce"
		   ]
		  },
  {
"cell_type": "code",
	   "execution_count": null,
	   "metadata": {
	    "collapsed": true
	   },
	   "outputs": [],
"source": [
"clc;\n",
"// page no 901\n",
"// prob no 24.8\n",
"wl=1*10^-6;\n",
"c= 3*10^8;\n",
"h=6.626*10^-34\n",
"f=c/wl;\n",
"E=h*f;// in Joule\n",
"//this energy can be converted into electron-volt. we know 1eV=1.6*10^-19 J\n",
"eV=1.6*10^-19 ;\n",
"E_ev=E/eV;\n",
"disp('eV',E_ev,'The energy of photon in eV is');"
   ]
   }
,
{
		   "cell_type": "markdown",
		   "metadata": {},
		   "source": [
			"## Example 24.9: example_9.sce"
		   ]
		  },
  {
"cell_type": "code",
	   "execution_count": null,
	   "metadata": {
	    "collapsed": true
	   },
	   "outputs": [],
"source": [
"clc;\n",
"// page no 909\n",
"// prob no 24_9\n",
"// refer fig 24.25\n",
"P_in=500;Responsivity=0.33;\n",
"I_d = P_in * Responsivity;\n",
"disp('nA',I_d,'The diode current is');"
   ]
   }
],
"metadata": {
		  "kernelspec": {
		   "display_name": "Scilab",
		   "language": "scilab",
		   "name": "scilab"
		  },
		  "language_info": {
		   "file_extension": ".sce",
		   "help_links": [
			{
			 "text": "MetaKernel Magics",
			 "url": "https://github.com/calysto/metakernel/blob/master/metakernel/magics/README.md"
			}
		   ],
		   "mimetype": "text/x-octave",
		   "name": "scilab",
		   "version": "0.7.1"
		  }
		 },
		 "nbformat": 4,
		 "nbformat_minor": 0
}
