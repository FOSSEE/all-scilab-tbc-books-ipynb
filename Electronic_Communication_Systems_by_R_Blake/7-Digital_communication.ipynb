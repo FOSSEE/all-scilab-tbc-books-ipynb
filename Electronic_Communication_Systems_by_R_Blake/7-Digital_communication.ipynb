{
"cells": [
 {
		   "cell_type": "markdown",
	   "metadata": {},
	   "source": [
       "# Chapter 7: Digital communication"
	   ]
	},
{
		   "cell_type": "markdown",
		   "metadata": {},
		   "source": [
			"## Example 7.1: example_1.sce"
		   ]
		  },
  {
"cell_type": "code",
	   "execution_count": null,
	   "metadata": {
	    "collapsed": true
	   },
	   "outputs": [],
"source": [
"clc;\n",
"//page no 285\n",
"//prob no 7.1\n",
"// In the given problem a signal is transmitted using a four level code\n",
"M=4;\n",
"B=3.2;// in KKz\n",
"SNR=35;//in dB\n",
"//By using Shannon-Hartley theorem, ignoring noise we have\n",
"c=2*B*log2 (M);\n",
"disp('kb/s',c,'maximum data rate for four-level code in the available bandwidth');\n",
"//Now we have to use Shannon limit to find the maximum data rate for any code\n",
"//SNR in power ratio is \n",
"SNR1=10^(35/10);\n",
"C=B*log2(1+SNR1);\n",
"disp('kb/s',C,'maximum data rate for four-level code in the available bandwidth');\n",
"// Both results are maxima, we have to choose lesser of the two.\n",
"// Therefore we choose c=12.8kp/s"
   ]
   }
,
{
		   "cell_type": "markdown",
		   "metadata": {},
		   "source": [
			"## Example 7.2: example_2.sce"
		   ]
		  },
  {
"cell_type": "code",
	   "execution_count": null,
	   "metadata": {
	    "collapsed": true
	   },
	   "outputs": [],
"source": [
"clc;\n",
"//page no. 289\n",
"// prob no. 7.2\n",
"// In the given problem \n",
"fm=30;// in KHz\n",
"fs=44.1;//sampling rate in KHz\n",
"fa=fs-fm;// audible frequency\n",
"disp('KHz',fa,'The audible frequency is');"
   ]
   }
,
{
		   "cell_type": "markdown",
		   "metadata": {},
		   "source": [
			"## Example 7.3: example_3.sce"
		   ]
		  },
  {
"cell_type": "code",
	   "execution_count": null,
	   "metadata": {
	    "collapsed": true
	   },
	   "outputs": [],
"source": [
"clc;\n",
"//page no 291\n",
"//prob no 7.3\n",
"//part a: no of samples,\n",
"m=8;\n",
"N=2^m;// the number of levels\n",
"disp('levels',N,'a) The number of levels with m=8 are');\n",
"// part b:\n",
"m=16;\n",
"N=2^m;// the number of levels\n",
"disp('levels',N,'b) The number of levels with m=16 are');"
   ]
   }
,
{
		   "cell_type": "markdown",
		   "metadata": {},
		   "source": [
			"## Example 7.4: example_4.sce"
		   ]
		  },
  {
"cell_type": "code",
	   "execution_count": null,
	   "metadata": {
	    "collapsed": true
	   },
	   "outputs": [],
"source": [
"clc;\n",
"// page no 292\n",
"// prob no 7.4\n",
"//In the given problem\n",
"m=16;\n",
"DR=1.76 +6.02*m ; //Dynamic range for a linear PCM in dB\n",
"disp('dB',DR,'Dynamic range for a linear PCM');"
   ]
   }
,
{
		   "cell_type": "markdown",
		   "metadata": {},
		   "source": [
			"## Example 7.5: example_5.sce"
		   ]
		  },
  {
"cell_type": "code",
	   "execution_count": null,
	   "metadata": {
	    "collapsed": true
	   },
	   "outputs": [],
"source": [
"clc;\n",
"//page no 295\n",
"// prob no 7.5\n",
"// in the given problem\n",
"fs=40; m=14;\n",
"// the minimum data rate needed to transmit audio is given by\n",
"D=fs*m;\n",
"disp('Kb/s',D,'The minimum data rate needed to transmit audio is ');"
   ]
   }
,
{
		   "cell_type": "markdown",
		   "metadata": {},
		   "source": [
			"## Example 7.6: example_6.sce"
		   ]
		  },
  {
"cell_type": "code",
	   "execution_count": null,
	   "metadata": {
	    "collapsed": true
	   },
	   "outputs": [],
"source": [
"clc;\n",
"// page no 294\n",
"// prob no 7.6\n",
"// In the given problem, input to a mu-law compresser is +ve,\n",
"// with its voltage one-half the max value\n",
"u=255;\n",
"Vi=1;//maximum input value is considered as unity volts\n",
"vi=0.5;\n",
"V0=1;//consider maximum output voltage as unity volts\n",
"vo=V0* log(1+u*vi/Vi)/log(1+u);\n",
"disp('volts',vo,'The maximum output voltage produced is');"
   ]
   }
],
"metadata": {
		  "kernelspec": {
		   "display_name": "Scilab",
		   "language": "scilab",
		   "name": "scilab"
		  },
		  "language_info": {
		   "file_extension": ".sce",
		   "help_links": [
			{
			 "text": "MetaKernel Magics",
			 "url": "https://github.com/calysto/metakernel/blob/master/metakernel/magics/README.md"
			}
		   ],
		   "mimetype": "text/x-octave",
		   "name": "scilab",
		   "version": "0.7.1"
		  }
		 },
		 "nbformat": 4,
		 "nbformat_minor": 0
}
