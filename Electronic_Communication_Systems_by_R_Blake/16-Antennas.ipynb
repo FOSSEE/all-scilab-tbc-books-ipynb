{
"cells": [
 {
		   "cell_type": "markdown",
	   "metadata": {},
	   "source": [
       "# Chapter 16: Antennas"
	   ]
	},
{
		   "cell_type": "markdown",
		   "metadata": {},
		   "source": [
			"## Example 16.1: example_1.sce"
		   ]
		  },
  {
"cell_type": "code",
	   "execution_count": null,
	   "metadata": {
	    "collapsed": true
	   },
	   "outputs": [],
"source": [
"clc;\n",
"//page no 564\n",
"//prob no. 16.1\n",
"//Determination of length of half-wave dipole\n",
"f=20;//Operating freq in MHz\n",
"L=142.5/f;\n",
"disp('m',L,'The length of half-wave dipole is');"
   ]
   }
,
{
		   "cell_type": "markdown",
		   "metadata": {},
		   "source": [
			"## Example 16.2: example_2.sce"
		   ]
		  },
  {
"cell_type": "code",
	   "execution_count": null,
	   "metadata": {
	    "collapsed": true
	   },
	   "outputs": [],
"source": [
"clc;\n",
"//page no 566\n",
"//prob no. 16.2\n",
"//A dipole antenna with radiatn resistance=67ohm & loss resistance 5ohm\n",
"Rr=67;Rl=5;\n",
"//Determination of efficiency \n",
"eta=Rr/(Rr+Rl);\n",
"disp('%',eta,'The efficiency of dipole antenna is');"
   ]
   }
,
{
		   "cell_type": "markdown",
		   "metadata": {},
		   "source": [
			"## Example 16.3: example_3.sce"
		   ]
		  },
  {
"cell_type": "code",
	   "execution_count": null,
	   "metadata": {
	    "collapsed": true
	   },
	   "outputs": [],
"source": [
"clc;\n",
"//page no 569\n",
"//prob no. 16.3\n",
"//Two antennas with gain 5.3dBi & 4.5dBd\n",
"//Converting unit dBd in dBi for comparison\n",
"G1_dBi=5.3;G2_dBd=4.5;\n",
"G2_dBi=2.14+G2_dBd;\n",
"if G2_dBi > G1_dBi then\n",
"    disp('Second antenna with gain=4.5dBd has higher gain');\n",
"else\n",
"    disp('First antenna with gain=5.3dBi has higher gain ');\n",
"end;"
   ]
   }
,
{
		   "cell_type": "markdown",
		   "metadata": {},
		   "source": [
			"## Example 16.4: example_4.sce"
		   ]
		  },
  {
"cell_type": "code",
	   "execution_count": null,
	   "metadata": {
	    "collapsed": true
	   },
	   "outputs": [],
"source": [
"clc;\n",
"//page no 571\n",
"//prob no. 16.4\n",
"//A dipole antenna with efficency=85% given\n",
"n=0.85;D_dBi=2.14;//Directivity in dBi\n",
"//Determination of gain in dB\n",
"D=10^(D_dBi/10);\n",
"G=D*n;//Determination of gain\n",
"G_dBi=10*log10(G);//Converting to dBi\n",
"disp('dBi',G_dBi,'The gain is');"
   ]
   }
,
{
		   "cell_type": "markdown",
		   "metadata": {},
		   "source": [
			"## Example 16.6: example_5.sce"
		   ]
		  },
  {
"cell_type": "code",
	   "execution_count": null,
	   "metadata": {
	    "collapsed": true
	   },
	   "outputs": [],
"source": [
"clc;\n",
"//page no 573\n",
"//prob no. 16.6\n",
"//ERP of Tx statn=17W\n",
"ERP=17;\n",
"//Determnation of EIRP\n",
"ERP_dBm=10*log10(ERP/10^-3);//Converting ERP in dBm\n",
"EIRP_dBm=ERP_dBm+2.14;//Converting ERP in EIRP\n",
"disp('dBm',EIRP_dBm,'EIRP in dBm is expressed as');"
   ]
   }
,
{
		   "cell_type": "markdown",
		   "metadata": {},
		   "source": [
			"## Example 16.7: example_6.sce"
		   ]
		  },
  {
"cell_type": "code",
	   "execution_count": null,
	   "metadata": {
	    "collapsed": true
	   },
	   "outputs": [],
"source": [
"clc;\n",
"//page no 582\n",
"//prob no. 16.7\n",
"//a helial antenna with 8 turns with freq=1.2GHz given\n",
"N=8;f=1.2*10^9;c=3*10^8;//Speed of light in m/s\n",
"//a)Determination of optimum diameter of antenna\n",
"wav=c/f;\n",
"D=wav/%pi;\n",
"disp('m',D,'a)1.The optimum diameter for antenna is');\n",
"S=wav/4;//Determination of spacing for the antenna\n",
"disp('m',S,'a)2.The spacing for the antenna');\n",
"L=N*S;//Determination of total length of an antenna\\n",
"disp('m',L,'a)3.The total length of an antenna is');\n",
"//b)Determination of antenna gain in dBi\n",
"G=(15*N*S*(%pi*D)^2)/(wav^3);\n",
"G_dBi=10*log10(G);//Converting in dBi\n",
"disp('dBi',G_dBi,'b)The antenna gain is');\n",
"//c)determination of beamwidth\n",
"theta=((52*wav)/(%pi*D))*sqrt(wav/(N*S));\n",
"disp('degree',theta,'The beamwidth is');"
   ]
   }
,
{
		   "cell_type": "markdown",
		   "metadata": {},
		   "source": [
			"## Example 16.8: example_7.sce"
		   ]
		  },
  {
"cell_type": "code",
	   "execution_count": null,
	   "metadata": {
	    "collapsed": true
	   },
	   "outputs": [],
"source": [
"clc;\n",
"//page no 590\n",
"//prob no. 16.8\n",
"//Design of log periodic antenna to cover freq 100-300MHz & t=0.7,a=30 degree\n",
"t=0.7;a=30;\n",
"//For good performance converting range to 90MHz to 320MHz\n",
"f2=90;f1=320;\n",
"//Determination of lengths of elements\n",
"L1=142.5/f1;//For freq of 320MHz\n",
"L2=L1/t;L3=L2/t;L4=L3/t;L5=L4/t;\n",
"disp('The length of elements are');\n",
"disp('m',L5,'L5=','m',L4,'L4=','m',L3,'L3=','m',L2,'L2=','m',L1,'L1=',);\n",
"//Determination of spacing betn elements\n",
"D1=L1/(2*tand(a/2));\n",
"D2=D1/t;D3=D2/t;D4=D3/t;D5=D4/t;\n",
"disp('The spacing betn elements are');\n",
"disp('m',D5,'D5=','m',D4,'D4=','m',D3,'D3=','m',D2,'D2=','m',D1,'D1=',);"
   ]
   }
,
{
		   "cell_type": "markdown",
		   "metadata": {},
		   "source": [
			"## Example 16.9: example_8.sce"
		   ]
		  },
  {
"cell_type": "code",
	   "execution_count": null,
	   "metadata": {
	    "collapsed": true
	   },
	   "outputs": [],
"source": [
"clc;\n",
"//page no 598\n",
"//prob no. 16.9\n",
"//A parabolic antenna with diameter=3m & efficiency=60% operate at 4GHz\n",
"D=3;n=0.6;f=4*10^9;c=3*10^8;//Spped of light\n",
"//Determination of gain & beamwidth\n",
"wav=c/f;//Determination of free space wavelength\n",
"theta=(70*wav)/D;//Calculaing beamwidth\n",
"disp('degree',theta,'The beamwidth is');\n",
"G=(n*(%pi^2)*(D^2))/wav^2;//Calculating gain\n",
"//Converting gain in dBi\n",
"G_dBi=10*log10(G);\n",
"disp('dBi',G_dBi,'The gain is');"
   ]
   }
],
"metadata": {
		  "kernelspec": {
		   "display_name": "Scilab",
		   "language": "scilab",
		   "name": "scilab"
		  },
		  "language_info": {
		   "file_extension": ".sce",
		   "help_links": [
			{
			 "text": "MetaKernel Magics",
			 "url": "https://github.com/calysto/metakernel/blob/master/metakernel/magics/README.md"
			}
		   ],
		   "mimetype": "text/x-octave",
		   "name": "scilab",
		   "version": "0.7.1"
		  }
		 },
		 "nbformat": 4,
		 "nbformat_minor": 0
}
