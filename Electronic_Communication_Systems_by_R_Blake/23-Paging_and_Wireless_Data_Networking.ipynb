{
"cells": [
 {
		   "cell_type": "markdown",
	   "metadata": {},
	   "source": [
       "# Chapter 23: Paging and Wireless Data Networking"
	   ]
	},
{
		   "cell_type": "markdown",
		   "metadata": {},
		   "source": [
			"## Example 23.1: example_1.sce"
		   ]
		  },
  {
"cell_type": "code",
	   "execution_count": null,
	   "metadata": {
	    "collapsed": true
	   },
	   "outputs": [],
"source": [
"clc;\n",
"// page no 863\n",
"// prob no 23.1\n",
"bit_rate = 512;//ib bps\n",
"t=60;//in sec\n",
"// preamble uses 576 bits\n",
"preamble=576;\n",
"bits_total = bit_rate * t;;\n",
"usable_bits = bits_total - preamble;\n",
"// each batch has one 32-bits synchronizing codeword and sixteen 32-bit address codewords for a total of 17*32=544bits. Therefore\n",
"bits_per_batch= 17*32;\n",
"batches_per_min = usable_bits / bits_per_batch;\n",
"addr=16;\n",
"addr_per_min = batches_per_min*addr;\n",
"disp(addr_per_min,'The no of pages transmitted in one min are');"
   ]
   }
,
{
		   "cell_type": "markdown",
		   "metadata": {},
		   "source": [
			"## Example 23.2: example_2.sce"
		   ]
		  },
  {
"cell_type": "code",
	   "execution_count": null,
	   "metadata": {
	    "collapsed": true
	   },
	   "outputs": [],
"source": [
"clc;\n",
"// page no 864\n",
"// prob no 23.2\n",
"// For the given FLEX system \n",
"Wc=25*10^3;\n",
"bit_rate = 6400;//in bps\n",
"efficiency = bit_rate/Wc;\n",
"disp('b/s/Hz',efficiency,'The efficiency is');"
   ]
   }
,
{
		   "cell_type": "markdown",
		   "metadata": {},
		   "source": [
			"## Example 23.3: example_3.sce"
		   ]
		  },
  {
"cell_type": "code",
	   "execution_count": null,
	   "metadata": {
	    "collapsed": true
	   },
	   "outputs": [],
"source": [
"clc;\n",
"// page no 871\n",
"// prob no 23.3\n",
"// for the Bluetooth system\n",
"fh_max=1/(625*10^-6);\n",
"fh_min=1/(5*625*10^-6);\n",
"disp('Hz',fh_min,'The minimum hopping rate is','Hz',fh_max,'The maximum hopping rate is ');"
   ]
   }
],
"metadata": {
		  "kernelspec": {
		   "display_name": "Scilab",
		   "language": "scilab",
		   "name": "scilab"
		  },
		  "language_info": {
		   "file_extension": ".sce",
		   "help_links": [
			{
			 "text": "MetaKernel Magics",
			 "url": "https://github.com/calysto/metakernel/blob/master/metakernel/magics/README.md"
			}
		   ],
		   "mimetype": "text/x-octave",
		   "name": "scilab",
		   "version": "0.7.1"
		  }
		 },
		 "nbformat": 4,
		 "nbformat_minor": 0
}
