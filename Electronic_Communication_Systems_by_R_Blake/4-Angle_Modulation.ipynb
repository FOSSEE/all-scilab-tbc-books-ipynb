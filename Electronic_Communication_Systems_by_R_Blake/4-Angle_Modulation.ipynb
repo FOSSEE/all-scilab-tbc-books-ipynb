{
"cells": [
 {
		   "cell_type": "markdown",
	   "metadata": {},
	   "source": [
       "# Chapter 4: Angle Modulation"
	   ]
	},
{
		   "cell_type": "markdown",
		   "metadata": {},
		   "source": [
			"## Example 4.10: example_10.sce"
		   ]
		  },
  {
"cell_type": "code",
	   "execution_count": null,
	   "metadata": {
	    "collapsed": true
	   },
	   "outputs": [],
"source": [
"clc;\n",
"//page no 163\n",
"//prob no. 4.10\n",
"//Refer the fig. 4.19\n",
"// We know this transmitter is designed for voice frequencies,so we have to use trial and error method to produce a carrier null for a deviation of 5kHz\n",
"mf=2.4;// starting with the first null for mf=2.4\n",
"dev=5;//in kHz\n",
"fm=dev/mf;\n",
"if (0.3<=fm & 3>=fm) then\n",
"    disp('kHz',fm,'The freq is widin the acceptable range');\n",
"else \n",
"    mf=5.5;\n",
"    fm=dev/mf;\n",
"    disp('kHz',fm,'The freq is widin the acceptable range');\n",
"end\n",
"// for this calculated fm, set the function generator to the value of fm so that the deviation is 5kHz"
   ]
   }
,
{
		   "cell_type": "markdown",
		   "metadata": {},
		   "source": [
			"## Example 4.1: example_1.sce"
		   ]
		  },
  {
"cell_type": "code",
	   "execution_count": null,
	   "metadata": {
	    "collapsed": true
	   },
	   "outputs": [],
"source": [
"clc;\n",
"//page no 139\n",
"//prob no. 4.1\n",
"//An FM modulator is given with kf=30kHz/V operate at carrier freq 175MHz\n",
"fc=175*10^6;kf=30*10^3;\n",
"//a)Determination of o/p freq for modulating signal value em1=150mV \n",
"em1=150*10^-3;\n",
"fsig1=fc+(kf*em1);\n",
"disp('MHz',fsig1/(10^6),'a)The value of o/p freq is ');\n",
"//b)Determination of o/p freq for modulating signal value em2=-2V \n",
"em2=-2;\n",
"fsig2=fc+(kf*em2);\n",
"disp('MHz',fsig2/(10^6),'b)The value of o/p freq is ');"
   ]
   }
,
{
		   "cell_type": "markdown",
		   "metadata": {},
		   "source": [
			"## Example 4.2: example_2.sce"
		   ]
		  },
  {
"cell_type": "code",
	   "execution_count": null,
	   "metadata": {
	    "collapsed": true
	   },
	   "outputs": [],
"source": [
"clc;\n",
"//page no 140\n",
"//prob no. 4.2\n",
"//An FM modulator is given which is modulated by sine wave 3V\n",
"v=3;\n",
"kf=30*10^3;\n",
"//Determination of peak value \n",
"Em=v*sqrt(2);\n",
"//Determination of deviation delta\n",
"delta=kf*Em;\n",
"disp('kHz',delta/1000,'The value of deviation is ');"
   ]
   }
,
{
		   "cell_type": "markdown",
		   "metadata": {},
		   "source": [
			"## Example 4.3: example_3.sce"
		   ]
		  },
  {
"cell_type": "code",
	   "execution_count": null,
	   "metadata": {
	    "collapsed": true
	   },
	   "outputs": [],
"source": [
"clc;\n",
"//page no 140\n",
"//prob no. 4.3\n",
"//An FM broadcaster transmitter operate at max deviatn of 75kHz\n",
"delta=75*10^3;\n",
"//a)Determination of modulation index with modulating freq of signal =15kHz\n",
"fm1=15*10^3;\n",
"mf1=delta/fm1;\n",
"disp(mf1,'a)The value of modulation index for fm=15kHz is ');\n",
"//b)Determination of modulation index with modulating freq of signal =50Hz\n",
"fm2=50;\n",
"mf2=delta/fm2;\n",
"disp(mf2,'b)The value of modulation index for fm=50Hz is ');"
   ]
   }
,
{
		   "cell_type": "markdown",
		   "metadata": {},
		   "source": [
			"## Example 4.4: example_4.sce"
		   ]
		  },
  {
"cell_type": "code",
	   "execution_count": null,
	   "metadata": {
	    "collapsed": true
	   },
	   "outputs": [],
"source": [
"clc;\n",
"//page no 141\n",
"//prob no. 4.4\n",
"//A phase modulator is given with kp=2rad/V \n",
"kp=2;\n",
"//Peak phase deviation of 60 degree\n",
"//Converting degree in radian \n",
"phi=(2*%pi*60)/360;\n",
"//Determination of peak voltage that cause that deviation \n",
"Vp=phi/kp;\n",
"//Determination of rms voltage\n",
"Vrms=Vp/(sqrt(2));\n",
"disp('V',Vrms,'The rms voltage that cause deviation is ');"
   ]
   }
,
{
		   "cell_type": "markdown",
		   "metadata": {},
		   "source": [
			"## Example 4.6: example_5.sce"
		   ]
		  },
  {
"cell_type": "code",
	   "execution_count": null,
	   "metadata": {
	    "collapsed": true
	   },
	   "outputs": [],
"source": [
"clc;\n",
"//page no 145\n",
"//prob no. 4.6\n",
"//Phase modulator with sensitivity kp=3rad/V & sine wave i/p 2 V peak at 1kHz\n",
"kp=3;Vp=2;f=1*10^3;\n",
"//As max value of sine functn is 1, hence max value of phi is kp*Vp\n",
"phi_max=kp*Vp;\n",
"//phi_max is nothing but mp\n",
"mp=phi_max;\n",
"//value of mf is same as mp if signal is considered as freq modulation\n",
"//Determination of freq deviation\n",
"dev=mp*f;\n",
"disp('kHz',dev/1000,'The freq deviation produce is');"
   ]
   }
,
{
		   "cell_type": "markdown",
		   "metadata": {},
		   "source": [
			"## Example 4.7: example_6.sce"
		   ]
		  },
  {
"cell_type": "code",
	   "execution_count": null,
	   "metadata": {
	    "collapsed": true
	   },
	   "outputs": [],
"source": [
"clc;\n",
"//page no 149\n",
"//prob no. 4.7\n",
"//An FM signal has deviation 3kHz & modulating freq 1kHz with total power Pt=5W developed across 50 ohm with fc=160 MHz\n",
"dev=3*10^3;fm=10^3;Pt=5;Rl=50;fc=160*10^6;\n",
"//a)Determination of RMS signal voltage\n",
"Vt=sqrt(Pt*Rl);\n",
"disp('V',Vt,'a)The rms signal voltage is');\n",
"/////////////b)Determination of rms voltage at carrier freq\n",
"//for that modulation index needs to be found out\n",
"mf=dev/fm;\n",
"//From bessel function table, the coeff for the carrier first 3 side bands\n",
"J=[0.26,0.34,0.49,0.31];\n",
"disp('b)The rms voltage of side bands are')\n",
"for i=1:4,\n",
"    V(i)=J(i)*Vt;\n",
"end;\n",
"disp('V',V(4),'V3=','V',V(3),'V2=','V',V(2),'V1=','V',V(1),'Vc=');\n",
"///////////c)Determination of freq of each side bands////////////////\n",
"disp('c)The 3 side bands at different freq. are ')\n",
"for j=1:3,\n",
"    f_usb(j)=fc/10^6+(fm*j/10^6);\n",
"end\n",
"disp('MHz',f_usb(3),'f_usb3=','MHz',f_usb(2),'f_usb2=','MHz',f_usb(1),'f_usb1=');\n",
"\n",
"for j=1:3,\n",
"    f_lsb(j)=fc/10^6-(fm*j/10^6);\n",
"end\n",
"disp('MHz',f_lsb(3),'f_lsb3=','MHz',f_lsb(2),'f_lsb2=','MHz',f_lsb(1),'f_lsb1=');\n",
"////////////d)Determination of power of each side band/////////////////\n",
"for i=1:4,\n",
"    P(i)=((V(i))^2)/Rl;\n",
"    a(i)=(P(i))/(10^-3);\n",
"end;\n",
"disp('d)The power of each side band is');\n",
"disp('W',P(4),'P3=','W',P(3),'P2=','W',P(2),'P1=','W',P(1),'Pc=',);\n",
"//////////e)Determination of power that is uncounted\n",
"P=P(1)+2*(P(2)+P(3)+P(4));\n",
"//As total power is 5 W\n",
"P_x=Pt-P;\n",
"//Percentage of total power uncounted\n",
"Px=(P_x/P)*100;\n",
"disp('%',Px,'e)Percentage total power which is uncounted is');\n",
"//////////f)Ploting the signal in freq domain/////////////////////\n",
"//Converting power in dBm\n",
"for i=1:4,\n",
"    //a(k)=(P(k))/(10^-3);\n",
"   P_dBm(i)=10*log10(a(i)); \n",
"end;\n",
"disp('f)Power of each side bands in dBm is')\n",
"disp('dBm',P_dBm(4),'P3(dBm)=','dBm',P_dBm(3),'P2(dBm)=','dBm',P_dBm(2),'P1(dBm)=','dBm',P_dBm(1),'Pc(dBm)',);\n",
"x=[159.997:0.001:160.003];\n",
"y=[26.8,30.8,27.6,25.3,27.6,30.8,26.8];\n",
"plot(x,y);"
   ]
   }
,
{
		   "cell_type": "markdown",
		   "metadata": {},
		   "source": [
			"## Example 4.9: example_7.sce"
		   ]
		  },
  {
"cell_type": "code",
	   "execution_count": null,
	   "metadata": {
	    "collapsed": true
	   },
	   "outputs": [],
"source": [
"clc;\n",
"//page no 157\n",
"//prob no. 4.9\n",
"//An FM signal has freq deviation of 5kHz modulating freq fm=1kHz with SNR at i/p is 20 dB\n",
"//Converting dB in voltage ratio\n",
"fm=1*10^3;dev_s=5*10^3;snr=20;\n",
"Es_En=10^(snr/20);\n",
"//Since Es>>En then \n",
"phi=1/(Es_En);\n",
"m_fn=phi;//modulation index equal to phi_n\n",
"dev_n=(m_fn)*fm;//Equivalent freq deviation due to noise\n",
"//SNR as a voltage ratio is given as\n",
"SNR=(dev_s)/(dev_n);\n",
"//Converting this voltage ration in dB\n",
"SNR_dB=20*(log10(SNR));\n",
"disp('dB',SNR_dB,'The SNR at detecttor o/p is');"
   ]
   }
],
"metadata": {
		  "kernelspec": {
		   "display_name": "Scilab",
		   "language": "scilab",
		   "name": "scilab"
		  },
		  "language_info": {
		   "file_extension": ".sce",
		   "help_links": [
			{
			 "text": "MetaKernel Magics",
			 "url": "https://github.com/calysto/metakernel/blob/master/metakernel/magics/README.md"
			}
		   ],
		   "mimetype": "text/x-octave",
		   "name": "scilab",
		   "version": "0.7.1"
		  }
		 },
		 "nbformat": 4,
		 "nbformat_minor": 0
}
