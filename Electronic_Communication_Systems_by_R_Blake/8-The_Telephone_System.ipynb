{
"cells": [
 {
		   "cell_type": "markdown",
	   "metadata": {},
	   "source": [
       "# Chapter 8: The Telephone System"
	   ]
	},
{
		   "cell_type": "markdown",
		   "metadata": {},
		   "source": [
			"## Example 8.3: example_1.sce"
		   ]
		  },
  {
"cell_type": "code",
	   "execution_count": null,
	   "metadata": {
	    "collapsed": true
	   },
	   "outputs": [],
"source": [
"clc;\n",
"// page no 323\n",
"// prob no 8.3\n",
"//A telephone signal takes 3 ms to rreaach its destination\n",
"t=2;\n",
"//Determination of net loss VNL reqd for acceptable amount of echo.\n",
"VNL=(0.2*t)+0.4;\n",
"disp('dB',VNL,'The net loss is');"
   ]
   }
,
{
		   "cell_type": "markdown",
		   "metadata": {},
		   "source": [
			"## Example 8.5: example_2.sce"
		   ]
		  },
  {
"cell_type": "code",
	   "execution_count": null,
	   "metadata": {
	    "collapsed": true
	   },
	   "outputs": [],
"source": [
"clc;\n",
"// page no 326\n",
"// prob no 8.5\n",
"//Refering the fig.8.15 channel 12 has lowest carrierr freq 64 kHz\n",
"F=64;\n",
"c_total=12;\n",
"//Carrier freq goes up 4kHz per channel\n",
"f_up=4;\n",
"//Determination of carrier freq for channel 5\n",
"c=5;\n",
"fc=F+(f_up*(c_total-c));\n",
"disp('kHz',fc,'The value of carrier freq for channel 5 is');"
   ]
   }
,
{
		   "cell_type": "markdown",
		   "metadata": {},
		   "source": [
			"## Example 8.6: example_3.sce"
		   ]
		  },
  {
"cell_type": "code",
	   "execution_count": null,
	   "metadata": {
	    "collapsed": true
	   },
	   "outputs": [],
"source": [
"clc;\n",
"//page no 328\n",
"//prob no 8.6\n",
"// 2kHz tone is present on channel 5 of group 3 of a supergroup\n",
"// refer to example 8.5, calculated fc=92kHz\n",
"fc=92;//in kHz\n",
"// Here signal is lower sideband,the 2kHz baseband signal therefore will be\n",
"fg=fc-2;\n",
"//from fig 10.15,group 3 in the supergroup is moved to the range 408-456 kHz, with a suppressed carrier frequency of 516kHz.\n",
"fsc=516;// in kHz\n",
"//the modulation is lower sideband,so the supergroup o/p freq will be 90kHz lower than carrier freq\n",
"fsg=fsc-fg;\n",
"disp('kHz',fsg,'The tone appear in the supergroup output at frequency of');"
   ]
   }
],
"metadata": {
		  "kernelspec": {
		   "display_name": "Scilab",
		   "language": "scilab",
		   "name": "scilab"
		  },
		  "language_info": {
		   "file_extension": ".sce",
		   "help_links": [
			{
			 "text": "MetaKernel Magics",
			 "url": "https://github.com/calysto/metakernel/blob/master/metakernel/magics/README.md"
			}
		   ],
		   "mimetype": "text/x-octave",
		   "name": "scilab",
		   "version": "0.7.1"
		  }
		 },
		 "nbformat": 4,
		 "nbformat_minor": 0
}
