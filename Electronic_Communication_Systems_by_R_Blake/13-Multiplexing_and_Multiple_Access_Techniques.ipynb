{
"cells": [
 {
		   "cell_type": "markdown",
	   "metadata": {},
	   "source": [
       "# Chapter 13: Multiplexing and Multiple Access Techniques"
	   ]
	},
{
		   "cell_type": "markdown",
		   "metadata": {},
		   "source": [
			"## Example 13.1: example_1.sce"
		   ]
		  },
  {
"cell_type": "code",
	   "execution_count": null,
	   "metadata": {
	    "collapsed": true
	   },
	   "outputs": [],
"source": [
"clc;\n",
"// page no 437\n",
"// prob no 13_1\n",
"freq_band=1*10^6;\n",
"// A)For SSBSC AM, the bandwidth is the same as the maximunm modulating freq.\n",
"fmax=4*10^3;\n",
"B=fmax;\n",
"no_of_signal=freq_band/B;\n",
"disp(no_of_signal,'a)The number of signals are');\n",
"// B)For DSB AM, the bandwidth is twice the maximunm modulating freq.\n",
"B=2*fmax;\n",
"no_of_signal=freq_band/B;\n",
"disp(no_of_signal,'b)The number of signals are');\n",
"// C)Using Carson's Rule to approximate the bandwidth\n",
"f_max=15*10^3; deviation=75*10^3;\n",
"B=2*(deviation + f_max);\n",
"no_of_signal=freq_band/B;\n",
"disp(no_of_signal,'c)The number of signals are');\n",
"// D)Use Shannon-Hartley theorem to find the bandwidth\n",
"C=56*10^3;M=4;//for QPSK\n",
"B=C/(2*log2(M));\n",
"no_of_signal=freq_band/B;\n",
"disp(no_of_signal,'d)The number of signals are');"
   ]
   }
,
{
		   "cell_type": "markdown",
		   "metadata": {},
		   "source": [
			"## Example 13.2: example_2.sce"
		   ]
		  },
  {
"cell_type": "code",
	   "execution_count": null,
	   "metadata": {
	    "collapsed": true
	   },
	   "outputs": [],
"source": [
"clc;\n",
"// page no 444\n",
"// prob no 13_2\n",
"//Voice transmisssion occupies 30 kHz.Spread spectrum is used to increase BW to 10MHz\n",
"B1=30*10^3;//BW is 30 kHz\n",
"B2=10*10^6;//BW is 10 MHz\n",
"T=300;//noise temp at i/p\n",
"PN=-110;//signal has total signal power of -110 dBm at receiver\n",
"k=1.38*10^-23;//Boltzmann's const in J/K\n",
"//Determination of noise power at B1=30kHz\n",
"PN1=10*(log10(k*B1*T/10^-3));\n",
"disp('dBm',PN1,'The noise power at BW=30 kHz is');\n",
"//Determination of noise power at B2=10MHz\n",
"PN2=10*(log10(k*B2*T/10^-3));\n",
"disp('dBm',PN2,'The noise power at BW=10 MHz is');\n",
"//Determination of SNR for 30kHz BW\n",
"SNR1=PN-PN1;\n",
"disp('dB',SNR1,'The value of SNR for BW=30 kHz is');\n",
"//Determination of SNR for 10MHz BW\n",
"SNR2=PN-PN2;\n",
"disp('dB',SNR2,'The value of SNR for BW=10 MHz is');"
   ]
   }
,
{
		   "cell_type": "markdown",
		   "metadata": {},
		   "source": [
			"## Example 13.3: example_3.sce"
		   ]
		  },
  {
"cell_type": "code",
	   "execution_count": null,
	   "metadata": {
	    "collapsed": true
	   },
	   "outputs": [],
"source": [
"clc;\n",
"// page no 445\n",
"// prob no 13_3\n",
"no_of_freq_hops =100; total_time_req=10;\n",
"time_for_each_freq = total_time_req  / no_of_freq_hops;\n",
"disp('sec/hop',time_for_each_freq,'Time required for each freq');"
   ]
   }
,
{
		   "cell_type": "markdown",
		   "metadata": {},
		   "source": [
			"## Example 13.4: example_4.sce"
		   ]
		  },
  {
"cell_type": "code",
	   "execution_count": null,
	   "metadata": {
	    "collapsed": true
	   },
	   "outputs": [],
"source": [
"clc;\n",
"// page no 446\n",
"// prob no 13_4\n",
"bit_rate=16*10^3;//in bps\n",
"chip_rate =10:1;\n",
"no_of_chip=10;\n",
"total_bit_rate=no_of_chip*bit_rate;\n",
"m=4;n=log2(m);\n",
"symbol_rate = total_bit_rate/n;\n",
"disp('baud',symbol_rate,'The no of signal changes i.e. symbol rate is ');"
   ]
   }
,
{
		   "cell_type": "markdown",
		   "metadata": {},
		   "source": [
			"## Example 13.5: example_5.sce"
		   ]
		  },
  {
"cell_type": "code",
	   "execution_count": null,
	   "metadata": {
	    "collapsed": true
	   },
	   "outputs": [],
"source": [
"clc;\n",
"// page no 447\n",
"// prob no 13_5\n",
"//signal with bandwidth Bbb=200 kHz & SNR=20 dB spred at chip rate 50:1\n",
"Bbb=200*10^3;//Bandwidth\n",
"Gp=50;//chip rate\n",
"SNR_in=20;//SNR is 20 dB without spreading\n",
"//Determination of BW after spreading\n",
"Brf=Gp*Bbb;\n",
"disp('MHz',Brf,'The value of BW after spreading');\n",
"//Converting into dB \n",
"Gp_dB=10*log10(Gp);\n",
"disp('dB',Gp_dB,'The value of processing gain');\n",
"//Determination of SNR after spreadng\n",
"SNR_out=SNR_in-Gp_dB;\n",
"disp('dB',SNR_out,'The value of SNR after spreading in dB');"
   ]
   }
],
"metadata": {
		  "kernelspec": {
		   "display_name": "Scilab",
		   "language": "scilab",
		   "name": "scilab"
		  },
		  "language_info": {
		   "file_extension": ".sce",
		   "help_links": [
			{
			 "text": "MetaKernel Magics",
			 "url": "https://github.com/calysto/metakernel/blob/master/metakernel/magics/README.md"
			}
		   ],
		   "mimetype": "text/x-octave",
		   "name": "scilab",
		   "version": "0.7.1"
		  }
		 },
		 "nbformat": 4,
		 "nbformat_minor": 0
}
