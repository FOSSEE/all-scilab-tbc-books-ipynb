{
"cells": [
 {
		   "cell_type": "markdown",
	   "metadata": {},
	   "source": [
       "# Chapter 19: Television"
	   ]
	},
{
		   "cell_type": "markdown",
		   "metadata": {},
		   "source": [
			"## Example 19.1: example_1.sce"
		   ]
		  },
  {
"cell_type": "code",
	   "execution_count": null,
	   "metadata": {
	    "collapsed": true
	   },
	   "outputs": [],
"source": [
"clc;\n",
"// page no 703\n",
"// prob no 19.1\n",
"// In the given problem,a video signal has 50% of the maximum luminance level\n",
"//A black setup level of  7.5 IRE represents zero luminance,and 100 IRE is max brightness.Therefore the range from min to max luminnance has 100-7.5=92.5 units.\n",
"//Therefore the level is\n",
"IRE=7.5 + (0.5*92.5);\n",
"disp('IRE units',IRE,'Level of video signals in IRE units');"
   ]
   }
,
{
		   "cell_type": "markdown",
		   "metadata": {},
		   "source": [
			"## Example 19.2: example_2.sce"
		   ]
		  },
  {
"cell_type": "code",
	   "execution_count": null,
	   "metadata": {
	    "collapsed": true
	   },
	   "outputs": [],
"source": [
"clc;\n",
"// page no 704\n",
"// prob no 19.2\n",
"// part a) horizontal blanking\n",
"// Horizontal blanking occupies approximately 10 us of the 63.5 us duration of each line,\n",
"Hztl_blnk=10/63.5 *100;\n",
"disp('of the signal','%',Hztl_blnk,'Horizontal blanking occupies');\n",
"// part b) vertical blanking\n",
"// Vertical blanking occupies approximately 21 lines per field or 42 lines per frame. A frame has 525 lines altogether,so\n",
"Vert_blnk=42/525 *100;\n",
"disp('of the signal','%',Vert_blnk,'vertical blanking occupies');\n",
"// part c) active signal\n",
"// since 8% of the time is lost in vertical blanking, 92% of the time is involved in the tansmission of the active lines.\n",
"act_vid = (100-Hztl_blnk)*(100-Vert_blnk)/100;\n",
"disp('%',act_vid,'The acive video is');"
   ]
   }
,
{
		   "cell_type": "markdown",
		   "metadata": {},
		   "source": [
			"## Example 19.3: example_3.sce"
		   ]
		  },
  {
"cell_type": "code",
	   "execution_count": null,
	   "metadata": {
	    "collapsed": true
	   },
	   "outputs": [],
"source": [
"clc;\n",
"// page no 707\n",
"// prob no 19.3\n",
"// A typical low-cost monochrome receiver has a video bandwidth of 3MHz\n",
"B=3;// bandwidth in MHz\n",
"// The horizontal resolution in lines is given as\n",
"L_h=B*80;\n",
"disp('lines',L_h,'The horizontal resolution in lines is');"
   ]
   }
,
{
		   "cell_type": "markdown",
		   "metadata": {},
		   "source": [
			"## Example 19.4: example_4.sce"
		   ]
		  },
  {
"cell_type": "code",
	   "execution_count": null,
	   "metadata": {
	    "collapsed": true
	   },
	   "outputs": [],
"source": [
"clc;\n",
"// page no 709\n",
"// prob no 19.4\n",
"// A RGB video signal has normalized values as\n",
"R=0.2;G=0.4;B=0.8;\n",
"//The luminance signal is given as\n",
"Y=0.30*R+0.59*G+0.11*B;\n",
"disp(Y,'The luminance signal is');\n",
"//The in-phase component of the color signal is given as\n",
"I=0.60*R-0.28*G-0.32*B;\n",
"disp(I,'The in-phase component of the color signal is');\n",
"//The quadrature component of the color signal is given as\n",
"Q=0.21*R-0.52*G+0.31*B;\n",
"disp(Q,'The quadrature component of the color signal is');"
   ]
   }
,
{
		   "cell_type": "markdown",
		   "metadata": {},
		   "source": [
			"## Example 19.5: example_5.sce"
		   ]
		  },
  {
"cell_type": "code",
	   "execution_count": null,
	   "metadata": {
	    "collapsed": true
	   },
	   "outputs": [],
"source": [
"clc;\n",
"// page no 712\n",
"// prob no 19.5\n",
"......///// refer table 19.1///////.......\n",
"// The proportion in the table are voltage levels and have to be squared to get power.\n",
"// for black setup the voltage level is given as\n",
"v=0.675;\n",
"//Therefore the power level as a fraction of the maximum transmitter power is \n",
"P_black_setup=v^2 *100;\n",
"disp('of the maximum transmitter power is  used to transmit a black setup','%',P_black_setup,)"
   ]
   }
,
{
		   "cell_type": "markdown",
		   "metadata": {},
		   "source": [
			"## Example 19.6: example_6.sce"
		   ]
		  },
  {
"cell_type": "code",
	   "execution_count": null,
	   "metadata": {
	    "collapsed": true
	   },
	   "outputs": [],
"source": [
"clc;\n",
"// page no 728\n",
"// prob no 19.6\n",
"// refer fig 19.27 of the page no 729\n",
"// from fig, we can write down the values directly as given\n",
"In1=100*10^-3;//expressed in mV\n",
"In1_dBmV=20*log10(In1/1);\n",
"disp('dBmV',In1_dBmV,'The input of Amp 1 is');\n",
"// this above calculated signal is applied to the input of the first amplifier,i.e. head-end signal processing\n",
"G1=40;// gain of Amp 1 expressed in dB\n",
"// o/p level of Amp 1 is\n",
"Out1=In1_dBmV + G1;\n",
"disp('dBmV',Out1,'The output of Amp 1 is');\n",
"L=15;//expressed in dB\n",
"// The input level of Amp 2 is\n",
"In2_dBmV=Out1-L;\n",
"disp('dBmV',In2_dBmV,'The input of Amp 2 is');\n",
"G2=25;//gain of Amp2 expressed in dB\n",
"// o/p level of Amp 2 is\n",
"Out2=In2_dBmV+G2;\n",
"disp('dBmV',Out2,'The output of Amp 2 is');\n",
"L1=10;// loss in cable\n",
"L2=12;//loss in directional coupler\n",
"// The input level of Amp 3 is\n",
"In3_dBmV=Out2-L1-L2;\n",
"disp('dBmV',In3_dBmV,'The input of Amp 3 is');\n",
"G3=20;//gain of Amp3 expressed in dB\n",
"Out3=In3_dBmV+G3;\n",
"disp('dBmV',Out3,'The output of Amp 3 is');\n",
"// There is further 3dB cable loss and 20dB loss in the tap\n",
"L3=3;//loss in cable\n",
"L4=20;// loss in tap\n",
"//signal strength at the tap is\n",
"Vdrop_dBmV=Out3-L3-L4;\n",
"V_drop=10^(Vdrop_dBmV/20);// expressed in mV\n",
"disp('mV',V_drop,'Signal strength at subscriber tap is');\n",
"// Calculation of power into 75 ohm\n",
"R=75;//expressed in ohm\n",
"Pdrop = (V_drop*10^-3)^2/R;\n",
"Pdrop_dBm=10*log10(Pdrop/10^-3);\n",
"disp('dBm',Pdrop_dBm,'The power at the end is');"
   ]
   }
,
{
		   "cell_type": "markdown",
		   "metadata": {},
		   "source": [
			"## Example 19.7_a: example_7.sce"
		   ]
		  },
  {
"cell_type": "code",
	   "execution_count": null,
	   "metadata": {
	    "collapsed": true
	   },
	   "outputs": [],
"source": [
"clc;\n",
"// page no 731\n",
"// prob no 19.7\n",
"// In given problem a TV receiver is tuned to channel 6.\n",
"//All modern Rx uses a picture IF of 45.75 MHz with high-side injection of the signal into the cable.\n",
"// The picture carrier of channel 6 is at a frequency of 83.25MHz,so\n",
"ch=6;\n",
"Fc=83.25;// expressed in MHz\n",
"IF=45.75;//expressed in MHz\n",
"f_lo=Fc+IF;\n",
"a=f_lo+ch/2; b=f_lo-ch/2;\n",
"disp('band','MHz',a,'to','MHz',b,'The interference would in');"
   ]
   }
,
{
		   "cell_type": "markdown",
		   "metadata": {},
		   "source": [
			"## Example 19.7_b: example_8.sce"
		   ]
		  },
  {
"cell_type": "code",
	   "execution_count": null,
	   "metadata": {
	    "collapsed": true
	   },
	   "outputs": [],
"source": [
"clc;\n",
"// page no 740\n",
"// prob no 19.8\n",
"Nh=640; Nv=480;// resolution of digital video signal as 640*480 pixels\n",
"Rf=30;//frame rate expressed in Hz\n",
"m=8;// bits per sample\n",
"// By using the product of Horizontal & vertical resolution, no of luminance pixels per frame are\n",
"Npl=Nh*Nv;\n",
"// since each of the color signals has one-fourth the total no of luma pixels\n",
"Npt=1.5*Npl;\n",
"//therefore bit rate is given as\n",
"fb=Npt*m*Rf;\n",
"disp('bps',fb,'The bit rate for the signal is');"
   ]
   }
],
"metadata": {
		  "kernelspec": {
		   "display_name": "Scilab",
		   "language": "scilab",
		   "name": "scilab"
		  },
		  "language_info": {
		   "file_extension": ".sce",
		   "help_links": [
			{
			 "text": "MetaKernel Magics",
			 "url": "https://github.com/calysto/metakernel/blob/master/metakernel/magics/README.md"
			}
		   ],
		   "mimetype": "text/x-octave",
		   "name": "scilab",
		   "version": "0.7.1"
		  }
		 },
		 "nbformat": 4,
		 "nbformat_minor": 0
}
