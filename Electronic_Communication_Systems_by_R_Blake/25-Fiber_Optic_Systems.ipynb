{
"cells": [
 {
		   "cell_type": "markdown",
	   "metadata": {},
	   "source": [
       "# Chapter 25: Fiber Optic Systems"
	   ]
	},
{
		   "cell_type": "markdown",
		   "metadata": {},
		   "source": [
			"## Example 25.1: example_1.sce"
		   ]
		  },
  {
"cell_type": "code",
	   "execution_count": null,
	   "metadata": {
	    "collapsed": true
	   },
	   "outputs": [],
"source": [
"clc;\n",
"// page no 919\n",
"// prob no 25_1\n",
"span_length=40;//in km\n",
"Pin_mW = 1.5;\n",
"signal_strength_dBm = -25; fiber_length = 2.5;//in km\n",
"loss_per_slice_dB=0.25;f_loss_dB_per_km =0.3;\n",
"loss_connector_dB=4;\n",
"Pin_dBm =10*log10(Pin_mW);\n",
"splices=span_length / fiber_length -1;\n",
"fiber_loss = span_length * f_loss_dB_per_km;\n",
"splice_loss = splices * loss_per_slice_dB;\n",
"T_loss = fiber_loss + splice_loss + loss_connector_dB;\n",
"P_out = Pin_dBm - T_loss;\n",
"sys_margin= P_out - signal_strength_dBm;\n",
"disp('dB',sys_margin,'The system margin is');"
   ]
   }
,
{
		   "cell_type": "markdown",
		   "metadata": {},
		   "source": [
			"## Example 25.2: example_2.sce"
		   ]
		  },
  {
"cell_type": "code",
	   "execution_count": null,
	   "metadata": {
	    "collapsed": true
	   },
	   "outputs": [],
"source": [
"clc;\n",
"// page no 921\n",
"// prob no 25_2\n",
"L=45;//in km\n",
"dt=100;//in ns\n",
"//The maximum permissible value for the pulse-spreading constant is \n",
"D=dt/L;\n",
"disp('ns/km',D,'The maximum permissible value for the pulse-spreading constant is');"
   ]
   }
,
{
		   "cell_type": "markdown",
		   "metadata": {},
		   "source": [
			"## Example 25.3: example_3.sce"
		   ]
		  },
  {
"cell_type": "code",
	   "execution_count": null,
	   "metadata": {
	    "collapsed": true
	   },
	   "outputs": [],
"source": [
"clc;\n",
"// page no 922\n",
"// prob no 25_3\n",
"L=45;\n",
"T_Rtx=50; T_Rrx=75; T_Rf=100;\n",
"T_RT=sqrt(T_Rtx^2 + T_Rrx^2 + T_Rf^2);\n",
"// a) for NRZ\n",
"fb=1/T_RT;\n",
"disp('GHz',fb,'a) The maximum bit rate for NRZ');\n",
"// b) for RZ\n",
"fb=1/(2*T_RT);\n",
"disp('GHz',fb,'b) The maximum bit rate for NRZ');"
   ]
   }
,
{
		   "cell_type": "markdown",
		   "metadata": {},
		   "source": [
			"## Example 25.4: example_4.sce"
		   ]
		  },
  {
"cell_type": "code",
	   "execution_count": null,
	   "metadata": {
	    "collapsed": true
	   },
	   "outputs": [],
"source": [
"clc;\n",
"// page no 924\n",
"// prob no 25_4\n",
"Bl=500;//in MHz-km\n",
"L=5;//in km\n",
"// using the bandwidth-distance product formula dispersion is given as\n",
"D=500/Bl;\n",
"disp('ns/km',D,'Dispersion is');\n",
"// Total rise time is given as\n",
"T_rt= D*L;\n",
"disp('ns',T_rt,'Total rise time is');"
   ]
   }
,
{
		   "cell_type": "markdown",
		   "metadata": {},
		   "source": [
			"## Example 25.5: example_5.sce"
		   ]
		  },
  {
"cell_type": "code",
	   "execution_count": null,
	   "metadata": {
	    "collapsed": true
	   },
	   "outputs": [],
"source": [
"clc;\n",
"// page no 924\n",
"// prob no 25_5\n",
"T_Rrx=3*10^-9;\n",
"T_Rtx=2*10^-9;\n",
"fb=100*10^6;//in bps\n",
"L=25;//in km\n",
"T_RT = 1/(2*fb)\n",
"// we have to compute rise time therefore\n",
"T_rf= sqrt(T_RT^2 - T_Rtx^2 - T_Rrx^2)\n",
"// dispersion per km is\n",
"D= T_rf/L;\n",
"disp('ns/km',D/10^-9,'The maximum acceptable dispersion is');\n",
"// using the bandwidth-distance product\n",
"Bl=500/D;\n",
"disp('MHz-km',Bl*10^-9,'The bandwidth-distance product is ');"
   ]
   }
],
"metadata": {
		  "kernelspec": {
		   "display_name": "Scilab",
		   "language": "scilab",
		   "name": "scilab"
		  },
		  "language_info": {
		   "file_extension": ".sce",
		   "help_links": [
			{
			 "text": "MetaKernel Magics",
			 "url": "https://github.com/calysto/metakernel/blob/master/metakernel/magics/README.md"
			}
		   ],
		   "mimetype": "text/x-octave",
		   "name": "scilab",
		   "version": "0.7.1"
		  }
		 },
		 "nbformat": 4,
		 "nbformat_minor": 0
}
