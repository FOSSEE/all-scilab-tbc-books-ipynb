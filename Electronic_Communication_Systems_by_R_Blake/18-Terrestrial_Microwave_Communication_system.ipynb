{
"cells": [
 {
		   "cell_type": "markdown",
	   "metadata": {},
	   "source": [
       "# Chapter 18: Terrestrial Microwave Communication system"
	   ]
	},
{
		   "cell_type": "markdown",
		   "metadata": {},
		   "source": [
			"## Example 18.10: example_10.sce"
		   ]
		  },
  {
"cell_type": "code",
	   "execution_count": null,
	   "metadata": {
	    "collapsed": true
	   },
	   "outputs": [],
"source": [
"clc;\n",
"// page no 688\n",
"// prob no 18.10\n",
"// refer fig 18.9a)\n",
"fc_r=6870;// carrier freq of received signal in MHz\n",
"fc_t=6710;//carrier freq of transmitted signal in MHz\n",
"IF=70;//in MHz\n",
"// the freq of shift oscillator is \n",
"fso=fc_r - fc_t;\n",
"disp('MHz',fso,'The freq of shift oscillator is ');\n",
"//the local oscillator freq is given as\n",
"flo=fc_t-IF;\n",
"disp('MHz',flo,'The local oscillator freq is ');\n",
"//from fig, mixer 3 will produce an o/p as\n",
"op_mix3=flo+fso;\n",
"disp('MHz',op_mix3,'O/P of Mixer 3 is');"
   ]
   }
,
{
		   "cell_type": "markdown",
		   "metadata": {},
		   "source": [
			"## Example 18.11: example_11.sce"
		   ]
		  },
  {
"cell_type": "code",
	   "execution_count": null,
	   "metadata": {
	    "collapsed": true
	   },
	   "outputs": [],
"source": [
"clc;\n",
"// page no 690\n",
"// prob no 18.11\n",
"// A typical microwave digital radio system uses 16-QAM.\n",
"fb=90.524;//bit rate expressesd in Mbps\n",
"n=16;// for 16-QAM system\n",
"//part a) calculation of no of bits per symbol\n",
"m=log2(n);\n",
"disp('bits',m,'The number of bits per symbol are');\n",
"// part b) calclation of baud rate\n",
"// baud rate is 1/4th of the bit rate\n",
"baud=fb/4;\n",
"disp('Mbaud',baud,'The baud rate is');"
   ]
   }
,
{
		   "cell_type": "markdown",
		   "metadata": {},
		   "source": [
			"## Example 18.1: example_1.sce"
		   ]
		  },
  {
"cell_type": "code",
	   "execution_count": null,
	   "metadata": {
	    "collapsed": true
	   },
	   "outputs": [],
"source": [
"clc;\n",
"// page no 676\n",
"// prob no 18_1\n",
"//Transmitter and receiver have same height at dist 40km\n",
"d=40;//dist is 40 km\n",
"h=(d^2)/68;// As d=sqrt(17h)+sqrt(17h)\n",
"disp('m',h,'The height of each tower must be at least')l;"
   ]
   }
,
{
		   "cell_type": "markdown",
		   "metadata": {},
		   "source": [
			"## Example 18.2: example_2.sce"
		   ]
		  },
  {
"cell_type": "code",
	   "execution_count": null,
	   "metadata": {
	    "collapsed": true
	   },
	   "outputs": [],
"source": [
"clc;\n",
"// page no 678\n",
"// prob no 18_2\n",
"//A line of sight radio link at freq 6GHz with seperation 40 km betn antennas\n",
"f=6;d1=10;d2=30;//obstacle located at 10 km\n",
"//Determination of dist R to clear obstacle \n",
"R=10.4*sqrt((d1*d2)/(f*(d1+d2)));\n",
"disp('m',R,'The dist by which beam must clear the obstacle is')"
   ]
   }
,
{
		   "cell_type": "markdown",
		   "metadata": {},
		   "source": [
			"## Example 18.3: example_3.sce"
		   ]
		  },
  {
"cell_type": "code",
	   "execution_count": null,
	   "metadata": {
	    "collapsed": true
	   },
	   "outputs": [],
"source": [
"clc;\n",
"// page no 679\n",
"// prob no 18_3\n",
"//A transmitter and receiver at 6GHz seperated by 40km with o/p power 2 W \n",
"f=6*10^9;d=40;Pt=2;// power in watt\n",
"//transmitting antenna gain Gt=20dBi,receiving antenna Gr=25dBi\n",
"Gt=20;Gr=25;\n",
"f_mhz=6000;//f=6000 MHz\n",
"Pr_Pt_dB=(Gt+Gr)-(32.44+(20*log10(d))+(20*log10(f_mhz)));\n",
"Pt_dBm=10*log10(Pt/10^-3);\n",
"Pr_dBm=Pt_dBm + Pr_Pt_dB;\n",
"disp('dBm',Pr_dBm,'The power delivered to the Rx is');"
   ]
   }
,
{
		   "cell_type": "markdown",
		   "metadata": {},
		   "source": [
			"## Example 18.4: example_4.sce"
		   ]
		  },
  {
"cell_type": "code",
	   "execution_count": null,
	   "metadata": {
	    "collapsed": true
	   },
	   "outputs": [],
"source": [
"clc;\n",
"// page no 680\n",
"// prob no 18_4\n",
"T_sky=120;// Sky temp expressed in K\n",
"L_dB=2;// antenna feedline loss\n",
"L=10^(L_dB/10);\n",
"// the noise temp is given as\n",
"Ta=((L-1)*290 + T_sky)/L;\n",
"disp('K',Ta,'Noise temperature is' );"
   ]
   }
,
{
		   "cell_type": "markdown",
		   "metadata": {},
		   "source": [
			"## Example 18.5: example_5.sce"
		   ]
		  },
  {
"cell_type": "code",
	   "execution_count": null,
	   "metadata": {
	    "collapsed": true
	   },
	   "outputs": [],
"source": [
"clc;\n",
"// page no 681\n",
"// prob no 18.5\n",
"NF_dB=2;\n",
"NF_power = 10^(NF_dB/10);\n",
"T_eq=290*(NF_power -1);\n",
"disp('K',T_eq,'The equivalent noise temperature');"
   ]
   }
,
{
		   "cell_type": "markdown",
		   "metadata": {},
		   "source": [
			"## Example 18.6: example_6.sce"
		   ]
		  },
  {
"cell_type": "code",
	   "execution_count": null,
	   "metadata": {
	    "collapsed": true
	   },
	   "outputs": [],
"source": [
"clc;\n",
"// page no 681\n",
"// prob no 18.6\n",
"// refer example no 18.4 and 18.5\n",
"// The antenna and feedline combination from ex 18.4 is used with the Rx from ex 18.5\n",
"Ta=182;// noise temp of the antenna and feedline combination expressed in K\n",
"Teq=169;// noise temperature of the Rx\n",
"B=20*10^6;// BW of the receiver\n",
"Tn_sys=Ta+Teq;//Noise temp for the system\n",
"k=1.38*10^-23;//Boltzmann constant\n",
"// Noise power of the system is given as\n",
"Pn=k*Tn_sys*B;// where k is Boltzmann constant\n",
"disp('W',Pn,'The noise power is');\n",
"Pn_dBm=10*log10(Pn/10^-3);\n",
"disp('dBm',Pn_dBm,'The thermal noise power is');"
   ]
   }
,
{
		   "cell_type": "markdown",
		   "metadata": {},
		   "source": [
			"## Example 18.7: example_7.sce"
		   ]
		  },
  {
"cell_type": "code",
	   "execution_count": null,
	   "metadata": {
	    "collapsed": true
	   },
	   "outputs": [],
"source": [
"clc;\n",
"// page no 682\n",
"// prob no 18.7\n",
"// refer ex no 18.3 and 18.6\n",
"Pr_dBm=-62;//power at the receiver in dBm\n",
"Pn_dBm=-100;//thermal noise power in dBm\n",
"// carrier to noise ratio in dB is given as\n",
"C_N=Pr_dBm -Pn_dBm;\n",
"disp('dB',C_N,'Carrier to noise ratio is');"
   ]
   }
,
{
		   "cell_type": "markdown",
		   "metadata": {},
		   "source": [
			"## Example 18.8: example_8.sce"
		   ]
		  },
  {
"cell_type": "code",
	   "execution_count": null,
	   "metadata": {
	    "collapsed": true
	   },
	   "outputs": [],
"source": [
"clc;\n",
"// page no 683\n",
"// prob no 18.8\n",
"// refer ex 18.7\n",
"fb=40*10^6;// bit rate in bps\n",
"Pr_dBm=-62;//power at the receiver in dBm\n",
"Pr=10^(Pr_dBm/10)*10^-3;// power at the receiver in W\n",
"Eb=Pr/fb;// the energy per bit in J\n",
"k=1.38*10^-23;//Boltzmann constant\n",
"T=350;\n",
"// the noise power density is \n",
"No=k*T;\n",
"// Energy per bit to noise density ratio in dB is\n",
"Eb_No=10*log10(Eb/No);\n",
"disp('dB',Eb_No,'Energy per bit to noise density ratio is ');"
   ]
   }
,
{
		   "cell_type": "markdown",
		   "metadata": {},
		   "source": [
			"## Example 18.9: example_9.sce"
		   ]
		  },
  {
"cell_type": "code",
	   "execution_count": null,
	   "metadata": {
	    "collapsed": true
	   },
	   "outputs": [],
"source": [
"clc;\n",
"// page no 686\n",
"// prob no 18.9\n",
"// refer fig 18.7(b)\n",
"//This is the standard superheterodyne receiver\n",
"fc=6870;// the received carrier freq in MHz\n",
"IF=70;// IF in MHz\n",
"// The local oscillator freq is given as\n",
"f_lo=fc-IF;\n",
"disp('MHz',f_lo,'The local oscillator freq is ');"
   ]
   }
],
"metadata": {
		  "kernelspec": {
		   "display_name": "Scilab",
		   "language": "scilab",
		   "name": "scilab"
		  },
		  "language_info": {
		   "file_extension": ".sce",
		   "help_links": [
			{
			 "text": "MetaKernel Magics",
			 "url": "https://github.com/calysto/metakernel/blob/master/metakernel/magics/README.md"
			}
		   ],
		   "mimetype": "text/x-octave",
		   "name": "scilab",
		   "version": "0.7.1"
		  }
		 },
		 "nbformat": 4,
		 "nbformat_minor": 0
}
