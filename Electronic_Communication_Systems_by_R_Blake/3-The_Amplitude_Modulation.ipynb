{
"cells": [
 {
		   "cell_type": "markdown",
	   "metadata": {},
	   "source": [
       "# Chapter 3: The Amplitude Modulation"
	   ]
	},
{
		   "cell_type": "markdown",
		   "metadata": {},
		   "source": [
			"## Example 3.10: example_9.sce"
		   ]
		  },
  {
"cell_type": "code",
	   "execution_count": null,
	   "metadata": {
	    "collapsed": true
	   },
	   "outputs": [],
"source": [
"clc;\n",
"// page no 126\n",
"// prob no 3.10\n",
"f_car=8*10^6;f_mod1=2*10^3;f_mod2=3.5*10^3;\n",
"//Signal is LSB hence o/p freq is obtained by subtracting f_mod from f_car\n",
"f_out1=f_car-f_mod1; \n",
"disp('MHz',f_out1/(10^6),'The o/p freq f_out1 is ');\n",
"f_out2=f_car-f_mod2; \n",
"disp('MHz',f_out2/(10^6),'The o/p freq f_out1 is ');"
   ]
   }
,
{
		   "cell_type": "markdown",
		   "metadata": {},
		   "source": [
			"## Example 3.11: example_10.sce"
		   ]
		  },
  {
"cell_type": "code",
	   "execution_count": null,
	   "metadata": {
	    "collapsed": true
	   },
	   "outputs": [],
"source": [
"clc;\n",
"// page no 127\n",
"// prob no 3.11\n",
"//Refering the fig. 3.17\n",
"//From fig it is clear that thee waveform is made from two sine waves \n",
"Vp=12.5;//Since Vp-p is 25V from fig hence individual Vp is half of Vp-p\n",
"Rl=50;//Load resistance is 50 ohm\n",
"//Determination of average power\n",
"Vrms=Vp/sqrt(2);\n",
"P=((Vrms)^2)/Rl;\n",
"disp('W',P,'The value of average power of signal is ');"
   ]
   }
,
{
		   "cell_type": "markdown",
		   "metadata": {},
		   "source": [
			"## Example 3.1: example_1.sce"
		   ]
		  },
  {
"cell_type": "code",
	   "execution_count": null,
	   "metadata": {
	    "collapsed": true
	   },
	   "outputs": [],
"source": [
"clc;\n",
"// page no 105\n",
"// prob no 3.1\n",
"Erms_car=2; f_car=1.5*10^6;f_mod=500;Erms_mod=1;// given\n",
"// Equation requires peak voltages & radian frequencies\n",
"Ec=sqrt(2)*Erms_car; Em=sqrt(2)*Erms_mod;\n",
"wc=2*%pi*f_car; wm=2*%pi*f_mod;t=1;\n",
"// Therefore the equation is \n",
"disp('v(t) = (2.83+1.41*sin(3.14*10^3*t))*sin(9.42*10^6*t) V');"
   ]
   }
,
{
		   "cell_type": "markdown",
		   "metadata": {},
		   "source": [
			"## Example 3.2: example_2.sce"
		   ]
		  },
  {
"cell_type": "code",
	   "execution_count": null,
	   "metadata": {
	    "collapsed": true
	   },
	   "outputs": [],
"source": [
"clc;\n",
"//page no 106\n",
"//prob no 3.2\n",
"// To avoid the round-off errors we should use the original voltage values\n",
"Em=1;Ec=2;\n",
"m=Em/Ec;\n",
"disp(m,'m=');\n",
"disp('v(t) = 2.83(1+0.5*sin(3.14*10^3*t))*sin(9.42*10^6*t) V','The equation can be obtained as');"
   ]
   }
,
{
		   "cell_type": "markdown",
		   "metadata": {},
		   "source": [
			"## Example 3.3: example_3.sce"
		   ]
		  },
  {
"cell_type": "code",
	   "execution_count": null,
	   "metadata": {
	    "collapsed": true
	   },
	   "outputs": [],
"source": [
"clc;\n",
"//page no 109\n",
"//prob no 3.3\n",
"E_car=10;E_m1=1;E_m2=2;E_m3=3;\n",
"m1=E_m1/E_car;\n",
"m2=E_m2/E_car;\n",
"m3=E_m3/E_car;\n",
"mT=sqrt(m1^2+m2^2+m3^2);\n",
"disp(mT,'The modulation index is');"
   ]
   }
,
{
		   "cell_type": "markdown",
		   "metadata": {},
		   "source": [
			"## Example 3.4: example_4.sce"
		   ]
		  },
  {
"cell_type": "code",
	   "execution_count": null,
	   "metadata": {
	    "collapsed": true
	   },
	   "outputs": [],
"source": [
"clc;\n",
"//page no 110\n",
"//prob no 3.4\n",
"//refer fig 3.2\n",
"E_max=150; E_min=70;// voltages are in mV\n",
"m=(E_max-E_min)/(E_max+E_min);\n",
"disp(m,'The modulation index is');"
   ]
   }
,
{
		   "cell_type": "markdown",
		   "metadata": {},
		   "source": [
			"## Example 3.6: example_5.sce"
		   ]
		  },
  {
"cell_type": "code",
	   "execution_count": null,
	   "metadata": {
	    "collapsed": true
	   },
	   "outputs": [],
"source": [
"clc;\n",
"//page no 114\n",
"//prob no 3.6\n",
"B=10*10^3;\n",
"// maximum modulation freq is given as \n",
"fm=B/2;\n",
"disp('Hz',fm,'The maximum modulation freq is');"
   ]
   }
,
{
		   "cell_type": "markdown",
		   "metadata": {},
		   "source": [
			"## Example 3.7: example_6.sce"
		   ]
		  },
  {
"cell_type": "code",
	   "execution_count": null,
	   "metadata": {
	    "collapsed": true
	   },
	   "outputs": [],
"source": [
"clc;\n",
"//page no 116\n",
"//prob no 3.7\n",
"// AM broadcast transmitter\n",
"Pc=50;m=0.8;//power is in kW\n",
"Pt=Pc*(1+m^2 /2);\n",
"disp('kW',Pt,'The total power is');"
   ]
   }
,
{
		   "cell_type": "markdown",
		   "metadata": {},
		   "source": [
			"## Example 3.8: example_7.sce"
		   ]
		  },
  {
"cell_type": "code",
	   "execution_count": null,
	   "metadata": {
	    "collapsed": true
	   },
	   "outputs": [],
"source": [
"clc;\n",
"// page no 328\n",
"// prob no 8.6\n",
"//2 kHz tone is present on channel 5 of group 3 of supergroup\n",
"//signal is lower sided so\n",
"fc_channel_5=92*10^3;\n",
"fg=fc_channel_5 - (2*10^3);// 2MHz baseband signal\n",
"// we know group 3 in the supergroup is moved to the range 408-456 kHz with a suppressed carrier frequency of 516kHz\n",
"f_s_carr=516*10^3;\n",
"fsg=f_s_carr - fg;\n",
"disp(fsg);"
   ]
   }
,
{
		   "cell_type": "markdown",
		   "metadata": {},
		   "source": [
			"## Example 3.9: example_8.sce"
		   ]
		  },
  {
"cell_type": "code",
	   "execution_count": null,
	   "metadata": {
	    "collapsed": true
	   },
	   "outputs": [],
"source": [
"clc;\n",
"//page no 122\n",
"//prob no. 3.9\n",
"// refer fig 3.14\n",
"// from spectrum we can see that each of the two sidebands is 20dB below the ref level of 10dBm. Therefore each sideband has a power of -10dBm i.e. 100uW.\n",
"power_of_each_sideband = 100;\n",
"Total_power = 2* power_of_each_sideband;\n",
"disp('uW',Total_power,'The total power is');\n",
"div=4; freq_per_div=1;\n",
"sideband_separation = div * freq_per_div;\n",
"f_mod= sideband_separation/2;\n",
"disp('kHz',f_mod,'The modulating freq is ');\n",
"// Even if this siganl has no carrier, it still has a carrier freq which is midway between the two sidebands. Therefore\n",
"carrier_freq = 10;\n",
"disp('MHz',carrier_freq,'The carrier freq');"
   ]
   }
],
"metadata": {
		  "kernelspec": {
		   "display_name": "Scilab",
		   "language": "scilab",
		   "name": "scilab"
		  },
		  "language_info": {
		   "file_extension": ".sce",
		   "help_links": [
			{
			 "text": "MetaKernel Magics",
			 "url": "https://github.com/calysto/metakernel/blob/master/metakernel/magics/README.md"
			}
		   ],
		   "mimetype": "text/x-octave",
		   "name": "scilab",
		   "version": "0.7.1"
		  }
		 },
		 "nbformat": 4,
		 "nbformat_minor": 0
}
