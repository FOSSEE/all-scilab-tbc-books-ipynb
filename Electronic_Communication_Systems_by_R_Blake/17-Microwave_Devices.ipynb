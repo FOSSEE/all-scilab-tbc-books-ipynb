{
"cells": [
 {
		   "cell_type": "markdown",
	   "metadata": {},
	   "source": [
       "# Chapter 17: Microwave Devices"
	   ]
	},
{
		   "cell_type": "markdown",
		   "metadata": {},
		   "source": [
			"## Example 17.10: example_9.sce"
		   ]
		  },
  {
"cell_type": "code",
	   "execution_count": null,
	   "metadata": {
	    "collapsed": true
	   },
	   "outputs": [],
"source": [
"clc;\n",
"//page no 652\n",
"//prob no. 17.10\n",
"//A pyramidal horn has aperture=58mm in E-plane & 78mm in H-plane & operates at 10GHz\n",
"f=10*10^9;c=3*10^8;dH=78*10^-3;dE=58*10^-3;\n",
"//a)Determination of gain in dB\n",
"wl=c/f;//calculation of wavelength\n",
"G=(7.5*dE*dH)/(wl^2);\n",
"G_dBi=10*log10(G);//Converting to dBi\n",
"disp('dBi',G_dBi,'a)The gain is');\n",
"//b)Determination of beamwidth in H-palne\n",
"theta_H=(70*wl)/dH;\n",
"disp('degree',theta_H,'b)The beamwidth in H-plane is');\n",
"//c)Determination of beamwidth in E-plane\n",
"theta_E=(56*wl)/dE;\n",
"disp('degree',theta_E,'c)The beamwidth in H-plane is');"
   ]
   }
,
{
		   "cell_type": "markdown",
		   "metadata": {},
		   "source": [
			"## Example 17.11: example_10.sce"
		   ]
		  },
  {
"cell_type": "code",
	   "execution_count": null,
	   "metadata": {
	    "collapsed": true
	   },
	   "outputs": [],
"source": [
"clc;\n",
"//page no 654\n",
"// problem no 17.11\n",
"//for a square patch antenna\n",
"f=2*10^6;// freq of operation in Hz\n",
"Er=2;// relative permittivity\n",
"c=3*10^8;// velo of light\n",
"//wavelength is given as\n",
"wl=c/(f*sqrt(Er));\n",
"//The antenna width and length are each approximately half of this.\n",
"w=wl/2;\n",
"l=wl/2;\n",
"disp('m',w,'The antenna width','and','m',l,'The antenna length');"
   ]
   }
,
{
		   "cell_type": "markdown",
		   "metadata": {},
		   "source": [
			"## Example 17.12: example_11.sce"
		   ]
		  },
  {
"cell_type": "code",
	   "execution_count": null,
	   "metadata": {
	    "collapsed": true
	   },
	   "outputs": [],
"source": [
"clc;\n",
"//page no 657\n",
"//prob no. 17.12\n",
"//A radar Tx has power=10kW at freq=9.5GHz & target at 15km with cross sectn=10.2 m2 with gain of antenna is 20dBi\n",
"f=9.5*10^9;Pt=10*10^3;c=3*10^8;G_dBi=20;a=10.2;r=15*10^3;\n",
"//Determination of received power\n",
"wl=c/f;//calculating wavelength\n",
"G=10^(G_dBi/10);//Converting to power ratio\n",
"Pr=((wl^2)*Pt*(G^2)*a)/(((4*%pi)^3)*(r^4));\n",
"disp('W',Pr,'The received power is');"
   ]
   }
,
{
		   "cell_type": "markdown",
		   "metadata": {},
		   "source": [
			"## Example 17.13_a: example_12.sce"
		   ]
		  },
  {
"cell_type": "code",
	   "execution_count": null,
	   "metadata": {
	    "collapsed": true
	   },
	   "outputs": [],
"source": [
"clc;\n",
"//page no 659\n",
"//prob no. 17.13a\n",
"//a pulse sent,returns after 15us\n",
"t=15*10^-6;c=3*10^8;\n",
"//Determination of distance of target\n",
"R=(c*t)/2;\n",
"disp('m',R,'The distance of target is');"
   ]
   }
,
{
		   "cell_type": "markdown",
		   "metadata": {},
		   "source": [
			"## Example 17.13_b: example_13.sce"
		   ]
		  },
  {
"cell_type": "code",
	   "execution_count": null,
	   "metadata": {
	    "collapsed": true
	   },
	   "outputs": [],
"source": [
"clc;\n",
"//page no 660\n",
"//prob no. 17.13.b\n",
"tp=10^-6;//pulse duration of pulse radar\n",
"f=10^3;//operating freq in Hz\n",
"//The maximum unambiguous range is \n",
"Rmax=c/(2*f);\n",
"disp('m',Rmax,'The maximum range is ');\n",
"//The minimum unambiguous range is \n",
"Rmin=c*tp/2;\n",
"disp('m',Rmin,'The minimum range is ');"
   ]
   }
,
{
		   "cell_type": "markdown",
		   "metadata": {},
		   "source": [
			"## Example 17.14: example_14.sce"
		   ]
		  },
  {
"cell_type": "code",
	   "execution_count": null,
	   "metadata": {
	    "collapsed": true
	   },
	   "outputs": [],
"source": [
"clc;\n",
"//page no 662\n",
"//prob no. 17.14\n",
"v=60;//speed of vehicle moving towards radar in mph\n",
"c=3*10^8;//velo of light in m/s\n",
"f=10^10;// operating frequency in Hz\n",
"// conversion of speed from mph to km/hr\n",
"v1=60*1.6;\n",
"// conversion of speed from km/hr to m/s\n",
"v2=v1*10^3/3600;\n",
"// Now the Doppler shift is found as\n",
"fd=2*v2*f/c;\n",
"disp('Hz',fd,'The Doppler shift is ');"
   ]
   }
,
{
		   "cell_type": "markdown",
		   "metadata": {},
		   "source": [
			"## Example 17.1: example_1.sce"
		   ]
		  },
  {
"cell_type": "code",
	   "execution_count": null,
	   "metadata": {
	    "collapsed": true
	   },
	   "outputs": [],
"source": [
"clc;\n",
"//page no 621\n",
"//prob no. 17.1\n",
"//TE10 mode in air dielectric mode with inside cross sectn=2cm*4cm\n",
"//Determination of cut-off freq \n",
"a=4*10^-2;//largest dimn is used for calculation \n",
"c=3*10^8;//Speed of light in m/s\n",
"fc=c/(2*a);\n",
"//Determination of dominant mode of propagation over 2:1\n",
"MUF=2*fc;\n",
"disp('Hz',MUF,'The max usable freq is');"
   ]
   }
,
{
		   "cell_type": "markdown",
		   "metadata": {},
		   "source": [
			"## Example 17.2: example_2.sce"
		   ]
		  },
  {
"cell_type": "code",
	   "execution_count": null,
	   "metadata": {
	    "collapsed": true
	   },
	   "outputs": [],
"source": [
"clc;\n",
"//page no 624\n",
"//prob no. 17.2\n",
"//Determination of group velo for waveguide in example 7.1\n",
"f=5*10^9;//freq.in Hz\n",
"fc=3.75*10^9;//cut-off freq from eg.7.1\n",
"c=3*10^8;//speed of light in m/s\n",
"vg=c*sqrt(1-(fc/f)^2);\n",
"disp('m/s',vg,'The group velo.is');"
   ]
   }
,
{
		   "cell_type": "markdown",
		   "metadata": {},
		   "source": [
			"## Example 17.3: example_3.sce"
		   ]
		  },
  {
"cell_type": "code",
	   "execution_count": null,
	   "metadata": {
	    "collapsed": true
	   },
	   "outputs": [],
"source": [
"clc;\n",
"//page no 624\n",
"//prob no. 17.3\n",
"//A waveguide with fc=10GHz.2 signal withfreq 12 & 17GHz propogate down=50m\n",
"fc=10*10^9;c=3*10^8;f1=12*10^9;f2=17*10^9;d=50;\n",
"//Determination of group velo for 12GHz\n",
"vg1=c*sqrt(1-(fc/f1)^2);\n",
"disp('m/s',vg1,'The group velo. for 12GHz signal is');\n",
"//Determination of group velo for 17GHz\n",
"vg2=c*sqrt(1-(fc/f2)^2);\n",
"disp('m/s',vg2,'The group velo. for 17GHz signal is');\n",
"//Determination of time taken for 50m dist by f1\n",
"t1=d/vg1;\n",
"//Determination of time taken for 50m dist by f2\n",
"t2=d/vg2;\n",
"//Determination of diffn in the travel times for 2 signals \n",
"del=t1-t2;\n",
"disp('sec',del,'The diffn in the travel times for 2 signals is'); "
   ]
   }
,
{
		   "cell_type": "markdown",
		   "metadata": {},
		   "source": [
			"## Example 17.4: example_4.sce"
		   ]
		  },
  {
"cell_type": "code",
	   "execution_count": null,
	   "metadata": {
	    "collapsed": true
	   },
	   "outputs": [],
"source": [
"clc;\n",
"//page no 627\n",
"//prob no. 17.4\n",
"//Determination of phase velo.with given 5GHz freq\n",
"f=5*10^9;c=3*10^8;fc=3.75*10^9;//Cut-off freq refering eg.17.1\n",
"vp=c/sqrt(1-(fc/f)^2);//Calculation of phase velo.\n",
"disp('m/s',vp,'The phase velo is');"
   ]
   }
,
{
		   "cell_type": "markdown",
		   "metadata": {},
		   "source": [
			"## Example 17.5: example_5.sce"
		   ]
		  },
  {
"cell_type": "code",
	   "execution_count": null,
	   "metadata": {
	    "collapsed": true
	   },
	   "outputs": [],
"source": [
"clc;\n",
"//page no 628\n",
"//prob no. 17.5\n",
"//determination of characteristic impedance of waveguide with given 5GHz freq\n",
"f=5*10^9;fc=3.75*10^9;//Refering in eg. 17.4\n",
"Zo=377/sqrt(1-(fc/f)^2);\n",
"disp('ohm',Zo,'The characteristic impedance of waveguide is');"
   ]
   }
,
{
		   "cell_type": "markdown",
		   "metadata": {},
		   "source": [
			"## Example 17.7: example_6.sce"
		   ]
		  },
  {
"cell_type": "code",
	   "execution_count": null,
	   "metadata": {
	    "collapsed": true
	   },
	   "outputs": [],
"source": [
"clc;\n",
"//page no 631\n",
"//prob no. 17.7\n",
"//A signal with level of 20dBm & insertion loss=1dB & coupling =20dB,directivity=40dB\n",
"sig_in=20;loss=1;couple=20;direct=40;\n",
"//Determination of signal level in main guide\n",
"sig_level_main=signal_in-loss;\n",
"disp('dBm',sig_level_main,'The signal level in main guide is');\n",
"//Determination of signal level in secondary guide\n",
"sig_level_sec=sig_in-couple;\n",
"disp('dBm',sig_level_sec,'The signal level in secondary guide is');\n",
"//If signal dirn in main guide were reveresed,the signal level in sec gide would reduced by 40dB to\n",
"sig_sec_rev=(sig_level_sec)-(direct);\n",
"disp('dBm',sig_sec_rev,'The signal level from sec guide when reversed guide is');"
   ]
   }
,
{
		   "cell_type": "markdown",
		   "metadata": {},
		   "source": [
			"## Example 17.8: example_7.sce"
		   ]
		  },
  {
"cell_type": "code",
	   "execution_count": null,
	   "metadata": {
	    "collapsed": true
	   },
	   "outputs": [],
"source": [
"clc;\n",
"//page no 642\n",
"//prob no. 17.8\n",
"//A Gunn device with thickness=7um\n",
"d=7*10^-6;v=10^5;//Basic velocity of e\n",
"t=d/v;//Basic velocity relation\n",
"//Determination of freq of oscillation\n",
"f=1/t;//Inverse of period is freq\n",
"disp('Hz',f,'The freq of oscillation is');"
   ]
   }
,
{
		   "cell_type": "markdown",
		   "metadata": {},
		   "source": [
			"## Example 17.9: example_8.sce"
		   ]
		  },
  {
"cell_type": "code",
	   "execution_count": null,
	   "metadata": {
	    "collapsed": true
	   },
	   "outputs": [],
"source": [
"clc;\n",
"//page no 648\n",
"//prob no. 17.9\n",
"//A pulse magnetron with avg power=1.2kW & peak power=18.5kW & 1 pulse is generated every 10ms\n",
"Pavg=1.2*10^3;Pp=18.5*10^3;Tt=10*10^-3;\n",
"//Determination of duty cycle\n",
"D=Pavg/Pp;\n",
"disp(D,'The duty cycle is');\n",
"//Determination of length of pulse\n",
"Ton=D*Tt;\n",
"disp('sec',Ton,'The length of pulse is');"
   ]
   }
],
"metadata": {
		  "kernelspec": {
		   "display_name": "Scilab",
		   "language": "scilab",
		   "name": "scilab"
		  },
		  "language_info": {
		   "file_extension": ".sce",
		   "help_links": [
			{
			 "text": "MetaKernel Magics",
			 "url": "https://github.com/calysto/metakernel/blob/master/metakernel/magics/README.md"
			}
		   ],
		   "mimetype": "text/x-octave",
		   "name": "scilab",
		   "version": "0.7.1"
		  }
		 },
		 "nbformat": 4,
		 "nbformat_minor": 0
}
