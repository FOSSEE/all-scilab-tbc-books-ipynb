{
"cells": [
 {
		   "cell_type": "markdown",
	   "metadata": {},
	   "source": [
       "# Chapter 12: Digital Modulation and Modems"
	   ]
	},
{
		   "cell_type": "markdown",
		   "metadata": {},
		   "source": [
			"## Example 12.1: example_1.sce"
		   ]
		  },
  {
"cell_type": "code",
	   "execution_count": null,
	   "metadata": {
	    "collapsed": true
	   },
	   "outputs": [],
"source": [
"clc;\n",
"// page no 407\n",
"// prob no 12_1\n",
"//A radio channel with BW=10KHz and SNR=15 dB\n",
"B=10*10^3;\n",
"snr=15;\n",
"//converting dB in power ratio\n",
"SNR=10^(snr/10);\n",
"//a)Determination of theoretical max data rate\n",
"C1=B*log2(1+SNR);\n",
"disp('kb/s',C1/1000,'a)The theoretical max data rate is');\n",
"//b)Determination of data rate with 4 states i.e M=4\n",
"M=4;\n",
"C2=2*B*log2(M);\n",
"disp('kb/s',C2/1000,'b)The data rate for 4 states is');"
   ]
   }
,
{
		   "cell_type": "markdown",
		   "metadata": {},
		   "source": [
			"## Example 12.2: example_2.sce"
		   ]
		  },
  {
"cell_type": "code",
	   "execution_count": null,
	   "metadata": {
	    "collapsed": true
	   },
	   "outputs": [],
"source": [
"clc;\n",
"// page no 408\n",
"// prob no 12_2\n",
"//A modulator transmit symbol with symbol rate=10k/sec with 64 states\n",
"M=64;\n",
"S=10000;\n",
"//Baud rate is simply symbol rate\n",
"disp('kbaud',S/1000,'The baud rate is '); \n",
"//Determination of bit rate\n",
"C=S*log2(64);\n",
"disp('kb/s',C/1000,'The bit rate is '); "
   ]
   }
,
{
		   "cell_type": "markdown",
		   "metadata": {},
		   "source": [
			"## Example 12.3: example_3.sce"
		   ]
		  },
  {
"cell_type": "code",
	   "execution_count": null,
	   "metadata": {
	    "collapsed": true
	   },
	   "outputs": [],
"source": [
"clc;\n",
"// page no 411\n",
"// prob no 12_3\n",
"f=200*10^3;\n",
"fb=270.833 *10^3;\n",
"data_rate=270.833 *10^3\n",
"fc=880*10^6;\n",
"bandwidth=200*10^3;\n",
"freq_shift=0.5*fb;\n",
"disp('Hz',freq_shift,'a)The frequency shift is');\n",
"// The shift each way from the carrier frequency is half the freq_shift\n",
"f_max=fc+0.25*fb;\n",
"disp('Hz',f_max,'b)The maximum frequency is');\n",
"f_min=fc-0.25*fb;\n",
"disp('Hz',f_min,'The minimum frequency is');\n",
"bandwidth_efficiency=data_rate/bandwidth;\n",
"disp('b/s/Hz',bandwidth_efficiency,'The bandwidth efficiency in b/s/Hz is');"
   ]
   }
,
{
		   "cell_type": "markdown",
		   "metadata": {},
		   "source": [
			"## Example 12.4: example_4.sce"
		   ]
		  },
  {
"cell_type": "code",
	   "execution_count": null,
	   "metadata": {
	    "collapsed": true
	   },
	   "outputs": [],
"source": [
"clc;\n",
"// page no 412\n",
"// prob no 12_4\n",
"baud_rate=24.3;// in kilobaud\n",
"// In this problem dibit system is used.\n",
"//Therefore symbol_rate=baud_rate=0.5*bit_rate\n",
"bit_rate=2*baud_rate;\n",
"disp('kb/s',bit_rate,'The channel data rate is');"
   ]
   }
,
{
		   "cell_type": "markdown",
		   "metadata": {},
		   "source": [
			"## Example 12.5: example_5.sce"
		   ]
		  },
  {
"cell_type": "code",
	   "execution_count": null,
	   "metadata": {
	    "collapsed": true
	   },
	   "outputs": [],
"source": [
"clc;\n",
"// page no 413\n",
"// prob no 12_5\n",
"no_of_phase_angles=16;\n",
"no_of_amplitudes=4;\n",
"no_of_states_per_symbol=no_of_phase_angles*no_of_amplitudes;\n",
"bit_per_symbol=log2(no_of_states_per_symbol);\n",
"disp(bit_per_symbol,'The no. of bits per symbol is');"
   ]
   }
,
{
		   "cell_type": "markdown",
		   "metadata": {},
		   "source": [
			"## Example 12.6: example_6.sce"
		   ]
		  },
  {
"cell_type": "code",
	   "execution_count": null,
	   "metadata": {
	    "collapsed": true
	   },
	   "outputs": [],
"source": [
"clc;\n",
"// page no 415\n",
"// prob no 12_6\n",
"B=3*10^3;SNR_dB=30;\n",
"SNR_power=10^(30/10);\n",
"C=B*log2(1+SNR_power);\n",
"disp('b/s',C,'Shannon limit');"
   ]
   }
],
"metadata": {
		  "kernelspec": {
		   "display_name": "Scilab",
		   "language": "scilab",
		   "name": "scilab"
		  },
		  "language_info": {
		   "file_extension": ".sce",
		   "help_links": [
			{
			 "text": "MetaKernel Magics",
			 "url": "https://github.com/calysto/metakernel/blob/master/metakernel/magics/README.md"
			}
		   ],
		   "mimetype": "text/x-octave",
		   "name": "scilab",
		   "version": "0.7.1"
		  }
		 },
		 "nbformat": 4,
		 "nbformat_minor": 0
}
