{
"cells": [
 {
		   "cell_type": "markdown",
	   "metadata": {},
	   "source": [
       "# Chapter 7: Energy And Energy Balances"
	   ]
	},
{
		   "cell_type": "markdown",
		   "metadata": {},
		   "source": [
			"## Example 7.2_1: chapter_7_example_1.sce"
		   ]
		  },
  {
"cell_type": "code",
	   "execution_count": null,
	   "metadata": {
	    "collapsed": true
	   },
	   "outputs": [],
"source": [
"clc\n",
"pathname=get_absolute_file_path('7_2_1.sce')\n",
"filename=pathname+filesep()+'721.sci'\n",
"exec(filename)\n",
"printf(' All the values in the textbook are Approximated hence the values in this code differ from those of Textbook')\n",
"u=Vdot*100^2 /(%pi*(ID/2)^2 *3600)\n",
"mdot=Vdot*10^3 /3600\n",
"Ek=mdot*u^2 /2\n",
"printf(' \n Ek=%f J/s',Ek)"
   ]
   }
,
{
		   "cell_type": "markdown",
		   "metadata": {},
		   "source": [
			"## Example 7.2_2: chapter_7_example_2.sce"
		   ]
		  },
  {
"cell_type": "code",
	   "execution_count": null,
	   "metadata": {
	    "collapsed": true
	   },
	   "outputs": [],
"source": [
"clc\n",
"pathname=get_absolute_file_path('7_2_2.sce')\n",
"filename=pathname+filesep()+'722.sci'\n",
"exec(filename)\n",
"printf(' All the values in the textbook are Approximated hence the values in this code differ from those of Textbook')\n",
"Power=mdot*g*(z2-z1)\n",
"printf(' \n Power=%d J/s',Power)"
   ]
   }
,
{
		   "cell_type": "markdown",
		   "metadata": {},
		   "source": [
			"## Example 7.4_1: chapter_7_example_3.sce"
		   ]
		  },
  {
"cell_type": "code",
	   "execution_count": null,
	   "metadata": {
	    "collapsed": true
	   },
	   "outputs": [],
"source": [
"clc\n",
"pathname=get_absolute_file_path('7_4_1.sce')\n",
"filename=pathname+filesep()+'741.sci'\n",
"exec(filename)\n",
"printf(' All the values in the textbook are Approximated hence the values in this code differ from those of Textbook')\n",
"Hcap=U+P*Vcap*101.3\n",
"H=ndot*Hcap*10^3\n",
"printf(' \n Specific Enthalpy=%d J/mol',Hcap)\n",
"printf('\n Enthalpy of Helium=%E J/h',H)"
   ]
   }
,
{
		   "cell_type": "markdown",
		   "metadata": {},
		   "source": [
			"## Example 7.4_2: chapter_7_example_4.sce"
		   ]
		  },
  {
"cell_type": "code",
	   "execution_count": null,
	   "metadata": {
	    "collapsed": true
	   },
	   "outputs": [],
"source": [
"clc\n",
"pathname=get_absolute_file_path('7_4_2.sce')\n",
"filename=pathname+filesep()+'742.sci'\n",
"exec(filename)\n",
"printf(' All the values in the textbook are Approximated hence the values in this code differ from those of Textbook')\n",
"Ek=mdot*10^(-3)*(u2^2-u1^2)/2\n",
"Ep=mdot*g*deltaZ/10^3\n",
"Qdot=Qdot/(0.239*3600)\n",
"Hdot=Qdot-Ws-Ek-Ep\n",
"printf(' \n DeltaH=%f KW',Hdot)\n",
"Hcap=Hdot/mdot\n",
"printf('\n Specific Enthalpy=%f Kj/Kg',Hcap)"
   ]
   }
,
{
		   "cell_type": "markdown",
		   "metadata": {},
		   "source": [
			"## Example 7.5_1: chapter_7_example_5.sce"
		   ]
		  },
  {
"cell_type": "code",
	   "execution_count": null,
	   "metadata": {
	    "collapsed": true
	   },
	   "outputs": [],
"source": [
"clc\n",
"pathname=get_absolute_file_path('7_5_1.sce')\n",
"filename=pathname+filesep()+'751.sci'\n",
"exec(filename)\n",
"printf(' All the values in the textbook are Approximated hence the values in this code differ from those of Textbook')\n",
"deltaH=H0-H50\n",
"deltaU=deltaH+((Pfinal*Vfinal-Pinitial*Vinitial)*1.987/10.73)\n",
"printf(' \n change in Specific Enthalpy=%f Btu/lbm',deltaH)\n",
"printf(' \n change in Specific Internal Energy=%f Btu/lbm',deltaU)"
   ]
   }
,
{
		   "cell_type": "markdown",
		   "metadata": {},
		   "source": [
			"## Example 7.5_3: chapter_7_example_6.sce"
		   ]
		  },
  {
"cell_type": "code",
	   "execution_count": null,
	   "metadata": {
	    "collapsed": true
	   },
	   "outputs": [],
"source": [
"clc\n",
"pathname=get_absolute_file_path('7_5_3.sce')\n",
"filename=pathname+filesep()+'753.sci'\n",
"exec(filename)\n",
"printf(' All the values in the textbook are Approximated hence the values in this code differ from those of Textbook')\n",
"disp('From Steam tables, ')\n",
"Hin=3201 //Kj/Kg\n",
"Hout=2675 //Kj/Kg\n",
"Ws= -mdot*(Hout-Hin)/3600\n",
"printf('Work delivered by Turbine to surroundings=%d Kw',Ws)"
   ]
   }
,
{
		   "cell_type": "markdown",
		   "metadata": {},
		   "source": [
			"## Example 7.6_1: chapter_7_example_7.sce"
		   ]
		  },
  {
"cell_type": "code",
	   "execution_count": null,
	   "metadata": {
	    "collapsed": true
	   },
	   "outputs": [],
"source": [
"clc\n",
"pathname=get_absolute_file_path('7_6_1.sce')\n",
"filename=pathname+filesep()+'761.sci'\n",
"exec(filename)\n",
"printf(' All the values in the textbook are Approximated hence the values in this code differ from those of Textbook')\n",
"deltaH=m3*H3-m1*H1-m2*H2\n",
"disp('From tables, Vdot=0.1166 m^3/kg')\n",
"Vdot=0.1166 \n",
"A=%pi*(ID/2)^2 /10^4\n",
"u=m3*Vdot/(A*60)\n",
"Ek=m3*u^2 /(2*10^3)\n",
"Qdot=deltaH+Ek\n",
"printf('Heat required=%E Kj/min',Qdot)"
   ]
   }
,
{
		   "cell_type": "markdown",
		   "metadata": {},
		   "source": [
			"## Example 7.6_2: chapter_7_example_8.sce"
		   ]
		  },
  {
"cell_type": "code",
	   "execution_count": null,
	   "metadata": {
	    "collapsed": true
	   },
	   "outputs": [],
"source": [
"clc\n",
"pathname=get_absolute_file_path('7_6_2.sce')\n",
"filename=pathname+filesep()+'762.sci'\n",
"exec(filename)\n",
"printf(' All the values in the textbook are Approximated hence the values in this code differ from those of Textbook')\n",
"Qdot=basis*(x*Hout1+(1-x)*Hout2-x*Hin1-(1-x)*Hin2)\n",
"printf(' \n Heat required=%f KJ/Kg',Qdot/basis)"
   ]
   }
,
{
		   "cell_type": "markdown",
		   "metadata": {},
		   "source": [
			"## Example 7.6_3: chapter_7_example_9.sce"
		   ]
		  },
  {
"cell_type": "code",
	   "execution_count": null,
	   "metadata": {
	    "collapsed": true
	   },
	   "outputs": [],
"source": [
"clc\n",
"pathname=get_absolute_file_path('7_6_3.sce')\n",
"filename=pathname+filesep()+'763.sci'\n",
"exec(filename)\n",
"printf(' All the values in the textbook are Approximated hence the values in this code differ from those of Textbook')\n",
"disp('Mass balance on Water,')\n",
"disp('m3+m1=m2')\n",
"disp('Energy balance,')\n",
"disp('m3*H3+m1*H1=m2*H2')\n",
"A=[1,-1;H2,-H1]\n",
"b=[m3;m3*H3]\n",
"C=A\b\n",
"//here we solved two linear equations simultaneously.\n",
"m2=C(1,1)\n",
"m1=C(2,1)\n",
"printf(' Input flowrate,m1=%f Kg/h',m1)\n",
"printf(' \n Output flowrate, m2=%f Kg/h',m2)\n",
"disp('From tables,Vdot=3.11 m^3/kg')\n",
"Vdot=3.11\n",
"printf(' Volumetric input flowrate=%f m^3/h',m1*Vdot)"
   ]
   }
,
{
		   "cell_type": "markdown",
		   "metadata": {},
		   "source": [
			"## Example 7.7_1: chapter_7_example_10.sce"
		   ]
		  },
  {
"cell_type": "code",
	   "execution_count": null,
	   "metadata": {
	    "collapsed": true
	   },
	   "outputs": [],
"source": [
"clc\n",
"pathname=get_absolute_file_path('7_7_1.sce')\n",
"filename=pathname+filesep()+'771.sci'\n",
"exec(filename)\n",
"printf(' All the values in the textbook are Approximated hence the values in this code differ from those of Textbook')\n",
"u1=Vdot*10^4 /(10^3 *60*%pi*(ID1/2)^2)\n",
"u2=Vdot*10^4 /(10^3 *60*%pi*(ID2/2)^2)\n",
"deltaP=-((u2^2 - u1^2)/2 + g*deltaZ)*10^3\n",
"P1=P2-deltaP\n",
"printf(' \n P1=%E Pa',P1)"
   ]
   }
,
{
		   "cell_type": "markdown",
		   "metadata": {},
		   "source": [
			"## Example 7.7_2: chapter_7_example_11.sce"
		   ]
		  },
  {
"cell_type": "code",
	   "execution_count": null,
	   "metadata": {
	    "collapsed": true
	   },
	   "outputs": [],
"source": [
"clc\n",
"pathname=get_absolute_file_path('7_7_2.sce')\n",
"filename=pathname+filesep()+'772.sci'\n",
"exec(filename)\n",
"printf(' All the values in the textbook are Approximated hence the values in this code differ from those of Textbook')\n",
"u2=sqrt(2*32.174*(-F-g*deltaZ/32.174))\n",
"Vdot=u2*%pi*(ID/2)^2 /144\n",
"t=V*0.1337/(Vdot*60)\n",
"printf('Total time taken=%f min',t)"
   ]
   }
,
{
		   "cell_type": "markdown",
		   "metadata": {},
		   "source": [
			"## Example 7.7_3: chapter_7_example_12.sce"
		   ]
		  },
  {
"cell_type": "code",
	   "execution_count": null,
	   "metadata": {
	    "collapsed": true
	   },
	   "outputs": [],
"source": [
"clc\n",
"pathname=get_absolute_file_path('7_7_3.sce')\n",
"filename=pathname+filesep()+'773.sci'\n",
"exec(filename)\n",
"printf(' All the values in the textbook are Approximated hence the values in this code differ from those of Textbook')\n",
"mdot= -Ws/(deltaP/D + g*deltaZ)\n",
"printf(' \n Water flow rate=%f kg/s',mdot)"
   ]
   }
],
"metadata": {
		  "kernelspec": {
		   "display_name": "Scilab",
		   "language": "scilab",
		   "name": "scilab"
		  },
		  "language_info": {
		   "file_extension": ".sce",
		   "help_links": [
			{
			 "text": "MetaKernel Magics",
			 "url": "https://github.com/calysto/metakernel/blob/master/metakernel/magics/README.md"
			}
		   ],
		   "mimetype": "text/x-octave",
		   "name": "scilab",
		   "version": "0.7.1"
		  }
		 },
		 "nbformat": 4,
		 "nbformat_minor": 0
}
