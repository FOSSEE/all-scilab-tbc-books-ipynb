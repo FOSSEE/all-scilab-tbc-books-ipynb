{
"cells": [
 {
		   "cell_type": "markdown",
	   "metadata": {},
	   "source": [
       "# Chapter 2: Introduction To Engineering Calculations"
	   ]
	},
{
		   "cell_type": "markdown",
		   "metadata": {},
		   "source": [
			"## Example 2.2_1: chapter_2_example_1.sce"
		   ]
		  },
  {
"cell_type": "code",
	   "execution_count": null,
	   "metadata": {
	    "collapsed": true
	   },
	   "outputs": [],
"source": [
"clc\n",
"pathname=get_absolute_file_path('2_2_1.sce')\n",
"filename=pathname+filesep()+'221.sci'\n",
"exec(filename)\n",
"printf(' All the values in the textbook are Approximated hence the values in this code differ from those of Textbook')\n",
"AcclFinal=AcclInitial*((3600*24*365)^2)/10^5;\n",
"//the calculations involved are the conversion factors\n",
"printf(' \n final acceleration=%E Km/Yr^2',AcclFinal)"
   ]
   }
,
{
		   "cell_type": "markdown",
		   "metadata": {},
		   "source": [
			"## Example 2.3_1: chapter_2_example_2.sce"
		   ]
		  },
  {
"cell_type": "code",
	   "execution_count": null,
	   "metadata": {
	    "collapsed": true
	   },
	   "outputs": [],
"source": [
"clc\n",
"//this program is used to convert lb.ft/min^2 to kg.cm/s^2\n",
"pathname=get_absolute_file_path('2_3_1.sce')\n",
"filename=pathname+filesep()+'231.sci'\n",
"exec(filename)\n",
"Final=Initial*0.453593*100/(3.281*60*60)\n",
"//the calculations involved are conversion factors\n",
"disp('final=')\n",
"disp(Final); disp('kg.cm/s^2')"
   ]
   }
,
{
		   "cell_type": "markdown",
		   "metadata": {},
		   "source": [
			"## Example 2.4_1: chapter_2_example_3.sce"
		   ]
		  },
  {
"cell_type": "code",
	   "execution_count": null,
	   "metadata": {
	    "collapsed": true
	   },
	   "outputs": [],
"source": [
"clc\n",
"//this program is used to calculate weight of water at different places\n",
"pathname=get_absolute_file_path('2_4_1.sce')\n",
"filename=pathname+filesep()+'241.sci'\n",
"exec(filename)\n",
"mass=volume*density;\n",
"printf('mass of the water = volume x density=%f lbm',mass)\n",
"printf(' \n At sealevel, g=32.174 ft/s^2')\n",
"g=32.174;\n",
"weight=mass*g/32.174;\n",
"printf(' \n weight at sealevel= %f lbf \n',weight)\n",
"printf(' \n At denver, g=32.139 ft/s^2')\n",
"g=32.139;\n",
"weight=mass*g/32.174;\n",
"printf('\n weight at denver= %f lbf',weight)\n",
"//the division with 32.174 is to convert lbm.ft/s^2 to lbf"
   ]
   }
,
{
		   "cell_type": "markdown",
		   "metadata": {},
		   "source": [
			"## Example 2.5_2: chapter_2_example_4.sce"
		   ]
		  },
  {
"cell_type": "code",
	   "execution_count": null,
	   "metadata": {
	    "collapsed": true
	   },
	   "outputs": [],
"source": [
"clc\n",
"pathname=get_absolute_file_path('2_5_2.sce')\n",
"filename=pathname+filesep()+'252.sci'\n",
"exec(filename)\n",
"//Here We used standard library functions mean and st_deviation\n",
"ybar=mean(y);\n",
"sy=st_deviation(y);\n",
"defaultvalue=ybar+3*sy+1;\n",
"printf('the maximum allowed value of y i.e. bad batches in a week is %d \n', defaultvalue)\n",
"disp('in case of 2 standard deviations');\n",
"defaultvalue=ybar+2*sy+1;\n",
"printf('the limiting value of y i.e. bad batches in a week is %d',defaultvalue)"
   ]
   }
,
{
		   "cell_type": "markdown",
		   "metadata": {},
		   "source": [
			"## Example 2.7_1: chapter_2_example_5.sce"
		   ]
		  },
  {
"cell_type": "code",
	   "execution_count": null,
	   "metadata": {
	    "collapsed": true
	   },
	   "outputs": [],
"source": [
"clc\n",
"pathname=get_absolute_file_path('2_7_1.sce')\n",
"filename=pathname+filesep()+'271.sci'\n",
"exec(filename)\n",
"//this program uses least squares fit to solve for slope and intercept.\n",
"//hence the value differs from textbook a bit.\n",
"sx=sum(x);sx2=sum(x^2);sy=sum(y);sxy=sum(x.*y);n=length(x);\n",
"A=[sx,n;sx2,sx];B=[sy;sxy];p=A\B;\n",
"m=p(1,1);b=p(2,1);\n",
"clf()\n",
"xtitle('2.7_1.sce','Vdot(L/min)','R','boxed')\n",
"plot2d(x,y,style=3)\n",
"disp('in case 2, R=36')\n",
"R=36;\n",
"V=m*R+b;\n",
"printf('then V=%f',V);"
   ]
   }
,
{
		   "cell_type": "markdown",
		   "metadata": {},
		   "source": [
			"## Example 2.7_2: chapter_2_example_6.sce"
		   ]
		  },
  {
"cell_type": "code",
	   "execution_count": null,
	   "metadata": {
	    "collapsed": true
	   },
	   "outputs": [],
"source": [
"clc\n",
"pathname=get_absolute_file_path('2_7_2.sce')\n",
"filename=pathname+filesep()+'272.sci'\n",
"exec(filename)\n",
"disp(sqrtT);\n",
"sx=sum(sqrtT);sx2=sum(T);sy=sum(M);sxy=sum(sqrtT.*M);n=length(T);\n",
"A=[sx,n;sx2,sx]; B=[sy;sxy]; p=A\B;\n",
"a=p(1,1);b=p(2,1);\n",
"clf()\n",
"xtitle('2.7.2.sce','T1/2','mdot','boxed')\n",
"plot2d(sqrtT,M,style=3);\n",
"printf('slope=%f',a);\n",
"printf('\n intercept=%f',b);"
   ]
   }
],
"metadata": {
		  "kernelspec": {
		   "display_name": "Scilab",
		   "language": "scilab",
		   "name": "scilab"
		  },
		  "language_info": {
		   "file_extension": ".sce",
		   "help_links": [
			{
			 "text": "MetaKernel Magics",
			 "url": "https://github.com/calysto/metakernel/blob/master/metakernel/magics/README.md"
			}
		   ],
		   "mimetype": "text/x-octave",
		   "name": "scilab",
		   "version": "0.7.1"
		  }
		 },
		 "nbformat": 4,
		 "nbformat_minor": 0
}
