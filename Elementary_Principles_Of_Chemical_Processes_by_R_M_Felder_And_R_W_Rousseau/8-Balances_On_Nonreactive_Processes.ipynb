{
"cells": [
 {
		   "cell_type": "markdown",
	   "metadata": {},
	   "source": [
       "# Chapter 8: Balances On Nonreactive Processes"
	   ]
	},
{
		   "cell_type": "markdown",
		   "metadata": {},
		   "source": [
			"## Example 8.3_1: chapter_8_example_1.sce"
		   ]
		  },
  {
"cell_type": "code",
	   "execution_count": null,
	   "metadata": {
	    "collapsed": true
	   },
	   "outputs": [],
"source": [
"clc\n",
"pathname=get_absolute_file_path('8_3_1.sce')\n",
"filename=pathname+filesep()+'831.sci'\n",
"exec(filename)\n",
"printf(' All the values in the textbook are Approximated hence the values in this code differ from those of Textbook \n ')\n",
"function[Cv]=fun(T)\n",
"    Cv=0.855+ T*9.42*10^(-4)\n",
"endfunction\n",
"[Ucap,err]=intg(Ti,Tf,fun)  //intg is an inbult function used for definite integration\n",
"Q=mass*Ucap\n",
"printf('Heat Required=%f KJ',Q)"
   ]
   }
,
{
		   "cell_type": "markdown",
		   "metadata": {},
		   "source": [
			"## Example 8.3_2: chapter_8_example_2.sce"
		   ]
		  },
  {
"cell_type": "code",
	   "execution_count": null,
	   "metadata": {
	    "collapsed": true
	   },
	   "outputs": [],
"source": [
"clc\n",
"pathname=get_absolute_file_path('8_3_2.sce')\n",
"filename=pathname+filesep()+'832.sci'\n",
"exec(filename)\n",
"printf(' All the values in the textbook are Approximated hence the values in this code differ from those of Textbook \n ')\n",
"disp('part 1')\n",
"function[Cp]=fun1(T)\n",
"    Cp=0.02900+ T*0.2199*10^(-5) + T^2 * 0.5723 *10^(-8) - T^3 * 2.871 * 10^(-12)\n",
"endfunction\n",
"[deltaH,err]=intg(T1,T2,fun1) //intg is an inbult function used for definite integration\n",
"Qdot=ndot*deltaH\n",
"printf('Heat Transferred=%f KJ/min',Qdot)\n",
"disp('part2')\n",
"function[CV]=fun2(T)\n",
"    CV=fun1(T)-8.14* 10^(-3)\n",
"endfunction\n",
"[deltaU,err]=intg(T3,T4,fun2) //intg is an inbult function used for definite integration\n",
"n=P*V/(R*T)\n",
"Q=n*deltaU\n",
"printf('Heat transferred=%f KJ',Q)"
   ]
   }
,
{
		   "cell_type": "markdown",
		   "metadata": {},
		   "source": [
			"## Example 8.3_3: chapter_8_example_3.sce"
		   ]
		  },
  {
"cell_type": "code",
	   "execution_count": null,
	   "metadata": {
	    "collapsed": true
	   },
	   "outputs": [],
"source": [
"clc\n",
"pathname=get_absolute_file_path('8_3_3.sce')\n",
"filename=pathname+filesep()+'833.sci'\n",
"exec(filename)\n",
"printf(' All the values in the textbook are Approximated hence the values in this code differ from those of Textbook \n ')\n",
"function[Cp]=fun(T)\n",
"    Cp=0.02894 + T* 0.4147 *10^(-5) + T^2 * 0.3191 * 10^(-8) - T^3 * 1.965 * 10^(-12)\n",
"endfunction\n",
"deltaH=intg(T1,T2,fun)  //intg is an inbult function used for definite integration\n",
"Qdot=ndot*deltaH*10^3 /60\n",
"printf(' \n Rate of heat removal= %f KW',Qdot)"
   ]
   }
,
{
		   "cell_type": "markdown",
		   "metadata": {},
		   "source": [
			"## Example 8.3_4: chapter_8_example_4.sce"
		   ]
		  },
  {
"cell_type": "code",
	   "execution_count": null,
	   "metadata": {
	    "collapsed": true
	   },
	   "outputs": [],
"source": [
"clc\n",
"pathname=get_absolute_file_path('8_3_4.sce')\n",
"filename=pathname+filesep()+'834.sci'\n",
"exec(filename)\n",
"printf(' All the values in the textbook are Approximated hence the values in this code differ from those of Textbook \n ')\n",
"function[Cp1]=fun1(T)\n",
"    Cp1=0.04937 + T*13.92*10^(-5) - T^2 *5.816*10^(-8) + T^3 *7.280 * 10^(-12)\n",
"endfunction\n",
"function[Cp2]=fun2(T)\n",
"    Cp2=0.06803 +T*22.59*10^(-5) - T^2 *13.11*10^(-8) + T^3 *31.71 * 10^(-12)\n",
"endfunction\n",
"function[Cp]=fun(T)\n",
"    Cp=x*fun1(T)+ (1-x)*fun2(T)\n",
"endfunction\n",
"deltaH=intg(T1,T2,fun) //intg is an inbult function used for definite integration\n",
"printf(' \n Heat capacity of Mixture=%f KJ/mol',deltaH)\n",
"Qdot=ndot*deltaH\n",
"printf(' \n Heat Required=%f KJ/h',Qdot)"
   ]
   }
,
{
		   "cell_type": "markdown",
		   "metadata": {},
		   "source": [
			"## Example 8.3_5: chapter_8_example_5.sce"
		   ]
		  },
  {
"cell_type": "code",
	   "execution_count": null,
	   "metadata": {
	    "collapsed": true
	   },
	   "outputs": [],
"source": [
"clc\n",
"pathname=get_absolute_file_path('8_3_5.sce')\n",
"filename=pathname+filesep()+'835.sci'\n",
"exec(filename)\n",
"printf(' All the values in the textbook are Approximated hence the values in this code differ from those of Textbook \n ')\n",
"ndot=Vdot/22.4\n",
"function[Cp]=fun(T)\n",
"    Cp=0.03431 + T*5.469*10^(-5) + T^2 *0.3661*10^(-8) + T^3 *11*10^(-12)\n",
"endfunction\n",
"H1=intg(T1,T2,fun)  //intg is an inbult function used for definite integration\n",
"printf('H1=%f Kj/mol',H1)\n",
"disp('From Tables H2= -0.15 Kj/mol   ,   H3=8.17 Kj/mol')\n",
"H2= -0.15\n",
"H3=8.17\n",
"Qdot=(ndot*x*H1+ ndot*(1-x)*(H3-H2))/60\n",
"printf('Heat Input=%f KW',Qdot)"
   ]
   }
,
{
		   "cell_type": "markdown",
		   "metadata": {},
		   "source": [
			"## Example 8.4_1: chapter_8_example_6.sce"
		   ]
		  },
  {
"cell_type": "code",
	   "execution_count": null,
	   "metadata": {
	    "collapsed": true
	   },
	   "outputs": [],
"source": [
"clc\n",
"pathname=get_absolute_file_path('8_4_1.sce')\n",
"filename=pathname+filesep()+'841.sci'\n",
"exec(filename)\n",
"printf(' All the values in the textbook are Approximated hence the values in this code differ from those of Textbook \n ')\n",
"Qdot=mdot*deltaHv/(M*60)\n",
"printf('Rate of Heat transfer=%f KW',Qdot)"
   ]
   }
,
{
		   "cell_type": "markdown",
		   "metadata": {},
		   "source": [
			"## Example 8.4_2: chapter_8_example_7.sce"
		   ]
		  },
  {
"cell_type": "code",
	   "execution_count": null,
	   "metadata": {
	    "collapsed": true
	   },
	   "outputs": [],
"source": [
"clc\n",
"pathname=get_absolute_file_path('8_4_2.sce')\n",
"filename=pathname+filesep()+'842.sci'\n",
"exec(filename)\n",
"printf(' All the values in the textbook are Approximated hence the values in this code differ from those of Textbook')\n",
"disp('We have deltaHv at 69C hence We follow path ADG')\n",
"deltaHA=Cp*(T2-T1) + V*(1.013-P)*M/(D*10^4)\n",
"printf(' \n deltaHA=%f',deltaHA)\n",
"deltaHD=deltaHv\n",
"printf(' \n deltaHD=%f',deltaHD)\n",
"function[C]=fun1(T)\n",
"    C=0.13744 + T*40.85*10^(-5) - T^2 *23.92*10^(-8) + T^3 *57.66*10^(-12)\n",
"endfunction\n",
"deltaHG=intg(T2,T3,fun1)  //intg is an inbult function used for definite integration\n",
"printf(' \n deltaHG=%f Kj/mol',deltaHG)\n",
"Qdot=ndot*(deltaHA+deltaHD+deltaHG)/3600\n",
"printf(' \n rate of Heat supply= %f Kj/mol',Qdot)\n",
"printf(' \n In this problem we neglected V*deltaP as it is negligible ')"
   ]
   }
,
{
		   "cell_type": "markdown",
		   "metadata": {},
		   "source": [
			"## Example 8.4_3: chapter_8_example_8.sce"
		   ]
		  },
  {
"cell_type": "code",
	   "execution_count": null,
	   "metadata": {
	    "collapsed": true
	   },
	   "outputs": [],
"source": [
"clc\n",
"pathname=get_absolute_file_path('8_4_3.sce')\n",
"filename=pathname+filesep()+'843.sci'\n",
"exec(filename)\n",
"printf(' All the values in the textbook are Approximated hence the values in this code differ from those of Textbook')\n",
"disp('using Trouton rule,')\n",
"deltaHvT1=0.109*T1\n",
"disp('In this case, trouton rule gives a better estimate')\n",
"disp('using Watson correction')\n",
"deltaHvT2=36.8*((Tc-T2)/(Tc-T1))^(0.38)\n",
"printf('Estimated value using Trouton rule=%f Kj/mol',deltaHvT1)\n",
"printf(' \n Estimated value using watson correction=%f Kj/mol',deltaHvT2)"
   ]
   }
,
{
		   "cell_type": "markdown",
		   "metadata": {},
		   "source": [
			"## Example 8.4_4: chapter_8_example_9.sce"
		   ]
		  },
  {
"cell_type": "code",
	   "execution_count": null,
	   "metadata": {
	    "collapsed": true
	   },
	   "outputs": [],
"source": [
"clc\n",
"pathname=get_absolute_file_path('8_4_4.sce')\n",
"filename=pathname+filesep()+'844.sci'\n",
"exec(filename)\n",
"printf(' All the values in the textbook are Approximated hence the values in this code differ from those of Textbook')\n",
"A=[1 1;x y]\n",
"b=[basis;basis/2]\n",
"C=A\b\n",
"//Here We solved two linear equations simultaneously\n",
"nV=C(1,1)\n",
"nL=C(2,1)\n",
"H1=5.332\n",
"H2=6.340\n",
"H3=37.52\n",
"H4=42.93\n",
"Q=nV*x*H1 + nV*(1-x)*H2 + nL*y*H3 + nL*(1-y)*H4\n",
"printf(' \n Heat transferred= %f Kj',Q)\n",
"disp('The answer for this problem in Text is wrong')"
   ]
   }
,
{
		   "cell_type": "markdown",
		   "metadata": {},
		   "source": [
			"## Example 8.5_1: chapter_8_example_10.sce"
		   ]
		  },
  {
"cell_type": "code",
	   "execution_count": null,
	   "metadata": {
	    "collapsed": true
	   },
	   "outputs": [],
"source": [
"clc\n",
"pathname=get_absolute_file_path('8_5_1.sce')\n",
"filename=pathname+filesep()+'851.sci'\n",
"exec(filename)\n",
"printf(' All the values in the textbook are Approximated hence the values in this code differ from those of Textbook')\n",
"nHCl=mdot*x*10^3 /M1\n",
"nH2O=mdot*(1-x)*10^3 /M2\n",
"function[Cp1]=fun(T)\n",
"    Cp1=29.13*10^(-3) - T*0.1341*10^(-5) +T^2 *0.9715*10^(-8) - T^3 *4.335*10^(-12)\n",
"endfunction\n",
"H1=intg(T1,T2,fun)  //intg is an inbult function used for definite integration\n",
"disp(H1)\n",
"r=nH2O/nHCl\n",
"disp('From table B.11, deltaHa= -67.4 Kj/mol HCl')\n",
"deltaHa= -67.4\n",
"y=nHCl/(nHCl+nH2O)\n",
"Cp=0.73*mdot*4.184/nHCl\n",
"deltaHb=Cp*(T3-T1)\n",
"H2=deltaHa+deltaHb\n",
"Qdot=nHCl*(H2-H1)\n",
"printf('Heat =%E kj/h',Qdot)"
   ]
   }
,
{
		   "cell_type": "markdown",
		   "metadata": {},
		   "source": [
			"## Example 8.5_2: chapter_8_example_11.sce"
		   ]
		  },
  {
"cell_type": "code",
	   "execution_count": null,
	   "metadata": {
	    "collapsed": true
	   },
	   "outputs": [],
"source": [
"clc\n",
"pathname=get_absolute_file_path('8_5_2.sce')\n",
"filename=pathname+filesep()+'852.sci'\n",
"exec(filename)\n",
"printf(' All the values in the textbook are Approximated hence the values in this code differ from those of Textbook')\n",
"disp('sulphuric acid balance')\n",
"m2=x*mdot/y\n",
"disp('Total Mass balance')\n",
"m1=mdot-m2\n",
"Qdot=m1*Hv+m2*Hl-mdot*Hf\n",
"printf(' Rate of Heat transfer= %f Btu/h',Qdot)"
   ]
   }
,
{
		   "cell_type": "markdown",
		   "metadata": {},
		   "source": [
			"## Example 8.5_5: chapter_8_example_12.sce"
		   ]
		  },
  {
"cell_type": "code",
	   "execution_count": null,
	   "metadata": {
	    "collapsed": true
	   },
	   "outputs": [],
"source": [
"clc\n",
"pathname=get_absolute_file_path('8_5_5.sce')\n",
"filename=pathname+filesep()+'855.sci'\n",
"exec(filename)\n",
"printf(' All the values in the textbook are Approximated hence the values in this code differ from those of Textbook')\n",
"disp('From figure 8.5-2, ')\n",
"xL=0.185\n",
"xV=0.89\n",
"mL=basis*((xV-xF)/(xV-xL))\n",
"mV=basis-mL\n",
"Qdot=mV*Hv + mL*Hl - basis*HF\n",
"printf('Rate of heat transfer=%f Btu/h',Qdot)"
   ]
   }
],
"metadata": {
		  "kernelspec": {
		   "display_name": "Scilab",
		   "language": "scilab",
		   "name": "scilab"
		  },
		  "language_info": {
		   "file_extension": ".sce",
		   "help_links": [
			{
			 "text": "MetaKernel Magics",
			 "url": "https://github.com/calysto/metakernel/blob/master/metakernel/magics/README.md"
			}
		   ],
		   "mimetype": "text/x-octave",
		   "name": "scilab",
		   "version": "0.7.1"
		  }
		 },
		 "nbformat": 4,
		 "nbformat_minor": 0
}
