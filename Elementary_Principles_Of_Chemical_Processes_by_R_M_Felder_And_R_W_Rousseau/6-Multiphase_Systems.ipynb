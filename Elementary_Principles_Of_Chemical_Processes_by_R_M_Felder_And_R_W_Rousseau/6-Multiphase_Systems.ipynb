{
"cells": [
 {
		   "cell_type": "markdown",
	   "metadata": {},
	   "source": [
       "# Chapter 6: Multiphase Systems"
	   ]
	},
{
		   "cell_type": "markdown",
		   "metadata": {},
		   "source": [
			"## Example 6.1_1: chapter_6_example_1.sce"
		   ]
		  },
  {
"cell_type": "code",
	   "execution_count": null,
	   "metadata": {
	    "collapsed": true
	   },
	   "outputs": [],
"source": [
"clc\n",
"pathname=get_absolute_file_path('6_1_1.sce')\n",
"filename=pathname+filesep()+'611.sci'\n",
"exec(filename)\n",
"printf(' All the values in the textbook are Approximated hence the values in this code differ from those of Textbook')\n",
"disp('let deltaHv/R = S')\n",
"S= - (T1*T2* log(P2/P1))/(T1-T2)\n",
"deltahv=S*R\n",
"printf(' \n Latent Heat of Vaporization=%d',deltahv)\n",
"B=log(P1) + S/T1\n",
"printf('\n B=%f',B)\n",
"P=exp(-S/T + B)\n",
"printf('\n P* at %f K = %f',T,P)"
   ]
   }
,
{
		   "cell_type": "markdown",
		   "metadata": {},
		   "source": [
			"## Example 6.3_1: chapter_6_example_2.sce"
		   ]
		  },
  {
"cell_type": "code",
	   "execution_count": null,
	   "metadata": {
	    "collapsed": true
	   },
	   "outputs": [],
"source": [
"clc\n",
"pathname=get_absolute_file_path('6_3_1.sce')\n",
"filename=pathname+filesep()+'631.sci'\n",
"exec(filename)\n",
"printf(' All the values in the textbook are Approximated hence the values in this code differ from those of Textbook')\n",
"y=Pstar/P\n",
"printf(' \n Molar composition of Water is %f and Air is %f',y,1-y)"
   ]
   }
,
{
		   "cell_type": "markdown",
		   "metadata": {},
		   "source": [
			"## Example 6.3_2: chapter_6_example_3.sce"
		   ]
		  },
  {
"cell_type": "code",
	   "execution_count": null,
	   "metadata": {
	    "collapsed": true
	   },
	   "outputs": [],
"source": [
"clc\n",
"pathname=get_absolute_file_path('6_3_2.sce')\n",
"filename=pathname+filesep()+'632.sci'\n",
"exec(filename)\n",
"printf(' All the values in the textbook are Approximated hence the values in this code differ from those of Textbook')\n",
"P=y*PT\n",
"if(P<760)\n",
"    disp('The Vapour is Super heated')\n",
"elseif(P=760) \n",
"    disp('The vapour is At Dew point')\n",
"else\n",
"    disp('The vapour is not Super heated')\n",
"end\n",
"disp('From tables Tdp=90 C')\n",
"disp('Superheat = 100-90=10 C ')\n",
"disp('Using Raoult law at the outlet')\n",
"y1=355/PT\n",
"printf('y1=%f',y1)\n",
"disp('Balance on Dry Air')\n",
"n2=basis*(1-y)/(1-y1)\n",
"printf('n2=%f mol',n2)\n",
"disp('Total mole balance')\n",
"n1=basis-n2\n",
"printf('n1=%f mol',n1)\n",
"printf(' \n Percentage condesation=%f',n1*100/(y*basis))\n",
"Psaturation=760/y\n",
"printf('\n Any increase in pressure above %d mm of Hg must cause condensation ',Psaturation)\n",
"printf(' \n For the next part of the problem use the same code by modifying PT to be 8500 mm of Hg')"
   ]
   }
,
{
		   "cell_type": "markdown",
		   "metadata": {},
		   "source": [
			"## Example 6.3_3: chapter_6_example_4.sce"
		   ]
		  },
  {
"cell_type": "code",
	   "execution_count": null,
	   "metadata": {
	    "collapsed": true
	   },
	   "outputs": [],
"source": [
"clc\n",
"pathname=get_absolute_file_path('6_3_3.sce')\n",
"filename=pathname+filesep()+'633.sci'\n",
"exec(filename)\n",
"printf(' All the values in the textbook are Approximated hence the values in this code differ from those of Textbook')\n",
"P=hr*P75\n",
"y=P/Porig\n",
"ndot=PorigBar*Vdot/(R*T)\n",
"ndotWater=ndot*y\n",
"printf(' \n Molar flowrate of Water=%f Kmol/h',ndotWater)\n",
"ndotBDA=ndot*(1-y)\n",
"printf(' \n Molar flowrate of Dry Air=%f Kmol/h',ndotBDA)\n",
"ndotO2=ndotBDA*0.21\n",
"printf(' \n Molar flowrate of Oxygen=%f Kmol/h',ndotO2)\n",
"hm=P/(Porig-P)\n",
"ha=hm*18/29\n",
"hmdot=P75/(Porig-P75)\n",
"hp=100*hm/hmdot\n",
"printf(' \n Molal Humidity=%f mol water/mol BDA',hm)\n",
"printf(' \n Absolute Humidity=%f kg water/kg BDA',ha)\n",
"printf(' \n Percentage Humidity=%f',hp)"
   ]
   }
,
{
		   "cell_type": "markdown",
		   "metadata": {},
		   "source": [
			"## Example 6.4_1: chapter_6_example_5.sce"
		   ]
		  },
  {
"cell_type": "code",
	   "execution_count": null,
	   "metadata": {
	    "collapsed": true
	   },
	   "outputs": [],
"source": [
"clc\n",
"pathname=get_absolute_file_path('6_4_1.sce')\n",
"filename=pathname+filesep()+'641.sci'\n",
"exec(filename)\n",
"printf(' All the values in the textbook are Approximated hence the values in this code differ from those of Textbook')\n",
"yH2O=PH2O/P\n",
"ySO2=PSO2/P\n",
"yAir=1-yH2O-ySO2\n",
"disp('Using Air balance, ')\n",
"nG2=(1-x)*basis/yAir\n",
"printf('nG2=%f lbm/h',nG2)\n",
"xSO2=y/102\n",
"xH2O=1-xSO2\n",
"disp('Using SO2 balance, ')\n",
"nL2=(basis*x-nG2*ySO2)*M1/(xSO2)\n",
"printf('nL2=%d lbm/h',nL2)\n",
"disp('Using H2O balance, ')\n",
"nL1=nG2*yH2O*M2 + nL2*xH2O\n",
"printf('nL1=%d lbm H2O/h',nL1)\n",
"SO2Absorbed=nL2*xSO2\n",
"SO2Fed=basis*x*M1\n",
"Fraction=SO2Absorbed/SO2Fed\n",
"printf(' \n Fraction SO2 absorbed= %f lbm SO2 absorbed/lbm SO2 fed',Fraction)"
   ]
   }
,
{
		   "cell_type": "markdown",
		   "metadata": {},
		   "source": [
			"## Example 6.4_2: chapter_6_example_6.sce"
		   ]
		  },
  {
"cell_type": "code",
	   "execution_count": null,
	   "metadata": {
	    "collapsed": true
	   },
	   "outputs": [],
"source": [
"clc\n",
"pathname=get_absolute_file_path('6_4_2.sce')\n",
"filename=pathname+filesep()+'642.sci'\n",
"exec(filename)\n",
"printf(' All the values in the textbook are Approximated hence the values in this code differ from those of Textbook')\n",
"x=y*P/H\n",
"PBstar=10^(6.906- 1211/(T+220.8))\n",
"PTstar=10^(6.9533- 1343.9/(T+219.38))\n",
"PB=xB*PBstar\n",
"PT=(1-xB)*PTstar\n",
"Ptotal=PB+PT\n",
"yB=PB/Ptotal\n",
"yT=PT/Ptotal\n",
"printf(' \n Total system pressure=%f mm of Hg',Ptotal)\n",
"printf(' \n Compsoition of benzene=%f',yB)\n",
"printf(' \n Compsoition of toluene=%f',yT)"
   ]
   }
,
{
		   "cell_type": "markdown",
		   "metadata": {},
		   "source": [
			"## Example 6.5_1: chapter_6_example_7.sce"
		   ]
		  },
  {
"cell_type": "code",
	   "execution_count": null,
	   "metadata": {
	    "collapsed": true
	   },
	   "outputs": [],
"source": [
"clc\n",
"pathname=get_absolute_file_path('6_5_1.sce')\n",
"filename=pathname+filesep()+'651.sci'\n",
"exec(filename)\n",
"printf(' All the values in the textbook are Approximated hence the values in this code differ from those of Textbook')\n",
"disp('COmposition of Filter cake,')\n",
"disp('m2=4m3')\n",
"disp('Water balance around the crystallizer,')\n",
"printf('\n %f kg H2O = %f m1 + %f m1',basis*inputx,outputx,outputx)\n",
"disp('Mass balance around crystallizer, ')\n",
"printf(' \n %d=m1+m2+m3',basis)\n",
"A=[0 1 -4;outputx 0 outputx;1 1 1]\n",
"b=[0;basis*inputx;basis]\n",
"C=A\b\n",
"//Here we solved two linear equations simultaneously\n",
"m1=C(1,1)\n",
"printf(' \n m1=%f Kg',m1)\n",
"m2=C(2,1)\n",
"printf(' \n m2=%f Kg',m2)\n",
"m3=C(3,1)\n",
"printf(' \n m3=%f Kg',m3)\n",
"disp('Overall AgNO3 balance,')\n",
"m5=(1-inputx)*basis - (1-outputx)*m1\n",
"printf('m5=%f kg AgNO3 crystals recovered',m5)\n",
"percentage=m5*100/(basis*(1-inputx))\n",
"printf(' \n Percentage recovery=%f',percentage)\n",
"disp('Overall mass balance')\n",
"m4=basis-m1-m5\n",
"printf('m4=%d Kg water removed in the Dryer',m4)"
   ]
   }
,
{
		   "cell_type": "markdown",
		   "metadata": {},
		   "source": [
			"## Example 6.5_2: chapter_6_example_8.sce"
		   ]
		  },
  {
"cell_type": "code",
	   "execution_count": null,
	   "metadata": {
	    "collapsed": true
	   },
	   "outputs": [],
"source": [
"clc\n",
"pathname=get_absolute_file_path('6_5_2.sce')\n",
"filename=pathname+filesep()+'652.sci'\n",
"exec(filename)\n",
"printf(' All the values in the textbook are Approximated hence the values in this code differ from those of Textbook')\n",
"outputx=S/(S+100)\n",
"printf('x=%f Kg KNO3/Kg',outputx)\n",
"disp('Water balance')\n",
"m1=basis*(1-inputx)/(1-outputx)\n",
"printf(' \n m1=%f Kg',m1)\n",
"disp('Mass balance')\n",
"m2=basis-m1\n",
"printf(' \n m2=%f kg',m2)\n",
"percentage=m2*100/(basis*inputx)\n",
"printf(' \n Percentage of KNO3 in the feed that crystallizes is %f',percentage)"
   ]
   }
,
{
		   "cell_type": "markdown",
		   "metadata": {},
		   "source": [
			"## Example 6.5_3: chapter_6_example_9.sce"
		   ]
		  },
  {
"cell_type": "code",
	   "execution_count": null,
	   "metadata": {
	    "collapsed": true
	   },
	   "outputs": [],
"source": [
"clc\n",
"pathname=get_absolute_file_path('6_5_3.sce')\n",
"filename=pathname+filesep()+'653.sci'\n",
"exec(filename)\n",
"printf(' All the values in the textbook are Approximated hence the values in this code differ from those of Textbook')\n",
"disp('Total mass balance')\n",
"disp('m1=1+m2')\n",
"disp('MgSO4 balance')\n",
"printf(' \n %f m1 = %d* %f / %f + m2 %f',inputx,basis,M,M1,outputx)\n",
"A=[1 -1;inputx -outputx]\n",
"b=[1;basis*M/M1]\n",
"C=A\b\n",
"//Here we solved two linear equations simultaneously\n",
"m1=C(1,1)\n",
"m2=C(2,1)\n",
"printf(' \n m1=%f Tonne/h',m1)\n",
"printf(' \n m2=%f Tonne/h',m2)"
   ]
   }
,
{
		   "cell_type": "markdown",
		   "metadata": {},
		   "source": [
			"## Example 6.5_4: chapter_6_example_10.sce"
		   ]
		  },
  {
"cell_type": "code",
	   "execution_count": null,
	   "metadata": {
	    "collapsed": true
	   },
	   "outputs": [],
"source": [
"clc\n",
"pathname=get_absolute_file_path('6_5_4.sce')\n",
"filename=pathname+filesep()+'654.sci'\n",
"exec(filename)\n",
"printf(' All the values in the textbook are Approximated hence the values in this code differ from those of Textbook')\n",
"x=(Tf-100)*40656/(R*373.16^2)\n",
"y=m2/18.016\n",
"Ms=m1*(1-x)/(y*x)\n",
"printf(' \n Ms=%f',Ms)\n",
"deltaTm=R*(273.16)^2 *x/6009.5\n",
"Tms=0-deltaTm\n",
"printf(' \n Tms=%f',Tms)\n",
"Pstar=(1-x)*23.756\n",
"printf(' \n Solvent Vapour pressure=%f mm Hg',Pstar)"
   ]
   }
,
{
		   "cell_type": "markdown",
		   "metadata": {},
		   "source": [
			"## Example 6.6_1: chapter_6_example_11.sce"
		   ]
		  },
  {
"cell_type": "code",
	   "execution_count": null,
	   "metadata": {
	    "collapsed": true
	   },
	   "outputs": [],
"source": [
"clc\n",
"pathname=get_absolute_file_path('6_6_1.sce')\n",
"filename=pathname+filesep()+'661.sci'\n",
"exec(filename)\n",
"printf(' All the values in the textbook are Approximated hence the values in this code differ from those of Textbook')\n",
"Dbar=DA*DW/(x*DW + (1-x)*DA)\n",
"mass1=V1*Dbar\n",
"mass2=V2*DC\n",
"disp('C balance')\n",
"m4=mass2\n",
"printf(' \n m4=%f',m4)\n",
"disp('W balance')\n",
"m2=(1-x)*mass1\n",
"printf(' \n m2=%f',m2)\n",
"disp('A balance')\n",
"printf('m1+m3=%f * %f',x,mass1)\n",
"disp('Distribution Cooefficient ,K=m3*(m1+m2)/m1*(m3+m4)')\n",
"disp('On solving, ')\n",
"m1=2.7\n",
"m3=16.8\n",
"percentage=m3*100/(x*mass1)\n",
"printf(' \n m1=%f',m1)\n",
"printf(' \n m3=%f',m3)\n",
"printf(' \n percentage of acetone transferred to chloroform=%f',percentage)"
   ]
   }
,
{
		   "cell_type": "markdown",
		   "metadata": {},
		   "source": [
			"## Example 6.6_2: chapter_6_example_12.sce"
		   ]
		  },
  {
"cell_type": "code",
	   "execution_count": null,
	   "metadata": {
	    "collapsed": true
	   },
	   "outputs": [],
"source": [
"clc\n",
"pathname=get_absolute_file_path('6_6_2.sce')\n",
"filename=pathname+filesep()+'662.sci'\n",
"exec(filename)\n",
"printf(' All the values in the textbook are Approximated hence the values in this code differ from those of Textbook')\n",
"disp('Mass balance')\n",
"printf('ms + %d = mE + mR',basis)\n",
"disp('acetone balance')\n",
"printf('%f *%d = %f mE + %f mR',inputxA,basis,outputxA2,outputxA1)\n",
"disp('Water balance')\n",
"printf(' \n %f *%d = %f mE + %f mR',1-inputxA,basis,1-outputxA2-outputxM2,1-outputxA1-outputxM1)\n",
"A=[1 1 -1;outputxA2 outputxA1 0;1-outputxA2-outputxM2 1-outputxA1-outputxM1 0]\n",
"b=[basis;inputxA*basis;(1-inputxA)*basis]\n",
"C=A\b\n",
"//Here We solved three linear equations simultaneously\n",
"mE=C(1,1)\n",
"mR=C(2,1)\n",
"mS=C(3,1)\n",
"printf(' \n mE=%f Kg',mE)\n",
"printf(' \n mR=%f Kg',mR)\n",
"printf(' \n mS=%f Kg MIBK',mS)"
   ]
   }
,
{
		   "cell_type": "markdown",
		   "metadata": {},
		   "source": [
			"## Example 6.7_1: chapter_6_example_13.sce"
		   ]
		  },
  {
"cell_type": "code",
	   "execution_count": null,
	   "metadata": {
	    "collapsed": true
	   },
	   "outputs": [],
"source": [
"clc\n",
"pathname=get_absolute_file_path('6_7_1.sce')\n",
"filename=pathname+filesep()+'671.sci'\n",
"exec(filename)\n",
"printf(' All the values in the textbook are Approximated hence the values in this code differ from those of Textbook')\n",
"n=P*V/(R*T)\n",
"printf(' \n No.of moles=%f mol',n)\n",
"y0=y*Pstar/Pmm\n",
"printf(' \n Y0=%f mol CCl4/mol',y0)\n",
"Pfinal=xF*Pmm\n",
"b=0.096*Pfinal\n",
"Xstar=0.794*b/(1+b)\n",
"printf(' \n Mass of CCl4 adsorbed to Carbon at equilibrium=%f g CCl4 ads/g C',Xstar)\n",
"Mads=(y0*n- xF*n)*154\n",
"printf(' \n Mass of CCl4 adsorbed=%f g',Mads)\n",
"Mc=Mads/Xstar\n",
"printf(' \n Mass of carbon Required=%f g',Mc)"
   ]
   }
],
"metadata": {
		  "kernelspec": {
		   "display_name": "Scilab",
		   "language": "scilab",
		   "name": "scilab"
		  },
		  "language_info": {
		   "file_extension": ".sce",
		   "help_links": [
			{
			 "text": "MetaKernel Magics",
			 "url": "https://github.com/calysto/metakernel/blob/master/metakernel/magics/README.md"
			}
		   ],
		   "mimetype": "text/x-octave",
		   "name": "scilab",
		   "version": "0.7.1"
		  }
		 },
		 "nbformat": 4,
		 "nbformat_minor": 0
}
