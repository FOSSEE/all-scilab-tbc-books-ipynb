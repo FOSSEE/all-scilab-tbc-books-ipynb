{
"cells": [
 {
		   "cell_type": "markdown",
	   "metadata": {},
	   "source": [
       "# Chapter 9: Balances On Reactive Processes"
	   ]
	},
{
		   "cell_type": "markdown",
		   "metadata": {},
		   "source": [
			"## Example 9.1_1: chapter_9_example_1.sce"
		   ]
		  },
  {
"cell_type": "code",
	   "execution_count": null,
	   "metadata": {
	    "collapsed": true
	   },
	   "outputs": [],
"source": [
"clc\n",
"pathname=get_absolute_file_path('9_1_1.sce')\n",
"filename=pathname+filesep()+'911.sci'\n",
"exec(filename)\n",
"printf(' All the values in the textbook are Approximated hence the values in this code differ from those of Textbook')\n",
"disp('Part 1')\n",
"E1= ndot/4\n",
"deltaH1=E1*Hr1\n",
"printf('enthalpy change=%E Kj/s',deltaH1 )\n",
"disp('part2')\n",
"Hr2=2*Hr1\n",
"E2=ndot/8\n",
"deltaH2=E2*Hr2\n",
"printf('Enthalpy change=%E kj/s',deltaH2)\n",
"disp('part 3')\n",
"Hr3=Hr1+5*HvWater+HvButane\n",
"deltaH3=E1*Hr3\n",
"printf('Enthalpy change=%E kj/s',deltaH3)"
   ]
   }
,
{
		   "cell_type": "markdown",
		   "metadata": {},
		   "source": [
			"## Example 9.1_2: chapter_9_example_2.sce"
		   ]
		  },
  {
"cell_type": "code",
	   "execution_count": null,
	   "metadata": {
	    "collapsed": true
	   },
	   "outputs": [],
"source": [
"clc\n",
"pathname=get_absolute_file_path('9_1_2.sce')\n",
"filename=pathname+filesep()+'912.sci'\n",
"exec(filename)\n",
"printf(' All the values in the textbook are Approximated hence the values in this code differ from those of Textbook')\n",
"disp('From reaction, only gaseous are counted')\n",
"left=1+2\n",
"right=1+1\n",
"deltaUr=deltaHr-R*T*(right-left)/10^3\n",
"printf('deltaUr=%f Kj/mol',deltaUr)"
   ]
   }
,
{
		   "cell_type": "markdown",
		   "metadata": {},
		   "source": [
			"## Example 9.3_1: chapter_9_example_3.sce"
		   ]
		  },
  {
"cell_type": "code",
	   "execution_count": null,
	   "metadata": {
	    "collapsed": true
	   },
	   "outputs": [],
"source": [
"clc\n",
"pathname=get_absolute_file_path('9_3_1.sce')\n",
"filename=pathname+filesep()+'931.sci'\n",
"exec(filename)\n",
"printf(' All the values in the textbook are Approximated hence the values in this code differ from those of Textbook')\n",
"Hr=5*HCO2+6*HH2O-HC5H12\n",
"printf(' \n Heat of the rxn= %f KJ/mol',Hr)"
   ]
   }
,
{
		   "cell_type": "markdown",
		   "metadata": {},
		   "source": [
			"## Example 9.4_1: chapter_9_example_4.sce"
		   ]
		  },
  {
"cell_type": "code",
	   "execution_count": null,
	   "metadata": {
	    "collapsed": true
	   },
	   "outputs": [],
"source": [
"clc\n",
"pathname=get_absolute_file_path('9_4_1.sce')\n",
"filename=pathname+filesep()+'941.sci'\n",
"exec(filename)\n",
"printf(' All the values in the textbook are Approximated hence the values in this code differ from those of Textbook')\n",
"Hr=Hethane-Hethene-Hhydrogen\n",
"printf(' \n Heat of the rxn= %f Kj/mol',Hr)"
   ]
   }
,
{
		   "cell_type": "markdown",
		   "metadata": {},
		   "source": [
			"## Example 9.5_1: chapter_9_example_5.sce"
		   ]
		  },
  {
"cell_type": "code",
	   "execution_count": null,
	   "metadata": {
	    "collapsed": true
	   },
	   "outputs": [],
"source": [
"clc\n",
"pathname=get_absolute_file_path('9_5_1.sce')\n",
"filename=pathname+filesep()+'951.sci'\n",
"exec(filename)\n",
"printf(' All the values in the textbook are Approximated hence the values in this code differ from those of Textbook')\n",
"function[Cp]=fun(T)\n",
"    Cp=29.50*10^(-3)+ T*0.8188*10^(-5) - T^2 * 0.2925 *10^(-8) + T^3 * 0.3652 * 10^(-12)\n",
"endfunction\n",
"H2=intg(T1,T2,fun)  //intg is an inbuilt function which can calculate definite integrals\n",
"E=nNH3/4\n",
"nO2out=nO2in-nNH3*5/4\n",
"nNO=nNH3\n",
"nH2O=nNH3*6/4\n",
"deltaH=E*Hr+(nO2out*H1+nNO*H2+nH2O*H3)\n",
"Qdot=deltaH\n",
"printf(' \n Heat Transferred= %f kW',Qdot)"
   ]
   }
,
{
		   "cell_type": "markdown",
		   "metadata": {},
		   "source": [
			"## Example 9.5_2: chapter_9_example_6.sce"
		   ]
		  },
  {
"cell_type": "code",
	   "execution_count": null,
	   "metadata": {
	    "collapsed": true
	   },
	   "outputs": [],
"source": [
"clc\n",
"pathname=get_absolute_file_path('9_5_2.sce')\n",
"filename=pathname+filesep()+'952.sci'\n",
"exec(filename)\n",
"printf(' All the values in the textbook are Approximated hence the values in this code differ from those of Textbook')\n",
"function[Cp]=fun1(T)\n",
"    Cp=34.31*10^(-3)+ T*5.469*10^(-5) + T^2 * 0.3661 *10^(-8) - T^3 * 11 * 10^(-12)\n",
"endfunction\n",
"HoutMethane=intg(T1,T2,fun1)\n",
"H4= -74.85 + HoutMethane\n",
"function[C]=fun2(T)\n",
"    C=34.28*10^(-3)+ T*4.268*10^(-5) - T^3 * 8.694 * 10^(-12)\n",
"endfunction\n",
"HoutFormal=intg(T1,T2,fun2) //intg is an inbuilt function which can calculate definite integrals\n",
"H7= -115.90+ HoutFormal\n",
"deltaH=NoutWater*H9+NoutCarbon*H8+NoutFormal*H7+NoutNitrogen*H6+NoutOxygen*H5+NoutMethane*H4-NinNitrogen*H3-NinOxygen*H2-NinMethane*H1\n",
"Q=deltaH\n",
"printf(' \n Q=%f Kj',Q)"
   ]
   }
,
{
		   "cell_type": "markdown",
		   "metadata": {},
		   "source": [
			"## Example 9.5_4: chapter_9_example_7.sce"
		   ]
		  },
  {
"cell_type": "code",
	   "execution_count": null,
	   "metadata": {
	    "collapsed": true
	   },
	   "outputs": [],
"source": [
"clc\n",
"pathname=get_absolute_file_path('9_5_4.sce')\n",
"filename=pathname+filesep()+'954.sci'\n",
"exec(filename)\n",
"printf(' All the values in the textbook are Approximated hence the values in this code differ from those of Textbook')\n",
"disp('Carbon Balance')\n",
"printf('%d * %f *2 + %d * %f *2=2 n1+2 n2',basis,x,basis,1-x)\n",
"disp('Hydrogen Balance')\n",
"printf('%d * %f *6 + %d * %f *4 = 6 n1+4 n2+2 n3',basis,x,basis,1-x)\n",
"disp('Energy Balance')\n",
"printf('%d = %f n1  %f n2 + %f n3 -%d * %f -%d* %f',Q,HoutEthanol,HoutEthanone,HoutHydrogen,NinEthanol,HinEthanol,NinEthanone,HinEthanone)\n",
"A=[1 1 0;3 2 1;216.81 150.9 -6.595]\n",
"b=[150;435;28412]\n",
"C=A\b\n",
"n1=C(1,1)\n",
"printf(' \n n1=%f mol Ethanol/s',n1)\n",
"n2=C(2,1)\n",
"printf(' \n n2=%f mol Ethanone/s',n2)\n",
"n3=C(3,1)\n",
"printf(' \n n3=%f mol Hydrogen/s',n3)\n",
"disp('The solutions in the Text are Wrong')\n",
"fraction=(NinEthanol-n1)/NinEthanol\n",
"printf('Fractional conversion of Ethanol=%f',fraction)"
   ]
   }
,
{
		   "cell_type": "markdown",
		   "metadata": {},
		   "source": [
			"## Example 9.5_5: chapter_9_example_8.sce"
		   ]
		  },
  {
"cell_type": "code",
	   "execution_count": null,
	   "metadata": {
	    "collapsed": true
	   },
	   "outputs": [],
"source": [
"clc\n",
"pathname=get_absolute_file_path('9_5_5.sce')\n",
"filename=pathname+filesep()+'955.sci'\n",
"exec(filename)\n",
"printf(' All the values in the textbook are Approximated hence the values in this code differ from those of Textbook')\n",
"disp('part 1')\n",
"Hr=HfSalt+3*HfWater-HfAcid-3*HfBase\n",
"printf('Hr of the rxn=%f Kj/mol',Hr)\n",
"disp('part 2')\n",
"deltaH=Hr*5/3\n",
"printf('deltaH=%f Kj',deltaH)"
   ]
   }
,
{
		   "cell_type": "markdown",
		   "metadata": {},
		   "source": [
			"## Example 9.5_6: chapter_9_example_9.sce"
		   ]
		  },
  {
"cell_type": "code",
	   "execution_count": null,
	   "metadata": {
	    "collapsed": true
	   },
	   "outputs": [],
"source": [
"clc\n",
"pathname=get_absolute_file_path('9_5_6.sce')\n",
"filename=pathname+filesep()+'956.sci'\n",
"exec(filename)\n",
"printf(' All the values in the textbook are Approximated hence the values in this code differ from those of Textbook')\n",
"disp('Using S balance, ')\n",
"m2=basis*x*MS*MSalt/(MAcid*MS)\n",
"printf(' \n m2=%f g Na2SO4',m2)\n",
"disp('Using Na balance, ')\n",
"m1=2*MNa*m2*MBase/(y*MNa*MSalt)\n",
"printf(' \n m1=%f g NaOH',m1)\n",
"disp('Total mass balance, ')\n",
"m3=basis+m1-m2\n",
"printf(' \n m3=%f g H2O',m3)\n",
"printf(' \n Mass of product solution =%f',m2+m3)\n",
"m=m2+m3\n",
"Water=m2*2/MSalt\n",
"printf(' \n Water Formed in the reaction=%f mol H2O',Water)\n",
"disp('H2SO4(aq):')\n",
"a1=basis*(1-x)/MWater\n",
"b1=basis*x/MAcid\n",
"rAcid=a1/b1\n",
"printf(' \n rAcid=%f mol Water/mol Acid',rAcid)\n",
"disp('NaOH(aq):')\n",
"a2=m1*(1-y)/MWater\n",
"b2=m1*y/MBase\n",
"rBase=a2/b2\n",
"printf(' \n rBase=%f mol Water/mol Base',rBase)\n",
"disp('Na2SO4(aq):')\n",
"a3=m3/MWater\n",
"b3=m2/MSalt\n",
"rSalt=a3/b3\n",
"printf(' \n rSalt=%f mol Water/mol Salt',rSalt)\n",
"E=b1\n",
"printf(' \n Extent of reaction=%f mol',E)\n",
"nHAcid=basis*3.85*(T3-T1)/1000\n",
"nHSalt=m*4.184*(T2-T1)/1000\n",
"nHBase=0\n",
"HfSalt= -1384\n",
"HfAcid= -884.6\n",
"HfBase= -468.1\n",
"HfWater= -285.84\n",
"deltaHr=HfSalt+ 2*HfWater - HfAcid - 2*HfBase\n",
"printf(' \n Entahlpy change in the rxn=%f Kj/mol',deltaHr)\n",
"Q=E*deltaHr + (nHSalt-nHAcid-nHBase)\n",
"printf(' \n Q of the rxn=%f Kj',Q)\n",
"disp('The answer in the Text is wrong.')"
   ]
   }
,
{
		   "cell_type": "markdown",
		   "metadata": {},
		   "source": [
			"## Example 9.6_1: chapter_9_example_10.sce"
		   ]
		  },
  {
"cell_type": "code",
	   "execution_count": null,
	   "metadata": {
	    "collapsed": true
	   },
	   "outputs": [],
"source": [
"clc\n",
"pathname=get_absolute_file_path('9_6_1.sce')\n",
"filename=pathname+filesep()+'961.sci'\n",
"exec(filename)\n",
"printf(' All the values in the textbook are Approximated hence the values in this code differ from those of Textbook')\n",
"y1=x*16\n",
"y2=(1-x)*30\n",
"xCH4=y1/(y1+y2)\n",
"HHVMethane=(H1+ 2*44.013)/M1\n",
"HHVEthane=(H2+ 3*44.013)/M2\n",
"HHV=xCH4*HHVMethane + (1-xCH4)*HHVEthane\n",
"printf(' \n HHV of Fuel=%f KJ/g',HHV)"
   ]
   }
],
"metadata": {
		  "kernelspec": {
		   "display_name": "Scilab",
		   "language": "scilab",
		   "name": "scilab"
		  },
		  "language_info": {
		   "file_extension": ".sce",
		   "help_links": [
			{
			 "text": "MetaKernel Magics",
			 "url": "https://github.com/calysto/metakernel/blob/master/metakernel/magics/README.md"
			}
		   ],
		   "mimetype": "text/x-octave",
		   "name": "scilab",
		   "version": "0.7.1"
		  }
		 },
		 "nbformat": 4,
		 "nbformat_minor": 0
}
