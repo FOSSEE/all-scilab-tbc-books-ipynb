{
"cells": [
 {
		   "cell_type": "markdown",
	   "metadata": {},
	   "source": [
       "# Chapter 4: Fundamentals Of Material Balances"
	   ]
	},
{
		   "cell_type": "markdown",
		   "metadata": {},
		   "source": [
			"## Example 4.2_1: chapter_4_example_1.sce"
		   ]
		  },
  {
"cell_type": "code",
	   "execution_count": null,
	   "metadata": {
	    "collapsed": true
	   },
	   "outputs": [],
"source": [
"clc\n",
"pathname=get_absolute_file_path('4_2_1.sce')\n",
"filename=pathname+filesep()+'421.sci'\n",
"exec(filename)\n",
"printf('All the values in the textbook are Approximated hence the values in this code differ from those of Textbook')\n",
"accumulation = input+generation-output-consumption\n",
"disp(' We know that accumulation=input+generation-output-consumption')\n",
"printf(' Hence, Each year population decreases by %d people',-accumulation)"
   ]
   }
,
{
		   "cell_type": "markdown",
		   "metadata": {},
		   "source": [
			"## Example 4.2_2: chapter_4_example_2.sce"
		   ]
		  },
  {
"cell_type": "code",
	   "execution_count": null,
	   "metadata": {
	    "collapsed": true
	   },
	   "outputs": [],
"source": [
"clc\n",
"pathname=get_absolute_file_path('4_2_2.sce')\n",
"filename=pathname+filesep()+'422.sci'\n",
"exec(filename)\n",
"printf('All the values in the textbook are Approximated hence the values in this code differ from those of Textbook')\n",
"disp('Using benzene balance,')\n",
"m2dot=inputBenzene-UpStreamBenzene\n",
"printf(' m2dot=%d kg/h',m2dot)\n",
"disp('Using Toluene balance')\n",
"m1dot=inputToluene-DownStreamToluene\n",
"printf(' m1dot= %d kg/h',m1dot)\n",
"disp('To check we can perform Overall mass balance')"
   ]
   }
,
{
		   "cell_type": "markdown",
		   "metadata": {},
		   "source": [
			"## Example 4.2_3: chapter_4_example_3.sce"
		   ]
		  },
  {
"cell_type": "code",
	   "execution_count": null,
	   "metadata": {
	    "collapsed": true
	   },
	   "outputs": [],
"source": [
"clc\n",
"pathname=get_absolute_file_path('4_2_3.sce')\n",
"filename=pathname+filesep()+'423.sci'\n",
"exec(filename)\n",
"printf(' All the values in the textbook are Approximated hence the values in this code differ from those of Textbook')\n",
"m=m1+m2\n",
"printf(' \n Total mass after mixing m=%d g',m)\n",
"x=(m1*x1 + m2*x2)/m\n",
"printf(' \n The composition of the methanol in the product is %f and water is %f',x,1-x)"
   ]
   }
,
{
		   "cell_type": "markdown",
		   "metadata": {},
		   "source": [
			"## Example 4.2_4: chapter_4_example_4.sce"
		   ]
		  },
  {
"cell_type": "code",
	   "execution_count": null,
	   "metadata": {
	    "collapsed": true
	   },
	   "outputs": [],
"source": [
"clc\n",
"pathname=get_absolute_file_path('4_2_4.sce')\n",
"filename=pathname+filesep()+'424.sci'\n",
"exec(filename)\n",
"printf(' All the values in the textbook are Approximated hence the values in this code differ from those of Textbook')\n",
"ndot=rate/(1-x1)\n",
"deltaN= -vol*d*10^3 /M\n",
"tf=deltaN/(-0.1 * ndot)\n",
"printf(' \n The time Required for the Total process=%d min',tf)"
   ]
   }
,
{
		   "cell_type": "markdown",
		   "metadata": {},
		   "source": [
			"## Example 4.3_1: chapter_4_example_5.sce"
		   ]
		  },
  {
"cell_type": "code",
	   "execution_count": null,
	   "metadata": {
	    "collapsed": true
	   },
	   "outputs": [],
"source": [
"clc\n",
"pathname=get_absolute_file_path('4_3_1.sce')\n",
"filename=pathname+filesep()+'431.sci'\n",
"exec(filename)\n",
"printf(' All the values in the textbook are Approximated hence the values in this code differ from those of Textbook')\n",
"n2=Vdot*DH2O/MH2O\n",
"printf('n2=%f mol/min',n2)\n",
"disp('Using Water Balance,')\n",
"n3=n2/x\n",
"printf('n3=%f mol/min',n3)\n",
"disp('Using total mole balance,')\n",
"n1=(n3-n2)/(1+x1)\n",
"printf('n1=%f mol/min',n1)\n",
"disp('Using N2 balance,')\n",
"y=1-x-0.79*n1/n3\n",
"printf('y=%f mol O2/mol',y)"
   ]
   }
,
{
		   "cell_type": "markdown",
		   "metadata": {},
		   "source": [
			"## Example 4.3_2: chapter_4_example_6.sce"
		   ]
		  },
  {
"cell_type": "code",
	   "execution_count": null,
	   "metadata": {
	    "collapsed": true
	   },
	   "outputs": [],
"source": [
"clc\n",
"pathname=get_absolute_file_path('4_3_2.sce')\n",
"filename=pathname+filesep()+'432.sci'\n",
"exec(filename)\n",
"printf(' All the values in the textbook are Approximated hence the values in this code differ from those of Textbook')\n",
"multiply=FinalBasis/basis\n",
"Feed=100*multiply\n",
"TopStream=50*multiply\n",
"BottomStream1=12.5*multiply\n",
"BottomStream2=37.5*multiply\n",
"printf(' \n Final Basis=%d lb-moles /h',Feed)\n",
"printf(' \n Final Top Stream Feed=%d lb-moles /h',TopStream)\n",
"printf(' \n Final Bottom Stream Feed 1 =%d lb-moles A/h',BottomStream1)\n",
"printf(' \n Final Bottom Stream Feed 2 =%d lb-moles B/h',BottomStream2)"
   ]
   }
,
{
		   "cell_type": "markdown",
		   "metadata": {},
		   "source": [
			"## Example 4.3_3: chapter_4_example_7.sce"
		   ]
		  },
  {
"cell_type": "code",
	   "execution_count": null,
	   "metadata": {
	    "collapsed": true
	   },
	   "outputs": [],
"source": [
"clc\n",
"pathname=get_absolute_file_path('4_3_3.sce')\n",
"filename=pathname+filesep()+'433.sci'\n",
"exec(filename)\n",
"printf(' All the values in the textbook are Approximated hence the values in this code differ from those of Textbook')\n",
"disp('Using NaOH balance')\n",
"m2=inputx*basis/outputx\n",
"printf('m2=%f Kg NaOH',m2)\n",
"disp('Using Total mass balance')\n",
"m1=m2-basis\n",
"printf('m1=%f Kg Water',m1)\n",
"V1=m1/D\n",
"printf(' \n V1=%f Litres',V1)\n",
"Ratio1=V1/basis\n",
"Ratio2=m2/basis\n",
"printf(' \n Ratio of lt water/Kg Feed = %f lt water/Kg Feed',Ratio1)\n",
"printf(' \n Ratio of Kg product/Kg Feed = %f Kg product/Kg Feed',Ratio2)"
   ]
   }
,
{
		   "cell_type": "markdown",
		   "metadata": {},
		   "source": [
			"## Example 4.3_5: chapter_4_example_8.sce"
		   ]
		  },
  {
"cell_type": "code",
	   "execution_count": null,
	   "metadata": {
	    "collapsed": true
	   },
	   "outputs": [],
"source": [
"clc\n",
"pathname=get_absolute_file_path('4_3_5.sce')\n",
"filename=pathname+filesep()+'435.sci'\n",
"exec(filename)\n",
"printf(' All the values in the textbook are Approximated hence the values in this code differ from those of Textbook')\n",
"mass1=outputBasis*M1*outputx\n",
"mass2=outputBasis*M2*(1-outputx)\n",
"mass=mass1+mass2\n",
"yB2=mass1/mass\n",
"m1=basis*D\n",
"printf(' \n m1=%f Kg/h',m1)\n",
"mB3=z*inputx*m1\n",
"printf(' \n mB3=%f Kg/h',mB3)\n",
"disp('Using Benzene balance,')\n",
"m2=(inputx*m1-mB3)/yB2\n",
"printf(' \n m2=%f Kg/h',m2)\n",
"disp('Using Toluene balance,')\n",
"mT3=(1-inputx)*m1-(1-yB2)*m2\n",
"printf(' \n mT3=%f Kg/h',mT3)\n",
"m3=mB3+mT3\n",
"printf(' \n m3=%f Kg/h',m3)\n",
"yB3=mB3/m3\n",
"printf(' \n yB3=%f kg B/kg',yB3)\n",
"yT3=1-yB3\n",
"printf(' \n yT3=%f kg T/kg',yT3)"
   ]
   }
,
{
		   "cell_type": "markdown",
		   "metadata": {},
		   "source": [
			"## Example 4.4_1: chapter_4_example_9.sce"
		   ]
		  },
  {
"cell_type": "code",
	   "execution_count": null,
	   "metadata": {
	    "collapsed": true
	   },
	   "outputs": [],
"source": [
"clc\n",
"pathname=get_absolute_file_path('4_4_1.sce')\n",
"filename=pathname+filesep()+'441.sci'\n",
"exec(filename)\n",
"printf(' All the values in the textbook are Approximated hence the values in this code differ from those of Textbook')\n",
"disp('using Overall Mass balance, ')\n",
"m3=inputMass1+inputMass2-outputMass1-outputMass2\n",
"printf('m3=%d Kg/h',m3)\n",
"disp('using Overall balance on A, ')\n",
"x3=(inputMass1*inputx1+inputMass2*inputx2-outputMass1*outputx1-outputMass2*outputx2)/m3\n",
"printf('m3=%f Kg A/kg',x3)\n",
"disp('using Mass balance on Unit 1, ')\n",
"m1=inputMass1-outputMass1\n",
"printf('m1=%d Kg/h',m1)\n",
"disp('using A balance on Unit 1, ')\n",
"x1=(inputMass1*inputx1-outputMass1*outputx1)/m1\n",
"printf('x1=%f Kg A/kg',x1)\n",
"disp('using Mass balance on mixing point, ')\n",
"m2=inputMass2+m1\n",
"printf('m2=%d Kg/h',m2)\n",
"disp('using A balance on mixing point, ')\n",
"x2=(inputMass2*inputx2+m1*x1)/m2\n",
"printf('x2=%f Kg A/kg',x2)"
   ]
   }
,
{
		   "cell_type": "markdown",
		   "metadata": {},
		   "source": [
			"## Example 4.4_2: chapter_4_example_10.sce"
		   ]
		  },
  {
"cell_type": "code",
	   "execution_count": null,
	   "metadata": {
	    "collapsed": true
	   },
	   "outputs": [],
"source": [
"clc\n",
"pathname=get_absolute_file_path('4_4_2.sce')\n",
"filename=pathname+filesep()+'442.sci'\n",
"exec(filename)\n",
"printf(' All the values in the textbook are Approximated hence the values in this code differ from those of Textbook')\n",
"disp('Using Balances around two-extraxtor system,')\n",
"disp('Balance on total mass,')\n",
"printf('%d + %d + %d = %f + m1+m3',massin,M1,M2,massout)\n",
"disp('Balance on A')\n",
"printf('%d * %f = %f * %f + m1 %f + m3 %f',massin,inputx,massout,outputxA,m1xA,m3xA)\n",
"A=[1 1;m1xA,m3xA]\n",
"b=[massin+M1+M2-massout;massin*inputx - massout*outputxA]\n",
"C=A\b\n",
"m1=C(1,1)\n",
"m3=C(2,1)\n",
"printf(' \n m1=%f Kg',m1)\n",
"printf(' \n m3=%f Kg',m3)\n",
"disp('Balance on M')\n",
"xM1=(massin+M2-massout*outputxM-m3*m3xM)/m1\n",
"printf('xM1=%f kg MIBK/kg',xM1)\n",
"disp('Balances around Extract mixing point, ')\n",
"disp('Balance on A')\n",
"mA4=m1*m1xA+m3*m3xA\n",
"printf(' \n mA4=%f Kg Acetone',mA4)\n",
"disp('Balance on M')\n",
"mM4=m1*xM1+m3*m3xM\n",
"printf(' \n mM4=%f Kg MIBK',mM4)\n",
"disp('Balance on W')\n",
"mW4=m1*(m1xM-xM1) + m3*m3xW\n",
"printf(' \n mW4=%f Kg Water',mW4)\n",
"disp('Balances around the First extractor')\n",
"disp('Balance on  A')\n",
"mA2=massin*inputx-m1*m1xA\n",
"printf(' \n mA2=%f Kg Acetone',mA2)\n",
"disp('Balance on  M')\n",
"mM2=massin-x1*xM1\n",
"printf(' \n xM1=%f Kg MIBK',xM1)\n",
"disp('Balance on  W')\n",
"mW2=massin*inputx- m1*(m1xM-xM1)\n",
"printf(' \n mW2=%f Kg Water',mW2)"
   ]
   }
,
{
		   "cell_type": "markdown",
		   "metadata": {},
		   "source": [
			"## Example 4.5_1: chapter_4_example_11.sce"
		   ]
		  },
  {
"cell_type": "code",
	   "execution_count": null,
	   "metadata": {
	    "collapsed": true
	   },
	   "outputs": [],
"source": [
"clc\n",
"pathname=get_absolute_file_path('4_5_1.sce')\n",
"filename=pathname+filesep()+'451.sci'\n",
"exec(filename)\n",
"printf(' All the values in the textbook are Approximated hence the values in this code differ from those of Textbook')\n",
"disp('Overall dry Air balance,')\n",
"n1=x3*basis/x1\n",
"printf('n1=%f mol Fresh feed',n1)\n",
"disp('Overall mole balance,')\n",
"n3=n1-basis\n",
"printf('n3=%f mol Water condensed',n3)\n",
"disp('Mole balance on mixing point,')\n",
"disp('n1+n5=n2')\n",
"disp('Water balance on mixing point')\n",
"printf(' %f n1+ %f n5 = %f n2',1-x1,1-x3,1-x2)\n",
"A=[1 -1;1-x2,-(1-x3)]\n",
"b=[n1;(1-x1)*n1]\n",
"C=A\b\n",
"n2=C(1,1)\n",
"n5=C(2,1)\n",
"printf(' \n n2=%f mol',n2)\n",
"printf(' \n n5=%f mol Recycled',n5)"
   ]
   }
,
{
		   "cell_type": "markdown",
		   "metadata": {},
		   "source": [
			"## Example 4.5_2: chapter_4_example_12.sce"
		   ]
		  },
  {
"cell_type": "code",
	   "execution_count": null,
	   "metadata": {
	    "collapsed": true
	   },
	   "outputs": [],
"source": [
"clc\n",
"pathname=get_absolute_file_path('4_5_2.sce')\n",
"filename=pathname+filesep()+'452.sci'\n",
"exec(filename)\n",
"printf(' All the values in the textbook are Approximated hence the values in this code differ from those of Textbook')\n",
"m6x=m5x\n",
"printf('Given, m4=%f (m4+m5)',x)\n",
"disp('using Overall K2CrO4 balance, ')\n",
"printf('%f * %f = m4+ %f m5',feedx,feed,m6x)\n",
"A=[1-x,-x;1,m6x]\n",
"b=[0;feedx*feed]\n",
"C=A\b\n",
"m4=C(1,1)\n",
"m5=C(2,1)\n",
"printf(' \n m4=%f K2CrO4 crystals/h',m4)\n",
"printf(' \n m5=%f entrained solution/h',m5)\n",
"disp('Overall Total mass balance , ')\n",
"m2=feed-m4-m5\n",
"printf('m2=%f Kg H2O evaporated/h',m2)\n",
"disp('Mass balance around the crystallizer,')\n",
"disp('m3=m4+m5+m6')\n",
"disp('Water balance around the crystallizer, ')\n",
"printf(' %f m3= %f m5 + %f m6',1-m3x,1-m5x,1-m6x)\n",
"D=[1 -1;1 (-1+m6x)/(1-m3x)]\n",
"e=[m4+m5;(1-m5x)*m5/(1-m3x)]\n",
"F=D\e\n",
"m3=F(1,1)\n",
"m6=F(2,1)\n",
"printf(' \n m3=%f Kg/h fed to the crystallizer',m3)\n",
"printf(' \n m6=%f Kg/h ',m6)\n",
"ratio=m6/feed\n",
"printf(' \n ratio=%f Kg recycle/ Kg fresh feed',ratio)\n",
"disp('mass balance around Recycle-fresh feed mixing point, ')\n",
"m1=feed+m6\n",
"printf('m1=%f kg/h feed to the evaporator',m1)\n",
"disp('With out recycle, ')\n",
"disp('m3=622 Kg/h')\n",
"disp('m5=2380 Kg/h')"
   ]
   }
,
{
		   "cell_type": "markdown",
		   "metadata": {},
		   "source": [
			"## Example 4.6_1: chapter_4_example_13.sce"
		   ]
		  },
  {
"cell_type": "code",
	   "execution_count": null,
	   "metadata": {
	    "collapsed": true
	   },
	   "outputs": [],
"source": [
"clc\n",
"pathname=get_absolute_file_path('4_6_1.sce')\n",
"filename=pathname+filesep()+'461.sci'\n",
"exec(filename)\n",
"printf(' All the values in the textbook are Approximated hence the values in this code differ from those of Textbook')\n",
"nP=basis*xP\n",
"nN=basis*xN\n",
"nO2=basis*xA*0.21\n",
"if(nN/nP>1)\n",
"    disp('NH3 is in excess')\n",
"else\n",
"    disp('Propene is in excess')\n",
"end\n",
"if(nO2/nP>1)\n",
"    disp('O2 is in excess')\n",
"else\n",
"    disp('propene is in excess')\n",
"end\n",
"nO2reacted=nP*1.5\n",
"nNreacted=nP*1\n",
"ExcessAmmonia=(nN-nNreacted)*100/nNreacted\n",
"ExcessO2=(nO2-nO2reacted)*100/nO2reacted\n",
"printf(' \n percentage excess Ammonia=%f',ExcessAmmonia)\n",
"printf(' \n percentage excess Oxygen=%f',ExcessO2)\n",
"nPout=(1-x)*nP\n",
"printf(' \n no.of moles of Propylene left= %d mol',nPout)\n",
"E=nP-nPout\n",
"nNout=nN-E\n",
"nO2out=nO2-1.5*E\n",
"nAc=E\n",
"nW=3*E\n",
"printf(' \n no.of moles of Ammonia left= %f mol',nNout)\n",
"printf(' \n no.of moles of oxygen left= %f mol',nO2out)\n",
"printf(' \n no.of moles of ACN formed= %d mol',nAc)\n",
"printf(' \n no.of moles of water formed= %d mol',nW)"
   ]
   }
,
{
		   "cell_type": "markdown",
		   "metadata": {},
		   "source": [
			"## Example 4.6_3: chapter_4_example_14.sce"
		   ]
		  },
  {
"cell_type": "code",
	   "execution_count": null,
	   "metadata": {
	    "collapsed": true
	   },
	   "outputs": [],
"source": [
"clc\n",
"pathname=get_absolute_file_path('4_6_3.sce')\n",
"filename=pathname+filesep()+'463.sci'\n",
"exec(filename)\n",
"printf(' All the values in the textbook are Approximated hence the values in this code differ from those of Textbook')\n",
"n1=(1-conv1)*basis*x\n",
"n2=conv2*basis*x\n",
"E1=n2\n",
"E2=basis*x - E1-n1\n",
"n3=E1-E2\n",
"n4=2*E2\n",
"n5=basis*(1-x)\n",
"nt=n1+n2+n3+n4+n5\n",
"selectivity=n2/n4\n",
"printf('selectivity=%f mol Ethene/mol methane',selectivity)"
   ]
   }
,
{
		   "cell_type": "markdown",
		   "metadata": {},
		   "source": [
			"## Example 4.7_2: chapter_4_example_15.sce"
		   ]
		  },
  {
"cell_type": "code",
	   "execution_count": null,
	   "metadata": {
	    "collapsed": true
	   },
	   "outputs": [],
"source": [
"clc\n",
"pathname=get_absolute_file_path('4_7_2.sce')\n",
"filename=pathname+filesep()+'472.sci'\n",
"exec(filename)\n",
"printf(' All the values in the textbook are Approximated hence the values in this code differ from those of Textbook')\n",
"disp('Overall Propane conversion, ')\n",
"n6=(1-E)*basis\n",
"printf('n6=%d mol propane',n6)\n",
"disp('Overall C balance, ')\n",
"n7=basis - n6\n",
"printf('n7=%d mol propene',n7)\n",
"disp('Overall H balance ,')\n",
"n8=(basis*8-n6*8-n7*6)/2\n",
"printf('n8=%d mol H2',n8)\n",
"PercentagePropane=n6*100/(n6+n7+n8)\n",
"printf('\n Mole percentage of propane=%f',PercentagePropane)\n",
"PercentagePropene=(100-PercentagePropane)/2\n",
"printf('\n Mole percentage of propene=mole percentage of hydrogen=%f',PercentagePropene)\n",
"disp('Using given relations among separator variables,')\n",
"n3=n6/0.00555\n",
"n10=0.05*n7\n",
"printf(' \n n3=%d mol Propane',n3)\n",
"printf(' \n n10=%f mol Propene',n10)\n",
"disp('using Propane balance about separaation unit')\n",
"n9=n3-n6\n",
"printf('n9=%d mol Propane',n9)\n",
"n1=basis+n9\n",
"disp('Using Propane balance about mixing point,')\n",
"printf('n1=%d mol H2',n1)\n",
"RecycleRatio=(n9+n10)/basis\n",
"printf(' \n recycle ratio=%d mol recycle/mol fresh feed',RecycleRatio)\n",
"SinglePass=(n1-n3)*100/n1\n",
"printf(' \n single-pass conversion=%f ',SinglePass)"
   ]
   }
,
{
		   "cell_type": "markdown",
		   "metadata": {},
		   "source": [
			"## Example 4.7_3: chapter_4_example_16.sce"
		   ]
		  },
  {
"cell_type": "code",
	   "execution_count": null,
	   "metadata": {
	    "collapsed": true
	   },
	   "outputs": [],
"source": [
"clc\n",
"pathname=get_absolute_file_path('4_7_3.sce')\n",
"filename=pathname+filesep()+'473.sci'\n",
"exec(filename)\n",
"printf(' All the values in the textbook are Approximated hence the values in this code differ from those of Textbook')\n",
"disp('Reactor analysis, ')\n",
"n2=(1-single_pass)*basis*inputxH2\n",
"printf('n2=%d mol H2',n2)\n",
"disp('H2 balance')\n",
"consH2=basis*inputxH2-n2\n",
"printf('H2 moles consumed=%d mol H2',consH2)\n",
"disp('CO2 balance')\n",
"n1=basis*inputxCO2-consH2/3\n",
"printf('n1=%d mol CO2',n1)\n",
"disp('Methanol balance')\n",
"n3=consH2/3\n",
"printf('n3=%d mol Methanol',n3)\n",
"disp('H2O balance')\n",
"n4=consH2/3\n",
"printf('n4=%d mol H2O',n4)\n",
"disp('condenser analysis')\n",
"disp('Total mole balance')\n",
"n5=n1+n2+molI\n",
"printf('n5=%d mol',n5)\n",
"disp('CO2 balance')\n",
"x5C=n1/n5\n",
"printf('x5C=%d mol CO2/mol',x5C)\n",
"disp('H2 balance')\n",
"x5H=n2/n5\n",
"printf('x5H=%d mol CO2/mol',x5H)\n",
"x1=1-x5C-x5H\n",
"printf('x1=%d mol I/mol',x1)\n",
"disp('Fresh Feed-Recycle mixing point analysis')\n",
"disp('Total mole balance')\n",
"printf('n0+nr=%d',basis)\n",
"disp('I balance')\n",
"printf('n0 %f + nr %f = %d',Ix,x1,molI)\n",
"A=[1 1;Ix x1]\n",
"b=[basis;molI]\n",
"C=A\b //Here We solve two linear equations simultaneously\n",
"n0=C(1,1)\n",
"nr=C(2,1)\n",
"printf(' \n n0=%f mol fresh feed',n0)\n",
"printf(' \n nr= %f mol recycle',nr)\n",
"x0C=(basis*inputxCO2-nr*x5C)/n0\n",
"printf(' \n x0C=%f mol CO2/mol',x0C)\n",
"x0H=1-x0C-Ix\n",
"printf(' \n x0h=%f mol H2/mol',x0H)\n",
"disp('Recycle-Purge splitting Analysis')\n",
"disp('Total mole balance')\n",
"np=n5-nr\n",
"printf('np=%f mol purge',np)\n",
"disp('Flow chart scaling')\n",
"Factor=final/n3\n",
"printf('Factor for scaling=%f Kmol/h/mol',Factor)"
   ]
   }
,
{
		   "cell_type": "markdown",
		   "metadata": {},
		   "source": [
			"## Example 4.8_1: chapter_4_example_17.sce"
		   ]
		  },
  {
"cell_type": "code",
	   "execution_count": null,
	   "metadata": {
	    "collapsed": true
	   },
	   "outputs": [],
"source": [
"clc\n",
"pathname=get_absolute_file_path('4_8_1.sce')\n",
"filename=pathname+filesep()+'481.sci'\n",
"exec(filename)\n",
"printf(' All the values in the textbook are Approximated hence the values in this code differ from those of Textbook')\n",
"disp('part 1')\n",
"wet=xN2wet+xCO2wet+xO2wet\n",
"xN2dry=xN2wet/wet\n",
"xCO2dry=xCO2wet/wet\n",
"xO2dry=xO2wet/wet\n",
"printf(' \n xN2 dry = %f mol N2/mol dry gas',xN2dry)\n",
"printf(' \n xO2 dry = %f mol O2/mol dry gas',xO2dry)\n",
"printf(' \n xCO2 dry = %f mol CO2/mol dry gas',xCO2dry)"
   ]
   }
,
{
		   "cell_type": "markdown",
		   "metadata": {},
		   "source": [
			"## Example 4.8_2: chapter_4_example_18.sce"
		   ]
		  },
  {
"cell_type": "code",
	   "execution_count": null,
	   "metadata": {
	    "collapsed": true
	   },
	   "outputs": [],
"source": [
"clc\n",
"pathname=get_absolute_file_path('4_8_2.sce')\n",
"filename=pathname+filesep()+'482.sci'\n",
"exec(filename)\n",
"printf(' All the values in the textbook are Approximated hence the values in this code differ from those of Textbook')\n",
"nO2Theoretical=basisButane*6.5\n",
"nAirTheoretical=nO2Theoretical*4.76\n",
"percent=(basisAir-nAirTheoretical)*100/nAirTheoretical\n",
"printf(' \n percent excess air=%f',percent)"
   ]
   }
,
{
		   "cell_type": "markdown",
		   "metadata": {},
		   "source": [
			"## Example 4.8_3: chapter_4_example_19.sce"
		   ]
		  },
  {
"cell_type": "code",
	   "execution_count": null,
	   "metadata": {
	    "collapsed": true
	   },
	   "outputs": [],
"source": [
"clc\n",
"pathname=get_absolute_file_path('4_8_3.sce')\n",
"filename=pathname+filesep()+'483.sci'\n",
"exec(filename)\n",
"printf(' All the values in the textbook are Approximated hence the values in this code differ from those of Textbook')\n",
"disp(' 50% excess air')\n",
"nO2theoretical=basis*3.5\n",
"n0=nO2theoretical*(1+excess)/0.21\n",
"printf(' n0=%d mol air fed',n0)\n",
"disp('90% ethane conversion')\n",
"n1=(1-E1)*basis\n",
"printf('No. of moles of ethane unreacted= %d',n1)\n",
"disp('25% conversion to CO')\n",
"n4=E2*(basis-n1)*2\n",
"printf('n4= %d mol CO',n4)\n",
"disp('nitrogen balance')\n",
"n3=0.79*n0\n",
"printf('n3= %d mol N2',n3)\n",
"disp('Atomic carbon balance')\n",
"n5=2*basis-2*n1-n4\n",
"printf('n5= %d mol CO2',n5)\n",
"disp('Atomic hydrogen balance')\n",
"n6=(basis*6-n1*6)/2\n",
"printf('n6= %d mol H2O',n6)\n",
"disp('Atomic oxygen balance')\n",
"n2=(nO2theoretical*1.5*2-n4-n5*2-n6)/2\n",
"printf('n2= %d mol O2',n2)\n",
"dry=n1+n2+n3+n4+n5\n",
"wet=dry+n6\n",
"y1=n1/dry\n",
"printf('\n y1= %f mol C2H6/mol',y1)\n",
"y2=n2/dry\n",
"printf('\n y2= %f mol O2/mol',y2)\n",
"y3=n3/dry\n",
"printf('\n y3= %f mol N2/mol',y3)\n",
"y4=n4/dry\n",
"printf('\n y4= %f mol CO/mol',y4)\n",
"y5=n5/dry\n",
"printf('\n y5= %f mol CO2/mol',y5)\n",
"ratio=n6/dry\n",
"printf(' \n ratio=%f mol H2O/mol dry stack gas',ratio)"
   ]
   }
,
{
		   "cell_type": "markdown",
		   "metadata": {},
		   "source": [
			"## Example 4.8_4: chapter_4_example_20.sce"
		   ]
		  },
  {
"cell_type": "code",
	   "execution_count": null,
	   "metadata": {
	    "collapsed": true
	   },
	   "outputs": [],
"source": [
"clc\n",
"pathname=get_absolute_file_path('4_8_4.sce')\n",
"filename=pathname+filesep()+'484.sci'\n",
"exec(filename)\n",
"printf(' All the values in the textbook are Approximated hence the values in this code differ from those of Textbook')\n",
"disp('N2 balance')\n",
"na=basis*xN2/0.79\n",
"printf('na=%f mol air',na)\n",
"disp('Atomic C balance')\n",
"nc=basis*xCO + basis*xCO2\n",
"printf('nc=%f mol C',nc)\n",
"disp('Atomic O balance')\n",
"nw=0.21*na*2-basis*(xCO + xCO2*2 + xO2*2)\n",
"printf('nw=%f mol oxygen',nw)\n",
"disp('Atomic H2 balance')\n",
"nh=nw*2\n",
"printf('nh=%f mol H2',nh)\n",
"ratio=nh/nc\n",
"printf('\n C/H ratio in fuel=%f mol H/mol C',ratio)\n",
"disp('percent excess air')\n",
"nO2theoretical=nc + nh/4\n",
"printf('nO2 theoretical=%f mol O2',nO2theoretical)\n",
"nO2fed=0.21*na\n",
"printf(' \n nO2fed=%f mol O2',nO2fed)\n",
"percent=(nO2fed-nO2theoretical)*100/nO2theoretical\n",
"printf('\n percentage excess air=%f excess air',percent)"
   ]
   }
,
{
		   "cell_type": "markdown",
		   "metadata": {},
		   "source": [
			"## Example 4.9_1: chapter_4_example_21.sce"
		   ]
		  },
  {
"cell_type": "code",
	   "execution_count": null,
	   "metadata": {
	    "collapsed": true
	   },
	   "outputs": [],
"source": [
"clc\n",
"pathname=get_absolute_file_path('4_9_1.sce')\n",
"filename=pathname+filesep()+'491.sci'\n",
"exec(filename)\n",
"printf(' All the values in the textbook are Approximated hence the values in this code differ from those of Textbook')\n",
"disp('Design')\n",
"MEKin1=feed*x\n",
"MEKout1=TopFlow1*outputx1 + BottomFlow1\n",
"closure1=MEKout1*100/MEKin1\n",
"printf('closure1=%d percent',closure1)\n",
"disp('Experiment')\n",
"MEKin2=feed*x\n",
"MEKout2=TopFlow2*outputx2 + BottomFlow2\n",
"closure2=MEKout2*100/MEKin2\n",
"printf('closure2=%d percent',closure2)"
   ]
   }
],
"metadata": {
		  "kernelspec": {
		   "display_name": "Scilab",
		   "language": "scilab",
		   "name": "scilab"
		  },
		  "language_info": {
		   "file_extension": ".sce",
		   "help_links": [
			{
			 "text": "MetaKernel Magics",
			 "url": "https://github.com/calysto/metakernel/blob/master/metakernel/magics/README.md"
			}
		   ],
		   "mimetype": "text/x-octave",
		   "name": "scilab",
		   "version": "0.7.1"
		  }
		 },
		 "nbformat": 4,
		 "nbformat_minor": 0
}
