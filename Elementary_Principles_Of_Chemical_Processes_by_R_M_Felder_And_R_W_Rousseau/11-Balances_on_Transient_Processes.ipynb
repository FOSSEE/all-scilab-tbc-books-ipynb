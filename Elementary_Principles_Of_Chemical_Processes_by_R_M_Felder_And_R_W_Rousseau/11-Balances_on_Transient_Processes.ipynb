{
"cells": [
 {
		   "cell_type": "markdown",
	   "metadata": {},
	   "source": [
       "# Chapter 11: Balances on Transient Processes"
	   ]
	},
{
		   "cell_type": "markdown",
		   "metadata": {},
		   "source": [
			"## Example 11.1_2: chapter_11_example_1.sce"
		   ]
		  },
  {
"cell_type": "code",
	   "execution_count": null,
	   "metadata": {
	    "collapsed": true
	   },
	   "outputs": [],
"source": [
"clc\n",
"pathname=get_absolute_file_path('11_1_2.sce')\n",
"filename=pathname+filesep()+'1112.sci'\n",
"exec(filename)\n",
"printf(' All the values in the textbook are Approximated hence the values in this code differ from those of Textbook')\n",
"function [dv]=fun(t)\n",
"    dv=(10^6)*exp(-t/100) -10^7\n",
"endfunction\n",
"[vol,err]=intg(0,60,fun) //intg is an inbuilt function which can calculate definite integrals\n",
"printf(' \n Volume at the end of 60 days=%E',vol+v0)"
   ]
   }
,
{
		   "cell_type": "markdown",
		   "metadata": {},
		   "source": [
			"## Example 11.3_1: chapter_11_example_2.sce"
		   ]
		  },
  {
"cell_type": "code",
	   "execution_count": null,
	   "metadata": {
	    "collapsed": true
	   },
	   "outputs": [],
"source": [
"clc\n",
"pathname=get_absolute_file_path('11_3_1.sce')\n",
"filename=pathname+filesep()+'1131.sci'\n",
"exec(filename)\n",
"printf(' All the values in the textbook are Approximated hence the values in this code differ from those of Textbook')\n",
"MCv=(m1*Cv1 + m2*Cv2)*1000*4.184\n",
"disp(MCv)\n",
"tf=(T1-T2)*MCv/Qdot\n",
"printf(' \n Time required = %d in sec and %f in min',tf+1,tf/60)"
   ]
   }
],
"metadata": {
		  "kernelspec": {
		   "display_name": "Scilab",
		   "language": "scilab",
		   "name": "scilab"
		  },
		  "language_info": {
		   "file_extension": ".sce",
		   "help_links": [
			{
			 "text": "MetaKernel Magics",
			 "url": "https://github.com/calysto/metakernel/blob/master/metakernel/magics/README.md"
			}
		   ],
		   "mimetype": "text/x-octave",
		   "name": "scilab",
		   "version": "0.7.1"
		  }
		 },
		 "nbformat": 4,
		 "nbformat_minor": 0
}
