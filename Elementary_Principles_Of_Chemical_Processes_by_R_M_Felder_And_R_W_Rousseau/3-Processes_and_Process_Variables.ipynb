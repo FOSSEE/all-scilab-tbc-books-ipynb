{
"cells": [
 {
		   "cell_type": "markdown",
	   "metadata": {},
	   "source": [
       "# Chapter 3: Processes and Process Variables"
	   ]
	},
{
		   "cell_type": "markdown",
		   "metadata": {},
		   "source": [
			"## Example 3.1_1: chapter_3_example_1.sce"
		   ]
		  },
  {
"cell_type": "code",
	   "execution_count": null,
	   "metadata": {
	    "collapsed": true
	   },
	   "outputs": [],
"source": [
"clc\n",
"pathname=get_absolute_file_path('3_1_1.sce')\n",
"filename=pathname+filesep()+'311.sci'\n",
"exec(filename)\n",
"density=13.546*62.43\n",
"printf('density of mercury=%f lbm/ft^3',density);\n",
"//the multiplication factor is to convert density from gm/cc to lbm/ft^3.\n",
"volume=mass/(.454*density) ; //ft^3\n",
"//the division by 0.454 is to convert mass in kg to lbm.\n",
"printf(' \n The volume of %d kg of mercury is %f ft^3',mass,volume)"
   ]
   }
,
{
		   "cell_type": "markdown",
		   "metadata": {},
		   "source": [
			"## Example 3.1_2: chapter_3_example_2.sce"
		   ]
		  },
  {
"cell_type": "code",
	   "execution_count": null,
	   "metadata": {
	    "collapsed": true
	   },
	   "outputs": [],
"source": [
"clc\n",
"pathname=get_absolute_file_path('3_1_2.sce')\n",
"filename=pathname+filesep()+'312.sci'\n",
"exec(filename)\n",
"disp('we know that V(T)=Vo[1+0.18182x10^(-3)xT +0.0078x10^(-6)xTxT]')\n",
"Vat0=Vat20/(1+0.18182*10^(-3)*T1 +0.0078*10^(-6)*T1*T1)\n",
"//the function is defined with the variable as temperature\n",
"function[volume]=volume(T)\n",
"    volume=Vat0*(1+0.18182*10^(-3)*T +0.0078*10^(-6)*T*T);\n",
"endfunction\n",
"printf(' vat20=%f',volume(T1))\n",
"printf(' \n vat100=%f',volume(T2))\n",
"change=((volume(T2))-(volume(T1)))*4/(%pi*D*D)\n",
"printf(' \n change in the height of mercury level= %f ft',change)\n",
"//the answer is a bit different due to rounding off of volume(T2) in textbook"
   ]
   }
,
{
		   "cell_type": "markdown",
		   "metadata": {},
		   "source": [
			"## Example 3.3_1: chapter_3_example_3.sce"
		   ]
		  },
  {
"cell_type": "code",
	   "execution_count": null,
	   "metadata": {
	    "collapsed": true
	   },
	   "outputs": [],
"source": [
"clc\n",
"pathname=get_absolute_file_path('3_3_1.sce')\n",
"filename=pathname+filesep()+'331.sci'\n",
"exec(filename)\n",
"moles=mass/M\n",
"printf('\n no.of moles=%f',moles)\n",
"lbmole=moles/453.6\n",
"printf('\n no.of lb moles=%f',lbmole)\n",
"Cmoles=moles\n",
"printf('\n no.of moles of carbon=%f',Cmoles)\n",
"Omoles=2*moles\n",
"printf('\n no.of moles of oxygen=%f',Omoles)\n",
"O2moles=moles\n",
"printf('\n no.of moles of dioxygen=%f',O2moles)\n",
"gramsO=Omoles*16\n",
"printf('\n no.of grams of oxygen=%f',gramsO)\n",
"gramsO2=O2moles*32\n",
"printf('\n no.of grams of oxygen=%f',gramsO2)\n",
"moleculesCO2=moles*6.02*10^(23)\n",
"printf('\n no.of molecules of CO2 = %E',moleculesCO2)"
   ]
   }
,
{
		   "cell_type": "markdown",
		   "metadata": {},
		   "source": [
			"## Example 3.3_2: chapter_3_example_4.sce"
		   ]
		  },
  {
"cell_type": "code",
	   "execution_count": null,
	   "metadata": {
	    "collapsed": true
	   },
	   "outputs": [],
"source": [
"clc\n",
"pathname=get_absolute_file_path('3_3_2.sce')\n",
"filename=pathname+filesep()+'332.sci'\n",
"exec(filename)\n",
"massA=mass*xA\n",
"printf(' \n Mass of A in %d kg of solution = %f kg A',mass,massA)\n",
"flowrateA=flowrate1*xA\n",
"printf(' \n Mass flow rate of A in a stream flowing at %d lbm/h =%f lbm A/h',flowrate1,flowrateA)\n",
"flowrateB=flowrate2*yB\n",
"printf(' \n Molar flowrate of B in a stream flowing at %d mol/min = %f molB/min',flowrate2,flowrateB)\n",
"Totalflowrate=molarB/yB\n",
"printf(' \n Total flow rate of a solution with %d kmolB/s=%f',molarB,Totalflowrate)\n",
"MassSolution=massofA/xA\n",
"printf(' \n Mass of solution that contains %d lbm of A = %f',massofA,MassSolution)"
   ]
   }
,
{
		   "cell_type": "markdown",
		   "metadata": {},
		   "source": [
			"## Example 3.3_3: chapter_3_example_5.sce"
		   ]
		  },
  {
"cell_type": "code",
	   "execution_count": null,
	   "metadata": {
	    "collapsed": true
	   },
	   "outputs": [],
"source": [
"clc\n",
"pathname=get_absolute_file_path('3_3_3.sce')\n",
"filename=pathname+filesep()+'333.sci'\n",
"exec(filename)\n",
"molO2=massO2/MO2\n",
"molCO=massCO/MCO\n",
"molCO2=massCO2/MCO2\n",
"molN2=massN2/MN2\n",
"TotalMol=molO2+molCO+molCO2+molN2\n",
"printf(' \n molefraction of O2=%f',molO2/TotalMol)\n",
"printf(' \n molefraction of CO=%f',molCO/TotalMol)\n",
"printf(' \n molefraction of CO2=%f',molCO2/TotalMol)\n",
"printf(' \n molefraction of N2=%f',molN2/TotalMol)"
   ]
   }
,
{
		   "cell_type": "markdown",
		   "metadata": {},
		   "source": [
			"## Example 3.3_4: chapter_3_example_6.sce"
		   ]
		  },
  {
"cell_type": "code",
	   "execution_count": null,
	   "metadata": {
	    "collapsed": true
	   },
	   "outputs": [],
"source": [
"clc\n",
"pathname=get_absolute_file_path('3_3_4.sce')\n",
"filename=pathname+filesep()+'334.sci'\n",
"exec(filename)\n",
"Mbar=yN2*MN2+(1-yN2)*MO2\n",
"printf(' \n average molecular weight of air from molar composition=%f',Mbar)\n",
"InvMbar=xN2/28 + (1-xN2)/32\n",
"printf(' \n average molecular weight of air from mass composition=%f',1/InvMbar)"
   ]
   }
,
{
		   "cell_type": "markdown",
		   "metadata": {},
		   "source": [
			"## Example 3.3_5: chapter_3_example_7.sce"
		   ]
		  },
  {
"cell_type": "code",
	   "execution_count": null,
	   "metadata": {
	    "collapsed": true
	   },
	   "outputs": [],
"source": [
"clc\n",
"pathname=get_absolute_file_path('3_3_5.sce')\n",
"filename=pathname+filesep()+'335.sci'\n",
"exec(filename)\n",
"mass_conc=conc*98\n",
"printf('mass concentration of sulfuric acid=%f kg/m^3',mass_conc)\n",
"mass_flowrate=rate*mass_conc/60\n",
"printf(' \n Mass flow rate of sulfuric acid=%f kg/s',mass_flowrate)\n",
"massfraction=1/(rate*D*1000/60)\n",
"printf(' \n Mass fraction of sulfuric acid=%f',massfraction)"
   ]
   }
,
{
		   "cell_type": "markdown",
		   "metadata": {},
		   "source": [
			"## Example 3.4_1: chapter_3_example_8.sce"
		   ]
		  },
  {
"cell_type": "code",
	   "execution_count": null,
	   "metadata": {
	    "collapsed": true
	   },
	   "outputs": [],
"source": [
"clc\n",
"pathname=get_absolute_file_path('3_4_1.sce')\n",
"filename=pathname+filesep()+'3_4_1.sci'\n",
"exec(filename)\n",
"Pressure=Pressure*1000/(13600*9.807)\n",
"printf('Pressure =%E mm of Hg',Pressure)"
   ]
   }
,
{
		   "cell_type": "markdown",
		   "metadata": {},
		   "source": [
			"## Example 3.4_2: chapter_3_example_9.sce"
		   ]
		  },
  {
"cell_type": "code",
	   "execution_count": null,
	   "metadata": {
	    "collapsed": true
	   },
	   "outputs": [],
"source": [
"clc\n",
"pathname=get_absolute_file_path('3_4_2.sce')\n",
"filename=pathname+filesep()+'342.sci'\n",
"exec(filename)\n",
"Ph=P0+D*g*h\n",
"printf('Pressure at the bottom of the lake=%E N/m^2',Ph)"
   ]
   }
,
{
		   "cell_type": "markdown",
		   "metadata": {},
		   "source": [
			"## Example 3.5_2: chapter_3_example_10.sce"
		   ]
		  },
  {
"cell_type": "code",
	   "execution_count": null,
	   "metadata": {
	    "collapsed": true
	   },
	   "outputs": [],
"source": [
"clc\n",
"pathname=get_absolute_file_path('3_5_2.sce')\n",
"filename=pathname+filesep()+'352.sci'\n",
"exec(filename)\n",
"//In this code I used a function to achieve the conversion\n",
"function[centigrade]=conversion(fahrenheit)\n",
"    centigrade=(fahrenheit-32)/1.8\n",
"endfunction\n",
"difference=conversion(80)-conversion(20)\n",
"printf('Equivalent temperature of %d-%d temperature in C =%f',T2,T1,difference)\n",
"deltaTF=T2-T1\n",
"deltaTC=deltaTF/1.8\n",
"printf(' \n By second method, result=%f',deltaTC)"
   ]
   }
],
"metadata": {
		  "kernelspec": {
		   "display_name": "Scilab",
		   "language": "scilab",
		   "name": "scilab"
		  },
		  "language_info": {
		   "file_extension": ".sce",
		   "help_links": [
			{
			 "text": "MetaKernel Magics",
			 "url": "https://github.com/calysto/metakernel/blob/master/metakernel/magics/README.md"
			}
		   ],
		   "mimetype": "text/x-octave",
		   "name": "scilab",
		   "version": "0.7.1"
		  }
		 },
		 "nbformat": 4,
		 "nbformat_minor": 0
}
