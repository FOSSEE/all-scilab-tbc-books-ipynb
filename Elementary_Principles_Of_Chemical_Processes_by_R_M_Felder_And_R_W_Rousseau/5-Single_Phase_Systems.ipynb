{
"cells": [
 {
		   "cell_type": "markdown",
	   "metadata": {},
	   "source": [
       "# Chapter 5: Single Phase Systems"
	   ]
	},
{
		   "cell_type": "markdown",
		   "metadata": {},
		   "source": [
			"## Example 5.1_1: density_calculation.sce"
		   ]
		  },
  {
"cell_type": "code",
	   "execution_count": null,
	   "metadata": {
	    "collapsed": true
	   },
	   "outputs": [],
"source": [
"clc\n",
"pathname=get_absolute_file_path('5_1_1.sce')\n",
"filename=pathname+filesep()+'511.sci'\n",
"exec(filename)\n",
"invPbar=wtperct/Dwater + (1-wtperct)/Dsulfuric\n",
"printf('Density calculated using volume additvity=%f',1/invPbar)\n",
"Pbar=wtperct*Dwater + (1-wtperct)*Dsulfuric\n",
"printf(' \n Density calculated using mass additivity=%f',Pbar)"
   ]
   }
,
{
		   "cell_type": "markdown",
		   "metadata": {},
		   "source": [
			"## Example 5.2_1: ideal_gas_equatio.sce"
		   ]
		  },
  {
"cell_type": "code",
	   "execution_count": null,
	   "metadata": {
	    "collapsed": true
	   },
	   "outputs": [],
"source": [
"clc\n",
"pathname=get_absolute_file_path('5_2_1.sce')\n",
"filename=pathname+filesep()+'521.sci'\n",
"exec(filename)\n",
"n=weight/MN2 //mol\n",
"V=n*R*T*14.7/P //lt\n",
"printf('assuming ideal gas behaviour, volume=%f litres',V)\n",
"Vcap=V/n\n",
"if(Vcap>5)\n",
"    disp('ideal gas equation yields error less than 1 % for diatomic gas')\n",
"else\n",
"    disp('ideal gas equation yields error greater than 1 % for diatomic gases')\n",
"end"
   ]
   }
,
{
		   "cell_type": "markdown",
		   "metadata": {},
		   "source": [
			"## Example 5.2_2: volumetric_flow_rate.sce"
		   ]
		  },
  {
"cell_type": "code",
	   "execution_count": null,
	   "metadata": {
	    "collapsed": true
	   },
	   "outputs": [],
"source": [
"clc\n",
"pathname=get_absolute_file_path('5_2_2.sce')\n",
"filename=pathname+filesep()+'522.sci'\n",
"exec(filename)\n",
"ndot=Vdot/M //kmol/h\n",
"vdot=ndot*22.4*T/(273*P)\n",
"printf('The volumetric flow rate of the stream=%f m^3/h',vdot)"
   ]
   }
,
{
		   "cell_type": "markdown",
		   "metadata": {},
		   "source": [
			"## Example 5.2_3: volume_in_final_state.sce"
		   ]
		  },
  {
"cell_type": "code",
	   "execution_count": null,
	   "metadata": {
	    "collapsed": true
	   },
	   "outputs": [],
"source": [
"clc\n",
"pathname=get_absolute_file_path('5_2_3.sce')\n",
"filename=pathname+filesep()+'523.sci'\n",
"exec(filename)\n",
"V2=V1*P1*T2/(P2*T1)\n",
"printf('Volume in final state=%f ft^3',V2)"
   ]
   }
,
{
		   "cell_type": "markdown",
		   "metadata": {},
		   "source": [
			"## Example 5.2_4: true_volumetric_flowrate.sce"
		   ]
		  },
  {
"cell_type": "code",
	   "execution_count": null,
	   "metadata": {
	    "collapsed": true
	   },
	   "outputs": [],
"source": [
"clc\n",
"pathname=get_absolute_file_path('5_2_4.sce')\n",
"filename=pathname+filesep()+'524.sci'\n",
"exec(filename)\n",
"//SCFH means ft^3(STP)/h\n",
"ndot=3.95*10^5/359\n",
"printf(' Molar flowrate=%E lb-moles/hr',ndot)\n",
"V2dot=V1dot*T2*P1/(T1*P2)\n",
"printf(' \n True volumetric flowrate=%E ft^3/h',V2dot)"
   ]
   }
,
{
		   "cell_type": "markdown",
		   "metadata": {},
		   "source": [
			"## Example 5.2_5: chapter_5_example_6.sce"
		   ]
		  },
  {
"cell_type": "code",
	   "execution_count": null,
	   "metadata": {
	    "collapsed": true
	   },
	   "outputs": [],
"source": [
"clc\n",
"pathname=get_absolute_file_path('5_2_5.sce')\n",
"filename=pathname+filesep()+'525.sci'\n",
"exec(filename)\n",
"printf('All the values in the textbook are Approximated hence the values in this code differ from those of Textbook')\n",
"n2cap=flowinA*Dacetone/Macetone\n",
"printf(' \n Molar flowrate of Acetone=%f mol Acetone/min',n2cap)\n",
"P=Pfinal*760 + 763\n",
"y4=Pacetone/P\n",
"printf(' \n Mole fraction of Acetone in the final flow= %f mol Acetone/mol',y4)\n",
"printf(' \n Mole fraction of Nitrogen in the final flow= %f mol Nitrogen/mol',1-y4)\n",
"n3cap=flowinN/0.0224\n",
"n4cap=n2cap/y4\n",
"disp('By using Overall Molar balance,')\n",
"n1cap=n4cap-n2cap-n3cap\n",
"V1cap=n1cap*0.0224*T1*760/(1*273*P1)\n",
"printf('Volumetric Flowrate of Nitrogen = %f Nitrogen/min',V1cap)"
   ]
   }
,
{
		   "cell_type": "markdown",
		   "metadata": {},
		   "source": [
			"## Example 5.3_1: chapter_5_example_7.sce"
		   ]
		  },
  {
"cell_type": "code",
	   "execution_count": null,
	   "metadata": {
	    "collapsed": true
	   },
	   "outputs": [],
"source": [
"clc\n",
"pathname=get_absolute_file_path('5_3_1.sce')\n",
"filename=pathname+filesep()+'531.sci'\n",
"exec(filename)\n",
"printf('All the values in the textbook are Approximated hence the values in this code differ from those of Textbook')\n",
"Pideal=0.08206*T/Vcap\n",
"printf(' \n The value of pressure as per Ideal gas equation = %f atm',Pideal)\n",
"Tr=T/Tc\n",
"B0=0.083 - (0.422/(Tr)^1.6)\n",
"B1=0.139 - (0.172/(Tr)^4.2)\n",
"B=0.08206*Tc*(B0+w*B1)/Pc\n",
"Pvirial=0.08206*T*(1+ B/Vcap)/Vcap\n",
"printf('\n The value of pressure as per Virial gas equation = %f atm',Pvirial)\n",
"e=(Pideal-Pvirial)*100/Pvirial\n",
"printf(' \n Percentage error due to Ideal gas Equation = %f',e)"
   ]
   }
,
{
		   "cell_type": "markdown",
		   "metadata": {},
		   "source": [
			"## Example 5.3_2: chapter_5_example_8.sce"
		   ]
		  },
  {
"cell_type": "code",
	   "execution_count": null,
	   "metadata": {
	    "collapsed": true
	   },
	   "outputs": [],
"source": [
"clc\n",
"pathname=get_absolute_file_path('5_3_2.sce')\n",
"filename=pathname+filesep()+'532.sci'\n",
"exec(filename)\n",
"printf('All the values in the textbook are Approximated hence the values in this code differ from those of Textbook')\n",
"Vcap=V/n\n",
"a=0.42747*(R*Tc)^2 /Pc\n",
"b=0.08664*R*Tc/Pc\n",
"m=0.48508+ 1.5171*w -0.1561*w*w\n",
"Tr=T/Tc\n",
"alpha=(1+ m*(1-sqrt(Tr)))^2\n",
"P=(R*T/(Vcap-b))-(alpha*a/(Vcap*(Vcap+b)))\n",
"printf(' \n Pressure of gas calculated using SRK equation= %f atm',P)"
   ]
   }
,
{
		   "cell_type": "markdown",
		   "metadata": {},
		   "source": [
			"## Example 5.4_1: chapter_5_example_9.sce"
		   ]
		  },
  {
"cell_type": "code",
	   "execution_count": null,
	   "metadata": {
	    "collapsed": true
	   },
	   "outputs": [],
"source": [
"clc\n",
"pathname=get_absolute_file_path('5_4_1.sce')\n",
"filename=pathname+filesep()+'541.sci'\n",
"exec(filename)\n",
"printf('All the values in the textbook are Approximated hence the values in this code differ from those of Textbook')\n",
"z=0.934\n",
"printf(' \n From the Table, z= %f',z)\n",
"ncap=P*Vcap*101.325/(z*R*T*1.01325)\n",
"mcap=ncap*M\n",
"printf(' \n Mass flow rate of Methane = %f Kg/hr',mcap)"
   ]
   }
,
{
		   "cell_type": "markdown",
		   "metadata": {},
		   "source": [
			"## Example 5.4_2: chapter_5_example_10.sce"
		   ]
		  },
  {
"cell_type": "code",
	   "execution_count": null,
	   "metadata": {
	    "collapsed": true
	   },
	   "outputs": [],
"source": [
"clc\n",
"pathname=get_absolute_file_path('5_4_2.sce')\n",
"filename=pathname+filesep()+'542.sci'\n",
"exec(filename)\n",
"printf('All the values in the textbook are Approximated hence the values in this code differ from those of Textbook')\n",
"Tr=T/Tc\n",
"Pr=P/Pc\n",
"Vrideal=V*Pc/(n*R*Tc)\n",
"printf(' \n Tr= %f',Tr)\n",
"printf(' \n Pr= %f',Pr)\n",
"printf('\n Vrideal=%f',Vrideal)\n",
"z=1.77\n",
"printf('\n From the graphs, z=%f',z)\n",
"P=z*R*T*n/V\n",
"printf(' \n Pressure in the cylinder = %f atm',P)"
   ]
   }
,
{
		   "cell_type": "markdown",
		   "metadata": {},
		   "source": [
			"## Example 5.4_3: chapter_5_example_11.sce"
		   ]
		  },
  {
"cell_type": "code",
	   "execution_count": null,
	   "metadata": {
	    "collapsed": true
	   },
	   "outputs": [],
"source": [
"clc\n",
"pathname=get_absolute_file_path('5_4_3.sce')\n",
"filename=pathname+filesep()+'543.sci'\n",
"exec(filename)\n",
"printf('All the values in the textbook are Approximated hence the values in this code differ from those of Textbook')\n",
"disp('Applying newton corrections for Hydrogen,')\n",
"TcaH2=TcH2+8\n",
"PcaH2=PcH2+8\n",
"Tcbar=yH2*TcaH2 + yN2*TcN2\n",
"Pcbar=yH2*PcaH2 + yN2*PcN2\n",
"Trbar=T/Tcbar\n",
"Prbar=P/Pcbar\n",
"printf(' \n Trbar=%f',Trbar)\n",
"printf(' \n Pcbar=%f',Pcbar)\n",
"Zm=1.86\n",
"printf(' \n From the graph, Zm=%f',Zm)\n",
"Vcap=Zm*R*T/P\n",
"printf(' \n Specific Volume of Mixture= %f L/mol',Vcap)"
   ]
   }
],
"metadata": {
		  "kernelspec": {
		   "display_name": "Scilab",
		   "language": "scilab",
		   "name": "scilab"
		  },
		  "language_info": {
		   "file_extension": ".sce",
		   "help_links": [
			{
			 "text": "MetaKernel Magics",
			 "url": "https://github.com/calysto/metakernel/blob/master/metakernel/magics/README.md"
			}
		   ],
		   "mimetype": "text/x-octave",
		   "name": "scilab",
		   "version": "0.7.1"
		  }
		 },
		 "nbformat": 4,
		 "nbformat_minor": 0
}
