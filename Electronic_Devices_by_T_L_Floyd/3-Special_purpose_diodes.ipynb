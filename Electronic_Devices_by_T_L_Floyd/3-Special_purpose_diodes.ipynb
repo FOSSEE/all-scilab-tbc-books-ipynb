{
"cells": [
 {
		   "cell_type": "markdown",
	   "metadata": {},
	   "source": [
       "# Chapter 3: Special purpose diodes"
	   ]
	},
{
		   "cell_type": "markdown",
		   "metadata": {},
		   "source": [
			"## Example 3.1: Zener_impedance.sce"
		   ]
		  },
  {
"cell_type": "code",
	   "execution_count": null,
	   "metadata": {
	    "collapsed": true
	   },
	   "outputs": [],
"source": [
"//ex3.1\n",
"del_V_Z=50*10^-3;    //in volts, from graph\n",
"del_I_Z=5*10^-3;    //in amperes, from rgraph\n",
"Z_Z=del_V_Z/del_I_Z;\n",
"disp(Z_Z,'zener impedance in ohms')"
   ]
   }
,
{
		   "cell_type": "markdown",
		   "metadata": {},
		   "source": [
			"## Example 3.2: Zener_Voltage.sce"
		   ]
		  },
  {
"cell_type": "code",
	   "execution_count": null,
	   "metadata": {
	    "collapsed": true
	   },
	   "outputs": [],
"source": [
"//ex3.2\n",
"I_ZT=37*10^-3;    //IN AMPERES\n",
"V_ZT=6.8;    //IN VOLTS\n",
"Z_ZT=3.5;    //IN OHMS\n",
"I_Z=50*10^-3;    //IN AMPERES\n",
"DEL_I_Z=I_Z-I_ZT;\n",
"DEL_V_Z=DEL_I_Z*Z_ZT;\n",
"V_Z=V_ZT+DEL_V_Z;\n",
"disp(V_Z,'voltage across zener terminals (in volts) when current is 50 mA')\n",
"I_Z=25*10^-3;    //IN AMPERES\n",
"DEL_I_Z=I_Z-I_ZT;\n",
"DEL_V_Z=DEL_I_Z*Z_ZT;\n",
"V_Z=V_ZT+DEL_V_Z;\n",
"disp(V_Z,'voltage across zener terminals (in volts) when current is 25 mA')\n",
""
   ]
   }
,
{
		   "cell_type": "markdown",
		   "metadata": {},
		   "source": [
			"## Example 3.3: Temperature_coefficient.sce"
		   ]
		  },
  {
"cell_type": "code",
	   "execution_count": null,
	   "metadata": {
	    "collapsed": true
	   },
	   "outputs": [],
"source": [
"//ex3.3\n",
"V_Z=8.2;    //8.2 volt zener diode\n",
"TC=0.0005;    //Temperature coefficient (per degree celsius)\n",
"T1=60;    //Temperatures in celsius\n",
"T2=25;\n",
"DEL_T=T1-T2;\n",
"del_V_Z=V_Z*TC*DEL_T;\n",
"voltage=V_Z+del_V_Z;\n",
"disp(voltage,'zener voltage at 60 degree celsius')"
   ]
   }
,
{
		   "cell_type": "markdown",
		   "metadata": {},
		   "source": [
			"## Example 3.4: Zener_power_dissipation.sce"
		   ]
		  },
  {
"cell_type": "code",
	   "execution_count": null,
	   "metadata": {
	    "collapsed": true
	   },
	   "outputs": [],
"source": [
"//ex3.4\n",
"P_D_max=400*10^-3;    //power in watts\n",
"df=3.2*10^-3    //derating factor in watts per celsius\n",
"del_T=(90-50);    //in celsius, temperature difference\n",
"P_D_derated=P_D_max-df*del_T;\n",
"disp(P_D_derated,'maximum power dissipated at 90 degree celsius')"
   ]
   }
,
{
		   "cell_type": "markdown",
		   "metadata": {},
		   "source": [
			"## Example 3.5: Zener_voltage_regulator.sce"
		   ]
		  },
  {
"cell_type": "code",
	   "execution_count": null,
	   "metadata": {
	    "collapsed": true
	   },
	   "outputs": [],
"source": [
"//ex3.5\n",
"V_Z=5.1;\n",
"I_ZT=49*10^-3;\n",
"I_ZK=1*10^-3;\n",
"Z_Z=7;\n",
"R=100;\n",
"P_D_max=1;\n",
"//At I_ZK, output voltage\n",
"V_out=V_Z-(I_ZT-I_ZK)*Z_Z;\n",
"V_IN_min=I_ZK*R+V_out;\n",
"I_ZM=P_D_max/V_Z;\n",
"//at I_ZM, output voltage\n",
"V_out=V_Z+(I_ZM-I_ZT)*Z_Z;\n",
"V_IN_max=I_ZM*R+V_out;\n",
"disp(V_IN_max,'maximum input voltage in volts that can be regulated by the zener diode')\n",
"disp(V_IN_min,'minimum input voltage in volts that can be regulated by the zener diode')"
   ]
   }
,
{
		   "cell_type": "markdown",
		   "metadata": {},
		   "source": [
			"## Example 3.6: Regulation_Variable_load.sce"
		   ]
		  },
  {
"cell_type": "code",
	   "execution_count": null,
	   "metadata": {
	    "collapsed": true
	   },
	   "outputs": [],
"source": [
"//ex3.6\n",
"V_Z=12;\n",
"V_IN=24;\n",
"I_ZK=1*10^-3;\n",
"I_ZM=50*10^-3;\n",
"Z_Z=0;\n",
"R=470;\n",
"//when I_L=0, I_Z is max and is equal to the total circuit current I_T\n",
"I_T=(V_IN-V_Z)/R;\n",
"I_Z_max=I_T;\n",
"if I_Z_max<I_ZM then\n",
"    I_L_min=0;\n",
"end\n",
"I_L_max=I_T-I_ZK;\n",
"R_L_min=V_Z/I_L_max;\n",
"disp(R_L_min,'minimum value of load resistance in ohms')\n",
"disp(I_L_min,'minimum curent in amperes')\n",
"disp(I_L_max,'maximum curent in amperes')"
   ]
   }
,
{
		   "cell_type": "markdown",
		   "metadata": {},
		   "source": [
			"## Example 3.7: Zener_regulation.sce"
		   ]
		  },
  {
"cell_type": "code",
	   "execution_count": null,
	   "metadata": {
	    "collapsed": true
	   },
	   "outputs": [],
"source": [
"//ex3.7\n",
"V_IN=24;\n",
"V_Z=15;\n",
"I_ZK=0.25*10^-3;\n",
"I_ZT=17*10^-3;\n",
"Z_ZT=14;\n",
"P_D_max=1;\n",
"//output voltage at I_ZK\n",
"V_out_1=V_Z-(I_ZT-I_ZK)*Z_ZT;\n",
"disp(V_out_1,'output voltage in volts at I_ZK')\n",
"I_ZM=P_D_max/V_Z;\n",
"//output voltage at I_ZM\n",
"V_out_2=V_Z+(I_ZM-I_ZT)*Z_ZT;\n",
"disp(V_out_2,'output voltage in volts a I_ZM')\n",
"R=(V_IN-V_out_2)/I_ZM;\n",
"disp(R,'value of R in ohms for maximum zener current, no load')\n",
"disp('closest practical value is 130 ohms')\n",
"R=130;\n",
"//for minimum load resistance(max load current) zener current is minimum (I_ZK)\n",
"I_T=(V_IN-V_out_1)/R;\n",
"I_L=I_T-I_ZK;\n",
"R_L_min=V_out_1/I_L;\n",
"disp(R_L_min,'minimum load resistance in ohms')"
   ]
   }
,
{
		   "cell_type": "markdown",
		   "metadata": {},
		   "source": [
			"## Example 3.8: Zener_limiting.sce"
		   ]
		  },
  {
"cell_type": "code",
	   "execution_count": null,
	   "metadata": {
	    "collapsed": true
	   },
	   "outputs": [],
"source": [
"//Ex3.8\n",
"//let input wave be V_in=V_p_in*sin(2*%pi*f*t) \n",
"f=1;    //Frequency is 1Hz\n",
"T=1/f;\n",
"V_p_in=10;    //Peak input voltage\n",
"V_th=0.7;    //forward biased zener\n",
"V_Z1=5.1;\n",
"V_Z2=3.3;\n",
"clf();\n",
"subplot(121)\n",
"//let n be double the number of cycles of output shown in graph\n",
"for n=0:1:4\n",
"    t=T.*n/2:0.0005:T.*(n+1)/2    //time for each half cycle\n",
"    V_in=V_p_in*sin(2*%pi*f.*t);\n",
"    Vout=V_in;\n",
"    if modulo(n,2)==0 then    //positive half, conducts till V_in=5.8V\n",
"        a=bool2s(Vout<(V_Z1+V_th));    \n",
"        b=bool2s(Vout>(V_Z1+V_th));    \n",
"        y=a.*Vout+(V_Z1+V_th)*b;    //output follows input till 5.8V then is constant at 5.8V\n",
"    else                    //negative half, conducts till V_in=-4V\n",
"        a=bool2s(Vout<-(V_Z2+V_th));    \n",
"        b=bool2s(Vout>-(V_Z2+V_th));\n",
"        y=-(V_Z2+V_th)*a+b.*Vout;    //output follows input till -4V then stays constant at -4V\n",
"    end\n",
"        plot(t,y)\n",
"    end\n",
"xtitle('zener limiting circuit-1')\n",
"disp((V_Z1+V_th),'max voltage in volts')\n",
"disp(-(V_Z2+V_th),'min voltage in volts')\n",
"subplot(122)\n",
"xtitle('zener limiting circuit-2')\n",
"V_p_in=20;\n",
"V_Z1=6.2;\n",
"V_Z2=15;\n",
"//let n be double the number of cycles of output shown in graph\n",
"for n=0:1:4\n",
"    t=T.*n/2:0.0005:T.*(n+1)/2    //time for each half cycle\n",
"    V_in=V_p_in*sin(2*%pi*f.*t);\n",
"    Vout=V_in;\n",
"    if modulo(n,2)==0 then    //positive half, conducts till V_in=6.9V\n",
"        a=bool2s(Vout<(V_Z1+V_th));    \n",
"        b=bool2s(Vout>(V_Z1+V_th));    \n",
"        y=a.*Vout+(V_Z1+V_th)*b;    //output follows input till 6.9V then is constant at 6.9V\n",
"    else                    //negative half, conducts till V_in=-15.7V\n",
"        a=bool2s(Vout<-(V_Z2+V_th));    \n",
"        b=bool2s(Vout>-(V_Z2+V_th));\n",
"        y=-(V_Z2+V_th)*a+b.*Vout;    //output follows input till -15.7V then stays constant at -15.7V\n",
"    end\n",
"        plot(t,y)\n",
"    end\n",
"    disp((V_Z1+V_th),'max voltage in volts')\n",
"disp(-(V_Z2+V_th),'min voltage in volts')"
   ]
   }
],
"metadata": {
		  "kernelspec": {
		   "display_name": "Scilab",
		   "language": "scilab",
		   "name": "scilab"
		  },
		  "language_info": {
		   "file_extension": ".sce",
		   "help_links": [
			{
			 "text": "MetaKernel Magics",
			 "url": "https://github.com/calysto/metakernel/blob/master/metakernel/magics/README.md"
			}
		   ],
		   "mimetype": "text/x-octave",
		   "name": "scilab",
		   "version": "0.7.1"
		  }
		 },
		 "nbformat": 4,
		 "nbformat_minor": 0
}
