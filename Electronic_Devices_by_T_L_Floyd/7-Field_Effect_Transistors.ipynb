{
"cells": [
 {
		   "cell_type": "markdown",
	   "metadata": {},
	   "source": [
       "# Chapter 7: Field Effect Transistors"
	   ]
	},
{
		   "cell_type": "markdown",
		   "metadata": {},
		   "source": [
			"## Example 7.10: Graphical_analysis.sce"
		   ]
		  },
  {
"cell_type": "code",
	   "execution_count": null,
	   "metadata": {
	    "collapsed": true
	   },
	   "outputs": [],
"source": [
"//ex7.10\n",
"R_S=680;\n",
"I_D=0;\n",
"V_GS=I_D*R_S;    //FOR I_D=0A\n",
"disp(V_GS,'V_GS in Volts, at I_D=0A')\n",
"I_DSS=4*10^-3;\n",
"I_D=I_DSS;\n",
"V_GS=I_D*R_S;    //FOR I_D=4mA\n",
"disp(V_GS,'V_GS in Volts, at I_D=4mA')\n",
"disp('Plotting load line using the values of V_GS at I_D=0 and 4mA, we find the intersection of load line with transfer characteristic to get Q-point values of V_GS=-1.5V and I_D=2.25mA')"
   ]
   }
,
{
		   "cell_type": "markdown",
		   "metadata": {},
		   "source": [
			"## Example 7.11: Voltage_Divider_bias.sce"
		   ]
		  },
  {
"cell_type": "code",
	   "execution_count": null,
	   "metadata": {
	    "collapsed": true
	   },
	   "outputs": [],
"source": [
"//ex7.11\n",
"V_DD=12;\n",
"V_D=7;\n",
"R_D=3.3*10^3;\n",
"R_S=2.2*10^3;\n",
"R_1=6.8*10^6;\n",
"R_2=1*10^6;\n",
"I_D=(V_DD-V_D)/R_D;\n",
"V_S=I_D*R_S;\n",
"V_G=(R_2/(R_1+R_2))*V_DD;\n",
"V_GS=V_G-V_S;\n",
"disp(I_D,'Drain current in amperes')\n",
"disp(V_GS,'Gate to source voltage in volts')"
   ]
   }
,
{
		   "cell_type": "markdown",
		   "metadata": {},
		   "source": [
			"## Example 7.12: Graph_voltage_divider.sce"
		   ]
		  },
  {
"cell_type": "code",
	   "execution_count": null,
	   "metadata": {
	    "collapsed": true
	   },
	   "outputs": [],
"source": [
"//ex7.12\n",
"R_1=2.2*10^6;\n",
"R_2=R_1;\n",
"V_DD=8;\n",
"R_S=3.3*10^3;\n",
"V_GS=(R_2/(R_1+R_2))*V_DD;    //FOR I_D=0A\n",
"V_G=V_GS;\n",
"disp(V_GS,'V_GS in Volts, at I_D=0A')\n",
"I_D=(V_G-0)/R_S;    //FOR V_GS=0V\n",
"disp(I_D,'I_D in Amperes,at V_GS=0V')\n",
"disp('Plotting load line using the value of V_GS=4V at I_D=0 and I_D=1.2mA at V_GS=0V, we find the intersection of load line with transfer characteristic to get Q-point values of V_GS=-1.8V and I_D=1.8mA')"
   ]
   }
,
{
		   "cell_type": "markdown",
		   "metadata": {},
		   "source": [
			"## Example 7.13: DMOSFET.sce"
		   ]
		  },
  {
"cell_type": "code",
	   "execution_count": null,
	   "metadata": {
	    "collapsed": true
	   },
	   "outputs": [],
"source": [
"//ex7.13\n",
"I_DSS=10*10^-3;\n",
"V_GS_off=-8;\n",
"V_GS=-3;\n",
"I_D=value_of_I_D(10*10^-3,-3,-8)\n",
"disp(I_D,'Drain current when V_GS=-3V in Amperes')\n",
"V_GS=3;\n",
"I_D=value_of_I_D(10*10^-3,3,-8)\n",
"disp(I_D,'Drain current when V_GS=3V in Amperes')"
   ]
   }
,
{
		   "cell_type": "markdown",
		   "metadata": {},
		   "source": [
			"## Example 7.14: EMOSFET.sce"
		   ]
		  },
  {
"cell_type": "code",
	   "execution_count": null,
	   "metadata": {
	    "collapsed": true
	   },
	   "outputs": [],
"source": [
"//EX7.14\n",
"I_D_on=500*10^-3;\n",
"V_GS=10;\n",
"V_GS_th=1;\n",
"K=value_of_K(500*10^-3,10,1)\n",
"V_GS=5;\n",
"I_D=K*(V_GS-V_GS_th)^2;\n",
"disp(I_D,'Drain current')"
   ]
   }
,
{
		   "cell_type": "markdown",
		   "metadata": {},
		   "source": [
			"## Example 7.15: DMOSFET_bias.sce"
		   ]
		  },
  {
"cell_type": "code",
	   "execution_count": null,
	   "metadata": {
	    "collapsed": true
	   },
	   "outputs": [],
"source": [
"//ex7.15\n",
"I_DSS=12*10^-3;\n",
"V_DD=18;\n",
"R_D=620;\n",
"I_D=I_DSS;\n",
"V_DS=V_DD-I_D*R_D;\n",
"disp(V_DS,'Drain to sorce voltage in volts')"
   ]
   }
,
{
		   "cell_type": "markdown",
		   "metadata": {},
		   "source": [
			"## Example 7.16: EMOSFET_bias.sce"
		   ]
		  },
  {
"cell_type": "code",
	   "execution_count": null,
	   "metadata": {
	    "collapsed": true
	   },
	   "outputs": [],
"source": [
"//ex7.16\n",
"I_D_on=200*10^-3;\n",
"V_DD=24;\n",
"R_D=200;\n",
"V_GS=4;\n",
"V_GS_th=2;\n",
"R_1=100*10^3;\n",
"R_2=15*10^3;\n",
"K=value_of_K(200*10^-3,4,2)\n",
"V_GS=(R_2/(R_1+R_2))*V_DD;\n",
"I_D=K*(V_GS-V_GS_th)^2;\n",
"V_DS=V_DD-I_D*R_D;\n",
"disp(V_DS,'Drain to Source voltage in Volts')\n",
"disp(V_GS,'Gate to Source voltage in Volts')"
   ]
   }
,
{
		   "cell_type": "markdown",
		   "metadata": {},
		   "source": [
			"## Example 7.17: EMOSFET_drain_current.sce"
		   ]
		  },
  {
"cell_type": "code",
	   "execution_count": null,
	   "metadata": {
	    "collapsed": true
	   },
	   "outputs": [],
"source": [
"//EX7.17\n",
"V_GS_on=3;\n",
"V_GS=8.5;    //DISPLAYED ON METER\n",
"V_DS=V_GS;\n",
"V_DD=15;\n",
"R_D=4.7*10^3;\n",
"I_D=(V_DD-V_DS)/R_D;\n",
"disp(I_D,'Drain current in Amperes')"
   ]
   }
,
{
		   "cell_type": "markdown",
		   "metadata": {},
		   "source": [
			"## Example 7.1: cutoff_FET.sce"
		   ]
		  },
  {
"cell_type": "code",
	   "execution_count": null,
	   "metadata": {
	    "collapsed": true
	   },
	   "outputs": [],
"source": [
"//ex7.1\n",
"V_GS_off=-4;\n",
"I_DSS=12*10^-3;\n",
"R_D=560;\n",
"V_P=-1*V_GS_off;\n",
"V_DS=V_P;\n",
"I_D=I_DSS;\n",
"V_R_D=I_D*R_D;    //voltage across resistor\n",
"V_DD=V_DS+V_R_D;\n",
"disp(V_DD,'The value of V_DD required to put the device in the constant current area of operation of JFET')"
   ]
   }
,
{
		   "cell_type": "markdown",
		   "metadata": {},
		   "source": [
			"## Example 7.2: Drain_current.sce"
		   ]
		  },
  {
"cell_type": "code",
	   "execution_count": null,
	   "metadata": {
	    "collapsed": true
	   },
	   "outputs": [],
"source": [
"//ex7.2\n",
"disp('The p-channel JFET requires a positive gate to source voltage. The more positive the voltage, the lesser the drain current. Any further increase in V_GS keeps the JFET cut off, so I_D remains 0')"
   ]
   }
,
{
		   "cell_type": "markdown",
		   "metadata": {},
		   "source": [
			"## Example 7.3: JFET_current_voltage.sce"
		   ]
		  },
  {
"cell_type": "code",
	   "execution_count": null,
	   "metadata": {
	    "collapsed": true
	   },
	   "outputs": [],
"source": [
"//ex7.3\n",
"I_DSS=9*10^-3;\n",
"V_GS_off=-8;\n",
"V_GS=0;\n",
"I_D=value_of_I_D(9*10^-3,0,-8);\n",
"disp(I_D,'Value of I_D for V_GS=0V')\n",
"I_D=value_of_I_D(9*10^-3,-1,-8);\n",
"disp(I_D,'Value of I_D for V_GS=-1V')\n",
"I_D=value_of_I_D(9*10^-3,-4,-8);\n",
"disp(I_D,'Value of I_D for V_GS=-4V')"
   ]
   }
,
{
		   "cell_type": "markdown",
		   "metadata": {},
		   "source": [
			"## Example 7.4: JFET_transconductance.sce"
		   ]
		  },
  {
"cell_type": "code",
	   "execution_count": null,
	   "metadata": {
	    "collapsed": true
	   },
	   "outputs": [],
"source": [
"//ex7.4\n",
"I_DSS=3*10^-3;\n",
"V_GS_off=-6;\n",
"y_fs_max=5000*10^-6;\n",
"V_GS=-4;\n",
"g_m0=y_fs_max;\n",
"g_m=g_m0*(1-(V_GS/V_GS_off));\n",
"I_D=value_of_I_D(3*10^-3,-4,-6)\n",
"disp(g_m,'forward transconductance in Siemens')\n",
"disp(I_D,'value of I D in amperes')"
   ]
   }
,
{
		   "cell_type": "markdown",
		   "metadata": {},
		   "source": [
			"## Example 7.5: JFET_input_resistance.sce"
		   ]
		  },
  {
"cell_type": "code",
	   "execution_count": null,
	   "metadata": {
	    "collapsed": true
	   },
	   "outputs": [],
"source": [
"V_GS=-20;\n",
"I_GSS=-2*10^-9;\n",
"R_IN=abs((-20/(2*10^-9)))\n",
"disp(R_IN,'Input Resistance in Ohms')"
   ]
   }
,
{
		   "cell_type": "markdown",
		   "metadata": {},
		   "source": [
			"## Example 7.6: Self_bias.sce"
		   ]
		  },
  {
"cell_type": "code",
	   "execution_count": null,
	   "metadata": {
	    "collapsed": true
	   },
	   "outputs": [],
"source": [
"//ex7.5\n",
"V_DD=15;\n",
"V_G=0;\n",
"I_D=5*10^-3;\n",
"R_D=1*10^3;\n",
"R_G=10*10^6;\n",
"R_S=220;\n",
"V_S=I_D*R_S;\n",
"V_D=V_DD-I_D*R_D;\n",
"V_DS=V_D-V_S;\n",
"V_GS=V_G-V_S;\n",
"disp(V_DS,'Drain to source voltage in volts');\n",
"disp(V_GS,'Gate to source voltage in volts');"
   ]
   }
,
{
		   "cell_type": "markdown",
		   "metadata": {},
		   "source": [
			"## Example 7.7: Q_point_JFET.sce"
		   ]
		  },
  {
"cell_type": "code",
	   "execution_count": null,
	   "metadata": {
	    "collapsed": true
	   },
	   "outputs": [],
"source": [
"//ex7.6\n",
"I_D=6.25*10^-3;\n",
"V_GS=-5;\n",
"R_G=abs((V_GS/I_D))\n",
"disp(R_G,'Gate resistance in Ohms')"
   ]
   }
,
{
		   "cell_type": "markdown",
		   "metadata": {},
		   "source": [
			"## Example 7.8: Self_bias_Q_point.sce"
		   ]
		  },
  {
"cell_type": "code",
	   "execution_count": null,
	   "metadata": {
	    "collapsed": true
	   },
	   "outputs": [],
"source": [
"//EX7.8\n",
"I_DSS=25*10^-3;\n",
"V_GS_off=15;\n",
"V_GS=5;\n",
"I_D=value_of_I_D(25*10^-3,5,15)\n",
"R_S=abs((V_GS/I_D))\n",
"disp(I_D,'Drain current in Amperes')\n",
"disp(R_S,'Source resistance in Ohms')"
   ]
   }
,
{
		   "cell_type": "markdown",
		   "metadata": {},
		   "source": [
			"## Example 7.9: Midpoint_bias.sce"
		   ]
		  },
  {
"cell_type": "code",
	   "execution_count": null,
	   "metadata": {
	    "collapsed": true
	   },
	   "outputs": [],
"source": [
"//ex7.9\n",
"I_DSS=12*10^-3;\n",
"V_GS_off=-3;\n",
"V_DD=12;\n",
"V_D=6;\n",
"I_D=I_DSS/2;    //MIDPOINT BIAS\n",
"V_GS=V_GS_off/3.4;    //MIDPOINT BIAS\n",
"R_S=abs((V_GS/I_D))\n",
"R_D=(V_DD-V_D)/I_D\n",
"disp(R_S,'Source Resistance in Ohms')\n",
"disp(R_D,'Drain Resistance in Ohms')"
   ]
   }
],
"metadata": {
		  "kernelspec": {
		   "display_name": "Scilab",
		   "language": "scilab",
		   "name": "scilab"
		  },
		  "language_info": {
		   "file_extension": ".sce",
		   "help_links": [
			{
			 "text": "MetaKernel Magics",
			 "url": "https://github.com/calysto/metakernel/blob/master/metakernel/magics/README.md"
			}
		   ],
		   "mimetype": "text/x-octave",
		   "name": "scilab",
		   "version": "0.7.1"
		  }
		 },
		 "nbformat": 4,
		 "nbformat_minor": 0
}
