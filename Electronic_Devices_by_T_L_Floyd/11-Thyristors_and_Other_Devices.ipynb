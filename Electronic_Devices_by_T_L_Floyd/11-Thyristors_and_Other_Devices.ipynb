{
"cells": [
 {
		   "cell_type": "markdown",
	   "metadata": {},
	   "source": [
       "# Chapter 11: Thyristors and Other Devices"
	   ]
	},
{
		   "cell_type": "markdown",
		   "metadata": {},
		   "source": [
			"## Example 11.1: Four_layer_diode.sce"
		   ]
		  },
  {
"cell_type": "code",
	   "execution_count": null,
	   "metadata": {
	    "collapsed": true
	   },
	   "outputs": [],
"source": [
"//ex11.1\n",
"V_AK=20;    //VOLTAGE ACROSS ANODE\n",
"I_A=1*10^-6;\n",
"R_AK=V_AK/I_A;\n",
"disp(R_AK,'RESISTANCE IN OHMS')"
   ]
   }
,
{
		   "cell_type": "markdown",
		   "metadata": {},
		   "source": [
			"## Example 11.2: Anode_current.sce"
		   ]
		  },
  {
"cell_type": "code",
	   "execution_count": null,
	   "metadata": {
	    "collapsed": true
	   },
	   "outputs": [],
"source": [
"//ex11.2\n",
"R_S=10^3;\n",
"V_BIAS=110;\n",
"V_BE=0.7;\n",
"V_CE_sat=0.1;\n",
"V_A=V_BE+V_CE_sat;    //VOLTAGE ACROSS ANODE\n",
"V_R_s=V_BIAS-V_A;    //VOLTAGE ACROSS R_S\n",
"I_A=V_R_s/R_S;\n",
"disp(I_A,'Anode current in amperes')"
   ]
   }
,
{
		   "cell_type": "markdown",
		   "metadata": {},
		   "source": [
			"## Example 11.3: Unijunction_transistor.sce"
		   ]
		  },
  {
"cell_type": "code",
	   "execution_count": null,
	   "metadata": {
	    "collapsed": true
	   },
	   "outputs": [],
"source": [
"//ex11.3\n",
"n=0.6;\n",
"V_BB=20;\n",
"V_pn=0.7;\n",
"V_P=n*V_BB+V_pn;\n",
"disp(V_P,'peak point emitter voltage in volts')"
   ]
   }
,
{
		   "cell_type": "markdown",
		   "metadata": {},
		   "source": [
			"## Example 11.4: turn_on_off_UJT.sce"
		   ]
		  },
  {
"cell_type": "code",
	   "execution_count": null,
	   "metadata": {
	    "collapsed": true
	   },
	   "outputs": [],
"source": [
"//ex11.4\n",
"V_BB=30;\n",
"V_P=14;\n",
"I_P=20*10^-6;\n",
"V_V=1;\n",
"I_V=10*10^-3;\n",
"x=(V_BB-V_P)/I_P;\n",
"y=(V_BB-V_V)/I_V;\n",
"disp('ohms',x,'R1 should be less than',)\n",
"disp('ohms',y,'R1 should be more than')"
   ]
   }
,
{
		   "cell_type": "markdown",
		   "metadata": {},
		   "source": [
			"## Example 11.5: Critical_angle.sce"
		   ]
		  },
  {
"cell_type": "code",
	   "execution_count": null,
	   "metadata": {
	    "collapsed": true
	   },
	   "outputs": [],
"source": [
"//ex11.5\n",
"n2=1.3;    //cladding index\n",
"n1=1.35;    //core index\n",
"theta=acos(n2/n1);\n",
"t=theta*180/%pi;\n",
"disp(t,'critical angle in degrees')"
   ]
   }
],
"metadata": {
		  "kernelspec": {
		   "display_name": "Scilab",
		   "language": "scilab",
		   "name": "scilab"
		  },
		  "language_info": {
		   "file_extension": ".sce",
		   "help_links": [
			{
			 "text": "MetaKernel Magics",
			 "url": "https://github.com/calysto/metakernel/blob/master/metakernel/magics/README.md"
			}
		   ],
		   "mimetype": "text/x-octave",
		   "name": "scilab",
		   "version": "0.7.1"
		  }
		 },
		 "nbformat": 4,
		 "nbformat_minor": 0
}
