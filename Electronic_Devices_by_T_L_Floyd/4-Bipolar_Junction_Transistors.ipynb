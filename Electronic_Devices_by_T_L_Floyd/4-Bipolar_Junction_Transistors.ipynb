{
"cells": [
 {
		   "cell_type": "markdown",
	   "metadata": {},
	   "source": [
       "# Chapter 4: Bipolar Junction Transistors"
	   ]
	},
{
		   "cell_type": "markdown",
		   "metadata": {},
		   "source": [
			"## Example 4.1: DC_beta.sce"
		   ]
		  },
  {
"cell_type": "code",
	   "execution_count": null,
	   "metadata": {
	    "collapsed": true
	   },
	   "outputs": [],
"source": [
"//ex4.1\n",
"I_C=3.65*10^-3;    //collector current in amperes\n",
"I_B=50*10^-6;    //base current in amperes\n",
"B_DC=I_C/I_B;\n",
"I_E=I_B+I_C;\n",
"disp(B_DC,'B_DC')\n",
"disp(I_E,'emitter current in amperes')"
   ]
   }
,
{
		   "cell_type": "markdown",
		   "metadata": {},
		   "source": [
			"## Example 4.2: Current_Voltage_Analysis.sce"
		   ]
		  },
  {
"cell_type": "code",
	   "execution_count": null,
	   "metadata": {
	    "collapsed": true
	   },
	   "outputs": [],
"source": [
"//ex4.2\n",
"V_BE=0.7;\n",
"B_DC=150;\n",
"V_BB=5;\n",
"V_CC=10;\n",
"R_B=10*10^3;\n",
"R_C=100;\n",
"I_B=(V_BB-V_BE)/R_B;\n",
"I_C=B_DC*I_B;\n",
"I_E=I_C+I_B;\n",
"V_CE=V_CC-I_C*R_C;\n",
"V_CB=V_CE-V_BE;\n",
"disp(I_B,'base current in amperes')\n",
"disp(I_C,'collector current in amperes')\n",
"disp(I_E,'emitter current in amperes')\n",
"disp(V_CE,'collector to emitter voltage in volts')\n",
"disp(V_CB,'collector to base voltage in volts')"
   ]
   }
,
{
		   "cell_type": "markdown",
		   "metadata": {},
		   "source": [
			"## Example 4.3: Collector_characteristic_curve.sce"
		   ]
		  },
  {
"cell_type": "code",
	   "execution_count": null,
	   "metadata": {
	    "collapsed": true
	   },
	   "outputs": [],
"source": [
"//ex4.3\n",
"disp('cant be shown')"
   ]
   }
,
{
		   "cell_type": "markdown",
		   "metadata": {},
		   "source": [
			"## Example 4.4: DC_loadline.sce"
		   ]
		  },
  {
"cell_type": "code",
	   "execution_count": null,
	   "metadata": {
	    "collapsed": true
	   },
	   "outputs": [],
"source": [
"//ex4.4\n",
"V_CE_sat=0.2;\n",
"V_BE=0.7;\n",
"V_BB=3;\n",
"V_CC=10;\n",
"B_DC=50;\n",
"R_B=10*10^3;\n",
"R_C=1*10^3;\n",
"I_C_sat=(V_CC-V_CE_sat)/R_C;\n",
"I_B=(V_BB-V_BE)/R_B;\n",
"I_C=B_DC*I_B;\n",
"if I_C>I_C_sat then\n",
"    disp('transistor in saturation')\n",
"else\n",
"    disp('transistor not in saturation')\n",
"end"
   ]
   }
,
{
		   "cell_type": "markdown",
		   "metadata": {},
		   "source": [
			"## Example 4.5: Transistor_rating.sce"
		   ]
		  },
  {
"cell_type": "code",
	   "execution_count": null,
	   "metadata": {
	    "collapsed": true
	   },
	   "outputs": [],
"source": [
"//ex4.5\n",
"P_D_max=250*10^-3;    //max power rating of transistor in watts\n",
"V_CE=6;\n",
"I_C=P_D_max/V_CE;\n",
"disp(I_C,'collector current that can be handled by the transistor(in amperes)')"
   ]
   }
,
{
		   "cell_type": "markdown",
		   "metadata": {},
		   "source": [
			"## Example 4.6: Maximum_Transistor_Rating.sce"
		   ]
		  },
  {
"cell_type": "code",
	   "execution_count": null,
	   "metadata": {
	    "collapsed": true
	   },
	   "outputs": [],
"source": [
"//ex4.6\n",
"P_D_max=800*10^-3;\n",
"V_BE=0.7;\n",
"V_CE_max=15;\n",
"I_C_max=100*10^-3;\n",
"V_BB=5;\n",
"B_DC=100;\n",
"R_B=22*10^3;\n",
"R_C=10^3;\n",
"I_B=(V_BB-V_BE)/R_B;\n",
"I_C=B_DC*I_B;\n",
"V_R_C=I_C*R_C;    //voltage drop across R_C\n",
"V_CC_max=V_CE_max+V_R_C;\n",
"P_D=I_C*V_CE_max;\n",
"if P_D<P_D_max then\n",
"    disp(V_CC_max,'V_CC in volts')\n",
"    disp('V_CE_max will be exceeded first becauseentire supply voltage V_CC will be dropped across the transistor')\n",
"end"
   ]
   }
,
{
		   "cell_type": "markdown",
		   "metadata": {},
		   "source": [
			"## Example 4.7: Derating_Power_maximum.sce"
		   ]
		  },
  {
"cell_type": "code",
	   "execution_count": null,
	   "metadata": {
	    "collapsed": true
	   },
	   "outputs": [],
"source": [
"//ex4.7\n",
"df=5*10^-3;    //derating factor in watts per degree celsius\n",
"T1=70;\n",
"T2=25;\n",
"P_D_max=1;    //in watts\n",
"del_P_D=df*(T1-T2);\n",
"P_D=P_D_max-del_P_D;\n",
"disp(P_D,'Power dissipated max at a temperature of 70 degree celsius(in watts)')"
   ]
   }
,
{
		   "cell_type": "markdown",
		   "metadata": {},
		   "source": [
			"## Example 4.8: Transistor_amplification.sce"
		   ]
		  },
  {
"cell_type": "code",
	   "execution_count": null,
	   "metadata": {
	    "collapsed": true
	   },
	   "outputs": [],
"source": [
"//ex4.8\n",
"R_C=1*10^3;\n",
"r_e=50;\n",
"V_b=100*10^-3;\n",
"A_v=R_C/r_e;\n",
"V_out=A_v*V_b;\n",
"disp(A_v,'voltage gain')\n",
"disp(V_out,'ac output voltage in volts')"
   ]
   }
,
{
		   "cell_type": "markdown",
		   "metadata": {},
		   "source": [
			"## Example 4.9: Collector_in_saturation.sce"
		   ]
		  },
  {
"cell_type": "code",
	   "execution_count": null,
	   "metadata": {
	    "collapsed": true
	   },
	   "outputs": [],
"source": [
"//ex4.9\n",
"V_CC=10;\n",
"B_DC=200;\n",
"R_C=10^3;\n",
"V_IN=0;\n",
"V_CE=V_CC;\n",
"disp(V_CE,'when V_IN=0, transistor acts as open switch(cut-off) and collector emitter voltage in volts is')\n",
"//now when V_CE_sat is neglected\n",
"I_C_sat=V_CC/R_C;\n",
"I_B_min=I_C_sat/B_DC;\n",
"disp(I_B_min,'minimum value of base current in amperes to saturate transistor')\n",
"V_IN=5;\n",
"V_BE=0.7;\n",
"V_R_B=V_IN-V_BE;    //voltage across base resiatance\n",
"R_B_max=V_R_B/I_B_min;\n",
"disp(R_B_max,'maximum value of base resistance in ohms when input voltage is 5V')"
   ]
   }
],
"metadata": {
		  "kernelspec": {
		   "display_name": "Scilab",
		   "language": "scilab",
		   "name": "scilab"
		  },
		  "language_info": {
		   "file_extension": ".sce",
		   "help_links": [
			{
			 "text": "MetaKernel Magics",
			 "url": "https://github.com/calysto/metakernel/blob/master/metakernel/magics/README.md"
			}
		   ],
		   "mimetype": "text/x-octave",
		   "name": "scilab",
		   "version": "0.7.1"
		  }
		 },
		 "nbformat": 4,
		 "nbformat_minor": 0
}
