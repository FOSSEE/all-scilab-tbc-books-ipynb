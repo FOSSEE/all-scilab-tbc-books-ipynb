{
"cells": [
 {
		   "cell_type": "markdown",
	   "metadata": {},
	   "source": [
       "# Chapter 14: Special Purpose Opamp Circuits"
	   ]
	},
{
		   "cell_type": "markdown",
		   "metadata": {},
		   "source": [
			"## Example 14.10: Antilog_amplifier.sce"
		   ]
		  },
  {
"cell_type": "code",
	   "execution_count": null,
	   "metadata": {
	    "collapsed": true
	   },
	   "outputs": [],
"source": [
"//ex14.10\n",
"I_EBO=40*10^-9;\n",
"V_in=175.1*10^-3;\n",
"R_f=68*10^3;\n",
"V_OUT=-I_EBO*R_f*exp(V_in/0.025);\n",
"disp(V_OUT,'output voltage in volts')"
   ]
   }
,
{
		   "cell_type": "markdown",
		   "metadata": {},
		   "source": [
			"## Example 14.1: Gain_setting_resistor.sce"
		   ]
		  },
  {
"cell_type": "code",
	   "execution_count": null,
	   "metadata": {
	    "collapsed": true
	   },
	   "outputs": [],
"source": [
"//ex14.1\n",
"R1=25*10^3;\n",
"R2=R1;\n",
"A_cl=500;    //closed loop voltage gain\n",
"R_G=2*R1/(A_cl-1);\n",
"disp(R_G,'value of the external gain setting resistor in ohms')"
   ]
   }
,
{
		   "cell_type": "markdown",
		   "metadata": {},
		   "source": [
			"## Example 14.2: Voltage_gain_Instrumentation_amplifier.sce"
		   ]
		  },
  {
"cell_type": "code",
	   "execution_count": null,
	   "metadata": {
	    "collapsed": true
	   },
	   "outputs": [],
"source": [
"//ex14.2\n",
"R1=25.25*10^3;    //internal resistors\n",
"R2=R1;\n",
"R_G=510;\n",
"A_v=(2*R1/R_G)+1;\n",
"disp(A_v,'voltage gain')\n",
"BW=60*10^3;\n",
"disp(BW,'bandwidth from graph, in hertz')"
   ]
   }
,
{
		   "cell_type": "markdown",
		   "metadata": {},
		   "source": [
			"## Example 14.3: Isolation_amplifier.sce"
		   ]
		  },
  {
"cell_type": "code",
	   "execution_count": null,
	   "metadata": {
	    "collapsed": true
	   },
	   "outputs": [],
"source": [
"//ex14.3\n",
"disp('cannot be shown in scilab')"
   ]
   }
,
{
		   "cell_type": "markdown",
		   "metadata": {},
		   "source": [
			"## Example 14.4: Voltage_gain_Isolation_amplifier.sce"
		   ]
		  },
  {
"cell_type": "code",
	   "execution_count": null,
	   "metadata": {
	    "collapsed": true
	   },
	   "outputs": [],
"source": [
"//ex14.4\n",
"R_f1=22*10^3;\n",
"R_i1=2.2*10^3;\n",
"R_f2=47*10^3;\n",
"R_i2=10*10^3;\n",
"A_v1=(R_f1/R_i1)+1;    //voltage gain of input stage\n",
"A_v2=(R_f2/R_i2)+1;    //voltage gain of output stage\n",
"A_v=A_v1*A_v2;\n",
"disp(A_v,'total voltage gain of the isolation amplifier')"
   ]
   }
,
{
		   "cell_type": "markdown",
		   "metadata": {},
		   "source": [
			"## Example 14.5: Transconductance_OTA.sce"
		   ]
		  },
  {
"cell_type": "code",
	   "execution_count": null,
	   "metadata": {
	    "collapsed": true
	   },
	   "outputs": [],
"source": [
"//ex14.5\n",
"g_m=1000*10^-6;\n",
"V_in=25*10^-3;\n",
"I_out=g_m*V_in;\n",
"disp(I_out,'output current in amperes')"
   ]
   }
,
{
		   "cell_type": "markdown",
		   "metadata": {},
		   "source": [
			"## Example 14.6: Voltage_gain_OTA.sce"
		   ]
		  },
  {
"cell_type": "code",
	   "execution_count": null,
	   "metadata": {
	    "collapsed": true
	   },
	   "outputs": [],
"source": [
"//ex14.6\n",
"V_BIAS=9;\n",
"V=V_BIAS;\n",
"R_BIAS=33*10^3;\n",
"R_L=10*10^3;\n",
"K=16;    //in microSiemens per microAmpere\n",
"I_BIAS=(V_BIAS-(-V)-1.4)/R_BIAS;\n",
"g_m=K*I_BIAS;\n",
"A_v=g_m*R_L;\n",
"disp(A_v,'voltage gain')"
   ]
   }
,
{
		   "cell_type": "markdown",
		   "metadata": {},
		   "source": [
			"## Example 14.7: Output_OTA_amplitude_modulator.sce"
		   ]
		  },
  {
"cell_type": "code",
	   "execution_count": null,
	   "metadata": {
	    "collapsed": true
	   },
	   "outputs": [],
"source": [
"//ex14.7\n",
"V_MOD_max=10;\n",
"V_MOD_min=1;\n",
"V=9;\n",
"V_in=50*10^-3;\n",
"R_BIAS=56*10^3;\n",
"R_L=10*10^3;\n",
"K=16;    //in microSiemens per microAmpere\n",
"I_BIAS_max=(V_MOD_max-(-V)-1.4)/R_BIAS;\n",
"g_m_max=K*I_BIAS_max;\n",
"A_v_max=g_m_max*R_L;\n",
"V_out_max=A_v_max*V_in;\n",
"I_BIAS_min=(V_MOD_min-(-V)-1.4)/R_BIAS;\n",
"g_m_min=K*I_BIAS_min;\n",
"A_v_min=g_m_min*R_L;\n",
"V_out_min=A_v_min*V_in;\n",
"t=0:0.01:4;\n",
"f=1;    //assume frequency 1 hertz\n",
"y=((V_out_max/4-V_out_min/4)*sin(2*%pi*f.*t)+(V_out_min/2+V_out_max/2)/2).*sin(2*9*%pi*f.*t);\n",
"plot(t,y)\n",
"xtitle('OTA amplitude modulator')\n",
""
   ]
   }
,
{
		   "cell_type": "markdown",
		   "metadata": {},
		   "source": [
			"## Example 14.8: Output_log_amplifier.sce"
		   ]
		  },
  {
"cell_type": "code",
	   "execution_count": null,
	   "metadata": {
	    "collapsed": true
	   },
	   "outputs": [],
"source": [
"//ex14.8\n",
"V_in=2;\n",
"I_R=50*10^-9;\n",
"R1=100*10^3;\n",
"//voltage output for log amplifier\n",
"V_OUT=-0.025*log(V_in/(I_R*R1));\n",
"disp(V_OUT,'output voltage in volts')"
   ]
   }
,
{
		   "cell_type": "markdown",
		   "metadata": {},
		   "source": [
			"## Example 14.9: Transistor_log_amplifier.sce"
		   ]
		  },
  {
"cell_type": "code",
	   "execution_count": null,
	   "metadata": {
	    "collapsed": true
	   },
	   "outputs": [],
"source": [
"//ex14.9\n",
"V_in=3;\n",
"I_EBO=40*10^-9;\n",
"R1=68*10^3;\n",
"//voltage output for log amplifier\n",
"V_OUT=-0.025*log(V_in/(I_EBO*R1));\n",
"disp(V_OUT,'output voltage in volts')"
   ]
   }
],
"metadata": {
		  "kernelspec": {
		   "display_name": "Scilab",
		   "language": "scilab",
		   "name": "scilab"
		  },
		  "language_info": {
		   "file_extension": ".sce",
		   "help_links": [
			{
			 "text": "MetaKernel Magics",
			 "url": "https://github.com/calysto/metakernel/blob/master/metakernel/magics/README.md"
			}
		   ],
		   "mimetype": "text/x-octave",
		   "name": "scilab",
		   "version": "0.7.1"
		  }
		 },
		 "nbformat": 4,
		 "nbformat_minor": 0
}
