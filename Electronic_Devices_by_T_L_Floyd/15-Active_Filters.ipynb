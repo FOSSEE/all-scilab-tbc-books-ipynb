{
"cells": [
 {
		   "cell_type": "markdown",
	   "metadata": {},
	   "source": [
       "# Chapter 15: Active Filters"
	   ]
	},
{
		   "cell_type": "markdown",
		   "metadata": {},
		   "source": [
			"## Example 15.1: Band_pass_filter.sce"
		   ]
		  },
  {
"cell_type": "code",
	   "execution_count": null,
	   "metadata": {
	    "collapsed": true
	   },
	   "outputs": [],
"source": [
"//EX15.1\n",
"f0=15*10^3;    //center frequency in hertz\n",
"BW=1*10^3;\n",
"Q=f0/BW;\n",
"if Q>10 then\n",
"    disp(Q,'narrow band filter')\n",
"end"
   ]
   }
,
{
		   "cell_type": "markdown",
		   "metadata": {},
		   "source": [
			"## Example 15.2: Butterworth_response.sce"
		   ]
		  },
  {
"cell_type": "code",
	   "execution_count": null,
	   "metadata": {
	    "collapsed": true
	   },
	   "outputs": [],
"source": [
"//ex15.2\n",
"R2=10*10^3;\n",
"R1=0.586*R2;    //FOR BUTTERWORTH RESPONSE\n",
"disp(R1,'R1 in ohms')\n",
"disp('5.6kilo ohm will be ideally close to maximally flat butterworth response')"
   ]
   }
,
{
		   "cell_type": "markdown",
		   "metadata": {},
		   "source": [
			"## Example 15.3: Sallen_Key_lowpass_filter.sce"
		   ]
		  },
  {
"cell_type": "code",
	   "execution_count": null,
	   "metadata": {
	    "collapsed": true
	   },
	   "outputs": [],
"source": [
"//ex15.3\n",
"R_A=1*10^3;\n",
"R2=1*10^3;\n",
"R_B=R_A;\n",
"R=R_A;\n",
"C_A=0.022*10^-6;\n",
"C_B=C_A;\n",
"C=C_A;\n",
"f_c=1/(2*%pi*R*C);    //critical frequency\n",
"R1=0.586*R2;    //for butterworth response\n",
"disp(f_c,'critical frequency in hertz')\n",
"disp(R1,'value of R1 in ohms')"
   ]
   }
,
{
		   "cell_type": "markdown",
		   "metadata": {},
		   "source": [
			"## Example 15.4: 4_pole_filter.sce"
		   ]
		  },
  {
"cell_type": "code",
	   "execution_count": null,
	   "metadata": {
	    "collapsed": true
	   },
	   "outputs": [],
"source": [
"//ex15.4\n",
"f_c=2860;\n",
"R=1.8*10^3;\n",
"C=1/(2*%pi*f_c*R);\n",
"R2=R;\n",
"R1=0.152*R2;    //BUTTERWORTH RESPONSE IN FIRST STAGE\n",
"R4=R;\n",
"R3=1.235*R4;    //BUTTERWORTH RESPONSE IN SECOND STAGE\n",
"disp(C,'capacitance in farads');\n",
"disp(R1,'R1 in ohms for butterworth response in first stage')\n",
"disp(R3,'R3 in ohms for butterworth response in second stage')"
   ]
   }
,
{
		   "cell_type": "markdown",
		   "metadata": {},
		   "source": [
			"## Example 15.5: Sallen_Key_highpass_filter.sce"
		   ]
		  },
  {
"cell_type": "code",
	   "execution_count": null,
	   "metadata": {
	    "collapsed": true
	   },
	   "outputs": [],
"source": [
"//ex15.5\n",
"f_c=10*10^3;    //critical frequency in hertz\n",
"R=33*10^3;    //Assumption\n",
"R2=R;\n",
"C=1/(2*%pi*f_c*R);\n",
"R1=0.586*R2;    //for butterworth response\n",
"disp(C,'Capacitance in Farads')\n",
"disp(R1,'R1 in ohms taking R2=33kilo-ohms')\n",
"R1=3.3*10^3;    //Assumption\n",
"R2=R1/0.586;    //butterworth response\n",
"disp(R2,'R2 in ohms taking R1=3.3kilo-ohms')"
   ]
   }
,
{
		   "cell_type": "markdown",
		   "metadata": {},
		   "source": [
			"## Example 15.6: Cascaded_filter.sce"
		   ]
		  },
  {
"cell_type": "code",
	   "execution_count": null,
	   "metadata": {
	    "collapsed": true
	   },
	   "outputs": [],
"source": [
"//ex15.6\n",
"R1=68*10^3;\n",
"R2=180*10^3;\n",
"R3=2.7*10^3;\n",
"C=0.01*10^-6;\n",
"f0=(sqrt((R1+R3)/(R1*R2*R3)))/(2*%pi*C);\n",
"A0=R2/(2*R1);\n",
"Q=%pi*f0*C*R2;\n",
"BW=f0/Q;\n",
"disp(f0,'center frequency in hertz')\n",
"disp(A0,'maximum gain')\n",
"disp(BW,'bandwidth in hertz')"
   ]
   }
,
{
		   "cell_type": "markdown",
		   "metadata": {},
		   "source": [
			"## Example 15.7: State_variable_filter.sce"
		   ]
		  },
  {
"cell_type": "code",
	   "execution_count": null,
	   "metadata": {
	    "collapsed": true
	   },
	   "outputs": [],
"source": [
"//ex15.7\n",
"R4=10^3;\n",
"C1=0.022*10^-6;\n",
"R7=R4;\n",
"C2=C1;\n",
"R6=R4;\n",
"R5=100*10^3;\n",
"f_c=1/(2*%pi*R4*C1);    //critical frequency in hertz for each integrator\n",
"f0=f_c    //center frequency\n",
"Q=(1+(R5/R6))/3;\n",
"BW=f0/Q;\n",
"disp(f0,'center frequency in hertz')\n",
"disp(Q,' value of Q')\n",
"disp(BW,'bandwidth in hertz')"
   ]
   }
,
{
		   "cell_type": "markdown",
		   "metadata": {},
		   "source": [
			"## Example 15.8: Band_stop_filter.sce"
		   ]
		  },
  {
"cell_type": "code",
	   "execution_count": null,
	   "metadata": {
	    "collapsed": true
	   },
	   "outputs": [],
"source": [
"//ex15.8\n",
"R4=12*10^3;\n",
"C1=0.22*10^-6;\n",
"R7=R4;\n",
"C2=C1;\n",
"R6=3.3*10^3;\n",
"Q=10;\n",
"f0=1/(2*%pi*R7*C2);\n",
"R5=(3*Q-1)*R6;\n",
"disp(f0,'center frequency in hertz')\n",
"disp(R5,'R5 in ohms')\n",
"disp('Nearest value is 100 kilo-ohms')"
   ]
   }
],
"metadata": {
		  "kernelspec": {
		   "display_name": "Scilab",
		   "language": "scilab",
		   "name": "scilab"
		  },
		  "language_info": {
		   "file_extension": ".sce",
		   "help_links": [
			{
			 "text": "MetaKernel Magics",
			 "url": "https://github.com/calysto/metakernel/blob/master/metakernel/magics/README.md"
			}
		   ],
		   "mimetype": "text/x-octave",
		   "name": "scilab",
		   "version": "0.7.1"
		  }
		 },
		 "nbformat": 4,
		 "nbformat_minor": 0
}
