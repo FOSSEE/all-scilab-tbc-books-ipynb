{
"cells": [
 {
		   "cell_type": "markdown",
	   "metadata": {},
	   "source": [
       "# Chapter 17: Voltage Regulators"
	   ]
	},
{
		   "cell_type": "markdown",
		   "metadata": {},
		   "source": [
			"## Example 17.1: Percentage_line_regulation.sce"
		   ]
		  },
  {
"cell_type": "code",
	   "execution_count": null,
	   "metadata": {
	    "collapsed": true
	   },
	   "outputs": [],
"source": [
"//Ex17.1\n",
"Del_V_out=0.25;\n",
"V_out=15;\n",
"Del_V_in=5;    //All voltages in Volts\n",
"line_regulation=((Del_V_out/V_out)/Del_V_in)*100;\n",
"disp(line_regulation,'line regulation in %/V')"
   ]
   }
,
{
		   "cell_type": "markdown",
		   "metadata": {},
		   "source": [
			"## Example 17.2: Load_regulation_percentage.sce"
		   ]
		  },
  {
"cell_type": "code",
	   "execution_count": null,
	   "metadata": {
	    "collapsed": true
	   },
	   "outputs": [],
"source": [
"//Ex17.2\n",
"V_NL=12;    //No load output voltage in Volts\n",
"V_FL=11.9;    //Full load output voltage in Volts\n",
"I_F=10;    //Full load current in milli-Amperes\n",
"load_regulation=((V_NL-V_FL)/V_FL)*100;\n",
"load_reg=load_regulation/I_F;\n",
"disp('load regulation as percentage change from no load to full load')\n",
"disp(load_regulation)\n",
"disp('load regulation as percentage change per milliampere')\n",
"disp(load_reg);"
   ]
   }
,
{
		   "cell_type": "markdown",
		   "metadata": {},
		   "source": [
			"## Example 17.3: Series_regulator.sce"
		   ]
		  },
  {
"cell_type": "code",
	   "execution_count": null,
	   "metadata": {
	    "collapsed": true
	   },
	   "outputs": [],
"source": [
"//Ex17.3\n",
"//All voltages are in Volts and Resistances in Ohms\n",
"V_REF=5.1    //Zener voltage\n",
"R2=10*10^3;\n",
"R3=10*10^3;\n",
"V_out=(1+(R2/R3))*V_REF;\n",
"disp(V_out,'output voltage in volts')"
   ]
   }
,
{
		   "cell_type": "markdown",
		   "metadata": {},
		   "source": [
			"## Example 17.4: Overload_protectio.sce"
		   ]
		  },
  {
"cell_type": "code",
	   "execution_count": null,
	   "metadata": {
	    "collapsed": true
	   },
	   "outputs": [],
"source": [
"//Ex-17.4\n",
"R4=1;    //Resistance in Ohms\n",
"I_L_max=0.7/R4;\n",
"disp(I_L_max,'maximum current provided to load(in amperes)')"
   ]
   }
,
{
		   "cell_type": "markdown",
		   "metadata": {},
		   "source": [
			"## Example 17.5: Shunt_regulator.sce"
		   ]
		  },
  {
"cell_type": "code",
	   "execution_count": null,
	   "metadata": {
	    "collapsed": true
	   },
	   "outputs": [],
"source": [
"//Ex17.5\n",
"V_IN=12.5;    //maximum input voltage in volts\n",
"R1=22;    //In Ohms\n",
"//Worst case of power dissipation is when V_OUT=0V\n",
"V_OUT=0;\n",
"V_R1=V_IN-V_OUT;    //Voltage across R1\n",
"P_R1=(V_R1*V_R1)/R1;    //maximum power dissipated by R1\n",
"disp(P_R1,'maximum power dissipated by R1 in WATTS')"
   ]
   }
,
{
		   "cell_type": "markdown",
		   "metadata": {},
		   "source": [
			"## Example 17.6: Positive_linear_voltage_regulator.sce"
		   ]
		  },
  {
"cell_type": "code",
	   "execution_count": null,
	   "metadata": {
	    "collapsed": true
	   },
	   "outputs": [],
"source": [
"//Ex17.6\n",
"disp('SAME AS EX-2.8 in CHAPTER-2')"
   ]
   }
,
{
		   "cell_type": "markdown",
		   "metadata": {},
		   "source": [
			"## Example 17.7: External_pass_filter.sce"
		   ]
		  },
  {
"cell_type": "code",
	   "execution_count": null,
	   "metadata": {
	    "collapsed": true
	   },
	   "outputs": [],
"source": [
"//Ex17.7\n",
"I_max=700*10^-3;    //in Amperes\n",
"R_ext=0.7/I_max;\n",
"disp(R_ext,'value of resistor in Ohms for which max current is 700mA')"
   ]
   }
,
{
		   "cell_type": "markdown",
		   "metadata": {},
		   "source": [
			"## Example 17.8: Power_rating_7824.sce"
		   ]
		  },
  {
"cell_type": "code",
	   "execution_count": null,
	   "metadata": {
	    "collapsed": true
	   },
	   "outputs": [],
"source": [
"//Ex17.8\n",
"V_OUT=24;    //Output voltage in Volts\n",
"R_L=10;    //Load resistance in Ohms\n",
"V_IN=30;    //Input voltage in Volts\n",
"I_max=700*10^-3;    //maximum interal current in Amperes\n",
"I_L=V_OUT/R_L;    //load current in amperes\n",
"I_ext=I_L-I_max;    //current through the external pass transistor in Amperes\n",
"P_ext_Qext=I_ext*(V_IN-V_OUT);    //power dissipated\n",
"disp(P_ext_Qext,'power dissiated(in WATTS) by the external pass transistor')\n",
"disp('For safety purpose, we choose a power transistor with rating more than this, say 15W')"
   ]
   }
,
{
		   "cell_type": "markdown",
		   "metadata": {},
		   "source": [
			"## Example 17.9: Current_regulator.sce"
		   ]
		  },
  {
"cell_type": "code",
	   "execution_count": null,
	   "metadata": {
	    "collapsed": true
	   },
	   "outputs": [],
"source": [
"//Ex17.9\n",
"V_out=5;    //7805 gives output voltage of 5V\n",
"I_L=1;    //constant current of 1A\n",
"R1=V_out/I_L;\n",
"disp(R1,'The value of current-setting resistor in ohms is')"
   ]
   }
],
"metadata": {
		  "kernelspec": {
		   "display_name": "Scilab",
		   "language": "scilab",
		   "name": "scilab"
		  },
		  "language_info": {
		   "file_extension": ".sce",
		   "help_links": [
			{
			 "text": "MetaKernel Magics",
			 "url": "https://github.com/calysto/metakernel/blob/master/metakernel/magics/README.md"
			}
		   ],
		   "mimetype": "text/x-octave",
		   "name": "scilab",
		   "version": "0.7.1"
		  }
		 },
		 "nbformat": 4,
		 "nbformat_minor": 0
}
