{
"cells": [
 {
		   "cell_type": "markdown",
	   "metadata": {},
	   "source": [
       "# Chapter 8: FET Amplifiers"
	   ]
	},
{
		   "cell_type": "markdown",
		   "metadata": {},
		   "source": [
			"## Example 8.10: Common_gate_amplifier.sce"
		   ]
		  },
  {
"cell_type": "code",
	   "execution_count": null,
	   "metadata": {
	    "collapsed": true
	   },
	   "outputs": [],
"source": [
"//ex8.10\n",
"V_DD=-15;    //p=channel MOSFET\n",
"g_m=2000*10^-6;    //minimum value from datasheets\n",
"R_D=10*10^3;\n",
"R_L=10*10^3;\n",
"R_S=4.7*10^3;\n",
"R_d=(R_D*R_L)/(R_D+R_L);    //effective drain resistance\n",
"A_v=g_m*R_d;\n",
"R_in_source=1/g_m;\n",
"R_in=(R_in_source*R_S)/(R_in_source+R_S);    //signal souce sees R_S in parallel with input resistance at source terminal(R_in_source)\n",
"disp(A_v,'minimum voltage gain')\n",
"disp(R_in,'Input resistance seen from signal source in ohms')"
   ]
   }
,
{
		   "cell_type": "markdown",
		   "metadata": {},
		   "source": [
			"## Example 8.1: Voltage_gai.sce"
		   ]
		  },
  {
"cell_type": "code",
	   "execution_count": null,
	   "metadata": {
	    "collapsed": true
	   },
	   "outputs": [],
"source": [
"//ex8.1\n",
"g_m=4*10^-3;\n",
"R_d=1.5*10^3;\n",
"A_v=g_m*R_d;\n",
"disp(A_v,'Voltage gain')"
   ]
   }
,
{
		   "cell_type": "markdown",
		   "metadata": {},
		   "source": [
			"## Example 8.2: Rds_effect.sce"
		   ]
		  },
  {
"cell_type": "code",
	   "execution_count": null,
	   "metadata": {
	    "collapsed": true
	   },
	   "outputs": [],
"source": [
"//ex8.2\n",
"r_ds=10*10^3;\n",
"R_d=1.5*10^3;    //from previous question\n",
"g_m=4*10^-3;    //from previous question\n",
"A_v=g_m*((R_d*r_ds)/(R_d+r_ds));\n",
"disp(A_v,'Voltage gain')"
   ]
   }
,
{
		   "cell_type": "markdown",
		   "metadata": {},
		   "source": [
			"## Example 8.3: External_source_resistance.sce"
		   ]
		  },
  {
"cell_type": "code",
	   "execution_count": null,
	   "metadata": {
	    "collapsed": true
	   },
	   "outputs": [],
"source": [
"//ex8.3\n",
"R_s=560;\n",
"R_d=1.5*10^3;\n",
"g_m=4*10^-3;\n",
"A_v=(g_m*R_d)/(1+(g_m*R_s))\n",
"disp(A_v,'Voltage gain')"
   ]
   }
,
{
		   "cell_type": "markdown",
		   "metadata": {},
		   "source": [
			"## Example 8.4: Unloaded_amplifier.sce"
		   ]
		  },
  {
"cell_type": "code",
	   "execution_count": null,
	   "metadata": {
	    "collapsed": true
	   },
	   "outputs": [],
"source": [
"//ex8.4\n",
"V_DD=12;\n",
"V_in=100*10^-3;\n",
"R_D=3.3*10^3;\n",
"I_DSS=12*10^-3;\n",
"V_GS_off=-3;\n",
"R_S=910;\n",
"a=(R_S^2)/(V_GS_off^2);    //we take V_GS_off positive so that we take current negative\n",
"b=(-1)*(((2*R_S)/(V_GS_off))-(1/I_DSS));\n",
"c=1;\n",
"p1=poly([c b a],'x','c')\n",
"A=roots(p1)\n",
"I_D=(-1)*A(1);    //make the value of current positive\n",
"V_D=V_DD-I_D*R_D;\n",
"V_GS=-I_D*R_S;\n",
"g_m0=(2*I_DSS)/(abs(V_GS_off));\n",
"g_m=g_m0*(1-(V_GS/V_GS_off));\n",
"V_out=g_m*R_D*V_in;    //rms value\n",
"v_out=V_out*1.414*2;    //peak to peak dc value\n",
"disp(v_out,'output dc voltage (peak to peak) in volts')"
   ]
   }
,
{
		   "cell_type": "markdown",
		   "metadata": {},
		   "source": [
			"## Example 8.5: AC_load_effect.sce"
		   ]
		  },
  {
"cell_type": "code",
	   "execution_count": null,
	   "metadata": {
	    "collapsed": true
	   },
	   "outputs": [],
"source": [
"//ex8.5\n",
"R_D=3.3*10^3;\n",
"R_L=4.7*10^3;\n",
"R_d=(R_D*R_L)/(R_D+R_L);    //Equivalent drain resistance\n",
"g_m=3.25*10^-3;    //from previous question\n",
"V_in=100*10^-3;    //previous question\n",
"V_out=g_m*R_d*V_in;\n",
"disp(V_out,'Output voltage rms value in Volts')"
   ]
   }
,
{
		   "cell_type": "markdown",
		   "metadata": {},
		   "source": [
			"## Example 8.6: Input_resistance.sce"
		   ]
		  },
  {
"cell_type": "code",
	   "execution_count": null,
	   "metadata": {
	    "collapsed": true
	   },
	   "outputs": [],
"source": [
"//ex8.6\n",
"I_GSS=30*10^-9;\n",
"V_GS=10;\n",
"R_G=10*10^6;\n",
"R_IN_gate=V_GS/I_GSS;\n",
"R_in=(R_IN_gate*R_G)/(R_IN_gate+R_G);    //parallel combination\n",
"disp(R_in,'Input resistance in ohms, as seen by signal source')"
   ]
   }
,
{
		   "cell_type": "markdown",
		   "metadata": {},
		   "source": [
			"## Example 8.7: DMOSFET_amplifier.sce"
		   ]
		  },
  {
"cell_type": "code",
	   "execution_count": null,
	   "metadata": {
	    "collapsed": true
	   },
	   "outputs": [],
"source": [
"//ex8.7\n",
"I_DSS=200*10^-3;\n",
"g_m=200*10^-3;\n",
"V_in=500*10^-3;\n",
"V_DD=15;\n",
"R_D=33;\n",
"R_L=8.2*10^3;\n",
"I_D=I_DSS;    //Amplifier is zero biased\n",
"V_D=V_DD-I_D*R_D;\n",
"R_d=(R_D*R_L)/(R_D+R_L);\n",
"V_out=g_m*R_d*V_in;\n",
"disp(V_D,'DC output voltage in Volts')\n",
"disp(V_out,'AC output voltage in volts')"
   ]
   }
,
{
		   "cell_type": "markdown",
		   "metadata": {},
		   "source": [
			"## Example 8.9: EMOSFET_amplifier.sce"
		   ]
		  },
  {
"cell_type": "code",
	   "execution_count": null,
	   "metadata": {
	    "collapsed": true
	   },
	   "outputs": [],
"source": [
"//ex8.9\n",
"R_1=47*10^3;\n",
"R_2=8.2*10^3;\n",
"R_D=3.3*10^3;\n",
"R_L=33*10^3;\n",
"I_D_on=200*10^-3;\n",
"V_GS=4;\n",
"V_GS_th=2;\n",
"g_m=23*10^-3;\n",
"V_in=25*10^-3;\n",
"V_DD=15;\n",
"V_GS=(R_2/(R_1+R_2))*V_DD;\n",
"K=value_of_K(200*10^-3,4,2);\n",
"I_D=K*(V_GS-V_GS_th)^2;\n",
"V_DS=V_DD-I_D*R_D;\n",
"R_d=(R_D*R_L)/(R_D+R_L);\n",
"V_out=g_m*V_in*R_d;\n",
"disp(V_DS,'Drain to source voltage in volts(V_DS)')\n",
"disp(I_D,'Drain current (I_D) inAmperes')\n",
"disp(V_GS,'Gate to source voltage (V_GS) in volts')\n",
"disp(V_out,'AC output voltage in volts')"
   ]
   }
],
"metadata": {
		  "kernelspec": {
		   "display_name": "Scilab",
		   "language": "scilab",
		   "name": "scilab"
		  },
		  "language_info": {
		   "file_extension": ".sce",
		   "help_links": [
			{
			 "text": "MetaKernel Magics",
			 "url": "https://github.com/calysto/metakernel/blob/master/metakernel/magics/README.md"
			}
		   ],
		   "mimetype": "text/x-octave",
		   "name": "scilab",
		   "version": "0.7.1"
		  }
		 },
		 "nbformat": 4,
		 "nbformat_minor": 0
}
