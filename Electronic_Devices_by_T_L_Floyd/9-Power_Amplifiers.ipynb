{
"cells": [
 {
		   "cell_type": "markdown",
	   "metadata": {},
	   "source": [
       "# Chapter 9: Power Amplifiers"
	   ]
	},
{
		   "cell_type": "markdown",
		   "metadata": {},
		   "source": [
			"## Example 9.1: classA_power_amplifier.sce"
		   ]
		  },
  {
"cell_type": "code",
	   "execution_count": null,
	   "metadata": {
	    "collapsed": true
	   },
	   "outputs": [],
"source": [
"//ex9.1\n",
"V_CC=15;\n",
"R_C=1*10^3;\n",
"R_1=20*10^3;\n",
"R_2=5.1*10^3;\n",
"R_3=5.1*10^3;\n",
"R_4=15*10^3;\n",
"R_E_1=47;\n",
"R_E_2=330;\n",
"R_E_3=16;\n",
"R_L=16;    //SPEAKER IS THE LOAD;\n",
"B_ac_Q1=200;\n",
"B_ac_Q2=B_ac_Q1;\n",
"B_ac_Q3=50;\n",
"//R_c1=R_C||[R_3||R_4||B_acQ2*B_ac_Q3*(R_E_3||R_L)] is ac collector resistance\n",
"R=(R_E_3*R_L)/(R_E_3+R_L);\n",
"R=B_ac_Q2*B_ac_Q3*R;\n",
"R=(R*R_4)/(R+R_4);\n",
"R=(R*R_3)/(R+R_3);\n",
"R_c1=(R*R_C)/(R_C+R);    //ac collector resistance\n",
"//V_B=((R_2||(B_acQ1*(R_E_1+R_E_2)))/(R_1+(R_2||B_acQ1*(R_E_1+R_E_2))))*V_CC;\n",
"//This is the base voltage;\n",
"//LET R=(R_2||(B_acQ1*(R_E_1+R_E_2)))\n",
"R=(R_2*B_ac_Q1*(R_E_1+R_E_2))/(R_2+B_ac_Q1*(R_E_1+R_E_2));\n",
"V_B=R*V_CC/(R_1+R);\n",
"I_E=(V_B-0.7)/(R_E_1+R_E_2);\n",
"r_e_Q1=25*10^-3/I_E;\n",
"A_v1=(-1)*(R_c1)/(R_E_1+r_e_Q1);    //voltage gain of 1st stage\n",
"//total input resistance of 1st stage is R_in_tot_1=R_1||R_2||B_ac_Q1*(R_E_1+r_e_Q1);\n",
"R_in_tot_1=(R_1*(R_2*B_ac_Q1*(R_E_1+r_e_Q1)/(R_2+B_ac_Q1*(R_E_1+r_e_Q1))))/(R_1+(R_2*B_ac_Q1*(R_E_1+r_e_Q1)/(R_2+B_ac_Q1*(R_E_1+r_e_Q1))));\n",
"A_v2=1;    //gain of darlington voltage-follower\n",
"A_v_tot=A_v1*A_v2;    //total gain\n",
"A_p=(A_v_tot^2)*(R_in_tot_1/R_L);    //power gain\n",
"disp(A_v_tot,'Voltage gain')\n",
"disp(A_p,'Power gain')"
   ]
   }
,
{
		   "cell_type": "markdown",
		   "metadata": {},
		   "source": [
			"## Example 9.2: class_A_efficiency.sce"
		   ]
		  },
  {
"cell_type": "code",
	   "execution_count": null,
	   "metadata": {
	    "collapsed": true
	   },
	   "outputs": [],
"source": [
"//ex9.2\n",
"V_in=176*10^-3;\n",
"R_in=2.9*10^3;    //total input resistance from previous question\n",
"A_p=42429;    //power gain from previous question\n",
"V_CC=15;\n",
"I_CC=0.6;    //emitter current\n",
"P_in=V_in^2/R_in;\n",
"P_out=P_in*A_p;\n",
"P_DC=I_CC*V_CC;\n",
"eff=P_out/P_DC;\n",
"disp(eff,'efficiency')"
   ]
   }
,
{
		   "cell_type": "markdown",
		   "metadata": {},
		   "source": [
			"## Example 9.3: class_AB_pushpull.sce"
		   ]
		  },
  {
"cell_type": "code",
	   "execution_count": null,
	   "metadata": {
	    "collapsed": true
	   },
	   "outputs": [],
"source": [
"//ex9.3\n",
"V_CC=20;\n",
"R_L=16;\n",
"V_out_peak=V_CC;\n",
"I_out_peak=V_CC/R_L;\n",
"disp(V_out_peak,'ideal maximum peak output voltage in volts')\n",
"disp(I_out_peak,'ideal maximum current in amperes')"
   ]
   }
,
{
		   "cell_type": "markdown",
		   "metadata": {},
		   "source": [
			"## Example 9.4: Single_supply_pushpull.sce"
		   ]
		  },
  {
"cell_type": "code",
	   "execution_count": null,
	   "metadata": {
	    "collapsed": true
	   },
	   "outputs": [],
"source": [
"//ex9.4\n",
"V_CC=20;\n",
"R_L=16;\n",
"V_out_peak=V_CC/2;\n",
"I_out_peak=V_out_peak/R_L;\n",
"disp(V_out_peak,'ideal maximum output peak voltage in volts')\n",
"disp(I_out_peak,'ideal maximum current in amperes')"
   ]
   }
,
{
		   "cell_type": "markdown",
		   "metadata": {},
		   "source": [
			"## Example 9.5: Power_of_amplifier.sce"
		   ]
		  },
  {
"cell_type": "code",
	   "execution_count": null,
	   "metadata": {
	    "collapsed": true
	   },
	   "outputs": [],
"source": [
"//ex9.5\n",
"V_CC=20;\n",
"R_L=8;\n",
"B_ac=50;\n",
"r_e=6;\n",
"V_out_peak=V_CC/2;\n",
"V_CEQ=V_out_peak;\n",
"I_out_peak=V_CEQ/R_L;\n",
"I_c_sat=I_out_peak;\n",
"P_out=0.25*I_c_sat*V_CC;\n",
"P_DC=(I_c_sat*V_CC)/%pi;\n",
"R_in=B_ac*(r_e+R_L);\n",
"disp(P_out,'maximum ac output power in Watts');\n",
"disp(P_DC,'maximum DC output power in Watts');\n",
"disp(R_in,'input resistance in ohms');"
   ]
   }
,
{
		   "cell_type": "markdown",
		   "metadata": {},
		   "source": [
			"## Example 9.6: MOSFET_pushpull_amplifier.sce"
		   ]
		  },
  {
"cell_type": "code",
	   "execution_count": null,
	   "metadata": {
	    "collapsed": true
	   },
	   "outputs": [],
"source": [
"//ex9.6\n",
"V_DD=24;\n",
"V_in=100*10^-3;\n",
"R1=440;\n",
"R2=5.1*10^3;\n",
"R3=100*10^3;\n",
"R4=10^3;\n",
"R5=100;\n",
"R7=15*10^3;\n",
"R_L=33;\n",
"V_TH_Q1=2;\n",
"V_TH_Q2=-2;\n",
"I_R1=(V_DD-(-V_DD))/(R1+R2+R3);\n",
"V_B=V_DD-I_R1*(R1+R2);    //BASE VOLTAGE\n",
"V_E=V_B+0.7;    //EMITTER VOLTAGE\n",
"I_E=(V_DD-V_E)/(R4+R5);    //EMITTER CURRENT\n",
"V_R6=V_TH_Q1-V_TH_Q2;    //VOLTAGE DROP ACROSS R6\n",
"I_R6=I_E;    \n",
"R6=V_R6/I_R6;\n",
"r_e=25*10^-3/I_E;    //UNBYPASSED EMITTER RESISTANCE\n",
"A_v=R7/(R5+r_e);    //VOLTAGE GAIN\n",
"V_out=A_v*V_in;\n",
"P_L=V_out^2/R_L;\n",
"disp(R6,'value of resistance R6 in ohms fot AB operation')\n",
"disp(P_L,'power across load in watts')"
   ]
   }
,
{
		   "cell_type": "markdown",
		   "metadata": {},
		   "source": [
			"## Example 9.7: class_C_amplifier.sce"
		   ]
		  },
  {
"cell_type": "code",
	   "execution_count": null,
	   "metadata": {
	    "collapsed": true
	   },
	   "outputs": [],
"source": [
"//ex9.7\n",
"f=200*10^3;    //frequency in hertz\n",
"I_c_sat=100*10^-3;\n",
"V_ce_sat=0.2;\n",
"t_on=1*10^-6;\n",
"T=1/f;    //time period of signal\n",
"P_D_avg=(t_on/T)*I_c_sat*V_ce_sat;\n",
"disp(P_D_avg,'average power dissipation in Watts')"
   ]
   }
,
{
		   "cell_type": "markdown",
		   "metadata": {},
		   "source": [
			"## Example 9.8: class_C_efficiency.sce"
		   ]
		  },
  {
"cell_type": "code",
	   "execution_count": null,
	   "metadata": {
	    "collapsed": true
	   },
	   "outputs": [],
"source": [
"//ex9.8\n",
"P_D_avg=4*10^-3;    //from previous question\n",
"V_CC=24;\n",
"R_c=100;\n",
"P_out=(0.5*V_CC^2)/R_c;\n",
"n=(P_out)/(P_out+P_D_avg);    //n is efficiency\n",
"disp(n,'efficiency')"
   ]
   }
],
"metadata": {
		  "kernelspec": {
		   "display_name": "Scilab",
		   "language": "scilab",
		   "name": "scilab"
		  },
		  "language_info": {
		   "file_extension": ".sce",
		   "help_links": [
			{
			 "text": "MetaKernel Magics",
			 "url": "https://github.com/calysto/metakernel/blob/master/metakernel/magics/README.md"
			}
		   ],
		   "mimetype": "text/x-octave",
		   "name": "scilab",
		   "version": "0.7.1"
		  }
		 },
		 "nbformat": 4,
		 "nbformat_minor": 0
}
