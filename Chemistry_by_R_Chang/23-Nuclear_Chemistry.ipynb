{
"cells": [
 {
		   "cell_type": "markdown",
	   "metadata": {},
	   "source": [
       "# Chapter 23: Nuclear Chemistry"
	   ]
	},
{
		   "cell_type": "markdown",
		   "metadata": {},
		   "source": [
			"## Example 23.2: calculation_of_nuclear_binding_energy.sce"
		   ]
		  },
  {
"cell_type": "code",
	   "execution_count": null,
	   "metadata": {
	    "collapsed": true
	   },
	   "outputs": [],
"source": [
"//calculation of nuclear binding energy\n",
"\n",
"clear;\n",
"clc;\n",
"\n",
"printf('\t Example 23.2\n');\n",
"\n",
"NA=6.022*10^23;//avogadro number\n",
"c=3*10^8;//speed of light, m/s\n",
"p=1.007825;//mass of proton, amu\n",
"n=1.008665;//mass of neutron, amu\n",
"mI=126.9004;//atomic mass of I, amu\n",
"pI=53*p+74*n;//estimated mass of I, amu\n",
"deltam=mI-pI;//mass defect, amu\n",
"deltaE=-deltam*c^2;//energy released, amu m^2/s^2\n",
"deltaE=deltaE/(NA*1000);//energy released in J\n",
"deltaE=deltaE/127;//binding energy per nucleon, J\n",
"\n",
"printf('\t the nuclear binding energy per nucleon is : %4.2f *10^-12 J/nucleon\n',deltaE*10^12);\n",
"\n",
"//End"
   ]
   }
],
"metadata": {
		  "kernelspec": {
		   "display_name": "Scilab",
		   "language": "scilab",
		   "name": "scilab"
		  },
		  "language_info": {
		   "file_extension": ".sce",
		   "help_links": [
			{
			 "text": "MetaKernel Magics",
			 "url": "https://github.com/calysto/metakernel/blob/master/metakernel/magics/README.md"
			}
		   ],
		   "mimetype": "text/x-octave",
		   "name": "scilab",
		   "version": "0.7.1"
		  }
		 },
		 "nbformat": 4,
		 "nbformat_minor": 0
}
