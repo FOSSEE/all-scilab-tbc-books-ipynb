{
"cells": [
 {
		   "cell_type": "markdown",
	   "metadata": {},
	   "source": [
       "# Chapter 18: Entropy Free Energy and Equilibrium"
	   ]
	},
{
		   "cell_type": "markdown",
		   "metadata": {},
		   "source": [
			"## Example 18.2: Entropy_changes_in_the_system.sce"
		   ]
		  },
  {
"cell_type": "code",
	   "execution_count": null,
	   "metadata": {
	    "collapsed": true
	   },
	   "outputs": [],
"source": [
"//Entropy changes in the system\n",
"\n",
"clear;\n",
"clc;\n",
"\n",
"printf('\t Example 18.2\n');\n",
"\n",
"//(a)\n",
"SCaO=39.8;//standard entropy of CaO, J/K mol\n",
"SCO2=213.6;//standard entropy of CO2, J/K mol\n",
"SCaCO3=92.9;//standard entropy of CaCO3, J/K mol\n",
"\n",
"deltaSrxn=SCaO+SCO2-SCaCO3;//standard entropy change of the reaction, J/K mol\n",
"printf('\t (a) the standard entropy of reaction is : %4.1f J/K mol\n',deltaSrxn);\n",
"\n",
"//(b)\n",
"SNH3=193;//standard entropy of NH3, J/K mol\n",
"SN2=192;//standard entropy of N2, J/K mol\n",
"SH2=131;//standard entropy of H2, J/K mol\n",
"\n",
"deltaSrxn=2*SNH3-(SN2+3*SH2);//standard entropy change of the reaction, J/K mol\n",
"printf('\t (b) the standard entropy of reaction is : %4.0f J/K mol\n',deltaSrxn);\n",
"\n",
"//(c)\n",
"SHCl=187;//standard entropy of HCl, J/K mol\n",
"SH2=131;//standard entropy of H2, J/K mol\n",
"SCl2=223;//standard entropy of Cl2, J/K mol\n",
"\n",
"deltaSrxn=2*SHCl-SH2-SCl2;//standard entropy change of the reaction, J/K mol\n",
"printf('\t (c) the standard entropy of reaction is : %4.0f J/K mol\n',deltaSrxn);\n",
"//End"
   ]
   }
,
{
		   "cell_type": "markdown",
		   "metadata": {},
		   "source": [
			"## Example 18.4: free_energy_changes_in_the_system.sce"
		   ]
		  },
  {
"cell_type": "code",
	   "execution_count": null,
	   "metadata": {
	    "collapsed": true
	   },
	   "outputs": [],
"source": [
"//free energy changes in the system\n",
"\n",
"clear;\n",
"clc;\n",
"\n",
"printf('\t Example 18.4\n');\n",
"\n",
"//(a)\n",
"GCO2=-394.4;//free energy of formation of CO2, kJ/mol\n",
"GH2O=-237.2;//free energy of formation of H2O, kJ/mol\n",
"GCH4=-50.8;//free energy of formation of CH4, kJ/mol\n",
"GO2=0;//free energy of formation of O2, kJ/mol\n",
"\n",
"deltaGrxn=(GCO2+GH2O*2)-(GCH4+2*GO2);//standard free energy change of the reaction, kJ/mol\n",
"\n",
"printf('\t (a) the standard free energy change of reaction is : %4.1f kJ/mol\n',deltaGrxn);\n",
"\n",
"//(b)\n",
"GMg=0;//free energy of formation of Mg, kJ/mol\n",
"GMgO=-569.6;//free energy of formation of MgO, kJ/mol\n",
"GO2=0;//free energy of formation of O2, kJ/mol\n",
"\n",
"deltaGrxn=(GO2+GMg*2)-(2*GMgO);//standard free energy change of the reaction, kJ/mol\n",
"\n",
"printf('\t (b) the standard free energy change of reaction is : %4.0f kJ/mol\n',deltaGrxn);\n",
"\n",
"//End"
   ]
   }
,
{
		   "cell_type": "markdown",
		   "metadata": {},
		   "source": [
			"## Example 18.5: entropy_changes_in_the_system_for_phase_transitions.sce"
		   ]
		  },
  {
"cell_type": "code",
	   "execution_count": null,
	   "metadata": {
	    "collapsed": true
	   },
	   "outputs": [],
"source": [
"//entropy changes in the system for phase transitions\n",
"\n",
"clear;\n",
"clc;\n",
"\n",
"printf('\t Example 18.5\n');\n",
"\n",
"//for fusion\n",
"T=5.5+273;//temperature of fusion, K\n",
"deltaH=10.9*1000;//change in enthalpy, J/mol\n",
"deltaSf=deltaH/T;//since in fusion deltaG=0, J/ K mol\n",
"\n",
"//for vaporisation\n",
"T=80.1+273;//temperature of vaporisation, K\n",
"deltaH=31*1000;//change in enthalpy, J/mol\n",
"deltaSv=deltaH/T;//since in vaporisation deltaG=0, J/ K mol\n",
"\n",
"printf('\t the entropy change for fusion and condensation are : %4.1f J/K mol and %4.1f J/K mol respectively\n',deltaSf,deltaSv);\n",
"\n",
"//End"
   ]
   }
,
{
		   "cell_type": "markdown",
		   "metadata": {},
		   "source": [
			"## Example 18.6: computation_of_equilibrium_constant_from_free_energy_of_a_rxn.sce"
		   ]
		  },
  {
"cell_type": "code",
	   "execution_count": null,
	   "metadata": {
	    "collapsed": true
	   },
	   "outputs": [],
"source": [
"//computation of equilibrium constant from free energy of a rxn\n",
"\n",
"clear;\n",
"clc;\n",
"\n",
"printf('\t Example 18.6\n');\n",
"\n",
"T=298;//temperature, K\n",
"R=8.314;//gas constant, J/K mol\n",
"GH2=0;//free energy of formation of H2, kJ/mol\n",
"GH2O=-237.2;//free energy of formation of H2O, kJ/mol\n",
"GO2=0;//free energy of formation of O2, kJ/mol\n",
"deltaG=1000*(2*GH2+GO2-2*GH2O);//free energy of rxn, J/mol\n",
"\n",
"Kp=exp(-deltaG/(R*T));//equilibrium constant for rxn\n",
"\n",
"printf('\t the equilibrium constant for the given reaction is : %2.0f*10^-84\n',Kp*10^84);\n",
"\n",
"//End"
   ]
   }
,
{
		   "cell_type": "markdown",
		   "metadata": {},
		   "source": [
			"## Example 18.7: computation_of_free_energy_of_a_rxn_from_equilibrium_constant.sce"
		   ]
		  },
  {
"cell_type": "code",
	   "execution_count": null,
	   "metadata": {
	    "collapsed": true
	   },
	   "outputs": [],
"source": [
"//computation of free energy of a rxn from equilibrium constant\n",
"\n",
"clear;\n",
"clc;\n",
"\n",
"printf('\t Example 18.7\n');\n",
"\n",
"T=298;//temperature, K\n",
"R=8.314;//gas constant, J/K mol\n",
"Ksp=1.6*10^-10;//solubility constant\n",
"deltaG=-R*T*log(Ksp);//here solubility product is equal to equilibrium constant\n",
"\n",
"printf('\t the free energy for the given reaction is : %4.0f kJ/mol \n',deltaG*10^-3);\n",
"\n",
"//End"
   ]
   }
,
{
		   "cell_type": "markdown",
		   "metadata": {},
		   "source": [
			"## Example 18.8: computation_of_free_energy_of_a_rxn_from_conc_of_components.sce"
		   ]
		  },
  {
"cell_type": "code",
	   "execution_count": null,
	   "metadata": {
	    "collapsed": true
	   },
	   "outputs": [],
"source": [
"//computation of free energy of a rxn from conc of components\n",
"\n",
"clear;\n",
"clc;\n",
"\n",
"printf('\t Example 18.8\n');\n",
"\n",
"T=298;//temperature, K\n",
"R=8.314;//gas constant, J/K mol\n",
"deltaG0=5.4*10^3;//standard free energy, kJ/mol\n",
"pNO2=0.122;//pressure of NO2, atm\n",
"pN2O4=0.453;//pressure of N2O4, atm\n",
"deltaG=deltaG0+R*T*log(pNO2^2/pN2O4);//here solubility product is equal to equilibrium constant\n",
"\n",
"if(deltaG<0) then//equilibrium determination\n",
"    d='net reaction proceeds from left to right to reach equilibrium';\n",
"else\n",
"    d='net reaction proceeds from right to left to reach equilibrium';\n",
"end;\n",
"printf('\t the free energy for the given reaction is : %4.2f kJ/mol and %s\n',deltaG*10^-3,d);\n",
"\n",
"//End"
   ]
   }
],
"metadata": {
		  "kernelspec": {
		   "display_name": "Scilab",
		   "language": "scilab",
		   "name": "scilab"
		  },
		  "language_info": {
		   "file_extension": ".sce",
		   "help_links": [
			{
			 "text": "MetaKernel Magics",
			 "url": "https://github.com/calysto/metakernel/blob/master/metakernel/magics/README.md"
			}
		   ],
		   "mimetype": "text/x-octave",
		   "name": "scilab",
		   "version": "0.7.1"
		  }
		 },
		 "nbformat": 4,
		 "nbformat_minor": 0
}
