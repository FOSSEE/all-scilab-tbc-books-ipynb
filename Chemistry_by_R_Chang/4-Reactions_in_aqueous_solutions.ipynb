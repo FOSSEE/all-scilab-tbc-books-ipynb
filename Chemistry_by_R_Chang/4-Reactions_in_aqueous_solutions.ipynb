{
"cells": [
 {
		   "cell_type": "markdown",
	   "metadata": {},
	   "source": [
       "# Chapter 4: Reactions in aqueous solutions"
	   ]
	},
{
		   "cell_type": "markdown",
		   "metadata": {},
		   "source": [
			"## Example 4.10: Acid_Base_Titrations.sce"
		   ]
		  },
  {
"cell_type": "code",
	   "execution_count": null,
	   "metadata": {
	    "collapsed": true
	   },
	   "outputs": [],
"source": [
"// Acid Base Titrations\n",
"\n",
"clear;\n",
"clc;\n",
"\n",
"printf('\t Example 4.10\n');\n",
"\n",
"mKHP=0.5468;//mass of KHP, g\n",
"KHP=204.2;//mol mass of KHP, g\n",
"\n",
"nKHP=mKHP/KHP;//moles of KHP\n",
"\n",
"VNaOH=23.48;//volume of NaOH, mL\n",
"MNaOH=nKHP/VNaOH*1000;//molarity of NaOH sol, M\n",
"\n",
"\n",
"printf('\t the molarity of NaOH solution is : %4.3f M\n',MNaOH);\n",
"\n",
"//End"
   ]
   }
,
{
		   "cell_type": "markdown",
		   "metadata": {},
		   "source": [
			"## Example 4.11: Acid_Base_Titrations.sce"
		   ]
		  },
  {
"cell_type": "code",
	   "execution_count": null,
	   "metadata": {
	    "collapsed": true
	   },
	   "outputs": [],
"source": [
"// Acid Base Titrations\n",
"\n",
"clear;\n",
"clc;\n",
"\n",
"printf('\t Example 4.11\n');\n",
"\n",
"MNaOH=0.610;//molarity of NaOH, M\n",
"VH2SO4=20;//volume of H2SO4, mL\n",
"MH2SO4=0.245;//molarity of H2SO4, M\n",
"nH2SO4=MH2SO4*VH2SO4/1000;//moles of H2SO4\n",
"\n",
"VNaOH=2*nH2SO4/MNaOH;//Volume of NaOH, L\n",
"\n",
"printf('\t the volume of NaOH solution is : %4.1f mL\n',VNaOH*1000);\n",
"\n",
"//End"
   ]
   }
,
{
		   "cell_type": "markdown",
		   "metadata": {},
		   "source": [
			"## Example 4.12: Redox_Titrations.sce"
		   ]
		  },
  {
"cell_type": "code",
	   "execution_count": null,
	   "metadata": {
	    "collapsed": true
	   },
	   "outputs": [],
"source": [
"// Redox Titrations\n",
"\n",
"clear;\n",
"clc;\n",
"\n",
"printf('\t Example 4.12\n');\n",
"\n",
"MKMnO4=0.1327;//molarity of KMnO4, M\n",
"VKMnO4=16.42;//volume of KMnO4, mL\n",
"nKMnO4=MKMnO4*VKMnO4/1000;\n",
"\n",
"nFeSO4=5*nKMnO4;\n",
"VFeSO4=25;//volume of FeSO4, mL\n",
"\n",
"MFeSO4=nFeSO4/VFeSO4*1000;\n",
"\n",
"printf('\t the molarity of FeSO4 solution is : %4.4f M\n',MFeSO4);\n",
"\n",
"//End"
   ]
   }
,
{
		   "cell_type": "markdown",
		   "metadata": {},
		   "source": [
			"## Example 4.6: Computation_of_mass_from_concentration_and_volume.sce"
		   ]
		  },
  {
"cell_type": "code",
	   "execution_count": null,
	   "metadata": {
	    "collapsed": true
	   },
	   "outputs": [],
"source": [
"// Computation of mass from concentration and volume\n",
"\n",
"clear;\n",
"clc;\n",
"\n",
"printf('\t Example 4.6\n');\n",
"\n",
"K2Cr2O7=294.2;//mol mass of K2Cr2O7, g\n",
"\n",
"M=2.16;//Concentration of K2Cr2O7, M\n",
"\n",
"V=0.250;//volume of K2Cr2O7, L\n",
"\n",
"moles=M*V;//moles of K2Cr2O7\n",
"\n",
"mass=moles*K2Cr2O7;\n",
"\n",
"printf('\t the mass of the K2Cr2O7 needed is : %4.0f g\n',mass);\n",
"\n",
"//End"
   ]
   }
,
{
		   "cell_type": "markdown",
		   "metadata": {},
		   "source": [
			"## Example 4.7: Computation_of_volume_from_concentration_and_mass.sce"
		   ]
		  },
  {
"cell_type": "code",
	   "execution_count": null,
	   "metadata": {
	    "collapsed": true
	   },
	   "outputs": [],
"source": [
"// Computation of volume from concentration and mass\n",
"\n",
"clear;\n",
"clc;\n",
"\n",
"printf('\t Example 4.7\n');\n",
"\n",
"mGlucose=3.81;//mass of Glucose, g\n",
"\n",
"Glucose=180.2;//mol mass of Glucose, g\n",
"\n",
"M=2.53;//Concentration of Glucose, M\n",
"\n",
"moles=mGlucose/Glucose;//moles of Glucose\n",
"\n",
"V=moles/M;//volume of Glucose, L\n",
"\n",
"\n",
"printf('\t the volume of the Glucose needed is : %4.2f mL\n',V*1000);\n",
"\n",
"//End"
   ]
   }
,
{
		   "cell_type": "markdown",
		   "metadata": {},
		   "source": [
			"## Example 4.8: Dilution_of_solution.sce"
		   ]
		  },
  {
"cell_type": "code",
	   "execution_count": null,
	   "metadata": {
	    "collapsed": true
	   },
	   "outputs": [],
"source": [
"// Dilution of solution\n",
"\n",
"clear;\n",
"clc;\n",
"\n",
"printf('\t Example 4.8\n');\n",
"\n",
"M2=1.75;//final Concentration of H2SO4, M\n",
"\n",
"V2=500;//final volume of H2SO4, mL\n",
"\n",
"M1=8.61;//initial Concentration of H2SO4, M\n",
"\n",
"V1=M2*V2/M1;//initail volume of H2SO4, mL\n",
"\n",
"printf('\t the volume of the H2SO4 needed to dilute the solution is : %4.0f mL\n',V1);\n",
"\n",
"//End"
   ]
   }
,
{
		   "cell_type": "markdown",
		   "metadata": {},
		   "source": [
			"## Example 4.9: Gravimetric_Analysis.sce"
		   ]
		  },
  {
"cell_type": "code",
	   "execution_count": null,
	   "metadata": {
	    "collapsed": true
	   },
	   "outputs": [],
"source": [
"// Gravimetric Analysis\n",
"\n",
"clear;\n",
"clc;\n",
"\n",
"printf('\t Example 4.9\n');\n",
"\n",
"mSample=0.5662;//mass of sample, g\n",
"\n",
"Cl=35.5;//mol mass of Cl, g\n",
"AgCl=143.4;//mol mass of AgCl, g\n",
"\n",
"mAgCl=1.0882;//mass of AgCl formed, g\n",
"\n",
"%Cl(AgCl)=Cl/AgCl*100;//percent Cl in AgCl\n",
"mCl=%Cl(AgCl)*mAgCl/100;//mass of Cl in AgCl, g\n",
"\n",
"//the same amount of Cl is present in initial sample\n",
"\n",
"%Cl=mCl/mSample*100;//percent Cl in initial sample\n",
"\n",
"printf('\t the percentage of Cl in sample is : %4.2f percent\n',%Cl);\n",
"\n",
"//End"
   ]
   }
],
"metadata": {
		  "kernelspec": {
		   "display_name": "Scilab",
		   "language": "scilab",
		   "name": "scilab"
		  },
		  "language_info": {
		   "file_extension": ".sce",
		   "help_links": [
			{
			 "text": "MetaKernel Magics",
			 "url": "https://github.com/calysto/metakernel/blob/master/metakernel/magics/README.md"
			}
		   ],
		   "mimetype": "text/x-octave",
		   "name": "scilab",
		   "version": "0.7.1"
		  }
		 },
		 "nbformat": 4,
		 "nbformat_minor": 0
}
