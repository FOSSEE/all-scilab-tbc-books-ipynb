{
"cells": [
 {
		   "cell_type": "markdown",
	   "metadata": {},
	   "source": [
       "# Chapter 3: Mass Relationships in Chemical Reactions"
	   ]
	},
{
		   "cell_type": "markdown",
		   "metadata": {},
		   "source": [
			"## Example 3.10: mass_of_an_element_in_a_given_compound.sce"
		   ]
		  },
  {
"cell_type": "code",
	   "execution_count": null,
	   "metadata": {
	    "collapsed": true
	   },
	   "outputs": [],
"source": [
"//mass of an element in a given compound\n",
"\n",
"clear;\n",
"clc;\n",
"\n",
"printf('\t Example 3.10\n');\n",
"\n",
"massCuFeS2=3.71*10^3;//given mass of CuFeS2, kg\n",
"CuFeS2=183.5;//mol. mass of CuFeS2, g\n",
"Cu=63.55;//mol. mass of Cu, g\n",
"percentCu=Cu/CuFeS2*100;//percent Cu in CuFeS2\n",
"massCu=percentCu*massCuFeS2/100;//mass of Cu in given CuFeS2, kg\n",
"\n",
"printf('\t the mass of Cu in CuFeS2 is : %1.2f*10^3 kg\n',massCu*10^-3);\n",
"\n",
"//End"
   ]
   }
,
{
		   "cell_type": "markdown",
		   "metadata": {},
		   "source": [
			"## Example 3.13: mass_of_an_compound_produced_from_certain_mass_of_a_given_compound.sce"
		   ]
		  },
  {
"cell_type": "code",
	   "execution_count": null,
	   "metadata": {
	    "collapsed": true
	   },
	   "outputs": [],
"source": [
"//mass of an compound produced from certain mass of a given compound\n",
"\n",
"clear;\n",
"clc;\n",
"\n",
"printf('\t Example 3.13\n');\n",
"\n",
"CO2=44.01;//mol. mass of CO2, g\n",
"Glucose=180.2;//mol. mass of Glucose, g\n",
"massGlucose=856;//given mass of Glucose, g\n",
"moleGlucose=massGlucose/Glucose;// moles of glucose\n",
"moleCO2=moleGlucose*6;//1 mole glucose gives 6 moles of CO2\n",
"massCO2=moleCO2*CO2;// mass of CO2, g\n",
"\n",
"printf('\t the mass of CO2 is : %1.2f*10^3 g\n',massCO2*10^-3);\n",
"\n",
"//End"
   ]
   }
,
{
		   "cell_type": "markdown",
		   "metadata": {},
		   "source": [
			"## Example 3.14: amount_of_reactants_and_products.sce"
		   ]
		  },
  {
"cell_type": "code",
	   "execution_count": null,
	   "metadata": {
	    "collapsed": true
	   },
	   "outputs": [],
"source": [
"//amount of reactants and products\n",
"\n",
"clear;\n",
"clc;\n",
"\n",
"printf('\t Example 3.14\n');\n",
"\n",
"H2=2.016;//mol. mass of H2, g\n",
"Li=6.941;//mol. mass of Li, g\n",
"mH2=9.89;//mass of H2, g\n",
"nH2=mH2/H2;//moles of H2\n",
"nLi=2*nH2;//moles of Li, 1mol H2 given by 2mol Li\n",
"mLi=Li*nLi;////mass of Li, g\n",
"\n",
"printf('\t the mass of Li is : %1.1f g\n',mLi);\n",
"\n",
"//End"
   ]
   }
,
{
		   "cell_type": "markdown",
		   "metadata": {},
		   "source": [
			"## Example 3.15: limiting_and_excess_reagent.sce"
		   ]
		  },
  {
"cell_type": "code",
	   "execution_count": null,
	   "metadata": {
	    "collapsed": true
	   },
	   "outputs": [],
"source": [
"//limiting and excess reagent\n",
"\n",
"clear;\n",
"clc;\n",
"\n",
"printf('\t Example 3.15\n');\n",
"\n",
"Urea=60.06;//mol. mass of Urea, g\n",
"NH3=17.03;//mol. mass of NH3, g\n",
"CO2=44.01;//mol. mass of CO2, g\n",
"\n",
"//(a)\n",
"//for NH3\n",
"mNH3=637.2;//mass of NH3, g\n",
"nNH3=mNH3/NH3;//moles of NH3\n",
"nUrea1=nNH3/2;//moles of Urea\n",
"\n",
"//for CO2\n",
"mCO2=1142;//mol. mass of CO2, g\n",
"nCO2=mCO2/CO2;//moles of CO2\n",
"nUrea2=nCO2;//moles of Urea\n",
"\n",
"if(nUrea1>nUrea2) then//finding limiting reagent\n",
"    nUrea=nUrea2;\n",
"    limiting='CO2';\n",
"else limiting='NH3';\n",
"    nUrea=nUrea1;\n",
"    end;\n",
"printf('\t the limiting reagent is : %s\n',limiting);\n",
"\n",
"//(b)\n",
"mUrea=nUrea*Urea;//mass of urea produced\n",
"printf('\t the mass of the Urea produced is : %1.0f g\n',mUrea);\n",
"\n",
"//(c)\n",
"if(limiting=='NH3') then//finding excess reagent\n",
"    nCO2excess=nCO2-nNH3/2;\n",
"    mCO2excess=nCO2excess*CO2;\n",
"printf('\t the mass of excess CO2 is : %1.0f g\n',mCO2excess);\n",
"else nNH3excess=nNH3-2*nCO2;\n",
"     mNH3excess=nNH3excess*NH3;\n",
"printf('\t the mass of excess NH3 is : %1.0f g\n',mNH3excess);    \n",
"end;\n",
"\n",
"//End\n",
""
   ]
   }
,
{
		   "cell_type": "markdown",
		   "metadata": {},
		   "source": [
			"## Example 3.16: amount_of_reactants_and_products.sce"
		   ]
		  },
  {
"cell_type": "code",
	   "execution_count": null,
	   "metadata": {
	    "collapsed": true
	   },
	   "outputs": [],
"source": [
"//amount of reactants and products\n",
"\n",
"clear;\n",
"clc;\n",
"\n",
"printf('\t Example 3.16\n');\n",
"\n",
"//(a)\n",
"\n",
"//for TiCl4\n",
"mTiCl4=3.54*10^7;//mass of TiCl4, g\n",
"nTiCl4=mTiCl4/189.7;//moles of TiCl4\n",
"nTi1=nTiCl4*1;//moles of Ti\n",
"\n",
"//for Mg\n",
"mMg=1.13*10^7;//mass of Mg, g\n",
"nMg=mMg/24.31;//moles of Mg\n",
"nTi2=nMg/2;//moles of Ti\n",
"\n",
"if(nTi1>nTi2) then//finding imiting reagent\n",
"     nTi=nTi2;\n",
"else nTi=nTi1;\n",
"end;\n",
"mTi=nTi*47.88;\n",
"\n",
"printf('\t the theoretical yield is : %1.2f*10^6 g\n',mTi*10^-6);\n",
"\n",
"//(b)\n",
"\n",
"mTiactual=7.91*10^6;//given, actual Ti produced\n",
"%yield=mTiactual/mTi*100;\n",
"printf('\t the percent yield is : %1.1f percent\n',%yield);\n",
"\n",
"//End"
   ]
   }
,
{
		   "cell_type": "markdown",
		   "metadata": {},
		   "source": [
			"## Example 3.1: Average_Atomic_Mass.sce"
		   ]
		  },
  {
"cell_type": "code",
	   "execution_count": null,
	   "metadata": {
	    "collapsed": true
	   },
	   "outputs": [],
"source": [
"// Average Atomic Mass\n",
"\n",
"clear;\n",
"clc;\n",
"\n",
"printf('\t Example 3.1\n');\n",
"\n",
"Cu63=69.09;//percent of Cu 62.93 amu\n",
"\n",
"Cu65=30.91;//percent of Cu 64.9278 amu\n",
"\n",
"AverageAMU=62.93*Cu63/100+64.9278*Cu65/100;// average amu\n",
"\n",
"printf('\t the average atomic mass of Copper is : %4.2f amu\n',AverageAMU);\n",
"\n",
"\n",
"//End"
   ]
   }
,
{
		   "cell_type": "markdown",
		   "metadata": {},
		   "source": [
			"## Example 3.2: Computation_of_number_of_moles_from_mass.sce"
		   ]
		  },
  {
"cell_type": "code",
	   "execution_count": null,
	   "metadata": {
	    "collapsed": true
	   },
	   "outputs": [],
"source": [
"// Computation of no. of moles from mass\n",
"\n",
"clear;\n",
"clc;\n",
"\n",
"printf('\t Example 3.2\n');\n",
"\n",
"mass=6.46;//mass of He, g\n",
"\n",
"moles=mass/4.003;//no. of moles of He, as mol. mass of He is 4.003 amu\n",
"\n",
"printf('\t the no. of moles of He is : %4.2f mol\n',moles);\n",
"\n",
"\n",
"//End"
   ]
   }
,
{
		   "cell_type": "markdown",
		   "metadata": {},
		   "source": [
			"## Example 3.3: Computation_of_mass_from_moles.sce"
		   ]
		  },
  {
"cell_type": "code",
	   "execution_count": null,
	   "metadata": {
	    "collapsed": true
	   },
	   "outputs": [],
"source": [
"// Computation of mass from moles\n",
"\n",
"clear;\n",
"clc;\n",
"\n",
"printf('\t Example 3.3\n');\n",
"\n",
"moles=0.356;//moles of Zn\n",
"\n",
"mass=moles*65.39;//mass of Zn, g, 1 mole=65.39 g\n",
"\n",
"printf('\t the mass of Zn is : %4.1f g\n',mass);\n",
"\n",
"\n",
"//End"
   ]
   }
,
{
		   "cell_type": "markdown",
		   "metadata": {},
		   "source": [
			"## Example 3.4: Computation_of_number_of_atoms_from_mass.sce"
		   ]
		  },
  {
"cell_type": "code",
	   "execution_count": null,
	   "metadata": {
	    "collapsed": true
	   },
	   "outputs": [],
"source": [
"// Computation of no. of atoms from mass\n",
"\n",
"clear;\n",
"clc;\n",
"\n",
"printf('\t Example 3.4\n');\n",
"\n",
"Na=6.022*10^23;// Avogadro number, atoms/mol\n",
"\n",
"mass=16.3;//mass of sulfur, g\n",
"\n",
"moles=mass/32.07;//moles of S\n",
"\n",
"atoms=moles*Na;//number of atoms of S\n",
"\n",
"printf('\t the no. of atoms of S is : %4.2f*10^23\n',atoms*10^-23);\n",
"\n",
"\n",
"//End"
   ]
   }
,
{
		   "cell_type": "markdown",
		   "metadata": {},
		   "source": [
			"## Example 3.5: Computation_of_molecular_mass_of_a_compound.sce"
		   ]
		  },
  {
"cell_type": "code",
	   "execution_count": null,
	   "metadata": {
	    "collapsed": true
	   },
	   "outputs": [],
"source": [
"// Computation of molecular mass of a compound\n",
"\n",
"clear;\n",
"clc;\n",
"\n",
"printf('\t Example 3.5\n');\n",
"\n",
"MassO=16;//mass of O, amu\n",
"\n",
"//(a)\n",
"MassS=32.07;//mass of S, amu\n",
"MassSO2=MassS+MassO*2;//mass of SO2, amu\n",
"\n",
"printf('\t the molecular mass of SO2 is : %4.2f amu\n',MassSO2);\n",
"\n",
"//(b)\n",
"MassN=14.01;//mass of N, amu\n",
"MassH=1.008;//mass of H, amu\n",
"MassC=12.01;//mass of C, amu\n",
"MassC8H10N4O2=8*MassC+10*MassH+4*MassN+2*MassO;\n",
"\n",
"printf('\t the molecular mass of C8H10N4O2 is : %4.2f amu\n',MassC8H10N4O2);\n",
"\n",
"//End"
   ]
   }
,
{
		   "cell_type": "markdown",
		   "metadata": {},
		   "source": [
			"## Example 3.6: Computation_of_moles_from_mass_of_a_compound.sce"
		   ]
		  },
  {
"cell_type": "code",
	   "execution_count": null,
	   "metadata": {
	    "collapsed": true
	   },
	   "outputs": [],
"source": [
"// Computation of moles from mass of a compound\n",
"clear;\n",
"clc;\n",
"printf('\t Example 3.6\n');\n",
"Mass=6.07;//mass of CH4, g\n",
"MassC=12.01;//mol. mass of C, amu\n",
"MassH=1.008;//mol. mass of H, amu\n",
"MassCH4=MassC+4*MassH;//mol. mass of CH4, amu\n",
"Moles=Mass/MassCH4;//no. of moles of CH4\n",
"printf('\t the no. of moles of CH4 is : %4.3f mol\n',Moles);\n",
"//End"
   ]
   }
,
{
		   "cell_type": "markdown",
		   "metadata": {},
		   "source": [
			"## Example 3.7: Computation_of_number_of_atoms_from_mass_of_a_compound.sce"
		   ]
		  },
  {
"cell_type": "code",
	   "execution_count": null,
	   "metadata": {
	    "collapsed": true
	   },
	   "outputs": [],
"source": [
"// Computation of no. of atoms from mass of a compound\n",
"\n",
"clear;\n",
"clc;\n",
"\n",
"printf('\t Example 3.7\n');\n",
"\n",
"Na=6.07*10^23;// Avogadro number, atoms/mol\n",
"Mass=25.6;//mass of Urea, g\n",
"MolMass=60.06;//mol. mass of Urea, g\n",
"moles=Mass/MolMass;//moles of Urea, mol\n",
"Atoms=moles*Na*4;//No. of atoms of Hydrogen\n",
"\n",
"printf('\t the no. of atoms of hydrogen are : %4.2f*10^24 atoms\n',Atoms*10^-24);\n",
"\n",
"//End"
   ]
   }
,
{
		   "cell_type": "markdown",
		   "metadata": {},
		   "source": [
			"## Example 3.8: Percentage_composition_of_a_compound.sce"
		   ]
		  },
  {
"cell_type": "code",
	   "execution_count": null,
	   "metadata": {
	    "collapsed": true
	   },
	   "outputs": [],
"source": [
"//Percentage composition of a compound\n",
"\n",
"clear;\n",
"clc;\n",
"\n",
"printf('\t Example 3.8\n');\n",
"\n",
"H=1.008;//molar mass of H, g\n",
"P=30.97;//molar mass of P, g\n",
"O=16;//molar mass of O, g\n",
"\n",
"MolMass=97.99;//mol. mass of H3PO4, g\n",
"percentH=3*H/MolMass*100;//percent of H\n",
"percentP=P/MolMass*100;//percent of P\n",
"percentO=4*O/MolMass*100;//percent of O\n",
"\n",
"printf('\t the percent by mass of Hydrogen is : %4.3f percent\n',percentH);\n",
"printf('\t the percent by mass of Phosphorus is : %4.2f percent\n',percentP);\n",
"printf('\t the percent by mass of Oxygen is : %4.2f percent\n',percentO);\n",
"\n",
"//End"
   ]
   }
,
{
		   "cell_type": "markdown",
		   "metadata": {},
		   "source": [
			"## Example 3.9: empirical_formula_of_a_compound_from_percentage_composition.sce"
		   ]
		  },
  {
"cell_type": "code",
	   "execution_count": null,
	   "metadata": {
	    "collapsed": true
	   },
	   "outputs": [],
"source": [
"//empirical formula of a compound from percentage composition\n",
"\n",
"clear;\n",
"clc;\n",
"\n",
"printf('\t Example 3.9\n');\n",
"\n",
"H=1.008;//molar mass of H, g\n",
"C=12.01;//molar mass of C, g\n",
"O=16;//molar mass of O, g\n",
"\n",
"percentC=40.92;//percent of C\n",
"nC=percentC/C;\n",
"\n",
"percentH=4.58;//percent of H\n",
"nH=percentH/H;\n",
"\n",
"percentO=54.500;//percent of O\n",
"nO=percentO/O;\n",
"\n",
"if(nC>nH) then// determining the smallest subscript\n",
"    small=nH;\n",
"else small=nC;\n",
"    if(small>nO) then\n",
"        small=nO;\n",
"    end\n",
"end;\n",
"\n",
"nC=nC/small;//dividing by the smallest subscript\n",
"nH=nH/small;\n",
"nO=nO/small;\n",
"//the approximate values of these variables are to be multiplied by appropriate number to make it an integer by trial and error method\n",
"//in this case we need to multiply with 3 to get integer values\n",
"nC=nC*3;\n",
"nH=nH*3;\n",
"nO=nO*3;\n",
"\n",
"printf('\t the empirical formula of ascorbic acid is : C%1.0f H%1.0f O%1.0f\n',nC,nH,nO);\n",
"\n",
"//End"
   ]
   }
],
"metadata": {
		  "kernelspec": {
		   "display_name": "Scilab",
		   "language": "scilab",
		   "name": "scilab"
		  },
		  "language_info": {
		   "file_extension": ".sce",
		   "help_links": [
			{
			 "text": "MetaKernel Magics",
			 "url": "https://github.com/calysto/metakernel/blob/master/metakernel/magics/README.md"
			}
		   ],
		   "mimetype": "text/x-octave",
		   "name": "scilab",
		   "version": "0.7.1"
		  }
		 },
		 "nbformat": 4,
		 "nbformat_minor": 0
}
