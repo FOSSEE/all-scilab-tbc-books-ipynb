{
"cells": [
 {
		   "cell_type": "markdown",
	   "metadata": {},
	   "source": [
       "# Chapter 7: Quantum Theory and the Electronic Structure of Atoms"
	   ]
	},
{
		   "cell_type": "markdown",
		   "metadata": {},
		   "source": [
			"## Example 7.1: calculation_of_speed_of_a_wave.sce"
		   ]
		  },
  {
"cell_type": "code",
	   "execution_count": null,
	   "metadata": {
	    "collapsed": true
	   },
	   "outputs": [],
"source": [
"//calculation of speed of a wave\n",
"\n",
"clear;\n",
"clc;\n",
"\n",
"printf('\t Example 7.1\n');\n",
"\n",
"lambda=17.4;//wavelength, cm\n",
"v=87.4;//frequency, Hz\n",
"u=lambda*v;//speed of wave, cm/s\n",
"\n",
"printf('\t the speed of a wave is : %4.2f *10^3 cm/s\n',u*10^-3);\n",
"\n",
"//End"
   ]
   }
,
{
		   "cell_type": "markdown",
		   "metadata": {},
		   "source": [
			"## Example 7.2: calculation_of_frequency_of_a_wave.sce"
		   ]
		  },
  {
"cell_type": "code",
	   "execution_count": null,
	   "metadata": {
	    "collapsed": true
	   },
	   "outputs": [],
"source": [
"//calculation of frequency of a wave\n",
"\n",
"clear;\n",
"clc;\n",
"\n",
"printf('\t Example 7.2\n');\n",
"\n",
"lambda=522*10^-9;//wavelength, m\n",
"c=3*10^8;//speed of light in vacuum, m/s\n",
"v=c/lambda;//frequency, Hz\n",
"\n",
"printf('\t the frequency of the wave is : %4.2f *10^14 Hz\n',v*10^-14);\n",
"\n",
"//End"
   ]
   }
,
{
		   "cell_type": "markdown",
		   "metadata": {},
		   "source": [
			"## Example 7.3: calculation_of_energy_of_a_photon.sce"
		   ]
		  },
  {
"cell_type": "code",
	   "execution_count": null,
	   "metadata": {
	    "collapsed": true
	   },
	   "outputs": [],
"source": [
"//calculation of energy of a photon\n",
"\n",
"clear;\n",
"clc;\n",
"\n",
"printf('\t Example 7.3\n');\n",
"\n",
"c=3*10^8;//speed of light in vacuum, m/s\n",
"h=6.63*10^-34;//planck's constant, J s\n",
"//(a)\n",
"lambda=5*10^-5;//wavelength, m\n",
"E=h*c/lambda;//energy, J\n",
"\n",
"printf('\t (a) the energy of the photon is : %4.2f *10^-21 J\n',E*10^21);\n",
"\n",
"//(b)\n",
"lambda=5*10^-11;//wavelength, m\n",
"E=h*c/lambda;//energy, J\n",
"\n",
"printf('\t (b) the energy of the photon is : %4.2f *10^-15 J\n',E*10^15);\n",
"\n",
"//End"
   ]
   }
,
{
		   "cell_type": "markdown",
		   "metadata": {},
		   "source": [
			"## Example 7.4: calculation_of_wavelength_of_a_photon_from_an_electronic_transition.sce"
		   ]
		  },
  {
"cell_type": "code",
	   "execution_count": null,
	   "metadata": {
	    "collapsed": true
	   },
	   "outputs": [],
"source": [
"//calculation of wavelength of a photon from an electronic transition\n",
"\n",
"clear;\n",
"clc;\n",
"\n",
"printf('\t Example 7.4\n');\n",
"\n",
"c=3*10^8;//speed of light in vacuum, m/s\n",
"h=6.63*10^-34;//planck's constant, J s\n",
"Rh=2.18*10^-18;//rydberg's constant, J\n",
"ni=5;//initial orbit\n",
"nf=2;//final orbit\n",
"deltaE=Rh*(1/ni^2-1/nf^2);\n",
"lambda=c*h/-deltaE;\n",
"\n",
"printf('\t the wavelength of the photon is : %4.0f nm\n',lambda*10^9);\n",
"\n",
"//End"
   ]
   }
,
{
		   "cell_type": "markdown",
		   "metadata": {},
		   "source": [
			"## Example 7.5: calculation_of_wavelength_of_a_particle.sce"
		   ]
		  },
  {
"cell_type": "code",
	   "execution_count": null,
	   "metadata": {
	    "collapsed": true
	   },
	   "outputs": [],
"source": [
"//calculation of wavelength of a particle\n",
"\n",
"clear;\n",
"clc;\n",
"\n",
"printf('\t Example 7.5\n');\n",
"\n",
"//(a)\n",
"h=6.63*10^-34;//planck's constant, J s\n",
"m=0.06;//mass, kg\n",
"u=63;//speed, m/s\n",
"lambda=h/(m*u);//wavelength, m\n",
"\n",
"printf('\t the wavelength of the tennis ball is : %4.1f *10^-34 m\n',lambda*10^34);\n",
"\n",
"//(b)\n",
"m=9.1094*10^-31;//mass, kg\n",
"u=68;//speed, m/s\n",
"lambda=h/(m*u);//wavelength, m\n",
"\n",
"printf('\t the wavelength of the electron is : %4.1f *10^-5 m\n',lambda*10^5);\n",
"\n",
"//End"
   ]
   }
],
"metadata": {
		  "kernelspec": {
		   "display_name": "Scilab",
		   "language": "scilab",
		   "name": "scilab"
		  },
		  "language_info": {
		   "file_extension": ".sce",
		   "help_links": [
			{
			 "text": "MetaKernel Magics",
			 "url": "https://github.com/calysto/metakernel/blob/master/metakernel/magics/README.md"
			}
		   ],
		   "mimetype": "text/x-octave",
		   "name": "scilab",
		   "version": "0.7.1"
		  }
		 },
		 "nbformat": 4,
		 "nbformat_minor": 0
}
