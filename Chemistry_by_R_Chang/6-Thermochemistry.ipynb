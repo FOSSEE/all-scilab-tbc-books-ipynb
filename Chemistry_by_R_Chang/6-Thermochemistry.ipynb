{
"cells": [
 {
		   "cell_type": "markdown",
	   "metadata": {},
	   "source": [
       "# Chapter 6: Thermochemistry"
	   ]
	},
{
		   "cell_type": "markdown",
		   "metadata": {},
		   "source": [
			"## Example 6.1: work_done_by_gas.sce"
		   ]
		  },
  {
"cell_type": "code",
	   "execution_count": null,
	   "metadata": {
	    "collapsed": true
	   },
	   "outputs": [],
"source": [
"//work done by gas\n",
"\n",
"clear;\n",
"clc;\n",
"\n",
"printf('\t Example 6.1\n');\n",
"\n",
"//(a)\n",
"P=0;//external pressure, atm\n",
"Vf=6;//final volume, L\n",
"Vi=2;//initial volume, L\n",
"W=-P*(Vf-Vi);//work in atm.L\n",
"\n",
"printf('\t the work done in expansion against vacuum is : %4.0f J\n',W);\n",
"\n",
"//(b)\n",
"P=1.2;//external pressure, atm\n",
"Vf=6;//final volume, L\n",
"Vi=2;//initial volume, L\n",
"W=-P*(Vf-Vi);//work in atm.L\n",
"W=W*101.3;//work in J\n",
"\n",
"printf('\t the work done in expansion against 1.2 atm pressure is : %4.1f *10^2 J\n',W*10^-2);\n",
"\n",
"//End"
   ]
   }
,
{
		   "cell_type": "markdown",
		   "metadata": {},
		   "source": [
			"## Example 6.2: change_in_energy_of_a_gas.sce"
		   ]
		  },
  {
"cell_type": "code",
	   "execution_count": null,
	   "metadata": {
	    "collapsed": true
	   },
	   "outputs": [],
"source": [
"//change in energy of a gas\n",
"\n",
"clear;\n",
"clc;\n",
"\n",
"printf('\t Example 6.2\n');\n",
"\n",
"q=-128;//heat transfer from the gas, J\n",
"w=462;//work done in compressing the gas, J\n",
"deltaE=q+w;//change in energy of the gas, J\n",
"\n",
"printf('\t the change in energy for the process is : %4.0f J\n',deltaE);\n",
"\n",
"//End"
   ]
   }
,
{
		   "cell_type": "markdown",
		   "metadata": {},
		   "source": [
			"## Example 6.3: heat_produced_in_a_reaction.sce"
		   ]
		  },
  {
"cell_type": "code",
	   "execution_count": null,
	   "metadata": {
	    "collapsed": true
	   },
	   "outputs": [],
"source": [
"//heat produced in a reaction\n",
"\n",
"clear;\n",
"clc;\n",
"\n",
"printf('\t Example 6.3\n');\n",
"\n",
"mSO2=74.2;//mass in g\n",
"SO2=64.07;//molar mass in g\n",
"nSO2=mSO2/SO2;//moles of SO2\n",
"deltaH=-99.1;//heat produced for 1 mol, in kJ/mol\n",
"Hprod=deltaH*nSO2;//heat produced in this case, in kJ/mol\n",
"\n",
"printf('\t the heat produced in a reaction is : %4.0f kJ\n',Hprod);\n",
"\n",
"//End"
   ]
   }
,
{
		   "cell_type": "markdown",
		   "metadata": {},
		   "source": [
			"## Example 6.4: change_in_internal_energy_in_a_reaction.sce"
		   ]
		  },
  {
"cell_type": "code",
	   "execution_count": null,
	   "metadata": {
	    "collapsed": true
	   },
	   "outputs": [],
"source": [
"//change in internal energy in a reaction\n",
"\n",
"clear;\n",
"clc;\n",
"\n",
"printf('\t Example 6.4\n');\n",
"\n",
"R=8.314;//gas constant, J/K. mol\n",
"T=298;//temp in K\n",
"deltaH=-566;//enthalpy change, kJ/mol\n",
"deltan=2-3;//change in gas moles\n",
"deltaE=deltaH-R*T*deltan/1000;//change in internal energy, kJ/mol\n",
"\n",
"printf('\t the change in internal energy in the reaction is : %4.1f kJ/mol\n',deltaE);\n",
"\n",
"//End"
   ]
   }
,
{
		   "cell_type": "markdown",
		   "metadata": {},
		   "source": [
			"## Example 6.5: amount_of_heat_absorbed.sce"
		   ]
		  },
  {
"cell_type": "code",
	   "execution_count": null,
	   "metadata": {
	    "collapsed": true
	   },
	   "outputs": [],
"source": [
"//amount of heat absorbed\n",
"\n",
"clear;\n",
"clc;\n",
"\n",
"printf('\t Example 6.5\n');\n",
"\n",
"m=466;//mass in g\n",
"s=4.184;//specific heat in J/g C\n",
"deltaT=74.6-8.5;//change in temp, C/K\n",
"q=m*s*deltaT;//amount of heat absorbed, kJ\n",
"\n",
"printf('\t the amount of heat absorbed is : %4.0f kJ\n',q);\n",
"\n",
"//End"
   ]
   }
,
{
		   "cell_type": "markdown",
		   "metadata": {},
		   "source": [
			"## Example 6.6: calculation_of_molar_heat_of_combustion.sce"
		   ]
		  },
  {
"cell_type": "code",
	   "execution_count": null,
	   "metadata": {
	    "collapsed": true
	   },
	   "outputs": [],
"source": [
"//calculation of molar heat of combustion\n",
"\n",
"clear;\n",
"clc;\n",
"\n",
"printf('\t Example 6.6\n');\n",
"\n",
"Ccal=10.17;//heat capacity, kJ/C\n",
"deltaT=25.95-20.28;//change in temp, C\n",
"qcal=Ccal*deltaT;\n",
"m=1.435;//mass of naphthalene, g\n",
"molm=128.2;//mol mass of naphthalene, g\n",
"q=-qcal*molm/m;//molar heat of combustion of naphthalene, kJ\n",
"\n",
"printf('\t the molar heat of combustion of naphthalene is : %4.3f*10^3 kJ/mol\n',q*10^-3);\n",
"\n",
"//End"
   ]
   }
,
{
		   "cell_type": "markdown",
		   "metadata": {},
		   "source": [
			"## Example 6.7: calculation_of_specific_heat.sce"
		   ]
		  },
  {
"cell_type": "code",
	   "execution_count": null,
	   "metadata": {
	    "collapsed": true
	   },
	   "outputs": [],
"source": [
"//calculation of specific heat\n",
"\n",
"clear;\n",
"clc;\n",
"\n",
"printf('\t Example 6.7\n');\n",
"\n",
"//for water\n",
"m=100;//mass, g\n",
"s=4.184;//specific heat, J/g C\n",
"deltaT=23.17-22.5;//change in temp., C\n",
"qH2O=m*s*deltaT;//heat gained by water, J\n",
"\n",
"//for lead\n",
"qPb=-qH2O;//heat lost by lead, J\n",
"m=26.47;//mass, g\n",
"deltaT=23.17-89.98;//change in temp., C\n",
"s=qPb/(m*deltaT);//specific heat, J/g C\n",
"\n",
"printf('\t the specific heat of lead is : %4.3f J/g C\n',s);\n",
"\n",
"//End"
   ]
   }
,
{
		   "cell_type": "markdown",
		   "metadata": {},
		   "source": [
			"## Example 6.8: calculation_of_heat_of_neutralization.sce"
		   ]
		  },
  {
"cell_type": "code",
	   "execution_count": null,
	   "metadata": {
	    "collapsed": true
	   },
	   "outputs": [],
"source": [
"//calculation of heat of neutralization\n",
"\n",
"clear;\n",
"clc;\n",
"\n",
"printf('\t Example 6.8\n');\n",
"\n",
"//for water\n",
"m=100+100;//mass, g\n",
"s=4.184;//specific heat, J/g C\n",
"deltaT=25.86-22.5;//change in temp., C\n",
"qsoln=m*s*deltaT/1000;//heat gained by water, kJ\n",
"\n",
"qrxn=-qsoln;\n",
"Hneut=qrxn/(0.5*0.1);\n",
"\n",
"printf('\t the heat of neutralization is : %4.1f kJ/mol\n',Hneut);\n",
"\n",
"//End"
   ]
   }
],
"metadata": {
		  "kernelspec": {
		   "display_name": "Scilab",
		   "language": "scilab",
		   "name": "scilab"
		  },
		  "language_info": {
		   "file_extension": ".sce",
		   "help_links": [
			{
			 "text": "MetaKernel Magics",
			 "url": "https://github.com/calysto/metakernel/blob/master/metakernel/magics/README.md"
			}
		   ],
		   "mimetype": "text/x-octave",
		   "name": "scilab",
		   "version": "0.7.1"
		  }
		 },
		 "nbformat": 4,
		 "nbformat_minor": 0
}
