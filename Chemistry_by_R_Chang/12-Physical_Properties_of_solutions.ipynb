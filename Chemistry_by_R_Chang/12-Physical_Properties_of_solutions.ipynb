{
"cells": [
 {
		   "cell_type": "markdown",
	   "metadata": {},
	   "source": [
       "# Chapter 12: Physical Properties of solutions"
	   ]
	},
{
		   "cell_type": "markdown",
		   "metadata": {},
		   "source": [
			"## Example 12.10: computation_of_molar_mass_of_a_sample_from_freezing_point_depression.sce"
		   ]
		  },
  {
"cell_type": "code",
	   "execution_count": null,
	   "metadata": {
	    "collapsed": true
	   },
	   "outputs": [],
"source": [
"//computation of molar mass of a sample from freezing point depression\n",
"\n",
"clear;\n",
"clc;\n",
"\n",
"printf('\t Example 12.10\n');\n",
"\n",
"deltaTf=1.05;//depression in freezing point, C\n",
"Kf=5.12;//molal freezing point depression constant\n",
"m=deltaTf/Kf;//molality of solution, molal\n",
"mbenzene=301/1000;//mass of benzene, kg\n",
"n=m*mbenzene;//moles of sapmle\n",
"msample=7.85;//mass of sample, g\n",
"molarmass=msample/n;//molar mass of sample, g/mol\n",
"\n",
"printf('\t the molar mass of the sample is : %4.0f g/mol \n',molarmass);\n",
"\n",
"//End"
   ]
   }
,
{
		   "cell_type": "markdown",
		   "metadata": {},
		   "source": [
			"## Example 12.11: computation_of_molar_mass_of_a_sample_from_osmotic_pressure.sce"
		   ]
		  },
  {
"cell_type": "code",
	   "execution_count": null,
	   "metadata": {
	    "collapsed": true
	   },
	   "outputs": [],
"source": [
"//computation of molar mass of a sample from osmotic pressure\n",
"\n",
"clear;\n",
"clc;\n",
"funcprot(0);\n",
"\n",
"printf('\t Example 12.11\n');\n",
"\n",
"R=0.0821;//gas constant, L atm/K mol\n",
"T=298;//temp, K\n",
"pie=10/760;//osmotic pressure, atm\n",
"M=pie/(R*T);//molarity of the solution, M\n",
"\n",
"//taking 1L of solution\n",
"mass=35;//mass of Hg, g\n",
"n=M;//moles\n",
"molarmass=mass/n;//molar mass of hemoglobin, g/mol\n",
"\n",
"printf('\t the molar mass of the hemoglobin is : %4.2f *10^4 g/mol \n',molarmass*10^-4);\n",
"\n",
"//End"
   ]
   }
,
{
		   "cell_type": "markdown",
		   "metadata": {},
		   "source": [
			"## Example 12.12: computation_of_vant_hoff_factor.sce"
		   ]
		  },
  {
"cell_type": "code",
	   "execution_count": null,
	   "metadata": {
	    "collapsed": true
	   },
	   "outputs": [],
"source": [
"//computation of van't hoff factor\n",
"\n",
"clear;\n",
"clc;\n",
"funcprot(0);\n",
"\n",
"printf('\t Example 12.12\n');\n",
"\n",
"R=0.0821;//gas constant, L atm/K mol\n",
"T=298;//temp, K\n",
"pie=0.465;//osmotic pressure, atm\n",
"M=0.01;//molarity of the solution, M\n",
"i=pie/(M*R*T);//vant hoff factor of KI\n",
"\n",
"printf('\t the vant hoff factor of KI at 25 C is : %4.2f\n',i);\n",
"\n",
"//End"
   ]
   }
,
{
		   "cell_type": "markdown",
		   "metadata": {},
		   "source": [
			"## Example 12.2: computation_of_concentration_of_a_solution.sce"
		   ]
		  },
  {
"cell_type": "code",
	   "execution_count": null,
	   "metadata": {
	    "collapsed": true
	   },
	   "outputs": [],
"source": [
"//computation of concentration of a solution\n",
"\n",
"clear;\n",
"clc;\n",
"\n",
"printf('\t Example 12.2\n');\n",
"\n",
"msolute=0.892;//mass of solute, g\n",
"msolvent=54.6;//mass of solvent, g\n",
"percent=msolute/(msolute+msolvent)*100;//concentration, percent by mass\n",
"\n",
"printf('\t the concentration of KCl solution is : %4.2f percent by mass\n',percent);\n",
"\n",
"//End"
   ]
   }
,
{
		   "cell_type": "markdown",
		   "metadata": {},
		   "source": [
			"## Example 12.3: computation_of_molality_of_a_solution.sce"
		   ]
		  },
  {
"cell_type": "code",
	   "execution_count": null,
	   "metadata": {
	    "collapsed": true
	   },
	   "outputs": [],
"source": [
"//computation of molality of a solution\n",
"\n",
"clear;\n",
"clc;\n",
"\n",
"printf('\t Example 12.3\n');\n",
"\n",
"mass=24.4;//mass of H2SO4, g\n",
"M=98.09;//mol maass of H2SO4, g\n",
"n=mass/M;//moles of H2SO4\n",
"massH2O=0.198;//mass of H2O, kg\n",
"m=n/massH2O;//molality of H2SO4, molal\n",
"\n",
"printf('\t the molality of sulfuric acid solution is : %4.2f m\n',m);\n",
"\n",
"//End"
   ]
   }
,
{
		   "cell_type": "markdown",
		   "metadata": {},
		   "source": [
			"## Example 12.4: computation_of_molality_from_density_and_molarity.sce"
		   ]
		  },
  {
"cell_type": "code",
	   "execution_count": null,
	   "metadata": {
	    "collapsed": true
	   },
	   "outputs": [],
"source": [
"//computation of molality from density and molarity\n",
"\n",
"clear;\n",
"clc;\n",
"\n",
"printf('\t Example 12.4\n');\n",
"\n",
"//considering 1L solution\n",
"msolution=976;//mass of solution, g\n",
"n=2.45;//moles\n",
"CH3OH=32.04;//mol. mass of CH3OH, g\n",
"msolute=n*CH3OH;//mass of solute, g\n",
"msolvent=(msolution-msolute)/1000;//mass of solvent, kg\n",
"m=n/msolvent;//molality, molal\n",
"\n",
"printf('\t the molality of CH3OH solution is : %4.2f m\n',m);\n",
"\n",
"//End"
   ]
   }
,
{
		   "cell_type": "markdown",
		   "metadata": {},
		   "source": [
			"## Example 12.5: computation_of_molality_from_mass_percent.sce"
		   ]
		  },
  {
"cell_type": "code",
	   "execution_count": null,
	   "metadata": {
	    "collapsed": true
	   },
	   "outputs": [],
"source": [
"//computation of molality from mass percent\n",
"\n",
"clear;\n",
"clc;\n",
"\n",
"printf('\t Example 12.5\n');\n",
"\n",
"//considering 100g of solution\n",
"percent=35.4;//mass percent of H3PO4\n",
"H3PO4=97.99;//mol mass of H3PO4\n",
"n=percent/H3PO4;//moles of H3PO4\n",
"mH2O=(100-percent)/1000;//mass of solvent\n",
"m=n/mH2O;//molality of H3PO4, molal\n",
"\n",
"printf('\t the molality of H3PO4 solution is : %4.2f m\n',m);\n",
"\n",
"//End"
   ]
   }
,
{
		   "cell_type": "markdown",
		   "metadata": {},
		   "source": [
			"## Example 12.6: computation_of_solubility_of_gases_in_liquid.sce"
		   ]
		  },
  {
"cell_type": "code",
	   "execution_count": null,
	   "metadata": {
	    "collapsed": true
	   },
	   "outputs": [],
"source": [
"//computation of solubility of gases in liquid\n",
"\n",
"clear;\n",
"clc;\n",
"\n",
"printf('\t Example 12.6\n');\n",
"\n",
"c=6.8*10^-4;//solubility of N2 in water, M\n",
"P=1;//pressure, atm\n",
"k=c/P;//henry's constant\n",
"\n",
"//for partial pressure of N2=0.78atm\n",
"P=0.78;//partial pressure of N2, atm\n",
"c=k*P;//solubility of N2, M\n",
"\n",
"printf('\t the solubility of N2 gas in water is : %4.1f*10^-4 M\n',c*10^4);\n",
"\n",
"//End"
   ]
   }
,
{
		   "cell_type": "markdown",
		   "metadata": {},
		   "source": [
			"## Example 12.7: computation_of_vapor_pressure_lowering.sce"
		   ]
		  },
  {
"cell_type": "code",
	   "execution_count": null,
	   "metadata": {
	    "collapsed": true
	   },
	   "outputs": [],
"source": [
"//computation of vapor pressure lowering\n",
"\n",
"clear;\n",
"clc;\n",
"\n",
"printf('\t Example 12.7\n');\n",
"\n",
"H2O=18.02;//mol mass of H2O, g\n",
"V=460;//volume of water, mL\n",
"glucose=180.2;//mol. mass of glucose, g\n",
"mass=218;//mass of gllucose, g\n",
"n1=V/H2O;//moles of water\n",
"n2=mass/glucose;//moles of glucose\n",
"x1=n1/(n1+n2);//mole fraction of water\n",
"P=31.82;//vapor pressure of pure water, mmHg\n",
"P1=x1*P;//vapor pressure afteraddition of glucose, mmHg\n",
"\n",
"printf('\t the vapor pressure lowering is : %4.1f mmHg\n',P-P1);\n",
"\n",
"//End"
   ]
   }
,
{
		   "cell_type": "markdown",
		   "metadata": {},
		   "source": [
			"## Example 12.8: computation_of_freezing_point_depression_and_boiling_point_elevation.sce"
		   ]
		  },
  {
"cell_type": "code",
	   "execution_count": null,
	   "metadata": {
	    "collapsed": true
	   },
	   "outputs": [],
"source": [
"//computation of freezing point depression and boiling point elevation\n",
"\n",
"clear;\n",
"clc;\n",
"\n",
"printf('\t Example 12.8\n');\n",
"\n",
"mH2O=2.505;//mass of H2O, kg\n",
"mEG=651;//mass of EG, g\n",
"EG=62.07;//mol mass of EG, g\n",
"n=mEG/EG;//moles of EG\n",
"m=n/mH2O;//molality of EG\n",
"Kf=1.86;//molal freezing point depression constant, C/m\n",
"deltaTf=Kf*m;//depression in freezing point, C\n",
"Kb=0.52;//molal boiling point elevation constant, C/m\n",
"deltaTb=Kb*m;//elevation in boiling point, C\n",
"\n",
"printf('\t the depression in freezing point and elevation in boiling point are : %4.2f C and %4.1f C respectively\n',deltaTf,deltaTb);\n",
"\n",
"//End"
   ]
   }
,
{
		   "cell_type": "markdown",
		   "metadata": {},
		   "source": [
			"## Example 12.9: computation_of_molar_concentration_from_osmotic_pressure.sce"
		   ]
		  },
  {
"cell_type": "code",
	   "execution_count": null,
	   "metadata": {
	    "collapsed": true
	   },
	   "outputs": [],
"source": [
"//computation of molar concentration from osmotic pressure\n",
"\n",
"clear;\n",
"clc;\n",
"funcprot(0);\n",
"\n",
"printf('\t Example 12.9\n');\n",
"\n",
"pie=30;//osmotic pressure, atm\n",
"R=0.0821;//gas constant, L atm/K mol\n",
"T=298;//temp., K\n",
"M=pie/(R*T);//molar concentration, M\n",
"\n",
"printf('\t the molar concentration is : %4.2f M\n',M);\n",
"\n",
"//End"
   ]
   }
],
"metadata": {
		  "kernelspec": {
		   "display_name": "Scilab",
		   "language": "scilab",
		   "name": "scilab"
		  },
		  "language_info": {
		   "file_extension": ".sce",
		   "help_links": [
			{
			 "text": "MetaKernel Magics",
			 "url": "https://github.com/calysto/metakernel/blob/master/metakernel/magics/README.md"
			}
		   ],
		   "mimetype": "text/x-octave",
		   "name": "scilab",
		   "version": "0.7.1"
		  }
		 },
		 "nbformat": 4,
		 "nbformat_minor": 0
}
