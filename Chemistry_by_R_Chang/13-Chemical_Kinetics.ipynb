{
"cells": [
 {
		   "cell_type": "markdown",
	   "metadata": {},
	   "source": [
       "# Chapter 13: Chemical Kinetics"
	   ]
	},
{
		   "cell_type": "markdown",
		   "metadata": {},
		   "source": [
			"## Example 13.2: computation_of_reaction_rates_using_stoichiometry.sce"
		   ]
		  },
  {
"cell_type": "code",
	   "execution_count": null,
	   "metadata": {
	    "collapsed": true
	   },
	   "outputs": [],
"source": [
"//computation of reaction rates using stoichiometry\n",
"\n",
"clear;\n",
"clc;\n",
"\n",
"printf('\t Example 13.2\n');\n",
"\n",
"dO2=-0.024;//rate of reaction of O2, M/s\n",
"\n",
"//(a)\n",
"dN2O5=-2*dO2;//rate of formation of N2O5, M/s\n",
"printf('\t the rate of formation of N2O5 is : %4.3f M/s\n',dN2O5);\n",
"\n",
"//(b)\n",
"dNO2=4*dO2;//rate of reaction of NO2, M/s\n",
"printf('\t the rate of reaction of NO2 is : %4.3f M/s\n',dNO2);\n",
"\n",
"//End"
   ]
   }
,
{
		   "cell_type": "markdown",
		   "metadata": {},
		   "source": [
			"## Example 13.3: computation_of_reaction_rates_using_initial_rate_data.sce"
		   ]
		  },
  {
"cell_type": "code",
	   "execution_count": null,
	   "metadata": {
	    "collapsed": true
	   },
	   "outputs": [],
"source": [
"//computation of reaction rates using initial rate data\n",
"\n",
"clear;\n",
"clc;\n",
"\n",
"printf('\t Example 13.3\n');\n",
"\n",
"NO1=5*10^-3;//conc of NO from 1st experiment, M\n",
"H21=2*10^-3;//conc of H2 from 1st experiment, M\n",
"r1=1.3*10^-5;//initial rate from 1st experiment, M/s\n",
"\n",
"NO2=10*10^-3;//conc of NO from 2nd experiment, M\n",
"H22=2*10^-3;//conc of H2 from 2nd experiment, M\n",
"r2=5*10^-5;//initial rate from 1st experiment, M/s\n",
"\n",
"NO3=10*10^-3;//conc of NO from 3rd experiment, M\n",
"H23=4*10^-3;//conc of H2 from 3rd experiment, M\n",
"r3=10*10^-5;//initial rate from 3rd experiment, M/s\n",
"\n",
"//(a)\n",
"//r=k*NO^x*H2^y, dividing r2/r1 and r3/r2\n",
"x=log(r2/r1)/log(NO2/NO1);//since H21=H22\n",
"y=log(r3/r2)/log(H23/H22);//since NO3=NO2\n",
"x=round(x);\n",
"y=round(y);\n",
"\n",
"printf('\t (a) the rate of reaction is : r=k[NO]^%1.0f*[H2]^%1.0f\n',x,y);\n",
"\n",
"//(b)\n",
"k=r2/((NO2)^x*H22^y);//rate constant, /M^2 s\n",
"printf('\t (b) the rate constant of the reaction is : %2.1f*10^2 /M^2 s\n',k*10^-2);\n",
"\n",
"//(c)\n",
"NO=12*10^-3;//conc of NO, M\n",
"H2=6*10^-3;//conc of H2, M\n",
"rate=k*(NO^x)*H2^y;//rate, M/s\n",
"printf('\t (c) the rate of reaction at given concentration is : %1.1f*10^-4 M/s\n',rate*10^4);\n",
"\n",
"//End"
   ]
   }
,
{
		   "cell_type": "markdown",
		   "metadata": {},
		   "source": [
			"## Example 13.4: calculations_for_first_order_reactions.sce"
		   ]
		  },
  {
"cell_type": "code",
	   "execution_count": null,
	   "metadata": {
	    "collapsed": true
	   },
	   "outputs": [],
"source": [
"//calculations for first order reactions\n",
"\n",
"clear;\n",
"clc;\n",
"\n",
"printf('\t Example 13.4\n');\n",
"\n",
"t=8.8*60;//time, s\n",
"k=6.7*10^-4;//rate constant, s-1\n",
"\n",
"//(a)\n",
"Ao=0.25;//initial conc, M\n",
"A=exp(-k*t+log(Ao));//final conc, M\n",
"\n",
"printf('\t (a) the concentration of cyclopropane at given time is : %4.2f M\n',A);\n",
"\n",
"//(b)\n",
"A=0.15;//initial conc, M\n",
"Ao=0.25;//final conc, M\n",
"t=-log(A/Ao)/(60*k);//time, min\n",
"\n",
"printf('\t (b) the time required is : %2.0f min\n',t);\n",
"\n",
"//(c)\n",
"percent=74;\n",
"//let initial conc be 1\n",
"Ao=1;//initial conc, M\n",
"A=1-percent/100;//final conc, M\n",
"t=-log(A/Ao)/(k*60);//time, min\n",
"\n",
"printf('\t (c) the time required for required conversion is : %2.0f min\n',t);\n",
"\n",
"//End"
   ]
   }
,
{
		   "cell_type": "markdown",
		   "metadata": {},
		   "source": [
			"## Example 13.5: calculation_of_rate_constant_from_time_and_pressure_data.sce"
		   ]
		  },
  {
"cell_type": "code",
	   "execution_count": null,
	   "metadata": {
	    "collapsed": true
	   },
	   "outputs": [],
"source": [
"//calculation of rate constant from time and pressure data\n",
"\n",
"clear;\n",
"clc;\n",
"\n",
"printf('\t Example 13.5\n');\n",
"\n",
"t=[0,100,150,200,250,300];//time(data given), s\n",
"P=[284,220,193,170,150,132];//pressure(data given) in mmHg corresponding to time values\n",
"lnP=log(P);//lnP values corresponding to P\n",
"\n",
"[slope]=reglin(t,lnP);//lnP=-k*t+lnPo, slope of the line between lnP and t gives -k value \n",
"k=-slope;//rate constant, s-1\n",
"\n",
"printf('\t the rate constant for the decomposition is : %4.2f*10^-3 s-1\n',k*1000);\n",
"\n",
"//End"
   ]
   }
,
{
		   "cell_type": "markdown",
		   "metadata": {},
		   "source": [
			"## Example 13.6: calculation_of_half_life_of_first_order_reactions_from_rate_constant.sce"
		   ]
		  },
  {
"cell_type": "code",
	   "execution_count": null,
	   "metadata": {
	    "collapsed": true
	   },
	   "outputs": [],
"source": [
"//calculation of half life of first order reactions from rate constant\n",
"\n",
"clear;\n",
"clc;\n",
"\n",
"printf('\t Example 13.6\n');\n",
"\n",
"k=5.36*10^-4;//rate constant, s-1\n",
"t_half=0.693/(60*k);//half life of the reaction, min\n",
"\n",
"printf('\t the half life for the decomposition of ethane is : %4.1f min\n',t_half);\n",
"\n",
"//End"
   ]
   }
,
{
		   "cell_type": "markdown",
		   "metadata": {},
		   "source": [
			"## Example 13.7: calculation_for_second_order_reactions.sce"
		   ]
		  },
  {
"cell_type": "code",
	   "execution_count": null,
	   "metadata": {
	    "collapsed": true
	   },
	   "outputs": [],
"source": [
"//calculation for second order reactions\n",
"\n",
"clear;\n",
"clc;\n",
"\n",
"printf('\t Example 13.7\n');\n",
"\n",
"k=7*10^9;//rate constant, M s\n",
"\n",
"//(a)\n",
"t=2*60;//half life of the reaction, s\n",
"Ao=0.086;\n",
"A=(k*t+1/Ao)^-1;\n",
"\n",
"printf('\t (a) the concentration of I is : %4.1f*10^-12 M\n',A*10^12);\n",
"\n",
"//(b)\n",
"Ao=0.6;\n",
"t_half=1/(Ao*k);//half life of the reaction, s\n",
"printf('\t (b) the half life for Io=0.6 is : %2.1f*10^-10 s\n',t_half*10^10);\n",
"\n",
"Ao=0.42;\n",
"t_half=1/(Ao*k);//half life of the reaction, s\n",
"printf('\t     the half life for Io=0.42 is : %2.1f*10^-10 s\n',t_half*10^10);\n",
"\n",
"//End"
   ]
   }
,
{
		   "cell_type": "markdown",
		   "metadata": {},
		   "source": [
			"## Example 13.8: calculation_of_activation_energy_from_rate_constant_and_Temperature_data.sce"
		   ]
		  },
  {
"cell_type": "code",
	   "execution_count": null,
	   "metadata": {
	    "collapsed": true
	   },
	   "outputs": [],
"source": [
"//calculation of activation energy from rate constant and Temperature data\n",
"\n",
"clear;\n",
"clc;\n",
"\n",
"printf('\t Example 13.8\n');\n",
"\n",
"R=8.314;//gas constant, kJ/mol\n",
"T=[700,730,760,790,810];//temperature(data given), K\n",
"x=T^-1;//1/T values corresponding to Temp values above, K-1\n",
"k=[0.011,0.035,0.105,0.343,0.789];//rate constant(data given) in 1/M^1/2 s corresponding to temperature values\n",
"lnk=log(k);//lnk values corresponding to k\n",
"[slope]=reglin(x,lnk);//lnk=-Ea/(R*T)+lnA, slope of the line between lnk and 1/T gives -Ea/R value \n",
"Ea=-slope*R;//activation energy, kJ/mol\n",
"\n",
"printf('\t the activation energy for the decomposition is : %4.2f*10^2 kJ/mol\n',Ea*10^-5);\n",
"\n",
"//End"
   ]
   }
,
{
		   "cell_type": "markdown",
		   "metadata": {},
		   "source": [
			"## Example 13.9: calculation_of_rate_constant_at_a_given_temperature.sce"
		   ]
		  },
  {
"cell_type": "code",
	   "execution_count": null,
	   "metadata": {
	    "collapsed": true
	   },
	   "outputs": [],
"source": [
"//calculation of rate constant at a given temperature\n",
"\n",
"clear;\n",
"clc;\n",
"\n",
"printf('\t Example 13.9\n');\n",
"\n",
"k1=3.46*10^-2;//rate constant at T1\n",
"T1=298;//temp K\n",
"T2=350;//temp K\n",
"R=8.314;//gas constant,J/K mol\n",
"Ea=50.2*1000;//activation energy, J/mol\n",
"k2=k1/exp(Ea/R*(T1-T2)/(T1*T2));//from equation ln(k1/k2)=Ea*(T1-T2)/(T1*T2*R), S-1\n",
"\n",
"printf('\t the rate constant at temp 350 is : %4.3f s-1\n',k2);\n",
"\n",
"//End"
   ]
   }
],
"metadata": {
		  "kernelspec": {
		   "display_name": "Scilab",
		   "language": "scilab",
		   "name": "scilab"
		  },
		  "language_info": {
		   "file_extension": ".sce",
		   "help_links": [
			{
			 "text": "MetaKernel Magics",
			 "url": "https://github.com/calysto/metakernel/blob/master/metakernel/magics/README.md"
			}
		   ],
		   "mimetype": "text/x-octave",
		   "name": "scilab",
		   "version": "0.7.1"
		  }
		 },
		 "nbformat": 4,
		 "nbformat_minor": 0
}
