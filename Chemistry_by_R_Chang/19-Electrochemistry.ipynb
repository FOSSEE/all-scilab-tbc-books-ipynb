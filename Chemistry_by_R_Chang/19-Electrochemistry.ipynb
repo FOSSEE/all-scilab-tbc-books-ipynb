{
"cells": [
 {
		   "cell_type": "markdown",
	   "metadata": {},
	   "source": [
       "# Chapter 19: Electrochemistry"
	   ]
	},
{
		   "cell_type": "markdown",
		   "metadata": {},
		   "source": [
			"## Example 19.3: computation_of_standard_emf_of_a_cell.sce"
		   ]
		  },
  {
"cell_type": "code",
	   "execution_count": null,
	   "metadata": {
	    "collapsed": true
	   },
	   "outputs": [],
"source": [
"//computation of standard emf of a cell\n",
"\n",
"clear;\n",
"clc;\n",
"\n",
"printf('\t Example 19.3\n');\n",
"\n",
"E0cathode=0.8;//standard electrode potential of cathode(Ag+/Ag), V\n",
"E0anode=-2.37;//standard electrode potential of anode(Mg2+/Mg), V\n",
"\n",
"E0cell=E0cathode-E0anode;//standard emf of the cell, V\n",
"\n",
"printf('\t the standard emf of the cell is : %4.2f V\n',E0cell);\n",
"\n",
"//End"
   ]
   }
,
{
		   "cell_type": "markdown",
		   "metadata": {},
		   "source": [
			"## Example 19.4: computation_of_equilibrium_constant_for_a_reaction.sce"
		   ]
		  },
  {
"cell_type": "code",
	   "execution_count": null,
	   "metadata": {
	    "collapsed": true
	   },
	   "outputs": [],
"source": [
"//computation of equilibrium constant for a reaction\n",
"\n",
"clear;\n",
"clc;\n",
"\n",
"printf('\t Example 19.4\n');\n",
"\n",
"n=2;\n",
"E0cathode=0.15;//standard electrode potential of cathode(Cu2+/Cu+), V\n",
"E0anode=-0.14;//standard electrode potential of anode(Sn2+/Sn), V\n",
"\n",
"E0cell=E0cathode-E0anode;//standard emf of the cell, V\n",
"\n",
"K=exp(n*E0cell/0.0257);//equilibrium constant, from the formula E0cell=0.0257*lnK/n\n",
"\n",
"printf('\t the equilibrium constant for the given reaction is : %4.2f*10^9\n',K*10^-9);\n",
"\n",
"//End"
   ]
   }
,
{
		   "cell_type": "markdown",
		   "metadata": {},
		   "source": [
			"## Example 19.5: computation_of_standard_free_energy_change_for_a_reaction.sce"
		   ]
		  },
  {
"cell_type": "code",
	   "execution_count": null,
	   "metadata": {
	    "collapsed": true
	   },
	   "outputs": [],
"source": [
"//computation of standard free energy change for a reaction\n",
"\n",
"clear;\n",
"clc;\n",
"\n",
"printf('\t Example 19.5\n');\n",
"\n",
"n=6;\n",
"F=96500;//faraday constant, J/V mol\n",
"\n",
"E0cathode=-2.87;//standard electrode potential of cathode(Ca2+/Ca), V\n",
"E0anode=1.5;//standard electrode potential of anode(Au3+/Au), V\n",
"\n",
"E0cell=E0cathode-E0anode;//standard emf of the cell, V\n",
"\n",
"deltaG0=-n*F*E0cell;//standard free energy change for the reaction, kJ/mol\n",
"\n",
"printf('\t the standard free energy change for the reaction is : %4.2f*10^3 kJ/mol \n',deltaG0*10^-6);\n",
"\n",
"//End"
   ]
   }
,
{
		   "cell_type": "markdown",
		   "metadata": {},
		   "source": [
			"## Example 19.6: computation_of_standard_free_energy_change_for_a_reaction.sce"
		   ]
		  },
  {
"cell_type": "code",
	   "execution_count": null,
	   "metadata": {
	    "collapsed": true
	   },
	   "outputs": [],
"source": [
"//computation of standard free energy change for a reaction\n",
"\n",
"clear;\n",
"clc;\n",
"\n",
"printf('\t Example 19.6\n');\n",
"\n",
"n=2;\n",
"F=96500;//faraday constant, J/V mol\n",
"\n",
"Co2=0.15;//conc of Co2+ ions, M\n",
"Fe2=0.68;//conc of Fe2+ ions, M\n",
"\n",
"E0cathode=-0.44;//standard electrode potential of cathode(Fe2+/Fe), V\n",
"E0anode=-0.28;//standard electrode potential of anode(Co2+/Co), V\n",
"\n",
"E0cell=E0cathode-E0anode;//standard emf of the cell, V\n",
"\n",
"Ecell=E0cell-0.0257/2*log(Co2/Fe2);//calculation of cell potential at non standard conditions, V\n",
"\n",
"if(Ecell>0) then\n",
"    printf('\t the reaction would proceed spontaneously in the direction written \n');\n",
"else\n",
"    printf('\t the reaction is not spontaneously in the direction written \n');\n",
"    end;\n",
"\n",
"//End"
   ]
   }
,
{
		   "cell_type": "markdown",
		   "metadata": {},
		   "source": [
			"## Example 19.7: computation_of_concentration_of_component_from_cell_potential.sce"
		   ]
		  },
  {
"cell_type": "code",
	   "execution_count": null,
	   "metadata": {
	    "collapsed": true
	   },
	   "outputs": [],
"source": [
"//computation of concentration of component from cell potential\n",
"\n",
"clear;\n",
"clc;\n",
"\n",
"printf('\t Example 19.7\n');\n",
"\n",
"n=2;\n",
"\n",
"Zn=1;//conc of Zn2+ ions, M\n",
"pH2=1;//pressure of H2 gas, atm\n",
"\n",
"Ecell=0.54;//emf of the cell, V\n",
"\n",
"E0cell=0.76;//standard emf of the cell, V\n",
"\n",
"Q=exp(-(Ecell-E0cell)*2/0.0257);//since Ecell=E0cell-0.0257/2*log(Q) where Q=(Zn2+)*pH2/(H+)^2\n",
"\n",
"H=sqrt(Zn*pH2/Q);//the conc of H+ ions, M\n",
"\n",
"printf('\t the molar concentration of H+ ion is : %2.0f*10^-4 M \n',H*10^4);\n",
"\n",
"//End"
   ]
   }
,
{
		   "cell_type": "markdown",
		   "metadata": {},
		   "source": [
			"## Example 19.9: quantitative_aspects_of_electrolysis.sce"
		   ]
		  },
  {
"cell_type": "code",
	   "execution_count": null,
	   "metadata": {
	    "collapsed": true
	   },
	   "outputs": [],
"source": [
"//quantitative aspects of electrolysis\n",
"\n",
"clear;\n",
"clc;\n",
"\n",
"printf('\t Example 19.9\n');\n",
"\n",
"t=7.44*3600;//time, sec\n",
"A=1.26;//current in ampere\n",
"q=A*t;//charge passed, coulomb\n",
"F=96500;//faraday constant, J/V mol\n",
"ne=q/F;//moles of electrons\n",
"nO2=ne/4;//moles of oxygen\n",
"nH2=ne/2;//moles of H2\n",
"\n",
"R=0.0821;//gas constant, L atm/K\n",
"T=273;//temperature in Kelvin\n",
"P=1;//pressure in atm\n",
"VO2=nO2*R*T/P;//volume of oxygen gas generated\n",
"VH2=nH2*R*T/P;//volume of H2 gas generated\n",
"\n",
"printf('\t the volume of O2 gas and H2 gas generated are : %4.2f L and %4.2f L respectively\n',VO2,VH2);\n",
"\n",
"//End"
   ]
   }
],
"metadata": {
		  "kernelspec": {
		   "display_name": "Scilab",
		   "language": "scilab",
		   "name": "scilab"
		  },
		  "language_info": {
		   "file_extension": ".sce",
		   "help_links": [
			{
			 "text": "MetaKernel Magics",
			 "url": "https://github.com/calysto/metakernel/blob/master/metakernel/magics/README.md"
			}
		   ],
		   "mimetype": "text/x-octave",
		   "name": "scilab",
		   "version": "0.7.1"
		  }
		 },
		 "nbformat": 4,
		 "nbformat_minor": 0
}
