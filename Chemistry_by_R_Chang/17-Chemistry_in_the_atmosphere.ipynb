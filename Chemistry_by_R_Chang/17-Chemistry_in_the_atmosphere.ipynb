{
"cells": [
 {
		   "cell_type": "markdown",
	   "metadata": {},
	   "source": [
       "# Chapter 17: Chemistry in the atmosphere"
	   ]
	},
{
		   "cell_type": "markdown",
		   "metadata": {},
		   "source": [
			"## Example 17.1: computation_of_wavelength_of_a_photon_from_energy.sce"
		   ]
		  },
  {
"cell_type": "code",
	   "execution_count": null,
	   "metadata": {
	    "collapsed": true
	   },
	   "outputs": [],
"source": [
"//computation of wavelength of a photon from energy\n",
"\n",
"clear;\n",
"clc;\n",
"\n",
"printf('\t Example 17.1\n');\n",
"\n",
"E=498.7*10^3/(6.022*10^23);//energy in J/molecule\n",
"h=6.63*10^-34;//plancks constant, J s\n",
"v=E/h;//frequency of the photon, s^-1\n",
"lambda=3*10^8/v;//wavelength in m, since v*lambda=speed of light in vacuum\n",
"\n",
"printf('\t the maximum wavelength of the photon which can dissociate an O2 molecule is : %4.0f nm\n',lambda*10^9);\n",
"\n",
"//End"
   ]
   }
,
{
		   "cell_type": "markdown",
		   "metadata": {},
		   "source": [
			"## Example 17.3: Radioactive_decay_and_half_life.sce"
		   ]
		  },
  {
"cell_type": "code",
	   "execution_count": null,
	   "metadata": {
	    "collapsed": true
	   },
	   "outputs": [],
"source": [
"//Radioactive decay and half life\n",
"\n",
"clear;\n",
"clc;\n",
"\n",
"printf('\t Example 17.3\n');\n",
"\n",
"Rninitial=1;//initial mass of Rn, g\n",
"\n",
"Rnfinal=Rninitial*0.5^10;//final mass of Rn, g\n",
"\n",
"printf('\t the amount of Rn left after 10 half lives is : %4.1f *10^-4 g\n',Rnfinal*10^4);\n",
"\n",
"//End"
   ]
   }
],
"metadata": {
		  "kernelspec": {
		   "display_name": "Scilab",
		   "language": "scilab",
		   "name": "scilab"
		  },
		  "language_info": {
		   "file_extension": ".sce",
		   "help_links": [
			{
			 "text": "MetaKernel Magics",
			 "url": "https://github.com/calysto/metakernel/blob/master/metakernel/magics/README.md"
			}
		   ],
		   "mimetype": "text/x-octave",
		   "name": "scilab",
		   "version": "0.7.1"
		  }
		 },
		 "nbformat": 4,
		 "nbformat_minor": 0
}
