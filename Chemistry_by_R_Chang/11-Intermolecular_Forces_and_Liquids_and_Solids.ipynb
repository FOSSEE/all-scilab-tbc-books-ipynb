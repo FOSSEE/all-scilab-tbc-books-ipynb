{
"cells": [
 {
		   "cell_type": "markdown",
	   "metadata": {},
	   "source": [
       "# Chapter 11: Intermolecular Forces and Liquids and Solids"
	   ]
	},
{
		   "cell_type": "markdown",
		   "metadata": {},
		   "source": [
			"## Example 11.3: calculation_of_atomic_radius.sce"
		   ]
		  },
  {
"cell_type": "code",
	   "execution_count": null,
	   "metadata": {
	    "collapsed": true
	   },
	   "outputs": [],
"source": [
"//calculation of atomic radius\n",
"\n",
"clear;\n",
"clc;\n",
"\n",
"printf('\t Example 11.3\n');\n",
"\n",
"atoms=8*1/8+6*1/2;//atoms in a cell\n",
"d=19.3;//density, g/cc\n",
"Au=197;//mol mass of Au, g\n",
"NA=6.022*10^23;//avogadro no.\n",
"m=atoms*Au/NA;//mass of 1 cell, g\n",
"V=m/d;//volume, cc\n",
"a=V^(1/3);//edge length, cm\n",
"r=a/sqrt(8)/100;//radius in m\n",
"\n",
"printf('\t the atomic radius of Au is : %4.0f pm\n',r*10^12);\n",
"\n",
"//End"
   ]
   }
,
{
		   "cell_type": "markdown",
		   "metadata": {},
		   "source": [
			"## Example 11.4: diffractio.sce"
		   ]
		  },
  {
"cell_type": "code",
	   "execution_count": null,
	   "metadata": {
	    "collapsed": true
	   },
	   "outputs": [],
"source": [
"//diffraction\n",
"\n",
"clear;\n",
"clc;\n",
"\n",
"printf('\t Example 11.4\n');\n",
"\n",
"n=1;\n",
"lambda=154;//wavelength, pm\n",
"theta=19.3;//angle of reflection, degree\n",
"d=n*lambda/(2*sin(theta*%pi/180));//spacing between the planes\n",
"\n",
"printf('\t the spacing between planes is : %4.0f pm\n',d);\n",
"\n",
"//End"
   ]
   }
,
{
		   "cell_type": "markdown",
		   "metadata": {},
		   "source": [
			"## Example 11.6: density_of_ionic_crystals.sce"
		   ]
		  },
  {
"cell_type": "code",
	   "execution_count": null,
	   "metadata": {
	    "collapsed": true
	   },
	   "outputs": [],
"source": [
"//density of ionic crystals\n",
"\n",
"clear;\n",
"clc;\n",
"\n",
"printf('\t Example 11.6\n');\n",
"\n",
"Na=22.99;//mass of one atom of Na, amu\n",
"Cl=35.45;//mass of one atom of Cl, amu\n",
"NA=6.022*10^23;//avogadro no.\n",
"mass=4*(Na+Cl)/NA;//mass in a unit cell in grams\n",
"a=564*10^-10;//edge length, cm\n",
"V=a^3;//volume of unit cell, cc\n",
"d=mass/V;//density in g/cc\n",
"\n",
"printf('\t the density of NaCl is : %4.2f g/cc\n',d);\n",
"\n",
"//End"
   ]
   }
,
{
		   "cell_type": "markdown",
		   "metadata": {},
		   "source": [
			"## Example 11.7: molar_heat_of_vaporisatio.sce"
		   ]
		  },
  {
"cell_type": "code",
	   "execution_count": null,
	   "metadata": {
	    "collapsed": true
	   },
	   "outputs": [],
"source": [
"//molar heat of vaporisation\n",
"\n",
"clear;\n",
"clc;\n",
"\n",
"printf('\t Example 11.7\n');\n",
"\n",
"P1=401;//vapor pressure at 18C, mm Hg\n",
"T1=18+273;//temperature, K\n",
"T2=32+273;//temperature, K\n",
"deltaH=26000;//heat of vaporisation, J/mol\n",
"R=8.314;//gas constant, J/K.mol\n",
"X=deltaH/R*(T1-T2)/(T1*T2);\n",
"P2=401*exp(-X);//vapor pressure at 32C, mmHg(from ln(P1/P1)=deltaH/R*((T1-T2)/(T1*T2)))\n",
"\n",
"printf('\t the pressure at 32 C is : %4.0f mm Hg\n',P2);\n",
"\n",
"//End"
   ]
   }
,
{
		   "cell_type": "markdown",
		   "metadata": {},
		   "source": [
			"## Example 11.8: molar_heat_of_vaporisation_and_overall_energy_required.sce"
		   ]
		  },
  {
"cell_type": "code",
	   "execution_count": null,
	   "metadata": {
	    "collapsed": true
	   },
	   "outputs": [],
"source": [
"//molar heat of vaporisation and overall energy required\n",
"\n",
"clear;\n",
"clc;\n",
"\n",
"printf('\t Example 11.8\n');\n",
"\n",
"m=346;//mass of H2O in g\n",
"\n",
"//from 0 to 100 C\n",
"s=4.184;//specific heat of H2O, J/g C\n",
"deltaT=100-0;//change in Temp, C\n",
"q1=m*s*deltaT/1000;//heating H2O, kJ\n",
"\n",
"//for evaporation at 100 C\n",
"deltaH=40.79;//heat of vaporisation in kJ\n",
"H2O=18.02;//mol mass of H2O, g\n",
"q2=m*deltaH/H2O;//heat of vaporising water, kJ\n",
"\n",
"//for steam from 100 to 182 C\n",
"deltaT=182-100;//change in temp of steam, kJ\n",
"s=1.99;//specific heat of steam, J/g C\n",
"q3=m*s*deltaT/1000;//heating steam, kJ\n",
"\n",
"q=q1+q2+q3;//overall energy required, kJ\n",
"\n",
"printf('\t the overall energy required is : %4.0f kJ\n',q);\n",
"\n",
"//End"
   ]
   }
],
"metadata": {
		  "kernelspec": {
		   "display_name": "Scilab",
		   "language": "scilab",
		   "name": "scilab"
		  },
		  "language_info": {
		   "file_extension": ".sce",
		   "help_links": [
			{
			 "text": "MetaKernel Magics",
			 "url": "https://github.com/calysto/metakernel/blob/master/metakernel/magics/README.md"
			}
		   ],
		   "mimetype": "text/x-octave",
		   "name": "scilab",
		   "version": "0.7.1"
		  }
		 },
		 "nbformat": 4,
		 "nbformat_minor": 0
}
