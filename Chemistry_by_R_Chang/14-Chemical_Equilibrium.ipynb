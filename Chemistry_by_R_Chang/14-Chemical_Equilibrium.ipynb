{
"cells": [
 {
		   "cell_type": "markdown",
	   "metadata": {},
	   "source": [
       "# Chapter 14: Chemical Equilibrium"
	   ]
	},
{
		   "cell_type": "markdown",
		   "metadata": {},
		   "source": [
			"## Example 14.10: computation_of_equilibrium_concentration.sce"
		   ]
		  },
  {
"cell_type": "code",
	   "execution_count": null,
	   "metadata": {
	    "collapsed": true
	   },
	   "outputs": [],
"source": [
"//computation of equilibrium concentration\n",
"\n",
"clear;\n",
"clc;\n",
"\n",
"printf('\t Example 14.10\n');\n",
"\n",
"Kc=54.3;\n",
"HIo=0.0224;\n",
"H2o=0.00623;\n",
"I2o=0.00414;\n",
"//let us assume that x moles have reacted, so, HI=HIo+2x, H2=0.00623-x, I2=0.00414-x, when we substitute in Kc=(HI)^2/(H2)*(I2) we get 54.3=(2x+0.0224)^2/((0.00623-x)*(0.00414-x)) simplifying we get 50.3x^2-0.654x+8.98*10^-4=0\n",
"a=50.3;\n",
"b=-0.654;\n",
"c=8.98*10^-4;\n",
"x1=(-b+sqrt(b^2-4*a*c))/(2*a);\n",
"x2=(-b-sqrt(b^2-4*a*c))/(2*a);\n",
"    if(x1>I2o)\n",
"        x=x2;\n",
"        else x=x1;\n",
"    end;\n",
"\n",
"H2=0.00623-x;\n",
"I2=0.00414-x;\n",
"HI=2*x+0.0224;\n",
"\n",
"printf('\t the equilibrium concentration of H2 is : %4.5f M\n',H2);\n",
"printf('\t the equilibrium concentration of I2 is : %4.5f M\n',I2);\n",
"printf('\t the equilibrium concentration of HI is : %4.4f M\n',HI);\n",
"\n",
"//End"
   ]
   }
,
{
		   "cell_type": "markdown",
		   "metadata": {},
		   "source": [
			"## Example 14.11: Application_of_Le_chateliers_Principle.sce"
		   ]
		  },
  {
"cell_type": "code",
	   "execution_count": null,
	   "metadata": {
	    "collapsed": true
	   },
	   "outputs": [],
"source": [
"//Application of Le chatelier's Principle\n",
"\n",
"clear;\n",
"clc;\n",
"\n",
"printf('\t Example 14.11\n');\n",
"\n",
"//(b)\n",
"Kc=2.37*10^-3;//equilibrium constant for the reaction\n",
"N2=0.683;//conc of N2, M\n",
"H2=8.8;//conc of H2, M\n",
"NH3=3.65;//conc of NH3, M\n",
"Qc=NH3^2/(N2*H2^3);//reaction quotient initial\n",
"\n",
"if(Qc==Kc) then\n",
"    d='the system is in equilibrium';\n",
"    elseif(Qc<Kc) then\n",
"         d='the system is not in equilibrium and the reaction will move from left to right';\n",
"        else d='the system is not in equilibrium and the reaction will move from right to left';\n",
"    end;\n",
"\n",
"printf('\t (b) %s\n',d);\n",
"\n",
"//End"
   ]
   }
,
{
		   "cell_type": "markdown",
		   "metadata": {},
		   "source": [
			"## Example 14.2: computation_of_equilibrium_constant.sce"
		   ]
		  },
  {
"cell_type": "code",
	   "execution_count": null,
	   "metadata": {
	    "collapsed": true
	   },
	   "outputs": [],
"source": [
"//computation of equilibrium constant\n",
"\n",
"clear;\n",
"clc;\n",
"\n",
"printf('\t Example 14.2\n');\n",
"\n",
"NO=0.0542;//equilibrium conc of NO, M\n",
"O2=0.127;//equilibrium conc of O2, M\n",
"NO2=15.5;//equilibrium conc of NO2, M\n",
"\n",
"Kc=NO2^2/(O2*NO^2);//equilibrium constant for given reaction\n",
"\n",
"printf('\t the value of the equilibrium constant of the reaction is : %4.2f *10^5\n',Kc*10^-5);\n",
"\n",
"//End"
   ]
   }
,
{
		   "cell_type": "markdown",
		   "metadata": {},
		   "source": [
			"## Example 14.3: computation_of_component_pressure_from_equilibrium_constant.sce"
		   ]
		  },
  {
"cell_type": "code",
	   "execution_count": null,
	   "metadata": {
	    "collapsed": true
	   },
	   "outputs": [],
"source": [
"//computation of component pressure from equilibrium constant\n",
"\n",
"clear;\n",
"clc;\n",
"\n",
"printf('\t Example 14.3\n');\n",
"\n",
"PCl3=0.463;//equilibrium pressure of PCl3, atm\n",
"PCl5=0.875;//equilibrium pressure of PCl5, atm\n",
"Kp=1.05;//equilibrium constant of the reaction\n",
"\n",
"Cl2=Kp*PCl5/PCl3;//equilibrium pressure of Cl2 in atm, formula from the definition of equilibrium constant\n",
"\n",
"printf('\t the value of the equilibrium pressure of the Cl2 gas is : %4.2f atm\n',Cl2);\n",
"\n",
"//End"
   ]
   }
,
{
		   "cell_type": "markdown",
		   "metadata": {},
		   "source": [
			"## Example 14.4: computation_of_Kp_from_Kc.sce"
		   ]
		  },
  {
"cell_type": "code",
	   "execution_count": null,
	   "metadata": {
	    "collapsed": true
	   },
	   "outputs": [],
"source": [
"//computation of Kp from Kc\n",
"\n",
"clear;\n",
"clc;\n",
"\n",
"printf('\t Example 14.4\n');\n",
"\n",
"Kc=10.5;\n",
"delta_n=1-3;\n",
"T=273+220;\n",
"\n",
"Kp=Kc*(0.0821*T)^delta_n;\n",
"\n",
"printf('\t the value of the equilibrium constant of the reaction is : %4.2f *10^-3\n',Kp*1000);\n",
"\n",
"//End"
   ]
   }
,
{
		   "cell_type": "markdown",
		   "metadata": {},
		   "source": [
			"## Example 14.6: computation_of_Kp_and_Kc.sce"
		   ]
		  },
  {
"cell_type": "code",
	   "execution_count": null,
	   "metadata": {
	    "collapsed": true
	   },
	   "outputs": [],
"source": [
"//computation of Kp and Kc\n",
"\n",
"clear;\n",
"clc;\n",
"\n",
"printf('\t Example 14.6\n');\n",
"\n",
"\n",
"//(a)\n",
"CO2=0.236;//pressure of CO2 gas, atm\n",
"Kp=CO2;\n",
"\n",
"//(b)\n",
"T=273+800;\n",
"delta_n=1;\n",
"Kc=Kp*(0.0821*T)^-delta_n;\n",
"\n",
"printf('\t(a) the value of Kp of the reaction is : %4.3f\n',Kp);\n",
"printf('\t(b) the value of Kc of the reaction is : %4.2f *10^-3\n',Kc*1000);\n",
"\n",
"//End"
   ]
   }
,
{
		   "cell_type": "markdown",
		   "metadata": {},
		   "source": [
			"## Example 14.8: Predicting_the_direction_of_a_reaction.sce"
		   ]
		  },
  {
"cell_type": "code",
	   "execution_count": null,
	   "metadata": {
	    "collapsed": true
	   },
	   "outputs": [],
"source": [
"//Predicting the direction of a reaction\n",
"\n",
"clear;\n",
"clc;\n",
"\n",
"printf('\t Example 14.8\n');\n",
"\n",
"Kc=1.2;//equilibrium constant for the reaction\n",
"N2=.249/3.5;//conc of N2, M\n",
"H2=(3.21*10^-2)/3.5;//conc of H2, M\n",
"NH3=(6.42*10^-4)/3.5;//conc of NH3, M\n",
"\n",
"Qc=NH3^2/(N2*H2^3);//reaction quotient initial\n",
"\n",
"if(Qc==Kc) then\n",
"    d='the system is in equilibrium';\n",
"elseif(Qc<Kc) then\n",
"    d='the system is not in equilibrium and the reaction will move from left to right';\n",
"else d='the system is not in equilibrium and the reaction will move from right to left';\n",
"    end;\n",
"\n",
"printf('\t %s\n',d);\n",
"\n",
"//End"
   ]
   }
,
{
		   "cell_type": "markdown",
		   "metadata": {},
		   "source": [
			"## Example 14.9: computation_of_equilibrium_concentration.sce"
		   ]
		  },
  {
"cell_type": "code",
	   "execution_count": null,
	   "metadata": {
	    "collapsed": true
	   },
	   "outputs": [],
"source": [
"//computation of equilibrium concentration\n",
"\n",
"clear;\n",
"clc;\n",
"\n",
"printf('\t Example 14.9\n');\n",
"\n",
"Kc=54.3;\n",
"H2i=0.5;//initial moles of H2\n",
"I2i=0.5;//initial moles of I2\n",
"\n",
"//Let us assume that x moles have reacted, so, HI=2x, H2=0.5-x, I2=0.5-x, when we substitute in Kc=(HI)^2/(H2)*(I2) we get 54.3=(2x)^2/((0.5-x)*(0.5-x)) taking root we get 7.37=2*x/0.5-x\n",
"x=0.393;//from the above equation\n",
"H2=0.5-x;\n",
"I2=0.5-x;\n",
"HI=2*x;\n",
"\n",
"printf('\t the equilibrium concentration of H2 is : %4.3f M\n',H2);\n",
"printf('\t the equilibrium concentration of I2 is : %4.3f M\n',I2);\n",
"printf('\t the equilibrium concentration of HI is : %4.3f M\n',HI);\n",
"\n",
"//End"
   ]
   }
],
"metadata": {
		  "kernelspec": {
		   "display_name": "Scilab",
		   "language": "scilab",
		   "name": "scilab"
		  },
		  "language_info": {
		   "file_extension": ".sce",
		   "help_links": [
			{
			 "text": "MetaKernel Magics",
			 "url": "https://github.com/calysto/metakernel/blob/master/metakernel/magics/README.md"
			}
		   ],
		   "mimetype": "text/x-octave",
		   "name": "scilab",
		   "version": "0.7.1"
		  }
		 },
		 "nbformat": 4,
		 "nbformat_minor": 0
}
