{
"cells": [
 {
		   "cell_type": "markdown",
	   "metadata": {},
	   "source": [
       "# Chapter 4: Linear power amplifier integrated circuits"
	   ]
	},
{
		   "cell_type": "markdown",
		   "metadata": {},
		   "source": [
			"## Example 4.10: 10.sce"
		   ]
		  },
  {
"cell_type": "code",
	   "execution_count": null,
	   "metadata": {
	    "collapsed": true
	   },
	   "outputs": [],
"source": [
"//example 4.10\n",
"clc; funcprot(0);\n",
"// Initialization of Variable\n",
"D=1;\n",
"I1=108;\n",
"I2=95;\n",
"P=1;\n",
"//calculation\n",
"I=I1-I2;\n",
"Pr=P*10^(I/10);\n",
"disp(Pr,'power provided in watt:')\n",
"clear()"
   ]
   }
,
{
		   "cell_type": "markdown",
		   "metadata": {},
		   "source": [
			"## Example 4.11: 11.sce"
		   ]
		  },
  {
"cell_type": "code",
	   "execution_count": null,
	   "metadata": {
	    "collapsed": true
	   },
	   "outputs": [],
"source": [
"//example 4.11\n",
"clc; funcprot(0);\n",
"// Initialization of Variable\n",
"P=20;\n",
"R=8;\n",
"Vi=1.23;\n",
"//calculation\n",
"V=(P*R)^.5;\n",
"disp(V,'output voltage in V')\n",
"G=V/Vi;\n",
"disp(G,'gain:')\n",
"clear()"
   ]
   }
,
{
		   "cell_type": "markdown",
		   "metadata": {},
		   "source": [
			"## Example 4.1: 1.sce"
		   ]
		  },
  {
"cell_type": "code",
	   "execution_count": null,
	   "metadata": {
	    "collapsed": true
	   },
	   "outputs": [],
"source": [
"//example 4.1\n",
"clc; funcprot(0);\n",
"// Initialization of Variable\n",
"Rf=1;\n",
"Ri=10;\n",
"Vi=0;\n",
"Ip=500;\n",
"///calculation\n",
"Vrf=Ip*Rf;\n",
"disp(Vrf,'output voltage in mV:')\n",
"clear()"
   ]
   }
,
{
		   "cell_type": "markdown",
		   "metadata": {},
		   "source": [
			"## Example 4.13: 13.sce"
		   ]
		  },
  {
"cell_type": "code",
	   "execution_count": null,
	   "metadata": {
	    "collapsed": true
	   },
	   "outputs": [],
"source": [
"//example 4.13\n",
"clc; funcprot(0);\n",
"// Initialization of Variable\n",
"R=8//resistance\n",
"V=5//voltage\n",
"Tm=150//temperature\n",
"Ta=50//temperature\n",
"Qa=107;\n",
"Qc=37;\n",
"Ps=299;\n",
"//calculation\n",
"Vd=V/2;\n",
"Vm=V-1;\n",
"Vp=Vm-Vd;\n",
"Vr=Vp/2^.5;\n",
"Pl=1000*Vr^2/R;\n",
"disp(Pl,'power dissipated in mW:')\n",
"Pl=140;\n",
"Pic=Ps-Pl;\n",
"Q=(Tm-Ta)/Pic;\n",
"disp(Q*1000,'thermal resistance degree C/W')\n",
"clear()"
   ]
   }
,
{
		   "cell_type": "markdown",
		   "metadata": {},
		   "source": [
			"## Example 4.14: 14.sce"
		   ]
		  },
  {
"cell_type": "code",
	   "execution_count": null,
	   "metadata": {
	    "collapsed": true
	   },
	   "outputs": [],
"source": [
"//example 4.14\n",
"clc; funcprot(0);\n",
"// Initialization of Variable\n",
"R=8//resistance\n",
"V=5//voltage\n",
"//calculation\n",
"Vl=V-1;\n",
"Vp=Vl-1;\n",
"Vr=Vp/2^.5;\n",
"P=Vr^2/R;\n",
"disp(P*1000,'pwer deliverd in mwatt')\n",
"clear()"
   ]
   }
,
{
		   "cell_type": "markdown",
		   "metadata": {},
		   "source": [
			"## Example 4.15: 15.sce"
		   ]
		  },
  {
"cell_type": "code",
	   "execution_count": null,
	   "metadata": {
	    "collapsed": true
	   },
	   "outputs": [],
"source": [
"//example 4.15\n",
"clc; funcprot(0);\n",
"// Initialization of Variable\n",
"R=8//resistance\n",
"Ts=35//temperature\n",
"Ta=150//temperature\n",
"Vm=42//voltage\n",
"//calcuation\n",
"Vp=Vm-5;\n",
"Vr=Vp/2^.5;\n",
"Pm=Vr^2/R;\n",
"disp(Pm,'power delivered in watt:')\n",
"P=45;\n",
"Qs=(Ta-Ts)/P-1.2;\n",
"disp(round(Qs*10)/10,'thermal resistance in degreeC/W')\n",
"clear()"
   ]
   }
,
{
		   "cell_type": "markdown",
		   "metadata": {},
		   "source": [
			"## Example 4.2: 2.sce"
		   ]
		  },
  {
"cell_type": "code",
	   "execution_count": null,
	   "metadata": {
	    "collapsed": true
	   },
	   "outputs": [],
"source": [
"//example 4.2\n",
"clc; funcprot(0);\n",
"// Initialization of Variable\n",
"Vi=300;\n",
"P=35;\n",
"R=8;\n",
"pi=3.1428;\n",
"S=10000;\n",
"fh=20;\n",
"//calculation\n",
"Vl=(P*R)^.5;\n",
"Vp=Vl*2^.5;\n",
"Il=Vl/R;\n",
"f=S/(2*pi*Vp);\n",
"disp(f,'frequency of OPA548 in KHz')\n",
"Ao=Vl/Vi;\n",
"G=Ao*fh;\n",
"disp(G,'slew rate of OPA548 in Mhz')\n",
"printf('the OPA548 can be used')\n",
"clear()"
   ]
   }
,
{
		   "cell_type": "markdown",
		   "metadata": {},
		   "source": [
			"## Example 4.3: 3.sce"
		   ]
		  },
  {
"cell_type": "code",
	   "execution_count": null,
	   "metadata": {
	    "collapsed": true
	   },
	   "outputs": [],
"source": [
"//example 4.3\n",
"clc; funcprot(0);\n",
"// Initialization of Variable\n",
"Rl=10;\n",
"V=12;\n",
"Vl=5;\n",
"//calculation\n",
"Pl=Vl^2/Rl;\n",
"I=Vl/Rl;\n",
"Ps=V*I;\n",
"Pic=Ps-Pl;\n",
"disp(Pic,'power delivered in watt:')\n",
"clear()"
   ]
   }
,
{
		   "cell_type": "markdown",
		   "metadata": {},
		   "source": [
			"## Example 4.4: 4.sce"
		   ]
		  },
  {
"cell_type": "code",
	   "execution_count": null,
	   "metadata": {
	    "collapsed": true
	   },
	   "outputs": [],
"source": [
"//example 4.4\n",
"clc;funcprot(0);\n",
"//Initilization of variable\n",
"Vload=[0.0 0.2 0.4 0.6 0.8 4.8 5.0 5.2 5.4 5.6 5.8 6.0 6.2 6.4 11.4 11.6 11.8 12.0];\n",
"Iload=[0.0 0.0 0.0 0.1 0.1 0.5 0.5 0.5 0.5 0.6 0.6 0.6 0.6 0.6 1.1 1.2 1.2 1.2];\n",
"Pload=[0.00 0.00 0.02 0.04 0.06 2.30 2.50 2.70 2.92 3.14 3.36 3.60 3.84 4.10 13.00 13.46 13.92 14.40];\n",
"Ps=[0.00 0.24 0.48 0.72 0.96 5.76 6.00 6.24 6.48 6.72 6.96 7.20 7.44 7.68 13.68 13.92 14.16 14.40];\n",
"Pic=[0.00 0.24 0.46 0.68 0.90 3.46 3.50 3.54 3.56 3.58 3.60 3.60 3.60 3.58 0.68 0.46 0.24 0.00];\n",
"printf('Vload     Iload     Pload     Ps        Pic');\n",
"printf('\n');\n",
"for i=1:18\n",
"    printf(' %.2f',Vload(i));\n",
"    printf('      %.2f',Iload(i));\n",
"    printf('      %.2f',Pload(i));\n",
"    printf('      %.2f',Ps(i));\n",
"    printf('      %.2f',Pic(i));\n",
"    printf('\n')\n",
"end\n",
"plot(Vload,Pic);\n",
"xtitle('load voltage vs IC power','Vload (V)','Pic (W)')\n",
"clear()"
   ]
   }
,
{
		   "cell_type": "markdown",
		   "metadata": {},
		   "source": [
			"## Example 4.5: 5.sce"
		   ]
		  },
  {
"cell_type": "code",
	   "execution_count": null,
	   "metadata": {
	    "collapsed": true
	   },
	   "outputs": [],
"source": [
"//example 4.5\n",
"clc; funcprot(0);\n",
"// Initialization of Variable\n",
"V=12;\n",
"Vp=5;\n",
"R=10;\n",
"pi=3.1428;\n",
"//calculation\n",
"Ip=Vp/R;\n",
"Il=Ip/2^.5;\n",
"Pl=(Vp*Ip)/2;\n",
"disp(Pl,'power delivered in watt')\n",
"Id=Ip/pi;\n",
"disp(Id*1000,'dc supply current in mA')\n",
"Pt=2*V*Ip/pi;\n",
"disp(Pt,'total power in W')\n",
"Pic=Pt-Pl;\n",
"disp(Pic,'IC power in W')\n",
"clear()"
   ]
   }
,
{
		   "cell_type": "markdown",
		   "metadata": {},
		   "source": [
			"## Example 4.6: 6.sce"
		   ]
		  },
  {
"cell_type": "code",
	   "execution_count": null,
	   "metadata": {
	    "collapsed": true
	   },
	   "outputs": [],
"source": [
"//example 4.6\n",
"clc; funcprot(0);\n",
"// Initialization of Variable\n",
"Ts=40;\n",
"P=2.92;\n",
"Qj=2.5;\n",
"Qc=2;\n",
"Tj=125;\n",
"//calculation\n",
"Qs=(Tj-Ts)/P-Qj-Qc;\n",
"disp(Qs,'thermal resistance in C/W:')\n",
"clear()"
   ]
   }
,
{
		   "cell_type": "markdown",
		   "metadata": {},
		   "source": [
			"## Example 4.7: 7.sce"
		   ]
		  },
  {
"cell_type": "code",
	   "execution_count": null,
	   "metadata": {
	    "collapsed": true
	   },
	   "outputs": [],
"source": [
"//example 4.7\n",
"clc; funcprot(0);\n",
"// Initialization of Variable\n",
"V=24;\n",
"R=10;\n",
"Qs=4;\n",
"Tj=125;\n",
"Ta=40;\n",
"Qj=2.5;\n",
"Qc=2;\n",
"//calculation\n",
"P=(Tj-Ta)/(Qj+Qc+Qs);\n",
"disp(P,'power delivered by IC in watt:')\n",
"Vload=[9.4 9.6];\n",
"Iload=[.94 .96];\n",
"Pload=[4.42 4.61];\n",
"Ps=[14.36 14.67];\n",
"Pic=[9.94 10.06];\n",
"printf('Vload     Iload     Pload     Ps          Pic');\n",
"printf('\n')\n",
"for i=1:2\n",
"    printf('%.2f',Vload(i));\n",
"    printf('      %.2f',Iload(i));\n",
"    printf('      %.2f',Pload(i));\n",
"    printf('      %.2f',Ps(i));\n",
"    printf('      %.2f',Pic(i));\n",
"    printf('\n')\n",
"end\n",
"clear()"
   ]
   }
,
{
		   "cell_type": "markdown",
		   "metadata": {},
		   "source": [
			"## Example 4.8: 8.sce"
		   ]
		  },
  {
"cell_type": "code",
	   "execution_count": null,
	   "metadata": {
	    "collapsed": true
	   },
	   "outputs": [],
"source": [
"//example 4.8\n",
"clc; funcprot(0);\n",
"// Initialization of Variable\n",
"Rf=22;\n",
"Ri=1;\n",
"Rs=15;\n",
"I=4.75;\n",
"Rc=4;\n",
"Vp=2;\n",
"Rl=8;\n",
"Im=4;\n",
"//calculation\n",
"Av=1+(Rf/Ri);\n",
"disp(Av,'gain')\n",
"Il=(Rs*I)/(Rc+13.75);\n",
"disp(Il,'limit current in A:')\n",
"Vo=Vp*Av;\n",
"disp(Vo,'output voltage in V:')\n",
"V=Im*Rl;\n",
"disp(V,'maximum output voltage in V')\n",
"clear()"
   ]
   }
,
{
		   "cell_type": "markdown",
		   "metadata": {},
		   "source": [
			"## Example 4.9: 9.sce"
		   ]
		  },
  {
"cell_type": "code",
	   "execution_count": null,
	   "metadata": {
	    "collapsed": true
	   },
	   "outputs": [],
"source": [
"//example 4.9\n",
"clc; funcprot(0);\n",
"// Initialization of Variable\n",
"D=8;\n",
"d=1;\n",
"I=90;\n",
"//calculation\n",
"Is=20*log10(d/D);\n",
"Ir=I-Is;\n",
"disp(Ir,'loudness ofsound in dB')\n",
"clear()"
   ]
   }
],
"metadata": {
		  "kernelspec": {
		   "display_name": "Scilab",
		   "language": "scilab",
		   "name": "scilab"
		  },
		  "language_info": {
		   "file_extension": ".sce",
		   "help_links": [
			{
			 "text": "MetaKernel Magics",
			 "url": "https://github.com/calysto/metakernel/blob/master/metakernel/magics/README.md"
			}
		   ],
		   "mimetype": "text/x-octave",
		   "name": "scilab",
		   "version": "0.7.1"
		  }
		 },
		 "nbformat": 4,
		 "nbformat_minor": 0
}
