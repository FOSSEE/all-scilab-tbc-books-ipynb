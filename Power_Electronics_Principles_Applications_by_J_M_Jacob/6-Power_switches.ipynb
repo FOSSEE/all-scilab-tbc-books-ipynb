{
"cells": [
 {
		   "cell_type": "markdown",
	   "metadata": {},
	   "source": [
       "# Chapter 6: Power switches"
	   ]
	},
{
		   "cell_type": "markdown",
		   "metadata": {},
		   "source": [
			"## Example 6.10: 8.sce"
		   ]
		  },
  {
"cell_type": "code",
	   "execution_count": null,
	   "metadata": {
	    "collapsed": true
	   },
	   "outputs": [],
"source": [
"//example 6.10 \n",
"clc; funcprot(0);\n",
"// Initialization of Variable\n",
"I=40;//current\n",
"Q=44;//nC\n",
"t=Q/I;\n",
"disp(t,'time in micro s:')\n",
"clear()"
   ]
   }
,
{
		   "cell_type": "markdown",
		   "metadata": {},
		   "source": [
			"## Example 6.11: 9.sce"
		   ]
		  },
  {
"cell_type": "code",
	   "execution_count": null,
	   "metadata": {
	    "collapsed": true
	   },
	   "outputs": [],
"source": [
"//example 6.11\n",
"clc; funcprot(0);\n",
"// Initialization of Variable\n",
"Rl=15;//load resistance\n",
"D=.85;//duty cycle\n",
"Ts=60;//degreeC\n",
"Vd=28;//voltage\n",
"R1=.375;\n",
"R2=.2;\n",
"//calculation\n",
"I=Vd/(R1+R2+Rl);\n",
"disp(I,'current in A:')\n",
"Vl=I*Rl;\n",
"disp(Vl,'load voltage in V:')\n",
"P=D*Vl*I;\n",
"disp(P,'power in W:')\n",
"Vh=I*R1;\n",
"disp(Vh,'high side voltage in V:')\n",
"Ph=D*Vh*I;\n",
"disp(Ph,'high side power in W:')\n",
"Vl=I*R2;\n",
"disp(Vl,'low side voltage in V:')\n",
"Pl=D*Vl*I;\n",
"disp(Pl,'low side power in W:')\n",
"Pic=Ph+Pl;\n",
"disp(Pic,'IC power in W:')\n",
"Pic=1.56;\n",
"Tj=150;\n",
"Ta=60;\n",
"Q=(Tj-Ta)/Pic-2.2;\n",
"disp(Q,'thermal resistance in degreeC/W:')\n",
"clear()"
   ]
   }
,
{
		   "cell_type": "markdown",
		   "metadata": {},
		   "source": [
			"## Example 6.1: 1.sce"
		   ]
		  },
  {
"cell_type": "code",
	   "execution_count": null,
	   "metadata": {
	    "collapsed": true
	   },
	   "outputs": [],
"source": [
"//example 6.1\n",
"clc; funcprot(0);\n",
"// Initialization of Variable\n",
"Vs=28;//V\n",
"Vi=5;//V\n",
"Rl=15;//ohm\n",
"Vc=.8;//V\n",
"b=20;\n",
"//calculation\n",
"Ic=(Vs-Vc)/Rl;\n",
"disp(Ic,'collector current in A:')\n",
"Pl=Ic^2*Rl;\n",
"disp(Pl,'load power in W:')\n",
"Pq=Ic*Vc;\n",
"disp(Pq,'transistor power in W:')\n",
"Ib=Ic/b*1000;\n",
"disp(Ib,'least value of base current in mA:')\n",
"Rb=(Vi-.6)/Ib;\n",
"disp(Rb*1000,'max. value of base resistance in ohm:')\n",
"printf('thus pick Rb=33ohm,1W')\n",
"clear()"
   ]
   }
,
{
		   "cell_type": "markdown",
		   "metadata": {},
		   "source": [
			"## Example 6.4: 2.sce"
		   ]
		  },
  {
"cell_type": "code",
	   "execution_count": null,
	   "metadata": {
	    "collapsed": true
	   },
	   "outputs": [],
"source": [
"//example 6.4\n",
"clc; funcprot(0);\n",
"// Initialization of Variable\n",
"Vd=28;//V\n",
"f=100;//frequency\n",
"I=50;//current\n",
"//calculation\n",
"Rl=(Vd-.3)/I;\n",
"disp(Rl*1000,'load resistance in ohm:')\n",
"printf('thus pick Rl=560ohm')\n",
"Rl=560;\n",
"Vp=2.4;\n",
"Ib=500;//microAmp\n",
"Rb=(Vp-.9)/Ib;\n",
"disp(Rb*1000,'max value of Rb is in kohm:')\n",
"printf('thus pick Rb=2.2kohm')\n",
"Vl=Vd-.3;\n",
"D=.5;//duty cycle\n",
"Ip=Vl/Rl;\n",
"disp(Ip*1000,'load current in mA:')\n",
"Pl=D*Vl*Ip;\n",
"disp(Pl*1000,'load power in mW:')\n",
"Pq=D*Ip*.3;\n",
"disp(Pq*1000,'power delivered in mW:')\n",
"clear()"
   ]
   }
,
{
		   "cell_type": "markdown",
		   "metadata": {},
		   "source": [
			"## Example 6.5: 3.sce"
		   ]
		  },
  {
"cell_type": "code",
	   "execution_count": null,
	   "metadata": {
	    "collapsed": true
	   },
	   "outputs": [],
"source": [
"//example 6.5\n",
"clc; funcprot(0);\n",
"// Initialization of Variable\n",
"C=640;//capacitor\n",
"R1=560;//load resistance\n",
"R2=3.3;//kohm\n",
"//calculation\n",
"t1=2.2*R1*C;\n",
"disp(t1/1000,'time of rise in ns:')\n",
"t2=2.2*R2*C;\n",
"disp(t2/1000,'time of rise in microsec:')\n",
"clear()"
   ]
   }
,
{
		   "cell_type": "markdown",
		   "metadata": {},
		   "source": [
			"## Example 6.6: 4.sce"
		   ]
		  },
  {
"cell_type": "code",
	   "execution_count": null,
	   "metadata": {
	    "collapsed": true
	   },
	   "outputs": [],
"source": [
"//example 6.6\n",
"clc; funcprot(0);\n",
"clf()\n",
"// Initialization of Variable\n",
"Vol=0.7;\n",
"Iol=40.0/1000;//current\n",
"Epullup=28.0;\n",
"Rpullup=(Epullup-Vol)/Iol;\n",
"disp(Rpullup,'resistance in ohm')\n",
"printf('pick up resistance=680 ohm');\n",
"Rpullup=680.0;\n",
"C=640;\n",
"trise=2.2*Rpullup*C;\n",
"disp(trise/1000,'rise time in ns');\n",
"//for plotting\n",
"x=[0 .1 1.9 4.1 5 5.1 5.3 5.6 6 9.3];\n",
"y=[27.8 .1 .1 .1 .1 5 13.5 21 27 27.8];\n",
"plot(x,y);\n",
"xtitle('Vout vs time','time(mus)','Vout')\n",
"clear()"
   ]
   }
,
{
		   "cell_type": "markdown",
		   "metadata": {},
		   "source": [
			"## Example 6.7: 5.sce"
		   ]
		  },
  {
"cell_type": "code",
	   "execution_count": null,
	   "metadata": {
	    "collapsed": true
	   },
	   "outputs": [],
"source": [
"//example 6.7\n",
"clc; funcprot(0);\n",
"// Initialization of Variable\n",
"R1=.11;//resistance\n",
"Vd=28;//voltage\n",
"R2=6;//ohm\n",
"D=.4;//duty cycle\n",
"Q=62;\n",
"Ro=2.6*R1;\n",
"disp(Ro,'worstcase resistance in ohm:')\n",
"Ip=Vd/(R2+Ro);\n",
"disp(Ip,'load current in A:')\n",
"Vl=Ip*R2;\n",
"disp(Vl,'load voltage in V:')\n",
"Pl=D*Vl*Ip;\n",
"disp(Pl,'load power in W:')\n",
"Vq=Ip*Ro;\n",
"disp(Vq,'drop voltage in V:')\n",
"Pq=D*Vq*Ip;\n",
"disp(round(Pq*10)/10,'power in W:')\n",
"T=40+round(Pq*10)/10*Q;\n",
"disp(T,'temperature in deg.C')\n",
"clear()"
   ]
   }
,
{
		   "cell_type": "markdown",
		   "metadata": {},
		   "source": [
			"## Example 6.8: 6.sce"
		   ]
		  },
  {
"cell_type": "code",
	   "execution_count": null,
	   "metadata": {
	    "collapsed": true
	   },
	   "outputs": [],
"source": [
"//example 6.8\n",
"clc; funcprot(0);\n",
"// Initialization of Variable\n",
"L=10;//inductor\n",
"I=4.5;//current\n",
"t=300//time\n",
"//calculation\n",
"V=L*I/t;\n",
"disp(V*1000,'voltage in V:')\n",
"clear()"
   ]
   }
,
{
		   "cell_type": "markdown",
		   "metadata": {},
		   "source": [
			"## Example 6.9: 7.sce"
		   ]
		  },
  {
"cell_type": "code",
	   "execution_count": null,
	   "metadata": {
	    "collapsed": true
	   },
	   "outputs": [],
"source": [
"//example 6.9\n",
"clc; funcprot(0);\n",
"// Initialization of Variable\n",
"Rl=12;//load resistance\n",
"V1=.8;//voltage\n",
"V2=2.4;//voltage\n",
"D=.8;//duty cycle\n",
"Tj=150;//degreeC\n",
"Ta=40;//degreeC\n",
"Vd=28;\n",
"Vo=.7;\n",
"I=40;//mA;\n",
"//calculation\n",
"k=(Vd-Vo)/I;\n",
"disp(round(k*1000),'R1+R2 in ohm:')\n",
"printf('pick R1=330ohm & R2=360ohm as they divide Vd setting 8V<Vg<18V')\n",
"R1=330;\n",
"R2=360;\n",
"Vn1=28;\n",
"disp(Vn1,'node voltage for V1 in V:')\n",
"Vn2=.7;\n",
"disp(Vn2,'node voltage for V2 in V:')\n",
"Vg=R2*Vd/(R1+R2)+Vn2;\n",
"disp(Vg,'gate voltage in V:')\n",
"Vgs=Vg-Vd;\n",
"disp(Vgs,'gate & source diff in V:')\n",
"Vl=Vd*Rl/(Rl+.57);\n",
"disp(Vl,'load voltage in V:')\n",
"Il=Vl/Rl;\n",
"disp(Il,'load current in A:')\n",
"Pl=D*Vl*Il;\n",
"disp(Pl,'load power in W:')\n",
"Vq=Il*.57;\n",
"Pq=D*Vq*Il;\n",
"disp(Pq,'Pq in W:')\n",
"Q=(Tj-Ta)/Pq-3.7;\n",
"disp(Q,'thermal resistance in degreeC/W:')\n",
"clear()"
   ]
   }
],
"metadata": {
		  "kernelspec": {
		   "display_name": "Scilab",
		   "language": "scilab",
		   "name": "scilab"
		  },
		  "language_info": {
		   "file_extension": ".sce",
		   "help_links": [
			{
			 "text": "MetaKernel Magics",
			 "url": "https://github.com/calysto/metakernel/blob/master/metakernel/magics/README.md"
			}
		   ],
		   "mimetype": "text/x-octave",
		   "name": "scilab",
		   "version": "0.7.1"
		  }
		 },
		 "nbformat": 4,
		 "nbformat_minor": 0
}
