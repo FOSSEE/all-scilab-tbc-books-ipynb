{
"cells": [
 {
		   "cell_type": "markdown",
	   "metadata": {},
	   "source": [
       "# Chapter 5: Discrete linear power amplifier "
	   ]
	},
{
		   "cell_type": "markdown",
		   "metadata": {},
		   "source": [
			"## Example 5.10: 9.sce"
		   ]
		  },
  {
"cell_type": "code",
	   "execution_count": null,
	   "metadata": {
	    "collapsed": true
	   },
	   "outputs": [],
"source": [
"//example 5.10\n",
"clc; funcprot(0);\n",
"// Initialization of Variable\n",
"G=6.4;//A/V\n",
"I=5;//current\n",
"Pq=9.8;//W\n",
"Tj=140;\n",
"Ta=40;\n",
"//calculation\n",
"R=2/G;\n",
"disp(R,'resistance in ohm:')\n",
"printf('thus pick a .33ohm rsistance')\n",
"R=.33;\n",
"Im=I/3;\n",
"Vr=Im*R;\n",
"disp(Vr,'voltage in V:')\n",
"P=Vr*Im/4;\n",
"disp(P,'power in W:')\n",
"Qs=(Tj-Ta)/Pq-2.1;\n",
"disp(Qs,'thermal resistance in degreeC/W')\n",
"clear()"
   ]
   }
,
{
		   "cell_type": "markdown",
		   "metadata": {},
		   "source": [
			"## Example 5.11: 10.sce"
		   ]
		  },
  {
"cell_type": "code",
	   "execution_count": null,
	   "metadata": {
	    "collapsed": true
	   },
	   "outputs": [],
"source": [
"//example 5.11\n",
"clc; funcprot(0);\n",
"// Initialization of Variable\n",
"P=200;//power\n",
"R=8;//ohm\n",
"//calculation\n",
"Il=(P/R)^.5*2^.5;\n",
"Ilm=1.2*Il;\n",
"disp(Ilm,'limit level current in A:')"
   ]
   }
,
{
		   "cell_type": "markdown",
		   "metadata": {},
		   "source": [
			"## Example 5.1: 1.sce"
		   ]
		  },
  {
"cell_type": "code",
	   "execution_count": null,
	   "metadata": {
	    "collapsed": true
	   },
	   "outputs": [],
"source": [
"//example 5.1\n",
"clc; funcprot(0);\n",
"clf()\n",
"//initialization of variable\n",
"Vth=3.6;\n",
"Vgs=4;//voltage\n",
"//volt change beyond 3.6 causes a major increase in Id as it is cut off voltage\n",
"printf('Id=0 from 0 to 2 so not shown in the graph')\n",
"x=linspace(2,3.6,300);\n",
"y=(-2.5*(x-3.6))^.5;\n",
"plot(x,y)\n",
"xtitle('Vgs vs Id','Vgs','Id');\n",
"clear()"
   ]
   }
,
{
		   "cell_type": "markdown",
		   "metadata": {},
		   "source": [
			"## Example 5.12: 11.sce"
		   ]
		  },
  {
"cell_type": "code",
	   "execution_count": null,
	   "metadata": {
	    "collapsed": true
	   },
	   "outputs": [],
"source": [
"//example 5.12\n",
"clc; funcprot(0);\n",
"// Initialization of Variable\n",
"I=6;//current\n",
"V=.6;//voltage\n",
"D=.5;//duty cycle\n",
"//calculation\n",
"Rs=V/I;\n",
"disp(Rs,'resistance in ohm')\n",
"Pr=D*V*I;\n",
"disp(Pr,'power in W:')\n",
"Vp=28;\n",
"Pm=D*Vp*I;\n",
"disp(Pm,'MOSFET power in W')\n",
"T=40;//temperature\n",
"Tj=T+Pm*5.1;\n",
"disp(round(Tj),'temperature in degreeC')"
   ]
   }
,
{
		   "cell_type": "markdown",
		   "metadata": {},
		   "source": [
			"## Example 5.13: 12.sce"
		   ]
		  },
  {
"cell_type": "code",
	   "execution_count": null,
	   "metadata": {
	    "collapsed": true
	   },
	   "outputs": [],
"source": [
"//example 5.13\n",
"clc; funcprot(0);\n",
"// Initialization of Variable\n",
"T=130;//temperature\n",
"P=19.5;//power\n",
"//calculation\n",
"Ts=T-P*2.1;\n",
"disp(Ts,'maximum safe temperature in degreeC')\n",
"clear()"
   ]
   }
,
{
		   "cell_type": "markdown",
		   "metadata": {},
		   "source": [
			"## Example 5.14: 13.sce"
		   ]
		  },
  {
"cell_type": "code",
	   "execution_count": null,
	   "metadata": {
	    "collapsed": true
	   },
	   "outputs": [],
"source": [
"//example 5.14\n",
"clc; funcprot(0);\n",
"// Initialization of Variable\n",
"pi=3.1428;\n",
"V=15.0;//voltage\n",
"f=300.0;//frequency\n",
"L=4.7;//inductance\n",
"Vdc=28;//V\n",
"//calculation\n",
"Xl=2*pi*f*L;\n",
"disp(Xl/1000,'reactance in ohm')\n",
"Zload=sqroot(8^2+8.9^2);//magnitude of Zload\n",
"Vload=15.0;//msgnitude of Vload\n",
"Vr=Vload*8/Zload;\n",
"disp(Vr,'voltage across resistor in V');\n",
"disp('-48 is the angle of the voltage in degrees');\n",
"Pr=12.5;\n",
"disp(Pr,'power dissipated by load in watts')\n",
"I=Vr/8*sqroot(2);\n",
"disp(I,'current across the resistamce in A');\n",
"Psupply=Vdc*I/pi;\n",
"disp(Psupply,'power supply in W');\n",
"Pq=Psupply-Pr/2;\n",
"disp(Pq,'power dissipated by transistor in watts')\n",
"clear()"
   ]
   }
,
{
		   "cell_type": "markdown",
		   "metadata": {},
		   "source": [
			"## Example 5.2: 2.sce"
		   ]
		  },
  {
"cell_type": "code",
	   "execution_count": null,
	   "metadata": {
	    "collapsed": true
	   },
	   "outputs": [],
"source": [
"//example 5.2\n",
"clc; funcprot(0);\n",
"// Initialization of Variable\n",
"V=4.5;//voltage\n",
"T=25;//degreeC\n",
"Id=3.8;\n",
"disp(Id,'drain current in A:')\n",
"printf('Vth=4V is assumed')\n",
"clear()"
   ]
   }
,
{
		   "cell_type": "markdown",
		   "metadata": {},
		   "source": [
			"## Example 5.3: 3.sce"
		   ]
		  },
  {
"cell_type": "code",
	   "execution_count": null,
	   "metadata": {
	    "collapsed": true
	   },
	   "outputs": [],
"source": [
"//example 5.3\n",
"clc; funcprot(0);\n",
"// Initialization of Variable\n",
"Vgs=-5;//voltage\n",
"printf('MOSFET is IRF530N')\n",
"Vthl=-4;\n",
"Vthu=-2;\n",
"disp(Vthl,'lower limit of Vth in V:')\n",
"disp(Vthu,'upper limit of Vth in V:')\n",
"Id=2.3;//current\n",
"disp(Id,'Id in A:')\n",
"clear()"
   ]
   }
,
{
		   "cell_type": "markdown",
		   "metadata": {},
		   "source": [
			"## Example 5.5: 4.sce"
		   ]
		  },
  {
"cell_type": "code",
	   "execution_count": null,
	   "metadata": {
	    "collapsed": true
	   },
	   "outputs": [],
"source": [
"//example 5.5\n",
"clc; funcprot(0);\n",
"// Initialization of Variable\n",
"R1=22;//resistance\n",
"Vg=3.6;//voltage\n",
"Vd=56;\n",
"G=.98;//gain\n",
"Vi=40;\n",
"Rl=8;//load resistance\n",
"Vp=36.5;\n",
"pi=3.1428;\n",
"//calculation\n",
"Vr=Vd-Vg;\n",
"Ir=Vr/R1;\n",
"R2=Vg/Ir;\n",
"disp(R2,'resistance in kohm:')\n",
"Va=(R1/(R1+R2))*Vi;\n",
"Vl=G*Va;\n",
"disp(Vl,'load voltage in V:')\n",
"Il=Vp/Rl;\n",
"Pl=Vp*4.6/4;\n",
"Ps=Vd*4.6/pi;\n",
"Pq=Ps-Pl;\n",
"disp(Pq,'Pq in watt:')\n",
"disp(Ps,'Ps in watt:')\n",
"disp(Pl,'Pl in watt:')"
   ]
   }
,
{
		   "cell_type": "markdown",
		   "metadata": {},
		   "source": [
			"## Example 5.6: 5.sce"
		   ]
		  },
  {
"cell_type": "code",
	   "execution_count": null,
	   "metadata": {
	    "collapsed": true
	   },
	   "outputs": [],
"source": [
"//example 5.6\n",
"clc; funcprot(0);\n",
"// Initialization of Variable\n",
"R1=22;//resistance\n",
"V1=56;//voltage\n",
"V2=2;//voltage\n",
"//calculation\n",
"I=(V1-V2)/R1;\n",
"disp(I,'current in mA')\n",
"R2=V2/I;\n",
"disp(R2*1000,'resistance2 in ohm:')\n",
"printf('pick R2=R3=820ohm R1=R4=22 kohm')\n",
"clear()"
   ]
   }
,
{
		   "cell_type": "markdown",
		   "metadata": {},
		   "source": [
			"## Example 5.7: 6.sce"
		   ]
		  },
  {
"cell_type": "code",
	   "execution_count": null,
	   "metadata": {
	    "collapsed": true
	   },
	   "outputs": [],
"source": [
"//example 5.7\n",
"clc; funcprot(0);\n",
"// Initialization of Variable\n",
"Vi=350;//voltage\n",
"f=100;//frequency\n",
"Rf=10000;//resistance\n",
"Ri=520;\n",
"//calculation\n",
"Vp=(1+(Rf/Ri))*Vi*2^.5;\n",
"disp(Vp/1000,'load voltage in V:')\n",
"clear()"
   ]
   }
,
{
		   "cell_type": "markdown",
		   "metadata": {},
		   "source": [
			"## Example 5.8: 7.sce"
		   ]
		  },
  {
"cell_type": "code",
	   "execution_count": null,
	   "metadata": {
	    "collapsed": true
	   },
	   "outputs": [],
"source": [
"//example 5.8\n",
"clc; funcprot(0);\n",
"// Initialization of Variable\n",
"P=50;//power\n",
"Z=4.7//impedence\n",
"R=4;//resistance\n",
"Ta=40;//degreeC\n",
"Tj=140;//degreeC\n",
"Vd=28;\n",
"R2=22;\n",
"pi=3.1428;\n",
"//calculation\n",
"Vr=(P*R)^.5;\n",
"Vp=Vr*2^.5;\n",
"disp(Vp,'load rms voltage in V:')\n",
"Av=-Vr/1.23;\n",
"Rf=-Av*Z;\n",
"disp(Rf,'resistance in kohm:')\n",
"I=(Vd-2)/R2;\n",
"disp(I,'current in mA:')\n",
"Vm=.63*Vd;\n",
"Ip=Vm/R;\n",
"disp(Ip,'load current in A:')\n",
"Ps=Vd*Ip/pi;\n",
"disp(round(Ps),'supply power in watt:')\n",
"Pl=Ip^2/2*R;\n",
"disp(round(Pl),'load power in W:')\n",
"Pq=round(Ps)-Pl/2;\n",
"disp(Pq,'power in W:')\n",
"Qs=(Tj-Ta)/Pq-2.1;\n",
"disp(Qs,'thermal resistance in degreC/W:')\n",
"clear()"
   ]
   }
,
{
		   "cell_type": "markdown",
		   "metadata": {},
		   "source": [
			"## Example 5.9: 8.sce"
		   ]
		  },
  {
"cell_type": "code",
	   "execution_count": null,
	   "metadata": {
	    "collapsed": true
	   },
	   "outputs": [],
"source": [
"//example 5.8\n",
"clc; funcprot(0);\n",
"// Initialization of Variable\n",
"P=50;//power\n",
"Z=4.7//impedence\n",
"R=4;//resistance\n",
"Ta=40;//degreeC\n",
"Tj=140;//degreeC\n",
"Vd=28;\n",
"R2=22;\n",
"pi=3.1428;\n",
"//calculation\n",
"Vr=(P*R)^.5;\n",
"Vp=Vr*2^.5;\n",
"disp(Vp,'load rms voltage in V:')\n",
"Av=-Vr/1.23;\n",
"Rf=-Av*Z;\n",
"disp(Rf,'resistance in kohm:')\n",
"I=(Vd-2)/R2;\n",
"disp(I,'current in mA:')\n",
"Vm=.63*Vd;\n",
"Ip=Vm/R;\n",
"disp(Ip,'load current in A:')\n",
"Ps=Vd*Ip/pi;\n",
"disp(round(Ps),'supply power in watt:')\n",
"Pl=Ip^2/2*R;\n",
"disp(round(Pl),'load power in W:')\n",
"Pq=round(Ps)-Pl/2;\n",
"disp(Pq,'power in W:')\n",
"Qs=(Tj-Ta)/Pq-2.1;\n",
"disp(Qs,'thermal resistance in degreC/W:')\n",
"clear()"
   ]
   }
],
"metadata": {
		  "kernelspec": {
		   "display_name": "Scilab",
		   "language": "scilab",
		   "name": "scilab"
		  },
		  "language_info": {
		   "file_extension": ".sce",
		   "help_links": [
			{
			 "text": "MetaKernel Magics",
			 "url": "https://github.com/calysto/metakernel/blob/master/metakernel/magics/README.md"
			}
		   ],
		   "mimetype": "text/x-octave",
		   "name": "scilab",
		   "version": "0.7.1"
		  }
		 },
		 "nbformat": 4,
		 "nbformat_minor": 0
}
