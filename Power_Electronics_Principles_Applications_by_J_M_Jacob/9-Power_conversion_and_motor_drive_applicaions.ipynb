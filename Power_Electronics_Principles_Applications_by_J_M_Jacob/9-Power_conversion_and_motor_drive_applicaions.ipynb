{
"cells": [
 {
		   "cell_type": "markdown",
	   "metadata": {},
	   "source": [
       "# Chapter 9: Power conversion and motor drive applicaions"
	   ]
	},
{
		   "cell_type": "markdown",
		   "metadata": {},
		   "source": [
			"## Example 9.1: 1.sce"
		   ]
		  },
  {
"cell_type": "code",
	   "execution_count": null,
	   "metadata": {
	    "collapsed": true
	   },
	   "outputs": [],
"source": [
"//example 9.1\n",
"clc;funcprot(0);\n",
"//Initialization of Variable\n",
"V=28;//V\n",
"C=4700;//microF\n",
"R=16;//load\n",
"f=120;//hertz\n",
"//calculation\n",
"Vp=V*2^.5-2;\n",
"disp(Vp,'peak voltage in V:')\n",
"Vd=.95*Vp;\n",
"disp(Vd,'load voltage in V:')\n",
"Id=Vd/R;\n",
"v=Id/f/C;\n",
"disp(v*1e6,'ripple voltage in V:')\n",
"//approximation\n",
"Vd=Vp-v*1e6/2;\n",
"disp(Vd,'approx. load voltage in V:')\n",
"clear()"
   ]
   }
,
{
		   "cell_type": "markdown",
		   "metadata": {},
		   "source": [
			"## Example 9.2: 2.sce"
		   ]
		  },
  {
"cell_type": "code",
	   "execution_count": null,
	   "metadata": {
	    "collapsed": true
	   },
	   "outputs": [],
"source": [
"//example 9.2\n",
"clc;funcprot(0);\n",
"//Initialization of Variable\n",
"V1=120;//pri voltage\n",
"V2=28;//sec voltage\n",
"I=2;//pri current\n",
"f=60;//Hz\n",
"Vth=28.8;//open voltage\n",
"V3=12.1;//pri-short voltage\n",
"Is=2;//short current at 45 degree\n",
"pi=3.1428;\n",
"//calculation\n",
"Zi=(V2*V3)/V1/Is*cos(45*pi/180);\n",
"Zj=(V2*V3)/V1/Is*sin(45*pi/180);\n",
"printf('Zth=Zi in %f is',Zi)\n",
"printf('\n\nZth=Zj in %f is',Zj)\n",
"L=Zi/(2*pi*f);\n",
"disp(L*1000,'inductor in mH:')\n",
"clear()"
   ]
   }
,
{
		   "cell_type": "markdown",
		   "metadata": {},
		   "source": [
			"## Example 9.4: 3.sce"
		   ]
		  },
  {
"cell_type": "code",
	   "execution_count": null,
	   "metadata": {
	    "collapsed": true
	   },
	   "outputs": [],
"source": [
"//example 9.4\n",
"clc;funcprot(0);\n",
"//Initialization of Variable\n",
"I1=1.8;//current\n",
"R=16;//resistance\n",
"I2=5.7;//A\n",
"V=28.8;//Voltage\n",
"//calculation\n",
"P=I1^2*R;\n",
"S=I2*V;\n",
"Pf=P/S;\n",
"disp(Pf,'power factor:')\n",
"clear()"
   ]
   }
,
{
		   "cell_type": "markdown",
		   "metadata": {},
		   "source": [
			"## Example 9.5: 4.sce"
		   ]
		  },
  {
"cell_type": "code",
	   "execution_count": null,
	   "metadata": {
	    "collapsed": true
	   },
	   "outputs": [],
"source": [
"//example 9.5\n",
"clc;funcprot(0);\n",
"//Initialization of Variable\n",
"I=22.6;//current\n",
"V=120;//voltage\n",
"Id=28;//A\n",
"Vd=280;//V\n",
"//calculation\n",
"P=3*I*V;\n",
"disp(P/1000,'total power in kW:')\n",
"Pl=Id*Vd;\n",
"disp(Pl/1000,'load power in kW:')\n",
"Pf=Pl/P;\n",
"disp(Pf,'power factor:')\n",
"clear()"
   ]
   }
,
{
		   "cell_type": "markdown",
		   "metadata": {},
		   "source": [
			"## Example 9.6: 5.sce"
		   ]
		  },
  {
"cell_type": "code",
	   "execution_count": null,
	   "metadata": {
	    "collapsed": true
	   },
	   "outputs": [],
"source": [
"//example 9.6\n",
"clc;funcprot(0);\n",
"//Initialization of Variable\n",
"V=208;//voltage\n",
"R=100;//load\n",
"Vd=150;//V\n",
"pi=3.1428;\n",
"//calculation\n",
"r=Vd/V;\n",
"disp(r,'ratio:')\n",
"printf('firing angle is 58 degrees');\n",
"a=58;//degree\n",
"Vd=3*2^.5*208*(cos(pi/3+a*pi/180)-cos(2*pi/3+a*pi/180))/pi;\n",
"disp(Vd,'dc voltage in V:')\n",
"t=a*16.7/360;\n",
"disp(t,'time delay in ms:')\n",
"clear()"
   ]
   }
,
{
		   "cell_type": "markdown",
		   "metadata": {},
		   "source": [
			"## Example 9.7: 6.sce"
		   ]
		  },
  {
"cell_type": "code",
	   "execution_count": null,
	   "metadata": {
	    "collapsed": true
	   },
	   "outputs": [],
"source": [
"//example 9.7\n",
"clc;funcprot(0);\n",
"//Initialization of Variable\n",
"P=150;//power\n",
"V=8;//voltage\n",
"R=.01;//resistance\n",
"D=.5;//duty cycle\n",
"//calculation\n",
"I=P/.9/D/V;\n",
"disp(I,'max. current in A:')\n",
"Ir=I*D^.5;\n",
"Pq=Ir^2*R;\n",
"disp(Pq,'dissipated power in W:')\n",
"clear()"
   ]
   }
,
{
		   "cell_type": "markdown",
		   "metadata": {},
		   "source": [
			"## Example 9.8: 7.sce"
		   ]
		  },
  {
"cell_type": "code",
	   "execution_count": null,
	   "metadata": {
	    "collapsed": true
	   },
	   "outputs": [],
"source": [
"//example 9.8\n",
"clc;funcprot(0);\n",
"//Initialization of Variable\n",
"f1=60;//frequency\n",
"V=150;//voltage\n",
"f2=31;//kHz\n",
"//calculation\n",
"f3=f1*4;\n",
"disp(f3*2^7/1000,'pwm fundamental frequency in kHz:')\n",
"Vo=V*10^(-4.2);\n",
"disp(Vo*1000,'output voltage in V:')\n",
"clear()"
   ]
   }
,
{
		   "cell_type": "markdown",
		   "metadata": {},
		   "source": [
			"## Example 9.9: 8.sce"
		   ]
		  },
  {
"cell_type": "code",
	   "execution_count": null,
	   "metadata": {
	    "collapsed": true
	   },
	   "outputs": [],
"source": [
"//example 9.9\n",
"clc;funcprot(0);\n",
"//Initialization of Variable\n",
"V=120;//load voltage\n",
"f=60;//Hz\n",
"Vp=200;//V\n",
"Vd=5;//V\n",
"pi=3.1428;\n",
"//calculation\n",
"Vdc=2*Vp/pi;\n",
"disp(Vdc,'average voltage in V:')\n",
"printf('\nVa-d @ 200Vin=4.2V')\n",
"Va=4.2;\n",
"printf('\n\npick R1=47kohm')\n",
"R1=47;\n",
"I=(Vdc-Va)/R1;\n",
"disp(I,'current through dividers in mA:')\n",
"R2=Va/I;\n",
"disp(R2,'R2 in kohm:')\n",
"pi=3.1428;\n",
"K=1/(1/R1+1/R2);// R1 \\ R2\n",
"C=1/2/pi/3.8/K;\n",
"disp(C*1000,'capacitor in microF:')\n",
"clear()"
   ]
   }
],
"metadata": {
		  "kernelspec": {
		   "display_name": "Scilab",
		   "language": "scilab",
		   "name": "scilab"
		  },
		  "language_info": {
		   "file_extension": ".sce",
		   "help_links": [
			{
			 "text": "MetaKernel Magics",
			 "url": "https://github.com/calysto/metakernel/blob/master/metakernel/magics/README.md"
			}
		   ],
		   "mimetype": "text/x-octave",
		   "name": "scilab",
		   "version": "0.7.1"
		  }
		 },
		 "nbformat": 4,
		 "nbformat_minor": 0
}
