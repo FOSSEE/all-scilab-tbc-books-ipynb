{
"cells": [
 {
		   "cell_type": "markdown",
	   "metadata": {},
	   "source": [
       "# Chapter 1: Advanced operational amplifier principles "
	   ]
	},
{
		   "cell_type": "markdown",
		   "metadata": {},
		   "source": [
			"## Example 1.11: 10.sce"
		   ]
		  },
  {
"cell_type": "code",
	   "execution_count": null,
	   "metadata": {
	    "collapsed": true
	   },
	   "outputs": [],
"source": [
"//exapple 1.11\n",
"clc; funcprot(0);\n",
"// Initialization of Variable\n",
"Vin=4.5;\n",
"R1=1100;\n",
"R2=10000;\n",
"G1=3.4//gain 1\n",
"G2=120//gain 2\n",
"//calculation\n",
"Ir=Vin/R1;\n",
"disp(Ir*1000,'output current in mA:')\n",
"Vo=Ir*(R1+R2);\n",
"disp(Vo,'output voltage in V:')\n",
"Vuo1=Vo/G1;\n",
"disp(Vuo1,'gain output voltage 1 in V:')\n",
"Vuo2=Vo/G2;\n",
"disp(Vuo2,'gain output voltage 2 in V:')\n",
"clear()"
   ]
   }
,
{
		   "cell_type": "markdown",
		   "metadata": {},
		   "source": [
			"## Example 1.1: 1.sce"
		   ]
		  },
  {
"cell_type": "code",
	   "execution_count": null,
	   "metadata": {
	    "collapsed": true
	   },
	   "outputs": [],
"source": [
"//example 1.1a\n",
"clc;funcprot(0);\n",
"//Initialization of Variable\n",
"R1=1000;\n",
"R2=1000;\n",
"Rl=500//load resistance\n",
"V=1//input voltage\n",
"Vo=(R2/(R1+R2))*V;\n",
"disp(Vo,'open output voltage in Vrms')\n",
"Rll=1/((1/R2)+(1/Rl))//lower loaded resistance\n",
"disp(Rll,'resistance lower loaded in ohm:')\n",
"Vol=(Rll/(R2+Rll))*V;\n",
"disp(Vol,'loaded output voltag in Vrms')\n",
"clear()"
   ]
   }
,
{
		   "cell_type": "markdown",
		   "metadata": {},
		   "source": [
			"## Example 1.2: 2.sce"
		   ]
		  },
  {
"cell_type": "code",
	   "execution_count": null,
	   "metadata": {
	    "collapsed": true
	   },
	   "outputs": [],
"source": [
"//example 1.2\n",
"clc;funcprot(0);\n",
"//Initialization of Variable\n",
"Rf=100000//resistance\n",
"Acl=100//amplifier gain\n",
"Ri=Rf/(Acl-1);\n",
"disp(Ri/1000,'input resistance in Kohm')\n",
"clear()"
   ]
   }
,
{
		   "cell_type": "markdown",
		   "metadata": {},
		   "source": [
			"## Example 1.3: 3.sce"
		   ]
		  },
  {
"cell_type": "code",
	   "execution_count": null,
	   "metadata": {
	    "collapsed": true
	   },
	   "outputs": [],
"source": [
"//example 1.3\n",
"clc;funcprot(0);\n",
"//Initialization of Variable\n",
"Vni=0//non inverting voltage\n",
"Vinv=0;//inverting voltage\n",
"Vri1=1;\n",
"Vri2=15;\n",
"Ri1=5600//resistance\n",
"Ri2=470000;\n",
"Rf=10000//load resistance\n",
"//calculation\n",
"Ir1=Vri1/Ri1;\n",
"disp(Ir1*1e6,'current through Ri1 in microAmp:')\n",
"Ir2=Vri2/Ri2;\n",
"disp(Ir2*1e6,'current through Ri2 in microAmp:')\n",
"Irf=(Vri1/Ri1)+(Vri2/Ri2);\n",
"disp(Irf*1e6,'current through Rf in microAmp:')\n",
"Vr=Irf*Rf;\n",
"disp(Vr,'voltage dropped in V:')\n",
"Vo1=-Vr;\n",
"disp(Vo1,'output voltage 1 in V:')\n",
"Vo=Irf*Rf;\n",
"disp(Vo,'output voltage in V:')\n",
"clear()"
   ]
   }
,
{
		   "cell_type": "markdown",
		   "metadata": {},
		   "source": [
			"## Example 1.4: 4.sce"
		   ]
		  },
  {
"cell_type": "code",
	   "execution_count": null,
	   "metadata": {
	    "collapsed": true
	   },
	   "outputs": [],
"source": [
"//example 1.4\n",
"clc;funcprot(0);\n",
"//Initialization of Variable\n",
"Ri1=950;//ohm\n",
"Ri2=1050;\n",
"Rf1=105000;//resistance\n",
"Rf2=95000;\n",
"Vin=5;//voltage\n",
"//calculation\n",
"Vinv=(Rf1/(Rf1+Ri1))*Vin;\n",
"disp(Vinv,'inverting voltage in V:')\n",
"Vni=Vinv;\n",
"disp(Vni,'non inverting voltage in V:')\n",
"Irf2=(Vin-Vinv)/Ri2;\n",
"disp(Irf2*1e6,'current through Rf2 in microA:')\n",
"Iri2=Irf2;\n",
"disp(Iri2*1e6,'current through Ri2 in microA:')\n",
"Vrf2=Irf2*Rf2;\n",
"disp(Vrf2,'voltage dropped in V:')\n",
"Vo=Vinv-Vrf2;\n",
"disp(Vo*1000,'output voltage in mV:')\n",
"clear()"
   ]
   }
,
{
		   "cell_type": "markdown",
		   "metadata": {},
		   "source": [
			"## Example 1.5: 5.sce"
		   ]
		  },
  {
"cell_type": "code",
	   "execution_count": null,
	   "metadata": {
	    "collapsed": true
	   },
	   "outputs": [],
"source": [
"//example 1.5\n",
"clc; funcprot(0);\n",
"// Initialization of Variable\n",
"Vniu1=2.45;//V\n",
"Vniu2=2.55;//V\n",
"Vinvu1=2.45;\n",
"Vinvu2=2.55;\n",
"Ri1=9000;//ohm\n",
"Ri2=1000;//ohm\n",
"Rf1=1000;\n",
"Rf2=9000;\n",
"Rg=200;//load resistance\n",
"//calculation\n",
"Iri1=Vniu1/Ri1;\n",
"disp(Iri1*1e6,'input resistor current in microA:')\n",
"Irg=(Vniu2-Vniu1)/Rg;\n",
"disp(Irg*1e6,'input resistor current in microA:')\n",
"Irf1=Irg-Iri1;\n",
"disp(Irf1*1e6,'feedback resistor current in microAmp:')\n",
"Vrf1=Irf1*Rf1;\n",
"disp(Vrf1*1000,'resistor voltage in mV:')\n",
"Vou1=Vniu1-Vrf1;\n",
"disp(Vou1,'1st output voltage in V:')\n",
"Iri2=(Vniu2-Vou1)/Ri2;\n",
"disp(Iri2*1e6,'input resistor current in microA:')\n",
"Irf2=Iri2+Irg;\n",
"disp(Irf2*1e6,'input resistor current in microA:')\n",
"Vrf2=Irf2*Rf2//feedback resistor voltage\n",
"disp(Vrf2,'feedback resistor voltage in V:')\n",
"Vo=Vrf2+Vniu2;\n",
"disp(Vo,'2nd output voltage in V:')\n",
"clear()"
   ]
   }
,
{
		   "cell_type": "markdown",
		   "metadata": {},
		   "source": [
			"## Example 1.6a: 6.sce"
		   ]
		  },
  {
"cell_type": "code",
	   "execution_count": null,
	   "metadata": {
	    "collapsed": true
	   },
	   "outputs": [],
"source": [
"//example 1.6\n",
"clc; funcprot(0);\n",
"// Initialization of Variable\n",
"Vniu1=0;//V\n",
"Vinvu2=0;//V\n",
"Vref=2.56;\n",
"Rl=10000;//ohm\n",
"Rf=39200;//ohm\n",
"Ro=10;//resistance\n",
"Vdc1=5;\n",
"Vdc2=15;\n",
"Idc=.5;//current\n",
"//calculation\n",
"Iu1=(Vref/Rl)*.5;\n",
"disp(Iu1*1e6,'input resistor current in microA:')\n",
"Irf=Iu1;\n",
"disp(Irf*1e6,'feedback resistor current in microA:')\n",
"Vrf=Irf*Rf;\n",
"disp(Vrf,'feedback resistor voltage in V:')\n",
"Vout=Vrf+Vinvu2;\n",
"disp(Vout,'output resistor voltage in V:')\n",
"Eo=Vout-1.2;\n",
"disp(Eo,'output voltage in V:')\n",
"Iload=Vdc1/Ro;\n",
"disp(Iload,'load current in A:')\n",
"Pload=Vdc1^2/Ro;\n",
"disp(Pload,'load power in W:')\n",
"Plm317=(Vdc2-Vdc1)*Idc;\n",
"disp(Plm317,'powerdissipated in LM317 in W:')"
   ]
   }
,
{
		   "cell_type": "markdown",
		   "metadata": {},
		   "source": [
			"## Example 1.6b: 7.sce"
		   ]
		  },
  {
"cell_type": "code",
	   "execution_count": null,
	   "metadata": {
	    "collapsed": true
	   },
	   "outputs": [],
"source": [
"//example 1.6b\n",
"clc; funcprot(0);\n",
"// Initialization of Variable\n",
"Vin=4;//V\n",
"Vs=1.8;//V\n",
"Rf=10000;//ohm\n",
"Ri=1100;//ohm\n",
"Rl=2;//ohm\n",
"Rs=0.1;//ohm\n",
"//calculation\n",
"Irf=Vin/(Rf+Ri);\n",
"disp(Irf*1e6,'input resistor current in microamp:')\n",
"Vni=Irf*Ri;\n",
"disp(Vni*1000,'inverting voltage 1 & 2 in mV:')\n",
"Ir=Vni/Rs;\n",
"disp(Ir,'current across Rs in A:')\n",
"Ve=Ir*(Rl+Rs);\n",
"disp(Ve,'emitter voltage in V:')\n",
"Vo=Ve+Vs;\n",
"disp(Vo,'output voltage in V:')\n",
"clear()"
   ]
   }
,
{
		   "cell_type": "markdown",
		   "metadata": {},
		   "source": [
			"## Example 1.7: 8.sce"
		   ]
		  },
  {
"cell_type": "code",
	   "execution_count": null,
	   "metadata": {
	    "collapsed": true
	   },
	   "outputs": [],
"source": [
"//example 1.7\n",
"clc; funcprot(0);\n",
"// Initialization of Variable\n",
"Vs=18;//V\n",
"Rl=8;//load resistance\n",
"Pll=100;//power\n",
"//calculation\n",
"Vlp=Vs-4;\n",
"Vlr=Vlp/(2^.5);\n",
"disp(Vlr,'rms voltage in V:')\n",
"Pl=(Vlr^2)/Rl;\n",
"disp(Pl,'power delivered in W:')\n",
"Vl=(Pll*Rl)^.5;\n",
"disp(Vl,'load voltage in V:')\n",
"clear()"
   ]
   }
,
{
		   "cell_type": "markdown",
		   "metadata": {},
		   "source": [
			"## Example 1.9: 9.sce"
		   ]
		  },
  {
"cell_type": "code",
	   "execution_count": null,
	   "metadata": {
	    "collapsed": true
	   },
	   "outputs": [],
"source": [
"//example 1.9\n",
"clc; funcprot(0);\n",
"// Initialization of Variable\n",
"Vp=6;//V\n",
"Ra=10;//Kohm\n",
"Rb=1800;//ohm\n",
"V=8;\n",
"//solving for Ir & Vo\n",
"A=[1 -124.6e-6; 7800 -1];\n",
"B=[134.6e-6;0];\n",
"x=inv(A)*B;\n",
"Vo=x(2,1);\n",
"disp(Vo,'output voltage in V:')\n",
"Va=Vo+V;\n",
"Vb=Vo-V;\n",
"disp(Va,Vb,'V- & V+ in V:')\n",
"clear()"
   ]
   }
],
"metadata": {
		  "kernelspec": {
		   "display_name": "Scilab",
		   "language": "scilab",
		   "name": "scilab"
		  },
		  "language_info": {
		   "file_extension": ".sce",
		   "help_links": [
			{
			 "text": "MetaKernel Magics",
			 "url": "https://github.com/calysto/metakernel/blob/master/metakernel/magics/README.md"
			}
		   ],
		   "mimetype": "text/x-octave",
		   "name": "scilab",
		   "version": "0.7.1"
		  }
		 },
		 "nbformat": 4,
		 "nbformat_minor": 0
}
