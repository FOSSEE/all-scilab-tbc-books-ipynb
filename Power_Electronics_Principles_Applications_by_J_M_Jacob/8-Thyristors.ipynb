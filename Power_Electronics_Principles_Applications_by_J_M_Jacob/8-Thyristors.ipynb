{
"cells": [
 {
		   "cell_type": "markdown",
	   "metadata": {},
	   "source": [
       "# Chapter 8: Thyristors"
	   ]
	},
{
		   "cell_type": "markdown",
		   "metadata": {},
		   "source": [
			"## Example 8.3: 1.sce"
		   ]
		  },
  {
"cell_type": "code",
	   "execution_count": null,
	   "metadata": {
	    "collapsed": true
	   },
	   "outputs": [],
"source": [
"//example 8.3\n",
"clc;funcprot(0);\n",
"//Initialization of Variable\n",
"V=220;//line voltage\n",
"f=50;//hertz\n",
"R=80;//load resistance\n",
"K=50;//di/dt\n",
"pi=3.1428;\n",
"//calculation\n",
"L=V*2^.5/K;\n",
"disp(L,'inductance in microH:')\n",
"Z=2*pi*f*L;\n",
"disp(Z*1e-6,'load impedence at angle 90 degree in ohm')\n",
"clear()"
   ]
   }
,
{
		   "cell_type": "markdown",
		   "metadata": {},
		   "source": [
			"## Example 8.4: 2.sce"
		   ]
		  },
  {
"cell_type": "code",
	   "execution_count": null,
	   "metadata": {
	    "collapsed": true
	   },
	   "outputs": [],
"source": [
"//example 8.4\n",
"clc;funcprot(0);\n",
"//Initialization of Variable\n",
"V=220;//line voltage\n",
"f=50;//hertz\n",
"R=80;//load resistance\n",
"K=75;//dv/dt\n",
"Vd=400;//DRM voltage\n",
"pi=3.1428\n",
"//calculation\n",
"C=Vd/R/K;\n",
"disp(C,'minimum value of capacitor in micfoF:')\n",
"printf('\nchoose C=.1 micoF')\n",
"C1=.1;\n",
"Z=1/(2*pi*f*C1);\n",
"disp(Z*1000,'capacitor impedence at angle -90degree in ohm:')\n",
"Iload=V/1000/(-Z*cos(180*pi/180)+R*round(cos(90*pi/180)));\n",
"disp(Iload,'Load current in mA at an angle 90 degrees :');\n",
"Vload=Iload/1000*R;\n",
"disp(Vload,'Potential drop in V at an angle 90 degrees :')\n",
"P=Vload*Iload;\n",
"disp(int(P),'Power dissipated in mW :')\n",
"clear()"
   ]
   }
,
{
		   "cell_type": "markdown",
		   "metadata": {},
		   "source": [
			"## Example 8.5: 3.sce"
		   ]
		  },
  {
"cell_type": "code",
	   "execution_count": null,
	   "metadata": {
	    "collapsed": true
	   },
	   "outputs": [],
"source": [
"//example 8.5\n",
"clc;funcprot(0);\n",
"//Initialization of Variable\n",
"V=220;//line voltage\n",
"f=50;//hertz\n",
"R=80;//load resistance\n",
"I=46;//TSM current\n",
"//calculation\n",
"Rs=V*2^.5/(I-V*2^.5/R);\n",
"disp(Rs,'snubbing resistnce in ohm:')\n",
"clear()"
   ]
   }
,
{
		   "cell_type": "markdown",
		   "metadata": {},
		   "source": [
			"## Example 8.6: 4.sce"
		   ]
		  },
  {
"cell_type": "code",
	   "execution_count": null,
	   "metadata": {
	    "collapsed": true
	   },
	   "outputs": [],
"source": [
"//example 8.6\n",
"clc;funcprot(0);\n",
"//Initialization of Variable\n",
"R=10;//load\n",
"V=120;//rms voltage\n",
"f=60;//hertz\n",
"T=83.3;//ms\n",
"t1=15;//ms\n",
"t2=55;//ms\n",
"//calculation\n",
"Tl=1/f;\n",
"disp(Tl*1000,'line period in ms:')\n",
"Th=Tl/2;\n",
"disp(Th*1000,'half-cycle time in ms:')\n",
"C=round(T/Th/100)*100;\n",
"disp(C/1000,'cycles:')\n",
"D1=.2;\n",
"V1=round(V*D1^.5);\n",
"disp(V1,'voltage for t1 in V:')\n",
"P1=V1^2/R;\n",
"disp(P1,'power for t1 in W:')\n",
"D2=.7;\n",
"V2=round(V*D2^.5);\n",
"disp(V2,'voltage for t2 in V:')\n",
"P2=V2^2/R;\n",
"disp(P2,'power for t2 in W:')\n",
"clear()"
   ]
   }
,
{
		   "cell_type": "markdown",
		   "metadata": {},
		   "source": [
			"## Example 8.8: 5.sce"
		   ]
		  },
  {
"cell_type": "code",
	   "execution_count": null,
	   "metadata": {
	    "collapsed": true
	   },
	   "outputs": [],
"source": [
"//example 8.8\n",
"clc;funcprot(0);\n",
"//Initialization of Variable\n",
"V=120;//line voltage\n",
"A=60;//degree\n",
"D=.35;\n",
"pi=3.14;\n",
"//calculation\n",
"Va=D*V;\n",
"disp(Va,'average voltage in V:')\n",
"Vd=V*2^.5*(cos(A*pi/180)+1)/2/pi;\n",
"disp(round(Vd),'dc voltage in V:')\n",
"printf('\nthe markers indicae Vp=163V Vave=41')\n",
"Vr=.9*V;\n",
"disp(Vr,'full-wave rms voltage in V:')\n",
"Vrms=V*(2^.5)*(.5*(pi-1.047)+.25*sin(2*A*pi/180))^.5/pi^.5;\n",
"disp(Vrms,'rms voltage in V:')\n",
"printf('\nthe markers indicate Vp=169V Vave=106V')\n",
"clear()"
   ]
   }
,
{
		   "cell_type": "markdown",
		   "metadata": {},
		   "source": [
			"## Example 8.9: 6.sce"
		   ]
		  },
  {
"cell_type": "code",
	   "execution_count": null,
	   "metadata": {
	    "collapsed": true
	   },
	   "outputs": [],
"source": [
"//example 8.9\n",
"clc;funcprot(0);\n",
"//Initialization of Variable\n",
"V=220;//line voltage\n",
"P=1.3;//kW\n",
"R=15;//ohm\n",
"pi=3.1428;\n",
"//calculation\n",
"Vr=round((P*1000*R)^.5);\n",
"disp(Vr,'rms voltage in V:')\n",
"D=Vr/V;\n",
"Vr=V*2^.5*(.5*(pi-1.710)+sin(196*pi/180)/4)^.5/pi^.5;\n",
"disp(Vr,'double checked value of rms voltage in V:')\n",
"clear()"
   ]
   }
],
"metadata": {
		  "kernelspec": {
		   "display_name": "Scilab",
		   "language": "scilab",
		   "name": "scilab"
		  },
		  "language_info": {
		   "file_extension": ".sce",
		   "help_links": [
			{
			 "text": "MetaKernel Magics",
			 "url": "https://github.com/calysto/metakernel/blob/master/metakernel/magics/README.md"
			}
		   ],
		   "mimetype": "text/x-octave",
		   "name": "scilab",
		   "version": "0.7.1"
		  }
		 },
		 "nbformat": 4,
		 "nbformat_minor": 0
}
