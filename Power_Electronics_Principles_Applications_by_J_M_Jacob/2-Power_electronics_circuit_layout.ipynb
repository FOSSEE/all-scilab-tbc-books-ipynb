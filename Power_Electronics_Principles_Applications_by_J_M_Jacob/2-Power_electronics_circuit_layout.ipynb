{
"cells": [
 {
		   "cell_type": "markdown",
	   "metadata": {},
	   "source": [
       "# Chapter 2: Power electronics circuit layout"
	   ]
	},
{
		   "cell_type": "markdown",
		   "metadata": {},
		   "source": [
			"## Example 2.9: 1.sce"
		   ]
		  },
  {
"cell_type": "code",
	   "execution_count": null,
	   "metadata": {
	    "collapsed": true
	   },
	   "outputs": [],
"source": [
"//example 2.9\n",
"clc; funcprot(0);\n",
"// Initialization of Variable\n",
"V=15;//voltage\n",
"R=4;//resistance\n",
"Vl=.1;\n",
"D=8;//duty cycle\n",
"//calculation\n",
"Il=V/R;\n",
"disp(Il,'load current in A:')\n",
"Rw=Vl/Il//wiring resistance\n",
"disp(Rw*1000,'wiring resistance in mohm:')\n",
"Ri=Rw/(2*D);\n",
"disp(Ri*1e6,'resistance per inch in microohm/inch:')\n",
"clear()"
   ]
   }
],
"metadata": {
		  "kernelspec": {
		   "display_name": "Scilab",
		   "language": "scilab",
		   "name": "scilab"
		  },
		  "language_info": {
		   "file_extension": ".sce",
		   "help_links": [
			{
			 "text": "MetaKernel Magics",
			 "url": "https://github.com/calysto/metakernel/blob/master/metakernel/magics/README.md"
			}
		   ],
		   "mimetype": "text/x-octave",
		   "name": "scilab",
		   "version": "0.7.1"
		  }
		 },
		 "nbformat": 4,
		 "nbformat_minor": 0
}
