{
"cells": [
 {
		   "cell_type": "markdown",
	   "metadata": {},
	   "source": [
       "# Chapter 7: Switching power supplies "
	   ]
	},
{
		   "cell_type": "markdown",
		   "metadata": {},
		   "source": [
			"## Example 7.1: 1.sce"
		   ]
		  },
  {
"cell_type": "code",
	   "execution_count": null,
	   "metadata": {
	    "collapsed": true
	   },
	   "outputs": [],
"source": [
"//example 7.1\n",
"clc; funcprot(0);\n",
"// Initialization of Variable\n",
"T=20;//time\n",
"Vp=12;//voltage\n",
"t=5;\n",
"//calculation\n",
"D=t/T;\n",
"disp(D,'duty cycle:')\n",
"Vd=(D*Vp);\n",
"disp(Vd,'average voltage in V:')\n",
"clear()"
   ]
   }
,
{
		   "cell_type": "markdown",
		   "metadata": {},
		   "source": [
			"## Example 7.2: 2.sce"
		   ]
		  },
  {
"cell_type": "code",
	   "execution_count": null,
	   "metadata": {
	    "collapsed": true
	   },
	   "outputs": [],
"source": [
"//example 7.2\n",
"clc; funcprot(0);\n",
"// Initialization of Variable\n",
"Vd=12;//voltage\n",
"Vl=5;//load voltage\n",
"Rl=10;//load resistance\n",
"f=100;//frequency\n",
"L=220;//inductor\n",
"//calculation\n",
"D=Vl/Vd;\n",
"disp(round(D*100),'duty cycle in %:')\n",
"T=1/f;\n",
"disp(T*1000,'time in microsec')\n",
"t=D*T;\n",
"disp(round(t*10000)/10,'on time in microsec')\n",
"Vr=Vd-Vl;\n",
"I=Vr*round(t*10000)/10/L;\n",
"disp(I*1000,'ripple current in mA:')\n",
"Il=Vl/Rl;\n",
"disp(Il*1000,'load current in mA:')\n",
"Ip=Il+I/2;\n",
"disp(Ip*1000,'peak inductor current in mA:')\n",
"clear()"
   ]
   }
,
{
		   "cell_type": "markdown",
		   "metadata": {},
		   "source": [
			"## Example 7.3: 3.sce"
		   ]
		  },
  {
"cell_type": "code",
	   "execution_count": null,
	   "metadata": {
	    "collapsed": true
	   },
	   "outputs": [],
"source": [
"//example 7.3 \n",
"clc; funcprot(0);\n",
"// Initialization of Variable\n",
"Id=500;//load current\n",
"i=134;//mA\n",
"D=.42;//duty cycle\n",
"//calculation\n",
"Ip=Id+i/2;\n",
"Im=Id-i/2;\n",
"I1=((D/3)*(Ip^2+Im*Ip+Im^2))^.5;\n",
"disp(I1,'rms current in mA:')\n",
"printf('by trapezium method')\n",
"I2=D^.5*Id;\n",
"disp(I2,'rms current in mA:')\n",
"printf('by rectangle method')\n",
"printf('\n rectangle method gives good result than trapezium method')\n",
"clear()"
   ]
   }
,
{
		   "cell_type": "markdown",
		   "metadata": {},
		   "source": [
			"## Example 7.4: 4.sce"
		   ]
		  },
  {
"cell_type": "code",
	   "execution_count": null,
	   "metadata": {
	    "collapsed": true
	   },
	   "outputs": [],
"source": [
"//example 7.4 \n",
"clc; funcprot(0);\n",
"// Initialization of Variable\n",
"Vp=.3;//voltage\n",
"I=500;//current\n",
"D=.42;//duty cycle\n",
"T=150;//temperature\n",
"R=.6;//ohm\n",
"//calculation\n",
"Vq=I*R;\n",
"disp(Vq/1000,'voltage in V:')\n",
"Pq=D*Vq*I;\n",
"disp(Pq/1000,'dissipated power in mW:')\n",
"clear()"
   ]
   }
,
{
		   "cell_type": "markdown",
		   "metadata": {},
		   "source": [
			"## Example 7.5: 5.sce"
		   ]
		  },
  {
"cell_type": "code",
	   "execution_count": null,
	   "metadata": {
	    "collapsed": true
	   },
	   "outputs": [],
"source": [
"//example 7.5 \n",
"clc; funcprot(0);\n",
"// Initialization of Variable\n",
"R=10.0;//resistance\n",
"V1=5.0;//V\n",
"V2=12.0;//V\n",
"Ta=80.0;//degreeC\n",
"Tb=150.0;\n",
"f=150.0;//frequency\n",
"//calculation\n",
"D=V1/V2;\n",
"disp(D*100,'duty cycle in %')\n",
"T=1/f;\n",
"disp(T*1000,'time period in microsec:')\n",
"t=D*T;\n",
"disp(t*1000,'on time in microsec:')\n",
"Id=V1/R;\n",
"disp(Id*1000,'load current in mA:')\n",
"i=.25*Id;\n",
"disp(i*1000,'ripple current in mA:')\n",
"Vl=V2-V1;\n",
"disp(Vl,'inductor voltage in V:')\n",
"L=Vl*t/i;\n",
"disp(L*1000,'inductor in microH:')\n",
"Ip=Id+i/2;\n",
"disp(Ip*1000,'inductor current in mA:')\n",
"Ic=Id/2;\n",
"disp(Ic*1000,'minimum capacitor current in mA:')\n",
"Vc=1.5*V2;\n",
"disp(Vc,'minimum capacitor voltage in V:')\n",
"K=V1/1.23-1;\n",
"disp(K,'Rf/Ri = :')\n",
"P=.01*V2+D*Id*1;\n",
"disp(P,'power of LM2595 in W:')\n",
"Q=(Tb-Ta)/P-2.2;\n",
"disp(Q,'thermal resistance in degreeC/W:')\n",
"clear()"
   ]
   }
,
{
		   "cell_type": "markdown",
		   "metadata": {},
		   "source": [
			"## Example 7.6: 6.sce"
		   ]
		  },
  {
"cell_type": "code",
	   "execution_count": null,
	   "metadata": {
	    "collapsed": true
	   },
	   "outputs": [],
"source": [
"//example 7.6 \n",
"clc; funcprot(0);\n",
"// Initialization of Variable\n",
"V1=12//V\n",
"V2=22;//V\n",
"I=.7;//A\n",
"f=100;//kHz\n",
"R=.4;//ohm\n",
"Vd=.5;\n",
"//calculation\n",
"Pl=V2*I;\n",
"disp(Pl,'load power in W:')\n",
"Ps=Pl/.9;\n",
"disp(Ps ,'supply power in W:')\n",
"Id=round(Ps/V1*10)/10;\n",
"disp(Id,'dc current in A:')\n",
"i=.25*Id;\n",
"Ip=Id+i/2;\n",
"disp(Ip,'inductor current in A:')\n",
"D=round((1-V1/V2)*100)/100;\n",
"disp(D,'duty cycle :')\n",
"t=D/f;\n",
"L=V1*t/i;\n",
"disp(L*1000,'inductor in microH:')\n",
"Vp=Id*R;\n",
"Pq=D*Vp*Id;\n",
"disp(Pq*1000,'transistor power in mW:')\n",
"Pd=(1-D)*.5*Id;\n",
"disp(round(Pd*100)*10,'diode power in mW:')\n",
"C=Id*t/2/20;\n",
"disp(C*1e6,'capacitor in microF:')\n",
"clear()"
   ]
   }
,
{
		   "cell_type": "markdown",
		   "metadata": {},
		   "source": [
			"## Example 7.7: 7.sce"
		   ]
		  },
  {
"cell_type": "code",
	   "execution_count": null,
	   "metadata": {
	    "collapsed": true
	   },
	   "outputs": [],
"source": [
"//example 7.7\n",
"clc;funcprot(0);\n",
"//Initialization of Variable\n",
"V1=12;//V\n",
"V2=22;//V\n",
"I=.7;//A\n",
"Ta=80;//degreeC\n",
"Ps=17.1//supply power\n",
"//calculation\n",
"K=V2/1.23-1;\n",
"disp(K,'Rf/Ri=:')\n",
"printf('pick Rf=22; Ri=1.3;')\n",
"Id=round(Ps/V1*10)/10;\n",
"D=round((1-(V1/V2))*100)/100;\n",
"Ir=D^.5*Id;\n",
"disp(Id,'rms current in A:')\n",
"Ps=Ir^2*.15;\n",
"disp(Ps*1000,'switch power in mW:')\n",
"Pi=D*Id*V1/50;\n",
"disp(Pi*1000,'IC power in mW:')\n",
"P=Ps+Pi;\n",
"disp(P*1000,'total power in mW:')\n",
"T=Ta+P*65;\n",
"disp(T,'IC temperature in degreeC:')\n",
"clear()"
   ]
   }
,
{
		   "cell_type": "markdown",
		   "metadata": {},
		   "source": [
			"## Example 7.8: 8.sce"
		   ]
		  },
  {
"cell_type": "code",
	   "execution_count": null,
	   "metadata": {
	    "collapsed": true
	   },
	   "outputs": [],
"source": [
"//example 7.8\n",
"clc;funcprot(0);\n",
"//Initialization of Variable\n",
"V1=12;//V\n",
"V2=5;//V\n",
"Il=1;//load current\n",
"T=10;//microsec\n",
"K=1.25;//Npri/Nsec\n",
"L=85;//microH\n",
"//calculation\n",
"Vq=V1+V2*K;\n",
"disp(Vq,'maximum voltage in V:')\n",
"Vd=V1*K+V2;\n",
"disp(Vd,'diode voltage in V:')\n",
"D=round((K*V2)*100/(V1+K*V2))/100;\n",
"disp(D,'duty cycle:')\n",
"Po=V2*Il;\n",
"disp(Po,'power delivered in W:')\n",
"Pi=round(Po/.09)/10;\n",
"Id=Pi/V1;\n",
"disp(Id*1000,'average current in mA:')\n",
"Im=Id/D;\n",
"disp(Im,'mid primary current in A:')\n",
"Ir=(Im*D^.5);\n",
"disp(Ir*1000,'rms current in mA:')\n",
"i=V1*D*T/L;\n",
"disp(i*1000,'ramp current in mA:')\n",
"IM=Im+.24;\n",
"disp(IM,'maximum transistor current in A:')\n",
"Imin=Im-.24;\n",
"disp(Imin,'minimum transistor current in A:')\n",
"Ip=K*IM;\n",
"disp(Ip,'diode peak current in A:')\n",
"Imid=Il/(1-D);\n",
"Irms=Imid*(1-D)^.5;\n",
"disp(Irms,'secondary rms current in A:')\n",
"C=D*Il*T/20;\n",
"disp(C*1000,'capacitor in microF:')\n",
"clear()\n",
""
   ]
   }
],
"metadata": {
		  "kernelspec": {
		   "display_name": "Scilab",
		   "language": "scilab",
		   "name": "scilab"
		  },
		  "language_info": {
		   "file_extension": ".sce",
		   "help_links": [
			{
			 "text": "MetaKernel Magics",
			 "url": "https://github.com/calysto/metakernel/blob/master/metakernel/magics/README.md"
			}
		   ],
		   "mimetype": "text/x-octave",
		   "name": "scilab",
		   "version": "0.7.1"
		  }
		 },
		 "nbformat": 4,
		 "nbformat_minor": 0
}
