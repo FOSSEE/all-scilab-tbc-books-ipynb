{
"cells": [
 {
		   "cell_type": "markdown",
	   "metadata": {},
	   "source": [
       "# Chapter 3: Power parameter calculation"
	   ]
	},
{
		   "cell_type": "markdown",
		   "metadata": {},
		   "source": [
			"## Example 3.10: 10.sce"
		   ]
		  },
  {
"cell_type": "code",
	   "execution_count": null,
	   "metadata": {
	    "collapsed": true
	   },
	   "outputs": [],
"source": [
"//example 3.10\n",
"clc; funcprot(0);\n",
"// Initialization of Variable\n",
"V=170;\n",
"R=51;\n",
"//calculation\n",
"I=V/R;\n",
"P=(V*I)/4;\n",
"disp(P,'power delivered in Watt:')\n",
"clear()"
   ]
   }
,
{
		   "cell_type": "markdown",
		   "metadata": {},
		   "source": [
			"## Example 3.11: 11.sce"
		   ]
		  },
  {
"cell_type": "code",
	   "execution_count": null,
	   "metadata": {
	    "collapsed": true
	   },
	   "outputs": [],
"source": [
"//example 3.11\n",
"clc; funcprot(0);\n",
"// Initialization of Variable\n",
"V=7.2;\n",
"Rq=.2;\n",
"Rl=4;\n",
"D=.6;\n",
"//calculation\n",
"Ip=V/(Rq+Rl);\n",
"Vl=Ip*Rl;\n",
"P=D*Vl*Ip;\n",
"disp(P,'power dissipated in watt:')\n",
"Vq=Ip*Rq;\n",
"Pq=D*Vq*Ip;\n",
"disp(Pq,'power dissipated when transistor resistance is 0.2 hm in watt:')\n",
"clear()"
   ]
   }
,
{
		   "cell_type": "markdown",
		   "metadata": {},
		   "source": [
			"## Example 3.1: 1.sce"
		   ]
		  },
  {
"cell_type": "code",
	   "execution_count": null,
	   "metadata": {
	    "collapsed": true
	   },
	   "outputs": [],
"source": [
"//example 3.1\n",
"clc; funcprot(0);\n",
"// Initialization of Variable\n",
"Ip=3;\n",
"f=150000;\n",
"t=5e-6;\n",
"//calculation\n",
"T=1/f;\n",
"It=Ip/T;\n",
"disp(It/1000,'ramp current in kAt/s')\n",
"I5=It*t;\n",
"disp(I5,'current at 5 micro sec in A')\n",
"clear()"
   ]
   }
,
{
		   "cell_type": "markdown",
		   "metadata": {},
		   "source": [
			"## Example 3.2: 2.sce"
		   ]
		  },
  {
"cell_type": "code",
	   "execution_count": null,
	   "metadata": {
	    "collapsed": true
	   },
	   "outputs": [],
"source": [
"//example 3.2\n",
"clc; funcprot(0);\n",
"// Initialization of Variable\n",
"Ip=2;\n",
"f=500000;\n",
"Ir=.3;\n",
"Cd=.4//duty cycle\n",
"t1=4e-7;\n",
"t2=1e-6;\n",
"//calculation\n",
"T=1/f;\n",
"Im=Ip-Ir;\n",
"disp(It=(Ip-Im)*t1/(Cd*T)+Im,'current in time 0<=t<800ns in A')\n",
"disp(It=0,'current in time 800ns<=t<2 microsec in A')\n",
"I4=(Ip-Im)*t1/(Cd*T)+Im;\n",
"disp(I4,'current in time 400ns in A')\n",
"I1=0;\n",
"disp(I1,'current in time 1 microsec in A')\n",
"clear()"
   ]
   }
,
{
		   "cell_type": "markdown",
		   "metadata": {},
		   "source": [
			"## Example 3.3: 3.sce"
		   ]
		  },
  {
"cell_type": "code",
	   "execution_count": null,
	   "metadata": {
	    "collapsed": true
	   },
	   "outputs": [],
"source": [
"//example3.2 \n",
"clc; funcprot(0);\n",
"// Initialization of Variable\n",
"Vr=120;\n",
"pi=3.1428;\n",
"V=(Vr*2^.5)/pi;\n",
"disp(V,'average voltage in V')\n",
"clear()"
   ]
   }
,
{
		   "cell_type": "markdown",
		   "metadata": {},
		   "source": [
			"## Example 3.4: 4.sce"
		   ]
		  },
  {
"cell_type": "code",
	   "execution_count": null,
	   "metadata": {
	    "collapsed": true
	   },
	   "outputs": [],
"source": [
"//example 3.4\n",
"clc; funcprot(0);\n",
"// Initialization of Variable\n",
"f=100000;\n",
"Cd=.35//duty cycle\n",
"Ip=3;\n",
"Ir=.4;\n",
"//calculation\n",
"Im=Ip-Ir;\n",
"T=1/f;\n",
"I=Cd*((Ip-Im)/2+Im)\n",
"disp(I,'average current in A')\n",
"clear()"
   ]
   }
,
{
		   "cell_type": "markdown",
		   "metadata": {},
		   "source": [
			"## Example 3.5: 5.sce"
		   ]
		  },
  {
"cell_type": "code",
	   "execution_count": null,
	   "metadata": {
	    "collapsed": true
	   },
	   "outputs": [],
"source": [
"//example 3.5\n",
"clc; funcprot(0);\n",
"// Initialization of Variable\n",
"Vp=15;\n",
"Cd=.35;\n",
"f=100000;\n",
"V=Vp*Cd^.5;\n",
"disp(V,'rms voltage in V')\n",
"clear()"
   ]
   }
,
{
		   "cell_type": "markdown",
		   "metadata": {},
		   "source": [
			"## Example 3.6: 6.sce"
		   ]
		  },
  {
"cell_type": "code",
	   "execution_count": null,
	   "metadata": {
	    "collapsed": true
	   },
	   "outputs": [],
"source": [
"//example 3.6\n",
"clc; funcprot(0);\n",
"// Initialization of Variable\n",
"Ip=3;\n",
"f=100000;\n",
"I=Ip/3^.5;\n",
"disp(I,'rms current in A')\n",
"clear()"
   ]
   }
,
{
		   "cell_type": "markdown",
		   "metadata": {},
		   "source": [
			"## Example 3.7: 7.sce"
		   ]
		  },
  {
"cell_type": "code",
	   "execution_count": null,
	   "metadata": {
	    "collapsed": true
	   },
	   "outputs": [],
"source": [
"//example 3.7\n",
"clc; funcprot(0);\n",
"// Initialization of Variable\n",
"Vp=170;\n",
"f=60;\n",
"Vr=Vp/2;\n",
"disp(Vr,'rms voltage in V')\n",
"clear()"
   ]
   }
,
{
		   "cell_type": "markdown",
		   "metadata": {},
		   "source": [
			"## Example 3.8: 8.sce"
		   ]
		  },
  {
"cell_type": "code",
	   "execution_count": null,
	   "metadata": {
	    "collapsed": true
	   },
	   "outputs": [],
"source": [
"//example 3.8\n",
"clc; funcprot(0);\n",
"// Initialization of Variable\n",
"M=1000;\n",
"H=40;\n",
"T=30;\n",
"E1=.9;\n",
"E2=.5;\n",
"V=220;\n",
"//calculation\n",
"W=M*H;\n",
"P=(W)/(T*550);\n",
"disp(P,'power required in hp')\n",
"printf('Pick a 5HP motor')\n",
"P1=5;\n",
"Pe=P1/E1;\n",
"I=(Pe*746)/V;\n",
"disp(I,'current required in amp')\n",
"clear()"
   ]
   }
,
{
		   "cell_type": "markdown",
		   "metadata": {},
		   "source": [
			"## Example 3.9: 9.sce"
		   ]
		  },
  {
"cell_type": "code",
	   "execution_count": null,
	   "metadata": {
	    "collapsed": true
	   },
	   "outputs": [],
"source": [
"//example 3.9\n",
"clc; funcprot(0);\n",
"// Initialization of Variable\n",
"Vin=1;\n",
"Ri=1100;\n",
"Rf=10000;\n",
"Rl=8;\n",
"Vs=18;\n",
"pi=3.1428;\n",
"//calculation\n",
"Ir=Vin/Ri;\n",
"Vl=Ir*(Ri+Rf);\n",
"Ip=Vl/Rl;\n",
"Pl=(Vl*Ip)/2;\n",
"disp(Pl,'power delivered to the load in Watt:-')\n",
"Ps=(Vs*Ip)/pi;\n",
"disp(Ps,'power provided by each supply in Watt:-')\n",
"clear()"
   ]
   }
],
"metadata": {
		  "kernelspec": {
		   "display_name": "Scilab",
		   "language": "scilab",
		   "name": "scilab"
		  },
		  "language_info": {
		   "file_extension": ".sce",
		   "help_links": [
			{
			 "text": "MetaKernel Magics",
			 "url": "https://github.com/calysto/metakernel/blob/master/metakernel/magics/README.md"
			}
		   ],
		   "mimetype": "text/x-octave",
		   "name": "scilab",
		   "version": "0.7.1"
		  }
		 },
		 "nbformat": 4,
		 "nbformat_minor": 0
}
