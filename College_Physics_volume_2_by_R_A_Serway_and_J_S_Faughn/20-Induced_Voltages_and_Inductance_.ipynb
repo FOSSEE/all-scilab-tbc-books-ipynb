{
"cells": [
 {
		   "cell_type": "markdown",
	   "metadata": {},
	   "source": [
       "# Chapter 20: Induced Voltages and Inductance "
	   ]
	},
{
		   "cell_type": "markdown",
		   "metadata": {},
		   "source": [
			"## Example 20.1: Magnetic_flux.sce"
		   ]
		  },
  {
"cell_type": "code",
	   "execution_count": null,
	   "metadata": {
	    "collapsed": true
	   },
	   "outputs": [],
"source": [
"//Example 20.1\n",
"clc;\n",
"B=.5//in T\n",
"A=3.24*10^-4//in m^2\n",
"Flux=B*A\n",
"N=25\n",
"delta_t=.8\n",
"disp(Flux,'Magnetic flux in T.m^2=')\n",
"e=(N*Flux)/(delta_t)\n",
"disp(e,'Induced emf in volt=')"
   ]
   }
,
{
		   "cell_type": "markdown",
		   "metadata": {},
		   "source": [
			"## Example 20.2: Induced_emf.sce"
		   ]
		  },
  {
"cell_type": "code",
	   "execution_count": null,
	   "metadata": {
	    "collapsed": true
	   },
	   "outputs": [],
"source": [
"//Ex20_2\n",
"B=.6*10^-4//in T\n",
"l=30\n",
"v=250//in m/s\n",
"e=B*l*v\n",
"disp(e,'Induced emf in volt=')"
   ]
   }
,
{
		   "cell_type": "markdown",
		   "metadata": {},
		   "source": [
			"## Example 20.3: Energy_and_force.sce"
		   ]
		  },
  {
"cell_type": "code",
	   "execution_count": null,
	   "metadata": {
	    "collapsed": true
	   },
	   "outputs": [],
"source": [
"//example20.3\n",
"clc\n",
"B=.25//in T\n",
"l=.5\n",
"v=2//in m/s\n",
"e=B*l*v\n",
"disp('Solution a')\n",
"disp(e,'Induced emf in volt=')\n",
"R=.5//in ohm\n",
"I=e/R\n",
"disp('Solution b')\n",
"disp(I,'Current in A=')\n",
"delta_v=.25\n",
"P=I*delta_v\n",
"disp('Solution c')\n",
"disp(P,'Power in watt=')\n",
"t=1//in s\n",
"w=P*t\n",
"disp(w,'Energy delivered in J=')\n",
"// Answer give for J in textbook is wrong\n",
"d=v*t\n",
"F=w/d\n",
"disp('Solution d')\n",
"disp(F,'Force in N=')"
   ]
   }
,
{
		   "cell_type": "markdown",
		   "metadata": {},
		   "source": [
			"## Example 20.5: Current_and_emf.sce"
		   ]
		  },
  {
"cell_type": "code",
	   "execution_count": null,
	   "metadata": {
	    "collapsed": true
	   },
	   "outputs": [],
"source": [
"//Example 20.5\n",
"clc;\n",
"f=60//in Hz\n",
"w=2*%pi*f\n",
"N=8\n",
"A=.09//in m^2\n",
"B=.5//in T\n",
"emf=N*A*B*w\n",
"disp('Solution a')\n",
"disp(emf,'Induced emf in volt=')\n",
"R=12//in ohm\n",
"I=emf/R\n",
"disp('Solution b')\n",
"disp(I,'Current in A=')\n",
"disp('Solution c')\n",
"disp('Emf in Volt 136*sinwt=')"
   ]
   }
,
{
		   "cell_type": "markdown",
		   "metadata": {},
		   "source": [
			"## Example 20.6: Induced_current_in_a_motor.sce"
		   ]
		  },
  {
"cell_type": "code",
	   "execution_count": null,
	   "metadata": {
	    "collapsed": true
	   },
	   "outputs": [],
"source": [
"//Example 20.6\n",
"clc\n",
"emf=120//in Volt\n",
"R=10//in Ohm\n",
"e_back=70\n",
"I=emf/R\n",
"disp('Solution a')\n",
"disp(I,'Maximum Current  in A=')\n",
"disp('Solution b')\n",
"I=(emf-e_back)/R;\n",
"disp(I,'Current  in A=')"
   ]
   }
,
{
		   "cell_type": "markdown",
		   "metadata": {},
		   "source": [
			"## Example 20.8: Inductance_and_emf.sce"
		   ]
		  },
  {
"cell_type": "code",
	   "execution_count": null,
	   "metadata": {
	    "collapsed": true
	   },
	   "outputs": [],
"source": [
"//Ex20.8\n",
"clc;\n",
"uo=4*%pi*10^-7//in m/A\n",
"N=300\n",
"A=4*10^-4//in m^2\n",
"l=25*10^-2\n",
"L=(uo*N*N*A)/l\n",
"disp('Solution a')\n",
"disp(L,'Inductance in H=')\n",
"delta_I=-5\n",
"delta_t=1\n",
"e=(-L*delta_I)/(delta_t)\n",
"disp('Solution b')\n",
"disp(e,'Emf in Volt=')"
   ]
   }
,
{
		   "cell_type": "markdown",
		   "metadata": {},
		   "source": [
			"## Example 20.9: Time_constant_and_current.sce"
		   ]
		  },
  {
"cell_type": "code",
	   "execution_count": null,
	   "metadata": {
	    "collapsed": true
	   },
	   "outputs": [],
"source": [
"//Ex20.9\n",
"clc;\n",
"L=30*10^-3//in Henry\n",
"R=6//in Ohm\n",
"tou=L/R\n",
"disp('Solution a')\n",
"disp(tou,'Time constant ij s=')\n",
"e=12\n",
"I=(0.632*e)/R\n",
"disp('Solution b')\n",
"disp(I,'Current in Amps=')"
   ]
   }
],
"metadata": {
		  "kernelspec": {
		   "display_name": "Scilab",
		   "language": "scilab",
		   "name": "scilab"
		  },
		  "language_info": {
		   "file_extension": ".sce",
		   "help_links": [
			{
			 "text": "MetaKernel Magics",
			 "url": "https://github.com/calysto/metakernel/blob/master/metakernel/magics/README.md"
			}
		   ],
		   "mimetype": "text/x-octave",
		   "name": "scilab",
		   "version": "0.7.1"
		  }
		 },
		 "nbformat": 4,
		 "nbformat_minor": 0
}
