{
"cells": [
 {
		   "cell_type": "markdown",
	   "metadata": {},
	   "source": [
       "# Chapter 25: Optical Instruments"
	   ]
	},
{
		   "cell_type": "markdown",
		   "metadata": {},
		   "source": [
			"## Example 25.1: focal_length.sce"
		   ]
		  },
  {
"cell_type": "code",
	   "execution_count": null,
	   "metadata": {
	    "collapsed": true
	   },
	   "outputs": [],
"source": [
"//Chapter 25\n",
"clc\n",
"//Example 1\n",
"//given\n",
"q=-50 // Near point of an eye in cm\n",
"p=25 //object location in cm\n",
"//a) focal length calculation\n",
"//Using Thin Lens equation 1/f=((1/p)+(1/q))\n",
"f=p*q/(p+q)\n",
"disp(f,'a) focal length f in cm is')\n",
"//b) power of the lens\n",
"f1=50*10^-2// focal length in meters\n",
"P=1/f1\n",
"disp(P,'Power of the lens in diopters is')"
   ]
   }
,
{
		   "cell_type": "markdown",
		   "metadata": {},
		   "source": [
			"## Example 25.3: Angular_Magnification_of_lens.sce"
		   ]
		  },
  {
"cell_type": "code",
	   "execution_count": null,
	   "metadata": {
	    "collapsed": true
	   },
	   "outputs": [],
"source": [
"//Chapter 25\n",
"clc\n",
"//Example 3\n",
"//given\n",
"f=10 // focal length in cm\n",
"//a)Maximum angular magnification\n",
"M_max=1+(25/f)\n",
"disp(M_max,'a) Maximum angular magnification of the lens is')\n",
"m=25/f\n",
"disp(m,'Angular Magnification of lens when eye is relaxed is')"
   ]
   }
,
{
		   "cell_type": "markdown",
		   "metadata": {},
		   "source": [
			"## Example 25.4: Magnification.sce"
		   ]
		  },
  {
"cell_type": "code",
	   "execution_count": null,
	   "metadata": {
	    "collapsed": true
	   },
	   "outputs": [],
"source": [
"//Chapter 25\n",
"clc\n",
"//Example 4\n",
"//given\n",
"//interchangeable objectives\n",
"f1=2 // focal length in cm\n",
"f2=0.2 //focal length in cm\n",
"//data of two eye pieces\n",
"f3=5 //focal length in cm\n",
"f4=2.5 //focal length in cm\n",
"L=18 // length of microscope\n",
"//Calculation of magnification for four combinations of lens\n",
"//magnification of compound microscope  m =-(L/fo)*(25cm/fe) where fo is shortest  focal length compared to fe\n",
"//combination of two long focal lengths\n",
"m1=-(L/f1)*(25/f3)\n",
"disp(m1,'Magnification of microscope with two long focal lengths')\n",
"//combination of 20 mm objective  and 2.5 cm eyepiece\n",
"m2=-(L/f1)*(25/f4)\n",
"disp(m2,'Magnification of microscope with a combination of 20 mm objective  and 2.5 cm eyepiece is ')\n",
"//combination of 2 mm objective  and 5 cm eyepiece\n",
"m3=-(L/f2)*(25/f3)\n",
"disp(m3,'Magnification of microscope with a combination of 20 mm objective  and 2.5 cm eyepiece is ')\n",
"//combination of two short focal lengths\n",
"m4=-(L/f2)*(25/f4)\n",
"disp(m4,'Possible magnification of microscope with two short focal lengths')"
   ]
   }
,
{
		   "cell_type": "markdown",
		   "metadata": {},
		   "source": [
			"## Example 25.5: Angular_Magnification_of_telescope.sce"
		   ]
		  },
  {
"cell_type": "code",
	   "execution_count": null,
	   "metadata": {
	    "collapsed": true
	   },
	   "outputs": [],
"source": [
"//Chapter 25\n",
"clc\n",
"//Example 5\n",
"//given\n",
"d=8 //diameter of objective mirror of reflecting telescope in inches\n",
"fo=1500 //focal length of objective mirror of reflecting telescope in mm\n",
"fe=18 //focal length of eyepiece\n",
"m=fo/fe\n",
"disp(m,'Angular magnification of the telescope is')"
   ]
   }
,
{
		   "cell_type": "markdown",
		   "metadata": {},
		   "source": [
			"## Example 25.6: Limiting_angle_of_Resolution.sce"
		   ]
		  },
  {
"cell_type": "code",
	   "execution_count": null,
	   "metadata": {
	    "collapsed": true
	   },
	   "outputs": [],
"source": [
"//Chapter 25\n",
"clc\n",
"//Example 6\n",
"//given\n",
"l=589*10^-9 //Wavelength of sodium light m\n",
"d=90*10^-2 //diameter of the aperture in m \n",
"L=400*10^-9 //Wavelength of desirable Visble light\n",
"n=1.33 //refractive index of water\n",
"//a) Calculation of limiting angle of resolution\n",
"//Limiting angle of resolution of the circular aperture is Theta_min=1.22*(l/d)\n",
"Theta_min1=1.22*(l/d)\n",
"disp(Theta_min1,'a) Limiting angle of resolution in radians is')\n",
"//b) Calculation of maximum limit of resolution for the microscope\n",
"Theta_min2=1.22*(L/d)\n",
"disp(Theta_min2,' b) Maximum limit of resolution for the microscope in radians')\n",
"//c)Effect of water b/w the object and objective on resolving power of microscope\n",
"lw=l/n\n",
"Theta_min3=1.22*(lw/d)\n",
"disp(Theta_min3,'c) Limiting angle of resolution for the microscope when water filled the space b/w the object and objective in radians is')"
   ]
   }
,
{
		   "cell_type": "markdown",
		   "metadata": {},
		   "source": [
			"## Example 25.8: Resolving_Power.sce"
		   ]
		  },
  {
"cell_type": "code",
	   "execution_count": null,
	   "metadata": {
	    "collapsed": true
	   },
	   "outputs": [],
"source": [
"//Chapter 25\n",
"clc\n",
"//Example 8\n",
"//given\n",
"f1=1000// focal length of objective of telescope A in mm\n",
"f2=1250// focal length of objective of telescope B in mm\n",
"f3=6// focal length of eyepiece of telescope A in mm\n",
"f4=25// focal length of eyepiece of telescope Bin mm\n",
"//C) Calculation of magnification of the telescope\n",
"m_A=f1/f3\n",
"m_B=f2/f4\n",
"disp(m_A,'Magnification of telescope A is')\n",
"disp(m_B,'Magnification of telescope B is')"
   ]
   }
,
{
		   "cell_type": "markdown",
		   "metadata": {},
		   "source": [
			"## Example 25.9: Resolving_Power_of_grating.sce"
		   ]
		  },
  {
"cell_type": "code",
	   "execution_count": null,
	   "metadata": {
	    "collapsed": true
	   },
	   "outputs": [],
"source": [
"//Chapter 25\n",
"clc\n",
"//Example 8\n",
"//given\n",
"L1=589 // wavelength of first bright line in sodium spectrum in nm\n",
"L2=589.59 // wavelength of second bright line in sodium spectrum in nm\n",
"m=2 // order of the spectrum\n",
"delta_L=L2-L1\n",
"R=L1/delta_L\n",
"disp(R,'a) Resolving poer of grating inorder to distinguish the wavelengths is')\n",
"N=R/m\n",
"printf('No.of lines of the grating illuminated to resolve the lines in the second order spectrum are %d',N)"
   ]
   }
],
"metadata": {
		  "kernelspec": {
		   "display_name": "Scilab",
		   "language": "scilab",
		   "name": "scilab"
		  },
		  "language_info": {
		   "file_extension": ".sce",
		   "help_links": [
			{
			 "text": "MetaKernel Magics",
			 "url": "https://github.com/calysto/metakernel/blob/master/metakernel/magics/README.md"
			}
		   ],
		   "mimetype": "text/x-octave",
		   "name": "scilab",
		   "version": "0.7.1"
		  }
		 },
		 "nbformat": 4,
		 "nbformat_minor": 0
}
