{
"cells": [
 {
		   "cell_type": "markdown",
	   "metadata": {},
	   "source": [
       "# Chapter 15: Electric Forces and Electric Fields"
	   ]
	},
{
		   "cell_type": "markdown",
		   "metadata": {},
		   "source": [
			"## Example 15.1: Electric_Force_and_Gravitational_force.sce"
		   ]
		  },
  {
"cell_type": "code",
	   "execution_count": null,
	   "metadata": {
	    "collapsed": true
	   },
	   "outputs": [],
"source": [
"//Example 15.1\n",
"k_e=8.99*10^9\n",
"e=1.6*10^-19\n",
"r=5.3*10^-11\n",
"F_e= (k_e*e*e)/(r*r)\n",
"disp(F_e,'The attractive force in N= ')\n",
"G=6.67*10^-11\n",
"m_e=9.11*10^-31\n",
"m_p=1.67*10^-27\n",
"F_g=(G*m_e*m_p)/(r*r)\n",
"disp(F_g,'The gravitational force in N= ')"
   ]
   }
,
{
		   "cell_type": "markdown",
		   "metadata": {},
		   "source": [
			"## Example 15.2: Superposition_Principle.sce"
		   ]
		  },
  {
"cell_type": "code",
	   "execution_count": null,
	   "metadata": {
	    "collapsed": true
	   },
	   "outputs": [],
"source": [
"//Example 15.2\n",
"clc\n",
"k_e=8.99*10^9 //N.m^2/c^2\n",
"q2=2*10^-9// in c\n",
"q3=5*10^-9// in c\n",
"r1=4//in m\n",
"F_23=(q2*q3*k_e)/(r1*r1)\n",
"disp(F_23,'The force in N= ')\n",
"q1=6*10^-9\n",
"r2=5//in m\n",
"F_13=(q1*q3*k_e)/(r2*r2)\n",
"disp(F_13,'The force in N= ')"
   ]
   }
,
{
		   "cell_type": "markdown",
		   "metadata": {},
		   "source": [
			"## Example 15.4: Electric_force.sce"
		   ]
		  },
  {
"cell_type": "code",
	   "execution_count": null,
	   "metadata": {
	    "collapsed": true
	   },
	   "outputs": [],
"source": [
"//Example 15.4\n",
"q=1.6*10^-19//in c\n",
"E=2*10^4// in N/C\n",
"F=q*E\n",
"disp(F,'The magnitude of force in N= ')"
   ]
   }
,
{
		   "cell_type": "markdown",
		   "metadata": {},
		   "source": [
			"## Example 15.5: Fileld.sce"
		   ]
		  },
  {
"cell_type": "code",
	   "execution_count": null,
	   "metadata": {
	    "collapsed": true
	   },
	   "outputs": [],
"source": [
"//Example 15.5\n",
"clc\n",
"k_e=8.99*10^9 //N.m^2/c^2\n",
"q1=7*10^-6// in C\n",
"q2=5*10^-6//in C\n",
"r1=0.4\n",
"r2=0.5\n",
"E1=(k_e*q1)/(r1^2)\n",
"E2=(k_e*q2)/(r2^2)\n",
"Ex=(k_e*q2)/(r2^2)\n",
"disp(E1,'Magnitude of E1 in N/C')\n",
"disp(E2,'Magnitude of E2 in N/C')\n",
"disp(Ex,'Magnitude in x direction in N/C')\n",
"Ey=(3.93*10^5)+(-1.44*10^5)\n",
"disp(Ey,'Magnitude in y direction in N/C')\n",
"phi=atand(Ey/Ex)\n",
"disp(phi,'Angle in degree=')\n",
"//Answer given in book is wrong"
   ]
   }
],
"metadata": {
		  "kernelspec": {
		   "display_name": "Scilab",
		   "language": "scilab",
		   "name": "scilab"
		  },
		  "language_info": {
		   "file_extension": ".sce",
		   "help_links": [
			{
			 "text": "MetaKernel Magics",
			 "url": "https://github.com/calysto/metakernel/blob/master/metakernel/magics/README.md"
			}
		   ],
		   "mimetype": "text/x-octave",
		   "name": "scilab",
		   "version": "0.7.1"
		  }
		 },
		 "nbformat": 4,
		 "nbformat_minor": 0
}
