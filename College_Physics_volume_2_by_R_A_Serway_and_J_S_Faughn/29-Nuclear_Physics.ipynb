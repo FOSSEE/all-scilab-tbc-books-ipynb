{
"cells": [
 {
		   "cell_type": "markdown",
	   "metadata": {},
	   "source": [
       "# Chapter 29: Nuclear Physics"
	   ]
	},
{
		   "cell_type": "markdown",
		   "metadata": {},
		   "source": [
			"## Example 29.1: Nuclear_Density.sce"
		   ]
		  },
  {
"cell_type": "code",
	   "execution_count": null,
	   "metadata": {
	    "collapsed": true
	   },
	   "outputs": [],
"source": [
"mode(2);//Chapter 29\n",
"clc\n",
"//Example 1\n",
"//given\n",
"m=1.67*10^-27 //mass of nucleus in kg\n",
"ro=1.2*10^-15 //in meter\n",
"p=(3*m)/(4*%pi*(ro)^3)\n",
"disp(p,'Nuclear density in kg/m3 is')"
   ]
   }
,
{
		   "cell_type": "markdown",
		   "metadata": {},
		   "source": [
			"## Example 29.2: Binding_Energy.sce"
		   ]
		  },
  {
"cell_type": "code",
	   "execution_count": null,
	   "metadata": {
	    "collapsed": true
	   },
	   "outputs": [],
"source": [
"//Chapter 29\n",
"clc\n",
"//Example 2\n",
"//given\n",
"mp=1.007825 //in u\n",
"mn=1.008665 //in u\n",
"md=2.014102 //in u\n",
"u=931.494 //Mev\n",
"M=mp+mn\n",
"delta_m=(M-md) //in u\n",
"E=delta_m*u\n",
"disp(E,'Binding energy of Deuteron in Mev is')"
   ]
   }
,
{
		   "cell_type": "markdown",
		   "metadata": {},
		   "source": [
			"## Example 29.3: Decay_rate.sce"
		   ]
		  },
  {
"cell_type": "code",
	   "execution_count": null,
	   "metadata": {
	    "collapsed": true
	   },
	   "outputs": [],
"source": [
"//Chapter 29\n",
"clc\n",
"//Example 3\n",
"//given\n",
"No=3*10^16 //no.of radioactive nuclei present at t=0\n",
"t_half=1.6*10^3 //years\n",
"T_half=t_half*3.16*10^7 //in sec\n",
"d=0.693/T_half\n",
"R_o=d*No // decays/s\n",
"Ci=3.7*10^10\n",
"Ro=R_o/Ci\n",
"disp(Ro,'Activity or decay rate at t=0 in Ci is')"
   ]
   }
,
{
		   "cell_type": "markdown",
		   "metadata": {},
		   "source": [
			"## Example 29.4: activity_of_rado.sce"
		   ]
		  },
  {
"cell_type": "code",
	   "execution_count": null,
	   "metadata": {
	    "collapsed": true
	   },
	   "outputs": [],
"source": [
"//Chapter 29\n",
"clc\n",
"//Example 4\n",
"//given\n",
"T_half=3.83 //half life time of Radon in days\n",
"No=4*10^8 //Initial No .of Radon atoms \n",
"lambda=0.693/T_half // in days\n",
"t=12 \n",
"N=No*exp(-(lambda*t))\n",
"disp(N,'a) No.of atoms remaining after 12 days is')\n",
"lambda_=lambda/(8.64*10^4)\n",
"R=lambda_*No\n",
"disp(R,'Initial activity of the radon sample in decay/sec is')\n",
"\n",
""
   ]
   }
,
{
		   "cell_type": "markdown",
		   "metadata": {},
		   "source": [
			"## Example 29.5: Energy_liberated.sce"
		   ]
		  },
  {
"cell_type": "code",
	   "execution_count": null,
	   "metadata": {
	    "collapsed": true
	   },
	   "outputs": [],
"source": [
"//Chapter 29\n",
"clc\n",
"//Example 5\n",
"//given\n",
"m_d=222.017571 //mass of daughter nuclei in atomic units\n",
"m_alpha=4.002602 //mass of alpha particle in atomic units\n",
"M_p=226.025402 //mass of parent nuclei in atomic units\n",
"m=m_d+m_alpha\n",
"delta_m=(M_p-m)\n",
"E=delta_m*931.494\n",
"disp(E,'Energy liberated in Mev is')\n",
"\n",
""
   ]
   }
,
{
		   "cell_type": "markdown",
		   "metadata": {},
		   "source": [
			"## Example 29.6: energy_released_in_beta_decay.sce"
		   ]
		  },
  {
"cell_type": "code",
	   "execution_count": null,
	   "metadata": {
	    "collapsed": true
	   },
	   "outputs": [],
"source": [
"//Chapter 29\n",
"clc\n",
"//Example 6\n",
"//given\n",
"M_C=14.003242 //mass of carbon in atomic mass units\n",
"M_N=14.003074 //mass of nitogen in atomic mass units\n",
"delta_M=M_C-M_N\n",
"E=delta_M*(931.494)\n",
"disp(E,'Energy released in beta decay in Mev is')\n",
"\n",
""
   ]
   }
,
{
		   "cell_type": "markdown",
		   "metadata": {},
		   "source": [
			"## Example 29.7: age_of_teh_skeleto.sce"
		   ]
		  },
  {
"cell_type": "code",
	   "execution_count": null,
	   "metadata": {
	    "collapsed": true
	   },
	   "outputs": [],
"source": [
"//Chapter 29\n",
"clc\n",
"//Example 7\n",
"//given\n",
"T_half=3.01*10^9 //half life time in min\n",
"lambda=0.693/T_half\n",
"R=200 // in decay/min\n",
"R0_=15 //decay rate in decay/min.g\n",
"m=50 //weight of carbon\n",
"R0=R0_*m //in decay/min\n",
"t1=-(log(R/R0)/lambda) //im min\n",
"t=t1/525949\n",
"disp(t,'Age of the skeleton in years is')\n",
"\n",
"\n",
""
   ]
   }
],
"metadata": {
		  "kernelspec": {
		   "display_name": "Scilab",
		   "language": "scilab",
		   "name": "scilab"
		  },
		  "language_info": {
		   "file_extension": ".sce",
		   "help_links": [
			{
			 "text": "MetaKernel Magics",
			 "url": "https://github.com/calysto/metakernel/blob/master/metakernel/magics/README.md"
			}
		   ],
		   "mimetype": "text/x-octave",
		   "name": "scilab",
		   "version": "0.7.1"
		  }
		 },
		 "nbformat": 4,
		 "nbformat_minor": 0
}
