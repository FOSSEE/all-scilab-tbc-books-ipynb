{
"cells": [
 {
		   "cell_type": "markdown",
	   "metadata": {},
	   "source": [
       "# Chapter 19: Magnetism"
	   ]
	},
{
		   "cell_type": "markdown",
		   "metadata": {},
		   "source": [
			"## Example 19.1: Magnetic_fueld.sce"
		   ]
		  },
  {
"cell_type": "code",
	   "execution_count": null,
	   "metadata": {
	    "collapsed": true
	   },
	   "outputs": [],
"source": [
"//Example 19.1\n",
"clc\n",
"q=1.6*10^-19//in columb\n",
"v=1*10^5//in m/s\n",
"B=55*10^-6//in T\n",
"F=q*v*B* 0.8660\n",
"disp(F,'The force in Newton=')"
   ]
   }
,
{
		   "cell_type": "markdown",
		   "metadata": {},
		   "source": [
			"## Example 19.2: Magnetic_field.sce"
		   ]
		  },
  {
"cell_type": "code",
	   "execution_count": null,
	   "metadata": {
	    "collapsed": true
	   },
	   "outputs": [],
"source": [
"//Example 19.2\n",
"q=1.6*10^-19//in columb\n",
"v=8*10^6//in m/s\n",
"B=2.5//in T\n",
"F=q*v*B* 0.8660\n",
"disp(F,'The force in Newton=')\n",
"m=1.67*10^-27\n",
"a=F/m\n",
"disp(a,'Acceleration in m/s^2=')"
   ]
   }
,
{
		   "cell_type": "markdown",
		   "metadata": {},
		   "source": [
			"## Example 19.3: Current_in_magnetic_field.sce"
		   ]
		  },
  {
"cell_type": "code",
	   "execution_count": null,
	   "metadata": {
	    "collapsed": true
	   },
	   "outputs": [],
"source": [
"//Example 19.3\n",
"clc\n",
"l=36//in m\n",
"I=22//in A\n",
"B=0.50*10^-4//in T\n",
"F=B*I*l\n",
"disp(F,'The maximaum force in Newton=')"
   ]
   }
,
{
		   "cell_type": "markdown",
		   "metadata": {},
		   "source": [
			"## Example 19.4: Torque.sce"
		   ]
		  },
  {
"cell_type": "code",
	   "execution_count": null,
	   "metadata": {
	    "collapsed": true
	   },
	   "outputs": [],
"source": [
"//Example 19.4\n",
"clc\n",
"A=%pi*(0.5)*0.5//in m\n",
"I=2//in A\n",
"B=0.50//in T\n",
"T=B*I*A*0.5\n",
"disp(T,'The Torque in N-m=')"
   ]
   }
,
{
		   "cell_type": "markdown",
		   "metadata": {},
		   "source": [
			"## Example 19.5: Uniform_magnetic_field.sce"
		   ]
		  },
  {
"cell_type": "code",
	   "execution_count": null,
	   "metadata": {
	    "collapsed": true
	   },
	   "outputs": [],
"source": [
"//Example 19.5\n",
"clc\n",
"q=1.6*10^-19\n",
"B=.35\n",
"r=14*10^-2//in m\n",
"m=1.67*10^-27//kg\n",
"v=(q*B*r)/m\n",
"disp(v,'Velocity in m/s=')"
   ]
   }
,
{
		   "cell_type": "markdown",
		   "metadata": {},
		   "source": [
			"## Example 19.6: Mass_spectometer.sce"
		   ]
		  },
  {
"cell_type": "code",
	   "execution_count": null,
	   "metadata": {
	    "collapsed": true
	   },
	   "outputs": [],
"source": [
"//Example 19.6\n",
"clc\n",
"q=1.6*10^-19\n",
"B=.10//in T\n",
"v=1*10^6//in m/s\n",
"r=14*10^-2//in m\n",
"m1=1.67*10^-27//in kg\n",
"m2=3.34*10^-27//in kg\n",
"r1=(m1*v)/(q*B)\n",
"r2=(m2*v)/(q*B)\n",
"x=(2*r2)-(2*r1)\n",
"disp(r1,'Radius of lighter istope in m=')\n",
"disp(r2,'Radius of heavier istope in m=')\n",
"disp(x,'Distance of seperation in m=')"
   ]
   }
,
{
		   "cell_type": "markdown",
		   "metadata": {},
		   "source": [
			"## Example 19.7: Magnetic_field_of_long_wire.sce"
		   ]
		  },
  {
"cell_type": "code",
	   "execution_count": null,
	   "metadata": {
	    "collapsed": true
	   },
	   "outputs": [],
"source": [
"//Example 19.7\n",
"clc\n",
"Uo=(4*%pi*10^-7)\n",
"I=5//in A\n",
"r=4*10^-3\n",
"B=(Uo*I)/(2*%pi*r)\n",
"disp(B,'Magnetic field in T=')\n",
"q=1.6*10^-19\n",
"v=1.5*10^3//in m/s\n",
"F=q*v*B\n",
"disp(F,'Force in Newton=')"
   ]
   }
,
{
		   "cell_type": "markdown",
		   "metadata": {},
		   "source": [
			"## Example 19.8: Levitating_wire.sce"
		   ]
		  },
  {
"cell_type": "code",
	   "execution_count": null,
	   "metadata": {
	    "collapsed": true
	   },
	   "outputs": [],
"source": [
"//Example 19.8\n",
"clc\n",
"mo=4*%pi*10^-7//Tm/A\n",
"d=0.1//in m\n",
"x=1*10^-4//F/l\n",
"I=sqrt((x*2*%pi*d)/mo)\n",
"disp(I,'Current in A=')"
   ]
   }
,
{
		   "cell_type": "markdown",
		   "metadata": {},
		   "source": [
			"## Example 19.9: Magnetic_field.sce"
		   ]
		  },
  {
"cell_type": "code",
	   "execution_count": null,
	   "metadata": {
	    "collapsed": true
	   },
	   "outputs": [],
"source": [
"//Example 19.9\n",
"clc\n",
"N=100//turns\n",
"l=.1//in m\n",
"n=N/l//in turns/m\n",
"mo=4*%pi*10^-7//Tm/A\n",
"I=.5//in A\n",
"B=n*I*mo\n",
"q=1.6*10^-19//in c\n",
"v=375//in m/s\n",
"F=q*v*(B/2)\n",
"disp(B,'Magnetic field in T=')\n",
"disp(F,'Force in N=')"
   ]
   }
],
"metadata": {
		  "kernelspec": {
		   "display_name": "Scilab",
		   "language": "scilab",
		   "name": "scilab"
		  },
		  "language_info": {
		   "file_extension": ".sce",
		   "help_links": [
			{
			 "text": "MetaKernel Magics",
			 "url": "https://github.com/calysto/metakernel/blob/master/metakernel/magics/README.md"
			}
		   ],
		   "mimetype": "text/x-octave",
		   "name": "scilab",
		   "version": "0.7.1"
		  }
		 },
		 "nbformat": 4,
		 "nbformat_minor": 0
}
