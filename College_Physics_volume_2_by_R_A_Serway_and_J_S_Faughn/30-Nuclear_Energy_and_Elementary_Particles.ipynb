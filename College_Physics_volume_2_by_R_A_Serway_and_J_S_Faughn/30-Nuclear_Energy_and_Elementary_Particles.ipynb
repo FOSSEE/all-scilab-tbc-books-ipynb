{
"cells": [
 {
		   "cell_type": "markdown",
	   "metadata": {},
	   "source": [
       "# Chapter 30: Nuclear Energy and Elementary Particles"
	   ]
	},
{
		   "cell_type": "markdown",
		   "metadata": {},
		   "source": [
			"## Example 30.2: total_energy_released.sce"
		   ]
		  },
  {
"cell_type": "code",
	   "execution_count": null,
	   "metadata": {
	    "collapsed": true
	   },
	   "outputs": [],
"source": [
"//Chapter 30\n",
"clc\n",
"//Example 2\n",
"//given\n",
"Q=208 //disintegration energy per event in Mev\n",
"m=1*10^3 //mass of uranium\n",
"A=235 //mass number or uranium in g/mol\n",
"a=6.02*10^23 //avagadro number nuclei/mol\n",
"N=(a/A)*m //nuclei\n",
"E=N*Q\n",
"P=E*4.45*10^-20\n",
"disp(E,'Disintegration energy in Mev is')\n",
"disp(P,'or in KWh')"
   ]
   }
,
{
		   "cell_type": "markdown",
		   "metadata": {},
		   "source": [
			"## Example 30.3: deuterium_deuterium_reactio.sce"
		   ]
		  },
  {
"cell_type": "code",
	   "execution_count": null,
	   "metadata": {
	    "collapsed": true
	   },
	   "outputs": [],
"source": [
"errcatch(-1,'stop');mode(2);//Chapter 30\n",
"clc\n",
"//Example 3\n",
"//given\n",
"m1=2.014102 // mass of deuterium in atomic mass unit\n",
"m2=3.016049 //mass of tritium in atomic mass unit\n",
"m3=1.007825 // mass of hydrogen in atomic mass unit\n",
"//referring to the deuterium-deuterium reaction\n",
"//mass before reaction\n",
"M1=2*m1\n",
"//mass after reaction\n",
"M2=m2+m3\n",
"//excessive mass\n",
"m=M1-M2\n",
"//converting mass into energy\n",
"//1 u = 931.494 Mev\n",
"E=m*931.494\n",
"disp(E,' Energy release in deuterium-deuterium reaction in Mev is')\n",
"exit();"
   ]
   }
],
"metadata": {
		  "kernelspec": {
		   "display_name": "Scilab",
		   "language": "scilab",
		   "name": "scilab"
		  },
		  "language_info": {
		   "file_extension": ".sce",
		   "help_links": [
			{
			 "text": "MetaKernel Magics",
			 "url": "https://github.com/calysto/metakernel/blob/master/metakernel/magics/README.md"
			}
		   ],
		   "mimetype": "text/x-octave",
		   "name": "scilab",
		   "version": "0.7.1"
		  }
		 },
		 "nbformat": 4,
		 "nbformat_minor": 0
}
