{
"cells": [
 {
		   "cell_type": "markdown",
	   "metadata": {},
	   "source": [
       "# Chapter 28: Atomic Physics"
	   ]
	},
{
		   "cell_type": "markdown",
		   "metadata": {},
		   "source": [
			"## Example 28.1: wavelength_and_frequency.sce"
		   ]
		  },
  {
"cell_type": "code",
	   "execution_count": null,
	   "metadata": {
	    "collapsed": true
	   },
	   "outputs": [],
"source": [
"//Chapter 28\n",
"clc\n",
"//Example 1\n",
"//given\n",
"RH=1.097*10^7 //Rydberg constant in per meter\n",
"lambda=4/(3*RH)\n",
"c=3*10^8 // m/sec\n",
"f=c/lambda\n",
"disp(lambda,'Wavelength of the emitted photon in meters')\n",
"disp(f,'frequency of the emitted photon in meters')\n",
"\n",
""
   ]
   }
,
{
		   "cell_type": "markdown",
		   "metadata": {},
		   "source": [
			"## Example 28.2: wavelength_and_energy_emitted_by_the_photon.sce"
		   ]
		  },
  {
"cell_type": "code",
	   "execution_count": null,
	   "metadata": {
	    "collapsed": true
	   },
	   "outputs": [],
"source": [
"//Chapter 28\n",
"clc\n",
"//Example 2\n",
"//given\n",
"RH=1.097*10^7 //Rydberg constant in per meter\n",
"h=6.626*10^-34 //plancks constant in j.s\n",
"c=3*10^8 // velocity of light in m/s\n",
"nf=2 //quantum number\n",
"ni=3// quantum number\n",
"//assuming k=1/lambda\n",
"k=RH*((1/nf^2-1/ni^2))\n",
"lambda=1/k\n",
"disp(lambda, 'longest wavelength that photon emmited in meters is')\n",
"E_photon=h*c/lambda\n",
"disp(E_photon,'Energy emmited by the photon in Joules is')\n",
"\n",
""
   ]
   }
,
{
		   "cell_type": "markdown",
		   "metadata": {},
		   "source": [
			"## Example 28.3: energy_and_radiation.sce"
		   ]
		  },
  {
"cell_type": "code",
	   "execution_count": null,
	   "metadata": {
	    "collapsed": true
	   },
	   "outputs": [],
"source": [
"//Chapter 28\n",
"clc\n",
"//Example 3\n",
"//given\n",
"Z=2 //atomic number of helium\n",
"n=1 //principal quantum number\n",
"E=-Z^2*13.6/n^2\n",
"disp(E,'a) Energy of the atom in ground state in eV is')\n",
"r=(n^2/Z)*0.0529//in nm\n",
"disp(r,'b) Radius of the ground state orbit in nm is')"
   ]
   }
,
{
		   "cell_type": "markdown",
		   "metadata": {},
		   "source": [
			"## Example 28.4: energy_of_the_states.sce"
		   ]
		  },
  {
"cell_type": "code",
	   "execution_count": null,
	   "metadata": {
	    "collapsed": true
	   },
	   "outputs": [],
"source": [
"//Chapter 28\n",
"clc\n",
"//Example 4\n",
"//given\n",
"n=2// principal quantum number \n",
"E=-13.6/n^2\n",
"disp(E,'Energy of the states with quantum number 2 in ev is')"
   ]
   }
,
{
		   "cell_type": "markdown",
		   "metadata": {},
		   "source": [
			"## Example 28.6: Energy_of_the_characteristic_X_ray.sce"
		   ]
		  },
  {
"cell_type": "code",
	   "execution_count": null,
	   "metadata": {
	    "collapsed": true
	   },
	   "outputs": [],
"source": [
"//Chapter 28\n",
"clc\n",
"//Example 6\n",
"//given\n",
"Z=74 //atomic number of tungsten\n",
"Eo=13.6 //ground state enenrgy in ev\n",
"E_K=-(Z-1)^2*(13.6) //Energy of the electron in K shell\n",
"n=3\n",
"Z_eff=Z-n^2\n",
"E3=Eo/n^2\n",
"E_M=-Z_eff^2*E3\n",
"E=E_M-E_K\n",
"disp(E,'Energy of the characteristic emiited from tungsten target when electron drops from M shell to K shell in ev is')\n",
"//Difference in answer is because of roundoff"
   ]
   }
],
"metadata": {
		  "kernelspec": {
		   "display_name": "Scilab",
		   "language": "scilab",
		   "name": "scilab"
		  },
		  "language_info": {
		   "file_extension": ".sce",
		   "help_links": [
			{
			 "text": "MetaKernel Magics",
			 "url": "https://github.com/calysto/metakernel/blob/master/metakernel/magics/README.md"
			}
		   ],
		   "mimetype": "text/x-octave",
		   "name": "scilab",
		   "version": "0.7.1"
		  }
		 },
		 "nbformat": 4,
		 "nbformat_minor": 0
}
