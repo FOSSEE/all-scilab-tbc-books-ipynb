{
"cells": [
 {
		   "cell_type": "markdown",
	   "metadata": {},
	   "source": [
       "# Chapter 21: Alternating current circuits and electromagnetics"
	   ]
	},
{
		   "cell_type": "markdown",
		   "metadata": {},
		   "source": [
			"## Example 21.1: current_and_voltage.sce"
		   ]
		  },
  {
"cell_type": "code",
	   "execution_count": null,
	   "metadata": {
	    "collapsed": true
	   },
	   "outputs": [],
"source": [
"//Example 21.1\n",
"clc;\n",
"V_max=200//in V\n",
"V_rms=(V_max)/sqrt(2)\n",
"R=100//in ohm\n",
"I_rms=V_rms/R\n",
"disp(V_rms,'Voltage in V=')\n",
"disp(I_rms,'Current in Amps=')"
   ]
   }
,
{
		   "cell_type": "markdown",
		   "metadata": {},
		   "source": [
			"## Example 21.2: current.sce"
		   ]
		  },
  {
"cell_type": "code",
	   "execution_count": null,
	   "metadata": {
	    "collapsed": true
	   },
	   "outputs": [],
"source": [
"//Example 21.2\n",
"clc;\n",
"C=8*10^-6\n",
"X_c=1/(377*C)\n",
"disp(X_c,'Resistance in ohm=')\n",
"I_rms=150/X_c\n",
"disp(I_rms,'Current in Amps=')"
   ]
   }
,
{
		   "cell_type": "markdown",
		   "metadata": {},
		   "source": [
			"## Example 21.3: Resistance_and_current.sce"
		   ]
		  },
  {
"cell_type": "code",
	   "execution_count": null,
	   "metadata": {
	    "collapsed": true
	   },
	   "outputs": [],
"source": [
"//Example 21.3\n",
"clc;\n",
"L=25*10^-3//In H\n",
"w=377\n",
"X_L=w*L//In ohm\n",
"disp(X_L,'Resistance in ohm=')\n",
"I_rms=150/X_L//In A\n",
"disp(I_rms,'Current in Amps=')"
   ]
   }
,
{
		   "cell_type": "markdown",
		   "metadata": {},
		   "source": [
			"## Example 21.4: Inductance_capacitance_and_resistance.sce"
		   ]
		  },
  {
"cell_type": "code",
	   "execution_count": null,
	   "metadata": {
	    "collapsed": true
	   },
	   "outputs": [],
"source": [
"//Example 21.4\n",
"clc;\n",
"R=250//in ohm\n",
"Xc=758//in ohm\n",
"Xl=226//in Ohm\n",
"X=Xl-Xc\n",
"V_max=150//in Volt\n",
"Z=sqrt(R^2+X^2)\n",
"I=V_max/Z\n",
"q=atand(X/R)\n",
"disp(Z,'Impedence in ohm')\n",
"disp(I,'Current in Amps')\n",
"disp(q,'Angle in degree=')\n",
"V_R=I*R\n",
"V_C=I*Xc\n",
"V_L=I*Xl\n",
"disp(V_R,'Voltage at Resistance in Volt')\n",
"disp(V_L,'Voltage at Inductance in Volt')\n",
"disp(V_C,'Voltage at Capacitance in Volt')"
   ]
   }
,
{
		   "cell_type": "markdown",
		   "metadata": {},
		   "source": [
			"## Example 21.5: Power.sce"
		   ]
		  },
  {
"cell_type": "code",
	   "execution_count": null,
	   "metadata": {
	    "collapsed": true
	   },
	   "outputs": [],
"source": [
"//Example 21.5\n",
"clc;\n",
"V_max=150//in V\n",
"V_rms=(V_max)/sqrt(2)\n",
"I_max=.255//in ohm\n",
"I_rms=I_max/sqrt(2)\n",
"cos=.426\n",
"P=V_rms*I_rms*cos\n",
"disp(V_rms,'Voltage in V=')\n",
"disp(I_rms,'Current in Amps=')\n",
"disp(P,'Power in watt=')"
   ]
   }
,
{
		   "cell_type": "markdown",
		   "metadata": {},
		   "source": [
			"## Example 21.6: capacitance.sce"
		   ]
		  },
  {
"cell_type": "code",
	   "execution_count": null,
	   "metadata": {
	    "collapsed": true
	   },
	   "outputs": [],
"source": [
"//Example21.6\n",
"L=20*10^-3//in H\n",
"C=1/(25*10^6*L)\n",
"disp(C,'Capacitance in Farad=')"
   ]
   }
,
{
		   "cell_type": "markdown",
		   "metadata": {},
		   "source": [
			"## Example 21.7: Percentage_power_loss.sce"
		   ]
		  },
  {
"cell_type": "code",
	   "execution_count": null,
	   "metadata": {
	    "collapsed": true
	   },
	   "outputs": [],
"source": [
"//example 21.7\n",
"clc\n",
"I1=100\n",
"v1=4*10^3\n",
"v2=2.40*10^5\n",
"I2=(I1*v1)/v2\n",
"R=30//in ohm\n",
"p_lost=I2*I2*R\n",
"P_output=I1*v1\n",
"p_per=(p_lost*100/P_output)\n",
"disp('Solution a')\n",
"disp(p_per,'Percentage of power lost=')\n",
"P_lost=I1*I1*R\n",
"per=(P_lost*100)/(4*10^5)\n",
"disp('Solution B')\n",
"disp(per,'Percentage of power lost=')"
   ]
   }
,
{
		   "cell_type": "markdown",
		   "metadata": {},
		   "source": [
			"## Example 21.8: Power.sce"
		   ]
		  },
  {
"cell_type": "code",
	   "execution_count": null,
	   "metadata": {
	    "collapsed": true
	   },
	   "outputs": [],
"source": [
"//Example 21.8\n",
"P=1000*8*20\n",
"disp(P,'Power  in watt')"
   ]
   }
],
"metadata": {
		  "kernelspec": {
		   "display_name": "Scilab",
		   "language": "scilab",
		   "name": "scilab"
		  },
		  "language_info": {
		   "file_extension": ".sce",
		   "help_links": [
			{
			 "text": "MetaKernel Magics",
			 "url": "https://github.com/calysto/metakernel/blob/master/metakernel/magics/README.md"
			}
		   ],
		   "mimetype": "text/x-octave",
		   "name": "scilab",
		   "version": "0.7.1"
		  }
		 },
		 "nbformat": 4,
		 "nbformat_minor": 0
}
