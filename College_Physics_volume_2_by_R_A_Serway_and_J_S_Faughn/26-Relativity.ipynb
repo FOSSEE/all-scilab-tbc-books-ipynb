{
"cells": [
 {
		   "cell_type": "markdown",
	   "metadata": {},
	   "source": [
       "# Chapter 26: Relativity"
	   ]
	},
{
		   "cell_type": "markdown",
		   "metadata": {},
		   "source": [
			"## Example 26.1: Time_period.sce"
		   ]
		  },
  {
"cell_type": "code",
	   "execution_count": null,
	   "metadata": {
	    "collapsed": true
	   },
	   "outputs": [],
"source": [
"//Chapter 26\n",
"clc\n",
"//Example1\n",
"//given\n",
"Tp=3 //proper time in sec\n",
"c=3*10^8 //velocity of light in m/sec\n",
"v=0.95*c\n",
"gamma=1/sqrt(1-(v^2/c^2))\n",
"T=gamma*Tp\n",
"disp(T,'Period of the pendulum w.r.t to observer is')\n",
"\n",
""
   ]
   }
,
{
		   "cell_type": "markdown",
		   "metadata": {},
		   "source": [
			"## Example 26.2: Length_of_spaceship_with_respect_to_observer.sce"
		   ]
		  },
  {
"cell_type": "code",
	   "execution_count": null,
	   "metadata": {
	    "collapsed": true
	   },
	   "outputs": [],
"source": [
"//Chapter 26\n",
"clc\n",
"//Example2\n",
"//given\n",
"Lp=120 // length of space ship in meters\n",
"c=3*10^8 //velocity of light in m/sec\n",
"v=0.99*c\n",
"gamma=1/sqrt(1-(v^2/c^2))\n",
"L=Lp/gamma\n",
"disp(L,'Length of spaceship measured by moving observer in meters is')\n",
""
   ]
   }
,
{
		   "cell_type": "markdown",
		   "metadata": {},
		   "source": [
			"## Example 26.3: Distance_from_spaceship_to_ground.sce"
		   ]
		  },
  {
"cell_type": "code",
	   "execution_count": null,
	   "metadata": {
	    "collapsed": true
	   },
	   "outputs": [],
"source": [
"//Chapter 26\n",
"clc\n",
"//Example3\n",
"//given\n",
"Lp=435 // length of space ship in meters\n",
"c=3*10^8 //velocity of light in m/sec\n",
"v=0.970*c\n",
"gamma=1/sqrt(1-(v^2/c^2))\n",
"L=Lp/gamma\n",
"disp(L,'Distance from spaceship to the groung measured by an observer in spaceship in meters is')\n",
"\n",
""
   ]
   }
,
{
		   "cell_type": "markdown",
		   "metadata": {},
		   "source": [
			"## Example 26.4: shape_of_spaceship.sce"
		   ]
		  },
  {
"cell_type": "code",
	   "execution_count": null,
	   "metadata": {
	    "collapsed": true
	   },
	   "outputs": [],
"source": [
"//Chapter 26\n",
"clc\n",
"//Example4\n",
"//given\n",
"c=3*10^8 //velocity of light in m/sec\n",
"//when the spaceship is at rest\n",
"x=52 // diatance in x direction  in meters\n",
"y=25 //measurement in y direction\n",
"v=0.95*c\n",
"//when the spaceship moves to an observer at rest only x dimension looks contracted\n",
"gamma=1/sqrt(1-(v^2/c^2))\n",
"L=x/gamma\n",
"disp(L,'The observer sees the horizontal dimension of the spaceship gets contracted to a length in meters of')\n",
"\n",
""
   ]
   }
,
{
		   "cell_type": "markdown",
		   "metadata": {},
		   "source": [
			"## Example 26.5: Relativistic_Momentum.sce"
		   ]
		  },
  {
"cell_type": "code",
	   "execution_count": null,
	   "metadata": {
	    "collapsed": true
	   },
	   "outputs": [],
"source": [
"//Chapter 26\n",
"clc\n",
"//Example5\n",
"//given\n",
"c=3*10^8 //velocity of light in m/sec\n",
"m=9.11*10^-31 //mass of electron in kg\n",
"v=0.75*c\n",
"gamma=1/sqrt(1-(v^2/c^2))\n",
"//relativistic momentum\n",
"p=m*v*gamma\n",
"disp(p,'relativistic momentum in kg.m/s is')\n",
"//classical approach\n",
"P=m*v\n",
"disp(P,'classical momentum in kg.m/s is')\n",
"Z=(p-P)*100/P\n",
"printf('the relativistic result is %d percent greater than classical result',Z)\n",
"\n",
""
   ]
   }
,
{
		   "cell_type": "markdown",
		   "metadata": {},
		   "source": [
			"## Example 26.6: speed_of_light_beam.sce"
		   ]
		  },
  {
"cell_type": "code",
	   "execution_count": null,
	   "metadata": {
	    "collapsed": true
	   },
	   "outputs": [],
"source": [
"//clc\n",
"//Example6\n",
"//given\n",
"c=3*10^8 //velocity of light in m/sec\n",
"Vmo=0.80*c // velocity of motocycle w.r.t stationary observer \n",
"Vlm=c // velocity of motocycle w.r.t motorcycle\n",
"//velocity of light w.r.t stationary observer \n",
"Vlo=(Vlm+Vmo)/(1+(Vlm*Vmo)/c^2)\n",
"disp(Vlo,'velocity of light w.r.t stationary observer in m/sec')\n",
""
   ]
   }
,
{
		   "cell_type": "markdown",
		   "metadata": {},
		   "source": [
			"## Example 26.7: Energy_released.sce"
		   ]
		  },
  {
"cell_type": "code",
	   "execution_count": null,
	   "metadata": {
	    "collapsed": true
	   },
	   "outputs": [],
"source": [
"//Chapter 26\n",
"clc\n",
"//Example7\n",
"//given\n",
"c=3*10^8 //velocity of light in m/sec\n",
"m=0.50 //mass of baseball in kg\n",
"E=m*c^2\n",
"disp(E,'The energy equivalent of baseball in joules is')\n",
"\n",
""
   ]
   }
,
{
		   "cell_type": "markdown",
		   "metadata": {},
		   "source": [
			"## Example 26.8: Total_energy_and_kinetic_energy_of_electron.sce"
		   ]
		  },
  {
"cell_type": "code",
	   "execution_count": null,
	   "metadata": {
	    "collapsed": true
	   },
	   "outputs": [],
"source": [
"//Chapter 26\n",
"clc\n",
"//Example 8\n",
"//given\n",
"c=3*10^8 //velocity of light in m/sec\n",
"m=0.511 //rest energy of electron in Mev\n",
"v=0.85*c\n",
"gamma=1/sqrt(1-(v^2/c^2))\n",
"E=(m)*gamma\n",
"disp(E,'total energy of an electron in Mev')\n",
"K=E-m\n",
"disp(K,'Kinetic energy of electron in Mev is')\n",
"\n",
""
   ]
   }
,
{
		   "cell_type": "markdown",
		   "metadata": {},
		   "source": [
			"## Example 26.9: Conversion_of_mass_to_KE.sce"
		   ]
		  },
  {
"cell_type": "code",
	   "execution_count": null,
	   "metadata": {
	    "collapsed": true
	   },
	   "outputs": [],
"source": [
"//Chapter 26\n",
"clc\n",
"//Example 9\n",
"//given\n",
"m_n=1.008665 //mass of neutron in amu\n",
"m_U=235.043924 //atomic mass of uranium in amu\n",
"m_Ba=140.903496 //atomic mass of barium in amu\n",
"m_Kr=91.907720 //atomic mass of krypton in amu\n",
"c=3*10^8 // velocity of light in m/s\n",
"//a) Kinetic energy released in fission of uranium\n",
"KE_final_=((m_n+m_U)-(m_Ba+m_Kr+(3*m_n)))*c^2\n",
"//1 amu = 931.494 Mev/c^2\n",
"KE_final=KE_final_*931.494/c^2\n",
"disp(KE_final,'a) Kinetic energy released in fission in Mev is')\n",
"//b) velocities of barium and krypton\n",
"//E=mc2/sqrt(1-v2/c2)\n",
"KE_Ba=KE_final\n",
"m_Ba_=m_Ba*931.494/c^2 // mass of barium in Mev\n",
"E_Ba=KE_Ba+m_Ba_*c^2\n",
"V_Ba=(sqrt(1-(((m_Ba_*c^2)^2)/E_Ba^2)))*c\n",
"disp(V_Ba,'Speed of Barium fragment in Mev is')\n",
"KE_Kr=KE_final\n",
"m_Kr_=m_Kr*931.494/c^2 // mass of krypton in Mev\n",
"E_Kr=KE_Kr+m_Kr_*c^2\n",
"V_Kr=(sqrt(1-((m_Kr_*c^2)^2)/E_Kr^2))*c\n",
"disp(V_Kr,' Speed of krypton fragment in Mev is')\n",
"//The difference in answer is because of round off"
   ]
   }
],
"metadata": {
		  "kernelspec": {
		   "display_name": "Scilab",
		   "language": "scilab",
		   "name": "scilab"
		  },
		  "language_info": {
		   "file_extension": ".sce",
		   "help_links": [
			{
			 "text": "MetaKernel Magics",
			 "url": "https://github.com/calysto/metakernel/blob/master/metakernel/magics/README.md"
			}
		   ],
		   "mimetype": "text/x-octave",
		   "name": "scilab",
		   "version": "0.7.1"
		  }
		 },
		 "nbformat": 4,
		 "nbformat_minor": 0
}
