{
"cells": [
 {
		   "cell_type": "markdown",
	   "metadata": {},
	   "source": [
       "# Chapter 18: Direct Current Circuits"
	   ]
	},
{
		   "cell_type": "markdown",
		   "metadata": {},
		   "source": [
			"## Example 18.1: Four_resistors_in_series.sce"
		   ]
		  },
  {
"cell_type": "code",
	   "execution_count": null,
	   "metadata": {
	    "collapsed": true
	   },
	   "outputs": [],
"source": [
"//Example 18.1\n",
"clc\n",
"R1=2\n",
"R2=4\n",
"R3=5\n",
"R4=7\n",
"R_eq=R1+R2+R3+R4\n",
"v=6//in v\n",
"disp('Solution a')\n",
"disp(R_eq,'Equivalent resistance in ohm=')\n",
"disp('Solution b')\n",
"I=v/R_eq\n",
"disp(I,'Current in Amps=')"
   ]
   }
,
{
		   "cell_type": "markdown",
		   "metadata": {},
		   "source": [
			"## Example 18.2: Parallel_resistance.sce"
		   ]
		  },
  {
"cell_type": "code",
	   "execution_count": null,
	   "metadata": {
	    "collapsed": true
	   },
	   "outputs": [],
"source": [
"//Example18.2\n",
"clc\n",
"delta_V=18//in volt\n",
"R1=3//in ohm\n",
"R2=6//in ohm\n",
"R3=9//in ohm\n",
"I1=delta_V/R1\n",
"I2=delta_V/R2\n",
"I3=delta_V/R3\n",
"disp('solution a')\n",
"disp(I1,'Current in amps=')\n",
"disp(I2,'Current in amps=')\n",
"disp(I3,'Current in amps=')\n",
"P1=(I1^2)*R1\n",
"P2=(I2^2)*R2\n",
"P3=(I3^2)*R3\n",
"disp('solution B')\n",
"disp(P1,'Power in watt=')\n",
"disp(P2,'Power in watt=')\n",
"disp(P3,'Power in watt=')"
   ]
   }
,
{
		   "cell_type": "markdown",
		   "metadata": {},
		   "source": [
			"## Example 18.3: Equivalent_resistance.sce"
		   ]
		  },
  {
"cell_type": "code",
	   "execution_count": null,
	   "metadata": {
	    "collapsed": true
	   },
	   "outputs": [],
"source": [
"//Example18.3\n",
"delta_Vac=42//in volt\n",
"R_eq=14//in ohm\n",
"I=delta_Vac/R_eq\n",
"disp('solution b')\n",
"disp(I,'Current in amps=')"
   ]
   }
,
{
		   "cell_type": "markdown",
		   "metadata": {},
		   "source": [
			"## Example 18.4: Kirchoff_law.sce"
		   ]
		  },
  {
"cell_type": "code",
	   "execution_count": null,
	   "metadata": {
	    "collapsed": true
	   },
	   "outputs": [],
"source": [
"//example18.4\n",
"//formula used x=inv(a)*b\n",
"clc\n",
"I=[1 -1 -1;-4 0 -9;0 -5 9]\n",
"V=[0;6;0]\n",
"X=inv(I)\n",
"a=X*V\n",
"disp('Current value I1,I2,I3 in amps=')\n",
"disp(a)"
   ]
   }
,
{
		   "cell_type": "markdown",
		   "metadata": {},
		   "source": [
			"## Example 18.5: Application_of_kirchoff_law.sce"
		   ]
		  },
  {
"cell_type": "code",
	   "execution_count": null,
	   "metadata": {
	    "collapsed": true
	   },
	   "outputs": [],
"source": [
"//example18.5\n",
"//prob\n",
"//formula used x=inv(a)*b\n",
"clc\n",
"I=[8 2 0;-3 2 0;1 1 -1]\n",
"V=[10;-12;0]\n",
"X=inv(I)\n",
"disp(X)\n",
"a=X*V\n",
"disp('Current value I1,I2,I3 in amps=')\n",
"disp(a)"
   ]
   }
,
{
		   "cell_type": "markdown",
		   "metadata": {},
		   "source": [
			"## Example 18.6: Charging_capacitor.sce"
		   ]
		  },
  {
"cell_type": "code",
	   "execution_count": null,
	   "metadata": {
	    "collapsed": true
	   },
	   "outputs": [],
"source": [
"//Example 18.6\n",
"clc\n",
"R=8*10^5//in ohms\n",
"C=5*10^-6//in Farad\n",
"t=R*C\n",
"disp(t,'Constant of the circuit in s=')\n",
"Q=C*12\n",
"disp(Q,'Charge in columb=')\n",
"q=0.632*Q\n",
"disp(q,'Charge in columb when capacitance 63.2%=')"
   ]
   }
,
{
		   "cell_type": "markdown",
		   "metadata": {},
		   "source": [
			"## Example 18.7: Discharging_of_capacitance.sce"
		   ]
		  },
  {
"cell_type": "code",
	   "execution_count": null,
	   "metadata": {
	    "collapsed": true
	   },
	   "outputs": [],
"source": [
"//Example18.7\n",
"x=log(4)\n",
"disp(x)\n",
"disp(x,'time in s is =R*C*')"
   ]
   }
],
"metadata": {
		  "kernelspec": {
		   "display_name": "Scilab",
		   "language": "scilab",
		   "name": "scilab"
		  },
		  "language_info": {
		   "file_extension": ".sce",
		   "help_links": [
			{
			 "text": "MetaKernel Magics",
			 "url": "https://github.com/calysto/metakernel/blob/master/metakernel/magics/README.md"
			}
		   ],
		   "mimetype": "text/x-octave",
		   "name": "scilab",
		   "version": "0.7.1"
		  }
		 },
		 "nbformat": 4,
		 "nbformat_minor": 0
}
