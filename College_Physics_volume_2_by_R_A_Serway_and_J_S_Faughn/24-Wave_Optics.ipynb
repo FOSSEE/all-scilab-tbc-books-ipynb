{
"cells": [
 {
		   "cell_type": "markdown",
	   "metadata": {},
	   "source": [
       "# Chapter 24: Wave Optics"
	   ]
	},
{
		   "cell_type": "markdown",
		   "metadata": {},
		   "source": [
			"## Example 24.1: To_find_wavelength_of_light_and_distance_between_adjacent_bright_fringes.sce"
		   ]
		  },
  {
"cell_type": "code",
	   "execution_count": null,
	   "metadata": {
	    "collapsed": true
	   },
	   "outputs": [],
"source": [
"//Chapter 24\n",
"clc\n",
"//Example 1\n",
"//given\n",
"L=1.2 // Seperation between screen and double-slit in meter\n",
"d=3*10^-5 //distance between the two slits\n",
"m=2 //second order bright fringe\n",
"Y=4.5*10^-2 //distance of second order bright fringe from centerline\n",
"//wavelength of light\n",
"lambda=(Y*d)/(m*L)\n",
"disp(lambda,'(A)  wavelength of light in meters')\n",
"//distance between adjacent bright fringes\n",
"//delta_Y=Y(m+1)-Ym\n",
"delta_Y=lambda*L/d\n",
"disp(delta_Y,'(B)  Distance between adjacent fringes in meters')\n",
"\n",
""
   ]
   }
,
{
		   "cell_type": "markdown",
		   "metadata": {},
		   "source": [
			"## Example 24.2: Thickness_of_soap_bubble.sce"
		   ]
		  },
  {
"cell_type": "code",
	   "execution_count": null,
	   "metadata": {
	    "collapsed": true
	   },
	   "outputs": [],
"source": [
"errcatch(-1,'stop');mode(2);//Chapter 24\n",
"clc\n",
"//Example 2\n",
"//given\n",
"n=1.33 //refractive index of soap bubble\n",
"lambda=602 //wavelength of light in nm\n",
"//for constructive interference we have 2nt=lambda/2\n",
"t=lambda/(4*n)\n",
"disp(t,'Minimum thickness of soap bubble film in nm is')\n",
"\n",
""
   ]
   }
,
{
		   "cell_type": "markdown",
		   "metadata": {},
		   "source": [
			"## Example 24.3: Thickness_of_film.sce"
		   ]
		  },
  {
"cell_type": "code",
	   "execution_count": null,
	   "metadata": {
	    "collapsed": true
	   },
	   "outputs": [],
"source": [
"//Chapter 24\n",
"clc\n",
"//Example 3\n",
"//given\n",
"n=1.45 //refractive index of silicon monoxide\n",
"lambda=552 //wavelength of light in nm\n",
"//for destructive interference we have condition for minimn thickness 2t=lambda/2n\n",
"t=lambda/(4*n)\n",
"disp(t,'Minimum thickness of  film in nm is')\n",
"\n",
""
   ]
   }
,
{
		   "cell_type": "markdown",
		   "metadata": {},
		   "source": [
			"## Example 24.5: Pit_depth_in_a_CD.sce"
		   ]
		  },
  {
"cell_type": "code",
	   "execution_count": null,
	   "metadata": {
	    "collapsed": true
	   },
	   "outputs": [],
"source": [
"//Chapter 24\n",
"clc\n",
"//Example 5\n",
"//given\n",
"n=1.6 //refractive index of plastic transparent layer\n",
"lambda=780 //wavelength of laser light in nm\n",
"//for destructive interference we have condition for minimn thickness 2t=lambda/2n\n",
"t=lambda/(4*n)\n",
"disp(t,'Pit depth in a CD in nm is')\n",
""
   ]
   }
,
{
		   "cell_type": "markdown",
		   "metadata": {},
		   "source": [
			"## Example 24.6: Position_of_dark_fringe_and_width_of_central_bright_fringe.sce"
		   ]
		  },
  {
"cell_type": "code",
	   "execution_count": null,
	   "metadata": {
	    "collapsed": true
	   },
	   "outputs": [],
"source": [
"//Chapter 24\n",
"clc\n",
"//Example 6\n",
"//given\n",
"lambda=580*10^-9 //wavelength of incident light in meter\n",
"a=0.30*10^-3 //slit width in meter\n",
"L=2 //distance of screen from slit in meters\n",
"//The first dark fringe corresponds to m=+1 or -1\n",
"m=1\n",
"sin_theta=m*lambda/a\n",
"//From fig 24.16 tan_theta=y/L and since theta is very small we have sin_theta=tan_theta hence sin_theta=y/L\n",
"y=L*sin_theta \n",
"disp(y,' Position of first dark fringe in meters is')\n",
"\n",
""
   ]
   }
,
{
		   "cell_type": "markdown",
		   "metadata": {},
		   "source": [
			"## Example 24.7: Angle_of_monochromatic_light.sce"
		   ]
		  },
  {
"cell_type": "code",
	   "execution_count": null,
	   "metadata": {
	    "collapsed": true
	   },
	   "outputs": [],
"source": [
"//Chapter 24\n",
"clc\n",
"//Example 7\n",
"//given\n",
"lambda=632.8 //wavelength of monochromatic light from helium-neon laser in meter\n",
"a=6000 //lines in diffraction grating per cm\n",
"d=10^7/a//slit seperation in nm\n",
"//for the first order maximum we have m=1\n",
"sin_theta1=lambda/d\n",
"theta1=asind(sin_theta1)\n",
"disp(theta1,'Angle in degrees at which first order maxima is observed is ')\n",
"//for the second order maximum we have m=2\n",
"sin_theta2=2*lambda/d\n",
"theta2=asind(sin_theta2)\n",
"disp(theta2,'Angle in degrees at which second order maxima is observed is ')\n",
"disp('for higher order number of diffraction the the solutions are non realistic')\n",
"\n",
""
   ]
   }
],
"metadata": {
		  "kernelspec": {
		   "display_name": "Scilab",
		   "language": "scilab",
		   "name": "scilab"
		  },
		  "language_info": {
		   "file_extension": ".sce",
		   "help_links": [
			{
			 "text": "MetaKernel Magics",
			 "url": "https://github.com/calysto/metakernel/blob/master/metakernel/magics/README.md"
			}
		   ],
		   "mimetype": "text/x-octave",
		   "name": "scilab",
		   "version": "0.7.1"
		  }
		 },
		 "nbformat": 4,
		 "nbformat_minor": 0
}
