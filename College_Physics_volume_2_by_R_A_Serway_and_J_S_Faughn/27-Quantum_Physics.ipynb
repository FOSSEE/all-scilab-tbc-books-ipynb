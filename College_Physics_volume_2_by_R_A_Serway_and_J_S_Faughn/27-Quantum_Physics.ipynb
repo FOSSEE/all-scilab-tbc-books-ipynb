{
"cells": [
 {
		   "cell_type": "markdown",
	   "metadata": {},
	   "source": [
       "# Chapter 27: Quantum Physics"
	   ]
	},
{
		   "cell_type": "markdown",
		   "metadata": {},
		   "source": [
			"## Example 27.10: uncertainity_of_the_position_of_electron.sce"
		   ]
		  },
  {
"cell_type": "code",
	   "execution_count": null,
	   "metadata": {
	    "collapsed": true
	   },
	   "outputs": [],
"source": [
"//Chapter 27\n",
"clc\n",
"//Example 10\n",
"//given\n",
"h=6.63*10^-34//js\n",
"v=5*10^3 //speed of the electron in m/s\n",
"m_e=9.11*10^-31 // mass of electron in Kg\n",
"p=m_e*v\n",
"delta_p=0.00300*p\n",
"//Uncertainity principle states delta_x*delta_p >=h/(4*%pi)\n",
"delta_x=h/(4*%pi*delta_p)\n",
"disp(delta_x,'Uncertainity in position of electron in Meters is ')"
   ]
   }
,
{
		   "cell_type": "markdown",
		   "metadata": {},
		   "source": [
			"## Example 27.11: Uncertainity_in_energy_of_excited_state.sce"
		   ]
		  },
  {
"cell_type": "code",
	   "execution_count": null,
	   "metadata": {
	    "collapsed": true
	   },
	   "outputs": [],
"source": [
"//Chapter 27\n",
"clc\n",
"//Example 11\n",
"//given\n",
"h=6.63*10^-34 // plancks constant in J.s\n",
"delta_t=1.00*10^-8 // Average time that an ellectron exists in the excited states in sec\n",
"delta_E=h/(4*%pi*delta_t)\n",
"disp(delta_E,' Minimum uncertainity in energy of the  excited states in Joules is')"
   ]
   }
,
{
		   "cell_type": "markdown",
		   "metadata": {},
		   "source": [
			"## Example 27.1: Wavelength_of_radiation.sce"
		   ]
		  },
  {
"cell_type": "code",
	   "execution_count": null,
	   "metadata": {
	    "collapsed": true
	   },
	   "outputs": [],
"source": [
"//chapter27\n",
"clc\n",
"//Example 1\n",
"//given\n",
"T=35 //Temperature of the skin in celsius\n",
"T1=T+273 //Temperature in kelvin\n",
"//From Wien's displacement law \n",
"Lambda_max=(0.2898*10^-2)/T1\n",
"disp(Lambda_max,'Wavelength at which radiation emitted from the skin reaches its peak in meters is')"
   ]
   }
,
{
		   "cell_type": "markdown",
		   "metadata": {},
		   "source": [
			"## Example 27.2: Calculation_of_Energy_and_Quantum_number.sce"
		   ]
		  },
  {
"cell_type": "code",
	   "execution_count": null,
	   "metadata": {
	    "collapsed": true
	   },
	   "outputs": [],
"source": [
"//Chapter 27\n",
"clc\n",
"//Example 2\n",
"//given\n",
"m=2 // mass of the object in Kg\n",
"k=25 //force constant of spring in N/m\n",
"A=0.4 //Amplitude of Simple harmonic oscillation by spring in meters\n",
"h=6.63*10^-34//js\n",
"//a) Total energy and frequency of SHO calculation\n",
"E=(1/2)*k*A^2\n",
"f=(1/(2*%pi))*sqrt(k/m)\n",
"disp(E,'a) Total energy of Simple harmonic oscillator with given amplitude in Joules is')\n",
"disp(f,'   Frequency of oscillation in Hertz is')\n",
"//b) Calculation of quantum number for the system\n",
"n=E/(h*f)\n",
"disp(n,'b) Quantum number for the given macroscopic system is')\n",
"//c) Calculation of energy carried away in a quantum charge\n",
"delta_E=h*f\n",
"disp(delta_E,'c) Energy carried away by a one-quantum charge in joules is')"
   ]
   }
,
{
		   "cell_type": "markdown",
		   "metadata": {},
		   "source": [
			"## Example 27.3: Energy_of_photon.sce"
		   ]
		  },
  {
"cell_type": "code",
	   "execution_count": null,
	   "metadata": {
	    "collapsed": true
	   },
	   "outputs": [],
"source": [
"clc\n",
"//Example 3\n",
"//given\n",
"f=6*10^14 //frequency of yellow light in hertz\n",
"h=6.63*10^-34 //plancks constant J.s\n",
"E=h*f\n",
"disp(E,'Energy carried by a photon with the given frequency in Joules is')"
   ]
   }
,
{
		   "cell_type": "markdown",
		   "metadata": {},
		   "source": [
			"## Example 27.4: Energy_and_wavelength_of_photon.sce"
		   ]
		  },
  {
"cell_type": "code",
	   "execution_count": null,
	   "metadata": {
	    "collapsed": true
	   },
	   "outputs": [],
"source": [
"//Chapter 27\n",
"clc\n",
"//Example 4\n",
"//given\n",
"l=0.3*10^-6 //wavelength of light  in meters\n",
"W=2.46 //work function for sodium in ev\n",
"c=3*10^8 //velocity of light in m/s\n",
"h=6.63*10^-34//js\n",
"//a) Maximum KE of the ejected photoelectrons\n",
"E=(h*c/l)/(1.6*10^-19) //energy of each photon of th eilluminating light beam in ev\n",
"KE_max=E-W\n",
"disp(KE_max,'a) Maximum Kinetic energy of th eejected photoelectrons in ev is')\n",
"//b) Cut off wavelength for sodium \n",
"W1=W*1.6*10^-19\n",
"lc=h*c/W1\n",
"disp(lc,'b) Cut off wavelength for sodium in meters is')"
   ]
   }
,
{
		   "cell_type": "markdown",
		   "metadata": {},
		   "source": [
			"## Example 27.5: minimum_wavelength.sce"
		   ]
		  },
  {
"cell_type": "code",
	   "execution_count": null,
	   "metadata": {
	    "collapsed": true
	   },
	   "outputs": [],
"source": [
"//Chapter 27\n",
"clc\n",
"//Example 5\n",
"//given\n",
"V=10^5 //potential difference in Volts\n",
"h=6.63*10^-34 // plancks constant in J.s\n",
"c=3*10^8// velocity of light in m/s\n",
"e=1.6*10^-19// elelctronic charge in coulombs\n",
"L_min=(h*c)/(e*V)\n",
"disp(L_min,'Minimum wavelength produced in meters is')"
   ]
   }
,
{
		   "cell_type": "markdown",
		   "metadata": {},
		   "source": [
			"## Example 27.6: Grazing_angle.sce"
		   ]
		  },
  {
"cell_type": "code",
	   "execution_count": null,
	   "metadata": {
	    "collapsed": true
	   },
	   "outputs": [],
"source": [
"//Chapter 27\n",
"clc\n",
"//Example 6\n",
"//given\n",
"d=0.314 //spacing between certain planes in a crystal of calcite in nm\n",
"l=0.070 //wavelength of X-rays in nm\n",
"m=1// first order of interference\n",
"theta1=asind((m*l)/(2*d))\n",
"disp(theta1,'Grazing angle at first order of interference in degree is')\n",
"m=3 //third order of interference\n",
"theta2=asind((m*l)/(2*d))\n",
"disp(theta2,'Grazing angle at third order of interference in degree is')"
   ]
   }
,
{
		   "cell_type": "markdown",
		   "metadata": {},
		   "source": [
			"## Example 27.7: Compton_scattering.sce"
		   ]
		  },
  {
"cell_type": "code",
	   "execution_count": null,
	   "metadata": {
	    "collapsed": true
	   },
	   "outputs": [],
"source": [
"//Chapter 27\n",
"clc\n",
"//Example 7\n",
"//given\n",
"Lo=0.200000 //wavelength of X-rays in nm\n",
"h=6.63*10^-34 //in J.s\n",
"m_e=9.11*10^-31 // in Kg\n",
"c=3*10^8 //in m/s\n",
"theta=45 //in degrees\n",
"//wavelength is represented by d\n",
"delta_L=(h/(m_e*c))*(1-cosd(theta))\n",
"L=delta_L+Lo\n",
"printf('Wavelength of the scattered X-rays at the given angle in %f nm is',L)\n",
"//Answer given in textbook is wrong"
   ]
   }
,
{
		   "cell_type": "markdown",
		   "metadata": {},
		   "source": [
			"## Example 27.8: de_Broglie_wavelength.sce"
		   ]
		  },
  {
"cell_type": "code",
	   "execution_count": null,
	   "metadata": {
	    "collapsed": true
	   },
	   "outputs": [],
"source": [
"//Chapter 27\n",
"clc\n",
"//Example 8\n",
"//given\n",
"h=6.63*10^-34 //in J.s\n",
"m_e=9.11*10^-31 // in Kg\n",
"v=1*10^7 //in m/s\n",
"lambda=h/(m_e*v)\n",
"disp(lambda,'de Broglie wavelength for an electron in meters is')"
   ]
   }
,
{
		   "cell_type": "markdown",
		   "metadata": {},
		   "source": [
			"## Example 27.9: de_broglie_wavelength_of_ball.sce"
		   ]
		  },
  {
"cell_type": "code",
	   "execution_count": null,
	   "metadata": {
	    "collapsed": true
	   },
	   "outputs": [],
"source": [
"//Chapter 27\n",
"clc\n",
"//Example 9\n",
"//given\n",
"h=6.63*10^-34 //in J.s\n",
"m=0.145 // in Kg\n",
"v=40 //in m/s\n",
"lambda=h/(m*v)\n",
"disp(lambda,'de Broglie wavelength of the ball in meters is')"
   ]
   }
],
"metadata": {
		  "kernelspec": {
		   "display_name": "Scilab",
		   "language": "scilab",
		   "name": "scilab"
		  },
		  "language_info": {
		   "file_extension": ".sce",
		   "help_links": [
			{
			 "text": "MetaKernel Magics",
			 "url": "https://github.com/calysto/metakernel/blob/master/metakernel/magics/README.md"
			}
		   ],
		   "mimetype": "text/x-octave",
		   "name": "scilab",
		   "version": "0.7.1"
		  }
		 },
		 "nbformat": 4,
		 "nbformat_minor": 0
}
