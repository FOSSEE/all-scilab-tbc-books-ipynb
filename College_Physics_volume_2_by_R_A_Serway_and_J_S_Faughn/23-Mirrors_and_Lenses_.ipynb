{
"cells": [
 {
		   "cell_type": "markdown",
	   "metadata": {},
	   "source": [
       "# Chapter 23: Mirrors and Lenses "
	   ]
	},
{
		   "cell_type": "markdown",
		   "metadata": {},
		   "source": [
			"## Example 23.1: Calculation_of_height.sce"
		   ]
		  },
  {
"cell_type": "code",
	   "execution_count": null,
	   "metadata": {
	    "collapsed": true
	   },
	   "outputs": [],
"source": [
"//Example 23.1\n",
"AC= 1.8-.1//in m\n",
"AD=.5*AC\n",
"CF=.10///in m\n",
"X=.5*CF//in m\n",
"FA=1.8//in m\n",
"d=FA-AD-X\n",
"disp(d,'The hight in m=')"
   ]
   }
,
{
		   "cell_type": "markdown",
		   "metadata": {},
		   "source": [
			"## Example 23.2: calculation_of_height.sce"
		   ]
		  },
  {
"cell_type": "code",
	   "execution_count": null,
	   "metadata": {
	    "collapsed": true
	   },
	   "outputs": [],
"source": [
"//23.2\n",
"p=25//in cm\n",
"f=10//in cm\n",
"x=(1/f)-(1/p)\n",
"q=1/x\n",
"p=25\n",
"M=-(q/p)\n",
"disp('part a')\n",
"disp(M,'The magnification when object is at 25cm=')\n",
"p=5//in cm\n",
"f=10//in cm\n",
"x=(1/f)-(1/p)\n",
"q=1/x\n",
"p=5\n",
"M=-(q/p)\n",
"disp('part c')\n",
"disp(M,'The magnification when object is at 5cm=')"
   ]
   }
,
{
		   "cell_type": "markdown",
		   "metadata": {},
		   "source": [
			"## Example 23.3: Magnification.sce"
		   ]
		  },
  {
"cell_type": "code",
	   "execution_count": null,
	   "metadata": {
	    "collapsed": true
	   },
	   "outputs": [],
"source": [
"//23.3\n",
"p=20//in cm\n",
"f=-8//in cm\n",
"x=(1/f)-(1/p)\n",
"q=1/x\n",
"p=25\n",
"M=-(q/p)\n",
"disp('part a')\n",
"disp(q,'The position of final image in cm=')\n",
"disp('part b')\n",
"disp(M,'The magnification=')"
   ]
   }
,
{
		   "cell_type": "markdown",
		   "metadata": {},
		   "source": [
			"## Example 23.4: focal_length.sce"
		   ]
		  },
  {
"cell_type": "code",
	   "execution_count": null,
	   "metadata": {
	    "collapsed": true
	   },
	   "outputs": [],
"source": [
"//23.4\n",
"clc\n",
"p=40//in cm\n",
"q=-(2*p)\n",
"x=(1/p)-(1/q)\n",
"f=1/x\n",
"disp(f,'The focal length in cm=')\n",
"//Answer given in book is wrong"
   ]
   }
,
{
		   "cell_type": "markdown",
		   "metadata": {},
		   "source": [
			"## Example 23.5: Position_of_image.sce"
		   ]
		  },
  {
"cell_type": "code",
	   "execution_count": null,
	   "metadata": {
	    "collapsed": true
	   },
	   "outputs": [],
"source": [
"//23.5\n",
"p=20//in cm\n",
"n1=1.5//in cm\n",
"n2=1//in cm\n",
"R=-30//in cm\n",
"x=(n2-n1)/R\n",
"y=n1/p\n",
"s=x-y\n",
"q=1/s\n",
"disp(q,'The position of final image in cm=')\n",
"M=(n1*q)/(n2*p)\n",
"disp(M,'The magnification when object in cm')\n",
"h=2//in cm\n",
"h1=-M*h\n",
"disp(h1,'The Position of image in cm=')"
   ]
   }
,
{
		   "cell_type": "markdown",
		   "metadata": {},
		   "source": [
			"## Example 23.7: converge.sce"
		   ]
		  },
  {
"cell_type": "code",
	   "execution_count": null,
	   "metadata": {
	    "collapsed": true
	   },
	   "outputs": [],
"source": [
"//23.3\n",
"p=30//in cm\n",
"f=10//in cm\n",
"x=(1/f)-(1/p)\n",
"q=1/x\n",
"M=-(q/p)\n",
"disp('part a')\n",
"disp(q,'The position of final image in cm=')\n",
"disp(M,'The magnification=')\n",
"p=5//in cm\n",
"f=10//in cm\n",
"x=(1/f)-(1/p)\n",
"q=1/x\n",
"M=-(q/p)\n",
"disp('part b')\n",
"disp(q,'The position of final image in cm=')\n",
"disp(M,'The magnification=')"
   ]
   }
,
{
		   "cell_type": "markdown",
		   "metadata": {},
		   "source": [
			"## Example 23.8: lenses.sce"
		   ]
		  },
  {
"cell_type": "code",
	   "execution_count": null,
	   "metadata": {
	    "collapsed": true
	   },
	   "outputs": [],
"source": [
"//23.8\n",
"p=30//in cm\n",
"f=-10//in cm\n",
"x=(1/f)-(1/p)\n",
"q=1/x\n",
"M=-(q/p)\n",
"disp('part a')\n",
"disp(q,'The position of final image in cm=')\n",
"disp(M,'The magnification=')\n",
"p=10//in cm\n",
"f=-10//in cm\n",
"x=(1/f)-(1/p)\n",
"q=1/x\n",
"M=-(q/p)\n",
"disp('part b')\n",
"disp(q,'The position of final image in cm=')\n",
"disp(M,'The magnification=')\n",
"p=5//in cm\n",
"f=-10//in cm\n",
"x=(1/f)-(1/p)\n",
"q=1/x\n",
"M=-(q/p)\n",
"disp('part c')\n",
"disp(q,'The position of final image in cm=')\n",
"disp(M,'The magnification=')"
   ]
   }
,
{
		   "cell_type": "markdown",
		   "metadata": {},
		   "source": [
			"## Example 23.9: lenses_in_row.sce"
		   ]
		  },
  {
"cell_type": "code",
	   "execution_count": null,
	   "metadata": {
	    "collapsed": true
	   },
	   "outputs": [],
"source": [
"//23.9\n",
"p=30//in cm\n",
"f=10//in cm\n",
"x=(1/f)-(1/p)\n",
"q=1/x\n",
"M1=-(q/p)\n",
"p=5//in cm\n",
"f=20//in cm\n",
"x=(1/f)-(1/p)\n",
"q=1/x\n",
"M2=-(q/p)\n",
"M=M1*M2\n",
"disp(M,'The magnification=')"
   ]
   }
],
"metadata": {
		  "kernelspec": {
		   "display_name": "Scilab",
		   "language": "scilab",
		   "name": "scilab"
		  },
		  "language_info": {
		   "file_extension": ".sce",
		   "help_links": [
			{
			 "text": "MetaKernel Magics",
			 "url": "https://github.com/calysto/metakernel/blob/master/metakernel/magics/README.md"
			}
		   ],
		   "mimetype": "text/x-octave",
		   "name": "scilab",
		   "version": "0.7.1"
		  }
		 },
		 "nbformat": 4,
		 "nbformat_minor": 0
}
