{
"cells": [
 {
		   "cell_type": "markdown",
	   "metadata": {},
	   "source": [
       "# Chapter 22: Relection and refraction of light"
	   ]
	},
{
		   "cell_type": "markdown",
		   "metadata": {},
		   "source": [
			"## Example 22.2: Angle_of_refraction.sce"
		   ]
		  },
  {
"cell_type": "code",
	   "execution_count": null,
	   "metadata": {
	    "collapsed": true
	   },
	   "outputs": [],
"source": [
"//Example 22.2\n",
"clc\n",
"n1=1\n",
"n2=1.52\n",
"x=sind(30)\n",
"theta_2=asind((n1*x)/n2)\n",
"disp(theta_2,'Angle in degree=')"
   ]
   }
,
{
		   "cell_type": "markdown",
		   "metadata": {},
		   "source": [
			"## Example 22.3: Wavelength.sce"
		   ]
		  },
  {
"cell_type": "code",
	   "execution_count": null,
	   "metadata": {
	    "collapsed": true
	   },
	   "outputs": [],
"source": [
"//Example22.3\n",
"clc\n",
"disp('Solution a')\n",
"c=3*10^8// Constant in m/s\n",
"n=1.458\n",
"v=c/n\n",
"disp(v,'Velocity in m/s=')\n",
"disp('Solution b')\n",
"lambda_o=589//in nm\n",
"lambda_n=lambda_o/n\n",
"disp(lambda_n,'Wavelength in Fused quartz in nm=')"
   ]
   }
,
{
		   "cell_type": "markdown",
		   "metadata": {},
		   "source": [
			"## Example 22.5: Angle.sce"
		   ]
		  },
  {
"cell_type": "code",
	   "execution_count": null,
	   "metadata": {
	    "collapsed": true
	   },
	   "outputs": [],
"source": [
"//Example 22.5\n",
"clc\n",
"x=699//in micrometer(w-a)\n",
"t=1200 //in micrometer\n",
"b=x/2\n",
"theta_2=atand(b/t)\n",
"disp(theta_2,'Angle in degree=')\n",
"y=sind(theta_2)\n",
"n1=1\n",
"n2=1.55\n",
"theta_1=asind((n2*y)/n1)\n",
"disp(theta_1,'Angle in degree=')"
   ]
   }
,
{
		   "cell_type": "markdown",
		   "metadata": {},
		   "source": [
			"## Example 22.6: Angle.sce"
		   ]
		  },
  {
"cell_type": "code",
	   "execution_count": null,
	   "metadata": {
	    "collapsed": true
	   },
	   "outputs": [],
"source": [
"//Example 22.6\n",
"clc\n",
"n1=1.33\n",
"n2=1\n",
"x=asind(n2/n1)\n",
"disp(x,'Angle in degree(theta_c)=')"
   ]
   }
],
"metadata": {
		  "kernelspec": {
		   "display_name": "Scilab",
		   "language": "scilab",
		   "name": "scilab"
		  },
		  "language_info": {
		   "file_extension": ".sce",
		   "help_links": [
			{
			 "text": "MetaKernel Magics",
			 "url": "https://github.com/calysto/metakernel/blob/master/metakernel/magics/README.md"
			}
		   ],
		   "mimetype": "text/x-octave",
		   "name": "scilab",
		   "version": "0.7.1"
		  }
		 },
		 "nbformat": 4,
		 "nbformat_minor": 0
}
