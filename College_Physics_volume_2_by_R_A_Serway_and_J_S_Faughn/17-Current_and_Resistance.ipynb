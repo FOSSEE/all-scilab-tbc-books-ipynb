{
"cells": [
 {
		   "cell_type": "markdown",
	   "metadata": {},
	   "source": [
       "# Chapter 17: Current and Resistance"
	   ]
	},
{
		   "cell_type": "markdown",
		   "metadata": {},
		   "source": [
			"## Example 17.1: Current_in_lightbulb.sce"
		   ]
		  },
  {
"cell_type": "code",
	   "execution_count": null,
	   "metadata": {
	    "collapsed": true
	   },
	   "outputs": [],
"source": [
"//Example 17.1\n",
"clc\n",
"disp('solution a')\n",
"delta_q=1.67//in c\n",
"delta_t=2//in s\n",
"I=delta_q/delta_t\n",
"disp(I,'Current in amp=')\n",
"disp('solution b')\n",
"N=5.22*10^18\n",
"N_q=(1.6*10^-19)*N\n",
"disp(N_q,'Number of electrons in C')"
   ]
   }
,
{
		   "cell_type": "markdown",
		   "metadata": {},
		   "source": [
			"## Example 17.2: Drift_speed.sce"
		   ]
		  },
  {
"cell_type": "code",
	   "execution_count": null,
	   "metadata": {
	    "collapsed": true
	   },
	   "outputs": [],
"source": [
"//Example 17.2\n",
"clc\n",
"M=63.5//IN G\n",
"rho=8.95\n",
"v=M/rho\n",
"electrons=6.02*10^23\n",
"n=(electrons*10^6)/v\n",
"I=10//in c/s\n",
"q=1.60*10^-19//in c\n",
"A=3*10^-6//in m2\n",
"vd=(I)/(n*q*A)\n",
"disp('Solution a')\n",
"disp(vd,'The drift speed in m/s=')\n",
"k_b=1.38*10^-23\n",
"T=293\n",
"m=9.11*10^-31\n",
"v_rms=sqrt((3*k_b*T)/m)\n",
"disp(v_rms,'Drift speed of electron in m/s=')"
   ]
   }
,
{
		   "cell_type": "markdown",
		   "metadata": {},
		   "source": [
			"## Example 17.3: Resistance_of_steam_iron.sce"
		   ]
		  },
  {
"cell_type": "code",
	   "execution_count": null,
	   "metadata": {
	    "collapsed": true
	   },
	   "outputs": [],
"source": [
"//Example 17.3\n",
"clc\n",
"delta_v=120\n",
"I=6.4\n",
"R=(delta_v)/I\n",
"disp(R,'The resistance in ohm=')"
   ]
   }
,
{
		   "cell_type": "markdown",
		   "metadata": {},
		   "source": [
			"## Example 17.4: resistance.sce"
		   ]
		  },
  {
"cell_type": "code",
	   "execution_count": null,
	   "metadata": {
	    "collapsed": true
	   },
	   "outputs": [],
"source": [
"//Example 17.4\n",
"clc\n",
"r=0.321*10^-3\n",
"A=%pi*(r*r)\n",
"disp('Solution a')\n",
"disp(A,'Area in m^2=')\n",
"rho=1.5*10^-6//in ohm=m\n",
"l=rho/A\n",
"disp(l,'Resistance in ohm/m=')\n",
"disp('solution b')\n",
"Delta_v=10\n",
"I=(Delta_v)/l\n",
"disp(I,'The current in Amps=')"
   ]
   }
,
{
		   "cell_type": "markdown",
		   "metadata": {},
		   "source": [
			"## Example 17.5: Platinum_resistance.sce"
		   ]
		  },
  {
"cell_type": "code",
	   "execution_count": null,
	   "metadata": {
	    "collapsed": true
	   },
	   "outputs": [],
"source": [
"//Example 17.5\n",
"clc\n",
"R=76.8\n",
"Ro=50\n",
"alpha=3.92*10^-3\n",
"t=(R-Ro)/(alpha*Ro)\n",
"T=t+20\n",
"disp(T,'Temperature in C=')"
   ]
   }
,
{
		   "cell_type": "markdown",
		   "metadata": {},
		   "source": [
			"## Example 17.6: Power_converted.sce"
		   ]
		  },
  {
"cell_type": "code",
	   "execution_count": null,
	   "metadata": {
	    "collapsed": true
	   },
	   "outputs": [],
"source": [
"//Example 17.6\n",
"clc\n",
"delta_v=50\n",
"R=8\n",
"I=(delta_v)/R\n",
"disp(I,'The current in A=')\n",
"P=I*I*R\n",
"disp(P,'Power in watt=')"
   ]
   }
,
{
		   "cell_type": "markdown",
		   "metadata": {},
		   "source": [
			"## Example 17.7: Light.sce"
		   ]
		  },
  {
"cell_type": "code",
	   "execution_count": null,
	   "metadata": {
	    "collapsed": true
	   },
	   "outputs": [],
"source": [
"//Example 17.7\n",
"clc\n",
"I=20//in A\n",
"delta_v=120\n",
"p_bulb=75//inwatt\n",
"p_total=I*delta_v\n",
"N=p_total/p_bulb\n",
"disp(N,'Number of bulbs=')"
   ]
   }
,
{
		   "cell_type": "markdown",
		   "metadata": {},
		   "source": [
			"## Example 17.8: Cost_of_operating_bulb.sce"
		   ]
		  },
  {
"cell_type": "code",
	   "execution_count": null,
	   "metadata": {
	    "collapsed": true
	   },
	   "outputs": [],
"source": [
"//Example 17.8\n",
"clc\n",
"p=0.10//in w\n",
"t=24//in h\n",
"Energy=p*t\n",
"disp(Energy,'Energy in kwh=')\n",
"cost=Energy*0.12\n",
"disp(cost,'Cost in dollars=')"
   ]
   }
],
"metadata": {
		  "kernelspec": {
		   "display_name": "Scilab",
		   "language": "scilab",
		   "name": "scilab"
		  },
		  "language_info": {
		   "file_extension": ".sce",
		   "help_links": [
			{
			 "text": "MetaKernel Magics",
			 "url": "https://github.com/calysto/metakernel/blob/master/metakernel/magics/README.md"
			}
		   ],
		   "mimetype": "text/x-octave",
		   "name": "scilab",
		   "version": "0.7.1"
		  }
		 },
		 "nbformat": 4,
		 "nbformat_minor": 0
}
