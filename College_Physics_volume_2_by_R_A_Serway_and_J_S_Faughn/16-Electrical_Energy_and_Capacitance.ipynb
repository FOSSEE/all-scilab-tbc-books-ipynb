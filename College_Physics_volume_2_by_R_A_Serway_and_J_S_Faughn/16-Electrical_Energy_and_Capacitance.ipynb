{
"cells": [
 {
		   "cell_type": "markdown",
	   "metadata": {},
	   "source": [
       "# Chapter 16: Electrical Energy and Capacitance"
	   ]
	},
{
		   "cell_type": "markdown",
		   "metadata": {},
		   "source": [
			"## Example 16.1: Field_between_2_parallel_plates.sce"
		   ]
		  },
  {
"cell_type": "code",
	   "execution_count": null,
	   "metadata": {
	    "collapsed": true
	   },
	   "outputs": [],
"source": [
"//Example 16.1\n",
"//Given \n",
"clc\n",
"v_bminusv_a=-12\n",
"d=0.3*10^-2//in m\n",
"E=-(v_bminusv_a)/d\n",
"disp(E,'The value of E in v/m=')"
   ]
   }
,
{
		   "cell_type": "markdown",
		   "metadata": {},
		   "source": [
			"## Example 16.2: Motion_of_proton.sce"
		   ]
		  },
  {
"cell_type": "code",
	   "execution_count": null,
	   "metadata": {
	    "collapsed": true
	   },
	   "outputs": [],
"source": [
"//Example 16.2\n",
"clc\n",
"disp('solution a')\n",
"E=8*10^4//in V/m\n",
"d=0.5//in m\n",
"delta_V=-E*d\n",
"disp(delta_V,'Electric potential from A to B in V=')\n",
"disp('solution b')\n",
"q=1.6*10^-19//in C\n",
"delta_PE=q*delta_V\n",
"disp(delta_PE,'Change in electric potential in joules=')\n",
"m_p=1.67*10^-27//in kg\n",
"vf=sqrt((2*-delta_PE)/m_p)\n",
"disp(vf,'velocity in m/s=')"
   ]
   }
,
{
		   "cell_type": "markdown",
		   "metadata": {},
		   "source": [
			"## Example 16.3: Electric_Potential.sce"
		   ]
		  },
  {
"cell_type": "code",
	   "execution_count": null,
	   "metadata": {
	    "collapsed": true
	   },
	   "outputs": [],
"source": [
"//Example 16.3\n",
"clc\n",
"k_e=8.99*10^9 //N.m^2/c^2\n",
"q1=5*10^-6// in C\n",
"q2=-2*10^-6//in C\n",
"r1=0.4\n",
"r2=0.5\n",
"V1=(k_e*q1)/(r1)\n",
"V2=(k_e*q2)/(r2)\n",
"disp('Solution a')\n",
"disp(V1,'Magnitude of V1 in v')\n",
"disp(V2,'Magnitude of V2 in v')\n",
"disp('solution b')\n",
"vp=V1+V2\n",
"disp(vp,'Magnitude of Vp in v')\n",
"q3=4*10^-6//in C\n",
"w=vp*q3\n",
"disp(w,'work done in Joule=')"
   ]
   }
,
{
		   "cell_type": "markdown",
		   "metadata": {},
		   "source": [
			"## Example 16.4: Parallel_plate_capacitor.sce"
		   ]
		  },
  {
"cell_type": "code",
	   "execution_count": null,
	   "metadata": {
	    "collapsed": true
	   },
	   "outputs": [],
"source": [
"//Example 16.4\n",
"clc\n",
"e0=8.85*10^-12//in c2/N.m2\n",
"A=2*10^-4//in m2\n",
"d=1*10^-3//in m\n",
"c=(e0*A)/d\n",
"disp(c,'Capacitance in farad=')"
   ]
   }
,
{
		   "cell_type": "markdown",
		   "metadata": {},
		   "source": [
			"## Example 16.5: parallel_capacitors.sce"
		   ]
		  },
  {
"cell_type": "code",
	   "execution_count": null,
	   "metadata": {
	    "collapsed": true
	   },
	   "outputs": [],
"source": [
"//Example 16.5\n",
"c1=3*10^-6\n",
"c2=6*10^-6\n",
"c3=12*10^-6\n",
"c4=24*10^-6\n",
"delta_v=18\n",
"c_eq=c1+c2+c3+c4\n",
"disp(c_eq,'capacitance in farad=')\n",
"q=delta_v*c3\n",
"disp(q,'voltage between battery in c=')"
   ]
   }
,
{
		   "cell_type": "markdown",
		   "metadata": {},
		   "source": [
			"## Example 16.6: Capacitance.sce"
		   ]
		  },
  {
"cell_type": "code",
	   "execution_count": null,
	   "metadata": {
	    "collapsed": true
	   },
	   "outputs": [],
"source": [
"//Example 16.6\n",
"clc\n",
"c1=3*10^-6\n",
"c2=6*10^-6\n",
"c3=12*10^-6\n",
"c4=24*10^-6\n",
"delta_v=18\n",
"disp('solution a')\n",
"c_eq=1/((1/c1)+(1/c2)+(1/c3)+(1/c4))\n",
"disp(c_eq,'capacitance in farad=')\n",
"q=delta_v*c_eq\n",
"disp('solution b')\n",
"disp(q,'voltage between battery in c=')"
   ]
   }
,
{
		   "cell_type": "markdown",
		   "metadata": {},
		   "source": [
			"## Example 16.7: Equivalent_capacitance.sce"
		   ]
		  },
  {
"cell_type": "code",
	   "execution_count": null,
	   "metadata": {
	    "collapsed": true
	   },
	   "outputs": [],
"source": [
"//Example 16.7\n",
"clc\n",
"c1=4*10^-6\n",
"c2=4*10^-6\n",
"disp('solution a')\n",
"c_eq=1/((1/c1)+(1/c2))\n",
"disp(c_eq,'capacitance in farad=')"
   ]
   }
,
{
		   "cell_type": "markdown",
		   "metadata": {},
		   "source": [
			"## Example 16.8: Voltage_Energy_and_time.sce"
		   ]
		  },
  {
"cell_type": "code",
	   "execution_count": null,
	   "metadata": {
	    "collapsed": true
	   },
	   "outputs": [],
"source": [
"//Example 16.8\n",
"clc\n",
"Energy=1.2*10^3//in J\n",
"c=1.1*10^-4//in f\n",
"delta_v=sqrt((2*Energy)/c)\n",
"disp('solution a')\n",
"disp(delta_v,'Energy stored in volt')\n",
"disp('solution b')\n",
"Energy_deliverd=600//in j\n",
"delta_t=2.5*10^-3//in s\n",
"p=(Energy_deliverd)/delta_t\n",
"disp(p,'power in watt=')"
   ]
   }
,
{
		   "cell_type": "markdown",
		   "metadata": {},
		   "source": [
			"## Example 16.9: Paper_filled_capacitor.sce"
		   ]
		  },
  {
"cell_type": "code",
	   "execution_count": null,
	   "metadata": {
	    "collapsed": true
	   },
	   "outputs": [],
"source": [
"//Example 16.9\n",
"clc\n",
"k=3.7\n",
"e0=8.85*10^-12//in c2/N.m2\n",
"A=6*10^-4//in m2\n",
"d=1*10^-3//in m\n",
"c=(k*e0*A)/d\n",
"disp('solution a')\n",
"disp(c,'Capacitance in farad=')\n",
"disp('solution b')\n",
"E_max=16*10^6//in v/m\n",
"delta_v_max=E_max*d\n",
"disp(delta_v_max,'Voltage in volt')\n",
"Q_max=delta_v_max*c\n",
"disp(Q_max,'Maximum charge in columb=')"
   ]
   }
],
"metadata": {
		  "kernelspec": {
		   "display_name": "Scilab",
		   "language": "scilab",
		   "name": "scilab"
		  },
		  "language_info": {
		   "file_extension": ".sce",
		   "help_links": [
			{
			 "text": "MetaKernel Magics",
			 "url": "https://github.com/calysto/metakernel/blob/master/metakernel/magics/README.md"
			}
		   ],
		   "mimetype": "text/x-octave",
		   "name": "scilab",
		   "version": "0.7.1"
		  }
		 },
		 "nbformat": 4,
		 "nbformat_minor": 0
}
