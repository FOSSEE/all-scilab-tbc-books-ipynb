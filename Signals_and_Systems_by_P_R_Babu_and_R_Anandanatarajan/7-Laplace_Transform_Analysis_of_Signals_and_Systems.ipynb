{
"cells": [
 {
		   "cell_type": "markdown",
	   "metadata": {},
	   "source": [
       "# Chapter 7: Laplace Transform Analysis of Signals and Systems"
	   ]
	},
{
		   "cell_type": "markdown",
		   "metadata": {},
		   "source": [
			"## Example 7.1_1: Find_the_laplace_transform_and_Roc_of_the_following_signal.sce"
		   ]
		  },
  {
"cell_type": "code",
	   "execution_count": null,
	   "metadata": {
	    "collapsed": true
	   },
	   "outputs": [],
"source": [
"//Example 7.1.1\n",
"//Find the laplace transform and Roc of the following signal\n",
"clc;\n",
"close;\n",
"syms t;\n",
"a=5;\n",
" x=exp(-a*t);\n",
"b=6;c=7;\n",
"s=b+c*%i;\n",
"X=integrate((exp(-(a+s)*t)),'t',0,%inf);\n",
"disp(X);\n",
"disp(real(s));\n",
"disp('Since real(s)>-a,so the integral converges');\n",
""
   ]
   }
,
{
		   "cell_type": "markdown",
		   "metadata": {},
		   "source": [
			"## Example 7.11: find_the_laplace_transform.sce"
		   ]
		  },
  {
"cell_type": "code",
	   "execution_count": null,
	   "metadata": {
	    "collapsed": true
	   },
	   "outputs": [],
"source": [
"//Example 7.11\n",
"//Find the laplace transform .\n",
"clc;\n",
"t=-10:.01:10;\n",
"for i=1:length(t)\n",
"    if t(i)>=0 then\n",
"        x(i)=exp(-2.*t(i))*sin(2*t(i));\n",
"    else\n",
"        x(i)=0;\n",
"    end\n",
"end\n",
"s=%s;\n",
"numfs=2;\n",
"denfs=(s+2)^2+4;\n",
"fs=syslin('c',numfs/denfs);\n",
"fs1=csim('impulse',t,fs);\n",
"disp(fs);\n",
"f=scf(0);\n",
"subplot(2,1,1);\n",
"plot2d(t,x,2);\n",
"xtitle('Phrasing');\n",
"xgrid;\n",
"subplot(2,1,2);\n",
"plot2d(t,fs1,1);\n",
"xtitle('Solution');\n",
"xgrid;\n",
"xs2jpg(0, 'problem109-plot-a.jpg');"
   ]
   }
,
{
		   "cell_type": "markdown",
		   "metadata": {},
		   "source": [
			"## Example 7.1_2: Find_the_laplace_transform_and_Roc_of_the_following_signal.sce"
		   ]
		  },
  {
"cell_type": "code",
	   "execution_count": null,
	   "metadata": {
	    "collapsed": true
	   },
	   "outputs": [],
"source": [
"//Example 7_1_2\n",
"//Find the laplace transform and Roc of the following signal.\n",
"clc;\n",
"t=-10:.01:10;\n",
"a=4;\n",
"for i=1:length(t)\n",
"    if t(i)>0 then\n",
"        x(i)=0;\n",
"    else\n",
"        x(i)=-exp(-a*t(i));\n",
"    end\n",
"end\n",
"s=%s;\n",
"numfs=1;\n",
"denfs=s+.04;\n",
"fs=syslin('c',numfs/denfs);\n",
"fs1=csim('impulse',t,fs);\n",
"f=scf(0);\n",
"subplot(2,1,1);\n",
"plot2d(t,x,2);\n",
"xtitle('Phrasing');\n",
"xgrid;\n",
"subplot(2,1,2);\n",
"plot2d(t,fs1,1);\n",
"xtitle('Solution');\n",
"xgrid;\n",
"disp(fs);\n",
"disp('As  real(s)<-a,so the integral converges for real(s)<-a');\n",
"xs2jpg(0, 'EX7_1_2-plot-a.jpg');"
   ]
   }
,
{
		   "cell_type": "markdown",
		   "metadata": {},
		   "source": [
			"## Example 7.16: Find_the_laplace_transform_of_the_following_signals.sce"
		   ]
		  },
  {
"cell_type": "code",
	   "execution_count": null,
	   "metadata": {
	    "collapsed": true
	   },
	   "outputs": [],
"source": [
"//Example7.16.1\n",
"//Find the laplace transform .\n",
"clc;\n",
"s=%s;t=-5:5;\n",
"numfs=s^2+4*s+3;\n",
"denfs=(s^2+4*s+5)^2;\n",
"fs=syslin('c',numfs/denfs);\n",
"fs1=csim('impulse',t,fs);\n",
"plot2d(t,fs1,1);\n",
"xtitle('Solution');\n",
"xgrid;\n",
"disp(fs);\n",
"//Example7.16.2\n",
"//Find the laplace transform .\n",
"clc;\n",
"s=%s;t=-5:5;\n",
"numfs=s+3;\n",
"denfs=(s^2+6*s+10);\n",
"fs=syslin('c',numfs/denfs);\n",
"fs1=csim('impulse',t,fs);\n",
"f=scf(0);\n",
"plot2d(t,fs1,1);\n",
"xtitle('Solution');\n",
"xgrid;\n",
"xs2jpg(0, 'EX7_16_2-plot-a.jpg');\n",
"disp(fs);\n",
"//Example7.16.3\n",
"//Find the laplace transform .\n",
"clc;\n",
"s=%s;t=-5:5;\n",
"numfs=(s+2)^2;\n",
"denfs=(s^2+4*s+5)^2;\n",
"fs=syslin('c',numfs/denfs);\n",
"fs1=csim('impulse',t,fs);\n",
"plot2d(t,fs1,1);\n",
"xtitle('Solution');\n",
"xgrid;\n",
"disp(fs);\n",
"\n",
"\n",
""
   ]
   }
,
{
		   "cell_type": "markdown",
		   "metadata": {},
		   "source": [
			"## Example 7.22: Find_the_laplace_transform.sce"
		   ]
		  },
  {
"cell_type": "code",
	   "execution_count": null,
	   "metadata": {
	    "collapsed": true
	   },
	   "outputs": [],
"source": [
"//Example 7.22\n",
"//Find the laplace transform .\n",
"clc;\n",
"t=-10:.01:10;\n",
"for i=1:length(t)\n",
"    y(i)=exp(-t(i))-2*exp(-2*t(i))+exp(-3*t(i));\n",
"    x(i)=exp(-0.5*t(i));\n",
"end\n",
"s=%s;\n",
"numfs1=1;\n",
"denfs1=s+0.5;\n",
"fs=syslin('c',numfs1/denfs1);\n",
"numfs2=2;\n",
"denfs2=(s+1)*(s+2)*(s+3);\n",
"fs1=syslin('c',numfs2/denfs2);\n",
"hs=fs1/fs;\n",
"hs1=csim('impulse',t,hs);\n",
"subplot(3,1,1);\n",
"plot2d(t,x,2);\n",
"xtitle('Phrasing');\n",
"xgrid;\n",
"subplot(3,1,2);\n",
"plot2d(t,y,3);\n",
"xtitle('Phrasing');\n",
"xgrid;\n",
"subplot(3,1,3);\n",
"plot2d(t,hs1,1);\n",
"xtitle('Solution');\n",
"xgrid;\n",
"disp(fs,'fs=:');\n",
"disp(fs1,'fs1=:');\n",
"disp(hs,'hs=:');"
   ]
   }
,
{
		   "cell_type": "markdown",
		   "metadata": {},
		   "source": [
			"## Example 7.2: Find_the_laplace_transform_and_Roc_of_the_following_signal.sce"
		   ]
		  },
  {
"cell_type": "code",
	   "execution_count": null,
	   "metadata": {
	    "collapsed": true
	   },
	   "outputs": [],
"source": [
"//Example 7.2\n",
"//Find the laplace transform and Roc of the following signal\n",
"clc;\n",
"close;\n",
"syms t;\n",
" x=exp(-3*t)+exp(-2*t);\n",
"b=6;c=7;\n",
"s=b+c*%i;\n",
"X=integrate((exp(-(3+s)*t))+(exp(-(2+s)*t)),'t',0,%inf);\n",
"disp(X); \n",
"disp(real(s));\n",
"disp('Since real(s)>-2,so the integral converges');"
   ]
   }
,
{
		   "cell_type": "markdown",
		   "metadata": {},
		   "source": [
			"## Example 7.3: Find_the_laplace_transform_and_Roc_of_the_following_signal.sce"
		   ]
		  },
  {
"cell_type": "code",
	   "execution_count": null,
	   "metadata": {
	    "collapsed": true
	   },
	   "outputs": [],
"source": [
"//Example 7.3\n",
"//Find the laplace transform and Roc of the following signal\n",
"clc;\n",
"close;\n",
"syms t;\n",
"a=3;b1=-8;\n",
" x1=exp(-a*t);\n",
"b=6;c=7;\n",
"s=b+c*%i;\n",
"X1=integrate((exp(-(a+s)*t)),'t',0,%inf);\n",
"x2=exp(-2*t);\n",
"X2=integrate((exp(-(b1+s)*t)),'t',-%inf,0);\n",
"disp(X1);\n",
" disp(X2);\n",
"X=X1+X2;disp(X);\n",
"disp(real(s));\n",
"disp('Since -a< real(s)>-b1,so the integral converges');"
   ]
   }
,
{
		   "cell_type": "markdown",
		   "metadata": {},
		   "source": [
			"## Example 7.4: Find_the_laplace_transform.sce"
		   ]
		  },
  {
"cell_type": "code",
	   "execution_count": null,
	   "metadata": {
	    "collapsed": true
	   },
	   "outputs": [],
"source": [
"//Example 7.4\n",
"//Find the laplace transform \n",
"clc;\n",
"close;\n",
"syms t;\n",
"b=4;\n",
" a=2;c=1;\n",
"s=a+c*%i;\n",
"X1=integrate((exp(-(b+s)*t)),'t',0,%inf);\n",
"X2=integrate((exp(-(s-b)*t)),'t',-%inf,0);\n",
"disp(X1);\n",
" disp(X2);\n",
"X=X1+X2;disp(X)\n",
"disp(real(s));\n",
"disp('Since -b< real(s)<b,so the integral converges');"
   ]
   }
,
{
		   "cell_type": "markdown",
		   "metadata": {},
		   "source": [
			"## Example 7.5: Find_the_laplace_transform_of_the_following_signal.sce"
		   ]
		  },
  {
"cell_type": "code",
	   "execution_count": null,
	   "metadata": {
	    "collapsed": true
	   },
	   "outputs": [],
"source": [
"//Example 7.5.2\n",
"//Find the laplace transform of the following signal.\n",
"clc;\n",
"close;\n",
"t=-10:.01:10;\n",
"for i=1:length(t)\n",
"    if t(i)>=0 then\n",
"        x(i)=1;\n",
"    else\n",
"        x(i)=0;\n",
"    end\n",
"end\n",
"s=%s;\n",
"numfs=1;\n",
"denfs=s;\n",
"fs=syslin('c',numfs/denfs);\n",
"fs1=csim('impulse',t,fs);\n",
"disp(fs);\n",
"f=scf(0);\n",
"subplot(2,1,1);\n",
"plot2d(t,x,2);\n",
"xtitle('Phrasing');\n",
"xgrid;\n",
"subplot(2,1,2);\n",
"plot2d(t,fs1,1);\n",
"xtitle('solution');\n",
"xgrid;\n",
"xs2jpg(0, 'EX7_5-plot-a.jpg');"
   ]
   }
,
{
		   "cell_type": "markdown",
		   "metadata": {},
		   "source": [
			"## Example 7.6: Find_the_laplace_transform.sce"
		   ]
		  },
  {
"cell_type": "code",
	   "execution_count": null,
	   "metadata": {
	    "collapsed": true
	   },
	   "outputs": [],
"source": [
"//Example 7.6\n",
"//Find the laplace transform \n",
"clc;\n",
"t=-5:.05:5;\n",
"w=2*%pi;\n",
"x=cos(w*t);\n",
"s=%s;\n",
"numfs=s;\n",
"denfs=s^2+w^2;\n",
"fs=syslin('c',numfs/denfs);\n",
"disp(fs);\n",
"fs1=csim('impulse',t,fs);\n",
"f=scf(0);\n",
"subplot(2,1,1);\n",
"plot2d(t,x,2);\n",
"xtitle('Phrasing');\n",
"xgrid;\n",
"subplot(2,1,2);\n",
"plot2d(t,fs1,1);\n",
"xtitle('Solution');\n",
"xgrid;\n",
"xs2jpg(0, 'EX7_6-plot-a.jpg');\n",
""
   ]
   }
,
{
		   "cell_type": "markdown",
		   "metadata": {},
		   "source": [
			"## Example 7.7: Find_the_laplace_transform_of_the_following_signal.sce"
		   ]
		  },
  {
"cell_type": "code",
	   "execution_count": null,
	   "metadata": {
	    "collapsed": true
	   },
	   "outputs": [],
"source": [
"//Example 7.7.1\n",
"//Find the laplace transform of the following.\n",
"clc;\n",
"close;\n",
"syms t,;\n",
" x=1;\n",
" a=2;c=1;\n",
" s=a+c*%i;\n",
"X=integrate((exp(-s*t)),'t',2,%inf);\n",
" disp(X);\n",
"//Example 7.7.2\n",
"//Find the laplace transform .\n",
"clc;\n",
"t=-10:.01:10;\n",
"for i=1:length(t)\n",
"    if t(i)>=0 then\n",
"        x(i)=(t(i)^2)*exp(-2*t(i));\n",
"    else\n",
"        x(i)=0;\n",
"    end\n",
"end\n",
"s=%s;\n",
"numfs=2;\n",
"denfs=(s+2)^3;\n",
"fs=syslin('c',numfs/denfs);\n",
"fs1=csim('impulse',t,fs);\n",
"disp(fs);\n",
"f=scf(0);\n",
"subplot(2,1,1);\n",
"plot2d(t,x,2);\n",
"xtitle('Phrasing');\n",
"xgrid;\n",
"subplot(2,1,2);\n",
"plot2d(t,fs1,1);\n",
"xtitle('Solution');\n",
"xgrid;\n",
"xs2jpg(0, 'EX7_7_2-plot-a.jpg');\n",
"\n",
"\n",
""
   ]
   }
,
{
		   "cell_type": "markdown",
		   "metadata": {},
		   "source": [
			"## Example 7.8: Find_the_laplace_transform.sce"
		   ]
		  },
  {
"cell_type": "code",
	   "execution_count": null,
	   "metadata": {
	    "collapsed": true
	   },
	   "outputs": [],
"source": [
"//Example7.8\n",
"//Find the laplace transform .\n",
"clc;\n",
"s=%s;t=-10:10;\n",
"numfs=2*s;\n",
"denfs=s^2-8;\n",
"fs=syslin('c',numfs/denfs);\n",
"fs1=csim('impulse',t,fs);\n",
"f=scf(0);\n",
"plot2d(t,fs1,1);\n",
"xtitle('Solution');\n",
"xgrid;\n",
"xs2jpg(0, 'problem110-plot-a.jpg')\n",
"disp(fs,'fs=');"
   ]
   }
],
"metadata": {
		  "kernelspec": {
		   "display_name": "Scilab",
		   "language": "scilab",
		   "name": "scilab"
		  },
		  "language_info": {
		   "file_extension": ".sce",
		   "help_links": [
			{
			 "text": "MetaKernel Magics",
			 "url": "https://github.com/calysto/metakernel/blob/master/metakernel/magics/README.md"
			}
		   ],
		   "mimetype": "text/x-octave",
		   "name": "scilab",
		   "version": "0.7.1"
		  }
		 },
		 "nbformat": 4,
		 "nbformat_minor": 0
}
