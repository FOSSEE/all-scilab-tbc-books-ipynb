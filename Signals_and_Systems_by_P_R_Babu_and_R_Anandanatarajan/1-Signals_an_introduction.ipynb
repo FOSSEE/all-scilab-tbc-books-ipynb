{
"cells": [
 {
		   "cell_type": "markdown",
	   "metadata": {},
	   "source": [
       "# Chapter 1: Signals an introduction"
	   ]
	},
{
		   "cell_type": "markdown",
		   "metadata": {},
		   "source": [
			"## Example 1.12: Check_whether_the_given_signal_is_periodic_or_not.sce"
		   ]
		  },
  {
"cell_type": "code",
	   "execution_count": null,
	   "metadata": {
	    "collapsed": true
	   },
	   "outputs": [],
"source": [
"//Example 1.12<i>\n",
"//check whether the given signal is periodic or not\n",
"clc;\n",
"t=-5:.01:5;\n",
"x=%i*(exp(%i*5*t));\n",
"subplot(311)\n",
"plot(t,x);\n",
"disp('(a)This shows that the given signal is periodic with priod(.4*%pi)');\n",
"//Example 1.12<ii>\n",
"//Show whether the given signal is periodic or not\n",
"clc;\n",
"t=-1/5:0.001:1/5;\n",
"x=sin(50*%pi*t);\n",
"subplot(312)\n",
"plot(t,x);\n",
"disp('(b)the plotting shows that the given signal is periodic with period 1/25');\n",
"//Example 1.12.<iii>\n",
"//Check whether the given signal is periodic or not\n",
"clc;\n",
"t=-1:0.01:1;\n",
"x=20*cos((10*%pi*t)+(%pi/6));\n",
"subplot(313)\n",
"plot(t,x);\n",
"disp('(c)Plot shows that the given signal is periodic with period .2');\n",
"\n",
"disp('In the figure we have the plots of part (a) - (c) in clockwise order strating from the top left')\n",
"\n",
"\n",
"\n",
"\n",
""
   ]
   }
,
{
		   "cell_type": "markdown",
		   "metadata": {},
		   "source": [
			"## Example 1.13: Check_whether_the_given_signal_is_periodic_or_not.sce"
		   ]
		  },
  {
"cell_type": "code",
	   "execution_count": null,
	   "metadata": {
	    "collapsed": true
	   },
	   "outputs": [],
"source": [
"//Example 1.13<i>\n",
"//Check whether the given signal is periodic or not\n",
"clc;\n",
"t=-10:.01:10;\n",
"y=2*cos(10*t+1)-sin(4*t-1);\n",
"subplot(221)\n",
"plot(t,y);\n",
"disp('(a) The following signal is periodic with period %pi' );\n",
"//Example 1.13<ii>\n",
"//Show whether the given signal is periodic or not\n",
"clc;\n",
"t=-1:.01:1;\n",
"x=cos(60*%pi*t)+sin(50*%pi*t);\n",
"subplot(222)\n",
"plot(t,x);\n",
"disp('(b)Ther following figure shows that the given signal is periodic with the following period');\n",
"//Example1.13<iv>\n",
"//Check whether the given signal is periodic or not\n",
"clc;\n",
"t=-10:0.01:10;\n",
"x=3*cos(4*t)+2*sin(%pi*t);\n",
"subplot(223)\n",
"plot(t,x);\n",
"disp('(c)The signal is not periodic since ratio of two time periods is %pi/4 which is not rational number');\n",
"//Example 1.13<V>\n",
"//Check whether the given signal is periodic or not\n",
"clc;\n",
"t=0:10;\n",
"for i=1:length(t)\n",
"    u(i)=1;\n",
"end\n",
"x=u(i)-(1/2);\n",
"subplot(224)\n",
"plot(t,x);\n",
"disp('(d)The signal is not periodic as seen from figure');\n",
"\n",
"disp('In the figure we have the plots of part (a) - (d) in clockwise order strating from the top left')\n",
""
   ]
   }
,
{
		   "cell_type": "markdown",
		   "metadata": {},
		   "source": [
			"## Example 1.14: Check_whether_the_given_signal_is_periodic_or_not.sce"
		   ]
		  },
  {
"cell_type": "code",
	   "execution_count": null,
	   "metadata": {
	    "collapsed": true
	   },
	   "outputs": [],
"source": [
"//Example 1.14<i>\n",
"//Find whether the following signal is periodic or not\n",
"clc;\n",
"n=-10:10;\n",
"x=cos(2*%pi*n);\n",
"subplot(321)\n",
"plot2d(n,x);\n",
"f=(2*%pi)/(2*%pi);//where f is the no of cycles/sample.\n",
"N=1/f;//where N is the no of samples per cycle.\n",
"disp('samples',N,'(a)The given signal is periodic');\n",
"//Example 1.14<ii>\n",
"//Find whether the following signal is periodic or not.\n",
"clc;\n",
"n=-20:20;\n",
"x=exp(%i*6*%pi*n);\n",
"subplot(322)\n",
"plot2d3(n,x);\n",
"f=(6*%pi)/(2*%pi);//where f is the no of cycles per sample.\n",
"N=1/f;//where N is the no of samples per cycle.\n",
"disp('samples',N,'(b)the given signal is periodic');\n",
"//example 1.14<1v>\n",
"//Find whether the given signal is periodic or not\n",
"clc;\n",
"n=-30:30;\n",
"x=exp(%i*(2*%pi/3)*n)+exp(%i*(3*%pi/4)*n);\n",
"subplot(323)\n",
"plot2d3(n,x);\n",
"disp('(c)The given signal is periodic');\n",
"//Example 1.14<v>\n",
"//Find whether the given signal is periodic or not;\n",
"clc;\n",
"n=-20:20;\n",
"x=exp(%i*(3*%pi/5)*(n+1/2));\n",
"subplot(324)\n",
"plot(n,x);\n",
"f=(3*%pi/5)/(2*%pi);//where f is the no of cycles per sample.\n",
"N=1/f;//where n is the no of samples per cycle.\n",
"disp('samples',N,'(d)the given signal is periodic');\n",
"//Example1.14<vi>\n",
"//whether the given signal is periodic or not\n",
"clc;\n",
"n=-40:40;\n",
"x=12*cos(20*n);\n",
"subplot(325)\n",
"plot(n,x);\n",
"f=20/(2*%pi);//where f is the no of cycles per sample\n",
"N=1/f;//where n is the no of sample per cycle\n",
"disp('samples',N,'(e)the given signal is not peridic');\n",
"\n",
"disp('In the figure we have the plots of part (a) - (d) in clockwise order strating from the top left');\n",
"\n",
""
   ]
   }
,
{
		   "cell_type": "markdown",
		   "metadata": {},
		   "source": [
			"## Example 1.15: Find_the_even_and_odd_components_of_the_signals.sce"
		   ]
		  },
  {
"cell_type": "code",
	   "execution_count": null,
	   "metadata": {
	    "collapsed": true
	   },
	   "outputs": [],
"source": [
"//Example 1.15<i>\n",
"//Find the even and odd components of the signal\n",
"clc;\n",
"clear;\n",
"t=-10:.1:10;\n",
"for j=1:length(t)\n",
"    i=t(j);\n",
"    x(j)=cos(i)+sin(i)+cos(i)*sin(i);\n",
"    y(j)=cos(-i)+sin(-i)+cos(-i)*sin(-i);\n",
"    e(j)=(1/2)*(x(j)+y(j));   \n",
"    o(j)=(1/2)*(x(j)-y(j));\n",
"end\n",
"disp('In the plot even component is in red and odd component is in blue')\n",
"plot(t,e,'red')\n",
"plot(t,o,'blue')\n",
"//Example 1.15<ii>\n",
"//Find the even and odd components of the signal\n",
"clc;\n",
"clear;\n",
"n=-2:2;\n",
"c=3;\n",
"x=[-2 1 2 -1 3];\n",
"for j=1:length(n)\n",
"    i=n(j);\n",
"    xe(j)=(1/2)*(x(c+i)+x(c-i));\n",
"    xo(j)=(1/2)*(x(c+i)-x(c-i));\n",
"end\n",
"xe=[xe(c-2),xe(c-1),xe(c+0),xe(c+1),xe(c+2)];\n",
"xo=[xo(c-2),xo(c-1),xo(c+0),xo(c+1),xo(c+2)];\n",
"\n",
"disp(xo,'odd component')\n",
"disp(xe,'even component')\n",
"\n",
""
   ]
   }
,
{
		   "cell_type": "markdown",
		   "metadata": {},
		   "source": [
			"## Example 1.16: Determine_power_and_rms_value_of_the_following_signal.sce"
		   ]
		  },
  {
"cell_type": "code",
	   "execution_count": null,
	   "metadata": {
	    "collapsed": true
	   },
	   "outputs": [],
"source": [
"//Example 1.16\n",
"//Determine the power of the signal\n",
"clc;\n",
"A=2;\n",
"theta=0;\n",
"t=0:0.001:10;\n",
"y=A*cos(2*%pi*t+theta);\n",
"P=(integrate('A^2*(cos(2*%pi*t))^2','t',0,2*%pi))/(2*%pi);\n",
"disp(P,'power of the signal is:');\n",
"y=round(P);\n",
"disp(y,'The given signal is power signal as power is finite');"
   ]
   }
,
{
		   "cell_type": "markdown",
		   "metadata": {},
		   "source": [
			"## Example 1.17: Determine_power_and_rms_value_of_the_signals.sce"
		   ]
		  },
  {
"cell_type": "code",
	   "execution_count": null,
	   "metadata": {
	    "collapsed": true
	   },
	   "outputs": [],
"source": [
"//Example 1.17<i>\n",
"//Determine the power and the rms value of the signal\n",
"clc;\n",
"t=0:0.001:10;\n",
"y=5*cos(50*t+%pi/3);\n",
"P=(integrate('5^2*(cos(50*t))^2','t',0,2*%pi))/(2*%pi);\n",
"rmsvalue=sqrt(P);\n",
"disp(P,'The power of the given signal is:');\n",
"disp(rmsvalue,'the rms value is:');\n",
"//Example 1.17<ii>\n",
"//Determine the power amd rms value of the signal\n",
"clc;\n",
"t=0:0.001:10;\n",
"x1=10*sin(50*t+%pi/4);\n",
"x2=16*cos(100*t+%pi/3);\n",
"P1=(integrate('10^2*(sin(50*t))^2','t',0,2*%pi))/(2*%pi);\n",
"P2=(integrate('16^2*(cos(100*t))^2','t',0,2*%pi))/(2*%pi);\n",
"P=P1+P2;\n",
"rmsvalue=sqrt(P);\n",
"disp(P,'The power of the given signal is:');\n",
"disp(rmsvalue,'the rms value is:');\n",
"//Example 1.17 <iii>\n",
"//Determine the power and rms value of the signal\n",
"clc;\n",
"t=0:0.001:10;\n",
"x1=5*cos(15*t);\n",
"x2=5*cos(5*t);\n",
"P1=(integrate('5^2*(cos(15*t))^2','t',0,2*%pi))/(2*%pi);\n",
"P2=(integrate('5^2*(cos(5*t))^2','t',0,2*%pi))/(2*%pi);\n",
"P=P1+P2;\n",
"rmsvalue=sqrt(P);\n",
"disp(P,'The power of the given signal is:');\n",
"disp(rmsvalue,'the rms value is:');\n",
"\n",
""
   ]
   }
,
{
		   "cell_type": "markdown",
		   "metadata": {},
		   "source": [
			"## Example 1.19_a: Sketch_the_followins_signal_and_calculate_the_energy.sce"
		   ]
		  },
  {
"cell_type": "code",
	   "execution_count": null,
	   "metadata": {
	    "collapsed": true
	   },
	   "outputs": [],
"source": [
"//Example 1.19.1\n",
"//whether the signal is energy signal or power signal\n",
"clc ;\n",
" t =0:0.001:10;\n",
" y= exp (-10*t);\n",
" E= integrate ( ' ( exp(-10*t)) ^2 ' , ' t ' ,0 ,2* %pi );\n",
"disp (E, ' Energy o f the s i g n a l i s ' );\n",
" disp ( 'since the energy is finite hence it is energy signal');\n",
" figure\n",
"plot(t,y,'red');\n",
"xtitle('Required figure'); "
   ]
   }
,
{
		   "cell_type": "markdown",
		   "metadata": {},
		   "source": [
			"## Example 1.21: Sketch_the_followins_signal_and_calculate_the_energy.sce"
		   ]
		  },
  {
"cell_type": "code",
	   "execution_count": null,
	   "metadata": {
	    "collapsed": true
	   },
	   "outputs": [],
"source": [
"//Example 1.21<i>\n",
"//whether the signal is energy signal \n",
"clc ;\n",
" t =0:0.001:10;\n",
" y= exp (-3*t);\n",
" E= integrate ( ' ( exp(-3*t)) ^2 ' , ' t ' ,0 ,2* %pi );\n",
"disp (E, ' Energy o f the s i g n a l i s ' );\n",
" disp ( 'since the energy is finite , hence it is energy signal');\n",
" //example1.21<iii>\n",
"//show whethet x(t)=cost is a power or energy signal\n",
"clc;\n",
"t=0:0.01:100;\n",
"x=cos(t);\n",
"P=(integrate('cos(t)^2','t',0,2*%pi))/(2*%pi);\n",
"disp(P,'The power of the signal is:');\n",
"E=(integrate('cos(t)^2','t',0,2*%pi));\n",
"disp(E,'The energy is:');\n",
"disp('As t tends to infinity energy also tends to iinfinity but power remains finite.hence it is power signal');\n",
"//Example 1.21<iv>\n",
"//Find the energy of the signal\n",
"clc;\n",
"E=0;//initialize\n",
"for n=0:200\n",
"    x(n+1)=(1/3)^n;\n",
"end\n",
"for n=0:200\n",
"    E=E+x(n+1)^2;\n",
"end\n",
"if E<%inf then\n",
"    disp(E,'The energy of the signal is;');\n",
"else disp('The given signal is not energy signal');\n",
"end\n",
"\n",
""
   ]
   }
,
{
		   "cell_type": "markdown",
		   "metadata": {},
		   "source": [
			"## Example 1.22: Find_which_of_the_following_signal_is_causal_or_non_causal.sce"
		   ]
		  },
  {
"cell_type": "code",
	   "execution_count": null,
	   "metadata": {
	    "collapsed": true
	   },
	   "outputs": [],
"source": [
"//Example 1.22<i>\n",
"//Find whether the given signal is causal or not.\n",
"clear all;\n",
"clc;\n",
"t=-10:10;\n",
"a=.5;\n",
"for i=1:length(t)\n",
"    if t(i)<0 then\n",
"        x1(i)=0;\n",
"    else\n",
"        x1(i)=exp(a.*t(i));\n",
"    end\n",
"end\n",
"causal=%t;\n",
"for i=1:length(t)\n",
"    if t(i)<0 & x1(i)~=0 then\n",
"        causal=%f;\n",
"    end\n",
"end\n",
"disp(causal,'The statement that the system is causal is:');\n",
"//Example 1.22<ii>\n",
"//Find whether the given signal is causal or not.\n",
"clear all;\n",
"clc;\n",
"t=-10:10;\n",
"for i=1:length(t)\n",
"    if t(i)>0 then\n",
"        x2(i)=0;\n",
"    else\n",
"        x2(i)=exp(-2.*t(i));\n",
"    end\n",
"end\n",
"causal=%t;\n",
"for i=1:length(t)\n",
"    if t(i)<0 & x2(i)~=0 then\n",
"        causal=%f;\n",
"    end\n",
"end\n",
"disp(causal,'The statement that the system is causal is:');\n",
"//Example 1.22<iii>\n",
"//Find whether the given signal is causal or not.\n",
"clear all;\n",
"clc;\n",
"t=-10:10;\n",
"c=2;\n",
"for i=1:length(t)\n",
"    x3(i)=sin(c.*t(i));\n",
"    end\n",
"causal=%t;\n",
"for i=1:length(t)\n",
"    if t(i)<0 & x3(i)~=0 then\n",
"        causal=%f;\n",
"    end\n",
"end\n",
"disp(causal,'The statement that the system is causal is:');\n",
"//Example 1.22<iv>\n",
"//Find whether the given signal is causal or not.\n",
"clear all;\n",
"clc;\n",
"n=-10:10;\n",
"for i=1:length(n)\n",
"    if n(i)<-3 | n(i)>2 then\n",
"        x1(i)=0;\n",
"    else\n",
"        x1(i)=1;\n",
"    end\n",
"    end\n",
"causal=%t;\n",
"for i=1:length(n)\n",
"    if n(i)<0 & x1(i)~=0 then\n",
"        causal=%f;\n",
"    end\n",
"end\n",
"disp(causal,'The statement that the system is causal is:');\n",
"//Example 1.22<v>\n",
"//Find whether the given signal is causal or not.\n",
"clear all;\n",
"clc;\n",
"n=-10:10;\n",
"for i=1:length(n)\n",
"    if  n(i)>-2 then\n",
"        x2(i)=(1/2)^n(i);\n",
"    else\n",
"        x2(i)=0;\n",
"    end\n",
"    end\n",
"causal=%t;\n",
"for i=1:length(n)\n",
"    if n(i)<0 & x2(i)~=0 then\n",
"        causal=%f;\n",
"    end\n",
"end\n",
"disp(causal,'The statement that the system is causal is:');\n",
""
   ]
   }
,
{
		   "cell_type": "markdown",
		   "metadata": {},
		   "source": [
			"## Example 1.7: Sketch_the_following_signals.sce"
		   ]
		  },
  {
"cell_type": "code",
	   "execution_count": null,
	   "metadata": {
	    "collapsed": true
	   },
	   "outputs": [],
"source": [
"//Example 1_7_<i>\n",
"//Sketch the following signal.\n",
"clc;\n",
"clear all;\n",
"t=-5:1/1000:5;\n",
"for i=1:length(t)\n",
"    if t(i)>1 then\n",
"        x(i)=0;\n",
"    else\n",
"        x(i)=1;\n",
"    end\n",
"end\n",
"f=scf(0);\n",
"plot2d(t,x);\n",
"plot(t,x,'red');\n",
"xtitle('Required figure','t','x(t)');\n",
"xgrid();\n",
"xs2jpg(0, 'problem1_7_i-plot.jpg');\n",
"//Example 1_7_<ii>\n",
"//Sketch the following signal.\n",
"clc;\n",
"t=-5:1/1000:5;\n",
"for i=1:length(t)\n",
"    if t(i)<1 then\n",
"        x(i)=0;\n",
"    else\n",
"        x(i)=1;\n",
"    end\n",
"end\n",
"for i=1:length(t)\n",
"    x1(i)=-2*x(i);\n",
"end\n",
"//figure\n",
"f=scf(0);\n",
"plot2d(t,x);\n",
"xtitle('required figure','t','x(t)');\n",
"xs2jpg(0, 'problem1.7.2-plot-a.jpg');\n",
"//figure\n",
"f=scf(1);\n",
"plot2d(t,x1);\n",
"plot(t,x1,'blue');\n",
"xtitle('Required figure','t','x1(t)');\n",
"xs2jpg(1, 'problem1.7.2-plot-b.jpg');\n",
""
   ]
   }
,
{
		   "cell_type": "markdown",
		   "metadata": {},
		   "source": [
			"## Example 1.8: Sketch_the_following_signals.sce"
		   ]
		  },
  {
"cell_type": "code",
	   "execution_count": null,
	   "metadata": {
	    "collapsed": true
	   },
	   "outputs": [],
"source": [
"//Example 1.8.<i>\n",
"//Sketch the following signal\n",
"clc;\n",
"clear all;\n",
"t=-10:.001:10;\n",
"for i=1:length(t)\n",
"    if t(i)>=-2 & t(i)<3 then\n",
"        x(i)=1;\n",
"    else\n",
"        x(i)=0;\n",
"    end\n",
"end\n",
"//figure\n",
"f=scf(0);\n",
"plot2d(t,x);\n",
"xtitle('Required figure','t','x(t)');\n",
"xs2jpg(0, 'EX1_8_1-plot.jpg');\n",
"//Example 1.8.<ii>\n",
"//Sketch the following signal.\n",
"clc;\n",
"clear all;\n",
"t=-10:.001:10;\n",
"for i=1:length(t)\n",
"    if t(i)>=0 & t(i)<=2 then\n",
"        x(i)=1;\n",
"    else\n",
"        x(i)=0;\n",
"    end\n",
"end\n",
"//figure\n",
"f=scf(0);\n",
"plot2d(t,x,1);\n",
"xtitle('Required figure','t','x(t)');\n",
"xs2jpg(0, 'EX1_8_2-plot.jpg');\n",
"\n",
"\n",
""
   ]
   }
],
"metadata": {
		  "kernelspec": {
		   "display_name": "Scilab",
		   "language": "scilab",
		   "name": "scilab"
		  },
		  "language_info": {
		   "file_extension": ".sce",
		   "help_links": [
			{
			 "text": "MetaKernel Magics",
			 "url": "https://github.com/calysto/metakernel/blob/master/metakernel/magics/README.md"
			}
		   ],
		   "mimetype": "text/x-octave",
		   "name": "scilab",
		   "version": "0.7.1"
		  }
		 },
		 "nbformat": 4,
		 "nbformat_minor": 0
}
