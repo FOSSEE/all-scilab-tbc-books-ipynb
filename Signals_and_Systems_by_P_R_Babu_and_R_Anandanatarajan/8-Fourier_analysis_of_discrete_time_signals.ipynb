{
"cells": [
 {
		   "cell_type": "markdown",
	   "metadata": {},
	   "source": [
       "# Chapter 8: Fourier analysis of discrete time signals"
	   ]
	},
{
		   "cell_type": "markdown",
		   "metadata": {},
		   "source": [
			"## Example 8.14: Find_the_convolution_of_the_signals_given_below_using_fourier_transform.sce"
		   ]
		  },
  {
"cell_type": "code",
	   "execution_count": null,
	   "metadata": {
	    "collapsed": true
	   },
	   "outputs": [],
"source": [
"\n",
"//Example 8.14\n",
"//Find the convolution of the signals given below using fourier transform\n",
"clc;\n",
"clear all;\n",
"n=-10:10;\n",
"for i=1:length(n)\n",
"    if n(i)>=0 then\n",
"        x1(i)=(1/2)^n(i);\n",
"        x2(i)=(1/3)^n(i);\n",
"    else\n",
"        x1(i)=0;\n",
"        x2(i)=0;\n",
"    end\n",
"end\n",
"subplot(3,2,1)\n",
"plot(x1,n);\n",
"xtitle('(a) x1(n)');\n",
"subplot(3,2,2)\n",
"plot(x2,n);\n",
"xtitle('(b) x2(n)');\n",
"X1=fft(x1,-1);\n",
"X2=fft(x2,-1);\n",
"subplot(3,2,3)\n",
"plot(X1,n);\n",
"xtitle('(c) X1(n)');\n",
"subplot(3,2,4)\n",
"plot(X2,n);\n",
"xtitle('(d) X2(n)');\n",
"X3=X2.*X1;\n",
"subplot(3,2,5)\n",
"plot(X3,n);\n",
"xtitle('(e) X3(n)');\n",
"x3=fft(X3,1);\n",
"disp(x3,'The result of convolution is:');\n",
"subplot(3,2,6)\n",
"plot(x3,n);\n",
"xtitle('(f) x3(n)');"
   ]
   }
,
{
		   "cell_type": "markdown",
		   "metadata": {},
		   "source": [
			"## Example 8.19: Use_fourier_transform_to_determine_the_response_of_the_following_signal.sce"
		   ]
		  },
  {
"cell_type": "code",
	   "execution_count": null,
	   "metadata": {
	    "collapsed": true
	   },
	   "outputs": [],
"source": [
"\n",
"//Example 8.19.1\n",
"//Use fourier transform to determine the response of the following signal\n",
"clc;\n",
"clear all;\n",
"n=-10:10\n",
"for i=1:length(n)\n",
"    if n(i)>=1 then\n",
"        x(i)=(3/4)^n(i);\n",
"        h(i)=(1/2)^n(i);\n",
"    else\n",
"        x(i)=0;\n",
"        h(i)=0;\n",
"    end\n",
"end\n",
"subplot(3,2,1)\n",
"plot(x,n);\n",
"xtitle('(a)x(n)');\n",
"subplot(3,2,2)\n",
"plot(h,n);\n",
"xtitle('(b)h(n)');\n",
"X=fft(x,-1);\n",
"H=fft(h,-1);\n",
"subplot(3,2,3)\n",
"plot(X,n);\n",
"xtitle('(c)X(n)');\n",
"subplot(3,2,4)\n",
"plot(H,n);\n",
"xtitle('(d)H(n)');\n",
"Y=H.*X;\n",
"subplot(3,2,5)\n",
"plot(Y,n);\n",
"xtitle('(e)Y(n)');\n",
"y=fft(Y,1);\n",
"disp(y,'The output response is:');\n",
"subplot(3,2,6)\n",
"plot(y,n);\n",
"xtitle('(f)y(n)');\n",
"\n",
"\n",
"clf()\n",
"\n",
"//Example 8.19.2\n",
"//Use fourier transform to determine the response of the following signal\n",
"clc;\n",
"clear;\n",
"n=-10:10\n",
"for i=1:length(n)\n",
"    if n(i)>=1 then\n",
"        x(i)=(-1)^n(i);\n",
"        h(i)=(1/2)^n(i);\n",
"    else\n",
"        x(i)=0;\n",
"        h(i)=0;\n",
"    end\n",
"end\n",
"subplot(3,2,1)\n",
"plot(x,n);\n",
"xtitle('x(n)');\n",
"subplot(3,2,2)\n",
"plot(h,n);\n",
"xtitle('h(n)');\n",
"X=fft(x,-1);\n",
"H=fft(h,-1);\n",
"subplot(3,2,3)\n",
"plot(X,n);\n",
"xtitle('X(n)');\n",
"subplot(3,2,4)\n",
"plot(H,n);\n",
"xtitle('H(n)');\n",
"Y=H.*X;\n",
"subplot(3,2,5)\n",
"plot(Y,n);\n",
"xtitle('Y(n)');\n",
"y=fft(Y,1);\n",
"disp(y,'The output response is:');\n",
"subplot(3,2,6)\n",
"plot(y,n);\n",
"xtitle('y(n)');\n",
"\n",
""
   ]
   }
,
{
		   "cell_type": "markdown",
		   "metadata": {},
		   "source": [
			"## Example 8.25: Find_IDFT_of_the_following_signals.sce"
		   ]
		  },
  {
"cell_type": "code",
	   "execution_count": null,
	   "metadata": {
	    "collapsed": true
	   },
	   "outputs": [],
"source": [
"//Example 8.25.1\n",
"//Find idft of the following\n",
"clc;\n",
"X=[1 1-%i*2 -1 1+%i*2];\n",
"x=fft(X,1);\n",
"disp(x);\n",
"//Example 8.25.2\n",
"//Find idft of the following\n",
"clc;\n",
"X=[1 0 1 0];\n",
"x=fft(X,1);\n",
"disp(x);"
   ]
   }
,
{
		   "cell_type": "markdown",
		   "metadata": {},
		   "source": [
			"## Example 8.26: Find_the_circular_convolution_of_two_sequences.sce"
		   ]
		  },
  {
"cell_type": "code",
	   "execution_count": null,
	   "metadata": {
	    "collapsed": true
	   },
	   "outputs": [],
"source": [
"//Example 8.26\n",
"//Find the circular convolution of two sequences\n",
"clc;\n",
"clear all;\n",
"x1=[1 2 3 4];\n",
"x2=[1 -1 2 1];\n",
"X1=fft(x1,-1);\n",
"X2=fft(x2,-1);\n",
"X3=X1.*X2;\n",
"x3=fft(X3,1);\n",
"disp(x3,'The circular convolution is:');"
   ]
   }
,
{
		   "cell_type": "markdown",
		   "metadata": {},
		   "source": [
			"## Example 8.27: Find_the_circular_convolution_of_the_following_sequences.sce"
		   ]
		  },
  {
"cell_type": "code",
	   "execution_count": null,
	   "metadata": {
	    "collapsed": true
	   },
	   "outputs": [],
"source": [
"\n",
"//Example 8.27\n",
"//Find the circular convolution of the following sequences\n",
"clc;\n",
"clear all;\n",
"x1=[1 -1 2 3];\n",
"x2=[0 1 2 3];\n",
"X1=fft(x1,-1);//To obtain fourier transform of x1, -1 is taken.\n",
"X2=fft(x2,-1);\n",
"X3=X1.*X2;\n",
"x3=fft(X3,1);//+1 to obtain inverse fourier transform.\n",
"disp(x3,'Circular convolution of the above two sequences is:');"
   ]
   }
,
{
		   "cell_type": "markdown",
		   "metadata": {},
		   "source": [
			"## Example 8.28: Find_the_linear_and_circular_convolution.sce"
		   ]
		  },
  {
"cell_type": "code",
	   "execution_count": null,
	   "metadata": {
	    "collapsed": true
	   },
	   "outputs": [],
"source": [
"//Example 8.28\n",
"//Find the linear and circular convolution\n",
"clc;\n",
"clear all;\n",
"x1=[1 2 3 4];\n",
"x2=[2 3 4 1];\n",
"//Linear convolution\n",
"z=convol(x1,x2);\n",
"disp(z,'The linear convolution is:');\n",
"//To obtain circular convolution\n",
"X1=fft(x1,-1);\n",
"X2=fft(x2,-1);\n",
"X3=X1.*X2;\n",
"x3=fft(X3,1);\n",
"disp(x3,'The circular convolution is:');"
   ]
   }
,
{
		   "cell_type": "markdown",
		   "metadata": {},
		   "source": [
			"## Example 8.29: Find_DFT_of_the_following_sequences.sce"
		   ]
		  },
  {
"cell_type": "code",
	   "execution_count": null,
	   "metadata": {
	    "collapsed": true
	   },
	   "outputs": [],
"source": [
"//Find dft of the following sequence\n",
"//Example 8.29.1\n",
"clc;\n",
"n=-10:10;\n",
"for i=1:length(n)\n",
"    if n(i)==0 then\n",
"        x(i)=1;\n",
"    else\n",
"        x(i)=0;\n",
"    end\n",
"end\n",
"y=fft(x,-1);\n",
"disp(y,'The dft of the sequence is:');\n",
"//Find dft of the following sequence\n",
"//Example 8.29.2\n",
"clc;\n",
"n=-10:10;n0=2;\n",
"for i=1:length(n)\n",
"    if n(i)==n0 then\n",
"        x(i)=1;\n",
"    else\n",
"        x(i)=0;\n",
"    end\n",
"end\n",
"y=fft(x,-1);\n",
"disp(y,'The dft of the sequence is:');\n",
"//Find dft of the following sequence\n",
"//Example 8.29.3\n",
"clc;\n",
"n=-10:10;a=2;\n",
"for i=1:length(n)\n",
"   x(i)=a^n(i);\n",
"end\n",
"y=fft(x,-1);\n",
"disp(y,'The dft of the sequence is:');\n",
""
   ]
   }
],
"metadata": {
		  "kernelspec": {
		   "display_name": "Scilab",
		   "language": "scilab",
		   "name": "scilab"
		  },
		  "language_info": {
		   "file_extension": ".sce",
		   "help_links": [
			{
			 "text": "MetaKernel Magics",
			 "url": "https://github.com/calysto/metakernel/blob/master/metakernel/magics/README.md"
			}
		   ],
		   "mimetype": "text/x-octave",
		   "name": "scilab",
		   "version": "0.7.1"
		  }
		 },
		 "nbformat": 4,
		 "nbformat_minor": 0
}
