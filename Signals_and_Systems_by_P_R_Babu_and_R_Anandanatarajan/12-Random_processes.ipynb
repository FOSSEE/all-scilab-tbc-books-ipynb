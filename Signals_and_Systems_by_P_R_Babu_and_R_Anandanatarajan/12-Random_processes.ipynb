{
"cells": [
 {
		   "cell_type": "markdown",
	   "metadata": {},
	   "source": [
       "# Chapter 12: Random processes"
	   ]
	},
{
		   "cell_type": "markdown",
		   "metadata": {},
		   "source": [
			"## Example 12.10: find_the_required_probabilities.sce"
		   ]
		  },
  {
"cell_type": "code",
	   "execution_count": null,
	   "metadata": {
	    "collapsed": true
	   },
	   "outputs": [],
"source": [
"//Example 12.10\n",
"//find the required probabilities.\n",
"disp('P(Plant shut down)=P(S1&S2&S3 is offline)or P(S1&S2 is offline)or P(S1&S3 are offline)=')\n",
"p=(0.01)*(0.03)*(0.05)+(0.01)*(0.03)*(1-0.05)+(0.01)*(1-0.03)*(0.05)\n",
"disp('(0.01)*(0.03)*(0.05)+(0.01)*(0.03)*(1-0.05)+(0.01)*(1-0.03)*(0.05)=')\n",
"disp(p)\n",
"disp(1-p,'P(Plant on line)=1-P(Plant shut down)=')\n",
"disp('P(plant is online/S1 failed)=')\n",
"disp((0.01)*(1-0.03)*(1-0.05)/0.01,'P(plant is online and S1 failed)/P(S1 failed)=(0.01)*(1-0.03)*(1-0.05)/0.01')"
   ]
   }
,
{
		   "cell_type": "markdown",
		   "metadata": {},
		   "source": [
			"## Example 12.11: Find_the_required_probabilities.sce"
		   ]
		  },
  {
"cell_type": "code",
	   "execution_count": null,
	   "metadata": {
	    "collapsed": true
	   },
	   "outputs": [],
"source": [
"//Exampple 12.11\n",
"//Find the required probabilities.\n",
"disp(0.45,'Let SS be the event that Ramesh pass in Signal and systems, P(SS)=')\n",
"disp(0.32,'Let RP be the event that Ramesh pass in Random process P(RP)=')\n",
"disp(0.15,'P(passed in both)=')\n",
"disp('P(passed in either one subject)=P(SS U RP)')\n",
"disp(0.45+0.32-0.15,'P(SS)+P(RP)-P(passed in both)=0.45+0.32-0.15=')\n",
"disp(1-0.62,'P(passed in neither of the subjects)=1*P(passed in either subjects)=1-0.62=')\n",
"disp('P( passed in one subject)=');\n",
"disp(0.45*0.68+0.55*0.32,'P(SS)*P(failed in RP)+P(failed in SS)*P(RP)=(0.45)*(1-0.32)+(1-0.45)*(0.32)=')\n",
"disp(1-0.45,'P(failed in SS)=1-P(SS)=1-0.45')"
   ]
   }
,
{
		   "cell_type": "markdown",
		   "metadata": {},
		   "source": [
			"## Example 12.12: Find_the_required_probabilities.sce"
		   ]
		  },
  {
"cell_type": "code",
	   "execution_count": null,
	   "metadata": {
	    "collapsed": true
	   },
	   "outputs": [],
"source": [
"//Example 12.12\n",
"//Find the required probabilities.\n",
"disp('P(A occurs exactly k times in N trials)=(n C K)[P(A)]^k[1-P(A)]^(N-k)')\n",
"disp('P(A)=1/6  P(~A)=5/6')\n",
"funcprot(0)\n",
"function c = combination ( n , r )\n",
"c = prod ( n : -1 : n-r+1 )/ prod (1:r)\n",
"endfunction\n",
"disp('P( 3 shows up exactly twice in 6 trials)=(6 c 2)*(1/6)^2*(5/6)^4=')\n",
"p=combination(6,2)*(1/6)^2*(5/6)^4;\n",
"disp(p);\n",
"disp('P(4 shows up atleast twice)=1-P(4 does not shows up)-P(4 shows up once)')\n",
"disp('P(4 does not show up)=(6 c 0)*(1/6)^0*(5/6)^6=')\n",
"p=combination(6,0)*(1/6)^0*(5/6)^6;\n",
"disp(p);\n",
"disp('P(4 shows up once)=(6 c 1)*(1/6)^1*(5/6)^5=')\n",
"p=combination(6,1)*(1/6)^1*(5/6)^5;\n",
"disp(p);\n",
"disp('P(4 shows up atleast twice)=1-(5/6)^6-(5/6)^5=')\n",
"p=1-(5/6)^6-(5/6)^5;\n",
"disp(p);"
   ]
   }
,
{
		   "cell_type": "markdown",
		   "metadata": {},
		   "source": [
			"## Example 12.13: Find_the_required_probabilities.sce"
		   ]
		  },
  {
"cell_type": "code",
	   "execution_count": null,
	   "metadata": {
	    "collapsed": true
	   },
	   "outputs": [],
"source": [
"//Example 12.13\n",
"//Find the required probabilities.\n",
"disp('P(X>0.6)=1-F(0.6)=')\n",
"disp(%e^(-1.2),'1-(1-e^(-1.2))=e^(-1.2)=')\n",
"disp(1-%e^(-0.5),'P(X<=0.25)=(1-e^(2*(-1.2))=1-e^(-0.5)=')\n",
"disp('P(0.4<X<=0.8)=F(0.8)-F(0.4)=')\n",
"disp((1-%e^(-1.6))-(1-%e^(-0.8)),'(1-e^(-1.6))-(1-e^(-0.8))=')\n",
""
   ]
   }
,
{
		   "cell_type": "markdown",
		   "metadata": {},
		   "source": [
			"## Example 12.14: Find_the_mean_value_of_the_current_under_following_conditions.sce"
		   ]
		  },
  {
"cell_type": "code",
	   "execution_count": null,
	   "metadata": {
	    "collapsed": true
	   },
	   "outputs": [],
"source": [
"//Example 12.14\n",
"//Find the mean value of the current under following conditions.\n",
"disp('I=Io[e^(nV)-1]')\n",
"disp('E[I]=E[Io[e^(nV)-1]]:')\n",
"Xo=0; X1=2;\n",
"X=integrate('%e^(10*X)-1','X',Xo,X1);\n",
"disp(10^(-9)*X/2,'Hence E[I]=')"
   ]
   }
,
{
		   "cell_type": "markdown",
		   "metadata": {},
		   "source": [
			"## Example 12.16: Find_the_following.sce"
		   ]
		  },
  {
"cell_type": "code",
	   "execution_count": null,
	   "metadata": {
	    "collapsed": true
	   },
	   "outputs": [],
"source": [
"//Example 12.16\n",
"//Find the following.\n",
"Xo=0;X1=1\n",
"X=integrate('2*X*((1-X)^2)','X',Xo,X1)\n",
"disp(X,'E[X]=')\n",
"Xo=0;X1=1\n",
"X2=integrate('2*X^2*((1-X)^2)','X',Xo,X1)\n",
"disp(X2,'E[X^2]=')\n",
"disp(6*X+3*(X2),'E[6X+3X^2]=6E[X]+3E[X^2]=')\n",
"disp(2*X+3,'E[2*X+3]=2E[X]+3=')\n",
"x1=2*X+3\n",
"disp(4*X2+9+12*X,'E[(2*X+3)^2]=E[4*X^2+9+12*X]=')\n",
"x2=4*X2+9+12*X\n",
"disp(x2-x1^2,'Variance of (2*X+3)=E[(2*x+3)^2]-{E[2*X+3]}^2=')\n",
""
   ]
   }
,
{
		   "cell_type": "markdown",
		   "metadata": {},
		   "source": [
			"## Example 12.17: Probablity_that_R_lies_between_110_and_120_ohm.sce"
		   ]
		  },
  {
"cell_type": "code",
	   "execution_count": null,
	   "metadata": {
	    "collapsed": true
	   },
	   "outputs": [],
"source": [
"//Example 12.17\n",
"//Probablity that R lies between 110 and 120 ohm\n",
"clc;\n",
"X0=110;\n",
"X1=120;\n",
"X=integrate('1/(130-100)','X',X0,X1);\n",
"disp(X,'The probability that R lies between 110 and 120 is :');"
   ]
   }
,
{
		   "cell_type": "markdown",
		   "metadata": {},
		   "source": [
			"## Example 12.18: Find_the_mean_and_variance_if_they_exist.sce"
		   ]
		  },
  {
"cell_type": "code",
	   "execution_count": null,
	   "metadata": {
	    "collapsed": true
	   },
	   "outputs": [],
"source": [
"//Example 12.18\n",
"//Find the mean and variance,if they exist.\n",
"Xo=0;X1=1\n",
"X=integrate('X*(X^3/12)','X',Xo,X1)\n",
"disp(X,'E[X]=')\n",
"Xo=0;X1=1\n",
"X2=integrate('X^2*(X^3/12)','X',Xo,X1)\n",
"disp(X2,'E[X^2]=')\n",
"disp(X2-X^2,'Variance =E[X^2]-E[X]^2=')\n",
"x=1:1:5;\n",
"y=sum(x^2)/15;\n",
"disp(y,'E[X]=sum(x*f(x))=sum(x^2)/15')\n",
"y1=sum(x^3)/15;\n",
"disp(y1,'E[X]=sum(x^2*f(x))=sum(x^3)/15')\n",
"disp(y1-y^2,'Variance =E[X^2]-E[X]^2=')"
   ]
   }
,
{
		   "cell_type": "markdown",
		   "metadata": {},
		   "source": [
			"## Example 12.19: Find_the_required_values.sce"
		   ]
		  },
  {
"cell_type": "code",
	   "execution_count": null,
	   "metadata": {
	    "collapsed": true
	   },
	   "outputs": [],
"source": [
"//Example 12.19\n",
"//Find the required values.\n",
"x=[0,0;8,8;8,0]\n",
"y=[0,0;3,3;0,3]\n",
"deff('z=f(x,y)','z=x/6')\n",
"I=int2d(x,y,f)\n",
"disp(I,'E[X]=')\n",
"deff('z=f(x,y)','z=y/6')\n",
"I=int2d(x,y,f)\n",
"disp(I,'E[Y]=')\n",
"deff('z=f(x,y)','z=x*y/6')\n",
"I=int2d(x,y,f)\n",
"disp(I,'E[XY]=')\n",
""
   ]
   }
,
{
		   "cell_type": "markdown",
		   "metadata": {},
		   "source": [
			"## Example 12.1: Show_whether_independent_or_not.sce"
		   ]
		  },
  {
"cell_type": "code",
	   "execution_count": null,
	   "metadata": {
	    "collapsed": true
	   },
	   "outputs": [],
"source": [
"//Example 12.1\n",
"//Show whether independent or not\n",
"disp('Two events are independent if P(A and B)=P(A)P(B)')\n",
"disp(0.28,'P(A and B)=')\n",
"disp(0.8*0.35,'P(A)*P(B)=')\n",
"disp('Hence A and B are independent')"
   ]
   }
,
{
		   "cell_type": "markdown",
		   "metadata": {},
		   "source": [
			"## Example 12.20: Find_the_correlation.sce"
		   ]
		  },
  {
"cell_type": "code",
	   "execution_count": null,
	   "metadata": {
	    "collapsed": true
	   },
	   "outputs": [],
"source": [
"Xo=0;X1=1\n",
"X=integrate('X*(X+0.5)','X',Xo,X1)\n",
"disp(X,'E[X]=')\n",
"Yo=0;Y1=1\n",
"Y=integrate('Y*(Y+0.5)','Y',Yo,Y1)\n",
"disp(Y,'E[Y]=')\n",
"x=[0,0;1,1;1,0]\n",
"y=[0,0;1,1;0,1]\n",
"deff('z=f(x,y)','z=x*y*(x+y)')\n",
"I=int2d(x,y,f)\n",
"disp(I,'E[XY]=')\n",
"disp(I-X*Y,'cov(X,Y)=E[XY]-E[X]E[Y]=');\n",
"cov=I-X*Y\n",
"Xo=0;X1=1\n",
"X2=integrate('X^2*(X+0.5)','X',Xo,X1)\n",
"disp(X2,'E[X^2]=')\n",
"Yo=0;Y1=1\n",
"Y2=integrate('Y^2*(Y+0.5)','Y',Yo,Y1)\n",
"disp(Y2,'E[Y^2]=')\n",
"disp(X2-X^2,'Variance of X=E[X^2]-E[X]^2)=')\n",
"v1=X2-X^2\n",
"disp(Y2-Y^2,'Variance of Y=E[Y^2]-E[Y]^2)=')\n",
"v2=Y2-Y^2\n",
"disp(cov/sqrt(v1*v2),'Correlation coefficient of X and Y=cov(X,Y)/(s.d of X*s.d of Y)=')"
   ]
   }
,
{
		   "cell_type": "markdown",
		   "metadata": {},
		   "source": [
			"## Example 12.2: Find_the_probability_of_the_problem.sce"
		   ]
		  },
  {
"cell_type": "code",
	   "execution_count": null,
	   "metadata": {
	    "collapsed": true
	   },
	   "outputs": [],
"source": [
"//Example 12.2\n",
"//Find the probability of the problem.\n",
"disp('The sample space in this case is:-');\n",
"disp('(1,1) (1,2) (1,3) (1,4) (1,5) (1,6)');\n",
"disp('(2,1) (2,2) (3,3) (4,4) (5,5) (6,6)');\n",
"disp('(3,1) (2,2) (3,3) (4,4) (5,5) (6,6)');\n",
"disp('(4,1) (2,2) (3,3) (4,4) (5,5) (6,6)');\n",
"disp('(5,1) (2,2) (3,3) (4,4) (5,5) (6,6)');\n",
"disp('(6,1) (2,2) (3,3) (4,4) (5,5) (6,6)');\n",
"disp('Implies that N=36');\n",
"disp('Let A be the event of sum 7' );\n",
"disp('A={1,6} (2,5) (3,4) (4,3) (5,2) (6,1)} i.e n(A)=6' );\n",
"p_a=6/36;\n",
"disp(p_a,'Hence the probability of getting a sum 7 is p(A)=6/36=' );\n",
"disp('Let B be the event of sum 11' );\n",
"disp('A={5,6} (6,5) } i.e n(B)=2' );\n",
"p_b=2/36;\n",
"disp(p_b,'Hence the probability of getting a sum 2 is P(B)=2/36=' );\n",
"disp('Let C be the event of sum 7 or 11' );\n",
"disp('Probabilty of getting a sum of 7 or 11 ,P(C)=P(A)+P(B)' );\n",
"p_c=p_a+p_b;\n",
"disp(p_c,'Hence the probability of getting a sum 7 or 11 is P(C)=' );\n",
"disp('Let D be the event of sum 3' );\n",
"disp('A={1,2} (2,1)} i.e n(A)=2' );\n",
"p_d=2/36;\n",
"disp(p_d,'Hence the probability of getting a sum 3 is P(D)=2/36=' );\n",
"disp('Let E be the event of sum 2 or 12' );\n",
"disp('Probabilty of getting a sum of 2 or 12 ,P(E)=P(sum of 2)+P(sum of 12)' );\n",
"disp('P(sum of 2)=1/36  P(sum of 12)=1/36')\n",
"p_e=2/36;\n",
"disp(p_e,'Hence the probability of getting a sum of 2 or 12 is P(E)=' );\n",
"disp('Let F be the event of sum 2 or 3 0r 12' );\n",
"disp('Probabilty of getting a sum of 2 or 3 or 12 ,P(F)=P(D)+P(E)' );\n",
"p_f=p_d+p_e;\n",
"disp(p_f,'Hence the probability of getting a sum 2 or 3 or 12 is P(F)=' );"
   ]
   }
,
{
		   "cell_type": "markdown",
		   "metadata": {},
		   "source": [
			"## Example 12.3: Find_the_probability_that_tails_shows_up_at_least_once.sce"
		   ]
		  },
  {
"cell_type": "code",
	   "execution_count": null,
	   "metadata": {
	    "collapsed": true
	   },
	   "outputs": [],
"source": [
"//Example12.3\n",
"//Find the probability that tails shows up at least once.\n",
"disp('Let A be the event that tail shows atleast once');\n",
"disp('Eac toss has two possible outcmes H ,T');\n",
"disp(2^3,'Hence the total no of outcomes is 2^3=');\n",
"disp(1-(1/2^3),'P(A)=1-Probability of getting all head i.e 1/8=');\n",
""
   ]
   }
,
{
		   "cell_type": "markdown",
		   "metadata": {},
		   "source": [
			"## Example 12.4: Probability_to_find_the_required_sample_size.sce"
		   ]
		  },
  {
"cell_type": "code",
	   "execution_count": null,
	   "metadata": {
	    "collapsed": true
	   },
	   "outputs": [],
"source": [
"//Example 12.4\n",
"//Probability to find the required sample size.\n",
"disp('Let A be the event of choosing a sample size of 6 containing two red, one green , two blue and one white blue ball.');\n",
"funcprot(0)\n",
"function c = combination ( n , r )\n",
"c = prod ( n : -1 : n-r+1 )/ prod (1:r)\n",
"endfunction\n",
"disp('The number of combination of choosing 6 balls from 14 balls is 14 C 6 ways')\n",
"disp('The number of combination of choosing 2 red balls from 4 balls is 4 C 2 ways')\n",
"disp('The number of combination of choosing 1 from 3 green balls is 3 C 1 ways')\n",
"disp('The number of combination of choosing 2 from 5 green balls is 5 C 2 ways')\n",
"disp('The number of combination of choosing 1 from 2 white balls is 2 C 1 ways')\n",
"disp('P(A)={(4 C 2)*(3 C 1)*(5 C 2)*(2 C 1)}/(14 C 6)=')\n",
"p=(combination(4,2)*combination(3,1)*combination(5,2)*combination(2,1))/combination(14,6);\n",
"disp(p);"
   ]
   }
,
{
		   "cell_type": "markdown",
		   "metadata": {},
		   "source": [
			"## Example 12.52: Find_the_average_power.sce"
		   ]
		  },
  {
"cell_type": "code",
	   "execution_count": null,
	   "metadata": {
	    "collapsed": true
	   },
	   "outputs": [],
"source": [
"//Example 12.52\n",
"//Find the average power.\n",
"Xo=-(4*%pi);X1=4*%pi\n",
"X=integrate('(1-(X/(4*%pi)))','X',Xo,X1)\n",
"disp(X/(4*%pi),'Average Power=')"
   ]
   }
,
{
		   "cell_type": "markdown",
		   "metadata": {},
		   "source": [
			"## Example 12.5: Probability_to_find_the_first_white_ball_on_the_3rd_draw.sce"
		   ]
		  },
  {
"cell_type": "code",
	   "execution_count": null,
	   "metadata": {
	    "collapsed": true
	   },
	   "outputs": [],
"source": [
"//Example 12.5\n",
"//Probability to find the first white ball on the 3rd draw.\n",
"disp('Let A be the event of drawing the first white ball at the third draw from 15 balls ')\n",
"disp('Let W be the event of drawing a 10 white balls')\n",
"disp('Let B be the event of drawing a 5 black balls')\n",
"disp('Hence we have 1st draw :B  2nd Draw :B  3rd Draw :W');\n",
"funcprot(0)\n",
"function c = combination ( n , r )\n",
"c = prod ( n : -1 : n-r+1 )/ prod (1:r)\n",
"endfunction\n",
"disp('P(A)={(5 C 1)*(5 C 1)*(10 C 1)}/{(15 C 1)*(15 C 1)*(15 C 1)}=')\n",
"p=(combination(5,1)*combination(5,1)*combination(10,1))/(combination(15,1)*combination(15,1)*combination(15,1))\n",
"disp(p)"
   ]
   }
,
{
		   "cell_type": "markdown",
		   "metadata": {},
		   "source": [
			"## Example 12.6: To_find_the_required_probabilities.sce"
		   ]
		  },
  {
"cell_type": "code",
	   "execution_count": null,
	   "metadata": {
	    "collapsed": true
	   },
	   "outputs": [],
"source": [
"//Example 12.6\n",
"//To find the required probabilities.\n",
"disp(100/500,'P(1 kilo-ohms)=100/500=');\n",
"disp(140/500,'P(20%)=140/500=');\n",
"disp((125/500)/(260/500),'P(10%/10 kilo-ohms)={P(10%)&P(10 kilo-ohms)}/{P(10 kilo-ohms)}=(125/500)/(260/500)');"
   ]
   }
,
{
		   "cell_type": "markdown",
		   "metadata": {},
		   "source": [
			"## Example 12.7: find_the_required_probabilities.sce"
		   ]
		  },
  {
"cell_type": "code",
	   "execution_count": null,
	   "metadata": {
	    "collapsed": true
	   },
	   "outputs": [],
"source": [
"//Example 12.7\n",
"//find the required probabilities.\n",
"disp(((1/2)*(1/2))+((2/3)*(1/2)),'P(PMOS is chosen)=(P{PMOS/4}/P{4})+(P{PMOS/3}/P{3})=((1/2)*(1/2))+((2/3)*(1/2))=');\n",
"disp('Using Bayes Rule:')\n",
"disp('P{4/NMOS}=P(NMOS/4)*P(4)/P(NMOS)=')\n",
"disp('(1/2)*(1/2)/(1-(7/12))=')\n",
"disp((1/2)*(1/2)/(1-(7/12)))"
   ]
   }
,
{
		   "cell_type": "markdown",
		   "metadata": {},
		   "source": [
			"## Example 12.8: Find_the_given_probabillities.sce"
		   ]
		  },
  {
"cell_type": "code",
	   "execution_count": null,
	   "metadata": {
	    "collapsed": true
	   },
	   "outputs": [],
"source": [
"//Example 12.8\n",
"//Find the given probabillities.\n",
"disp('P{R1/So}=0.15 and P{Ro/S}=0.75');\n",
"disp((1-0.15),'P{Ro/So}1-P{R1/So}');\n",
"disp((1-0.075),'P{R1/S1}1-P{Ro/S1}');\n",
"disp('P{R1}=P{R1/So}P(So)+P{R1/S1}P{S1}=');\n",
"disp(((0.15)*(0.85)+(0.925)*(1-0.85)),'(0.15)(0.85)+(0.925)(1-0.85)=');\n",
"disp('Using Bayes Rule:')\n",
"disp('P{S1/R1}=(P{R1/S1}P{S0})/P{R0}=');\n",
"p=(0.925*0.15/0.266)\n",
"disp(p,'(0.925)(1-0.85)/0.266=');\n",
"disp('P{Ro/So}P{So}/P{Ro}');\n",
"disp('P{Ro/So}P{So}/(P{Ro/So}P{So}+P{Ro/S1}P{S1}=');\n",
"p=(0.85)*(0.85)/((0.85)*(0.85)+(0.075)*(0.15))\n",
"disp(p,'(0.85)(0.85)/((0.85)(0.85)+(0.075)(0.15))=');\n",
""
   ]
   }
,
{
		   "cell_type": "markdown",
		   "metadata": {},
		   "source": [
			"## Example 12.9: Find_the_required_probabilities.sce"
		   ]
		  },
  {
"cell_type": "code",
	   "execution_count": null,
	   "metadata": {
	    "collapsed": true
	   },
	   "outputs": [],
"source": [
"//Example 12.9\n",
"//Find the required probabilities.\n",
"disp('Let H be the event that Husband is alive')\n",
"disp('Let W be the event that wife is alive')\n",
"disp('P(H)=0.85   P(W)=0.9')\n",
"disp(0.85*0.9,'P(both alive)=P(H)P(W)=')\n",
"disp(0.15*0.1,'P(neither alive)=(1-P(H))(1-P(W))=')\n",
"disp(0.85+0.9-0.765,'P(Atleast one is alive)=P(H)+P(W)-P(both are alive)=')\n",
"disp('P(only one is alive)=P(Husband is alive and wife is dead)OR P(Husband is dead and wife is alive)')\n",
"disp('P(H)(1-P(W))+(1-P(H))P(W)=')\n",
"disp((0.85)*(1-0.9)+(1-0.85)*(0.9),'(0.85)(1-0.9)+(1-0.85)(0.9)=')"
   ]
   }
],
"metadata": {
		  "kernelspec": {
		   "display_name": "Scilab",
		   "language": "scilab",
		   "name": "scilab"
		  },
		  "language_info": {
		   "file_extension": ".sce",
		   "help_links": [
			{
			 "text": "MetaKernel Magics",
			 "url": "https://github.com/calysto/metakernel/blob/master/metakernel/magics/README.md"
			}
		   ],
		   "mimetype": "text/x-octave",
		   "name": "scilab",
		   "version": "0.7.1"
		  }
		 },
		 "nbformat": 4,
		 "nbformat_minor": 0
}
