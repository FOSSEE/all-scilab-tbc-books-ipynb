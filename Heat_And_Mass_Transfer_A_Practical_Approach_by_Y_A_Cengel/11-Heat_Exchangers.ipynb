{
"cells": [
 {
		   "cell_type": "markdown",
	   "metadata": {},
	   "source": [
       "# Chapter 11: Heat Exchangers"
	   ]
	},
{
		   "cell_type": "markdown",
		   "metadata": {},
		   "source": [
			"## Example 11.10: ab140.sce"
		   ]
		  },
  {
"cell_type": "code",
	   "execution_count": null,
	   "metadata": {
	    "collapsed": true
	   },
	   "outputs": [],
"source": [
"clear;\n",
"clc;\n",
"\n",
"//Example11.10[Installing a Heat Exchanger to Save Energy and Money]\n",
"//Given:-\n",
"Cp=4.18;//[kJ/kg.degree Celcius]\n",
"Th_in=80,Tc_in=15;//Inlet temperatures of hot and cold water[degree Celcius]\n",
"m=15/60;//[kg/s]\n",
"e=0.75;//Effectiveness\n",
"t=24*365;//Operating Hours[hours/year]\n",
"neta=0.8;//Eficiency\n",
"cost=1.10;//[$/therm]\n",
"//Solution:-\n",
"Q_max=m*Cp*(Th_in-Tc_in);//[kJ/kg.degree Celcius]\n",
"disp('kJ/kg.degree Celcius',Q_max,'Maximun Heat recover is')\n",
"Q=e*Q_max;//[kJ/s]\n",
"E_saved=Q*t*3600;//[kJ/year]\n",
"disp('kJ/year',E_saved,'The energy saved during an entire year will be')\n",
"F_saved=(E_saved/neta)*(1/105500);//[therms]\n",
"disp('therms/year',F_saved,'Fuel savings will be')\n",
"M_saved=F_saved*cost;//[$/year]\n",
"disp('per year',M_saved,'The amount of money saved is $')"
   ]
   }
,
{
		   "cell_type": "markdown",
		   "metadata": {},
		   "source": [
			"## Example 11.1: ab131.sce"
		   ]
		  },
  {
"cell_type": "code",
	   "execution_count": null,
	   "metadata": {
	    "collapsed": true
	   },
	   "outputs": [],
"source": [
"clear;\n",
"clc;\n",
"\n",
"//Example11.1[Overall Heat Transfer Coefficient of a Heat Exchanger]\n",
"D_in=0.02;//Diameter of inner tubes[m]\n",
"Di_out=0.03;//Inner Diameter of Outer tubes[m]\n",
"mw=0.5;//Mass Flow Rate of water[kg/s]\n",
"mo=0.8;//Mass Flow rate of oil[kg/s]\n",
"Tw=45;//Average Temp of water[degree Celcius]\n",
"To=80;//Average Temp of oil [degree Celcius]\n",
"//Properties of water at Tw\n",
"rho_w=990.1;//[kg/m^3]\n",
"Pr_w=3.91;//Prandtl Number\n",
"k_w=0.637;//[W/m.degree Celcius]\n",
"nu_w=0.602*10^(-6);//[m^2/s]\n",
"//Properties of oil at To\n",
"rho_o=852;//[kg/m^3]\n",
"Pr_o=499.3;//Prandtl Number\n",
"k_o=0.138;//[W/m.degree Celcius]\n",
"nu_o=3.794*10^(-5);//[m^2/s]\n",
"//Solution:-\n",
"Vw=mw/(rho_w*(%pi*(D_in^2)/4));//[m/s]\n",
"disp('m/s',Vw,'The average velocity of water in the tube is')\n",
"Re_w=Vw*D_in/nu_w;\n",
"disp(Re_w,'The Reynolds number for flow of water in the tube is')\n",
"Nu_w=0.023*(Re_w^(0.8))*(Pr_w^(0.4));\n",
"disp(Nu_w,'The nusselt no for turbulent water flow')\n",
"hi=k_w*Nu_w/D_in;//[W/m^2.degree Celcius]\n",
"//For oil flow\n",
"Dh=Di_out-D_in;//Hydraulic Diameter for the annular space[m]\n",
"Vo=mo/(rho_o*(%pi*((Di_out^2)-(D_in^2))/4));//[m/s]\n",
"disp('m/s',Vo,'The average velocity for flow of oil is')\n",
"Re_o=Vo*Dh/nu_o;\n",
"disp(Re_o,'The Reynolds number for flow of oil is')\n",
"Nu_o=5.45;//Nusselt number for flow of oil usign the table 11.3 and interpolating for value corresponding to Di_out/D_in\n",
"ho=Nu_o*k_o/Dh;//[W/m^2.degree Celcius]\n",
"U=(1/((1/hi)+(1/ho)));//[W/m^2.degree Celcius]\n",
"disp('W/m^2.degree Celcius',U,'The overall heat transfer Coefficient for the given heat exchanger is')"
   ]
   }
,
{
		   "cell_type": "markdown",
		   "metadata": {},
		   "source": [
			"## Example 11.2: ab132.sce"
		   ]
		  },
  {
"cell_type": "code",
	   "execution_count": null,
	   "metadata": {
	    "collapsed": true
	   },
	   "outputs": [],
"source": [
"clear;\n",
"clc;\n",
"\n",
"//Example11.2[Effect of Fouling on the Overall Heat Transfer Coefficient]\n",
"//Given:-\n",
"k=15.1;//[W/m^2.degree Celcius]\n",
"Di=0.015;//Inner Diameter[m]\n",
"Do=0.019;//Outer Diameter[m]\n",
"Di_s=0.032;//Inner diameter of outer shell[m]\n",
"L=1;//[m]\n",
"hi=800;//W/m^2.degree Celcius\n",
"ho=1200;//[W/m^2.degree Celcius]\n",
"Rfi=0.0004;//[m^2.degree Celcius/W]\n",
"Rfo=0.0001;//[m^2.degree Celcius/W]\n",
"//Solution (a):-\n",
"Ai=%pi*Di*L;//[m^2]\n",
"Ao=%pi*Do*L;//[m^2]\n",
"Ra=(1/(hi*Ai))+(Rfi/Ai)+((log(Do/Di))/(2*%pi*k*L))+(Rfo/Ao)+(1/(ho*Ao));//[m^2.degree Celcius/W]\n",
"disp('m^2.degree Celcius/W',Ra,'The thermal Resistance for an unfinned shell and tube heat exchanger with fouling on both heat transfer surfaces is')\n",
"//Solution (b):-\n",
"Ui=1/(Ra*Ai);//[W/m^2.degree Celcius]\n",
"Uo=1/(Ra*Ao);//[W/m^2.degree Celcius]\n",
"disp('respectively','W/m^2.degree Celcius',Uo,'and',Ui,'The overall Heat transfer Coefficients based on the inner and outer surfaces of the tube are')"
   ]
   }
,
{
		   "cell_type": "markdown",
		   "metadata": {},
		   "source": [
			"## Example 11.3: ab133.sce"
		   ]
		  },
  {
"cell_type": "code",
	   "execution_count": null,
	   "metadata": {
	    "collapsed": true
	   },
	   "outputs": [],
"source": [
"clear;\n",
"clc;\n",
"\n",
"//Example11.3[The Condensation of Steam in a Condenser]\n",
"//Given:-\n",
"Th_in=30,Th_out=30,Tc_in=14,Tc_out=22;//Inlet and Outlet temperatures of hot and cold liquids [degree Celcius]\n",
"A=45;//[m^2]\n",
"U=2100;//[W/m^2.degree Celcius]\n",
"h_fg=2431;//Heat of vapourisation of water at Th_i[kJ/kg]\n",
"Cp=4184;//Specific heat of cold water [J/kg]\n",
"//Solution:-\n",
"del_T1=Th_in-Tc_out;//[degree Celcius]\n",
"del_T2=Th_out-Tc_in;//[degree Celcius]\n",
"del_T_lm=(del_T1-del_T2)/(log(del_T1/del_T2));//[degree Celcius]\n",
"disp('degree Celcius',del_T_lm,'The logrithmic Mean temperature difference is')\n",
"Q=U*A*del_T_lm;//[W]\n",
"disp('W',Q,'The heat transfer rate in the condenser is')\n",
"mw=Q/(Cp*(Tc_out-Tc_in));//[kg/s]\n",
"disp('kg/s',mw,'The mass flow rate of the cooling water is')\n",
"\n",
"ms=(Q/(1000*h_fg));//[kg/s]\n",
"disp('kg/s',ms,'The rate of condensation of steam is')"
   ]
   }
,
{
		   "cell_type": "markdown",
		   "metadata": {},
		   "source": [
			"## Example 11.4: ab134.sce"
		   ]
		  },
  {
"cell_type": "code",
	   "execution_count": null,
	   "metadata": {
	    "collapsed": true
	   },
	   "outputs": [],
"source": [
"clear;\n",
"clc;\n",
"\n",
"//Example11.4[Heating Water in a Counter Flow Heat Exchanger]\n",
"//Given:-\n",
"mw=1.2,mgw=2;//Mass Flow rate of water and geothermal fluid[kg/s]\n",
"U=640;//Overall Heat transfer Coefficient[W/m^2.degree Celcius]\n",
"Di=0.015;//[m]\n",
"Tw_out=80,Tw_in=20;//Outlet and Inlet temp of water[degree Celcius]\n",
"Tgw_in=160;//Inlet temp of geothermal fluid[degree Celcius]\n",
"Cp_w=4.18,Cp_gw=4.31;//Specific Heats of water and geothermal fluid[kJ/kg.degree Celcius]\n",
"//Solution:-\n",
"Q=mw*Cp_w*(Tw_out-Tw_in);//[kW]\n",
"disp('kW',ceil(Q),'The rate of heat transfer in the heat exchanger is')\n",
"Tgw_out=(Tgw_in-(ceil(Q)/(mgw*Cp_gw)));//[degree Celcius]\n",
"disp('degree Celcius',Tgw_out,'The outlet temp of geothermal fluid is')\n",
"del_T1=Tgw_in-Tw_out;//[degree Celcius]\n",
"del_T2=Tgw_out-Tw_in;//[degree Celcius]\n",
"del_T_lm=(del_T1-del_T2)/(log(del_T1/del_T2));//[degree Celcius]\n",
"disp('degree Celcius',del_T_lm,'The logrithmic Mean temperature difference is')\n",
"As=1000*ceil(Q)/(U*del_T_lm);//[m^2]\n",
"disp('m^2',As,'The surface area of the heat exchanger is')\n",
"L=As/(%pi*Di);//[m]\n",
"disp('m',round(L),'The length of the tube is')"
   ]
   }
,
{
		   "cell_type": "markdown",
		   "metadata": {},
		   "source": [
			"## Example 11.5: ab135.sce"
		   ]
		  },
  {
"cell_type": "code",
	   "execution_count": null,
	   "metadata": {
	    "collapsed": true
	   },
	   "outputs": [],
"source": [
"clear;\n",
"clc;\n",
"\n",
"//Example11.5[Heating of Glycerine in a Multipass Heat Exchanger]\n",
"//Given:-\n",
"//A 2,4 shell and tube heat exchanger\n",
"D=0.02;//Diameter[m]\n",
"L=60;//Length of tube[m]\n",
"Th_in=80,Th_out=40,Tc_in=20,Tc_out=50;//Inlet and Outlet temperatures water and glycerine[degree Celcius]\n",
"hi=160,ho=25;//Convective Heat transfer coefficients on both side of tube[W/m^2.degree Celcius]\n",
"Rf=0.0006;//Fouling Resistance[m^2.degree Celcius/W]\n",
"//Solution:-\n",
"As=%pi*D*L;//[m^2]\n",
"del_T1=Th_in-Tc_out;//[degree Celcius]\n",
"del_T2=Th_out-Tc_in;//[degree Celcius]\n",
"del_T_lm=(del_T1-del_T2)/log(del_T1/del_T2);//[degree Celcius]\n",
"disp('degree Celcius',del_T_lm,'The log mean temperature difference for the counter flow arrangement is')\n",
"F=0.91;//Correction Factor\n",
"//(a)\n",
"Ua=1/((1/hi)+(1/ho));//[W/m^2.degree Celcius]\n",
"disp('W/m^2.degree Celcius',Ua,'In case of no fouling, the over all heat transfer coefficient is')\n",
"Qa=Ua*As*F*del_T_lm;//[W]\n",
"disp('W',ceil(Qa),'And the rate of heat transfer is')\n",
"//(b)\n",
"Ub=1/((1/hi)+(1/ho)+(Rf));//[W/m^2.degree Celcius\n",
"disp('W/m^2.degree Celcius',Ub,'When there is fouling on one of the surfaces, the overall heat transfer coefficient is')\n",
"Qb=Ub*As*F*del_T_lm;//[W]\n",
"disp('W',round(Qb),'And the rate of heat transfer is')"
   ]
   }
,
{
		   "cell_type": "markdown",
		   "metadata": {},
		   "source": [
			"## Example 11.6: ab136.sce"
		   ]
		  },
  {
"cell_type": "code",
	   "execution_count": null,
	   "metadata": {
	    "collapsed": true
	   },
	   "outputs": [],
"source": [
"clear;\n",
"clc;\n",
"\n",
"//Example11.6[Cooling of Water in an Automotive Radiator]\n",
"//Given:-\n",
"m=0.6;//Mass Flow rate of water[kg/s]\n",
"Th_in=90,Th_out=65,Tc_in=20,Tc_out=40;//[degree Celcius]\n",
"Di=0.005;//[m]\n",
"L=0.65;//[m]\n",
"n=40;//No of tubes\n",
"Cp=4195;//[J/kg.degree Celcius]\n",
"//Solution:-\n",
"Q=m*Cp*(Th_in-Th_out);//[W]\n",
"disp('W',Q,'The rate of heat transfer in the radiator from the hot water to the air is')\n",
"Ai=n*%pi*Di*L;//[m^2]\n",
"del_T1=Th_in-Tc_out;//[degree Celcius]\n",
"del_T2=Th_out-Tc_in;//[degree Celcius]\n",
"del_T_lm=(del_T1-del_T2)/log(del_T1/del_T2);//[degree Celcius]\n",
"disp('degree Celcius',del_T_lm,'The log mean temperature difference for the counter flow arrangement is')\n",
"F=0.97;//Correction Factor for this situation\n",
"Ui=Q/(Ai*F*del_T_lm);//[W/m^2.degree Celcius]\n",
"disp('W/m^2.degree Celcius',round(Ui),'the overall heat transfer coefficient is')"
   ]
   }
,
{
		   "cell_type": "markdown",
		   "metadata": {},
		   "source": [
			"## Example 11.7: ab137.sce"
		   ]
		  },
  {
"cell_type": "code",
	   "execution_count": null,
	   "metadata": {
	    "collapsed": true
	   },
	   "outputs": [],
"source": [
"clear;\n",
"clc;\n",
"\n",
"//Example11.6[Cooling of Water in an Automotive Radiator]\n",
"//Given:-\n",
"m=0.6;//Mass Flow rate of water[kg/s]\n",
"Th_in=90,Th_out=65,Tc_in=20,Tc_out=40;//[degree Celcius]\n",
"Di=0.005;//[m]\n",
"L=0.65;//[m]\n",
"n=40;//No of tubes\n",
"Cp=4195;//[J/kg.degree Celcius]\n",
"//Solution:-\n",
"Q=m*Cp*(Th_in-Th_out);//[W]\n",
"disp('W',Q,'The rate of heat transfer in the radiator from the hot water to the air is')\n",
"Ai=n*%pi*Di*L;//[m^2]\n",
"del_T1=Th_in-Tc_out;//[degree Celcius]\n",
"del_T2=Th_out-Tc_in;//[degree Celcius]\n",
"del_T_lm=(del_T1-del_T2)/log(del_T1/del_T2);//[degree Celcius]\n",
"disp('degree Celcius',del_T_lm,'The log mean temperature difference for the counter flow arrangement is')\n",
"F=0.97;//Correction Factor for this situation\n",
"Ui=Q/(Ai*F*del_T_lm);//[W/m^2.degree Celcius]\n",
"disp('W/m^2.degree Celcius',round(Ui),'the overall heat transfer coefficient is')"
   ]
   }
,
{
		   "cell_type": "markdown",
		   "metadata": {},
		   "source": [
			"## Example 11.8: ab138.sce"
		   ]
		  },
  {
"cell_type": "code",
	   "execution_count": null,
	   "metadata": {
	    "collapsed": true
	   },
	   "outputs": [],
"source": [
"clear;\n",
"clc;\n",
"\n",
"//Example11.8[Using the Effectiveness- NTU Method]\n",
"//Given:-\n",
"mc=1.2,mh=2;//Mass Flow rate of water and geothermal fluid[kg/s]\n",
"U=640;//Overall Heat transfer Coefficient[W/m^2.degree Celcius]\n",
"Di=0.015;//[m]\n",
"Tc_out=80,Tc_in=20;//Outlet and Inlet temp of water[degree Celcius]\n",
"Th_in=160;//Inlet temp of geothermal fluid[degree Celcius]\n",
"Cp_c=4.18,Cp_h=4.31;//Specific Heats of water and geothermal fluid[kJ/kg.degree Celcius]\n",
"//Solution:-\n",
"Ch=mh*Cp_h;//[kW/degree Celcius]\n",
"Cc=mc*Cp_c;//[kW/degree Celcius]\n",
"if(Ch>Cc) then,\n",
"    Cmin=Cc;\n",
"    c=Cmin/Ch;\n",
"else\n",
"    Cmin=Ch;\n",
"    c=Cmin/Cc;\n",
"end\n",
"Q_max=Cmin*(Th_in-Tc_in);//[kW]\n",
"disp('kW',Q_max,'The maximum heat transfer rate is')\n",
"Q_ac=mc*Cp_c*(Tc_out-Tc_in);//[kW]\n",
"e=Q_ac/Q_max;\n",
"disp(e,'The effectiveness of the heat exchanger is')\n",
"NTU=(1/(c-1))*log((e-1)/(e*c-1));\n",
"disp(NTU,'The NTU of this counter flow heat exchanger is')\n",
"As=NTU*Cmin*1000/U;//[m^2]\n",
"disp('m^2',As,'The heat transfer surface area is')\n",
"L=As/(%pi*Di);//[m]\n",
"disp('m',round(L),'The length of the tube is')"
   ]
   }
,
{
		   "cell_type": "markdown",
		   "metadata": {},
		   "source": [
			"## Example 11.9: ab139.sce"
		   ]
		  },
  {
"cell_type": "code",
	   "execution_count": null,
	   "metadata": {
	    "collapsed": true
	   },
	   "outputs": [],
"source": [
"clear;\n",
"clc;\n",
"\n",
"//Example11.9[Cooling Hot Oil by Water in Multipass Heat Exchanger]\n",
"//Given:-\n",
"Cp_c=4.18,Cp_h=2.13;//Specific Heats of water and oil[kJ/kg]\n",
"mc=0.2,mh=0.3;//Mass Flow rate of oil and water [kg/s]\n",
"Th_in=150,Tc_in=20;//[degree Celcius]\n",
"n=8;//No of tubes\n",
"D=0.014;//[m]\n",
"L=5;//[m]\n",
"U=310;//Overall Heat transfer Coefficient[W/m^2.degree Celcius]\n",
"//Solution:-\n",
"Ch=mh*Cp_h;//[kW/degree Celcius]\n",
"Cc=mc*Cp_c;//[kW/degree Celcius]\n",
"if(Ch>Cc) then,\n",
"    Cmin=Cc;\n",
"    c=Cmin/Ch;\n",
"else\n",
"    Cmin=Ch;\n",
"    c=Cmin/Cc;\n",
"end\n",
"Q_max=Cmin*(Th_in-Tc_in);//[kW]\n",
"disp('kW',Q_max,'The maximum heat transfer rate is')\n",
"As=n*%pi*D*L;//[m^2]\n",
"disp('m^2',As,'Heat transfer Surface Area is')\n",
"NTU=U*As/Cmin;\n",
"disp(NTU,'The NTU of this heat exchanger is')\n",
"e=0.47;//Determined from fig 11.26(c)using value of NTU and c\n",
"Q=e*Q_max;//[kW]\n",
"Tc_out=Tc_in+(Q/Cc);//[degree Celcius]\n",
"Th_out=Th_in-(Q/Ch);//[degree Celcius]\n",
"disp('degree Celcius',Tc_out,'to','degree Celcius',Tc_in,'The temperature of cooling water will rise from')\n",
"disp('degree Celcius',Th_out,'to','degree Celcius',Th_in,'as it cools the hot oil from')"
   ]
   }
],
"metadata": {
		  "kernelspec": {
		   "display_name": "Scilab",
		   "language": "scilab",
		   "name": "scilab"
		  },
		  "language_info": {
		   "file_extension": ".sce",
		   "help_links": [
			{
			 "text": "MetaKernel Magics",
			 "url": "https://github.com/calysto/metakernel/blob/master/metakernel/magics/README.md"
			}
		   ],
		   "mimetype": "text/x-octave",
		   "name": "scilab",
		   "version": "0.7.1"
		  }
		 },
		 "nbformat": 4,
		 "nbformat_minor": 0
}
