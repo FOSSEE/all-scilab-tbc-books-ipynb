{
"cells": [
 {
		   "cell_type": "markdown",
	   "metadata": {},
	   "source": [
       "# Chapter 4: Transient Heat Conduction"
	   ]
	},
{
		   "cell_type": "markdown",
		   "metadata": {},
		   "source": [
			"## Example 4.10: ab70.sce"
		   ]
		  },
  {
"cell_type": "code",
	   "execution_count": null,
	   "metadata": {
	    "collapsed": true
	   },
	   "outputs": [],
"source": [
"clear;\n",
"clc;\n",
"\n",
"//Example4.10[Cooling of a Long Cylinder by Water]\n",
"Ti=200;//Initial Temperature of aluminium cylinder[degree Celcius]\n",
"Tf=15;//Temperature of water in which cylinder is kept[degree Celcius]\n",
"h=120;//Heat transfer Coefficent[W/m^2.degree Celcius]\n",
"t=5*60;//[seconds]\n",
"//Properties of aluminium at room temperature\n",
"k=237;//Thermal conductivity[W/m.degree Celcius]\n",
"a=9.71*(10^(-5));//Thermal diffusivity[m^/s]\n",
"r=0.1;//Radius of cylinder[m]\n",
"x=0.15;//[m]\n",
"//Solution:-\n",
"Bi=(h*r)/k;//Biot number\n",
"//Corresponding to this biot no coefficients for a cylinder\n",
"lambda=0.3126,A=1.0124;\n",
"tau=(a*t)/(r^2);\n",
"//Using one term approximation\n",
"theta0=A*exp(-(lambda^2)*tau);\n",
"neta=x/(2*sqrt(a*t));\n",
"u=(h*sqrt(a*t))/k;\n",
"v=(h*x)/k;\n",
"w=(u^2);\n",
"theta_semiinfinite=1-erfc(neta)+(exp(v+w)*erfc(neta+u));\n",
"theta=theta_semiinfinite*theta0;\n",
"T_x_t=Tf+(theta*(Ti-Tf));//[degree Celcius]\n",
"disp('degree Celcius',ceil (T_x_t),'the temperature at the center of the cylinder 15cm from the exposed bottom surface')"
   ]
   }
,
{
		   "cell_type": "markdown",
		   "metadata": {},
		   "source": [
			"## Example 4.11: ab71.sce"
		   ]
		  },
  {
"cell_type": "code",
	   "execution_count": null,
	   "metadata": {
	    "collapsed": true
	   },
	   "outputs": [],
"source": [
"clear;\n",
"clc;\n",
"\n",
"//Example4.11[Refrigerating Steaks while Avoiding Frostbite]\n",
"//Given:-\n",
"Ti=25;//Initial temperature of steaks[degree Celcius]\n",
"Tf=-15;//Temperature of refrigerator[degree Celcius]\n",
"L=0.015;//Thickness of steaks[m]\n",
"//Properties of steaks\n",
"k=0.45;//[W/m.degree Celcius]\n",
"rho=1200;//density[kg/m^3]\n",
"a=9.03*(10^(-8));//Thermal diffusivity[m^2/s]\n",
"Cp=4.10;//Specific Heat [kJ/kg]\n",
"T_L=2,T_0=8;//[degree Celcius]\n",
"//Solution:-\n",
"//In the limiting case the surface temperature at x=L from the centre will be 2 degree C,while midplane temperature is 8 degree C in an environment at -15 degree C we have\n",
"x=L;\n",
"p=(T_L-Tf)/(T_0-Tf);\n",
"//For this value of p we have\n",
"Bi=1/1.5;//Biot number\n",
"h=(Bi*k)/L;//[W/m^2.degree Celcius]\n",
"disp('W/m^2.degree Celcius',h,'The convection heat transfer coefficient should be kept below the value')\n",
"disp('to satisfy the constraints on the temperature of the steak during refrigeration')"
   ]
   }
,
{
		   "cell_type": "markdown",
		   "metadata": {},
		   "source": [
			"## Example 4.1: ab61.sce"
		   ]
		  },
  {
"cell_type": "code",
	   "execution_count": null,
	   "metadata": {
	    "collapsed": true
	   },
	   "outputs": [],
"source": [
"clear;\n",
"clc;\n",
"\n",
"//Example4.1[Temperature Measurement by Thermocouples]\n",
"//Given:-\n",
"//Temperature of a gas stream is to be measured by a thermocouple whose junction can be approximated as a sphere\n",
"D=0.001;//Diameter of junction sphere[m]\n",
"//Properties of the junction\n",
"k=35;//Thermal conductivity[W/m.degree Celcius]\n",
"rho=8500;//desity[kg/m^3]\n",
"Cp=320;//Specific heat[J/kg.degree Celcius] \n",
"h=210;//Convection heat transfer coefficient between junction and the gas[W/m^2.degree Celcius]\n",
"//Solution:-\n",
"//V=(%pi/6)*(D^3)\n",
"Lc=(((%pi/6)*(D^3))/(%pi*(D^2)));//The characteristic length of the junction[m]\n",
"Bi=h*Lc/k;//Biot Number\n",
"if(Bi<0.1) then,\n",
"disp(Bi,'Since Bi=')\n",
"disp('is less than 0.1 hence lumped system is applicable and the error involved in this approximation is negligible')\n",
"end;\n",
"b=h/(rho*Cp*Lc);//Exponent time constant[s^(-1)]\n",
"disp('s^(-1)',b,'Time constant for given lumped heat capacity system')\n",
"//In order to read 99% of intial temperature difference between the junction and the gas we must have ((T(t)-T_end)/(Ti-T_end))=0.01\n",
"t=-1*(log(0.01))/b;\n",
"disp('seconds',round(t),'Required time is')"
   ]
   }
,
{
		   "cell_type": "markdown",
		   "metadata": {},
		   "source": [
			"## Example 4.2: ab62.sce"
		   ]
		  },
  {
"cell_type": "code",
	   "execution_count": null,
	   "metadata": {
	    "collapsed": true
	   },
	   "outputs": [],
"source": [
"clear;\n",
"clc;\n",
"\n",
"//Example4.2[Predicting the time of Death]\n",
"//Given:-\n",
"T_room=20;//Temperature of room[degree Celcius]\n",
"T_body_f=25;//Temperature of dead body after some time[degree Celcius]\n",
"T_body_i=37;//Temperature of dead body just after death[degree Celcius]\n",
"h=8;//Heat transfer Coefficient[W/m^2.degree Celcius]\n",
"L=1.7;//Length of body which is assumed to be cylindrical in shape[m]\n",
"r=0.15;//Radius of cylindrical body\n",
"//Average human body is 72% water by mass, thus we assumne body to have properties of water\n",
"rho=996;//Density[kg/m^3]\n",
"k=0.617;//Thermal conductivity[W/m.degree Celcius]\n",
"Cp=4178;//Specific Heat[J/kg.degree Celcius]\n",
"//Solution:-\n",
"Lc=(%pi*(r^2)*L)/((2*%pi*r*L)+(2*%pi*(r^2)));//Characteristic length of body[m]\n",
"Bi=(h*Lc)/k;//Biot no\n",
"if(Bi>0.1) then,\n",
"    disp('lumped system analysis is not applicable, but we can still use it to get a rough estimate of time of death')\n",
"    b=h/(rho*Cp*Lc);//[s^(-1)]\n",
" x=(T_body_i-T_room)/(T_body_f-T_room);\n",
"//exp(-b*t)=x;\n",
"t=(1/b)*log(x);//time elapsed[seconds]\n",
"disp('hour',t/3600,'As a rough estimate the person dies about')\n",
"disp('before the body was found')"
   ]
   }
,
{
		   "cell_type": "markdown",
		   "metadata": {},
		   "source": [
			"## Example 4.3: ab63.sce"
		   ]
		  },
  {
"cell_type": "code",
	   "execution_count": null,
	   "metadata": {
	    "collapsed": true
	   },
	   "outputs": [],
"source": [
"clear;\n",
"clc;\n",
"\n",
"//Example4.3[Boiling Eggs]\n",
"//Given:-\n",
"T1=5;//Initial temperature of egg[degree Celcius]\n",
"T2=95;//Temperature of Boiling Water[degree Celcius]\n",
"h=1200;//Convection heat transfer coefficient of egg[W/m^2.degree Celcius]\n",
"r=0.025;//Radius of egg[m]\n",
"T3=70;//Final temperature attained by centre of egg[degree Celcius]\n",
"k=0.627;//Thermal conductivity[W/m.degree Celcius]\n",
"a=0.151*(10^(-6));//Thermal diffusivity[m^2/s]\n",
"//Solution:-\n",
"Bi=(h*r)/k;//Biot Number\n",
"if(Bi>0.1) then,\n",
"disp('the lumped system analysis is not applicable')\n",
"//Findinf coefficient for a sphere corresponding to this bi are,\n",
"lambda1=3.0754,A1=1.9959;\n",
"x=(T3-T2)/(T1-T2);\n",
"tau=(-1/(lambda1^2))*log(x/A1);\n",
"disp(tau,'Fourier no is')\n",
"//Since fourier no is greater than 0.2, cooking time is determined from the definition of fourier no to be\n",
"t=(tau*(r^2))/a;//[seconds]\n",
"disp('minutes',(t/60),'The time taken for center of egg to reach 70 degree Celcius temperature')\n",
"else,\n",
"    disp('the lumped system is not applicable')\n",
"end    "
   ]
   }
,
{
		   "cell_type": "markdown",
		   "metadata": {},
		   "source": [
			"## Example 4.4: ab64.sce"
		   ]
		  },
  {
"cell_type": "code",
	   "execution_count": null,
	   "metadata": {
	    "collapsed": true
	   },
	   "outputs": [],
"source": [
"clear;\n",
"clc;\n",
"\n",
"//Example4.4[Heating of Brass Plates in an Oven]\n",
"T_in=20;//Initial uniform temperature of brass plate[degree Celcius]\n",
"T_f=500;//Temperature of the oven[degree Celcius]\n",
"t=7*60;//[seconds]\n",
"h=120;//combined convection and radiation heat transfer coefficient[W/m^2.degree Celcius]\n",
"L=0.04/2;//Thickness of plate 2L=0.004[m]\n",
"//Properties of brass at room temperature are:-\n",
"k=110;//Thermal conductivity[W/m.degree Celcius]\n",
"rho=8530;//density[kg/m^3]\n",
"Cp=380;//Specific Heat Capacity[J.kg.degree Celcius]\n",
"a=33.9*(10^(-6));//Thermal Diffusivity[m^2/s]\n",
"//Solution:-\n",
"Bi1=1/(k/(h*L));\n",
"tau1=(a*t)/(L^2);\n",
"//For above values of biot no and fourier no we have\n",
"p=0.46;// p=(T0-T_f)/(T_in-T_f),where T0 is temperature of inner surface of plate at time t\n",
"x=L;\n",
"Bi2=Bi1;\n",
"//For above condition of x/L ratio and Biot number we have\n",
"q=0.99;//q=(T-T_f)/(T_in-T_f), where T is temperature of outer surface of plate after time t\n",
"T=T_f+((p*q)*(T_in-T_f));//[degree Celcius]\n",
"disp('degree Celcius',ceil (T),'The surface temperature of the plates when they leave the oven will be')"
   ]
   }
,
{
		   "cell_type": "markdown",
		   "metadata": {},
		   "source": [
			"## Example 4.5: ab65.sce"
		   ]
		  },
  {
"cell_type": "code",
	   "execution_count": null,
	   "metadata": {
	    "collapsed": true
	   },
	   "outputs": [],
"source": [
"clear;\n",
"clc;\n",
"\n",
"//Example4.5[Cooling of a long Stainless Steel Cylindrical Shaft]\n",
"//Given:-\n",
"Ti=600;//Temperature of cylinder just after taking it out of the oven[degree Celcius]\n",
"h=80;//average heat transfer coefficient[W/m^2.degree Celcius] \n",
"t=45*60;//Time for cooling[seconds]\n",
"r=0.1;//Radius of cylinder[m]\n",
"l=1;//Length of cylinder[m]\n",
"//Properties of stainless steel cylinder\n",
"k=14.9;//Thermal conductivity[W/m.degree Celcius]\n",
"rho=7900;//Density[kg/m^3]\n",
"Cp=477;//Specific Heat Capacity[J/kg.degree Celcius]\n",
"a=3.95*(10^(-6));//Thermal diffusivity[m^2/s]\n",
"T_f=200;//Ambient temperature[degree Celcius]\n",
"//Solution:-\n",
"Bi1=(h*r)/k;\n",
"tau1=(a*t)/(r^2);\n",
"//For biot no=Bi1 and fourier no=tau1,we have\n",
"p=0.40;//p=(T(0)-T_f)/(Ti-T_f) \n",
"T_0=T_f+(p*(Ti-T_f));//[degree Celcius]\n",
"disp('degree Celcius',T_0,'The center temperature of the shaft after 45 minutes is')\n",
"//Determining actual heat transfer\n",
"m=rho*%pi*(r^2)*l;//[kg]\n",
"Q_max=m*Cp*(Ti-T_f)*(1/1000);//[kJ]\n",
"x=(Bi1^2)*tau1;\n",
"//For biot no= Bi1 and (h^2)at/(k^2)=x, we have\n",
"y=0.62;//y=Q/Q_max \n",
"Q=y*Q_max;//[kJ]\n",
"disp('kJ',round(Q),'The total heat transfer from the shaft during 45 minutes of cooling is')"
   ]
   }
,
{
		   "cell_type": "markdown",
		   "metadata": {},
		   "source": [
			"## Example 4.6: ab66.sce"
		   ]
		  },
  {
"cell_type": "code",
	   "execution_count": null,
	   "metadata": {
	    "collapsed": true
	   },
	   "outputs": [],
"source": [
"clear;\n",
"clc;\n",
"\n",
"//Example4.6[Minimum Burial Depth of Water Pipes to avoid Freezing]\n",
"//Given:-\n",
"//Soil properties:-\n",
"k=0.4;//Thermal conductivity[W/m.degree Celcius]\n",
"a=0.15*(10^(-6));//Thermal diffusivity[m^2/s]\n",
"T_in=15;//Initial uniform temperature of ground[degree Celcius]\n",
"T_x=0;//Temperature after 3 months[degree Celcius]\n",
"Ts=-10;//Temperature of surface[degree Celcius]\n",
"//Solution:-\n",
"//The temperature of the soil surrounding the pipes wil be 0 degree Celcius after three months in the case of minimum burial depth, therefore we have\n",
"x=(h/k)*(sqrt(a*t));\n",
"//Since h tends to infinty\n",
"x=%inf;\n",
"y=(T_x-T_in)/(Ts-T_in);\n",
"//For values of x and y we have\n",
"neta=0.36;\n",
"t=90*24*60*60;//[seconds]\n",
"x=2*neta*sqrt(a*t);//[m]\n",
"disp('m',x,'Water pipes must be burried to a depth of at least ')\n",
"disp('so as to avoid freezing under the specified harsh winter conditions')"
   ]
   }
,
{
		   "cell_type": "markdown",
		   "metadata": {},
		   "source": [
			"## Example 4.7: ab67.sce"
		   ]
		  },
  {
"cell_type": "code",
	   "execution_count": null,
	   "metadata": {
	    "collapsed": true
	   },
	   "outputs": [],
"source": [
"clear;\n",
"clc;\n",
"\n",
"//Example4.7[Surface Temperature Rise of Heated Blocks]\n",
"//Given:-\n",
"flux=1250;//Constant solar heat flux[W/m^2]\n",
"T=20;//Temperature of black painted wood block[degree Celcius]\n",
"k_wood=1.26;//Thermal conductivity of wood at room temperature[W/m.K]\n",
"a_wood=1.1*(10^(-5));//Diffusivity of wood at room temperature[m^2/s]\n",
"k_aluminium=237;//Thermal conductivity of aluminium at room temperature[W/m.K]\n",
"a_aluminium=9.71*(10^(-5));//Diffusivity of aluminium at room temperature[m^2/s]\n",
"t=20*60;//[seconds]\n",
"//Solution:-\n",
"Ts_wood=T+((flux/k_wood)*(sqrt((4*a_wood*t)/%pi)));//[degree Celcius]\n",
"Ts_aluminium=T+((flux/k_aluminium)*(sqrt((4*a_aluminium*t)/%pi)));//[degree Celcius]\n",
"disp('respectively','degree Celcius',round (Ts_aluminium),'and',ceil (Ts_wood),'The surface temperature fro both the wood and aluminium blocks are ')"
   ]
   }
,
{
		   "cell_type": "markdown",
		   "metadata": {},
		   "source": [
			"## Example 4.8: ab68.sce"
		   ]
		  },
  {
"cell_type": "code",
	   "execution_count": null,
	   "metadata": {
	    "collapsed": true
	   },
	   "outputs": [],
"source": [
"clear;\n",
"clc;\n",
"\n",
"//Example4.8[Cooling of a Short Brass Cylinder]\n",
"//Given:-\n",
"Ti=120;//Initial Temperature[degree Celcius]\n",
"T_ambient=25;//Temperature of atmospheric air[degree Celcius]\n",
"h=60;//convetcion heat transfer coefficient[W/m^2.degree Celcius]\n",
"r=0.05;//radius of cylinder[m]\n",
"L=0.06;//thickness[m]\n",
"a=3.39*(10^(-5));//Diffusivity of brass[m^2/s]\n",
"k=110;//Thermal conductivity of brass[W/m.degree Celcius]\n",
"t=900;//[seconds]\n",
"//Solution (a):-\n",
"disp('At the center of the plane wall')\n",
"tau1=(a*t)/(L^2);\n",
"Bi1=(h*L)/k;\n",
"disp('respectively',Bi1,'and',tau1,'Fourier no and Biot no are')\n",
"disp('At the center of the cylinder')\n",
"tau2=(a*t)/(r^2);\n",
"Bi2=(h*r)/k;\n",
"disp('respectively',Bi2,'and',tau2,'Fourier no and Biot no are')\n",
"theta_wall_c=0.8;//(T(0,t)-T_ambient)/(Ti-T_ambient)\n",
"theta_cyl_c=0.5;//(T(0,t)-T_ambient)/(Ti-T_ambient)\n",
"T_center=T_ambient+((theta_wall_c*theta_cyl_c)*(Ti-T_ambient));//[degree Celcius]\n",
"disp('degree Celcius',round (T_center),'The temperature at the center of the short cylinder is')\n",
"//Solution (b):-\n",
"//The centre of the top surface of the cylinder is still at the center of the lonf cylinder(r=0),but at the outer surface of the plane wall(x=L).\n",
"x=L;//[m]\n",
"y=x/L;\n",
"//For Bi=Bi1 and x=1\n",
"theta_wall_L=0.98*theta_wall_c;//(T(L,t)-T_ambient)/(Ti-T_ambient)\n",
"T_surface=T_ambient+((theta_wall_L*theta_cyl_c)*(Ti-T_ambient));//[degree Celcius]\n",
"disp('degree Celcius',round (T_surface),'The temperature at the top surface of the cylinder')"
   ]
   }
,
{
		   "cell_type": "markdown",
		   "metadata": {},
		   "source": [
			"## Example 4.9: ab69.sce"
		   ]
		  },
  {
"cell_type": "code",
	   "execution_count": null,
	   "metadata": {
	    "collapsed": true
	   },
	   "outputs": [],
"source": [
"clear;\n",
"clc;\n",
"\n",
"//Example4.9[Heat transfer from a Short Cylinder]\n",
"//Given:-\n",
"Ti=120;//Initial Temperature[degree Celcius]\n",
"T_ambient=25;//Temperature of atmospheric air[degree Celcius]\n",
"rho=8530;//density of brass cyliner[kg/m^3]\n",
"Cp=0.380;//Specific heat of brass cylinder[kJ/kg.degree Celcius]\n",
"r=0.05;//radius[m]\n",
"H=0.12;//Height of cylinder[m]\n",
"h=60;//convetcion heat transfer coefficient[W/m^2.degree Celcius]\n",
"a=3.39*(10^(-5));//Diffusivity of brass [m^2/s]\n",
"k=110;//Thermal conductivity of brass[W/m.degree Celcius]\n",
"L=0.06;//[m]\n",
"t=900;//[seconds]\n",
"//Solution:-\n",
"m=rho*(%pi*(r^2)*H);//mass of cylinder[kg]\n",
"Q_max=m*Cp*(Ti-T_ambient);//[kJ]\n",
"disp('At the center of the plane wall')\n",
"tau1=(a*t)/(L^2);\n",
"Bi1=(h*L)/k;\n",
"x=(Bi1^2)*tau1;\n",
"//For given x and Bi1\n",
"p=0.23;//(Q/Qmax) for plane wall\n",
"disp('At the center of the cylinder')\n",
"tau2=(a*t)/(r^2);\n",
"Bi2=(h*r)/k;\n",
"y=(Bi2^2)*tau2;\n",
"//For given y and Bi2\n",
"q=0.47;//(Q/Qmax) for infinite cylinder\n",
"Q=Q_max*(p+(q*(1-p)));//[kJ]\n",
"disp('kJ',ceil (Q),'The total heat transfer from the cylinder during the first 15 minutes of cooling is')"
   ]
   }
],
"metadata": {
		  "kernelspec": {
		   "display_name": "Scilab",
		   "language": "scilab",
		   "name": "scilab"
		  },
		  "language_info": {
		   "file_extension": ".sce",
		   "help_links": [
			{
			 "text": "MetaKernel Magics",
			 "url": "https://github.com/calysto/metakernel/blob/master/metakernel/magics/README.md"
			}
		   ],
		   "mimetype": "text/x-octave",
		   "name": "scilab",
		   "version": "0.7.1"
		  }
		 },
		 "nbformat": 4,
		 "nbformat_minor": 0
}
