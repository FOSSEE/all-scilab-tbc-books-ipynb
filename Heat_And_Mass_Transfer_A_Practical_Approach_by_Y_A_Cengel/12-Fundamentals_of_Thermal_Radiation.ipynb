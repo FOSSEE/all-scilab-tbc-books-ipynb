{
"cells": [
 {
		   "cell_type": "markdown",
	   "metadata": {},
	   "source": [
       "# Chapter 12: Fundamentals of Thermal Radiation"
	   ]
	},
{
		   "cell_type": "markdown",
		   "metadata": {},
		   "source": [
			"## Example 12.1: ab141.sce"
		   ]
		  },
  {
"cell_type": "code",
	   "execution_count": null,
	   "metadata": {
	    "collapsed": true
	   },
	   "outputs": [],
"source": [
"clear;\n",
"clc;\n",
"\n",
"//Example12.1[Radiation Emission from a Black Ball]\n",
"//Given:-\n",
"T=800;//Temperature of suspended ball[K]\n",
"D=0.2;//Diameter[m]\n",
"C1=3.74177*10^8;//[(micrometer^4)/m^2]\n",
"C2=1.43878*10^4;//[micrometer.K]\n",
"lambda=3;//[micrometer]\n",
"//Solution (a):-\n",
"Eb=(5.67*10^(-8))*(T^4);//[W/m^2]\n",
"disp('of energy in the form of energy in the form of electromagnetic radiation per second per m^2','kJ',Eb/1000,'The ball emits')\n",
"//Solution(b):-\n",
"As=%pi*(D^2);//[m^2]\n",
"disp('m^2',As,'The total Surface area of the ball is')\n",
"del_t=5*60;//[seconds]\n",
"Q_rad=Eb*As*del_t;//[J]\n",
"disp('kJ',Q_rad/1000,'The total amount of radiation energy emitted from the entire ball is')\n",
"//Solution (c)\n",
"Eb_lambda=C1/((lambda^5)*((exp(C2/(lambda*T)))-1));//[W/m^2.micrometer]\n",
"disp('W/m^2.micrometer',round(Eb_lambda),'The spectral blackbody emissive power')"
   ]
   }
,
{
		   "cell_type": "markdown",
		   "metadata": {},
		   "source": [
			"## Example 12.2: ab142.sce"
		   ]
		  },
  {
"cell_type": "code",
	   "execution_count": null,
	   "metadata": {
	    "collapsed": true
	   },
	   "outputs": [],
"source": [
"clear;\n",
"clc;\n",
"\n",
"//Example12.2[Emission of Radiation from a Lightbulb]\n",
"//Given:-\n",
"T=2500;//Temp of the filament[K]\n",
"lambda1=0.4,lambda2=0.76;//Visible ranfe[micrometer]\n",
"f1=0.000321,f2=0.053035;//The black body radiation functions corresponding to lamda1*T and lambda2*T\n",
"//Solution:-\n",
"f3=f2-f1;\n",
"disp(f3,'Fraction of radiation emitted between the two given wavelengths is')\n",
"lambda_max=2897.8/T;//[micrometer]\n",
"disp('micron',lambda_max,'The wavelength at which the emission of radiation from the filament peaks is')"
   ]
   }
,
{
		   "cell_type": "markdown",
		   "metadata": {},
		   "source": [
			"## Example 12.3: ab143.sce"
		   ]
		  },
  {
"cell_type": "code",
	   "execution_count": null,
	   "metadata": {
	    "collapsed": true
	   },
	   "outputs": [],
"source": [
"clear;\n",
"clc;\n",
"\n",
"//Example12.3[Radiation Incident on a small surface]\n",
"//Given:-\n",
"A1=3^10^(-4);//[m^2]\n",
"T1=600;//[k]\n",
"A2=5*10^(-4);//[m^2]\n",
"theta1=%pi*55/180,theta2=%pi*40/180;//[Radian]\n",
"r=0.75;//[m]\n",
"//Solution:-\n",
"w_2_1=(A2*cos(theta2))/(r^2);//[Steradian]\n",
"disp('sr',w_2_1,'The solid angle subtended by a2 when viewed from A1 is')\n",
"I1=(5.67*10^(-8))*(T1^4)/(%pi);//[W/m^2.sr]\n",
"disp('W/m^2.sr',I1,'The Intensity of radiation emitted by A1 is')\n",
"Q1_2=I1*(A1*cos(theta1))*w_2_1;//[W]\n",
"disp('W',Q1_2,'is ','Steradian',w_2_1,'through the solid angle','radians',theta1,'The rate of radiation energy emitted by A1 in the direction of')"
   ]
   }
,
{
		   "cell_type": "markdown",
		   "metadata": {},
		   "source": [
			"## Example 12.4: ab144.sce"
		   ]
		  },
  {
"cell_type": "code",
	   "execution_count": null,
	   "metadata": {
	    "collapsed": true
	   },
	   "outputs": [],
"source": [
"clear;\n",
"clc;\n",
"\n",
"//Example12.4[Emissivity of a surface and emissive Power]\n",
"e1=0.3;//For 0<= lambda <= 3micron \n",
"e2=0.8;//3micron<=lambda<=7micron\n",
"e3=0.1;//7micron<=lamda<infinity\n",
"lambda1=3,lambda2=7;//[micron]\n",
"T=800;//[K]\n",
"//Solution:-\n",
"p=lambda1*T;//[micron.K]\n",
"q=lambda2*T;//[micron.K]\n",
"//Hence blackbody radiation functions are\n",
"f1=0.140256;\n",
"f2=0.701046;\n",
"f0_1=f1-0;\n",
"f2_inf=1-f2;\n",
"e_T=e1*f1+e2*(f2-f1)+e3*(1-f2);\n",
"disp(e_T,'Average emissivity of the surface is')\n",
"E=e_T*(5.67*10^(-8))*(T^4);//[W/m^2]\n",
"disp('W/m^2',E,'The Emissive Power of the surface is')"
   ]
   }
,
{
		   "cell_type": "markdown",
		   "metadata": {},
		   "source": [
			"## Example 12.5: ab145.sce"
		   ]
		  },
  {
"cell_type": "code",
	   "execution_count": null,
	   "metadata": {
	    "collapsed": true
	   },
	   "outputs": [],
"source": [
"clear;\n",
"clc;\n",
"\n",
"//Example12.6[Selective Absorber and Reflective Surfaces]\n",
"//Given:-\n",
"G_D=400,G_d=300;//Direct and diffuse components of solar radiation[W/m^2]\n",
"Ts=320,T_sky=260;//[K]\n",
"theta=20*%pi/180\n",
"//Solution:-\n",
"G_solar=(G_D*cos(theta))+G_d\n",
"//(a)\n",
"ab_a=0.9,e_a=0.9;//Grey absorber surface\n",
"q_net_rad_a=ab_a*G_solar+e_a*(5.67*10^(-8))*((T_sky^4)-(Ts^4));//[W/m^2]\n",
"disp('W/m^2',round(q_net_rad_a),'(a) The net radiation heat transfer is')\n",
"//(b)\n",
"ab_b=0.1,e_b=0.1;//Grey reflector surface\n",
"q_net_rad_b=ab_b*G_solar+e_b*(5.67*10^(-8))*((T_sky^4)-(Ts^4));//[W/m^2]\n",
"disp('W/m^2',round(q_net_rad_b),'The net radiation heat transfer is')\n",
"//(c)\n",
"ab_c=0.9,e_c=0.1;//Selective Absorber surface\n",
"\n",
"q_net_rad_c=ab_c*G_solar+e_c*(5.67*10^(-8))*((T_sky^4)-(Ts^4));//[W/m^2]\n",
"disp('W/m^2',round(q_net_rad_c),'The net radiation heat transfer is')\n",
"//(d)\n",
"ab_d=0.1,e_d=0.9;//Selective reflector surface\n",
"q_net_rad_d=ab_d*G_solar+e_d*(5.67*10^(-8))*((T_sky^4)-(Ts^4));//[W/m^2]\n",
"disp('W/m^2',round(q_net_rad_d),'The net radiation heat transfer is')"
   ]
   }
,
{
		   "cell_type": "markdown",
		   "metadata": {},
		   "source": [
			"## Example 12.6: ab146.sce"
		   ]
		  },
  {
"cell_type": "code",
	   "execution_count": null,
	   "metadata": {
	    "collapsed": true
	   },
	   "outputs": [],
"source": [
"clear;\n",
"clc;\n",
"\n",
"//Example12.6[Installing Reflective Films on Windows]\n",
"//Given:-\n",
"A_glazing=40;//[m^2]\n",
"SHGC_wof=0.766,SHGC_wf=0.261;//[kWh/year]\n",
"unit_c_e=0.08;//[$/kWh]\n",
"unit_c_f=0.5;//[$/therm]\n",
"COP=2.5,neta=0.80;\n",
"//Solution:-\n",
"//For the months of June,July,August and Sepetember\n",
"Q_summer=5.31*30+4.31*31+3.93*31+3.28*30;//[kWh/year]\n",
"//For the months oct,Nov,Dec,Jan,Feb,Mar,Apr\n",
"Q_winter=2.80*31+1.84*30+1.54*31+1.86*31+2.66*28+3.43*31+4.00*30;//[kWh/year]\n",
"c_l_d=Q_summer*A_glazing*(SHGC_wof-SHGC_wf);//[kWh/year]\n",
"disp('kWh/year',c_l_d,'The decrease in the annual cooling load is')\n",
"h_l_i=Q_winter*A_glazing*(SHGC_wof-SHGC_wf);//[kWh/year]\n",
"disp('kWh/year',h_l_i,'The increase in annual heating load is')\n",
"d_c_c=c_l_d*(unit_c_e)/COP;//[$/year]\n",
"i_h_c=h_l_i*(unit_c_f/29.31)/neta;//[$/year]\n",
"disp('per year',i_h_c,'and $',d_c_c,'The corresponding decrease in cooling costs and the increase in heating costs are $')\n",
"Cost_s=d_c_c-i_h_c;//[$/year]\n",
"disp('per year',Cost_s,'The net annual cost savings due to the reflective film is $')\n",
"I_cost=20*A_glazing;//[$]\n",
"disp(I_cost,'The implementation Cost of installing films is $')\n",
"pp=I_cost/Cost_s;//[years]\n",
"disp('years',pp,'Payback Period is')"
   ]
   }
],
"metadata": {
		  "kernelspec": {
		   "display_name": "Scilab",
		   "language": "scilab",
		   "name": "scilab"
		  },
		  "language_info": {
		   "file_extension": ".sce",
		   "help_links": [
			{
			 "text": "MetaKernel Magics",
			 "url": "https://github.com/calysto/metakernel/blob/master/metakernel/magics/README.md"
			}
		   ],
		   "mimetype": "text/x-octave",
		   "name": "scilab",
		   "version": "0.7.1"
		  }
		 },
		 "nbformat": 4,
		 "nbformat_minor": 0
}
