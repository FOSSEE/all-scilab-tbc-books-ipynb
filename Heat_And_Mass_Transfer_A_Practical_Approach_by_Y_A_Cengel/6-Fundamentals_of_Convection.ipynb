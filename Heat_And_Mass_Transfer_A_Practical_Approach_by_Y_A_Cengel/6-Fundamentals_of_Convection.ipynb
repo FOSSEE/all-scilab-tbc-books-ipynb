{
"cells": [
 {
		   "cell_type": "markdown",
	   "metadata": {},
	   "source": [
       "# Chapter 6: Fundamentals of Convection"
	   ]
	},
{
		   "cell_type": "markdown",
		   "metadata": {},
		   "source": [
			"## Example 6.1: ab81.sce"
		   ]
		  },
  {
"cell_type": "code",
	   "execution_count": null,
	   "metadata": {
	    "collapsed": true
	   },
	   "outputs": [],
"source": [
"clear;\n",
"clc;\n",
"\n",
"//Example6.1[Temperature Rise of Oil is a Journal Bearing]\n",
"//Given:-\n",
"k=0.145;//[W/m.K]\n",
"mu=0.8374;//[kg/m.s]or[N.s/m^2]\n",
"T1=20;//Temperature of both the plates[degree Celcius]\n",
"t=0.002;//Thickness of oil film between the plates[m]\n",
"v=12;//Velocity with which plates move[m/s]\n",
"//Solution (a):-\n",
"//Relation between velocity and temperature variation\n",
"disp('T(y)=T0+(mu*(v^2)/(2*k))[(y/L)-((y/L)^2)]')\n",
"//Solution(b):-\n",
"//The location of maximum temperature is determined by setting dT/dy=0 and solving for y\n",
"//(mu*(v^2)/(2*k*L))*(1-(2*y/L))=0\n",
"L=1;//Random initialisation of variable L, where L is length of plates\n",
"y=L/2;\n",
"//T_max=T(L/2)\n",
"T_max=T1+((mu*(v^2)/(2*k))*(((L/2)/L)-(((L/2)^2)/(L^2))));\n",
"disp('degree Celcius',ceil(T_max),'Maximum temperature occurs at mid plane and its value is')\n",
"//heat flux q0=-kdt/dy|y=0;=-kmu*v^2/(2*k*L)\n",
"q0=-(mu*k*(v^2)/(2*k*t))/1000;//Heat flux from one plate [kW/m^2]\n",
"qL=-((k*mu*(v^2))*(1-2)/(2*k*t*1000));//Heat flux from another plate[kW/m^2]\n",
"disp('kW/m^2',qL,'Heat fluxes at the two plates are equal in magnitude but opposite in sign and the value of magnitude is')"
   ]
   }
,
{
		   "cell_type": "markdown",
		   "metadata": {},
		   "source": [
			"## Example 6.2: ab82.sce"
		   ]
		  },
  {
"cell_type": "code",
	   "execution_count": null,
	   "metadata": {
	    "collapsed": true
	   },
	   "outputs": [],
"source": [
"clear;\n",
"clc;\n",
"\n",
"//Example6.2[Finding Convection Coefficient from Drag Measurement]\n",
"//Given:-\n",
"//Properties of air\n",
"rho=1.204;//[kg/m^3]\n",
"Cp=1007;//[J/kg.K]\n",
"Pr=0.7309;//Prandtl number\n",
"w=2;//Width of plate[m]\n",
"L=3;//Characteristic length of plate[m]\n",
"v=7;//velocity of air[m/s]\n",
"Fd=0.86;//Total grag force[N]\n",
"//Solution:-\n",
"As=2*w*L;//Since both sides of plate are exposed to air flow[m^2]\n",
"//For flat plates drag force is equivalent to friction coefficient Cf\n",
"Cf=Fd/(rho*As*(v^2)/2);\n",
"h=(Cf*rho*v*Cp)/(2*(Pr^(2/3)));//[W/m^2.degree Celcius]\n",
"disp('respectively','W/m^2.degree Celcius',h,'and',Cf,'Friction Factor and average heat transfer coefficient are')"
   ]
   }
],
"metadata": {
		  "kernelspec": {
		   "display_name": "Scilab",
		   "language": "scilab",
		   "name": "scilab"
		  },
		  "language_info": {
		   "file_extension": ".sce",
		   "help_links": [
			{
			 "text": "MetaKernel Magics",
			 "url": "https://github.com/calysto/metakernel/blob/master/metakernel/magics/README.md"
			}
		   ],
		   "mimetype": "text/x-octave",
		   "name": "scilab",
		   "version": "0.7.1"
		  }
		 },
		 "nbformat": 4,
		 "nbformat_minor": 0
}
