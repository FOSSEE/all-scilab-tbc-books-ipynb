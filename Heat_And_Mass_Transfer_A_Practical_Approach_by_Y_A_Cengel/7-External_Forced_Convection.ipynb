{
"cells": [
 {
		   "cell_type": "markdown",
	   "metadata": {},
	   "source": [
       "# Chapter 7: External Forced Convection"
	   ]
	},
{
		   "cell_type": "markdown",
		   "metadata": {},
		   "source": [
			"## Example 7.1: ab91.sce"
		   ]
		  },
  {
"cell_type": "code",
	   "execution_count": null,
	   "metadata": {
	    "collapsed": true
	   },
	   "outputs": [],
"source": [
"clear;\n",
"clc;\n",
"\n",
"//Example7.1[Flow of hot oil over a Flat Plate]\n",
"//Given:-\n",
"T_oil=60;//Temp of engine oil[degree Celcius]\n",
"T_plate=20;//Temp of flat plate[degree Celcius]\n",
"Rec=5*10^5;//Critical reynolds number for laminar flow\n",
"Tf=(T_oil+T_plate)/2;//Film temperature[degree Celcius]\n",
"v=2;//[m/s]\n",
"//Properties of engine oil at film temperature\n",
"rho=876;//[kg/m^3]\n",
"Pr=2962;//Prandtl number\n",
"k=0.1444;//[W/m.degree Celcius]\n",
"nu=2.485*10^(-4);//dynamic viscosity[m^2/s]\n",
"L=5;//Length of plate[m]\n",
"ReL=(v*L)/nu;\n",
"if(ReL<Rec) then,\n",
"    disp('We have laminar flow over the entire plate')\n",
"    Cf=1.33*(ReL^(-0.5));\n",
"    disp(Cf,'The average friction coefficient is')\n",
"    //Pressure Drag is zero and thus Cd=Cf for parallel floe over a flat plate\n",
"    Fd=Cf*5*1*rho*(v^2)/2;//[N]\n",
"    disp('N',Fd,'The drag force acting on the plate per unit width is')\n",
"else,\n",
"    disp('flow is turbulent')\n",
"end\n",
"Nu=0.664*(ReL^(0.5))*(Pr^(1/3));//Nusselt Number\n",
"disp(ceil(Nu),'Nusselt Number is')\n",
"h=k*Nu/L;//[W/m^2.degree Celcius]\n",
"disp('W/m^.degree Celcius',h,'Convective heat transfer coefficient is')\n",
"Q=h*(5*1)*(T_oil-T_plate);//[W]\n",
"disp('W',round(Q),'Heat flow rate is')"
   ]
   }
,
{
		   "cell_type": "markdown",
		   "metadata": {},
		   "source": [
			"## Example 7.2: ab92.sce"
		   ]
		  },
  {
"cell_type": "code",
	   "execution_count": null,
	   "metadata": {
	    "collapsed": true
	   },
	   "outputs": [],
"source": [
"clear;\n",
"clc;\n",
"\n",
"//Example7.2[Cooling of a Hot Block by Forced Air at High Elevation]\n",
"//Given:-\n",
"ReC=5*10^5;//critical Reynolds number\n",
"v=8;//Velocity of air[m/s]\n",
"T_air=20;//Initial Temperature of air[degree Celcius]\n",
"T_plate=140;//Temperature of flat plate[degree Celcius]\n",
"T_film=(T_air+T_plate)/2;//Film Temperature of air[degree Celcius]\n",
"//Properties of air at film temperature[degree Celcius]\n",
"k=0.02953;//[W/m.degree Celcius]\n",
"Pr=0.7154;//Prandtl Number\n",
"nu=2.097*10^(-5);//Kinematic Viscosity at 1 atm Pressure [m^2/s]\n",
"nu_ac=nu/0.823;//Kinematic viscosity at pressure 0.823 atm[m^2/s]\n",
"//Solution(a)\n",
"L1=6;//Characteristic length of plate along the flow of air[m]\n",
"w1=1.5;//width[m]\n",
"ReL1=(v*L1)/nu_ac;//Reynolds number\n",
"if(ReL1>ReC) then,\n",
"    disp('Flow is not laminar')\n",
"    //We have average Nusselt Number\n",
"    Nu1=((0.037*(ReL1^(0.8)))-871)*(Pr^(1/3));\n",
"    disp(ceil(Nu1),'Nusselt Number is')\n",
"    h1=k*Nu1/L1;//[W/m^2.degree Celcius]\n",
"    As1=w1*L1;//Flow Area of plate[m^2]\n",
"    Q1=h1*As1*(T_plate-T_air);\n",
"    disp('W',Q1,'Heat Flow Rate is')\n",
"else,\n",
"    disp('Flow is laminar')\n",
"end\n",
"//Solution(b)\n",
"L2=1.5;//Characteristic length of plate along flow of air[m]\n",
"ReL2=v*L2/nu_ac;//Reynolds Number\n",
"if(ReL2<Rec) then,\n",
"    disp('Flow is laminar')\n",
"    Nu2=0.664*(ReL2^(0.5))*(Pr^(1/3));\n",
"    disp(ceil(Nu2),'Nusselt Number is')\n",
"    h2=k*Nu2/L2;//[W/m^2.degree Celcius]\n",
"    Q2=h2*As1*(T_plate-T_air);\n",
"    disp('W',ceil(Q2),'The heat transfer rate is')\n",
"else,\n",
"    disp('Flow is turbulent')\n",
"end"
   ]
   }
,
{
		   "cell_type": "markdown",
		   "metadata": {},
		   "source": [
			"## Example 7.3: ab93.sce"
		   ]
		  },
  {
"cell_type": "code",
	   "execution_count": null,
	   "metadata": {
	    "collapsed": true
	   },
	   "outputs": [],
"source": [
"clear;\n",
"clc;\n",
"\n",
"//Example7.3[Cooling of Plastic Sheets by Forced Air]\n",
"//Given:-\n",
"T_p=95;//Temp of plastic Sheet[degree Celcius]\n",
"T_air=25;//Temp of air[degree Celcius]\n",
"v=3;//Velocity of flowing air[m/s]\n",
"L=0.6;//Length of plastic sheet[m]\n",
"w=1.2;//width[m]\n",
"k=0.02808;//[W/m.degree Celcius]\n",
"Pr=0.7202;//Prandtl Number\n",
"nu=1.896*10^(-5);//[m^2/s]\n",
"rho=1200;//[kg/m^3]\n",
"Cp=1700;//[J/kg.degree Celcius]\n",
"vp=(9/60);//Velocity of moving plastic[m/s]\n",
"tp=0.001;//Thickness of plastic[m]\n",
"ReC=5*10^5;//Crictical Reynolds Number\n",
"e=0.9;//emissivity\n",
"//Solution(a)\n",
"L1=2*L;//Considering both sides of plastic sheet[m]\n",
"ReL1=v*L1/nu;//Reynolds number\n",
"if(ReL1<ReC) then,\n",
"    disp('(a) Flow is laminar')\n",
"    Nu1=0.664*(ReL1^0.5)*(Pr^(1/3));\n",
"    disp(Nu1,'The nusselt number is')\n",
"    h=k*Nu1/L1;//[W/m^2.degree Celcius]\n",
"    As=L1*w;//[m^2]\n",
"    Q_conv=h*As*(T_p-T_air);//[W]\n",
"    disp('W',ceil(Q_conv),'The covection heat flow rate is')\n",
"    Q_rad=e*(5.67*10^(-8))*As*(((T_p+273)^4)-((T_air+273)^4));//[W]\n",
"    disp('W',(Q_rad),'Radiation heat transfer rate is')\n",
"    Q_total=Q_conv+Q_rad;//[W]\n",
"    disp('W',ceil(Q_total),'The rate of cooling of the plastic sheet by combined convection and radiation is')\n",
"else\n",
"    disp('(a) The Flow is turbulent')\n",
"end\n",
"//Solution(b)\n",
"At=w*tp;//[m^2]\n",
"m=rho*At*vp;//ass of th plastic rolling out per unit time[kg/s]\n",
"T2=T_p+(-Q_total/(m*Cp));//[degree Celcius]\n",
"disp('degree Celcius',T2,'(b) The temperature of the plastic sheet as it leaves the cooling section is')"
   ]
   }
,
{
		   "cell_type": "markdown",
		   "metadata": {},
		   "source": [
			"## Example 7.4: ab94.sce"
		   ]
		  },
  {
"cell_type": "code",
	   "execution_count": null,
	   "metadata": {
	    "collapsed": true
	   },
	   "outputs": [],
"source": [
"clear;\n",
"clc;\n",
"\n",
"//Example7.4[Drag Force Acting on a Pipe in a River]\n",
"//Given:-\n",
"T_water=15;//[degree Celcius]\n",
"vw=4;//Velocity of water[m/s]\n",
"od=0.022;//Outer diameter of pipe[m]\n",
"w=30;//width of river[m]\n",
"//At 15 degree C properties of water\n",
"rho=999.1;//[kg/m^3]\n",
"mu=1.138*10^(-3);//viscosity[kg/m.s]\n",
"Re=(rho*vw*od)/mu;//Reynolds number\n",
"Cd=1.0;//Dreag coefficient\n",
"A=w*od;//Frontal area for flow past a cylinder[m^2]\n",
"Fd=Cd*A*rho*(vw^2)/2;//[N]\n",
"disp('kN',Fd/1000,'The drag force acting on the pipe is')"
   ]
   }
,
{
		   "cell_type": "markdown",
		   "metadata": {},
		   "source": [
			"## Example 7.5: ab95.sce"
		   ]
		  },
  {
"cell_type": "code",
	   "execution_count": null,
	   "metadata": {
	    "collapsed": true
	   },
	   "outputs": [],
"source": [
"clear;\n",
"clc;\n",
"\n",
"//Example7.5[Heat Loss from a Steam Pipe in Windy Air]\n",
"d=0.1//diameter of pipe[m]\n",
"Ts=110;//Temp of ecternal surface of pipe[degree Celcius]\n",
"Ta=10;//Temp of air[degree Celcius]\n",
"va=8;//Velocity of air[m/s]\n",
"Tf=(Ts+Ta)/2;//Film temperature[degree Celcius]\n",
"k=0.02808;//[W/m.degree Celcius]\n",
"Pr=0.7202;//Prandtl Number\n",
"nu=1.896*10^(-5);//Kinematic viscosity[m^2/s]\n",
"//Solution:-\n",
"Re=(va*d)/nu;//Reynolds Number\n",
"Nu=0.3+((0.62*(Re^(0.5))*(Pr^(1/3)))/((1+((0.4/Pr)^(2/3)))^(1/4))*[(1+((Re/282000)^(5/8)))^(4/5)]);\n",
"disp(round(Nu),'The nusselt number is')\n",
"h=k*Nu/d;//[W/m^2.degree Celcius]\n",
"As=%pi*d*1;//Area of pipe per unit length[m^2]\n",
"Q=h*As*(Ts-Ta);//[W]\n",
"disp('W',ceil(Q),'The rate of heat loss from the pipe per unit of its length is')"
   ]
   }
,
{
		   "cell_type": "markdown",
		   "metadata": {},
		   "source": [
			"## Example 7.6: ab96.sce"
		   ]
		  },
  {
"cell_type": "code",
	   "execution_count": null,
	   "metadata": {
	    "collapsed": true
	   },
	   "outputs": [],
"source": [
"clear;\n",
"clc;\n",
"\n",
"//Example7.6[Cooling of a Steel Ball by Forced Air]\n",
"//Given:-\n",
"rho=8055;//[kg/m^3]\n",
"Cp=480;//[J/kg.degree Celcius]\n",
"To=300;//Temp of oven[degree Celcius]\n",
"Ta=25;//Temp of air[degree Celcius]\n",
"va=3;//Velocity of air[m/s]\n",
"Ts=200;//Dropped temp of surface of ball[degree Celcius]\n",
"Ts_avg=(Ts+To)/2;//[degree Celcius]\n",
"d=0.25;//[m]\n",
"mu_s=2.76*10^(-5);//Dynamic Viscosity at average surface temperature[kg/m.s]\n",
"//Properties of air at 25 degree Celcius\n",
"k=0.02551;//[W/m.degree Celcius]\n",
"nu=1.562*10^(-5);//kinematic viscosity[m^2/s]\n",
"mu=1.849*10^(-5);//Dynamic viscosity of air at 25 degree C[kg/m.s]\n",
"//Solution:-\n",
"Re=va*d/nu;//[Reynolds Number]\n",
"Nu=2+[(0.4*(Re^(1/2)))+(0.06*(Re^(2/3)))]*(Pr^(0.4))*((mu/mu_s)^(1/4));\n",
"disp(ceil(Nu),'The Nusselt number is')\n",
"h=k*Nu/d;//[W/m^2.degree Celcius]\n",
"As=%pi*(d^2);//[m^2]\n",
"Q_avg=h*As*(Ts_avg-Ta);//[W]\n",
"disp('W',ceil(Q_avg),'The average rate of heat transfer from Newtons Law of cooling is')\n",
"m=rho*%pi*(d^3)/6;//[kg]\n",
"Q_total=m*Cp*(To-Ts);//[J]\n",
"disp('J',Q_total,'The total heat transferred from the ball is')\n",
"delta_t=Q_total/Q_avg;//[s]\n",
"disp('hour',delta_t/3600,'The time of cooling is')"
   ]
   }
,
{
		   "cell_type": "markdown",
		   "metadata": {},
		   "source": [
			"## Example 7.7: ab97.sce"
		   ]
		  },
  {
"cell_type": "code",
	   "execution_count": null,
	   "metadata": {
	    "collapsed": true
	   },
	   "outputs": [],
"source": [
"clear;\n",
"clc;\n",
"\n",
"//Example7.7[Preheating Air by Geothermal Water in a Tube Bank]\n",
"//Given:-\n",
"Ta_in=20;//Temp of air whileentering the duct[degree Celcius]\n",
"v=4.5;//mean velocity[m/s]\n",
"T_tw=120;//Temp of geothermal water[degree Celcius]\n",
"od=0.015;//Outer Diameter of tubes[m]\n",
"SL=0.05,ST=0.05;//Longitudinal and transverse pitches[m]\n",
"//Properties of air at mean temp\n",
"k=0.02808;//[W/m.K]\n",
"rho=1.059;//[kg/m^3]\n",
"Cp=1007;//[J/kg.K]\n",
"Pr=0.7202;//Prandtl no\n",
"Pr_s=0.7073;//Prandtl no at temp = 120 degree C\n",
"mu=2.008*10^(-5);//Viscosity[kg/m.s]\n",
"rho_in=1.204;//density of air at inlet conditions[kg/m^3]\n",
"//Solution:-\n",
"v_max=(ST*v)/(ST-od);//maximu velocity[m/s]\n",
"Re=rho*v_max*od/mu;//Reynolds Number\n",
"disp(Re,'Reynolds number is')\n",
"Nu=0.27*(Re^(0.63))*(Pr^(0.36))*((Pr/Pr_s)^0.25);\n",
"disp(Nu,'The nusselt number is')\n",
"Nl=6;//No of rows of tubes\n",
"Nt=10;//No of tubes in each row\n",
"F=0.945;//For Nl=6, correction factor \n",
"Nu_Nl=F*Nu;\n",
"h=Nu_Nl*k/od;//[W/m^2.degree Celcius]\n",
"N=Nl*Nt;//Total no of tubes\n",
"//For unit tube length\n",
"As=N*%pi*od*1;//[m^2]\n",
"m=rho_in*v*(Nt*ST*1);//[kg/s]\n",
"disp('kg/s',m,'Mass flow rate of air is')\n",
"Te=T_tw-((T_tw-Ta_in)*exp((-As*h)/(m*Cp)));//[degree Celcius]\n",
"disp('degree Celcius',Te,'Fluid exit temperature is')\n",
"T_ln=(((T_tw-Te)-(T_tw-Ta_in))/(log((T_tw-Te)/(T_tw-Ta_in))));//[degree Celcius]\n",
"disp('degree Celcius',T_ln,'Log mean temperature difference is')\n",
"Q=h*As*T_ln;//[W]\n",
"disp('W',Q,'Rate of heat transfer is')\n",
"//For given Re and SL/od ratio friction coefficient is\n",
"f=0.16;\n",
"delta_P=Nl*f*rho*(v_max^2)/2;//[Pa]\n",
"disp('Pa',delta_P,'The pressure drop across the tube bank is')"
   ]
   }
,
{
		   "cell_type": "markdown",
		   "metadata": {},
		   "source": [
			"## Example 7.8: ab98.sce"
		   ]
		  },
  {
"cell_type": "code",
	   "execution_count": null,
	   "metadata": {
	    "collapsed": true
	   },
	   "outputs": [],
"source": [
"clear;\n",
"clc;\n",
"\n",
"//Example7.8[Effect of insulation on Surface Temperature]\n",
"//Given:-\n",
"Ti=120;//Initial temp of hot water[degree Celcius]\n",
"k_pipe=15;//W/m.degree Celcius \n",
"ri=0.008,ro=0.01;//Inner and outer radii[m]\n",
"t=0.002;//Thickness of pipe[m]\n",
"To=25;//Ambient temperature[degree Celcius]\n",
"Ts=40;//Maximum Temp of outer surface of insulation[degree Celcius]\n",
"hi=70,ho=20;//Heat transfer coefficients inside and outside of the pipe[W/m^2.degree Celcius]\n",
"k_insu=0.038;//[W/m.degree Celcius]\n",
"L=1;//section of pipe[m]\n",
"//Solution:-\n",
"//Areas of surfaces exposed to convection\n",
"A1=2*%pi*ri*L;//[m^2]\n",
"//Individual Thermal Resistances\n",
"R_conv1=1/(hi*A1);//[degree Celcius/W]\n",
"R_pipe=(log(ro/ri))/(2*%pi*k_pipe*L);//[degree Celcius/W]\n",
"//R_insu=(log(r3/ri))/(2*%pi*k_insu*L)\n",
"//R_conv2=1/(ho*2*%pi*r3*L)\n",
"//R_total=R_conv1+R_conv2+R_pipe+R_insu\n",
"//Q=(Ti-To)/R_total;\n",
"//Q=(Ts-To)/R_conv2;\n",
"//Equating both Q we get\n",
"function[r]=radius(r3)\n",
"    r(1)=1884*r3(1)*(0.284+0.0024+4.188*log((r3(1))/0.01)+(1/(125.6*r3(1))))-95;\n",
"    deff('[r]=radius(r3)',['radius_3=1884*r3(1)*(0.284+0.0024+4.188*log((r3(1))/0.01)+(1/(125.6*r3(1))))-95'])\n",
"endfunction\n",
"    disp('m',xs,'The outer radius of the insulation is')\n",
"    t=xs-ro;//[m]\n",
"    disp('cm',100*t,'The minimum thickness of fibreglass insulation required is')\n",
"    ///Correct output will be displayed after executing the codes once and then re-executin them\n",
"    "
   ]
   }
,
{
		   "cell_type": "markdown",
		   "metadata": {},
		   "source": [
			"## Example 7.9: ab99.sce"
		   ]
		  },
  {
"cell_type": "code",
	   "execution_count": null,
	   "metadata": {
	    "collapsed": true
	   },
	   "outputs": [],
"source": [
"clear;\n",
"clc;\n",
"\n",
"//Example7.9[Optimum Thickness of insulation]\n",
"//Given:-\n",
"k_insu=0.024;//[Btu/h.ft^2.degree Farenhiet]\n",
"Ts=180;//temp of exposed surface of oven[degree F]\n",
"Ta=75;//temp of ambient air[degree F]\n",
"L=12;//length[ft]\n",
"d=8;//Diameter[m]\n",
"time=5840;//[h/year]\n",
"ho=3.58;//Heat transfer coefficient on the outer surface[tu/h.ft^2.degree F]\n",
"unit_c1=0.75;//[$/therm]\n",
"unit_c2=2.70;//Unit cost of insulation[4/ft^2]\n",
"neta=0.8;//Efficiency\n",
"//Solution:-\n",
"As=(2*%pi*((d/2)^2))+(2*%pi*L*d/2);//Exposed surface area[ft^2]\n",
"disp(As)\n",
"Q=ho*ceil(As)*(Ts-Ta);//[Btu/h]\n",
"Q_total=(1/neta)*Q*time/(100000);//[therms]\n",
"disp('Therms',Q_total,'The total amount of heat loss from the surrounding is')\n",
"annual_c1=Q_total*unit_c1;//[$/year]\n",
"disp('per year',annual_c1,'The annual fuel cost of the oven before insulation is $')\n",
"R_conv=1/(ho*ceil(As));\n",
"R_insu=(1/12)/(k_insu*ceil(As));//Thickness id 1inch or 1/12 ft\n",
"Q_insu=(Ts-Ta)/(R_conv+R_insu);//[Btu/hr]\n",
"Q_insu_total=(1/neta)*Q_insu*time*(1/100000);//[therms]\n",
"disp('therms',Q_insu_total,'Total energy consumption by oven on being insulated')\n",
"annual_c2=Q_insu_total*unit_c1;//[$/yr]\n",
"insu_cost=(unit_c2*ceil(As));//Insulation cost[$]\n",
"Total_c=annual_c2+insu_cost;//[$]\n",
"disp(Total_c,'The sum of insulation cost and heat loss costs is $')"
   ]
   }
],
"metadata": {
		  "kernelspec": {
		   "display_name": "Scilab",
		   "language": "scilab",
		   "name": "scilab"
		  },
		  "language_info": {
		   "file_extension": ".sce",
		   "help_links": [
			{
			 "text": "MetaKernel Magics",
			 "url": "https://github.com/calysto/metakernel/blob/master/metakernel/magics/README.md"
			}
		   ],
		   "mimetype": "text/x-octave",
		   "name": "scilab",
		   "version": "0.7.1"
		  }
		 },
		 "nbformat": 4,
		 "nbformat_minor": 0
}
