{
"cells": [
 {
		   "cell_type": "markdown",
	   "metadata": {},
	   "source": [
       "# Chapter 2: Heat Conduction Equation"
	   ]
	},
{
		   "cell_type": "markdown",
		   "metadata": {},
		   "source": [
			"## Example 2.10: ab31.sce"
		   ]
		  },
  {
"cell_type": "code",
	   "execution_count": null,
	   "metadata": {
	    "collapsed": true
	   },
	   "outputs": [],
"source": [
"clear;\n",
"clc;\n",
"\n",
"//Example2.10[Combined Convection, Radiation and Heat Flux]\n",
"//Given:-\n",
"T_surf1=20;//Ambient temperature in the interior of the house[degree Celcius]\n",
"T_surf2=5;// Ambient temperature outside the house[degree Celcius]\n",
"L=0.2;// Thickness of the wall[m]\n",
"a=0.5;// absorptivity of outer surface of wall\n",
"h_in=6;//Convection heat transfer coefficient for inner surface of wall[W/m^2.degree Celcius]\n",
"h_out=25;//Convection heat transfer coefficient for outer surface of wall[W/m^2.degree Celcius]\n",
"k=0.7;//The thermal conductivity of wall material[W/m.degree Celcius]\n",
"e=0.9;//Emissivity of outer surface of wall\n",
"//Solution:-\n",
"//The heat transfer though the wall is given to be steady and one dimensional and thus temperature depends on x only i.e. T=T(x)\n",
"disp('The boundary condition ont the inner surface of the wall at x=0 can be expressed as -k(dT(0)/dx)=h_in[T_surf1-T(0)]')\n",
"disp('degree Celcius',T_surf1,'and','W/m^2.degree Celcius',h_in,'where h_in and T_surf are respectively ')\n",
"disp('The boundary condition on the outer surface at x=L can be expressed as ')\n",
"disp('-kdT(L)/dx=h_out[T(L)-T_surf2]+e*sigma[(T(L)^4)-(T_sky^4)]-a*q_solar')\n",
"disp('where T_sky is temperature of the sky and q_solar is the incident solar heat flux')"
   ]
   }
,
{
		   "cell_type": "markdown",
		   "metadata": {},
		   "source": [
			"## Example 2.11: ab32.sce"
		   ]
		  },
  {
"cell_type": "code",
	   "execution_count": null,
	   "metadata": {
	    "collapsed": true
	   },
	   "outputs": [],
"source": [
"clear;\n",
"clc;\n",
"\n",
"//Example2.11[Heat Conduction in a Plane Wall]\n",
"//Given:-\n",
"k_wall=1.2;//Thermal conductivity of wall[W/m.degree Celcius]\n",
"L=0.2;//Thickness of wall[m]\n",
"As=15;//Surface area[m^2]\n",
"T1=120,T2=50;//The two sides of the wall are maintained at these constant temperatures[degree Celcius]\n",
"//Solution (a)\n",
"disp('Differential equation can be expressed as d^2(T)/(dx^2)=0')\n",
"disp('with boundary conditions ')\n",
"disp('degree Celcius',T1,'T(0)=T1=')\n",
"disp('degree Celcius',T2,'T(L)=T2=')\n",
"disp('integrating this we get,')\n",
"disp('dT/dx=C1', ,'where C1 is an arbitrary constant')\n",
"disp('integrating we obtain temperature to follow following relation :-')\n",
"disp('and substituting values in above equation','T(x)=((T2-T1)/L)*x+T1 ')\n",
"T3=(((T2-T1)/L)*(0.1))+T1;\n",
"disp('degree Celcius',T3,'The value of temperature at x=0.1m is')\n",
"Q_wall=-k_wall*As*((T2-T1)/L);//[W]\n",
"disp('W',Q_wall,'The rate of heat conduction through the wall is')"
   ]
   }
,
{
		   "cell_type": "markdown",
		   "metadata": {},
		   "source": [
			"## Example 2.13: ab33.sce"
		   ]
		  },
  {
"cell_type": "code",
	   "execution_count": null,
	   "metadata": {
	    "collapsed": true
	   },
	   "outputs": [],
"source": [
"clear;\n",
"clc;\n",
"\n",
"//Example2.13[Heat Conduction in the Base Plate of an Iron]\n",
"//Given:-\n",
"k=15;//[W/m.degree Celcius]\n",
"A=300*10^(-4);//Base Area[m^2]\n",
"L=0.005;//Thickness[m]\n",
"T_surr=20;//Temp of surrounding[degree Celcius]\n",
"h=80;//Convection het transfer coefficient[W/m^2.degree Celcius]\n",
"Q=1200;//[W]\n",
"//Solution:-\n",
"q=Q/A;//[W/m^2]\n",
"disp('W/m^2',q,'Uniform Heat Flux to whicj inner surface of the base plate is subjected')\n",
"//Integration Constants\n",
"C1=-q/k;\n",
"C2=T_surr+(q/h)+(q*L/k);\n",
"T_0=T_surr+q*((L/k)+(1/h));//[degree Celcius]\n",
"T_L=T_surr+q*(1/h);//[degree Celcius]\n",
"disp('respectively','degree Celcius',T_L,'and','degree Celcius',round(T_0),'The temperatures at the inner and outer surfaces of the plate i.e. at x=0 and x=L are')"
   ]
   }
,
{
		   "cell_type": "markdown",
		   "metadata": {},
		   "source": [
			"## Example 2.14: ab34.sce"
		   ]
		  },
  {
"cell_type": "code",
	   "execution_count": null,
	   "metadata": {
	    "collapsed": true
	   },
	   "outputs": [],
"source": [
"clear;\n",
"clc;\n",
"\n",
"//Example2.14[Heat Conduction in a Solar Heated Wall]\n",
"//Given:-\n",
"L=0.06;//Thickness of wall[m]\n",
"k=1.2;//Thermal Conductivity[W/m.degree Celcius]\n",
"e=0.85;//Emissivity\n",
"a=0.26;//Solar absorptivity\n",
"T1=300;//Temp of Inner surface of Wall[K]\n",
"q_solar=800;//Incident rate of solar radiation[W/m^2]\n",
"T_space=0;//Temp of outer space[K]\n",
"//Solution:-\n",
"//Integrating results into\n",
"function[f]=temp(T)\n",
"    f(1)=(((a*q_solar)-(e*5.67*10^(-8)*T(1)^4))*(L/k))+T1-T(1);\n",
"    deff('[f]=temp(T)',['f_1(T)=(((a*q_solar)-(e*5.67*10^(-8)*T(1)^4))*(L/k))+T1-T(1)'])\n",
"endfunction\n",
"\n",
"    disp('K',xs,'The outer surface temperature is ')\n",
"    //First execute the program with x0=[1] then [xs,fxs,m]=fsolve(x0',temp) then re-execute to obtain correct output as for 1st exeution 'xs' is undefined\n",
"    q=k*(T1-xs)/L;\n",
"    disp('W/m^2',round(q),'The steady rate of heat conduction through the wall is')"
   ]
   }
,
{
		   "cell_type": "markdown",
		   "metadata": {},
		   "source": [
			"## Example 2.15: ab35.sce"
		   ]
		  },
  {
"cell_type": "code",
	   "execution_count": null,
	   "metadata": {
	    "collapsed": true
	   },
	   "outputs": [],
"source": [
"clear;\n",
"clc;\n",
"\n",
"//Example2.15[Heat Loss through a Steam Pipe]\n",
"//Given:-\n",
"L=20;//Pipe Length[m]\n",
"k=20;//[W/m.degree Celcius]\n",
"r1=0.06;//Inner Radius[m]\n",
"r2=0.08;//Outer Radius[m]\n",
"T1=150;//Temp of inner surface[degree Celcius]\n",
"T2=60;//Temp of outer surface[degree Celcius]\n",
"//Solution:-\n",
"//Integrating differential equation we get T(r)=C1logr+C2, where C1 and C2 are\n",
"C1=(T2-T1)/log(r2/r1);\n",
"C2=T1-((T2-T1/log(r2/r1))*log(r1));\n",
"Q_cyl=2*%pi*k*L*(T1-T2)/(log(r2/r1));\n",
"disp('kW',round(Q_cyl/1000),'The rate of heat conduction through the pipe is')"
   ]
   }
,
{
		   "cell_type": "markdown",
		   "metadata": {},
		   "source": [
			"## Example 2.16: ab36.sce"
		   ]
		  },
  {
"cell_type": "code",
	   "execution_count": null,
	   "metadata": {
	    "collapsed": true
	   },
	   "outputs": [],
"source": [
"clear;\n",
"clc;\n",
"\n",
"//Example2.16[Heat Conduction through a Spherical Shell]\n",
"//Given:-\n",
"r1=0.08;//Inner Radius[m]\n",
"r2=0.1;//Outer radius[m]\n",
"k=45;//Thermal conductivity[W/m.degree Celcius]\n",
"T1=200;//Temperature of inner surface[degree Celcius]\n",
"T2=80;//Temperarure of outer surface[degree Celcius]\n",
"//Solution:-\n",
"//Integrating the differential equation twicw we get T(r)=-C1/r+C2, where\n",
"C1=r1*r2*(T1-T2)/(r2-r1);\n",
"C2=((r2*T2)-(r1*T1))/(r2-r1);\n",
"Q_sphere=4*%pi*k*r1*r2*(T1-T2)/(r2-r1);\n",
"disp('kW',Q_sphere/1000,'The rate of heat conduction through the container wall is')"
   ]
   }
,
{
		   "cell_type": "markdown",
		   "metadata": {},
		   "source": [
			"## Example 2.17: ab37.sce"
		   ]
		  },
  {
"cell_type": "code",
	   "execution_count": null,
	   "metadata": {
	    "collapsed": true
	   },
	   "outputs": [],
"source": [
"clear;\n",
"clc;\n",
"\n",
"//Example2.17[Centerline Temperature of a Resistance Heater]\n",
"//Given:-\n",
"k=15;//Thermal conductivity of heater wire[W/m.K]\n",
"E_gen=2000;//Total heat generation[W]\n",
"l=0.5;//Length of resistance heater wire[m]\n",
"D=0.004;//Diameter of wire[m]\n",
"Ts=105;//Outer sorface Temperarure[degree Celcius]\n",
"//Solution:-\n",
"V_wire=%pi*(D^2)*l/4;//Volume of wire[m^3]\n",
"e_gen=E_gen/V_wire;//[W/m^3]\n",
"disp('W/m^3',e_gen,'The heat generation per unit volume of the wire is')\n",
"Tc=Ts+(e_gen*(D^2)/(4*4*k));//[degree Celcius]\n",
"disp('degree Celcius',round(Tc),'The center temperature of the wire is ')"
   ]
   }
,
{
		   "cell_type": "markdown",
		   "metadata": {},
		   "source": [
			"## Example 2.18: ab38.sce"
		   ]
		  },
  {
"cell_type": "code",
	   "execution_count": null,
	   "metadata": {
	    "collapsed": true
	   },
	   "outputs": [],
"source": [
"clear;\n",
"clc;\n",
"\n",
"//Example2.18[Variation of Temperature in a Resistance Heater]\n",
"//Given:-\n",
"k=13.55;//[W/m.degree Celcius]\n",
"ro=0.005;//[m]\n",
"e_gen=4.3*10^7;//rate of resistance heating[W/m^3]\n",
"Ts=108;//Surface temperature[degree Celcius]\n",
"//Solution:-\n",
"//Integrating we get\n",
"//T(r)=Ts+((e_gen*(ro^2-r^2)/4k))\n",
"T_0=Ts+((e_gen*ro^2)/(4*k));\n",
"disp('degree Celcius',round(T_0),'The temperature at the centreline,r=0 is')"
   ]
   }
,
{
		   "cell_type": "markdown",
		   "metadata": {},
		   "source": [
			"## Example 2.19: ab39.sce"
		   ]
		  },
  {
"cell_type": "code",
	   "execution_count": null,
	   "metadata": {
	    "collapsed": true
	   },
	   "outputs": [],
"source": [
"clear;\n",
"clc;\n",
"\n",
"//Example2.19[Heat Conduction in a two layer medium]\n",
"//Given:-\n",
"k_wire=15,k_ceramic=1.2;//[W/m.degree Celcius]\n",
"r1=0.002,r2=0.007;//[m]\n",
"e_gen=50*10^6;//[W/m^3]\n",
"Ts=45;//[degree Celcius]\n",
"//Solution:-\n",
"T1=(((e_gen*(r1^2)*log(r2/r1))/(2*k_ceramic))+Ts);//[degree Celcius]\n",
"disp('degree Celcius',T1,'The Interface temperature is')\n",
"T_wire=T1+((e_gen*(r1^2))/(4*k_wire));//[degree Celcius]\n",
"disp('degree Celcius',T_wire,'The temperature at the centreline(r=0) is')\n",
"disp('Thus the temperature of the centreline is slightly above the interface temperature')"
   ]
   }
,
{
		   "cell_type": "markdown",
		   "metadata": {},
		   "source": [
			"## Example 2.21: ab40.sce"
		   ]
		  },
  {
"cell_type": "code",
	   "execution_count": null,
	   "metadata": {
	    "collapsed": true
	   },
	   "outputs": [],
"source": [
"clear;\n",
"clc;\n",
"\n",
"//Example2.21[Heat Conduction through a Wall with k(T)]\n",
"//Given:-\n",
"//k varies with temperature as k=k0(1+bT)\n",
"k0=38;//[W/m]\n",
"b=9.21*(10^(-4));//[k^(-1)]\n",
"h=2,w=0.7,t=0.1;//Height,width and thickness of plates respectively[m]\n",
"T1=600,T2=400;//Temperature maintained on the two sides of the plate[K]\n",
"//Solution:-\n",
"A=h*w;//Surface area of plate[m^2]\n",
"Tavg=(T1+T2)/2;//Average temperature of plate[K]\n",
"kavg=k0*(1+(b*Tavg));//[W/m.K]\n",
"disp('W/m.K',kavg,'The average thermal conductivity of the medium is')\n",
"Q_=kavg*A*(T1-T2)/t;//[W]\n",
"disp('kW',round(Q_/1000),'The rate of heat conduction through the plate is')"
   ]
   }
,
{
		   "cell_type": "markdown",
		   "metadata": {},
		   "source": [
			"## Example 2.2: ab24.sce"
		   ]
		  },
  {
"cell_type": "code",
	   "execution_count": null,
	   "metadata": {
	    "collapsed": true
	   },
	   "outputs": [],
"source": [
"clear;\n",
"clc;\n",
"\n",
"//Example2.2[Heat Generation in a Hair Dryer]\n",
"//Given:-\n",
"E_gen=1200;//[Total rate of heat generation]\n",
"L=80;//Length of wire[cm]\n",
"D=0.3;//Diameter of wire[cm]\n",
"//Solution:-\n",
"V_wire=%pi*(D^2)*L/4;//Volume of the wire[cm^3]\n",
"e_gen=E_gen/V_wire;//[W/cm^3]\n",
"As=%pi*D*L;//Suface Area of wire[m^2]\n",
"Q_=E_gen/As;//[W/cm^2]\n",
"disp('W/cm^2',Q_,'and','W/cm^3',round(e_gen),'The rate of heat generation in the wire per unit volume and heat flux on the outer surface of the wire as a result of this heat generation are respectively')"
   ]
   }
,
{
		   "cell_type": "markdown",
		   "metadata": {},
		   "source": [
			"## Example 2.4: ab25.sce"
		   ]
		  },
  {
"cell_type": "code",
	   "execution_count": null,
	   "metadata": {
	    "collapsed": true
	   },
	   "outputs": [],
"source": [
"clear;\n",
"clc;\n",
"\n",
"//Example2.3[Heat Conduction in a Resistance Heater]\n",
"//Given:-\n",
"E_gen=2000;//Total rate of heat generation in the wire[W]\n",
"L=0.5;//Length of cyllindrical shaped wire[m]\n",
"D=0.004;//Diameter of wire[m]\n",
"k_heater=15;//Thermal conductivity of wire[W/m.K]\n",
"//Solution:-\n",
"//The resistance wire is considered to be a very long cylinder since its length is more than 100 times its diameter.Heat is generated uniformly in the wire and the conditions on the outer surface of the wire are uniform.Hence it is reasonable to expect the temperature int he wire to vary in radial r direction only and thus heat transfer to be one dimensional,T=T(r)\n",
"V_wire=%pi*(D^2)*L/4;//Volume of the wire[m^3]\n",
"e_gen=E_gen/V_wire;//[W/m^3]\n",
"disp('W/m^3',e_gen,'The rate of heat generation in the wire per unit volume is')\n",
"const=e_gen/k_heater;\n",
"disp('= 0',const,'The equation governing the variation of temperature int he wire is simply (1/r)d/dr(r.dT/dr)+')"
   ]
   }
,
{
		   "cell_type": "markdown",
		   "metadata": {},
		   "source": [
			"## Example 2.5: ab26.sce"
		   ]
		  },
  {
"cell_type": "code",
	   "execution_count": null,
	   "metadata": {
	    "collapsed": true
	   },
	   "outputs": [],
"source": [
"clear;\n",
"clc;\n",
"\n",
"//Example2.5[Cooling of a Hot Metal Ball in Air]\n",
"//Given:-\n",
"T_ball=300;//Temeprature of ball[degree Celcius]\n",
"T_surr=25;//Temperature of ambient air[degree Celcius]\n",
"//Solution:-\n",
"//The ball in initially at a uniform temperature and is cooled uniformly from the entire outer surface.Also, the temperature within the ball changes with the radial distance r and the time t. T=T(r,t)\n",
"disp('The thermal conductivity is given to be variable,and there is no heat generation in the ball, therefore the differential equation governing the variation of temperature in the ball is')\n",
"disp('(1/(r^2)d/dr((r^2)k(dT/dr))=rho*c(dT/dt)')"
   ]
   }
,
{
		   "cell_type": "markdown",
		   "metadata": {},
		   "source": [
			"## Example 2.6: ab27.sce"
		   ]
		  },
  {
"cell_type": "code",
	   "execution_count": null,
	   "metadata": {
	    "collapsed": true
	   },
	   "outputs": [],
"source": [
"clear;\n",
"clc;\n",
"\n",
"//Example2.6[Heat Conduction in a Short Cylinder]\n",
"//Given:-\n",
"//Radius R and height h of the small cylinder\n",
"T=300;//Temperature of cylinder[degree Celcius]\n",
"T_ambient=20;//Temperature of ambient air[degree Celcius]\n",
"//Variation is thermal conductivity is negligible\n",
"//The cylinder is cooled unifromly from the top and bottom surfaces in the z-direction as well as the lateral surface in the radial r-direction.Also Temperature at any point in the ball changes with time during cooling. Therefore this is a two dimensional transient heat conduction problem i.e. T=T(r,z,t)\n",
"disp('The differential equation governing the variation of temperature in the billet is ')\n",
"disp('((1/r)(d/dr)(k*r(dT/dr)))+((d/dz)(k(dT/dz)))=rho*c(dT/dt)')\n",
"disp('In case of constant thermal conductivity it reduces to')\n",
"disp('((1/r)(d/dr)(r(dT/dr)))+(d^2)T/(dz^2)=(1/a)(dT/dt)') "
   ]
   }
,
{
		   "cell_type": "markdown",
		   "metadata": {},
		   "source": [
			"## Example 2.7: ab28.sce"
		   ]
		  },
  {
"cell_type": "code",
	   "execution_count": null,
	   "metadata": {
	    "collapsed": true
	   },
	   "outputs": [],
"source": [
"clear;\n",
"clc;\n",
"\n",
"//Example2.7[Heat Flux boundary Condition]\n",
"//Given:-\n",
"Q=800;//Heat transfer rate[W]\n",
"D=0.2;//Diameter of pan[m]\n",
"L=0.003;//Thickness of pan[m]\n",
"T_in=110;//T(L) Temperature of the inner surface of the pan[degree Celcius]\n",
"neta=0.9;//Percent of total heat transferred to the pan\n",
"//Solution;-\n",
"//The inner and outer surfaces of the bottom section of the pan can be represented by x=0 and x=L,respectively. During steady operation the temperature will depend on x only and thus T=T(x).\n",
"//Solution:-\n",
"actual_Q=neta*Q;//90 percent of the 800W is transferred to the pan at that surface\n",
"A=%pi*(D^2)/4;//Bottom Surface Area[m^2]\n",
"disp('-k*dT(0)/dx=q_')\n",
"q_=actual_Q/(1000*A);//[kW/m^2]\n",
"//The boundary condition on this surface can be expressed as\n",
"disp('degree Celcius',T_in,'T(L)=')\n",
"disp('m',L,'where L=')"
   ]
   }
,
{
		   "cell_type": "markdown",
		   "metadata": {},
		   "source": [
			"## Example 2.8: ab29.sce"
		   ]
		  },
  {
"cell_type": "code",
	   "execution_count": null,
	   "metadata": {
	    "collapsed": true
	   },
	   "outputs": [],
"source": [
"clear;\n",
"clc;\n",
"\n",
"//Example2.8[Convection and Insulation Boundary Conditions]\n",
"//Given:-\n",
"T_steam=200;//Temperature of steam[degree Celcius]\n",
"r_in=0.08;//Inner radii of pipe[m]\n",
"r_out=0.085;//Outer radii of pipe[m]\n",
"h=65;//convection heat transfer coefficient on the inner surface of the pipe[W/m^2.K]\n",
"//Heat transfer through the pipe material predominantly is in the radial direction and thus can be approximated as being one-dimensional\n",
"disp('Taling the direction of heat transfer to be the positive r direction, the boundary condition on that surface can be expressed as')\n",
"disp('-k(dT(r_in,t)/dr)=h(T_steam-T(r1))')\n",
"//The pipe is said to be well insulated on the outside, and thus heat loss through the outer surface of the pipe can be assumed to be negligible.\n",
"disp('Then the boundary at the outer surface can be expressed as')\n",
"disp('dT(r_out,t)/dr=0')"
   ]
   }
,
{
		   "cell_type": "markdown",
		   "metadata": {},
		   "source": [
			"## Example 2.9: ab30.sce"
		   ]
		  },
  {
"cell_type": "code",
	   "execution_count": null,
	   "metadata": {
	    "collapsed": true
	   },
	   "outputs": [],
"source": [
"clear;\n",
"clc;\n",
"\n",
"//Example2.9[Combined Convection and Radiation Condition]\n",
"//Given:- \n",
"T_ball=300;//Temperature of spherical metal ball[degree Celcius]\n",
"T_ambient=27;//Temperature of ambient air[degree Celcius]\n",
"k=14.4;//Thermal conductivity of the ball material[W/m.K]\n",
"h=25;//average convection heat transfer coefficient on the outer surface of the ball[W/m^2.K]\n",
"e=0.6;//Emissivity of outer surface of the ball\n",
"T_surr=290;//\n",
"//This is one-dimensional transient heat transfer problem since the temperature within the ball changes with the radial distance r and the time t i.e. T=T(r,t)\n",
"//Taking the moment the ball is removed from the oven to be t=0\n",
"disp('The initial condition can be expressed as')\n",
"disp('T(r,0)=T_ball')\n",
"disp('degree Celcius',T_ball)\n",
"//The problem possesses symmetry about the mid point(r=0) since the isotherms in this case are concentric spheres, and thus no heat is crossing the mid point of the ball.\n",
"disp('The boundary condition at the midpoint i.e. r=0 can be expressed as dT(0,t)/dr=0')\n",
"//The heat conducted to the outer surface of the ball is lost to the environment by convection and radiation.\n",
"disp('Taking the direction of heat transfer to be the positive r direction, the boundary condition on the outer surface can be expressed as')\n",
"disp('-k(dT(r_out,t)/dr)=h[T(r_out)-T_ambient]+e*sigma[(T(r_out)^4)-(T_ambient^4)]')"
   ]
   }
],
"metadata": {
		  "kernelspec": {
		   "display_name": "Scilab",
		   "language": "scilab",
		   "name": "scilab"
		  },
		  "language_info": {
		   "file_extension": ".sce",
		   "help_links": [
			{
			 "text": "MetaKernel Magics",
			 "url": "https://github.com/calysto/metakernel/blob/master/metakernel/magics/README.md"
			}
		   ],
		   "mimetype": "text/x-octave",
		   "name": "scilab",
		   "version": "0.7.1"
		  }
		 },
		 "nbformat": 4,
		 "nbformat_minor": 0
}
