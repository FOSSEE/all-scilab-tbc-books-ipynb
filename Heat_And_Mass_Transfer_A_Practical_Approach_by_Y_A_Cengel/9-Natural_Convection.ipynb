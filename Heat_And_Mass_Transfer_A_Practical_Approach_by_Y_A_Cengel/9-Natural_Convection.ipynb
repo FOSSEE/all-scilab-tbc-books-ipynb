{
"cells": [
 {
		   "cell_type": "markdown",
	   "metadata": {},
	   "source": [
       "# Chapter 9: Natural Convection"
	   ]
	},
{
		   "cell_type": "markdown",
		   "metadata": {},
		   "source": [
			"## Example 9.1: ab111.sce"
		   ]
		  },
  {
"cell_type": "code",
	   "execution_count": null,
	   "metadata": {
	    "collapsed": true
	   },
	   "outputs": [],
"source": [
"clear;\n",
"clc;\n",
"\n",
"//Example9.1[Heat Loss from Hot Water Pipes]\n",
"//Given:-\n",
"l=6;//Length[m]\n",
"d=0.08;//diameter[m]\n",
"T_room=20;//[degree Celcius]\n",
"Ts=70;//Surface temperature of pipe[degree Celcius]\n",
"Tf=(Ts+T_room)/2;//Film temperature[degree Celcius]\n",
"//Properties of air at Tf\n",
"k=0.02699;//[W/m.degree Celcius]\n",
"Pr=0.7241;//Prandtl number\n",
"nu=1.750*10^(-5);//[m^2/s]\n",
"b=(1/(Tf+273));//[K^-1]\n",
"g=9.81;//Acc dur to gravity[m/s^2]\n",
"e=1;//Emissivity\n",
"//Solution:-\n",
"Lc=d;//Characteristic length[m]\n",
"Ra_d=g*b*(Ts-T_room)*(d^3)*Pr/(nu^2);\n",
"disp(Ra_d,'The Rayleigh number is')\n",
"Nu=((0.6+((0.387*(Ra_d^(1/6)))/((1+((0.559/Pr)^(9/16)))^(8/27))))^2);\n",
"disp(Nu,' The natural convection Nusselt number is')\n",
"h=k*Nu/d;//[W/m^2.degree Celcius]\n",
"As=%pi*d*l;//[m^2]\n",
"Q=h*As*(Ts-T_room);//[W]\n",
"disp('by natural convection','W',round(Q),'The pipe loses heat to the air in the room at a rate of')\n",
"Q_rad=e*As*(5.76*10^(-8))*(((Ts+273)^4)-((T_room+273)^4));//[W]\n",
"disp('W',ceil(Q_rad),'The radiation heat transfer is')\n",
"\n",
""
   ]
   }
,
{
		   "cell_type": "markdown",
		   "metadata": {},
		   "source": [
			"## Example 9.2: ab112.sce"
		   ]
		  },
  {
"cell_type": "code",
	   "execution_count": null,
	   "metadata": {
	    "collapsed": true
	   },
	   "outputs": [],
"source": [
"clear;\n",
"clc;\n",
"\n",
"//Example9.2[Cooling of a Plate in different orientaions]\n",
"L=0.6;//side of square plate[m]\n",
"T_surr=30;//[degree Celcius]\n",
"Tp=90;//Temp of plate[degree Celcius]\n",
"Tf=(Tp+T_surr)/2;//Film temperature[degree Celcius]\n",
"//Properties of air at Tf\n",
"k=0.02808;//[W/m.degree Celcius]\n",
"Pr=0.7202;//Prandtl number\n",
"nu=1.896*10^(-5);//Kinematic viscosity[m^2/s]\n",
"b=1/(Tf+273);//[K^-1]\n",
"g=9.81;//Acc due to gravity[m/s^2]\n",
"//Solution (a)\n",
"Lc_a=L;//Characteristic length\n",
"Ra_1=g*b*(Tp-T_surr)*(L^3)*Pr/(nu^2);\n",
"disp(Ra_1,'(a) The Rayleigh no is')\n",
"Nu_a=((0.825+(0.387*(Ra_1^(1/6)))/((1+((0.492/Pr)^(9/16)))^(8/27)))^2);\n",
"disp(Nu_a,'The natural convection Nusselt number is')\n",
"h_a=k*Nu_a/L;//[W/m^2.degree Celcius]\n",
"As=L^2;//[m^2]\n",
"Q_a=h_a*As*(Tp-T_surr);//[W]\n",
"disp('W',ceil(Q_a),'Heat loss to the surrounding is')\n",
"//Solution (b)\n",
"Lc_b=As/(4*L);//[m]\n",
"Ra_2=g*b*(Tp-T_surr)*(Lc_b^3)*Pr/(nu^2);\n",
"disp(Ra_2,'(b) The Rayleigh number is')\n",
"Nu_b=0.54*(Ra_2^(1/4));\n",
"disp(Nu_b,'The natural convection Nusselt number is')\n",
"h_b=k*Nu_b/Lc_b;//[W/m^2.degree Celcius]\n",
"Q_b=h_b*As*(Tp-T_surr);//[W]\n",
"disp('W',round(Q_b),'Heat Loss is')\n",
"//Solution (c)\n",
"Lc_c=Lc_b\n",
"Nu_c=(0.27*Ra_2^(1/4));\n",
"disp(Nu_c,'(c) Natural convection Nusselt number')\n",
"h_c=k*Nu_c/Lc_c;//[W/m^2.degree Celcius]\n",
"Q_c=h_c*As*(Tp-T_surr);//[W]\n",
"disp('W',Q_c,'Heat Loss is')\n",
"Q_rad=e*(5.67*10^(-8))*As*(((Tp+273)^4)-((T_surr+273)^4));//[W]\n",
"disp('W',round(Q_rad),'Radiation heat loss is')"
   ]
   }
,
{
		   "cell_type": "markdown",
		   "metadata": {},
		   "source": [
			"## Example 9.3: ab113.sce"
		   ]
		  },
  {
"cell_type": "code",
	   "execution_count": null,
	   "metadata": {
	    "collapsed": true
	   },
	   "outputs": [],
"source": [
"clear;\n",
"clc;\n",
"\n",
"//Example9.3[Optimum Fin Spacing of a Heat Sink]\n",
"//Given:-\n",
"w=0.12;//width[m]\n",
"l=0.18;//length[m]\n",
"t=0.001;//thickness[m]\n",
"H=0.024;//height[m]\n",
"Ts=80;//Bast temperature[degree Celcius]\n",
"T_surr=30;//[degree Celcius]\n",
"Tf=(Ts+T_surr)/2;//[degree Celcius]\n",
"//Properties of air at film temperature\n",
"k=0.02772;//[W/m.degree Celcius]\n",
"Pr=0.7215;//Prandtl number\n",
"nu=1.847*10^(-5);//[m^2/s]\n",
"b=1/(Tf+273);//[K^-1]\n",
"g=9.81;//[m/s^2]\n",
"//Solution:-\n",
"Ra_l=g*b*(Ts-T_surr)*(l^3)*Pr/(nu^2);\n",
"disp(Ra_l,'The Rayleigh number is')\n",
"S_opt=2.714*l/(Ra_l^(0.25));//[m]\n",
"disp('mm',S_opt*100,'The optimum spacing is')\n",
"n=w/(S_opt+t);\n",
"disp(round(n),'The no of for this optimum fin spacing are')\n",
"Nu_opt=1.307;//Optimum Nusselt number\n",
"h=Nu_opt*k/S_opt;//[W/m^2.degree Celcius]\n",
"Q=h*2*round(n)*l*H*(Ts-T_surr);//[W]\n",
"disp('W',Q,'The rate of natural convection heat transfer')"
   ]
   }
,
{
		   "cell_type": "markdown",
		   "metadata": {},
		   "source": [
			"## Example 9.4: ab114.sce"
		   ]
		  },
  {
"cell_type": "code",
	   "execution_count": null,
	   "metadata": {
	    "collapsed": true
	   },
	   "outputs": [],
"source": [
"clear;\n",
"clc;\n",
"\n",
"//Example9.4[Heat Loss through a Double Pane Window]\n",
"//Given:-\n",
"H=0.8;//Height[m]\n",
"L=0.02;//Air gap[m]\n",
"w=2;//Width[m]\n",
"T1=12,T2=2;//Glass Surface temperatures across the air gap\n",
"Tavg=(T1+T2)/2;//[degree Celcius]\n",
"k=0.02416;//[W/m.degree Celcius]\n",
"Pr=0.7344;//Prandtl Number\n",
"nu=1.4*10^(-5);//Kinematic Viscosity[m^2/s]\n",
"g=9.81;//[m/s^2]\n",
"//Solution:-\n",
"Lc=L;//Characteristic length\n",
"b=1/(Tavg+273);//[K^-1]\n",
"Ra_L=g*b*(T1-T2)*Pr*(Lc^3)/(nu^2);\n",
"disp(Ra_L,'The Rayleigh Number is')\n",
"Nu=0.42*(Ra_L^(1/4))*(Pr^(0.012))*((H/L)^(-0.3));\n",
"disp(Nu,'The Nusselt Number is')\n",
"As=H*w;//[m^2]\n",
"h=k*Nu/L;//[W/m^2.degree Celcius]\n",
"Q=h*As*(T1-T2);\n",
"disp('W',Q,'Rate at which Heat is Lost through the window is')"
   ]
   }
,
{
		   "cell_type": "markdown",
		   "metadata": {},
		   "source": [
			"## Example 9.5: ab115.sce"
		   ]
		  },
  {
"cell_type": "code",
	   "execution_count": null,
	   "metadata": {
	    "collapsed": true
	   },
	   "outputs": [],
"source": [
"clear;\n",
"clc;\n",
"\n",
"//Example9.5[Heat Transfer through a Spherical Enclosure]\n",
"//Given:-\n",
"Di=0.2;//Inner Diameter[m]\n",
"Do=0.3;//Outer Diameter[m]\n",
"Ti=320,To=280;//The surface temperatures of two spheres enclosing the air[K]\n",
"Tavg=(Ti+To)/2;//[K]\n",
"//Properties at Tavg\n",
"k=0.02566;//[W/m.K]\n",
"Pr=0.7290;//Prandtl Number\n",
"nu=1.58*10^(-5);//[m^2/s]\n",
"b=(1/Tavg);\n",
"g=9.81;//[m/s^2]\n",
"//Solution:-\n",
"Lc=(Do-Di)/2;//Characteristic length[m]\n",
"Ra_L=g*b*(Ti-To)*(Lc^3)*Pr/(nu^2);\n",
"disp(Ra_L,'The Rayleigh Number is')\n",
"Fsph=Lc/(((Di*Do)^4)*((((Di^(-7/5))+(Do^(-7/5))))^5));\n",
"keff=0.74*k*((Pr/(0.861+Pr))^(1/4))*((Fsph*Ra_L)^(1/4));//[W/m.K]\n",
"disp(Fsph,keff)\n",
"Q=keff*(%pi*Di*Do/Lc)*(Ti-To);//[W]\n",
"disp('W',Q,'The rate of heat transfer between the spheres is')"
   ]
   }
,
{
		   "cell_type": "markdown",
		   "metadata": {},
		   "source": [
			"## Example 9.6: ab116.sce"
		   ]
		  },
  {
"cell_type": "code",
	   "execution_count": null,
	   "metadata": {
	    "collapsed": true
	   },
	   "outputs": [],
"source": [
"clear;\n",
"clc;\n",
"//Example9.6[Heating Water in a Tube by Solar Enegy]\n",
"//Given:-\n",
"Ts=40;//Glass Temp[degree Celcius]\n",
"T_surr=20;//Surrounding temperature[degree Celcius]\n",
"Tavg=(Ts+T_surr)/2;//[degree Celcius]\n",
"Do=0.1;//[m]\n",
"Di=0.05;//[m]\n",
"L=1;//[m]\n",
"//Properties of glass at Tavg\n",
"k=0.02588;//[W/m.degree Celcius]\n",
"Pr=0.7282;//Prandtl Number\n",
"nu=1.608*10^(-5);//[m^2/s]\n",
"b=1/(Tavg+273);//[K^-1]\n",
"\n",
"Q=30;//Rate pof absorpto\ion of solar radiation[W]\n",
"g=9.81;//[m/s^2]\n",
"//Solution:-\n",
"Ao=%pi*Do*L;//Heat transfer surface area of the glass cover[m^2]\n",
"Ra_D=g*b*(Ts-T_surr)*(Do^3)*Pr/(nu^2);\n",
"disp(Ra_D,'The Rayleigh Number is')\n",
"Nu=((0.6+((0.387*(Ra_D^(1/6)))/((1+((0.550/Pr)^(9/16)))^(8/27))))^2);\n",
"disp(Nu,'The Nusselt number is')\n",
"ho=k*Nu/Do;//[W/m^2.degree Celcius]\n",
"Qo=ho*Ao*(Ts-T_surr);//[W]\n",
"disp('W',Qo,'The rate of natural convection heat transfer from the glass cover to the ambient air is')\n",
"//Value of Qo is less than 30W so assuming a higher temp of glass cover\n",
"T_surr1=41;//[degree Celcius]\n",
"Ts1=90;//[degree Celcius]\n",
"Tavg1=(T_surr1+Ts1)/2;//[degree Celcius]\n",
"b1=1/(Tavg1+273);//[K^-1]\n",
"Lc=(Do-Di)/2;//Characteristic length [m]\n",
"Ra_L1=g*b1*(Ts1-T_surr1)*(Lc^3)*Pr/(nu^2);\n",
"disp(Ra_L1,'The Rayleigh number on assuming higher temperatures')\n",
"Fcyl=((log(Do/Di))^4)/((Lc^3)*(((Di^(-3/5))+(Do^(-3/5)))^5));\n",
"keff=0.386*k*((Pr/(0.861+Pr))^(1/4))*((Fcyl*Ra_L1)^(1/4));//[W/m.degree Celcius]\n",
"Q1=2*%pi*keff*(Ts1-T_surr1)/(log(Do/Di));//[W]\n",
"disp('W',Q1,'The rate of heat transfer between the cylinders is')\n",
"//Obtained value of Q1 is more than 30 W, so using hit and trial aand suuming more values we get the tube temperature to be 82 degree Celcius,\n",
"disp('Therefore tube will reach an equilibrium temperature of 82 degree Celcius when the pump fails')"
   ]
   }
,
{
		   "cell_type": "markdown",
		   "metadata": {},
		   "source": [
			"## Example 9.7: ab117.sce"
		   ]
		  },
  {
"cell_type": "code",
	   "execution_count": null,
	   "metadata": {
	    "collapsed": true
	   },
	   "outputs": [],
"source": [
"clear;\n",
"clc;\n",
"\n",
"//Example9.7[U factor for Center of glass Section of Windows]\n",
"//Given:-\n",
"e=0.84;//Emissivity\n",
"//For winter season\n",
"hi=8.29;//[W/m^2.degree Celcius]\n",
"ho=34.0;//[W/m^2.degree Celcius]\n",
"//Solution:-\n",
"e_eff=1/((1/e)+(1/e)-1);//Effective emissivity of air space\n",
"//the effective emissivity and an average air space temperature of 0 degree Celcius read \n",
"h_space=7.2;//[W/m^2.degree Celcius]\n",
"U_center=1/((1/hi)+(1/ho)+(1/h_space));//[W/m^s.degree Celcius]\n",
"disp('W/m^2.degree Celcius',U_center,'The center of glass U-factor value is')"
   ]
   }
,
{
		   "cell_type": "markdown",
		   "metadata": {},
		   "source": [
			"## Example 9.8: ab118.sce"
		   ]
		  },
  {
"cell_type": "code",
	   "execution_count": null,
	   "metadata": {
	    "collapsed": true
	   },
	   "outputs": [],
"source": [
"clear;\n",
"clc;\n",
"\n",
"//Example9.8[Heat Loss through Aluminium Framed Windows]\n",
"//Given:-\n",
"H=1.2;//Height[m]\n",
"w=1.8;//Width[m]\n",
"Ti=22;//Inside temp[degree Celcius]\n",
"To=-10;//Outside temp[degree Celcius]\n",
"U_a=6.63,U_b=3.51,U_c=1.92,hi=8.3;//[W/m^.degree Celcius]\n",
"//Solution:-\n",
"A_win=h*w;//[m^2]\n",
"Q_win_a=U_a*A_win*(Ti-To);//[W]\n",
"T_glass_a=Ti-(Q_win_a/(hi*A_win));//[degree Celcius]\n",
"disp('degree Celcius',T_glass_a,'(a) The Inner surface temperature of the window glass is')\n",
"Q_win_b=U_b*A_win*(Ti-To);//[W]\n",
"T_glass_b=Ti-(Q_win_b/(hi*A_win));//[degree Celcius\n",
"disp('degree Celcius',T_glass_b,'(b) The Inner surface temperature of the window glass is')\n",
"Q_win_c=U_c*A_win*(Ti-To);//[W]\n",
"T_glass_c=Ti-(Q_win_c/(hi*A_win));//[degree Celcius]\n",
"disp('degree Celcius',T_glass_c,'(c) The Inner surface temperature of the window glass is')"
   ]
   }
,
{
		   "cell_type": "markdown",
		   "metadata": {},
		   "source": [
			"## Example 9.9: ab119.sce"
		   ]
		  },
  {
"cell_type": "code",
	   "execution_count": null,
	   "metadata": {
	    "collapsed": true
	   },
	   "outputs": [],
"source": [
"clear;\n",
"clc;\n",
"\n",
"//Example9.9[U-Factor of a Double-Door Window]\n",
"//Given:-\n",
"A_win=1.8*2.0;//[m^2]\n",
"A_glazing=2*1.72*0.94;//[m^2]\n",
"U_c=3.24,U_e=3.71,U_f=2.8;//U factors for the center edge and frame sections respectively [W/m^2.degree Celcius]\n",
"//Solution:-\n",
"A_frame=A_win-A_glazing;//[m^2]\n",
"A_center=2*(1.72-0.13)*(0.94-0.13);//[m^2]\n",
"A_edge=A_glazing-A_center;//[m^2]\n",
"U_win=((U_c*A_center)+(U_e*A_edge)+(U_f*A_frame))/A_win;//[W/m^2.degree Celcius]\n",
"disp('W/m^2.degree Celcius',U_win,'The overall U factor of the entire window is')"
   ]
   }
],
"metadata": {
		  "kernelspec": {
		   "display_name": "Scilab",
		   "language": "scilab",
		   "name": "scilab"
		  },
		  "language_info": {
		   "file_extension": ".sce",
		   "help_links": [
			{
			 "text": "MetaKernel Magics",
			 "url": "https://github.com/calysto/metakernel/blob/master/metakernel/magics/README.md"
			}
		   ],
		   "mimetype": "text/x-octave",
		   "name": "scilab",
		   "version": "0.7.1"
		  }
		 },
		 "nbformat": 4,
		 "nbformat_minor": 0
}
