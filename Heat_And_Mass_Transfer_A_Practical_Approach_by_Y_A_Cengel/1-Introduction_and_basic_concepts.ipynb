{
"cells": [
 {
		   "cell_type": "markdown",
	   "metadata": {},
	   "source": [
       "# Chapter 1: Introduction and basic concepts"
	   ]
	},
{
		   "cell_type": "markdown",
		   "metadata": {},
		   "source": [
			"## Example 1.10: ab20.sce"
		   ]
		  },
  {
"cell_type": "code",
	   "execution_count": null,
	   "metadata": {
	    "collapsed": true
	   },
	   "outputs": [],
"source": [
"clear;\n",
"clc;\n",
"\n",
"//Example1.10[Heat Loss from a Person]\n",
"//Given:-\n",
"T_room=20+273;//Temperature of breezy room[K]\n",
"T_outr=29+273;//Average outer surface temperature of the person[K]\n",
"As=1.6;//Exposed Surface Area[m^2]\n",
"h=6;//Convection Heat transfer coefficient[W/m^2.K]\n",
"e=0.95;//Emissivity of person\n",
"sigma=5.67*(10^(-8));//Stephan's constant[W/m^2.degree Celcius]\n",
"Q_conv=h*As*(T_outr-T_room);//[W]\n",
"disp('W',Q_conv,'Rate of convection heat transfer from the person to the air in the room is')\n",
"Q_rad=e*sigma*As*((T_outr^4)-(T_room^4));//[W]\n",
"disp('W',Q_rad,'The rate of convection heat transfer from the person to the surrounding walls,cieling,fllor is')\n",
"Q_total=Q_conv+Q_rad;//[W]\n",
"disp('W',round(Q_total),'The rate of total heat transfer from the body is ')"
   ]
   }
,
{
		   "cell_type": "markdown",
		   "metadata": {},
		   "source": [
			"## Example 1.11: ab21.sce"
		   ]
		  },
  {
"cell_type": "code",
	   "execution_count": null,
	   "metadata": {
	    "collapsed": true
	   },
	   "outputs": [],
"source": [
"clear;\n",
"clc;\n",
"\n",
"//Example1.11[Heat transfer between two Isothermal Plates]\n",
"//Given:-\n",
"T1=300,T2=200;//Temperatures of two large parallel isothermal plates[K]\n",
"L=0.01;//distance between both plates[m]\n",
"e=1;//Emissivity of plates\n",
"A=1;//Surface area of plates[m^2]\n",
"T_avg=(T1+T2)/2;//Average temperature[K]\n",
"sigma=5.67*(10^(-8));//Stefan's constant[W/m^2.K^4]\n",
"//Solution (a)[space between plates is filled with air]\n",
"k_air=0.0219;//The thermal conductivity of aair at the average temperature[W/m.K]\n",
"Q_cond=k_air*A*(T1-T2)/L;//[W]\n",
"Q_rad=e*sigma*A*((T1^4)-(T2^4));//[W]\n",
"disp('W',round(Q_rad),'and',Q_cond,'The rates of conduction and radiation heat transfer between the plates through the air layer are respectively')\n",
"Q_total_a=Q_cond+Q_rad;//[W]\n",
"disp('W',round(Q_total_a),'Net rate of heat transfer is')\n",
"disp('The heat transfer rate in reality will be higher because of the natural convection currents that are likely to occur in the air space between the plates')\n",
"//Solution (b)[space between the plates is evacutaed]\n",
"disp('when the air space b/w the plates is evacuted there is no conduction or convection,and the only heat transfer between the plates will be by radiation. ')\n",
"disp('Therefore')\n",
"Q_total_b=Q_rad;//[W]\n",
"disp('W',round(Q_total_b),'Net rate of heat transfer is')\n",
"//Solution (c)[space between the plates is filled with urethane insulation]\n",
"k_insu=0.026;//At average temperature thermal conductivity of urethane insulation [W/m.K]\n",
"disp('An opaque solid material placed b/w the two plates blocks direct radiation heat transfer between the plates')\n",
"Q_cond_c=k_insu*A*(T1-T2)/L;//[W]\n",
"Q_total_c=Q_cond_c;//[W]\n",
"disp('W',round(Q_total_c),'The net rate of heat transfer through the urethane insulation is')\n",
"//Solution (d)[the distance between the plates is filled with superinsulation]\n",
"k_super=0.00002;//At average temperature thermal conductvity of superinsulation[W/m.K]\n",
"disp('The layers of superinsulation prevent any direct radiation heat transfer between the plates')\n",
"Q_cond_d=k_super*A*(T1-T2)/L;//[W]\n",
"Q_total_d=Q_cond_d;//[W]\n",
"disp('W',Q_total_d,'The net rate of heat transfer through the layer of superinsulation is')"
   ]
   }
,
{
		   "cell_type": "markdown",
		   "metadata": {},
		   "source": [
			"## Example 1.13: ab22.sce"
		   ]
		  },
  {
"cell_type": "code",
	   "execution_count": null,
	   "metadata": {
	    "collapsed": true
	   },
	   "outputs": [],
"source": [
"clear;\n",
"clc;\n",
"\n",
"//Example1.13[Heating of a Plate by Solar Energy]\n",
"//Given:-\n",
"a=0.6;//absorptivity of exposed surface of plate\n",
"q_incident=700;//Rate at which solar radiation incident on the plate [W/m^2]\n",
"T_surr=25+273;//Surrounding air temperature[K]\n",
"h=50;//Combined radiation and convection heat transfer coefficient[W/m^2.K]\n",
"//Solution\n",
"//Temperature keeps on increasing till a point comes  at which the rate of heat loss from the plate equals the rate of solar energy absorbed, and the temperature of the plate no longer changes\n",
"T_surface=T_surr+(a*(q_incident)/h);//[K]\n",
"disp('degree Celcius',T_surface-273,'The plate surface temperature is')"
   ]
   }
,
{
		   "cell_type": "markdown",
		   "metadata": {},
		   "source": [
			"## Example 1.14: ab23.sce"
		   ]
		  },
  {
"cell_type": "code",
	   "execution_count": null,
	   "metadata": {
	    "collapsed": true
	   },
	   "outputs": [],
"source": [
"clear;\n",
"clc;\n",
"\n",
"//Example1.14[Non-linear equation in two variable]\n",
"//x1=x, x2=y\n",
"function[f]=f2(x)\n",
"f(1)=x(1)-x(2)-4;\n",
"f(2)=x(1)^2+x(2)^2-x(1)-x(2)-20;\n",
"deff('[f]=f2(x)',['f_1=x(1)-x(2)-4','f_2=x(1)^2+x(2)^2-x(1)-x(2)-20'])\n",
"//To get the desired output assign an initial value such as x0=[1,1], [xs,fxs,m]=fsolve(x0',f2)"
   ]
   }
,
{
		   "cell_type": "markdown",
		   "metadata": {},
		   "source": [
			"## Example 1.1: ab12.sce"
		   ]
		  },
  {
"cell_type": "code",
	   "execution_count": null,
	   "metadata": {
	    "collapsed": true
	   },
	   "outputs": [],
"source": [
"clear;\n",
"clc;\n",
"\n",
"//Example 1.1(Heating of a copper ball)\n",
"\n",
"//(a)\n",
"//density of the copper ball\n",
"rho= 8950;//[kg/m^3]\n",
"//Diameter of the copper ball\n",
"D=0.1;//[m]\n",
"//mass of the ball\n",
"m=rho*(%pi/6)*(D^3);//[kg]\n",
"//Specific Heat of copper\n",
"Cp=0.395;//[kJ/Kg/m^3]\n",
"//Initial Temperature\n",
"T1=100;//[degree C]\n",
"//Final Temperature\n",
"T2=150;//[degree C]\n",
"// The amount of heat transferred to the copper ball is simply the change in it's internal energy and is given by\n",
"// Energy transfer to the system=Energy increase of the system\n",
"Q=(m*Cp*(T2-T1));\n",
"disp('kJ',Q,'Heat needs to be transferred to the copper ball to heat it from 100 to 150 degree celsius is ')\n",
"//b\n",
"//Time interval for which the ball is heated\n",
"dT=1800;//[seconds]\n",
"Qavg=(Q/dT)*1000;//[W]\n",
"disp('W',Qavg,'Average Heat Transfer by the iron ball is ')\n",
"\n",
"//(c)\n",
"//Heat Flux\n",
"qavg=(Qavg/(%pi*(D^2)));//[W/m^2]\n",
"disp('W/m^2',qavg,'Average flux is')"
   ]
   }
,
{
		   "cell_type": "markdown",
		   "metadata": {},
		   "source": [
			"## Example 1.2: ab13.sce"
		   ]
		  },
  {
"cell_type": "code",
	   "execution_count": null,
	   "metadata": {
	    "collapsed": true
	   },
	   "outputs": [],
"source": [
"clear;\n",
"clc;\n",
"\n",
"//Example 1.2(Heating of water in an Electric Teapot)\n",
"//Mass of liquid water\n",
"m1=1.2,m2=0.5;//[Kg]\n",
"//Initial Temperature\n",
"t1=15;//[Degree Celcius]\n",
"//Final Temperature\n",
"t2=95;//[Degree Celcius]\n",
"//Specific heat of water\n",
"cp1=4.186;//[kJ/kG.K]\n",
"//Specific heat capacity of teapot\n",
"cp2=.7;//[]\n",
"Em=(m1*cp1*(t2-t1))+(m2*cp2*(t2-t1));//[kJ]\n",
"//Rating of Electric Heating Equipment\n",
"Em1=1.2;//[kJ/s]\n",
"dt=(Em/Em1)/60;//[seconds]\n",
"disp('minutes',round(dt),'of heat is','kJ',Em,'Time needed for this heater to supply ')"
   ]
   }
,
{
		   "cell_type": "markdown",
		   "metadata": {},
		   "source": [
			"## Example 1.3: ab14.sce"
		   ]
		  },
  {
"cell_type": "code",
	   "execution_count": null,
	   "metadata": {
	    "collapsed": true
	   },
	   "outputs": [],
"source": [
"clear;\n",
"clc;\n",
"//Example1.3[Heat Loss from Heating Ducts in a Basement]\n",
"//Given:-\n",
"T_in=60+273;//Temperature of hot air while entering the duct[K]\n",
"T_out=54+273;//Temperature of hot air while leaving the duct[K]\n",
"T_avg=(T_in+T_out)/2;//Average temperature of air[K]\n",
"Cp=1.007;//[kJ/kg]\n",
"disp('kJ/kg',Cp,'K is',T_avg,'The constant pressure specific heat of air at the average temperature of')\n",
"P=100;//Pressure of air while entering the duct[kPa]\n",
"R=0.287;//Universal Gas Constant[kPa.(m^3/kg).K]\n",
"v=5;//Average velocity of flowing air[m/s]\n",
"neta=0.8;//Efficiency of natural gas furnace\n",
"ucost=1.60;//Cost of natural gas in that area[$/therm],where 1therm=105,500kJ\n",
"//Solution;-\n",
"rho=P/(R*T_in);//The density of air at the inlet conditions is[kg/m^3]\n",
"Ac=0.20*0.25;//Cross sectional area of the duct[m^2]\n",
"m_=rho*v*Ac;//[kg/s]\n",
"disp('kg/s',m_,'mass flow rate of air through the duct is')\n",
"Q_loss=m_*Cp*(T_in-T_out);//[kJ/s]\n",
"disp('kJ/s',Q_loss,'The rate of heat loss by the air is')\n",
"cost=(Q_loss*3600)*(ucost)*(1/105500)*(1/neta);//[$/h]\n",
"disp('per hour',cost,'$',' Cost of heat loss to the home owner is')"
   ]
   }
,
{
		   "cell_type": "markdown",
		   "metadata": {},
		   "source": [
			"## Example 1.4: ab15.sce"
		   ]
		  },
  {
"cell_type": "code",
	   "execution_count": null,
	   "metadata": {
	    "collapsed": true
	   },
	   "outputs": [],
"source": [
"clear;\n",
"clc;\n",
"\n",
"//Example1.4 (Electric Heating of a House at High Elevation)\n",
"\n",
"//(a)\n",
"t1=10+273;//Initial temperature of house[K]\n",
"t2=20+273;//Temperature after turning on heater[K]\n",
"tavg=(t1+t2)/2;//Average temperature[K]\n",
"cp=1.007;//[kJ/kg.K]\n",
"cv=.720;//[kJ/kg.K]\n",
"disp('kJ/kg.K',cp,'and',cv,'K',tavg,'at the average temperature of','The specific heat capacities of air')\n",
"A=200;//The floor area[m^2]\n",
"h=3;//Height of room[m]\n",
"V=A*h;//Volume of the air in the house[m^3]\n",
"P=84.6;//Pressure [kPa]\n",
"R=0.287;//Universal gas constant[kPa.m^3/kg.K]\n",
"m=(P*V)/(R*t1);//[kg]\n",
"disp('kg',m,'Mass of air in the room is')\n",
"Eincv=m*cv*(t2-t1);\n",
"disp('kJ',Eincv,'The amount of energy transferred to air at constant volume is ')\n",
"u_cost=0.075;//Unit cost of energy[$/kWh]\n",
"Cost1=(Eincv*u_cost)/(3600);//[$]\n",
"disp(Cost1,'Cost of Energy is $')\n",
"\n",
"//(b)\n",
"Eincp=m*cp*(t2-t1);//[kJ]\n",
"disp('kJ',Eincp,'The amount of energy transferred to air at constant is ')\n",
"Cost2=(Eincp*u_cost)/3600;//[$]\n",
"disp(Cost2,'Cost of Energy is $')"
   ]
   }
,
{
		   "cell_type": "markdown",
		   "metadata": {},
		   "source": [
			"## Example 1.5: ab16.sce"
		   ]
		  },
  {
"cell_type": "code",
	   "execution_count": null,
	   "metadata": {
	    "collapsed": true
	   },
	   "outputs": [],
"source": [
"clear;\n",
"clc;\n",
"\n",
"//Example1.5 (The cost of Heat loss through a Roof)\n",
"\n",
"//(a)\n",
"k=0.8;//The thermal conductivity of the roof[W/m.degree.C]\n",
"A=6*8;//Area of the roof[m^2]\n",
"t1=15;//temperature of inner surface roof[degree C]\n",
"t2=4;//temperature of outer surface roof[degree C]\n",
"L=0.25;//thickness of roof[m]\n",
"Q_=k*A*(t1-t2)/L;//[W]\n",
"disp('W',Q_,'The steady rate of heat transfer through the roof is')\n",
"\n",
"//(b)\n",
"dt=10;//time period[h]\n",
"Q=Q_*dt/1000;//[kWh]\n",
"u_cost=0.08;//Unit cost of energy[$/kWh]\n",
"Cost=Q*u_cost;//[$]\n",
"disp(Cost,'and its cost is $','kWh',Q,'The amount of heat lost through the roof')"
   ]
   }
,
{
		   "cell_type": "markdown",
		   "metadata": {},
		   "source": [
			"## Example 1.6: ab16.sce"
		   ]
		  },
  {
"cell_type": "code",
	   "execution_count": null,
	   "metadata": {
	    "collapsed": true
	   },
	   "outputs": [],
"source": [
"clear;\n",
"clc;\n",
"\n",
"//Example1.6 (Measuring the Thermal Conductivity of a Material)\n",
"V=110;//Voltage diffrence b/w thermocouples[V]\n",
"I=0.4;//Current drawn by thermocouples[A]\n",
"We=V*I;//[W]\n",
"disp('W',We,'The electrical power consumed by the resistance heater and converted to heat is')\n",
"q_=We/2;//[W]\n",
"disp('W',q_,'The rate of heat flow through each sample')\n",
"dT=15;//Temperature drop in the direction of heat flow[degree C]\n",
"l=.03;//length for which temperature change is measured[m]\n",
"D=.05;//diameter of cylinder[m]\n",
"a=(%pi*D^2)/4;//Cross-sectional area of the cylinder[m^2]\n",
"K=(q_*l)/(a*dT);//[W/m.degreeC]\n",
"disp('W/mC',K,'The thermal conductivity of the sample is')"
   ]
   }
,
{
		   "cell_type": "markdown",
		   "metadata": {},
		   "source": [
			"## Example 1.7: ab17.sce"
		   ]
		  },
  {
"cell_type": "code",
	   "execution_count": null,
	   "metadata": {
	    "collapsed": true
	   },
	   "outputs": [],
"source": [
"clear;\n",
"clc;\n",
"\n",
"//Example1.7[Conversion between SI and English Units]\n",
"W_to_btu_p_h=3.41214;//Conersion from Watt to btu per hour[btu/h]\n",
"m_to_ft=3.2808;//Conversion from meter to english unit feet[ft]\n",
"deg_C_to_deg_F=1.8;//Conversion from degree Celcius to degree Farenhiet\n",
"W_per_m_deg_C=W_to_btu_p_h/(m_to_ft*deg_C_to_deg_F);//Conversion factor for 1W/m.degree Celcius[Btu/h.ft.degree Farenhiet]\n",
"k_brick=0.72*W_per_m_deg_C;//[Btu/h.ft.degree Farenhiet]\n",
"disp('Btu/h.ft.degree Farenhiet',k_brick,'The thermal conductivity of the brick in English units is')"
   ]
   }
,
{
		   "cell_type": "markdown",
		   "metadata": {},
		   "source": [
			"## Example 1.8: ab18.sce"
		   ]
		  },
  {
"cell_type": "code",
	   "execution_count": null,
	   "metadata": {
	    "collapsed": true
	   },
	   "outputs": [],
"source": [
"clear;\n",
"clc;\n",
"\n",
"//Example1.8[Measuring Convection Heat Transfer coefficient]\n",
"//Given:-\n",
"T_ambient=15;//Temperature of room[degree Celcius]\n",
"T_surface=152;//Temperature of surface of wire[degree Celcius]\n",
"L=2;//Length of wire[m]\n",
"D=0.003;//Diameter of wire[m]\n",
"V=60;//Voltage drop across the current wire[Volts]\n",
"I=1.5;//Current flowing in the wire[amp]\n",
"//Solution:-\n",
"//When steady conditions are reached, the rate of heat loss from the wire equals the rate of heat generation in the wire as a result of resistance heating\n",
"Q_=V*I;//[W]\n",
"disp('W',Q_,'The rate of heat generated in the wire as a result of resistance heating is')\n",
"As=%pi*D*L;//Surface Area of the wire[m^2]\n",
"//Using Newton's Law of Cooling\n",
"//and assuming all heat loss in wire to occur by convection\n",
"h=Q_/(As*(T_surface-T_ambient));//[W/m^2.degree Celcius]\n",
"disp('W/m^2.degree Celcius',h,'The convection Heat Transfer coefficient is' ) "
   ]
   }
,
{
		   "cell_type": "markdown",
		   "metadata": {},
		   "source": [
			"## Example 1.9: ab19.sce"
		   ]
		  },
  {
"cell_type": "code",
	   "execution_count": null,
	   "metadata": {
	    "collapsed": true
	   },
	   "outputs": [],
"source": [
"clear;\n",
"clc;\n",
"\n",
"//Example1.9[Radiation Effect on Thermal Comfort]\n",
"//Given:-\n",
"T_room=22+273;//Temperature fo room[K]\n",
"T_wntr=10+273;//Average Temperature of inner surfaces of walls,floors and the cieling in winter[K]\n",
"T_smmr=25+273;//Average Temperature of inner surfaces of walls,floors and the cieling in summer[K]\n",
"T_outr=30+273;//Average outer surface temperature of the person[K]\n",
"A=1.4;//The exposed surface area[m^2]\n",
"e=0.95;//Emissivity of person\n",
"sigma=5.67*(10^(-8));//Stefan's constant\n",
"Q_rad_wntr=e*sigma*A*((T_outr^4)-(T_wntr^4));//[W]\n",
"Q_rad_smmr=e*sigma*A*((T_outr^4)-(T_smmr^4));//[W]\n",
"disp('W',Q_rad_smmr,'and',round(Q_rad_wntr),'The net rates of radiation heat transfer from the body to the surrounding walls,ceiling, and floor in winter and summer are respectively')"
   ]
   }
],
"metadata": {
		  "kernelspec": {
		   "display_name": "Scilab",
		   "language": "scilab",
		   "name": "scilab"
		  },
		  "language_info": {
		   "file_extension": ".sce",
		   "help_links": [
			{
			 "text": "MetaKernel Magics",
			 "url": "https://github.com/calysto/metakernel/blob/master/metakernel/magics/README.md"
			}
		   ],
		   "mimetype": "text/x-octave",
		   "name": "scilab",
		   "version": "0.7.1"
		  }
		 },
		 "nbformat": 4,
		 "nbformat_minor": 0
}
