{
"cells": [
 {
		   "cell_type": "markdown",
	   "metadata": {},
	   "source": [
       "# Chapter 14: Mass Transfer"
	   ]
	},
{
		   "cell_type": "markdown",
		   "metadata": {},
		   "source": [
			"## Example 14.10: ab180.sce"
		   ]
		  },
  {
"cell_type": "code",
	   "execution_count": null,
	   "metadata": {
	    "collapsed": true
	   },
	   "outputs": [],
"source": [
"clear;\n",
"clc;\n",
"\n",
"//Example14.10[Mass Convection inside a Circular Pipe]\n",
"//Given:-\n",
"D=0.015;//Inner Diameter[m]\n",
"T=300;//Temp of air[K]\n",
"P=1;//Pressure of air[atm]\n",
"v=1.2;//Average velocity of air[m/s]\n",
"nu=1.58*10^(-5);//Viscosity[m^2/s]\n",
"//Solution:-\n",
"//Water is Species Aand air is species B\n",
"D_AB=(1.87*10^(-10))*(T^2.072)/P;//[m^2/s]\n",
"disp('m^2/s',D_AB,'The mass diffusivity of water vapor in air at 300K is')\n",
"Re=v*D/nu;\n",
"disp(round(Re),'The Reynolds number for internal flow is')\n",
"if(Re<2300) then\n",
"    disp('laminar Flow')\n",
"    Sh=3.66;//Sherwood number equals to Nusselt number\n",
"    h_mass=Sh*D_AB/D;//[m/s]\n",
"    disp('m/s',h_mass,'The mass transfer coefficient is')\n",
"else\n",
"    disp('Flow is not laminar')\n",
"end"
   ]
   }
,
{
		   "cell_type": "markdown",
		   "metadata": {},
		   "source": [
			"## Example 14.11: ab181.sce"
		   ]
		  },
  {
"cell_type": "code",
	   "execution_count": null,
	   "metadata": {
	    "collapsed": true
	   },
	   "outputs": [],
"source": [
"clear;\n",
"clc;\n",
"\n",
"//Example14.11[Analogy between Heat and Mass Transfer]\n",
"//Given:-\n",
"//Napthalene is species A and air is species B\n",
"M_A=128.2;//Molar Mass of A[kg/kmol]\n",
"M_air=29;//Molar mass of B[kg/kmol]\n",
"P=101325;//Pressure of Air[Pa]\n",
"T=298;//Temperature[K]\n",
"D_AB=0.61*10^(-5);//[m^2/s]\n",
"v=2;//Stream velocity[m/s]\n",
"rho=1.184;//Density of air[kg/m^3]\n",
"Cp=1007;//Specific Heat[J/kg.K]\n",
"a=2.141*10^(-5);//Absorptivity[m^2/s]\n",
"w_inf=0;//Mass fraction of napthalene at free stream conditions \n",
"P_As=11;//Vapor Pressure of Napthalene at surface[Pa]\n",
"mA=12*10^(-3);//Mass of napthalene sublimated[kg]\n",
"delta_t=15*60;//time of sublimation[s]\n",
"As=0.3;//surface area of the body[m^2]\n",
"//Solution:-\n",
"w_As=(P_As/P)*(M_A/M_air);\n",
"disp(w_As,'Mass fraction at the surface is')\n",
"m_evap=mA/delta_t;//[kg/s]\n",
"disp('kg/s',m_evap,'The rate of evaporation of napthalene is')\n",
"h_mass=m_evap/(rho*As*(w_As-w_inf));\n",
"disp('m/s',h_mass,'The mass convection coefficient is')\n",
"//Using analogy between heat and mass transfer\n",
"h_heat=rho*Cp*h_mass*((a/D_AB)^(2/3));//[W/m^2.degree Celcius]\n",
"disp('W/m^2.degree Celcius',round(h_heat),'The average heat transfer coefficient is')"
   ]
   }
,
{
		   "cell_type": "markdown",
		   "metadata": {},
		   "source": [
			"## Example 14.12: ab182.sce"
		   ]
		  },
  {
"cell_type": "code",
	   "execution_count": null,
	   "metadata": {
	    "collapsed": true
	   },
	   "outputs": [],
"source": [
"clear;\n",
"clc;\n",
"\n",
"//Example14.12[Evaporative Cooling of a Canned Drink]\n",
"//Given:-\n",
"//Water is species A and air is species B\n",
"M_A=18,M_B=29;;//Molar Masses of water and air[kg/kmol]\n",
"D_AB=2.5*10^(-5);//Diffusivity of water vapor in air[m^2/s]\n",
"T_inf=30;//Ambient Temperature[degree Celcius]\n",
"T_avg=(20+T_inf)/2;//Average temperature\n",
"P=101.325;//Atmospheric Pressure[kPa]\n",
"//Properties of A at 20 degree Celcius\n",
"h_fg=2454;//[kJ/kg]\n",
"Pv1=2.34;//Saturation vapor pressure[kPa]\n",
"Pv2=4.25;//Vapor Pressure at 30 degree Celcius[kPa]\n",
"//Properties of air at average temperature and 1 atm\n",
"Cp=1.007;//[kJ/kg]\n",
"a=2.141*10^(-5);//[m^2/s]\n",
"phi=0.4;//Relative Humidity\n",
"//Solution:-\n",
"Le=a/D_AB;\n",
"disp(Le,'The Lewis Number is')\n",
"Pv_inf=phi*Pv2;//[kPa]\n",
"disp('kPa',Pv_inf,'The vapor pressure of air away from the surface is')\n",
"Ts=T_inf-(h_fg*M_A*(Pv1-Pv_inf)/(Cp*(Le^(2/3))*M_B*P));\n",
"disp('degree Celcius',Ts,'The temperature of the drink can be lowered to')"
   ]
   }
,
{
		   "cell_type": "markdown",
		   "metadata": {},
		   "source": [
			"## Example 14.13: ab183.sce"
		   ]
		  },
  {
"cell_type": "code",
	   "execution_count": null,
	   "metadata": {
	    "collapsed": true
	   },
	   "outputs": [],
"source": [
"clear;\n",
"clc;\n",
"\n",
"//Example14.13[Heat Loss from Uncovered Hot Water Baths]\n",
"//Given:-\n",
"Ts=50+273;//Uniform temperature of water[K]\n",
"T_surr=20+273;//Average temperature of surrounding surfaces[K]\n",
"T_inf=25+273;//Ambient temperature[K]\n",
"As=3.5*1;//Surface area of water bath[m^2]\n",
"p=2*(3.5+1);//Perimeter of top surface of water bath[m]\n",
"e=0.95;//Emissivity of liquid water\n",
"phi=0.52;//Relative Humidity\n",
"Rv=0.4615;//Universal Gas Constant[kPa.m^3/kg.K]\n",
"Ra=0.287;//Universal Gas Constant[kPa.m^3/kg.K]\n",
"g=9.81;//[m^2/s]\n",
"//solution:-\n",
"//(a)\n",
"Q_rad=e*As*(5.67*10^(-8))*((Ts^4)-(T_surr^4));\n",
"disp('W',round(Q_rad),'The radiation heat loss from the water to the surrounding surface is')\n",
"//(b)\n",
"Tavg=(Ts+T_inf)/2;//Average temperature[degree Celcius]\n",
"P=92;//Atmospheric pressure[kPa]\n",
"//At average temperature Tavg and Pressure P,Properties of dry air:-\n",
"k=0.02644;//[W/m.degree Celcius]\n",
"Pr=0.7262;//Prandtl  number, independent of pressure\n",
"a=(2.312*10^(-5))/P;//Absorptivity[m^2/s]\n",
"nu=(1.849*10^(-5));//Kinematic viscosity[m^2/s]\n",
"//At T_surr properties of water are:-\n",
"h_fg=2383;//[kJ/kg]\n",
"Pvs=12.35;//[kPa]\n",
"Psat=3.17;//Saturation Pressure of water at surface temp[kPa]\n",
"//The air at surface is saturated therefore vapor pressure at surface is simple the saturation pressure of water at the surface temperature\n",
"Pv_inf=phi*Psat;//[kPa]\n",
"//At the surface\n",
"rho_vs=Pvs/(Rv*Ts);\n",
"disp('kg/m^3',rho_vs,'Density of water vapor at the surface is')\n",
"rho_as=(P-Pvs)/(Ra*Ts);\n",
"disp('kg/m^3',rho_as,'Density of air at the surface is')\n",
"rho_s=rho_vs+rho_as;\n",
"disp('kg/m^3',rho_s,'Density of mixture at the surface is')\n",
"//Away from the surface\n",
"rho_vinf=Pv_inf/(Rv*T_inf);\n",
"disp('kg/m^3',rho_vinf,'Density of vapor away from the surface is')\n",
"rho_ainf=(P-Pv_inf)/(Ra*T_inf);\n",
"disp('kg/m^3',rho_ainf,'Density of air away from the surface is')\n",
"rho_inf=rho_ainf+rho_vinf;\n",
"disp('kg/m^3',rho_inf,'The density of mixture away from the surface is')\n",
"Lc=As/p;\n",
"disp('m',Lc,'The characteristic length is')\n",
"Gr=g*(rho_inf-rho_s)*(Lc^3)/(((rho_inf+rho_s)/2)*(nu^2));\n",
"disp(Gr,'The Grashof number is')\n",
"Nu=0.15*((Gr*Pr)^(1/3));\n",
"disp(Nu,'The Nusselt number is')\n",
"h_conv=Nu*k/Lc;\n",
"disp('W/m^2.degree Celcius',h_conv,'The convection heat transfer coefficient is')\n",
"Q_conv=h_conv*As*(Ts-T_inf);\n",
"disp('W',ceil(Q_conv),'The natural convection heat transfer rate is')\n",
"//(c)\n",
"D_AB=(1.87*10^(-10))*(Tavg^2.072)/(P/101.325);\n",
"disp('m^2/s',D_AB,'The mass diffusivity of water vapor in air at the average temperature is')\n",
"Sc=nu/D_AB;\n",
"disp(Sc,'The Schmidt Number is')\n",
"Sh=0.15*((Gr*Sc)^(1/3));\n",
"disp(Sh,'The Sherwood Number is')\n",
"h_mass=Sh*D_AB/Lc;\n",
"disp('m/s',h_mass,'The mass transfer coefficient is')\n",
"mv=h_mass*As*(rho_vs-rho_vinf);\n",
"disp('kg/s',mv,'The evaporation rate is')\n",
"Q_evap=mv*h_fg;\n",
"disp('kW',Q_evap,'The rate of heat transfer by evaporation is')\n",
"Q_total=Q_rad+Q_conv+1000*Q_evap;\n",
"disp('W',Q_total,'The total rate of heat transfer from the water to the surrounding air and surfaces is')"
   ]
   }
,
{
		   "cell_type": "markdown",
		   "metadata": {},
		   "source": [
			"## Example 14.1: ab171.sce"
		   ]
		  },
  {
"cell_type": "code",
	   "execution_count": null,
	   "metadata": {
	    "collapsed": true
	   },
	   "outputs": [],
"source": [
"clear;\n",
"clc;\n",
"\n",
"//Example14.1[Determining Mass Fractions from Mole Fractions]\n",
"//Given:-\n",
"yN2=0.781,yO2=0.209,yAr=0.01;//Mole fractions\n",
"M_N2=28,M_O2=32,M_Ar=39.9;//Molar Masses \n",
"//Solution:-\n",
"M_air=yN2*M_N2+yO2*M_O2+yAr*M_Ar;//[kg/kmol]\n",
"disp('kg/kmol',M_air,'The molar mass of air is')\n",
"w_N2=yN2*M_N2/M_air;\n",
"w_O2=yO2*M_O2/M_air;\n",
"w_Ar=yAr*M_Ar/M_air;\n",
"disp('respectively','percent',100*w_Ar,'and','percent',100*w_O2,',','percent',100*w_N2,'The mass fractions of N2, O2 and Ar in dry standard atmosphere are')"
   ]
   }
,
{
		   "cell_type": "markdown",
		   "metadata": {},
		   "source": [
			"## Example 14.2: ab172.sce"
		   ]
		  },
  {
"cell_type": "code",
	   "execution_count": null,
	   "metadata": {
	    "collapsed": true
	   },
	   "outputs": [],
"source": [
"clear;\n",
"clc;\n",
"\n",
"//Example14.2[Mole Fraction of Water Vapor at the surface of a Lake]\n",
"//Given:-\n",
"P_vapor=1.705;//Partial Pressure of water vapor in the air at the lake surface is saturation pressure of watre at 15 degree Celcius[kPa]\n",
"T_lake=15;//[degree Celcius]\n",
"P=92;//Atmospheric pressure at lake level [kPa]\n",
"//Solution:-\n",
"y_vapor=P_vapor/P;\n",
"disp(y_vapor,'The mole fraction of water vapor in the air at the surface of lake is')\n",
"y_water=1-y_vapor;//Since water contains dissolved air\n",
"disp(y_water,'Mole fraction of liquid water in lake')"
   ]
   }
,
{
		   "cell_type": "markdown",
		   "metadata": {},
		   "source": [
			"## Example 14.3: ab173.sce"
		   ]
		  },
  {
"cell_type": "code",
	   "execution_count": null,
	   "metadata": {
	    "collapsed": true
	   },
	   "outputs": [],
"source": [
"clear;\n",
"clc;\n",
"\n",
"//Example14.3[Mole Fraction of Dissolved Air in Water]\n",
"//Given:-\n",
"P_vapor=1.96;//The partial presure of water vapor in the air at the lake surface is the saturation pressure of water at 17 degree Celcius\n",
"H=62000;//Henry's constant for air dissolved in water at 290K[bar]\n",
"P=92;//Atmospheric Pressure at lake level[kPa]\n",
"//Solution:-\n",
"P_dryair=P-P_vapor;//[kPa]\n",
"disp('bar',P_dryair/100,'The partial pressure of dry air is')\n",
"y_dryair=(P_dryair/100)/H;\n",
"disp(y_dryair,'The mole fraction of air in the water is')"
   ]
   }
,
{
		   "cell_type": "markdown",
		   "metadata": {},
		   "source": [
			"## Example 14.4: ab174.sce"
		   ]
		  },
  {
"cell_type": "code",
	   "execution_count": null,
	   "metadata": {
	    "collapsed": true
	   },
	   "outputs": [],
"source": [
"clear;\n",
"clc;\n",
"\n",
"//Example14.4[Diffusion of Hydrogen Gas into a Nickel Plate]\n",
"//Given:-\n",
"s=0.00901;//Solubility of hydrogen in nickel at 358K[kmol/m^3.bar]\n",
"P_H2=300/100;//[bar]\n",
"M_H2=2;//Molar Mass of hydrogen[kg/kmol]\n",
"//Solution:-\n",
"C_H2=s*P_H2;//[kmol/m^3]\n",
"disp('kmol/m^3',C_H2,'The molar density of hydrogen in the nickel at the interface is')\n",
"rho_H2=C_H2*M_H2;//[kg/m^3]\n",
"disp('kg/m^3',rho_H2,'Mass Density of hydrogen is')"
   ]
   }
,
{
		   "cell_type": "markdown",
		   "metadata": {},
		   "source": [
			"## Example 14.5: ab175.sce"
		   ]
		  },
  {
"cell_type": "code",
	   "execution_count": null,
	   "metadata": {
	    "collapsed": true
	   },
	   "outputs": [],
"source": [
"clear;\n",
"clc;\n",
"\n",
"//Example14.5[Diffusion of Hydrogen through a Spherical Container]\n",
"//Given:-\n",
"CA1=0.087,CA2=0;//Molar concentration of hydrogen in the nickel at inner and outer surfaces[kmol/m^3]\n",
"r2=4.8/2;//Outer radius[m]\n",
"t=0.06;//Thickness of shell[m]\n",
"D_AB=1.2*(10^(-12));//Diffusion coefficient for hydrogen in the nickel at the specified temperature is[m^2/s]\n",
"M_H2=2;//Molar Mass of H2[kg/kmol]\n",
"//Solution:-\n",
"r1=((2*r2)-(2*t))/2;//Inner radius[m]\n",
"N_diff=4*%pi*r1*r2*D_AB*(CA1-CA2)/(r2-r1);\n",
"disp('kmol/s',N_diff,'The molar flow rate of hydrogen through the shell by diffusion is')\n",
"m_diff=M_H2*N_diff;\n",
"disp('kg/s',m_diff,'The mass flow rate of hydrogen is')"
   ]
   }
,
{
		   "cell_type": "markdown",
		   "metadata": {},
		   "source": [
			"## Example 14.6: ab176.sce"
		   ]
		  },
  {
"cell_type": "code",
	   "execution_count": null,
	   "metadata": {
	    "collapsed": true
	   },
	   "outputs": [],
"source": [
"clear;\n",
"clc;\n",
"\n",
"//Example14.6[Condensation and Freezing of Moisture in Walls]\n",
"Ti=20,To=-16;//Indoor and outdoor temperatures[degree Celcius]\n",
"R_wall=3.05;//Total thermal resistance of the wall[m^2.degree Celcius/W]\n",
"A=1;//Heat transfer area[m^2]\n",
"R_ext=0.40;//The thermal resistance of the exterior part of the wall beyond the insulation[m^2.degree Celcius/W]\n",
"Rv_int=0.012+0.0004,Rv_ext=0.0138+0.019;//Indoor and outdoor vapor resistances[Pa.m^2.s/ng]\n",
"phi1=0.6,phi2=0.7;//Indoor and outdoor Relative Humidity \n",
"Psat1=2340,Psat2=151;//Indoor and outdoor saturation pressures[Pa]\n",
"//Solution:-\n",
"Q_wall=A*(Ti-To)/R_wall;//[W]\n",
"disp('W',Q_wall,'The rate of heat transfer through unit area of wall is')\n",
"T_I=To+(Q_wall*R_ext);\n",
"disp('degree Celcius',T_I,'The temperature of outer sheathing interface is')\n",
"P=234;//The saturation pressure of water at temp T_I[Pa]\n",
"Pv1=phi1*Psat1;\n",
"Pv2=phi2*Psat2;\n",
"disp('Pa',round(Pv2),'and','Pa',Pv1,'The vapor pressure at the indoor and the outdoor is')\n",
"mv_int=A*(Pv1-P)/Rv_int;\n",
"mv_ext=A*(P-Pv2)/Rv_ext;\n",
"disp('ng/s',mv_ext,'and','ng/s',mv_int,'The rate of moisture flow through the interior and exterior parts of the wall is')\n",
"mv_freezing=mv_int-mv_ext;\n",
"disp('ng/s',mv_freezing,'The moisture is freezing in the insulation at the rate of')"
   ]
   }
,
{
		   "cell_type": "markdown",
		   "metadata": {},
		   "source": [
			"## Example 14.7: ab177.sce"
		   ]
		  },
  {
"cell_type": "code",
	   "execution_count": null,
	   "metadata": {
	    "collapsed": true
	   },
	   "outputs": [],
"source": [
"clear;\n",
"clc;\n",
"\n",
"//Example14.7[Hardening of Steel by the diffusion of carbon]\n",
"//Given:-\n",
"D_AB=4.8*10^(-10);//Diffusion coefficient of carbon in steel at the furnace temperature [m^2/s]\n",
"wA_i=0.0015;//Initial carbon concentration\n",
"wA_e=0.012;//Equilibrium concentration of carbon\n",
"wA_t=0.01;//Concentration of carbon after desired time\n",
"x=0.0005;//Diffusion distance[m]\n",
"//Solution:\n",
"a=(wA_t-wA_i)/(wA_e-wA_i);\n",
"//Tthe argument whose complimentary error function is a=0.81 is 0.17\n",
"t=(x^2)/(4*D_AB*(0.17^2));//[seconds]\n",
"disp('seconds',round(t),'Time taken to reach desired level of hardening is')"
   ]
   }
,
{
		   "cell_type": "markdown",
		   "metadata": {},
		   "source": [
			"## Example 14.8: ab178.sce"
		   ]
		  },
  {
"cell_type": "code",
	   "execution_count": null,
	   "metadata": {
	    "collapsed": true
	   },
	   "outputs": [],
"source": [
"clear;\n",
"clc;\n",
"\n",
"//Example14.8[Venting of Helium into the Atmosphere by Diffusion]\n",
"//Given:-\n",
"D_AB=7.2*10^(-5);//Diffusion coefficient of air in helium[m^2/s]\n",
"M_He=4,M_air=29;//Molar masses of helium and air[kg/kmol]\n",
"D=0.005;//Internal diameter of tube[m]\n",
"L=15;//Length of tube[m]\n",
"R1=8.314;//Universal Gas Constant[kPa.m^3/kmol.K]\n",
"R2=2.0769;//Universal Gas Constant[kPa.m^3/kg.K]\n",
"T=298;///Ambient temperature[K]\n",
"//Solution:-\n",
"A=%pi*(D^2)/4;//Flow area[m^2]\n",
"P_He0=1,P_HeL=0;//Pressure of helium at x=0 i.e. bottom of tube and at x=L i.e. at the top of the tube [atm]\n",
"N_He=D_AB*A*(P_He0-P_HeL)*(101.3)/(R1*T*L);\n",
"disp('kmol/s',N_He,'The molar flow rate of Helium is')\n",
"m_He=N_He*M_He;\n",
"disp('kg/s',m_He,'Mass flow rate of helium is')\n",
"N_air=-N_He;//Equimolar counter diffusion process\n",
"m_air=N_air*M_air;\n",
"disp('kg/s',m_air,'The flow rate of air into the pipeline is')\n",
"w_air=m_air/(m_air+m_He);\n",
"disp('which is negligible',w_air,'Mass fraction of air in the helium pipeline is')\n",
"m_net=m_He+m_air;//[kg/s]\n",
"//Taking density of mixture at x=0 to be the density of helium as the mass fraction of air at the bottom is very small\n",
"rho=P_He0*101.325/(R2*T);//[kg/m^3]\n",
"V=m_net/(rho*A);//[m/s]\n",
"disp('m/s',V,'The average flow velocity at the bottom of the tube is')"
   ]
   }
,
{
		   "cell_type": "markdown",
		   "metadata": {},
		   "source": [
			"## Example 14.9: ab179.sce"
		   ]
		  },
  {
"cell_type": "code",
	   "execution_count": null,
	   "metadata": {
	    "collapsed": true
	   },
	   "outputs": [],
"source": [
"clear;\n",
"clc;\n",
"\n",
"//Example14.9[Measuring Diffusion Coefficient by the Stefan tube]\n",
"//Given:-\n",
"D=0.03;//Diameter of tube[m]\n",
"P=83.5;//Atmospheric Pressure at an elevation of 1600m[kPa]\n",
"T=20+273;//Ambient temperature[K]\n",
"R=8.314;//Universal Gas Constant[kPa.m^3/kmol.K]\n",
"P_vapor0=2.34;//The saturation pressure of water at 20 degree Celcius[kPa]\n",
"M_vapor=18;//Molar mass of water vapor[kg/kmol]\n",
"x=0.4;//Distance from water surface to the open end of the tube[m]\n",
"//Solution:-\n",
"//water vapor is species A\n",
"yA0=P_vapor0/P;\n",
"disp(yA0,'The mole fraction of water vapor (species A) at the Interface is')\n",
"yAL=0;//mole fraction of water vapor on the top of the tube\n",
"C=P/(R*T);//[kmol/m^3]\n",
"A=%pi*(D^2)/4;//[m^2]\n",
"disp('m^2',A,'The cross sectional area of tube')\n",
"m_vapor=(1.23*10^(-3))/(15*24*3600);//Rate of evaporation [kg/s]\n",
"N_vapor=m_vapor/M_vapor;\n",
"disp('kmol/s',N_vapor,'The molar flow rate of vapor is')\n",
"D_AB=(N_vapor/A)*(x/C)/log((1-yAL)/(1-yA0));\n",
"disp('m^2/s',D_AB,'Binary diffusion coefficient of water vapor in air at 20 degree Celcius and 83.5kPa')"
   ]
   }
],
"metadata": {
		  "kernelspec": {
		   "display_name": "Scilab",
		   "language": "scilab",
		   "name": "scilab"
		  },
		  "language_info": {
		   "file_extension": ".sce",
		   "help_links": [
			{
			 "text": "MetaKernel Magics",
			 "url": "https://github.com/calysto/metakernel/blob/master/metakernel/magics/README.md"
			}
		   ],
		   "mimetype": "text/x-octave",
		   "name": "scilab",
		   "version": "0.7.1"
		  }
		 },
		 "nbformat": 4,
		 "nbformat_minor": 0
}
