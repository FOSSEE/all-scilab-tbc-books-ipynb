{
"cells": [
 {
		   "cell_type": "markdown",
	   "metadata": {},
	   "source": [
       "# Chapter 10: Boiling and Condensation"
	   ]
	},
{
		   "cell_type": "markdown",
		   "metadata": {},
		   "source": [
			"## Example 10.1: ab121.sce"
		   ]
		  },
  {
"cell_type": "code",
	   "execution_count": null,
	   "metadata": {
	    "collapsed": true
	   },
	   "outputs": [],
"source": [
"clear;\n",
"clc;\n",
"\n",
"//Example10.1[Nucleate Boiling of Water in a Pan]\n",
"Ts=108;//Temp of surface of bottom of pan[degree Celcius]\n",
"Tsat=100;//Saturation temp of water[degree Celcius]\n",
"D=0.3;//Diameter[m]\n",
"//Properties of water at the saturation temp\n",
"rho_l=957.9;//Density of liquid[kg/m^3]\n",
"rho_v=0.6;//Density of vapour[kg/m^3]\n",
"Pr_l=1.75;//Prandtl no of liquid\n",
"mu_l=0.282*10^(-3);//Viscosity of liquid[kg/m.s]\n",
"Cp_l=4217;//Specific Heat of liquid[J/kg.degree Celcius]\n",
"h_fg=2257*10^3;//[J/kg]\n",
"sigma=0.0589;//[N/m]\n",
"g=9.81;//Acc due to gravity[m/s^2]\n",
"Csf=0.0130,n=1.0;\n",
"//Solution(a):-\n",
"q_nuc=mu_l*h_fg*((g*(rho_l-rho_v)/sigma)^(1/2))*((Cp_l*(Ts-Tsat)/(Csf*h_fg*(Pr_l^n)))^3);//[W/m^2]\n",
"A=%pi*(D^2)/4;//Surface Area of bottom of the pan[m^2]\n",
"Q_boiling=A*q_nuc;//[W]\n",
"disp('W',Q_boiling,'(a) The rate of heat transfer during nucleate boiling becomes ')\n",
"//Solution(b):-\n",
"m=Q_boiling/h_fg;//[kg/s]\n",
"disp('kg/s',m,'The rate of Evaporation of water is')"
   ]
   }
,
{
		   "cell_type": "markdown",
		   "metadata": {},
		   "source": [
			"## Example 10.2: ab122.sce"
		   ]
		  },
  {
"cell_type": "code",
	   "execution_count": null,
	   "metadata": {
	    "collapsed": true
	   },
	   "outputs": [],
"source": [
"clear;\n",
"clc;\n",
"\n",
"//Example10.2[Peak Heat Flux in Nucleate Boiling]\n",
"D=0.01;//[m]\n",
"Tsat=100;//Saturation Temperature[degree Celcius]\n",
"sigma=0.0589;//[N/m]\n",
"//Properties of water at saturation temperature\n",
"rho_l=957.9;//[kg/m^3]\n",
"rho_v=0.6;//[kg/m^3]\n",
"h_fg=2257*10^3;//[J/kg]\n",
"mu_l=0.282*10^(-3);//[kg/m.s]\n",
"Pr_l=1.75;//Prandtl number\n",
"Cp_l=4217;//[J/kg.degree Celcius]\n",
"Csf=0.0130,n=1.0;\n",
"g=9.81;//[m/s^2]\n",
"//Solution:-\n",
"L_=(D/2)*((g*(rho_l-rho_v)/sigma)^(1/2));//dimensionless Parameter\n",
"//For this value of L_ we have \n",
"C_cr=0.12;//Constant\n",
"q_max=C_cr*h_fg*((sigma*g*(rho_v^2)*(rho_l-rho_v))^(1/4));//[W/m^2]\n",
"disp('W/m^2',q_max,'The maximum or critical heat flux is')\n",
"Ts=(((q_max/(mu_l*h_fg*((g*(rho_l-rho_v)/sigma)^(1/2))))^(1/3))*(Csf*h_fg*Pr_l^n)/Cp_l)+Tsat;//[degree Celcius]\n",
"disp('degree Celcius',round(Ts),'The surface temperature is')"
   ]
   }
,
{
		   "cell_type": "markdown",
		   "metadata": {},
		   "source": [
			"## Example 10.3: ab123.sce"
		   ]
		  },
  {
"cell_type": "code",
	   "execution_count": null,
	   "metadata": {
	    "collapsed": true
	   },
	   "outputs": [],
"source": [
"clear;\n",
"clc;\n",
"\n",
"//Example10.3[Film Boiling of Water on a Heating Element]\n",
"//Given:-\n",
"D=0.005;//[m]\n",
"e=0.05;//Emissivity\n",
"Ts=350;//Surface temperature[degree Celcius]\n",
"Tsat=100;//[degree Celcius]\n",
"Tf=(Ts+Tsat)/2;//[degree Celcius]\n",
"g=9.81;//[m/s^2]\n",
"//Properties of water at Tsat\n",
"rho_l=957.9;//[kg/m^3]\n",
"h_fg=2257*10^3;//[J/kg]\n",
"//Properties of vapor at film temp\n",
"rho_v=0.444;//[kg/m^3]\n",
"Cp_v=1951;//[J/kg.degree Celcius]\n",
"mu_v=1.75*10^(-5);//[kg/m.s]\n",
"k_v=0.0388;//[W/m.degree Celcius]\n",
"//Solution:-\n",
"q_film=0.62*(((g*(k_v^3)*rho_v*(rho_l-rho_v)*(h_fg+(0.4*Cp_v*(Ts-Tsat))))/(mu_v*D*(Ts-Tsat)))^(1/4))*(Ts-Tsat);//[W/m^2]\n",
"disp('W/m^2)',q_film,'The film boiling heat flux is')\n",
"q_rad=e*(5.67*10^(-8))*(((Ts+273)^4)-((Tsat+273)^4));//[W/m^2]\n",
"disp('W/m^2',q_rad,'The radiation heat flux is')\n",
"q_total=q_film+(3/4)*q_rad;//[W/m^2]\n",
"disp('W/m^2',q_total,'The total heat flux is')\n",
"Q_total=(%pi*D*1)*q_total;//[W]\n",
"disp('W',Q_total,'The rate of heat transfer from the heating element to the water is')"
   ]
   }
,
{
		   "cell_type": "markdown",
		   "metadata": {},
		   "source": [
			"## Example 10.4: ab124.sce"
		   ]
		  },
  {
"cell_type": "code",
	   "execution_count": null,
	   "metadata": {
	    "collapsed": true
	   },
	   "outputs": [],
"source": [
"clear;\n",
"clc;\n",
"\n",
"//Example10.4[Condensation of steam on a Vertical Plate]\n",
"//Given:-\n",
"Tsat=100,Ts=80;//[degree Celcius]\n",
"Tf=(Ts+Tsat)/2;//[degree Celcius]\n",
"L=2,w=3;//Dimensions of Plate[m]\n",
"g=9.81;//[m/s^2]\n",
"//Properties of water at Tsat\n",
"h_fg=2257*10^3;//[J/kg]\n",
"rho_v=0.60;//[kg/m^3]\n",
"//Properties of liquid water at Tf\n",
"rho_l=965.3;//[kg/m^3]\n",
"mu_l=0.315*10^(-3);//[kg/m.s\n",
"Cp_l=4206;//[J/kg.degree Celcius]\n",
"k_l=0.675;//[W/m.degree Celcius]\n",
"nu_l=0.326*10^(-6);//[m^2/s]\n",
"//Solution (a)\n",
"h_fg_m=h_fg+0.68*Cp_l*(Tsat-Ts);//[J/kg]\n",
"disp('J/kg',h_fg_m,'The modified latent heat of vapourization is')\n",
"Re=((4.81+((3.70*L*k_l*(Tsat-Ts)*((g/nu_l^2)^(1/3)))/(mu_l*h_fg_m)))^(0.820));\n",
"disp(ceil(Re),'For wavy laminar flow Reynolds number is')\n",
"h=(Re*k_l*((g/nu_l^2)^(1/3)))/((1.08*(Re^(1.22)))-5.2);//[W/m^2.degree Celcius]\n",
"disp('W/m^2.degree Celcius',h,'The conensation heat transfer coefficient is')\n",
"As=w*L;//[m^2]\n",
"Q=h*As*(Tsat-Ts);//[W]\n",
"disp('W',Q,'The rate of heat transfer during condensation process is')\n",
"//Solution (b)\n",
"m=Q/h_fg_m;//[kg/s]\n",
"disp('kg/s',m,'The rate of condensation of steam is')"
   ]
   }
,
{
		   "cell_type": "markdown",
		   "metadata": {},
		   "source": [
			"## Example 10.5: ab125.sce"
		   ]
		  },
  {
"cell_type": "code",
	   "execution_count": null,
	   "metadata": {
	    "collapsed": true
	   },
	   "outputs": [],
"source": [
"clear;\n",
"clc;\n",
"\n",
"//Example10.5[Condensation of steam on a Vertical Tilted Plate]\n",
"//Given:-\n",
"Tsat=100,Ts=80;//[degree Celcius]\n",
"Tf=(Ts+Tsat)/2;//[degree Celcius]\n",
"L=2,w=3;//Dimensions of Plate[m]\n",
"g=9.81;//[m/s^2]\n",
"//Properties of water at Tsat\n",
"h_fg=2257*10^3;//[J/kg]\n",
"rho_v=0.60;//[kg/m^3]\n",
"//Properties of liquid water at Tf\n",
"rho_l=965.3;//[kg/m^3]\n",
"mu_l=0.315*10^(-3);//[kg/m.s\n",
"Cp_l=4206;//[J/kg.degree Celcius]\n",
"k_l=0.675;//[W/m.degree Celcius]\n",
"nu_l=0.326*10^(-6);//[m^2/s]\n",
"theta=(%pi/6);//Angle at which plate is tilted[radians]\n",
"//Solution (a)\n",
"h_fg_m=h_fg+0.68*Cp_l*(Tsat-Ts);//[J/kg]\n",
"disp('J/kg',h_fg_m,'The modified latent heat of vapourization is')\n",
"Re=((4.81+((3.70*L*k_l*(Tsat-Ts)*((g/nu_l^2)^(1/3)))/(mu_l*h_fg_m)))^(0.820));\n",
"disp(ceil(Re),'For wavy laminar flow Reynolds number is')\n",
"h=((Re*k_l*((g/nu_l^2)^(1/3)))/((1.08*(Re^(1.22)))-5.2))*((cos(theta))^(1/4));//[W/m^2.degree Celcius]\n",
"disp('W/m^2.degree Celcius',h,'The conensation heat transfer coefficient is')\n",
"As=w*L;//[m^2]\n",
"Q=h*As*(Tsat-Ts);//[W]\n",
"disp('W',Q,'The rate of heat transfer during condensation process is')\n",
"//Solution (b)\n",
"m=Q/h_fg_m;//[kg/s]\n",
"disp('kg/s',m,'The rate of condensation of steam is')"
   ]
   }
,
{
		   "cell_type": "markdown",
		   "metadata": {},
		   "source": [
			"## Example 10.6: ab126.sce"
		   ]
		  },
  {
"cell_type": "code",
	   "execution_count": null,
	   "metadata": {
	    "collapsed": true
	   },
	   "outputs": [],
"source": [
"clear;\n",
"clc;\n",
"\n",
"//Example10.6[Condensation of Steam on horizontal Tubes]\n",
"//Given:-\n",
"Tsat=40;//[degree Celcius]\n",
"D=0.03;//[m]\n",
"Ts=30;//Outer Surface temperature of tube[degree Celcius]\n",
"Tf=(Ts+Tsat)/2;//Film Temperature[degree Celcius]\n",
"g=9.81;//[m/s^2]\n",
"//Properties of water at the saturation temp\n",
"h_fg=2407*10^3;//[J/kg]\n",
"rho_v=0.05;//[kg/m^3]\n",
"//Properties of liquid water at the film temperature\n",
"rho_l=994;//[kg/m^3]\n",
"Cp_l=4178;//[J/kg.degree Celcius]\n",
"mu_l=0.720*10^(-3);//[kg/m.s]\n",
"k_l=0.623;//[W/m.degree Celcius]\n",
"//Solution (a)\n",
"h_fg_m=h_fg+0.68*Cp_l*(Tsat-Ts);//[J/kg]\n",
"disp('J/kg',h_fg_m,'(a) The modified latent heat of vapourisation is')\n",
"h_hori=0.729*(((g*(rho_l^2)*h_fg_m*(k_l^3))/(mu_l*D*(Tsat-Ts)))^(1/4));//[W/m^2.degree Celcius]\n",
"disp('W/m^2.degree Celcius',h_hori,'The heat transfer coefficient for condensation on a single horizontal tube is')\n",
"As=%pi*D*1;//[m^2]\n",
"Q=h_hori*As*(Tsat-Ts);//[W]\n",
"disp('W',Q,'The rate of heat transfer during condensation Process is')\n",
"//Solution (b)\n",
"m=Q/h_fg_m;//[kg/s]\n",
"disp('kg/s',m,'(b) The rate of condensation of steam is')"
   ]
   }
,
{
		   "cell_type": "markdown",
		   "metadata": {},
		   "source": [
			"## Example 10.7: ab127.sce"
		   ]
		  },
  {
"cell_type": "code",
	   "execution_count": null,
	   "metadata": {
	    "collapsed": true
	   },
	   "outputs": [],
"source": [
"clear;\n",
"clc;\n",
"\n",
"//Example10.7[Condensation of Steam on horizontal Tube Banks]\n",
"//Given:-\n",
"Tsat=40;//[degree Celcius]\n",
"D=0.03;//[m]\n",
"Ts=30;//Outer Surface temperature of tube[degree Celcius]\n",
"Tf=(Ts+Tsat)/2;//Film Temperature[degree Celcius]\n",
"g=9.81;//[m/s^2]\n",
"N=3;//No of tubes in a vertical tier\n",
"N_total=12;//Total number of tubes\n",
"//Properties of water at the saturation temp\n",
"h_fg=2407*10^3;//[J/kg]\n",
"rho_v=0.05;//[kg/m^3]\n",
"//Properties of liquid water at the film temperature\n",
"rho_l=994;//[kg/m^3]\n",
"Cp_l=4178;//[J/kg.degree Celcius]\n",
"mu_l=0.720*10^(-3);//[kg/m.s]\n",
"k_l=0.623;//[W/m.degree Celcius]\n",
"//Solution (a)\n",
"h_fg_m=h_fg+0.68*Cp_l*(Tsat-Ts);//[J/kg]\n",
"disp('J/kg',h_fg_m,'(a) The modified latent heat of vapourisation is')\n",
"h_hori_N=(0.729*(((g*(rho_l^2)*h_fg_m*(k_l^3))/(mu_l*D*(Tsat-Ts)))^(1/4)))*(1/(N^(1/4)));//[W/m^2.degree Celcius]\n",
"disp('W/m^2.degree Celcius',h_hori_N,'The heat transfer coefficient for condensation 12 horizontal tube is')\n",
"As=%pi*D*1*N_total;//[m^2]\n",
"Q=h_hori_N*As*(Tsat-Ts);//[W]\n",
"disp('W',Q,'The rate of heat transfer during condensation Process is')\n",
"//Solution (b)\n",
"m=Q/h_fg_m;//[kg/s]\n",
"disp('kg/s',m,'(b) The rate of condensation of steam is')"
   ]
   }
,
{
		   "cell_type": "markdown",
		   "metadata": {},
		   "source": [
			"## Example 10.8: ab128.sce"
		   ]
		  },
  {
"cell_type": "code",
	   "execution_count": null,
	   "metadata": {
	    "collapsed": true
	   },
	   "outputs": [],
"source": [
"clear;\n",
"clc;\n",
"\n",
"//Example10.8[Replacing a Heat Pipe by a Copper Rod]\n",
"//Given:-\n",
"L=0.3;//[m]\n",
"D=0.006;//[m]\n",
"Q=180;//[W]\n",
"del_T=3;//Temperature Difference [degree Celcius]\n",
"//Properties of copper at room temperature\n",
"rho=8933;//[kg/m^3]\n",
"k=401;//[W/m.degree Celcius]\n",
"//Solution:-\n",
"A=Q*L/(k*del_T);//[m^2]\n",
"d=sqrt(4*A/%pi);//[m]\n",
"disp('cm',ceil(100*d),'The diameter of the copper pipe is')\n",
"m=rho*A*L;//[kg]\n",
"disp('kg',round(m),'Mass of the copper rod is')"
   ]
   }
],
"metadata": {
		  "kernelspec": {
		   "display_name": "Scilab",
		   "language": "scilab",
		   "name": "scilab"
		  },
		  "language_info": {
		   "file_extension": ".sce",
		   "help_links": [
			{
			 "text": "MetaKernel Magics",
			 "url": "https://github.com/calysto/metakernel/blob/master/metakernel/magics/README.md"
			}
		   ],
		   "mimetype": "text/x-octave",
		   "name": "scilab",
		   "version": "0.7.1"
		  }
		 },
		 "nbformat": 4,
		 "nbformat_minor": 0
}
