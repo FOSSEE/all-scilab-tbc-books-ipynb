{
"cells": [
 {
		   "cell_type": "markdown",
	   "metadata": {},
	   "source": [
       "# Chapter 13: Radiation Heat Transfer"
	   ]
	},
{
		   "cell_type": "markdown",
		   "metadata": {},
		   "source": [
			"## Example 13.10: ab160.sce"
		   ]
		  },
  {
"cell_type": "code",
	   "execution_count": null,
	   "metadata": {
	    "collapsed": true
	   },
	   "outputs": [],
"source": [
"clear;\n",
"clc;\n",
"\n",
"//Example13.10[Heat Transfer through a Tubular Solar Collector]\n",
"k=0.02588;//[W/m.degree Celcius]\n",
"Pr1=0.7282,Pr2=0.7255;//Prandtl no\n",
"nu1=1.608*(10^(-5)),nu2=1.702*10^(-5);//[m^2/s]\n",
"T1=20,T2=40;//[degree Celcius]\n",
"Tavg=((T1+T2)/2)+273;//[K]\n",
"Do=0.1,L=1;//Dimensions of glass tube[m]\n",
"Di=0.05;//Inner diameter of tube[m]\n",
"Q_glass=30;//Rate of heat transfer from the outer surface of the glass cover[W]\n",
"g=9.81;//[m^2/s]\n",
"eo=0.9,ei=0.95;//Emissivity\n",
"//Solution:-\n",
"Ao=%pi*Do*L;//Heat transfer surface area of the glass cover[m^2]\n",
"disp(Ao,Tavg)\n",
"Ra_Do=g*Tavg*(T2-T1)*(Do^3)*Pr1/(nu1);\n",
"disp(Ra_Do,'The Rayleigh number is')\n",
"Nu=((0.6+((0.387*(Ra_Do^(1/6)))/((1+((0.559/Pr1)^(9/16)))^(8/27))))^2);\n",
"disp(Nu,'The nusselt number is')\n",
"ho=k*Nu/Do;//[W/m^2.degree Celcius]\n",
"Qo_conv=ho*Ao*(T2-T1);//[W]\n",
"Qo_rad=eo*5.67*10^(-8)*Ao*(((T2+273)^4)-((T1+273)^4));//[W]\n",
"Qo_total=Qo_conv+Qo_rad;//[W]\n",
"disp('W',Qo_total,'The total rate of heat loss from the glass cover \n",
"Lc=(Do-Di)/2;//The characteristic length\n",
"Ai=%pi*Di*L;//[m^2]\n",
"//Assuming \n",
"T_tube=54,T_cover=26;//Temperature of tube and glass cover[degree Celcius]\n",
"T_avg=((T_tube+T_cover)/2)+273;//[K]\n",
"Ra_L=g*T_avg*(T_tube-T_cover)*(Lc^3)*Pr2/(nu2);\n",
"disp(Ra_L,'The Rayleigh number in this case is')\n",
"F_cyl=((log(Do/Di))^4)/((Lc^3)*(((Di^(-3/5))+(Do^(-3/5)))^5));\n",
"k_eff=0.386*k*((Pr2/(0.861+Pr2))^(1/4))*((F_cyl*Ra_L)^(1/4));\n",
"disp('W/m.degree Celcius',k_eff,'The effective thermal conductivity is')\n",
"QL_conv=2*%pi*k_eff*(T_tube-T_cover)/(log(Do/Di));\n",
"disp('W',QL_conv,'The rate of heat transfer between the cylinders by convection is')\n",
"QL_rad=((5.67*10^(-8))*Ai*(((T_tube+273)^4)-((T_cover+273)^4)))/((1/ei)+(((1-eo)/eo)*(Di/Do)));\n",
"disp('W',QL_rad,'The radiation rate of heat transfer is')\n",
"QL_total=QL_conv+QL_rad;//[W]\n",
"disp('W',QL_total,'The total rate of heat loss from the glass cover is')"
   ]
   }
,
{
		   "cell_type": "markdown",
		   "metadata": {},
		   "source": [
			"## Example 13.11: ab161.sce"
		   ]
		  },
  {
"cell_type": "code",
	   "execution_count": null,
	   "metadata": {
	    "collapsed": true
	   },
	   "outputs": [],
"source": [
"clear;\n",
"clc;\n",
"\n",
"//Example13.11[Radiation Shields]\n",
"//given:-\n",
"e=0.1;//Emissivity of aluminium sheet\n",
"T1=800,T2=500;//Temperatures of two parallel plates[K]\n",
"e1=0.2,e2=0.7;//Emissivities of plates\n",
"//So9lution:-\n",
"q12=((5.67*10^(-8))*((T1^4)-(T2^4)))/((1/e1)+(1/e2)-1+(1/e)+(1/e)-1);//[W/m^2]\n",
"disp('W/m^2',round(q12),'Radiation Heat Transfer')"
   ]
   }
,
{
		   "cell_type": "markdown",
		   "metadata": {},
		   "source": [
			"## Example 13.12: ab162.sce"
		   ]
		  },
  {
"cell_type": "code",
	   "execution_count": null,
	   "metadata": {
	    "collapsed": true
	   },
	   "outputs": [],
"source": [
"clear;\n",
"clc;\n",
"\n",
"//Example13.12[Radiation Effect on Temperature Measurements]\n",
"//Given:-\n",
"Tw=400,Tth=650;//Temperature of duct wall and hota air flowing in it[K]\n",
"e=0.6;//emissivity\n",
"h=80;//Heat transfer coefficient[W/m^2.K]\n",
"//Solution:-\n",
"Tf=Tth+((e*5.67*10^(-8)*((Tth^4)-(Tw^4)))/h);//[K]\n",
"disp('K',round(Tf),'The temperature of actual air is')"
   ]
   }
,
{
		   "cell_type": "markdown",
		   "metadata": {},
		   "source": [
			"## Example 13.13: ab163.sce"
		   ]
		  },
  {
"cell_type": "code",
	   "execution_count": null,
	   "metadata": {
	    "collapsed": true
	   },
	   "outputs": [],
"source": [
"clear;\n",
"clc;\n",
"\n",
"//Example13.13[Effective Emissivity of Combustion Gases]\n",
"d=5,H=5;//Diameter and height of cylindrical furnace[m]\n",
"T=1200;//Temp of gases[K]\n",
"P=2;//Pressure[atm]\n",
"yN2=0.8,yH2O=0.08,yO2=0.07,yCO2=0.05;//Volumetric Composition\n",
"//Solution:-\n",
"Pc=yCO2*P;//[atm]\n",
"Pw=yH2O*P;//[atm]\n",
"disp('atm',Pw,'and','atm',Pc,'The partial pressures of CO2 and H2O are')\n",
"L=0.6*d;//[m]\n",
"x=Pc*L,y=Pw*L;//[m.atm]\n",
"ec_1=0.16,ew_1=0.23;//Emissivity of CO2 and H2O at 1 atm pressure\n",
"Cc=1.1,Cw=1.4;//Pressure Correction Factors are\n",
"del_e=0.048;//Emissivity correction factor at T=1200K\n",
"e_g=Cc*ec_1+Cw*ew_1-del_e;\n",
"disp(e_g,'The effectivity of the combustion gases is')"
   ]
   }
,
{
		   "cell_type": "markdown",
		   "metadata": {},
		   "source": [
			"## Example 13.14: ab164.sce"
		   ]
		  },
  {
"cell_type": "code",
	   "execution_count": null,
	   "metadata": {
	    "collapsed": true
	   },
	   "outputs": [],
"source": [
"clear;\n",
"clc;\n",
"\n",
"//Example13.14[Radiation Heat Transfer in a Cylindrical Furnace]\n",
"//Given:-\n",
"Ts=600;//Wall Temperature[K]\n",
"d=5,H=5;//Diameter and Height of cylindrical furnace\n",
"Tg=1200,eg=0.45;//Average gas temperature and average emissivity of the combustion gases\n",
"Pc=0.10,L=3,Pw=0.16;//From Previous examples\n",
"//Solution:-\n",
"x=Pc*L*Ts/Tg;//[m.atm]\n",
"y=Pw*L*Ts/Tg;//[m.atm]\n",
"ec_1=0.11,ew_1=0.25;//Emissivities of CO2 and H2O corresponding to 600K and 1atm \n",
"Cc=1.1,Cw=1.4;//Correction Factors\n",
"a_c=Cc*((Tg/Ts)^(0.65))*(ec_1);\n",
"a_w=Cw*((Tg/Ts)^(0.45))*ew_1;\n",
"disp(a_w,'and',a_c,'The absorptivities of CO2 and H2O are')\n",
"del_a=0.027;\n",
"a_g=a_c+a_w-del_a;\n",
"disp(a_g,'The absorptivity of the combustion gases is')\n",
"As=(%pi*d*H)+(%pi*(d^2)/2);//[m^2]\n",
"disp('m^2',round(As),'the surface area of the cylindrical surface is')\n",
"Q_net=round(As)*(5.67*10^(-8))*((eg*(Tg^4))-(a_g*(Ts^4)));\n",
"disp('W',Q_net,'The net rate of radiation heat transfer from the combustion gases to walls of the furnace is')"
   ]
   }
,
{
		   "cell_type": "markdown",
		   "metadata": {},
		   "source": [
			"## Example 13.15: ab165.sce"
		   ]
		  },
  {
"cell_type": "code",
	   "execution_count": null,
	   "metadata": {
	    "collapsed": true
	   },
	   "outputs": [],
"source": [
"clear;\n",
"clc;\n",
"\n",
"//Example13.15[Effect of Clothing on Thermal Comfort]\n",
"h_rad=4.7,h_conv=4.0;//The radiation and convection heat transfer coefficient[W/m^2.degree Celcius]\n",
"R_clo=0.6*0.155;//Thermal resistance of clothing[m^2.degree Celcius/W]\n",
"T_skin=33,T_amb=22;//Skin and Ambient temperature[degree Celcius]\n",
"As=1.8;//Surface area of an average man \n",
"//Solution:-\n",
"h_comb=h_conv+h_rad;//combined heat transfer coefficient[W/m^2.degree Celcius]\n",
"Q_sen_clo=As*(T_skin-T_amb)/(R_clo+(1/h_comb));//[W]\n",
"disp('W',Q_sen_clo,'The sensible heat loss from this person when clothed is')\n",
"//On removing the clothes\n",
"//R_clo=0 Clothing resistance on removing clothes\n",
"//Setting both heat transfer rates equal to determine new ambient air temperature\n",
"T_amb_new=T_skin-(Q_sen_clo*(1/h_comb)/As)//[degree Celcius]\n",
"disp('degree Celcius',T_amb_new,'The ambient temperature now is')"
   ]
   }
,
{
		   "cell_type": "markdown",
		   "metadata": {},
		   "source": [
			"## Example 13.1: ab151.sce"
		   ]
		  },
  {
"cell_type": "code",
	   "execution_count": null,
	   "metadata": {
	    "collapsed": true
	   },
	   "outputs": [],
"source": [
"clear;\n",
"clc;\n",
"\n",
"//Example13.1[View Factors Associated with two Concentric Spheres]\n",
"//Solution:-\n",
"//The outer surface of the smaller sphere and inner surface of the larger sphere form a two surface enclosure\n",
"N=2;\n",
"disp('View Factors',N^2,'This enclosure involves ')\n",
"x=(1/2)*N*(N-1);\n",
"disp('view factor directly',x,'W need to determine only')\n",
"F11=0;\n",
"F12=1;\n",
"disp('The Two view Factors')\n",
"disp(F11,'Since no radiation leaving surface 1 strikes itself..... F11=')\n",
"disp(F12,'Since all radiation leaving surface 1 strikes surface 2    F12=')\n",
"disp('F12= ((r1/r2)^2)')\n",
"disp('F22= 1-((r1/r2)^2)')\n",
"disp('where r1 and r2 are radius of surface 1 and surface 2')"
   ]
   }
,
{
		   "cell_type": "markdown",
		   "metadata": {},
		   "source": [
			"## Example 13.2: ab152.sce"
		   ]
		  },
  {
"cell_type": "code",
	   "execution_count": null,
	   "metadata": {
	    "collapsed": true
	   },
	   "outputs": [],
"source": [
"clear;\n",
"clc;\n",
"\n",
"//Example13.2[Fraction of Radiation Leaving through an Opening]\n",
"//Given:-\n",
"r1=0.1;//Radius of enclosure[m]\n",
"L=0.1;//Length of Enclosure[m]\n",
"r2=0.05,r3=0.08;//Inner and outer radii of the ring[m]\n",
"//Solution:-\n",
"//Using Chart in Fig 13.7\n",
"F12=0.11;\n",
"F13=0.28;\n",
"F1_ring=F13-F12;\n",
"disp(F1_ring,'The fraction of the radiation leaving the base cyllinder enclosure that escapes through coaxial ring opening at its top surface is')"
   ]
   }
,
{
		   "cell_type": "markdown",
		   "metadata": {},
		   "source": [
			"## Example 13.3: ab153.sce"
		   ]
		  },
  {
"cell_type": "code",
	   "execution_count": null,
	   "metadata": {
	    "collapsed": true
	   },
	   "outputs": [],
"source": [
"clear;\n",
"clc;\n",
"\n",
"//Example13.3[View Factors Associated with a Tetragon]\n",
"//Given:-\n",
"//A pyramid with square base and it's sides being isoceles triangle\n",
"//Solution:=\n",
"F11=0;//Since base is a flat surface\n",
"//F12=F13=F14=F15=x\n",
"x=(1-F11)/4;\n",
"disp('of total radiation',x,'Each side pf the four surfaces of the pyramid recieves')"
   ]
   }
,
{
		   "cell_type": "markdown",
		   "metadata": {},
		   "source": [
			"## Example 13.5: ab155.sce"
		   ]
		  },
  {
"cell_type": "code",
	   "execution_count": null,
	   "metadata": {
	    "collapsed": true
	   },
	   "outputs": [],
"source": [
"clear;\n",
"clc;\n",
"\n",
"//Example13.5[The Crossed-Strings Method for View Factors]\n",
"a=12,b=5;//With od long parallel plates[cm]\n",
"c=6;//Distance between the plates\n",
"L1=a,L2=b,L3=c;\n",
"L4=sqrt((7^2)+(6^2));\n",
"L5=sqrt((5^2)+(6^2));\n",
"L6=sqrt((12^2)+(6^2));\n",
"F12_1=((L5+L6)-(L3+L4))/(2*L1);\n",
"F13=(L1+L3-L6)/(2*L1);\n",
"F14=(L1+L4+L5)/(2*L1);\n",
"F12_2=1-F13-F14;\n",
"disp(F12_1,'Therefore from two different methods F12_1=F12_2=',F13,'F13=',F14,'F14=')"
   ]
   }
,
{
		   "cell_type": "markdown",
		   "metadata": {},
		   "source": [
			"## Example 13.6: ab156.sce"
		   ]
		  },
  {
"cell_type": "code",
	   "execution_count": null,
	   "metadata": {
	    "collapsed": true
	   },
	   "outputs": [],
"source": [
"clear;\n",
"clc;\n",
"\n",
"//Example13.6[Radiation Heat Transfer in a Black Furnace]\n",
"//Given:-\n",
"F12=0.2;\n",
"A=5*5;//Area of 1 surface of cube[m^2]\n",
"Tb=800,Tt=1500,Ts=500;//Temperature of base top and the side surfaces of the furbace[K]\n",
"//Solution:-\n",
"F11=0;\n",
"Q11=0;\n",
"F13=1-F11-F12;\n",
"Q13=A*F13*(5.67*10^(-8))*((Tb^4)-(Ts^4));//[kW]\n",
"disp('kW',round(Q13/1000),'The net rate of heat transfer from surface1 to surface3 is')\n",
"Q12=A*F12*(5.67*10^(-8))*((Tb^4)-(Tt^4));//[kW]\n",
"disp('kW',round(Q12/1000),'The net rate of radiation heat transfer from siurface1 to surface2 is')\n",
"Q1=Q11+Q12+Q13;//[kW]\n",
"disp('kW',round(Q1/1000),'Rhe net radiation heat transfer from the base surface is')"
   ]
   }
,
{
		   "cell_type": "markdown",
		   "metadata": {},
		   "source": [
			"## Example 13.7: ab157.sce"
		   ]
		  },
  {
"cell_type": "code",
	   "execution_count": null,
	   "metadata": {
	    "collapsed": true
	   },
	   "outputs": [],
"source": [
"clear;\n",
"clc;\n",
"\n",
"//Example13.7[Radiation Heat Transfer between Parallel Plates]\n",
"//Given:-\n",
"T1=800,T2=500;//Temp of parallel plates[K]\n",
"e1=0.2,e2=0.7;//Emissivities\n",
"//Solution:-\n",
"q12=(5.67*10^(-8))*((T1^4)-(T2^4))/((1/e1)+(1/e2)-1);\n",
"disp('is transferred from plate 1 to plate 2 by radiation per unit surface area of either plate','W',round(q12),'The net heat at the rate of')"
   ]
   }
,
{
		   "cell_type": "markdown",
		   "metadata": {},
		   "source": [
			"## Example 13.8: ab158.sce"
		   ]
		  },
  {
"cell_type": "code",
	   "execution_count": null,
	   "metadata": {
	    "collapsed": true
	   },
	   "outputs": [],
"source": [
"clear;\n",
"clc;\n",
"\n",
"//Example13.8[Radiation Heat Transfer in Cylindrical Furnace]\n",
"//Given:-\n",
"ro=1,H=1;//Radius amd height of cylinder[m]\n",
"e1=0.8,e2=0.4;//Emissivities\n",
"T1=700,T2=500;//Top and base temperatures of furnace[K]\n",
"T3=400;//Side durface temperature[K]\n",
"F11=0,F12=0.38;\n",
"//Solution:-\n",
"A1=%pi*(ro^2);//[m^2]\n",
"A2=A1;//[m^2]\n",
"A3=2*%pi*ro*H;//[m^2]\n",
"F13=1-F11-F12;\n",
"F21=F12;//Top and Bottom are symmetric\n",
"F31=F13*(A1/A3);\n",
"F23=F13;\n",
"F32=F31;\n",
"function[i]=rad(J)\n",
"    i(1)=J(1)+(((1-e1)/e1)*((F12*(J(1)-(J(2))))+(F13*((J(1))-(J(3))))))-((T1^4)*(5.67*10^(-8)));\n",
"    i(2)=J(2)+(((1-e2)/e2)*((F21*(J(2)-J(1)))+(F23*(J(2)-J(3)))))-((T2^4)*(5.67*10^(-8)));\n",
"    i(3)=J(3)-((T3^4)*(5.67*10^(-8)));\n",
"    deff('[i]=rad(J)',['i_1=J(1)+(((1-e1)/e1)*((F12*(J(1)-(J(2))))+(F13*((J(1))-(J(3))))))-((T1^4)*(5.67*10^(-8)))','i_2=J(2)+(((1-e2)/e2)*((F21*(J(2)-J(1)))+(F23*(J(2)-J(3)))))-((T2^4)*(5.67*10^(-8)))','i_3=J(3)-((T3^4)*(5.67*10^(-8)))'])\n",
"   disp(J(3),J(2),J(1))\n",
"   Q1=A1*((F12*(J(1)-J(2)))+(F13*(J(1)-J(3))));//[kW]\n",
"   Q2=A2*((F21*(J(2)-J(1)))+(F13*(J(2)-J(3))));//[kW]\n",
"   Q3=A3*((F31*(J(3)-J(1)))+(F32*(J(3)-J(2))));//[kW]\n",
"   disp('kW',Q3/1000,Q2/1000,Q1/1000,'The net rates of radiation heat transfer at the three surfaces are')\n",
"    "
   ]
   }
,
{
		   "cell_type": "markdown",
		   "metadata": {},
		   "source": [
			"## Example 13.9: ab159.sce"
		   ]
		  },
  {
"cell_type": "code",
	   "execution_count": null,
	   "metadata": {
	    "collapsed": true
	   },
	   "outputs": [],
"source": [
"clear;\n",
"clc;\n",
"\n",
"//Example13.9[Radiation Heat Transfer in a Triangular Furnace]\n",
"//Given:-\n",
"A1=1,A2=1,A3=1;//Area of each side[m^2]\n",
"T1=600,T2=1000;//[K]\n",
"e=0.7;\n",
"F12=0.5,F13=0.5,F23=0.5;//Symmetry\n",
"//Solution:-\n",
"Eb1=5.67*10^(-8)*(T1^4);//[W/m^2]\n",
"Eb2=5.67*10^(-8)*(T2^4);//[W/m^2]\n",
"Q=(Eb2-Eb1)/(((1-e)/(A1*e))+((((A1*F12)+(1/((1/(A1*F13))+(1/(A2*F23))))))^(-1)));//[kW]\n",
"disp('kW',round(Q/1000),'Heat at the rate of')\n",
"disp('must be supplied to the heated surface per unit lemgth of the duct to maintain steady operation in the furnace')"
   ]
   }
],
"metadata": {
		  "kernelspec": {
		   "display_name": "Scilab",
		   "language": "scilab",
		   "name": "scilab"
		  },
		  "language_info": {
		   "file_extension": ".sce",
		   "help_links": [
			{
			 "text": "MetaKernel Magics",
			 "url": "https://github.com/calysto/metakernel/blob/master/metakernel/magics/README.md"
			}
		   ],
		   "mimetype": "text/x-octave",
		   "name": "scilab",
		   "version": "0.7.1"
		  }
		 },
		 "nbformat": 4,
		 "nbformat_minor": 0
}
