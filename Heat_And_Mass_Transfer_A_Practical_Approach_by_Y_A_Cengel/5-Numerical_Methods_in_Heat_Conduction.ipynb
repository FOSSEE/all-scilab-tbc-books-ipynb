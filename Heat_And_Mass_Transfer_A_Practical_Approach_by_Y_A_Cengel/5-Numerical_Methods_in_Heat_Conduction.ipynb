{
"cells": [
 {
		   "cell_type": "markdown",
	   "metadata": {},
	   "source": [
       "# Chapter 5: Numerical Methods in Heat Conduction"
	   ]
	},
{
		   "cell_type": "markdown",
		   "metadata": {},
		   "source": [
			"## Example 5.1: ab71.sce"
		   ]
		  },
  {
"cell_type": "code",
	   "execution_count": null,
	   "metadata": {
	    "collapsed": true
	   },
	   "outputs": [],
"source": [
"clear;\n",
"clc;\n",
"\n",
"//Example5.1[Steady Heat Conduction in a Large Uranium Plate]\n",
"//Given:-\n",
"L=0.04;//Thickness of plate[m]\n",
"k=28;//Thermal conductivity[W/m.degree Celcius]\n",
"e_gen=5*(10^6);//Rate of heat generation per unit volume[W/m^3]\n",
"h=45;//Heat transfer coefficient[W/m^2]\n",
"T_ambient=30;//Ambient temperature[degree Celcius]\n",
"//Solutio:-\n",
"M=3;//No of nodes\n",
"//These nodes are chosen to be at the two surfaces of the plate and the mid point\n",
"del_x=L/(M-1);//Nodal Spacing[m]\n",
"//Let the nodes be 0,1 and 2. and temperatures at these nodes are\n",
"T0=0;//Temperature at node 0[degree Celcius]\n",
"//Finding temperatures at other two nodes using finite difference method\n",
"c1=e_gen*(del_x^2)/k;\n",
"c2=(-h*del_x*T_ambient/k)-(c1/2);\n",
"function[temp]=f1(T)\n",
"temp(1)=2*T(1)-T(2)-c1;\n",
"temp(2)=T(1)-1.032*T(2)-c2;\n",
"deff('[temp]=f1(T)',['temp_1=2*T(1)-T(2)-c1','temp_2=T(1)-1.032*T(2)-c2'])\n",
"//To find the solution assume an initial value x0=[a,b]\n",
"//then equate [xs,fxs,m]=fsolve(x0',f1)\n",
" "
   ]
   }
,
{
		   "cell_type": "markdown",
		   "metadata": {},
		   "source": [
			"## Example 5.2: ab72.sce"
		   ]
		  },
  {
"cell_type": "code",
	   "execution_count": null,
	   "metadata": {
	    "collapsed": true
	   },
	   "outputs": [],
"source": [
"clear;\n",
"clc;\n",
"\n",
"//Example5.2[Heat transfer from triangular fins]\n",
"//Given:-\n",
"k=180;//Thermal conductivity of aluminium alloy[W/m.degree Celcius]\n",
"L=0.05;//length of fin[m]\n",
"b=0.01;//Base thickness of fin[m]\n",
"T_surr=25;//Temperature of surrounding[degree Celcius\n",
"h=15;//heat transfer coefficient[W/m^2.degree Celcius]\n",
"M=6;//No of equally spaced nodes along the fin\n",
"//Solution (a)\n",
"del_x=L/(M-1);//Nodal Spacing[m]\n",
"T0=200;//Temperature at node 0[degree Celcius]\n",
"theta=atan(b/2*L);\n",
"//sigmaQ_all_sides=kA_left((T_(m-1)-T_m)/del_X)+((T_(m+1)-T_m)/del_x)+(hA_conv(T_surr-T_m))=0\n",
"//Simplifying above equation we get\n",
"disp('((5.5-m)T_(m-1))-((10.008-2m)Tm)+((4.5-m)T_m+1)=-0.29')\n",
"//Putting m=1,2,3,4 we get five equations in five unknowns \n",
"//Solving these five equations we get temperatures at node 1,2,3,4 and 5 respectively\n",
"function[node]=f5(T)\n",
"    node(1)=-8.008*T(1)+3.5*T(2)+0*T(3)+0*T(4)+0*T(5)+900.209;\n",
"    node(2)=3.5*T(1)-6.008*T(2)+2.5*T(3)+0*T(4)+0*T(5)+0.209;\n",
"    node(3)=0*T(1)+2.5*T(2)-4.008*T(3)+1.5*T(4)+0*T(5)+0.209;\n",
"    node(4)=0*T(1)+0*T(2)+1.5*T(3)-2.008*T(4)+0.5*T(5)+0.209;\n",
"    node(5)=0*T(1)+0*T(2)+0*T(3)+1*T(4)-1.008*T(5)+0.209;\n",
"    deff('[node]=f5(T)',['f_1=-8.008*T(1)+3.5*T(2)+0*T(3)+0*T(4)+0*T(5)+900.209','f_2=3.5*T(1)-6.008*T(2)+2.5*T(3)+0*T(4)+0*T(5)+0.209','f_3=0*T(1)+2.5*T(2)-4.008*T(3)+1.5*T(4)+0*T(5)+0.209','f_4=0*T(1)+0*T(2)+1.5*T(3)-2.008*T(4)+0.5*T(5)+0.209','f_5=0*T(1)+0*T(2)+0*T(3)+1*T(4)-1.008*T(5)+0.209'])\n",
"    //Solution(b)\n",
" T1=T(1),T2=T(2),T3=T(3),T4=T(4),T5=T(5);\n",
"    w=1;//width[m]\n",
"    Q_fin=(h*w*del_x/cos(theta))*[(T0+2*(T1+T2+T3+T4)+T5-10*T_surr)];//[W]\n",
"    disp('W',Q_fin,'The total rate of heat transfer from the fin is')\n",
"    //Solution(c)\n",
"    Q_max=(h*2*w*L/cos(theta)*(T0-T_surr));//[W]\n",
"neta=Q_fin/Q_max;\n",
"disp(neta,'Efficiency of the fin is')"
   ]
   }
,
{
		   "cell_type": "markdown",
		   "metadata": {},
		   "source": [
			"## Example 5.3: ab73.sce"
		   ]
		  },
  {
"cell_type": "code",
	   "execution_count": null,
	   "metadata": {
	    "collapsed": true
	   },
	   "outputs": [],
"source": [
"clear;\n",
"clc;\n",
"\n",
"//Example5.3[SteadLy Two-Dimensional Heat Conduction in L-Bars]\n",
"//Given:-\n",
"e_gen=2*(10^6);//Heat generated per unit volume[W/m^3]\n",
"k=15;//Thermal heat conductivity[W/m.degree Celcius]\n",
"T_ambient=25;//Temperature of ambient air[degree Celcius]\n",
"T_surface=90;//Temperature of the bottom surface[degree Celcius]\n",
"h=80//convection coefficient[W/m^2]\n",
"q_R=5000;//Heat flux to which right surface is subjected[W/m^2]\n",
"del_x=0.012,del_y=0.012;//Distance between equally spaced nodes[m]\n",
"//Solution:-\n",
"//After substituing values in equations of all nodal points finally we have nine equation and nine unknowns\n",
"function[temp]=f9(T)\n",
"    temp(1)=-2.064*T(1)+1*T(2)+0*T(3)+1*T(4)+0*T(5)+0*T(6)+0*T(7)+0*T(8)+0*T(9)+11.2;\n",
"    temp(2)=1*T(1)-4.128*T(2)+1*T(3)+0*T(4)+2*T(5)+0*T(6)+0*T(7)+0*T(8)+0*T(9)+22.4;\n",
"    temp(3)=0*T(1)+1*T(2)-2.128*T(3)+0*T(4)+0*T(5)+1*T(6)+0*T(7)+0*T(8)+0*T(9)+12.8;\n",
"    temp(4)=1*T(1)+0*T(2)+0*T(3)-4*T(4)+2*T(5)+109.2;\n",
"    temp(5)=0*T(1)+1*T(2)+0*T(3)+1*T(4)-4*T(5)+1*T(6)+0*T(7)+0*T(8)+0*T(9)+109.2;\n",
"    temp(6)=0*T(1)+0*T(2)+1*T(3)+0*T(4)+2*T(5)-6.128*T(6)+1*T(7)+0*T(8)+0*T(9)+212.0;\n",
"    temp(7)=0*T(1)+0*T(2)+0*T(3)+0*T(4)+0*T(5)+1*T(6)-4.128*T(7)+1*T(8)+0*T(9)+202.4;\n",
"    temp(8)=0*T(1)+0*T(2)+0*T(3)+0*T(4)+0*T(5)+0*T(6)+1*T(7)-4.128*T(8)+T(9)+202.4;\n",
"    temp(9)=0*T(1)+0*T(2)+0*T(3)+0*T(4)+0*T(5)+0*T(6)+0*T(7)+1*T(8)-2.064*T(9)+105.2;\n",
"    deff('[temp]=f9(T)',['f_1= -2.064*T(1)+1*T(2)+0*T(3)+1*T(4)+0*T(5)+0*T(6)+0*T(7)+0*T(8)+0*T(9)+11.2','f_2=1*T(1)-4.128*T(2)+T(3)+0*T(4)+2*T(5)+0*T(6)+0*T(7)+0*T(8)+0*T(9)+22.4','f_3=0*T(1)+T(2)-2.128*T(3)+0*T(4)+0*T(5)+T(6)+0*T(7)+0*T(8)+0*T(9)+12.8','f_4=T(1)+0*T(2)+0*T(3)-4*T(4)+2*T(5)+109.2','f_5=0*T(1)+T(2)+0*T(3)+T(4)-4*T(5)+T(6)+0*T(7)+0*T(8)+0*T(9)+109.2','f_6=0*T(1)+0*T(2)+T(3)+0*T(4)+2*T(5)-6.128*T(6)+T(7)+0*T(8)+0*T(9)+212.0','f_7=0*T(1)+0*T(2)+0*T(3)+0*T(4)+0*T(5)+T(6)-4.128*T(7)+T(8)+0*T(9)+202.4','f_8=0*T(1)+0*T(2)+0*T(3)+0*T(4)+0*T(5)+0*T(6)+T(7)-4.128*T(8)+T(9)+202.4','f_9=0*T(1)+0*T(2)+0*T(3)+0*T(4)+0*T(5)+0*T(6)+0*T(7)+T(8)-2.064*T(9)+105.2'])"
   ]
   }
,
{
		   "cell_type": "markdown",
		   "metadata": {},
		   "source": [
			"## Example 5.4: ab74.sce"
		   ]
		  },
  {
"cell_type": "code",
	   "execution_count": null,
	   "metadata": {
	    "collapsed": true
	   },
	   "outputs": [],
"source": [
"clear;\n",
"clc;\n",
"\n",
"//Example5.4[Heat Loss through Chimneys]\n",
"//Given:-\n",
"k=1.4;//Thermal conductivity of concrete[W/m.degree Celcius]\n",
"A=0.2*0.2;//Area of flow section[m^2]\n",
"t=0.2;//Thickness of the wall[m]\n",
"Ti=300+273;//Average temperature of gases[K]\n",
"hi=70;//Convection heat transfer coefficient inside the chimney[W/m^2]\n",
"ho=21;//Convection heat transfer coefficient outside the chimney[W/m^2]\n",
"To=20+273;//Temperature od outer air[Kelvin]\n",
"e=0.9;//Emissivity\n",
"delx=0.1,dely=0.1;//Nodal spacing [m]\n",
"//Solution:-\n",
"//Substituing values in all nodal equations and and solving these equations we get temperature at all nodes\n",
"function[temp]=fu9(T)\n",
"    temp(1)=7*T(1)-T(2)-T(3)-2865;\n",
"    temp(2)=-T(1)+8*T(2)-2*T(4)-2865;\n",
"    temp(3)=-T(1)+4*T(3)-2*T(4)-T(6);\n",
"    temp(4)=-T(2)-T(3)+4*T(4)-T(5)-T(7);\n",
"    temp(5)=-2*T(4)+4*T(5)-2*T(8);\n",
"    temp(6)=-T(2)-T(3)+3.5*T(6)+(0.3645*(10^(-9))*(T(6)^4))-456.2;\n",
"    temp(7)=-2*T(4)-T(6)+7*T(7)+(0.729*(10^(-9))*(T(7)^4))-T(8)-912.4;\n",
"    temp(8)=-2*T(5)-T(7)+7*T(8)+(0.729*(10^(-9))*(T(8)^4))-912.4;\n",
"    temp(9)=-T(8)+2.5*T(9)+(0.3645*(10^(-9))*(T(9)^4))-456.2;\n",
"    deff('[temp]=fu9(T)',['f_1=7*T(1)-T(2)-T(3)-2865','f_2=-T(1)+8*T(2)-2*T(4)-2865','f_3=-T(1)+4*T(3)-2*T(4)-T(6)','f_4=-T(2)-T(3)+4*T(4)-T(5)-T(7)','f_5=-2*T(4)+4*T(5)-2*T(8)','f_6=-T(2)-T(3)+3.5*T(6)+(0.3645*(10^(-9))*(T(6)^4))-456.2','f_7=-2*T(4)-T(6)+7*T(7)+(0.729*(10^(-9))*(T(7)^4))-T(8)-912.4','f_8=-2*T(5)-T(7)+7*T(8)+(0.729*(10^(-9))*(T(8)^4))-912.4','f_9=-T(8)+2.5*T(9)+(0.3645*(10^(-9))*(T(9)^4))-456.2'])\n",
"T1=T(1),T2=T(2),T3=T(3),T4=T(4),T5=T(5),T6=T(6),T7=T(7),T8=T(8),T9=T(9);\n",
"T_wall=(0.5*T6+T7+T8+0.5*T9)/(0.5+1+1+0.5);\n",
"disp('Kelvin',T_wall,'The average temperature at the outer surface of the chimney weighed by the surface area is')\n",
"Q_chimney=(ho*4*0.6*1*(T_wall-To))+(e*5.67*(10^-8)*0.6*1*((T_wall^4)-((260^4))));//[W]\n",
"disp('W',Q_chimney,'The heat transfer is')"
   ]
   }
,
{
		   "cell_type": "markdown",
		   "metadata": {},
		   "source": [
			"## Example 5.5: ab75.sce"
		   ]
		  },
  {
"cell_type": "code",
	   "execution_count": null,
	   "metadata": {
	    "collapsed": true
	   },
	   "outputs": [],
"source": [
"clear;\n",
"clc;\n",
"\n",
"//Example5.5[Transient Heat Conduction in a Large Uranium Plate]\n",
"//Given:-\n",
"k=28;//[W/m.degree Celcius]\n",
"a=12.5*10^(-6);//Thermal diffusivity[m^2/s]\n",
"T1_0=200,T2_0=200;//Initial Temperature[degree Celcius]\n",
"e_gen=5*10^6;//Heat generated per unit volume[W/m^3]\n",
"h=45;//heat transfer coefficient[W/m^2.degree Celcius]\n",
"T0=0;//Temperature at node 0[degree Celcius]\n",
"L=0.04;//[m]\n",
"M=3;//No of nodes\n",
"t=15;//[seconds]\n",
"//Solution (a):-\n",
"delx=L/(M-1);//[m]\n",
"//The nodes are 0,1 and 2\n",
"tau=(a*t)/(delx^2);//Fourier no\n",
"//Substituing this value of tau in nodal equations\n",
"//The nodal temperatures T1_1 and T2_1 at t=15sec\n",
"T1_1=0.0625*T1_0+0.46875*T2_0+33.482;//[degree Celcius]\n",
"T2_1=0.9375*T1_0+0.032366*T2_0+34.386;//[degree Celcius]\n",
"//Similarly the nodal themperatures T1_2,T2_2 at t1=2*t=30sec are\n",
"T1_2=0.0625*T1_1+0.46875*T2_1+33.482;//[degree Celcius]\n",
"T2_2=0.9375*T1_1+0.032366*T2_1+34.386;//[degree Celcius]\n",
"disp('degree Celcius',T2_2,T1_2,'and',T2_1,T1_1,'Temperatures at node 1 and 2 are respectively')"
   ]
   }
,
{
		   "cell_type": "markdown",
		   "metadata": {},
		   "source": [
			"## Example 5.6: ab76.sce"
		   ]
		  },
  {
"cell_type": "code",
	   "execution_count": null,
	   "metadata": {
	    "collapsed": true
	   },
	   "outputs": [],
"source": [
"clear;\n",
"clc;\n",
"\n",
"//Example5.6[Solar Energy Storage in Trombe Walls]\n",
"//Given:-\n",
"hin=10;//[W/m^2]\n",
"A=3*75;//[m^2]\n",
"Tin=21;//[degree Celcius]\n",
"k=0.69;//[W/m.degree Celcius]\n",
"a=4.44*10^(-7);//diffusivity[m^2/s]\n",
"kappa=0.77;\n",
"delx=0.06;//The nodal spacing[m]\n",
"L=0.3;//Length of wall[m]\n",
"Tout=0.6,q_solar=360;//Ambient temperature in degree Celcius and Solar Radiation between 7am to 10 am\n",
"//Solution:-\n",
"M=(L/delx)+1;\n",
"disp(M,'No of nodes are')\n",
"//Stability Criterion\n",
"del_t=(delx^2)/(3.74*a);//[seconds]\n",
"disp('s',del_t,'The maximum allowable value of the time step is')\n",
"//Therefore any step less than del_t can be used to solve this problem,for convinience let's choose \n",
"delt=900;//[seconds]\n",
"tao=a*delt/(delx^2);\n",
"disp(tao,'The mesh Fourier number is')\n",
"//Initially at 7am or t=0,the temperature of the wall is said to vary linearly between 21 degree Celcius at node 0 and -1 at node 5\n",
"//Temp between two neighbouring nodes is\n",
"temp=(21-(-1))/5;//[degree Celcius]\n",
"T0_0=Tin;\n",
"T1_0=T0_0-temp;\n",
"T2_0=T1_0-temp;\n",
"T3_0=T2_0-temp;\n",
"T4_0=T3_0-temp;\n",
"T5_0=T4_0-temp;\n",
"T0_1=((1-3.74*tao)*T0_0)+(tao*(2*T1_0+36.5));\n",
"T1_1=(tao*(T0_0+T2_0))+(T1_0*(1-(2*tao)));\n",
"T2_1=(tao*(T1_0+T3_0))+(T2_0*(1-(2*tao)));\n",
"T3_1=(tao*(T2_0+T4_0))+(T3_0*(1-(2*tao)));\n",
"T4_1=(tao*(T3_0+T5_0))+(T4_0*(1-(2*tao)));\n",
"T5_1=(T5_0*(1-(2.70*tao)))+(tao*((2*T4_0)+(0.70*Tout)+(0.134*q_solar)));\n",
"disp('Nodal temperatures at 7:15am are')\n",
"disp('degree Celcius',T0_1,'Node0:')\n",
"disp('degree Celcius',T1_1,'Node1:')\n",
"disp('degree Celcius',T2_1,'Node2:')\n",
"disp('degree Celcius',T3_1,'Node3:')\n",
"disp('degree Celcius',T4_1,'Node4:')\n",
"disp('degree Celcius',T5_1,'Node5:')\n",
"Q_wall=hin*A*delt*(((round(T0_1)+T0_0)/2)-Tin);//[J]\n",
"disp('J',Q_wall,'The amount of heat transfer during the first time step or during the first 15 min period is')\n",
"//Similarly using values from the table given we can find temperature at various nodes after required time interval"
   ]
   }
],
"metadata": {
		  "kernelspec": {
		   "display_name": "Scilab",
		   "language": "scilab",
		   "name": "scilab"
		  },
		  "language_info": {
		   "file_extension": ".sce",
		   "help_links": [
			{
			 "text": "MetaKernel Magics",
			 "url": "https://github.com/calysto/metakernel/blob/master/metakernel/magics/README.md"
			}
		   ],
		   "mimetype": "text/x-octave",
		   "name": "scilab",
		   "version": "0.7.1"
		  }
		 },
		 "nbformat": 4,
		 "nbformat_minor": 0
}
