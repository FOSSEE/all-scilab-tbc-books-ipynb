{
"cells": [
 {
		   "cell_type": "markdown",
	   "metadata": {},
	   "source": [
       "# Chapter 8: Internal Forced Convection"
	   ]
	},
{
		   "cell_type": "markdown",
		   "metadata": {},
		   "source": [
			"## Example 8.1: ab101.sce"
		   ]
		  },
  {
"cell_type": "code",
	   "execution_count": null,
	   "metadata": {
	    "collapsed": true
	   },
	   "outputs": [],
"source": [
"clear;\n",
"clc;\n",
"\n",
"//Example8.1[Heating of water in a tube by Steam]\n",
"//Given:-\n",
"id=0.025;//Internal diameter[m]\n",
"Tin=15;//Initial temp[degree Celcius]\n",
"m_=0.3;//Flow rate[kg/s]\n",
"h=800/1000;//avg heat transfer coefficient[W/m^2.degree Celcius]\n",
"Tf=115;//Final temp of water[degree Celcius]\n",
"Ts=120;//[degree Celcius]\n",
"Hs=2203;//Heat of condensation of steam at 120 degree Celcius[kJ/kg]\n",
"Tavg=(Tin+Tf)/2;//[degree Celcius]\n",
"Cp=4187;//Sp Heat of water at Tavg[J/kg.degree Celcius]\n",
"//Solution:-\n",
"Q_=m_*Cp*(Tf-Tin)/1000;//[kW]\n",
"disp('kW',Q_,'The rate of heat transfer is')\n",
"del_Tf=Ts-Tf;//[degree Celcius]\n",
"del_Tin=Ts-Tin;//[degree Celcius]\n",
"ln_del_T=(del_Tf-del_Tin)/(log(del_Tf/del_Tin));//[degree Celcius]\n",
"disp('degree Celcius',ln_del_T,'Logrithmic Mean temperature difference is')\n",
"A=Q_/(h*ln_del_T);//[m^2]\n",
"disp('m^2',A,'Heat Transfer surface area is')\n",
"l=A/(%pi*id);//[m]\n",
"disp('m',round(l),'Required tube length is')"
   ]
   }
,
{
		   "cell_type": "markdown",
		   "metadata": {},
		   "source": [
			"## Example 8.2: ab102.sce"
		   ]
		  },
  {
"cell_type": "code",
	   "execution_count": null,
	   "metadata": {
	    "collapsed": true
	   },
	   "outputs": [],
"source": [
"clear;\n",
"clc;\n",
"\n",
"//Example8.2[Pressure Drop in a tube]\n",
"//Given:-\n",
"Tw=5;//Temperature of water[degree Celcius]\n",
"//Properties of water at Tw\n",
"rho=999.9;//[kg/m^3]\n",
"mu=1.519*10^(-3);//Viscosity[kg/m.s]\n",
"d=0.003;//diameter[m]\n",
"l=10;//length[m]\n",
"v_avg=0.9;//Average flow velocity[m/s]\n",
"//Solution:-\n",
"Re=(rho*v_avg*d)/mu;\n",
"disp(Re,'The reynolds number is ')\n",
"f=64/ceil(Re);\n",
"disp(f,'Friction factor is')\n",
"del_P=f*l*rho*(v_avg^2)/(2*d);//[N/m^2]\n",
"disp('kPa',del_P/1000,'The Pressure drop is ')\n",
"V=v_avg*(%pi*(d^2))/4;//[m^3/s]\n",
"disp('m^3/s',V,'Volumetric flow rate is')\n",
"W_pump=V*del_P;//[W]\n",
"disp('W',W_pump,'Mechanical Power Input of')\n",
"disp('is needed to overcome the frictional losses in the flow due to viscosity')"
   ]
   }
,
{
		   "cell_type": "markdown",
		   "metadata": {},
		   "source": [
			"## Example 8.3: ab103.sce"
		   ]
		  },
  {
"cell_type": "code",
	   "execution_count": null,
	   "metadata": {
	    "collapsed": true
	   },
	   "outputs": [],
"source": [
"clear;\n",
"clc;\n",
"\n",
"//Example8.3[Flow of Oil in a Pipeline through a Lake]\n",
"//Given:-\n",
"Ts=0;//Temp of lake[degree Celcius]\n",
"Ti=20;//Temp of oil[degree Celcius]\n",
"d=0.3;//Diameter[m]\n",
"l=200;//length of pipe[m]\n",
"//At 20 degree Celcius\n",
"rho=888.1;//[kg/m^3]\n",
"nu=9.429*10^(-4);//Kinematic viscosity[m^2/s]\n",
"k=0.145;//[W/m.degree Celcius]\n",
"Cp=1880;//[J/kg.degree Celcius]\n",
"Pr=10863;//Prandtl Number\n",
"v_avg=2;//[m/s]\n",
"//Solution(a)\n",
"Re=v_avg*d/nu;\n",
"disp(ceil(Re),'The Reynolds number is')\n",
"Lt=0.05*Re*Pr*d;//[m]\n",
"disp('m',Lt,'The thermal entry length is')\n",
"Nu=3.66+((0.065*(d/l)*Re*Pr)/(1+(0.04*(((d/l)*Re*Pr)^(2/3)))));\n",
"h=(k*Nu)/d;//[W/m^2.degree Celcius]\n",
"As=%pi*d*l;//[m^2]\n",
"m_=rho*%pi*((d/2)^2)*v_avg;//[kg/s]\n",
"Te=Ts-((Ts-Ti)*exp((-h*As)/(m_*Cp)));//[degree Celcius]\n",
"disp('degree Celcius',Te,'Exit temperature of oil is')\n",
"//Solution(b):-\n",
"ln_del_T=(Ti-Te)/(log((Ts-Te)/(Ts-Ti)));//[degree Celcius]\n",
"disp('degree Celcius',ln_del_T,'The logrithmic mean temperature difference is')\n",
"Q=h*As*ln_del_T;//[W]\n",
"disp('W',Q,'The rate of heat loss from the oil are')\n",
"//Solution(c)\n",
"f=64/Re;//Friction factor is\n",
"del_P=l*rho*(v_avg^2)/(2*d);//[N/m^2]\n",
"disp(del_P);\n",
"W_pump=m_*del_P/rho;//[kW]\n",
"disp('pump just to overcome the friction in the pipe as the oil flows','kW',W_pump/1000,'We need a')"
   ]
   }
,
{
		   "cell_type": "markdown",
		   "metadata": {},
		   "source": [
			"## Example 8.4: ab104.sce"
		   ]
		  },
  {
"cell_type": "code",
	   "execution_count": null,
	   "metadata": {
	    "collapsed": true
	   },
	   "outputs": [],
"source": [
"clear;\n",
"clc;\n",
"\n",
"//Example8.4[Pressure Drop in a Water tube]\n",
"Tw=15;//temp of water while entering[degree Celcius]\n",
"rho=999.1;//[kg/m^3]\n",
"mu=1.138*10^(-3);//Viscosity[kg/m.s]\n",
"id=0.05;//Internal diameter[m]\n",
"V=5.5*10^(-3);//Flow rate[m^3/s]\n",
"l=60;//length of tube[m]\n",
"e=0.002*10^(-3);//[m]\n",
"//Solution:-\n",
"v=V/(%pi*(id^2)*(1/4));//Mean Velocity[m/s]\n",
"Re=rho*v*id/mu;\n",
"disp(Re,'Reynolds Number is')\n",
"//Flow is turbulent\n",
"r=e/id;//Relative roughness of the tube\n",
"function[Func]=fric(fac)\n",
"    Func(1)=(1/(fac(1)^(1/2)))+(2*log((0.00004/3.7)+(2.51/(122900*fac(1)^(1/2)))));\n",
"    deff('[Func]=fric(fac)',['fric_1=(1/(fac(1)^(1/2)))+(2*log((0.00004/3.7)+(2.51/(122900*fac(1)^(1/2)))))'])\n",
"endfunction\n",
"disp(xs,'Friction Factor is')\n",
"del_P=xs*l*rho*(v^2)/(2*id);//[kPa]\n",
"disp('Pa',del_P,'The pressure drop is')\n",
"W_pump=V*del_P;//[W]\n",
"disp('W',W_pump,'The required poer input tp overcome the frictional losses in the tube is')"
   ]
   }
,
{
		   "cell_type": "markdown",
		   "metadata": {},
		   "source": [
			"## Example 8.5: ab105.sce"
		   ]
		  },
  {
"cell_type": "code",
	   "execution_count": null,
	   "metadata": {
	    "collapsed": true
	   },
	   "outputs": [],
"source": [
"clear;\n",
"clc;\n",
"\n",
"//Example8.5[Heating of water by Resistance Heaters in a tube]\n",
"Ti=15;//Initial Temp[degree Celcius]\n",
"Tf=65;//Final Temp[degree Celcius]\n",
"d=0.03;//Internal diameter[m]\n",
"l=5;//length[m]\n",
"V=10*10^(-3);//flow rate of water[m^3/s]\n",
"Tavg=(Ti+Tf)/2;//[degree Celcius]\n",
"//Properties of water at Tavg\n",
"rho=992.1;//[kg/m^3]\n",
"Cp=4170;//[J/kg.degree Celcius]\n",
"k=0.631;//[W/m.degree Celcius]\n",
"nu=0.658*10^(-6);//[m^2/s]\n",
"Pr=4.32;//Prandtl Number\n",
"//Solution:-\n",
"Ac=%pi*(d^2)*(1/4);//[m^2]\n",
"As=%pi*d*l;//[m^2]\n",
"m_=rho*V*(1/60);//[kg/s]\n",
"Q_=m_*Cp*(Tf-Ti)/1000;//[kW]\n",
"disp('kW',Q_,'The power rating of the heater is')\n",
"qs=Q_/As;//[kW/m^2]\n",
"disp('kW/m^2',qs,'Heat flux is')\n",
"v_avg=V/(Ac*60);//[m/s]\n",
"Re=v_avg*d/nu;//[Reynolds Number]\n",
"Lt=10*d;//Entry length [m]\n",
"Nu=0.023*(Re^(0.8))*(Pr^(0.4));\n",
"disp(Nu,'The nussel number is')\n",
"h=k*Nu/d;//[W/m^2]\n",
"Ts=Tf+(qs*1000/h);//[degree Celcius]\n",
"disp('degree Celcius',round(Ts),'The surface temperature of the pipe at the exit becomes')"
   ]
   }
,
{
		   "cell_type": "markdown",
		   "metadata": {},
		   "source": [
			"## Example 8.6: ab106.sce"
		   ]
		  },
  {
"cell_type": "code",
	   "execution_count": null,
	   "metadata": {
	    "collapsed": true
	   },
	   "outputs": [],
"source": [
"clear;\n",
"clc;\n",
"\n",
"//Example8.6[Heat Loss from the ducts of a Heating System]\n",
"Ti=80;//Inlet temp[degree Celcius]\n",
"A=0.2*0.2;//Area of cross section[m^2]\n",
"l=8;//Length of tube[m]\n",
"V=0.15;//[m^3/s]\n",
"Td=60;//Temperature of duct[degree Celcius]\n",
"//Properties of air at inlet conditions\n",
"rho=0.9994;//[kg/m^3]\n",
"Cp=1008;//[J/kg.degree Celcius]\n",
"k=0.02953;//[W/m.degree Celcius]\n",
"nu=2.097*10^(-5);//[m^2/s]\n",
"Pr=0.7154;//Prandtl number\n",
"//Solution:-\n",
"Dh=4*A/(4*0.2);//Hydraulic Diameter[m]\n",
"v_avg=V/A;//[m/s]\n",
"Re=v_avg*Dh/nu;\n",
"disp(Re,'Reynolds number is')\n",
"Lt=10*Dh;//Entry length\n",
"Nu=0.023*(Re^(0.8))*(Pr^(0.3));\n",
"h=Nu*k/Dh;//[W/m^2.degree Celcius]\n",
"As=4*0.2*l;//[m^2]\n",
"m_=rho*V;//[kg/s]\n",
"Te=Td-((Td-Ti)*exp((-h*As)/(m_*Cp)));//[degree Celcius]\n",
"disp('degree Celcius',Te,'The exit temperature of air is')\n",
"ln_delT=(Ti-Te)/(log((Td-Te)/(Td-Ti)));//[degree Celcius]\n",
"Q=h*As*ln_delT;//[W]\n",
"disp('respectively','W',round(Q),'and','degree Celcius',ln_delT,'The logrithmic mean temperature difference and the rate of heat loss from the air are')"
   ]
   }
,
{
		   "cell_type": "markdown",
		   "metadata": {},
		   "source": [
			"## Example 8.7: ab107.sce"
		   ]
		  },
  {
"cell_type": "code",
	   "execution_count": null,
	   "metadata": {
	    "collapsed": true
	   },
	   "outputs": [],
"source": [
"clear;\n",
"clc;\n",
"\n",
"//Example8.7[Non-isothermal fully developed Friction in the Transition Region]\n",
"//Given:-\n",
"q=8;//Wall heat flux[kW/m^2]\n",
"xm=0.34;//Mass fraction\n",
"d=0.0158;//Inside diameter[m]\n",
"V=1.32*10^(-4);//Flow rate[m^3/s]\n",
"Pr=11.6;//Prandtl Number\n",
"nu=1.39*10^(-6);//[m^2/s]\n",
"p=1.14;//(mu_b/mu_s)i.e. ratio of viscosities of two substances\n",
"Gr=60800;//Grashof number\n",
"//Solution:-\n",
"Ac=%pi*(d^2)*(1/4);//[m^2]\n",
"Re=(V/Ac)*d/nu;\n",
"disp(Re,'Reynolds number is')\n",
"//For bell mouth inlet shape\n",
"Cf1=((1+((round(Re)/5340)^(-0.099)))^(-6.32))*(p^(-2.58-0.42*(60.800^(-0.41))*(11.6^0.265)));\n",
"disp(Cf1,'For bell mouth inlet friction coefficient is')\n",
"//For square edged inlet Case\n",
"Cf2=(0.0791/(Re^(0.25)))*(p^(-0.25));\n",
"disp(Cf2,'For square edged inlet case coefficient of friction is')"
   ]
   }
,
{
		   "cell_type": "markdown",
		   "metadata": {},
		   "source": [
			"## Example 8.8: ab108.sce"
		   ]
		  },
  {
"cell_type": "code",
	   "execution_count": null,
	   "metadata": {
	    "collapsed": true
	   },
	   "outputs": [],
"source": [
"clear;\n",
"clc;\n",
"\n",
"//Example8.8[Heat transfer in the Transition Region]\n",
"//Given:-\n",
"xm=0.6;//mass fraction of glycol\n",
"V=2.6*10^(-4);//Flow rate[m^3/s]\n",
"d=0.0158;//inside diameter[m]\n",
"Gr=51770;//grashof number\n",
"Pr=29.2;//Prandtl number\n",
"nu=3.12*10^(-6);//[m^2/s]\n",
"p=1.77;//mu_t/mu_s\n",
"q=90;//A particular loctaion x with x/d=q\n",
"//Solution:-\n",
"Ac=%pi*(d^2)/4;\n",
"Re=(V/Ac)*d/nu;\n",
"disp(Re,'Reynolds Number is')\n",
"//Value of Re lies in transition Region\n",
"Nu_lam=1.24*(((Re*Pr/q)+(0.025*((Gr*Pr)^(0.75))))^(1/3))*(p^(0.14));\n",
"Nu_tur=0.023*(Re^(0.8))*(Pr^0.385)*(q^(-0.0054))*(p^(0.14));\n",
"//(a)\n",
"Nu_tran_a=Nu_lam+((exp((1766-Re)/276)+(Nu_tur^(-0.955)))^(-0.955));\n",
"disp(Nu_tran_a,'(a) Nusselt number for re-entrant inlet is')\n",
"Nu_tran_b=Nu_lam+((exp((2617-Re)/207)+(Nu_tur^(-0.950)))^(-0.950));\n",
"disp(Nu_tran_b,'(b) Nusselt number for square edged inlet is')\n",
"Nu_tran_c=Nu_lam+((exp((6628-Re)/237)+(Nu_tur^(-0.980)))^(-0.980));\n",
"disp(Nu_tran_c,'(c) Nusselt number for bell mouth inlet is')"
   ]
   }
],
"metadata": {
		  "kernelspec": {
		   "display_name": "Scilab",
		   "language": "scilab",
		   "name": "scilab"
		  },
		  "language_info": {
		   "file_extension": ".sce",
		   "help_links": [
			{
			 "text": "MetaKernel Magics",
			 "url": "https://github.com/calysto/metakernel/blob/master/metakernel/magics/README.md"
			}
		   ],
		   "mimetype": "text/x-octave",
		   "name": "scilab",
		   "version": "0.7.1"
		  }
		 },
		 "nbformat": 4,
		 "nbformat_minor": 0
}
