{
"cells": [
 {
		   "cell_type": "markdown",
	   "metadata": {},
	   "source": [
       "# Chapter 3: steady Heat Conduction"
	   ]
	},
{
		   "cell_type": "markdown",
		   "metadata": {},
		   "source": [
			"## Example 3.10: ab50.sce"
		   ]
		  },
  {
"cell_type": "code",
	   "execution_count": null,
	   "metadata": {
	    "collapsed": true
	   },
	   "outputs": [],
"source": [
"clear;\n",
"clc;\n",
"\n",
"//Example3.10[Maximum Power dissipation of a Transistor]\n",
"//Given:-\n",
"T_ambient=25;//Ambient temperature[degree Celcius]\n",
"T_case=85;//Maximum temperature of the case[degree Celcius]\n",
"R_case_ambient=20;//Resistance for convection b/w case and ambient [degree Celcius/W]\n",
"//Solution:-\n",
"Q_=(T_case-T_ambient)/R_case_ambient;//[W]\n",
"disp('W',Q_,'The given power transistor should not be operated at power levels above')\n",
"disp('if is its case temperature is not to exceed 85 degree Celcius')"
   ]
   }
,
{
		   "cell_type": "markdown",
		   "metadata": {},
		   "source": [
			"## Example 3.11: ab51.sce"
		   ]
		  },
  {
"cell_type": "code",
	   "execution_count": null,
	   "metadata": {
	    "collapsed": true
	   },
	   "outputs": [],
"source": [
"clear;\n",
"clc;\n",
"\n",
"//Example3.11[Selecting a Heat Sink for a Transistor]\n",
"//Given:-\n",
"Q_=60;//Rate of heat transfer from given transistor at at full power[W]\n",
"T_ambient=30;//Temperature of ambient air[degree Celcius]\n",
"T_case=90;//Maximum temperature of case[degree Celcius]\n",
"//Solution:-\n",
"R_sink=(T_case-T_ambient)/Q_;//[degree Celcius/W]\n",
"disp('degree Celcius/W',R_sink,'The thermal resistance b/w the transistor attached to the heat sink and the ambient air for the specified temperature difference is ')"
   ]
   }
,
{
		   "cell_type": "markdown",
		   "metadata": {},
		   "source": [
			"## Example 3.12: ab52.sce"
		   ]
		  },
  {
"cell_type": "code",
	   "execution_count": null,
	   "metadata": {
	    "collapsed": true
	   },
	   "outputs": [],
"source": [
"clear;\n",
"clc;\n",
"\n",
"//Example3.12[Effect of fins on Heat transfer from steam pipes]\n",
"//Given:-\n",
"k_fin=180;//thermal conductivity of aluminium alloy fins[W/m.degree Celcius]\n",
"D_tout=0.03;//Outer diameter of tube[m]\n",
"D_fout=0.06;//Outer diameter of circular fins[m]\n",
"t=0.002;//thickness of fin[m]\n",
"s=0.003;//distance between fins attached to the tube[m]\n",
"n=200;//number of fins per meter of tube\n",
"L=1;//length of tube[m]\n",
"T_surr=25;//Surrounding temperature[degree Celcius]\n",
"T_wall=120;//Temperature of wall of the tube[degree Celcius]\n",
"h=60;//Combined heat transfer coefficient[W/m^2.degree Celcius]\n",
"//Solution:-\n",
"disp('In case of no fins')\n",
"A_nf=%pi*D_tout*L;//Area of tube with no fins attached[m^2]\n",
"//Using Newton's Law of cooling\n",
"Q_nf=h*A_nf*(T_wall-T_surr);//[W]\n",
"disp('W',Q_nf,'Rate of heat transfer when no finis attached')\n",
"//The efficiency of the circular fins attached to a circular tube is plotted in Fig 3.43\n",
"L_fin=(D_fout-D_tout)/2;//[m]\n",
"//In this case we have following corrected parameters\n",
"r2c=(D_fout+t)/2;//[m]\n",
"Lc=L_fin+(t/2);//[m]\n",
"Ap=Lc*t;//[m^2]\n",
"r=r2c/(D_tout/2);\n",
"alpha=(Lc*sqrt(Lc))*sqrt(h/(k_fin*Ap));//efficiency\n",
"disp(alpha)\n",
"//for above value of alpha efficiency is found out from the plot in fig 3.43\n",
"neta=0.96;\n",
"A_f=2*%pi*((r2c^2)-((D_tout/2)^2));//Area of tube with fins attached to it[m^2]\n",
"Q_f_max=h*A_f*(T_wall-T_surr);//maximum rate of heat transfer[W]\n",
"Q_f=neta*Q_f_max;//Heat transfer through tube with fins is efficiency times the maximum rate of heat transfer[W]\n",
"disp('W',Q_f,'Heat transfer due to the finned tube')\n",
"//From unfinned portion\n",
"A_uf=%pi*D_tout*s;//Unfinned area between two consecutive fins[m^2]\n",
"Q_uf=h*A_uf*(T_wall-T_surr);//[W]\n",
"disp('W',Q_uf,'Heat transfer from the unfinned portion of the tube is')\n",
"//Since there are 200 fins per meter of the tube hence 200 interfin spacing \n",
"Q_tf=n*(Q_f+Q_uf);//[W]\n",
"disp('W',Q_tf,'The total Heat transfer from the finned tube is')\n",
"Q_increase=Q_tf-Q_nf;//[W]\n",
"disp('W',Q_increase,'The increase in heat transfer from the tube per meter of length as a result of the addition of fins is')\n",
"eff=Q_tf/Q_nf;//Effectiveness\n",
"disp(eff,'The rate of heat transfer from the steam tube increases by a factor of')\n",
"disp('as a result of adding fins')"
   ]
   }
,
{
		   "cell_type": "markdown",
		   "metadata": {},
		   "source": [
			"## Example 3.13: ab53.sce"
		   ]
		  },
  {
"cell_type": "code",
	   "execution_count": null,
	   "metadata": {
	    "collapsed": true
	   },
	   "outputs": [],
"source": [
"clear;\n",
"clc;\n",
"\n",
"//Example3.13[Heat Loss from Buried Steam Pipes]\n",
"//Given:-\n",
"T_esurf=10;//Surface temperatur of earth[degree Celcius]\n",
"T_psurf=80;//Outer surface temperature of pipe[degree Celcius]\n",
"k_soil=0.9//Thermal Conductivity of soil[W/m.degree Celcius]\n",
"L=30;//Length of pipe[m]\n",
"D=0.1;//Diameter of pipe[m]\n",
"z=0.5;//Depth at which pipe is kept[m]\n",
"//Solution:-\n",
"//Calculating shape factor\n",
"if(z>(1.5*D))then \n",
" S=(2*%pi*L)/(log((4*z)/D)), end;//[m]\n",
" disp(S,'Shape factor is')\n",
" Q_=S*k_soil*(T_psurf-T_esurf);//[W]\n",
" disp('W',Q_,'The steady rate of heat transfer from the pipe is')   "
   ]
   }
,
{
		   "cell_type": "markdown",
		   "metadata": {},
		   "source": [
			"## Example 3.14: ab54.sce"
		   ]
		  },
  {
"cell_type": "code",
	   "execution_count": null,
	   "metadata": {
	    "collapsed": true
	   },
	   "outputs": [],
"source": [
"clear;\n",
"clc;\n",
"\n",
"//Example3.14[Heat Transfer between Hot and Cold Water pipes]\n",
"//Given:-\n",
"T_hot=70;//Surface Temperature of hot pipe[degree Celcius]\n",
"T_cold=15;//Surface Temperature of cold pipe[degree Celcius]\n",
"L=5;//Length of both pipes[m]\n",
"D=0.05;//Diameter of both the pipes[m]\n",
"z=0.3;//Distance between centreline of both the pipes[m]\n",
"k=0.75;//Thermal Conductivity of the concerte[W/m.degree Celcius]\n",
"//Solution:-\n",
"//Calculating Shape Factor\n",
"S=(2*%pi*L)/(acosh(((4*(z^2))-(D^2)-(D^2))/(2*D*D)));//[m]\n",
"disp('m',S,'Shave factor for given configuration is')\n",
"Q_=S*k*(T_hot-T_cold);//[W]\n",
"disp('W',Q_,'The steady rate of heat transfer between the pipes becomes')"
   ]
   }
,
{
		   "cell_type": "markdown",
		   "metadata": {},
		   "source": [
			"## Example 3.15: ab55.sce"
		   ]
		  },
  {
"cell_type": "code",
	   "execution_count": null,
	   "metadata": {
	    "collapsed": true
	   },
	   "outputs": [],
"source": [
"clear;\n",
"clc;\n",
"\n",
"//Example3.15[Cost of Heat Loss through walls in winter]\n",
"//Given:-\n",
"R_va_insu=2.3;//thickness to thermal conductivity ratio[m^2.degreeCelcius/W]\n",
"L1=12;//length of first wall of house[m]\n",
"L2=12;//length of second wall of house[m]\n",
"L3=9;//length of third wall of house[m]\n",
"L4=9;//length of fourth wall of house[m]\n",
"H=3;//height of all the walls[m]\n",
"T_in=25;//Temperature inside house[degree Celcius]\n",
"T_out=7;;//average temperature of outdoors on a certain day[degree Celcius]\n",
"ucost=0.075;//Unit Cost of elctricity[$/kWh]\n",
"h_in=8.29,h_out=34.0;//Heat transfer coefficients for inner and outer surface of the walls respectively[W/m^2.degree Celcius]\n",
"v=24*(3600/1000);//velocity of wind[m/s]\n",
"//Solution:-\n",
"//Heat transfer Area of walls=(Perimeter*Height)\n",
"A=(L1+L2+L3+L4)*H;//[m^2]\n",
"//Individual Resistances\n",
"R_conv_in=1/(h_in*A);//Convection Resistance on inner surface of wall[degree Celcius/W]\n",
"R_conv_out=1/(h_out*A);//Convection Resistance on outer surface of wall[degree Celcius/W]\n",
"R_wall=R_va_insu/A;//Conduction resistance to wall[degree Celcius/W]\n",
"//All resistances are in series\n",
"R_total=R_conv_in+R_wall+R_conv_out;//[degree Celcius/W]\n",
"Q_=(T_in-T_out)/R_total;//[W]\n",
"disp('W',Q_,'The steady rate of heat transfer through the walls of the house is')\n",
"delta_t=24;//Time period[h]\n",
"Q=(Q_/1000)*delta_t;//[kWh/day]\n",
"disp('kWh/day',Q,'The total amount of heat lost through the walss during a 24 hour period ')\n",
"cost=Q*ucost;//[$/day]\n",
"disp('per day',cost,'Cost of heat consumption is $')"
   ]
   }
,
{
		   "cell_type": "markdown",
		   "metadata": {},
		   "source": [
			"## Example 3.16: ab56.sce"
		   ]
		  },
  {
"cell_type": "code",
	   "execution_count": null,
	   "metadata": {
	    "collapsed": true
	   },
	   "outputs": [],
"source": [
"clear;\n",
"clc;\n",
"\n",
"//Example3.16[The R-value of a Wood Frame Wall]\n",
"//Given:-\n",
"f_area_insu=0.75;//area fraction for the insulation section\n",
"f_area_stud=0.25;//area fraction for the stud\n",
"R_bstud=3.05;//Total unit thermal resistance of section between studs[m^.degree Celcius/W]\n",
"R_atstud=1.23;//Total unit thermal resistance of section at studs[m^.degree Celcius/W]\n",
"P=50;//Perimeter of the building[m]\n",
"H=2.5;//height of the walls[m]\n",
"T_in=22;//Temperature inside the walls[degree Celcius]\n",
"T_out=-2;//Temperature outside the walls[degree Celcius]\n",
"//Solution:-\n",
"U_bstud=1/R_bstud;//[W/m^2.degree Celcius]\n",
"U_atstud=1/R_atstud;//[W/m^2.degree Celcius]\n",
"Total_U=(f_area_insu*U_bstud)+(f_area_stud*R_atstud);//[W/m^2.degree Celcius]\n",
"disp('W/m^',Total_U,'Overall U factor is')\n",
"disp('degree Celcius.m^2/W',(1/Total_U),'Overall unit thermal Resistance is')\n",
"///Since glazing constitutes 20% of the walls,\n",
"A_wall=(0.80)*P*H;//[m^2]\n",
"Q_=Total_U*A_wall*(T_in-T_out);//[W]\n",
"disp('W',Q_,'The rate of heat loss through the walls under design conditions is')\n",
"//Answer is slighthly different from book because of no of digits after decimal pont used here is quite large"
   ]
   }
,
{
		   "cell_type": "markdown",
		   "metadata": {},
		   "source": [
			"## Example 3.17: ab57.sce"
		   ]
		  },
  {
"cell_type": "code",
	   "execution_count": null,
	   "metadata": {
	    "collapsed": true
	   },
	   "outputs": [],
"source": [
"clear;\n",
"clc;\n",
"\n",
"//Example13.17[The R value of a Wall with Rigid Foam]\n",
"//Given:-\n",
"//using values from previous example \n",
"R_old=2.23;//AS written in book[m^2.degree Celcius/W]\n",
"//R value of of the fibreboard and the foam insulation, respectively\n",
"R_removed=0.23;//[m^2.degree Celcius/W]\n",
"R_added=0.98;//[m^2.degree Celcius/W]\n",
"//Solution:-\n",
"R_new=R_old-R_removed+R_added;//[m^2.degree Celcius/W]\n",
"increase=((R_new-R_old)/R_old)*100;\n",
"disp('m^2.degree Celcius/W',R_old,'Old R value is')\n",
"disp('m^2.degree Celcius/W',R_new,'New R value is')\n",
"disp(increase,'Percent increase in R-value')"
   ]
   }
,
{
		   "cell_type": "markdown",
		   "metadata": {},
		   "source": [
			"## Example 3.1: ab41.sce"
		   ]
		  },
  {
"cell_type": "code",
	   "execution_count": null,
	   "metadata": {
	    "collapsed": true
	   },
	   "outputs": [],
"source": [
"clear;\n",
"clc;\n",
"//Example 3.1 [Heat Loss through a Wall]\n",
"\n",
"//assumptions:- \n",
"//1)Heat transfer through the wall is steady \n",
"//2)Heat transfer is one-imensional\n",
"//Properties: \n",
"k=0.9;//[W/m.K]\n",
"disp('W/m.K',k,'The thermal conductivity is given to be')\n",
"//Heat transfer through the wall is by conduction \n",
"A=(3*5);//[m^2]\n",
"disp('m^2',A,'The area of the wall is')\n",
"T1=16;//temperature of inner wall[degree Celcius]\n",
"T2=2;//Temperature of Outer wall[degree Celcius]\n",
"delta_T=T1-T2;//Temperature Gradient[degree Celcius]\n",
"L=0.3;//Length of wall along which heat is being transferred[m]\n",
"R_wall=L/(k*A);//[degree Celcius/W]\n",
"disp('degree Celicus/W',R_wall,'Thermal Resistnace offered by the wall is')\n",
"Q_=(delta_T/R_wall);//[W]\n",
"disp('W',Q_,'The steady rate of heat transfer through the wall is ')"
   ]
   }
,
{
		   "cell_type": "markdown",
		   "metadata": {},
		   "source": [
			"## Example 3.2: ab42.sce"
		   ]
		  },
  {
"cell_type": "code",
	   "execution_count": null,
	   "metadata": {
	    "collapsed": true
	   },
	   "outputs": [],
"source": [
"clear;\n",
"clc;\n",
"\n",
"//Example 3.2[Heat Loss through a Single Pane Window]\n",
"//Assumptions :-\n",
"//1)Heat transfer through the window is steady\n",
"//2)Heat transfer through the wall is one dimensional\n",
"k=0.78;//[W/m.K]\n",
"disp('W/m.K',k,'The thermal conductivity is given to be')\n",
"L=0.008;//Thickness of glass window[m]\n",
"A=(0.8*1.5);//Area of the window[m^2]\n",
"T_1=20;//Temeprature of inner surface of glass window[dgree Celcius]\n",
"T_2=-10;//Temeprature of outer surface of glass window[dgree Celcius]\n",
"h_in=10;//Heat transfer coefficient on the inner surface of the window[W/m^2]\n",
"h_out=40;//Heat transfer coefficient on the outer surface of the window[W/m^2]\n",
"//Convection Resistance\n",
"R_conv1=1/(h_in*A);//[degree Celcius/W]\n",
"R_conv2=1/(h_out*A);//[degree Celcius/W]\n",
"//Conduction Resistance\n",
"R_cond=L/(k*A);//[degree Celcius/W]\n",
"//Net Resistance are in series\n",
"R_total=R_conv1+R_conv2+R_cond;//[degree Celcius/W]\n",
"disp('degree Celcius/W',R_total,'The total Resistance offered by glass window')\n",
"Q_=(T_1-T_2)/R_total;//[W]\n",
"disp('W',Q_,'Steady rate of Heat Transfer through the window is')\n",
"//Knowing the rate of Heat Transfer \n",
"T1=T_1-(Q_*R_conv1);//[degree Celciusthe inner surface temperature of the window glass can be determined from]\n",
"disp('degree Celcius',T1,'Inner Surface Temperature of the window glass')"
   ]
   }
,
{
		   "cell_type": "markdown",
		   "metadata": {},
		   "source": [
			"## Example 3.3: ab43.sce"
		   ]
		  },
  {
"cell_type": "code",
	   "execution_count": null,
	   "metadata": {
	    "collapsed": true
	   },
	   "outputs": [],
"source": [
"clear;\n",
"clc;\n",
"\n",
"//Example3.3[:Heat Loss through double pane windows]\n",
"//Given:-\n",
"k_g=0.78;//Thermal conductitvity of glass [W/m.K]\n",
"k_a=0.026;//Thermal conductivity of air space[W/m.K]\n",
"L_g=.004;//Thickness of glass layer[m]\n",
"L_a=0.01;//Thickness of air space[m]\n",
"h_in=10;//ConvectionHeat transfer coefficient on the inner surface of the window[W/m^2]\n",
"h_out=40;//ConvectionHeat transfer coefficient on the outer surface of the window[W/m^2]\n",
"T_1=20;//Outer wall Temperature [degree Celcius]\n",
"T_2=-10;//Inner wall Temperature [degree Celcius]\n",
"//Solution:-\n",
"A=(0.8*1.5);//Area of glass window[m^2]\n",
"//Convection Resistances\n",
"R_conv1=1/(h_in*A);//Due to convection heat transfer between inner atmosphere and glass[degree Celcius/W]\n",
"R_conv2=1/(h_out*A);//Due to convection heat transfer between outer atmosphere and glass[degree Celcius/W]\n",
"//Conduction Resistances\n",
"R_cond1=L_g/(k_g*A);//Due to conduction heat transfer through the glass[degree Celcius/W]\n",
"R_cond2=R_cond1;//Glass Medium is seperated by air spac hence two glass mediums are created[degree Celcius/W]\n",
"R_cond3=L_a/(k_a*A);//Due to conduction heat transfer through the air space[degree Celcius/W]\n",
"//Net Resistance offered by window is the sum of all the individual resistances written in the oreder of their occurence\n",
"R_total=R_conv1+R_cond1+R_cond2+R_cond3+R_conv2;//[degree Celcius/W]\n",
"disp('degree Celcius/W',R_total,'The net resistance offered is')\n",
"Q_=(T_1-T_2)/R_total;//[W]\n",
"disp('W',Q_,'The steady rate of Heat transfer through the window is')\n",
"//Inner surface temperature of the window is given by\n",
"T1=T_1-(Q_*R_conv1);//[degree Celcius]\n",
"disp('degree Celcius',T1,'Inner Surface Temperature of the window is')"
   ]
   }
,
{
		   "cell_type": "markdown",
		   "metadata": {},
		   "source": [
			"## Example 3.4: ab44.sce"
		   ]
		  },
  {
"cell_type": "code",
	   "execution_count": null,
	   "metadata": {
	    "collapsed": true
	   },
	   "outputs": [],
"source": [
"clear;\n",
"clc;\n",
"\n",
"//Example3.4[Equivalent Thickness for Contact Resistance]\n",
"//Given:-\n",
"k=237;//Thermal conductivity of aluminium[W/m.K]\n",
"L=0.01;//Thickness of aluminium plate[m]\n",
"hc=11000;//Thermal contact conductance[W/m^2.K]\n",
"//Solution:-\n",
"Rc=1/hc;//[m^2.K/W]\n",
"disp('Since thermal contact resistance is the inverse of thermal contact conductance')\n",
"disp('m^2.K/W',Rc,'Hence Therml contact Resistance is')\n",
"//For a unit surface area, the thermal resistance of a flat plate is defined as\n",
"R=L/k;\n",
"//Equivalent thickness for R=Rc\n",
"L=k*Rc;//[m]\n",
"disp('cm',(100*L),'Equivalent thickness is')"
   ]
   }
,
{
		   "cell_type": "markdown",
		   "metadata": {},
		   "source": [
			"## Example 3.5: ab45.sce"
		   ]
		  },
  {
"cell_type": "code",
	   "execution_count": null,
	   "metadata": {
	    "collapsed": true
	   },
	   "outputs": [],
"source": [
"clear;\n",
"clc;\n",
"\n",
"//Example3.5[Contact Reistance of Transistors]\n",
"//Given:-\n",
"k=386;//Thermal Conductivity of Copper[W/m.K]\n",
"hc=42000;//Contact Conductance coreesponding to copper-aluminium interface for the case of 1.17-1.4 micron roughness and 5MPa[pressure, which is close to given to what we have[W/m^2.K]\n",
"Ac=.0008;//Contact area b/w the case and the plate[m^2]\n",
"A=0.01;//Plate area for each resistor[m^2]\n",
"L=0.01;//Thickness of plate[m]\n",
"ho=25;//Heat tranfer coefficient for back surface\n",
"T_1=20;//Ambient Temperature[degree Celcius]\n",
"T_2=70;//Maximum temperature of case[degree Celcius]\n",
"//Solution:-\n",
"//Resistances Offered\n",
"R_interface=1/(hc*Ac);//Resistance offered at the copper aluminium interface[degree Cecius/W]\n",
"R_plate=L/(k*A);//conduction resistance offered by coppr plate[degree Cecius/W]\n",
"R_conv=1/(ho*A);//Convection resistance offerd by back surface of casing[degree Cecius/W]\n",
"R_total=R_interface+R_plate+R_conv;//[degree Cecius/W]\n",
"disp('degree Cecius/W',R_total,'The total thermal Tesistance is')\n",
"Q_=(T_2-T_1)/R_total;//[W]\n",
"disp('W',Q_,'The rate of heat transferred is')\n",
"delta_T=Q_*R_interface;//[degree Celcius]\n",
"disp('degree Celcius',delta_T,'The temperature jump at the interface is given by')"
   ]
   }
,
{
		   "cell_type": "markdown",
		   "metadata": {},
		   "source": [
			"## Example 3.6: ab46.sce"
		   ]
		  },
  {
"cell_type": "code",
	   "execution_count": null,
	   "metadata": {
	    "collapsed": true
	   },
	   "outputs": [],
"source": [
"clear;\n",
"clc;\n",
"\n",
"//Example3.6[Heat Loss through a Composite Wall]\n",
"//Given:-\n",
"//We consider a 1m deep and 0.25 m high portion of the wall since it is representative of the entire wall\n",
"//Assuming any cross-section of the wall normal to the x-direction to be isothermal\n",
"k_b=0.72;//thermal conductivity of bricks[W/m.K]\n",
"k_p=0.22;//thermal conductivity of plaster layers[W/m.K]\n",
"k_f=0.026;//thermal conductivity of foam layers[W/m.K]\n",
"T_in=20;//Indoor Temperature[dgeree Celcius]\n",
"T_out=-10;//Outdoor Temperature[dgeree Celcius]\n",
"h_in=10;//Inner heat transfer coefficient[W/m^2.K]\n",
"h_out=25;//Outer heat transfer coefficient[W/m^2.K]\n",
"L_f=0.03;//Thickness of foam layer[m]\n",
"L_p=0.02;//Thickness of plaster[m]\n",
"L_b=0.16;//Thickness of brick wall[m]\n",
"L_c=0.16;//Thickness of central plaster layer[m]\n",
"A1=(0.25*1);//[m^2]\n",
"A2=(0.015*1);//[m^2]\n",
"A3=(0.22*1);//[m^2]\n",
"//Resistances offered:-\n",
"R_in=1/(h_in*A1);//Resistance to conevction heat transfer from inner surface[degree Celcius/W]\n",
"R1=L_f/(k_f*A1);//Conduction Resistance offered by outer foam layer[degree Celcius/W]\n",
"R2=L_p/(k_p*A1);//Conduction Resistance offered by Outer side Plaster Wall[degree Celcius/W]\n",
"R6=R2;//Conduction Resistance offered by Inner side Plaster Wall[degree Celcius/W]\n",
"R3=L_c/(k_p*A2);//Conduction Resistance offered by one side central Plaster wall[degree Celcius/W]\n",
"R5=R3;//Conduction Resistance offered by other side central Plaster wall[degree Celcius/W]\n",
"R4=L_b/(k_b*A3);//Conduction Resistance offered by Brick Wall[degree Celcius/W]\n",
"R_out=1/(h_out*A1);//Convection Resistance from outer surface[degree Celcius/W]\n",
"//R_in,R1,R2,R6,R_out are connected in series\n",
"//R3,R4,R5 are connected in parallel\n",
"R_mid=1/((1/R3)+(1/R4)+(1/R5));//Effective Parrallel Resistance\n",
"R_total=(R_in+R1+R2+R_mid+R6+R_out);//[degree Celcius/W]\n",
"disp('degree Celcius/W',R_total,'Net Resistance offered is')\n",
"Q_=(T_in-T_out)/R_total;//[W]\n",
"disp('W',Q_,'The steady rate of heat transfer through the wall is')\n",
"Q_p=Q_/A1;//[W/m^2]\n",
"disp('W/m^2',Q_p,'Heat Transfer per unit area is')\n",
"A_total=3*5;//Total Area of wall[m^2]\n",
"Q_total=Q_p*A_total;//[W]\n",
"disp('W',Q_total,'Thr rate of heat transfer through the entire wall')"
   ]
   }
,
{
		   "cell_type": "markdown",
		   "metadata": {},
		   "source": [
			"## Example 3.7: ab47.sce"
		   ]
		  },
  {
"cell_type": "code",
	   "execution_count": null,
	   "metadata": {
	    "collapsed": true
	   },
	   "outputs": [],
"source": [
"clear;\n",
"clc;\n",
"\n",
"//Example3.7[Heat Transfer to a Spherical Container]\n",
"//Radiation effect is being considered. For the black tank emissivity=1\n",
"//Given:-\n",
"k=15;//thermal conductivity of stainless steel[W/m.degree Celcius]\n",
"T_ice=0+273;//temeperature of iced water[K]\n",
"T_tank=22+273;//temperature of tank stored at room temperature[K]\n",
"h_in=80;//Heat Transfer Coefficient at the inner surface of the tank[W/m^2.degree Celcius]\n",
"h_out=10;//Heat Transfer Coefficient at the outer surface of the tank[W/m^2.degree Celcius]\n",
"heat_f=333.7;//Heat of fusion of water at atmospheric pressure[kJ/kg]\n",
"e=1;//emissivity of tank\n",
"sigma=5.67*(10^(-8));//Stefan's [W/m^2.K^4]\n",
"D1=3;//inner diameter[m]\n",
"D2=3.04;//Outer diameter[m]\n",
"//Solution:-\n",
"//a)\n",
"A1=(%pi)*(D1^2);//Inner Surface area of the tank[m^2]\n",
"A2=(%pi)*(D2^2);//outer Surface area of the tank[m^2]\n",
"disp('The radiation heat transfer coefficient is given by ')\n",
"disp('h_rad=e*sigma*((T2^2)+(T_tank^2))*(T2+T_tank)')\n",
"disp('But we dont know the outer surface temperature T2 of the tank. hence we assume a T2 value')\n",
"disp('since heat transfer inside the tank is larger ')\n",
"T2=5+273;//[K]\n",
"disp('K',T2,'Therefore taking T2 =')\n",
"h_rad=e*sigma*((T2^2)+(T_tank^2))*(T2+T_tank);//[W/m^2.K]\n",
"disp('W/m^2.degree Celcius',h_rad,'The radiation heat transfer coefficient is determined to be')\n",
"//Individual Thermal Resistances Offered\n",
"R_in=1/(h_in*A1);//Resistance to convetion from inner side of tank[degree Celcius/W]\n",
"R_sphere=((D2-D1)/2)/(4*%pi*k*(D1/2)*(D2/2));//Resistance to conduction due to ice sphere[degree Celcius/W]\n",
"R_out=1/(h_out*A2);//Resistance to convection from outer side of tank[degree Celcius/W]\n",
"R_rad=1/(h_rad*A2);//Resistance to radiation heat transfer[degree Celcius/W]\n",
"//R_out and R_rad are in parallel connection,\n",
"R_eq=(1/((1/R_out)+(1/R_rad)));//[degree Celcius/W]\n",
"//R_in,R_sphere and R_eq are connected in series\n",
"R_total=R_in+R_sphere+R_eq;//[degree Celcius/W]\n",
"Q_=(T_tank-T_ice)/R_total;//[W]\n",
"disp('W',Q_,'The steady rate of heat transfer to the iced water is')\n",
"disp('We determine outer surface temperature to check the validity of assumption')\n",
"T2=T_tank-(Q_*R_eq);//[K]\n",
"disp('K',T2)\n",
"disp('which is sufficiently close to 278 K')\n",
"//b)\n",
"delta_t=24;//Time duration[h]\n",
"Q=Q_*delta_t*(3600/1000);//[kJ]\n",
"disp('kJ',Q,'The total amount of heat transfer during a 24 hour period is')\n",
"//It takes 333.7 kJ of energy to melt 1kg of ice at 0 degree Celcius\n",
"m_ice=Q/heat_f;//[kg]\n",
"disp('kg',m_ice,'The amount of ice that will melt during 24h period is')"
   ]
   }
,
{
		   "cell_type": "markdown",
		   "metadata": {},
		   "source": [
			"## Example 3.8: ab48.sce"
		   ]
		  },
  {
"cell_type": "code",
	   "execution_count": null,
	   "metadata": {
	    "collapsed": true
	   },
	   "outputs": [],
"source": [
"clear;\n",
"clc;\n",
"\n",
"//Example3.8[Heat Loss through an Insulated Steam Pipe]\n",
"//Given:-\n",
"T_steam=320;//[degree Celcius]\n",
"T_surr=5;//[degree Celcius]\n",
"k_iron=80;//Thermal conductivity of cast iron[W/m.degree Celcius]\n",
"k_insu=0.05;//Thermal conductivity of glass wool insulation[W/m.degree Celcius]\n",
"h_out=18;//Covection heat transfer coefficient outside the pipe[w/m^2.degree Celcius]\n",
"h_in=60;//Covection heat transfer coefficient insideside the pipe[w/m^2.degree Celcius]\n",
"D_in=0.05;//Inner diameter of pipe[m]\n",
"D_out=0.055;//Outer diameter of pipe[m]\n",
"t=0.03;//Thickness of insulation[m]\n",
"r=(D_out/2)+t;//Effective outer radius[m]\n",
"L=1;//Length of pipe[m]\n",
"//Solution:-\n",
"//Areas of surfaces exposed to convection\n",
"A1=2*%pi*(D_in/2)*L;//Inner Area of pipe[m^2]\n",
"A2=2*%pi*(r)*L;//Outer Area of pipe[m^2\n",
"//Individual Thermal Resistances\n",
"R_conv_in=1/(h_in*A1);//Resistance to convetion from inner surface of pipe[degree Celcius/W]\n",
"R_pipe=(log(D_out/D_in))/(2*%pi*k_iron*L);//Resitance to conduction through iron pipe[degree Celcius/W]\n",
"R_insu=(log(r/(D_out/2)))/(2*%pi*k_insu*L);//Resistance to conduction through insulation[degree Celcius/W]\n",
"R_conv_out=1/(h_out*A2);//Resistance to convetion from outer surface of insulation on pipe[degree Celcius/W]\n",
"//All resistances are in series\n",
"R_total=R_conv_in+R_pipe+R_insu+R_conv_out;//Total Resistance[degree Celcius]\n",
"Q_=(T_steam-T_surr)/R_total;//[W]\n",
"disp('W',Q_,'The Steady rate of heat loss from the steam per m length of pipe is')\n",
"delta_T_pipe=Q_*R_pipe;//[degree Celcius]\n",
"delta_T_insu=Q_*R_insu;//[degree Celcius]\n",
"disp('degree Celcius',delta_T_insu,'and',delta_T_pipe,,'The temperature drop across the pipe and the insulation is respectively')"
   ]
   }
,
{
		   "cell_type": "markdown",
		   "metadata": {},
		   "source": [
			"## Example 3.9: ab49.sce"
		   ]
		  },
  {
"cell_type": "code",
	   "execution_count": null,
	   "metadata": {
	    "collapsed": true
	   },
	   "outputs": [],
"source": [
"clear;\n",
"clc;\n",
"\n",
"//Example3.9[Heat Loss from an Insulated Electric Wire]\n",
"//Given:-\n",
"k_insu=0.15;//[W/m.degree Celcius]\n",
"V=8;//Voltage drop across wire[Volts]\n",
"I=10;//Current flowimg through the wire[Amperes]\n",
"T_atm=30;//Temperature of atmosphere to which wire is exposed[degree Celcius]\n",
"h=12;//heat transfer coefficient[W/m^2.degree Celcius]\n",
"L=5;//length of wire[m]\n",
"D=0.003;//diameter of wire[m]\n",
"t=0.002;//thickness of insulation[m]\n",
"r=(D/2)+t;//Effective radius[m]\n",
"//Solution:-\n",
"//Rate of heat generated in the wire becomes equal to the rate of heat transfer\n",
"Q_=V*I;//[W]\n",
"disp('W',Q_,'Heat generated in the wire is')\n",
"A2=2*%pi*r*L;//Outer surface area[m^2]\n",
"//Resistances offered\n",
"R_conv=1/(h*A2);//Convection resistance for the outer sueface of insulation[degree Celcius/W]\n",
"R_insu=(log(r/(D/2)))/(2*%pi*k_insu*L);//Conduction resitance for the plastic insulation[degree Celcius/W]\n",
"//Effective Resistance\n",
"R_total=R_conv+R_insu;//[degree Celcius/W]\n",
"//Interface Temperature can be determined from\n",
"T1=T_atm+(Q_*R_total);//[degree Celcius]\n",
"disp('degree Celcius',T1,'The interface temperature is')\n",
"//Critical radius \n",
"r_cr=k_insu/h;//[m]\n",
"disp('mm',r_cr*1000,'The critical radius of insulation of the plastic cover is')\n",
"//Larger value of critical radius ensures that increasing the thickness of insulation upto critical radius will increase the rate of heat transfer"
   ]
   }
],
"metadata": {
		  "kernelspec": {
		   "display_name": "Scilab",
		   "language": "scilab",
		   "name": "scilab"
		  },
		  "language_info": {
		   "file_extension": ".sce",
		   "help_links": [
			{
			 "text": "MetaKernel Magics",
			 "url": "https://github.com/calysto/metakernel/blob/master/metakernel/magics/README.md"
			}
		   ],
		   "mimetype": "text/x-octave",
		   "name": "scilab",
		   "version": "0.7.1"
		  }
		 },
		 "nbformat": 4,
		 "nbformat_minor": 0
}
