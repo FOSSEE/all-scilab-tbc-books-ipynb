{
"cells": [
 {
		   "cell_type": "markdown",
	   "metadata": {},
	   "source": [
       "# Chapter 1: Fundamental of Energy Science and Technology"
	   ]
	},
{
		   "cell_type": "markdown",
		   "metadata": {},
		   "source": [
			"## Example 1.1: heat_rejected.sce"
		   ]
		  },
  {
"cell_type": "code",
	   "execution_count": null,
	   "metadata": {
	    "collapsed": true
	   },
	   "outputs": [],
"source": [
"// Given data:\n",
"clc\n",
"T1=500+273.0 //source temp in kelvin \n",
"T2=100+273.0 //sink temperature in kelvin\n",
"W=1 // output power in kW\n",
"\n",
"nth=1-(T2/T1) // thermal efficiency\n",
"\n",
"Q1=1/nth // heat supplied in kW\n",
"\n",
"Q2=Q1-W // heat rejected in kW\n",
"\n",
"printf('The heat rejected is %0.2f kW',Q2)\n",
"\n",
"// the answer in book is wrong due to incorrect  value of T1 "
   ]
   }
,
{
		   "cell_type": "markdown",
		   "metadata": {},
		   "source": [
			"## Example 1.2: least_power_required.sce"
		   ]
		  },
  {
"cell_type": "code",
	   "execution_count": null,
	   "metadata": {
	    "collapsed": true
	   },
	   "outputs": [],
"source": [
"// Given data:\n",
"clc\n",
"T1=40+273.0 // ambient temp in kelvin\n",
"T2=-10+273.0 // freezer temp in kelvin\n",
"Q2=2 // heat loss rate for freezer in kJ/s\n",
"\n",
"Q1=T1*(Q2/T2) // heat transfer rate in kJ/s\n",
"\n",
"W=Q1-Q2 // work in kW\n",
"\n",
"printf('The least power required is %0.2f kW',W)"
   ]
   }
,
{
		   "cell_type": "markdown",
		   "metadata": {},
		   "source": [
			"## Example 1.3: Heat_abstracted.sce"
		   ]
		  },
  {
"cell_type": "code",
	   "execution_count": null,
	   "metadata": {
	    "collapsed": true
	   },
	   "outputs": [],
"source": [
"// Given data:\n",
"clc\n",
"Q1=3e4 // heat required in kJ/h\n",
"W=2e3 // work required in kJ/h\n",
"\n",
"Q2=Q1-W // heat abstracted from outside in kJ/h\n",
"\n",
"COP=Q1/(Q1-Q2) // COP of heat pump\n",
"\n",
"printf('Heat abstracted from outside air is %0.2f kJ/h \n ',Q2)\n",
"printf('COP of heat pump is %d ',COP)"
   ]
   }
,
{
		   "cell_type": "markdown",
		   "metadata": {},
		   "source": [
			"## Example 1.4: work_done.sce"
		   ]
		  },
  {
"cell_type": "code",
	   "execution_count": null,
	   "metadata": {
	    "collapsed": true
	   },
	   "outputs": [],
"source": [
"// Given data:\n",
"clc\n",
"T11=320+273.0 // temp at source 1 in kelvin\n",
"Q1=10000.0 // heat transfer rate at source 1 in kJ/min\n",
"T12=65+273.0 // temp at source 2 in kelvin\n",
"Q2=120000.0 //  heat transfer rate at source 2 in kJ/min\n",
"T2=35+273.0 // temp of surrounding in kelvin\n",
"\n",
"n1=1-(T2/T11) // efficiency by source 1\n",
"n2=1-(T2/T12) // efficiency by source 2\n",
"\n",
"W1=Q1*n1 // work at source 1 in kJ/min\n",
"W2=Q2*n2 // work at source 2 in kJ/min\n",
"\n",
"printf('The work done at W1 is = %0.2f kJ/min \n ',W1)\n",
"printf('The work done at W2 is = %0.2f kJ/min \n ',W2)\n",
"printf('The larger power is provided by source 2')"
   ]
   }
],
"metadata": {
		  "kernelspec": {
		   "display_name": "Scilab",
		   "language": "scilab",
		   "name": "scilab"
		  },
		  "language_info": {
		   "file_extension": ".sce",
		   "help_links": [
			{
			 "text": "MetaKernel Magics",
			 "url": "https://github.com/calysto/metakernel/blob/master/metakernel/magics/README.md"
			}
		   ],
		   "mimetype": "text/x-octave",
		   "name": "scilab",
		   "version": "0.7.1"
		  }
		 },
		 "nbformat": 4,
		 "nbformat_minor": 0
}
