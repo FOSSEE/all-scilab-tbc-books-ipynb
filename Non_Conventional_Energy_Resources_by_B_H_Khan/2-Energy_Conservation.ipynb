{
"cells": [
 {
		   "cell_type": "markdown",
	   "metadata": {},
	   "source": [
       "# Chapter 2: Energy Conservation"
	   ]
	},
{
		   "cell_type": "markdown",
		   "metadata": {},
		   "source": [
			"## Example 2.1: overall_efficiency.sce"
		   ]
		  },
  {
"cell_type": "code",
	   "execution_count": null,
	   "metadata": {
	    "collapsed": true
	   },
	   "outputs": [],
"source": [
"clc\n",
"\n",
"// Given data:\n",
"\n",
"Hcoal=20.0 // heating value of coal in MJ\n",
"W=200.0e3 // weight of coal in kg\n",
"E=1.2e6 // Electrical energy generated in MJ\n",
"delH=1.6e6 // Heat energy generated in MJ\n",
"ne=0.30 // electrical efficiency\n",
"nb=0.8 // thermal efficiency\n",
"\n",
"QA=Hcoal*W // total thermal energy input to plant in MJ\n",
"nco=(E+delH)/QA // efficiency of cogeneration plant\n",
"e=E/(E+delH) // electrical fraction\n",
"\n",
"nc=1/((e/ne)+(1-e)/nb) // overall efficiency\n",
"\n",
"printf('The overall efficiency is %0.2f %%',nc*100)"
   ]
   }
],
"metadata": {
		  "kernelspec": {
		   "display_name": "Scilab",
		   "language": "scilab",
		   "name": "scilab"
		  },
		  "language_info": {
		   "file_extension": ".sce",
		   "help_links": [
			{
			 "text": "MetaKernel Magics",
			 "url": "https://github.com/calysto/metakernel/blob/master/metakernel/magics/README.md"
			}
		   ],
		   "mimetype": "text/x-octave",
		   "name": "scilab",
		   "version": "0.7.1"
		  }
		 },
		 "nbformat": 4,
		 "nbformat_minor": 0
}
