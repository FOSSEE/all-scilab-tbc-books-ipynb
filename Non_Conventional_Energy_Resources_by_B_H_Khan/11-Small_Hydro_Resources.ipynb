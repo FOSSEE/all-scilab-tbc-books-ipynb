{
"cells": [
 {
		   "cell_type": "markdown",
	   "metadata": {},
	   "source": [
       "# Chapter 11: Small Hydro Resources"
	   ]
	},
{
		   "cell_type": "markdown",
		   "metadata": {},
		   "source": [
			"## Example 11.1: power_available.sce"
		   ]
		  },
  {
"cell_type": "code",
	   "execution_count": null,
	   "metadata": {
	    "collapsed": true
	   },
	   "outputs": [],
"source": [
"clc\n",
"// given data\n",
"rho=996 // density in kg/m^3\n",
"effi=0.55 // oveall efficiency\n",
"Q=100/1000.0 // discharge in m^3/sec\n",
"h=30 // gross head in m\n",
"g=9.81 // gravitational acceleration in m/sec^2\n",
"\n",
"\n",
"Pnet=effi*rho*Q*g*h/1000 // net power in watts\n",
"printf('Power available is %.2f kilowatts',Pnet)"
   ]
   }
,
{
		   "cell_type": "markdown",
		   "metadata": {},
		   "source": [
			"## Example 11.2: required_flow_rate.sce"
		   ]
		  },
  {
"cell_type": "code",
	   "execution_count": null,
	   "metadata": {
	    "collapsed": true
	   },
	   "outputs": [],
"source": [
"clc\n",
"// given data\n",
"pf=0.8 // power factor\n",
"Load=3 // load in kW\n",
"V=230 // voltage of kettle in V\n",
"P=500 // power of kettle in W\n",
"VA=pf*Load // VA load in kVA\n",
"C=4200 // specific heat of water in j/kg-K\n",
"T=45-20 // temperature difference in degree celsius\n",
"\n",
"VAR=VA*1.6 // net required VAR rating thus 60% extra capacity\n",
"\n",
"R=(V**2)/P // resistance by kettle in ohms\n",
"\n",
"Po=7*(V**2)/R // power dissipation in W for 7 elements\n",
"\n",
"printf( '7 elements are connected in parallel')\n",
"\n",
"Q=Load*1000.0/(C*T) // flow rate in kg/sec\n",
"\n",
"printf('\n The required flow rate is %.4f litre/sec',Q)\n",
"\n",
"\n",
""
   ]
   }
],
"metadata": {
		  "kernelspec": {
		   "display_name": "Scilab",
		   "language": "scilab",
		   "name": "scilab"
		  },
		  "language_info": {
		   "file_extension": ".sce",
		   "help_links": [
			{
			 "text": "MetaKernel Magics",
			 "url": "https://github.com/calysto/metakernel/blob/master/metakernel/magics/README.md"
			}
		   ],
		   "mimetype": "text/x-octave",
		   "name": "scilab",
		   "version": "0.7.1"
		  }
		 },
		 "nbformat": 4,
		 "nbformat_minor": 0
}
