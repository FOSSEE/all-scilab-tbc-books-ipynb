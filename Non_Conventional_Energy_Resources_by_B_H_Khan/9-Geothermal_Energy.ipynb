{
"cells": [
 {
		   "cell_type": "markdown",
	   "metadata": {},
	   "source": [
       "# Chapter 9: Geothermal Energy"
	   ]
	},
{
		   "cell_type": "markdown",
		   "metadata": {},
		   "source": [
			"## Example 9.1_i: Heat_content.sce"
		   ]
		  },
  {
"cell_type": "code",
	   "execution_count": null,
	   "metadata": {
	    "collapsed": true
	   },
	   "outputs": [],
"source": [
"clc\n",
"// given data\n",
"G=39.0 // temperature gradient in K/km.\n",
"h2=10.0 // depth in km\n",
"rhor=2700.0 // kg/m^3\n",
"cr=820.0 // in J/kg-K\n",
"\n",
"h1=120/G // T1-T0=120 K is given\n",
"h21=h2-h1 // in km\n",
"E0byA=(rhor*(1000**3)*G*cr*h21**2)/2 // in J/km^2 Heat content per square km\n",
"printf('The Heat content per square km is %.3e J/km^2',E0byA)"
   ]
   }
,
{
		   "cell_type": "markdown",
		   "metadata": {},
		   "source": [
			"## Example 9.1_ii: average_temp_after_25_years.sce"
		   ]
		  },
  {
"cell_type": "code",
	   "execution_count": null,
	   "metadata": {
	    "collapsed": true
	   },
	   "outputs": [],
"source": [
"clc\n",
"// given data\n",
"G=39.0 // temperature gradient in K/km.\n",
"h2=10.0 // depth in km\n",
"rhor=2700.0 // kg/m^3\n",
"cr=820.0 // in J/kg-K\n",
"QbyA=0.5 //water flow rate in  m^3/sec-km^2 \n",
"rhow=1000.0 // density of water in kg/m^3\n",
"cw=4200.0 // specific heat of water in J/kg-K \n",
"h1=120.0/G // T1-T0=120 K is given\n",
"h21=h2-h1 // in km\n",
"t=25 // time in years\n",
"\n",
"thtao=G*h21/2.0 // in degree K\n",
"printf( 'Useful initial temp  is %.2f degree K',thtao)\n",
"tau=rhor*cr*h21*(1000**3)/(QbyA*rhow*cw) // in seconds\n",
"tau=tau/(2*60*60*24*365) // in years\n",
"thta=thtao*exp(-t/tau) // in degree Kelvin\n",
"printf( ' \n Useful average temp after 25 years is %.2f degree K',thta)"
   ]
   }
,
{
		   "cell_type": "markdown",
		   "metadata": {},
		   "source": [
			"## Example 9.1_iii: Initial_Heat_extraction.sce"
		   ]
		  },
  {
"cell_type": "code",
	   "execution_count": null,
	   "metadata": {
	    "collapsed": true
	   },
	   "outputs": [],
"source": [
"clc\n",
"// given data\n",
"G=39.0 // temperature gradient in K/km.\n",
"h2=10.0 // depth in km\n",
"rhor=2700.0 // kg/m^3\n",
"cr=820.0 // in J/kg-K\n",
"\n",
"h1=120/G // T1-T0=120 K is given\n",
"h21=h2-h1 // in km\n",
"E0byA=(rhor*(1000**3)*G*cr*h21**2)/2 // in J/km^2 Heat content per square km\n",
"\n",
"thetao=G*h21/2.0 // in degree K\n",
"tau=rhor*cr*h21*(1000**3)/(QbyA*rhow*cw) // in seconds\n",
"tau=tau/(2*60*60*24*365) // in years\n",
"theta=thetao*exp(-t/tau) // in degree Kelvin\n",
"\n",
"Heatinitial=E0byA/(60*60*365*24*tau)/1000000 // intial heat extraction rate in MW /km^2\n",
"\n",
"Heat25=Heatinitial*exp(-t/tau) // heat extraction rate after 25 years in MW /km^2\n",
"\n",
"printf( 'Initial Heat extraction rate is %.2f MW/km^2',Heatinitial)\n",
"\n",
"printf(' \n Final Heat extraction rate is %.2f MW/km^2',Heat25)"
   ]
   }
,
{
		   "cell_type": "markdown",
		   "metadata": {},
		   "source": [
			"## Example 9.2_i: heat_content.sce"
		   ]
		  },
  {
"cell_type": "code",
	   "execution_count": null,
	   "metadata": {
	    "collapsed": true
	   },
	   "outputs": [],
"source": [
"clc\n",
"// given data\n",
"w=0.6 // in km \n",
"h2=2.5 // in km\n",
"p=5/100.0 // porosity\n",
"rhor=3000.0 // density of sediment in kg/m^3\n",
"cr=750.0 // specific heat of sediment in J/kg-K\n",
"rhow=1000.0 // density of water in kg/m^3\n",
"cw=4200.0 // specific heat of water in J/kg-K\n",
"G=35.0 // temperature gradient in degree C/km\n",
"T1=45.0 // temp 1 in degree celsius\n",
"T0=12.0 // temp 2 in degree celsius\n",
"Q=0.75 // water extraction rate in m^3/sec-km^2\n",
"\n",
"T2=T0+G*h2 // initial temp in degree celsius\n",
"\n",
"thetao=T2-T1 // in degree celsius\n",
"\n",
"E0byA=(p*rhow*(1000**3)*cw+(1-p)*rhor*(1000**3)*cr)*w*thetao // in J/km^2\n",
"\n",
"printf( 'The heat content is %.2e J/km^2',E0byA)\n",
"\n",
"// the answer is different in textbook due to wrong thetao"
   ]
   }
,
{
		   "cell_type": "markdown",
		   "metadata": {},
		   "source": [
			"## Example 9.2_iii: power_per_square_km.sce"
		   ]
		  },
  {
"cell_type": "code",
	   "execution_count": null,
	   "metadata": {
	    "collapsed": true
	   },
	   "outputs": [],
"source": [
"clc\n",
"// given data\n",
"w=0.6 // in km \n",
"h2=2.5 // in km\n",
"p=5/100.0 // porosity\n",
"rhor=3000.0 // density of sediment in kg/m^3\n",
"cr=750.0 // specific heat of sediment in J/kg-K\n",
"rhow=1000.0 // density of water in kg/m^3\n",
"cw=4200.0 // specific heat of water in J/kg-K\n",
"G=35.0 // temperature gradient in degree C/km\n",
"T1=45.0 // temp 1 in degree celsius\n",
"T0=12.0 // temp 2 in degree celsius\n",
"Q=0.75 // water extraction rate in m^3/sec-km^2\n",
"T2=T0+G*h2 // initial temp in degree celsius\n",
"t=25 // time in years\n",
"thetao=T2-T1 // in degree celsius\n",
"\n",
"E0byA=(p*rhow*(1000**3)*cw+(1-p)*rhor*(1000**3)*cr)*w*thetao // in J/km^2\n",
"\n",
"tau=((p*rhow*cw+(1-p)*rhor*cr)*w*1000**3/(Q*rhow*cw)) // in seconds\n",
"Pperkm2=(E0byA)/(tau*1000000) // initial power per square km in MW/km^2\n",
"printf('initial power per square km is %.2f MW/km^2',Pperkm2)\n",
"Power20=Pperkm2*exp(-25*60*60*24*365/tau) //  power per square km in MW/km^2 after 25 years\n",
"printf('\n power per square km in MW/km^2 after 25 years is %.2f MW/km^2',Power20)\n",
"\n",
"// The answers are slightly different due to error in textbook"
   ]
   }
,
{
		   "cell_type": "markdown",
		   "metadata": {},
		   "source": [
			"## Example 9.2_ii: Time_constant.sce"
		   ]
		  },
  {
"cell_type": "code",
	   "execution_count": null,
	   "metadata": {
	    "collapsed": true
	   },
	   "outputs": [],
"source": [
"clc\n",
"// given data\n",
"w=0.6 // in km \n",
"h2=2.5 // in km\n",
"p=5/100.0 // porosity\n",
"rhor=3000.0 // density of sediment in kg/m^3\n",
"cr=750.0 // specific heat of sediment in J/kg-K\n",
"rhow=1000.0 // density of water in kg/m^3\n",
"cw=4200.0 // specific heat of water in J/kg-K\n",
"G=35.0 // temperature gradient in degree C/km\n",
"T1=45.0 // temp 1 in degree celsius\n",
"T0=12.0 // temp 2 in degree celsius\n",
"Q=0.75 // water extraction rate in m^3/sec-km^2\n",
"\n",
"tau=((p*rhow*cw+(1-p)*rhor*cr)*w*1000**3/(Q*rhow*cw))/(60*60*24*365) // in years\n",
"\n",
"printf( 'Time constant is %.1f years',tau)\n",
"\n",
"// the answer is different in textbook due to wrong calculations"
   ]
   }
],
"metadata": {
		  "kernelspec": {
		   "display_name": "Scilab",
		   "language": "scilab",
		   "name": "scilab"
		  },
		  "language_info": {
		   "file_extension": ".sce",
		   "help_links": [
			{
			 "text": "MetaKernel Magics",
			 "url": "https://github.com/calysto/metakernel/blob/master/metakernel/magics/README.md"
			}
		   ],
		   "mimetype": "text/x-octave",
		   "name": "scilab",
		   "version": "0.7.1"
		  }
		 },
		 "nbformat": 4,
		 "nbformat_minor": 0
}
