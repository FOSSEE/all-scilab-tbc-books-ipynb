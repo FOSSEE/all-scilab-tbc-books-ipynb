{
"cells": [
 {
		   "cell_type": "markdown",
	   "metadata": {},
	   "source": [
       "# Chapter 7: Wind Energy"
	   ]
	},
{
		   "cell_type": "markdown",
		   "metadata": {},
		   "source": [
			"## Example 7.1: Maximum_axial_thrust.sce"
		   ]
		  },
  {
"cell_type": "code",
	   "execution_count": null,
	   "metadata": {
	    "collapsed": true
	   },
	   "outputs": [],
"source": [
"// given data\n",
"clear \n",
"clc\n",
"rho=1.226 // air density in kG/m^3\n",
"alpha =0.14\n",
"H=10.0 // height at which wind speed is given in m\n",
"uH=12.0 // speed in m/s\n",
"z=100.0 // tower height in m\n",
"D=80.0 // diameter  in m\n",
"effigen=0.85 // efficiency og generator\n",
"\n",
"A=%pi*(D**2)/4 // area in m^3\n",
"u0=uH*(z/H)**alpha // velocity at 100 m in m/s\n",
"u1=0.8*u0 // exit velocity in m/s \n",
"Po=(A*rho*u0**3)/2 // Total Power in Wind\n",
"// Part 1 \n",
"printf('Total Power in Wind is %0.2f MW \n',Po/1000000)\n",
"\n",
"// Part 2\n",
"a=(u0-u1)/u0 // interference factor\n",
"Cp=4*a*(1-a)**2 // Power Coefficient\n",
"PT=Cp*Po/1000000 // power to turbine in MW\n",
"\n",
"printf('The power extracted by turbine is %0.2f MW \n',PT)\n",
"\n",
"// Part 3\n",
"Pelec=effigen*PT // electrical power generated in MW\n",
"\n",
"printf('The Electrical power generated is %0.2f MW \n',Pelec)\n",
"\n",
"// Part 4\n",
"FA=4*a*(1-a)*(A*rho*u0**2)/2 // axial thrust in N\n",
"\n",
"printf('The axial thrust is %0.2f N \n',FA)\n",
"\n",
"// Part 5\n",
"\n",
"Fmax=(A*rho*u0**2)/2 // maximum thrust in N\n",
"printf('Maximum axial thrust is %0.2f N \n ',Fmax)\n",
"\n",
"\n",
""
   ]
   }
,
{
		   "cell_type": "markdown",
		   "metadata": {},
		   "source": [
			"## Example 7.2: maximum_output.sce"
		   ]
		  },
  {
"cell_type": "code",
	   "execution_count": null,
	   "metadata": {
	    "collapsed": true
	   },
	   "outputs": [],
"source": [
"// given data\n",
"clear \n",
"clc\n",
"\n",
"u0=20.0 // wind speed in m/s\n",
"T=273+27.0 // temp in kelvin\n",
"P=1.01325e5 // pressure in Pa\n",
"R=287.0 // gas constant\n",
"r=80/2.0 // radius of rotor in m\n",
"w=2*%pi*40/60.0 // rotor speed in rad/s\n",
"A=%pi*r**2 // area of rotor in m^2\n",
"\n",
"// soln:\n",
"rho=P/(R*T) // density in Kg/m^3\n",
"a=1/3.0 // condition for maximum output\n",
"Cpmax=4*a*(1-a)**2 // Power Coefficient\n",
"Lambda=r*w/u0 //tip speed ratio\n",
"\n",
"Po=(A*rho*u0**3)/2000000 // Total Power in Wind in W\n",
"\n",
"Tm=Po*r/u0 // Torque in N\n",
"\n",
"Ctmax=Cpmax/Lambda // torque coefficient \n",
"\n",
"Tshmax=Tm*Ctmax // torque at shaft\n",
"\n",
"printf('The torque at shaft for maximum output is %0.2f N',Tshmax)"
   ]
   }
,
{
		   "cell_type": "markdown",
		   "metadata": {},
		   "source": [
			"## Example 7.3: optimum_energy.sce"
		   ]
		  },
  {
"cell_type": "code",
	   "execution_count": null,
	   "metadata": {
	    "collapsed": true
	   },
	   "outputs": [],
"source": [
"// Given Data\n",
"// given data\n",
"clear();\n",
"clc();\n",
"u0=15.0 // wind speed in m/s\n",
"R=80/2.0 // radius of rotor in m\n",
"n=3 // number of blades\n",
"\n",
"Lambda=4*%pi/n // condition of tip ratio for maximum output\n",
"\n",
"w=Lambda*u0/R // using Eq 7.21 rotor speed in rad/s\n",
"\n",
"N=w*60/(2*%pi) // rotor speed in RPM\n",
"\n",
"printf( 'For optimum energy the rotor speed should be %.1f rpm',N)"
   ]
   }
],
"metadata": {
		  "kernelspec": {
		   "display_name": "Scilab",
		   "language": "scilab",
		   "name": "scilab"
		  },
		  "language_info": {
		   "file_extension": ".sce",
		   "help_links": [
			{
			 "text": "MetaKernel Magics",
			 "url": "https://github.com/calysto/metakernel/blob/master/metakernel/magics/README.md"
			}
		   ],
		   "mimetype": "text/x-octave",
		   "name": "scilab",
		   "version": "0.7.1"
		  }
		 },
		 "nbformat": 4,
		 "nbformat_minor": 0
}
