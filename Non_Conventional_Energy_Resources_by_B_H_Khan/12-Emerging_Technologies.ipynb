{
"cells": [
 {
		   "cell_type": "markdown",
	   "metadata": {},
	   "source": [
       "# Chapter 12: Emerging Technologies"
	   ]
	},
{
		   "cell_type": "markdown",
		   "metadata": {},
		   "source": [
			"## Example 12.1: required_heat_removal_rate.sce"
		   ]
		  },
  {
"cell_type": "code",
	   "execution_count": null,
	   "metadata": {
	    "collapsed": true
	   },
	   "outputs": [],
"source": [
"clc\n",
"// given data\n",
"delG=-39.59 // kJ/mol\n",
"delH=-56.83 // change in enthalpy in kJ/mol\n",
"mdotmethanol=32.0 // in g/s\n",
"mdotoxygen=48.0 // in g/s\n",
"\n",
"Wmax=166.3 // -delG in kJ\n",
"\n",
"flowmethanol=mdotmethanol*100*3600/(Wmax*1000) // in kg/h\n",
"flowoxygen=mdotoxygen*100*3600/(Wmax*1000) // in kg/h\n",
"printf( 'The required flow rate of methanol is %.2f kg/h',flowmethanol)\n",
"printf( '\nThe required flow rate of oxygen is %.2f kg/h',flowoxygen)\n",
"delQ=delH-delG // using eq 12.7 \n",
"\n",
"fuelrate=-delQ*19.24/mdotmethanol // in kcal/s\n",
"\n",
"printf( '\nThe required heat removal rate is %.2f kcal/s',fuelrate)\n",
"\n",
"// The answer is wrong in textbook because of incorrect conversion from g/s to kg/h"
   ]
   }
],
"metadata": {
		  "kernelspec": {
		   "display_name": "Scilab",
		   "language": "scilab",
		   "name": "scilab"
		  },
		  "language_info": {
		   "file_extension": ".sce",
		   "help_links": [
			{
			 "text": "MetaKernel Magics",
			 "url": "https://github.com/calysto/metakernel/blob/master/metakernel/magics/README.md"
			}
		   ],
		   "mimetype": "text/x-octave",
		   "name": "scilab",
		   "version": "0.7.1"
		  }
		 },
		 "nbformat": 4,
		 "nbformat_minor": 0
}
