{
"cells": [
 {
		   "cell_type": "markdown",
	   "metadata": {},
	   "source": [
       "# Chapter 14: Financial and Economic Evaluation"
	   ]
	},
{
		   "cell_type": "markdown",
		   "metadata": {},
		   "source": [
			"## Example 14.10: present_worth_of_saving.sce"
		   ]
		  },
  {
"cell_type": "code",
	   "execution_count": null,
	   "metadata": {
	    "collapsed": true
	   },
	   "outputs": [],
"source": [
"clc\n",
"// given data\n",
"\n",
"g=0.2 // annual gas price increase rate\n",
"i=10/100.0 // discount rate \n",
"n=15 // time in years\n",
"A1=350*8 // payment at end of 1st year in lakhs rs\n",
"\n",
"Pgg=(A1/(i-g))*(1-((1+g)/(1+i))**n) // present worth in Rs\n",
"\n",
"printf('The present worth of saving is Rs %.0f',Pgg)"
   ]
   }
,
{
		   "cell_type": "markdown",
		   "metadata": {},
		   "source": [
			"## Example 14.11: simple_payback_period.sce"
		   ]
		  },
  {
"cell_type": "code",
	   "execution_count": null,
	   "metadata": {
	    "collapsed": true
	   },
	   "outputs": [],
"source": [
"clc\n",
"// given data\n",
"Co=10000 // initial investment in rs\n",
"B=900.0 // net annual savings per year\n",
"\n",
"nsp=Co/B // simple payback period\n",
"\n",
"printf( 'The simple payback period is %0.2f',nsp)\n",
"if nsp<20\n",
"    printf( '\n proposal may be accepted')\n",
"else\n",
"    printf( '\n proposal may not be accepted')\n",
"end"
   ]
   }
,
{
		   "cell_type": "markdown",
		   "metadata": {},
		   "source": [
			"## Example 14.12: payback_period_for_projects.sce"
		   ]
		  },
  {
"cell_type": "code",
	   "execution_count": null,
	   "metadata": {
	    "collapsed": true
	   },
	   "outputs": [],
"source": [
"clc\n",
"\n",
"// given data\n",
"\n",
"\n",
"\n",
"ProjectA=[-2400,600,600,600,600,600] \n",
"ProjectB=[-2400,800,800,800,800,800]\n",
"ProjectC=[-2400,500,700,900,1100,1300]\n",
"\n",
"ProjAcu=zeros(6)  // cumulative cash flow for project A\n",
"ProjAcu(1)=ProjectA(1)\n",
"for i =2:6\n",
"    \n",
"    ProjAcu(i)=ProjectA(i)+ProjAcu(i-1)\n",
"    \n",
"end\n",
"    \n",
"ProjBcu=zeros(6) // cumulative cash flow for project B\n",
"ProjBcu(1)=ProjectB(1)\n",
"for i =2:6\n",
"    \n",
"    ProjBcu(i)=ProjectB(i)+ProjBcu(i-1)\n",
"    \n",
"end\n",
"\n",
"ProjCcu=zeros(6) // cumulative cash flow for project C\n",
"ProjCcu(1)=ProjectC(1)\n",
"for i =2:6\n",
"    \n",
"    ProjCcu(i)=ProjectC(i)+ProjCcu(i-1)\n",
"end\n",
"    \n",
"    \n",
"printf( '\tProject A\t\tProject B\t\tProject C')\n",
"printf( '\nyear\tcurrent\tcummulative  current cummulative   current  cummulative ')\n",
"for i =2:7\n",
"    \n",
"    printf( '\n %i\t%i\t%.i\t\t %.i\t%.i \t \t%.i  \t%.i',(i-2),ProjectA(i-1),ProjAcu(i-1),ProjectB(i-1),ProjBcu(i-1),ProjectC(i-1),ProjCcu(i-1))\n",
"end\n",
"\n",
"\n",
"for i =1:6\n",
"    \n",
"    if ProjAcu(i)==0\n",
"        PA=i-1 \n",
"    else\n",
"    end\n",
"end\n",
"\n",
"for i =1:6\n",
"    \n",
"    if ProjBcu(i)==0\n",
"        PB=i-1\n",
"    else\n",
"    end\n",
"end\n",
"   \n",
"for i =1:6\n",
"    \n",
"    if (ProjCcu(i)<0 & ProjCcu(i+1)>0)\n",
"        PC=i-ProjCcu(i)/ProjectC(i+1)-1\n",
"    else\n",
"   end\n",
"end\n",
"\n",
"printf( ' \n The payback period for project 1 is %.2f \n The payback period for project 2 is %.2f \n The payback period for project 3 is %.2f',PA,PB,PC)"
   ]
   }
,
{
		   "cell_type": "markdown",
		   "metadata": {},
		   "source": [
			"## Example 14.13: Net_loss.sce"
		   ]
		  },
  {
"cell_type": "code",
	   "execution_count": null,
	   "metadata": {
	    "collapsed": true
	   },
	   "outputs": [],
"source": [
"clc\n",
"// given data\n",
"\n",
"\n",
"\n",
"ProjAcu=[-2400.0,-1864.0,-1386.0,-959.0,-578.0,-238.0] // in Rs\n",
"ProjBcu=[-2400,-1686,-1048,-479.0,30,484] // in Rs\n",
"ProjCcu=[-2400,-1954,-1396,-755,-56.0,683] // in Rs\n",
"\n",
"ProjAdis=[-2400,536,478,427,381,340] // in Rs\n",
"ProjBdis=[-2400,714,638,569,509.0,454] // in Rs\n",
"ProjCdis=[-2400,446,558,641,699,738.0] // in Rs\n",
"\n",
"PA=0\n",
"PB=0\n",
"PC=0\n",
"\n",
"for i =1:5\n",
"     if ((ProjAcu(i)<0) & (ProjAcu(i+1)>0))\n",
"        PA=(i+1)-ProjAcu(i)/ProjAdis(i+1)-1\n",
"    end\n",
"    \n",
"end\n",
"\n",
"printf( '\nFor project A')\n",
"if (PA==0)\n",
"    printf( '\nNet loss, Thus should be rejected')\n",
"else:\n",
"    printf( '\n% .2f years is payback period',PA) \n",
"end\n",
"\n",
"for i =1:5\n",
"    \n",
"    if ((ProjBcu(i)<0) & (ProjBcu(i+1)>0))\n",
"        PB=(i)-ProjBcu(i)/ProjBdis(i+1)-1\n",
"    else\n",
"    end\n",
"end\n",
"\n",
"    \n",
"printf( '\n\nFor project B' )\n",
"\n",
"if (PB==0)\n",
"    printf( '\nNet loss, Thus should be rejected'\n",
"else:\n",
"    printf( '\n%.2f years is payback period',PB) \n",
"end   \n",
"for i =1:5\n",
"    \n",
"    if ((ProjCcu(i)<0) & (ProjCcu(i+1)>0))\n",
"        PC=(i)-ProjCcu(i)/ProjCdis(i+1)-1\n",
"    else\n",
"        end\n",
"end\n",
"    \n",
"printf( '\n\nFor project C')\n",
"\n",
"if (PC==0)\n",
"    printf( '\nNet loss, Thus should be rejected')\n",
"else\n",
"    printf( '\n%.2f years is payback period',PC )\n",
"end\n",
"\n",
""
   ]
   }
,
{
		   "cell_type": "markdown",
		   "metadata": {},
		   "source": [
			"## Example 14.14: NPV_of_Projects.sce"
		   ]
		  },
  {
"cell_type": "code",
	   "execution_count": null,
	   "metadata": {
	    "collapsed": true
	   },
	   "outputs": [],
"source": [
"clc\n",
"// given data\n",
"\n",
"i=12.0/100 // interest rate \n",
"n=5.0 // years\n",
"\n",
"ProjectA=[-2400,600,600,600,600,600] \n",
"ProjectB=[-2400,800,800,800,800,800]\n",
"ProjectC=[-2400,500,700,900,1100,1300]\n",
"\n",
"\n",
"NPVA=ProjectA(1)+ProjectA(2)*(((1+i)**n) - 1)/(i*(1+i)**n)\n",
"\n",
"printf( '\nNPV of Project A is %.i ',NPVA)\n",
"\n",
"NPVB=ProjectB(1)+ProjectB(2)*(((1+i)**n) - 1)/(i*(1+i)**n)\n",
"\n",
"printf( '\nNPV of Project B is %.0f ',NPVB)\n",
"\n",
"ProjectNPVc=0  // cumulative cash flow for project A\n",
"for i =1:5\n",
"    \n",
"    ProjectNPVc=ProjectNPVc+(-ProjectC(1)+ProjectC(i+1))/(1+i)**(i+1)\n",
"end\n",
"    \n",
"    \n",
"printf( '\nNPV of Project C is %.2f ',ProjectNPVc)\n",
"\n",
"// The answer for project C is wrong in the book"
   ]
   }
,
{
		   "cell_type": "markdown",
		   "metadata": {},
		   "source": [
			"## Example 14.15: The_IRR.sce"
		   ]
		  },
  {
"cell_type": "code",
	   "execution_count": null,
	   "metadata": {
	    "collapsed": true
	   },
	   "outputs": [],
"source": [
"clc\n",
"// given data\n",
"Co=20000.0 // cost in Rs\n",
"B=3000.0 // annual benefit in rs\n",
"n=15.0 // time in years\n",
"i=15.0/100 // initial guess for rate\n",
"NPV=zeros(4)\n",
"\n",
"NPV(1)=B*(((1+i)**n)-1)/(i*(1+i)**n)-Co\n",
"x=1\n",
"printf( 'Iteration no.\t\ti*\t\tNPV(i*)') \n",
"while NPV(x)<0\n",
"    x=x+1  \n",
"    i=i-0.01\n",
"    NPV(x)=B*(((1+i)**n)-1)/(i*(1+i)**n)-Co\n",
"end   \n",
"for z =1:4\n",
"    printf( '\n %i\t\t      %.2f\t     %.0f\t ',z,0.15-((z-1)/100.0),NPV(z))\n",
"\n",
"end\n",
"IRR=i+(i+0.01-i)/(NPV(x)+NPV(x-1)) // using equation 14.28\n",
"\n",
"printf( '\nThe IRR is %.0f %%',IRR*100)\n",
"\n",
"// the answer is slightly different in textbook due to approximation"
   ]
   }
,
{
		   "cell_type": "markdown",
		   "metadata": {},
		   "source": [
			"## Example 14.16: B_minus_C_for_projects.sce"
		   ]
		  },
  {
"cell_type": "code",
	   "execution_count": null,
	   "metadata": {
	    "collapsed": true
	   },
	   "outputs": [],
"source": [
"clc\n",
"// given data\n",
"\n",
"i=12.0/100 // interest rate\n",
"ProjAdisB=[0,536.0,478,427,381,340] // discounted benefit for A\n",
"ProjAdisC=[2400.0,0,0,0,0,0] // discounted cost for A\n",
"ProjBdisB=[0,714.0,638,569,509,454] // discounted benefit for B\n",
"ProjBdisC=[2400.0,0,0,0,0,0]  // discounted cost for B\n",
"ProjCdisB=[0,446.0,558,641,699,738] // discounted benefit for C\n",
"ProjCdisC=[2400.0,0,0,0,0,0] // discounted cost for C\n",
"\n",
"BCforA=sum(ProjAdisB)/sum(ProjAdisC)  // B mius C ratio\n",
"BCforB=sum(ProjBdisB)/sum(ProjBdisC) // B mius C ratio\n",
"BCforC=sum(ProjCdisB)/sum(ProjCdisC) // B mius C ratio\n",
"printf( '\nB - C for project A is %.1f',BCforA)\n",
"printf( '\nB - C for project B is %.1f',BCforB)\n",
"printf( '\nB - C for project C is %.2f',BCforC)"
   ]
   }
,
{
		   "cell_type": "markdown",
		   "metadata": {},
		   "source": [
			"## Example 14.17: Capital_Recovery_cost.sce"
		   ]
		  },
  {
"cell_type": "code",
	   "execution_count": null,
	   "metadata": {
	    "collapsed": true
	   },
	   "outputs": [],
"source": [
"clc\n",
"// given data\n",
"Co=12000.0 // cost in Rs\n",
"Ca=200.0 // annual maintainence in Rs\n",
"C12=3000.0 // replacement cost in 12th year\n",
"S=1000.0 // salvage value in rs\n",
"n=20.0 // time in years\n",
"i=11/100.0 // interest rate\n",
"\n",
"Cnet=Co-S*(1/(1+i)**n)+Ca*((((1+i)**n)-1)/(i*(i+1)**n))+C12*(1/(1+i)**12)\n",
"\n",
"CR=Cnet*(i*(1+i)**n)/(((1+i)**n)-1)\n",
"\n",
"printf('The Capital Recovery cost is Rs %.0f',CR)"
   ]
   }
,
{
		   "cell_type": "markdown",
		   "metadata": {},
		   "source": [
			"## Example 14.18: AE_for_machines.sce"
		   ]
		  },
  {
"cell_type": "code",
	   "execution_count": null,
	   "metadata": {
	    "collapsed": true
	   },
	   "outputs": [],
"source": [
"clc\n",
"// given data\n",
"i=10/100.0 // rate\n",
"Acost=90000 // cost of A in Rs\n",
"Bcost=75000 //  cost of B in Rs\n",
"Acashfl=26000 // annual cash flow of A in Rs\n",
"Bcashfl=26000 // annual cash flow of B in Rs\n",
"nA=5 // useful life of A in years\n",
"nB=4 // useful life of B in years\n",
"\n",
"NPVA=Acashfl*(((1+i)**nA) - 1)/(i*(1+i)**nA) - Acost // NPV for A\n",
"NPVB=Bcashfl*(((1+i)**nB) - 1)/(i*(1+i)**nB)- Bcost // NPV for B\n",
"\n",
"printf( '\nThe NPV for A is Rs %.0f',NPVA)\n",
"\n",
"printf( '\nThe NPV for B is Rs %.0f',NPVB)\n",
"\n",
"AEA=i*NPVA/(1-(1+i)**(-nA))\n",
"\n",
"\n",
"AEB=i*NPVB/(1-(1+i)**(-nB))\n",
"\n",
"printf( '\nThe AE for A is Rs %.0f',AEA)\n",
"\n",
"printf( '\nThe AE for B is Rs %.0f',AEB)\n",
"\n",
"printf( '\nThe machine B will have higher profitability')\n",
"\n",
"\n",
"\n",
"\n",
"\n",
"\n",
""
   ]
   }
,
{
		   "cell_type": "markdown",
		   "metadata": {},
		   "source": [
			"## Example 14.19: NPV_of_dryer.sce"
		   ]
		  },
  {
"cell_type": "code",
	   "execution_count": null,
	   "metadata": {
	    "collapsed": true
	   },
	   "outputs": [],
"source": [
"clc\n",
"// given data\n",
"\n",
"Co=120000.0 // cost in Rs\n",
"N=5 // useful life\n",
"T=40/100.0 // tax rate \n",
"i=9/100.0 // interest rate\n",
"Earning=[33000.0,35000.0,37000.0,39000,41000.0]\n",
"Depreciate=Co/N // depreciation in  Rs\n",
"pretax=zeros(5)\n",
"discshfl=zeros(5)\n",
"for x = 2:6\n",
"    pretax=Earning(x-1)-Depreciate\n",
"    tax=0.4*pretax\n",
"    ernng=pretax-0.4*pretax\n",
"    cashf=ernng+Depreciate\n",
"    discshfl(x-1)=cashf/(1+i)**(x-1)\n",
"end\n",
"netdiscntincm=sum(discshfl) // net discount income in Rs\n",
"NPV=netdiscntincm-Co // NPV\n",
"printf( 'NPV of dryer is Rs %.2f',NPV)\n",
"\n",
"// The answer in the book is wrong as the value of discounted cashflow is incorrect\n",
"    "
   ]
   }
,
{
		   "cell_type": "markdown",
		   "metadata": {},
		   "source": [
			"## Example 14.1: Future_value_of_investment.sce"
		   ]
		  },
  {
"cell_type": "code",
	   "execution_count": null,
	   "metadata": {
	    "collapsed": true
	   },
	   "outputs": [],
"source": [
"clc\n",
"// given data\n",
"P=2000 // in rs\n",
"i=12 // interest rate in %\n",
"n=6 // time in years\n",
"\n",
"F=P*(1+i/100.0)**n // Future value of investment\n",
"\n",
"printf('The amount will be Rs %.0f',F)"
   ]
   }
,
{
		   "cell_type": "markdown",
		   "metadata": {},
		   "source": [
			"## Example 14.20: The_Book_value.sce"
		   ]
		  },
  {
"cell_type": "code",
	   "execution_count": null,
	   "metadata": {
	    "collapsed": true
	   },
	   "outputs": [],
"source": [
"clc\n",
"// given data\n",
"\n",
"Co=300000 // cost in Rs\n",
"S=20000.0 // salvage value in Rs\n",
"N=15 // useful life\n",
"\n",
"D=(Co-S)/N // Depreciation\n",
"BV=Co // Book Value\n",
"for i =1:N\n",
"    BV=BV-D;\n",
"    printf(' The Book value at the end of %i th year is Rs %.2f\n',i,BV)\n",
"end"
   ]
   }
,
{
		   "cell_type": "markdown",
		   "metadata": {},
		   "source": [
			"## Example 14.2: number_of_years.sce"
		   ]
		  },
  {
"cell_type": "code",
	   "execution_count": null,
	   "metadata": {
	    "collapsed": true
	   },
	   "outputs": [],
"source": [
"clc\n",
"\n",
"// given data\n",
"\n",
"P=10.0 // in lakh rs\n",
"i=12.25 // interest rate in %\n",
"F=20 // final amount in lakh rs\n",
"\n",
"n=log(F/P)/log(1+i/100.0) // time in years\n",
"\n",
"printf('The number of years is %.2f years',n)\n",
"\n",
""
   ]
   }
,
{
		   "cell_type": "markdown",
		   "metadata": {},
		   "source": [
			"## Example 14.3: initial_value.sce"
		   ]
		  },
  {
"cell_type": "code",
	   "execution_count": null,
	   "metadata": {
	    "collapsed": true
	   },
	   "outputs": [],
"source": [
"clc\n",
"//given data\n",
"F=100000 // final amount in rs\n",
"i=6 // interest rate in %\n",
"n=10 // time in years\n",
"\n",
"P=F*(1/(1+i/100.0)**n) // initial amount\n",
"\n",
"printf('The initial value is Rs %.2f',P)"
   ]
   }
,
{
		   "cell_type": "markdown",
		   "metadata": {},
		   "source": [
			"## Example 14.4: Future_amount.sce"
		   ]
		  },
  {
"cell_type": "code",
	   "execution_count": null,
	   "metadata": {
	    "collapsed": true
	   },
	   "outputs": [],
"source": [
"clc\n",
"//given data\n",
"A=500 // annual amount invested each year in rs\n",
"i=9 // interest rate in %\n",
"n=6 // time in years\n",
"\n",
"F=A*(((1+i/100.0)**n)-1)/(i/100.0) // future amount in rs\n",
"\n",
"printf('The Future amount will be Rs %.0f ',F)"
   ]
   }
,
{
		   "cell_type": "markdown",
		   "metadata": {},
		   "source": [
			"## Example 14.5: amount_deposited_each_year.sce"
		   ]
		  },
  {
"cell_type": "code",
	   "execution_count": null,
	   "metadata": {
	    "collapsed": true
	   },
	   "outputs": [],
"source": [
"clc\n",
"//given data\n",
"F=12000 // Total amount in rs\n",
"i=9 // interest rate in %\n",
"n=4 // time in years\n",
"\n",
"A=F*(i/100.0)/(((1+i/100.0)**n)-1) // \n",
"\n",
"printf('The amount deposited each year should be Rs %i',A)"
   ]
   }
,
{
		   "cell_type": "markdown",
		   "metadata": {},
		   "source": [
			"## Example 14.6: Amount_spent_on_replacement.sce"
		   ]
		  },
  {
"cell_type": "code",
	   "execution_count": null,
	   "metadata": {
	    "collapsed": true
	   },
	   "outputs": [],
"source": [
"clc\n",
"//given data\n",
"A=30000.0 // amount save each year in rs\n",
"i=10/100.0 // interest rate \n",
"n=8 // time in years\n",
"\n",
"P=A*(((1+i)**n)-1)/(i*((1+i)**n)) // amount spent on replacement in rs  \n",
"printf('Amount spent on replacement is Rs %i',P)"
   ]
   }
,
{
		   "cell_type": "markdown",
		   "metadata": {},
		   "source": [
			"## Example 14.7: final_amount_after_10_years.sce"
		   ]
		  },
  {
"cell_type": "code",
	   "execution_count": null,
	   "metadata": {
	    "collapsed": true
	   },
	   "outputs": [],
"source": [
"clc\n",
"//given data\n",
"i=12/100.0 // interest rate \n",
"n=10 // time in years\n",
"\n",
"time=100.0 // days geyser is used in year\n",
"effi=0.9 // efficiency of geyser\n",
"w=100.0 // weight of water in kg\n",
"C=4.2 // heat capacity in kJ/kg-degree C\n",
"theta=60-15 // temperature difference in C\n",
"cost=4 // cost of electricity per kWh\n",
"\n",
"Elec=(1/effi)*w*C*theta/3600.0 // electricity used in kWh/day\n",
"\n",
"\n",
"\n",
"A=Elec*time*cost // annual saving in Rs\n",
"\n",
"P=A*(((1+i)**n)-1)/(i*((1+i)**n)) // final amount in rs\n",
"\n",
"printf('The final amount after 10 years is Rs %i',P)\n",
"\n",
"// the answer is slightly different in textbook due to approximation while in scilab answers are precise\n",
"end\n",
"\n",
""
   ]
   }
,
{
		   "cell_type": "markdown",
		   "metadata": {},
		   "source": [
			"## Example 14.8: unit_cost_of_electricity_production.sce"
		   ]
		  },
  {
"cell_type": "code",
	   "execution_count": null,
	   "metadata": {
	    "collapsed": true
	   },
	   "outputs": [],
"source": [
"clc\n",
"// given data\n",
"\n",
"P=200000.0 //principal value in rs\n",
"i=10/100.0 // interest rate \n",
"n=25.0 // time in years\n",
"L=2.0 // power produced  in kW\n",
"\n",
"A=P*(i*(1+i)**n)/(-1+(1+i)**n) // annualised capital cost in rs\n",
"\n",
"maintcost=P*0.05 // annual maintainence cost\n",
"Totalcost=A+maintcost //  total annual cost\n",
"\n",
"Elec=L*0.25*10*365 // annual electricity production\n",
"\n",
"Cost=Totalcost/Elec // unit cost of electricity production\n",
"\n",
"printf('unit cost of electricity production is Rs %.1f',Cost)"
   ]
   }
,
{
		   "cell_type": "markdown",
		   "metadata": {},
		   "source": [
			"## Example 14.9: present_worth.sce"
		   ]
		  },
  {
"cell_type": "code",
	   "execution_count": null,
	   "metadata": {
	    "collapsed": true
	   },
	   "outputs": [],
"source": [
"clc\n",
"// given data\n",
"\n",
"G=1 //gradient per period in lakh rs\n",
"i=12/100.0 // discount rate \n",
"n=5 // time in years\n",
"A1=10 // payment at end of 1st year in lakhs rs\n",
"loan=40 // load applied for in lakhs\n",
"\n",
"\n",
"AGin=(1/i)-5*1/(-1+(1+i)**n) // gradient to uniform series conversion factor\n",
"\n",
"Ag=A1+G*AGin // in lakhs Rs\n",
"\n",
"Pg=Ag*(-1+(1+i)**n)/(i*(1+i)**n) // present worth in lakhs rs\n",
"\n",
"printf( 'The present worth is Rs %.2f Lakh',Pg)\n",
"\n",
"if (Pg*0.85<loan)\n",
"    printf( '\n Loan is not given as amount is less than applied for loan')\n",
"\n",
"else\n",
"printf( '\n Loan is given' )\n",
"end"
   ]
   }
],
"metadata": {
		  "kernelspec": {
		   "display_name": "Scilab",
		   "language": "scilab",
		   "name": "scilab"
		  },
		  "language_info": {
		   "file_extension": ".sce",
		   "help_links": [
			{
			 "text": "MetaKernel Magics",
			 "url": "https://github.com/calysto/metakernel/blob/master/metakernel/magics/README.md"
			}
		   ],
		   "mimetype": "text/x-octave",
		   "name": "scilab",
		   "version": "0.7.1"
		  }
		 },
		 "nbformat": 4,
		 "nbformat_minor": 0
}
