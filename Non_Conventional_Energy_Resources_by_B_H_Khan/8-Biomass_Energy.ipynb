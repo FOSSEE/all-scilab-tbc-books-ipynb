{
"cells": [
 {
		   "cell_type": "markdown",
	   "metadata": {},
	   "source": [
       "# Chapter 8: Biomass Energy"
	   ]
	},
{
		   "cell_type": "markdown",
		   "metadata": {},
		   "source": [
			"## Example 8.1: total_volume_of_digester.sce"
		   ]
		  },
  {
"cell_type": "code",
	   "execution_count": null,
	   "metadata": {
	    "collapsed": true
	   },
	   "outputs": [],
"source": [
"clc\n",
"// given data\n",
"Gascook=5*0.227 // gas required for cooking in m^3/day\n",
"Gaslight=0.126*2*3 // gas required for lighting in m^3/day\n",
"Totalgasreq=Gascook+Gaslight // in m^3/day\n",
"gasperday=0.34*0.18*7 // in m^3/day\n",
"\n",
"n=1+Totalgasreq/gasperday // no. of cows\n",
"printf('The number of cows is %i',n)\n",
"cowfeed=7*n // in kg\n",
"slurry=cowfeed*2.0/1090 // in m^3\n",
"totalslurry=50.0*slurry // in m^3\n",
"reqvolume=totalslurry/0.9 \n",
"printf('\n The total volume of digester is %.2f m^3',reqvolume)"
   ]
   }
,
{
		   "cell_type": "markdown",
		   "metadata": {},
		   "source": [
			"## Example 8.2: size_of_biogas_plant.sce"
		   ]
		  },
  {
"cell_type": "code",
	   "execution_count": null,
	   "metadata": {
	    "collapsed": true
	   },
	   "outputs": [],
"source": [
"clc\n",
"// given data\n",
"Gaslight=10*0.227*4 // gas required for lighting in m^3/day\n",
"Eleccomp=10*250*6*60*60/1000000.0 // electrical energy required by computers in MJ\n",
"effith=0.25 // thermal efficieny\n",
"efficonv=0.80 // conversion efficiency\n",
"Heat=23.0 // heating value of biogas in MJ/m^3\n",
"rho=1090.0 // slurry density in kg/m^3\n",
"Engineinput=Eleccomp/(effith*efficonv)\n",
"\n",
"energypump=746*2*2*60*60/1000000.0 // mechanical energy required for pumping in MJ\n",
"themalinput=energypump/effith  // required thermal input in MJ\n",
"totalinput=themalinput+Engineinput // total thermal input required by engine\n",
"\n",
"Volreq=totalinput/Heat // volume required per day in m^3/day\n",
"Totalrq=Volreq+Gaslight // total gas required in m^3 /day\n",
"\n",
"n=Totalrq/(7*0.18*0.34) // solid mass is 18% and n is number of cows required\n",
"n=round(n)\n",
"printf('The number of cows is %i',n)\n",
"feed=7*n // daily feed in kg\n",
"slurry=2*feed // in kg\n",
"volslurry=slurry/rho // volume of slurry added per day in m^3\n",
"totalvol=50*volslurry/0.9 // total volume for 50 days in m^3 when 90 % is occupied by slurry\n",
"\n",
"printf('\n The size of biogas plant is %.2f m^3',totalvol)\n",
"\n",
"\n",
"\n",
""
   ]
   }
,
{
		   "cell_type": "markdown",
		   "metadata": {},
		   "source": [
			"## Example 8.3: gas_holder_capacity.sce"
		   ]
		  },
  {
"cell_type": "code",
	   "execution_count": null,
	   "metadata": {
	    "collapsed": true
	   },
	   "outputs": [],
"source": [
"clc\n",
"// given data\n",
"Voldaily=1200 // daily production in m^3/day\n",
"prodrate=Voldaily/24.0 // gas production rate per hour\n",
"consrate=Voldaily/6.0 //gas consumtion rate per hour\n",
"Vg1=(consrate-prodrate)*2 // gas holder size required for 2 hours in litres\n",
"Vg2=prodrate*9 // gas holder size for 9 hours without consumption in litres\n",
"if Vg1>Vg2\n",
"    Vgmax=Vg1\n",
"else\n",
"    Vgmax=Vg2\n",
"Vg=Vgmax*1.25 // required gas holder with 25 % safety margin in litres\n",
"printf('\n required gas holder size is %.2f litres',Vg)\n",
"Capacity=Vg/Voldaily // required gas holder capacity\n",
"\n",
"printf('\n required gas holder capacity is %.2f %%',Capacity*100)\n",
"    "
   ]
   }
,
{
		   "cell_type": "markdown",
		   "metadata": {},
		   "source": [
			"## Example 8.4: total_thermal_power.sce"
		   ]
		  },
  {
"cell_type": "code",
	   "execution_count": null,
	   "metadata": {
	    "collapsed": true
	   },
	   "outputs": [],
"source": [
"clc\n",
"// given data\n",
"drymattrprd=2 // dry matter produced in kg/day/cow\n",
"gasyield=0.22 // biogas yield in m^3 /kg\n",
"drymttr=18/100.0 // dry matter in cowdung\n",
"rho=1090 // slurry density in kg/m^3\n",
"effibrnr=0.6 // burner efficiency\n",
"Heat=23.0 // heating value of biogas in MJ/m^3\n",
"\n",
"dungprd=drymattrprd*2/0.18 // dung produce in kg/day by 2 cows\n",
"slurry=2*dungprd // slurry produce in kg/day\n",
"volslurry=slurry/rho // volume of slurry in m^3\n",
"totalslurry=30*volslurry // for 30 days slurry in m^3\n",
"digestersize=totalslurry/0.85 // in m^3\n",
"printf('the volume of digester is %.2f m^3',digestersize)\n",
"\n",
"gasprd=drymattrprd*2*gasyield // gas produced in m^3/day\n",
"\n",
"Energytherm=gasprd*Heat*effibrnr // total thermal energy available in MJ/day\n",
"\n",
"\n",
"thermalpower=Energytherm*1000000/(24*60*60) // in watts\n",
"\n",
"printf (' \n total thermal power is %.2f W',thermalpower)\n",
"\n",
"\n",
"\n",
"\n",
""
   ]
   }
],
"metadata": {
		  "kernelspec": {
		   "display_name": "Scilab",
		   "language": "scilab",
		   "name": "scilab"
		  },
		  "language_info": {
		   "file_extension": ".sce",
		   "help_links": [
			{
			 "text": "MetaKernel Magics",
			 "url": "https://github.com/calysto/metakernel/blob/master/metakernel/magics/README.md"
			}
		   ],
		   "mimetype": "text/x-octave",
		   "name": "scilab",
		   "version": "0.7.1"
		  }
		 },
		 "nbformat": 4,
		 "nbformat_minor": 0
}
