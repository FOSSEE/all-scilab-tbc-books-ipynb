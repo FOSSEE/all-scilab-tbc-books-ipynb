{
"cells": [
 {
		   "cell_type": "markdown",
	   "metadata": {},
	   "source": [
       "# Chapter 6: Solar Photovoltaic Systems"
	   ]
	},
{
		   "cell_type": "markdown",
		   "metadata": {},
		   "source": [
			"## Example 6.1: fermi_level.sce"
		   ]
		  },
  {
"cell_type": "code",
	   "execution_count": null,
	   "metadata": {
	    "collapsed": true
	   },
	   "outputs": [],
"source": [
"clc\n",
"// Given data \n",
"\n",
"T=27 +273 // temperature converted in kelvin\n',\n",
"NV=1e22 // effective density of states in valence band in cm^(-3)\n',\n",
"NA=1e19 // acceptor density in cm^(-3)\n',\n",
"k=8.629*10**(-5) // boltzmann constant in eV/K\n',\n",
"EFV=k*T*log(NV/NA) // closeness of fermi level i.e Ef-Ev\n',\n",
"printf('Closeness of fermi level with valence bond is %.4f eV',EFV)\n",
""
   ]
   }
,
{
		   "cell_type": "markdown",
		   "metadata": {},
		   "source": [
			"## Example 6.2: optimum_wavelength.sce"
		   ]
		  },
  {
"cell_type": "code",
	   "execution_count": null,
	   "metadata": {
	    "collapsed": true
	   },
	   "outputs": [],
"source": [
"// Given data :\n",
"clc\n",
"clear\n",
"E =2.42 // Band gap in eV\n",
"hc=1.24 // planck's constant * speed of light\n",
"// solution\n",
"Lambda=1.24/E // in micro-meter usinf eq 6.4\n",
"\n",
"printf( 'The optimum wavelength is %.3f micro meter',Lambda )"
   ]
   }
,
{
		   "cell_type": "markdown",
		   "metadata": {},
		   "source": [
			"## Example 6.3: number_of_modules.sce"
		   ]
		  },
  {
"cell_type": "code",
	   "execution_count": null,
	   "metadata": {
	    "collapsed": true
	   },
	   "outputs": [],
"source": [
"clc\n",
"clear\n",
"// Given data :\n",
"\n",
"Pout=1*735 // motor power output in W\n",
"Peffi=0.85 // motor efficiency\n",
"cellarea=9*4*125*125e-6 // area in m^2 \n",
"Rad=1000 //incident radiation in kW/m^2\n",
"celleffi=0.12 // cell efficiency\n",
"\n",
"// soln.\n",
"Pin=Pout/Peffi // power req by motor in W\n",
"N=Pin/(Rad*cellarea*celleffi) // number of modules\n",
"\n",
"printf('%.f number of modules are required',N)"
   ]
   }
,
{
		   "cell_type": "markdown",
		   "metadata": {},
		   "source": [
			"## Example 6.4: time_required.sce"
		   ]
		  },
  {
"cell_type": "code",
	   "execution_count": null,
	   "metadata": {
	    "collapsed": true
	   },
	   "outputs": [],
"source": [
"clc\n",
"clear\n",
"// given:\n",
"noMPPTpower=10*8 // power without MPPT in W from fig 6.25\n",
"MaxP=25*5 // maximum power by PV module in W from fig 6.25\n",
"effi=0.95 // efficiency of MPPT\n",
"MPPTcost=4000 // Cost in rupees\n",
"// Soln\n",
"Pact=MaxP*effi // actual power produced in W\n",
"Psurplus=Pact-noMPPTpower // Surplus power in W\n",
"t=MPPTcost/(3*Psurplus/1000) // time required in hours \n",
"printf('time required is %.1f hours',t)"
   ]
   }
],
"metadata": {
		  "kernelspec": {
		   "display_name": "Scilab",
		   "language": "scilab",
		   "name": "scilab"
		  },
		  "language_info": {
		   "file_extension": ".sce",
		   "help_links": [
			{
			 "text": "MetaKernel Magics",
			 "url": "https://github.com/calysto/metakernel/blob/master/metakernel/magics/README.md"
			}
		   ],
		   "mimetype": "text/x-octave",
		   "name": "scilab",
		   "version": "0.7.1"
		  }
		 },
		 "nbformat": 4,
		 "nbformat_minor": 0
}
