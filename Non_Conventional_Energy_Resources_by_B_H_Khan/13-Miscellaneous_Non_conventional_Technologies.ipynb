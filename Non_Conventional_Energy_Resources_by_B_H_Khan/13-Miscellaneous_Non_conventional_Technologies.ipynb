{
"cells": [
 {
		   "cell_type": "markdown",
	   "metadata": {},
	   "source": [
       "# Chapter 13: Miscellaneous Non conventional Technologies"
	   ]
	},
{
		   "cell_type": "markdown",
		   "metadata": {},
		   "source": [
			"## Example 13.1: Maximum_Power_output.sce"
		   ]
		  },
  {
"cell_type": "code",
	   "execution_count": null,
	   "metadata": {
	    "collapsed": true
	   },
	   "outputs": [],
"source": [
"clc\n",
"// given data\n",
"A=0.25 // area in m^2\n",
"d=0.5 // distance between electrodes in m \n",
"B=1.8 // flux density in Wb/m^2\n",
"u=1200.0 // average gas velocity in m/s\n",
"sigma=10.0 // mho/m\n",
"\n",
"Vo=B*u*d //  in Volts\n",
"Pmax=1*sigma*(u**2)*(B**2)*A*d/(4.0*10**6) //  in MW\n",
"\n",
"printf('Maximum Power output %.3f MW',Pmax)"
   ]
   }
],
"metadata": {
		  "kernelspec": {
		   "display_name": "Scilab",
		   "language": "scilab",
		   "name": "scilab"
		  },
		  "language_info": {
		   "file_extension": ".sce",
		   "help_links": [
			{
			 "text": "MetaKernel Magics",
			 "url": "https://github.com/calysto/metakernel/blob/master/metakernel/magics/README.md"
			}
		   ],
		   "mimetype": "text/x-octave",
		   "name": "scilab",
		   "version": "0.7.1"
		  }
		 },
		 "nbformat": 4,
		 "nbformat_minor": 0
}
