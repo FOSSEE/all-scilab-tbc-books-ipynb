{
"cells": [
 {
		   "cell_type": "markdown",
	   "metadata": {},
	   "source": [
       "# Chapter 4: Solar Energy Basics"
	   ]
	},
{
		   "cell_type": "markdown",
		   "metadata": {},
		   "source": [
			"## Example 4.1: radiation_angle.sce"
		   ]
		  },
  {
"cell_type": "code",
	   "execution_count": null,
	   "metadata": {
	    "collapsed": true
	   },
	   "outputs": [],
"source": [
"// given data\n",
"clc\n",
"n=319 // 15th November\n",
"Gama=30 // angle in degree \n",
"Beta=45 // angle in degree\n",
"phi=18.9  // latitude in degree\n",
"solartime=13.5-4*(81.733-72.816)/60 +14.74/60 // in hours\n",
"delta=23.45*(sin(360.0*(284.0+n)/365.0)) // in degree\n",
"B=(360.0*(n-81)/364)\n",
"E=(9.87*sin(2*B)-7.53*cos(B)-15*sin(B))\n",
"w=(solartime-12)*15 // hour angle\n",
"theta=-%i*acos(((cos(phi)*cos(Beta)+sin(phi)*sin(Beta)*cos(Gama))*cos(delta)*cos(w) + cos(delta)*sin(w)*sin(Beta)*sin(Gama) + sin(delta)*(sin(phi)*cos(Beta)-cos(phi)*sin(Beta)*cos(Gama)))*180/%pi)\n",
"\n",
"printf('the angle is %.2f degrees',theta)\n",
"\n",
"\n",
"// The answer in the textbook is slightly different due to approximations"
   ]
   }
,
{
		   "cell_type": "markdown",
		   "metadata": {},
		   "source": [
			"## Example 4.2: daylight_hours.sce"
		   ]
		  },
  {
"cell_type": "code",
	   "execution_count": null,
	   "metadata": {
	    "collapsed": true
	   },
	   "outputs": [],
"source": [
"// given data\n",
"clc\n",
"n1=1 // 1st january\n",
"n2=182 // july 1\n",
"\n",
"phi=34.083  //  latitude in degree\n",
"\n",
"delta1=23.45*sin((%pi/180)*(360.0*(284.0+n1)/365.0)) // in degree\n",
"delta2=23.45*sin(((%pi/180)*360.0*(284.0+n2)/365.0)) // in degree\n",
"\n",
"td1=(2.0/15)*(acos((tan(phi)/tan(delta1)))*180/%pi) // daylight hours for january 1\n",
"td2=(2.0/15)*(acos((tan(phi)/tan(delta2)))*180/%pi) // daylight hours for july 1\n",
"\n",
"printf ('daylight hours for january 1 are %.2f hours',td1)\n",
"printf (' \n daylight hours for july 1 are %.2f hours',td2)\n",
"\n",
"// the answers are slightly different in textbook due to approximation while here ansers are precise"
   ]
   }
,
{
		   "cell_type": "markdown",
		   "metadata": {},
		   "source": [
			"## Example 4.3: monthly_average.sce"
		   ]
		  },
  {
"cell_type": "code",
	   "execution_count": null,
	   "metadata": {
	    "collapsed": true
	   },
	   "outputs": [],
"source": [
"// given data\n",
"clc\n",
"\n",
"a=0.25 // constant for delhi from table 4.1 \n",
"b=0.57 // constant for delhi from table 4.1 \n",
"pi=27.166 // latitute in degrees\n",
"n=17 // day\n",
"nbar=7 // sunshine hours\n",
"\n",
"dlta=23.45*(sind((360.0*(284.0+n)/365.0))) // in degree\n",
"\n",
"wt=acosd((-tand(pi)*(tand(dlta)))) // hour angle at sunrise\n",
"Nbar=(2*(wt)/15.0)// day length\n",
"\n",
"Ho=3600*(24.0/%pi)*1.367*(1+0.033*cosd((360.0*n/365)))*(cosd(pi)*cosd(dlta)*sind(wt)+1.3728*sind(dlta)*sind(pi)) // in kj/m^2 per day\n",
"\n",
"Hg=Ho*(a+b*(nbar/Nbar))  // in kj/m^2 per day\n",
"printf('The monthly average is %.2f in kj/m^2 per day',Hg)\n",
"\n",
"// the answer in the book is slightly different due to approximations"
   ]
   }
,
{
		   "cell_type": "markdown",
		   "metadata": {},
		   "source": [
			"## Example 4.4: beam_radiatio.sce"
		   ]
		  },
  {
"cell_type": "code",
	   "execution_count": null,
	   "metadata": {
	    "collapsed": true
	   },
	   "outputs": [],
"source": [
"// given data\n",
"clc\n",
"Hg=14450.418 // in kj/m^2 per day from previous example\n",
"Ho=22926.408 // in kj/m^2 per day from previous example\n",
"KT=Hg/Ho // unitless\n",
"Hd=Hg*(1.354-1.570*KT) // in kj/m^2 per day\n",
"Hb= Hg-Hd // in kj/m^2 per day\n",
"\n",
"printf('Monthly average of daily diffused is %.2f in kj/m^2 per day',Hd)\n",
"printf('\n beam radiation is %.2f in kj/m^2 per day',Hb)\n",
"\n",
"// the solution inthe textbook is slighlty different as the values from previous examples are used which too are incorrect"
   ]
   }
,
{
		   "cell_type": "markdown",
		   "metadata": {},
		   "source": [
			"## Example 4.5: hourly_diffuse.sce"
		   ]
		  },
  {
"cell_type": "code",
	   "execution_count": null,
	   "metadata": {
	    "collapsed": true
	   },
	   "outputs": [],
"source": [
"// given data\n",
"clc\n",
"// most of the data is used is from previous example:\n",
"phi=27.166 // in degree\n",
"n=17 // day\n",
"ws=78.66 // degrees\n",
"dlta=-20.96 // in degrees\n",
"Ho=22926.408 // kj/m^2 per day\n",
"Hg=14450.418 // kj/m^2 per day\n",
"Hd=5266.2473 // kj/m^2 per day\n",
"\n",
"w=(11.5-12)*15 // in degrees\n",
"\n",
"Io=3600*1.367*(1+0.033*cosd(360*17/365.0))*(cosd((phi))*cosd((dlta))*cosd((w)))+sind((dlta))*sind((phi))\n",
"\n",
"a=0.409+0.5016*sind(ws-60)\n",
"b=0.6609-0.4767*sind(ws-60)\n",
"\n",
"Ig=Hg*(a+b*cosd(w))*Io/Ho // in kJ/m^2-h\n",
"\n",
"printf('The monthly average of hourly global radiation is %.2f kJ/m^2-h',Ig)\n",
"\n",
"adash=0.4922+(0.27/(Hd/Hg))\n",
"bdash=2*(1-adash)*(sind(ws)-1.7328*cosd(78.66))/(1.7328-0.5*sind(2*78.66)) \n",
"\n",
"\n",
"Id=5259.6*(1.2321-0.3983*cosd((w)))*Io/Ho // kJ/m^2-h\n",
"\n",
"\n",
"\n",
"printf('\n The hourly diffuse radiations are %.2f kJ/m^2-h',Id)\n",
"\n",
"// the solution in the textbook is wrong as the value of b and bdash are wrong"
   ]
   }
,
{
		   "cell_type": "markdown",
		   "metadata": {},
		   "source": [
			"## Example 4.6: total_radiation.sce"
		   ]
		  },
  {
"cell_type": "code",
	   "execution_count": null,
	   "metadata": {
	    "collapsed": true
	   },
	   "outputs": [],
"source": [
"// given data\n",
"clc\n",
"phi=28.58 // in degree\n",
"n=135 // may 15\n",
"dlta=23.45*sind((360*(284+n)/365.0))\n",
"\n",
"w=(13.5-12)*15 // in degrees\n",
"A=3981.6 // in W/m^2 from table 4.2\n",
"B=0.177// from table 4.2\n",
"C=0.130 // from table 4.2\n",
"\n",
"costhetaz=cosd(phi)*cosd(dlta)*cosd(w)+sind(dlta)*sind(phi)\n",
"\n",
"Ibn=A*exp(-B/0.922)// kJ/m^2-h\n",
"\n",
"\n",
"Id=C*Ibn // kJ/m^2-h\n",
"\n",
"printf('The diffused radiation is %.2f kJ/m^2-h',Id)\n",
"Ib=Ibn*0.922 // in kJ/m^2-h\n",
"\n",
"printf('\n The beam radiation is %.2f kJ/m^2-h',Ib)\n",
"Ig=Ib+Id // in kJ/m^2-h\n",
"\n",
"printf('\n The global radiation is %.2f kJ/m^2-h',Ig)"
   ]
   }
,
{
		   "cell_type": "markdown",
		   "metadata": {},
		   "source": [
			"## Example 4.7: Monthly_average.sce"
		   ]
		  },
  {
"cell_type": "code",
	   "execution_count": null,
	   "metadata": {
	    "collapsed": true
	   },
	   "outputs": [],
"source": [
"// given data\n",
"clc\n",
"phi=28.58 // in degree\n",
"B=30 // in degree\n",
"n=318 // november 14\n",
"Hg=16282.8 // in kJ/m^2-day from Table C1 appendix C\n",
"Hd=4107.6 // in kJ/m^2-day from Table C2 appendix C\n",
"\n",
"dlta=23.45*(sind((360.0*(284.0+n)/365.0))) // in degrees\n",
"\n",
"ws=acosd(tand(phi)*(atan(dlta))) // hour angle at sunrise\n",
"\n",
"Rb=(ws*sind(dlta)*sind(phi-B)+cosd((dlta))*sind(ws)*cosd(phi-B))/(ws*sind(dlta)*sind(phi)+cosd((dlta))*sind(ws)*cosd((phi)))\n",
"\n",
"Rd=(1+cosd((B)))/2 \n",
"\n",
"Rr=0.2*(1-cosd((B)))/2 \n",
"\n",
"Ht=((1-(Hd/Hg))*1.56+(Hd/Hg)*Rd + Rr)*Hg\n",
"printf('Monthly average total radiation is %.2f kJ/m^2-h',Ht)"
   ]
   }
],
"metadata": {
		  "kernelspec": {
		   "display_name": "Scilab",
		   "language": "scilab",
		   "name": "scilab"
		  },
		  "language_info": {
		   "file_extension": ".sce",
		   "help_links": [
			{
			 "text": "MetaKernel Magics",
			 "url": "https://github.com/calysto/metakernel/blob/master/metakernel/magics/README.md"
			}
		   ],
		   "mimetype": "text/x-octave",
		   "name": "scilab",
		   "version": "0.7.1"
		  }
		 },
		 "nbformat": 4,
		 "nbformat_minor": 0
}
