{
"cells": [
 {
		   "cell_type": "markdown",
	   "metadata": {},
	   "source": [
       "# Chapter 12: Oxidation and Corrosion"
	   ]
	},
{
		   "cell_type": "markdown",
		   "metadata": {},
		   "source": [
			"## Example 12.1: Find_the_distance_at_which_magnisium_anode_capable_of_giving_2MA.sce"
		   ]
		  },
  {
"cell_type": "code",
	   "execution_count": null,
	   "metadata": {
	    "collapsed": true
	   },
	   "outputs": [],
"source": [
"//Exam:12.1\n",
"clc;\n",
"clear;\n",
"close;\n",
"D=320*10^-3;//in meter\n",
"L=1;//in meter\n",
"A=%pi*D*L;//Surface area in meter^2\n",
"l=ceil (200/A);\n",
"disp(l,'the distance at which magnisium anode capable of giving 2MA (in meters)=');"
   ]
   }
,
{
		   "cell_type": "markdown",
		   "metadata": {},
		   "source": [
			"## Example 12.2: Quality_of_magnesium_required_per_square_meter_of_the_hull_surface.sce"
		   ]
		  },
  {
"cell_type": "code",
	   "execution_count": null,
	   "metadata": {
	    "collapsed": true
	   },
	   "outputs": [],
"source": [
"//Exam:12.2\n",
"clc;\n",
"clear;\n",
"close;\n",
"W=0.0243;//1 mole of magnesium weight(in Kg)\n",
"C=2*96490;//used charge (in A-s)\n",
"A=15*10^(-3);//current density (in A/metre2)\n",
"t=10;//time (in years)\n",
"T=10*365*24*3600;//time (in sec)\n",
"//amount of magnesium required =charge required per m2 of hull surface for a design life of 10 years/(used charge for anode)\n",
"Mg_required=W*A*T/C;//magnesium required per square meter of the hull surface for a design life of 10 years\n",
"disp(Mg_required,'magnesium required per square meter of the hull surface for a design life of 10 years(in Kg/m2)=');"
   ]
   }
],
"metadata": {
		  "kernelspec": {
		   "display_name": "Scilab",
		   "language": "scilab",
		   "name": "scilab"
		  },
		  "language_info": {
		   "file_extension": ".sce",
		   "help_links": [
			{
			 "text": "MetaKernel Magics",
			 "url": "https://github.com/calysto/metakernel/blob/master/metakernel/magics/README.md"
			}
		   ],
		   "mimetype": "text/x-octave",
		   "name": "scilab",
		   "version": "0.7.1"
		  }
		 },
		 "nbformat": 4,
		 "nbformat_minor": 0
}
