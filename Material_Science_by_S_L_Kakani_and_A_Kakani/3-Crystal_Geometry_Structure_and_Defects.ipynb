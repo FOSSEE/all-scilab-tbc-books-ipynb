{
"cells": [
 {
		   "cell_type": "markdown",
	   "metadata": {},
	   "source": [
       "# Chapter 3: Crystal Geometry Structure and Defects"
	   ]
	},
{
		   "cell_type": "markdown",
		   "metadata": {},
		   "source": [
			"## Example 3.10: Find_the_angle_Between_normals_to_the_planes.sce"
		   ]
		  },
  {
"cell_type": "code",
	   "execution_count": null,
	   "metadata": {
	    "collapsed": true
	   },
	   "outputs": [],
"source": [
"//Exam:3.10\n",
"clc;\n",
"clear;\n",
"close;\n",
"//Miller indices of plane\n",
"h_1=1;\n",
"k_1=1;\n",
"l_1=1;\n",
"h_2=1;\n",
"k_2=2;\n",
"l_2=1;\n",
"angle=acosd((h_1*h_2+k_1*k_2+l_1*l_2)/(((h_1^2+k_1^2+l_1^2)^(1/2))*((h_2^2+k_2^2+l_2^2)^(1/2))));\n",
"disp(angle,'angle Between normals to the planes (111) and (121)(in degrees)=');"
   ]
   }
,
{
		   "cell_type": "markdown",
		   "metadata": {},
		   "source": [
			"## Example 3.11: Determine_the_packing_efficiency_and_density_of_sodium_chloride.sce"
		   ]
		  },
  {
"cell_type": "code",
	   "execution_count": null,
	   "metadata": {
	    "collapsed": true
	   },
	   "outputs": [],
"source": [
"//Exam:3.11\n",
"clc;\n",
"clear;\n",
"close;\n",
"r_Na=0.98;//Radius of Na+(in A)\n",
"r_Cl=1.81;//Radius of Cl-(in A)\n",
"a=2*(r_Na+r_Cl);//Lattice parameter (in A)\n",
"pi=22/7;\n",
"V_i=4*(4/3)*pi*((r_Na^3)+(r_Cl^3));//Volume of ions present in unit cell\n",
"V_u=a^3;//Volume of unit cell\n",
"Apf=V_i/V_u;//Atomic packing fraction\n",
"Ef_p=(Apf)*100;//Packing efficiency(in %)\n",
"AM_sodium=22.99;//Atomic mass of sodium(in amu)\n",
"AM_chlorine=35.45;//Atomic mass of chlorine(in amu)\n",
"M_1=4*(AM_sodium+AM_chlorine)*1.66*10^(-27);//Mass of the unit cell\n",
"a_1=a*10^(-10);//Lattice parameter (in meter)\n",
"V_u1=(a_1)^3;\n",
"Density=M_1/V_u1;\n",
"disp(Ef_p,'Packing efficiency of sodium chloride(in %)=');\n",
"disp(Density,'density of sodium chloride(in Kg/m3)=');"
   ]
   }
,
{
		   "cell_type": "markdown",
		   "metadata": {},
		   "source": [
			"## Example 3.12: Calculate_the_unit_cell_dimensions_and_atomic_diameter.sce"
		   ]
		  },
  {
"cell_type": "code",
	   "execution_count": null,
	   "metadata": {
	    "collapsed": true
	   },
	   "outputs": [],
"source": [
"//Exam:3.12\n",
"clc;\n",
"clear;\n",
"close;\n",
"Density=2.7;//(in g/cm^3)\n",
"n=4;\n",
"m=26.98;//atomic weight of Al\n",
"N_a=6.023*10^(23);//avogadro number\n",
"a=((n*m/(Density*N_a))^(1/3));//Lattice parameter(in Cm)\n",
"A=a*10^(8);//Lattice parameter(in A)\n",
"disp(A,'radius(in A)=');\n",
"r=A/(2*1.414);//radius for fcp structure\n",
"disp(2*r,'Diameter(in A)=');"
   ]
   }
,
{
		   "cell_type": "markdown",
		   "metadata": {},
		   "source": [
			"## Example 3.13: Calculate_the_interplaner_distance.sce"
		   ]
		  },
  {
"cell_type": "code",
	   "execution_count": null,
	   "metadata": {
	    "collapsed": true
	   },
	   "outputs": [],
"source": [
"//Exam:3.13\n",
"clc;\n",
"clear;\n",
"close;\n",
"r=1.245;//radius of nickel (in A)\n",
"a=4*r/(2)^(1/2);//Lattice constant(in A)\n",
"//Miller indices of plane 200\n",
"h_1=2;\n",
"k_1=0;\n",
"l_1=0;\n",
"//Miller indices of plane 111\n",
"h_2=1;\n",
"k_2=1;\n",
"l_2=1;\n",
"d_200=a/((h_1^2)+(k_1^2)+(l_1^2))^(1/2);\n",
"d_111=a/((h_2^2)+(k_2^2)+(l_2^2))^(1/2);\n",
"disp(d_200,'interplaner distance of (200) plane of nickel crystal(in A)=');\n",
"disp(d_111,'interplaner distance of (111) plane of nickel crystal(in A)=');"
   ]
   }
,
{
		   "cell_type": "markdown",
		   "metadata": {},
		   "source": [
			"## Example 3.14: Find_the_number_of_atoms_per_mm2.sce"
		   ]
		  },
  {
"cell_type": "code",
	   "execution_count": null,
	   "metadata": {
	    "collapsed": true
	   },
	   "outputs": [],
"source": [
"//Exam:3.14\n",
"clc;\n",
"clear;\n",
"close;\n",
"a=3.03*10^(-7);//lattice constant(in mm)\n",
"N_100=1/(a^2);//Number of atoms in the (100) plane of a simple cubic structure\n",
"N_110=0.707/(a^2);//Number of atoms in the (110) plane of a simple cubic structure\n",
"N_111=0.58/(a^2);//Number of atoms in the (111) plane of a simple cubic structure\n",
"disp(N_100,'Number of atoms in the (100) plane of a simple cubic structure(in per mm^2)=');\n",
"disp(N_110,'Number of atoms in the (110) plane of a simple cubic structure(in per mm^2)=');\n",
"disp(N_111,'Number of atoms in the (111) plane of a simple cubic structure(in per mm^2)=');"
   ]
   }
,
{
		   "cell_type": "markdown",
		   "metadata": {},
		   "source": [
			"## Example 3.15: Determine_the_planer_density_of_Ni.sce"
		   ]
		  },
  {
"cell_type": "code",
	   "execution_count": null,
	   "metadata": {
	    "collapsed": true
	   },
	   "outputs": [],
"source": [
"//Exam:3.15\n",
"clc;\n",
"clear;\n",
"close;\n",
"r=1.245*10^(-7);//Radius of the Ni atom(in mm)\n",
"NA_100=1+(1/4)*4;//Numbers of atom in (100) plane\n",
"a=4*r/(2)^(1/2);//Lattice constant(in mm)\n",
"Area=a^2;\n",
"P_density=NA_100/Area;\n",
"disp(P_density,'the planer density of Ni (in atoms per mm^2)=');"
   ]
   }
,
{
		   "cell_type": "markdown",
		   "metadata": {},
		   "source": [
			"## Example 3.16: Calculate_the_planar_atomic_densities_of_planes.sce"
		   ]
		  },
  {
"cell_type": "code",
	   "execution_count": null,
	   "metadata": {
	    "collapsed": true
	   },
	   "outputs": [],
"source": [
"//Exam:3.16\n",
"clc;\n",
"clear;\n",
"close;\n",
"N_a1=4*(1/4)+1;//Number of atoms contained in (100) plane\n",
"r=1.75*10^(-7);//radius of lead atom (in mm)\n",
"a_1=2*2^(1/2)*r;//edge of unit  cell in case of (100) plane\n",
"PD_100=N_a1/(a_1^2);//Planar density of plane (100)\n",
"N_a2=4*(1/4)+2*(1/2);//Number of atoms contained in (110) plane\n",
"a_21=4*r;//top edge of the plane (110)\n",
"a_22=2*2^(1/2)*r;//vertical edge of the plane (110)\n",
"PD_110=N_a2/(a_21*a_22);//Planar density of plane (110)\n",
"N_a3=3*(1/6)+3/2;//Number of atom contained in (111) plane\n",
"Ar_111=4*(3^(1/2))*r^2;//area of (111) plane\n",
"PD_111=N_a3/Ar_111;//Planar density of plane (111)\n",
"disp(PD_100,'Planar density of plane 100(in atoms/mm^2)=');\n",
"disp(PD_110,'Planar density of plane 110(in atoms/mm^2)=');\n",
"disp(PD_111,'Planar density of plane 111(in atoms/mm^2)=');"
   ]
   }
,
{
		   "cell_type": "markdown",
		   "metadata": {},
		   "source": [
			"## Example 3.17: Calculate_the_linear_atomic_densities_of_planes.sce"
		   ]
		  },
  {
"cell_type": "code",
	   "execution_count": null,
	   "metadata": {
	    "collapsed": true
	   },
	   "outputs": [],
"source": [
"//Exam:3.17\n",
"clc;\n",
"clear;\n",
"close;\n",
"N_a1=(1/2)+1+(1/2);//Number of diameters of atom along (110) direction\n",
"a=3.61*10^(-7);//lattice constant of copper in mm\n",
"L_d1=2^(1/2)*a;//length of the face diagonal in case of (110) direction\n",
"p_110=N_a1/L_d1;//linear atomic density along (110) of copper crystal lattice(in atoms/mm)\n",
"N_a2=(1/2)+(1/2);//Number of diameters of atom along (111) direction\n",
"L_d2=3^(1/2)*a;//length of the face diagonal in case of (111) direction\n",
"p_111=N_a2/L_d2;//linear atomic density along (110) of copper crystal lattice(in atoms/mm)\n",
"disp(p_110,'linear atomic density along (110) of copper crystal lattice(in atoms/mm)=');\n",
"disp(p_111,'linear atomic density along (111) of copper crystal lattice(in atoms/mm)=');"
   ]
   }
,
{
		   "cell_type": "markdown",
		   "metadata": {},
		   "source": [
			"## Example 3.18: Find_lattice_constant.sce"
		   ]
		  },
  {
"cell_type": "code",
	   "execution_count": null,
	   "metadata": {
	    "collapsed": true
	   },
	   "outputs": [],
"source": [
"//Exam:3.18\n",
"clc;\n",
"clear;\n",
"close;\n",
"A=55.8;//atomic weight of Fe\n",
"n=2;//number of atoms per unit cell\n",
"N=6.02*10^(26);//Avogadro's number\n",
"p=7.87*10^3;//density of Fe(in kg/m^3)\n",
"a=((A*n/(N*p))^(1/3))*10^10;//Value of lattice constant\n",
"disp(a,'Value of lattice constant(in A)=');"
   ]
   }
,
{
		   "cell_type": "markdown",
		   "metadata": {},
		   "source": [
			"## Example 3.19: Find_the_numbers_of_atoms_per_unit_cell.sce"
		   ]
		  },
  {
"cell_type": "code",
	   "execution_count": null,
	   "metadata": {
	    "collapsed": true
	   },
	   "outputs": [],
"source": [
"//Exam:3.19\n",
"clc;\n",
"clear;\n",
"close;\n",
"a=2.9*10^(-10);//lattice parameter(in m)\n",
"A=55.8;//atomic weight of Fe\n",
"N=6.02*10^(26);//Avogadro's number\n",
"p=7.87*10^3;//density of Fe(in kg/m^3\n",
"n=(a^3)*N*p/A;//Numbers of atoms per unit cell\n",
"disp(floor(n),'Numbers of atoms per unit cell=');"
   ]
   }
,
{
		   "cell_type": "markdown",
		   "metadata": {},
		   "source": [
			"## Example 3.20: Calculate_the_line_energy_of_disslocation_in_bcc_iron.sce"
		   ]
		  },
  {
"cell_type": "code",
	   "execution_count": null,
	   "metadata": {
	    "collapsed": true
	   },
	   "outputs": [],
"source": [
"//Exam:3.20\n",
"clc;\n",
"clear;\n",
"close;\n",
"a=2.87*10^(-10);//lattice parameter for bcc iron\n",
"b=a*(3^(1/2))/2;//Magnitude of burgers vector\n",
"u=80*10^9;//shear modulus\n",
"E=(1/2)*u*b^2;//line energy of disslocation\n",
"disp(E,'line energy of disslocation(in J/m)=');"
   ]
   }
,
{
		   "cell_type": "markdown",
		   "metadata": {},
		   "source": [
			"## Example 3.22: Calculate_the_number_of_vacancies.sce"
		   ]
		  },
  {
"cell_type": "code",
	   "execution_count": null,
	   "metadata": {
	    "collapsed": true
	   },
	   "outputs": [],
"source": [
"//Exam:3.22\n",
"clc;\n",
"clear;\n",
"close;\n",
"N=6.023*10^23;//avogadro number\n",
"T=1000;//absolute temperature\n",
"R=8.314;//constant\n",
"H_f=100*1000;//enthalpy of formation of vacancies(in J/mol)\n",
"n=N*exp(-(H_f)/(R*T));//number of vacancies created during heating(in per mol)\n",
"V=5.5*10^(-6);//volume of 1 mole of the crystal in m^3\n",
"n_1=n/V;//number of vacancies created during heating(in per m^3)\n",
"disp(n_1,'number of vacancies created during heating(in per m^3)=');"
   ]
   }
,
{
		   "cell_type": "markdown",
		   "metadata": {},
		   "source": [
			"## Example 3.23: Calculate_the_surface_energy_of_copper.sce"
		   ]
		  },
  {
"cell_type": "code",
	   "execution_count": null,
	   "metadata": {
	    "collapsed": true
	   },
	   "outputs": [],
"source": [
"//Exam:3.23\n",
"clc;\n",
"clear;\n",
"close;\n",
"//bond energy per atom of copper=bond energy per bond*numbers of bond per atom*(1/2)\n",
"A=56.4*1000;//\n",
"N=6.023*10^23;//avogadro number\n",
"n_1=12;//numbers of bond per atom\n",
"n_2=3;//bonds broken at the surface\n",
"E=A*n_1/(2*N);//Energy of total bonds\n",
"E_b=E*(n_2/n_1);//Energy of broken bonds on surface\n",
"disp(E_b,'E_b');\n",
"n_a=1.77*10^19;//no. of atoms on {111} planes in copper(in m^-2)\n",
"E_c=n_a*E_b;//Surface energy (enthalpy) of copper\n",
"disp(E_c,'Surface energy (enthalpy) of copper(in J/m^2)=');"
   ]
   }
,
{
		   "cell_type": "markdown",
		   "metadata": {},
		   "source": [
			"## Example 3.24: Calculate_the_equilibrium_concentration_of_vacancies_in_aluminium.sce"
		   ]
		  },
  {
"cell_type": "code",
	   "execution_count": null,
	   "metadata": {
	    "collapsed": true
	   },
	   "outputs": [],
"source": [
"//Exam:3.24\n",
"clc;\n",
"clear;\n",
"close;\n",
"H_f=68*1000;//enthalpy of formation of vacancies(in J/mol)\n",
"T_1=0;//temp (in K)\n",
"T_2=300;//temp (in K)\n",
"R=8.314;//constant\n",
"n=exp(-H_f/(R*T_2));//equilibrium concentration of vacancies in aluminium at 300 K\n",
"disp(n,'equilibrium concentration of vacancies in aluminium at 300 K=');"
   ]
   }
,
{
		   "cell_type": "markdown",
		   "metadata": {},
		   "source": [
			"## Example 3.25: Determine_the_interplanar_spacing.sce"
		   ]
		  },
  {
"cell_type": "code",
	   "execution_count": null,
	   "metadata": {
	    "collapsed": true
	   },
	   "outputs": [],
"source": [
"//Exam:3.25\n",
"clc;\n",
"clear;\n",
"close;\n",
"Wavelength=1.54*10^(-10);//in meter\n",
"Angle=20.3;//in degree\n",
"n=1;//First order\n",
"d=Wavelength*n/(2*sind(Angle));//the interplanar spacing(in Meter)\n",
"disp(d/(10^-10),'the interplanar spacing between atomic plane(in A)=');"
   ]
   }
,
{
		   "cell_type": "markdown",
		   "metadata": {},
		   "source": [
			"## Example 3.26: Calculate_the_size_of_unit_cell.sce"
		   ]
		  },
  {
"cell_type": "code",
	   "execution_count": null,
	   "metadata": {
	    "collapsed": true
	   },
	   "outputs": [],
"source": [
"//Exam:3.26\n",
"clc;\n",
"clear;\n",
"close;\n",
"wavelength=0.58;//in Angstrom\n",
"angle=9.5;//in degree\n",
"n=1;//First order\n",
"d_200=wavelength*n/(2*sind(angle));//interplanar spacing(in Angstrom)\n",
"//Miller indices of plane\n",
"h=2;\n",
"k=0;\n",
"l=0;\n",
"a=d_200*(h^2+k^2+l^2)^(1/2);//Size of unit cell(in Angstrom)\n",
"disp(a,'Size of unit cell(in Angstrom)=');"
   ]
   }
,
{
		   "cell_type": "markdown",
		   "metadata": {},
		   "source": [
			"## Example 3.27: Calculate_the_Bragg_angle.sce"
		   ]
		  },
  {
"cell_type": "code",
	   "execution_count": null,
	   "metadata": {
	    "collapsed": true
	   },
	   "outputs": [],
"source": [
"//Exam:3.27\n",
"clc;\n",
"clear;\n",
"close;\n",
"//Miller indices of plane\n",
"h=1;\n",
"k=1;\n",
"l=1;\n",
"wavelength=0.54;//in angstrom\n",
"a=3.57;//size of a cube\n",
"n=1;\n",
"d_111=a/(h^2+k^2+l^2)^(1/2);//interplanar spacing(in Angstrom)\n",
"angle=asind(n*wavelength/(2*d_111));\n",
"disp(angle,'Bragg angle(in degree)=');"
   ]
   }
,
{
		   "cell_type": "markdown",
		   "metadata": {},
		   "source": [
			"## Example 3.28: Calculate_the_bragg_reflection_index.sce"
		   ]
		  },
  {
"cell_type": "code",
	   "execution_count": null,
	   "metadata": {
	    "collapsed": true
	   },
	   "outputs": [],
"source": [
"//Exam:3.28\n",
"clc;\n",
"clear;\n",
"close;\n",
"d=1.181;//\n",
"wavelength=1.540;//in angstrom\n",
"angle=90;//in degree\n",
"n=2*d*sind(angle)/(wavelength);//the bragg reflection index\n",
"disp(n,'bragg reflection index for BCC crystal=');"
   ]
   }
,
{
		   "cell_type": "markdown",
		   "metadata": {},
		   "source": [
			"## Example 3.29: Calculate_the_angle_for_3rd_order_reflection.sce"
		   ]
		  },
  {
"cell_type": "code",
	   "execution_count": null,
	   "metadata": {
	    "collapsed": true
	   },
	   "outputs": [],
"source": [
"//Exam:3.29\n",
"clc;\n",
"clear;\n",
"close;\n",
"n_1=1;//1st order reflection index\n",
"angle_1=10;//1st order reflection angle\n",
"n_3=3;//3rd order reflection index\n",
"//sind(angle_1)/sind(angle_3)=n_1/n_3\n",
"angle_3=asind(n_3*sind(angle_1)/n_1);//\n",
"disp(angle_3,'3rd order reflection angle=')"
   ]
   }
,
{
		   "cell_type": "markdown",
		   "metadata": {},
		   "source": [
			"## Example 3.30: Obtain_the_interplanar_spacing_and_miller_indices_of_the_reflection_plane.sce"
		   ]
		  },
  {
"cell_type": "code",
	   "execution_count": null,
	   "metadata": {
	    "collapsed": true
	   },
	   "outputs": [],
"source": [
"//Exam:3.30\n",
"clc;\n",
"clear;\n",
"close;\n",
"angle=20.3;//in degree\n",
"wavelength=1.54;//in angstrom\n",
"n=1;\n",
"a=3.16;//lattice parameter in angstrom\n",
"d=n*wavelength/(2*sind(angle));//interplanar spacing\n",
"M_indices=a^2/(d^2);\n",
"disp(d,'interplanar spacing of reflection plane');\n",
"disp(floor(M_indices),'miller indices of the reflection plane');\n",
"disp((101),(110),(011));"
   ]
   }
,
{
		   "cell_type": "markdown",
		   "metadata": {},
		   "source": [
			"## Example 3.31: Determine_interatomic_spacing.sce"
		   ]
		  },
  {
"cell_type": "code",
	   "execution_count": null,
	   "metadata": {
	    "collapsed": true
	   },
	   "outputs": [],
"source": [
"//Exam:3.31\n",
"clc;\n",
"clear;\n",
"close;\n",
"//Miller indices of plane\n",
"n=1;\n",
"h=1;\n",
"k=1;\n",
"l=1;\n",
"angle=30;//in degree\n",
"wavelength=2;//in angstrom\n",
"d=n*wavelength/(2*sind(angle));//interplanar spacing\n",
"a=d*(h^2+k^2+l^2)^(1/2);//interatomic spacing\n",
"disp(a,'interatomic spacing(in angstrom)=');"
   ]
   }
],
"metadata": {
		  "kernelspec": {
		   "display_name": "Scilab",
		   "language": "scilab",
		   "name": "scilab"
		  },
		  "language_info": {
		   "file_extension": ".sce",
		   "help_links": [
			{
			 "text": "MetaKernel Magics",
			 "url": "https://github.com/calysto/metakernel/blob/master/metakernel/magics/README.md"
			}
		   ],
		   "mimetype": "text/x-octave",
		   "name": "scilab",
		   "version": "0.7.1"
		  }
		 },
		 "nbformat": 4,
		 "nbformat_minor": 0
}
