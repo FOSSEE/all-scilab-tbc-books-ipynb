{
"cells": [
 {
		   "cell_type": "markdown",
	   "metadata": {},
	   "source": [
       "# Chapter 11: Deformation of Materials"
	   ]
	},
{
		   "cell_type": "markdown",
		   "metadata": {},
		   "source": [
			"## Example 11.1: Determine_the_value_of_critical_resolved_shear_stress.sce"
		   ]
		  },
  {
"cell_type": "code",
	   "execution_count": null,
	   "metadata": {
	    "collapsed": true
	   },
	   "outputs": [],
"source": [
"//Exam:11.1\n",
"clc;\n",
"clear;\n",
"close;\n",
"h_1=1;\n",
"k_1=1;\n",
"l_1=1;\n",
"//Miller indices of slip plane\n",
"h_2=1;\n",
"k_2=-1;\n",
"l_2=1;\n",
"//Miller indices of stress plane\n",
"h_3=1;\n",
"k_3=1;\n",
"l_3=0;\n",
"//Miller indices of slip direction\n",
"A=(h_1*h_2+k_1*k_2+l_1*l_2)/(((h_1^2+k_1^2+l_1^2)^(1/2))*((h_2^2+k_2^2+l_2^2)^(1/2)));//Value of cos(x) where x =angle between slip plane and stress plane\n",
"B=(h_1*h_3+k_1*k_3+l_1*l_3)/(((h_1^2+k_1^2+l_1^2)^(1/2))*((h_3^2+k_3^2+l_3^2)^(1/2)));//Value of cos(y) where y =angle between slip direction and stress direction\n",
"C=(1-A^2)^(1/2);//Value of sin(x)\n",
"stress=3.5;//Applied Stress in Mpa\n",
"T_cr=stress*A*B*C;//Critical resolved shear stress(in MPa)\n",
"disp(T_cr,'Critical resolved shear stress(in MPa)=');"
   ]
   }
,
{
		   "cell_type": "markdown",
		   "metadata": {},
		   "source": [
			"## Example 11.3: Find_the_yield_stress.sce"
		   ]
		  },
  {
"cell_type": "code",
	   "execution_count": null,
	   "metadata": {
	    "collapsed": true
	   },
	   "outputs": [],
"source": [
"//Exam:11.3\n",
"clc;\n",
"clear;\n",
"close;\n",
"D=0.002;//Grain diameter(in mm)\n",
"d=D*10^(-3);//Grain diameter(in m)\n",
"K=0.63;//Constant(in MNm^(-3/2))\n",
"sigma_i=80;//in MNm^-2\n",
"sigma_y=sigma_i+K*d^(-1/2);//Yield stress for a polycrystalline alloy\n",
"disp(sigma_y,'Yield stress for a polycrystalline alloy(in MN/m^2)');"
   ]
   }
,
{
		   "cell_type": "markdown",
		   "metadata": {},
		   "source": [
			"## Example 11.4: Find_the_yield_stress.sce"
		   ]
		  },
  {
"cell_type": "code",
	   "execution_count": null,
	   "metadata": {
	    "collapsed": true
	   },
	   "outputs": [],
"source": [
"//Exam:11.4\n",
"clc;\n",
"clear;\n",
"close;\n",
"sigma_y1=120;//primary yield strength of polycrystalline material(in MN*m^-2)\n",
"sigma_y2=220;//increased yield strength of polycrystalline material(in MN*m^-2)\n",
"d_1=0.04*10^(-3);//primary grain diameter(in meter)\n",
"d_2=0.01*10^(-3);//grain diameter after decreasing(in meter)\n",
"//sigma_y1=sigma_i+K*(d_1)^(-1/2)\n",
"//sigma_y2=sigma_i+K*(d_2)^(-1/2)\n",
"//putting the values and solving the equation\n",
"K=(220-120)/((d_2^(-1/2))-((d_1^(-1/2))));//constant(in MN*m(-3/2))\n",
"sigma_i=sigma_y1-K*(d_1)^(-1/2);//in MN*m^-2\n",
"d=1/((10^4)*(256/645))^(1/2);//grain diameter for grain size ASTM 9(in mm)\n",
"D=d*10^(-3);//grain diameter for grain size ASTM 9(in meter)\n",
"sigma_y=sigma_i+K*(D)^(-1/2);//Yield stress for a polycrystalline alloy for grain size ASTM 9(in MN*m^-2)\n",
"disp(ceil(sigma_y),'Yield stress for a polycrystalline alloy for grain size ASTM 9(in MN*m^-2)=');"
   ]
   }
],
"metadata": {
		  "kernelspec": {
		   "display_name": "Scilab",
		   "language": "scilab",
		   "name": "scilab"
		  },
		  "language_info": {
		   "file_extension": ".sce",
		   "help_links": [
			{
			 "text": "MetaKernel Magics",
			 "url": "https://github.com/calysto/metakernel/blob/master/metakernel/magics/README.md"
			}
		   ],
		   "mimetype": "text/x-octave",
		   "name": "scilab",
		   "version": "0.7.1"
		  }
		 },
		 "nbformat": 4,
		 "nbformat_minor": 0
}
