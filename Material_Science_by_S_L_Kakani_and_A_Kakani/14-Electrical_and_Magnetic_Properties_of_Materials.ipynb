{
"cells": [
 {
		   "cell_type": "markdown",
	   "metadata": {},
	   "source": [
       "# Chapter 14: Electrical and Magnetic Properties of Materials"
	   ]
	},
{
		   "cell_type": "markdown",
		   "metadata": {},
		   "source": [
			"## Example 14.1: Calculate_the_resistance_of_an_aluminium_wire.sce"
		   ]
		  },
  {
"cell_type": "code",
	   "execution_count": null,
	   "metadata": {
	    "collapsed": true
	   },
	   "outputs": [],
"source": [
"//Exam:14.1\n",
"clc;\n",
"clear;\n",
"close;\n",
"l=100;//length of wire\n",
"p=2.66*10^(-8);//resistivity\n",
"A=3*10^(-6);//cross sectional area\n",
"R=p*l/A;//resistance of an aluminium wire\n",
"disp(R,'resistance of an aluminium wire(in Ohm)=');"
   ]
   }
,
{
		   "cell_type": "markdown",
		   "metadata": {},
		   "source": [
			"## Example 14.2: EX14_2.sce"
		   ]
		  },
  {
"cell_type": "code",
	   "execution_count": null,
	   "metadata": {
	    "collapsed": true
	   },
	   "outputs": [],
"source": [
"//Exam:14.2\n",
"clc;\n",
"clear;\n",
"close;\n",
"R_Cu=1.56;//Resistivity of pure copper(in micro-ohm-cm)\n",
"R_CuNi = 4.06;//Resistivity of Cu containing two atomic percent (in micro-ohm-cm)\n",
"R_Ni=(R_CuNi-R_Cu)/2;//Increase in resistivity due to one atomic % Ni\n",
"R_CuAg= 1.7;//resistivity of copper, containing one atomic percent silver (in micro-ohm-cm)\n",
"R_Ag=R_CuAg-R_Cu;//Increase in resistivity due to one atomic % Ag\n",
"R_CuNiAg=R_Cu+R_Ni+3*R_Ag;//Resistivity of copper alloy containing one atomic percent Ni and 3 atomic percent Ag\n",
"disp(R_CuNiAg,'Resistivity of copper alloy containing one atomic percent Ni and 3 atomic percent Ag(in micro-ohm-cm)=')"
   ]
   }
,
{
		   "cell_type": "markdown",
		   "metadata": {},
		   "source": [
			"## Example 14.3: EX14_3.sce"
		   ]
		  },
  {
"cell_type": "code",
	   "execution_count": null,
	   "metadata": {
	    "collapsed": true
	   },
	   "outputs": [],
"source": [
"//Exam:14.3\n",
"clc;\n",
"clear;\n",
"close;\n",
"R_Cu=1.8*10^(-8);//resistivity of pure copper at room temperature \n",
"R_CuNi=7*10^(-8);//resistivity of Cu 4% Ni alloy at room temperature \n",
"R_Ni=(R_CuNi-R_Cu)/4;//resistivity due to Impurity scattering per % of Ni\n",
"disp(R_Ni,'resistivity due to impurity scattering per percent of Ni in the Cu lattice(in ohm-meter)=')"
   ]
   }
,
{
		   "cell_type": "markdown",
		   "metadata": {},
		   "source": [
			"## Example 14.4: Calculate_the_relative_dielectric_constant_of_a_barium_titanate_crystal.sce"
		   ]
		  },
  {
"cell_type": "code",
	   "execution_count": null,
	   "metadata": {
	    "collapsed": true
	   },
	   "outputs": [],
"source": [
"//Exam:14.4\n",
"clc;\n",
"clear;\n",
"close;\n",
"C=10^(-9);//capacitance(in F)\n",
"d=2*10^(-3);//distance of separation in a parallel plate condenser\n",
"E_o=8.854*10^(-12);//dielectric constant\n",
"A=(10*10^(-3))*(10*10^(-3));//area of parallel plate condenser\n",
"//C=E_o*E_r*A/d\n",
"E_r=C*d/(E_o*A);//Relative dielectric constant\n",
"disp(ceil(E_r),'Relative dielectric constant of a barium titanate crystal')"
   ]
   }
,
{
		   "cell_type": "markdown",
		   "metadata": {},
		   "source": [
			"## Example 14.5: Calculate_the_polarizatio.sce"
		   ]
		  },
  {
"cell_type": "code",
	   "execution_count": null,
	   "metadata": {
	    "collapsed": true
	   },
	   "outputs": [],
"source": [
"//Exam:14.5\n",
"clc;\n",
"clear;\n",
"close;\n",
"q=1.6*10^(-19);//charge (in C)\n",
"d_1=0.06//shift of the titanium ion from the body centre (in Å)\n",
"d_2=0.08//shift of the oxygen anions of the side faces (in Å)\n",
"d_3=0.06//shift of the oxygen anions of the top and bottom face (in Å) \n",
"D_1=d_1*10^(-10);//shift of the titanium ion from the body centre (in m)\n",
"D_2=d_2*10^(-10);//shift of the oxygen anions of the side faces (in m)\n",
"D_3=d_3*10^(-10);//shift of the oxygen anions of the top and bottom face (in m)\n",
"U_1=4*q*D_1;//dipole moment due to two O2– ions on the four side faces(in C-m)\n",
"U_2=2*q*D_2;//dipole moment due to one O2– on top and bottom(in C-m)\n",
"U_3=4*q*D_3;//dipole moment due to one Ti4+ ion at body centre(in C-m)\n",
"U=U_1+U_2+U_3;//Total dipole moment(in C-m)\n",
"V=4.03*((3.98)^2)*10^(-30);//volume(in m3)\n",
"P=U/V;//polarization the total dipole moments per unit volume\n",
"disp(P,'polarization(in C/m^2)=');\n",
"disp(U,'==')"
   ]
   }
,
{
		   "cell_type": "markdown",
		   "metadata": {},
		   "source": [
			"## Example 14.6: Find_net_magnetic_moment_per_iron_atom_in_the_crystal.sce"
		   ]
		  },
  {
"cell_type": "code",
	   "execution_count": null,
	   "metadata": {
	    "collapsed": true
	   },
	   "outputs": [],
"source": [
"//Exam:14.6\n",
"clc;\n",
"clear;\n",
"close;\n",
"V=((2.87)^3)*10^(-30)//Volume of unit cell of BCC iron (in m^3)\n",
"N=2//Number of atoms in the unit cell\n",
"M=1750*10^3;//saturation magnetization of BCC Iron A/m\n",
"M_Net=V*M*(1/N)//net magnetic moment per atom\n",
"Bohr_magneton=9.273*10^(-24);//Bohr_magneton (magnetic moment) in A/m2\n",
"M_moment=M_Net/Bohr_magneton;//The magnetic moment (in units of U_B)\n",
"disp(M_moment,'The magnetic moment (in units of U_B)=');"
   ]
   }
,
{
		   "cell_type": "markdown",
		   "metadata": {},
		   "source": [
			"## Example 14.7: Calculate_the_saturation_magnetization_and_the_saturation_flux_density.sce"
		   ]
		  },
  {
"cell_type": "code",
	   "execution_count": null,
	   "metadata": {
	    "collapsed": true
	   },
	   "outputs": [],
"source": [
"//Exam:14.7\n",
"clc;\n",
"clear;\n",
"close;\n",
"p=8.90*10^6;//density of nickel in gm/m3. \n",
"N_A=6.023*10^23;//Avogadro’s number atoms/mol\n",
"At_w=58.71;//Atomic weight of Ni in gm/mol\n",
"N=p*N_A/At_w;//number of atoms/m3\n",
"U_B=9.273*10^(-24);//Bohr_magneton\n",
"M_s=0.60*U_B*N;//saturation magnetization\n",
"pi=22/7;\n",
"U_o=4*pi*10^(-7);//magnetic constant\n",
"B_s=U_o*M_s;//Saturation flux density\n",
"disp(M_s,'the saturation magnetization=');\n",
"disp(B_s,'Saturation flux density=');"
   ]
   }
,
{
		   "cell_type": "markdown",
		   "metadata": {},
		   "source": [
			"## Example 14.8: Calculate_the_saturation_magnetization.sce"
		   ]
		  },
  {
"cell_type": "code",
	   "execution_count": null,
	   "metadata": {
	    "collapsed": true
	   },
	   "outputs": [],
"source": [
"//Exam:14.8\n",
"clc;\n",
"clear;\n",
"close;\n",
"//Each cubic unit cell of ferrous ferric oxide contains 8 Fe2+ and 16 Fe3+ ions and\n",
"n_b=32;//\n",
"U_B=9.273*10^(-24);//Bohr_magneton\n",
"a=0.839*10^(-9);//the unit cell edge length in m\n",
"V=a^3;//volume(in m3)\n",
"M_s=n_b*U_B/V;//the saturation magnetization\n",
"disp(M_s,'the saturation magnetization=');"
   ]
   }
,
{
		   "cell_type": "markdown",
		   "metadata": {},
		   "source": [
			"## Example 14.9: Calculate_eddy_current_loss_at_the_normal_voltage_and_frequency.sce"
		   ]
		  },
  {
"cell_type": "code",
	   "execution_count": null,
	   "metadata": {
	    "collapsed": true
	   },
	   "outputs": [],
"source": [
"//Exam:14.9\n",
"clc;\n",
"clear;\n",
"close;\n",
"//hysteresis loss (Ph) and the induced emf loss (Pe) are proportional to the frequency\n",
"//Pe is proportional to the square of the induced emf (Pe)\n",
"//Pe + Ph = 750 W (at 25 Hz)\n",
"//4Pe + 2Ph = 2300 W(at 50Hz)\n",
"//solving equation\n",
"P_e=800/2;//induced emf loss \n",
"I_d=4*P_e;//The eddy current loss at the normal voltage and frequency\n",
"disp(I_d,'The eddy current loss at the normal voltage and frequency(in W)=');"
   ]
   }
],
"metadata": {
		  "kernelspec": {
		   "display_name": "Scilab",
		   "language": "scilab",
		   "name": "scilab"
		  },
		  "language_info": {
		   "file_extension": ".sce",
		   "help_links": [
			{
			 "text": "MetaKernel Magics",
			 "url": "https://github.com/calysto/metakernel/blob/master/metakernel/magics/README.md"
			}
		   ],
		   "mimetype": "text/x-octave",
		   "name": "scilab",
		   "version": "0.7.1"
		  }
		 },
		 "nbformat": 4,
		 "nbformat_minor": 0
}
