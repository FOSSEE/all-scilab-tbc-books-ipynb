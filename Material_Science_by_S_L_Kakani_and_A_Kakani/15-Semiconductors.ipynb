{
"cells": [
 {
		   "cell_type": "markdown",
	   "metadata": {},
	   "source": [
       "# Chapter 15: Semiconductors"
	   ]
	},
{
		   "cell_type": "markdown",
		   "metadata": {},
		   "source": [
			"## Example 15.1: Find_the_conductivity_and_resistivity_of_a_pure_silicon_crystal.sce"
		   ]
		  },
  {
"cell_type": "code",
	   "execution_count": null,
	   "metadata": {
	    "collapsed": true
	   },
	   "outputs": [],
"source": [
"//Exam:15.1\n",
"clc;\n",
"clear;\n",
"close;\n",
"U_n=1350//mobility of electron in cm2/volt-sec  \n",
"U_h=480//hole mobility in cm2/volt-sec\n",
"Sigma=1.072*10^10//density of electron hole pair per cc at 300°K for a pure silicon crystal\n",
"e=1.6*10^(-19);//charge on the electron in C\n",
"Sigma_i=Sigma*e*(U_n+U_h);//Conductivity of pure silicon crystal\n",
"p_i=1/(Sigma_i);//Resistivity of silicon crystal in Ohm-cm\n",
"P_i=p_i*10^(-2);//Resistivity of silicon crystal in Ohm-m\n",
"disp(Sigma_i,'Conductivity of pure silicon crystal(in mho/cm)=');\n",
"disp(P_i,'Resistivity of silicon crystal (in Ohm-m)=');"
   ]
   }
,
{
		   "cell_type": "markdown",
		   "metadata": {},
		   "source": [
			"## Example 15.2: Find_the_resistivity_at_room_temperature.sce"
		   ]
		  },
  {
"cell_type": "code",
	   "execution_count": null,
	   "metadata": {
	    "collapsed": true
	   },
	   "outputs": [],
"source": [
"//Exam:15.2\n",
"clc;\n",
"clear;\n",
"close;\n",
"U=1200;//electron mobility in cm2/Volt-sec\n",
"e=1.6*10^(-19);//charge on the electron in C\n",
"n=10^13;//concentration of phosphorus\n",
"sigma=U*e*n;//conductivity of crystal in mho/cm\n",
"p_i=1/sigma;//resistivity of silicon wafer if all donor atom are active\n",
"disp(p_i,'resistivity of silicon wafer if all donor atom are active(in ohm-cm)=');"
   ]
   }
,
{
		   "cell_type": "markdown",
		   "metadata": {},
		   "source": [
			"## Example 15.3: Find_the_resistance_of_an_intrinsic_germanium_rod.sce"
		   ]
		  },
  {
"cell_type": "code",
	   "execution_count": null,
	   "metadata": {
	    "collapsed": true
	   },
	   "outputs": [],
"source": [
"//Exam:15.3\n",
"clc;\n",
"clear;\n",
"close;\n",
"U_n=3900//mobility of electron in cm2/volt-sec  \n",
"U_h=1900//hole mobility in cm2/volt-sec\n",
"n_i=2.5*10^13;//concentration of electron\n",
"u_n=U_n*10^(-4);//mobility of electron in m2/volt-sec  \n",
"u_h=U_h*10^(-4);//hole mobility in m2/volt-sec\n",
"e=1.6*10^(-19);//charge on the electron in C\n",
"Sigma_i=n_i*e*(u_n+u_h)*10^6;//Conductivity\n",
"p_i=1/(Sigma_i);//resistivity of intrinsic germanium rod\n",
"l=1*10^(-2);//length of germanium rod in m\n",
"w=1*10^(-3);//width of germanium rod in m\n",
"t=1*10^(-3);//thick of germanium rod in m\n",
"A=w*t;//Area of cross section in m2\n",
"R=p_i*l/A;//Resistance of an intrinsic germanium rod in Ohm\n",
"disp(R/10^3,'Resistance of an intrinsic germanium rod (in K-Ohm)=');"
   ]
   }
,
{
		   "cell_type": "markdown",
		   "metadata": {},
		   "source": [
			"## Example 15.4: Obtain_density_relation_in_P_type_material.sce"
		   ]
		  },
  {
"cell_type": "code",
	   "execution_count": null,
	   "metadata": {
	    "collapsed": true
	   },
	   "outputs": [],
"source": [
"//Exam:15.4\n",
"clc;\n",
"clear;\n",
"close;\n",
"N_a=1.1*10^20;//acceptor density in atoms/m3\n",
"n_i=2.5*10^19;//concentration of majority carrier per m3 \n",
"n_p=(n_i^2)/N_a;//intrinsic density \n",
"R=n_p/n_i;//Ratio of n_p and n_i\n",
"disp(R,'n_p/n_i=');"
   ]
   }
],
"metadata": {
		  "kernelspec": {
		   "display_name": "Scilab",
		   "language": "scilab",
		   "name": "scilab"
		  },
		  "language_info": {
		   "file_extension": ".sce",
		   "help_links": [
			{
			 "text": "MetaKernel Magics",
			 "url": "https://github.com/calysto/metakernel/blob/master/metakernel/magics/README.md"
			}
		   ],
		   "mimetype": "text/x-octave",
		   "name": "scilab",
		   "version": "0.7.1"
		  }
		 },
		 "nbformat": 4,
		 "nbformat_minor": 0
}
