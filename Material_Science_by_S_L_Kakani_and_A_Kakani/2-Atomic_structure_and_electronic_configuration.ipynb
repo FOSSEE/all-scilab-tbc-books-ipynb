{
"cells": [
 {
		   "cell_type": "markdown",
	   "metadata": {},
	   "source": [
       "# Chapter 2: Atomic structure and electronic configuration"
	   ]
	},
{
		   "cell_type": "markdown",
		   "metadata": {},
		   "source": [
			"## Example 2.13: Weight_of_copper_atom_and_weight_of_one_proton.sce"
		   ]
		  },
  {
"cell_type": "code",
	   "execution_count": null,
	   "metadata": {
	    "collapsed": true
	   },
	   "outputs": [],
"source": [
"//Exam:2.13\n",
"clc;\n",
"clear;\n",
"close;\n",
"At_w=63.54;//atomic weight of copper\n",
"N=6.023*10^23;//avogadro's number\n",
"W_a=At_w/N;//weight of one atom(in gm)\n",
"W_p=W_a/63;//weight of one proton(in gm)\n",
"disp(W_a,'weight of one atom(in gm)=');\n",
"disp(W_p,'weight of one proton(in gm)=');"
   ]
   }
,
{
		   "cell_type": "markdown",
		   "metadata": {},
		   "source": [
			"## Example 2.15: percentage_of_Si_in_Copper_silicide.sce"
		   ]
		  },
  {
"cell_type": "code",
	   "execution_count": null,
	   "metadata": {
	    "collapsed": true
	   },
	   "outputs": [],
"source": [
"//Exam:2.15\n",
"clc;\n",
"clear;\n",
"close;\n",
"Atw_Cu=63.54;//atomic weight of copper\n",
"Atw_Si=28.09;//atomic weight of silicon\n",
"// 5 atoms of copper working in Cu_5_Si\n",
"Tw_Cu=5*Atw_Cu;//total weight of copper used in copper silicide\n",
"Tw_Si=Atw_Si;//total weight of silicon used in copper silicide\n",
"Percentage=(Tw_Si/(Tw_Cu+Tw_Si))*100;//percentage of Si in Copper silicide\n",
"disp(Percentage,'percentage of Si in Copper silicide(Cu_5_Si)=')"
   ]
   }
,
{
		   "cell_type": "markdown",
		   "metadata": {},
		   "source": [
			"## Example 2.1: Distance_of_the_closest_approach_alpha_particles_from_the_copper_nucleus.sce"
		   ]
		  },
  {
"cell_type": "code",
	   "execution_count": null,
	   "metadata": {
	    "collapsed": true
	   },
	   "outputs": [],
"source": [
"//Exam:2.1\n",
"clc;\n",
"clear;\n",
"close;\n",
"Eg_k=5;//kinetic energy of alpha particles(in MeV)\n",
"Eg_K=5*(10^6)*1.6*(10^-19);//kinetic energy of alpha particles(in J)\n",
"mv2=2*Eg_K;\n",
"pi=22/7;\n",
"phi=180;//firing angle\n",
"Z=29;//Atomic number\n",
"e=1.6*(10^-19);//electron charge(in C)\n",
"Eo=8.85*10^-12;//permittivity of free space\n",
"d=(Z*e^2/(2*pi*Eo*mv2))*(1+cscd(90))//;\n",
"disp(d,'distance of the closest approach alpha particles from the copper nucleus(in meter)=');"
   ]
   }
,
{
		   "cell_type": "markdown",
		   "metadata": {},
		   "source": [
			"## Example 2.2: radius_and_frequency_of_an_electron_in_the_bohr_first_orbit_in_hydrogen_atom.sce"
		   ]
		  },
  {
"cell_type": "code",
	   "execution_count": null,
	   "metadata": {
	    "collapsed": true
	   },
	   "outputs": [],
"source": [
"//Exam:2.2\n",
"clc;\n",
"clear;\n",
"close;\n",
"e=1.6*10^(-19);//electron charge(in C)\n",
"m=9.1*10^(-31);//mass of electron(in Kg)\n",
"E_o=8.854*10^(-12);//permittivity of free space\n",
"h=6.625*10^(-34);//Planck constant\n",
"n=1;//Orbit number\n",
"Z=1;//atomic number\n",
"pi=22/7;\n",
"r_1=(E_o*h^2)/(pi*m*e^2);//first orbit radius of hydrogen atom\n",
"disp(r_1,'first orbit radius of hydrogen atom(in m)=');\n",
"Freq=m*(Z^2)*(e^4)/(4*(E_o^2)*(n^3)*h^3);//\n",
"disp(Freq,'Orbital frequency of electron(in Hz)=');"
   ]
   }
,
{
		   "cell_type": "markdown",
		   "metadata": {},
		   "source": [
			"## Example 2.3: radius_of_the_second_bohr_orbit_in_a_singly_ionized_helium_atom.sce"
		   ]
		  },
  {
"cell_type": "code",
	   "execution_count": null,
	   "metadata": {
	    "collapsed": true
	   },
	   "outputs": [],
"source": [
"//Exam:2.3\n",
"clc;\n",
"clear;\n",
"close;\n",
"Z_1=1;//atomic number for hydrogen\n",
"n_1=1;//first orbit\n",
"r_1=0.529;//radius of first orbit of electron for hydrogen \n",
"Z_2=2;//atomic number for helium\n",
"n_2=2;//second orbit\n",
"k=r_1*Z_1/n_1;\n",
"r_2=k*((n_2)^2)/Z_2;//radius of first orbit of electron for helium\n",
"disp(r_2,'radius of the second bohr orbit in a singly ionized helium atom(in A)=');"
   ]
   }
,
{
		   "cell_type": "markdown",
		   "metadata": {},
		   "source": [
			"## Example 2.4: Calculate_the_unit_cell_dimensions_and_atomic_diameter.sce"
		   ]
		  },
  {
"cell_type": "code",
	   "execution_count": null,
	   "metadata": {
	    "collapsed": true
	   },
	   "outputs": [],
"source": [
"//Exam:2.4\n",
"clc;\n",
"clear;\n",
"close;\n",
"n_1=1;//first orbit\n",
"n_2=2;//second orbit\n",
"n_3=3;//third orbit\n",
"//E_1=-13.6*(Z^2)/(1^2);\n",
"//E_2=-13.6*(Z^2)/(2^2);\n",
"//E_3=-13.6*(Z^2)/(3^2);\n",
"//E_3-E_1=-13.6*(Z^2)*(-8/9);\n",
"//E_2-E_1=-13.6*(Z^2)*(-3/4);\n",
"E_1=-13.6/(1^2);//energy of electron in the first bohr orbit of an atom\n",
"E_2=-13.6/(2^2);//energy of electron in the second bohr orbit of an atom\n",
"E_3=-13.6/(3^2);//energy of electron in the third bohr orbit of an atom\n",
"disp((E_3-E_1)/(E_2-E_1),'ratio of energy released =');"
   ]
   }
,
{
		   "cell_type": "markdown",
		   "metadata": {},
		   "source": [
			"## Example 2.5: EX2_5.sce"
		   ]
		  },
  {
"cell_type": "code",
	   "execution_count": null,
	   "metadata": {
	    "collapsed": true
	   },
	   "outputs": [],
"source": [
"//Exam:2.5\n",
"clc;\n",
"clear;\n",
"close;\n",
"m=9.1*10^(-31);//electron mass (in Kg)\n",
"Z=1;//atomic number\n",
"e=1.6*10^(-19);//electron charge(in C)\n",
"E_o=8.25*10^(-12);//permittivity of free space\n",
"n=1;//first bohr orbit\n",
"h=6.63*10^(-34);//planck constant\n",
"R_ps=m*(e^4)/(4*(E_o^2)*(h^3));//number of revolutions per second\n",
"disp(R_ps,'revolutions per second of an electron in the bohr orbit of hydrogen atom=');"
   ]
   }
,
{
		   "cell_type": "markdown",
		   "metadata": {},
		   "source": [
			"## Example 2.6: orbital_frequency_of_an_electron_in_the_first_bohr_orbit_in_a_hydrogen_atom.sce"
		   ]
		  },
  {
"cell_type": "code",
	   "execution_count": null,
	   "metadata": {
	    "collapsed": true
	   },
	   "outputs": [],
"source": [
"//Exam:2.6\n",
"clc;\n",
"clear;\n",
"close;\n",
"n=1;//first bohr orbit\n",
"Z=1;//atomic number\n",
"m=9.1*10^(-31);//electron mass in Kg.\n",
"e=1.6*10^(-19);//electron charge(in C)\n",
"E_o=8.85*10^(-12);//permittivity of free space\n",
"h=6.63*10^(-34);//planck constant\n",
"v_n=m*(Z^2)*(e^4)/(4*(E_o^2)*(h^3)*(n^3));//orbital frequency of an electron in the first bohr orbit in a hydrogen atom\n",
"disp(v_n,'orbital frequency of an electron in the first bohr orbit in a hydrogen atom(in Hz)=');"
   ]
   }
,
{
		   "cell_type": "markdown",
		   "metadata": {},
		   "source": [
			"## Example 2.7: kinetic_energy_potential_energy_and_total_energy_of_an_electron.sce"
		   ]
		  },
  {
"cell_type": "code",
	   "execution_count": null,
	   "metadata": {
	    "collapsed": true
	   },
	   "outputs": [],
"source": [
"//Exam:2.7\n",
"clc;\n",
"clear;\n",
"close;\n",
"m=9.11*10^-31;//mass of electron(in Kg)\n",
"Z=1;//atomic number\n",
"n=1;//first bohr orbit\n",
"E_o=8.854*10^-12;//permittivity of free space\n",
"h=6.62*10^-34;//planck constant\n",
"e=1.6*10^-19;//electron charge(in C)\n",
"E_k=(m*(Z^2)*(e^4))/(8*(E_o^2)*(n^2)*(h^2));//Kinetic energy(in joule)\n",
"E=E_k/e;//Kinetic energy(in eV)\n",
"E_t=-13.6*(Z^2/n^2);//Total Energy(in eV)\n",
"E_p=E_t-E;//Potential energy(in eV)\n",
"disp(E_t,'Total energy(in eV)=');\n",
"disp(E,'kinetic energy(in eV)=');\n",
"disp(E_p,'potential energy(in eV)=');"
   ]
   }
,
{
		   "cell_type": "markdown",
		   "metadata": {},
		   "source": [
			"## Example 2.8: velocity_of_an_electron_in_hydrogen_atom_in_bohr_first_orbit.sce"
		   ]
		  },
  {
"cell_type": "code",
	   "execution_count": null,
	   "metadata": {
	    "collapsed": true
	   },
	   "outputs": [],
"source": [
"//Exam:2.8\n",
"clc;\n",
"clear;\n",
"close;\n",
"h=6.626*10^-34;//planck constant\n",
"E_o=8.825*10^-12;//permittivity of free space\n",
"e=1.6*10^-19;//electron charge(in C)\n",
"n=1;//first bohr orbit\n",
"Z=1;//atomic number\n",
"v=Z*(e^2)/(2*E_o*n*h);//velocity of electron in hydrogen atom in bohr first orbit\n",
"disp(v,'velocity of electron in hydrogen atom in bohr first orbit(in meter/sec)=');"
   ]
   }
,
{
		   "cell_type": "markdown",
		   "metadata": {},
		   "source": [
			"## Example 2.9: principal_quantum_number_and_wavelengths_of_radiation_in_both_energies.sce"
		   ]
		  },
  {
"cell_type": "code",
	   "execution_count": null,
	   "metadata": {
	    "collapsed": true
	   },
	   "outputs": [],
"source": [
"//Exam:2.9\n",
"clc;\n",
"clear;\n",
"close;\n",
"n_1=1;//electron excited from ground state\n",
"h=6.62*10^-34;//Planck constant\n",
"c=3*10^8;//speed of light\n",
"E_o=8.825*10^-12;//permittivity of free space\n",
"e=1.6*10^-19;//electron charge(in C)\n",
"m=9.11*10^-31;//mass of electron(in Kg)\n",
"E_1=10.2;//energy excites the hydrogen from ground level(in eV)\n",
"K=m*e^4/(8*(E_o^2)*(h^2))//in joule\n",
"K_e=K/e;//in eV\n",
"//E_1=K_e*((1/n_1^2)-(1/n^2))\n",
"//1/(n^2)=1/(n_1^2)-E_1/K_e\n",
"//n^2=1/(1/(n_1^2)-E_1/K_e)\n",
"n=(1/(1/(n_1^2)-E_1/K_e))^(1/2);//principal quntum number when 10.2 eV energy excites electron\n",
"disp(ceil(n),'principal quntum number when 10.2 eV energy excites electron=');\n",
"W_1=h*c/(E_1*e)*10^10;//wavelength of radiation when 10.2 eV energy excites electron\n",
"disp(W_1,'wavelength of radiation when 10.2 eV energy excites electron(in A)=')\n",
"E_2=12.09;//energy excites the hydrogen from ground level(in eV)\n",
"n_2=(1/(1/(n_1^2)-E_2/K_e))^(1/2);//principal quntum number when 12.09 eV energy excites electron\n",
"W_2=h*c/(E_2*e)*10^10;//wavelength of radiation when 12.09 eV energy excites electron\n",
"disp(ceil(n_2),'principal quntum number when 12.09 eV energy excites electron=')\n",
"disp(W_2,'wavelength of radiation when 12.09 eV energy excites electron(in A)=')"
   ]
   }
],
"metadata": {
		  "kernelspec": {
		   "display_name": "Scilab",
		   "language": "scilab",
		   "name": "scilab"
		  },
		  "language_info": {
		   "file_extension": ".sce",
		   "help_links": [
			{
			 "text": "MetaKernel Magics",
			 "url": "https://github.com/calysto/metakernel/blob/master/metakernel/magics/README.md"
			}
		   ],
		   "mimetype": "text/x-octave",
		   "name": "scilab",
		   "version": "0.7.1"
		  }
		 },
		 "nbformat": 4,
		 "nbformat_minor": 0
}
