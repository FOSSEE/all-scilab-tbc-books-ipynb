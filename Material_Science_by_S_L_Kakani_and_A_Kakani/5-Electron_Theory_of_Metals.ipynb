{
"cells": [
 {
		   "cell_type": "markdown",
	   "metadata": {},
	   "source": [
       "# Chapter 5: Electron Theory of Metals"
	   ]
	},
{
		   "cell_type": "markdown",
		   "metadata": {},
		   "source": [
			"## Example 5.10: Find_the_conductivity_of_copper.sce"
		   ]
		  },
  {
"cell_type": "code",
	   "execution_count": null,
	   "metadata": {
	    "collapsed": true
	   },
	   "outputs": [],
"source": [
"//Exam:5.10\n",
"clc;\n",
"clear;\n",
"close;\n",
"N_a=6.023*10^23;\n",
"V_c=8.9;//volume of 63.54gm of copper(in cc)\n",
"Aw_c=63.54;//Atomic weight of copper(in a.m.u)\n",
"n=(N_a/(Aw_c/V_c))*10^6;//Number of electrons per m^3\n",
"e=1.6*10^-19;\n",
"m=9.1*10^-31;\n",
"t=2*10^-14;//collision time\n",
"conductivity=n*(e^2)*t/m;//conductivity of copper\n",
"disp(conductivity,'conductivity of copper(in ohm^-1/m)=');"
   ]
   }
,
{
		   "cell_type": "markdown",
		   "metadata": {},
		   "source": [
			"## Example 5.1: Evaluate_the_temperature.sce"
		   ]
		  },
  {
"cell_type": "code",
	   "execution_count": null,
	   "metadata": {
	    "collapsed": true
	   },
	   "outputs": [],
"source": [
"//Exam:5.1\n",
"clc;\n",
"clear;\n",
"close;\n",
"//The probability that a particular quantum state at energy E is filled, is given by\n",
"//f(E) =1/(1+exp(E-E_f)/kT)\n",
"e=1.6*10^(-19);//charge on the electron\n",
"dE=0.5*e;//E-E_f in joule\n",
"//0.01=1/(1+exp(x))\n",
"//1+exp(x)=100\n",
"x=log(99);\n",
"k=1.38*10^(-23);//constant\n",
"T=dE/(x*k);//temperature\n",
"disp(ceil(T),'temperature at which there is one per cent probability that a state with an energy 0.5 eV above the Fermi energy will be occupied by an electron(in K)=');"
   ]
   }
,
{
		   "cell_type": "markdown",
		   "metadata": {},
		   "source": [
			"## Example 5.2: Find_the_drift_velocity_of_carriers.sce"
		   ]
		  },
  {
"cell_type": "code",
	   "execution_count": null,
	   "metadata": {
	    "collapsed": true
	   },
	   "outputs": [],
"source": [
"//Exam:5.2\n",
"clc;\n",
"clear;\n",
"close;\n",
"n=10^19;//electrons per m^3\n",
"V=0.017;//applied voltage \n",
"d=0.27*10^-2;//distance with material\n",
"e=1.602*10^-19;//in coulomb\n",
"m=9.1*10^-31;//mass of an electron(in kg)\n",
"conductivity=0.01;//in mho.m^-1)\n",
"E=V/d;//Electric field(in V/m)\n",
"v=(conductivity*E/(n*e))*10^2;//drift velocity of carriers(in meter/sec)\n",
"disp(v,'drift velocity of carriers(in meter/sec)=');"
   ]
   }
,
{
		   "cell_type": "markdown",
		   "metadata": {},
		   "source": [
			"## Example 5.3: Find_the_conductivity_of_copper_at_300K.sce"
		   ]
		  },
  {
"cell_type": "code",
	   "execution_count": null,
	   "metadata": {
	    "collapsed": true
	   },
	   "outputs": [],
"source": [
"//Exam:5.3\n",
"clc;\n",
"clear;\n",
"close;\n",
"T=300;//Temperature(in Kelevin)\n",
"t=2*10^-14;//time(in sec)\n",
"V_c=8.9;//volume of 63.54gm of copper(in cc)\n",
"Aw_c=63.54;//Atomic weight of copper(in a.m.u)\n",
"e=1.6*10^(-19);\n",
"m=9.1*10^-31;\n",
"N_a=6.023*10^23;//avogadro's number\n",
"n=(N_a/(Aw_c/V_c))*10^6;//Number of electrons per m^3\n",
"conductivity=(e^2)*n*t/m;//conductivity of copper at 300K(in mho/m)\n",
"disp(conductivity,'conductivity of copper at 300K(in mho/m)=');"
   ]
   }
,
{
		   "cell_type": "markdown",
		   "metadata": {},
		   "source": [
			"## Example 5.4: Find_the_mobility_of_condution_electron.sce"
		   ]
		  },
  {
"cell_type": "code",
	   "execution_count": null,
	   "metadata": {
	    "collapsed": true
	   },
	   "outputs": [],
"source": [
"//Exam:5.4\n",
"clc;\n",
"clear;\n",
"close;\n",
"t=10^(-14);//mean free time between the collisions(in second)\n",
"e=1.6*10^-19;\n",
"m=9.1*10^-31;\n",
"Mobility=e*t/m;//in m^2/V-s\n",
"disp(Mobility,'mobility of condution electron(in m^2/V-s)=');"
   ]
   }
,
{
		   "cell_type": "markdown",
		   "metadata": {},
		   "source": [
			"## Example 5.5: Find_the_mobility_of_condution_electron_and_drift_velocity.sce"
		   ]
		  },
  {
"cell_type": "code",
	   "execution_count": null,
	   "metadata": {
	    "collapsed": true
	   },
	   "outputs": [],
"source": [
"//Exam:5.5\n",
"clc;\n",
"clear;\n",
"close;\n",
"n=6*10^23;//conduction electron per m^3\n",
"conductivity=6.5*10^7;//in mho/m\n",
"E=1;//electric field intensity (in V/m)\n",
"e=1.6*10^-19;\n",
"m=9.1*10^-31;\n",
"Mobility=conductivity/(n*e);//in m^2/V-s\n",
"v=Mobility*E;//drift velocity(in m/sec)\n",
"disp(Mobility,'mobility of condution electron(in m^2/V-s)=');\n",
"disp(v,'drift velocity(in m/sec)=');"
   ]
   }
,
{
		   "cell_type": "markdown",
		   "metadata": {},
		   "source": [
			"## Example 5.6: Find_the_number_of_free_electrons_and_also_calculate_mobility_of_electrons.sce"
		   ]
		  },
  {
"cell_type": "code",
	   "execution_count": null,
	   "metadata": {
	    "collapsed": true
	   },
	   "outputs": [],
"source": [
"//Exam:5.6\n",
"clc;\n",
"clear;\n",
"close;\n",
"d=10.5;//density of silver(in gm/cc)\n",
"At_w=107.9;\n",
"e=1.6*10^-19;\n",
"conductivity=6.8*10^5;//in mho/centimeter\n",
"N=6.023*10^23;\n",
"n=N*d/At_w;//number of free electrons\n",
"Mobility=conductivity/(n*e);//mobility of electrons(in cm^2/V-s);\n",
"disp(n,'number of free electrons=');\n",
"disp(Mobility,'mobility of electrons(in cm^2/V-s)=');"
   ]
   }
,
{
		   "cell_type": "markdown",
		   "metadata": {},
		   "source": [
			"## Example 5.7: maximum_velocity_of_an_electron_in_a_metal_and_mobility_of_electrons.sce"
		   ]
		  },
  {
"cell_type": "code",
	   "execution_count": null,
	   "metadata": {
	    "collapsed": true
	   },
	   "outputs": [],
"source": [
"//Exam:5.7\n",
"clc;\n",
"clear;\n",
"close;\n",
"E_f=3.75;//Fermi energy(in eV)\n",
"e=1.602*10^-19;\n",
"W_f=e*E_f;//fermi energy in joules\n",
"t=10^-14;//mean free time between the collisions(in second)\n",
"m=9.1*10^-31;//mass of electron\n",
"v_f=(2*W_f/m)^(1/2);//maximum velocity of an electron in a metal(in m/s)\n",
"mobility=e*t/m;//mobility of electrons(in m^2/V-s)\n",
"disp(v_f,'maximum velocity of an electron in a metal(in m/s)=');\n",
"disp(mobility,'mobility of electrons(in m^2/V-s)=')"
   ]
   }
,
{
		   "cell_type": "markdown",
		   "metadata": {},
		   "source": [
			"## Example 5.8: Calculate_the_velocity_of_an_electrons_at_fermi_level.sce"
		   ]
		  },
  {
"cell_type": "code",
	   "execution_count": null,
	   "metadata": {
	    "collapsed": true
	   },
	   "outputs": [],
"source": [
"//Exam:5.8\n",
"clc;\n",
"clear;\n",
"close;\n",
"E_f=2.1;//fermi energy(in eV)\n",
"e=1.602*10^-19;\n",
"m=9.1*10^-31;\n",
"W_f=e*E_f;//fermi energy in joules\n",
"v_f=(2*W_f/m)^(1/2);//velocity of an electrons at fermi level(in m/sec)\n",
"disp(v_f,'velocity of an electrons at fermi level(in m/sec)')"
   ]
   }
,
{
		   "cell_type": "markdown",
		   "metadata": {},
		   "source": [
			"## Example 5.9: Estimate_the_mean_path_of_free_electrons_in_pure_copper.sce"
		   ]
		  },
  {
"cell_type": "code",
	   "execution_count": null,
	   "metadata": {
	    "collapsed": true
	   },
	   "outputs": [],
"source": [
"//Exam:5.9\n",
"clc;\n",
"clear;\n",
"close;\n",
"t=10^-9;//collision time(in seconds)\n",
"E_f=7;//fermi energy(in eV)\n",
"e=1.6*10^-19;\n",
"m=9.1*10^-31;\n",
"W_f=E_f*e;//fermi energy(in joules)\n",
"v_f=(2*W_f/m)^(1/2);//velocity of an electrons at fermi level(in m/sec)\n",
"P=v_f*t;//Mean free path(in meter)\n",
"disp(P,'Mean free path(in meter)=')"
   ]
   }
],
"metadata": {
		  "kernelspec": {
		   "display_name": "Scilab",
		   "language": "scilab",
		   "name": "scilab"
		  },
		  "language_info": {
		   "file_extension": ".sce",
		   "help_links": [
			{
			 "text": "MetaKernel Magics",
			 "url": "https://github.com/calysto/metakernel/blob/master/metakernel/magics/README.md"
			}
		   ],
		   "mimetype": "text/x-octave",
		   "name": "scilab",
		   "version": "0.7.1"
		  }
		 },
		 "nbformat": 4,
		 "nbformat_minor": 0
}
