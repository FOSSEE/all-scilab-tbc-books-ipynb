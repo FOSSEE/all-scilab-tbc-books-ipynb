{
"cells": [
 {
		   "cell_type": "markdown",
	   "metadata": {},
	   "source": [
       "# Chapter 10: Heat Treatment"
	   ]
	},
{
		   "cell_type": "markdown",
		   "metadata": {},
		   "source": [
			"## Example 10.1: Determine_the_grain_diameter_of_an_ASTM_Number_8.sce"
		   ]
		  },
  {
"cell_type": "code",
	   "execution_count": null,
	   "metadata": {
	    "collapsed": true
	   },
	   "outputs": [],
"source": [
"//Exam:10.1\n",
"clc;\n",
"clear;\n",
"close;\n",
"N=8;//ASTM grain size number\n",
"n=2^(N-1);//Number of grains per inch square at a magnification\n",
"N_1=n*100*100;//Number of grains per inch square without magnification\n",
"N_2=N_1/(25.4)^2;//Number of grains per mm square without magnification\n",
"A_a=1/(N_2);//Average area of each grain(in mm^2)\n",
"D=(A_a)^(1/2);//Average grain diameter(in mm)\n",
"disp(D,'Average grain diameter(in mm)=')"
   ]
   }
],
"metadata": {
		  "kernelspec": {
		   "display_name": "Scilab",
		   "language": "scilab",
		   "name": "scilab"
		  },
		  "language_info": {
		   "file_extension": ".sce",
		   "help_links": [
			{
			 "text": "MetaKernel Magics",
			 "url": "https://github.com/calysto/metakernel/blob/master/metakernel/magics/README.md"
			}
		   ],
		   "mimetype": "text/x-octave",
		   "name": "scilab",
		   "version": "0.7.1"
		  }
		 },
		 "nbformat": 4,
		 "nbformat_minor": 0
}
