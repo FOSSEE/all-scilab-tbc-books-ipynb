{
"cells": [
 {
		   "cell_type": "markdown",
	   "metadata": {},
	   "source": [
       "# Chapter 18: Composites"
	   ]
	},
{
		   "cell_type": "markdown",
		   "metadata": {},
		   "source": [
			"## Example 18.1: Calculate_the_modulus_of_elasticity.sce"
		   ]
		  },
  {
"cell_type": "code",
	   "execution_count": null,
	   "metadata": {
	    "collapsed": true
	   },
	   "outputs": [],
"source": [
"//Exam:18.1\n",
"clc;\n",
"clear;\n",
"close;\n",
"E_f=69;//modulus of elasticity in GPa\n",
"V_f=40/100;//Volume of glass fibres %\n",
"E_m=3.4;//modulus (in GPa)\n",
"V_m=60/100;//Volume of polyester resin %\n",
"E_cl=E_m*V_m+E_f*V_f;//modulus of elasticity (in Gpa)\n",
"disp(ceil(E_cl),'modulus of elasticity(in Gpa)=');"
   ]
   }
,
{
		   "cell_type": "markdown",
		   "metadata": {},
		   "source": [
			"## Example 18.2: EX18_2.sce"
		   ]
		  },
  {
"cell_type": "code",
	   "execution_count": null,
	   "metadata": {
	    "collapsed": true
	   },
	   "outputs": [],
"source": [
"//Exam:18.2\n",
"clc;\n",
"clear;\n",
"close;\n",
"E_f=69;//modulus of elasticity in GPa\n",
"V_f=40/100;//Volume of glass fibres %\n",
"E_m=3.4;//modulus (in GPa)\n",
"V_m=60/100;//Volume of polyester resin %\n",
"E_cl=E_m*E_f/(E_m*V_f+E_f*V_m);//modulus of elasticity when the stress is applied perpendicular to the direction of the fibre alignment(in Gpa)\n",
"disp(E_cl,'modulus of elasticity when the stress is applied perpendicular to the direction of the fibre alignment(in Gpa)=');"
   ]
   }
],
"metadata": {
		  "kernelspec": {
		   "display_name": "Scilab",
		   "language": "scilab",
		   "name": "scilab"
		  },
		  "language_info": {
		   "file_extension": ".sce",
		   "help_links": [
			{
			 "text": "MetaKernel Magics",
			 "url": "https://github.com/calysto/metakernel/blob/master/metakernel/magics/README.md"
			}
		   ],
		   "mimetype": "text/x-octave",
		   "name": "scilab",
		   "version": "0.7.1"
		  }
		 },
		 "nbformat": 4,
		 "nbformat_minor": 0
}
