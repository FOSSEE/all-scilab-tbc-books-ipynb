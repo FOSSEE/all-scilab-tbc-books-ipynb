{
"cells": [
 {
		   "cell_type": "markdown",
	   "metadata": {},
	   "source": [
       "# Chapter 6: Photoelectric Effect"
	   ]
	},
{
		   "cell_type": "markdown",
		   "metadata": {},
		   "source": [
			"## Example 6.1: kinetic_energy_of_electrons_ejected_from_the_surface.sce"
		   ]
		  },
  {
"cell_type": "code",
	   "execution_count": null,
	   "metadata": {
	    "collapsed": true
	   },
	   "outputs": [],
"source": [
"//Exam:6.1\n",
"clc;\n",
"clear;\n",
"close;\n",
"h=6.62*10^-34;\n",
"c=3*10^8;\n",
"e=1.6*10^-19;\n",
"Wavelength_1=2300*10^-10;\n",
"W=h*c/Wavelength_1;//Work function\n",
"Wavelength_2=1800*10^-10;\n",
"E_in=h*c/Wavelength_2;\n",
"E=E_in-W;//kinetic energy of the ejected electron(in Joules)\n",
"E_1=E/e;//kinetic energy of the ejected electron(in eV)\n",
"disp(E_1,'kinetic energy of the ejected electron(in eV)=');"
   ]
   }
,
{
		   "cell_type": "markdown",
		   "metadata": {},
		   "source": [
			"## Example 6.2: Calculate_the_threshold_frequency_and_the_corresponding_wavelength.sce"
		   ]
		  },
  {
"cell_type": "code",
	   "execution_count": null,
	   "metadata": {
	    "collapsed": true
	   },
	   "outputs": [],
"source": [
"//Exam:6.2\n",
"clc;\n",
"clear;\n",
"close;\n",
"h=6.625*(10^(-34));//Planck's constant(in m2*kg/s)\n",
"c=3*10^8;//speed of light (in m/s)\n",
"e=1.602*10^-19;//electron charge(in coulomb)\n",
"W=2.3;//work (in eV)\n",
"W_1=W*e;//work (in joules)\n",
"v_o=W_1/h;//threshold frequency(in Hz)\n",
"Wavelength=(h*c/W_1)/10^(-10);//Wavelength in Angstrom\n",
"disp(v_o,'threshold frequency(Hz)=');\n",
"disp(Wavelength,'Wavelength (in Angstrom)=');"
   ]
   }
,
{
		   "cell_type": "markdown",
		   "metadata": {},
		   "source": [
			"## Example 6.3: Calculate_the_threshold_frequency_and_the_work_function_of_metal.sce"
		   ]
		  },
  {
"cell_type": "code",
	   "execution_count": null,
	   "metadata": {
	    "collapsed": true
	   },
	   "outputs": [],
"source": [
"//Exam:6.3\n",
"clc;\n",
"clear;\n",
"close;\n",
"h=6.625*(10^(-34));//Planck's constant(in m2*kg/s)\n",
"c=3*10^8;//speed of light (in m/s)\n",
"e=1.602*10^-19;//electron charge(in coulomb)\n",
"wavelength=6800*10^-10;//wavelength of radiation\n",
"v_o=c/wavelength;//frequency\n",
"W=h*v_o;//Work function\n",
"disp(v_o,'threshold frequency(in Hz)=')\n",
"disp(W,'work function of metal(in joule)=')"
   ]
   }
,
{
		   "cell_type": "markdown",
		   "metadata": {},
		   "source": [
			"## Example 6.4: Calculate_the_photons_emitted_by_lamp_per_second.sce"
		   ]
		  },
  {
"cell_type": "code",
	   "execution_count": null,
	   "metadata": {
	    "collapsed": true
	   },
	   "outputs": [],
"source": [
"//Exam:6.4\n",
"clc;\n",
"clear;\n",
"close;\n",
"h=6.625*(10^(-34));//Planck's constant(in m2*kg/s)\n",
"c=3*10^8;//speed of light (in m/s)\n",
"L_r =150*8/100;//Lamp rating(in joule)\n",
"wavelength=4500*10^-10;//in meter\n",
"W=h*c/wavelength;//work function\n",
"N=L_r/W;//number of photons emitted by lamp per second\n",
"disp(N,'number of photons emitted by lamp per second=')"
   ]
   }
,
{
		   "cell_type": "markdown",
		   "metadata": {},
		   "source": [
			"## Example 6.5: Determine_the_region_of_electrons_spectrum.sce"
		   ]
		  },
  {
"cell_type": "code",
	   "execution_count": null,
	   "metadata": {
	    "collapsed": true
	   },
	   "outputs": [],
"source": [
"//Exam:6.5\n",
"clc;\n",
"clear;\n",
"close;\n",
"h=6.6*(10^(-34));//Planck's constant(in m2*kg/s)\n",
"c=3*10^8;//speed of light (in m/s)\n",
"e=1.6*10^-19;//electron charge(in coulomb)\n",
"W=2.24;//work function(in eV)\n",
"W_1=W*e;//work function(in joule)\n",
"v=(W_1/h)*10^-10;//frequency\n",
"wavelength=c/v;//region of electrons spectrum is less than(in angstrom)\n",
"disp(wavelength,'region of electrons spectrum is less than(in angstrom)')"
   ]
   }
,
{
		   "cell_type": "markdown",
		   "metadata": {},
		   "source": [
			"## Example 6.6: Calculate_the_photons_emitted_by_radio_receiver.sce"
		   ]
		  },
  {
"cell_type": "code",
	   "execution_count": null,
	   "metadata": {
	    "collapsed": true
	   },
	   "outputs": [],
"source": [
"//Exam:6.6\n",
"clc;\n",
"clear;\n",
"close;\n",
"h=6.625*(10^(-34));//Planck's constant(in m2*kg/s)\n",
"c=3*10^8;//speed of light (in m/s)\n",
"P_o=10*10^3;//Power of radio receiver (in Watt)\n",
"v=440*10^3;//Operating frequency\n",
"E=h*v;//Energy of each electron\n",
"N=P_o/E;//Number of photons emitted/sec\n",
"disp(N,'Number of photons emitted/sec by radio receiver=')"
   ]
   }
,
{
		   "cell_type": "markdown",
		   "metadata": {},
		   "source": [
			"## Example 6.7: wavelength_of_light_which_can_just_eject_electron_from_tungsten_and_from_barrium.sce"
		   ]
		  },
  {
"cell_type": "code",
	   "execution_count": null,
	   "metadata": {
	    "collapsed": true
	   },
	   "outputs": [],
"source": [
"//Exam:6.7\n",
"clc;\n",
"clear;\n",
"close;\n",
"W_t=4.52;//Work function for tungesten(in eV)\n",
"W_b=2.5;//Work function for barrium(in eV)\n",
"h=6.62*(10^(-34));//Planck's constant(in m2*kg/s)\n",
"c=3*10^8;//speed of light (in m/s)\n",
"e=1.6*10^-19;//electron charge(in coulomb)\n",
"W_T=W_t*e;//Work function for tungesten(in Joule)\n",
"W_B=W_b*e;//Work function for barrium(in Joule)\n",
"Wavelength_T=(h*c/W_T)*10^10;//wavelength of light which can just eject electron from tungsten\n",
"Wavelength_B=(h*c/W_B)*10^10;//wavelength of light which can just eject electron from barrium\n",
"disp(Wavelength_T,'wavelength of light which can just eject electron from tungsten(in Angstrom)=')\n",
"disp(Wavelength_B,'wavelength of light which can just eject electron from barrium(in Angstrom)=')"
   ]
   }
],
"metadata": {
		  "kernelspec": {
		   "display_name": "Scilab",
		   "language": "scilab",
		   "name": "scilab"
		  },
		  "language_info": {
		   "file_extension": ".sce",
		   "help_links": [
			{
			 "text": "MetaKernel Magics",
			 "url": "https://github.com/calysto/metakernel/blob/master/metakernel/magics/README.md"
			}
		   ],
		   "mimetype": "text/x-octave",
		   "name": "scilab",
		   "version": "0.7.1"
		  }
		 },
		 "nbformat": 4,
		 "nbformat_minor": 0
}
