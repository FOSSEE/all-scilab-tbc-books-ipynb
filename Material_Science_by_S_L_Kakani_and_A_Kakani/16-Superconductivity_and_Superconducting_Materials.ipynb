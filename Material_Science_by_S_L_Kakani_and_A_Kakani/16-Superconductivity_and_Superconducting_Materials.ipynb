{
"cells": [
 {
		   "cell_type": "markdown",
	   "metadata": {},
	   "source": [
       "# Chapter 16: Superconductivity and Superconducting Materials"
	   ]
	},
{
		   "cell_type": "markdown",
		   "metadata": {},
		   "source": [
			"## Example 16.1: Energy_gap_in_electron_volts_and_Calculate_the_wavelength_of_a_photon.sce"
		   ]
		  },
  {
"cell_type": "code",
	   "execution_count": null,
	   "metadata": {
	    "collapsed": true
	   },
	   "outputs": [],
"source": [
"//Exam:16.1\n",
"clc;\n",
"clear;\n",
"close;\n",
"T_c=4.2;//critical temperature of mercury\n",
"k=1.4*10^(-23);//\n",
"E_g=3*k*T_c;//energy gap (in Joule)\n",
"e=1.6*10^(-19);//charge on the electron \n",
"E=E_g/e;//energy gap (in electron volt)\n",
"h=6.6*10^(-34)// in J-s\n",
"c=3*10^8;//in m/s\n",
"wavelength=h*c/E_g;//wavelength of a photon (in m)\n",
"disp(E,'energy gap (in electron volt)=');\n",
"disp(wavelength,'wavelength of a photon (in m)=');"
   ]
   }
],
"metadata": {
		  "kernelspec": {
		   "display_name": "Scilab",
		   "language": "scilab",
		   "name": "scilab"
		  },
		  "language_info": {
		   "file_extension": ".sce",
		   "help_links": [
			{
			 "text": "MetaKernel Magics",
			 "url": "https://github.com/calysto/metakernel/blob/master/metakernel/magics/README.md"
			}
		   ],
		   "mimetype": "text/x-octave",
		   "name": "scilab",
		   "version": "0.7.1"
		  }
		 },
		 "nbformat": 4,
		 "nbformat_minor": 0
}
