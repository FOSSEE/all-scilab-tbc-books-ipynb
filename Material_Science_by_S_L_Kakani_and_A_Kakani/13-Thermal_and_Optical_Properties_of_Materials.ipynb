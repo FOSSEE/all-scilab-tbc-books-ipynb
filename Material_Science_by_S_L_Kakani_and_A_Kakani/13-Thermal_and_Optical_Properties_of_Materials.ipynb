{
"cells": [
 {
		   "cell_type": "markdown",
	   "metadata": {},
	   "source": [
       "# Chapter 13: Thermal and Optical Properties of Materials"
	   ]
	},
{
		   "cell_type": "markdown",
		   "metadata": {},
		   "source": [
			"## Example 13.1: EX13_1.sce"
		   ]
		  },
  {
"cell_type": "code",
	   "execution_count": null,
	   "metadata": {
	    "collapsed": true
	   },
	   "outputs": [],
"source": [
"//Exam:13.1\n",
"clc;\n",
"clear;\n",
"close; \n",
"alpha=20*10^(-6);//linear coefficient of thermal expansion per°C\n",
"Sigma=-(172);//compressive stress MPa\n",
"T=20;//Temprature at which rod is stress free(in °C)\n",
"E=100*10^3;//modulus of elasticity (in MPa)\n",
"T_f=T-(Sigma/(alpha*E));//maximum temperature the rod may be heated without exceeding a compressive stress of 172 MPa\n",
"disp(T_f,'maximum temperature(in °C) the rod may be heated without exceeding a compressive stress of 172 MPa=');"
   ]
   }
],
"metadata": {
		  "kernelspec": {
		   "display_name": "Scilab",
		   "language": "scilab",
		   "name": "scilab"
		  },
		  "language_info": {
		   "file_extension": ".sce",
		   "help_links": [
			{
			 "text": "MetaKernel Magics",
			 "url": "https://github.com/calysto/metakernel/blob/master/metakernel/magics/README.md"
			}
		   ],
		   "mimetype": "text/x-octave",
		   "name": "scilab",
		   "version": "0.7.1"
		  }
		 },
		 "nbformat": 4,
		 "nbformat_minor": 0
}
