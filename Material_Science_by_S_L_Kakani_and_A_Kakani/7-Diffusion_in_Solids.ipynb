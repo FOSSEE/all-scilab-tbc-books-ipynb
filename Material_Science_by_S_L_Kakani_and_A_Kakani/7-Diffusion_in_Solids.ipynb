{
"cells": [
 {
		   "cell_type": "markdown",
	   "metadata": {},
	   "source": [
       "# Chapter 7: Diffusion in Solids"
	   ]
	},
{
		   "cell_type": "markdown",
		   "metadata": {},
		   "source": [
			"## Example 7.1: find_the_time_required_for_carburization.sce"
		   ]
		  },
  {
"cell_type": "code",
	   "execution_count": null,
	   "metadata": {
	    "collapsed": true
	   },
	   "outputs": [],
"source": [
"//Exam:7.1\n",
"clc;\n",
"clear;\n",
"close;\n",
"D=1.28*10^(-11);//diffusion coefficient of carbon in given steel in m2/s\n",
"c_s=0.9;//Surface concentration of diffusion element in the surface\n",
"c_o=0.2;//Initial uniform concentration of the element in the solid\n",
"c_x=0.4;//Concentration of the diffusingelement at a distance x from thesurface\n",
"x=0.5*10^(-3);//depth from the surface in m\n",
"//(c_s-c_x)/(c_s-c_o)=erf(x/(2*(D*t)^(1/2)))\n",
"t=(x/(2*erfinv((c_s-c_x)/(c_s-c_o))*D^(1/2)))^2;//time required for carburization(in sec)\n",
"disp(t,'time required for carburization(in sec)=');"
   ]
   }
,
{
		   "cell_type": "markdown",
		   "metadata": {},
		   "source": [
			"## Example 7.2: time_required.sce"
		   ]
		  },
  {
"cell_type": "code",
	   "execution_count": null,
	   "metadata": {
	    "collapsed": true
	   },
	   "outputs": [],
"source": [
"//Exam:7.2\n",
"clc;\n",
"clear;\n",
"close;\n",
"D=4*10^(-17);//diffusion coefficient of carbon in given steel in m2/s\n",
"c_s=3*10^26;//Surface concentration of boron atoms in the surface\n",
"c_1=0;//Initial uniform concentration of the element in the solid\n",
"c_x=10^23;//Concentration of the diffusing element at a distance x from thesurface\n",
"x=2*10^(-6);//depth from the surface in m\n",
"//(c_s-c_x)/(c_s-c_1)=erf(x/(2*(D*t)^(1/2)))\n",
"a=(erfinv((c_s-c_x)/(c_s-c_1)));\n",
"disp(a,'==')\n",
"t=(x^2/(D*4*(2.55)^2));//time required to get a boron content of 1023 atoms per m3 at a depth of 2 micro meter\n",
"disp(t,'time required to get a boron content of 1023 atoms per m3 at a depth of 2 micro meter(in sec)=');\n",
"disp((c_s-c_x)/(c_s-c_1));\n",
"T=(x/(2*(2.55)*D^(1/2)))^2;\n",
"disp(T,'==')"
   ]
   }
,
{
		   "cell_type": "markdown",
		   "metadata": {},
		   "source": [
			"## Example 7.3: find_the_constant_of_the_equation_and_activation_energy.sce"
		   ]
		  },
  {
"cell_type": "code",
	   "execution_count": null,
	   "metadata": {
	    "collapsed": true
	   },
	   "outputs": [],
"source": [
"//Exam:7.3\n",
"clc;\n",
"clear;\n",
"close;\n",
"t_1=736;//Temperature in °C\n",
"t_2=782;//Temperature in °C\n",
"T_1=t_1+273;//Temperature in K\n",
"T_2=t_2+273;//Temperature in K\n",
"D_1=2*10^(-13);//Coefficient of diffusion at T_1 (in m2/s)\n",
"D_2=5*10^(-13);//Coefficient of diffusion at T_2 (in m2/s)\n",
"k=1.38*10^(-23);//in J/K\n",
"//log(d_1)=log(d_o)-E/(k*T_1)\n",
"//log(d_2)=log(d_o)-E/(k*T_2)\n",
"E=(log(D_1)-log(D_2))/((1/(k*T_1))-(1/(k*T_2)));//\n",
"disp(E,'activation energy(in J)=');\n",
"D_o=2*10^(-13)/exp(E/(k*T_1));\n",
"disp(D_o,'constant of the equation(in m2/s)=')\n",
"t_4=500;//Temperature in °C\n",
"T_4=t_4+273;//Temperature in °K\n",
"D_4=D_o*exp(E/(k*T_4));//diffusion coefficient at 500°C\n",
"disp(D_4,'diffusion coefficient at 500°C(in m2/s)=')"
   ]
   }
,
{
		   "cell_type": "markdown",
		   "metadata": {},
		   "source": [
			"## Example 7.4: approximate_time_that_will_produce_same_diffussion_at_500_C.sce"
		   ]
		  },
  {
"cell_type": "code",
	   "execution_count": null,
	   "metadata": {
	    "collapsed": true
	   },
	   "outputs": [],
"source": [
"//Exam:7.4\n",
"clc;\n",
"clear;\n",
"close;\n",
"D_500=4.8*10^(-14);//Diffusion coefficient for copper in aluminimum at 500*C(in m^2/s)\n",
"D_600=5.3*10^(-13);//Diffusion coefficient for copper in aluminimum at 600*C(in m^2/s)\n",
"t_600=10;//time of diffussion at 600*C(in Hours)\n",
"//D_500*t_500=D_600*t_600\n",
"t_500=D_600*t_600/D_500;//time of diffussion at 500*C\n",
"disp(t_500,'Time at 500*C that will produce the same diffusion as in 600*C(in Hours)=');"
   ]
   }
],
"metadata": {
		  "kernelspec": {
		   "display_name": "Scilab",
		   "language": "scilab",
		   "name": "scilab"
		  },
		  "language_info": {
		   "file_extension": ".sce",
		   "help_links": [
			{
			 "text": "MetaKernel Magics",
			 "url": "https://github.com/calysto/metakernel/blob/master/metakernel/magics/README.md"
			}
		   ],
		   "mimetype": "text/x-octave",
		   "name": "scilab",
		   "version": "0.7.1"
		  }
		 },
		 "nbformat": 4,
		 "nbformat_minor": 0
}
