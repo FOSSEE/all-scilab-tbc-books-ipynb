{
"cells": [
 {
		   "cell_type": "markdown",
	   "metadata": {},
	   "source": [
       "# Chapter 8: Mechanical Properties of Materials and Mechanical Tests"
	   ]
	},
{
		   "cell_type": "markdown",
		   "metadata": {},
		   "source": [
			"## Example 8.1: Determine_the_fracture_strength.sce"
		   ]
		  },
  {
"cell_type": "code",
	   "execution_count": null,
	   "metadata": {
	    "collapsed": true
	   },
	   "outputs": [],
"source": [
"//Exam:8.1\n",
"clc;\n",
"clear;\n",
"close;\n",
"Y=180*10^9;//Young's modulus of a certain material(in N/m^2)\n",
"E=1.8;//true surface energy (in J/m^2)\n",
"c=(5/2)*10^-6;//Crack (in meter)\n",
"pi=3.14;\n",
"F_strength=(2*Y*E/(pi*c))^(1/2);\n",
"disp(F_strength*10^-6,'fracture strength(in MN/m^2)=');"
   ]
   }
,
{
		   "cell_type": "markdown",
		   "metadata": {},
		   "source": [
			"## Example 8.2: true_stress_and_strain_with_engineering_stress_and_strain.sce"
		   ]
		  },
  {
"cell_type": "code",
	   "execution_count": null,
	   "metadata": {
	    "collapsed": true
	   },
	   "outputs": [],
"source": [
"//Exam:8.2\n",
"clc;\n",
"clear;\n",
"close;\n",
"d_o=12.7;//tensile test specimen diameter (in mm)\n",
"d=12;//tensile test specimen diameter after load (in mm)\n",
"P=76*10^3;//load(in N)\n",
"pi=22/7;\n",
"A_o=(pi/4)*(d_o^2);//Initial area of cross section(in mm^2)\n",
"A=(pi/4)*(d^2);//area of cross section after load of 76 kN\n",
"E_stress=P/A_o;//engineering stress\n",
"T_stress=P/A;//true stress\n",
"T_strain=log(A_o/A);//true strain\n",
"E_strain=exp(T_strain)-1;//engineering strain\n",
"disp(E_stress,'engineering stress(in N/mm^2)=');\n",
"disp(T_stress,'true stress(in N/mm^2)=');\n",
"disp(E_strain,'engineering strain=');\n",
"disp(T_strain,'true strain=');"
   ]
   }
,
{
		   "cell_type": "markdown",
		   "metadata": {},
		   "source": [
			"## Example 8.3: Determine_the_fracture_strength.sce"
		   ]
		  },
  {
"cell_type": "code",
	   "execution_count": null,
	   "metadata": {
	    "collapsed": true
	   },
	   "outputs": [],
"source": [
"//Exam:8.3\n",
"clc;\n",
"clear;\n",
"close;\n",
"Y=210*10^9;//Young's modulus of a certain material(in N/m^2)\n",
"E=10;//true surface energy (in J/m^2)\n",
"c=(100/2)*10^-6;//Crack (in meter)\n",
"pi=3.14;\n",
"F_strength=(2*Y*E/(pi*c))^(1/2);\n",
"disp(F_strength,'fracture strength(in Newton/m^2)=');"
   ]
   }
,
{
		   "cell_type": "markdown",
		   "metadata": {},
		   "source": [
			"## Example 8.4: Find_the_resultant_elongation.sce"
		   ]
		  },
  {
"cell_type": "code",
	   "execution_count": null,
	   "metadata": {
	    "collapsed": true
	   },
	   "outputs": [],
"source": [
"//Exam:8.4\n",
"clc;\n",
"clear;\n",
"close;\n",
"l_o=305*10^-3;//length of copper piece(in meter)\n",
"E=110*10^9;//surface energy\n",
"stress=276*10^6;//in Pa\n",
"dl=stress*l_o/E;//resultant elongation(in meter)\n",
"disp(dl*10^3,'resultant elongation(in mm)=');"
   ]
   }
,
{
		   "cell_type": "markdown",
		   "metadata": {},
		   "source": [
			"## Example 8.5: Compute_the_strain_hardening_exponent.sce"
		   ]
		  },
  {
"cell_type": "code",
	   "execution_count": null,
	   "metadata": {
	    "collapsed": true
	   },
	   "outputs": [],
"source": [
"//Exam:8.5\n",
"clc;\n",
"clear;\n",
"close;\n",
"T_stress=415;//True stress (in Megapascal)\n",
"T_strain=0.10;//True strain \n",
"K=1035;//(in Megapascal)\n",
"n=(log(T_stress)-log(K))/log(T_strain);//\n",
"disp(n,'Strain hardening exponent for an alloy=')"
   ]
   }
],
"metadata": {
		  "kernelspec": {
		   "display_name": "Scilab",
		   "language": "scilab",
		   "name": "scilab"
		  },
		  "language_info": {
		   "file_extension": ".sce",
		   "help_links": [
			{
			 "text": "MetaKernel Magics",
			 "url": "https://github.com/calysto/metakernel/blob/master/metakernel/magics/README.md"
			}
		   ],
		   "mimetype": "text/x-octave",
		   "name": "scilab",
		   "version": "0.7.1"
		  }
		 },
		 "nbformat": 4,
		 "nbformat_minor": 0
}
