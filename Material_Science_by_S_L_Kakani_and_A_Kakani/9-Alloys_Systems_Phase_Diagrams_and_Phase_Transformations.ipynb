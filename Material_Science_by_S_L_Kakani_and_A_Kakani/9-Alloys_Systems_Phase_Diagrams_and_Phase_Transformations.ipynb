{
"cells": [
 {
		   "cell_type": "markdown",
	   "metadata": {},
	   "source": [
       "# Chapter 9: Alloys Systems Phase Diagrams and Phase Transformations"
	   ]
	},
{
		   "cell_type": "markdown",
		   "metadata": {},
		   "source": [
			"## Example 9.1: Find_the_percentage_of_proeutectoid_ferrite.sce"
		   ]
		  },
  {
"cell_type": "code",
	   "execution_count": null,
	   "metadata": {
	    "collapsed": true
	   },
	   "outputs": [],
"source": [
"//Exam:9.1\n",
"clc;\n",
"clear;\n",
"close;\n",
"//Fulcrum is at 0.5% carbon\n",
"//from lever rule\n",
"Pro_f=((0.80-0.5)/(0.80-0.0))*100;// % Proeutectoid ferrite\n",
"Pea_f=100-Pro_f;// % Pearlite ferrite\n",
"disp(Pro_f,'% Proeutectoid ferrite=');\n",
"disp(Pea_f,'% Pearlite ferrite=');"
   ]
   }
,
{
		   "cell_type": "markdown",
		   "metadata": {},
		   "source": [
			"## Example 9.2: Degrees_of_freedom_of_a_system_of_two_components.sce"
		   ]
		  },
  {
"cell_type": "code",
	   "execution_count": null,
	   "metadata": {
	    "collapsed": true
	   },
	   "outputs": [],
"source": [
"//Exam:9.2\n",
"clc;\n",
"clear;\n",
"close;\n",
"N=2;\n",
"C=2;\n",
"//F=C-P+N\n",
"P_1=1;\n",
"P_2=2;\n",
"P_3=3;\n",
"P_4=4;\n",
"F_1=C-P_1+N;\n",
"F_2=C-P_2+N;\n",
"F_3=C-P_3+N;\n",
"F_4=C-P_4+N;\n",
"disp(F_1,'Degrees of freedom for 1 phase=');\n",
"disp(F_2,'Degrees of freedom for 2 phases=');\n",
"disp(F_3,'Degrees of freedom for 3 phases=');\n",
"disp(F_4,'Degrees of freedom for 4 phases=');"
   ]
   }
,
{
		   "cell_type": "markdown",
		   "metadata": {},
		   "source": [
			"## Example 9.3: Find_the_minimum_number_of_components_in_the_system.sce"
		   ]
		  },
  {
"cell_type": "code",
	   "execution_count": null,
	   "metadata": {
	    "collapsed": true
	   },
	   "outputs": [],
"source": [
"//Exam:9.3\n",
"clc;\n",
"clear;\n",
"close;\n",
"P=4;//Number of phases exhibit by a material\n",
"F=0;//Minimum degrees of freedom\n",
"//modified form of the phase rule F=C-P+1\n",
"C=F+P-1;//minimum number of components in the system\n",
"disp(C,'the minimum number of components in the system=')"
   ]
   }
],
"metadata": {
		  "kernelspec": {
		   "display_name": "Scilab",
		   "language": "scilab",
		   "name": "scilab"
		  },
		  "language_info": {
		   "file_extension": ".sce",
		   "help_links": [
			{
			 "text": "MetaKernel Magics",
			 "url": "https://github.com/calysto/metakernel/blob/master/metakernel/magics/README.md"
			}
		   ],
		   "mimetype": "text/x-octave",
		   "name": "scilab",
		   "version": "0.7.1"
		  }
		 },
		 "nbformat": 4,
		 "nbformat_minor": 0
}
