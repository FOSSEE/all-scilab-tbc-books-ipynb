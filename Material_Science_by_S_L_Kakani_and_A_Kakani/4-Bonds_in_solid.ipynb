{
"cells": [
 {
		   "cell_type": "markdown",
	   "metadata": {},
	   "source": [
       "# Chapter 4: Bonds in solid"
	   ]
	},
{
		   "cell_type": "markdown",
		   "metadata": {},
		   "source": [
			"## Example 4.1: distance_at_which_the_dissociation_occurs.sce"
		   ]
		  },
  {
"cell_type": "code",
	   "execution_count": null,
	   "metadata": {
	    "collapsed": true
	   },
	   "outputs": [],
"source": [
"//Exam:4.1\n",
"clc;\n",
"clear;\n",
"close;\n",
"r_o=2.8//interatomic distance in Å\n",
"R_o=2.8*10^(-10);//interatomic distance in m\n",
"u_o=8;//released energy in eV\n",
"e=1.6*10^(-19);//charge of electron in C\n",
"U_o=8*e//released energy in Joule\n",
"A=(5/4)*U_o*(R_o^2);//proportionality constant for attraction in J-m2\n",
"B=A*(R_o^8)/5;//proportionality constant for repulsion in J-m2\n",
"r_c=(110*B/(6*A))^(1/8);//interatomic distance at which the dissociation occurs in m\n",
"F=-(2/r_c^3)*(A-5*B/(r_c^8));//the force required to dissociate the molecule in N\n",
"disp(A,'proportionality constant for attraction (in J-m2)=');\n",
"disp(B,'proportionality constant for repulsion (in J-m2)=');\n",
"disp(r_c,'interatomic distance at which the dissociation occurs (in m)=');\n",
"disp(F,'the force required to dissociate the molecule (in N)=');"
   ]
   }
,
{
		   "cell_type": "markdown",
		   "metadata": {},
		   "source": [
			"## Example 4.2: Find_the_repulsive_exponent_n.sce"
		   ]
		  },
  {
"cell_type": "code",
	   "execution_count": null,
	   "metadata": {
	    "collapsed": true
	   },
	   "outputs": [],
"source": [
"//Exam:4.2\n",
"clc;\n",
"clear;\n",
"close;\n",
"r_o=3.14;//nearest neighbour equilibrium distance in Å\n",
"R_o=3.14*10^(-10);//nearest neighbour equilibrium distance in m\n",
"K=5.747*10^(-11);//compressibility of KCl in m2/N\n",
"M=1.748;//Madelung constant\n",
"pi=22/7;\n",
"E_o=8.854*10^(-12);\n",
"q=1.6*10^(-19);//electron charge\n",
"n=1+18*(R_o^4)*4*pi*E_o/(K*M*q^2);\n",
"disp(n,'repulsive exponent n=');"
   ]
   }
,
{
		   "cell_type": "markdown",
		   "metadata": {},
		   "source": [
			"## Example 4.3: Find_the_radius_of_Cl_ion.sce"
		   ]
		  },
  {
"cell_type": "code",
	   "execution_count": null,
	   "metadata": {
	    "collapsed": true
	   },
	   "outputs": [],
"source": [
"//Exam:4.3\n",
"clc;\n",
"clear;\n",
"close;\n",
"F_1=3.02*10^(-9);//force of attraction b/w ions of Na+ and Cl-\n",
"Z_1=+1;\n",
"Z_2=-1;\n",
"e=1.6*10^(-19);\n",
"E_o=8.854*10^-12;\n",
"pi=22/7;\n",
"r_Na=0.95;//ionic radius of Na+ ion\n",
"r=(-Z_1*Z_2*e^2/(4*pi*E_o*F_1))^(1/2);//Radius of ion in meter\n",
"R=r/10^(-10);//Radius of ion in Angstrom\n",
"r_Cl=(R-r_Na);//Radius of Cl- ion in Angstrom\n",
"disp(r_Cl,'Ionic Radius of Cl- ion (in Angstrom)=');"
   ]
   }
,
{
		   "cell_type": "markdown",
		   "metadata": {},
		   "source": [
			"## Example 4.4: force_of_attraction_between_ions.sce"
		   ]
		  },
  {
"cell_type": "code",
	   "execution_count": null,
	   "metadata": {
	    "collapsed": true
	   },
	   "outputs": [],
"source": [
"//Exam:4.4\n",
"clc;\n",
"clear;\n",
"close;\n",
"Z_1=+2;\n",
"Z_2=-2;\n",
"r_Mg=0.65;//radius of Mg++ ion\n",
"r_S=1.84;//radius of S-- ion\n",
"r=r_Mg+r_S;//net radius(in Angstrom)\n",
"R=r*10^(-10);//net radius(in meter)\n",
"e=1.6*10^(-19);\n",
"E_o=8.854*10^-12;\n",
"pi=22/7;\n",
"F=-Z_1*Z_2*e^2/(4*pi*E_o*R^2);//force of attraction between ions(in Newton)\n",
"disp(F,'force of attraction between ions(in Newton)=');"
   ]
   }
,
{
		   "cell_type": "markdown",
		   "metadata": {},
		   "source": [
			"## Example 4.5: How_much_net_energy_is_spent_in_the_process.sce"
		   ]
		  },
  {
"cell_type": "code",
	   "execution_count": null,
	   "metadata": {
	    "collapsed": true
	   },
	   "outputs": [],
"source": [
"//Exam:4.5\n",
"clc;\n",
"clear;\n",
"close;\n",
"//Na atom requires +5.14 eV of energy. When this electron is transferred to a vacant position,it gives back –4.02 eV of energy\n",
"E_1=+5.14;//in eV\n",
"E_2=-4.02;//in eV\n",
"NET_energy=E_1+E_2;//in eV\n",
"disp(NET_energy,'Net spent energy in whole process(in eV)=')"
   ]
   }
,
{
		   "cell_type": "markdown",
		   "metadata": {},
		   "source": [
			"## Example 4.6: Estimate_the_fraction_of_hydrogen_bonds_that_are_broken_when_ice_melts.sce"
		   ]
		  },
  {
"cell_type": "code",
	   "execution_count": null,
	   "metadata": {
	    "collapsed": true
	   },
	   "outputs": [],
"source": [
"//Exam:4.6\n",
"clc;\n",
"clear;\n",
"close;\n",
"Enthalpy=6.02;//enthalpy of fusion of ice is 6.02 kJ/mol\n",
"E_h=20.5;//Hydrogen bond energy (in kJ/mol)\n",
"//There are two moles of hydrogen bonds per mole of H2O in ice.\n",
"H_b=Enthalpy/(2*E_h);//the fraction of hydrogen bonds that are broken when ice melts\n",
"disp(H_b,'fraction of hydrogen bonds that are broken when ice melts=')"
   ]
   }
],
"metadata": {
		  "kernelspec": {
		   "display_name": "Scilab",
		   "language": "scilab",
		   "name": "scilab"
		  },
		  "language_info": {
		   "file_extension": ".sce",
		   "help_links": [
			{
			 "text": "MetaKernel Magics",
			 "url": "https://github.com/calysto/metakernel/blob/master/metakernel/magics/README.md"
			}
		   ],
		   "mimetype": "text/x-octave",
		   "name": "scilab",
		   "version": "0.7.1"
		  }
		 },
		 "nbformat": 4,
		 "nbformat_minor": 0
}
