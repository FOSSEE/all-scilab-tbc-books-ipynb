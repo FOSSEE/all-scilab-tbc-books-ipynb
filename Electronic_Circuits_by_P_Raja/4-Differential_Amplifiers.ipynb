{
"cells": [
 {
		   "cell_type": "markdown",
	   "metadata": {},
	   "source": [
       "# Chapter 4: Differential Amplifiers"
	   ]
	},
{
		   "cell_type": "markdown",
		   "metadata": {},
		   "source": [
			"## Example 4.10: Three_components_of_input_offset_voltage.sce"
		   ]
		  },
  {
"cell_type": "code",
	   "execution_count": null,
	   "metadata": {
	    "collapsed": true
	   },
	   "outputs": [],
"source": [
"// Exa 4.10\n",
"clc;\n",
"clear;\n",
"close;\n",
"// Given data  \n",
"delta_RDbyRD= 2/100;\n",
"delta_WLbyWL= 2/100;\n",
"delta_Vt= 2;//in mV\n",
"delta_Vt= delta_Vt*10^-3;// in V\n",
"//(From Exa 4.4)\n",
"V_A= 20;// in V\n",
"R_D= 5;// in kΩ\n",
"R_D= R_D*10^3;// in Ω\n",
"I= 0.8;// in mA\n",
"I=I*10^-3;// in A\n",
"i_D= I/2;// in A\n",
"unCox= 0.2;// mA/V^2\n",
"unCox= unCox*10^-3;// in A/V^2\n",
"WbyL= 100;\n",
"// Formula i_D= 1/2*unCox*WbyL*V_OV^2\n",
"V_OV= sqrt(2*i_D/(unCox*WbyL));// in V\n",
"V_OS1= V_OV/2*delta_RDbyRD;// in V\n",
"\n",
"// V_OS due to W/L ratio\n",
"V_OS2= V_OV/2*delta_WLbyWL;// in V\n",
"\n",
"// V_OS due to threshold voltage\n",
"V_OS3= delta_Vt;// in V\n",
"// Total offset voltage\n",
"V_OS= sqrt(V_OS1^2+V_OS2^2+V_OS3^2);// in V\n",
"V_OS= V_OS*10^3;// in mV\n",
"disp(V_OS,'Total offset voltage in mV is : ')"
   ]
   }
,
{
		   "cell_type": "markdown",
		   "metadata": {},
		   "source": [
			"## Example 4.11: Value_of_Gm_Ro_Ad_Acm_and_CMRR.sce"
		   ]
		  },
  {
"cell_type": "code",
	   "execution_count": null,
	   "metadata": {
	    "collapsed": true
	   },
	   "outputs": [],
"source": [
"// Exa 4.11\n",
"clc;\n",
"clear;\n",
"close;\n",
"// Given data \n",
"WLn= 100;\n",
"WLp= 200;\n",
"unCox= 0.2;// mA/V^2\n",
"unCox=unCox*10^-3;//in A/V^2\n",
"RSS= 25;// in kΩ\n",
"RSS= RSS*10^3;// in Ω\n",
"I=0.8;// in mA\n",
"I=I*10^-3;//in A\n",
"V_A= 20;// in V\n",
"i_D= I/2;// in A\n",
"// Formula i_D= 1/2*unCox*WLn*V_OV^2\n",
"V_OV= sqrt(2*i_D/(unCox*WLn));// in V\n",
"gm= I/V_OV;// in A/V\n",
"disp(gm*10^3,'Value of Gm in mA/V is : ')\n",
"ro2= V_A/(I/2);// in ohm\n",
"ro4= ro2;// in ohm\n",
"Ro= ro2*ro4/(ro2+ro4);// in ohm\n",
"disp(Ro*10^-3,'Value of Ro in kΩ is : ')\n",
"Ad= gm*Ro;// in V/V\n",
"disp(Ad,'Value  of Ad in V/V is :')\n",
"// Finding the value of gm3\n",
"upCox= 0.1;// mA/V^2\n",
"upCox=upCox*10^-3;//in A/V^2\n",
"// Formula i_D= 1/2*upCox*WLp*V_OV^2\n",
"V_OV= sqrt(2*i_D/(upCox*WLp));// in V\n",
"gm3= I/V_OV;// in A/V\n",
"Acm= 1/(2*gm3*RSS);//in V/V\n",
"disp(abs(Acm),'Value of |Acm| in V/V is : ')\n",
"CMRRindB= 20*log10(abs(Ad)/abs(Acm));//in dB\n",
"disp(round(CMRRindB),'CMRR in dB is :')"
   ]
   }
,
{
		   "cell_type": "markdown",
		   "metadata": {},
		   "source": [
			"## Example 4.12: Value_of_Gm_Ro_Ad_and_Rid.sce"
		   ]
		  },
  {
"cell_type": "code",
	   "execution_count": null,
	   "metadata": {
	    "collapsed": true
	   },
	   "outputs": [],
"source": [
"// Exa 4.12\n",
"clc;\n",
"clear;\n",
"close;\n",
"// Given data \n",
"I=0.8;// in mA\n",
"I=I*10^-3;//in A\n",
"V_A= 100;// in V\n",
"Bita=160;\n",
"VT=25;// in mV\n",
"VT= VT*10^-3;//in V\n",
"gm= (I/2)/VT;// in A/V\n",
"Gm= gm;// Short circuit trnsconductance in mA/V\n",
"disp(Gm*10^3,'The value of Gm in mA/V')\n",
"ro2= V_A/(I/2);// in ohm\n",
"ro4= ro2;// in ohm\n",
"Ro= ro2*ro4/(ro2+ro4);// in ohm\n",
"disp(Ro*10^-3,'The value of Ro in kΩ is :')\n",
"Ad= Gm*Ro;// in V/V\n",
"disp(Ad,'Value  of Ad in V/V is :')\n",
"r_pi= Bita/gm;//in Ω\n",
"Rid= 2*r_pi;// in Ω\n",
"disp(Rid*10^-3,'The value of Rid in kΩ is :')\n",
""
   ]
   }
,
{
		   "cell_type": "markdown",
		   "metadata": {},
		   "source": [
			"## Example 4.13: Value_of_VOV_and_VGS.sce"
		   ]
		  },
  {
"cell_type": "code",
	   "execution_count": null,
	   "metadata": {
	    "collapsed": true
	   },
	   "outputs": [],
"source": [
"// Exa 4.13\n",
"clc;\n",
"clear;\n",
"close;\n",
"// Given data \n",
"Vtp= -0.8;// in V\n",
"KpWL= 3.5;// in mA/V^2\n",
"I=0.7;// in mA\n",
"I=I*10^-3;// in A\n",
"R_D= 2;// in kΩ\n",
"R_D=R_D*10^3;// in Ω\n",
"KpWL=KpWL*10^-3;//in A/V^2\n",
"v_G1= 0;// in V\n",
"v_G2=v_G1;// in V\n",
"VSS= 2.5;// in V\n",
"VDD=VSS;// in V\n",
"VCS= 0.5;// in V\n",
"// Part (a)\n",
"V_OV= -sqrt(I/KpWL);// in V\n",
"disp(V_OV,'The value of V_OV in volts is : ')\n",
"V_GS= V_OV+Vtp;// in V\n",
"disp(V_GS,'The value of V_GS in volts is : ')\n",
"V_G= 0;// as gate is connected ground\n",
"v_S1= V_G-V_GS;// in V\n",
"v_S2= v_S1;// in V\n",
"disp(v_S1,'The value of V_S in volts is : ')\n",
"v_D1= I/2*R_D-VDD;// in V\n",
"v_D2=v_D1;// in V\n",
"disp(v_D1,'The value of v_D1 in V is : ')\n",
"disp(v_D2,'The value of v_D2 in V is : ')\n",
"\n",
"// Part (b)\n",
"V_CMmin= I*R_D/2-VDD+Vtp;// in V\n",
"V_CMmax= VSS-VCS+Vtp+V_OV;// in V\n",
"disp(V_CMmin,'The value of V_CMmin in volt is : ')\n",
"disp(V_CMmax,'The value of V_CMmax in volt is : ')"
   ]
   }
,
{
		   "cell_type": "markdown",
		   "metadata": {},
		   "source": [
			"## Example 4.14: Ratio_of_W_and_L.sce"
		   ]
		  },
  {
"cell_type": "code",
	   "execution_count": null,
	   "metadata": {
	    "collapsed": true
	   },
	   "outputs": [],
"source": [
"// Exa 4.14\n",
"clc;\n",
"clear;\n",
"close;\n",
"// Given data \n",
"V_OV= 0.2;// in V\n",
"gm=1;// in mA/V\n",
"gm=gm*10^-3;// in A/V\n",
"Vt=0.8;// in V\n",
"unCox= 90;// in µA/V^2\n",
"unCox=unCox*10^-6;// in A/V^2\n",
"// gm= I/V_OV\n",
"I= gm*V_OV;// in A\n",
"disp(I*10^3,'Bias current in mA is : ')\n",
"I_D= I/2;// in A\n",
"// Formula I_D= 1/2*unCox*WLn*V_OV^2\n",
"WbyL= 2*I_D/(unCox*V_OV^2);\n",
"disp(WbyL,'W/L ratio is : ')"
   ]
   }
,
{
		   "cell_type": "markdown",
		   "metadata": {},
		   "source": [
			"## Example 4.15: Value_of_VOV_gm_ro_and_Ad.sce"
		   ]
		  },
  {
"cell_type": "code",
	   "execution_count": null,
	   "metadata": {
	    "collapsed": true
	   },
	   "outputs": [],
"source": [
"// Exa 4.15\n",
"clc;\n",
"clear;\n",
"close;\n",
"// Given data \n",
"I=0.5;// in mA\n",
"I=I*10^-3;// in A\n",
"WbyL= 50;\n",
"unCox= 250;// in µA/V^2\n",
"unCox=unCox*10^-6;// in A/V^2\n",
"V_A= 10;// in V\n",
"R_D= 4;//in kΩ\n",
"R_D= R_D*10^3;//in Ω\n",
"V_OV= sqrt(I/(WbyL*unCox));//in V\n",
"disp(V_OV,'The value of V_OV in V is : ')\n",
"gm= I/V_OV;// in A/V\n",
"disp(gm*10^3,'The value of gm in mA/V is ')\n",
"I_D=I/2;// in A\n",
"ro= V_A/I_D;// in Ω\n",
"disp(ro*10^-3,'The value of ro in kΩ is : ')\n",
"Ad= gm*(R_D*ro/(R_D+ro));// in V/V\n",
"disp(Ad,'The value of Ad in V/V is : ')"
   ]
   }
,
{
		   "cell_type": "markdown",
		   "metadata": {},
		   "source": [
			"## Example 4.16: Voltage_at_emitter_and_outputs.sce"
		   ]
		  },
  {
"cell_type": "code",
	   "execution_count": null,
	   "metadata": {
	    "collapsed": true
	   },
	   "outputs": [],
"source": [
"// Exa 4.16\n",
"clc;\n",
"clear;\n",
"close;\n",
"// Given data \n",
"I=1;// in mA\n",
"I=I*10^-3;// in A\n",
"i_C=1;// in mA\n",
"i_C=i_C*10^-3;// in A\n",
"V_CC= 5;// in V\n",
"V_CM= -2;// in V\n",
"V_BE= 0.7;// in V\n",
"R_C= 3;// in kΩ\n",
"R_C= R_C*10^3;// in Ω\n",
"Alpha=1;\n",
"Bita=100;\n",
"V_B= 1;// in V\n",
"i_C1= Alpha*I;// in A\n",
"i_C2=0; \n",
"v_E= V_B-V_BE;// in V\n",
"disp(v_E,'Emitters voltage in volts is : ')\n",
"v_C1= V_CC-i_C1*R_C;// in V\n",
"v_C2= V_CC-i_C2*R_C;// in V\n",
"disp('Output voltage is '+string(v_C1)+' V and '+string(v_C2)+' V')"
   ]
   }
,
{
		   "cell_type": "markdown",
		   "metadata": {},
		   "source": [
			"## Example 4.1: Value_of_ic1_and_vce1.sce"
		   ]
		  },
  {
"cell_type": "code",
	   "execution_count": null,
	   "metadata": {
	    "collapsed": true
	   },
	   "outputs": [],
"source": [
"// Exa 4.1\n",
"clc;\n",
"clear;\n",
"close;\n",
"// Given data\n",
"V_CC= 10;// in volt\n",
"V_EE= -10;// in volt\n",
"I= 1;// in mA\n",
"I=I*10^-3;// in A\n",
"R_C= 10;// in kohm\n",
"R_C=R_C*10^3;// in kohm\n",
"V_BE=0.7;// in volt\n",
"\n",
"i_C1= I/2;// in A\n",
"i_C2= i_C1;// in A\n",
"disp(i_C1*10^3,'Value of i_C1 in mA is : ')\n",
"\n",
"V_C1= V_CC-i_C1*R_C;// in V\n",
"// For V_cm=0 volt\n",
"V_E= -0.7;// in volt\n",
"V_CE1= V_C1-V_E;// in volt\n",
"disp(V_CE1,'For V_cm =0 , The alue of V_CE1 in volt is ')\n",
"\n",
"// For V_cm= -5 volt\n",
"V_cm= -5;// in V\n",
"V_B= V_cm;// in V\n",
"// From V_BE= V_B-V_E\n",
"V_E= V_B-V_BE;// in volt\n",
"V_CE1= V_C1-V_E;// in volt\n",
"disp(V_CE1,'For V_cm =-5V , The alue of V_CE1 in volt is ')\n",
"\n",
"// For V_cm= 5 volt\n",
"V_cm= 5;// in V\n",
"V_B= V_cm;// in V\n",
"V_E= V_B-V_BE;// in volt\n",
"V_CE1= V_C1-V_E;// in volt\n",
"disp(V_CE1,'For V_cm =5V , The alue of V_CE1 in volt is ')"
   ]
   }
,
{
		   "cell_type": "markdown",
		   "metadata": {},
		   "source": [
			"## Example 4.2: Value_of_VOV_and_VGS.sce"
		   ]
		  },
  {
"cell_type": "code",
	   "execution_count": null,
	   "metadata": {
	    "collapsed": true
	   },
	   "outputs": [],
"source": [
"// Exa 4.2\n",
"clc;\n",
"clear;\n",
"close;\n",
"// Given data\n",
"V_DD= 1.5;// in V\n",
"V_SS= V_DD;// in V\n",
"KnWL= 4;// in mA/V^2\n",
"KnWL=KnWL*10^-3;// in A/V^2\n",
"Vt= 0.5;// in V\n",
"I=0.4;// in mA\n",
"I=I*10^-3;//in A\n",
"R_D= 2.5;// in kΩ\n",
"R_D= R_D*10^3;// in Ω\n",
"\n",
"// Part (a)\n",
"disp('Part (a)')\n",
"V_OV= sqrt(I/KnWL);// in V\n",
"V_GS= V_OV+Vt;// in V\n",
"disp(V_OV,'Value of V_OV in volt is : ')\n",
"disp(V_GS,'Value of V_GS in volt is : ')\n",
"\n",
"// Part (b)\n",
"disp('Part (b)')\n",
"V_CM= 0;// in volt\n",
"V_S= -V_GS;// in volt\n",
"disp(V_S,'Value of V_S in volt is :')\n",
"I=0.4;// in mA\n",
"i_D1= I/2;// in mA\n",
"disp(i_D1,'Value of i_D1 in mA is :')\n",
"i_D1=i_D1*10^-3;// in A\n",
"V_D1= V_DD-i_D1*R_D;// in V\n",
"V_D2=V_D1;// in V\n",
"disp(V_D1,'Value of V_D1 in volt is ')\n",
"disp(V_D2,'Value of V_D2 in volt is ')\n",
"\n",
"\n",
"// Part (c)\n",
"disp('Part (c)')\n",
"V_CM=1;// in V\n",
"V_GS= 0.82;// in V\n",
"V_G= 1;// in V\n",
"V_S= V_G-V_GS;// in V\n",
"disp(V_S,'Value of V_S in volt is :')\n",
"i_D1= I/2;// in mA\n",
"disp(i_D1,'Value of i_D1 in mA is :')\n",
"i_D1=i_D1*10^-3;// in A\n",
"V_D1= V_DD-i_D1*R_D;// in V\n",
"V_D2=V_D1;// in V\n",
"disp(V_D1,'Value of V_D1 in volt is ')\n",
"disp(V_D2,'Value of V_D2 in volt is ')\n",
"\n",
"// Part (d)\n",
"disp('Part (d)')\n",
"V_CM_max= Vt+V_DD-i_D1*R_D\n",
"disp(V_CM_max,'Highest value of V_CM in volt is :')\n",
"\n",
"// Part (e)\n",
"V_S= 0.4;// in V\n",
"disp('Part (e)')\n",
"V_CM_min= -V_SS+V_S+Vt+V_OV;// in V\n",
"disp(V_CM_min,'Lowest value of V_CM in volt is')\n",
"V_Smin= V_CM_min-V_GS;// in volt\n",
"disp(V_Smin,'Lowest value of V_S in volt is')\n",
""
   ]
   }
,
{
		   "cell_type": "markdown",
		   "metadata": {},
		   "source": [
			"## Example 4.3: Required_values_of_WbyL.sce"
		   ]
		  },
  {
"cell_type": "code",
	   "execution_count": null,
	   "metadata": {
	    "collapsed": true
	   },
	   "outputs": [],
"source": [
"// Exa 4.3\n",
"clc;\n",
"clear;\n",
"close;\n",
"format('v',5)\n",
"// Given data\n",
"I= 0.4;// in mA\n",
"unCox= 0.2;// in mA/V^2\n",
"i_D= I/2;// in mA\n",
"V_OV1= 0.2;// in V\n",
"V_OV2= 0.3;// in V\n",
"V_OV3= 0.4;// in V\n",
"WbyL1= 2*i_D/(unCox*V_OV1^2);\n",
"gm1= I/V_OV1;// in mA/V\n",
"WbyL2= 2*i_D/(unCox*V_OV2^2);\n",
"gm2= I/V_OV2;// in mA/V\n",
"WbyL3= 2*i_D/(unCox*V_OV3^2);\n",
"gm3= I/V_OV3;// in mA/V\n",
"disp('Vov (in V)            '+string(V_OV1)+'           '+string(V_OV2)+'           '+string(V_OV3))\n",
"disp('W/L                     '+string(WbyL1)+'           '+string(WbyL2)+'           '+string(WbyL3))\n",
"disp('gm(in mA/V)        '+string(gm1)+'           '+string(gm2)+'               '+string(gm3))"
   ]
   }
,
{
		   "cell_type": "markdown",
		   "metadata": {},
		   "source": [
			"## Example 4.4: Value_of_VOV_gm_ro_and_Ad.sce"
		   ]
		  },
  {
"cell_type": "code",
	   "execution_count": null,
	   "metadata": {
	    "collapsed": true
	   },
	   "outputs": [],
"source": [
"// Exa 4.4\n",
"clc;\n",
"clear;\n",
"close;\n",
"// Given data\n",
"format('v',11)\n",
"V_A= 20;// in V\n",
"R_D= 5;// in kΩ\n",
"R_D= R_D*10^3;// in Ω\n",
"I= 0.8;// in mA\n",
"I=I*10^-3;// in A\n",
"i_D= I/2;// in A\n",
"unCox= 0.2;// mA/V^2\n",
"unCox= unCox*10^-3;// in A/V^2\n",
"WbyL= 100;\n",
"// Formula i_D= 1/2*unCox*WbyL*V_OV^2\n",
"V_OV= sqrt(2*i_D/(unCox*WbyL));// in V\n",
"disp(V_OV,'The value of V_OV in volts is : ')\n",
"gm= I/V_OV;// in A/V;\n",
"disp(gm*10^3,'The value of gm in mA/V is : ')\n",
"r_o= V_A/i_D;// in Ω\n",
"disp(r_o*10^-3,'The value of r_o in kΩ is : ')\n",
"// Ad= v_o/v_id = gm*(R_D || r_o)\n",
"Ad= gm*(R_D*r_o/(R_D+r_o)) ;// in V/V\n",
"disp(Ad,'Differential gain in V/V is : ')\n",
"\n",
""
   ]
   }
,
{
		   "cell_type": "markdown",
		   "metadata": {},
		   "source": [
			"## Example 4.5: Differential_gain.sce"
		   ]
		  },
  {
"cell_type": "code",
	   "execution_count": null,
	   "metadata": {
	    "collapsed": true
	   },
	   "outputs": [],
"source": [
"// Exa 4.5\n",
"clc;\n",
"clear;\n",
"close;\n",
"// Given data\n",
"R_D= 5;// in kΩ\n",
"R_D= R_D*10^3;// in Ω\n",
"R_SS= 25;// in kΩ\n",
"R_SS= R_SS*10^3;// in Ω\n",
"I= 0.8;// in mA\n",
"I=I*10^-3;// in A\n",
"i_D= I/2;// in A\n",
"unCox= 0.2;// mA/V^2\n",
"unCox= unCox*10^-3;// in A/V^2\n",
"WbyL= 100;\n",
"// Formula i_D= 1/2*unCox*WbyL*V_OV^2\n",
"V_OV= sqrt(2*i_D/(unCox*WbyL));// in V\n",
"gm= i_D/V_OV;// in A/V;\n",
"\n",
"// Part (a)\n",
"Ad= 1/2*gm*R_D;// in V/V\n",
"disp(Ad,'Differential gain in V/V is : ')\n",
"Acm= -R_D/(2*R_SS);// in V/V\n",
"disp(Acm,'Common mode gain in V/V is ')\n",
"CMRR= abs(Ad)/abs(Acm);\n",
"CMRRindB= round(20*log10(CMRR));// in dB\n",
"disp(CMRRindB,'Common mode rejection ratio in dB is : ')\n",
"\n",
"\n",
"// Part (b)\n",
"disp('Part (b) when output is taken differentially')\n",
"Ad= gm*R_D;// in V/V\n",
"disp(Ad,'Differential gain in V/V is : ')\n",
"Acm= 0;\n",
"disp(Acm,'Common mode gain in V/V is ')\n",
"// CMRRindB= 20*log10(Ad/Acm) = infinite ;// in dB\n",
"disp('Common mode rejection ratio in dB is : ')\n",
"disp('infinite');\n",
"\n",
"// Part (c)\n",
"disp('Part (c) when output is taken differentially but the drain resistance have a 1% mismatch.')\n",
"Ad= gm*R_D;// in V/V\n",
"disp(Ad,'Differential gain in V/V is : ')\n",
"// delta_R_D= 1% of R_D\n",
"delta_R_D= R_D*1/100;// in Ω \n",
"Acm= R_D/(2*R_SS)*delta_R_D/R_D;// in V/V\n",
"disp(Acm,'Common mode gain in V/V is ')\n",
"CMRRindB= 20*log10(abs(Ad)/abs(Acm));// in dB\n",
"disp(CMRRindB,'Common mode rejection ratio in dB is : ')\n",
"\n",
"// Note: In the book, there is putting wrong value of Ad (20 at place of 10) to evaluate the value of CMRR in dB in part(c) , So the answer of CMRR in dB of Part (c) is wrong\n",
"\n",
"\n",
"\n",
""
   ]
   }
,
{
		   "cell_type": "markdown",
		   "metadata": {},
		   "source": [
			"## Example 4.6: CMRR.sce"
		   ]
		  },
  {
"cell_type": "code",
	   "execution_count": null,
	   "metadata": {
	    "collapsed": true
	   },
	   "outputs": [],
"source": [
"// Exa 4.6\n",
"clc;\n",
"clear;\n",
"close;\n",
"// Given data (From Exa 4.4)\n",
"R_D= 5;// in kΩ\n",
"R_D= R_D*10^3;// in Ω\n",
"R_SS= 25;// in kΩ\n",
"R_SS= R_SS*10^3;// in Ω\n",
"I= 0.8;// in mA\n",
"I=I*10^-3;// in A\n",
"i_D= I/2;// in A\n",
"unCox= 0.2;// mA/V^2\n",
"unCox= unCox*10^-3;// in A/V^2\n",
"WbyL= 100;\n",
"// Formula i_D= 1/2*unCox*WbyL*V_OV^2\n",
"V_OV= sqrt(2*i_D/(unCox*WbyL));// in V\n",
"gm= i_D/V_OV;// in A/V;\n",
"// gm mismatch have a negligible effect on Ad\n",
"Ad= gm*R_D;// in V/V(approx) \n",
"// delta_gm= 1% of gm\n",
"delta_gm = gm*1/100;// in A/V\n",
"Acm= R_D/(2*R_SS)*delta_gm/gm;\n",
"CMRRindB= 20*log10(Ad/Acm);\n",
"disp(CMRRindB,'CMRR in dB is : ')"
   ]
   }
,
{
		   "cell_type": "markdown",
		   "metadata": {},
		   "source": [
			"## Example 4.7: Value_of_VE_VC1_and_VC2.sce"
		   ]
		  },
  {
"cell_type": "code",
	   "execution_count": null,
	   "metadata": {
	    "collapsed": true
	   },
	   "outputs": [],
"source": [
"// Exa 4.7\n",
"clc;\n",
"clear;\n",
"close;\n",
"// Given data \n",
"V_CM= 0;\n",
"V_BE= -0.7;// in volt\n",
"v_E= V_CM-V_BE;// in volt\n",
"disp(v_E,'Value of v_E in volts is : ')\n",
"\n",
"I_E= (5-0.7)/10^3;// in A\n",
"v_B1= 0.5;// in V\n",
"v_B2= 0;// in V\n",
"// Due to Q1 is off; therefore\n",
"v_C1= -5;// in V\n",
"v_C2= I_E*10^3-5;// in V\n",
"disp(v_C1,'Value of v_C1 in volts is : ')\n",
"disp(v_C2,'Value of v_C2 in volts is : ')"
   ]
   }
,
{
		   "cell_type": "markdown",
		   "metadata": {},
		   "source": [
			"## Example 4.8: Input_differential_signal.sce"
		   ]
		  },
  {
"cell_type": "code",
	   "execution_count": null,
	   "metadata": {
	    "collapsed": true
	   },
	   "outputs": [],
"source": [
"// Exa 4.8\n",
"clc;\n",
"clear;\n",
"close;\n",
"// Given data \n",
"iE1_by_I= 0.99;  // as it is given that iE1= 0.99 *I\n",
"VT= 0.025;// in volt\n",
"// Formula iE1= I/(1+%e^(-vid/VT))\n",
"// %e^(-vid/VT)= 1/iE1_by_I-1\n",
"vid= log( 1/iE1_by_I-1)*(-VT);// in volt\n",
"disp(round(vid*10^3),'Input differential signal in mVis : ')"
   ]
   }
,
{
		   "cell_type": "markdown",
		   "metadata": {},
		   "source": [
			"## Example 4.9: Input_differential_resistance.sce"
		   ]
		  },
  {
"cell_type": "code",
	   "execution_count": null,
	   "metadata": {
	    "collapsed": true
	   },
	   "outputs": [],
"source": [
"// Exa 4.9\n",
"clc;\n",
"clear;\n",
"close;\n",
"// Given data \n",
"Bita= 100;\n",
"\n",
"// Part (a)\n",
"RE= 150;// in Ω\n",
"VT= 25;// in mV\n",
"VT= VT*10^-3;// in V\n",
"IE= 0.5;// in mA\n",
"IE=IE*10^-3;// in A\n",
"re1= VT/IE;//in Ω\n",
"R_id= 2*(Bita+1)*(re1+RE);// in Ω\n",
"R_id= round(R_id*10^-3);// in kΩ\n",
"disp(R_id,'The input differential resistance in kΩ is :')\n",
"\n",
"// Part (b)\n",
"RC=10;//in kΩ\n",
"RC=RC*10^3;//in Ω\n",
"Rsig= 5+5;// in kΩ\n",
"VoltageGain1= R_id/(Rsig+R_id);//voltage gain from the signal source to the base of Q1 and Q2 in V/V\n",
"VoltageGain2= 2*RC/(2*(re1+RE));// voltage gain from the bases to the output in V/V\n",
"Ad= VoltageGain1*VoltageGain2;//in V/V\n",
"disp(Ad,'The overall differential voltage gain in V/V is ');\n",
"\n",
"// Part (c)\n",
"delta_RC= 0.02*RC;\n",
"R_EE= 200;//in kΩ\n",
"R_EE=R_EE*10^3;//in Ω\n",
"Acm= RC/(2*R_EE)*delta_RC/RC;//in V/V\n",
"disp(Acm,'Common mode gain in V/V is :')\n",
"\n",
"// Part (d)\n",
"CMRRindB= 20*log10(Ad/Acm);// in dB\n",
"disp(CMRRindB,'CMRR in dB is : ')\n",
"\n",
"// Part (e)\n",
"V_A= 100;// in V\n",
"r_o= V_A/(IE);// in Ω\n",
"// Ricm= (Bita+1)*(R_EE || r_o/2)\n",
"Ricm= (Bita+1)*(R_EE*(r_o/2)/(R_EE+(r_o/2)));\n",
"disp(Ricm*10^-6,'Input common mode resistance in MΩ is : ')\n",
"\n",
""
   ]
   }
],
"metadata": {
		  "kernelspec": {
		   "display_name": "Scilab",
		   "language": "scilab",
		   "name": "scilab"
		  },
		  "language_info": {
		   "file_extension": ".sce",
		   "help_links": [
			{
			 "text": "MetaKernel Magics",
			 "url": "https://github.com/calysto/metakernel/blob/master/metakernel/magics/README.md"
			}
		   ],
		   "mimetype": "text/x-octave",
		   "name": "scilab",
		   "version": "0.7.1"
		  }
		 },
		 "nbformat": 4,
		 "nbformat_minor": 0
}
