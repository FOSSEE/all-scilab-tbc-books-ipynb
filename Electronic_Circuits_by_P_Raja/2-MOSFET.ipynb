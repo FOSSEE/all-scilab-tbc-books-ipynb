{
"cells": [
 {
		   "cell_type": "markdown",
	   "metadata": {},
	   "source": [
       "# Chapter 2: MOSFET"
	   ]
	},
{
		   "cell_type": "markdown",
		   "metadata": {},
		   "source": [
			"## Example 2.10: Design_a_bias_circuit.sce"
		   ]
		  },
  {
"cell_type": "code",
	   "execution_count": null,
	   "metadata": {
	    "collapsed": true
	   },
	   "outputs": [],
"source": [
"// Exa 2.10\n",
"clc;\n",
"clear;\n",
"close;\n",
"// Given data \n",
"V_DD= 15;// in V\n",
"Vt= 1;// in V\n",
"V_D= 10;// in V\n",
"V_S= 5;// in V\n",
"KnWbyL= 1;// in mA/V^2\n",
"KnWbyL=KnWbyL*10^-3;// in A/V^2\n",
"R_G1= 8;// in MΩ\n",
"R_G1= R_G1*10^6;// in Ω\n",
"I_D= 0.5;// in mA\n",
"I_D=I_D*10^-3;//in A\n",
"R_D= (V_DD-V_D)/I_D;// in Ω\n",
"R_S= V_S/I_D;// in Ω\n",
"// Formul I_D= 1/2*KnWbyL*(V_OV)^2\n",
"V_OV= sqrt(2*I_D/KnWbyL);// in V\n",
"// Formula V_OV= V_GS-Vt\n",
"V_GS= V_OV+Vt;// in V\n",
"V_G= V_GS+V_S;// in V\n",
"// Formul V_G= R_G2*V_DD/(R_G1+R_G2)\n",
"R_G2= R_G1*V_G/(V_DD-V_G);//in Ω\n",
"disp(R_D*10^-3,'The value of R_D in kΩ is : ')\n",
"disp(R_S*10^-3,'The value of R_S in kΩ is : ')\n",
"disp(V_OV,'The value of V_OV in volts is : ')\n",
"disp(V_GS,'The value of V_GS  in volts is : ')\n",
"disp(R_G2*10^-6,'The value of R_G2 in MΩ is : ')\n",
""
   ]
   }
,
{
		   "cell_type": "markdown",
		   "metadata": {},
		   "source": [
			"## Example 2.11: Bias_point.sce"
		   ]
		  },
  {
"cell_type": "code",
	   "execution_count": null,
	   "metadata": {
	    "collapsed": true
	   },
	   "outputs": [],
"source": [
"// Exa 2.11\n",
"clc;\n",
"clear; \n",
"close;\n",
"// Given data \n",
"V_DD= 15;// in V\n",
"KnWbyL= 0.25;// in mA/V^2\n",
"KnWbyL=KnWbyL*10^-3;// in A/V^2\n",
"Vt= 1.5;// in V\n",
"V_A= 50;// in V\n",
"R_D= 10;// in kΩ\n",
"R_D= R_D*10^3;// in Ω\n",
"R_L= 10;// in kΩ\n",
"R_L= R_L*10^3;// in Ω\n",
"R_G= 10;// in MΩ\n",
"R_G= R_G*10^6;// in Ω\n",
"// I_D= 1/2*KnWbyL*(V_D-Vt)^2 , (V_GS= V_D, as dc gate current is zero)   (i)\n",
"// V_D= V_DD- I_D*R_D           (ii)\n",
"I_D= 1.06;// in mA\n",
"I_D = I_D*10^-3;// in A\n",
"V_D= V_DD- I_D*R_D;// in V\n",
"V_GS=V_D;// in V\n",
"// The coordinates of operating point \n",
"V_GSQ= V_D;// in V\n",
"I_DQ= I_D*10^3;// in mA\n",
"disp('The coordinates of operating points are  V_GSQ = '+string(V_GSQ)+' V and I_DQ= '+string(I_DQ)+' mA')\n",
"gm= KnWbyL*(V_GS-Vt);// in A/V\n",
"r_o= V_A/I_D;//in Ω\n",
"// The gain is : Av= vo/vi = -gm*(R_D||R_L||r_o)\n",
"Av= -gm*[R_D*R_L*r_o/(R_D*R_L+R_D*r_o+R_L*r_o)];// in V/V\n",
"// i_i= (vi-vo)/R_G\n",
"// i_i= vi/R_G*(1-vo/vi) and Rin= vi/i_i = R_G/(1-Av)\n",
"Rin= R_G/(1-Av);// in Ω\n",
"disp(Rin*10^-6,'The input resistance in MΩ is : ')\n",
"disp('The largest allowable input signal vi is determined by the need to keep the MOSFET in saturation at all times')\n",
"disp('                                 V_DS >= V_GS- vt')\n",
"disp('By enforcing this condition with equality at the point V_GS is maximum and V_DS is correspondingly minimum')\n",
"disp('                                 V_DSmin= V_GSmax -Vt')\n",
"disp('                                 V_DS-|Av| vi = V_GS + vi -Vt')\n",
"disp('                                 4.4 - 3.3 vi = 4.4 + vi -1.5')\n",
"disp('which results in vi= 0.34V')"
   ]
   }
,
{
		   "cell_type": "markdown",
		   "metadata": {},
		   "source": [
			"## Example 2.12: Largest_value_of_RD.sce"
		   ]
		  },
  {
"cell_type": "code",
	   "execution_count": null,
	   "metadata": {
	    "collapsed": true
	   },
	   "outputs": [],
"source": [
"// Exa 2.12\n",
"clc;\n",
"clear; \n",
"close;\n",
"// Given data \n",
"I_D= 0.5;// in mA\n",
"I_D= I_D*10^-3;// in mA\n",
"V_D= 3;// in V\n",
"Vt= -1;// in V\n",
"KpWbyL= 1;// in mA/V^2\n",
"KpWbyL=KpWbyL*10^-3;// in A/V^2\n",
"// Formul I_D= 1/2*KpWbyL*(V_OV)^2\n",
"V_OV= sqrt(2*I_D/KpWbyL);// in V\n",
"// For PMOS\n",
"V_OV= -V_OV;// in V\n",
"V_GS= V_OV+Vt;// in V\n",
"R_D= V_D/I_D;// in Ω\n",
"V_Dmax= V_D+abs(Vt);// in V\n",
"R_D= V_Dmax/I_D;// in Ω \n",
"disp(R_D*10^-3,'The largest value that R_D can have while maintaining saturation-region operation in kΩ is : ')"
   ]
   }
,
{
		   "cell_type": "markdown",
		   "metadata": {},
		   "source": [
			"## Example 2.14: Resistance_value.sce"
		   ]
		  },
  {
"cell_type": "code",
	   "execution_count": null,
	   "metadata": {
	    "collapsed": true
	   },
	   "outputs": [],
"source": [
"// Exa 2.14\n",
"clc;\n",
"clear; \n",
"close;\n",
"// Given data \n",
"V_GS1= 1.5;// in V\n",
"Vt= 1;// in V\n",
"r_DS1= 1;// in kΩ\n",
"r_DS1= r_DS1*10^3;// in Ω\n",
"r_DS2= 200;// in kΩ\n",
"//  r_DS1= 1/(KnWbyL*(V_GS1-Vt))            (i)\n",
"//  r_DS2= 1/(KnWbyL*(V_GS2-Vt))            (i)\n",
"// dividing equation (i) by (ii)\n",
"V_GS2= (r_DS1/r_DS2)*(V_GS1-Vt)+Vt;// in V\n",
"disp(V_GS2,'To Optain rDS= 200, The value of V_GS should be (in volt)')\n",
"// For  V_GS= 1.5 ;// V\n",
"// W2= 2*W1;\n",
"// r_DS1/r_DS2= 2\n",
"r_DS2= r_DS1/2;// in Ω\n",
"disp(r_DS2,'For V_GS= 1.5 V , the value of r_DS2 in Ω is : ')\n",
"// For V_GS= 3.5 V\n",
"r_DS2= 200/2;// in Ω\n",
"disp(r_DS2,'For V_GS= 3.5 V , the value of r_DS2 in Ω is : ')"
   ]
   }
,
{
		   "cell_type": "markdown",
		   "metadata": {},
		   "source": [
			"## Example 2.15: Required_value_of_VGS_and_minimum_value_of_VDS.sce"
		   ]
		  },
  {
"cell_type": "code",
	   "execution_count": null,
	   "metadata": {
	    "collapsed": true
	   },
	   "outputs": [],
"source": [
"// Exa 2.15\n",
"clc;\n",
"clear; \n",
"close;\n",
"// Given data \n",
"I_D= 0.2;// in mA\n",
"I_D= I_D*10^-3;// in mA\n",
"Vt= 1;// in V\n",
"KpWbyL= 0.1;// in mA/V^2\n",
"KpWbyL=KpWbyL*10^-3;// in A/V^2\n",
"// Formul I_D= 1/2*KpWbyL*(V_GS-VT)^2\n",
"V_GS= sqrt(2*I_D/KpWbyL)+Vt;// in V\n",
"V_DSmin= V_GS-Vt;// in V\n",
"disp(V_GS,'Required V_GS in volts is : ')\n",
"disp(V_DSmin,'The minimum required V_DS in volts is : ')\n",
"// For I_D= 0.8 mA\n",
"I_D = 0.8*10^-3;// in A\n",
"V_GS= sqrt(2*I_D/KpWbyL)+Vt;// in V\n",
"V_DSmin= V_GS-Vt;// in V\n",
"disp(V_GS,'Required V_GS in volts is : ')\n",
"disp(V_DSmin,'The minimum required V_DS in volts is : ')"
   ]
   }
,
{
		   "cell_type": "markdown",
		   "metadata": {},
		   "source": [
			"## Example 2.16: Value_of_RD_and_RS.sce"
		   ]
		  },
  {
"cell_type": "code",
	   "execution_count": null,
	   "metadata": {
	    "collapsed": true
	   },
	   "outputs": [],
"source": [
"// Exa 2.16\n",
"clc;\n",
"clear; \n",
"close;\n",
"// Given data \n",
"V_SS= -5;// in V\n",
"unCox= 60;// in µA/V^2\n",
"unCox= unCox*10^-6;// in A/V^2\n",
"Vt= 1;// in V\n",
"W= 100;// in µm\n",
"L= 3;// in µm\n",
"V_G=0;// in V\n",
"V_DD= 5;// in V\n",
"V_D=0;//in V\n",
"I_D= 1*10^-3;// in A\n",
"// I_D= (V_DD-V_D)/R_D\n",
"R_D= (V_DD-V_D)/I_D;// in Ω\n",
"disp(R_D*10^-3,'The value of R_D in kΩ is : ')\n",
"// Formul I_D= 1/2*unCox*W/L*(V_GS-Vt)^2\n",
"V_GS= sqrt(2*I_D*L/(unCox*W))+Vt;// in V\n",
"V_S= V_G-V_GS;// in V\n",
"R_S= (V_S-V_SS)/I_D;// in Ω\n",
"disp(R_S*10^-3,'The resistance in kΩ is ');\n",
"\n",
""
   ]
   }
,
{
		   "cell_type": "markdown",
		   "metadata": {},
		   "source": [
			"## Example 2.17: Required_value_of_R_and_W.sce"
		   ]
		  },
  {
"cell_type": "code",
	   "execution_count": null,
	   "metadata": {
	    "collapsed": true
	   },
	   "outputs": [],
"source": [
"// Exa 2.17\n",
"clc;\n",
"clear; \n",
"close;\n",
"// Given data \n",
"V_D= 3.5;// in V\n",
"I_D= 115*10^-6;//in A\n",
"upCox= 60;// in µA/V^2\n",
"upCox= upCox*10^-6;// in A/V^2\n",
"L= 0.8;//in µm\n",
"V_GS= -1.5;// in V\n",
"Vt= 0.7;// in V\n",
"R= V_D/I_D;// in Ω\n",
"disp(R*10^-3,'The value required for R in kΩ is : ')\n",
"// Formul I_D= 1/2*upCox*W/L*(V_GS-Vt)^2\n",
"W= 2*I_D*L/(upCox*(V_GS-Vt)^2)\n",
"disp(W,'The value required for W in µm is : ')\n",
"\n",
"//  Note:  Calculation of evaluating the value of W in the book is wrong , so the Answer of the book is wrong "
   ]
   }
,
{
		   "cell_type": "markdown",
		   "metadata": {},
		   "source": [
			"## Example 2.18: Required_value_of_gate_width.sce"
		   ]
		  },
  {
"cell_type": "code",
	   "execution_count": null,
	   "metadata": {
	    "collapsed": true
	   },
	   "outputs": [],
"source": [
"// Exa 2.18\n",
"clc;\n",
"clear; \n",
"close;\n",
"// Given data \n",
"Vt= 1;// in V\n",
"unCox= 120;// in µA/V^2\n",
"unCox= unCox*10^-6;// in A/V^2\n",
"L1=1;// in µm\n",
"L2=L1;// in µm\n",
"I_D= 120;//in µA\n",
"I_D= I_D*10^-6;//in A\n",
"V_GS1= 1.5;//in V\n",
"V_G2= 3.5;// in V\n",
"V_S2= 1.5;// in V\n",
"V_DD= 5;// in V\n",
"V_D2= 3.5;// in V\n",
"// Formul I_D= 1/2*unCox*W/L*(V_GS1-Vt)^2\n",
"W1= 2*I_D*L1/(unCox*(V_GS1-Vt)^2);// in µm\n",
"disp(W1,'The value of W1 in µm is : ')\n",
"V_GS2= V_G2-V_S2;//in V\n",
"// Formul I_D= 1/2*unCox*W/L*(V_GS1-Vt)^2\n",
"W2= 2*I_D*L2/(unCox*(V_GS2-Vt)^2);// in µm\n",
"disp(W2,'The value of W2 in µm is : ')\n",
"R= (V_DD-V_D2)/I_D;// in Ω\n",
"disp(R*10^-3,'Resistance in kΩ');"
   ]
   }
,
{
		   "cell_type": "markdown",
		   "metadata": {},
		   "source": [
			"## Example 2.19: Value_of_V1_V2_V3_V4_and_V5.sce"
		   ]
		  },
  {
"cell_type": "code",
	   "execution_count": null,
	   "metadata": {
	    "collapsed": true
	   },
	   "outputs": [],
"source": [
"// Exa 2.19\n",
"clc;\n",
"clear; \n",
"close;\n",
"// Given data \n",
"Vt= 2;// in V\n",
"K1WbyL= 1;// in mA/V^2\n",
"K1WbyL= K1WbyL*10^-3;//in mA/V^2\n",
"I_D= 10;//in µA\n",
"I_D= I_D*10^-6;//in A\n",
"V_DD= 10;// in V\n",
"R_D= 4;// in kΩ\n",
"R_D= R_D*10^3;// in Ω\n",
"\n",
"// Formul I_D= 1/2*K1WbyL*(V_GS-Vt)^2\n",
"V_GS= sqrt(2*I_D/K1WbyL)+Vt;// in V\n",
"V1= -V_GS;// in V\n",
"// Part (b)\n",
"I_D= 2;// in mA\n",
"I_D= I_D*10^-3;// in A\n",
"V2= V_DD-I_D*R_D;//in V\n",
"// Formul I_D= 1/2*K1WbyL*(V_GS-Vt)^2\n",
"V_GS= sqrt(2*I_D/K1WbyL)+Vt;// in V\n",
"V3= -V_GS;// in V\n",
"// Part (c)\n",
"I_D= 1;// in mA\n",
"I_D= I_D*10^-3;// in A\n",
"// Formul I_D= 1/2*K1WbyL*(V_GS-Vt)^2\n",
"V_GS= sqrt(2*I_D/K1WbyL)+Vt;// in V\n",
"V4= V_GS;// in V\n",
"// Part (d)\n",
"I_D= 2;// in mA\n",
"R_D= 2.5;// in kΩ\n",
"R_D= R_D*10^3;// in Ω\n",
"V_SS= 10;// in V\n",
"I_D= I_D*10^-3;// in A\n",
"V_GS= sqrt(2*I_D/K1WbyL)+Vt;// in V\n",
"V5= -V_SS+I_D*R_D;// in V\n",
"disp(V1,'The value of V1 in volts is : ')\n",
"disp(V2,'The value of V2 in volts is : ')\n",
"disp(V3,'The value of V3 in volts is : ')\n",
"disp(V4,'The value of V4 in volts is : ')\n",
"disp(V5,'The value of V5 in volts is : ')"
   ]
   }
,
{
		   "cell_type": "markdown",
		   "metadata": {},
		   "source": [
			"## Example 2.1: Device_operate_regio.sce"
		   ]
		  },
  {
"cell_type": "code",
	   "execution_count": null,
	   "metadata": {
	    "collapsed": true
	   },
	   "outputs": [],
"source": [
"// Exa 2.1\n",
"clc;\n",
"clear;\n",
"close;\n",
"// Given data \n",
"V_S= 0;// As source is connected to ground\n",
"V_G= 1.5;// in V\n",
"V_D= 0.5;// in V\n",
"Vt= 0.7;// in V\n",
"// Part(a) V_D= 0.5;// in V\n",
"V_D= 0.5;// in V\n",
"V_DS= V_D-V_S;// in V\n",
"V_GS= V_G-V_S;// in V\n",
"if V_GS < Vt then\n",
"    disp('At V_D = 0.5 , the device is in cut off region')\n",
"elseif V_DS<= (V_GS-Vt) then\n",
"    disp('At V_D = 0.5 , the device is in triode region');\n",
"else\n",
"    disp('At V_D = 0.5 , the device is in saturation region');\n",
"      \n",
"end\n",
"\n",
"// Part(b) V_D= 0.9;// in V\n",
"V_D= 0.9;// in V\n",
"V_DS= V_D-V_S;// in V\n",
"V_GS= V_G-V_S;// in V\n",
"if V_GS < Vt then\n",
"    disp('At V_D = 0.9 , the device is in cut off region')\n",
"elseif V_DS<= (V_GS-Vt) then\n",
"    disp('At V_D = 0.9 , the device is in triode region');\n",
"else\n",
"    disp('At V_D = 0.9 , the device is in saturation region');\n",
"      \n",
"end\n",
"\n",
"// Part(c) V_D= 3;// in V\n",
"V_D= 3;// in V\n",
"V_DS= V_D-V_S;// in V\n",
"V_GS= V_G-V_S;// in V\n",
"if V_GS < Vt then\n",
"    disp('At V_D = 3 , the device is in cut off region')\n",
"elseif V_DS<= (V_GS-Vt) then\n",
"    disp('At V_D = 3 , the device is in triode region');\n",
"else\n",
"    disp('At V_D = 3 , the device is in saturation region');\n",
"      \n",
"end\n",
"\n",
""
   ]
   }
,
{
		   "cell_type": "markdown",
		   "metadata": {},
		   "source": [
			"## Example 2.20: Labelled_current_and_voltage.sce"
		   ]
		  },
  {
"cell_type": "code",
	   "execution_count": null,
	   "metadata": {
	    "collapsed": true
	   },
	   "outputs": [],
"source": [
"// Exa 2.20\n",
"clc;\n",
"clear; \n",
"close;\n",
"// Given data \n",
"unCox= 20*10^-6;//in A/V^2\n",
"upCox= unCox/2.5;// in A/V^2\n",
"V_DD= 3;//in V\n",
"Vt= 1;// in V\n",
"W= 30;// in µm\n",
"L= 10;// in µm\n",
"\n",
"\n",
"// V_GS1= V_GS2\n",
"// Formula V_DD= V_GS1+V_GS2\n",
"V_GS1= V_DD/2;//in V\n",
"V_GS2= V_GS1;// in V\n",
"V2= V_GS1;// inV\n",
"I1= 1/2*unCox*W/L*(V_GS1-Vt)^2;// in A\n",
"// Both transistor have V_D = V_G and therefore they are operating in saturation \n",
"//1/2*unCox*W/L*(V4-Vt)^2 = 1/2*upCox*W/L*(V_DD-V4-Vt)\n",
"V4= (V_DD-Vt+sqrt(unCox/upCox))/(1+sqrt(unCox/upCox));\n",
"I3= 1/2*unCox*W/L*(1.39-Vt)^2 \n",
"disp(V2,'The value of V2 in volt is : ')\n",
"disp(I1*10^6,'The value of I1 in µAis : ')\n",
"disp(V4,'The value of V4 in volt is : ')\n",
"disp(I3*10^6,'The value of I3 in µAis : ')"
   ]
   }
,
{
		   "cell_type": "markdown",
		   "metadata": {},
		   "source": [
			"## Example 2.22: Voltage_gai.sce"
		   ]
		  },
  {
"cell_type": "code",
	   "execution_count": null,
	   "metadata": {
	    "collapsed": true
	   },
	   "outputs": [],
"source": [
"// Exa 2.22\n",
"clc;\n",
"clear; \n",
"close;\n",
"// Given data \n",
"Vt= 0.9;// in V\n",
"V_A= 50;// in V\n",
"V_D= 2;// in V\n",
"R_L= 10;// in MΩ\n",
"R_L= R_L*10^3;// in Ω\n",
"R_G= 10;// in MΩ\n",
"R_G= R_G*10^6;// in Ω\n",
"I_D= 500;// in µA\n",
"I_D= I_D*10^-6;// in A\n",
"V_GS= V_D;// in V\n",
"ro= V_A/I_D;// in Ω\n",
"gm= 2*I_D/(V_GS-Vt);// in A/V\n",
"// vo= -gm*vi*(ro || R_L)\n",
"vo_by_vi = -gm*(ro*R_L/(ro+R_L));// in V/V\n",
"disp(vo_by_vi ,'The voltage gain in V/V is : ')\n",
"// For I= 1 mA or twice the current \n",
"I_D1= I_D;// in A\n",
"I_D2= 2*I_D1;// in A\n",
"gm1= gm;// in A/V\n",
"// Effect on V_D\n",
"// I_D1/I_D2 = (V_GS1-Vt)^2/(V_GS2-Vt)^2\n",
"V_GS1= V_GS;\n",
"V_GS2= Vt+sqrt(2)*(V_GS1-Vt);// in V\n",
"disp(V_GS2,'The new value of V_GS in volts is : ')\n",
"// Effect on gm\n",
"// gm1/gm2= sqrt(I_D1/I_D2)\n",
"gm2= sqrt(I_D2/I_D1)*gm1;// in A/V\n",
"disp(gm2*10^3,'The new value of gm2 in mA/V is : ')\n",
"// Effect on ro\n",
"// ro1/ro2= I_D2/I_D1\n",
"ro1= ro;// in Ω\n",
"ro2= I_D1*ro1/I_D2;// in Ω\n",
"disp(ro2*10^-3,'The new value of ro in kΩ/V is : ')\n",
"// Effect on gain\n",
"// Av= -gm*(ro2 || R_L)\n",
"Av= -gm*(ro2*R_L/(ro2+R_L));// in V/V\n",
"disp(Av,'The new value of voltage gain in V/V is : ')\n",
"\n",
"// Note: There is some difference between  the new value of voltage gain in book and coding. The reason behind this is that , \n",
"// the accurate value of new value of gm is 1.2856487 and in the book 1.3 has  taken at place of 1.2856487. \n",
"// If we take this value of new value of gm 1.3 at place of 1.2856487 then our new voltage gain value will be same as in the book\n",
"\n",
"\n",
"\n",
"\n",
"\n",
"\n",
""
   ]
   }
,
{
		   "cell_type": "markdown",
		   "metadata": {},
		   "source": [
			"## Example 2.23: Value_of_CS.sce"
		   ]
		  },
  {
"cell_type": "code",
	   "execution_count": null,
	   "metadata": {
	    "collapsed": true
	   },
	   "outputs": [],
"source": [
"// Exa 2.23\n",
"clc;\n",
"clear; \n",
"close;\n",
"// Given data \n",
"I_D= 1;// in mA\n",
"I_D= I_D*10^-3;// in A\n",
"gm= 1;//in mA/V\n",
"gm= gm*10^-3;//in A/V\n",
"f_L= 10;// in Hz\n",
"R_S= 6;// in kΩ\n",
"R_S= R_S*10^3;// in Ω\n",
"R_D= 10;// in kΩ\n",
"R_D= R_D*10^3;// in Ω\n",
"vo_by_vi= -gm*R_D/(1+gm*R_S);// in V/V\n",
"disp(vo_by_vi,'Mid band gain in V/V is : ');\n",
"// Formula f_L= 1/(2*%pi*(1/gm || R_S)) * CS\n",
"CS= 1/(2*%pi*(1/gm*R_S/(1/gm+R_S))*f_L) ;//in F\n",
"disp(CS*10^6,'The value of Cs in µF is : ')"
   ]
   }
,
{
		   "cell_type": "markdown",
		   "metadata": {},
		   "source": [
			"## Example 2.24: Midband_gain_and_upper_3_dB_frequency.sce"
		   ]
		  },
  {
"cell_type": "code",
	   "execution_count": null,
	   "metadata": {
	    "collapsed": true
	   },
	   "outputs": [],
"source": [
"// Exa 2.24\n",
"clc;\n",
"clear; \n",
"close;\n",
"// Given data \n",
"Rsig= 100;// in kΩ\n",
"Rsig= Rsig*10^3;// in Ω\n",
"R_G= 4.7;// in MΩ\n",
"R_G= R_G*10^6;// in Ω\n",
"R_D= 15;// in kΩ\n",
"R_D= R_D*10^3;// in Ω\n",
"R_L= R_D;// in Ω\n",
"gm= 1;//in mA/V\n",
"gm= gm*10^-3;//in A/V\n",
"ro=150;// in kΩ\n",
"ro=ro*10^3;// in Ω\n",
"Cgs= 1;// in pF\n",
"Cgs=Cgs*10^-12;//in F\n",
"Cgd= 0.4;// in pF\n",
"Cgd=Cgd*10^-12;//in F\n",
"vgsBYvsig= R_G/(Rsig+R_G);\n",
"Rdesh_L= R_D*R_L/(R_D+R_L);// in Ω\n",
"voBYvgs= -gm*Rdesh_L;\n",
"Av= voBYvgs/vgsBYvsig;// in V/V\n",
"disp(Av,'The Mid-band gain in V/V is :')\n",
"CM= Cgd*(1+gm*Rdesh_L);// in F\n",
"// f_H= 1/(2*%pi*(Rsig || R_G)*(Cgs*CM))\n",
"f_H= 1/(2*%pi*(Rsig * R_G/(Rsig + R_G))*(Cgs+CM));// in Hz\n",
"disp(f_H*10^-3,'Frequency in kHz is : ')"
   ]
   }
,
{
		   "cell_type": "markdown",
		   "metadata": {},
		   "source": [
			"## Example 2.2: Drain_current.sce"
		   ]
		  },
  {
"cell_type": "code",
	   "execution_count": null,
	   "metadata": {
	    "collapsed": true
	   },
	   "outputs": [],
"source": [
"// Exa 2.2\n",
"clc;\n",
"clear;\n",
"close;\n",
"// Given data \n",
"unCox= 100;// in µA/V^2\n",
"unCox= unCox*10^-6;// in A/V^2\n",
"L= 1;//in µm\n",
"L= L*10^-6;// in m\n",
"W=10;// in µm\n",
"W=W*10^-6;// in m\n",
"V_GS= 1.5;// in V\n",
"Vt= 0.7;// in V\n",
"// For V_DS= 0.5 V\n",
"V_DS= 0.5;// in V\n",
"if V_DS<= (V_GS-Vt) then\n",
"    I_D= unCox*W/L*[(V_GS-Vt)*V_DS-V_DS^2/2];\n",
"    disp(I_D*10^6,'The device is in triode region. SO the drain current in the triode region in µA is : ')\n",
"else\n",
"    I_D= unCox*W/(2*L)*(V_GS-VT)^2\n",
"    disp(I_D*10^6,'The device is in saturation region. SO the drain current in the saturation region in µA is : ')      \n",
"end\n",
"// For V_DS= 0.9 V\n",
"V_DS= 0.9;// in V\n",
"if V_DS<= (V_GS-Vt) then\n",
"    I_D= unCox*W/L*[(V_GS-Vt)*V_DS-V_DS^2/2];\n",
"    disp(I_D*10^6,'The device is in triode region. So the drain current in the triode region in µA is : ')\n",
"else\n",
"    I_D= unCox*W/(2*L)*(V_GS-Vt)^2\n",
"    disp(I_D*10^6,'The device is in saturation region. So  drain current in the saturation region in µA is : ')      \n",
"end\n",
"\n",
"\n",
"\n",
""
   ]
   }
,
{
		   "cell_type": "markdown",
		   "metadata": {},
		   "source": [
			"## Example 2.4: Value_of_VGS_RS_and_RD.sce"
		   ]
		  },
  {
"cell_type": "code",
	   "execution_count": null,
	   "metadata": {
	    "collapsed": true
	   },
	   "outputs": [],
"source": [
"// Exa 2.4\n",
"clc;\n",
"clear;\n",
"close;\n",
"// Given data \n",
"I_D= 0.4;// in mA\n",
"I_D=I_D*10^-3;// in A\n",
"Vt= 0.7;// in V\n",
"V_SS= -2.5;// in V\n",
"V_DD= 2.5;// in V\n",
"unCox= 100;// in µA/V^2\n",
"unCox= unCox*10^-6;// in A/V^2\n",
"W= 32;// in m\n",
"L= 1;// in m\n",
"// V_GS-Vt= V_OV\n",
"// I_D= unCox*W/(2*L)*(V_OV)^2\n",
"V_OV= sqrt(I_D/(unCox*W/(2*L)));// in V\n",
"V_GS= V_OV+Vt;// in V\n",
"disp(V_GS,'The value of V_GS in volt is : ')\n",
"V_G= 0;\n",
"// Formula V_GS= V_G-V_S\n",
"V_S= V_G-V_GS;// in V\n",
"R_S= (V_S-V_SS)/I_D// in Ω\n",
"disp(R_S*10^-3,'The value of R_S in kΩ is : ')\n",
"V_D= 0.5;// in V\n",
"R_D= (V_DD-V_D)/I_D;//in Ω\n",
"disp(R_D*10^-3,'The value of R_D in kΩ is : ')"
   ]
   }
,
{
		   "cell_type": "markdown",
		   "metadata": {},
		   "source": [
			"## Example 2.5: Value_required_of_R.sce"
		   ]
		  },
  {
"cell_type": "code",
	   "execution_count": null,
	   "metadata": {
	    "collapsed": true
	   },
	   "outputs": [],
"source": [
"// Exa 2.5\n",
"clc;\n",
"clear;\n",
"close;\n",
"// Given data \n",
"V_DD= 3;// in V\n",
"I_D= 80;// in µA\n",
"I_D=I_D*10^-6;// in A\n",
"Vt= 0.6;// in V\n",
"unCox= 200;// in µA/V^2\n",
"unCox= unCox*10^-6;// in A/V^2\n",
"L= 0.8;//in µm\n",
"L= L*10^-6;// in m\n",
"W=4;// in µm\n",
"W=W*10^-6;// in m\n",
"// V_GS-Vt= V_OV\n",
"// I_D= unCox*W/(2*L)*(V_OV)^2\n",
"V_OV= sqrt(I_D/(unCox*W/(2*L)));// in V\n",
"V_GS= V_OV+Vt;// in V\n",
"V_D= 1;// in V\n",
"V_G= V_D;// in V\n",
"R= (V_DD-V_D)/I_D;// in Ω\n",
"disp(R*10^-3,'The value of R in kΩ is : ')"
   ]
   }
,
{
		   "cell_type": "markdown",
		   "metadata": {},
		   "source": [
			"## Example 2.6: Value_of_R_and_VD.sce"
		   ]
		  },
  {
"cell_type": "code",
	   "execution_count": null,
	   "metadata": {
	    "collapsed": true
	   },
	   "outputs": [],
"source": [
"// Exa 2.6\n",
"clc;\n",
"clear;\n",
"close;\n",
"// Given data \n",
"V_DD= 10;// in V\n",
"I_D= 0.4;// in mA\n",
"I_D=I_D*10^-3;// in A\n",
"Vt= 2;// in V\n",
"unCox= 20;// in µA/V^2\n",
"unCox= unCox*10^-6;// in A/V^2\n",
"L= 10;//in µm\n",
"L= L*10^-6;// in m\n",
"W=100;// in µm\n",
"W=W*10^-6;// in m\n",
"V_S= 0;// in V as source is connected to ground\n",
"// I_D= unCox*W/(2*L)*(V_OV)^2\n",
"V_OV= sqrt(I_D/(unCox*W/(2*L)));// in V\n",
"V_GS= V_OV+Vt;// in V\n",
"V_D= V_GS;// in V\n",
"R= (V_DD-V_D)/I_D;// in Ω\n",
"disp(R*10^-3,'The value of R in kΩ is : ')"
   ]
   }
,
{
		   "cell_type": "markdown",
		   "metadata": {},
		   "source": [
			"## Example 2.7: Effective_resistance_between_drain_and_source.sce"
		   ]
		  },
  {
"cell_type": "code",
	   "execution_count": null,
	   "metadata": {
	    "collapsed": true
	   },
	   "outputs": [],
"source": [
"// Exa 2.7\n",
"clc;\n",
"clear;\n",
"close;\n",
"// Given data \n",
"KnWbyL= 1;// in mA\n",
"KnWbyL=KnWbyL*10^-3;// in A\n",
"Vt= 1;// in V\n",
"V_DS= 0.1;// in V\n",
"V_D= V_DS;// in V\n",
"V_GS= 5;// in V\n",
"V_DD= V_GS;// in V\n",
"// Formula I_D= K'nW/L*[(V_GS-Vt)*V_DS-V_DS^2/2]\n",
"I_D= KnWbyL*[(V_GS-Vt)*V_DS-V_DS^2/2];// in A\n",
"R_D= (V_DD-V_D)/I_D;//in Ω\n",
"disp(R_D*10^-3,'The required value of R_D in kΩ is : ')"
   ]
   }
,
{
		   "cell_type": "markdown",
		   "metadata": {},
		   "source": [
			"## Example 2.8: Voltages_at_all_nodes.sce"
		   ]
		  },
  {
"cell_type": "code",
	   "execution_count": null,
	   "metadata": {
	    "collapsed": true
	   },
	   "outputs": [],
"source": [
"// Exa 2.8\n",
"clc;\n",
"clear;\n",
"close;\n",
"// Given data \n",
"KnWbyL= 1;// in mA/V^2\n",
"KnWbyL=KnWbyL*10^-3;// in A/V^2\n",
"Vt= 1;// in V\n",
"V_DD= 10;// in V\n",
"R_D= 6;// in kΩ\n",
"R_D= R_D*10^3;// in Ω\n",
"R_S= 6;// in kΩ\n",
"R_S= R_S*10^3;// in Ω\n",
"R_G1= 10;// in MΩ\n",
"R_G1= R_G1*10^6;// in Ω\n",
"R_G2= 10;// in MΩ\n",
"R_G2= R_G2*10^6;// in Ω\n",
"V_G= V_DD*R_G2/(R_G1+R_G2);// in V\n",
"// V_S= R_S*I_D\n",
"// V_GS= V_G-V_S= V_G-R_S*I_D\n",
"// Formula I_D= K'nW/2*L*(V_GS-Vt)^2, Putting the value of V_GS, We get\n",
"// 18*I_D^2 -25*I_D +8= 0\n",
"// I_D= 0.89 mA or I_D= 0.5\n",
"I_D= 0.5;// in mA\n",
"I_D=I_D*10^-3;// in A\n",
"V_S= R_S*I_D;// in V\n",
"V_GS= V_G-V_S;// in V\n",
"V_D= V_DD-I_D*R_D;// in V\n",
"disp(I_D*10^3,'The value of I_D in mA is : ')\n",
"disp(V_S,'The value of V_S in volt is : ')\n",
"disp(V_GS,'The value of V_GS in volt is : ')\n",
"disp(V_D,'The value of V_D in volt is : ')\n",
"disp('Since V_D > V_G - Vt , the transistor is operating in saturation , as initially assumed')\n",
"\n",
""
   ]
   }
,
{
		   "cell_type": "markdown",
		   "metadata": {},
		   "source": [
			"## Example 2.9: Value_of_ID_and_VDS.sce"
		   ]
		  },
  {
"cell_type": "code",
	   "execution_count": null,
	   "metadata": {
	    "collapsed": true
	   },
	   "outputs": [],
"source": [
"// Exa 2.9\n",
"clc;\n",
"clear;\n",
"close;\n",
"// Given data \n",
"R_D= 20;// in kΩ\n",
"R_D= R_D*10^3;// in Ω\n",
"R1= 30;// in kΩ\n",
"R1= R1*10^3;// in Ω\n",
"R2= 20;// in kΩ\n",
"R2= R2*10^3;// in Ω\n",
"V_DD= 5;// in V\n",
"Vtn= 1;// in V\n",
"Kn= 0.1;// in mA/V^2\n",
"Kn=Kn*10^-3;// in A/V^2\n",
"V_GS= R2*V_DD/(R1+R2);// in V\n",
"// I_D= 1/2*µnCox*W/L*(V_GS-Vtm)^2 \n",
"I_D = Kn*(V_GS-Vtn)^2  ;// in mA (As Kn= 1/2*µnCox*W/L)\n",
"V_DS= V_DD-I_D*R_D;// in V\n",
"disp(V_GS,'The value of V_GS in volt is : ')\n",
"disp(I_D*10^3,'The value of I_D in mA is : ')\n",
"disp(V_DS,'The value of V_DS in volt is : ')\n",
"disp('Since V_DS = 3V > V_DS(sat) = V_GS-Vtn = 2 - 1V, the transistor is indeed biased in the saturation region')\n",
"\n",
""
   ]
   }
],
"metadata": {
		  "kernelspec": {
		   "display_name": "Scilab",
		   "language": "scilab",
		   "name": "scilab"
		  },
		  "language_info": {
		   "file_extension": ".sce",
		   "help_links": [
			{
			 "text": "MetaKernel Magics",
			 "url": "https://github.com/calysto/metakernel/blob/master/metakernel/magics/README.md"
			}
		   ],
		   "mimetype": "text/x-octave",
		   "name": "scilab",
		   "version": "0.7.1"
		  }
		 },
		 "nbformat": 4,
		 "nbformat_minor": 0
}
