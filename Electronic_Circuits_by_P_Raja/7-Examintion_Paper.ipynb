{
"cells": [
 {
		   "cell_type": "markdown",
	   "metadata": {},
	   "source": [
       "# Chapter 7: Examintion Paper"
	   ]
	},
{
		   "cell_type": "markdown",
		   "metadata": {},
		   "source": [
			"## Example 1.b: The_value_of_V1_and_V0.sce"
		   ]
		  },
  {
"cell_type": "code",
	   "execution_count": null,
	   "metadata": {
	    "collapsed": true
	   },
	   "outputs": [],
"source": [
"// Exa 1.b\n",
"clc;\n",
"clear;\n",
"close;\n",
"// Given data\n",
"R1= 10;// in kΩ\n",
"R2= 10;// in kΩ\n",
"Rf= 50;// in kΩ\n",
"V= 2;// in V\n",
"V1= V*R1/(R1+R2);// in V\n",
"V01= -Rf/R1*V1;// in V\n",
"disp(V1,'The value of V1 in volts is : ')\n",
"disp(V01,'The value of V01 in volts is : ')\n",
"disp('Only 2 V source then the circuit acts as non-inverting amplifier')"
   ]
   }
,
{
		   "cell_type": "markdown",
		   "metadata": {},
		   "source": [
			"## Example 2.a: The_value_of_ID_and_VD.sce"
		   ]
		  },
  {
"cell_type": "code",
	   "execution_count": null,
	   "metadata": {
	    "collapsed": true
	   },
	   "outputs": [],
"source": [
"// Exa 2.a\n",
"clc;\n",
"clear;\n",
"close;\n",
"// Given data\n",
"V_P= -4;// in V\n",
"I_DSS= 10;// in mA\n",
"V_GS= 0;// in V\n",
"R_D= 1.8;// in kΩ\n",
"V_DD= 20;// in V\n",
"I_D= I_DSS*(1-V_GS/V_P)^2;// in mA\n",
"// Applying KVL to the circuit, we get V_DD= I_D*R_D+V_D\n",
"V_D= V_DD-I_D*R_D;// in V\n",
"disp(I_D,'The value of I_D in mA is : ')\n",
"disp(V_D,'The value of V_D in volts is : ')"
   ]
   }
,
{
		   "cell_type": "markdown",
		   "metadata": {},
		   "source": [
			"## Example 2.c: ON_resistance_of_an_NMOS_transistor.sce"
		   ]
		  },
  {
"cell_type": "code",
	   "execution_count": null,
	   "metadata": {
	    "collapsed": true
	   },
	   "outputs": [],
"source": [
"// Exa 2.c\n",
"clc;\n",
"clear;\n",
"close;\n",
"// Given data\n",
"V_GS= 3;// in V\n",
"Vth= 1;// in V\n",
"unCox= 25;// in mA/V^2\n",
"unCox= unCox*10^-3;// in A/V^2\n",
"W=3;// in µm\n",
"L=1;// in µm\n",
"r_DS= 1/(unCox*W/L*(V_GS-Vth));// in Ω\n",
"disp(r_DS,'The value of r_DS in Ω is : ')"
   ]
   }
,
{
		   "cell_type": "markdown",
		   "metadata": {},
		   "source": [
			"## Example 3.b: The_value_of_RE_RB_and_delta_ICQ.sce"
		   ]
		  },
  {
"cell_type": "code",
	   "execution_count": null,
	   "metadata": {
	    "collapsed": true
	   },
	   "outputs": [],
"source": [
"// Exa 3.b\n",
"clc;\n",
"clear;\n",
"close;\n",
"// Given data\n",
"I_CQ= 10;// in mA\n",
"I_CQ= I_CQ*10^-3;// in A\n",
"V_CQ= 5;// in V\n",
"V_CC= 10;// in V\n",
"R_C= 0.4;// in kΩ\n",
"R_C= R_C*10^3;// in Ω\n",
"V_BE= 0.075;// in V\n",
"V_BB= 0.175;// in V\n",
"bita=100;\n",
"bita_max=120;\n",
"bita_min= 40;\n",
"// Applying KVL we get, V_CQ= V_CC-I_C*(R_C+R_E)\n",
"R_E= (V_CC-V_CQ)/I_CQ-R_C;// in Ω\n",
"disp(R_E,'The value of R_E in Ω is :')\n",
"I_B= I_CQ/bita;// in A\n",
"R_B= (V_BB-V_BE)/I_B;// in Ω\n",
"disp(R_B*10^-3,'The value of R_B in kΩ')\n",
"I_Cmax= bita_max*I_B;// in A\n",
"I_Cmin= bita_min*I_B;// in A\n",
"delta_I_CQ= I_Cmax-I_Cmin;// in A\n",
"disp(delta_I_CQ*10^3,'The value of delta_I_C in mA is : ')"
   ]
   }
],
"metadata": {
		  "kernelspec": {
		   "display_name": "Scilab",
		   "language": "scilab",
		   "name": "scilab"
		  },
		  "language_info": {
		   "file_extension": ".sce",
		   "help_links": [
			{
			 "text": "MetaKernel Magics",
			 "url": "https://github.com/calysto/metakernel/blob/master/metakernel/magics/README.md"
			}
		   ],
		   "mimetype": "text/x-octave",
		   "name": "scilab",
		   "version": "0.7.1"
		  }
		 },
		 "nbformat": 4,
		 "nbformat_minor": 0
}
