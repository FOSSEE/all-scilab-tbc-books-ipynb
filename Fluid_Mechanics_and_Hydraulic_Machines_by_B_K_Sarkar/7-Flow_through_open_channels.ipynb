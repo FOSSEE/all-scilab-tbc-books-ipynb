{
"cells": [
 {
		   "cell_type": "markdown",
	   "metadata": {},
	   "source": [
       "# Chapter 7: Flow through open channels"
	   ]
	},
{
		   "cell_type": "markdown",
		   "metadata": {},
		   "source": [
			"## Example 7.10: num.sce"
		   ]
		  },
  {
"cell_type": "code",
	   "execution_count": null,
	   "metadata": {
	    "collapsed": true
	   },
	   "outputs": [],
"source": [
"// problem 7.10\n",
"D=2.4\n",
"d=1.5\n",
"i=1/1500\n",
"N=0.02\n",
"a=(d-(D/2))/(D/2)\n",
"z=acos(a)\n",
"z1=3.142-z\n",
"P=D*z1\n",
"A=D*D*0.25*(z1-(sin(2*z1)/2))\n",
"m=A/P\n",
"Q=(A*(m^0.6666)*(i^0.5))/N\n",
"disp(Q*1000,'the discharge through the sewer in litres/sec')\n",
""
   ]
   }
,
{
		   "cell_type": "markdown",
		   "metadata": {},
		   "source": [
			"## Example 7.11: num.sce"
		   ]
		  },
  {
"cell_type": "code",
	   "execution_count": null,
	   "metadata": {
	    "collapsed": true
	   },
	   "outputs": [],
"source": [
"// problem 7.11\n",
"b=1.5\n",
"d=0.8\n",
"Q=0.75\n",
"i=1/2500\n",
"A=b*d\n",
"P=b+(2*d)\n",
"m=A/P\n",
"C=Q/(((m*i)^0.5)*A)\n",
"z=(157.6/C)-1.81\n",
"K=z*(m^0.5)\n",
"disp(K,C,'Chezys constant and coefficient of roughness')\n",
""
   ]
   }
,
{
		   "cell_type": "markdown",
		   "metadata": {},
		   "source": [
			"## Example 7.12: num.sce"
		   ]
		  },
  {
"cell_type": "code",
	   "execution_count": null,
	   "metadata": {
	    "collapsed": true
	   },
	   "outputs": [],
"source": [
"// problem 7.12\n",
"b=10\n",
"d=4\n",
"i=1/1000\n",
"N=0.03\n",
"A=b*d\n",
"P=b+(2*d)\n",
"m=A/P\n",
"z1=23+(0.00155/i)+(1/N)\n",
"z2=1+((23+(0.00155/i))*(N/(m^0.5)))\n",
"C=z1/z2\n",
"Q=A*C*((m*i)^0.5)\n",
"disp(Q*1000,'discharge through the rectangular channel in litres/sec')"
   ]
   }
,
{
		   "cell_type": "markdown",
		   "metadata": {},
		   "source": [
			"## Example 7.13: num.sce"
		   ]
		  },
  {
"cell_type": "code",
	   "execution_count": null,
	   "metadata": {
	    "collapsed": true
	   },
	   "outputs": [],
"source": [
"// problem 7.13\n",
"b=4\n",
"d=1.5\n",
"i=1/1000\n",
"C=55\n",
"A=b*d\n",
"P=b+(2*d)\n",
"m=A/P\n",
"Q=A*C*((m*i)^0.5)\n",
"d1=(A/2)^0.5\n",
"b1=d1*2\n",
"disp(d1,b1,'the new dimension of the channel')\n",
"P1=b1+(2*d1)\n",
"m1=A/P1\n",
"Q1=A*C*((m1*i)^0.5)\n",
"Qf=Q1-Q\n",
"disp(Qf,'increase in discharge in m3/sec')"
   ]
   }
,
{
		   "cell_type": "markdown",
		   "metadata": {},
		   "source": [
			"## Example 7.14: num.sce"
		   ]
		  },
  {
"cell_type": "code",
	   "execution_count": null,
	   "metadata": {
	    "collapsed": true
	   },
	   "outputs": [],
"source": [
"// problem 7.14\n",
"i=1/2500\n",
"N=0.02\n",
"Q=14\n",
"n=1/(tand(60))\n",
"a=(3^0.5)\n",
"d=((Q*N*(2^0.6666))/((i^0.5)*a))^(3/8)\n",
"b=d*2/(3^0.5)\n",
"disp(d,b,'dimension of the channel')"
   ]
   }
,
{
		   "cell_type": "markdown",
		   "metadata": {},
		   "source": [
			"## Example 7.15: num.sce"
		   ]
		  },
  {
"cell_type": "code",
	   "execution_count": null,
	   "metadata": {
	    "collapsed": true
	   },
	   "outputs": [],
"source": [
"// problem 7.15\n",
"Q=20.2\n",
"i=1/2500\n",
"C=60\n",
"n=1/(tand(60))\n",
"a=(3^0.5)\n",
"d=((Q*(2^0.5))/(C*a*(i^0.5)))^0.4\n",
"b=2*d/(a)\n",
"disp(d,b,'dimension of the cross section in m')"
   ]
   }
,
{
		   "cell_type": "markdown",
		   "metadata": {},
		   "source": [
			"## Example 7.16: num.sce"
		   ]
		  },
  {
"cell_type": "code",
	   "execution_count": null,
	   "metadata": {
	    "collapsed": true
	   },
	   "outputs": [],
"source": [
"// problem 7.16\n",
"Q=10\n",
"V=2\n",
"A=Q/V\n",
"n=1\n",
"d=(A/1.828)^0.5\n",
"b=0.828*d\n",
"A1=(b+(2*d*((n*n+1)^0.5)))\n",
"disp(A1,'area in m2 of lining required for 1m canal lenght')"
   ]
   }
,
{
		   "cell_type": "markdown",
		   "metadata": {},
		   "source": [
			"## Example 7.17: num.sce"
		   ]
		  },
  {
"cell_type": "code",
	   "execution_count": null,
	   "metadata": {
	    "collapsed": true
	   },
	   "outputs": [],
"source": [
"// problem 7.17\n",
"n=1\n",
"Q=14\n",
"i=1/1000\n",
"C=44\n",
"a=1.828\n",
"d=((Q*(2^0.5))/(C*a*(i^0.5)))^0.4\n",
"b=d*0.828\n",
"cost=(b+n*d)*4\n",
"A=1.828*d*d\n",
"C1=70\n",
"d1=((Q*(2^0.5))/(C1*a*(i^0.5)))^0.4\n",
"b1=0.828*d1\n",
"cost1=(b1+n*d1)*4\n",
"costl=(b1+(2*d1*((n*n+1)^0.5)))\n",
"totalcost= cost1+costl\n",
"disp(d1,b1,'lined channel is cheaper ,dimension in m')"
   ]
   }
,
{
		   "cell_type": "markdown",
		   "metadata": {},
		   "source": [
			"## Example 7.18: num.sce"
		   ]
		  },
  {
"cell_type": "code",
	   "execution_count": null,
	   "metadata": {
	    "collapsed": true
	   },
	   "outputs": [],
"source": [
"// problem 7.18\n",
"d=1.2\n",
"i=1/1500\n",
"C=52\n",
"z=1.9-1/1\n",
"z1=acos(z)\n",
"x=3.142-z1\n",
"A=d*d*0.25*(x-(sin(2*x)/2))\n",
"P=d*x\n",
"m=A/P\n",
"Q=A*C*((m*i)^0.5)\n",
"disp(Q*1000,'the maximium discharge through the channel in litres/sec')"
   ]
   }
,
{
		   "cell_type": "markdown",
		   "metadata": {},
		   "source": [
			"## Example 7.1: num.sce"
		   ]
		  },
  {
"cell_type": "code",
	   "execution_count": null,
	   "metadata": {
	    "collapsed": true
	   },
	   "outputs": [],
"source": [
"// problem 7.1 \n",
"b=6\n",
"i=1/1000\n",
"d=2\n",
"C=50\n",
"A=b*d\n",
"m=A/(b+2*d)\n",
"Q=A*C*((i*m)^0.5)\n",
"disp(Q,'flow rate assuming chezys constant eqaul to 50 in m3/sec')"
   ]
   }
,
{
		   "cell_type": "markdown",
		   "metadata": {},
		   "source": [
			"## Example 7.2: num.sce"
		   ]
		  },
  {
"cell_type": "code",
	   "execution_count": null,
	   "metadata": {
	    "collapsed": true
	   },
	   "outputs": [],
"source": [
"// problem 7.2\n",
"b=5\n",
"d=3\n",
"i=1/1000\n",
"C=55\n",
"A=b*d\n",
"m=A/(b+2*d)\n",
"Q=A*C*((i*m)^0.5)\n",
"v=Q/A\n",
"disp(Q,v,'flow rate assuming chezys constant eqaul to 55 in m3/sec & velocity of flow in m/sec')"
   ]
   }
,
{
		   "cell_type": "markdown",
		   "metadata": {},
		   "source": [
			"## Example 7.3: num.sce"
		   ]
		  },
  {
"cell_type": "code",
	   "execution_count": null,
	   "metadata": {
	    "collapsed": true
	   },
	   "outputs": [],
"source": [
"// problem 7.3\n",
"b=2.5\n",
"d=2.5\n",
"C=56\n",
"A=b*(7.5+d)*0.5\n",
"P=2.5+((b*b+d*d)^0.5)*2\n",
"m=A/P\n",
"i=1/1200\n",
"Q=A*C*((m*i)^0.5)\n",
"disp(Q*1000,'the diacharge through the channel in litres/sec')"
   ]
   }
,
{
		   "cell_type": "markdown",
		   "metadata": {},
		   "source": [
			"## Example 7.4: num.sce"
		   ]
		  },
  {
"cell_type": "code",
	   "execution_count": null,
	   "metadata": {
	    "collapsed": true
	   },
	   "outputs": [],
"source": [
"// problem 7.4\n",
"b=3.5\n",
"i=1/1000\n",
"d=1.5\n",
"C=60\n",
"y=60\n",
"x=1.5/tand(y)\n",
"w=b+x*2\n",
"A=(w+b)*0.5*d\n",
"P=b+2*((x*x+d*d)^0.5)\n",
"m=A/P\n",
"Q=A*C*((m*i)^0.5)\n",
"disp(Q*1000,'discharge carried by the canal in litres/sec')"
   ]
   }
,
{
		   "cell_type": "markdown",
		   "metadata": {},
		   "source": [
			"## Example 7.5: num.sce"
		   ]
		  },
  {
"cell_type": "code",
	   "execution_count": null,
	   "metadata": {
	    "collapsed": true
	   },
	   "outputs": [],
"source": [
"// problem 7.5\n",
"b=9\n",
"i=1/3000\n",
"d=1.2\n",
"w=b+d\n",
"A=(w+b)*0.5*d\n",
"P=b+2*((d*d+d*d*0.25)^0.5)\n",
"m=A/P\n",
"C=50\n",
"V=C*((m*i)^0.5)\n",
"Q=V*A\n",
"disp(Q*1000,V,'average velocity of flow, rate of flow')"
   ]
   }
,
{
		   "cell_type": "markdown",
		   "metadata": {},
		   "source": [
			"## Example 7.6: num.sce"
		   ]
		  },
  {
"cell_type": "code",
	   "execution_count": null,
	   "metadata": {
	    "collapsed": true
	   },
	   "outputs": [],
"source": [
"// problem 7.6\n",
"Q=0.1\n",
"b=0.6\n",
"C=56\n",
"d=0.3\n",
"a=b*d\n",
"v=Q/a\n",
"p=b+2*d\n",
"m=a/p\n",
"i=(v*v)/(C*C*m)\n",
"k=a*C*(m^0.5)\n",
"disp(k,i,'bottom slope neccessary for uniform flow,conveyance of the channel section')"
   ]
   }
,
{
		   "cell_type": "markdown",
		   "metadata": {},
		   "source": [
			"## Example 7.7: num.sce"
		   ]
		  },
  {
"cell_type": "code",
	   "execution_count": null,
	   "metadata": {
	    "collapsed": true
	   },
	   "outputs": [],
"source": [
"// problem 7.7\n",
"i=1/1000\n",
"d=1.5\n",
"Cd=0.55\n",
"a=d*d\n",
"C=40\n",
"g=9.81\n",
"m=d\n",
"Q=a*C*((d*i)^0.5)\n",
"H=(3*Q/(Cd*2*((2*g)^0.5)))^0.4\n",
"height=d+3-H\n",
"disp(height,'height of the dam in m')\n",
""
   ]
   }
,
{
		   "cell_type": "markdown",
		   "metadata": {},
		   "source": [
			"## Example 7.8: num.sce"
		   ]
		  },
  {
"cell_type": "code",
	   "execution_count": null,
	   "metadata": {
	    "collapsed": true
	   },
	   "outputs": [],
"source": [
"// problem 7.8\n",
"b=1.4\n",
"d=1.4\n",
"n=1/4\n",
"i=1/700\n",
"N=0.025\n",
"a=d*(b+(n*d))\n",
"p=b+(2*d*((n*n+1)^0.5))\n",
"m=a/p\n",
"q=(a*(m^0.6666)*(i^0.5))/N\n",
"disp(q*1000,'discharge from the trapezoidal channel in litres/sec')"
   ]
   }
,
{
		   "cell_type": "markdown",
		   "metadata": {},
		   "source": [
			"## Example 7.9: num.sce"
		   ]
		  },
  {
"cell_type": "code",
	   "execution_count": null,
	   "metadata": {
	    "collapsed": true
	   },
	   "outputs": [],
"source": [
"// problem 7,9\n",
"Q=0.3\n",
"D=1.5\n",
"N=0.02\n",
"A=3.142*D*D/(4*2)\n",
"p=3.142*D/2\n",
"m=A/p\n",
"i=((Q*N)/(A*(m^0.6666)))^2\n",
"disp(i,'the slope of the sewer')"
   ]
   }
],
"metadata": {
		  "kernelspec": {
		   "display_name": "Scilab",
		   "language": "scilab",
		   "name": "scilab"
		  },
		  "language_info": {
		   "file_extension": ".sce",
		   "help_links": [
			{
			 "text": "MetaKernel Magics",
			 "url": "https://github.com/calysto/metakernel/blob/master/metakernel/magics/README.md"
			}
		   ],
		   "mimetype": "text/x-octave",
		   "name": "scilab",
		   "version": "0.7.1"
		  }
		 },
		 "nbformat": 4,
		 "nbformat_minor": 0
}
