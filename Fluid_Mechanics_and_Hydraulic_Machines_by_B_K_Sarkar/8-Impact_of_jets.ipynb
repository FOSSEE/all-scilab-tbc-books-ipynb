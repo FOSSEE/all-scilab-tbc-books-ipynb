{
"cells": [
 {
		   "cell_type": "markdown",
	   "metadata": {},
	   "source": [
       "# Chapter 8: Impact of jets"
	   ]
	},
{
		   "cell_type": "markdown",
		   "metadata": {},
		   "source": [
			"## Example 8.10: num.sce"
		   ]
		  },
  {
"cell_type": "code",
	   "execution_count": null,
	   "metadata": {
	    "collapsed": true
	   },
	   "outputs": [],
"source": [
"// problem 8.10\n",
"Q=0.283\n",
"d=0.05\n",
"x=170\n",
"u=48\n",
"g=9.81\n",
"p1=1000\n",
"w=g*p1\n",
"a=3.142*d*d/4\n",
"V1=Q/a\n",
"Vw1=V1\n",
"Vr1=V1-u\n",
"x1=0\n",
"Vr2=Vr1\n",
"Vw2=(Vr2*cosd(180-x))-u\n",
"Fx=(w*a*(V1-u)*(Vw1+Vw2))/g\n",
"P=Fx*u/1000\n",
"n=(P*1000*g*2)/(w*Q*V1*V1)\n",
"disp(n*100,P,Fx,'force exerted by the jet,power developed by the vane,efficiency')"
   ]
   }
,
{
		   "cell_type": "markdown",
		   "metadata": {},
		   "source": [
			"## Example 8.11: num.sce"
		   ]
		  },
  {
"cell_type": "code",
	   "execution_count": null,
	   "metadata": {
	    "collapsed": true
	   },
	   "outputs": [],
"source": [
"// problem 8.11\n",
"y1=30\n",
"y2=15\n",
"a=13*(10^-4)\n",
"x1=15\n",
"V1=60\n",
"Vf1=V1*sind(y2)\n",
"Vw1=V1*cosd(y2)\n",
"u=Vw1-(Vf1/tand(y1))\n",
"Vw2=u-(Vf1*cosd(y2)/sind(y1))\n",
"Vf2=(u-Vw2)*tand(y2)\n",
"V2=(Vf2*Vf2+Vw2*Vw2)^0.5\n",
"x2=atand(Vf2/Vw2)\n",
"g=9.81\n",
"p1=1000\n",
"w=g*p1\n",
"Fx=(w*a*V1*(Vw1-Vw2))/g\n",
"Fy=(w*a*V1*(V1*sind(y2)-V2*sind(x2)))/g\n",
"Fr=(Fx*Fx+Fy*Fy)^0.5\n",
"o=atand(Fy/Fx)\n",
"disp(o,Fr,x2,V2,u,'velocity of the vane,direction of velocity at exit,resultant force,angle between forces')"
   ]
   }
,
{
		   "cell_type": "markdown",
		   "metadata": {},
		   "source": [
			"## Example 8.12: num.sce"
		   ]
		  },
  {
"cell_type": "code",
	   "execution_count": null,
	   "metadata": {
	    "collapsed": true
	   },
	   "outputs": [],
"source": [
"// problem 8.12\n",
"V1=13\n",
"y1=30\n",
"y2=y1\n",
"u=4.5\n",
"g=9.81\n",
"p1=1000\n",
"w=g*p1\n",
"Q=0.001\n",
"x1=acosd(0.9394)\n",
"Vw1=V1*cosd(x1)\n",
"Vr1=(Vw1-u)/cosd(y1)\n",
"Vw2=Vr1*cosd(y1)-u\n",
"Vf2=Vr1*sind(y1)\n",
"V2=(Vf2*Vf2+Vw2*Vw2)^0.5\n",
"x2=atand(Vf2/Vw2)\n",
"W=(w*Q*(Vw1+Vw2)*u)/g\n",
"disp(W,x2,V2,x1,'direction of velocity, velocity of water at exit,direction of work,magnitude of work done per kg of water')"
   ]
   }
,
{
		   "cell_type": "markdown",
		   "metadata": {},
		   "source": [
			"## Example 8.13: num.sce"
		   ]
		  },
  {
"cell_type": "code",
	   "execution_count": null,
	   "metadata": {
	    "collapsed": true
	   },
	   "outputs": [],
"source": [
"// problem 8.13\n",
"V1=40\n",
"u=12\n",
"x1=20\n",
"x2=90\n",
"Vw1=V1*cosd(x1)\n",
"Vf1=V1*sind(x1)\n",
"y1=atand(Vf1/(Vw1-u))\n",
"Vr1=Vf1/sind(y1)\n",
"Vr2=0.9*Vr1\n",
"y2=acosd(u/Vr2)\n",
"W=1*Vw1*u\n",
"n=W/(V1*V1*0.5*1)\n",
"disp(n*100,W,y2,y1,'vane angle at the exit,work done on the vane per kg of water,efficiency')"
   ]
   }
,
{
		   "cell_type": "markdown",
		   "metadata": {},
		   "source": [
			"## Example 8.14: num.sce"
		   ]
		  },
  {
"cell_type": "code",
	   "execution_count": null,
	   "metadata": {
	    "collapsed": true
	   },
	   "outputs": [],
"source": [
"// problem 8.14 sce\n",
"d=0.05\n",
"V1=25\n",
"x1=30\n",
"x=50\n",
"x2=x1+x\n",
"g=10\n",
"p1=1000\n",
"a=3.142*d*d/4\n",
"w=g*p1\n",
"Fx=(w*a*V1*V1*(cosd(x1)-cosd(x2)))/g\n",
"Fy=(w*a*V1*V1*(sind(x1)-sind(x2)))/g\n",
"F=(Fx*Fx+Fy*Fy)^0.5\n",
"z=atand(-Fy/Fx)\n",
"disp(z,Fx,Fy,'resultant force,angle made by the resultant force with the horizontal')"
   ]
   }
,
{
		   "cell_type": "markdown",
		   "metadata": {},
		   "source": [
			"## Example 8.15: num.sce"
		   ]
		  },
  {
"cell_type": "code",
	   "execution_count": null,
	   "metadata": {
	    "collapsed": true
	   },
	   "outputs": [],
"source": [
"// problem 8.15\n",
"x1=0\n",
"x2=60\n",
"V1=30\n",
"V2=25\n",
"m=0.8\n",
"Fx=m*((V1*cosd(x1))-(V2*cosd(x2)))\n",
"Fy=m*((V1*sind(x1))-(V2*sind(x2)))\n",
"R=(Fx*Fx+Fy*Fy)^0.5\n",
"z=atand(-Fy/Fx)\n",
"disp(z,R,'magnitude and direction of resultant force ')\n",
""
   ]
   }
,
{
		   "cell_type": "markdown",
		   "metadata": {},
		   "source": [
			"## Example 8.1: num.sce"
		   ]
		  },
  {
"cell_type": "code",
	   "execution_count": null,
	   "metadata": {
	    "collapsed": true
	   },
	   "outputs": [],
"source": [
"// problem 8.1\n",
"V=25\n",
"F=300\n",
"g=9.81\n",
"p=1000\n",
"w=g*p\n",
"A=(F*g)/(w*V*V)\n",
"V1=35\n",
"F1=(w*A*V1*V1)/(g)\n",
"disp(F1,'force in N on the plate if the velocity of the jet is increased to 35 m/sec')"
   ]
   }
,
{
		   "cell_type": "markdown",
		   "metadata": {},
		   "source": [
			"## Example 8.2: num.sce"
		   ]
		  },
  {
"cell_type": "code",
	   "execution_count": null,
	   "metadata": {
	    "collapsed": true
	   },
	   "outputs": [],
"source": [
"// problem 8.2\n",
"d=0.05\n",
"V=15\n",
"g=9.81\n",
"p1=1000\n",
"w=g*p1\n",
"a=3.142*d*d/4\n",
"F=(w*a*V*V)/g\n",
"u=5\n",
"F1=(w*a*((V-u)^2))/g\n",
"disp(F,'force in N on plate if plate is stationary')\n",
"disp(F1,'force in N on plate if plate is moving in the direction of the jet')"
   ]
   }
,
{
		   "cell_type": "markdown",
		   "metadata": {},
		   "source": [
			"## Example 8.3: num.sce"
		   ]
		  },
  {
"cell_type": "code",
	   "execution_count": null,
	   "metadata": {
	    "collapsed": true
	   },
	   "outputs": [],
"source": [
"// problem 8.3\n",
"d=0.03\n",
"Fx=900\n",
"x=30\n",
"g=9.81\n",
"w=g*1000\n",
"a=3.142*d*d/4\n",
"V=((Fx*g)/(w*a*sind(x)*sind(x)))^0.5\n",
"Q=a*V\n",
"disp(Q*1000,'rate of flow in m3/sec')"
   ]
   }
,
{
		   "cell_type": "markdown",
		   "metadata": {},
		   "source": [
			"## Example 8.4: num.sce"
		   ]
		  },
  {
"cell_type": "code",
	   "execution_count": null,
	   "metadata": {
	    "collapsed": true
	   },
	   "outputs": [],
"source": [
"// problem 8.4\n",
"d=0.02\n",
"V=20\n",
"x=15\n",
"g=9.81\n",
"p1=1000\n",
"w=g*p1\n",
"a=3.142*d*d/4\n",
"W=(w*a*V*V)/(g*sind(x))\n",
"F1=(w*a*V*V)/(2*g)\n",
"disp(W,'weight of the plate in N')\n",
"disp(F1,'force in N required at the lower edge of the plate')"
   ]
   }
,
{
		   "cell_type": "markdown",
		   "metadata": {},
		   "source": [
			"## Example 8.5: num.sce"
		   ]
		  },
  {
"cell_type": "code",
	   "execution_count": null,
	   "metadata": {
	    "collapsed": true
	   },
	   "outputs": [],
"source": [
"// problem 8.5\n",
"d=0.05\n",
"V=20\n",
"y=120\n",
"x=180-y\n",
"g=9.81\n",
"p1=1000\n",
"w=g*p1\n",
"a=3.142*d*d/4\n",
"F=(w*a*V*V*(1+cosd(x)))/(g)\n",
"disp(F,'force in N exerted by the water jet')"
   ]
   }
,
{
		   "cell_type": "markdown",
		   "metadata": {},
		   "source": [
			"## Example 8.6: num.sce"
		   ]
		  },
  {
"cell_type": "code",
	   "execution_count": null,
	   "metadata": {
	    "collapsed": true
	   },
	   "outputs": [],
"source": [
"// problem 8.6\n",
"d=0.05\n",
"V=20\n",
"u=7\n",
"a=3.142*d*d/4\n",
"g=9.81\n",
"p1=1000\n",
"w=g*p1\n",
"F=(w*a*V*V)/g\n",
"F1=(w*a*((V-u)^2))/g\n",
"work=F1*u\n",
"disp(F,'force in N if plate is fixed ')\n",
"disp(F1,'force in N if plate is moving with a velocity of 7 m/sec')\n",
"disp(work,'work done per sec by the jet')"
   ]
   }
,
{
		   "cell_type": "markdown",
		   "metadata": {},
		   "source": [
			"## Example 8.7: num.sce"
		   ]
		  },
  {
"cell_type": "code",
	   "execution_count": null,
	   "metadata": {
	    "collapsed": true
	   },
	   "outputs": [],
"source": [
"// problem 8.7\n",
"W=58.86\n",
"d=0.02\n",
"V=5\n",
"z=0.15\n",
"g=9.81\n",
"p1=1000\n",
"w=g*p1\n",
"a=3.142*d*d/4\n",
"F=(w*a*V*V)/g\n",
"cog=0.1\n",
"x=30\n",
"P=(F*z)/cog\n",
"F1=((P*cog*(cosd(x)))+(W*cog*(sind(x))))\n",
"V1=((F1*g)/(w*a))^0.5\n",
"disp(V1,'velocity in m/sec of the jet if the plate is deflected through 30 degree')"
   ]
   }
,
{
		   "cell_type": "markdown",
		   "metadata": {},
		   "source": [
			"## Example 8.8: num.sce"
		   ]
		  },
  {
"cell_type": "code",
	   "execution_count": null,
	   "metadata": {
	    "collapsed": true
	   },
	   "outputs": [],
"source": [
"// problem 8.8\n",
"V=25\n",
"u=10\n",
"q=0.001\n",
"g=9.81\n",
"p1=1000\n",
"w=g*p1\n",
"x=180\n",
"u1=8\n",
"F1=(w*q/g)*V*(1-cosd(x))\n",
"F2=(w*q*((V-u)^2)*(1-cosd(x)))/(g*V)\n",
"F3=(w*q*(V-u1)*(1-cosd(x)))/g\n",
"disp(F3,F2,F1,'force of jet in N when,the cup is stationary,the cup is moving with velocity of 10m/sec,series of cup with velocity of 8m/sec')"
   ]
   }
,
{
		   "cell_type": "markdown",
		   "metadata": {},
		   "source": [
			"## Example 8.9: num.sce"
		   ]
		  },
  {
"cell_type": "code",
	   "execution_count": null,
	   "metadata": {
	    "collapsed": true
	   },
	   "outputs": [],
"source": [
"// problem 8.9\n",
"x1=30\n",
"V1=30\n",
"Q=0.001\n",
"g=9.81\n",
"w=g*1000\n",
"Vf1=V1*sind(x1)\n",
"Vw1=V1*cosd(x1)\n",
"u=15\n",
"x2=120\n",
"y1=atand(Vf1/(Vw1-u))\n",
"Vr1=((Vf1*Vf1)+((Vw1-u)^2))^0.5\n",
"z=u*sind(x2)/Vr1\n",
"y2=60-asind(z)\n",
"V2=Vr1*sind(y2)/sind(x2)\n",
"Vw2=V2*cosd(x2/2)\n",
"W=(w*Q*(Vw1+Vw2)*u)/g\n",
"n=W*2/(V1*V1)\n",
"disp(n*100,W,y2,'angle of vane,work done of water entering the vane,efficiency')"
   ]
   }
],
"metadata": {
		  "kernelspec": {
		   "display_name": "Scilab",
		   "language": "scilab",
		   "name": "scilab"
		  },
		  "language_info": {
		   "file_extension": ".sce",
		   "help_links": [
			{
			 "text": "MetaKernel Magics",
			 "url": "https://github.com/calysto/metakernel/blob/master/metakernel/magics/README.md"
			}
		   ],
		   "mimetype": "text/x-octave",
		   "name": "scilab",
		   "version": "0.7.1"
		  }
		 },
		 "nbformat": 4,
		 "nbformat_minor": 0
}
