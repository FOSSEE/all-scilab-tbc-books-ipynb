{
"cells": [
 {
		   "cell_type": "markdown",
	   "metadata": {},
	   "source": [
       "# Chapter 2: equillibrium of floating bodies"
	   ]
	},
{
		   "cell_type": "markdown",
		   "metadata": {},
		   "source": [
			"## Example 2.10: num.sce"
		   ]
		  },
  {
"cell_type": "code",
	   "execution_count": null,
	   "metadata": {
	    "collapsed": true
	   },
	   "outputs": [],
"source": [
"// problem 2.10\n",
"a=0.12\n",
"l=1.8\n",
"s=0.7\n",
"z=9810\n",
"wp=s*a*a*l*z\n",
"v=a*a*(l-0.2)\n",
"w=v*z\n",
"t=w-wp\n",
"s.p=110000\n",
"// applying equilibrium balance\n",
"w=t/(1-(9810/s.p)) \n",
"disp(w,'weight of lead in N')"
   ]
   }
,
{
		   "cell_type": "markdown",
		   "metadata": {},
		   "source": [
			"## Example 2.11: num.sce"
		   ]
		  },
  {
"cell_type": "code",
	   "execution_count": null,
	   "metadata": {
	    "collapsed": true
	   },
	   "outputs": [],
"source": [
"// problem 2.11\n",
"d=4\n",
"h=4\n",
"s=0.6\n",
"s1=1\n",
"h1=s*h/s1\n",
"v=3.142*d*d*0.25*h1\n",
"x=h1/2\n",
"cog=h/2\n",
"h2=cog-x\n",
"a=3.142*d*d*d*d/64\n",
"bm=a/v\n",
"mh=bm-h2\n",
"disp(mh,'metacentric height in m,negative sign indicte that cylinder is in unstable equilibrium')\n",
""
   ]
   }
,
{
		   "cell_type": "markdown",
		   "metadata": {},
		   "source": [
			"## Example 2.12: num.sce"
		   ]
		  },
  {
"cell_type": "code",
	   "execution_count": null,
	   "metadata": {
	    "collapsed": true
	   },
	   "outputs": [],
"source": [
"// problem 2.12\n",
"d=4\n",
"s1=0.6\n",
"s2=0.9\n",
"l=1\n",
"h=s1*l/s2\n",
"cob=h/2\n",
"cog=l/2\n",
"dcog=cog-cob\n",
"i=3.142*d*d*d*d/64\n",
"v=3.142*0.25*d*d*h\n",
"bm=i/v\n",
"bm=dcog\n",
"l=(6*1.5)^0.5\n",
"disp(l,'maximium lenght of cylinder in m')"
   ]
   }
,
{
		   "cell_type": "markdown",
		   "metadata": {},
		   "source": [
			"## Example 2.13: num.sce"
		   ]
		  },
  {
"cell_type": "code",
	   "execution_count": null,
	   "metadata": {
	    "collapsed": true
	   },
	   "outputs": [],
"source": [
"// problem 2.13\n",
"s=2\n",
"w=340\n",
"v=0.5*s*s*s\n",
"z=9810\n",
"w1=z*4\n",
"gb=s/4-s/8\n",
"i=s*s*s*s/(12)\n",
"v=4\n",
"bm=i/v\n",
"gm=bm+gb\n",
"p=w/(w1*gm)\n",
"theta=atand(p)\n",
"disp(theta*60,'angle through which cube will tilt in minutes')\n",
""
   ]
   }
,
{
		   "cell_type": "markdown",
		   "metadata": {},
		   "source": [
			"## Example 2.14: num.sce"
		   ]
		  },
  {
"cell_type": "code",
	   "execution_count": null,
	   "metadata": {
	    "collapsed": true
	   },
	   "outputs": [],
"source": [
"// problem 2.14\n",
"l=60\n",
"b=9\n",
"w=16*1000000\n",
"w1=160*1000\n",
"y=6\n",
"q=3\n",
"s.p=10104\n",
"i=0.75*l*b*b*b/12\n",
"v=w/s.p\n",
"bm=i/v\n",
"gm=(w1*y)/(w*tand(q))\n",
"mcd=2-bm\n",
"cogd=gm+mcd\n",
"disp(gm,'metacentric height')\n",
"disp(cogd,'position of centre of gravity below the water line')"
   ]
   }
,
{
		   "cell_type": "markdown",
		   "metadata": {},
		   "source": [
			"## Example 2.15: num.sce"
		   ]
		  },
  {
"cell_type": "code",
	   "execution_count": null,
	   "metadata": {
	    "collapsed": true
	   },
	   "outputs": [],
"source": [
"// problem 2.15\n",
"w=450000\n",
"y=5.5\n",
"w1=80*1000000\n",
"q=3\n",
"gm=(w*y)/(w1*tand(q))\n",
"p=12.5*1000\n",
"n=120\n",
"T=(p*60000)/(2*3.142*n)\n",
"z=T/(w1*gm)\n",
"theta=atand(z)\n",
"disp(theta,'angle of heel in degree')"
   ]
   }
,
{
		   "cell_type": "markdown",
		   "metadata": {},
		   "source": [
			"## Example 2.1: num.sce"
		   ]
		  },
  {
"cell_type": "code",
	   "execution_count": null,
	   "metadata": {
	    "collapsed": true
	   },
	   "outputs": [],
"source": [
"//problem 2.1\n",
"l=4\n",
"w=2\n",
"sg=0.75\n",
"z=9810\n",
"d=0.5\n",
"v=l*w*d\n",
"wg=v*z*sg\n",
"s=24000\n",
"V=((z*v)-wg)/s\n",
"V1=(v*z-wg)/(s-z)\n",
"disp(V,'volume in m3 when block is completely in water')\n",
"disp(V1,'volume in m3 when block and concrete completely under water')"
   ]
   }
,
{
		   "cell_type": "markdown",
		   "metadata": {},
		   "source": [
			"## Example 2.2: num.sce"
		   ]
		  },
  {
"cell_type": "code",
	   "execution_count": null,
	   "metadata": {
	    "collapsed": true
	   },
	   "outputs": [],
"source": [
"//problem 2.2\n",
"d=1\n",
"s=0.75\n",
"w=9810\n",
"a=3.142*d*d/4\n",
"h=d*0.5\n",
"p=w*h*s // intensity of pressure on at horizontal interface\n",
"v=p*a  //vertical upward force\n",
"w1=w*s*a*d/3 // weight of oil in upper hemisphere\n",
"vf=v-w1  // net vertical upward force\n",
"disp(vf,'minimum weight of upper hemisphere in N') "
   ]
   }
,
{
		   "cell_type": "markdown",
		   "metadata": {},
		   "source": [
			"## Example 2.3: num.sce"
		   ]
		  },
  {
"cell_type": "code",
	   "execution_count": null,
	   "metadata": {
	    "collapsed": true
	   },
	   "outputs": [],
"source": [
"// problem 2.3\n",
"w=90\n",
"// By archemde's principle\n",
"// weight of water dispalced = weight of sphere\n",
"z=9810\n",
"v=w/z\n",
"d=(v*12/3.142)^0.33333\n",
"disp(d,'external diameter of hollow of sphere in m')"
   ]
   }
,
{
		   "cell_type": "markdown",
		   "metadata": {},
		   "source": [
			"## Example 2.4: num.sce"
		   ]
		  },
  {
"cell_type": "code",
	   "execution_count": null,
	   "metadata": {
	    "collapsed": true
	   },
	   "outputs": [],
"source": [
"// problem 2.4\n",
"s1=13.6\n",
"s2=7.8\n",
"s3=1\n",
"// by archimede principle\n",
"// weight of body = weight of liquid displaced\n",
"// s2=s1*x+s3*(1-x) \n",
"x=(s2-s3)/(s1-s3)\n",
"disp(x,'fraction of steel below surface of mercury')"
   ]
   }
,
{
		   "cell_type": "markdown",
		   "metadata": {},
		   "source": [
			"## Example 2.5: num.sce"
		   ]
		  },
  {
"cell_type": "code",
	   "execution_count": null,
	   "metadata": {
	    "collapsed": true
	   },
	   "outputs": [],
"source": [
"// problem 2.5\n",
"w=9810\n",
"do=1.25\n",
"a=3.142*do*do*0.25\n",
"f1=w*a*1\n",
"f2=w*a*3 // buoyancy force of 3m lenght of pipe\n",
"di=1.2\n",
"s=9.8\n",
"wg=w*s*3*((1.25^2)-(1.2^2))*0.25*3.142\n",
"fa=f2-wg\n",
"disp(f1,'buoyancy force in N/m')\n",
"disp(fa,'upward force on anchor')"
   ]
   }
,
{
		   "cell_type": "markdown",
		   "metadata": {},
		   "source": [
			"## Example 2.6: num.sce"
		   ]
		  },
  {
"cell_type": "code",
	   "execution_count": null,
	   "metadata": {
	    "collapsed": true
	   },
	   "outputs": [],
"source": [
"// problem 2.6\n",
"a=0.25\n",
"s1=11.5\n",
"s2=1\n",
"z=9810\n",
"v1=a*a*a*0.5\n",
"wc=v1*z\n",
"h=0.016\n",
"// by archimede's principle\n",
"v2=(a*0.5+h)*a*a // volume of cube submergerd\n",
"v=(v2-v1)/(s1-s2)\n",
"wl=v*s1*z\n",
"disp(wl,'weight of lead attached')\n",
""
   ]
   }
,
{
		   "cell_type": "markdown",
		   "metadata": {},
		   "source": [
			"## Example 2.7: num.sce"
		   ]
		  },
  {
"cell_type": "code",
	   "execution_count": null,
	   "metadata": {
	    "collapsed": true
	   },
	   "outputs": [],
"source": [
"// problem 2.7\n",
"s1=19.3\n",
"s2=9\n",
"x=14/24\n",
"wg=x*10\n",
"wc=(1-x)*10\n",
"vg=wg/s1\n",
"vc=wc/s2\n",
"vt=vg+vc\n",
"disp(vt,'volume of 10gm,14 carat gold in cm3')"
   ]
   }
,
{
		   "cell_type": "markdown",
		   "metadata": {},
		   "source": [
			"## Example 2.8: num.sce"
		   ]
		  },
  {
"cell_type": "code",
	   "execution_count": null,
	   "metadata": {
	    "collapsed": true
	   },
	   "outputs": [],
"source": [
"// problem 2.8\n",
"h1=0.05\n",
"h2=0.015\n",
"s=41/40\n",
"l=h1/(s-1)\n",
"w1=25\n",
"// applying bakance in vertical direction\n",
"w=w1*(l+h1)/(h2)\n",
"disp(w,'weight of ship in in N')"
   ]
   }
,
{
		   "cell_type": "markdown",
		   "metadata": {},
		   "source": [
			"## Example 2.9: num.sce"
		   ]
		  },
  {
"cell_type": "code",
	   "execution_count": null,
	   "metadata": {
	    "collapsed": true
	   },
	   "outputs": [],
"source": [
"// problem 2.9\n",
"w=700\n",
"w1=20000\n",
"d=0.5\n",
"h=1\n",
"wd=250\n",
"z=9810\n",
"f=z*3.142*d*d*2*0.25/3\n",
"n=(w*4+w1)/(f-250)\n",
"n1=round(n)\n",
"disp(n1,'number of drums')"
   ]
   }
],
"metadata": {
		  "kernelspec": {
		   "display_name": "Scilab",
		   "language": "scilab",
		   "name": "scilab"
		  },
		  "language_info": {
		   "file_extension": ".sce",
		   "help_links": [
			{
			 "text": "MetaKernel Magics",
			 "url": "https://github.com/calysto/metakernel/blob/master/metakernel/magics/README.md"
			}
		   ],
		   "mimetype": "text/x-octave",
		   "name": "scilab",
		   "version": "0.7.1"
		  }
		 },
		 "nbformat": 4,
		 "nbformat_minor": 0
}
