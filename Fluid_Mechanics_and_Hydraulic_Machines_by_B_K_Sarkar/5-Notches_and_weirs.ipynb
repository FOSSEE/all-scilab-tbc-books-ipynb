{
"cells": [
 {
		   "cell_type": "markdown",
	   "metadata": {},
	   "source": [
       "# Chapter 5: Notches and weirs"
	   ]
	},
{
		   "cell_type": "markdown",
		   "metadata": {},
		   "source": [
			"## Example 5.10: num.sce"
		   ]
		  },
  {
"cell_type": "code",
	   "execution_count": null,
	   "metadata": {
	    "collapsed": true
	   },
	   "outputs": [],
"source": [
"// problem 5.10\n",
"Cd=0.6\n",
"x=45\n",
"H=0.5\n",
"g=9.81\n",
"q1=(8*Cd*tand(x/2)*((2*g)^0.5)*(H^2.5))/15\n",
"disp(q1,'rate of flow over the rectangular notch in m3/sec')\n",
"dq1=0.025\n",
"dh=dq1*H/2.5\n",
"h1=H+dh\n",
"h2=H-dh\n",
"disp(h1*100,h2*100,'limiting values of head in centimeters')"
   ]
   }
,
{
		   "cell_type": "markdown",
		   "metadata": {},
		   "source": [
			"## Example 5.11: num.sce"
		   ]
		  },
  {
"cell_type": "code",
	   "execution_count": null,
	   "metadata": {
	    "collapsed": true
	   },
	   "outputs": [],
"source": [
"// problem 5.11\n",
"Cd=0.6\n",
"x=90\n",
"q=0.05\n",
"g=9.81\n",
"dh=0.00025\n",
"z=(15*q)/(8*Cd*((2*g)^0.5)*(tand(x/2)))\n",
"H=z^0.4\n",
"error=2.5*(dh/H)\n",
"disp(error*100,'the percentage error in the discharge')"
   ]
   }
,
{
		   "cell_type": "markdown",
		   "metadata": {},
		   "source": [
			"## Example 5.1: num.sce"
		   ]
		  },
  {
"cell_type": "code",
	   "execution_count": null,
	   "metadata": {
	    "collapsed": true
	   },
	   "outputs": [],
"source": [
"// problem 5.1\n",
"q=0.2\n",
"Cd=0.62\n",
"g=9.81\n",
"// using the relation\n",
"z=(3*q*(2^1.5))/(2*Cd*((2*g)^0.5))\n",
"b=z^0.4\n",
"disp(b*100,'the lenght of the notch in cm ')"
   ]
   }
,
{
		   "cell_type": "markdown",
		   "metadata": {},
		   "source": [
			"## Example 5.2: num.sce"
		   ]
		  },
  {
"cell_type": "code",
	   "execution_count": null,
	   "metadata": {
	    "collapsed": true
	   },
	   "outputs": [],
"source": [
"// problem 4.2\n",
"b=1\n",
"H=0.15\n",
"Cd1=0.62\n",
"x=90\n",
"g=9.81\n",
"Cd2=0.58\n",
"Q1=2*Cd1*b*((2*g*H*H*H)^0.5)/3\n",
"z=(15*Q1)/(8*Cd2*((2*g)^0.5)*tand(x/2))\n",
"H1=z^0.4\n",
"disp(H1*100,'the depth over the traingular veir in cm')"
   ]
   }
,
{
		   "cell_type": "markdown",
		   "metadata": {},
		   "source": [
			"## Example 5.3: num.sce"
		   ]
		  },
  {
"cell_type": "code",
	   "execution_count": null,
	   "metadata": {
	    "collapsed": true
	   },
	   "outputs": [],
"source": [
"// problem 5.3\n",
"x=90\n",
"Cd=0.62\n",
"H=0.36\n",
"g=9.81\n",
"Q=(8*Cd*tand(x/2)*((2*g)^0.5)*(H^2.5))/15\n",
"q=Q*1000\n",
"disp(q,'the actual discharge in litres/sec')"
   ]
   }
,
{
		   "cell_type": "markdown",
		   "metadata": {},
		   "source": [
			"## Example 5.4: num.sce"
		   ]
		  },
  {
"cell_type": "code",
	   "execution_count": null,
	   "metadata": {
	    "collapsed": true
	   },
	   "outputs": [],
"source": [
"// problem 5.4\n",
"x=90\n",
"H=0.2\n",
"b=0.3\n",
"Cd=0.62\n",
"g=9.81\n",
"q1=(8*Cd*tand(x/2)*((2*g)^0.5)*(H^2.5))/15\n",
"q2=2*Cd*b*((2*g*H*H*H)^0.5)/3\n",
"q=q1+q2\n",
"disp(q,'discharge over the trapezoidal notch in m3/sec')"
   ]
   }
,
{
		   "cell_type": "markdown",
		   "metadata": {},
		   "source": [
			"## Example 5.5: num.sce"
		   ]
		  },
  {
"cell_type": "code",
	   "execution_count": null,
	   "metadata": {
	    "collapsed": true
	   },
	   "outputs": [],
"source": [
"// problem 5.5\n",
"a=20*(10^6)\n",
"x=0.03\n",
"q=a*x\n",
"qf=q*0.4/3600\n",
"n=2\n",
"H=0.6\n",
"// Using Francis formula \n",
"L=(qf/(1.84*(H^1.5)))+(0.1*n*H)\n",
"disp(L,'the lenght of the weir in m')"
   ]
   }
,
{
		   "cell_type": "markdown",
		   "metadata": {},
		   "source": [
			"## Example 5.6: num.sce"
		   ]
		  },
  {
"cell_type": "code",
	   "execution_count": null,
	   "metadata": {
	    "collapsed": true
	   },
	   "outputs": [],
"source": [
"// problem 5.6\n",
"L=36\n",
"v1=2\n",
"g=9.81\n",
"H=1.2\n",
"H1=(v1*v1)/(2*g)\n",
"n=2*12\n",
"w=0.6\n",
"Nv=11\n",
"Lf=L-(Nv*w)\n",
"Q=1.84*(Lf-(0.1*n*(H+H1)))*((H+H1)^1.5-(H1^1.5))\n",
"disp(Q,'dischsrge over the weir in m3/sec')"
   ]
   }
,
{
		   "cell_type": "markdown",
		   "metadata": {},
		   "source": [
			"## Example 5.7: num.sce"
		   ]
		  },
  {
"cell_type": "code",
	   "execution_count": null,
	   "metadata": {
	    "collapsed": true
	   },
	   "outputs": [],
"source": [
"// problem 5.7\n",
"l=0.77\n",
"H=0.39\n",
"H1=0.6\n",
"Dp=H+H1\n",
"Cd=0.623\n",
"g=9.81\n",
"Q=(2*Cd*l*((2*g*H*H*H)^0.5))/3\n",
"v=Q/(l*Dp)\n",
"Ha=(v*v)/(2*g)\n",
"q=(2*Cd*l*((2*g)^0.5)*(((H+Ha)^1.5)-(Ha^1.5)))/3\n",
"disp(q,'discharge in m3/sec')"
   ]
   }
,
{
		   "cell_type": "markdown",
		   "metadata": {},
		   "source": [
			"## Example 5.8: num.sce"
		   ]
		  },
  {
"cell_type": "code",
	   "execution_count": null,
	   "metadata": {
	    "collapsed": true
	   },
	   "outputs": [],
"source": [
"// problem 5.8\n",
"Q1=0.005\n",
"Cd=0.62\n",
"g=9.81\n",
"Q2=0.75\n",
"h=0.07\n",
"z=(Q1*15)/(8*Cd*((2*g)^0.5)*(h^2.5))\n",
"H=h*((Q2/Q1)^0.4)\n",
"W=2*H*z\n",
"disp(W,'width of the water surface in m')"
   ]
   }
,
{
		   "cell_type": "markdown",
		   "metadata": {},
		   "source": [
			"## Example 5.9: num.sce"
		   ]
		  },
  {
"cell_type": "code",
	   "execution_count": null,
	   "metadata": {
	    "collapsed": true
	   },
	   "outputs": [],
"source": [
"// problem 5.9\n",
"b=4\n",
"H=0.2\n",
"Cd=0.62\n",
"g=9.81\n",
"Q1=2*Cd*b*((2*g*H*H*H)^0.5)/3\n",
"Q2=(2*Cd*((2*g)^0.5)*(H^1.5)*(b-(0.2*H)))/3\n",
"m=0.405+(0.003/H)\n",
"Q3=m*b*((2*g)^0.5)*(H^1.5)\n",
"disp(Q1,'discharge when end contraction are supressed in m3/sec')\n",
"disp(Q2,'discharge when end contraction are taken into account by francis formula in m3/sec')\n",
"disp(Q3,'discharge when end contraction are taken into account by bazin formula in m3/sec')"
   ]
   }
],
"metadata": {
		  "kernelspec": {
		   "display_name": "Scilab",
		   "language": "scilab",
		   "name": "scilab"
		  },
		  "language_info": {
		   "file_extension": ".sce",
		   "help_links": [
			{
			 "text": "MetaKernel Magics",
			 "url": "https://github.com/calysto/metakernel/blob/master/metakernel/magics/README.md"
			}
		   ],
		   "mimetype": "text/x-octave",
		   "name": "scilab",
		   "version": "0.7.1"
		  }
		 },
		 "nbformat": 4,
		 "nbformat_minor": 0
}
