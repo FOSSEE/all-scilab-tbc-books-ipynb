{
"cells": [
 {
		   "cell_type": "markdown",
	   "metadata": {},
	   "source": [
       "# Chapter 1: Fluid pressure and its measurement"
	   ]
	},
{
		   "cell_type": "markdown",
		   "metadata": {},
		   "source": [
			"## Example 1.10: num.sce"
		   ]
		  },
  {
"cell_type": "code",
	   "execution_count": null,
	   "metadata": {
	    "collapsed": true
	   },
	   "outputs": [],
"source": [
"// problem 1.10\n",
"s1=1.2\n",
"s2=1\n",
"s3=0.7\n",
"h=(s1-s2)*0.3/(s2-s3)\n",
"disp(h*100,'difference in height(cm)')"
   ]
   }
,
{
		   "cell_type": "markdown",
		   "metadata": {},
		   "source": [
			"## Example 1.11: num.sce"
		   ]
		  },
  {
"cell_type": "code",
	   "execution_count": null,
	   "metadata": {
	    "collapsed": true
	   },
	   "outputs": [],
"source": [
"// problem 1.11\n",
"s1=0.8\n",
"s2=13.6\n",
"z=0.02\n",
"w=9810\n",
"h2=0.2\n",
"h1=0.1\n",
"h=h2*s2-h1*s1+(z*h2*(s2-s1))\n",
"p=h*w\n",
"disp(p,'pressure of the oil in N/m2')"
   ]
   }
,
{
		   "cell_type": "markdown",
		   "metadata": {},
		   "source": [
			"## Example 1.12: num.sce"
		   ]
		  },
  {
"cell_type": "code",
	   "execution_count": null,
	   "metadata": {
	    "collapsed": true
	   },
	   "outputs": [],
"source": [
"//problem 1.12\n",
"l=4\n",
"b=2\n",
"h=3\n",
"w=9810\n",
"s=0.8\n",
"p1=w*l*b*h*s\n",
"p2=w*s*l*h*1.5\n",
"p3=w*s*b*h*1.5\n",
"disp(p1,'total pressure on horizontal base')\n",
"disp(p2, 'total pressure on larger vertical base')\n",
"disp(p3,'total pressure on smaller vertical walls')"
   ]
   }
,
{
		   "cell_type": "markdown",
		   "metadata": {},
		   "source": [
			"## Example 1.13: num.sce"
		   ]
		  },
  {
"cell_type": "code",
	   "execution_count": null,
	   "metadata": {
	    "collapsed": true
	   },
	   "outputs": [],
"source": [
"//problem 1.13\n",
"p=490500\n",
"w=9810\n",
"h=p/w\n",
"D=0.15\n",
"A=3.142*D*D*0.25\n",
"pt=w*A*h\n",
"h1=(D*D)/(16*h)\n",
"disp(pt,'total hydrostatic pressure in N')\n",
"disp(h1,'position of centre of pressure below the centre of pipe')"
   ]
   }
,
{
		   "cell_type": "markdown",
		   "metadata": {},
		   "source": [
			"## Example 1.14: num.sce"
		   ]
		  },
  {
"cell_type": "code",
	   "execution_count": null,
	   "metadata": {
	    "collapsed": true
	   },
	   "outputs": [],
"source": [
"//problem 1.14\n",
"w=9810\n",
"h=4\n",
"d=2\n",
"a=d*d*0.25*3.142\n",
"p=w*a*h\n",
"h1=d*d/64\n",
"T=p*(h1) \n",
"disp(T, 'torque required to keep the disc in vertical position in N.m')"
   ]
   }
,
{
		   "cell_type": "markdown",
		   "metadata": {},
		   "source": [
			"## Example 1.15: num.sce"
		   ]
		  },
  {
"cell_type": "code",
	   "execution_count": null,
	   "metadata": {
	    "collapsed": true
	   },
	   "outputs": [],
"source": [
"//problem 1.15\n",
"w=9810\n",
"h=2\n",
"l=2\n",
"b=1\n",
"a=l*b\n",
"p=w*a*h\n",
"h1=h+(b*l*l*l/(12*b*l*l))\n",
"disp(p,'total pressure')\n",
"disp(h1,'location of its centre of pressure')"
   ]
   }
,
{
		   "cell_type": "markdown",
		   "metadata": {},
		   "source": [
			"## Example 1.16: num.sce"
		   ]
		  },
  {
"cell_type": "code",
	   "execution_count": null,
	   "metadata": {
	    "collapsed": true
	   },
	   "outputs": [],
"source": [
"//problem 1.16\n",
"h1=8\n",
"w=9810\n",
"wd=6\n",
"p1=0.5*w*h1*h1*wd\n",
"h2=4\n",
"p2=0.5*h2*w*h2*wd\n",
"h11=0.66666*h1\n",
"h22=0.6666*h2\n",
"p=p1-p2\n",
"hf=(p1*(h1-h11)-p2*(h2-h22))/p\n",
"disp(p,'resultant force')\n",
"disp(hf,'position of its line of action')"
   ]
   }
,
{
		   "cell_type": "markdown",
		   "metadata": {},
		   "source": [
			"## Example 1.17: num.sce"
		   ]
		  },
  {
"cell_type": "code",
	   "execution_count": null,
	   "metadata": {
	    "collapsed": true
	   },
	   "outputs": [],
"source": [
"//problem 1.17\n",
"z=9810\n",
"w=10\n",
"h=2\n",
"p=0.5*h*h*w*z\n",
"h1=h*0.6666\n",
"disp(p,'total hydrostatic thrust')\n",
"disp(h1,'its point of application')"
   ]
   }
,
{
		   "cell_type": "markdown",
		   "metadata": {},
		   "source": [
			"## Example 1.18: num.sce"
		   ]
		  },
  {
"cell_type": "code",
	   "execution_count": null,
	   "metadata": {
	    "collapsed": true
	   },
	   "outputs": [],
"source": [
"//problem 1.18\n",
"a1=1.4*2.2*1.4\n",
"x1=1.6+0.7\n",
"x11=(1.4*1.4/(12*2.3))+x1\n",
"x2=0.7\n",
"x22=(1.4*1.4/(12*0.7))+x2\n",
"z=9810\n",
"p1=z*a1*x1\n",
"p2=z*a1*x2/1.4\n",
"p=p1-p2\n",
"h=(p1*(3-x11)+p2*(1.4-x22))/p\n",
"f=(p1*(3-x11)-p2*(1.4-x22))/1.4\n",
"disp(p,'resultant force')\n",
"disp(f,'force acting horizontally on the top of the gate')"
   ]
   }
,
{
		   "cell_type": "markdown",
		   "metadata": {},
		   "source": [
			"## Example 1.19: num.sce"
		   ]
		  },
  {
"cell_type": "code",
	   "execution_count": null,
	   "metadata": {
	    "collapsed": true
	   },
	   "outputs": [],
"source": [
"//problem 1.19\n",
"s=1.5\n",
"s1=0.9\n",
"w=9810\n",
"h1=0.9\n",
"h2=0.6\n",
"p1=0.5*w*s*s1*h1*h1 //total pressure due to oil\n",
"p2=w*h1*h2*s*s1 // total pressure due to oil above water\n",
"p3=w*h2*h2*0.5*s //total pressure due to water\n",
"p=p1+p2+p3\n",
"h=((p1*0.6666*h1)+(p2*(h1+0.5*h2))+(p3*(0.6666*h2+h1)))/p\n",
"disp(p,'resultant pressure on the wall in N/m2')\n",
"disp(h,'position of centre of pressure from free surface')\n",
"\n",
""
   ]
   }
,
{
		   "cell_type": "markdown",
		   "metadata": {},
		   "source": [
			"## Example 1.1: num.sce"
		   ]
		  },
  {
"cell_type": "code",
	   "execution_count": null,
	   "metadata": {
	    "collapsed": true
	   },
	   "outputs": [],
"source": [
"//problem 1.1\n",
"p=343350 //pressure at any point in pa\n",
"w=9810 //gravitational constant\n",
"h1=(p/w)\n",
"disp(h1 ,'pressure in term of height of water(m)')\n",
"s1=1\n",
"s2=13.6\n",
"h2=h1*s1/s2\n",
"disp(h2 ,'pressure in term of height of mercury(m)')"
   ]
   }
,
{
		   "cell_type": "markdown",
		   "metadata": {},
		   "source": [
			"## Example 1.20: num.sce"
		   ]
		  },
  {
"cell_type": "code",
	   "execution_count": null,
	   "metadata": {
	    "collapsed": true
	   },
	   "outputs": [],
"source": [
"// problem 1.20\n",
"d=2.4\n",
"h=1.6\n",
"s=1.2\n",
"a=d*s\n",
"w=9810\n",
"p=w*a*h*s\n",
"h1=((2*s*s*s*d)/(12*a*h))+h\n",
"disp(p,'total pressure in N')\n",
"disp(h1,'its point of application')"
   ]
   }
,
{
		   "cell_type": "markdown",
		   "metadata": {},
		   "source": [
			"## Example 1.21: num.sce"
		   ]
		  },
  {
"cell_type": "code",
	   "execution_count": null,
	   "metadata": {
	    "collapsed": true
	   },
	   "outputs": [],
"source": [
"// problem 1.21\n",
"x=30\n",
"d=1.2\n",
"h=1.5\n",
"w=9810\n",
"z=sin(x*3.142/180)\n",
"h1=(z*d*0.5)+h\n",
"a=0.25*3.142*d*d\n",
"p=a*w*h1\n",
"h11=(d*d*z*z)/(16*h1)+h1\n",
"disp(p,'total pressure')\n",
"disp(h11,'position of centre of pressure')\n",
"\n",
""
   ]
   }
,
{
		   "cell_type": "markdown",
		   "metadata": {},
		   "source": [
			"## Example 1.22: num.sce"
		   ]
		  },
  {
"cell_type": "code",
	   "execution_count": null,
	   "metadata": {
	    "collapsed": true
	   },
	   "outputs": [],
"source": [
"// problem 1.22\n",
"d=2\n",
"z=0.5\n",
"h=z+0.5*d\n",
"w=9810\n",
"a=3.142*d*d*0.25\n",
"p=a*w*h\n",
"h11=(1/(16*1.5))+1.5\n",
"disp(p,'total pressure on the plate')\n",
"disp(h11,'position of centre of pressure')"
   ]
   }
,
{
		   "cell_type": "markdown",
		   "metadata": {},
		   "source": [
			"## Example 1.23: num.sce"
		   ]
		  },
  {
"cell_type": "code",
	   "execution_count": null,
	   "metadata": {
	    "collapsed": true
	   },
	   "outputs": [],
"source": [
"// problem 1.23\n",
"x=30\n",
"z=sin(x*3.142/180)\n",
"h=6-(z*0.5)\n",
"l=1\n",
"b=4\n",
"a=l*b\n",
"w=9810\n",
"p=w*a*h\n",
"h11=(z*z)/(12*h)+h\n",
"f=p*0.5072\n",
"disp(f,'force normal to the gate at point B')"
   ]
   }
,
{
		   "cell_type": "markdown",
		   "metadata": {},
		   "source": [
			"## Example 1.24: num.sce"
		   ]
		  },
  {
"cell_type": "code",
	   "execution_count": null,
	   "metadata": {
	    "collapsed": true
	   },
	   "outputs": [],
"source": [
"// problem 1.24\n",
"x=30\n",
"z=sin(3.142*x/180)\n",
"d=1.4\n",
"h=3\n",
"b=1.5\n",
"h1=z+d\n",
"a=0.5*h*b\n",
"w=9810\n",
"p=w*a*h1\n",
"h11=((z*z*h*h*h*b)/(36*a*h1))+h1\n",
"disp(p,'total pressure on the plate')\n",
"disp(h11,'position of centre of pressure')"
   ]
   }
,
{
		   "cell_type": "markdown",
		   "metadata": {},
		   "source": [
			"## Example 1.25: num.sce"
		   ]
		  },
  {
"cell_type": "code",
	   "execution_count": null,
	   "metadata": {
	    "collapsed": true
	   },
	   "outputs": [],
"source": [
"// problem 1.25\n",
"d=1.8\n",
"h=2.4\n",
"w=9810\n",
"s=0.8\n",
"p1=w*d*d*h*0.25*3.142\n",
"h1=((d*d)/(16*h))+h\n",
"p=w*(s*1.5+2.4)\n",
"p2=p*3.142*d*d*0.25\n",
"p=p2-p1\n",
"ab=w*(s*1.5+1.5)\n",
"de=w*(s*1.5+3.3)\n",
"ce=de-ab\n",
"x=((0.5*ce*d*0.3)/(0.5*(ab+de)*d))\n",
"h2=x+h\n",
"h12=h1-h2\n",
"disp(p, 'change in total pressure')\n",
"disp(h2,'position of centre of pressure')\n",
"disp(h12,'change in position of centre of pressure')"
   ]
   }
,
{
		   "cell_type": "markdown",
		   "metadata": {},
		   "source": [
			"## Example 1.26: num.sce"
		   ]
		  },
  {
"cell_type": "code",
	   "execution_count": null,
	   "metadata": {
	    "collapsed": true
	   },
	   "outputs": [],
"source": [
"// problem 1.26\n",
"l=5\n",
"r=3\n",
"a=l*r\n",
"h=r*0.5\n",
"w=9810\n",
"ph=w*a*h\n",
"pv=w*0.25*3.142*r*r*l\n",
"p=sqrt((ph*ph)+(pv*pv))\n",
"z=ph/pv\n",
"theta=atand(z)\n",
"disp(p,'resultant pressure on the gate')\n",
"disp(theta,'angle of resultant force with vertical')"
   ]
   }
,
{
		   "cell_type": "markdown",
		   "metadata": {},
		   "source": [
			"## Example 1.27: num.sce"
		   ]
		  },
  {
"cell_type": "code",
	   "execution_count": null,
	   "metadata": {
	    "collapsed": true
	   },
	   "outputs": [],
"source": [
"// problem 1.27\n",
"s=5\n",
"z=sind(45)\n",
"a=2*s*z\n",
"h=s*z\n",
"w=9810\n",
"ph=w*a*h\n",
"pv=w*((0.25*s*s*3.142)-(0.5*a*h))\n",
"disp(ph,'horizontal pressure')\n",
"disp(pv,'vertical pressure')"
   ]
   }
,
{
		   "cell_type": "markdown",
		   "metadata": {},
		   "source": [
			"## Example 1.2: num.sce"
		   ]
		  },
  {
"cell_type": "code",
	   "execution_count": null,
	   "metadata": {
	    "collapsed": true
	   },
	   "outputs": [],
"source": [
"//Problem 1.2\n",
"h1=0.75 //atm pressure in term of mercury\n",
"w=9810\n",
"w1=13.6*w //specific weight of mercury\n",
"Patm=w1*h1\n",
"w2=15000\n",
"h2=3 //\n",
"p=w2*h2 // gauge pressure\n",
"Pabs=Patm+p\n",
"disp(p,'gauge pressure(N/m2)')\n",
"disp(Pabs,'absolute pressure(N/m2)')\n",
""
   ]
   }
,
{
		   "cell_type": "markdown",
		   "metadata": {},
		   "source": [
			"## Example 1.3: num.sce"
		   ]
		  },
  {
"cell_type": "code",
	   "execution_count": null,
	   "metadata": {
	    "collapsed": true
	   },
	   "outputs": [],
"source": [
"//Problem 1.3\n",
"h1=2.5\n",
"h2=1.5\n",
"s1=1\n",
"s2=0.8\n",
"w=9810\n",
"p2=s2*w*h2 //Pressure intensity at interface\n",
"p1=s1*w*h1\n",
"p=p1+p2\n",
"disp(p2, 'pressure intensity at interface(N/m2)')\n",
"disp(p, 'pressure intensity at bottom(N/m2)')"
   ]
   }
,
{
		   "cell_type": "markdown",
		   "metadata": {},
		   "source": [
			"## Example 1.4: num.sce"
		   ]
		  },
  {
"cell_type": "code",
	   "execution_count": null,
	   "metadata": {
	    "collapsed": true
	   },
	   "outputs": [],
"source": [
"//problem 1.4\n",
"p=71613 //gauge pressure\n",
"w=9810\n",
"phead=p/w\n",
"patm=10.33\n",
"pabs=patm+phead\n",
"disp(pabs,'absolute pressure in term of water height in meters')"
   ]
   }
,
{
		   "cell_type": "markdown",
		   "metadata": {},
		   "source": [
			"## Example 1.5: num.sce"
		   ]
		  },
  {
"cell_type": "code",
	   "execution_count": null,
	   "metadata": {
	    "collapsed": true
	   },
	   "outputs": [],
"source": [
"//problem 1.5\n",
"h1=0.05\n",
"h2=0.1\n",
"s1=0.8\n",
"s2=13.6\n",
"w=9810\n",
"p=s2*h2*w //pressure at balance line \n",
"p1=s1*h1*w \n",
"pf=p-p1\n",
"disp(pf, 'pressure in pipe(N/m2)')"
   ]
   }
,
{
		   "cell_type": "markdown",
		   "metadata": {},
		   "source": [
			"## Example 1.6: num.sce"
		   ]
		  },
  {
"cell_type": "code",
	   "execution_count": null,
	   "metadata": {
	    "collapsed": true
	   },
	   "outputs": [],
"source": [
"//problem 1.6\n",
"h1=0.2\n",
"h2=0.5\n",
"s1=0.9\n",
"s2=13.6\n",
"h=-(h1*s1+h2*s2)\n",
"w=9810\n",
"p=h*w\n",
"disp(p, 'vacuum pressure (N/m2)')"
   ]
   }
,
{
		   "cell_type": "markdown",
		   "metadata": {},
		   "source": [
			"## Example 1.7: num.sce"
		   ]
		  },
  {
"cell_type": "code",
	   "execution_count": null,
	   "metadata": {
	    "collapsed": true
	   },
	   "outputs": [],
"source": [
"//problem 1.7\n",
"s1=0.8\n",
"s2=13.6\n",
"dh=0.4\n",
"h=dh*13.6-dh*0.8\n",
"w=9810\n",
"pd=w*h\n",
"disp(h, 'pressure difference in height of water()')\n",
"disp(pd, 'presuure difference in N/m2')"
   ]
   }
,
{
		   "cell_type": "markdown",
		   "metadata": {},
		   "source": [
			"## Example 1.8: num.sce"
		   ]
		  },
  {
"cell_type": "code",
	   "execution_count": null,
	   "metadata": {
	    "collapsed": true
	   },
	   "outputs": [],
"source": [
"//problem 1.8\n",
"s1=0.8\n",
"s2=0.7\n",
"h1=1.5\n",
"h2=0.3\n",
"h3=0.7\n",
"s3=13.6\n",
"hd=h2*s2+h3*s3-h1*s1\n",
"w=9810\n",
"pd=hd*w\n",
"disp(hd, 'diffrence in pressure in term of height of water(m)')\n",
"disp(pd, 'difference in pressure (N/m2)')"
   ]
   }
,
{
		   "cell_type": "markdown",
		   "metadata": {},
		   "source": [
			"## Example 1.9: num.sce"
		   ]
		  },
  {
"cell_type": "code",
	   "execution_count": null,
	   "metadata": {
	    "collapsed": true
	   },
	   "outputs": [],
"source": [
"//problem 1.9\n",
"s1=1.6\n",
"s2=0.8\n",
"s3=13.6\n",
"p1=98100\n",
"p2=176580\n",
"w=9810\n",
"h1=p1/w\n",
"h2=p2/w\n",
"h=(h2-h1+1.6*s2-4.1*s1)/(s3-s2)\n",
"disp(h.*100 ,'difference in mercury level(cm)')"
   ]
   }
],
"metadata": {
		  "kernelspec": {
		   "display_name": "Scilab",
		   "language": "scilab",
		   "name": "scilab"
		  },
		  "language_info": {
		   "file_extension": ".sce",
		   "help_links": [
			{
			 "text": "MetaKernel Magics",
			 "url": "https://github.com/calysto/metakernel/blob/master/metakernel/magics/README.md"
			}
		   ],
		   "mimetype": "text/x-octave",
		   "name": "scilab",
		   "version": "0.7.1"
		  }
		 },
		 "nbformat": 4,
		 "nbformat_minor": 0
}
