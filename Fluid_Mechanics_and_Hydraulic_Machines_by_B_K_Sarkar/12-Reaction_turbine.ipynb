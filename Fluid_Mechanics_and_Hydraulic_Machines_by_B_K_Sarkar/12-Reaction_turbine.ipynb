{
"cells": [
 {
		   "cell_type": "markdown",
	   "metadata": {},
	   "source": [
       "# Chapter 12: Reaction turbine"
	   ]
	},
{
		   "cell_type": "markdown",
		   "metadata": {},
		   "source": [
			"## Example 12.1: num.sce"
		   ]
		  },
  {
"cell_type": "code",
	   "execution_count": null,
	   "metadata": {
	    "collapsed": true
	   },
	   "outputs": [],
"source": [
"// problem 12.1\n",
"D1=0.6\n",
"D2=0.3\n",
"x2=90\n",
"B1=0.15\n",
"N=300/60\n",
"x1=15\n",
"Vf1=3\n",
"Vf2=Vf1\n",
"u1=3.1428*D1*N\n",
"u2=3.142*D2*N\n",
"Vw1=Vf1/tand(x1)\n",
"y1=atand(Vf1/(Vw1-u1))\n",
"Q=3.142*D1*B1*Vf1\n",
"w=9810\n",
"g=9.81\n",
"P=w*Q*Vw1*u1/(g*1000)\n",
"disp(P,y1,'blade angles, Power developed in Kw')"
   ]
   }
,
{
		   "cell_type": "markdown",
		   "metadata": {},
		   "source": [
			"## Example 12.2: num.sce"
		   ]
		  },
  {
"cell_type": "code",
	   "execution_count": null,
	   "metadata": {
	    "collapsed": true
	   },
	   "outputs": [],
"source": [
"// problem 12.2\n",
"D1=1\n",
"N=200/60\n",
"B1=0.15\n",
"Vf1=3\n",
"Vf2=Vf1\n",
"x2=90\n",
"Q=3.142*D1*B1*Vf1\n",
"u1=3.142*D1*N\n",
"Vw1=u1\n",
"w=9810\n",
"g=9.81\n",
"P=(w*Q*Vw1*u1)/(g*1000)\n",
"H=(Vw1*u1/g)+(Vf2*Vf2/(2*g))\n",
"nh=Vw1*u1/(g*H)\n",
"disp(nh*100,P,'power developed in Kw,hydraulic efficiency')"
   ]
   }
,
{
		   "cell_type": "markdown",
		   "metadata": {},
		   "source": [
			"## Example 12.3: num.sce"
		   ]
		  },
  {
"cell_type": "code",
	   "execution_count": null,
	   "metadata": {
	    "collapsed": true
	   },
	   "outputs": [],
"source": [
"// problem 12.3\n",
"D1=0.75\n",
"D2=0.5\n",
"x1=20\n",
"Vf1=3\n",
"Vf2=3\n",
"B1=0.15\n",
"N=250/60\n",
"u1=3.142*D1*N\n",
"u2=3.142*D2*N\n",
"Vw1=Vf1/tand(x1)\n",
"y1=atand(Vf1/(u1-Vw1))\n",
"y2=atand(Vf2/u2)\n",
"Q=3.142*D1*B1*Vf1\n",
"w=9810\n",
"g=9.81\n",
"P=w*Q*Vw1*u1/(g*1000)\n",
"H=(Vw1*u1/g)+(Vf2*Vf2/(2*g))\n",
"nh=Vw1*u1/(g*H)\n",
"disp(nh*100,P,y2,y1,'hydraulic efficiency,power developed in Kw,blade angle at inlet and outlet')"
   ]
   }
,
{
		   "cell_type": "markdown",
		   "metadata": {},
		   "source": [
			"## Example 12.4: num.sce"
		   ]
		  },
  {
"cell_type": "code",
	   "execution_count": null,
	   "metadata": {
	    "collapsed": true
	   },
	   "outputs": [],
"source": [
"// problem 12.4\n",
"H=150\n",
"Q=6\n",
"N=400/60\n",
"D1=1.2\n",
"x1=20\n",
"x2=90\n",
"B1=0.1\n",
"u1=3.142*D1*N\n",
"Vf1=Q/(3.142*D1*B1)\n",
"Vw1=Vf1/tand(x1)\n",
"Vw2=0\n",
"w=9810\n",
"g=9.81\n",
"P=w*Q*Vw1*u1/(g*1000)\n",
"disp(P,Vw2,Vw1,'whirl component at inlet and outlet,power developed in Kw')"
   ]
   }
,
{
		   "cell_type": "markdown",
		   "metadata": {},
		   "source": [
			"## Example 12.5: num.sce"
		   ]
		  },
  {
"cell_type": "code",
	   "execution_count": null,
	   "metadata": {
	    "collapsed": true
	   },
	   "outputs": [],
"source": [
"// problem 12.5\n",
"D1=0.76\n",
"D2=0.5\n",
"x1=20\n",
"Vf1=4\n",
"Vf2=Vf1\n",
"B1=0.15\n",
"N=300/60\n",
"u1=3.142*D1*N\n",
"u2=3.142*D2*N\n",
"Vw1=Vf1/tand(x1)\n",
"y1=atand(Vf1/(u1-Vw1))\n",
"y2=atand(Vf2/u2)\n",
"Q=3.142*D1*B1*Vf1\n",
"w=9810\n",
"g=9.81\n",
"P=w*Q*Vw1*u1/(g*1000)\n",
"disp(P,y2,y1,'blade angle at inlet and outlet,power developed in Kw')"
   ]
   }
,
{
		   "cell_type": "markdown",
		   "metadata": {},
		   "source": [
			"## Example 12.6: num.sce"
		   ]
		  },
  {
"cell_type": "code",
	   "execution_count": null,
	   "metadata": {
	    "collapsed": true
	   },
	   "outputs": [],
"source": [
"// problem 12.6\n",
"no=0.8\n",
"P=147*1000\n",
"H=10\n",
"g=9.81\n",
"u1=0.95*(sqrt(2*g*H))\n",
"Vf1=0.3*(sqrt(2*g*H))\n",
"N=160/60\n",
"Vw2=0\n",
"nh=(H-(0.2*H))/H\n",
"Vw1=nh*g*H/u1\n",
"x1=atand(Vf1/Vw1)\n",
"y1=atand(Vf1/(u1-Vw1))\n",
"D1=u1/(3.142*N)\n",
"w=9810\n",
"p=147*1000\n",
"Q=p/(w*H*no)\n",
"B1=Q/(3.142*D1*Vf1)\n",
"disp(B1*100,D1,y1,x1,'guide blade angle,wheel vane angle,diameter of wheel,width of wheel at inlet in cm')"
   ]
   }
,
{
		   "cell_type": "markdown",
		   "metadata": {},
		   "source": [
			"## Example 12.7: num.sce"
		   ]
		  },
  {
"cell_type": "code",
	   "execution_count": null,
	   "metadata": {
	    "collapsed": true
	   },
	   "outputs": [],
"source": [
"// problem 12.7\n",
"sp=25*(10^6)\n",
"H=40\n",
"no=0.9\n",
"P=25*1000\n",
"g=9.81\n",
"u1=2*(sqrt(2*g*H))\n",
"Vf1=0.6*(sqrt(2*g*H))\n",
"w=9810\n",
"Q=sp/(w*no*H)\n",
"De=(Q*4/(3.142*Vf1*(1-(0.35^2))))^0.5\n",
"Db=0.35*De\n",
"N=u1*60/(3.142*De)\n",
"Ns=N*(P^0.5)/(H^1.25)\n",
"disp(Ns,N,Db,De,'diameter of runner and boss, speed and specific speed of runner in r.p.m')"
   ]
   }
,
{
		   "cell_type": "markdown",
		   "metadata": {},
		   "source": [
			"## Example 12.8: num.sce"
		   ]
		  },
  {
"cell_type": "code",
	   "execution_count": null,
	   "metadata": {
	    "collapsed": true
	   },
	   "outputs": [],
"source": [
"// problem 12.8 \n",
"D=4.5\n",
"d=2\n",
"P=20608\n",
"N=140/60\n",
"H=22\n",
"nh=0.94\n",
"w=9810\n",
"g=9.81\n",
"no=0.85\n",
"Q=P*1000/(w*no*H)\n",
"Vf1=Q*4/(3.142*((D^2)-(d^2)))\n",
"u1=3.142*D*N\n",
"Vw1=nh*g*H/u1\n",
"x1=atand(Vf1/Vw1)\n",
"disp(x1,Q,'discharge through the turbine,guide blade angle at inlet')"
   ]
   }
],
"metadata": {
		  "kernelspec": {
		   "display_name": "Scilab",
		   "language": "scilab",
		   "name": "scilab"
		  },
		  "language_info": {
		   "file_extension": ".sce",
		   "help_links": [
			{
			 "text": "MetaKernel Magics",
			 "url": "https://github.com/calysto/metakernel/blob/master/metakernel/magics/README.md"
			}
		   ],
		   "mimetype": "text/x-octave",
		   "name": "scilab",
		   "version": "0.7.1"
		  }
		 },
		 "nbformat": 4,
		 "nbformat_minor": 0
}
