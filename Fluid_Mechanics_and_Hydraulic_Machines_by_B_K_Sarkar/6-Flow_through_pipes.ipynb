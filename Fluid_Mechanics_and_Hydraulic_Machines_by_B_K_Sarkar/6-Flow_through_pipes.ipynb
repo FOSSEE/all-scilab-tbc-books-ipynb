{
"cells": [
 {
		   "cell_type": "markdown",
	   "metadata": {},
	   "source": [
       "# Chapter 6: Flow through pipes"
	   ]
	},
{
		   "cell_type": "markdown",
		   "metadata": {},
		   "source": [
			"## Example 6.10: num.sce"
		   ]
		  },
  {
"cell_type": "code",
	   "execution_count": null,
	   "metadata": {
	    "collapsed": true
	   },
	   "outputs": [],
"source": [
"// problem 6.10\n",
"d1=0.15\n",
"d2=0.1\n",
"Q=0.03\n",
"a1=3.142*d1*d1/4\n",
"a2=3.142*d2*d2/4\n",
"V1=Q/a1\n",
"V2=Q/a2\n",
"c=0.6\n",
"g=9.81\n",
"dz=(V2*V2/(2*g))-(V1*V1/(2*g))+(V2*V2/(2*g))*((1/c-1)^2)\n",
"w=9810\n",
"dp=dz*w\n",
"disp(dp,'pressure loss across the contraction in N/m2')"
   ]
   }
,
{
		   "cell_type": "markdown",
		   "metadata": {},
		   "source": [
			"## Example 6.11: num.sce"
		   ]
		  },
  {
"cell_type": "code",
	   "execution_count": null,
	   "metadata": {
	    "collapsed": true
	   },
	   "outputs": [],
"source": [
"// problem 6.11\n",
"d1=0.5\n",
"d2=0.25\n",
"p1=103005\n",
"p2=67689\n",
"p3=p2\n",
"w=9810\n",
"g=9.81\n",
"c=0.65\n",
"z=1-(1/16)+((1/c-1)^2)\n",
"dp=p1-p2\n",
"v2=((dp*2*g)/(w*z))^0.5\n",
"a2=3.142*d2*d2/4\n",
"Q=v2*a2\n",
"disp(Q*1000,'rate of flow in m3/sec')\n",
"v3=v2\n",
"v1=v3/4\n",
"v4=v1\n",
"he=(v3-v4)^2/(2*g)\n",
"p4=w*((p3/w)+((v3*v3-v4*v4)/(2*g))-he)\n",
"disp(p4,'pressure at the 50 cm enlarge section in N/m2')\n",
""
   ]
   }
,
{
		   "cell_type": "markdown",
		   "metadata": {},
		   "source": [
			"## Example 6.12: num.sce"
		   ]
		  },
  {
"cell_type": "code",
	   "execution_count": null,
	   "metadata": {
	    "collapsed": true
	   },
	   "outputs": [],
"source": [
"// problem 6.12\n",
"d=0.04\n",
"v=2\n",
"dp=20000\n",
"l=8\n",
"w=9810\n",
"u=(dp*d*d)/(32*l*v)\n",
"disp(u,'viscosity of the flowing oil')"
   ]
   }
,
{
		   "cell_type": "markdown",
		   "metadata": {},
		   "source": [
			"## Example 6.13: num.sce"
		   ]
		  },
  {
"cell_type": "code",
	   "execution_count": null,
	   "metadata": {
	    "collapsed": true
	   },
	   "outputs": [],
"source": [
"// problem 6.13\n",
"d=0.25\n",
"l=12*1000\n",
"w=9320\n",
"i=1/300\n",
"v=20*(10^-4)\n",
"a=3.142*d*d/4\n",
"q=0.015\n",
"V=q/a\n",
"g=9.81\n",
"Rn=V*d/v\n",
"f=16/Rn\n",
"hf=(4*f*l*V*V)/(2*d*g)\n",
"H=hf+(i*l)\n",
"p=(w*q*H)/1000\n",
"disp(p,'power required to pump the oil')"
   ]
   }
,
{
		   "cell_type": "markdown",
		   "metadata": {},
		   "source": [
			"## Example 6.14: num.sce"
		   ]
		  },
  {
"cell_type": "code",
	   "execution_count": null,
	   "metadata": {
	    "collapsed": true
	   },
	   "outputs": [],
"source": [
"// problem 6.14\n",
"l=600\n",
"H=160\n",
"p=1200*1000\n",
"n=0.85\n",
"f=0.005\n",
"hf=H/3\n",
"w=9810\n",
"H1=H-hf\n",
"q=p/(w*H1*n)\n",
"d=((f*l*q*q)/(3*hf))^0.2\n",
"disp(d*100,'minimium diameter of the pipe in cm')"
   ]
   }
,
{
		   "cell_type": "markdown",
		   "metadata": {},
		   "source": [
			"## Example 6.15: num.sce"
		   ]
		  },
  {
"cell_type": "code",
	   "execution_count": null,
	   "metadata": {
	    "collapsed": true
	   },
	   "outputs": [],
"source": [
"// problem 6.15\n",
"d=0.25\n",
"l=500\n",
"a=3.142*d*d/4\n",
"f=0.006\n",
"q=0.04\n",
"g=9.81\n",
"p2=250*1000\n",
"V=q/a\n",
"hf=(4*f*l*V*V)/(d*2*g)\n",
"z1=0\n",
"z2=25\n",
"w=9810\n",
"p1=((p2/w)+z2+hf)*w\n",
"disp(p1,'pressure at point A is N/m2')"
   ]
   }
,
{
		   "cell_type": "markdown",
		   "metadata": {},
		   "source": [
			"## Example 6.16: num.sce"
		   ]
		  },
  {
"cell_type": "code",
	   "execution_count": null,
	   "metadata": {
	    "collapsed": true
	   },
	   "outputs": [],
"source": [
"// problem 6.16\n",
"q=0.15/(2.5*60)\n",
"d=0.03\n",
"p1=9810\n",
"p2=6867\n",
"l=2\n",
"w=9810\n",
"hf=(p1-p2)/w\n",
"a=3.142*d*d/4\n",
"V=q/a\n",
"g=9.81\n",
"f=(hf*2*g*d)/(4*l*V*V)\n",
"C=V*((4*l)/(d*hf))^0.5\n",
"disp(f,'darcy co-efficient')\n",
"disp(C,'Chezy formula')\n",
""
   ]
   }
,
{
		   "cell_type": "markdown",
		   "metadata": {},
		   "source": [
			"## Example 6.17: num.sce"
		   ]
		  },
  {
"cell_type": "code",
	   "execution_count": null,
	   "metadata": {
	    "collapsed": true
	   },
	   "outputs": [],
"source": [
"// problem 6.17\n",
"a=90\n",
"H1=10\n",
"d=0.15\n",
"l=400\n",
"H2=7\n",
"g=9.81\n",
"f=0.008\n",
"z=3.142*d*d*((2*g)^0.5)\n",
"z1=(1.5+(4*f*l/d))^0.5\n",
"T=(8*a*z1*(H1^0.5-H2^0.5))/z\n",
"disp(T/3600,'time to lower the level from 10m to 7m in hr')"
   ]
   }
,
{
		   "cell_type": "markdown",
		   "metadata": {},
		   "source": [
			"## Example 6.18: num.sce"
		   ]
		  },
  {
"cell_type": "code",
	   "execution_count": null,
	   "metadata": {
	    "collapsed": true
	   },
	   "outputs": [],
"source": [
"// problem 6.18\n",
"q=0.08\n",
"d1=0.25\n",
"d2=1\n",
"l1=1500\n",
"l2=1500\n",
"a1=3.142*d1*d1/4\n",
"a2=3.142*d2*d2/4\n",
"v2=q*4/(3.142*((1/32)+1))\n",
"v1=v2*0.5\n",
"q1=v1*a1\n",
"q2=v2*a2\n",
"disp(q1*1000,q2*1000,'disharge through  pipe in m3/sec')"
   ]
   }
,
{
		   "cell_type": "markdown",
		   "metadata": {},
		   "source": [
			"## Example 6.1: num.sce"
		   ]
		  },
  {
"cell_type": "code",
	   "execution_count": null,
	   "metadata": {
	    "collapsed": true
	   },
	   "outputs": [],
"source": [
"// problem 6.1\n",
"Rn=1700\n",
"v=0.744*(10^-4)\n",
"d=0.05\n",
"V=(Rn*v)/d\n",
"Vmax=2*V\n",
"x=0.00625\n",
"r=(d/2)-x\n",
"V1=Vmax*(1-(2*r/d)^2)\n",
"disp(V1,'velocity at the point 6.25 mm from the wall in m/sec')"
   ]
   }
,
{
		   "cell_type": "markdown",
		   "metadata": {},
		   "source": [
			"## Example 6.2: num.sce"
		   ]
		  },
  {
"cell_type": "code",
	   "execution_count": null,
	   "metadata": {
	    "collapsed": true
	   },
	   "outputs": [],
"source": [
"// problem 6.2\n",
"d=0.3\n",
"p=787\n",
"v=1.6*(10^-6)\n",
"Rn=2000\n",
"V=Rn*v/d\n",
"a=3.142*d*d/4\n",
"Q=a*V\n",
"disp(Q,'maximum flow rate for which the flow is maximium')"
   ]
   }
,
{
		   "cell_type": "markdown",
		   "metadata": {},
		   "source": [
			"## Example 6.3: num.sce"
		   ]
		  },
  {
"cell_type": "code",
	   "execution_count": null,
	   "metadata": {
	    "collapsed": true
	   },
	   "outputs": [],
"source": [
"// problem 6.3\n",
"vd=8*(10^-3)*0.1\n",
"p=996\n",
"vk=vd/p\n",
"disp(vk,'kinematic viscosity in m2/sec')"
   ]
   }
,
{
		   "cell_type": "markdown",
		   "metadata": {},
		   "source": [
			"## Example 6.4: num.sce"
		   ]
		  },
  {
"cell_type": "code",
	   "execution_count": null,
	   "metadata": {
	    "collapsed": true
	   },
	   "outputs": [],
"source": [
"// problem 6.4\n",
"u=1.5/98.1\n",
"s=0.81\n",
"d=0.14\n",
"Q=0.03\n",
"g=9.81\n",
"p=s*1000/g\n",
"a=3.142*d*d/4\n",
"V=Q/a\n",
"Rn=V*p*d/u\n",
"disp(Rn,'Rn less than 2000, flow is laminar')"
   ]
   }
,
{
		   "cell_type": "markdown",
		   "metadata": {},
		   "source": [
			"## Example 6.5: num.sce"
		   ]
		  },
  {
"cell_type": "code",
	   "execution_count": null,
	   "metadata": {
	    "collapsed": true
	   },
	   "outputs": [],
"source": [
"// problem 6.5\n",
"d=0.2\n",
"Q=0.088\n",
"l=5\n",
"vd=0.01\n",
"p=1000\n",
"v=vd/(p*10)\n",
"a=3.142*d*d/4\n",
"g=9.81\n",
"V=Q/a\n",
"Re=V*d/v\n",
"f=0.0018+(0.092/(3*(Re^0.5)))\n",
"Hf=(4*f*l*V*V)/(d*2*g)\n",
"disp(Hf,'head lost due to friction in m')"
   ]
   }
,
{
		   "cell_type": "markdown",
		   "metadata": {},
		   "source": [
			"## Example 6.6: num.sce"
		   ]
		  },
  {
"cell_type": "code",
	   "execution_count": null,
	   "metadata": {
	    "collapsed": true
	   },
	   "outputs": [],
"source": [
"// problem 6.6\n",
"s=0.75\n",
"d=0.2\n",
"l=1000\n",
"Q=3/60\n",
"f=0.01\n",
"a=3.142*d*d/4\n",
"V=Q/a\n",
"g=9.81\n",
"Hf=(4*f*l*V*V)/(d*2*g)\n",
"w=g*s*1000\n",
"dp=w*Hf\n",
"disp(dp,'pressure drop along its entire lenght in N/m2')"
   ]
   }
,
{
		   "cell_type": "markdown",
		   "metadata": {},
		   "source": [
			"## Example 6.7: num.sce"
		   ]
		  },
  {
"cell_type": "code",
	   "execution_count": null,
	   "metadata": {
	    "collapsed": true
	   },
	   "outputs": [],
"source": [
"// problem 6.7\n",
"d=0.3\n",
"g=9.81\n",
"l=400\n",
"Q=0.3\n",
"f=0.032\n",
"a=3.142*d*d/4\n",
"V=Q/a\n",
"Lentrance=(0.5*V*V)/(2*g)\n",
"Hf=(4*f*l*V*V)/(d*2*g)\n",
"Lexit=(V*V)/(2*g)\n",
"Totalloss=Lentrance+Hf+Lexit\n",
"disp(Totalloss,'diffrenc in elevation in m')"
   ]
   }
,
{
		   "cell_type": "markdown",
		   "metadata": {},
		   "source": [
			"## Example 6.8: num.sce"
		   ]
		  },
  {
"cell_type": "code",
	   "execution_count": null,
	   "metadata": {
	    "collapsed": true
	   },
	   "outputs": [],
"source": [
"// problem 6.8\n",
"l=40\n",
"l1=20\n",
"l2=20\n",
"d1=0.15\n",
"d2=0.3\n",
"H=8\n",
"f=0.01\n",
"h1=(2*d2*d2)/(d1*d1)\n",
"h2=4*f*l1*16/d1\n",
"h3=9\n",
"h4=4*f*l2/d2\n",
"g=9.81\n",
"ht=h1+h2+h3+h4+1\n",
"V2=(H*2*g/ht)^0.5\n",
"a2=3.142*d2*d2/4\n",
"Q=V2*a2\n",
"disp(Q*1000,'rate of low in litres/sec')\n",
"\n",
" "
   ]
   }
,
{
		   "cell_type": "markdown",
		   "metadata": {},
		   "source": [
			"## Example 6.9: num.sce"
		   ]
		  },
  {
"cell_type": "code",
	   "execution_count": null,
	   "metadata": {
	    "collapsed": true
	   },
	   "outputs": [],
"source": [
"// problem 6.9\n",
"l=2000\n",
"d=0.2\n",
"V=0.8\n",
"f=0.01\n",
"g=9.81\n",
"hf=(4*f*l*V*V)/(d*2*g)\n",
"disp(hf,'Head loss due to friction in pipeline')"
   ]
   }
],
"metadata": {
		  "kernelspec": {
		   "display_name": "Scilab",
		   "language": "scilab",
		   "name": "scilab"
		  },
		  "language_info": {
		   "file_extension": ".sce",
		   "help_links": [
			{
			 "text": "MetaKernel Magics",
			 "url": "https://github.com/calysto/metakernel/blob/master/metakernel/magics/README.md"
			}
		   ],
		   "mimetype": "text/x-octave",
		   "name": "scilab",
		   "version": "0.7.1"
		  }
		 },
		 "nbformat": 4,
		 "nbformat_minor": 0
}
