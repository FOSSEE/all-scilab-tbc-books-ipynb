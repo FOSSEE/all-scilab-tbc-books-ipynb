{
"cells": [
 {
		   "cell_type": "markdown",
	   "metadata": {},
	   "source": [
       "# Chapter 10: Centrifugal pump"
	   ]
	},
{
		   "cell_type": "markdown",
		   "metadata": {},
		   "source": [
			"## Example 10.10: num.sce"
		   ]
		  },
  {
"cell_type": "code",
	   "execution_count": null,
	   "metadata": {
	    "collapsed": true
	   },
	   "outputs": [],
"source": [
"// problem 10.10\n",
"Q=0.118\n",
"N=1450/60\n",
"Hm=25\n",
"d2=0.25\n",
"B2=0.05\n",
"n=0.75\n",
"g=9.81\n",
"u2=3.142*d2*N\n",
"Vf2=Q/(3.142*d2*B2)\n",
"Vw2=g*Hm/(n*u2)\n",
"y2=atand(Vf2/(u2-Vw2))\n",
"disp(y2,'vane angle in degree at the outer nperiphery of the impeller')"
   ]
   }
,
{
		   "cell_type": "markdown",
		   "metadata": {},
		   "source": [
			"## Example 10.11: num.sce"
		   ]
		  },
  {
"cell_type": "code",
	   "execution_count": null,
	   "metadata": {
	    "collapsed": true
	   },
	   "outputs": [],
"source": [
"// problem 10.11\n",
"Hm=14.5\n",
"N=1000/60\n",
"y2=30\n",
"d2=0.3\n",
"B2=0.05\n",
"g=9.81\n",
"n=0.95\n",
"u2=3.142*d2*N\n",
"Vw2=g*Hm/(n*u2)\n",
"Vf2=(u2-Vw2)*tand(y2)\n",
"Q=3.142*d2*B2*Vf2\n",
"disp(Q*1000,'discharge of pump in m3/sec if manometric efficiency if 95%')"
   ]
   }
,
{
		   "cell_type": "markdown",
		   "metadata": {},
		   "source": [
			"## Example 10.12: num.sce"
		   ]
		  },
  {
"cell_type": "code",
	   "execution_count": null,
	   "metadata": {
	    "collapsed": true
	   },
	   "outputs": [],
"source": [
"// problem 10.12\n",
"d2=1.2\n",
"N=200/60\n",
"Q=1.88\n",
"Hm=6\n",
"y2=26\n",
"g=9.81\n",
"Vf2=2.5\n",
"d1=0.6\n",
"u2=3.142*d2*N\n",
"Vw2=u2-(Vf2/tand(y2))\n",
"n=g*Hm/(Vw2*u2)\n",
"z1=(3.142*d2/60)^2\n",
"z2=(3.142*d1/60)^2\n",
"N1=(Hm*2*g/(z1-z2))^0.5\n",
"disp(n*100,N1,'least speed to start pump,manometric efficiency')"
   ]
   }
,
{
		   "cell_type": "markdown",
		   "metadata": {},
		   "source": [
			"## Example 10.13: num.sce"
		   ]
		  },
  {
"cell_type": "code",
	   "execution_count": null,
	   "metadata": {
	    "collapsed": true
	   },
	   "outputs": [],
"source": [
"// problem 10.13\n",
"Q=0.125\n",
"Hm=25\n",
"N=660/60\n",
"d2=0.6\n",
"d1=d2*0.5\n",
"a=0.06\n",
"y2=45\n",
"g=9.81\n",
"u2=3.142*d2*N\n",
"u1=u2*0.5\n",
"Vf2=Q/a\n",
"Vw2=u2-(Vf2/tand(y2))\n",
"n=g*Hm/(Vw2*u2)\n",
"Vf1=Q/(a)\n",
"y1=atand(Vf1/u1)\n",
"disp(y1,n*100,'manometric efficiency,vane angle at inlet')"
   ]
   }
,
{
		   "cell_type": "markdown",
		   "metadata": {},
		   "source": [
			"## Example 10.14: num.sce"
		   ]
		  },
  {
"cell_type": "code",
	   "execution_count": null,
	   "metadata": {
	    "collapsed": true
	   },
	   "outputs": [],
"source": [
"// problem 10.14\n",
"n=3\n",
"d2=0.4\n",
"B2=0.02\n",
"y2=45\n",
"da=0.1\n",
"nm=0.9\n",
"w=9810\n",
"no=0.8\n",
"g=9.81\n",
"N=1000/60\n",
"Q=0.05\n",
"Vf2=Q/(3.142*d2*nm*B2)\n",
"u2=3.142*d2*N\n",
"Vw2=u2-(Vf2/tand(y2))\n",
"Hm=nm*Vw2*u2/g\n",
"Ht=n*Hm\n",
"P=w*Q*Ht/1000\n",
"Ps=P/no\n",
"disp(Ps,'shaft power in Kw')"
   ]
   }
,
{
		   "cell_type": "markdown",
		   "metadata": {},
		   "source": [
			"## Example 10.15: num.sce"
		   ]
		  },
  {
"cell_type": "code",
	   "execution_count": null,
	   "metadata": {
	    "collapsed": true
	   },
	   "outputs": [],
"source": [
"// problem 10.15\n",
"n=6\n",
"Q=0.12\n",
"p=5003.1*1000\n",
"N=1450/60\n",
"w=9810\n",
"Ht=p/w\n",
"h=Ht/n\n",
"Ns=(N*(Q^0.5)/(h^0.75))*60\n",
"disp(Ns,'radial impeller would be selected')"
   ]
   }
,
{
		   "cell_type": "markdown",
		   "metadata": {},
		   "source": [
			"## Example 10.16: num.sce"
		   ]
		  },
  {
"cell_type": "code",
	   "execution_count": null,
	   "metadata": {
	    "collapsed": true
	   },
	   "outputs": [],
"source": [
"// problem 10.16\n",
"sg=1.08\n",
"w=9810*sg\n",
"Q=0.3\n",
"H=12\n",
"no=0.75\n",
"P=w*Q*H/(no*1000)\n",
"p=w*H\n",
"disp(p,P,'power in Kw required by the pump,pressure developed by the pump in  N/m2')"
   ]
   }
,
{
		   "cell_type": "markdown",
		   "metadata": {},
		   "source": [
			"## Example 10.17: num.sce"
		   ]
		  },
  {
"cell_type": "code",
	   "execution_count": null,
	   "metadata": {
	    "collapsed": true
	   },
	   "outputs": [],
"source": [
"// problem 10.17\n",
"d1=0.3\n",
"N1=2000/60\n",
"Q1=3\n",
"Hm1=30\n",
"Q2=5\n",
"N2=1500/60\n",
"Ht=200\n",
"Hm2=((N2/N1)*((Q2/Q1)^0.5)*(Hm1^0.75))^1.3333\n",
"n=Ht/Hm2\n",
"d2=((Hm2/Hm1)^0.5)*(N1/N2)*d1\n",
"disp(d2*100,n,'number of stages and diameter of each impeller in cm')"
   ]
   }
,
{
		   "cell_type": "markdown",
		   "metadata": {},
		   "source": [
			"## Example 10.1: num.sce"
		   ]
		  },
  {
"cell_type": "code",
	   "execution_count": null,
	   "metadata": {
	    "collapsed": true
	   },
	   "outputs": [],
"source": [
"// problem 10.1\n",
"N=900/60\n",
"x1=90\n",
"D1=0.2\n",
"D2=0.4\n",
"n=0.7\n",
"g=9.81\n",
"u1=3.142*D1*N\n",
"u2=2*u1 // as D2=2D1\n",
"y1=20\n",
"Vf1=u1*tand(y1)\n",
"Vr1=Vf1/sind(y1)\n",
"Vf2=Vf1\n",
"Vr2=Vr1\n",
"x=(Vr2*Vr2-Vf1*Vf1)^0.5\n",
"Vw2=u2-x\n",
"B1=0.02\n",
"Q=3.142*D1*B1*Vf1\n",
"H=Vw2*u2/g\n",
"w=9810\n",
"P=(w*Q*Vw2*u2)/(g*1000)\n",
"inputpower=(w*Q*H)/(1000*n)\n",
"disp(inputpower,P,H,Q,'discharge through the pump,heat developed,power in Kw at outlet,input power if overall efficiency is 70%')"
   ]
   }
,
{
		   "cell_type": "markdown",
		   "metadata": {},
		   "source": [
			"## Example 10.2: num.sce"
		   ]
		  },
  {
"cell_type": "code",
	   "execution_count": null,
	   "metadata": {
	    "collapsed": true
	   },
	   "outputs": [],
"source": [
"//problem 10.2\n",
"Hs=2\n",
"Hd=20\n",
"Hfs=1\n",
"Hfd=5\n",
"Q=1/60\n",
"N=1450/60\n",
"ds=0.1\n",
"dd=ds\n",
"n=0.75\n",
"g=9.81\n",
"w=9810\n",
"a=3.142*ds*ds/4\n",
"Vs=Q/a\n",
"Vd=Vs\n",
"Ht=Hs+Hd+Hfs+Hfd+(Vs*Vs/(2*g))+(Vd*Vd/(2*g))\n",
"Pi=(w*Q*Ht)/(n*1000)\n",
"Ns=((N*(Q^0.5))/(Ht^0.75))*60\n",
"disp(Ns,Pi,Ht,'total head developed by the pump,power input to the pump,specific speed of pump in r.p.m')"
   ]
   }
,
{
		   "cell_type": "markdown",
		   "metadata": {},
		   "source": [
			"## Example 10.3: num.sce"
		   ]
		  },
  {
"cell_type": "code",
	   "execution_count": null,
	   "metadata": {
	    "collapsed": true
	   },
	   "outputs": [],
"source": [
"// problem 10.3\n",
"d2=0.6\n",
"Q=20/60\n",
"N=1400/60\n",
"V1=2.8\n",
"g=9.81\n",
"y2=30\n",
"w=9810\n",
"Vf1=V1\n",
"Vf2=V1\n",
"u2=3.142*d2*N\n",
"x=Vf2/tand(y2)\n",
"Vw2=u2-x\n",
"Hm=Vw2*u2/g\n",
"P=(w*Q*Hm)/1000\n",
"disp(P,Hm,'head developed, pump power')"
   ]
   }
,
{
		   "cell_type": "markdown",
		   "metadata": {},
		   "source": [
			"## Example 10.4: num.sce"
		   ]
		  },
  {
"cell_type": "code",
	   "execution_count": null,
	   "metadata": {
	    "collapsed": true
	   },
	   "outputs": [],
"source": [
"// problem 10.4\n",
"N=1450/60\n",
"N1=1650/60\n",
"H=12\n",
"P=6\n",
"H1=H*((N1/N)^2)\n",
"P1=P*((N1/N)^3)\n",
"disp(P1,H1,'head developed and power required if pump runs at 1650 r.p.m')"
   ]
   }
,
{
		   "cell_type": "markdown",
		   "metadata": {},
		   "source": [
			"## Example 10.5: num.sce"
		   ]
		  },
  {
"cell_type": "code",
	   "execution_count": null,
	   "metadata": {
	    "collapsed": true
	   },
	   "outputs": [],
"source": [
"// problem 10.5\n",
"Q=0.03\n",
"Hs=18\n",
"d=0.1\n",
"l=90\n",
"n=0.8\n",
"w=9810\n",
"a=3.142*d*d/4\n",
"f=0.04\n",
"g=9.81\n",
"Vd=Q/a\n",
"H1=(4*f*l*Vd*Vd)/(d*2*g)+(Vd*Vd/(2*g))\n",
"Hm=Hs+H1\n",
"P=(w*Q*Hm)/(n*1000)\n",
"disp(P,'power required to drive the pump')"
   ]
   }
,
{
		   "cell_type": "markdown",
		   "metadata": {},
		   "source": [
			"## Example 10.6: num.sce"
		   ]
		  },
  {
"cell_type": "code",
	   "execution_count": null,
	   "metadata": {
	    "collapsed": true
	   },
	   "outputs": [],
"source": [
"// problem 10.6\n",
"Q=0.04\n",
"Hm=30\n",
"n=0.75\n",
"w=9810\n",
"p=w*Q*Hm/1000\n",
"P=p/n\n",
"disp(P,p,'output power of the pump,power required to drive the motor')"
   ]
   }
,
{
		   "cell_type": "markdown",
		   "metadata": {},
		   "source": [
			"## Example 10.7: num.sce"
		   ]
		  },
  {
"cell_type": "code",
	   "execution_count": null,
	   "metadata": {
	    "collapsed": true
	   },
	   "outputs": [],
"source": [
"// problem 10.7\n",
"Q=1.8/60\n",
"d=0.1\n",
"n=0.72\n",
"Hs=20\n",
"w=9810\n",
"Hl=8\n",
"Hm=Hs+Hl\n",
"p=(w*Hm*Q)/1000\n",
"P=p/n\n",
"disp(P,p,'water power required to the pump,power required to run the pump')"
   ]
   }
,
{
		   "cell_type": "markdown",
		   "metadata": {},
		   "source": [
			"## Example 10.8: num.sce"
		   ]
		  },
  {
"cell_type": "code",
	   "execution_count": null,
	   "metadata": {
	    "collapsed": true
	   },
	   "outputs": [],
"source": [
"// problem 10.8\n",
"d2=0.6\n",
"Q=15/60\n",
"N=1450/60\n",
"V1=2.6\n",
"g=9.81\n",
"y2=30\n",
"w=9810\n",
"Vf1=V1\n",
"Vf2=V1\n",
"u2=3.142*d2*N\n",
"x=Vf2/tand(y2)\n",
"Vw2=u2-x\n",
"Hm=Vw2*u2/g\n",
"P=(w*Q*Hm)/1000\n",
"disp(P,Hm,'head developed, pump power')"
   ]
   }
,
{
		   "cell_type": "markdown",
		   "metadata": {},
		   "source": [
			"## Example 10.9: num.sce"
		   ]
		  },
  {
"cell_type": "code",
	   "execution_count": null,
	   "metadata": {
	    "collapsed": true
	   },
	   "outputs": [],
"source": [
"// problem 10.9\n",
"Q=0.05\n",
"p=392.4*1000\n",
"n=0.65\n",
"s=0.8\n",
"w1=9810\n",
"Hw=p/w1\n",
"Hoil=p/(w1*s)\n",
"Pw=(w1*Q*Hw)/(n*1000)\n",
"Poil=(w1*s*Q*Hoil)/(n*1000)\n",
"disp(Pw,Poil,'power in Kw to drive the pump with water and oil of s,p=0.8')"
   ]
   }
],
"metadata": {
		  "kernelspec": {
		   "display_name": "Scilab",
		   "language": "scilab",
		   "name": "scilab"
		  },
		  "language_info": {
		   "file_extension": ".sce",
		   "help_links": [
			{
			 "text": "MetaKernel Magics",
			 "url": "https://github.com/calysto/metakernel/blob/master/metakernel/magics/README.md"
			}
		   ],
		   "mimetype": "text/x-octave",
		   "name": "scilab",
		   "version": "0.7.1"
		  }
		 },
		 "nbformat": 4,
		 "nbformat_minor": 0
}
