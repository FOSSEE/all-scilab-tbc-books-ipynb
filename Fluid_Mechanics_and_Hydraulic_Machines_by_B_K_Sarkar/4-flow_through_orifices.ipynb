{
"cells": [
 {
		   "cell_type": "markdown",
	   "metadata": {},
	   "source": [
       "# Chapter 4: flow through orifices"
	   ]
	},
{
		   "cell_type": "markdown",
		   "metadata": {},
		   "source": [
			"## Example 4.10: num.sce"
		   ]
		  },
  {
"cell_type": "code",
	   "execution_count": null,
	   "metadata": {
	    "collapsed": true
	   },
	   "outputs": [],
"source": [
"// problem 4.10\n",
"r=5\n",
"h1=5\n",
"d=0.08\n",
"a=0.005\n",
"h2=h1-2\n",
"Cd=0.6\n",
"g=9.81\n",
"z=((2*r*((h1^1.5)-(h2^1.5)))/3)-((((h1^2.5)-(h2^2.5)))/5)\n",
"T=(z*2*3.142)/(Cd*a*((2*g)^0.5))\n",
"disp(T,'time in seconds to lower the level by 2m')"
   ]
   }
,
{
		   "cell_type": "markdown",
		   "metadata": {},
		   "source": [
			"## Example 4.2: num.sce"
		   ]
		  },
  {
"cell_type": "code",
	   "execution_count": null,
	   "metadata": {
	    "collapsed": true
	   },
	   "outputs": [],
"source": [
"// problem 4.2\n",
"q=0.0982\n",
"d=0.12\n",
"H=10\n",
"x=4.5\n",
"y=0.54\n",
"g=9.81\n",
"Vth=(2*g*H)^0.5\n",
"a=3.142*d*d/4\n",
"Qth=Vth*a\n",
"Cd=q/Qth\n",
"Cv=((x*x)/(4*y*H))^0.5\n",
"Cc=Cd/Cv\n",
"disp(Cc,Cv,Cd,'Cd ,Cv, Cc  of the orifice')"
   ]
   }
,
{
		   "cell_type": "markdown",
		   "metadata": {},
		   "source": [
			"## Example 4.3: num.sce"
		   ]
		  },
  {
"cell_type": "code",
	   "execution_count": null,
	   "metadata": {
	    "collapsed": true
	   },
	   "outputs": [],
"source": [
"// problem 4.3\n",
"D=0.1\n",
"d=0.05\n",
"q=0.02\n",
"A=3.142*D*D/4\n",
"g=9.81\n",
"w=9810\n",
"p=58.86*1000\n",
"v=q/A\n",
"Vh=(v*v)/(2*g)\n",
"Ph=p/w\n",
"Th=Ph+Vh\n",
"a=3.142*d*d/4\n",
"Cd=q/(a*((2*g*Th)^0.5))\n",
"disp(Cd,'co-efficient of discharge')\n",
""
   ]
   }
,
{
		   "cell_type": "markdown",
		   "metadata": {},
		   "source": [
			"## Example 4.4: num.sce"
		   ]
		  },
  {
"cell_type": "code",
	   "execution_count": null,
	   "metadata": {
	    "collapsed": true
	   },
	   "outputs": [],
"source": [
"// problem 4.4\n",
"Cd=0.6\n",
"H1=3\n",
"H2=4\n",
"b=2\n",
"g=9.81\n",
"Q=(2*Cd*b*((2*g)^0.5)*((H2*H2*H2)^0.5-(H1*H1*H1)^0.5))/3\n",
"q1=Q*1000\n",
"disp(q1,'dischsrge flow rate in litres/sec')"
   ]
   }
,
{
		   "cell_type": "markdown",
		   "metadata": {},
		   "source": [
			"## Example 4.5: num.sce"
		   ]
		  },
  {
"cell_type": "code",
	   "execution_count": null,
	   "metadata": {
	    "collapsed": true
	   },
	   "outputs": [],
"source": [
"//problem 4.5\n",
"b=0.75\n",
"H1=2.25\n",
"H2=2.5\n",
"H=0.5\n",
"g=9.81\n",
"Cd=0.62\n",
"Q=Cd*b*(H2-H1)*((2*g*H)^0.5)\n",
"Q1=Q*1000\n",
"disp(Q1,'discherge through the orifice in litres/sec')"
   ]
   }
,
{
		   "cell_type": "markdown",
		   "metadata": {},
		   "source": [
			"## Example 4.6: num.sce"
		   ]
		  },
  {
"cell_type": "code",
	   "execution_count": null,
	   "metadata": {
	    "collapsed": true
	   },
	   "outputs": [],
"source": [
"// problem 4.6\n",
"b=2\n",
"d=3\n",
"H1=4\n",
"H2=7\n",
"H=0.8+H1\n",
"Cd=0.62\n",
"g=9.81\n",
"Q1=(2*Cd*b*((2*g)^0.5)*((H*H*H)^0.5-(H1*H1*H1)^0.5))/3\n",
"Q2=Cd*b*(H2-H)*((2*g*H)^0.5)\n",
"Q=Q1+Q2\n",
"q=Q*1000\n",
"disp(q,'Discharge in litres/sec')"
   ]
   }
,
{
		   "cell_type": "markdown",
		   "metadata": {},
		   "source": [
			"## Example 4.7: num.sce"
		   ]
		  },
  {
"cell_type": "code",
	   "execution_count": null,
	   "metadata": {
	    "collapsed": true
	   },
	   "outputs": [],
"source": [
"// problem 4.7\n",
"l=20\n",
"b=10\n",
"a=l*b\n",
"H1=1.5\n",
"Cd=0.62\n",
"H2=0\n",
"T=5*60\n",
"n=4\n",
"g=9.81\n",
"a1=(2*a*((H1^0.5)-(H2^0.5)))/(Cd*T*((2*g)^0.5))\n",
"d=((4*a1)/(3.142*n))^0.5\n",
"d1=d*100\n",
"disp(d1,'diameter of the orifice in cm')"
   ]
   }
,
{
		   "cell_type": "markdown",
		   "metadata": {},
		   "source": [
			"## Example 4.8: num.sce"
		   ]
		  },
  {
"cell_type": "code",
	   "execution_count": null,
	   "metadata": {
	    "collapsed": true
	   },
	   "outputs": [],
"source": [
"// problem 4.8\n",
"l1=10\n",
"b1=5\n",
"l2=5\n",
"b2=2.5\n",
"a1=l1*b1\n",
"a2=l2*b2\n",
"d=0.2\n",
"a=3.142*d*d/4\n",
"H1=4\n",
"g=9.81\n",
"q=25\n",
"Cd=0.62\n",
"h1=q/a1\n",
"h2=q/a2\n",
"H2=H1-h1-h2\n",
"T=(2*a1*a2*((H1)^0.5-(H2)^0.5))/(a*Cd*(a1+a2)*((2*g)^0.5))\n",
"disp(T,'time taken to flow 25 m3 in sec')"
   ]
   }
,
{
		   "cell_type": "markdown",
		   "metadata": {},
		   "source": [
			"## Example 4.9: num.sce"
		   ]
		  },
  {
"cell_type": "code",
	   "execution_count": null,
	   "metadata": {
	    "collapsed": true
	   },
	   "outputs": [],
"source": [
"// problem 4.9\n",
"Cd=0.8\n",
"D=2\n",
"r=1\n",
"H1=2\n",
"d=0.1\n",
"a=3.142*d*d/4\n",
"l=8\n",
"g=9.81\n",
"T=(4*l*((2*r)^1.5-(2*r-H1)^1.5))/(3*Cd*a*((2*g)^0.5))\n",
"disp(T/60,'time taken for emptying the boiler in min')"
   ]
   }
],
"metadata": {
		  "kernelspec": {
		   "display_name": "Scilab",
		   "language": "scilab",
		   "name": "scilab"
		  },
		  "language_info": {
		   "file_extension": ".sce",
		   "help_links": [
			{
			 "text": "MetaKernel Magics",
			 "url": "https://github.com/calysto/metakernel/blob/master/metakernel/magics/README.md"
			}
		   ],
		   "mimetype": "text/x-octave",
		   "name": "scilab",
		   "version": "0.7.1"
		  }
		 },
		 "nbformat": 4,
		 "nbformat_minor": 0
}
