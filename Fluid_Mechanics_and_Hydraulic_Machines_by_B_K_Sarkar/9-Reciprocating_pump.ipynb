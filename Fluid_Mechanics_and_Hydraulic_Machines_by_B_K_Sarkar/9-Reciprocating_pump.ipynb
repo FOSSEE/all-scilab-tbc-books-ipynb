{
"cells": [
 {
		   "cell_type": "markdown",
	   "metadata": {},
	   "source": [
       "# Chapter 9: Reciprocating pump"
	   ]
	},
{
		   "cell_type": "markdown",
		   "metadata": {},
		   "source": [
			"## Example 9.1: num.sce"
		   ]
		  },
  {
"cell_type": "code",
	   "execution_count": null,
	   "metadata": {
	    "collapsed": true
	   },
	   "outputs": [],
"source": [
"// problem 9.1\n",
"D=0.15\n",
"s=0.25\n",
"N=50\n",
"Hs=5\n",
"Hd=5\n",
"n1=0.6\n",
"n2=0.78\n",
"g=9.81\n",
"w=g*1000\n",
"a=3.142*D*D/4\n",
"Fs=(w*a*Hs)/n1\n",
"Fd=(w*a*Hd)/n2\n",
"P=((Fs+Fd)*s*N)/(1000*60)\n",
"disp(P,'power required by the pump in Kw')"
   ]
   }
,
{
		   "cell_type": "markdown",
		   "metadata": {},
		   "source": [
			"## Example 9.2: num.sce"
		   ]
		  },
  {
"cell_type": "code",
	   "execution_count": null,
	   "metadata": {
	    "collapsed": true
	   },
	   "outputs": [],
"source": [
"// problem 9.2\n",
"D=0.18\n",
"s=0.36\n",
"Hs=3\n",
"Hd=45\n",
"N=50\n",
"n=0.85\n",
"a=3.142*D*D/4\n",
"Q=(2*a*s*N)/60\n",
"g=9.81\n",
"w=g*1000\n",
"P=w*Q*(Hs+Hd)/(n*1000)\n",
"disp(P,'power in kw required to drive the pump')"
   ]
   }
,
{
		   "cell_type": "markdown",
		   "metadata": {},
		   "source": [
			"## Example 9.3: num.sce"
		   ]
		  },
  {
"cell_type": "code",
	   "execution_count": null,
	   "metadata": {
	    "collapsed": true
	   },
	   "outputs": [],
"source": [
"// problem 9.3\n",
"D=0.15\n",
"s=0.3\n",
"Hs=3\n",
"Hd=30\n",
"n=0.8\n",
"a=3.142*D*D/4\n",
"N=60/60\n",
"w=9810\n",
"Q=0.62/60\n",
"Qth=(2*a*s*N)\n",
"slip=(Qth-Q)/Qth\n",
"power=(w*Qth*(Hs+Hd))/(1000*n)\n",
"disp(slip*100,power,'power in Kw required to drive the pump,percentage slip')"
   ]
   }
,
{
		   "cell_type": "markdown",
		   "metadata": {},
		   "source": [
			"## Example 9.4: num.sce"
		   ]
		  },
  {
"cell_type": "code",
	   "execution_count": null,
	   "metadata": {
	    "collapsed": true
	   },
	   "outputs": [],
"source": [
"// problem 9.4\n",
"D=0.15\n",
"s=0.3\n",
"N=50/60\n",
"H=25\n",
"Qact=0.0042\n",
"Ld=22\n",
"d=0.1\n",
"a=3.142*D*D/4\n",
"Qth=a*s*N\n",
"w=9810\n",
"power=w*Qth*H/1000\n",
"slip=(Qth-Qact)/Qth\n",
"W=2*3.142*N\n",
"a1=3.142*d*d/4\n",
"g=9.81\n",
"Had=(Ld*a*W*W*s)/(g*a1*2)\n",
"disp(Had,slip*100,power,Qth,'theoritical discharge,theoritical power,percentage slip,acceleration head')"
   ]
   }
,
{
		   "cell_type": "markdown",
		   "metadata": {},
		   "source": [
			"## Example 9.5: num.sce"
		   ]
		  },
  {
"cell_type": "code",
	   "execution_count": null,
	   "metadata": {
	    "collapsed": true
	   },
	   "outputs": [],
"source": [
"// problem 9.5\n",
"s=0.15\n",
"Ls=7\n",
"ds=0.075\n",
"N=75/60\n",
"Hs=2.5\n",
"z=16/9\n",
"f=0.01\n",
"W=2*3.142*N\n",
"g=9.81\n",
"Has=Ls*z*W*W*ds/g\n",
"H=Hs+Has\n",
"H1=Has-Hs\n",
"Hfs=(4*f*Ls/(ds*2*g))*((z*W*ds)^2)\n",
"H2=Hfs+Hs\n",
"disp(H2,H1,H,'pressure head:beginningof suction stroke,end of the suction stroke,middle of the suction stroke')"
   ]
   }
,
{
		   "cell_type": "markdown",
		   "metadata": {},
		   "source": [
			"## Example 9.6: num.sce"
		   ]
		  },
  {
"cell_type": "code",
	   "execution_count": null,
	   "metadata": {
	    "collapsed": true
	   },
	   "outputs": [],
"source": [
"// problem 9.6\n",
"D=0.08\n",
"s=0.15\n",
"Hs=3\n",
"ds=0.03\n",
"g=9.81\n",
"Ls=4.5\n",
"p=78.86*(1000)\n",
"w=9810\n",
"W=2*3.142/60\n",
"z=(D/ds)^2\n",
"Hsep=p/w\n",
"Habs=10.3-Hsep\n",
"Has=Hsep-Hs\n",
"N=((Has*g*2)/(z*W*W*s*Ls))^0.5\n",
"disp(N,'maximium speed in rpm at which may run without separation')"
   ]
   }
,
{
		   "cell_type": "markdown",
		   "metadata": {},
		   "source": [
			"## Example 9.7: num.sce"
		   ]
		  },
  {
"cell_type": "code",
	   "execution_count": null,
	   "metadata": {
	    "collapsed": true
	   },
	   "outputs": [],
"source": [
"// problem 9.7\n",
"Hs=5\n",
"Ls=10\n",
"D=0.15\n",
"d=0.1\n",
"N=30/60\n",
"s=0.15\n",
"g=9.81\n",
"W=2*3.142*N\n",
"w=9810\n",
"ha=10.3\n",
"z=(D/d)^2\n",
"H=(Ls*z*W*W*s/g)\n",
"Ph=Hs+H\n",
"Phabs=ha-Ph\n",
"f=0.01\n",
"Hfs=(4*f*Ls/(d*2*g))*((z*W*s)^2)\n",
"H1=Hs+Hfs\n",
"H1abs=ha-H1\n",
"H2=Hs-H\n",
"H2abs=ha-H2\n",
"Hd=15\n",
"Ld=25\n",
"H11=(Ld*z*W*W*s/g)\n",
"H12=H11+Hd\n",
"H12abs=ha+H12\n",
"Hfd=(4*f*Ld/(d*2*g))*((z*W*s)^2)\n",
"H22=Hd+Hfd\n",
"H22abs=ha+H22\n",
"H3=Hd-H11\n",
"H3abs=ha+H3\n",
"a=3.142*D*D/4\n",
"Q=a*s*2*N\n",
"power=(w*Q*(Hs+Hd+(0.6666*Hfs)+Hfd*0.6666))/1000\n",
"disp(H2abs,H1abs,'pressure head at middle and end of suction stroke')\n",
"disp(H3abs,H22abs,H12abs,'pressure head at beginning,middle,end of suction stroke')\n",
"disp(power,'power in Kw required to drive the pump')"
   ]
   }
],
"metadata": {
		  "kernelspec": {
		   "display_name": "Scilab",
		   "language": "scilab",
		   "name": "scilab"
		  },
		  "language_info": {
		   "file_extension": ".sce",
		   "help_links": [
			{
			 "text": "MetaKernel Magics",
			 "url": "https://github.com/calysto/metakernel/blob/master/metakernel/magics/README.md"
			}
		   ],
		   "mimetype": "text/x-octave",
		   "name": "scilab",
		   "version": "0.7.1"
		  }
		 },
		 "nbformat": 4,
		 "nbformat_minor": 0
}
