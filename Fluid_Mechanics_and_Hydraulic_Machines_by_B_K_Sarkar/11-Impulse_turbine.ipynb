{
"cells": [
 {
		   "cell_type": "markdown",
	   "metadata": {},
	   "source": [
       "# Chapter 11: Impulse turbine"
	   ]
	},
{
		   "cell_type": "markdown",
		   "metadata": {},
		   "source": [
			"## Example 11.1: num.sce"
		   ]
		  },
  {
"cell_type": "code",
	   "execution_count": null,
	   "metadata": {
	    "collapsed": true
	   },
	   "outputs": [],
"source": [
"// problem 11.1\n",
"P=8820*1000\n",
"N=600/60\n",
"H=500\n",
"Cv=0.97\n",
"Cu=0.46\n",
"no=0.85\n",
"w=9810\n",
"g=9.81\n",
"Q=P/(no*w*H)\n",
"V1=Cv*((2*g*H)^0.5)\n",
"u=Cu*V1\n",
"D=u/(3.142*N)\n",
"d=D/15\n",
"a=3.142*d*d/4\n",
"n=Q/(a*V1)\n",
"n1=round(n+1)\n",
"disp(n1,d*100,D,Q,'discharge in m3/sec,wheel diameter in m, jet diameter in cm, number os jets ')"
   ]
   }
,
{
		   "cell_type": "markdown",
		   "metadata": {},
		   "source": [
			"## Example 11.2: num.sce"
		   ]
		  },
  {
"cell_type": "code",
	   "execution_count": null,
	   "metadata": {
	    "collapsed": true
	   },
	   "outputs": [],
"source": [
"// problem 11.2\n",
"H=46\n",
"Q=1\n",
"u1=15\n",
"y=165\n",
"y2=180-y\n",
"Cv=0.975\n",
"g=9.81\n",
"V1=((2*g*H)^0.5)\n",
"Vw1=V1\n",
"Vr1=V1-u1\n",
"Vr2=Vr1\n",
"Vw2=(Vr2*(cosd(y2)))-u1\n",
"w=9810\n",
"P=(w*Q*(Vw1+Vw2)*u1)/(g*1000)\n",
"n=P*1000/(w*Q*H)\n",
"disp(n*100,P,'power developed in Kw and efficiency of the wheel')"
   ]
   }
,
{
		   "cell_type": "markdown",
		   "metadata": {},
		   "source": [
			"## Example 11.3: num.sce"
		   ]
		  },
  {
"cell_type": "code",
	   "execution_count": null,
	   "metadata": {
	    "collapsed": true
	   },
	   "outputs": [],
"source": [
"// problem 11.3\n",
"H=340\n",
"P=4410*1000\n",
"N=500/60\n",
"Cv=0.97\n",
"no=0.86\n",
"w=9810\n",
"g=9.81\n",
"Q=P/(w*H*no)\n",
"V1=Cv*(sqrt(2*g*H))\n",
"u=0.45*V1\n",
"D=u/(3.142*N)\n",
"a=Q/V1\n",
"disp(a,D,'mean diameter in m,jet area in m2')"
   ]
   }
,
{
		   "cell_type": "markdown",
		   "metadata": {},
		   "source": [
			"## Example 11.4: num.sce"
		   ]
		  },
  {
"cell_type": "code",
	   "execution_count": null,
	   "metadata": {
	    "collapsed": true
	   },
	   "outputs": [],
"source": [
"// problem 11.4\n",
"H=45\n",
"Q=50/60\n",
"u1=12.5\n",
"y=160\n",
"y2=180-y\n",
"Cv=0.97\n",
"g=9.81\n",
"V1=Cv*((2*g*H)^0.5)\n",
"Vw1=V1\n",
"Vr1=V1-u1\n",
"Vr2=Vr1\n",
"Vw2=Vr2*(cosd(y2))-u1\n",
"w=9810\n",
"P=(w*Q*(Vw1+Vw2)*u1)/(g*1000)\n",
"nh=(2*u1*(Vw1+Vw2))/(V1*V1)\n",
"disp(nh*100,P,'power developed in Kw and hydraulic efficiency')\n",
"H1=50\n",
"V11=Cv*((2*g*H1)^0.5)\n",
"Vw11=V11\n",
"Vr11=V11-u1\n",
"Vr21=Vr11\n",
"Vw21=Vr21*(cosd(y2))-u1\n",
"w=9810\n",
"P=(w*Q*(Vw11+Vw21)*u1)/(g*1000)\n",
"disp(P,'Power developed in Kw if head is increased to 50')"
   ]
   }
,
{
		   "cell_type": "markdown",
		   "metadata": {},
		   "source": [
			"## Example 11.5: num.sce"
		   ]
		  },
  {
"cell_type": "code",
	   "execution_count": null,
	   "metadata": {
	    "collapsed": true
	   },
	   "outputs": [],
"source": [
"// problem 11.5\n",
"H=50\n",
"Q=1.2\n",
"u1=18\n",
"y=160\n",
"y2=180-y\n",
"Cv=0.94\n",
"g=9.81\n",
"V1=Cv*((2*g*H)^0.5)\n",
"Vw1=V1\n",
"Vr1=V1-u1\n",
"Vr2=Vr1\n",
"Vw2=Vr2*(cosd(y2))-u1\n",
"w=9810\n",
"P=(w*Q*(Vw1+Vw2)*u1)/(g*1000)\n",
"n=P*1000/(w*Q*H)\n",
"disp(n*100,P,'power developed in Kw and efficiency of the wheel')"
   ]
   }
,
{
		   "cell_type": "markdown",
		   "metadata": {},
		   "source": [
			"## Example 11.6: num.sce"
		   ]
		  },
  {
"cell_type": "code",
	   "execution_count": null,
	   "metadata": {
	    "collapsed": true
	   },
	   "outputs": [],
"source": [
"// problem 11.6\n",
"D=1\n",
"N=1000/60\n",
"H=700\n",
"y=165\n",
"y2=180-y\n",
"Q=0.1\n",
"Cv=0.97\n",
"g=9.81\n",
"u=D*3.142*N\n",
"V1=Cv*(sqrt(2*g*H))\n",
"nh=(2*u*(V1-u)*(1+(cosd(y2))))/(V1*V1)\n",
"disp(nh*100,'hydraulic efficiency of the wheel')"
   ]
   }
,
{
		   "cell_type": "markdown",
		   "metadata": {},
		   "source": [
			"## Example 11.7: num.sce"
		   ]
		  },
  {
"cell_type": "code",
	   "execution_count": null,
	   "metadata": {
	    "collapsed": true
	   },
	   "outputs": [],
"source": [
"// problem 11.7\n",
"Hg=500\n",
"hf=Hg/3\n",
"H=Hg-hf\n",
"Q=2\n",
"y=165\n",
"y2=180-y\n",
"g=9.81\n",
"w=9810\n",
"Cv=1\n",
"V1=Cv*(sqrt(2*g*H))\n",
"u=0.45*V1\n",
"Vr1=V1-u\n",
"Vw1=V1\n",
"Vr2=Vr1\n",
"Vw2=(Vr2*(cosd(y2)))-u\n",
"W=w*Q*(Vw1+Vw2)*u/g\n",
"P=W/1000\n",
"nh=2*u*(Vw1+Vw2)/(V1*V1)\n",
"disp(nh*100,P,'power given by the water to the runner in Kw,Hydraulic efficiency')"
   ]
   }
,
{
		   "cell_type": "markdown",
		   "metadata": {},
		   "source": [
			"## Example 11.8: num.sce"
		   ]
		  },
  {
"cell_type": "code",
	   "execution_count": null,
	   "metadata": {
	    "collapsed": true
	   },
	   "outputs": [],
"source": [
"// problem 11.8\n",
"L=1600\n",
"H=550\n",
"Dp=1.2\n",
"d=0.18\n",
"f=0.006\n",
"Cv=0.97\n",
"g=9.81\n",
"V1=Cv*(sqrt(2*g*H))\n",
"a=3.142*d*d/4\n",
"Q=a*V1\n",
"w=9810\n",
"P=(w*Q*V1*V1)/(2*g*1000)\n",
"ap=3.142*Dp*Dp/4\n",
"Vp=Q/ap\n",
"Hf=(4*f*L*Vp*Vp)/(Dp*2*g)\n",
"Tp=4*w*Q*(H+Hf)/1000\n",
"disp(Tp,P,'power to each jet in Kw,total power at reserviour i Kw')"
   ]
   }
,
{
		   "cell_type": "markdown",
		   "metadata": {},
		   "source": [
			"## Example 11.9: num.sce"
		   ]
		  },
  {
"cell_type": "code",
	   "execution_count": null,
	   "metadata": {
	    "collapsed": true
	   },
	   "outputs": [],
"source": [
"// problem 11.9\n",
"Q=4\n",
"H=250\n",
"L=3000\n",
"n1=4\n",
"n=0.91\n",
"nh=0.9\n",
"Cv=0.975\n",
"f4=0.0045\n",
"hf=H-H*n\n",
"Hn=H-hf\n",
"g=9.81\n",
"w=9810\n",
"V1=Cv*(sqrt(2*g*Hn))\n",
"Pw=w*Q*V1*V1/(2*g*1000)\n",
"Pt=nh*Pw\n",
"q=Q/n1\n",
"d=sqrt(4*q/(3.142*V1))\n",
"D=((f4*L*16*16)/(2*g*3.142*3.142*hf))^0.2\n",
"disp(D,d,Pt,'power developed by turbine in Kw,diameter jet and diameter of pipeline')"
   ]
   }
],
"metadata": {
		  "kernelspec": {
		   "display_name": "Scilab",
		   "language": "scilab",
		   "name": "scilab"
		  },
		  "language_info": {
		   "file_extension": ".sce",
		   "help_links": [
			{
			 "text": "MetaKernel Magics",
			 "url": "https://github.com/calysto/metakernel/blob/master/metakernel/magics/README.md"
			}
		   ],
		   "mimetype": "text/x-octave",
		   "name": "scilab",
		   "version": "0.7.1"
		  }
		 },
		 "nbformat": 4,
		 "nbformat_minor": 0
}
