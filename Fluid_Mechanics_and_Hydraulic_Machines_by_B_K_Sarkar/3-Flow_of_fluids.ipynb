{
"cells": [
 {
		   "cell_type": "markdown",
	   "metadata": {},
	   "source": [
       "# Chapter 3: Flow of fluids"
	   ]
	},
{
		   "cell_type": "markdown",
		   "metadata": {},
		   "source": [
			"## Example 3.10: num.sce"
		   ]
		  },
  {
"cell_type": "code",
	   "execution_count": null,
	   "metadata": {
	    "collapsed": true
	   },
	   "outputs": [],
"source": [
"// problem 3.10\n",
"H=0.1\n",
"w=9810\n",
"sw=12\n",
"h=H*(w/sw)\n",
"Cv=0.96\n",
"g=9.81\n",
"v=Cv*((2*g*h)^0.5)\n",
"v1=v*18/5\n",
"disp(v1,'speed of the plane')"
   ]
   }
,
{
		   "cell_type": "markdown",
		   "metadata": {},
		   "source": [
			"## Example 3.11: num.sce"
		   ]
		  },
  {
"cell_type": "code",
	   "execution_count": null,
	   "metadata": {
	    "collapsed": true
	   },
	   "outputs": [],
"source": [
"// problem 3.11\n",
"d1=0.05\n",
"d2=0.025\n",
"a1=3.142*d1*d1/4\n",
"a2=3.142*d2*d2/4\n",
"Cd=0.94\n",
"g=9.81\n",
"k=((((a1^2)/(a2^2))-1)*(1-(Cd^2)))/(2*g*(a1^2)*(Cd^2))\n",
"disp(k,'venturimeter constant m-5/s2')"
   ]
   }
,
{
		   "cell_type": "markdown",
		   "metadata": {},
		   "source": [
			"## Example 3.12: num.sce"
		   ]
		  },
  {
"cell_type": "code",
	   "execution_count": null,
	   "metadata": {
	    "collapsed": true
	   },
	   "outputs": [],
"source": [
"// problem 3.12\n",
"d0=0.05\n",
"d1=0.1\n",
"H=0.09\n",
"s2=13.6\n",
"s1=1\n",
"g=9.81\n",
"h=H*((s2/s1)-1)\n",
"Cd=0.65\n",
"a1=3.142*d1*d1/4\n",
"a0=3.142*d0*d0/4\n",
"q=(Cd*a1*a0*((2*g*h)^0.5))/(((a1^2)-(a0^2))^0.5)\n",
"q1=q*(10^6)\n",
"disp(q1,'actual flow rate in cm3/sec')"
   ]
   }
,
{
		   "cell_type": "markdown",
		   "metadata": {},
		   "source": [
			"## Example 3.1: num.sce"
		   ]
		  },
  {
"cell_type": "code",
	   "execution_count": null,
	   "metadata": {
	    "collapsed": true
	   },
	   "outputs": [],
"source": [
"// problem 3.1\n",
"d1=0.3\n",
"d2=0.1\n",
"z1=6\n",
"z2=3\n",
"p1=200*1000\n",
"q1=0.07\n",
"a1=3.142*d1*d1/4\n",
"a2=3.142*d2*d2/4\n",
"v1=q1/a1\n",
"v2=q1/a2\n",
"w=9810\n",
"g=9.81\n",
"//applying bernoulli equation\n",
"p2=((z1-z2)+(((v1^2)-(v2^2))/(2*g))+(p1/w))*w\n",
"disp(p2,'pressure at point B in N/m2')"
   ]
   }
,
{
		   "cell_type": "markdown",
		   "metadata": {},
		   "source": [
			"## Example 3.2: num.sce"
		   ]
		  },
  {
"cell_type": "code",
	   "execution_count": null,
	   "metadata": {
	    "collapsed": true
	   },
	   "outputs": [],
"source": [
"// problem 3.2\n",
"d1=1\n",
"d2=0.5\n",
"q=0.1\n",
"p1=70*1000\n",
"l=60\n",
"z2=0\n",
"z1=l/20\n",
"a1=3.142*d1*d1/4\n",
"a2=3.142*d2*d2/4\n",
"v1=q/a1\n",
"v2=q/a2\n",
"w=9810\n",
"g=9.91\n",
"// applying bernoulli equation\n",
"p2=((z1-z2)+(((v1^2)-(v2^2))/(2*g))+(p1/w))*w\n",
"disp(p2,'presssure at lower end in N/m2')"
   ]
   }
,
{
		   "cell_type": "markdown",
		   "metadata": {},
		   "source": [
			"## Example 3.3: num.sce"
		   ]
		  },
  {
"cell_type": "code",
	   "execution_count": null,
	   "metadata": {
	    "collapsed": true
	   },
	   "outputs": [],
"source": [
"// problem 3.3\n",
"d1=0.2\n",
"d2=0.1\n",
"l=4\n",
"x=30\n",
"p1=392.4*1000\n",
"q=0.035\n",
"z1=0\n",
"z2=l*sind(x)\n",
"a1=3.142*d1*d1/4\n",
"a2=3.142*d2*d2/4\n",
"v1=q/a1\n",
"v2=q/a2\n",
"w=9810\n",
"g=9.81\n",
"p2=((z1-z2)+(((v1^2)-(v2^2))/(2*g))+(p1/w))*w\n",
"disp(p2,'pressure intensity at outlet in N/m2')"
   ]
   }
,
{
		   "cell_type": "markdown",
		   "metadata": {},
		   "source": [
			"## Example 3.4: num.sce"
		   ]
		  },
  {
"cell_type": "code",
	   "execution_count": null,
	   "metadata": {
	    "collapsed": true
	   },
	   "outputs": [],
"source": [
"// problem 3.4\n",
"d1=0.2\n",
"d2=0.1\n",
"d3=0.15\n",
"v1=4\n",
"g=9.81\n",
"vh1=(v1^2)/(2*g)\n",
"a1=3.142*d1*d1/4\n",
"a2=3.142*d2*d2/4\n",
"a3=3.142*d3*d3/4\n",
"v2=(a1*v1)/a2\n",
"vh2=(v2^2)/(2*g)\n",
"v3=(a1*v1)/a3\n",
"vh3=(v3^2)/(2*g)\n",
"q=a1*v1\n",
"mf=q*1000\n",
"disp(vh1,'velocity head at point 1')\n",
"disp(vh2,'velocity head at point 2')\n",
"disp(vh3,'velocity head at point 3')\n",
"disp(mf,'mass flow rate in kg/sec')"
   ]
   }
,
{
		   "cell_type": "markdown",
		   "metadata": {},
		   "source": [
			"## Example 3.5: num.sce"
		   ]
		  },
  {
"cell_type": "code",
	   "execution_count": null,
	   "metadata": {
	    "collapsed": true
	   },
	   "outputs": [],
"source": [
"// problem 3.5\n",
"d1=0.2\n",
"d2=0.5\n",
"p1=98.1*1000\n",
"p2=58.86*1000\n",
"q=0.2\n",
"z1=0\n",
"z2=4\n",
"g=9.81\n",
"s=0.87\n",
"a1=3.142*d1*d1/4\n",
"a2=3.142*d2*d2/4\n",
"v1=q/a1\n",
"v2=q/a2\n",
"w=9810\n",
"ph1=p1/(w*s)\n",
"ph2=p2/(w*s)\n",
"vh1=(v1^2)/(2*g)\n",
"vh2=(v2^2)/(2*g)\n",
"th1=vh1+ph1+z1\n",
"th2=vh2+ph2+z2\n",
"tl=th1-th2\n",
"disp(tl,'loss of head in m,flow from 1 to 2')"
   ]
   }
,
{
		   "cell_type": "markdown",
		   "metadata": {},
		   "source": [
			"## Example 3.6: num.sce"
		   ]
		  },
  {
"cell_type": "code",
	   "execution_count": null,
	   "metadata": {
	    "collapsed": true
	   },
	   "outputs": [],
"source": [
"// problem 3.6\n",
"d1=0.3\n",
"d2=0.15\n",
"a1=3.142*d1*d1/4\n",
"a2=3.142*d2*d2/4\n",
"H=0.18\n",
"Cd=0.85\n",
"s2=13.6\n",
"s1=1\n",
"w=9810\n",
"h=H*((s2/s1)-1)\n",
"g=9.81\n",
"q=(Cd*a1*a2*((2*g*h)^0.5))/(((a1^2)-(a2^2))^0.5)\n",
"q1=q*1000\n",
"disp(q1,'rate of flow in litres/sec')\n",
""
   ]
   }
,
{
		   "cell_type": "markdown",
		   "metadata": {},
		   "source": [
			"## Example 3.7: num.sce"
		   ]
		  },
  {
"cell_type": "code",
	   "execution_count": null,
	   "metadata": {
	    "collapsed": true
	   },
	   "outputs": [],
"source": [
"// problem 3.7\n",
"q=0.1\n",
"d1=0.2\n",
"Cd=0.9\n",
"H=0.4\n",
"s1=1\n",
"s2=13.6\n",
"g=9.8\n",
"h=H*((s2/s1)-1)\n",
"a1=3.142*d1*d1/4\n",
"z=1+(((Cd*a1*((2*g*h)^0.5))/q)^2)\n",
"a2=((a1^2)/z)^0.5\n",
"d2=(4*a2/3.1)^0.5\n",
"disp(d2,'diameter of throat in m')"
   ]
   }
,
{
		   "cell_type": "markdown",
		   "metadata": {},
		   "source": [
			"## Example 3.8: num.sce"
		   ]
		  },
  {
"cell_type": "code",
	   "execution_count": null,
	   "metadata": {
	    "collapsed": true
	   },
	   "outputs": [],
"source": [
"// problem 3.8\n",
"q=0.08\n",
"d1=0.3\n",
"d2=0.15\n",
"a1=3.142*d1*d1/4\n",
"a2=3.142*d2*d2/4\n",
"h=1.5\n",
"g=9.81\n",
"z=(a1*a2*((2*g*h)^0.5))/(((a1^2)-(a2^2))^0.5)\n",
"Cd=q/z\n",
"disp(Cd,'co-efficient of meter')"
   ]
   }
,
{
		   "cell_type": "markdown",
		   "metadata": {},
		   "source": [
			"## Example 3.9: num.sce"
		   ]
		  },
  {
"cell_type": "code",
	   "execution_count": null,
	   "metadata": {
	    "collapsed": true
	   },
	   "outputs": [],
"source": [
"// problem 3.9\n",
"s2=13.6\n",
"s1=0.9\n",
"H=0.25\n",
"h=H*((s2/s1)-1)\n",
"Cd=0.98\n",
"w=9810*s1\n",
"d1=0.3\n",
"d2=0.15\n",
"a1=3.142*d1*d1/4\n",
"a2=3.142*d2*d2/4\n",
"dz=0.3\n",
"g=9.81\n",
"q=(Cd*a1*a2*((2*g*h)^0.5))/(((a1^2)-(a2^2))^0.5)\n",
"dp=(h+dz)*w\n",
"disp(q,'discharge of the oil in m3/sec')\n",
"disp(dp,'pressure diffrence in entrance and throat section ')"
   ]
   }
],
"metadata": {
		  "kernelspec": {
		   "display_name": "Scilab",
		   "language": "scilab",
		   "name": "scilab"
		  },
		  "language_info": {
		   "file_extension": ".sce",
		   "help_links": [
			{
			 "text": "MetaKernel Magics",
			 "url": "https://github.com/calysto/metakernel/blob/master/metakernel/magics/README.md"
			}
		   ],
		   "mimetype": "text/x-octave",
		   "name": "scilab",
		   "version": "0.7.1"
		  }
		 },
		 "nbformat": 4,
		 "nbformat_minor": 0
}
