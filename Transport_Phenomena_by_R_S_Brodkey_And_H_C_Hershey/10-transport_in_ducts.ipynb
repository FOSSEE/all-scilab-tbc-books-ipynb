{
"cells": [
 {
		   "cell_type": "markdown",
	   "metadata": {},
	   "source": [
       "# Chapter 10: transport in ducts"
	   ]
	},
{
		   "cell_type": "markdown",
		   "metadata": {},
		   "source": [
			"## Example 10.11: complex_fluid_flow_systems.sce"
		   ]
		  },
  {
"cell_type": "code",
	   "execution_count": null,
	   "metadata": {
	    "collapsed": true
	   },
	   "outputs": [],
"source": [
"clc;\n",
"warning('off');\n",
"printf('\n\n example10.11 - pg 447');\n",
"// given\n",
"sp=1.1;\n",
"p=sp*62.4;  //[lb/ft^3] - density\n",
"mu=2*6.72*10^-4;  //[lb/ft*sec] - viscosity\n",
"Q=400;  //[gpm] - volumetric flow rate\n",
"e=1.5*10^4;  //roughness of steel pipe\n",
"gc=32.174;\n",
"kexit=1;\n",
"kentrance=0.5;\n",
"// 4 in schedule pipe\n",
"d=4.026/12;  //[ft]\n",
"U4=Q/39.6;  //[ft/sec]\n",
"Lgv=13.08;\n",
"Lglv=114.1;\n",
"Le=40.26;\n",
"Lpipe_4=22;\n",
"Lfittings_4=Lgv+Lglv+Le;\n",
"Lloss=0;\n",
"L_4=Lpipe_4+Lfittings_4+Lloss;\n",
"Nre_4=(d*U4*p)/mu;\n",
"f=0.00475;\n",
"Fpipe_4=((4*f*L_4)/d)*(U4^2)*(1/(2*gc));\n",
"Floss_4=((kentrance+0)*(U4^2))/(2*gc);\n",
"// 5 in schedule pipe\n",
"d=5.047/12;\n",
"U5=Q/62.3;\n",
"Lgv=10.94;\n",
"Le=75.71;\n",
"Lpipe_5=100;\n",
"Lfittings_5=Lgv+Le;\n",
"Lloss=0;\n",
"L_5=Lpipe_5+Lfittings_5+Lloss;\n",
"Nre=(d*U5*p)/mu;\n",
"f=0.00470;\n",
"Fpipe_5=((4*f*L_5)/d)*(U5^2)*(1/(2*gc));\n",
"Floss_5=((kexit+0)*(U5^2))/(2*gc);\n",
"// 6 in schedule pipe\n",
"d=6.065/12;\n",
"U6=Q/90;\n",
"Lgv=6.570;\n",
"Le=30.36;\n",
"Lpipe_6=4;\n",
"Lfittings_6=Lgv+Le;\n",
"Lloss=0;\n",
"L_6=Lpipe_6+Lfittings_6+Lloss;\n",
"Nre=(d*U6*p)/mu;\n",
"f=0.00487;\n",
"Fpipe_6=((4*f*L_6)/d)*(U6^2)*(1/(2*gc));\n",
"kc=0.50;\n",
"Floss_6=kc*((U6^2)/(2*gc));\n",
"Ffittings=0;\n",
"deltap_6=p*(Fpipe_6+Ffittings+Floss_6);\n",
"// 3/4 in 18 gauge tube\n",
"d=0.652112/12;\n",
"L_3by4=15;\n",
"U_3by4=(Q*0.962)/100;\n",
"Floss_3by4=100*(kexit+kentrance)*((U_3by4^2)/2);\n",
"Nre=d*U_3by4*p*(1/mu);\n",
"// clearly the flow is turbulent\n",
"f=0.08*((Nre)^(-1/4))+0.012*((d)^(1/2));\n",
"deltap_3by4=((4*f*p*L_3by4)/d)*((U_3by4^2)/(2*gc));\n",
"Fpipe_3by4=100*((4*f*L_3by4)/d)*((U_3by4^2)/(2*gc));\n",
"deltap_spraysystem=25; //[psi]\n",
"Fspraysystem=(deltap_spraysystem/p)*(144);\n",
"delta_p=[p*(kexit+kentrance)]*[(U_3by4^2)/(2*gc)];\n",
"Fpipe=Fpipe_4+Fpipe_5+Fpipe_6;\n",
"Floss=Floss_4+Floss_5+Floss_6+Floss_3by4;\n",
"ws=0+([(15^2)-0]/[2*gc])+38.9+382.5;\n",
"w=(Q*p)/(7.48);\n",
"Ws=(ws*w)/(33000);\n",
"efficiency=0.6;\n",
"Ws_actual=Ws/efficiency\n",
"printf('\n\n The power supplied to th pump is\n W_actual = %f',Ws_actual);\n",
"\n",
"\n",
"\n",
"\n",
"\n",
"\n",
"\n",
""
   ]
   }
,
{
		   "cell_type": "markdown",
		   "metadata": {},
		   "source": [
			"## Example 10.12: complex_fluid_flow_systems.sce"
		   ]
		  },
  {
"cell_type": "code",
	   "execution_count": null,
	   "metadata": {
	    "collapsed": true
	   },
	   "outputs": [],
"source": [
"clc;\n",
"warning('off');\n",
"printf('\n\n example10.12 - pg454');\n",
"// given\n",
"kexit=1;\n",
"kentrance=0.5;\n",
"Q=400;  //[gpm] - volumetric flow rate\n",
"gc=32.174;\n",
"// for 4 inch pipe\n",
"d=4.026;  //[inch]\n",
"L=22;  //[ft]\n",
"Lbyd=(L*12)/(d);\n",
"// adding the contributions due to fittings \n",
"Lbyd=Lbyd+3*13+340+4*30;\n",
"N=Lbyd/45;\n",
"N=N+kentrance+0;\n",
"U4=Q/39.6;  //[ft/sec]\n",
"Fpipe_4=(N*(U4^2))/(2*gc);\n",
"printf('\n\n F(4 in.pipes) = %f ft*lbf/lbm',Fpipe_4);\n",
"// for 5 inch pipe\n",
"L=100;  //[ft]\n",
"d=5.047;  //[inch]\n",
"Lbyd=(L*12)/(d);\n",
"// valves contributes 26 diameters and six elbows contribute 30 diameters ecah;therefore\n",
"Lbyd=Lbyd+26+6*30;\n",
"N=Lbyd/45;  // no. of velocity heads\n",
"N=N+kexit+kentrance;\n",
"U5=Q/62.3;\n",
"Fpipe_5=(N*(U5^2))/(2*gc);\n",
"printf('\n\n F(5 in.pipes) = %f ft*lbf/lbm',Fpipe_5);\n",
"// for 6 inch pipe\n",
"d=6.065;  //[inch]\n",
"L=5;  //[ft]\n",
"Lbyd=(L*12)/(d);\n",
"// adding the contributions due to fittings \n",
"Lbyd=Lbyd+1*13+2*30;\n",
"N=Lbyd/45;\n",
"N=N+0+kentrance;\n",
"U6=Q/90;\n",
"Fpipe_6=(N*(U6^2))/(2*gc);\n",
"printf('\n\n F(6 in.pipes) = %f ft*lbf/lbm',Fpipe_6);\n",
"F_largepipes=Fpipe_4+Fpipe_5+Fpipe_6;\n",
"printf('\n\n F(large pipes) = %f ft*lbf/lbm',F_largepipes);\n",
"\n",
"\n",
""
   ]
   }
,
{
		   "cell_type": "markdown",
		   "metadata": {},
		   "source": [
			"## Example 10.14: non_circular_conduits.sce"
		   ]
		  },
  {
"cell_type": "code",
	   "execution_count": null,
	   "metadata": {
	    "collapsed": true
	   },
	   "outputs": [],
"source": [
"clc;\n",
"warning('off');\n",
"printf('\n\n example10.14 - pg459');\n",
"// given\n",
"l=0.09238;\n",
"rh=0.1624*l;\n",
"L=300;\n",
"de=4*rh;\n",
"p=1000;  //[kg/m^3]\n",
"mu=10^-3;  //[kg/m*sec]\n",
"Uavg=1.667;\n",
"Nre=(de*Uavg*p)/mu;\n",
"f=0.0053;\n",
"deltap=((4*f*L)/de)*(p*(Uavg^2)*(1/2));\n",
"printf('\n\n -deltap = %e kg/m*s = %e N/m^2 = %f kPa',deltap,deltap,deltap*10^-3);"
   ]
   }
,
{
		   "cell_type": "markdown",
		   "metadata": {},
		   "source": [
			"## Example 10.15: orifice_meter.sce"
		   ]
		  },
  {
"cell_type": "code",
	   "execution_count": null,
	   "metadata": {
	    "collapsed": true
	   },
	   "outputs": [],
"source": [
"clc;\n",
"warning('off');\n",
"printf('\n\n example10.15 - pg466');\n",
"// given\n",
"Q=400;  //[gpm]\n",
"p=1.1*62.4;  //[lbm/ft^3]\n",
"mu=2*(6.72*10^-4);  //[lb/ft*sec]\n",
"e=1.5*10^4;\n",
"// 4 inch schedule pipe\n",
"d=0.3355;\n",
"S=(%pi*(d^2))/4;\n",
"U4=Q/39.6;\n",
"ebyd=e/d;\n",
"w=3671/60;\n",
"pm=13.45*62.4;\n",
"g=32.1;\n",
"gc=32.174;\n",
"deltaz=2.5;\n",
"deltap=(g/gc)*(pm-p)*(deltaz);\n",
"betaa=((1)/(1+[(2*p*gc)*(deltap)]*(((0.61*S)/w)^2)))^(1/4);\n",
"d2=betaa*d;\n",
"Nre2=(4*w)/(%pi*d2*mu);\n",
"a=(1/30)*4.026;\n",
"b=(1/4)*(2.013-1.21);\n",
"c=(1/8)*(2.42);\n",
"if a<b then\n",
"    if a<c then\n",
"        opt=a;\n",
"    else\n",
"        opt=c;\n",
"    end\n",
"else\n",
"    if b<c then\n",
"        opt=b;\n",
"    else\n",
"        opt=c;\n",
"    end\n",
"end\n",
"printf('\n\n The pertinent orifice details are \n orifice diameter = %f in \n corner taps, square edge\n orifice plate not over %f in thick',d2*12,opt);\n",
"\n",
"\n",
""
   ]
   }
,
{
		   "cell_type": "markdown",
		   "metadata": {},
		   "source": [
			"## Example 10.16: venturi_and_nozzle.sce"
		   ]
		  },
  {
"cell_type": "code",
	   "execution_count": null,
	   "metadata": {
	    "collapsed": true
	   },
	   "outputs": [],
"source": [
"clc;\n",
"warning('off');\n",
"printf('\n\n example10.16 - pg470');\n",
"// given\n",
"Q=400;  //[gpm]\n",
"p=1.1*62.4;  //[lbm/ft^3]\n",
"mu=2*(6.72*10^-4);  //[lb/ft*sec]\n",
"e=1.5*10^4;\n",
"// 4 inch schedule pipe\n",
"d=0.3355;\n",
"S=(%pi*(d^2))/4;\n",
"U4=Q/39.6;\n",
"ebyd=e/d;\n",
"w=3671/60;\n",
"pm=13.45*62.4;\n",
"g=32.1;\n",
"gc=32.174;\n",
"Nre=(d*U4*p)/mu;\n",
"if Nre>10^4 then\n",
"    c=0.98;\n",
"end\n",
"deltaz=2.5;\n",
"deltap=(g/gc)*(pm-p)*(deltaz);\n",
"betaa=((1)/(1+[(2*p*gc)*(deltap)]*(((c*S)/w)^2)))^(1/4);\n",
"d2=betaa*d;\n",
"printf('\n\n The pertinentr details of the venturi design are\n Throat diameter = %f inch\n Approach angle = 25\n Divergence angle = 7',d2*12);\n",
""
   ]
   }
,
{
		   "cell_type": "markdown",
		   "metadata": {},
		   "source": [
			"## Example 10.17: pitot_tube.sce"
		   ]
		  },
  {
"cell_type": "code",
	   "execution_count": null,
	   "metadata": {
	    "collapsed": true
	   },
	   "outputs": [],
"source": [
"clc;\n",
"warning('off');\n",
"printf('\n\n example10.17 - pg477');\n",
"// given\n",
"Uzmax=3.455;  //[ft/sec]\n",
"m=32;\n",
"a1=-0.3527;\n",
"a2=-0.6473;\n",
"rbyro=0.880;\n",
"UzbyUzmax=1+a1*(rbyro^2)+a2*(rbyro^(2*m));\n",
"Uz=Uzmax*(UzbyUzmax);\n",
"Uzavg=(4/9)*Uzmax+(5/18)*(Uz+Uz);\n",
"printf('\n\n the average velocity is \n Uzavg = %f ft/sec \n\n Thus, in this example there is an inherent error of 5.5 percent, even before any experimental errors are introduced',Uzavg);"
   ]
   }
,
{
		   "cell_type": "markdown",
		   "metadata": {},
		   "source": [
			"## Example 10.1: laminar_pipe_flow.sce"
		   ]
		  },
  {
"cell_type": "code",
	   "execution_count": null,
	   "metadata": {
	    "collapsed": true
	   },
	   "outputs": [],
"source": [
"clc;\n",
"warning('off');\n",
"printf('\n\n example10.1 - pg405');\n",
"T=30;  //[degC] - temperature\n",
"d=8.265*10^-4;  //[m] - diameter of the capillary viscometer\n",
"deltapbyL=-0.9364;  //[psi/ft] - pressure drop per unit length\n",
"deltapbyL=deltapbyL*(2.2631*10^4);  //[kg/m^2*sec^2] - pressure drop per unit length\n",
"Q=28.36*(10^-6)*(1/60);\n",
"p=(0.88412-(0.92248*10^-3)*T)*10^3;  //[kg/m^3] - density\n",
"s=(%pi*(d^2))/4;\n",
"U=Q/s;\n",
"tauw=(d/4)*(-deltapbyL);\n",
"shearrate=(8*U)/d;\n",
"mu=tauw/(shearrate);\n",
"printf('\n\n The viscosity is \n mu=%f kg/m*sec=%f cP',mu,mu*10^3);\n",
"printf('\n\n Finally, it is important to check the reynolds number to make sure the above equation applies');\n",
"Nre=(d*U*p)/(mu);\n",
"disp(Nre,'Nre=');\n",
"printf('\n\n The flow is well within the laminar region and therefore the above equation applies');\n",
""
   ]
   }
,
{
		   "cell_type": "markdown",
		   "metadata": {},
		   "source": [
			"## Example 10.2: turbulent_pipe_flow.sce"
		   ]
		  },
  {
"cell_type": "code",
	   "execution_count": null,
	   "metadata": {
	    "collapsed": true
	   },
	   "outputs": [],
"source": [
"clc;\n",
"warning('off');\n",
"printf('\n\n example10.2 - pg407');\n",
"Nreold=1214;\n",
"Uold=0.8810;\n",
"Nre=13700;\n",
"U=Uold*(Nre/Nreold);\n",
"Lbyd=744;\n",
"// using the newton raphson method to calculate the value of f from the equation - 1/(f^(1/2))=4*log(Nre*(f^(1/2)))-0.4\n",
"f=0.007119;\n",
"p=(0.88412-(0.92248*10^-3)*T)*10^3;  //[kg/m^3] - density\n",
"tauw=(1/2)*p*(U^2)*f;\n",
"deltap=tauw*(4)*(Lbyd);\n",
"d=0.03254/12;  //[ft]\n",
"L=Lbyd*d;\n",
"printf('\n\n Pressure drop is \n -deltap=%e N/m^2=%f kpa=130 psi',deltap,deltap*10^-3);  \n",
"printf('\n\n A pressure drop of 130 psi on a tube of length of %f ft is high and shows the impracticality of flows at high reynolds number in smaller tubes',L);"
   ]
   }
,
{
		   "cell_type": "markdown",
		   "metadata": {},
		   "source": [
			"## Example 10.3: pressure_drop_in_rough_pipes.sce"
		   ]
		  },
  {
"cell_type": "code",
	   "execution_count": null,
	   "metadata": {
	    "collapsed": true
	   },
	   "outputs": [],
"source": [
"clc;\n",
"warning('off');\n",
"printf('\n\n example10.3 - pg414');\n",
"// given\n",
"u=1/60;  //[m/sec] - velocity\n",
"p=1000;  //[kg/m^3] - density\n",
"mu=1*10^-3;  //[kg/m*sec] - viscosity\n",
"d=6*10^-2;  //[m] - inside diameter of tube\n",
"L=300;  //[m] - length of the tube\n",
"Nre=(d*u*p)/(mu);\n",
"disp('therefore the flow is laminar',Nre,'Nre=');\n",
"f=16/Nre;\n",
"disp(f);\n",
"deltap=(4*f)*(L/d)*((p*(u^2))/2);\n",
"printf('\n\n -deltap=%f N/m^2 = %f kPa = %e psi',deltap,deltap*10^-3,deltap*1.453*10^-4);\n",
""
   ]
   }
,
{
		   "cell_type": "markdown",
		   "metadata": {},
		   "source": [
			"## Example 10.4: pressure_drop_in_rough_pipes.sce"
		   ]
		  },
  {
"cell_type": "code",
	   "execution_count": null,
	   "metadata": {
	    "collapsed": true
	   },
	   "outputs": [],
"source": [
"clc;\n",
"warning('off');\n",
"printf('\n\n example10.4 - pg415');\n",
"// given\n",
"d=6*10^-2;  //[m] - inside diameter of tube\n",
"p=1000;  //[kg/m^3] - density\n",
"// for smooth pipe\n",
"Nre=[10^4 10^5];\n",
"f=[0.0076 0.0045];\n",
"mu=10^-3;  //[kg/m^2*s]\n",
"U=(Nre*mu)/(d*p);\n",
"L=300;  //[m] - length of the tube\n",
"for i=1:2\n",
"deltap(i)=(4*f(i))*(L/d)*((p*(U(i)^2))/2);\n",
"end\n",
"disp('for smooth pipe');\n",
"printf(' Nre                           -deltap');\n",
"printf('\n %f                   %f',Nre(1),deltap(1));\n",
"printf('\n %f                 %f \n',Nre(2),deltap(2));\n",
"// for commercial steel\n",
"Nre=[10^4 10^5];\n",
"f=[0.008 0.0053];\n",
"U=(Nre*mu)/(d*p);\n",
"L=300;  //[m] - length of the tube\n",
"for i=1:2\n",
"deltap(i)=(4*f(i))*(L/d)*((p*(U(i)^2))/2);\n",
"end\n",
"disp('for commercial steel pipe');\n",
"printf(' Nre                           -deltap');\n",
"printf('\n %f                   %f',Nre(1),deltap(1));\n",
"printf('\n %f                 %f \n',Nre(2),deltap(2));\n",
"// for cast iron pipe\n",
"Nre=[10^4 10^5];\n",
"f=[0.009 0.0073];\n",
"U=(Nre*mu)/(d*p);\n",
"L=300;  //[m] - length of the tube\n",
"for i=1:2\n",
"deltap(i)=(4*f(i))*(L/d)*((p*(U(i)^2))/2);\n",
"end\n",
"disp('for cast iron pipe');\n",
"printf(' Nre                           -deltap');\n",
"printf('\n %f                   %f',Nre(1),deltap(1));\n",
"printf('\n %f                 %f',Nre(2),deltap(2));"
   ]
   }
,
{
		   "cell_type": "markdown",
		   "metadata": {},
		   "source": [
			"## Example 10.5: von_karman_number.sce"
		   ]
		  },
  {
"cell_type": "code",
	   "execution_count": null,
	   "metadata": {
	    "collapsed": true
	   },
	   "outputs": [],
"source": [
"clc;\n",
"warning('off');\n",
"printf('\n\n example10.5 - pg417');\n",
"// given\n",
"L=300;  //[m] - length of pipe\n",
"d=0.06;  //[m] - inside diameter\n",
"deltap=147*10^3;  //[Pa] - pressure the pump can supply\n",
"ebyd=0.000762;  // relative roughness\n",
"p=1000;  //[kg/m^3] - density\n",
"mu=1*10^-3;  //[kg/m*sec] - viscosity\n",
"tauw=(d*(deltap))/(4*L);\n",
"// using the hit and trial method for estimation of flow velocity\n",
"// let \n",
"f=0.005;\n",
"U=((2*tauw)/(p*f))^(1/2);\n",
"Nre=(d*U*p)/mu;\n",
"// from the graph value of f at the above calculated reynolds no. and the given relative roughness(e/d)\n",
"f=0.0054;\n",
"U=((2*tauw)/(p*f))^(1/2);\n",
"Nre=(d*U*p)/mu;\n",
"// from the graph value of f at the above calculated reynolds no. and the given relative roughness(e/d)\n",
"f=0.0053;\n",
"U=((2*tauw)/(p*f))^(1/2);\n",
"Nre=(d*U*p)/mu;\n",
"// from the graph value of f at the above calculated reynolds no. and the given relative roughness(e/d)\n",
"f=0.0053;\n",
"// At this point the value of f is deemed unchanged from the last iteration .Hence, the values obtained after the third iteration are the converged values\n",
"printf('\n\n The maximum flow velocity is \n U=%f m/sec',U);\n",
""
   ]
   }
,
{
		   "cell_type": "markdown",
		   "metadata": {},
		   "source": [
			"## Example 10.6: von_karman_number.sce"
		   ]
		  },
  {
"cell_type": "code",
	   "execution_count": null,
	   "metadata": {
	    "collapsed": true
	   },
	   "outputs": [],
"source": [
"clc;\n",
"warning('off');\n",
"printf('\n\n example10.6 - pg419');\n",
"// given\n",
"L=300;  //[m] - length of pipe\n",
"d=0.06;  //[m] - inside diameter\n",
"deltap=147*10^3;  //[Pa] - pressure the pump can supply\n",
"ebyd=0.000762;  // relative roughness\n",
"p=1000;  //[kg/m^3] - density\n",
"mu=1*10^-3;  //[kg/m*sec] - viscosity\n",
"Nvk=((d*p)/mu)*((d*(deltap))/(2*L*p))^(1/2);\n",
"disp(Nvk,'von karman no.-');\n",
"// From the fig  at given von karman no and relative roughness the value of f is-\n",
"f=0.0055;\n",
"Nre=Nvk/(f^(1/2))\n",
"U=(Nre*mu)/(d*p);\n",
"printf('\n\n U=%f m/sec',U);\n",
"\n",
""
   ]
   }
,
{
		   "cell_type": "markdown",
		   "metadata": {},
		   "source": [
			"## Example 10.7: the_velocity_head_concept.sce"
		   ]
		  },
  {
"cell_type": "code",
	   "execution_count": null,
	   "metadata": {
	    "collapsed": true
	   },
	   "outputs": [],
"source": [
"clc;\n",
"warning('off');\n",
"printf('\n\n example10.7 - pg422');\n",
"// given\n",
"L=300;  //[m] - length of pipe\n",
"d=0.06;  //[m] - inside diameter\n",
"p=1000;  //[kg/m^3] - density\n",
"mu=1*10^-3;  //[kg/m*sec] - viscosity\n",
"Nre=[10^4 10^5];\n",
"U=(Nre*mu)/(d*p);\n",
"velocityhead=(U^2)/2;\n",
"N=(L/d)/45;  // no of velocity heads\n",
"deltap=p*N*(velocityhead);\n",
"for i=1:2\n",
"    disp(Nre(i),'Nre=');\n",
"    printf('\n\n velocity head =%f m^2/sec^2',velocityhead(i));\n",
"    printf('\n\n -deltap = %f kPa = %f psi',deltap(i)*10^-3,deltap(i)*1.453*10^-4);\n",
"end\n",
"\n",
"\n",
"\n",
""
   ]
   }
,
{
		   "cell_type": "markdown",
		   "metadata": {},
		   "source": [
			"## Example 10.8: pipe_fittings_and_valves.sce"
		   ]
		  },
  {
"cell_type": "code",
	   "execution_count": null,
	   "metadata": {
	    "collapsed": true
	   },
	   "outputs": [],
"source": [
"clc;\n",
"warning('off');\n",
"printf('\n\n example10.8 - pg439');\n",
"// given\n",
"mu=6.72*10^-4;  //[lb/ft*sec] - viscosity\n",
"p=62.4;  //[lb/ft^3] - density\n",
"S=0.03322;  //[ft^2] - flow area\n",
"d=0.206;  //[ft]\n",
"e=1.5*10^-4;  // absolute roughness for steel pipe\n",
"ebyd=e/d;\n",
"Nre=10^5;\n",
"// friction factor as read from fig in book for the given reynolds no. and relative roughness is-\n",
"f=0.0053;\n",
"U=(Nre*mu)/(p*d);\n",
"Q=U*S;\n",
"gc=32.174;\n",
"// (a) equivalent length method\n",
"deltapbyL=f*(4/d)*(p*(U^2))*(1/(2*gc))*(6.93*10^-3);\n",
"// using L=Lpipe+Lfittings+Lloss;\n",
"Lfittings=2342.1*d;\n",
"kc=0.50;  //  due to contraction loss\n",
"ke=1;  // due to enlargement loss\n",
"Lloss=(kc+ke)*(1/(4*f))*d;\n",
"Lpipe=137;\n",
"L=Lpipe+Lfittings+Lloss;\n",
"deltap=deltapbyL*L;\n",
"patm=14.696;  //[psi] - atmospheric pressure\n",
"p1=patm+deltap;\n",
"printf('\n\n (a)The inlet pressure is\n p1=%f psi',p1);\n",
"// (b) loss coefficient method\n",
"// using the equation deltap/p=-(Fpipe+Ffittings+Floss)\n",
"L=137;\n",
"kfittings=52.39;\n",
"sigmaF=((4*f*(L/d))+kc+ke+kfittings)*((U^2)/(2*gc));\n",
"deltap=(p*sigmaF)/(144);\n",
"p1=patm+deltap;\n",
"printf('\n\n (b)The inlet pressure is \n p1=%f psi',p1);\n",
"printf('\n\n Computation of the pressure drop by the loss coefficient method differs from the equivalent length method by less than 1 psi');\n",
"\n",
"\n",
""
   ]
   }
,
{
		   "cell_type": "markdown",
		   "metadata": {},
		   "source": [
			"## Example 10.9: gases.sce"
		   ]
		  },
  {
"cell_type": "code",
	   "execution_count": null,
	   "metadata": {
	    "collapsed": true
	   },
	   "outputs": [],
"source": [
"clc;\n",
"warning('off');\n",
"printf('\n\n example10.9 - pg443');\n",
"// given\n",
"L1=50;  //[m] - length of first pipe\n",
"L2=150;  //[m] - length of second pipe\n",
"L3=100;  //[m] - length of third pipe\n",
"d1=0.04;  //[m] - diameter of first pipe\n",
"d2=0.06;  //[m] - diameter of second pipe\n",
"d3=0.08;  //[m] - diameter of third pipe\n",
"deltap=-1.47*10^5;  //[kg/m*sec] - pressure drop\n",
"mu=1*10^-3;  //[kg/m*sec] - viscosity\n",
"p=1000;  //[kg/m^3] - density\n",
"// for branch 1\n",
"S=(%pi*(d1^2))/4;\n",
"Nvk=((d1*p)/mu)*(-(d1*deltap)/(2*L1*p))^(1/2);\n",
"f=(1/(4*log10(Nvk)-0.4))^2;\n",
"U=(((-deltap)/p)*(d1/L1)*(2/4)*(1/f))^(1/2);\n",
"w1=p*U*S;\n",
"printf('\n\n For first branch w1=%f kg/sec',w1);\n",
"// for branch 2\n",
"S=(%pi*(d2^2))/4;\n",
"Nvk=((d2*p)/mu)*(-(d2*deltap)/(2*L2*p))^(1/2);\n",
"f=(1/(4*log10(Nvk)-0.4))^2;\n",
"U=(((-deltap)/p)*(d2/L2)*(2/4)*(1/f))^(1/2);\n",
"w2=p*U*S;\n",
"printf('\n\n For second branch w2=%f kg/sec',w2);\n",
"// for branch 3\n",
"S=(%pi*(d3^2))/4;\n",
"Nvk=((d3*p)/mu)*(-(d3*deltap)/(2*L3*p))^(1/2);\n",
"f=(1/(4*log10(Nvk)-0.4))^2;\n",
"U=(((-deltap)/p)*(d3/L3)*(2/4)*(1/f))^(1/2);\n",
"w3=p*U*S;\n",
"printf('\n\n For third branch w3=%f kg/sec',w3);\n",
"// total flow rate w=w1+w2+w3\n",
"w=w1+w2+w3;\n",
"printf('\n\n total flow rate is w=%f kg/sec',w);"
   ]
   }
],
"metadata": {
		  "kernelspec": {
		   "display_name": "Scilab",
		   "language": "scilab",
		   "name": "scilab"
		  },
		  "language_info": {
		   "file_extension": ".sce",
		   "help_links": [
			{
			 "text": "MetaKernel Magics",
			 "url": "https://github.com/calysto/metakernel/blob/master/metakernel/magics/README.md"
			}
		   ],
		   "mimetype": "text/x-octave",
		   "name": "scilab",
		   "version": "0.7.1"
		  }
		 },
		 "nbformat": 4,
		 "nbformat_minor": 0
}
