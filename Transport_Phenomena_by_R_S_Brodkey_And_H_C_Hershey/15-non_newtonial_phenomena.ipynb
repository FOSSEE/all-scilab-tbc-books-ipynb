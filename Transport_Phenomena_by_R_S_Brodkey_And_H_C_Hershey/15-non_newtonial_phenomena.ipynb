{
"cells": [
 {
		   "cell_type": "markdown",
	   "metadata": {},
	   "source": [
       "# Chapter 15: non newtonial phenomena"
	   ]
	},
{
		   "cell_type": "markdown",
		   "metadata": {},
		   "source": [
			"## Example 15.1: rheological_characteristics_of_material_time_independant_behaviour.sce"
		   ]
		  },
  {
"cell_type": "code",
	   "execution_count": null,
	   "metadata": {
	    "collapsed": true
	   },
	   "outputs": [],
"source": [
"clc;\n",
"warning('off');\n",
"printf('\n\n example15.1 - pg760');\n",
"// given\n",
"r=[10 20 50 100 200 400 600 1000 2000]\n",
"tau=[2.2 3.1 4.4 5.8 7.4 9.8 11.1 13.9 17.0]\n",
"tau=tau*(10^-4);\n",
"clf;\n",
"xtitle('basic shear diagram for the fluid','shear rate','shear stress');\n",
"plot2d('ll',r,tau);\n",
"// the data falls nearly on a straight line\n",
"// from the graph the slope and the intercept are\n",
"slope=0.3841;\n",
"intercept=9.17046;\n",
"// from the relation tau=K*(-r)^n;\n",
"K=exp(intercept);\n",
"n=slope\n",
"disp(K,'K=',n,'n=');\n",
"printf('\n\n The fluid is pseudo plastic , since the slope is less than 1 ');\n",
""
   ]
   }
,
{
		   "cell_type": "markdown",
		   "metadata": {},
		   "source": [
			"## Example 15.2: capillary_viscometer.sce"
		   ]
		  },
  {
"cell_type": "code",
	   "execution_count": null,
	   "metadata": {
	    "collapsed": true
	   },
	   "outputs": [],
"source": [
"clc;\n",
"warning('off');\n",
"printf('\n\n example15.2 - pg774');\n",
"// given\n",
"a=[651 1361 2086 5089 7575 11140 19270 25030]\n",
"tau=[3.71 7.49 11.41 24.08 -35.21 46.25 77.50 96.68]\n",
"clf;\n",
"xtitle('capillary shear diagram for polyisobutylene L-80 in cyclohexane','pseudoshear rate','wall shear stress');\n",
"plot2d('ll',a,tau);\n",
"// from the graph\n",
"betao=-4.3790154;\n",
"beta1=0.8851;\n",
"K'=exp(betao);\n",
"n'=beta1;\n",
"printf('\n\n The final rheological model is \n tauw = %f*(8*Uz,avg/do)^%f',K',n');\n",
""
   ]
   }
,
{
		   "cell_type": "markdown",
		   "metadata": {},
		   "source": [
			"## Example 15.3: capillary_viscometer.sce"
		   ]
		  },
  {
"cell_type": "code",
	   "execution_count": null,
	   "metadata": {
	    "collapsed": true
	   },
	   "outputs": [],
"source": [
"clc;\n",
"warning('off');\n",
"printf('\n\n example15.3 - pg774');\n",
"// given\n",
"// from example 15.2 \n",
"n'=0.8851;\n",
"K'=0.01254;\n",
"n=n';\n",
"K=K'/((3*n+1)/(4*n));\n",
"disp(n,'n=');\n",
"printf('\n K = %f N/m^2',K);\n",
""
   ]
   }
,
{
		   "cell_type": "markdown",
		   "metadata": {},
		   "source": [
			"## Example 15.4: capillary_viscometer.sce"
		   ]
		  },
  {
"cell_type": "code",
	   "execution_count": null,
	   "metadata": {
	    "collapsed": true
	   },
	   "outputs": [],
"source": [
"clc;\n",
"warning('off');\n",
"printf('\n\n example15.4 - pg775');\n",
"// given\n",
"a=[10 20 50 100 200 400 600 1000 2000];\n",
"tau=[2.24 3.10 4.35 5.77 7.50 9.13 11.0 13.52 16.40]\n",
"tau=tau*10^-4;\n",
"clf;\n",
"xtitle('capillary shear diagram for a commercial polyethylene melt at 190 degC','pseudoshear rate','wall shear stress');\n",
"plot2d('ll',a,tau);\n",
"// such a plot suggests a second order polynomila  of the type y=betao+beta1*x+beta2*x^2;\n",
"// where y=ln(tauw) and x=ln(8*Uz,avg/do)=ln(a);\n",
"// from the graph\n",
"betao=8.96694;\n",
"beta1=0.48452520;\n",
"beta2=0.010923041;\n",
"n=beta1+2*beta2*a;\n",
"phiw=((3*n+1)/(4*n))*(a);\n",
"mu=tau/phiw;\n",
"printf('\n\n 8*Uz,avg/do       n       (3*n+1)/(4*n)       phiw            mu');\n",
"for i=1:9\n",
"    printf('\n %f       %f      %f      %f       %f',a(i),n(i),(3*n(i)+1)/(4*n(i)),phiw(i),mu);\n",
"end\n",
"\n",
""
   ]
   }
],
"metadata": {
		  "kernelspec": {
		   "display_name": "Scilab",
		   "language": "scilab",
		   "name": "scilab"
		  },
		  "language_info": {
		   "file_extension": ".sce",
		   "help_links": [
			{
			 "text": "MetaKernel Magics",
			 "url": "https://github.com/calysto/metakernel/blob/master/metakernel/magics/README.md"
			}
		   ],
		   "mimetype": "text/x-octave",
		   "name": "scilab",
		   "version": "0.7.1"
		  }
		 },
		 "nbformat": 4,
		 "nbformat_minor": 0
}
