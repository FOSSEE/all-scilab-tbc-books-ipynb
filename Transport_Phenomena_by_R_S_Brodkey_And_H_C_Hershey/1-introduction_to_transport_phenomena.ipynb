{
"cells": [
 {
		   "cell_type": "markdown",
	   "metadata": {},
	   "source": [
       "# Chapter 1: introduction to transport phenomena"
	   ]
	},
{
		   "cell_type": "markdown",
		   "metadata": {},
		   "source": [
			"## Example 1.1: fundamental_variables_and_units.sce"
		   ]
		  },
  {
"cell_type": "code",
	   "execution_count": null,
	   "metadata": {
	    "collapsed": true
	   },
	   "outputs": [],
"source": [
"clc;\n",
"warning('off');\n",
"printf('\n\n example1.1 - pg6');\n",
"// given\n",
"v=0.01283;  //[m^3] - volume of tank in m^3\n",
"v=0.4531;  //[ft^3] - volume of tank in ft^3\n",
"p=2;  //[atm] - pressure\n",
"T=1.8*300;  //[degR] - temperature\n",
"R=0.73;  //[(atm*ft^3)/(lbmol*degR)] - gas constant\n",
"// using the equation of state for an ideal gas pv=nRT\n",
"n=(p*v)/(R*T);\n",
"disp(n,'no. of moles,n=');\n",
"xN2=0.5;  // fractiom of N2 in tank\n",
"nN2=xN2*n;\n",
"Ca=nN2/v;\n",
"printf('\n\n Ca=%elb*mol/ft^3',Ca);"
   ]
   }
,
{
		   "cell_type": "markdown",
		   "metadata": {},
		   "source": [
			"## Example 1.2: The_role_of_intermolecular_forces.sce"
		   ]
		  },
  {
"cell_type": "code",
	   "execution_count": null,
	   "metadata": {
	    "collapsed": true
	   },
	   "outputs": [],
"source": [
"clc;\n",
"warning('off');\n",
"printf('\n\n example1.2 - pg9');\n",
"// given\n",
"// the three unknowns are x,y,z\n",
"// the three equations are-\n",
"// x+y+z=1500\n",
"// (1) 0.05*x+0.15*y+0.40*z=1500*0.25\n",
"// (2) 0.95*x+0.00*y+0.452*z=1500*0.50\n",
"a=[1 1 1;0.05 0.15 0.40;0.95 0 0.452];\n",
"d=[1500;1500*0.25;1500*0.50];\n",
"ainv=inv(a);\n",
"sol=ainv*d;\n",
"printf('\n\n the amount of concentrated HNO3 is %fkg\n the amount of concentrated H2SO4 is %fkg\n the amount of waste acids is %fkg',sol(2),sol(1),sol(3));\n",
"\n",
""
   ]
   }
],
"metadata": {
		  "kernelspec": {
		   "display_name": "Scilab",
		   "language": "scilab",
		   "name": "scilab"
		  },
		  "language_info": {
		   "file_extension": ".sce",
		   "help_links": [
			{
			 "text": "MetaKernel Magics",
			 "url": "https://github.com/calysto/metakernel/blob/master/metakernel/magics/README.md"
			}
		   ],
		   "mimetype": "text/x-octave",
		   "name": "scilab",
		   "version": "0.7.1"
		  }
		 },
		 "nbformat": 4,
		 "nbformat_minor": 0
}
