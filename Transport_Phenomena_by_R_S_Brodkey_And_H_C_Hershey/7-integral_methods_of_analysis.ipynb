{
"cells": [
 {
		   "cell_type": "markdown",
	   "metadata": {},
	   "source": [
       "# Chapter 7: integral methods of analysis"
	   ]
	},
{
		   "cell_type": "markdown",
		   "metadata": {},
		   "source": [
			"## Example 7.10: the_energy_equation_and_the_engineering_bernoulli_equation.sce"
		   ]
		  },
  {
"cell_type": "code",
	   "execution_count": null,
	   "metadata": {
	    "collapsed": true
	   },
	   "outputs": [],
"source": [
"clc;\n",
"warning('off');\n",
"printf('\n\n example7.10 - pg298');\n",
"// given\n",
"d=0.03;  //[m] - diameter\n",
"g=9.784;  //[m/sec] - acceleration due to gravity\n",
"deltaz=-1;\n",
"// using the equation (1/2)*(U3^2/alpha3-U1^2/alpha1)+g*deltaz=0\n",
"// assuming\n",
"alpha1=1;\n",
"alpha3=1;\n",
"// also since the diameter of the tank far exceeds the diameter of the hose , the velocity at point 1 must be negligible when compared to the velocity at point 3\n",
"U1=0;\n",
"U3=(-2*g*deltaz+(U1^2)/alpha1)^(1/2);\n",
"p=1000;  //[kg/m^3] - density of water\n",
"S3=(%pi/4)*(d)^2\n",
"w=p*U3*S3;\n",
"printf('\n\n the mass flow rate is \n w=%fkg/sec',w);\n",
"// the minimum pressure in the siphon tube is at the point 2. Before the result of 3.13 kg/sec is accepted as the final value, the pressure at point 2 must be calcilated in order to see if the water might boil at this point\n",
"// using deltap=p*((U3^2)/2+g*deltaz)\n",
"deltap=p*((U3^2)/2+g*deltaz);\n",
"p1=1.01325*10^5;  //[N/m^2] - is equal to atmospheric pressure\n",
"p2=p1+deltap;\n",
"vp=0.02336*10^5;\n",
"if p2>vp then\n",
"    printf('\n\n the siphon can operate since the pressure at point 2 is greater than the value at which the liquid boils');\n",
"else\n",
"    printf('\n\n the siphon cant operate since the pressuer at point 2 is less than the value at which the liquid boils');\n",
"    \n",
"end"
   ]
   }
,
{
		   "cell_type": "markdown",
		   "metadata": {},
		   "source": [
			"## Example 7.11: the_energy_equation_and_the_engineering_bernoulli_equation.sce"
		   ]
		  },
  {
"cell_type": "code",
	   "execution_count": null,
	   "metadata": {
	    "collapsed": true
	   },
	   "outputs": [],
"source": [
"clc;\n",
"warning('off');\n",
"printf('\n\n example7.11 - pg300');\n",
"// given\n",
"sp=1.45;  // specific gravity of trichloroethylene\n",
"pwater=62.4;  //[lb/ft^3] - density of water\n",
"p=sp*pwater;\n",
"d1=1.049;  //[inch] - density of pipe at point 1\n",
"d2=0.6;  //[inch] - density of pipe at point 2\n",
"d3=1.049;  //[inch] - density of pipe at point 3\n",
"// using the formula U1*S1=U2*S2; we get U1=U2*(d2/d1);\n",
"// then using the bernoulli equation deltap/p=(1/2)*(U2^2-U1^2);\n",
"deltap=4.2*(144);  //[lb/ft^2] - pressure difference\n",
"U2=((2*(deltap/p)*(1/(1-(d2/d1)^4)))^(1/2))*(32.174)^(1/2);\n",
"// using the formula w=p*U2*S\n",
"w=p*U2*((%pi/4)*(0.6/12)^2);\n",
"w1=w/(2.20462);\n",
"printf('\n\n the mass flow rate is \n w=%flb/sec\n or in SI units \n w=%fkg/sec',w,w1);\n",
""
   ]
   }
,
{
		   "cell_type": "markdown",
		   "metadata": {},
		   "source": [
			"## Example 7.12: the_mechanical_energy_equation_and_the_engineering_bernoulli_equation.sce"
		   ]
		  },
  {
"cell_type": "code",
	   "execution_count": null,
	   "metadata": {
	    "collapsed": true
	   },
	   "outputs": [],
"source": [
"clc;\n",
"warning('off');\n",
"printf('\n\n example7.12 - pg301');\n",
"// given\n",
"Q=50/(7.48*60);  //[ft/sec] - volumetric flow rate of water\n",
"d1=1;  //[inch] - diameter of pipe\n",
"deltaz=-5;  //[ft] - distance between end of pipe and tank\n",
"g=32.1;  //[ft/sec] - acceleration due to gravity\n",
"Cp=1;  //[Btu/lb*F] - heat capacity of water\n",
"p=62.4;  //[lb/ft^3] - density of water\n",
"S1=(%pi/4)*(d1/12)^2;\n",
"U1=Q/S1;\n",
"w=p*Q;\n",
"U2=0;\n",
"gc=32.174;\n",
"// using the formula deltaH=(w/2)*((U2)^2-(U1)^2)+w*g*deltaz\n",
"deltaH=-(w/(2*gc))*((U2)^2-(U1)^2)-w*(g/gc)*deltaz;\n",
"disp(deltaH);\n",
"deltaH=deltaH/778;  // converting from ftlb/sec to Btu/sec\n",
"deltaT=deltaH/(w*Cp);\n",
"printf('\n\n The rise in temperature is %fdegF',deltaT);\n",
"\n",
"\n",
"\n",
""
   ]
   }
,
{
		   "cell_type": "markdown",
		   "metadata": {},
		   "source": [
			"## Example 7.13: the_mechanical_energy_equation_and_the_engineering_bernoulli_equation.sce"
		   ]
		  },
  {
"cell_type": "code",
	   "execution_count": null,
	   "metadata": {
	    "collapsed": true
	   },
	   "outputs": [],
"source": [
"clc;\n",
"warning('off');\n",
"printf('\n\n example7.13 - pg303');\n",
"// given\n",
"deltaz=30;  //[ft] - distance between process and the holding tank\n",
"Q=100;  //[gpm] - volumetric flow rate of water\n",
"p1=100;  //[psig]\n",
"p2=0;  //[psig]\n",
"g=32.1;  //[ft/sec] - acceleration due to gravity\n",
"sv=0.0161;  //[ft^3/lb] - specific volume of water\n",
"p=1/sv;  //[lb/ft^3] - density of water\n",
"e=0.77;  // efficiency of centrifugal pump\n",
"deltap=(p1-p2)*(144);  //[lbf/ft^2]\n",
"gc=32.174;\n",
"// using the equation deltap/p+g*(deltaz)+Ws=0;\n",
"Wst=-deltap/p-(g/gc)*(deltaz);\n",
"// using the formula for efficiency e=Ws(theoritical)/Ws(actual)\n",
"// therefore\n",
"Wsa=Wst/e;\n",
"// the calulated shaft work is for a unit mass flow rate of water,therfore for given flow rate multiply it by the flow rate\n",
"w=(Q*p)/(7.48*60);\n",
"Wsactual=Wsa*w;\n",
"power=-Wsactual/(778*0.7070);\n",
"printf('\n\n the required horsepower is %fhp',power);"
   ]
   }
,
{
		   "cell_type": "markdown",
		   "metadata": {},
		   "source": [
			"## Example 7.14: the_mechanical_energy_equation_and_the_engineering_bernoulli_equation.sce"
		   ]
		  },
  {
"cell_type": "code",
	   "execution_count": null,
	   "metadata": {
	    "collapsed": true
	   },
	   "outputs": [],
"source": [
"clc;\n",
"warning('off');\n",
"printf('\n\n example7.14 - pg304');\n",
"// given\n",
"p1=5;  //[atm] - initial pressure\n",
"p2=0.75;  //[atm] - final pressure after expansion through turbine\n",
"T=450;  //[K] - temperature\n",
"y=1.4;  // cp/cv for nitrogen\n",
"// using the equation Ws=-(y/(y-1))*(p1/density1)*((p2/p1)^((y-1)/y)-1)\n",
"R=8314;  // gas constant\n",
"p1bydensity=R*T;\n",
"Ws=-(y/(y-1))*(p1bydensity)*((p2/p1)^((y-1)/y)-1);\n",
"printf('\n\n the shaft work of the gas as it expands through the turbine and transmits its molecular energy to the rotating blades is \n Ws=%eJ/kmol',Ws);\n",
"\n",
""
   ]
   }
,
{
		   "cell_type": "markdown",
		   "metadata": {},
		   "source": [
			"## Example 7.15: manometers.sce"
		   ]
		  },
  {
"cell_type": "code",
	   "execution_count": null,
	   "metadata": {
	    "collapsed": true
	   },
	   "outputs": [],
"source": [
"clc;\n",
"warning('off');\n",
"printf('\n\n example 7.15 - pg311');\n",
"// given\n",
"T=273.15+25;  //[K] - temperature\n",
"R=8.314;  //[kPa*m^3/kmol*K] - gas constant\n",
"p=101.325;  //[kPa] - pressure\n",
"M=29;  // molecular weight of gas\n",
"pa=(p*M)/(R*T);\n",
"sg=13.45;  // specific gravity\n",
"pm=sg*1000;\n",
"g=9.807;  //[m/sec^2] - acceleration due to gravity\n",
"deltaz=15/100;  //[m]\n",
"// using the equation p2-p1=deltap=(pm-pa)*g*deltaz\n",
"deltap=-(pm-pa)*g*deltaz;\n",
"printf('\n\n the pressure drop is %eN/m^2',deltap);\n",
"printf('\n the minus sign means the upstream pressure p1 is greater than p2, i.e ther is a pressure drop.');\n",
"\n",
"\n",
""
   ]
   }
,
{
		   "cell_type": "markdown",
		   "metadata": {},
		   "source": [
			"## Example 7.16: manometers.sce"
		   ]
		  },
  {
"cell_type": "code",
	   "execution_count": null,
	   "metadata": {
	    "collapsed": true
	   },
	   "outputs": [],
"source": [
"clc;\n",
"warning('off');\n",
"printf('\n\n example7.16 - pg312');\n",
"// given\n",
"T=536.67;  //[degR]; - temperature\n",
"R=10.73;  //[(lbf/in^2*ft^3)*lb*mol^-1*degR] - gas constant\n",
"p=14.696;  //[lbf/in^2];\n",
"g=9.807*3.2808;  //[ft/sec^2] - acceleration due to gravity\n",
"M=29;  // molecular weight of gas\n",
"pa=(p*M)/(R*T);\n",
"sg=13.45;  // specific gravity\n",
"pm=sg*62.4;\n",
"deltaz=15/(2.54*12);  //[ft]\n",
"gc=32.174;\n",
"// using the equation p2-p1=deltap=(pm-pa)*g*deltaz\n",
"deltap=(pm-pa)*(g/gc)*deltaz;\n",
"printf('\n\n the pressure drop is %flbf/ft^2',deltap);"
   ]
   }
,
{
		   "cell_type": "markdown",
		   "metadata": {},
		   "source": [
			"## Example 7.18: manometers.sce"
		   ]
		  },
  {
"cell_type": "code",
	   "execution_count": null,
	   "metadata": {
	    "collapsed": true
	   },
	   "outputs": [],
"source": [
"clc;\n",
"warning('off');\n",
"printf('\n\n example7.18 - pg315');\n",
"// given\n",
"at=0.049;  //[in^2] - cross sectional area of the manometer tubing\n",
"aw=15.5;  //[in^2] - cross sectional area of the well\n",
"g=32.174;  //[ft/sec^2] - acceleration due to gravity\n",
"gc=32.174;\n",
"sg=13.45;  //[ specific garvity of mercury\n",
"p=62.4;  //[lb/ft^3] - density of water;\n",
"pm=sg*p;\n",
"deltaz_waterleg=45.2213;\n",
"// using the equation A(well)*deltaz(well)=A(tube)*deltaz(tube)\n",
"deltazt=70;  //[cm]\n",
"deltazw=deltazt*(at/aw);\n",
"deltaz=deltazt+deltazw;\n",
"deltap_Hg=-pm*(g/gc)*(deltaz/(2.54*12));\n",
"disp(deltap_Hg);\n",
"deltazw=45.2213;  //[cm]\n",
"deltap_tap=deltap_Hg+p*(g/gc)*(deltazw/(12*2.54));\n",
"printf('\n\n deltap_tap=%f lbf/ft^2',deltap_tap);\n",
"printf('\ndeltap is negative and therefore p1 is greater than p2');"
   ]
   }
,
{
		   "cell_type": "markdown",
		   "metadata": {},
		   "source": [
			"## Example 7.19: buoyant_forces.sce"
		   ]
		  },
  {
"cell_type": "code",
	   "execution_count": null,
	   "metadata": {
	    "collapsed": true
	   },
	   "outputs": [],
"source": [
"clc;\n",
"warning('off');\n",
"printf('\n\n example7_19 - pg317');\n",
"// given\n",
"p=749/760;  //[atm]\n",
"T=21+273.15;  //[K]\n",
"R=82.06;  //[atm*cm^3/K] - gas constant\n",
"v=(R*T)/p;  //[cm^3/mole] - molar volume\n",
"M=29;  //[g/mole] - molecular weight\n",
"pair=M/v;\n",
"m_air=53.32;  //[g]\n",
"m_h2o=50.22;  //[g]\n",
"ph2o=0.998;  //[g/cm^3] - density of water\n",
"V=(m_air-m_h2o)/(ph2o-pair);  //[cm^3]\n",
"density=m_air/V;\n",
"printf('\n\n The density of coin is \n density=%fg/cm^3',density);\n",
"printf('\n\n Consulting a handbook it is seen that this result is correct density for gold');\n",
""
   ]
   }
,
{
		   "cell_type": "markdown",
		   "metadata": {},
		   "source": [
			"## Example 7.20: buoyant_forces.sce"
		   ]
		  },
  {
"cell_type": "code",
	   "execution_count": null,
	   "metadata": {
	    "collapsed": true
	   },
	   "outputs": [],
"source": [
"clc;\n",
"warning('off');\n",
"printf('\n\n example7.20 - pg318');\n",
"// given\n",
"P=749/760;  //[atm] - pressure\n",
"T=21+273.15;  //[K] - temperature\n",
"poak=38*(1/62.4);  //[g/cm^3] - density of oak\n",
"pbrass=534/62.4;  //[g/cm^3] - density of brass\n",
"m_brass=6.7348;  //[g]\n",
"pair=0.001184;  //[g/cm^3] - density of air\n",
"// using the formula m_oak=m_brass*((1-(pair/pbrass))/(1-(pair/poak)))\n",
"m_oak=m_brass*((1-(pair/pbrass))/(1-(pair/poak)));\n",
"printf('\n\n m_oak=%fg',m_oak);"
   ]
   }
,
{
		   "cell_type": "markdown",
		   "metadata": {},
		   "source": [
			"## Example 7.21: variation_of_pressure_with_depth.sce"
		   ]
		  },
  {
"cell_type": "code",
	   "execution_count": null,
	   "metadata": {
	    "collapsed": true
	   },
	   "outputs": [],
"source": [
"clc;\n",
"warning('off');\n",
"printf('\n\n example7.21 - pg320');\n",
"// given\n",
"T=545.67;  //[degR] - temperature\n",
"R=1545;  //[Torr*ft^3/degR*mole] - gas constant\n",
"M=29;  //[g/mole] - molecular weight\n",
"g=9.807;  //[m/sec^2] - acceleration due to gravity\n",
"gc=9.807;  \n",
"po=760;  //[Torr] - pressure\n",
"deltaz=50;  //[ft]\n",
"// using the equation p=po*exp(-(g/gc)*M*(deltaz/R*T))\n",
"p=po*%e^(-(g/gc)*M*(deltaz/(R*T)));\n",
"printf('\n\n p=%fTorr\n Thus, the pressure decrease for an elevation of 50ft is very small',p);"
   ]
   }
,
{
		   "cell_type": "markdown",
		   "metadata": {},
		   "source": [
			"## Example 7.22: variation_of_pressure_with_depth.sce"
		   ]
		  },
  {
"cell_type": "code",
	   "execution_count": null,
	   "metadata": {
	    "collapsed": true
	   },
	   "outputs": [],
"source": [
"clc;\n",
"warning('off');\n",
"printf('\n\n example7.22 - pg321');\n",
"// given\n",
"To=545.67;  //[degR] -  air temperature at beach level\n",
"betaa=-0.00357;  //[degR/ft] - constant\n",
"R=1545;  //[Torr*ft^3/degR*mole] - gas constant\n",
"M=29;\n",
"deltaz=25000;  //[ft]\n",
"// using the equation ln(p/po)=((M)/(R*betaa))*ln(To/(To+betaa*deltaz)\n",
"p=po*exp(((M)/(R*betaa))*log(To/(To+betaa*deltaz)));\n",
"printf('\n\n p=%fTorr',p);\n",
"// using the equation T=To+betaa*deltaz\n",
"T=To+betaa*deltaz;\n",
"printf('\n\n T=%fdegR',T);"
   ]
   }
,
{
		   "cell_type": "markdown",
		   "metadata": {},
		   "source": [
			"## Example 7.2: the_integral_mass_balance.sce"
		   ]
		  },
  {
"cell_type": "code",
	   "execution_count": null,
	   "metadata": {
	    "collapsed": true
	   },
	   "outputs": [],
"source": [
"clc;\n",
"warning('off');\n",
"printf('\n\n example7.2 - pg273');\n",
"// given\n",
"id=4;  //[m] - inside diameter\n",
"h=2;  //[m] - water level\n",
"ro=0.03;  //[m] - radius of exit hole\n",
"rt=id/2;  //[m] - inside radius\n",
"g=9.80665;  //[m/sec^2] - gravitational acceleration\n",
"// using the equation dh/h^(1/2)=-((ro^2)/(rt^2))*(2*g)^(1/2)dt and integrating between h=2 and h=1\n",
"t1=integrate('(1/h^(1/2))*(1/(-((ro^2)/(rt^2))*(2*g)^(1/2)))','h',2,1);\n",
"printf('\n\n Time required to remove half of the contents of the tank is \n t=%fsec=%fmin',t1,t1/60);\n",
"//integrating between h=2 and h=0\n",
"t2=integrate('(1/h^(1/2))*(1/(-((ro^2)/(rt^2))*(2*g)^(1/2)))','h',2,0);\n",
"printf('\n\n Time required to empty the tank fully is \n t=%fsec=%fmin',t2,t2/60);\n",
"\n",
""
   ]
   }
,
{
		   "cell_type": "markdown",
		   "metadata": {},
		   "source": [
			"## Example 7.3: integral_balance_on_an_individual_species.sce"
		   ]
		  },
  {
"cell_type": "code",
	   "execution_count": null,
	   "metadata": {
	    "collapsed": true
	   },
	   "outputs": [],
"source": [
"clc;\n",
"warning('off');\n",
"printf('\n\n example7.3 - pg274');\n",
"// given\n",
"// composition of fuel gas\n",
"nH2=24;\n",
"nN2=0.5;\n",
"nCO=5.9;\n",
"nH2S=1.5;\n",
"nC2H4=0.1;\n",
"nC2H6=1;\n",
"nCH4=64;\n",
"nCO2=3.0;\n",
"// calculating the theoritical amount of O2 required\n",
"nO2theoreq=12+2.95+2.25+0.30+3.50+128;\n",
"// since fuel gas is burned with 40% excess O2,then O2 required is\n",
"nO2req=1.4*nO2theoreq;\n",
"nair=nO2req/0.21;  // as amount of O2 in air is 21%\n",
"nN2air=nair*(0.79);  // as amount of N2 in air is 79%\n",
"nN2=nN2+nN2air;\n",
"nO2=nO2req-nO2theoreq;\n",
"nH2O=24+0+0.2+3.0+128;\n",
"nCO2formed=72.1;\n",
"nCO2=nCO2+nCO2formed;\n",
"nSO2=1.5;\n",
"ntotal=nSO2+nCO2+nO2+nN2+nH2O;\n",
"mpSO2=(nSO2/ntotal)*100;\n",
"mpCO2=(nCO2/ntotal)*100;\n",
"mpO2=(nO2/ntotal)*100;\n",
"mpN2=(nN2/ntotal)*100;\n",
"mpH2O=(nH2O/ntotal)*100;\n",
"printf('\n\n gas                            N2                O2             H2O         CO2           SO2');\n",
"printf('\n\n moles                       %f     %f      %f      %f    %f',nN2,nO2,nH2O,nCO2,nSO2);\n",
"printf('\n\n mole percent                  %f     %f      %f      %f    %f',mpN2,mpO2,mpH2O,mpCO2,mpSO2);\n",
"\n",
"\n",
"\n",
"\n",
"\n",
""
   ]
   }
,
{
		   "cell_type": "markdown",
		   "metadata": {},
		   "source": [
			"## Example 7.4: integral_momentum_balance.sce"
		   ]
		  },
  {
"cell_type": "code",
	   "execution_count": null,
	   "metadata": {
	    "collapsed": true
	   },
	   "outputs": [],
"source": [
"clc;\n",
"warning('off');\n",
"printf('\n\n example7.4 - pg280');\n",
"// given\n",
"id=6;  //[inch] - inlet diameter\n",
"od=4;  //[inch] - outlet diameter\n",
"Q=10;  //[ft^3/sec] - water flow rate\n",
"alpha2=%pi/3;  //[radians] - angle of reduction of elbow\n",
"alpha1=0;\n",
"p1=100;  //[psi] - absolute inlet pressure\n",
"p2=29;  //[psi] - absolute outlet pressure\n",
"S1=(%pi*((id/12)^2))/4;\n",
"S2=(%pi*((od/12)^2))/4;\n",
"U1=Q/S1;\n",
"U2=Q/S2;\n",
"mu=6.72*10^-4;  //[lb*ft^-1*sec^-1]\n",
"p=62.4;  //[lb/ft^3]\n",
"Nrei=((id/12)*U1*p)/(mu);\n",
"disp(Nrei,'Nre(inlet)=');\n",
"Nreo=((od/12)*U2*p)/(mu);\n",
"disp(Nreo,'Nre(outlet)=');\n",
"// thus\n",
"b=1;\n",
"w1=p*Q;  //[lb/sec] - mass flow rate\n",
"w2=w1;\n",
"gc=32.174;\n",
"// using the equation (w/gc)*((U1)*(cos(alpha1))-(U2)*(cos(alpha2)))+p1*S1*cos(alpha1)-p2*S2*cos(alpha2)+Fextx=0;\n",
"Fextx=-(w1/gc)*((U1)*(cos(alpha1))-(U2)*(cos(alpha2)))-p1*144*S1*cos(alpha1)+p2*144*S2*cos(alpha2);\n",
"disp(Fextx,'Fext,x=');\n",
"Fexty=-(w1/gc)*((U1)*(sin(alpha1))-(U2)*(sin(alpha2)))-p1*144*S1*sin(alpha1)+p2*144*S2*sin(alpha2);\n",
"disp(Fexty,'Fext,y=');\n",
"printf('\n\n the forces Fxt,x and Fext,y are the forces exerted on the fluid by the elbow.Fext,x acts to the left and Fext,y acts in the positive y direction.Note that the elbow is horizantal,and gravity acts in the z direction');\n",
"\n",
""
   ]
   }
,
{
		   "cell_type": "markdown",
		   "metadata": {},
		   "source": [
			"## Example 7.5: integral_momentum_balance.sce"
		   ]
		  },
  {
"cell_type": "code",
	   "execution_count": null,
	   "metadata": {
	    "collapsed": true
	   },
	   "outputs": [],
"source": [
"clc;\n",
"warning('off');\n",
"printf('\n\n example7.5 - pg 282');\n",
"// given\n",
"Fextx=-2522;  //[lb] - force in x direction\n",
"Fexty=2240;  //[lb] - force in y direction\n",
"// the force exerted by the elbow on the fluid is the resolution of Fext,x and Fext,y , therefore\n",
"Fext=((Fextx)^2+(Fexty)^2)^(1/2);\n",
"alpha=180+(atan(Fexty/Fextx))*(180/%pi);\n",
"printf('\n\n the force has a magnitude of %flb and a direction of %f from the positive x direction(in the second quadrant',Fext,alpha);\n",
"\n",
" "
   ]
   }
,
{
		   "cell_type": "markdown",
		   "metadata": {},
		   "source": [
			"## Example 7.6: integral_momentum_balance.sce"
		   ]
		  },
  {
"cell_type": "code",
	   "execution_count": null,
	   "metadata": {
	    "collapsed": true
	   },
	   "outputs": [],
"source": [
"clc;\n",
"warning('off');\n",
"printf('\n\n example7.6 - pg283');\n",
"// given\n",
"id=6;  //[inch] - inlet diameter\n",
"od=4;  //[inch] - outlet diameter\n",
"Q=10;  //[ft^3/sec] - water flow rate\n",
"alpha2=%pi/3;  //[radians] - angle of reduction of elbow\n",
"alpha1=0;\n",
"p1=100;  //[psi] - absolute inlet pressure\n",
"p2=29;  //[psi] - absolute outlet pressure\n",
"patm=14.7;  //[psi] - atmospheric pressure\n",
"p1gauge=p1-patm;\n",
"p2gauge=p2-patm;\n",
"S1=(%pi*((id/12)^2))/4;\n",
"S2=(%pi*((od/12)^2))/4;\n",
"U1=Q/S1;\n",
"U2=Q/S2;\n",
"p=62.4;  //[lb/ft^3]\n",
"b=1;\n",
"w1=p*Q;  //[lb/sec] - mass flow rate\n",
"w2=w1;\n",
"gc=32.174;\n",
"// using the equation Fpress=p1gauge*S1-p2gauge*S2*cos(alpha2);\n",
"Fpressx=p1gauge*144*S1-p2gauge*144*S2*cos(alpha2);\n",
"Fpressy=p1gauge*144*S1*sin(alpha1)-p2gauge*144*S2*sin(alpha2);\n",
"wdeltaUx=(w1/gc)*((U2)*(cos(alpha2))-(U1)*(cos(alpha1)));\n",
"wdeltaUy=(w1/gc)*((U2)*(sin(alpha2))-(U1)*(sin(alpha1)));\n",
"Fextx=wdeltaUx-Fpressx;\n",
"Fexty=wdeltaUy-Fpressy;\n",
"Fext=((Fextx)^2+(Fexty)^2)^(1/2);\n",
"alpha=180+(atan(Fexty/Fextx))*(180/%pi);\n",
"printf('\n\n The force has a magnitude of %flb and a direction of %f from the positive x direction(in the second quadrant',Fext,alpha);\n",
"printf('\n\n Also there is a force on the elbow in the z direction owing to the weight of the elbow plus the weight of the fluid inside');\n",
"\n",
"\n",
"\n",
"\n",
"\n",
"\n",
""
   ]
   }
,
{
		   "cell_type": "markdown",
		   "metadata": {},
		   "source": [
			"## Example 7.7: integral_energy_balance.sce"
		   ]
		  },
  {
"cell_type": "code",
	   "execution_count": null,
	   "metadata": {
	    "collapsed": true
	   },
	   "outputs": [],
"source": [
"clc;\n",
"warning('off');\n",
"printf('\n\n example7.7 - pg293');\n",
"// given\n",
"Uo=1;  //[m/sec]\n",
"// using Ux/Uo=y/yo\n",
"// assuming any particular value of yo will not change the answer,therefore\n",
"yo=1;\n",
"Uxavg=integrate('(Uo*y)/yo','y',0,yo);\n",
"Ux3avg=integrate('((Uo*y)/yo)^3','y',0,yo);\n",
"// using the formula alpha=(Uxavg)^3/Ux3avg\n",
"alpha=(Uxavg)^3/Ux3avg;\n",
"disp(alpha,'alpha=');\n",
"printf('\n\n Note that the kinetic correction factor  alpha has the same final value for laminar pipe flow as it has for laminar flow between parallel plates.');\n",
""
   ]
   }
,
{
		   "cell_type": "markdown",
		   "metadata": {},
		   "source": [
			"## Example 7.8: integral_energy_balance.sce"
		   ]
		  },
  {
"cell_type": "code",
	   "execution_count": null,
	   "metadata": {
	    "collapsed": true
	   },
	   "outputs": [],
"source": [
"clc;\n",
"warning('off');\n",
"printf('\n\n example7.8 - pg293');\n",
"// given\n",
"Q=0.03;  //[m^3/sec] - volumetric flow rate\n",
"id=7;  //[cm] - inside diameter\n",
"deltaz=-7;  //[m] - length of pipe\n",
"T1=25;  //[degC] - lowere side temperature\n",
"T2=45;  //[degC] - higher side temperature\n",
"g=9.81;  //[m/sec^2] - acceleration due to gravity\n",
"deltaP=4*10^4;  //[N/m^2] - pressure loss due to friction\n",
"p=1000;  //[kg/m^3] - density of water \n",
"w=Q*p;\n",
"C=4184;  //[J/kg*K) - heat capacity of water\n",
"deltaH=w*C*(T2-T1);\n",
"// using the formula Qh=deltaH+w*g*deltaz\n",
"Qh=deltaH+w*g*deltaz;\n",
"printf('\n\n the duty on heat exchanger is \n Q=%6eJ/sec',Qh);"
   ]
   }
],
"metadata": {
		  "kernelspec": {
		   "display_name": "Scilab",
		   "language": "scilab",
		   "name": "scilab"
		  },
		  "language_info": {
		   "file_extension": ".sce",
		   "help_links": [
			{
			 "text": "MetaKernel Magics",
			 "url": "https://github.com/calysto/metakernel/blob/master/metakernel/magics/README.md"
			}
		   ],
		   "mimetype": "text/x-octave",
		   "name": "scilab",
		   "version": "0.7.1"
		  }
		 },
		 "nbformat": 4,
		 "nbformat_minor": 0
}
