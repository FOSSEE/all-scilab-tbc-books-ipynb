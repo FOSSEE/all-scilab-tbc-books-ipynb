{
"cells": [
 {
		   "cell_type": "markdown",
	   "metadata": {},
	   "source": [
       "# Chapter 5: transport with a net convective flux"
	   ]
	},
{
		   "cell_type": "markdown",
		   "metadata": {},
		   "source": [
			"## Example 5.10: total_flux_and_ficks_law.sce"
		   ]
		  },
  {
"cell_type": "code",
	   "execution_count": null,
	   "metadata": {
	    "collapsed": true
	   },
	   "outputs": [],
"source": [
"clc;\n",
"warning('off');\n",
"printf('\n\n example5.10 - pg171');\n",
"// given (from example 5.9)\n",
"na=2;  // moles of a\n",
"nb=3;  // moles of b\n",
"nc=4;  // moles of c\n",
"mma=2;  //molecular weight of a\n",
"mmb=3;  //molecular weight of b\n",
"mmc=4;  //molecular weight of c\n",
"ma=na*mma;  //[g] weight of a\n",
"mb=nb*mmb;  //[g] weight of b\n",
"mc=nc*mmc;  //[g] weight of c\n",
"NabyA=2+2;  //[mol/cm^2*s] - molar flux = diffusing flux +convected flux\n",
"NbbyA=-1+3;  //[mol/cm^2*s] - molar flux = diffusing flux +convected flux\n",
"NcbyA=0+4;  //[mol/cm^2*s] - molar flux = diffusing flux +convected flux\n",
"NtbyA=NabyA+NbbyA+NcbyA;  //[mol/cm^2*s] - total molar flux\n",
"// on a mass basis,these corresponds to\n",
"nabyA=4+4;  //[g/cm^2*s]; - mass flux = diffusing flux +convected flux\n",
"nbbyA=-3+9;  //[g/cm^2*s]; - mass flux = diffusing flux +convected flux\n",
"ncbyA=0+16;  //[g/cm^2*s]; - mass flux = diffusing flux +convected flux\n",
"// concentrations are expressed in molar basis\n",
"CA=na/vol;  //[mol/cm^3]\n",
"CB=nb/vol;  //[mol/cm^3]\n",
"CC=nc/vol;  //[mol/cm^3]\n",
"CT=CA+CB+CC;  //[mol/cm^3] - total concentration\n",
"// densities are on a mass basis\n",
"pa=ma/vol;  //[g/cm^3]\n",
"pb=mb/vol;  //[g/cm^3]\n",
"pc=mc/vol;  //[g/cm^3]\n",
"Ua=NabyA/CA;  //[cm/sec];\n",
"Ub=NbbyA/CB;  //[cm/sec];\n",
"Uc=NcbyA/CC;  //[cm/sec];\n",
"U=(pa*Ua+pb*Ub+pc*Uc)/(pa+pb+pc);\n",
"Ustar=(NtbyA/CT);\n",
"// the fluxes relative to mass average velocities are found as follows\n",
"JabyA=CA*(Ua-U);  //[mol/cm^2*sec]\n",
"JbbyA=CB*(Ub-U);  //[mol/cm^2*sec]\n",
"JcbyA=CC*(Uc-U);  //[mol/cm^2*sec]\n",
"printf('\n\n fluxes relative to mass average velocities are-');\n",
"printf('\n\n Ja/A=%fmol/cm^2*sec',JabyA);\n",
"printf('\n Jb/A=%fmol/cm^2*sec',JbbyA);\n",
"printf('\n Jc/A=%fmol/cm^2*sec',JcbyA);\n",
"jabyA=pa*(Ua-U);  //[g/cm^2*sec]\n",
"jbbyA=pb*(Ub-U);  //[g/cm^2*sec]\n",
"jcbyA=pc*(Uc-U);  //[g/cm^2*sec]\n",
"printf('\n\n ja/A=%fg/cm^2*sec',jabyA);\n",
"printf('\n jb/A=%fg/cm^2*sec',jbbyA);\n",
"printf('\n jc/A=%fg/cm^2*sec',jcbyA);\n",
"// the fluxes relative to molar average velocity are found as follows\n",
"JastarbyA=CA*(Ua-Ustar);  //[mol/cm^2*sec]\n",
"JbstarbyA=CB*(Ub-Ustar);  //[mol/cm^2*sec]\n",
"JcstarbyA=CC*(Uc-Ustar);  //[mol/cm^2*sec]\n",
"printf('\n\n fluxes relative to molar average velocities are-');\n",
"printf('\n\n Ja*/A=%fmol/cm^2*sec',JastarbyA);\n",
"printf('\n Jb*/A=%fmol/cm^2*sec',JbstarbyA);\n",
"printf('\n Jc*/A=%fmol/cm^2*sec',JcstarbyA);\n",
"jastarbyA=pa*(Ua-Ustar);  //[g/cm^2*sec]\n",
"jbstarbyA=pb*(Ub-Ustar);  //[g/cm^2*sec]\n",
"jcstarbyA=pc*(Uc-Ustar);  //[g/cm^2*sec]\n",
"printf('\n\n ja*/A=%fg/cm^2*sec',jastarbyA);\n",
"printf('\n jb*/A=%fg/cm^2*sec',jbstarbyA);\n",
"printf('\n jc*/A=%fg/cm^2*sec',jcstarbyA);\n",
""
   ]
   }
,
{
		   "cell_type": "markdown",
		   "metadata": {},
		   "source": [
			"## Example 5.11: binary_mass_diffusion_in_gases.sce"
		   ]
		  },
  {
"cell_type": "code",
	   "execution_count": null,
	   "metadata": {
	    "collapsed": true
	   },
	   "outputs": [],
"source": [
"clc;\n",
"warning('off');\n",
"printf('\n\n example5.11 - pg176');\n",
"// given\n",
"T=0+273.15;  //[K] - temperature in Kelvins\n",
"pa2=1.5;  //[atm] - partial presuure of a at point2\n",
"pa1=0.5;  //[atm] - partial pressure of a at point 1\n",
"z2=20;  //[cm] - position of point 2 from reference point\n",
"z1=0;  //[cm] - position of point1 from reference point\n",
"p=2;  //[atm] - total pressure\n",
"d=1;  //[cm] - diameter\n",
"D=0.275;  //[cm^2/sec] - diffusion coefficient\n",
"A=(%pi*((d)^2))/4;\n",
"R=0.082057;  //[atm*m^3*kmol^-1*K^-1] - gas constant\n",
"// (a) using the formula Na/A=-(D/(R*T))*((pa2-pa1)/(z2-z1))\n",
"Na=(-(D/(R*T))*((pa2-pa1)/(z2-z1)))*(A)/(10^6);\n",
"printf('\n\n Na=%ekmol/sec\n The negative sign indicates diffusion from point 2 to point 1',Na);\n",
"pb2=p-pa2;\n",
"pb1=p-pa1;\n",
"// (b) using the formula Na/A=((D*p)/(R*T*(z2-z1)))*ln(pb2/pb1)\n",
"Na=(((D*p)/(R*T*(z2-z1)))*log(pb2/pb1))*(A)/(10^6);\n",
"printf('\n\n Na=%ekmol/sec',Na);\n",
"printf('\n The induced velocity increases the net transport of A by the ratio of 10.6*10^-10 to 4.82*10^-10 or 2.2 times.This increse is equivalent to 120 percent');"
   ]
   }
,
{
		   "cell_type": "markdown",
		   "metadata": {},
		   "source": [
			"## Example 5.12: binary_mass_diffusion_in_gases.sce"
		   ]
		  },
  {
"cell_type": "code",
	   "execution_count": null,
	   "metadata": {
	    "collapsed": true
	   },
	   "outputs": [],
"source": [
"clc;\n",
"warning('off');\n",
"printf('\n\n example5.12 - pg178');\n",
"// given\n",
"T=0+273.15;  //[K] - temperature in Kelvins\n",
"pa2=1.5;  //[atm] - partial presuure of a at point2\n",
"pa1=0.5;  //[atm] - partial pressure of a at point 1\n",
"z2=20;  //[cm] - position of point 2 from reference point\n",
"z1=0;  //[cm] - position of point1 from reference point\n",
"p=2;  //[atm] - total pressure\n",
"d=1;  //[cm] - diameter\n",
"D=0.275;  //[cm^2/sec] - diffusion coefficient\n",
"A=(%pi*((d)^2))/4;\n",
"R=0.082057;  //[atm*m^3*kmol^-1*K^-1] - gas constant\n",
"k=0.75;\n",
"// using the formula (Na/A)=-(D/(R*T*(z2-z1)))*ln((1-(pa2/p)*(1-k))/(1-(pa1/p)*(1-k)))\n",
"NabyA=-(D/(R*T*(z2-z1)))*(2*0.7854)*log((1-(pa2/p)*(1-k))/(1-(pa1/p)*(1-k)))/(10^6);\n",
"printf('\n\n (Na/A)=%ekmol/sec',NabyA);\n",
"printf('\n Note that this answer is larger than the rate for equimolar counter diffusion but smaller tahn the rate for diffusion through a stagnant film.Sometimes the rate for diffusin through a stagnant film can be considered as an upper bound, if k ties between zero and one');\n",
""
   ]
   }
,
{
		   "cell_type": "markdown",
		   "metadata": {},
		   "source": [
			"## Example 5.13: diffusion_due_to_pressure_gradient.sce"
		   ]
		  },
  {
"cell_type": "code",
	   "execution_count": null,
	   "metadata": {
	    "collapsed": true
	   },
	   "outputs": [],
"source": [
"clc;\n",
"warning('off');\n",
"printf('\n\n example5.13 - pg184');\n",
"// given\n",
"l=4;  //[m] - length of the tube\n",
"id=1.6*10^-3;  //[m] - inside diameter\n",
"Nkn=10;  // - knudsen no.\n",
"Ma=92;  // - molecular weight of gas\n",
"mu=6.5*10^-4;  //[kg/m*sec] - viscosity\n",
"T=300;  //[K] - temperature\n",
"R=8314;  //[kPa*m^3*kmol^-1*K^-1] - gas constant\n",
"lambdaA=Nkn*id;  //[m] mean free path\n",
"// for calculating pressure using the formula lamdaA=32*(mu/p)*((R*T)/(2*pi*Ma))^(1/2)\n",
"p=32*(mu/lambdaA)*((R*T)/(2*%pi*Ma))^(1/2);\n",
"patm=p/(1.01325*10^5);\n",
"printf('\n\n p=%fkg/m*sec^2=%fPa=%eatm',p,p,patm);\n",
"printf('\n The value of 10 for the knudsen number is on the border between Knudsen diffusion and transition flow');\n",
"\n",
"\n",
""
   ]
   }
,
{
		   "cell_type": "markdown",
		   "metadata": {},
		   "source": [
			"## Example 5.9: mass_fluxes_in_stationary_and_convected_coordinates.sce"
		   ]
		  },
  {
"cell_type": "code",
	   "execution_count": null,
	   "metadata": {
	    "collapsed": true
	   },
	   "outputs": [],
"source": [
"clc;\n",
"warning('off');\n",
"printf('\n\n example5.9 - pg166');\n",
"// given\n",
"v=1;  //[cm/sec] - volume velocity or bulk velocity\n",
"vol=1;  //[cm^3] - volume\n",
"na=2;  // moles of a\n",
"nb=3;  // moles of b\n",
"nc=4;  // moles of c\n",
"mma=2;  //molecular weight of a\n",
"mmb=3;  //molecular weight of b\n",
"mmc=4;  //molecular weight of c\n",
"ma=na*mma;  //[g] weight of a\n",
"mb=nb*mmb;  //[g] weight of b\n",
"mc=nc*mmc;  //[g] weight of c\n",
"NabyA=2+2;  //[mol/cm^2*s] - molar flux = diffusing flux +convected flux\n",
"NbbyA=-1+3;  //[mol/cm^2*s] - molar flux = diffusing flux +convected flux\n",
"NcbyA=0+4;  //[mol/cm^2*s] - molar flux = diffusing flux +convected flux\n",
"NtbyA=NabyA+NbbyA+NcbyA;  //[mol/cm^2*s] - total molar flux\n",
"// on a mass basis,these corresponds to\n",
"nabyA=4+4;  //[g/cm^2*s]; - mass flux = diffusing flux +convected flux\n",
"nbbyA=-3+9;  //[g/cm^2*s]; - mass flux = diffusing flux +convected flux\n",
"ncbyA=0+16;  //[g/cm^2*s]; - mass flux = diffusing flux +convected flux\n",
"ntbyA=nabyA+nbbyA+ncbyA;  //[g/cm^2*s] - total mass flux\n",
"// concentrations are expressed in molar basis\n",
"CA=na/vol;  //[mol/cm^3]\n",
"CB=nb/vol;  //[mol/cm^3]\n",
"CC=nc/vol;  //[mol/cm^3]\n",
"CT=CA+CB+CC;  //[mol/cm^3] - total concentration\n",
"// densities are on a mass basis\n",
"pa=ma/vol;  //[g/cm^3]\n",
"pb=mb/vol;  //[g/cm^3]\n",
"pc=mc/vol;  //[g/cm^3]\n",
"pt=pa+pb+pc;  //[g/cm^3]\n",
"Ua=NabyA/CA;  //[cm/sec];\n",
"Ub=NbbyA/CB;  //[cm/sec];\n",
"Uc=NcbyA/CC;  //[cm/sec];\n",
"// the same result will be obtained from dividing mass flux by density\n",
"Uz=(pa*Ua+pb*Ub+pc*Uc)/(pa+pb+pc);\n",
"printf('\n\n Uz=%fcm/sec',Uz);\n",
"Uzstar=(NtbyA/CT);\n",
"printf('\n\n Uz*=%fcm/sec',Uzstar);\n",
"printf('\n\n for this example both Uz and Uz* are slightly greater than the volume velocity of 1cm/sec, because there is a net molar and mass diffusion in the positive direction.');\n",
" \n",
"\n",
"\n",
"\n",
"\n",
"\n",
""
   ]
   }
],
"metadata": {
		  "kernelspec": {
		   "display_name": "Scilab",
		   "language": "scilab",
		   "name": "scilab"
		  },
		  "language_info": {
		   "file_extension": ".sce",
		   "help_links": [
			{
			 "text": "MetaKernel Magics",
			 "url": "https://github.com/calysto/metakernel/blob/master/metakernel/magics/README.md"
			}
		   ],
		   "mimetype": "text/x-octave",
		   "name": "scilab",
		   "version": "0.7.1"
		  }
		 },
		 "nbformat": 4,
		 "nbformat_minor": 0
}
