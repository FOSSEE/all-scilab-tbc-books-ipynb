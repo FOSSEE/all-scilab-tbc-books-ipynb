{
"cells": [
 {
		   "cell_type": "markdown",
	   "metadata": {},
	   "source": [
       "# Chapter 14: estimation of transport coefficients"
	   ]
	},
{
		   "cell_type": "markdown",
		   "metadata": {},
		   "source": [
			"## Example 14.1: kinetic_theory_of_gases.sce"
		   ]
		  },
  {
"cell_type": "code",
	   "execution_count": null,
	   "metadata": {
	    "collapsed": true
	   },
	   "outputs": [],
"source": [
"clc;\n",
"warning('off');\n",
"printf('\n\n example14.1 - pg726');\n",
"// given\n",
"T=40+273.15;  //[K] - temperature\n",
"P=1;  //[atm] - pressure\n",
"sigma=3.711*10^-10;  //[m]\n",
"etadivkb=78.6;  //[K]\n",
"A=1.16145;\n",
"B=0.14874;\n",
"C=0.52487;\n",
"D=0.77320;\n",
"E=2.16178;\n",
"F=2.43787;\n",
"Tstar=T/(etadivkb);\n",
"// using the formula si=(A/(Tstar^B))+(C/exp(D*Tstar))+(E/exp(F*Tstar)\n",
"si=(A/(Tstar^B))+(C/exp(D*Tstar))+(E/exp(F*Tstar));\n",
"M=28.966;  //[kg/mole] - molecular weight\n",
"// using the formula mu=(2.6693*(10^-26))*(((M*T)^(1/2))/((sigma^2)*si))\n",
"mu=(2.6693*(10^-26))*(((M*T)^(1/2))/((sigma^2)*si));\n",
"printf('\n\n The viscosity of air is \n mu=%eNs/m^2=%fcp',mu,mu*10^3);"
   ]
   }
,
{
		   "cell_type": "markdown",
		   "metadata": {},
		   "source": [
			"## Example 14.2: non_uniform_gas_theory.sce"
		   ]
		  },
  {
"cell_type": "code",
	   "execution_count": null,
	   "metadata": {
	    "collapsed": true
	   },
	   "outputs": [],
"source": [
"clc;\n",
"warning('off');\n",
"printf('\n\n example14.2.sce - pg726');\n",
"T=40+273.15;  //[K] - temperature\n",
"P=1;  //[atm] - pressure\n",
"// thermal conductivit of air\n",
"sigma=3.711*10^-10;  //[m]\n",
"etadivkb=78.6;  //[K]\n",
"A=1.16145;\n",
"B=0.14874;\n",
"C=0.52487;\n",
"D=0.77320;\n",
"E=2.16178;\n",
"F=2.43787;\n",
"Tstar=T/(etadivkb);\n",
"// using the formula si=(A/(Tstar^B))+(C/exp(D*Tstar))+(E/exp(F*Tstar)\n",
"si=(A/(Tstar^B))+(C/exp(D*Tstar))+(E/exp(F*Tstar));\n",
"// using the formula K=(8.3224*(10^-22))*(((T/M)^(1/2))/((sigma^2)*si))\n",
"M=28.966;  //[kg/mole] - molecular weight of air\n",
"k=(8.3224*(10^-22))*(((T/M)^(1/2))/((sigma^2)*si));\n",
"printf('\n\n Thermal conductivity of air is \n k=%fW/m*K',k);\n",
"printf('\n\n Agreement between this value and original value is p[oor;the Chapman-Enskog theory is in erreo when applied to thermal conductivity of polyatomic gases');\n",
"// thermal conductivity of argon \n",
"sigma=3.542*10^-10;  //[m]\n",
"etadivkb=93.3;  //[K]\n",
"A=1.16145;\n",
"B=0.14874;\n",
"C=0.52487;\n",
"D=0.77320;\n",
"E=2.16178;\n",
"F=2.43787;\n",
"Tstar=T/(etadivkb);\n",
"// using the formula si=(A/(Tstar^B))+(C/exp(D*Tstar))+(E/exp(F*Tstar)\n",
"si=(A/(Tstar^B))+(C/exp(D*Tstar))+(E/exp(F*Tstar));\n",
"// using the formula K=(8.3224*(10^-22))*(((T/M)^(1/2))/((sigma^2)*si))\n",
"M=39.948;  //[kg/mole] - molecular weight of argon\n",
"k=(8.3224*(10^-22))*(((T/M)^(1/2))/((sigma^2)*si));\n",
"printf('\n\n Thermal conductivity of argon is \n k=%fW/m*K',k);\n",
"printf('\n\n The thermal conductivity from Chapman-Enskog theory agrees closely with the experimental value of 0.0185; note that argon is a monoatomic gas');\n",
""
   ]
   }
,
{
		   "cell_type": "markdown",
		   "metadata": {},
		   "source": [
			"## Example 14.3: non_uniform_gas_theory.sce"
		   ]
		  },
  {
"cell_type": "code",
	   "execution_count": null,
	   "metadata": {
	    "collapsed": true
	   },
	   "outputs": [],
"source": [
"clc;\n",
"warning('off');\n",
"printf('\n\n example14.3 - pg727');\n",
"T=40+273.15;  //[K] - temperature\n",
"P=1;  //[atm] - pressure\n",
"Cp=1005;  //[J/kg*K] - heat capacity \n",
"M=28.966;  //[kg/mole] - molecular weight\n",
"R=8314.3;  //[atm*m^3/K*mole] - gas constant\n",
"// using the formula Cv=Cp-R/M\n",
"Cv=Cp-R/M;\n",
"y=Cp/Cv;\n",
"mu=19.11*10^-6;  //[kg/m*sec] - viscosity of air \n",
"// using the original Eucken correlation\n",
"k_original=mu*(Cp+(5/4)*(R/M));\n",
"printf('\n\n From the original Eucken correlation\n k=%fW/m*K',k_original);\n",
"// using the modified Eucken correlation\n",
"k_modified=mu*(1.32*(Cp/y)+(1.4728*10^4)/M);\n",
"printf('\n\n From the modified Eucken correlation \n k=%fW/m*K',k_modified);\n",
"printf('\n\n As discussed, the value from the modified Eucken equation is highre than the experimental value(0.02709), and the value predicted by the original Eucken equation is lower than the experimental value , each being about 3 percent different, in this case');\n",
""
   ]
   }
,
{
		   "cell_type": "markdown",
		   "metadata": {},
		   "source": [
			"## Example 14.4: non_uniform_gas_theory.sce"
		   ]
		  },
  {
"cell_type": "code",
	   "execution_count": null,
	   "metadata": {
	    "collapsed": true
	   },
	   "outputs": [],
"source": [
"clc;\n",
"warning('off');\n",
"printf('\n\n example14.4 - pg728');\n",
"// given\n",
"D=7.66*10^-5;  //[m^2/sec] - diffusion coefficient of the helium nitrogen\n",
"P=1;  //[atm] - pressure\n",
"// (a) using the Chapman-Enskog\n",
"T(1)=323;  //[K]\n",
"T(2)=413;  //[K]\n",
"T(3)=600;  //[K]\n",
"T(4)=900;  //[K]\n",
"T(5)=1200;  //[K]\n",
"Ma=4.0026;\n",
"sigma_a=2.551*10^-10;  //[m]\n",
"etaabykb=10.22;  //[K]\n",
"Mb=28.016;\n",
"sigma_b=3.798*10^-10;  //[m] \n",
"etabbykb=71.4;  //[K]\n",
"sigma_ab=(1/2)*(sigma_a+sigma_b);\n",
"etaabbykb=(etaabykb*etabbykb)^(1/2);\n",
"Tstar=T/(etaabbykb);\n",
"siD=[0.7205;0.6929;0.6535;0.6134;0.5865];\n",
"patm=1;\n",
"// using the formula Dab=1.8583*10^-27*(((T^3)*((1/Ma)+(1/Mb)))^(1/2))/(patm*sigma_ab*siD)\n",
"Dab=(1.8583*(10^-(27))*(((T^3)*((1/Ma)+(1/Mb)))^(1/2)))/(patm*(sigma_ab^(2))*siD)\n",
"printf('\n\n (a)');\n",
"for i=1:5;\n",
"    printf('\n at T=%fK;Dab=%em^2/sec',T(i),Dab(i));\n",
"end\n",
"// (b) using experimental diffusion coefficient and Chapman-Enskog equation\n",
"for i=1:4\n",
"    D(i+1)=D(1)*((T(i+1)/T(1))^(3/2))*(siD(1)/(siD(i+1)));\n",
"end\n",
"printf('\n\n (b)');\n",
"for i=1:5;\n",
"    printf('\n at T=%fK;Dab=%em^2/sec',T(i),Dab(i));\n",
"end\n",
"// (c)\n",
"for i=1:4\n",
"    Dab(i+1)=D(1)*(T(i+1)/T(1))^(1.75);\n",
"end\n",
"printf('\n\n (c)');\n",
"for i=1:5;\n",
"    printf('\n at T=%fK;Dab=%em^2/sec',T(i),Dab(i));\n",
"end\n",
"\n",
"\n",
""
   ]
   }
,
{
		   "cell_type": "markdown",
		   "metadata": {},
		   "source": [
			"## Example 14.5: non_uniform_gas_theory.sce"
		   ]
		  },
  {
"cell_type": "code",
	   "execution_count": null,
	   "metadata": {
	    "collapsed": true
	   },
	   "outputs": [],
"source": [
"clc;\n",
"warning('off');\n",
"printf('\n\n example14.5 - pg730');\n",
"// given\n",
"T=323;  //[K] - temperature\n",
"P=1;  //[atm] - pressure\n",
"Dab_experimental=7.7*10^-6;  //[m^2/sec]\n",
"DPM_A=1.9;  // dipole moment of methyl chloride\n",
"DPM_B=1.6;  // dipole moment of sulphur dioxide\n",
"Vb_A=5.06*10^-2;  // liquid molar volume of methyl chloride\n",
"Vb_B=4.38*10^-2\n",
"Tb_A=249;  // normal boiling point of methyl chloride\n",
"Tb_B=263;  // normal boiling point of sulphur dioxide\n",
"del_A=((1.94)*(DPM_A)^2)/(Vb_A*Tb_A);\n",
"del_B=((1.94)*(DPM_B)^2)/(Vb_B*Tb_B);\n",
"del_AB=(del_A*del_B)^(1/2);\n",
"sigma_A=(1.166*10^-9)*(((Vb_A)/(1+1.3*(del_A)^2))^(1/3));\n",
"sigma_B=(1.166*10^-9)*(((Vb_B)/(1+1.3*(del_B)^2))^(1/3));\n",
"etaabykb=(1.18)*(1+1.3*(del_A^2))*(Tb_A);\n",
"etabbykb=(1.18)*(1+1.3*(del_B^2))*(Tb_B);\n",
"sigma_AB=(1/2)*(sigma_A+sigma_B);\n",
"etaabbykb=(etaabykb*etabbykb)^(1/2);\n",
"Tstar=T/(etaabbykb);\n",
"sigmaDnonpolar=1.602;\n",
"sigmaDpolar=sigmaDnonpolar+(0.19*(del_AB^2))/Tstar;\n",
"patm=1;\n",
"Ma=50.488;  //[kg/mole] - molecular weight of methyl chloride\n",
"Mb=64.063;  //[kg/mole] - molecular weight of sulphur dioxide \n",
"D_AB=(1.8583*(10^-(27))*(((T^3)*((1/Ma)+(1/Mb)))^(1/2)))/(patm*(sigma_AB^(2))*sigmaDpolar);\n",
"printf('\n\n Dab=%em^2/sec',D_AB);\n",
"printf('\n\n The Chapman Enskog prediction is about 8 percent higher');\n",
""
   ]
   }
,
{
		   "cell_type": "markdown",
		   "metadata": {},
		   "source": [
			"## Example 14.6: empirical_correlations_for_gases.sce"
		   ]
		  },
  {
"cell_type": "code",
	   "execution_count": null,
	   "metadata": {
	    "collapsed": true
	   },
	   "outputs": [],
"source": [
"clc;\n",
"warning('off');\n",
"printf('\n\n example14.6 - pg732');\n",
"// given\n",
"T=423.2;  //[K] - temperature\n",
"P=5;  //[atm] - pressure\n",
"Ma=4.0026;  //[kg/mole] - molecular weight of helium\n",
"Mb=60.09121;  //[kg/mole] - molecular weight of propanol\n",
"Dab_experimental=1.352*10^-5;  //[m^2/sec] - experimental value of diffusion coefficient of helium-proponal system\n",
"// the diffusion volumes for carbon , hydrogen and oxygen are-\n",
"Vc=16.5;\n",
"Vh=1.98;\n",
"Vo=5.48;\n",
"V_A=3*Vc+8*Vh+Vo;\n",
"V_B=2.88;\n",
"patm=5;\n",
"// using the FSG correlation\n",
"Dab=(10^-7)*(((T^1.75)*((1/Ma)+(1/Mb))^(1/2))/(patm*((V_A)^(1/3)+(V_B)^(1/3))^2));\n",
"printf('\n\n Dab=%em^2/sec',Dab);\n",
"printf('\n\n The FSG correlation agrees to about 2 percent with the experimental value');"
   ]
   }
,
{
		   "cell_type": "markdown",
		   "metadata": {},
		   "source": [
			"## Example 14.7: viscosity.sce"
		   ]
		  },
  {
"cell_type": "code",
	   "execution_count": null,
	   "metadata": {
	    "collapsed": true
	   },
	   "outputs": [],
"source": [
"clc;\n",
"warning('off');\n",
"printf('\n\n example14.7 - pg736');\n",
"// given\n",
"beta0=-6.301289;\n",
"beta1=1853.374;\n",
"clf;\n",
"xtitle('Temperature variation of the viscosity of water','(1/T)*10^3,K^-1','viscosity,cP');\n",
"x=[2.2,0.2,3.8]';\n",
"y=[(beta0+beta1*x)];\n",
"plot2d(x,y);\n",
"// at T=420;\n",
"T=420;  //[K]\n",
"x=1/T;\n",
"y=beta0+beta1*x;\n",
"mu=exp(y);\n",
"printf('\n\n mu=%fcP',mu);\n",
"printf('\n\n The error is seen to be 18 percent.AT midrange 320(K), the error is approximately 4 percent');\n",
"\n",
""
   ]
   }
,
{
		   "cell_type": "markdown",
		   "metadata": {},
		   "source": [
			"## Example 14.8: thermal_conductivity.sce"
		   ]
		  },
  {
"cell_type": "code",
	   "execution_count": null,
	   "metadata": {
	    "collapsed": true
	   },
	   "outputs": [],
"source": [
"clc;\n",
"warning('off');\n",
"printf('\n\n example14.8 - pg737');\n",
"// given\n",
"M=153.82;  //[kg/mole] - molecular weight of ccl4\n",
"T1=349.90;  //[K] - temperature1\n",
"T2=293.15;  //[K] - temperature 2\n",
"cp1=0.9205;  //[KJ/kg*K] - heat capacity at temperature T1\n",
"cp2=0.8368;  //[KJ/kg*K] - heat capacity at temperature T2\n",
"p1=1480;  //[kg/m^3] - density at temperature T1\n",
"p2=1590;  //[kg/m^3] - density at temperature T2\n",
"Tb=349.90;  //[K] - normal boiling point\n",
"pb=1480;  //[kg/m^3] - density at normal boiling point\n",
"cpb=0.9205;  //[KJ/kg*K] - heat capacity at normal boiling point\n",
"k1=(1.105/(M^(1/2)))*(cp1/cpb)*((p1/pb)^(4/3))*(Tb/T1);\n",
"printf('\n\n The estimated thermal conductivity at normal boiling point is \n k=%f W*m^-1*K^-1',k1);\n",
"k2=(1.105/(M^(1/2)))*(cp2/cpb)*((p2/pb)^(4/3))*(Tb/T2);\n",
"printf('\n\n The estimated thermal conductivity at temperature %f K is \n k=%f W*m^-1*K^-1',T2,k2);\n",
"printf('\n\n The estimated value is 3.4 percent higher than the experimental value of 0.1029 W*m^-1*K^-1');\n",
""
   ]
   }
,
{
		   "cell_type": "markdown",
		   "metadata": {},
		   "source": [
			"## Example 14.9: diffusion_coefficient.sce"
		   ]
		  },
  {
"cell_type": "code",
	   "execution_count": null,
	   "metadata": {
	    "collapsed": true
	   },
	   "outputs": [],
"source": [
"clc;\n",
"warning('off');\n",
"printf('\n\n example14.9 - pg743');\n",
"// given\n",
"T=288;  //[K] - temperature\n",
"M1=60.09;  //[kg/mole] - molecular weight of proponal\n",
"M2=18.015;  //[kg/mole] - molecular weight of water\n",
"mu1=2.6*10^-3;  //[kg/m*sec] - viscosity of proponal\n",
"mu2=1.14*10^-3;  //[kg/m*sec] - viscosity of water\n",
"Vc=14.8*10^-3;  //[m^3/kmol] - molar volume of carbon\n",
"Vh=3.7*10^-3;  //[m^3/kmol] - mlar volume of hydrogen\n",
"Vo=7.4*10^-3;  //[m^3/kmol] - molar volume of  oxygen\n",
"Vp=3*Vc+8*Vh+Vo;  // molar volume of proponal\n",
"phi=2.26;  // association factor for diffusion of proponal through water\n",
"Dab=(1.17*10^-16*(T)*(phi*M2)^(1/2))/(mu2*(Vp^0.6));\n",
"printf('\n\n The diffusion coefficient of proponal through water is \n Dab=%e m^2/sec',Dab);\n",
"phi=1.5;  // association factor for diffusion of water through proponal\n",
"Vw=2*Vh+Vo;  //[molar volume of water\n",
"Dab=(1.17*10^-16*(T)*(phi*M1)^(1/2))/(mu1*(Vw^0.6));\n",
"printf('\n\n The diffusion coefficient of water through propanol is \n Dab=%e m^2/sec',Dab);"
   ]
   }
],
"metadata": {
		  "kernelspec": {
		   "display_name": "Scilab",
		   "language": "scilab",
		   "name": "scilab"
		  },
		  "language_info": {
		   "file_extension": ".sce",
		   "help_links": [
			{
			 "text": "MetaKernel Magics",
			 "url": "https://github.com/calysto/metakernel/blob/master/metakernel/magics/README.md"
			}
		   ],
		   "mimetype": "text/x-octave",
		   "name": "scilab",
		   "version": "0.7.1"
		  }
		 },
		 "nbformat": 4,
		 "nbformat_minor": 0
}
