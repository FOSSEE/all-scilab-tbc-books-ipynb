{
"cells": [
 {
		   "cell_type": "markdown",
	   "metadata": {},
	   "source": [
       "# Chapter 6: flow turbulence"
	   ]
	},
{
		   "cell_type": "markdown",
		   "metadata": {},
		   "source": [
			"## Example 6.1: the_reynolds_experiment.sce"
		   ]
		  },
  {
"cell_type": "code",
	   "execution_count": null,
	   "metadata": {
	    "collapsed": true
	   },
	   "outputs": [],
"source": [
"clc;\n",
"warning('off');\n",
"printf('\n\n example6.1 - pg200');\n",
"// given\n",
"q=50;  //[gal/min] - volumetric flow rate\n",
"d=2.067/12;  //[ft] - diameter\n",
"A=0.02330;  //[ft^2] - flow area\n",
"p=0.99568*62.43;  //[lb/ft^3] - density of water at 86degF\n",
"mu=0.8007*6.72*10^-4;  //[lb/ft*sec] - viscosity of water at 86degF\n",
"u=q/(60*7.48*A);\n",
"// using the formula Nre=d*u*p/mu;\n",
"Nre=(d*u*p)/mu;\n",
"disp(Nre,'Nre=');\n",
"printf('\n Hence the flow is turbulent.Note also that Nre is dimensionless');"
   ]
   }
,
{
		   "cell_type": "markdown",
		   "metadata": {},
		   "source": [
			"## Example 6.2: transitional_flow.sce"
		   ]
		  },
  {
"cell_type": "code",
	   "execution_count": null,
	   "metadata": {
	    "collapsed": true
	   },
	   "outputs": [],
"source": [
"clc;\n",
"warning('off');\n",
"printf('\n\n example6.2 - pg202');\n",
"// given\n",
"p=0.99568*62.43;  //[lb/ft^3] - density of water at 86degF\n",
"mu=0.8007*6.72*10^-4;  //[lb/ft*sec] - viscosity of water at 86degF\n",
"u=4.78;  //[ft/sec] - free stream velocity \n",
"Nre=5*10^5;  // the lower limit for the transition reynolds number range is substituted\n",
"x=(Nre*mu)/(p*u);\n",
"disp(x,'x');\n",
"printf('\nThus the transition could star at about %fft.The reynolds number at the upper end of the transition range is %e.The value of x at this location is ten times then the value obtained above i.e %fft',x,Nre*10,x*10); "
   ]
   }
,
{
		   "cell_type": "markdown",
		   "metadata": {},
		   "source": [
			"## Example 6.3: the_equations_for_transport_under_turbulent_conditions.sce"
		   ]
		  },
  {
"cell_type": "code",
	   "execution_count": null,
	   "metadata": {
	    "collapsed": true
	   },
	   "outputs": [],
"source": [
"clc;\n",
"warning('off');\n",
"printf('\n\n example6.3 - pg212');\n",
"// given\n",
"t=[0 0.01 0.02 0.03 0.04 0.05 0.06 0.07 0.08 0.09 0.10 0.11 0.12];\n",
"Ux=[3.84 3.50 3.80 3.60 4.20 4.00 3.00 3.20 3.40  3.00 3.50 4.30 3.80];\n",
"Uy=[0.43 0.21 0.18 0.30 0.36 0.28 0.35 0.27 0.21 0.22 0.23 0.36 0.35];\n",
"Uz=[0.19 0.16 0.17 0.13 0.09 0.10 0.16 0.15 0.13 0.18 0.17 0.18 0.17];\n",
"// using the formula AREA=(deltat/2)*(U1+U13+2*(U2+U3+U4+U5+U6+U7+U8+U9+U10+U11+U12))\n",
"// for Uxmean\n",
"deltat=0.01;\n",
"T=t(13)-t(1);\n",
"AREA=(deltat/2)*(Ux(1)+Ux(13)+2*(Ux(2)+Ux(3)+Ux(4)+Ux(5)+Ux(6)+Ux(7)+Ux(8)+Ux(9)+Ux(10)+Ux(11)+Ux(12)));\n",
"Uxmean=AREA/T;\n",
"disp(Uxmean,'Uxmean=');\n",
"// for Uymean\n",
"deltat=0.01;\n",
"T=t(13)-t(1);\n",
"AREA=(deltat/2)*(Uy(1)+Uy(13)+2*(Uy(2)+Uy(3)+Uy(4)+Uy(5)+Uy(6)+Uy(7)+Uy(8)+Uy(9)+Uy(10)+Uy(11)+Uy(12)));\n",
"Uymean=AREA/T;\n",
"disp(Uymean,'Uymean=');\n",
"// for Uzmean\n",
"deltat=0.01;\n",
"T=t(13)-t(1);\n",
"AREA=(deltat/2)*(Uz(1)+Uz(13)+2*(Uz(2)+Uz(3)+Uz(4)+Uz(5)+Uz(6)+Uz(7)+Uz(8)+Uz(9)+Uz(10)+Uz(11)+Uz(12)));\n",
"Uzmean=AREA/T;\n",
"disp(Uzmean,'Uzmean=');\n",
"U=(Uxmean^2+Uymean^2+Uzmean^2)^(1/2);\n",
"disp(U,'U=');\n",
""
   ]
   }
,
{
		   "cell_type": "markdown",
		   "metadata": {},
		   "source": [
			"## Example 6.5: the_prandtl_mixing_theory.sce"
		   ]
		  },
  {
"cell_type": "code",
	   "execution_count": null,
	   "metadata": {
	    "collapsed": true
	   },
	   "outputs": [],
"source": [
"clc;\n",
"warning('off');\n",
"printf('\n\n example6.5 - pg232');\n",
"// given\n",
"UzmaxbyU=24.83;\n",
"roUbyv=2312;\n",
"Re=100000;\n",
"// using the formula Et/v=95.5*((r/ro)/slope)-1\n",
"// from fig 6.6 at Re=100000\n",
"rbyro=[0 0.040 0.100 0.200 0.300 0.4 0.5 0.6 0.7 0.8 0.9 0.960 1];\n",
"slope=[0 0.105 0.112 0.126 0.144 0.168 0.201 0.252 0.336 0.503 1.007 2.517 94.59];\n",
"for i=2:13\n",
"    Etbyv(i)=95.5*((rbyro(i))/slope(i))-1;\n",
"end\n",
"clf;\n",
"xtitle('eddy viscosity ratio versus dimensionless radius','r/ro','Et/v');\n",
"plot(rbyro,Etbyv);"
   ]
   }
,
{
		   "cell_type": "markdown",
		   "metadata": {},
		   "source": [
			"## Example 6.9: friction_factor.sce"
		   ]
		  },
  {
"cell_type": "code",
	   "execution_count": null,
	   "metadata": {
	    "collapsed": true
	   },
	   "outputs": [],
"source": [
"clc;\n",
"warning('off');\n",
"printf('\n\n example6.9 - pg258');\n",
"// given\n",
"spg=0.84;\n",
"p=0.84*62.4;  //[lbf/ft^3] - density\n",
"dP=80*144;  //[lbf/ft^2] - pressure\n",
"dz=2000;  //[ft] - length of pipe\n",
"gc=32.174;  //[(lbm*ft)/(lbf*sec^2)] - gravitational conversion constant\n",
"dpbydz=-dP/dz;\n",
"do=2.067/12;  //[ft]\n",
"U=2000*(1/24)*(1/3600)*(42)*(1/7.48)*(1/0.02330);\n",
"// using the formula f=((do/2)*(-dp/dz)*gc)/(p*(U)^2)\n",
"f=((do/2)*(-dpbydz)*gc)/(p*(U)^2)\n",
"disp(f,'f=');\n",
""
   ]
   }
],
"metadata": {
		  "kernelspec": {
		   "display_name": "Scilab",
		   "language": "scilab",
		   "name": "scilab"
		  },
		  "language_info": {
		   "file_extension": ".sce",
		   "help_links": [
			{
			 "text": "MetaKernel Magics",
			 "url": "https://github.com/calysto/metakernel/blob/master/metakernel/magics/README.md"
			}
		   ],
		   "mimetype": "text/x-octave",
		   "name": "scilab",
		   "version": "0.7.1"
		  }
		 },
		 "nbformat": 4,
		 "nbformat_minor": 0
}
