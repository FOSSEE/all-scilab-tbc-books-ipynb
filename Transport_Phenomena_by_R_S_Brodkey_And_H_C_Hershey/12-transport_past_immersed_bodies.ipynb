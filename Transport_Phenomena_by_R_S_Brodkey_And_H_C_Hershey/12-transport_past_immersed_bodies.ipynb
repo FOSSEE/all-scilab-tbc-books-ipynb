{
"cells": [
 {
		   "cell_type": "markdown",
	   "metadata": {},
	   "source": [
       "# Chapter 12: transport past immersed bodies"
	   ]
	},
{
		   "cell_type": "markdown",
		   "metadata": {},
		   "source": [
			"## Example 12.10: stokes_flow_past_a_sphere.sce"
		   ]
		  },
  {
"cell_type": "code",
	   "execution_count": null,
	   "metadata": {
	    "collapsed": true
	   },
	   "outputs": [],
"source": [
"clc;\n",
"warning('off');\n",
"printf('\n\n example12.10 - pg590');\n",
"// given\n",
"T=293.15;  //[K]\n",
"pp=999;  //[kg/m^3] - density of water\n",
"mu=0.01817*10^-3;  //[kg/m*sec] - viscosity of air\n",
"p=1.205;  //[kg/m^3] - density of air\n",
"d=5*10^-6;  //[m] - particle diameter\n",
"g=9.80;  //[m/sec^2]\n",
"rp=d/2;\n",
"Ut=((2*g*(rp^2))*(pp-p))/(9*mu);\n",
"Nre=(d*Ut*p)/(mu);\n",
"// clearly the flow is in the stokes law region at this low reynolds number;therefore , the drag force is\n",
"Fp=6*%pi*mu*rp*Ut;\n",
"printf('\n\n The drag force is \n Fp = %e N',Fp);\n",
"\n",
""
   ]
   }
,
{
		   "cell_type": "markdown",
		   "metadata": {},
		   "source": [
			"## Example 12.11: drag_coefficient_correlations.sce"
		   ]
		  },
  {
"cell_type": "code",
	   "execution_count": null,
	   "metadata": {
	    "collapsed": true
	   },
	   "outputs": [],
"source": [
"clc;\n",
"warning('off');\n",
"printf('\n\n example12.11 - pg591');\n",
"// given\n",
"T=293.15;  //[K]\n",
"pp=999;  //[kg/m^3] - density of water\n",
"mu=0.01817*10^-3;  //[kg/m*sec] - viscosity of air\n",
"p=1.205;  //[kg/m^3] - density of air\n",
"d=5*10^-6;  //[m] - particle diameter\n",
"g=9.80;  //[m/sec^2]\n",
"rp=d/2;\n",
"Ut=((2*g*(rp^2))*(pp-p))/(9*mu);\n",
"Nre=(d*Ut*p)/(mu);\n",
"t=((-2*(rp^2)*pp))/(9*mu)*(log(1-0.99));\n",
"printf('\n\n Time for the drop of water in previous example from an initial velocity of zero to 0.99*Ut is \n t = %e sec',t);\n",
"printf('\n\n In other words, the drop accelerates almost instantaneously to its terminal velocity');"
   ]
   }
,
{
		   "cell_type": "markdown",
		   "metadata": {},
		   "source": [
			"## Example 12.12: drag_coefficient_correlations.sce"
		   ]
		  },
  {
"cell_type": "code",
	   "execution_count": null,
	   "metadata": {
	    "collapsed": true
	   },
	   "outputs": [],
"source": [
"clc;\n",
"warning('off');\n",
"printf('\n\n example12.12 - pg 594');\n",
"// given\n",
"pp=1.13*10^4;  //[kg/m^3] - density of lead particle\n",
"p=1.22;  //[kg/m^3] - density of air\n",
"g=9.80;  //[m/sec^2] - acceleration due to gravity\n",
"d=2*10^-3;  //[m] - diameter of particle\n",
"mu=1.81*10^-5;  //[kg/m*sec] - viscosity of air\n",
"// let us assume\n",
"Cd=0.44;\n",
"Ut=((4*d*g*(pp-p))/(3*p*Cd))^(1/2);\n",
"disp(Ut)\n",
"Nre=(Ut*d*p)/(mu);\n",
"// from fig 12,16 value of Cd is\n",
"Cd=0.4;\n",
"Ut=((4*d*g*(pp-p))/(3*p*Cd))^(1/2);\n",
"Nre=(Ut*d*p)/(mu);\n",
"// Within the readibility of the chart Cd is unchanged and therefore the above obtained Cd is the final answer\n",
"printf('\n\n The terminal velocity is \n Ut = %f m/sec',Ut);"
   ]
   }
,
{
		   "cell_type": "markdown",
		   "metadata": {},
		   "source": [
			"## Example 12.13: drag_coefficient_correlations.sce"
		   ]
		  },
  {
"cell_type": "code",
	   "execution_count": null,
	   "metadata": {
	    "collapsed": true
	   },
	   "outputs": [],
"source": [
"clc;\n",
"warning('off');\n",
"printf('\n\n example12.13 - pg595');\n",
"// given\n",
"distance=1/12;  //[ft]\n",
"time=60;  //[sec]\n",
"Ut=distance/time;\n",
"mu=1.68;  //[lb/ft*sec] - viscosity \n",
"pp=58;  //[lb/ft^3] - density of sphere\n",
"p=50;  //[lb/ft^3] - density of polymer solution\n",
"g=32;  //[ft/sec] - acceleration due to gravity\n",
"rp=((9*mu)*(Ut)*((2*g)^(-1))*((pp-p)^(-1)))^(1/2);\n",
"printf('\n\n The required particle diameter would be about %f inch',rp*2*12);\n",
"Nre=(rp*2*Ut*p)/(mu);\n",
"disp(Nre,'Nre=');\n",
"printf('\n\n This reynolds number is well within the stokes law region ; thus the design is reasonable');"
   ]
   }
,
{
		   "cell_type": "markdown",
		   "metadata": {},
		   "source": [
			"## Example 12.14: liquid_solid_fluidizatio.sce"
		   ]
		  },
  {
"cell_type": "code",
	   "execution_count": null,
	   "metadata": {
	    "collapsed": true
	   },
	   "outputs": [],
"source": [
"clc;\n",
"warning('off');\n",
"printf('\n\n example12.14 - pg616');\n",
"// given\n",
"T=842;  //[degF] - temperature\n",
"P=14.6;  //[psia] - pressure\n",
"p=0.487;  //[kg/m^3] - density of air\n",
"mu=3.431*10^-5;  //[kg/m*sec] - viscosity of air\n",
"k=0.05379;  //[W/m*K] - thermal conductivity\n",
"Npr=0.7025;  //prandtl no.\n",
"// (a) static void fraction\n",
"mcoal=15*2000; //[lb] - mass of coal\n",
"pcoal=94;  //[lbm/ft^3] - density of coal\n",
"d=10;  //[ft]\n",
"L=7;  //[ft]\n",
"area=((%pi*(d^2))/4);\n",
"Vcoal=mcoal/pcoal;\n",
"Vtotal=area*L;\n",
"e=(Vtotal-Vcoal)/(Vtotal);\n",
"disp(e,'(a) The void fraction is E=');\n",
"// (b) minimum void fraction and bed height\n",
"d=200;  //[um] - particle diameter\n",
"Emf=1-0.356*((log10(d))-1);\n",
"// this value seems to be a lottle low and therefore 0.58 will be used\n",
"Emf=0.58;\n",
"Lmf=((L)*(1-e))/(1-Emf);\n",
"printf('\n\n (b) The bed height is \n Lmf = %f ft',Lmf);\n",
"// (c) Minimum fluidization velocity\n",
"P1=20;  //[psia]\n",
"P2=14.696;  //[psia]\n",
"p1=(p*P1)/(P2);\n",
"// the archimides no. is\n",
"g=9.78;  //[m/sec^2]\n",
"Nar=p1*g*((d*10^-6)^3)*(1506-p1)*((1/(mu)^2));\n",
"C1=27.2;\n",
"C2=0.0408;\n",
"Nremf=(((C1^2)+C2*Nar)^(1/2))-C1;\n",
"Umf=(Nremf*mu)/((d*10^-6)*p1);\n",
"printf('\n\n (c) The minimum fluidization velocity is \n Umf = %f m/sec',Umf);\n",
"// (d) Minimum pressure\n",
"deltapmf=(1506-p1)*(g)*(1-Emf)*((Lmf*12*2.54)/(100))+p1*g*Lmf;\n",
"printf('\n\n (c) The minimum pressure drop for fluidization is \n -deltapmf = %e Pa',deltapmf);\n",
"// (e) Particle settling velocity\n",
"Cd=0.44;\n",
"Ut=(((8*((d*10^-6)/2)*g)*(1506-p1))/(3*p1*Cd))^(1/2);\n",
"Nrep=(Ut*d*10^-6*p1)/(mu);\n",
"disp(Nrep,'Nrep=');\n",
"// clearly at the point of minimum velocity for fast fluidization , the terminal settling velocity is not in the range of Newtons law.Therefore the eq. for the transition region will be tried\n",
"Ut=((5.923/18.5)*(((d*10^-6)*p1)/(mu))^(0.6))^(1/(2-0.6))\n",
"printf('\n\n (e) The particle settling velocity is \n Ut = %f m/sec',Ut);\n",
"// (f) Bed to wall heat transfer coefficient\n",
"Nrefb=(d*10^-6)*2.5*Umf*p1*(1/mu);\n",
"Nnufb=0.6*Npr*((Nrefb)^(0.3));\n",
"hw=Nnufb*(k/(d*10^-6));\n",
"printf('\n\n (f) The bed to wall heat transfer coefficient is \n hw = %f W/m^2*K',hw);\n",
"\n",
"\n",
"\n",
"\n",
"\n",
"\n",
"\n",
""
   ]
   }
,
{
		   "cell_type": "markdown",
		   "metadata": {},
		   "source": [
			"## Example 12.15: liquid_solid_fluidizatio.sce"
		   ]
		  },
  {
"cell_type": "code",
	   "execution_count": null,
	   "metadata": {
	    "collapsed": true
	   },
	   "outputs": [],
"source": [
"clc;\n",
"warning('off');\n",
"printf('\n\n example12.5 - pg618');\n",
"// given\n",
"pp=249.6;  //[lb/ft^3] - density of catalyst\n",
"p=58;  //[lb/ft^3] - density of liquid\n",
"g=32.174;  //[ft/sec^2]\n",
"gc=32.174;\n",
"Lmf=5;  //[ft] - height of bed\n",
"mu=6.72*10^-3;  //[lbm/ft*sec] - viscosity of liquid\n",
"dp=0.0157/12;  //[ft] - diameter of particle\n",
"emf=0.45;\n",
"deltapmf=(pp-p)*(g/gc)*(1-emf)*(Lmf);\n",
"Nar=(p*g*dp^3)*(pp-p)*(1/(mu)^2);\n",
"C1=27.2;\n",
"C2=0.0408;\n",
"Nremf=(((C1^2)+C2*Nar)^(1/2))-C1;\n",
"Umf=Nremf*(mu/(dp*p));\n",
"printf('\n\n Minimum fluidization velocity is \n Umf = %e ft/sec',Umf);\n",
""
   ]
   }
,
{
		   "cell_type": "markdown",
		   "metadata": {},
		   "source": [
			"## Example 12.16: single_cyclinder_heat_transfer.sce"
		   ]
		  },
  {
"cell_type": "code",
	   "execution_count": null,
	   "metadata": {
	    "collapsed": true
	   },
	   "outputs": [],
"source": [
"clc;\n",
"warning('off');\n",
"printf('\n\n example12.16 - pg624');\n",
"// given\n",
"d=24*10^-6;  //[m] - diameter of wire\n",
"T=415;  //[K] - operating temperature of hot wire anemometer\n",
"P=0.1;  //[W] - power consumption\n",
"L=250*d;\n",
"Tair=385;  //[K] - temperature of air in duct\n",
"A=%pi*d*L;\n",
"Tfilm=(T+Tair)/2;\n",
"// properties of air at Tfilm\n",
"p=0.8825;  //[kg/m^3]\n",
"mu=2.294*10^-5;  //[kg/m*s]\n",
"cpf=1013;  //[J*kg/K]\n",
"kf=0.03305;  //[W/m*K]\n",
"Npr=0.703;\n",
"h=P/(A*(T-Tair));\n",
"Nnu=(h*d)/kf;\n",
"function y=func(x)\n",
"    y=Nnu-0.3-((0.62*(x^(1/2))*(Npr^(1/3)))/((1+((0.4/Npr)^(2/3)))^(1/4)))*((1+((x/(2.82*(10^5)))^(5/8)))^(4/5));\n",
"endfunction\n",
"// on solving the above function for x by using some root solver technique like Newton raphson method , we get\n",
"x=107.7;\n",
"// or\n",
"Nre=107.7;\n",
"y=func(x);\n",
"Um=(Nre*mu)/(d*p);\n",
"printf('\n\n The velocity is \n Um = %f m/sec = %f ft/sec',Um,Um*3.28);"
   ]
   }
,
{
		   "cell_type": "markdown",
		   "metadata": {},
		   "source": [
			"## Example 12.17: single_cyclinder_heat_transfer.sce"
		   ]
		  },
  {
"cell_type": "code",
	   "execution_count": null,
	   "metadata": {
	    "collapsed": true
	   },
	   "outputs": [],
"source": [
"clc;\n",
"warning('off');\n",
"printf('\n\n example12.17 - pg630');\n",
"// given\n",
"dt=0.75;\n",
"St=1.5*dt;\n",
"Sl=3*dt;\n",
"Lw=1;  //[m]\n",
"N=12;\n",
"Stotalarea=N*(St/12)*Lw;\n",
"Sminarea=N*((St-dt)/12)*Lw*0.3048;\n",
"// properties of air at 293.15 K\n",
"p=1.204;  //[kg/m^3]\n",
"mu=1.818*10^-5;  //[kg/m*s]\n",
"cp=1005;  //[J*kg/K];\n",
"k=0.02560;  //[J/s*m*K]\n",
"Npr=(cp*mu)/k;\n",
"U_inf=7;  //[m/sec]\n",
"Umax=U_inf*(St/(St-dt));\n",
"w=p*Umax*Sminarea;\n",
"C_tubes=0.05983;  //[m^2/m] - circumference of the tubes\n",
"N_tubes=96;\n",
"Atubes=N_tubes*C_tubes*Lw;\n",
"Tw=328.15;  //[K]\n",
"Tinf=293.15; //[K]\n",
"Tin=293.15;  //[K]\n",
"Tout=293.15;  //[K]\n",
"u=100;\n",
"while u>10^-1\n",
"    T=(Tin+Tout)/2\n",
"    Told=Tout;\n",
"    p=-(0.208*(10^-3))+(353.044/T);\n",
"    mu=-(9.810*(10^-6))+(1.6347*(10^-6)*(T^(1/2)));\n",
"    cp=989.85+(0.05*T);\n",
"    k=0.003975+7.378*(10^-5)*T;\n",
"    Npr=(cp*mu)/k;\n",
"    dt=0.75*0.0254;\n",
"    Gmax=w/Sminarea;\n",
"    Nre=(dt*Gmax)/mu;\n",
"    h=0.27*(k/dt)*(Npr^0.36)*(Nre^0.63);\n",
"    h=h*0.98;\n",
"    deltaT=(h*Atubes*(Tw-Tinf))/(w*cp);\n",
"    Tout=Tin+deltaT;\n",
"    u=abs(Tout-Told);\n",
"end\n",
"T=(Tin+Tout)/2\n",
"p=-(0.208*(10^-3))+(353.044/T);\n",
"mu=-(9.810*(10^-6))+(1.6347*(10^-6)*(T^(1/2)));\n",
"dt=0.75;\n",
"dv=(4*(St*Sl-(%pi*(dt^2)*(1/4))))/(%pi*dt)*(0.09010/3.547);\n",
"de=dv;\n",
"Nre=(dv*24.72)/mu;\n",
"dv=dv/(0.09010/3.547);\n",
"ftb=1.92*(Nre^(-0.145));\n",
"Zt=Sl;\n",
"Ltb=8*Sl;\n",
"deltap=(ftb*(24.72^2))/(2*p*(dv/Ltb)*((St/dv)^0.4)*((St/Zt)^0.6));\n",
"printf('\n\n -deltap = %f kg/m*s = %f N/m^2 = %f psia',deltap,deltap,deltap*(0.1614/1113));\n",
"\n",
"\n",
"\n",
""
   ]
   }
,
{
		   "cell_type": "markdown",
		   "metadata": {},
		   "source": [
			"## Example 12.2: the_laminar_boundary_layer.sce"
		   ]
		  },
  {
"cell_type": "code",
	   "execution_count": null,
	   "metadata": {
	    "collapsed": true
	   },
	   "outputs": [],
"source": [
"clc;\n",
"warning('off');\n",
"printf('\n\n example12.2 - pg562');\n",
"p=1.2047*0.06243;  //[lb/ft^3]\n",
"mu=(18.17*10^-6)*(0.6720);  //[lb/ft*sec]\n",
"v=mu/p;\n",
"x=2;  //[ft]\n",
"U=6;  //[ft/sec]\n",
"Nre=(x*U)/v;\n",
"disp('The Reynolds number is well within the laminar region',Nre,'Nre=');\n",
"del=5*x*(Nre)^(-1/2);\n",
"C1=0.33206;\n",
"Cd=2*C1*(Nre)^(-1/2);\n",
"L2=2;  //[ft]\n",
"L1=1;  //[ft]\n",
"b=1;\n",
"F=((2*(C1)*U*b))*((mu*p*U)^(1/2))*(((L2)^(1/2))-((L1)^(1/2)));\n",
"gc=32.174;\n",
"F=F/gc;\n",
"printf('\n\n The value of F properly expressed in force units is \n F=%e lbf',F);\n",
"\n",
""
   ]
   }
,
{
		   "cell_type": "markdown",
		   "metadata": {},
		   "source": [
			"## Example 12.3: turbulent_boundary_layer.sce"
		   ]
		  },
  {
"cell_type": "code",
	   "execution_count": null,
	   "metadata": {
	    "collapsed": true
	   },
	   "outputs": [],
"source": [
"clc;\n",
"warning('off');\n",
"printf('\n\n example12.3 - pg569');\n",
"U=3;  //[m/sec]\n",
"x1=1;  //[m]\n",
"x2=2;  //[m]\n",
"p=1/(1.001*10^-3);  //[kg/m^3];\n",
"mu=1*10^-3;  //[kg/m*sec]\n",
"Nre1=(x1*U*p)/(mu);\n",
"Nre2=(x2*p*U)/(mu);\n",
"tauw=(1/2)*(p*(U^2))*((2*log10(Nre1)-0.65)^(-2.3));\n",
"B=1700;\n",
"Cd=(0.455*(log10(Nre2))^-2.58)-(B/(Nre2));\n",
"Lb=2.0;\n",
"F=(1/2)*(p*(U^2))*(Lb)*(Cd);\n",
"printf('\n\n the drag on the plate is \n F = %f kg*m/sec^2 = %f N',F,F);\n",
"\n",
""
   ]
   }
,
{
		   "cell_type": "markdown",
		   "metadata": {},
		   "source": [
			"## Example 12.5: heat_and_mass_transfer_during_boundary_layer_flow_past_a_flat_plate.sce"
		   ]
		  },
  {
"cell_type": "code",
	   "execution_count": null,
	   "metadata": {
	    "collapsed": true
	   },
	   "outputs": [],
"source": [
"clc;\n",
"warning('off');\n",
"printf('\n\n example12.5 - pg576');\n",
"T=290;  //[K] - temperature of flowing water\n",
"U=3;  //[m/sec] - free stream velocity\n",
"Tfs=285;  //[K] - temperature of free stream\n",
"vr=10^-3;  //[m^3/kg] - volume per unit mass\n",
"p=1/vr;  //[kg/m^3] - density of water at Tfs\n",
"mu=1225*10^-6;  //[N*sec/m^2]\n",
"k=0.590;  //[W/m*K]\n",
"Npr=8.70;\n",
"//  (a) The length of laminar boundary\n",
"Nre=5*10^5;\n",
"xc=(Nre)*(mu/(p*U));\n",
"printf('\n\n (a) The length of laminar boundary is \n xc = %f m',xc);\n",
"//  (b) Thickness of the momentum boundary layer and thermal boundary layer\n",
"del=5*xc*((Nre)^(-1/2));\n",
"delh=del*((Npr)^(-1/3));\n",
"printf('\n\n (b) The thickness of momentum boundary layer is \n del = %e m\n The thickness of the hydryodynamic layer is \n delh = %e m',del,delh);\n",
"// (c) Local heat transfer coefficient\n",
"x=0.2042;  //[ft]\n",
"hx=((0.33206*k)/(x))*((Nre)^(1/2))*((Npr)^(1/3));\n",
"printf('\n\n (c) The local heat transfer coefficient is \n h = %f W/m^2*K = %f Btu/hr*ft^2*degF',hx,hx*0.17611);\n",
"// (d) Mean heat transfer coefficient\n",
"hm=2*hx;\n",
"printf('\n\n (d) The mean heat transfer coefficient is \n h = %f W/m^2*K = %f Btu/hr*ft^2*degF',hm,hm*0.17611);"
   ]
   }
],
"metadata": {
		  "kernelspec": {
		   "display_name": "Scilab",
		   "language": "scilab",
		   "name": "scilab"
		  },
		  "language_info": {
		   "file_extension": ".sce",
		   "help_links": [
			{
			 "text": "MetaKernel Magics",
			 "url": "https://github.com/calysto/metakernel/blob/master/metakernel/magics/README.md"
			}
		   ],
		   "mimetype": "text/x-octave",
		   "name": "scilab",
		   "version": "0.7.1"
		  }
		 },
		 "nbformat": 4,
		 "nbformat_minor": 0
}
