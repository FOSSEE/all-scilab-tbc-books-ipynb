{
"cells": [
 {
		   "cell_type": "markdown",
	   "metadata": {},
	   "source": [
       "# Chapter 9: agitation"
	   ]
	},
{
		   "cell_type": "markdown",
		   "metadata": {},
		   "source": [
			"## Example 9.3: scale_up_procedures_for_turbulent_flow_with_a_single_test_volume.sce"
		   ]
		  },
  {
"cell_type": "code",
	   "execution_count": null,
	   "metadata": {
	    "collapsed": true
	   },
	   "outputs": [],
"source": [
"clc;\n",
"warning('off');\n",
"printf('\n\n example9.3 - pg389');\n",
"Nblades=4;  // no. of blades\n",
"d=9/12;  //[ft] - diameter of the impeller\n",
"dt=30/12;  //[ft] - diameter of the tank\n",
"Nbaffles=4;  //  no. of baffles\n",
"h=30;  // [inch]  - height of unit\n",
"mu=10;  //[cP] - viscosity of fluid\n",
"sg=1.1;  // specific gravity of fluid\n",
"s=300;  //[rpm] - speed of agitator\n",
"CbyT=0.3;  \n",
"V=(%pi*dt^3)/4; //volume of tank in ft^3\n",
"V1=V*7.48;  //[gal] - volume of tank in gallons\n",
"mu=mu*(6.72*10^-4);  //[lb/ft*sec]\n",
"p=sg*62.4;  //[lb/ft^3] - density of fluid\n",
"N=s/60;  //[rps] - impeller speed in revolutions per second\n",
"Nre=((d^2)*N*p)/mu;\n",
"disp(Nre,'Nre=');\n",
"printf('\n\n Therefore the agitator operates in the turbulent region');\n",
"Npo=1.62;\n",
"gc=32.174;\n",
"P=(Npo*(p*(N^3)*(d^5)))/(gc*550);\n",
"Cf=63025;\n",
"Tq=(P/s)*Cf;\n",
"PbyV=P/V;\n",
"PbyV1=P/V1;\n",
"TqbyV=Tq/V;\n",
"TqbyV1=Tq/V1;\n",
"printf('\n\n The power per unit volume and the torque per unit volume is \n P/V=%f hp/ft^3=%f hp/gal\n Tq/V=%f in*lb/ft^3=%f in*lb/gal',PbyV,PbyV1,TqbyV,TqbyV1);\n",
"\n",
""
   ]
   }
,
{
		   "cell_type": "markdown",
		   "metadata": {},
		   "source": [
			"## Example 9.4: scale_up_procedures_for_turbulent_flow_with_a_single_test_volume.sce"
		   ]
		  },
  {
"cell_type": "code",
	   "execution_count": null,
	   "metadata": {
	    "collapsed": true
	   },
	   "outputs": [],
"source": [
"clc;\n",
"warning('off');\n",
"printf('\n\n example9.4 - pg391');\n",
"// given\n",
"Tpilot=30;\n",
"Tlab=10;\n",
"N1=690;\n",
"N2=271;\n",
"D2=3;\n",
"D1=1;\n",
"n=(log(N1/N2))/(log(D2/D1));\n",
"V=12000/7.48;  //[ft^3]\n",
"T=((4*V)/%pi)^(1/3);  //[ft]\n",
"R=12.69/(30/12);\n",
"N3=N2*(1/R)^n;  //[rpm] - impeller speed in the reactor\n",
"disp(N3,'impeller speed in rpm=');\n",
"D3=0.75*R;  //[ft] - reactor impeller diameter\n",
"disp(D3,'reactor impeller diameter in ft=');\n",
"P=0.1374*((N3/N2)^3)*(R^5);\n",
"disp(P,'power in hp=');\n",
"Cf=63025;\n",
"Tq=(P/N3)*Cf;  //[inch*lb]\n",
"disp(Tq,'torque in inch*lb=');\n",
"printf('\n\n At this point, the design is complete. A standard size impeller would be chosen as well as a standard size motor(7.5 hp or 10 hp)');\n",
""
   ]
   }
,
{
		   "cell_type": "markdown",
		   "metadata": {},
		   "source": [
			"## Example 9.5: scale_up_procedures_for_turbulent_flow_with_a_single_test_volume.sce"
		   ]
		  },
  {
"cell_type": "code",
	   "execution_count": null,
	   "metadata": {
	    "collapsed": true
	   },
	   "outputs": [],
"source": [
"clc;\n",
"warning('off');\n",
"printf('\n\n example9.5 - pg 393');\n",
"// given\n",
"n=[0.5 0.6 0.7 0.8 0.9 1.0];\n",
"D2=3.806;\n",
"D1=0.25;\n",
"R=D2/D1;\n",
"N1=690;\n",
"N2=N1*((D1/D2)^n);\n",
"P1=9.33*10^-3;  //[hp]\n",
"P2=P1*R^(5-3*n);\n",
"printf('\n\n n                         N,rpm                  P,hp');\n",
"for i=1:6\n",
"printf('\n %f               %f            %f',n(i),N2(i),P2(i));\n",
"end\n",
""
   ]
   }
],
"metadata": {
		  "kernelspec": {
		   "display_name": "Scilab",
		   "language": "scilab",
		   "name": "scilab"
		  },
		  "language_info": {
		   "file_extension": ".sce",
		   "help_links": [
			{
			 "text": "MetaKernel Magics",
			 "url": "https://github.com/calysto/metakernel/blob/master/metakernel/magics/README.md"
			}
		   ],
		   "mimetype": "text/x-octave",
		   "name": "scilab",
		   "version": "0.7.1"
		  }
		 },
		 "nbformat": 4,
		 "nbformat_minor": 0
}
