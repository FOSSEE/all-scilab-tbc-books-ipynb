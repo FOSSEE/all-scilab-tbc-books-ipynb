{
"cells": [
 {
		   "cell_type": "markdown",
	   "metadata": {},
	   "source": [
       "# Chapter 2: molecular transport mechanisms"
	   ]
	},
{
		   "cell_type": "markdown",
		   "metadata": {},
		   "source": [
			"## Example 2.11: diffusion_coefficient.sce"
		   ]
		  },
  {
"cell_type": "code",
	   "execution_count": null,
	   "metadata": {
	    "collapsed": true
	   },
	   "outputs": [],
"source": [
"clc;\n",
"warning('off');\n",
"printf('\n\n example2.11 - pg51');\n",
"// given\n",
"po=1;  //[atm] - pressure\n",
"p=2;  //[atm] - pressure\n",
"To=0+273.15;  //[K] - temperature\n",
"T=75+273.15;  //[K] - temperature\n",
"Do=0.219*10^-4;  //[m^2/sec];\n",
"n=1.75;\n",
"// using the formula D=Do*(po/p)*(T/To)^n\n",
"D=Do*(po/p)*(T/To)^n;\n",
"printf('\n\n The diffusion coefficient of water vapour in air at %fatm and %fdegC is \n D=%em^2/sec',p,T-273.15,D);"
   ]
   }
,
{
		   "cell_type": "markdown",
		   "metadata": {},
		   "source": [
			"## Example 2.12: viscosity.sce"
		   ]
		  },
  {
"cell_type": "code",
	   "execution_count": null,
	   "metadata": {
	    "collapsed": true
	   },
	   "outputs": [],
"source": [
"clc;\n",
"warning('off');\n",
"printf('\n\n example2.12 - pg52');\n",
"// given\n",
"T=53+273.15;  //[K] - temperature\n",
"mu1=1.91*10^-5;\n",
"mu2=2.10*10^-5;\n",
"T1=313.15;  //[K] - temperature \n",
"T2=347.15;  //[K] - temperature\n",
"// for air\n",
"// using linear interpolation of the values in table 2.2\n",
"function b=f(a)\n",
"    b=log(mu1/a)/log(T1);\n",
"endfunction\n",
"function y=g(a)\n",
"    y=log(mu2)-log(a)-f(a)*log(T2);\n",
"endfunction\n",
"a1=10^-7;\n",
"A=fsolve(a1,g);\n",
"B=f(A);\n",
"// using the formula ln(mu)=lnA+Bln(t)\n",
"mu=%e^(log(A)+B*log(T))*10^3;  //[cP]\n",
"printf('\n\n the viscosity of air at %fdegC is %fcP',T-273.15,mu);\n",
"// similarly for water\n",
"BdivR=1646;\n",
"A=3.336*10^-8;\n",
"mu=A*%e^(BdivR/T)*10^5 //[cP]\n",
"printf('\n\n the viscosity of water at %fdegC is %fcP',T-273.15,mu);"
   ]
   }
,
{
		   "cell_type": "markdown",
		   "metadata": {},
		   "source": [
			"## Example 2.1: the_analogous_form.sce"
		   ]
		  },
  {
"cell_type": "code",
	   "execution_count": null,
	   "metadata": {
	    "collapsed": true
	   },
	   "outputs": [],
"source": [
"clc;\n",
"warning('off');\n",
"printf('\n\n example2.1 - pg28');\n",
"// given\n",
"deltax=0.1;  //[m] - thickness of copper block\n",
"T2=100;  //[degC] - temp on one side of copper block\n",
"T1=0;  //[degC] - temp on other side of the copper block\n",
"k=380;  //[W/mK] - thermal conductivity\n",
"// using the formula (q/A)*deltax=-k*(T2-T1)\n",
"g=-k*(T2-T1)/deltax;\n",
"g1=(g/(4.184*10000));\n",
"printf('\n\n The steady state heat flux across the copper block is\n q/A=%fW/m^2 \n or in alternate units is \n q/A=%fcal/cm*sec',g,g1);"
   ]
   }
,
{
		   "cell_type": "markdown",
		   "metadata": {},
		   "source": [
			"## Example 2.2: the_analogous_form.sce"
		   ]
		  },
  {
"cell_type": "code",
	   "execution_count": null,
	   "metadata": {
	    "collapsed": true
	   },
	   "outputs": [],
"source": [
"clc;\n",
"warning('off');\n",
"printf('\n\n example2.2 - pg29');\n",
"// given\n",
"dely=0.1;  //[m] - distance between two parralel plates\n",
"delUx=0.3;  //[m/sec] - velocity of a plate\n",
"mu=0.001;  //[kg/m*sec] - viscosity\n",
"// using the formula tauyx=F/A=-mu*(delUx/dely)\n",
"tauyx=-mu*(delUx/dely);\n",
"printf('\n\n the momentum flux and the the force per unit area,(which are the same thing) is\n tauyx=F/A=%fN/m^2',tauyx);\n",
""
   ]
   }
,
{
		   "cell_type": "markdown",
		   "metadata": {},
		   "source": [
			"## Example 2.3: heat_transfer.sce"
		   ]
		  },
  {
"cell_type": "code",
	   "execution_count": null,
	   "metadata": {
	    "collapsed": true
	   },
	   "outputs": [],
"source": [
"clc;\n",
"warning('off');\n",
"printf('\n\n example2.3 - pg30');\n",
"// given\n",
"tauyx=-0.003;  //[N/m^2] - momentum flux\n",
"dely=0.1;  //[m] - distance between two parralel plates\n",
"mu=0.01;  //[kg/m*sec] - viscosity\n",
"// using the formula tauyx=F/A=-mu*(delUx/dely)\n",
"delUx=-((tauyx*dely)/mu)*100;\n",
"printf('\n\n Velocity of the top plate is \n deltaUx=%fcm/sec',delUx);"
   ]
   }
,
{
		   "cell_type": "markdown",
		   "metadata": {},
		   "source": [
			"## Example 2.5: heat_transfer.sce"
		   ]
		  },
  {
"cell_type": "code",
	   "execution_count": null,
	   "metadata": {
	    "collapsed": true
	   },
	   "outputs": [],
"source": [
"clc;\n",
"warning('off');\n",
"printf('\n\n example2.5 - pg31');\n",
"// given\n",
"d=0.0013;  //[m] - diameter of the tube\n",
"delx=1;  //[m] - length of the glass tube\n",
"T2=110.6;  //[degC] - temperature on one end of the rod\n",
"T1=0;  //[degC] - temperature on other side of the rod\n",
"k=0.86;  //[W/m*K] - thermal conductivity\n",
"Hf=333.5;  //[J/g] - heat of fusion of ice\n",
"// (a)using the equation (q/A)=-k*(delt/delx)\n",
"A=(%pi*d^2)/4;\n",
"q=A*(-k*(T2-T1)/delx);\n",
"printf('\n\n (a) the heat flow is \n q=%fJ/sec',q);\n",
"// (b) dividing the total heat transfer in 30minutes by the amount of heat required to melt 1g of ice\n",
"a=abs((q*30*60)/333.5);\n",
"printf('\n\n (b)the amount or grams of ice melted in 30minutes is %fg',a);"
   ]
   }
,
{
		   "cell_type": "markdown",
		   "metadata": {},
		   "source": [
			"## Example 2.6: mass_transfer.sce"
		   ]
		  },
  {
"cell_type": "code",
	   "execution_count": null,
	   "metadata": {
	    "collapsed": true
	   },
	   "outputs": [],
"source": [
"clc;\n",
"warning('off');\n",
"printf('\n\n example2.6 - pg36');\n",
"// given\n",
"d=1.2*10^-2;  //[m] - diameter of the hole\n",
"Ca1=0.083;  //[kmol/m^3]\n",
"Ca2=0;  //[kmol/m^3]\n",
"L=0.04;  //[m] - thickness of the iron piece \n",
"Dab=1.56*10^-3;  //[m^2/sec] - diffusion coefficient of CO2\n",
"A=(%pi*d^2)/4;  //area\n",
"// (a)using the formula (Na/)A=(Ja/A)=-Dab(delCa/delx)\n",
"intdCa=integrate('1','Ca',Ca2,Ca1);\n",
"intdx=integrate('1','x',0,0.04);\n",
"g=(intdCa/intdx)*Dab;\n",
"printf('\n\n (a) The molar flux with respect to stationary coordinates is\n (Na/A)=%fkmol/m^2*sec',g);\n",
"// using the formula na/A=(Na/A)*Ma\n",
"Ma=44.01;  //[kg/mol] - molcular weight of co2\n",
"na=(intdCa/intdx)*Dab*Ma*A*(3600/0.4539);\n",
"printf('\n\n The mass flow rate is %flb/hr',na);\n",
""
   ]
   }
,
{
		   "cell_type": "markdown",
		   "metadata": {},
		   "source": [
			"## Example 2.7: mass_transfer.sce"
		   ]
		  },
  {
"cell_type": "code",
	   "execution_count": null,
	   "metadata": {
	    "collapsed": true
	   },
	   "outputs": [],
"source": [
"clc;\n",
"warning('off');\n",
"printf('\n\n example2.7 - pg38');\n",
"// given\n",
"T=30+273.15;  //[K] temperature\n",
"pA=3;  //[atm] partial pressure of the component A\n",
"R=0.082057;  //[atm*m^3*/kmol*K] gas constant\n",
"// (a) using the equation Ca=n/V=pA/(R*T)\n",
"Cco2=pA/(R*T);\n",
"Cco2=Cco2*(44.01);\n",
"printf('\n\n (a) The concentarion of Co2 entering is %fkg/m^3',Cco2);\n",
"// (b) using the same equation as above\n",
"pN2=(0.79)*3;  //[atm] partial pressure of mitrogen(as nitrogen is 79% in air)\n",
"R=0.7302;  //[atm*ft^3*lb/mol*R] - gas constant\n",
"T=T*(1.8);  //[R] temperature\n",
"CN2=pN2/(R*T);\n",
"printf('\n\n (b) The concentration of N2 entering is %flbmol/ft^3',CN2);\n",
"// (c) using the same equation as above\n",
"nt=6;\n",
"nCo2=4;\n",
"nO2=2*(0.21);\n",
"nN2=2*(0.79);\n",
"yCo2=nCo2/nt;\n",
"yO2=nO2/nt;\n",
"yN2=nN2/nt;\n",
"R=82.057;  //[atm*cm^3/mol*K] - gas constant\n",
"T=30+273.15;  //[K] - temperature\n",
"pCo2=3*yCo2;\n",
"Cco2=pCo2/(R*T);\n",
"printf('\n\n (c) The concentartion of Co2 in the exit is %fmol/cm^3',Cco2);\n",
"// (d) using the same equation as above\n",
"R=8.3143;  //[kPa*m^3/kmol*K] - gas constant\n",
"pO2=3*(yO2)*(101.325);  //[kPa] - partial pressure\n",
"CO2=pO2/(R*T);\n",
"printf('\n\n (d) The concentration of O2 in the exit stream is %fkmol/m^3',CO2);\n",
"\n",
"\n",
"\n",
""
   ]
   }
,
{
		   "cell_type": "markdown",
		   "metadata": {},
		   "source": [
			"## Example 2.8: mass_transfer.sce"
		   ]
		  },
  {
"cell_type": "code",
	   "execution_count": null,
	   "metadata": {
	    "collapsed": true
	   },
	   "outputs": [],
"source": [
"clc;\n",
"warning('off');\n",
"printf('\n\n example2.8 - pg39');\n",
"// given\n",
"delx=0.3-0;  //[m] - length\n",
"d=0.05-0;  //[m] - diameter\n",
"A=(%pi*d^2)/4;  //[m^2] - area;\n",
"R=8.314*10^3;  //[N*m/kmol*K] - gas constant\n",
"xco1=0.15;  // mole prcent of co in one tank\n",
"xco2=0;  // mole percent of co in other tank\n",
"p2=1;  //[atm] - pressure in one tank\n",
"p1=p2;  //[atm] - pressure in other tank\n",
"D=0.164*10^-4;  //[m^2/sec] - diffusion coefficient\n",
"T=298.15;  //[K] - temperature\n",
"// using the formula (Na/A)=(Ja/A)=-D*(delca/delx)=-(D/R*T)*(delpa/delx);\n",
"delpa=(p2*xco2-p1*xco1)*10^5;  //[N/m^2] - pressure difference\n",
"Na=-((D*A)/(R*T))*(delpa/delx);\n",
"disp(Na)\n",
"printf('\n\n The initial rate of mass transfer of co2 is %ekmol/sec',Na);\n",
"printf('\n\n In order for the pressure to remain at 1atm, a diffusion of air must occur which is in the opposite direction and equal to %ekmol/sce',Na);\n",
""
   ]
   }
,
{
		   "cell_type": "markdown",
		   "metadata": {},
		   "source": [
			"## Example 2.9: momentum_transfer.sce"
		   ]
		  },
  {
"cell_type": "code",
	   "execution_count": null,
	   "metadata": {
	    "collapsed": true
	   },
	   "outputs": [],
"source": [
"clc;\n",
"warning('off');\n",
"printf('\n\n example2.9 - pg44');\n",
"// given\n",
"A=5;  //[m^2] - area of the plates\n",
"Ft=0.083  //[N] - force on the top plate\n",
"Fb=-0.027;  //[N] - force on the bottom plate\n",
"ut=-0.3;  //[m/sec] - velocity of the top plate\n",
"ub=0.1;  //[m/sec] - velocity of the bottom plate\n",
"dely=0.01;  //[m]\n",
"delux=ut-ub;  //[m/sec]\n",
"// using the formula tauyx=F/A=-mu(delux/dely)\n",
"tauyx=(Ft-Fb)/A;\n",
"mu=tauyx/(-delux/dely);  //[Ns/m^2]\n",
"mu=mu*10^3;  //[cP]\n",
"printf('\n\n The viscosity of toulene in centipose is %fcP',mu);\n",
""
   ]
   }
],
"metadata": {
		  "kernelspec": {
		   "display_name": "Scilab",
		   "language": "scilab",
		   "name": "scilab"
		  },
		  "language_info": {
		   "file_extension": ".sce",
		   "help_links": [
			{
			 "text": "MetaKernel Magics",
			 "url": "https://github.com/calysto/metakernel/blob/master/metakernel/magics/README.md"
			}
		   ],
		   "mimetype": "text/x-octave",
		   "name": "scilab",
		   "version": "0.7.1"
		  }
		 },
		 "nbformat": 4,
		 "nbformat_minor": 0
}
