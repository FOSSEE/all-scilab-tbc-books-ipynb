{
"cells": [
 {
		   "cell_type": "markdown",
	   "metadata": {},
	   "source": [
       "# Chapter 3: molecular transport and the general property balance"
	   ]
	},
{
		   "cell_type": "markdown",
		   "metadata": {},
		   "source": [
			"## Example 3.1: balance_or_conservation_concept.sce"
		   ]
		  },
  {
"cell_type": "code",
	   "execution_count": null,
	   "metadata": {
	    "collapsed": true
	   },
	   "outputs": [],
"source": [
"clc;\n",
"warning('off');\n",
"printf('\n\n example3.1 - pg65');\n",
"// given\n",
"a=0.0006;  //[m^2] - area\n",
"l=0.1;  //[m] - length\n",
"// (a) using the fourier law\n",
"deltax=0.1;  //[m] - thickness of copper block\n",
"T2=100;  //[degC] - temp on one side of copper block\n",
"T1=0;  //[degC] - temp on other side of the copper block\n",
"k=380;  //[W/mK] - thermal conductivity\n",
"// using the formula (q/A)*deltax=-k*(T2-T1)\n",
"g=-k*(T2-T1)/deltax;\n",
"printf('\n\n (a) The steady state heat flux across the copper block is\n q/A=%5eJ*m^-2*sec^-1 ',g);\n",
"// (b)\n",
"V=a*l; //[m^3] - volume\n",
"// using the overall balance equation with the accumulation and generation term\n",
"Qgen=1.5*10^6;  //[j*m^-3*sec^-1]\n",
"SIx=(g*a-Qgen*V)/a;\n",
"printf('\n\n (b) the flux at face 1 is %5ej*m^-2*sec^-1;\nthe negative sign indicates taht the heat flux is from right to left(negative x direction',SIx);\n",
""
   ]
   }
,
{
		   "cell_type": "markdown",
		   "metadata": {},
		   "source": [
			"## Example 3.2: the_balance_equation_in_differential_form.sce"
		   ]
		  },
  {
"cell_type": "code",
	   "execution_count": null,
	   "metadata": {
	    "collapsed": true
	   },
	   "outputs": [],
"source": [
"clc;\n",
"warning('off');\n",
"printf('\n\n example3.2 - pg68');\n",
"// given\n",
"syms x;\n",
"SIx2=-3.8*10^5;  //[j*m^-2*sec^-1] - flux at x=0.1,i.e through face2\n",
"Qgen=1.5*10^6;  //[j*m^-3*sec^-1] - uniform generation in the volume\n",
"T2=100+273.15;  //[K] temperature at face 2\n",
"x2=0.1;  //[m]\n",
"k=380;  //[W/mK] - thermal conductivity\n",
"// using the equation der(SIx)*x=SIx+c1;where c1 is tyhe constant of integration\n",
"c1=(Qgen*x2)-SIx2;\n",
"disp(c1)\n",
"SIx=Qgen*x-c1;\n",
"disp(SIx,'SIx=');\n",
"printf('\n where SIx is in units of j m^-2 sec^-1 and x is in units of m');\n",
"// using the equation -k*T=der(SIx)*x^2-c1*x+c2;where c2 is the constant of integration\n",
"c2=-k*T2-(Qgen*(x2)^2)/2+c1*x2;\n",
"T=-(Qgen/k)*x^2+(c1/k)*x-(c2/k);\n",
"disp(T,'T=');\n",
"printf('\n where T is in units of kelvin(K)');\n",
"\n",
""
   ]
   }
,
{
		   "cell_type": "markdown",
		   "metadata": {},
		   "source": [
			"## Example 3.3: the_balance_equation_in_differential_form.sce"
		   ]
		  },
  {
"cell_type": "code",
	   "execution_count": null,
	   "metadata": {
	    "collapsed": true
	   },
	   "outputs": [],
"source": [
"clc;\n",
"warning('off');\n",
"printf('\n\n example3.3 - pg69');\n",
"// given\n",
"syms t x;\n",
"hf1=-270;  //[J/sec] - heat flow at face 1\n",
"hf2=-228;  //[J/sec] - heat flow at face2\n",
"Qgen=1.5*10^6;  //[J*m^-3*sec^-1] generation per unit volume per unit time\n",
"v=6*10^-5;  //[m^3] volume\n",
"Cp=0.093;  //[cal*g^-1*K^-1] heat capacity of copper\n",
"sp=8.91;  //specific gravity of copper\n",
"a=0.0006;  //[m^2] - area\n",
"// (a) using the overall balance\n",
"acc=hf1-hf2+Qgen*v;\n",
"printf('\n\n (a) the rate of accumulation is %fJ/sec\n\n ',acc);\n",
"// (b) \n",
"SIx1=hf1/a;\n",
"SIx2=hf2/a;\n",
"x1=0;\n",
"// solving for the constant of integration c1 in the equation [del(p*cp*T)/delt-der(SIx)]*x=-SIx+c1;\n",
"c1=0+SIx1;\n",
"x2=0.1;\n",
"g=(-(SIx2)+c1)/x2+Qgen;\n",
"SIx=c1-(g-Qgen)*x;\n",
"disp(SIx,'SI(x)=','(b)');\n",
"// solving for constant of integration c3 in the equation p*cp*T=g*t+c3\n",
"T2=100+273.15;\n",
"t2=0;\n",
"p=sp*10^3;  //[kg/m^3] - density\n",
"cp=Cp*4.1840;  //[J*kg^-1*K^-1]\n",
"c3=p*cp*T2-g*t2;\n",
"T=(g*(10^-3)/(p*cp))*t+c3/(p*cp);\n",
"disp(T,'T=');\n",
"// solving for constant of integration c2 in the equation -k*T=der(SIx)*x^2-c1*x+c2\n",
"k=380;  //[w/m^1*K^1]\n",
"x2=0.1;\n",
"c2=k*T+(3.5*10^5)*x2^2-(4.5*10^5)*x2;\n",
"function y=T(t,x)\n",
"    y=(-(3.5*10^5)*x^2+(4.5*10^5)*x+87.7*t+1.00297*10^5)/k;\n",
"endfunction\n",
"// at face 1;\n",
"x1=0;\n",
"t1=60;  //[sec]\n",
"T1=T(t1,x1);\n",
"disp(T1,'T=','at face 1');\n",
"// at face 2\n",
"x2=0.1;\n",
"t2=60;  // [sec]\n",
"T2=T(t2,x2);\n",
"disp(T2,'T=','at face 2');\n",
"\n",
"\n",
"\n",
"\n",
"\n",
""
   ]
   }
],
"metadata": {
		  "kernelspec": {
		   "display_name": "Scilab",
		   "language": "scilab",
		   "name": "scilab"
		  },
		  "language_info": {
		   "file_extension": ".sce",
		   "help_links": [
			{
			 "text": "MetaKernel Magics",
			 "url": "https://github.com/calysto/metakernel/blob/master/metakernel/magics/README.md"
			}
		   ],
		   "mimetype": "text/x-octave",
		   "name": "scilab",
		   "version": "0.7.1"
		  }
		 },
		 "nbformat": 4,
		 "nbformat_minor": 0
}
