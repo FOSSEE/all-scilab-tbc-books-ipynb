{
"cells": [
 {
		   "cell_type": "markdown",
	   "metadata": {},
	   "source": [
       "# Chapter 13: unsteady state transport"
	   ]
	},
{
		   "cell_type": "markdown",
		   "metadata": {},
		   "source": [
			"## Example 13.10: cyclinder.sce"
		   ]
		  },
  {
"cell_type": "code",
	   "execution_count": null,
	   "metadata": {
	    "collapsed": true
	   },
	   "outputs": [],
"source": [
"clc;\n",
"warning('off');\n",
"printf('\n\n example13.10 - pg701');\n",
"// given\n",
"d=0.01;  //[m] - diameter of cyclindrical porous plug\n",
"D=2*10^-9;  //[m^2/sec] - diffusion coefficient\n",
"t=60*60;  //[sec]\n",
"r=d/2;\n",
"m=0;\n",
"Ca_inf=0;\n",
"Ca_0=10;\n",
"X=(D*t)/((r)^2);\n",
"// from fig 13.14 the ordinate is\n",
"Y=0.7;\n",
"Ca_c=Ca_inf-Y*(Ca_inf-Ca_0);\n",
"printf('\n\n the concentration of KCL at the centre after 60 min is \n Ca = %f kg/m^3',Ca_c);\n",
""
   ]
   }
,
{
		   "cell_type": "markdown",
		   "metadata": {},
		   "source": [
			"## Example 13.1: heat_transfer_with_negligible_internal_resistance.sce"
		   ]
		  },
  {
"cell_type": "code",
	   "execution_count": null,
	   "metadata": {
	    "collapsed": true
	   },
	   "outputs": [],
"source": [
"clc;\n",
"warning('off');\n",
"printf('\n\n example13.1 - pg651');\n",
"// given\n",
"h=12;  //[W/m^2*K] - heat transfer coefficeint\n",
"k=400;  //[W/m*K] - thermal conductivity\n",
"// (a) for sphere\n",
"r=5*10^-2;  //[m] - radius of copper sphere\n",
"Lc=((4*%pi*((r)^3))/3)/(4*%pi*((r)^2));\n",
"Nbi=h*Lc*(1/k);\n",
"printf('\n\n (a) The biot no. is \n Nbi = %e',Nbi);\n",
"// (b) for cyclinder\n",
"r=0.05;  //[m] - radius of cyclinder\n",
"L=0.3;  //[m] - height of cyclinder\n",
"Lc=(%pi*((r)^2)*L)/(2*%pi*r*L);\n",
"Nbi=h*Lc*(1/k);\n",
"printf('\n\n (b) The biot no. is \n Nbi = %e',Nbi);\n",
"// (c) for a long square rod\n",
"L=.4;  //[m] - length of copper rod\n",
"r=0.05;  //[m] - radius of a cyclinder havimg same cross sectional area as that of square\n",
"x=((%pi*r^2)^(1/2));\n",
"Lc=((x^2)*L)/(4*x*L);\n",
"Nbi=h*Lc*(1/k);\n",
"printf('\n\n (c) The biot no. is \n Nbi = %e',Nbi);"
   ]
   }
,
{
		   "cell_type": "markdown",
		   "metadata": {},
		   "source": [
			"## Example 13.6: generalized_chart_solution_for_finite_slab_and_cyclinder.sce"
		   ]
		  },
  {
"cell_type": "code",
	   "execution_count": null,
	   "metadata": {
	    "collapsed": true
	   },
	   "outputs": [],
"source": [
"clc;\n",
"warning('off');\n",
"printf('\n\n example13_6 - pg684');\n",
"// given\n",
"d=1*0.0254;  //[m]\n",
"Lr=d/2;  //[m];\n",
"Lz=(1.2/2)*(0.0254);\n",
"x=Lz;\n",
"r=Lr;\n",
"k=0.481;\n",
"h=20;\n",
"mr=k/(h*Lr);\n",
"mz=k/(h*Lz);\n",
"nr=r/Lr;\n",
"nz=x/Lz;\n",
"t=1.2;  //[sec]\n",
"alpha=1.454*10^-4;\n",
"Xr=(alpha*t)/(Lr^2);\n",
"Xz=(alpha*t)/(Lz^2);\n",
"// using the above value of m,n,X the value for Ycz and Ycr from fig 13.14 is\n",
"Ycr=0.42;\n",
"Ycz=0.75;\n",
"Yc=Ycr*Ycz;\n",
"T_infinity=400;  //[K]\n",
"To=295;\n",
"Tc=T_infinity-(Yc*(T_infinity-To));\n",
"printf('\n\n The temperature t the centre is \n Tc = %f K',Tc);\n",
"\n",
""
   ]
   }
,
{
		   "cell_type": "markdown",
		   "metadata": {},
		   "source": [
			"## Example 13.7: generalized_chart_solution_for_finite_slab_and_cyclinder.sce"
		   ]
		  },
  {
"cell_type": "code",
	   "execution_count": null,
	   "metadata": {
	    "collapsed": true
	   },
	   "outputs": [],
"source": [
"clc;\n",
"warning('off');\n",
"printf('\n\n example13_7 - pg684');\n",
"// given\n",
"T_x0=300;  //[K]\n",
"Tw=400;  //[K]\n",
"L=0.013;  //[m]\n",
"alpha=2.476*(10^-5);  //[m^/sec]\n",
"h=600;  //[W/m^2*K]\n",
"pcp=3.393*(10^6);  //[J/m^3*K]\n",
"L=0.013;  //[m]\n",
"deltax=L/10;\n",
"betaa=0.5;\n",
"deltat=0.03;\n",
"deltat=betaa*((deltax)^2)*(1/alpha);\n",
"T_infinity=400;  //[K]\n",
"// to be sure that the solution is stable, it is customary to truncate this number\n",
"deltat=0.03;  //[sec]\n",
"// betaa=alpha*deltat*((1/deltax)^2);\n",
"    for i=1:11\n",
"    Told(i)=300;\n",
"end\n",
"a=((2*h*deltat)/(pcp*deltax));\n",
"b=((2*alpha*deltat)/(pcp*((deltax)^2)));\n",
"for j=1:11\n",
"Tnew(1)=(T_infinity*0.08162)+(Told(1)*(1-0.08162-0.8791))+(Told(2)*0.8791)\n",
"for k=1:9\n",
"    Tnew(k+1)=(betaa*Told(k+2))+((1-2*betaa)*(Told(k+1)))+(betaa*Told(k));\n",
"end\n",
"Tnew(11)=((2*betaa)*(Told(10)))\n",
"Told=Tnew;\n",
"end\n",
"disp(Told);\n",
"\n",
"\n",
"\n",
"\n",
"\n",
"\n",
"\n",
"\n",
"\n",
""
   ]
   }
,
{
		   "cell_type": "markdown",
		   "metadata": {},
		   "source": [
			"## Example 13.9: semi_infinite_slab.sce"
		   ]
		  },
  {
"cell_type": "code",
	   "execution_count": null,
	   "metadata": {
	    "collapsed": true
	   },
	   "outputs": [],
"source": [
"clc;\n",
"warning('off');\n",
"printf('\n\n example 13_9 - pg700');\n",
"// given\n",
"p=2050;  //[kg/m^3] - density of soil\n",
"cp=1840;  //[J/kg*K] - heat cpapacity of soil\n",
"k=0.52;  //[W/m*K] - thermal conductivity of soil\n",
"alpha=0.138*10^-6;  //[m^2/sec]\n",
"t=4*30*24*3600;  //[sec] - no. of seconds in 4 months\n",
"Tx=-5;  //[degC]\n",
"Tinf=-20;  //[degC]\n",
"T0=20;  //[degC]\n",
"// from the fig 13.24 the dimensionless distance Z is \n",
"Z=0.46;\n",
"// then the depth is\n",
"x=2*((alpha*t)^(1/2))*Z\n",
"printf('\n\n the depth is \n x = %f m = %f ft',x,x*(3.6/1.10));\n",
"\n",
"\n",
""
   ]
   }
],
"metadata": {
		  "kernelspec": {
		   "display_name": "Scilab",
		   "language": "scilab",
		   "name": "scilab"
		  },
		  "language_info": {
		   "file_extension": ".sce",
		   "help_links": [
			{
			 "text": "MetaKernel Magics",
			 "url": "https://github.com/calysto/metakernel/blob/master/metakernel/magics/README.md"
			}
		   ],
		   "mimetype": "text/x-octave",
		   "name": "scilab",
		   "version": "0.7.1"
		  }
		 },
		 "nbformat": 4,
		 "nbformat_minor": 0
}
