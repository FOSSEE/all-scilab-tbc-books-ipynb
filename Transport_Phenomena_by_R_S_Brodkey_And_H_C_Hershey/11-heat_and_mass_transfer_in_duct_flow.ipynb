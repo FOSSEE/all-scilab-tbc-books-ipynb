{
"cells": [
 {
		   "cell_type": "markdown",
	   "metadata": {},
	   "source": [
       "# Chapter 11: heat and mass transfer in duct flow"
	   ]
	},
{
		   "cell_type": "markdown",
		   "metadata": {},
		   "source": [
			"## Example 11.10: multipass_heat_exchangers_equipment.sce"
		   ]
		  },
  {
"cell_type": "code",
	   "execution_count": null,
	   "metadata": {
	    "collapsed": true
	   },
	   "outputs": [],
"source": [
"clc;\n",
"warning('off');\n",
"printf('\n\n example11.10 - pg544');\n",
"// given\n",
"Ui=325;  //[W/m^2*K] - overall heat transfer coefficient\n",
"Thi=120;  //[degC] - inlet temperature of hydrocarbon\n",
"Tho=65;  //[degC] - outlet temperature of hydrocarbon\n",
"Tci=15;  //[degC] - inlet temperature of water\n",
"Tco=50;  //[degC] - outlet temperture of water\n",
"cp=4184;  //[J/kg*K] - heat capacity of water\n",
"ch=4184*0.45;  //[J/kg*K] - heat capacity of hydrocarbon\n",
"wc=1.2;  //[kg/sec] - mass flow rate of water\n",
"wh=((wc*cp)*(Tco-Tci))/((ch)*(Thi-Tho));\n",
"qtotal=wc*cp*(Tco-Tci);\n",
"// (a) - parallel double pipe\n",
"F=1;\n",
"Thi=120;  //[degC] - inlet temperature of hydrocarbon\n",
"Tho=65;  //[degC] - outlet temperature of hydrocarbon\n",
"Tci=15;  //[degC] - inlet temperature of water\n",
"Tco=50;  //[degC] - outlet temperture of water\n",
"deltaT1=Thi-Tci;\n",
"deltaT2=Tho-Tco;\n",
"LMTD=(deltaT2-deltaT1)/(log(deltaT2/deltaT1));\n",
"Ai=qtotal/((Ui*LMTD));\n",
"printf('\n\n (a) parallel double pipe \n Ai = %f m^2',Ai);\n",
"// (b) - counter flow\n",
"F=1;\n",
"Thi=120;  //[degC] - inlet temperature of hydrocarbon\n",
"Tho=65;  //[degC] - outlet temperature of hydrocarbon\n",
"Tco=15;  //[degC] - inlet temperature of water\n",
"Tci=50;  //[degC] - outlet temperture of water\n",
"deltaT1=Thi-Tci;\n",
"deltaT2=Tho-Tco;\n",
"LMTD=(deltaT2-deltaT1)/(log(deltaT2/deltaT1));\n",
"Ai=qtotal/((Ui*LMTD));\n",
"printf('\n\n (b) counter flow \n  Ai = %f m^2',Ai);\n",
"// (c) - 1-2 shell and tube \n",
"Thi=120;  //[degC] - inlet temperature of hydrocarbon\n",
"Tho=65;  //[degC] - outlet temperature of hydrocarbon\n",
"Tci=15;  //[degC] - inlet temperature of water\n",
"Tco=50;  //[degC] - outlet temperture of water\n",
"Z=(Thi-Tho)/(Tco-Tci);\n",
"nh=(Tco-Tci)/(Thi-Tci);\n",
"deltaT1=Thi-Tco;\n",
"deltaT2=Tho-Tci;\n",
"F=0.92;\n",
"LMTD=(F*(deltaT2-deltaT1))/(log(deltaT2/deltaT1));\n",
"Ai=qtotal/((Ui*LMTD));\n",
"printf('\n\n (c) 1-2 shell and tube \n  Ai = %f m^2',Ai);\n",
"// (d) - 2-4 shell and tube\n",
"Thi=120;  //[degC] - inlet temperature of hydrocarbon\n",
"Tho=65;  //[degC] - outlet temperature of hydrocarbon\n",
"Tci=15;  //[degC] - inlet temperature of water\n",
"Tco=50;  //[degC] - outlet temperture of water\n",
"Z=(Thi-Tho)/(Tco-Tci);\n",
"nh=(Tco-Tci)/(Thi-Tci);\n",
"F=0.975;\n",
"LMTD=(F*(deltaT2-deltaT1))/(log(deltaT2/deltaT1));\n",
"Ai=qtotal/((Ui*LMTD));\n",
"printf('\n\n (d) 2-4 shell and tube \n  Ai = %f m^2',Ai);\n",
"\n",
""
   ]
   }
,
{
		   "cell_type": "markdown",
		   "metadata": {},
		   "source": [
			"## Example 11.1: conduction.sce"
		   ]
		  },
  {
"cell_type": "code",
	   "execution_count": null,
	   "metadata": {
	    "collapsed": true
	   },
	   "outputs": [],
"source": [
"clc;\n",
"warning('off');\n",
"printf('\n\n example11.1 - pg497');\n",
"// given\n",
"K_drywall=0.28;  //[Btu/ft*degF] - thermal conductivity of dry wall\n",
"K_fibreglass=0.024;  //[Btu/ft*degF] - thermal conductivity of fibre glass\n",
"K_concrete=0.5;  //[Btu/ft*degF] - thermal conductivity of concrete\n",
"T4=0;  //[degF]\n",
"T1=65;  //[degF]\n",
"deltaT=T4-T1;  //[degF]\n",
"a=1;  //[ft^2] - assuming area of 1 ft^2\n",
"deltax1=0.5/12;  //[ft]\n",
"deltax2=3.625/12;  //[ft]\n",
"deltax3=6/12;  //[ft]\n",
"R1=deltax1/(K_drywall*a);  //[h*degF/Btu]\n",
"R2=deltax2/(K_fibreglass*a);  //[h*degF/Btu]\n",
"R3=deltax3/(K_concrete*a);  //[h*degF/Btu]\n",
"qx=deltaT/(R1+R2+R3);\n",
"q12=-qx;\n",
"q23=-qx;\n",
"q34=-qx;\n",
"deltaT1=(-q12)*deltax1*(1/(K_drywall*a));\n",
"T2=T1+deltaT1;\n",
"deltaT2=(-q23)*deltax2*(1/(K_fibreglass*a));\n",
"T3=T2+deltaT2;\n",
"deltaT3=(-q34)*deltax3*(1/(K_concrete*a));\n",
"T4=T3+deltaT3;\n",
"printf('\n\n T1 = %f degF\n T2 = %f degF\n T3 = %f degF\n T4 = %f degF',T1,T2,T3,T4);\n",
""
   ]
   }
,
{
		   "cell_type": "markdown",
		   "metadata": {},
		   "source": [
			"## Example 11.2: the_resistance_concept.sce"
		   ]
		  },
  {
"cell_type": "code",
	   "execution_count": null,
	   "metadata": {
	    "collapsed": true
	   },
	   "outputs": [],
"source": [
"clc;\n",
"warning('off');\n",
"printf('\n\n example11.2 - pg501');\n",
"// given\n",
"r1=(2.067/2)/(12);  //[ft]\n",
"r2=r1+0.154/12;  //[ft]\n",
"r3=r2+3/12;  //[ft]\n",
"L=1;  //[ft]\n",
"Ka=26;  //[Btu/h*ft*degF]\n",
"Kb=0.04;  //[Btu/h*ft*degF]\n",
"T1=50;  //[degF]\n",
"Ra=(log(r2/r1))/(2*%pi*L*Ka);\n",
"Rb=(log(r3/r2))/(2*%pi*L*Kb);\n",
"R=Ra+Rb;\n",
"deltaT=-18;  //[degF] - driving force\n",
"Qr=-(deltaT/(R));\n",
"disp(Qr);\n",
"deltaT1=(-Qr)*(Ra);\n",
"T2=T1+deltaT1;\n",
"printf('\n\n The interface temperature is \n T2 = %f degF',T2);\n",
"\n",
""
   ]
   }
,
{
		   "cell_type": "markdown",
		   "metadata": {},
		   "source": [
			"## Example 11.3: the_resistance_concept.sce"
		   ]
		  },
  {
"cell_type": "code",
	   "execution_count": null,
	   "metadata": {
	    "collapsed": true
	   },
	   "outputs": [],
"source": [
"clc;\n",
"warning('off');\n",
"printf('\n\n example11.3 - pg502');\n",
"// given\n",
"Ra=8.502*10^-4;  //[h*degF*Btu^-1]\n",
"Rb=5.014;  //[h*degF*Btu^-1]\n",
"r1=(2.067/2)/(12);  //[ft]\n",
"r2=r1+0.154/12;  //[ft]\n",
"r3=r2+3/12;  //[ft]\n",
"d1=2*r1;\n",
"d0=2*r3;\n",
"h0=25;  //[Btu/h*ft^2*degF]\n",
"h1=840;  //[Btu/h*ft^2*degF]\n",
"L=1;  //[ft] - considering 1 feet length\n",
"R0=1/(h0*%pi*d0*L);\n",
"R1=1/(h1*%pi*d1*L);\n",
"R=R0+R1+Ra+Rb;\n",
"disp(R);\n",
"deltaT=-400;  //[degF]\n",
"Qr=-(deltaT)/R;\n",
"disp(Qr);\n",
"// the heat loss calculated above is the heat loss per foot.therefore for 500 ft\n",
"L=500;\n",
"Qr=Qr*L;\n",
"printf('\n\n the heat loss for a 500 feet pipe is \n qr = %e Btu/h',Qr);\n",
""
   ]
   }
,
{
		   "cell_type": "markdown",
		   "metadata": {},
		   "source": [
			"## Example 11.5: heat_and_mass_transfer_during_turbulent_flow.sce"
		   ]
		  },
  {
"cell_type": "code",
	   "execution_count": null,
	   "metadata": {
	    "collapsed": true
	   },
	   "outputs": [],
"source": [
"clc;\n",
"warning('off');\n",
"printf('\n\n example11.5 - pg521');\n",
"// given\n",
"Nre=50000;\n",
"d=0.04;  //[m] - diameter of pipe\n",
"// physical properties of water\n",
"T1=293.15;  //[K]\n",
"T2=303.15;  //[K]\n",
"T3=313.15;  //[K]\n",
"p1=999;  //[kg/m^3] - density of water at temperature T1\n",
"p2=996.0;  //[kg/m^3] - density of water at temperature T2\n",
"p3=992.1;  //[kg/m^3] - density of water at temperature T3\n",
"mu1=1.001;  //[cP] - viscosity of water at temperature T1\n",
"mu2=0.800;  //[cP] - viscosity of water at temperature T2\n",
"mu3=0.654;  //[cP] - viscosity of water at temperature T3\n",
"k1=0.63;  //[W/m*K] - thermal conductivity of water at temperature T1\n",
"k2=0.618;  //[W/m*K] - thermal conductivity of water at temperature T2\n",
"k3=0.632;  //[W/m*K] - thermal conductivity of water at temperature T3\n",
"cp1=4182;  //[J/kg*K] - heat capacity of water at temperature T1\n",
"cp2=4178;  //[J/kg*K] - heat capacity of water at temperature T2\n",
"cp3=4179;  //[J/kg*K] - heat capacity of water at temperature T3\n",
"Npr1=6.94;  // prandtl no. at temperature T1\n",
"Npr2=5.41;  // prandtl no. at temperature T2\n",
"Npr3=4.32;  // prandtl no. at temperature T3\n",
"// (a)  Dittus -Boelter-this correction evalutes all properties at the mean bulk temperature,which is T1\n",
"kmb=0.603\n",
"h=(kmb/d)*0.023*((Nre)^(0.8))*((Npr1)^0.4);\n",
"printf('\n\n (a) Dittus -Boelter\n the heat transfer coefficient is \n h = %f W/m^2*K = %f Btu/ft^2*h^-1*degF',h,h*0.17611);\n",
"// (b) Seider Tate-this correlation evaluates all the properties save muw at the mean bulk temperature \n",
"h=(kmb/d)*(0.027)*((Nre)^0.8)*((Npr1)^(1/3))*((mu1/mu3)^0.14);\n",
"printf('\n\n (b) Seider Tate\n the heat transfer coefficient is \n h = %f W/m^2*K = %f Btu/ft^2*h^-1*degF',h,h*0.17611);\n",
"// (c) Sleicher-Rouse equation\n",
"a=0.88-(0.24/(4+Npr3));\n",
"b=(1/3)+0.5*exp((-0.6)*Npr3);\n",
"Nref=Nre*(mu1/mu2)*(p2/p1);\n",
"Nnu=5+0.015*((Nref)^a)*((Npr3)^b);\n",
"h=Nnu*(kmb/d);\n",
"printf('\n\n (c) Sleicher-Rouse equation\n the heat transfer coefficient is \n h = %f W/m^2*K = %f Btu/ft^2*h^-1*degF',h,h*0.17611);\n",
"// (d) Colbum Analogy- the j factor for heat transfer is calculated\n",
"jh=0.023*((Nref)^(-0.2));\n",
"Nst=jh*((Npr2)^(-2/3));\n",
"U=(Nre*mu1*10^-3)/(d*p1);\n",
"h=Nst*(p1*cp1*U);\n",
"printf('\n\n (d) Colbum Analogy\n the heat transfer coefficient is \n h = %f W/m^2*K = %f Btu/ft^2*h^-1*degF',h,h*0.17611);\n",
"// (e) Friend-Metzner\n",
"f=0.005227;\n",
"Nnu=((Nre)*(Npr1)*(f/2)*((mu1/mu3)^0.14))/(1.20+((11.8)*((f/2)^(1/2))*(Npr1-1)*((Npr1)^(-1/3))));\n",
"h=Nnu*(kmb/d);\n",
"printf('\n\n (e) Friend-Metzner\n the heat transfer coefficient is \n h = %f W/m^2*K = %f Btu/ft^2*h^-1*degF',h,h*0.17611);\n",
"// (f) Numerical analysis\n",
"Nnu=320;\n",
"h=Nnu*(kmb/d);\n",
"printf('\n\n (f) Numerical analysis\n the heat transfer coefficient is \n h = %f W/m^2*K = %f Btu/ft^2*h^-1*degF',h,h*0.17611);\n",
"\n",
"\n",
"\n",
""
   ]
   }
,
{
		   "cell_type": "markdown",
		   "metadata": {},
		   "source": [
			"## Example 11.6: heat_and_mass_transfer_during_turbulent_flow.sce"
		   ]
		  },
  {
"cell_type": "code",
	   "execution_count": null,
	   "metadata": {
	    "collapsed": true
	   },
	   "outputs": [],
"source": [
"clc;\n",
"warning('off');\n",
"printf('\n\n example11.6 - pg525');\n",
"// given\n",
"Tw=680;  //[K] - temperature at the wall\n",
"Tb=640;  //[K] - temperature at the bulk\n",
"Tf=(Tw+Tb)/2;  //[K]\n",
"Nre=50000;\n",
"vmb=2.88*10^-7;\n",
"vf=2.84*10^-7;\n",
"Nref=Nre*(vmb/vf);\n",
"k=27.48;\n",
"d=0.04;\n",
"// from table 11.3 the prandtl no. is\n",
"Npr=8.74*10^-3\n",
"// constant heat flow\n",
"Nnu=6.3+(0.0167)*((Nref)^0.85)*((Npr)^0.93);\n",
"h=Nnu*(k/d);\n",
"printf('\n\n constant heat flow\n h = %f W/m^2*K = %f Btu/ft^2*h*degF',h,h*0.17611);\n",
"// constant wall temperature\n",
"Nnu=4.8+0.0156*((Nref)^0.85)*((Npr)^0.93);\n",
"h=Nnu*(k/d);\n",
"printf('\n\n constant wall temperature\n h = %f W/m^2*K = %f Btu/ft^2*h*degF',h,h*0.17611);"
   ]
   }
,
{
		   "cell_type": "markdown",
		   "metadata": {},
		   "source": [
			"## Example 11.7: double_pipe_heat_exchangers_simple_solutions.sce"
		   ]
		  },
  {
"cell_type": "code",
	   "execution_count": null,
	   "metadata": {
	    "collapsed": true
	   },
	   "outputs": [],
"source": [
"clc;\n",
"warning('off');\n",
"printf('\n\n example11.7 - pg536');\n",
"// given\n",
"di=0.620;  //[inch] - internal diameter\n",
"d0=0.750;  //[inch] - outer diameter\n",
"Ai=0.1623;  //[ft^2/ft]\n",
"Ao=0.1963;  //[ft^2/ft]\n",
"wc=12*(471.3/0.9425);\n",
"cp=1;  //[Btu/lbm*degF] - heat capacity of water\n",
"Tco=110;\n",
"Tci=50;\n",
"qtotal=wc*cp*(Tco-Tci);\n",
"deltaH_coldwater=3.6*10^5;\n",
"deltaH_vapourization=1179.7-269.59;\n",
"wh=deltaH_coldwater/deltaH_vapourization;\n",
"hi=80;  //[Btu/h*ft^2*degF]\n",
"ho=500;  //[Btu/h*ft^2*degF]\n",
"km=26;  //[Btu/h*ft*degF]\n",
"Ui=1/((1/hi)+((Ai*log(d0/di))/(2*%pi*km))+(Ai/(Ao*ho)));\n",
"disp(Ui)\n",
"deltaT1=300-50;\n",
"deltaT2=300-110;\n",
"LMTD=(deltaT1-deltaT2)/(log(deltaT1/deltaT2));\n",
"A=qtotal/(Ui*LMTD);\n",
"L=A/Ai;\n",
"printf('\n\n the length of the heat exchanger is \n L = %f ft',L);\n",
""
   ]
   }
,
{
		   "cell_type": "markdown",
		   "metadata": {},
		   "source": [
			"## Example 11.8: double_pipe_heat_exchangers_simple_solutions.sce"
		   ]
		  },
  {
"cell_type": "code",
	   "execution_count": null,
	   "metadata": {
	    "collapsed": true
	   },
	   "outputs": [],
"source": [
"clc;\n",
"warning('off');\n",
"printf('\n\n example11.8 - pg537');\n",
"// given\n",
"L=30;  //[ft] - length\n",
"Ai=0.1623*L;\n",
"di=0.620;  //[inch] - internal diameter\n",
"d0=0.750;  //[inch] - outer diameter\n",
"Ao=0.1963*L;  //[ft^2/ft]\n",
"wc=12*(471.3/0.9425);\n",
"cp=1;  //[Btu/lbm*degF] - heat capacity of water\n",
"deltaH_coldwater=3.6*10^5;\n",
"deltaH_vapourization=1179.7-269.59;\n",
"wh=deltaH_coldwater/deltaH_vapourization;\n",
"hi=80;  //[Btu/h*ft^2*degF]\n",
"ho=500;  //[Btu/h*ft^2*degF]\n",
"km=26;  //[Btu/h*ft*degF]\n",
"Ui=1/((1/hi)+(((Ai/L)*log(d0/di))/(2*%pi*km))+(Ai/(Ao*ho)));\n",
"deltaT1=300-50;\n",
"deltaT=deltaT1/(exp((Ui*Ai)/(wc*cp)));\n",
"Tsat=300;\n",
"Tc2=Tsat-deltaT;\n",
"printf('\n\n Therefore, the outlet temperature of the cold fluid is \n Tc2 = %f degF',Tc2);"
   ]
   }
,
{
		   "cell_type": "markdown",
		   "metadata": {},
		   "source": [
			"## Example 11.9: double_pipe_heat_exchangers_simple_solutions.sce"
		   ]
		  },
  {
"cell_type": "code",
	   "execution_count": null,
	   "metadata": {
	    "collapsed": true
	   },
	   "outputs": [],
"source": [
"clc;\n",
"warning('off');\n",
"printf('\n\n example11.9 - pg538');\n",
"// given\n",
"Ai=4.869;\n",
"wc=6000;\n",
"cp=1;\n",
"Rf=0.002;\n",
"Uclean=69.685;\n",
"Udirty=1/(Rf+(1/Uclean));\n",
"deltaT1=300-50;\n",
"deltaT2=deltaT1/(exp((Udirty*Ai)/(wc*cp)));\n",
"Th2=300;\n",
"Tc2=Th2-deltaT2;\n",
"printf('\n\n the outlet temperature is \n Tc2 = %f degF',Tc2);"
   ]
   }
],
"metadata": {
		  "kernelspec": {
		   "display_name": "Scilab",
		   "language": "scilab",
		   "name": "scilab"
		  },
		  "language_info": {
		   "file_extension": ".sce",
		   "help_links": [
			{
			 "text": "MetaKernel Magics",
			 "url": "https://github.com/calysto/metakernel/blob/master/metakernel/magics/README.md"
			}
		   ],
		   "mimetype": "text/x-octave",
		   "name": "scilab",
		   "version": "0.7.1"
		  }
		 },
		 "nbformat": 4,
		 "nbformat_minor": 0
}
