{
"cells": [
 {
		   "cell_type": "markdown",
	   "metadata": {},
	   "source": [
       "# Chapter 2: The Unix Architecture and Command Usage"
	   ]
	},
{
		   "cell_type": "markdown",
		   "metadata": {},
		   "source": [
			"## Example 2.1: Shell_Name.sce"
		   ]
		  },
  {
"cell_type": "code",
	   "execution_count": null,
	   "metadata": {
	    "collapsed": true
	   },
	   "outputs": [],
"source": [
"clear()\n",
"clc\n",
"disp('Example 1   :                                                  Display the current working shell ')\n",
"disp('***************************************************************************')\n",
"disp('Answer    : ')\n",
"printf('The current Working Shell is ')\n",
"if (getos()=='Linux') then\n",
"    unix_w('echo $SHELL')\n",
"else\n",
"    printf('%s',getshell())\n",
"end\n",
"disp('***************************************************************************')"
   ]
   }
,
{
		   "cell_type": "markdown",
		   "metadata": {},
		   "source": [
			"## Example 2.2: Type_of_keywords.sce"
		   ]
		  },
  {
"cell_type": "code",
	   "execution_count": null,
	   "metadata": {
	    "collapsed": true
	   },
	   "outputs": [],
"source": [
"//Program for example 2 chapter 2\n",
"clear\n",
"clc\n",
"disp('Example 2: Display the type of a given variable or a command ')\n",
"disp('')\n",
"printf('\n*******************************************************************\n')\n",
"disp('Answer   :')\n",
"printf('THE FOLLOWING LINES OF CODE RUN \nONLY IN SCILAB INSTALLED IN UNIX ENVIRONMENT.....')\n",
"printf('\nTHE CONSOLE GIVES DIFFERENT \nOUTPUT IN OTHER OPERATING SYSTEMS')\n",
"if(getos() ~= 'Linux' )then\n",
"   ctd=input('Enter the command or variable whose type is to be determined  ')\n",
"   clc(1)\n",
"   pt = input('Enter the command again to confirm  ','s')\n",
"   clc(1)\n",
"    printf('Continue?....\ny :Yes\nAny other key:No')\n",
"    st = input('','s')\n",
"    clc(2)\n",
"    if( st ~= 'y') then\n",
"        exit\n",
"    else\n",
"        n=type(ctd)\n",
"        clc(1)\n",
"        printf('%s is a ',pt)\n",
"        select n\n",
"case            1 then\n",
"printf('a real or complex matrix of double.')\n",
"case            2 then\n",
"printf('a polynomial matrix.')\n",
"case           4 then\n",
"printf('a boolean matrix.')\n",
"case           5 then\n",
"printf('a sparse matrix.')\n",
"case 6 then\n",
"printf('a sparse boolean matrix.')\n",
"case 7 then\n",
"printf('Matlab sparse matrix')\n",
"case 8 then\n",
"printf('a matrix of integers stored on 1 (int8), 2 (int16) or 4 (int32) bytes.')\n",
"case 9 then\n",
"printf('a matrix of graphic handles.')\n",
"case 10 then\n",
"printf('a matrix of character strings.')\n",
"case 11 then\n",
"printf('an un-compiled function . A function created with deff with argument [n].')\n",
"case 13 then\n",
"printf('a compiled function .')\n",
"case 14 then\n",
"printf('a function library.')\n",
"case 15 then\n",
"printf('a list.')\n",
"case 16 then\n",
"printf('a typed list (tlist).')\n",
"case 17 then\n",
"printf('a matrix oriented typed list (mlist).')\n",
"case 128 then\n",
"printf('a pointer (Use case: lufact).')\n",
"case 129 then\n",
"printf('a size implicit polynomial used for indexing.')\n",
"case 130 then\n",
"printf('a built-in Scilab function, called also gateway (C, C++ or Fortran code).')\n",
"case 0 then\n",
"printf('a null variable. It is mainly used internally by Scilab. If a function has no declared returned argument like disp when it is called it returns a null variable. If a function is called with an omitted argument in the argument list like foo(a,,b) the missing argument is assigned to a null variable.')\n",
"        end\n",
"        end\n",
"else\n",
"    disp('Enter the file whose type is to be found')\n",
"    unix_w('read xtun;type $xtun')\n",
"end\n",
"printf('\n*******************************************************************\n')"
   ]
   }
,
{
		   "cell_type": "markdown",
		   "metadata": {},
		   "source": [
			"## Example 2.3: Path_Variable.sce"
		   ]
		  },
  {
"cell_type": "code",
	   "execution_count": null,
	   "metadata": {
	    "collapsed": true
	   },
	   "outputs": [],
"source": [
"clear\n",
"clc\n",
"disp('Example   3 :  Display the value of the path variable of the current command interpreter')\n",
"disp('*************************************************************************')\n",
"disp('Answer   :')\n",
"printf('THE FOLLOWING LINES OF CODE RUN \nONLY IN SCILAB INSTALLED IN UNIX ENVIRONMENT.....')\n",
"printf('\nTHE CONSOLE GIVES DIFFERENT \nOUTPUT IN OTHER OPERATING SYSTEMS\n\n')\n",
"halt('Continue  ?? ? ...')\n",
"if (getos() ~= 'Linux' ) then\n",
"    printf('The value of PATH variable is %s',SCIHOME)\n",
"else\n",
"    unix_w('echo The value of path variable is $PATH')\n",
"end\n",
"disp('****************************************************************************')"
   ]
   }
,
{
		   "cell_type": "markdown",
		   "metadata": {},
		   "source": [
			"## Example 2.4: Option_using.sce"
		   ]
		  },
  {
"cell_type": "code",
	   "execution_count": null,
	   "metadata": {
	    "collapsed": true
	   },
	   "outputs": [],
"source": [
"clear\n",
"clc\n",
"printf('Example 4   :  Show the usage of options in commands by \n\t\ttaking long listing(or detailed file listing)) ls -l as an example')\n",
"disp('*************************************************************************')\n",
"disp('Answer     :  ')\n",
"halt('Continue  ?? ? ...')\n",
"if (getos() ~= 'Linux' ) then\n",
"    printf('The details of files  in the current directory are \n')\n",
"    powershell('ls')\n",
"else\n",
"    unix_w('echo The details of files in the current directory are ; ls -l')\n",
"end\n",
"disp('****************************************************************************')"
   ]
   }
,
{
		   "cell_type": "markdown",
		   "metadata": {},
		   "source": [
			"## Example 2.5: Man_Pages.sce"
		   ]
		  },
  {
"cell_type": "code",
	   "execution_count": null,
	   "metadata": {
	    "collapsed": true
	   },
	   "outputs": [],
"source": [
"clear\n",
"clc\n",
"disp('Example 5:  Display all the manual pages related to a particular entered keyword ')\n",
"printf('\n*******************************************************************\n')\n",
"disp('Answer    : ')\n",
"disp('')\n",
"printf('THE FOLLOWING LINES OF CODE RUN \nONLY IN SCILAB INSTALLED IN UNIX ENVIRONMENT.....')\n",
"printf('\nTHE CONSOLE GIVES DIFFERENT \nOUTPUT IN OTHER OPERATING SYSTEMS\n\n')\n",
"halt('Continue  ?? ? ...')\n",
"if (getos() ~= 'Linux' ) then\n",
"    st=input('Enter the keyword to be found in the HELP pages   : ','string')\n",
"    clc(1)\n",
"    apropos(st)\n",
"else\n",
"    disp('Enter the keyword whose man pages are to be shown  : ')\n",
"    unix_w('read stx;man $stx')\n",
"end\n",
"disp('****************************************************************************')\n",
" "
   ]
   }
],
"metadata": {
		  "kernelspec": {
		   "display_name": "Scilab",
		   "language": "scilab",
		   "name": "scilab"
		  },
		  "language_info": {
		   "file_extension": ".sce",
		   "help_links": [
			{
			 "text": "MetaKernel Magics",
			 "url": "https://github.com/calysto/metakernel/blob/master/metakernel/magics/README.md"
			}
		   ],
		   "mimetype": "text/x-octave",
		   "name": "scilab",
		   "version": "0.7.1"
		  }
		 },
		 "nbformat": 4,
		 "nbformat_minor": 0
}
