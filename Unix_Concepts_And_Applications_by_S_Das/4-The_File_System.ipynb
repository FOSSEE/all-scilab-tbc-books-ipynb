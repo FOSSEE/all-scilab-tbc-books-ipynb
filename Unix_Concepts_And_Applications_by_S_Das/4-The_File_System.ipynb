{
"cells": [
 {
		   "cell_type": "markdown",
	   "metadata": {},
	   "source": [
       "# Chapter 4: The File System"
	   ]
	},
{
		   "cell_type": "markdown",
		   "metadata": {},
		   "source": [
			"## Example 4.1: Displaying_the_home_directory.sce"
		   ]
		  },
  {
"cell_type": "code",
	   "execution_count": null,
	   "metadata": {
	    "collapsed": true
	   },
	   "outputs": [],
"source": [
"mode(-1)\n",
"clear\n",
"clc\n",
"disp('Example 1    :               Show the path of the home directory of the file system')\n",
"disp('****************************************************************')\n",
"disp('Answer    :   ')\n",
"disp('INSTRUCTIONS   : ')\n",
"printf('\nHere all instructions are preloaded in the form of a demo\nPRESS ENTER AFTER EACH COMMAND to see its RESULT\nPRESS ENTER AFTER EACH RESULT TO GO TO THE NEXT COMMAND\n')\n",
"halt('.............Press [ENTER] to continue.....')\n",
"halt('')\n",
"clc\n",
"printf('\tUNIX SHELL SIMULATOR(DEMO VERSION WITH PRELOADED COMMANDS)\n\n\n')\n",
"printf('\n\n$ echo $HOME                        #To get the value of the home directory\n\n')\n",
"halt('........# (hit [ENTER] for result)')\n",
"clc(1)\n",
"printf(' %s \n',home)\n",
"halt('........# (hit [ENTER] for next instruction)')\n",
"printf('\n\n\n$ exit        #To exit the current simulation terminal and return to Scilab console\n\n')\n",
"halt('........# (hit [ENTER] for result)')\n",
"//clc()\n",
"printf('\n\n\t\t\tBACK TO SCILAB CONSOLE...\nLoading initial environment')\n",
"sleep(1000)"
   ]
   }
,
{
		   "cell_type": "markdown",
		   "metadata": {},
		   "source": [
			"## Example 4.2: Current_working_Directory.sce"
		   ]
		  },
  {
"cell_type": "code",
	   "execution_count": null,
	   "metadata": {
	    "collapsed": true
	   },
	   "outputs": [],
"source": [
"mode(-1)\n",
"clear\n",
"pwd\n",
"xt=ans\n",
"clc\n",
"disp('Example 1    :               Show the path of the current working directory')\n",
"disp('****************************************************************')\n",
"disp('Answer    :   ')\n",
"disp('INSTRUCTIONS   : ')\n",
"printf('\nHere all instructions are preloaded in the form of a demo\nPRESS ENTER AFTER EACH COMMAND to see its RESULT\nPRESS ENTER AFTER EACH RESULT TO GO TO THE NEXT COMMAND\n')\n",
"halt('.............Press [ENTER] to continue.....')\n",
"halt('')\n",
"clc\n",
"printf('\tUNIX SHELL SIMULATOR(DEMO VERSION WITH PRELOADED COMMANDS)\n\n\n')\n",
"printf('\n\n$ pwd                        #To get the value of the home directory\n\n')\n",
"halt('........# (hit [ENTER] for result)')\n",
"clc(1)\n",
"printf(' %s \n',xt)\n",
"halt('........# (hit [ENTER] for next instruction)')\n",
"printf('\n\n\n$ exit        #To exit the current simulation terminal and return to Scilab console\n\n')\n",
"halt('........# (hit [ENTER] for result)')\n",
"//clc()\n",
"printf('\n\n\t\t\tBACK TO SCILAB CONSOLE...\nLoading initial environment')\n",
"sleep(1000)"
   ]
   }
,
{
		   "cell_type": "markdown",
		   "metadata": {},
		   "source": [
			"## Example 4.3: Changing_Directory.sce"
		   ]
		  },
  {
"cell_type": "code",
	   "execution_count": null,
	   "metadata": {
	    "collapsed": true
	   },
	   "outputs": [],
"source": [
"clear\n",
"pwd\n",
"cwd=ans\n",
"mode(-1)\n",
"clc\n",
"printf('Example 3    :               Show the use of cd by going to the home directory \n')\n",
"disp('****************************************************************')\n",
"disp('Answer    :   ')\n",
"disp('INSTRUCTIONS   : ')\n",
"printf('\nHere all instructions are preloaded in the form of a demo\nPRESS ENTER AFTER EACH COMMAND to see its RESULT\nPRESS ENTER AFTER EACH RESULT TO GO TO THE NEXT COMMAND\n')\n",
"halt('.............Press [ENTER] to continue.....')\n",
"halt('')\n",
"clc\n",
"printf('\tUNIX SHELL SIMULATOR(DEMO VERSION WITH PRELOADED COMMANDS)\n\n\n')\n",
"printf('\n\n$ pwd                        #To get the value of the current directory\n\n')\n",
"halt('........# (hit [ENTER] for result)')\n",
"clc(1)\n",
"printf(' %s \n',cwd)\n",
"halt('........# (hit [ENTER] for next instruction)')\n",
"printf('\n\n\n$ cd                        #To go to the home directory\n\n')\n",
"halt('........# (hit [ENTER] for next instruction)')\n",
"clc(1)\n",
"printf('\n\n\n$ pwd                             \n\n')\n",
"halt('........# (hit [ENTER] for result)')\n",
"clc(1)\n",
"cd\n",
"xt=ans\n",
"printf(' %s \n',xt)\n",
"halt('........# (hit [ENTER] for next instruction)')\n",
"printf('\n\n\n$ exit        #To exit the current simulation terminal and return to Scilab console\n\n')\n",
"halt('........# (hit [ENTER] for result)')\n",
"cd(cwd)\n",
"//clc()\n",
"printf('\n\n\t\t\tBACK TO SCILAB CONSOLE...\nLoading initial environment')\n",
"sleep(1000)"
   ]
   }
,
{
		   "cell_type": "markdown",
		   "metadata": {},
		   "source": [
			"## Example 4.4: Creating_Directories.sce"
		   ]
		  },
  {
"cell_type": "code",
	   "execution_count": null,
	   "metadata": {
	    "collapsed": true
	   },
	   "outputs": [],
"source": [
"clear\n",
"mode(-1)\n",
"rmdir('pis')\n",
"pwd\n",
"cwd=ans\n",
"clc\n",
"printf('Example 4    :               Show the method of  creating a directory named pis \n \t\tand surf to the same directory \n')\n",
"disp('****************************************************************')\n",
"disp('Answer    :   ')\n",
"disp('INSTRUCTIONS   : ')\n",
"printf('\nHere all instructions are preloaded in the form of a demo\nPRESS ENTER AFTER EACH COMMAND to see its RESULT\nPRESS ENTER AFTER EACH RESULT TO GO TO THE NEXT COMMAND\n')\n",
"halt('.............Press [ENTER] to continue.....')\n",
"halt('')\n",
"clc\n",
"printf('\tUNIX SHELL SIMULATOR(DEMO VERSION WITH PRELOADED COMMANDS)\n\n\n')\n",
"printf('\n\n$ mkdir  pis                        #To make a directory named pis\n\n')\n",
"halt('........# (hit [ENTER] for result)')\n",
"clc(1)\n",
"mkdir('pis')\n",
"printf('\n\n\n$ cd  pis                      #To go to the current directory\n\n')\n",
"halt('........# (hit [ENTER] for next instruction)')\n",
"clc(1)\n",
"cd 'pis'\n",
"xt=ans\n",
"printf('\n\n\n$ pwd                             \n\n')\n",
"halt('........# (hit [ENTER] for result)')\n",
"clc(1)\n",
"printf(' %s \n',xt)\n",
"halt('........# (hit [ENTER] for next instruction)')\n",
"printf('\n\n\n$ exit        #To exit the current simulation terminal and return to Scilab console\n\n')\n",
"halt('........# (hit [ENTER] for result)')\n",
"cd(cwd)\n",
"//clc()\n",
"printf('\n\n\t\t\tBACK TO SCILAB CONSOLE...\nLoading initial environment')\n",
"sleep(1000)"
   ]
   }
,
{
		   "cell_type": "markdown",
		   "metadata": {},
		   "source": [
			"## Example 4.5: Removing_Directories.sce"
		   ]
		  },
  {
"cell_type": "code",
	   "execution_count": null,
	   "metadata": {
	    "collapsed": true
	   },
	   "outputs": [],
"source": [
"clear\n",
"mode(-1)\n",
"rmdir('pis')\n",
"pwd\n",
"cwd=ans\n",
"clc\n",
"printf('Example 5    :               Show the method of  removing a directory\n named pis(after creating a directory named pis) \n \t\tand surf to the same directory \n')\n",
"disp('****************************************************************')\n",
"disp('Answer    :   ')\n",
"disp('INSTRUCTIONS   : ')\n",
"printf('\nHere all instructions are preloaded in the form of a demo\nPRESS ENTER AFTER EACH COMMAND to see its RESULT\nPRESS ENTER AFTER EACH RESULT TO GO TO THE NEXT COMMAND\n')\n",
"halt('.............Press [ENTER] to continue.....')\n",
"halt('')\n",
"clc\n",
"printf('\tUNIX SHELL SIMULATOR(DEMO VERSION WITH PRELOADED COMMANDS)\n\n\n')\n",
"printf('\n\n$ mkdir  pis                        #To make a directory named pis\n\n')\n",
"halt('........# (hit [ENTER] )')\n",
"clc(1)\n",
"mkdir('pis')\n",
"printf('\n\n\n$ cd pis;pwd                      #To go to the  directory named pis and open it\n\n')\n",
"halt('........# (hit [ENTER] )')\n",
"clc(1)\n",
"cd 'pis'\n",
"xt=ans\n",
"printf(' %s \n',xt)\n",
"halt('........# (hit [ENTER] )')\n",
"printf('\n\n\n$ cd  ..                      #To go to the parent directory\n\n')\n",
"halt('........# (hit [ENTER] )')\n",
"clc(1)\n",
"cd(cwd)\n",
"xt=ans\n",
"printf('\n\n\n$ pwd                             \n\n')\n",
"halt('........# (hit [ENTER] for result)')\n",
"clc(1)\n",
"printf(' %s \n',xt)\n",
"halt('........# (hit [ENTER] for next instruction)')\n",
"printf('\n\n\n$ rmdir pis                         #To make a directory named pis     \n\n')\n",
"halt('........# (hit [ENTER] )')\n",
"clc(1)\n",
"rmdir pis\n",
"printf('\n\n\n$ ls  pis                      #To go to the current directory\n\n')\n",
"halt('........# (hit [ENTER] )')\n",
"clc(1)\n",
"ls pis\n",
"printf(' pis : No such file or directory \n ')\n",
"printf('\n\n\n$ exit        #To exit the current simulation terminal and return to Scilab console\n\n')\n",
"halt('........# (hit [ENTER] )')\n",
"cd(cwd)\n",
"//clc()\n",
"printf('\n\n\t\t\tBACK TO SCILAB CONSOLE...\nLoading initial environment')\n",
"sleep(1000)"
   ]
   }
,
{
		   "cell_type": "markdown",
		   "metadata": {},
		   "source": [
			"## Example 4.6: Relative_Pathnames.sce"
		   ]
		  },
  {
"cell_type": "code",
	   "execution_count": null,
	   "metadata": {
	    "collapsed": true
	   },
	   "outputs": [],
"source": [
"clear\n",
"mode(-1)\n",
"pwd\n",
"cwd=ans\n",
"t=tokens(cwd,'\')\n",
"par=strcat(t(1:(size(t,'r')-1)),'\')\n",
"clc\n",
"printf('Example 6    :               Show the use of relative pathname .. by going to the parent of the current directory \n')\n",
"disp('****************************************************************')\n",
"disp('Answer    :   ')\n",
"disp('INSTRUCTIONS   : ')\n",
"printf('\nHere all instructions are preloaded in the form of a demo\nPRESS ENTER AFTER EACH COMMAND to see its RESULT\nPRESS ENTER AFTER EACH RESULT TO GO TO THE NEXT COMMAND\n')\n",
"halt('.............Press [ENTER] to continue.....')\n",
"halt('')\n",
"clc\n",
"printf('\tUNIX SHELL SIMULATOR(DEMO VERSION WITH PRELOADED COMMANDS)\n\n\n')\n",
"printf('\n\n$ pwd                        #To get the value of the current directory\n\n')\n",
"halt('........# (hit [ENTER] for result)')\n",
"clc(1)\n",
"printf(' %s \n',cwd)\n",
"halt('........# (hit [ENTER] for next instruction)')\n",
"printf('\n\n\n$ cd  ..                       #To go to the current directory\n\n')\n",
"halt('........# (hit [ENTER] for next instruction)')\n",
"clc(1)\n",
"cd(par)\n",
"printf('\n\n\n$ pwd                             \n\n')\n",
"halt('........# (hit [ENTER] for result)')\n",
"clc(1)\n",
"printf(' %s \n',par)\n",
"halt('........# (hit [ENTER] for next instruction)')\n",
"printf('\n\n\n$ exit        #To exit the current simulation terminal and return to Scilab console\n\n')\n",
"halt('........# (hit [ENTER] for result)')\n",
"cd(cwd)\n",
"//clc()\n",
"printf('\n\n\t\t\tBACK TO SCILAB CONSOLE...\nLoading initial environment')\n",
"sleep(1000)"
   ]
   }
,
{
		   "cell_type": "markdown",
		   "metadata": {},
		   "source": [
			"## Example 4.7: ls_command.sce"
		   ]
		  },
  {
"cell_type": "code",
	   "execution_count": null,
	   "metadata": {
	    "collapsed": true
	   },
	   "outputs": [],
"source": [
"mode(-1)\n",
"clear\n",
"clc\n",
"disp('Example 7    :               Show the use of the file command ls for long listing of files')\n",
"disp('****************************************************************')\n",
"disp('Answer    :   ')\n",
"disp('INSTRUCTIONS   : ')\n",
"printf('\nHere all instructions are preloaded in the form of a demo\nPRESS ENTER AFTER EACH COMMAND to see its RESULT\nPRESS ENTER AFTER EACH RESULT TO GO TO THE NEXT COMMAND\n')\n",
"halt('.............Press [ENTER] to continue.....')\n",
"halt('')\n",
"clc\n",
"printf('\tUNIX SHELL SIMULATOR(DEMO VERSION WITH PRELOADED COMMANDS)\n\n\n')\n",
"printf('\n\n$ ls                        #To get the files and directories present in the current directory\n\n')\n",
"halt('........# (hit [ENTER] for result)')\n",
"mode(0)\n",
"ls\n",
"mode(-1)\n",
"printf('\tUNIX SHELL SIMULATOR(DEMO VERSION WITH PRELOADED COMMANDS)\n\n\n')\n",
"printf('\n\n$ ls  -l                       #To get the files and directories present in the current directory\n\n')\n",
"halt('........# (hit [ENTER] for result)')\n",
"mode(0)\n",
"powershell('ls')\n",
"mode(-1)\n",
"halt('........# (hit [ENTER] for next instruction)')\n",
"printf('\n\n\n$ exit        #To exit the current simulation terminal and return to Scilab console\n\n')\n",
"halt('........# (hit [ENTER] for result)')\n",
"//clc()\n",
"printf('\n\n\t\t\tBACK TO SCILAB CONSOLE...\nLoading initial environment')\n",
"sleep(1000)"
   ]
   }
],
"metadata": {
		  "kernelspec": {
		   "display_name": "Scilab",
		   "language": "scilab",
		   "name": "scilab"
		  },
		  "language_info": {
		   "file_extension": ".sce",
		   "help_links": [
			{
			 "text": "MetaKernel Magics",
			 "url": "https://github.com/calysto/metakernel/blob/master/metakernel/magics/README.md"
			}
		   ],
		   "mimetype": "text/x-octave",
		   "name": "scilab",
		   "version": "0.7.1"
		  }
		 },
		 "nbformat": 4,
		 "nbformat_minor": 0
}
