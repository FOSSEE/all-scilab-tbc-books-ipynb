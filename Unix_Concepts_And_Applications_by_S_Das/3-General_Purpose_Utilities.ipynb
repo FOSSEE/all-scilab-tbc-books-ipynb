{
"cells": [
 {
		   "cell_type": "markdown",
	   "metadata": {},
	   "source": [
       "# Chapter 3: General Purpose Utilities"
	   ]
	},
{
		   "cell_type": "markdown",
		   "metadata": {},
		   "source": [
			"## Example 3.10: Machine_Characteristics.sce"
		   ]
		  },
  {
"cell_type": "code",
	   "execution_count": null,
	   "metadata": {
	    "collapsed": true
	   },
	   "outputs": [],
"source": [
"//Program for example 10 chapter 3\n",
"clear()\n",
"clc\n",
"disp('Example 8   :                                                         Display the current machine name ')\n",
"disp('***************************************************************************')\n",
"disp('Answer    : ')\n",
"printf('The current machine details are\n ')\n",
"if (getos()=='Linux') then\n",
"    unix_w('uname ;uname -r')\n",
"else\n",
"    printf('Operating System  : %s\n Version  :  %s\n',getos(),getversion())\n",
"end\n",
"disp('***************************************************************************')"
   ]
   }
,
{
		   "cell_type": "markdown",
		   "metadata": {},
		   "source": [
			"## Example 3.11: Terminal_Name.sce"
		   ]
		  },
  {
"cell_type": "code",
	   "execution_count": null,
	   "metadata": {
	    "collapsed": true
	   },
	   "outputs": [],
"source": [
"//Program for example 10 chapter 3\n",
"clear()\n",
"clc\n",
"disp('Example 9   :                                                         Display the user terminal details')\n",
"disp('***************************************************************************')\n",
"disp('Answer    : ')\n",
"printf('The current terminal details are\n ')\n",
"if (getos()=='Linux') then\n",
"    unix_w('tty')\n",
"else\n",
"    printf('The username details are %s\nThe terminal file details are %s\n',home,SCI)\n",
"end\n",
"disp('***************************************************************************')"
   ]
   }
,
{
		   "cell_type": "markdown",
		   "metadata": {},
		   "source": [
			"## Example 3.1: Calendar.sce"
		   ]
		  },
  {
"cell_type": "code",
	   "execution_count": null,
	   "metadata": {
	    "collapsed": true
	   },
	   "outputs": [],
"source": [
"clear()\n",
"//clc()\n",
"printf('Example 1 :      Display the calendar of the current month and of a date \nentered by the user ')\n",
"printf('\n**********************************************************\n')\n",
"printf('Answer  :\n\n\n')\n",
"printf('The current date is %s whose calendar is ',date())\n",
"ct=calendar()\n",
"clc(19)\n",
"disp(ct(1))\n",
"disp(ct(2))\n",
"disp(ct(3))\n",
"printf('\n--------------------------------------------------------------------------------------\n')\n",
"printf('Enter a date whose calendar is to be displayed \n')\n",
"x=input('Enter in the format [dd,mm,yyyy],ALONG WITH THE PARENTHESIS    ')\n",
"ct=calendar(x(3),x(2))\n",
"clc(21)\n",
"disp(ct(1))\n",
"disp(ct(2))\n",
"disp(ct(3))\n",
"printf('\n\nEntered Date is %d - %d - %d \n',x(1),x(2),x(3))\n",
"printf('\n***********************************************************')"
   ]
   }
,
{
		   "cell_type": "markdown",
		   "metadata": {},
		   "source": [
			"## Example 3.2: Date_and_Time.sce"
		   ]
		  },
  {
"cell_type": "code",
	   "execution_count": null,
	   "metadata": {
	    "collapsed": true
	   },
	   "outputs": [],
"source": [
"clear()\n",
"dt=getdate()\n",
"//clc()\n",
"disp('Example 2 : Write a code sequence to display the current date and time')\n",
"printf('\n**********************************************************\n')\n",
"disp('Answer :  ')\n",
"printf('\n')\n",
"printf('The current date is %s and the current time is %d : %d : %d \nThe day is ',date(),dt(7),dt(8),dt(9))\n",
"select dt(5) \n",
"    case 1 then\n",
"    printf('Sunday')\n",
"    case 2 then\n",
"    printf('Monday')\n",
"    case 3 then\n",
"    printf('Tuesday')\n",
"    case 4 then\n",
"    printf('Wednesday')\n",
"    case 5 then\n",
"    printf('Thursday')\n",
"    case 6 then\n",
"    printf('Friday')\n",
"    case 7 then\n",
"    printf('Saturday')\n",
"end\n",
"printf('.')\n",
"printf('\n**********************************************************\n')"
   ]
   }
,
{
		   "cell_type": "markdown",
		   "metadata": {},
		   "source": [
			"## Example 3.3: Use_of_echo.sce"
		   ]
		  },
  {
"cell_type": "code",
	   "execution_count": null,
	   "metadata": {
	    "collapsed": true
	   },
	   "outputs": [],
"source": [
"//Program for example 3 chapter 3\n",
"clear\n",
"clc\n",
"disp('Example 3:Display a message or the value of a variable using the command echo')\n",
"disp('********************************************************************')\n",
"disp('Answer    :   ')\n",
"disp('')\n",
"halt('Continue ...??  ')\n",
"if (getos()~='Linux') then\n",
"    x=input('Enter any value to be Displayed Again   : ','s')\n",
"    clc(1)\n",
"    printf('The entered value is %s',x)\n",
"    printf('\nTo display a Message  :\nEnter Filename   ')\n",
"else\n",
"    unix_w('echo Enter n;read n;echo $n is entered value')\n",
"    unix_w('echo Enter filename \c')\n",
"    \n",
"end\n",
"disp('**********************************************************************')"
   ]
   }
,
{
		   "cell_type": "markdown",
		   "metadata": {},
		   "source": [
			"## Example 3.4: printf_usage.sce"
		   ]
		  },
  {
"cell_type": "code",
	   "execution_count": null,
	   "metadata": {
	    "collapsed": true
	   },
	   "outputs": [],
"source": [
"//Program for example 4 chapter 3\n",
"clear\n",
"clc\n",
"disp('Example 4:Display a message or the value of a variable using the command printf')\n",
"disp('********************************************************************')\n",
"disp('Answer    :   ')\n",
"disp('')\n",
"halt('Continue ...??  ')\n",
"if (getos()~='Linux') then\n",
"     printf('\nTo display a Message  :\nEnter Filename   ')\n",
"     printf('\nTo Display the value of a Variable : \n My Current Shell is %s\n',getshell())\n",
"else\n",
"    unix_w('echo No Filename entered\nMy current shell is $SHELL\n')\n",
"    \n",
"end\n",
"disp('**********************************************************************')"
   ]
   }
,
{
		   "cell_type": "markdown",
		   "metadata": {},
		   "source": [
			"## Example 3.5: hexadecimal_printing.sce"
		   ]
		  },
  {
"cell_type": "code",
	   "execution_count": null,
	   "metadata": {
	    "collapsed": true
	   },
	   "outputs": [],
"source": [
"//Program for example 5 chapter 3\n",
"clear\n",
"clc\n",
"disp('Example 3:Display the value of an input letter in its octal and hexadecimal equivalent')\n",
"disp('********************************************************************')\n",
"disp('Answer    :   ')\n",
"disp('')\n",
"halt('Continue ...??  ')\n",
"    x=input('Enter any value to be Displayed in its hexadecimal and octal equivalent  : ')\n",
"    clc(1)\n",
"    printf('The value %d is %o in octal and %x in hexadecimal',x,x,x)\n",
"disp('**********************************************************************')"
   ]
   }
,
{
		   "cell_type": "markdown",
		   "metadata": {},
		   "source": [
			"## Example 3.6: Calculator.sce"
		   ]
		  },
  {
"cell_type": "code",
	   "execution_count": null,
	   "metadata": {
	    "collapsed": true
	   },
	   "outputs": [],
"source": [
"//Program for example 6 chapter 3\n",
"clear\n",
"t='y'\n",
"clc\n",
" disp('Example 6:           Simulate a calculator to evaluate mathematical expressions')\n",
" disp('*****************************************************************')\n",
" disp('Answer     :    ')\n",
" disp('Continue...???  ')\n",
" printf('Enter the expressions to be evaluated one by one\n')\n",
" halt('')\n",
" //clc()\n",
" printf('Calculator simulation using bc command in Unix\n\n')\n",
" while t=='y'\n",
"     xt=input('Expression :: ','string')\n",
"     if xt=='^c' then\n",
"         break\n",
"     end\n",
"     printf('\n%d \n\n',evstr(xt))\n",
" end\n",
" //clc()\n",
" printf('______                                                              \n')\n",
" printf('      |      |      |     /\\    |\\    | |   /       |     |\n')\n",
" sleep(300)\n",
" printf('      |      |----|    /--\\   | \\   | |<          |     |\n')\n",
" sleep(300)\n",
" printf('      |      |      |  /      \\ |    \\| |  \\        [___]\n')  \n",
" sleep(300)\n",
" disp('Thank You') \n",
" disp('*****************************************************************')"
   ]
   }
,
{
		   "cell_type": "markdown",
		   "metadata": {},
		   "source": [
			"## Example 3.7: Session_recording_by_script.sce"
		   ]
		  },
  {
"cell_type": "code",
	   "execution_count": null,
	   "metadata": {
	    "collapsed": true
	   },
	   "outputs": [],
"source": [
"//Program for example 6 chapter 3\n",
"clear\n",
"t='n'\n",
"clc\n",
" disp('Example 7:              Record the current session in a file and open the same')\n",
" disp('*****************************************************************')\n",
" disp('Answer     :    ')\n",
" disp('Continue...???  ')\n",
" halt('')\n",
" \n",
" printf('Enter the sequence of instructions to be recorded the session\nEnter yes to end the session and view result\n')\n",
" halt('Press Enter to continue')\n",
"mclose('Sessiont.txt')\n",
" diary('Sessiont.txt','new')\n",
" while t~='yes'\n",
"     //clc()\n",
"     xt=input('','string')\n",
"     if(xt=='yes') then\n",
"         t=xt\n",
"         clc(1)\n",
"     end\n",
"     \n",
"     clc(1)\n",
"if(execstr(xt,'errcatch')==0) then\n",
"     v=evstr(xt)\n",
"     clc(1)\n",
"     disp(v(1))\n",
" elseif(xt~=t) then\n",
"         disp('Wrong Command or Variable')\n",
"      else\n",
"        disp('') \n",
" end\n",
" halt('')\n",
"end\n",
"diary('Sessiont.txt','close')\n",
"disp('Check for the file Sessiont.txt in the current directory...')\n",
"halt('')\n",
"disp('*****************************************************************')"
   ]
   }
],
"metadata": {
		  "kernelspec": {
		   "display_name": "Scilab",
		   "language": "scilab",
		   "name": "scilab"
		  },
		  "language_info": {
		   "file_extension": ".sce",
		   "help_links": [
			{
			 "text": "MetaKernel Magics",
			 "url": "https://github.com/calysto/metakernel/blob/master/metakernel/magics/README.md"
			}
		   ],
		   "mimetype": "text/x-octave",
		   "name": "scilab",
		   "version": "0.7.1"
		  }
		 },
		 "nbformat": 4,
		 "nbformat_minor": 0
}
