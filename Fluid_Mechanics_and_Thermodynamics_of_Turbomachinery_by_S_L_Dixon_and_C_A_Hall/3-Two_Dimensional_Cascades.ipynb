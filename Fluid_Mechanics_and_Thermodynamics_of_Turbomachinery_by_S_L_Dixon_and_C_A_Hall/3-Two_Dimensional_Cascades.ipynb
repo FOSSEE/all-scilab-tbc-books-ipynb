{
"cells": [
 {
		   "cell_type": "markdown",
	   "metadata": {},
	   "source": [
       "# Chapter 3: Two Dimensional Cascades"
	   ]
	},
{
		   "cell_type": "markdown",
		   "metadata": {},
		   "source": [
			"## Example 3.1: Ex_1.sce"
		   ]
		  },
  {
"cell_type": "code",
	   "execution_count": null,
	   "metadata": {
	    "collapsed": true
	   },
	   "outputs": [],
"source": [
"clear;\n",
"clc;\n",
"funcprot(0);\n",
"//given data\n",
"alpha1 = 55;//flow inlet angle in deg\n",
"alpha2 = 30;//flow exit angle in deg\n",
"cmaxs_c2 = 1.95;//expected design value of the diffusion ratio\n",
"DF = 0.6;//diffusion factor\n",
"//Calculation\n",
"theta2_l = 0.004/(1-1.17*log(cmaxs_c2));\n",
"alpham = (180/%pi)*atan(0.5*(tan(alpha1*%pi/180)+tan(alpha2*%pi/180)));\n",
"CD = 2*(theta2_l)*((cos(alpham*%pi/180))^2)/((cos(alpha2*%pi/180))^2);\n",
"s_l_max = ((2*cos(alpha1*%pi/180)/cos(alpha2*%pi/180))-0.8)/(cos(alpha1*%pi/180) *(tan(alpha1*%pi/180)-tan(alpha2*%pi/180)));\n",
"CL = 2*s_l_max*cos(alpham*%pi/180)*(tan(alpha1*%pi/180)-tan(alpha2*%pi/180)) - CD*tan(alpham*%pi/180); \n",
"//Results\n",
"printf('CD = %.5f\n CL = %.3f',CD,CL);\n",
"printf('\n The maximum allowable pitch–chord ratio = %.3f',s_l_max);\n",
"//there is some error in the answer given in textbook"
   ]
   }
,
{
		   "cell_type": "markdown",
		   "metadata": {},
		   "source": [
			"## Example 3.2: Ex_2.sce"
		   ]
		  },
  {
"cell_type": "code",
	   "execution_count": null,
	   "metadata": {
	    "collapsed": true
	   },
	   "outputs": [],
"source": [
"clear all;\n",
"clc;\n",
"funcprot(0);\n",
"\n",
"//function to calculate m and delta\n",
"function [m,delta] = func(a_l,alpha2,theta)\n",
"    m = 0.23*(2*a_l)^2 + alpha2/500;\n",
"    delta = m*theta;\n",
"endfunction\n",
"\n",
"//given data\n",
"alpha1_ = 50;// in deg\n",
"alpha2_ = 20;// in deg\n",
"a_l = 0.5;//percentage\n",
"s_l = 1.0;\n",
"eps = 21;//in deg\n",
"\n",
"//Calculations\n",
"theta = alpha1_ - alpha2_;\n",
"alpha21 = 20;//in deg\n",
"[m1,delta1] = func(a_l,alpha21,theta);\n",
"alpha22 = 28.1;//in deg\n",
"[m2,delta2] = func(a_l,alpha22,theta);\n",
"alpha23 = 28.6;//in deg\n",
"[m3,delta3] = func(a_l,alpha23,theta);\n",
"alpha1 = eps + alpha23;\n",
"i = alpha1 - alpha1_;\n",
"alpham = (180/%pi)*atan(0.5*(tan(alpha1*%pi/180) + tan(alpha23*%pi/180)));\n",
"CL = 2*(s_l)*cos(alpham*%pi/180)*(tan(alpha1*%pi/180) - tan(alpha23*%pi/180));\n",
"\n",
"//Results\n",
"printf('The fluid deflection = %d deg.',eps);\n",
"printf('\n The fluid incidence = %.1f deg.',i);\n",
"printf('\n The ideal lift coefficient at the design point = %.2f',CL);"
   ]
   }
,
{
		   "cell_type": "markdown",
		   "metadata": {},
		   "source": [
			"## Example 3.4: Ex_4.sce"
		   ]
		  },
  {
"cell_type": "code",
	   "execution_count": null,
	   "metadata": {
	    "collapsed": true
	   },
	   "outputs": [],
"source": [
"clear;\n",
"clc;\n",
"funcprot(0);\n",
"//given data\n",
"alpha1 = 22;//inlet flow angle in deg\n",
"M1 = 0.3;//inlet Mach number\n",
"M2 = 0.93;//exit Mach number\n",
"alpha2 = 61.4;//exit flow angle in deg\n",
"Q1 = 0.6295;//Q(M1) from compressible flow tables\n",
"Q2 = 1.2756;//Q(M2) from compressible flow tables\n",
"gamma = 1.333;\n",
"Z = 0.6;\n",
"//Calculations\n",
"p02_p01 = (Q1/Q2)*(cos(alpha1*%pi/180)/cos(alpha2*%pi/180));\n",
"p01_p2 = (1+0.5*(gamma-1)*M2)^(gamma/(gamma-1)) *(1/p02_p01);\n",
"YP = (1-(p02_p01))/(1-(1/p01_p2));\n",
"K1 = M1/sqrt((1+0.5*(gamma-1)*(M1^2))/(gamma-1));\n",
"K2 = M2/sqrt((1+0.5*(gamma-1)*(M2^2))/(gamma-1));\n",
"s_b = ((1-(1/p01_p2))*Z)/(Q1*(K1*sin(alpha1*%pi/180)+K2*sin(alpha2*%pi/180))*cos(alpha1*%pi/180));\n",
"//Results\n",
"printf('The ratio of inlet stagnation pressure to exit static pressure = %.3f',p01_p2);\n",
"printf('\n The cascade stagnation pressure loss coefficient = %.4f',YP);\n",
"printf('\n The pitch to axial chord ratio for the blades = %.3f',s_b);\n",
"//there are errors in the answers given in textbook"
   ]
   }
],
"metadata": {
		  "kernelspec": {
		   "display_name": "Scilab",
		   "language": "scilab",
		   "name": "scilab"
		  },
		  "language_info": {
		   "file_extension": ".sce",
		   "help_links": [
			{
			 "text": "MetaKernel Magics",
			 "url": "https://github.com/calysto/metakernel/blob/master/metakernel/magics/README.md"
			}
		   ],
		   "mimetype": "text/x-octave",
		   "name": "scilab",
		   "version": "0.7.1"
		  }
		 },
		 "nbformat": 4,
		 "nbformat_minor": 0
}
