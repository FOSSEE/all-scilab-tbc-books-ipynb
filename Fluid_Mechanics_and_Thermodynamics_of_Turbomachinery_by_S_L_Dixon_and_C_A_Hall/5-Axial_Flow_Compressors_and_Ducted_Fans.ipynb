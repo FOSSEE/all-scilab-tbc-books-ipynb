{
"cells": [
 {
		   "cell_type": "markdown",
	   "metadata": {},
	   "source": [
       "# Chapter 5: Axial Flow Compressors and Ducted Fans"
	   ]
	},
{
		   "cell_type": "markdown",
		   "metadata": {},
		   "source": [
			"## Example 5.1: Ex_1.sce"
		   ]
		  },
  {
"cell_type": "code",
	   "execution_count": null,
	   "metadata": {
	    "collapsed": true
	   },
	   "outputs": [],
"source": [
"clear;\n",
"clc;\n",
"funcprot(0);\n",
"//given data\n",
"T01= 288;//inlet absolute stagnation temperature in K\n",
"p01 = 101;//inlet absolute stagnation pressure in kPa\n",
"beta1 = 45;//relative flow angle at inlet to the rotor in deg\n",
"M1_rel = 0.9;//inlet relative Mach number\n",
"Yp = 0.068;//rotor loss coefficient\n",
"Yp1 = 0.04;//stator loss coefficient\n",
"M = 0.5;//rotor exit relative Mach number\n",
"gamma = 1.4;\n",
"R = 287.15;\n",
"Cp = 1005;//in J/(kg.K);\n",
"Q1 = 1.2698;//Q(0.9) from compressible flow tables\n",
"Q2 = 0.9561;//Q(0.5) from compressible flow tables\n",
"M2_rel = 0.5;//rotor exit relative Mach number is 0.5,\n",
"//Calculations\n",
"M1 = M1_rel*cos(beta1*%pi/180);\n",
"T1 = T01/(1+(gamma-1)*0.5*M1^2);\n",
"U = M1*sqrt(gamma*R*T1);\n",
"p01_rel = p01*((T1/T01)^(gamma/(gamma-1)))*((1+(gamma-1)*0.5*M1_rel^2)^(gamma/(gamma-1)));\n",
"p1 = p01*((T1/T01)^(gamma/(gamma-1)));\n",
"p02_rel_p01_rel = 1-Yp*(1-((1+(gamma-1)*0.5*M1_rel^2)^(gamma/(gamma-1)))^-1);\n",
"beta2 = (180/%pi)*acos((Q1/Q2)*cos(beta1*%pi/180)/p02_rel_p01_rel);\n",
"p2_p02_rel = 0.8430;//from tables\n",
"p2_p1 = p2_p02_rel*p02_rel_p01_rel*((1+(gamma-1)*0.5*M1_rel^2)^(gamma/(gamma-1)));\n",
"p2 = p1*p2_p1;\n",
"T2_T2_rel = 0.9524;//from tables\n",
"T2 = T1*(T2_T2_rel)*(1+(gamma-1)*0.5*M1_rel^2);\n",
"W2 = M2_rel*sqrt(gamma*R*T2);\n",
"M2 = sqrt((W2*cos(beta2*%pi/180))^2 +(U-W2*sin(beta2*%pi/180))^2)/sqrt(gamma*R*T2);\n",
"T02 = T2*(1+(gamma-1)*0.5*M2^2);\n",
"p02 = p2*(1+(gamma-1)*0.5*M2^2)^(gamma/(gamma-1));\n",
"delS_rot = R*Yp*(1-(p1/p01_rel));\n",
"delS_sta = R*Yp1*(1-(p2/p02));\n",
"eff_tt = 1 - (T02*(delS_rot+delS_sta)/(Cp*(T02-T01)));\n",
"//Results\n",
"printf('(i) The rotor blade speed = %.1f m/s',U);\n",
"printf('\n  The blade relative stagnation pressure = %d kPa',p01_rel);\n",
"printf('\n (ii)  The rotor exit relative flow angle = %d deg.',ceil(beta2));\n",
"printf('\n   The static pressure ratio across the rotor = %.3f',p2_p1);\n",
"printf('\n (iii) The absolute stagnation temperature at entry to the stator = %.1f K',T02);\n",
"printf('\n  The absolute stagnation pressure at entry to the stator = %d kPa',ceil(p02));\n",
"printf('\n  The total-to-total isentropic efficiency of the compressor stage = %.3f',eff_tt);"
   ]
   }
,
{
		   "cell_type": "markdown",
		   "metadata": {},
		   "source": [
			"## Example 5.2: Ex_2.sce"
		   ]
		  },
  {
"cell_type": "code",
	   "execution_count": null,
	   "metadata": {
	    "collapsed": true
	   },
	   "outputs": [],
"source": [
"clear;\n",
"clc;\n",
"funcprot(0);\n",
"\n",
"//given data\n",
"T01 = 293;//in K\n",
"pi = 5;//pressure ratio\n",
"R = 0.5;//stage reaction\n",
"Um = 275;//in m/s\n",
"phi = 0.5;//flow coefficient\n",
"psi = 0.3;//stage loading factor\n",
"eff_stage = 0.888;//stage efficiency\n",
"Cp = 1005;//J/(kgC)\n",
"gamma = 1.4;\n",
"\n",
"//Calculations\n",
"beta1 = (180/%pi)*atan((R + 0.5*psi)/phi);\n",
"beta2 = (180/%pi)*atan((R - 0.5*psi)/phi);\n",
"alpha2 = beta1;\n",
"alpha1 = beta2;\n",
"delT0 = psi*(Um^2)/Cp;\n",
"N = (T01/delT0)*((pi^((gamma-1)/(eff_stage*gamma))) - 1);\n",
"N = ceil(N);\n",
"eff_ov = ((pi^((gamma-1)/gamma)) - 1)/((pi^((gamma-1)/(eff_stage*gamma))) - 1);\n",
"printf('The flow angles are: beta1 = alpha2 = %.2f deg and beta2 = alpha1 = %d deg.',beta1,ceil(beta2));\n",
"printf('\n The number of stages required = %d',N);\n",
"printf('\n The overall efficiency = %.1f percentage',eff_ov*100);\n",
"\n",
"//there is a small error in the answer given in textbook"
   ]
   }
,
{
		   "cell_type": "markdown",
		   "metadata": {},
		   "source": [
			"## Example 5.3: Ex_3.sce"
		   ]
		  },
  {
"cell_type": "code",
	   "execution_count": null,
	   "metadata": {
	    "collapsed": true
	   },
	   "outputs": [],
"source": [
"clear;\n",
"clc;\n",
"funcprot(0);\n",
"\n",
"//given data\n",
"R = 0.5;//stage reaction\n",
"s_c = 0.9;//space-chord ratio\n",
"beta1_ = 44.5;//in deg\n",
"beta2_ = -0.5;//in deg\n",
"h_c = 2.0;//height-chord ratio\n",
"lamda = 0.86;//work done factor\n",
"i = 0.4;//mean radius relative incidence\n",
"rho = 3.5;//density in kg/m^3\n",
"Um = 242;//in m/s\n",
"eps_ = 30;//in deg\n",
"eps_max = 37.5;//in deg\n",
"eps = 37.5;//in deg\n",
"delp0 = 0.032;//the profile total pressure loss coefficient\n",
"\n",
"//Calculations\n",
"theta = beta1_ - beta2_;\n",
"deltaN = (0.229*theta*(s_c^0.5))/(1 - (theta*(s_c^0.5)/500));\n",
"beta2N = deltaN + beta2_;\n",
"i_ = beta2N + eps_ - beta1_;\n",
"i = 0.4*eps_ + i_;\n",
"beta1 = beta1_ + i;\n",
"beta2 = beta1 - eps;\n",
"alpha2 = beta1;\n",
"alpha1 = beta2;\n",
"phi = 1/(tan(alpha1*%pi/180) + tan(beta1*%pi/180));\n",
"psi = lamda*phi*(tan(alpha2*%pi/180) - tan(alpha1*%pi/180));\n",
"\n",
"//Results\n",
"printf('(i)The nominal incidence = %.1f deg.',i_);\n",
"printf('\n (ii)The inlet flow angle, beta1 = alpha2 = %.1f deg\n   Outlet flow angle beta2 = alpha1 = %.1f deg.',beta1,beta2);\n",
"printf('\n (iii)The flow coefficient = %.3f\n   The stage loading factor = %.3f',phi,psi);\n",
"//there are small errors in the answers given in textbook"
   ]
   }
],
"metadata": {
		  "kernelspec": {
		   "display_name": "Scilab",
		   "language": "scilab",
		   "name": "scilab"
		  },
		  "language_info": {
		   "file_extension": ".sce",
		   "help_links": [
			{
			 "text": "MetaKernel Magics",
			 "url": "https://github.com/calysto/metakernel/blob/master/metakernel/magics/README.md"
			}
		   ],
		   "mimetype": "text/x-octave",
		   "name": "scilab",
		   "version": "0.7.1"
		  }
		 },
		 "nbformat": 4,
		 "nbformat_minor": 0
}
