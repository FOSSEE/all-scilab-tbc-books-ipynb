{
"cells": [
 {
		   "cell_type": "markdown",
	   "metadata": {},
	   "source": [
       "# Chapter 1: Introduction Basic Principles"
	   ]
	},
{
		   "cell_type": "markdown",
		   "metadata": {},
		   "source": [
			"## Example 1.1: Ex_1.sce"
		   ]
		  },
  {
"cell_type": "code",
	   "execution_count": null,
	   "metadata": {
	    "collapsed": true
	   },
	   "outputs": [],
"source": [
"clear all;\n",
"clc;\n",
"funcprot(0);\n",
"\n",
"//given data\n",
"gamma = 1.4;\n",
"pi = 8;//pressure ratio\n",
"T01 = 300;//inlet temperature in K\n",
"T02 = 586.4;//outlet temperature in K\n",
"\n",
"//Calculations\n",
"//Calculation of Overall Total to Total efficiency\n",
"Tot_eff = ((pi^((gamma-1)/gamma))-1)/((T02/T01)-1);\n",
"\n",
"//Calculation of polytropic efficiency\n",
"Poly_eff = ((gamma-1)/gamma)*((log(pi))/log(T02/T01));\n",
"\n",
"//Results\n",
"printf('The Overall total-to-total efficiency is %.2f.\n',Tot_eff);\n",
"printf('The polytropic efficiency is %.4f.',Poly_eff);"
   ]
   }
],
"metadata": {
		  "kernelspec": {
		   "display_name": "Scilab",
		   "language": "scilab",
		   "name": "scilab"
		  },
		  "language_info": {
		   "file_extension": ".sce",
		   "help_links": [
			{
			 "text": "MetaKernel Magics",
			 "url": "https://github.com/calysto/metakernel/blob/master/metakernel/magics/README.md"
			}
		   ],
		   "mimetype": "text/x-octave",
		   "name": "scilab",
		   "version": "0.7.1"
		  }
		 },
		 "nbformat": 4,
		 "nbformat_minor": 0
}
