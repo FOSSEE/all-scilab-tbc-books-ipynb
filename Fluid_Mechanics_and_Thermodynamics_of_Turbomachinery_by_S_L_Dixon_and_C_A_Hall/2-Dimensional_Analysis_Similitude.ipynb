{
"cells": [
 {
		   "cell_type": "markdown",
	   "metadata": {},
	   "source": [
       "# Chapter 2: Dimensional Analysis Similitude"
	   ]
	},
{
		   "cell_type": "markdown",
		   "metadata": {},
		   "source": [
			"## Example 2.1: Ex_1.sce"
		   ]
		  },
  {
"cell_type": "code",
	   "execution_count": null,
	   "metadata": {
	    "collapsed": true
	   },
	   "outputs": [],
"source": [
"clear;\n",
"clc;\n",
"funcprot(0);\n",
"//given data\n",
"T01_te = 298;//in K\n",
"mdot_te = 15;//in kg/s\n",
"p01_te = 101;//in kPa\n",
"T01_cr = 236;//in K\n",
"p01_cr = 10.2;//in kPa\n",
"N_te = 6200;//in rpm\n",
"pi = 20;//pressure ratio\n",
"gamma = 1.4;\n",
"Cp = 1005;//in J/(kg.K)\n",
"eff = 0.85;//efficiency\n",
"//Calculations\n",
"mdot_cr = (p01_cr/sqrt(T01_cr))*(mdot_te*sqrt(T01_te)/p01_te);\n",
"N_cr = sqrt(T01_cr/T01_te)*N_te;\n",
"delT0_T01 = (((pi^((gamma-1)/gamma)) - 1)/eff);\n",
"P_cr = mdot_cr*Cp*T01_cr*delT0_T01;\n",
"//Results\n",
"printf('The mass flow rate = %.2f kg/s',mdot_cr);\n",
"printf('\n Rotational speed = %d rpm',N_cr);\n",
"printf('\n The power input at the cruise condition = %d kW.',P_cr/1000);\n",
"//there is a small error in the answer given in textbook"
   ]
   }
,
{
		   "cell_type": "markdown",
		   "metadata": {},
		   "source": [
			"## Example 2.2: Ex_2.sce"
		   ]
		  },
  {
"cell_type": "code",
	   "execution_count": null,
	   "metadata": {
	    "collapsed": true
	   },
	   "outputs": [],
"source": [
"clear;\n",
"clc;\n",
"funcprot(0);\n",
"\n",
"//given data\n",
"D = 4.31;//in m\n",
"H = 543;//in m\n",
"Q = 71.4;//in m^3/s\n",
"P = 350;//in MW\n",
"N = 333;//in rev/min\n",
"D1 = 6;//in m\n",
"H1 = 500;//in m\n",
"g = 9.81;//in m/s^2\n",
"rho = 1000;//in kg/m^3\n",
"\n",
"//Calculations\n",
"omega = N*%pi/30;\n",
"omega_s = omega*(Q^0.5)/(g*H)^0.75;\n",
"D_s = D*(g*H)^0.25 /Q^0.5;\n",
"P_n = rho*g*Q*H; \n",
"eff_t = P*10^6 /P_n;\n",
"Q1 = ((D1/D_s)^2)*(g*H1)^0.5;\n",
"P1 = eff_t*rho*g*Q1*H1;\n",
"N1 = (30/%pi)*omega_s*((g*H1)^0.75)/(Q1^0.5);\n",
"\n",
"//Results\n",
"printf('(a)The specific speed = %.3f rad.',omega_s);\n",
"printf('\n The specific diameter = %.3f',D_s);\n",
"printf('\n The turbine efficiency is = %.3f',eff_t);\n",
"printf('\n(b) The required flow rate = %d m^3/s',ceil(Q1));\n",
"printf('\n The expected power output = %.1f MW',P1/(10^6));\n",
"printf('\n The rotational speed of the turbine = %.1f rpm.',N1);\n",
""
   ]
   }
,
{
		   "cell_type": "markdown",
		   "metadata": {},
		   "source": [
			"## Example 2.3: Ex_3.sce"
		   ]
		  },
  {
"cell_type": "code",
	   "execution_count": null,
	   "metadata": {
	    "collapsed": true
	   },
	   "outputs": [],
"source": [
"clear;\n",
"clc;\n",
"funcprot(0);\n",
"\n",
"//given data\n",
"N = 300000;//in rpm\n",
"Q = 10;//in L/min\n",
"p01 = 3;//in bar\n",
"T01 = 300;//in K\n",
"p02 = 1;//in bar\n",
"rho = 1.16;//in kg/m^3\n",
"Cp = 1005;//in J/(kg.K)\n",
"gamma = 1.4;\n",
"\n",
"//Calculations\n",
"N = N/60;//in rev/s\n",
"Qe = Q/(1000*60);\n",
"delh0s = Cp*T01*(1-(p02/p01)^((gamma-1)/gamma));\n",
"Ns = N*sqrt(Qe)*(delh0s^-0.75);\n",
"omega_s = Ns*2*%pi;\n",
"P = rho*Qe*delh0s;\n",
"\n",
"//Results\n",
"printf('The specific speed of the turbine = %.3f rad.',omega_s);\n",
"printf('\n The type of machine required for this very low specific speed is a Pelton wheel.');\n",
"printf('\n The power consumption of the turbine = %.1f W.',P);\n",
"printf('\n The majority of this power will be dissipated as heat through friction in the bearings, \n losses in the Pelton wheel and friction with the tooth.')"
   ]
   }
],
"metadata": {
		  "kernelspec": {
		   "display_name": "Scilab",
		   "language": "scilab",
		   "name": "scilab"
		  },
		  "language_info": {
		   "file_extension": ".sce",
		   "help_links": [
			{
			 "text": "MetaKernel Magics",
			 "url": "https://github.com/calysto/metakernel/blob/master/metakernel/magics/README.md"
			}
		   ],
		   "mimetype": "text/x-octave",
		   "name": "scilab",
		   "version": "0.7.1"
		  }
		 },
		 "nbformat": 4,
		 "nbformat_minor": 0
}
