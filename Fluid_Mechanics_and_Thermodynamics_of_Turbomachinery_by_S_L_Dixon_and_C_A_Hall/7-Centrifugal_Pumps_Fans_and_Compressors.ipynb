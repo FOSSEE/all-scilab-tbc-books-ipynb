{
"cells": [
 {
		   "cell_type": "markdown",
	   "metadata": {},
	   "source": [
       "# Chapter 7: Centrifugal Pumps Fans and Compressors"
	   ]
	},
{
		   "cell_type": "markdown",
		   "metadata": {},
		   "source": [
			"## Example 7.1: Ex_1.sce"
		   ]
		  },
  {
"cell_type": "code",
	   "execution_count": null,
	   "metadata": {
	    "collapsed": true
	   },
	   "outputs": [],
"source": [
"clear;\n",
"clc;\n",
"funcprot(0);\n",
"//given data\n",
"c1 = 300;//velocity in m/s\n",
"p01 = 200;//stagnation pressure in kPa\n",
"T01 = 200;//stagnation temperature in degC\n",
"c2 = 50;//exit velocity in m/s\n",
"eff_d = 0.9;//diffuser efficiency \n",
" \n",
"gamma = 1.4;\n",
"R = 287;//in J/(kg.K)\n",
"Cp = 1005;//in J/(kg.K)\n",
"//Calculations\n",
"T01 = T01+273;//stagnation temperature in K\n",
"T1 = T01*(1-(c1^2)/(2*Cp*T01));\n",
"M1 = c1/sqrt(gamma*R*T1);\n",
"T2 = T01*(1-(c2^2)/(2*Cp*T01))\n",
"T2s_T1 = eff_d*(T2/T1 -1)+1;\n",
"p2_p1 = (T2s_T1)^(gamma/(gamma-1));\n",
"p01_p1 = (T01/T1)^(gamma/(gamma-1));\n",
"p1 = p01/p01_p1;\n",
"p2 = p2_p1*p1;\n",
"ds = Cp*log(T2/T1) - R*log(p2/p1);\n",
"//Results\n",
"printf('(i)The static temperature at inlet of the diffuser = %.1f K',T1);\n",
"printf('\n The static temperature at outlet of the diffuser = %.1f K',T2);\n",
"printf('\n The inlet Mach number = %.4f',M1);\n",
"printf('\n (ii) The static pressure at diffuser inlet = %.1f kPa',p1);\n",
"printf('\n (iii) The increase in entropy caused by the diffusion process = %.1f J/kg.K',ds);\n",
"//there are small errors in the answers given in textbook"
   ]
   }
,
{
		   "cell_type": "markdown",
		   "metadata": {},
		   "source": [
			"## Example 7.2: Ex_2.sce"
		   ]
		  },
  {
"cell_type": "code",
	   "execution_count": null,
	   "metadata": {
	    "collapsed": true
	   },
	   "outputs": [],
"source": [
"clear;\n",
"clc;\n",
"funcprot(0);\n",
"\n",
"//function to calculate blade cavitation coefficient\n",
"function [res] = fun(sigmab,k,omega_ss)\n",
"    res = (sigmab^2)*(1 + sigmab)- (((3.42*k)^2)/(omega_ss^4));\n",
"endfunction\n",
"\n",
"//given data\n",
"Q = 25;//flow rate in dm^3/s\n",
"omega = 1450;//rotational speed in rev/min\n",
"omega_ss = 3;//max. suction specific speed in rad/sec\n",
"r = 0.3;//inlet eye radius ratio\n",
"g = 9.81;//in m/s^2\n",
"\n",
"//Calculations\n",
"k = 1-(r^2);\n",
"sigmab = 0.3;//initial guess\n",
"res = fun(sigmab,k,omega_ss);//initial value\n",
"i = 0;\n",
"while (abs(res)>0.0001)\n",
"    if res>0.0 then\n",
"        sigmab = sigmab - 0.0001;\n",
"    elseif res<0.0\n",
"        sigmab = sigmab + 0.0001;\n",
"    end\n",
"    res = fun(sigmab,k,omega_ss);\n",
"end\n",
"phi = (sigmab/(2*(1+sigmab)))^0.5;\n",
"rs1 = ((Q*10^-3)/(%pi*k*(omega*%pi/30)*phi))^(1/3);\n",
"ds1 = 2*rs1;\n",
"cx1 = phi*(omega*%pi/30)*rs1;\n",
"Hs = (0.75*sigmab*cx1^2)/(g*phi^2);\n",
"\n",
"//Results\n",
"printf('(i)The blade cavitation coefficient = %.3f',sigmab);\n",
"printf('\n (ii)The shroud radius at the eye = %.5f m\n The required diameter of the eye = %.1f mm',rs1,ds1*10^3);\n",
"printf('\n (iii)The eye axial velocity = %.3f m/s',cx1);\n",
"printf('\n (iv)The NPSH = %.3f m',Hs);"
   ]
   }
,
{
		   "cell_type": "markdown",
		   "metadata": {},
		   "source": [
			"## Example 7.3: Ex_3.sce"
		   ]
		  },
  {
"cell_type": "code",
	   "execution_count": null,
	   "metadata": {
	    "collapsed": true
	   },
	   "outputs": [],
"source": [
"clear;\n",
"clc;\n",
"funcprot(0);\n",
"\n",
"//given data\n",
"alpha1 = 30;//prewhirl in deg\n",
"hs = 0.4;//inlet hub-shrub radius ratio\n",
"Mmax = 0.9;//max Mach number\n",
"Q = 1;//air mass flow in kg/s\n",
"p01 = 101.3;//stagnation pressure in kPa\n",
"T01 = 288;//stagnation temperature in K\n",
"gamma = 1.4;\n",
"Rg = 287;//in J/(kgK)\n",
"\n",
"//Calculations\n",
"beta1 = 49.4;//in deg\n",
"f = 0.4307;\n",
"a01 = sqrt(gamma*Rg*T01);\n",
"rho01 = p01*1000/(Rg*T01);\n",
"k = 1-(hs^2);\n",
"omega = (%pi*f*k*rho01*a01^3)^0.5;\n",
"N = (omega*60/(2*%pi));\n",
"rho1 = rho01/(1 + 0.2*(Mmax*cos(beta1*%pi/180))^2)^2.5;\n",
"cx = ((omega^2)/(%pi*k*rho1*(tan(beta1*%pi/180) + tan(alpha1*%pi/180))^2))^(1/3);\n",
"rs1 = (1/(%pi*rho1*cx*k))^0.5;\n",
"\n",
"ds1 = 2*rs1;\n",
"U = omega*rs1;\n",
"\n",
"//Results\n",
"printf('(i)The rotational speed of the impeller = %.1f rad/s and N = %d rev/min.',omega,N);\n",
"printf('\n (ii)The inlet static density downstream of the guide vanes at the shroud = %.5f kg/m^3.\n The axial velocity = %.2f m/s.',rho1,cx);\n",
"printf('\n (iii)The inducer tip diameter = %.3f cm\n U = %.1f m/s.',ds1*100,U);\n",
"\n",
"//there are errors in the answers given in textbook"
   ]
   }
,
{
		   "cell_type": "markdown",
		   "metadata": {},
		   "source": [
			"## Example 7.4: Ex_4.sce"
		   ]
		  },
  {
"cell_type": "code",
	   "execution_count": null,
	   "metadata": {
	    "collapsed": true
	   },
	   "outputs": [],
"source": [
"clear;\n",
"clc;\n",
"funcprot(0);\n",
"\n",
"//given data\n",
"Q = 0.1;//in m^3/s\n",
"N = 1200;//rotational speed in rev/min\n",
"beta2_ = 50;//in deg\n",
"D = 0.4;//impeller external diameter in m\n",
"d = 0.2;//impeller internal diameter in m\n",
"b2 = 31.7;//axial width in mm\n",
"eff = 0.515;//diffuser efficiency\n",
"H = 0.1;//head losses\n",
"De = 0.15;//diffuser exit diameter\n",
"A = 0.77;\n",
"B = 1;\n",
"g = 9.81;\n",
"\n",
"//Calculations\n",
"U2 = %pi*N*D/60;\n",
"cr2 = Q/(%pi*D*b2/1000);\n",
"sigmaB = (A - H*tan(beta2_*%pi/180))/(B - H*tan(beta2_*%pi/180));\n",
"ctheta2 = sigmaB*U2*(1-H*tan(beta2_*%pi/180));\n",
"Hi = U2*ctheta2/g;\n",
"c2 = sqrt(cr2^2 + ctheta2^2);\n",
"c3 = 4*Q/(%pi*De^2);\n",
"HL = 0.1*Hi + 0.485*((c2^2)-(c3^2))/(2*g) + (c3^2)/(2*g);\n",
"H = Hi - HL;\n",
"eff_hyd = H/Hi;\n",
"\n",
"//Results\n",
"printf('The slip factor = %.3f.',sigmaB);\n",
"printf('\n The manometric head = %.2f m.',H);\n",
"printf('\n The hydraulic efficiency = %.1f percentage.',eff_hyd*100);\n",
"\n",
"//there is a very small error in the answer given in textbook"
   ]
   }
,
{
		   "cell_type": "markdown",
		   "metadata": {},
		   "source": [
			"## Example 7.5: Ex_5.sce"
		   ]
		  },
  {
"cell_type": "code",
	   "execution_count": null,
	   "metadata": {
	    "collapsed": true
	   },
	   "outputs": [],
"source": [
"clear;\n",
"clc;\n",
"funcprot(0);\n",
"\n",
"//given data\n",
"T01 = 22;//stagnation temperature in degC\n",
"Z = 17;//number of vanes\n",
"N = 15000;//rotational speed in rev/min\n",
"r = 4.2;//stagnation pressure ratio between diffuser and impeller\n",
"eff_ov = 0.83;//overall efficiency\n",
"mdot = 2;//mass flow rate in kg/s\n",
"eff_m = 0.97;//mechanical efficiency\n",
"rho2 = 2;//air density at impeller outle in kg/m^3\n",
"gamma = 1.4;\n",
"R = 0.287;//in kJ/(kg.K)\n",
"b2 = 11;//axial width at the entrance to the diffuser in mm\n",
"\n",
"//Calculations\n",
"Cp = gamma*R*1000/(gamma-1);\n",
"sigmaS = 1 - 2/Z;\n",
"U2 = sqrt(Cp*(T01+273)*((r)^((gamma-1)/gamma) -1)/(sigmaS*eff_ov));\n",
"omega = N*%pi/30;\n",
"rt = U2/omega;\n",
"Wdot_act = mdot*sigmaS*(U2^2)/(eff_m);\n",
"cr2 = mdot/(rho2*2*%pi*rt*b2/1000);\n",
"ctheta2 = sigmaS*U2;\n",
"c2 = sqrt(ctheta2^2 +cr2^2);\n",
"delW = sigmaS*U2^2;\n",
"T2 = T01+273+(delW - 0.5*c2^2)/Cp;\n",
"M2 =  c2/sqrt(gamma*R*1000*T2);\n",
"\n",
"//Results\n",
"printf('The impeller tip radius = %.3f m',rt);\n",
"printf('\n The actual shaft power = %d kW',Wdot_act/1000);\n",
"printf('\n Absolute mach number, M2 = %.2f.',M2);"
   ]
   }
,
{
		   "cell_type": "markdown",
		   "metadata": {},
		   "source": [
			"## Example 7.6: Ex_6.sce"
		   ]
		  },
  {
"cell_type": "code",
	   "execution_count": null,
	   "metadata": {
	    "collapsed": true
	   },
	   "outputs": [],
"source": [
"clear;\n",
"clc;\n",
"funcprot(0);\n",
"//given data\n",
"N_R = 8.0;//non-dimensional length\n",
"Cp = 0.7;//from Figure 7.26\n",
"Ag = 2.8;//from Figure 7.26\n",
"//Calculations\n",
"Cp_id = 1-(1/Ag^2);\n",
"eff_d = Cp/Cp_id;\n",
"theta = (180/%pi)*atan((1/N_R)*(sqrt(Ag) -1));\n",
"//Results\n",
"printf('The efficiency of a conical low speed diffuser = %.3f',eff_d);\n",
"printf('\n The included angle of the cone = %.1f deg.',2*theta);"
   ]
   }
],
"metadata": {
		  "kernelspec": {
		   "display_name": "Scilab",
		   "language": "scilab",
		   "name": "scilab"
		  },
		  "language_info": {
		   "file_extension": ".sce",
		   "help_links": [
			{
			 "text": "MetaKernel Magics",
			 "url": "https://github.com/calysto/metakernel/blob/master/metakernel/magics/README.md"
			}
		   ],
		   "mimetype": "text/x-octave",
		   "name": "scilab",
		   "version": "0.7.1"
		  }
		 },
		 "nbformat": 4,
		 "nbformat_minor": 0
}
