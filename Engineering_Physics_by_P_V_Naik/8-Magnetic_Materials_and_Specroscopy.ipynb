{
"cells": [
 {
		   "cell_type": "markdown",
	   "metadata": {},
	   "source": [
       "# Chapter 8: Magnetic Materials and Specroscopy"
	   ]
	},
{
		   "cell_type": "markdown",
		   "metadata": {},
		   "source": [
			"## Example 8.1: To_determine_temperatue.sci"
		   ]
		  },
  {
"cell_type": "code",
	   "execution_count": null,
	   "metadata": {
	    "collapsed": true
	   },
	   "outputs": [],
"source": [
"clc();\n",
"clear;\n",
"//calculating temperatue when average thermal energy of an atom is equal to it's magnetic energy.\n",
"//The given condition is (mew*B)=3/2(kT)\n",
"mew=0.9*10^-23;             //magnetic dipole moment \n",
"B=0.72;                     //magnetic field applied in T\n",
"k=1.38*10^-23;\n",
"T=(2*mew*B)/(3*k)          //T=temperature in Kelvin\n",
"printf('The temperature at which the avg.thermal energy of an atom is equal to its magnetic energy is%f K',T);"
   ]
   }
,
{
		   "cell_type": "markdown",
		   "metadata": {},
		   "source": [
			"## Example 8.2: Magnetisation_of_paramagnetic_salt.sci"
		   ]
		  },
  {
"cell_type": "code",
	   "execution_count": null,
	   "metadata": {
	    "collapsed": true
	   },
	   "outputs": [],
"source": [
"clc();\n",
"clear;\n",
"\n",
"//Calculating the magnetisation of paramagnetic salt\n",
"\n",
"//(C=mew0*M*T)/B.\n",
"//Therefore M=(C*B)/(mew0*T)\n",
"C=2*10^-3;            //C is curies constant\n",
"B=0.4;                //applied magnetic field T\n",
"mew0=4*%pi*10^-7;\n",
"T=300;                //temperature in kelvin\n",
"M=(C*B)/(mew0*T)     //M is magnetisation\n",
"printf('%f A/m',M);"
   ]
   }
,
{
		   "cell_type": "markdown",
		   "metadata": {},
		   "source": [
			"## Example 8.3: Zeeman_shift_in_wave_length.sci"
		   ]
		  },
  {
"cell_type": "code",
	   "execution_count": null,
	   "metadata": {
	    "collapsed": true
	   },
	   "outputs": [],
"source": [
"clc();\n",
"clear;\n",
"\n",
"//To measure Zeeman shift in wave length\n",
"\n",
"//Zeeman shift in frequency is delta V=eB/4*Pi*m.\n",
"//v=c/lambda  and dv=-cB(lambda)^2=mod[(c*d*lambda)/lambda^2]\n",
"//Therefore delta lambda=(lambda^2*delta v)/c=eB(lambda^2)/4*pi*m*c\n",
"e=1.6*10^-19;\n",
"B=0.35;                     //magnetic field\n",
"lambda=500*10^-9;          //wavelength in m\n",
"m=9.1*(10^-31);\n",
"c=3*(10^8)*10^-9;         //speed of light \n",
"deltalambda=(e*B*(lambda)^2)/(4*(%pi)*m*c)\n",
"printf('Zeeman shift in wave length is %f nm',deltalambda);"
   ]
   }
,
{
		   "cell_type": "markdown",
		   "metadata": {},
		   "source": [
			"## Example 8.4: To_determine_temperature.sci"
		   ]
		  },
  {
"cell_type": "code",
	   "execution_count": null,
	   "metadata": {
	    "collapsed": true
	   },
	   "outputs": [],
"source": [
"clc();\n",
"clear;\n",
"//Determining temperature when magnetisation,curies constant,magnetic field are given\n",
"\n",
"//T=(C*B)/(mew0*B)\n",
"C=2.1*10^-3;           //C is curie's constant\n",
"B=0.38;                //magnetic field\n",
"mew0=4*(%pi)*10^-7;   //molecular magnetic moment\n",
"M=2.15;               //magnetisation in A/m\n",
"T=(C*B)/(mew0*M)     //temperature in kelvin\n",
"printf('Temperature is %f K',T);"
   ]
   }
,
{
		   "cell_type": "markdown",
		   "metadata": {},
		   "source": [
			"## Example 8.5: Magnetisation_of_paramagnetic_salt.sci"
		   ]
		  },
  {
"cell_type": "code",
	   "execution_count": null,
	   "metadata": {
	    "collapsed": true
	   },
	   "outputs": [],
"source": [
"clc();\n",
"clear;\n",
"\n",
"//To measure magnetisation of paramagnetic salt\n",
"\n",
"\n",
"//(M1*T1)=(M2*T2).Therefore M2=(M1*T1)/T2\n",
"M1=2;                 //Initial magnetisation in A/m\n",
"T1=305;               //Initial temperature in K\n",
"T2=321;\n",
"M2=(M1*T1)/T2         //M2 is magnetisation at 321K\n",
"printf('Magnetisation at 321 K is %f A/m',M2);"
   ]
   }
,
{
		   "cell_type": "markdown",
		   "metadata": {},
		   "source": [
			"## Example 8.6: To_calculate_the_magnetic_field.sci"
		   ]
		  },
  {
"cell_type": "code",
	   "execution_count": null,
	   "metadata": {
	    "collapsed": true
	   },
	   "outputs": [],
"source": [
"clc();\n",
"clear;\n",
"\n",
"//To calculate the magnetic field\n",
"\n",
"mew0=4*(%pi)*10^-7;          //molecular magnetic moment\n",
"M=4;                         //magnetisation in A/m\n",
"T=310;                       //temperature in K\n",
"C=1.9*10^-3;                //Curie's constant\n",
"B=(mew0*M*T)/C             //magnetic field in T\n",
"printf('Magnetic field is %f T',B);"
   ]
   }
,
{
		   "cell_type": "markdown",
		   "metadata": {},
		   "source": [
			"## Example 8.7: To_calculate_the_magnetic_field.sci"
		   ]
		  },
  {
"cell_type": "code",
	   "execution_count": null,
	   "metadata": {
	    "collapsed": true
	   },
	   "outputs": [],
"source": [
"clc();\n",
"clear;\n",
"\n",
"//To calculate the magnetic field\n",
"//e/m is gyromagnetic ratio.\n",
"deltalambda=0.01*10^-9;                         //Zeeman shift\n",
"c=3*10^8;                                      //speed of light in  vacuum in m/s\n",
"lambda=600*(10)^-9;                            //wavelength in m\n",
"e=1.6*10^-19;\n",
"m=9.1*10^-31;\n",
"B=(deltalambda*4*(%pi)*m*c)/(e*(lambda)^2)    //uniform magnetic field\n",
"printf('Magnetic field is %f T',B);"
   ]
   }
,
{
		   "cell_type": "markdown",
		   "metadata": {},
		   "source": [
			"## Example 8.8: To_determine_e_m_ratio.sci"
		   ]
		  },
  {
"cell_type": "code",
	   "execution_count": null,
	   "metadata": {
	    "collapsed": true
	   },
	   "outputs": [],
"source": [
"clc();\n",
"clear;\n",
"// To determine e/m ratio\n",
"//e/m=(deltalambda*4*pi*c)/(B*(lambda)^2)\n",
"deltalambda=0.01*10^-9;                           //Zeeman shift\n",
"c=3*(10^8);                                      //speed of light in vacuum in m/s\n",
"B=0.78;                                          //magnetic field\n",
"lambda=550*(10^-9);                              //wavelength in nm\n",
"Y=(deltalambda*4*(%pi)*3*(10^8))/(B*(lambda)^2)  //e/m ratio\n",
"printf('e/m =%e',Y);"
   ]
   }
],
"metadata": {
		  "kernelspec": {
		   "display_name": "Scilab",
		   "language": "scilab",
		   "name": "scilab"
		  },
		  "language_info": {
		   "file_extension": ".sce",
		   "help_links": [
			{
			 "text": "MetaKernel Magics",
			 "url": "https://github.com/calysto/metakernel/blob/master/metakernel/magics/README.md"
			}
		   ],
		   "mimetype": "text/x-octave",
		   "name": "scilab",
		   "version": "0.7.1"
		  }
		 },
		 "nbformat": 4,
		 "nbformat_minor": 0
}
