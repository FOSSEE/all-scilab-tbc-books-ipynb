{
"cells": [
 {
		   "cell_type": "markdown",
	   "metadata": {},
	   "source": [
       "# Chapter 11: Nuclear Radiations and Detectors"
	   ]
	},
{
		   "cell_type": "markdown",
		   "metadata": {},
		   "source": [
			"## Example 11.10: To_calculate_the_radius.sci"
		   ]
		  },
  {
"cell_type": "code",
	   "execution_count": null,
	   "metadata": {
	    "collapsed": true
	   },
	   "outputs": [],
"source": [
"clc();\n",
"clear;\n",
"//To calculate radius\n",
"rho=1.83*(10^17);                                       //average density of carbon nucleus in kg/m^3\n",
"m=12;                                                   //mass in u\n",
"//rho=m/[(4/3)*pi*r].Therefore r=[m/[(4/3)*pi*rho]]^(1/3)\n",
"r=[m*1.66*(10^-27)/((4/3)*%pi*rho)]^(1/3)*10^15         //radius in fm\n",
"printf('The radius is %f fm',r);"
   ]
   }
,
{
		   "cell_type": "markdown",
		   "metadata": {},
		   "source": [
			"## Example 11.11: To_calculate_the_cyclotron_frequency.sci"
		   ]
		  },
  {
"cell_type": "code",
	   "execution_count": null,
	   "metadata": {
	    "collapsed": true
	   },
	   "outputs": [],
"source": [
"clc();\n",
"clear;\n",
"//To calculate cyclotron frequency of of electron\n",
"q=1.6*(10^-19);                  //charge of the particle\n",
"B=5;                             //magnetic field in T\n",
"m=9.1*(10^-31);                  //mass of electron in kg\n",
"v=(q*B)/(2*%pi*m)                //cyclotron frequency in Hz\n",
"printf('cyclotron frequency of of electron is %e Hz',v);"
   ]
   }
,
{
		   "cell_type": "markdown",
		   "metadata": {},
		   "source": [
			"## Example 11.12: To_determine_the_magnetic_field.sci"
		   ]
		  },
  {
"cell_type": "code",
	   "execution_count": null,
	   "metadata": {
	    "collapsed": true
	   },
	   "outputs": [],
"source": [
"clc();\n",
"clear;\n",
"//To determine the magnetic field\n",
"k=1.5;                                             //maximum kinetic energy in MeV\n",
"m=1.67*10^-27;                                    //mass of proton in kg\n",
"q=1.6*(10^-19);                                   //charge of particle\n",
"r=0.35;                                           //radius in m\n",
"//k=[(q^2)*(B^2)*(r^2)]/(2*m).Therefore B=[sqrt(k*2*m)]/q*r\n",
"B=sqrt(k*10^6*1.6*10^-19*2*m)/(q*r)               //magnetic field in T\n",
"printf('The mgnetic field is %f T',B);"
   ]
   }
,
{
		   "cell_type": "markdown",
		   "metadata": {},
		   "source": [
			"## Example 11.13: To_determine_the_magnetic_field.sci"
		   ]
		  },
  {
"cell_type": "code",
	   "execution_count": null,
	   "metadata": {
	    "collapsed": true
	   },
	   "outputs": [],
"source": [
"clc();\n",
"clear;\n",
"//To calculate magnetic field \n",
"m=1.67*(10^-27);                                    //mass of proton\n",
"q=1.6*10^-19;                                       //charge of particle\n",
"v=25;                                               //cyclotron frequency in MHz\n",
"//v=(q*B)/(2*pi*m).Therefore B=(v*2*pi*m)/q\n",
"B=(v*10^6*2*%pi*m)/q\n",
"printf('The required magnetic field is %f T',B);"
   ]
   }
,
{
		   "cell_type": "markdown",
		   "metadata": {},
		   "source": [
			"## Example 11.14: Charge_to_mass_ratio_for_proto.sci"
		   ]
		  },
  {
"cell_type": "code",
	   "execution_count": null,
	   "metadata": {
	    "collapsed": true
	   },
	   "outputs": [],
"source": [
"clc();\n",
"clear;\n",
"//To determine the charge to mass ratio for proton\n",
"v=20;                            //cyclotron frequency in MHz\n",
"B=1.3;                           //magnetic field in T\n",
"//d=q/m=(2*pi*v)/B\n",
"d=(2*%pi*v*10^6)/B               //charge to mass ratio of proton\n",
"printf('q/m=%f C/kg',d);"
   ]
   }
,
{
		   "cell_type": "markdown",
		   "metadata": {},
		   "source": [
			"## Example 11.1: To_calculate_the_radius_of_Li.sci"
		   ]
		  },
  {
"cell_type": "code",
	   "execution_count": null,
	   "metadata": {
	    "collapsed": true
	   },
	   "outputs": [],
"source": [
"clc();\n",
"clear;\n",
"//To calculate the radius of Li(mass no.7)\n",
"r0=1.2;              //in fm\n",
"A=7;                 //mass number \n",
"//r=r0*(A)^1/3\n",
"r=r0*(A)^(1/3)\n",
"printf('The radius of Li with mass number 7 is %f fm',r);"
   ]
   }
,
{
		   "cell_type": "markdown",
		   "metadata": {},
		   "source": [
			"## Example 11.2: Binding_energy_per_nucleon.sci"
		   ]
		  },
  {
"cell_type": "code",
	   "execution_count": null,
	   "metadata": {
	    "collapsed": true
	   },
	   "outputs": [],
"source": [
"clc();\n",
"clear;\n",
"//To determine the binding energy per nucleon of U with mass no. 235\n",
"M=235.043945;         //atomic mass of uranium\n",
"Z=92;                 //atomic number of uranium\n",
"mp=1.007825;                                 //mass of proton\n",
"N=143;                                      //no.of neutrons\n",
"mn=1.008665;                                //mass of neutron\n",
"A=235;                                     //number of nucleons\n",
"B=[[(Z*mp)+(N*mn)-(M)]/A]*931.5            //Binding energy in MeV\n",
"printf('The binding energy per nucleon is %f MeV',B);"
   ]
   }
,
{
		   "cell_type": "markdown",
		   "metadata": {},
		   "source": [
			"## Example 11.3: minimum_energy_required_to_remove_a_neutron_from_nucleus.sci"
		   ]
		  },
  {
"cell_type": "code",
	   "execution_count": null,
	   "metadata": {
	    "collapsed": true
	   },
	   "outputs": [],
"source": [
"clc();\n",
"clear;\n",
"//To calculate the minimum energy required to remove a neutron from Ca(A=43;Z=20)\n",
"//After removing one neutron from Ca(A=43;Z=20) it becomes Ca(A=42;Z=20)\n",
"M=41.958622;                 //mass of Ca(A=42;Z=20)\n",
"mn=1.008665;                 //mass of neutrom\n",
"C=M+mn;\n",
"E=42.95877;                  //mass of Ca(A=43;Z=20)\n",
"D=C-E;\n",
"B=D*931.5                    //Binding energy of neutron\n",
"printf('The binding energy of neutron is %f MeV',B);"
   ]
   }
,
{
		   "cell_type": "markdown",
		   "metadata": {},
		   "source": [
			"## Example 11.4: To_determine_the_Q_value_of_the_reaction.sci"
		   ]
		  },
  {
"cell_type": "code",
	   "execution_count": null,
	   "metadata": {
	    "collapsed": true
	   },
	   "outputs": [],
"source": [
"clc();\n",
"clear;\n",
"//To determine the Q-value\n",
"mBe=9.012182;                //Atomic mass of beryllium in u\n",
"mHe=4.002603;               //Atomic mass of helium\n",
"mn=1.008665;                //mass of neutron\n",
"mC=12.000000;               //Atomic mass of carbon\n",
"Q=(mBe+mHe-mn-mC)*931.5     //Q is called energy balance of the reaction\n",
"printf('The Q-value is %f MeV',Q);"
   ]
   }
,
{
		   "cell_type": "markdown",
		   "metadata": {},
		   "source": [
			"## Example 11.5: Q_value_of_the_reaction_and_energy_of_each_alpha_particle.sci"
		   ]
		  },
  {
"cell_type": "code",
	   "execution_count": null,
	   "metadata": {
	    "collapsed": true
	   },
	   "outputs": [],
"source": [
"clc();\n",
"clear;\n",
"//To determine the Q-value \n",
"mLi=7.016004;               //mass of Lithium(A=7)\n",
"mH=1.007825;                //mass of Hydrogen(A=1)\n",
"mHe=4.002603;               //mass of helium(A=4)\n",
"Q=[mLi+mH-2*(mHe)]*931.5     //Q is the energy balance of the reaction\n",
"p=0.5;                      //energy of proton in MeV\n",
"//The energy of 2 alpha particles is equal to the Q-value + energy of proton.\n",
"Ealpha=(Q+p)/2              //energy of each alpha particle\n",
"printf('The Q-value of the reaction is %f MeV and energy of each alpha particle is %f MeV',Q,Ealpha)"
   ]
   }
,
{
		   "cell_type": "markdown",
		   "metadata": {},
		   "source": [
			"## Example 11.6: To_calculate_the_energy_released.sci"
		   ]
		  },
  {
"cell_type": "code",
	   "execution_count": null,
	   "metadata": {
	    "collapsed": true
	   },
	   "outputs": [],
"source": [
"clc();\n",
"clear;\n",
"//To determine the amount of energy released\n",
"wt=1000;                          //weight in gm\n",
"A=235;                            //mass number of uranium\n",
"N=[6.02*(10^23)/A]*wt;            //no.of nuclei in 1kg of uranium\n",
"Q=208;                            //energy-balance of the reaction\n",
"E=N*Q;                            //Energy released in MeV\n",
"//1MeV=4.45*10^-20kWh\n",
"E=E*4.45*(10^-20)\n",
"printf('The energy released is %f kWh',E);"
   ]
   }
,
{
		   "cell_type": "markdown",
		   "metadata": {},
		   "source": [
			"## Example 11.7: power_output_of_a_nuclear_reactor.sci"
		   ]
		  },
  {
"cell_type": "code",
	   "execution_count": null,
	   "metadata": {
	    "collapsed": true
	   },
	   "outputs": [],
"source": [
"clc();\n",
"clear;\n",
"//To determine the power output of a nuclear reactor\n",
"wt=5000;                         //weight in gm\n",
"A=235;                           //mass number of uranium\n",
"N=(6.02*(10^23)/A)*wt;           //number of nuclei in 5 Kg\n",
"Ef=208;                          //Energy released per fission in MeV\n",
"E=N*Ef;                          //Energy in MeV\n",
"E=E*1.6*(10^-13);                 //Energy in J\n",
"T=24*60*60;                      //time\n",
"P=E/T                            //power\n",
"printf('The power output of a nuclear reactor is %f MW',P);"
   ]
   }
,
{
		   "cell_type": "markdown",
		   "metadata": {},
		   "source": [
			"## Example 11.8: Amount_of_U_required.sci"
		   ]
		  },
  {
"cell_type": "code",
	   "execution_count": null,
	   "metadata": {
	    "collapsed": true
	   },
	   "outputs": [],
"source": [
"clc();\n",
"clear;\n",
"//To calculate the amount of Uranium(A=235) required\n",
"A=235;                             //mass number of uranium\n",
"p=1000;                            //amount of electric power produced\n",
"e=0.32;                            //energy conversion efficiency of the plant\n",
"I=p/e;                             //Input nuclear energy in MW\n",
"f=200;                             //fission energy per event in MeV\n",
"TE=I*(10^6)*3600*24*365;           //total energy in J\n",
"EF=f*(10^6)*1.6*(10^-19);          //Energy released per fission event in J\n",
"N=TE/EF;                           //Number of nuclei required\n",
"M=(N*A)/[6.02*(10^23)]*10^-3       //corresponding mass in kg\n",
"printf('The amount of uranium required is %f kg',M);"
   ]
   }
,
{
		   "cell_type": "markdown",
		   "metadata": {},
		   "source": [
			"## Example 11.9: Frequency_of_oscillator_to_be_used.sci"
		   ]
		  },
  {
"cell_type": "code",
	   "execution_count": null,
	   "metadata": {
	    "collapsed": true
	   },
	   "outputs": [],
"source": [
"clc();\n",
"clear;\n",
"//To determine the frequency of oscillator to be used to accelerate protons\n",
"q=1.6*(10*10^-19);                  //charge of the particle\n",
"B=1;                                //magnetic field in T\n",
"m=1.67*(10^-27);                    //mass of proton in kg\n",
"omega=(q*B)/m;                      //angular frequency in radians/s\n",
"v=[omega/(2*%pi)]*10^-8;            //in MHz\n",
"r=0.5;                              //radius in m\n",
"s=omega*r;                          //speed of proton in m/s\n",
"K=[m*(s^2)]*(1/2)*6.27*10^10        //kinetic energy of protons emerging from cyclotron\n",
"printf('The frequency of oscillator to accelerate protons is %f radians/s ,speed of proton is %f m/s and the kinetic energy of protons emerging from the cyclotron is %f MeV',omega,s,K);"
   ]
   }
],
"metadata": {
		  "kernelspec": {
		   "display_name": "Scilab",
		   "language": "scilab",
		   "name": "scilab"
		  },
		  "language_info": {
		   "file_extension": ".sce",
		   "help_links": [
			{
			 "text": "MetaKernel Magics",
			 "url": "https://github.com/calysto/metakernel/blob/master/metakernel/magics/README.md"
			}
		   ],
		   "mimetype": "text/x-octave",
		   "name": "scilab",
		   "version": "0.7.1"
		  }
		 },
		 "nbformat": 4,
		 "nbformat_minor": 0
}
