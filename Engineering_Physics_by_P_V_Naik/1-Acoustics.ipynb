{
"cells": [
 {
		   "cell_type": "markdown",
	   "metadata": {},
	   "source": [
       "# Chapter 1: Acoustics"
	   ]
	},
{
		   "cell_type": "markdown",
		   "metadata": {},
		   "source": [
			"## Example 1.10: To_determine_the_thickness_of_crystal.sci"
		   ]
		  },
  {
"cell_type": "code",
	   "execution_count": null,
	   "metadata": {
	    "collapsed": true
	   },
	   "outputs": [],
"source": [
"clc();\n",
"clear;\n",
"//To determine the thickness of the crystal \n",
"f1=400;                          //Initial frequency in kHZ\n",
"f2=500;                         //New frequency\n",
"t1=3;                           // initial thickness of the crystal\n",
"t2=(f1*t1)/f2                  //required thickness\n",
"printf('The required thickness of the crystal is %f mm',t2 );"
   ]
   }
,
{
		   "cell_type": "markdown",
		   "metadata": {},
		   "source": [
			"## Example 1.11: ratio_of_new_to_old_frquencies.sci"
		   ]
		  },
  {
"cell_type": "code",
	   "execution_count": null,
	   "metadata": {
	    "collapsed": true
	   },
	   "outputs": [],
"source": [
"clc();\n",
"clear;\n",
"//Determining the ratio of new to old frequencies\n",
"t1=2;                     //Initial thickness in mm\n",
"t2=2.8;                   //New thickness in mm\n",
"F=t1/t2                  //ratio of new to old frequencies i.e f2/f1\n",
"printf('The ratio of new to old frequencies is %f',F);"
   ]
   }
,
{
		   "cell_type": "markdown",
		   "metadata": {},
		   "source": [
			"## Example 1.1: To_calculate_the_intensity.sci"
		   ]
		  },
  {
"cell_type": "code",
	   "execution_count": null,
	   "metadata": {
	    "collapsed": true
	   },
	   "outputs": [],
"source": [
"clc();\n",
"clear;\n",
"//To calculate intensity of sound\n",
"\n",
"p=50;                   //sound waves with output power in W\n",
"r=4;                   //Distance in m\n",
"I=p/(4*%pi*r^2)       //Intensity in W/m^2\n",
"printf('Intensity of sound at a distance of 4m from the source is %f W/m^2',I);"
   ]
   }
,
{
		   "cell_type": "markdown",
		   "metadata": {},
		   "source": [
			"## Example 1.2: distance_at_which_sound_reduces_to_a_level.sci"
		   ]
		  },
  {
"cell_type": "code",
	   "execution_count": null,
	   "metadata": {
	    "collapsed": true
	   },
	   "outputs": [],
"source": [
"clc();\n",
"clear;\n",
"//To determine the distance when intensity or power of source of sound changes\n",
"//Io=10^-12;              //Initial intensity of sound\n",
"//d=50;                   //d=number of decibels given by 10log(Io/I1)\n",
"//Therefore I1=10^5Io=10^-7W/m^2\n",
"I1=10^(-7);\n",
"P=70;                    //Output power in W\n",
"r=sqrt(P/(4*(%pi)*I1))   //distance in m\n",
"printf('The distance at which sound reduces to a level of 50dB is %f m',r);"
   ]
   }
,
{
		   "cell_type": "markdown",
		   "metadata": {},
		   "source": [
			"## Example 1.3: Determination_of_total_absorption_in_hall.sci"
		   ]
		  },
  {
"cell_type": "code",
	   "execution_count": null,
	   "metadata": {
	    "collapsed": true
	   },
	   "outputs": [],
"source": [
"clc();\n",
"clear;\n",
"//To find the total absorption in the hall\n",
"v=8000;             //volume of the hall\n",
"T=1.5;             //Reverberation time in seconds\n",
"A=(0.161*v)/T      //Total absorption time in m^2 sabine\n",
"printf('The total reverberation in the hall if reverberation time is 1.5s is %f m^2 sabine',A);"
   ]
   }
,
{
		   "cell_type": "markdown",
		   "metadata": {},
		   "source": [
			"## Example 1.4: average_absorption_coefficients_of_surface.sci"
		   ]
		  },
  {
"cell_type": "code",
	   "execution_count": null,
	   "metadata": {
	    "collapsed": true
	   },
	   "outputs": [],
"source": [
"clc();\n",
"clear;\n",
"//To determine the average absorption coefficients of surfaces\n",
"l=25;                          //length of the hall in m\n",
"b=20;                         //breadth of the hall in m\n",
"h=10;                        //height of the hall in m\n",
"V=l*b*h;                     //Volume of the hall\n",
"T=4;                         //Reverberation time in s\n",
"A=(0.161*V)/T ;             //Total absorption time in m^2 sabine\n",
"b=A/(2*((l*b)+(b*h)+(l*h))) //b is absorption co-efficient\n",
"printf('The average absorption co-efficients of surfaces is %f',b);"
   ]
   }
,
{
		   "cell_type": "markdown",
		   "metadata": {},
		   "source": [
			"## Example 1.5: determination_of_frequency_of_ultrasonic_sound_waves.sci"
		   ]
		  },
  {
"cell_type": "code",
	   "execution_count": null,
	   "metadata": {
	    "collapsed": true
	   },
	   "outputs": [],
"source": [
"clc();\n",
"clear;\n",
"//To determine the frequency of ultrasonic waves\n",
"Y=77*(10^10);                               //Youngs modulus for quartz in dyne/cm^2\n",
"rho=2.6;                                    //density of quartz in g/cm^3\n",
"t=0.4;                                      //thickness in cm\n",
"f=((1/(2*t))*sqrt(Y/rho))*10^-3             //frequency\n",
"printf('The frequency of ultrasonic waves produced when a quartz plate of thickness 4mm is used is %d kHz',f);"
   ]
   }
,
{
		   "cell_type": "markdown",
		   "metadata": {},
		   "source": [
			"## Example 1.6: To_determine_the_thickness_of_crystal.sci"
		   ]
		  },
  {
"cell_type": "code",
	   "execution_count": null,
	   "metadata": {
	    "collapsed": true
	   },
	   "outputs": [],
"source": [
"clc();\n",
"clear;\n",
"//To determine the thickness of a crystal to produce ultrasonic waves\n",
"Y=81*(10^10);                              //Young's modulus for barium titanate in dynes/cm^2\n",
"rho=5.51;                                 //density of barium titanate in g/cm^3\n",
"f=900;                                   //frequency of ultrasonic waves in kHZ\n",
"t=((1/(2*f))*sqrt(Y/rho))*10^-2         //thickness of crystal\n",
"printf('The thickness of the crystal to produce ultrasonic waves of frequency 900kHZ is %f mm',t);\n",
""
   ]
   }
,
{
		   "cell_type": "markdown",
		   "metadata": {},
		   "source": [
			"## Example 1.7: To_calculate_the_output_power.sci"
		   ]
		  },
  {
"cell_type": "code",
	   "execution_count": null,
	   "metadata": {
	    "collapsed": true
	   },
	   "outputs": [],
"source": [
"clc();\n",
"clear;//To calculate the output power of the sound source\n",
"r=3;                        //distance in m\n",
"I=0.86;                     //Intensity of sound source in W/m^2\n",
"P=4*(%pi)*r^2*I             //Power of the sound source\n",
"printf('The output power of the sound source  of intensity 0.86 W/m^2 at a distance of 3m is %f W',P);"
   ]
   }
,
{
		   "cell_type": "markdown",
		   "metadata": {},
		   "source": [
			"## Example 1.8: To_calculate_the_output_power.sci"
		   ]
		  },
  {
"cell_type": "code",
	   "execution_count": null,
	   "metadata": {
	    "collapsed": true
	   },
	   "outputs": [],
"source": [
"clc();\n",
"clear;\n",
"//To determine the output power of the sound source\n",
"d=60;                    //Number of decibels given by 10*log(I/I0)\n",
"I0=10^-12;               //Initial intensity of sound\n",
"I=10^-6;                 //since 10log(I/I0)=60\n",
"r=200;                   //distance in m\n",
"P=4*(%pi)*r^2*I\n",
"printf('The output power of the sound source at a distance of 200m after the intensity reduces to a level of 60dB is %f W',P);"
   ]
   }
,
{
		   "cell_type": "markdown",
		   "metadata": {},
		   "source": [
			"## Example 1.9: To_determine_reverberation_time.sci"
		   ]
		  },
  {
"cell_type": "code",
	   "execution_count": null,
	   "metadata": {
	    "collapsed": true
	   },
	   "outputs": [],
"source": [
"clc();\n",
"clear;\n",
"//To calculate the reverberation time\n",
"V=9250;                       //volume of the hall in m^3\n",
"A=900;                        //Total absorption in m^2 sabine\n",
"T=(0.161*V)/A                 //Reverberation time in s\n",
"printf('The reverberation time in a hall of 9250m^3 and total absorption 900 m^2 sabine is %f s',T);"
   ]
   }
],
"metadata": {
		  "kernelspec": {
		   "display_name": "Scilab",
		   "language": "scilab",
		   "name": "scilab"
		  },
		  "language_info": {
		   "file_extension": ".sce",
		   "help_links": [
			{
			 "text": "MetaKernel Magics",
			 "url": "https://github.com/calysto/metakernel/blob/master/metakernel/magics/README.md"
			}
		   ],
		   "mimetype": "text/x-octave",
		   "name": "scilab",
		   "version": "0.7.1"
		  }
		 },
		 "nbformat": 4,
		 "nbformat_minor": 0
}
