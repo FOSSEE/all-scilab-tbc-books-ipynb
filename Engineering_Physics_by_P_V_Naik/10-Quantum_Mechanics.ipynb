{
"cells": [
 {
		   "cell_type": "markdown",
	   "metadata": {},
	   "source": [
       "# Chapter 10: Quantum Mechanics"
	   ]
	},
{
		   "cell_type": "markdown",
		   "metadata": {},
		   "source": [
			"## Example 10.10: Uncertainity_in_velocity_of_electron.sci"
		   ]
		  },
  {
"cell_type": "code",
	   "execution_count": null,
	   "metadata": {
	    "collapsed": true
	   },
	   "outputs": [],
"source": [
"clc();\n",
"clear;\n",
"//To determine uncertainity in velocity\n",
"deltax=0.92*10^-9;                         //uncertainity in position\n",
"m=9.1*10^-31;                              //mass of electron\n",
"h=6.626*10^-34;                            //plancks constant\n",
"deltav=h/(4*%pi*m*deltax)                 //uncertainity in velocity\n",
"printf('The uncertainity in velocity is %f m/s',deltav);"
   ]
   }
,
{
		   "cell_type": "markdown",
		   "metadata": {},
		   "source": [
			"## Example 10.11: Length_of_the_box_for_a_proton.sci"
		   ]
		  },
  {
"cell_type": "code",
	   "execution_count": null,
	   "metadata": {
	    "collapsed": true
	   },
	   "outputs": [],
"source": [
"clc();\n",
"clear;\n",
"//To determine the length of a box\n",
"h=6.626*10^-34;                                 //plancks constant\n",
"n=3;                                            //for second excited state\n",
"m=1.67*10^-27;                                  //mass of proton\n",
"E=0.5;                                           //energy in Mev\n",
"L=((h*n)/sqrt(8*m*E*10^6*1.6*10^-19))*10^15      //length of the box\n",
"printf('The length of the box for proton in its second excited state is %f fm ',L);"
   ]
   }
,
{
		   "cell_type": "markdown",
		   "metadata": {},
		   "source": [
			"## Example 10.1: To_calculate_de_Broglie_wavelength.sci"
		   ]
		  },
  {
"cell_type": "code",
	   "execution_count": null,
	   "metadata": {
	    "collapsed": true
	   },
	   "outputs": [],
"source": [
"clc();\n",
"clear;\n",
"//To calculate the de Broglie wavelength\n",
"v=10^7;                       //speed of electron in m/s\n",
"h=6.626*10^-34;               //plancks constant\n",
"m=9.1*10^-31;                 //mass of electron\n",
"lambda=h/(m*v)                //de Broglie wavelength in m\n",
"printf('The de Broglie wavelength is %e',lambda);"
   ]
   }
,
{
		   "cell_type": "markdown",
		   "metadata": {},
		   "source": [
			"## Example 10.2: To_determine_the_kinetic_energy.sci"
		   ]
		  },
  {
"cell_type": "code",
	   "execution_count": null,
	   "metadata": {
	    "collapsed": true
	   },
	   "outputs": [],
"source": [
"clc();\n",
"clear;\n",
"//To determine the kinetic energy of proton & electron\n",
"h=6.626*10^-34;                       //plancks constant\n",
"lambda=0.3;                           //de Broglie wavelength\n",
"p=h/(lambda*10^-9);                           //uncertainity in determining momentum in kg.m/s\n",
"//For electron\n",
"me=9.1*10^-31;                        //mass of electron\n",
"K1=p^2/(2*me);                         //kinetic energy of electron in J\n",
"//For proton\n",
"mp=1.672*10^-27;                      //mass of proton\n",
"K2=p^2/(2*mp)                         //kinetic energy of proton in J\n",
"printf('The kinetic energy of electron is %e J and kinetic energy of proton is %e J',K1,K2);"
   ]
   }
,
{
		   "cell_type": "markdown",
		   "metadata": {},
		   "source": [
			"## Example 10.3: To_calculate_the_kinetic_energy.sci"
		   ]
		  },
  {
"cell_type": "code",
	   "execution_count": null,
	   "metadata": {
	    "collapsed": true
	   },
	   "outputs": [],
"source": [
"clc();\n",
"clear;\n",
"//To determine the kinetic energy\n",
"//K=p^2/(lambda^2*2*m) where K is kinetic energy\n",
"h=6.626*10^-34;                         //plancks constant\n",
"lambda=10^-14;                          //de Broglie wavelength\n",
"m=9.1*10^-31;                           //mass of electron\n",
"K=(h^2/((lambda^2)*2*m*1.6*10^-19))*10^-9\n",
"printf('The kinetic energy is %f Gev',K);\n",
"//It is not possible to confine the electron to a nucleus.The experimental observations show that even electrons assosciated with unstable atoms never have energy more than a fraction of MeV"
   ]
   }
,
{
		   "cell_type": "markdown",
		   "metadata": {},
		   "source": [
			"## Example 10.4: Uncertainity_in_determining_the_position.sci"
		   ]
		  },
  {
"cell_type": "code",
	   "execution_count": null,
	   "metadata": {
	    "collapsed": true
	   },
	   "outputs": [],
"source": [
"clc();\n",
"clear;\n",
"//To determine the uncertainity in determining the position of this electron\n",
"m=9.1*10^-31;                         //mass of electron\n",
"v=6*10^3;                             //speed of electron\n",
"p=m*v;                                //uncertainity in momentum in kg.m/s\n",
"h=6.626*10^-34;                       //plancks constant\n",
"deltap=0.00005*p;                     //uncertainity in p is 0.00005 of p\n",
"deltax=(h/(4*%pi*deltap))*10^3       //uncertainity in position\n",
"printf('The uncertainity in position is %f mm',deltax);"
   ]
   }
,
{
		   "cell_type": "markdown",
		   "metadata": {},
		   "source": [
			"## Example 10.5: First_2_energy_levels_of_a_particle.sci"
		   ]
		  },
  {
"cell_type": "code",
	   "execution_count": null,
	   "metadata": {
	    "collapsed": true
	   },
	   "outputs": [],
"source": [
"clc();\n",
"clear;\n",
"//To determine the first two energy levels using particle-in-a-box model\n",
"L=3*10^-5;                                            //diameter of the sphere\n",
"h=6.626*10^-34;                                       //plancks constant\n",
"m=1.67*10^-27;                                        //mass of the particle\n",
"n=1;\n",
"E1=((h^2)*(n^2))/(8*m*(L^2)*1.6*10^-19)*10^12        //first energy level\n",
"E2=E1*2^2                                             //second energy level\n",
"printf('The first energy level is %f Mev',E1);\n",
"printf('The second energy level is %f Mev',E2);"
   ]
   }
,
{
		   "cell_type": "markdown",
		   "metadata": {},
		   "source": [
			"## Example 10.6: Ground_state_and_first_excited_state_energy.sci"
		   ]
		  },
  {
"cell_type": "code",
	   "execution_count": null,
	   "metadata": {
	    "collapsed": true
	   },
	   "outputs": [],
"source": [
"clc();\n",
"clear;\n",
"//To determine ground state & first excited state energy\n",
"h=6.626*10^-34;                           //plancks constant\n",
"a=2*10^12;                                //angular frequency in rad/s\n",
"E0=(0.5*(h/(2*%pi*1.6*10^-19))*a)*10^3   //ground state energy\n",
"E1=(1.5*(h/(2*%pi*1.6*10^-19))*a)*10^3   //first excited state energy\n",
"printf('The ground state energy is %f Mev and first excited state energy is %f Mev',E0,E1);"
   ]
   }
,
{
		   "cell_type": "markdown",
		   "metadata": {},
		   "source": [
			"## Example 10.7: To_determine_kinetic_energy_of_electron.sci"
		   ]
		  },
  {
"cell_type": "code",
	   "execution_count": null,
	   "metadata": {
	    "collapsed": true
	   },
	   "outputs": [],
"source": [
"clc();\n",
"clear;\n",
"//To determine the kinetic energy of electron\n",
"h=6.626*10^-34;                           //plancks constant\n",
"E=85;                                     //Energy in keV\n",
"c=3*10^8;                                 //speed of light\n",
"lambda=(h*c)/(E*10^3*(1.6*10^-19));       //de Broglie wavelength\n",
"m=9.1*10^-31;                             //mass of electron\n",
"K=((h^2)/((lambda^2)*2*m*1.6*10^-9))*10^7 //kinetic energy of electron\n",
"printf('The kinetic enery of the electron is %f keV',K);"
   ]
   }
,
{
		   "cell_type": "markdown",
		   "metadata": {},
		   "source": [
			"## Example 10.8: To_determine_velocity_of_electron.sci"
		   ]
		  },
  {
"cell_type": "code",
	   "execution_count": null,
	   "metadata": {
	    "collapsed": true
	   },
	   "outputs": [],
"source": [
"clc();\n",
"clear;\n",
"//To determine velocity of an electron\n",
"lambda=0.08;                                       //de Briglie wavelength\n",
"m=9.1*10^-31;                                      //mass of electron\n",
"h=6.626*10^-34;                                   //plancks constant\n",
"v=h/(m*lambda*10^-9)                             //velocity of the electron\n",
"printf('The velocity of the electron is %f m/s',v);"
   ]
   }
,
{
		   "cell_type": "markdown",
		   "metadata": {},
		   "source": [
			"## Example 10.9: To_determine_the_potential_difference.sci"
		   ]
		  },
  {
"cell_type": "code",
	   "execution_count": null,
	   "metadata": {
	    "collapsed": true
	   },
	   "outputs": [],
"source": [
"clc();\n",
"clear;\n",
"//To determine the potential diference\n",
"h=6.626*10^-34;                    //plancks constant\n",
"lambda=589*10^-9;                  //wavelength in m\n",
"m=9.1*10^-31;                      //mass of electron\n",
"e=1.6*10^-19;\n",
"V=((h^2)/((lambda^2)*2*m*e))*10^6  //potential diference\n",
"printf('The potential difference through which an electron should be accelerated to have a wavelength of 589 nm is %f microV ',V);"
   ]
   }
],
"metadata": {
		  "kernelspec": {
		   "display_name": "Scilab",
		   "language": "scilab",
		   "name": "scilab"
		  },
		  "language_info": {
		   "file_extension": ".sce",
		   "help_links": [
			{
			 "text": "MetaKernel Magics",
			 "url": "https://github.com/calysto/metakernel/blob/master/metakernel/magics/README.md"
			}
		   ],
		   "mimetype": "text/x-octave",
		   "name": "scilab",
		   "version": "0.7.1"
		  }
		 },
		 "nbformat": 4,
		 "nbformat_minor": 0
}
