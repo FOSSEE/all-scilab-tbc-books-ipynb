{
"cells": [
 {
		   "cell_type": "markdown",
	   "metadata": {},
	   "source": [
       "# Chapter 4: Interference"
	   ]
	},
{
		   "cell_type": "markdown",
		   "metadata": {},
		   "source": [
			"## Example 4.10: To_calculate_the_wedge_angle.sci"
		   ]
		  },
  {
"cell_type": "code",
	   "execution_count": null,
	   "metadata": {
	    "collapsed": true
	   },
	   "outputs": [],
"source": [
"clc();\n",
"clear;\n",
"//To calculate the wedge angle\n",
"lambda=500*10^-9;                      //wavelength\n",
"x=0.07;                                //observed band width\n",
"mew=1;                                  //refractive index\n",
"teta=(asind(lambda/(2*mew*x)))*10^4     //wedge angle\n",
"printf('The wedge angle is %f',teta);"
   ]
   }
,
{
		   "cell_type": "markdown",
		   "metadata": {},
		   "source": [
			"## Example 4.11: Refractive_index_of_liquid.sci"
		   ]
		  },
  {
"cell_type": "code",
	   "execution_count": null,
	   "metadata": {
	    "collapsed": true
	   },
	   "outputs": [],
"source": [
"clc();\n",
"clear;\n",
"//To determine the refravtive index of liquid\n",
"dair=0.42;                   //diameter of certain rings\n",
"dliq=0.38;                   //diameter of rings when liquid is introduced\n",
"mew=dair^2/dliq^2            //refractive index of liquid\n",
"printf('The refravtive index of liquid is %f',mew);"
   ]
   }
,
{
		   "cell_type": "markdown",
		   "metadata": {},
		   "source": [
			"## Example 4.12: Wavelength_of_light_used.sci"
		   ]
		  },
  {
"cell_type": "code",
	   "execution_count": null,
	   "metadata": {
	    "collapsed": true
	   },
	   "outputs": [],
"source": [
"clc();\n",
"clear;\n",
"//To determine the wavelength of light used\n",
"m=8;                                           //eigth ring\n",
"n=3;                                           //third ring\n",
"dm=0.4;                                        //diameter of the eigth ring\n",
"dn=0.2;                                        //diameter of the third ring\n",
"R=101;                                         //Radius of curvature\n",
"lambda=(((dm^2)-(dn^2))/(4*R*(m-n)))*10^5      //wavelength of light \n",
"printf('The wavelength of light used is %fcm',lambda)"
   ]
   }
,
{
		   "cell_type": "markdown",
		   "metadata": {},
		   "source": [
			"## Example 4.13: Wavelength_with_high_transmission.sci"
		   ]
		  },
  {
"cell_type": "code",
	   "execution_count": null,
	   "metadata": {
	    "collapsed": true
	   },
	   "outputs": [],
"source": [
"clc();\n",
"clear;\n",
"//To determine the wavelength which has high transmission\n",
"mew=1.38;             //refractiveindex of magnesium floride\n",
"t=175;                //thickness of coating of magnesium fluoride in nm\n",
"lambda=4*t*mew        //wavelength\n",
"printf('The wavelength which has high transmission is %f nm',lambda);"
   ]
   }
,
{
		   "cell_type": "markdown",
		   "metadata": {},
		   "source": [
			"## Example 4.1: Wavelengths_absent_in_reflected_light.sci"
		   ]
		  },
  {
"cell_type": "code",
	   "execution_count": null,
	   "metadata": {
	    "collapsed": true
	   },
	   "outputs": [],
"source": [
"clc();\n",
"clear;\n",
"//To determine the wavelengths absent in the reflected light\n",
"i=40;                                    //angle of incidence\n",
"mew=1.2;                                //refractive index\n",
"r=asind(sin(i)/mew);\n",
"t=0.23;                                //thickness of the film\n",
"lambda1=(2*mew*t*cosd(r))*10^3\n",
"lambda2=lambda1/2;\n",
"printf('The wavelength absent is %f nm',lambda1);"
   ]
   }
,
{
		   "cell_type": "markdown",
		   "metadata": {},
		   "source": [
			"## Example 4.2: To_calculate_thickness_of_air_film.sci"
		   ]
		  },
  {
"cell_type": "code",
	   "execution_count": null,
	   "metadata": {
	    "collapsed": true
	   },
	   "outputs": [],
"source": [
"clc();\n",
"clear;\n",
"//To calculate the thickness of the air film\n",
"lambda1=400*10^-9;                //wavelength 1\n",
"lambda2=600*10^-9;                //wavelength 2\n",
"//2*t=n*lambda\n",
"n=150;                            //since 600*n=(n+75)400\n",
"t=((n*lambda2)/2)*10^6\n",
"printf('The thickness of the air film is %d micro meter',t);\n",
""
   ]
   }
,
{
		   "cell_type": "markdown",
		   "metadata": {},
		   "source": [
			"## Example 4.3: To_calculate_the_bandwidth.sci"
		   ]
		  },
  {
"cell_type": "code",
	   "execution_count": null,
	   "metadata": {
	    "collapsed": true
	   },
	   "outputs": [],
"source": [
"clc();\n",
"clear;\n",
"//To calculate the bandwidth\n",
"lambda=600*10^-9;\n",
"mew=2;\n",
"teta=0.025;                              //wedge-angle\n",
"x=(lambda/(2*mew*sind(teta)))*10^2       //bandwidth\n",
"printf('The bandwidth is %f cm',x);"
   ]
   }
,
{
		   "cell_type": "markdown",
		   "metadata": {},
		   "source": [
			"## Example 4.4: Refractive_index_of_liquid.sci"
		   ]
		  },
  {
"cell_type": "code",
	   "execution_count": null,
	   "metadata": {
	    "collapsed": true
	   },
	   "outputs": [],
"source": [
"clc();\n",
"clear;\n",
"//To calculate the refractive index of liquid\n",
"xair=0.15;                     //bandwidth of air\n",
"xliq=0.115;                    //bandwidth of liquid\n",
"mewair=1;                      //refractive index of air\n",
"mewliq=(xair*mewair)/xliq      //refractive index of liquid\n",
"printf('The refractive index of liquid is %f',mewliq);"
   ]
   }
,
{
		   "cell_type": "markdown",
		   "metadata": {},
		   "source": [
			"## Example 4.5: Diameter_of_nineth_dark_ring.sci"
		   ]
		  },
  {
"cell_type": "code",
	   "execution_count": null,
	   "metadata": {
	    "collapsed": true
	   },
	   "outputs": [],
"source": [
"clc();\n",
"clear;\n",
"//To determine the diameter of the ninth dark ring\n",
"n=9;\n",
"lambda=589*10^-9;                   //wavelength of light used\n",
"R=0.95;                             //radius of curvature of lens\n",
"mew=1;\n",
"D=(sqrt((4*n*lambda*R)/mew))*10^2   //diameter of the ninth dark ring\n",
"printf('The diameter of the ninth dark ring is %f cm',D);"
   ]
   }
,
{
		   "cell_type": "markdown",
		   "metadata": {},
		   "source": [
			"## Example 4.6: Wavelength_of_light_used.sci"
		   ]
		  },
  {
"cell_type": "code",
	   "execution_count": null,
	   "metadata": {
	    "collapsed": true
	   },
	   "outputs": [],
"source": [
"clc();\n",
"clear;\n",
"//To determine the wavelength of light used\n",
"x=0.055;                       //distance in fringe shift\n",
"n=200;                         //number of fringes\n",
"lambda=((2*x)/n)*10^6          //wavelength\n",
"printf('The wavelength of light used is %d nm',lambda);"
   ]
   }
,
{
		   "cell_type": "markdown",
		   "metadata": {},
		   "source": [
			"## Example 4.7: To_determine_thickness_of_the_plate.sci"
		   ]
		  },
  {
"cell_type": "code",
	   "execution_count": null,
	   "metadata": {
	    "collapsed": true
	   },
	   "outputs": [],
"source": [
"clc();\n",
"clear;\n",
"//To determine the thickness of the plate\n",
"n=50;                             //number of fringes\n",
"lambda=500*10^-9;                 //wavelength of light used\n",
"mew=1.5;                          //refractive index of the plate\n",
"t=((n*lambda)/(2*(mew-1)))*10^6   //thickness of the plate\n",
"printf('The thickness of the plate is %d micro meter',t);"
   ]
   }
,
{
		   "cell_type": "markdown",
		   "metadata": {},
		   "source": [
			"## Example 4.8: Minimum_thickness_of_film.sci"
		   ]
		  },
  {
"cell_type": "code",
	   "execution_count": null,
	   "metadata": {
	    "collapsed": true
	   },
	   "outputs": [],
"source": [
"clc();\n",
"clear;\n",
"//To determine the minimum thickness of the plate for normal incidence of light\n",
"lambda=550*10^-9;                   //wavelength\n",
"mew=1.38;                           //refractive index\n",
"t=(lambda/(4*mew))*10^9             //thickness\n",
"printf('The minimum thickness of the plate for normal incidence of light is %f nm',t);"
   ]
   }
,
{
		   "cell_type": "markdown",
		   "metadata": {},
		   "source": [
			"## Example 4.9: Thickness_of_the_film.sci"
		   ]
		  },
  {
"cell_type": "code",
	   "execution_count": null,
	   "metadata": {
	    "collapsed": true
	   },
	   "outputs": [],
"source": [
"clc();\n",
"clear;\n",
"//To determine the thickness of the film\n",
"i=35;                                         //angle of incidence\n",
"mew=1.4;                                      //refractive index\n",
"r=asind(sin(i)/mew);\n",
"//2*mew*cos(r)=n*lambda\n",
"n=50;                                        //n(459)=(n+1)450\n",
"lambda=459*10^-9;\n",
"t=(n*lambda/(2*mew*0.9122214))*10^6          //thickness of the film\n",
"printf('The thickness of the film is %f micro meters',t);"
   ]
   }
],
"metadata": {
		  "kernelspec": {
		   "display_name": "Scilab",
		   "language": "scilab",
		   "name": "scilab"
		  },
		  "language_info": {
		   "file_extension": ".sce",
		   "help_links": [
			{
			 "text": "MetaKernel Magics",
			 "url": "https://github.com/calysto/metakernel/blob/master/metakernel/magics/README.md"
			}
		   ],
		   "mimetype": "text/x-octave",
		   "name": "scilab",
		   "version": "0.7.1"
		  }
		 },
		 "nbformat": 4,
		 "nbformat_minor": 0
}
