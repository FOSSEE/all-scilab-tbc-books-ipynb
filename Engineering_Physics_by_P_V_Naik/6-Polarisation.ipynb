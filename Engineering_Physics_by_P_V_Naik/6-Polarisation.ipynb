{
"cells": [
 {
		   "cell_type": "markdown",
	   "metadata": {},
	   "source": [
       "# Chapter 6: Polarisation"
	   ]
	},
{
		   "cell_type": "markdown",
		   "metadata": {},
		   "source": [
			"## Example 6.10: Wavelength_of_light_incident_on_quartz_plate.sci"
		   ]
		  },
  {
"cell_type": "code",
	   "execution_count": null,
	   "metadata": {
	    "collapsed": true
	   },
	   "outputs": [],
"source": [
"clc();\n",
"clear;\n",
"//To determine the wavelength of light incident on a quartz plate\n",
"delta=50;                                                             //phase difference\n",
"mewE=1.544;                                                          //refractive index of extraordinary waves\n",
"mew0=1.553;                                                          //refractive index of ordinary waves\n",
"t=8;                                                                 //thickness in nm\n",
"lambda=((2*180)/delta)*(mew0-mewE)*t*10^-6*10^9                     //mew0>mewE\n",
"printf('The wavelength of light incident is %f nm',lambda);"
   ]
   }
,
{
		   "cell_type": "markdown",
		   "metadata": {},
		   "source": [
			"## Example 6.1: To_determine_angle_of_refraction.sci"
		   ]
		  },
  {
"cell_type": "code",
	   "execution_count": null,
	   "metadata": {
	    "collapsed": true
	   },
	   "outputs": [],
"source": [
"clc();\n",
"clear;\n",
"//To determine the angle of refraction\n",
"mew=1.63;              //refractive index of the glass plate\n",
"//tan ip=mew\n",
"ip=atand(mew);        //ip=polarising angle\n",
"//ip+r=90\n",
"r=90-ip              //r=angle of refraction\n",
"printf('The angle of refraction is %f',r);"
   ]
   }
,
{
		   "cell_type": "markdown",
		   "metadata": {},
		   "source": [
			"## Example 6.2: Percentage_of_incident_unpolarised_light.sci"
		   ]
		  },
  {
"cell_type": "code",
	   "execution_count": null,
	   "metadata": {
	    "collapsed": true
	   },
	   "outputs": [],
"source": [
"clc();\n",
"clear;\n",
"//To determine the percentage of incident unpolarized light\n",
"//I=I0(cos^2(teta))\n",
"teta=50;                //angle made between two principle planes\n",
"I=(cosd(50))^2;         //incident unpolarized light\n",
"//percentage of incident unpolarised light is (I/I0)*100 where I0 is incident polarised light .\n",
"I=(cosd(50))^2*100      //percentage of incident unpolarized light\n",
"printf('The percentage of incident unpolarized light is %f ',I);"
   ]
   }
,
{
		   "cell_type": "markdown",
		   "metadata": {},
		   "source": [
			"## Example 6.3: Angle_between_planes.sci"
		   ]
		  },
  {
"cell_type": "code",
	   "execution_count": null,
	   "metadata": {
	    "collapsed": true
	   },
	   "outputs": [],
"source": [
"clc();\n",
"clear;\n",
"//To determine the angle between planes of transmission of analyser and polariser\n",
"//I=I0*cos^2(teta)\n",
"//cos^2(teta)=I/I0\n",
"a=0.08;                //a=I/I0;where I=incident unpolarized light & I0=incident polarized light\n",
"teta=acosd(sqrt(a))    //angle between planes of transmission of analyser and polariser\n",
"printf('The angle between the planes of transmission of analyser & polariser is +(or)- %f',teta);"
   ]
   }
,
{
		   "cell_type": "markdown",
		   "metadata": {},
		   "source": [
			"## Example 6.4: Intensities_of_ordinary_and_extraordinary_light.sci"
		   ]
		  },
  {
"cell_type": "code",
	   "execution_count": null,
	   "metadata": {
	    "collapsed": true
	   },
	   "outputs": [],
"source": [
"clc();\n",
"clear;\n",
"//To compare the intensities of ordinary & extraordinary light\n",
"//IE=A^2(cos^2(teta));IO=A^2(sin^2(teta))\n",
"//I0/IE=tan^2(teta)\n",
"teta=40;                      //angle made between incident beam & optic axis\n",
"a=tand(40)^2                  //I0/IE\n",
"printf('I0/IE=%f',a);"
   ]
   }
,
{
		   "cell_type": "markdown",
		   "metadata": {},
		   "source": [
			"## Example 6.5: Thickness_of_quarter_wave_plate.sci"
		   ]
		  },
  {
"cell_type": "code",
	   "execution_count": null,
	   "metadata": {
	    "collapsed": true
	   },
	   "outputs": [],
"source": [
"clc();\n",
"clear;\n",
"//To determine the thickness of a quarter-wave plate\n",
"lambda=589;                              //wavelength of light in nm\n",
"mew0=1.54;                              //refractive index for ordinary wave\n",
"mewE=1.55;                              //refractive index for extraordinary wave\n",
"t=lambda/(4*(mewE-mew0))*10^-3         //thickness in micro meters\n",
"printf('The thickness of a quarter-wave plate is %f micro meters',t);"
   ]
   }
,
{
		   "cell_type": "markdown",
		   "metadata": {},
		   "source": [
			"## Example 6.6: To_determine_the_refractive_index.sci"
		   ]
		  },
  {
"cell_type": "code",
	   "execution_count": null,
	   "metadata": {
	    "collapsed": true
	   },
	   "outputs": [],
"source": [
"clc();\n",
"clear;\n",
"//To determine the refractive index of material surface\n",
"ip=52;                                    //angle of polarization\n",
"mew=tand(ip)                             //refractive index of the material surface\n",
"printf('The refractive index of the material surface is %f',mew);"
   ]
   }
,
{
		   "cell_type": "markdown",
		   "metadata": {},
		   "source": [
			"## Example 6.7: To_calculate_the_refractive_index.sci"
		   ]
		  },
  {
"cell_type": "code",
	   "execution_count": null,
	   "metadata": {
	    "collapsed": true
	   },
	   "outputs": [],
"source": [
"clc();\n",
"clear;\n",
"//To determine the refractive index of quartz\n",
"r=33;                              //angle of refraction\n",
"ip=90-r;                           //polarising angle\n",
"mew=tand(ip)                      //refractive index of quartz\n",
"printf('The refractive index of quartz is %f',mew);"
   ]
   }
,
{
		   "cell_type": "markdown",
		   "metadata": {},
		   "source": [
			"## Example 6.8: Angle_made_by_the_plane_of_vibration_of_the_incident_light_with_the_optic_axis.sci"
		   ]
		  },
  {
"cell_type": "code",
	   "execution_count": null,
	   "metadata": {
	    "collapsed": true
	   },
	   "outputs": [],
"source": [
"clc();\n",
"clear;\n",
"//To determine the angle made by plane of vibration of the incident light with optic axis\n",
"//IE=A^2*cos^2(teta);IO=A^2*sin^2(teta)\n",
"//I0/IE=tan^2(teta)=0.65\n",
"a=0.65;                          //ratio of intensities of ordinary & extraordinary light\n",
"teta=atand(sqrt(a))              //angle made by plane of vibration of the incident light with optic axis\n",
"printf('The angle made by the plane of vibration of incident light with the optic axis is %f',teta);"
   ]
   }
,
{
		   "cell_type": "markdown",
		   "metadata": {},
		   "source": [
			"## Example 6.9: Phase_difference_between_O_and_E_rays.sci"
		   ]
		  },
  {
"cell_type": "code",
	   "execution_count": null,
	   "metadata": {
	    "collapsed": true
	   },
	   "outputs": [],
"source": [
"clc();\n",
"clear;\n",
"//To determine the phase difference between between O &E rays\n",
"mew0=1.544;                                                               //refractive index of ordinary waves\n",
"mewE=1.553;                                                              //refractive index of extraordinary waves\n",
"lambda=550;                                                              //wavelength in nm \n",
"t=9;\n",
"delta=((2*180)/(lambda*(10^-9)))*(mewE-mew0)*t*(10^-6)                  //mewE>mew0\n",
"printf('The phase difference between O and E rays is %f degrees',delta);"
   ]
   }
],
"metadata": {
		  "kernelspec": {
		   "display_name": "Scilab",
		   "language": "scilab",
		   "name": "scilab"
		  },
		  "language_info": {
		   "file_extension": ".sce",
		   "help_links": [
			{
			 "text": "MetaKernel Magics",
			 "url": "https://github.com/calysto/metakernel/blob/master/metakernel/magics/README.md"
			}
		   ],
		   "mimetype": "text/x-octave",
		   "name": "scilab",
		   "version": "0.7.1"
		  }
		 },
		 "nbformat": 4,
		 "nbformat_minor": 0
}
