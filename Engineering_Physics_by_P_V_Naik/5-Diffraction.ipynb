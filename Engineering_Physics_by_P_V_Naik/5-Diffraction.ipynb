{
"cells": [
 {
		   "cell_type": "markdown",
	   "metadata": {},
	   "source": [
       "# Chapter 5: Diffraction"
	   ]
	},
{
		   "cell_type": "markdown",
		   "metadata": {},
		   "source": [
			"## Example 5.10: Wavelength_of_spectral_line.sci"
		   ]
		  },
  {
"cell_type": "code",
	   "execution_count": null,
	   "metadata": {
	    "collapsed": true
	   },
	   "outputs": [],
"source": [
"clc();\n",
"clear;\n",
"//To calculate the wavelength of second spectral line\n",
"n=1;\n",
"lambda1=450*10^-7;                   //wavelength of first spectral line\n",
"d=1/5000;\n",
"teta1=asind((n*lambda1)/d);\n",
"teta2=teta1+2.97;\n",
"lambda2=((d*sind(teta2))/n)*10^7    //wavelength of second spectral line\n",
"printf('The wavelength of second spectral line is %f nm',lambda2);"
   ]
   }
,
{
		   "cell_type": "markdown",
		   "metadata": {},
		   "source": [
			"## Example 5.11: Minimum_grating_element_required.sci"
		   ]
		  },
  {
"cell_type": "code",
	   "execution_count": null,
	   "metadata": {
	    "collapsed": true
	   },
	   "outputs": [],
"source": [
"clc();\n",
"clear;\n",
"//To determine the minimum grating element required to observe the entire third order spectrum\n",
"n=3;\n",
"lambda=700*10^-9;              //wavelength\n",
"teta=90;\n",
"d=((n*lambda)/sin(teta))*10^6  //grating element\n",
"printf('The minimum grating element required to observe the entire third order spectrum is %f m',d);"
   ]
   }
,
{
		   "cell_type": "markdown",
		   "metadata": {},
		   "source": [
			"## Example 5.1: To_determine_the_width_of_the_slit.sci"
		   ]
		  },
  {
"cell_type": "code",
	   "execution_count": null,
	   "metadata": {
	    "collapsed": true
	   },
	   "outputs": [],
"source": [
"clc();\n",
"clear;\n",
"//To determine the width of the slit\n",
"n=1;\n",
"lambda=600*10^-9;                 //wavelength\n",
"teta=35;                          //angle at which first minimum falls\n",
"d=((n*lambda)/sind(35))*10^6      //width of the slit\n",
"printf('The width of the slit is %f micro m',d);"
   ]
   }
,
{
		   "cell_type": "markdown",
		   "metadata": {},
		   "source": [
			"## Example 5.2: To_determine_central_band.sci"
		   ]
		  },
  {
"cell_type": "code",
	   "execution_count": null,
	   "metadata": {
	    "collapsed": true
	   },
	   "outputs": [],
"source": [
"clc();\n",
"clear;\n",
"//To determine the width of a central band\n",
"D=0.95;                          //distance of the screen from the slit\n",
"lambda=589*10^-9;                //wavelength in m\n",
"d=0.5*10^-3;                     //width of the slit\n",
"y=((2*D*lambda)/d)*10^3          //width of a central band\n",
"printf('The width of the central band is %f mm',y);"
   ]
   }
,
{
		   "cell_type": "markdown",
		   "metadata": {},
		   "source": [
			"## Example 5.3: To_determine_width_of_slit.sci"
		   ]
		  },
  {
"cell_type": "code",
	   "execution_count": null,
	   "metadata": {
	    "collapsed": true
	   },
	   "outputs": [],
"source": [
"clc();\n",
"clear;\n",
"//To determine the slit width\n",
"D=1.1;                        //distance of the screen from the slit\n",
"lambda=589*10^-9;             //wavelength in m\n",
"y=4.5*10^-3;                  //distance of first minimum on either side of central maximum\n",
"d=((D*lambda)/y)*10^3         //slit width\n",
"printf('The slit width is %f mm',d);"
   ]
   }
,
{
		   "cell_type": "markdown",
		   "metadata": {},
		   "source": [
			"## Example 5.4: Distance_between_central_maximum_and_fourth_dark_fringe.sci"
		   ]
		  },
  {
"cell_type": "code",
	   "execution_count": null,
	   "metadata": {
	    "collapsed": true
	   },
	   "outputs": [],
"source": [
"clc();\n",
"clear;\n",
"//To determine the distance between centres of central maximum and the fourth dark fringe\n",
"n=4;\n",
"lambda=589.6*10^-9;                  //wavelength\n",
"D=0.95;                              //distance of the screen from the slit\n",
"w=0.28*10^-3;                        //width of the slit\n",
"d=((n*lambda*D)/w)*10^3\n",
"printf('The distance between centres of central maximum and the fourth dark fringe is %f mm',d);"
   ]
   }
,
{
		   "cell_type": "markdown",
		   "metadata": {},
		   "source": [
			"## Example 5.5: Ratio_of_intensities_of_central_and_secondary_maximum.sci"
		   ]
		  },
  {
"cell_type": "code",
	   "execution_count": null,
	   "metadata": {
	    "collapsed": true
	   },
	   "outputs": [],
"source": [
"clc();\n",
"clear;\n",
"//To calculate the ratio of intensities of central & second secondary maximum\n",
"s=5*%pi/2;                           //secondary maximum\n",
"I=(sin(s)/s)^2                      //I2/I0\n",
"printf('Ratio of intensities of central & second secondary maximum is %f',I);"
   ]
   }
,
{
		   "cell_type": "markdown",
		   "metadata": {},
		   "source": [
			"## Example 5.6: Minimum_number_of_lines_per_cm.sci"
		   ]
		  },
  {
"cell_type": "code",
	   "execution_count": null,
	   "metadata": {
	    "collapsed": true
	   },
	   "outputs": [],
"source": [
"clc();\n",
"clear;\n",
"//To calculate the minimum number of lines per cm \n",
"lambda=450*10^-9;                   //wavelength\n",
"n=2;\n",
"dlambda=1*10^-9;                   //difference in wavelength\n",
"N=lambda/(n*dlambda)               //minimum number of lines per cm \n",
"printf('The minimum number of lines per cm is %d',N);"
   ]
   }
,
{
		   "cell_type": "markdown",
		   "metadata": {},
		   "source": [
			"## Example 5.7: Angle_at_which_first_minimum_will_be_observed.sci"
		   ]
		  },
  {
"cell_type": "code",
	   "execution_count": null,
	   "metadata": {
	    "collapsed": true
	   },
	   "outputs": [],
"source": [
"clc();\n",
"clear;\n",
"//To calculate the angle at which first minimum will be observed\n",
"n=1;\n",
"lambda=650*10^-9;                       //wavelength\n",
"d=2*10^-6;                              //widthof hte slit\n",
"teta=asind((n*lambda)/d)                //angle at which first minimum will be observed\n",
"printf('The angle at which first minimum will be observed is %f',teta);"
   ]
   }
,
{
		   "cell_type": "markdown",
		   "metadata": {},
		   "source": [
			"## Example 5.8: To_determine_width_of_the_slit.sci"
		   ]
		  },
  {
"cell_type": "code",
	   "execution_count": null,
	   "metadata": {
	    "collapsed": true
	   },
	   "outputs": [],
"source": [
"clc();\n",
"clear;\n",
"//To determine the slit width\n",
"lambda=600*10^-9;                           //wavelength\n",
"y=2*10^-3;                                 //width of the central band\n",
"D=1;                                       //distance of the screen from the slit\n",
"d=((2*D*lambda)/y)*10^3                    //slit width\n",
"printf('The slit width is %f mm',d);"
   ]
   }
,
{
		   "cell_type": "markdown",
		   "metadata": {},
		   "source": [
			"## Example 5.9: Wavelength_of_light_used.sci"
		   ]
		  },
  {
"cell_type": "code",
	   "execution_count": null,
	   "metadata": {
	    "collapsed": true
	   },
	   "outputs": [],
"source": [
"clc();\n",
"clear;\n",
"//To determine the wavelength of light used\n",
"y=6*10^-3;                     //first minimum is observed\n",
"d=90*10^-6;                    //slit width\n",
"D=0.98;                        //distance of the screen from the slit\n",
"lambda=((y*d)/D)*10^9           // wavelength\n",
"printf('The wavelength of light used is %f nm',lambda);"
   ]
   }
],
"metadata": {
		  "kernelspec": {
		   "display_name": "Scilab",
		   "language": "scilab",
		   "name": "scilab"
		  },
		  "language_info": {
		   "file_extension": ".sce",
		   "help_links": [
			{
			 "text": "MetaKernel Magics",
			 "url": "https://github.com/calysto/metakernel/blob/master/metakernel/magics/README.md"
			}
		   ],
		   "mimetype": "text/x-octave",
		   "name": "scilab",
		   "version": "0.7.1"
		  }
		 },
		 "nbformat": 4,
		 "nbformat_minor": 0
}
