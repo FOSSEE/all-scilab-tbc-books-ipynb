{
"cells": [
 {
		   "cell_type": "markdown",
	   "metadata": {},
	   "source": [
       "# Chapter 2: Crystal structures"
	   ]
	},
{
		   "cell_type": "markdown",
		   "metadata": {},
		   "source": [
			"## Example 2.10: To_determine_lattice_parameter.sci"
		   ]
		  },
  {
"cell_type": "code",
	   "execution_count": null,
	   "metadata": {
	    "collapsed": true
	   },
	   "outputs": [],
"source": [
"clc();\n",
"clear;\n",
"//To determine the lattice parameter\n",
"h=1;\n",
"k=0;\n",
"l=1;\n",
"d101=0.5;            //spacing of (101) plane\n",
"//d101=a/sqrt((h^2)+(k^2)+(l^2))\n",
"a=d101*sqrt(2)      //lattice parameter\n",
"printf('The lattice parameter is %f A',a);"
   ]
   }
,
{
		   "cell_type": "markdown",
		   "metadata": {},
		   "source": [
			"## Example 2.1: To_determine_lattice_parameter.sci"
		   ]
		  },
  {
"cell_type": "code",
	   "execution_count": null,
	   "metadata": {
	    "collapsed": true
	   },
	   "outputs": [],
"source": [
"clc();\n",
"clear;\n",
"//To determine the lattice parameter\n",
"d=6.5*10^3;                  //density of silver bromide in Kg/m^3\n",
"m=187.8;                     //molecular weight of silver bromide\n",
"M=(4*m)/(6.022*10^26);       //mass of ion in unit cell in kg.There are 4molecules per unit cell as it is a fcc diatomic structure\n",
"//d=mass of ions in unit cell/volume of unit cell\n",
"//6.5*10^3=(1.25*10^-24)/a^3\n",
"a=((M/d)^(1/3))*10^10        //lattice parameter\n",
"printf('The lattice parameter is %f A',a);"
   ]
   }
,
{
		   "cell_type": "markdown",
		   "metadata": {},
		   "source": [
			"## Example 2.2: free_volume_per_unit_cell.sci"
		   ]
		  },
  {
"cell_type": "code",
	   "execution_count": null,
	   "metadata": {
	    "collapsed": true
	   },
	   "outputs": [],
"source": [
"clc();\n",
"clear;\n",
"//To determine the free volume per unit cell\n",
"r=2.3;                                 //atomic radius\n",
"a=(4*r)/sqrt(3);\n",
"fv=((a)^3-(2*(4/3)*%pi*r^3))*10^-30   //free volume in m^3\n",
"printf('The free volume per unit cell is %e m^3',fv);"
   ]
   }
,
{
		   "cell_type": "markdown",
		   "metadata": {},
		   "source": [
			"## Example 2.3: To_determine_ratio_of_vacancies.sci"
		   ]
		  },
  {
"cell_type": "code",
	   "execution_count": null,
	   "metadata": {
	    "collapsed": true
	   },
	   "outputs": [],
"source": [
"clc();\n",
"clear;\n",
"//To determine the ratio of vacancies\n",
"k=8.625*10^-5;                          //Boltzmann constant ineV/K\n",
"//n1000/n500=ln[n1000/n500]=Ev/1000k\n",
"Ev=1.08;                                //average energy required to create a vacancy in eV\n",
"N=exp(Ev/(1000*k))                      //n1000/n500\n",
"printf('The ratio of vacancies is %f',N);"
   ]
   }
,
{
		   "cell_type": "markdown",
		   "metadata": {},
		   "source": [
			"## Example 2.4: ratio_of_number_of_vacancies_to_number_of_atoms.sci"
		   ]
		  },
  {
"cell_type": "code",
	   "execution_count": null,
	   "metadata": {
	    "collapsed": true
	   },
	   "outputs": [],
"source": [
"clc();\n",
"clear;\n",
"//To determine the ratio of the number of vacancies to the number of atoms\n",
"//n500=N*exp(-Ev/500k)\n",
"k=8.625*10^-5;                            //Boltzmann constant in eV/K\n",
"Ev=0.95;                                  //average energy required to create a vacancy\n",
"n=exp(-Ev/(500*k))                        //n500/N\n",
"printf('The ratio of number of vacancies to the number of atoms is %e ',n);"
   ]
   }
,
{
		   "cell_type": "markdown",
		   "metadata": {},
		   "source": [
			"## Example 2.5: spacing_of_111_planes.sci"
		   ]
		  },
  {
"cell_type": "code",
	   "execution_count": null,
	   "metadata": {
	    "collapsed": true
	   },
	   "outputs": [],
"source": [
"clc();\n",
"clear;\n",
"//To determine spacing of (111) planes in a monoatomic fcc structure\n",
"h=1;\n",
"k=1;\n",
"l=1;\n",
"//d(hkl)=a/sqrt(h^2+k^2+l^2)where 'a' is the lattice parameter\n",
"r=0.18;     //atomic radius in nm\n",
"d(111)=(2*sqrt(2)*r)/sqrt((h^2)+(k^2)+(l^2))\n",
"printf('The spacing of (111) planes in a monoatomic structure with atomic radius 0.18 nm is %f nm',d(111));"
   ]
   }
,
{
		   "cell_type": "markdown",
		   "metadata": {},
		   "source": [
			"## Example 2.6: To_calculate_density_of_the_structure.sci"
		   ]
		  },
  {
"cell_type": "code",
	   "execution_count": null,
	   "metadata": {
	    "collapsed": true
	   },
	   "outputs": [],
"source": [
"clc();\n",
"clear;\n",
"//To calculate the density of the structure\n",
"M=200;                               //atomic weight \n",
"a=5;                                //lattice parameter\n",
"Na=6.022*(10^26);\n",
"rho=(2*M)/(Na*(a*10^-10)^3)         //density of the structure\n",
"printf('The density of the bcc structure is %f kg/m^3',rho);"
   ]
   }
,
{
		   "cell_type": "markdown",
		   "metadata": {},
		   "source": [
			"## Example 2.7: To_calculate_atomic_radius.sci"
		   ]
		  },
  {
"cell_type": "code",
	   "execution_count": null,
	   "metadata": {
	    "collapsed": true
	   },
	   "outputs": [],
"source": [
"clc();\n",
"clear;\n",
"//To determine the atomic radius\n",
"//Free volume=a^3-[(4/3)*pi*r^3];for sc,a=2r\n",
"//Therefore free volume =(2r)^3-[(4/3)*pi*r^3]\n",
"fv=30.48*10^-30;                            //free volume per unit cell\n",
"r=(fv/(8-(4/3)*%pi))^(1/3)*(10^10)          //atomic radius \n",
"printf('The atomic radius is %f A',r); "
   ]
   }
,
{
		   "cell_type": "markdown",
		   "metadata": {},
		   "source": [
			"## Example 2.8: To_determine_lattice_parameter.sci"
		   ]
		  },
  {
"cell_type": "code",
	   "execution_count": null,
	   "metadata": {
	    "collapsed": true
	   },
	   "outputs": [],
"source": [
"clc();\n",
"clear;\n",
"//To detrmine the lattice parameter\n",
"//free volume=a^3-[2*(4/3)*pi*r^3]\n",
"//for bcc a=4r/3^(1/3)\n",
"fv=61.72*(10^-30);                          //free volume\n",
"a=-[fv/(1-%pi*sqrt(3))/8]^1/3*10^31           //lattice parameter\n",
"printf('The lattice parameter is %f A',a);"
   ]
   }
,
{
		   "cell_type": "markdown",
		   "metadata": {},
		   "source": [
			"## Example 2.9: Density_of_free_electrons.sci"
		   ]
		  },
  {
"cell_type": "code",
	   "execution_count": null,
	   "metadata": {
	    "collapsed": true
	   },
	   "outputs": [],
"source": [
"clc();\n",
"clear;\n",
"//To determine the density of free electrons\n",
"rho=9000;                         //density in kg/m^3\n",
"w=65;                             //atomic weight\n",
"v=1;                              //volume in m^3\n",
"n=(rho*v)/(w/(6.022*10^26));      //number of atoms\n",
"a=1.4;                            //average number of free electrons per atom\n",
"rhoe=n*a                          //density of free electrons per atom in electrons/m^3\n",
"printf('The density of free electrons is %e electrons/m^3',rhoe);\n",
"\n",
""
   ]
   }
],
"metadata": {
		  "kernelspec": {
		   "display_name": "Scilab",
		   "language": "scilab",
		   "name": "scilab"
		  },
		  "language_info": {
		   "file_extension": ".sce",
		   "help_links": [
			{
			 "text": "MetaKernel Magics",
			 "url": "https://github.com/calysto/metakernel/blob/master/metakernel/magics/README.md"
			}
		   ],
		   "mimetype": "text/x-octave",
		   "name": "scilab",
		   "version": "0.7.1"
		  }
		 },
		 "nbformat": 4,
		 "nbformat_minor": 0
}
