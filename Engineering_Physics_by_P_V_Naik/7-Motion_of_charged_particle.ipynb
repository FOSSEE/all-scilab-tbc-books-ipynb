{
"cells": [
 {
		   "cell_type": "markdown",
	   "metadata": {},
	   "source": [
       "# Chapter 7: Motion of charged particle"
	   ]
	},
{
		   "cell_type": "markdown",
		   "metadata": {},
		   "source": [
			"## Example 7.10: Charge_to_mass_ratio_of_the_particle.sci"
		   ]
		  },
  {
"cell_type": "code",
	   "execution_count": null,
	   "metadata": {
	    "collapsed": true
	   },
	   "outputs": [],
"source": [
"clc();\n",
"clear;\n",
"//To determine the charge to mass ratio\n",
"v=5*10^7;\n",
"B=0.4;                       //magnetic field\n",
"r=0.711*10^-3;               //radius of the circle\n",
"Q=v/(B*r)                   //Q=q/m\n",
"printf('The charge to mass ratio is %e',Q);"
   ]
   }
,
{
		   "cell_type": "markdown",
		   "metadata": {},
		   "source": [
			"## Example 7.11: Magnetic_field_required_to_bend_a_beam.sci"
		   ]
		  },
  {
"cell_type": "code",
	   "execution_count": null,
	   "metadata": {
	    "collapsed": true
	   },
	   "outputs": [],
"source": [
"clc();\n",
"clear;\n",
"//To determine the magnetic field\n",
"m=9.1*10^-31;                     //mass of electron\n",
"v=3*10^7;                         //speed of electron\n",
"R=0.05;                           //radius of the circle\n",
"q=1.6*10^-31;\n",
"B=((m*v)/(q*R))*10^-9             // magnetic field\n",
"printf('The magnetic field to bend a beam is %f mT',B);"
   ]
   }
,
{
		   "cell_type": "markdown",
		   "metadata": {},
		   "source": [
			"## Example 7.12: To_determine_the_magnetic_field.sci"
		   ]
		  },
  {
"cell_type": "code",
	   "execution_count": null,
	   "metadata": {
	    "collapsed": true
	   },
	   "outputs": [],
"source": [
"clc();\n",
"clear;\n",
"//To determine the magnetic field\n",
"m=9.1*10^-31;                  //mass of electron\n",
"q=1.6*10^-19;\n",
"t=8*10^-9;                     //time in ns\n",
"B=(2*%pi*m*500)/(q*t)          //magnetic field\n",
"printf('The magnetic field is %f T',B);"
   ]
   }
,
{
		   "cell_type": "markdown",
		   "metadata": {},
		   "source": [
			"## Example 7.13: To_determine_the_magnetic_field.sci"
		   ]
		  },
  {
"cell_type": "code",
	   "execution_count": null,
	   "metadata": {
	    "collapsed": true
	   },
	   "outputs": [],
"source": [
"clc();\n",
"clear;\n",
"//To determine the magnetic field\n",
"v=9.15*10^7;                    //cyclotron frequency of proton\n",
"m=1.67*10^-27;                  //mass of proton\n",
"q=1.6*10^-19;\n",
"B=(2*%pi*v*m)/q                 // magnetic field\n",
"printf('The magnetic field is %f T',B);"
   ]
   }
,
{
		   "cell_type": "markdown",
		   "metadata": {},
		   "source": [
			"## Example 7.1: Kinetic_energy_and_speed_of_electron.sci"
		   ]
		  },
  {
"cell_type": "code",
	   "execution_count": null,
	   "metadata": {
	    "collapsed": true
	   },
	   "outputs": [],
"source": [
"clc();\n",
"clear;\n",
"//To calculate the kinetic energy and speed of the electron\n",
"e=1.6*10^-19;                             //charge of the electron\n",
"V=18;                                     //potential difference in kV\n",
"K=e*V*10^3                                //Kinetic energy in J\n",
"m=9.1*10^-31;                             //mass of the electron\n",
"v=sqrt((2*e*V*10^3)/m)*10^-7              //speed of electron in m/s\n",
"printf('The kinetic energy of electron is %e J and speed of the electron is %f m/s',K,v);"
   ]
   }
,
{
		   "cell_type": "markdown",
		   "metadata": {},
		   "source": [
			"## Example 7.2: Vector_displacement_of_electron.sci"
		   ]
		  },
  {
"cell_type": "code",
	   "execution_count": null,
	   "metadata": {
	    "collapsed": true
	   },
	   "outputs": [],
"source": [
"clc();\n",
"clear;\n",
"//To determine the vertical displacement of electron\n",
"m=9.1*10^-31;                            //mass of electron\n",
"vx=4*10^6;                               //velocity along x-axis\n",
"E=1500;                                  //electric field strength\n",
"l=0.07;                                  //length in y-axis\n",
"q=1.6*10^-19;                            //charge of electron\n",
"y=(-q*E*(l^2))/(2*m*(vx^2))*10^2         //vertical displacement of electron\n",
"printf('The vertical displacement of electron when it leaves the electric field is %f cm',y);"
   ]
   }
,
{
		   "cell_type": "markdown",
		   "metadata": {},
		   "source": [
			"## Example 7.3: Time_required_for_the_proton_to_reach_maximum_height.sci"
		   ]
		  },
  {
"cell_type": "code",
	   "execution_count": null,
	   "metadata": {
	    "collapsed": true
	   },
	   "outputs": [],
"source": [
"clc();\n",
"clear;\n",
"//To determine the time required for the proton to reach the maximum height in electric field\n",
"u=5*10^5;                        //velocity in m/s\n",
"m=1.67*10^-27;                   //mass of proton\n",
"q=1.6*10^-19;\n",
"E=500;                           //electric field\n",
"t=((u*m*sind(42))/(q*E))*10^6\n",
"printf('The time required for the proton to reach the maximum height in electric field is %f micro sec',t);"
   ]
   }
,
{
		   "cell_type": "markdown",
		   "metadata": {},
		   "source": [
			"## Example 7.4: Orbital_speed_of_proto.sci"
		   ]
		  },
  {
"cell_type": "code",
	   "execution_count": null,
	   "metadata": {
	    "collapsed": true
	   },
	   "outputs": [],
"source": [
"clc();\n",
"clear;\n",
"//To determine the orbital speed of proton\n",
"m=1.67*10^-27;                   //mass of proton\n",
"q=1.6*10^-19;\n",
"B=0.36;                          //magnetic field in T\n",
"R=0.2;                           //radius in m\n",
"v=((q*B*R)/m)*10^-6              //orbital speed of proton\n",
"printf('The orbital speed of proton is %f m/s',v);"
   ]
   }
,
{
		   "cell_type": "markdown",
		   "metadata": {},
		   "source": [
			"## Example 7.5: Pitch_of_the_helix.sci"
		   ]
		  },
  {
"cell_type": "code",
	   "execution_count": null,
	   "metadata": {
	    "collapsed": true
	   },
	   "outputs": [],
"source": [
"clc();\n",
"clear;\n",
"//To calculate the pitch of the helix and radius of trajectory\n",
"v=2*10^6;                      //speed in m/s\n",
"teta=30;                       //angle at which proton enters  at the origin of coordinate system\n",
"B=0.3;                         //magnetic field in iT\n",
"vp=v*sind(teta);               //v(perpendicular component)\n",
"vpa=v*cosd(teta);              //v(parallel component)\n",
"m=1.67*10^-27;                 //mass of proton\n",
"q=1.6*10^-19;\n",
"p=(vpa*2*%pi*m)/(q*B)         //pitch of the helix described by the proton\n",
"R=((m*vp)/(q*B))*10^2         //radius of the trajectory\n",
"printf('the pitch of the helix is %f m and radius of trajectory is %f cm',p,R)"
   ]
   }
,
{
		   "cell_type": "markdown",
		   "metadata": {},
		   "source": [
			"## Example 7.6: To_calculate_the_displacement_produced.sci"
		   ]
		  },
  {
"cell_type": "code",
	   "execution_count": null,
	   "metadata": {
	    "collapsed": true
	   },
	   "outputs": [],
"source": [
"clc();\n",
"clear;\n",
"//To determine the displacement produced ,the angle made by the beam with the axis,velocity of electrons\n",
"V=25;                                        //deflecting voltage\n",
"l=0.03;                                      //length of deflecting planes in m\n",
"d=0.75;                                     //distance between 2 deflecting plates\n",
"Va=800;                                     //final anode voltage\n",
"D=0.2;                                     //distance between the screen and the plates\n",
"y=(((V*l)/(2*d*Va))*(D+(l/2)))*10^4        //displacement produced\n",
"a=((V*l)/(2*d*Va))*10^2;\n",
"alpha=atand(a)                              //angle made by the beam with the axis\n",
"e=1.6*10^-19;\n",
"m=9.1*10^-31;                                //mass of electron\n",
"v=((sqrt((2*e*Va)/m))/cosd(alpha))          //velocity of electron\n",
"printf('the displacement produced is %f cm,the angle made by the beam with the axis is %f,velocity of electrons is %e m/s',y,alpha,v);"
   ]
   }
,
{
		   "cell_type": "markdown",
		   "metadata": {},
		   "source": [
			"## Example 7.7: Displacement_of_electron_beam_spot_on_the_screen.sci"
		   ]
		  },
  {
"cell_type": "code",
	   "execution_count": null,
	   "metadata": {
	    "collapsed": true
	   },
	   "outputs": [],
"source": [
"clc();\n",
"clear;\n",
"//To determine the displacement of the electron beam spot on the screen\n",
"e=1.6*10^-19;\n",
"B=5*10^-5;                            //magnetic field in Wb/m^2\n",
"l=0.04;                               //length of magnetic fiekd along the axis\n",
"m=9.1*10^-31;                         //mass of electron\n",
"D=0.25;                               //distance of the screen from the field\n",
"Va=600;                               //final anode voltage\n",
"y=(((e*B*l)/m)*sqrt(m/(2*e*Va))*(D+(l/2)))*10^2\n",
"printf('the displacement of the electron beam spot on the screen is %f cm',y);"
   ]
   }
,
{
		   "cell_type": "markdown",
		   "metadata": {},
		   "source": [
			"## Example 7.8: Separation_on_the_photographic_plate.sci"
		   ]
		  },
  {
"cell_type": "code",
	   "execution_count": null,
	   "metadata": {
	    "collapsed": true
	   },
	   "outputs": [],
"source": [
"clc();\n",
"clear;\n",
"//To calculate the seperation on photographic plate\n",
"E=2.5*10^4;                           //electric field\n",
"B=0.18;                               //magnetic field\n",
"v=E/B;                                //velocity of particles\n",
"B1=0.22;                              //magnetic field in the main chamber\n",
"m2=13;                                //mass number of carbon\n",
"m1=12;                                //mass number of carbon\n",
"e=1.6*10^-9;\n",
"s=((2*v*(m2-m1)*1.67*10^-27)/(e*B1))*10^12\n",
"printf('the seperation on photographic plate is %f cm',s);"
   ]
   }
,
{
		   "cell_type": "markdown",
		   "metadata": {},
		   "source": [
			"## Example 7.9: Intensity_of_electric_field.sci"
		   ]
		  },
  {
"cell_type": "code",
	   "execution_count": null,
	   "metadata": {
	    "collapsed": true
	   },
	   "outputs": [],
"source": [
"clc();\n",
"clear;\n",
"//To determine the intensity of electric field\n",
"v=5.6*10^6;                         //speed of the electron\n",
"m=9.1*10^-31;                       //mass of electron\n",
"e=1.6*10^-19;\n",
"s=0.03;                            //distance travelled\n",
"E=(m*(v)^2)/(2*e*s)                //intensity of electric field\n",
"printf('The intensity of electric field is %f N/C',E);"
   ]
   }
],
"metadata": {
		  "kernelspec": {
		   "display_name": "Scilab",
		   "language": "scilab",
		   "name": "scilab"
		  },
		  "language_info": {
		   "file_extension": ".sce",
		   "help_links": [
			{
			 "text": "MetaKernel Magics",
			 "url": "https://github.com/calysto/metakernel/blob/master/metakernel/magics/README.md"
			}
		   ],
		   "mimetype": "text/x-octave",
		   "name": "scilab",
		   "version": "0.7.1"
		  }
		 },
		 "nbformat": 4,
		 "nbformat_minor": 0
}
