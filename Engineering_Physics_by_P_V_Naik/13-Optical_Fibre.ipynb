{
"cells": [
 {
		   "cell_type": "markdown",
	   "metadata": {},
	   "source": [
       "# Chapter 13: Optical Fibre"
	   ]
	},
{
		   "cell_type": "markdown",
		   "metadata": {},
		   "source": [
			"## Example 13.1: Numerical_aperture_of_a_fibre.sci"
		   ]
		  },
  {
"cell_type": "code",
	   "execution_count": null,
	   "metadata": {
	    "collapsed": true
	   },
	   "outputs": [],
"source": [
"clc();\n",
"clear;\n",
"//To calculate the numerical aperture\n",
"n1=1.49;                    //refractive index of core\n",
"n2=1.46;                    //refractive index of cladding\n",
"//NA=sqrt((n1^2)-(n2^2))\n",
"NA=sqrt((n1^2)-(n2^2))      //Numerical aperture\n",
"printf('The numerical aperture is %f',NA);"
   ]
   }
,
{
		   "cell_type": "markdown",
		   "metadata": {},
		   "source": [
			"## Example 13.2: To_determine_the_acceptance_angle.sci"
		   ]
		  },
  {
"cell_type": "code",
	   "execution_count": null,
	   "metadata": {
	    "collapsed": true
	   },
	   "outputs": [],
"source": [
"clc();\n",
"clear;\n",
"//To determine acceptance angle\n",
"NA=0.5;                              //numerical aperture of fibre \n",
"n0=1;                                //refractive index of the medium (air) from which ray enters the fibre\n",
"//NA=n0*sin(i)where i is the acceptance angle.\n",
"i=asind(NA/n0)                      //acceptance angle in degrees\n",
"printf('The acceptance angle is %d degrees',i);"
   ]
   }
,
{
		   "cell_type": "markdown",
		   "metadata": {},
		   "source": [
			"## Example 13.3: Number_of_guided_modes.sci"
		   ]
		  },
  {
"cell_type": "code",
	   "execution_count": null,
	   "metadata": {
	    "collapsed": true
	   },
	   "outputs": [],
"source": [
"clc();\n",
"clear;\n",
"//To determine the number of guided modes\n",
"NA=0.25;                          //numerical apperture\n",
"lambda=0.75;                      //wavelength in micro metres\n",
"a=25;                             //core radius i.e 50/2=25\n",
"f=(2*%pi*a*NA)/lambda;             //normalised frequency\n",
"Ng=(f^2)/2                         //number of guided modes\n",
"printf('The number of guided modes is %f',Ng);"
   ]
   }
,
{
		   "cell_type": "markdown",
		   "metadata": {},
		   "source": [
			"## Example 13.4: Signal_attenuation_per_kilometer.sci"
		   ]
		  },
  {
"cell_type": "code",
	   "execution_count": null,
	   "metadata": {
	    "collapsed": true
	   },
	   "outputs": [],
"source": [
"clc();\n",
"clear;\n",
"//To determine the signal attenuationnper kilometer \n",
"pi=100;                            //mean optical power launched in micro meter\n",
"po=5;                              //mean optical power at fibre output\n",
"S=10*log10(pi/po);                 //signal attenuation un dB\n",
"l=6;                               //length in km\n",
"Sk=S/l                             //signal ayyenuation per kilometer\n",
"printf('The signal attenuation per kilometer is %f dB/km',Sk);"
   ]
   }
,
{
		   "cell_type": "markdown",
		   "metadata": {},
		   "source": [
			"## Example 13.5: Numerical_aperture_for_the_optical_fibre.sci"
		   ]
		  },
  {
"cell_type": "code",
	   "execution_count": null,
	   "metadata": {
	    "collapsed": true
	   },
	   "outputs": [],
"source": [
"clc();\n",
"clear;\n",
"//To determine the numerical apperture\n",
"ns=2.89;                           //sum of refractive indices of core & cladding\n",
"nd=0.03;                           //difference of refractive indices of core & cladding\n",
"NA=sqrt(ns*nd)                     //numerical apperture\n",
"printf('The numerical apperture for the optical fibre is %f',NA);"
   ]
   }
,
{
		   "cell_type": "markdown",
		   "metadata": {},
		   "source": [
			"## Example 13.6: Number_of_guided_modes.sci"
		   ]
		  },
  {
"cell_type": "code",
	   "execution_count": null,
	   "metadata": {
	    "collapsed": true
	   },
	   "outputs": [],
"source": [
"clc();\n",
"clear;\n",
"//To determine the number of guided modes\n",
"NA=0.28;                                  //numerical aperture\n",
"a=30;                                    //core radius\n",
"lambda=0.8;                              //wavelength in micro meter\n",
"f=(2*%pi*a*NA)/lambda;                   //normalised frequency\n",
"Ng=f^2/2                                 //number of guided modes\n",
"printf('The number of guided modes is %f',Ng);"
   ]
   }
,
{
		   "cell_type": "markdown",
		   "metadata": {},
		   "source": [
			"## Example 13.7: To_determine_the_mean_optical_power.sci"
		   ]
		  },
  {
"cell_type": "code",
	   "execution_count": null,
	   "metadata": {
	    "collapsed": true
	   },
	   "outputs": [],
"source": [
"clc();\n",
"clear;\n",
"//To calculate the mean optical power launched into a fibre\n",
"S=2;                    //signal attenuation per km\n",
"l=1;                    //length in km.Since l=1 S=2\n",
"//S=10*log(pi/p0)(or)pi/p0=10^(S/10)\n",
"p0=20;                  //mean optical power at fibre output \n",
"pi=p0*10^(S/10)         //mean optical power launched into fibre\n",
"printf('The mean optical power launched into a fibre of length of 1km is %f micri W',pi);"
   ]
   }
,
{
		   "cell_type": "markdown",
		   "metadata": {},
		   "source": [
			"## Example 13.8: To_determine_the_mean_optical_power.sci"
		   ]
		  },
  {
"cell_type": "code",
	   "execution_count": null,
	   "metadata": {
	    "collapsed": true
	   },
	   "outputs": [],
"source": [
"clc();\n",
"clear;\n",
"//To determine pi/p0\n",
"S=2.3;                    //Signal attenuation per km\n",
"l=4;                      //length in km\n",
"S=S*l;                    //signal attenuation for 4km in dB\n",
"//S=10*log(pi/po)(or)pi/po=10^(S/10)\n",
"P=10^(S/10)               //mean optical power launched into fibre(pi)/mean optical power at fibre output (po)\n",
"printf('pi/po=%f',P);"
   ]
   }
,
{
		   "cell_type": "markdown",
		   "metadata": {},
		   "source": [
			"## Example 13.9: To_calculate_signal_attenuation.sci"
		   ]
		  },
  {
"cell_type": "code",
	   "execution_count": null,
	   "metadata": {
	    "collapsed": true
	   },
	   "outputs": [],
"source": [
"clc();\n",
"clear;\n",
"//To determine signal attenuation\n",
"//given condition:po=pi/4where p0=mean optical power at fibre output,pi=mean optical power launched into fibre\n",
"//S=10*log(pi/po)\n",
"S=10*log10(1/(1/4))          //signal attenuation in dB\n",
"printf('Signal attenuation when po=pi/4 is %f dB',S);"
   ]
   }
],
"metadata": {
		  "kernelspec": {
		   "display_name": "Scilab",
		   "language": "scilab",
		   "name": "scilab"
		  },
		  "language_info": {
		   "file_extension": ".sce",
		   "help_links": [
			{
			 "text": "MetaKernel Magics",
			 "url": "https://github.com/calysto/metakernel/blob/master/metakernel/magics/README.md"
			}
		   ],
		   "mimetype": "text/x-octave",
		   "name": "scilab",
		   "version": "0.7.1"
		  }
		 },
		 "nbformat": 4,
		 "nbformat_minor": 0
}
