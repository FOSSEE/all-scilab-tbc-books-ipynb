{
"cells": [
 {
		   "cell_type": "markdown",
	   "metadata": {},
	   "source": [
       "# Chapter 9: Quantum Theory"
	   ]
	},
{
		   "cell_type": "markdown",
		   "metadata": {},
		   "source": [
			"## Example 9.10: Work_function_of_the_surface.sci"
		   ]
		  },
  {
"cell_type": "code",
	   "execution_count": null,
	   "metadata": {
	    "collapsed": true
	   },
	   "outputs": [],
"source": [
"clc();\n",
"clear;\n",
"//To calculate the work function of the surface\n",
"h=6,626*10^-34;                                        //plancks constant\n",
"c=3*10^8;                                             //speed of light\n",
"lambda=350;                                          //threshold wavelength\n",
"W=((h*c)/(lambda*10^-9*1.6*10^-19))*10^-34           //work function of the surface\n",
"printf('The workfunction of the surface is %f eV',W);"
   ]
   }
,
{
		   "cell_type": "markdown",
		   "metadata": {},
		   "source": [
			"## Example 9.11: To_calculate_the_accelerating_voltage.sci"
		   ]
		  },
  {
"cell_type": "code",
	   "execution_count": null,
	   "metadata": {
	    "collapsed": true
	   },
	   "outputs": [],
"source": [
"clc();\n",
"clear;\n",
"//To calculate the accelerating voltage\n",
"h=6.626*10^-34;                         //plancks constant\n",
"c=3*10^8;                               //speed of light\n",
"e=1.6*10^-19;\n",
"lambdamin=0.02*10^-9;                   //minimum wavelength in nm\n",
"V=((h*c)/(lambdamin*e))*10^-3           //accelerating voltage\n",
"printf('The accelerating voltage needed to produce minimum wavelength of 0.02 nm is %f kV',V);"
   ]
   }
,
{
		   "cell_type": "markdown",
		   "metadata": {},
		   "source": [
			"## Example 9.12: Angle_of_second_order_Braggs_reflections.sci"
		   ]
		  },
  {
"cell_type": "code",
	   "execution_count": null,
	   "metadata": {
	    "collapsed": true
	   },
	   "outputs": [],
"source": [
"clc();\n",
"clear;\n",
"//To determine the angle of second order bragg's reflections\n",
"//According to Bragg's eq.2*d*sin(teta)=n*lambda\n",
"n=2;                              //since second order Bragg's eq.\n",
"d=5;                              //since d=5(lambda)\n",
"lambda=1;\n",
"a=(n*lambda)/(2*5*lambda);\n",
"teta=asind(a)                    //angle of second order Braggs reflections\n",
"printf('The angle of second order Braggs reflection is %f',teta);"
   ]
   }
,
{
		   "cell_type": "markdown",
		   "metadata": {},
		   "source": [
			"## Example 9.13: Accelerating_voltage_applied.sci"
		   ]
		  },
  {
"cell_type": "code",
	   "execution_count": null,
	   "metadata": {
	    "collapsed": true
	   },
	   "outputs": [],
"source": [
"clc();\n",
"clear;\n",
"//To determine the accelerating voltage applied \n",
"h=6.626*10^-34;                         //plancks constant\n",
"c=3*10^8;                               //speed of light\n",
"lambda=0.03;                            //wavelength in nm\n",
"E=(h*c)/(lambda*10^-9);                 //energy of photon \n",
"TE=((E*100)/80);                        //Total energy.E=80% of TE in J\n",
"TE=TE/(16.0017*10^-17)                          //Total energy in kV\n",
"printf('The electron must have been accelerated through a potential difference of %f kV',TE); "
   ]
   }
,
{
		   "cell_type": "markdown",
		   "metadata": {},
		   "source": [
			"## Example 9.1: Power_radiated_by_the_filament.sci"
		   ]
		  },
  {
"cell_type": "code",
	   "execution_count": null,
	   "metadata": {
	    "collapsed": true
	   },
	   "outputs": [],
"source": [
"clc();\n",
"clear;\n",
"//To calculate the power radiated by the filament\n",
"r=0.05;                               //radius of the wire in mm\n",
"l=4;                                  //length of the wire in cm\n",
"A=2*%pi*r*l*10^-5;                     //in m^2\n",
"//According to Stephen-Boltzmann law R=e*s*(T^4)\n",
"//P=R*A\n",
"e=1;\n",
"T=3000;                                 //temperature in K\n",
"s=5.6703*10^-8;                         //s is stepfan's constant \n",
"p=s*(T)^4*A*e\n",
"printf('The power radiated by the filament is %f W',p);"
   ]
   }
,
{
		   "cell_type": "markdown",
		   "metadata": {},
		   "source": [
			"## Example 9.2: To_calculate_the_number_of_photons.sci"
		   ]
		  },
  {
"cell_type": "code",
	   "execution_count": null,
	   "metadata": {
	    "collapsed": true
	   },
	   "outputs": [],
"source": [
"clc();\n",
"clear;\n",
"//To calculate the number of photons that reach the surface of the earth per square cm per second\n",
"h=6.626*10^-34;                               //plancks constant\n",
"c=3*10^8;                                     //speed of light\n",
"lambda=550;                                   //wavelength in nm\n",
"E=(h*c)/(lambda*10^-9);                        //energy of photon in J\n",
"Es=0.1/E                                      //number of photons per square cm per second\n",
"printf('The number of photons that reach the surface of the earth per square cm per second are %e ',Es);"
   ]
   }
,
{
		   "cell_type": "markdown",
		   "metadata": {},
		   "source": [
			"## Example 9.3: Maximum_kinetic_energy_of_photoelectron.sci"
		   ]
		  },
  {
"cell_type": "code",
	   "execution_count": null,
	   "metadata": {
	    "collapsed": true
	   },
	   "outputs": [],
"source": [
"clc();\n",
"clear;\n",
"//To determine the maximum kinetic energy of photoelectron\n",
"h=6.626*10^-34;                               //plancks constant\n",
"c=3*10^8;                                     //speed of light\n",
"lambda=300*10^-9;                             //wavelength\n",
"E=(h*c)/lambda                              //energy of photon\n",
"phi=(2.2*1.6*(10^-19))-1.94;\n",
"Kmax=E-phi                                 //maximum kinetic energy\n",
"printf('The maximum kinetic energy  is %f eV',Kmax);"
   ]
   }
,
{
		   "cell_type": "markdown",
		   "metadata": {},
		   "source": [
			"## Example 9.4: To_determine_the_potential_difference.sci"
		   ]
		  },
  {
"cell_type": "code",
	   "execution_count": null,
	   "metadata": {
	    "collapsed": true
	   },
	   "outputs": [],
"source": [
"clc();\n",
"clear;\n",
"//To calcuate the potential difference\n",
"h=6.626*10^-34;                          //plancks constant\n",
"c=3*10^8;                                //speed of light\n",
"lambda=175*10^-9;                        //wavelength of light\n",
"w=5;                                     //work function of nickel\n",
"E=(h*c)/(lambda*1.6*10^-19);             //Energy of 200 nm photon\n",
"//From photoelectric equation E-w is the potential difference\n",
"p=E-w                                    //potential difference required to stop the fastest electron\n",
"printf('The potential difference that should be applied to stop fastest photoelectron emitted by the surface is %f eV',p);"
   ]
   }
,
{
		   "cell_type": "markdown",
		   "metadata": {},
		   "source": [
			"## Example 9.5: Shortest_wavelength_of_X_rays.sci"
		   ]
		  },
  {
"cell_type": "code",
	   "execution_count": null,
	   "metadata": {
	    "collapsed": true
	   },
	   "outputs": [],
"source": [
"clc();\n",
"clear;\n",
"//To calculate the shortest wavelength of X-rays produced by the machine\n",
"h=6.626*10^-34;                                //plancks constant\n",
"c=3*10^8;                                      //speed of light\n",
"e=1.6*10^-19;\n",
"V=50;                                          //accelerating voltage in kV\n",
"lambdamin=((h*c)/(e*V*10^3) )*10^9\n",
"printf('The shortest wavelength of X-rays roduced by the machine is %f nm',lambdamin);"
   ]
   }
,
{
		   "cell_type": "markdown",
		   "metadata": {},
		   "source": [
			"## Example 9.6: To_calculate_wavelength_of_line.sci"
		   ]
		  },
  {
"cell_type": "code",
	   "execution_count": null,
	   "metadata": {
	    "collapsed": true
	   },
	   "outputs": [],
"source": [
"clc();\n",
"clear;\n",
"//To determine the wavelength\n",
"lambda1=0.708;                             //wavelength of a certain line in an X-ray spectrum\n",
"Z1=42;                                    //atomic number\n",
"Z2=24;\n",
"a=1;                                       //screening constant\n",
"lambda2=(lambda1*(Z1-a)^2)/((Z2-a)^2)\n",
"printf('The wavelength of same line in target of Z=24 is %f A',lambda2);"
   ]
   }
,
{
		   "cell_type": "markdown",
		   "metadata": {},
		   "source": [
			"## Example 9.7: Distance_between_atomic_planes.sci"
		   ]
		  },
  {
"cell_type": "code",
	   "execution_count": null,
	   "metadata": {
	    "collapsed": true
	   },
	   "outputs": [],
"source": [
"clc();\n",
"clear;\n",
"//To calculate the distance between atomic planes\n",
"//From Bragg's law 2*d*sin(teta)=n*lambda\n",
"n=1;\n",
"lambda=0.32;                        //wavelength in nm\n",
"teta=28;                            //angle at which first order Bragg's reflection is observed\n",
"d=lambda/(2*sind(28))\n",
"printf('The distance between atomic planes is %f nm',d);"
   ]
   }
,
{
		   "cell_type": "markdown",
		   "metadata": {},
		   "source": [
			"## Example 9.8: Wavelength_of_X_rays.sci"
		   ]
		  },
  {
"cell_type": "code",
	   "execution_count": null,
	   "metadata": {
	    "collapsed": true
	   },
	   "outputs": [],
"source": [
"clc();\n",
"clear;\n",
"//To calculate the wavelength of X-rays in the incident beam\n",
"h=6.626*10^-34;                        //plancks constant\n",
"teta=50;\n",
"m=9.1*10^-31;                          //mass of electron\n",
"c=3*10^8;                              //speed of light\n",
"deltalambda=(h/(m*c))*(1-cosd(50))*10^12\n",
"lambdafin=2.5;                         //wavelength of scattered X-rays\n",
"lambdainit=lambdafin-deltalambda\n",
"printf('The wavelength of X-rays in the incident beam is %f pm',lambdainit);"
   ]
   }
,
{
		   "cell_type": "markdown",
		   "metadata": {},
		   "source": [
			"## Example 9.9: To_determine_the_power_of_laser.sci"
		   ]
		  },
  {
"cell_type": "code",
	   "execution_count": null,
	   "metadata": {
	    "collapsed": true
	   },
	   "outputs": [],
"source": [
"clc();\n",
"clear;\n",
"//To determine the power of the laser\n",
"h=6.626*10^-34;                         //plancks constant\n",
"c=3*10^8;                               //speed of light\n",
"lambda=500;                             //wavelength of laser\n",
"E=(h*c)/lambda;                         //Energy of 500 nm photon\n",
"N=2.52*10^16;                           //number of photons in a 20ms pulse\n",
"p=((E*N)/(20*10^-3))*10^9\n",
"printf('The power of the laser is %f W',p);"
   ]
   }
],
"metadata": {
		  "kernelspec": {
		   "display_name": "Scilab",
		   "language": "scilab",
		   "name": "scilab"
		  },
		  "language_info": {
		   "file_extension": ".sce",
		   "help_links": [
			{
			 "text": "MetaKernel Magics",
			 "url": "https://github.com/calysto/metakernel/blob/master/metakernel/magics/README.md"
			}
		   ],
		   "mimetype": "text/x-octave",
		   "name": "scilab",
		   "version": "0.7.1"
		  }
		 },
		 "nbformat": 4,
		 "nbformat_minor": 0
}
