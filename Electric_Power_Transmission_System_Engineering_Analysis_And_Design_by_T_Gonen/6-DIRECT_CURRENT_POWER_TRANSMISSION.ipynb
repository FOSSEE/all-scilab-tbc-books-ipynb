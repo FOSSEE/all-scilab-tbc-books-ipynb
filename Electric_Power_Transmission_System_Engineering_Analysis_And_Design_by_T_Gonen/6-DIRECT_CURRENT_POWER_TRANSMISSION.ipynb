{
"cells": [
 {
		   "cell_type": "markdown",
	   "metadata": {},
	   "source": [
       "# Chapter 6: DIRECT CURRENT POWER TRANSMISSION"
	   ]
	},
{
		   "cell_type": "markdown",
		   "metadata": {},
		   "source": [
			"## Example 6.10: determine_Vd0_E_u_pf_Qr_No_of_bucks.sce"
		   ]
		  },
  {
"cell_type": "code",
	   "execution_count": null,
	   "metadata": {
	    "collapsed": true
	   },
	   "outputs": [],
"source": [
"// ELECTRIC POWER TRANSMISSION SYSTEM ENGINEERING ANALYSIS AND DESIGN\n",
"// TURAN GONEN\n",
"// CRC PRESS\n",
"// SECOND EDITION\n",
"\n",
"// CHAPTER : 6 : DIRECT-CURRENT POWER TRANSMISSION\n",
"\n",
"// EXAMPLE : 6.10 :\n",
"clear ; clc ; close ; // Clear the work space and console\n",
"\n",
"// GIVEN DATA\n",
"X_C = 6.2292 ; // commutating reactance when all 3 breakers are closed\n",
"I_db = 1600 ; // dc current base in A\n",
"V_db = 125 * 10^3 ; // dc voltage base in V\n",
"I_d = I_db ; // Max continuous current in A\n",
"V_d = 100 * 10^3 ; // dc voltage in V\n",
"alpha = 0 ; // Firing angle α = 0 degree\n",
"\n",
"// CALCULATIONS\n",
"// For case (a)\n",
"R_c = (3/%pi) * X_C ;\n",
"R_cb = V_db/I_db ; // Resistance base in Ω\n",
"V_d_pu = V_d/V_db ; // per unit voltage\n",
"I_d_pu = I_d/I_db ; // per unit current\n",
"R_c_pu = R_c/R_cb ; // per unit Ω\n",
"E_pu = (V_d_pu + R_c_pu * I_d_pu)/cosd(alpha) ; // Open ckt dc voltage in pu\n",
"V_d0 = E_pu * V_db ; // Open ckt dc voltage in V\n",
"\n",
"// For case (b)\n",
"E = V_d0/2.34; // Open ckt ac voltage on wye side of transformer in V               \n",
"\n",
"// For case (c)\n",
"E_1LN = 92.95 * 10^3 ; // voltage in V\n",
"E_1B = E_1LN ;\n",
"E_LN = 53.44 * 10^3 ; // voltage in V\n",
"a = E_1LN/E_LN ;\n",
"n = a ; // when LTC on neutral\n",
"X_c_pu = 2 * R_c_pu ;\n",
"E_1_pu = E_1LN / E_1B ; // per unit voltage\n",
"cos_delta = cosd(alpha) - ( (X_c_pu * I_d_pu)/( (a/n) *E_1_pu) ) ;\n",
"delta = acosd(cos_delta) ;\n",
"u = delta - alpha ; \n",
"\n",
"// For case (d)\n",
"cos_theta = V_d/V_d0 ; // pf of rectifier\n",
"theta = acosd(cos_theta) ;\n",
"\n",
"// For case (e)\n",
"Q_r = V_d*I_d*tand(theta) ; // magnetizing var I/P\n",
"\n",
"// For case (f)\n",
"d_V = E_LN - E ; // necessary change in voltage in V\n",
"p_E_LN = 0.00625 * E_LN ; // one buck step can change in V/step\n",
"no_buck = d_V / p_E_LN ; // No. of steps of buck\n",
"\n",
"// DISPLAY RESULTS\n",
"disp('EXAMPLE : 6.10 : SOLUTION :-') ;\n",
"printf('\n (a) Open circuit dc Voltage , V_d0 = %.2f V \n',V_d0);\n",
"printf('\n (b) Open circuit ac voltage on wye side of transformer , E = %.2f V \n',E);\n",
"printf('\n (c) Overlap angle , u = %.2f degree \n',u)\n",
"printf('\n (d) Power factor , cosθ = %.3f  \n',cos_theta);\n",
"printf('\n     and   θ = %.2f degree \n ',theta);\n",
"printf('\n (e) Magnetizing var input to rectifier , Q_r = %.4e var \n',Q_r);\n",
"printf('\n (f) Number of 0.625 percent steps of buck required , No. of buck = %.f steps \n',no_buck);"
   ]
   }
,
{
		   "cell_type": "markdown",
		   "metadata": {},
		   "source": [
			"## Example 6.1: determine_Vd_Id_ratio_of_dc_to_ac_insulation_level.sce"
		   ]
		  },
  {
"cell_type": "code",
	   "execution_count": null,
	   "metadata": {
	    "collapsed": true
	   },
	   "outputs": [],
"source": [
"// ELECTRIC POWER TRANSMISSION SYSTEM ENGINEERING ANALYSIS AND DESIGN\n",
"// TURAN GONEN\n",
"// CRC PRESS\n",
"// SECOND EDITION\n",
"\n",
"// CHAPTER : 6 : DIRECT CURRENT POWER TRANSMISSION\n",
"\n",
"// EXAMPLE : 6.1 :\n",
"clear ; clc ; close ; // Clear the work space and console\n",
"\n",
"// GIVEN DATA\n",
"K_1 = 2.5 ; // Factor\n",
"K_2 = 1.7 ; // Factor\n",
"\n",
"// CALCULATIONS\n",
"// For case (b)\n",
"I_d = poly(0,'I_d') ; // since P_loss(dc) = P_loss (ac) \n",
"I_L = poly(0,'I_L') ; // i.e 2*I_d^2*R_dc = 3*I_L^2*R_ac \n",
"I_d = sqrt(3/2)*I_L ; // Ignoring skin effects R_dc = R_ac\n",
"I_d1 = 1.225*I_L ; // Refer Equ 6.23\n",
"\n",
"// For case (a)\n",
"V_d = poly(0,'V_d') ; // Defining a ploynomial V_d\n",
"E_p = poly(0,'E_p') ; // since P_dc = P_ac (or) V_d*I_d = 3*E_p*I_L\n",
"V_d = 2.45*E_p ; // Refer Equ 6.25\n",
"\n",
"// For case (c)\n",
"ins_lvl = (K_2*(V_d/2))/(K_1*E_p) ; // Ratio of dc insulation level to ac insulation level\n",
"ins_lvl_1 = (K_2*2.45/2)/K_1 ; // simplifying above equ\n",
"dc_i = poly(0,'dc_i') ; // dc_i = dc insulation level\n",
"ac_i = poly(0,'ac_i') ; // ac_i = ac insulation level\n",
"dc_i = ins_lvl_1 * ac_i ;\n",
"\n",
"// DISPLAY RESULTS\n",
"disp('EXAMPLE : 6.1 : SOLUTION :-') ;\n",
"printf('\n (a) Line-to-line dc voltage of V_d in terms of line-to-neutral voltage E_p , V_d = \n') ; disp(V_d) ;\n",
"printf('\n (b) The dc line current I_d in terms of ac line current I_L , I_d = \n'); disp(I_d1) ;\n",
"printf('\n (c) Ratio of dc insulation level to ac insulation level =  \n') ; disp(dc_i/ac_i) ;\n",
"printf('\n  (or) dc insulation level = \n') ; disp(dc_i) ;"
   ]
   }
,
{
		   "cell_type": "markdown",
		   "metadata": {},
		   "source": [
			"## Example 6.2: determine_Vd_ratio_of_Pdc_to_Pac_and_Ploss_dc_to_Ploss_ac.sce"
		   ]
		  },
  {
"cell_type": "code",
	   "execution_count": null,
	   "metadata": {
	    "collapsed": true
	   },
	   "outputs": [],
"source": [
"// ELECTRIC POWER TRANSMISSION SYSTEM ENGINEERING ANALYSIS AND DESIGN\n",
"// TURAN GONEN\n",
"// CRC PRESS\n",
"// SECOND EDITION\n",
"\n",
"// CHAPTER : 6 : DIRECT CURRENT POWER TRANSMISSION\n",
"\n",
"// EXAMPLE : 6.2 :\n",
"clear ; clc ; close ; // Clear the work space and console\n",
"\n",
"// GIVEN DATA\n",
"K = 3 ; // factor\n",
"\n",
"// CALCULATIONS\n",
"// For case (a)\n",
"V_d = poly(0,'V_d') ; // defining a polynomial\n",
"E_p = poly(0,'E_p') ;\n",
"V_d = K*2*E_p ; // From equ 6.18\n",
"\n",
"// For case (b)\n",
"P_dc = poly(0,'P_dc') ;\n",
"P_ac = poly(0,'P_ac') ;\n",
"P_dc = 2*P_ac ;\n",
"\n",
"// For case (c)\n",
"P_ld = poly(0,'P_ld') ; // P_loss(dc)\n",
"P_la = poly(0,'P_la') ; // P_loss(ac)\n",
"P_ld = (2/3)*P_la ; \n",
"\n",
"// DISPLAY RESULTS\n",
"disp('EXAMPLE : 6.2 : SOLUTION :-') ;\n",
"printf('\n (a) Maximum operating V_d in terms of voltage E_p , V_d = \n') ; disp(V_d) ;\n",
"printf('\n (b) Maximum power transmission capability ratio,i.e,ratio of P_dc to P_ac , P_dc/P_ac = \n') ; disp(P_dc/P_ac) ;\n",
"printf('\n (or) P_dc = \n') ; disp(P_dc) ;\n",
"printf('\n (c) Ratio of total I^2*R losses , i.e ,Ratio of P_loss(dc) to P_loss(ac),which accompany maximum power flow = \n') ; disp(P_ld/P_la) ;\n",
"printf('\n (or) P_loss(dc) = \n') ; disp(P_ld) ;"
   ]
   }
,
{
		   "cell_type": "markdown",
		   "metadata": {},
		   "source": [
			"## Example 6.3: calculate_KVA_rating_Wye_side_KV_rating.sce"
		   ]
		  },
  {
"cell_type": "code",
	   "execution_count": null,
	   "metadata": {
	    "collapsed": true
	   },
	   "outputs": [],
"source": [
"// ELECTRIC POWER TRANSMISSION SYSTEM ENGINEERING ANALYSIS AND DESIGN\n",
"// TURAN GONEN\n",
"// CRC PRESS\n",
"// SECOND EDITION\n",
"\n",
"// CHAPTER : 6 : DIRECT-CURRENT POWER TRANSMISSION\n",
"\n",
"// EXAMPLE : 6.3 :\n",
"clear ; clc ; close ; // Clear the work space and console\n",
"\n",
"// GIVEN DATA\n",
"V_d0 = 125 ; // voltage rating of bridge rectifier in kV\n",
"V_dr0 = V_d0 ; // Max continuos no-load direct voltage in kV\n",
"I = 1600 ; // current rating of bridge rectifier in A\n",
"I_d = I ; // Max continuous current in A\n",
"\n",
"// CALCULATIONS\n",
"// For case (a)\n",
"S_B = 1.047 * V_d0 * I_d ; // 3-phase kVA rating of rectifier transformer\n",
"\n",
"// For case (b)\n",
"// SINCE   V_d0 = 2.34*E_LN\n",
"E_LN = V_d0/2.34 ; // Wye side kV rating\n",
"\n",
"// DISPLAY RESULTS\n",
"disp('EXAMPLE : 6.3 : SOLUTION :-') ;\n",
"printf('\n (a) Three-phase kilovolt-ampere rating , S_B = %d kVA \n',S_B) ;\n",
"printf('\n (b) Wye-side kilovolt rating , E_L-N = %.4f kV \n',E_LN) ;"
   ]
   }
,
{
		   "cell_type": "markdown",
		   "metadata": {},
		   "source": [
			"## Example 6.4: determine_Xc_for_all_3_possible_values_of_ac_system_reactance.sce"
		   ]
		  },
  {
"cell_type": "code",
	   "execution_count": null,
	   "metadata": {
	    "collapsed": true
	   },
	   "outputs": [],
"source": [
"// ELECTRIC POWER TRANSMISSION SYSTEM ENGINEERING ANALYSIS AND DESIGN\n",
"// TURAN GONEN\n",
"// CRC PRESS\n",
"// SECOND EDITION\n",
"\n",
"// CHAPTER : 6 : DIRECT-CURRENT POWER TRANSMISSION\n",
"\n",
"// EXAMPLE : 6.4 :\n",
"clear ; clc ; close ; // Clear the work space and console\n",
"\n",
"// GIVEN DATA\n",
"E_LN = 53.418803 ; // Wye-side kV rating . From exa 6.3\n",
"I = 1600 ; // current rating of bridge rectifier in A\n",
"I_d = I ; // Max continuous current in A\n",
"X_tr = 0.10 ; // impedance of rectifier transformer in pu Ω\n",
"\n",
"// For case (a)\n",
"sc_MVA1 = 4000 ; // short-ckt MVA\n",
"\n",
"// For case (b)\n",
"sc_MVA2 = 2500 ; // short-ckt MVA\n",
"\n",
"// For case (c)\n",
"sc_MVA3 = 1000 ; // short-ckt MVA\n",
"\n",
"// CALCULATIONS\n",
"nom_kV = sqrt(3) * E_LN ; // Nominal kV_L-L\n",
"I_1ph = sqrt(2/3) * I_d ; // rms value of wye-side phase current\n",
"E_LN1 = E_LN * 10^3 ; // Wye-side rating in kV\n",
"X_B = (E_LN1/I_1ph) ; // Associated reactance base in Ω\n",
"\n",
"// For case (a)\n",
"X_sys1 = nom_kV^2/sc_MVA1 ; // system reactance in Ω\n",
"X_tra = X_tr * X_B ; // Reactance of rectifier transformer\n",
"X_C = X_sys1 + X_tra ; // Commutating reactance in Ω\n",
"\n",
"// For case (b)\n",
"X_sys2 = nom_kV^2/sc_MVA2 ; // system reactance in Ω\n",
"X_C2 = X_sys2 + X_tra ; // Commutating reactance in Ω\n",
"\n",
"// For case (b) When breaker 1 & 2 are open\n",
"X_sys3 = nom_kV^2/sc_MVA3 ; // system reactance in Ω\n",
"X_C3 = X_sys3 + X_tra ; // Commutating reactance in Ω\n",
"\n",
"// DISPLAY RESULTS\n",
"disp('EXAMPLE : 6.4 : SOLUTION :-') ;\n",
"printf('\n (a) Commutating reactance When all three breakers are closed, X_C = %.4f Ω \n',X_C) ; \n",
"printf('\n (b) Commutating reactance When breaker 1 is open, X_C = %.4f Ω \n',X_C2) ;\n",
"printf('\n (c) Commutating reactance When breakers 1 and 2 are open, X_C = %.4f Ω \n',X_C3) ;"
   ]
   }
,
{
		   "cell_type": "markdown",
		   "metadata": {},
		   "source": [
			"## Example 6.5: calculate_u_Vdr_pf_Qr.sce"
		   ]
		  },
  {
"cell_type": "code",
	   "execution_count": null,
	   "metadata": {
	    "collapsed": true
	   },
	   "outputs": [],
"source": [
"// ELECTRIC POWER TRANSMISSION SYSTEM ENGINEERING ANALYSIS AND DESIGN\n",
"// TURAN GONEN\n",
"// CRC PRESS\n",
"// SECOND EDITION\n",
"\n",
"// CHAPTER : 6 : DIRECT-CURRENT POWER TRANSMISSION\n",
"\n",
"// EXAMPLE : 6.5 :\n",
"clear ; clc ; close ; // Clear the work space and console\n",
"\n",
"// GIVEN DATA\n",
"X_C = 6.2292017 ; // commutating reactance when all 3 breakers are closed\n",
"E_LN = 53.418803 * 10^3 ; // Wye-side volt rating\n",
"V_d0 = 125 * 10^3 ; // voltage rating of bridge rectifier in V\n",
"V_dr0 = V_d0 ; // Max continuos no-load direct voltage in V\n",
"I = 1600 ; // current rating of bridge rectifier in A\n",
"I_d = I ; // Max continuous current\n",
"nom_kV = sqrt(3) * E_LN ; // Nominal kV_L-L\n",
"X_tr = 0.10 ; //impedance of rectifier transformer in pu Ω\n",
"alpha = 0 ; // delay angle α = 0 degree\n",
"\n",
"// CALCULATIONS\n",
"// For case (a)\n",
"E_m = sqrt(2) * E_LN ;\n",
"u = acosd(1 - (2*X_C*I_d)/(sqrt(3)*E_m)); // overlap angle when delay angle α = 0 degree\n",
"\n",
"// For case (b)\n",
"R_C = (3/%pi) * X_C ; // Equ commutation resistance per phase\n",
"V_d = V_d0 * cosd(alpha) - R_C * I_d ; // dc voltage of rectifier in V\n",
"\n",
"// For case (c)\n",
"cos_theta = V_d/V_d0 ; // Displacement or power factor of rectifier\n",
"\n",
"// For case (d)\n",
"Q_r = V_d * I_d * tand( acosd(cos_theta) ) ; // magnetizing var I/P\n",
"\n",
"// DISPLAY RESULTS\n",
"disp('EXAMPLE : 6.5 : SOLUTION :-') ;\n",
"printf('\n (a) Overlap angle u of rectifier, u = %.2f degree\n',u) ;\n",
"printf('\n (b) The dc voltage V_dr of rectifier, V_dr = %.2f V \n',V_d) ;\n",
"printf('\n (c) Displacement factor of rectifier, cosθ = %.3f  \n',cos_theta) ;\n",
"printf('\n     and   θ = %.1f degree \n ',acosd(cos_theta)) ;\n",
"printf('\n (d) Magnetizing var input to rectifier, Q_r = %.4e var \n',Q_r) ;\n",
"\n",
"printf('\n NOTE : In case(d) 7.6546e+07 var is same as 7.6546*10^7 var = 76.546 Mvar \n') ;"
   ]
   }
,
{
		   "cell_type": "markdown",
		   "metadata": {},
		   "source": [
			"## Example 6.6: determine_alpha_u_pf_Qr.sce"
		   ]
		  },
  {
"cell_type": "code",
	   "execution_count": null,
	   "metadata": {
	    "collapsed": true
	   },
	   "outputs": [],
"source": [
"// ELECTRIC POWER TRANSMISSION SYSTEM ENGINEERING ANALYSIS AND DESIGN\n",
"// TURAN GONEN\n",
"// CRC PRESS\n",
"// SECOND EDITION\n",
"\n",
"// CHAPTER : 6 : DIRECT-CURRENT POWER TRANSMISSION\n",
"\n",
"// EXAMPLE : 6.6 :\n",
"clear ; clc ; close ; // Clear the work space and console\n",
"\n",
"// GIVEN DATA\n",
"I_d = 1600 ; // Max continuous dc current in A\n",
"V_d0 = 125 * 10^3 ; // voltage rating of bridge rectifier in V\n",
"V_d = 100 * 10^3 ; // dc voltage of rectifier in V\n",
"X_C = 6.2292017 ; // commutating reactance when all 3 breakers are closed\n",
"\n",
"// CALCULATIONS\n",
"// For case (a)\n",
"R_C = (3/%pi) * X_C ;\n",
"cos_alpha = (V_d + R_C*I_d)/V_d0 ; // Firing angle α\n",
"alpha = acosd(cos_alpha) ;\n",
"\n",
"// For case (b)\n",
"// V_d = (1/2)*V_d0*(cos_alpha + cos_delta)\n",
"cos_delta = (2 * V_d/V_d0) - cos_alpha ;\n",
"delta = acosd(cos_delta) ;\n",
"u = delta - alpha ; // Overlap angle u in degree\n",
"\n",
"// For case (c)\n",
"cos_theta = V_d/V_d0 ; // power factor\n",
"theta = acosd(cos_theta) ;\n",
"\n",
"// For case (d)\n",
"Q_r = V_d * I_d * tand(theta) ; // magnetizing var I/P\n",
"\n",
"// DISPLAY RESULTS\n",
"disp('EXAMPLE : 6.6 : SOLUTION :-') ;\n",
"printf('\n (a) Firing angle α of rectifier, α = %.2f degree\n',alpha) ;\n",
"printf('\n (b) Overlap angle u of rectifier, u = %.2f degree\n',u) ;\n",
"printf('\n (c) Power factor , cosθ = %.2f  \n',cos_theta) ;\n",
"printf('\n     and   θ = %.2f degree \n ',theta) ;\n",
"printf('\n (d) Magnetizing var input , Q_r = %.2e var \n',Q_r) ;"
   ]
   }
,
{
		   "cell_type": "markdown",
		   "metadata": {},
		   "source": [
			"## Example 6.7: determine_u_mode_Id_or_Vdr.sce"
		   ]
		  },
  {
"cell_type": "code",
	   "execution_count": null,
	   "metadata": {
	    "collapsed": true
	   },
	   "outputs": [],
"source": [
"// ELECTRIC POWER TRANSMISSION SYSTEM ENGINEERING ANALYSIS AND DESIGN\n",
"// TURAN GONEN\n",
"// CRC PRESS\n",
"// SECOND EDITION\n",
"\n",
"// CHAPTER : 6 : DIRECT-CURRENT POWER TRANSMISSION\n",
"\n",
"// EXAMPLE : 6.7 :\n",
"clear ; clc ; close ; // Clear the work space and console\n",
"\n",
"// GIVEN DATA\n",
"X_C = 12.649731 ; // commutating reactance when 2 breakers are open\n",
"alpha = 0 ;\n",
"I_d = 1600 ; // DC current in A\n",
"E_LN = 53.4188 * 10^3 ; // Wye-side rating in V\n",
"V_d0 = 125 * 10^3 ; // voltage rating of bridge rectifier in V\n",
"\n",
"// CALCULATIONS\n",
"// For case (a)\n",
"E_m = sqrt(2) * E_LN ;\n",
"u = acosd(1 - (2 * X_C * I_d)/(sqrt(3) * E_m)) ; // overlap angle u = δ\n",
"\n",
"// For case (b)\n",
"// since rectifier operates in first mode i.e doesn't operate in second mode\n",
"R_C = (3/%pi) * X_C ;\n",
"V_dr = ( V_d0 * cosd(alpha) ) - (R_C*I_d) ; // dc voltage of rectifier in V\n",
"\n",
"// DISPLAY RESULTS\n",
"disp('EXAMPLE : 6.7 : SOLUTION :-') ;\n",
"printf('\n (a) u = %.1f degree \n',u) ;\n",
"printf('\n  since u < 60 degree . The rectifier operates at FIRST mode , the normal operating mode \n') ;\n",
"printf('\n (b) When dc current is 1600 A , V_dr = %.2f V \n',V_dr) ;"
   ]
   }
],
"metadata": {
		  "kernelspec": {
		   "display_name": "Scilab",
		   "language": "scilab",
		   "name": "scilab"
		  },
		  "language_info": {
		   "file_extension": ".sce",
		   "help_links": [
			{
			 "text": "MetaKernel Magics",
			 "url": "https://github.com/calysto/metakernel/blob/master/metakernel/magics/README.md"
			}
		   ],
		   "mimetype": "text/x-octave",
		   "name": "scilab",
		   "version": "0.7.1"
		  }
		 },
		 "nbformat": 4,
		 "nbformat_minor": 0
}
