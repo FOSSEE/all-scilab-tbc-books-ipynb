{
"cells": [
 {
		   "cell_type": "markdown",
	   "metadata": {},
	   "source": [
       "# Chapter 2: TRANSMISSION LINE STRUCTURES AND EQUIPMENT"
	   ]
	},
{
		   "cell_type": "markdown",
		   "metadata": {},
		   "source": [
			"## Example 2.1: calculate_tolerable_touch_step_potential.sce"
		   ]
		  },
  {
"cell_type": "code",
	   "execution_count": null,
	   "metadata": {
	    "collapsed": true
	   },
	   "outputs": [],
"source": [
"// ELECTRIC POWER TRANSMISSION SYSTEM ENGINEERING ANALYSIS AND DESIGN\n",
"// TURAN GONEN\n",
"// CRC PRESS\n",
"// SECOND EDITION \n",
"\n",
"// CHAPTER : 2 : TRANSMISSION LINE STRUCTURES AND EQUIPMENT\n",
"\n",
"// EXAMPLE : 2.1 :\n",
"clear ; clc ; close ; // Clear the work space and console\n",
"\n",
"// GIVEN DATA\n",
"t_s = 0.49 ; // Human body is in contact with 60 Hz power for 0.49 sec\n",
"r = 100 ; // Resistivity of soil based on IEEE std 80-2000 \n",
"\n",
"// CALCULATIONS\n",
"// For case (a)\n",
"v_touch50 = 0.116*(1000+1.5*r)/sqrt(t_s) ; // Maximum allowable touch voltage for 50 kg body weight in volts\n",
"\n",
"// For case (b)\n",
"v_step50  = 0.116*(1000+6*r)/sqrt(t_s) ; // Maximum allowable step voltage for 50 kg body weight in volts\n",
"// Above Equations of case (a) & (b) applicable if no protective surface layer is used\n",
"\n",
"// For metal to metal contact below equation holds good . Hence resistivity is zero\n",
"r_1 = 0 ; // Resistivity is zero\n",
"\n",
"// For case (c)\n",
"v_mm_touch50 = 0.116*(1000)/sqrt(t_s) ; // Maximum allowable touch voltage for 50 kg body weight in volts for metal to metal contact\n",
"\n",
"// For case (d)\n",
"v_mm_touch70 = 0.157*(1000)/sqrt(t_s) ; // Maximum allowable touch voltage for 70 kg body weight in volts for metal to metal contact\n",
"\n",
"// DISPLAY RESULTS\n",
"disp('EXAMPLE : 2.1 : SOLUTION :-') ;\n",
"printf('\n (a) Tolerable Touch potential , V_touch50 = %.f V , for 50 kg body weight \n',v_touch50) ;\n",
"printf('\n (b) Tolerable Step potential , V_step50 = %.f V , for 50 kg body weight \n',v_step50) ;\n",
"printf('\n (c) Tolerable Touch Voltage for metal-to-metal contact , V_mm_touch50 = %.1f V , for 50 kg body weight \n',v_mm_touch50) ;\n",
"printf('\n (d) Tolerable Touch Voltage for metal-to-metal contact , V_mm_touch70 = %.1f V , for 70 kg body weight \n',v_mm_touch70) ;"
   ]
   }
],
"metadata": {
		  "kernelspec": {
		   "display_name": "Scilab",
		   "language": "scilab",
		   "name": "scilab"
		  },
		  "language_info": {
		   "file_extension": ".sce",
		   "help_links": [
			{
			 "text": "MetaKernel Magics",
			 "url": "https://github.com/calysto/metakernel/blob/master/metakernel/magics/README.md"
			}
		   ],
		   "mimetype": "text/x-octave",
		   "name": "scilab",
		   "version": "0.7.1"
		  }
		 },
		 "nbformat": 4,
		 "nbformat_minor": 0
}
