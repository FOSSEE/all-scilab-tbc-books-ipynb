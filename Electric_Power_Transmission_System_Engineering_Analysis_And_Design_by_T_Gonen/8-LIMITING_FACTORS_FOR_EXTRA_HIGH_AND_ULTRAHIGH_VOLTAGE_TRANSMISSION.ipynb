{
"cells": [
 {
		   "cell_type": "markdown",
	   "metadata": {},
	   "source": [
       "# Chapter 8: LIMITING FACTORS FOR EXTRA HIGH AND ULTRAHIGH VOLTAGE TRANSMISSION"
	   ]
	},
{
		   "cell_type": "markdown",
		   "metadata": {},
		   "source": [
			"## Example 8.1: determine_disruptive_critical_rms_V0_and_visual_critical_rms_Vv.sce"
		   ]
		  },
  {
"cell_type": "code",
	   "execution_count": null,
	   "metadata": {
	    "collapsed": true
	   },
	   "outputs": [],
"source": [
"// ELECTRIC POWER TRANSMISSION SYSTEM ENGINEERING ANALYSIS AND DESIGN\n",
"// TURAN GONEN\n",
"// CRC PRESS\n",
"// SECOND EDITION\n",
"\n",
"// CHAPTER : 8 : LIMITING FACTORS FOR EXTRA-HIGH AND ULTRAHIGH VOLTAGE TRANSMISSION\n",
"\n",
"// EXAMPLE : 8.1 :\n",
"clear ; clc ; close ; // Clear the work space and console\n",
"\n",
"// GIVEN DATA\n",
"m_0 = 0.90 ; // Irregularity factor\n",
"p = 74 ; // Atmospheric pressure in Hg\n",
"t = 10 ; // temperature in degree celsius\n",
"D = 550 ; // Equilateral spacing b/w conductors in cm\n",
"d = 3 ; // overall diameter in cm\n",
"\n",
"// CALCULATIONS\n",
"// For case (a)\n",
"r = d/2 ;\n",
"delta = 3.9211 * p/( 273 + t ) ; // air density factor\n",
"V_0_ph = 21.1 * delta * m_0 * r * log(D/r) ; // disruptive critical rms line voltage in kV/phase\n",
"V_0 = sqrt(3) * V_0_ph ; // disruptive critical rms line voltage in kV \n",
"\n",
"// For case (b)\n",
"m_v = m_0 ;\n",
"V_v_ph = 21.1*delta*m_v*r*(1 + (0.3/sqrt(delta*r) )) * log(D/r) ; // visual critical rms line voltage in kV/phase\n",
"V_v = sqrt(3)*V_v_ph ; // visual critical rms line voltage in kV \n",
"\n",
"// DISPLAY RESULTS\n",
"disp('EXAMPLE : 8.1 : SOLUTION :-') ;\n",
"printf('\n (a) Disruptive critical rms line voltage , V_0 = %.1f kV \n',V_0) ;\n",
"printf('\n (b) Visual critical rms line voltage , V_v = %.1f kV \n',V_v) ;"
   ]
   }
,
{
		   "cell_type": "markdown",
		   "metadata": {},
		   "source": [
			"## Example 8.2: determine_total_fair_weather_corona_loss_Pc.sce"
		   ]
		  },
  {
"cell_type": "code",
	   "execution_count": null,
	   "metadata": {
	    "collapsed": true
	   },
	   "outputs": [],
"source": [
"// ELECTRIC POWER TRANSMISSION SYSTEM ENGINEERING ANALYSIS AND DESIGN\n",
"// TURAN GONEN\n",
"// CRC PRESS\n",
"// SECOND EDITION\n",
"\n",
"// CHAPTER : 8 : LIMITING FACTORS FOR EXTRA-HIGH AND ULTRAHIGH VOLTAGE TRANSMISSION\n",
"\n",
"// EXAMPLE : 8.2 :\n",
"clear ; clc ; close ; // Clear the work space and console\n",
"\n",
"// GIVEN DATA\n",
"f = 60 ; // freq in Hz\n",
"d = 3 ; // overall diameter in cm\n",
"D = 550 ; // Equilateral spacing b/w conductors in cm\n",
"V1 = 345 ; // operating line voltage in kV\n",
"V_0 = 172.4 ; // disruptive critical voltage in kV\n",
"L = 50 ; // line length in mi\n",
"p = 74 ; // Atmospheric pressure in Hg\n",
"t = 10 ; // temperature in degree celsius\n",
"m_0 = 0.90 ; // Irregularity factor\n",
"\n",
"// CALCULATIONS\n",
"r = d/2 ;\n",
"delta = 3.9211 * p/( 273 + t ) ; // air density factor\n",
"V_0 = 21.1 * delta * m_0 * r * log(D/r) ; // disruptive critical rms line voltage in kV/phase\n",
"V =V1/sqrt(3) ; // Line to neutral operating voltage in kV\n",
"P_c = (390/delta)*(f+25)*sqrt(r/D)*(V - V_0)^2 * 10^-5 ; // Fair weather corona loss per phase in kW/mi/phase\n",
"P_cT = P_c * L ; // For total line length corona loss in kW/phase\n",
"T_P_c = 3 * P_cT ; // Total corona loss of line in kW\n",
"\n",
"// DISPLAY RESULTS\n",
"disp('EXAMPLE : 8.2 : SOLUTION :-') ;\n",
"printf('\n (a) Total fair weather corona loss of the line , P_c = %.1f kW \n',T_P_c) ;"
   ]
   }
],
"metadata": {
		  "kernelspec": {
		   "display_name": "Scilab",
		   "language": "scilab",
		   "name": "scilab"
		  },
		  "language_info": {
		   "file_extension": ".sce",
		   "help_links": [
			{
			 "text": "MetaKernel Magics",
			 "url": "https://github.com/calysto/metakernel/blob/master/metakernel/magics/README.md"
			}
		   ],
		   "mimetype": "text/x-octave",
		   "name": "scilab",
		   "version": "0.7.1"
		  }
		 },
		 "nbformat": 4,
		 "nbformat_minor": 0
}
