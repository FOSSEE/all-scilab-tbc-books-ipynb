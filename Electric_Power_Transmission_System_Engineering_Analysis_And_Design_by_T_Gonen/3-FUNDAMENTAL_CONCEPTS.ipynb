{
"cells": [
 {
		   "cell_type": "markdown",
	   "metadata": {},
	   "source": [
       "# Chapter 3: FUNDAMENTAL CONCEPTS"
	   ]
	},
{
		   "cell_type": "markdown",
		   "metadata": {},
		   "source": [
			"## Example 3.1: determine_SIL_of_the_line.sce"
		   ]
		  },
  {
"cell_type": "code",
	   "execution_count": null,
	   "metadata": {
	    "collapsed": true
	   },
	   "outputs": [],
"source": [
"// ELECTRIC POWER TRANSMISSION SYSTEM ENGINEERING ANALYSIS AND DESIGN\n",
"// TURAN GONEN\n",
"// CRC PRESS\n",
"// SECOND EDITION\n",
"\n",
"// CHAPTER : 3 : FUNDAMENTAL CONCEPTS\n",
"\n",
"// EXAMPLE : 3.1 :\n",
"clear ; clc ; close ; // Clear the work space and console\n",
"\n",
"// GIVEN DATA\n",
"kV = 345 ; // Three phase transmission line voltage in kV\n",
"Z_s = 366 ; // Surge impedance of line in Ω\n",
"a = 24.6 ; // Spacing between adjacent conductors in feet\n",
"d = 1.76 ; // Diameter of conductor in inches\n",
"\n",
"// CALCULATIONS\n",
"SIL = (kV)^2/Z_s ; // Surge Impedance loading of line in MW\n",
"\n",
"// DISPLAY RESULTS\n",
"disp('EXAMPLE : 3.1 : SOLUTION :-') ;\n",
"printf('\n Surge Impedance Loading of line , SIL = %.f MW \n',SIL) ;\n",
"\n",
"printf('\n NOTE: Unit of SIL is MW and surge impedance is Ω') ;\n",
"printf('\n ERROR: Mistake in unit of SIL in textbook \n') ;"
   ]
   }
,
{
		   "cell_type": "markdown",
		   "metadata": {},
		   "source": [
			"## Example 3.2: determine_effective_SIL.sce"
		   ]
		  },
  {
"cell_type": "code",
	   "execution_count": null,
	   "metadata": {
	    "collapsed": true
	   },
	   "outputs": [],
"source": [
"// ELECTRIC POWER TRANSMISSION SYSTEM ENGINEERING ANALYSIS AND DESIGN\n",
"// TURAN GONEN\n",
"// CRC PRESS\n",
"// SECOND EDITION\n",
"\n",
"// CHAPTER : 3 : FUNDAMENTAL CONCEPTS\n",
"\n",
"// EXAMPLE : 3.2 :\n",
"clear ; clc ; close ; // Clear the work space and console\n",
"\n",
"// GIVEN DATA\n",
"SIL = 325 ; // Surge impedance Loading in MW . From exa 3.1\n",
"kV = 345 ; // Transmission line voltage in kV . From exa 3.1\n",
"\n",
"// For case (a)\n",
"t_shunt1 = 0.5 ; // shunt capacitive compensation is 50%\n",
"t_series1 = 0 ; // no series compensation\n",
"\n",
"// For case (b)\n",
"t_shunt2 = 0.5 ; // shunt compensation using shunt reactors is 50%\n",
"t_series2 = 0 ; // no series capacitive compensation\n",
"\n",
"// For case (c)\n",
"t_shunt3 = 0 ; // no shunt compensation\n",
"t_series3 = 0.5 ; // series capacitive compensation is 50%\n",
"\n",
"// For case (d)\n",
"t_shunt4 = 0.2 ; // shunt capacitive compensation is 20%\n",
"t_series4 = 0.5; // series capacitive compensation is 50%\n",
"\n",
"// CALCULATIONS\n",
"// For case (a)\n",
"SIL1 = SIL*(sqrt( (1-t_shunt1)/(1-t_series1) )) ; // Effective SIL in MW\n",
"\n",
"// For case (b)\n",
"SIL2 = SIL*(sqrt( (1+t_shunt2)/(1-t_series2) )) ; // Effective SIL in MW\n",
"\n",
"// For case (c)\n",
"SIL3 = SIL*(sqrt( (1-t_shunt3)/(1-t_series3) )) ; // Effective SIL in MW\n",
"\n",
"// For case (d)\n",
"SIL4 = SIL*(sqrt( (1-t_shunt4)/(1-t_series4) )) ; // Effective SIL in MW\n",
"\n",
"// DISPLAY RESULTS\n",
"disp('EXAMPLE : 3.2 : SOLUTION :-') ;\n",
"printf('\n (a) Effective SIL , SIL_comp = %.f MW \n',SIL1) ;\n",
"printf('\n (b) Effective SIL , SIL_comp = %.f MW \n',SIL2) ;\n",
"printf('\n (c) Effective SIL , SIL_comp = %.f MW \n',SIL3) ;\n",
"printf('\n (d) Effective SIL , SIL_comp = %.f MW \n',SIL4) ;\n",
"\n",
"printf('\n NOTE: Unit of SIL is MW and surge impedance is Ω ') ;\n",
"printf('\n ERROR: Mistake in unit of SIL in textbook \n') ;"
   ]
   }
,
{
		   "cell_type": "markdown",
		   "metadata": {},
		   "source": [
			"## Example 3.3: calculate_RatedCurrent_MVARrating_CurrentValue.sce"
		   ]
		  },
  {
"cell_type": "code",
	   "execution_count": null,
	   "metadata": {
	    "collapsed": true
	   },
	   "outputs": [],
"source": [
"// ELECTRIC POWER TRANSMISSION SYSTEM ENGINEERING ANALYSIS AND DESIGN\n",
"// TURAN GONEN\n",
"// CRC PRESS\n",
"// SECOND EDITION\n",
"\n",
"// CHAPTER : 3 : FUNDAMENTAL CONCEPTS\n",
"\n",
"// EXAMPLE : 3.3 :\n",
"clear ; clc ; close ; // Clear the work space and console\n",
"\n",
"// GIVEN DATA\n",
"// For case (c)\n",
"I_normal = 1000 ; // Normal full load current in Ampere\n",
"\n",
"// CALCULATIONS\n",
"// For case (a) equation is (1.5pu)*I_rated = (2 pu)*I_normal\n",
"// THEREFORE\n",
"// I_rated = (1.333pu)*I_normal ; // Rated current in terms of per unit value of the normal load current\n",
"\n",
"// For case (b) \n",
"Mvar = (1.333)^2 ; // Increase in Mvar rating in per units\n",
"\n",
"// For case (c)\n",
"I_rated = (1.333)*I_normal ; // Rated current value\n",
"\n",
"// DISPLAY RESULTS\n",
"disp('EXAMPLE : 3.3 : SOLUTION :-') ;\n",
"printf('\n (a) Rated current , I_rated = (1.333 pu)*I_normal \n') ;\n",
"printf('\n (b) Mvar rating increase = %.2f pu \n',Mvar) ;\n",
"printf('\n (c) Rated current value , I_rated = %.f A \n',I_rated) ;"
   ]
   }
],
"metadata": {
		  "kernelspec": {
		   "display_name": "Scilab",
		   "language": "scilab",
		   "name": "scilab"
		  },
		  "language_info": {
		   "file_extension": ".sce",
		   "help_links": [
			{
			 "text": "MetaKernel Magics",
			 "url": "https://github.com/calysto/metakernel/blob/master/metakernel/magics/README.md"
			}
		   ],
		   "mimetype": "text/x-octave",
		   "name": "scilab",
		   "version": "0.7.1"
		  }
		 },
		 "nbformat": 4,
		 "nbformat_minor": 0
}
