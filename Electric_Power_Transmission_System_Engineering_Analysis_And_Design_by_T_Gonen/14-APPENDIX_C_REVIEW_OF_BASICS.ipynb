{
"cells": [
 {
		   "cell_type": "markdown",
	   "metadata": {},
	   "source": [
       "# Chapter 14: APPENDIX C REVIEW OF BASICS"
	   ]
	},
{
		   "cell_type": "markdown",
		   "metadata": {},
		   "source": [
			"## Example 1.C: determine_power_S12_P12_Q12.sce"
		   ]
		  },
  {
"cell_type": "code",
	   "execution_count": null,
	   "metadata": {
	    "collapsed": true
	   },
	   "outputs": [],
"source": [
"// ELECTRIC POWER TRANSMISSION SYSTEM ENGINEERING ANALYSIS AND DESIGN\n",
"// TURAN GONEN\n",
"// CRC PRESS\n",
"// SECOND EDITION\n",
"\n",
"// APPENDIX C : REVIEW OF BASICS\n",
"\n",
"// EXAMPLE : C.1 :\n",
"clear ; clc ; close ; // Clear the work space and console\n",
"\n",
"// GIVEN DATA\n",
"z = 100 * exp(60*%i*%pi/180) ; // Impedance of transmission line in Ω\n",
"v1 = 73034.8 * exp(30*%i*%pi/180) ; // Bus voltages in V\n",
"v2 = 66395.3 * exp(20*%i*%pi/180) ; // Bus voltages in V\n",
"\n",
"// CALCULATIONS\n",
"// For case (a)\n",
"S_12 = v1 * ( conj(v1) - conj(v2) )/( conj(z) ) ; // Complex power per phase in VA\n",
"\n",
"\n",
"// For case (b)\n",
"P_12 = real(S_12) ; // Active power per phase in W\n",
"\n",
"// For case (c)\n",
"Q_12 = imag(S_12) ; // Reactive power per phase in vars\n",
"\n",
"// DISPLAY RESULTS\n",
"disp('EXAMPLE : C.1 : SOLUTION :-') ;\n",
"printf('\n (a) Complex power per phase that is being transmitted from bus 1 to bus 2 , S12 = %.2f<%.2f VA \n',abs(S_12), atan(imag(S_12),real(S_12))*(180/%pi)) ;\n",
"printf('\n (b) Active power per phase that is being transmitted , P12 = %.2f W \n',P_12) ;\n",
"printf('\n (b) Reactive power per phase that is being transmitted , Q12 = %.2f vars \n',Q_12) ;"
   ]
   }
,
{
		   "cell_type": "markdown",
		   "metadata": {},
		   "source": [
			"## Example 2.C: determine_reactance_Zbhv_Zblv_Xhv_Xlv.sce"
		   ]
		  },
  {
"cell_type": "code",
	   "execution_count": null,
	   "metadata": {
	    "collapsed": true
	   },
	   "outputs": [],
"source": [
"// ELECTRIC POWER TRANSMISSION SYSTEM ENGINEERING ANALYSIS AND DESIGN\n",
"// TURAN GONEN\n",
"// CRC PRESS\n",
"// SECOND EDITION\n",
"\n",
"// APPENDIX C : REVIEW OF BASICS\n",
"\n",
"// EXAMPLE : C.2 :\n",
"clear ; clc ; close ; // Clear the work space and console\n",
"\n",
"// GIVEN DATA\n",
"X_pu = 12/100 ; // Leakage reactance in pu\n",
"kV_B_HV = 345 ; // HV side ratings in Y kV\n",
"kV_B_LV = 34.5 ; // LV side ratings in Y kV\n",
"MVA_B = 20 ; // selected Base on HV side in MVA\n",
"\n",
"// CALCULATIONS\n",
"// For case (a)\n",
"X_pu = 12/100 ; // Reactance of transformer in pu\n",
"\n",
"// For case (b)\n",
"Z_B_HV = (kV_B_HV)^2/MVA_B ; // HV side base impedance in Ω\n",
"\n",
"// For case (c)\n",
"Z_B_LV = (kV_B_LV)^2/MVA_B ; // LV side base impedance in Ω\n",
"\n",
"// For case (d)\n",
"X_HV = X_pu * Z_B_HV ; // Reactance referred to HV side in Ω\n",
"\n",
"// For case (e)\n",
"X_LV = X_pu * Z_B_LV ; // Reactance referred to LV side in Ω\n",
"n = (kV_B_HV/sqrt(3))/(kV_B_LV/sqrt(3)) ; // Turns ratio of winding\n",
"X_LV1 = X_HV/n^2 ; // From equ C.89\n",
"\n",
"// DISPLAY RESULTS\n",
"disp('EXAMPLE : C.2 : SOLUTION :-') ;\n",
"printf('\n (a) Reactance of transformer in pu , X_pu = %.2f pu \n',X_pu) ;\n",
"printf('\n (b) High-voltage side base impedance , Z_B_HV = %.2f Ω \n',Z_B_HV) ;\n",
"printf('\n (c) Low-voltage side base impedance , Z_B_LV = %.4f Ω \n',Z_B_LV) ;\n",
"printf('\n (d) Transformer reactance referred to High-voltage side , X_HV = %.2f Ω \n',X_HV) ;\n",
"printf('\n (e) Transformer reactance referred to Low-voltage side , X_LV = %.4f Ω \n',X_LV) ;\n",
"printf('     (or) From another equation C.89 ,') ;\n",
"printf('\n     Transformer reactance referred to Low-voltage side , X_LV = %.4f Ω \n',X_LV1) ;"
   ]
   }
,
{
		   "cell_type": "markdown",
		   "metadata": {},
		   "source": [
			"## Example 3.C: determine_turns_ratio_Xlv_Xpu.sce"
		   ]
		  },
  {
"cell_type": "code",
	   "execution_count": null,
	   "metadata": {
	    "collapsed": true
	   },
	   "outputs": [],
"source": [
"// ELECTRIC POWER TRANSMISSION SYSTEM ENGINEERING ANALYSIS AND DESIGN\n",
"// TURAN GONEN\n",
"// CRC PRESS\n",
"// SECOND EDITION\n",
"\n",
"// APPENDIX C : REVIEW OF BASICS\n",
"\n",
"// EXAMPLE : C.3 :\n",
"clear ; clc ; close ; // Clear the work space and console\n",
"\n",
"// GIVEN DATA\n",
"X_pu = 12/100 ; // Leakage reactance in pu\n",
"kV_B_HV = 345 ; // HV side ratings in Y kV\n",
"kV_B_LV = 34.5 ; // LV side ratings in Δ kV\n",
"MVA_B = 20 ; // Base on HV side in MVA\n",
"\n",
"// CALCULATIONS\n",
"// For case (a)\n",
"n = ( kV_B_HV/sqrt(3) )/kV_B_LV ; // Turns ratio of windings\n",
"\n",
"// For case (b)\n",
"Z_B_HV = (kV_B_HV)^2/MVA_B ; // HV side base impedance in Ω\n",
"X_HV = X_pu * Z_B_HV ; // Reactance referred to HV side in Ω\n",
"X_LV = X_HV/(n^2) ; // transformer reactance referred to delta LV side in Ω\n",
"\n",
"// For case (c)\n",
"Z_dt = X_LV ;\n",
"Z_Y = Z_dt/3 ; // Reactance of equi wye connection\n",
"Z_B_LV = kV_B_LV^2/MVA_B ; // LV side base impedance in Ω\n",
"X_pu1 = Z_Y/Z_B_LV ; // reactance in pu referred to LV side\n",
"\n",
"// Alternative method For case (c)\n",
"n1 = kV_B_HV/kV_B_LV ; // Turns ratio if line-to-line voltages are used\n",
"X_LV1 = X_HV/(n1^2) ; // Reactance referred to LV side in Ω\n",
"X_pu2 = X_LV1/Z_B_LV ; // reactance in pu referred to LV side\n",
"\n",
"// DISPLAY RESULTS\n",
"disp('EXAMPLE : C.3 : SOLUTION :-') ;\n",
"printf('\n (a) Turns ratio of windings , n = %.4f \n',n) ;\n",
"printf('\n (b) Transformer reactance referred to LV side in ohms ,X_LV = %.4f Ω \n',X_LV) ;\n",
"printf('\n (c) Transformer reactance referred to LV side in per units ,X_pu = %.2f pu \n',X_pu1) ;\n",
"printf('\n    (or) From another equation if line-to-line voltages are used ,') ;\n",
"printf('\n     Transformer reactance referred to LV side in per units ,X_pu = %.2f pu \n',X_pu2) ;"
   ]
   }
,
{
		   "cell_type": "markdown",
		   "metadata": {},
		   "source": [
			"## Example 4.C: determine_KVA_KV_Zb_Ib_I_new_Zpu_V1_V2_V4_S1_S2_S4_table.sce"
		   ]
		  },
  {
"cell_type": "code",
	   "execution_count": null,
	   "metadata": {
	    "collapsed": true
	   },
	   "outputs": [],
"source": [
"// ELECTRIC POWER TRANSMISSION SYSTEM ENGINEERING ANALYSIS AND DESIGN\n",
"// TURAN GONEN\n",
"// CRC PRESS\n",
"// SECOND EDITION\n",
"\n",
"// APPENDIX C : REVIEW OF BASICS\n",
"\n",
"// EXAMPLE : C.4 :\n",
"clear ; clc ; close ; // Clear the work space and console\n",
"\n",
"// GIVEN DATA\n",
"I_1 = 1000 ; // Physical current in A for 2.4 kV circuit\n",
"Z_pu = 0.04 ; // Leakage reactance in pu\n",
"I_pu = 2.08*exp(%i*(-90)*%pi/180) ; // Generator supply for pure inductive load \n",
"kVA_Bg1 = 6000 ; // Rated kVA values for T1\n",
"kVA_Bg2 = 4000 ; // Rated kVA values for T2\n",
"N2 = 2.4 ; // N2 = V2 in Y kV ,refer fig C.4\n",
"N1 = 24 ; // N1 = V1 in Y kV ,refer fig C.4\n",
"N3 = 24 ; // N3 = V3 = N1 in Y kV ,refer fig C.4\n",
"N4 = 12 ; // N4 = V4 in Y kV ,refer fig C.4\n",
"\n",
"// CALCULATIONS\n",
"// For case (a)\n",
"kVA_B = 2080 ; // arbitrarily selected kVA values for all 3 ckt\n",
"\n",
"// For case (b)\n",
"n1 = N2/N1 ; // Turns ratio of transformer T1 & T2 i.e N2/N1\n",
"n2 = N3/N4 ; // Turns ratio N1'/N2'\n",
"kV_BL_L1 = 2.5 ; // arbitrarily selected Base voltage for 2.4 kV ckt in kV\n",
"kV_BL_L2 = kV_BL_L1/n1 ; // arbitrarily selected Base voltage for 24 kV ckt in kV\n",
"kV_BL_L3 = kV_BL_L2/n2 ; // arbitrarily selected Base voltage for 12 kV ckt in kV\n",
"\n",
"// For case (c)\n",
"Z_B1 = (kV_BL_L1)^(2) * 1000/(kVA_B) ; // Base impedance in Ω for 2.4 kV ckt\n",
"Z_B2 = (kV_BL_L2)^(2) * 1000/(kVA_B) ; // Base impedance in Ω for 24 kV ckt\n",
"Z_B3 = (kV_BL_L3)^(2) * 1000/(kVA_B) ; // Base impedance in Ω for 12 kV ckt\n",
"\n",
"// For case (d)\n",
"I_B1 = kVA_B/(sqrt(3)*kV_BL_L1) ; // Base current in A for 2.4 kV ckt\n",
"I_B2 = kVA_B/(sqrt(3)*kV_BL_L2) ; // Base current in A for 24 kV ckt\n",
"I_B3 = kVA_B/(sqrt(3)*kV_BL_L3) ; // Base current in A for 12 kV ckt\n",
"\n",
"// For case (e)\n",
"I_2 = (n1) * I_1 ; // Physical current in A for 24 kV circuit\n",
"I_4 = (n2) * I_2 ; // Physical current in A for 12 kV circuit\n",
"\n",
"// For case (f)\n",
"I_pu_3ckt = abs(I_pu) ; // per-unit current values for all 3-ckt\n",
"\n",
"// For case (g)\n",
"kV_B1 = N2 ; // Given voltage in kV\n",
"kV_B2 = N4 ; // Given voltage in kV\n",
"Z_pu_T1 = (%i)*Z_pu*(kVA_B/kVA_Bg1)*(kV_B1/kV_BL_L1)^(2) ; // New reactance of T1\n",
"Z_pu_T2 = (%i)*Z_pu*(kVA_B/kVA_Bg2)*(kV_B2/kV_BL_L3)^(2) ; // New reactance of T2\n",
"\n",
"// For case (h)\n",
"V1 = kV_B1/kV_BL_L1 ; // voltage in pu at bus 1\n",
"V2 = V1 - I_pu * (Z_pu_T1) ; // voltage in pu at bus 2\n",
"V4 = V2 - I_pu * (Z_pu_T2) ; // voltage in pu at bus 3\n",
"\n",
"// For case (i)\n",
"S1 = V1 * abs(I_pu) ; // Apparent power value at bus 1 in pu\n",
"S2 = V2 * abs(I_pu) ; // Apparent power value at bus 2 in pu\n",
"S4 = V4 * abs(I_pu) ; // Apparent power value at bus 4 in pu\n",
"\n",
"// DISPLAY RESULTS\n",
"disp('EXAMPLE : C.3 : SOLUTION :-') ;\n",
"printf('\n (a) Base kilovoltampere value for all 3-circuits is , kVA_B = %.1f kVA \n',kVA_B) ;\n",
"printf('\n (b) Base line-to-line kilovolt value for 2.4 kV circuit , kV_BL_L = %.1f kV \n',kV_BL_L1) ;\n",
"printf('\n     Base line-to-line kilovolt value for 24 kV circuit , kV_BL_L = %.1f kV \n',kV_BL_L2) ;\n",
"printf('\n     Base line-to-line kilovolt value for 24 kV circuit , kV_BL_L = %.1f kV \n',kV_BL_L3) ;\n",
"printf('\n (c) Base impedance value of 2.4 kV circuit , Z_B = %.3f Ω \n',Z_B1) ;\n",
"printf('\n     Base impedance value of 24 kV circuit , Z_B = %.1f Ω \n',Z_B2) ;\n",
"printf('\n     Base impedance value of 12.5 kV circuit , Z_B = %.1f Ω \n',Z_B3) ;\n",
"printf('\n (d) Base current value of 2.4 kV circuit , I_B = %d A \n',I_B1) ;\n",
"printf('\n     Base current value of 24 kV circuit , I_B = %d A \n',I_B2) ;\n",
"printf('\n     Base current value of 2.4 kV circuit , I_B = %d A \n',I_B3) ;\n",
"printf('\n (e) Physical current of 2.4 kV circuit , I = %.f A \n',I_1) ;\n",
"printf('\n     Physical current of 24 kV circuit , I = %.f A \n',I_2) ;\n",
"printf('\n     Physical current of 12 kV circuit , I = %.f A \n',I_4) ;\n",
"printf('\n (f) Per unit current values for all 3 circuits , I_pu = %.2f pu \n',I_pu_3ckt) ;\n",
"printf('\n (g) New transformer reactance of T1 , Z_pu_T1 =  j%.4f pu \n',abs(Z_pu_T1)) ;\n",
"printf('\n     New transformer reactance of T2 , Z_pu_T2 =  j%.4f pu \n',abs(Z_pu_T2)) ;\n",
"printf('\n (h) Per unit voltage value at bus 1 ,V1 = %.2f<%.1f pu \n',abs(V1),atand(imag(V1),real(V1))) ;\n",
"printf('\n     Per unit voltage value at bus 2 ,V2 = %.4f<%.1f pu \n',abs(V2),atand(imag(V2),real(V2))) ;\n",
"printf('\n     Per unit voltage value at bus 4 ,V4 = %.4f<%.1f pu \n',abs(V4),atand(imag(V4),real(V4))) ;\n",
"printf('\n (i) Per-unit apparent power value at bus 1 , S1 = %.2f pu \n',S1) ;\n",
"printf('\n     Per-unit apparent power value at bus 2 , S2 = %.4f pu \n',S2) ;\n",
"printf('\n     Per-unit apparent power value at bus 4 , S4 = %.4f pu \n',S4) ;\n",
"printf('\n (j) TABLE C.2 \n') ;\n",
"printf('\n     Results Of Example C.4 \n') ;\n",
"printf('\n     ___________________________________________________________________________________') ;\n",
"printf('\n     QUANTITY      \t  2.4-kV circuit   \t  24-kV circuit   \t  12-kV circuit   ');\n",
"printf('\n     ___________________________________________________________________________________') ;\n",
"printf('\n     kVA_B(3-Φ)    \t  %d kVA           \t  %d kVA          \t  %d kVA \n',kVA_B,kVA_B,kVA_B) ;\n",
"printf('\n     kV_B(L-L)     \t  %.1f kV          \t  %d kV           \t  %.1f kV \n',kV_BL_L1,kV_BL_L2,kV_BL_L3) ;\n",
"printf('\n     Z_B           \t  %.3f Ω           \t  %.1f Ω          \t  %.1f Ω \n',Z_B1,Z_B2,Z_B3) ;\n",
"printf('\n     I_B           \t  %d A             \t  %d A            \t  %d A \n',I_B1,I_B2,I_B3) ;\n",
"printf('\n     I_physical    \t  %d A             \t  %.f A           \t  %.f A \n',I_1,I_2,I_4) ;\n",
"printf('\n     I_pu          \t  %.2f pu          \t  %.2f pu         \t  %.2f pu \n',I_pu_3ckt,I_pu_3ckt,I_pu_3ckt) ;\n",
"printf('\n     V_pu          \t  %.2f pu          \t  %.4f pu         \t  %.4f pu \n',abs(V1),abs(V2),abs(V4)) ;\n",
"printf('\n     S_pu          \t  %.2f pu          \t  %.4f pu         \t  %.4f pu \n',S1,S2,S4) ;\n",
"printf('     ___________________________________________________________________________________') ;"
   ]
   }
,
{
		   "cell_type": "markdown",
		   "metadata": {},
		   "source": [
			"## Example 5.C: determine_inductive_reactance_using_equ_C135_and_tables.sce"
		   ]
		  },
  {
"cell_type": "code",
	   "execution_count": null,
	   "metadata": {
	    "collapsed": true
	   },
	   "outputs": [],
"source": [
"// ELECTRIC POWER TRANSMISSION SYSTEM ENGINEERING ANALYSIS AND DESIGN\n",
"// TURAN GONEN\n",
"// CRC PRESS\n",
"// SECOND EDITION\n",
"\n",
"// APPENDIX C : REVIEW OF BASICS\n",
"\n",
"// EXAMPLE : C.5 :\n",
"clear ; clc ; close ; // Clear the work space and console\n",
"\n",
"// GIVEN DATA\n",
"D_ab = 6.8 ; // distance b/w conductors center-to-center in ft\n",
"D_bc = 5.5 ; // distance b/w conductors center-to-center in ft\n",
"D_ca = 4 ; // distance b/w conductors center-to-center in ft\n",
"\n",
"// CALCULATIONS\n",
"// For case (a)\n",
"D_eq = (D_ab * D_bc * D_ca)^(1/3) ; // Equi spacing for pole top in ft\n",
"D_s = 0.01579 ; // GMR in ft From Table A.1\n",
"X_L = 0.1213 * log(D_eq/D_s) ; // Inductive reactance in Ω/mi . From equ C.135\n",
"\n",
"// For case (b)\n",
"X_a = 0.503 ; // Inductive reactance in Ω/mi From Table A.1 \n",
"X_d = 0.2026 ; // From Table A.8 for D_eq,by linear interpolation in Ω/mi\n",
"X_L1 = X_a + X_d ; // Inductive reactance in Ω/mi\n",
"\n",
"// DISPLAY RESULTS\n",
"disp('EXAMPLE : C.5 : SOLUTION :-') ;\n",
"printf('\n (a) Inductive reactance using equation C.135 , X_L = %.4f Ω/mi \n',X_L );\n",
"printf('\n (b) Inductive reactance using tables , X_L = %.4f Ω/mi \n',X_L1) ;"
   ]
   }
,
{
		   "cell_type": "markdown",
		   "metadata": {},
		   "source": [
			"## Example 6.C: determine_shunt_capacitive_reactance_using_equ_C156_and_tables.sce"
		   ]
		  },
  {
"cell_type": "code",
	   "execution_count": null,
	   "metadata": {
	    "collapsed": true
	   },
	   "outputs": [],
"source": [
"// ELECTRIC POWER TRANSMISSION SYSTEM ENGINEERING ANALYSIS AND DESIGN\n",
"// TURAN GONEN\n",
"// CRC PRESS\n",
"// SECOND EDITION\n",
"\n",
"// APPENDIX C : REVIEW OF BASICS\n",
"\n",
"// EXAMPLE : C.6 :\n",
"clear ; clc ; close ; // Clear the work space and console\n",
"\n",
"// GIVEN DATA\n",
"D_ab = 6.8 ; // distance b/w conductors center-to-center in ft\n",
"D_bc = 5.5 ; // distance b/w conductors center-to-center in ft\n",
"D_ca = 4 ; // distance b/w conductors center-to-center in ft\n",
"l = 100 ; // Line length in miles\n",
"\n",
"// CALCULATIONS\n",
"// For case (a)\n",
"D_m = (D_ab * D_bc * D_ca)^(1/3) ; // Equi spacing for pole top in ft\n",
"r = 0.522/(2 * 12) ; // feet\n",
"X_C = 0.06836 * log10 (D_m/r) ; // Shunt capacitive reactance in MΩ*mi\n",
"\n",
"// For case (b)\n",
"X_a = 0.1136 ; // Shunt capacitive reactance in MΩ*mi , From table A.1\n",
"X_d = 0.049543 ; // Shunt capacitive reactance spacing factor in MΩ*mi , From table A.9\n",
"X_C1 = X_a + X_d ; // Shunt capacitive reactance in MΩ*mi\n",
"X_C2 = X_C1/l ; // Capacitive reactance of 100 mi line in MΩ\n",
"\n",
"// DISPLAY RESULTS\n",
"disp('EXAMPLE : C.6 : SOLUTION :-') ;\n",
"printf('\n (a) Shunt capacitive reactance using equation C.156 , X_C = %.6f MΩ*mi \n',X_C) ;\n",
"printf('\n (b) Shunt capacitive reactance using tables , X_C = %.6f MΩ*mi \n',X_C1) ;\n",
"printf('\n (c) Capacitive reactance of total line , X_C = %.5e MΩ \n',X_C2) ;"
   ]
   }
],
"metadata": {
		  "kernelspec": {
		   "display_name": "Scilab",
		   "language": "scilab",
		   "name": "scilab"
		  },
		  "language_info": {
		   "file_extension": ".sce",
		   "help_links": [
			{
			 "text": "MetaKernel Magics",
			 "url": "https://github.com/calysto/metakernel/blob/master/metakernel/magics/README.md"
			}
		   ],
		   "mimetype": "text/x-octave",
		   "name": "scilab",
		   "version": "0.7.1"
		  }
		 },
		 "nbformat": 4,
		 "nbformat_minor": 0
}
