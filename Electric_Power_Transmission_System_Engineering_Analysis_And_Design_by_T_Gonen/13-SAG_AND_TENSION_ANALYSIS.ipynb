{
"cells": [
 {
		   "cell_type": "markdown",
	   "metadata": {},
	   "source": [
       "# Chapter 13: SAG AND TENSION ANALYSIS"
	   ]
	},
{
		   "cell_type": "markdown",
		   "metadata": {},
		   "source": [
			"## Example 13.1: calculate_length_sag_Tmax_Tmin_Tappr.sce"
		   ]
		  },
  {
"cell_type": "code",
	   "execution_count": null,
	   "metadata": {
	    "collapsed": true
	   },
	   "outputs": [],
"source": [
"// ELECTRIC POWER TRANSMISSION SYSTEM ENGINEERING ANALYSIS AND DESIGN\n",
"// TURAN GONEN\n",
"// CRC PRESS\n",
"// SECOND EDITION\n",
"\n",
"// CHAPTER : 13 : SAG AND TENSION ANALYSIS\n",
"\n",
"// EXAMPLE : 13.1 :\n",
"clear ; clc ; close ; // Clear the work space and console\n",
"\n",
"// GIVEN DATA\n",
"c = 1600 ; // Length of conductor in feet\n",
"L = 500 ; // span b/w conductors in ft\n",
"w1 = 4122 ; // Weight of conductor in lb/mi\n",
"\n",
"// CALCULATIONS\n",
"// For case (a)\n",
"l = 2 * c *( sinh(L/(2*c)) ) ; // Length of conductor in ft using eq 13.6\n",
"l_1 = L * (1 + (L^2)/(24*c^2) ) ; // Length of conductor in ft using eq 13.8\n",
"\n",
"// For case (b)\n",
"d = c*( cosh( L/(2*c) ) - 1 ) ; // sag in ft\n",
"\n",
"// For case (c)\n",
"w = w1/5280 ; // Weight of conductor in lb/ft . [1 mile = 5280 feet]\n",
"T_max = w * (c + d) ; // Max conductor tension in lb\n",
"T_min = w * c ; // Min conductor tension in lb\n",
"\n",
"// For case (d)\n",
"T = w * (L^2)/(8*d) ; // Appr value of tension in lb using parabolic method\n",
"\n",
"// DISPLAY RESULTS\n",
"disp('EXAMPLE : 13.1 : SOLUTION :-') ;\n",
"printf('\n (a) Length of conductor using eq 13.6 , l = %.3f ft \n',l) ;\n",
"printf('\n  &  Length of conductor using eq 13.8 , l = %.4f ft \n',l_1) ;\n",
"printf('\n (b) Sag , d = %.1f ft \n',d) ;\n",
"printf('\n (c) Maximum value of conductor tension using catenary method , T_max = %.1f lb \n',T_max) ;\n",
"printf('\n     Minimum value of conductor tension using catenary method , T_min = %.1f lb \n',T_min) ;\n",
"printf('\n (d) Approximate value of tension using parabolic method , T = %.2f lb \n',T) ;"
   ]
   }
,
{
		   "cell_type": "markdown",
		   "metadata": {},
		   "source": [
			"## Example 13.2: calculate_Wi_Wt_P_We_sag_vertical_sag.sce"
		   ]
		  },
  {
"cell_type": "code",
	   "execution_count": null,
	   "metadata": {
	    "collapsed": true
	   },
	   "outputs": [],
"source": [
"// ELECTRIC POWER TRANSMISSION SYSTEM ENGINEERING ANALYSIS AND DESIGN\n",
"// TURAN GONEN\n",
"// CRC PRESS\n",
"// SECOND EDITION\n",
"\n",
"// CHAPTER : 13 : SAG AND TENSION ANALYSIS\n",
"\n",
"// EXAMPLE : 13.2 :\n",
"clear ; clc ; close ; // Clear the work space and console\n",
"\n",
"// GIVEN DATA\n",
"L = 500 ; // span b/w conductors in ft\n",
"p = 4 ; // Horizontal wind pressure in lb/sq ft\n",
"t_i = 0.50 ; // Radial thickness of ice in inches\n",
"d_c = 1.093 ; // outside diameter of ACSR conductor in inches\n",
"w1 = 5399 ; // weight of conductor in lb/mi\n",
"s = 28500 ; // ultimate strength in lb\n",
"\n",
"// CALCULATIONS\n",
"// For case (a)\n",
"w_i = 1.25 * t_i * (d_c + t_i) ; // Weight of ice in pounds per feet\n",
"\n",
"// For case (b)\n",
"w = w1/5280 ; // weight of conductor in lb/ft . [1 mile = 5280 feet]\n",
"W_T = w + w_i ; // Total vertical load on conductor in pounds per feet\n",
"\n",
"// For case (c)\n",
"P = ( (d_c + 2*t_i)/(12) )*p ; // Horizontal wind force in lb/ft\n",
"\n",
"// For case (d)\n",
"w_e = sqrt( P^2 + (w + w_i)^2 ) ; // Effective load on conductor in lb/ft\n",
"\n",
"// For case (e)\n",
"T = s/2 ;\n",
"d = w_e * L^2/(8*T) ; // sag in feet\n",
"\n",
"// For case (f)\n",
"d_v = d * W_T/w_e ; // vertical sag in feet\n",
"\n",
"// DISPLAY RESULTS\n",
"disp('EXAMPLE :13.2 : SOLUTION :-') ;\n",
"printf('\n (a) Weight of ice in pounds per feet , w_i = %.4f lb/ft \n',w_i) ;\n",
"printf('\n (b) Total vertical load on conductor in pounds per feet , W_T = %.4f lb/ft \n',W_T) ;\n",
"printf('\n (c) Horizontal wind force in pounds per feet , P = %.4f lb/ft \n',P) ;\n",
"printf('\n (d) Effective load acting in pounds per feet , w_e = %.4f lb/ft \n',w_e) ;\n",
"printf('\n (e) Sag in feet , d = %.2f ft \n',d) ;\n",
"printf('\n (f) Vertical Sag in feet  = %.2f ft \n',d_v) ;"
   ]
   }
],
"metadata": {
		  "kernelspec": {
		   "display_name": "Scilab",
		   "language": "scilab",
		   "name": "scilab"
		  },
		  "language_info": {
		   "file_extension": ".sce",
		   "help_links": [
			{
			 "text": "MetaKernel Magics",
			 "url": "https://github.com/calysto/metakernel/blob/master/metakernel/magics/README.md"
			}
		   ],
		   "mimetype": "text/x-octave",
		   "name": "scilab",
		   "version": "0.7.1"
		  }
		 },
		 "nbformat": 4,
		 "nbformat_minor": 0
}
