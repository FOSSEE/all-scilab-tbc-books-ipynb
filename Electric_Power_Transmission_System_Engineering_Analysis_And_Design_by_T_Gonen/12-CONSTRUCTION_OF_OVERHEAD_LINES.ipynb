{
"cells": [
 {
		   "cell_type": "markdown",
	   "metadata": {},
	   "source": [
       "# Chapter 12: CONSTRUCTION OF OVERHEAD LINES"
	   ]
	},
{
		   "cell_type": "markdown",
		   "metadata": {},
		   "source": [
			"## Example 12.1: calculate_cost_of_relocating_affordability.sce"
		   ]
		  },
  {
"cell_type": "code",
	   "execution_count": null,
	   "metadata": {
	    "collapsed": true
	   },
	   "outputs": [],
"source": [
"// ELECTRIC POWER TRANSMISSION SYSTEM ENGINEERING ANALYSIS AND DESIGN\n",
"// TURAN GONEN\n",
"// CRC PRESS\n",
"// SECOND EDITION\n",
"\n",
"// CHAPTER : 12 : CONSTRUCTION OF OVERHEAD LINES\n",
"\n",
"// EXAMPLE : 12.1 :\n",
"clear ; clc ; close ; // Clear the work space and console\n",
"\n",
"// GIVEN DATA\n",
"cost_avg = 1500 ; // Average cost on each repair in $\n",
"r_0 = 0 ; // No. of times repair required for damage to line\n",
"r_1 = 1 ; // No. of times repair required\n",
"r_2 = 2 ; // No. of times repair required\n",
"r_3 = 3 ; // No. of times repair required\n",
"P_r_0 = 0.4 ; // Probability of exactly no. of repairs for r_0\n",
"P_r_1 = 0.3 ; // Probability of exactly no. of repairs for r_1\n",
"P_r_2 = 0.2 ; // Probability of exactly no. of repairs for r_2\n",
"P_r_3 = 0.1 ; // Probability of exactly no. of repairs for r_3\n",
"R_0 = 0 ; // No. of times repair required for relocating & rebuilding\n",
"R_1 = 1 ; // No. of times repair required\n",
"P_R_0 = 0.9 ; // Probability of exactly no. of repairs for R_0\n",
"P_R_1 = 0.1 ; // Probability of exactly no. of repairs for R_1\n",
"n = 25 ; // useful life in years\n",
"i = 20/100 ; // carrying charge rate\n",
"p = ((1 + i)^n - 1)/(i*(1+i)^n) ; // p = P/A . Refer page 642\n",
"\n",
"// CALCULATIONS\n",
"B = cost_avg*(r_0*P_r_0 + r_1*P_r_1 + r_2*P_r_2 + r_3*P_r_3 - R_0*P_R_0 - R_1*P_R_1)*p ; // Affordable cost of relocating line\n",
"\n",
"// DISPLAY RESULTS\n",
"disp('EXAMPLE : 12.1 : SOLUTION :-') ;\n",
"printf('\n Affordable cost of relocating line , B = $ %.1f \n',B) ;\n",
"printf('\n  Since actual relocating & rebuilding of line would cost much more than amount found \n') ;\n",
"printf('\n  The distribution engineer decides to keep the status quo \n') ;"
   ]
   }
,
{
		   "cell_type": "markdown",
		   "metadata": {},
		   "source": [
			"## Example 12.2: calculate_pressure_of_wind_on_pole_and_conductors.sce"
		   ]
		  },
  {
"cell_type": "code",
	   "execution_count": null,
	   "metadata": {
	    "collapsed": true
	   },
	   "outputs": [],
"source": [
"// ELECTRIC POWER TRANSMISSION SYSTEM ENGINEERING ANALYSIS AND DESIGN\n",
"// TURAN GONEN\n",
"// CRC PRESS\n",
"// SECOND EDITION\n",
"\n",
"// CHAPTER : 12 : CONSTRUCTION OF OVERHEAD LINES\n",
"\n",
"// EXAMPLE : 12.2 :\n",
"clear ; clc ; close ; // Clear the work space and console\n",
"\n",
"// GIVEN DATA\n",
"V = 40 ; // Actual wind velocity in mi/hr\n",
"c_pg = 40 ; // Circumference at ground level in inches\n",
"c_pt = 28 ; // Circumference at pole top in inches\n",
"l = 35 ; // height of pole in feet\n",
"l_g = 6 ; // Height of pole set in ground in feet\n",
"d_c = 0.81 ; // dia. of copper conductor in inches\n",
"span_avg = 120 ; // Average span in ft\n",
"no_c = 8 ; // NO. of conductors\n",
"\n",
"// CALCULATIONS\n",
"// For case (a)\n",
"p = 0.00256 * (V^2) ; // Buck's Formula to find wind pressure on cylindrical surface in lb/ft^2 \n",
"d_pg = c_pg/(%pi) ; // dia. of pole at ground line in inches\n",
"d_pt = c_pt/(%pi) ; // dia. of pole at pole top in inches\n",
"h_ag = ( l - l_g ) * 12 ; // Height of pole above ground in inch\n",
"S_pni = (1/2) * (d_pg + d_pt) * h_ag ; // projected area of pole in square inch\n",
"S_pni_ft = S_pni * 0.0069444 ; // projected area of pole in square ft\n",
"P = S_pni_ft * p ; // Total pressure of wind on pole in lb\n",
"\n",
"// For case (b)\n",
"S_ni = d_c * span_avg * 12 ; // Projected area of conductor in square inch . [1 feet = 12 inch]\n",
"S_ni_ft = S_ni * 0.0069444 ; // Projected area of conductor in square ft . [1 sq inch = (0.0833333)^2 sq feet ≅ 0.069444 sq feet]\n",
"P_C = S_ni_ft * p * no_c ; // Total pressure of wind on conductor in lb\n",
"\n",
"// DISPLAY RESULTS\n",
"disp('EXAMPLE : 12.2 : SOLUTION :-');\n",
"printf('\n (a) Total pressure of wind on pole , P = %.2f lb \n',P);\n",
"printf('\n (b) Total pressure of wind on conductors , P = %.2f lb \n',P_C);"
   ]
   }
,
{
		   "cell_type": "markdown",
		   "metadata": {},
		   "source": [
			"## Example 12.3: calculate_min_required_pole_circumference_at_ground_line.sce"
		   ]
		  },
  {
"cell_type": "code",
	   "execution_count": null,
	   "metadata": {
	    "collapsed": true
	   },
	   "outputs": [],
"source": [
"// ELECTRIC POWER TRANSMISSION SYSTEM ENGINEERING ANALYSIS AND DESIGN\n",
"// TURAN GONEN\n",
"// CRC PRESS\n",
"// SECOND EDITION\n",
"\n",
"// CHAPTER : 12 : CONSTRUCTION OF OVERHEAD LINES\n",
"\n",
"// EXAMPLE : 12.3 :\n",
"clear ; clc ; close ; // Clear the work space and console\n",
"\n",
"// GIVEN DATA\n",
"a = 45 ; // OH line to be bulit on wood poles in ft\n",
"b = 6.5 ; // Ground depth in ft\n",
"c = 1 ; // Top cross-arm below pole top in ft\n",
"d = 3 ; // Lower cross-arm below pole top in ft\n",
"m_t = 0.6861 ; // Transverse wind load on top cross-arm in lb/ft\n",
"m_l = 0.4769 ; // Transverse wind load on lower cross-arm in lb/ft\n",
"u_s = 8000 ; // Ultimate strength of wood pole in lb/sq.in\n",
"sf = 2 ; // Safety factor\n",
"span_avg = 250 ; // Average span in ft\n",
"p = 9 ; // Transverse wind load on wood poles in clb/sq.ft\n",
"\n",
"// CALCULATIONS\n",
"h_1j = a - b - c ; // Moment arms for top arm in ft\n",
"h_2j = a - b - d ; // Moment arms for top arm in ft\n",
"M_tc1 = 1 * 4* m_t * span_avg * h_1j ; // Total bending moment for top arm in lb-ft\n",
"M_tc2 = 1 * 4* m_l * span_avg * h_2j ; // Total bending moment for lower arm in lb-ft\n",
"M_tc = M_tc1 + M_tc2 ; // Total bending moment for both cross-arms together in lb-ft\n",
"S = u_s/sf ; // Allowable max fiber stress in pounds per sq.inch\n",
"c_pg = ( M_tc/( 2.6385*10^-4*S ) )^(1/3) ; // circumference of pole at ground line in inch\n",
"\n",
"c_pt = 22 ; // From proper tables , for 8000 psi , \n",
"h_ag = a - b ; // Height of pole above ground in ft\n",
"d_pg = c_pg/(%pi) ; // circumference of pole at ground line in inches\n",
"d_pt = c_pt/(%pi) ; // circumference of pole at pole top in inches\n",
"M_gp = (1/72)*p *(h_ag^2)*(d_pg + 2*d_pt) ; // Bending moment due to wind on pole in pound ft . using equ 12.9\n",
"M_T = M_tc + M_gp ; // Total bending moment due to wind on conductor & pole\n",
"c_pg1 = (M_T/( 2.6385 * 10^-4 * S ) )^(1/3) ; // using equ 12.11\n",
"\n",
"// DISPLAY RESULTS\n",
"disp('EXAMPLE : 12.3 : SOLUTION :-') ;\n",
"printf('\n Minimum required pole circumference at the ground line , c = %.1f in \n',c_pg1) ;\n",
"printf('\n Therefore , the nearest standard size pole,which has a ground-line circumference larger than c = %.1f in , has to be used \n',c_pg1) ;\n",
"printf('\n Therefore required pole circumference at the ground line to be used is , c = %.f inch \n',c_pg1) ;"
   ]
   }
,
{
		   "cell_type": "markdown",
		   "metadata": {},
		   "source": [
			"## Example 12.4: calculate_Th_beta_Tv_Tg.sce"
		   ]
		  },
  {
"cell_type": "code",
	   "execution_count": null,
	   "metadata": {
	    "collapsed": true
	   },
	   "outputs": [],
"source": [
"// ELECTRIC POWER TRANSMISSION SYSTEM ENGINEERING ANALYSIS AND DESIGN\n",
"// TURAN GONEN\n",
"// CRC PRESS\n",
"// SECOND EDITION\n",
"\n",
"// CHAPTER : 12 : CONSTRUCTION OF OVERHEAD LINES\n",
"\n",
"// EXAMPLE : 12.4 :\n",
"clear ; clc ; close ; // Clear the work space and console\n",
"\n",
"// GIVEN DATA\n",
"T1 = 3000 ; // Bending moments in lb\n",
"T2 = 2500 ; // Bending moments in lb\n",
"h1 = 37.5 ; // Bending moments at heights in ft\n",
"h2 = 35.5 ; // Bending moments at heights in ft\n",
"h_g = 36.5 ; // Height at which Guy is attached to pole in ft\n",
"L = 15 ; // Lead of guy in ft\n",
"\n",
"// CALCULATIONS\n",
"// For case (a)\n",
"T_h = ( T1*h1 + T2*h2 )/h_g ; // Horizontal component of tension in guy wire in lb . From equ 12.26\n",
"\n",
"// For case (b)\n",
"bet = atand(h_g/L) ; // beta angle in degree . From equ 12.28\n",
"\n",
"// For case (c)\n",
"T_v = T_h * tand(bet) ; // Vertical component of tension in guy wire in lb . From equ 12.34\n",
"\n",
"// For case (d)\n",
"T_g = T_h/( cosd(bet )) ; // Tension in guy wire in lb . From equ 12.29\n",
"T_g1 = sqrt( T_h^2 + T_v^2 ) ; // Tension in guy wire in lb\n",
"\n",
"// DISPLAY RESULTS\n",
"disp('EXAMPLE : 12.4 : SOLUTION :-') ;\n",
"printf('\n (a) Horizontal component of tension in guy wire , T_h = %.1f lb \n',T_h) ;\n",
"printf('\n (b) Angle β , β = %.2f degree \n',bet) ;\n",
"printf('\n (c) Vertical component of tension in guy wire , T_v = %.2f lb \n',T_v) ;\n",
"printf('\n (d) Tension in guy wire , T_g = %.1f lb \n',T_g) ;\n",
"printf('\n     (or)  From another equation , \n') ;\n",
"printf('\n     Tension in guy wire , T_g = %.1f lb \n',T_g1) ;"
   ]
   }
],
"metadata": {
		  "kernelspec": {
		   "display_name": "Scilab",
		   "language": "scilab",
		   "name": "scilab"
		  },
		  "language_info": {
		   "file_extension": ".sce",
		   "help_links": [
			{
			 "text": "MetaKernel Magics",
			 "url": "https://github.com/calysto/metakernel/blob/master/metakernel/magics/README.md"
			}
		   ],
		   "mimetype": "text/x-octave",
		   "name": "scilab",
		   "version": "0.7.1"
		  }
		 },
		 "nbformat": 4,
		 "nbformat_minor": 0
}
