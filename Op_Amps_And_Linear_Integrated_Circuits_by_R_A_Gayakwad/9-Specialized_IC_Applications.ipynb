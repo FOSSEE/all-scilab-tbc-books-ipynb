{
"cells": [
 {
		   "cell_type": "markdown",
	   "metadata": {},
	   "source": [
       "# Chapter 9: Specialized IC Applications"
	   ]
	},
{
		   "cell_type": "markdown",
		   "metadata": {},
		   "source": [
			"## Example 9.10: Design_of_current_source.sce"
		   ]
		  },
  {
"cell_type": "code",
	   "execution_count": null,
	   "metadata": {
	    "collapsed": true
	   },
	   "outputs": [],
"source": [
"// Chapter9\n",
"// Page.No-440\n",
"// Example_9_10\n",
"// Design of current source\n",
"// Given\n",
"clear;clc;\n",
"Vr=5; // Voltage in volt\n",
"Il=0.25; // Load current in ampere\n",
"Rl=48; // Load resistance in ohm\n",
"dropout_volt=2; // Constant for IC7805C\n",
"R=Vr/Il; // Approximate result sice Iq is negligible in the eq. Il=(Vr/Il)+Iq where Iq is quiescent current\n",
"printf('\n Resistance R is = %.f ohm \n',R) // Result\n",
"Vl=Rl*Il;\n",
"Vo=Vr+Vl;\n",
"printf('\n Output voltage Vo is = %.f V \n',Vo) // Result\n",
"Vin=Vo+dropout_volt;\n",
"printf('\n Min input voltage Vin is = %.f V \n',Vin) // Result"
   ]
   }
,
{
		   "cell_type": "markdown",
		   "metadata": {},
		   "source": [
			"## Example 9.11: Design_of_voltage_regulator.sce"
		   ]
		  },
  {
"cell_type": "code",
	   "execution_count": null,
	   "metadata": {
	    "collapsed": true
	   },
	   "outputs": [],
"source": [
"// Chapter9\n",
"// Page.No-444\n",
"// Example_9_11\n",
"// Design of voltage regulator\n",
"// Given\n",
"clear;clc;\n",
"Vo_min=5; // Min output voltage in volt\n",
"Vo_max=12; // Max output voltage in volt\n",
"Vref=1.25; // Reference voltage in volt\n",
"Iadj=100*10^-6; // Adjustment pin current in ampere\n",
"R1=240; // Assumption\n",
"R2_min=R1*(Vo_min-Vref)/(Vref+Iadj*R1); // Using Vo_min=Vref*(1+R2/R1)+Iadj*R2\n",
"printf('\n Resistance R2_min is = %.1f ohm \n',R2_min) // Result\n",
"R2_max=R1*(Vo_max-Vref)/(Vref+Iadj*R1); // Using Vo_max=Vref*(1+R2/R1)+Iadj*R2\n",
"printf('\n Resistance R2_max is = %.1f ohm \n',R2_max) // Result\n",
"printf('\n Therefore resistance should be varied from R2_min to R2_max values.To do this we take R2 as 3kohm potentiometer \n')\n",
"C2=1*10^-6; // Added to the circuit to improve transient response\n",
"C3=1*10^-6; // Added to the circuit to obtain high ripple rejection ratios"
   ]
   }
,
{
		   "cell_type": "markdown",
		   "metadata": {},
		   "source": [
			"## Example 9.12: Design_of_stepdown_switching_regulator.sce"
		   ]
		  },
  {
"cell_type": "code",
	   "execution_count": null,
	   "metadata": {
	    "collapsed": true
	   },
	   "outputs": [],
"source": [
"// Chapter9\n",
"// Page.No-453\n",
"// Example_9_12\n",
"// Design of stepdown switching regulator\n",
"// Given\n",
"clear;clc;\n",
"Iomax=500*10^-3; // Max output current in ampere\n",
"Vo=5; // Output voltage in volt\n",
"Vd=1.25; // Voltage drop across the power diode in volt\n",
"Vin=12; // Input voltage in volt\n",
"Vs=1.1; // Output saturation voltage in volt\n",
"Vripple=50*10^-3; // Output ripple voltage in volt\n",
"Vref=1.245; // Reference voltage in volt\n",
"Vr2=1.2; // Voltage across resistance R2 in volt\n",
"Ipk=2*Iomax; // Sense current in ampere\n",
"printf('\n Sense current,Ipk is = %.f A \n',Ipk) // Result\n",
"Rsc=0.33/Ipk; // Sense resistance in ohm\n",
"printf('\n Sense resistance,Rsc is = %.2f ohm \n',Rsc) // Result\n",
"K=(Vo+Vd)/(Vin-Vs-Vo); // K= ton/toff\n",
"printf('\n Constant K = %.2f  \n',K) // Result\n",
"printf('\n i.e, ton is K times of toff \n')\n",
"f=20*10^3; // Assuming operating freq in Hz\n",
"T=1/f;\n",
"toff=T/2.06; // Using ton+toff=T and substituting for ton\n",
"printf('\n OFF time period,toff is = %.8f sec \n',toff) // Result\n",
"ton=1.06*toff;\n",
"printf('\n ON time period,ton is = %.8f sec \n',ton) // Result\n",
"Ct=45*10^-5*toff; // Oscillator timing capacitance in farad\n",
"printf('\n Oscillator timing capacitance,Ct is = %.10f F \n',Ct) // Result\n",
"L=((Vo+Vd)/Ipk)*toff; // Inductance in henry\n",
"printf('\n Inductance,L is = %.8f H \n',L) // Result\n",
"Co=Ipk*((ton+toff)/(8*Vripple)); // Output capacitance in farad\n",
"printf('\n Output capacitance,Co is = %.7f F \n',Co) // Result\n",
"I2=0.1*10^-3; // Assuming the current through R2\n",
"R2=Vref/I2; // Resistance R2 in ohm\n",
"printf('\n Resistance R2 is = %.1f ohm \n',R2) // Result\n",
"R2=12*10^3; // Taking approximate value\n",
"R1=(R2*(Vo-Vr2))/Vr2; // Using Vr2=(R1*Vo)/R1+R2, voltage divider rule\n",
"printf('\n Resistance R1 is = %.1f ohm \n',R1) // Result\n",
"efficiency=((Vin-Vs+Vd)/Vin)*(Vo/(Vo+Vd))*100;\n",
"printf('\n efficiency is = %.1f \n',efficiency) // Result"
   ]
   }
,
{
		   "cell_type": "markdown",
		   "metadata": {},
		   "source": [
			"## Example 9.13: Design_of_stepdown_switching_regulator.sce"
		   ]
		  },
  {
"cell_type": "code",
	   "execution_count": null,
	   "metadata": {
	    "collapsed": true
	   },
	   "outputs": [],
"source": [
"// Chapter9\n",
"// Page.No-458\n",
"// Example_9_13\n",
"// Design of stepdown switching regulator\n",
"// Given\n",
"clear;clc;\n",
"Iomax=3; // Max output current in ampere\n",
"Vo=5; // Output voltage in volt\n",
"Vd=1.25; // Voltage drop across the power diode in volt\n",
"Vin=12; // Input voltage in volt\n",
"Vs=1.1; // Output saturation voltage in volt\n",
"Vripple=50*10^-3; // Output ripple voltage in volt\n",
"Vref=1.245; // Reference voltage in volt\n",
"Vr2=1.2; // Voltage across resistance R2 in volt\n",
"Ipk=2*Iomax; // Sense current in ampere\n",
"printf('\n Sense current,Ipk is = %.f A \n',Ipk) // Result\n",
"Rsc=0.33/Ipk; // Sense resistance in ohm\n",
"printf('\n Sense resistance,Rsc is = %.3f ohm \n',Rsc) // Result\n",
"K=(Vo+Vd)/(Vin-Vs-Vo); // K= ton/toff\n",
"printf('\n Constant K = %.2f  \n',K) // Result\n",
"printf('\n i.e, ton is K times of toff \n')\n",
"f=20*10^3; // Assuming operating freq in Hz\n",
"T=1/f;\n",
"toff=T/2.06; // Using ton+toff=T and substituting for ton\n",
"printf('\n OFF time period,toff is = %.8f sec \n',toff) // Result\n",
"ton=1.06*toff;\n",
"printf('\n ON time period,ton is = %.8f sec \n',ton) // Result\n",
"Ct=45*10^-5*toff; // Oscillator timing capacitance in farad\n",
"printf('\n Oscillator timing capacitance,Ct is = %.10f F \n',Ct) // Result\n",
"L=((Vo+Vd)/Ipk)*toff; // Inductance in henry\n",
"printf('\n Inductance,L is = %.8f H \n',L) // Result\n",
"Co=Ipk*((ton+toff)/(8*Vripple)); // Output capacitance in farad\n",
"printf('\n Output capacitance,Co is = %.7f F \n',Co) // Result"
   ]
   }
,
{
		   "cell_type": "markdown",
		   "metadata": {},
		   "source": [
			"## Example 9.1: Second_order_inverting_butterworth_lowpass_filter.sce"
		   ]
		  },
  {
"cell_type": "code",
	   "execution_count": null,
	   "metadata": {
	    "collapsed": true
	   },
	   "outputs": [],
"source": [
"// Chapter9\n",
"// Page.No-387\n",
"// Example_9_1\n",
"// Second order inverting butterworth lowpass filter\n",
"// Given\n",
"clear;clc;\n",
"dc_gain=5;\n",
"f1=2*10^3; // Cutoff freq in Hz\n",
"Q=10; // Figure of merit\n",
"R2=(316*10^3)/10; // Resistance R2\n",
"printf('\n Resistance R2 is = %.1f ohm \n',R2) // Result\n",
"R3=(100*10^3)/((3.16*Q)-1);\n",
"printf('\n Resistance R3 is = %.1f ohm \n',R3) // Result\n",
"printf('\n Resistance R1 is Open \n') // Result\n",
"R4=(5.03*10^7)/f1;\n",
"printf('\n Resistance R4 is = %.1f ohm \n',R4) // Result\n",
"R5=R4;\n",
"printf('\n Resistance R5 is = %.1f ohm \n',R5) // Result\n",
"R6=1.8*10^3; // Assumption\n",
"R7=dc_gain*R6;\n",
"printf('\n Resistance R7 is = %.1f ohm \n',R7) // Result and its a potentiometer\n",
"R8=(R6*R7)/(R6+R7);\n",
"printf('\n Resistance R8 is = %.3f ohm \n',R8) // Result"
   ]
   }
,
{
		   "cell_type": "markdown",
		   "metadata": {},
		   "source": [
			"## Example 9.2: Second_order_inverting_butterworth_bandpass_filter.sce"
		   ]
		  },
  {
"cell_type": "code",
	   "execution_count": null,
	   "metadata": {
	    "collapsed": true
	   },
	   "outputs": [],
"source": [
"// Chapter9\n",
"// Page.No-388\n",
"// Example_9_2\n",
"// Second order inverting butterworth bandpass filter\n",
"// Given\n",
"clear;clc;\n",
"f1=5*10^3; // Center freq in Hz\n",
"Q=10; // Figure of merit\n",
"R2=100*10^3; // Constant for band-pass filter\n",
"printf('\n Resistance R2 is = %.1f ohm \n',R2) // Result\n",
"R3=(100*10^3)/((3.48*Q)-1);\n",
"printf('\n Resistance R3 is = %.1f ohm \n',R3) // Result\n",
"printf('\n Resistance R1 is Open \n') // Result\n",
"R4=(5.03*10^7)/f1;\n",
"printf('\n Resistance R4 is = %.1f ohm \n',R4) // Approximately 10kohm\n",
"R5=R4;\n",
"printf('\n Resistance R5 is = %.1f ohm \n',R5) // Approximately 10kohm and its a potentiometer"
   ]
   }
,
{
		   "cell_type": "markdown",
		   "metadata": {},
		   "source": [
			"## Example 9.3: Design_of_notch_filter.sce"
		   ]
		  },
  {
"cell_type": "code",
	   "execution_count": null,
	   "metadata": {
	    "collapsed": true
	   },
	   "outputs": [],
"source": [
"// Chapter9\n",
"// Page.No-390\n",
"// Example_9_3\n",
"// Design of notch filter\n",
"// Given\n",
"clear;clc;\n",
"f1=5*10^3; // notch freq in Hz\n",
"Q=10; // Figure of merit\n",
"R2=100*10^3; // Constant for band-pass filter\n",
"printf('\n Resistance R2 is = %.1f ohm \n',R2) // Result\n",
"R3=(100*10^3)/((3.48*Q)-1);\n",
"printf('\n Resistance R3 is = %.1f ohm \n',R3) // Result\n",
"printf('\n Resistance R1 is Open \n') // Result\n",
"R4=(5.03*10^7)/f1;\n",
"printf('\n Resistance R4 is = %.1f ohm \n',R4) // Approximately 10kohm\n",
"R5=R4;\n",
"printf('\n Resistance R5 is = %.1f ohm \n',R5) // Approximately 10kohm and its a potentiometer\n",
"R6=10*10^3; // Assumption\n",
"printf('\n Resistance R6 is = %.1f ohm \n',R6) // Result\n",
"R7=R6;\n",
"printf('\n Resistance R7 is = %.1f ohm \n',R7) // Result\n",
"R8=R6;\n",
"printf('\n Resistance R8 is = %.1f ohm \n',R8) // Result\n",
"R9=(R6*R7*R8)/(R6*R7+R6*R8+R7*R8); // Since R6||R7||R8\n",
"printf('\n Resistance R9 is = %.1f ohm \n',R9) // Result"
   ]
   }
,
{
		   "cell_type": "markdown",
		   "metadata": {},
		   "source": [
			"## Example 9.4: Second_order_butterworth_lowpass_filter.sce"
		   ]
		  },
  {
"cell_type": "code",
	   "execution_count": null,
	   "metadata": {
	    "collapsed": true
	   },
	   "outputs": [],
"source": [
"// Chapter9\n",
"// Page.No-398\n",
"// Example_9_4\n",
"// Second order butterworth lowpass filter\n",
"// Given\n",
"clear;clc;\n",
"f1=500; // Cut-off freq in Hz\n",
"Holp=-2; // Passband gain\n",
"R1=10*10^3; // Assumption\n",
"R2=-R1*Holp; // Using Holp=-R2/R1;\n",
"printf('\n Resistance R2 is = %.1f ohm \n',R2) // Result\n",
"Q=0.707; // Figure of merit Q is fixed for second order butterworth low-pass filter\n",
"R3=Q*R2; // Using Q=R3/R2\n",
"printf('\n Resistance R3 is = %.1f ohm \n',R3) // Approximately 15kohm"
   ]
   }
,
{
		   "cell_type": "markdown",
		   "metadata": {},
		   "source": [
			"## Example 9.5: Value_of_capacitor.sce"
		   ]
		  },
  {
"cell_type": "code",
	   "execution_count": null,
	   "metadata": {
	    "collapsed": true
	   },
	   "outputs": [],
"source": [
"// Chapter9\n",
"// Page.No-402, Figure.No-9.16(a)\n",
"// Example_9_5\n",
"// Value of capacitor\n",
"// Given\n",
"clear;clc;\n",
"Ra=10*10^3; // Resistance in ohm\n",
"tp=10*10^-3; // Output pulse width\n",
"C=tp/(1.1*Ra);\n",
"printf('\n Capacitance C is = %.9f farad \n',C) // Approximately 1uF"
   ]
   }
,
{
		   "cell_type": "markdown",
		   "metadata": {},
		   "source": [
			"## Example 9.6: Value_of_resistor.sce"
		   ]
		  },
  {
"cell_type": "code",
	   "execution_count": null,
	   "metadata": {
	    "collapsed": true
	   },
	   "outputs": [],
"source": [
"// Chapter9\n",
"// Page.No-402, Figure.No-9.16(a)\n",
"// Example_9_6\n",
"// Value of resistor\n",
"// Given\n",
"clear;clc;\n",
"f=2*10^3; // Freq of input trigger signal in Hz\n",
"C=0.01*10^-6;\n",
"tp=1.2/f;\n",
"Ra=tp/(1.1*C);\n",
"printf('\n Resistance Ra is = %.1f ohm \n',Ra) // Result"
   ]
   }
,
{
		   "cell_type": "markdown",
		   "metadata": {},
		   "source": [
			"## Example 9.7: Value_of_tc_td_and_f0.sce"
		   ]
		  },
  {
"cell_type": "code",
	   "execution_count": null,
	   "metadata": {
	    "collapsed": true
	   },
	   "outputs": [],
"source": [
"// Chapter9\n",
"// Page.No-402, Figure.No-9.21(a)\n",
"// Example_9_7\n",
"// Value of tc,td and f0\n",
"// Given\n",
"clear;clc;\n",
"Ra=2.2*10^3; // Resistance in ohm\n",
"Rb=3.9*10^3;  // Resistance in ohm\n",
"C=0.1*10^-6; // capacitance in farad\n",
"tc=0.69*(Ra+Rb)*C; // Charging time of the capacitor\n",
"printf('\n Charging time of the capacitor is = %.6f sec \n',tc) // Result\n",
"td=0.69*Rb*C; // Discharging time of the capacitor\n",
"printf('\n Discharging time of the capacitor is = %.6f sec \n',td) // Result\n",
"T=tc+td;\n",
"fo=1/T // Freq of oscillation\n",
"printf('\n Freq of oscillation is = %.1f Hz \n',fo) // Result"
   ]
   }
,
{
		   "cell_type": "markdown",
		   "metadata": {},
		   "source": [
			"## Example 9.8: Freq_of_free_running_ramp_generator.sce"
		   ]
		  },
  {
"cell_type": "code",
	   "execution_count": null,
	   "metadata": {
	    "collapsed": true
	   },
	   "outputs": [],
"source": [
"// Chapter9\n",
"// Page.No-412, Figure.No-9.24(a)\n",
"// Example_9_8\n",
"// Freq of free running ramp generator\n",
"// Given\n",
"clear;clc;\n",
"R=10*10^3; // Resistance in ohm\n",
"Vcc=5 // Supply voltage in volt\n",
"Vbe=0.7 // Base to emitter voltage in volt\n",
"C=0.05*10^-6; // Capacitance in farad\n",
"Ic=(Vcc-Vbe)/R; // Collector current in ampere\n",
"fo=(3*Ic)/(Vcc*C);\n",
"printf('\n Freq of free running ramp generator is = %.1f Hz \n',fo) // Result"
   ]
   }
,
{
		   "cell_type": "markdown",
		   "metadata": {},
		   "source": [
			"## Example 9.9: Value_of_fout_fl_fc.sce"
		   ]
		  },
  {
"cell_type": "code",
	   "execution_count": null,
	   "metadata": {
	    "collapsed": true
	   },
	   "outputs": [],
"source": [
"// Chapter9\n",
"// Page.No-423, Figure.No-9.33(a)\n",
"// Example_9_9\n",
"// Value of fout,fl,fc\n",
"// Given\n",
"clear;clc;\n",
"R1=12*10^3; // Resistance in ohm\n",
"V_plus=10 // Supply voltage in volt\n",
"V_minus=-10 // Supply voltage in volt\n",
"C1=0.01*10^-6; // Capacitance in farad\n",
"C2=10*10^-6; // Capacitance in farad\n",
"fout=1.2/(4*R1*C1);\n",
"printf('\n Free running frequency of VCO is = %.1f Hz \n',fout) // Result\n",
"V=V_plus-V_minus;\n",
"fl=(8*fout)/V;\n",
"printf('\n Lock range frequency of VCO is = %.1f Hz \n',fl) // Result\n",
"fc=sqrt(fl/(2*%pi*3.6*10^3*C2));\n",
"printf('\n Capture range frequency of VCO is = %.2f Hz \n',fc) // Result"
   ]
   }
],
"metadata": {
		  "kernelspec": {
		   "display_name": "Scilab",
		   "language": "scilab",
		   "name": "scilab"
		  },
		  "language_info": {
		   "file_extension": ".sce",
		   "help_links": [
			{
			 "text": "MetaKernel Magics",
			 "url": "https://github.com/calysto/metakernel/blob/master/metakernel/magics/README.md"
			}
		   ],
		   "mimetype": "text/x-octave",
		   "name": "scilab",
		   "version": "0.7.1"
		  }
		 },
		 "nbformat": 4,
		 "nbformat_minor": 0
}
