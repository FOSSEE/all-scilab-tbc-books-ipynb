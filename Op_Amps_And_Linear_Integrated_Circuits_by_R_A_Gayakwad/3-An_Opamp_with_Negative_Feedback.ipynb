{
"cells": [
 {
		   "cell_type": "markdown",
	   "metadata": {},
	   "source": [
       "# Chapter 3: An Opamp with Negative Feedback"
	   ]
	},
{
		   "cell_type": "markdown",
		   "metadata": {},
		   "source": [
			"## Example 3.1: Parameters_Of_voltageseries_feedback_amplifier.sce"
		   ]
		  },
  {
"cell_type": "code",
	   "execution_count": null,
	   "metadata": {
	    "collapsed": true
	   },
	   "outputs": [],
"source": [
"// Chapter3\n",
"// Page.No-75, Figure.No-3.2\n",
"// Example_3_1\n",
"// Parameters of voltage-series feedback amplifier\n",
"// Given\n",
"clear;clc;\n",
"R1=1000;Rf=10000;\n",
"A=200000; // Open-loop voltage gain\n",
"Ri=2*10^6; // Input resistance without feedback\n",
"Ro=75; // Output resistance without feedback\n",
"fo=5; // Break frequency of an Op-amp\n",
"Vsat=13; // Saturation voltage\n",
"B=R1/(R1+Rf); // Gain of the feedback circuit\n",
"Af=A/(1+A*B);  // Closed-loop voltage gain\n",
"printf('\n Closed-loop voltage gain is Af = %.2f \n',Af) // Result\n",
"RiF=Ri*(1+A*B); // Input resistance with feedback\n",
"printf('\n Input resistance with feedback is RiF = %.2f ohms \n',RiF) // Result\n",
"RoF=Ro/(1+A*B); // Output resistance with feedback\n",
"printf('\n Output resistance with feedback is RoF = %f ohms \n',RoF) // Result\n",
"fF=fo*(1+A*B); // Bandwidth with feedback\n",
"printf('\n Bandwidth with feedback is vo = %.1f Hz \n',fF) // Result\n",
"VooT=Vsat/(1+A*B); // Total output offset voltage with feedback\n",
"printf('\n Total output offset voltage with feedback is VooT = %f V \n',VooT) // Result"
   ]
   }
,
{
		   "cell_type": "markdown",
		   "metadata": {},
		   "source": [
			"## Example 3.2: Parameters_Of_voltageseries_feedback_amplifier.sce"
		   ]
		  },
  {
"cell_type": "code",
	   "execution_count": null,
	   "metadata": {
	    "collapsed": true
	   },
	   "outputs": [],
"source": [
"// Chapter3\n",
"// Page.No-83, Figure.No-3.7\n",
"// Example_3_2\n",
"// Parameters of voltage-series feedback amplifier\n",
"// Given\n",
"clear;clc;\n",
"R1=1000;Rf=10000;\n",
"A=200000; // Open-loop voltage gain\n",
"Ri=2*10^6; // Input resistance without feedback\n",
"Ro=75; // Output resistance without feedback\n",
"fo=5; // Break frequency of an Op-amp\n",
"Vsat=13; // Saturation voltage\n",
"B=1; // Gain of the feedback circuit and it is equal to 1 for voltage follower\n",
"Af=A/(1+A*B);  // Closed-loop voltage gain\n",
"printf('\n Closed-loop voltage gain is Af = %.f \n',Af) // Result\n",
"RiF=Ri*(1+A*B); // Input resistance with feedback\n",
"printf('\n Input resistance with feedback is RiF = %.1f ohms \n',RiF) // Result\n",
"RoF=Ro/(1+A*B); // Output resistance with feedback\n",
"printf('\n Output resistance with feedback is RoF = %f ohms \n',RoF) // Result\n",
"fF=fo*(1+A*B); // Bandwidth with feedback\n",
"printf('\n Bandwidth with feedback is vo = %.1f Hz \n',fF) // Result\n",
"VooT=Vsat/(1+A*B); // Total output offset voltage with feedback\n",
"printf('\n Total output offset voltage with feedback is VooT = %f V \n',VooT) // Result"
   ]
   }
,
{
		   "cell_type": "markdown",
		   "metadata": {},
		   "source": [
			"## Example 3.3: Parameters_of_Voltageshunt_feedback_amplifier.sce"
		   ]
		  },
  {
"cell_type": "code",
	   "execution_count": null,
	   "metadata": {
	    "collapsed": true
	   },
	   "outputs": [],
"source": [
"// Chapter3\n",
"// Page.No-86, Figure.No-3.8\n",
"// Example_3_3\n",
"// Parameters of voltage-shunt feedback amplifier\n",
"// Given\n",
"clear;clc;\n",
"R1=470;Rf=4.7*10^3;\n",
"A=200000; // Open-loop voltage gain \n",
"Ri=2*10^6;// Input resistance without feedback\n",
"Ro=75; // Output resistance without feedback\n",
"fo=5; // Break frequency of an Op-amp\n",
"Vsat=13; // Saturation voltage\n",
"K=Rf/(R1+Rf); // Voltage attenuation factor\n",
"B=R1/(R1+Rf); // Gain of the feedback circuit\n",
"Af=-(A*K)/(1+A*B);  // Closed-loop voltage gain\n",
"printf('\n Closed-loop voltage gain is Af = %.f \n',Af) // Result\n",
"X=Rf/(1+A);\n",
"RiF=R1+(X*Ri)/(X+Ri); // Input resistance with feedback\n",
"printf('\n Input resistance with feedback is RiF = %.1f ohms \n',RiF) // Result\n",
"RoF=Ro/(1+A*B); // Output resistance with feedback\n",
"printf('\n Output resistance with feedback is RoF = %f ohms \n',RoF) // Result\n",
"fF=fo*(1+A*B)/K; // Bandwidth with feedback\n",
"printf('\n Bandwidth with feedback is vo = %.2f Hz \n',fF) // Result\n",
"VooT=Vsat/(1+A*B); // Total output offset voltage with feedback\n",
"printf('\n Total output offset voltage with feedback is VooT = %f V \n',VooT) // Result"
   ]
   }
,
{
		   "cell_type": "markdown",
		   "metadata": {},
		   "source": [
			"## Example 3.4: Output_voltage_of_voltage_shunt_feedback_amplifier.sce"
		   ]
		  },
  {
"cell_type": "code",
	   "execution_count": null,
	   "metadata": {
	    "collapsed": true
	   },
	   "outputs": [],
"source": [
"// Chapter3\n",
"// Page.No-86, Figure.No-3.8\n",
"// Example_3_4\n",
"// Output voltage of voltage-shunt feedback amplifier\n",
"// Given\n",
"clear;clc;\n",
"R1=470;Rf=4.7*10^3;\n",
"A=200000; // Open-loop voltage gain\n",
"vin=1; // Input voltage in volts\n",
"K=Rf/(R1+Rf); // Voltage attenuation factor\n",
"B=R1/(R1+Rf); // Gain of the feedback circuit\n",
"Af=-(A*K)/(1+A*B);  // Closed-loop voltage gain\n",
"vo=Af*vin; // Output voltage\n",
"printf('\n Output voltage is vo = %.f V  \n',vo) // Result\n",
"t=0:0.1:2*%pi;\n",
"vo=-10*sin(t);\n",
"plot(t,vo);\n",
"title('Output Voltage');\n",
"xlabel('t');\n",
"ylabel('Vo');"
   ]
   }
,
{
		   "cell_type": "markdown",
		   "metadata": {},
		   "source": [
			"## Example 3.5_a: Gain_input_resistance_of_the_amplifier.sce"
		   ]
		  },
  {
"cell_type": "code",
	   "execution_count": null,
	   "metadata": {
	    "collapsed": true
	   },
	   "outputs": [],
"source": [
"// Chapter3\n",
"// Page.No-96, Figure.No-3.14\n",
"// Example_3_5_a\n",
"// Gain Input resistance of the amplifier\n",
"// Given\n",
"clear;clc;\n",
"R1=1000;R2=1000;\n",
"Rf=10*10^3;R3=10*10^3;\n",
"AD=-Rf/R1; // Voltage gain\n",
"printf('\n Voltage gain is AD = %.f \n',AD) // Result\n",
"RiFx=R1; // Input resistance of inverting amplifier\n",
"printf('\n Input resistance of inverting amplifier is RiFx = %.f ohms \n',RiFx) // Result\n",
"RiFy=R2+R3; // Input resistance of non-inverting amplifier \n",
"printf('\n Input resistance of non-inverting amplifier is RiFy = %.f ohms \n',RiFy) // Result"
   ]
   }
,
{
		   "cell_type": "markdown",
		   "metadata": {},
		   "source": [
			"## Example 3.5_b: Output_voltage_of_an_Opamp.sce"
		   ]
		  },
  {
"cell_type": "code",
	   "execution_count": null,
	   "metadata": {
	    "collapsed": true
	   },
	   "outputs": [],
"source": [
"// Chapter3\n",
"// Page.No-96, Figure.No-3.14\n",
"// Example_3_5_b\n",
"// Output voltage of an Op-amp\n",
"// Given\n",
"clear;clc;\n",
"vx=2.7;vy=3; //Both input voltages are in volts\n",
"Rf=10*10^3;R1=1000; // Both are in ohms\n",
"AD=-Rf/R1; // Voltage gain\n",
"vxy=vx-vy;\n",
"vo=AD*vxy; // Output voltage\n",
"printf('\n Output voltage is vo = %.f V \n',vo) // Result"
   ]
   }
,
{
		   "cell_type": "markdown",
		   "metadata": {},
		   "source": [
			"## Example 3.6_a: Voltage_gain_and_input_resistance_of_the_Opamp.sce"
		   ]
		  },
  {
"cell_type": "code",
	   "execution_count": null,
	   "metadata": {
	    "collapsed": true
	   },
	   "outputs": [],
"source": [
"// Chapter3\n",
"// Page.No-99, Figure.No-3.16\n",
"// Example_3_6_a\n",
"// Voltage gain and input resistance of Op-amp\n",
"// Given\n",
"clear;clc;\n",
"R1=680;R3=680; // Both are in ohms\n",
"RF=6800;R2=6800; // Both are in ohms\n",
"Ri=2*10^6; // Open-loop input resistance of the op-amp\n",
"vx=-1.5;vy=-2; // Both are in volts\n",
"A=200000; // Open-loop Gain\n",
"AD=1+RF/R1; // Voltage gain\n",
"printf('\n Voltage gain is AD = %.f \n',AD) // Result\n",
"B=R2/(R2+R3);\n",
"RiFy=Ri*(1+A*B); // Input resistance of first stage amplifier\n",
"printf('\n Input resistance of first stage amplifier is RiFy = %.1f ohms \n',RiFy) // Result\n",
"B=R1/(R1+RF);\n",
"RiFx=Ri*(1+A*B); // Input resistance of second stage amplifier\n",
"printf('\n Input resistance of second stage amplifier is RiFx = %.1f ohms \n',RiFx) // Result"
   ]
   }
,
{
		   "cell_type": "markdown",
		   "metadata": {},
		   "source": [
			"## Example 3.6_b: Output_voltage_of_the_Opamp.sce"
		   ]
		  },
  {
"cell_type": "code",
	   "execution_count": null,
	   "metadata": {
	    "collapsed": true
	   },
	   "outputs": [],
"source": [
"// Chapter3\n",
"// Page.No-99, Figure.No-3.16\n",
"// Example_3_6_b\n",
"// Output voltage of the Op-amp\n",
"// Given\n",
"clear;clc;\n",
"R1=680;RF=6800 // Both are in ohms\n",
"vx=-1.5;vy=-2; // Both input voltages are in volts\n",
"AD=1+RF/R1; // Voltage gain\n",
"vxy=vx-vy;\n",
"vo=AD*vxy; // Output voltage\n",
"printf('\n Output voltage is vo = %.1f V \n',vo) // Result"
   ]
   }
],
"metadata": {
		  "kernelspec": {
		   "display_name": "Scilab",
		   "language": "scilab",
		   "name": "scilab"
		  },
		  "language_info": {
		   "file_extension": ".sce",
		   "help_links": [
			{
			 "text": "MetaKernel Magics",
			 "url": "https://github.com/calysto/metakernel/blob/master/metakernel/magics/README.md"
			}
		   ],
		   "mimetype": "text/x-octave",
		   "name": "scilab",
		   "version": "0.7.1"
		  }
		 },
		 "nbformat": 4,
		 "nbformat_minor": 0
}
