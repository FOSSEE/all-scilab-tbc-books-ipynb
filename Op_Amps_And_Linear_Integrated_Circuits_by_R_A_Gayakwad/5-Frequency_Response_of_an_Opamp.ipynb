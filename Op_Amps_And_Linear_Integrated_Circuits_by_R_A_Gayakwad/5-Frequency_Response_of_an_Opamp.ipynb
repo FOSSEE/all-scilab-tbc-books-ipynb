{
"cells": [
 {
		   "cell_type": "markdown",
	   "metadata": {},
	   "source": [
       "# Chapter 5: Frequency Response of an Opamp"
	   ]
	},
{
		   "cell_type": "markdown",
		   "metadata": {},
		   "source": [
			"## Example 5.1: Maximum_gai.sce"
		   ]
		  },
  {
"cell_type": "code",
	   "execution_count": null,
	   "metadata": {
	    "collapsed": true
	   },
	   "outputs": [],
"source": [
" // Chapter5\n",
"// Page.No-171, Figure.No-5.4\n",
"// Example_5_1\n",
"// Maximum gain\n",
"// Given\n",
"clear;clc;\n",
"fo=5; // Break freq of the op-amp in Hz\n",
"s=%s;\n",
"A=200000; // Gain of the op-amp at 0 Hz\n",
"H=syslin('c',(A*fo*2*%pi)/((fo*2*%pi)+s));\n",
"fmin=1;\n",
"fmax=100000;\n",
"bode(H,fmin,fmax);\n",
"Aol=40;\n",
"printf('\n Maximum gain is = %.f dB \n ',Aol); // From the graph"
   ]
   }
,
{
		   "cell_type": "markdown",
		   "metadata": {},
		   "source": [
			"## Example 5.2: Gain_equation_and_break_frequencies.sce"
		   ]
		  },
  {
"cell_type": "code",
	   "execution_count": null,
	   "metadata": {
	    "collapsed": true
	   },
	   "outputs": [],
"source": [
"//Chapter5\n",
"//Page.No-172, Figure.No-5.5\n",
"//Example_5_2\n",
"//Gain equation and break frequencies\n",
"//Given:\n",
"clear;clc;\n",
"phase=-157.5; // Phase shift at about 3 MHz\n",
"f=3*10^6;\n",
"disp('Gain equation is Aol(f)=A/((1+(f/fo1)*j)*(1+(f/fo2)*j)),where fo1-first break frequency and fo2-second break frequency') // From the figure\n",
"fo1=6;\n",
"printf('\n First break frequency fo1 is = %.f Hz \n',fo1) // From the graph\n",
"k=-atand(f/fo1)-phase;\n",
"fo2=f/tand(k);\n",
"printf('\n Second break frequency fo2 is = %.1f Hz \n',fo2) // Result"
   ]
   }
,
{
		   "cell_type": "markdown",
		   "metadata": {},
		   "source": [
			"## Example 5.3: Stability_of_voltage_follower.sce"
		   ]
		  },
  {
"cell_type": "code",
	   "execution_count": null,
	   "metadata": {
	    "collapsed": true
	   },
	   "outputs": [],
"source": [
" // Chapter5\n",
"// Page.No-83, Figure.No-3.7\n",
"// Example_5_3\n",
"// Stability of voltage follower\n",
"// Given\n",
"clear;clc;\n",
"fo=5; // Break freq of the op-amp in Hz\n",
"s=%s;\n",
"A=200000; // Gain of the op-amp at 0 Hz\n",
"H=syslin('c',(A*fo*2*%pi)/((fo*2*%pi)+s));\n",
"fmin=10;\n",
"fmax=1000000;\n",
"bode(H,fmin,fmax);\n",
"Aol=0;\n",
"printf('\n Magnitude at which voltage follower is stable is = %.f dB \n ',Aol); // From the graph"
   ]
   }
],
"metadata": {
		  "kernelspec": {
		   "display_name": "Scilab",
		   "language": "scilab",
		   "name": "scilab"
		  },
		  "language_info": {
		   "file_extension": ".sce",
		   "help_links": [
			{
			 "text": "MetaKernel Magics",
			 "url": "https://github.com/calysto/metakernel/blob/master/metakernel/magics/README.md"
			}
		   ],
		   "mimetype": "text/x-octave",
		   "name": "scilab",
		   "version": "0.7.1"
		  }
		 },
		 "nbformat": 4,
		 "nbformat_minor": 0
}
