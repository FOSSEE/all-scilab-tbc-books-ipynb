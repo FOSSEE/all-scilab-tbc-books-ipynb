{
"cells": [
 {
		   "cell_type": "markdown",
	   "metadata": {},
	   "source": [
       "# Chapter 6: General Linear Applications"
	   ]
	},
{
		   "cell_type": "markdown",
		   "metadata": {},
		   "source": [
			"## Example 6.10: Range_of_input_voltage.sce"
		   ]
		  },
  {
"cell_type": "code",
	   "execution_count": null,
	   "metadata": {
	    "collapsed": true
	   },
	   "outputs": [],
"source": [
"// Chapter6\n",
"// Page.No-220, Figure.No-6.17\n",
"// Example_6_10\n",
"// Range of input voltage\n",
"// Given\n",
"clear;clc;\n",
"R1min=1*10^3;R1max=6.8*10^3;\n",
"io=1*10^-3; // Meter current for full-wave rectification\n",
"vin_min=1.1*R1min*io; // Minimum input voltage\n",
"printf('\n Minimum input voltage is = %.1f V \n',vin_min)\n",
"vin_max=1.1*R1max*io; // Maximum input voltage\n",
"printf('\n Maximum input voltage is = %.2f V \n',vin_max)"
   ]
   }
,
{
		   "cell_type": "markdown",
		   "metadata": {},
		   "source": [
			"## Example 6.11: Current_and_voltage_drop.sce"
		   ]
		  },
  {
"cell_type": "code",
	   "execution_count": null,
	   "metadata": {
	    "collapsed": true
	   },
	   "outputs": [],
"source": [
"// Chapter6\n",
"// Page.No-222, Figure.No-6.18\n",
"// Example_6_11\n",
"// Current and voltage drop\n",
"// Given\n",
"clear;clc;\n",
"Vin=0.5;Vo=1.2;\n",
"R1=100;\n",
"Io=Vin/R1; // Current through diode\n",
"printf('\n Current through diode is = %.4f A \n',Io)\n",
"Vd=Vo-Vin; // Voltage drop across diode\n",
"printf('\n Voltage drop across diode is = %.1f V \n',Vd)"
   ]
   }
,
{
		   "cell_type": "markdown",
		   "metadata": {},
		   "source": [
			"## Example 6.12_a: Load_current.sce"
		   ]
		  },
  {
"cell_type": "code",
	   "execution_count": null,
	   "metadata": {
	    "collapsed": true
	   },
	   "outputs": [],
"source": [
"// Chapter6\n",
"// Page.No-222, Figure.No-6.19\n",
"// Example_6_12_a\n",
"// Load current\n",
"// Given\n",
"clear;clc;\n",
"Vin=5;V1=1;\n",
"R=10*10^3;\n",
"Il=Vin/R; // Load current\n",
"printf('\n Load current is = %.5f A \n',Il)"
   ]
   }
,
{
		   "cell_type": "markdown",
		   "metadata": {},
		   "source": [
			"## Example 6.12_b: Output_voltage.sce"
		   ]
		  },
  {
"cell_type": "code",
	   "execution_count": null,
	   "metadata": {
	    "collapsed": true
	   },
	   "outputs": [],
"source": [
"// Chapter6\n",
"// Page.No-222, Figure.No-6.19\n",
"// Example_6_12_b\n",
"// Output voltage\n",
"// Given\n",
"clear;clc;\n",
"Vin=5;V1=1;\n",
"R=10*10^3;\n",
"Vo=2*V1; // Output voltage\n",
"printf('\n Output voltage is = %.f V \n',Vo)"
   ]
   }
,
{
		   "cell_type": "markdown",
		   "metadata": {},
		   "source": [
			"## Example 6.13: Range_of_output_voltage.sce"
		   ]
		  },
  {
"cell_type": "code",
	   "execution_count": null,
	   "metadata": {
	    "collapsed": true
	   },
	   "outputs": [],
"source": [
"// Chapter6\n",
"// Page.No-222, Figure.No-6.20\n",
"// Example_6_13\n",
"// Range of output voltage\n",
"// Given\n",
"clear;clc;\n",
"R1=1*10^3;Rf=2.7*10^3;\n",
"Vref=2;\n",
"Io=0; // Since all the binary inputs D0 to D7 are logic zero\n",
"Vo_min=Io*Rf; // Minimum output voltage\n",
"printf('\n Minimum output voltage is = %.f V \n',Vo_min)\n",
"Io=(Vref/R1)*(1/2+1/4+1/8+1/16+1/32+1/64+1/128+1/256);\n",
"Vo_max=Io*Rf; // Maximum output voltage\n",
"printf('\n Maximum output voltage is = %.2f V \n',Vo_max)"
   ]
   }
,
{
		   "cell_type": "markdown",
		   "metadata": {},
		   "source": [
			"## Example 6.14: Change_in_output_voltage.sce"
		   ]
		  },
  {
"cell_type": "code",
	   "execution_count": null,
	   "metadata": {
	    "collapsed": true
	   },
	   "outputs": [],
"source": [
"// Chapter6\n",
"// Page.No-228, Figure.No-6.21\n",
"// Example_6_14\n",
"// Change in output voltage\n",
"// Given\n",
"clear;clc;\n",
"Rf=3*10^3;\n",
"Vdc=5;\n",
"Rt=100*10^3; // Resistance at darkness\n",
"Vomin=-(Vdc/Rt)*Rf; // Min output voltage at darkness\n",
"printf('\n Min output voltage at darkness is = %.2f V \n',Vomin)\n",
"Rt=1.5*10^3; // Resistance at Illumination\n",
"Vomax=-(Vdc/Rt)*Rf; // Max output voltage at Illumination\n",
"printf('\n Max output voltage at Illumination is = %.f V \n',Vomax)"
   ]
   }
,
{
		   "cell_type": "markdown",
		   "metadata": {},
		   "source": [
			"## Example 6.15: Output_voltage_of_an_integrator.sce"
		   ]
		  },
  {
"cell_type": "code",
	   "execution_count": null,
	   "metadata": {
	    "collapsed": true
	   },
	   "outputs": [],
"source": [
"// Chapter6\n",
"// Page.No-230, Figure.No-6.23\n",
"// Example_6_15\n",
"// Output voltage of an integrator\n",
"// Given \n",
"clear;clc;\n",
"Vin=2; // Input voltage in volt\n",
"Vo0=0;\n",
"Vo1=-integrate('2','t',0,1);\n",
"disp(Vo1)\n",
"Vo2=-integrate('2','t',1,2)+Vo1;\n",
"disp(Vo2)\n",
"Vo3=-integrate('2','t',2,3)+Vo2;\n",
"disp(Vo3)\n",
"Vo4=-integrate('2','t',3,4)+Vo3;\n",
"disp(Vo4)\n",
"Vo=[Vo0 Vo1 Vo2 Vo3 Vo4];\n",
"t=[0 1 2 3 4];\n",
"plot(t,Vo);\n",
"title('Output Voltage');\n",
"xlabel('t');\n",
"ylabel('Vo');\n",
""
   ]
   }
,
{
		   "cell_type": "markdown",
		   "metadata": {},
		   "source": [
			"## Example 6.16_a: Design_of_differentiator.sce"
		   ]
		  },
  {
"cell_type": "code",
	   "execution_count": null,
	   "metadata": {
	    "collapsed": true
	   },
	   "outputs": [],
"source": [
"// Chapter6\n",
"// Page.No-238\n",
"// Example_6_16_a\n",
"// Design of differentiator\n",
"// Given\n",
"clear;clc;\n",
"C1=0.1*10^-6; // Assume\n",
"fa=1*10^3; // Freq at which gain is 0 dB\n",
"Rf=1/(2*%pi*fa*C1); // Using fa=1/(2*%pi*Rf*C1)\n",
"printf('\n Feedback resistance is = %.1f ohm \n',Rf)\n",
"Rf=1.5*10^3; // Approximation\n",
"fb=20*10^3; // Gain limiting freq\n",
"R1=1/(2*%pi*fb*C1);\n",
"printf('\n Resistance,R1 is = %.1f ohm \n',R1)\n",
"R1=82; // Approximation\n",
"Cf=R1*C1/Rf;\n",
"printf('\n Capacitance,Cf is = %.10f farad \n',Cf)\n",
"Cf=0.005*10^-6; // Approximation"
   ]
   }
,
{
		   "cell_type": "markdown",
		   "metadata": {},
		   "source": [
			"## Example 6.16_b: Output_waveform_of_differentiator.sce"
		   ]
		  },
  {
"cell_type": "code",
	   "execution_count": null,
	   "metadata": {
	    "collapsed": true
	   },
	   "outputs": [],
"source": [
"// Chapter6\n",
"// Page.No-238\n",
"// Example_6_16_b\n",
"// Output waveform of differentiator\n",
"// Given\n",
"clear;clc;\n",
"step=0.01;\n",
"t=0:step:2*%pi;\n",
"dy=diff(sin(t))/step; //approximate differentiation of sine function\n",
"Vo=-1.5*10^3*0.1*10^-6*2*%pi*10^3*dy;\n",
"plot(Vo);\n",
"title('Output Voltage');\n",
"xlabel('t');\n",
"ylabel('Vo'); "
   ]
   }
,
{
		   "cell_type": "markdown",
		   "metadata": {},
		   "source": [
			"## Example 6.1: Bandwidth_of_the_amplifier.sce"
		   ]
		  },
  {
"cell_type": "code",
	   "execution_count": null,
	   "metadata": {
	    "collapsed": true
	   },
	   "outputs": [],
"source": [
"// Chapter6\n",
"// Page.No-193, Figure.No-6.3(a)\n",
"// Example_6_1\n",
"// Bandwidth of the amplifier\n",
"// Given\n",
"clear;clc;\n",
"R1=100;Rf=1*10^3;Rin=50;Rl=10*10^3;\n",
"Ci=0.1*10^-6; // Capacitance b/w 2 stages being coupled \n",
"RiF=R1; // ac input resistance of the second stage\n",
"Ro=Rin; // ac output resistance of the 1st stage\n",
"UGB=10^6; // Unity gain bandwidth\n",
"fl=1/(2*%pi*Ci*(RiF+Ro)); // Low-freq cutoff \n",
"printf('\n Low-freq cutoff is = %.1f Hz \n',fl) // Result\n",
"K=Rf/(R1+Rf);\n",
"Af=-Rf/R1; // closed loop voltage gain\n",
"fh=UGB*K/abs(Af); // High-freq cutoff\n",
"printf('\n High-freq cutoff is = %.1f Hz \n',fh) // Result\n",
"BW=fh-fl; // Bandwidth\n",
"printf('\n Bandwidth is = %.1f Hz \n',BW) // Result"
   ]
   }
,
{
		   "cell_type": "markdown",
		   "metadata": {},
		   "source": [
			"## Example 6.2_a: Bandwidth_of_the_amplifier.sce"
		   ]
		  },
  {
"cell_type": "code",
	   "execution_count": null,
	   "metadata": {
	    "collapsed": true
	   },
	   "outputs": [],
"source": [
"// Chapter6\n",
"// Page.No-193, Figure.No-6.4(c)\n",
"// Example_6_2_a\n",
"// Bandwidth of the amplifier\n",
"// Given\n",
"clear;clc;\n",
"R1=100*10^3;R2=100*10^3;R3=100*10^3;Rf=1*10^6;Rin=50;\n",
"Ci=0.1*10^-6; // Capacitance b/w 2 stages being coupled\n",
"Ro=Rin; // ac output resistance of the 1st stage\n",
"Vcc=15;\n",
"UGB=10^6; // Unity gain bandwidth\n",
"Rif=R2*R3/(R2+R3);  // since Ri*(1+A*B)>>R2 or R3\n",
"fl=1/(2*%pi*Ci*(Rif+Ro)); // low-freq cutoff \n",
"printf('\n Low-freq cutoff is = %.1f Hz \n',fl) // Result\n",
"K=Rf/(R1+Rf);\n",
"Af=-Rf/R1; // closed loop voltage gain\n",
"fh=UGB*K/abs(Af); // High-freq cutoff\n",
"printf('\n High-freq cutoff is = %.1f Hz \n',fh) // Result\n",
"BW=fh-fl; // Bandwidth\n",
"printf('\n Bandwidth is = %.1f Hz \n',BW) // Result"
   ]
   }
,
{
		   "cell_type": "markdown",
		   "metadata": {},
		   "source": [
			"## Example 6.2_b: Max_output_voltage_swing.sce"
		   ]
		  },
  {
"cell_type": "code",
	   "execution_count": null,
	   "metadata": {
	    "collapsed": true
	   },
	   "outputs": [],
"source": [
"// Chapter6\n",
"// Page.No-193, Figure.No-6.4(c)\n",
"// Example_6_2_b\n",
"// Max output voltage swing\n",
"// Given\n",
"clear;clc;\n",
"R1=100*10^3;R2=100*10^3;R3=100*10^3;Rf=1*10^6;Rin=50;\n",
"Ci=0.1*10^-6; // Capacitance b/w 2 stages being coupled\n",
"Ro=Rin; // ac output resistance of the 1st stage\n",
"UGB=10^6; // Unity gain bandwidth\n",
"Vcc=15;\n",
"printf('\n The ideal maximum output voltage swing is = %.f V pp \n',Vcc)"
   ]
   }
,
{
		   "cell_type": "markdown",
		   "metadata": {},
		   "source": [
			"## Example 6.3: Components_of_peak_amplifier.sce"
		   ]
		  },
  {
"cell_type": "code",
	   "execution_count": null,
	   "metadata": {
	    "collapsed": true
	   },
	   "outputs": [],
"source": [
"// Chapter6\n",
"// Page.No-193, Figure.No-6.5(a)\n",
"// Example_6_3\n",
"// Components of peak amplifier\n",
"// Given\n",
"clear;clc;\n",
"fp=16*10^3; // Peak frequency\n",
"Af=10; // Gain at peak frequency\n",
"C=0.01*10^-6; // Assume\n",
"L=1/(((2*%pi*fp)^2)*10^-8); // Simplifying fp=1/(2*pi*sqrt(L*C))\n",
"printf('\n Inductance is = %.4f H \n',L)\n",
"L=10*10^-3; // Approximate\n",
"R=30; // Assume the value of internal resistance of the inductor\n",
"Xl=2*%pi*fp*L; // Inductive reactance\n",
"Qcoil=Xl/R; // Figure of merit of the coil\n",
"printf('\n Figure of merit of the coil is = %.1f \n',Qcoil)\n",
"Rp=(Qcoil)^2*R; // Parallel resistance of the tank circuit\n",
"printf('\n Parallel resistance of the tank circuit is = %.1f ohm \n',Rp)\n",
"R1=100; // Assume the value of internal resisrance of the coil\n",
"Rf=-Rp/(1-(Rp/(Af*R1))); // Simplifying Af=(Rf||Rp)/R1\n",
"printf('\n Feedback resistance is = %.1f ohm \n',Rf)"
   ]
   }
,
{
		   "cell_type": "markdown",
		   "metadata": {},
		   "source": [
			"## Example 6.4: Output_voltage.sce"
		   ]
		  },
  {
"cell_type": "code",
	   "execution_count": null,
	   "metadata": {
	    "collapsed": true
	   },
	   "outputs": [],
"source": [
"// Chapter6\n",
"// Page.No-200, Figure.No-6.6\n",
"// Example_6_4\n",
"// Output voltage\n",
"// Given\n",
"clear;clc;\n",
"Va=1;Vb=2;Vc=3; // Input voltages in volts\n",
"Ra=3*10^3;Rb=3*10^3;Rc=3*10^3;Rf=1*10^3;\n",
"Vo=-((Rf/Ra)*Va+(Rf/Rb)*Vb+(Rf/Rc)*Vc); // Output voltage\n",
"printf('\n Output voltage is = %.f V \n',Vo)"
   ]
   }
,
{
		   "cell_type": "markdown",
		   "metadata": {},
		   "source": [
			"## Example 6.5: Output_voltage.sce"
		   ]
		  },
  {
"cell_type": "code",
	   "execution_count": null,
	   "metadata": {
	    "collapsed": true
	   },
	   "outputs": [],
"source": [
"// Chapter6\n",
"// Page.No-203, Figure.No-6.7\n",
"// Example_6_5\n",
"// Output voltage\n",
"// Given\n",
"clear;clc;\n",
"Va=2;Vb=-3;Vc=4; // Input voltages in volts\n",
"R1=1*10^3;Rf=2*10^3;\n",
"V1=(Va+Vb+Vc)/3; // Voltage at non-inverting terminal\n",
"printf('\n Voltage at non-inverting terminal is = %.f V \n',V1)\n",
"Vo=(1+Rf/R1)*V1; // Output voltage\n",
"printf('\n Output voltage is = %.f V \n',Vo)"
   ]
   }
,
{
		   "cell_type": "markdown",
		   "metadata": {},
		   "source": [
			"## Example 6.6: Output_voltage.sce"
		   ]
		  },
  {
"cell_type": "code",
	   "execution_count": null,
	   "metadata": {
	    "collapsed": true
	   },
	   "outputs": [],
"source": [
"// Chapter6\n",
"// Page.No-205, Figure.No-6.9\n",
"// Example_6_6\n",
"// Output voltage\n",
"// Given\n",
"clear;clc;\n",
"Va=2;Vb=3;Vc=4;Vd=5; // Input voltages in volts\n",
"R=1*10^3;\n",
"Vo=-Va-Vb+Vc+Vd; // Output voltage\n",
"printf('\n Output voltage is = %.f V \n',Vo)"
   ]
   }
,
{
		   "cell_type": "markdown",
		   "metadata": {},
		   "source": [
			"## Example 6.7: Output_voltage.sce"
		   ]
		  },
  {
"cell_type": "code",
	   "execution_count": null,
	   "metadata": {
	    "collapsed": true
	   },
	   "outputs": [],
"source": [
"// Chapter6\n",
"// Page.No-209, Figure.No-6.12\n",
"// Example_6_7\n",
"// Output voltage\n",
"// Given\n",
"clear;clc;\n",
"R1=1*10^3;Rf=4.7*10^3;Ra=100*10^3;Rb=100*10^3;Rc=100*10^3;\n",
"Vdc=5;\n",
"Rt=100*10^3; // Resistance of a thermistor\n",
"temp_coeff=1*10^3;\n",
"\n",
"// Output voltage at 0 degree\n",
"delta_R=-temp_coeff*(0-25); // Change in resistance\n",
"R=Ra; // Ra=Rb=Rc=R\n",
"Vo=((Rf*delta_R)/(R1*4*R))*Vdc;\n",
"printf('\n Output voltage at 0 degree is = %.2f V \n',Vo)\n",
"\n",
"// Output voltage at 100 degree\n",
"delta_R=-temp_coeff*(100-25); // Change in resistance\n",
"Vo=((Rf*delta_R)/(R1*4*R))*Vdc;\n",
"printf('\n Output voltage at 100 degree is = %.2f V \n',Vo)"
   ]
   }
,
{
		   "cell_type": "markdown",
		   "metadata": {},
		   "source": [
			"## Example 6.8: Change_in_resistance_in_straingage.sce"
		   ]
		  },
  {
"cell_type": "code",
	   "execution_count": null,
	   "metadata": {
	    "collapsed": true
	   },
	   "outputs": [],
"source": [
"// Chapter6\n",
"// Page.No-209, Figure.No-6.12\n",
"// Example_6_7\n",
"// Change in resistance in straingage\n",
"// Given\n",
"clear;clc;\n",
"A=-100; // Gain of the differential instrumentation amplifier\n",
"Ra=100;Rb=100;Rc=100;\n",
"Vdc=10;Vo=1;\n",
"R=Ra; // Ra=Rb=Rc=R\n",
"delta_R=(Vo*R)/(Vdc*abs(A)); // Change in resistance\n",
"printf('\n Change in resistance is = %.1f ohm \n',delta_R)"
   ]
   }
,
{
		   "cell_type": "markdown",
		   "metadata": {},
		   "source": [
			"## Example 6.9: Gain_of_the_amplifier.sce"
		   ]
		  },
  {
"cell_type": "code",
	   "execution_count": null,
	   "metadata": {
	    "collapsed": true
	   },
	   "outputs": [],
"source": [
"// Chapter6\n",
"// Page.No-216, Figure.No-6.14(a)\n",
"// Example_6_9\n",
"// Gain of the amplifier\n",
"// Given\n",
"clear;clc;\n",
"Vo=3.7;Vin=100*10^-3;\n",
"R1=100; // Assume\n",
"Rf=0.5*((Vo*R1)/Vin-1); // Feedback resisrance\n",
"printf('\n Feedback resisrance is = %.1f ohm \n',Rf)\n",
"A=(1+2*Rf/R1); // Gain of the differential amplifier\n",
"printf('\n Gain of the differential amplifier is = %.1f \n',A)"
   ]
   }
],
"metadata": {
		  "kernelspec": {
		   "display_name": "Scilab",
		   "language": "scilab",
		   "name": "scilab"
		  },
		  "language_info": {
		   "file_extension": ".sce",
		   "help_links": [
			{
			 "text": "MetaKernel Magics",
			 "url": "https://github.com/calysto/metakernel/blob/master/metakernel/magics/README.md"
			}
		   ],
		   "mimetype": "text/x-octave",
		   "name": "scilab",
		   "version": "0.7.1"
		  }
		 },
		 "nbformat": 4,
		 "nbformat_minor": 0
}
