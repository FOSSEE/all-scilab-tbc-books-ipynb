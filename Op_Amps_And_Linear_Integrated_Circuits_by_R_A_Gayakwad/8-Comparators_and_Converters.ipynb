{
"cells": [
 {
		   "cell_type": "markdown",
	   "metadata": {},
	   "source": [
       "# Chapter 8: Comparators and Converters"
	   ]
	},
{
		   "cell_type": "markdown",
		   "metadata": {},
		   "source": [
			"## Example 8.1: Threshold_voltage.sce"
		   ]
		  },
  {
"cell_type": "code",
	   "execution_count": null,
	   "metadata": {
	    "collapsed": true
	   },
	   "outputs": [],
"source": [
"// Chapter8\n",
"// Page.No-320, Figure.No-8.4(a)\n",
"// Example_8_1\n",
"// Threshold voltage\n",
"// Given\n",
"clear;clc;\n",
"R1=100;R2=56*10^3;\n",
"vin=1; // Input voltage in volt\n",
"pos_Vsat=14; // Positive saturation voltage in volt\n",
"neg_Vsat=-14; // Negative saturation voltage in volt\n",
"Vut=(R1/(R1+R2))*(pos_Vsat); // Upper threshold voltage\n",
"printf('\n Upper threshold voltage is = %.4f V \n',Vut) // Result\n",
"Vlt=(R1/(R1+R2))*(neg_Vsat); // Lower threshold voltage\n",
"printf('\n Lower threshold voltage is = %.4f V \n',Vlt) // Result\n",
"t=0:0.1:2*%pi;\n",
"vut=0.5*sin(t);\n",
"subplot(2,1,1);\n",
"plot(t,vut);\n",
"title('Input Voltage');\n",
"xlabel('t');\n",
"ylabel('Vin');\n",
"c=0;\n",
"for i=0:0.1:2*%pi\n",
"   c=c+1;\n",
"end\n",
"for i=1:c;\n",
"if vut(i)>0.025\n",
"  v(i)=-14;\n",
"else if vut(i)<-0.025\n",
"  v(i)=14;\n",
"end\n",
"end\n",
"end\n",
"subplot(2,1,2);\n",
"plot(t,v);\n",
"title('Output Waveform');\n",
"xlabel('t');\n",
"ylabel('Vo');"
   ]
   }
,
{
		   "cell_type": "markdown",
		   "metadata": {},
		   "source": [
			"## Example 8.2: Output_voltage_swing.sce"
		   ]
		  },
  {
"cell_type": "code",
	   "execution_count": null,
	   "metadata": {
	    "collapsed": true
	   },
	   "outputs": [],
"source": [
"// Chapter8\n",
"// Page.No-326, Figure.No-8.7(a)\n",
"// Example_8_2\n",
"// Output voltage swing\n",
"// Given\n",
"clear;clc;\n",
"vin=5*10^-3;\n",
"R=100;\n",
"Vd1=-0.7; // Output voltage during positive half-cycle of the input\n",
"Vd2=5.1; // Output voltage during negative half-cycle of the input\n",
"printf('\n Output voltage during positive half-cycle of the input is = %.1f V \n',Vd1) // Since zener diode is forward biased\n",
"printf('\n Output voltage during negative half-cycle of the input is = %.1f V \n',Vd2) // Since zener diode is reverse-biased\n",
"t=0:0.1:2*%pi;\n",
"vut=0.5*sin(t);\n",
"subplot(2,1,1);\n",
"plot(t,vut);\n",
"title('Input Voltage');\n",
"xlabel('t');\n",
"ylabel('Vin');\n",
"c=1;\n",
"for t=0:0.1:2*%pi\n",
"if t<%pi\n",
"  v(c)=-0.7;\n",
"  else\n",
"  v(c)=5.1;\n",
"end\n",
"c=c+1;\n",
"subplot(2,1,2);\n",
"plot(v);\n",
"end\n",
"title('Output Waveform');\n",
"xlabel('t');\n",
"ylabel('Vo');"
   ]
   }
,
{
		   "cell_type": "markdown",
		   "metadata": {},
		   "source": [
			"## Example 8.3: Output_frequencies.sce"
		   ]
		  },
  {
"cell_type": "code",
	   "execution_count": null,
	   "metadata": {
	    "collapsed": true
	   },
	   "outputs": [],
"source": [
"// Chapter8\n",
"// Page.No-320, Figure.No-8.12\n",
"// Example_8_3\n",
"// Output frequencies\n",
"// Given\n",
"clear;clc;\n",
"Vin=2; // Input voltage\n",
"Fo1=2*10^3; // Output freq Fo when Vin=2V\n",
"Fo2=1*10^3; // Output freq Fo/2 when Vin=2V\n",
"printf('\n Output freq Fo is = %.f Hz \n',Fo1) // Result\n",
"printf('\n Output freq Fo/2 is = %.f Hz \n',Fo2) // Result\n",
"count=1;\n",
"for i=1:50;    //for 5 cycles\n",
"if count<4;\n",
"    v(i)=5;\n",
"  else\n",
"    v(i)=0;\n",
"end\n",
"if count<10\n",
"    count=count+1;\n",
"else\n",
"    count=1;\n",
"end\n",
"end\n",
"subplot(2,1,1);\n",
"plot(v);\n",
"title('Output Waveform');\n",
"xlabel('t(microsec)');\n",
"ylabel('Pulse freq output,Fo(V)');\n",
"for i=1:50;    //for 5 cycles\n",
"if count<10;\n",
"    v(i)=5;\n",
"  else\n",
"    v(i)=0;\n",
"end\n",
"if count<20\n",
"    count=count+1;\n",
"else\n",
"    count=1;\n",
"end\n",
"end\n",
"subplot(2,1,2);\n",
"plot(v);\n",
"title('Output Waveform');\n",
"xlabel('t(microsec)');\n",
"ylabel('Pulse freq output,Fo/2(V)');"
   ]
   }
,
{
		   "cell_type": "markdown",
		   "metadata": {},
		   "source": [
			"## Example 8.4: Output_voltage.sce"
		   ]
		  },
  {
"cell_type": "code",
	   "execution_count": null,
	   "metadata": {
	    "collapsed": true
	   },
	   "outputs": [],
"source": [
"// Chapter8\n",
"// Page.No-335, Figure.No-8.14(a)\n",
"// Example_8_4\n",
"// Output voltage\n",
"// Given\n",
"clear;clc;\n",
"Vo=2.8; // At Finmax of 10kHz\n",
"Vo1=Vo/10; // Output voltage at Fin=1kHz\n",
"printf('\n Output voltage is = %.2f V \n',Vo1) // Result"
   ]
   }
,
{
		   "cell_type": "markdown",
		   "metadata": {},
		   "source": [
			"## Example 8.5: Output_voltage.sce"
		   ]
		  },
  {
"cell_type": "code",
	   "execution_count": null,
	   "metadata": {
	    "collapsed": true
	   },
	   "outputs": [],
"source": [
"// Chapter8\n",
"// Page.No-335, Figure.No-8.25(a)\n",
"// Example_8_5\n",
"// Output voltage\n",
"// Given\n",
"clear;clc;\n",
"vin=100*10^-3;\n",
"t=0:0.1:2*%pi;\n",
"i=1;\n",
"for t=0:0.1:2*%pi;\n",
"  if t<=%pi\n",
"    v(i)=vin*sin(t);\n",
"    else\n",
"      v(i)=0;\n",
"    end\n",
"    i=i+1;\n",
"end\n",
"t=0:0.1:2*%pi;\n",
"plot(t,v)"
   ]
   }
],
"metadata": {
		  "kernelspec": {
		   "display_name": "Scilab",
		   "language": "scilab",
		   "name": "scilab"
		  },
		  "language_info": {
		   "file_extension": ".sce",
		   "help_links": [
			{
			 "text": "MetaKernel Magics",
			 "url": "https://github.com/calysto/metakernel/blob/master/metakernel/magics/README.md"
			}
		   ],
		   "mimetype": "text/x-octave",
		   "name": "scilab",
		   "version": "0.7.1"
		  }
		 },
		 "nbformat": 4,
		 "nbformat_minor": 0
}
