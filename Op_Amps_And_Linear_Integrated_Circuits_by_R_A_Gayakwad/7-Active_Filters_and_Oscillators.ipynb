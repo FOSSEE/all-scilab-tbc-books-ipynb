{
"cells": [
 {
		   "cell_type": "markdown",
	   "metadata": {},
	   "source": [
       "# Chapter 7: Active Filters and Oscillators"
	   ]
	},
{
		   "cell_type": "markdown",
		   "metadata": {},
		   "source": [
			"## Example 7.10: Design_of_notch_filter.sce"
		   ]
		  },
  {
"cell_type": "code",
	   "execution_count": null,
	   "metadata": {
	    "collapsed": true
	   },
	   "outputs": [],
"source": [
"// Chapter7\n",
"// Page.No-277\n",
"// Example_7_10\n",
"// Design of notch filter\n",
"// Given\n",
"clear;clc;\n",
"fn=60; // Notch-out frequency in Hz\n",
"C=0.068*10^-6; // Assumption\n",
"R=1/(2*%pi*fn*C);\n",
"printf('\n Resistance R is = %.1f ohm \n',R) // Result"
   ]
   }
,
{
		   "cell_type": "markdown",
		   "metadata": {},
		   "source": [
			"## Example 7.11: Phase_angle.sce"
		   ]
		  },
  {
"cell_type": "code",
	   "execution_count": null,
	   "metadata": {
	    "collapsed": true
	   },
	   "outputs": [],
"source": [
"// Chapter7\n",
"// Page.No-279\n",
"// Example_7_11\n",
"// Phase angle\n",
"// Given\n",
"clear;clc;\n",
"f=1*10^3; // Input frequency in Hz\n",
"C=0.01*10^-6; \n",
"R=15.9*10^3;\n",
"phi=-2*atand(2*%pi*f*C*R); // Phase angle\n",
"printf('\n Phase angle phi is = %.f deg \n',phi) // Result"
   ]
   }
,
{
		   "cell_type": "markdown",
		   "metadata": {},
		   "source": [
			"## Example 7.12: Design_of_phase_shift_oscillator.sce"
		   ]
		  },
  {
"cell_type": "code",
	   "execution_count": null,
	   "metadata": {
	    "collapsed": true
	   },
	   "outputs": [],
"source": [
"// Chapter7\n",
"// Page.No-282\n",
"// Example_7_1\n",
"// Design of phase shift oscillator\n",
"// Given\n",
"clear;clc;\n",
"fo=200; // Frequency of oscillation\n",
"C=0.1*10^-6; // Assumption\n",
"R=0.065/(fo*C);\n",
"printf('\n Resistance R is = %.1f ohm \n',R) // Result\n",
"printf('\n Use Resistance R as 3.3 kohm \n')\n",
"R=3.3*10^3;\n",
"R1=10*R; // To prevent loading of amplifier\n",
"Rf=29*R1;\n",
"printf('\n Resistance Rf is = %.1f ohm \n',Rf) // Result"
   ]
   }
,
{
		   "cell_type": "markdown",
		   "metadata": {},
		   "source": [
			"## Example 7.13: Design_of_wein_bridge_oscillator.sce"
		   ]
		  },
  {
"cell_type": "code",
	   "execution_count": null,
	   "metadata": {
	    "collapsed": true
	   },
	   "outputs": [],
"source": [
"// Chapter7\n",
"// Page.No-282\n",
"// Example_7_13\n",
"// Design of wein bridge oscillator\n",
"// Given\n",
"clear;clc;\n",
"fo=965; // Frequency of oscillation\n",
"C=0.05*10^-6; // Assumption\n",
"R=0.159/(fo*C);\n",
"printf('\n Resistance R is = %.1f ohm \n',R) // Result\n",
"R1=12*10^3; // Assumption\n",
"Rf=2*R1;\n",
"printf('\n Resistance Rf is = %.1f ohm \n',Rf) // Result"
   ]
   }
,
{
		   "cell_type": "markdown",
		   "metadata": {},
		   "source": [
			"## Example 7.14: Design_of_quadrature_oscillator.sce"
		   ]
		  },
  {
"cell_type": "code",
	   "execution_count": null,
	   "metadata": {
	    "collapsed": true
	   },
	   "outputs": [],
"source": [
"// Chapter7\n",
"// Page.No-285\n",
"// Example_7_14\n",
"// Design of quadrature oscillator\n",
"// Given\n",
"clear;clc;\n",
"fo=159; // Frequency of oscillation\n",
"C=0.01*10^-6; // Assumption\n",
"R=0.159/(fo*C);\n",
"printf('\n Resistance values R1,R2,R3 is = %.1f ohm \n',R) // R1=R2=R3=R\n",
"printf('\n Capacitance values C1,C2,C3 is = %.8f farad \n',C) // C1=C2=C3=C"
   ]
   }
,
{
		   "cell_type": "markdown",
		   "metadata": {},
		   "source": [
			"## Example 7.15: Design_of_squarewave_oscillator.sce"
		   ]
		  },
  {
"cell_type": "code",
	   "execution_count": null,
	   "metadata": {
	    "collapsed": true
	   },
	   "outputs": [],
"source": [
"// Chapter7\n",
"// Page.No-287\n",
"// Example_7_15\n",
"// Design of squarewave oscillator\n",
"// Given\n",
"clear;clc;\n",
"fo=1*10^3;; // Frequency of oscillation\n",
"R1=10*10^3; // Assumption\n",
"C=0.05*10^-6; // Assumption\n",
"R2=1.16*R1;\n",
"printf('\n Resistance R2 is = %.1f ohm \n',R2) // Result\n",
"R=1/(2*fo*C);\n",
"printf('\n Resistance R is = %.1f ohm \n',R) // Result"
   ]
   }
,
{
		   "cell_type": "markdown",
		   "metadata": {},
		   "source": [
			"## Example 7.16: Design_of_triangular_wave_generator.sce"
		   ]
		  },
  {
"cell_type": "code",
	   "execution_count": null,
	   "metadata": {
	    "collapsed": true
	   },
	   "outputs": [],
"source": [
"// Chapter7\n",
"// Page.No-291\n",
"// Example_7_16\n",
"// Design of triangular wave generator\n",
"// Given\n",
"clear;clc;\n",
"fo=2*10^3; // Frequency of oscillation\n",
"vo=7; // Output voltage\n",
"Vsat=14; // Saturation voltage for opamp 1458\n",
"R3=40*10^3; // Assumption\n",
"R2=(vo*R3)/(2*Vsat);\n",
"printf('\n Resistance R2 is = %.1f ohm \n',R2) // Result\n",
"k=R3/(4*fo*R2); // Using fo=R3/(4*R1*C1*R2),k=R1*C1;\n",
"C1=0.05*10^-6; // Assumption\n",
"R1=k/C1;\n",
"printf('\n Resistance R1 is = %.1f ohm \n',R1) // Result"
   ]
   }
,
{
		   "cell_type": "markdown",
		   "metadata": {},
		   "source": [
			"## Example 7.17_a: Nominal_frequency.sce"
		   ]
		  },
  {
"cell_type": "code",
	   "execution_count": null,
	   "metadata": {
	    "collapsed": true
	   },
	   "outputs": [],
"source": [
"// Chapter7\n",
"// Page.No-296\n",
"// Example_7_17_a\n",
"// Nominal frequency\n",
"// Given\n",
"clear;clc;\n",
"R2=1.5*10^3;\n",
"R1=10*10^3;\n",
"R3=10*10^3;\n",
"C1=0.001*10^-6;\n",
"V=12; // Supply voltage\n",
"Vc=R3*V/(R2+R3); // Using voltage divider rule\n",
"printf('\n Terminal voltage Vc is = %.2f V \n',Vc) // Result\n",
"fo=2*(V-Vc)/(V*R1*C1);\n",
"printf('\n Approximate Nominal freq fo is = %.1f Hz \n',fo) // Result"
   ]
   }
,
{
		   "cell_type": "markdown",
		   "metadata": {},
		   "source": [
			"## Example 7.17_b: Modulation_in_output_frequency.sce"
		   ]
		  },
  {
"cell_type": "code",
	   "execution_count": null,
	   "metadata": {
	    "collapsed": true
	   },
	   "outputs": [],
"source": [
"// Chapter7\n",
"// Page.No-296\n",
"// Example_7_17_b\n",
"// Modulation in output frequency\n",
"// Given\n",
"clear;clc;\n",
"R2=1.5*10^3;\n",
"R1=10*10^3;\n",
"R3=10*10^3;\n",
"C1=0.001*10^-6;\n",
"V=12; // Supply voltage\n",
"Vc1=9.5;\n",
"Vc2=11.5;\n",
"fo1=2*(V-Vc1)/(V*R1*C1);\n",
"printf('\n Approximate Nominal freq fo1 is = %.1f Hz \n',fo1) // Result\n",
"fo2=2*(V-Vc2)/(V*R1*C1);\n",
"printf('\n Approximate Nominal freq fo2 is = %.1f Hz \n',fo2) // Result\n",
"delta_fo=fo1-fo2; // Change in output freq\n",
"printf('\n Change in output freq delta_fo is = %.1f Hz \n',delta_fo) // Result"
   ]
   }
,
{
		   "cell_type": "markdown",
		   "metadata": {},
		   "source": [
			"## Example 7.1: Design_of_low_pass_filter.sce"
		   ]
		  },
  {
"cell_type": "code",
	   "execution_count": null,
	   "metadata": {
	    "collapsed": true
	   },
	   "outputs": [],
"source": [
"// Chapter7\n",
"// Page.No-256\n",
"// Example_7_1\n",
"// Design of low pass filter\n",
"// Given\n",
"clear;clc;\n",
"fh=1*10^3; // Cut-off frequency\n",
"C=0.01*10^-6; // Assumption\n",
"R=1/(2*%pi*fh*C);\n",
"printf('\n Resistance R is = %.1f ohm \n',R) // Result\n",
"printf('\n Use 20 kohm POT as R \n')\n",
"R1=10*10^3; // Assumption\n",
"printf('\n Resistance R1 is = %.1f ohm \n',R1)\n",
"Rf=R1; // Sice passband gain is 2,R1 and Rf must be equal\n",
"printf('\n Resistance Rf is = %.1f ohm \n',Rf)"
   ]
   }
,
{
		   "cell_type": "markdown",
		   "metadata": {},
		   "source": [
			"## Example 7.2: Design_of_low_pass_filter.sce"
		   ]
		  },
  {
"cell_type": "code",
	   "execution_count": null,
	   "metadata": {
	    "collapsed": true
	   },
	   "outputs": [],
"source": [
"// Chapter7\n",
"// Page.No-256\n",
"// Example_7_2\n",
"// Design of low pass filter\n",
"// Given\n",
"clear;clc;\n",
"fc0=1*10^3; // Original cut-off frequency\n",
"fc1=1.6*10^3; // New cut-off frequency\n",
"R=15.9*10^3; // Original resistance value\n",
"k=fc0/fc1;\n",
"Rnew=R*k;\n",
"printf('\n New Resistance Rnew is = %.1f ohm \n',Rnew) // Result"
   ]
   }
,
{
		   "cell_type": "markdown",
		   "metadata": {},
		   "source": [
			"## Example 7.3: Frequency_response_of_low_pass_filter.sce"
		   ]
		  },
  {
"cell_type": "code",
	   "execution_count": null,
	   "metadata": {
	    "collapsed": true
	   },
	   "outputs": [],
"source": [
"// Chapter7\n",
"// Page.No-257\n",
"// Example_7_3\n",
"// Frequency response of low pass filter\n",
"// Given\n",
"clear;clc;\n",
"Af=2; // Passband gain of the filter\n",
"fh=1000; // Cut-off frequency\n",
"f1=10; // Input freq in Hz\n",
"av1=Af/sqrt(1+(f1/fh)^2);\n",
"printf('\n Gain magnitude av1 at f1 is = %.2f \n',av1) // Result\n",
"f2=100; // Freq in Hz\n",
"av2=Af/sqrt(1+(f2/fh)^2);\n",
"printf('\n Gain magnitude av2 at f2 is = %.2f \n',av2) // Result\n",
"f3=200; // Freq in Hz\n",
"av3=Af/sqrt(1+(f3/fh)^2);\n",
"printf('\n Gain magnitude av3 at f3 is = %.2f \n',av3) // Result\n",
"f4=700; // Freq in Hz\n",
"av4=Af/sqrt(1+(f4/fh)^2);\n",
"printf('\n Gain magnitude av4 at f4 is = %.2f \n',av4) // Result\n",
"f5=1000; // Freq in Hz\n",
"av5=Af/sqrt(1+(f5/fh)^2);\n",
"printf('\n Gain magnitude av5 at f5 is = %.2f \n',av5) // Result\n",
"f6=3000; // Freq in Hz\n",
"av6=Af/sqrt(1+(f6/fh)^2);\n",
"printf('\n Gain magnitude av6 at f6 is = %.2f \n',av6) // Result\n",
"f7=7000; // Freq in Hz\n",
"av7=Af/sqrt(1+(f7/fh)^2);\n",
"printf('\n Gain magnitude av7 at f7 is = %.2f \n',av7) // Result\n",
"f8=10000; // Freq in Hz\n",
"av8=Af/sqrt(1+(f8/fh)^2);\n",
"printf('\n Gain magnitude av8 at f8 is = %.2f \n',av8) // Result\n",
"f9=30000; // Freq in Hz\n",
"av9=Af/sqrt(1+(f9/fh)^2);\n",
"printf('\n Gain magnitude av9 at f9 is = %.2f \n',av9) // Result\n",
"f10=100000; // Freq in Hz\n",
"av10=Af/sqrt(1+(f10/fh)^2);\n",
"printf('\n Gain magnitude av10 at f10 is = %.2f \n',av10) // Result\n",
"x=[f1 f2 f3 f4 f5 f6 f7 f8 f9 f10];\n",
"y=[av1 av2 av3 av4 av5 av6 av7 av8 av9 av10];\n",
"gainplot(x,y);\n",
"title('Frequency Response');\n",
"xlabel('Frequency(Hz)');\n",
"ylabel('Voltage gain(dB)');\n",
""
   ]
   }
,
{
		   "cell_type": "markdown",
		   "metadata": {},
		   "source": [
			"## Example 7.4_a: Design_of_second_order_low_pass_filter.sce"
		   ]
		  },
  {
"cell_type": "code",
	   "execution_count": null,
	   "metadata": {
	    "collapsed": true
	   },
	   "outputs": [],
"source": [
"// Chapter7\n",
"// Page.No-256\n",
"// Example_7_4_a\n",
"// Design of second order low pass filter\n",
"// Given\n",
"clear;clc;\n",
"fh=1*10^3; // Cut-off frequency\n",
"C2=0.0047*10^-6; // Assumption\n",
"C3=C2;\n",
"R2=1/(2*%pi*fh*C2);\n",
"printf('\n Resistance R2 is = %.1f ohm \n',R2) // Result\n",
"R2=33*10^3; // Approximation\n",
"R3=R2;\n",
"printf('\n Resistance R3 is = %.1f ohm \n',R3) // Result\n",
"R1=27*10^3; // Assumption\n",
"Rf=0.586*R1;\n",
"printf('\n Resistance Rf is = %.1f ohm \n',Rf) // Result\n",
"printf('\n Use 20 kohm POT as Rf \n')"
   ]
   }
,
{
		   "cell_type": "markdown",
		   "metadata": {},
		   "source": [
			"## Example 7.4_b: Frequency_response_of_second_order_highpass_filter.sce"
		   ]
		  },
  {
"cell_type": "code",
	   "execution_count": null,
	   "metadata": {
	    "collapsed": true
	   },
	   "outputs": [],
"source": [
"// Chapter7\n",
"// Page.No-260\n",
"// Example_7_4_b\n",
"// Frequency response of second order highpass filter\n",
"// Given\n",
"clear;clc;\n",
"Af=1.586; // Passband gain of the filter\n",
"fh=1000; // Cut-off frequency\n",
"f1=10; // Input freq in Hz\n",
"av1=Af/sqrt(1+(f1/fh)^4);\n",
"printf('\n Gain magnitude av1 at f1 is = %.2f \n',av1) // Result\n",
"f2=100; // Freq in Hz\n",
"av2=Af/sqrt(1+(f2/fh)^4);\n",
"printf('\n Gain magnitude av2 at f2 is = %.2f \n',av2) // Result\n",
"f3=200; // Freq in Hz\n",
"av3=Af/sqrt(1+(f3/fh)^4);\n",
"printf('\n Gain magnitude av3 at f3 is = %.2f \n',av3) // Result\n",
"f4=700; // Freq in Hz\n",
"av4=Af/sqrt(1+(f4/fh)^4);\n",
"printf('\n Gain magnitude av4 at f4 is = %.2f \n',av4) // Result\n",
"f5=1000; // Freq in Hz\n",
"av5=Af/sqrt(1+(f5/fh)^4);\n",
"printf('\n Gain magnitude av5 at f5 is = %.2f \n',av5) // Result\n",
"f6=3000; // Freq in Hz\n",
"av6=Af/sqrt(1+(f6/fh)^4);\n",
"printf('\n Gain magnitude av6 at f6 is = %.2f \n',av6) // Result\n",
"f7=7000; // Freq in Hz\n",
"av7=Af/sqrt(1+(f7/fh)^4);\n",
"printf('\n Gain magnitude av7 at f7 is = %.2f \n',av7) // Result\n",
"f8=10000; // Freq in Hz\n",
"av8=Af/sqrt(1+(f8/fh)^4);\n",
"printf('\n Gain magnitude av8 at f8 is = %.2f \n',av8) // Result\n",
"f9=30000; // Freq in Hz\n",
"av9=Af/sqrt(1+(f9/fh)^4);\n",
"printf('\n Gain magnitude av9 at f9 is = %.5f \n',av9) // Result\n",
"f10=100000; // Freq in Hz\n",
"av10=Af/sqrt(1+(f10/fh)^4);\n",
"printf('\n Gain magnitude av10 at f10 is = %.6f \n',av10) // Result\n",
"x=[f1 f2 f3 f4 f5 f6 f7 f8 f9 f10];\n",
"y=[av1 av2 av3 av4 av5 av6 av7 av8 av9 av10];\n",
"gainplot(x,y);\n",
"title('Frequency Response');\n",
"xlabel('Frequency(Hz)');\n",
"ylabel('Voltage gain(dB)');\n",
""
   ]
   }
,
{
		   "cell_type": "markdown",
		   "metadata": {},
		   "source": [
			"## Example 7.5_a: Design_of_highpass_filter.sce"
		   ]
		  },
  {
"cell_type": "code",
	   "execution_count": null,
	   "metadata": {
	    "collapsed": true
	   },
	   "outputs": [],
"source": [
"// Chapter7\n",
"// Page.No-263\n",
"// Example_7_5_a\n",
"// Design of highpass filter\n",
"// Given\n",
"clear;clc;\n",
"fh=1*10^3; // Cut-off frequency\n",
"Af=2; // Passband gain of the filter\n",
"C=0.01*10^-6; // Assumption\n",
"R=1/(2*%pi*fh*C);\n",
"printf('\n Resistance R is = %.1f ohm \n',R) // Result\n",
"printf('\n Use 20 kohm POT as R \n')\n",
"R1=10*10^3; // Assumption\n",
"printf('\n Resistance R1 is = %.1f ohm \n',R1)\n",
"Rf=R1; // Sice passband gain is 2,R1 and Rf must be equal\n",
"printf('\n Resistance Rf is = %.1f ohm \n',Rf)"
   ]
   }
,
{
		   "cell_type": "markdown",
		   "metadata": {},
		   "source": [
			"## Example 7.5_b: Frequency_response_of_highpass_filter.sce"
		   ]
		  },
  {
"cell_type": "code",
	   "execution_count": null,
	   "metadata": {
	    "collapsed": true
	   },
	   "outputs": [],
"source": [
"// Chapter7\n",
"// Page.No-263\n",
"// Example_7_5_b\n",
"// Frequency response of highpass filter\n",
"// Given\n",
"clear;clc;\n",
"Af=2; // Passband gain of the filter\n",
"fl=1000; // Cut-off frequency\n",
"f1=100; // Input freq in Hz\n",
"av1=(Af*(f1/fl))/sqrt(1+(f1/fl)^2);\n",
"printf('\n Gain magnitude av1 at f1 is = %.2f \n',av1) // Result\n",
"f2=200; // Freq in Hz\n",
"av2=(Af*(f2/fl))/sqrt(1+(f2/fl)^2);\n",
"printf('\n Gain magnitude av2 at f2 is = %.2f \n',av2) // Result\n",
"f3=400; // Freq in Hz\n",
"av3=(Af*(f3/fl))/sqrt(1+(f3/fl)^2);\n",
"printf('\n Gain magnitude av3 at f3 is = %.2f \n',av3) // Result\n",
"f4=700; // Freq in Hz\n",
"av4=(Af*(f4/fl))/sqrt(1+(f4/fl)^2);\n",
"printf('\n Gain magnitude av4 at f4 is = %.2f \n',av4) // Result\n",
"f5=1000; // Freq in Hz\n",
"av5=(Af*(f5/fl))/sqrt(1+(f5/fl)^2);\n",
"printf('\n Gain magnitude av5 at f5 is = %.2f \n',av5) // Result\n",
"f6=3000; // Freq in Hz\n",
"av6=(Af*(f6/fl))/sqrt(1+(f6/fl)^2);\n",
"printf('\n Gain magnitude av6 at f6 is = %.2f \n',av6) // Result\n",
"f7=7000; // Freq in Hz\n",
"av7=(Af*(f7/fl))/sqrt(1+(f7/fl)^2);\n",
"printf('\n Gain magnitude av7 at f7 is = %.2f \n',av7) // Result\n",
"f8=10000; // Freq in Hz\n",
"av8=(Af*(f8/fl))/sqrt(1+(f8/fl)^2);\n",
"printf('\n Gain magnitude av8 at f8 is = %.2f \n',av8) // Result\n",
"f9=30000; // Freq in Hz\n",
"av9=(Af*(f9/fl))/sqrt(1+(f9/fl)^2);\n",
"printf('\n Gain magnitude av9 at f9 is = %.2f \n',av9) // Result\n",
"f10=100000; // Freq in Hz\n",
"av10=(Af*(f10/fl))/sqrt(1+(f10/fl)^2);\n",
"printf('\n Gain magnitude av10 at f10 is = %.2f \n',av10) // Result\n",
"x=[f1 f2 f3 f4 f5 f6 f7 f8 f9 f10];\n",
"y=[av1 av2 av3 av4 av5 av6 av7 av8 av9 av10];\n",
"gainplot(x,y);\n",
"title('Frequency Response');\n",
"xlabel('Frequency(Hz)');\n",
"ylabel('Voltage gain(dB)');\n",
""
   ]
   }
,
{
		   "cell_type": "markdown",
		   "metadata": {},
		   "source": [
			"## Example 7.6_a: Determination_of_low_cutoff_frequency.sce"
		   ]
		  },
  {
"cell_type": "code",
	   "execution_count": null,
	   "metadata": {
	    "collapsed": true
	   },
	   "outputs": [],
"source": [
"// Chapter7\n",
"// Page.No-264\n",
"// Example_7_6\n",
"// Determination of low cutoff frequency\n",
"// Given\n",
"clear;clc;\n",
"R2=33*10^3;\n",
"R3=R2;\n",
"C2=0.0047*10^-6;\n",
"C3=C2;\n",
"fl=1/(2*%pi*sqrt(R2*R3*C2*C3));\n",
"printf('\n Low cutoff freq fl is = %.1f Hz \n',fl) // Result"
   ]
   }
,
{
		   "cell_type": "markdown",
		   "metadata": {},
		   "source": [
			"## Example 7.6_b: Frequency_response_of_second_order_highpass_filter.sce"
		   ]
		  },
  {
"cell_type": "code",
	   "execution_count": null,
	   "metadata": {
	    "collapsed": true
	   },
	   "outputs": [],
"source": [
"// Chapter7\n",
"// Page.No-264\n",
"// Example_7_6_b\n",
"// Frequency response of second order highpass filter\n",
"// Given\n",
"clear;clc;\n",
"Af=1.586; // Passband gain of the filter\n",
"fl=1000; // Cut-off frequency\n",
"f1=100; // Input freq in Hz\n",
"av1=Af/sqrt(1+(fl/f1)^4);\n",
"printf('\n Gain magnitude av1 at f1 is = %.5f \n',av1) // Result\n",
"f2=200; // Freq in Hz\n",
"av2=Af/sqrt(1+(fl/f2)^4);\n",
"printf('\n Gain magnitude av2 at f2 is = %.4f \n',av2) // Result\n",
"f3=700; // Freq in Hz\n",
"av3=Af/sqrt(1+(fl/f3)^4);\n",
"printf('\n Gain magnitude av3 at f3 is = %.4f \n',av3) // Result\n",
"f4=1000; // Freq in Hz\n",
"av4=Af/sqrt(1+(fl/f4)^4);\n",
"printf('\n Gain magnitude av4 at f4 is = %.4f \n',av4) // Result\n",
"f5=3000; // Freq in Hz\n",
"av5=Af/sqrt(1+(fl/f5)^4);\n",
"printf('\n Gain magnitude av5 at f5 is = %.4f \n',av5) // Result\n",
"f6=7000; // Freq in Hz\n",
"av6=Af/sqrt(1+(fl/f6)^4);\n",
"printf('\n Gain magnitude av6 at f6 is = %.4f \n',av6) // Result\n",
"f7=10000; // Freq in Hz\n",
"av7=Af/sqrt(1+(fl/f7)^4);\n",
"printf('\n Gain magnitude av7 at f7 is = %.4f \n',av7) // Result\n",
"f8=30000; // Freq in Hz\n",
"av8=Af/sqrt(1+(fl/f8)^4);\n",
"printf('\n Gain magnitude av8 at f8 is = %.4f \n',av8) // Result\n",
"f9=100000; // Freq in Hz\n",
"av9=Af/sqrt(1+(fl/f9)^4);\n",
"printf('\n Gain magnitude av9 at f9 is = %.4f \n',av9) // Result\n",
"x=[f1 f2 f3 f4 f5 f6 f7 f8 f9];\n",
"y=[av1 av2 av3 av4 av5 av6 av7 av8 av9];\n",
"gainplot(x,y);\n",
"title('Frequency Response');\n",
"xlabel('Frequency(Hz)');\n",
"ylabel('Voltage gain(dB)');\n",
""
   ]
   }
,
{
		   "cell_type": "markdown",
		   "metadata": {},
		   "source": [
			"## Example 7.7_a: Design_of_wide_bandpass_filter.sce"
		   ]
		  },
  {
"cell_type": "code",
	   "execution_count": null,
	   "metadata": {
	    "collapsed": true
	   },
	   "outputs": [],
"source": [
"// Chapter7\n",
"// Page.No-270\n",
"// Example_7_7_a\n",
"// Design of wide bandpass filter\n",
"// Given\n",
"clear;clc;\n",
"fl=200; // Low cutoff freq in Hz\n",
"fh=1*10^3; // High cutoff freq in Hz\n",
"C1=0.01*10^-6; // Assumption\n",
"R1=1/(2*%pi*fh*C1);\n",
"printf('\n Resistance R1 is = %.1f ohm \n', R1) // Result\n",
"C=0.05*10^-6;\n",
"R=1/(2*%pi*fl*C);\n",
"printf('\n Resistance R is = %.1f ohm \n', R) // Result\n",
"printf('\n Bandpass Gain Af is = 4 \n') // Since gain of high pass and lowpass is set to 2\n",
"R1=10*10^3; // Assumption\n",
"printf('\n Resistance R1 is = %.1f ohm \n',R1)\n",
"Rf=R1; // Sice passband gain is 2,R1 and Rf must be equal\n",
"printf('\n Resistance Rf is = %.1f ohm \n',Rf)"
   ]
   }
,
{
		   "cell_type": "markdown",
		   "metadata": {},
		   "source": [
			"## Example 7.7_b: Frequency_response_of_bandpass_filter.sce"
		   ]
		  },
  {
"cell_type": "code",
	   "execution_count": null,
	   "metadata": {
	    "collapsed": true
	   },
	   "outputs": [],
"source": [
"// Chapter7\n",
"// Page.No-270\n",
"// Example_7_7_b\n",
"// Frequency response of bandpass filter\n",
"// Given\n",
"clear;clc;\n",
"Aft=4; // Passband gain of the filter\n",
"fl=200; // Lower Cut-off frequency\n",
"fh=1000; // Higher Cut-off frequency\n",
"f1=10; // Input freq in Hz\n",
"av1=(Aft*(f1/fl))/sqrt((1+(f1/fl)^2)*(1+(f1/fh)^2));\n",
"printf('\n Gain magnitude av1 at f1 is = %.4f \n',av1) // Result\n",
"f2=30; // Freq in Hz\n",
"av2=(Aft*(f2/fl))/sqrt((1+(f2/fl)^2)*(1+(f2/fh)^2));\n",
"printf('\n Gain magnitude av2 at f2 is = %.4f \n',av2) // Result\n",
"f3=100; // Freq in Hz\n",
"av3=(Aft*(f3/fl))/sqrt((1+(f3/fl)^2)*(1+(f3/fh)^2));\n",
"printf('\n Gain magnitude av3 at f3 is = %.4f \n',av3) // Result\n",
"f4=200; // Freq in Hz\n",
"av4=(Aft*(f4/fl))/sqrt((1+(f4/fl)^2)*(1+(f4/fh)^2));\n",
"printf('\n Gain magnitude av4 at f4 is = %.4f \n',av4) // Result\n",
"f5=447.2; // Freq in Hz\n",
"av5=(Aft*(f5/fl))/sqrt((1+(f5/fl)^2)*(1+(f5/fh)^2));\n",
"printf('\n Gain magnitude av5 at f5 is = %.4f \n',av5) // Result\n",
"f6=700; // Freq in Hz\n",
"av6=(Aft*(f6/fl))/sqrt((1+(f6/fl)^2)*(1+(f6/fh)^2));\n",
"printf('\n Gain magnitude av6 at f6 is = %.4f \n',av6) // Result\n",
"f7=1000; // Freq in Hz\n",
"av7=(Aft*(f7/fl))/sqrt((1+(f7/fl)^2)*(1+(f7/fh)^2));\n",
"printf('\n Gain magnitude av7 at f7 is = %.4f \n',av7) // Result\n",
"f8=2000; // Freq in Hz\n",
"av8=(Aft*(f8/fl))/sqrt((1+(f8/fl)^2)*(1+(f8/fh)^2));\n",
"printf('\n Gain magnitude av8 at f8 is = %.4f \n',av8) // Result\n",
"f9=7000; // Freq in Hz\n",
"av9=(Aft*(f9/fl))/sqrt((1+(f9/fl)^2)*(1+(f9/fh)^2));\n",
"printf('\n Gain magnitude av9 at f9 is = %.4f \n',av9) // Result\n",
"f10=10000; // Freq in Hz\n",
"av10=(Aft*(f10/fl))/sqrt((1+(f10/fl)^2)*(1+(f10/fh)^2));\n",
"printf('\n Gain magnitude av10 at f10 is = %.4f \n',av10) // Result\n",
"x=[f1 f2 f3 f4 f5 f6 f7 f8 f9 f10];\n",
"y=[av1 av2 av3 av4 av5 av6 av7 av8 av9 av10];\n",
"gainplot(x,y);\n",
"title('Frequency Response');\n",
"xlabel('Frequency(Hz)');\n",
"ylabel('Voltage gain(dB)');\n",
""
   ]
   }
,
{
		   "cell_type": "markdown",
		   "metadata": {},
		   "source": [
			"## Example 7.7_c: Calculation_of_quality_factor.sce"
		   ]
		  },
  {
"cell_type": "code",
	   "execution_count": null,
	   "metadata": {
	    "collapsed": true
	   },
	   "outputs": [],
"source": [
"// Chapter7\n",
"// Page.No-270\n",
"// Example_7_7_c\n",
"// Calculation of quality factor\n",
"// Given\n",
"clear;clc;\n",
"fh=1*10^3; // Higher cut-off frequency\n",
"fl=200; // Lower cut-off frequency\n",
"fc=sqrt(fl*fh); // Center frequency\n",
"printf('\n Center frequency fc is = %.1f Hz \n',fc) // Result\n",
"Q=fc/(fh-fl); // Quality factor\n",
"printf('\n Quality factor Q is = %.2f  \n',Q) // Result"
   ]
   }
,
{
		   "cell_type": "markdown",
		   "metadata": {},
		   "source": [
			"## Example 7.8_a: Design_of_narrow_bandpass_filter.sce"
		   ]
		  },
  {
"cell_type": "code",
	   "execution_count": null,
	   "metadata": {
	    "collapsed": true
	   },
	   "outputs": [],
"source": [
"// Chapter7\n",
"// Page.No-272\n",
"// Example_7_8_a\n",
"// Design of narrow bandpass filter\n",
"// Given\n",
"clear;clc;\n",
"fc=1*10^3; // Center frequency\n",
"Q=3; // Quality factor\n",
"Af=10; // Passband gain\n",
"C1=0.01*10^-6; // Assumption\n",
"C2=C1;\n",
"R1=Q/(2*%pi*fc*C1*Af);\n",
"R2=Q/(2*%pi*fc*C1*(2*Q^2-Af));\n",
"R3=Q/(%pi*fc*C1);\n",
"printf('\n Resistance R1 is = %.1f ohm \n', R1) // Result\n",
"printf('\n Resistance R2 is = %.1f ohm \n', R2) // Result\n",
"printf('\n Resistance R3 is = %.1f ohm \n', R3) // Result"
   ]
   }
,
{
		   "cell_type": "markdown",
		   "metadata": {},
		   "source": [
			"## Example 7.8_b: Design_of_narrow_bandpass_filter.sce"
		   ]
		  },
  {
"cell_type": "code",
	   "execution_count": null,
	   "metadata": {
	    "collapsed": true
	   },
	   "outputs": [],
"source": [
"// Chapter7\n",
"// Page.No-272\n",
"// Example_7_8_a\n",
"// Design of narrow bandpass filter\n",
"// Given\n",
"clear;clc;\n",
"fc0=1*10^3; // Original center frequency\n",
"fc1=1.5*10^3; // New center frequency\n",
"R2=5.97*10^3; // Original resistance\n",
"R2new=R2*(fc0/fc1)^2;\n",
"printf('\n Resistance R1 is = %.1f ohm \n', R2new) // Result"
   ]
   }
,
{
		   "cell_type": "markdown",
		   "metadata": {},
		   "source": [
			"## Example 7.9: Design_of_wide_bandreject_filter.sce"
		   ]
		  },
  {
"cell_type": "code",
	   "execution_count": null,
	   "metadata": {
	    "collapsed": true
	   },
	   "outputs": [],
"source": [
"// Chapter7\n",
"// Page.No-274\n",
"// Example_7_9\n",
"// Design of wide bandreject filter\n",
"// Given\n",
"clear;clc;\n",
"fh=200; // Low cutoff freq in Hz\n",
"fl=1*10^3; // High cutoff freq in Hz\n",
"C2=0.01*10^-6; // Assumption\n",
"R2=1/(2*%pi*fl*C2);\n",
"printf('\n Resistance R2 of highpass section is = %.1f ohm \n', R2) // Result\n",
"C=0.05*10^-6;\n",
"R=1/(2*%pi*fh*C);\n",
"printf('\n Resistance R of lowpass section is = %.1f ohm \n', R) // Result\n",
"printf('\n Bandpass Gain Af is = 4 \n') // Since gain of high pass and lowpass is set to 2\n",
"R1=10*10^3; // Assumption\n",
"printf('\n Resistance R1 is = %.1f ohm \n',R1)\n",
"Rf=R1; // Since passband gain is 2,R1 and Rf must be equal\n",
"printf('\n Resistance Rf is = %.1f ohm \n',Rf)"
   ]
   }
],
"metadata": {
		  "kernelspec": {
		   "display_name": "Scilab",
		   "language": "scilab",
		   "name": "scilab"
		  },
		  "language_info": {
		   "file_extension": ".sce",
		   "help_links": [
			{
			 "text": "MetaKernel Magics",
			 "url": "https://github.com/calysto/metakernel/blob/master/metakernel/magics/README.md"
			}
		   ],
		   "mimetype": "text/x-octave",
		   "name": "scilab",
		   "version": "0.7.1"
		  }
		 },
		 "nbformat": 4,
		 "nbformat_minor": 0
}
