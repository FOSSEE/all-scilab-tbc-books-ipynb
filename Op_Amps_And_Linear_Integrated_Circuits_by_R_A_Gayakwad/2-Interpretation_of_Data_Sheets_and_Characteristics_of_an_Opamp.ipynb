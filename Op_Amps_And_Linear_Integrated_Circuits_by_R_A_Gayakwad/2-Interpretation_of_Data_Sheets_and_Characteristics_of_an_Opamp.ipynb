{
"cells": [
 {
		   "cell_type": "markdown",
	   "metadata": {},
	   "source": [
       "# Chapter 2: Interpretation of Data Sheets and Characteristics of an Opamp"
	   ]
	},
{
		   "cell_type": "markdown",
		   "metadata": {},
		   "source": [
			"## Example 2.1_a: Output_voltage_for_Openloop_differential_amplifier.sce"
		   ]
		  },
  {
"cell_type": "code",
	   "execution_count": null,
	   "metadata": {
	    "collapsed": true
	   },
	   "outputs": [],
"source": [
"//Chapter2\n",
"//Page.No-45, Figure.No-2.9\n",
"//Example_2_1_a\n",
"//Output voltage for open-loop differential amplifier\n",
"//Given:\n",
"clear;clc;\n",
"vin1=5*10^-6;vin2=-7*10^-6;  // Both input voltages are in volts\n",
"A=200000; // Voltage gain\n",
"vo=A*(vin1-vin2); //Output voltage in volts\n",
"printf('\n Output voltage is vo = %.1f V dc \n',vo) // Result"
   ]
   }
,
{
		   "cell_type": "markdown",
		   "metadata": {},
		   "source": [
			"## Example 2.1_b: Output_voltage_for_openloop_differential_amplifier.sce"
		   ]
		  },
  {
"cell_type": "code",
	   "execution_count": null,
	   "metadata": {
	    "collapsed": true
	   },
	   "outputs": [],
"source": [
"//Chapter2\n",
"//Page.No-45, Figure.No-2.9\n",
"//EXAMPLE_2_1_b\n",
"//Output voltage for open-loop differential amplifier\n",
"//Given:\n",
"clear;clc;\n",
"vin1=10*10^-3;vin2=20*10^-3;  // Both input voltages are in volts\n",
"A=200000; // Voltage gain\n",
"vo=A*(vin1-vin2); // Output voltage in volts\n",
"printf('\n Output voltage is vo = %.f V rms \n',vo) // Result"
   ]
   }
,
{
		   "cell_type": "markdown",
		   "metadata": {},
		   "source": [
			"## Example 2.2_a: Output_voltage_for_inverting_amplifier.sce"
		   ]
		  },
  {
"cell_type": "code",
	   "execution_count": null,
	   "metadata": {
	    "collapsed": true
	   },
	   "outputs": [],
"source": [
"//Chapter2\n",
"//Page.No-46, Figure.No-2.10\n",
"//Example_2_2_a\n",
"//Output voltage for inverting amplifier\n",
"//Given:\n",
"clear;clc;\n",
"vin=20*10^-3;  // Input voltage in volts\n",
"A=200000; // Voltage gain\n",
"vo=-(A*vin); // Output voltage in volts\n",
"printf('\n Output voltage is vo = %.f V \n',vo) // Result"
   ]
   }
,
{
		   "cell_type": "markdown",
		   "metadata": {},
		   "source": [
			"## Example 2.2_b: Output_voltage_for_inverting_amplifier.sce"
		   ]
		  },
  {
"cell_type": "code",
	   "execution_count": null,
	   "metadata": {
	    "collapsed": true
	   },
	   "outputs": [],
"source": [
"//Chapter2\n",
"//Page.No-46, Figure.No-2.10\n",
"//Example_2_2_b\n",
"//Output voltage for inverting amplifier\n",
"//Given:\n",
"clear;clc;\n",
"vin=-50*10^-6;  // Input voltage in volts\n",
"A=200000; // Voltage gain\n",
"vo=-(A*vin); // Output voltage in volts\n",
"printf('\n Output voltage is vo = %.f V \n',vo) // Result"
   ]
   }
],
"metadata": {
		  "kernelspec": {
		   "display_name": "Scilab",
		   "language": "scilab",
		   "name": "scilab"
		  },
		  "language_info": {
		   "file_extension": ".sce",
		   "help_links": [
			{
			 "text": "MetaKernel Magics",
			 "url": "https://github.com/calysto/metakernel/blob/master/metakernel/magics/README.md"
			}
		   ],
		   "mimetype": "text/x-octave",
		   "name": "scilab",
		   "version": "0.7.1"
		  }
		 },
		 "nbformat": 4,
		 "nbformat_minor": 0
}
