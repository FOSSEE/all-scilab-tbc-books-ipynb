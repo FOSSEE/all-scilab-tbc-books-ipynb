{
"cells": [
 {
		   "cell_type": "markdown",
	   "metadata": {},
	   "source": [
       "# Chapter 1: Introduction to Operational Amplifier"
	   ]
	},
{
		   "cell_type": "markdown",
		   "metadata": {},
		   "source": [
			"## Example 1.1_a: Collector_current_and_dc_voltage.sce"
		   ]
		  },
  {
"cell_type": "code",
	   "execution_count": null,
	   "metadata": {
	    "collapsed": true
	   },
	   "outputs": [],
"source": [
"//Chapter1\n",
"//Page.No-4, \n",
"//Example_1_1_a, Figure.No-1.2\n",
"//Collector current and dc voltage\n",
"//Given:\n",
"clear;clc;\n",
"Vcc=6;Vbe5=0.7;Vee=6;Vbe3=6.7;Vbe6=0.7;Vbe7=0.7; // Voltage in volts\n",
"Rc1=6.7*10^3; // Resistance in ohms\n",
"Ic1=rand();\n",
"Vc1=Vcc-Rc1*Ic1;\n",
"Ve4=Vc1-Vbe5;\n",
"I4=(Ve4+Vee)/(9.1*10^3+5.5*10^3);\n",
"Vb3=5.5*10^3*I4-Vee;\n",
"Ve3=Vb3-Vbe3;\n",
"Ie3=(Ve3+Vbe3)/3.3*10^3;\n",
"Ic1=1.08*10^-3/2.765; // Since Ie3=2*Ic1,substituting in above equation and simplifying\n",
"printf('\n Collector current Ic1 is = %.5f A \n',Ic1) // Result\n",
"Vc1=Vcc-Rc1*Ic1;\n",
"printf('\n Voltage Vc1 is = %.2f V \n',Vc1) // Result\n",
"Ve4=Vc1-Vbe5;\n",
"printf('\n Voltage Ve4 is = %.2f V \n',Ve4) // Result\n",
"Ie4=(Ve4+Vee)/(29.2*10^3);\n",
"printf('\n Current Ie4 is = %.6f A \n',Ie4) // Result\n",
"Ic5=Ie4;\n",
"printf('\n Current Ic5 is = %.6f A \n',Ic5) // Result\n",
"Vc5=Vcc-3.8*10^3*Ic5;\n",
"printf('\n Voltage Vc5 is = %.2f V \n',Vc5) // Result\n",
"Ve6=Vc5-Vbe6;\n",
"printf('\n Voltage Ve6 is = %.2f V \n',Ve6) // Result\n",
"Ie6=(Ve6+Vee)/(15*10^3);\n",
"printf('\n Current Ie6 is = %.6f A \n',Ie6) // Result\n",
"Ve7=Ve6+Vbe7;\n",
"printf('\n Voltage Ve7 is = %.2f V \n',Ve7) // Result\n",
"I1=(Vcc-Ve7)/400;\n",
"printf('\n Current I1 is = %.6f A \n',I1) // Result\n",
"Ie8=I1;\n",
"printf('\n Current Ie8 is = %.6f A \n',Ie8) // Result\n",
"Ve8=-Vee+2*10^3*Ie8;\n",
"printf('\n Voltage Ve8 at the output terminal is = %.2f V \n',Ve8) // Result"
   ]
   }
,
{
		   "cell_type": "markdown",
		   "metadata": {},
		   "source": [
			"## Example 1.1_b: Voltage_gain_of_the_opamp.sce"
		   ]
		  },
  {
"cell_type": "code",
	   "execution_count": null,
	   "metadata": {
	    "collapsed": true
	   },
	   "outputs": [],
"source": [
"//Chapter1\n",
"//Page.No-4, \n",
"//Example_1_1_b, Figure.No-1.2\n",
"//Voltage gain of the opamp\n",
"//Given:\n",
"clear;clc;\n",
"Ie1=0.39*10^-3;Ie4=0.298*10^-3;Ie6=0.678*10^-3; // Current in amps\n",
"Rc1=6.7*10^3;Rc5=3.8*10^3; // Resistance in ohms\n",
"beta_ac=150;\n",
"re1=(25*10^-3)/Ie1;\n",
"re2=re1;\n",
"re4=(25*10^-3)/Ie4;\n",
"re5=re4;\n",
"re6=(25*10^-3)/Ie6;\n",
"k=(Rc1*2*beta_ac*re4)/(Rc1+2*beta_ac*re4);\n",
"Ad1=k/re1;\n",
"printf('\n Voltage gain of the dual-input,balanced output-differential amplifier is = %.2f  \n',Ad1) // Result\n",
"k1=(Rc5*beta_ac*(re6+15*10^3))/(Rc5+beta_ac*(re6+15*10^3));\n",
"Ad2=k1/(2*re5);\n",
"printf('\n Voltage gain of the dual-input,unbalanced output-differential amplifier is = %.1f  \n',Ad2) // Result\n",
"Ad=82.55*22.6; // Using Ad=Ad1*Ad2\n",
"printf('\n Overall gain of the op-amp is = %.2f  \n',Ad) // Result"
   ]
   }
,
{
		   "cell_type": "markdown",
		   "metadata": {},
		   "source": [
			"## Example 1.1_c: Input_resistance_of_the_opamp.sce"
		   ]
		  },
  {
"cell_type": "code",
	   "execution_count": null,
	   "metadata": {
	    "collapsed": true
	   },
	   "outputs": [],
"source": [
"//Chapter1\n",
"//Page.No-4, \n",
"//Example_1_1_c, Figure.No-1.2\n",
"//Input resistance of the opamp\n",
"//Given:\n",
"clear;clc;\n",
"beta_ac=150;\n",
"re1=64.1; // Resistance in ohms\n",
"Ri=2*beta_ac*re1;\n",
"printf('\n Input resistance Ri is = %.1f ohm \n',Ri) // Result"
   ]
   }
],
"metadata": {
		  "kernelspec": {
		   "display_name": "Scilab",
		   "language": "scilab",
		   "name": "scilab"
		  },
		  "language_info": {
		   "file_extension": ".sce",
		   "help_links": [
			{
			 "text": "MetaKernel Magics",
			 "url": "https://github.com/calysto/metakernel/blob/master/metakernel/magics/README.md"
			}
		   ],
		   "mimetype": "text/x-octave",
		   "name": "scilab",
		   "version": "0.7.1"
		  }
		 },
		 "nbformat": 4,
		 "nbformat_minor": 0
}
