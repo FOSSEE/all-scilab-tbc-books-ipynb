{
"cells": [
 {
		   "cell_type": "markdown",
	   "metadata": {},
	   "source": [
       "# Chapter 4: The Practical Opamp"
	   ]
	},
{
		   "cell_type": "markdown",
		   "metadata": {},
		   "source": [
			"## Example 4.10_a: Error_voltage_and_output_voltage.sce"
		   ]
		  },
  {
"cell_type": "code",
	   "execution_count": null,
	   "metadata": {
	    "collapsed": true
	   },
	   "outputs": [],
"source": [
"// Chapter4\n",
"// Page.No-141, Figure.No-4.26\n",
"// Example_4_10_a\n",
"// Error voltage and output voltage\n",
"// Given\n",
"clear;clc;\n",
"delta_Vio=(30*10^-6); // Change in input offset voltage\n",
"delta_T=1; // Unit change in temperature\n",
"delta_Iio=(300*10^-12); // Change in input offset current\n",
"Vs=15;\n",
"R1=1*10^3;Rf=100*10^3;\n",
"Vin=1*10^-3; // Input voltage\n",
"k=25; // Amplifier is nulled at 25 deg\n",
"T=35-k; // Change in temperature\n",
"Ev=(1+Rf/R1)*(delta_Vio/delta_T)*T + Rf*(delta_Iio/delta_T)*T; // Error voltage\n",
"printf('\n Error voltage is = %.4f V dc \n',Ev) // Result\n",
"Vo=(1+Rf/R1)*Vin+Ev; // Output voltage\n",
"printf('\n Output voltage is = %.4f V \n',Vo) // Result \n",
"// (OR)  \n",
"Vo=(1+Rf/R1)*Vin-Ev; // Output voltage\n",
"printf('\n Output voltage is = %.4f V \n',Vo) // Result"
   ]
   }
,
{
		   "cell_type": "markdown",
		   "metadata": {},
		   "source": [
			"## Example 4.10_b: Error_voltage_and_output_voltage.sce"
		   ]
		  },
  {
"cell_type": "code",
	   "execution_count": null,
	   "metadata": {
	    "collapsed": true
	   },
	   "outputs": [],
"source": [
"// Chapter4\n",
"// Page.No-141, Figure.No-4.26\n",
"// Example_4_10_b\n",
"// Error voltage and output voltage\n",
"// Given\n",
"clear;clc;\n",
"delta_Vio=(30*10^-6); // Change in input offset voltage\n",
"delta_T=1; // Unit change in temperature\n",
"delta_Iio=(300*10^-12); // Change in input offset current\n",
"Vs=15;\n",
"R1=1*10^3;Rf=100*10^3;Rl=10*10^3;\n",
"Vin=10*10^-3; // Input voltage\n",
"k=25; // Amplifier is nulled at 25 deg\n",
"T=35-k; // Change in temperature\n",
"Ev=(1+Rf/R1)*(delta_Vio/delta_T)*T + Rf*(delta_Iio/delta_T)*T; // Error voltage\n",
"printf('\n Error voltage is = %.4f V dc \n',Ev) // Result\n",
"Vo=(1+Rf/R1)*Vin+Ev; // Output voltage\n",
"printf('\n Output voltage is = %.4f V dc \n',Vo) // Result \n",
"// (OR) \n",
"Vo=(1+Rf/R1)*Vin-Ev; // Output voltage\n",
"printf('\n Output voltage is = %.4f V dc \n',Vo) // Result"
   ]
   }
,
{
		   "cell_type": "markdown",
		   "metadata": {},
		   "source": [
			"## Example 4.11_a: Output_offset_voltage.sce"
		   ]
		  },
  {
"cell_type": "code",
	   "execution_count": null,
	   "metadata": {
	    "collapsed": true
	   },
	   "outputs": [],
"source": [
"// Chapter4\n",
"// Page.No-141, Figure.No-4.28\n",
"// Example_4_11_a\n",
"// Output offset voltage\n",
"// Given\n",
"clear;clc;\n",
"delta_Vio=15.85*10^-6; // Change in input offset voltage\n",
"delta_V=1; // Unit change in supply voltage\n",
"V=2; // Change in supply voltage\n",
"R1=1*10^3;Rf=100*10^3;\n",
"delta_Voo=(1+Rf/R1)*(delta_Vio/delta_V)*V; // Change in output offset voltage\n",
"printf('\n Change in output offset voltage is = %.4f V \n',delta_Voo) // Result"
   ]
   }
,
{
		   "cell_type": "markdown",
		   "metadata": {},
		   "source": [
			"## Example 4.11_b: Output_offset_voltage.sce"
		   ]
		  },
  {
"cell_type": "code",
	   "execution_count": null,
	   "metadata": {
	    "collapsed": true
	   },
	   "outputs": [],
"source": [
"// Chapter4\n",
"// Page.No-141, Figure.No-4.28\n",
"// Example_4_11_b\n",
"// Output offset voltage\n",
"// Given\n",
"clear;clc;\n",
"delta_Vio=15.85*10^-6; // Change in input offset voltage\n",
"delta_V=1; // Unit change in supply voltage\n",
"V=2; // Change in supply voltage\n",
"Vin=10*10^-3;\n",
"R1=1*10^3;Rf=100*10^3;\n",
"delta_Voo=(1+Rf/R1)*(delta_Vio/delta_V)*V; // Output offset voltage\n",
"Vo=(-Rf/R1)*Vin+delta_Voo; // Total output offset voltage\n",
"printf('\n Total output offset voltage is = %.4f V \n',Vo) // Result\n",
"// (OR)\n",
"Vo=(-Rf/R1)*Vin-delta_Voo; // Total output offset voltage\n",
"printf('\n Total output offset voltage is = %.4f V \n',Vo) // Result"
   ]
   }
,
{
		   "cell_type": "markdown",
		   "metadata": {},
		   "source": [
			"## Example 4.12: Output_ripple_voltage.sce"
		   ]
		  },
  {
"cell_type": "code",
	   "execution_count": null,
	   "metadata": {
	    "collapsed": true
	   },
	   "outputs": [],
"source": [
"// Chapter4\n",
"// Page.No-141, Figure.No-4.28(b)\n",
"// Example_4_12\n",
"// Output ripple voltage\n",
"// Given\n",
"clear;clc;\n",
"delta_Vio=15.85*10^-6; // Change in input offset voltage\n",
"delta_V=1; // Unit change in supply voltage\n",
"V=10*10^-3; // Change in supply voltage\n",
"R1=1*10^3;Rf=100*10^3;\n",
"delta_Voo=(1+Rf/R1)*(delta_Vio/delta_V)*V; // Change in output offset voltage\n",
"printf('\n Change in output offset voltage is = %.6f V \n',delta_Voo) // Result"
   ]
   }
,
{
		   "cell_type": "markdown",
		   "metadata": {},
		   "source": [
			"## Example 4.13: Change_in_output_offset_voltage.sce"
		   ]
		  },
  {
"cell_type": "code",
	   "execution_count": null,
	   "metadata": {
	    "collapsed": true
	   },
	   "outputs": [],
"source": [
"// Chapter4\n",
"// Page.No-136, Figure.No-4.24\n",
"// Example_4_13\n",
"// Change in output offset voltage\n",
"// Given\n",
"clear;clc;\n",
"delta_Vio=5*10^-6; // Change in input offset voltage\n",
"delta_t=1; // Unit change in time\n",
"delta_Iio=2*10^-9; // Change in input offset current\n",
"t=4; // Time elapsed(weeks)\n",
"R1=1*10^3;Rf=100*10^3;Rl=10*10^3;\n",
"delta_Voot=(1+Rf/R1)*(delta_Vio/delta_t)*t+Rf*(delta_Iio/delta_t)*t; // Change in output offset voltage\n",
"printf('\n Change in output offset voltage is = %.4f V \n',delta_Voot) // Result"
   ]
   }
,
{
		   "cell_type": "markdown",
		   "metadata": {},
		   "source": [
			"## Example 4.14_a: Output_voltage.sce"
		   ]
		  },
  {
"cell_type": "code",
	   "execution_count": null,
	   "metadata": {
	    "collapsed": true
	   },
	   "outputs": [],
"source": [
"// Chapter4\n",
"// Page.No-153, Figure.No-4.32\n",
"// Example_4_14_a\n",
"// Output voltage\n",
"// Given\n",
"clear;clc;\n",
"R1=1*10^3;R2=1*10^3;Rf=10*10^3;R3=10*10^3;\n",
"vd=5*10^-3; // Differential voltage\n",
"vcm=2*10^-3; // Common-mode voltage\n",
"Ad=Rf/R1; // Closed-loop differential gain\n",
"vo=Ad*vd; // Output voltage\n",
"printf('\n Output voltage is = %.3f V \n',vo) // Result"
   ]
   }
,
{
		   "cell_type": "markdown",
		   "metadata": {},
		   "source": [
			"## Example 4.14_b: Output_common_mode_voltage.sce"
		   ]
		  },
  {
"cell_type": "code",
	   "execution_count": null,
	   "metadata": {
	    "collapsed": true
	   },
	   "outputs": [],
"source": [
"// Chapter4\n",
"// Page.No-153, Figure.No-4.32\n",
"// Example_4_14_b\n",
"// Output common-mode voltage\n",
"// Given\n",
"clear;clc;\n",
"R1=1*10^3;R2=1*10^3;Rf=10*10^3;R3=10*10^3;\n",
"vd=5*10^-3; // Differential voltage\n",
"vcm=2*10^-3; // Common-mode voltage\n",
"Ad=Rf/R1; // Closed-loop differential gain\n",
"CMRRdb=90\n",
"CMRR=10^(90/20); // Using CMRRdb=20*log10(CMRR), to convert the CMRR(dB) value into its equuivalent numerical value\n",
"printf('\n CMRR is = %.2f \n',CMRR) // Result\n",
"vocm=(Ad*vcm)/CMRR; // Output common-mode voltage\n",
"printf('\n Output common-mode voltage is = %.8f V \n',vocm) // Result"
   ]
   }
,
{
		   "cell_type": "markdown",
		   "metadata": {},
		   "source": [
			"## Example 4.1: Design_of_Compensating_Network.sce"
		   ]
		  },
  {
"cell_type": "code",
	   "execution_count": null,
	   "metadata": {
	    "collapsed": true
	   },
	   "outputs": [],
"source": [
"// Chapter4\n",
"// Page.No-114\n",
"// Example_4_1\n",
"// Design of Compensating Network\n",
"// Given\n",
"clear;clc;\n",
"V=10 // Supply voltage\n",
"Vio=10*10^-3; // Input offset voltage\n",
"Rc=10; // Assumption\n",
"Rb=(V/Vio)*Rc;\n",
"printf('\n Resistance Rb is = %.f ohms \n',Rb) // Result\n",
"Ra=Rb/2.5; // Since Rb>Rmax,let us choose Rb=10*Rmax where Rmax=Ra/4\n",
"printf('\n Resistance Ra is = %.f ohms \n',Ra) // Result"
   ]
   }
,
{
		   "cell_type": "markdown",
		   "metadata": {},
		   "source": [
			"## Example 4.2: Max_Output_offset_voltage.sce"
		   ]
		  },
  {
"cell_type": "code",
	   "execution_count": null,
	   "metadata": {
	    "collapsed": true
	   },
	   "outputs": [],
"source": [
"// Chapter4\n",
"// Page.No-121, Figure.No-4.13\n",
"// Example_4_2\n",
"// Max Output offset voltage\n",
"// Given\n",
"clear;clc;\n",
"R1=1*10^3;Rf=10*10^3;\n",
"Vio=10*10^-3; // Input offset voltage\n",
"Aoo=1+Rf/R1; // To find max value of Voo,we reduce input voltage vin to zero.\n",
"Voo=Aoo*Vio; // Max output offset voltage\n",
"printf('\n Max output offset voltage is = %.3f V dc \n',Voo) // Result"
   ]
   }
,
{
		   "cell_type": "markdown",
		   "metadata": {},
		   "source": [
			"## Example 4.3: Design_of_input_offset_voltage_compensating_network.sce"
		   ]
		  },
  {
"cell_type": "code",
	   "execution_count": null,
	   "metadata": {
	    "collapsed": true
	   },
	   "outputs": [],
"source": [
"// Chapter4\n",
"// Page.No-121, Figure.No-4.14\n",
"// Example_4_3\n",
"// Design of input offset voltage-compensating network\n",
"// Given\n",
"clear;clc;\n",
"R1=1*10^3;Rf=10*10^3;Rc=10;\n",
"Af=1+Rf/(R1+Rc); // Closed loop gain of non-inverting amplifier\n",
"printf('\n Closed loop gain of non-inverting amplifier is = %.1f \n',Af) // Result"
   ]
   }
,
{
		   "cell_type": "markdown",
		   "metadata": {},
		   "source": [
			"## Example 4.4_a: Max_Output_offset_voltage.sce"
		   ]
		  },
  {
"cell_type": "code",
	   "execution_count": null,
	   "metadata": {
	    "collapsed": true
	   },
	   "outputs": [],
"source": [
"// Chapter4\n",
"// Page.No-127, Figure.No-4.19\n",
"// Example_4_4_a\n",
"// Max Output offset voltage\n",
"// Given\n",
"clear;clc;\n",
"R1=470;Rf=47*10^3;\n",
"Vio=6*10^-3;\n",
"Ib=500*10^-9;\n",
"Vs=15;\n",
"// Max output offset voltage due to input offset voltage,Vio is :\n",
"Voo=(1+Rf/R1)*Vio; // Max output offset voltage\n",
"printf('\n Max output offset voltage is = %.3f V dc \n',Voo) // Result\n",
"// Max output offset voltage due to input offset voltage,Ib is :\n",
"VoIb=Rf*Ib; // Max output offset voltage\n",
"printf('\n Max output offset voltage due to input offset current,Ib is = %.6f V dc \n',VoIb) // Result"
   ]
   }
,
{
		   "cell_type": "markdown",
		   "metadata": {},
		   "source": [
			"## Example 4.4_b: Effect_of_input_bias_current.sce"
		   ]
		  },
  {
"cell_type": "code",
	   "execution_count": null,
	   "metadata": {
	    "collapsed": true
	   },
	   "outputs": [],
"source": [
"// Chapter4\n",
"// Page.No-127, Figure.No-4.19\n",
"// Example_4_4_b\n",
"// Effect of input bias current\n",
"// Given\n",
"clear;clc;\n",
"R1=470;Rf=47*10^3;\n",
"ROM=R1*Rf/(R1+Rf); // Parallel combination of R1 and Rf\n",
"printf('\n Parallel combination of R1 and Rf,i.e ROM is = %.1f ohm \n',ROM) // Approximately the value is 47 ohm"
   ]
   }
,
{
		   "cell_type": "markdown",
		   "metadata": {},
		   "source": [
			"## Example 4.5_a: Max_Output_offset_voltage.sce"
		   ]
		  },
  {
"cell_type": "code",
	   "execution_count": null,
	   "metadata": {
	    "collapsed": true
	   },
	   "outputs": [],
"source": [
"// Chapter4\n",
"// Page.No-127, Figure.No-4.19\n",
"// Example_4_5_a\n",
"// Max Output offset voltage\n",
"// Given\n",
"clear;clc;\n",
"R1=1*10^3;Rf=100*10^3;\n",
"Vio=6*10^-3;\n",
"Ib=500*10^-9;\n",
"Vs=15;\n",
"// Max output offset voltage due to input offset voltage,Vio is :\n",
"Voo=(1+Rf/R1)*Vio; // Max output offset voltage\n",
"printf('\n Max output offset voltage due to input offset voltage,Vio is = %.4f V dc \n',Voo) // Result\n",
"// Max output offset voltage due to input offset voltage,Ib is :\n",
"VoIb=Rf*Ib; // Max output offset voltage\n",
"printf('\n Max output offset voltage due to input offset current,Ib is = %.4f V dc \n',VoIb) // Result"
   ]
   }
,
{
		   "cell_type": "markdown",
		   "metadata": {},
		   "source": [
			"## Example 4.5_b: Effect_of_input_bias_current.sce"
		   ]
		  },
  {
"cell_type": "code",
	   "execution_count": null,
	   "metadata": {
	    "collapsed": true
	   },
	   "outputs": [],
"source": [
"// Chapter4\n",
"// Page.No-127, Figure.No-4.19\n",
"// Example_4_4_b\n",
"// Effect of input bias current\n",
"// Given\n",
"clear;clc;\n",
"R1=1*10^3;Rf=100*10^3;\n",
"ROM=R1*Rf/(R1+Rf); // Parallel combination of R1 and Rf\n",
"printf('\n Parallel combination of R1 and Rf,i.e ROM is = %.f ohm \n',ROM)"
   ]
   }
,
{
		   "cell_type": "markdown",
		   "metadata": {},
		   "source": [
			"## Example 4.6: Max_Output_offset_voltage.sce"
		   ]
		  },
  {
"cell_type": "code",
	   "execution_count": null,
	   "metadata": {
	    "collapsed": true
	   },
	   "outputs": [],
"source": [
"// Chapter4\n",
"// Page.No-130, Figure.No-4.21\n",
"// Example_4_6\n",
"// Max Output offset voltage\n",
"// Given\n",
"clear;clc;\n",
"Iio=200*10^-9; // Input offset current\n",
"Rf=100*10^3;\n",
"VoIio=Rf*Iio; // Max output offset voltage\n",
"printf('\n Max output offset voltage due to input offset current,Ib is = %.4f V dc \n',VoIio) // Result"
   ]
   }
,
{
		   "cell_type": "markdown",
		   "metadata": {},
		   "source": [
			"## Example 4.7: Total_Output_offset_voltage.sce"
		   ]
		  },
  {
"cell_type": "code",
	   "execution_count": null,
	   "metadata": {
	    "collapsed": true
	   },
	   "outputs": [],
"source": [
"// Chapter4\n",
"// Page.No-132, Figure.No-4.22(a)\n",
"// Example_4_7\n",
"// Total Output offset voltage\n",
"// Given\n",
"clear;clc;\n",
"R1=1*10^3;Rf=10*10^3;\n",
"Vio=7.5*10^-3; // Max input offset voltage\n",
"Iio=50*10^-9; // Max input offset current\n",
"Ib=250*10^-9; // Max input bias current\n",
"// For figure 4.22(a)\n",
"VooT=(1+Rf/R1)*Vio+(Rf*Ib); // Since the current generated output offset voltage is due to input bias current Ib\n",
"printf('\n Max total output offset voltage due to input offset current,Ib is = %.4f V  \n',VooT) // Result\n",
"\n",
"// For figure 4.22(b)\n",
"VooT=(1+Rf/R1)*Vio+(Rf*Iio); // Since the current generated output offset voltage is due to input offset current Ib\n",
"printf('\n Max total output offset voltage due to input offset current,Ib is = %.4f V  \n',VooT) // Result"
   ]
   }
,
{
		   "cell_type": "markdown",
		   "metadata": {},
		   "source": [
			"## Example 4.8_a: Error_voltage_and_output_voltage.sce"
		   ]
		  },
  {
"cell_type": "code",
	   "execution_count": null,
	   "metadata": {
	    "collapsed": true
	   },
	   "outputs": [],
"source": [
"// Chapter4\n",
"// Page.No-136, Figure.No-4.24\n",
"// Example_4_8_a\n",
"// Error voltage and output voltage\n",
"// Given\n",
"clear;clc;\n",
"delta_Vio=(30*10^-6); // Change in input offset voltage\n",
"delta_T=1; // Unit change in temperature\n",
"delta_Iio=(300*10^-12); // Change in input offset current\n",
"Vs=15;\n",
"R1=1*10^3;Rf=100*10^3;Rl=10*10^3;\n",
"Vin=1*10^-3; // Input voltage\n",
"k=25; // Amplifier is nulled at 25 deg\n",
"T=35-k; // Change in temperature\n",
"Ev=(1+Rf/R1)*(delta_Vio/delta_T)*T + Rf*(delta_Iio/delta_T)*T; // Error voltage\n",
"printf('\n Error voltage is = %.4f V \n',Ev) // Result\n",
"Vo=-(Rf/R1)*Vin+Ev; // Output voltage\n",
"printf('\n Output voltage is = %.4f V \n',Vo) // Result \n",
"// (OR)\n",
"Vo=-(Rf/R1)*Vin-Ev; // Output voltage\n",
"printf('\n Output voltage is = %.4f V \n',Vo) // Result"
   ]
   }
,
{
		   "cell_type": "markdown",
		   "metadata": {},
		   "source": [
			"## Example 4.8_b: Error_voltage_and_output_voltage.sce"
		   ]
		  },
  {
"cell_type": "code",
	   "execution_count": null,
	   "metadata": {
	    "collapsed": true
	   },
	   "outputs": [],
"source": [
"// Chapter4\n",
"// Page.No-136, Figure.No-4.24\n",
"// Example_4_8_b\n",
"// Error voltage and output voltage\n",
"// Given\n",
"clear;clc;\n",
"delta_Vio=(30*10^-6); // Change in input offset voltage\n",
"delta_T=1; // Unit change in temperature\n",
"delta_Iio=(300*10^-12); // Change in input offset current\n",
"Vs=15;\n",
"R1=1*10^3;Rf=100*10^3;Rl=10*10^3;\n",
"Vin=10*10^-3; // Input voltage\n",
"k=25; // Amplifier is nulled at 25 deg\n",
"T=35-k; // Change in temperature\n",
"Ev=(1+Rf/R1)*(delta_Vio/delta_T)*T + Rf*(delta_Iio/delta_T)*T; // Error voltage\n",
"printf('\n Error voltage is = %.4f V \n',Ev) // Result\n",
"Vo=-(Rf/R1)*Vin+Ev; // Output voltage\n",
"printf('\n Output voltage is = %.4f V \n',Vo) // Result \n",
"// (OR)\n",
"Vo=-(Rf/R1)*Vin-Ev; // Output voltage\n",
"printf('\n Output voltage is = %.4f V \n',Vo) // Result"
   ]
   }
,
{
		   "cell_type": "markdown",
		   "metadata": {},
		   "source": [
			"## Example 4.9_a: Error_voltage_and_output_voltage.sce"
		   ]
		  },
  {
"cell_type": "code",
	   "execution_count": null,
	   "metadata": {
	    "collapsed": true
	   },
	   "outputs": [],
"source": [
"// Chapter4\n",
"// Page.No-136, Figure.No-4.24\n",
"// Example_4_9_a\n",
"// Error voltage and output voltage\n",
"// Given\n",
"clear;clc;\n",
"delta_Vio=(30*10^-6); // Change in input offset voltage\n",
"delta_T=1; // Unit change in temperature\n",
"delta_Iio=(300*10^-12); // Change in input offset current\n",
"Vs=15;\n",
"R1=1*10^3;Rf=100*10^3;Rl=10*10^3;\n",
"Vin=10*10^-3; // Input voltage\n",
"k=25; // Amplifier is nulled at 25 deg\n",
"T=55-k; // Change in temperature\n",
"Ev=(1+Rf/R1)*(delta_Vio/delta_T)*T + Rf*(delta_Iio/delta_T)*T; // Error voltage\n",
"printf('\n Error voltage is = %.4f V dc \n',Ev) // Result\n",
"Vo=-(Rf/R1)*Vin+Ev; // Output voltage\n",
"printf('\n Output voltage is = %.4f V \n',Vo) // Result \n",
"// (OR) \n",
"Vo=-(Rf/R1)*Vin-Ev; // Output voltage\n",
"printf('\n Output voltage is = %.4f V \n',Vo) // Result"
   ]
   }
,
{
		   "cell_type": "markdown",
		   "metadata": {},
		   "source": [
			"## Example 4.9_b: Output_waveform.sce"
		   ]
		  },
  {
"cell_type": "code",
	   "execution_count": null,
	   "metadata": {
	    "collapsed": true
	   },
	   "outputs": [],
"source": [
"// Chapter4\n",
"// Page.No-136, Figure.No-4.24\n",
"// Example_4_9_b\n",
"// Output waveform\n",
"// Given\n",
"clear;clc;\n",
"t =0:0.1:2*%pi;\n",
"y = -1000*sin(t)+91.8;\n",
"a = gca();\n",
"a.x_label.text = 'Time';\n",
"a.y_label.text = 'Voltage';\n",
"a.title.text = 'Output waveform';\n",
"plot2d(t,y);\n",
"t1=0:0.1:2*%pi;\n",
"y1=91.8*(t1>=0);\n",
"b=gca();\n",
"b.line_style=3;\n",
"plot2d(t1,y1);"
   ]
   }
],
"metadata": {
		  "kernelspec": {
		   "display_name": "Scilab",
		   "language": "scilab",
		   "name": "scilab"
		  },
		  "language_info": {
		   "file_extension": ".sce",
		   "help_links": [
			{
			 "text": "MetaKernel Magics",
			 "url": "https://github.com/calysto/metakernel/blob/master/metakernel/magics/README.md"
			}
		   ],
		   "mimetype": "text/x-octave",
		   "name": "scilab",
		   "version": "0.7.1"
		  }
		 },
		 "nbformat": 4,
		 "nbformat_minor": 0
}
