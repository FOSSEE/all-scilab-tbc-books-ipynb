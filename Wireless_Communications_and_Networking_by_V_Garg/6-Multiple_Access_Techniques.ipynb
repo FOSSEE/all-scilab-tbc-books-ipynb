{
"cells": [
 {
		   "cell_type": "markdown",
	   "metadata": {},
	   "source": [
       "# Chapter 6: Multiple Access Techniques"
	   ]
	},
{
		   "cell_type": "markdown",
		   "metadata": {},
		   "source": [
			"## Example 6.10: To_find_data_link_protocol_efficiency_with_different_protocols.sce"
		   ]
		  },
  {
"cell_type": "code",
	   "execution_count": null,
	   "metadata": {
	    "collapsed": true
	   },
	   "outputs": [],
"source": [
"// Exa 6.10\n",
"// To calculate the data link protocol efﬁciency with \n",
"//(1) Stop and Wait protocol — full duplex,\n",
"//(2) SRP with window size W=8, and \n",
"//(3) Go-Back-N protocol with window size W=8.\n",
"\n",
"clc;\n",
"clear all;\n",
"\n",
"Tprop=4;  //maximum propogation delay in sec\n",
"R=10; // data rate in Mbps\n",
"PackLen=400; //data packet length in bits\n",
"ACK=20;  //length of ACK packet in bits\n",
"Tproc=1; //processing time(sec)\n",
"p=0.01;//probability that a data packet or its ACK can be corrupted during transmission\n",
"\n",
"//solution\n",
"Tp=PackLen/R; //packet transmission time in microsec\n",
"Ta=ACK/R; // transmission time for an ACK in microsec\n",
"T=Tp+2*Tprop+2*Tproc+Ta;// total time for transmission time \n",
"// Stop and wait ARQ\n",
"Eff0=(1-p)*Tp/((1-p)*T+p*Tp);\n",
"//SRP with window size W=8\n",
"W=8;\n",
"Eff1=(2+p*(W-1))/(2+p*(3*W-1));\n",
"//Go-Back-N protocol with window size W=8\n",
"Eff2=1/(1+W*(p/(1-p)));\n",
"printf('The data link protocol efficiency with Stop and Wait protocol, SRP and GBN are \n %.3f, %.3f abd %.3f respectively\n',Eff0,Eff1,Eff2);"
   ]
   }
,
{
		   "cell_type": "markdown",
		   "metadata": {},
		   "source": [
			"## Example 6.1: To_calculate_spectral_efficiency_of_modulation.sce"
		   ]
		  },
  {
"cell_type": "code",
	   "execution_count": null,
	   "metadata": {
	    "collapsed": true
	   },
	   "outputs": [],
"source": [
"// Exa 6.1\n",
"// To calculate spectral efﬁciency.\n",
"\n",
"clc;\n",
"clear all;\n",
"\n",
"Area=8;  //in km^2\n",
"Cover=4000;// in km^2\n",
"CallBH=1.2;  //Avg calls during BH\n",
"HT=100; // Avg holding time in sec\n",
"Block=0.02; //Blocking=2%\n",
"N=4;//Frequency reuse factor\n",
"Spectrum=12.5;// in MHz\n",
"CHBW=200;// in kHz\n",
"User_CH=8;//No of  users per RF channel\n",
"\n",
"//solution\n",
"RFCH=Spectrum*1000/CHBW;\n",
"TCH=int(RFCH)*User_CH;\n",
"SigCH=3;//No of signalling channels per cell\n",
"TCH_cell=TCH/N-SigCH;\n",
"Cells=Cover/Area;\n",
"OffLoad=108.4;  // in Erlangs\n",
"printf('Using Erlang-B Tables, Total traffic offered by %d channels at 0.02 blocking = %.1f Erlangs/cell \n ',TCH_cell,OffLoad*(1-Block));\n",
"CarLoad=OffLoad*(1-Block);\n",
"Calls_hr_cell=CarLoad*3600/HT;\n",
"MaxUser_hr_cell=Calls_hr_cell/CallBH;\n",
"Seff=CarLoad*Cells/(Spectrum*Cover);\n",
"printf('Spectral Efficiency is %.2f Erlangs/MHz/km^2\n',Seff);"
   ]
   }
,
{
		   "cell_type": "markdown",
		   "metadata": {},
		   "source": [
			"## Example 6.2: To_find_multiple_access_spectral_efficiency_for_FDMA.sce"
		   ]
		  },
  {
"cell_type": "code",
	   "execution_count": null,
	   "metadata": {
	    "collapsed": true
	   },
	   "outputs": [],
"source": [
"// Exa 6.2\n",
"// To calculate spectral efficiency of FDMA.\n",
"\n",
"clc;\n",
"clear all;\n",
"\n",
"TCH=395;  // Traffic Channels\n",
"SysBW=12.5;  //in MHz\n",
"CHspace=30;  // in kHz\n",
"\n",
"//solution\n",
"Eff=TCH*CHspace/(SysBW*1000);\n",
"printf('Multiple access spectral efficiency of FDMA System is %.3f\n ',Eff);"
   ]
   }
,
{
		   "cell_type": "markdown",
		   "metadata": {},
		   "source": [
			"## Example 6.3: To_find_multiple_access_spectral_efficiency_of_the_TDMA_system.sce"
		   ]
		  },
  {
"cell_type": "code",
	   "execution_count": null,
	   "metadata": {
	    "collapsed": true
	   },
	   "outputs": [],
"source": [
"// Exa 6.3\n",
"// To calculate spectral efficiency of TDMA.\n",
"\n",
"clc;\n",
"clear all;\n",
"\n",
"Tf=40;  //Frame duration in msec\n",
"Mt=6;   // Frames per slot\n",
"Bu=30; //bandwidth(KHz) of an individual user during his or her time slot\n",
"Nu=395;//  number of users sharing the same time slot in the system, but having access to different frequency sub-bands\n",
"Bw=12.5; // in MHz\n",
"DR=16.2;//Data rate in kbps\n",
"FDur=40; // Frame duration in msec\n",
"slots=6; //No of slots per time frame\n",
"IndiRate=16.2; //Individual data rate in kbps\n",
"Srate=13;  //Speech rate in kbps\n",
"\n",
"//solution\n",
"TimeSlot=(Srate/IndiRate)*(FDur/slots);\n",
"Seff=TimeSlot*slots*Bu*Nu/(FDur*Bw*1000);\n",
"printf('Multiple access spectral efficiency of TDMA is %.2f\n ',Seff);\n",
"printf('The overhead portion of the frame is %d percent \n ',round((1-Seff)*100));"
   ]
   }
,
{
		   "cell_type": "markdown",
		   "metadata": {},
		   "source": [
			"## Example 6.4: To_calculate_the_capacity_and_spectral_efficiency_of_TDMA_system.sce"
		   ]
		  },
  {
"cell_type": "code",
	   "execution_count": null,
	   "metadata": {
	    "collapsed": true
	   },
	   "outputs": [],
"source": [
"// Exa 6.4\n",
"// To calculate capacity and spectral efﬁciency of a TDMA system.\n",
"\n",
"clc;\n",
"clear all;\n",
"\n",
"nb=0.9; //BW efficiency factor\n",
"u=2;  // Bit Efficiency with QPSK\n",
"Vf=1;  // Voice activity factor\n",
"BW=12.5; //in MHz\n",
"IR=16.2; // in kbps\n",
"N=19; //frequency reuse factor\n",
"\n",
"//solution\n",
"Nu=nb*u*BW*1000/(Vf*IR*N);// number of channels (mobile users) per cell\n",
"Seff=int(Nu)*IR/(BW*1000);\n",
"printf('Capacity of system is %d mobile users per cell\n ',Nu);\n",
"printf('Spectral efficiency of TDMA system is %.3f bit/sec/Hz\n',Seff);"
   ]
   }
,
{
		   "cell_type": "markdown",
		   "metadata": {},
		   "source": [
			"## Example 6.5: To_calculate_the_frame_efficiency_and_the_number_of_channels_per_frame.sce"
		   ]
		  },
  {
"cell_type": "code",
	   "execution_count": null,
	   "metadata": {
	    "collapsed": true
	   },
	   "outputs": [],
"source": [
"// Exa 6.6\n",
"// To calculate frame efﬁciency and the number of channels per frame.\n",
"\n",
"clc;\n",
"clear all;\n",
"\n",
"Nr=2;// number of reference bursts per frame\n",
"Nt=24;  // number of trafﬁc bursts (slots) per frame(120msec)\n",
"FL=120;  //Frame length in msec\n",
"Br=148;  // number of overhead bits per reference burst\n",
"Bp=34; // number of overhead bits per preamble per slot \n",
"Bg=8.25;//number of equivalent bits in each guard time interval \n",
"Tf=120; // frame duration in msec\n",
"Rrf=270.83333333;  // bit rate of the RF channel in kbps\n",
"R=22.8;  //bit rate of each channel in kbps\n",
"\n",
"//solution\n",
"B0=Nr*(8*Br)+Nt*(8*Bp)+(Nt+Nr)*(8*Bg);//The number of overhead bits per frame\n",
"Bt=FL*10^-3*Rrf*10^3;//The total number of bits per frame \n",
"Eff=(1-B0/Bt)*100;\n",
"CH_Frame=(Eff/100)*Rrf/R;//No of channels/frame\n",
"printf('The frame efficiency is %.2f percent\n ',Eff);\n",
"printf('Number of channels/frame are %d\n',round(CH_Frame));"
   ]
   }
,
{
		   "cell_type": "markdown",
		   "metadata": {},
		   "source": [
			"## Example 6.6: To_calculate_capacity_and_spectral_efficiency_of_the_DSCDMA_system.sce"
		   ]
		  },
  {
"cell_type": "code",
	   "execution_count": null,
	   "metadata": {
	    "collapsed": true
	   },
	   "outputs": [],
"source": [
"// Exa 6.6\n",
"// To calculate capacity and spectral efﬁciency of the DS-CDMA system.\n",
"\n",
"clc;\n",
"clear all;\n",
"\n",
"nb=0.9;//bandwidth efﬁciency\n",
"nf=0.45;//frequency reuse efﬁciency \n",
"Cd=0.8; //capacity degradation factor \n",
"Vf=0.4;//voice activity factor \n",
"Eb_I0=7; // desired energy-to-interference ratio in dB\n",
"L=1;//  efﬁciency of sector-antenna in cell \n",
"BW=12.5;//One way system BW in MHz\n",
"R=16.2;//Information rate in kbps\n",
"\n",
"//solution\n",
"Eb_I=10^(Eb_I0*0.1);//To convert from dB to a normal value\n",
"Nu=(nf*nb*Cd*L/Vf)*(BW*1000/(Eb_I*R));//Capacity of system\n",
"Seff=round(Nu)*R/(12.5*10^3);\n",
"printf('Capacity of system is %d mobile users per cell\n ',round(Nu));\n",
"printf('Spectral efficiency of TDMA system is %.3f bits/sec/Hz\n',Seff);\n",
"\n",
"disp('In these calculations, an omnidirectional antenna is assumed. If a three  sector antenna (i.e., G=3) is used at a cell site with lamda(efficiency of sector-antenna in a cell)= 2.6, the capacity will be increased to 325 mobile users  per cell, and spectral efﬁciency will be 0.421 bits/sec/Hz.')"
   ]
   }
,
{
		   "cell_type": "markdown",
		   "metadata": {},
		   "source": [
			"## Example 6.7: Compare_DS_CDMA_and_TDMA_omnidirectional_cell.sce"
		   ]
		  },
  {
"cell_type": "code",
	   "execution_count": null,
	   "metadata": {
	    "collapsed": true
	   },
	   "outputs": [],
"source": [
"// Exa 6.7\n",
"// Using the data given in Exa 6.4 and 6.6, compare the capacity of the DS-CDMA and TDMA omnidirectional cell.\n",
"\n",
"clc;\n",
"clear all;\n",
"\n",
"//Given Data from Exa 6.4 and Exa 6.6\n",
"Cd=0.8; //capacity degradation factor\n",
"R=16.2;//Data rate in kbps\n",
"Eb_I0=7; //in dB\n",
"Eb_I=10^(Eb_I0*0.1);//To convert from dB to a normal value\n",
"Vf=0.4;//voice activity factor \n",
"u=2;  // Bit Efficiency\n",
"IR=16.2; // in kbps\n",
"N=19; //frequency reuse factor\n",
"nf=0.45;//frequency reuse efﬁciency \n",
"\n",
"//solution\n",
"Ncdma_by_Ntdma=Cd*N*nf*IR/(Eb_I*Vf*u*R);\n",
"printf('The ratio of capacity of DS-CDMA to TDMA is %.3f\n',Ncdma_by_Ntdma);"
   ]
   }
,
{
		   "cell_type": "markdown",
		   "metadata": {},
		   "source": [
			"## Example 6.8: To_calculate_minimum_number_of_PN_chips_per_frequency_word.sce"
		   ]
		  },
  {
"cell_type": "code",
	   "execution_count": null,
	   "metadata": {
	    "collapsed": true
	   },
	   "outputs": [],
"source": [
"// Exa 6.8\n",
"// To calculate the minimum number of PN chips that are required for each frequency word.\n",
"\n",
"clc;\n",
"clear all;\n",
"\n",
"Bss=600;  //Hopping bandwidth in MHz\n",
"stepsize=400; // in Hz\n",
"\n",
"//solution\n",
"No_of_Tones=Bss*10^6/stepsize;\n",
"Min_chips_required=log2(No_of_Tones);\n",
"printf('Minimum number of chips required are %d chips \n ',Min_chips_required);"
   ]
   }
,
{
		   "cell_type": "markdown",
		   "metadata": {},
		   "source": [
			"## Example 6.9: To_find_normalized_throughput_for_different_CSMA_protocols.sce"
		   ]
		  },
  {
"cell_type": "code",
	   "execution_count": null,
	   "metadata": {
	    "collapsed": true
	   },
	   "outputs": [],
"source": [
"// Exa 6.9\n",
"// To calculate the normalized throughput with: \n",
"//(a) an unslotted nonpersistent,\n",
"//(b) a slotted persistent, and\n",
"//(c) a slotted 1-persistent CSMA protocol.\n",
"\n",
"clc;\n",
"clear all;\n",
"\n",
"e=2.71828; //Euler's number\n",
"Tprop=0.4; //Max propogation delay in sec\n",
"R=10; //data rate in Mbps\n",
"PackLen=400; //packet length in bits\n",
"\n",
"//solution\n",
"Tp=PackLen/R; //packet transmission time in microsec\n",
"a=Tprop/Tp;\n",
"G=Tp*10^-6*R*10^6/PackLen;//normalized offered trafﬁc load \n",
"//Slotted nonpersistent\n",
"S0=a*G*e^(-a*G)/(1-e^(-a*G)+a);//normalized throughput \n",
"//Unslotted nonpersistent\n",
"S1=G*e^(-a*G)/(1+(2*a)+e^(-a*G));//normalized throughput \n",
"//Slotted 1-persistent\n",
"S2=G*e^(-G*(1+a))*(1+a-e^(-a*G))/((1+a)*(1-e^(-a*G))+a*e^(-G*(1+a)));//normalized throughput \n",
"printf('The Normalized throughput with an unslotted non persistent, a slotted persistent and a slotted 1-persistent CSMA protocol are \n %.3f,%.3f and %.3f respectively \n',S0,S1,S2);"
   ]
   }
],
"metadata": {
		  "kernelspec": {
		   "display_name": "Scilab",
		   "language": "scilab",
		   "name": "scilab"
		  },
		  "language_info": {
		   "file_extension": ".sce",
		   "help_links": [
			{
			 "text": "MetaKernel Magics",
			 "url": "https://github.com/calysto/metakernel/blob/master/metakernel/magics/README.md"
			}
		   ],
		   "mimetype": "text/x-octave",
		   "name": "scilab",
		   "version": "0.7.1"
		  }
		 },
		 "nbformat": 4,
		 "nbformat_minor": 0
}
