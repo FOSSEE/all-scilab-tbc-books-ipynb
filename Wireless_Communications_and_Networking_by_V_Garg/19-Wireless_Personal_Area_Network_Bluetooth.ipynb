{
"cells": [
 {
		   "cell_type": "markdown",
	   "metadata": {},
	   "source": [
       "# Chapter 19: Wireless Personal Area Network Bluetooth"
	   ]
	},
{
		   "cell_type": "markdown",
		   "metadata": {},
		   "source": [
			"## Example 19.1: To_find_hopping_rate_and_various_other_parameters_of_Bluetooth.sce"
		   ]
		  },
  {
"cell_type": "code",
	   "execution_count": null,
	   "metadata": {
	    "collapsed": true
	   },
	   "outputs": [],
"source": [
"// Exa 19.1\n",
"// To calculate the hopping rate of bluetooth, No of bits transmitted in one slot, efficiency of packet transmission, and No of times a packet is sent.\n",
"\n",
"clc;\n",
"clear all;\n",
"\n",
"SS=80; //Frame length of HV3 voice packet\n",
"R=64*10^3; //Data rate in bps\n",
"\n",
"//solution\n",
"TS=240; //No of bits carried in a slot\n",
"//From table 19.3:Bluetooth air interface details, we get Frequency hopping rate as 1600hopes/second\n",
"\n",
"//From table 19.5, we can note that for HV3, No of slots are 1 and carry in all(80(user voice sample)+160(parity bits))=240 bits in one slot packet\n",
"HR=1600; //hopes/second\n",
"Eff=SS/TS;\n",
"x=R/SS;  //x is number of times a packet is sent\n",
"printf('Hopping rate is %d hopes/sec \n ',HR);\n",
"printf('No of bits transmitted in one slot are %d \n ',TS);\n",
"printf('Efficiency of packet transmission is %.4f \n ',Eff);\n",
"printf('Number of times a packet is sent is equal to %d \n ',x);"
   ]
   }
,
{
		   "cell_type": "markdown",
		   "metadata": {},
		   "source": [
			"## Example 19.2: To_find_the_associated_data_rate_of_a_symmetric_1soot_DM1.sce"
		   ]
		  },
  {
"cell_type": "code",
	   "execution_count": null,
	   "metadata": {
	    "collapsed": true
	   },
	   "outputs": [],
"source": [
"// Exa 19.2\n",
"// To find the associated data rate.\n",
"\n",
"clc;\n",
"clear all;\n",
"\n",
"R=136; // bits per slot\n",
"SR=800; // no of slots per second\n",
"\n",
"//solution\n",
"// A symmetric 1-slot DM1 link is setup  between a master and a slave\n",
"AR=R*SR; //Data rate in bps\n",
"\n",
"printf('Associated data rate is %0.1f kbps \n ',AR/1000);"
   ]
   }
],
"metadata": {
		  "kernelspec": {
		   "display_name": "Scilab",
		   "language": "scilab",
		   "name": "scilab"
		  },
		  "language_info": {
		   "file_extension": ".sce",
		   "help_links": [
			{
			 "text": "MetaKernel Magics",
			 "url": "https://github.com/calysto/metakernel/blob/master/metakernel/magics/README.md"
			}
		   ],
		   "mimetype": "text/x-octave",
		   "name": "scilab",
		   "version": "0.7.1"
		  }
		 },
		 "nbformat": 4,
		 "nbformat_minor": 0
}
