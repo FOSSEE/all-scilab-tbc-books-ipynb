{
"cells": [
 {
		   "cell_type": "markdown",
	   "metadata": {},
	   "source": [
       "# Chapter 12: Mobility Management in Wireless Networks"
	   ]
	},
{
		   "cell_type": "markdown",
		   "metadata": {},
		   "source": [
			"## Example 12.1: EX12_1.sce"
		   ]
		  },
  {
"cell_type": "code",
	   "execution_count": null,
	   "metadata": {
	    "collapsed": true
	   },
	   "outputs": [],
"source": [
"// Exa 12.1\n",
"// To evaluate the impact of LUs on the radio resource and calculate the MSC/VLR transaction load using the ﬂuid ﬂow model.\n",
"\n",
"clc;\n",
"clear all;\n",
"\n",
"P=10000;  //Mobile density(mobiles/km^2)\n",
"R=500*10^-3; //km\n",
"V=10;  ..//Average moving velocity of a mobile in Kmph\n",
"Nc=10; //No of cells per LA\n",
"N_LA=5; //Number of LAs per MSC/VLR \n",
"\n",
"//Number of transactions and duration of each transaction to MSC/VLR per LU for different LU types are given in Table 12.1.(page no.374)\n",
"\n",
"// solution\n",
"// L=length (km) of the cell exposed perimeter in an LA\n",
"L=6*R*(1/3+1/(2*sqrt(Nc)-3));   //Km\n",
"// lamdaLU=number of transactions processed by MSC/VLR in an LA perimeter of the jth cell per hour\n",
"LamdaLu=V*P*L/%pi;  //Lus per hour\n",
"\n",
"\n",
"// case(1)\n",
"disp('Case-1:In the ﬁrst case, the jth cell located at the border of two LAs is related to the same MSC/VLR, only intra-VLR LUs are processed in the cell');\n",
"R1_LU=LamdaLu/3600*(1*600/1000); //resource occupancy from Table 12.1\n",
"disp('');\n",
"printf(' The resource occupancy in the jth cell due to MS LUs is  %.1f Erlangs\n',R1_LU);\n",
"\n",
"disp('This requires 18 channels at 1% blocking (refer to the Erlang-B table, Appendix A) or 18/8 =2.25 trafﬁc channel (about 1/4 of an RF channel, assuming there are 8 trafﬁc channels per RF channel). ')\n",
" \n",
"//case(2)\n",
"disp('case-2:In this case the jth cell is located at the border of two LAs related to two different VLRs.In this case, only inter-VLR LUs will be processed in the cell. We assume 80% of LUs are with TMSI and 20% of LUs are with IMSI');\n",
"R2_LU=LamdaLu/3600*(0.8*3500/1000+0.2*4000/1000);  //from Table 12.1\n",
"disp('');\n",
"printf(' The resource occupancy in the jth cell due to MS LUs is  %.2f Erlangs \n',R2_LU);\n",
"disp('This requires 75 channels at 1% blocking (refer to the Erlang-B table, Appendix A) or 75/8=9.38 trafﬁc channels (about 1.25 RF channels).');\n",
"\n",
"\n",
"disp('MSC/VLR transaction load');\n",
"\n",
"disp('We assume that one LA is in the center of the region and the remaining four LAs are on the border of the region.We also assume that, in the perimeter cells at the border LAs, only intra-VLR LUs are generated. For half of the perimeter cells at the border LAs, only inter-VLR LUs are generated.')\n",
"\n",
"Np=6*sqrt(Nc/3)-3;//Number of cells located on perimeter of an LA\n",
"disp('');\n",
"printf(' Number of cells where inter-VLR LUs occur will be: %d \n',round(0.5*Np*4));\n",
"disp('');\n",
"printf(' Number of cells where intra-VLR LUs occur will be: %d \n',4*Nc-16);\n",
"disp('');\n",
"TNLU=LamdaLu*(2*24+16*(0.8*14+0.2*16));  //from table 12.1\n",
"printf(' The MSC/VLR transaction load using the ﬂuid ﬂow model is %.2f * 10^6 transactions at peak hour \n',TNLU/10^6);"
   ]
   }
],
"metadata": {
		  "kernelspec": {
		   "display_name": "Scilab",
		   "language": "scilab",
		   "name": "scilab"
		  },
		  "language_info": {
		   "file_extension": ".sce",
		   "help_links": [
			{
			 "text": "MetaKernel Magics",
			 "url": "https://github.com/calysto/metakernel/blob/master/metakernel/magics/README.md"
			}
		   ],
		   "mimetype": "text/x-octave",
		   "name": "scilab",
		   "version": "0.7.1"
		  }
		 },
		 "nbformat": 4,
		 "nbformat_minor": 0
}
