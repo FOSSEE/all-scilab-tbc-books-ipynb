{
"cells": [
 {
		   "cell_type": "markdown",
	   "metadata": {},
	   "source": [
       "# Chapter 8: Speech Coding and Channel Coding"
	   ]
	},
{
		   "cell_type": "markdown",
		   "metadata": {},
		   "source": [
			"## Example 8.1: To_calculate_the_gain_in_the_link_budget_in_dB.sce"
		   ]
		  },
  {
"cell_type": "code",
	   "execution_count": null,
	   "metadata": {
	    "collapsed": true
	   },
	   "outputs": [],
"source": [
"// Exa 8.1\n",
"// To calculate coverage gain in dB.\n",
"\n",
"clc;\n",
"clear all;\n",
"\n",
"Pdiff=-3;  //in dB\n",
"AMR1=12.2; //in kbps\n",
"AMR2=7.95;  //in kbps\n",
"AMR3=4.75;  //in kbps\n",
"\n",
"//solution\n",
"//CG(dB)=10log{(DPDCH(kbps)+DPCCH)/(DPDCH(AMR bit rate (kbps))+ DPCCH)}\n",
"CG1=10*log10((AMR1+AMR1*10^(Pdiff/10))/(AMR2+AMR1*10^(Pdiff/10)));\n",
"CG2=10*log10((AMR1+AMR1*10^(Pdiff/10))/(AMR3+AMR1*10^(Pdiff/10)));\n",
"printf('By reducing the AMR bit rate from 12.2 to 7.95 kbps coverage gain becomes %.2f dB \n ',CG1);\n",
"printf('By reducing the AMR bit rate from 7.95 to 4.75 kbps coverage gain becomes %.2f dB \n ',CG2);"
   ]
   }
,
{
		   "cell_type": "markdown",
		   "metadata": {},
		   "source": [
			"## Example 8.2: To_calculate_output_of_convolution_encoder.sce"
		   ]
		  },
  {
"cell_type": "code",
	   "execution_count": null,
	   "metadata": {
	    "collapsed": true
	   },
	   "outputs": [],
"source": [
"// Exa 8.2\n",
"// To calculate the output of the encoder.\n",
"\n",
"clc;\n",
"clear all;\n",
"\n",
"K=4; //constraint length\n",
"r=1/2; //code rate(n/k)\n",
"x=poly(0,'x');//Defining x as a ploynomial variable\n",
"G1=1+x^2+x^3;\n",
"G2=1+x+x^2+x^3;\n",
"in=[1 0 1 1 1];//input(first bit first)\n",
"\n",
"//solution\n",
"//with reference to Fig 8.9 on page no 239\n",
"g1=[1 0 1 1]; //converting from G1 polynomial to bit form\n",
"g2=[1 1 1 1];////converting from G2 polynomial to bit form\n",
"x1=round(convol(g1,in));\n",
"x2=round(convol(g2,in));\n",
"V1=modulo(x1,2);\n",
"V2=modulo(x2,2);\n",
"disp('Multiplexing the V1 and V2 to get required output sequence as ');\n",
" a=5;\n",
"for i= 1:5\n",
"   printf('%d%d',V2(a),V1(a));\n",
"   a=a-1;\n",
"  \n",
"end\n",
""
   ]
   }
,
{
		   "cell_type": "markdown",
		   "metadata": {},
		   "source": [
			"## Example 8.3: To_demonstrate_operations_of_converting_burst_errors_into_bit_errors.sce"
		   ]
		  },
  {
"cell_type": "code",
	   "execution_count": null,
	   "metadata": {
	    "collapsed": true
	   },
	   "outputs": [],
"source": [
"// Exa 8.3\n",
"// To demostrate 4X4 Bit interleaving/de-interleving.\n",
"\n",
"clc;\n",
"clear all;\n",
"\n",
"BitStream= [0 0 0 0 0 1 1 1 0 0 0 1 0 0 0 1];//Last bit to first bit\n",
"\n",
"//solution\n",
"disp('Interleaving is performed by storing the data in a table containing rows and  columns at the transmitter. The data is written in rows and transmitted in a vertical direction (according to columns). At the receiver, the data is written and read in the opposite manner. ')\n",
"\n",
"// Interleaver\n",
"              Input1=[1 0 0 0      //Writing data row wise\n",
"                      1 0 0 0\n",
"                      1 1 1 0\n",
"                      0 0 0 0];\n",
"disp('GIven Bit stream is')\n",
"disp(BitStream);\n",
"disp('Input to interleaver is')\n",
"disp(Input1);\n",
"\n",
"Output1=[0 0 0 0 0 1 0 0 0 1 0 0 0 1 1 1];    // Reading data column wise\n",
"disp('Output of interleaver is');\n",
"disp(Output1);\n",
"//De-interleaver\n",
"              Input2=[1 1 1 0  //Writing o/p data row wise\n",
"                      0 0 1 0    \n",
"                      0 0 1 0\n",
"                      0 0 0 0];\n",
" // Let From 6th to 9th bits have Burst Error \n",
" disp('Input to de-interleaver is');\n",
" disp(Input2);\n",
" //Output of deinterleaver\n",
"                             \n",
"Output2= [0 0 0 0 0 1 1 1 0 0 0 1 0 0 0 1]; \n",
"disp('Output of de-interleaver is')\n",
"disp(Output2);\n",
"disp( 'Bits with Burst error were from 6th to 9th. But in output of de-interleaver, they relocated to positions 3rd, 6th, 10th and 14th.');"
   ]
   }
],
"metadata": {
		  "kernelspec": {
		   "display_name": "Scilab",
		   "language": "scilab",
		   "name": "scilab"
		  },
		  "language_info": {
		   "file_extension": ".sce",
		   "help_links": [
			{
			 "text": "MetaKernel Magics",
			 "url": "https://github.com/calysto/metakernel/blob/master/metakernel/magics/README.md"
			}
		   ],
		   "mimetype": "text/x-octave",
		   "name": "scilab",
		   "version": "0.7.1"
		  }
		 },
		 "nbformat": 4,
		 "nbformat_minor": 0
}
