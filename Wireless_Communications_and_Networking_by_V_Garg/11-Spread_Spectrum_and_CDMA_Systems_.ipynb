{
"cells": [
 {
		   "cell_type": "markdown",
	   "metadata": {},
	   "source": [
       "# Chapter 11: Spread Spectrum and CDMA Systems "
	   ]
	},
{
		   "cell_type": "markdown",
		   "metadata": {},
		   "source": [
			"## Example 11.1: To_calculate_processing_gain_and_improvemet_in_information_rate_achieved.sce"
		   ]
		  },
  {
"cell_type": "code",
	   "execution_count": null,
	   "metadata": {
	    "collapsed": true
	   },
	   "outputs": [],
"source": [
"// Exa 11.1\n",
"// To calculate the processing gain and improvement in information rate.\n",
"\n",
"clc;\n",
"clear all;\n",
"\n",
"CR1=1.2288; //Mcps(Clock rate 1)\n",
"CR2=5;//Mcps(Clock rate 2)\n",
"R1=9.6; //Information rate in Kbps for CR1\n",
"PG2=256;  //Processing Gain for CR2\n",
"\n",
"//solution\n",
"PG1=10*log10(CR1*10^3/9.6);//Processing Gain for CR1\n",
"R2=CR2*10^3/PG2;//information rate in Kbps for CR2\n",
"printf('The processing gain for clock rate 1.2288Mcps is %d dB\n ',PG1);\n",
"printf('Improvemrnt in information rate is %.2f Kbps\n',R2-R1);"
   ]
   }
,
{
		   "cell_type": "markdown",
		   "metadata": {},
		   "source": [
			"## Example 11.2: EX11_2.sce"
		   ]
		  },
  {
"cell_type": "code",
	   "execution_count": null,
	   "metadata": {
	    "collapsed": true
	   },
	   "outputs": [],
"source": [
"// Exa 11.2\n",
"// To show that the transmitted signals to mobiles 1, 2, and 3 are recovered at the mobile receivers by despreading the resultant signal z(t).\n",
"\n",
"clc;\n",
"clear all;\n",
"\n",
"//solution\n",
"disp('From figure 11.4, we note that transmitted data for mobile1 as [0 1 1 0 0 ], for mobile2 as [0 0 1 0 0 ] and for mobile3 as [0 1 0 0 1] ');\n",
"disp('From figure 11.5 we get resultant demodulated signal at a mobile ');\n",
"Rx={[1 1 1 1 -3 1];[1 -3 1 1 1 1 ];[1 -3 1 1 1 -3];[1 -3 1 1 1 1];[-1 3 3 -1 3 -1]};//Resultant demodulated signal at mobile\n",
"disp(Rx);\n",
"//from Figure 11.4 \n",
"c1={[-1 -1 -1 -1 1 1];[1 -1 1 1 -1 -1];[1 -1 1 -1 -1 -1];[-1 1 1 1 -1 1];[1 -1 -1 1 -1 1]};\n",
"c2={[1 1 -1 1 1 -1];[-1 1 -1 1 -1 -1];[-1 -1 1 1 1 -1];[1 1 -1 -1 1 -1];[1 -1 -1 -1 -1 -1]};\n",
"c3={[-1 -1 1 -1 1 -1];[-1 -1 -1 1 1 1];[-1 1 1 -1 -1 1];[-1 1 -1 -1 -1 -1];[1 1 1 -1 1 1]};\n",
"//t={[1  2 3 4 5 6];[7 8 9 10 11 12];[13 14 15 16 17 18];[19 20 21 22 23 24];[25 26 27 28 29 30]};\n",
"//for Mobile 1\n",
"for i= 1:5\n",
"      \n",
"Demod1(i)=c1(i,1)*Rx(i,1)+c1(i,2)*Rx(i,2)+c1(i,3)*Rx(i,3)+c1(i,4)*Rx(i,4)+c1(i,5)*Rx(i,5)+c1(i,6)*Rx(i,6);\n",
"if(Demod1(i)<0)\n",
"    B1(i)=1;\n",
"else\n",
"    B1(i)=0;\n",
"    end\n",
"end\n",
"//for mobile 2\n",
"for i= 1:5\n",
"      \n",
"Demod2(i)=c2(i,1)*Rx(i,1)+c2(i,2)*Rx(i,2)+c2(i,3)*Rx(i,3)+c2(i,4)*Rx(i,4)+c2(i,5)*Rx(i,5)+c2(i,6)*Rx(i,6);\n",
"if(Demod2(i)<0)\n",
"    B2(i)=1;\n",
"else\n",
"    B2(i)=0;\n",
"    end\n",
"end\n",
"//for mobile 3\n",
"for i= 1:5\n",
"      \n",
"Demod3(i)=c3(i,1)*Rx(i,1)+c3(i,2)*Rx(i,2)+c3(i,3)*Rx(i,3)+c3(i,4)*Rx(i,4)+c3(i,5)*Rx(i,5)+c3(i,6)*Rx(i,6);\n",
"if(Demod3(i)<0)\n",
"    B3(i)=1;\n",
"else\n",
"    B3(i)=0;\n",
"    end\n",
"end\n",
"disp('Value of integration at end of bit period for mobile1');\n",
"disp(Demod1');\n",
"disp('Value of integration at end of bit period for mobile2');\n",
"disp(Demod2');\n",
"disp('Value of integration at end of bit period for mobile3');\n",
"disp(Demod3');\n",
"disp('The  recovered signal at mobile 1 is ');\n",
"disp(B1');\n",
"disp('The  recovered signal at mobile 2 is ');\n",
"disp(B2');\n",
"disp('The  recovered signal at mobile 3 is ');\n",
"disp(B3');\n",
"disp('In all cases, Recovered signal is negated value of transmitted signal')"
   ]
   }
,
{
		   "cell_type": "markdown",
		   "metadata": {},
		   "source": [
			"## Example 11.3: Minimum_number_of_PN_chips_required_for_each_frequency_symbol.sce"
		   ]
		  },
  {
"cell_type": "code",
	   "execution_count": null,
	   "metadata": {
	    "collapsed": true
	   },
	   "outputs": [],
"source": [
"// Exa 11.3\n",
"// To find the minimum number of PN chips.\n",
"\n",
"clc;\n",
"clear all;\n",
"\n",
"BW=100; //in MHz\n",
"Fspac=10;  //frequency spacing in kHz\n",
"\n",
"//solution\n",
"FreqTones=BW*10^3/Fspac;\n",
"Chips=log2(FreqTones);\n",
"printf('Minimum number of chips required are %d chips \n ',Chips);"
   ]
   }
,
{
		   "cell_type": "markdown",
		   "metadata": {},
		   "source": [
			"## Example 11.4: EX11_4.sce"
		   ]
		  },
  {
"cell_type": "code",
	   "execution_count": null,
	   "metadata": {
	    "collapsed": true
	   },
	   "outputs": [],
"source": [
"// Exa 11.4\n",
"// To  calculate-\n",
"//(a) data symbol transmitted per hop, and \n",
"//(b) the number of nonoverlapping hop frequencies.\n",
"\n",
"clc;\n",
"clear all;\n",
"\n",
"R=120; //transmission rate in kbps\n",
"Hop=2000; //per second\n",
"Spectrum=10; //in MHz\n",
"\n",
"//solution\n",
"//For 32-FSK\n",
"Bits_sym=log2(32);\n",
"SR=R/Bits_sym;\n",
"printf('Bits per symbol are %d \n ',Bits_sym);\n",
"printf('Hops per second are 2000 and Symbol rate is %d kbps\n ',SR);\n",
"disp('Since the symbol rate is higher than the hop rate, the system is a slow FHSS system.');\n",
"Sym_hop=SR*10^3/Hop;\n",
"Min_BW=Sym_hop*SR;\n",
"Nonoverlap_hop=Spectrum*10^3/Min_BW;\n",
"disp('');\n",
"printf(' Symbols transmitted per hop are %d \n ',Sym_hop);\n",
"printf('Number of non-Overlapping hop frequencies are %d \n ',round(Nonoverlap_hop));"
   ]
   }
,
{
		   "cell_type": "markdown",
		   "metadata": {},
		   "source": [
			"## Example 11.5: To_consider_various_parameters_of_FHSS_systems.sce"
		   ]
		  },
  {
"cell_type": "code",
	   "execution_count": null,
	   "metadata": {
	    "collapsed": true
	   },
	   "outputs": [],
"source": [
"// Exa 11.5\n",
"// To Calculate: \n",
"//(a) minimum separation between frequency tones, \n",
"//(b) number of frequency tones produced by a frequency synthesizer,\n",
"//(c) processing gain, and \n",
"//(d) hopping bandwidth. \n",
"\n",
"clc;\n",
"clear all;\n",
"\n",
"R=200;//input data rate in bps\n",
"Fhop=200;//per second\n",
"k=1;//Multipication_Factor\n",
"\n",
"//solution\n",
"// We have 32-FSK modulation scheme\n",
"Bits_sym=log2(32);\n",
"Rs=Fhop/Bits_sym;\n",
"printf('There are 200 hops per second and Symbol rate is %d symbols per sec \n',Rs);  \n",
"disp('The hop rate is higher than symbol rate, the system is a fast FHSS system.');\n",
"SDur=1/Rs;\n",
"L=Fhop/Rs;\n",
"CDur=SDur/L;\n",
"Separation=1/CDur;\n",
"M=2^Bits_sym;\n",
"Hop_BW=k*M*Fhop*L;\n",
"Gp=M*k*L; \n",
"disp('');\n",
"printf(' Minimum separation between frequency tones should be %d Hz\n',Separation);\n",
"printf(' Number of different frequency tones produced by a frequency synthesizer are %d\n',M);\n",
"printf(' Processing Gain is %d\n ',Gp);\n",
"printf('Hopping bandwidth is %d kHz\n',Hop_BW/1000);"
   ]
   }
,
{
		   "cell_type": "markdown",
		   "metadata": {},
		   "source": [
			"## Example 11.6: To_show_how_mobile1_will_detect_its_information_using_a_two_path_rake_receiver.sce"
		   ]
		  },
  {
"cell_type": "code",
	   "execution_count": null,
	   "metadata": {
	    "collapsed": true
	   },
	   "outputs": [],
"source": [
"// Exa 11.6\n",
"// To show how the signal is recovered at mobile by using two-rake receivers.\n",
"\n",
"clc;\n",
"clear all;\n",
"\n",
"//solution\n",
"disp('As we are given that actual bit values for mobile are [1 0 0 1 1] ');\n",
"M1=[1 0 0 1 1];\n",
"\n",
"Rx1={[1 1 1 1 -3 1];[1 -3 1 1 1 1 ];[1 -3 1 1 1 -3];[1 -3 1 1 1 1];[-1 3 3 -1 3 -1];[1 -1 -1 0 0 0]};//Resultant demodulated signal at mobile(Z(t)) from path1\n",
"\n",
"Rx2={[-1 -1 1 1 1 1 ];[-3 1 1 -3 1 1 ];[1 1 1 -3 1 1 ];[1 -3 1 -3 1 1 ];[1 1 -1 3 3 -1 ];[3 1 -1 0 0 0]};//Resultant demodulated signal at mobile(Z(t-2Tc)) from path2\n",
"\n",
"Rx=Rx1+Rx2; //since,Z(t)=z(t)+Z(t-2Tc)\n",
"\n",
"//from Figure 11.13 (d) & Figure 11.14\n",
"c1={[-1 -1 -1 -1 1 1];[1 -1 1 1 -1 -1];[1 -1 1 -1 -1 -1];[-1 1 1 1 -1 1];[1 -1 -1 1 -1 1]};\n",
"c2={[-1 1 -1 -1 -1 -1 ];[1 1 1 -1 1 1 ];[-1 -1 1 -1 1 -1 ];[-1 -1 -1 1 1 1 ];[-1 1 1 -1 -1 1 ];[-1 1 0 0 0 0]};\n",
"\n",
"//case-1:Z(t)*C1(t);\n",
"for i= 1:5\n",
"      \n",
"Demod_1(i)=c1(i,1)*Rx(i,1)+c1(i,2)*Rx(i,2)+c1(i,3)*Rx(i,3)+c1(i,4)*Rx(i,4)+c1(i,5)*Rx(i,5)+c1(i,6)*Rx(i,6);\n",
"if(Demod_1(i)<0)\n",
"    B1(i)=1;\n",
"else\n",
"    B1(i)=0;\n",
"    end\n",
"end\n",
"\n",
"//case-2:Z(t)*C1(t-2Tc);\n",
"for j=1:5\n",
"\n",
"Demod_2(j)=c2(j,3)*Rx(j,3)+c2(j,4)*Rx(j,4)+c2(j,5)*Rx(j,5)+c2(j,6)*Rx(j,6)+c2(j+1,1)*Rx(j+1,1)+c2(j+1,2)*Rx(j+1,2);\n",
"if(Demod_2(j)<0)\n",
"    B2(j)=1;\n",
"else\n",
"    B2(j)=0;\n",
"    end\n",
" end\n",
"   disp('case-1:z(t)*c1(t)');\n",
"disp('Value of integration at end of bit period for mobile(case-1)');\n",
"disp(Demod_1');\n",
"disp('The recovered signal at mobile(case-1) is ');\n",
"disp(B1');\n",
"disp('Actual bit values are');\n",
"disp(M1);\n",
"disp('Recovered and actual values are not matching');\n",
"disp('case-2:z(t)*c1(t-2Tc)');\n",
"disp('Value of integration at end of bit period for mobile(case-2)');\n",
"disp(Demod_2');\n",
"disp('The recovered signal at mobile(case-2) is ');\n",
"disp(B2');\n",
"disp('Actual bit values are');\n",
"disp(M1);\n",
"disp('Recovered and actual values are not matching');\n",
"//case3-Sum of path1 and path2\n",
"disp('case-3:Sum of path1 & path2 integrator');\n",
"disp('Sum of integrator outputs(rake receiver output)');\n",
"Demod_3=Demod_1+Demod_2;\n",
"disp(Demod_3');\n",
"for k=1:5\n",
"\n",
"if(Demod_3(k)<0)\n",
"    B3(k)=1;\n",
"else\n",
"    B3(k)=0;\n",
"end\n",
"end\n",
"disp('Detected bit value ');\n",
"disp(B3');\n",
"disp('Actual bit values are');\n",
"disp(M1);\n",
"disp('Recovered and actual values are matching');"
   ]
   }
,
{
		   "cell_type": "markdown",
		   "metadata": {},
		   "source": [
			"## Example 11.7: To_calculate_the_time_required_by_mobile_to_make_the_required_change.sce"
		   ]
		  },
  {
"cell_type": "code",
	   "execution_count": null,
	   "metadata": {
	    "collapsed": true
	   },
	   "outputs": [],
"source": [
"// Exa 11.7\n",
"// To find power value to be set as a first approximation ans time required by mobile station to make changes as directed by base station.\n",
"\n",
"clc;\n",
"clear all;\n",
"\n",
"Prm=-97;//the signal strength from the base stations in  dBm\n",
"\n",
"//The constant ( K ) is the part of the broadcast message that is sent to the mobile by the base station on the paging channel.\n",
"K=-73; //dB\n",
"P2=18; //power as directed by BS (dBm)\n",
"\n",
"//solution\n",
"Ptm=K-Prm;\n",
"printf('The mobile transmitter power be set as a first approximation of %d dBm \n ',Ptm);\n",
"Pwr_Redu=Ptm-P2;//power reduction\n",
"printf('Power reduction = %d dBm \n ',Pwr_Redu);\n",
"disp('Therefore, mobile requires 6 decrements each at 1.25 ms (1/800 sec) ');\n",
"Time=6*1.25;\n",
"printf(' Time required by mobile station to make changes as directed by base station is %.1f msec\n',Time);\n",
" "
   ]
   }
,
{
		   "cell_type": "markdown",
		   "metadata": {},
		   "source": [
			"## Example 11.8: To_determine_the_possible_pair_of_soft_slope_and_add_intercept_values.sce"
		   ]
		  },
  {
"cell_type": "code",
	   "execution_count": null,
	   "metadata": {
	    "collapsed": true
	   },
	   "outputs": [],
"source": [
"// Exa 11.8\n",
"// To determine a possible pair of the SOFT-SLOPE and ADD-INTERCEPT values that will trigger the mobile station to send a PSMM to the base station and if the mobile station is IS-95 compliant, ﬁnd the value of T-COMP that could trigger the mobile station to generate a PSMM.\n",
"\n",
"clc;\n",
"clear all;\n",
"\n",
"P1=-95; //pilot1 in dBm\n",
"P2=-100; //pilot2 in dBm\n",
"P3=-101; //pilot3 in dBm\n",
"P4=-105; //pilot4 in dBm\n",
"P5=-102; //pilot in dBm\n",
"NoiseP=-107; //Receiver sensitivity(dBm)\n",
"Tadd=-13; //dB\n",
"\n",
"//solution\n",
"//Pcj = received power of the jth pilot in the candidate set\n",
"// Pai= received power of the ith pilot in the active set \n",
"Pa1=P1-NoiseP;\n",
"Pa2=P2-NoiseP;\n",
"Pa3=P3-NoiseP;\n",
"Pa4=P4-NoiseP;\n",
"Pc5=P5-NoiseP;\n",
"\n",
"X=10*log10(10^(0.1*Pa1)+10^(0.1*Pa2)+10^(0.1*Pa3)+10^(0.1*Pa4)+10^(0.1*Pc5));   \n",
"disp('Max {14.22 *(SOFT-SLOPE)+ (ADD-INTERCEPT),-13  }<=5');\n",
"disp('Thus we have two equations as follows');\n",
"disp('14.22*SOFT-SLOPE+ADD-INTERCEPT>=-13 and');\n",
"disp('14.22*SOFT-SLOPE+ADD-INTERCEPT<=5');\n",
"disp(' Solving these equations, we get SOFT-SLOPE= 0.5 and ADD-INTERCEPT=-4');\n",
"disp('For an IS-95-compliant mobile station (Pcj-Pai)>=0.5*T-COMP');\n",
"disp('Since P1>P2>P3>P4, we replace P4');\n",
"T_COMP=(P5-P4)/0.5;\n",
"disp('');\n",
"printf('The value of T-COMP that could trigger the mobile station to generate a PSMM should be <= %d dB (<= %d) .\n ',T_COMP,round(10^(0.1*T_COMP)));\n",
""
   ]
   }
],
"metadata": {
		  "kernelspec": {
		   "display_name": "Scilab",
		   "language": "scilab",
		   "name": "scilab"
		  },
		  "language_info": {
		   "file_extension": ".sce",
		   "help_links": [
			{
			 "text": "MetaKernel Magics",
			 "url": "https://github.com/calysto/metakernel/blob/master/metakernel/magics/README.md"
			}
		   ],
		   "mimetype": "text/x-octave",
		   "name": "scilab",
		   "version": "0.7.1"
		  }
		 },
		 "nbformat": 4,
		 "nbformat_minor": 0
}
