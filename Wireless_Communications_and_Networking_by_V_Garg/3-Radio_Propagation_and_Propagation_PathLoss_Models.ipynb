{
"cells": [
 {
		   "cell_type": "markdown",
	   "metadata": {},
	   "source": [
       "# Chapter 3: Radio Propagation and Propagation PathLoss Models"
	   ]
	},
{
		   "cell_type": "markdown",
		   "metadata": {},
		   "source": [
			"## Example 3.10: To_find_required_transmitter_power_in_watts.sce"
		   ]
		  },
  {
"cell_type": "code",
	   "execution_count": null,
	   "metadata": {
	    "collapsed": true
	   },
	   "outputs": [],
"source": [
"//Exa 3.10\n",
"//To find required total transmit power in Watts.\n",
"\n",
"clc;\n",
"clear all;\n",
"\n",
"Lp=140; // path losses in dB \n",
"k=1.38*10^-23; // Boltzmann’s constant (W/Kelvin-Hz)\n",
"k_db=10*log10(k);\n",
"f=900;//in MHz\n",
"Gt=8; //transmitting antenna gain(dB)\n",
"Gr=0; //receiver antenna gain(dB)\n",
"Ag=24;//gain of receiver ampliﬁer in dB \n",
"Fmargin=8;//Fade margin(dB)\n",
"Nf=6;//Noise figure(dB)\n",
"L0=20; // other losses in dB\n",
"Lf=12; // antenna feed line loss in dB \n",
"T=24.6;//Temperature expressed in dB\n",
"R=39.8; // data rate in dB \n",
"M=8;  //overall link margin(dB)\n",
"Eb_No=10;//dB\n",
"\n",
"//solution\n",
"//From equation  (3.54)\n",
"pt_db=M-Gt-Gr-Ag+ Nf + T+ k_db+ Lp+ Lf+ L0 + Fmargin+ R+ Eb_No;\n",
"\n",
"Pt=10^(pt_db/10);  //dB into normal number\n",
"printf('Total transmitted power is %d Watts \n',Pt);    "
   ]
   }
,
{
		   "cell_type": "markdown",
		   "metadata": {},
		   "source": [
			"## Example 3.1: To_find_free_space_and_reflected_surface_attenuations.sce"
		   ]
		  },
  {
"cell_type": "code",
	   "execution_count": null,
	   "metadata": {
	    "collapsed": true
	   },
	   "outputs": [],
"source": [
"// Exa 3.1\n",
"// To determine free space and reflected surface attenuations.\n",
"\n",
"clc;\n",
"clear all;\n",
"\n",
"hb=100; //in feets(height of BS antenna)\n",
"hm=5;  // in feets(height of mobile antenna)\n",
"f=881.52;//in MHz\n",
"lamda=1.116;  //in feet\n",
"d=5000;  //in feet\n",
"Gb=10^0.8;  //8dB(BS antenna gain)\n",
"Gm=10^0;   // 0dB (Mobile antenna gain)\n",
"\n",
"//solution\n",
"free_atten=(4*%pi*d/lamda)^2*(Gb*Gm)^-1;\n",
"y=round(10*log10(free_atten));\n",
"printf('Free space attenuation is %d dB \n',y);\n",
"reflect_atten= (d^4/(hb*hm)^2)*(Gb*Gm)^-1;\n",
"x=round(10*log10(reflect_atten));\n",
"printf(' Reflecting surface attenuation is %d dB \n ',x);"
   ]
   }
,
{
		   "cell_type": "markdown",
		   "metadata": {},
		   "source": [
			"## Example 3.2: To_find_received_signal_power_and_SNR.sce"
		   ]
		  },
  {
"cell_type": "code",
	   "execution_count": null,
	   "metadata": {
	    "collapsed": true
	   },
	   "outputs": [],
"source": [
"//Exa 3.2\n",
"//To determine received signal power and SNR ratio.\n",
"\n",
"clc;\n",
"clear all;\n",
"\n",
"d=8000; //Distance between base station and mobile station\n",
"f=1.5*10^9;//in Hz \n",
"lamda=0.2;  //in metres\n",
"Pt=10; //BS transmitted power in watts\n",
"Lo=8;   //Total system losses in dB\n",
"Nf=5;    //Mobile receiver noise figure in dB\n",
"T=290;   //temperature in degree kelvin\n",
"BW=1.25*10^6; //in Hz\n",
"Gb=8;  //in dB\n",
"Gm=0;   //in dB\n",
"Hb=30;  //in metres\n",
"Hm=3;   //in metres\n",
"B=1.38*10^-23; //Boltzmann's constant\n",
"\n",
"//solution\n",
"Free_Lp=20*log10(Hm*Hb/d^2);\n",
"Pr=Free_Lp-Lo+Gm+Gb+Pt;  //in dBW\n",
"Te=T*(3.162-1);\n",
"Pn=B*(Te+T)*BW;\n",
"printf('Received signal power is %d dBW \n',10*log10(Pn));\n",
"SNR=Pr-10*log10(Pn);\n",
"printf(' SNR ratio is %d dB \n',round(SNR));"
   ]
   }
,
{
		   "cell_type": "markdown",
		   "metadata": {},
		   "source": [
			"## Example 3.3: To_find_the_allowable_path_loss.sce"
		   ]
		  },
  {
"cell_type": "code",
	   "execution_count": null,
	   "metadata": {
	    "collapsed": true
	   },
	   "outputs": [],
"source": [
"//Exa 3.3\n",
"//To determine received power and allowable Path loss.\n",
"\n",
"clc;\n",
"clear all;\n",
"\n",
"d=3*1000;//in metres\n",
"Y=4;// path loss exponent\n",
"Pt=4;  //Transmitted power in watts\n",
"f=1800*10^6;//in Hz\n",
"Shadow=10.5;  //in dB\n",
"d0=100;//in metres\n",
"P0=-32;   //in dBm\n",
"\n",
"//solution\n",
"disp('Using equation 3.11 and including shadow effect we get')\n",
"Pr=P0+10*Y*log10(d0/d)+Shadow;\n",
"printf(' Received power is %.1f dBm \n',Pr);\n",
"path_loss=10*log10(Pt*1000)-Pr;\n",
"printf(' Allowable path loss is %.1f dB \n ',path_loss);"
   ]
   }
,
{
		   "cell_type": "markdown",
		   "metadata": {},
		   "source": [
			"## Example 3.4: To_find_the_distance_between_transmitter_and_receiver.sce"
		   ]
		  },
  {
"cell_type": "code",
	   "execution_count": null,
	   "metadata": {
	    "collapsed": true
	   },
	   "outputs": [],
"source": [
"//Exa 3.4\n",
"//To determine distance between transmitter and receiver.\n",
"\n",
"clc;\n",
"clear all;\n",
"\n",
"shadow=10; //in dB\n",
"Lp=150;  //in dB\n",
"\n",
"//solution\n",
"disp(' Using equation given in Problem i.e Lp=133.2+40*log(d) we get,');\n",
"d=10^((Lp-10-133.2)/40);\n",
"printf('  Separation between transmitter and receiver as %.2f km',d);"
   ]
   }
,
{
		   "cell_type": "markdown",
		   "metadata": {},
		   "source": [
			"## Example 3.5: To_determine_type_of_fading_and_symbol_distortion.sce"
		   ]
		  },
  {
"cell_type": "code",
	   "execution_count": null,
	   "metadata": {
	    "collapsed": true
	   },
	   "outputs": [],
"source": [
"// Exa 3.5\n",
"// To calculate coherence time, coherence bandwidth, type of Symbol distortion and type of fading.\n",
"\n",
"clc;\n",
"clear all;\n",
"\n",
"v=60*0.44704;  //.. mph to mps\n",
"fc=860*10^6;//in Hz\n",
"td=2*10^-6; //RMS delay spread in sec\n",
"c=3*10^8;// speed of light in m/sec\n",
"Rs=19200; //Coded symbol rate in bps\n",
"\n",
"//solution\n",
"lamda=c/fc;\n",
"fm=v/lamda; //Maximum doppler shift\n",
"tc=1/(2*%pi*fm);//Channel coherence time\n",
"printf('Channel coherence time is %.4f sec \n',tc);\n",
"ts=1/Rs; //symbol interval\n",
"printf(' Symbol interval is %d microsec \n',ts*10^6);\n",
"disp(' As the symbol interval is much smaller compared to the channel coherence time. So, Symbol distortion is minimal and fading is slow.');\n",
"disp('');\n",
"Bc=1/(2*%pi*td);\n",
"printf('  Coherence Bandwidth is %.2f kHz \n',Bc/1000)\n",
"\n",
"\n",
"\n",
""
   ]
   }
,
{
		   "cell_type": "markdown",
		   "metadata": {},
		   "source": [
			"## Example 3.6: To_determine_number_of_fades_per_second_and_maximum_velocity_of_mobile.sce"
		   ]
		  },
  {
"cell_type": "code",
	   "execution_count": null,
	   "metadata": {
	    "collapsed": true
	   },
	   "outputs": [],
"source": [
"// Exa 3.6\n",
"// TO determine NO of fades per second, average fade duration and maximum velocity of mobile.\n",
"\n",
"clc;\n",
"clear all;\n",
"\n",
"p=1;// reﬂection coefﬁcient of ground \n",
"c=3*10^8;// velocity of light in free space(m/sec)\n",
"e=2.71828;//Euler's number\n",
"fm=20;  //in Hz\n",
"fc=900*10^6; //carrier frequency in Hz\n",
"\n",
"//solution\n",
"Nr=sqrt(2*%pi)*fm*p*e^-(p^2);\n",
"printf('NO of fades per second are %.2f  \n',Nr);\n",
"Afd=e^-(p^2)/(p*fm*sqrt(2*%pi));\n",
"printf(' Average fade duration is %.4f sec \n ',Afd);\n",
"v=fm*c/fc;\n",
"printf('Maximum velocity of mobile is %.2f m/sec = %d Km/hour \n',v,v*18/5);\n",
""
   ]
   }
,
{
		   "cell_type": "markdown",
		   "metadata": {},
		   "source": [
			"## Example 3.7: To_determine_L50_pathloss.sce"
		   ]
		  },
  {
"cell_type": "code",
	   "execution_count": null,
	   "metadata": {
	    "collapsed": true
	   },
	   "outputs": [],
"source": [
"// Exa 3.7\n",
"// To calculate L50 path loss for a PCS system using Okumura and COST231 models.\n",
"\n",
"clc;\n",
"clear all;\n",
"\n",
"d=[1 2 3 4 5];  //in km\n",
"hb=30; //Height of BS antenna in metres\n",
"hm=2;// height of mobile antenna in matres\n",
"fc=900;//carrier frequency in MHz\n",
"W=15;  //street width(m)\n",
"b=30;  // distance between building along radio path (m) \n",
"phi=90; // incident angle relative to the street\n",
"hr=30; //in m\n",
"\n",
"//solution\n",
"dellhm=hr-hm;\n",
"//L50=Lf+Lrts+Lms\n",
"// By COST 231 model\n",
"Lf=32.4+20*log10(d)+20*log10(fc);\n",
"L0=4-0.114*(phi-55);\n",
"Lrts=-16.9-10*log10(W)+10*log10(fc)+20*log10(dellhm)+L0;\n",
"Lbsh=-18*log10(11);\n",
"ka=54-0.8*hb;\n",
"dellhb=hb-hr;\n",
"kd=18-15*dellhb/dellhm;\n",
"kf=4+0.7*(fc/925-1);\n",
"Lms=Lbsh+ka+kd*log10(d)+kf*log10(fc)-9*log10(b);\n",
"L50=[0 0 0 0 0];\n",
"L50=Lf+Lrts+Lms;\n",
"//Okumura/Hata model\n",
"ahm=(1.1*log10(fc)-0.7)*hm-(1.56*log10(fc)-0.8);\n",
"L_50=69.55+26.16*log10(fc)+(44.9-6.55*log10(hb))*log10(d)-13.82*log10(hb)-ahm;\n",
"xlabel('DISTANCE FROM TRANSMITTER IN KM');\n",
"ylabel('PATH LOSS in dB');\n",
"plot2d(d,[L50',L_50'],[1,2]);  \n",
"legends(['Cost 231 Model';'Okumura/Hata Model'],[1,2 ],opt=2)\n",
"xgrid();\n",
"disp('L50 values by Cost 231 model');\n",
"printf('%.2f  %.2f  %.2f  %.2f  %.2f \n ',L50(1),L50(2),L50(3),L50(4),L50(5));\n",
"disp('L50 values bu Okumura/Hata model');\n",
"printf('%.2f  %.2f  %.2f  %.2f  %.2f \n ',L_50(1),L_50(2),L_50(3),L_50(4),L_50(5));\n",
"disp('The results from the plot of two models shows that the calculated path loss with the COST 231 model is higher than the value obtained by the Okumura/Hata model.');"
   ]
   }
,
{
		   "cell_type": "markdown",
		   "metadata": {},
		   "source": [
			"## Example 3.8: To_determine_coverage_radius_of_an_access_point.sce"
		   ]
		  },
  {
"cell_type": "code",
	   "execution_count": null,
	   "metadata": {
	    "collapsed": true
	   },
	   "outputs": [],
"source": [
"// Exa 3.8\n",
"// TO find coverage radius of an access point.\n",
"\n",
"clc;\n",
"clear all;\n",
"\n",
"SNRmin=12;//in dB\n",
"n=3; //No of floors\n",
"Backgroundnoise=-115; //dBm\n",
"pt=100  //in dBm\n",
"\n",
"//solution\n",
"pt_db=10*log10(pt);\n",
"Sr=Backgroundnoise+SNRmin; //receiver sensitivity\n",
"Lpmax=pt_db-Sr;\n",
"//Refering table 3.4\n",
"Lp_d0=38;  //ref path loss at the first meter(dB)\n",
"Lf=15+4*(n-1); //signal attenuation through n floors\n",
"y=3; //path loss exponent\n",
"X=10; //Shadowing effect(dB)\n",
"d=10^((Lpmax-Lp_d0-Lf-X)/30); //max allowable path loss\n",
"printf('Coverage radius of an access point = %d m \n',round(d));"
   ]
   }
,
{
		   "cell_type": "markdown",
		   "metadata": {},
		   "source": [
			"## Example 3.9: EX3_9.sce"
		   ]
		  },
  {
"cell_type": "code",
	   "execution_count": null,
	   "metadata": {
	    "collapsed": true
	   },
	   "outputs": [],
"source": [
"//Exa 3.9\n",
"// To calculate probability of exceeding signal beyond the receiver sensitivity.\n",
"\n",
"clc;\n",
"clear all;\n",
"\n",
"SSmean=-100; //signal strength(dBm)\n",
"Sr=-110; //receiver sensitivity(dBm)\n",
"sd=10;  //standard deviation(dB)\n",
"\n",
"//solution\n",
"P_Smin=(0.5-0.5*erf((Sr-SSmean)/(sqrt(2)*sd)));\n",
"printf('probability of exceeding signal beyond the receiver sensitivity is %.2f \n',P_Smin);"
   ]
   }
],
"metadata": {
		  "kernelspec": {
		   "display_name": "Scilab",
		   "language": "scilab",
		   "name": "scilab"
		  },
		  "language_info": {
		   "file_extension": ".sce",
		   "help_links": [
			{
			 "text": "MetaKernel Magics",
			 "url": "https://github.com/calysto/metakernel/blob/master/metakernel/magics/README.md"
			}
		   ],
		   "mimetype": "text/x-octave",
		   "name": "scilab",
		   "version": "0.7.1"
		  }
		 },
		 "nbformat": 4,
		 "nbformat_minor": 0
}
