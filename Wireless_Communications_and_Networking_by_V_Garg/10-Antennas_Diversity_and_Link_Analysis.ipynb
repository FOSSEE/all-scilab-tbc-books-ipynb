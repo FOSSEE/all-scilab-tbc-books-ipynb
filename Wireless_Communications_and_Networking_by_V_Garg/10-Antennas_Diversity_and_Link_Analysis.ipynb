{
"cells": [
 {
		   "cell_type": "markdown",
	   "metadata": {},
	   "source": [
       "# Chapter 10: Antennas Diversity and Link Analysis"
	   ]
	},
{
		   "cell_type": "markdown",
		   "metadata": {},
		   "source": [
			"## Example 10.1: To_find_received_signal_power_and_SNR_of_antenna.sce"
		   ]
		  },
  {
"cell_type": "code",
	   "execution_count": null,
	   "metadata": {
	    "collapsed": true
	   },
	   "outputs": [],
"source": [
"// Exa 10.1\n",
"// To calculate the received signal power at the receiver antenna and the SNR of the received signal.\n",
"\n",
"clc;\n",
"clear all;\n",
"\n",
"D=10000;  //in metres\n",
"TxEIRP=30;  //Effective Isotropic Radiated Power(EIRP)dBW\n",
"lamda=0.2;  //in metres\n",
"Pt=10;  //Transmitted power in dBW\n",
"Gt=20; //transmitter gain in dBi\n",
"Gr=3;  //receiver gain in dBi\n",
"Lo=6;//total system lossses in dB\n",
"Nf=5;  //noise figure in dB\n",
"BW=1.25; //mHz\n",
"k=1.38*10^-23;  //Boltzmann constant\n",
"T=290;  //temperature in degree kelvin\n",
"\n",
"//solution\n",
"Lp=20*log10(lamda/(4*%pi*D));   //free space loss\n",
"Pr=Lp+Pt+Gt+Gr-Lo;// received power in dBW\n",
"\n",
"No=10*log10(k*T);  //Noise density in dBW\n",
"NO=No+30;  //factor of '30' to convert from dBW to dBm\n",
"Pn=Nf+10*log10(BW*10^6)+NO;// noise signal power in dBm\n",
"SNR=(Pr+30)-Pn;\n",
"printf('The received signal power is %d dBm\n ',round(Pr+30)); //factor of '30' to convert from dBW to dBm\n",
"printf('SNR is %d dB\n',SNR);   "
   ]
   }
,
{
		   "cell_type": "markdown",
		   "metadata": {},
		   "source": [
			"## Example 10.2: To_find_received_signal_power_and_SNR_of_antenna.sce"
		   ]
		  },
  {
"cell_type": "code",
	   "execution_count": null,
	   "metadata": {
	    "collapsed": true
	   },
	   "outputs": [],
"source": [
"// Exa 10.2\n",
"// To calculate the received signal power at the receiver antenna and the SNR of the received signal.\n",
"\n",
"clc;\n",
"clear all;\n",
"\n",
"//As we have to use data from Eg 10.1, \n",
"D=10000;  // in metres\n",
"TxEIRP=30;  //Effective Isotropic Radiated Power(EIRP)dBW\n",
"lamda=0.2;  //in metres\n",
"Pt=10;  //trasmitted power in dBW\n",
"Gt=20; //transmitter gain in dBi\n",
"Gr=3;  //receiver gain in dBi\n",
"Lo=6;//total system lossses in dB\n",
"Nf=5;  //noise figure in dB\n",
"BW=1.25; //mHz\n",
"k=1.38*10^-23;  //Boltzmann constant\n",
"T=290;  //temperature in degree kelvin\n",
"//additional data given in this eg\n",
"hr=40; //height of receiver in metre\n",
"ht=2; //trasmittter antenna height in metres\n",
"\n",
"//solution\n",
"Lp=20*log10(hr*ht/D^2);\n",
"Pr=Lp+Pt+Gt+Gr-Lo;// received power in dBW\n",
"No=10*log10(k*T);  //Noise density in dBW\n",
"NO=No+30;  //factor of '30' to convert from dBW to dBm\n",
"Pn=Nf+10*log10(BW*10^6)+NO;// noise signal power in dBm\n",
"SNR=(Pr+30)-Pn;\n",
"printf('The received signal power is %d dBm\n ',round(Pr+30)); //factor of '30' to convert from dBW to dBm\n",
"printf('SNR is %d dB\n',SNR);   "
   ]
   }
,
{
		   "cell_type": "markdown",
		   "metadata": {},
		   "source": [
			"## Example 10.3: To_calculate_gain_of_antenna.sce"
		   ]
		  },
  {
"cell_type": "code",
	   "execution_count": null,
	   "metadata": {
	    "collapsed": true
	   },
	   "outputs": [],
"source": [
"// Exa 10.3\n",
"// To calculate gain of antenna.\n",
"\n",
"clc;\n",
"clear all;\n",
"\n",
"Pin=12;  //Input power in watts\n",
"Ploss=3;  //resistive losses in Watts\n",
"D=5;  //Directivity\n",
"\n",
"//solution\n",
"Eff=(Pin-Ploss)/Pin;\n",
"G=Eff*D;\n",
"printf('Gain of the antenna is %.2f dB = %.2f \n',10*log10(G),G);"
   ]
   }
,
{
		   "cell_type": "markdown",
		   "metadata": {},
		   "source": [
			"## Example 10.4: To_determine_3dB_beam_width_of_an_antenna.sce"
		   ]
		  },
  {
"cell_type": "code",
	   "execution_count": null,
	   "metadata": {
	    "collapsed": true
	   },
	   "outputs": [],
"source": [
"// Exa 10.4\n",
"// To calculate the 3-dB beam width of a linear element antenna.\n",
"\n",
"clc;\n",
"clear all;\n",
"\n",
"G=12; //Gain of antenna in dBi\n",
"\n",
"//solution\n",
"Theta=101.5/10^(G/10);\n",
"printf('The 3-dB beam width of a linear element antenna is %.1f degrees',Theta);"
   ]
   }
,
{
		   "cell_type": "markdown",
		   "metadata": {},
		   "source": [
			"## Example 10.5: To_calculate_various_parameters_of_helical_antenna.sce"
		   ]
		  },
  {
"cell_type": "code",
	   "execution_count": null,
	   "metadata": {
	    "collapsed": true
	   },
	   "outputs": [],
"source": [
"// Exa 10.5\n",
"// To calculate the optimum diameter (DH), spacing (S) for the antenna and total length of the antenna,\n",
"// To calculate the antenna gain, \n",
"// To calculate the beam width of the antenna.\n",
"\n",
"clc;\n",
"clear all;\n",
"\n",
"N=12; //number of turns\n",
"fr=1.8; //frequency in GHz\n",
"\n",
"//solution\n",
"lamda=3*10^8/(fr*10^9);\n",
"DH=lamda/%pi;// diameter of helix in milli-meters\n",
"S=lamda/4;//turn spacing in millimetres\n",
"L=N*S;\n",
"G=15*N*S*(DH*%pi)^2/lamda^3;\n",
"Theta=52*lamda/(%pi*DH)*sqrt(lamda/(N*S));\n",
"printf('The optimim diameter is %d mm\n ',DH*1000);\n",
"printf('Spacing is  %.1f mm\n ',S*1000);\n",
"printf('Total Length of antenna is %d mm\n ',L*1000);\n",
"printf('The antenna gain is %.1f dBi\n ',10*log10(G));\n",
"printf('The BeamWidth of antenna is %d degrees \n ',Theta);"
   ]
   }
,
{
		   "cell_type": "markdown",
		   "metadata": {},
		   "source": [
			"## Example 10.6: EX10_6.sce"
		   ]
		  },
  {
"cell_type": "code",
	   "execution_count": null,
	   "metadata": {
	    "collapsed": true
	   },
	   "outputs": [],
"source": [
"// Exa 10.6\n",
"// To find probability that SNR will fall below 10dB(= 10).\n",
"\n",
"clc;\n",
"clear all;\n",
"\n",
"E0=1000; //average SNR\n",
"Eg=10; //threshold value for SNR\n",
"M=3;  //3-Branch Combiner\n",
"e=2.71828; //Euler's number\n",
"\n",
"//solution\n",
"x=Eg/E0;\n",
"P3=(1-e^(-x))^M; //Considering 3-branch selection combiner\n",
"printf('By considering 3-branch selection combiner technique, probability comes to be %d * 10^-6\n ',round(P3*10^6));\n",
"\n",
"disp('When diversity is not used, M =1');\n",
"P1=(1-e^(-x));//M=1;\n",
"printf(' BY not considering diversity technique, probability comes to be %d * 10^-2 \n',round(P1*10^2));"
   ]
   }
,
{
		   "cell_type": "markdown",
		   "metadata": {},
		   "source": [
			"## Example 10.7: EX10_7.sce"
		   ]
		  },
  {
"cell_type": "code",
	   "execution_count": null,
	   "metadata": {
	    "collapsed": true
	   },
	   "outputs": [],
"source": [
"// Exa 10.7\n",
"// To determine the minimum delay difference to successfully resolve the multipath components and operate the Rake receiver\n",
"\n",
"clc;\n",
"clear all;\n",
"\n",
"SR=3.84; //spreading rate in Mcps\n",
"\n",
"//solution\n",
"disp('In order to resolve multipath components, the chip    duration should be equalto or greater than T(tau), where T is deﬁned as ratio of delay distance to speed to electromagnetic wave');\n",
"ChipDur=1/(SR*10^6);\n",
"Speed=3*10^8;\n",
"Dd=ChipDur*Speed;\n",
"disp('');\n",
"printf('Minimum delay distance to successfully resolve the multipath components and operate the Rake receiver is %d m \n',Dd);"
   ]
   }
],
"metadata": {
		  "kernelspec": {
		   "display_name": "Scilab",
		   "language": "scilab",
		   "name": "scilab"
		  },
		  "language_info": {
		   "file_extension": ".sce",
		   "help_links": [
			{
			 "text": "MetaKernel Magics",
			 "url": "https://github.com/calysto/metakernel/blob/master/metakernel/magics/README.md"
			}
		   ],
		   "mimetype": "text/x-octave",
		   "name": "scilab",
		   "version": "0.7.1"
		  }
		 },
		 "nbformat": 4,
		 "nbformat_minor": 0
}
