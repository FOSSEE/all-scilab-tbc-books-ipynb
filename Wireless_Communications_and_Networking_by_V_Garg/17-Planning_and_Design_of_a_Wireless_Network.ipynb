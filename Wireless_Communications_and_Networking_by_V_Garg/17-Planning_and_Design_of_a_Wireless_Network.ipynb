{
"cells": [
 {
		   "cell_type": "markdown",
	   "metadata": {},
	   "source": [
       "# Chapter 17: Planning and Design of a Wireless Network"
	   ]
	},
{
		   "cell_type": "markdown",
		   "metadata": {},
		   "source": [
			"## Example 17.10: To_find_the_number_of_users_supported_on_the_downlink_of_a_WCDMA_Network.sce"
		   ]
		  },
  {
"cell_type": "code",
	   "execution_count": null,
	   "metadata": {
	    "collapsed": true
	   },
	   "outputs": [],
"source": [
"//Exa 17.10\n",
"//To calculate No of users that can be supported on the downlink of the WCDMA network.\n",
"\n",
"clc;\n",
"clear all;\n",
"\n",
"Rc=3.84;//chip rate in Mcps\n",
"N=3;//Noise rise in dB\n",
"OF=0.8;//orthogonality factor\n",
"B=0.55;//Interference from other cells \n",
"Eb_N0=4;//in dB\n",
"Sec_Eff=0.85;//Sector efficiency\n",
"Pwr_Eff=0.80;//Power control efficiency\n",
"Y=1.2; //Retransmit rate\n",
"X=10; //10MB at 384Kbps\n",
"X1=2;  //2MB at 144Kbps\n",
"X2=1;  //1MB at 64Kbps\n",
"\n",
"//solution\n",
"//Assuming Voice activity=Vf=1\n",
"Vf=1;\n",
"AvgDR=Y*X*10^6*(1/3600)+Y*X1*10^6*(1/3600)+Y*X2*10^6*(1/3600);\n",
"CLoad=(N-1)/(N+1);\n",
"DLcap=(Rc*10^6*Pwr_Eff*Sec_Eff)/(((10^(Eb_N0/10))*(B+OF)*Vf));\n",
"Allowcap=CLoad*DLcap;\n",
"users=Allowcap/AvgDR;\n",
"printf('NO of users that can be supported on the downlink of the WCDMA network are %d \n ',round(users));"
   ]
   }
,
{
		   "cell_type": "markdown",
		   "metadata": {},
		   "source": [
			"## Example 17.11: find_the_average_throughput_for_various_cases.sce"
		   ]
		  },
  {
"cell_type": "code",
	   "execution_count": null,
	   "metadata": {
	    "collapsed": true
	   },
	   "outputs": [],
"source": [
"// Exa 17.11\n",
"// To calculate average throughput and compare it with equal latency condition.\n",
"\n",
"clc;\n",
"clear all;\n",
"\n",
"P1=1/2;//relative frequency of packets for user class1 \n",
"P2=1/3;//relative frequency of packets for user class2\n",
"P3=1/6;//relative frequency of packets for user class3\n",
"R1=16; //data rate in kbps for P1\n",
"R2=64; //data rate in kbps for P2\n",
"R3=1024; //data rate in kbps for P3\n",
"S1=16;//number of slots assigned to the R1 user\n",
"S2=8;//number of slots assigned to the R2 user\n",
"S3=2;//number of slots assigned to the R3 user\n",
"\n",
"//solution\n",
"//Using Equation 17.20 from page no 616\n",
"Ravg=(P1*R1*S1+P2*R2*S2+P3*R3*S3)/(P1*S1+P2*S2+P3*S3);\n",
"// For equal latency, using Eq 17.18\n",
"Rav=1/(P1/R1+P2/R2+P3/R3);\n",
"// For Latency ratio=4, using Eq 17.19 from page no 616\n",
"PL=4;\n",
"C=(P1+P2+PL*P3)/(P1/R1+P2/R2+P3/R3);\n",
"printf('The average throughput for equal access condition is %.1f kbps \n ',Ravg);\n",
"printf('The average throughput by considering equal latency is %.1f kbps \n ',Rav);\n",
"printf('The average throughput by considering latency ratio as 4 is %.2f kkbps \n ',C)\n",
"disp('Ii is observed that equal access provides the highest average output')"
   ]
   }
,
{
		   "cell_type": "markdown",
		   "metadata": {},
		   "source": [
			"## Example 17.12: TO_find_the_allowable_throughput_of_a_reverse_link_of_a_CDMA_2000.sce"
		   ]
		  },
  {
"cell_type": "code",
	   "execution_count": null,
	   "metadata": {
	    "collapsed": true
	   },
	   "outputs": [],
"source": [
"// Exa 17.12\n",
"// To calculate allowable throughput of reverse link in cdma 2000.\n",
"\n",
"clc;\n",
"clear all;\n",
"\n",
"Ec_Nt=-23;//in dB\n",
"DRC=-1.5;//DRC gain with respect to pilot in dB\n",
"Tg=3.75; // Trafﬁc channel gain with respect to pilot in dB\n",
"B=0.85;//Interference factor due to other cells \n",
"\n",
"//solution\n",
"Mmax=(1/(1+10^(DRC/10)+10^(Tg/10)))*(1/((10^(Ec_Nt/10)*(1+B))));\n",
"//The sector loading can be expressed as a fraction of the pole capacity Mmax. This is typically 70% of the pole capacity. \n",
"M_allow=int(0.7*Mmax);\n",
"//From table 17.2 we get Traffic channel rate as 9.6kbps since we are given traffic channel gain with respect to pilot as 3.75 dB\n",
"Ri=9.6; //in kbps(see table 17.2)\n",
"Tput=Ri*M_allow;\n",
"printf(' Allowable reverse link throughput is %d kbps \n ',round(Tput));"
   ]
   }
,
{
		   "cell_type": "markdown",
		   "metadata": {},
		   "source": [
			"## Example 17.13: To_estimate_average_SINR_of_a_HSDPA.sce"
		   ]
		  },
  {
"cell_type": "code",
	   "execution_count": null,
	   "metadata": {
	    "collapsed": true
	   },
	   "outputs": [],
"source": [
"// Exa 17.13\n",
"// To calculate average SINR of HSDPA.\n",
"\n",
"clc;\n",
"clear all;\n",
"\n",
"Ptmax=5.5;//Maximum transmit power of DSCH in watts\n",
"Pbs=18;// Total base station power in watts\n",
"alpha=0.2;//downlink orthogonality factor \n",
"G=0.363;// geometry factor\n",
"SF=16; //Spreading Factor for DSCH;fixed at value of 16\n",
"\n",
"//solution\n",
"// Using equation no 17.27 given on page no 623\n",
"SINR=SF*(Ptmax/(Pbs*(1-alpha+(1/G))));\n",
"// In dB\n",
"SINR_db=10*log10(SINR);\n",
"\n",
"printf('The average SINR of HSDPA is %.1f dB = %.4f \n ',SINR_db,SINR);"
   ]
   }
,
{
		   "cell_type": "markdown",
		   "metadata": {},
		   "source": [
			"## Example 17.14: To_find_bandwidth_of_a_Iub_interface.sce"
		   ]
		  },
  {
"cell_type": "code",
	   "execution_count": null,
	   "metadata": {
	    "collapsed": true
	   },
	   "outputs": [],
"source": [
"// Exa 17.15\n",
"// To calculate bandwidth of Iub interface.\n",
"\n",
"clc;\n",
"clear all;\n",
"\n",
"Users=350;//no of users supported\n",
"ExpectedTraf=1.8; // From section 17.7 (in Kbps)\n",
"BHTraf=1.785;//Busy hour traffic in kbps\n",
"BTS=180;\n",
"\n",
"//solution\n",
"IubBW=(ExpectedTraf*Users*BHTraf)/1000;  // in Mbps\n",
"TotalBW=BTS*IubBW;\n",
"printf('Required total bandwidth of Iub Interface is %.2f Mbps \n ',TotalBW);"
   ]
   }
,
{
		   "cell_type": "markdown",
		   "metadata": {},
		   "source": [
			"## Example 17.15: To_find_the_required_RNCs.sce"
		   ]
		  },
  {
"cell_type": "code",
	   "execution_count": null,
	   "metadata": {
	    "collapsed": true
	   },
	   "outputs": [],
"source": [
"// Exa 17.15\n",
"// To calculate No of RNC required.\n",
"\n",
"clc;\n",
"clear all;\n",
"\n",
"BTS=800;//No of BTS sites\n",
"Sec=3;//No of sectors per BTS\n",
"freq_sec=2;//No of frequencies used per sector\n",
"cellsRNC=1152;//Maximum capacity of cellRNC\n",
"btsRNC=384;//One RNC can support btsRNC(BTSs)\n",
"VE=25;//Voice service(mErl/subscriber)\n",
"BRV=16;// bitrate Voice\n",
"CS1=10;//CS data service 1(mErl/subscriber)\n",
"BRC1=32;//bit rate for CS1 in kbps\n",
"CS2=5;//CS data service 2(mErl/subscriber)\n",
"BRC2=64;////bit rate for CS2 in kbps\n",
"PSdata=0.2;//PS data service(kbps per subscriber)\n",
"PSoverhead=0.15;\n",
"SHO=0.4;//40%\n",
"Totalsub=350000;//Total subsribers\n",
"Maxcap=196;//Maximum Iub capacity of tpRNC (in Mbps)\n",
"FR1=0.9;FR2=0.9;FR3=0.9;//Filler rates\n",
"\n",
"//solution\n",
"RNCreqd=(BTS*Sec*freq_sec)/(cellsRNC*FR1);//from eqn 17.28\n",
"printf('using equation 17.28,Number of RNC required are %d \n ',round(RNCreqd));\n",
"RNC_reqd=BTS/(btsRNC*FR2);//from eqn 17.29\n",
"printf('using equation 17.29,Number of RNC required are %d \n ',round(RNC_reqd));\n",
"RNCrequired=((VE/1000*BRV+CS1/1000*BRC1+CS2/1000*BRC2+(PSdata/(1-PSoverhead)))*(1+SHO)*Totalsub)/(Maxcap*1000*FR3);//from eqn 17.30\n",
"printf('using equation 17.30,Number of RNC required are %d \n ',round(RNCrequired));\n",
"\n",
"printf(' We select first value which is %d RNCs \n ',round(RNCreqd));"
   ]
   }
,
{
		   "cell_type": "markdown",
		   "metadata": {},
		   "source": [
			"## Example 17.1: To_calculate_various_parameters_for_GSM_1800_network.sce"
		   ]
		  },
  {
"cell_type": "code",
	   "execution_count": null,
	   "metadata": {
	    "collapsed": true
	   },
	   "outputs": [],
"source": [
"// Exa 17.1\n",
"//To calculate-\n",
"//(a) average busy-hour trafﬁc per subscriber,\n",
"//(b) trafﬁc capacity per cell,\n",
"//(c) required number of base stations per zone, and\n",
"//(d) the hexagonal cell radius for the zone. \n",
"\n",
" clc;\n",
" clear all;\n",
" \n",
" Susage=150;//subscriber usage per month in mins\n",
" days=24;//days per month\n",
" busyhrs=6;//in a day\n",
" BW=4.8*10^3;  //in kHz\n",
" Freqreuse=4/12;//Frequency reuse plan\n",
" chwidth=200; //in kHz\n",
" subscriber=50000;//Present subscriber count\n",
" Sgrowth=0.05;//Growth rate per year\n",
" Area=500;  //in km\n",
" BTScapacity=30; //in Erlangs\n",
" N=4;  //Initial installation design years\n",
" \n",
" //solution\n",
" Erlangspersub=Susage/(days*busyhrs*60);\n",
" printf('Average busy-hour trafﬁc per subscriber is %.4f Erlangs \n ',Erlangspersub);\n",
" RFcarriers=BW/chwidth;\n",
" RFcarrier_percell=RFcarriers/((Freqreuse^-1)*4); //freq reuse factor of 4\n",
"\n",
"//Assuming 2 control channels per cell\n",
"CC=2;//control channels\n",
"TC_percell=2*RFcarriers/3-CC;\n",
"//Referring Erlang-B table in Appendix A\n",
"disp('Referring Erlang-B table in Appendix A,Trafﬁc capacity of a GSM cell at 2% GoS for 14 channels = 8.2 Erlangs ');\n",
"Tcapacity=8.2;// in Erlangs\n",
"disp('There are 3 cells per BTS');\n",
"BTS=3;\n",
"Traffic_perBTS=Tcapacity*BTS;\n",
"printf(' Traffic capacity per BTS is %.1f Erlangs ',Traffic_perBTS);\n",
"disp('Therefore, Traffic per BTS is less than BTS capacity(30 Erlangs)')\n",
"maxsubscriber=Traffic_perBTS/Erlangspersub;\n",
"initialsub=subscriber*(1+Sgrowth)^N;\n",
"BTS_perZone=initialsub/maxsubscriber;\n",
"printf(' The required number of base stations per zone are %d \n ',round(BTS_perZone));\n",
"cellRadius=(Area/(BTS_perZone*2.6))^0.5;\n",
"printf('The hexagonal cell radius is %.1f km \n ',cellRadius);"
   ]
   }
,
{
		   "cell_type": "markdown",
		   "metadata": {},
		   "source": [
			"## Example 17.2: To_estimate_the_data_and_voice_traffic_per_subscriber_and_per_cell.sce"
		   ]
		  },
  {
"cell_type": "code",
	   "execution_count": null,
	   "metadata": {
	    "collapsed": true
	   },
	   "outputs": [],
"source": [
"// Exa 17.2 \n",
"// To calculate voice and data traffic per cell.\n",
"\n",
"clc;\n",
"clear all;\n",
"\n",
"usage=150; //subscriber usage per month in mins\n",
"days=24;//Days in a month\n",
"BHrs=6;//Busy hours per day\n",
"BW=4.8;  //in MHz\n",
"RFch=200;  //in kHz\n",
"Psubscribers=50000;//present subscriber count\n",
"growth=0.05;//subscriber growth per year\n",
"rollover=4;//network roll over period\n",
"NPCS=5;//Number of packet calls per session \n",
"NPP=25;//Number of packets within a packet call \n",
"Tr=120;//Reading time between packet calls(sec)\n",
"NBP=480*8;//Packet size(in bits)\n",
"Tint=0.01;//Time interval between two packets(sec)\n",
"Ttot=3000;//Total packet service holding time\n",
"BH_PS=0.15;//Busy hour packet sessions per subscriber\n",
"Penetration=0.25;\n",
"datarate=48;  //in kbps\n",
"PTT=10;//Packet transmission time(sec)\n",
"BTS=40;//NO of BTS sites\n",
"\n",
"//solution\n",
"Bitstx_duringPTT=NPCS*NPP*NBP/1000;   \n",
"PST=PTT+Tr*(NPCS-1)+Tint*(NPP-1);\n",
"PT_duringBH=BH_PS*Ttot/PST;\n",
"Bits_persub_persec=Bitstx_duringPTT*PT_duringBH/(60*60);\n",
"VoiceErlangs=usage/(days*BHrs*60);\n",
"Initial_subscribers=round(Psubscribers*(1+growth)^rollover);\n",
"Data_subscribers=Initial_subscribers*Penetration;\n",
"Totalvoice=Initial_subscribers*VoiceErlangs;\n",
"Voicetraffic_perBTS=Totalvoice/BTS;\n",
"printf('Voice Traffic per Cell(sector) is %.2f Erlangs \n ',Voicetraffic_perBTS/3);\n",
"Totaldata=Data_subscribers*Bits_persub_persec;\n",
"Datathroughput_perBTS=Totaldata/BTS;\n",
"printf('Data throughput per Cell(sector) is %.2f kbps \n ',Datathroughput_perBTS/3);"
   ]
   }
,
{
		   "cell_type": "markdown",
		   "metadata": {},
		   "source": [
			"## Example 17.3: To_calculate_data_Erlangs_along_with_TS_utilization_and_capacity.sce"
		   ]
		  },
  {
"cell_type": "code",
	   "execution_count": null,
	   "metadata": {
	    "collapsed": true
	   },
	   "outputs": [],
"source": [
"// Exa 17.3\n",
"//Using trafﬁc data per cell for a GSM/GPRS network from Example 17.2\n",
"// To calculate-\n",
"// (a) data Erlangs,\n",
"// (b) time slot utilization, and\n",
"// (c) TS capacity.\n",
"\n",
"clc;\n",
"clear all;\n",
"\n",
"Holdtime=120;//Average holding time during Busy Hours(in sec)\n",
"Tx=3;// No of transreceivers\n",
"TSsig=3;//No of TSs per cell for signaling\n",
"RLC=0.80;//Radio link control efficiency\n",
"Radioblocks=9000;//Total numbers of transmitted radio blocks\n",
"TSdata=3;//TSs allocated for data trafﬁc per cell\n",
"Datarate=15.5; //From eg 17.2\n",
"Voicetraffic=8.82;  //From eg.17.2\n",
"Duration=0.02;//Duration of block in sec\n",
"\n",
"//solution\n",
"DataEr=Radioblocks*Duration/Holdtime;\n",
"printf('Data Erlangs = %.1f \n ',DataEr);\n",
"TSuti=DataEr/TSsig;\n",
"printf('Time Slot(TS) utilization = %.1f \n ',TSuti);\n",
"Throughput=(Datarate/TSdata)*RLC;\n",
"TScap=Throughput/TSuti;\n",
"printf('TS capacity is %.2f kbps \n ',TScap);"
   ]
   }
,
{
		   "cell_type": "markdown",
		   "metadata": {},
		   "source": [
			"## Example 17.4: To_develop_downlink_and_uplink_cell_budget_and_calculate_cell_radius.sce"
		   ]
		  },
  {
"cell_type": "code",
	   "execution_count": null,
	   "metadata": {
	    "collapsed": true
	   },
	   "outputs": [],
"source": [
"// Exa 17.4\n",
"//To calculate the cell radius.\n",
"\n",
"clc;\n",
"clear all;\n",
"\n",
"Pt=36;//Base station transmitted power in dBm\n",
"Pms=24;//mobile station transmitted power in dBm\n",
"Nms=8;//mobile station noise figure in dB\n",
"Nbs=5;//Base station nise figure in dB\n",
"Ga=18;//Base station transmit and receive antenna gain in dBi\n",
"Gm=0;//Mobile antenna gain in dBi\n",
"SNR=12;// in dB\n",
"Lc_TX=5;//BS transmit antenna cable, connector, and ﬁlter losses in dB\n",
"Lc_RX=2;//BS receiver antenna cable, connector, and ﬁlter losses in dB\n",
"Bodyloss=3;// Body losses at mobile\n",
"fading=10.2;// in dB\n",
"ThermalNoise=-174;// in dBm/Hz\n",
"Gdiversity=5;//Antenna diversity gain at BS in dB\n",
"//Assuming standard value of RF channel as \n",
"RFch=200*10^3;  //in Hz\n",
"\n",
"//solution\n",
"N=ThermalNoise+10*log10(RFch)+Nms;\n",
"Smin=N+SNR;\n",
"Smean=Smin+fading+Bodyloss;\n",
"Lp=Pt-Lc_TX+Ga-Smean;\n",
"N1=ThermalNoise+10*log10(RFch)+Nbs;\n",
"Smin=N1+SNR-Gdiversity;\n",
"Smean1=Smin+fading+Bodyloss;\n",
"Lp1=Pms-Smean1+Ga-Lc_RX;\n",
"disp('Using uplink path loss and Hata model to calculate cell radius');\n",
"R=10^((Lp1-133.2)/33.8);\n",
"printf(' Cell radius is %.1f km \n',R);"
   ]
   }
,
{
		   "cell_type": "markdown",
		   "metadata": {},
		   "source": [
			"## Example 17.5: To_calculate_Uplink_cell_load_factor_and_pole_capacity.sce"
		   ]
		  },
  {
"cell_type": "code",
	   "execution_count": null,
	   "metadata": {
	    "collapsed": true
	   },
	   "outputs": [],
"source": [
"// Exa 17.5\n",
"// To calculate uplink cell load factor, number of voice users and poll capacity of the cell.\n",
"\n",
"clc;\n",
"clear all;\n",
"\n",
"Ri=12.2*10^3;//Information rate in bps\n",
"Rc=3.84*10^6;//Chip rate in cps(chips per second)\n",
"Eb_Nt=4;  //in dB\n",
"Imargin=2;  //Interference margin(3 dB)\n",
"B=0.5;//Interference factor due to other cells\n",
"Vi=0.65;//Channel activity factor\n",
"\n",
"//solution\n",
"Eb_Ntreqd=10^(Eb_Nt/10);\n",
"LF_peruser=(1+B)*(1/(1+(Rc/Ri)*(1/Eb_Ntreqd)*(1/Vi)));  //M(no of users=1) in Eq 17.13\n",
"printf('Cell load factor per voice user is %.5f \n ',LF_peruser);\n",
"CellLoading=(Imargin-1)/Imargin;\n",
"VoiceUsers=CellLoading/LF_peruser;\n",
"printf('No of Voice Users are %d per cell \n ',VoiceUsers);\n",
"//From EQ 17.6 assuming Power control efficiency=1\n",
"Polecap=Rc/(Ri*Vi*(1+B)*Eb_Ntreqd);\n",
"printf('Pole Capacity is %d \n',Polecap);"
   ]
   }
,
{
		   "cell_type": "markdown",
		   "metadata": {},
		   "source": [
			"## Example 17.6: To_calculate_uplink_throughput_for_WCDMA_data_service.sce"
		   ]
		  },
  {
"cell_type": "code",
	   "execution_count": null,
	   "metadata": {
	    "collapsed": true
	   },
	   "outputs": [],
"source": [
"// Exa 17.6\n",
"// To calculate Uplink throughput for a WCDMA cell.\n",
"\n",
"clc;\n",
"clear all;\n",
"\n",
"Eb_Nt=1;  //in dB\n",
"cellLoading=0.5;//Required interference margin(3 dB)\n",
"B=0.5;//Interference factor due to other cells\n",
"Vi=1;//Channel activity factor\n",
"\n",
"//solution\n",
"Eb_Ntreqd=10^(Eb_Nt/10);\n",
"//Assuming standard value of chip rate as 3.84Mcps\n",
"Rc=3.84*10^6;//in cps(chips per second)\n",
"Throughput=(cellLoading*Rc)/(Eb_Ntreqd*(1+B));\n",
"printf('Uplink Throughput is %d kbps \n ',Throughput/1000);"
   ]
   }
,
{
		   "cell_type": "markdown",
		   "metadata": {},
		   "source": [
			"## Example 17.7: To_calculate_downlink_cell_load_factor_and_number_of_voice_users_per_cell.sce"
		   ]
		  },
  {
"cell_type": "code",
	   "execution_count": null,
	   "metadata": {
	    "collapsed": true
	   },
	   "outputs": [],
"source": [
"// Exa 17.7\n",
"// To calculate downlink cell load-factor and number of voice users per cell for a WCDMA system.\n",
"\n",
"clc;\n",
"clear all;\n",
"\n",
"Ri=12.2*10^3;//Information rate in bps\n",
"Rc=3.84*10^6;// Chip rate in chips per second\n",
"Eb_Nt=4;   // in dB\n",
"Eb_Nt=10^(Eb_Nt/10);\n",
"B=0.5;//Average interference factor due to other cells\n",
"Zeta=0.6; // orthogonality factor\n",
"Imargin=2;//Interference margin(3 dB)\n",
"Vi=0.65  //assuming Channel activity factor as 0.65\n",
"\n",
"//solution\n",
"Loadfactor_peruser=(Zeta+B)*(1/((Rc/Ri)*(1/Eb_Nt)*(1/Vi)))\n",
"printf('Downlink cell load factor is %.4f \n ',Loadfactor_peruser);\n",
"cellLoading=(Imargin-1)/Imargin;\n",
"Voiceusers=cellLoading/Loadfactor_peruser;\n",
"printf('No of voice users per cell are %d \n ',Voiceusers);"
   ]
   }
,
{
		   "cell_type": "markdown",
		   "metadata": {},
		   "source": [
			"## Example 17.8: To_determine_minimum_signal_power_and_maximum_allowable_path_loss.sce"
		   ]
		  },
  {
"cell_type": "code",
	   "execution_count": null,
	   "metadata": {
	    "collapsed": true
	   },
	   "outputs": [],
"source": [
"// Exa 17.8\n",
"// To calculate minimum signal power required and maximum allowable path loss.\n",
"\n",
"clc;\n",
"clear all;\n",
"\n",
"N0=-174;//Noise density in dBm/Hz\n",
"Bc=1.25;//Channel bandwidth in mHz\n",
"Rc=1.2288;//Chip rate in Mcps\n",
"Nf=6;  //Receiver Noise figure in dB\n",
"Pt=27;  //Effective radiated power from mobile in dBm\n",
"Lct=0.5;  //Transmitter cable and connector loss in dBm\n",
"Lbody=1.5;//Body loss in dB\n",
"Lcr=2;  //Receiver cable and connector loss in dB\n",
"Mint=0;  //Interference margin in dB\n",
"Mfading=2;//fast fadinf margin in dB\n",
"Lpent=8;//Penetration loss in dB\n",
"Gm=0;//Transmitter antennna gain in dBi\n",
"Gb=12;//Receiver antenna gain in dBi\n",
"Fm=8;//Fade margin in dB\n",
"Eb_Nt=7;// in dB\n",
"\n",
"//solution\n",
"Nth=N0+Nf;\n",
"S_Nt=Eb_Nt+10*log10((Rc*10^6)/(Bc*10^6));\n",
"Smin=S_Nt+10*log10(Rc*10^6)+Nth;\n",
"Lpmax=(Pt-Smin)+(Gb+Gm)-(Lbody+Lct+Lcr+Fm+Lpent)-Mint-Mfading;\n",
"printf('Minimum signal power required is %.2f dBm \n ',Smin);\n",
"printf('Maximum allowable path loss is %.2f dB \n ',Lpmax);"
   ]
   }
,
{
		   "cell_type": "markdown",
		   "metadata": {},
		   "source": [
			"## Example 17.9: To_develop_a_radio_link_budget_for_uplink_and_downlink.sce"
		   ]
		  },
  {
"cell_type": "code",
	   "execution_count": null,
	   "metadata": {
	    "collapsed": true
	   },
	   "outputs": [],
"source": [
"//Exa 17.9\n",
"// To calculate Radio link budget for uplink and downlink\n",
"// Refering Table 17.1 on page no 613\n",
"\n",
"clc;\n",
"clear all;\n",
"\n",
"Rc=3.84;//Chip rate in Mcps\n",
"Ri=16;//Data rate in kbps\n",
"UL=0.5;//UL loading factor\n",
"DL=0.9;//DL loading factor\n",
"Eb_NtU=4;//in dB\n",
"Eb_NtD=6;// in dB\n",
"Gm=0;//Mobile antenna gain in dBi\n",
"Gb=18;//Base station gain in dBi\n",
"\n",
"//solution\n",
"disp('The Okumara-Hata model for an urban macro-cell with a base station antenna height of 25m, a mobile station height of 1.5m, and a carrier frequency of 1950MHz gives Lp =138.5+35.7*log10(R) where R is radius of hexagonal cell');\n",
"disp('From table 17.1, Lp(Allowable path loss) for uplink is 139.65 dB');\n",
"R=10^((139.65-138.5)/35.7);\n",
"printf(' Cell Radius is %.3f km \n ',R);\n",
"Area=round(2.6*R^2);\n",
"printf('Area covered by hexagonal cell is %d km^2 \n ',Area);\n",
"printf('Number of BTSs required to cover an area of 2400 Km^2 are %d \n ',2400/Area);"
   ]
   }
],
"metadata": {
		  "kernelspec": {
		   "display_name": "Scilab",
		   "language": "scilab",
		   "name": "scilab"
		  },
		  "language_info": {
		   "file_extension": ".sce",
		   "help_links": [
			{
			 "text": "MetaKernel Magics",
			 "url": "https://github.com/calysto/metakernel/blob/master/metakernel/magics/README.md"
			}
		   ],
		   "mimetype": "text/x-octave",
		   "name": "scilab",
		   "version": "0.7.1"
		  }
		 },
		 "nbformat": 4,
		 "nbformat_minor": 0
}
