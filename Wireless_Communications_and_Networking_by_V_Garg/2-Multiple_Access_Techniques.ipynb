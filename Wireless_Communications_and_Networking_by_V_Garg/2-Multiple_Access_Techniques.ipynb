{
"cells": [
 {
		   "cell_type": "markdown",
	   "metadata": {},
	   "source": [
       "# Chapter 2: Multiple Access Techniques"
	   ]
	},
{
		   "cell_type": "markdown",
		   "metadata": {},
		   "source": [
			"## Example 2.10: To_find_the_designed_cell_capacity_for_the_switch_and_design_Erlangs.sce"
		   ]
		  },
  {
"cell_type": "code",
	   "execution_count": null,
	   "metadata": {
	    "collapsed": true
	   },
	   "outputs": [],
"source": [
"//Exa_2.10 \n",
"// TO find ABS/BH(average busy season per busy hour) calling rates, design cell capacity for the switch and design Erlangs.\n",
"\n",
"clc;\n",
"clear all;\n",
"\n",
"Rlines=15000;//Residential lines\n",
"Blines=80000;//Business lines\n",
"PWElines=5000;//PBX, WATS, and Foreign Exchange (FX) lines\n",
"CR_R=2;//Call rates for Rlines\n",
"CR_B=3;// call rates for Blines\n",
"CR_PWE=10;//call rates for PWElines\n",
"HT_R=140;//average holding time for Rlines(sec)\n",
"HT_B=160;//average holding time for Blines(sec)\n",
"HT_PWE=200;//average holding time for PWE lines(sec)\n",
"Slines=100000;// no of lines carried by switch\n",
"HD_ABS=1.5;// HD/ABS for the switch\n",
"\n",
"//solution\n",
"percentR_lines=Rlines/Slines;\n",
"percentB_lines=Blines/Slines;\n",
"percentPWE_lines=PWElines/Slines;\n",
"CCSR=CR_R*HT_R/100;\n",
"CCSB=CR_B*HT_B/100;\n",
"CCSPWE=CR_PWE*HT_PWE/100;\n",
"\n",
"CR=CR_R*percentR_lines+CR_B*percentB_lines+CR_PWE*percentPWE_lines;\n",
"printf('The call rate is %.1f calls per line \n ',CR);\n",
"CCS=CCSR*percentR_lines+CCSB*percentB_lines+CCSPWE*percentPWE_lines;\n",
"AvgHTperline=CCS*100/CR;\n",
"ABS_BH_calls=CR*Slines;\n",
"ABS_BH_usage=CCS/36*Slines;\n",
"printf('Design cell capacity based on HD is %d calls \n',HD_ABS*ABS_BH_calls);\n",
"printf(' DESIGN Erlangs based on HD is %d \n',round(HD_ABS*ABS_BH_usage)); "
   ]
   }
,
{
		   "cell_type": "markdown",
		   "metadata": {},
		   "source": [
			"## Example 2.11: To_find_number_of_service_channels_required_to_handle_the_load.sce"
		   ]
		  },
  {
"cell_type": "code",
	   "execution_count": null,
	   "metadata": {
	    "collapsed": true
	   },
	   "outputs": [],
"source": [
"// Exa 2.11\n",
"// To find offered load A and number of service channels required to handle the load\n",
"\n",
"clc;\n",
"clear all;\n",
"\n",
"maxcalls_hour=4000;//maximum call per hour\n",
"avgHT=160;//average holding time in sec\n",
"Gos=0.02;\n",
"\n",
"//solution\n",
"A=maxcalls_hour*avgHT/3600; //offered load\n",
"printf('Offered load A = %.2f Erlangs \n ',A);\n",
"//Refering Appendix A i.e Erlang B table \n",
"disp('For calculated Offered load and referring Erlang B table we get Service channels as 182 giving 168.3 Erlangs at 2% blocking');"
   ]
   }
,
{
		   "cell_type": "markdown",
		   "metadata": {},
		   "source": [
			"## Example 2.12: To_find_the_number_of_supported_mobile_subscribers.sce"
		   ]
		  },
  {
"cell_type": "code",
	   "execution_count": null,
	   "metadata": {
	    "collapsed": true
	   },
	   "outputs": [],
"source": [
"// Exa 2.12\n",
"// To calculate number of mobile subscribers supported for the given system.\n",
"\n",
"clc;\n",
"clear all;\n",
"\n",
"channels=50;\n",
"blocking=0.02;\n",
"HT=120;//average holding time inm sec\n",
"BHcall=1.2;// in calls  per hour\n",
"\n",
"//solution\n",
"//Refering Erlang B table in appendix A, For 50 channels at 2% blocking, the offered load=40.26 Erlangs.\n",
"A=40.26;\n",
"B=A*(1-0.02); //carried load\n",
"Avgtraffic_user=BHcall*HT/3600;\n",
"No_users=B/Avgtraffic_user;\n",
"printf('NO of mobile subscribers supported are %d \n',round(No_users));"
   ]
   }
,
{
		   "cell_type": "markdown",
		   "metadata": {},
		   "source": [
			"## Example 2.1: To_get_Gos_during_Busy_Hour.sce"
		   ]
		  },
  {
"cell_type": "code",
	   "execution_count": null,
	   "metadata": {
	    "collapsed": true
	   },
	   "outputs": [],
"source": [
"// Exa 2.1\n",
"// TO get Gos during BH(Busy Hour).\n",
"\n",
"clc;\n",
"clear all;\n",
"\n",
"LC=10; //Lost calls\n",
"CC=380; //Carried calls\n",
"\n",
"// soution\n",
"OC=LC+CC;  //Total offered calls\n",
"//Gos=Blocking probability=(number of Lost calls/Total number of offered calls)\n",
"Gos=LC/OC;\n",
"printf('The Gos during busy hour is %f \n ', Gos);\n",
""
   ]
   }
,
{
		   "cell_type": "markdown",
		   "metadata": {},
		   "source": [
			"## Example 2.2: To_find_usage_in_CCS_and_Erlangs.sce"
		   ]
		  },
  {
"cell_type": "code",
	   "execution_count": null,
	   "metadata": {
	    "collapsed": true
	   },
	   "outputs": [],
"source": [
"// Exa 2.2\n",
"// To find usage in call-seconds,CCS(centrum call seconds) and Erlangs).\n",
"\n",
"clc;\n",
"clear all;\n",
"\n",
"Ht=5; //Average holding time in seconds\n",
"PC=450; // Peg count for one hour period\n",
"OC=0;    // Overflow count\n",
"\n",
"// solution\n",
"// usage(Erlangs)=(peg count- overflow count)*Average holding time(in hrs)\n",
"U=(PC-OC)*(5/3600);   \n",
"printf('Usage = %.3f Erlangs = ',U);\n",
"\n",
"// IN CCS\n",
"Uccs=U*36;  // usage in CCS\n",
"printf('%.1f CCS = ',Uccs);\n",
"\n",
"Ucs=Uccs *100;  //usage in call-seconds\n",
"printf('%d call-seconds\n',Ucs);"
   ]
   }
,
{
		   "cell_type": "markdown",
		   "metadata": {},
		   "source": [
			"## Example 2.3: To_find_offered_load.sce"
		   ]
		  },
  {
"cell_type": "code",
	   "execution_count": null,
	   "metadata": {
	    "collapsed": true
	   },
	   "outputs": [],
"source": [
"// Exa 2.3 \n",
"//TO find Offered Load.\n",
"\n",
"clc;\n",
"clear all;\n",
"\n",
"B=0.05;  //Blocking(5%)\n",
"CL=3000;  //Carried Load in CCS\n",
"\n",
"//Solution\n",
"//Offered Load=Carried Load/(1-Blocking);\n",
"OL=CL/(1-B);  //Offered Load in CCS\n",
"printf('Offered load is %d CCS \n',round(OL));\n",
"printf(' Overflow is %d CCS \n',round(OL)-CL);"
   ]
   }
,
{
		   "cell_type": "markdown",
		   "metadata": {},
		   "source": [
			"## Example 2.4: To_find_traffic_intensity.sce"
		   ]
		  },
  {
"cell_type": "code",
	   "execution_count": null,
	   "metadata": {
	    "collapsed": true
	   },
	   "outputs": [],
"source": [
"// Exa 2.4 \n",
" //To find traffic intensity.\n",
"\n",
"clc;\n",
"clear all;\n",
"\n",
"Ht=120;  //Holding time in seconds\n",
"CR=2;  //call rate per hour\n",
"\n",
"//solution\n",
"//Traffic Intensity(Erlangs) = call rate * Holding time(in hrs));\n",
"I=CR*Ht/3600; //Traffic Intensity\n",
"printf('Traffic Intensity is %.4f Erlangs = %.1f CCS \n',I,I*36);\n",
"\n",
"\n",
""
   ]
   }
,
{
		   "cell_type": "markdown",
		   "metadata": {},
		   "source": [
			"## Example 2.5: To_find_traffic_intensity.sce"
		   ]
		  },
  {
"cell_type": "code",
	   "execution_count": null,
	   "metadata": {
	    "collapsed": true
	   },
	   "outputs": [],
"source": [
"//Exa 2.5 \n",
"//To find traffic intensity in Erlangs and CCS.\n",
"//Refer-Table 2.1(page No 28): Traffic data used to estimate traffic intensity\n",
"\n",
"clc;\n",
"clear all;\n",
"\n",
"time=90;  //in minutes\n",
"calls=10;  //no of calls in 90mins\n",
"\n",
"//solution\n",
"CR=calls/(time/60);    //call arrival rate in calls/hour\n",
"tavg=(60+74+80+90+92+70+96+48+64+126)/10;    //average call holding time in sec per call\n",
"I= CR*(tavg/3600);     //traffic intensity in Erlangs\n",
"printf('Traffic Intensity is %.3f Erlangs = %.2f CCS \n ',I,I*36);"
   ]
   }
,
{
		   "cell_type": "markdown",
		   "metadata": {},
		   "source": [
			"## Example 2.6: EX2_6.sce"
		   ]
		  },
  {
"cell_type": "code",
	   "execution_count": null,
	   "metadata": {
	    "collapsed": true
	   },
	   "outputs": [],
"source": [
"// Exa 2.6  \n",
"//To find traffic intensity in Erlangs and CCS during eight hour period and busy hour(4:00 PM to 5:00 PM).\n",
"//Refer-Table 2.2(page no 28): Traffic on customer line between 9:00PM and 5:00PM\n",
"\n",
"clc;\n",
"clear all;\n",
"\n",
"time=8;  //in hours\n",
"calls=11;  //no of calls in 90mins period\n",
"\n",
"//solution\n",
"CR=calls/time;    //call arrival rate in calls/hour\n",
"tavg=(3+10+7+10+5+5+1+5+15+34+5)/11;    //average call holding time in mins per call\n",
"I= CR*(tavg/60);     //traffic intensity in Erlangs\n",
"printf('Traffic Intensity during eight hour period is %.3f Erlangs = %.1f CCS \n',I,I*36);\n",
"\n",
"//For Busy Hour i.e between 4:00PM and 5:00PM\n",
"CRB=2;       //call arrival rate during busy hour in calls/hour(from table 2.2)\n",
"tavgB=(34+5)/2;  //average holding time during Busy Hour in mins/call (from table 2.2)\n",
"IB=CRB*(tavgB/60); //Traffic Intensity during Busy Hour\n",
"printf(' Traffic Intensity during busy hour is %.2f Erlangs = %.1f CCS',IB,IB*36);"
   ]
   }
,
{
		   "cell_type": "markdown",
		   "metadata": {},
		   "source": [
			"## Example 2.7: To_find_traffic_per_subscriber_per_BH_in_Erlangs.sce"
		   ]
		  },
  {
"cell_type": "code",
	   "execution_count": null,
	   "metadata": {
	    "collapsed": true
	   },
	   "outputs": [],
"source": [
"//Exa 2.8\n",
"// To find traffic per user per BH in Erlangs.\n",
"\n",
"clc;\n",
"clear all;\n",
"\n",
"minutes=500; //No of minutes used per month per user\n",
"Twork=0.9; //Traffic During Work day\n",
"TBH=0.1;  //Traffic during busy hour\n",
"Days=20;  //No of workdays in a month\n",
"\n",
"//solution\n",
"//Avg BH usage per subscriber (in minutes) = minutes*Twork(TBH/Days);\n",
"Traffic=minutes*Twork*(TBH/Days);\n",
"printf('Traffic per user per BH is %.4f Erlangs \n',Traffic/60);"
   ]
   }
,
{
		   "cell_type": "markdown",
		   "metadata": {},
		   "source": [
			"## Example 2.8: To_find_average_number_of_BHCAs.sce"
		   ]
		  },
  {
"cell_type": "code",
	   "execution_count": null,
	   "metadata": {
	    "collapsed": true
	   },
	   "outputs": [],
"source": [
"//Exa:2.8  \n",
"// To find average busy hour call attempts(BHCA's).\n",
"\n",
"clc;\n",
"clear all;\n",
"\n",
"minutes=500; //No of minutes used per month per user\n",
"Twork=0.9; //Traffic During Work day\n",
"TBH=0.1;  //Traffic during busy hour\n",
"Days=20;  //No of workdays in a month\n",
"MeanHT=100;  //Mean holding time(in secs)\n",
"\n",
"//solution\n",
"//Avg BH usage per subscriber (in minutes) = minutes*Twork(TBH/Days);\n",
"//BHCAs=trafﬁc (in Erlangs) *3600/(meanHT)\n",
"\n",
"Traffic=minutes*Twork*(TBH/Days);\n",
"BHCAs=(Traffic/60)*(3600/MeanHT);\n",
"\n",
"printf('Average Busy Hour call attempts are %.2f ',   BHCAs);"
   ]
   }
,
{
		   "cell_type": "markdown",
		   "metadata": {},
		   "source": [
			"## Example 2.9: To_calculate_total_traffic_and_number_of_MSCs_required.sce"
		   ]
		  },
  {
"cell_type": "code",
	   "execution_count": null,
	   "metadata": {
	    "collapsed": true
	   },
	   "outputs": [],
"source": [
"//Exa 2.9 \n",
"// To find total traffic in Erlangs and no of MScs required to handle it.\n",
"\n",
"clc;\n",
"clear all;\n",
"\n",
"Tpopu=200000;//Total population\n",
"SP=0.25; //subscriber penetration\n",
"HT1=100;  //holding time for Mobile to Land line and vicecersa\n",
"c1=3;  //Avg calls/hr for Mobile to Land line and vicecersa\n",
"HT2=80;  //For mobile to mobile\n",
"c2=4;   //For mobile to mobile\n",
"TMSC=1800;  //traffic one msc can hold\n",
"TrafDist=0.9 //Traffic distribution for Mobile to Land line and vicecersa\n",
"\n",
"//solution\n",
"aM_L=c1*HT1/3600;  //Traffic Generated by Subscriber (M-L and  L-M).\n",
"aM_M=c2*HT2/3600;  //Traffic Generated by Subscriber (M-M).\n",
"WlessSub=SP*Tpopu;  //total wireless subscribers\n",
"TotalTraffic=WlessSub*TrafDist*aM_L+WlessSub*(1-TrafDist)*aM_M;\n",
"MSCreqd=TotalTraffic/TMSC;\n",
"if(MSCreqd-int(MSCreqd)>0)//for rounding of to next integer ef 2.33 to 3\n",
"    MSCreqd=MSCreqd+1;\n",
"     end\n",
"printf('Total Traffic is %.1f Erlangs \n',TotalTraffic);\n",
"printf(' NO of MSCs Required are %d \n',int(MSCreqd));"
   ]
   }
],
"metadata": {
		  "kernelspec": {
		   "display_name": "Scilab",
		   "language": "scilab",
		   "name": "scilab"
		  },
		  "language_info": {
		   "file_extension": ".sce",
		   "help_links": [
			{
			 "text": "MetaKernel Magics",
			 "url": "https://github.com/calysto/metakernel/blob/master/metakernel/magics/README.md"
			}
		   ],
		   "mimetype": "text/x-octave",
		   "name": "scilab",
		   "version": "0.7.1"
		  }
		 },
		 "nbformat": 4,
		 "nbformat_minor": 0
}
