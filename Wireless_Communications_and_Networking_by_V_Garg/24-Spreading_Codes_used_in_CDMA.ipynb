{
"cells": [
 {
		   "cell_type": "markdown",
	   "metadata": {},
	   "source": [
       "# Chapter 24: Spreading Codes used in CDMA"
	   ]
	},
{
		   "cell_type": "markdown",
		   "metadata": {},
		   "source": [
			"## Example 24.1: To_generate_m_sequence_and_demonstrate_its_properties.sce"
		   ]
		  },
  {
"cell_type": "code",
	   "execution_count": null,
	   "metadata": {
	    "collapsed": true
	   },
	   "outputs": [],
"source": [
"// Exa D.1\n",
"// Using the shift register shown in Figure D.3, generate an m-sequence and demonstrate its properties. \n",
"\n",
"clc;\n",
"clear all;\n",
"\n",
"//solution\n",
"//Referring Fig D.3\n",
"x=[0 0 1]; //Initial stage\n",
"output=x(3);\n",
"disp(' First m-sequence using 3-stage shift register.');\n",
"disp('           x1 x2 x3         output');\n",
"printf(' Initial    %d  %d  %d           %d \n ',x(1),x(2),x(3),output);\n",
"for i= 1:7\n",
"    printf('Shift %d',i);\n",
"    x(3)=x(2);\n",
"    if(x(3)==1) //TO get values in range of [-1 1] for plot\n",
"    dummy(i)=-1\n",
"else\n",
"    dummy(i)=1;\n",
"    end\n",
"    x(2)=x(1);\n",
"   if(output== 1& x(3)==1) //As new x(1)=prev stage x(3) ored                                   prev stage x(2)\n",
"       x(1)=0;\n",
"   else\n",
"       if(output== 0& x(3)==0)\n",
"           x(1)=0;\n",
"       else\n",
"           x(1)=1;\n",
"       end\n",
"   end\n",
"   \n",
"    printf('    %d  %d  %d ',x(1),x(2),x(3));\n",
"     output=x(3);\n",
"     printf('          %d',output);\n",
"      printf('\n ');\n",
"end\n",
"bar(dummy,0.2,'green');\n",
"xlabel('Time','FontSize',5);\n",
"title('7-chip first m-sequence for one T period','FontSize',5);\n",
"disp('The properties of m-sequence in Figure(0)are -');\n",
"disp('Number of -1s = 4 , Number of 1s = 3 ');\n",
"disp('Run length 1 = 2 , Run length 2 = 1');\n",
"disp('Run length  = 1');\n",
""
   ]
   }
,
{
		   "cell_type": "markdown",
		   "metadata": {},
		   "source": [
			"## Example 24.2: To_generate_second_m_sequence.sce"
		   ]
		  },
  {
"cell_type": "code",
	   "execution_count": null,
	   "metadata": {
	    "collapsed": true
	   },
	   "outputs": [],
"source": [
"// Exa D.2\n",
"// what is the location of the modulo-2 adder for the second m-sequence? Generate the second m-sequence.\n",
"\n",
"clc;\n",
"clear all;\n",
"\n",
"//solution\n",
"disp('The location of modulo-2 adder for the second m-sequence is shown in Figure D.5(in the book)i.e Modulo-2 adder should be between first(x1) and second(x2) shift register.');\n",
"x=[0 0 1]; //Initial stage\n",
"output=x(3);\n",
"disp('Second m-sequence usinf 3-stage register');\n",
"disp('           x1 x2 x3         output');\n",
"printf(' Initial    %d  %d  %d           %d \n ',x(1),x(2),x(3),output);\n",
"for i= 1:7\n",
"    printf('Shift %d',i);\n",
"    x(3)=x(2);\n",
"    if(x(3)==1) //TO get values in range of [-1 1] for plot\n",
"    dummy(i)=-1\n",
"else\n",
"    dummy(i)=1;\n",
"    end\n",
"    x(2)=x(1);\n",
"   if(output== 1& x(2)==1) //As new x(1)=prev stage x(3) ored                                   prev stage x(2)\n",
"       x(1)=0;\n",
"   else\n",
"       if(output== 0& x(2)==0)\n",
"           x(1)=0;\n",
"       else\n",
"           x(1)=1;\n",
"       end\n",
"   end\n",
"   \n",
"    printf('    %d  %d  %d ',x(1),x(2),x(3));\n",
"     output=x(3);\n",
"     printf('          %d',output);\n",
"      printf('\n ');\n",
"end\n",
"figure(1);\n",
"bar(dummy,0.2,'green');\n",
"xlabel('Time','FontSize',5);\n",
"title('7-chip second m-sequence for one T period','FontSize',5);\n",
"disp('The properties of m-sequence in Figure(1)are -');\n",
"disp('Number of -1s = 4 , Number of 1s = 3 ');\n",
"disp('Run length 1 = 2 , Run length 2 = 1');\n",
"disp('Run length  = 1');\n",
""
   ]
   }
],
"metadata": {
		  "kernelspec": {
		   "display_name": "Scilab",
		   "language": "scilab",
		   "name": "scilab"
		  },
		  "language_info": {
		   "file_extension": ".sce",
		   "help_links": [
			{
			 "text": "MetaKernel Magics",
			 "url": "https://github.com/calysto/metakernel/blob/master/metakernel/magics/README.md"
			}
		   ],
		   "mimetype": "text/x-octave",
		   "name": "scilab",
		   "version": "0.7.1"
		  }
		 },
		 "nbformat": 4,
		 "nbformat_minor": 0
}
