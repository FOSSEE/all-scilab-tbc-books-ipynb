{
"cells": [
 {
		   "cell_type": "markdown",
	   "metadata": {},
	   "source": [
       "# Chapter 21: Wireless Local Area Network"
	   ]
	},
{
		   "cell_type": "markdown",
		   "metadata": {},
		   "source": [
			"## Example 21.10: To_calculate_Rmax_for_IEEE_802_11_FH_and_DS_devices.sce"
		   ]
		  },
  {
"cell_type": "code",
	   "execution_count": null,
	   "metadata": {
	    "collapsed": true
	   },
	   "outputs": [],
"source": [
"// Exa 21.10\n",
"// Repeat Problems 21.8 and 21.9, if the IEEE 802.11 FH device is replaced by the IEEE 802.11 DS device (Gp=11).\n",
"\n",
"clc\n",
"clear all;\n",
"\n",
"Gp=11;//processing gain(given)\n",
"//Defining variables from Exa 21.8 & 21.9\n",
"PBt=20; //  transmitted power by the BT in dBm\n",
"PMs=40;  // transmitted power of the IEEE 802.11 device in dBm\n",
"PAp=40;  // transmitted power by the AP in dBm\n",
"d=10;  // distance between AP and IEEE 802.11 device in m\n",
"Y=4;  //path loss exponent\n",
"Pe=10^-5;//Error probability\n",
"\n",
"//solution\n",
"//Pe=0.5*e^(-0.5*Eb/No)\n",
"SIR=log(Pe/0.5)/(-0.5);\n",
"r1max=d*(SIR*PBt/(PAp*Gp))^(1/Y);// range of interference between Bluetooth and 802.11 device \n",
"printf(' Maximum coverage range for IEEE 802.11 DS is  %.2f metres \n',r1max);\n",
"r2max=d*(SIR*PMs/(PBt*Gp))^(1/Y);\n",
"printf('  Maximum coverage range for IEEE 802.11 FH is %.2f metres \n',r2max);\n",
"disp(' Thus, the interference ranges are smaller for the IEEE 802.11 DS device compared to the IEEE 802.11 FH device.')"
   ]
   }
,
{
		   "cell_type": "markdown",
		   "metadata": {},
		   "source": [
			"## Example 21.1: To_find_number_of_users_supported_by_WLAN_and_its_bandwidth_efficiency.sce"
		   ]
		  },
  {
"cell_type": "code",
	   "execution_count": null,
	   "metadata": {
	    "collapsed": true
	   },
	   "outputs": [],
"source": [
"// Exa 21.1\n",
"// To find number of users that can be supported by the WLAN and the bandwidth efﬁciency.\n",
"\n",
"clc;\n",
"clear all;\n",
"\n",
"Fl=902; //lower limit frequency MHz\n",
"Fh=928; //higher limit frequency in MHz\n",
"Rt=0.5; //symbol transmission rate in Mega symbols per sec\n",
"S=16; //No of symbols\n",
"BER=10^-5;//Bir error rate\n",
"SG=2.6;//sector gain\n",
"B=0.5; //Interference factor\n",
"a=0.9; //power control efficiency\n",
"\n",
"//solution\n",
"BW=Fh-Fl;\n",
"Rb=Rt*log2(S);\n",
"Gp=BW/Rb;\n",
"// BER = 10^-5= 0.5*erfc(sqrt(Eb_No))\n",
"deff('y=f(x)','y=0.5*erfc(sqrt(x))-10^-5')\n",
"[x,v,info]=fsolve(0.1,f);//x=Eb_No\n",
"M=Gp/x * 1/(1+B) * SG * a;\n",
"printf('Number of users that can be supported by the WLAN are %d \n',M);\n",
"eff=Rb*int(M)/BW;\n",
"printf(' The bandwidth efficiency is %.2f bps/Hz \n',eff);"
   ]
   }
,
{
		   "cell_type": "markdown",
		   "metadata": {},
		   "source": [
			"## Example 21.2: To_find_hopping_bandwidth_and_various_other_parameters_for_FH_MFSK_WLAN_system.sce"
		   ]
		  },
  {
"cell_type": "code",
	   "execution_count": null,
	   "metadata": {
	    "collapsed": true
	   },
	   "outputs": [],
"source": [
"//Exa 21.2\n",
"// To find-\n",
"//a) the hopping bandwidth,\n",
"//b) What is the chip-rate,\n",
"//c) How many chips are there in each data symbol,\n",
"//d) What is the processing gain.\n",
"\n",
"clc;\n",
"clear all;\n",
"\n",
"Stepsize=200; //in Hz\n",
"Chipsmin=20;//length of linear feedback shift register \n",
"Datarate=1.2*10^3;  //bps\n",
"\n",
"//solution\n",
"No_of_tones=2^Chipsmin;\n",
"Bss=No_of_tones*Stepsize;\n",
"Chiprate=Datarate*Chipsmin;\n",
"Gp=Bss/Datarate;//processing gain\n",
"Symbolrate=Datarate/3;  //8-ary FSK is used\n",
"Chips_symbol=Chiprate/Symbolrate;\n",
"printf('The Hopping Bandwidth is %.3f MHz\n',Bss/10^6);\n",
"printf(' The chiprate is %d kchip/sec\n',Chiprate/10^3);\n",
"printf(' Chips per symbol are %d \n',Chips_symbol);\n",
"printf(' The processing gain is %.1f\n',Gp);"
   ]
   }
,
{
		   "cell_type": "markdown",
		   "metadata": {},
		   "source": [
			"## Example 21.3: EX21_3.sce"
		   ]
		  },
  {
"cell_type": "code",
	   "execution_count": null,
	   "metadata": {
	    "collapsed": true
	   },
	   "outputs": [],
"source": [
"//Exa 21.3\n",
"//To find-\n",
"// a) The bandwidth of a subchannel,\n",
"// b) modulation efﬁciency,\n",
"// c) user symbol rate,\n",
"// d) user data rate if the information bits are encoded with a rate of 3/4,\n",
"// e) time utilization efﬁciency of the system.\n",
"\n",
"clc;\n",
"clear all;\n",
"\n",
"InfoSc=48;//Information subcarriers\n",
"SyncSc=4;//synchronization subcarriers\n",
"ReservedSc=12;//Reserved subcarriers\n",
"Symrate=250;  //ksps(kilosymbols per second)\n",
"BW=20;  ///in MHz\n",
"Grdt=800; //Guard time in nsec\n",
"\n",
"//solution\n",
"TotalSc=InfoSc+SyncSc+ReservedSc;//Total subcarriers\n",
"BW_Sch=BW*10^6/TotalSc;//BW of subchannel\n",
"Mod_eff=Symrate*10^3/(BW_Sch);//Modulation efficiency\n",
"User_txrate=InfoSc*Symrate*10^3;\n",
"User_bitsymbol=4;  //16-QPSK is used\n",
"disp('From table 21.7 For modulation scheme as 16-QAM and coding rate =3/4 then User data rate will be 36Mbps');\n",
"User_DR=36; //Mbps\n",
"Sym_Dur=1/(Symrate*10^3);\n",
"TimeUti=Sym_Dur/(Sym_Dur+(Grdt/10^9));\n",
"\n",
"printf(' The bandwidth of subchannel is %.1f kHz\n',BW_Sch/10^3);\n",
"printf(' Modulation efficiency is %.1f symbols/sec/Hz \n',Mod_eff);\n",
"printf(' User symbol rate is %d Msps \n',User_txrate/10^6);\n",
"printf(' Time Utilization efficiency is %.2f \n',TimeUti);"
   ]
   }
,
{
		   "cell_type": "markdown",
		   "metadata": {},
		   "source": [
			"## Example 21.4: To_find_coverage_of_the_AP.sce"
		   ]
		  },
  {
"cell_type": "code",
	   "execution_count": null,
	   "metadata": {
	    "collapsed": true
	   },
	   "outputs": [],
"source": [
"//Exa 21.4\n",
"// To determine the coverage of AP.\n",
"\n",
"clc;\n",
"clear all;\n",
"\n",
"Eb_No=10;  //in dB\n",
"Noise=-120; //in dBm\n",
"Pt=20; //in mwatt\n",
"R=1; //Data rate in Mbps\n",
"CHBW=0.5; //BW in MHz\n",
"A=37.7;  //path loss at the ﬁrst meter in dB\n",
"Y=3.3; //path loss exponent\n",
"Lf=19; //function relating power loss with number of ﬂoors n        (in dB)\n",
"Ls=10;  // lognormally distributed random variable representing the shadow effect in dB \n",
"\n",
"//solution\n",
"S2Nreqd=Eb_No*R/CHBW;\n",
"Rx_sensi=Noise+S2Nreqd;\n",
"Lp=10*log10(20)-Rx_sensi;\n",
"//Lp=A+10Ylod(d)+Lf+Ls;therefore\n",
"d=10^((Lp-A-Lf-Ls)/(10*Y));\n",
"printf('The coverage of AP is %.1f metres \n',d);"
   ]
   }
,
{
		   "cell_type": "markdown",
		   "metadata": {},
		   "source": [
			"## Example 21.5: EX21_5.sce"
		   ]
		  },
  {
"cell_type": "code",
	   "execution_count": null,
	   "metadata": {
	    "collapsed": true
	   },
	   "outputs": [],
"source": [
"// Exa 21.5\n",
"// To determine the coded symbol transmission rate per subcarrier and bit transmission rate per subcarrier for each of the two modes.\n",
"\n",
"clc;\n",
"clear all;\n",
"\n",
"R=3/4;//code rate of convolution encoder\n",
"M1=9; //payload transmission rate in Mbps for mode 1\n",
"M2=36; //payload transmission rate in Mbps for mode 2\n",
"\n",
"//solution\n",
"D1=M1*10^6/48;//user data  rate in kbps for mode 1 \n",
"D2=M2*10^6/48;//user data rate in kbps for mode 2 \n",
"//Refering to Table 21.11\n",
"printf('Data transmission rate per carrier with 3/4 convolution encoder are %.1f Kbps and %d Kbps \n',D1/10^3,D2/10^3);\n",
"C1=D1/R;\n",
"C2=D2/R;\n",
"printf(' Carrier transmission rate with R=3/4 convolutional encoder are %d Kbps and %d Kbps\n',C1/10^3,C2/10^3);\n",
"printf(' Carrier symbol rate with R=3/4 convolutional encoder are %d ksps and %d Ksps \n',C1/10^3,C2/4/10^3);  //Mode1 as BPSK and MOde2 as 16-QAM"
   ]
   }
,
{
		   "cell_type": "markdown",
		   "metadata": {},
		   "source": [
			"## Example 21.6: To_find_user_data_rate_for_HIPERLAN_2.sce"
		   ]
		  },
  {
"cell_type": "code",
	   "execution_count": null,
	   "metadata": {
	    "collapsed": true
	   },
	   "outputs": [],
"source": [
"// Exa 21.6\n",
"// To determine the user data rate for HIPERLAN/2.\n",
"\n",
"clc;\n",
"clear all;\n",
"\n",
"R=3/4; //code rate for convolution encoder\n",
"\n",
"//solution\n",
"//64-QAM modulation is used\n",
"Sc=250; //Carrier symbol rate(ksps) from Exa 21.5\n",
"Bits_sym=log2(64); //64-QAM is used\n",
"User_R=Bits_sym*Sc*10^3*R*48;\n",
"printf('The user data rate is %d Mbps \n',User_R/10^6);"
   ]
   }
,
{
		   "cell_type": "markdown",
		   "metadata": {},
		   "source": [
			"## Example 21.7: To_determine_the_collision_probability_of_a_FH_packet.sce"
		   ]
		  },
  {
"cell_type": "code",
	   "execution_count": null,
	   "metadata": {
	    "collapsed": true
	   },
	   "outputs": [],
"source": [
"// Exa 21.7\n",
"// To determine the PER(Packet error rate) for FH(Frequency Hopping packet) and DS(Direct spread packet).\n",
"\n",
"clc;\n",
"clear all;\n",
"\n",
"D=1000*8;  //packet size in bits\n",
"R=2*10^6;  //transmission rate in bps\n",
"L=3; //msec(Dwell time)\n",
"H=0.625; //msec(Duration of BT packet)\n",
"\n",
"//solution\n",
"Tw=10^3*D/R;   //the packet duration of IEEE 802.11 in msec\n",
"H_L=1;\n",
"G=(H_L)*L-Tw-H;\n",
"Gm=abs(G);\n",
"PER_FH=1-((1-Gm/L)*(78/79)^(H_L)+Gm/L*(78/79)^((H_L)-G/Gm));\n",
"PER_DS=1-((1-Gm/L)*(57/79)^(H_L)+Gm/L*(57/79)^((H_L)-G/Gm));\n",
"printf('The PER for FH packet and PER for DS packet are %d percent & %.2f percent respectively',round(PER_FH*100),PER_DS*100);\n",
"disp('The collision probability with 802.11 DS is much higher than with 802.11 FH.')"
   ]
   }
,
{
		   "cell_type": "markdown",
		   "metadata": {},
		   "source": [
			"## Example 21.8: To_calculate_min_SIR_and_using_this_SIR_and_other_data_calculate_Rmax.sce"
		   ]
		  },
  {
"cell_type": "code",
	   "execution_count": null,
	   "metadata": {
	    "collapsed": true
	   },
	   "outputs": [],
"source": [
"// Exa 21.8\n",
"// To determine SIRmin and r_max.\n",
"\n",
"clc\n",
"clear all;\n",
"\n",
"d=10; // distance between AP and IEEE 802.11 device in metres\n",
"Y=4; //path loss exponent\n",
"PBt=20;  //the transmitted power by the BT in dBm\n",
"PAp=40;  //the transmitted power by the AP in dBm\n",
"Pe=10^-5;//acceptable error probability\n",
"\n",
"//solution\n",
"//Pe=0.5*e^(-0.5*Eb/No)\n",
" SIR=log(Pe/0.5)/(-0.5);// signal-to-interference ratio \n",
"rmax=d*(SIR*PBt/PAp)^(1/Y);// range of interference between Bluetooth and 802.11 device \n",
"printf('Minimum SIR is %.2f dB = %.1f \n',10*log10(SIR),SIR);\n",
"printf(' Maximum coverage range is  %.2f metres \n',rmax);"
   ]
   }
,
{
		   "cell_type": "markdown",
		   "metadata": {},
		   "source": [
			"## Example 21.9: To_calculate_Rmax_for_given_interference_scenarios.sce"
		   ]
		  },
  {
"cell_type": "code",
	   "execution_count": null,
	   "metadata": {
	    "collapsed": true
	   },
	   "outputs": [],
"source": [
"// Exa 21.9\n",
"// To calculate rmax for the interference scenarios (see Figure 21.21) using Smin from Example 21.8.\n",
"\n",
"clc;\n",
"clear all;\n",
"\n",
"SIRmin=21.6; //From eg 21.8 i.e(13.36 dB)\n",
"d=10; //distance between AP and IEEE 802.11 device in m\n",
"PMs=40; // transmitted power of the IEEE 802.11 device in dBm\n",
"PBt=20; //the transmitted power by the BT in dBm\n",
"Y=4 ; //path loss exponent\n",
"\n",
"//solution\n",
"rmax=d*(SIRmin*PMs/PBt)^(1/Y);\n",
"printf('Maximum coverage range is %.1f metres \n',rmax);"
   ]
   }
],
"metadata": {
		  "kernelspec": {
		   "display_name": "Scilab",
		   "language": "scilab",
		   "name": "scilab"
		  },
		  "language_info": {
		   "file_extension": ".sce",
		   "help_links": [
			{
			 "text": "MetaKernel Magics",
			 "url": "https://github.com/calysto/metakernel/blob/master/metakernel/magics/README.md"
			}
		   ],
		   "mimetype": "text/x-octave",
		   "name": "scilab",
		   "version": "0.7.1"
		  }
		 },
		 "nbformat": 4,
		 "nbformat_minor": 0
}
