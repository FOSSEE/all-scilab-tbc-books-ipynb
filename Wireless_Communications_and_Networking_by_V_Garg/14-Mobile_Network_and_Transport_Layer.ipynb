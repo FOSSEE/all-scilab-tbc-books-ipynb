{
"cells": [
 {
		   "cell_type": "markdown",
	   "metadata": {},
	   "source": [
       "# Chapter 14: Mobile Network and Transport Layer"
	   ]
	},
{
		   "cell_type": "markdown",
		   "metadata": {},
		   "source": [
			"## Example 14.1: To_determine_minimum_possible_latency_and_window_size_to_achieve_this_latency.sce"
		   ]
		  },
  {
"cell_type": "code",
	   "execution_count": null,
	   "metadata": {
	    "collapsed": true
	   },
	   "outputs": [],
"source": [
"// Exa 14.1\n",
"// To determine the minimum possible latency amd the minimum window size that achieves this latency.\n",
"\n",
"clc;\n",
"clear all;\n",
"\n",
"O=800*1000; //Object size(Bytes)\n",
"S=536*8;  //max Segment Size(in bits)\n",
"RTT=0.1; //Round trip-time in sec\n",
"R=1*10^6; //Transmission rate of the link from the server to the client in bps\n",
"\n",
"//solution\n",
"Lmin=2*RTT+(O/R); //latency(msec)\n",
"// For minimum latency (S/R) +RTT -(W*S/R) = 0;Therefore\n",
"W=1+(RTT)/(S/R);\n",
"printf('The minimum possible latency is %d sec \n',Lmin);\n",
"printf(' The minimum window size is %.1f segments \n',W);"
   ]
   }
,
{
		   "cell_type": "markdown",
		   "metadata": {},
		   "source": [
			"## Example 14.2: EX14_2.sce"
		   ]
		  },
  {
"cell_type": "code",
	   "execution_count": null,
	   "metadata": {
	    "collapsed": true
	   },
	   "outputs": [],
"source": [
"// Exa 14.2\n",
"// To determine the upper bound of the throughput and the throughput with retransmissions due to errors.\n",
"\n",
"clc;\n",
"clear all;\n",
"\n",
"RTT=0.1; //Round trip-time in sec\n",
"MSS=536*8; //Maximum segment size in bits\n",
"p=0.01;// packet loss probability for the path\n",
"RTO=5*RTT; //Retransmission time out(from eqn 14.2 on page 450)\n",
"\n",
"//solution\n",
"R=0.93*MSS/(RTT*sqrt(p));\n",
"RR=MSS/(RTT*sqrt(1.33*p)+RTO*p*(1+32*p^2)*min(1,3*sqrt(0.75*p)));\n",
"printf('The upper bound of the throughput is %.4f Mbps \n',R*10^-6);\n",
"printf(' The throughput with retransmission due to errors is %.4f Mbps \n',RR*10^-6);"
   ]
   }
],
"metadata": {
		  "kernelspec": {
		   "display_name": "Scilab",
		   "language": "scilab",
		   "name": "scilab"
		  },
		  "language_info": {
		   "file_extension": ".sce",
		   "help_links": [
			{
			 "text": "MetaKernel Magics",
			 "url": "https://github.com/calysto/metakernel/blob/master/metakernel/magics/README.md"
			}
		   ],
		   "mimetype": "text/x-octave",
		   "name": "scilab",
		   "version": "0.7.1"
		  }
		 },
		 "nbformat": 4,
		 "nbformat_minor": 0
}
