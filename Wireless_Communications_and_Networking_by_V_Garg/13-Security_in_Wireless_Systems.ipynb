{
"cells": [
 {
		   "cell_type": "markdown",
	   "metadata": {},
	   "source": [
       "# Chapter 13: Security in Wireless Systems"
	   ]
	},
{
		   "cell_type": "markdown",
		   "metadata": {},
		   "source": [
			"## Example 13.1: To_generate_public_and_private_keys_for_RSA_algorithm.sce"
		   ]
		  },
  {
"cell_type": "code",
	   "execution_count": null,
	   "metadata": {
	    "collapsed": true
	   },
	   "outputs": [],
"source": [
"// Exa 13.1\n",
"// To generate public and private keys for RSA algorithm.\n",
"\n",
"clc;\n",
"clear all;\n",
"\n",
"//Two prime numbers\n",
"p=5;\n",
"q=7;\n",
"\n",
"//solution\n",
"n=p*q;\n",
"z=(p-1)*(q-1);\n",
"e=input('Choose _e_such that 1<e<z and e and n are coprime= ');\n",
"d=input('Choose _d_ such that e*d-1 should be exactly divisible by z= ');\n",
"printf('Public keys is (%d, %d)\n',n,e);\n",
"printf('Private key is (%d, %d)\n',n,d);\n",
"\n",
"//Results\n",
"//Choose _e_such that 1<e<z and e and n are coprime= 5\n",
"//Choose _d_ such that e*d-1 should be exactly divisible by z= 29\n",
"//Public keys is (35, 5)\n",
"//Private key is (35, 29)\n",
" "
   ]
   }
,
{
		   "cell_type": "markdown",
		   "metadata": {},
		   "source": [
			"## Example 13.2: To_determine_the_secret_encrypting_key_K_using_DH_key_exchange_algorithm.sce"
		   ]
		  },
  {
"cell_type": "code",
	   "execution_count": null,
	   "metadata": {
	    "collapsed": true
	   },
	   "outputs": [],
"source": [
"// Exa 13.2\n",
"// To determine secret encrypting key K using DH key exchange algorithm.\n",
"\n",
"clc;\n",
"clear all;\n",
"\n",
"p=23; //prime number that both parties agreed upon\n",
"g=5;// g is primitive mod p\n",
"a=6;  //party A choosen number\n",
"b=15;  //party B choosen number\n",
"\n",
"//solution\n",
"printf('Party A sends to party B as (g^a mod p) = %d \n',modulo(g^a,23));\n",
"printf(' Party B sends to party A as (g^b mod p) = %d \n',modulo(g^b,23));\n",
"printf(' Party A computes secret key as ((g^b modp)^a mod p) = %d \n',modulo(modulo(g^b,23)^a,p));\n",
"printf(' Party B computes secret key as ((g^a modp)^b mod p) = %d \n',modulo(modulo(g^a,23)^b,p));\n",
"disp('Thus both parties uses k=2 as secret key for encryption');"
   ]
   }
],
"metadata": {
		  "kernelspec": {
		   "display_name": "Scilab",
		   "language": "scilab",
		   "name": "scilab"
		  },
		  "language_info": {
		   "file_extension": ".sce",
		   "help_links": [
			{
			 "text": "MetaKernel Magics",
			 "url": "https://github.com/calysto/metakernel/blob/master/metakernel/magics/README.md"
			}
		   ],
		   "mimetype": "text/x-octave",
		   "name": "scilab",
		   "version": "0.7.1"
		  }
		 },
		 "nbformat": 4,
		 "nbformat_minor": 0
}
