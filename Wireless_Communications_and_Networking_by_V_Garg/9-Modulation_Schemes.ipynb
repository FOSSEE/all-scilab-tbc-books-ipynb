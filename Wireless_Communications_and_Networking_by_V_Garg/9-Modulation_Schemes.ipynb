{
"cells": [
 {
		   "cell_type": "markdown",
	   "metadata": {},
	   "source": [
       "# Chapter 9: Modulation Schemes"
	   ]
	},
{
		   "cell_type": "markdown",
		   "metadata": {},
		   "source": [
			"## Example 9.1: To_find_Eb_by_No_in_dB.sce"
		   ]
		  },
  {
"cell_type": "code",
	   "execution_count": null,
	   "metadata": {
	    "collapsed": true
	   },
	   "outputs": [],
"source": [
"// Exa 9.1\n",
"// To calculate Eb/No in dB for BPSK and Coherent FSK.\n",
"\n",
"clc;\n",
"clear all;\n",
"\n",
"Pe=10^-6;//Probability of error\n",
"e=2.71828; //Euler's Number\n",
"\n",
"//solution\n",
"// For BPSK\n",
"//Pe(=10^-6)=e^(-x)/(2*sqrt(%pi*x)); where x=Eb/No\n",
"\n",
"deff('y=f(x)','y=2.71828^(-x)/(2*sqrt(%pi*x))-10^-6');\n",
"[x,v,info]=fsolve(0.1,f);\n",
"\n",
"printf('Eb/No For BPSK is %.2f dB\n ',10*log10(x));\n",
"printf('FSK requires 3 dB more in terms of Eb/N0 to give the same Pe as BPSK so it comes out to be %.2f dB',10*log10(x)+3);"
   ]
   }
,
{
		   "cell_type": "markdown",
		   "metadata": {},
		   "source": [
			"## Example 9.2: To_calculate_amplitude_A_of_the_carrier_signal.sce"
		   ]
		  },
  {
"cell_type": "code",
	   "execution_count": null,
	   "metadata": {
	    "collapsed": true
	   },
	   "outputs": [],
"source": [
"// Exa 9.2\n",
"// To calculate amplitude A of a carrier signal.\n",
"\n",
"clc;\n",
"clear all;\n",
"\n",
"Pe=10^-6;//Probability of error\n",
"No=10^-10;  // PSD in W/Hz\n",
"R=100*10^3;  //data rate in bps\n",
"\n",
"//solution\n",
"disp('From Example 9.1, Eb/N0= 10.54dB (11.32) for Pe=10^-6 ');\n",
"//Therefore\n",
"Eb_No=11.32; //From Exa. 9.1\n",
"// Eb/No = A^2/(2*No*R);\n",
"A=sqrt(2*No*(Eb_No)*R);\n",
"printf(' Amplitude of a carrier signal is %.3f mV',A*1000);\n",
"    "
   ]
   }
,
{
		   "cell_type": "markdown",
		   "metadata": {},
		   "source": [
			"## Example 9.3: To_calculate_final_phase_for_given_bitstream_for_given_modulation_method.sce"
		   ]
		  },
  {
"cell_type": "code",
	   "execution_count": null,
	   "metadata": {
	    "collapsed": true
	   },
	   "outputs": [],
"source": [
"// Exa 9.3\n",
"// To calculate final phase for the pi/4-DQPSK modulation method.\n",
"\n",
"clc;\n",
"clear all;\n",
"\n",
"B=['00','10','01','11','01','00','11','10','10','01','01','00'];//Given Bit stream\n",
"\n",
"//solution\n",
"disp('Phase transition table for pi/4-DQPSK Modulation is given as   ')\n",
"disp(' By Referring Table 9.1 on page No 266 i.e');\n",
"disp('Symbol    Phase transition')\n",
"disp('00     =>    45°');\n",
"disp('01     =>   135°'); \n",
"disp('10     =>   -45°');\n",
"disp('11     =>  -135°');\n",
"disp('');\n",
"disp('sym      Dell phi(k)   Phi(k)')\n",
"//BitStream='001001110100111010010100';\n",
"\n",
"phase=0; //Taking initial phase as zero\n",
"for i=1:12\n",
"\n",
"   \n",
"    if(B(i)=='00')\n",
"      phase=phase+45;  \n",
"      printf(' %s          45          %d \n',B(i),phase);\n",
"    end\n",
"\n",
"    if(B(i)=='01')\n",
"        phase=phase+135;\n",
"       printf(' %s         135          %d \n',B(i),phase);\n",
"    end\n",
"    if(B(i)=='10')\n",
"        phase=phase-45;\n",
"       printf(' %s         -45          %d \n',B(i),phase);\n",
"    end\n",
"    if(B(i)=='11')\n",
"        phase=phase-135;\n",
"       printf(' %s        -135          %d \n',B(i),phase);\n",
"   \n",
"end\n",
"end\n",
"disp('');\n",
"printf('final phase for the pi/4-DQPSK modulation method for given bitstream is %d degree\n',phase);"
   ]
   }
,
{
		   "cell_type": "markdown",
		   "metadata": {},
		   "source": [
			"## Example 9.4: EX9_4.sce"
		   ]
		  },
  {
"cell_type": "code",
	   "execution_count": null,
	   "metadata": {
	    "collapsed": true
	   },
	   "outputs": [],
"source": [
"// Exa 9.4\n",
"// To calculate\n",
"//(a) the frequency shift between binary 1 and binary 0,\n",
"//(b) the transmitted frequencies if the carrier frequency is 900 MHz, and \n",
"//(c) the bandwidth efﬁciency in bps/Hz.\n",
"\n",
"clc;\n",
"clear all;\n",
"\n",
"CHBW=200; //Channel BW in KHz\n",
"R=270.83; //Data rate in kbps\n",
"Fc=900;  //carrier frequency in MHz\n",
"\n",
"//solution\n",
"FreqShift=0.5*R;\n",
"//Transmitted Frequencies\n",
"Fh=Fc*1000+0.25*R;//Max\n",
"Fl=Fc*1000-0.25*R;//Min\n",
"BWEff=R/CHBW;\n",
"printf('The frequency shift between binary 1 and binary 0 is %.3f kHz\n ',FreqShift);\n",
"printf('Maximum and Minimum value of transmitted frequencies are %.4f mHz and %.4f mHz respectively\n ',Fh/1000,Fl/1000);\n",
"printf('Bandwidth efficiency is %.2f bps/Hz',BWEff);"
   ]
   }
,
{
		   "cell_type": "markdown",
		   "metadata": {},
		   "source": [
			"## Example 9.5: To_calculate_bit_error_probability_for_GMSK.sce"
		   ]
		  },
  {
"cell_type": "code",
	   "execution_count": null,
	   "metadata": {
	    "collapsed": true
	   },
	   "outputs": [],
"source": [
"// Exa 9.5\n",
"// To calculate-\n",
"// a) 3-dB bandwidth for a Gaussian low-pass ﬁlter,\n",
"// b) 99.99% power bandwidth in the RF channel, and\n",
"// c) bit error probability for GMSK.\n",
"\n",
"clc;\n",
"clear all;\n",
"\n",
"R=270; //data rate in kbps\n",
"Eb_No=6; // in dB\n",
"GMSK=0.3; //Gaussian minimum shift keying\n",
"\n",
"//solution\n",
"Tb=1/R *10^3; //in microsec\n",
"B=GMSK/Tb;\n",
"printf('3-dB BW for a gaussian low pass filter is %.3f kHz\n',B*1000);\n",
"disp('The 3-dB bandwidth is 81.08 kHz. to determine the 99.99% power bandwidth, we use Table 9.3 to ﬁnd that 1.41*Rb is the required value and degradation factor(beta)= 0.89');\n",
"PowerBW=1.41*R;\n",
"DegradFac=0.89;\n",
"Pe=erfc(sqrt(2*DegradFac*10^(0.1*Eb_No)));\n",
"printf(' Power bandwidth in the RF channel is %.1f kHz\n ',PowerBW);\n",
"printf('Bit error probability for GMSK is %f * 10^-5\n',Pe*10^5);"
   ]
   }
,
{
		   "cell_type": "markdown",
		   "metadata": {},
		   "source": [
			"## Example 9.6: To_calculate_bit_rate_of_modulator.sce"
		   ]
		  },
  {
"cell_type": "code",
	   "execution_count": null,
	   "metadata": {
	    "collapsed": true
	   },
	   "outputs": [],
"source": [
"// Exa 9.6\n",
"// To calculate bit rate.\n",
"\n",
"clc;\n",
"clear all;\n",
"\n",
"Rs=19200; //symbols per second\n",
"states=64;\n",
"\n",
"//solution\n",
"Bits_symbol=log2(states);\n",
"BitRate=Bits_symbol*Rs;\n",
"printf('Bit Rate of the modulator is %.1f kbps',BitRate/1000   );"
   ]
   }
,
{
		   "cell_type": "markdown",
		   "metadata": {},
		   "source": [
			"## Example 9.7: To_determine_the_modulation_scheme_to_be_used_along_with_required_Eb_by_No.sce"
		   ]
		  },
  {
"cell_type": "code",
	   "execution_count": null,
	   "metadata": {
	    "collapsed": true
	   },
	   "outputs": [],
"source": [
"// Exa 9.7\n",
"// To determine modulation scheme to be used and Eb/No.\n",
"\n",
"clc;\n",
"clear all;\n",
"\n",
"Rb=144; //data rate in kbps\n",
"BW=36; //in MHz\n",
"Pb=3*10^-5;//probability of bit error\n",
"\n",
"//solution\n",
"Seff=Rb/BW;  //spectral efficiency in bps/Hz\n",
"\n",
" M=2^(Rb/BW); //since the channel is band limited\n",
" disp('16-QAM (refer Equation 9.66) should be used as it is  more efﬁcient than 16-PSK (refer Equation 9.50)');\n",
"disp('');\n",
"\n",
"//since Q[sqrt(2*Eb_No)]=(1/2)*erfc[sqrt(Eb_No)]            // refer page no 257 equ 9.35\n",
"deff('y=f(x)','y=(3/8)*erfc(sqrt((2/5)*x))-Pb');            //from eqn 9.66 and 9.35\n",
"\n",
"[x,v,info]=fsolve(0.1,f);  //x=Eb_No\n",
"\n",
"printf('For a rectangular constellation (refer Figure 9.12), with a Gaussian channel and matched ﬁlter reception, the calculated Eb/No value is %.1f dB\n ',10*log10(x));"
   ]
   }
,
{
		   "cell_type": "markdown",
		   "metadata": {},
		   "source": [
			"## Example 9.8: Compare_the_performance_of_16PSK_with_16QAM.sce"
		   ]
		  },
  {
"cell_type": "code",
	   "execution_count": null,
	   "metadata": {
	    "collapsed": true
	   },
	   "outputs": [],
"source": [
"// Exa 9.8\n",
"// To compare the performance of 16-PSK with 16-QAM.\n",
"\n",
"clc;\n",
"clear all;\n",
"\n",
"Pb=10^-8;//BER probability\n",
"\n",
"//solution\n",
"disp('For 16-PSK');\n",
"// Pb=0.5*Q(0.552*sqrt(Eb_No));\n",
"//since Q[sqrt(2*Eb_No)]=(1/2)*erfc[sqrt(Eb_No)]            // refer page no 257 equ 9.35\n",
"deff('y=f(x)','y=0.25*erfc(sqrt(0.5*0.552^2*x))-Pb');\n",
"[x,v,info]=fsolve(0.1,f);  //x=Eb_No\n",
"\n",
"printf('Using equation 9.50 we get Eb/No as %d dB (approx) \n ',round(10*log10(x)));\n",
"disp('For 16-QAM');\n",
"//Pb=0.75*Q(sqrt(0.8*Eb_No));\n",
"deff('y=f1(x1)','y=(3/8)*erfc(sqrt(0.4*x1))-Pb'); //x=Eb_No\n",
"//since Q[sqrt(2*Eb_No)]=(1/2)*erfc[sqrt(Eb_No)] // refer page no 257 equ 9.35\n",
"[x1,v1,info1]=fsolve(0.1,f1);  //x=Eb_No\n",
"printf('Using equation 9.66 we get Eb/No as %d dB (approx)\n ',round(10*log10(x1)));\n",
"disp('');\n",
"printf('Thus 16-QAM has an advantage of about %d dB compared to 16-PSK \n ',10*log10(x)-10*log10(x1));"
   ]
   }
,
{
		   "cell_type": "markdown",
		   "metadata": {},
		   "source": [
			"## Example 9.9: EX9_9.sce"
		   ]
		  },
  {
"cell_type": "code",
	   "execution_count": null,
	   "metadata": {
	    "collapsed": true
	   },
	   "outputs": [],
"source": [
"// Exa 9.9\n",
"// To calculate-\n",
"// a)  The total bandwidth required,\n",
"// b)  The bandwidth efﬁciency,\n",
"// c)  The Eb/No required, and\n",
"// d)  No of carried bits per symbol.\n",
"\n",
"clc;\n",
"clear all;\n",
"\n",
"M=8; //number of different signal elements\n",
"Fc=250; //carrier frequency in kHz\n",
"DelF=25; //kHz\n",
"Pe=10^-6;//probability of error\n",
"\n",
"//solution\n",
"TotalBW=2*M*DelF;\n",
"nb=2*log2(M)/(M+3);\n",
"//Pe=7*Q(z) and z=approx(5.08)\n",
"z=5.08;\n",
"Eb_No=(z)^2/log2(M);\n",
"bits_sym=log2(M);\n",
"printf('Total bandwidth required is %d kHz \n ',TotalBW);\n",
"printf('The bandwidth efficiency is %.4f \n ',nb);\n",
"printf('The required Eb/No is %.3f dB \n ',10*log10(Eb_No));\n",
"printf('Carried bits per symbol are %d \n ',bits_sym);"
   ]
   }
],
"metadata": {
		  "kernelspec": {
		   "display_name": "Scilab",
		   "language": "scilab",
		   "name": "scilab"
		  },
		  "language_info": {
		   "file_extension": ".sce",
		   "help_links": [
			{
			 "text": "MetaKernel Magics",
			 "url": "https://github.com/calysto/metakernel/blob/master/metakernel/magics/README.md"
			}
		   ],
		   "mimetype": "text/x-octave",
		   "name": "scilab",
		   "version": "0.7.1"
		  }
		 },
		 "nbformat": 4,
		 "nbformat_minor": 0
}
