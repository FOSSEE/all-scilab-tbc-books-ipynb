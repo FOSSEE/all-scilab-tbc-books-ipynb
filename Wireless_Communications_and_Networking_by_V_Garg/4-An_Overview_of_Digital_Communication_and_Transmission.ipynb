{
"cells": [
 {
		   "cell_type": "markdown",
	   "metadata": {},
	   "source": [
       "# Chapter 4: An Overview of Digital Communication and Transmission"
	   ]
	},
{
		   "cell_type": "markdown",
		   "metadata": {},
		   "source": [
			"## Example 4.1: To_determine_the_sampling_rates.sce"
		   ]
		  },
  {
"cell_type": "code",
	   "execution_count": null,
	   "metadata": {
	    "collapsed": true
	   },
	   "outputs": [],
"source": [
"// Exa 4.1\n",
"// To calculate the sampling rate.\n",
"\n",
"clc;\n",
"clear all;\n",
"\n",
"Fm=20;  // in KHz\n",
"\n",
"//solution\n",
"disp(' An Engineering version of the Nyquist sampling rate : fs>=2.2*fm.');\n",
"printf('Therefore sampling rate of >= %d ksps should be used ',(2.2*Fm)); \n",
"disp('The sampling rate for a compact disc digital audio player = 44.1 ksps and for a studio quality audio player = 48 ksps are used.')"
   ]
   }
,
{
		   "cell_type": "markdown",
		   "metadata": {},
		   "source": [
			"## Example 4.2: To_determine_the_SNR.sce"
		   ]
		  },
  {
"cell_type": "code",
	   "execution_count": null,
	   "metadata": {
	    "collapsed": true
	   },
	   "outputs": [],
"source": [
"// Exa 4.2\n",
"// To calculate SNR for L=32, 64, 128, and 256.\n",
"\n",
"clc;\n",
"clear all;\n",
"\n",
"Rt=1; //Resistance(ohm)\n",
"//L= Number of quantization values\n",
"L1=32;\n",
"L2=64;\n",
"L3=128;\n",
"L4=256;\n",
"\n",
"// solution\n",
"// L=2^R i.e R=log2(L);\n",
"R1=log2(L1);\n",
"R2=log2(L2);\n",
"R3=log2(L3);\n",
"R4=log2(L4);\n",
"\n",
"//P=A^2/2; //average power of signal\n",
"//sig^2=0.333*A^2*2^(-2*Rt); //Avg quantization noise power\n",
"//SNR=P/sig^2;\n",
"// SNR(dB)=1.8+ 6R;\n",
"\n",
"SNR1=1.8+6*R1;\n",
"SNR2=1.8+6*R2;\n",
"SNR3=1.8+6*R3;\n",
"SNR4=1.8+6*R4;\n",
"\n",
"printf('For L=32, SNR is %.1f dB\n ',SNR1);\n",
"printf('For L=64, SNR is %.1f dB\n ',SNR2);\n",
"printf('For L=128, SNR is %.1f dB\n ',SNR3);\n",
"printf('For L=256, SNR is %.1f dB\n ',SNR4);"
   ]
   }
,
{
		   "cell_type": "markdown",
		   "metadata": {},
		   "source": [
			"## Example 4.3: To_calculate_spacing_between_successive_pulses_of_multiplexed_signal.sce"
		   ]
		  },
  {
"cell_type": "code",
	   "execution_count": null,
	   "metadata": {
	    "collapsed": true
	   },
	   "outputs": [],
"source": [
"// Exa 4.3\n",
"// To calculate the spacing between successive pulses of the multiplexed signal.\n",
"\n",
"clc;\n",
"clear all;\n",
"\n",
"Fs=8*10^3;  //in Hz\n",
"Fm=3.4*10^3; // in Hz\n",
"VCH=24; //voice channels\n",
"SCH=1; //sunchronization channel\n",
"PDur=1;  //extra pulse duration in microsec\n",
"\n",
"//solution\n",
"Ts=1/(Fs);\n",
"TimeCH=Ts/(VCH+SCH)*10^6;   // in microsec\n",
"printf('Time between the pulses is %d microsec\n',(TimeCH-PDur));\n",
"//Now by using the engineering version of Nyquist rate sampling\n",
"NyquistRate=2.2*Fm;\n",
"Ts1_microsec=1/NyquistRate*10^6;\n",
"Tc=round(Ts1_microsec)/(VCH+SCH);\n",
"printf(' Time between the pulses by using engineering version of Nyquist rate sampling  is %.2f microsec\n',(Tc-PDur));"
   ]
   }
,
{
		   "cell_type": "markdown",
		   "metadata": {},
		   "source": [
			"## Example 4.4: EX4_4.sce"
		   ]
		  },
  {
"cell_type": "code",
	   "execution_count": null,
	   "metadata": {
	    "collapsed": true
	   },
	   "outputs": [],
"source": [
"// Exa 4.4\n",
"// TO calculate:\n",
"// A)The minimum number of bits/sample or bits/PCM word that should be used.\n",
"// B)The minimum sampling rate, and what is the resulting transmission rate.\n",
"// C)The PCM pulse or symbol transmission rate.\n",
"\n",
"clc;\n",
"clear all;\n",
"\n",
"Fm=3000; //highest modulating frequency in signal(Hz)\n",
"M=32; // number of pulse levels \n",
"b=5; //bits per symbol \n",
"p=0.01; //Quantization distortion\n",
"\n",
"//solution\n",
"//2^R = L >= 1/2P\n",
"// where R is the number of bits required to represent quantization levels L\n",
"R=log10(1/(2*p))/log10(2);\n",
"Fs=2*Fm;  // Nyquist sampling criteria (samples per second)\n",
"fs=round(R)*Fs;\n",
"Rs=fs/b;\n",
"printf('The minimum number of bits/sample or bits/PCM word that should be used are %d',round(R));\n",
"printf('\n The minimum sampling rate is %d samples per second\n ',Fs);\n",
"printf('The resulting transmission rate is %d bps\n ',fs);\n",
"printf('The PCM pulse or symbol transmission rate is %d symbols/sec\n',Rs);"
   ]
   }
,
{
		   "cell_type": "markdown",
		   "metadata": {},
		   "source": [
			"## Example 4.5: To_determine_choice_of_modulation_scheme.sce"
		   ]
		  },
  {
"cell_type": "code",
	   "execution_count": null,
	   "metadata": {
	    "collapsed": true
	   },
	   "outputs": [],
"source": [
"// Exa 4.5\n",
"// To determine choice of modulation scheme if no-error correction coding is used.\n",
"\n",
"clc;\n",
"clear all;\n",
"\n",
"S_No=53; //dB-Hz\n",
"R=9.6*10^3; //bps\n",
"BW=4.8*10^3; //Khz\n",
"Pb=10^-5; //BER<=10^-5;\n",
"\n",
"//solution\n",
"disp('Since the required data rate of 9.6 kbps is more than the available bandwidth of 4.8 kHz, the channel is bandwidth-limited.');\n",
"Eb_No=S_No-10*log10(R); //dB\n",
"// Try for 8-PSK modulation scheme\n",
"M=8;\n",
"Ps=log2(M)*Pb; //Max ps\n",
"Es_No=log2(M)*10^(0.1*Eb_No);\n",
"//Ps(8)=2*Q(sqrt(2*Es_No)*sin(%pi/8));\n",
"//2*Q(sqrt(2*Eb_No))=erfc(sqrt(Eb_No));  //Refer EQn C(7) from appendix C\n",
"\n",
"Ps8=erfc(sqrt(Es_No)*sin(%pi/8));\n",
"disp('');\n",
"printf(' Symbol error rate is given as %.5f \n ',Ps);\n",
"printf('The ratio of signal energy to noise is %.2f \n ',Es_No);\n",
"printf('Symbol error rate for 8-PSK  is %.5f \n ',Ps8);\n",
"disp('As symbol error rate for 8-PSK modulation is lower than threshold value. so, We can use 8-PSK modulation.')"
   ]
   }
,
{
		   "cell_type": "markdown",
		   "metadata": {},
		   "source": [
			"## Example 4.6: To_find_choice_of_modulation_scheme_without_error_correcting_coding.sce"
		   ]
		  },
  {
"cell_type": "code",
	   "execution_count": null,
	   "metadata": {
	    "collapsed": true
	   },
	   "outputs": [],
"source": [
"// Exa 4.6\n",
"// To determine design choice of modulation scheme without an error correction coding.\n",
"\n",
"clc;\n",
"clear all;\n",
"\n",
"SNR=48; //dB-Hz\n",
"BW=45*10^3; //in Hz\n",
"R=9.6*10^3; //bps\n",
"Pb=10^-5; //Bit error rate\n",
"e=2.71828; //Natural exponent e\n",
"\n",
"//solution\n",
"disp(' since the available bandwidth of 45 kHz is more than adequate to support the required data rate of 9.6 kbps.');\n",
"disp('So, the channel is not bandwidth limited ');\n",
"Eb_No=SNR-10*log10(R);\n",
"//We try the 16-FSK modulation scheme\n",
"M=16;\n",
"\n",
"Es_No=log2(M)*Eb_No;\n",
"Ps=(M-1)/2*e^(-Es_No/2);\n",
"//For orthogonal signalling\n",
"Ps16=(2^M-1)/(2^(M-1))*Pb;\n",
"disp('');\n",
"printf(' The maximum symbol error probability is %0.5f \n ',Ps16);\n",
"printf('The symbol error probability achieved by 16-PSK is %.9f \n ',Ps);\n",
"disp('As achieved symbol error probability is far less than maximum tolerable value');\n",
"disp('So, we can meet the given speciﬁcations for this power-limited channel with a 16-FSK modulation scheme without any error-correction coding')"
   ]
   }
],
"metadata": {
		  "kernelspec": {
		   "display_name": "Scilab",
		   "language": "scilab",
		   "name": "scilab"
		  },
		  "language_info": {
		   "file_extension": ".sce",
		   "help_links": [
			{
			 "text": "MetaKernel Magics",
			 "url": "https://github.com/calysto/metakernel/blob/master/metakernel/magics/README.md"
			}
		   ],
		   "mimetype": "text/x-octave",
		   "name": "scilab",
		   "version": "0.7.1"
		  }
		 },
		 "nbformat": 4,
		 "nbformat_minor": 0
}
