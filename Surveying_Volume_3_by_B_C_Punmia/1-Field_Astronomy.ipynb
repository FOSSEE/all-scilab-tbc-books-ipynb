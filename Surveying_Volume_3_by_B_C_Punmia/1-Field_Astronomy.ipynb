{
"cells": [
 {
		   "cell_type": "markdown",
	   "metadata": {},
	   "source": [
       "# Chapter 1: Field Astronomy"
	   ]
	},
{
		   "cell_type": "markdown",
		   "metadata": {},
		   "source": [
			"## Example 1.10: astronomical_triangle.sce"
		   ]
		  },
  {
"cell_type": "code",
	   "execution_count": null,
	   "metadata": {
	    "collapsed": true
	   },
	   "outputs": [],
"source": [
"\n",
"\n",
"//exapple 1.10 \n",
"clc; funcprot(0);\n",
"// Initialization of Variable\n",
"pi=3.14159;\n",
"theta=20+30/60;\n",
"H=42+6/60;//hour angle\n",
"delta=50;\n",
"//in triangle ZPM(figure in book)\n",
"PZ=(90-delta)*pi/180;\n",
"H=H*pi/180;\n",
"PM=(90-theta)*pi/180;\n",
"ZM=acos((cos(PZ)*cos(PM)+sin(PM)*sin(PZ)*cos(H)));\n",
"alpha=pi/2-ZM;\n",
"alpha=alpha*180/pi;\n",
"disp(,'altitude of star in :');\n",
"a=modulo(alpha*3600,60);\n",
"printf('seconds %.2f',a);\n",
"b=modulo(alpha*3600-a,3600)/60;\n",
"printf('  minutes %i',b);\n",
"c=(alpha*3600-b*60-a)/3600;\n",
"printf('  degrees %i',c);\n",
"A=((cos(PM)-cos(PZ)*cos(ZM))/sin(PZ)/sin(ZM));\n",
"\n",
"if A<0 then\n",
"    A=-A;\n",
"    A=acos(A);\n",
"    A=180-A*180/pi;\n",
"    disp('azimuth of star in (degrees) westwards:')\n",
"   \n",
"   a=modulo(A*3600,60);\n",
"   printf('seconds %.2f',a);\n",
"   b=modulo(A*3600-a,3600)/60;\n",
"   printf('  minutes %i',b);\n",
"    c=(A*3600-b*60-a)/3600;\n",
"  printf('  degrees %i',c);\n",
"end"
   ]
   }
,
{
		   "cell_type": "markdown",
		   "metadata": {},
		   "source": [
			"## Example 1.1_1: astronomical_triangle.sce"
		   ]
		  },
  {
"cell_type": "code",
	   "execution_count": null,
	   "metadata": {
	    "collapsed": true
	   },
	   "outputs": [],
"source": [
"\n",
"\n",
"//exapple 1.1.1\n",
"clc; funcprot(0);\n",
"// Initialization of Variable\n",
"a=40;//longitude of A\n",
"b=73;//longitude of B\n",
"dol=b-a;//difference of longitude\n",
"disp('difference of longitude is');\n",
"a=modulo(dol*3600,60);\n",
"printf('seconds %.2f',a);\n",
"b=modulo(dol*3600-a,3600)/60;\n",
"printf('  minutes %i',b);\n",
"c=(dol*3600-b*60-a)/3600;\n",
"printf('  degrees %i',c);"
   ]
   }
,
{
		   "cell_type": "markdown",
		   "metadata": {},
		   "source": [
			"## Example 1.11: astronomical_triangle.sce"
		   ]
		  },
  {
"cell_type": "code",
	   "execution_count": null,
	   "metadata": {
	    "collapsed": true
	   },
	   "outputs": [],
"source": [
"\n",
"\n",
"//exapple 1.11 \n",
"clc; funcprot(0);\n",
"// Initialization of Variable\n",
"pi=3.14159;\n",
"theta=-8-30/60;\n",
"H=322;//hour angle\n",
"delta=50;\n",
"//in triangle ZPM(figure in book)\n",
"PZ=(90-delta)*pi/180;\n",
"H=2*pi-H*pi/180;\n",
"PM=(90-theta)*pi/180;\n",
"ZM=acos((cos(PZ)*cos(PM)+sin(PM)*sin(PZ)*cos(H)));\n",
"alpha=pi/2-ZM;\n",
"disp(alpha*180/pi,'altitude of star in (degrees):');\n",
"A=((cos(PM)-cos(PZ)*cos(ZM))/sin(PZ)/sin(ZM));\n",
"if A<0 then\n",
"    A=-A;\n",
"    A=acos(A);\n",
"    A=180-A*180/pi;\n",
"    disp(A,'azimuth of star in (degrees) eastwards:')\n",
"end\n",
""
   ]
   }
,
{
		   "cell_type": "markdown",
		   "metadata": {},
		   "source": [
			"## Example 1.1_2: astronomical_triangle.sce"
		   ]
		  },
  {
"cell_type": "code",
	   "execution_count": null,
	   "metadata": {
	    "collapsed": true
	   },
	   "outputs": [],
"source": [
"\n",
"\n",
"//exapple 1.1.2\n",
"clc; funcprot(0);\n",
"// Initialization of Variable\n",
"a=20;//longitude of A\n",
"b=150;//longitude of B\n",
"dol=b-a;//difference of longitude\n",
"disp('difference of longitude is');\n",
"a=modulo(dol*3600,60);\n",
"printf('seconds %.2f',a);\n",
"b=modulo(dol*3600-a,3600)/60;\n",
"printf('  minutes %i',b);\n",
"c=(dol*3600-b*60-a)/3600;\n",
"printf('  degrees %i',c);"
   ]
   }
,
{
		   "cell_type": "markdown",
		   "metadata": {},
		   "source": [
			"## Example 1.12: astronomical_triangle.sce"
		   ]
		  },
  {
"cell_type": "code",
	   "execution_count": null,
	   "metadata": {
	    "collapsed": true
	   },
	   "outputs": [],
"source": [
"\n",
"\n",
"//exapple 1.12 \n",
"clc; funcprot(0);\n",
"// Initialization of Variable\n",
"pi=3.14159;\n",
"alpha=22+36/60;//altitude of star\n",
"A=42//azimuth angle\n",
"delta=40;//latitude of observer\n",
"//in triangle ZPM(figure in book)\n",
"PZ=(90-delta)*pi/180;\n",
"A=A*pi/180;\n",
"ZM=(90-alpha)*pi/180;\n",
"PM=acos((cos(PZ)*cos(ZM)+sin(ZM)*sin(PZ)*cos(A)));\n",
"theta=pi/2-PM;\n",
"disp(theta*180/pi,'declination of star in (degrees) north:');\n",
"H=((cos(ZM)-cos(PZ)*cos(PM))/sin(PZ)/sin(PM));\n",
"if H<0 then\n",
"    H=-H;\n",
"    H=acos(H);\n",
"    H=180-H*180/pi;\n",
"    disp(H,'hour angle  of star in (degrees) eastwards:')\n",
"end"
   ]
   }
,
{
		   "cell_type": "markdown",
		   "metadata": {},
		   "source": [
			"## Example 1.1_3: astronomical_triangle.sce"
		   ]
		  },
  {
"cell_type": "code",
	   "execution_count": null,
	   "metadata": {
	    "collapsed": true
	   },
	   "outputs": [],
"source": [
"\n",
"\n",
"//exapple 1.1.3\n",
"clc; funcprot(0);\n",
"// Initialization of Variable\n",
"a=-20;//longitude of A\n",
"b=50;//longitude of B\n",
"dol=b-a;//difference of longitude\n",
"disp('difference of longitude is');\n",
"a=modulo(dol*3600,60);\n",
"printf('seconds %.2f',a);\n",
"b=modulo(dol*3600-a,3600)/60;\n",
"printf('  minutes %i',b);\n",
"c=(dol*3600-b*60-a)/3600;\n",
"printf('  degrees %i',c);"
   ]
   }
,
{
		   "cell_type": "markdown",
		   "metadata": {},
		   "source": [
			"## Example 1.13: astronomical_triangle.sce"
		   ]
		  },
  {
"cell_type": "code",
	   "execution_count": null,
	   "metadata": {
	    "collapsed": true
	   },
	   "outputs": [],
"source": [
"\n",
"\n",
"//exapple 1.13 \n",
"clc; funcprot(0);\n",
"// Initialization of Variable\n",
"pi=3.14159;\n",
"alpha=21+30/60;//altitude of star\n",
"A=140//azimuth angle\n",
"delta=48;//latitude of observer\n",
"//in triangle ZPM(figure in book)\n",
"PZ=(90-delta)*pi/180;\n",
"A=A*pi/180;\n",
"ZM=(90-alpha)*pi/180;\n",
"PM=(cos(PZ)*cos(ZM)+sin(ZM)*sin(PZ)*cos(A));\n",
"if PM<0 then\n",
"    PM=-PM;\n",
"    PM=acos(PM);\n",
"    PM=180-PM*180/pi;\n",
"    disp(PM-90,'declination of star in (degrees) southwards:');\n",
"end\n",
"\n",
"H=acos((cos(ZM)-cos(PZ)*cos(PM*pi/180))/sin(PZ)/sin(PM*pi/180));\n",
"H=2*pi-H;\n",
"disp(H*180/pi,'hour angle of star in (degrees)');"
   ]
   }
,
{
		   "cell_type": "markdown",
		   "metadata": {},
		   "source": [
			"## Example 1.1_4: astronomical_triangle.sce"
		   ]
		  },
  {
"cell_type": "code",
	   "execution_count": null,
	   "metadata": {
	    "collapsed": true
	   },
	   "outputs": [],
"source": [
"\n",
"\n",
"//exapple 1.1.4\n",
"clc; funcprot(0);\n",
"// Initialization of Variable\n",
"a=-40;//longitude of A\n",
"b=150;//longitude of B\n",
"dol=b-a;//difference of longitude\n",
"if  dol>180 then\n",
"    dol=360-dol;\n",
"    disp('difference of longitude is');\n",
"a=modulo(dol*3600,60);\n",
"printf('seconds %.2f',a);\n",
"b=modulo(dol*3600-a,3600)/60;\n",
"printf('  minutes %i',b);\n",
"c=(dol*3600-b*60-a)/3600;\n",
"printf('  degrees %i',c);\n",
"end"
   ]
   }
,
{
		   "cell_type": "markdown",
		   "metadata": {},
		   "source": [
			"## Example 1.14: Sunset_and_sunrise.sce"
		   ]
		  },
  {
"cell_type": "code",
	   "execution_count": null,
	   "metadata": {
	    "collapsed": true
	   },
	   "outputs": [],
"source": [
"\n",
"\n",
"//exapple 1.14 \n",
"clc; funcprot(0);\n",
"// Initialization of Variable\n",
"pi=3.14159;\n",
"//part1\n",
"delta=22+12/60;\n",
"theta=42+30/60;\n",
"ZP=(90-theta)*pi/180;\n",
"PM=(90-delta)*pi/180;\n",
"A=acos(cos(PM)/sin(ZP));\n",
"disp(A*180/pi,'azimuth of setting sun in (degrees):');\n",
"H=180-acos(tan(pi/2-ZP)*tan(pi/2-PM))*180/pi;\n",
"disp(H,'suns hour angle in (degrees):');\n",
"//part2\n",
"delta=-22-12/60;\n",
"theta=42+30/60;\n",
"ZP=(90-theta)*pi/180;\n",
"PM=(180-90-delta)*pi/180;\n",
"A=acos(cos(PM)/sin(ZP));\n",
"disp(A*180/pi,'azimuth of setting sun in (degrees):');\n",
"H=pi-acos(tan(pi/2-ZP)*tan(pi/2-PM));\n",
"disp(H*180/pi,'suns hour angle in (degrees):');"
   ]
   }
,
{
		   "cell_type": "markdown",
		   "metadata": {},
		   "source": [
			"## Example 1.15: Sunset_and_sunrise.sce"
		   ]
		  },
  {
"cell_type": "code",
	   "execution_count": null,
	   "metadata": {
	    "collapsed": true
	   },
	   "outputs": [],
"source": [
"\n",
"\n",
"//exapple 1.14 \n",
"clc; funcprot(0);\n",
"// Initialization of Variable\n",
"pi=3.14159;\n",
"//part1\n",
"delta=22+12/60;\n",
"theta=42+30/60;\n",
"ZP=(90-theta)*pi/180;\n",
"PM=(90-delta)*pi/180;\n",
"A=pi-acos(cos(PM)/sin(ZP));\n",
"disp(A*180/pi,'azimuth of setting sun in (degrees):');\n",
"H=180-acos(tan(pi/2-ZP)*tan(pi/2-PM))*180/pi;\n",
"disp(H,'suns hour angle in (degrees):');"
   ]
   }
,
{
		   "cell_type": "markdown",
		   "metadata": {},
		   "source": [
			"## Example 1.16: Standard_Time.sce"
		   ]
		  },
  {
"cell_type": "code",
	   "execution_count": null,
	   "metadata": {
	    "collapsed": true
	   },
	   "outputs": [],
"source": [
"\n",
"\n",
"//exapple 1.16 \n",
"clc; funcprot(0);\n",
"// Initialization of Variable\n",
"change=-11.82/60;//change in time in a day\n",
"time=-3-28.41/60;//greenwich time at july1 1951\n",
"c12=change/24*12//change of time in 12 hours\n",
"tch=time-c12;\n",
"disp(tch,'greenwich mean time error in 12th hour in (minutes):')"
   ]
   }
,
{
		   "cell_type": "markdown",
		   "metadata": {},
		   "source": [
			"## Example 1.17: Standard_Time.sce"
		   ]
		  },
  {
"cell_type": "code",
	   "execution_count": null,
	   "metadata": {
	    "collapsed": true
	   },
	   "outputs": [],
"source": [
"\n",
"\n",
"//exapple 1.17 \n",
"clc; funcprot(0);\n",
"// Initialization of Variable\n",
"time=10*3600+30*60;\n",
"GMN=-14*60-10;\n",
"changeET=1*1.5;\n",
"neterr=GMN+changeET;\n",
"GAT=time+neterr;\n",
"hr=round(GAT/3600);\n",
"b=GAT-hr*3600;\n",
"mi=round(b/60-1);\n",
"c=GAT-hr*3600-mi*60;\n",
"disp('GAT is' );\n",
"disp(hr,'hours');\n",
"disp(mi,'minutes');\n",
"disp(c,'seconds');"
   ]
   }
,
{
		   "cell_type": "markdown",
		   "metadata": {},
		   "source": [
			"## Example 1.18: conversion_of_angle_and_time.sce"
		   ]
		  },
  {
"cell_type": "code",
	   "execution_count": null,
	   "metadata": {
	    "collapsed": true
	   },
	   "outputs": [],
"source": [
"\n",
"\n",
"//exapple 1.18 \n",
"clc; funcprot(0);\n",
"// Initialization of Variable\n",
"//part1\n",
"A=50+12/60+48/3600;\n",
"time=A/15*3600\n",
"hr=round(time/3600);\n",
"b=time-hr*3600;\n",
"mi=round(b/60-1);\n",
"c=time-hr*3600-mi*60;\n",
"disp('time is' );\n",
"disp(hr,'hours');\n",
"disp(mi,'minutes');\n",
"disp(c,'seconds');\n",
"//part2\n",
"A=8+18/60+6/3600;\n",
"time=A/15*3600\n",
"hr=round(time/3600);\n",
"b=time-hr*3600;\n",
"mi=round(b/60);\n",
"c=time-hr*3600-mi*60;\n",
"disp('time is' );\n",
"disp(hr,'hours');\n",
"disp(mi,'minutes');\n",
"disp(c,'seconds');\n",
"//part3\n",
"A=258+36/60+30/3600;\n",
"time=A/15*3600\n",
"hr=round(time/3600);\n",
"b=time-hr*3600;\n",
"mi=round(b/60);\n",
"c=time-hr*3600-mi*60;\n",
"disp('time is' );\n",
"disp(hr,'hours');\n",
"disp(mi,'minutes');\n",
"disp(c,'seconds');\n",
""
   ]
   }
,
{
		   "cell_type": "markdown",
		   "metadata": {},
		   "source": [
			"## Example 1.19: conversion_of_angle_and_time.sce"
		   ]
		  },
  {
"cell_type": "code",
	   "execution_count": null,
	   "metadata": {
	    "collapsed": true
	   },
	   "outputs": [],
"source": [
"\n",
"\n",
"//exapple 1.19 \n",
"clc; funcprot(0);\n",
"// Initialization of Variable\n",
"//part1\n",
"A=4+34/60+13/3600;\n",
"angle=A*15*3600;\n",
"deg=round(angle/3600-1);\n",
"b=angle-deg*3600;\n",
"mi=round(b/60);\n",
"c=angle-deg*3600-mi*60;\n",
"disp('angle is' );\n",
"disp(deg,'degrees');\n",
"disp(mi,'minutes');\n",
"disp(c,'seconds');\n",
"//part2\n",
"A=18+11/60+38/3600;\n",
"angle=A*15*3600;\n",
"deg=round(angle/3600-1);\n",
"b=angle-deg*3600;\n",
"mi=round(b/60-1);\n",
"c=angle-deg*3600-mi*60;\n",
"disp('angle is' );\n",
"disp(deg,'degrees');\n",
"disp(mi,'minutes');\n",
"disp(c,'seconds');"
   ]
   }
,
{
		   "cell_type": "markdown",
		   "metadata": {},
		   "source": [
			"## Example 1.20_1: local_and_standard_time.sce"
		   ]
		  },
  {
"cell_type": "code",
	   "execution_count": null,
	   "metadata": {
	    "collapsed": true
	   },
	   "outputs": [],
"source": [
"\n",
"\n",
"//exapple 1.20.1\n",
"clc; funcprot(0);\n",
"// Initialization of Variable\n",
"longP=20//longitude of the place\n",
"longSM=82+30/60;//longitude of standard meridion\n",
"dolong=longSM-longP;//difference in longitude\n",
"dot=dolong/15;//difference in time\n",
"LMT=20+24/60+6/3600-dot;\n",
"disp('local mean time in past midnight:');\n",
"a=modulo(LMT*3600,60);\n",
"printf('seconds %.2f',a);\n",
"b=modulo(LMT*3600-a,3600)/60;\n",
"printf('  minutes %i',b);\n",
"c=(LMT*3600-b*60-a)/3600;\n",
"printf('  hours %i',c);"
   ]
   }
,
{
		   "cell_type": "markdown",
		   "metadata": {},
		   "source": [
			"## Example 1.20_2: local_and_standard_time.sce"
		   ]
		  },
  {
"cell_type": "code",
	   "execution_count": null,
	   "metadata": {
	    "collapsed": true
	   },
	   "outputs": [],
"source": [
"\n",
"\n",
"//exapple 1.20.2\n",
"clc; funcprot(0);\n",
"// Initialization of Variable\n",
"longP=-20//longitude of the place\n",
"longSM=82+30/60;//longitude of standard meridion\n",
"dolong=longSM-longP;//difference in longitude\n",
"dot=dolong/15;//difference in time\n",
"LMT=20+24/60+6/3600-dot;\n",
"disp(LMT,'local mean time in past midnight:');\n",
"a=modulo(LMT*3600,60);\n",
"printf('seconds %.2f',a);\n",
"b=modulo(LMT*3600-a,3600)/60;\n",
"printf('  minutes %i',b);\n",
"c=(LMT*3600-b*60-a)/3600;\n",
"printf('  hours %i',c);"
   ]
   }
,
{
		   "cell_type": "markdown",
		   "metadata": {},
		   "source": [
			"## Example 1.21_1: Local_Mean_Time.sce"
		   ]
		  },
  {
"cell_type": "code",
	   "execution_count": null,
	   "metadata": {
	    "collapsed": true
	   },
	   "outputs": [],
"source": [
"\n",
"\n",
"//exapple 1.21.1\n",
"clc; funcprot(0);\n",
"// Initialization of Variable\n",
"LMT=9+40/60+12/3600;\n",
"longP=-42-36/60;\n",
"dot=longP/15;\n",
"GMT=LMT-dot;\n",
"disp('greenwich mean time in past midnight:');\n",
"a=modulo(GMT*3600,60);\n",
"printf('seconds %.2f',a);\n",
"b=modulo(GMT*3600-a,3600)/60;\n",
"printf('  minutes %i',b);\n",
"c=(GMT*3600-b*60-a)/3600;\n",
"printf('  hours %i',c);"
   ]
   }
,
{
		   "cell_type": "markdown",
		   "metadata": {},
		   "source": [
			"## Example 1.21_2: Local_mean_Time.sce"
		   ]
		  },
  {
"cell_type": "code",
	   "execution_count": null,
	   "metadata": {
	    "collapsed": true
	   },
	   "outputs": [],
"source": [
"\n",
"\n",
"//exapple 1.21.2\n",
"clc; funcprot(0);\n",
"// Initialization of Variable\n",
"LMT=4+32/60+10/3600;\n",
"longP=56+32/60;\n",
"dot=longP/15;\n",
"GMT=LMT-dot;\n",
"disp('greenwich mean time in past midnight:');\n",
"a=modulo(GMT*3600,60);\n",
"printf('seconds %.2f',a);\n",
"b=modulo(GMT*3600-a,3600)/60;\n",
"printf('  minutes %i',b);\n",
"c=(GMT*3600-b*60-a)/3600;\n",
"printf('  hours %i',c);"
   ]
   }
,
{
		   "cell_type": "markdown",
		   "metadata": {},
		   "source": [
			"## Example 1.2_1: astronomical_triangle.sce"
		   ]
		  },
  {
"cell_type": "code",
	   "execution_count": null,
	   "metadata": {
	    "collapsed": true
	   },
	   "outputs": [],
"source": [
"\n",
"\n",
"//exapple 1.2.1 \n",
"clc; funcprot(0);\n",
"// Initialization of Variable\n",
"pi=3.14159;\n",
"latA=28+42/60;//latitude of A\n",
"lonA=31*60+12;//longitude of A\n",
"latB=28+42/60;//latitude of B\n",
"lonB=47*60+24;//longitude of B\n",
"d=(lonB-lonA)*cos(latA/180*pi);\n",
"disp(d*1.852,'distance between A & B in (km):');"
   ]
   }
,
{
		   "cell_type": "markdown",
		   "metadata": {},
		   "source": [
			"## Example 1.22_1: GCT_to_LMT.sce"
		   ]
		  },
  {
"cell_type": "code",
	   "execution_count": null,
	   "metadata": {
	    "collapsed": true
	   },
	   "outputs": [],
"source": [
"\n",
"\n",
"//exapple 1.22.1\n",
"clc; funcprot(0);\n",
"// Initialization of Variable\n",
"GCT=18+40/60+12/3600;//greenwich civil time\n",
"longP=72+30/60;//longitude of the place\n",
"dot=longP/15;\n",
"LMT=GCT+dot;\n",
"disp('local mean time in past midnight:');\n",
"a=modulo(LMT*3600,60);\n",
"printf('seconds %.2f',a);\n",
"b=modulo(LMT*3600-a,3600)/60;\n",
"printf('  minutes %i',b);\n",
"c=(LMT*3600-b*60-a)/3600;\n",
"printf('  hours %i',c);"
   ]
   }
,
{
		   "cell_type": "markdown",
		   "metadata": {},
		   "source": [
			"## Example 1.22_2: GCT_to_LMT.sce"
		   ]
		  },
  {
"cell_type": "code",
	   "execution_count": null,
	   "metadata": {
	    "collapsed": true
	   },
	   "outputs": [],
"source": [
"\n",
"\n",
"//exapple 1.22.2\n",
"clc; funcprot(0);\n",
"// Initialization of Variable\n",
"GCT=18+40/60+12/3600;//greenwich civil time\n",
"longP=-73+30/60;//longitude of the place\n",
"dot=longP/15;\n",
"LMT=GCT+dot;\n",
"disp('local mean time in past midnight:');\n",
"a=modulo(LMT*3600,60);\n",
"printf('seconds %.2f',a);\n",
"b=modulo(LMT*3600-a,3600)/60;\n",
"printf('  minutes %i',b);\n",
"c=(LMT*3600-b*60-a)/3600;\n",
"printf('  hours %i',c);"
   ]
   }
,
{
		   "cell_type": "markdown",
		   "metadata": {},
		   "source": [
			"## Example 1.22_3: GCT_to_LMT.sce"
		   ]
		  },
  {
"cell_type": "code",
	   "execution_count": null,
	   "metadata": {
	    "collapsed": true
	   },
	   "outputs": [],
"source": [
"\n",
"\n",
"//exapple 1.22.3\n",
"clc; funcprot(0);\n",
"// Initialization of Variable\n",
"GCT=18+40/60+12/3600;//greenwich civil time\n",
"longP=102+30/60;//longitude of the place\n",
"dot=longP/15;\n",
"LMT=GCT+dot;\n",
"disp('local mean time in past midnight:');\n",
"a=modulo(LMT*3600,60);\n",
"printf('seconds %.2f',a);\n",
"b=modulo(LMT*3600-a,3600)/60;\n",
"printf('  minutes %i',b);\n",
"c=(LMT*3600-b*60-a)/3600;\n",
"if c>24 then\n",
"    c=c-24;\n",
"end\n",
"printf('  hours %i',c);\n",
"disp('date is changed by a day');\n",
"disp('date at the place is 3th July')"
   ]
   }
,
{
		   "cell_type": "markdown",
		   "metadata": {},
		   "source": [
			"## Example 1.2_2: astronomical_triangle.sce"
		   ]
		  },
  {
"cell_type": "code",
	   "execution_count": null,
	   "metadata": {
	    "collapsed": true
	   },
	   "outputs": [],
"source": [
"\n",
"\n",
"//exapple 1.2.2 \n",
"clc; funcprot(0);\n",
"// Initialization of Variable\n",
"pi=3.14259;\n",
"latA=12+36/60;//latitude of A\n",
"lonA=-115*60-6;//longitude of A\n",
"latB=12+36/60;//latitude of B\n",
"lonB=150*60+24;//longitude of B\n",
"d=(360*60-lonB+lonA)*cos(latA/180*pi);\n",
"disp(d*1.852,'distance between A & B in (km):');"
   ]
   }
,
{
		   "cell_type": "markdown",
		   "metadata": {},
		   "source": [
			"## Example 1.23: Actual_Time.sce"
		   ]
		  },
  {
"cell_type": "code",
	   "execution_count": null,
	   "metadata": {
	    "collapsed": true
	   },
	   "outputs": [],
"source": [
"\n",
"\n",
"//exapple 1.23\n",
"clc; funcprot(0);\n",
"// Initialization of Variable\n",
"LMT=10+20/60+30/3600;//local mean time\n",
"longP=102+30/60;//longitude of the place\n",
"dot=longP/15;\n",
"GMT=LMT-dot;\n",
"mGMN=12-GMT;//mean time interval\n",
"i=mGMN*0.32/3600;//increase in mGMN\n",
"ETGMN=5/60+4.35/3600;\n",
"ch=i+ETGMN;//change in GMT\n",
"GMT=ch+GMT;\n",
"LMT=GMT+dot;\n",
"disp('local mean time in past midnight observed:');\n",
"a=modulo(LMT*3600,60);\n",
"printf('seconds %.2f',a);\n",
"b=modulo(LMT*3600-a,3600)/60;\n",
"printf('  minutes %i',b);\n",
"c=(LMT*3600-b*60-a)/3600;\n",
"if c>24 then\n",
"    c=c-24;\n",
"end\n",
"printf('  hours %i',c);"
   ]
   }
,
{
		   "cell_type": "markdown",
		   "metadata": {},
		   "source": [
			"## Example 1.24: LMT.sce"
		   ]
		  },
  {
"cell_type": "code",
	   "execution_count": null,
	   "metadata": {
	    "collapsed": true
	   },
	   "outputs": [],
"source": [
"\n",
"\n",
"//exapple 1.24\n",
"clc; funcprot(0);\n",
"// Initialization of Variable\n",
"LMT=15+12/60+40/3600;//local mean time\n",
"longP=-20-30/60;//longitude of the place\n",
"dot=longP/15;\n",
"GMT=LMT-dot;\n",
"mGMN=GMT-12;//mean time interval\n",
"i=mGMN*0.22/3600;//increase in mGMN\n",
"ETGMN=5/60+10.65/3600;\n",
"ch=i+ETGMN;//change in GMT\n",
"GMT=ch+GMT;\n",
"LMT=GMT+dot;\n",
"disp('local mean time in past midnight observed:');\n",
"a=modulo(LMT*3600,60);\n",
"printf('seconds %.2f',a);\n",
"b=modulo(LMT*3600-a,3600)/60;\n",
"printf('  minutes %i',b);\n",
"c=(LMT*3600-b*60-a)/3600;\n",
"if c>24 then\n",
"    c=c-24;\n",
"end\n",
"printf('  hours %i',c);"
   ]
   }
,
{
		   "cell_type": "markdown",
		   "metadata": {},
		   "source": [
			"## Example 1.25: Local_time.sce"
		   ]
		  },
  {
"cell_type": "code",
	   "execution_count": null,
	   "metadata": {
	    "collapsed": true
	   },
	   "outputs": [],
"source": [
"\n",
"\n",
"//exapple 1.25\n",
"clc; funcprot(0);\n",
"// Initialization of Variable\n",
"time=4+20/60+30/3600;\n",
"accn=time*9.8565/3600;//acceleration\n",
"stime=time+accn;//sideral time\n",
"disp('local mean time in past midnight observed:');\n",
"a=modulo(stime*3600,60);\n",
"printf('seconds %.3f',a);\n",
"b=modulo(stime*3600-a,3600)/60;\n",
"printf('  minutes %i',b);\n",
"c=(stime*3600-b*60-a)/3600;\n",
"if c>24 then\n",
"    c=c-24;\n",
"end\n",
"printf('  hours %i',c);"
   ]
   }
,
{
		   "cell_type": "markdown",
		   "metadata": {},
		   "source": [
			"## Example 1.26: Local_time.sce"
		   ]
		  },
  {
"cell_type": "code",
	   "execution_count": null,
	   "metadata": {
	    "collapsed": true
	   },
	   "outputs": [],
"source": [
"\n",
"\n",
"//exapple 1.26\n",
"clc; funcprot(0);\n",
"// Initialization of Variable\n",
"time=8+40/60+50/3600;\n",
"accn=-time*9.8565/3600;//acceleration\n",
"stime=time+accn;//sideral time\n",
"disp('local mean time in past midnight observed:');\n",
"a=modulo(stime*3600,60);\n",
"printf('seconds %.3f',a);\n",
"b=modulo(stime*3600-a,3600)/60;\n",
"printf('  minutes %i',b);\n",
"c=(stime*3600-b*60-a)/3600;\n",
"if c>24 then\n",
"    c=c-24;\n",
"end\n",
"printf('  hours %i',c);"
   ]
   }
,
{
		   "cell_type": "markdown",
		   "metadata": {},
		   "source": [
			"## Example 1.27_1: GST_of_GMN.sce"
		   ]
		  },
  {
"cell_type": "code",
	   "execution_count": null,
	   "metadata": {
	    "collapsed": true
	   },
	   "outputs": [],
"source": [
"\n",
"\n",
"//exapple 1.27.1\n",
"clc; funcprot(0);\n",
"// Initialization of Variable\n",
"longP=-160-30/60-30/3600;//longitude of place\n",
"GST=16+30/60+12/3600;//standard time\n",
"dot=longP/15;//difference in time\n",
"i=dot*9.8565/3600;//error\n",
"LST=GST-i;\n",
"disp('local mean time in past midnight observed:');\n",
"a=modulo(LST*3600,60);\n",
"printf('seconds %.2f',a);\n",
"b=modulo(LST*3600-a,3600)/60;\n",
"printf('  minutes %i',b);\n",
"c=(LST*3600-b*60-a)/3600;\n",
"if c>24 then\n",
"    c=c-24;\n",
"end\n",
"printf('  hours %i',c);\n",
""
   ]
   }
,
{
		   "cell_type": "markdown",
		   "metadata": {},
		   "source": [
			"## Example 1.27_2: GST_at_GMM.sce"
		   ]
		  },
  {
"cell_type": "code",
	   "execution_count": null,
	   "metadata": {
	    "collapsed": true
	   },
	   "outputs": [],
"source": [
"\n",
"\n",
"//exapple 1.27.2\n",
"clc; funcprot(0);\n",
"// Initialization of Variable\n",
"longP=160+30/60+30/3600;//longitude of place\n",
"GST=16+30/60+12/3600;//standard time\n",
"dot=longP/15;//difference in time\n",
"i=dot*9.8565/3600;//error\n",
"LST=GST-i;\n",
"disp('local mean time in past midnight observed:');\n",
"a=modulo(LST*3600,60);\n",
"printf('seconds %.2f',a);\n",
"b=modulo(LST*3600-a,3600)/60;\n",
"printf('  minutes %i',b);\n",
"c=(LST*3600-b*60-a)/3600;\n",
"if c>24 then\n",
"    c=c-24;\n",
"end\n",
"printf('  hours %i',c);"
   ]
   }
,
{
		   "cell_type": "markdown",
		   "metadata": {},
		   "source": [
			"## Example 1.28: LST_at_LMT.sce"
		   ]
		  },
  {
"cell_type": "code",
	   "execution_count": null,
	   "metadata": {
	    "collapsed": true
	   },
	   "outputs": [],
"source": [
"\n",
"\n",
"//exapple 1.28\n",
"clc; funcprot(0);\n",
"// Initialization of Variable\n",
"longP=85+20/60;//longitude of place\n",
"GST=6+30/60;//standard time\n",
"GMN=6+32/60+12/3600;\n",
"dot=longP/15;//difference in time\n",
"i=dot*9.8565/3600;//error\n",
"LST=GMN-i;//LST at L.M.N\n",
"i2=GST*9.8565/3600;//error in GST\n",
"LST2=GST+i2;\n",
"LST=LST+LST2//lst at L.M.N\n",
"disp('local mean time in past midnight observed:');\n",
"a=modulo(LST*3600,60);\n",
"printf('seconds %.2f',a);\n",
"b=modulo(LST*3600-a,3600)/60;\n",
"printf('  minutes %i',b);\n",
"c=(LST*3600-b*60-a)/3600;\n",
"if c>24 then\n",
"    c=c-24;\n",
"end\n",
"printf('  hours %i',c);"
   ]
   }
,
{
		   "cell_type": "markdown",
		   "metadata": {},
		   "source": [
			"## Example 1.29: LST_and_LMT.sce"
		   ]
		  },
  {
"cell_type": "code",
	   "execution_count": null,
	   "metadata": {
	    "collapsed": true
	   },
	   "outputs": [],
"source": [
"\n",
"\n",
"//exapple 1.29\n",
"clc; funcprot(0);\n",
"// Initialization of Variable\n",
"longP=112+20/60+15/3600;//longitude of place\n",
"GST=8+10/60+28/3600;//GST at GMM\n",
"lst=18+28/60+12/3600;//local sidereal time\n",
"dot=longP/15;//difference in time\n",
"i=dot*9.8565/3600;//error\n",
"LST=GST+i;//LST at L.M.N\n",
"LMM=lst-LST;\n",
"i2=LMM*9.8565/3600;//error in LMM\n",
"LMT=LMM-i2;//local mean time\n",
"\n",
"disp('local mean time in past midnight observed:');\n",
"a=modulo(LMT*3600,60);\n",
"printf('seconds %.2f',a);\n",
"b=modulo(LMT*3600-a,3600)/60;\n",
"printf('  minutes %i',b);\n",
"c=(LMT*3600-b*60-a)/3600;\n",
"if c>24 then\n",
"    c=c-24;\n",
"end\n",
"printf('  hours %i',c);"
   ]
   }
,
{
		   "cell_type": "markdown",
		   "metadata": {},
		   "source": [
			"## Example 1.30: LST_at_LMT.sce"
		   ]
		  },
  {
"cell_type": "code",
	   "execution_count": null,
	   "metadata": {
	    "collapsed": true
	   },
	   "outputs": [],
"source": [
"\n",
"\n",
"//exapple 1.30\n",
"clc; funcprot(0);\n",
"// Initialization of Variable\n",
"longP=85+20/60;//longitude of place\n",
"GST=18+30/60;//standard time\n",
"gst=6+32/60+12/3600;//GST at GMN\n",
"dot=longP/15;//difference in time\n",
"GMT=GST-dot-12;\n",
"i=GMT*9.8565/3600;//error\n",
"GMT=GMT+i;//SI time\n",
"LST=GMT+dot+gst;//LST at LMT\n",
"disp('local standard time in past midnight observed:');\n",
"a=modulo(LST*3600,60);\n",
"printf('seconds %.2f',a);\n",
"b=modulo(LST*3600-a,3600)/60;\n",
"printf('  minutes %i',b);\n",
"c=(LST*3600-b*60-a)/3600;\n",
"if c>24 then\n",
"    c=c-24;\n",
"end\n",
"printf('  hours %i',c);"
   ]
   }
,
{
		   "cell_type": "markdown",
		   "metadata": {},
		   "source": [
			"## Example 1.31: LST_and_LMT.sce"
		   ]
		  },
  {
"cell_type": "code",
	   "execution_count": null,
	   "metadata": {
	    "collapsed": true
	   },
	   "outputs": [],
"source": [
"\n",
"\n",
"//exapple 1.31\n",
"clc; funcprot(0);\n",
"// Initialization of Variable\n",
"longP=112+20/60+15/3600;//longitude of place\n",
"GST=8+10/60+28/3600;//GST at GMM\n",
"lst=18+28/60+12/3600;//local sidereal time\n",
"dot=longP/15;//difference in time\n",
"gmm=lst+dot-GST;//SI at GMM\n",
"\n",
"i=gmm*9.8565/3600;//error\n",
"gmm=gmm-i;//LST at L.M.N\n",
"LMT=gmm-dot;//local mean time\n",
"disp('local mean time in past midnight observed:');\n",
"a=modulo(LMT*3600,60);\n",
"printf('seconds %.2f',a);\n",
"b=modulo(LMT*3600-a,3600)/60;\n",
"printf('  minutes %i',b);\n",
"c=(LMT*3600-b*60-a)/3600;\n",
"if c>24 then\n",
"    c=c-24;\n",
"end\n",
"printf('  hours %i',c);"
   ]
   }
,
{
		   "cell_type": "markdown",
		   "metadata": {},
		   "source": [
			"## Example 1.32: LST_and_LMT.sce"
		   ]
		  },
  {
"cell_type": "code",
	   "execution_count": null,
	   "metadata": {
	    "collapsed": true
	   },
	   "outputs": [],
"source": [
"\n",
"\n",
"\n",
"\n",
"//exapple 1.32\n",
"clc; funcprot(0);\n",
"// Initialization of Variable\n",
"//part1\n",
"longP=162+30/60+15/3600;//longitude of place\n",
"GST=10+30/60+15/3600;//GST at GMN\n",
"RA=22+11/60+30/3600;//local sidereal time\n",
"dot=longP/15;//difference in time\n",
"i=dot*9.8565/3600;//error\n",
"gmm=GST+i;//LST at L.M.N\n",
"lmn=RA-gmm;//SI of LMN\n",
"i2=lmn*9.8565/3600;//error 2\n",
"LMT=lmn-i2;\n",
"disp('local mean time in past midnight observed at upper transit:');\n",
"a=modulo(LMT*3600,60);\n",
"printf('seconds %.2f',a);\n",
"b=modulo(LMT*3600-a,3600)/60;\n",
"printf('  minutes %i',b);\n",
"c=(LMT*3600-b*60-a)/3600;\n",
"if c>24 then\n",
"    c=c-24;\n",
"end\n",
"printf('  hours %i',c);\n",
"//part2\n",
"i3=12*9.8565/3600;//ratardation\n",
"LMT=LMT+12-i3;\n",
"disp('local mean time in past midnight observed at lower transit:');\n",
"a=modulo(LMT*3600,60);\n",
"printf('seconds %.2f',a);\n",
"b=modulo(LMT*3600-a,3600)/60;\n",
"printf('  minutes %i',b);\n",
"c=(LMT*3600-b*60-a)/3600;\n",
"if c>24 then\n",
"    c=c-24;\n",
"end\n",
"printf('  hours %i',c);\n",
"disp('its the time of next day')"
   ]
   }
,
{
		   "cell_type": "markdown",
		   "metadata": {},
		   "source": [
			"## Example 1.33: LST_and_LMT.sce"
		   ]
		  },
  {
"cell_type": "code",
	   "execution_count": null,
	   "metadata": {
	    "collapsed": true
	   },
	   "outputs": [],
"source": [
"\n",
"\n",
"\n",
"\n",
"//exapple 1.33\n",
"clc; funcprot(0);\n",
"// Initialization of Variable\n",
"longP=60+30/60;//longitude of place\n",
"GST=7+30/60+48.6/3600;//GST at GMM\n",
"RA=17+28/60/40/1600;\n",
"dot=longP/15;//difference in time\n",
"i=dot*9.8565/3600;//error\n",
"gmm=GST-i;//LST at L.M.N\n",
"LMT=RA-gmm;//local mean time\n",
"disp('local mean time in past midnight observed:');\n",
"a=modulo(LMT*3600,60);\n",
"printf('seconds %.2f',a);\n",
"b=modulo(LMT*3600-a,3600)/60;\n",
"printf('  minutes %i',b);\n",
"c=(LMT*3600-b*60-a)/3600;\n",
"if c>24 then\n",
"    c=c-24;\n",
"end\n",
"printf('  hours %i',c);"
   ]
   }
,
{
		   "cell_type": "markdown",
		   "metadata": {},
		   "source": [
			"## Example 1.3: astronomical_triangle.sce"
		   ]
		  },
  {
"cell_type": "code",
	   "execution_count": null,
	   "metadata": {
	    "collapsed": true
	   },
	   "outputs": [],
"source": [
"\n",
"\n",
"//exapple 1.3 \n",
"clc; funcprot(0);\n",
"// Initialization of Variable\n",
"pi=3.14159\n",
"latA=15;\n",
"latB=12+6/60;\n",
"lonA=50+12/60;\n",
"lonB=54;\n",
"Re=6370;//radius of earth\n",
"b=(90-latA)*pi/180;;\n",
"a=(90-latB)*pi/180;\n",
"P=(lonB-lonA)*pi/180;\n",
"p=acos(cos(P)*sin(a)*sin(b)+cos(a)*cos(b));//speherical triangle law\n",
"disp(p*Re,'distance from A to B in (km):');\n",
"x=atan(cos(a/2-b/2)/cos(a/2+b/2)*tan(pi/2-P/2));//x=A/2+B/2 //speherical triangle law\n",
"y=atan(sin(a/2-b/2)/sin(a/2+b/2)*tan(pi/2-P/2));//x=A/2-B/2 //speherical triangle law\n",
"dol=pi-x-y;\n",
"disp('direction of B from A  towards east of south:');\n",
"a=modulo(dol*3600,60);\n",
"printf('seconds %.2f',a);\n",
"b=modulo(dol*3600-a,3600)/60;\n",
"printf('  minutes %i',b);\n",
"c=(dol*3600-b*60-a)/3600;\n",
"printf('  degrees %i',c);"
   ]
   }
,
{
		   "cell_type": "markdown",
		   "metadata": {},
		   "source": [
			"## Example 1.42: horizontal_angle.sce"
		   ]
		  },
  {
"cell_type": "code",
	   "execution_count": null,
	   "metadata": {
	    "collapsed": true
	   },
	   "outputs": [],
"source": [
"\n",
"\n",
"//exapple 1.42\n",
"clc; funcprot(0);\n",
"// Initialization of Variable\n",
"aziA=32+41/60+30/3600;//azimuth of A\n",
"aziB=110+28/60+42/3600;//azimuth of B\n",
"vaA=10+21/60+12/3600;//vertical angle of A\n",
"vaB=-2-18/60-30/3600;//verticsl angle of B\n",
"lA1=11;\n",
"lB1=11.5;\n",
"rA1=7.5;\n",
"rB1=7;\n",
"lB2=10;\n",
"lA2=10.5;\n",
"rB2=7.5;\n",
"rA2=8;\n",
"d=20;\n",
"//partA\n",
"sigl=lA1+lA2;\n",
"sigr=rA1+rA2;\n",
"b=sigl/4*d-sigr/4*d;\n",
"i=tan(vaA);\n",
"caziA=aziA+i*29.95/3600;\n",
"disp(caziA,'corrected azimuth of A in (degrees):');\n",
"//partB\n",
"\n",
"i=tan(vaB);\n",
"caziB=aziB+i*b/3600;\n",
"disp(caziB,'corrected azimuth of B in (degrees):');\n",
"ha=caziB-caziA;\n",
"disp(ha,'horizontal difference of angle between A & B in (degrees):')"
   ]
   }
,
{
		   "cell_type": "markdown",
		   "metadata": {},
		   "source": [
			"## Example 1.43: index_error_in_theodolite.sce"
		   ]
		  },
  {
"cell_type": "code",
	   "execution_count": null,
	   "metadata": {
	    "collapsed": true
	   },
	   "outputs": [],
"source": [
"\n",
"\n",
"//exapple 1.43\n",
"clc; funcprot(0);\n",
"// Initialization of Variable\n",
"v1=18+36/60+48/3600;//vertical angle 1\n",
"v2=18+35/60+56/3600;//vertical angle 2\n",
"slm=28+36/60+20/3600;//altitude of sun measured\n",
"ds=15/60+59.35/3600;//dia of sun\n",
"pi=3.14159;\n",
"mv=(v1+v2)/2;//mean vertical angle\n",
"i=v1-v2;//error\n",
"sl=slm+i;//new altitude of sun\n",
"//part2\n",
"sl=sl+ds;\n",
"//part3\n",
"ir=-57/3600/(tan(slm*pi/180+26*pi/180/3600));//error due to refraction\n",
"sl=sl+ir;\n",
"//part4\n",
"ip=8.8/3600*cos(slm*pi/180+26*pi/180/3600);//error due to parallax\n",
"sl=sl+ip;\n",
"disp('correct altitude of sun')\n",
"a=modulo(sl*3600,60);\n",
"printf('seconds %.2f',a);\n",
"b=modulo(sl*3600-a,3600)/60;\n",
"printf('  minutes %i',b);\n",
"c=(sl*3600-b*60-a)/3600;\n",
"printf('  degrees %i',c);"
   ]
   }
,
{
		   "cell_type": "markdown",
		   "metadata": {},
		   "source": [
			"## Example 1.44: chronometer_error.sce"
		   ]
		  },
  {
"cell_type": "code",
	   "execution_count": null,
	   "metadata": {
	    "collapsed": true
	   },
	   "outputs": [],
"source": [
"\n",
"\n",
"//exapple 1.44\n",
"clc; funcprot(0);\n",
"// Initialization of Variable\n",
"long=4+30/60;\n",
"i=long*9.8565/3600;//longitude\n",
"gst=14+38/60+12/3600;//GST on GMM\n",
"lst=gst-i;//LST on LMM\n",
"RA=7+36/60+21.24/3600;\n",
"LST=RA;\n",
"SI=LST-lst+24;\n",
"LCT=17+56/60+8.86/3600-1;//local chronometer time\n",
"i2=SI*9.8296/3600;\n",
"LMM=SI-i2;\n",
"ce=LCT-LMM;\n",
"disp(ce*3600,'chronometer error in (s):')"
   ]
   }
,
{
		   "cell_type": "markdown",
		   "metadata": {},
		   "source": [
			"## Example 1.45: chronometer_error.sce"
		   ]
		  },
  {
"cell_type": "code",
	   "execution_count": null,
	   "metadata": {
	    "collapsed": true
	   },
	   "outputs": [],
"source": [
"\n",
"\n",
"//exapple 1.45\n",
"clc; funcprot(0);\n",
"// Initialization of Variable\n",
"c=90-36-30/60-30/3600;//co latitude\n",
"p=90-16-12/60-18.4/3600;//co declination\n",
"z=90-30-12/60-30/3600;//co altitude\n",
"s=(p+z+c)/2;\n",
"pi=3.14159;\n",
"s1=s-c;\n",
"s2=s-p;\n",
"s3=s-z;\n",
"H=2*atan(sqrt(sin(s1*pi/180)*sin(s2*pi/180)/sin(s*pi/180)/sin(s3*pi/180)));\n",
"H=H*180/pi;\n",
"H=24-H/15;\n",
"LST=H+5+18/60+12.45/3600-24;\n",
"ce=1+2/60+5.25/3600-LST;\n",
"disp(ce*3600+2,'chronometer error in (s):')"
   ]
   }
,
{
		   "cell_type": "markdown",
		   "metadata": {},
		   "source": [
			"## Example 1.46: chronometer_error.sce"
		   ]
		  },
  {
"cell_type": "code",
	   "execution_count": null,
	   "metadata": {
	    "collapsed": true
	   },
	   "outputs": [],
"source": [
"\n",
"\n",
"//exapple 1.46\n",
"clc; funcprot(0);\n",
"// Initialization of Variable\n",
"c=90-36-40/60-30/3600;//co latitude\n",
"p=90-17-26/60-42.1/3600;//co declination\n",
"z=90-36-14/60-16.8/3600;//co altitude\n",
"pi=3.14159;\n",
"s=(p+z+c)/2;\n",
"s1=s-c;\n",
"s2=s-p;\n",
"s3=s-z;\n",
"H=2*atan(sqrt(sin(s1*pi/180)*sin(s2*pi/180)/sin(s*pi/180)/sin(s3*pi/180)));\n",
"H=H*180/pi;\n",
"H=H/15;\n",
"i=12-11-56/60-22.8/3600;//error in time\n",
"LAT=15+49/60+40.6/3600;//local actual time\n",
"GAT=LAT-H;\n",
"GMT=GAT-i;\n",
"LMT=GMT+H;\n",
"ce=15+49/60+12.6/3600-LMT;\n",
"disp(ce*3600,'chronometer error in (s):')\n",
""
   ]
   }
,
{
		   "cell_type": "markdown",
		   "metadata": {},
		   "source": [
			"## Example 1.47: chronometer_error.sce"
		   ]
		  },
  {
"cell_type": "code",
	   "execution_count": null,
	   "metadata": {
	    "collapsed": true
	   },
	   "outputs": [],
"source": [
"\n",
"\n",
"//exapple 1.47\n",
"clc; funcprot(0);\n",
"// Initialization of Variable\n",
"RA=17+12/60+48/3600;\n",
"gst=9+26/60+12/3600;//GST on GMN\n",
"long=138/15+45/15/60;//longitude\n",
"lst=-long*9.85645/3600+9+26/60+12/3600;//LST on LMN\n",
"LST=17+12/60+48/3600;//local sidereal time\n",
"SI=LST-lst;\n",
"MI=-SI*9.8296/3600+SI;\n",
"LCT=7+47/60+02/3600;//local chronometer time\n",
"ce=LCT-MI;\n",
"disp(ce*3600,'chronometer error in (s):')"
   ]
   }
,
{
		   "cell_type": "markdown",
		   "metadata": {},
		   "source": [
			"## Example 1.48: Azimuth_and_LMT.sce"
		   ]
		  },
  {
"cell_type": "code",
	   "execution_count": null,
	   "metadata": {
	    "collapsed": true
	   },
	   "outputs": [],
"source": [
"\n",
"\n",
"//exapple 1.48\n",
"clc; funcprot(0);\n",
"// Initialization of Variable\n",
"//part1\n",
"theta=54+30/60;//logitude\n",
"delta=62+12/60+21/3600;//declination\n",
"pi=3.14;\n",
"lat=asin(sin(theta*pi/180)/sin(delta*pi/180));\n",
"lat=lat*180/pi;\n",
"disp('latitude of star observed:');\n",
"a=modulo(lat*3600,60);\n",
"printf('seconds %.2f',a);\n",
"b=modulo(lat*3600-a,3600)/60;\n",
"printf('  minutes %i',b);\n",
"c=(lat*3600-b*60-a)/3600;\n",
"printf('  degrees %i',c);\n",
"//part2\n",
"A=53+25/60;//azimuth of star\n",
"h=65+18/60+42/3600;//horizontal angle\n",
"A=A+h;\n",
"disp('azimuth of line AP is:');\n",
"a=modulo(A*3600,60);\n",
"printf('seconds %.2f',a);\n",
"b=modulo(A*3600-a,3600)/60;\n",
"printf('  minutes %i',b);\n",
"c=(A*3600-b*60-a)/3600;\n",
"printf('  degrees %i',c);\n",
"//part3\n",
"lst=4+39/60+6.5/3600;//LST of LMN\n",
"LST=10+58/60+38/3600+2+49/60+25.3/3600;//LST of observation\n",
"LMN=LST-lst;\n",
"i=LMN*9.8565/3600;//error\n",
"LMT=LMN-i;\n",
"disp('local mean time is:')\n",
"a=modulo(LMT*3600,60);\n",
"printf('seconds %.2f',a);\n",
"b=modulo(LMT*3600-a,3600)/60;\n",
"printf('  minutes %i',b);\n",
"c=(LMT*3600-b*60-a)/3600;\n",
"printf('  hours %i',c);"
   ]
   }
,
{
		   "cell_type": "markdown",
		   "metadata": {},
		   "source": [
			"## Example 1.49: Azimuth_and_LMT.sce"
		   ]
		  },
  {
"cell_type": "code",
	   "execution_count": null,
	   "metadata": {
	    "collapsed": true
	   },
	   "outputs": [],
"source": [
"\n",
"\n",
"//exapple 1.49\n",
"clc; funcprot(0);\n",
"// Initialization of Variable\n",
"//part1\n",
"theta=53+32/60;//logitude\n",
"delta=56+42/60+53.2/3600;//declination\n",
"pi=3.14159;\n",
"lat=asin(sin(theta*pi/180)/sin(delta*pi/180));\n",
"lat=lat*180/pi;\n",
"disp('altitude of star observed:');\n",
"a=modulo(lat*3600,60);\n",
"printf('seconds %.2f',a);\n",
"b=modulo(lat*3600-a,3600)/60;\n",
"printf('  minutes %i',b);\n",
"c=(lat*3600-b*60-a)/3600;\n",
"printf('  degrees %i',c);\n",
"//part2\n",
"As=asin(cos(delta*pi/180)/cos(theta*pi/180));//azimuth of star\n",
"h=75+18/60+20/3600;//angle between line and star\n",
"A=h-As*180/pi;\n",
"A=360-A;\n",
"disp('azimuth of line AP is:');\n",
"a=modulo(A*3600,60);\n",
"printf('seconds %.2f',a);\n",
"b=modulo(A*3600-a,3600)/60;\n",
"printf('  minutes %i',b);\n",
"c=(A*3600-b*60-a)/3600;\n",
"printf('  degrees %i',c);\n",
"//part3\n",
"LST=10+58/60+3.9/3600+22+10/60+38.5/3600-24;//LST of observation\n",
"long=5+40/60+18/3600;//longitude\n",
"i=long*9.8565/3600;//error\n",
"lst=4+58/60+23.84/3600+i;//LST on LMN\n",
"LMM=LST-lst;\n",
"i2=LMM*9.8565/3600;//error in LMM\n",
"LMT=LMM-i2;\n",
"disp('local mean time interval is:')\n",
"a=modulo(LMT*3600,60);\n",
"printf('seconds %.2f',a);\n",
"b=modulo(LMT*3600-a,3600)/60;\n",
"printf('  minutes %i',b);\n",
"c=(LMT*3600-b*60-a)/3600;\n",
"printf('  hours %i',c);\n",
""
   ]
   }
,
{
		   "cell_type": "markdown",
		   "metadata": {},
		   "source": [
			"## Example 1.4: astronomical_triangle.sce"
		   ]
		  },
  {
"cell_type": "code",
	   "execution_count": null,
	   "metadata": {
	    "collapsed": true
	   },
	   "outputs": [],
"source": [
"\n",
"\n",
"//exapple 1.4 \n",
"clc; funcprot(0);\n",
"// Initialization of Variable\n",
"pi=3.14159;\n",
"latA=45;\n",
"p=(300/60)*pi/180;//side AB\n",
"b=(90-latA)*pi/180;//side PA\n",
"//calculation\n",
"a=acos(cos(p)*cos(b));//side BP\n",
"BC=a*180/pi-latA;\n",
"d=BC*1.852*60;\n",
"disp(d,'disatance of BC in (km):')"
   ]
   }
,
{
		   "cell_type": "markdown",
		   "metadata": {},
		   "source": [
			"## Example 1.50: Azimuth_of_star.sce"
		   ]
		  },
  {
"cell_type": "code",
	   "execution_count": null,
	   "metadata": {
	    "collapsed": true
	   },
	   "outputs": [],
"source": [
"\n",
"\n",
"//exapple 1.50\n",
"clc; funcprot(0);\n",
"// Initialization of Variable\n",
"pi=3.14159;\n",
"long=(15+30/60)/15;//longitude\n",
"GMT=19+12/60+36.2/3600;\n",
"i=long*9.8565/3600;//error in longitude\n",
"LMT=GMT+long;\n",
"i2=LMT*9.8565/3600;//error in LMT\n",
"LMT=LMT+i2;\n",
"LST=10+12/60+21.4/3600+LMT;\n",
"H=LST-10-12/60-6.3/3600;//hour angle\n",
"H=H*15;\n",
"H=360-H;\n",
"As=atan(tan((55+29/60+1.2/3600)*pi/180)*cos((32+52/60+27/3600)*pi/180)/sin((-2-7/60-33/3600)*pi/180));\n",
"h=36+28/60+18/3600;//angle between line and star\n",
"A=180+As*180/pi-h;\n",
"disp('azimuth of star is:');\n",
"a=modulo(A*3600,60);\n",
"printf('seconds %.2f',a);\n",
"b=modulo(A*3600-a,3600)/60;\n",
"printf('  minutes %i',b);\n",
"c=(A*3600-b*60-a)/3600;\n",
"printf('  degrees %i',c);\n",
"clear"
   ]
   }
,
{
		   "cell_type": "markdown",
		   "metadata": {},
		   "source": [
			"## Example 1.51: Azimuth_of_line.sce"
		   ]
		  },
  {
"cell_type": "code",
	   "execution_count": null,
	   "metadata": {
	    "collapsed": true
	   },
	   "outputs": [],
"source": [
"\n",
"\n",
"//exapple 1.51\n",
"clc; funcprot(0);\n",
"// Initialization of Variable\n",
"pi=3.14159;\n",
"alpha=33+35/60+10/3600;//altitude\n",
"ZM=90-alpha;\n",
"delta=22+05/60+35/3600;//declination\n",
"PM=90-delta;\n",
"theta=52+30/60+20/3600;//latitude\n",
"ZP=90-theta;\n",
"As=acos((cos(PM*pi/180)-cos(ZP*pi/180)*cos(ZM*pi/180))/(sin(ZP*pi/180)*sin(ZM*pi/180)));\n",
"h=18+20/60+30/3600;//angle between line and star\n",
"A=As*180/pi+h;\n",
"disp('azimuth of star is:');\n",
"a=modulo(A*3600,60);\n",
"printf('seconds %.2f',a);\n",
"b=modulo(A*3600-a,3600)/60;\n",
"printf('  minutes %i',b);\n",
"c=(A*3600-b*60-a)/3600;\n",
"printf('  degrees %i',c);\n",
"clear"
   ]
   }
,
{
		   "cell_type": "markdown",
		   "metadata": {},
		   "source": [
			"## Example 1.52: Azimuth_of_su.sce"
		   ]
		  },
  {
"cell_type": "code",
	   "execution_count": null,
	   "metadata": {
	    "collapsed": true
	   },
	   "outputs": [],
"source": [
"\n",
"\n",
"//exapple 1.52\n",
"clc; funcprot(0);\n",
"// Initialization of Variable\n",
"//part1\n",
"GAT=5+17/60+6/60;//GAT of observation\n",
"delta=17+46/60+52/3600;//declination\n",
"i=37/3600*GAT;\n",
"delta=delta-i;\n",
"disp('declination of GAT is:');\n",
"a=modulo(delta*3600,60);\n",
"printf('seconds %.2f',a);\n",
"b=modulo(delta*3600-a,3600)/60;\n",
"printf('  minutes %i',b);\n",
"c=(delta*3600-b*60-a)/3600;\n",
"printf('  degrees %i',c);\n",
"//part2\n",
"pi=3.14159;\n",
"p=90-delta;//co-declination\n",
"altitude=23+15/60+20/3600;//altitude of sun\n",
"i2=2/60+12/3600;//error due to refraction\n",
"i3=8/3600;//error due to parallax\n",
"altitude=altitude-i2+i3;\n",
"c=90-55-46/60-12/3600;//colatitude\n",
"z=90-altitude;//co altitude\n",
"s=(p+z+c)/2;\n",
"s1=s-c;\n",
"s2=s-p;\n",
"s3=s-z;\n",
"A=2*atan(sqrt(sin(s3*pi/180)*sin(s1*pi/180)/sin(s*pi/180)/sin(s2*pi/180)));\n",
"A=A*180/pi;\n",
"disp('azimuth of star is:');\n",
"a=modulo(A*3600,60);\n",
"printf('seconds %.2f',a);\n",
"b=modulo(A*3600-a,3600)/60;\n",
"printf('  minutes %i',b);\n",
"c=(A*3600-b*60-a)/3600;\n",
"printf('  degrees %i',c);\n",
"clear"
   ]
   }
,
{
		   "cell_type": "markdown",
		   "metadata": {},
		   "source": [
			"## Example 1.53: azimuth_angle.sce"
		   ]
		  },
  {
"cell_type": "code",
	   "execution_count": null,
	   "metadata": {
	    "collapsed": true
	   },
	   "outputs": [],
"source": [
"\n",
"\n",
"//exapple 1.53\n",
"clc; funcprot(0);\n",
"// Initialization of Variable\n",
"pi=3.14159;\n",
"GMT=17+5/60+2/3600;//\n",
"i=9.8565/3600*GMT;\n",
"GST=3+12/60+12/3600;\n",
"wl=1+18/60;//west longitude\n",
"RA=16+23/60+30/3600;\n",
"H=GMT+i+GST+wl-RA;//hour angle\n",
"H=H*15;\n",
"p=90-29-52/60;\n",
"c=90-52-8/60;\n",
"z=acos(cos(H*pi/180)*sin(p*pi/180)*sin(c*pi/180)+cos(p*pi/180)*cos(c*pi/180));\n",
"A=asin(sin(p*pi/180)*sin(H*pi/180)/sin(z));\n",
"A=A*180/pi;\n",
"disp('azimuth of star is:');\n",
"a=modulo(A*3600,60);\n",
"printf('seconds %.2f',a);\n",
"b=modulo(A*3600-a,3600)/60;\n",
"printf('  minutes %i',b);\n",
"c=(A*3600-b*60-a)/3600;\n",
"printf('  degrees %i',c);\n",
"clear"
   ]
   }
,
{
		   "cell_type": "markdown",
		   "metadata": {},
		   "source": [
			"## Example 1.54: azimuth_angle.sce"
		   ]
		  },
  {
"cell_type": "code",
	   "execution_count": null,
	   "metadata": {
	    "collapsed": true
	   },
	   "outputs": [],
"source": [
"\n",
"\n",
"//exapple 1.54\n",
"clc; funcprot(0);\n",
"// Initialization of Variable\n",
"pi=3.14159;\n",
"a1=24+30/60+20/3600;\n",
"a2=24+30/60+40/3600;\n",
"a3=25;\n",
"a4=25+1/60;\n",
"lat=(a1+a2+a3+a4)/4;\n",
"il=(10.6-9.4)/4*15/3600;//error due to level\n",
"lat=lat+il;\n",
"ir=-57/3600/tan((lat*pi/180));//carrection of refraction\n",
"ip=8/3600*cos(lat*pi/180);//correction of parallax\n",
"lat=lat-ir+ip;\n",
"z=90-lat;\n",
"delta=1+32/60+16.8/3600-56.2/3600*(3/60+1.86/3600);\n",
"p=90-delta;\n",
"c=90-36-48/60-30/3600;\n",
"s=(p+z+c)/2;\n",
"s1=s-c;\n",
"s2=s-p;\n",
"s3=s-z;\n",
"A=2*atan(sqrt(sin(s3*pi/180)*sin(s1*pi/180)/sin(s*pi/180)/sin(s2*pi/180)));\n",
"A=A*180/pi;\n",
"\n",
"A=A+81+59/60+10/3600;\n",
"A=360-A;\n",
"disp('azimuth of star is:');\n",
"a=modulo(A*3600,60);\n",
"printf('seconds %.2f',a);\n",
"b=modulo(A*3600-a,3600)/60;\n",
"printf('  minutes %i',b);\n",
"c=(A*3600-b*60-a)/3600;\n",
"printf('  degrees %i',c);\n",
"clear"
   ]
   }
,
{
		   "cell_type": "markdown",
		   "metadata": {},
		   "source": [
			"## Example 1.55: latitude.sce"
		   ]
		  },
  {
"cell_type": "code",
	   "execution_count": null,
	   "metadata": {
	    "collapsed": true
	   },
	   "outputs": [],
"source": [
"\n",
"\n",
"//exapple 1.55\n",
"clc; funcprot(0);\n",
"// Initialization of Variable\n",
"alpha=65+40/60+18/3600;//altitude\n",
"delta=53+12/60+10/3600;//declination\n",
"pi=3.1415;\n",
"i=57/3600*1/tan(alpha*pi/180);//error\n",
"alpha=alpha-i;\n",
"z=90-alpha;//zenith distance\n",
"lat=delta-z;\n",
"disp('latitude of star observed:');\n",
"a=modulo(lat*3600,60);\n",
"printf('seconds %.2f',a);\n",
"b=modulo(lat*3600-a,3600)/60;\n",
"printf('  minutes %i',b);\n",
"c=(lat*3600-b*60-a)/3600;\n",
"printf('  degrees %i',c);\n",
"clear"
   ]
   }
,
{
		   "cell_type": "markdown",
		   "metadata": {},
		   "source": [
			"## Example 1.56: latitude.sce"
		   ]
		  },
  {
"cell_type": "code",
	   "execution_count": null,
	   "metadata": {
	    "collapsed": true
	   },
	   "outputs": [],
"source": [
"\n",
"\n",
"//exapple 1.56\n",
"clc; funcprot(0);\n",
"// Initialization of Variable\n",
"alpha=64+36/60+20/3600;//altitude\n",
"delta=26+12/60+10/3600;//declination\n",
"pi=3.1415;\n",
"i=57/3600*1/tan(alpha*pi/180);//error\n",
"alpha=alpha-i;\n",
"z=90-alpha;//zenith distance\n",
"lat=delta+z;\n",
"disp('latitude of star observed:');\n",
"a=modulo(lat*3600,60);\n",
"printf('seconds %.2f',a);\n",
"b=modulo(lat*3600-a,3600)/60;\n",
"printf('  minutes %i',b);\n",
"c=(lat*3600-b*60-a)/3600;\n",
"printf('  degrees %i',c);\n",
"clear"
   ]
   }
,
{
		   "cell_type": "markdown",
		   "metadata": {},
		   "source": [
			"## Example 1.57: latitude_of_place.sce"
		   ]
		  },
  {
"cell_type": "code",
	   "execution_count": null,
	   "metadata": {
	    "collapsed": true
	   },
	   "outputs": [],
"source": [
"\n",
"\n",
"//exapple 1.57\n",
"clc; funcprot(0);\n",
"// Initialization of Variable\n",
"alpha=44+12/60+30/3600;//altitude\n",
"longP=75+20/60+15/3600;//longitude of place\n",
"delta=22+18/60+12.8/3600;//declination of sun\n",
"pi=3.1415;\n",
"i=57/3600*1/tan(alpha*pi/180);//error\n",
"i2=8.78/3600*cos(alpha);//correction due to parallax\n",
"i3=15/60+45.86/3600;//coreectin due to semi diamter\n",
"alpha=alpha-i+i2+i3;\n",
"z=90-alpha;//zenith distance\n",
"delT=longP/15;\n",
"i4=6.82/3600*delT;//error in time\n",
"delta=i4+delta;\n",
"lat=delta+z;\n",
"disp('latitude of sun is to the south observed:');\n",
"a=modulo(lat*3600,60);\n",
"printf('seconds %.2f',a);\n",
"b=modulo(lat*3600-a,3600)/60;\n",
"printf('  minutes %i',b);\n",
"c=(lat*3600-b*60-a)/3600;\n",
"printf('  degrees %i',c);\n",
"clear"
   ]
   }
,
{
		   "cell_type": "markdown",
		   "metadata": {},
		   "source": [
			"## Example 1.58: apparent_latitude_of_place.sce"
		   ]
		  },
  {
"cell_type": "code",
	   "execution_count": null,
	   "metadata": {
	    "collapsed": true
	   },
	   "outputs": [],
"source": [
"\n",
"\n",
"//exapple 1.58\n",
"clc; funcprot(0);\n",
"// Initialization of Variable\n",
"theta=80;\n",
"delta=46+45/60+30/3600;\n",
"alpha1=90-theta+delta;\n",
"disp('alpha1 is (North):');\n",
"a=modulo(alpha1*3600,60);\n",
"printf('seconds %.2f',a);\n",
"b=modulo(alpha1*3600-a,3600)/60;\n",
"printf('  minutes %i',b);\n",
"c=(alpha1*3600-b*60-a)/3600;\n",
"printf('  degrees %i',c);\n",
"alpha2=theta+delta-90;\n",
"disp('alpha2 is (South):');\n",
"a=modulo(alpha2*3600,60);\n",
"printf('seconds %.2f',a);\n",
"b=modulo(alpha2*3600-a,3600)/60;\n",
"printf('  minutes %i',b);\n",
"c=(alpha2*3600-b*60-a)/3600;\n",
"printf('  degrees %i',c);"
   ]
   }
,
{
		   "cell_type": "markdown",
		   "metadata": {},
		   "source": [
			"## Example 1.59: latitude_of_place.sce"
		   ]
		  },
  {
"cell_type": "code",
	   "execution_count": null,
	   "metadata": {
	    "collapsed": true
	   },
	   "outputs": [],
"source": [
"\n",
"\n",
"//exapple 1.59\n",
"clc; funcprot(0);\n",
"// Initialization of Variable\n",
"delta1=20+25/60+48/3600;//declination of star 1\n",
"delta2=79+30/60+52/3600;//declination of star 2\n",
"alpha1=48+18/60+12/3600;//altitude of star 1\n",
"alpha2=47+54/60+6/3600;//altitude of star 2\n",
"pi=3.1415;\n",
"r1=58/3600/tan(alpha1*pi/180)//error 1\n",
"r2=58/3600/tan(alpha2*pi/180)//error 2\n",
"lat=90-(alpha1-alpha2)/2+(delta1-delta2)/2+(r1-r2)/2;\n",
"disp('latitude of star observed:');\n",
"a=modulo(lat*3600,60);\n",
"printf('seconds %.2f',a);\n",
"b=modulo(lat*3600-a,3600)/60;\n",
"printf('  minutes %i',b);\n",
"c=(lat*3600-b*60-a)/3600;\n",
"printf('  degrees %i',c);"
   ]
   }
,
{
		   "cell_type": "markdown",
		   "metadata": {},
		   "source": [
			"## Example 1.5: zenith_distance.sce"
		   ]
		  },
  {
"cell_type": "code",
	   "execution_count": null,
	   "metadata": {
	    "collapsed": true
	   },
	   "outputs": [],
"source": [
"\n",
"\n",
"//exapple 1.5 \n",
"clc; funcprot(0);\n",
"// Initialization of Variable\n",
"pi=3.14159;\n",
"delta=42+15/60;//declination of star\n",
"theta=26+40/60;//latitude of star\n",
"zend=90-theta-90+delta;\n",
"alt=90-zend;\n",
"disp('zenith distace of star in (degrees):');\n",
"a=modulo(zend*3600,60);\n",
"printf('seconds %.2f',a);\n",
"b=modulo(zend*3600-a,3600)/60;\n",
"printf('  minutes %i',b);\n",
"c=(zend*3600-b*60-a)/3600;\n",
"printf('  degrees %i',c);\n",
"disp(,'altitude of star in (degrees):');\n",
"a=modulo(alt*3600,60);\n",
"printf('seconds %.2f',a);\n",
"b=modulo(alt*3600-a,3600)/60;\n",
"printf('  minutes %i',b);\n",
"c=(alt*3600-b*60-a)/3600;\n",
"printf('  degrees %i',c);"
   ]
   }
,
{
		   "cell_type": "markdown",
		   "metadata": {},
		   "source": [
			"## Example 1.60: latitude_of_place_and_declination_of_star.sce"
		   ]
		  },
  {
"cell_type": "code",
	   "execution_count": null,
	   "metadata": {
	    "collapsed": true
	   },
	   "outputs": [],
"source": [
"\n",
"\n",
"//exapple 1.60\n",
"clc; funcprot(0);\n",
"// Initialization of Variable\n",
"alphal=18+36/60+40/3600;//altitude at lower culmination\n",
"alphau=59+48/60+20/3600;//altitude at upper culmination\n",
"lat=(alphal+alphau)/2;\n",
"disp('latitude of star observed:');\n",
"a=modulo(lat*3600,60);\n",
"printf('seconds %.2f',a);\n",
"b=modulo(lat*3600-a,3600)/60;\n",
"printf('  minutes %i',b);\n",
"c=(lat*3600-b*60-a)/3600;\n",
"printf('  degrees %i',c);\n",
"delta=90+lat-alphau;\n",
"disp('declination of star observed:');\n",
"a=modulo(delta*3600,60);\n",
"printf('seconds %.2f',a);\n",
"b=modulo(delta*3600-a,3600)/60;\n",
"printf('  minutes %i',b);\n",
"c=(delta*3600-b*60-a)/3600;\n",
"printf('  degrees %i',c);"
   ]
   }
,
{
		   "cell_type": "markdown",
		   "metadata": {},
		   "source": [
			"## Example 1.61: latitude_of_place.sce"
		   ]
		  },
  {
"cell_type": "code",
	   "execution_count": null,
	   "metadata": {
	    "collapsed": true
	   },
	   "outputs": [],
"source": [
"\n",
"\n",
"//exapple 1.61\n",
"clc; funcprot(0);\n",
"// Initialization of Variable\n",
"alpha=40+36/60+30/3600;//altitude of star\n",
"delta=10+36/60+40/3600;//declination of star\n",
"H=46+36/60+20/3600;//hour angle of star\n",
"pi=3.1412;\n",
"n=atan(tan(delta*pi/180)/cos(H*pi/180));\n",
"lat=n+acos(sin(alpha*pi/180)*sin(n)/sin(delta*pi/180));\n",
"lat=lat*180/pi;\n",
"disp('latitude of star observed:');\n",
"a=modulo(lat*3600,60);\n",
"printf('seconds %.2f',a);\n",
"b=modulo(lat*3600-a,3600)/60;\n",
"printf('  minutes %i',b);\n",
"c=(lat*3600-b*60-a)/3600;\n",
"printf('  degrees %i',c);"
   ]
   }
,
{
		   "cell_type": "markdown",
		   "metadata": {},
		   "source": [
			"## Example 1.6_1: zenith_distance_and_altitude_of_star.sce"
		   ]
		  },
  {
"cell_type": "code",
	   "execution_count": null,
	   "metadata": {
	    "collapsed": true
	   },
	   "outputs": [],
"source": [
"\n",
"\n",
"//exapple 1.6.1\n",
"clc; funcprot(0);\n",
"// Initialization of Variable\n",
"pi=3.14159;\n",
"delta=23+20/60;//declination of star\n",
"theta=26+40/60;//latitude of sta\n",
"zend=90+theta-90-delta;\n",
"alt=90-zend;\n",
"disp('zenith distace of star in (degrees):');\n",
"a=modulo(zend*3600,60);\n",
"printf('seconds %.2f',a);\n",
"b=modulo(zend*3600-a,3600)/60;\n",
"printf('  minutes %i',b);\n",
"c=(zend*3600-b*60-a)/3600;\n",
"printf('  degrees %i',c);\n",
"disp(,'altitude of star in (degrees):');\n",
"a=modulo(alt*3600,60);\n",
"printf('seconds %.2f',a);\n",
"b=modulo(alt*3600-a,3600)/60;\n",
"printf('  minutes %i',b);\n",
"c=(alt*3600-b*60-a)/3600;\n",
"printf('  degrees %i',c);"
   ]
   }
,
{
		   "cell_type": "markdown",
		   "metadata": {},
		   "source": [
			"## Example 1.62: latitude_of_place.sce"
		   ]
		  },
  {
"cell_type": "code",
	   "execution_count": null,
	   "metadata": {
	    "collapsed": true
	   },
	   "outputs": [],
"source": [
"\n",
"\n",
"//exapple 1.62\n",
"clc; funcprot(0);\n",
"// Initialization of Variable\n",
"pi=3.14159;\n",
"alpha=42+10/60+40/3600;//altitude of sun\n",
"delta=23+12/60+18.6/3600;//declination of sun's angle\n",
"i=57/3600*1/tan(alpha*pi/180);//error\n",
"i2=8.78/3600*cos(alpha);//correction due to parallax\n",
"i3=15/60+45.86/3600;//coreectin due to semi diamter\n",
"longP=108+30/60;//longitude of place\n",
"LMT=14+50/60;\n",
"alpha=alpha-i+i2+i3;\n",
"delT=longP/15;//change in time\n",
"GMT=LMT+delT;\n",
"i4=1.2/3600*GMT;//error in time\n",
"H=(GMT-12+i4-delT)*15;//hour angle\n",
"i5=10.6/3600*GMT;//error in declination\n",
"delta=delta+i5;\n",
"ZM=(90-alpha)*pi/180;\n",
"PM=(90+delta)*pi/180;\n",
"A=asin(sin(PM)/sin(ZM)*sin(H*pi/180));\n",
"A=pi-A;\n",
"ZP=2*atan(sin(A/2+H*pi/360)/sin(A/2-H*pi/360)*tan(PM/2-ZM/2));\n",
"lat=pi/2-ZP;\n",
"lat=lat*180/pi+1;\n",
"disp('latitude of star observed:');\n",
"a=modulo(lat*3600,60);\n",
"printf('seconds %.2f',a);\n",
"b=modulo(lat*3600-a,3600)/60;\n",
"printf('  minutes %i',b);\n",
"c=(lat*3600-b*60-a)/3600;\n",
"printf('  degrees %i',c);\n",
"\n",
""
   ]
   }
,
{
		   "cell_type": "markdown",
		   "metadata": {},
		   "source": [
			"## Example 1.6_2: zenith_distance_and_altitude_at_upper_culmination.sce"
		   ]
		  },
  {
"cell_type": "code",
	   "execution_count": null,
	   "metadata": {
	    "collapsed": true
	   },
	   "outputs": [],
"source": [
"\n",
"\n",
"//exapple 1.6.2 \n",
"clc; funcprot(0);\n",
"// Initialization of Variable\n",
"pi=3.14159;\n",
"delta=65+40/60;//declination of star\n",
"theta=26+40/60;//latitude of star\n",
"zend=90-theta-90+delta;\n",
"alt=90-zend;\n",
"disp('zenith distace of star in (degrees):');\n",
"a=modulo(zend*3600,60);\n",
"printf('seconds %.2f',a);\n",
"b=modulo(zend*3600-a,3600)/60;\n",
"printf('  minutes %i',b);\n",
"c=(zend*3600-b*60-a)/3600;\n",
"printf('  degrees %i',c);\n",
"disp(,'altitude of star in (degrees):');\n",
"a=modulo(alt*3600,60);\n",
"printf('seconds %.2f',a);\n",
"b=modulo(alt*3600-a,3600)/60;\n",
"printf('  minutes %i',b);\n",
"c=(alt*3600-b*60-a)/3600;\n",
"printf('  degrees %i',c);"
   ]
   }
,
{
		   "cell_type": "markdown",
		   "metadata": {},
		   "source": [
			"## Example 1.63: latitude_of_place.sce"
		   ]
		  },
  {
"cell_type": "code",
	   "execution_count": null,
	   "metadata": {
	    "collapsed": true
	   },
	   "outputs": [],
"source": [
"\n",
"\n",
"//exapple 1.63\n",
"clc; funcprot(0);\n",
"// Initialization of Variable\n",
"delta=15+20/60+48/3600;//declination of star\n",
"Int=9+22/60+6/3600;//interval\n",
"pi=3.141;\n",
"dint=Int*9.8565/3600;//change in interval\n",
"H=(Int+dint)*15/2;//hour angle\n",
"lat=atan(tan(delta*pi/180)/cos(H*pi/180));\n",
"lat=lat*180/pi+5/6*16/3600;\n",
"disp('latitude of star observed:');\n",
"a=modulo(lat*3600,60);\n",
"printf('seconds %.2f',a);\n",
"b=modulo(lat*3600-a,3600)/60;\n",
"printf('  minutes %i',b);\n",
"c=(lat*3600-b*60-a)/3600;\n",
"printf('  degrees %i',c);\n",
"\n",
""
   ]
   }
,
{
		   "cell_type": "markdown",
		   "metadata": {},
		   "source": [
			"## Example 1.64: latitude_of_place.sce"
		   ]
		  },
  {
"cell_type": "code",
	   "execution_count": null,
	   "metadata": {
	    "collapsed": true
	   },
	   "outputs": [],
"source": [
"\n",
"\n",
"//exapple 1.64\n",
"clc; funcprot(0);\n",
"// Initialization of Variable\n",
"pi=3.14159;\n",
"RA=1+41/60+48.64/3600;\n",
"lat=48+36/60+40/3600;//latitude\n",
"delta=88+58/60+28.26/3600;//declination of polaris\n",
"GMM=16+48/60+20.86/3600;\n",
"longP=7+20/60;//longitude of place P\n",
"i1=51/3600;//error due to barometer\n",
"i2=1/3600;//error due to barometer\n",
"i3=-1/3600;//error due to temp\n",
"lat=lat-i1+i2+i3;\n",
"delT=longP/15;\n",
"i4=delT*9.8565/3600;\n",
"lst=GMM+i4;\n",
"LMT=20+24/60+50/3600;\n",
"i6=9.8565/3600*LMT;//error in LMT\n",
"LST=LMT+i6+lst-24;\n",
"H=LST-RA;//hour angle\n",
"H=H*15;\n",
"lat=lat-(90-delta)*cos(H*pi/180)+.5*sin(1/3600*pi/180)*(90-delta)^2*(sin(H*pi/180))^2*tan(lat*pi/180);\n",
"disp('latitude of star observed:');\n",
"a=modulo(lat*3600,60);\n",
"printf('seconds %.2f',a);\n",
"b=modulo(lat*3600-a,3600)/60;\n",
"printf('  minutes %i',b);\n",
"c=(lat*3600-b*60-a)/3600;\n",
"printf('  degrees %i',c);\n",
""
   ]
   }
,
{
		   "cell_type": "markdown",
		   "metadata": {},
		   "source": [
			"## Example 1.65: latitude_of_place.sce"
		   ]
		  },
  {
"cell_type": "code",
	   "execution_count": null,
	   "metadata": {
	    "collapsed": true
	   },
	   "outputs": [],
"source": [
"\n",
"\n",
"//exapple 1.65\n",
"clc; funcprot(0);\n",
"// Initialization of Variable\n",
"longP=120-4-20/60;//longitude of point\n",
"delT=longP/15;\n",
"GST=8+30/60+20/3600;//GST on GMM\n",
"i=delT*9.8565/3600;//error in time\n",
"pi=3.1415;\n",
"lst=GST+i;//LST on LMM\n",
"LST=19+52/60+16/3600;\n",
"RA=LST;\n",
"LMN=LST-lst;\n",
"i2=LMN*9.8565/3600;//error in LMN\n",
"LMN=LMN-i2;\n",
"OSM=10+55/60+30/3600;//Observed mean time\n",
"i3=1/60+25/3600;//error in observed time\n",
"OSM=OSM-i3;\n",
"LMT=OSM+4/15+21/60/15;\n",
"I=LMN-LMT;//interval\n",
"i4=1.21/3600;//error in interval\n",
"I=I+i4;\n",
"H=I;//hour angle\n",
"delta=6+15/60+02/3600;//deflection\n",
"alpha=39+20/60+30/3600;//altitude\n",
"theta=56+54/60+30/3600;//longitude\n",
"B=cos(delta*pi/180)*cos(theta*pi/180)/cos(alpha*pi/180);\n",
"m=225*H^2*3600^2/2/206265;\n",
"lat=alpha+m*B/3600;\n",
"lat=90-lat+6+15/60+02/3600;\n",
"disp(B,'latitude of star observed:');\n",
"a=modulo(lat*3600,60);\n",
"printf('seconds %.2f',a);\n",
"b=modulo(lat*3600-a,3600)/60;\n",
"printf('  minutes %i',b);\n",
"c=(lat*3600-b*60-a)/3600;\n",
"printf('  degrees %i',c);\n",
""
   ]
   }
,
{
		   "cell_type": "markdown",
		   "metadata": {},
		   "source": [
			"## Example 1.7: astronomical_triangle.sce"
		   ]
		  },
  {
"cell_type": "code",
	   "execution_count": null,
	   "metadata": {
	    "collapsed": true
	   },
	   "outputs": [],
"source": [
"\n",
"\n",
"//exapple 1.7 \n",
"clc; funcprot(0);\n",
"// Initialization of Variable\n",
"\n",
"pi=3.14159;\n",
"delta=85+20/60;\n",
"theta=46+50/60;\n",
"if delta>90-theta then\n",
"    zend=180-theta-delta;\n",
"    disp('zenith distance in (degrees):');\n",
"    a=modulo(zend*3600,60);\n",
"printf('seconds %.2f',a);\n",
"b=modulo(zend*3600-a,3600)/60;\n",
"printf('  minutes %i',b);\n",
"c=(zend*3600-b*60-a)/3600;\n",
"printf('  degrees %i',c);\n",
"   zend1=90-zend;\n",
"    disp('altitude of star in (degrees):');\n",
"    a=modulo(zend1*3600,60);\n",
"printf('seconds %.2f',a);\n",
"b=modulo(zend1*3600-a,3600)/60;\n",
"printf('  minutes %i',b);\n",
"c=(zend1*3600-b*60-a)/3600;\n",
"printf('  degrees %i',c);\n",
"end"
   ]
   }
,
{
		   "cell_type": "markdown",
		   "metadata": {},
		   "source": [
			"## Example 1.8: astronomical_triangle.sce"
		   ]
		  },
  {
"cell_type": "code",
	   "execution_count": null,
	   "metadata": {
	    "collapsed": true
	   },
	   "outputs": [],
"source": [
"\n",
"\n",
"//exapple 1.8 \n",
"clc; funcprot(0);\n",
"// Initialization of Variable\n",
"\n",
"pi=3.14159;\n",
"delta=56+10/60;\n",
"theta=56+10/60;\n",
"if delta>90-theta then\n",
"    zend=180-theta-delta;\n",
"     disp('zenith distance in (degrees):');\n",
"    a=modulo(zend*3600,60);\n",
"printf('seconds %.2f',a);\n",
"b=modulo(zend*3600-a,3600)/60;\n",
"printf('  minutes %i',b);\n",
"c=(zend*3600-b*60-a)/3600;\n",
"printf('  degrees %i',c);\n",
"   zend1=90-zend;\n",
"    disp('altitude of star in (degrees):');\n",
"    a=modulo(zend1*3600,60);\n",
"printf('seconds %.2f',a);\n",
"b=modulo(zend1*3600-a,3600)/60;\n",
"printf('  minutes %i',b);\n",
"c=(zend1*3600-b*60-a)/3600;\n",
"printf('  degrees %i',c);\n",
"end"
   ]
   }
,
{
		   "cell_type": "markdown",
		   "metadata": {},
		   "source": [
			"## Example 1.9: astronomical_triangle.sce"
		   ]
		  },
  {
"cell_type": "code",
	   "execution_count": null,
	   "metadata": {
	    "collapsed": true
	   },
	   "outputs": [],
"source": [
"\n",
"\n",
"//exapple 1.9 \n",
"clc; funcprot(0);\n",
"// Initialization of Variable\n",
"//solving equation of theta and delta\n",
"b(1,1)=90-70-20/60;//zenith distance at upper culmination\n",
"b(2,1)=90+20+40/60;//zenithdistance at lower culmination\n",
"A=[1 -1;1 1];//coeff of equations having declination of star and latitude of observation\n",
"x=A\b;\n",
"disp(x(1),'declination of star in (degrees)');\n",
"disp(x(2),'latitude of place of observation in (degrees):');"
   ]
   }
],
"metadata": {
		  "kernelspec": {
		   "display_name": "Scilab",
		   "language": "scilab",
		   "name": "scilab"
		  },
		  "language_info": {
		   "file_extension": ".sce",
		   "help_links": [
			{
			 "text": "MetaKernel Magics",
			 "url": "https://github.com/calysto/metakernel/blob/master/metakernel/magics/README.md"
			}
		   ],
		   "mimetype": "text/x-octave",
		   "name": "scilab",
		   "version": "0.7.1"
		  }
		 },
		 "nbformat": 4,
		 "nbformat_minor": 0
}
