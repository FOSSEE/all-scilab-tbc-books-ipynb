{
"cells": [
 {
		   "cell_type": "markdown",
	   "metadata": {},
	   "source": [
       "# Chapter 2: Photogrammetric Surveying"
	   ]
	},
{
		   "cell_type": "markdown",
		   "metadata": {},
		   "source": [
			"## Example 2.10: relief_displacement.sce"
		   ]
		  },
  {
"cell_type": "code",
	   "execution_count": null,
	   "metadata": {
	    "collapsed": true
	   },
	   "outputs": [],
"source": [
"\n",
"\n",
"//exapple 2.10 \n",
"clc; funcprot(0);\n",
"// Initialization of Variable\n",
"f=20/100;\n",
"Sd=1/10000;\n",
"h=250;//elevation\n",
"r=6.44;\n",
"H=f/Sd;\n",
"d=r*h/H;\n",
"disp(d,'relief displacement of the point in (cm)')"
   ]
   }
,
{
		   "cell_type": "markdown",
		   "metadata": {},
		   "source": [
			"## Example 2.11: relief_displacement.sce"
		   ]
		  },
  {
"cell_type": "code",
	   "execution_count": null,
	   "metadata": {
	    "collapsed": true
	   },
	   "outputs": [],
"source": [
"\n",
"\n",
"//exapple 2.11 \n",
"clc; funcprot(0);\n",
"// Initialization of Variable\n",
"h=50;//elevation\n",
"H=2500-1250;\n",
"r=6.35;\n",
"d=r*h/H;\n",
"disp(d,'relief displacement of the point in (cm)')"
   ]
   }
,
{
		   "cell_type": "markdown",
		   "metadata": {},
		   "source": [
			"## Example 2.12: relief_displacement.sce"
		   ]
		  },
  {
"cell_type": "code",
	   "execution_count": null,
	   "metadata": {
	    "collapsed": true
	   },
	   "outputs": [],
"source": [
"\n",
"\n",
"//exapple 2.12 \n",
"clc; funcprot(0);\n",
"// Initialization of Variable\n",
"f=20/100;//focal length\n",
"l=250;//length of line\n",
"lp=8.5/100;//length of line in photograph\n",
"H=l*f/lp;//height of camera above datum\n",
"r=6.46;//distace of image of top of the tower\n",
"d=0.46;//releif displacement\n",
"h=d*H/r;\n",
"disp(h,'height of tower above its base in (m)')"
   ]
   }
,
{
		   "cell_type": "markdown",
		   "metadata": {},
		   "source": [
			"## Example 2.13: flight_pla.sce"
		   ]
		  },
  {
"cell_type": "code",
	   "execution_count": null,
	   "metadata": {
	    "collapsed": true
	   },
	   "outputs": [],
"source": [
"\n",
"\n",
"//exapple 2.13 \n",
"clc; funcprot(0);\n",
"// Initialization of Variable\n",
"l=20/100;//length of photograph\n",
"w=20/100;//breadth of photograph\n",
"Pl=0.6;//longitudinal lap\n",
"Pw=0.3;//side lap\n",
"s=100*20;\n",
"L=(1-Pl)*s;\n",
"W=(1-Pw)*s;\n",
"Ar=L*W/1000/1000;\n",
"N=100/Ar;\n",
"A=round(N);\n",
"if N-A<0 then\n",
"   disp(A,'no. of photographs to be taken');\n",
"else\n",
"    disp(A+1,'no. of photographs to be taken');\n",
"end\n",
""
   ]
   }
,
{
		   "cell_type": "markdown",
		   "metadata": {},
		   "source": [
			"## Example 2.14: flight_pla.sce"
		   ]
		  },
  {
"cell_type": "code",
	   "execution_count": null,
	   "metadata": {
	    "collapsed": true
	   },
	   "outputs": [],
"source": [
"\n",
"\n",
"//exapple 2.14 \n",
"clc; funcprot(0);\n",
"// Initialization of Variable\n",
"Pl=0.6;//longitudinal lap\n",
"Pw=0.3;//side lap\n",
"L1=10000;\n",
"s=100*20;\n",
"L2=L1;\n",
"N1=L1/((1-Pl)*s)+1;\n",
"A1=round(N1);\n",
"if N1-A1<0 then\n",
"   N1=A1\n",
"else\n",
"    N1=A1+1;\n",
"end\n",
"N2=L2/((1-Pw)*s)+1;\n",
"A2=round(N2);\n",
"if N2-A2<0 then\n",
"   N2=A2\n",
"else\n",
"    N2=A2+1;\n",
"end\n",
"N=N1*N2;\n",
"disp(N,'no. of photographs to be taken');\n",
"clear"
   ]
   }
,
{
		   "cell_type": "markdown",
		   "metadata": {},
		   "source": [
			"## Example 2.15: photograph_numbers.sce"
		   ]
		  },
  {
"cell_type": "code",
	   "execution_count": null,
	   "metadata": {
	    "collapsed": true
	   },
	   "outputs": [],
"source": [
"\n",
"\n",
"//exapple 2.15 \n",
"clc; funcprot(0);\n",
"// Initialization of Variable\n",
"Pl=0.6;//longitudinal lap\n",
"Pw=0.3;//side lap\n",
"L1=12500;\n",
"s=100*20;\n",
"L2=8000;\n",
"N1=L1/((1-Pl)*s)+1;\n",
"A1=round(N1);\n",
"if N1-A1<0 then\n",
"   N1=A1\n",
"else\n",
"    N1=A1+1;\n",
"end\n",
"N2=L2/((1-Pw)*s)+1;\n",
"A2=round(N2);\n",
"if N2-A2<0 then\n",
"   N2=A2\n",
"else\n",
"    N2=A2+1;\n",
"end\n",
"N=N1*N2;\n",
"disp(N,'no. of photographs to be taken');"
   ]
   }
,
{
		   "cell_type": "markdown",
		   "metadata": {},
		   "source": [
			"## Example 2.16: flight_planning.sce"
		   ]
		  },
  {
"cell_type": "code",
	   "execution_count": null,
	   "metadata": {
	    "collapsed": true
	   },
	   "outputs": [],
"source": [
"\n",
"\n",
"//exapple 2.16 \n",
"clc; funcprot(0);\n",
"// Initialization of Variable\n",
"//part1\n",
"f=30/100;//focal length\n",
"h=400;//elevation of datum\n",
"r=12000;//ratio\n",
"s=120*20;\n",
"L2=24000;\n",
"L1=30000;\n",
"Pl=0.6;//longitudinal lap\n",
"Pw=0.3;//side lap\n",
"H=h+r*f;\n",
"disp(H,'height above datum in (m):');\n",
"//part2\n",
"W=(1-Pw)*s;\n",
"disp(W,'ground width covered in each photograph (m):')\n",
"//part3\n",
"N2=L2/((1-Pw)*s)+1;\n",
"A2=round(N2);\n",
"if N2-A2<0 then\n",
"   N2=A2\n",
"else\n",
"    N2=A2+1;\n",
"end\n",
"disp(N2,'no. of flights required')\n",
"//part4\n",
"Asf=L2/(N2-1);//actual spacing between flights\n",
"//part5\n",
"Sfl=Asf/600;//spacing of flight lines\n",
"//part6\n",
"gd=(1-Pl)*s;//ground distance\n",
"//part7\n",
"Ei=gd/55.5;//exposure interval\n",
"Ei=round(Ei);\n",
"//part8\n",
"Ags=55.56*Ei;//adgusted ground distance\n",
"//part9\n",
"N1=L1/Ags+1;\n",
"A1=round(N1);\n",
"if N1-A1<0 then\n",
"   N1=A1\n",
"else\n",
"    N1=A1+1;\n",
"end\n",
"N=N1*N2;\n",
"disp(N,'no. of photographs to be taken');"
   ]
   }
,
{
		   "cell_type": "markdown",
		   "metadata": {},
		   "source": [
			"## Example 2.17: parallax_of_a_point.sce"
		   ]
		  },
  {
"cell_type": "code",
	   "execution_count": null,
	   "metadata": {
	    "collapsed": true
	   },
	   "outputs": [],
"source": [
"\n",
"\n",
"//exapple 2.17 \n",
"clc; funcprot(0);\n",
"// Initialization of Variable\n",
"f=150/1000;//focal length\n",
"r=20000;//ratio\n",
"Pl=0.6;//longitudinal lap\n",
"l=23/100;//length\n",
"w=23/100;//width\n",
"B=(1-Pl)*l*r;//base length\n",
"H=f*r;\n",
"h=0;\n",
"dh=(H-h)^2/B/f*0.1/1000;\n",
"disp(dh,'error in height in (m):')"
   ]
   }
,
{
		   "cell_type": "markdown",
		   "metadata": {},
		   "source": [
			"## Example 2.18: parallax.sce"
		   ]
		  },
  {
"cell_type": "code",
	   "execution_count": null,
	   "metadata": {
	    "collapsed": true
	   },
	   "outputs": [],
"source": [
"\n",
"\n",
"//exapple 2.18 \n",
"clc; funcprot(0);\n",
"// Initialization of Variable\n",
"H=600;\n",
"f=150/1000;\n",
"s=H/f;\n",
"b=6.375/100;\n",
"h1=0;\n",
"h2=120;//height of chimney\n",
"B=s*b;//datum elevation\n",
"p1=B*f*1000/(H-h1);\n",
"p2=B*f*1000/(H-h2);\n",
"delp=p2-p1;\n",
"delh=H*delp/1000/(b+delp/1000);\n",
"disp(delh,'parallax height of the chimney in (m):');\n",
"clear"
   ]
   }
,
{
		   "cell_type": "markdown",
		   "metadata": {},
		   "source": [
			"## Example 2.19: parallax.sce"
		   ]
		  },
  {
"cell_type": "code",
	   "execution_count": null,
	   "metadata": {
	    "collapsed": true
	   },
	   "outputs": [],
"source": [
"\n",
"\n",
"//exapple 2.19 \n",
"clc; funcprot(0);\n",
"// Initialization of Variable\n",
"B=200;\n",
"f=120;\n",
"p2=52.52;//parallax for top of pole\n",
"p1=48.27;//parallax for bottom of pole\n",
"delh=(p2-p1)/p2/p1*B*f;\n",
"disp(delh,'diference in elevation of two points in (m):')"
   ]
   }
,
{
		   "cell_type": "markdown",
		   "metadata": {},
		   "source": [
			"## Example 2.1: Azimuth_of_camera.sce"
		   ]
		  },
  {
"cell_type": "code",
	   "execution_count": null,
	   "metadata": {
	    "collapsed": true
	   },
	   "outputs": [],
"source": [
"\n",
"\n",
"//exapple 2.1 \n",
"clc; funcprot(0);\n",
"// Initialization of Variable\n",
"pi=3.14259;\n",
"f=120.80//focal length\n",
"a=-35.52//elevation of A\n",
"b=8.48//elevation of B\n",
"c=48.26//elevation of C\n",
"alphaa=atan(a/f);\n",
"alphab=atan(b/f);\n",
"alphac=atan(c/f);\n",
"phi=(354+30/60)*pi/180;//azimuth of camera\n",
"phia=phi-alphaa-360*pi/180;//azimuth of a\n",
"disp(phia/pi*180,'azimuth of a in (degrees)');\n",
"phib=phia+alphab;//azimuth of b\n",
"disp(phib/pi*180,'azimuth of b in (degrees)');\n",
"phic=phia+alphac;//azimuth of c\n",
"disp(phic/pi*180,'azimuth of c in (degrees)');\n",
"clear"
   ]
   }
,
{
		   "cell_type": "markdown",
		   "metadata": {},
		   "source": [
			"## Example 2.20: parallax.sce"
		   ]
		  },
  {
"cell_type": "code",
	   "execution_count": null,
	   "metadata": {
	    "collapsed": true
	   },
	   "outputs": [],
"source": [
"\n",
"\n",
"//exapple 2.20 \n",
"clc; funcprot(0);\n",
"// Initialization of Variable\n",
"//part1\n",
"delp=1.48/1000;\n",
"H=5000;\n",
"h=500;\n",
"b=90/1000;//mean principal base\n",
"dh=(H-h)^2*delp/((H-h)*delp+b*H);\n",
"disp(dh,'difference in height between two points in (m):');\n",
"//part2\n",
"delp=15.5/1000;\n",
"dh=(H-h)^2*delp/((H-h)*delp+b*H);\n",
"disp(dh,'difference in height between two points in (m):');"
   ]
   }
,
{
		   "cell_type": "markdown",
		   "metadata": {},
		   "source": [
			"## Example 2.2: distance_of_points.sce"
		   ]
		  },
  {
"cell_type": "code",
	   "execution_count": null,
	   "metadata": {
	    "collapsed": true
	   },
	   "outputs": [],
"source": [
"\n",
"\n",
"//exapple 2.2 \n",
"clc; funcprot(0);\n",
"// Initialization of Variable\n",
"pi=3.14259;\n",
"f=150;//focal length of camera\n",
"ap=20.2//elevation of a from p\n",
"aa1=16.4;//ditance to the right\n",
"aq=35.2//elevation of a from q\n",
"PQ=100;//distance of PQ\n",
"RL=126.845;//reduced level of instrument\n",
"alphap=atan(ap/f);\n",
"alphaq=atan(aq/f);\n",
"P=pi/3-alphap;//angle P\n",
"Q=40*pi/180-alphaq;//angle Q\n",
"A=pi-P-Q;//angle A;\n",
"AP=PQ*sin(Q)/sin(A);\n",
"disp(AP,'distance of AP in (m):');\n",
"AQ=PQ*sin(P)/sin(A);\n",
"disp(AQ,'distance of AQ in (m):');\n",
"Pa1=sqrt(ap^2+f^2);\n",
"AA1=aa1*AP/Pa1;\n",
"RLa=RL+AA1;//reduced level of A\n",
"disp(RLa,'reduced level of A in (M)')\n",
""
   ]
   }
,
{
		   "cell_type": "markdown",
		   "metadata": {},
		   "source": [
			"## Example 2.3: distance_of_points.sce"
		   ]
		  },
  {
"cell_type": "code",
	   "execution_count": null,
	   "metadata": {
	    "collapsed": true
	   },
	   "outputs": [],
"source": [
"\n",
"\n",
"//exapple 2.3 \n",
"clc; funcprot(0);\n",
"// Initialization of Variable\n",
"pi=3.14259;\n",
"theta=(44+30/60)*pi/180;//angle b/w two points\n",
"x1=68.24;//distance of first point\n",
"x2=58.48;//distance of 2nd point\n",
"f=(x1+x2)/tan(theta)/2+sqrt((x1+x2)^2/4/(tan(theta))^2+x1*x2);\n",
"disp(f,'focal length of lens in (mm):');"
   ]
   }
,
{
		   "cell_type": "markdown",
		   "metadata": {},
		   "source": [
			"## Example 2.4: representative_fraction.sce"
		   ]
		  },
  {
"cell_type": "code",
	   "execution_count": null,
	   "metadata": {
	    "collapsed": true
	   },
	   "outputs": [],
"source": [
"\n",
"\n",
"//exapple 2.4 \n",
"clc; funcprot(0);\n",
"// Initialization of Variable\n",
"//part1\n",
"pi=3.14259;\n",
"H=1200;//altitude\n",
"h=80;//elevation of hill\n",
"f=15/100;\n",
"R80=f/(H-h);\n",
"disp(R80,'representative fraction of hill is (times):');\n",
"//part2\n",
"h=300;//elevation of hill\n",
"R300=f/(H-h);\n",
"disp(R300,'representative fraction of hill is (times):');"
   ]
   }
,
{
		   "cell_type": "markdown",
		   "metadata": {},
		   "source": [
			"## Example 2.5: altitude_of_point.sce"
		   ]
		  },
  {
"cell_type": "code",
	   "execution_count": null,
	   "metadata": {
	    "collapsed": true
	   },
	   "outputs": [],
"source": [
"\n",
"\n",
"//exapple 2.5 \n",
"clc; funcprot(0);\n",
"// Initialization of Variable\n",
"R=1/8000;\n",
"h=1500;\n",
"f=20/100;\n",
"H=h+f/R;\n",
"disp(H,'height above sea level in (m):');"
   ]
   }
,
{
		   "cell_type": "markdown",
		   "metadata": {},
		   "source": [
			"## Example 2.6: representative_fraction.sce"
		   ]
		  },
  {
"cell_type": "code",
	   "execution_count": null,
	   "metadata": {
	    "collapsed": true
	   },
	   "outputs": [],
"source": [
"\n",
"\n",
"//exapple 2.6 \n",
"clc; funcprot(0);\n",
"// Initialization of Variable\n",
"h=500;//elevaton of point\n",
"f=20/100;//focal length\n",
"v=8.65/100;//vertical distance of photograph\n",
"ho=2000;//horizontal distance of photograph\n",
"R=v/ho;//representative fraction\n",
"H=h+f/R;\n",
"disp(H,'height above sea level in (m):');\n",
"h=800;\n",
"S=(H-h)/f/100;//scale of photograph\n",
"disp(S,'1cm in photograph represents metres:')\n",
"clear"
   ]
   }
,
{
		   "cell_type": "markdown",
		   "metadata": {},
		   "source": [
			"## Example 2.7: altitude_of_point.sce"
		   ]
		  },
  {
"cell_type": "code",
	   "execution_count": null,
	   "metadata": {
	    "collapsed": true
	   },
	   "outputs": [],
"source": [
"\n",
"\n",
"//exapple 2.7 \n",
"clc; funcprot(0);\n",
"// Initialization of Variable\n",
"m=1/50000;//map scale\n",
"pd=10.16;//photo distance\n",
"md=2.54;//map distance\n",
"R=pd/md*m;//representative fraction\n",
"f=16/100;\n",
"h=200;\n",
"H=h+f/R;\n",
"disp(H,'height above sea level in (m):');"
   ]
   }
,
{
		   "cell_type": "markdown",
		   "metadata": {},
		   "source": [
			"## Example 2.8: distance_of_points.sce"
		   ]
		  },
  {
"cell_type": "code",
	   "execution_count": null,
	   "metadata": {
	    "collapsed": true
	   },
	   "outputs": [],
"source": [
"\n",
"\n",
"//exapple 2.8 \n",
"clc; funcprot(0);\n",
"// Initialization of Variable\n",
"f=20//focal length\n",
"xa=2.65;//x coordinate of a\n",
"xb=-1.92;//x coordinate of b\n",
"ya=1.36;//y coordinate of a\n",
"yb=3.65;//y coordinate of b\n",
"H=2500;\n",
"ha=500;//elevation of a\n",
"hb=300;//elevation of b\n",
"Xa=(H-ha)/f*xa;\n",
"Xb=(H-hb)/f*xb;\n",
"Ya=(H-ha)/f*ya;\n",
"Yb=(H-hb)/f*yb;\n",
"AB=sqrt((Xa-Xb)^2+(Ya-Yb)^2);\n",
"disp(AB,'distance between A & B in (m):')\n",
"clear"
   ]
   }
,
{
		   "cell_type": "markdown",
		   "metadata": {},
		   "source": [
			"## Example 2.9: altitude_of_a_point.sce"
		   ]
		  },
  {
"cell_type": "code",
	   "execution_count": null,
	   "metadata": {
	    "collapsed": true
	   },
	   "outputs": [],
"source": [
"\n",
"\n",
"//exapple 2.9 \n",
"clc; funcprot(0);\n",
"// Initialization of Variable\n",
"f=20//focal length\n",
"xa=2.65;//x coordinate of a\n",
"xb=-1.92;//x coordinate of b\n",
"ya=1.36;//y coordinate of a\n",
"yb=3.65;//y coordinate of b\n",
"ha=500;//elevation of a\n",
"hb=300;//elevation of b\n",
"ABg=545;\n",
"ab=5.112;\n",
"hab=ha/2+hb/2;\n",
"Happ=hab+ABg*f/ab\n",
"\n",
"Xa=(Happ-ha)/f*xa;\n",
"Xb=(Happ-hb)/f*xb;\n",
"Ya=(Happ-ha)/f*ya;\n",
"Yb=(Happ-hb)/f*yb;\n",
"AB=sqrt((Xa-Xb)^2+(Ya-Yb)^2);\n",
"Hact=ABg/AB*(Happ-hab)+hab;\n",
"disp(Hact,'actual flying height of A & B in (m):');"
   ]
   }
],
"metadata": {
		  "kernelspec": {
		   "display_name": "Scilab",
		   "language": "scilab",
		   "name": "scilab"
		  },
		  "language_info": {
		   "file_extension": ".sce",
		   "help_links": [
			{
			 "text": "MetaKernel Magics",
			 "url": "https://github.com/calysto/metakernel/blob/master/metakernel/magics/README.md"
			}
		   ],
		   "mimetype": "text/x-octave",
		   "name": "scilab",
		   "version": "0.7.1"
		  }
		 },
		 "nbformat": 4,
		 "nbformat_minor": 0
}
