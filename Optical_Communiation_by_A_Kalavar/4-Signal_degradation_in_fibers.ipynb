{
"cells": [
 {
		   "cell_type": "markdown",
	   "metadata": {},
	   "source": [
       "# Chapter 4: Signal degradation in fibers"
	   ]
	},
{
		   "cell_type": "markdown",
		   "metadata": {},
		   "source": [
			"## Example 4.13_1: material_dispersio.sce"
		   ]
		  },
  {
"cell_type": "code",
	   "execution_count": null,
	   "metadata": {
	    "collapsed": true
	   },
	   "outputs": [],
"source": [
"// Example 4.13.1\n",
"clc;\n",
"clear;\n",
"lamda=1550d-9;\n",
"lamda0=1.3d-6;\n",
"s0=0.095;\n",
"Dt=lamda*s0/4*(1-(lamda0/lamda)^4);     //computing material dispersion\n",
"Dt=Dt*10^9;\n",
"printf('\nMaterial dispersion at 1550 nm is %.1f ps/nm/km',Dt);\n",
"printf('\n\nNOTE - Slight deviation in the answer because of printig mistake\nIn problem they have given lamda0 as 1300 nanometer \nbut while solving they have taken it as 1330 nanometer');\n",
"//answer in the book 15.6 ps/nm/km, deviaton due to printing mistake."
   ]
   }
,
{
		   "cell_type": "markdown",
		   "metadata": {},
		   "source": [
			"## Example 4.14_1: bandwidth.sce"
		   ]
		  },
  {
"cell_type": "code",
	   "execution_count": null,
	   "metadata": {
	    "collapsed": true
	   },
	   "outputs": [],
"source": [
"// Example 4.14.1  \n",
"clc;\n",
"clear;\n",
"tau=0.1d-6;     //pulse broadning\n",
"dist=20d3;      //distance\n",
"Bopt=1/(2*tau);     //computing optical bandwidth\n",
"Bopt=Bopt*10^-6;\n",
"dispertion=tau/dist;        //computing dispersion\n",
"dispertion=dispertion*10^12;\n",
"BLP=Bopt*dist;      //computing Bandwidth length product\n",
"BLP=BLP*10^-3;\n",
"printf('\noptical bandwidth is %d MHz.\nDispersion per unit length is %d ns/km.\nBandwidth length product is %d MHz.km.',Bopt,dispertion,BLP);"
   ]
   }
,
{
		   "cell_type": "markdown",
		   "metadata": {},
		   "source": [
			"## Example 4.15_1: rms_pulse.sce"
		   ]
		  },
  {
"cell_type": "code",
	   "execution_count": null,
	   "metadata": {
	    "collapsed": true
	   },
	   "outputs": [],
"source": [
"// Example 4.15.1  \n",
"clc;\n",
"clear;\n",
"RSW=0.0012;     //relative spectral width\n",
"lamda=0.90d-6;  //wavelength\n",
"L=1;        //distance in km (assumed)\n",
"P=0.025;    //material dispersion parameter\n",
"c=3d5;      //speed of light in km/s\n",
"M=10^3*P/(c*lamda);     //computing material dispersion\n",
"sigma_lamda=RSW*lamda;\n",
"sigmaM=sigma_lamda*L*M*10^7;        //computing RMS pulse broadning\n",
"sigmaB=25*L*M*10^-3;\n",
"printf('\nMaterial dispersion parameter is %.2f ps/nm/km.\nRMS pulsr broadning when sigma_lamda is 25 is %.1f ns/km.\nRMS pulse broadning is %.1f ns/km.',M,sigmaB,sigmaM);\n",
"//answer in the book for RMS pulse broadning is 0.99 ns/km, deviation of 0.01ns/km."
   ]
   }
,
{
		   "cell_type": "markdown",
		   "metadata": {},
		   "source": [
			"## Example 4.17_1: maximum_bit_rate.sce"
		   ]
		  },
  {
"cell_type": "code",
	   "execution_count": null,
	   "metadata": {
	    "collapsed": true
	   },
	   "outputs": [],
"source": [
"// Example 4.17.1  \n",
"clc;\n",
"clear;\n",
"L=10;        //length of optical link\n",
"n1=1.49      //refractive index\n",
"c=3d8;      //speed of light\n",
"delta=1/100;        //relative refractive index\n",
"delTS=L*n1*delta/c;     //computing delay difference\n",
"delTS=delTS*10^12;\n",
"sigmaS=L*n1*delta/(2*sqrt(3)*c);    //computing rms pulse broadning\n",
"sigmaS=sigmaS*10^12;\n",
"B=1/(2*delTS);        //computing maximum bit rate\n",
"B=B*10^3;\n",
"B_acc=0.2/(sigmaS);     //computing accurate bit rate\n",
"B_acc=B_acc*10^3;\n",
"BLP=B_acc*L;      //computing Bandwidth length product\n",
"printf('\nDelay difference is %d ns.\nRMS pulse broadning is %.1f ns.\nBit rate is %.1f Mbit/s.\nAccurate bit rate is %.3f Mbits/s.\nBandwidth length product is %.1f MHz.km',delTS,sigmaS,B,B_acc,BLP);\n",
"//answer for maximum bit rate is given as 1.008 Mb/s, deviation of 0.008 Mb/s."
   ]
   }
,
{
		   "cell_type": "markdown",
		   "metadata": {},
		   "source": [
			"## Example 4.3_1: input_output_ratio.sce"
		   ]
		  },
  {
"cell_type": "code",
	   "execution_count": null,
	   "metadata": {
	    "collapsed": true
	   },
	   "outputs": [],
"source": [
"// Example 4.3.1 \n",
"clc;\n",
"clear;\n",
"L=10;       //fiber length in km\n",
"Pin=150d-6;     //input power\n",
"Pout=5d-6;      //output power\n",
"len=20;       //length of optical link\n",
"interval=1;     //splices after interval of 1 km\n",
"l=1.2;      //loss due to 1 splice\n",
"attenuation=10*log10(Pin/Pout);\n",
"alpha=attenuation/L;\n",
"attenuation_loss=alpha*20;\n",
"splices_loss=(len-interval)*l;\n",
"total_loss=attenuation_loss+splices_loss;\n",
"power_ratio=10^(total_loss/10);\n",
"printf('\nSignal attenuation is %.2f dBs.\nSignal attenuation is %.3f dB/Km.\nTotal loss in 20 Km fiber is %.2f dbs.\nTotal attenuation is %.2f dBs.\ninput/output ratio is %e.',attenuation,alpha,attenuation_loss,total_loss,power_ratio);\n",
"printf('\nAs signal attenuation is approximately equal to 10^5, we can say that line is very lossy.');"
   ]
   }
,
{
		   "cell_type": "markdown",
		   "metadata": {},
		   "source": [
			"## Example 4.6_1: attenuation.sce"
		   ]
		  },
  {
"cell_type": "code",
	   "execution_count": null,
	   "metadata": {
	    "collapsed": true
	   },
	   "outputs": [],
"source": [
"// Example 4.6.1 \n",
"clc;\n",
"clear;\n",
"beta_c=8d-11;        //isothermal compressibility\n",
"n=1.46;     //refractive index\n",
"P=0.286;    //photoelastic constat\n",
"k=1.38d-23; //Boltzmnn constant\n",
"T=1500;     //temperature\n",
"L=1000;     //length\n",
"lamda=1000d-9;  //wavelength\n",
"gamma_r = 8*(3.14^3)*(P^2)*(n^8)*beta_c*k*T/(3*(lamda^4));      //computing coefficient\n",
"attenuation=%e^(-gamma_r*L);        //computing attenuation\n",
"printf('\nAttenuation due to Rayleigh scattering is %.3f.',attenuation);"
   ]
   }
,
{
		   "cell_type": "markdown",
		   "metadata": {},
		   "source": [
			"## Example 4.6_2: attenuation.sce"
		   ]
		  },
  {
"cell_type": "code",
	   "execution_count": null,
	   "metadata": {
	    "collapsed": true
	   },
	   "outputs": [],
"source": [
"// Example 4.6.2 \n",
"clc;\n",
"clear;\n",
"beta_c=7d-11;        //isothermal compressibility\n",
"n=1.46;     //refractive index\n",
"P=0.29;    //photoelastic constat\n",
"k=1.38d-23; //Boltzmnn constant\n",
"T=1400;     //temperature\n",
"L=1000;     //length\n",
"lamda=0.7d-6;  //wavelength\n",
"gamma_r = 8*(3.14^3)*(P^2)*(n^8)*beta_c*k*T/(3*(lamda^4));      //computing coefficient\n",
"attenuation=%e^(-gamma_r*L);        //computing attenuation\n",
"gamma_r=gamma_r*1000;\n",
"printf('\nRaleigh Scattering corfficient is %.3f * 10^-3 per meter\n',gamma_r);\n",
"printf('\nNOTE - in quetion they have asked for attenuation but in solution they have not calcualted\n');\n",
"printf('\nAttenuation due to Rayleigh scattering is %.3f',attenuation);\n",
"//answer for Raleigh Scattering corfficient in the book is given as 0.804d-3, deviation of 0.003d-3"
   ]
   }
,
{
		   "cell_type": "markdown",
		   "metadata": {},
		   "source": [
			"## Example 4.7_1: threshold_power.sce"
		   ]
		  },
  {
"cell_type": "code",
	   "execution_count": null,
	   "metadata": {
	    "collapsed": true
	   },
	   "outputs": [],
"source": [
"// Example 4.7.1 \n",
"clc;\n",
"clear;\n",
"d=5;     //core diameter\n",
"alpha=0.4;  //attenuation\n",
"B=0.5;    //Bandwidth\n",
"lamda=1.4;   //wavelength\n",
"PB=4.4d-3*d^2*lamda^2*alpha*B;      //computing threshold power for SBS\n",
"PR=5.9d-2*d^2*lamda*alpha;      //computing threshold power for SRS\n",
"PB=PB*10^3;\n",
"PR=PR*10^3;\n",
"printf('\nThreshold power for SBS is %.1f mW.\nThreshold power for SRS is %.3f mW.',PB,PR);\n",
"printf('\nNOTE - Calculation error in the book while calculating threshold for SBS.\nAlso, while calculating SRS, formula is taken incorrectly, Bandwidth is multiplied in second step, which is not in the formula.');\n",
"//Calculation error in the book while calculating threshold for SBS. Also, while calculating SRS, formula is taken incorrectly,Bandwidth is multiplied in second step, which is not in the formula\n",
"//answers in the book\n",
"//PB=30.8mW\n",
"//PR=0.413mW"
   ]
   }
,
{
		   "cell_type": "markdown",
		   "metadata": {},
		   "source": [
			"## Example 4.8_1: critical_radius.sce"
		   ]
		  },
  {
"cell_type": "code",
	   "execution_count": null,
	   "metadata": {
	    "collapsed": true
	   },
	   "outputs": [],
"source": [
"// Example 4.8.1 \n",
"clc;\n",
"clear;\n",
"n1=1.5;     //refractive index of core\n",
"delta=0.03/100;     //relative refractive index\n",
"lamda=0.82d-6;      //wavelength\n",
"n2=sqrt(n1^2-2*delta*n1^2);      //computing cladding refractive index\n",
"Rc=(3*n1^2*lamda)/(4*3.14*(n1^2-n2^2)^1.5);     //computing critical radius\n",
"Rc=Rc*10^3;\n",
"printf('\nCritical radius is %.1f micrometer.',Rc); \n",
"//answer in the book is 9 micrometer, deviation of 0.1 micrometer."
   ]
   }
,
{
		   "cell_type": "markdown",
		   "metadata": {},
		   "source": [
			"## Example 4.8_2: singal_mode_and_multi_mode.sce"
		   ]
		  },
  {
"cell_type": "code",
	   "execution_count": null,
	   "metadata": {
	    "collapsed": true
	   },
	   "outputs": [],
"source": [
"// Example 4.8.2\n",
"clc;\n",
"clear;\n",
"n1=1.45;     //refractive index of core\n",
"delta=3/100;     //relative refractive index\n",
"lamda=1.5d-6;      //wavelength\n",
"a=5d-6;     //core radius\n",
"n2=sqrt(n1^2-2*delta*n1^2);      //computing cladding refractive index\n",
"Rc=(3*n1^2*lamda)/(4*3.14*(n1^2-n2^2)^0.5);     //computing critical radius for single mode\n",
"Rc=Rc*10^6;\n",
"printf('\nCritical radius is %.2f micrometer',Rc);\n",
"lamda_cut_off= 2*3.14*a*n1*sqrt(2*delta)/2.405;\n",
"RcSM= (20*lamda/(n1-n2)^1.5)*(2.748-0.996*lamda/lamda_cut_off)^-3;      //computing critical radius for single mode\n",
"RcSM=RcSM*10^6;\n",
"printf('\nCritical radius for single mode fiber is %.2f micrometer.',RcSM);\n",
"printf('\nNOTE - Calculation error in the book.\n(2.748-0.996*lamda/lamda_cut_off)^-3; in this term raised to -3 is not taken in the book.');\n",
"//Calculation error in the book.(2.748-0.996*lamda/lamda_cut_off)^-3; in this term raised to -3 is not taken in the book.\n",
"//answer in the book is 7.23mm.(incorrect)"
   ]
   }
],
"metadata": {
		  "kernelspec": {
		   "display_name": "Scilab",
		   "language": "scilab",
		   "name": "scilab"
		  },
		  "language_info": {
		   "file_extension": ".sce",
		   "help_links": [
			{
			 "text": "MetaKernel Magics",
			 "url": "https://github.com/calysto/metakernel/blob/master/metakernel/magics/README.md"
			}
		   ],
		   "mimetype": "text/x-octave",
		   "name": "scilab",
		   "version": "0.7.1"
		  }
		 },
		 "nbformat": 4,
		 "nbformat_minor": 0
}
