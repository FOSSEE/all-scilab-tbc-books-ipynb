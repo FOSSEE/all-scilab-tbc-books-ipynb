{
"cells": [
 {
		   "cell_type": "markdown",
	   "metadata": {},
	   "source": [
       "# Chapter 2: optical fibers"
	   ]
	},
{
		   "cell_type": "markdown",
		   "metadata": {},
		   "source": [
			"## Example 2.12_1: cut_off_wavelength.sce"
		   ]
		  },
  {
"cell_type": "code",
	   "execution_count": null,
	   "metadata": {
	    "collapsed": true
	   },
	   "outputs": [],
"source": [
"// Example 2.12.1\n",
"clc;\n",
"clear;\n",
"a=4.5d-6;        //core diameter\n",
"delta=0.25/100;      //relative index difference\n",
"lamda=0.85d-6;       //operating wavelength\n",
"n1=1.46;     //core refractive index\n",
"v= 2*%pi*a*n1*sqrt(2*delta)/lamda;      //computing normalized frequency\n",
"lamda_cut_off=v*lamda/2.405;        //computing cut off wavelength\n",
"lamda_cut_off=lamda_cut_off*10^9;\n",
"printf('\nCut off wavelength is %.d nanometer.',lamda_cut_off);\n",
"printf('\n\nWhen delta is 1.25 percent-');\n",
"delta=1.25/100;\n",
"v= 2*%pi*a*n1*sqrt(2*delta)/lamda;      //computing normalized frequency\n",
"lamda_cut_off=v*lamda/2.405;        //computing cut off wavelength\n",
"lamda_cut_off=lamda_cut_off*10^7;\n",
"lamda_cut_off=round(lamda_cut_off);\n",
"lamda_cut_off=lamda_cut_off*100;\n",
"printf('\nCut off wavelength is %.d nanometer.',lamda_cut_off);\n",
"\n",
"//answer in the book for cut off wavelength in the book is given as 1214nm, deviation of 1nm."
   ]
   }
,
{
		   "cell_type": "markdown",
		   "metadata": {},
		   "source": [
			"## Example 2.12_2: cut_off_number.sce"
		   ]
		  },
  {
"cell_type": "code",
	   "execution_count": null,
	   "metadata": {
	    "collapsed": true
	   },
	   "outputs": [],
"source": [
"// Example 2.12.2\n",
"clc;\n",
"clear;\n",
"a=50d-6;        //core radius\n",
"lamda=1500d-9;       //operating wavelength\n",
"n1=2.53;     //core refractive index\n",
"n2=1.5;     //cladding refractive index\n",
"delta=(n1-n2)/n1;       //computing delta\n",
"v= 2*3.14*a*n1*sqrt(2*delta)/lamda;      //computing normalized frequency\n",
"M=(v)^2/2;      //computing guided modes\n",
"printf('\nNormalized Frequency is %.1f\nTotal number of guided modes are %.d',v,M);\n",
"printf('\nNOTE - Calculation error in book. \n Normalized frequency is 477, it is calculated as 47.66');\n",
"\n",
"//Calculation error in book. Normalized frequency is 477, it is calculated as 47.66, hence answers after that are erroneous.\n",
"//answers  in the book\n",
"//normalized frequency = 48.(incorrect)\n",
"//guided modes = 1152.(incorrect)"
   ]
   }
,
{
		   "cell_type": "markdown",
		   "metadata": {},
		   "source": [
			"## Example 2.12_3: guided_modes.sce"
		   ]
		  },
  {
"cell_type": "code",
	   "execution_count": null,
	   "metadata": {
	    "collapsed": true
	   },
	   "outputs": [],
"source": [
"// Example 2.12.3 \n",
"clc;\n",
"clear;\n",
"core_diameter=8d-6;        //core diameter\n",
"delta=0.92/100;      //relative index difference\n",
"lamda=1550d-9;       //operating wavelength\n",
"n1=1.45;     //core refractive index\n",
"a=core_diameter/2;      //computing core radius\n",
"v= 2*%pi*a*n1*sqrt(2*delta)/lamda;      //computing normalized frequency\n",
"M=(v)^2/2;      //computing guided modes\n",
"printf('\nNormalized Frequency is %.1f.\nTotal number of guided modes are %.d.',v,M);"
   ]
   }
,
{
		   "cell_type": "markdown",
		   "metadata": {},
		   "source": [
			"## Example 2.12_4: delay_diffrence.sce"
		   ]
		  },
  {
"cell_type": "code",
	   "execution_count": null,
	   "metadata": {
	    "collapsed": true
	   },
	   "outputs": [],
"source": [
"// Example 2.12.4 \n",
"clc;\n",
"clear;\n",
"delta=1/100;      //relative index difference\n",
"n1=1.5;     //core refractive index\n",
"c=3d8;\n",
"L=6;\n",
"n2=sqrt(n1^2-2*delta*n1^2);      //computing refractive index of cladding\n",
"delta_T=L*n1^2*delta/(c*n2);    //computing pulse broadning\n",
"delta_T=delta_T*10^11;\n",
"delta_T=round(delta_T);\n",
"printf('\nDelay difference between slowest and fastest mode is %d ns/km.',delta_T);\n",
"printf('\nThis means that a pulse broadnes by %d ns after travel time a distance of %d km.',delta_T,L);\n",
""
   ]
   }
,
{
		   "cell_type": "markdown",
		   "metadata": {},
		   "source": [
			"## Example 2.17_1: entrance_angle.sce"
		   ]
		  },
  {
"cell_type": "code",
	   "execution_count": null,
	   "metadata": {
	    "collapsed": true
	   },
	   "outputs": [],
"source": [
"// Example 2.17.1 \n",
"clc;\n",
"clear;\n",
"n1=1.48;        //core refractive index\n",
"n2=1.46;        //cladding refractive index\n",
"phi = asind(n2/n1);     //computing critical angle\n",
"NA = sqrt(n1^2 - n2^2); //computing numericla aperture\n",
"theta= asind(NA);       //computing acceptance angle\n",
"printf('\nCritical angle is %.2f degrees.\nNumerical aperture is %.3f.\nAcceptance angle is %.2f degree.',phi,NA,theta);\n",
"//answers in the book\n",
"//Critical angle is 80.56 degrees, deviation of 0.01.\n",
"//Numerical aperture is 0.244, deviation of 0.002.\n",
"//Acceptance angle is 14.17 degree, deviation of 0.14."
   ]
   }
,
{
		   "cell_type": "markdown",
		   "metadata": {},
		   "source": [
			"## Example 2.4_1: NA_and_critical_angle.sce"
		   ]
		  },
  {
"cell_type": "code",
	   "execution_count": null,
	   "metadata": {
	    "collapsed": true
	   },
	   "outputs": [],
"source": [
"// Example 2.4.1:Numerical Aperture and critical angle\n",
"clc;\n",
"clear;\n",
"close;\n",
"n1=1.46;//refractive index\n",
"d=0.01;//difference\n",
"na=n1*sqrt(2*d);//numerical aperture\n",
"x=1-d;//\n",
"oc=asind(x);//in degree\n",
"disp(na,'numerical aperture is')\n",
"disp(oc,'critical angle at core cladding interface is ,(degree)=')"
   ]
   }
,
{
		   "cell_type": "markdown",
		   "metadata": {},
		   "source": [
			"## Example 2.5_1: criticle_anlge_NA_nad_accerptance_angle.sce"
		   ]
		  },
  {
"cell_type": "code",
	   "execution_count": null,
	   "metadata": {
	    "collapsed": true
	   },
	   "outputs": [],
"source": [
"// Example 2.5.1:Numerical Aperture ,critical angle and acceptance angle\n",
"clc;\n",
"clear;\n",
"close;\n",
"n2=1.45;//core refrative index\n",
"n1=1.49;//cladding refrative index\n",
"oc=asind(n2/n1);//in degree\n",
"na=sqrt(n1^2-n2^2);//numerical aperture\n",
"pc=asind(na);//degree\n",
"disp(oc,'critical angle is,(degree)=')\n",
"disp(na,'numerical aperture is,=')\n",
"disp(pc,'acceptance angle is,(degree)=')"
   ]
   }
,
{
		   "cell_type": "markdown",
		   "metadata": {},
		   "source": [
			"## Example 2.5_2: refractive_index.sce"
		   ]
		  },
  {
"cell_type": "code",
	   "execution_count": null,
	   "metadata": {
	    "collapsed": true
	   },
	   "outputs": [],
"source": [
"// Example 2.5.2\n",
"clc;\n",
"clear;\n",
"delta = 1.2/100;      // Relative refractive difference index\n",
"n1=1.45;        // Core refractive index \n",
"NA= n1*sqrt(2*delta);       //computing numerical aperture\n",
"Acceptance_angle = asind(NA);   //computing acceptance angle\n",
"si = %pi * NA^2;        //computing solid acceptance angle\n",
"printf('\nNumerical aperture is %.3f.\nAcceptance angle is %.2f degree.\nSolid acceptance angle is %.3f radians.',NA,Acceptance_angle,si);\n",
"//answer in the book for Numerical aperture is 0.224, deviation of 0.001\n",
"//answer in the book for solid acceptance angle is 0.157, deviation of 0.002"
   ]
   }
,
{
		   "cell_type": "markdown",
		   "metadata": {},
		   "source": [
			"## Example 2.5_3: acceptance_angle.sce"
		   ]
		  },
  {
"cell_type": "code",
	   "execution_count": null,
	   "metadata": {
	    "collapsed": true
	   },
	   "outputs": [],
"source": [
"// Example 2.5.3\n",
"clc;\n",
"clear;\n",
"NA = 0.45;      // Numerical Aperture\n",
"Acceptance_angle = asind(NA);   //computing acceptance angle.\n",
"printf('\nAcceptance angle is %.1f degree.',Acceptance_angle);"
   ]
   }
,
{
		   "cell_type": "markdown",
		   "metadata": {},
		   "source": [
			"## Example 2.5_4: full_cone_angle.sce"
		   ]
		  },
  {
"cell_type": "code",
	   "execution_count": null,
	   "metadata": {
	    "collapsed": true
	   },
	   "outputs": [],
"source": [
"// Example 2.5.4\n",
"clc;\n",
"clear;\n",
"diameter = 1;       //Diameter in centimeter\n",
"Focal_length = 10;      //Focal length in centimeter\n",
"radius=diameter/2;  //computing radius\n",
"Acceptance_angle = atand(radius/Focal_length);  //computing acceptance angle\n",
"Conical_full_angle = 2*Acceptance_angle;        //computing conical angle\n",
"Solid_acceptance_angle = %pi*Acceptance_angle^2;    //computing solid acceptance angle\n",
"NA = sqrt(Solid_acceptance_angle/%pi);      //computing Numerical aperture\n",
"printf('\nNumerical aperture is %.2f.\nConical full angle is %.2f degree.',NA,Conical_full_angle);\n",
"\n",
""
   ]
   }
,
{
		   "cell_type": "markdown",
		   "metadata": {},
		   "source": [
			"## Example 2.6_1: acceptance_angle.sce"
		   ]
		  },
  {
"cell_type": "code",
	   "execution_count": null,
	   "metadata": {
	    "collapsed": true
	   },
	   "outputs": [],
"source": [
"// Example 2.6.1\n",
"clc;\n",
"clear;\n",
"NA = 0.45       //Numerical aperture\n",
"betaB = 45       // Skew ray change direction by 90 degree at each reflection\n",
"Meridional_theta = asind(NA);   //computing acceptacne angle for meridoinal ray\n",
"Skew_theta = asind(NA/cosd(betaB));  //computing acceptacne angle for skew ray\n",
"printf('\nAcceptacne angle for Meridoinal ray is %.2f degree.\nAcceptance angle for Skew ray %.1f degree.',Meridional_theta,Skew_theta);"
   ]
   }
,
{
		   "cell_type": "markdown",
		   "metadata": {},
		   "source": [
			"## Example 2.8_1: normalized_frequency_and_guided_modes.sce"
		   ]
		  },
  {
"cell_type": "code",
	   "execution_count": null,
	   "metadata": {
	    "collapsed": true
	   },
	   "outputs": [],
"source": [
"// Example 2.8.1\n",
"clc;\n",
"clear;\n",
"core_diameter=78d-6;        //core diameter\n",
"delta=1.4/100;      //relative index difference\n",
"lamda=0.8d-6;       //operating wavelength\n",
"n1=1.47;     //core refractive index\n",
"a=core_diameter/2;      //computing core radius\n",
"v= 2*3.14*a*n1*sqrt(2*delta)/lamda;      //computing normalized frequency\n",
"M=(v)^2/2;      //computing guided modes\n",
"printf('\nNormalized Frequency is %.3f.\nTotal number of guided modes are %.1f',v,M);\n",
"//answer in the book for normalized frequency is given as 75.156(incorrect) and for Guided modes is 5648.5(incorrect)"
   ]
   }
,
{
		   "cell_type": "markdown",
		   "metadata": {},
		   "source": [
			"## Example 2.8_2: cutoff_wavelength.sce"
		   ]
		  },
  {
"cell_type": "code",
	   "execution_count": null,
	   "metadata": {
	    "collapsed": true
	   },
	   "outputs": [],
"source": [
"// Example 2.8.2\n",
"clc;\n",
"clear;\n",
"n1=1.47     //refractive index of core\n",
"a=4.3d-6;       //radius of core\n",
"delta=0.2/100       //relative index difference\n",
"lamda= 2*3.14*a*n1*sqrt(2*delta)/2.405;     //computing wavelength\n",
"lamda=lamda*10^9;\n",
"printf('Wavelength of fiber is %d nm.',lamda);\n",
"//answer in the book is given as 1230nm which is incorrect."
   ]
   }
,
{
		   "cell_type": "markdown",
		   "metadata": {},
		   "source": [
			"## Example 2.8_3: solid_angle.sce"
		   ]
		  },
  {
"cell_type": "code",
	   "execution_count": null,
	   "metadata": {
	    "collapsed": true
	   },
	   "outputs": [],
"source": [
"// Example 2.8.3 \n",
"clc;\n",
"clear;\n",
"n1=1.482;       //refractive index of core\n",
"n2=1.474;       //refractive index of cladding\n",
"lamda=820d-9;       //Wavelength\n",
"NA=sqrt(n1^2 - n2^2);       //computing Numerical aperture\n",
"theta= asind(NA);        //computing acceptance angle\n",
"solid_angle=%pi*(NA)^2;     //computing solid angle\n",
"a=2.405*lamda/(2*3.14*NA);      //computing core radius\n",
"a=a*10^6;\n",
"printf('\nNumerical aperture is %.3f.\nAcceptance angle is %.1f degrees.\nSolid angle is %.3f radians.\nCore radius is %.2f micrometer.',NA,theta,solid_angle,a);\n",
"//answer in the book for Numerical aperture is 0.155, deviation of 0.001.\n",
"//answer in the book for acceptance angle is 8.9, deviation of 0.1.\n",
"//answer in the book for solid acceptance angle is 0.075, deviation of 0.001.\n",
"//answer in the book for core radius is 2.02 micrometer, deviation of 0.02 micrometer."
   ]
   }
,
{
		   "cell_type": "markdown",
		   "metadata": {},
		   "source": [
			"## Example 2.8_4: normalized_frequency.sce"
		   ]
		  },
  {
"cell_type": "code",
	   "execution_count": null,
	   "metadata": {
	    "collapsed": true
	   },
	   "outputs": [],
"source": [
"// Example 2.8.4\n",
"clc;\n",
"clear;\n",
"NA=0.16     //Numerical aperture\n",
"n1=1.45     //core refractive index\n",
"d=60d-6     //core diameter\n",
"lamda=0.82d-6       //wavelength\n",
"a=d/2;      //core radius\n",
"v=2*3.14*a*NA/lamda;        //computing normalized frequency\n",
"v=round(v);\n",
"M=v^2/2;        //computing guided modes\n",
"M=floor(M);\n",
"printf('if normalized frequency is taken as %d, then %d guided modes.',v,M);"
   ]
   }
,
{
		   "cell_type": "markdown",
		   "metadata": {},
		   "source": [
			"## Example 2.8_5: guided_modes.sce"
		   ]
		  },
  {
"cell_type": "code",
	   "execution_count": null,
	   "metadata": {
	    "collapsed": true
	   },
	   "outputs": [],
"source": [
"// Example 2.8.5\n",
"clc;\n",
"clear;\n",
"NA=0.2;     //Numericla aperture\n",
"d=50d-6;        //Diameter of core\n",
"lamda=1d-6;      //Wavelength\n",
"a=d/2;      //computing radius\n",
"v=2*3.14*a*NA/lamda;    //computing normalized frequency\n",
"Mg=v^2/4;       //computing mode volume for parabollic profile\n",
"Mg=round(Mg);\n",
"printf('\nNormalized Frequency is %.1f.\nTotal number of guided modes are %.d.',v,Mg);\n",
"//answer in the book for guided modes is 247, deviation of 1."
   ]
   }
,
{
		   "cell_type": "markdown",
		   "metadata": {},
		   "source": [
			"## Example 2.8_6: core_diameter.sce"
		   ]
		  },
  {
"cell_type": "code",
	   "execution_count": null,
	   "metadata": {
	    "collapsed": true
	   },
	   "outputs": [],
"source": [
"// Example 2.8.6\n",
"clc;\n",
"clear;\n",
"delta=0.015;        //relative refractive index\n",
"n1=1.48;     //core refractive index\n",
"lamda=0.85d-6;     //wavelength\n",
"a=(2.4*lamda)/(2*3.14*n1*sqrt(2*delta));        //computing radius of core\n",
"d=2*a;      //computing diameter of core\n",
"a=a*10^7;\n",
"a=round(a);\n",
"a=a/10\n",
"d=d*10^6;\n",
"printf('\nCore radius is %.1f micrometer.\nCore diameter is %.1f micrometer.',a,2*a);\n",
"printf('\n\nWhen delta is reduced by 10 percent-');\n",
"delta=0.0015;\n",
"a=(2.4*lamda)/(2*3.14*n1*sqrt(2*delta));        //computing radius of core\n",
"d=2*a;      //computing diameter of core\n",
"a=a*10^7;\n",
"a=round(a);\n",
"a=a/10\n",
"d=d*10^6;\n",
"printf('\nCore radius is %.1f micrometer.\nCore diameter is %.1f micrometer.',a,2*a);"
   ]
   }
,
{
		   "cell_type": "markdown",
		   "metadata": {},
		   "source": [
			"## Example 2.8_7: guided_modes.sce"
		   ]
		  },
  {
"cell_type": "code",
	   "execution_count": null,
	   "metadata": {
	    "collapsed": true
	   },
	   "outputs": [],
"source": [
"// Example 2.8.7\n",
"clc;\n",
"clear;\n",
"NA=0.25;     //Numericla aperture\n",
"d=45d-6;        //Diameter of core\n",
"lamda=1.5d-6;      //Wavelength\n",
"a=d/2;      //computing radius\n",
"v=2*3.14*a*NA/lamda;    //computing normalized frequency\n",
"Mg=v^2/4;       //computing mode volume for parabollic profile\n",
"Mg=round(Mg);\n",
"printf('\nNormalized Frequency is %.1f.\nTotal number of guided modes are %.d.',v,Mg);\n",
"//answer in the book for normalized frequency is 23.55, deviation 0.05"
   ]
   }
,
{
		   "cell_type": "markdown",
		   "metadata": {},
		   "source": [
			"## Example 2.8_8: guided_modes.sce"
		   ]
		  },
  {
"cell_type": "code",
	   "execution_count": null,
	   "metadata": {
	    "collapsed": true
	   },
	   "outputs": [],
"source": [
"// Example 2.8.8\n",
"clc;\n",
"clear;\n",
"NA=0.25;     //Numericla aperture\n",
"d=45d-6;        //Diameter of core\n",
"lamda=1.2d-6;      //Wavelength\n",
"a=d/2;      //computing radius\n",
"v=2*3.14*a*NA/lamda;    //computing normalized frequency\n",
"Mg=v^2/4;       //computing mode volume for parabollic profile\n",
"Mg=round(Mg);\n",
"printf('\nNormalized Frequency is %.1f.\nTotal number of guided modes are %.d.',v,Mg);\n",
"printf('\n\nNOTE - In the question NA is given 0.22. However while solving it is taken as 0.25');\n",
"// answer in the book for number of guided modes is given as 216, deviation of 1.\n",
"\n",
"printf('\nHence solving for NA = 0.22 also,');\n",
"printf('\n\nWhen NA=0.22');\n",
"NA=0.22;     //Numericla aperture\n",
"d=45d-6;        //Diameter of core\n",
"lamda=1.2d-6;      //Wavelength\n",
"a=d/2;      //computing radius\n",
"v=2*3.14*a*NA/lamda;    //computing normalized frequency\n",
"Mg=v^2/4;       //computing mode volume for parabollic profile\n",
"Mg=round(Mg);\n",
"printf('\nNormalized Frequency is %.1f.\nTotal number of guided modes are %.d.',v,Mg);\n",
"\n",
""
   ]
   }
,
{
		   "cell_type": "markdown",
		   "metadata": {},
		   "source": [
			"## Example 2.8_9: cut_off_parameter.sce"
		   ]
		  },
  {
"cell_type": "code",
	   "execution_count": null,
	   "metadata": {
	    "collapsed": true
	   },
	   "outputs": [],
"source": [
"// Example 2.8.9\n",
"clc;\n",
"clear;\n",
"n1=1.54;        //refractive index of core\n",
"n2=1.5;     //refractive index of cladding\n",
"a=25d-6;        //Radius of core\n",
"lamda=1.3d-6;      //Wavelength\n",
"NA=sqrt(n1^2-n2^2);\n",
"v=2*3.14*a*NA/lamda;    //computing normalized frequency\n",
"v=round(v);\n",
"Mg=v^2/4;       //computing mode volume for parabollic profile\n",
"Mg=round(Mg);\n",
"lamda_cut_off=v*lamda/2.405;    //computing cut off wavelength\n",
"lamda_cut_off=lamda_cut_off*10^6;\n",
"printf('\nNormalized Frequency is %.d.\nTotal number of guided modes are %.d.\nCut off wavelength is %.1f micrometer.',v,Mg,lamda_cut_off);"
   ]
   }
,
{
		   "cell_type": "markdown",
		   "metadata": {},
		   "source": [
			"## Example 2.9_1: modal_birefringence.sce"
		   ]
		  },
  {
"cell_type": "code",
	   "execution_count": null,
	   "metadata": {
	    "collapsed": true
	   },
	   "outputs": [],
"source": [
"// Example 2.9.1\n",
"clc;\n",
"clear;\n",
"L_BL=8d-2;   //beat length\n",
"Br=2*3.14/L_BL;     //computing modal briefringence\n",
"printf('\nModal briefringence is %.1f per meter.',Br);"
   ]
   }
,
{
		   "cell_type": "markdown",
		   "metadata": {},
		   "source": [
			"## Example 2.9_2: output_power.sce"
		   ]
		  },
  {
"cell_type": "code",
	   "execution_count": null,
	   "metadata": {
	    "collapsed": true
	   },
	   "outputs": [],
"source": [
"// Example 2.9.2\n",
"clc;\n",
"clear;\n",
"Pin=500d-6;     //input power\n",
"L=200;      //length of fiber\n",
"loss=2;     //loss associated with fiber\n",
"Pin_dbm=10 * log10 (Pin/(10^-3));   //computing input power in dBm\n",
"Pin_dbm=round(Pin_dbm);\n",
"Pout_dbm=Pin_dbm-L*loss;        //computing output power level\n",
"Pout= 10^(Pout_dbm/10);\n",
"printf('Output power is %.2e mW.',Pout);"
   ]
   }
,
{
		   "cell_type": "markdown",
		   "metadata": {},
		   "source": [
			"## Example 4.q: birefringence.sce"
		   ]
		  },
  {
"cell_type": "code",
	   "execution_count": null,
	   "metadata": {
	    "collapsed": true
	   },
	   "outputs": [],
"source": [
"// Question 4  \n",
"clc;\n",
"clear;\n",
"L_BL=8d-2;   //beat length\n",
"Br=2*3.14/L_BL;     //computing modal briefringence\n",
"printf('\nModal briefringence is %.1f per meter.',Br);"
   ]
   }
,
{
		   "cell_type": "markdown",
		   "metadata": {},
		   "source": [
			"## Example 5.q: modal_birefringence.sce"
		   ]
		  },
  {
"cell_type": "code",
	   "execution_count": null,
	   "metadata": {
	    "collapsed": true
	   },
	   "outputs": [],
"source": [
"// Question 5 \n",
"clc;\n",
"clear;\n",
"L_BL=0.6d-3;   //beat length\n",
"lamda=1.4d-6;   //wavelength\n",
"L_BL1=70;\n",
"Bh=lamda/L_BL;     //computing high briefringence\n",
"Bl=lamda/L_BL1;     //computing low briefringence\n",
"printf('\nHigh briefringence is %.2e.\nLow briefringence is %.1e.',Bh,Bl);"
   ]
   }
],
"metadata": {
		  "kernelspec": {
		   "display_name": "Scilab",
		   "language": "scilab",
		   "name": "scilab"
		  },
		  "language_info": {
		   "file_extension": ".sce",
		   "help_links": [
			{
			 "text": "MetaKernel Magics",
			 "url": "https://github.com/calysto/metakernel/blob/master/metakernel/magics/README.md"
			}
		   ],
		   "mimetype": "text/x-octave",
		   "name": "scilab",
		   "version": "0.7.1"
		  }
		 },
		 "nbformat": 4,
		 "nbformat_minor": 0
}
