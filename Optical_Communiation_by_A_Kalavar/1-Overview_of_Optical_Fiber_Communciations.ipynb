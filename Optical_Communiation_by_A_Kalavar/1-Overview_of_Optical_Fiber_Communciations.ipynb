{
"cells": [
 {
		   "cell_type": "markdown",
	   "metadata": {},
	   "source": [
       "# Chapter 1: Overview of Optical Fiber Communciations"
	   ]
	},
{
		   "cell_type": "markdown",
		   "metadata": {},
		   "source": [
			"## Example 10.q: duratio.sce"
		   ]
		  },
  {
"cell_type": "code",
	   "execution_count": null,
	   "metadata": {
	    "collapsed": true
	   },
	   "outputs": [],
"source": [
"// Question 10\n",
"clc;\n",
"clear;\n",
"Bit_rate = 2d12;      // bit rate of channel\n",
"// Given sequence is 010111101110\n",
"Shortest_duration = 1 * (1/Bit_rate);     // shortest duration is '1'\n",
"Widest_duration = 4 * (1/Bit_rate);     //widest duration is '1111'\n",
"Shortest_duration=Shortest_duration*10^12;       //Converting into nano seconds\n",
"Widest_duration=Widest_duration*10^12;       //Converting into nano seconds\n",
"printf('\nShortest duration is %.1f nano second.',Shortest_duration);\n",
"printf('\nWidest duration is %d nano second.',Widest_duration);"
   ]
   }
,
{
		   "cell_type": "markdown",
		   "metadata": {},
		   "source": [
			"## Example 1.12_1: capacity.sce"
		   ]
		  },
  {
"cell_type": "code",
	   "execution_count": null,
	   "metadata": {
	    "collapsed": true
	   },
	   "outputs": [],
"source": [
"// Example 1.12.1\n",
"clc;\n",
"clear;\n",
"Bandwidth = 2d6;     //Bandwidth of channel\n",
"Signal_to_Noise_ratio = 1;              //Signal to Noise ratio of channel\n",
"Capacity = Bandwidth * log2(1 + Signal_to_Noise_ratio); //computing capacity\n",
"Capacity=Capacity/10^6;\n",
"printf('Maximum capacity of channel is %d Mb/sec.',Capacity);"
   ]
   }
,
{
		   "cell_type": "markdown",
		   "metadata": {},
		   "source": [
			"## Example 1.6_1: duratio.sce"
		   ]
		  },
  {
"cell_type": "code",
	   "execution_count": null,
	   "metadata": {
	    "collapsed": true
	   },
	   "outputs": [],
"source": [
"// Example 1.6.1\n",
"clc;\n",
"clear;\n",
"Bit_rate = 2d9;      // bit rate of channel\n",
"// Given sequence is 010111101110\n",
"Shortest_duration = 1 * (1/Bit_rate);     // shortest duration is '1'\n",
"Widest_duration = 4 * (1/Bit_rate);     //widest duration is '1111'\n",
"Shortest_duration=Shortest_duration*10^9;       //Converting into nano seconds\n",
"Widest_duration=Widest_duration*10^9;       //Converting into nano seconds\n",
"printf('\nShortest duration is %.1f nano second.',Shortest_duration);\n",
"printf('\nWidest duration is %d nano second.',Widest_duration);"
   ]
   }
],
"metadata": {
		  "kernelspec": {
		   "display_name": "Scilab",
		   "language": "scilab",
		   "name": "scilab"
		  },
		  "language_info": {
		   "file_extension": ".sce",
		   "help_links": [
			{
			 "text": "MetaKernel Magics",
			 "url": "https://github.com/calysto/metakernel/blob/master/metakernel/magics/README.md"
			}
		   ],
		   "mimetype": "text/x-octave",
		   "name": "scilab",
		   "version": "0.7.1"
		  }
		 },
		 "nbformat": 4,
		 "nbformat_minor": 0
}
