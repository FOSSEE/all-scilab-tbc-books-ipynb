{
"cells": [
 {
		   "cell_type": "markdown",
	   "metadata": {},
	   "source": [
       "# Chapter 6: optical sources"
	   ]
	},
{
		   "cell_type": "markdown",
		   "metadata": {},
		   "source": [
			"## Example 6.3_1: operating_wavelength.sce"
		   ]
		  },
  {
"cell_type": "code",
	   "execution_count": null,
	   "metadata": {
	    "collapsed": true
	   },
	   "outputs": [],
"source": [
"// Example 6.3.1  \n",
"clc;\n",
"clear;\n",
"x=0.07;\n",
"Eg=1.424+1.266*x+0.266*x^2;\n",
"lamda=1.24/Eg;      //computing wavelength\n",
"printf('\nWavlength is %.3f micrometer.',lamda);"
   ]
   }
,
{
		   "cell_type": "markdown",
		   "metadata": {},
		   "source": [
			"## Example 6.3_2: longitudinal_modes.sce"
		   ]
		  },
  {
"cell_type": "code",
	   "execution_count": null,
	   "metadata": {
	    "collapsed": true
	   },
	   "outputs": [],
"source": [
"// Example 6.3.2  page 6.12\n",
"\n",
"clc;\n",
"clear;\n",
"\n",
"n=1.7;      //refractive index\n",
"L=5d-2;     //distance between mirror\n",
"c=3d8;      //speed of light\n",
"lamda=0.45d-6;  //wavelength\n",
"\n",
"k=2*n*L/lamda;      //computing number of modes\n",
"delf=c/(2*n*L);     //computing mode separation\n",
"delf=delf*10^-9;\n",
"\n",
"printf('\nNumber of modes are %.2e.\nFrequency separation is %.2f GHz.',k,delf);\n",
""
   ]
   }
,
{
		   "cell_type": "markdown",
		   "metadata": {},
		   "source": [
			"## Example 6.7_1: power.sce"
		   ]
		  },
  {
"cell_type": "code",
	   "execution_count": null,
	   "metadata": {
	    "collapsed": true
	   },
	   "outputs": [],
"source": [
"// Example 6.7.1 \n",
"clc;\n",
"clear;\n",
"tr=50;      //radiative recombination lifetime\n",
"tnr=85;     //non-radiative recombination lifetime\n",
"h=6.624d-34;  //plank's constant\n",
"c=3d8;      //speed of light\n",
"q=1.6d-19;  //charge of electron\n",
"i=35d-3;    //current\n",
"lamda=0.85d-6;      //wavelength\n",
"t=tr*tnr/(tr+tnr);          //computing total recombination time\n",
"eta=t/tr;                   //computing internal quantum efficiency\n",
"Pint=eta*h*c*i/(q*lamda);   //computing internally generated power\n",
"Pint=Pint*10^3\n",
"printf('\nTotal recombinaiton time is %.2f ns.\nInternal quantum efficiency is %.3f.\nInternally generated power is %.1f mW.',t,eta,Pint);\n",
"//answer in the book for Internal quantum efficiency is 0.629, deviation of 0.001.\n",
"//answer in the book for Internally generated power is 32.16 mW, deviation of 0.04 mW."
   ]
   }
,
{
		   "cell_type": "markdown",
		   "metadata": {},
		   "source": [
			"## Example 6.8_1: bandwidth.sce"
		   ]
		  },
  {
"cell_type": "code",
	   "execution_count": null,
	   "metadata": {
	    "collapsed": true
	   },
	   "outputs": [],
"source": [
"// Example 6.8.1 \n",
"clc;\n",
"clear;\n",
"f1=10d6;    //frequency\n",
"f2=100d6\n",
"t=4d-9;\n",
"Pdc=280d-6;     //optincal output power\n",
"w1=2*%pi*f1;    //computing omega\n",
"Pout1=Pdc*10^6/(sqrt(1+(w1*t)^2));      //computing output power\n",
"w2=2*%pi*f2;    //computing omega\n",
"Pout2=Pdc*10^6/(sqrt(1+(w2*t)^2));      //computing output power\n",
"printf('Ouput power at 10 MHz is %.2f microwatt.\nOuput power at 100 MHz is %.2f microwatt.\nConclusion when device is drive at higher frequency the optical power reduces.\nNOTE - calculation error. In the book square term in the denominater is not taken.',Pout1,Pout2);\n",
"BWopt = sqrt(3)/(2*%pi*t);\n",
"BWelec = BWopt/sqrt(2);\n",
"BWopt=BWopt*10^-6;\n",
"BWelec=BWelec*10^-6;\n",
"printf('\n3 dB optical power is %.2f MHz.\n3 dB electrical power is %.2f MHz.',BWopt,BWelec);\n",
"//calculation error. In the book square term in the denominater is not taken.\n",
"//answers in the book - \n",
"//Ouput power at 10 MHz is 228.7 microwatt.(incorrect)\n",
"//Ouput power at 100 MHz is 175 microwatt.(incorrect)\n",
"//3 dB optical power is 68.8 MHz, deviation of 0.12\n",
"//3 dB electrical power is 48.79 MHz, deviation of 0.06 "
   ]
   }
,
{
		   "cell_type": "markdown",
		   "metadata": {},
		   "source": [
			"## Example 6.8_2: power.sce"
		   ]
		  },
  {
"cell_type": "code",
	   "execution_count": null,
	   "metadata": {
	    "collapsed": true
	   },
	   "outputs": [],
"source": [
"// Example 6.8.2 \n",
"clc;\n",
"clear;\n",
"n1=3.5;  //refractive index\n",
"n=1;    //refractive index of air\n",
"F=0.69; //transmission factor\n",
"eta = 100*(n1*(n1+1)^2)^-1;     //computing eta\n",
"printf('\neta external is %.1f percent i.e. small fraction of intrnally generated opticalpower is emitted from the device.',eta);\n",
"printf('\n\n OR we can also arrive at solution,\n');\n",
"r= 100*F*n^2/(4*n1^2);      //computing ratio of Popt/Pint\n",
"printf('\n Popt/Pint is %.1f percent',r);\n",
"printf('\nNOTE - printing mistake at final answer.\nThey have printed 40 percent it should be 1.4 percent');"
   ]
   }
,
{
		   "cell_type": "markdown",
		   "metadata": {},
		   "source": [
			"## Example 6.8_3: operating_lifetime.sce"
		   ]
		  },
  {
"cell_type": "code",
	   "execution_count": null,
	   "metadata": {
	    "collapsed": true
	   },
	   "outputs": [],
"source": [
"// Example 6.8.3  \n",
"\n",
"clc;\n",
"clear;\n",
"\n",
"beta0=1.85d7;\n",
"T=293;      //temperature\n",
"k=1.38d-23; //Boltzman constant\n",
"Ea=0.9*1.6d-19;\n",
"theta=0.65; //thershold\n",
"\n",
"betar=beta0*%e^(-Ea/(k*T));\n",
"t=-log(theta)/betar;\n",
"\n",
"printf('\nDegradation rate is %.2e per hour.\nOperating lifetime is %.1e hour.',betar,t);\n",
"\n",
"//answer in the book for Degradation rate is 6.4e-09 per hour, deviation of 0.08e-9\n",
"//answer in the book for Operating lifetime is 6.7e+07 hour, deviaiton of 0.1e1"
   ]
   }
],
"metadata": {
		  "kernelspec": {
		   "display_name": "Scilab",
		   "language": "scilab",
		   "name": "scilab"
		  },
		  "language_info": {
		   "file_extension": ".sce",
		   "help_links": [
			{
			 "text": "MetaKernel Magics",
			 "url": "https://github.com/calysto/metakernel/blob/master/metakernel/magics/README.md"
			}
		   ],
		   "mimetype": "text/x-octave",
		   "name": "scilab",
		   "version": "0.7.1"
		  }
		 },
		 "nbformat": 4,
		 "nbformat_minor": 0
}
