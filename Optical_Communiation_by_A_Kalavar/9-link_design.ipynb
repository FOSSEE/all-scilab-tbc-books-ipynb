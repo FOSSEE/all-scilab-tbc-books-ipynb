{
"cells": [
 {
		   "cell_type": "markdown",
	   "metadata": {},
	   "source": [
       "# Chapter 9: link design"
	   ]
	},
{
		   "cell_type": "markdown",
		   "metadata": {},
		   "source": [
			"## Example 9.4_1: power_margi.sce"
		   ]
		  },
  {
"cell_type": "code",
	   "execution_count": null,
	   "metadata": {
	    "collapsed": true
	   },
	   "outputs": [],
"source": [
"// Example 9.4.1 \n",
"clc;\n",
"clear;\n",
"output=13;      //laser output\n",
"sensitivity=-31;    //APD sensitivity\n",
"coupling_loss=0.5;\n",
"L=80;   //length in km\n",
"sl=0.1; //loss correspond to one splice in dB\n",
"fl=0.35;    //fiber loss in dB/km\n",
"noise=1.5;\n",
"allowed_loss=output-sensitivity;\n",
"splices_loss=(L-1)*sl;\n",
"fiber_loss=L*fl;\n",
"margin=allowed_loss-(splices_loss+fiber_loss+coupling_loss+noise);\n",
"printf('\nFinal margin is %.1f dB.',margin);"
   ]
   }
,
{
		   "cell_type": "markdown",
		   "metadata": {},
		   "source": [
			"## Example 9.6_1: maximum_bit_rate.sce"
		   ]
		  },
  {
"cell_type": "code",
	   "execution_count": null,
	   "metadata": {
	    "collapsed": true
	   },
	   "outputs": [],
"source": [
"// Example 9.6.1  \n",
"clc;\n",
"clear;\n",
"L=10;\n",
"ts=10;\n",
"tD=8;\n",
"tmod=L*6;\n",
"tt=L*2;\n",
"Tsys=1.1*sqrt(ts^2+tmod^2+tt^2+tD^2);\n",
"Bt=0.7/Tsys;\n",
"Bt=Bt*10^3;\n",
"printf('Maximum bit rate for link using NRZ data format is %.2f Mbits/sec.',Bt);\n",
"printf('\nNOTE - calculation error in the book');\n",
"//calculation error in the book\n",
"//answer given in the book is 10.3mbits/sec.(incorrect)\n",
""
   ]
   }
],
"metadata": {
		  "kernelspec": {
		   "display_name": "Scilab",
		   "language": "scilab",
		   "name": "scilab"
		  },
		  "language_info": {
		   "file_extension": ".sce",
		   "help_links": [
			{
			 "text": "MetaKernel Magics",
			 "url": "https://github.com/calysto/metakernel/blob/master/metakernel/magics/README.md"
			}
		   ],
		   "mimetype": "text/x-octave",
		   "name": "scilab",
		   "version": "0.7.1"
		  }
		 },
		 "nbformat": 4,
		 "nbformat_minor": 0
}
