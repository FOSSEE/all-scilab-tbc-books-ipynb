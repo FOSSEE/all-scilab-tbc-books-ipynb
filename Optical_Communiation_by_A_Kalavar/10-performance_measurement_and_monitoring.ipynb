{
"cells": [
 {
		   "cell_type": "markdown",
	   "metadata": {},
	   "source": [
       "# Chapter 10: performance measurement and monitoring"
	   ]
	},
{
		   "cell_type": "markdown",
		   "metadata": {},
		   "source": [
			"## Example 10.5_1: pulse_broadning_and_optical_bandwidth.sce"
		   ]
		  },
  {
"cell_type": "code",
	   "execution_count": null,
	   "metadata": {
	    "collapsed": true
	   },
	   "outputs": [],
"source": [
"// Example 10.5.1 \n",
"clc;\n",
"clear;\n",
"To=12.6;    //width of output pulse\n",
"Ti=0.3;     //width of input pulse\n",
"l=1.2;      //length of measurement\n",
"Pulse_dispersion = sqrt(To^2 - Ti^2);   //computing pulse dispersion\n",
"PDKM=Pulse_dispersion/l;        //computing pulse dispersion per Kilometer\n",
"BW=0.44/PDKM;       //computing optical bandwidth\n",
"BW=BW*1000;\n",
"printf('\nPulse broadning is %.1f ns/km.\nOptical bandwidth is %.1f MHz.Km.',PDKM,BW);"
   ]
   }
,
{
		   "cell_type": "markdown",
		   "metadata": {},
		   "source": [
			"## Example 10.6_1: attenuation.sce"
		   ]
		  },
  {
"cell_type": "code",
	   "execution_count": null,
	   "metadata": {
	    "collapsed": true
	   },
	   "outputs": [],
"source": [
"// Example 10.6.1 \n",
"clc;\n",
"clear;\n",
"V2=12;\n",
"V1=2.5;\n",
"L2=3;\n",
"L1=0.004;\n",
"alpha_dB = 10* log10(V2/V1)/(L2-L1);\n",
"un = 0.2/(L2-L1);\n",
"printf('\nAttenuation is %.2f dB/km\nUncertainity +/- %.3f dB.',alpha_dB,un);\n",
"//answer for attenuation in the book is 2.26 deviation of 0.01 and for uncertaininty is 0.066 deviation of 0.001"
   ]
   }
],
"metadata": {
		  "kernelspec": {
		   "display_name": "Scilab",
		   "language": "scilab",
		   "name": "scilab"
		  },
		  "language_info": {
		   "file_extension": ".sce",
		   "help_links": [
			{
			 "text": "MetaKernel Magics",
			 "url": "https://github.com/calysto/metakernel/blob/master/metakernel/magics/README.md"
			}
		   ],
		   "mimetype": "text/x-octave",
		   "name": "scilab",
		   "version": "0.7.1"
		  }
		 },
		 "nbformat": 4,
		 "nbformat_minor": 0
}
