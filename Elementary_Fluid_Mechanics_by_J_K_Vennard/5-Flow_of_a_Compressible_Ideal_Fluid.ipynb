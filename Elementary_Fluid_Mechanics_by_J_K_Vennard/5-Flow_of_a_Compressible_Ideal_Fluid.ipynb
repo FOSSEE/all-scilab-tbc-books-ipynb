{
"cells": [
 {
		   "cell_type": "markdown",
	   "metadata": {},
	   "source": [
       "# Chapter 5: Flow of a Compressible Ideal Fluid"
	   ]
	},
{
		   "cell_type": "markdown",
		   "metadata": {},
		   "source": [
			"## Example 5.1: Chapter_5_Example_1.sce"
		   ]
		  },
  {
"cell_type": "code",
	   "execution_count": null,
	   "metadata": {
	    "collapsed": true
	   },
	   "outputs": [],
"source": [
"clear;\n",
"clc;\n",
"//page no. 152\n",
"v1 = 100;// fps\n",
"p1 = 50;// psia\n",
"T1 = 300;// degreeF\n",
"v2 = 500;// fps\n",
"Cp = 186.5;\n",
"gam = 1.4;\n",
"T2 = T1 - (v2^2 - v1^2)/(2*36.2*Cp);\n",
"p2 = p1*(1 - (v2^2 - v1^2)/(2*36.2*53.3*(T1+460)*(gam/(gam-1))))^(1/0.286);\n",
"printf('T2 = %d degreeF',T2);\n",
"printf('\n p2 = %.1f psia',p2);\n",
"//there is an error in the answer given in textbook"
   ]
   }
,
{
		   "cell_type": "markdown",
		   "metadata": {},
		   "source": [
			"## Example 5.2: Chapter_5_Example_2.sce"
		   ]
		  },
  {
"cell_type": "code",
	   "execution_count": null,
	   "metadata": {
	    "collapsed": true
	   },
	   "outputs": [],
"source": [
"clear;\n",
"clc;\n",
"\n",
"//page no. 153\n",
"\n",
"p1 = 300;// psia\n",
"T1 = 900;// degreeF\n",
"p2 = 200;// psia\n",
"T2 = 780;// degreeF\n",
"H2 = 1414;//Btu/lb\n",
"H1 = 1471;// Btu/lb\n",
"V2 = sqrt(2*31.1*778*(H1-H2));\n",
"printf('T2 = %d degreeF\n V2 = %d fps',T2,V2);"
   ]
   }
,
{
		   "cell_type": "markdown",
		   "metadata": {},
		   "source": [
			"## Example 5.3: Chapter_5_Example_3.sce"
		   ]
		  },
  {
"cell_type": "code",
	   "execution_count": null,
	   "metadata": {
	    "collapsed": true
	   },
	   "outputs": [],
"source": [
"clear;\n",
"clc;\n",
"\n",
"//page no. 155\n",
"\n",
"v = 586;// fps\n",
"p = 13;// psia\n",
"T = 0;// degreeF\n",
"gam = 1.4;\n",
"rho_0 = p*144/(32.2*53.3*(460+T));\n",
"a_0 = sqrt(gam*32.2*53.3*(T+460));\n",
"M_0 = v/a_0;\n",
"p_8_approx = p+(0.5/144)*rho_0*v^2 *(1+0.25*M_0^2);\n",
"p_8_exact = p*(1+M_0^2 *(gam-1)/2)^(gam/(gam-1));\n",
"T_8 = v^2 /(2*32.2*186.5) +460;\n",
"rho_8 = p_8_exact*144/(T_8*32.2*53.3);\n",
"printf('At stagnetion point, p = %.2f psia\n T = %.1f degreeR\n density = %.5f slug/cuft',p_8_exact,T_8,rho_8);"
   ]
   }
,
{
		   "cell_type": "markdown",
		   "metadata": {},
		   "source": [
			"## Example 5.4: Chapter_5_Example_4.sce"
		   ]
		  },
  {
"cell_type": "code",
	   "execution_count": null,
	   "metadata": {
	    "collapsed": true
	   },
	   "outputs": [],
"source": [
"clear;\n",
"clc;\n",
"\n",
"//page no. 161\n",
"\n",
"d = 1;// in\n",
"p = 100;// psi\n",
"T = 10;// degreeF\n",
"p_i = 80;//psi\n",
"p_b = 14.7;//psi\n",
"p1 = 16520;// psfa\n",
"gam1 = 0.553;// lb/cuft\n",
"k = 0.874;\n",
"G = (0.5*k*0.25*%pi*(d/12)^2 /(1-(2/3)^4)) *sqrt(2*32.2*(p-p_i)*144/gam1);\n",
"printf('flow rate = %.2f lb/sec',G);"
   ]
   }
,
{
		   "cell_type": "markdown",
		   "metadata": {},
		   "source": [
			"## Example 5.5: Chapter_5_Example_5.sce"
		   ]
		  },
  {
"cell_type": "code",
	   "execution_count": null,
	   "metadata": {
	    "collapsed": true
	   },
	   "outputs": [],
"source": [
"clear;\n",
"clc;\n",
"\n",
"//page no. 163\n",
"d = 1;// in\n",
"p_r = 100;//psi\n",
"T_r = 100;// degreeF\n",
"p_b = 14.7;// psi\n",
"p3 = 14.7;//psi\n",
"G = 2.03;// lb/sec\n",
"gam1 = 0.553;\n",
"gam = 1.4;\n",
"V3 = sqrt(2*32.2*(gam/(gam-1))*(p_r+p_b)*144/gam1 *(1-(p3/(p_r+p_b))^((gam-1)/gam)));\n",
"T3 = (T_r+460) - V3^2 /(2*32.2*186.5);\n",
"a3 = sqrt(gam*32.2*53.3*T3);\n",
"M3 = V3/a3;\n",
"A3 = G/(gam1*V3);\n",
"d3 = (A3/(0.25*%pi))^(1/2);\n",
"p3_dash = 103.3;// psia\n",
"p_B = p3*(1+ (2*gam/(gam+1))*(M3^2 -1));\n",
"printf('V3 = %d fps, a3 = %d fps,  M3 = %.2f ',V3,a3,M3);\n",
"printf('\n p3_dash = %.1f psia, p_B = %.1f psia',p3_dash,p_B);\n",
"\n",
"//there are minute errors in the answer given in textbook"
   ]
   }
,
{
		   "cell_type": "markdown",
		   "metadata": {},
		   "source": [
			"## Example 5.6: Chapter_5_Example_6.sce"
		   ]
		  },
  {
"cell_type": "code",
	   "execution_count": null,
	   "metadata": {
	    "collapsed": true
	   },
	   "outputs": [],
"source": [
"clear;\n",
"clc;\n",
"\n",
"//page no. 166\n",
"\n",
"V_0 = 586;// fps\n",
"t_0 = 0;// degreeF\n",
"P_0 = 13;// psia\n",
"a_0 = 1052;// fps\n",
"M_0 = 0.557;\n",
"V_A = 800;//fps\n",
"V_B = 900;//fps\n",
"gam = 1.4;\n",
"T_A = 488.5- V_A^2 /(2*32.2*186.5);\n",
"T_B = 488.5- V_B^2 /(2*32.2*186.5); \n",
"p_A = 16.18*(T_A/488.5)^(gam/(gam-1));\n",
"p_B = 16.18*(T_B/488.5)^(gam/(gam-1));\n",
"a_A = sqrt(gam*32.3*53.3*T_A);\n",
"a_B = sqrt(gam*32.3*53.3*T_B);\n",
"M_A = V_A/a_A;\n",
"M_B = V_B/a_B;\n",
"printf('At point A, p = %.2f psia, T = %.1f degreeR, a = %d fps, M = %.3f',p_A,T_A,a_A,M_A);\n",
"printf('\n At point B, p = %.2f psia, T = %.1f degreeR, a = %d fps, M = %.3f',p_B,T_B,a_B,M_B);\n",
"\n",
"//there are errors in the answers given in textbook"
   ]
   }
],
"metadata": {
		  "kernelspec": {
		   "display_name": "Scilab",
		   "language": "scilab",
		   "name": "scilab"
		  },
		  "language_info": {
		   "file_extension": ".sce",
		   "help_links": [
			{
			 "text": "MetaKernel Magics",
			 "url": "https://github.com/calysto/metakernel/blob/master/metakernel/magics/README.md"
			}
		   ],
		   "mimetype": "text/x-octave",
		   "name": "scilab",
		   "version": "0.7.1"
		  }
		 },
		 "nbformat": 4,
		 "nbformat_minor": 0
}
