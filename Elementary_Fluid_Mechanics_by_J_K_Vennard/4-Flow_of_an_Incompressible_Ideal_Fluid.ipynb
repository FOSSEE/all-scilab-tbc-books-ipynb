{
"cells": [
 {
		   "cell_type": "markdown",
	   "metadata": {},
	   "source": [
       "# Chapter 4: Flow of an Incompressible Ideal Fluid"
	   ]
	},
{
		   "cell_type": "markdown",
		   "metadata": {},
		   "source": [
			"## Example 4.11: Chapter_4_Example_11.sce"
		   ]
		  },
  {
"cell_type": "code",
	   "execution_count": null,
	   "metadata": {
	    "collapsed": true
	   },
	   "outputs": [],
"source": [
"clear;\n",
"clc;\n",
"\n",
"//page no. 126\n",
"\n",
"D = 6;//in\n",
"v = 100;//fps\n",
"p = 0;//psi\n",
"gam = 0.08;//specific weight in lb/cuft\n",
"R = 6;//in\n",
"theta = 60;//degrees\n",
"v_r = v*(1-(0.5*D/R)^2)*cos(theta*%pi/180);\n",
"v_t = -v*(1+(0.5*D/R)^2)*sin(theta*%pi/180);\n",
"V = sqrt(v_r^2 + v_t^2);\n",
"p = ((v^2 /(2*32.2)) - (V^2 /(2*32.2)) - (cos(theta*%pi/180)*sin(theta*%pi/180)))*gam;\n",
"printf('Velocity = %.1f fps\n Pressure = %.2f psf',V,p);\n",
"\n",
"//there is an error in the answer given in textbook"
   ]
   }
,
{
		   "cell_type": "markdown",
		   "metadata": {},
		   "source": [
			"## Example 4.12: Chapter_4_Example_12.sce"
		   ]
		  },
  {
"cell_type": "code",
	   "execution_count": null,
	   "metadata": {
	    "collapsed": true
	   },
	   "outputs": [],
"source": [
"clear;\n",
"clc;\n",
"\n",
"//page no. 127\n",
"\n",
"p_A = 0;\n",
"p_B = 0;\n",
"p_C = 0;\n",
"p_D = 0;\n",
"//velocity heads\n",
"V1 = 15.28;//fps\n",
"V2 = 16.78;//fps\n",
"V3 = 15.50;//fps\n",
"V4 = 16.50;//fps\n",
"\n",
"q = sqrt(2*32.2)*integrate('h^(1/2)','h',3.771,4.229);\n",
"\n",
"printf('V_A = %.2f fps,\n V_B = %.2f fps,\n V_C = %.2f fps,\n V_D = %.2f fps',V1,V2,V3,V4);\n",
"printf('\n Flow rate = %.2f cfs/ft',q);"
   ]
   }
,
{
		   "cell_type": "markdown",
		   "metadata": {},
		   "source": [
			"## Example 4.1: Chapter_4_Example_1.sce"
		   ]
		  },
  {
"cell_type": "code",
	   "execution_count": null,
	   "metadata": {
	    "collapsed": true
	   },
	   "outputs": [],
"source": [
"clear;\n",
"clc;\n",
"//page no.103\n",
"d = 4;//feet\n",
"theta = 30;// degrees\n",
"p_C = 5;// psi\n",
"p_A = p_C-(62.4/144)*cos(theta*%pi/180) *2;\n",
"p_B = p_C+(62.4/144)*cos(theta*%pi/180) *2;\n",
"h = p_C*144/62.4;\n",
"printf('The static pressures at A and B are %.2f psi and %.2f psi respectively.',p_A,p_B);\n",
"printf('\n The hydraulic grade line is %.2f ft (vertically) above C,',h);"
   ]
   }
,
{
		   "cell_type": "markdown",
		   "metadata": {},
		   "source": [
			"## Example 4.2: Chapter_4_Example_2.sce"
		   ]
		  },
  {
"cell_type": "code",
	   "execution_count": null,
	   "metadata": {
	    "collapsed": true
	   },
	   "outputs": [],
"source": [
"clear;\n",
"clc;\n",
"\n",
"//page no. 105\n",
"\n",
"h = 100;//ft\n",
"d1 = 5;//in\n",
"d2 = 8;//in\n",
"h1 = 60;// ft\n",
"h2 = 10;//ft\n",
"h3 = 40;//ft\n",
"h4 = 102;//ft\n",
"H = 300;//ft\n",
"theta = 30;//degrees\n",
"gam = 0.43;\n",
"\n",
"\n",
"V5 = sqrt(h*2*32.2);\n",
"Q = V5*0.25*%pi*(d1/12)^2;\n",
"V1 = (d1/12)^4 *h;\n",
"V2 = h*(d1/d2)^4;\n",
"p1 = (h1-V1)*gam;\n",
"p2 = -(h2-V2)*2.04*gam;\n",
"p3 = (h3-V1)*gam;\n",
"p4 = (h4-V1)*gam;\n",
"V6 = V5*cos(theta*%pi/180);\n",
"e = H - (V6^2)/(2*32.2);\n",
"printf('p1 = %.1f psi\n p2 = %.1f in. of Hg vacuum\n p3 = %.1f psi\n p4 = %.1f psi',p1,p2,p3,p4);\n",
"printf('\n elevation = %.1f ft',e);\n",
"\n",
"//there are small errors in the answer given in textbook"
   ]
   }
,
{
		   "cell_type": "markdown",
		   "metadata": {},
		   "source": [
			"## Example 4.3: Chapter_4_Example_3.sce"
		   ]
		  },
  {
"cell_type": "code",
	   "execution_count": null,
	   "metadata": {
	    "collapsed": true
	   },
	   "outputs": [],
"source": [
" clear;\n",
"clc;\n",
"\n",
"//page no. 107\n",
"\n",
"p = 14;//psia\n",
"gam = 62;//lb/cuft\n",
"l1 = 35;// ft\n",
"l2 = 10;// ft\n",
"d = 6;//in\n",
"\n",
"p_v = 2.2*gam;\n",
"p_B = p*144;\n",
"k_c = l1-l2+(p_B/gam)-(p_v/gam);\n",
"K6 = l1;\n",
"d_c = d*(K6/k_c)^0.25;\n",
"\n",
"printf('d = %.2f in',d_c);"
   ]
   }
,
{
		   "cell_type": "markdown",
		   "metadata": {},
		   "source": [
			"## Example 4.4: Chapter_4_Example_4.sce"
		   ]
		  },
  {
"cell_type": "code",
	   "execution_count": null,
	   "metadata": {
	    "collapsed": true
	   },
	   "outputs": [],
"source": [
"clear;\n",
"clc;\n",
"\n",
"//page no. 108\n",
"\n",
"rho = 0.00238;//slug/cuft\n",
"h = 6;//in\n",
"V_0 = sqrt(2*(h/12)*(62.4 - rho*32.2)/rho);\n",
"printf('The velocity of the air stream = %d fps',V_0);\n",
"\n",
"//there is a small error in the answer given in textbook"
   ]
   }
,
{
		   "cell_type": "markdown",
		   "metadata": {},
		   "source": [
			"## Example 4.5: Chapter_4_Example_5.sce"
		   ]
		  },
  {
"cell_type": "code",
	   "execution_count": null,
	   "metadata": {
	    "collapsed": true
	   },
	   "outputs": [],
"source": [
"clear;\n",
"clc;\n",
"\n",
"//page no.110\n",
"\n",
"sg = 0.82;\n",
"p1 = 20;//psia\n",
"p2 = 10;//psia\n",
"d1 = 6;//in\n",
"d2 = 12;//in\n",
"del_z = 4;//ft\n",
"d = 18.7;//in\n",
"\n",
"h1 = (p1-p2)*144/(sg*62.4) - del_z;\n",
"A1 = 0.25*%pi*(d1/12)^2;\n",
"A2 = 0.25*%pi*(d2/12)^2;\n",
"V2 = sqrt(-2*h1*32.2/(1-(A2/A1)^2));\n",
"V1 = (A2/A1)*V2;\n",
"Q = A1*V1;\n",
"printf('Flow rate = %.2f cfs',Q);\n",
"\n",
"//there is a small error in the answer given in textbook"
   ]
   }
,
{
		   "cell_type": "markdown",
		   "metadata": {},
		   "source": [
			"## Example 4.6: Chapter_4_Example_6.sce"
		   ]
		  },
  {
"cell_type": "code",
	   "execution_count": null,
	   "metadata": {
	    "collapsed": true
	   },
	   "outputs": [],
"source": [
"clear;\n",
"clc;\n",
"\n",
"//page no. 112\n",
"\n",
"e1 = 100;//ft\n",
"theta = 60;//degrees\n",
"e2 = 98.5;//ft\n",
"V_s2 = 20;//fps\n",
"e3 = 95;//ft\n",
"\n",
"t2 = (e1-e2)/cos(theta*%pi/180);\n",
"p2 = 3*62.4*cos(theta*%pi/180);\n",
"V_F2 = sqrt((e1 + (V_s2^2 /(2*32.2)) - p2/62.4 -e2)*2*32.2);\n",
"q = 3*1*V_s2;\n",
"y = 11.22;//ft\n",
"y1 = 10.74;//ft\n",
"V1 = sqrt((y-y1)*2*32.2);\n",
"\n",
"printf('On spillwy: Pressure = %.1f psf , velocity = %d fps' ,p2,V_F2);\n",
"printf('\n In the approach channel: Depth = %.2f ft, V1 = %.1f fps',y1,V1);"
   ]
   }
,
{
		   "cell_type": "markdown",
		   "metadata": {},
		   "source": [
			"## Example 4.7: Chapter_4_Example_7.sce"
		   ]
		  },
  {
"cell_type": "code",
	   "execution_count": null,
	   "metadata": {
	    "collapsed": true
	   },
	   "outputs": [],
"source": [
"clear;\n",
"clc;\n",
"\n",
"//page no. 113\n",
"\n",
"d = 10;// in\n",
"p = 40;//psi\n",
"G = 5;//cfs\n",
"y1 = 92.4;//ft\n",
"k1 = -11.3;//ft\n",
"k2 = 92.4;//ft\n",
"k3 = 3.2;//ft\n",
"k4 = 10.1;//ft\n",
"\n",
"E_p = k4+y1+d-k1-k3;\n",
"hp = G*62.4*E_p/550;\n",
"\n",
"printf('Pump horsepower = %.1f hp',hp);"
   ]
   }
,
{
		   "cell_type": "markdown",
		   "metadata": {},
		   "source": [
			"## Example 4.9: Chapter_4_Example_9.sce"
		   ]
		  },
  {
"cell_type": "code",
	   "execution_count": null,
	   "metadata": {
	    "collapsed": true
	   },
	   "outputs": [],
"source": [
"clear;\n",
"clc;\n",
"\n",
"//page no. 122\n",
"\n",
"sw = 20;// specific weight in lb/cuft\n",
"p_B = 6;//psi\n",
"p_A = 2;//psi\n",
"L = 17.28;//ft\n",
"l = 10;//ft\n",
"V_A = sqrt(2*32.2*((p_B-p_A)*144/50 - l));\n",
"\n",
"printf('The mean velocity = %.2f fps',V_A);"
   ]
   }
],
"metadata": {
		  "kernelspec": {
		   "display_name": "Scilab",
		   "language": "scilab",
		   "name": "scilab"
		  },
		  "language_info": {
		   "file_extension": ".sce",
		   "help_links": [
			{
			 "text": "MetaKernel Magics",
			 "url": "https://github.com/calysto/metakernel/blob/master/metakernel/magics/README.md"
			}
		   ],
		   "mimetype": "text/x-octave",
		   "name": "scilab",
		   "version": "0.7.1"
		  }
		 },
		 "nbformat": 4,
		 "nbformat_minor": 0
}
