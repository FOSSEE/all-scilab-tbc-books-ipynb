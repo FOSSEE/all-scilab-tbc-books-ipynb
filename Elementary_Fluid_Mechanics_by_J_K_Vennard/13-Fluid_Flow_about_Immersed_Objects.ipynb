{
"cells": [
 {
		   "cell_type": "markdown",
	   "metadata": {},
	   "source": [
       "# Chapter 13: Fluid Flow about Immersed Objects"
	   ]
	},
{
		   "cell_type": "markdown",
		   "metadata": {},
		   "source": [
			"## Example 13.1: Chapter_13_Example_1.sce"
		   ]
		  },
  {
"cell_type": "code",
	   "execution_count": null,
	   "metadata": {
	    "collapsed": true
	   },
	   "outputs": [],
"source": [
"clear;\n",
"clc;\n",
"//page no. 502\n",
"b = 50;//ft\n",
"c = 7;//ft\n",
"CL = 0.6;//lift coefficient\n",
"CD = 0.05;//drag coefficient\n",
"alpha = 7;//degrees\n",
"V = 150/0.681818;//coverting mph to fps\n",
"H = 10000;//ft\n",
"rho = 0.001756;//slug/cuft\n",
"D = CD*b*c*rho*0.5*V^2;\n",
"hp = D*V/550;\n",
"L = CL*b*c*rho*0.5*V^2;\n",
"mu = 3.534*10^-7;//lb-sec/sqft\n",
"R = V*c*rho/mu;\n",
"a = sqrt(1.4*33.2*53.3*(23.4+459.6));\n",
"M = V/a;\n",
"printf('hp = %d hp,\n L = %.2f lb,\n R = %d,\n M = %.3f',hp,L,R,M);\n",
"//there are small errors in the answer given in textbook"
   ]
   }
,
{
		   "cell_type": "markdown",
		   "metadata": {},
		   "source": [
			"## Example 13.2: Chapter_13_Example_2.sce"
		   ]
		  },
  {
"cell_type": "code",
	   "execution_count": null,
	   "metadata": {
	    "collapsed": true
	   },
	   "outputs": [],
"source": [
"clear;\n",
"clc;\n",
"\n",
"//page no. 511\n",
"\n",
"l = 5;//ft\n",
"d = 0.5;//ft\n",
"v = 1;//fps\n",
"T = 60;//degreeF\n",
"D = 0.04;//lb\n",
"k = 1/64;//model scale\n",
"\n",
"nu = 0.00001217;\n",
"R = v*l/nu;\n",
"Cf1 = 0.0020;\n",
"Cf2 = 0.0052;\n",
"Dx1 = 2*Cf1*l*d*1.938*0.5*v^2;\n",
"Dx2 = 2*Cf2*l*d*1.938*0.5*v^2; \n",
"delta1 = l*5.20/sqrt(R);\n",
"delta2 = l*0.38/(R^0.2);\n",
"V_0 = sqrt((v^2 /l)*(l*(1/k)));\n",
"R_p = V_0*l*(1/k)/nu;\n",
"Cf = 0.00185;\n",
"Dx = 2*Cf*l*d*(1/k)^2 *1.938*0.5*V_0^2;\n",
"Dw = D-Dx2;\n",
"Dw_p = (1/k)^2 *d*l*V_0^2 *Dw/(l*d);\n",
"D = Dw_p + Dx;\n",
"\n",
"printf('Total drag of the prototype = %d lb',D);\n",
"\n",
"//there is an error in the answer given in textbbok"
   ]
   }
,
{
		   "cell_type": "markdown",
		   "metadata": {},
		   "source": [
			"## Example 13.3: Chapter_13_Example_3.sce"
		   ]
		  },
  {
"cell_type": "code",
	   "execution_count": null,
	   "metadata": {
	    "collapsed": true
	   },
	   "outputs": [],
"source": [
"clear;\n",
"clc;\n",
"\n",
"//page no. 524\n",
"\n",
"c = 6;//ft\n",
"b = 36;//ft\n",
"AR1 = 6;//aspect ratio\n",
"Cd = 0.0543;//drag coefficient\n",
"Cl = 0.960;//lift coefficient\n",
"alpha1 = 7.2;//degrees\n",
"AR2 = 8;\n",
"\n",
"//for aspect ratio = 8\n",
"CL = 0.960;//negligible change of lift coefficient\n",
"//for aspect ratio = 6\n",
"C_Di = Cl^2 /(%pi*AR1);\n",
"//for aspect ratio = infinity\n",
"C_D0 = Cd - C_Di;\n",
"//for AR = 8\n",
"C_D = C_D0 + Cl^2 /(%pi*AR2);\n",
"//for AR = 6\n",
"alpha_i = (180/%pi)*Cl/(%pi*AR1);\n",
"//for AR = infinty\n",
"alpha_0 = alpha1 - alpha_i;\n",
"//for AR = 8\n",
"alpha = alpha_0 + Cl/(AR2*%pi) *(360/(2*%pi));\n",
"\n",
"printf('Lift coefficient = %.3f (negligible change of lift coefficient)',CL);\n",
"printf('\n Drag coefficient = %.4f',C_D);\n",
"printf('\n Angle of attack = %.1f degress',alpha);"
   ]
   }
],
"metadata": {
		  "kernelspec": {
		   "display_name": "Scilab",
		   "language": "scilab",
		   "name": "scilab"
		  },
		  "language_info": {
		   "file_extension": ".sce",
		   "help_links": [
			{
			 "text": "MetaKernel Magics",
			 "url": "https://github.com/calysto/metakernel/blob/master/metakernel/magics/README.md"
			}
		   ],
		   "mimetype": "text/x-octave",
		   "name": "scilab",
		   "version": "0.7.1"
		  }
		 },
		 "nbformat": 4,
		 "nbformat_minor": 0
}
