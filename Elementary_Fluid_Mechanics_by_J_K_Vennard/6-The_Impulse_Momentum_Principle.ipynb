{
"cells": [
 {
		   "cell_type": "markdown",
	   "metadata": {},
	   "source": [
       "# Chapter 6: The Impulse Momentum Principle"
	   ]
	},
{
		   "cell_type": "markdown",
		   "metadata": {},
		   "source": [
			"## Example 6.10: Chapter_6_Example_10.sce"
		   ]
		  },
  {
"cell_type": "code",
	   "execution_count": null,
	   "metadata": {
	    "collapsed": true
	   },
	   "outputs": [],
"source": [
"clear;\n",
"clc;\n",
"\n",
"//page no. 199\n",
"\n",
"P = 100;//hp\n",
"V = 75;//fps\n",
"V1 = 150;//fps\n",
"d = 2;//in\n",
"alpha1 = 60;//degrees\n",
"\n",
"Q = 0.25*%pi*(d/12)^2 *V1;\n",
"F_y = 550*P/V;\n",
"V2 = sqrt(V1^2 - P*550/(Q*1.935/2));\n",
"alpha2 = (180/%pi)*asin((V1*sin(alpha1*%pi/180) - (F_y/(Q*1.935)))/V2);\n",
"beta1 = 90 - (180/%pi)*atan((V1*sin(alpha1*%pi/180) - V)/(V1*cos(alpha1*%pi/180)));\n",
"beta2 = 90 + (180/%pi)*atan((V-V2*sin(alpha2*%pi/180))/(V1*cos(alpha1*%pi/180)));\n",
"\n",
"printf('Beta1 = %d degrees,\n Beta2 = %d degrees',beta1,beta2);\n",
"\n",
"\n",
"//there are small errors in the answer given in textbook"
   ]
   }
,
{
		   "cell_type": "markdown",
		   "metadata": {},
		   "source": [
			"## Example 6.11: Chapter_6_Example_11.sce"
		   ]
		  },
  {
"cell_type": "code",
	   "execution_count": null,
	   "metadata": {
	    "collapsed": true
	   },
	   "outputs": [],
"source": [
"clear;\n",
"clc;\n",
"\n",
"//page no. 203\n",
"\n",
"r1 = 5;//ft\n",
"r2 = 3.5;//ft\n",
"beta1 = 60;//degrees\n",
"beta2 = 150;//degrees\n",
"t = 1;//ft\n",
"alpha1 = 15;//degree\n",
"Q = 333;//cfs\n",
"gam = 0.434;\n",
"\n",
"V_r1 = Q/(2*%pi*r1);\n",
"V_r2 = Q/(2*%pi*r2);\n",
"V_t1 = V_r1*(1/tan(alpha1*%pi/180));\n",
"u1 = V_t1 - V_r1*tan((90-beta1)*%pi/180);\n",
"omega = u1/r1;\n",
"u2 = omega*r2;\n",
"V_t2 = u2 - V_r2*(1/tan((90-beta1)*%pi/180));\n",
"T = Q*1.935*(V_t1*r1 - (V_t2*r2));\n",
"hp = T*omega/550;\n",
"E_T = hp*550/(Q*62.4);\n",
"V1 = sqrt(V_r1^2 + V_t1^2);\n",
"V2 = sqrt(V_r2^2 + V_t2^2);\n",
"del_p = E_T*gam + (gam/(2*32.2))*(V2^2 - V1^2);\n",
"\n",
"printf('V1 = %.1f fps,\n V2 = %.1f fps,\n T = %d ft-lb,\n hp = %d lb,\n E_T = %.1f ft-lb/lb,\n p1-p2 = %.1f psi',V1,V2,T,hp,E_T,del_p);\n",
"\n",
"//there are small errors in the answer given in textbook"
   ]
   }
,
{
		   "cell_type": "markdown",
		   "metadata": {},
		   "source": [
			"## Example 6.12: Chapter_6_Example_12.sce"
		   ]
		  },
  {
"cell_type": "code",
	   "execution_count": null,
	   "metadata": {
	    "collapsed": true
	   },
	   "outputs": [],
"source": [
"clear;\n",
"clc;\n",
"\n",
"//page no. 204\n",
"\n",
"r1 = 3;//in\n",
"r2 = 10;//in\n",
"beta1 = 120;//degrees\n",
"beta2 = 135;//degrees\n",
"t = 1;//in\n",
"Q = 4;//cfs\n",
"gam = 0.434;\n",
"\n",
"\n",
"V1 = Q*144/(2*%pi*r1);\n",
"V_r1 = V1;\n",
"V_r2 = Q*144/(2*%pi*r2);\n",
"u1 = V1*tan((beta1-90)*%pi/180);\n",
"omega = u1/(r1/12);\n",
"u2 = omega*(r2/12);\n",
"V_t2 = u2 - V_r2/tan((180-beta2)*%pi/180);\n",
"T = Q*1.935*(V_t2*(r2/12));\n",
"P = T*omega/547.561;//hp\n",
"E_P = P*550/(Q*62.4);\n",
"V2 = sqrt(V_r2^2 + V_t2^2);\n",
"del_p = E_P*gam + (gam/(2*32.2))*(V1^2 - V2^2);\n",
"\n",
"printf('Rotational speed = %.1f rad/sec = %d rpm',omega,omega*60/(2*%pi));\n",
"printf('\n T = %d ft-lb,\n P = %.1f hp',T,P);\n",
"printf('\n The energy given to each pound of water = %d ft',E_P);\n",
"printf('\n The pressure rise = %.1f psi',del_p);\n",
"\n",
"//there are small errors in the answer given in textbook"
   ]
   }
,
{
		   "cell_type": "markdown",
		   "metadata": {},
		   "source": [
			"## Example 6.1: Chapter_6_Example_1.sce"
		   ]
		  },
  {
"cell_type": "code",
	   "execution_count": null,
	   "metadata": {
	    "collapsed": true
	   },
	   "outputs": [],
"source": [
"clear;\n",
"clc;\n",
"//page no. 176\n",
"G = 10;//cfs\n",
"d1 = 12;//in\n",
"d2 = 8;//in\n",
"p1 = 10;//psi\n",
"V = 3;//cuft\n",
"theta = 60;//degrees\n",
"p2 = 3.43;// psi\n",
"w = 187;//lb\n",
"V1 = G/(0.25*%pi*(d1/12)^2);\n",
"V2 = G/(0.25*%pi*(d2/12)^2);\n",
"F1 = 0.25*%pi*(d1^2)*p1;\n",
"F2 = 0.25*%pi*d2^2 *p2;\n",
"Fx = F1+F2*cos(theta*%pi/180) - G*1.935*(-V2*cos(theta*%pi/180) - V1);\n",
"Fz = F2*sin(theta*%pi/180) + w + G*1.935*(V2*sin(theta*%pi/180));\n",
"F = sqrt(Fx^2 + Fz^2);\n",
"alpha = (180/%pi)*atan(Fz/Fx);\n",
"printf('The force on the bend = %d lb at %d degrees with the horizontal',F,alpha);\n",
"//there is a small error in the answer given in textbook"
   ]
   }
,
{
		   "cell_type": "markdown",
		   "metadata": {},
		   "source": [
			"## Example 6.2: Chapter_6_Example_2.sce"
		   ]
		  },
  {
"cell_type": "code",
	   "execution_count": null,
	   "metadata": {
	    "collapsed": true
	   },
	   "outputs": [],
"source": [
"clear;\n",
"clc;\n",
"\n",
"//page no. 178\n",
"\n",
"l1 = 5;//ft\n",
"l2 = 2;//ft\n",
"\n",
"V1 = sqrt(2*32.2*(l2-l1)/(1-(l1/l2)^2));\n",
"V2 = (l1/l2)*V1;\n",
"q = l1*V1;\n",
"F1 = 62.4*(l1^2)/2;\n",
"F2 = 62.4*(l2^2)/2;\n",
"Fx = F1-F2-q*1.935*(V2-V1);\n",
"printf('Force = %d lb and direction is in downstream direction',Fx);\n",
"\n",
"//there is an error in the answer given in textbook"
   ]
   }
,
{
		   "cell_type": "markdown",
		   "metadata": {},
		   "source": [
			"## Example 6.3: Chapter_6_Example_3.sce"
		   ]
		  },
  {
"cell_type": "code",
	   "execution_count": null,
	   "metadata": {
	    "collapsed": true
	   },
	   "outputs": [],
"source": [
"clear;\n",
"clc;\n",
"\n",
"//page no. 182\n",
"\n",
"d = 2;//ft\n",
"Q = 40;//cfs/ft\n",
"\n",
"\n",
"V1 = Q/d;\n",
"y1 = d;\n",
"K1 = V1^2 /(32.2*y1);\n",
"y2 = (-1 +sqrt(1+8*K1));\n",
"V2 = Q/y2 ;\n",
"delta = d + (V1^2 /(2*32.2)) - y2 - (V2^2 /(2*32.2));\n",
"hp = Q*62.4*delta/550;\n",
"printf('y2 = %.2f ft,\n delta = %.2f ft,\n Horsepower dissipated = %.1f hp',y2,delta,hp);\n",
"\n",
"//there are errors in the answer given in textbook"
   ]
   }
,
{
		   "cell_type": "markdown",
		   "metadata": {},
		   "source": [
			"## Example 6.4: Chapter_6_Example_4.sce"
		   ]
		  },
  {
"cell_type": "code",
	   "execution_count": null,
	   "metadata": {
	    "collapsed": true
	   },
	   "outputs": [],
"source": [
"clear;\n",
"clc;\n",
"funcprot(0);\n",
"//page no. 184\n",
"\n",
"y1 = 2;//ft\n",
"V1 = 20;//fps\n",
"beta = 40;//degrees\n",
"\n",
"K1 = (V1^2)/(32.2*y1);\n",
"y2 = (-1 + sqrt(1+8*K1*(sin(beta*%pi/180))^2));\n",
"k = (y1/y2)*V1*sin(beta*%pi/180);\n",
"del_angle = (180/%pi)*atan(sqrt((tan(beta*%pi/180)) *(1+2*k^2 /(32.2*y2))/(1+2*K1*(sin(beta*%pi/180))^2)));\n",
"theta = beta-del_angle;\n",
"\n",
"printf('The required wedge angle = %d degrees',2*theta);\n",
"    \n",
"//there is an error in the answer given in textbook"
   ]
   }
,
{
		   "cell_type": "markdown",
		   "metadata": {},
		   "source": [
			"## Example 6.5: Chapter_6_Example_5.sce"
		   ]
		  },
  {
"cell_type": "code",
	   "execution_count": null,
	   "metadata": {
	    "collapsed": true
	   },
	   "outputs": [],
"source": [
"clear;\n",
"clc;\n",
"\n",
"//page no. 186\n",
"\n",
"p1 = 14.7;//psia\n",
"V1 = 1732;//pfs\n",
"a1 = 862;//fps\n",
"\n",
"M1 = V1/a1;\n",
"M2 = sqrt((1+0.4*0.5*M1^2)/(1.4*M1^2 - 0.4*0.5));\n",
"p2 = p1*(1+2*(1.4/2.4)*(M1^2 -1));\n",
"V2 = V1*(2+0.4*M1^2)/(2.4*M1^2);\n",
"a2 = V2/M2;\n",
"T2 = a2^2/(1.4*32.2*53.3);\n",
"T1 = a1^2/(1.4*32.2*53.3);\n",
"del_T = T2-T1;\n",
"printf('p2 = %.1f psia,\n V2 = %d fps,\n a2 = %d fps,\n T2 = %d degreeR',p2,V2,a2,T2);\n",
"printf('\n Rise of temperature = %d degreeF',del_T);\n",
"\n",
"//There are errors in the answer given in textbook"
   ]
   }
,
{
		   "cell_type": "markdown",
		   "metadata": {},
		   "source": [
			"## Example 6.6: Chapter_6_Example_6.sce"
		   ]
		  },
  {
"cell_type": "code",
	   "execution_count": null,
	   "metadata": {
	    "collapsed": true
	   },
	   "outputs": [],
"source": [
"clear;\n",
"clc;\n",
"funcprot(0);\n",
"\n",
"//page no. 188\n",
"\n",
"p1 = 14.7;// psia\n",
"v1 = 1732;// fps\n",
"a1 = 862;// fps\n",
"beta = 40;// degrees\n",
"\n",
"\n",
"M1 = v1/a1;\n",
"T1 = a1^2 /(1.4*32.2*53.3);\n",
"p2 = p1*(1 + 2*(1.4/2.4)*(M1^2 *(sin(beta*%pi/180))^2 -1));\n",
"theta = beta - (180/%pi)*atan(tan(beta*%pi/180) * (0.4*(M1*sin(beta*%pi/180))^2 +2)/(2.4*(M1*sin(beta*%pi/180))^2));\n",
"M2 = sqrt((1/sin((beta-theta)*%pi/180))^2 *(1 + (0.4/2)*((M1*sin(beta*%pi/180))^2) )/(1.4*(M1*sin(beta*%pi/180))^2) -(0.4/2));\n",
"v2 = v1*cos(beta*%pi/180)/cos((beta-theta)*%pi/180);\n",
"a2 = v2/M2;\n",
"T2 = a2^2 /(1.4*32.2*53.3);\n",
"\n",
"\n",
"printf('Angle required = %.1f degrees,\n p2 = %.1f psia,\n v2 = %d fps,\n a2 = %d fps,\n T2 = %.1f degreeR',theta,p2,v2,a2,T2);\n",
"\n",
"//there are errors in the answer given in textbook"
   ]
   }
,
{
		   "cell_type": "markdown",
		   "metadata": {},
		   "source": [
			"## Example 6.7: Chapter_6_Example_7.sce"
		   ]
		  },
  {
"cell_type": "code",
	   "execution_count": null,
	   "metadata": {
	    "collapsed": true
	   },
	   "outputs": [],
"source": [
"clear;\n",
"clc;\n",
"\n",
"//page no. 190\n",
"\n",
"F = 1000;//lb\n",
"H = 30000;//ft\n",
"v1 = 500;//fps\n",
"v2 = 4000;//fps\n",
"p2 = 5;//psia\n",
"A2 = 1;//sqft\n",
"p1 = 4.37;//psia\n",
"\n",
"G_a = (F - (p2-p1)*A2*144)*32.2/(v2-v1);\n",
"\n",
"printf('Ga = %.1f lb/sec',G_a);"
   ]
   }
,
{
		   "cell_type": "markdown",
		   "metadata": {},
		   "source": [
			"## Example 6.8: Chapter_6_Example_8.sce"
		   ]
		  },
  {
"cell_type": "code",
	   "execution_count": null,
	   "metadata": {
	    "collapsed": true
	   },
	   "outputs": [],
"source": [
"clear;\n",
"clc;\n",
"\n",
"//page no. 194\n",
"\n",
"gam = 0.0765;// lb/cuft\n",
"V1 = 293;//fps\n",
"hp = 1500;\n",
"h = 10;//ft\n",
"V4 = 338;//fps\n",
"\n",
"V = 0.5*(V1+V4);\n",
"Q = hp*550/((V4-V1)*V*gam/32.2);\n",
"d1 = sqrt(Q/(V1*0.25*%pi));\n",
"d4 = sqrt(Q/(V4*0.25*%pi));\n",
"F = Q*(gam/32.2)*(V4-V1);\n",
"eta = V1/V;\n",
"\n",
"printf('V4 = %d fps,\n V = %.1f fps,\n d1 = %.1f ft,\n d4 = %.2f ft,\n F = %d lb,\n efficiency = %.1f percentage',V4,V,d1,d4,F,eta*100);\n",
"\n",
"//there are small errors in the answer given in textbook"
   ]
   }
,
{
		   "cell_type": "markdown",
		   "metadata": {},
		   "source": [
			"## Example 6.9: Chapter_6_Example_9.sce"
		   ]
		  },
  {
"cell_type": "code",
	   "execution_count": null,
	   "metadata": {
	    "collapsed": true
	   },
	   "outputs": [],
"source": [
"clear;\n",
"clc;\n",
"\n",
"//page no. 198\n",
"\n",
"D = 6;//ft\n",
"d = 2;//in\n",
"V1 = 200;//fps\n",
"rpm = 250;\n",
"theta = 150;//degrees\n",
"\n",
"u = (rpm/60)*2*%pi*0.5*D;\n",
"v1 = V1-u;\n",
"v2 = v1;\n",
"V_2x = v1*cos(theta*%pi/180) + u;\n",
"V_2y = v2*sin(theta*%pi/180);\n",
"V2 = sqrt(V_2x^2 + V_2y^2);\n",
"Q = 0.25*%pi*(d/12)^2 *V1;\n",
"F_x = Q*1.935*(V_2x-V1);\n",
"P = F_x*u/550;\n",
"\n",
"printf('The working component of force on fluid = %d lb,\n P = %d hp',F_x,-P);\n",
"\n",
"//thete are small errors in the answers given in textbook"
   ]
   }
],
"metadata": {
		  "kernelspec": {
		   "display_name": "Scilab",
		   "language": "scilab",
		   "name": "scilab"
		  },
		  "language_info": {
		   "file_extension": ".sce",
		   "help_links": [
			{
			 "text": "MetaKernel Magics",
			 "url": "https://github.com/calysto/metakernel/blob/master/metakernel/magics/README.md"
			}
		   ],
		   "mimetype": "text/x-octave",
		   "name": "scilab",
		   "version": "0.7.1"
		  }
		 },
		 "nbformat": 4,
		 "nbformat_minor": 0
}
