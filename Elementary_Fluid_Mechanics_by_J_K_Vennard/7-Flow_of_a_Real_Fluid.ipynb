{
"cells": [
 {
		   "cell_type": "markdown",
	   "metadata": {},
	   "source": [
       "# Chapter 7: Flow of a Real Fluid"
	   ]
	},
{
		   "cell_type": "markdown",
		   "metadata": {},
		   "source": [
			"## Example 7.1: Chapter_7_Example_1.sce"
		   ]
		  },
  {
"cell_type": "code",
	   "execution_count": null,
	   "metadata": {
	    "collapsed": true
	   },
	   "outputs": [],
"source": [
"clear;\n",
"clc;\n",
"//page no. 225\n",
"nu = 0.00001;// sqft/sec\n",
"d = 1;//in\n",
"R_c = 2100;\n",
"V = R_c*nu/(d/12);\n",
"Q = V*0.25*%pi*(d/12)^2;\n",
"printf('Q = %.6f cfs',Q);"
   ]
   }
,
{
		   "cell_type": "markdown",
		   "metadata": {},
		   "source": [
			"## Example 7.4: Chapter_7_Example_4.sce"
		   ]
		  },
  {
"cell_type": "code",
	   "execution_count": null,
	   "metadata": {
	    "collapsed": true
	   },
	   "outputs": [],
"source": [
"clear;\n",
"clc;\n",
"\n",
"//page no. 240\n",
"\n",
"G = 240;//lb/sec\n",
"A1 = 4;//sqft\n",
"A2 = 2;//sqft\n",
"z1 = 30;//ft\n",
"z2 = 80;//ft\n",
"V1 = 600;// fps\n",
"V2 = 800;//fps\n",
"p1 = 20;//psia\n",
"p2 = 35;// psia\n",
"gam1 = G/(A1*V1);\n",
"gam2 = G/(A2*V2);\n",
"T1 = p1*144/(53.3*gam1);\n",
"T2 = p2*144/(53.3*gam2);\n",
"del_H = 186.5*(T2-T1);\n",
"E_H1 = (V2^2)/(2*32.2) - (V1^2)/(2*32.2) +del_H+z2-z1;\n",
"E_H2 = (V2^2)/(2*32.2) - (V1^2)/(2*32.2) +del_H;\n",
"Q = G*E_H2/550;\n",
"printf('T1 = %d degreeR,\n T2 = %d degreeR',T1,T2);\n",
"printf('\n The net heat energy added = %d hp',Q);\n",
"\n",
"//there is an error in the answer given in textbook"
   ]
   }
,
{
		   "cell_type": "markdown",
		   "metadata": {},
		   "source": [
			"## Example 7.5: Chapter_7_Example_5.sce"
		   ]
		  },
  {
"cell_type": "code",
	   "execution_count": null,
	   "metadata": {
	    "collapsed": true
	   },
	   "outputs": [],
"source": [
"clear;\n",
"clc;\n",
"\n",
"//page no. 240\n",
"\n",
"G = 50;//cfs\n",
"Q = 400;//hp\n",
"A1 = 4;//sqft\n",
"A2 = 2;//sqft\n",
"z1 = 30;//ft\n",
"z2 = 80;//ft\n",
"p1 = 20;//psi\n",
"p2 = 10;//psi\n",
"\n",
"V1 = G/A1;\n",
"V2 = G/A2;\n",
"E_p = Q*(550/62.4)/G;\n",
"h_L = (p1-p2)*144/62.4 + (V1^2 - V2^2)/(2*32.2) +(z1-z2)+E_p;\n",
"printf('Head lost = %.1f ft',h_L);"
   ]
   }
,
{
		   "cell_type": "markdown",
		   "metadata": {},
		   "source": [
			"## Example 7.6: Chapter_7_Example_6.sce"
		   ]
		  },
  {
"cell_type": "code",
	   "execution_count": null,
	   "metadata": {
	    "collapsed": true
	   },
	   "outputs": [],
"source": [
"clear;\n",
"clc;\n",
"\n",
"//page no. 243\n",
"\n",
"b = 3;//ft\n",
"d = 2;//ft\n",
"l = 200;//ft\n",
"h_L = 30;//ft\n",
"tau_0 = h_L*62.4*b*d/(10*l);//0.00694\n",
"printf('The resistance stress exerted between fluid and conduit walls = %.2f psf = %.3f psi',tau_0,tau_0*0.00694);"
   ]
   }
,
{
		   "cell_type": "markdown",
		   "metadata": {},
		   "source": [
			"## Example 7.7: Chapter_7_Example_7.sce"
		   ]
		  },
  {
"cell_type": "code",
	   "execution_count": null,
	   "metadata": {
	    "collapsed": true
	   },
	   "outputs": [],
"source": [
"clear;\n",
"clc;\n",
"\n",
"//page no.244\n",
"\n",
"h_L = 30;//ft\n",
"l = 200;//ft\n",
"d = 2;//ft\n",
"r = 8;//in\n",
"//part (a)\n",
"tau_0 = h_L*62.4/(d*l);\n",
"\n",
"//part(b)\n",
"tau = (0.5*r/12)*(tau_0*0.00694);\n",
"printf('Part(a): Shear stress = %.2f psf = %.4f psi ',tau_0,tau_0*0.00694);\n",
"printf('\n Part(b): Shear stress = %.4f psi ',tau);"
   ]
   }
],
"metadata": {
		  "kernelspec": {
		   "display_name": "Scilab",
		   "language": "scilab",
		   "name": "scilab"
		  },
		  "language_info": {
		   "file_extension": ".sce",
		   "help_links": [
			{
			 "text": "MetaKernel Magics",
			 "url": "https://github.com/calysto/metakernel/blob/master/metakernel/magics/README.md"
			}
		   ],
		   "mimetype": "text/x-octave",
		   "name": "scilab",
		   "version": "0.7.1"
		  }
		 },
		 "nbformat": 4,
		 "nbformat_minor": 0
}
