{
"cells": [
 {
		   "cell_type": "markdown",
	   "metadata": {},
	   "source": [
       "# Chapter 3: Kinematics of Fluid Motion"
	   ]
	},
{
		   "cell_type": "markdown",
		   "metadata": {},
		   "source": [
			"## Example 3.1: Chapter_3_Example_1.sce"
		   ]
		  },
  {
"cell_type": "code",
	   "execution_count": null,
	   "metadata": {
	    "collapsed": true
	   },
	   "outputs": [],
"source": [
"clear;\n",
"clc;\n",
"//page no. 83\n",
"v_mag = 3;\n",
"x = 8;\n",
"y = 6;\n",
"s = sqrt(x^2 + y^2);\n",
"v = v_mag*s;// fps\n",
"a_t = v_mag*s*v_mag;// ft/sec^2\n",
"a_r = 0;\n",
"a = sqrt(a_r^2 + a_t^2);\n",
"printf('v = %d fps \n a = %d ft/sec^2',v,a);"
   ]
   }
,
{
		   "cell_type": "markdown",
		   "metadata": {},
		   "source": [
			"## Example 3.2: Chapter_3_Example_2.sce"
		   ]
		  },
  {
"cell_type": "code",
	   "execution_count": null,
	   "metadata": {
	    "collapsed": true
	   },
	   "outputs": [],
"source": [
"clear;\n",
"clc;\n",
"\n",
"//page no. 83\n",
"\n",
"v = 5;// fps\n",
"a_t = 0;\n",
"a_r = v^2 /2;// ft/sec^2\n",
"printf('Radial component of acceleration = %.1f ft/sec^2\n Tangential component of acceleration = %d ',a_r,a_t);"
   ]
   }
,
{
		   "cell_type": "markdown",
		   "metadata": {},
		   "source": [
			"## Example 3.3: Chapter_3_Example_3.sce"
		   ]
		  },
  {
"cell_type": "code",
	   "execution_count": null,
	   "metadata": {
	    "collapsed": true
	   },
	   "outputs": [],
"source": [
"clear;\n",
"clc;\n",
"\n",
"//page no.85\n",
"v = 5;// fps\n",
"r = 2;\n",
"theta = 60;// degrees\n",
"x = 1;\n",
"y = sqrt(3);\n",
"v_t = v;\n",
"v_r = 0;\n",
"u = -v*y/(sqrt(x^2 + y^2));\n",
"v = v*x/(sqrt(x^2 + y^2));\n",
"a_x = -50*x/8;\n",
"a_y = -50*y/8;\n",
"a_r = -v_t^2 /r;\n",
"a_t = v_r*v_t/r;\n",
"printf('u = %.2f fps, v = %.2f fps',u,v);\n",
"printf('\n v_r = %d, v_t = %d fps',v_r,v_t);\n",
"printf('\n a_x = %.2f ft/sec^2, a_y = %.2f ft/sec^2',a_x,a_y);\n",
"printf('\n a_r = %.1f ft/sec^2, a_t = %d',a_r,a_t);"
   ]
   }
,
{
		   "cell_type": "markdown",
		   "metadata": {},
		   "source": [
			"## Example 3.4: Chapter_3_Example_4.sce"
		   ]
		  },
  {
"cell_type": "code",
	   "execution_count": null,
	   "metadata": {
	    "collapsed": true
	   },
	   "outputs": [],
"source": [
"clear;\n",
"clc;\n",
"\n",
"//page no. 88\n",
"\n",
"w = 600;// pounds\n",
"l1 = 12;//inches\n",
"l2 = 8;//inches\n",
"Q = w/(62.4);\n",
"V_12 = Q/(0.25*%pi*(l1/12)^2);\n",
"V_8 = Q/(0.25*%pi*(l2/12)^2);\n",
"printf('Q = %.2f cfs',Q);\n",
"printf('\n V_12 = %.2f fps\n V_8 = %.2f fps',V_12,V_8);"
   ]
   }
,
{
		   "cell_type": "markdown",
		   "metadata": {},
		   "source": [
			"## Example 3.5: Chapter_3_Example_5.sce"
		   ]
		  },
  {
"cell_type": "code",
	   "execution_count": null,
	   "metadata": {
	    "collapsed": true
	   },
	   "outputs": [],
"source": [
"clear;\n",
"clc;\n",
"\n",
"//page no.89\n",
"\n",
"l = 12;// inches\n",
"W = 6;// pounds\n",
"w = 0.0624// lb/cuft\n",
"l1 = 8;// inches\n",
"rho = 0.050;// lb/cuft\n",
"Q_12 = W/w ;\n",
"Q_8 = W/rho ;\n",
"V_12 = Q_12/(0.25*%pi*(l/12)^2);\n",
"V_8 = Q_8/(0.25*%pi*(l1/12)^2);\n",
"printf('Q_12 = %.1f cfs, Q_8 = %d cfs',Q_12,Q_8);\n",
"printf('\n V_12 = %.1f fps, V_8 = %d fps',V_12,V_8);\n",
"\n",
"//there is a minute error in the answer given in textbook"
   ]
   }
],
"metadata": {
		  "kernelspec": {
		   "display_name": "Scilab",
		   "language": "scilab",
		   "name": "scilab"
		  },
		  "language_info": {
		   "file_extension": ".sce",
		   "help_links": [
			{
			 "text": "MetaKernel Magics",
			 "url": "https://github.com/calysto/metakernel/blob/master/metakernel/magics/README.md"
			}
		   ],
		   "mimetype": "text/x-octave",
		   "name": "scilab",
		   "version": "0.7.1"
		  }
		 },
		 "nbformat": 4,
		 "nbformat_minor": 0
}
