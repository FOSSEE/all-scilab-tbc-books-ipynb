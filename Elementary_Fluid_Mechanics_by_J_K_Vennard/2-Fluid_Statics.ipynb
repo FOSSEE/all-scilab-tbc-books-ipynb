{
"cells": [
 {
		   "cell_type": "markdown",
	   "metadata": {},
	   "source": [
       "# Chapter 2: Fluid Statics"
	   ]
	},
{
		   "cell_type": "markdown",
		   "metadata": {},
		   "source": [
			"## Example 2.10: Chapter_2_Example_10.sce"
		   ]
		  },
  {
"cell_type": "code",
	   "execution_count": null,
	   "metadata": {
	    "collapsed": true
	   },
	   "outputs": [],
"source": [
"clear;\n",
"clc;\n",
"\n",
"//page no. 52\n",
"\n",
"m = -0.229;//slope\n",
"a_z = 1.96;// ft/sec^2\n",
"a_x = 4*a_z;// ft/sec^2\n",
"a = sqrt(a_x^2 + a_z^2);// ft/sec^2\n",
"p = integrate('-(32.2 + a_z)*(62.4/32.2)','z',0,-2.75);\n",
"printf('p = %.1f psf',p);\n",
"\n",
"//there is an error in the answer given in textbook"
   ]
   }
,
{
		   "cell_type": "markdown",
		   "metadata": {},
		   "source": [
			"## Example 2.11: Chapter_2_Example_11.sce"
		   ]
		  },
  {
"cell_type": "code",
	   "execution_count": null,
	   "metadata": {
	    "collapsed": true
	   },
	   "outputs": [],
"source": [
"clear;\n",
"clc;\n",
"\n",
"//page no. 54\n",
"\n",
"l1 = 2;// feet\n",
"l2 = 3;// feet\n",
"rpm = 100;\n",
"p_A = (l1+l2)-(2/3)*(2*%pi*rpm/60)^2 /(2*32.2);\n",
"p_B = (l1+l2)+(1/3)*(2*%pi*rpm/60)^2 /(2*32.2);\n",
"printf('Pressure heads at point A and point B respectively are %.2f ft, %.2f ft',p_A,p_B);"
   ]
   }
,
{
		   "cell_type": "markdown",
		   "metadata": {},
		   "source": [
			"## Example 2.1: Chapter_2_Example_1.sce"
		   ]
		  },
  {
"cell_type": "code",
	   "execution_count": null,
	   "metadata": {
	    "collapsed": true
	   },
	   "outputs": [],
"source": [
"clear;\n",
"clc;\n",
"//page no.32\n",
"T = 68;//degreeF\n",
"p = 10;// psi\n",
"d = 15;// feet\n",
"rho = 1.59;//specific gravity\n",
"gam = rho*62.4;//lb/cuft\n",
"p1 = gam*d + p*144;//psf\n",
"printf('p1 = %d psf = %.1f psi ',p1,p1*0.00694);\n",
"//there is an error in the answer given in the textbook"
   ]
   }
,
{
		   "cell_type": "markdown",
		   "metadata": {},
		   "source": [
			"## Example 2.2: Chapter_2_Example_2.sce"
		   ]
		  },
  {
"cell_type": "code",
	   "execution_count": null,
	   "metadata": {
	    "collapsed": true
	   },
	   "outputs": [],
"source": [
"clear;\n",
"clc;\n",
"\n",
"//page no.32\n",
"h = 35000;// feet\n",
"p1 = 14.7;// psia\n",
"T1 = 519;// degreeR\n",
"gam1 = 0.0765;// lb/cuft\n",
"p2 = 504;// psfa\n",
"T2 = T1 - h*0.00356;// degreeR\n",
"gam2 = p2/(53.3*T2);// lb/cuft\n",
"printf('p2 = %d psfa = %.2f psia\n specific weight = %.3f lb/cuft',p2,p2*0.00695,gam2);"
   ]
   }
,
{
		   "cell_type": "markdown",
		   "metadata": {},
		   "source": [
			"## Example 2.3: Chapter_2_Example_3.sce"
		   ]
		  },
  {
"cell_type": "code",
	   "execution_count": null,
	   "metadata": {
	    "collapsed": true
	   },
	   "outputs": [],
"source": [
"clear;\n",
"clc;\n",
"\n",
"//page no.35\n",
"\n",
"h1 = 12.5;// inches\n",
"p1 = 14.50;// psia\n",
"p = p1 - h1*14.70/29.92;//absolute pressure in psia\n",
"printf('Absolute pressure = %.2f psia',p);"
   ]
   }
,
{
		   "cell_type": "markdown",
		   "metadata": {},
		   "source": [
			"## Example 2.4: Chapter_2_Example_4.sce"
		   ]
		  },
  {
"cell_type": "code",
	   "execution_count": null,
	   "metadata": {
	    "collapsed": true
	   },
	   "outputs": [],
"source": [
"clear;\n",
"clc;\n",
"\n",
"//page no.37\n",
"gam1 = 0.9*62.4;\n",
"gam2 = 13.55*62.4;\n",
"l1 = 10;// feet\n",
"l2 = 15/12;// feet\n",
"p_x = gam2*l2 - gam1*l1;// psf\n",
"printf('The gauge reading = %d psf = %.2f psi',p_x,0.00694*p_x);"
   ]
   }
,
{
		   "cell_type": "markdown",
		   "metadata": {},
		   "source": [
			"## Example 2.5: Chapter_2_Example_5.sce"
		   ]
		  },
  {
"cell_type": "code",
	   "execution_count": null,
	   "metadata": {
	    "collapsed": true
	   },
	   "outputs": [],
"source": [
"clear;\n",
"clc;\n",
"\n",
"//page no. 42\n",
"\n",
"l1 = 4;// feet\n",
"b1 = 6;// feet\n",
"b2 = 6;// feet\n",
"l2 = 2.55;// feet\n",
"t = 1;// feet\n",
"F1 = 0.5*l1*b1*62.4*(0.5*l1 + t) ;// lb\n",
"F2 = 0.25*%pi*b2^2 *62.4*(l2 + t);// lb\n",
"a1 = l1*b2^3 /(36*0.5*b2*0.5*l1*b1);// feet\n",
"a2 = 70/((0.5*l2 + t)*28.3);// feet\n",
"l_p = (F1*(0.5*l1 + a1)+F2*(l2+a2))/(F1+F2) +1;//feet\n",
"x_p1 = (0.5*l1-a1) - a1*2/b2;// feet\n",
"M = integrate('(62.4/2)*(36-y^2)*(y+1)','y',0,6);// ft-lb\n",
"x_p2 = M/F2;// feet\n",
"x_p = (x_p2*F2 - F1*x_p1)/(F1+F2);// feet\n",
"printf('Total force on composite area is %d lb',F1+F2); \n",
"printf('\n Vertical location of resultant force is %.2f ft below the water surface',l_p);\n",
"printf('\n Horizontal location of resultant force is %.3f ft right of the water surface',x_p);\n",
"\n",
"//there are errors in the answer given in textbook"
   ]
   }
,
{
		   "cell_type": "markdown",
		   "metadata": {},
		   "source": [
			"## Example 2.6: Chapter_2_Example_6.sce"
		   ]
		  },
  {
"cell_type": "code",
	   "execution_count": null,
	   "metadata": {
	    "collapsed": true
	   },
	   "outputs": [],
"source": [
"clear;\n",
"clc;\n",
"\n",
"//page no.45\n",
"\n",
"l = 8;//feet\n",
"b = 10;// feet\n",
"F_h = 0.5*l*b*62.4*(b+2.5);// lb\n",
"x = 83.2/(40*(b+2.5));// feet\n",
"F_v = (b+5)*62.4*40-(l*62.4*(25 - 0.25*%pi*25));// lb\n",
"F = sqrt(F_h^2 + F_v^2);// lb\n",
"e = (2680*3.91 + 37440*(0.25*b))/F_v ;// feet\n",
"theta = 180*atan(F_v/F_h) /%pi;// degrees\n",
"x_p = 0.25*b-x;// feet\n",
"printf('Magnitude of resultant force is %d lb',F);\n",
"printf('\n Theta = %d degrees',theta);\n",
"printf('\n Location is %.3f feet above and  %.2f feet to the right of B',x_p,e);\n",
"\n",
"//there are errors in the answer given in textbook"
   ]
   }
,
{
		   "cell_type": "markdown",
		   "metadata": {},
		   "source": [
			"## Example 2.7: Chapter_2_Example_7.sce"
		   ]
		  },
  {
"cell_type": "code",
	   "execution_count": null,
	   "metadata": {
	    "collapsed": true
	   },
	   "outputs": [],
"source": [
"clear;\n",
"clc;\n",
"\n",
"//page no.48\n",
"\n",
"A = 4000;// sq.ft\n",
"d1 = 10;// feet\n",
"d2 = 2;// inches\n",
"rho = 64;// lb/cuft\n",
"W = A*(d2/12)*rho;// lb\n",
"printf('Weight of cargo = %d lb',W);\n",
"\n",
"//there is an error in the answer given in textbook"
   ]
   }
,
{
		   "cell_type": "markdown",
		   "metadata": {},
		   "source": [
			"## Example 2.8: Chapter_2_Example_8.sce"
		   ]
		  },
  {
"cell_type": "code",
	   "execution_count": null,
	   "metadata": {
	    "collapsed": true
	   },
	   "outputs": [],
"source": [
"clear;\n",
"clc;\n",
"\n",
"//page no. 48\n",
"\n",
"gam = 53.0;// lb/cuft\n",
"D = 17;// inches\n",
"d = 12;// inches\n",
"V = (%pi/6)*(D/12)^3;\n",
"V1 = 0.584;//cuft\n",
"V2 = 0.711;//cuft\n",
"W = V*gam;\n",
"F_B = V1*62.4;\n",
"F_ACA = (V2)*62.4;\n",
"F = W+F_ACA-F_B;\n",
"printf('The force exerted between sphere and orfice plate = %.1f lb',F);\n",
"\n",
"//there is an error in the answer given in textbook"
   ]
   }
,
{
		   "cell_type": "markdown",
		   "metadata": {},
		   "source": [
			"## Example 2.9: Chapter_2_Example_9.sce"
		   ]
		  },
  {
"cell_type": "code",
	   "execution_count": null,
	   "metadata": {
	    "collapsed": true
	   },
	   "outputs": [],
"source": [
"clear;\n",
"clc;\n",
"\n",
"//page no. 51\n",
"\n",
"v = 15;// ft/sec^2\n",
"d = 5;// ft\n",
"p = integrate('-62.4*(v+32.2)/32.2','z',0,-5);\n",
"printf('p = %d psf',p);"
   ]
   }
],
"metadata": {
		  "kernelspec": {
		   "display_name": "Scilab",
		   "language": "scilab",
		   "name": "scilab"
		  },
		  "language_info": {
		   "file_extension": ".sce",
		   "help_links": [
			{
			 "text": "MetaKernel Magics",
			 "url": "https://github.com/calysto/metakernel/blob/master/metakernel/magics/README.md"
			}
		   ],
		   "mimetype": "text/x-octave",
		   "name": "scilab",
		   "version": "0.7.1"
		  }
		 },
		 "nbformat": 4,
		 "nbformat_minor": 0
}
