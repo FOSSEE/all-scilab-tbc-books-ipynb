{
"cells": [
 {
		   "cell_type": "markdown",
	   "metadata": {},
	   "source": [
       "# Chapter 8: Similitude and Dimensional Analysis"
	   ]
	},
{
		   "cell_type": "markdown",
		   "metadata": {},
		   "source": [
			"## Example 8.1: Chapter_8_Example_1.sce"
		   ]
		  },
  {
"cell_type": "code",
	   "execution_count": null,
	   "metadata": {
	    "collapsed": true
	   },
	   "outputs": [],
"source": [
"clear;\n",
"clc;\n",
"//page no. 266\n",
"Tw = 32;// degreeF\n",
"d1 = 3;// in\n",
"v = 10;//fps\n",
"delp = 2;//psi\n",
"h1 = 30;// ft\n",
"Tb = 68;//degreeF\n",
"d2 = 1;//in\n",
"h2 = 10;//ft\n",
"V = v*(d1/12)*0.0000137/((d2/12)*0.88*0.0000375);\n",
"del_p = delp/h2^2 *0.88*V^2;\n",
"printf('V = %.2f fps\n del_p = %.2f psi',V,del_p);"
   ]
   }
,
{
		   "cell_type": "markdown",
		   "metadata": {},
		   "source": [
			"## Example 8.2: Chapter_8_Example_2.sce"
		   ]
		  },
  {
"cell_type": "code",
	   "execution_count": null,
	   "metadata": {
	    "collapsed": true
	   },
	   "outputs": [],
"source": [
"clear;\n",
"clc;\n",
"\n",
"//page no. 266\n",
"\n",
"l = 400;// ft\n",
"h = 10;//ft\n",
"v = 30;// fps\n",
"D = 2;//lb\n",
"V = sqrt((v^2 /l)*h);\n",
"D_p = (D/V^2) *(v^2)*(l^2)/h^2;\n",
"printf('V = %.2f fps\n Prototype drag = %d lb',V,D_p);"
   ]
   }
,
{
		   "cell_type": "markdown",
		   "metadata": {},
		   "source": [
			"## Example 8.3: Chapter_8_Example_3.sce"
		   ]
		  },
  {
"cell_type": "code",
	   "execution_count": null,
	   "metadata": {
	    "collapsed": true
	   },
	   "outputs": [],
"source": [
"clear;\n",
"clc;\n",
"\n",
"//page no.266\n",
"\n",
"G = 20000;//cfs\n",
"k = 1/15;\n",
"Q_m = G*(k)^(2+ 1/2);\n",
"printf('Qm = %d cfs',Q_m);\n",
"\n",
"//there is a minute error in the answer given in textbook"
   ]
   }
,
{
		   "cell_type": "markdown",
		   "metadata": {},
		   "source": [
			"## Example 8.4: Chapter_8_Example_4.sce"
		   ]
		  },
  {
"cell_type": "code",
	   "execution_count": null,
	   "metadata": {
	    "collapsed": true
	   },
	   "outputs": [],
"source": [
"clear;\n",
"clc;\n",
"\n",
"//page no. 266\n",
"\n",
"k = 1/10;\n",
"v = 3000;//fps\n",
"h = 15000;//altitude\n",
"T = 68;// degreeF\n",
"am = 870;//fps\n",
"ap = 1057;//fps\n",
"Vm = v*(am/ap);\n",
"rho_m = v*(1/k)*0.001495*0.031/(0.033*Vm);\n",
"p_m = 32.2*rho_m*34.9*(T+460)/(144);\n",
"printf('Vm = %d fps\n p_m = %d psia',Vm,p_m);\n",
"\n",
"//there is a small error in the answer given in textbook"
   ]
   }
],
"metadata": {
		  "kernelspec": {
		   "display_name": "Scilab",
		   "language": "scilab",
		   "name": "scilab"
		  },
		  "language_info": {
		   "file_extension": ".sce",
		   "help_links": [
			{
			 "text": "MetaKernel Magics",
			 "url": "https://github.com/calysto/metakernel/blob/master/metakernel/magics/README.md"
			}
		   ],
		   "mimetype": "text/x-octave",
		   "name": "scilab",
		   "version": "0.7.1"
		  }
		 },
		 "nbformat": 4,
		 "nbformat_minor": 0
}
