{
"cells": [
 {
		   "cell_type": "markdown",
	   "metadata": {},
	   "source": [
       "# Chapter 9: Fluid Flow in Pipes"
	   ]
	},
{
		   "cell_type": "markdown",
		   "metadata": {},
		   "source": [
			"## Example 9.10: Chapter_9_Example_10.sce"
		   ]
		  },
  {
"cell_type": "code",
	   "execution_count": null,
	   "metadata": {
	    "collapsed": true
	   },
	   "outputs": [],
"source": [
"clear;\n",
"clc;\n",
"\n",
"//page no. 305\n",
"Q = 90;//gpm\n",
"d = 3;//in\n",
"l = 3000;//ft\n",
"V = Q/(60*7.48*0.25*%pi*(d/12)^2);\n",
"R_h = (d/12)/4;\n",
"C_hw = 140;\n",
"S = (V/(1.318*140*R_h^0.63))^(1/0.54);\n",
"h_L = S*l;\n",
"printf('The loss of head = %.1f ft of water',h_L);\n",
"\n",
"//there is a minute error in the answer given in textbook"
   ]
   }
,
{
		   "cell_type": "markdown",
		   "metadata": {},
		   "source": [
			"## Example 9.11: Chapter_9_Example_11.sce"
		   ]
		  },
  {
"cell_type": "code",
	   "execution_count": null,
	   "metadata": {
	    "collapsed": true
	   },
	   "outputs": [],
"source": [
"clear;\n",
"clc;\n",
"\n",
"//page no. 307\n",
"\n",
"G = 40;// lb/min\n",
"d = 3;// in\n",
"T = 100;// degreeF\n",
"p = 50;// psia\n",
"l = 2000;//ft\n",
"Re = ((G/60)*(d/12))/(0.0491*32.2*4*10^-7);\n",
"f = 0.015;\n",
"gam1 = p*(144/(53.3*(T+460)));\n",
"V1 = (G/60)/(gam1*0.0491);\n",
"a = sqrt(1.4*32.2*53.3*(T+460));\n",
"M1 = V1/a;\n",
"M2_limit = sqrt(1/1.4);\n",
"l = (((1-(M1/M2_limit)^2)/(1.4*M1^2)) - 2*log(M2_limit/M1))*(0.25/0.015);\n",
"p2 = 38.9;//psia, from trial and error method \n",
"printf('p2 = %.1f psia',p2);"
   ]
   }
,
{
		   "cell_type": "markdown",
		   "metadata": {},
		   "source": [
			"## Example 9.12: Chapter_9_Example_12.sce"
		   ]
		  },
  {
"cell_type": "code",
	   "execution_count": null,
	   "metadata": {
	    "collapsed": true
	   },
	   "outputs": [],
"source": [
"clear;\n",
"clc;\n",
"\n",
"//page no. 312\n",
"\n",
"d = 12;// in\n",
"D = 24;//in\n",
"theta = 20;//degrees\n",
"G = 10;//cfs\n",
"p = 20;//psi\n",
"V12 = G/(0.25*%pi);\n",
"V24 = V12/4;\n",
"K_L = 0.43;\n",
"p24 = ((p*144/62.4) + (V12^2 /(2*32.2)) - ((V24^2)/(2*32.2)) - K_L*(V12-V24)^2 /(2*32.2))/2.314;\n",
"printf('Pressure in the larger pipe = %.1f psi',p24);"
   ]
   }
,
{
		   "cell_type": "markdown",
		   "metadata": {},
		   "source": [
			"## Example 9.13: Chapter_9_Example_13.sce"
		   ]
		  },
  {
"cell_type": "code",
	   "execution_count": null,
	   "metadata": {
	    "collapsed": true
	   },
	   "outputs": [],
"source": [
"clear;\n",
"clc;\n",
"\n",
"//page no. 322\n",
"\n",
"d = 12;// in\n",
"l = 1000;//ft\n",
"h1 = 200;//elevation\n",
"h2 = 250;//elevation\n",
"T = 50;//degreeF\n",
"f1 = 0.030;\n",
"V1 = sqrt((h2-h1)*2*32.2/(0.5+f1*l +1));\n",
"R1 = V1/0.00000141;\n",
"f2 = 0.019;\n",
"V2 = sqrt((h2-h1)*2*32.2/(0.5+f2*l +1));\n",
"R2 = V1/0.00000141;\n",
"Q = 0.25*%pi*(d/12)^2 *V2; \n",
"printf('Velocity = %.1f fps\n flow rate = %.1f cfs',V2,Q);"
   ]
   }
,
{
		   "cell_type": "markdown",
		   "metadata": {},
		   "source": [
			"## Example 9.14: Chapter_9_Example_14.sce"
		   ]
		  },
  {
"cell_type": "code",
	   "execution_count": null,
	   "metadata": {
	    "collapsed": true
	   },
	   "outputs": [],
"source": [
"clear;\n",
"clc;\n",
"\n",
"//page no. 322\n",
"\n",
"l = 200;//ft\n",
"Q = 0.1;//cfs\n",
"del_h = 5;//ft\n",
"T = 50;//degreeF\n",
"d = 0.187;//ft\n",
"V = Q/(0.25*%pi*d^2);\n",
"R = V*d/0.0000141;\n",
"f = (del_h*2*32.2/V^2 -(1+0.5))*(d/l);\n",
"printf('Required diameter of the pipe = %.2f in.',d*12);"
   ]
   }
,
{
		   "cell_type": "markdown",
		   "metadata": {},
		   "source": [
			"## Example 9.15: Chapter_9_Example_15.sce"
		   ]
		  },
  {
"cell_type": "code",
	   "execution_count": null,
	   "metadata": {
	    "collapsed": true
	   },
	   "outputs": [],
"source": [
"clear;\n",
"clc;\n",
"\n",
"//page no. 324\n",
"\n",
"Q = 2.5;//cfs\n",
"T = 50;//degreeF\n",
"d1 = 8;//in\n",
"d2 = 6;//in\n",
"l1 = 1000;//ft\n",
"l2 = 2000;//ft\n",
"V8 = Q/(0.25*%pi*(d1/12)^2);\n",
"V6 = Q/(0.25*%pi*(d2/12)^2);\n",
"R8 = V8*0.667/0.0000141;\n",
"f8 = 0.020;\n",
"R6 = V6*0.5/0.0000141;\n",
"f6 = 0.019;\n",
"h_L8 = f8*(l1/0.667)*(V8^2 /(2*32.2));\n",
"h_L6 = f6*(l2/0.5)*(V6^2 /(2*32.2));\n",
"Ep = 100+h_L8+h_L6;\n",
"n = Q*62.4*(Ep)/550;\n",
"V8 = sqrt((30/f8)*2*32.2/(l1/0.667));\n",
"Q_max = V8*0.25*%pi*(d1/12)^2;\n",
"printf('Maximum reliable flow that can be pumped = %.1f cfs',Q_max);"
   ]
   }
,
{
		   "cell_type": "markdown",
		   "metadata": {},
		   "source": [
			"## Example 9.16: Chapter_9_Example_16.sce"
		   ]
		  },
  {
"cell_type": "code",
	   "execution_count": null,
	   "metadata": {
	    "collapsed": true
	   },
	   "outputs": [],
"source": [
"clear;\n",
"clc;\n",
"\n",
"//page no. 327\n",
"\n",
"Q = 5;//cfs\n",
"d = 12;//in\n",
"l = 5000;//ft\n",
"h = 70;//ft\n",
"L = 2000;//ft\n",
"K = (h/Q^1.85);\n",
"a = (L/l)*K;\n",
"b = ((l-L)/l)*K;\n",
"Q_ = (h/((b+a*(0.5^(1.85)))))^(1/1.85);\n",
"Q_A = Q_/2;\n",
"Q_B = Q_/2;\n",
"del = Q_-Q;//gain capcaity\n",
"percent = (del/Q)*100;//gain percentage\n",
"printf('The gain of capacity by looping the pipe is %.1f cfs or %d percentage',del,percent);"
   ]
   }
,
{
		   "cell_type": "markdown",
		   "metadata": {},
		   "source": [
			"## Example 9.1: Chapter_9_Example_1.sce"
		   ]
		  },
  {
"cell_type": "code",
	   "execution_count": null,
	   "metadata": {
	    "collapsed": true
	   },
	   "outputs": [],
"source": [
"clear;\n",
"clc;\n",
"//page no.281\n",
"d = 6;//inches\n",
"v = 15;//fps\n",
"l = 100;//ft\n",
"h_L = 17.5;//ft\n",
"f = h_L*(d/(12*l))*(2*32.2/v^2);\n",
"V_f = v*sqrt(f/8);\n",
"printf('The friction velocity = %.2f fps',V_f);\n",
"//there is an error in the answer given in textbook"
   ]
   }
,
{
		   "cell_type": "markdown",
		   "metadata": {},
		   "source": [
			"## Example 9.2: Chapter_9_Example_2.sce"
		   ]
		  },
  {
"cell_type": "code",
	   "execution_count": null,
	   "metadata": {
	    "collapsed": true
	   },
	   "outputs": [],
"source": [
"clear;\n",
"clc;\n",
"\n",
"//page no. 285\n",
"\n",
"T = 100;// degreeF\n",
"d = 3;// inches\n",
"Re = 80000;// Reynolds number\n",
"e = 0.006;// inches\n",
"l = 1000;//feet\n",
"f1 = 0.021;//friction factor\n",
"nu = 0.729*10^-5;// sqft/sec\n",
"V = Re*nu/0.25;\n",
"h_L1 = f1*(l/0.25)*(V^2 /(2*32.2));\n",
"f = 0.316/Re^0.25;\n",
"h_L = (f/f1)*h_L1;\n",
"printf('Head loss expected = %.1f ft\n and head loss expected if the pipe were smooth = %.2f ft',h_L1,h_L);"
   ]
   }
,
{
		   "cell_type": "markdown",
		   "metadata": {},
		   "source": [
			"## Example 9.3: Chapter_9_Example_3.sce"
		   ]
		  },
  {
"cell_type": "code",
	   "execution_count": null,
	   "metadata": {
	    "collapsed": true
	   },
	   "outputs": [],
"source": [
"clear;\n",
"clc;\n",
"\n",
"//page no. 288\n",
"\n",
"T = 100;//degreeF\n",
"d = 3;// inches\n",
"Re = 80000;// Reynolds number\n",
"e = 0.006;//inches\n",
"l = 1000;//ft\n",
"f = 0.0255;//friction factor\n",
"V = 2.33;//fps\n",
"h_L = f*(l/0.25)*(V^2 /(2*32.2));\n",
"printf('Head loss expected = %.1f ft',h_L);"
   ]
   }
,
{
		   "cell_type": "markdown",
		   "metadata": {},
		   "source": [
			"## Example 9.4: Chapter_9_Example_4.sce"
		   ]
		  },
  {
"cell_type": "code",
	   "execution_count": null,
	   "metadata": {
	    "collapsed": true
	   },
	   "outputs": [],
"source": [
"clear;\n",
"clc;\n",
"\n",
"//page no. 290\n",
"\n",
"Q = 100;//gallons per minute\n",
"sg = 0.90;\n",
"nu = 0.0012;// lb-sec/sqft\n",
"d = 3;// in\n",
"l = 1000;//ft\n",
"r = 1;//in\n",
"V = 4.53;//fps\n",
"Re = V*(d/12)*sg*1.935/nu;\n",
"h_L = (64/Re)*(12*l/d)*(V^2 /(2*32.2));\n",
"v = 2*V*(1 - (2/d)^2);\n",
"tau = 62.4*sg*h_L/(2*l*12);\n",
"printf('v = %.2f fps\n h_L = %.1f ft of oil\n tau = %.3f psf',v,h_L,tau);"
   ]
   }
,
{
		   "cell_type": "markdown",
		   "metadata": {},
		   "source": [
			"## Example 9.6: Chapter_9_Example_6.sce"
		   ]
		  },
  {
"cell_type": "code",
	   "execution_count": null,
	   "metadata": {
	    "collapsed": true
	   },
	   "outputs": [],
"source": [
"clear;\n",
"clc;\n",
"\n",
"//page no. 295\n",
"\n",
"Q = 90;// gallons per minute\n",
"T = 68;//degreeF\n",
"d = 3;// in\n",
"l = 3000;//ft\n",
"r = 1;// in\n",
"f = 0.018;\n",
"V = Q/(60*7.48*0.25*%pi*(d/12)^2);\n",
"Re = V*(d/12)*1.935/(0.000021);\n",
"h_L = f*(l/0.25)*(V^2 /(2*32.2));\n",
"tau_0 = f*1.935*V^2 /8;\n",
"tau1 = 2*tau_0/d;\n",
"v_c = V*(1+4.07*sqrt(f/8));\n",
"v_ = sqrt(tau_0/1.935);\n",
"v1 = v_*(5.50+5.75*log10(v_*(r/(2*12))/0.00001085));\n",
"v1_ = v_c-v_*5.75*log10(0.5*d/(r/2));\n",
"delta = d*32.8/(Re*sqrt(f));\n",
"printf('Head lost = %.1f ft of water\n Wall shear stress = %.3f psf\n the center velocity = %.2f fps\n shearing stress = %.3f psf\n v1 = %.2f fps\n delta = %.4f in.',h_L,tau_0,v_c,tau1,v1_,delta);"
   ]
   }
,
{
		   "cell_type": "markdown",
		   "metadata": {},
		   "source": [
			"## Example 9.7: Chapter_9_Example_7.sce"
		   ]
		  },
  {
"cell_type": "code",
	   "execution_count": null,
	   "metadata": {
	    "collapsed": true
	   },
	   "outputs": [],
"source": [
"clear;\n",
"clc;\n",
"\n",
"//page no. 298\n",
"\n",
"d = 12;// in\n",
"v = 10;//fps\n",
"e = 2;//in\n",
"k = 0.002;//relative roughness\n",
"l = 1000;//ft\n",
"f = (1/(1.14+2*log10(1/k)))^2;\n",
"v_c = v*(1+4.07*sqrt(f/8));\n",
"tau_0 = f*1.935*v^2 /8;\n",
"v2 = v_c - tau_0*5.75*log10(0.5*d/e);\n",
"v2_ = 8.48*tau_0 + tau_0*5.75*log10(e/(12*k));\n",
"h_L = f*(l)*v^2 /(2*32.2); \n",
"printf('f = %.4f\n v_c = %.2f fps\n v2 = %.1f fps\n h_L = %.1f ft of water',f,v_c,v2_,h_L);\n",
"\n",
"//there are small errors in the answer given in textbook"
   ]
   }
,
{
		   "cell_type": "markdown",
		   "metadata": {},
		   "source": [
			"## Example 9.8: Chapter_9_Example_8.sce"
		   ]
		  },
  {
"cell_type": "code",
	   "execution_count": null,
	   "metadata": {
	    "collapsed": true
	   },
	   "outputs": [],
"source": [
"clear;\n",
"clc;\n",
"\n",
"//page no. 300\n",
"\n",
"V = 4.08;// fps\n",
"Re = 93800;//Reynolds number\n",
"r = 1;//in\n",
"m = 1/7;\n",
"R = 3;//in\n",
"f = 0.316/(Re^0.25);\n",
"v_c = V/(2/((m+1)*(m+2)));\n",
"v1 = v_c*(r/R)^(1/7);\n",
"tau_0 = f*1.935*V^2 /8;\n",
"printf('f = %.3f\n v_c = %.2f fps\n v1 = %.2f fps\n wall shear = %.3f ps',f,v_c,v1,tau_0);"
   ]
   }
,
{
		   "cell_type": "markdown",
		   "metadata": {},
		   "source": [
			"## Example 9.9: Chapter_9_Example_9.sce"
		   ]
		  },
  {
"cell_type": "code",
	   "execution_count": null,
	   "metadata": {
	    "collapsed": true
	   },
	   "outputs": [],
"source": [
"clear;\n",
"clc;\n",
"\n",
"//page no. 302\n",
"\n",
"p = 14.7;//psia\n",
"T = 60;// degreeF\n",
"l = 2000;//ft\n",
"b = 18;//in\n",
"h = 12;// in\n",
"v = 10;// fps\n",
"R_h = (b*h)/(2*12*(b+h));\n",
"Re = v*4*R_h*0.0763/(32.2*0.000000375);\n",
"f = 0.019;\n",
"h_L = f*(l/(4*R_h))*v^2 /(2*32.2);\n",
"del_p = 0.0763*h_L;\n",
"printf('loss of head = %.1f ft of air\n and the pressure drop = %.2f psf = %.3f psi',h_L,del_p,del_p*0.0069);"
   ]
   }
],
"metadata": {
		  "kernelspec": {
		   "display_name": "Scilab",
		   "language": "scilab",
		   "name": "scilab"
		  },
		  "language_info": {
		   "file_extension": ".sce",
		   "help_links": [
			{
			 "text": "MetaKernel Magics",
			 "url": "https://github.com/calysto/metakernel/blob/master/metakernel/magics/README.md"
			}
		   ],
		   "mimetype": "text/x-octave",
		   "name": "scilab",
		   "version": "0.7.1"
		  }
		 },
		 "nbformat": 4,
		 "nbformat_minor": 0
}
