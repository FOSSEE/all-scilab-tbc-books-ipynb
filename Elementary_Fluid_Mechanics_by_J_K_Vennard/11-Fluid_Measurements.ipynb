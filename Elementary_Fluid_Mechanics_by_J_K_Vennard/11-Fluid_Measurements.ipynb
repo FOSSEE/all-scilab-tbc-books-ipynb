{
"cells": [
 {
		   "cell_type": "markdown",
	   "metadata": {},
	   "source": [
       "# Chapter 11: Fluid Measurements"
	   ]
	},
{
		   "cell_type": "markdown",
		   "metadata": {},
		   "source": [
			"## Example 11.1: Chapter_11_Example_1.sce"
		   ]
		  },
  {
"cell_type": "code",
	   "execution_count": null,
	   "metadata": {
	    "collapsed": true
	   },
	   "outputs": [],
"source": [
"clear;\n",
"clc;\n",
"//page no.409\n",
"C_I = 0.98;//coefficient of pitot tube\n",
"d = 3;//in\n",
"del_p = (d/12)*(13.55-0.88)/0.88;\n",
"v_c = C_I*sqrt(2*32.2*del_p);\n",
"printf('The velocity at the centerline of the pipe = %.1f fps',v_c);"
   ]
   }
,
{
		   "cell_type": "markdown",
		   "metadata": {},
		   "source": [
			"## Example 11.2: Chapter_11_Example_2.sce"
		   ]
		  },
  {
"cell_type": "code",
	   "execution_count": null,
	   "metadata": {
	    "collapsed": true
	   },
	   "outputs": [],
"source": [
"clear;\n",
"clc;\n",
"\n",
"//page no. 411\n",
"\n",
"P = 25;//in. of mercury\n",
"p = 18;//in. of mercury\n",
"T = 150;//degreeF\n",
"\n",
"k = P/p;\n",
"if k < (1.893) then\n",
"    V = sqrt(2*32.2*186.5*(T+460)*(1-(1/k)^0.286));\n",
"end\n",
"\n",
"printf('The local velocity just upstream from the pitot static tube = %d fps',V);"
   ]
   }
,
{
		   "cell_type": "markdown",
		   "metadata": {},
		   "source": [
			"## Example 11.3: Chapter_11_Example_3.sce"
		   ]
		  },
  {
"cell_type": "code",
	   "execution_count": null,
	   "metadata": {
	    "collapsed": true
	   },
	   "outputs": [],
"source": [
"clear;\n",
"clc;\n",
"\n",
"//page no. 411\n",
"\n",
"P = 20;//in. of mercury\n",
"p = 5;//in. of mercury\n",
"T = 150;//degreeF\n",
"\n",
"k = P/p;\n",
"\n",
"if k >1.893 then\n",
"    M_0 = 1.645;\n",
"end\n",
"V_0 = sqrt(2*32.2*186.5*(T+460)/(1+ (2*186.5)/(53.3*1.4*M_0^2)));\n",
"\n",
"printf('The speed of this airplane = %d fps',V_0);\n",
"\n",
"//there is an error in the answer given in textbook"
   ]
   }
,
{
		   "cell_type": "markdown",
		   "metadata": {},
		   "source": [
			"## Example 11.4: Chapter_11_Example_4.sce"
		   ]
		  },
  {
"cell_type": "code",
	   "execution_count": null,
	   "metadata": {
	    "collapsed": true
	   },
	   "outputs": [],
"source": [
"clear;\n",
"clc;\n",
"\n",
"//page no. 420\n",
"\n",
"b = 6;//in\n",
"d = 3;//in\n",
"p = 20;//psi\n",
"del_p = 6;//in. of mercury\n",
"p_bar = 14.70;//psia\n",
"T = 60;//degreeF\n",
"\n",
"k = (p + p_bar - b*(p_bar/29.92))/(p+p_bar);\n",
"gam1 = (p+p_bar)*144/53.3 /(T+460);\n",
"A2 = 0.0491;//sqft\n",
"Y = 0.949;\n",
"Cv = 0.98;\n",
"G = Y*Cv*A2*gam1*sqrt(2*32.2*b*10*A2*144/gam1) /(sqrt(1-0.25^2));\n",
"Cv_true = 0.981;\n",
"G_true = G*Cv_true/Cv;\n",
"\n",
"printf('G = %.2f lb/sec',G);"
   ]
   }
,
{
		   "cell_type": "markdown",
		   "metadata": {},
		   "source": [
			"## Example 11.5: Chapter_11_Example_5.sce"
		   ]
		  },
  {
"cell_type": "code",
	   "execution_count": null,
	   "metadata": {
	    "collapsed": true
	   },
	   "outputs": [],
"source": [
"clear;\n",
"clc;\n",
"\n",
"//page no. 422\n",
"\n",
"d = 3;//in\n",
"l = 6;//in\n",
"h = 6;//in\n",
"T = 60;//degreeF\n",
"\n",
"Cv= 0.99;\n",
"A1 = 0.25*%pi*(d/12)^2;\n",
"Q = Cv*A1*sqrt(2*32.2*(h/12)*(13.55-1)) /(sqrt(1-0.25^2));\n",
"Cv_true = 0.988;\n",
"Q_true = Q*Cv_true/Cv;\n",
"h_L = 3.8;\n",
"\n",
"printf('Q = %.3f cfs',Q);\n",
"printf('\n True Q = %.3f cfs',Q_true);\n",
"printf('\n Total head loss is about %.1f ft of water',h_L);\n",
"\n",
"//there are small errors in the answer given in textbook"
   ]
   }
],
"metadata": {
		  "kernelspec": {
		   "display_name": "Scilab",
		   "language": "scilab",
		   "name": "scilab"
		  },
		  "language_info": {
		   "file_extension": ".sce",
		   "help_links": [
			{
			 "text": "MetaKernel Magics",
			 "url": "https://github.com/calysto/metakernel/blob/master/metakernel/magics/README.md"
			}
		   ],
		   "mimetype": "text/x-octave",
		   "name": "scilab",
		   "version": "0.7.1"
		  }
		 },
		 "nbformat": 4,
		 "nbformat_minor": 0
}
