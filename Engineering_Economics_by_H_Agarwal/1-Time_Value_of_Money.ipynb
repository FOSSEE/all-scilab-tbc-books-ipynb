{
"cells": [
 {
		   "cell_type": "markdown",
	   "metadata": {},
	   "source": [
       "# Chapter 1: Time Value of Money"
	   ]
	},
{
		   "cell_type": "markdown",
		   "metadata": {},
		   "source": [
			"## Example 1.10: Find_the_compounded_Amount.sce"
		   ]
		  },
  {
"cell_type": "code",
	   "execution_count": null,
	   "metadata": {
	    "collapsed": true
	   },
	   "outputs": [],
"source": [
"//Exa10\n",
"clc;\n",
"clear;\n",
"close;\n",
"//given data :\n",
"r=6;//in % per annum\n",
"i=r/100;\n",
"//componding is done half yearly\n",
"m=2;\n",
"//formula EIR=(1+i/m)^m-1;\n",
"EIR=(1+i/m)^m-1;\n",
"//calculating FVA taking i=EIR;\n",
"//formula FVA=(A*(1+i)^n-1)/i;\n",
"A=100;//in Rs\n",
"n=18;//in years\n",
"i=EIR;\n",
"FVA=(A*((1+i)^n-1))/i;\n",
"disp(FVA,'Future Value of amount(in Rs) : ');\n",
"//Note: answer given in the book is not accurate"
   ]
   }
,
{
		   "cell_type": "markdown",
		   "metadata": {},
		   "source": [
			"## Example 1.11: Calculate_present_value.sce"
		   ]
		  },
  {
"cell_type": "code",
	   "execution_count": null,
	   "metadata": {
	    "collapsed": true
	   },
	   "outputs": [],
"source": [
"//Exa11\n",
"clc;\n",
"clear;\n",
"close;\n",
"//given data :\n",
"Vn=5000;//in Rs\n",
"r=10;//in % per annum\n",
"i=r/100;\n",
"n=5;//in years\n",
"//formula for present value Vo=Vn/(1+i)^n\n",
"Vo=Vn/(1+i)^n;\n",
"disp(Vo,'Present value is: ')"
   ]
   }
,
{
		   "cell_type": "markdown",
		   "metadata": {},
		   "source": [
			"## Example 1.12: Calculate_how_much_amount_should_be_deposited_today.sce"
		   ]
		  },
  {
"cell_type": "code",
	   "execution_count": null,
	   "metadata": {
	    "collapsed": true
	   },
	   "outputs": [],
"source": [
"//Exa12\n",
"clc;\n",
"clear;\n",
"close;\n",
"//given data :\n",
"Vn=15000;//in Rs\n",
"r=12;//in % per annum\n",
"i=r/100;\n",
"n=5;//in years\n",
"m=2;//for half yearly compounding\n",
"//formula EIR=(1+i/m)^m-1;\n",
"EIR=(1+i/m)^m-1;\n",
"//formula for present value Vo=Vn/(1+i)^n\n",
"//taking i=EIR;\n",
"i=EIR;\n",
"Vo=Vn/(1+i)^n;\n",
"disp(Vo,'Present value is: ')"
   ]
   }
,
{
		   "cell_type": "markdown",
		   "metadata": {},
		   "source": [
			"## Example 1.13: Calculate_borrowed_sum.sce"
		   ]
		  },
  {
"cell_type": "code",
	   "execution_count": null,
	   "metadata": {
	    "collapsed": true
	   },
	   "outputs": [],
"source": [
"//Exa13\n",
"clc;\n",
"clear;\n",
"close;\n",
"//given data :\n",
"R1=676;//in Rs\n",
"R2=676;//in Rs\n",
"r=4;//in % per annum\n",
"i=r/100;\n",
"n=2;//in years\n",
"//formula for present value of series payments V0=R1/(1+i)^(1)+R2/(1+i)^(2)+..\n",
"Vo=R1/(1+i)^(1)+R2/(1+i)^(2);\n",
"disp(Vo,'The borrowed sum is : ')"
   ]
   }
,
{
		   "cell_type": "markdown",
		   "metadata": {},
		   "source": [
			"## Example 1.14: Calculate_present_value_of_a_series_of_unequal_cashflows.sce"
		   ]
		  },
  {
"cell_type": "code",
	   "execution_count": null,
	   "metadata": {
	    "collapsed": true
	   },
	   "outputs": [],
"source": [
"//Exa14\n",
"clc;\n",
"clear;\n",
"close;\n",
"//given data :\n",
"R1=5000;//in Rs\n",
"R2=10000;//in Rs\n",
"R3=10000;//in Rs\n",
"R4=3000;//in Rs\n",
"R5=2000;//in Rs\n",
"r=10;//in % per annum\n",
"i=r/100;\n",
"n=5;//in years\n",
"//formula for present vlue of series payments PV=R1/(1+i)^(1)+R2/(1+i)^(2)+.............+Rn/(1+i)^n;\n",
"PV=R1/(1+i)^(1)+R2/(1+i)^(2)+R3/(1+i)^(3)+R4/(1+i)^4+R5/(1+i)^5;\n",
"disp(PV,'Present value is: ')"
   ]
   }
,
{
		   "cell_type": "markdown",
		   "metadata": {},
		   "source": [
			"## Example 1.15: Calculate_ammount_of_each_instalment.sce"
		   ]
		  },
  {
"cell_type": "code",
	   "execution_count": null,
	   "metadata": {
	    "collapsed": true
	   },
	   "outputs": [],
"source": [
"//Exa15\n",
"clc;\n",
"clear;\n",
"close;\n",
"//given data :\n",
"Vo=20000;//in Rs\n",
"r=4;//in % per annum\n",
"i=r/100;\n",
"n=10;//in years\n",
"//formula for annuity can be determined by Vo=(A*((1+i)^n-1))/(i*((1+i)^n));\n",
"A=(Vo*(i*((1+i)^n)))/((1+i)^n-1)\n",
"disp(A,'The amount of each investment(in Rs) is : ')\n",
"//Note: answer given in the book is not accurate"
   ]
   }
,
{
		   "cell_type": "markdown",
		   "metadata": {},
		   "source": [
			"## Example 1.16: Calculate_annual_payment.sce"
		   ]
		  },
  {
"cell_type": "code",
	   "execution_count": null,
	   "metadata": {
	    "collapsed": true
	   },
	   "outputs": [],
"source": [
"//Exa16\n",
"clc;\n",
"clear;\n",
"close;\n",
"//given data :\n",
"Vn=500000;//in Rs\n",
"r=10;//in % per annum\n",
"i=r/100;\n",
"n=5;//in years\n",
"//Formula for needed annual payment R=(Vn*i)/((1+i)^n-1);\n",
"R=(Vn*i)/((1+i)^n-1);\n",
"disp(R,'Required value(in Rs) : ')\n",
"//Note: answer given in the book is not accurate"
   ]
   }
,
{
		   "cell_type": "markdown",
		   "metadata": {},
		   "source": [
			"## Example 1.17: Calculate_size_of_instalment.sce"
		   ]
		  },
  {
"cell_type": "code",
	   "execution_count": null,
	   "metadata": {
	    "collapsed": true
	   },
	   "outputs": [],
"source": [
"//Exa17\n",
"clc;\n",
"clear;\n",
"close;\n",
"//given data :\n",
"Vo=200000;//in Rs\n",
"r=8;//in % per annum\n",
"i=r/100;\n",
"n=5;//in years\n",
"//Formula for size of installment can be calculated by Vo=(A*((1+i)^n-1))/(i*(1+i)^n);\n",
"A=(Vo*(i*(1+i)^n))/((1+i)^n-1);\n",
"disp(A,'Required value(in Rs) : ')\n",
"//Note: answer given in the book is not accurate"
   ]
   }
,
{
		   "cell_type": "markdown",
		   "metadata": {},
		   "source": [
			"## Example 1.1: Calculate_compound_interest.sce"
		   ]
		  },
  {
"cell_type": "code",
	   "execution_count": null,
	   "metadata": {
	    "collapsed": true
	   },
	   "outputs": [],
"source": [
"//Exa1\n",
"clc;\n",
"clear;\n",
"close;\n",
"//given data :\n",
"Vo=500;//in Rs\n",
"r=5;//in % per annum\n",
"i=r/100;\n",
"n=3;//in years\n",
"//formula Vn=Vo*(1+i)^n\n",
"V3=Vo*(1+i)^n;\n",
"disp(V3,'future value after three years : ')\n",
"CI=V3-Vo;\n",
"disp(CI,'compound interest is  : ')"
   ]
   }
,
{
		   "cell_type": "markdown",
		   "metadata": {},
		   "source": [
			"## Example 1.2: Calculate_Doubling_Time.sce"
		   ]
		  },
  {
"cell_type": "code",
	   "execution_count": null,
	   "metadata": {
	    "collapsed": true
	   },
	   "outputs": [],
"source": [
"//Exa2\n",
"clc;\n",
"clear;\n",
"close;\n",
"//given data :\n",
"i=6;//in % per annum\n",
"//we know rule of 72\n",
"disp('According to Rule of 72 : doubling period=72/(rate of interest)');\n",
"doublingperiod=72/i;\n",
"disp(doublingperiod,'Doubling period(in years) : ');\n",
"\n",
" \n",
"//we know rule of 69\n",
"disp('According to Rule of 69 : doubling period=0.35+69/(rate of interest)');\n",
"doublingperiod=0.35+69/i;\n",
"disp(doublingperiod,'Doubling period(in years) : ');\n",
"\n",
"\n",
""
   ]
   }
,
{
		   "cell_type": "markdown",
		   "metadata": {},
		   "source": [
			"## Example 1.3_a: calculate_compound_value_on_yearly_basis.sce"
		   ]
		  },
  {
"cell_type": "code",
	   "execution_count": null,
	   "metadata": {
	    "collapsed": true
	   },
	   "outputs": [],
"source": [
"//Exa3a\n",
"clc;\n",
"clear;\n",
"close;\n",
"//given data :\n",
"Vo=1000;//in Rs\n",
"r=12;//in % per annum\n",
"i=r/100;\n",
"t=3;//in years\n",
"//interest is calculated in yearly basis\n",
"n=t;\n",
"//formula Vn=Vo*(1+i)^n\n",
"Vn=Vo*(1+i)^n;\n",
"disp(Vn,' The compound value (in Rs.) : ')\n",
"//The ans in the book is wrong\n",
"disp('Note : The ans in the book is wrong')"
   ]
   }
,
{
		   "cell_type": "markdown",
		   "metadata": {},
		   "source": [
			"## Example 1.3_b: calculate_compound_value_on_quarterly_basis.sce"
		   ]
		  },
  {
"cell_type": "code",
	   "execution_count": null,
	   "metadata": {
	    "collapsed": true
	   },
	   "outputs": [],
"source": [
"//Exa3b\n",
"clc;\n",
"clear;\n",
"close;\n",
"//given data :\n",
"Vo=1000;//in Rs\n",
"r=12;//in % per annum\n",
"i=r/100;\n",
"t=3;//in years\n",
"//interest is calculated in quarterly basis\n",
"n=4*t;\n",
"i=i/4;\n",
"//formula Vn=Vo*(1+i)^n\n",
"Vn=Vo*(1+i)^n;\n",
"disp(Vn,' The compound value (in Rs.) : ')\n",
""
   ]
   }
,
{
		   "cell_type": "markdown",
		   "metadata": {},
		   "source": [
			"## Example 1.4: calculate_compounded_Amount.sce"
		   ]
		  },
  {
"cell_type": "code",
	   "execution_count": null,
	   "metadata": {
	    "collapsed": true
	   },
	   "outputs": [],
"source": [
"//Exa4\n",
"clc;\n",
"clear;\n",
"close;\n",
"//given data :\n",
"Vo=500;//in Rs\n",
"r=16;//in % per annum\n",
"i=r/100;\n",
"n=5;//in years\n",
"//interest is calculated in quarterly basis\n",
"m=4;\n",
"//formula Vn=Vo*(1+i/m)^(m*n)\n",
"Vn=Vo*(1+i/m)^(m*n)\n",
"disp(Vn,' The amount will be(in Rs.) : ')\n",
"//Note: answer given in the book is not accurate"
   ]
   }
,
{
		   "cell_type": "markdown",
		   "metadata": {},
		   "source": [
			"## Example 1.5: calculate_compounded_amount_received_by_child.sce"
		   ]
		  },
  {
"cell_type": "code",
	   "execution_count": null,
	   "metadata": {
	    "collapsed": true
	   },
	   "outputs": [],
"source": [
"//Exa5\n",
"clc;\n",
"clear;\n",
"close;\n",
"//given data :\n",
"Vo=5000;//in Rs\n",
"r=12;//in % per annum\n",
"i=r/100;\n",
"//On 6th year means amount deposited for 5 years\n",
"n=5;//in years\n",
"//interest is calculated in Half yearly basis\n",
"m=2;\n",
"//formula Vn=Vo*(1+i/m)^(m*n)\n",
"Vn=Vo*(1+i/m)^(m*n)\n",
"disp(Vn,' After completing 5 years i.e, on its 6th year child  will recieve(in Rs.) : ')"
   ]
   }
,
{
		   "cell_type": "markdown",
		   "metadata": {},
		   "source": [
			"## Example 1.6_1: Calculate_Effective_rate_of_interest_compounding_half_yearly.sce"
		   ]
		  },
  {
"cell_type": "code",
	   "execution_count": null,
	   "metadata": {
	    "collapsed": true
	   },
	   "outputs": [],
"source": [
"//Exa 6(i)\n",
"clc;\n",
"clear;\n",
"close;\n",
"//given data :\n",
"r=9;//in % per annum\n",
"i=r/100;\n",
"//componding is done half yearly\n",
"m=2;\n",
"//formula EIR=(1+i/m)^m-1;\n",
"EIR=(1+i/m)^m-1;\n",
"%EIR=100*EIR;\n",
"disp(%EIR,'Half yearly EIR(in %) : ');"
   ]
   }
,
{
		   "cell_type": "markdown",
		   "metadata": {},
		   "source": [
			"## Example 1.6_2: Calculate_Effective_rate_of_interest_compounding_half_quarterly.sce"
		   ]
		  },
  {
"cell_type": "code",
	   "execution_count": null,
	   "metadata": {
	    "collapsed": true
	   },
	   "outputs": [],
"source": [
"//Exa 6(ii)\n",
"clc;\n",
"clear;\n",
"close;\n",
"//given data :\n",
"r=9;//in % per annum\n",
"i=r/100;\n",
"//componding is done quarterly\n",
"m=4;\n",
"//formula EIR=(1+i/m)^m-1;\n",
"EIR=(1+i/m)^m-1;\n",
"%EIR=100*EIR;\n",
"disp(%EIR,'Quarterly EIR(in %) : ');"
   ]
   }
,
{
		   "cell_type": "markdown",
		   "metadata": {},
		   "source": [
			"## Example 1.6_3: Calculate_Effective_rate_of_interest_compounding_monthly.sce"
		   ]
		  },
  {
"cell_type": "code",
	   "execution_count": null,
	   "metadata": {
	    "collapsed": true
	   },
	   "outputs": [],
"source": [
"//Exa 6(iii)\n",
"clc;\n",
"clear;\n",
"close;\n",
"//given data :\n",
"r=9;//in % per annum\n",
"i=r/100;\n",
"//componding is done monthly\n",
"m=12;\n",
"//formula EIR=(1+i/m)^m-1;\n",
"EIR=(1+i/m)^m-1;\n",
"%EIR=100*EIR;\n",
"disp(%EIR,'Monthly EIR(in %) : ');"
   ]
   }
,
{
		   "cell_type": "markdown",
		   "metadata": {},
		   "source": [
			"## Example 1.7: Find_out_rate_of_interest.sce"
		   ]
		  },
  {
"cell_type": "code",
	   "execution_count": null,
	   "metadata": {
	    "collapsed": true
	   },
	   "outputs": [],
"source": [
"//Exa7\n",
"clc;\n",
"clear;\n",
"close;\n",
"//given data :\n",
"Vo=100;//in Rs\n",
"Vn=200;//in Rs\n",
"n=7;//in years\n",
"m=2;//for half yearly compounding\n",
"//formula Vn=Vo*(1+i/m)^(m*n)\n",
"//solving for i gives\n",
"i=m*(%e^((log(Vn/Vo))/(m*n))-1);\n",
"r=i*100;\n",
"disp(r,'The rate of interest(in % per annum) is   : ')"
   ]
   }
,
{
		   "cell_type": "markdown",
		   "metadata": {},
		   "source": [
			"## Example 1.8: Calculate_future_value.sce"
		   ]
		  },
  {
"cell_type": "code",
	   "execution_count": null,
	   "metadata": {
	    "collapsed": true
	   },
	   "outputs": [],
"source": [
"//Exa8\n",
"clc;\n",
"clear;\n",
"close;\n",
"//given data :\n",
"R1=5000;//in Rs\n",
"R2=10000;//in Rs\n",
"R3=15000;//in Rs\n",
"R4=10000;//in Rs\n",
"R5=8000;//in Rs\n",
"r=10;//in % per annum\n",
"i=r/100;\n",
"n=5;//in years\n",
"//formula Vn=R1*(1+i)^(n-1)+R2*(1+i)^(n-2)+.............+Rn-1*(1+i)+Rn\n",
"V5=R1*(1+i)^(n-1)+R2*(1+i)^(n-2)+R3*(1+i)^(n-3)+R4*(1+i)^(n-4)+R5;\n",
"disp(V5,'The future value of this series of payments(in Rs) will be : ')"
   ]
   }
,
{
		   "cell_type": "markdown",
		   "metadata": {},
		   "source": [
			"## Example 1.9: Calculate_future_value.sce"
		   ]
		  },
  {
"cell_type": "code",
	   "execution_count": null,
	   "metadata": {
	    "collapsed": true
	   },
	   "outputs": [],
"source": [
"//Exa9\n",
"clc;\n",
"clear;\n",
"close;\n",
"//given data :\n",
"A=1000;//in Rs\n",
"r=16;//in % per annum\n",
"i=r/100;\n",
"n=12;//in years\n",
"//formula FVA=(A*(1+i)^n-1)/i;\n",
"FVA=(A*((1+i)^n-1))/i;\n",
"disp(FVA,'The future value(in Rs.) is : ')\n",
"//Note: answer given in the book is not accurate"
   ]
   }
],
"metadata": {
		  "kernelspec": {
		   "display_name": "Scilab",
		   "language": "scilab",
		   "name": "scilab"
		  },
		  "language_info": {
		   "file_extension": ".sce",
		   "help_links": [
			{
			 "text": "MetaKernel Magics",
			 "url": "https://github.com/calysto/metakernel/blob/master/metakernel/magics/README.md"
			}
		   ],
		   "mimetype": "text/x-octave",
		   "name": "scilab",
		   "version": "0.7.1"
		  }
		 },
		 "nbformat": 4,
		 "nbformat_minor": 0
}
