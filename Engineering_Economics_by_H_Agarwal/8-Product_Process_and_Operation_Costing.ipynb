{
"cells": [
 {
		   "cell_type": "markdown",
	   "metadata": {},
	   "source": [
       "# Chapter 8: Product Process and Operation Costing"
	   ]
	},
{
		   "cell_type": "markdown",
		   "metadata": {},
		   "source": [
			"## Example 8.10: Closing_Inventory_and_material_transfered.sce"
		   ]
		  },
  {
"cell_type": "code",
	   "execution_count": null,
	   "metadata": {
	    "collapsed": true
	   },
	   "outputs": [],
"source": [
"//Exa10\n",
"clc;\n",
"clear;\n",
"close;\n",
"disp('As spoilage occurs during process, its cost will be charged both to the complete production and the closing inventory.');\n",
"disp('    Element Units                Material     Labour     Overhead');\n",
"disp('                                   Kgs.         Kgs.        Kg.');\n",
"disp('                                   Rs.          Rs.         Rs.');\n",
"disp('Current process accoount          27000       50000       40000');\n",
"disp('Process cost per unit               2.5           5           4');\n",
"disp('Closing Inventory                125000        5000        4000');\n",
"disp('Cost of material transfered to the second process :');\n",
"Opening_Inventory=10000;//in Rs\n",
"Process_Cost=117500;//in Rs\n",
"Closing_Inventory=21500;//in Rs\n",
"disp(Opening_Inventory + Process_Cost - Closing_Inventory,'Cost of material transfered to the second process= Rs.')\n",
"disp(5000*2.5,'Material             =Rs. ');\n",
"disp(5000*5*20/100,'Labour               =Rs. ');\n",
"disp(5000*4*20/100,'Overhead             =Rs. ');\n",
"disp(5000*2.5+5000*5*20/100+5000*4*20/100,'Total= Rs. ')\n",
"disp('(b) It spoilage occurs at the end of the process, its cost will be charged only to the finished production and not to the closing inventory.');\n",
"disp('The calculation will be as follows : ');\n",
"disp('Effective Units                            Material     Labour     Overhead');\n",
"disp('From:     ')\n",
"disp('Opening inventory                                0        3000        3000');\n",
"disp('Current input                                 7000        7000        7000');\n",
"disp('Total complete units                          7000       10000       10000');\n",
"disp('Closing inventory                             5000        1000        1000');\n",
"disp('Effective units                              12000       11000       11000');\n",
"disp('Process cost                             Rs. 27500   Rs. 50000   Rs. 40000');\n",
"disp('Process cost per unit                         2.29        4.55        3.63');\n",
"disp('Closing inventory                                                      Rs.');\n",
"disp('Material    5000  x Rs.2.29        =11450');\n",
"disp('Labour      5000  x Rs.4.55 x 20%  =4550');\n",
"disp('Overhead    5000  x Rs.3.63 x 20%  =3630');\n",
"disp('                                   =Rs. 19630 ');\n",
"disp(10000+117500-19630,'Cost of materials transfered to second process= Rs. ');"
   ]
   }
,
{
		   "cell_type": "markdown",
		   "metadata": {},
		   "source": [
			"## Example 8.11: Process_account_and_Unrealised_profit.sce"
		   ]
		  },
  {
"cell_type": "code",
	   "execution_count": null,
	   "metadata": {
	    "collapsed": true
	   },
	   "outputs": [],
"source": [
"//Exa11\n",
"clc;\n",
"clear;\n",
"close;\n",
"disp('Dr.                                   Process A A/c                             Cr.');\n",
"disp('                                     Amount                                  Amount');\n",
"disp('                                       Rs.                                     Rs.  ');\n",
"disp('To Material Consumed                   2000    By closing Stock                1000');\n",
"disp('To Labour                              3000    By Process B(o/p Transfered)    5000');\n",
"disp('To Profit(20% on transfer price)      *1000')\n",
" disp('                                      6000                                    6000');\n",
"disp('');\n",
"disp('Dr.                                   Process B A/c                             Cr.');\n",
"disp('                                     Amount                                  Amount');\n",
"disp('                                       Rs.                                     Rs.  ');\n",
"disp('To Process A(Transfer of o/p)          5000    By closing Stock                2000          ')\n",
"disp('To Material                            3000    By Process C(o/p Transfered)   10000');\n",
"disp('To Labour                              2000');\n",
"disp('To Profit(20% on transfer price)      *2000')\n",
"disp('                                      12000                                   12000');\n",
"disp('');\n",
"disp('Dr.                                   Process C A/c                                  Cr.');\n",
"disp('                                     Amount                                       Amount');\n",
"disp('                                       Rs.                                          Rs.  ');\n",
"disp('To Process B(Transfer of o/p)         10000    By closing Stock                     3000          ')\n",
"disp('To Material                            1000    By Finished stock(o/p Transfered)   15000');\n",
"disp('To Labour                              4000');\n",
"disp('To Profit(20% on transfer price)      *3000')\n",
"disp('                                      18000                                        18000');\n",
"disp('') ;\n",
"disp('Finished Stock Accouont');\n",
"disp('                                     Amount                                  Amount');\n",
"disp('                                       Rs.                                     Rs.  ');\n",
"disp('To Process C(Output Recieved)         15000    By Sales                       18000          ')\n",
"disp('To Profit                              5000    By Closing Stock                2000');\n",
"disp('                                      20000                                   18000');"
   ]
   }
,
{
		   "cell_type": "markdown",
		   "metadata": {},
		   "source": [
			"## Example 8.12: Process_account_and_statement_of_profit.sce"
		   ]
		  },
  {
"cell_type": "code",
	   "execution_count": null,
	   "metadata": {
	    "collapsed": true
	   },
	   "outputs": [],
"source": [
"//Exa12 \n",
"clc;\n",
"clear;\n",
"close;\n",
"disp('Process (i) Account');\n",
"disp('                          Tons    Amount                               Tons     Amount');\n",
"disp('To Raw material           1000    200000     By weight lost              50');\n",
"disp('To Mfg. wages & expenses           87500     By Scrap                    50       2500');\n",
"disp('To profit                           9960     By Sales                   300     105000');\n",
"disp('                                             By transfer to process ii  600     189960');\n",
"disp('                          1000    297460                               1000     297460');\n",
"disp('');\n",
"disp('Process (ii) Account');\n",
"disp('                             Tons    Amount                               Tons     Amount');\n",
"disp('To transfer from process i   6000    189960     By weight lost              60');\n",
"disp('To Mfg. wages & expenses              39500     By Scrap                    30       1500');\n",
"disp('To profit                             13525     By Sales                   255     127500');\n",
"disp('                                                By transfer to process ii  255     113985');\n",
"disp('                             1000    297460                                600     242985');\n",
"disp('');\n",
"disp('Process (iiI) Account');\n",
"disp('                             Tons    Amount                               Tons     Amount');\n",
"disp('To transfer from process ii   255    113895     By weight lost              51');\n",
"disp('To Mfg. wages & expenses              10710     By Scrap                    51       2550');\n",
"disp('To profit                               255     By Sales                   153     122400');\n",
"disp('                              255    124950                                255     124950');\n",
"disp('');\n",
"disp('Statement of Profit : ');\n",
"disp('Profit as per process   i                          9960');\n",
"disp('Profit as per process  ii                         13525');\n",
"disp('Profit as per process iii                           255');\n",
"disp('Total Profit                                      23740');\n",
"disp('Less: Management Expenses         17500');\n",
"disp('Less: Selling Expenses            10000           27500');\n",
"disp('                                 Net Loss          3760');"
   ]
   }
,
{
		   "cell_type": "markdown",
		   "metadata": {},
		   "source": [
			"## Example 8.13: Labour_cost_and_value_of_work_in_progress.sce"
		   ]
		  },
  {
"cell_type": "code",
	   "execution_count": null,
	   "metadata": {
	    "collapsed": true
	   },
	   "outputs": [],
"source": [
"//Exa13\n",
"clc;\n",
"clear;\n",
"close;\n",
"disp('Unit Operation cost');\n",
"disp('                                 % of rejects                                   labour cost per 100');\n",
"disp('                                 to the o/p     Ratio/100 for                   on o/p of each ');\n",
"disp('                                 of each        cost of final    Labour cost    operation 7/2    %    % ');\n",
"disp('Operation Input Rejects Output   operation %    Output');\n",
"disp('    1       6000    1500   4500      33.33          200              10800            180        240  360');\n",
"disp('    2       5625     375   5250       7.14          150               7875            140        150  210');\n",
"disp('    3       5250     375   4875       7.69          140              13650            260        280  364 ');\n",
"disp('    4       6500     500   6000       8.33          130               7800            120        130  156');\n",
"disp('    5       4800     800   4000      20             120               4800            100        120  120');\n",
"disp('                                                    100              44925            800        920 1210');\n",
"disp('');\n",
"disp('On output of each operation=7/4');\n",
"disp('On final output of each operation=(8*6)/100');\n",
"disp('(a.) Column 6 indicates the numbers of units to be put in hand in each operation so that at the end of the final operation,100 good units are obtained. Thus in this case, 200 units would be the input to obtain 100 units of good output at the end of the 5th operation. ');\n",
"disp(round(100+100*20/100),'Output 5 = ');\n",
"disp(round(120+120*8.33/100),'Output 4 = ');\n",
"disp(round(130+130*7.69/100),'Output 3 = ');\n",
"disp(round(140+140*7.14/100),'Output 2 = ');\n",
"disp(round(150+150*33.33/100),'Output 1 = ');\n",
"disp(1210-800,'(b.) The labour cost of waste per 100 units =');\n",
"disp('(c.) The work in progress can be computed as follows: work in progress at the end of ');\n",
"disp('Operation No. 1 = units in progress*(240)/100');\n",
"disp('Operation No. 2 = units in progress*(240+150+240*7.14/100)/100');\n",
"disp('Operation No. 3 = units in progress*(407.14+280+407.14*7.69/100)/100');\n",
"disp('Operation No. 4 = units in progress*(718.46+130+718.46*8.33/100)/100');\n",
"disp('Operation No. 5 = units in progress*(908.34+60+908.34*20/100)/100');\n",
"disp('Valuation of work in progress');\n",
"disp('Stage(at the end of)    components    Value per 100 units    Total Value');\n",
"disp('OPeration                                     Rs                  Rs');\n",
"disp('  1.                     1000                240                2400');\n",
"disp('  2.                      500                407.14             2035.70');\n",
"disp('  3.                      750                718.46             5388.45');\n",
"disp('  4.                     1000                908.34             9083.40');\n",
"disp('  5.                      500               1210                6050');"
   ]
   }
,
{
		   "cell_type": "markdown",
		   "metadata": {},
		   "source": [
			"## Example 8.1: Process_account_and_Abnormal_Loss_Acount.sce"
		   ]
		  },
  {
"cell_type": "code",
	   "execution_count": null,
	   "metadata": {
	    "collapsed": true
	   },
	   "outputs": [],
"source": [
"//Exa1\n",
"clc;\n",
"clear;\n",
"close;\n",
"//given data :\n",
"Production=1000//units\n",
"CostOfProduction=1850;//in Rs.\n",
"NormalLoss=10//in %\n",
"ActualLoss=150;//in Units\n",
"ScrapValue=50;//in Paise/unit\n",
"NLoss=Production*NormalLoss/100;//in Units\n",
"UnitsProduced=Production-NLoss;//in Units\n",
"CostPerUnit=(CostOfProduction-50*10^-2*NLoss)/UnitsProduced;//in Rs.\n",
"AbnormalLoss=ActualLoss-NLoss;//in Units\n",
"CostOfAbnormalLoss=AbnormalLoss*CostPerUnit;//in Rs.\n",
"disp('Process account : ');\n",
"disp('Production in Units = '+string(Production)+'   Amount in Rs. '+string(CostOfProduction));\n",
"disp('By Normal Loss = '+string(NLoss)+'         Amount in Rs. '+string(NLoss*ScrapValue*10^-2));\n",
"disp('By Finished Goods = '+string(Production-ActualLoss)+'      Amount in Rs. '+string(CostPerUnit*(Production-ActualLoss)));\n",
"disp('');\n",
"disp('Abnormal Loss Account : ');\n",
"disp('To Process Account in Units = '+string(AbnormalLoss)+'   Amount in Rs. '+string(CostPerUnit*AbnormalLoss));\n",
"disp('By Scrap Value = '+string(AbnormalLoss)+'                Amount in Rs. '+string(AbnormalLoss*ScrapValue*10^-2));\n",
"disp('By Costing Profit and Loss A/c '+'    Amount in Rs. '+string(AbnormalLoss*ScrapValue*10^-2+NLoss*ScrapValue*10^-2));\n",
"disp('Total Amount in Rs.'+string(25+75));"
   ]
   }
,
{
		   "cell_type": "markdown",
		   "metadata": {},
		   "source": [
			"## Example 8.2: Equivalent_Production.sce"
		   ]
		  },
  {
"cell_type": "code",
	   "execution_count": null,
	   "metadata": {
	    "collapsed": true
	   },
	   "outputs": [],
"source": [
"//Exa2\n",
"clc;\n",
"clear;\n",
"close;\n",
"//given data :\n",
"//Work-in-process on Jan 1, 40% complete\n",
"WorkComplete=1800//units\n",
"ProcessDuringMonth=20000;//in Units\n",
"TransferedNextProcess=18000//in Units\n",
"//Work-in-process on Jan 31, 50% complete\n",
"WorkComplete31jan=1000//units\n",
"\n",
"disp('Opening Inventory of work-in-process    Equivalent Units : '+string(WorkComplete*60/100));\n",
"disp('No. of units completed during the month :');\n",
"disp('Units Put into process '+string(ProcessDuringMonth));\n",
"disp('LESS: Units not completed '+string(WorkComplete31jan));\n",
"disp('Closing stock of work-in-process '+string(ProcessDuringMonth-WorkComplete31jan));\n",
"disp('50% completed during the month  = 500');\n",
"disp('Equivalent Production = 1080+19000+500 = 20580'); "
   ]
   }
,
{
		   "cell_type": "markdown",
		   "metadata": {},
		   "source": [
			"## Example 8.3: Calculation_of_effective_production_and_process_cost_sheet.sce"
		   ]
		  },
  {
"cell_type": "code",
	   "execution_count": null,
	   "metadata": {
	    "collapsed": true
	   },
	   "outputs": [],
"source": [
"//Exa3\n",
"clc;\n",
"clear;\n",
"close;\n",
"//given data :\n",
"MaterialsCost=1800;//in Rs.\n",
"LabourCost=1700;//in Rs.\n",
"Overhead=500;//in Rs.\n",
"TotalCost=MaterialsCost+LabourCost+Overhead;//in Rs.\n",
"MaterialsPurchaseCost=37500;//in Rs.\n",
"WagesAmounted=39900;//in Rs.\n",
"OverheadAmounted=10640;//in Rs.\n",
"ActualMaterialCost=34250;//in Rs.\n",
"FinishedProduction=1250;//in Units\n",
"work_in_processInventory=250;//in Units\n",
"\n",
"disp('Statement of Production : ');\n",
"disp('(Given in form of table below)');\n",
"disp('                                            Units     Incomplete     Material     Labour     Overhead     Total');\n",
"disp('Opening Inventory(to be completed 60%)       200          60%           120         120         120');\n",
"disp('Input                                        1300         100%          1300        1300        1300');\n",
"disp('                                                                        1420        1420        1420');\n",
"disp('LESS : Closing Stock                         250          20%           50');\n",
"disp('                                                          40%                       100         100');\n",
"disp('                                                                        1370        1320        1320');\n",
"disp('Current Cost                                                            34250       39900       10640');\n",
"disp('Current Cost per unit                                                   25          30.23       8.06        63.29');\n",
"\n",
"disp('');\n",
"disp('Cost of opening work-in-process for completion(200 units)');\n",
"MaterialsToComplete=120*25;//in Rs.\n",
"LabourToComplete=120*30.23;//in Rs.\n",
"OverheadsToComplete=120*25;//in Rs.\n",
"Total=MaterialsToComplete+floor(LabourToComplete)+floor(OverheadsToComplete);//in Rs.\n",
"//Work-in-process as on 1st Jun\n",
"WorkInJun=4000;//in Rs.\n",
"CurrentProduction=(1250-200)*63.29;//in Rs.\n",
"//Cost of Work-in-process 30th Jun(250 Units)\n",
"MaterialC=200*25;//in Rs.\n",
"LabourC=150*30.23;//in Rs.\n",
"OverheadC=150*8.06;//in Rs.\n",
"disp('Cost of Work-in-process 30th Jun(250 Units) : ');\n",
"disp('Costs for:');\n",
"disp('Material : '+string(MaterialC));\n",
"disp('Labour : '+string(LabourC));\n",
"disp('Overhead : '+string(OverheadC));\n",
"disp('');\n",
"disp('Process Cost Sheet(Given in Tabularr form below) : ');\n",
"disp('Statement of Production : ');\n",
"disp('(Given in form of table below)');\n",
"disp('Particulars                                 Units     completion     Total Cost     Cost Per Unit');\n",
"disp('Opening Work-in-Process');\n",
"disp('Materials                                     200          40%           1800');\n",
"disp('Labour                                                                   1700');\n",
"disp('Overhead                                                                 500            4000');\n",
"disp('Input added : ');\n",
"disp('Materials                                     1300                       34250');\n",
"disp('Labour                                                                   39900');\n",
"disp('Overhead                                                                 10640          84790');\n",
"disp('                                                                                        88790')\n",
"disp('LESS : Closing work-in-process             250');\n",
"disp('Materials                                                  80%           5000');\n",
"disp('Labour                                                     60%           4534');\n",
"disp('Overhead                                                   60%           1209           10743               43.00');\n",
"disp('Cost of Production                            1250        100%                          78047               62.44')"
   ]
   }
,
{
		   "cell_type": "markdown",
		   "metadata": {},
		   "source": [
			"## Example 8.4: Calculation_of_effective_production_and_process_account.sce"
		   ]
		  },
  {
"cell_type": "code",
	   "execution_count": null,
	   "metadata": {
	    "collapsed": true
	   },
	   "outputs": [],
"source": [
"//Exa4\n",
"clc;\n",
"clear;\n",
"close;\n",
"//given data :\n",
"OpeningStock=10000;//in Units\n",
"MaterialsCost=2250;//in Rs.\n",
"Wages=650;//in Rs.\n",
"Overhead=400;//in Rs.\n",
"UnitsIntroduced=40000;//in Units\n",
"MaterialsCost1=9250;//in Rs.\n",
"Wages1=4600;//in Rs.\n",
"Overhead1=3100;//in Rs.\n",
"disp('Calculation of Equivalent Production')\n",
"disp('(Given in form of table below)');\n",
"disp('                                            Units     Materials     Labour and Overhead');\n",
"disp('Opening Work-in-Process                     10000      10000              10000');\n",
"disp('Units started and finished                  20000      20000              20000');\n",
"disp('Closing work-in-process                     20000      20000              5000');\n",
"disp('Material 100% complete labour and overhead 25%')\n",
"disp('Effective Units                             50000      50000              35000')\n",
"disp('');\n",
"disp('Cost of Equivalent Units under the average cost method : ');\n",
"disp('Element                                 Opening Cost     Cost put in     Total Cost     Equivalent Production     Cost Per Unit');\n",
"disp('Material                                   2250              9250          11500                50000                 0.23 ');\n",
"disp('Wages                                      650               4600          5250                 35000                 0.15  ');\n",
"disp('Overhead                                   400               3100          3500                 35000                 0.10');\n",
"disp('Total');\n",
"disp('                                           3300              16950         20250                                      0.48')\n",
"//Valuation of work-in-process(20000 Units\n",
"//let material 100% complete = M1\n",
"M1=20000*0.3;//in Rs.\n",
"//let labour 25% complete = L1\n",
"L1=5000*0.15;//in Rs.\n",
"//let Overhead 25% complete = O1\n",
"O1=5000*0.10;//in Rs.\n",
"//Total T1\n",
"T1=M1+L1+O1;//in Rs\n",
"////cost of finished goods\n",
"// let material M2, Labour L2 and Overgead O2\n",
"M2=30000*0.30;//in Rs.\n",
"L2=30000*0.15;//in Rs.\n",
"O2=30000*0.10;//in Rs.\n",
"//Total T2\n",
"T2=M2+L2+O2;//in Rs.\n",
"disp('');\n",
"disp('Process account : ');\n",
"disp('Particulars                            amount     Particulars                         amount');\n",
"disp('Opening stock                          3000      completed and transfered             14400 ');\n",
"disp('Material                               9250      closing stock(work-in-process)       5850');\n",
"disp('Wages                                  4600');\n",
"disp('Overhead                               3100');\n",
"disp('                                       20250                                          20250');\n",
"\n",
"\n",
"\n",
""
   ]
   }
,
{
		   "cell_type": "markdown",
		   "metadata": {},
		   "source": [
			"## Example 8.5: Process_accounts.sce"
		   ]
		  },
  {
"cell_type": "code",
	   "execution_count": null,
	   "metadata": {
	    "collapsed": true
	   },
	   "outputs": [],
"source": [
"//Exa5\n",
"clc;\n",
"clear;\n",
"close;\n",
"disp('Process No.1');\n",
"disp('                             Cost per article Total Cost                             Cost per article Total Cost');\n",
"disp('To materials                 62.50           15000          By Process No.2 Account                  27600');\n",
"disp('To Labour                    33.34            8000           (Output Transfered)       115.00');\n",
"disp('To Direct Expenses           10.83            2600   ');\n",
"disp('To Indirect Expenses          8.33            2000');\n",
"disp('                            115.00           27600                                     115.00        27860');\n",
"disp('');\n",
"disp('Process No.2');\n",
"disp('                             Cost per article Total Cost                             Cost per article Total Cost');\n",
"disp('To Process No.1 Account     115.00           27600          By Process No.3 Account    270.00        64800')\n",
"disp('To materials                 20.83            5000');\n",
"disp('To Labour                    83.33            2000');\n",
"disp('To Direct Expenses           30.00            7200');\n",
"disp('To Indirect Expenses         20.84            5000');\n",
"disp('                            270.00           84800                                     270.00        64800');\n",
"disp('');\n",
"disp('Process No.3');\n",
"disp('                             Cost per article Total Cost                             Cost per article Total Cost');\n",
"disp('To Process No.2 Account     270.00           64800          By Finished Stock Account    320.00        76800')\n",
"disp('To materials                  8.33            2000');\n",
"disp('To Labour                    25.00            6000');\n",
"disp('To Direct Expenses           10.42            2500');\n",
"disp('To Indirect Expenses          6.25            1500');\n",
"disp('                            320.00           76800                                       320.00        76800');"
   ]
   }
,
{
		   "cell_type": "markdown",
		   "metadata": {},
		   "source": [
			"## Example 8.6: Various_process_account_and_finished_stock_account.sce"
		   ]
		  },
  {
"cell_type": "code",
	   "execution_count": null,
	   "metadata": {
	    "collapsed": true
	   },
	   "outputs": [],
"source": [
"//Exa6  \n",
"clc;\n",
"clear;\n",
"close;\n",
"disp('Copra Crushing Process Account');\n",
"disp('Particulars               Tons   Amount     Particulars               Tons     Amount');\n",
"disp('To Copra Used              500    200000     By sale of copra residue  175      11000');\n",
"disp('Labour                              2500     By Loss                    25');\n",
"disp('Electric Power                       600     Sale of copra sacks                  400');\n",
"disp('Sundry Mateials                      100     Cost of crude oil');\n",
"disp('Repairs to Machinery                 280     Rs. 646.67 per ton        300     194000');\n",
"disp('Steam                                600');\n",
"disp('Factory Expenses                    1320');\n",
"disp('                           500    205400                               500      205400');\n",
"disp('');\n",
"disp('Refining Process Account');\n",
"disp('Particulars               Tons   Amount     Particulars               Tons     Amount');\n",
"disp('To Copra oil               300    194000     By sale of by-products     45        6750');\n",
"disp('Labour                              1000     By Loss                     5');\n",
"disp('Electric Power                       360     cost of refining oil');\n",
"disp('Sundry Mateials                     2000     Rs. 768.2 per ton         250      192050');\n",
"disp('Repairs to Machinery                 330');\n",
"disp('Steam                                450');\n",
"disp('Factory Expenses                     660');\n",
"disp('                           300    198800                               300      198800');\n",
"disp('');\n",
"disp('Finishing Process Account');\n",
"disp('Particulars               Tons   Amount     Particulars               Tons     Amount');\n",
"disp('To Refining Process        250    192050     By Loss                      2');\n",
"disp('Labour                              1500     cost of finished oil');\n",
"disp('Electric Power                       240     Rs.784.68 per ton          248     194600');\n",
"disp('Repairs to Machinery                 140');\n",
"disp('Steam                                450');\n",
"disp('Factory Expenses                     220');\n",
"disp('                           250    194600                                250     198800');\n",
"disp('');\n",
"disp('Finisheed stock account');\n",
"disp('                              Tons     Amount                         Tons     Amount');\n",
"disp('To finishing process          248      194600 To balance at Rs. 914.2          202100');\n",
"disp('To cost of casks                         7500');\n",
"disp('                                       202100                                  202100');"
   ]
   }
,
{
		   "cell_type": "markdown",
		   "metadata": {},
		   "source": [
			"## Example 8.7: Process_account_and_Abnormal_wastage_and_gain.sce"
		   ]
		  },
  {
"cell_type": "code",
	   "execution_count": null,
	   "metadata": {
	    "collapsed": true
	   },
	   "outputs": [],
"source": [
"//Exa7\n",
"clc;\n",
"clear;\n",
"close;\n",
"disp('Process A Account');\n",
"disp('Particulars                 Units   Rupees     Particulars                     Units     Rupees');\n",
"disp('To units issued at Rs. 1    10000   10000      By normal wastage 3% of 10000     300          75');\n",
"disp('per unit                                       units sold at 25 Paisa/unit');\n",
"disp('To sundry materials                  1000      By Abnormal wastage               200         350');\n",
"disp('To labour                            5000      By process B output transfered   9500       16625');\n",
"disp('To Direct Expenses                   1050');\n",
"disp('                            10000   17050                                      10000       17050');\n",
"disp('');\n",
"disp('Process B Account');\n",
"disp('Particulars                  Units   Rupees     Particulars                      Units     Rupees');\n",
"disp('To Process A (output recd.)   9500   16625      By normal wastage 5% of 9500');\n",
"disp('                                                units sold at 50 Paisa/unit        475         238');\n",
"disp('To sundry materials                   1500      By process (output transf.)       9100       27300');\n",
"disp('To wages                              8000');\n",
"disp('To Direct Expenses                    1188');\n",
"disp('To Abnormal Effective or ');\n",
"disp('Abnormal gains                 75      225')\n",
"disp('                             9575    27538                                        9575      27538');\n",
"disp('');\n",
"disp('Process C Account');\n",
"disp('Particulars                  Units   Rupees     Particulars                      Units     Rupees');\n",
"disp('To Process B (output recd.)   9100   27300      By normal wastage 8% of 9100');\n",
"disp('                                                units sold at Rs. 1/unit           728         728');\n",
"disp('To sundry materials                    500');\n",
"disp('To wages                              6500      By Abnormal Wastage                272        1156');\n",
"disp('To Direct Expenses                    2009      By finished stock (output)        8100       34425');\n",
"disp('                              9100   36309                                        9100       36309');\n",
"//Calculation of Abnormal wastage and Abnormal Gain\n",
"//Process A :\n",
"CostOfAbnormalWastageA=16975*200/9700;//in Rupees\n",
"//Process B :\n",
"CostOfAbnormalWastageB=27075*75/9025;//in Rupees\n",
"//Process C :\n",
"CostOfAbnormalWastageC=35581*272/8372;//in Rupees\n",
"disp(CostOfAbnormalWastageA,'Process A: Cost Of Abnormal Wastage in Rs.');\n",
"disp(CostOfAbnormalWastageB,'Process B: Cost Of Abnormal Wastage in Rs.');\n",
"disp(CostOfAbnormalWastageC,'Process C: Cost Of Abnormal Wastage in Rs.');\n",
"disp('');\n",
"disp('Abnormal wastage account');\n",
"disp('Dr.                                                                                      Cr.');\n",
"disp('                         Units          Amount                                        Units          Amount');\n",
"disp('To Process A             200              350    By sales of wasted units: 200');\n",
"disp('To Process C             272             1156    Units of A @ 25 paisa/unit             50');\n",
"disp('                                                 272 units of Process C @ Rs. 1/unit   272             322');\n",
"disp('                                                 By Costing Profit & Loss Account                     1184');\n",
"disp('                                         1506                                                         1506');\n",
"disp('');\n",
"disp('Abnormal Gain Account');\n",
"disp('                                  Units     Amount                       Units     Amount');\n",
"disp('To shortfall in normal wastage of 75          38    By Process A           75        225');\n",
"disp('units @ 50 Paisa/each');\n",
"disp('To Costing Proit and Loss Account            187');\n",
"disp('                                             225                                     225');"
   ]
   }
,
{
		   "cell_type": "markdown",
		   "metadata": {},
		   "source": [
			"## Example 8.8: Computation_of_Equivalent_and_analysis_of_Cost_sheet.sce"
		   ]
		  },
  {
"cell_type": "code",
	   "execution_count": null,
	   "metadata": {
	    "collapsed": true
	   },
	   "outputs": [],
"source": [
"//Exa7\n",
"clc;\n",
"clear;\n",
"close;\n",
"disp('1. Statement of production units for June 2010:');\n",
"disp('                                  Units');\n",
"disp('Completed Units                   2500');\n",
"disp('(+)Closing work-in-process         500');\n",
"disp('                                  3000');\n",
"disp('(-)Opening work-in-process         400');\n",
"disp('New Units (Input)                 2600');\n",
"disp('');\n",
"disp('2. Computation of equivalent');\n",
"disp('                                          Units   Incomplete %   Materials   Labour   Overhead');\n",
"disp('(i)');\n",
"disp('W.I.P Inventory on 1st June(40% complete)');\n",
"disp('                                            400       60%           240        240      240');\n",
"disp('Add:Input                                  2600                    2600       2600     2600');\n",
"disp('                                           3000       20%          2840       2840     2840');\n",
"disp('Less: W.I.P Inventory on 30th June          500       40%           100        200      200');\n",
"disp('                                           2500                    2740       2640     2640');\n",
"disp('');\n",
"disp('Statement of cost per unit');\n",
"disp('                            Total Amoount Equivalents Cost per');\n",
"disp('                                (Rs.)       Units      Unit Rs.')\n",
"disp('Materials                        68500      2740        25.00');\n",
"disp('Labour                           79800      2640        30.23');\n",
"disp('Overhead                         21280      2640         8.06');\n",
"disp('                                169580                  63.29')\n",
"disp('');\n",
"disp('3. Process cost for the month of June 2010');\n",
"disp('                                              Amount      per unit');\n",
"disp('Materials(160 units i.e.,40% of 400 units)     3600        22.50');\n",
"disp('Labour(160 units i.e.,40% of 400 units)        3400        21.25');\n",
"disp('Overhead(160 units i.e.,40% of 400 units)      1000         6.25')\n",
"disp('                                               8000        50.00');\n",
"disp('');\n",
"disp('Put in process');\n",
"disp('Materials(2740 units)                         68500        25.00');\n",
"disp('Wages(2640 units)                             79800        30.23')\n",
"disp('Overheads(2640 units)                         21240         8.06');\n",
"disp('                                             169580        63.29');\n",
"disp('                     Total                   177580');\n",
"disp('');\n",
"disp('Analysis of Cost sheet (FIFO)');\n",
"disp('Cost of Units Completed and transfered     Units     Rate    Amount');\n",
"disp('                                         Equivalent   Rs.      Rs.')\n",
"disp('Work-in-progress-1st June(400 units)        160      50.00    8000');\n",
"disp('Materials for completing                    240      25.00    6000');\n",
"disp('Labour for completing                       240      30.23    7252');\n",
"disp('Overhead for completing                     240       8.06    1934');\n",
"disp('Cost of 400 units                                            23186');\n",
"disp('Put in process and completed (2100 units)             6329   132909');\n",
"disp('Cost of 2500 units                                           156095');\n",
"disp('Valuation of work in process- 30th june(500 units)');\n",
"disp('Materials                                   400      25.00    10000');\n",
"disp('Labour                                      300      30.23     9068');\n",
"disp('Overhead                                    300       8.06     2417 ')\n",
"disp('Cost of 500 units(W.I.P)                                      21485');\n",
"disp('                                      Total Process cost Rs. 177580')\n",
"disp('');\n",
"disp('Process Cost Account');\n",
"disp('                     Units   Cost per   Amount                      Units   Cost per   Amount');\n",
"disp('                              unit                                           unit');\n",
"disp('                               Rs.       Rs.                                  Rs.        Rs.  ');\n",
"disp('To W.I.P 1st June     400    50.00      8000    By finished          2500    62.44     156095');\n",
"disp('Materials            2600    25.00     68500    By stock Account');\n",
"disp('Labour                       30.23     79800    By W.I.P 30th June    500    42.97      21485');\n",
"disp('Overheads                     8.06     21280');\n",
"disp('                     3000             177580                         3000              177580 ');"
   ]
   }
,
{
		   "cell_type": "markdown",
		   "metadata": {},
		   "source": [
			"## Example 8.9: Output_transfered_and_closing_and_opening_work_in_progress.sce"
		   ]
		  },
  {
"cell_type": "code",
	   "execution_count": null,
	   "metadata": {
	    "collapsed": true
	   },
	   "outputs": [],
"source": [
"//Exa9\n",
"clc;\n",
"clear;\n",
"close;\n",
"disp('                                          Amount                  Units');\n",
"disp('Production                Units        %       Equivalent      %      Equivalent');\n",
"disp('                                   Completion     Units     Completion   Units');\n",
"disp('Finished & Transfered     8000       100%         8000        100%       8000 ');\n",
"disp('Closing work-in-progress  2000       100%         2000         50%       1000');\n",
"disp('Total Production         10000                   10000                   9000');\n",
"disp('');\n",
"disp('Statement of cost');\n",
"disp('                                    Material     Labour     Overhead   Total');\n",
"disp('                                       Rs.         Rs.         Rs.      Rs.');\n",
"disp('Cost of opening work-in-progress      7500        3000        1500      12000');\n",
"disp('Cost in and during the process      100000       78000       39000     217000');\n",
"disp('             Total cost             107500       81000       40500     229000');\n",
"disp('Eqivalent units                      10000        9000        9000');\n",
"disp('Cost per unit                        10.75        9.00        4.50      24.25');\n",
"disp('');\n",
"disp(8000*24.25,'(a) Value of output transfered : 8000 units @ Rs. 24.25 is ');\n",
"disp('(b) Value of Closing work-in-progress');\n",
"disp(2000*10.75,'Material     2000 units @ 10.75 :');\n",
"disp(1000*9.00,'Labour        1000 units @ 9.00 :');\n",
"disp(1000*4.50,'Overhead      1000 units @ 4.50:');\n",
"disp(194000+35000,'Total Rs. = ');"
   ]
   }
],
"metadata": {
		  "kernelspec": {
		   "display_name": "Scilab",
		   "language": "scilab",
		   "name": "scilab"
		  },
		  "language_info": {
		   "file_extension": ".sce",
		   "help_links": [
			{
			 "text": "MetaKernel Magics",
			 "url": "https://github.com/calysto/metakernel/blob/master/metakernel/magics/README.md"
			}
		   ],
		   "mimetype": "text/x-octave",
		   "name": "scilab",
		   "version": "0.7.1"
		  }
		 },
		 "nbformat": 4,
		 "nbformat_minor": 0
}
