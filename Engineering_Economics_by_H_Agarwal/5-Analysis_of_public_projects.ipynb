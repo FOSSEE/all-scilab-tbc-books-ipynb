{
"cells": [
 {
		   "cell_type": "markdown",
	   "metadata": {},
	   "source": [
       "# Chapter 5: Analysis of public projects"
	   ]
	},
{
		   "cell_type": "markdown",
		   "metadata": {},
		   "source": [
			"## Example 5.2: Demonstrate_use_of_annual_present_and_future_worth_operation.sce"
		   ]
		  },
  {
"cell_type": "code",
	   "execution_count": null,
	   "metadata": {
	    "collapsed": true
	   },
	   "outputs": [],
"source": [
"//Exa 2\n",
"clc;\n",
"clear;\n",
"close;\n",
"// given data :\n",
"IC=1500000;// in Rupees\n",
"OMC=65000;// in Rupees(annual cost for operating and maintenance)\n",
"B=225000;// in Rupees(annual saving and benefits\n",
"ScrapValue=300000;// in Rupees\n",
"life=30;//in years\n",
"Irate=8;//in %\n",
"// // using present worth // //\n",
"//calculating present worth of savings\n",
"PWbenefits1=0;\n",
"for i=1:30 \n",
"    PWbenefits1=PWbenefits1+B/(1+Irate/100)^i;\n",
"end\n",
"//calculating present worth of scrap value\n",
"\n",
"PWbenefits2=B/(1+Irate/100)^life;\n",
"PWbenefits=PWbenefits1+PWbenefits2;// total present worth of benefits\n",
"disp(PWbenefits,'Presnt worth of the benefits');\n",
"//calculating present worth of cost\n",
"PWcost1=IC;//same the initial cost\n",
"//calculating present worth of operating and maintenance cost\n",
"PWcost2=0;\n",
"for i=1:30 \n",
"    PWcost2=PWcost2+OMC/(1+Irate/100)^i;\n",
"end\n",
"PWcost=PWcost1+PWcost2;// total present worth of cost\n",
"disp(PWcost,'Presnt worth of the cost');\n",
"BCratio=PWbenefits/PWcost;// formula\n",
"disp(BCratio,'BCratio using present worth is : ')\n",
"\n",
"\n",
"// // using future worth // //\n",
"//calculating future worth of savings\n",
"FWbenefits1=0;\n",
"for i=1:30 \n",
"    FWbenefits1=FWbenefits1+B*(1+Irate/100)^(life-i);\n",
"end\n",
"//calculating future worth of scrap value\n",
"\n",
"FWbenefits2=ScrapValue;\n",
"FWbenefits=FWbenefits1+FWbenefits2;// total future worth of benefits\n",
"disp(FWbenefits,'Future worth of the benefits');\n",
"//calculating Future worth of cost\n",
"FWcost1=IC*(1+Irate/100)^life;// the initial cost\n",
"//calculating future worth of operating and maintenance cost\n",
"FWcost2=0;\n",
"for i=1:30 \n",
"    FWcost2=FWcost2+OMC*(1+Irate/100)^(life-i);\n",
"end\n",
"FWcost=FWcost1+FWcost2;// total future worth of cost\n",
"disp(FWcost,'Future worth of the cost');\n",
"BCratio=FWbenefits/FWcost;// formula\n",
"disp(BCratio,'BCratio using future worth is : ')\n",
"\n",
"\n",
"// // using annual worth // //\n",
"//calculating annual worth of savings\n",
"AWbenefits1=0;\n",
"for i=1:30 \n",
"    AWbenefits1=AWbenefits1+B*(1+Irate/100)^(life-i);\n",
"end\n",
"//calculating annual worth of scrap value\n",
"\n",
"AWbenefits2=ScrapValue;\n",
"AWbenefits=AWbenefits1+AWbenefits2;// total Annual worth of benefits\n",
"disp(AWbenefits,'Annual worth of the benefits');\n",
"//calculating Annual worth of cost\n",
"AWcost1=IC*(1+Irate/100)^life;// the initial cost\n",
"//calculating annual worth of operating and maintenance cost\n",
"AWcost2=0;\n",
"for i=1:30 \n",
"    AWcost2=AWcost2+OMC*(1+Irate/100)^(life-i);\n",
"end\n",
"AWcost=AWcost1+AWcost2;// total annual worth of cost\n",
"disp(AWcost,'Annual worth of the cost');\n",
"BCratio=AWbenefits/AWcost;// formula\n",
"disp(BCratio,'BCratio using Annual worth is : ')\n",
"disp('It can be seen that B/C ratio is same.')\n",
"// Note : answer given in the book is not as much accurate as calculated by scilab "
   ]
   }
,
{
		   "cell_type": "markdown",
		   "metadata": {},
		   "source": [
			"## Example 5.3: Calculate_the_BC_ratio.sce"
		   ]
		  },
  {
"cell_type": "code",
	   "execution_count": null,
	   "metadata": {
	    "collapsed": true
	   },
	   "outputs": [],
"source": [
"//Exa 3\n",
"clc;\n",
"clear;\n",
"close;\n",
"//given data :\n",
"IC=1500000;// in Rupees\n",
"OMC=65000;// in Rupees(annual cost for operating and maintenance)\n",
"B=225000;// in Rupees(annual saving and benefits\n",
"ScrapValue=300000;// in Rupees\n",
"life=30;//in years\n",
"Irate=8;//in %\n",
"//calculating present worth of savings\n",
"PWbenefits1=0;\n",
"for i=1:30 \n",
"    PWbenefits1=PWbenefits1+B/(1+Irate/100)^i;\n",
"end\n",
"//calculating present worth of scrap value\n",
"\n",
"PWbenefits2=B/(1+Irate/100)^life;\n",
"PWbenefits=PWbenefits1+PWbenefits2;// total present worth of benefits\n",
"disp(PWbenefits,'Presnt worth of the benefits');\n",
"//calculating present worth of cost\n",
"PWcost1=IC;//same the initial cost\n",
"//calculating present worth of operating and maintenance cost\n",
"PWcost2=0;\n",
"for i=1:30 \n",
"    PWcost2=PWcost2+OMC/(1+Irate/100)^i;\n",
"end\n",
"PWcost=PWcost1+PWcost2;// total present worth of cost\n",
"disp(PWcost,'Presnt worth of the cost');\n",
"// // using conventional B/C ratio // //\n",
"BCratio=PWbenefits/PWcost;// formula\n",
"disp(BCratio,'BCratio using conventional method is : ')\n",
"\n",
"// // using modified B/C ratio // //\n",
"BCratio=(PWbenefits-PWcost2)/IC;// formula\n",
"disp(BCratio,'BCratio using conventional method is : ')"
   ]
   }
],
"metadata": {
		  "kernelspec": {
		   "display_name": "Scilab",
		   "language": "scilab",
		   "name": "scilab"
		  },
		  "language_info": {
		   "file_extension": ".sce",
		   "help_links": [
			{
			 "text": "MetaKernel Magics",
			 "url": "https://github.com/calysto/metakernel/blob/master/metakernel/magics/README.md"
			}
		   ],
		   "mimetype": "text/x-octave",
		   "name": "scilab",
		   "version": "0.7.1"
		  }
		 },
		 "nbformat": 4,
		 "nbformat_minor": 0
}
