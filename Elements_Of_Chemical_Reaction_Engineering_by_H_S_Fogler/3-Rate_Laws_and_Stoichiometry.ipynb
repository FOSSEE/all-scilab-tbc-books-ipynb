{
"cells": [
 {
		   "cell_type": "markdown",
	   "metadata": {},
	   "source": [
       "# Chapter 3: Rate Laws and Stoichiometry"
	   ]
	},
{
		   "cell_type": "markdown",
		   "metadata": {},
		   "source": [
			"## Example 3.5: clear.sce"
		   ]
		  },
  {
"cell_type": "code",
	   "execution_count": null,
	   "metadata": {
	    "collapsed": true
	   },
	   "outputs": [],
"source": [
"//clear//\n",
"clc\n",
"clear\n",
"exec('3.5data.sci');\n",
"CD=CA0*(X/3);\n",
"CB=CA0*((CB0/CA0)-(X/3));\n",
"CD1=CA0*(X1/3);\n",
"CB1=CA0*((CB0/CA0)-(X1/3));\n",
"disp('For 20% conversion')\n",
"disp('CD =')\n",
"disp(CD)\n",
"disp ('mol/dm^3')\n",
"disp('CB =')\n",
"disp(CB)\n",
"disp('mol/dm^3')\n",
"disp('For 90% conversion')\n",
"disp('CD =')\n",
"disp(CD1)\n",
"disp ('mol/dm^3')\n",
"disp('CB =')\n",
"disp(CB1)\n",
"disp('mol/dm^3')"
   ]
   }
],
"metadata": {
		  "kernelspec": {
		   "display_name": "Scilab",
		   "language": "scilab",
		   "name": "scilab"
		  },
		  "language_info": {
		   "file_extension": ".sce",
		   "help_links": [
			{
			 "text": "MetaKernel Magics",
			 "url": "https://github.com/calysto/metakernel/blob/master/metakernel/magics/README.md"
			}
		   ],
		   "mimetype": "text/x-octave",
		   "name": "scilab",
		   "version": "0.7.1"
		  }
		 },
		 "nbformat": 4,
		 "nbformat_minor": 0
}
