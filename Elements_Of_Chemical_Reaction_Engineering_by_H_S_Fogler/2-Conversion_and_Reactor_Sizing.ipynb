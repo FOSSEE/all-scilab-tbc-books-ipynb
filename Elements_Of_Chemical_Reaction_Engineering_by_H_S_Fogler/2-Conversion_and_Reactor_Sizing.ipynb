{
"cells": [
 {
		   "cell_type": "markdown",
	   "metadata": {},
	   "source": [
       "# Chapter 2: Conversion and Reactor Sizing"
	   ]
	},
{
		   "cell_type": "markdown",
		   "metadata": {},
		   "source": [
			"## Example 2.1: calculate_mole.sce"
		   ]
		  },
  {
"cell_type": "code",
	   "execution_count": null,
	   "metadata": {
	    "collapsed": true
	   },
	   "outputs": [],
"source": [
"//clear//\n",
"clc\n",
"clear\n",
"exec('2.1data.sci');\n",
"CA0=(yA0*P0)/(R*T0);\n",
"FA0 = CA0*v0;\n",
"disp('CA0 =')\n",
"disp(CA0)\n",
"disp ('mol/dm^3')\n",
"disp('FA0 =')\n",
"disp(FA0)\n",
"disp('mol/s')"
   ]
   }
,
{
		   "cell_type": "markdown",
		   "metadata": {},
		   "source": [
			"## Example 2.2: Volume.sce"
		   ]
		  },
  {
"cell_type": "code",
	   "execution_count": null,
	   "metadata": {
	    "collapsed": true
	   },
	   "outputs": [],
"source": [
"//clear//\n",
"clc\n",
"clear\n",
"exec('2.2data.sci');\n",
"CA0=(yA0*P0)/(R*T0);\n",
"FA0 = CA0*v0;\n",
"V = FA0*X*(1/-rA)\n",
"\n",
"disp('FA0 =')\n",
"disp(FA0)\n",
"disp('mol/s')\n",
"disp('V =')\n",
"disp(V)\n",
"disp ('dm^3')"
   ]
   }
,
{
		   "cell_type": "markdown",
		   "metadata": {},
		   "source": [
			"## Example 2.3: Volume.sce"
		   ]
		  },
  {
"cell_type": "code",
	   "execution_count": null,
	   "metadata": {
	    "collapsed": true
	   },
	   "outputs": [],
"source": [
"//clear//\n",
"clc\n",
"clear\n",
"exec('2.3data.sci');\n",
"CA0=(yA0*P0)/(R*T0);\n",
"FA0 = CA0*v0;\n",
"//V = FA0*X*(1/-rA)\n",
"\n",
"V = FA0*inttrap(X,p)\n",
"disp('FA0 =')\n",
"disp(FA0)\n",
"disp('mol/s')\n",
"disp('V =')\n",
"disp(V)\n",
"disp ('dm^3')\n",
"disp('Answer is slightly differennt from the book because inttrap command of SCILAB uses trapezoidal integration, while in book it has been calculated using five point formulae.') "
   ]
   }
,
{
		   "cell_type": "markdown",
		   "metadata": {},
		   "source": [
			"## Example 2.4: clear.sce"
		   ]
		  },
  {
"cell_type": "code",
	   "execution_count": null,
	   "metadata": {
	    "collapsed": true
	   },
	   "outputs": [],
"source": [
"//clear//\n",
"clc\n",
"clear\n",
"exec('2.4data.sci');\n",
"\n",
"\n",
"VCSTR = FA0*X(7)*(1/-rAat);\n",
"VPFR = FA0*inttrap(X,p)\n",
"disp('VCSTR =')\n",
"disp(VCSTR)\n",
"disp('dm^3')\n",
"disp('VPFR =')\n",
"disp(VPFR)\n",
"disp ('dm^3')"
   ]
   }
,
{
		   "cell_type": "markdown",
		   "metadata": {},
		   "source": [
			"## Example 2.5: clear.sce"
		   ]
		  },
  {
"cell_type": "code",
	   "execution_count": null,
	   "metadata": {
	    "collapsed": true
	   },
	   "outputs": [],
"source": [
"//clear//\n",
"clc\n",
"clear\n",
"exec('2.5data.sci');\n",
"\n",
"\n",
"V1 = FA0*X1*(1/-rA);\n",
"V2 = FA0*(X2-X1)*(1/-rA2);\n",
"V = FA0*X*(1/-rA2);\n",
"disp('V1 =')\n",
"disp(V1)\n",
"disp('dm^3')\n",
"disp('V2 =')\n",
"disp(V2)\n",
"disp ('dm^3')\n",
"disp('V =')\n",
"disp(V)\n",
"disp ('dm^3')"
   ]
   }
,
{
		   "cell_type": "markdown",
		   "metadata": {},
		   "source": [
			"## Example 2.6: clear.sci"
		   ]
		  },
  {
"cell_type": "code",
	   "execution_count": null,
	   "metadata": {
	    "collapsed": true
	   },
	   "outputs": [],
"source": [
"//clear//\n",
"clc\n",
"clear all\n",
"exec('2.6data.sci');\n",
"\n",
"\n",
"X1 = X(1:5);\n",
"p1 = p(1:5);\n",
"V1 = FA0*inttrap(X1,p1)\n",
"X2 = X(5:9);\n",
"p2 = p(5:9);\n",
"V2 = FA0*inttrap(X2,p2)\n",
"V=V1+V2;\n",
"disp('V1 =')\n",
"disp(V1)\n",
"disp('dm^3')\n",
"disp('V2 =')\n",
"disp(V2)\n",
"disp ('dm^3')\n",
"disp('V =')\n",
"disp(V)\n",
"disp ('dm^3')"
   ]
   }
,
{
		   "cell_type": "markdown",
		   "metadata": {},
		   "source": [
			"## Example 2.7: clear.sce"
		   ]
		  },
  {
"cell_type": "code",
	   "execution_count": null,
	   "metadata": {
	    "collapsed": true
	   },
	   "outputs": [],
"source": [
"//clear//\n",
"clc\n",
"clear\n",
"exec('2.7data.sci');\n",
"\n",
"\n",
"X = X(1:6);\n",
"p = p(1:6);\n",
"V1 = FA0*inttrap(X,p);\n",
"V2 = FA0*(X2-X1)*(1/-rA2);\n",
"V=V1+V2;\n",
"disp('V1 =')\n",
"disp(V1)\n",
"disp('dm^3')\n",
"disp('V2 =')\n",
"disp(V2)\n",
"disp ('dm^3')\n",
"disp('V =')\n",
"disp(V)\n",
"disp ('dm^3')"
   ]
   }
],
"metadata": {
		  "kernelspec": {
		   "display_name": "Scilab",
		   "language": "scilab",
		   "name": "scilab"
		  },
		  "language_info": {
		   "file_extension": ".sce",
		   "help_links": [
			{
			 "text": "MetaKernel Magics",
			 "url": "https://github.com/calysto/metakernel/blob/master/metakernel/magics/README.md"
			}
		   ],
		   "mimetype": "text/x-octave",
		   "name": "scilab",
		   "version": "0.7.1"
		  }
		 },
		 "nbformat": 4,
		 "nbformat_minor": 0
}
