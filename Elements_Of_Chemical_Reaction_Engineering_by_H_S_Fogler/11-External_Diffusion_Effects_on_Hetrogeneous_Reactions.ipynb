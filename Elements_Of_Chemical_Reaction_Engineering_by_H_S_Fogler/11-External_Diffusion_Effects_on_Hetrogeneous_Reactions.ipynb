{
"cells": [
 {
		   "cell_type": "markdown",
	   "metadata": {},
	   "source": [
       "# Chapter 11: External Diffusion Effects on Hetrogeneous Reactions"
	   ]
	},
{
		   "cell_type": "markdown",
		   "metadata": {},
		   "source": [
			"## Example 11.1: clear.sce"
		   ]
		  },
  {
"cell_type": "code",
	   "execution_count": null,
	   "metadata": {
	    "collapsed": true
	   },
	   "outputs": [],
"source": [
"//clear//\n",
"clc\n",
"clear\n",
"exec('11.1data.sci');\n",
"WAZ1=DAB*CT0*(yAb-yAs)/s;\n",
"WAZ2=c*DAB*CT0*log((1-yAs)/(1-yAb))/s;\n",
"disp(WAZ1)\n",
"disp(WAZ2)"
   ]
   }
,
{
		   "cell_type": "markdown",
		   "metadata": {},
		   "source": [
			"## Example 11.3: clear.sce"
		   ]
		  },
  {
"cell_type": "code",
	   "execution_count": null,
	   "metadata": {
	    "collapsed": true
	   },
	   "outputs": [],
"source": [
"clc\n",
"clear\n",
"exec('11.3data.sci');\n",
"//this is only Part A of the problem. \n",
"dp=(6*(D^2)*L/4)^(1/3);\n",
"disp('Particle diameter dp =')\n",
"disp(dp)\n",
"disp('m')\n",
"ac=6*(1-phi)*(1/dp);\n",
"disp('Surface area pervolume of bed =')\n",
"disp(ac)\n",
"disp('m^2/m^3')\n",
"Re =dp*U/v;\n",
"Y=(2*r*Lp+2*r^2)/dp^2;\n",
"Reprime=Re/((1-phi)*Y);\n",
"DAB=DAB0*(T/T0)^(1.75);\n",
"Sc=v/DAB;\n",
"Shprime=((Reprime)^.5)*Sc^(1/3);\n",
"kc=DAB*(1-phi)*Y*(Shprime)/(dp*phi);\n",
"X=1-exp(-kc*ac*z/U);\n",
"disp('X =')\n",
"disp(X)"
   ]
   }
,
{
		   "cell_type": "markdown",
		   "metadata": {},
		   "source": [
			"## Example 11.4: clear.sce"
		   ]
		  },
  {
"cell_type": "code",
	   "execution_count": null,
	   "metadata": {
	    "collapsed": true
	   },
	   "outputs": [],
"source": [
"clc\n",
"clear\n",
"exec('11.4data.sci')\n",
"X2=1-(1/exp((log(1/(1-X1)))*(1/2)*((2)^.5)));\n",
"disp('X2 =')\n",
"disp(X2)"
   ]
   }
,
{
		   "cell_type": "markdown",
		   "metadata": {},
		   "source": [
			"## Example 11.5: clear.sce"
		   ]
		  },
  {
"cell_type": "code",
	   "execution_count": null,
	   "metadata": {
	    "collapsed": true
	   },
	   "outputs": [],
"source": [
"//clear//\n",
"clc\n",
"clear\n",
"exec('11.5data.sci')\n",
"X2=1-(1/exp((log(1/(1-X1)))*((T2/T1)^(5/12))));\n",
"disp('X2 =')\n",
"disp(X2)"
   ]
   }
],
"metadata": {
		  "kernelspec": {
		   "display_name": "Scilab",
		   "language": "scilab",
		   "name": "scilab"
		  },
		  "language_info": {
		   "file_extension": ".sce",
		   "help_links": [
			{
			 "text": "MetaKernel Magics",
			 "url": "https://github.com/calysto/metakernel/blob/master/metakernel/magics/README.md"
			}
		   ],
		   "mimetype": "text/x-octave",
		   "name": "scilab",
		   "version": "0.7.1"
		  }
		 },
		 "nbformat": 4,
		 "nbformat_minor": 0
}
