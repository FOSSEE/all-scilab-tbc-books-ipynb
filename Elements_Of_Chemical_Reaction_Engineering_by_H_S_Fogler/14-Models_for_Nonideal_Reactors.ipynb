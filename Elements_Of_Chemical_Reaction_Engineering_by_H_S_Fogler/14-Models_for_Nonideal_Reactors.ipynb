{
"cells": [
 {
		   "cell_type": "markdown",
	   "metadata": {},
	   "source": [
       "# Chapter 14: Models for Nonideal Reactors"
	   ]
	},
{
		   "cell_type": "markdown",
		   "metadata": {},
		   "source": [
			"## Example 14.3: clear.sce"
		   ]
		  },
  {
"cell_type": "code",
	   "execution_count": null,
	   "metadata": {
	    "collapsed": true
	   },
	   "outputs": [],
"source": [
"//clear//\n",
"clc\n",
"clear\n",
"\n",
"t = 0:10:200;\n",
"\n",
"function w=f(t,Y)\n",
" \n",
" w =zeros(2,1);\n",
"\n",
"CTe1=2000-59.6*t+.64*t^2-0.00146*t^3-1.047*10^(-5)*t^4\n",
"Beta=.1\n",
"CTe2=921-17.3*t+.129*t^2-0.000438*t^3+5.6*10^(-7)*t^4\n",
"alpha=.8\n",
"tau=40\n",
"if(t<80)\n",
"  CTe=CTe1\n",
"else\n",
"  CTe=CTe2\n",
"end\n",
"\n",
"w(1)=(Beta*Y(2)-(1+Beta)*Y(1))/alpha/tau\n",
"w(2)=(Beta*Y(1)-Beta*Y(2))/(1-alpha)/tau\n",
"endfunction\n",
"\n",
"X=ode([2000;0],t0,t,f);\n",
"\n",
"t=t';\n",
"for i =1:length(t)\n",
"CTe1(i)=2000-59.6*t(i)+.64*(t(i)^2)-0.00146*(t(i)^3)-1.047*(10^(-5))*t(i)^4;\n",
"CTe2(i)=921-17.3*t(i)+.129*t(i)^2-0.000438*t(i)^3+5.6*10^(-7)*t(i)^4\n",
"if(t(i)<80)\n",
"  CTe(i)=CTe1(i)\n",
"else\n",
"  CTe(i)=CTe2(i)\n",
"end\n",
"end\n",
"\n",
"\n",
"l1=X(1,: )';\n",
"l2=CTe;\n",
"\n",
"plot2d(t,[l1 l2]); \n",
"\n",
"xtitle( 'Figure E14-3.1', 't', 'CT1,CTe' ) ;\n",
"legend(['CT1';'CTe']);\n",
"\n",
"\n",
""
   ]
   }
],
"metadata": {
		  "kernelspec": {
		   "display_name": "Scilab",
		   "language": "scilab",
		   "name": "scilab"
		  },
		  "language_info": {
		   "file_extension": ".sce",
		   "help_links": [
			{
			 "text": "MetaKernel Magics",
			 "url": "https://github.com/calysto/metakernel/blob/master/metakernel/magics/README.md"
			}
		   ],
		   "mimetype": "text/x-octave",
		   "name": "scilab",
		   "version": "0.7.1"
		  }
		 },
		 "nbformat": 4,
		 "nbformat_minor": 0
}
