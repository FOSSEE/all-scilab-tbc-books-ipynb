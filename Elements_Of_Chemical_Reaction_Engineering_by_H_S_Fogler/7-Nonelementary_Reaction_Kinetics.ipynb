{
"cells": [
 {
		   "cell_type": "markdown",
	   "metadata": {},
	   "source": [
       "# Chapter 7: Nonelementary Reaction Kinetics"
	   ]
	},
{
		   "cell_type": "markdown",
		   "metadata": {},
		   "source": [
			"## Example 7.7: clear.sce"
		   ]
		  },
  {
"cell_type": "code",
	   "execution_count": null,
	   "metadata": {
	    "collapsed": true
	   },
	   "outputs": [],
"source": [
"//clear//\n",
"clc\n",
"clear\n",
"exec('7.7data.sci');\n",
"for i=1:length(Curea)\n",
"x(i)= 1/Curea(i);\n",
"y(i) = 1/(-rurea(i));\n",
"end\n",
" slope = (y(5)-y(1))/(x(5)-x(1));\n",
" plot2d(x,y)\n",
" \n",
" xtitle( 'Figure E7-7.1', '1/Curea', '1/-rurea' ) ;\n",
" \n",
" disp('(Km/Vma = slope')\n",
" disp(slope)"
   ]
   }
,
{
		   "cell_type": "markdown",
		   "metadata": {},
		   "source": [
			"## Example 7.8: clear.sce"
		   ]
		  },
  {
"cell_type": "code",
	   "execution_count": null,
	   "metadata": {
	    "collapsed": true
	   },
	   "outputs": [],
"source": [
"//clear//\n",
"clc\n",
"clear\n",
"exec('7.8data.sci');\n",
"Vmax = (Et2/Et1)*Vmax1\n",
"t = (Km/Vmax)*log(1/(1-X))+Curea0*X/Vmax;\n",
"disp('t')\n",
"disp(t)\n",
"disp('s')"
   ]
   }
,
{
		   "cell_type": "markdown",
		   "metadata": {},
		   "source": [
			"## Example 7.9: clear.sce"
		   ]
		  },
  {
"cell_type": "code",
	   "execution_count": null,
	   "metadata": {
	    "collapsed": true
	   },
	   "outputs": [],
"source": [
"//clear//\n",
"clc\n",
"clear\n",
"exec('7.9data.sci');\n",
" t = 0:.1:12;\n",
"function w=f(t,c)\n",
" \n",
" w =zeros(3,1);\n",
"\n",
"rd = c(1)*.01;\n",
"rsm = m/c(1);\n",
"kobs= (umax*(1-c(3)/93)^.52);\n",
"rg= kobs*c(1)*c(2)/(ks+c(2));\n",
"//r2 = -k2*c(3)*c(1)^.5;\n",
" w(1)= rg-rd;\n",
" w(2) = ysc*(-rg)-rsm;\n",
" w(3) = rg*ypc;\n",
" \n",
"endfunction\n",
"\n",
"x=ode([1;250;0],t0,t,f);\n",
"\n",
"l1=x(1,: )'\n",
"l2=x(2,: )'\n",
"l3=x(3,: )'\n",
"\n",
"plot2d(t',[l1 l2 l3]); \n",
"\n",
"xtitle( 'Figure E7-9.1 concentrations as a function of time', 't (hr)', 'C (g/dm^3)' ) ;\n",
"legend(['Cc';'Cs';'Cp']);\n",
"\n",
""
   ]
   }
],
"metadata": {
		  "kernelspec": {
		   "display_name": "Scilab",
		   "language": "scilab",
		   "name": "scilab"
		  },
		  "language_info": {
		   "file_extension": ".sce",
		   "help_links": [
			{
			 "text": "MetaKernel Magics",
			 "url": "https://github.com/calysto/metakernel/blob/master/metakernel/magics/README.md"
			}
		   ],
		   "mimetype": "text/x-octave",
		   "name": "scilab",
		   "version": "0.7.1"
		  }
		 },
		 "nbformat": 4,
		 "nbformat_minor": 0
}
