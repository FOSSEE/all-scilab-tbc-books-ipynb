{
"cells": [
 {
		   "cell_type": "markdown",
	   "metadata": {},
	   "source": [
       "# Chapter 13: Distributions of Residence Times for Chemical Reactions"
	   ]
	},
{
		   "cell_type": "markdown",
		   "metadata": {},
		   "source": [
			"## Example 13.8: clear.sce"
		   ]
		  },
  {
"cell_type": "code",
	   "execution_count": null,
	   "metadata": {
	    "collapsed": true
	   },
	   "outputs": [],
"source": [
"//clear//\n",
"clc\n",
"clear\n",
"exec('13.8data.sci');\n",
"z = 0:1:200;\n",
"\n",
"function w=f(z,x)\n",
" \n",
" w =zeros(1,1);\n",
"\n",
"lam=200-z;\n",
"ca=cao*(1-x)\n",
"E1=4.44658e-10*(lam^4)-1.1802e-7*(lam^3)+1.35358e-5*(lam^2)-.00086\n",
"5652*lam+.028004;\n",
"E2=-2.64e-9*(lam^3)+1.3618e-6*(lam^2)-.00024069*lam+.015011\n",
"F1=4.44658e-10/5*(lam^5)-1.1802e-7/4*lam^4+1.35358e-5/3*lam^3-.000865652/2*lam^2+.028004*lam;\n",
"F2=-(-9.3076e-8*lam^3+5.02846e-5*lam^2-.00941*lam+.61823-1)\n",
"ra=-k*ca^2;\n",
"if lam< =70\n",
"  E=E1\n",
"else\n",
"  E=(E2)\n",
"  end\n",
"  if(lam< =70)\n",
"    F=F1\n",
"  else\n",
"    F=F2\n",
"    end\n",
"    EF=E/(1-F)\n",
"    w(1)=-(ra/cao+E/(1-F)*x)\n",
"endfunction\n",
"\n",
"X=ode([0],z0,z,f);\n",
"\n",
"plot2d(z,X); \n",
"\n",
"\n",
"\n",
"\n",
"\n",
""
   ]
   }
,
{
		   "cell_type": "markdown",
		   "metadata": {},
		   "source": [
			"## Example 13.9: clear.sce"
		   ]
		  },
  {
"cell_type": "code",
	   "execution_count": null,
	   "metadata": {
	    "collapsed": true
	   },
	   "outputs": [],
"source": [
"clc\n",
"clear\n",
"exec('13.9data.sci');\n",
"t = 0:.1:2.52;\n",
"\n",
"function w=f(t,Y)\n",
" \n",
" w =zeros(10,1);\n",
"\n",
"E1=-2.104*t^4+4.167*t^3-1.596*t^2+0.353*t-.004\n",
"E2=-2.104*t^4+17.037*t^3-50.247*t^2+62.964*t-27.402\n",
"rc=k1*Y(1)*Y(2)\n",
"re=k3*Y(2)*Y(4)\n",
"ra=-k1*Y(1)*Y(2)-k2*Y(1)\n",
"rb=-k1*Y(1)*Y(2)-k3*Y(2)*Y(4)\n",
"if t< =1.26\n",
"  E=E1\n",
"else\n",
"  E=E2\n",
"  end\n",
"  rd=k2*Y(1)-k3*Y(2)*Y(4)\n",
"  \n",
"  w(1)=ra\n",
"w(2) =rb\n",
"w(3) =rc\n",
"w(6)=Y(1)*E\n",
"w(7)=Y(2)*E\n",
"w(8)=Y(3)*E\n",
"w(4)=rd\n",
"w(5) =re\n",
"w(9)=Y(4)*E\n",
"w(10)=Y(5)*E\n",
"endfunction\n",
"\n",
"X=ode([1;1;0;0;0;0;0;0;0;0],t0,t,f);\n",
"\n",
"plot2d(t,X(1,:)); \n",
"\n",
"\n",
"\n",
"\n",
"\n",
""
   ]
   }
],
"metadata": {
		  "kernelspec": {
		   "display_name": "Scilab",
		   "language": "scilab",
		   "name": "scilab"
		  },
		  "language_info": {
		   "file_extension": ".sce",
		   "help_links": [
			{
			 "text": "MetaKernel Magics",
			 "url": "https://github.com/calysto/metakernel/blob/master/metakernel/magics/README.md"
			}
		   ],
		   "mimetype": "text/x-octave",
		   "name": "scilab",
		   "version": "0.7.1"
		  }
		 },
		 "nbformat": 4,
		 "nbformat_minor": 0
}
