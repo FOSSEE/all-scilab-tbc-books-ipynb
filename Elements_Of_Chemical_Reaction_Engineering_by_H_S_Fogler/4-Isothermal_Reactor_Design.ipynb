{
"cells": [
 {
		   "cell_type": "markdown",
	   "metadata": {},
	   "source": [
       "# Chapter 4: Isothermal Reactor Design"
	   ]
	},
{
		   "cell_type": "markdown",
		   "metadata": {},
		   "source": [
			"## Example 4.10: clear.sce"
		   ]
		  },
  {
"cell_type": "code",
	   "execution_count": null,
	   "metadata": {
	    "collapsed": true
	   },
	   "outputs": [],
"source": [
"//clear//\n",
"clc\n",
"clear\n",
"exec('4.10data.sci');\n",
" V = 0:1:500;\n",
"function w=f(V,F)\n",
" \n",
" w=zeros(3,1);\n",
" \n",
" Ft=F(1)+F(2)+F(3);\n",
" ra = -k*Ct0*((F(1)/Ft)-(Ct0/kc)*(F(2)/Ft)*(F(3)/Ft));\n",
" w(1)= ra;\n",
" w(2) = -ra-kc*Ct0*(F(2)/Ft)\n",
" w(3) = -ra;\n",
" \n",
"endfunction\n",
"\n",
"\n",
"x=ode([10;0;0],V0,V,f);\n",
"\n",
"l1=x(1,: )'\n",
"l2=x(2,: )'\n",
"l3=x(3,: )'\n",
"plot2d(V',[l1 l2 l3]); \n",
"\n",
"xtitle( 'Figure E4-10.2', 'V', 'Fa,Fb,Fc' ) ;\n",
"legend(['Fa';'Fb';'Fc']);\n",
"\n",
"\n",
"\n",
"\n",
""
   ]
   }
,
{
		   "cell_type": "markdown",
		   "metadata": {},
		   "source": [
			"## Example 4.11: clear.sce"
		   ]
		  },
  {
"cell_type": "code",
	   "execution_count": null,
	   "metadata": {
	    "collapsed": true
	   },
	   "outputs": [],
"source": [
"//clear//\n",
"clc\n",
"clear\n",
"exec('4.11data.sci');\n",
" t = 0:1:500;\n",
"function w=f(t,C)\n",
" \n",
" w =zeros(4,1);\n",
"\n",
" v = v0+v00*t;\n",
" w(1)= -k*C(1)*C(2)-v00*C(1)/v;\n",
" w(2) = -k*C(1)*C(2)+v00*(Cb0-C(2))/v;\n",
" w(3) = k*C(1)*C(2)-v00*C(3)/v;\n",
" w(4) = k*C(1)*C(2)-v00*C(4)/v;\n",
" \n",
"endfunction\n",
"\n",
"\n",
"x=ode([.049;0;0;0],t0,t,f);\n",
"l1=x(1,: )'\n",
"l2=x(2,: )'\n",
"l3=x(3,: )'\n",
"for i = 1:length(t)\n",
"  rate(1,i)=k*x(1,i )*x(2,i)\n",
"  end\n",
"scf(1)\n",
"plot2d(t',[l1 l2 l3]); \n",
"\n",
"xtitle( 'Figure E4-11.1 Concentration-time trajectories', 't', 'Ca,Cb,Cc' ) ;\n",
"legend(['Ca';'Cb';'Cc']);\n",
"scf(2)\n",
"plot2d(t,rate)\n",
"xtitle( 'Figure E4-11.2 Reaction rate-time trajectories', 't', 'Reaction Rate(mols dm^3)' ) ;\n",
"\n",
"\n",
"\n",
"\n",
"'V"
   ]
   }
,
{
		   "cell_type": "markdown",
		   "metadata": {},
		   "source": [
			"## Example 4.1: clear.sce"
		   ]
		  },
  {
"cell_type": "code",
	   "execution_count": null,
	   "metadata": {
	    "collapsed": true
	   },
	   "outputs": [],
"source": [
"//clear//\n",
"clc\n",
"clear\n",
"exec('4.1data.sci');\n",
" \n",
"x=t;\n",
"y =((CA0-CC)/CA0);\n",
"\n",
"yi=interpln([x;y],x);\n",
"plot2d(x,y,logflag='nl');\n",
"\n",
"k = log(y(9)/y(2))/(t(9)-t(2));\n",
"\n",
"\n",
"disp('k =')\n",
"disp(k)\n",
"disp ('min^-1')"
   ]
   }
,
{
		   "cell_type": "markdown",
		   "metadata": {},
		   "source": [
			"## Example 4.2: clear.sce"
		   ]
		  },
  {
"cell_type": "code",
	   "execution_count": null,
	   "metadata": {
	    "collapsed": true
	   },
	   "outputs": [],
"source": [
"//clear//\n",
"clc\n",
"clear\n",
"exec('4.2data.sci');\n",
" \n",
" FA0 = FC/X;\n",
" vA0 = FA0/CA01;\n",
" vB0 = vA0;\n",
" v0 = vA0+vB0;\n",
" V = v0*X/(k*(1-X));\n",
" \n",
" // CSTR in parallel\n",
" V1 = 800/7.48;\n",
"\n",
" Tau =V1/(v0/2);\n",
" Da= Tau*k;\n",
" Xparallel = Da/(1+Da)\n",
" \n",
" // CSTR in series\n",
" Tau =V1/v0;\n",
" n=2;\n",
" Xseries = 1- (1/(1+Tau*k)^n);\n",
"\n",
"disp('Reactor volume')\n",
"disp(V)\n",
"disp ('ft^3')\n",
"disp('CSTR in parallel X =')\n",
"disp(Xparallel)\n",
"disp('CSTR in series X =')\n",
"disp(Xseries)"
   ]
   }
,
{
		   "cell_type": "markdown",
		   "metadata": {},
		   "source": [
			"## Example 4.4: clear.sce"
		   ]
		  },
  {
"cell_type": "code",
	   "execution_count": null,
	   "metadata": {
	    "collapsed": true
	   },
	   "outputs": [],
"source": [
"//clear//\n",
"clc\n",
"clear\n",
"exec('4.4data.sci');\n",
" \n",
" FA0 = FB/X;\n",
" CA0 = yA0*P0/(R*T0);\n",
" R = 1.987;\n",
" k2 = k1*exp((E/R)*((1/T1)-(1/T2)));\n",
" V =( FA0/(k2*CA0))*((1+e)*log(1/(1-X))-e*X);\n",
"\n",
"disp('Reactor volume')\n",
"disp(V)\n",
"disp('ft^3')"
   ]
   }
,
{
		   "cell_type": "markdown",
		   "metadata": {},
		   "source": [
			"## Example 4.5: clear.sce"
		   ]
		  },
  {
"cell_type": "code",
	   "execution_count": null,
	   "metadata": {
	    "collapsed": true
	   },
	   "outputs": [],
"source": [
"//clear//\n",
"clc\n",
"clear\n",
"exec('4.5data.sci');\n",
"\n",
"G = m/Ac;\n",
"bita0 = (G*(1-phi)/(gc*rho*Dp*phi^3))*((150*(1-phi)*mu/Dp)+1.75*G);\n",
"bita0 = bita0/(144*14.7);//atm/ft\n",
"P = ((1-(2*bita0*L/P0))^.5)*P0;\n",
"deltaP = P0 - P;\n",
"\n",
"disp('deltaP')\n",
"disp(deltaP)\n",
"disp('atm')"
   ]
   }
,
{
		   "cell_type": "markdown",
		   "metadata": {},
		   "source": [
			"## Example 4.6: clear.sce"
		   ]
		  },
  {
"cell_type": "code",
	   "execution_count": null,
	   "metadata": {
	    "collapsed": true
	   },
	   "outputs": [],
"source": [
"//clear//\n",
"clc\n",
"clear\n",
"exec('4.6data.sci');\n",
"\n",
"FT0 = FA0+FB0+FI;\n",
"yA0 = FA0/FT0;\n",
"e = yA0*(1-.5-1);\n",
"PA0 = yA0*P0;\n",
"kdes = k*PA0*(1/2)^(2/3);\n",
"alpha = 2*bita0/(Ac*(1-phi)*rhoc*P0);\n",
"W = (1 - (1-(3*alpha*FA0/(2*kdes))*((1+e)*log(1/(1-X))-e*X))^(2/3))/alpha;\n",
"\n",
"\n",
"disp('W')\n",
"disp(W)\n",
"disp('lb of catalyst per tube')"
   ]
   }
,
{
		   "cell_type": "markdown",
		   "metadata": {},
		   "source": [
			"## Example 4.7: clear.sce"
		   ]
		  },
  {
"cell_type": "code",
	   "execution_count": null,
	   "metadata": {
	    "collapsed": true
	   },
	   "outputs": [],
"source": [
"//clear//\n",
"clc\n",
"clear\n",
"exec('4.7data.sci');\n",
" W = 0:1:60;\n",
"function w=f(W,Y)\n",
" \n",
"w=zeros(2,1);\n",
"w(1)= (kprime/FA0)*((1-Y(1))/(1+e*Y(1)))*Y(2);\n",
"w(2) = -alpha*(1+e*Y(1))/(2*Y(2));\n",
"endfunction\n",
"\n",
"\n",
"x=ode([0;1],W0,W,f);\n",
"for i= 1:61\n",
"  F(i) = (1+e*x(1,i))/x(2,i);\n",
"end\n",
"F= F';\n",
"for i= 1:61\n",
"  rate(i) = (kprime)*((1-x(1,i))/(1+e*x(1,i)))*x(2,i);\n",
"end\n",
"rate =rate';\n",
"\n",
"scf(1)\n",
"plot2d(W,rate);\n",
"xtitle( 'Figure E4-7.1 Reaction rate porfile down the PBR', 'w', 'rate' ) ;\n",
"scf(2)\n",
"\n",
"l1=x(1,: )'\n",
"l2=x(2,: )'\n",
"l3=F'\n",
"plot2d(W',[l1 l2 l3]); \n",
"\n",
"xtitle( 'Figure E4-7.2', 'w', 'x,y,z' ) ;\n",
"legend(['x';'y';'f']);"
   ]
   }
,
{
		   "cell_type": "markdown",
		   "metadata": {},
		   "source": [
			"## Example 4.8: clear.sce"
		   ]
		  },
  {
"cell_type": "code",
	   "execution_count": null,
	   "metadata": {
	    "collapsed": true
	   },
	   "outputs": [],
"source": [
"//clear//\n",
"clc\n",
"clear\n",
"exec('4.8data.sci');\n",
"Z = 0:1:12;\n",
"function w=f(Z,Y)\n",
" \n",
" w=zeros(2,1);\n",
" Ac= 3.14*((R^2)-(Z-L)^2);\n",
" Ca = Ca0*(1-Y(1))*Y(2)/(1+Y(1));\n",
" ra =kprime*Ca*rhocat*(1-phi);\n",
" G= m/Ac;\n",
" V =3.14*(Z*(R^2)-(1.3*(Z-L)^3)-(1/3)*L^3)\n",
" bita = (98.87*G+25630*G^2)*0.01;\n",
" W=rhocat*(1-phi)*V\n",
"w(1)= -ra*Ac/FA0\n",
"w(2) = -bita/P0/(Y(2)*(1+Y(1)));\n",
"endfunction\n",
"\n",
"\n",
"x=ode([0;1],Z0,Z,f);\n",
"for i= 1:length(Z)\n",
"  V(1,i) =3.14*Z(1,i)*((R^2)-(Z(1,i)-L)^2)\n",
"   W1(1,i)=rhocat*(1-phi)*V(1,i)\n",
"end\n",
"\n",
"l1=x(1,: )'\n",
"l2=x(2,: )'\n",
"\n",
"plot2d(W1',[l1 l2]); \n",
"\n",
"xtitle( 'Figure E4-8.2', 'w', 'x,y' ) ;\n",
"legend(['x';'y']);\n",
""
   ]
   }
,
{
		   "cell_type": "markdown",
		   "metadata": {},
		   "source": [
			"## Example 4.9: clear.sce"
		   ]
		  },
  {
"cell_type": "code",
	   "execution_count": null,
	   "metadata": {
	    "collapsed": true
	   },
	   "outputs": [],
"source": [
"//clear//\n",
"clc\n",
"clear\n",
"exec('4.9data.sci');\n",
" V = 0:1:100;\n",
"function w=f(V,fa)\n",
" \n",
" w=zeros(1,1);\n",
" ft =2*(fa0-fa(1))\n",
" Ca = Ct0*fa(1)/ft;\n",
" fb = 2*(fa0-fa(1));\n",
" Cb = Ct0*fb/ft;\n",
"w(1)= -ka*(Ca-(Cb^2)/kc)\n",
"\n",
"endfunction\n",
"\n",
"\n",
"x=ode([9.99],V0,V,f);\n",
"\n",
"for i= 1:101\n",
"   fb(1,i) = 2*(fa0-x(1,i));\n",
"end\n",
"l1=x';\n",
"l2=fb';\n",
"\n",
"plot2d(V',[l1 l2]); \n",
"\n",
"xtitle( 'Figure E4-9.1 Molar flow rate profiles', 'V', 'fa,fb' ) ;\n",
"legend(['fa';'fb']);\n",
"\n",
""
   ]
   }
],
"metadata": {
		  "kernelspec": {
		   "display_name": "Scilab",
		   "language": "scilab",
		   "name": "scilab"
		  },
		  "language_info": {
		   "file_extension": ".sce",
		   "help_links": [
			{
			 "text": "MetaKernel Magics",
			 "url": "https://github.com/calysto/metakernel/blob/master/metakernel/magics/README.md"
			}
		   ],
		   "mimetype": "text/x-octave",
		   "name": "scilab",
		   "version": "0.7.1"
		  }
		 },
		 "nbformat": 4,
		 "nbformat_minor": 0
}
