{
"cells": [
 {
		   "cell_type": "markdown",
	   "metadata": {},
	   "source": [
       "# Chapter 9: Superconductivity"
	   ]
	},
{
		   "cell_type": "markdown",
		   "metadata": {},
		   "source": [
			"## Example 9.10: Constant_of_proportionality_in_Isotopc_effect.sce"
		   ]
		  },
  {
"cell_type": "code",
	   "execution_count": null,
	   "metadata": {
	    "collapsed": true
	   },
	   "outputs": [],
"source": [
"// Scilab code Ex9.10 Page:287 (2006)\n",
"clc; clear;\n",
"alpha = 0.5;    // Isotopic exponent of Osmium\n",
"T_c = 0.655;    // Transition temperature of Osmium, K \n",
"M = 190.2;    // Mass of Osmium, amu\n",
"K = T_c*M^alpha;    // K is the constant of proportionality\n",
"\n",
"printf('\nThe value of constant of proportionality = %4.2f ', K);\n",
"\n",
"// Result \n",
"// The value of constant of proportionality = 9.03"
   ]
   }
,
{
		   "cell_type": "markdown",
		   "metadata": {},
		   "source": [
			"## Example 9.11: Transition_temperature_and_energy_gap_of_a_material.sce"
		   ]
		  },
  {
"cell_type": "code",
	   "execution_count": null,
	   "metadata": {
	    "collapsed": true
	   },
	   "outputs": [],
"source": [
"// Scilab code Ex9.11 Page:298 (2006)\n",
"clc; clear;\n",
"k = 1.38e-023;   // Boltzmann constant, J/mol/K\n",
"e = 1.6e-019;      // Energy equivalent of 1 eV, eV/J\n",
"Theta_D = 96;    // Debye temperature, kelvin\n",
"N0 = 0.3678;    // Density of states at Fermi energy\n",
"V = 1;          // Volume of the material, metre cube\n",
"T_c = 1.14*Theta_D*exp(-1/(N0*V));    // Critical temperature of the material, K\n",
"Delta_0 = k*Theta_D/sinh(1/(N0*V)); // Energy gap at absolute zero, J\n",
"printf('\nThe transition temperature of a material = %4.2f K', T_c);\n",
"printf('\nThe energy gap of a material = %5.3e eV', Delta_0/e);\n",
"\n",
"// Result \n",
"// The transition temperature of a material = 7.22 K\n",
"// The energy gap of a material = 1.097e-03 eV "
   ]
   }
,
{
		   "cell_type": "markdown",
		   "metadata": {},
		   "source": [
			"## Example 9.12: Transition_temperature_of_a_superconductor_using_McMillan_formula.sce"
		   ]
		  },
  {
"cell_type": "code",
	   "execution_count": null,
	   "metadata": {
	    "collapsed": true
	   },
	   "outputs": [],
"source": [
"// Scilab code Ex9.12 Page:298 (2006)\n",
"clc; clear;\n",
"Theta_D = 350;    // Debye temperature, kelvin\n",
"Lambda = 0.828;    // Electron-phonon coupling constant\n",
"mu_prime = 0.1373;    // Reduced mass of a superconductor, amu\n",
"T_c = Theta_D/1.45*exp(-1.04*(1+Lambda)/(Lambda-mu_prime*(1+0.62*Lambda)));     // Transition temperature of a superconductor using McMillan formula, K\n",
"\n",
"printf('\nThe transition temperature of the superconductor using McMillan formula = %5.2f K', T_c);\n",
"\n",
"// Result \n",
"// The transition temperature of the superconductor using McMillan formula = 11.26 K "
   ]
   }
,
{
		   "cell_type": "markdown",
		   "metadata": {},
		   "source": [
			"## Example 9.13: EX9_13.sce"
		   ]
		  },
  {
"cell_type": "code",
	   "execution_count": null,
	   "metadata": {
	    "collapsed": true
	   },
	   "outputs": [],
"source": [
"// Scilab code Ex9.13 : Page:298 (2006)\n",
"clc; clear;\n",
"Theta_D = 350;    // Debye temperature, kelvin\n",
"Lambda = 0.641;    // Electron-phonon coupling constant\n",
"mu_prime = 0.143;    // Reduced mass of a superconductor, amu\n",
"T_c = Theta_D/1.45*exp(-1.04*(1+Lambda)/(Lambda-mu_prime*(1+0.62*Lambda)));   // Superconducting transition temperature of a superconductor using mcMillan's formula, K\n",
"\n",
"printf('\nThe superconducting transition temperature of a superconductor using McMillan formula = %5.3f K', T_c);\n",
"\n",
"// Result \n",
"// The superconducting transition temperature of a superconductor using McMillan formula = 5.043 K"
   ]
   }
,
{
		   "cell_type": "markdown",
		   "metadata": {},
		   "source": [
			"## Example 9.15: Superconducting_transition_temperature_of_a_borocarbide_superconductor.sce"
		   ]
		  },
  {
"cell_type": "code",
	   "execution_count": null,
	   "metadata": {
	    "collapsed": true
	   },
	   "outputs": [],
"source": [
"// Scilab code Ex9.15 Page:314 (2006)\n",
"clc; clear;\n",
"Theta_D = 490;    // Debye temperature, Kelvin\n",
"Lambda = 0.8;    // wavelength of a superconductor, angstorm\n",
"mu_prime = 0.13;    // Reduced mass of a superconductor, amu\n",
"T_c = Theta_D/1.45*exp(-1.04*(1+Lambda)/(Lambda-mu_prime*(1+0.62*Lambda)));\n",
"printf('\nThe superconducting transition temperature of a borocarbide superconductor = %4.1f K', T_c);\n",
"\n",
"// Result \n",
"// The superconducting transition temperature of a borocarbide superconductor = 15.4 K "
   ]
   }
,
{
		   "cell_type": "markdown",
		   "metadata": {},
		   "source": [
			"## Example 9.16: Electron_phonon_coupling_constant_for_a_superconductor.sce"
		   ]
		  },
  {
"cell_type": "code",
	   "execution_count": null,
	   "metadata": {
	    "collapsed": true
	   },
	   "outputs": [],
"source": [
"// Scilab code Ex9.16 Page:314 (2006)\n",
"clc; clear;\n",
"T_c = 16.5;    // Transition temperature of a superconductor, K\n",
"Lambda = [0.7 0.8 0.9 1.0];    // Electron-phonon coupling constants at different Tc values \n",
"Theta_D = 503;    // Debye temperature, kelvin\n",
"mu_prime = 0.13;    // Reduced mass of a superconductor, amu\n",
"Tc = zeros(4);\n",
"printf('\n_____________________');\n",
"printf('\nLambda          Tc');\n",
"printf('\n_____________________');\n",
"for i = 1:1:4\n",
"   Tc(i) = Theta_D/1.45*exp(-1.04*(1+Lambda(i))/(Lambda(i)-mu_prime*(1+0.62*Lambda(i)))); \n",
"   if abs(Tc(i) - 16.5) < 1.0 then\n",
"       best_Lvalue = Lambda(i);\n",
"   end\n",
"   printf('\n%3.1f       %8.1f K', Lambda(i), Tc(i));\n",
"end\n",
"printf('\n_____________________');\n",
"\n",
"printf('\nThe best electron-phonon coupling constant should be slightly above %3.1f ', best_Lvalue);\n",
"\n",
"// Result \n",
"// _____________________\n",
"// Lambda          Tc\n",
"// _____________________\n",
"// 0.7           11.1 K\n",
"// 0.8           15.8 K\n",
"// 0.9           20.4 K\n",
"// 1.0           24.9 K\n",
"// _____________________\n",
"// The best electron-phonon coupling constant should be slightly above 0.8  "
   ]
   }
,
{
		   "cell_type": "markdown",
		   "metadata": {},
		   "source": [
			"## Example 9.17: Debye_temperature_of_a_BCS_superconductor.sce"
		   ]
		  },
  {
"cell_type": "code",
	   "execution_count": null,
	   "metadata": {
	    "collapsed": true
	   },
	   "outputs": [],
"source": [
"// Scilab code Ex9.17 Page:317 (2006)\n",
"clc; clear;\n",
"T_c = 39.4;    // Transition temperature of a superconductor, K\n",
"Lambda = 1;    // Electron-phonon coupling constant for a superconductor\n",
"mu_prime= 0.15;    // Reduced mass of a superconductor, amu\n",
"// As T_c = Theta_D/1.45*exp(-1.04*(1+Lambda)/(Lambda-mu_prime*(1+0.62*Lambda))), solving for Theta_D\n",
"Theta_D = T_c*1.45*exp(1.04*(1+Lambda)/(Lambda-mu_prime*(1+0.62*Lambda)));\n",
"\n",
"printf('\nThe Debye temperature of a BCS superconductor = %3d K', Theta_D);\n",
"\n",
"// Result \n",
"// The Debye temperature of a BCS superconductor = 891 K "
   ]
   }
,
{
		   "cell_type": "markdown",
		   "metadata": {},
		   "source": [
			"## Example 9.1: Critical_field_required_to_destroy_superconductivity.sce"
		   ]
		  },
  {
"cell_type": "code",
	   "execution_count": null,
	   "metadata": {
	    "collapsed": true
	   },
	   "outputs": [],
"source": [
"// Scilab code Ex9.1 Page:278 (2006)\n",
"clc; clear;\n",
"H_c0 = 0.0803;    // Critical field at absolute zero, Tesla\n",
"T_c = 7.19;    // Transition temperature of specimen  lead, Kelvin\n",
"T = 5;    // Temperature at which destruction of superconductivity is to be found, Kelvin\n",
"H_c = H_c0*[1-(T/T_c)^2];    // Critical field required to destroy superconductivity, Tesla\n",
"printf('\nCritical field required to destroy superconductivity = %6.4f T', H_c);\n",
"\n",
"// Result \n",
"// Critical field required to destroy superconductivity = 0.0415 T"
   ]
   }
,
{
		   "cell_type": "markdown",
		   "metadata": {},
		   "source": [
			"## Example 9.2: Limiting_magnetic_field_of_Nb_to_serve_as_superconductor.sce"
		   ]
		  },
  {
"cell_type": "code",
	   "execution_count": null,
	   "metadata": {
	    "collapsed": true
	   },
	   "outputs": [],
"source": [
"// Scilab Code Ex9.2 Page:278 (2006)\n",
"clc; clear;\n",
"H0 = 1970;    // Critical field at absolute zero, Oe\n",
"T_c = 9.25;    // Transition temperature of specimen  Nb, Kelvin\n",
"T = 4;    // Temperature at which destruction of superconductivity is to be found, Kelvin\n",
"H_c = H0*[1-(T/T_c)^2];    // Limiting magnetic field, Oe\n",
"printf('\nLimiting magnetic field of Nb to serve as superconductor = %4d Oe', round(H_c));\n",
"\n",
"// Result \n",
"// Limiting magnetic field of Nb to serve as superconductor = 1602 Oe "
   ]
   }
,
{
		   "cell_type": "markdown",
		   "metadata": {},
		   "source": [
			"## Example 9.3: Transition_temperature_of_a_specimen.sce"
		   ]
		  },
  {
"cell_type": "code",
	   "execution_count": null,
	   "metadata": {
	    "collapsed": true
	   },
	   "outputs": [],
"source": [
"// Scilab Code Ex9.3 Page:278 (2006)\n",
"clc;clear;\n",
"T_1 = 14;    // Temperature, K\n",
"T_2 = 13;    // Temperature, K\n",
"H_c1 = 1.4e+05;    // Critical field at T_1, K\n",
"H_c2 = 4.2e+05;    // Critical field at T_2, K//As H_c1/H_c2 = (T_c^2-T_1^2)/(T_c^2-T_2^2), solving for T_c\n",
"T_c = sqrt((H_c2/H_c1*T_1^2 - T_2^2)/2);  // The superconducting transition temperature of a specimen, K\n",
"printf('\nTransition temperature of a specimen = %5.2f K', T_c);\n",
"\n",
"// Result \n",
"// Transition temperature of a specimen = 14.47 K "
   ]
   }
,
{
		   "cell_type": "markdown",
		   "metadata": {},
		   "source": [
			"## Example 9.4: Coherence_length_of_aluminium.sce"
		   ]
		  },
  {
"cell_type": "code",
	   "execution_count": null,
	   "metadata": {
	    "collapsed": true
	   },
	   "outputs": [],
"source": [
"// Scilab Code Ex9.4 Page:280 (2006)\n",
"clc;clear;\n",
"e = 1.6e-019;   // Energy equivalent of 1 eV, J/eV\n",
"E_g = 3.4e-04;    // Energy gap of aluminium, eV\n",
"v_F = 2.02e+08;    // Fermi velocity of aluminium, cm/sec\n",
"h_bar = 1.05e-034;    // Planck's constant\n",
"L = h_bar*v_F/(2*E_g*e);    // Coherence Length of aluminium, cm\n",
"\n",
"printf('\nThe coherence length of aluminium = %4.2e cm', L);\n",
"\n",
"// Result \n",
"// The coherence length of aluminium = 1.95e-04 cm "
   ]
   }
,
{
		   "cell_type": "markdown",
		   "metadata": {},
		   "source": [
			"## Example 9.6: Wavelength_of_photon_required_to_break_a_Cooper_pair.sce"
		   ]
		  },
  {
"cell_type": "code",
	   "execution_count": null,
	   "metadata": {
	    "collapsed": true
	   },
	   "outputs": [],
"source": [
"// Scilab Code Ex9.6 Page:284 (2006)\n",
"clc; clear;\n",
"h = 6.6e-034;     // Planck's constant, Js\n",
"e = 1.6e-019;       // Energy eqivalent of 1 eV, eV/J\n",
"k = 0.86e-004;  // Boltzmann constant, eV/K\n",
"T_c = 0.56;     // Critical temperature for superconducting Zr, K\n",
"E_g = 3.52*k*T_c;    // Energy gap of aluminium, J\n",
"c = 3e+08;      // Speed of light, m/s\n",
"lambda = h*c/(E_g*e);       // Wavelength of photon required to break a Cooper pair, m\n",
"\n",
"printf('\nThe wavelength of photon required to break a Cooper pair = %3.1e m', lambda);\n",
"\n",
"// Result \n",
"// The wavelength of photon required to break a Cooper pair = 7.3e-03 m (Answer given in the textbook is wrong)"
   ]
   }
,
{
		   "cell_type": "markdown",
		   "metadata": {},
		   "source": [
			"## Example 9.7: London_penetration_depth_in_Pb.sce"
		   ]
		  },
  {
"cell_type": "code",
	   "execution_count": null,
	   "metadata": {
	    "collapsed": true
	   },
	   "outputs": [],
"source": [
"// Scilab Code Ex9.7 :Page:285 (2006)\n",
"clc; clear;\n",
"Lambda_0 = 390;    // Penetration depth at absolute zero, angstorm\n",
"T_c = 7;    // Transition temperature of Pb, K\n",
"T = 2;      // Givn temperature, K\n",
"Lambda = Lambda_0*[1-(T/T_c)^2]^(-1/2);    // London penetration depth in Pb at 2K, angstorm \n",
"printf('\nThe London penetration depth in Pb at 2K = %7.4f angstorm', Lambda);\n",
"printf('\nThe London penetration depth at T = T_c becomes %d', %inf);\n",
"\n",
"// Result \n",
"// The London penetration depth in Pb at 2K = 406.9644 angstorm\n",
"// The London penetration depth at T = T_c becomes Inf "
   ]
   }
,
{
		   "cell_type": "markdown",
		   "metadata": {},
		   "source": [
			"## Example 9.8: Isotopic_exponent_in_Isotopic_effect_of_Hg.sce"
		   ]
		  },
  {
"cell_type": "code",
	   "execution_count": null,
	   "metadata": {
	    "collapsed": true
	   },
	   "outputs": [],
"source": [
"// Scilab Code Ex9.8: Page:286 (2006)\n",
"clc; clear;\n",
"M = [199.5 200.7 202.0 203.3];  // Isotopic mass of Hg, amu\n",
"T_c = [4.185 4.173 4.159 4.146];    // Critical temperature of Hg, kelvin\n",
"alpha = 0.5;    // Trial value of Isotopic exponent\n",
"// Accroding to isotopic effect, T_c = K*M^(-alpha), solving for K\n",
"K = T_c(1)/M(1)^(-alpha);  // Isoptopic coefficent \n",
"Tc = zeros(3);  \n",
"for i = 2:1:4\n",
"    Tc(i-1) = K*M(i)^(-alpha);\n",
"    printf('\nTc(%d) = %5.3f', i, Tc(i-1));\n",
"end\n",
"if T_c(2)-Tc(1)<0.001 & T_c(3)-Tc(2)<0.001 & T_c(4)-Tc(3)<0.001 then\n",
"    printf('\nThe isotopic exponent in Isotopic effect of Hg = %3.1f', alpha);\n",
"end\n",
"\n",
"// Result \n",
"// Tc(2) = 4.172\n",
"// Tc(3) = 4.159\n",
"// Tc(4) = 4.146\n",
"// The isotopic exponent in Isotopic effect of Hg = 0.5 "
   ]
   }
,
{
		   "cell_type": "markdown",
		   "metadata": {},
		   "source": [
			"## Example 9.9: Transition_temperature_of_isotope_of_Hg_whose_mass_number_is_199.sce"
		   ]
		  },
  {
"cell_type": "code",
	   "execution_count": null,
	   "metadata": {
	    "collapsed": true
	   },
	   "outputs": [],
"source": [
"// Scilab code Ex9.9 Page:286 (2006)\n",
"clc; clear;\n",
"M_1 = 202;    // Mass of first isotope of mercury, amu\n",
"M_2 = 199;    // Mass of second isotope of mercury, amu\n",
"T_c1 = 4.153;    // Transition temperature of first isotope of mercury, K \n",
"//As T_c1/T_c2 = (M_2/M_1)^1/2, solving for T_c2\n",
"T_c2 = sqrt(M_1/M_2)*T_c1;  // \n",
"printf('\nThe transition temperature of isotope of Hg whose mass number is %d = %5.3f K', M_2, T_c2);\n",
"\n",
"// Result \n",
"// The transition temperature of isotope of Hg whose mass number is 199 = 4.184 K "
   ]
   }
],
"metadata": {
		  "kernelspec": {
		   "display_name": "Scilab",
		   "language": "scilab",
		   "name": "scilab"
		  },
		  "language_info": {
		   "file_extension": ".sce",
		   "help_links": [
			{
			 "text": "MetaKernel Magics",
			 "url": "https://github.com/calysto/metakernel/blob/master/metakernel/magics/README.md"
			}
		   ],
		   "mimetype": "text/x-octave",
		   "name": "scilab",
		   "version": "0.7.1"
		  }
		 },
		 "nbformat": 4,
		 "nbformat_minor": 0
}
