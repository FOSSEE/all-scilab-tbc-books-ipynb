{
"cells": [
 {
		   "cell_type": "markdown",
	   "metadata": {},
	   "source": [
       "# Chapter 4: Free Electron Theory of Metals"
	   ]
	},
{
		   "cell_type": "markdown",
		   "metadata": {},
		   "source": [
			"## Example 4.10: Change_in_Fermi_energy_with_temperature.sce"
		   ]
		  },
  {
"cell_type": "code",
	   "execution_count": null,
	   "metadata": {
	    "collapsed": true
	   },
	   "outputs": [],
"source": [
"// Scilab Code Ex4.10: Page-122 (2006)\n",
"clc; clear;\n",
"k = 1.38e-023;  // Boltzmann constant, J/mol/K\n",
"T = 500;    // Rise in temperature of Al, K\n",
"EF_0 = 11.63;    // Fermi energy of Al, eV\n",
"EF_T = EF_0*(1-%pi^2/12*(k*T/EF_0)^2);  // Change in Fermi energy of Al with temperature, eV\n",
"printf('\nThe change in Fermi energy of Al with tempertaure rise of 500 degree celsius = %5.2f eV', EF_T);\n",
"\n",
"// Result \n",
"// The change in Fermi energy of Al with tempertaure rise of 500 degree celsius = 11.63 eV \n",
""
   ]
   }
,
{
		   "cell_type": "markdown",
		   "metadata": {},
		   "source": [
			"## Example 4.11: Electrical_conductivity_of_Pb_and_Ag.sce"
		   ]
		  },
  {
"cell_type": "code",
	   "execution_count": null,
	   "metadata": {
	    "collapsed": true
	   },
	   "outputs": [],
"source": [
"// Scilab Code Ex4.11: Page-122 (2006)\n",
"clc; clear;\n",
"m = 9.1e-031;   // Mass of an electron, kg\n",
"e = 1.6e-019;   // Charge on an electron, C\n",
"lambda = 1.0e-09;   // Mean free path of electron in metal, m\n",
"v = 1.11e+05;    // Average velocity of the electron in metal, m/s\n",
"\n",
"// For Lead\n",
"n = 13.2e+028;  // Electronic concentration of Pb, per metre cube\n",
"sigma = n*e^2*lambda/(m*v);     // Electrical conductivity of lead, mho per metre\n",
"printf('\nThe electrical conductivity of lead = %4.2e mho per metre', sigma);\n",
"\n",
"// For Silver\n",
"n = 5.85e+28;  // Electronic concentration of Ag, per metre cube\n",
"sigma = n*e^2*lambda/(m*v);     // Electrical conductivity of Ag, mho per metre\n",
"printf('\nThe electrical conductivity of silver = %4.2e mho per metre', sigma);\n",
"\n",
"// Result \n",
"// The electrical conductivity of lead = 3.35e+007 mho per metre\n",
"// The electrical conductivity of silver = 1.48e+007 mho per metre \n",
""
   ]
   }
,
{
		   "cell_type": "markdown",
		   "metadata": {},
		   "source": [
			"## Example 4.12: Lorentz_number.sce"
		   ]
		  },
  {
"cell_type": "code",
	   "execution_count": null,
	   "metadata": {
	    "collapsed": true
	   },
	   "outputs": [],
"source": [
"// Scilab Code Ex4.12: Page-125 (2006)\n",
"clc; clear;\n",
"k = 1.38e-023;  // Boltzmann constant, J/mol/K\n",
"e = 1.6e-019;   // Charge on an electron, C\n",
"L = %pi^2/3*(k/e)^2;    // Lorentz number, watt-ohm/degree-square\n",
"printf('\nThe Lorentz number = %4.2e watt-ohm/degree-square', L);\n",
"\n",
"// Result \n",
"// The Lorentz number = 2.45e-008 watt-ohm/degree-square \n",
""
   ]
   }
,
{
		   "cell_type": "markdown",
		   "metadata": {},
		   "source": [
			"## Example 4.13: Lorentz_numbers_for_metals_at_273_K_and_comparison_with_the_given_values.sce"
		   ]
		  },
  {
"cell_type": "code",
	   "execution_count": null,
	   "metadata": {
	    "collapsed": true
	   },
	   "outputs": [],
"source": [
"// Scilab Code Ex4.13: Page-125 (2006)\n",
"clc; clear;\n",
"A = cell(4,4);      // Declare a 4X4 cell\n",
"A(1,1).entries = 'Mg';  \n",
"A(1,2).entries = 2.54e-05;  \n",
"A(1,3).entries = 1.5;  \n",
"A(1,4).entries = 2.32e+02;  \n",
"A(2,1).entries = 'Cu';  \n",
"A(2,2).entries = 6.45e-05;  \n",
"A(2,3).entries = 3.85;  \n",
"A(2,4).entries = 2.30e+02;  \n",
"A(3,1).entries = 'Al';  \n",
"A(3,2).entries = 4.0e-05;  \n",
"A(3,3).entries = 2.38;\n",
"A(3,4).entries = 2.57e+02;  \n",
"A(4,1).entries = 'Pt';  \n",
"A(4,2).entries = 1.02e-05;  \n",
"A(4,3).entries = 0.69;\n",
"A(4,4).entries = 2.56e+02;  \n",
"T1 = 273;   // First temperature, K\n",
"T2 = 373;   // Second temperature, K\n",
"printf('\n_________________________________________________________________');\n",
"printf('\nMetal     sigma x 1e-05   K(W/cm-K)   Lorentz number             ');\n",
"printf('\n          (mho per cm)                (watt-ohm/deg-square)x1e-02')\n",
"printf('\n_________________________________________________________________');\n",
"for i = 1:1:4\n",
"    L1 = A(i,3).entries/(A(i,2).entries*T1); L2 = A(i,4).entries;\n",
"    printf('\n%s        %4.2f            %4.2f         %4.2f            %4.2f', A(i,1).entries, A(i,2).entries/1e-05, A(i,3).entries, L1/1e+02, L2/1e+02);\n",
"end\n",
"printf('\n_________________________________________________________________');\n",
"\n",
"// Result \n",
"// _________________________________________________________________\n",
"// Metal     sigma x 1e-05   K(W/cm-K)   Lorentz number             \n",
"//           (mho per cm)                (watt-ohm/deg-square)x1e-02\n",
"// _________________________________________________________________\n",
"// Mg        2.54            1.50         2.16            2.32\n",
"// Cu        6.45            3.85         2.19            2.30\n",
"// Al        4.00            2.38         2.18            2.57\n",
"// Pt        1.02            0.69         2.48            2.56\n",
"// _________________________________________________________________ \n",
""
   ]
   }
,
{
		   "cell_type": "markdown",
		   "metadata": {},
		   "source": [
			"## Example 4.14: Thermal_conductivity_of_gold_at_100_K_and_273_K.sce"
		   ]
		  },
  {
"cell_type": "code",
	   "execution_count": null,
	   "metadata": {
	    "collapsed": true
	   },
	   "outputs": [],
"source": [
"// Scilab Code Ex4.14: Page-125 (2006)\n",
"clc; clear;\n",
"A = cell(2,2);      // Declare a 2X3 cell\n",
"A(1,1).entries = 1.6e+08;  // Electrcal conductivity of Au at 100 K, mho per metre\n",
"A(1,2).entries = 2.0e-08;   // Lorentz number of Au at 100 K, volt/K-square\n",
"A(2,1).entries = 5.0e+08;  // Electrcal conductivity of Au at 273  K, mho per metre\n",
"A(2,2).entries = 2.4e-08;   // Lorentz number of Au at 273 K, volt/K-square\n",
"T1 = 100;       // First temperature, K\n",
"T2 = 273;       // Second temperature, K\n",
"\n",
"printf('\n___________________________________________________________________________');\n",
"printf('\n          T = 100 K                               T = 273 K                ');\n",
"printf('\n_________________________________       ___________________________________');\n",
"printf('\nElectrical conductivity)  L              Electrical conductivity)  L       ');\n",
"printf('\n    mho per metre       V/K-square           mho per metre       V/K-square');\n",
"printf('\n___________________________________________________________________________');\n",
"K1 = A(1,1).entries*T1*A(1,2).entries; K2 = A(2,1).entries*T2*A(2,2).entries;\n",
"    printf('\n%3.1e                  %3.1e       %3.1e                  %3.1e', A(1,1).entries, A(1,2).entries, A(2,1).entries, A(2,2).entries);\n",
"    printf('\nK = %3d W/cm-K                           K = %3d W/cm-K', K1, K2);\n",
"printf('\n___________________________________________________________________________');\n",
"\n",
"// Result \n",
"// ___________________________________________________________________________\n",
"//           T = 100 K                               T = 273 K                \n",
"// _________________________________       ___________________________________\n",
"// Electrical conductivity)  L              Electrical conductivity)  L       \n",
"//     mho per metre       V/K-square           mho per metre       V/K-square\n",
"// ___________________________________________________________________________\n",
"// 1.6e+008                  2.0e-008       5.0e+008                  2.4e-008\n",
"// K = 320 W/cm-K                           K = 3276 W/cm-K\n",
"// ___________________________________________________________________________  \n",
""
   ]
   }
,
{
		   "cell_type": "markdown",
		   "metadata": {},
		   "source": [
			"## Example 4.15: Hall_coefficient_of_sodium.sce"
		   ]
		  },
  {
"cell_type": "code",
	   "execution_count": null,
	   "metadata": {
	    "collapsed": true
	   },
	   "outputs": [],
"source": [
"// Scilab Code Ex4.15: Page-131 (2006)\n",
"clc; clear;\n",
"e = 1.6e-019;   // Electronic charge, C\n",
"a = 0.428e-09;  // Lattice constant of Na, m\n",
"V = a^3;    // Volume of unit cell, metre cube\n",
"N = 2;  // No. of atoms per unit cell of Na\n",
"n = N/V;    // No. of electrons per metre cube, per metre cube\n",
"R_H = -1/(n*e);  // Hall coeffcient of Na, metre cube per coulomb\n",
"printf('\nThe Hall coefficient of sodium = %4.2e metre cube per coulomb', R_H);\n",
"\n",
"// Result \n",
"// The Hall coefficient of sodium = -2.45e-010 metre cube per coulomb   \n",
""
   ]
   }
,
{
		   "cell_type": "markdown",
		   "metadata": {},
		   "source": [
			"## Example 4.16: Hall_coefficient_of_beryllium.sce"
		   ]
		  },
  {
"cell_type": "code",
	   "execution_count": null,
	   "metadata": {
	    "collapsed": true
	   },
	   "outputs": [],
"source": [
"// Scilab Code Ex4.16: Page-131 (2006)\n",
"clc; clear;\n",
"e = 1.6e-019;   // Electronic charge, C\n",
"n = 24.2e+028;    // No. of electrons per metre cube, per metre cube\n",
"R_H = -1/(n*e);  // Hall coeffcient of Be, metre cube per coulomb\n",
"printf('\nThe Hall coefficient of beryllium = %4.2e metre cube per coulomb', R_H);\n",
"\n",
"// Result \n",
"// The Hall coefficient of beryllium = -2.58e-011 metre cube per coulomb \n",
""
   ]
   }
,
{
		   "cell_type": "markdown",
		   "metadata": {},
		   "source": [
			"## Example 4.17: Electronic_concentration_of_silver_from_Hall_coefficient.sce"
		   ]
		  },
  {
"cell_type": "code",
	   "execution_count": null,
	   "metadata": {
	    "collapsed": true
	   },
	   "outputs": [],
"source": [
"// Scilab Code Ex4.17: Page-131 (2006)\n",
"clc; clear;\n",
"e = 1.6e-019;   // Electronic charge, C\n",
"R_H = -8.4e-011;  // Hall coeffcient of Ag, metre cube per coulomb\n",
"n = -3*%pi/(8*R_H*e);    // Electronic concentration of Ag, per metre cube\n",
"printf('\nThe electronic concentration of Ag = %3.1e per metre cube', n);\n",
"\n",
"// Result \n",
"// The electronic concentration of Ag = 8.8e+028 per metre cube \n",
""
   ]
   }
,
{
		   "cell_type": "markdown",
		   "metadata": {},
		   "source": [
			"## Example 4.18: Resistivity_of_a_metal_using_Matthiessen_rule.sce"
		   ]
		  },
  {
"cell_type": "code",
	   "execution_count": null,
	   "metadata": {
	    "collapsed": true
	   },
	   "outputs": [],
"source": [
"// Scilab Code Ex4.18: Page-134 (2006)\n",
"clc; clear;\n",
"// We have from Mattheissen rule, rho = rho_0 + alpha*T1\n",
"T1 = 300;   // Initial temperature, K\n",
"T2 = 1000;  // Final temperature, K\n",
"rho = 1e-06;    // Resistivity of the metal, ohm-m\n",
"delta_rho = 0.07*rho;      // Increase in resistivity of metal, ohm-m\n",
"alpha = delta_rho/(T2-T1);  // A constant, ohm-m/K\n",
"rho_0 = rho - alpha*T1;     // Resistivity at room temperature, ohm-m\n",
"printf('\nThe resistivity at room temperature = %4.2e ohm-m', rho);\n",
"\n",
"// Result \n",
"// The resistivity at room temperature = 1.00e-006 ohm-m \n",
""
   ]
   }
,
{
		   "cell_type": "markdown",
		   "metadata": {},
		   "source": [
			"## Example 4.19: Resitivity_of_Ge_at_20_degree_celsius.sce"
		   ]
		  },
  {
"cell_type": "code",
	   "execution_count": null,
	   "metadata": {
	    "collapsed": true
	   },
	   "outputs": [],
"source": [
"// Scilab Code Ex4.19: Page-134 (2006)\n",
"clc; clear;\n",
"// We have from Mattheissen rule, rho = rho_0 + alpha*T1\n",
"e = 1.6e-019;   // Energy equivalent of 1 eV, J/eV\n",
"k = 1.38e-023;  // Boltzmann constant, J/mol/K\n",
"rho_40 = 0.2;   // Resistivity of Ge at 40 degree celsius, ohm-m\n",
"E_g = 0.7;  // Bandgap for Ge, eV\n",
"T1 = 20+273;    // Second temperature, K\n",
"T2 = 40 + 273;  // First temperature, K\n",
"rho_20 = rho_40*exp(E_g*e/(2*k)*(1/T1-1/T2));    // Resistivity of Ge at 20 degree celsius, ohm-m\n",
"printf('\nThe resistivity of Ge at 20 degree celsius = %3.1f ohm-m', rho_20);\n",
"\n",
"// Result \n",
"// The resistivity of Ge at 20 degree celsius = 0.5 ohm-m \n",
""
   ]
   }
,
{
		   "cell_type": "markdown",
		   "metadata": {},
		   "source": [
			"## Example 4.1: Collision_time_for_an_electron_in_monovalent_Cu.sce"
		   ]
		  },
  {
"cell_type": "code",
	   "execution_count": null,
	   "metadata": {
	    "collapsed": true
	   },
	   "outputs": [],
"source": [
"// Scilab Code Ex4.1: Page-112 (2006)\n",
"clc; clear;\n",
"m = 9.1e-031;   // Mass of an electron, kg\n",
"e = 1.6e-019;   // Charge on an electron, C\n",
"n = 8.5e+028;   // Concentration of electron in Cu, per metre cube\n",
"rho = 1.7e-08;  // Resistivity of Cu, ohm-m\n",
"t = m/(n*e^2*rho);  // Collision time for an electron in monovalent Cu, s\n",
"printf('\nThe collision time for an electron in monovalent Cu = %3.1e s', t);\n",
"\n",
"// Result \n",
"// The collision time for an electron in monovalent Cu = 2.5e-014 s "
   ]
   }
,
{
		   "cell_type": "markdown",
		   "metadata": {},
		   "source": [
			"## Example 4.20: Solid_radius_and_Fermi_level_quantities_for_Li.sce"
		   ]
		  },
  {
"cell_type": "code",
	   "execution_count": null,
	   "metadata": {
	    "collapsed": true
	   },
	   "outputs": [],
"source": [
"// Scilab Code Ex4.20: Page-135 (2006)\n",
"clc; clear;\n",
"rs_a0_ratio = 3.25;     // Ratio of solid radius to the lattice parameter\n",
"E_F = 50.1*(rs_a0_ratio)^(-2);  // Fermi level energy of Li, eV\n",
"T_F = 58.2e+04*(rs_a0_ratio)^(-2);  // Fermi level temperature of Li, K\n",
"V_F = 4.20e+08*(rs_a0_ratio)^(-1);  // Fermi level velocity of electron in Li, cm/sec\n",
"K_F = 3.63e+08*(rs_a0_ratio)^(-1);   \n",
"printf('\nE_F = %4.2f eV', E_F);\n",
"printf('\nT_F = %4.2e K', T_F);\n",
"printf('\nV_F = %4.2e cm/sec', V_F);\n",
"printf('\nK_F = %4.2e per cm', K_F);\n",
"\n",
"// Result \n",
"// E_F = 4.74 eV\n",
"// T_F = 5.51e+004 K\n",
"// V_F = 1.29e+008 cm/sec\n",
"// K_F = 1.12e+008 per cm \n",
""
   ]
   }
,
{
		   "cell_type": "markdown",
		   "metadata": {},
		   "source": [
			"## Example 4.21: Fermi_energy_for_yittrium.sce"
		   ]
		  },
  {
"cell_type": "code",
	   "execution_count": null,
	   "metadata": {
	    "collapsed": true
	   },
	   "outputs": [],
"source": [
"// Scilab Code Ex4.21: Page-135 (2006)\n",
"clc; clear;\n",
"n = 6.04e+022;  // Concentration of electrons in yittrium, per metre cube\n",
"r_s = (3/(4*%pi*n))^(1/3)/1e-08;    // Radius of the solid, angstrom\n",
"a0 = 0.529; // Lattice parameter of yittrium, angstrom\n",
"rs_a0_ratio = r_s/a0;   // Solid radius to lattice parameter ratio\n",
"E_F = 50.1*(rs_a0_ratio)^(-2);  // Fermi level energy of Y, eV\n",
"printf('\nThe Fermi energy of yittrium = %5.3f eV', E_F);\n",
"Ryd = 13.6;     // Rydberg energy constant, eV\n",
"E_bs = 0.396*Ryd;   // Band structure energy value of Y, eV\n",
"printf('\nThe band structure value of E_F = %5.3f eV is in close agreement with the calculated value of %5.3f eV', E_bs, E_F); \n",
"\n",
"// Result \n",
"// The Fermi energy of yittrium = 5.608 eV\n",
"// The band structure value of E_F = 5.386 eV is in close agreement with the calculated value of 5.608 eV \n",
"\n",
""
   ]
   }
,
{
		   "cell_type": "markdown",
		   "metadata": {},
		   "source": [
			"## Example 4.22: Plasmon_energy_of_Al_using_free_electron_gas_parameter.sce"
		   ]
		  },
  {
"cell_type": "code",
	   "execution_count": null,
	   "metadata": {
	    "collapsed": true
	   },
	   "outputs": [],
"source": [
"// Scilab Code Ex4.22: Page-137 (2006)\n",
"clc; clear;\n",
"rs_a0_ratio = 2.07;   // Solid radius to lattice parameter ratio for Al\n",
"E_F = 50.1*(rs_a0_ratio)^(-2);  // Fermi level energy of Y, eV\n",
"// According to Jellium model, h_cross*omega_P = E = 47.1 eV *(rs_a0_ratio)^(-3/2)\n",
"E = 47.1*(rs_a0_ratio)^(-3/2);      // Plasmon energy of Al, eV\n",
"printf('\nThe plasmon energy of Al = %4.2f eV', E);\n",
"printf('\nThe experimental value is 15 eV');\n",
"\n",
"// Result \n",
"// The plasmon energy of Al = 15.81 eV\n",
"// The experimental value is 15 eV \n",
"\n",
""
   ]
   }
,
{
		   "cell_type": "markdown",
		   "metadata": {},
		   "source": [
			"## Example 4.23_10: Occupation_probability_of_an_electron_above_and_below_Fermi_energy.sce"
		   ]
		  },
  {
"cell_type": "code",
	   "execution_count": null,
	   "metadata": {
	    "collapsed": true
	   },
	   "outputs": [],
"source": [
"// Scilab Code Ex4.10a: Page-141 (2006)\n",
"clc; clear;\n",
"E_F = 1;    // For simplicity assume Fermi energy to be unity, eV\n",
"k = 1.38e-023;      // Boltzmann constant, J/mol/K\n",
"e = 1.6e-019;   // Energy equivalent of 1 eV, J/eV\n",
"dE = 0.5;        // Exces energy above Fermi level, eV\n",
"T = 300;        // Room temperature, K\n",
"E = E_F + dE;    // Energy of the level above Fermi level, eV\n",
"f_E = 1/(exp((E-E_F)*e/(k*T))+1);    // Occupation probability of the electron at 0.1 eV above E_F\n",
"printf('\nAt 300 K:');\n",
"printf('\n=========');\n",
"printf('\nThe occupation probability of electron at %3.1f eV above Fermi energy = %11.9f', dE, f_E);\n",
"E = E_F - dE;    // Energy of the level below Fermi level, eV\n",
"f_E = 1/(exp((E-E_F)*e/(k*T))+1);    // Occupation probability of the electron at 0.1 eV below E_F\n",
"printf('\nThe occupation probability of electron at %3.1f eV below Fermi energy = %11.9f', dE, f_E);\n",
"\n",
"// Result \n",
"// At 300 K:\n",
"// =========\n",
"// The occupation probability of electron at 0.5 eV above Fermi energy = 0.000000004\n",
"// The occupation probability of electron at 0.5 eV below Fermi energy = 0.999999996 "
   ]
   }
,
{
		   "cell_type": "markdown",
		   "metadata": {},
		   "source": [
			"## Example 4.23_11: Occupation_probability_at_two_different_temperatures.sce"
		   ]
		  },
  {
"cell_type": "code",
	   "execution_count": null,
	   "metadata": {
	    "collapsed": true
	   },
	   "outputs": [],
"source": [
"// Scilab Code Ex4.9a: Page-141 (2006)\n",
"clc; clear;\n",
"E_F = 1;    // For simplicity assume Fermi energy to be unity, eV\n",
"k = 1.38e-023;      // Boltzmann constant, J/mol/K\n",
"e = 1.6e-019;   // Energy equivalent of 1 eV, J/eV\n",
"dE = 0.2;        // Exces energy above Fermi level, eV\n",
"T = 0+273;        // Room temperature, K\n",
"E = E_F + dE;    // Energy of the level above Fermi level, eV\n",
"f_E = 1/(exp((E-E_F)*e/(k*T))+1);    // Occupation probability of the electron at 0.1 eV above E_F\n",
"printf('\nAt 273 K:');\n",
"printf('\n=========');\n",
"printf('\nThe occupation probability of electron at %3.1f eV above Fermi energy = %4.2e', dE, f_E);\n",
"T = 100+273;    // Given temperature of 100 degree celsius, K\n",
"f_E = 1/(exp((E-E_F)*e/(k*T))+1);    // Occupation probability of the electron at 0.1 eV below E_F\n",
"printf('\n\nAt 373 K:');\n",
"printf('\n=========');\n",
"printf('\nThe occupation probability of electron at %3.1f eV above Fermi energy = %4.2e', dE, f_E);\n",
"\n",
"// Result \n",
"// At 273 K:\n",
"// =========\n",
"// The occupation probability of electron at 0.2 eV above Fermi energy = 2.05e-004\n",
"\n",
"// At 373 K:\n",
"// =========\n",
"// The occupation probability of electron at 0.2 eV above Fermi energy = 1.99e-003 "
   ]
   }
,
{
		   "cell_type": "markdown",
		   "metadata": {},
		   "source": [
			"## Example 4.23_12: Concentration_of_free_electrons_and_electrical_conductivity_in_Cu.sce"
		   ]
		  },
  {
"cell_type": "code",
	   "execution_count": null,
	   "metadata": {
	    "collapsed": true
	   },
	   "outputs": [],
"source": [
"// Scilab Code Ex4.12a: Page-142 (2006)\n",
"clc; clear;\n",
"m = 9.1e-031;   // Mass of the electron, kg\n",
"e = 1.6e-019;   // Energy equivalent of 1 eV, J/eV\n",
"r = 1.28e-010;   // Atomic radius of Cu, m\n",
"a = 4*r/sqrt(2);    // Lattice constant of Cu, m\n",
"tau = 2.7e-14;      // Relaxation time for the electron in Cu, s\n",
"V = a^3;    // Volume of the cell, metre cube\n",
"n = 4/V;    // Concentration of free electrons in monovalent copper, \n",
"sigma = n*e^2*tau/m;    // Electrical conductivity of monovalent copper, mho per m\n",
"printf('\nThe electrical conductivity of monovalent copper = %5.3e mho per cm', sigma/100);\n",
"\n",
"// Result \n",
"// The electrical conductivity of monovalent copper = 6.403e+005 mho per cm "
   ]
   }
,
{
		   "cell_type": "markdown",
		   "metadata": {},
		   "source": [
			"## Example 4.23_13: Interelectronic_energy_separation_between_bands_of_Al.sce"
		   ]
		  },
  {
"cell_type": "code",
	   "execution_count": null,
	   "metadata": {
	    "collapsed": true
	   },
	   "outputs": [],
"source": [
"// Scilab Code Ex4.13a: Page-142 (2006)\n",
"clc; clear;\n",
"n = 18.1e+022;  // Number of electrons per unit volume, per cm cube\n",
"N = n/2;    // Pauli's principle for number of energy levels, per cm cube\n",
"E_F = 11.58;     // Fermi energy of Al, eV\n",
"E = E_F/N;     // Interelectronic energy separation between bands of Al, eV\n",
"printf('\nThe interelectronic energy separation between bands of Al = %4.2e eV', E);\n",
"\n",
"// Result \n",
"// The interelectronic energy separation between bands of Al = 1.28e-022 eV "
   ]
   }
,
{
		   "cell_type": "markdown",
		   "metadata": {},
		   "source": [
			"## Example 4.23_14: Density_of_states_in_Cu_contained_in_cubic_metal.sce"
		   ]
		  },
  {
"cell_type": "code",
	   "execution_count": null,
	   "metadata": {
	    "collapsed": true
	   },
	   "outputs": [],
"source": [
"// Scilab Code Ex4.14a: Page-142 (2006)\n",
"clc; clear;\n",
"m = 9.1e-031;   // Mass of the electron, kg\n",
"h = 6.626e-034; // Planck's constant, Js\n",
"e = 1.6e-019;   // Energy equivalent of 1 eV, J/eV\n",
"h_cross = h/(2*%pi);    // Reduced Planck's constant, Js\n",
"E_F = 7;    // Fermi energy of Cu, eV\n",
"V = 1e-06;  // Volume of the cubic metal, metre cube\n",
"D_EF = V/(2*%pi^2)*(2*m/h_cross^2)^(3/2)*(E_F)^(1/2)*e^(3/2);   // Density of states in Cu contained in cubic metal, states/eV\n",
"printf('\nThe density of states in Cu contained in cubic metal = %3.1e states/eV', D_EF);\n",
"\n",
"// Result \n",
"// The density of states in Cu contained in cubic metal = 1.8e+022 states/eV "
   ]
   }
,
{
		   "cell_type": "markdown",
		   "metadata": {},
		   "source": [
			"## Example 4.23_15: Electronic_energy_level_spacing_between_successive_levels_of_Cu.sce"
		   ]
		  },
  {
"cell_type": "code",
	   "execution_count": null,
	   "metadata": {
	    "collapsed": true
	   },
	   "outputs": [],
"source": [
"// Scilab Code Ex4.15a: Page-143 (2006)\n",
"clc; clear;\n",
"m = 9.1e-031;   // Mass of the electron, kg\n",
"h = 6.626e-034; // Planck's constant, Js\n",
"e = 1.6e-019;   // Energy equivalent of 1 eV, J/eV\n",
"h_cross = h/(2*%pi);    // Reduced Planck's constant, Js\n",
"E_F = 7;    // Fermi energy of Cu, eV\n",
"V = 1e-06;  // Volume of the cubic metal, metre cube\n",
"D_EF = V/(2*%pi^2)*(2*m/h_cross^2)^(3/2)*(E_F)^(1/2)*e^(3/2);   // Density of states in Cu contained in cubic metal, states/eV\n",
"d = 1/(D_EF);     // Electronic energy level spacing between successive levels of Cu, eV\n",
"printf('\nThe electronic energy level spacing between successive levels of Cu = %4.2e eV', d);\n",
"\n",
"// Result \n",
"// The electronic energy level spacing between successive levels of Cu = 5.57e-023 eV "
   ]
   }
,
{
		   "cell_type": "markdown",
		   "metadata": {},
		   "source": [
			"## Example 4.23_16: Energy_band_gaps_of_the_solids.sce"
		   ]
		  },
  {
"cell_type": "code",
	   "execution_count": null,
	   "metadata": {
	    "collapsed": true
	   },
	   "outputs": [],
"source": [
"// Scilab Code Ex4.16a: Page-143 (2006)\n",
"clc; clear;\n",
"A = cell(4,2);  // Declare a 3X2 cell\n",
"A(1,1).entries = 'Li';      // \n",
"A(1,2).entries = -0.4039;   // Energy of outermost atomic orbital of Li, Rydberg unit\n",
"A(2,1).entries = 'Na';      // \n",
"A(2,2).entries = -0.3777;   // Energy of outermost atomic orbital of Na, Rydberg unit\n",
"A(3,1).entries = 'F';      // \n",
"A(3,2).entries = -1.2502;   // Energy of outermost atomic orbital of F, Rydberg unit\n",
"A(4,1).entries = 'Cl';      // \n",
"A(4,2).entries = -0.9067;   // Energy of outermost atomic orbital of Cl, Rydberg unit\n",
"cf = 13.6;  // Conversion factor for Rydberg to eV\n",
"printf('\n________________________________________');\n",
"printf('\nAtom                          Energy gap');\n",
"printf('\n%s%s                          %5.2f eV', A(2,1).entries, A(4,1).entries, (A(2,2).entries-A(4,2).entries)*cf);\n",
"printf('\n%s%s                            %5.2f eV', A(2,1).entries, A(3,1).entries, (A(2,2).entries-A(3,2).entries)*cf);\n",
"printf('\n%s%s                            %5.2f eV', A(1,1).entries, A(3,1).entries, (A(1,2).entries-A(3,2).entries)*cf);\n",
"printf('\n________________________________________');\n",
"\n",
"// Result \n",
"// ________________________________________\n",
"// Atom                          Energy gap\n",
"// NaCl                           7.19 eV\n",
"// NaF                            11.87 eV\n",
"// LiF                            11.51 eV\n",
"// ________________________________________ "
   ]
   }
,
{
		   "cell_type": "markdown",
		   "metadata": {},
		   "source": [
			"## Example 4.23_18: Solid_radius_and_Fermi_level_quantities_for_Cu_and_Nb.sce"
		   ]
		  },
  {
"cell_type": "code",
	   "execution_count": null,
	   "metadata": {
	    "collapsed": true
	   },
	   "outputs": [],
"source": [
"// Scilab Code Ex4.18a: Page-144 (2006)\n",
"clc; clear;\n",
"// For Cu\n",
"rs_a0_ratio = 2.67;     // Ratio of solid radius to the lattice parameter\n",
"E_F = 50.1*(rs_a0_ratio)^(-2);  // Fermi level energy of Cu, eV\n",
"T_F = 58.2e+04*(rs_a0_ratio)^(-2);  // Fermi level temperature of Cu, K\n",
"V_F = 4.20e+08*(rs_a0_ratio)^(-1);  // Fermi level velocity of electron in Cu, cm/sec\n",
"K_F = 3.63e+08*(rs_a0_ratio)^(-1);   \n",
"printf('\nFor Cu :');\n",
"printf('\n========');\n",
"printf('\nE_F = %6.4f eV', E_F);\n",
"printf('\nT_F = %5.3e K', T_F);\n",
"printf('\nV_F = %7.5e cm/sec', V_F);\n",
"printf('\nK_F = %6.4e per cm', K_F);\n",
"rs_a0_ratio = 3.07;     // Ratio of solid radius to the lattice parameter\n",
"E_F = 50.1*(rs_a0_ratio)^(-2);  // Fermi level energy of Nb, eV\n",
"T_F = 58.2e+04*(rs_a0_ratio)^(-2);  // Fermi level temperature of Nb, K\n",
"V_F = 4.20e+08*(rs_a0_ratio)^(-1);  // Fermi level velocity of electron in Nb, cm/sec\n",
"K_F = 3.63e+08*(rs_a0_ratio)^(-1);   \n",
"printf('\n\nFor Nb:');\n",
"printf('\n========');\n",
"printf('\nE_F = %6.4f eV', E_F);\n",
"printf('\nT_F = %5.3e K', T_F);\n",
"printf('\nV_F = %6.4e cm/sec', V_F);\n",
"printf('\nK_F = %6.4e per cm', K_F);\n",
"\n",
"// Result\n",
"// For Cu :\n",
"// ========\n",
"// E_F = 7.0277 eV\n",
"// T_F = 8.164e+004 K\n",
"// V_F = 1.57303e+008 cm/sec\n",
"// K_F = 1.3596e+008 per cm\n",
"//\n",
"// For Nb:\n",
"// ========\n",
"// E_F = 5.3157 eV\n",
"// T_F = 6.175e+004 K\n",
"// V_F = 1.3681e+008 cm/sec\n",
"// K_F = 1.1824e+008 per cm "
   ]
   }
,
{
		   "cell_type": "markdown",
		   "metadata": {},
		   "source": [
			"## Example 4.23_1: Occupation_probability_of_an_electron_at_a_given_temperature.sce"
		   ]
		  },
  {
"cell_type": "code",
	   "execution_count": null,
	   "metadata": {
	    "collapsed": true
	   },
	   "outputs": [],
"source": [
"// Scilab Code Ex4.1a: Page-137 (2006)\n",
"clc; clear;\n",
"E_F = 1;    // For simplicity assume Fermi energy to be unity, eV\n",
"k = 1.38e-023;      // Boltzmann constant, J/mol/K\n",
"e = 1.6e-019;   // Energy equivalent of 1 eV, J/eV\n",
"dE = 0.1;        // Exces energy above Fermi level, eV\n",
"T = 300;        // Room temperature, K\n",
"E = E_F + dE;    // Energy of the level above Fermi level, eV\n",
"f_E = 1/(exp((E-E_F)*e/(k*T))+1);    // Occupation probability of the electron at 0.1 eV above E_F\n",
"printf('\nAt 300 K:');\n",
"printf('\n=========');\n",
"printf('\nThe occupation probability of electron at %3.1f eV above Fermi energy = %7.5f', dE, f_E);\n",
"E = E_F - dE;    // Energy of the level below Fermi level, eV\n",
"f_E = 1/(exp((E-E_F)*e/(k*T))+1);    // Occupation probability of the electron at 0.1 eV below E_F\n",
"printf('\nThe occupation probability of electron at %3.1f eV below Fermi energy = %7.5f', dE, f_E);\n",
"\n",
"T = 1000;        // New temperature, K\n",
"printf('\n\nAt 1000 K:');\n",
"printf('\n=========');\n",
"E = E_F + dE;    // Energy of the level above Fermi level, eV\n",
"f_E = 1/(exp((E-E_F)*e/(k*T))+1);    // Occupation probability of the electron at 0.1 eV above E_F\n",
"printf('\nThe occupation probability of electron at %3.1f eV above Fermi energy = %4.2f', dE, f_E);\n",
"E = E_F - dE;    // Energy of the level below Fermi level, eV\n",
"f_E = 1/(exp((E-E_F)*e/(k*T))+1);    // Occupation probability of the electron at 0.1 eV below E_F\n",
"printf('\nThe occupation probability of electron at %3.1f eV below Fermi energy = %4.2f', dE, f_E);\n",
"\n",
"// Result \n",
"// At 300 K:\n",
"// =========\n",
"// The occupation probability of electron at 0.1 eV above Fermi energy = 0.02054\n",
"// The occupation probability of electron at 0.1 eV below Fermi energy = 0.97946\n",
"\n",
"// At 1000 K:\n",
"// =========\n",
"// The occupation probability of electron at 0.1 eV above Fermi energy = 0.24\n",
"// The occupation probability of electron at 0.1 eV below Fermi energy = 0.76 \n",
"\n",
""
   ]
   }
,
{
		   "cell_type": "markdown",
		   "metadata": {},
		   "source": [
			"## Example 4.23_2: Variation_of_occupation_probability_with_temperature.sce"
		   ]
		  },
  {
"cell_type": "code",
	   "execution_count": null,
	   "metadata": {
	    "collapsed": true
	   },
	   "outputs": [],
"source": [
"// Scilab Code Ex4.2a: Page-138 (2006)\n",
"clc; clear;\n",
"f_E = 0.01;     // Occupation probability of electron\n",
"E_F = 1;    // For simplicity assume Fermi energy to be unity, eV\n",
"k = 1.38e-023;      // Boltzmann constant, J/mol/K\n",
"e = 1.6e-019;   // Energy equivalent of 1 eV, J/eV\n",
"dE = 0.5;        // Exces energy above Fermi level, eV\n",
"E = E_F + dE;    // Energy of the level above Fermi level, eV\n",
"// We have, f_E = 1/(exp((E-E_F)*e/(k*T))+1), solving for T\n",
"T = (E-E_F)*e/k*1/log(1/f_E-1);   // Temperature at which the electron will have energy 0.1 eV above the Fermi energy, K\n",
"printf('\nThe temperature at which the electron will have energy %3.1f eV above the Fermi energy = %4d K', dE, T);\n",
"\n",
"// Result \n",
"// The temperature at which the electron will have energy 0.5 eV above the Fermi energy = 1261 K \n",
"\n",
"\n",
""
   ]
   }
,
{
		   "cell_type": "markdown",
		   "metadata": {},
		   "source": [
			"## Example 4.23_3: Average_energy_and_speed_of_free_electron_in_metal.sce"
		   ]
		  },
  {
"cell_type": "code",
	   "execution_count": null,
	   "metadata": {
	    "collapsed": true
	   },
	   "outputs": [],
"source": [
"// Scilab Code Ex4.3a: Page-139 (2006)\n",
"clc; clear;\n",
"E_F = 10;   // Fermi energy of electron in metal, eV\n",
"e = 1.6e-019;   // Energy equivalent of 1 eV, J/eV\n",
"m = 9.1e-031;   // Mass of an electron, kg\n",
"E_av = 3/5*E_F;     // Average energy of free electron in metal at 0 K, eV\n",
"V_F = sqrt(2*E_av*e/m);   // Speed of free electron in metal at 0 K, eV\n",
"printf('\nThe average energy of free electron in metal at 0 K = %1d eV', E_av);\n",
"printf('\nThe speed of free electron in metal at 0 K = %4.2e m/s', V_F);\n",
"\n",
"// Result \n",
"// The average energy of free electron in metal at 0 K = 6 eV\n",
"// The speed of free electron in metal at 0 K = 1.45e+006 m/s \n",
"\n",
"\n",
""
   ]
   }
,
{
		   "cell_type": "markdown",
		   "metadata": {},
		   "source": [
			"## Example 4.23_4: Temperature_dependence_of_occupation_probability.sce"
		   ]
		  },
  {
"cell_type": "code",
	   "execution_count": null,
	   "metadata": {
	    "collapsed": true
	   },
	   "outputs": [],
"source": [
"// Scilab Code Ex4.4a: Page-139 (2006)\n",
"clc; clear;\n",
"f_E = 0.1;     // Occupation probability of electron\n",
"E_F = 5.5;    // Fermi energy of Cu, eV\n",
"k = 1.38e-023;      // Boltzmann constant, J/mol/K\n",
"e = 1.6e-019;   // Energy equivalent of 1 eV, J/eV\n",
"dE = 0.05*E_F;        // Exces energy above Fermi level, eV\n",
"E = E_F + dE;    // Energy of the level above Fermi level, eV\n",
"// We have, f_E = 1/(exp((E-E_F)*e/(k*T))+1), solving for T\n",
"T = (E-E_F)*e/k*1/log(1/f_E-1);   // Temperature at which the electron will have energy 0.1 eV above the Fermi energy, K\n",
"printf('\nThe temperature at which the electron will have energy %1d percent above the Fermi energy %4d K', dE/E_F*100, T);\n",
"\n",
"\n",
"// Result \n",
"// The temperature at which the electron will have energy 5 percent above the Fermi energy 1451 K (The answer given in the textbook is wrong) "
   ]
   }
,
{
		   "cell_type": "markdown",
		   "metadata": {},
		   "source": [
			"## Example 4.23_5: Fermi_velocity_of_Potassium.sce"
		   ]
		  },
  {
"cell_type": "code",
	   "execution_count": null,
	   "metadata": {
	    "collapsed": true
	   },
	   "outputs": [],
"source": [
"// Scilab Code Ex4.5a: Page-139 (2006)\n",
"clc; clear;\n",
"T_F = 24600;   // Fermi temperature of potassium, K\n",
"k = 1.38e-023;  // Boltzmann constant, J/mol/K\n",
"m = 9.1e-031;   // Mass of an electron, kg\n",
"E_F = k*T_F;    // Fermi energy of potassium, eV\n",
"v_F = sqrt(2*k*T_F/m);      // Fermi velocity of potassium, m/s\n",
"printf('\nThe Fermi velocity of potassium = %5.3e m/s', v_F);\n",
"\n",
"// Result \n",
"// The Fermi velocity of potassium = 8.638e+005 m/s "
   ]
   }
,
{
		   "cell_type": "markdown",
		   "metadata": {},
		   "source": [
			"## Example 4.23_6: Energy_level_of_Cu_for_given_occupation_probability.sce"
		   ]
		  },
  {
"cell_type": "code",
	   "execution_count": null,
	   "metadata": {
	    "collapsed": true
	   },
	   "outputs": [],
"source": [
"// Scilab Code Ex4.6a: Page-139 (2006)\n",
"clc; clear;\n",
"e = 1.6e-019;   // Energy equivalent of 1 eV, J/eV\n",
"E_F = 7.0;  // Fermi energy of Cu, eV\n",
"f_E = 0.9;  // Occupation probability of Cu\n",
"k = 1.38e-023;  // Boltzmann constant, J/mol/K\n",
"T = 1000;   // Given temperature, K\n",
"// We have, f_E = 1/(exp((E-E_F)*e/(k*T))+1), solving for E\n",
"E = k*T*log(1/f_E-1) + E_F*e;     // Energy level of Cu for 10% occupation probability at 1000 K, J\n",
"printf('\nThe energy level of Cu for 10 percent occupation probability at 1000 K = %4.2f eV', E/e);\n",
"\n",
"// Result \n",
"// The energy level of Cu for 10 percent occupation probability at 1000 K = 6.81 eV "
   ]
   }
,
{
		   "cell_type": "markdown",
		   "metadata": {},
		   "source": [
			"## Example 4.23_7: Electronic_concentration_in_cesium.sce"
		   ]
		  },
  {
"cell_type": "code",
	   "execution_count": null,
	   "metadata": {
	    "collapsed": true
	   },
	   "outputs": [],
"source": [
"// Scilab Code Ex4.7a: Page-140 (2006)\n",
"clc; clear;\n",
"m = 9.1e-031;   // Mass of an electron, kg\n",
"e = 1.6e-019;   // Electronic charge, C\n",
"h = 6.626e-034; // Planck's constant, Js\n",
"E_F = 1.55;  // Fermi energy of Cu, eV\n",
"n = %pi/3*(8*m/h^2)^(3/2)*(E_F*e)^(3/2);    // Electronic concentration in cesium, electrons/cc\n",
"printf('\nThe electronic concentration in cesium = %5.3e electrons/cc', n);\n",
"\n",
"// Result \n",
"// The electronic concentration in cesium = 8.733e+027 electrons/cc"
   ]
   }
,
{
		   "cell_type": "markdown",
		   "metadata": {},
		   "source": [
			"## Example 4.23_8: Fermi_temperature_corresponding_to_Fermi_energy.sce"
		   ]
		  },
  {
"cell_type": "code",
	   "execution_count": null,
	   "metadata": {
	    "collapsed": true
	   },
	   "outputs": [],
"source": [
"// Scilab Code Ex4.8a: Page-141 (2006)\n",
"clc; clear;\n",
"e = 1.6e-019;   // Energy equivalent of 1 eV, J/eV\n",
"E_F = 7;  // Fermi energy, eV\n",
"k = 1.38e-023;  // Boltzmann constant, J/mol/K\n",
"T_F = E_F*e/k;    // Fermi temperature, K\n",
"printf('\nThe Fermi temperature corresponding to Fermi energy = %5.3e K', T_F);\n",
"\n",
"// Result \n",
"// The Fermi temperature corresponding to Fermi energy = 8.116e+004 K "
   ]
   }
,
{
		   "cell_type": "markdown",
		   "metadata": {},
		   "source": [
			"## Example 4.23_9: Density_of_states_for_the_electron_in_a_cubical_box.sce"
		   ]
		  },
  {
"cell_type": "code",
	   "execution_count": null,
	   "metadata": {
	    "collapsed": true
	   },
	   "outputs": [],
"source": [
"// Scilab Code Ex4.9a: Page-141 (2006)\n",
"clc; clear;\n",
"m = 9.1e-031;   // Mass of the electron, kg\n",
"h = 6.626e-034; // Planck's constant, Js\n",
"e = 1.6e-019;   // Energy equivalent of 1 eV, J/eV\n",
"h_cross = h/(2*%pi);    // Reduced Planck's constant, Js\n",
"s = 0.01;   // Side of the box, m\n",
"E = 2;  // Energy range of the electron in the box, eV\n",
"V = s^3;    // Volume of the box, metre cube\n",
"I = integrate('E^(1/2)', 'E', 0, 2);    // Definite integral over E\n",
"D_E = V/(2*%pi^2)*(2*m/h_cross^2)^(3/2)*I*e^(3/2);  // Density of states for the electron in a cubical box, states\n",
"printf('\nThe density of states for the electron in a cubical box = %5.3e states', D_E);\n",
"\n",
"// Result \n",
"// The density of states for the electron in a cubical box = 1.280e+022 states "
   ]
   }
,
{
		   "cell_type": "markdown",
		   "metadata": {},
		   "source": [
			"## Example 4.2: Relaxation_time_and_mean_free_path_at_0K.sce"
		   ]
		  },
  {
"cell_type": "code",
	   "execution_count": null,
	   "metadata": {
	    "collapsed": true
	   },
	   "outputs": [],
"source": [
"// Scilab Code Ex4.2: Page-112 (2006)\n",
"clc; clear;\n",
"m = 9.1e-031;   // Mass of an electron, kg\n",
"e = 1.6e-019;   // Charge on an electron, C\n",
"n = 1e+029;   // Concentration of electron in material, per metre cube\n",
"rho = 27e-08;  // Resistivity of the material, ohm-m\n",
"tau = m/(n*e^2*rho);  // Collision time for an electron in the material, s\n",
"v_F = 1e+08;    // Velocity of free electron, cm/s\n",
"lambda = v_F*tau;   // Mean free path of electron in the material, cm\n",
"printf('\nThe collision time for an electron in monovalent Cu = %3.1e s', tau);\n",
"printf('\nThe mean free path of electron at 0K = %3.1e cm', lambda);\n",
"\n",
"// Result \n",
"// The collision time for an electron in monovalent Cu = 1.3e-015 s\n",
"// The mean free path of electron at 0K = 1.3e-007 cm \n",
""
   ]
   }
,
{
		   "cell_type": "markdown",
		   "metadata": {},
		   "source": [
			"## Example 4.3: Free_electron_density_and_electrical_conductivity_of_monovalent_Cu.sce"
		   ]
		  },
  {
"cell_type": "code",
	   "execution_count": null,
	   "metadata": {
	    "collapsed": true
	   },
	   "outputs": [],
"source": [
"// Scilab Code Ex4.3: Page-112 (2006)\n",
"clc; clear;\n",
"m = 9.1e-031;   // Mass of an electron, kg\n",
"e = 1.6e-019;   // Charge on an electron, C\n",
"r = 1.28e-010;  // Atomic radius of cupper, m\n",
"a = 4*r/sqrt(2);    // Lattice parameter of fcc structure of Cu, m\n",
"V = a^3;    // Volume of unit cell of Cu, metre cube\n",
"n = 4/V;    // Number of atoms per unit volume of Cu, per metre cube\n",
"tau = 2.7e-04;  // Relaxation time for an electron in monovalent Cu, s\n",
"sigma = n*e^2*tau/m;    // Electrical conductivity of Cu, mho per cm\n",
"printf('\nThe free electron density in monovalent Cu = %5.3e per metre cube', n);\n",
"printf('\nThe electrical conductivity of monovalent Cu = %5.3e mho per cm', sigma);\n",
"\n",
"// Result \n",
"// The free electron density in monovalent Cu = 8.429e+028 per metre cube\n",
"// The electrical conductivity of monovalent Cu = 6.403e+017 mho per cm \n",
""
   ]
   }
,
{
		   "cell_type": "markdown",
		   "metadata": {},
		   "source": [
			"## Example 4.4: Energy_difference_between_two_levels_for_the_free_electrons.sce"
		   ]
		  },
  {
"cell_type": "code",
	   "execution_count": null,
	   "metadata": {
	    "collapsed": true
	   },
	   "outputs": [],
"source": [
"// Scilab Code Ex4.4: Page-118 (2006)\n",
"clc; clear;\n",
"m = 9.1e-031;   // Mass of an electron, kg\n",
"e = 1.6e-019;   // Energy equivalent of 1 eV, J/eV\n",
"h = 6.625e-034;     // Planck's constant, Js\n",
"L = 10e-03;     // Length of side of the cube, m\n",
"// For nth level\n",
"nx = 1, ny = 1, nz = 1;     // Positive integers along three axis\n",
"En = h^2/(8*m*L^2)*(nx^2+ny^2+nz^2)/e;      // Energy of nth level for electrons, eV\n",
"// For (n+1)th level\n",
"nx = 2, ny = 1, nz = 1;     // Positive integers along three axis\n",
"En_plus_1 = h^2/(8*m*L^2)*(nx^2+ny^2+nz^2)/e;      // Energy of (n+1)th level for electrons, eV\n",
"delta_E = En_plus_1 - En;       // Energy difference between two levels for the free electrons\n",
"printf('\nThe energy difference between two levels for the free electrons = %4.2e eV', delta_E);\n",
"\n",
"// Result \n",
"// The energy difference between two levels for the free electrons = 1.13e-014 eV \n",
""
   ]
   }
,
{
		   "cell_type": "markdown",
		   "metadata": {},
		   "source": [
			"## Example 4.5: Probability_of_the_electron_in_tungsten_at_room_temperature.sce"
		   ]
		  },
  {
"cell_type": "code",
	   "execution_count": null,
	   "metadata": {
	    "collapsed": true
	   },
	   "outputs": [],
"source": [
"// Scilab Code Ex4.5: Page-119 (2006)\n",
"clc; clear;\n",
"T = 300;    // Room temperature of tungsten, K\n",
"k = 1.38e-023;  // Boltzmann constant, J/mol/K\n",
"e = 1.6e-019;   // Energy equivalent of 1 eV, J/eV\n",
"E_F = 4.5*e;    // Fermi energy of tungsten, J\n",
"E = E_F-0.1*E_F; // 10% energy below Fermi energy, J\n",
"f_T = 1/(1+exp((E-E_F)/(k*T)));     // Probability of the electron in tungsten at room temperature at an nergy 10% below the Fermi energy\n",
"printf('\nThe probability of the electron at an energy 10 percent below the Fermi energy in tungsten at 300 K = %4.2f', f_T);\n",
"E = 2*k*T+E_F; // For energy equal to 2kT + E_F\n",
"f_T = 1/(1+exp((E-E_F)/(k*T)));     // Probability of the electron in tungsten at an energy 2kT above the Fermi energy\n",
"printf('\nThe probability of the electron at an energy 2kT above the Fermi energy = %6.4f', f_T);\n",
"\n",
"// Result \n",
"// The probability of the electron at an energy 10 percent below the Fermi energy in tungsten at 300 K = 1.00\n",
"// The probability of the electron at an energy 2kT above the Fermi energy = 0.1192  \n",
""
   ]
   }
,
{
		   "cell_type": "markdown",
		   "metadata": {},
		   "source": [
			"## Example 4.6: Fermi_energy_of_a_monovalent_bcc_solid.sce"
		   ]
		  },
  {
"cell_type": "code",
	   "execution_count": null,
	   "metadata": {
	    "collapsed": true
	   },
	   "outputs": [],
"source": [
"// Scilab Code Ex4.6: Page-121 (2006)\n",
"clc; clear;\n",
"h = 6.625e-034; // Planck's constant, Js\n",
"h_cross = h/(2*%pi);    // Reduced Planck's constant, Js\n",
"m = 9.1e-031;   // Mass of an electron, kg\n",
"e = 1.6e-019;   // Energy equivalent of 1 eV, J/eV\n",
"a = 5.34e-010;      // Lattice constant of monovalent bcc lattice, m\n",
"V = a^3;    // Volume of bcc unit cell, metre cube\n",
"n = 2/V;    // Number of atoms per metre cube\n",
"E_F = h_cross^2/(2*m*e)*(3*%pi^2*n)^(2/3);    // Fermi energy of monovalent bcc solid, eV\n",
"\n",
"printf('\nThe Fermi energy of a monovalent bcc solid = %5.3f eV', E_F);\n",
"\n",
"// Result \n",
"// The Fermi energy of a monovalent bcc solid = 2.034 \n",
""
   ]
   }
,
{
		   "cell_type": "markdown",
		   "metadata": {},
		   "source": [
			"## Example 4.7: Number_of_states_at_Fermi_energy.sce"
		   ]
		  },
  {
"cell_type": "code",
	   "execution_count": null,
	   "metadata": {
	    "collapsed": true
	   },
	   "outputs": [],
"source": [
"// Scilab Code Ex4.7: Page-121 (2006)\n",
"clc; clear;\n",
"h = 6.625e-034; // Planck's constant, Js\n",
"h_cross = h/(2*%pi);    // Reduced Planck's constant, Js\n",
"m = 9.11e-031;   // Mass of an electron, kg\n",
"e = 1.6e-019;   // Energy equivalent of 1 eV, J/eV\n",
"V = 1e-05;    // Volume of cubical box, metre cube\n",
"E_F = 5*e;  // Fermi energy, J \n",
"D_EF = V/(2*%pi^2)*(2*m/h_cross^2)^(3/2)*E_F^(1/2)*e;     // Density of states at Fermi energy, states/eV\n",
"printf('\nThe density of states at Fermi energy = %4.2e states/eV', D_EF);\n",
"\n",
"// Result \n",
"// The density of states at Fermi energy = 1.52e+023 states/eV \n",
""
   ]
   }
,
{
		   "cell_type": "markdown",
		   "metadata": {},
		   "source": [
			"## Example 4.8: Energy_separation_between_adjacent_energy_levels_of_Mg_and_Ca.sce"
		   ]
		  },
  {
"cell_type": "code",
	   "execution_count": null,
	   "metadata": {
	    "collapsed": true
	   },
	   "outputs": [],
"source": [
"// Scilab Code Ex4.8: Page-121 (2006)\n",
"clc; clear;\n",
"h = 6.626e-034; // Planck's constant, Js\n",
"h_cross = h/(2*%pi);    // Reduced Planck's constant, Js\n",
"m = 9.1e-031;   // Mass of an electron, kg\n",
"e = 1.6e-019;   // Energy equivalent of 1 eV, J/eV\n",
"V = 1e-06;    // Volume of cubical box, metre cube\n",
"E_F = 7.13*e;  // Fermi energy for Mg, J \n",
"D_EF = V/(2*%pi^2)*(2*m/h_cross^2)^(3/2)*E_F^(1/2);     // Density of states at Fermi energy for Cs, states/eV\n",
"E_Mg = 1/D_EF;  // The energy separation between adjacent energy levels of Mg, J\n",
"printf('\nThe energy separation between adjacent energy levels of Mg = %5.3e eV', E_Mg/e);\n",
"E_F = 1.58*e;  // Fermi energy for Cs, J \n",
"D_EF = V/(2*%pi^2)*(2*m/h_cross^2)^(3/2)*E_F^(1/2);     // Density of states at Fermi energy for Mg, states/eV\n",
"E_Mg = 1/D_EF;  // The energy separation between adjacent energy levels of Cs, J\n",
"printf('\nThe energy separation between adjacent energy levels of Cs = %5.3e eV', E_Mg/e);\n",
"\n",
"// Result \n",
"// The energy separation between adjacent energy levels of Mg = 5.517e-023 eV\n",
"// The energy separation between adjacent energy levels of Cs = 1.172e-022 eV \n",
""
   ]
   }
,
{
		   "cell_type": "markdown",
		   "metadata": {},
		   "source": [
			"## Example 4.9: Fermi_momentum_of_sodium.sce"
		   ]
		  },
  {
"cell_type": "code",
	   "execution_count": null,
	   "metadata": {
	    "collapsed": true
	   },
	   "outputs": [],
"source": [
"// Scilab Code Ex4.9: Page-122 (2006)\n",
"clc; clear;\n",
"m = 9.1e-031;   // Mass of an electron, kg\n",
"e = 1.6e-019;   // Energy equivalent of 1 eV, J/eV\n",
"E_F = 3.2*e;    // Fermi energy of sodium, J\n",
"P_F = sqrt(E_F*2*m);    // Fermi momentum of sodium, kg-m/s\n",
"printf('\nThe Fermi momentum of sodium = %5.3e kg-m/sec', P_F);\n",
"\n",
"// Result \n",
"// The Fermi momentum of sodium = 9.653e-025 kg-m/sec \n",
""
   ]
   }
],
"metadata": {
		  "kernelspec": {
		   "display_name": "Scilab",
		   "language": "scilab",
		   "name": "scilab"
		  },
		  "language_info": {
		   "file_extension": ".sce",
		   "help_links": [
			{
			 "text": "MetaKernel Magics",
			 "url": "https://github.com/calysto/metakernel/blob/master/metakernel/magics/README.md"
			}
		   ],
		   "mimetype": "text/x-octave",
		   "name": "scilab",
		   "version": "0.7.1"
		  }
		 },
		 "nbformat": 4,
		 "nbformat_minor": 0
}
