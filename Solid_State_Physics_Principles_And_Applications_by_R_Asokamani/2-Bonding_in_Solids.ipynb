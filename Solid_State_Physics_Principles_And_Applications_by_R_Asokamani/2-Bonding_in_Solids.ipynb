{
"cells": [
 {
		   "cell_type": "markdown",
	   "metadata": {},
	   "source": [
       "# Chapter 2: Bonding in Solids"
	   ]
	},
{
		   "cell_type": "markdown",
		   "metadata": {},
		   "source": [
			"## Example 2.1: Binding_energy_of_KCl.sce"
		   ]
		  },
  {
"cell_type": "code",
	   "execution_count": null,
	   "metadata": {
	    "collapsed": true
	   },
	   "outputs": [],
"source": [
"// Scilab Code Ex2.1 : Page-62 (2006)\n",
"clc; clear;\n",
"epsilon_0 = 8.854e-012; // Absolute electrical permittivity of free space, F/m\n",
"e = 1.6e-019;   // Energy equivalent of 1 eV, eV/J\n",
"r = 3.147e-010;     // Nearest neighbour distance for KCl, m\n",
"n = 9.1;    // Repulsive exponent of KCl\n",
"A = 1.748;  // Madelung constant for lattice binding energy\n",
"E = A*e^2/(4*%pi*epsilon_0*r)*(n-1)/n/e;     // Binding energy of KCl, eV\n",
"printf('\nThe binding energy of KCl = %5.3f eV', E);\n",
"\n",
"// Result \n",
"// The binding energy of KCl = 7.110 eV  "
   ]
   }
,
{
		   "cell_type": "markdown",
		   "metadata": {},
		   "source": [
			"## Example 2.2: Lattice_energy_of_NaCl.sce"
		   ]
		  },
  {
"cell_type": "code",
	   "execution_count": null,
	   "metadata": {
	    "collapsed": true
	   },
	   "outputs": [],
"source": [
"// Scilab Code Ex2.2 : Page-62 (2006)\n",
"clc; clear;\n",
"epsilon_0 = 8.854e-012; // Absolute electrical permittivity of free space, F/m\n",
"N = 6.023e+023;     // Avogadro's number\n",
"e = 1.6e-019;   // Energy equivalent of 1 eV, eV/J\n",
"a0 = 5.63e-010;      // Lattice parameter of NaCl, m\n",
"r0 = a0/2;      // Nearest neighbour distance for NaCl, m\n",
"n = 8.4;    // Repulsive exponent of NaCl\n",
"A = 1.748;  // Madelung constant for lattice binding energy\n",
"E = A*e^2/(4*%pi*epsilon_0*r0)*(n-1)/n/e;     // Binding energy of NaCl, eV\n",
"printf('\nThe binding energy of NaCl = %5.3f kcal/mol', E*N*e/(4.186*1e+03));\n",
"\n",
"// Result \n",
"// The binding energy of NaCl = 181.101 eV "
   ]
   }
,
{
		   "cell_type": "markdown",
		   "metadata": {},
		   "source": [
			"## Example 2.3: Nearest_neighbour_distance_of_KCl.sce"
		   ]
		  },
  {
"cell_type": "code",
	   "execution_count": null,
	   "metadata": {
	    "collapsed": true
	   },
	   "outputs": [],
"source": [
"// Scilab Code Ex2.3 : Page-62 (2006)\n",
"clc; clear;\n",
"epsilon_0 = 8.854e-012; // Absolute electrical permittivity of free space, F/m\n",
"N = 6.023e+023;     // Avogadro's number\n",
"e = 1.6e-019;   // Energy equivalent of 1 eV, eV/J\n",
"E = 162.9e+03;  // Binding energy of KCl, cal/mol\n",
"n = 8.6;    // Repulsive exponent of KCl\n",
"A = 1.747;  // Madelung constant for lattice binding energy\n",
"// As lattice binding energy, E = A*e^2/(4*%pi*epsilon_0*r0)*(n-1)/n, solving for r0\n",
"r0 = A*N*e^2/(4*%pi*epsilon_0*E*4.186)*(n-1)/n;     // Nearest neighbour distance of KCl, m\n",
"printf('\nThe nearest neighbour distance of KCl = %4.2f angstorm', r0/1e-010);\n",
"\n",
"// Result \n",
"// The nearest neighbour distance of KCl = 3.14 angstorm "
   ]
   }
,
{
		   "cell_type": "markdown",
		   "metadata": {},
		   "source": [
			"## Example 2.4: Nearest_distance_of_CsCl.sce"
		   ]
		  },
  {
"cell_type": "code",
	   "execution_count": null,
	   "metadata": {
	    "collapsed": true
	   },
	   "outputs": [],
"source": [
"// Scilab Code Ex2.4 : Page-63 (2006)\n",
"clc; clear;\n",
"epsilon_0 = 8.854e-012; // Absolute electrical permittivity of free space, F/m\n",
"N = 6.023e+023;     // Avogadro's number\n",
"e = 1.6e-019;   // Energy equivalent of 1 eV, eV/J\n",
"E = 152e+03;  // Binding energy of CsCl, cal/mol\n",
"n = 10.6;    // Repulsive exponent of CsCl\n",
"A = 1.763;  // Madelung constant for lattice binding energy\n",
"// As lattice binding energy, E = A*e^2/(4*%pi*epsilon_0*r0)*(n-1)/n, solving for r0\n",
"r0 = A*N*e^2/(4*%pi*epsilon_0*E*4.186)*(n-1)/n;     // Nearest neighbour distance of CsCl, m\n",
"printf('\nThe nearest neighbour distance of CsCl = %4.2f angstrom', r0/1e-010);\n",
"\n",
"// Result \n",
"// The nearest neighbour distance of CsCl = 3.48 angstrom "
   ]
   }
,
{
		   "cell_type": "markdown",
		   "metadata": {},
		   "source": [
			"## Example 2.5: Repulsive_exponent_in_NaI.sce"
		   ]
		  },
  {
"cell_type": "code",
	   "execution_count": null,
	   "metadata": {
	    "collapsed": true
	   },
	   "outputs": [],
"source": [
"// Scilab Code Ex2.5 : Page-63 (2006)\n",
"clc; clear;\n",
"epsilon_0 = 8.854e-012; // Absolute electrical permittivity of free space, F/m\n",
"N = 6.023e+023;     // Avogadro's number\n",
"e = 1.6e-019;   // Energy equivalent of 1 eV, eV/J\n",
"r0 = 6.46e-010;     // Nearest neighbour distance of NaI\n",
"E = 157.1e+03;  // Binding energy of NaI, cal/mol\n",
"A = 1.747;  // Madelung constant for lattice binding energy\n",
"// As lattice binding energy, E = -A*e^2/(4*%pi*epsilon_0*r0)*(n-1)/n, solving for n\n",
"n = 1/(1+(4.186*E*4*%pi*epsilon_0*r0)/(N*A*e^2));   // Repulsive exponent of NaI\n",
"printf('\nThe repulsive exponent of NaI = %5.3f', n);\n",
"\n",
"// Result \n",
"// The repulsive exponent of NaI = 0.363 "
   ]
   }
,
{
		   "cell_type": "markdown",
		   "metadata": {},
		   "source": [
			"## Example 2.6: Compressibility_of_solid.sce"
		   ]
		  },
  {
"cell_type": "code",
	   "execution_count": null,
	   "metadata": {
	    "collapsed": true
	   },
	   "outputs": [],
"source": [
"// Scilab Code Ex2.6 : Page-63 (2006)\n",
"clc; clear;\n",
"e = 1.6e-019;   // Energy equivalent of 1 eV, eV/J\n",
"a0 = 2.815e-010;     // Nearest neighbour distance of solid\n",
"A = 1.747;  // Madelung constant for lattice binding energy\n",
"n = 8.6;    // The repulsive exponent of solid\n",
"c = 2;  // Structural factor for rocksalt\n",
"// As n = 1 + (9*c*a0^4)/(K0*e^2*A), solving for K0\n",
"K0 = 9*c*a0^4/((n-1)*e^2*A);        // Compressibility of solid, metre square per newton\n",
"printf('\nThe compressibility of the solid = %5.3e metre square per newton', K0);\n",
"\n",
"// Result \n",
"// The compressibility of the solid = 3.325e-001 metre square per newton (Answer Given in the textbook is wrong)"
   ]
   }
,
{
		   "cell_type": "markdown",
		   "metadata": {},
		   "source": [
			"## Example 2.7: Percentage_ionic_character_present_in_a_solid.sce"
		   ]
		  },
  {
"cell_type": "code",
	   "execution_count": null,
	   "metadata": {
	    "collapsed": true
	   },
	   "outputs": [],
"source": [
"// Scilab Code Ex2.7 : Page-69 (2006)\n",
"clc; clear;\n",
"chi_diff = 1;   // Electronegativity difference between the constituent of elements of solid\n",
"percent_ion = 100*(1-exp(-(0.25*chi_diff^2)));  // Percentage ionic character present in solid given by Pauling\n",
"printf('\nThe percentage ionic character present in solid = %2d percent ', percent_ion);\n",
"\n",
"// Result \n",
"// The percentage ionic character present in solid = 22 percent  "
   ]
   }
,
{
		   "cell_type": "markdown",
		   "metadata": {},
		   "source": [
			"## Example 2.8: Fractional_ionicity_of_compounds.sce"
		   ]
		  },
  {
"cell_type": "code",
	   "execution_count": null,
	   "metadata": {
	    "collapsed": true
	   },
	   "outputs": [],
"source": [
"// Scilab Code Ex2.8 : Page-69 (2006)\n",
"clc; clear;\n",
"A = cell(2,3);   // Declare a cell of 3X2\n",
"A(1,1).entries = 'GaAs';    // First compound name\n",
"A(1,2).entries = 4.3;       // Homopolar gap of first compound, eV\n",
"A(1,3).entries = 2.90;      // Ionic gap of first compound, eV\n",
"A(2,1).entries = 'CdTe';    // Second compound name\n",
"A(2,2).entries = 3.08;       // Homopolar gap of second compound, eV\n",
"A(2,3).entries = 4.90;      // Ionic gap of second compound, eV\n",
"printf('\nThe fractional ionicity of the compounds are given in the last column of the following table:');\n",
"printf('\nCompound      Eh      C       fi');\n",
"for i = 1:1:2\n",
"printf('\n%s          %3.1f     %4.2f    %5.3f', A(i,1).entries, A(i,2).entries, A(i,3).entries, A(i,3).entries^2/(A(i,2).entries^2+A(i,3).entries^2));  // Philips and Vanvechten model of fractional ionicity \n",
"end\n",
"\n",
"// Result \n",
"// The fractional ionicity of the compounds are given in the last column of the following table:\n",
"// Compound      Eh      C       fi\n",
"// GaAs          4.3     2.90    0.313\n",
"// sCdTe          3.1     4.90    0.717 "
   ]
   }
],
"metadata": {
		  "kernelspec": {
		   "display_name": "Scilab",
		   "language": "scilab",
		   "name": "scilab"
		  },
		  "language_info": {
		   "file_extension": ".sce",
		   "help_links": [
			{
			 "text": "MetaKernel Magics",
			 "url": "https://github.com/calysto/metakernel/blob/master/metakernel/magics/README.md"
			}
		   ],
		   "mimetype": "text/x-octave",
		   "name": "scilab",
		   "version": "0.7.1"
		  }
		 },
		 "nbformat": 4,
		 "nbformat_minor": 0
}
