{
"cells": [
 {
		   "cell_type": "markdown",
	   "metadata": {},
	   "source": [
       "# Chapter 8: Magnetism"
	   ]
	},
{
		   "cell_type": "markdown",
		   "metadata": {},
		   "source": [
			"## Example 8.10: Pauli_spin_susceptibility_for_Na.sce"
		   ]
		  },
  {
"cell_type": "code",
	   "execution_count": null,
	   "metadata": {
	    "collapsed": true
	   },
	   "outputs": [],
"source": [
"// Scilab code Ex8.10 Page:250 (2006)\n",
"clc; clear;\n",
"a0 = 5.3;    // Bohr radius, nm\n",
"rs_a0_ratio = 3.93;     // Ratio of solid radius to the lattice parameter \n",
"chi_Pauli = 2.59/rs_a0_ratio;    // Pauli's spin susceptibility, cgs units\n",
"\n",
"printf('\nThe Pauli spin susceptibility for Na in terms of free electron gas parameter = %4.2f', chi_Pauli);\n",
"\n",
"// Result \n",
"// The Pauli spin susceptibility for Na in terms of free electron gas parameter = 0.66 "
   ]
   }
,
{
		   "cell_type": "markdown",
		   "metadata": {},
		   "source": [
			"## Example 8.11: Effective_magneton_number_of_Mn_ion.sce"
		   ]
		  },
  {
"cell_type": "code",
	   "execution_count": null,
	   "metadata": {
	    "collapsed": true
	   },
	   "outputs": [],
"source": [
"// Scilab code Ex8.11 Page:264 (2006)\n",
"clc; clear;\n",
"S = 2;  // Spin quantum number\n",
"J = 0;  // Total quantum number\n",
"L = 2;  // Orbital quantum number\n",
"g = 2;  // Lande splitting factor\n",
"printf('\nThe spectroscopic term value of Mn3+ ion = %d_D_%d', 2*S+1, J);\n",
"// For J = L - S\n",
"J = L - S;\n",
"mu_N = g*sqrt(J*(J+1)); // Effective magneton number\n",
"printf('\nThe effective magneton number for J = L - S is %d', mu_N);\n",
"// For J = S, L = 0 so that\n",
"L = 0;\n",
"J = L+S;\n",
"mu_N = g*sqrt(J*(J+1)); // Effective magneton number\n",
"printf('\nThe effective magneton number for J = S is %3.1f.\nIt is in agreement with the experimental value of 5.0.', mu_N);\n",
"\n",
"// Result \n",
"// The spectroscopic term value of Mn3+ ion = 5_D_0\n",
"// The effective magneton number for J = L - S is 0\n",
"// The effective magneton number for J = S is 4.9.\n",
"// It is in agreement with the experimental value of 5.0. "
   ]
   }
,
{
		   "cell_type": "markdown",
		   "metadata": {},
		   "source": [
			"## Example 8.12: Magnetic_moment_of_3d_electrons_of_Fe_using_Hunds_rule.sce"
		   ]
		  },
  {
"cell_type": "code",
	   "execution_count": null,
	   "metadata": {
	    "collapsed": true
	   },
	   "outputs": [],
"source": [
"// Scilab code Ex8.12 Page:264 (2006)\n",
"clc; clear;\n",
"mu = 9.27e-024; // Bohr's magneton, J/T\n",
"N_up = 5;   // Number of electrons with spin up as per Hunds Rule\n",
"N_down = 1; // Number of electrons with spin down as per Hunds Rule\n",
"M = mu*(N_up-N_down);     // Net magnetic moment associated with six electrons in the 3d shell, J/T\n",
" \n",
"printf('\nThe magnetic moment of 3d electrons of Fe using Hunds rule = %d Bohr magnetons', M/mu);\n",
"\n",
"// Result \n",
"// The magnetic moment of 3d electrons of Fe using Hunds rule = 4 Bohr magnetons "
   ]
   }
,
{
		   "cell_type": "markdown",
		   "metadata": {},
		   "source": [
			"## Example 8.13: Magnetic_moment_of_compounds_using_Hunds_rule.sce"
		   ]
		  },
  {
"cell_type": "code",
	   "execution_count": null,
	   "metadata": {
	    "collapsed": true
	   },
	   "outputs": [],
"source": [
"// Scilab code Ex8.13 Page:264 (2006)\n",
"clc; clear;\n",
"C = cell(3,4);\n",
"// Enter compound names\n",
"C(1,1).entries = 'LaCrO3';\n",
"C(2,1).entries = 'LaMnO3';\n",
"C(3,1).entries = 'LaCoO3';\n",
"// Enter Magnetic moments from Hunds rule\n",
"C(1,2).entries = 3.0;\n",
"C(2,2).entries = 4.0;\n",
"C(3,2).entries = 5.0;\n",
"// Enter Magnetic moments from Band theory\n",
"C(1,3).entries = 2.82;\n",
"C(2,3).entries = 3.74;\n",
"C(3,3).entries = 4.16;\n",
"// Enter Magnetic moments from the Experiment\n",
"C(1,4).entries = 2.80;\n",
"C(2,4).entries = 3.90;\n",
"C(3,4).entries = 4.60;\n",
"printf('\n____________________________________________________');\n",
"printf('\nCompound  Magnetic moment per formula unit (in BM)  ');\n",
"printf('\n          __________________________________________');\n",
"printf('\n          Hunds Rule      Band Theory     Experiment');\n",
"printf('\n____________________________________________________');\n",
"for i = 1:1:3\n",
"    printf('\n%s      %3.2f             %4.2f           %4.2f', C(i,1).entries, C(i,2).entries, C(i,3).entries, C(i,4).entries);\n",
"end\n",
"printf('\n____________________________________________________');\n",
"\n",
"// Result \n",
"// ____________________________________________________\n",
"// Compound  Magnetic moment per formula unit (in BM)  \n",
"//           __________________________________________\n",
"//           Hunds Rule      Band Theory     Experiment\n",
"// ____________________________________________________\n",
"// LaCrO3      3.00             2.82           2.80\n",
"// LaMnO3      4.00             3.74           3.90\n",
"// LaCoO3      5.00             4.16           4.60\n",
"// ____________________________________________________ "
   ]
   }
,
{
		   "cell_type": "markdown",
		   "metadata": {},
		   "source": [
			"## Example 8.14: Magnetic_structure_of_the_solids_from_total_energy.sce"
		   ]
		  },
  {
"cell_type": "code",
	   "execution_count": null,
	   "metadata": {
	    "collapsed": true
	   },
	   "outputs": [],
"source": [
"// Scilab code Ex8.14 Page:268 (2006)\n",
"clc; clear;\n",
"C = cell(4,4);\n",
"// Enter compound names\n",
"C(1,1).entries = 'LaTiO3';\n",
"C(2,1).entries = 'LaCrO3';\n",
"C(3,1).entries = 'LaFeO3';\n",
"C(4,1).entries = 'LaCoO3';\n",
"// Enter total energy difference w.r.t. ground state for Paramagnetics, mRyd\n",
"C(1,2).entries = 0.014;\n",
"C(2,2).entries = 158.3;\n",
"C(3,2).entries = 20.69;\n",
"C(4,2).entries = 0.000;\n",
"// Enter total energy difference w.r.t. ground state for Ferromagnetics, mRyd\n",
"C(1,3).entries = 0.034;\n",
"C(2,3).entries = 13.99;\n",
"C(3,3).entries = 0.006;\n",
"C(4,3).entries = 0.010;\n",
"// Enter total energy difference w.r.t. ground state for Antiferromagnetics, mRyd\n",
"C(1,4).entries = 0.000;\n",
"C(2,4).entries = 0.000;\n",
"C(3,4).entries = 0.000;\n",
"C(4,4).entries = 0.003;\n",
"printf('\n______________________________________________________________');\n",
"printf('\nSolid     Total energy difference (mRyd) (w.r.t. ground state)');\n",
"printf('\n          ____________________________________________________');\n",
"printf('\n            Paramagnetic    Ferromagnetic   Antiferromagnetic ');\n",
"printf('\n______________________________________________________________');\n",
"for i = 1:1:4\n",
"    printf('\n%s      %10.3f      %10.3f      %10.3f', C(i,1).entries, C(i,2).entries, C(i,3).entries, C(i,4).entries);\n",
"end\n",
"printf('\n______________________________________________________________');\n",
"printf('\nAll the solids given above crystallize in the antiferromagnetic state except that of LaCoO3.');\n",
"\n",
"// Result \n",
"// ______________________________________________________________\n",
"// Solid     Total energy difference (mRyd) (w.r.t. ground state)\n",
"//           ____________________________________________________\n",
"//             Paramagnetic    Ferromagnetic   Antiferromagnetic \n",
"// ______________________________________________________________\n",
"// LaTiO3           0.014           0.034           0.000\n",
"// LaCrO3         158.300          13.990           0.000\n",
"// LaFeO3          20.690           0.006           0.000\n",
"// LaCoO3           0.000           0.010           0.003\n",
"// ______________________________________________________________ \n",
"// All the solids given above crystallize in the antiferromagnetic state except that of LaCoO3. "
   ]
   }
,
{
		   "cell_type": "markdown",
		   "metadata": {},
		   "source": [
			"## Example 8.1: Spontaneous_magnetization_of_iron.sce"
		   ]
		  },
  {
"cell_type": "code",
	   "execution_count": null,
	   "metadata": {
	    "collapsed": true
	   },
	   "outputs": [],
"source": [
"// Scilab code Ex8.1 Page:241 (2006)\n",
"clc; clear;\n",
"rho = 7.9e+03;    // Density of iron, kg per cubic meter\n",
"A = 56e-03;    // Atomic weight of iron, g/mol\n",
"N_A = 6.02e+023;    // Avogadro's number, atoms per mole\n",
"mu_B = 9.3e-024;    // Bohr magneton;    // Ampere meter square\n",
"n = rho*N_A/A;    // Total number of atoms per unit cell, per cubic meter\n",
"M = 2.2*n*mu_B;    // Spontaneous magnetization of iron, Ampere per meter\n",
"printf('\nSpontaneous magnetization of iron = %4.2e Ampere per meter', M);\n",
"\n",
"// Result \n",
"// Spontaneous magnetization of iron = 1.74e+006 Ampere per meter "
   ]
   }
,
{
		   "cell_type": "markdown",
		   "metadata": {},
		   "source": [
			"## Example 8.2: Saturation_magnetization_of_a_ferromagnetic_material.sce"
		   ]
		  },
  {
"cell_type": "code",
	   "execution_count": null,
	   "metadata": {
	    "collapsed": true
	   },
	   "outputs": [],
"source": [
"// Scilab code Ex8.2 Page:241 (2006)\n",
"clc; clear;\n",
"n = 3e+028;    // Spin density of electrons in a ferromagnetic material, per cubic meter\n",
"mu = 3e-023;    // spin magnetic moment of a ferromagnetic material, Square Ampere \n",
"M_s = n*mu;    // Saturation magnetization of a ferromagnetic material, Per Ampere\n",
"printf('\nSaturation magnetization of a ferromagnetic material = %1.0e ampere per meter', M_s);\n",
"\n",
"// Result \n",
"// Saturation magnetization of a ferromagnetic material = 9e+005 ampere per meter "
   ]
   }
,
{
		   "cell_type": "markdown",
		   "metadata": {},
		   "source": [
			"## Example 8.3: Magnetic_susceptibility_of_Lithium.sce"
		   ]
		  },
  {
"cell_type": "code",
	   "execution_count": null,
	   "metadata": {
	    "collapsed": true
	   },
	   "outputs": [],
"source": [
"// Scilab code Ex8.3 Page:241 (2006)\n",
"clc; clear;\n",
"h_bar = 6.58e-016;     // Planck's constant, eV.s\n",
"m = 0.511e+06;       // Mass of an electron, eV\n",
"e = 1.6e-012;       // Energy equivalent of 1 eV, erg/eV\n",
"c = 3.0e+010;       // Speed of light, cm/s\n",
"N = 4.7e+022;    // Free electron gas concentration of Lithium, per cubic cm\n",
"mu_B = 9.27e-021;    // Bohr magneton, Ampere cm-square\n",
"E_F = (h_bar*c)^2/(2*m)*(3*%pi^2*N)^(2/3);    // Fermi energy, eV\n",
"chi = 3*N*mu_B^2/(2*E_F*e);    // Magnetic susceptibility of Lithium, cgs units\n",
"printf('\nMagnetic susceptibility of Lithium = %2.0e cgs units', chi);\n",
"\n",
"// Result \n",
"// Magnetic susceptibility of Lithium = 8e-007 cgs units \n",
""
   ]
   }
,
{
		   "cell_type": "markdown",
		   "metadata": {},
		   "source": [
			"## Example 8.4: Diamagnetic_susceptibility_of_helium_atom_in_ground_state.sce"
		   ]
		  },
  {
"cell_type": "code",
	   "execution_count": null,
	   "metadata": {
	    "collapsed": true
	   },
	   "outputs": [],
"source": [
"// Scilab code Ex8.4 Page:241 (2006)\n",
"clc; clear;\n",
"a_B = 0.53e-08;    // Bohr radius, cm\n",
"N = 27e+023;    // Atomic density of He gas, per cubic cm\n",
"c = 3e+010;    // Speed of light, cm/sec\n",
"e = 1.6e-019;    // Charge of an electron, Coulomb\n",
"m = 9.1e-028;    // Mass of an electron, g\n",
"// As r_classic = e^2/(m*c^2), Classical radius of an electron\n",
"r_classic = 2.8e-013;   // Classical radius of the electron, cm \n",
"chi = -2*N*r_classic/6*a_B^2;    // Magnetic susceptibility of Helium, cgs units\n",
"\n",
"printf('\nDiamagnetic susceptibility of helium atom in ground state = %3.1e emu', chi);\n",
"\n",
"// Result \n",
"// Diamagnetic susceptibility of helium atom in ground state = -7.1e-006 emu "
   ]
   }
,
{
		   "cell_type": "markdown",
		   "metadata": {},
		   "source": [
			"## Example 8.5: Atomic_radii_of_helium_and_copper_from_atomic_susceptibilities.sce"
		   ]
		  },
  {
"cell_type": "code",
	   "execution_count": null,
	   "metadata": {
	    "collapsed": true
	   },
	   "outputs": [],
"source": [
"// Scilab code Ex8.5 Page:242 (2006)\n",
"clc; clear;\n",
"chiA_He = 1.9e-06;    // Atomic susceptibility of helium, cm cube per mole\n",
"chiA_Cu = 18e-06;    // Atomic susceptibility of Copper, cm cube per mole\n",
"Q_sp = 1.77e+07;    // Specific charge of an electron, emu\n",
"Ne = 9650;    // Charge of a gram ion, emu\n",
"Z_He = 2;    // Atomic number of helium atom\n",
"Z_Cu = 29;    // Atomic number of copper atom\n",
"R_He = sqrt(abs(-6*chiA_He/(Ne*Z_He*Q_sp)));    // Magnetic susceptibility of helium atom, cgs units\n",
"R_Cu = sqrt(abs(-6*chiA_Cu/(Ne*Z_Cu*Q_sp)));    // Magnetic susceptibility of copper atom, cgs units\n",
"printf('\nAtomic radius of helium = %4.2e cm', R_He);\n",
"printf('\nAtomic radius of copper = %4.2e cm', R_Cu);\n",
"\n",
"// Result \n",
"// Atomic radius of helium = 5.78e-009 cm\n",
"// Atomic radius of copper = 4.67e-009 cm  "
   ]
   }
,
{
		   "cell_type": "markdown",
		   "metadata": {},
		   "source": [
			"## Example 8.6: Atomic_susceptibility_of_Ne_atom.sce"
		   ]
		  },
  {
"cell_type": "code",
	   "execution_count": null,
	   "metadata": {
	    "collapsed": true
	   },
	   "outputs": [],
"source": [
"// Scilab code Ex8.6 Page:242 (2006)\n",
"clc; clear;\n",
"N = 6.039e+022;    // Atomic density of Neon gas, per cubic cm \n",
"// As r_classic = e^2/(m*c^2), Classical radius of an electron\n",
"r_classic = 2.8e-013;   // Classical radius of the electron, cm\n",
"Z = 10;    // Atomic number of helium atom\n",
"a0 = 0.53e-08;      // Bohr's radius, cm\n",
"n1 = 2, n2 = 2, n3 = 6;     // Occupation numbers for 1s, 2s and 2p states of Ne\n",
"r_sq_1s = 0.031;    // Expectation value for 1s state\n",
"r_sq_2s = 0.905;    // Expectation value for 2s state\n",
"r_sq_2p = 1.126;    // Expectation value for 2p state \n",
"mean_r_sq = n1*r_sq_1s + n2*r_sq_2s + n3*r_sq_2p;   // Mean square radius, cm-square\n",
"Chi_A = -1/6*N*Z*r_classic*mean_r_sq*a0^2;    // Magnetic susceptibility of helium atom, cgs units\n",
"printf('\nAtomic susceptibility of Ne atom = %6.4e emu/mole', Chi_A);\n",
"\n",
"// Result \n",
"// Atomic susceptibility of Ne atom = -6.8302e-006 emu/mole "
   ]
   }
,
{
		   "cell_type": "markdown",
		   "metadata": {},
		   "source": [
			"## Example 8.7: Langevin_approximation_for_paramagnetism.sce"
		   ]
		  },
  {
"cell_type": "code",
	   "execution_count": null,
	   "metadata": {
	    "collapsed": true
	   },
	   "outputs": [],
"source": [
"// Scilab code Ex8.7: Page:249 (2006)\n",
"clc; clear;\n",
"e = 1.6e-019;   // Energy equivalent of 1 eV, J/eV\n",
"h = 6.626e-034; // Planck's constant, Js\n",
"h_cross = h/(2*%pi);    // Reduced Planck's constant, Js\n",
"m = 9.1e-031;   // Mass of an electron, kg\n",
"mu = e*h_cross/(2*m);    // Bohr magneton, J/T\n",
"mu_H = mu/e;    // Magnetic energy, eV\n",
"kT = 0.025;    // Energy associated with two degrees of freedom, eV\n",
"E_ratio = mu_H/kT;  // Exceptional terms in Langevin's function\n",
"printf('\nThe magnitude of mu*H/(k*T) = %3.1e', E_ratio);\n",
"\n",
"// Result \n",
"// The magnitude of mu*H/(k*T) = 2.3e-003 "
   ]
   }
,
{
		   "cell_type": "markdown",
		   "metadata": {},
		   "source": [
			"## Example 8.8: Paramagnetic_susceptibility_of_Mg.sce"
		   ]
		  },
  {
"cell_type": "code",
	   "execution_count": null,
	   "metadata": {
	    "collapsed": true
	   },
	   "outputs": [],
"source": [
"// Scilab code Ex8.8 Page:249 (2006)\n",
"clc; clear;\n",
"mu = 5.78e-005;    // Bohr magneton, eV/T\n",
"NE_F = 0.826;    // Density of states at fermi level, electrons/atom-J\n",
"chi_Pauli = mu^2*NE_F/1e-004;    // Pauli diamagnetism, cgs units\n",
"chi_Core = -4.2e-06;    // Core diamagnetism, cgs units\n",
"chi_Landau = -1/3*chi_Pauli;    // Landau diamagnetism, cgs units\n",
"chi_Total = chi_Core+ chi_Pauli+chi_Landau;    // Paramagnetic susceptibility of Mg, cgs units\n",
"\n",
"printf('\nThe paramagnetic susceptibility of Mg  = %5.2e cgs units',chi_Total);\n",
"\n",
"// Result \n",
"// The paramagnetic susceptibility of Mg  = 1.42e-05 cgs units "
   ]
   }
,
{
		   "cell_type": "markdown",
		   "metadata": {},
		   "source": [
			"## Example 8.9: Pauli_spin_susceptibility_and_diamagnetic_contribution_in_Aluminium.sce"
		   ]
		  },
  {
"cell_type": "code",
	   "execution_count": null,
	   "metadata": {
	    "collapsed": true
	   },
	   "outputs": [],
"source": [
"// Scilab code Ex8.9 Page:250 (2006)\n",
"clc; clear;\n",
"e = 1.6e-019;   // Energy equivalent of 1 eV, J/eV\n",
"mu = 9.29e-024;    // Bohr magneton, J/T\n",
"mu_0 = 1.26e-006;    // Permeability of free space, Sq. tesla cubic meter per joule\n",
"E_F= 11.63*e;    // Fermi energy, J\n",
"N = 6.02e+028;    // Atomic concentration, atoms per cubic meter \n",
"chi_Total = 2.2e-005;   // Paramagnetic susceptibility of Mg, S.I. units\n",
"chi_Pauli = 3*N*mu^2*mu_0/(2*E_F);    // Pauli diamagnetism, S.I. units\n",
"chi_dia = chi_Total - chi_Pauli;    // Diamagnetic contribution to magnetic susceptibility\n",
"\n",
"printf('\nThe Pauli spin susceptibility of Al = %5.3e S.I. units', chi_Pauli);\n",
"printf('\nThe diamagnetic contribution to magnetic susceptibility of Al = %5.3e S.I. units', chi_dia);\n",
"\n",
"// Result \n",
"// The Pauli spin susceptibility of Al = 5.277e-06 S.I. units\n",
"// The diamagnetic contribution to magnetic susceptibility of Al = 1.672e-05 S.I. units "
   ]
   }
],
"metadata": {
		  "kernelspec": {
		   "display_name": "Scilab",
		   "language": "scilab",
		   "name": "scilab"
		  },
		  "language_info": {
		   "file_extension": ".sce",
		   "help_links": [
			{
			 "text": "MetaKernel Magics",
			 "url": "https://github.com/calysto/metakernel/blob/master/metakernel/magics/README.md"
			}
		   ],
		   "mimetype": "text/x-octave",
		   "name": "scilab",
		   "version": "0.7.1"
		  }
		 },
		 "nbformat": 4,
		 "nbformat_minor": 0
}
