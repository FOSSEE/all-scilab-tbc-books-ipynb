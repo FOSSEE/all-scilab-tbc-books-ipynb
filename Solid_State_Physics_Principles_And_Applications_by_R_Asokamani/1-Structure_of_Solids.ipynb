{
"cells": [
 {
		   "cell_type": "markdown",
	   "metadata": {},
	   "source": [
       "# Chapter 1: Structure of Solids"
	   ]
	},
{
		   "cell_type": "markdown",
		   "metadata": {},
		   "source": [
			"## Example 1.10: Crystal_structures_of_some_ionic_compounds.sce"
		   ]
		  },
  {
"cell_type": "code",
	   "execution_count": null,
	   "metadata": {
	    "collapsed": true
	   },
	   "outputs": [],
"source": [
"// Scilab Code Ex 1.10 : Page-24 (2006)\n",
"clc; clear;\n",
"function str = structure(r_ratio)\n",
"    if r_ratio > 0.732 then\n",
"        str = 'Caesium Chloride';\n",
"    else if  r_ratio < 0.732 & r_ratio > 0.414 then\n",
"            str = 'Rock Salt';\n",
"        else if  r_ratio < 0.414 then\n",
"                str = 'Rutile'\n",
"             end\n",
"        end\n",
"    end\n",
"endfunction\n",
"\n",
"crystal = cell(6,2);    // Declare cells of 6 rows and 2 columns\n",
"crystal(1,1).entries = 'I';\n",
"crystal(1,2).entries = 2.19;        // Ionic radius of I, angstrom\n",
"crystal(2,1).entries = 'Cl';\n",
"crystal(2,2).entries = 1.81;        // Ionic radius of Cl, angstrom\n",
"crystal(3,1).entries = 'Na';\n",
"crystal(3,2).entries = 0.95;        // Ionic radius of Na, angstrom\n",
"crystal(4,1).entries = 'Cs';\n",
"crystal(4,2).entries = 1.69;        // Ionic radius of Cs, angstrom\n",
"crystal(5,1).entries = 'Mg';\n",
"crystal(5,2).entries = 0.99;        // Ionic radius of Mg2+, angstrom\n",
"crystal(6,1).entries = 'O';\n",
"crystal(6,2).entries = 1.40;        // Ionic radius of O2-, angstrom\n",
"\n",
"printf('\nThe crystal structure of %s%s with radius ratio = %6.4f is %s', crystal(3,1).entries, crystal(1,1).entries, crystal(3,2).entries/crystal(1,2).entries, structure(crystal(3,2).entries/crystal(1,2).entries));\n",
"\n",
"printf('\nThe crystal structure of %s%s with radius ratio = %6.4f is %s', crystal(3,1).entries, crystal(2,1).entries, crystal(3,2).entries/crystal(2,2).entries, structure(crystal(3,2).entries/crystal(2,2).entries));\n",
"\n",
"printf('\nThe crystal structure of %s%s with radius ratio = %6.4f is %s', crystal(4,1).entries, crystal(2,1).entries, crystal(4,2).entries/crystal(2,2).entries, structure(crystal(4,2).entries/crystal(2,2).entries));\n",
"\n",
"printf('\nThe crystal structure of %s%s with radius ratio = %6.4f is %s', crystal(4,1).entries, crystal(1,1).entries, crystal(4,2).entries/crystal(1,2).entries, structure(crystal(4,2).entries/crystal(1,2).entries));\n",
"\n",
"printf('\nThe crystal structure of %s%s with radius ratio = %6.4f is %s', crystal(5,1).entries, crystal(6,1).entries, crystal(5,2).entries/crystal(6,2).entries, structure(crystal(5,2).entries/crystal(2,2).entries));\n",
"\n",
"// Result \n",
"//The crystal structure of NaI with radius ratio = 0.4338 is Rock Salt\n",
"//The crystal structure of NaCl with radius ratio = 0.5249 is Rock Salt\n",
"//The crystal structure of CsCl with radius ratio = 0.9337 is Caesium Chloride\n",
"//The crystal structure of CsI with radius ratio = 0.7717 is Caesium Chloride\n",
"//The crystal structure of MgO with radius ratio = 0.7071 is Rock Salt  \n",
""
   ]
   }
,
{
		   "cell_type": "markdown",
		   "metadata": {},
		   "source": [
			"## Example 1.11: Maximum_radius_of_the_sphere_to_fit_into_void_between_two_bcc_unit_cells.sce"
		   ]
		  },
  {
"cell_type": "code",
	   "execution_count": null,
	   "metadata": {
	    "collapsed": true
	   },
	   "outputs": [],
"source": [
"// Scilab Code Ex 1.11 :Page-25 (2006)\n",
"clc; clear;\n",
"R = 1;  // For simplicity we assume radius of atom to be unity, m\n",
"// For bcc Structure,\n",
"a = 4*R/sqrt(3);    // Lattice parameter of bcc crystal, m\n",
"// We have R+r = a/2, solving for r\n",
"r = a/2-R   // Relation between radius of the void and radius of the atom, m \n",
"printf('\nThe maxiumum radius of the sphere that can fit into void between two bcc unit cells = %5.3fR', r); \n",
"\n",
"// Result \n",
"// The maxiumum radius of the sphere that can fit into void between two bcc unit cells = 0.155R \n",
"\n",
"\n",
"\n",
"\n",
""
   ]
   }
,
{
		   "cell_type": "markdown",
		   "metadata": {},
		   "source": [
			"## Example 1.12: Maximum_radius_of_the_sphere_to_fit_into_void_between_two_fcc_unit_cells.sce"
		   ]
		  },
  {
"cell_type": "code",
	   "execution_count": null,
	   "metadata": {
	    "collapsed": true
	   },
	   "outputs": [],
"source": [
"// Scilab Code Ex 1.12 :Page-25 (2006)\n",
"clc; clear;\n",
"R = 1;  // For simplicity we assume radius of atom to be unity, m\n",
"// For fcc Structure,\n",
"a = 4*R/sqrt(2);    // Lattice parameter of fcc crystal, m\n",
"// We have R+r = a/2, solving for r\n",
"r = a/2-R   // Relation between radius of the void and radius of the atom, m \n",
"printf('\nThe maxiumum radius of the sphere that can fit into void between two fcc unit cells = %5.3fR', r); \n",
"\n",
"// Result \n",
"// The maxiumum radius of the sphere that can fit into void between two fcc unit cells = 0.414R \n",
"\n",
"\n",
"\n",
"\n",
""
   ]
   }
,
{
		   "cell_type": "markdown",
		   "metadata": {},
		   "source": [
			"## Example 1.13: Radius_of_largest_void_in_the_bcc_lattice.sce"
		   ]
		  },
  {
"cell_type": "code",
	   "execution_count": null,
	   "metadata": {
	    "collapsed": true
	   },
	   "outputs": [],
"source": [
"// Scilab Code Ex 1.13 :Page-26 (2006)\n",
"clc; clear;\n",
"R = 1;  // For simplicity we assume radius of atom to be unity, m\n",
"// For bcc Structure,\n",
"a = 4*R/sqrt(3);    // Lattice parameter of bcc crystal, m\n",
"// We have (R+r)^2 = (a/2)^2+(a/4)^2, solving for r\n",
"r = sqrt(5)*a/4-R   // Relation between radius of the void and radius of the atom, m \n",
"printf('\nThe radius of largest void in the bcc lattice = %4.2fR', r); \n",
"\n",
"// For fcc Structure,\n",
"a = 4*R/sqrt(2);    // Lattice parameter of fcc crystal, m\n",
"// We have (R+r)^2 = (a/2)^2+(a/4)^2, solving for r\n",
"r_fcc = a/2-R   // Relation between radius of the void and radius of the atom, m \n",
"printf('\nThe radius of largest void in the fcc lattice is %4.2f times larger than that in the bcc lattice', r_fcc/r); \n",
"\n",
"// Result \n",
"// The radius of largest void in the bcc lattice = 0.29R\n",
"// The radius of largest void in the fcc lattice is 1.42 times larger than that in the bcc lattice \n",
"\n",
"\n",
"\n",
"\n",
""
   ]
   }
,
{
		   "cell_type": "markdown",
		   "metadata": {},
		   "source": [
			"## Example 1.14: Radius_of_void_for_carbon_atoms_in_iron.sce"
		   ]
		  },
  {
"cell_type": "code",
	   "execution_count": null,
	   "metadata": {
	    "collapsed": true
	   },
	   "outputs": [],
"source": [
"// Scilab Code Ex 1.14 :Page-26 (2006)\n",
"clc; clear;\n",
"R = 1;  // For simplicity we assume radius of atom to be unity, m\n",
"\n",
"// For bcc Structure,\n",
"a = 4*R/sqrt(3);    // Lattice parameter of bcc crystal, m\n",
"// We have (R+r)^2 = (a/2)^2+(a/4)^2, solving for r\n",
"r = a/2-R   // Relation between radius of the void and radius of the atom, m \n",
"printf('\nThe radius of void for carbon atoms in iron = %5.3fR', r); \n",
"\n",
"// Result \n",
"//The radius of void for carbon atoms in iron = 0.155R \n",
"\n",
"\n",
"\n",
"\n",
""
   ]
   }
,
{
		   "cell_type": "markdown",
		   "metadata": {},
		   "source": [
			"## Example 1.15: Radius_of_triangular_void.sce"
		   ]
		  },
  {
"cell_type": "code",
	   "execution_count": null,
	   "metadata": {
	    "collapsed": true
	   },
	   "outputs": [],
"source": [
"// Scilab Code Ex 1.15 :Page-27 (2006)\n",
"clc; clear;\n",
"R = 1;  // For simplicity we assume radius of atom to be unity, m\n",
"// From the right triangle LMO, LM/LO = R/(R + r) = cosd(30), solving for r\n",
"r = poly(0, 'r');\n",
"r = roots(R/cosd(30)-R-r);\n",
"printf('\nThe radius of triangular void = %5.3fR', r); \n",
"\n",
"// Result \n",
"// The radius of triangular void = 0.155R \n",
"\n",
"\n",
"\n",
"\n",
""
   ]
   }
,
{
		   "cell_type": "markdown",
		   "metadata": {},
		   "source": [
			"## Example 1.16: Radius_ratio_of_tetrahedral_void.sce"
		   ]
		  },
  {
"cell_type": "code",
	   "execution_count": null,
	   "metadata": {
	    "collapsed": true
	   },
	   "outputs": [],
"source": [
"// Scilab Code Ex 1.16 :Page-27 (2006)\n",
"clc; clear;\n",
"R = 1;  // For simplicity we assume radius of atom to be unity, m\n",
"// From the right triangle LMN similar to trinagle LPO, LM/LO = R/(R + r) = LP/LO = sqrt(2/3), solving for r\n",
"r = poly(0, 'r');\n",
"r = roots(R/sqrt(2/3)-R-r);\n",
"printf('\nThe radius ratio of tetragonal void = %5.3f', r/R); \n",
"\n",
"// Result \n",
"// The radius ratio of tetragonal void = 0.225 \n",
"\n",
"\n",
"\n",
"\n",
""
   ]
   }
,
{
		   "cell_type": "markdown",
		   "metadata": {},
		   "source": [
			"## Example 1.17: Radius_ratio_of_octahedral_void.sce"
		   ]
		  },
  {
"cell_type": "code",
	   "execution_count": null,
	   "metadata": {
	    "collapsed": true
	   },
	   "outputs": [],
"source": [
"// Scilab Code Ex 1.17 :Page-28 (2006)\n",
"clc; clear;\n",
"R = 1;  // For simplicity we assume radius of atom to be unity, m\n",
"// From the isosceles right triangle LMN, LM/LO = (R + r)/R = sqrt(2)/1, solving for r\n",
"r = poly(0, 'r');\n",
"r = roots(R*sqrt(2)-R-r);\n",
"printf('\nThe radius ratio of octahedral void = %5.3f', r/R); \n",
"\n",
"// Result \n",
"// The radius ratio of octahedral void = 0.414 \n",
"\n",
"\n",
"\n",
"\n",
""
   ]
   }
,
{
		   "cell_type": "markdown",
		   "metadata": {},
		   "source": [
			"## Example 1.18: Miller_indices_of_the_crystal_plane.sce"
		   ]
		  },
  {
"cell_type": "code",
	   "execution_count": null,
	   "metadata": {
	    "collapsed": true
	   },
	   "outputs": [],
"source": [
"// Scilab Code Ex 1.18 Page-32 (2006)\n",
"clc; clear;\n",
"p = 3; q = -3; r = 3/2; // Coefficients of intercepts along three axes\n",
"h = 1/p;        // Reciprocate the first coefficient\n",
"k = 1/q;        // Reciprocate the second coefficient\n",
"l = 1/r;        // Reciprocate the third coefficient\n",
"mul_fact = double(lcm(int32([p,q,r]))); // Find l.c.m. of m,n and p\n",
"h = h*mul_fact;    // Clear the first fraction\n",
"k = k*mul_fact;    // Clear the second fraction\n",
"l = l*mul_fact;    // Clear the third fraction\n",
"printf('\nThe required miller indices are : (%d %d %d) ', h,k,l);\n",
"\n",
"// Result \n",
"// The required miller indices are : (1 -1 2)  "
   ]
   }
,
{
		   "cell_type": "markdown",
		   "metadata": {},
		   "source": [
			"## Example 1.19: Miller_indices_of_planes_cutting_axes_of_an_orthorhombic_crystal.sce"
		   ]
		  },
  {
"cell_type": "code",
	   "execution_count": null,
	   "metadata": {
	    "collapsed": true
	   },
	   "outputs": [],
"source": [
"// Scilab Code Ex 1.19 Page-32 (2006)\n",
"clc; clear;\n",
"p = 2; q = 3; r = 4; // Coefficients of intercepts along three axes\n",
"h = 1/p;        // Reciprocate the first coefficient\n",
"k = 1/q;        // Reciprocate the second coefficient\n",
"l = 1/r;        // Reciprocate the third coefficient\n",
"mul_fact = double(lcm(int32([p,q,r]))); // Find l.c.m. of m,n and p\n",
"h = h*mul_fact;    // Clear the first fraction\n",
"k = k*mul_fact;    // Clear the second fraction\n",
"l = l*mul_fact;    // Clear the third fraction\n",
"printf('\nThe required miller indices are : (%d %d %d) ', h,k,l);\n",
"\n",
"// Result \n",
"// The required miller indices are : (6 4 3) "
   ]
   }
,
{
		   "cell_type": "markdown",
		   "metadata": {},
		   "source": [
			"## Example 1.1: Lattice_parameter_and_atomic_radius_of_fcc_structure.sce"
		   ]
		  },
  {
"cell_type": "code",
	   "execution_count": null,
	   "metadata": {
	    "collapsed": true
	   },
	   "outputs": [],
"source": [
"// Scilab Code Ex1.1  Page-13 (2006)\n",
"clc; clear;\n",
"r = 1.278e-010;     // Atomic radius of fcc structure, m\n",
"a = 4*r/sqrt(2);    // Lattice parameter of fcc strucure, m\n",
"V = a^3;    // Volume of fcc unit cell, metre, cube\n",
"printf('\nThe lattice parameter of fcc strucure = %4.2e m', a);\n",
"printf('\nThe volume of fcc unit cell = %5.2e metre, cube', V);\n",
"\n",
"// Result \n",
"// The lattice parameter of fcc strucure = 3.61e-010 m\n",
"// The volume of fcc unit cell = 4.72e-029 metre cube "
   ]
   }
,
{
		   "cell_type": "markdown",
		   "metadata": {},
		   "source": [
			"## Example 1.20: Miller_indices_of_set_of_parallel_planes.sce"
		   ]
		  },
  {
"cell_type": "code",
	   "execution_count": null,
	   "metadata": {
	    "collapsed": true
	   },
	   "outputs": [],
"source": [
"// Scilab Code Ex 1.20 Page-32 (2006)\n",
"clc; clear;\n",
"p = 4; q = 4; r = %inf; // Coefficients of intercepts along three axes\n",
"h = 1/p;        // Reciprocate the first coefficient\n",
"k = 1/q;        // Reciprocate the second coefficient\n",
"l = 1/r;        // Reciprocate the third coefficient\n",
"mul_fact = double(lcm(int32([p,q]))); // Find l.c.m. of m,n and p\n",
"h = h*mul_fact;    // Clear the first fraction\n",
"k = k*mul_fact;    // Clear the second fraction\n",
"l = l*mul_fact;    // Clear the third fraction\n",
"printf('\nThe required miller indices are : (%d %d %d) ', h,k,l);\n",
"\n",
"// Result \n",
"// The required miller indices are : (1 1 0)  "
   ]
   }
,
{
		   "cell_type": "markdown",
		   "metadata": {},
		   "source": [
			"## Example 1.21: Miller_indices_of_planes_with_given_intercepts.sce"
		   ]
		  },
  {
"cell_type": "code",
	   "execution_count": null,
	   "metadata": {
	    "collapsed": true
	   },
	   "outputs": [],
"source": [
"// Scilab Code Ex 1.21 Page-32 (2006)\n",
"clc; clear;\n",
"a = 0.424; b = 2; c = 0.367;    // Intercepts on planes along three axes, m\n",
"// Here pa = 0.424; qb = 2; rc = 0.183, solving for p, q and r, we have\n",
"p = 0.424/a; q = 2/b; r = 0.183/c; // Coefficients of intercepts along three axes\n",
"h = 1/p;        // Reciprocate the first coefficient\n",
"k = 1/q;        // Reciprocate the second coefficient\n",
"l = 1/r;        // Reciprocate the third coefficient\n",
"printf('\nThe required miller indices are : (%d %d %d) ', h,k,l);\n",
"\n",
"// Result \n",
"// The required miller indices are : (1 1 2)  "
   ]
   }
,
{
		   "cell_type": "markdown",
		   "metadata": {},
		   "source": [
			"## Example 1.22: Interplanar_spacing_in_cubic_fcc_crystal.sce"
		   ]
		  },
  {
"cell_type": "code",
	   "execution_count": null,
	   "metadata": {
	    "collapsed": true
	   },
	   "outputs": [],
"source": [
"// Scilab Code Ex 1.22 Page-33 (2006)\n",
"clc; clear;\n",
"r = 1.746e-010;     // Atomic radius of lead atom, angstrom\n",
"a = 4*r/sqrt(2);    // Interatomic spacing, m\n",
"h = 1; k = 0; l = 0; // Miller Indices for planes in a cubic crystal\n",
"d_100 = a/(h^2+k^2+l^2)^(1/2);  // The interplanar spacing for cubic crystals, m\n",
"printf('\nThe interplanar spacing between consecutive (100) planes = %4.2f angstrom', d_100/1e-010);\n",
"h = 1; k = 1; l = 0; // Miller Indices for planes in a cubic crystal\n",
"d_110 = a/(h^2+k^2+l^2)^(1/2);  // The interplanar spacing for cubic crystals, m\n",
"printf('\nThe interplanar spacing between consecutive (110) planes = %5.3f angstrom', d_110/1e-010);\n",
"h = 1; k = 1; l = 1; // Miller Indices for planes in a cubic crystal\n",
"d_111 = a/(h^2+k^2+l^2)^(1/2);  // The interplanar spacing for cubic crystals, m\n",
"printf('\nThe interplanar spacing between consecutive (111) planes = %4.2f angstrom', d_111/1e-010);\n",
"// Result\n",
"// The interplanar spacing between consecutive (100) planes = 4.94 angstrom\n",
"// The interplanar spacing between consecutive (110) planes = 3.492 angstrom\n",
"// The interplanar spacing between consecutive (111) planes = 2.85 angstrom "
   ]
   }
,
{
		   "cell_type": "markdown",
		   "metadata": {},
		   "source": [
			"## Example 1.23: Wavelength_of_K_alpha_radiation_of_copper_using_Bohr_atom_model.sce"
		   ]
		  },
  {
"cell_type": "code",
	   "execution_count": null,
	   "metadata": {
	    "collapsed": true
	   },
	   "outputs": [],
"source": [
"// Scilab Code Ex 1.23 Page-34 (2006)\n",
"clc; clear;\n",
"e = 1.6e-019;   // Energy equivalent of 1 eV, J/eV\n",
"h = 6.626e-034;     // Planck's constant, Js\n",
"c = 3.0e+08;    // Speed of light, m/s\n",
"E_K = 13.6*29^2;    // Energy of electron in the K-shell\n",
"E_L = 13.6*29^2/4;  // Energy of electron in the L-shell\n",
"// As E_K - E_L = h*c/lambda, solving for lambda\n",
"lambda = h*c/((E_K - E_L)*e);       // Wavelength of K_alpha radiation of tungsten, m\n",
"printf('\nThe wavelength of K_alpha radiation of Cu = %5.3f angstrom', lambda/1e-010);\n",
"// Result\n",
"// The wavelength of K_alpha radiation of Cu = 1.448 angstrom "
   ]
   }
,
{
		   "cell_type": "markdown",
		   "metadata": {},
		   "source": [
			"## Example 1.24: Wavelength_of_K_alpha_radiation_of_tungesten.sce"
		   ]
		  },
  {
"cell_type": "code",
	   "execution_count": null,
	   "metadata": {
	    "collapsed": true
	   },
	   "outputs": [],
"source": [
"// Scilab Code Ex 1.24 Page-35 (2006)\n",
"clc; clear;\n",
"e = 1.6e-019;   // Energy equivalent of 1 eV, J/eV\n",
"h = 6.626e-034;     // Planck's constant, Js\n",
"c = 3.0e+08;    // Speed of light, m/s\n",
"E_K = 13.6*74^2;    // Energy of electron in the K-shell\n",
"E_L = 13.6*74^2/4;  // Energy of electron in the L-shell\n",
"// As E_K - E_L = h*c/lambda, solving for lambda\n",
"lambda = h*c/((E_K - E_L)*e);       // Wavelength of K_alpha radiation of tungsten, m\n",
"printf('\nThe wavelength of K_alpha radiation of tungsten = %4.2e angstrom', lambda/1e-010);\n",
"// Result\n",
"// The wavelength of K_alpha radiation of tungsten = 2.22e-01 angstrom "
   ]
   }
,
{
		   "cell_type": "markdown",
		   "metadata": {},
		   "source": [
			"## Example 1.25: Lattice_constants_of_copper_palladium_alloy_in_different_proportions.sce"
		   ]
		  },
  {
"cell_type": "code",
	   "execution_count": null,
	   "metadata": {
	    "collapsed": true
	   },
	   "outputs": [],
"source": [
"// Scilab Code Ex 1.25 Page-35 (2006)\n",
"clc; clear;\n",
"a_Cu = 3.61;    // Lattice constant of Cu, angstrom\n",
"a_Pd = 3.89;    // Lattice constant of Pd, angstrom\n",
"// For x = 20% of Pd\n",
"x = 0.20;   // Percentage of Pd in Cu-Pd alloy\n",
"a_Cu_Pd = ((1-x)*a_Cu + x*a_Pd);\n",
"printf('\nFor %2d percent of Pd in Cu-Pd alloy, a = %4.2f angstrom', x*100, a_Cu_Pd);\n",
"// For x = 40% of Pd\n",
"x = 0.40;   // Percentage of Pd in Cu-Pd alloy\n",
"a_Cu_Pd = ((1-x)*a_Cu + x*a_Pd);\n",
"printf('\nFor %2d percent of Pd in Cu-Pd alloy, a = %5.3f angstrom', x*100, a_Cu_Pd);\n",
"// For x = 60% of Pd\n",
"x = 0.60;   // Percentage of Pd in Cu-Pd alloy\n",
"a_Cu_Pd = ((1-x)*a_Cu + x*a_Pd);\n",
"printf('\nFor %2d percent of Pd in Cu-Pd alloy, a = %5.3f angstrom', x*100, a_Cu_Pd);\n",
"// For x = 80% of Pd\n",
"x = 0.80;   // Percentage of Pd in Cu-Pd alloy\n",
"a_Cu_Pd = ((1-x)*a_Cu + x*a_Pd);\n",
"printf('\nFor %2d percent of Pd in Cu-Pd alloy, a = %5.3f angstrom', x*100, a_Cu_Pd);\n",
"// Result\n",
"// For 20 percent of Pd in Cu-Pd alloy, a = 3.67 angstrom\n",
"// For 40 percent of Pd in Cu-Pd alloy, a = 3.722 angstrom\n",
"// For 60 percent of Pd in Cu-Pd alloy, a = 3.778 angstrom\n",
"// For 80 percent of Pd in Cu-Pd alloy, a = 3.834 angstrom "
   ]
   }
,
{
		   "cell_type": "markdown",
		   "metadata": {},
		   "source": [
			"## Example 1.26: Amount_of_required_Rh_in_Pt_to_change_the_unit_cell_volume.sce"
		   ]
		  },
  {
"cell_type": "code",
	   "execution_count": null,
	   "metadata": {
	    "collapsed": true
	   },
	   "outputs": [],
"source": [
"// Scilab Code Ex 1.26 Page-36 (2006)\n",
"clc; clear;\n",
"a_Rh = 3.80;    // Lattice constant of Rh, angstrom\n",
"a_Pt = 3.92;    // Lattice constant of Pt, angstrom\n",
"a_Pt_Rh = 3.78;    // Lattice constant of unit cell of Pt-Rh alloy, angstrom\n",
"V = (a_Pt*1e-08)^3; // Volume of unit cell of Pt, metre cube\n",
"V_90 = 0.9*V;   // 90 percent of the cell volume of Pt, metre cube\n",
"// For x = 20% of Rh in Pt-Rh alloy, we have\n",
"// a_Pt_Rh = ((1-x)*a_Pt + x*a_Rh), solving for x\n",
"x = poly(0, 'x');\n",
"x = roots (a_Pt_Rh - a_Pt + x*a_Pt - x*a_Rh);      // Amount of required Rh in Pt to change the unit cell volume\n",
"printf('\nThe amount of Rh required in Pt to change the unit cell volume = %4.2f percent', x);\n",
"// Result\n",
"// The amount of Rh required in Pt to change the unit cell volume = 1.17 percent "
   ]
   }
,
{
		   "cell_type": "markdown",
		   "metadata": {},
		   "source": [
			"## Example 1.27: Percent_volume_change_with_the_structural_change.sce"
		   ]
		  },
  {
"cell_type": "code",
	   "execution_count": null,
	   "metadata": {
	    "collapsed": true
	   },
	   "outputs": [],
"source": [
"// Scilab Code Ex 1.27 :Page-36 (2006)\n",
"clc; clear;\n",
"r_bcc = 0.126;     // Atomic radius of the iron atoms in the bcc structure, nm\n",
"r_fcc = 0.129;      // Atomic radius of the iron atoms in the fcc structure, nm\n",
"a_bcc = 4*r_bcc/sqrt(3);\n",
"a_fcc = 4*r_fcc/sqrt(2);\n",
"V_bcc = 2*a_bcc^3;      // Volume of bcc unit cell, nm cube\n",
"V_fcc = a_fcc^3;      // Volume of fcc unit cell, nm cube\n",
"delta_V = V_fcc - V_bcc;    // Change in volume from bcc to fcc structure, nm cube\n",
"V = V_bcc;\n",
"V_frac = delta_V/V;     // Fractional change in volume from bcc to fcc structure\n",
"printf('\nThe percentage change in volume from bcc to fcc structure = %3.1f percent', V_frac*100);\n",
"// Result\n",
"// The percentage change in volume from bcc to fcc structure = -1.4 percent "
   ]
   }
,
{
		   "cell_type": "markdown",
		   "metadata": {},
		   "source": [
			"## Example 1.2: Determining_type_of_niobium_cubic_structure.sce"
		   ]
		  },
  {
"cell_type": "code",
	   "execution_count": null,
	   "metadata": {
	    "collapsed": true
	   },
	   "outputs": [],
"source": [
"// Scilab Code Ex1.2 Page-14 (2006)\n",
"clc; clear;\n",
"r = 0.143e-09;  // Radius of Nb unit cell, m\n",
"d = 8.57e+03; // Density of Nb unit cell, kg/metre-cube\n",
"M = 92.91e-03;        // Atomic weight of Nb, kg per mole\n",
"N = 6.023D+23;    // Avogadro's No.\n",
"\n",
"// For fcc\n",
"a = 4*r/sqrt(2);    // Lattice parameter for fcc structure of Nb, m\n",
"n = a^3*d*N/M; // Number of lattice points per unit cell\n",
"if (modulo(n, int(n)) < 0.001) then\n",
"printf('\nThe number of atoms associated with the cell is %d, Nb should have fcc structure', int(n));\n",
"end\n",
"\n",
"// For bcc\n",
"a = 4*r/sqrt(3);    // Lattice parameter for bcc structure of Nb, m\n",
"n = a^3*d*N/M; // Number of lattice points per unit cell\n",
"if (modulo(n, int(n)) < 0.001) then\n",
"printf('\nThe number of atoms associated with the cell is %d, Nb should have bcc structure', int(n));\n",
"end\n",
"\n",
"// Result \n",
"// The number of atoms associated with the cell is 2, Nb should have bcc structure "
   ]
   }
,
{
		   "cell_type": "markdown",
		   "metadata": {},
		   "source": [
			"## Example 1.3: Lattice_constants_of_hcp_structure_of_Ti.sce"
		   ]
		  },
  {
"cell_type": "code",
	   "execution_count": null,
	   "metadata": {
	    "collapsed": true
	   },
	   "outputs": [],
"source": [
"// Scilab Code Ex1.3 : Page-17 (2006)\n",
"clc; clear;\n",
"V = 10.58e-29;  // Volume of the unit cell, metre cube\n",
"a = poly(0, 'a');      // Declare a variable\n",
"a = roots(3*sqrt(3)/2*1.58*a^3-V);        // First lattice parameter, m\n",
"c = 1.58*a(3);     // Third lattice parameter, m\n",
"printf('\nThe lattice parameters of hcp structure of Ti are:');\n",
"printf('\na = %4.2f angstorm, c = %4.2f angstorm', a(3)/1e-010, c/1e-010);\n",
"\n",
"// Result \n",
"// The lattice parameters of hcp structure of Ti are:\n",
"// a = 2.95 angstorm, c = 4.67 angstorm "
   ]
   }
,
{
		   "cell_type": "markdown",
		   "metadata": {},
		   "source": [
			"## Example 1.4: c_by_a_c_by_a_ratios_of_Mg_and_Cd.sce"
		   ]
		  },
  {
"cell_type": "code",
	   "execution_count": null,
	   "metadata": {
	    "collapsed": true
	   },
	   "outputs": [],
"source": [
"// Scilab Code Ex1.4 : Page-17 (2006)\n",
"clc; clear;\n",
"c_by_a_ratio = 1.633;   // Ideal c/a ratio\n",
"A = cell(2,4);  // Declare a cell\n",
"// Assign values to the elements of the cell from the table\n",
"A(1,1).entries = 'Mg';\n",
"A(2,1).entries = 'Cd';\n",
"A(1,2).entries = 5.21;\n",
"A(2,2).entries = 5.62;\n",
"A(1,3).entries = 3.21;\n",
"A(2,3).entries = 2.98;\n",
"A(1,4).entries = A(1,2).entries/A(1,3).entries;\n",
"A(2,4).entries = A(2,2).entries/A(2,3).entries;\n",
"if (A(1,4).entries - c_by_a_ratio) < 0.01 then\n",
"    printf('\n%s satisfies ideal c/a ratio and %s has large deviation from this value.', A(1,1).entries, A(2,1).entries);\n",
"else if (A(1,4).entries - c_by_a_ratio) < 0.01 then\n",
"    printf('\n%s satisfies ideal c/a ratio and %s has large deviation from this value.', A(2,1).entries, A(1,1).entries);       \n",
"    end\n",
"end\n",
"\n",
"// Result \n",
"// Mg satisfies ideal c/a ratio and Cd has large deviation from this value. "
   ]
   }
,
{
		   "cell_type": "markdown",
		   "metadata": {},
		   "source": [
			"## Example 1.5: Lattice_constant_of_NaCl_unit_cell.sce"
		   ]
		  },
  {
"cell_type": "code",
	   "execution_count": null,
	   "metadata": {
	    "collapsed": true
	   },
	   "outputs": [],
"source": [
"// Scilab Code Ex 1.5 : Page-18 (2006)\n",
"clc; clear;5\n",
"M_Na = 23;        // Atomic weight of Na, gram per mole\n",
"M_Cl = 35.5;        // Atomic weight of Cl, gram per mole\n",
"d = 2.18e+06;    // Density of Nacl salt, g per metre cube\n",
"n = 4;    // No. of atoms per unit cell for an fcc lattice of NaCl crystal\n",
"N = 6.023D+23;    // Avogadro's No.\n",
"// Volume of the unit cell is given by\n",
"// a^3 = M*n/(N*d)\n",
"// Solving for a\n",
"a = (n*(M_Na + M_Cl)/(d*N))^(1/3);    // Lattice constant of unit cell of NaCl\n",
"printf('\nLattice constant for the NaCl crystal = %4.2f angstorm', a/1e-010);\n",
"\n",
"// Result \n",
"// Lattice constant for the NaCl crystal = 5.63 angsotrm "
   ]
   }
,
{
		   "cell_type": "markdown",
		   "metadata": {},
		   "source": [
			"## Example 1.6: Ionic_packing_factor_of_fcc_KCl.sce"
		   ]
		  },
  {
"cell_type": "code",
	   "execution_count": null,
	   "metadata": {
	    "collapsed": true
	   },
	   "outputs": [],
"source": [
"// Scilab Code Ex 1.6 : Page-18 (2006)\n",
"clc; clear;\n",
"r = 1.33;       // Ionic radii of K+ ion, angstrom\n",
"R = 1.81;     // Ionic radii of Cl- ion, angstrom\n",
"n = 4;    // No. of atoms per unit cell for an fcc lattice of NaCl crystal\n",
"APF = (n*(4*%pi*r^3/3)+n*(4*%pi*R^3/3))/(2*r+2*R)^3;    // Atomic packing factor of fcc KCl\n",
"printf('\nThe ionic packing factor of fcc KCl = %4.2f', APF);\n",
"\n",
"// Result \n",
"// The ionic packing factor of fcc KCl = 0.56 \n",
""
   ]
   }
,
{
		   "cell_type": "markdown",
		   "metadata": {},
		   "source": [
			"## Example 1.7: The_number_of_atoms_in_unit_cells_of_diamond_and_graphite.sce"
		   ]
		  },
  {
"cell_type": "code",
	   "execution_count": null,
	   "metadata": {
	    "collapsed": true
	   },
	   "outputs": [],
"source": [
"// Scilab Code Ex 1.7 : Page-20 (2006)\n",
"clc; clear;\n",
"N = 6.023e+23;  // Avogadro's number\n",
"M = 12.01e-03;  // Atomic weight of diamond/graphite, kg\n",
"\n",
"// For diamond\n",
"a = 3.568e-010;     // Lattice parameter of diamond, m\n",
"rho = 3.518e+03;    // Density of diamond, kg per metre cube\n",
"n = a^3*rho*N/M;    // Number of atoms in the unit cell of diamond structure\n",
"printf('\nThe number of atoms in the unit cell of diamond structure = %1d', n);\n",
"\n",
"// For graphite\n",
"a = 2.451e-010;     // First lattice parameter of graphite, m\n",
"c = 6.701e-010;     // Third lattice parameter of graphite, m\n",
"rho = 2.2589e+03;    // Density of graphite, kg per metre cube\n",
"V = 3*sqrt(3)*a^2*c/2;  // Volume of hexagonal unit cell of graphite, metre cube\n",
"n = V*rho*N/M;    // Number of atoms in the unit cell of graphite structure\n",
"printf('\nThe number of atoms in the unit cell of graphite structure = %2d', ceil(n));\n",
"\n",
"// Result \n",
"// The number of atoms in the unit cell of diamond structure = 8\n",
"// The number of atoms in the unit cell of graphite structure = 12 \n",
""
   ]
   }
,
{
		   "cell_type": "markdown",
		   "metadata": {},
		   "source": [
			"## Example 1.8: Densities_of_si_and_GaAs.sce"
		   ]
		  },
  {
"cell_type": "code",
	   "execution_count": null,
	   "metadata": {
	    "collapsed": true
	   },
	   "outputs": [],
"source": [
"// Scilab Code Ex 1.8 :Page-21 (2006)\n",
"clc; clear;\n",
"N = 6.023e+23;  // Avogadro's number\n",
"\n",
"// For silicon crystallized into diamond structure\n",
"a = 5.43e-08;   // Lattice parameter of Si, cm\n",
"M = 28.1;   // Atomic mass of Si, g/mol\n",
"n = 8/a^3;       // Number of atoms per unit volume, atoms per cm cube\n",
"d = n*M/N;      // Density of Si crytal, g/cm\n",
"printf('\nThe density of crystallized Si = %4.2f gram per cm cube', d);\n",
"\n",
"// For GaAs crystallized into Zinc Blende structure\n",
"a = 5.65e-08;   // Lattice parameter of GaAs, cm\n",
"M_Ga = 69.7;    // Atomic weight of Ga, g/mol\n",
"M_As = 74.9;    // Atomic weight of As, g/mol\n",
"M = M_Ga + M_As;   // Atomic weight of GaAs, g/mol\n",
"n = 4/a^3;       // Number of atoms per unit volume, atoms per cm cube\n",
"d = n*M/N;      // Density of Si crytal, g/cm\n",
"printf('\nThe density of crystallized GaAs = %5.3f gram per cm cube', d);\n",
"\n",
"// Result \n",
"// The density of crystallized Si = 2.33 gram per cm cube\n",
"// The density of crystallized GaAs = 5.324 gram per cm cube 12 \n",
""
   ]
   }
,
{
		   "cell_type": "markdown",
		   "metadata": {},
		   "source": [
			"## Example 1.9: Lattice_parameters_of_GaP_and_GaAs.sce"
		   ]
		  },
  {
"cell_type": "code",
	   "execution_count": null,
	   "metadata": {
	    "collapsed": true
	   },
	   "outputs": [],
"source": [
"// Scilab Code Ex 1.9 :Page-21 (2006)\n",
"clc; clear;\n",
"N = 6.023e+23;  // Avogadro's number\n",
"\n",
"r1 = 0.122e-09;     // Ionic radii of Ga, m\n",
"r2 = 0.125e-09;     // Ionic radii of As, m\n",
"r3 = 0.11e-09;     // Ionic radii of P, m\n",
"\n",
"// For GaP\n",
"r = r1 + r3;        // Interatomic separation between Ga and P atoms, m\n",
"a = 4*r/3^(1/2);    // Lattice parameter of GaP structure, m\n",
"printf('\nThe lattice parameter of GaP structure = %5.3f angstrom', a/1e-10);\n",
"\n",
"// For GaAs\n",
"r = r1 + r2;        // Interatomic separation between Ga and As atoms, m\n",
"a = 4*r/3^(1/2);    // Lattice parameter of GaP structure, m\n",
"printf('\nThe lattice parameter of GaAs structure = %4.2f angstrom', a/1e-10);\n",
"\n",
"// Result \n",
"// The lattice parameter of GaP structure = 5.358 angstrom\n",
"// The lattice parameter of GaAs structure = 5.70 angstrom \n",
""
   ]
   }
],
"metadata": {
		  "kernelspec": {
		   "display_name": "Scilab",
		   "language": "scilab",
		   "name": "scilab"
		  },
		  "language_info": {
		   "file_extension": ".sce",
		   "help_links": [
			{
			 "text": "MetaKernel Magics",
			 "url": "https://github.com/calysto/metakernel/blob/master/metakernel/magics/README.md"
			}
		   ],
		   "mimetype": "text/x-octave",
		   "name": "scilab",
		   "version": "0.7.1"
		  }
		 },
		 "nbformat": 4,
		 "nbformat_minor": 0
}
