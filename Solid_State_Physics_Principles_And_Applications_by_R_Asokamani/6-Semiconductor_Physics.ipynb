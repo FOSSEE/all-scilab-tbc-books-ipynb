{
"cells": [
 {
		   "cell_type": "markdown",
	   "metadata": {},
	   "source": [
       "# Chapter 6: Semiconductor Physics"
	   ]
	},
{
		   "cell_type": "markdown",
		   "metadata": {},
		   "source": [
			"## Example 6.10: Energy_gap_of_Al_doped_GaAs.sce"
		   ]
		  },
  {
"cell_type": "code",
	   "execution_count": null,
	   "metadata": {
	    "collapsed": true
	   },
	   "outputs": [],
"source": [
"// Scilab Code Ex6.10: Page-200 (2006)\n",
"clc; clear;\n",
"x = 0.38;   // Al concentration in host GaAs\n",
"E_g = 1.424 + 1.266*x + 0.266*x^2;    // Band gap of GaAs as a function of x, eV\n",
"printf('\nThe energy band gap of 38 percent Al doped in GaAs = %5.3f eV', E_g);\n",
"\n",
"// Result \n",
"// The energy band gap of 38 percent Al doped in GaAs = 1.943 eV "
   ]
   }
,
{
		   "cell_type": "markdown",
		   "metadata": {},
		   "source": [
			"## Example 6.11: Resistivity_of_Ge_at_20_degree_celsius.sce"
		   ]
		  },
  {
"cell_type": "code",
	   "execution_count": null,
	   "metadata": {
	    "collapsed": true
	   },
	   "outputs": [],
"source": [
"// Scilab Code Ex6.11: Page-200 (2006)\n",
"clc; clear;\n",
"k = 1.38e-023;  // Boltzmann constant, J/mol/K\n",
"e = 1.6e-019;   // Energy equivalent of 1 eV, J/eV\n",
"rho_40 = 0.2;   // Resistivity of Ge at 40 degree celsius, ohm-m\n",
"T1 = 40+273;    // Temperature at which resistivity of Ge becomes 0.2 ohm-m, K\n",
"T2 = 20+273;    // Temperature at which resistivity of Ge is to be calculated, K\n",
"E_g = 0.7;  // Band gap of Ge, eV\n",
"// As rho = exp(E_g/(2*k*T)), so for rho_20\n",
"rho_20 = rho_40*exp(E_g/(2*k/e)*(1/T2-1/T1));  // Resistivity of Ge at 20 degree celsius, ohm-m\n",
"printf('\nThe resistivity of Ge at 20 degree celsius = %3.1f ohm-m', rho_20);\n",
"\n",
"// Result \n",
"// The resistivity of Ge at 20 degree celsius = 0.5 ohm-m "
   ]
   }
,
{
		   "cell_type": "markdown",
		   "metadata": {},
		   "source": [
			"## Example 6.12: Donor_ionization_energies_at_room_temperature.sce"
		   ]
		  },
  {
"cell_type": "code",
	   "execution_count": null,
	   "metadata": {
	    "collapsed": true
	   },
	   "outputs": [],
"source": [
"// Scilab Code Ex6.12: Page-203 (2006)\n",
"clc; clear;\n",
"k = 1.38e-023;  // Boltzmann constant, J/mol/K\n",
"e = 1.6e-019;   // Energy equivalent of 1 eV, J/eV\n",
"T = 300;        // Room temperature of the material, K\n",
"K_Si = 11.7;    // Dielectric constant of Si\n",
"K_Ge = 15.8;    // Dielectric constant of Ge\n",
"m = 9.1e-031;   // Mass of an electron, kg\n",
"m_eff = 0.2;    // Effective masses of the electron in both Si and Ge, kg\n",
"E_ion_Si = 13.6*m_eff/K_Si^2;   // Donor ionization energy of Si, eV\n",
"E_ion_Ge = 13.6*m_eff/K_Ge^2;   // Donor ionization energy of Ge, eV\n",
"E = k*T/e;      // Energy available for electrons at 300 K, eV\n",
"printf('\nThe donor ionization energy of Si = %6.4f eV', E_ion_Si);\n",
"printf('\nThe donor ionization energy of Ge = %6.4f eV', E_ion_Ge);\n",
"printf('\nThe energy available for electrons at 300 K = %5.3f eV', E);\n",
"\n",
"// Result \n",
"// The donor ionization energy of Si = 0.0199 eV\n",
"// The donor ionization energy of Ge = 0.0109 eV\n",
"// The energy available for electrons at 300 K = 0.026 eV \n",
""
   ]
   }
,
{
		   "cell_type": "markdown",
		   "metadata": {},
		   "source": [
			"## Example 6.13: Radius_of_the_orbit_of_the_fifth_valence_electron_of_the_acceptor_impurity_in_Ge.sce"
		   ]
		  },
  {
"cell_type": "code",
	   "execution_count": null,
	   "metadata": {
	    "collapsed": true
	   },
	   "outputs": [],
"source": [
"// Scilab Code Ex6.13: Page-203 (2006)\n",
"clc; clear;\n",
"e = 1.6e-019;   // Energy equivalent of 1 eV, J/eV\n",
"epsilon = 15.8;  // Dielectric constant of Ge   \n",
"m = 9.1e-031;   // Mass of an electron, kg\n",
"m_e = 0.2*m;     // Effective masses of the electron in Ge, kg\n",
"a_Ge = 5.65;    // Lattice parameter of Ge, angstrom\n",
"A_d = 0.53*epsilon*(m/m_e);    // Radius of donor atom, angstrom\n",
"printf('\nThe radius of the orbits of fifth valence electron of acceptor impurity = %2d angstrom', ceil(A_d));\n",
"printf('\nThis radius is %d times the lattice constant of Ge', ceil(A_d/a_Ge));\n",
"\n",
"// Result \n",
"// The radius of the orbits of fifth valence electron = 42 angstrom \n",
"// This radius is 8 times the lattice constant of Ge "
   ]
   }
,
{
		   "cell_type": "markdown",
		   "metadata": {},
		   "source": [
			"## Example 6.14: Mobility_of_electron_and_hole_concentration_in_Ge.sce"
		   ]
		  },
  {
"cell_type": "code",
	   "execution_count": null,
	   "metadata": {
	    "collapsed": true
	   },
	   "outputs": [],
"source": [
"// Scilab Code Ex6.14: Page-203 (2006)\n",
"clc; clear;\n",
"e = 1.6e-019;   // Energy equivalent of 1 eV, J/eV\n",
"tau = 1e-012;   // Life time of electron in Ge, s\n",
"m = 9.1e-031;   // Mass of an electron, kg\n",
"m_e = 0.5*m;     // Effective masses of the electron in Ge, kg\n",
"mu = e*tau/m_e;   // Mobility of electron in Ge, m-square/V-s\n",
"n_i = 2.5e+019;     // Intrinsic carrier concentration of Ge at room temperature, per metre cube\n",
"n_Ge = 5e+028;  // Concentration of Ge atoms, per metre cube\n",
"n_e = n_Ge/1e+06;    // Concentration of impurity atoms, per metre cube\n",
"// From law of mass action, n_e*n_h = n_i^2, solving for n_h\n",
"n_h = n_i^2/n_e;    // Concentration of holes, per metre cube\n",
"\n",
"printf('\nThis mobility of electron in Ge = %4d cm-square/V-s', mu/1e-04);\n",
"printf('\nThis concentration of holes in Ge = %4.2e per metre cube', n_h);\n",
"\n",
"// Result \n",
"// This mobility of electron in Ge = 3516 cm-square/V-s\n",
"// This concentration of holes in Ge = 1.25e+016 per metre cube \n",
""
   ]
   }
,
{
		   "cell_type": "markdown",
		   "metadata": {},
		   "source": [
			"## Example 6.15: Hole_concentration_in_Ge_at_room_temperature.sce"
		   ]
		  },
  {
"cell_type": "code",
	   "execution_count": null,
	   "metadata": {
	    "collapsed": true
	   },
	   "outputs": [],
"source": [
"// Scilab Code Ex6.15: Page-204 (2006)\n",
"clc; clear;\n",
"n_i = 2.5e+019;     // Intrinsic carrier concentration of Ge at room temperature, per metre cube\n",
"n_Ge = 5e+028;  // Concentration of Ge atoms, per metre cube\n",
"delta_d = 1e+06;    // Rate at which pentavalent impurity is doped in pure Ge, ppm\n",
"n_e = n_Ge/delta_d;    // Concentration of impurity atoms, per metre cube\n",
"// From law of mass action, n_e*n_h = n_i^2, solving for n_h\n",
"n_h = n_i^2/n_e;    // Concentration of holes, per metre cube\n",
"\n",
"printf('\nThis concentration of holes in Ge = %4.2e per metre cube', n_h);\n",
"\n",
"// Result \n",
"// This concentration of holes in Ge = 1.25e+016 per metre cube \n",
""
   ]
   }
,
{
		   "cell_type": "markdown",
		   "metadata": {},
		   "source": [
			"## Example 6.16: Hall_effect_in_n_type_semiconductor.sce"
		   ]
		  },
  {
"cell_type": "code",
	   "execution_count": null,
	   "metadata": {
	    "collapsed": true
	   },
	   "outputs": [],
"source": [
"// Scilab Code Ex6.16: Page-205 (2006)\n",
"clc; clear;\n",
"e = 1.6e-019;   // Charge on an electron, C\n",
"mu = 1400e-04;  // Mobility of electron, metre-square per volt per sec\n",
"l = 300-06;    // Length of the n-type semiconductor, m\n",
"w = 100-06;    // Width of the n-type semiconductor, m\n",
"t = 20-06;     // Thickness of the n-type semiconductor, m\n",
"N_D = 4.5e+021; // Doping concentration of donor impurities, per metre-cube\n",
"V = 10;     // Biasing voltage for semiconductor, V\n",
"B_prep = 1; // Perpendicular magnetic field to which the semiconductor is subjected, tesla\n",
"\n",
"// Part (a)\n",
"n = N_D;    // Electron concentration in semiconductor, per cc\n",
"R_H = -1/(n*e); // Hall Co-efficient, per C per metre cube\n",
"\n",
"// Part (b)\n",
"rho = 1/(n*e*mu);       // Resistivity of semiconductor, ohm-m\n",
"R = rho*l/(w*t);    // Resistance of the semiconductor, ohm\n",
"I = V/R;    // Current through the semiconductor, A\n",
"V_H = R_H*I*B_prep/t;   // Hall voltage, V\n",
"\n",
"// Part (c)\n",
"theta_H = atand(-mu*B_prep);    // Hall angle, degrees\n",
"\n",
"\n",
"printf('\nHall coefficient, R_H = %4.2e per C metre cube', R_H);\n",
"printf('\nHall voltage, V_H = %4.2f V', abs(V_H));\n",
"printf('\nHall angle, theta_H = %4.2f degree', theta_H);\n",
"\n",
"// Result \n",
"// Hall coefficient, R_H = -1.39e-003 per C metre cube\n",
"// Hall voltage, V_H = 0.45 V\n",
"// Hall angle, theta_H = -7.97 degree \n",
""
   ]
   }
,
{
		   "cell_type": "markdown",
		   "metadata": {},
		   "source": [
			"## Example 6.1: Crystal_absorption_wavelengths_from_energy_gaps.sce"
		   ]
		  },
  {
"cell_type": "code",
	   "execution_count": null,
	   "metadata": {
	    "collapsed": true
	   },
	   "outputs": [],
"source": [
"// Scilab Code Ex6.1: Page-190 (2006)\n",
"clc; clear;\n",
"S = cell(4,2);      // Declare a 4X2 cell\n",
"// Enter material names\n",
"S(1,1).entries = 'Si'; S(2,1).entries = 'GaAs'; S(3,1).entries = 'GaP'; S(4,1).entries = 'ZnS';\n",
"// Enter energy band gap values\n",
"S(1,2).entries = 1.11; S(2,2).entries = 1.42; S(3,2).entries = 2.26; S(4,2).entries = 3.60;\n",
"h = 6.626e-034;     // Planck's constant, Js\n",
"c = 3e+08;      // Speed of light, m/s\n",
"e = 1.6e-019;   // Energy equivalent of 1 eV, J/eV\n",
"printf('\n______________________________________________________');\n",
"printf('\nMaterial      E_g (eV)    Critical Wavelength (micron)');\n",
"printf('\n______________________________________________________');\n",
"for i = 1:1:4\n",
"    lambda = h*c/(S(i,2).entries*e);\n",
"    printf('\n%8s        %4.2f           %5.3f', S(i, 1).entries, S(i, 2).entries, lambda/1e-06);\n",
"end\n",
"printf('\n______________________________________________________');\n",
"\n",
"// Result \n",
"// ______________________________________________________\n",
"// Material      E_g (eV)    Critical Wavelength (micron)\n",
"// ______________________________________________________\n",
"//      Si        1.11           1.119\n",
"//    GaAs        1.42           0.875\n",
"//     GaP        2.26           0.550\n",
"//     ZnS        3.60           0.345\n",
"// ______________________________________________________ "
   ]
   }
,
{
		   "cell_type": "markdown",
		   "metadata": {},
		   "source": [
			"## Example 6.2: Phonon_energy_to_lift_the_electron_from_valence_band_to_conduction_band.sce"
		   ]
		  },
  {
"cell_type": "code",
	   "execution_count": null,
	   "metadata": {
	    "collapsed": true
	   },
	   "outputs": [],
"source": [
"// Scilab Code Ex6.2: Page-192 (2006)\n",
"clc; clear;\n",
"c = 3e+08;      // Speed of light, m/s\n",
"h = 6.626e-034;     // Planck's constant, Js\n",
"e = 1.6e-019;   // Energy equivalent of 1 eV, J/eV\n",
"omega = 2e+014;      // Wave vector involved in phonon energy, rad per sec\n",
"f = omega/(2*%pi);   // Frequency of the wave, Hz \n",
"E = h*f/e;        // Phonon energy involved in Si to lift the electron, eV\n",
"printf('\nThe phonon energy involved in Si = %5.3f eV which is insufficient to lift an electron.', E);\n",
"\n",
"// Result \n",
"// The phonon energy involved in Si = 0.132 eV which is insufficient to lift an electron. "
   ]
   }
,
{
		   "cell_type": "markdown",
		   "metadata": {},
		   "source": [
			"## Example 6.3: Densitites_of_Si_and_GaAs.sce"
		   ]
		  },
  {
"cell_type": "code",
	   "execution_count": null,
	   "metadata": {
	    "collapsed": true
	   },
	   "outputs": [],
"source": [
"// Scilab Code Ex6.3: Page-192 (2006)\n",
"clc; clear;\n",
"N_A = 6.023e+023;   // Avogadro's number\n",
"// For Si\n",
"A = 28.1;   // Atomic weight of Si, g/mol\n",
"a = 5.43e-08;   // Lattice constant for Si, cm\n",
"n = 8/a^3;  // Number of atoms per unit volume, atoms/cc\n",
"rho = n*A/N_A;  // Density of Si, g/cc\n",
"printf('\nThe density of Si = %4.2f atoms per cc', rho);\n",
"// For GaAs\n",
"A = 69.7+74.9;   // Atomic weight of GaAs, g/mol\n",
"a = 5.65e-08;   // Lattice constant for Si, cm\n",
"n = 4/a^3;  // Number of atoms per unit volume, atoms/cc\n",
"rho = n*A/N_A;  // Density of GaAs, g/cc\n",
"printf('\nThe density of GaAs = %5.3f atoms per cc', rho);\n",
"\n",
"// Result \n",
"// The density of Si = 2.33 atoms per cc\n",
"// The density of GaAs = 5.324 atoms per cc "
   ]
   }
,
{
		   "cell_type": "markdown",
		   "metadata": {},
		   "source": [
			"## Example 6.4: Intrinsic_carrier_concentration_of_GaAs_at_300_K.sce"
		   ]
		  },
  {
"cell_type": "code",
	   "execution_count": null,
	   "metadata": {
	    "collapsed": true
	   },
	   "outputs": [],
"source": [
"// Scilab Code Ex6.4: Page-196 (2006)\n",
"clc; clear;\n",
"m = 9.11e-031;  // Electron Rest Mass , kg\n",
"k = 1.38e-023;  // Boltzmann constant, J/mol/K\n",
"h = 6.626e-034; // Planck's constant, Js\n",
"T = 300;        // Room temperature, K\n",
"m_e = 0.068*m;    // Mass of electron, kg\n",
"m_h = 0.56*m;   // Mass of hole, kg\n",
"E_g = 1.42*1.6e-019;     // Energy band gap for GaAs, J\n",
"n_i = 2*(2*%pi*k*T/h^2)^(3/2)*(m_e*m_h)^(3/4)*exp(-E_g/(2*k*T));\n",
"printf('\nThe Intrinsic carrier concentration of GaAs at 300 K = %1.0e per metre cube', n_i);\n",
"\n",
"// Result \n",
"// The intrinsic carrier concentration of GaAs at 300 K = 3e+012 per metre cube "
   ]
   }
,
{
		   "cell_type": "markdown",
		   "metadata": {},
		   "source": [
			"## Example 6.5: Position_of_Fermi_level_of_Si_at_room_temperature.sce"
		   ]
		  },
  {
"cell_type": "code",
	   "execution_count": null,
	   "metadata": {
	    "collapsed": true
	   },
	   "outputs": [],
"source": [
"// Scilab Code Ex6.5: Page-197 (2006)\n",
"clc; clear;\n",
"m = 9.11e-031;  // Electron Rest Mass , kg\n",
"e = 1.6e-019;   // Energy equivalent of 1 eV, J/eV\n",
"k = 1.38e-023;  // Boltzmann constant, J/mol/K\n",
"T = 300;        // Room temperature, K\n",
"m_e = 1.1*m;    // Mass of electron, kg\n",
"m_h = 0.56*m;   // Mass of hole, kg\n",
"E_g = 1.1;     // Energy band gap for GaAs, J\n",
"E_F = E_g/2+3/4*k*T/e*log(m_h/m_e);   // Position of Fermi level of Si at room temperature, eV\n",
"printf('\nThe position of Fermi level of Si at room temperature = %5.3f eV', E_F);\n",
"printf('\nThe fermi level in this case is shifted downward from the midpoint (0.55 eV) in the forbiddem gap.');\n",
"\n",
"// Result \n",
"// The position of Fermi level of Si at room temperature = 0.537 eV \n",
"// The fermi level in this case is shifted downward from the midpoint (0.55 eV) in the forbiddem gap."
   ]
   }
,
{
		   "cell_type": "markdown",
		   "metadata": {},
		   "source": [
			"## Example 6.6: Intrinsic_resistivity_of_Ge_at_room_temperature.sce"
		   ]
		  },
  {
"cell_type": "code",
	   "execution_count": null,
	   "metadata": {
	    "collapsed": true
	   },
	   "outputs": [],
"source": [
"// Scilab Code Ex6.6: Page-197 (2006)\n",
"clc; clear;\n",
"e = 1.6e-019;   // Electronic charge, C\n",
"n_i = 2.15e+013;    // Carrier density of Ge at room temperature, per cc\n",
"mu_e = 3900;    // Mobility of electron, cm-square/V-s\n",
"mu_h = 1900;    // Mobility of hole, cm-square/V-s\n",
"sigma_i = e*(mu_e+mu_h)*n_i;    // Intrinsic conductivity of Ge, mho per m\n",
"rho_i = 1/sigma_i;  // Intrinsic resistivity of Ge at room temperature, ohm-m\n",
"printf('\nThe intrinsic resistivity of Ge at room temperature = %2d ohm-cm', rho_i);\n",
"\n",
"\n",
"// Result \n",
"// The intrinsic resistivity of Ge at room temperature = 50 ohm-cm "
   ]
   }
,
{
		   "cell_type": "markdown",
		   "metadata": {},
		   "source": [
			"## Example 6.7: Conductivity_in_CdS.sce"
		   ]
		  },
  {
"cell_type": "code",
	   "execution_count": null,
	   "metadata": {
	    "collapsed": true
	   },
	   "outputs": [],
"source": [
"// Scilab Code Ex6.7: Page-197 (2006)\n",
"clc; clear;\n",
"m = 9.1e-031;   // Mass of an electron, kg\n",
"e = 1.6e-019;   // Electronic charge, C\n",
"k = 1.38e-023;  // Boltzmann constant, J/mol/K\n",
"T = 30;    // Given temperature, K\n",
"n = 1e+22;    // Carrier density of CdS, per metre cube\n",
"mu = 1e-02;     // Mobility of electron, metre-square/V-s\n",
"sigma = e*mu*n;    // Conductivity of CdS, mho per m\n",
"printf('\nThe conductivity of CdS sample = %2d mho per m', ceil(sigma));\n",
"m_eff = 0.1*m;  // Effective mass of the charge carries, kg\n",
"t = m_eff*sigma/(n*e^2);  // Average time between successive collisions, s\n",
"printf('\nThe average time between successive collisions = %4.2e sec', t);\n",
"// We have 1/2*m_eff*v^2 = 3/2*k*T, solving for v\n",
"v = sqrt(3*k*T/m_eff);    // Velocity of charrge carriers, m/s\n",
"l = v*t;    // Mean free distance travelled by the carrier, m\n",
"printf('\nThe mean free distance travelled by the carrier = %4.2e m', l);\n",
"\n",
"// Result \n",
"// The conductivity of CdS sample = 16 mho per m\n",
"// The average time between successive collisions = 5.69e-015 sec\n",
"// The mean free distance travelled by the carrier = 6.64e-010 m "
   ]
   }
,
{
		   "cell_type": "markdown",
		   "metadata": {},
		   "source": [
			"## Example 6.8: Energy_Gap_of_Ge.sce"
		   ]
		  },
  {
"cell_type": "code",
	   "execution_count": null,
	   "metadata": {
	    "collapsed": true
	   },
	   "outputs": [],
"source": [
"// Scilab Code Ex6.8: Page-199 (2006)\n",
"clc; clear;\n",
"k = 1.38e-023;  // Boltzmann constant, J/mol/K\n",
"e = 1.6e-019;   // Energy equivalent of 1 eV, J/eV\n",
"T = [385 455 556 714];      // Temperatures of Ge, K\n",
"rho = [0.028 0.0061 0.0013 0.000274];   // Electrical resistivity, ohm-m\n",
"Tinv = zeros(4);    // Create an empty row matrix for 1/T\n",
"ln_sigma = zeros(4);  // Create the empty row matrix for log(sigma)\n",
"for i = 1:1:4\n",
"    Tinv(i) = 1/T(i);\n",
"    log_sigma(i) = log(1/rho(i));\n",
"end\n",
"// Plot the graph\n",
"plot(Tinv, log_sigma);\n",
"a=gca(); // Handle on axes entity\n",
"a.box='off';\n",
"a.x_location = 'origin'; \n",
"a.y_location = 'origin';\n",
"a.x_label\n",
"a.y_label \n",
"a.title\n",
"type(a.title);\n",
"x_label=a.x_label;\n",
"x_label.text='1/T';\n",
"x_label.font_style= 5;\n",
"y_label=a.y_label;\n",
"y_label.text='ln (sigma)';\n",
"y_label.font_style= 5;\n",
"t=a.title;\n",
"t.foreground=9;\n",
"t.font_size=4;\n",
"t.font_style=5;\n",
"t.text='Plot of ln (sigma) vs 1/T';\n",
"// Calculate slope\n",
"slope = (log_sigma(2)-log_sigma(1))/(Tinv(2)-Tinv(1));\n",
"E_g = abs(2*slope*k);        // Energy gap of Ge, J\n",
"printf('\nThe energy gap of Ge = %5.3f eV', E_g/e);\n",
"\n",
"// Result \n",
"// The energy gap of Ge = 0.658 eV "
   ]
   }
,
{
		   "cell_type": "markdown",
		   "metadata": {},
		   "source": [
			"## Example 6.9: Energy_gap_and_emission_wavelength_of_Al_doped_GaAs.sce"
		   ]
		  },
  {
"cell_type": "code",
	   "execution_count": null,
	   "metadata": {
	    "collapsed": true
	   },
	   "outputs": [],
"source": [
"// Scilab Code Ex6.9: Page-199 (2006)\n",
"clc; clear;\n",
"h = 6.626e-34;  // Planck's constant, Js\n",
"c = 3e+08;      // Speed of light, m/s\n",
"e = 1.6e-019;   // Energy equivalent of 1 eV, J/eV\n",
"x = 0.07;   // Al concentration in host GaAs\n",
"E_g = 1.424 + 1.266*x + 0.266*x^2;    // Band gap of GaAs as a function of x, eV\n",
"// As E_g = h*c/lambda, solving for lambda\n",
"lambda = h*c/(E_g*e);   // Emission wavelength of light, m\n",
"printf('\nThe energy band gap of Al doped GaAs = %4.2f eV', E_g);\n",
"printf('\nThe emission wavelength of light = %4.2f micron', lambda/1e-06);\n",
"printf('\nThe Al atoms go as substitutional impurity in the host material.');\n",
"\n",
"// Result \n",
"// The energy band gap of Al doped GaAs = 1.51 eV\n",
"// The emission wavelength of light = 0.82 micron\n",
"// The Al atoms go as substitutional impurity in the host material."
   ]
   }
],
"metadata": {
		  "kernelspec": {
		   "display_name": "Scilab",
		   "language": "scilab",
		   "name": "scilab"
		  },
		  "language_info": {
		   "file_extension": ".sce",
		   "help_links": [
			{
			 "text": "MetaKernel Magics",
			 "url": "https://github.com/calysto/metakernel/blob/master/metakernel/magics/README.md"
			}
		   ],
		   "mimetype": "text/x-octave",
		   "name": "scilab",
		   "version": "0.7.1"
		  }
		 },
		 "nbformat": 4,
		 "nbformat_minor": 0
}
